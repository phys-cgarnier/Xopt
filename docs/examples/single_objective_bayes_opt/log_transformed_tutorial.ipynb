{
 "cells": [
  {
   "cell_type": "markdown",
   "metadata": {
    "collapsed": false,
    "jupyter": {
     "outputs_hidden": false
    }
   },
   "source": [
    "## Log-Transformed Acqusition Functions\n",
    "A common problem when using acquisition functions is vanishing gradients in regions\n",
    "of parameter space that are nearly zero. This happens often when using Expected\n",
    "Improvement or Constraint probability weighting. To address this, [1] suggests taking\n",
    " the log of the acquisition function to make numerical optimization more robust. We\n",
    " demonstrate this feature in Xopt. Compare acquisition function plots shown here to\n",
    " those in the constrained BO tutorial.\n",
    "\n",
    "[1] Ament, Sebastian, et al. \"Unexpected improvements to expected improvement for bayesian optimization.\" arXiv preprint arXiv:2310.20708 (2023)."
   ]
  },
  {
   "cell_type": "markdown",
   "metadata": {
    "collapsed": false,
    "jupyter": {
     "outputs_hidden": false
    }
   },
   "source": [
    "## Define the test problem\n",
    "Here we define a simple optimization problem, where we attempt to minimize the sin\n",
    "function in the domian [0,2*pi]. Note that the function used to evaluate the\n",
    "objective function takes a dictionary as input and returns a dictionary as the output."
   ]
  },
  {
   "cell_type": "code",
   "execution_count": null,
   "metadata": {
    "ExecuteTime": {
     "end_time": "2023-11-08T16:44:44.151601700Z",
     "start_time": "2023-11-08T16:44:41.785755200Z"
    },
    "execution": {
     "iopub.execute_input": "2024-09-13T15:56:11.880260Z",
     "iopub.status.busy": "2024-09-13T15:56:11.879978Z",
     "iopub.status.idle": "2024-09-13T15:56:13.391609Z",
     "shell.execute_reply": "2024-09-13T15:56:13.391207Z"
    },
    "jupyter": {
     "outputs_hidden": false
    }
   },
   "outputs": [],
   "source": [
    "import torch\n",
    "from xopt.vocs import VOCS\n",
    "from xopt.evaluator import Evaluator\n",
    "from xopt.generators.bayesian import ExpectedImprovementGenerator\n",
    "from xopt import Xopt\n",
    "import math\n",
    "import numpy as np\n",
    "\n",
    "# define variables and function objectives\n",
    "vocs = VOCS(\n",
    "    variables={\"x\": [0, 2 * math.pi]},\n",
    "    objectives={\"f\": \"MINIMIZE\"},\n",
    ")"
   ]
  },
  {
   "cell_type": "code",
   "execution_count": null,
   "metadata": {
    "ExecuteTime": {
     "end_time": "2023-11-08T16:44:44.166012100Z",
     "start_time": "2023-11-08T16:44:44.153601500Z"
    },
    "execution": {
     "iopub.execute_input": "2024-09-13T15:56:13.394137Z",
     "iopub.status.busy": "2024-09-13T15:56:13.393864Z",
     "iopub.status.idle": "2024-09-13T15:56:13.396379Z",
     "shell.execute_reply": "2024-09-13T15:56:13.396126Z"
    },
    "jupyter": {
     "outputs_hidden": false
    }
   },
   "outputs": [],
   "source": [
    "# define a test function to optimize\n",
    "\n",
    "\n",
    "def sin_function(input_dict):\n",
    "    return {\"f\": np.sin(input_dict[\"x\"])}"
   ]
  },
  {
   "cell_type": "markdown",
   "metadata": {
    "collapsed": false,
    "jupyter": {
     "outputs_hidden": false
    }
   },
   "source": [
    "## Create Xopt objects\n",
    "Create the evaluator to evaluate our test function and create a generator that uses\n",
    "the Upper Confidence Bound acquisition function to perform Bayesian Optimization."
   ]
  },
  {
   "cell_type": "code",
   "execution_count": null,
   "metadata": {
    "ExecuteTime": {
     "end_time": "2023-11-08T16:44:45.112199400Z",
     "start_time": "2023-11-08T16:44:44.167984400Z"
    },
    "execution": {
     "iopub.execute_input": "2024-09-13T15:56:13.398451Z",
     "iopub.status.busy": "2024-09-13T15:56:13.398313Z",
     "iopub.status.idle": "2024-09-13T15:56:13.403549Z",
     "shell.execute_reply": "2024-09-13T15:56:13.403271Z"
    },
    "jupyter": {
     "outputs_hidden": false
    }
   },
   "outputs": [],
   "source": [
    "evaluator = Evaluator(function=sin_function)\n",
    "generator = ExpectedImprovementGenerator(\n",
    "    vocs=vocs, log_transform_acquisition_function=True\n",
    ")\n",
    "X = Xopt(evaluator=evaluator, generator=generator, vocs=vocs)"
   ]
  },
  {
   "cell_type": "markdown",
   "metadata": {
    "collapsed": false,
    "jupyter": {
     "outputs_hidden": false
    }
   },
   "source": [
    "## Generate and evaluate initial points\n",
    "To begin optimization, we must generate some random initial data points. The first call\n",
    "to `X.step()` will generate and evaluate a number of randomly points specified by the\n",
    " generator. Note that if we add data to xopt before calling `X.step()` by assigning\n",
    " the data to `X.data`, calls to `X.step()` will ignore the random generation and\n",
    " proceed to generating points via Bayesian optimization."
   ]
  },
  {
   "cell_type": "code",
   "execution_count": null,
   "metadata": {
    "ExecuteTime": {
     "end_time": "2023-11-08T16:44:45.127199300Z",
     "start_time": "2023-11-08T16:44:45.113198Z"
    },
    "execution": {
     "iopub.execute_input": "2024-09-13T15:56:13.406118Z",
     "iopub.status.busy": "2024-09-13T15:56:13.405975Z",
     "iopub.status.idle": "2024-09-13T15:56:13.414690Z",
     "shell.execute_reply": "2024-09-13T15:56:13.414421Z"
    },
    "jupyter": {
     "outputs_hidden": false
    }
   },
   "outputs": [],
   "source": [
    "# call X.random_evaluate() to generate + evaluate 3 initial points\n",
    "X.random_evaluate(2)\n",
    "\n",
    "# inspect the gathered data\n",
    "X.data"
   ]
  },
  {
   "cell_type": "markdown",
   "metadata": {
    "collapsed": false,
    "jupyter": {
     "outputs_hidden": false
    }
   },
   "source": [
    "## Do bayesian optimization steps\n",
    "To perform optimization we simply call `X.step()` in a loop. This allows us to do\n",
    "intermediate tasks in between optimization steps, such as examining the model and\n",
    "acquisition function at each step (as we demonstrate here)."
   ]
  },
  {
   "cell_type": "code",
   "execution_count": null,
   "metadata": {
    "execution": {
     "iopub.execute_input": "2024-09-13T15:56:13.437438Z",
     "iopub.status.busy": "2024-09-13T15:56:13.437289Z",
     "iopub.status.idle": "2024-09-13T15:56:15.157135Z",
     "shell.execute_reply": "2024-09-13T15:56:15.156796Z"
    }
   },
   "outputs": [],
   "source": [
    "n_steps = 5\n",
    "\n",
    "# test points for plotting\n",
    "test_x = torch.linspace(*X.vocs.bounds.flatten(), 50).double()\n",
    "\n",
    "for i in range(n_steps):\n",
    "    # get the Gaussian process model from the generator\n",
    "    model = X.generator.train_model()\n",
    "\n",
    "    # visualize model\n",
    "    fig, ax = generator.visualize_model(n_grid=len(test_x))\n",
    "\n",
    "    # plot true function\n",
    "    true_f = sin_function({\"x\": test_x})[\"f\"]\n",
    "    gt = ax[0].plot(test_x, true_f, \"C1--\")\n",
    "\n",
    "    # do the optimization step\n",
    "    X.step()"
   ]
  },
  {
   "cell_type": "code",
   "execution_count": null,
   "metadata": {
    "ExecuteTime": {
     "end_time": "2023-11-08T16:44:49.363169200Z",
     "start_time": "2023-11-08T16:44:49.349197400Z"
    },
    "execution": {
     "iopub.execute_input": "2024-09-13T15:56:15.158901Z",
     "iopub.status.busy": "2024-09-13T15:56:15.158715Z",
     "iopub.status.idle": "2024-09-13T15:56:15.162599Z",
     "shell.execute_reply": "2024-09-13T15:56:15.162315Z"
    },
    "jupyter": {
     "outputs_hidden": false
    }
   },
   "outputs": [],
   "source": [
    "# access the collected data\n",
    "X.data"
   ]
  },
  {
   "cell_type": "markdown",
   "metadata": {
    "collapsed": false,
    "jupyter": {
     "outputs_hidden": false
    }
   },
   "source": [
    "## Getting the optimization result\n",
    "To get the best point (without evaluating it) we ask the generator to\n",
    "predict the optimum based on the posterior mean."
   ]
  },
  {
   "cell_type": "code",
   "execution_count": null,
   "metadata": {
    "ExecuteTime": {
     "end_time": "2023-11-08T16:44:49.482721500Z",
     "start_time": "2023-11-08T16:44:49.365196200Z"
    },
    "execution": {
     "iopub.execute_input": "2024-09-13T15:56:15.163957Z",
     "iopub.status.busy": "2024-09-13T15:56:15.163869Z",
     "iopub.status.idle": "2024-09-13T15:56:15.187723Z",
     "shell.execute_reply": "2024-09-13T15:56:15.187485Z"
    },
    "jupyter": {
     "outputs_hidden": false
    }
   },
   "outputs": [],
   "source": [
    "X.generator.get_optimum()"
   ]
  },
  {
   "cell_type": "markdown",
   "metadata": {
    "collapsed": false,
    "jupyter": {
     "outputs_hidden": false
    }
   },
   "source": [
    "## Customizing optimization\n",
    "Each generator has a set of options that can be modified to effect optimization behavior"
   ]
  },
  {
   "cell_type": "code",
   "execution_count": null,
   "metadata": {
    "ExecuteTime": {
     "end_time": "2023-11-08T16:44:49.483478200Z",
     "start_time": "2023-11-08T16:44:49.454966900Z"
    },
    "execution": {
     "iopub.execute_input": "2024-09-13T15:56:15.189165Z",
     "iopub.status.busy": "2024-09-13T15:56:15.189075Z",
     "iopub.status.idle": "2024-09-13T15:56:15.192104Z",
     "shell.execute_reply": "2024-09-13T15:56:15.191888Z"
    },
    "jupyter": {
     "outputs_hidden": false
    }
   },
   "outputs": [],
   "source": [
    "X.generator.dict()"
   ]
  }
 ],
 "metadata": {
  "kernelspec": {
   "display_name": "Python 3 (ipykernel)",
   "language": "python",
   "name": "python3"
  },
  "language_info": {
   "codemirror_mode": {
    "name": "ipython",
    "version": 3
   },
   "file_extension": ".py",
   "mimetype": "text/x-python",
   "name": "python",
   "nbconvert_exporter": "python",
   "pygments_lexer": "ipython3",
   "version": "3.12.6"
  }
 },
 "nbformat": 4,
 "nbformat_minor": 4
}
