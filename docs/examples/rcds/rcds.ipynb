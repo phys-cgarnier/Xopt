{
 "cells": [
  {
   "cell_type": "markdown",
   "id": "6f4b8676-940b-4a69-b495-df62bbc6e2fa",
   "metadata": {},
   "source": [
    "## RCDS Optimization\n",
    "\n",
    "In this example we demonstrate RCDS optimization."
   ]
  },
  {
   "cell_type": "code",
   "execution_count": null,
   "id": "d05700a3-6853-4dae-bc87-3f9f37dea446",
   "metadata": {
    "ExecuteTime": {
     "end_time": "2023-10-26T22:16:31.208636600Z",
     "start_time": "2023-10-26T22:16:31.201806800Z"
    },
    "execution": {
     "iopub.execute_input": "2024-09-13T15:59:42.506192Z",
     "iopub.status.busy": "2024-09-13T15:59:42.505855Z",
     "iopub.status.idle": "2024-09-13T15:59:42.511391Z",
     "shell.execute_reply": "2024-09-13T15:59:42.510900Z"
    }
   },
   "outputs": [],
   "source": [
    "# If you encounter the \"Initializing libomp.dylib, but found libomp.dylib already initialized.\" error\n",
    "# Please run this cell\n",
    "import os"
   ]
  },
  {
   "cell_type": "code",
   "execution_count": null,
   "id": "78534aeb-5ab2-4a3c-964c-4e080c7e953f",
   "metadata": {
    "ExecuteTime": {
     "end_time": "2023-10-26T22:16:34.557495800Z",
     "start_time": "2023-10-26T22:16:31.210637400Z"
    },
    "execution": {
     "iopub.execute_input": "2024-09-13T15:59:42.514619Z",
     "iopub.status.busy": "2024-09-13T15:59:42.514326Z",
     "iopub.status.idle": "2024-09-13T15:59:43.518693Z",
     "shell.execute_reply": "2024-09-13T15:59:43.518423Z"
    }
   },
   "outputs": [],
   "source": [
    "import numpy as np\n",
    "from xopt.generators.rcds.rcds import RCDSGenerator\n",
    "from xopt.vocs import VOCS\n",
    "from xopt.evaluator import Evaluator\n",
    "from xopt import Xopt\n",
    "from tqdm.auto import tqdm\n",
    "import warnings\n",
    "\n",
    "\n",
    "warnings.filterwarnings(\"ignore\")\n",
    "\n",
    "os.environ[\"KMP_DUPLICATE_LIB_OK\"] = \"True\""
   ]
  },
  {
   "cell_type": "markdown",
   "id": "fe8297c8-90e2-4e40-ab0b-63a9fe655aed",
   "metadata": {},
   "source": [
    "### RCDS test problem\n",
    "\n",
    "This test problem is a 2-D quadratic function."
   ]
  },
  {
   "cell_type": "code",
   "execution_count": null,
   "id": "35171e8a-ea8f-4cbb-b1a0-d01213e0bbcc",
   "metadata": {
    "ExecuteTime": {
     "end_time": "2023-10-26T22:16:34.571463700Z",
     "start_time": "2023-10-26T22:16:34.559463800Z"
    },
    "execution": {
     "iopub.execute_input": "2024-09-13T15:59:43.520425Z",
     "iopub.status.busy": "2024-09-13T15:59:43.520301Z",
     "iopub.status.idle": "2024-09-13T15:59:43.522279Z",
     "shell.execute_reply": "2024-09-13T15:59:43.522067Z"
    }
   },
   "outputs": [],
   "source": [
    "def f_RCDS_minimize(input_dict):\n",
    "    p = []\n",
    "    for i in range(2):\n",
    "        p.append(input_dict[f\"p{i}\"])\n",
    "\n",
    "    obj = np.linalg.norm(p)\n",
    "    outcome_dict = {\"f\": obj}\n",
    "\n",
    "    return outcome_dict"
   ]
  },
  {
   "cell_type": "markdown",
   "id": "9638b784-fa2f-4a94-900c-c66c8b0ea58b",
   "metadata": {},
   "source": [
    "### Run RCDS on the test problem (YAML method)"
   ]
  },
  {
   "cell_type": "code",
   "execution_count": null,
   "id": "8fac03d4-64f7-4773-973c-850b977a888e",
   "metadata": {
    "ExecuteTime": {
     "end_time": "2023-10-26T22:16:34.602490200Z",
     "start_time": "2023-10-26T22:16:34.576462200Z"
    },
    "execution": {
     "iopub.execute_input": "2024-09-13T15:59:43.523651Z",
     "iopub.status.busy": "2024-09-13T15:59:43.523561Z",
     "iopub.status.idle": "2024-09-13T15:59:43.530675Z",
     "shell.execute_reply": "2024-09-13T15:59:43.530462Z"
    }
   },
   "outputs": [],
   "source": [
    "YAML = \"\"\"\n",
    "max_evaluations: 100\n",
    "generator:\n",
    "    name: rcds\n",
    "    x0: null\n",
    "    init_mat: null\n",
    "    noise: 0.00001\n",
    "    step: 0.01\n",
    "    tol: 0.00001\n",
    "evaluator:\n",
    "    function: __main__.f_RCDS_minimize\n",
    "vocs:\n",
    "    variables:\n",
    "        p0: [0, 1]\n",
    "        p1: [0, 1]\n",
    "    objectives:\n",
    "        f: MINIMIZE\n",
    "\"\"\"\n",
    "\n",
    "X = Xopt.from_yaml(YAML)\n",
    "X"
   ]
  },
  {
   "cell_type": "code",
   "execution_count": null,
   "id": "e16ab267-8b5e-4616-b552-2b0410c5b75f",
   "metadata": {
    "ExecuteTime": {
     "end_time": "2023-10-26T22:16:35.201462800Z",
     "start_time": "2023-10-26T22:16:34.607463300Z"
    },
    "execution": {
     "iopub.execute_input": "2024-09-13T15:59:43.531988Z",
     "iopub.status.busy": "2024-09-13T15:59:43.531902Z",
     "iopub.status.idle": "2024-09-13T15:59:43.627575Z",
     "shell.execute_reply": "2024-09-13T15:59:43.627260Z"
    },
    "tags": []
   },
   "outputs": [],
   "source": [
    "X.run()"
   ]
  },
  {
   "cell_type": "markdown",
   "id": "54acb14d-2b25-4f2e-a3e9-fecb61af552f",
   "metadata": {},
   "source": [
    "Now you can go directly to the [Visualization](#Visualization) section and check out the results."
   ]
  },
  {
   "cell_type": "markdown",
   "id": "4d688915-bdca-4d0f-baaa-5c50cfd80d79",
   "metadata": {},
   "source": [
    "### Run RCDS on the test problem (API method)"
   ]
  },
  {
   "cell_type": "markdown",
   "id": "8f0a6f75-7f92-47ee-828d-ad7435932cf2",
   "metadata": {},
   "source": [
    "#### VOCS\n",
    "\n",
    "We'll set the bounds for all the variables pi to [0, 1]."
   ]
  },
  {
   "cell_type": "code",
   "execution_count": null,
   "id": "bd028b25-f395-43ed-8473-2dc950ff72c3",
   "metadata": {
    "ExecuteTime": {
     "end_time": "2023-10-26T22:16:35.216462Z",
     "start_time": "2023-10-26T22:16:35.204461300Z"
    },
    "execution": {
     "iopub.execute_input": "2024-09-13T15:59:43.629280Z",
     "iopub.status.busy": "2024-09-13T15:59:43.629198Z",
     "iopub.status.idle": "2024-09-13T15:59:43.630885Z",
     "shell.execute_reply": "2024-09-13T15:59:43.630675Z"
    }
   },
   "outputs": [],
   "source": [
    "n_var = 2"
   ]
  },
  {
   "cell_type": "code",
   "execution_count": null,
   "id": "c99026b0-f595-4247-9695-6d0b067ceeca",
   "metadata": {
    "ExecuteTime": {
     "end_time": "2023-10-26T22:16:35.239487Z",
     "start_time": "2023-10-26T22:16:35.218462900Z"
    },
    "execution": {
     "iopub.execute_input": "2024-09-13T15:59:43.632079Z",
     "iopub.status.busy": "2024-09-13T15:59:43.632001Z",
     "iopub.status.idle": "2024-09-13T15:59:43.633834Z",
     "shell.execute_reply": "2024-09-13T15:59:43.633606Z"
    }
   },
   "outputs": [],
   "source": [
    "variables = {}\n",
    "for i in range(n_var):\n",
    "    variables[f\"p{i}\"] = [0, 1]\n",
    "\n",
    "vocs = VOCS(\n",
    "    variables=variables,\n",
    "    objectives={\"f\": \"MINIMIZE\"},\n",
    ")"
   ]
  },
  {
   "cell_type": "code",
   "execution_count": null,
   "id": "0af5b8c7-4b3a-4a62-b92b-539899d11109",
   "metadata": {
    "ExecuteTime": {
     "end_time": "2023-10-26T22:16:35.247462100Z",
     "start_time": "2023-10-26T22:16:35.233463200Z"
    },
    "execution": {
     "iopub.execute_input": "2024-09-13T15:59:43.635029Z",
     "iopub.status.busy": "2024-09-13T15:59:43.634959Z",
     "iopub.status.idle": "2024-09-13T15:59:43.637122Z",
     "shell.execute_reply": "2024-09-13T15:59:43.636877Z"
    }
   },
   "outputs": [],
   "source": [
    "vocs"
   ]
  },
  {
   "cell_type": "markdown",
   "id": "5354659c-cc30-4d70-8659-0fefd43ef0f0",
   "metadata": {},
   "source": [
    "#### Evaluator"
   ]
  },
  {
   "cell_type": "code",
   "execution_count": null,
   "id": "efafda0b-7282-4027-a1f3-f96454c114bd",
   "metadata": {
    "ExecuteTime": {
     "end_time": "2023-10-26T22:16:35.290491Z",
     "start_time": "2023-10-26T22:16:35.249462300Z"
    },
    "execution": {
     "iopub.execute_input": "2024-09-13T15:59:43.638411Z",
     "iopub.status.busy": "2024-09-13T15:59:43.638325Z",
     "iopub.status.idle": "2024-09-13T15:59:43.640821Z",
     "shell.execute_reply": "2024-09-13T15:59:43.640554Z"
    }
   },
   "outputs": [],
   "source": [
    "evaluator = Evaluator(function=f_RCDS_minimize)"
   ]
  },
  {
   "cell_type": "markdown",
   "id": "d6c58dcc-0b45-4408-a428-1681098a6a4a",
   "metadata": {},
   "source": [
    "#### Generator"
   ]
  },
  {
   "cell_type": "code",
   "execution_count": null,
   "id": "445daa23-5f97-4a82-bd59-57d9cbae6ac1",
   "metadata": {
    "ExecuteTime": {
     "end_time": "2023-10-26T22:16:35.296460300Z",
     "start_time": "2023-10-26T22:16:35.263463700Z"
    },
    "execution": {
     "iopub.execute_input": "2024-09-13T15:59:43.642261Z",
     "iopub.status.busy": "2024-09-13T15:59:43.642177Z",
     "iopub.status.idle": "2024-09-13T15:59:43.643903Z",
     "shell.execute_reply": "2024-09-13T15:59:43.643704Z"
    }
   },
   "outputs": [],
   "source": [
    "generator = RCDSGenerator(vocs=vocs)"
   ]
  },
  {
   "cell_type": "code",
   "execution_count": null,
   "id": "346fad29",
   "metadata": {
    "ExecuteTime": {
     "end_time": "2023-10-26T22:16:35.297491800Z",
     "start_time": "2023-10-26T22:16:35.290491Z"
    },
    "execution": {
     "iopub.execute_input": "2024-09-13T15:59:43.645153Z",
     "iopub.status.busy": "2024-09-13T15:59:43.645069Z",
     "iopub.status.idle": "2024-09-13T15:59:43.647124Z",
     "shell.execute_reply": "2024-09-13T15:59:43.646925Z"
    }
   },
   "outputs": [],
   "source": [
    "generator.model_dump()"
   ]
  },
  {
   "cell_type": "markdown",
   "id": "f4981983-1e64-43a1-ac90-f88546f9650a",
   "metadata": {},
   "source": [
    "#### Run the optimization"
   ]
  },
  {
   "cell_type": "code",
   "execution_count": null,
   "id": "10c77281-f49c-4cf7-bb2d-8a278cf00e23",
   "metadata": {
    "ExecuteTime": {
     "end_time": "2023-10-26T22:16:35.307490500Z",
     "start_time": "2023-10-26T22:16:35.296460300Z"
    },
    "execution": {
     "iopub.execute_input": "2024-09-13T15:59:43.648452Z",
     "iopub.status.busy": "2024-09-13T15:59:43.648370Z",
     "iopub.status.idle": "2024-09-13T15:59:43.651226Z",
     "shell.execute_reply": "2024-09-13T15:59:43.650959Z"
    }
   },
   "outputs": [],
   "source": [
    "X = Xopt.from_yaml(YAML)"
   ]
  },
  {
   "cell_type": "code",
   "execution_count": null,
   "id": "78b104b2-7b6b-40b6-9a5c-f84b0e547403",
   "metadata": {
    "ExecuteTime": {
     "end_time": "2023-10-26T22:16:35.907460800Z",
     "start_time": "2023-10-26T22:16:35.308463400Z"
    },
    "execution": {
     "iopub.execute_input": "2024-09-13T15:59:43.652620Z",
     "iopub.status.busy": "2024-09-13T15:59:43.652534Z",
     "iopub.status.idle": "2024-09-13T15:59:43.768391Z",
     "shell.execute_reply": "2024-09-13T15:59:43.768044Z"
    },
    "tags": []
   },
   "outputs": [],
   "source": [
    "for i in tqdm(range(X.max_evaluations)):\n",
    "    X.step()"
   ]
  },
  {
   "cell_type": "markdown",
   "id": "9808d9af-a815-4995-911a-43bd9eb105da",
   "metadata": {},
   "source": [
    "### Visualization"
   ]
  },
  {
   "cell_type": "code",
   "execution_count": null,
   "id": "651d6821-8069-4efb-8bad-56a87f7240e8",
   "metadata": {
    "ExecuteTime": {
     "end_time": "2023-10-26T22:16:36.402079200Z",
     "start_time": "2023-10-26T22:16:35.911052600Z"
    },
    "execution": {
     "iopub.execute_input": "2024-09-13T15:59:43.770887Z",
     "iopub.status.busy": "2024-09-13T15:59:43.770759Z",
     "iopub.status.idle": "2024-09-13T15:59:44.070288Z",
     "shell.execute_reply": "2024-09-13T15:59:44.070022Z"
    }
   },
   "outputs": [],
   "source": [
    "X.data.plot(y=\"f\")"
   ]
  }
 ],
 "metadata": {
  "kernelspec": {
   "display_name": "Python 3 (ipykernel)",
   "language": "python",
   "name": "python3"
  },
  "language_info": {
   "codemirror_mode": {
    "name": "ipython",
    "version": 3
   },
   "file_extension": ".py",
   "mimetype": "text/x-python",
   "name": "python",
   "nbconvert_exporter": "python",
   "pygments_lexer": "ipython3",
   "version": "3.12.6"
  },
  "widgets": {
   "application/vnd.jupyter.widget-state+json": {
    "state": {
     "0464f9bccf1248feb2ae2081538d7b1d": {
      "model_module": "@jupyter-widgets/base",
      "model_module_version": "2.0.0",
      "model_name": "LayoutModel",
      "state": {
       "_model_module": "@jupyter-widgets/base",
       "_model_module_version": "2.0.0",
       "_model_name": "LayoutModel",
       "_view_count": null,
       "_view_module": "@jupyter-widgets/base",
       "_view_module_version": "2.0.0",
       "_view_name": "LayoutView",
       "align_content": null,
       "align_items": null,
       "align_self": null,
       "border_bottom": null,
       "border_left": null,
       "border_right": null,
       "border_top": null,
       "bottom": null,
       "display": null,
       "flex": null,
       "flex_flow": null,
       "grid_area": null,
       "grid_auto_columns": null,
       "grid_auto_flow": null,
       "grid_auto_rows": null,
       "grid_column": null,
       "grid_gap": null,
       "grid_row": null,
       "grid_template_areas": null,
       "grid_template_columns": null,
       "grid_template_rows": null,
       "height": null,
       "justify_content": null,
       "justify_items": null,
       "left": null,
       "margin": null,
       "max_height": null,
       "max_width": null,
       "min_height": null,
       "min_width": null,
       "object_fit": null,
       "object_position": null,
       "order": null,
       "overflow": null,
       "padding": null,
       "right": null,
       "top": null,
       "visibility": null,
       "width": null
      }
     },
     "3d977298874a42d1b7432d67c99d5395": {
      "model_module": "@jupyter-widgets/base",
      "model_module_version": "2.0.0",
      "model_name": "LayoutModel",
      "state": {
       "_model_module": "@jupyter-widgets/base",
       "_model_module_version": "2.0.0",
       "_model_name": "LayoutModel",
       "_view_count": null,
       "_view_module": "@jupyter-widgets/base",
       "_view_module_version": "2.0.0",
       "_view_name": "LayoutView",
       "align_content": null,
       "align_items": null,
       "align_self": null,
       "border_bottom": null,
       "border_left": null,
       "border_right": null,
       "border_top": null,
       "bottom": null,
       "display": null,
       "flex": null,
       "flex_flow": null,
       "grid_area": null,
       "grid_auto_columns": null,
       "grid_auto_flow": null,
       "grid_auto_rows": null,
       "grid_column": null,
       "grid_gap": null,
       "grid_row": null,
       "grid_template_areas": null,
       "grid_template_columns": null,
       "grid_template_rows": null,
       "height": null,
       "justify_content": null,
       "justify_items": null,
       "left": null,
       "margin": null,
       "max_height": null,
       "max_width": null,
       "min_height": null,
       "min_width": null,
       "object_fit": null,
       "object_position": null,
       "order": null,
       "overflow": null,
       "padding": null,
       "right": null,
       "top": null,
       "visibility": null,
       "width": null
      }
     },
     "523c02e7168e4463af9859b2a2b945f7": {
      "model_module": "@jupyter-widgets/base",
      "model_module_version": "2.0.0",
      "model_name": "LayoutModel",
      "state": {
       "_model_module": "@jupyter-widgets/base",
       "_model_module_version": "2.0.0",
       "_model_name": "LayoutModel",
       "_view_count": null,
       "_view_module": "@jupyter-widgets/base",
       "_view_module_version": "2.0.0",
       "_view_name": "LayoutView",
       "align_content": null,
       "align_items": null,
       "align_self": null,
       "border_bottom": null,
       "border_left": null,
       "border_right": null,
       "border_top": null,
       "bottom": null,
       "display": null,
       "flex": null,
       "flex_flow": null,
       "grid_area": null,
       "grid_auto_columns": null,
       "grid_auto_flow": null,
       "grid_auto_rows": null,
       "grid_column": null,
       "grid_gap": null,
       "grid_row": null,
       "grid_template_areas": null,
       "grid_template_columns": null,
       "grid_template_rows": null,
       "height": null,
       "justify_content": null,
       "justify_items": null,
       "left": null,
       "margin": null,
       "max_height": null,
       "max_width": null,
       "min_height": null,
       "min_width": null,
       "object_fit": null,
       "object_position": null,
       "order": null,
       "overflow": null,
       "padding": null,
       "right": null,
       "top": null,
       "visibility": null,
       "width": null
      }
     },
     "92816b6214464fbeacc423f505253df6": {
      "model_module": "@jupyter-widgets/controls",
      "model_module_version": "2.0.0",
      "model_name": "ProgressStyleModel",
      "state": {
       "_model_module": "@jupyter-widgets/controls",
       "_model_module_version": "2.0.0",
       "_model_name": "ProgressStyleModel",
       "_view_count": null,
       "_view_module": "@jupyter-widgets/base",
       "_view_module_version": "2.0.0",
       "_view_name": "StyleView",
       "bar_color": null,
       "description_width": ""
      }
     },
     "a8e34b28670e42518d5302ec3737a09e": {
      "model_module": "@jupyter-widgets/controls",
      "model_module_version": "2.0.0",
      "model_name": "HTMLModel",
      "state": {
       "_dom_classes": [],
       "_model_module": "@jupyter-widgets/controls",
       "_model_module_version": "2.0.0",
       "_model_name": "HTMLModel",
       "_view_count": null,
       "_view_module": "@jupyter-widgets/controls",
       "_view_module_version": "2.0.0",
       "_view_name": "HTMLView",
       "description": "",
       "description_allow_html": false,
       "layout": "IPY_MODEL_3d977298874a42d1b7432d67c99d5395",
       "placeholder": "​",
       "style": "IPY_MODEL_e7afd5ff3dec48b993eec540f6f6ea3d",
       "tabbable": null,
       "tooltip": null,
       "value": " 100/100 [00:00&lt;00:00, 958.09it/s]"
      }
     },
     "b20b85efefdd48eea89d08c6f34c9996": {
      "model_module": "@jupyter-widgets/controls",
      "model_module_version": "2.0.0",
      "model_name": "HTMLStyleModel",
      "state": {
       "_model_module": "@jupyter-widgets/controls",
       "_model_module_version": "2.0.0",
       "_model_name": "HTMLStyleModel",
       "_view_count": null,
       "_view_module": "@jupyter-widgets/base",
       "_view_module_version": "2.0.0",
       "_view_name": "StyleView",
       "background": null,
       "description_width": "",
       "font_size": null,
       "text_color": null
      }
     },
     "cdb8edf0dc034465a7770e52e980ced6": {
      "model_module": "@jupyter-widgets/base",
      "model_module_version": "2.0.0",
      "model_name": "LayoutModel",
      "state": {
       "_model_module": "@jupyter-widgets/base",
       "_model_module_version": "2.0.0",
       "_model_name": "LayoutModel",
       "_view_count": null,
       "_view_module": "@jupyter-widgets/base",
       "_view_module_version": "2.0.0",
       "_view_name": "LayoutView",
       "align_content": null,
       "align_items": null,
       "align_self": null,
       "border_bottom": null,
       "border_left": null,
       "border_right": null,
       "border_top": null,
       "bottom": null,
       "display": null,
       "flex": null,
       "flex_flow": null,
       "grid_area": null,
       "grid_auto_columns": null,
       "grid_auto_flow": null,
       "grid_auto_rows": null,
       "grid_column": null,
       "grid_gap": null,
       "grid_row": null,
       "grid_template_areas": null,
       "grid_template_columns": null,
       "grid_template_rows": null,
       "height": null,
       "justify_content": null,
       "justify_items": null,
       "left": null,
       "margin": null,
       "max_height": null,
       "max_width": null,
       "min_height": null,
       "min_width": null,
       "object_fit": null,
       "object_position": null,
       "order": null,
       "overflow": null,
       "padding": null,
       "right": null,
       "top": null,
       "visibility": null,
       "width": null
      }
     },
     "de683211fe2044c79f27449a3784392f": {
      "model_module": "@jupyter-widgets/controls",
      "model_module_version": "2.0.0",
      "model_name": "HBoxModel",
      "state": {
       "_dom_classes": [],
       "_model_module": "@jupyter-widgets/controls",
       "_model_module_version": "2.0.0",
       "_model_name": "HBoxModel",
       "_view_count": null,
       "_view_module": "@jupyter-widgets/controls",
       "_view_module_version": "2.0.0",
       "_view_name": "HBoxView",
       "box_style": "",
       "children": [
        "IPY_MODEL_e6c7597d5cef42e2a8c179c23dc66bfa",
        "IPY_MODEL_fce367fa747c48c4a66d47e11a0b64f1",
        "IPY_MODEL_a8e34b28670e42518d5302ec3737a09e"
       ],
       "layout": "IPY_MODEL_523c02e7168e4463af9859b2a2b945f7",
       "tabbable": null,
       "tooltip": null
      }
     },
     "e6c7597d5cef42e2a8c179c23dc66bfa": {
      "model_module": "@jupyter-widgets/controls",
      "model_module_version": "2.0.0",
      "model_name": "HTMLModel",
      "state": {
       "_dom_classes": [],
       "_model_module": "@jupyter-widgets/controls",
       "_model_module_version": "2.0.0",
       "_model_name": "HTMLModel",
       "_view_count": null,
       "_view_module": "@jupyter-widgets/controls",
       "_view_module_version": "2.0.0",
       "_view_name": "HTMLView",
       "description": "",
       "description_allow_html": false,
       "layout": "IPY_MODEL_0464f9bccf1248feb2ae2081538d7b1d",
       "placeholder": "​",
       "style": "IPY_MODEL_b20b85efefdd48eea89d08c6f34c9996",
       "tabbable": null,
       "tooltip": null,
       "value": "100%"
      }
     },
     "e7afd5ff3dec48b993eec540f6f6ea3d": {
      "model_module": "@jupyter-widgets/controls",
      "model_module_version": "2.0.0",
      "model_name": "HTMLStyleModel",
      "state": {
       "_model_module": "@jupyter-widgets/controls",
       "_model_module_version": "2.0.0",
       "_model_name": "HTMLStyleModel",
       "_view_count": null,
       "_view_module": "@jupyter-widgets/base",
       "_view_module_version": "2.0.0",
       "_view_name": "StyleView",
       "background": null,
       "description_width": "",
       "font_size": null,
       "text_color": null
      }
     },
     "fce367fa747c48c4a66d47e11a0b64f1": {
      "model_module": "@jupyter-widgets/controls",
      "model_module_version": "2.0.0",
      "model_name": "FloatProgressModel",
      "state": {
       "_dom_classes": [],
       "_model_module": "@jupyter-widgets/controls",
       "_model_module_version": "2.0.0",
       "_model_name": "FloatProgressModel",
       "_view_count": null,
       "_view_module": "@jupyter-widgets/controls",
       "_view_module_version": "2.0.0",
       "_view_name": "ProgressView",
       "bar_style": "success",
       "description": "",
       "description_allow_html": false,
       "layout": "IPY_MODEL_cdb8edf0dc034465a7770e52e980ced6",
       "max": 100.0,
       "min": 0.0,
       "orientation": "horizontal",
       "style": "IPY_MODEL_92816b6214464fbeacc423f505253df6",
       "tabbable": null,
       "tooltip": null,
       "value": 100.0
      }
     }
    },
    "version_major": 2,
    "version_minor": 0
   }
  }
 },
 "nbformat": 4,
 "nbformat_minor": 5
}
