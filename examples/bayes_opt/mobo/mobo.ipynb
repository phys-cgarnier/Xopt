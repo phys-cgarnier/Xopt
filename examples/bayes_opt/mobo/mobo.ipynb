{
 "cells": [
  {
   "cell_type": "markdown",
   "metadata": {
    "pycharm": {
     "name": "#%% md\n"
    }
   },
   "source": [
    "\n",
    "# Multi-objective Bayesian Optimization\n",
    "\n",
    "\n",
    "TNK function\n",
    "$n=2$ variables:\n",
    "$x_i \\in [0, \\pi], i=1,2$\n",
    "\n",
    "Objectives:\n",
    "- $f_i(x) = x_i$\n",
    "\n",
    "Constraints:\n",
    "- $g_1(x) = -x_1^2 -x_2^2 + 1 + 0.1 \\cos\\left(16 \\arctan \\frac{x_1}{x_2}\\right) \\le 0$\n",
    "- $g_2(x) = (x_1 - 1/2)^2 + (x_2-1/2)^2 \\le 0.5$"
   ]
  },
  {
   "cell_type": "code",
   "execution_count": 1,
   "metadata": {
    "collapsed": false,
    "execution": {
     "iopub.execute_input": "2022-08-31T15:03:50.895419Z",
     "iopub.status.busy": "2022-08-31T15:03:50.895118Z",
     "iopub.status.idle": "2022-08-31T15:03:52.142930Z",
     "shell.execute_reply": "2022-08-31T15:03:52.141294Z"
    },
    "pycharm": {
     "name": "#%%\n"
    }
   },
   "outputs": [
    {
     "name": "stdout",
     "output_type": "stream",
     "text": [
      "{'variables': {'x1': [0.0, 3.14159], 'x2': [0.0, 3.14159]}, 'constraints': {'c1': ['GREATER_THAN', 0.0], 'c2': ['LESS_THAN', 0.5]}, 'objectives': {'y1': 'MINIMIZE', 'y2': 'MINIMIZE'}, 'constants': {'a': 'dummy_constant'}, 'linked_variables': {}}\n"
     ]
    }
   ],
   "source": [
    "%reset -f\n",
    "from copy import deepcopy\n",
    "\n",
    "import pandas as pd\n",
    "import numpy as np\n",
    "import torch\n",
    "\n",
    "from xopt import Xopt, Evaluator\n",
    "from xopt.generators.bayesian import MOBOGenerator\n",
    "from xopt.resources.test_functions.tnk import evaluate_TNK, tnk_vocs\n",
    "\n",
    "\n",
    "evaluator = Evaluator(function=evaluate_TNK)\n",
    "print(tnk_vocs.dict())"
   ]
  },
  {
   "cell_type": "code",
   "execution_count": 2,
   "metadata": {
    "collapsed": false,
    "execution": {
     "iopub.execute_input": "2022-08-31T15:03:52.182272Z",
     "iopub.status.busy": "2022-08-31T15:03:52.181607Z",
     "iopub.status.idle": "2022-08-31T15:04:50.564739Z",
     "shell.execute_reply": "2022-08-31T15:04:50.564048Z"
    },
    "pycharm": {
     "name": "#%%\n"
    }
   },
   "outputs": [
    {
     "name": "stdout",
     "output_type": "stream",
     "text": [
      "optim=OptimOptions(num_restarts=1, raw_samples=50, sequential=True, use_nearby_initial_points=True, max_travel_distances=None) acq=MOBOAcqOptions(proximal_lengthscales=[1.0, 1.0], use_transformed_proximal_weights=True, monte_carlo_samples=128, ref_point=None, use_data_as_reference=True) model=ModelOptions(use_conservative_prior_lengthscale=False, use_conservative_prior_mean=False, use_low_noise_prior=True) n_initial=(2,)\n",
      "0\n",
      "1\n"
     ]
    },
    {
     "name": "stderr",
     "output_type": "stream",
     "text": [
      "/usr/share/miniconda/envs/xopt-dev/lib/python3.9/site-packages/gpytorch/lazy/lazy_tensor.py:1811: UserWarning: torch.triangular_solve is deprecated in favor of torch.linalg.solve_triangularand will be removed in a future PyTorch release.\n",
      "torch.linalg.solve_triangular has its arguments reversed and does not return a copy of one of the inputs.\n",
      "X = torch.triangular_solve(B, A).solution\n",
      "should be replaced with\n",
      "X = torch.linalg.solve_triangular(A, B). (Triggered internally at  /home/conda/feedstock_root/build_artifacts/pytorch-recipe_1660136119739/work/aten/src/ATen/native/BatchLinearAlgebra.cpp:2183.)\n",
      "  Linv = torch.triangular_solve(Eye, L, upper=False).solution\n"
     ]
    },
    {
     "name": "stdout",
     "output_type": "stream",
     "text": [
      "2\n",
      "3\n",
      "4\n",
      "5\n",
      "6\n",
      "7\n",
      "8\n",
      "9\n",
      "10\n",
      "11\n",
      "12\n",
      "13\n",
      "14\n",
      "15\n",
      "16\n"
     ]
    },
    {
     "name": "stderr",
     "output_type": "stream",
     "text": [
      "/usr/share/miniconda/envs/xopt-dev/lib/python3.9/site-packages/botorch/optim/optimize.py:287: RuntimeWarning: Optimization failed in `gen_candidates_scipy` with the following warning(s):\n",
      "[OptimizationWarning('Optimization failed within `scipy.optimize.minimize` with status 2.')]\n",
      "Because you specified `batch_initial_conditions`, optimization will not be retried with new initial conditions and will proceed with the current solution. Suggested remediation: Try again with different `batch_initial_conditions`, or don't provide `batch_initial_conditions.`\n",
      "  warnings.warn(first_warn_msg, RuntimeWarning)\n"
     ]
    },
    {
     "name": "stdout",
     "output_type": "stream",
     "text": [
      "17\n",
      "18\n"
     ]
    },
    {
     "name": "stderr",
     "output_type": "stream",
     "text": [
      "/usr/share/miniconda/envs/xopt-dev/lib/python3.9/site-packages/botorch/optim/optimize.py:287: RuntimeWarning: Optimization failed in `gen_candidates_scipy` with the following warning(s):\n",
      "[OptimizationWarning('Optimization failed within `scipy.optimize.minimize` with status 2.')]\n",
      "Because you specified `batch_initial_conditions`, optimization will not be retried with new initial conditions and will proceed with the current solution. Suggested remediation: Try again with different `batch_initial_conditions`, or don't provide `batch_initial_conditions.`\n",
      "  warnings.warn(first_warn_msg, RuntimeWarning)\n"
     ]
    },
    {
     "name": "stdout",
     "output_type": "stream",
     "text": [
      "19\n",
      "20\n",
      "21\n",
      "22\n",
      "23\n",
      "24\n",
      "25\n",
      "26\n",
      "27\n",
      "28\n",
      "29\n"
     ]
    }
   ],
   "source": [
    "options = MOBOGenerator.default_options()\n",
    "options.n_initial = (2,)\n",
    "options.optim.num_restarts = 1\n",
    "options.optim.raw_samples = 50\n",
    "options.acq.proximal_lengthscales = [1.0, 1.0]\n",
    "options.model.use_low_noise_prior = True\n",
    "print(options)\n",
    "generator = MOBOGenerator(tnk_vocs, options)\n",
    "\n",
    "X = Xopt(generator=generator, evaluator=evaluator, vocs=tnk_vocs)\n",
    "X.submit_data(pd.DataFrame({\"x1\":[1.0, 0.75],\"x2\":[0.75, 1.0]}))\n",
    "for i in range(30):\n",
    "    print(i)\n",
    "    X.step()"
   ]
  },
  {
   "cell_type": "code",
   "execution_count": 3,
   "metadata": {
    "collapsed": false,
    "execution": {
     "iopub.execute_input": "2022-08-31T15:04:50.569055Z",
     "iopub.status.busy": "2022-08-31T15:04:50.568469Z",
     "iopub.status.idle": "2022-08-31T15:04:50.600336Z",
     "shell.execute_reply": "2022-08-31T15:04:50.599678Z"
    },
    "pycharm": {
     "name": "#%%\n"
    }
   },
   "outputs": [
    {
     "data": {
      "text/html": [
       "<div>\n",
       "<style scoped>\n",
       "    .dataframe tbody tr th:only-of-type {\n",
       "        vertical-align: middle;\n",
       "    }\n",
       "\n",
       "    .dataframe tbody tr th {\n",
       "        vertical-align: top;\n",
       "    }\n",
       "\n",
       "    .dataframe thead th {\n",
       "        text-align: right;\n",
       "    }\n",
       "</style>\n",
       "<table border=\"1\" class=\"dataframe\">\n",
       "  <thead>\n",
       "    <tr style=\"text-align: right;\">\n",
       "      <th></th>\n",
       "      <th>x1</th>\n",
       "      <th>x2</th>\n",
       "      <th>a</th>\n",
       "      <th>y1</th>\n",
       "      <th>y2</th>\n",
       "      <th>c1</th>\n",
       "      <th>c2</th>\n",
       "      <th>some_array</th>\n",
       "      <th>xopt_runtime</th>\n",
       "      <th>xopt_error</th>\n",
       "    </tr>\n",
       "  </thead>\n",
       "  <tbody>\n",
       "    <tr>\n",
       "      <th>3</th>\n",
       "      <td>0.795644</td>\n",
       "      <td>2.960335</td>\n",
       "      <td>dummy_constant</td>\n",
       "      <td>0.795644</td>\n",
       "      <td>2.960335</td>\n",
       "      <td>8.445570</td>\n",
       "      <td>6.140654</td>\n",
       "      <td>[1, 2, 3]</td>\n",
       "      <td>0.000025</td>\n",
       "      <td>False</td>\n",
       "    </tr>\n",
       "    <tr>\n",
       "      <th>4</th>\n",
       "      <td>2.565129</td>\n",
       "      <td>2.040569</td>\n",
       "      <td>dummy_constant</td>\n",
       "      <td>2.565129</td>\n",
       "      <td>2.040569</td>\n",
       "      <td>9.767936</td>\n",
       "      <td>6.638110</td>\n",
       "      <td>[1, 2, 3]</td>\n",
       "      <td>0.000022</td>\n",
       "      <td>False</td>\n",
       "    </tr>\n",
       "    <tr>\n",
       "      <th>5</th>\n",
       "      <td>1.908289</td>\n",
       "      <td>1.235679</td>\n",
       "      <td>dummy_constant</td>\n",
       "      <td>1.908289</td>\n",
       "      <td>1.235679</td>\n",
       "      <td>4.265825</td>\n",
       "      <td>2.524502</td>\n",
       "      <td>[1, 2, 3]</td>\n",
       "      <td>0.000035</td>\n",
       "      <td>False</td>\n",
       "    </tr>\n",
       "    <tr>\n",
       "      <th>6</th>\n",
       "      <td>2.523945</td>\n",
       "      <td>0.874867</td>\n",
       "      <td>dummy_constant</td>\n",
       "      <td>2.523945</td>\n",
       "      <td>0.874867</td>\n",
       "      <td>6.077077</td>\n",
       "      <td>4.236878</td>\n",
       "      <td>[1, 2, 3]</td>\n",
       "      <td>0.000036</td>\n",
       "      <td>False</td>\n",
       "    </tr>\n",
       "    <tr>\n",
       "      <th>7</th>\n",
       "      <td>0.817703</td>\n",
       "      <td>0.205473</td>\n",
       "      <td>dummy_constant</td>\n",
       "      <td>0.817703</td>\n",
       "      <td>0.205473</td>\n",
       "      <td>-0.219282</td>\n",
       "      <td>0.187681</td>\n",
       "      <td>[1, 2, 3]</td>\n",
       "      <td>0.000039</td>\n",
       "      <td>False</td>\n",
       "    </tr>\n",
       "    <tr>\n",
       "      <th>8</th>\n",
       "      <td>1.017293</td>\n",
       "      <td>0.493617</td>\n",
       "      <td>dummy_constant</td>\n",
       "      <td>1.017293</td>\n",
       "      <td>0.493617</td>\n",
       "      <td>0.219965</td>\n",
       "      <td>0.267632</td>\n",
       "      <td>[1, 2, 3]</td>\n",
       "      <td>0.000037</td>\n",
       "      <td>False</td>\n",
       "    </tr>\n",
       "    <tr>\n",
       "      <th>9</th>\n",
       "      <td>0.541355</td>\n",
       "      <td>0.657879</td>\n",
       "      <td>dummy_constant</td>\n",
       "      <td>0.541355</td>\n",
       "      <td>0.657879</td>\n",
       "      <td>-0.276231</td>\n",
       "      <td>0.026636</td>\n",
       "      <td>[1, 2, 3]</td>\n",
       "      <td>0.000038</td>\n",
       "      <td>False</td>\n",
       "    </tr>\n",
       "    <tr>\n",
       "      <th>10</th>\n",
       "      <td>0.652738</td>\n",
       "      <td>0.940576</td>\n",
       "      <td>dummy_constant</td>\n",
       "      <td>0.652738</td>\n",
       "      <td>0.940576</td>\n",
       "      <td>0.406800</td>\n",
       "      <td>0.217436</td>\n",
       "      <td>[1, 2, 3]</td>\n",
       "      <td>0.000040</td>\n",
       "      <td>False</td>\n",
       "    </tr>\n",
       "    <tr>\n",
       "      <th>11</th>\n",
       "      <td>0.279823</td>\n",
       "      <td>1.060129</td>\n",
       "      <td>dummy_constant</td>\n",
       "      <td>0.279823</td>\n",
       "      <td>1.060129</td>\n",
       "      <td>0.257255</td>\n",
       "      <td>0.362222</td>\n",
       "      <td>[1, 2, 3]</td>\n",
       "      <td>0.000038</td>\n",
       "      <td>False</td>\n",
       "    </tr>\n",
       "    <tr>\n",
       "      <th>12</th>\n",
       "      <td>1.054532</td>\n",
       "      <td>0.109921</td>\n",
       "      <td>dummy_constant</td>\n",
       "      <td>1.054532</td>\n",
       "      <td>0.109921</td>\n",
       "      <td>0.133208</td>\n",
       "      <td>0.459668</td>\n",
       "      <td>[1, 2, 3]</td>\n",
       "      <td>0.000042</td>\n",
       "      <td>False</td>\n",
       "    </tr>\n",
       "    <tr>\n",
       "      <th>13</th>\n",
       "      <td>2.591181</td>\n",
       "      <td>0.289408</td>\n",
       "      <td>dummy_constant</td>\n",
       "      <td>2.591181</td>\n",
       "      <td>0.289408</td>\n",
       "      <td>5.818708</td>\n",
       "      <td>4.417385</td>\n",
       "      <td>[1, 2, 3]</td>\n",
       "      <td>0.000044</td>\n",
       "      <td>False</td>\n",
       "    </tr>\n",
       "    <tr>\n",
       "      <th>14</th>\n",
       "      <td>0.729941</td>\n",
       "      <td>0.703875</td>\n",
       "      <td>dummy_constant</td>\n",
       "      <td>0.729941</td>\n",
       "      <td>0.703875</td>\n",
       "      <td>-0.067546</td>\n",
       "      <td>0.094438</td>\n",
       "      <td>[1, 2, 3]</td>\n",
       "      <td>0.000041</td>\n",
       "      <td>False</td>\n",
       "    </tr>\n",
       "    <tr>\n",
       "      <th>15</th>\n",
       "      <td>0.456531</td>\n",
       "      <td>0.896875</td>\n",
       "      <td>dummy_constant</td>\n",
       "      <td>0.456531</td>\n",
       "      <td>0.896875</td>\n",
       "      <td>-0.018702</td>\n",
       "      <td>0.159399</td>\n",
       "      <td>[1, 2, 3]</td>\n",
       "      <td>0.000039</td>\n",
       "      <td>False</td>\n",
       "    </tr>\n",
       "    <tr>\n",
       "      <th>16</th>\n",
       "      <td>0.105777</td>\n",
       "      <td>1.072829</td>\n",
       "      <td>dummy_constant</td>\n",
       "      <td>0.105777</td>\n",
       "      <td>1.072829</td>\n",
       "      <td>0.162317</td>\n",
       "      <td>0.483545</td>\n",
       "      <td>[1, 2, 3]</td>\n",
       "      <td>0.000040</td>\n",
       "      <td>False</td>\n",
       "    </tr>\n",
       "    <tr>\n",
       "      <th>17</th>\n",
       "      <td>0.802605</td>\n",
       "      <td>0.678981</td>\n",
       "      <td>dummy_constant</td>\n",
       "      <td>0.802605</td>\n",
       "      <td>0.678981</td>\n",
       "      <td>0.081534</td>\n",
       "      <td>0.123604</td>\n",
       "      <td>[1, 2, 3]</td>\n",
       "      <td>0.000037</td>\n",
       "      <td>False</td>\n",
       "    </tr>\n",
       "    <tr>\n",
       "      <th>18</th>\n",
       "      <td>0.992471</td>\n",
       "      <td>0.000000</td>\n",
       "      <td>dummy_constant</td>\n",
       "      <td>0.992471</td>\n",
       "      <td>0.000000</td>\n",
       "      <td>-0.115002</td>\n",
       "      <td>0.492527</td>\n",
       "      <td>[1, 2, 3]</td>\n",
       "      <td>0.000036</td>\n",
       "      <td>False</td>\n",
       "    </tr>\n",
       "    <tr>\n",
       "      <th>19</th>\n",
       "      <td>0.053998</td>\n",
       "      <td>1.019416</td>\n",
       "      <td>dummy_constant</td>\n",
       "      <td>0.053998</td>\n",
       "      <td>1.019416</td>\n",
       "      <td>-0.024119</td>\n",
       "      <td>0.468711</td>\n",
       "      <td>[1, 2, 3]</td>\n",
       "      <td>0.000038</td>\n",
       "      <td>False</td>\n",
       "    </tr>\n",
       "    <tr>\n",
       "      <th>20</th>\n",
       "      <td>1.039674</td>\n",
       "      <td>0.055914</td>\n",
       "      <td>dummy_constant</td>\n",
       "      <td>1.039674</td>\n",
       "      <td>0.055914</td>\n",
       "      <td>0.018780</td>\n",
       "      <td>0.488461</td>\n",
       "      <td>[1, 2, 3]</td>\n",
       "      <td>0.000036</td>\n",
       "      <td>False</td>\n",
       "    </tr>\n",
       "    <tr>\n",
       "      <th>21</th>\n",
       "      <td>0.928804</td>\n",
       "      <td>0.437488</td>\n",
       "      <td>dummy_constant</td>\n",
       "      <td>0.928804</td>\n",
       "      <td>0.437488</td>\n",
       "      <td>-0.018412</td>\n",
       "      <td>0.187780</td>\n",
       "      <td>[1, 2, 3]</td>\n",
       "      <td>0.000039</td>\n",
       "      <td>False</td>\n",
       "    </tr>\n",
       "    <tr>\n",
       "      <th>22</th>\n",
       "      <td>1.026687</td>\n",
       "      <td>0.033368</td>\n",
       "      <td>dummy_constant</td>\n",
       "      <td>1.026687</td>\n",
       "      <td>0.033368</td>\n",
       "      <td>-0.031590</td>\n",
       "      <td>0.495145</td>\n",
       "      <td>[1, 2, 3]</td>\n",
       "      <td>0.000037</td>\n",
       "      <td>False</td>\n",
       "    </tr>\n",
       "    <tr>\n",
       "      <th>23</th>\n",
       "      <td>0.635822</td>\n",
       "      <td>0.806216</td>\n",
       "      <td>dummy_constant</td>\n",
       "      <td>0.635822</td>\n",
       "      <td>0.806216</td>\n",
       "      <td>0.084860</td>\n",
       "      <td>0.112215</td>\n",
       "      <td>[1, 2, 3]</td>\n",
       "      <td>0.000039</td>\n",
       "      <td>False</td>\n",
       "    </tr>\n",
       "    <tr>\n",
       "      <th>24</th>\n",
       "      <td>0.990651</td>\n",
       "      <td>0.303680</td>\n",
       "      <td>dummy_constant</td>\n",
       "      <td>0.990651</td>\n",
       "      <td>0.303680</td>\n",
       "      <td>0.068929</td>\n",
       "      <td>0.279280</td>\n",
       "      <td>[1, 2, 3]</td>\n",
       "      <td>0.000037</td>\n",
       "      <td>False</td>\n",
       "    </tr>\n",
       "    <tr>\n",
       "      <th>25</th>\n",
       "      <td>0.235768</td>\n",
       "      <td>0.991919</td>\n",
       "      <td>dummy_constant</td>\n",
       "      <td>0.235768</td>\n",
       "      <td>0.991919</td>\n",
       "      <td>0.122464</td>\n",
       "      <td>0.311803</td>\n",
       "      <td>[1, 2, 3]</td>\n",
       "      <td>0.000038</td>\n",
       "      <td>False</td>\n",
       "    </tr>\n",
       "    <tr>\n",
       "      <th>26</th>\n",
       "      <td>1.050028</td>\n",
       "      <td>0.065183</td>\n",
       "      <td>dummy_constant</td>\n",
       "      <td>1.050028</td>\n",
       "      <td>0.065183</td>\n",
       "      <td>0.052103</td>\n",
       "      <td>0.491597</td>\n",
       "      <td>[1, 2, 3]</td>\n",
       "      <td>0.000039</td>\n",
       "      <td>False</td>\n",
       "    </tr>\n",
       "    <tr>\n",
       "      <th>27</th>\n",
       "      <td>0.321725</td>\n",
       "      <td>0.940201</td>\n",
       "      <td>dummy_constant</td>\n",
       "      <td>0.321725</td>\n",
       "      <td>0.940201</td>\n",
       "      <td>-0.065868</td>\n",
       "      <td>0.225559</td>\n",
       "      <td>[1, 2, 3]</td>\n",
       "      <td>0.000039</td>\n",
       "      <td>False</td>\n",
       "    </tr>\n",
       "    <tr>\n",
       "      <th>28</th>\n",
       "      <td>0.861223</td>\n",
       "      <td>0.569325</td>\n",
       "      <td>dummy_constant</td>\n",
       "      <td>0.861223</td>\n",
       "      <td>0.569325</td>\n",
       "      <td>0.165524</td>\n",
       "      <td>0.135288</td>\n",
       "      <td>[1, 2, 3]</td>\n",
       "      <td>0.000038</td>\n",
       "      <td>False</td>\n",
       "    </tr>\n",
       "    <tr>\n",
       "      <th>29</th>\n",
       "      <td>0.553278</td>\n",
       "      <td>0.845596</td>\n",
       "      <td>dummy_constant</td>\n",
       "      <td>0.553278</td>\n",
       "      <td>0.845596</td>\n",
       "      <td>0.119958</td>\n",
       "      <td>0.122275</td>\n",
       "      <td>[1, 2, 3]</td>\n",
       "      <td>0.000036</td>\n",
       "      <td>False</td>\n",
       "    </tr>\n",
       "    <tr>\n",
       "      <th>30</th>\n",
       "      <td>1.000407</td>\n",
       "      <td>0.176393</td>\n",
       "      <td>dummy_constant</td>\n",
       "      <td>1.000407</td>\n",
       "      <td>0.176393</td>\n",
       "      <td>0.125894</td>\n",
       "      <td>0.355129</td>\n",
       "      <td>[1, 2, 3]</td>\n",
       "      <td>0.000038</td>\n",
       "      <td>False</td>\n",
       "    </tr>\n",
       "    <tr>\n",
       "      <th>31</th>\n",
       "      <td>0.881313</td>\n",
       "      <td>0.478817</td>\n",
       "      <td>dummy_constant</td>\n",
       "      <td>0.881313</td>\n",
       "      <td>0.478817</td>\n",
       "      <td>0.016853</td>\n",
       "      <td>0.145848</td>\n",
       "      <td>[1, 2, 3]</td>\n",
       "      <td>0.000038</td>\n",
       "      <td>False</td>\n",
       "    </tr>\n",
       "    <tr>\n",
       "      <th>32</th>\n",
       "      <td>0.053217</td>\n",
       "      <td>1.039094</td>\n",
       "      <td>dummy_constant</td>\n",
       "      <td>0.053217</td>\n",
       "      <td>1.039094</td>\n",
       "      <td>0.014233</td>\n",
       "      <td>0.490237</td>\n",
       "      <td>[1, 2, 3]</td>\n",
       "      <td>0.000038</td>\n",
       "      <td>False</td>\n",
       "    </tr>\n",
       "    <tr>\n",
       "      <th>33</th>\n",
       "      <td>0.130997</td>\n",
       "      <td>1.018253</td>\n",
       "      <td>dummy_constant</td>\n",
       "      <td>0.130997</td>\n",
       "      <td>1.018253</td>\n",
       "      <td>0.099852</td>\n",
       "      <td>0.404749</td>\n",
       "      <td>[1, 2, 3]</td>\n",
       "      <td>0.000039</td>\n",
       "      <td>False</td>\n",
       "    </tr>\n",
       "  </tbody>\n",
       "</table>\n",
       "</div>"
      ],
      "text/plain": [
       "          x1        x2               a        y1        y2        c1  \\\n",
       "3   0.795644  2.960335  dummy_constant  0.795644  2.960335  8.445570   \n",
       "4   2.565129  2.040569  dummy_constant  2.565129  2.040569  9.767936   \n",
       "5   1.908289  1.235679  dummy_constant  1.908289  1.235679  4.265825   \n",
       "6   2.523945  0.874867  dummy_constant  2.523945  0.874867  6.077077   \n",
       "7   0.817703  0.205473  dummy_constant  0.817703  0.205473 -0.219282   \n",
       "8   1.017293  0.493617  dummy_constant  1.017293  0.493617  0.219965   \n",
       "9   0.541355  0.657879  dummy_constant  0.541355  0.657879 -0.276231   \n",
       "10  0.652738  0.940576  dummy_constant  0.652738  0.940576  0.406800   \n",
       "11  0.279823  1.060129  dummy_constant  0.279823  1.060129  0.257255   \n",
       "12  1.054532  0.109921  dummy_constant  1.054532  0.109921  0.133208   \n",
       "13  2.591181  0.289408  dummy_constant  2.591181  0.289408  5.818708   \n",
       "14  0.729941  0.703875  dummy_constant  0.729941  0.703875 -0.067546   \n",
       "15  0.456531  0.896875  dummy_constant  0.456531  0.896875 -0.018702   \n",
       "16  0.105777  1.072829  dummy_constant  0.105777  1.072829  0.162317   \n",
       "17  0.802605  0.678981  dummy_constant  0.802605  0.678981  0.081534   \n",
       "18  0.992471  0.000000  dummy_constant  0.992471  0.000000 -0.115002   \n",
       "19  0.053998  1.019416  dummy_constant  0.053998  1.019416 -0.024119   \n",
       "20  1.039674  0.055914  dummy_constant  1.039674  0.055914  0.018780   \n",
       "21  0.928804  0.437488  dummy_constant  0.928804  0.437488 -0.018412   \n",
       "22  1.026687  0.033368  dummy_constant  1.026687  0.033368 -0.031590   \n",
       "23  0.635822  0.806216  dummy_constant  0.635822  0.806216  0.084860   \n",
       "24  0.990651  0.303680  dummy_constant  0.990651  0.303680  0.068929   \n",
       "25  0.235768  0.991919  dummy_constant  0.235768  0.991919  0.122464   \n",
       "26  1.050028  0.065183  dummy_constant  1.050028  0.065183  0.052103   \n",
       "27  0.321725  0.940201  dummy_constant  0.321725  0.940201 -0.065868   \n",
       "28  0.861223  0.569325  dummy_constant  0.861223  0.569325  0.165524   \n",
       "29  0.553278  0.845596  dummy_constant  0.553278  0.845596  0.119958   \n",
       "30  1.000407  0.176393  dummy_constant  1.000407  0.176393  0.125894   \n",
       "31  0.881313  0.478817  dummy_constant  0.881313  0.478817  0.016853   \n",
       "32  0.053217  1.039094  dummy_constant  0.053217  1.039094  0.014233   \n",
       "33  0.130997  1.018253  dummy_constant  0.130997  1.018253  0.099852   \n",
       "\n",
       "          c2 some_array  xopt_runtime  xopt_error  \n",
       "3   6.140654  [1, 2, 3]      0.000025       False  \n",
       "4   6.638110  [1, 2, 3]      0.000022       False  \n",
       "5   2.524502  [1, 2, 3]      0.000035       False  \n",
       "6   4.236878  [1, 2, 3]      0.000036       False  \n",
       "7   0.187681  [1, 2, 3]      0.000039       False  \n",
       "8   0.267632  [1, 2, 3]      0.000037       False  \n",
       "9   0.026636  [1, 2, 3]      0.000038       False  \n",
       "10  0.217436  [1, 2, 3]      0.000040       False  \n",
       "11  0.362222  [1, 2, 3]      0.000038       False  \n",
       "12  0.459668  [1, 2, 3]      0.000042       False  \n",
       "13  4.417385  [1, 2, 3]      0.000044       False  \n",
       "14  0.094438  [1, 2, 3]      0.000041       False  \n",
       "15  0.159399  [1, 2, 3]      0.000039       False  \n",
       "16  0.483545  [1, 2, 3]      0.000040       False  \n",
       "17  0.123604  [1, 2, 3]      0.000037       False  \n",
       "18  0.492527  [1, 2, 3]      0.000036       False  \n",
       "19  0.468711  [1, 2, 3]      0.000038       False  \n",
       "20  0.488461  [1, 2, 3]      0.000036       False  \n",
       "21  0.187780  [1, 2, 3]      0.000039       False  \n",
       "22  0.495145  [1, 2, 3]      0.000037       False  \n",
       "23  0.112215  [1, 2, 3]      0.000039       False  \n",
       "24  0.279280  [1, 2, 3]      0.000037       False  \n",
       "25  0.311803  [1, 2, 3]      0.000038       False  \n",
       "26  0.491597  [1, 2, 3]      0.000039       False  \n",
       "27  0.225559  [1, 2, 3]      0.000039       False  \n",
       "28  0.135288  [1, 2, 3]      0.000038       False  \n",
       "29  0.122275  [1, 2, 3]      0.000036       False  \n",
       "30  0.355129  [1, 2, 3]      0.000038       False  \n",
       "31  0.145848  [1, 2, 3]      0.000038       False  \n",
       "32  0.490237  [1, 2, 3]      0.000038       False  \n",
       "33  0.404749  [1, 2, 3]      0.000039       False  "
      ]
     },
     "execution_count": 3,
     "metadata": {},
     "output_type": "execute_result"
    }
   ],
   "source": [
    "X.generator.data"
   ]
  },
  {
   "cell_type": "markdown",
   "metadata": {
    "collapsed": false,
    "pycharm": {
     "name": "#%% md\n"
    }
   },
   "source": [
    "## plot results\n"
   ]
  },
  {
   "cell_type": "code",
   "execution_count": 4,
   "metadata": {
    "collapsed": false,
    "execution": {
     "iopub.execute_input": "2022-08-31T15:04:50.604538Z",
     "iopub.status.busy": "2022-08-31T15:04:50.604017Z",
     "iopub.status.idle": "2022-08-31T15:04:51.367969Z",
     "shell.execute_reply": "2022-08-31T15:04:51.367221Z"
    },
    "pycharm": {
     "name": "#%%\n"
    }
   },
   "outputs": [
    {
     "data": {
      "image/png": "[encoded data removed]",
      "text/plain": [
       "<Figure size 640x480 with 1 Axes>"
      ]
     },
     "metadata": {},
     "output_type": "display_data"
    }
   ],
   "source": [
    "import matplotlib.pyplot as plt\n",
    "\n",
    "fig, ax = plt.subplots()\n",
    "\n",
    "theta = np.linspace(0, np.pi / 2)\n",
    "r = np.sqrt(1 + 0.1 * np.cos(16 * theta))\n",
    "x_1 = r * np.sin(theta)\n",
    "x_2_lower = r * np.cos(theta)\n",
    "x_2_upper = (0.5 - (x_1 - 0.5) ** 2) ** 0.5 + 0.5\n",
    "\n",
    "z = np.zeros_like(x_1)\n",
    "\n",
    "# ax2.plot(x_1, x_2_lower,'r')\n",
    "ax.fill_between(x_1, z, x_2_lower, fc=\"white\")\n",
    "circle = plt.Circle(\n",
    "    (0.5, 0.5), 0.5 ** 0.5, color=\"r\", alpha=0.25, zorder=0, label=\"Valid Region\"\n",
    ")\n",
    "ax.add_patch(circle)\n",
    "history = pd.concat(\n",
    "    [X.data, tnk_vocs.feasibility_data(X.data)], axis=1, ignore_index=False\n",
    ")\n",
    "\n",
    "\n",
    "ax.plot(*history[[\"x1\", \"x2\"]][history[\"feasible\"]].to_numpy().T, \".C1\")\n",
    "ax.plot(*history[[\"x1\", \"x2\"]][~history[\"feasible\"]].to_numpy().T, \".C2\")\n",
    "\n",
    "ax.set_xlim(0, 3.14)\n",
    "ax.set_ylim(0, 3.14)\n",
    "ax.set_xlabel(\"x1\")\n",
    "ax.set_ylabel(\"x2\")\n",
    "ax.set_aspect(\"equal\")"
   ]
  },
  {
   "cell_type": "markdown",
   "metadata": {
    "collapsed": false,
    "pycharm": {
     "name": "#%% md\n"
    }
   },
   "source": [
    "### Plot path through input space"
   ]
  },
  {
   "cell_type": "code",
   "execution_count": 5,
   "metadata": {
    "collapsed": false,
    "execution": {
     "iopub.execute_input": "2022-08-31T15:04:51.372181Z",
     "iopub.status.busy": "2022-08-31T15:04:51.371611Z",
     "iopub.status.idle": "2022-08-31T15:04:51.504093Z",
     "shell.execute_reply": "2022-08-31T15:04:51.503372Z"
    },
    "pycharm": {
     "name": "#%%\n"
    }
   },
   "outputs": [
    {
     "data": {
      "image/png": "[encoded data removed]",
      "text/plain": [
       "<Figure size 640x480 with 1 Axes>"
      ]
     },
     "metadata": {},
     "output_type": "display_data"
    }
   ],
   "source": [
    "ax = history.plot(\"x1\", \"x2\")\n",
    "ax.set_ylim(0, 3.14)\n",
    "ax.set_xlim(0, 3.14)\n",
    "ax.set_aspect(\"equal\")"
   ]
  },
  {
   "cell_type": "code",
   "execution_count": 6,
   "metadata": {
    "collapsed": false,
    "execution": {
     "iopub.execute_input": "2022-08-31T15:04:51.507267Z",
     "iopub.status.busy": "2022-08-31T15:04:51.507019Z",
     "iopub.status.idle": "2022-08-31T15:05:21.049403Z",
     "shell.execute_reply": "2022-08-31T15:05:21.047475Z"
    },
    "pycharm": {
     "name": "#%%\n"
    }
   },
   "outputs": [
    {
     "name": "stderr",
     "output_type": "stream",
     "text": [
      "/usr/share/miniconda/envs/xopt-dev/lib/python3.9/site-packages/torch/functional.py:478: UserWarning: torch.meshgrid: in an upcoming release, it will be required to pass the indexing argument. (Triggered internally at  /home/conda/feedstock_root/build_artifacts/pytorch-recipe_1660136119739/work/aten/src/ATen/native/TensorShape.cpp:2894.)\n",
      "  return _VF.meshgrid(tensors, **kwargs)  # type: ignore[attr-defined]\n"
     ]
    },
    {
     "name": "stdout",
     "output_type": "stream",
     "text": [
      "[[0.26940236 0.96536727]]\n"
     ]
    },
    {
     "data": {
      "text/plain": [
       "[<matplotlib.lines.Line2D at 0x7f376e7790a0>]"
      ]
     },
     "execution_count": 6,
     "metadata": {},
     "output_type": "execute_result"
    },
    {
     "data": {
      "image/png": "[encoded data removed]",
      "text/plain": [
       "<Figure size 640x480 with 2 Axes>"
      ]
     },
     "metadata": {},
     "output_type": "display_data"
    },
    {
     "data": {
      "image/png": "[encoded data removed]",
      "text/plain": [
       "<Figure size 640x480 with 2 Axes>"
      ]
     },
     "metadata": {},
     "output_type": "display_data"
    }
   ],
   "source": [
    "# plot the acquisition function\n",
    "from xopt.generators.bayesian.utils import feasibility\n",
    "\n",
    "bounds = generator.vocs.bounds\n",
    "model = generator.model\n",
    "\n",
    "# create mesh\n",
    "n = 200\n",
    "x = torch.linspace(*bounds.T[0], n)\n",
    "y = torch.linspace(*bounds.T[1], n)\n",
    "xx, yy = torch.meshgrid(x, y)\n",
    "pts = torch.hstack([ele.reshape(-1, 1) for ele in (xx, yy)]).double()\n",
    "\n",
    "acq_func = generator.get_acquisition(model)\n",
    "with torch.no_grad():\n",
    "    acq_pts = pts.unsqueeze(1)\n",
    "    acq = acq_func(acq_pts)\n",
    "\n",
    "    fig, ax = plt.subplots()\n",
    "    c = ax.pcolor(xx, yy, acq.reshape(n, n), cmap=\"Blues\")\n",
    "    fig.colorbar(c)\n",
    "    ax.set_title(\"Acquisition function\")\n",
    "\n",
    "    ax.plot(*history[[\"x1\", \"x2\"]][history[\"feasible\"]].to_numpy().T, \".C1\")\n",
    "    ax.plot(*history[[\"x1\", \"x2\"]][~history[\"feasible\"]].to_numpy().T, \".C2\")\n",
    "\n",
    "    ax.plot(*history[[\"x1\", \"x2\"]].to_numpy()[-1].T, \"+\")\n",
    "\n",
    "    feas = feasibility(pts.unsqueeze(1), model, generator.sampler, tnk_vocs).flatten()\n",
    "\n",
    "    fig2, ax2 = plt.subplots()\n",
    "    c = ax2.pcolor(xx, yy, feas.reshape(n, n))\n",
    "    fig2.colorbar(c)\n",
    "    ax2.set_title(\"Feasible Region\")\n",
    "\n",
    "candidate = generator.generate(1)\n",
    "print(candidate[[\"x1\", \"x2\"]].to_numpy())\n",
    "ax.plot(*candidate[[\"x1\", \"x2\"]].to_numpy()[0], \"o\")"
   ]
  },
  {
   "cell_type": "code",
   "execution_count": 7,
   "metadata": {
    "collapsed": false,
    "execution": {
     "iopub.execute_input": "2022-08-31T15:05:21.130161Z",
     "iopub.status.busy": "2022-08-31T15:05:21.129649Z",
     "iopub.status.idle": "2022-08-31T15:05:22.754308Z",
     "shell.execute_reply": "2022-08-31T15:05:22.752538Z"
    },
    "pycharm": {
     "name": "#%%\n"
    }
   },
   "outputs": [
    {
     "name": "stdout",
     "output_type": "stream",
     "text": [
      "CPU times: user 3.09 s, sys: 109 ms, total: 3.2 s\n",
      "Wall time: 1.61 s\n"
     ]
    }
   ],
   "source": [
    "%%time\n",
    "candidate = generator.generate(1)"
   ]
  }
 ],
 "metadata": {
  "interpreter": {
   "hash": "72034539424920dfb606fe3b820b3f27dca0cbf1c69938110810ec4641e275b1"
  },
  "kernelspec": {
   "display_name": "Python 3 (ipykernel)",
   "language": "python",
   "name": "python3"
  },
  "language_info": {
   "codemirror_mode": {
    "name": "ipython",
    "version": 3
   },
   "file_extension": ".py",
   "mimetype": "text/x-python",
   "name": "python",
   "nbconvert_exporter": "python",
   "pygments_lexer": "ipython3",
   "version": "3.9.13"
  }
 },
 "nbformat": 4,
 "nbformat_minor": 4
}
