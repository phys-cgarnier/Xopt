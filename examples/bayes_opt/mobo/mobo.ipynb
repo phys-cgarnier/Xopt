{
 "cells": [
  {
   "cell_type": "markdown",
   "metadata": {
    "pycharm": {
     "name": "#%% md\n"
    }
   },
   "source": [
    "\n",
    "# Multi-objective Bayesian Optimization\n",
    "\n",
    "\n",
    "TNK function\n",
    "$n=2$ variables:\n",
    "$x_i \\in [0, \\pi], i=1,2$\n",
    "\n",
    "Objectives:\n",
    "- $f_i(x) = x_i$\n",
    "\n",
    "Constraints:\n",
    "- $g_1(x) = -x_1^2 -x_2^2 + 1 + 0.1 \\cos\\left(16 \\arctan \\frac{x_1}{x_2}\\right) \\le 0$\n",
    "- $g_2(x) = (x_1 - 1/2)^2 + (x_2-1/2)^2 \\le 0.5$"
   ]
  },
  {
   "cell_type": "code",
   "execution_count": 1,
   "metadata": {
    "collapsed": false,
    "execution": {
     "iopub.execute_input": "2022-08-15T16:51:07.143688Z",
     "iopub.status.busy": "2022-08-15T16:51:07.143200Z",
     "iopub.status.idle": "2022-08-15T16:51:08.426837Z",
     "shell.execute_reply": "2022-08-15T16:51:08.422766Z"
    },
    "pycharm": {
     "name": "#%%\n"
    }
   },
   "outputs": [
    {
     "name": "stdout",
     "output_type": "stream",
     "text": [
      "{'variables': {'x1': [0.0, 3.14159], 'x2': [0.0, 3.14159]}, 'constraints': {'c1': ['GREATER_THAN', 0.0], 'c2': ['LESS_THAN', 0.5]}, 'objectives': {'y1': 'MINIMIZE', 'y2': 'MINIMIZE'}, 'constants': {'a': 'dummy_constant'}, 'linked_variables': {}}\n"
     ]
    },
    {
     "name": "stderr",
     "output_type": "stream",
     "text": [
      "/tmp/ipykernel_2714/2587677992.py:13: DeprecationWarning: `copy_on_model_validation` should be a string: 'deep', 'shallow' or 'none'\n",
      "  evaluator = Evaluator(function=evaluate_TNK)\n"
     ]
    }
   ],
   "source": [
    "%reset -f\n",
    "from copy import deepcopy\n",
    "\n",
    "import pandas as pd\n",
    "import numpy as np\n",
    "import torch\n",
    "\n",
    "from xopt import Xopt, Evaluator\n",
    "from xopt.generators.bayesian import MOBOGenerator\n",
    "from xopt.resources.test_functions.tnk import evaluate_TNK, tnk_vocs\n",
    "\n",
    "\n",
    "evaluator = Evaluator(function=evaluate_TNK)\n",
    "print(tnk_vocs.dict())"
   ]
  },
  {
   "cell_type": "code",
   "execution_count": 2,
   "metadata": {
    "collapsed": false,
    "execution": {
     "iopub.execute_input": "2022-08-15T16:51:08.463780Z",
     "iopub.status.busy": "2022-08-15T16:51:08.463067Z",
     "iopub.status.idle": "2022-08-15T16:52:23.568870Z",
     "shell.execute_reply": "2022-08-15T16:52:23.568250Z"
    },
    "pycharm": {
     "name": "#%%\n"
    }
   },
   "outputs": [
    {
     "name": "stdout",
     "output_type": "stream",
     "text": [
      "optim=OptimOptions(num_restarts=1, raw_samples=50, sequential=True, use_nearby_initial_points=True, max_travel_distances=None) acq=MOBOAcqOptions(proximal_lengthscales=[1.0, 1.0], use_transformed_proximal_weights=True, monte_carlo_samples=128, ref_point=None, use_data_as_reference=True) model=ModelOptions(use_conservative_prior_lengthscale=False, use_conservative_prior_mean=False, use_low_noise_prior=True) n_initial=(2,)\n",
      "0\n"
     ]
    },
    {
     "name": "stderr",
     "output_type": "stream",
     "text": [
      "/usr/share/miniconda/envs/xopt-dev/lib/python3.9/site-packages/gpytorch/lazy/lazy_tensor.py:1811: UserWarning: torch.triangular_solve is deprecated in favor of torch.linalg.solve_triangularand will be removed in a future PyTorch release.\n",
      "torch.linalg.solve_triangular has its arguments reversed and does not return a copy of one of the inputs.\n",
      "X = torch.triangular_solve(B, A).solution\n",
      "should be replaced with\n",
      "X = torch.linalg.solve_triangular(A, B). (Triggered internally at  /home/conda/feedstock_root/build_artifacts/pytorch-recipe_1660136119739/work/aten/src/ATen/native/BatchLinearAlgebra.cpp:2183.)\n",
      "  Linv = torch.triangular_solve(Eye, L, upper=False).solution\n"
     ]
    },
    {
     "name": "stdout",
     "output_type": "stream",
     "text": [
      "1\n",
      "2\n",
      "3\n",
      "4\n"
     ]
    },
    {
     "name": "stderr",
     "output_type": "stream",
     "text": [
      "/usr/share/miniconda/envs/xopt-dev/lib/python3.9/site-packages/botorch/optim/optimize.py:287: RuntimeWarning: Optimization failed in `gen_candidates_scipy` with the following warning(s):\n",
      "[OptimizationWarning('Optimization failed within `scipy.optimize.minimize` with status 2.'), OptimizationWarning('Optimization failed within `scipy.optimize.minimize` with status 2.')]\n",
      "Because you specified `batch_initial_conditions`, optimization will not be retried with new initial conditions and will proceed with the current solution. Suggested remediation: Try again with different `batch_initial_conditions`, or don't provide `batch_initial_conditions.`\n",
      "  warnings.warn(first_warn_msg, RuntimeWarning)\n"
     ]
    },
    {
     "name": "stdout",
     "output_type": "stream",
     "text": [
      "5\n",
      "6\n",
      "7\n",
      "8\n"
     ]
    },
    {
     "name": "stderr",
     "output_type": "stream",
     "text": [
      "/usr/share/miniconda/envs/xopt-dev/lib/python3.9/site-packages/botorch/optim/optimize.py:287: RuntimeWarning: Optimization failed in `gen_candidates_scipy` with the following warning(s):\n",
      "[OptimizationWarning('Optimization failed within `scipy.optimize.minimize` with status 2.')]\n",
      "Because you specified `batch_initial_conditions`, optimization will not be retried with new initial conditions and will proceed with the current solution. Suggested remediation: Try again with different `batch_initial_conditions`, or don't provide `batch_initial_conditions.`\n",
      "  warnings.warn(first_warn_msg, RuntimeWarning)\n"
     ]
    },
    {
     "name": "stdout",
     "output_type": "stream",
     "text": [
      "9\n",
      "10\n",
      "11\n",
      "12\n",
      "13\n",
      "14\n",
      "15\n",
      "16\n"
     ]
    },
    {
     "name": "stderr",
     "output_type": "stream",
     "text": [
      "/usr/share/miniconda/envs/xopt-dev/lib/python3.9/site-packages/botorch/optim/optimize.py:287: RuntimeWarning: Optimization failed in `gen_candidates_scipy` with the following warning(s):\n",
      "[OptimizationWarning('Optimization failed within `scipy.optimize.minimize` with status 2.')]\n",
      "Because you specified `batch_initial_conditions`, optimization will not be retried with new initial conditions and will proceed with the current solution. Suggested remediation: Try again with different `batch_initial_conditions`, or don't provide `batch_initial_conditions.`\n",
      "  warnings.warn(first_warn_msg, RuntimeWarning)\n"
     ]
    },
    {
     "name": "stdout",
     "output_type": "stream",
     "text": [
      "17\n",
      "18\n",
      "19\n",
      "20\n",
      "21\n",
      "22\n",
      "23\n",
      "24\n",
      "25\n",
      "26\n",
      "27\n",
      "28\n",
      "29\n"
     ]
    }
   ],
   "source": [
    "options = MOBOGenerator.default_options()\n",
    "options.n_initial = (2,)\n",
    "options.optim.num_restarts = 1\n",
    "options.optim.raw_samples = 50\n",
    "options.acq.proximal_lengthscales = [1.0, 1.0]\n",
    "options.model.use_low_noise_prior = True\n",
    "print(options)\n",
    "generator = MOBOGenerator(tnk_vocs, options)\n",
    "\n",
    "X = Xopt(generator=generator, evaluator=evaluator, vocs=tnk_vocs)\n",
    "X.submit_data(pd.DataFrame({\"x1\":[1.0, 0.75],\"x2\":[0.75, 1.0]}))\n",
    "for i in range(30):\n",
    "    print(i)\n",
    "    X.step()"
   ]
  },
  {
   "cell_type": "code",
   "execution_count": 3,
   "metadata": {
    "collapsed": false,
    "execution": {
     "iopub.execute_input": "2022-08-15T16:52:23.573497Z",
     "iopub.status.busy": "2022-08-15T16:52:23.572287Z",
     "iopub.status.idle": "2022-08-15T16:52:23.602487Z",
     "shell.execute_reply": "2022-08-15T16:52:23.601963Z"
    },
    "pycharm": {
     "name": "#%%\n"
    }
   },
   "outputs": [
    {
     "data": {
      "text/html": [
       "<div>\n",
       "<style scoped>\n",
       "    .dataframe tbody tr th:only-of-type {\n",
       "        vertical-align: middle;\n",
       "    }\n",
       "\n",
       "    .dataframe tbody tr th {\n",
       "        vertical-align: top;\n",
       "    }\n",
       "\n",
       "    .dataframe thead th {\n",
       "        text-align: right;\n",
       "    }\n",
       "</style>\n",
       "<table border=\"1\" class=\"dataframe\">\n",
       "  <thead>\n",
       "    <tr style=\"text-align: right;\">\n",
       "      <th></th>\n",
       "      <th>x1</th>\n",
       "      <th>x2</th>\n",
       "      <th>y1</th>\n",
       "      <th>y2</th>\n",
       "      <th>c1</th>\n",
       "      <th>c2</th>\n",
       "      <th>some_array</th>\n",
       "      <th>xopt_error</th>\n",
       "      <th>xopt_error_str</th>\n",
       "      <th>a</th>\n",
       "    </tr>\n",
       "  </thead>\n",
       "  <tbody>\n",
       "    <tr>\n",
       "      <th>1</th>\n",
       "      <td>1.000000</td>\n",
       "      <td>0.750000</td>\n",
       "      <td>1.000000</td>\n",
       "      <td>0.750000</td>\n",
       "      <td>0.626888</td>\n",
       "      <td>0.312500</td>\n",
       "      <td>[1, 2, 3]</td>\n",
       "      <td>False</td>\n",
       "      <td></td>\n",
       "      <td>NaN</td>\n",
       "    </tr>\n",
       "    <tr>\n",
       "      <th>2</th>\n",
       "      <td>0.750000</td>\n",
       "      <td>1.000000</td>\n",
       "      <td>0.750000</td>\n",
       "      <td>1.000000</td>\n",
       "      <td>0.626888</td>\n",
       "      <td>0.312500</td>\n",
       "      <td>[1, 2, 3]</td>\n",
       "      <td>False</td>\n",
       "      <td></td>\n",
       "      <td>NaN</td>\n",
       "    </tr>\n",
       "    <tr>\n",
       "      <th>3</th>\n",
       "      <td>0.224580</td>\n",
       "      <td>0.174134</td>\n",
       "      <td>0.224580</td>\n",
       "      <td>0.174134</td>\n",
       "      <td>-0.876389</td>\n",
       "      <td>0.182045</td>\n",
       "      <td>[1, 2, 3]</td>\n",
       "      <td>False</td>\n",
       "      <td></td>\n",
       "      <td>dummy_constant</td>\n",
       "    </tr>\n",
       "    <tr>\n",
       "      <th>4</th>\n",
       "      <td>0.588556</td>\n",
       "      <td>0.624844</td>\n",
       "      <td>0.588556</td>\n",
       "      <td>0.624844</td>\n",
       "      <td>-0.351948</td>\n",
       "      <td>0.023428</td>\n",
       "      <td>[1, 2, 3]</td>\n",
       "      <td>False</td>\n",
       "      <td></td>\n",
       "      <td>dummy_constant</td>\n",
       "    </tr>\n",
       "    <tr>\n",
       "      <th>5</th>\n",
       "      <td>2.837591</td>\n",
       "      <td>0.000000</td>\n",
       "      <td>2.837591</td>\n",
       "      <td>0.000000</td>\n",
       "      <td>6.951924</td>\n",
       "      <td>5.714333</td>\n",
       "      <td>[1, 2, 3]</td>\n",
       "      <td>False</td>\n",
       "      <td></td>\n",
       "      <td>dummy_constant</td>\n",
       "    </tr>\n",
       "    <tr>\n",
       "      <th>6</th>\n",
       "      <td>1.033799</td>\n",
       "      <td>0.387214</td>\n",
       "      <td>1.033799</td>\n",
       "      <td>0.387214</td>\n",
       "      <td>0.133375</td>\n",
       "      <td>0.297662</td>\n",
       "      <td>[1, 2, 3]</td>\n",
       "      <td>False</td>\n",
       "      <td></td>\n",
       "      <td>dummy_constant</td>\n",
       "    </tr>\n",
       "    <tr>\n",
       "      <th>7</th>\n",
       "      <td>1.080381</td>\n",
       "      <td>0.153179</td>\n",
       "      <td>1.080381</td>\n",
       "      <td>0.153179</td>\n",
       "      <td>0.253777</td>\n",
       "      <td>0.457127</td>\n",
       "      <td>[1, 2, 3]</td>\n",
       "      <td>False</td>\n",
       "      <td></td>\n",
       "      <td>dummy_constant</td>\n",
       "    </tr>\n",
       "    <tr>\n",
       "      <th>8</th>\n",
       "      <td>0.930546</td>\n",
       "      <td>0.000000</td>\n",
       "      <td>0.930546</td>\n",
       "      <td>0.000000</td>\n",
       "      <td>-0.234084</td>\n",
       "      <td>0.435370</td>\n",
       "      <td>[1, 2, 3]</td>\n",
       "      <td>False</td>\n",
       "      <td></td>\n",
       "      <td>dummy_constant</td>\n",
       "    </tr>\n",
       "    <tr>\n",
       "      <th>9</th>\n",
       "      <td>0.721274</td>\n",
       "      <td>0.778532</td>\n",
       "      <td>0.721274</td>\n",
       "      <td>0.778532</td>\n",
       "      <td>0.044414</td>\n",
       "      <td>0.126542</td>\n",
       "      <td>[1, 2, 3]</td>\n",
       "      <td>False</td>\n",
       "      <td></td>\n",
       "      <td>dummy_constant</td>\n",
       "    </tr>\n",
       "    <tr>\n",
       "      <th>10</th>\n",
       "      <td>1.015725</td>\n",
       "      <td>0.026729</td>\n",
       "      <td>1.015725</td>\n",
       "      <td>0.026729</td>\n",
       "      <td>-0.058859</td>\n",
       "      <td>0.489958</td>\n",
       "      <td>[1, 2, 3]</td>\n",
       "      <td>False</td>\n",
       "      <td></td>\n",
       "      <td>dummy_constant</td>\n",
       "    </tr>\n",
       "    <tr>\n",
       "      <th>11</th>\n",
       "      <td>0.000000</td>\n",
       "      <td>0.815379</td>\n",
       "      <td>0.000000</td>\n",
       "      <td>0.815379</td>\n",
       "      <td>-0.435157</td>\n",
       "      <td>0.349464</td>\n",
       "      <td>[1, 2, 3]</td>\n",
       "      <td>False</td>\n",
       "      <td></td>\n",
       "      <td>dummy_constant</td>\n",
       "    </tr>\n",
       "    <tr>\n",
       "      <th>12</th>\n",
       "      <td>0.893478</td>\n",
       "      <td>0.584430</td>\n",
       "      <td>0.893478</td>\n",
       "      <td>0.584430</td>\n",
       "      <td>0.238637</td>\n",
       "      <td>0.161953</td>\n",
       "      <td>[1, 2, 3]</td>\n",
       "      <td>False</td>\n",
       "      <td></td>\n",
       "      <td>dummy_constant</td>\n",
       "    </tr>\n",
       "    <tr>\n",
       "      <th>13</th>\n",
       "      <td>0.974433</td>\n",
       "      <td>0.299174</td>\n",
       "      <td>0.974433</td>\n",
       "      <td>0.299174</td>\n",
       "      <td>0.033646</td>\n",
       "      <td>0.265418</td>\n",
       "      <td>[1, 2, 3]</td>\n",
       "      <td>False</td>\n",
       "      <td></td>\n",
       "      <td>dummy_constant</td>\n",
       "    </tr>\n",
       "    <tr>\n",
       "      <th>14</th>\n",
       "      <td>0.603636</td>\n",
       "      <td>0.872975</td>\n",
       "      <td>0.603636</td>\n",
       "      <td>0.872975</td>\n",
       "      <td>0.223232</td>\n",
       "      <td>0.149851</td>\n",
       "      <td>[1, 2, 3]</td>\n",
       "      <td>False</td>\n",
       "      <td></td>\n",
       "      <td>dummy_constant</td>\n",
       "    </tr>\n",
       "    <tr>\n",
       "      <th>15</th>\n",
       "      <td>0.413651</td>\n",
       "      <td>1.510761</td>\n",
       "      <td>0.413651</td>\n",
       "      <td>1.510761</td>\n",
       "      <td>1.495768</td>\n",
       "      <td>1.029094</td>\n",
       "      <td>[1, 2, 3]</td>\n",
       "      <td>False</td>\n",
       "      <td></td>\n",
       "      <td>dummy_constant</td>\n",
       "    </tr>\n",
       "    <tr>\n",
       "      <th>16</th>\n",
       "      <td>0.238315</td>\n",
       "      <td>1.071265</td>\n",
       "      <td>0.238315</td>\n",
       "      <td>1.071265</td>\n",
       "      <td>0.297965</td>\n",
       "      <td>0.394822</td>\n",
       "      <td>[1, 2, 3]</td>\n",
       "      <td>False</td>\n",
       "      <td></td>\n",
       "      <td>dummy_constant</td>\n",
       "    </tr>\n",
       "    <tr>\n",
       "      <th>17</th>\n",
       "      <td>0.246356</td>\n",
       "      <td>0.198905</td>\n",
       "      <td>0.246356</td>\n",
       "      <td>0.198905</td>\n",
       "      <td>-0.886989</td>\n",
       "      <td>0.154994</td>\n",
       "      <td>[1, 2, 3]</td>\n",
       "      <td>False</td>\n",
       "      <td></td>\n",
       "      <td>dummy_constant</td>\n",
       "    </tr>\n",
       "    <tr>\n",
       "      <th>18</th>\n",
       "      <td>0.073747</td>\n",
       "      <td>1.049037</td>\n",
       "      <td>0.073747</td>\n",
       "      <td>1.049037</td>\n",
       "      <td>0.062615</td>\n",
       "      <td>0.483133</td>\n",
       "      <td>[1, 2, 3]</td>\n",
       "      <td>False</td>\n",
       "      <td></td>\n",
       "      <td>dummy_constant</td>\n",
       "    </tr>\n",
       "    <tr>\n",
       "      <th>19</th>\n",
       "      <td>0.963684</td>\n",
       "      <td>0.279876</td>\n",
       "      <td>0.963684</td>\n",
       "      <td>0.279876</td>\n",
       "      <td>0.025905</td>\n",
       "      <td>0.263457</td>\n",
       "      <td>[1, 2, 3]</td>\n",
       "      <td>False</td>\n",
       "      <td></td>\n",
       "      <td>dummy_constant</td>\n",
       "    </tr>\n",
       "    <tr>\n",
       "      <th>20</th>\n",
       "      <td>1.495296</td>\n",
       "      <td>2.591008</td>\n",
       "      <td>1.495296</td>\n",
       "      <td>2.591008</td>\n",
       "      <td>7.998983</td>\n",
       "      <td>5.362929</td>\n",
       "      <td>[1, 2, 3]</td>\n",
       "      <td>False</td>\n",
       "      <td></td>\n",
       "      <td>dummy_constant</td>\n",
       "    </tr>\n",
       "    <tr>\n",
       "      <th>21</th>\n",
       "      <td>1.664886</td>\n",
       "      <td>2.488656</td>\n",
       "      <td>1.664886</td>\n",
       "      <td>2.488656</td>\n",
       "      <td>8.065252</td>\n",
       "      <td>5.311713</td>\n",
       "      <td>[1, 2, 3]</td>\n",
       "      <td>False</td>\n",
       "      <td></td>\n",
       "      <td>dummy_constant</td>\n",
       "    </tr>\n",
       "    <tr>\n",
       "      <th>22</th>\n",
       "      <td>0.333199</td>\n",
       "      <td>0.798831</td>\n",
       "      <td>0.333199</td>\n",
       "      <td>0.798831</td>\n",
       "      <td>-0.350770</td>\n",
       "      <td>0.117122</td>\n",
       "      <td>[1, 2, 3]</td>\n",
       "      <td>False</td>\n",
       "      <td></td>\n",
       "      <td>dummy_constant</td>\n",
       "    </tr>\n",
       "    <tr>\n",
       "      <th>23</th>\n",
       "      <td>1.047296</td>\n",
       "      <td>0.065730</td>\n",
       "      <td>1.047296</td>\n",
       "      <td>0.065730</td>\n",
       "      <td>0.047361</td>\n",
       "      <td>0.488123</td>\n",
       "      <td>[1, 2, 3]</td>\n",
       "      <td>False</td>\n",
       "      <td></td>\n",
       "      <td>dummy_constant</td>\n",
       "    </tr>\n",
       "    <tr>\n",
       "      <th>24</th>\n",
       "      <td>0.379775</td>\n",
       "      <td>0.942064</td>\n",
       "      <td>0.379775</td>\n",
       "      <td>0.942064</td>\n",
       "      <td>-0.067134</td>\n",
       "      <td>0.209875</td>\n",
       "      <td>[1, 2, 3]</td>\n",
       "      <td>False</td>\n",
       "      <td></td>\n",
       "      <td>dummy_constant</td>\n",
       "    </tr>\n",
       "    <tr>\n",
       "      <th>25</th>\n",
       "      <td>0.496768</td>\n",
       "      <td>0.781191</td>\n",
       "      <td>0.496768</td>\n",
       "      <td>0.781191</td>\n",
       "      <td>-0.049453</td>\n",
       "      <td>0.079079</td>\n",
       "      <td>[1, 2, 3]</td>\n",
       "      <td>False</td>\n",
       "      <td></td>\n",
       "      <td>dummy_constant</td>\n",
       "    </tr>\n",
       "    <tr>\n",
       "      <th>26</th>\n",
       "      <td>0.791155</td>\n",
       "      <td>0.642330</td>\n",
       "      <td>0.791155</td>\n",
       "      <td>0.642330</td>\n",
       "      <td>0.046944</td>\n",
       "      <td>0.105029</td>\n",
       "      <td>[1, 2, 3]</td>\n",
       "      <td>False</td>\n",
       "      <td></td>\n",
       "      <td>dummy_constant</td>\n",
       "    </tr>\n",
       "    <tr>\n",
       "      <th>27</th>\n",
       "      <td>0.562587</td>\n",
       "      <td>0.842886</td>\n",
       "      <td>0.562587</td>\n",
       "      <td>0.842886</td>\n",
       "      <td>0.126958</td>\n",
       "      <td>0.121488</td>\n",
       "      <td>[1, 2, 3]</td>\n",
       "      <td>False</td>\n",
       "      <td></td>\n",
       "      <td>dummy_constant</td>\n",
       "    </tr>\n",
       "    <tr>\n",
       "      <th>28</th>\n",
       "      <td>1.014820</td>\n",
       "      <td>0.190320</td>\n",
       "      <td>1.014820</td>\n",
       "      <td>0.190320</td>\n",
       "      <td>0.164547</td>\n",
       "      <td>0.360941</td>\n",
       "      <td>[1, 2, 3]</td>\n",
       "      <td>False</td>\n",
       "      <td></td>\n",
       "      <td>dummy_constant</td>\n",
       "    </tr>\n",
       "    <tr>\n",
       "      <th>29</th>\n",
       "      <td>0.897506</td>\n",
       "      <td>0.462305</td>\n",
       "      <td>0.897506</td>\n",
       "      <td>0.462305</td>\n",
       "      <td>-0.004869</td>\n",
       "      <td>0.159432</td>\n",
       "      <td>[1, 2, 3]</td>\n",
       "      <td>False</td>\n",
       "      <td></td>\n",
       "      <td>dummy_constant</td>\n",
       "    </tr>\n",
       "    <tr>\n",
       "      <th>30</th>\n",
       "      <td>0.109341</td>\n",
       "      <td>1.065127</td>\n",
       "      <td>0.109341</td>\n",
       "      <td>1.065127</td>\n",
       "      <td>0.153042</td>\n",
       "      <td>0.471982</td>\n",
       "      <td>[1, 2, 3]</td>\n",
       "      <td>False</td>\n",
       "      <td></td>\n",
       "      <td>dummy_constant</td>\n",
       "    </tr>\n",
       "    <tr>\n",
       "      <th>31</th>\n",
       "      <td>0.482469</td>\n",
       "      <td>0.902198</td>\n",
       "      <td>0.482469</td>\n",
       "      <td>0.902198</td>\n",
       "      <td>0.047060</td>\n",
       "      <td>0.162071</td>\n",
       "      <td>[1, 2, 3]</td>\n",
       "      <td>False</td>\n",
       "      <td></td>\n",
       "      <td>dummy_constant</td>\n",
       "    </tr>\n",
       "    <tr>\n",
       "      <th>32</th>\n",
       "      <td>2.207800</td>\n",
       "      <td>0.886520</td>\n",
       "      <td>2.207800</td>\n",
       "      <td>0.886520</td>\n",
       "      <td>4.561805</td>\n",
       "      <td>3.065978</td>\n",
       "      <td>[1, 2, 3]</td>\n",
       "      <td>False</td>\n",
       "      <td></td>\n",
       "      <td>dummy_constant</td>\n",
       "    </tr>\n",
       "  </tbody>\n",
       "</table>\n",
       "</div>"
      ],
      "text/plain": [
       "          x1        x2        y1        y2        c1        c2 some_array  \\\n",
       "1   1.000000  0.750000  1.000000  0.750000  0.626888  0.312500  [1, 2, 3]   \n",
       "2   0.750000  1.000000  0.750000  1.000000  0.626888  0.312500  [1, 2, 3]   \n",
       "3   0.224580  0.174134  0.224580  0.174134 -0.876389  0.182045  [1, 2, 3]   \n",
       "4   0.588556  0.624844  0.588556  0.624844 -0.351948  0.023428  [1, 2, 3]   \n",
       "5   2.837591  0.000000  2.837591  0.000000  6.951924  5.714333  [1, 2, 3]   \n",
       "6   1.033799  0.387214  1.033799  0.387214  0.133375  0.297662  [1, 2, 3]   \n",
       "7   1.080381  0.153179  1.080381  0.153179  0.253777  0.457127  [1, 2, 3]   \n",
       "8   0.930546  0.000000  0.930546  0.000000 -0.234084  0.435370  [1, 2, 3]   \n",
       "9   0.721274  0.778532  0.721274  0.778532  0.044414  0.126542  [1, 2, 3]   \n",
       "10  1.015725  0.026729  1.015725  0.026729 -0.058859  0.489958  [1, 2, 3]   \n",
       "11  0.000000  0.815379  0.000000  0.815379 -0.435157  0.349464  [1, 2, 3]   \n",
       "12  0.893478  0.584430  0.893478  0.584430  0.238637  0.161953  [1, 2, 3]   \n",
       "13  0.974433  0.299174  0.974433  0.299174  0.033646  0.265418  [1, 2, 3]   \n",
       "14  0.603636  0.872975  0.603636  0.872975  0.223232  0.149851  [1, 2, 3]   \n",
       "15  0.413651  1.510761  0.413651  1.510761  1.495768  1.029094  [1, 2, 3]   \n",
       "16  0.238315  1.071265  0.238315  1.071265  0.297965  0.394822  [1, 2, 3]   \n",
       "17  0.246356  0.198905  0.246356  0.198905 -0.886989  0.154994  [1, 2, 3]   \n",
       "18  0.073747  1.049037  0.073747  1.049037  0.062615  0.483133  [1, 2, 3]   \n",
       "19  0.963684  0.279876  0.963684  0.279876  0.025905  0.263457  [1, 2, 3]   \n",
       "20  1.495296  2.591008  1.495296  2.591008  7.998983  5.362929  [1, 2, 3]   \n",
       "21  1.664886  2.488656  1.664886  2.488656  8.065252  5.311713  [1, 2, 3]   \n",
       "22  0.333199  0.798831  0.333199  0.798831 -0.350770  0.117122  [1, 2, 3]   \n",
       "23  1.047296  0.065730  1.047296  0.065730  0.047361  0.488123  [1, 2, 3]   \n",
       "24  0.379775  0.942064  0.379775  0.942064 -0.067134  0.209875  [1, 2, 3]   \n",
       "25  0.496768  0.781191  0.496768  0.781191 -0.049453  0.079079  [1, 2, 3]   \n",
       "26  0.791155  0.642330  0.791155  0.642330  0.046944  0.105029  [1, 2, 3]   \n",
       "27  0.562587  0.842886  0.562587  0.842886  0.126958  0.121488  [1, 2, 3]   \n",
       "28  1.014820  0.190320  1.014820  0.190320  0.164547  0.360941  [1, 2, 3]   \n",
       "29  0.897506  0.462305  0.897506  0.462305 -0.004869  0.159432  [1, 2, 3]   \n",
       "30  0.109341  1.065127  0.109341  1.065127  0.153042  0.471982  [1, 2, 3]   \n",
       "31  0.482469  0.902198  0.482469  0.902198  0.047060  0.162071  [1, 2, 3]   \n",
       "32  2.207800  0.886520  2.207800  0.886520  4.561805  3.065978  [1, 2, 3]   \n",
       "\n",
       "    xopt_error xopt_error_str               a  \n",
       "1        False                            NaN  \n",
       "2        False                            NaN  \n",
       "3        False                 dummy_constant  \n",
       "4        False                 dummy_constant  \n",
       "5        False                 dummy_constant  \n",
       "6        False                 dummy_constant  \n",
       "7        False                 dummy_constant  \n",
       "8        False                 dummy_constant  \n",
       "9        False                 dummy_constant  \n",
       "10       False                 dummy_constant  \n",
       "11       False                 dummy_constant  \n",
       "12       False                 dummy_constant  \n",
       "13       False                 dummy_constant  \n",
       "14       False                 dummy_constant  \n",
       "15       False                 dummy_constant  \n",
       "16       False                 dummy_constant  \n",
       "17       False                 dummy_constant  \n",
       "18       False                 dummy_constant  \n",
       "19       False                 dummy_constant  \n",
       "20       False                 dummy_constant  \n",
       "21       False                 dummy_constant  \n",
       "22       False                 dummy_constant  \n",
       "23       False                 dummy_constant  \n",
       "24       False                 dummy_constant  \n",
       "25       False                 dummy_constant  \n",
       "26       False                 dummy_constant  \n",
       "27       False                 dummy_constant  \n",
       "28       False                 dummy_constant  \n",
       "29       False                 dummy_constant  \n",
       "30       False                 dummy_constant  \n",
       "31       False                 dummy_constant  \n",
       "32       False                 dummy_constant  "
      ]
     },
     "execution_count": 3,
     "metadata": {},
     "output_type": "execute_result"
    }
   ],
   "source": [
    "X.generator.data"
   ]
  },
  {
   "cell_type": "markdown",
   "metadata": {
    "collapsed": false,
    "pycharm": {
     "name": "#%% md\n"
    }
   },
   "source": [
    "## plot results\n"
   ]
  },
  {
   "cell_type": "code",
   "execution_count": 4,
   "metadata": {
    "collapsed": false,
    "execution": {
     "iopub.execute_input": "2022-08-15T16:52:23.607115Z",
     "iopub.status.busy": "2022-08-15T16:52:23.606044Z",
     "iopub.status.idle": "2022-08-15T16:52:24.338349Z",
     "shell.execute_reply": "2022-08-15T16:52:24.337793Z"
    },
    "pycharm": {
     "name": "#%%\n"
    }
   },
   "outputs": [
    {
     "data": {
      "image/png": "[encoded data removed]",
      "text/plain": [
       "<Figure size 432x288 with 1 Axes>"
      ]
     },
     "metadata": {
      "needs_background": "light"
     },
     "output_type": "display_data"
    }
   ],
   "source": [
    "import matplotlib.pyplot as plt\n",
    "\n",
    "fig, ax = plt.subplots()\n",
    "\n",
    "theta = np.linspace(0, np.pi / 2)\n",
    "r = np.sqrt(1 + 0.1 * np.cos(16 * theta))\n",
    "x_1 = r * np.sin(theta)\n",
    "x_2_lower = r * np.cos(theta)\n",
    "x_2_upper = (0.5 - (x_1 - 0.5) ** 2) ** 0.5 + 0.5\n",
    "\n",
    "z = np.zeros_like(x_1)\n",
    "\n",
    "# ax2.plot(x_1, x_2_lower,'r')\n",
    "ax.fill_between(x_1, z, x_2_lower, fc=\"white\")\n",
    "circle = plt.Circle(\n",
    "    (0.5, 0.5), 0.5 ** 0.5, color=\"r\", alpha=0.25, zorder=0, label=\"Valid Region\"\n",
    ")\n",
    "ax.add_patch(circle)\n",
    "history = pd.concat(\n",
    "    [X.data, tnk_vocs.feasibility_data(X.data)], axis=1, ignore_index=False\n",
    ")\n",
    "\n",
    "\n",
    "ax.plot(*history[[\"x1\", \"x2\"]][history[\"feasible\"]].to_numpy().T, \".C1\")\n",
    "ax.plot(*history[[\"x1\", \"x2\"]][~history[\"feasible\"]].to_numpy().T, \".C2\")\n",
    "\n",
    "ax.set_xlim(0, 3.14)\n",
    "ax.set_ylim(0, 3.14)\n",
    "ax.set_xlabel(\"x1\")\n",
    "ax.set_ylabel(\"x2\")\n",
    "ax.set_aspect(\"equal\")"
   ]
  },
  {
   "cell_type": "markdown",
   "metadata": {
    "collapsed": false,
    "pycharm": {
     "name": "#%% md\n"
    }
   },
   "source": [
    "### Plot path through input space"
   ]
  },
  {
   "cell_type": "code",
   "execution_count": 5,
   "metadata": {
    "collapsed": false,
    "execution": {
     "iopub.execute_input": "2022-08-15T16:52:24.342666Z",
     "iopub.status.busy": "2022-08-15T16:52:24.342108Z",
     "iopub.status.idle": "2022-08-15T16:52:24.444830Z",
     "shell.execute_reply": "2022-08-15T16:52:24.444282Z"
    },
    "pycharm": {
     "name": "#%%\n"
    }
   },
   "outputs": [
    {
     "data": {
      "image/png": "[encoded data removed]",
      "text/plain": [
       "<Figure size 432x288 with 1 Axes>"
      ]
     },
     "metadata": {
      "needs_background": "light"
     },
     "output_type": "display_data"
    }
   ],
   "source": [
    "ax = history.plot(\"x1\", \"x2\")\n",
    "ax.set_ylim(0, 3.14)\n",
    "ax.set_xlim(0, 3.14)\n",
    "ax.set_aspect(\"equal\")"
   ]
  },
  {
   "cell_type": "code",
   "execution_count": 6,
   "metadata": {
    "collapsed": false,
    "execution": {
     "iopub.execute_input": "2022-08-15T16:52:24.449156Z",
     "iopub.status.busy": "2022-08-15T16:52:24.448058Z",
     "iopub.status.idle": "2022-08-15T16:52:38.980119Z",
     "shell.execute_reply": "2022-08-15T16:52:38.979432Z"
    },
    "pycharm": {
     "name": "#%%\n"
    }
   },
   "outputs": [
    {
     "name": "stderr",
     "output_type": "stream",
     "text": [
      "/usr/share/miniconda/envs/xopt-dev/lib/python3.9/site-packages/torch/functional.py:478: UserWarning: torch.meshgrid: in an upcoming release, it will be required to pass the indexing argument. (Triggered internally at  /home/conda/feedstock_root/build_artifacts/pytorch-recipe_1660136119739/work/aten/src/ATen/native/TensorShape.cpp:2894.)\n",
      "  return _VF.meshgrid(tensors, **kwargs)  # type: ignore[attr-defined]\n"
     ]
    },
    {
     "name": "stdout",
     "output_type": "stream",
     "text": [
      "[[0.18975668 1.00187108]]\n"
     ]
    },
    {
     "data": {
      "text/plain": [
       "[<matplotlib.lines.Line2D at 0x7f2a86bf5a00>]"
      ]
     },
     "execution_count": 6,
     "metadata": {},
     "output_type": "execute_result"
    },
    {
     "data": {
      "image/png": "[encoded data removed]",
      "text/plain": [
       "<Figure size 432x288 with 2 Axes>"
      ]
     },
     "metadata": {
      "needs_background": "light"
     },
     "output_type": "display_data"
    },
    {
     "data": {
      "image/png": "[encoded data removed]",
      "text/plain": [
       "<Figure size 432x288 with 2 Axes>"
      ]
     },
     "metadata": {
      "needs_background": "light"
     },
     "output_type": "display_data"
    }
   ],
   "source": [
    "# plot the acquisition function\n",
    "from xopt.generators.bayesian.utils import feasibility\n",
    "\n",
    "bounds = generator.vocs.bounds\n",
    "model = generator.model\n",
    "\n",
    "# create mesh\n",
    "n = 200\n",
    "x = torch.linspace(*bounds.T[0], n)\n",
    "y = torch.linspace(*bounds.T[1], n)\n",
    "xx, yy = torch.meshgrid(x, y)\n",
    "pts = torch.hstack([ele.reshape(-1, 1) for ele in (xx, yy)]).double()\n",
    "\n",
    "acq_func = generator.get_acquisition(model)\n",
    "with torch.no_grad():\n",
    "    acq_pts = pts.unsqueeze(1)\n",
    "    acq = acq_func(acq_pts)\n",
    "\n",
    "    fig, ax = plt.subplots()\n",
    "    c = ax.pcolor(xx, yy, acq.reshape(n, n), cmap=\"Blues\")\n",
    "    fig.colorbar(c)\n",
    "    ax.set_title(\"Acquisition function\")\n",
    "\n",
    "    ax.plot(*history[[\"x1\", \"x2\"]][history[\"feasible\"]].to_numpy().T, \".C1\")\n",
    "    ax.plot(*history[[\"x1\", \"x2\"]][~history[\"feasible\"]].to_numpy().T, \".C2\")\n",
    "\n",
    "    ax.plot(*history[[\"x1\", \"x2\"]].to_numpy()[-1].T, \"+\")\n",
    "\n",
    "    feas = feasibility(pts.unsqueeze(1), model, generator.sampler, tnk_vocs).flatten()\n",
    "\n",
    "    fig2, ax2 = plt.subplots()\n",
    "    c = ax2.pcolor(xx, yy, feas.reshape(n, n))\n",
    "    fig2.colorbar(c)\n",
    "    ax2.set_title(\"Feasible Region\")\n",
    "\n",
    "candidate = generator.generate(1)\n",
    "print(candidate[[\"x1\", \"x2\"]].to_numpy())\n",
    "ax.plot(*candidate[[\"x1\", \"x2\"]].to_numpy()[0], \"o\")"
   ]
  },
  {
   "cell_type": "code",
   "execution_count": 7,
   "metadata": {
    "collapsed": false,
    "execution": {
     "iopub.execute_input": "2022-08-15T16:52:38.983791Z",
     "iopub.status.busy": "2022-08-15T16:52:38.983342Z",
     "iopub.status.idle": "2022-08-15T16:52:40.262895Z",
     "shell.execute_reply": "2022-08-15T16:52:40.262290Z"
    },
    "pycharm": {
     "name": "#%%\n"
    }
   },
   "outputs": [
    {
     "name": "stdout",
     "output_type": "stream",
     "text": [
      "CPU times: user 2.45 s, sys: 83.7 ms, total: 2.53 s\n",
      "Wall time: 1.27 s\n"
     ]
    }
   ],
   "source": [
    "%%time\n",
    "candidate = generator.generate(1)"
   ]
  }
 ],
 "metadata": {
  "interpreter": {
   "hash": "72034539424920dfb606fe3b820b3f27dca0cbf1c69938110810ec4641e275b1"
  },
  "kernelspec": {
   "display_name": "Python 3 (ipykernel)",
   "language": "python",
   "name": "python3"
  },
  "language_info": {
   "codemirror_mode": {
    "name": "ipython",
    "version": 3
   },
   "file_extension": ".py",
   "mimetype": "text/x-python",
   "name": "python",
   "nbconvert_exporter": "python",
   "pygments_lexer": "ipython3",
   "version": "3.9.13"
  }
 },
 "nbformat": 4,
 "nbformat_minor": 4
}
