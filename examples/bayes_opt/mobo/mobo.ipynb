{
 "cells": [
  {
   "cell_type": "markdown",
   "metadata": {
    "pycharm": {
     "name": "#%% md\n"
    }
   },
   "source": [
    "\n",
    "# Multi-objective Bayesian Optimization\n",
    "\n",
    "\n",
    "TNK function\n",
    "$n=2$ variables:\n",
    "$x_i \\in [0, \\pi], i=1,2$\n",
    "\n",
    "Objectives:\n",
    "- $f_i(x) = x_i$\n",
    "\n",
    "Constraints:\n",
    "- $g_1(x) = -x_1^2 -x_2^2 + 1 + 0.1 \\cos\\left(16 \\arctan \\frac{x_1}{x_2}\\right) \\le 0$\n",
    "- $g_2(x) = (x_1 - 1/2)^2 + (x_2-1/2)^2 \\le 0.5$"
   ]
  },
  {
   "cell_type": "code",
   "execution_count": 1,
   "metadata": {
    "collapsed": false,
    "execution": {
     "iopub.execute_input": "2022-08-19T20:35:38.546033Z",
     "iopub.status.busy": "2022-08-19T20:35:38.545658Z",
     "iopub.status.idle": "2022-08-19T20:35:39.656951Z",
     "shell.execute_reply": "2022-08-19T20:35:39.653894Z"
    },
    "pycharm": {
     "name": "#%%\n"
    }
   },
   "outputs": [
    {
     "name": "stdout",
     "output_type": "stream",
     "text": [
      "{'variables': {'x1': [0.0, 3.14159], 'x2': [0.0, 3.14159]}, 'constraints': {'c1': ['GREATER_THAN', 0.0], 'c2': ['LESS_THAN', 0.5]}, 'objectives': {'y1': 'MINIMIZE', 'y2': 'MINIMIZE'}, 'constants': {'a': 'dummy_constant'}, 'linked_variables': {}}\n"
     ]
    }
   ],
   "source": [
    "%reset -f\n",
    "from copy import deepcopy\n",
    "\n",
    "import pandas as pd\n",
    "import numpy as np\n",
    "import torch\n",
    "\n",
    "from xopt import Xopt, Evaluator\n",
    "from xopt.generators.bayesian import MOBOGenerator\n",
    "from xopt.resources.test_functions.tnk import evaluate_TNK, tnk_vocs\n",
    "\n",
    "\n",
    "evaluator = Evaluator(function=evaluate_TNK)\n",
    "print(tnk_vocs.dict())"
   ]
  },
  {
   "cell_type": "code",
   "execution_count": 2,
   "metadata": {
    "collapsed": false,
    "execution": {
     "iopub.execute_input": "2022-08-19T20:35:39.691990Z",
     "iopub.status.busy": "2022-08-19T20:35:39.691705Z",
     "iopub.status.idle": "2022-08-19T20:36:35.172250Z",
     "shell.execute_reply": "2022-08-19T20:36:35.171707Z"
    },
    "pycharm": {
     "name": "#%%\n"
    }
   },
   "outputs": [
    {
     "name": "stdout",
     "output_type": "stream",
     "text": [
      "optim=OptimOptions(num_restarts=1, raw_samples=50, sequential=True, use_nearby_initial_points=True, max_travel_distances=None) acq=MOBOAcqOptions(proximal_lengthscales=[1.0, 1.0], use_transformed_proximal_weights=True, monte_carlo_samples=128, ref_point=None, use_data_as_reference=True) model=ModelOptions(use_conservative_prior_lengthscale=False, use_conservative_prior_mean=False, use_low_noise_prior=True) n_initial=(2,)\n",
      "0\n",
      "1\n"
     ]
    },
    {
     "name": "stderr",
     "output_type": "stream",
     "text": [
      "/usr/share/miniconda/envs/xopt-dev/lib/python3.9/site-packages/gpytorch/lazy/lazy_tensor.py:1811: UserWarning: torch.triangular_solve is deprecated in favor of torch.linalg.solve_triangularand will be removed in a future PyTorch release.\n",
      "torch.linalg.solve_triangular has its arguments reversed and does not return a copy of one of the inputs.\n",
      "X = torch.triangular_solve(B, A).solution\n",
      "should be replaced with\n",
      "X = torch.linalg.solve_triangular(A, B). (Triggered internally at  /home/conda/feedstock_root/build_artifacts/pytorch-recipe_1660136119739/work/aten/src/ATen/native/BatchLinearAlgebra.cpp:2183.)\n",
      "  Linv = torch.triangular_solve(Eye, L, upper=False).solution\n"
     ]
    },
    {
     "name": "stdout",
     "output_type": "stream",
     "text": [
      "2\n"
     ]
    },
    {
     "name": "stderr",
     "output_type": "stream",
     "text": [
      "/usr/share/miniconda/envs/xopt-dev/lib/python3.9/site-packages/botorch/optim/optimize.py:287: RuntimeWarning: Optimization failed in `gen_candidates_scipy` with the following warning(s):\n",
      "[OptimizationWarning('Optimization failed within `scipy.optimize.minimize` with status 2.')]\n",
      "Because you specified `batch_initial_conditions`, optimization will not be retried with new initial conditions and will proceed with the current solution. Suggested remediation: Try again with different `batch_initial_conditions`, or don't provide `batch_initial_conditions.`\n",
      "  warnings.warn(first_warn_msg, RuntimeWarning)\n"
     ]
    },
    {
     "name": "stdout",
     "output_type": "stream",
     "text": [
      "3\n"
     ]
    },
    {
     "name": "stderr",
     "output_type": "stream",
     "text": [
      "/usr/share/miniconda/envs/xopt-dev/lib/python3.9/site-packages/botorch/optim/optimize.py:287: RuntimeWarning: Optimization failed in `gen_candidates_scipy` with the following warning(s):\n",
      "[OptimizationWarning('Optimization failed within `scipy.optimize.minimize` with status 2.'), OptimizationWarning('Optimization failed within `scipy.optimize.minimize` with status 2.')]\n",
      "Because you specified `batch_initial_conditions`, optimization will not be retried with new initial conditions and will proceed with the current solution. Suggested remediation: Try again with different `batch_initial_conditions`, or don't provide `batch_initial_conditions.`\n",
      "  warnings.warn(first_warn_msg, RuntimeWarning)\n"
     ]
    },
    {
     "name": "stdout",
     "output_type": "stream",
     "text": [
      "4\n",
      "5\n",
      "6\n",
      "7\n",
      "8\n",
      "9\n",
      "10\n",
      "11\n",
      "12\n",
      "13\n",
      "14\n",
      "15\n",
      "16\n",
      "17\n",
      "18\n",
      "19\n",
      "20\n",
      "21\n",
      "22\n",
      "23\n",
      "24\n",
      "25\n",
      "26\n",
      "27\n",
      "28\n",
      "29\n"
     ]
    }
   ],
   "source": [
    "options = MOBOGenerator.default_options()\n",
    "options.n_initial = (2,)\n",
    "options.optim.num_restarts = 1\n",
    "options.optim.raw_samples = 50\n",
    "options.acq.proximal_lengthscales = [1.0, 1.0]\n",
    "options.model.use_low_noise_prior = True\n",
    "print(options)\n",
    "generator = MOBOGenerator(tnk_vocs, options)\n",
    "\n",
    "X = Xopt(generator=generator, evaluator=evaluator, vocs=tnk_vocs)\n",
    "X.submit_data(pd.DataFrame({\"x1\":[1.0, 0.75],\"x2\":[0.75, 1.0]}))\n",
    "for i in range(30):\n",
    "    print(i)\n",
    "    X.step()"
   ]
  },
  {
   "cell_type": "code",
   "execution_count": 3,
   "metadata": {
    "collapsed": false,
    "execution": {
     "iopub.execute_input": "2022-08-19T20:36:35.176150Z",
     "iopub.status.busy": "2022-08-19T20:36:35.174979Z",
     "iopub.status.idle": "2022-08-19T20:36:35.204373Z",
     "shell.execute_reply": "2022-08-19T20:36:35.203900Z"
    },
    "pycharm": {
     "name": "#%%\n"
    }
   },
   "outputs": [
    {
     "data": {
      "text/html": [
       "<div>\n",
       "<style scoped>\n",
       "    .dataframe tbody tr th:only-of-type {\n",
       "        vertical-align: middle;\n",
       "    }\n",
       "\n",
       "    .dataframe tbody tr th {\n",
       "        vertical-align: top;\n",
       "    }\n",
       "\n",
       "    .dataframe thead th {\n",
       "        text-align: right;\n",
       "    }\n",
       "</style>\n",
       "<table border=\"1\" class=\"dataframe\">\n",
       "  <thead>\n",
       "    <tr style=\"text-align: right;\">\n",
       "      <th></th>\n",
       "      <th>x1</th>\n",
       "      <th>x2</th>\n",
       "      <th>a</th>\n",
       "      <th>y1</th>\n",
       "      <th>y2</th>\n",
       "      <th>c1</th>\n",
       "      <th>c2</th>\n",
       "      <th>some_array</th>\n",
       "      <th>xopt_runtime</th>\n",
       "      <th>xopt_error</th>\n",
       "    </tr>\n",
       "  </thead>\n",
       "  <tbody>\n",
       "    <tr>\n",
       "      <th>3</th>\n",
       "      <td>1.051017</td>\n",
       "      <td>0.832946</td>\n",
       "      <td>dummy_constant</td>\n",
       "      <td>1.051017</td>\n",
       "      <td>0.832946</td>\n",
       "      <td>0.825401</td>\n",
       "      <td>0.414473</td>\n",
       "      <td>[1, 2, 3]</td>\n",
       "      <td>0.000025</td>\n",
       "      <td>False</td>\n",
       "    </tr>\n",
       "    <tr>\n",
       "      <th>4</th>\n",
       "      <td>2.285881</td>\n",
       "      <td>1.746936</td>\n",
       "      <td>dummy_constant</td>\n",
       "      <td>2.285881</td>\n",
       "      <td>1.746936</td>\n",
       "      <td>7.329716</td>\n",
       "      <td>4.744218</td>\n",
       "      <td>[1, 2, 3]</td>\n",
       "      <td>0.000010</td>\n",
       "      <td>False</td>\n",
       "    </tr>\n",
       "    <tr>\n",
       "      <th>5</th>\n",
       "      <td>0.669639</td>\n",
       "      <td>0.546765</td>\n",
       "      <td>dummy_constant</td>\n",
       "      <td>0.669639</td>\n",
       "      <td>0.546765</td>\n",
       "      <td>-0.248637</td>\n",
       "      <td>0.030964</td>\n",
       "      <td>[1, 2, 3]</td>\n",
       "      <td>0.000032</td>\n",
       "      <td>False</td>\n",
       "    </tr>\n",
       "    <tr>\n",
       "      <th>6</th>\n",
       "      <td>0.853812</td>\n",
       "      <td>0.683724</td>\n",
       "      <td>dummy_constant</td>\n",
       "      <td>0.853812</td>\n",
       "      <td>0.683724</td>\n",
       "      <td>0.215556</td>\n",
       "      <td>0.158937</td>\n",
       "      <td>[1, 2, 3]</td>\n",
       "      <td>0.000032</td>\n",
       "      <td>False</td>\n",
       "    </tr>\n",
       "    <tr>\n",
       "      <th>7</th>\n",
       "      <td>1.172234</td>\n",
       "      <td>0.060563</td>\n",
       "      <td>dummy_constant</td>\n",
       "      <td>1.172234</td>\n",
       "      <td>0.060563</td>\n",
       "      <td>0.310010</td>\n",
       "      <td>0.645003</td>\n",
       "      <td>[1, 2, 3]</td>\n",
       "      <td>0.000032</td>\n",
       "      <td>False</td>\n",
       "    </tr>\n",
       "    <tr>\n",
       "      <th>8</th>\n",
       "      <td>1.028746</td>\n",
       "      <td>0.233467</td>\n",
       "      <td>dummy_constant</td>\n",
       "      <td>1.028746</td>\n",
       "      <td>0.233467</td>\n",
       "      <td>0.203762</td>\n",
       "      <td>0.350612</td>\n",
       "      <td>[1, 2, 3]</td>\n",
       "      <td>0.000033</td>\n",
       "      <td>False</td>\n",
       "    </tr>\n",
       "    <tr>\n",
       "      <th>9</th>\n",
       "      <td>0.772830</td>\n",
       "      <td>0.636608</td>\n",
       "      <td>dummy_constant</td>\n",
       "      <td>0.772830</td>\n",
       "      <td>0.636608</td>\n",
       "      <td>-0.000382</td>\n",
       "      <td>0.093098</td>\n",
       "      <td>[1, 2, 3]</td>\n",
       "      <td>0.000033</td>\n",
       "      <td>False</td>\n",
       "    </tr>\n",
       "    <tr>\n",
       "      <th>10</th>\n",
       "      <td>1.006401</td>\n",
       "      <td>0.097717</td>\n",
       "      <td>dummy_constant</td>\n",
       "      <td>1.006401</td>\n",
       "      <td>0.097717</td>\n",
       "      <td>0.020180</td>\n",
       "      <td>0.418274</td>\n",
       "      <td>[1, 2, 3]</td>\n",
       "      <td>0.000034</td>\n",
       "      <td>False</td>\n",
       "    </tr>\n",
       "    <tr>\n",
       "      <th>11</th>\n",
       "      <td>1.035772</td>\n",
       "      <td>0.047925</td>\n",
       "      <td>dummy_constant</td>\n",
       "      <td>1.035772</td>\n",
       "      <td>0.047925</td>\n",
       "      <td>0.001259</td>\n",
       "      <td>0.491424</td>\n",
       "      <td>[1, 2, 3]</td>\n",
       "      <td>0.000034</td>\n",
       "      <td>False</td>\n",
       "    </tr>\n",
       "    <tr>\n",
       "      <th>12</th>\n",
       "      <td>0.894726</td>\n",
       "      <td>0.352584</td>\n",
       "      <td>dummy_constant</td>\n",
       "      <td>0.894726</td>\n",
       "      <td>0.352584</td>\n",
       "      <td>-0.171337</td>\n",
       "      <td>0.177540</td>\n",
       "      <td>[1, 2, 3]</td>\n",
       "      <td>0.000032</td>\n",
       "      <td>False</td>\n",
       "    </tr>\n",
       "    <tr>\n",
       "      <th>13</th>\n",
       "      <td>0.520803</td>\n",
       "      <td>1.013263</td>\n",
       "      <td>dummy_constant</td>\n",
       "      <td>0.520803</td>\n",
       "      <td>1.013263</td>\n",
       "      <td>0.272461</td>\n",
       "      <td>0.263872</td>\n",
       "      <td>[1, 2, 3]</td>\n",
       "      <td>0.000033</td>\n",
       "      <td>False</td>\n",
       "    </tr>\n",
       "    <tr>\n",
       "      <th>14</th>\n",
       "      <td>0.230259</td>\n",
       "      <td>1.041767</td>\n",
       "      <td>dummy_constant</td>\n",
       "      <td>0.230259</td>\n",
       "      <td>1.041767</td>\n",
       "      <td>0.232611</td>\n",
       "      <td>0.366272</td>\n",
       "      <td>[1, 2, 3]</td>\n",
       "      <td>0.000034</td>\n",
       "      <td>False</td>\n",
       "    </tr>\n",
       "    <tr>\n",
       "      <th>15</th>\n",
       "      <td>0.405607</td>\n",
       "      <td>0.911255</td>\n",
       "      <td>dummy_constant</td>\n",
       "      <td>0.405607</td>\n",
       "      <td>0.911255</td>\n",
       "      <td>-0.096517</td>\n",
       "      <td>0.178040</td>\n",
       "      <td>[1, 2, 3]</td>\n",
       "      <td>0.000036</td>\n",
       "      <td>False</td>\n",
       "    </tr>\n",
       "    <tr>\n",
       "      <th>16</th>\n",
       "      <td>0.296626</td>\n",
       "      <td>0.951356</td>\n",
       "      <td>dummy_constant</td>\n",
       "      <td>0.296626</td>\n",
       "      <td>0.951356</td>\n",
       "      <td>-0.019248</td>\n",
       "      <td>0.245084</td>\n",
       "      <td>[1, 2, 3]</td>\n",
       "      <td>0.000034</td>\n",
       "      <td>False</td>\n",
       "    </tr>\n",
       "    <tr>\n",
       "      <th>17</th>\n",
       "      <td>0.581428</td>\n",
       "      <td>1.689639</td>\n",
       "      <td>dummy_constant</td>\n",
       "      <td>0.581428</td>\n",
       "      <td>1.689639</td>\n",
       "      <td>2.137273</td>\n",
       "      <td>1.421871</td>\n",
       "      <td>[1, 2, 3]</td>\n",
       "      <td>0.000032</td>\n",
       "      <td>False</td>\n",
       "    </tr>\n",
       "    <tr>\n",
       "      <th>18</th>\n",
       "      <td>0.922720</td>\n",
       "      <td>2.762760</td>\n",
       "      <td>dummy_constant</td>\n",
       "      <td>0.922720</td>\n",
       "      <td>2.762760</td>\n",
       "      <td>7.441210</td>\n",
       "      <td>5.298776</td>\n",
       "      <td>[1, 2, 3]</td>\n",
       "      <td>0.000034</td>\n",
       "      <td>False</td>\n",
       "    </tr>\n",
       "    <tr>\n",
       "      <th>19</th>\n",
       "      <td>0.068993</td>\n",
       "      <td>1.028752</td>\n",
       "      <td>dummy_constant</td>\n",
       "      <td>0.068993</td>\n",
       "      <td>1.028752</td>\n",
       "      <td>0.015204</td>\n",
       "      <td>0.465346</td>\n",
       "      <td>[1, 2, 3]</td>\n",
       "      <td>0.000033</td>\n",
       "      <td>False</td>\n",
       "    </tr>\n",
       "    <tr>\n",
       "      <th>20</th>\n",
       "      <td>0.788039</td>\n",
       "      <td>0.656630</td>\n",
       "      <td>dummy_constant</td>\n",
       "      <td>0.788039</td>\n",
       "      <td>0.656630</td>\n",
       "      <td>0.040255</td>\n",
       "      <td>0.107499</td>\n",
       "      <td>[1, 2, 3]</td>\n",
       "      <td>0.000033</td>\n",
       "      <td>False</td>\n",
       "    </tr>\n",
       "    <tr>\n",
       "      <th>21</th>\n",
       "      <td>0.055591</td>\n",
       "      <td>1.052576</td>\n",
       "      <td>dummy_constant</td>\n",
       "      <td>0.055591</td>\n",
       "      <td>1.052576</td>\n",
       "      <td>0.044576</td>\n",
       "      <td>0.502839</td>\n",
       "      <td>[1, 2, 3]</td>\n",
       "      <td>0.000034</td>\n",
       "      <td>False</td>\n",
       "    </tr>\n",
       "    <tr>\n",
       "      <th>22</th>\n",
       "      <td>1.393952</td>\n",
       "      <td>1.564379</td>\n",
       "      <td>dummy_constant</td>\n",
       "      <td>1.393952</td>\n",
       "      <td>1.564379</td>\n",
       "      <td>3.329858</td>\n",
       "      <td>1.932052</td>\n",
       "      <td>[1, 2, 3]</td>\n",
       "      <td>0.000033</td>\n",
       "      <td>False</td>\n",
       "    </tr>\n",
       "    <tr>\n",
       "      <th>23</th>\n",
       "      <td>1.703126</td>\n",
       "      <td>2.593177</td>\n",
       "      <td>dummy_constant</td>\n",
       "      <td>1.703126</td>\n",
       "      <td>2.593177</td>\n",
       "      <td>8.724403</td>\n",
       "      <td>5.828903</td>\n",
       "      <td>[1, 2, 3]</td>\n",
       "      <td>0.000033</td>\n",
       "      <td>False</td>\n",
       "    </tr>\n",
       "    <tr>\n",
       "      <th>24</th>\n",
       "      <td>1.044305</td>\n",
       "      <td>0.071176</td>\n",
       "      <td>dummy_constant</td>\n",
       "      <td>1.044305</td>\n",
       "      <td>0.071176</td>\n",
       "      <td>0.049287</td>\n",
       "      <td>0.480158</td>\n",
       "      <td>[1, 2, 3]</td>\n",
       "      <td>0.000034</td>\n",
       "      <td>False</td>\n",
       "    </tr>\n",
       "    <tr>\n",
       "      <th>25</th>\n",
       "      <td>0.569154</td>\n",
       "      <td>0.868762</td>\n",
       "      <td>dummy_constant</td>\n",
       "      <td>0.569154</td>\n",
       "      <td>0.868762</td>\n",
       "      <td>0.177630</td>\n",
       "      <td>0.140767</td>\n",
       "      <td>[1, 2, 3]</td>\n",
       "      <td>0.000033</td>\n",
       "      <td>False</td>\n",
       "    </tr>\n",
       "    <tr>\n",
       "      <th>26</th>\n",
       "      <td>0.088945</td>\n",
       "      <td>1.065463</td>\n",
       "      <td>dummy_constant</td>\n",
       "      <td>0.088945</td>\n",
       "      <td>1.065463</td>\n",
       "      <td>0.119526</td>\n",
       "      <td>0.488715</td>\n",
       "      <td>[1, 2, 3]</td>\n",
       "      <td>0.000032</td>\n",
       "      <td>False</td>\n",
       "    </tr>\n",
       "    <tr>\n",
       "      <th>27</th>\n",
       "      <td>0.654463</td>\n",
       "      <td>0.774565</td>\n",
       "      <td>dummy_constant</td>\n",
       "      <td>0.654463</td>\n",
       "      <td>0.774565</td>\n",
       "      <td>0.005548</td>\n",
       "      <td>0.099244</td>\n",
       "      <td>[1, 2, 3]</td>\n",
       "      <td>0.000034</td>\n",
       "      <td>False</td>\n",
       "    </tr>\n",
       "    <tr>\n",
       "      <th>28</th>\n",
       "      <td>0.918224</td>\n",
       "      <td>0.440054</td>\n",
       "      <td>dummy_constant</td>\n",
       "      <td>0.918224</td>\n",
       "      <td>0.440054</td>\n",
       "      <td>-0.027905</td>\n",
       "      <td>0.178505</td>\n",
       "      <td>[1, 2, 3]</td>\n",
       "      <td>0.000034</td>\n",
       "      <td>False</td>\n",
       "    </tr>\n",
       "    <tr>\n",
       "      <th>29</th>\n",
       "      <td>0.561658</td>\n",
       "      <td>1.283074</td>\n",
       "      <td>dummy_constant</td>\n",
       "      <td>0.561658</td>\n",
       "      <td>1.283074</td>\n",
       "      <td>0.866772</td>\n",
       "      <td>0.617006</td>\n",
       "      <td>[1, 2, 3]</td>\n",
       "      <td>0.000032</td>\n",
       "      <td>False</td>\n",
       "    </tr>\n",
       "    <tr>\n",
       "      <th>30</th>\n",
       "      <td>0.982362</td>\n",
       "      <td>0.292917</td>\n",
       "      <td>dummy_constant</td>\n",
       "      <td>0.982362</td>\n",
       "      <td>0.292917</td>\n",
       "      <td>0.058414</td>\n",
       "      <td>0.275556</td>\n",
       "      <td>[1, 2, 3]</td>\n",
       "      <td>0.000034</td>\n",
       "      <td>False</td>\n",
       "    </tr>\n",
       "    <tr>\n",
       "      <th>31</th>\n",
       "      <td>0.860396</td>\n",
       "      <td>0.548137</td>\n",
       "      <td>dummy_constant</td>\n",
       "      <td>0.860396</td>\n",
       "      <td>0.548137</td>\n",
       "      <td>0.134707</td>\n",
       "      <td>0.132202</td>\n",
       "      <td>[1, 2, 3]</td>\n",
       "      <td>0.000032</td>\n",
       "      <td>False</td>\n",
       "    </tr>\n",
       "    <tr>\n",
       "      <th>32</th>\n",
       "      <td>2.714390</td>\n",
       "      <td>0.816096</td>\n",
       "      <td>dummy_constant</td>\n",
       "      <td>2.714390</td>\n",
       "      <td>0.816096</td>\n",
       "      <td>7.037874</td>\n",
       "      <td>5.003442</td>\n",
       "      <td>[1, 2, 3]</td>\n",
       "      <td>0.000033</td>\n",
       "      <td>False</td>\n",
       "    </tr>\n",
       "    <tr>\n",
       "      <th>33</th>\n",
       "      <td>0.483257</td>\n",
       "      <td>0.896735</td>\n",
       "      <td>dummy_constant</td>\n",
       "      <td>0.483257</td>\n",
       "      <td>0.896735</td>\n",
       "      <td>0.043128</td>\n",
       "      <td>0.157679</td>\n",
       "      <td>[1, 2, 3]</td>\n",
       "      <td>0.000034</td>\n",
       "      <td>False</td>\n",
       "    </tr>\n",
       "  </tbody>\n",
       "</table>\n",
       "</div>"
      ],
      "text/plain": [
       "          x1        x2               a        y1        y2        c1  \\\n",
       "3   1.051017  0.832946  dummy_constant  1.051017  0.832946  0.825401   \n",
       "4   2.285881  1.746936  dummy_constant  2.285881  1.746936  7.329716   \n",
       "5   0.669639  0.546765  dummy_constant  0.669639  0.546765 -0.248637   \n",
       "6   0.853812  0.683724  dummy_constant  0.853812  0.683724  0.215556   \n",
       "7   1.172234  0.060563  dummy_constant  1.172234  0.060563  0.310010   \n",
       "8   1.028746  0.233467  dummy_constant  1.028746  0.233467  0.203762   \n",
       "9   0.772830  0.636608  dummy_constant  0.772830  0.636608 -0.000382   \n",
       "10  1.006401  0.097717  dummy_constant  1.006401  0.097717  0.020180   \n",
       "11  1.035772  0.047925  dummy_constant  1.035772  0.047925  0.001259   \n",
       "12  0.894726  0.352584  dummy_constant  0.894726  0.352584 -0.171337   \n",
       "13  0.520803  1.013263  dummy_constant  0.520803  1.013263  0.272461   \n",
       "14  0.230259  1.041767  dummy_constant  0.230259  1.041767  0.232611   \n",
       "15  0.405607  0.911255  dummy_constant  0.405607  0.911255 -0.096517   \n",
       "16  0.296626  0.951356  dummy_constant  0.296626  0.951356 -0.019248   \n",
       "17  0.581428  1.689639  dummy_constant  0.581428  1.689639  2.137273   \n",
       "18  0.922720  2.762760  dummy_constant  0.922720  2.762760  7.441210   \n",
       "19  0.068993  1.028752  dummy_constant  0.068993  1.028752  0.015204   \n",
       "20  0.788039  0.656630  dummy_constant  0.788039  0.656630  0.040255   \n",
       "21  0.055591  1.052576  dummy_constant  0.055591  1.052576  0.044576   \n",
       "22  1.393952  1.564379  dummy_constant  1.393952  1.564379  3.329858   \n",
       "23  1.703126  2.593177  dummy_constant  1.703126  2.593177  8.724403   \n",
       "24  1.044305  0.071176  dummy_constant  1.044305  0.071176  0.049287   \n",
       "25  0.569154  0.868762  dummy_constant  0.569154  0.868762  0.177630   \n",
       "26  0.088945  1.065463  dummy_constant  0.088945  1.065463  0.119526   \n",
       "27  0.654463  0.774565  dummy_constant  0.654463  0.774565  0.005548   \n",
       "28  0.918224  0.440054  dummy_constant  0.918224  0.440054 -0.027905   \n",
       "29  0.561658  1.283074  dummy_constant  0.561658  1.283074  0.866772   \n",
       "30  0.982362  0.292917  dummy_constant  0.982362  0.292917  0.058414   \n",
       "31  0.860396  0.548137  dummy_constant  0.860396  0.548137  0.134707   \n",
       "32  2.714390  0.816096  dummy_constant  2.714390  0.816096  7.037874   \n",
       "33  0.483257  0.896735  dummy_constant  0.483257  0.896735  0.043128   \n",
       "\n",
       "          c2 some_array  xopt_runtime  xopt_error  \n",
       "3   0.414473  [1, 2, 3]      0.000025       False  \n",
       "4   4.744218  [1, 2, 3]      0.000010       False  \n",
       "5   0.030964  [1, 2, 3]      0.000032       False  \n",
       "6   0.158937  [1, 2, 3]      0.000032       False  \n",
       "7   0.645003  [1, 2, 3]      0.000032       False  \n",
       "8   0.350612  [1, 2, 3]      0.000033       False  \n",
       "9   0.093098  [1, 2, 3]      0.000033       False  \n",
       "10  0.418274  [1, 2, 3]      0.000034       False  \n",
       "11  0.491424  [1, 2, 3]      0.000034       False  \n",
       "12  0.177540  [1, 2, 3]      0.000032       False  \n",
       "13  0.263872  [1, 2, 3]      0.000033       False  \n",
       "14  0.366272  [1, 2, 3]      0.000034       False  \n",
       "15  0.178040  [1, 2, 3]      0.000036       False  \n",
       "16  0.245084  [1, 2, 3]      0.000034       False  \n",
       "17  1.421871  [1, 2, 3]      0.000032       False  \n",
       "18  5.298776  [1, 2, 3]      0.000034       False  \n",
       "19  0.465346  [1, 2, 3]      0.000033       False  \n",
       "20  0.107499  [1, 2, 3]      0.000033       False  \n",
       "21  0.502839  [1, 2, 3]      0.000034       False  \n",
       "22  1.932052  [1, 2, 3]      0.000033       False  \n",
       "23  5.828903  [1, 2, 3]      0.000033       False  \n",
       "24  0.480158  [1, 2, 3]      0.000034       False  \n",
       "25  0.140767  [1, 2, 3]      0.000033       False  \n",
       "26  0.488715  [1, 2, 3]      0.000032       False  \n",
       "27  0.099244  [1, 2, 3]      0.000034       False  \n",
       "28  0.178505  [1, 2, 3]      0.000034       False  \n",
       "29  0.617006  [1, 2, 3]      0.000032       False  \n",
       "30  0.275556  [1, 2, 3]      0.000034       False  \n",
       "31  0.132202  [1, 2, 3]      0.000032       False  \n",
       "32  5.003442  [1, 2, 3]      0.000033       False  \n",
       "33  0.157679  [1, 2, 3]      0.000034       False  "
      ]
     },
     "execution_count": 3,
     "metadata": {},
     "output_type": "execute_result"
    }
   ],
   "source": [
    "X.generator.data"
   ]
  },
  {
   "cell_type": "markdown",
   "metadata": {
    "collapsed": false,
    "pycharm": {
     "name": "#%% md\n"
    }
   },
   "source": [
    "## plot results\n"
   ]
  },
  {
   "cell_type": "code",
   "execution_count": 4,
   "metadata": {
    "collapsed": false,
    "execution": {
     "iopub.execute_input": "2022-08-19T20:36:35.208663Z",
     "iopub.status.busy": "2022-08-19T20:36:35.207593Z",
     "iopub.status.idle": "2022-08-19T20:36:35.891777Z",
     "shell.execute_reply": "2022-08-19T20:36:35.890733Z"
    },
    "pycharm": {
     "name": "#%%\n"
    }
   },
   "outputs": [
    {
     "data": {
      "image/png": "[encoded data removed]",
      "text/plain": [
       "<Figure size 640x480 with 1 Axes>"
      ]
     },
     "metadata": {},
     "output_type": "display_data"
    }
   ],
   "source": [
    "import matplotlib.pyplot as plt\n",
    "\n",
    "fig, ax = plt.subplots()\n",
    "\n",
    "theta = np.linspace(0, np.pi / 2)\n",
    "r = np.sqrt(1 + 0.1 * np.cos(16 * theta))\n",
    "x_1 = r * np.sin(theta)\n",
    "x_2_lower = r * np.cos(theta)\n",
    "x_2_upper = (0.5 - (x_1 - 0.5) ** 2) ** 0.5 + 0.5\n",
    "\n",
    "z = np.zeros_like(x_1)\n",
    "\n",
    "# ax2.plot(x_1, x_2_lower,'r')\n",
    "ax.fill_between(x_1, z, x_2_lower, fc=\"white\")\n",
    "circle = plt.Circle(\n",
    "    (0.5, 0.5), 0.5 ** 0.5, color=\"r\", alpha=0.25, zorder=0, label=\"Valid Region\"\n",
    ")\n",
    "ax.add_patch(circle)\n",
    "history = pd.concat(\n",
    "    [X.data, tnk_vocs.feasibility_data(X.data)], axis=1, ignore_index=False\n",
    ")\n",
    "\n",
    "\n",
    "ax.plot(*history[[\"x1\", \"x2\"]][history[\"feasible\"]].to_numpy().T, \".C1\")\n",
    "ax.plot(*history[[\"x1\", \"x2\"]][~history[\"feasible\"]].to_numpy().T, \".C2\")\n",
    "\n",
    "ax.set_xlim(0, 3.14)\n",
    "ax.set_ylim(0, 3.14)\n",
    "ax.set_xlabel(\"x1\")\n",
    "ax.set_ylabel(\"x2\")\n",
    "ax.set_aspect(\"equal\")"
   ]
  },
  {
   "cell_type": "markdown",
   "metadata": {
    "collapsed": false,
    "pycharm": {
     "name": "#%% md\n"
    }
   },
   "source": [
    "### Plot path through input space"
   ]
  },
  {
   "cell_type": "code",
   "execution_count": 5,
   "metadata": {
    "collapsed": false,
    "execution": {
     "iopub.execute_input": "2022-08-19T20:36:35.895224Z",
     "iopub.status.busy": "2022-08-19T20:36:35.894704Z",
     "iopub.status.idle": "2022-08-19T20:36:36.017117Z",
     "shell.execute_reply": "2022-08-19T20:36:36.016522Z"
    },
    "pycharm": {
     "name": "#%%\n"
    }
   },
   "outputs": [
    {
     "data": {
      "image/png": "[encoded data removed]",
      "text/plain": [
       "<Figure size 640x480 with 1 Axes>"
      ]
     },
     "metadata": {},
     "output_type": "display_data"
    }
   ],
   "source": [
    "ax = history.plot(\"x1\", \"x2\")\n",
    "ax.set_ylim(0, 3.14)\n",
    "ax.set_xlim(0, 3.14)\n",
    "ax.set_aspect(\"equal\")"
   ]
  },
  {
   "cell_type": "code",
   "execution_count": 6,
   "metadata": {
    "collapsed": false,
    "execution": {
     "iopub.execute_input": "2022-08-19T20:36:36.019848Z",
     "iopub.status.busy": "2022-08-19T20:36:36.019502Z",
     "iopub.status.idle": "2022-08-19T20:36:53.924179Z",
     "shell.execute_reply": "2022-08-19T20:36:53.922416Z"
    },
    "pycharm": {
     "name": "#%%\n"
    }
   },
   "outputs": [
    {
     "name": "stderr",
     "output_type": "stream",
     "text": [
      "/usr/share/miniconda/envs/xopt-dev/lib/python3.9/site-packages/torch/functional.py:478: UserWarning: torch.meshgrid: in an upcoming release, it will be required to pass the indexing argument. (Triggered internally at  /home/conda/feedstock_root/build_artifacts/pytorch-recipe_1660136119739/work/aten/src/ATen/native/TensorShape.cpp:2894.)\n",
      "  return _VF.meshgrid(tensors, **kwargs)  # type: ignore[attr-defined]\n"
     ]
    },
    {
     "name": "stdout",
     "output_type": "stream",
     "text": [
      "[[0.58539811 0.81569044]]\n"
     ]
    },
    {
     "data": {
      "text/plain": [
       "[<matplotlib.lines.Line2D at 0x7f3367238580>]"
      ]
     },
     "execution_count": 6,
     "metadata": {},
     "output_type": "execute_result"
    },
    {
     "data": {
      "image/png": "[encoded data removed]",
      "text/plain": [
       "<Figure size 640x480 with 2 Axes>"
      ]
     },
     "metadata": {},
     "output_type": "display_data"
    },
    {
     "data": {
      "image/png": "[encoded data removed]",
      "text/plain": [
       "<Figure size 640x480 with 2 Axes>"
      ]
     },
     "metadata": {},
     "output_type": "display_data"
    }
   ],
   "source": [
    "# plot the acquisition function\n",
    "from xopt.generators.bayesian.utils import feasibility\n",
    "\n",
    "bounds = generator.vocs.bounds\n",
    "model = generator.model\n",
    "\n",
    "# create mesh\n",
    "n = 200\n",
    "x = torch.linspace(*bounds.T[0], n)\n",
    "y = torch.linspace(*bounds.T[1], n)\n",
    "xx, yy = torch.meshgrid(x, y)\n",
    "pts = torch.hstack([ele.reshape(-1, 1) for ele in (xx, yy)]).double()\n",
    "\n",
    "acq_func = generator.get_acquisition(model)\n",
    "with torch.no_grad():\n",
    "    acq_pts = pts.unsqueeze(1)\n",
    "    acq = acq_func(acq_pts)\n",
    "\n",
    "    fig, ax = plt.subplots()\n",
    "    c = ax.pcolor(xx, yy, acq.reshape(n, n), cmap=\"Blues\")\n",
    "    fig.colorbar(c)\n",
    "    ax.set_title(\"Acquisition function\")\n",
    "\n",
    "    ax.plot(*history[[\"x1\", \"x2\"]][history[\"feasible\"]].to_numpy().T, \".C1\")\n",
    "    ax.plot(*history[[\"x1\", \"x2\"]][~history[\"feasible\"]].to_numpy().T, \".C2\")\n",
    "\n",
    "    ax.plot(*history[[\"x1\", \"x2\"]].to_numpy()[-1].T, \"+\")\n",
    "\n",
    "    feas = feasibility(pts.unsqueeze(1), model, generator.sampler, tnk_vocs).flatten()\n",
    "\n",
    "    fig2, ax2 = plt.subplots()\n",
    "    c = ax2.pcolor(xx, yy, feas.reshape(n, n))\n",
    "    fig2.colorbar(c)\n",
    "    ax2.set_title(\"Feasible Region\")\n",
    "\n",
    "candidate = generator.generate(1)\n",
    "print(candidate[[\"x1\", \"x2\"]].to_numpy())\n",
    "ax.plot(*candidate[[\"x1\", \"x2\"]].to_numpy()[0], \"o\")"
   ]
  },
  {
   "cell_type": "code",
   "execution_count": 7,
   "metadata": {
    "collapsed": false,
    "execution": {
     "iopub.execute_input": "2022-08-19T20:36:53.958632Z",
     "iopub.status.busy": "2022-08-19T20:36:53.957894Z",
     "iopub.status.idle": "2022-08-19T20:36:55.339347Z",
     "shell.execute_reply": "2022-08-19T20:36:55.338845Z"
    },
    "pycharm": {
     "name": "#%%\n"
    }
   },
   "outputs": [
    {
     "name": "stdout",
     "output_type": "stream",
     "text": [
      "CPU times: user 2.69 s, sys: 47.1 ms, total: 2.73 s\n",
      "Wall time: 1.38 s\n"
     ]
    }
   ],
   "source": [
    "%%time\n",
    "candidate = generator.generate(1)"
   ]
  }
 ],
 "metadata": {
  "interpreter": {
   "hash": "72034539424920dfb606fe3b820b3f27dca0cbf1c69938110810ec4641e275b1"
  },
  "kernelspec": {
   "display_name": "Python 3 (ipykernel)",
   "language": "python",
   "name": "python3"
  },
  "language_info": {
   "codemirror_mode": {
    "name": "ipython",
    "version": 3
   },
   "file_extension": ".py",
   "mimetype": "text/x-python",
   "name": "python",
   "nbconvert_exporter": "python",
   "pygments_lexer": "ipython3",
   "version": "3.9.13"
  }
 },
 "nbformat": 4,
 "nbformat_minor": 4
}
