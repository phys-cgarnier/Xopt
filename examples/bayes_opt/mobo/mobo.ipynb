{
 "cells": [
  {
   "cell_type": "markdown",
   "metadata": {
    "pycharm": {
     "name": "#%% md\n"
    }
   },
   "source": [
    "\n",
    "# Multi-objective Bayesian Optimization\n",
    "\n",
    "\n",
    "TNK function\n",
    "$n=2$ variables:\n",
    "$x_i \\in [0, \\pi], i=1,2$\n",
    "\n",
    "Objectives:\n",
    "- $f_i(x) = x_i$\n",
    "\n",
    "Constraints:\n",
    "- $g_1(x) = -x_1^2 -x_2^2 + 1 + 0.1 \\cos\\left(16 \\arctan \\frac{x_1}{x_2}\\right) \\le 0$\n",
    "- $g_2(x) = (x_1 - 1/2)^2 + (x_2-1/2)^2 \\le 0.5$"
   ]
  },
  {
   "cell_type": "code",
   "execution_count": 1,
   "metadata": {
    "collapsed": false,
    "execution": {
     "iopub.execute_input": "2022-08-14T19:05:01.734421Z",
     "iopub.status.busy": "2022-08-14T19:05:01.733900Z",
     "iopub.status.idle": "2022-08-14T19:05:03.190915Z",
     "shell.execute_reply": "2022-08-14T19:05:03.187085Z"
    },
    "pycharm": {
     "name": "#%%\n"
    }
   },
   "outputs": [
    {
     "name": "stdout",
     "output_type": "stream",
     "text": [
      "{'variables': {'x1': [0.0, 3.14159], 'x2': [0.0, 3.14159]}, 'constraints': {'c1': ['GREATER_THAN', 0.0], 'c2': ['LESS_THAN', 0.5]}, 'objectives': {'y1': 'MINIMIZE', 'y2': 'MINIMIZE'}, 'constants': {'a': 'dummy_constant'}, 'linked_variables': {}}\n"
     ]
    },
    {
     "name": "stderr",
     "output_type": "stream",
     "text": [
      "/tmp/ipykernel_2864/2587677992.py:13: DeprecationWarning: `copy_on_model_validation` should be a string: 'deep', 'shallow' or 'none'\n",
      "  evaluator = Evaluator(function=evaluate_TNK)\n"
     ]
    }
   ],
   "source": [
    "%reset -f\n",
    "from copy import deepcopy\n",
    "\n",
    "import pandas as pd\n",
    "import numpy as np\n",
    "import torch\n",
    "\n",
    "from xopt import Xopt, Evaluator\n",
    "from xopt.generators.bayesian import MOBOGenerator\n",
    "from xopt.resources.test_functions.tnk import evaluate_TNK, tnk_vocs\n",
    "\n",
    "\n",
    "evaluator = Evaluator(function=evaluate_TNK)\n",
    "print(tnk_vocs.dict())"
   ]
  },
  {
   "cell_type": "code",
   "execution_count": 2,
   "metadata": {
    "collapsed": false,
    "execution": {
     "iopub.execute_input": "2022-08-14T19:05:03.239999Z",
     "iopub.status.busy": "2022-08-14T19:05:03.238897Z",
     "iopub.status.idle": "2022-08-14T19:06:30.221277Z",
     "shell.execute_reply": "2022-08-14T19:06:30.220628Z"
    },
    "pycharm": {
     "name": "#%%\n"
    }
   },
   "outputs": [
    {
     "name": "stdout",
     "output_type": "stream",
     "text": [
      "optim=OptimOptions(num_restarts=1, raw_samples=50, sequential=True, use_nearby_initial_points=True) acq=MOBOAcqOptions(proximal_lengthscales=[1.0, 1.0], use_transformed_proximal_weights=True, monte_carlo_samples=128, ref_point=None, use_data_as_reference=True) model=ModelOptions(use_conservative_prior_lengthscale=False, use_conservative_prior_mean=False, use_low_noise_prior=True) n_initial=(2,)\n",
      "0\n"
     ]
    },
    {
     "name": "stderr",
     "output_type": "stream",
     "text": [
      "/usr/share/miniconda/envs/xopt-dev/lib/python3.9/site-packages/gpytorch/lazy/lazy_tensor.py:1811: UserWarning: torch.triangular_solve is deprecated in favor of torch.linalg.solve_triangularand will be removed in a future PyTorch release.\n",
      "torch.linalg.solve_triangular has its arguments reversed and does not return a copy of one of the inputs.\n",
      "X = torch.triangular_solve(B, A).solution\n",
      "should be replaced with\n",
      "X = torch.linalg.solve_triangular(A, B). (Triggered internally at  /home/conda/feedstock_root/build_artifacts/pytorch-recipe_1660136119739/work/aten/src/ATen/native/BatchLinearAlgebra.cpp:2183.)\n",
      "  Linv = torch.triangular_solve(Eye, L, upper=False).solution\n"
     ]
    },
    {
     "name": "stdout",
     "output_type": "stream",
     "text": [
      "1\n",
      "2\n"
     ]
    },
    {
     "name": "stderr",
     "output_type": "stream",
     "text": [
      "/usr/share/miniconda/envs/xopt-dev/lib/python3.9/site-packages/botorch/optim/optimize.py:287: RuntimeWarning: Optimization failed in `gen_candidates_scipy` with the following warning(s):\n",
      "[OptimizationWarning('Optimization failed within `scipy.optimize.minimize` with status 2.'), OptimizationWarning('Optimization failed within `scipy.optimize.minimize` with status 2.'), OptimizationWarning('Optimization failed within `scipy.optimize.minimize` with status 2.')]\n",
      "Because you specified `batch_initial_conditions`, optimization will not be retried with new initial conditions and will proceed with the current solution. Suggested remediation: Try again with different `batch_initial_conditions`, or don't provide `batch_initial_conditions.`\n",
      "  warnings.warn(first_warn_msg, RuntimeWarning)\n"
     ]
    },
    {
     "name": "stdout",
     "output_type": "stream",
     "text": [
      "3\n",
      "4\n",
      "5\n",
      "6\n",
      "7\n",
      "8\n",
      "9\n",
      "10\n",
      "11\n",
      "12\n",
      "13\n",
      "14\n",
      "15\n",
      "16\n",
      "17\n",
      "18\n",
      "19\n",
      "20\n",
      "21\n",
      "22\n",
      "23\n",
      "24\n",
      "25\n",
      "26\n",
      "27\n",
      "28\n",
      "29\n"
     ]
    }
   ],
   "source": [
    "options = MOBOGenerator.default_options()\n",
    "options.n_initial = (2,)\n",
    "options.optim.num_restarts = 1\n",
    "options.optim.raw_samples = 50\n",
    "options.acq.proximal_lengthscales = [1.0, 1.0]\n",
    "options.model.use_low_noise_prior = True\n",
    "print(options)\n",
    "generator = MOBOGenerator(tnk_vocs, options)\n",
    "\n",
    "X = Xopt(generator=generator, evaluator=evaluator, vocs=tnk_vocs)\n",
    "X.submit_data(pd.DataFrame({\"x1\":[1.0, 0.75],\"x2\":[0.75, 1.0]}))\n",
    "for i in range(30):\n",
    "    print(i)\n",
    "    X.step()"
   ]
  },
  {
   "cell_type": "code",
   "execution_count": 3,
   "metadata": {
    "collapsed": false,
    "execution": {
     "iopub.execute_input": "2022-08-14T19:06:30.226857Z",
     "iopub.status.busy": "2022-08-14T19:06:30.225541Z",
     "iopub.status.idle": "2022-08-14T19:06:30.261077Z",
     "shell.execute_reply": "2022-08-14T19:06:30.260422Z"
    },
    "pycharm": {
     "name": "#%%\n"
    }
   },
   "outputs": [
    {
     "data": {
      "text/html": [
       "<div>\n",
       "<style scoped>\n",
       "    .dataframe tbody tr th:only-of-type {\n",
       "        vertical-align: middle;\n",
       "    }\n",
       "\n",
       "    .dataframe tbody tr th {\n",
       "        vertical-align: top;\n",
       "    }\n",
       "\n",
       "    .dataframe thead th {\n",
       "        text-align: right;\n",
       "    }\n",
       "</style>\n",
       "<table border=\"1\" class=\"dataframe\">\n",
       "  <thead>\n",
       "    <tr style=\"text-align: right;\">\n",
       "      <th></th>\n",
       "      <th>x1</th>\n",
       "      <th>x2</th>\n",
       "      <th>y1</th>\n",
       "      <th>y2</th>\n",
       "      <th>c1</th>\n",
       "      <th>c2</th>\n",
       "      <th>some_array</th>\n",
       "      <th>xopt_error</th>\n",
       "      <th>xopt_error_str</th>\n",
       "      <th>a</th>\n",
       "    </tr>\n",
       "  </thead>\n",
       "  <tbody>\n",
       "    <tr>\n",
       "      <th>1</th>\n",
       "      <td>1.000000</td>\n",
       "      <td>0.750000</td>\n",
       "      <td>1.000000</td>\n",
       "      <td>0.750000</td>\n",
       "      <td>0.626888</td>\n",
       "      <td>0.312500</td>\n",
       "      <td>[1, 2, 3]</td>\n",
       "      <td>False</td>\n",
       "      <td></td>\n",
       "      <td>NaN</td>\n",
       "    </tr>\n",
       "    <tr>\n",
       "      <th>2</th>\n",
       "      <td>0.750000</td>\n",
       "      <td>1.000000</td>\n",
       "      <td>0.750000</td>\n",
       "      <td>1.000000</td>\n",
       "      <td>0.626888</td>\n",
       "      <td>0.312500</td>\n",
       "      <td>[1, 2, 3]</td>\n",
       "      <td>False</td>\n",
       "      <td></td>\n",
       "      <td>NaN</td>\n",
       "    </tr>\n",
       "    <tr>\n",
       "      <th>3</th>\n",
       "      <td>1.594518</td>\n",
       "      <td>1.760567</td>\n",
       "      <td>1.594518</td>\n",
       "      <td>1.760567</td>\n",
       "      <td>4.571788</td>\n",
       "      <td>2.787000</td>\n",
       "      <td>[1, 2, 3]</td>\n",
       "      <td>False</td>\n",
       "      <td></td>\n",
       "      <td>dummy_constant</td>\n",
       "    </tr>\n",
       "    <tr>\n",
       "      <th>4</th>\n",
       "      <td>0.422726</td>\n",
       "      <td>0.465214</td>\n",
       "      <td>0.422726</td>\n",
       "      <td>0.465214</td>\n",
       "      <td>-0.677016</td>\n",
       "      <td>0.007181</td>\n",
       "      <td>[1, 2, 3]</td>\n",
       "      <td>False</td>\n",
       "      <td></td>\n",
       "      <td>dummy_constant</td>\n",
       "    </tr>\n",
       "    <tr>\n",
       "      <th>5</th>\n",
       "      <td>0.583417</td>\n",
       "      <td>0.874169</td>\n",
       "      <td>0.583417</td>\n",
       "      <td>0.874169</td>\n",
       "      <td>0.204543</td>\n",
       "      <td>0.146961</td>\n",
       "      <td>[1, 2, 3]</td>\n",
       "      <td>False</td>\n",
       "      <td></td>\n",
       "      <td>dummy_constant</td>\n",
       "    </tr>\n",
       "    <tr>\n",
       "      <th>6</th>\n",
       "      <td>0.919704</td>\n",
       "      <td>0.511609</td>\n",
       "      <td>0.919704</td>\n",
       "      <td>0.511609</td>\n",
       "      <td>0.134118</td>\n",
       "      <td>0.176286</td>\n",
       "      <td>[1, 2, 3]</td>\n",
       "      <td>False</td>\n",
       "      <td></td>\n",
       "      <td>dummy_constant</td>\n",
       "    </tr>\n",
       "    <tr>\n",
       "      <th>7</th>\n",
       "      <td>0.320269</td>\n",
       "      <td>1.030885</td>\n",
       "      <td>0.320269</td>\n",
       "      <td>1.030885</td>\n",
       "      <td>0.154602</td>\n",
       "      <td>0.314142</td>\n",
       "      <td>[1, 2, 3]</td>\n",
       "      <td>False</td>\n",
       "      <td></td>\n",
       "      <td>dummy_constant</td>\n",
       "    </tr>\n",
       "    <tr>\n",
       "      <th>8</th>\n",
       "      <td>1.061194</td>\n",
       "      <td>0.312679</td>\n",
       "      <td>1.061194</td>\n",
       "      <td>0.312679</td>\n",
       "      <td>0.236641</td>\n",
       "      <td>0.350028</td>\n",
       "      <td>[1, 2, 3]</td>\n",
       "      <td>False</td>\n",
       "      <td></td>\n",
       "      <td>dummy_constant</td>\n",
       "    </tr>\n",
       "    <tr>\n",
       "      <th>9</th>\n",
       "      <td>1.054859</td>\n",
       "      <td>0.092631</td>\n",
       "      <td>1.054859</td>\n",
       "      <td>0.092631</td>\n",
       "      <td>0.104452</td>\n",
       "      <td>0.473818</td>\n",
       "      <td>[1, 2, 3]</td>\n",
       "      <td>False</td>\n",
       "      <td></td>\n",
       "      <td>dummy_constant</td>\n",
       "    </tr>\n",
       "    <tr>\n",
       "      <th>10</th>\n",
       "      <td>0.681028</td>\n",
       "      <td>0.693271</td>\n",
       "      <td>0.681028</td>\n",
       "      <td>0.693271</td>\n",
       "      <td>-0.154562</td>\n",
       "      <td>0.070125</td>\n",
       "      <td>[1, 2, 3]</td>\n",
       "      <td>False</td>\n",
       "      <td></td>\n",
       "      <td>dummy_constant</td>\n",
       "    </tr>\n",
       "    <tr>\n",
       "      <th>11</th>\n",
       "      <td>0.114700</td>\n",
       "      <td>1.084151</td>\n",
       "      <td>0.114700</td>\n",
       "      <td>1.084151</td>\n",
       "      <td>0.200081</td>\n",
       "      <td>0.489688</td>\n",
       "      <td>[1, 2, 3]</td>\n",
       "      <td>False</td>\n",
       "      <td></td>\n",
       "      <td>dummy_constant</td>\n",
       "    </tr>\n",
       "    <tr>\n",
       "      <th>12</th>\n",
       "      <td>0.052191</td>\n",
       "      <td>1.009645</td>\n",
       "      <td>0.052191</td>\n",
       "      <td>1.009645</td>\n",
       "      <td>-0.045650</td>\n",
       "      <td>0.460270</td>\n",
       "      <td>[1, 2, 3]</td>\n",
       "      <td>False</td>\n",
       "      <td></td>\n",
       "      <td>dummy_constant</td>\n",
       "    </tr>\n",
       "    <tr>\n",
       "      <th>13</th>\n",
       "      <td>0.747583</td>\n",
       "      <td>0.696760</td>\n",
       "      <td>0.747583</td>\n",
       "      <td>0.696760</td>\n",
       "      <td>-0.040223</td>\n",
       "      <td>0.100012</td>\n",
       "      <td>[1, 2, 3]</td>\n",
       "      <td>False</td>\n",
       "      <td></td>\n",
       "      <td>dummy_constant</td>\n",
       "    </tr>\n",
       "    <tr>\n",
       "      <th>14</th>\n",
       "      <td>0.990100</td>\n",
       "      <td>0.201932</td>\n",
       "      <td>0.990100</td>\n",
       "      <td>0.201932</td>\n",
       "      <td>0.120775</td>\n",
       "      <td>0.329043</td>\n",
       "      <td>[1, 2, 3]</td>\n",
       "      <td>False</td>\n",
       "      <td></td>\n",
       "      <td>dummy_constant</td>\n",
       "    </tr>\n",
       "    <tr>\n",
       "      <th>15</th>\n",
       "      <td>0.966147</td>\n",
       "      <td>0.009942</td>\n",
       "      <td>0.966147</td>\n",
       "      <td>0.009942</td>\n",
       "      <td>-0.165109</td>\n",
       "      <td>0.457450</td>\n",
       "      <td>[1, 2, 3]</td>\n",
       "      <td>False</td>\n",
       "      <td></td>\n",
       "      <td>dummy_constant</td>\n",
       "    </tr>\n",
       "    <tr>\n",
       "      <th>16</th>\n",
       "      <td>1.033825</td>\n",
       "      <td>0.046723</td>\n",
       "      <td>1.033825</td>\n",
       "      <td>0.046723</td>\n",
       "      <td>-0.004030</td>\n",
       "      <td>0.490430</td>\n",
       "      <td>[1, 2, 3]</td>\n",
       "      <td>False</td>\n",
       "      <td></td>\n",
       "      <td>dummy_constant</td>\n",
       "    </tr>\n",
       "    <tr>\n",
       "      <th>17</th>\n",
       "      <td>0.229213</td>\n",
       "      <td>0.980985</td>\n",
       "      <td>0.229213</td>\n",
       "      <td>0.980985</td>\n",
       "      <td>0.101100</td>\n",
       "      <td>0.304672</td>\n",
       "      <td>[1, 2, 3]</td>\n",
       "      <td>False</td>\n",
       "      <td></td>\n",
       "      <td>dummy_constant</td>\n",
       "    </tr>\n",
       "    <tr>\n",
       "      <th>18</th>\n",
       "      <td>0.053849</td>\n",
       "      <td>1.038420</td>\n",
       "      <td>0.053849</td>\n",
       "      <td>1.038420</td>\n",
       "      <td>0.013650</td>\n",
       "      <td>0.488947</td>\n",
       "      <td>[1, 2, 3]</td>\n",
       "      <td>False</td>\n",
       "      <td></td>\n",
       "      <td>dummy_constant</td>\n",
       "    </tr>\n",
       "    <tr>\n",
       "      <th>19</th>\n",
       "      <td>0.497553</td>\n",
       "      <td>0.855100</td>\n",
       "      <td>0.497553</td>\n",
       "      <td>0.855100</td>\n",
       "      <td>0.033364</td>\n",
       "      <td>0.126102</td>\n",
       "      <td>[1, 2, 3]</td>\n",
       "      <td>False</td>\n",
       "      <td></td>\n",
       "      <td>dummy_constant</td>\n",
       "    </tr>\n",
       "    <tr>\n",
       "      <th>20</th>\n",
       "      <td>0.376676</td>\n",
       "      <td>0.918328</td>\n",
       "      <td>0.376676</td>\n",
       "      <td>0.918328</td>\n",
       "      <td>-0.114637</td>\n",
       "      <td>0.190207</td>\n",
       "      <td>[1, 2, 3]</td>\n",
       "      <td>False</td>\n",
       "      <td></td>\n",
       "      <td>dummy_constant</td>\n",
       "    </tr>\n",
       "    <tr>\n",
       "      <th>21</th>\n",
       "      <td>0.850221</td>\n",
       "      <td>0.566543</td>\n",
       "      <td>0.850221</td>\n",
       "      <td>0.566543</td>\n",
       "      <td>0.143826</td>\n",
       "      <td>0.127083</td>\n",
       "      <td>[1, 2, 3]</td>\n",
       "      <td>False</td>\n",
       "      <td></td>\n",
       "      <td>dummy_constant</td>\n",
       "    </tr>\n",
       "    <tr>\n",
       "      <th>22</th>\n",
       "      <td>1.908492</td>\n",
       "      <td>2.648350</td>\n",
       "      <td>1.908492</td>\n",
       "      <td>2.648350</td>\n",
       "      <td>9.740488</td>\n",
       "      <td>6.599256</td>\n",
       "      <td>[1, 2, 3]</td>\n",
       "      <td>False</td>\n",
       "      <td></td>\n",
       "      <td>dummy_constant</td>\n",
       "    </tr>\n",
       "    <tr>\n",
       "      <th>23</th>\n",
       "      <td>0.478042</td>\n",
       "      <td>0.898495</td>\n",
       "      <td>0.478042</td>\n",
       "      <td>0.898495</td>\n",
       "      <td>0.032750</td>\n",
       "      <td>0.159280</td>\n",
       "      <td>[1, 2, 3]</td>\n",
       "      <td>False</td>\n",
       "      <td></td>\n",
       "      <td>dummy_constant</td>\n",
       "    </tr>\n",
       "    <tr>\n",
       "      <th>24</th>\n",
       "      <td>0.377732</td>\n",
       "      <td>0.943299</td>\n",
       "      <td>0.377732</td>\n",
       "      <td>0.943299</td>\n",
       "      <td>-0.065724</td>\n",
       "      <td>0.211463</td>\n",
       "      <td>[1, 2, 3]</td>\n",
       "      <td>False</td>\n",
       "      <td></td>\n",
       "      <td>dummy_constant</td>\n",
       "    </tr>\n",
       "    <tr>\n",
       "      <th>25</th>\n",
       "      <td>1.048062</td>\n",
       "      <td>0.059915</td>\n",
       "      <td>1.048062</td>\n",
       "      <td>0.059915</td>\n",
       "      <td>0.040942</td>\n",
       "      <td>0.494047</td>\n",
       "      <td>[1, 2, 3]</td>\n",
       "      <td>False</td>\n",
       "      <td></td>\n",
       "      <td>dummy_constant</td>\n",
       "    </tr>\n",
       "    <tr>\n",
       "      <th>26</th>\n",
       "      <td>0.651694</td>\n",
       "      <td>0.785466</td>\n",
       "      <td>0.651694</td>\n",
       "      <td>0.785466</td>\n",
       "      <td>0.033093</td>\n",
       "      <td>0.104502</td>\n",
       "      <td>[1, 2, 3]</td>\n",
       "      <td>False</td>\n",
       "      <td></td>\n",
       "      <td>dummy_constant</td>\n",
       "    </tr>\n",
       "    <tr>\n",
       "      <th>27</th>\n",
       "      <td>0.792806</td>\n",
       "      <td>0.612240</td>\n",
       "      <td>0.792806</td>\n",
       "      <td>0.612240</td>\n",
       "      <td>0.049043</td>\n",
       "      <td>0.098333</td>\n",
       "      <td>[1, 2, 3]</td>\n",
       "      <td>False</td>\n",
       "      <td></td>\n",
       "      <td>dummy_constant</td>\n",
       "    </tr>\n",
       "    <tr>\n",
       "      <th>28</th>\n",
       "      <td>0.912359</td>\n",
       "      <td>0.362352</td>\n",
       "      <td>0.912359</td>\n",
       "      <td>0.362352</td>\n",
       "      <td>-0.133570</td>\n",
       "      <td>0.188987</td>\n",
       "      <td>[1, 2, 3]</td>\n",
       "      <td>False</td>\n",
       "      <td></td>\n",
       "      <td>dummy_constant</td>\n",
       "    </tr>\n",
       "    <tr>\n",
       "      <th>29</th>\n",
       "      <td>1.008929</td>\n",
       "      <td>0.126345</td>\n",
       "      <td>1.008929</td>\n",
       "      <td>0.126345</td>\n",
       "      <td>0.074902</td>\n",
       "      <td>0.398627</td>\n",
       "      <td>[1, 2, 3]</td>\n",
       "      <td>False</td>\n",
       "      <td></td>\n",
       "      <td>dummy_constant</td>\n",
       "    </tr>\n",
       "    <tr>\n",
       "      <th>30</th>\n",
       "      <td>0.935381</td>\n",
       "      <td>0.371232</td>\n",
       "      <td>0.935381</td>\n",
       "      <td>0.371232</td>\n",
       "      <td>-0.084426</td>\n",
       "      <td>0.206137</td>\n",
       "      <td>[1, 2, 3]</td>\n",
       "      <td>False</td>\n",
       "      <td></td>\n",
       "      <td>dummy_constant</td>\n",
       "    </tr>\n",
       "    <tr>\n",
       "      <th>31</th>\n",
       "      <td>0.696954</td>\n",
       "      <td>0.742282</td>\n",
       "      <td>0.696954</td>\n",
       "      <td>0.742282</td>\n",
       "      <td>-0.050851</td>\n",
       "      <td>0.097491</td>\n",
       "      <td>[1, 2, 3]</td>\n",
       "      <td>False</td>\n",
       "      <td></td>\n",
       "      <td>dummy_constant</td>\n",
       "    </tr>\n",
       "    <tr>\n",
       "      <th>32</th>\n",
       "      <td>0.801534</td>\n",
       "      <td>0.634325</td>\n",
       "      <td>0.801534</td>\n",
       "      <td>0.634325</td>\n",
       "      <td>0.072853</td>\n",
       "      <td>0.108966</td>\n",
       "      <td>[1, 2, 3]</td>\n",
       "      <td>False</td>\n",
       "      <td></td>\n",
       "      <td>dummy_constant</td>\n",
       "    </tr>\n",
       "  </tbody>\n",
       "</table>\n",
       "</div>"
      ],
      "text/plain": [
       "          x1        x2        y1        y2        c1        c2 some_array  \\\n",
       "1   1.000000  0.750000  1.000000  0.750000  0.626888  0.312500  [1, 2, 3]   \n",
       "2   0.750000  1.000000  0.750000  1.000000  0.626888  0.312500  [1, 2, 3]   \n",
       "3   1.594518  1.760567  1.594518  1.760567  4.571788  2.787000  [1, 2, 3]   \n",
       "4   0.422726  0.465214  0.422726  0.465214 -0.677016  0.007181  [1, 2, 3]   \n",
       "5   0.583417  0.874169  0.583417  0.874169  0.204543  0.146961  [1, 2, 3]   \n",
       "6   0.919704  0.511609  0.919704  0.511609  0.134118  0.176286  [1, 2, 3]   \n",
       "7   0.320269  1.030885  0.320269  1.030885  0.154602  0.314142  [1, 2, 3]   \n",
       "8   1.061194  0.312679  1.061194  0.312679  0.236641  0.350028  [1, 2, 3]   \n",
       "9   1.054859  0.092631  1.054859  0.092631  0.104452  0.473818  [1, 2, 3]   \n",
       "10  0.681028  0.693271  0.681028  0.693271 -0.154562  0.070125  [1, 2, 3]   \n",
       "11  0.114700  1.084151  0.114700  1.084151  0.200081  0.489688  [1, 2, 3]   \n",
       "12  0.052191  1.009645  0.052191  1.009645 -0.045650  0.460270  [1, 2, 3]   \n",
       "13  0.747583  0.696760  0.747583  0.696760 -0.040223  0.100012  [1, 2, 3]   \n",
       "14  0.990100  0.201932  0.990100  0.201932  0.120775  0.329043  [1, 2, 3]   \n",
       "15  0.966147  0.009942  0.966147  0.009942 -0.165109  0.457450  [1, 2, 3]   \n",
       "16  1.033825  0.046723  1.033825  0.046723 -0.004030  0.490430  [1, 2, 3]   \n",
       "17  0.229213  0.980985  0.229213  0.980985  0.101100  0.304672  [1, 2, 3]   \n",
       "18  0.053849  1.038420  0.053849  1.038420  0.013650  0.488947  [1, 2, 3]   \n",
       "19  0.497553  0.855100  0.497553  0.855100  0.033364  0.126102  [1, 2, 3]   \n",
       "20  0.376676  0.918328  0.376676  0.918328 -0.114637  0.190207  [1, 2, 3]   \n",
       "21  0.850221  0.566543  0.850221  0.566543  0.143826  0.127083  [1, 2, 3]   \n",
       "22  1.908492  2.648350  1.908492  2.648350  9.740488  6.599256  [1, 2, 3]   \n",
       "23  0.478042  0.898495  0.478042  0.898495  0.032750  0.159280  [1, 2, 3]   \n",
       "24  0.377732  0.943299  0.377732  0.943299 -0.065724  0.211463  [1, 2, 3]   \n",
       "25  1.048062  0.059915  1.048062  0.059915  0.040942  0.494047  [1, 2, 3]   \n",
       "26  0.651694  0.785466  0.651694  0.785466  0.033093  0.104502  [1, 2, 3]   \n",
       "27  0.792806  0.612240  0.792806  0.612240  0.049043  0.098333  [1, 2, 3]   \n",
       "28  0.912359  0.362352  0.912359  0.362352 -0.133570  0.188987  [1, 2, 3]   \n",
       "29  1.008929  0.126345  1.008929  0.126345  0.074902  0.398627  [1, 2, 3]   \n",
       "30  0.935381  0.371232  0.935381  0.371232 -0.084426  0.206137  [1, 2, 3]   \n",
       "31  0.696954  0.742282  0.696954  0.742282 -0.050851  0.097491  [1, 2, 3]   \n",
       "32  0.801534  0.634325  0.801534  0.634325  0.072853  0.108966  [1, 2, 3]   \n",
       "\n",
       "    xopt_error xopt_error_str               a  \n",
       "1        False                            NaN  \n",
       "2        False                            NaN  \n",
       "3        False                 dummy_constant  \n",
       "4        False                 dummy_constant  \n",
       "5        False                 dummy_constant  \n",
       "6        False                 dummy_constant  \n",
       "7        False                 dummy_constant  \n",
       "8        False                 dummy_constant  \n",
       "9        False                 dummy_constant  \n",
       "10       False                 dummy_constant  \n",
       "11       False                 dummy_constant  \n",
       "12       False                 dummy_constant  \n",
       "13       False                 dummy_constant  \n",
       "14       False                 dummy_constant  \n",
       "15       False                 dummy_constant  \n",
       "16       False                 dummy_constant  \n",
       "17       False                 dummy_constant  \n",
       "18       False                 dummy_constant  \n",
       "19       False                 dummy_constant  \n",
       "20       False                 dummy_constant  \n",
       "21       False                 dummy_constant  \n",
       "22       False                 dummy_constant  \n",
       "23       False                 dummy_constant  \n",
       "24       False                 dummy_constant  \n",
       "25       False                 dummy_constant  \n",
       "26       False                 dummy_constant  \n",
       "27       False                 dummy_constant  \n",
       "28       False                 dummy_constant  \n",
       "29       False                 dummy_constant  \n",
       "30       False                 dummy_constant  \n",
       "31       False                 dummy_constant  \n",
       "32       False                 dummy_constant  "
      ]
     },
     "execution_count": 3,
     "metadata": {},
     "output_type": "execute_result"
    }
   ],
   "source": [
    "X.generator.data"
   ]
  },
  {
   "cell_type": "markdown",
   "metadata": {
    "collapsed": false,
    "pycharm": {
     "name": "#%% md\n"
    }
   },
   "source": [
    "## plot results\n"
   ]
  },
  {
   "cell_type": "code",
   "execution_count": 4,
   "metadata": {
    "collapsed": false,
    "execution": {
     "iopub.execute_input": "2022-08-14T19:06:30.266593Z",
     "iopub.status.busy": "2022-08-14T19:06:30.265264Z",
     "iopub.status.idle": "2022-08-14T19:06:31.105774Z",
     "shell.execute_reply": "2022-08-14T19:06:31.105139Z"
    },
    "pycharm": {
     "name": "#%%\n"
    }
   },
   "outputs": [
    {
     "data": {
      "image/png": "[encoded data removed]",
      "text/plain": [
       "<Figure size 432x288 with 1 Axes>"
      ]
     },
     "metadata": {
      "needs_background": "light"
     },
     "output_type": "display_data"
    }
   ],
   "source": [
    "import matplotlib.pyplot as plt\n",
    "\n",
    "fig, ax = plt.subplots()\n",
    "\n",
    "theta = np.linspace(0, np.pi / 2)\n",
    "r = np.sqrt(1 + 0.1 * np.cos(16 * theta))\n",
    "x_1 = r * np.sin(theta)\n",
    "x_2_lower = r * np.cos(theta)\n",
    "x_2_upper = (0.5 - (x_1 - 0.5) ** 2) ** 0.5 + 0.5\n",
    "\n",
    "z = np.zeros_like(x_1)\n",
    "\n",
    "# ax2.plot(x_1, x_2_lower,'r')\n",
    "ax.fill_between(x_1, z, x_2_lower, fc=\"white\")\n",
    "circle = plt.Circle(\n",
    "    (0.5, 0.5), 0.5 ** 0.5, color=\"r\", alpha=0.25, zorder=0, label=\"Valid Region\"\n",
    ")\n",
    "ax.add_patch(circle)\n",
    "history = pd.concat(\n",
    "    [X.data, tnk_vocs.feasibility_data(X.data)], axis=1, ignore_index=False\n",
    ")\n",
    "\n",
    "\n",
    "ax.plot(*history[[\"x1\", \"x2\"]][history[\"feasible\"]].to_numpy().T, \".C1\")\n",
    "ax.plot(*history[[\"x1\", \"x2\"]][~history[\"feasible\"]].to_numpy().T, \".C2\")\n",
    "\n",
    "ax.set_xlim(0, 3.14)\n",
    "ax.set_ylim(0, 3.14)\n",
    "ax.set_xlabel(\"x1\")\n",
    "ax.set_ylabel(\"x2\")\n",
    "ax.set_aspect(\"equal\")"
   ]
  },
  {
   "cell_type": "markdown",
   "metadata": {
    "collapsed": false,
    "pycharm": {
     "name": "#%% md\n"
    }
   },
   "source": [
    "### Plot path through input space"
   ]
  },
  {
   "cell_type": "code",
   "execution_count": 5,
   "metadata": {
    "collapsed": false,
    "execution": {
     "iopub.execute_input": "2022-08-14T19:06:31.111247Z",
     "iopub.status.busy": "2022-08-14T19:06:31.109883Z",
     "iopub.status.idle": "2022-08-14T19:06:31.236574Z",
     "shell.execute_reply": "2022-08-14T19:06:31.235961Z"
    },
    "pycharm": {
     "name": "#%%\n"
    }
   },
   "outputs": [
    {
     "data": {
      "image/png": "[encoded data removed]",
      "text/plain": [
       "<Figure size 432x288 with 1 Axes>"
      ]
     },
     "metadata": {
      "needs_background": "light"
     },
     "output_type": "display_data"
    }
   ],
   "source": [
    "ax = history.plot(\"x1\", \"x2\")\n",
    "ax.set_ylim(0, 3.14)\n",
    "ax.set_xlim(0, 3.14)\n",
    "ax.set_aspect(\"equal\")"
   ]
  },
  {
   "cell_type": "code",
   "execution_count": 6,
   "metadata": {
    "collapsed": false,
    "execution": {
     "iopub.execute_input": "2022-08-14T19:06:31.241892Z",
     "iopub.status.busy": "2022-08-14T19:06:31.240505Z",
     "iopub.status.idle": "2022-08-14T19:07:01.405065Z",
     "shell.execute_reply": "2022-08-14T19:07:01.402795Z"
    },
    "pycharm": {
     "name": "#%%\n"
    }
   },
   "outputs": [
    {
     "name": "stderr",
     "output_type": "stream",
     "text": [
      "/usr/share/miniconda/envs/xopt-dev/lib/python3.9/site-packages/torch/functional.py:478: UserWarning: torch.meshgrid: in an upcoming release, it will be required to pass the indexing argument. (Triggered internally at  /home/conda/feedstock_root/build_artifacts/pytorch-recipe_1660136119739/work/aten/src/ATen/native/TensorShape.cpp:2894.)\n",
      "  return _VF.meshgrid(tensors, **kwargs)  # type: ignore[attr-defined]\n"
     ]
    },
    {
     "name": "stdout",
     "output_type": "stream",
     "text": [
      "[[0.73971122 0.67924301]]\n"
     ]
    },
    {
     "data": {
      "text/plain": [
       "[<matplotlib.lines.Line2D at 0x7ff3d481f640>]"
      ]
     },
     "execution_count": 6,
     "metadata": {},
     "output_type": "execute_result"
    },
    {
     "data": {
      "image/png": "[encoded data removed]",
      "text/plain": [
       "<Figure size 432x288 with 2 Axes>"
      ]
     },
     "metadata": {
      "needs_background": "light"
     },
     "output_type": "display_data"
    },
    {
     "data": {
      "image/png": "[encoded data removed]",
      "text/plain": [
       "<Figure size 432x288 with 2 Axes>"
      ]
     },
     "metadata": {
      "needs_background": "light"
     },
     "output_type": "display_data"
    }
   ],
   "source": [
    "# plot the acquisition function\n",
    "from xopt.generators.bayesian.utils import feasibility\n",
    "\n",
    "bounds = generator.vocs.bounds\n",
    "model = generator.model\n",
    "\n",
    "# create mesh\n",
    "n = 200\n",
    "x = torch.linspace(*bounds.T[0], n)\n",
    "y = torch.linspace(*bounds.T[1], n)\n",
    "xx, yy = torch.meshgrid(x, y)\n",
    "pts = torch.hstack([ele.reshape(-1, 1) for ele in (xx, yy)]).double()\n",
    "\n",
    "acq_func = generator.get_acquisition(model)\n",
    "with torch.no_grad():\n",
    "    acq_pts = pts.unsqueeze(1)\n",
    "    acq = acq_func(acq_pts)\n",
    "\n",
    "    fig, ax = plt.subplots()\n",
    "    c = ax.pcolor(xx, yy, acq.reshape(n, n), cmap=\"Blues\")\n",
    "    fig.colorbar(c)\n",
    "    ax.set_title(\"Acquisition function\")\n",
    "\n",
    "    ax.plot(*history[[\"x1\", \"x2\"]][history[\"feasible\"]].to_numpy().T, \".C1\")\n",
    "    ax.plot(*history[[\"x1\", \"x2\"]][~history[\"feasible\"]].to_numpy().T, \".C2\")\n",
    "\n",
    "    ax.plot(*history[[\"x1\", \"x2\"]].to_numpy()[-1].T, \"+\")\n",
    "\n",
    "    feas = feasibility(pts.unsqueeze(1), model, generator.sampler, tnk_vocs).flatten()\n",
    "\n",
    "    fig2, ax2 = plt.subplots()\n",
    "    c = ax2.pcolor(xx, yy, feas.reshape(n, n))\n",
    "    fig2.colorbar(c)\n",
    "    ax2.set_title(\"Feasible Region\")\n",
    "\n",
    "candidate = generator.generate(1)\n",
    "print(candidate[[\"x1\", \"x2\"]].to_numpy())\n",
    "ax.plot(*candidate[[\"x1\", \"x2\"]].to_numpy()[0], \"o\")"
   ]
  },
  {
   "cell_type": "code",
   "execution_count": 7,
   "metadata": {
    "collapsed": false,
    "execution": {
     "iopub.execute_input": "2022-08-14T19:07:01.541025Z",
     "iopub.status.busy": "2022-08-14T19:07:01.540466Z",
     "iopub.status.idle": "2022-08-14T19:07:03.414404Z",
     "shell.execute_reply": "2022-08-14T19:07:03.412514Z"
    },
    "pycharm": {
     "name": "#%%\n"
    }
   },
   "outputs": [
    {
     "name": "stdout",
     "output_type": "stream",
     "text": [
      "CPU times: user 3.62 s, sys: 79.4 ms, total: 3.7 s\n",
      "Wall time: 1.86 s\n"
     ]
    }
   ],
   "source": [
    "%%time\n",
    "candidate = generator.generate(1)"
   ]
  }
 ],
 "metadata": {
  "interpreter": {
   "hash": "72034539424920dfb606fe3b820b3f27dca0cbf1c69938110810ec4641e275b1"
  },
  "kernelspec": {
   "display_name": "Python 3 (ipykernel)",
   "language": "python",
   "name": "python3"
  },
  "language_info": {
   "codemirror_mode": {
    "name": "ipython",
    "version": 3
   },
   "file_extension": ".py",
   "mimetype": "text/x-python",
   "name": "python",
   "nbconvert_exporter": "python",
   "pygments_lexer": "ipython3",
   "version": "3.9.13"
  }
 },
 "nbformat": 4,
 "nbformat_minor": 4
}
