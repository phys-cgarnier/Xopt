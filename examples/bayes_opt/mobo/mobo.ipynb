{
 "cells": [
  {
   "cell_type": "markdown",
   "metadata": {
    "pycharm": {
     "name": "#%% md\n"
    }
   },
   "source": [
    "\n",
    "# Multi-objective Bayesian Optimization\n",
    "\n",
    "\n",
    "TNK function\n",
    "$n=2$ variables:\n",
    "$x_i \\in [0, \\pi], i=1,2$\n",
    "\n",
    "Objectives:\n",
    "- $f_i(x) = x_i$\n",
    "\n",
    "Constraints:\n",
    "- $g_1(x) = -x_1^2 -x_2^2 + 1 + 0.1 \\cos\\left(16 \\arctan \\frac{x_1}{x_2}\\right) \\le 0$\n",
    "- $g_2(x) = (x_1 - 1/2)^2 + (x_2-1/2)^2 \\le 0.5$"
   ]
  },
  {
   "cell_type": "code",
   "execution_count": 1,
   "metadata": {
    "collapsed": false,
    "execution": {
     "iopub.execute_input": "2022-09-30T15:19:06.208552Z",
     "iopub.status.busy": "2022-09-30T15:19:06.208067Z",
     "iopub.status.idle": "2022-09-30T15:19:07.419779Z",
     "shell.execute_reply": "2022-09-30T15:19:07.417769Z"
    },
    "pycharm": {
     "name": "#%%\n"
    }
   },
   "outputs": [
    {
     "name": "stdout",
     "output_type": "stream",
     "text": [
      "{'variables': {'x1': [0.0, 3.14159], 'x2': [0.0, 3.14159]}, 'constraints': {'c1': ['GREATER_THAN', 0.0], 'c2': ['LESS_THAN', 0.5]}, 'objectives': {'y1': 'MINIMIZE', 'y2': 'MINIMIZE'}, 'constants': {'a': 'dummy_constant'}, 'linked_variables': {}}\n"
     ]
    }
   ],
   "source": [
    "%reset -f\n",
    "from copy import deepcopy\n",
    "\n",
    "import pandas as pd\n",
    "import numpy as np\n",
    "import torch\n",
    "\n",
    "from xopt import Xopt, Evaluator\n",
    "from xopt.generators.bayesian import MOBOGenerator\n",
    "from xopt.resources.test_functions.tnk import evaluate_TNK, tnk_vocs\n",
    "\n",
    "\n",
    "evaluator = Evaluator(function=evaluate_TNK)\n",
    "print(tnk_vocs.dict())"
   ]
  },
  {
   "cell_type": "code",
   "execution_count": 2,
   "metadata": {
    "collapsed": false,
    "execution": {
     "iopub.execute_input": "2022-09-30T15:19:07.456549Z",
     "iopub.status.busy": "2022-09-30T15:19:07.455946Z",
     "iopub.status.idle": "2022-09-30T15:20:16.505575Z",
     "shell.execute_reply": "2022-09-30T15:20:16.504815Z"
    },
    "pycharm": {
     "name": "#%%\n"
    }
   },
   "outputs": [
    {
     "name": "stdout",
     "output_type": "stream",
     "text": [
      "optim=OptimOptions(num_restarts=1, raw_samples=50, sequential=True, use_nearby_initial_points=True, max_travel_distances=None) acq=MOBOAcqOptions(proximal_lengthscales=[1.0, 1.0], use_transformed_proximal_weights=True, monte_carlo_samples=128, ref_point=None, use_data_as_reference=True) model=ModelOptions(function=<function create_standard_model at 0x7f322fd02550>, kwargs=kwargs(use_conservative_prior_lengthscale=False, use_conservative_prior_mean=False, use_low_noise_prior=True)) n_initial=(2,)\n",
      "0\n",
      "1\n",
      "2\n",
      "3\n"
     ]
    },
    {
     "name": "stderr",
     "output_type": "stream",
     "text": [
      "/usr/share/miniconda/envs/xopt-dev/lib/python3.9/site-packages/botorch/optim/optimize.py:287: RuntimeWarning: Optimization failed in `gen_candidates_scipy` with the following warning(s):\n",
      "[OptimizationWarning('Optimization failed within `scipy.optimize.minimize` with status 2.')]\n",
      "Because you specified `batch_initial_conditions`, optimization will not be retried with new initial conditions and will proceed with the current solution. Suggested remediation: Try again with different `batch_initial_conditions`, or don't provide `batch_initial_conditions.`\n",
      "  warnings.warn(first_warn_msg, RuntimeWarning)\n"
     ]
    },
    {
     "name": "stdout",
     "output_type": "stream",
     "text": [
      "4\n",
      "5\n",
      "6\n",
      "7\n",
      "8\n"
     ]
    },
    {
     "name": "stderr",
     "output_type": "stream",
     "text": [
      "/usr/share/miniconda/envs/xopt-dev/lib/python3.9/site-packages/botorch/optim/optimize.py:287: RuntimeWarning: Optimization failed in `gen_candidates_scipy` with the following warning(s):\n",
      "[OptimizationWarning('Optimization failed within `scipy.optimize.minimize` with status 2.')]\n",
      "Because you specified `batch_initial_conditions`, optimization will not be retried with new initial conditions and will proceed with the current solution. Suggested remediation: Try again with different `batch_initial_conditions`, or don't provide `batch_initial_conditions.`\n",
      "  warnings.warn(first_warn_msg, RuntimeWarning)\n"
     ]
    },
    {
     "name": "stdout",
     "output_type": "stream",
     "text": [
      "9\n",
      "10\n",
      "11\n",
      "12\n",
      "13\n",
      "14\n",
      "15\n",
      "16\n",
      "17\n",
      "18\n",
      "19\n",
      "20\n",
      "21\n",
      "22\n",
      "23\n",
      "24\n",
      "25\n",
      "26\n"
     ]
    },
    {
     "name": "stderr",
     "output_type": "stream",
     "text": [
      "/usr/share/miniconda/envs/xopt-dev/lib/python3.9/site-packages/botorch/optim/optimize.py:287: RuntimeWarning: Optimization failed in `gen_candidates_scipy` with the following warning(s):\n",
      "[OptimizationWarning('Optimization failed within `scipy.optimize.minimize` with status 2.')]\n",
      "Because you specified `batch_initial_conditions`, optimization will not be retried with new initial conditions and will proceed with the current solution. Suggested remediation: Try again with different `batch_initial_conditions`, or don't provide `batch_initial_conditions.`\n",
      "  warnings.warn(first_warn_msg, RuntimeWarning)\n"
     ]
    },
    {
     "name": "stdout",
     "output_type": "stream",
     "text": [
      "27\n",
      "28\n",
      "29\n"
     ]
    }
   ],
   "source": [
    "options = MOBOGenerator.default_options()\n",
    "options.n_initial = (2,)\n",
    "options.optim.num_restarts = 1\n",
    "options.optim.raw_samples = 50\n",
    "options.acq.proximal_lengthscales = [1.0, 1.0]\n",
    "options.model.kwargs.use_low_noise_prior = True\n",
    "print(options)\n",
    "generator = MOBOGenerator(tnk_vocs, options)\n",
    "\n",
    "X = Xopt(generator=generator, evaluator=evaluator, vocs=tnk_vocs)\n",
    "X.evaluate_data(pd.DataFrame({\"x1\":[1.0, 0.75],\"x2\":[0.75, 1.0]}))\n",
    "for i in range(30):\n",
    "    print(i)\n",
    "    X.step()"
   ]
  },
  {
   "cell_type": "code",
   "execution_count": 3,
   "metadata": {
    "collapsed": false,
    "execution": {
     "iopub.execute_input": "2022-09-30T15:20:16.509345Z",
     "iopub.status.busy": "2022-09-30T15:20:16.508791Z",
     "iopub.status.idle": "2022-09-30T15:20:16.538533Z",
     "shell.execute_reply": "2022-09-30T15:20:16.537473Z"
    },
    "pycharm": {
     "name": "#%%\n"
    }
   },
   "outputs": [
    {
     "data": {
      "text/html": [
       "<div>\n",
       "<style scoped>\n",
       "    .dataframe tbody tr th:only-of-type {\n",
       "        vertical-align: middle;\n",
       "    }\n",
       "\n",
       "    .dataframe tbody tr th {\n",
       "        vertical-align: top;\n",
       "    }\n",
       "\n",
       "    .dataframe thead th {\n",
       "        text-align: right;\n",
       "    }\n",
       "</style>\n",
       "<table border=\"1\" class=\"dataframe\">\n",
       "  <thead>\n",
       "    <tr style=\"text-align: right;\">\n",
       "      <th></th>\n",
       "      <th>x1</th>\n",
       "      <th>x2</th>\n",
       "      <th>y1</th>\n",
       "      <th>y2</th>\n",
       "      <th>c1</th>\n",
       "      <th>c2</th>\n",
       "      <th>some_array</th>\n",
       "      <th>xopt_runtime</th>\n",
       "      <th>xopt_error</th>\n",
       "      <th>a</th>\n",
       "    </tr>\n",
       "  </thead>\n",
       "  <tbody>\n",
       "    <tr>\n",
       "      <th>1</th>\n",
       "      <td>1.000000</td>\n",
       "      <td>0.750000</td>\n",
       "      <td>1.000000</td>\n",
       "      <td>0.750000</td>\n",
       "      <td>0.626888</td>\n",
       "      <td>0.312500</td>\n",
       "      <td>[1, 2, 3]</td>\n",
       "      <td>0.000049</td>\n",
       "      <td>False</td>\n",
       "      <td>NaN</td>\n",
       "    </tr>\n",
       "    <tr>\n",
       "      <th>2</th>\n",
       "      <td>0.750000</td>\n",
       "      <td>1.000000</td>\n",
       "      <td>0.750000</td>\n",
       "      <td>1.000000</td>\n",
       "      <td>0.626888</td>\n",
       "      <td>0.312500</td>\n",
       "      <td>[1, 2, 3]</td>\n",
       "      <td>0.000011</td>\n",
       "      <td>False</td>\n",
       "      <td>NaN</td>\n",
       "    </tr>\n",
       "    <tr>\n",
       "      <th>3</th>\n",
       "      <td>1.361383</td>\n",
       "      <td>1.718280</td>\n",
       "      <td>1.361383</td>\n",
       "      <td>1.718280</td>\n",
       "      <td>3.833021</td>\n",
       "      <td>2.226186</td>\n",
       "      <td>[1, 2, 3]</td>\n",
       "      <td>0.000045</td>\n",
       "      <td>False</td>\n",
       "      <td>dummy_constant</td>\n",
       "    </tr>\n",
       "    <tr>\n",
       "      <th>4</th>\n",
       "      <td>0.547114</td>\n",
       "      <td>0.722257</td>\n",
       "      <td>0.547114</td>\n",
       "      <td>0.722257</td>\n",
       "      <td>-0.120667</td>\n",
       "      <td>0.051618</td>\n",
       "      <td>[1, 2, 3]</td>\n",
       "      <td>0.000033</td>\n",
       "      <td>False</td>\n",
       "      <td>dummy_constant</td>\n",
       "    </tr>\n",
       "    <tr>\n",
       "      <th>5</th>\n",
       "      <td>0.586823</td>\n",
       "      <td>0.824256</td>\n",
       "      <td>0.586823</td>\n",
       "      <td>0.824256</td>\n",
       "      <td>0.112718</td>\n",
       "      <td>0.112680</td>\n",
       "      <td>[1, 2, 3]</td>\n",
       "      <td>0.000035</td>\n",
       "      <td>False</td>\n",
       "      <td>dummy_constant</td>\n",
       "    </tr>\n",
       "    <tr>\n",
       "      <th>6</th>\n",
       "      <td>0.896431</td>\n",
       "      <td>0.549154</td>\n",
       "      <td>0.896431</td>\n",
       "      <td>0.549154</td>\n",
       "      <td>0.185923</td>\n",
       "      <td>0.159573</td>\n",
       "      <td>[1, 2, 3]</td>\n",
       "      <td>0.000034</td>\n",
       "      <td>False</td>\n",
       "      <td>dummy_constant</td>\n",
       "    </tr>\n",
       "    <tr>\n",
       "      <th>7</th>\n",
       "      <td>0.364864</td>\n",
       "      <td>1.056908</td>\n",
       "      <td>0.364864</td>\n",
       "      <td>1.056908</td>\n",
       "      <td>0.193208</td>\n",
       "      <td>0.328408</td>\n",
       "      <td>[1, 2, 3]</td>\n",
       "      <td>0.000036</td>\n",
       "      <td>False</td>\n",
       "      <td>dummy_constant</td>\n",
       "    </tr>\n",
       "    <tr>\n",
       "      <th>8</th>\n",
       "      <td>0.202566</td>\n",
       "      <td>1.097427</td>\n",
       "      <td>0.202566</td>\n",
       "      <td>1.097427</td>\n",
       "      <td>0.342944</td>\n",
       "      <td>0.445386</td>\n",
       "      <td>[1, 2, 3]</td>\n",
       "      <td>0.000036</td>\n",
       "      <td>False</td>\n",
       "      <td>dummy_constant</td>\n",
       "    </tr>\n",
       "    <tr>\n",
       "      <th>9</th>\n",
       "      <td>0.000000</td>\n",
       "      <td>0.887838</td>\n",
       "      <td>0.000000</td>\n",
       "      <td>0.887838</td>\n",
       "      <td>-0.311744</td>\n",
       "      <td>0.400418</td>\n",
       "      <td>[1, 2, 3]</td>\n",
       "      <td>0.000035</td>\n",
       "      <td>False</td>\n",
       "      <td>dummy_constant</td>\n",
       "    </tr>\n",
       "    <tr>\n",
       "      <th>10</th>\n",
       "      <td>0.075371</td>\n",
       "      <td>1.040048</td>\n",
       "      <td>0.075371</td>\n",
       "      <td>1.040048</td>\n",
       "      <td>0.047215</td>\n",
       "      <td>0.471961</td>\n",
       "      <td>[1, 2, 3]</td>\n",
       "      <td>0.000035</td>\n",
       "      <td>False</td>\n",
       "      <td>dummy_constant</td>\n",
       "    </tr>\n",
       "    <tr>\n",
       "      <th>11</th>\n",
       "      <td>0.935907</td>\n",
       "      <td>0.051971</td>\n",
       "      <td>0.935907</td>\n",
       "      <td>0.051971</td>\n",
       "      <td>-0.184506</td>\n",
       "      <td>0.390745</td>\n",
       "      <td>[1, 2, 3]</td>\n",
       "      <td>0.000034</td>\n",
       "      <td>False</td>\n",
       "      <td>dummy_constant</td>\n",
       "    </tr>\n",
       "    <tr>\n",
       "      <th>12</th>\n",
       "      <td>1.057880</td>\n",
       "      <td>0.170580</td>\n",
       "      <td>1.057880</td>\n",
       "      <td>0.170580</td>\n",
       "      <td>0.231652</td>\n",
       "      <td>0.419748</td>\n",
       "      <td>[1, 2, 3]</td>\n",
       "      <td>0.000035</td>\n",
       "      <td>False</td>\n",
       "      <td>dummy_constant</td>\n",
       "    </tr>\n",
       "    <tr>\n",
       "      <th>13</th>\n",
       "      <td>0.377726</td>\n",
       "      <td>0.931951</td>\n",
       "      <td>0.377726</td>\n",
       "      <td>0.931951</td>\n",
       "      <td>-0.088046</td>\n",
       "      <td>0.201533</td>\n",
       "      <td>[1, 2, 3]</td>\n",
       "      <td>0.000036</td>\n",
       "      <td>False</td>\n",
       "      <td>dummy_constant</td>\n",
       "    </tr>\n",
       "    <tr>\n",
       "      <th>14</th>\n",
       "      <td>0.945069</td>\n",
       "      <td>0.279150</td>\n",
       "      <td>0.945069</td>\n",
       "      <td>0.279150</td>\n",
       "      <td>-0.017241</td>\n",
       "      <td>0.246861</td>\n",
       "      <td>[1, 2, 3]</td>\n",
       "      <td>0.000035</td>\n",
       "      <td>False</td>\n",
       "      <td>dummy_constant</td>\n",
       "    </tr>\n",
       "    <tr>\n",
       "      <th>15</th>\n",
       "      <td>0.739297</td>\n",
       "      <td>0.665322</td>\n",
       "      <td>0.739297</td>\n",
       "      <td>0.665322</td>\n",
       "      <td>-0.077395</td>\n",
       "      <td>0.084594</td>\n",
       "      <td>[1, 2, 3]</td>\n",
       "      <td>0.000035</td>\n",
       "      <td>False</td>\n",
       "      <td>dummy_constant</td>\n",
       "    </tr>\n",
       "    <tr>\n",
       "      <th>16</th>\n",
       "      <td>0.502204</td>\n",
       "      <td>0.907235</td>\n",
       "      <td>0.502204</td>\n",
       "      <td>0.907235</td>\n",
       "      <td>0.098580</td>\n",
       "      <td>0.165845</td>\n",
       "      <td>[1, 2, 3]</td>\n",
       "      <td>0.000034</td>\n",
       "      <td>False</td>\n",
       "      <td>dummy_constant</td>\n",
       "    </tr>\n",
       "    <tr>\n",
       "      <th>17</th>\n",
       "      <td>0.267429</td>\n",
       "      <td>0.991490</td>\n",
       "      <td>0.267429</td>\n",
       "      <td>0.991490</td>\n",
       "      <td>0.102259</td>\n",
       "      <td>0.295652</td>\n",
       "      <td>[1, 2, 3]</td>\n",
       "      <td>0.000036</td>\n",
       "      <td>False</td>\n",
       "      <td>dummy_constant</td>\n",
       "    </tr>\n",
       "    <tr>\n",
       "      <th>18</th>\n",
       "      <td>1.003820</td>\n",
       "      <td>0.185040</td>\n",
       "      <td>1.003820</td>\n",
       "      <td>0.185040</td>\n",
       "      <td>0.139375</td>\n",
       "      <td>0.353034</td>\n",
       "      <td>[1, 2, 3]</td>\n",
       "      <td>0.000035</td>\n",
       "      <td>False</td>\n",
       "      <td>dummy_constant</td>\n",
       "    </tr>\n",
       "    <tr>\n",
       "      <th>19</th>\n",
       "      <td>1.041563</td>\n",
       "      <td>0.054037</td>\n",
       "      <td>1.041563</td>\n",
       "      <td>0.054037</td>\n",
       "      <td>0.020238</td>\n",
       "      <td>0.492174</td>\n",
       "      <td>[1, 2, 3]</td>\n",
       "      <td>0.000033</td>\n",
       "      <td>False</td>\n",
       "      <td>dummy_constant</td>\n",
       "    </tr>\n",
       "    <tr>\n",
       "      <th>20</th>\n",
       "      <td>0.764550</td>\n",
       "      <td>0.688662</td>\n",
       "      <td>0.764550</td>\n",
       "      <td>0.688662</td>\n",
       "      <td>-0.008342</td>\n",
       "      <td>0.105580</td>\n",
       "      <td>[1, 2, 3]</td>\n",
       "      <td>0.000035</td>\n",
       "      <td>False</td>\n",
       "      <td>dummy_constant</td>\n",
       "    </tr>\n",
       "    <tr>\n",
       "      <th>21</th>\n",
       "      <td>0.826087</td>\n",
       "      <td>0.578156</td>\n",
       "      <td>0.826087</td>\n",
       "      <td>0.578156</td>\n",
       "      <td>0.110776</td>\n",
       "      <td>0.112441</td>\n",
       "      <td>[1, 2, 3]</td>\n",
       "      <td>0.000034</td>\n",
       "      <td>False</td>\n",
       "      <td>dummy_constant</td>\n",
       "    </tr>\n",
       "    <tr>\n",
       "      <th>22</th>\n",
       "      <td>0.675739</td>\n",
       "      <td>0.759382</td>\n",
       "      <td>0.675739</td>\n",
       "      <td>0.759382</td>\n",
       "      <td>-0.026381</td>\n",
       "      <td>0.098163</td>\n",
       "      <td>[1, 2, 3]</td>\n",
       "      <td>0.000033</td>\n",
       "      <td>False</td>\n",
       "      <td>dummy_constant</td>\n",
       "    </tr>\n",
       "    <tr>\n",
       "      <th>23</th>\n",
       "      <td>0.902996</td>\n",
       "      <td>0.424638</td>\n",
       "      <td>0.902996</td>\n",
       "      <td>0.424638</td>\n",
       "      <td>-0.077456</td>\n",
       "      <td>0.168085</td>\n",
       "      <td>[1, 2, 3]</td>\n",
       "      <td>0.000035</td>\n",
       "      <td>False</td>\n",
       "      <td>dummy_constant</td>\n",
       "    </tr>\n",
       "    <tr>\n",
       "      <th>24</th>\n",
       "      <td>0.637202</td>\n",
       "      <td>0.804773</td>\n",
       "      <td>0.637202</td>\n",
       "      <td>0.804773</td>\n",
       "      <td>0.081346</td>\n",
       "      <td>0.111711</td>\n",
       "      <td>[1, 2, 3]</td>\n",
       "      <td>0.000036</td>\n",
       "      <td>False</td>\n",
       "      <td>dummy_constant</td>\n",
       "    </tr>\n",
       "    <tr>\n",
       "      <th>25</th>\n",
       "      <td>1.594293</td>\n",
       "      <td>2.337880</td>\n",
       "      <td>1.594293</td>\n",
       "      <td>2.337880</td>\n",
       "      <td>7.106311</td>\n",
       "      <td>4.575279</td>\n",
       "      <td>[1, 2, 3]</td>\n",
       "      <td>0.000034</td>\n",
       "      <td>False</td>\n",
       "      <td>dummy_constant</td>\n",
       "    </tr>\n",
       "    <tr>\n",
       "      <th>26</th>\n",
       "      <td>0.100203</td>\n",
       "      <td>1.063295</td>\n",
       "      <td>0.100203</td>\n",
       "      <td>1.063295</td>\n",
       "      <td>0.133900</td>\n",
       "      <td>0.477140</td>\n",
       "      <td>[1, 2, 3]</td>\n",
       "      <td>0.000034</td>\n",
       "      <td>False</td>\n",
       "      <td>dummy_constant</td>\n",
       "    </tr>\n",
       "    <tr>\n",
       "      <th>27</th>\n",
       "      <td>0.146491</td>\n",
       "      <td>1.000349</td>\n",
       "      <td>0.146491</td>\n",
       "      <td>1.000349</td>\n",
       "      <td>0.090738</td>\n",
       "      <td>0.375318</td>\n",
       "      <td>[1, 2, 3]</td>\n",
       "      <td>0.000035</td>\n",
       "      <td>False</td>\n",
       "      <td>dummy_constant</td>\n",
       "    </tr>\n",
       "    <tr>\n",
       "      <th>28</th>\n",
       "      <td>0.304306</td>\n",
       "      <td>0.964545</td>\n",
       "      <td>0.304306</td>\n",
       "      <td>0.964545</td>\n",
       "      <td>0.005309</td>\n",
       "      <td>0.254099</td>\n",
       "      <td>[1, 2, 3]</td>\n",
       "      <td>0.000035</td>\n",
       "      <td>False</td>\n",
       "      <td>dummy_constant</td>\n",
       "    </tr>\n",
       "    <tr>\n",
       "      <th>29</th>\n",
       "      <td>0.958594</td>\n",
       "      <td>0.312580</td>\n",
       "      <td>0.958594</td>\n",
       "      <td>0.312580</td>\n",
       "      <td>-0.015888</td>\n",
       "      <td>0.245435</td>\n",
       "      <td>[1, 2, 3]</td>\n",
       "      <td>0.000035</td>\n",
       "      <td>False</td>\n",
       "      <td>dummy_constant</td>\n",
       "    </tr>\n",
       "    <tr>\n",
       "      <th>30</th>\n",
       "      <td>1.895141</td>\n",
       "      <td>2.046564</td>\n",
       "      <td>1.895141</td>\n",
       "      <td>2.046564</td>\n",
       "      <td>6.698269</td>\n",
       "      <td>4.338279</td>\n",
       "      <td>[1, 2, 3]</td>\n",
       "      <td>0.000036</td>\n",
       "      <td>False</td>\n",
       "      <td>dummy_constant</td>\n",
       "    </tr>\n",
       "    <tr>\n",
       "      <th>31</th>\n",
       "      <td>0.832160</td>\n",
       "      <td>0.595111</td>\n",
       "      <td>0.832160</td>\n",
       "      <td>0.595111</td>\n",
       "      <td>0.134006</td>\n",
       "      <td>0.119376</td>\n",
       "      <td>[1, 2, 3]</td>\n",
       "      <td>0.000036</td>\n",
       "      <td>False</td>\n",
       "      <td>dummy_constant</td>\n",
       "    </tr>\n",
       "    <tr>\n",
       "      <th>32</th>\n",
       "      <td>0.030524</td>\n",
       "      <td>1.026859</td>\n",
       "      <td>0.030524</td>\n",
       "      <td>1.026859</td>\n",
       "      <td>-0.033537</td>\n",
       "      <td>0.497988</td>\n",
       "      <td>[1, 2, 3]</td>\n",
       "      <td>0.000035</td>\n",
       "      <td>False</td>\n",
       "      <td>dummy_constant</td>\n",
       "    </tr>\n",
       "  </tbody>\n",
       "</table>\n",
       "</div>"
      ],
      "text/plain": [
       "          x1        x2        y1        y2        c1        c2 some_array  \\\n",
       "1   1.000000  0.750000  1.000000  0.750000  0.626888  0.312500  [1, 2, 3]   \n",
       "2   0.750000  1.000000  0.750000  1.000000  0.626888  0.312500  [1, 2, 3]   \n",
       "3   1.361383  1.718280  1.361383  1.718280  3.833021  2.226186  [1, 2, 3]   \n",
       "4   0.547114  0.722257  0.547114  0.722257 -0.120667  0.051618  [1, 2, 3]   \n",
       "5   0.586823  0.824256  0.586823  0.824256  0.112718  0.112680  [1, 2, 3]   \n",
       "6   0.896431  0.549154  0.896431  0.549154  0.185923  0.159573  [1, 2, 3]   \n",
       "7   0.364864  1.056908  0.364864  1.056908  0.193208  0.328408  [1, 2, 3]   \n",
       "8   0.202566  1.097427  0.202566  1.097427  0.342944  0.445386  [1, 2, 3]   \n",
       "9   0.000000  0.887838  0.000000  0.887838 -0.311744  0.400418  [1, 2, 3]   \n",
       "10  0.075371  1.040048  0.075371  1.040048  0.047215  0.471961  [1, 2, 3]   \n",
       "11  0.935907  0.051971  0.935907  0.051971 -0.184506  0.390745  [1, 2, 3]   \n",
       "12  1.057880  0.170580  1.057880  0.170580  0.231652  0.419748  [1, 2, 3]   \n",
       "13  0.377726  0.931951  0.377726  0.931951 -0.088046  0.201533  [1, 2, 3]   \n",
       "14  0.945069  0.279150  0.945069  0.279150 -0.017241  0.246861  [1, 2, 3]   \n",
       "15  0.739297  0.665322  0.739297  0.665322 -0.077395  0.084594  [1, 2, 3]   \n",
       "16  0.502204  0.907235  0.502204  0.907235  0.098580  0.165845  [1, 2, 3]   \n",
       "17  0.267429  0.991490  0.267429  0.991490  0.102259  0.295652  [1, 2, 3]   \n",
       "18  1.003820  0.185040  1.003820  0.185040  0.139375  0.353034  [1, 2, 3]   \n",
       "19  1.041563  0.054037  1.041563  0.054037  0.020238  0.492174  [1, 2, 3]   \n",
       "20  0.764550  0.688662  0.764550  0.688662 -0.008342  0.105580  [1, 2, 3]   \n",
       "21  0.826087  0.578156  0.826087  0.578156  0.110776  0.112441  [1, 2, 3]   \n",
       "22  0.675739  0.759382  0.675739  0.759382 -0.026381  0.098163  [1, 2, 3]   \n",
       "23  0.902996  0.424638  0.902996  0.424638 -0.077456  0.168085  [1, 2, 3]   \n",
       "24  0.637202  0.804773  0.637202  0.804773  0.081346  0.111711  [1, 2, 3]   \n",
       "25  1.594293  2.337880  1.594293  2.337880  7.106311  4.575279  [1, 2, 3]   \n",
       "26  0.100203  1.063295  0.100203  1.063295  0.133900  0.477140  [1, 2, 3]   \n",
       "27  0.146491  1.000349  0.146491  1.000349  0.090738  0.375318  [1, 2, 3]   \n",
       "28  0.304306  0.964545  0.304306  0.964545  0.005309  0.254099  [1, 2, 3]   \n",
       "29  0.958594  0.312580  0.958594  0.312580 -0.015888  0.245435  [1, 2, 3]   \n",
       "30  1.895141  2.046564  1.895141  2.046564  6.698269  4.338279  [1, 2, 3]   \n",
       "31  0.832160  0.595111  0.832160  0.595111  0.134006  0.119376  [1, 2, 3]   \n",
       "32  0.030524  1.026859  0.030524  1.026859 -0.033537  0.497988  [1, 2, 3]   \n",
       "\n",
       "    xopt_runtime  xopt_error               a  \n",
       "1       0.000049       False             NaN  \n",
       "2       0.000011       False             NaN  \n",
       "3       0.000045       False  dummy_constant  \n",
       "4       0.000033       False  dummy_constant  \n",
       "5       0.000035       False  dummy_constant  \n",
       "6       0.000034       False  dummy_constant  \n",
       "7       0.000036       False  dummy_constant  \n",
       "8       0.000036       False  dummy_constant  \n",
       "9       0.000035       False  dummy_constant  \n",
       "10      0.000035       False  dummy_constant  \n",
       "11      0.000034       False  dummy_constant  \n",
       "12      0.000035       False  dummy_constant  \n",
       "13      0.000036       False  dummy_constant  \n",
       "14      0.000035       False  dummy_constant  \n",
       "15      0.000035       False  dummy_constant  \n",
       "16      0.000034       False  dummy_constant  \n",
       "17      0.000036       False  dummy_constant  \n",
       "18      0.000035       False  dummy_constant  \n",
       "19      0.000033       False  dummy_constant  \n",
       "20      0.000035       False  dummy_constant  \n",
       "21      0.000034       False  dummy_constant  \n",
       "22      0.000033       False  dummy_constant  \n",
       "23      0.000035       False  dummy_constant  \n",
       "24      0.000036       False  dummy_constant  \n",
       "25      0.000034       False  dummy_constant  \n",
       "26      0.000034       False  dummy_constant  \n",
       "27      0.000035       False  dummy_constant  \n",
       "28      0.000035       False  dummy_constant  \n",
       "29      0.000035       False  dummy_constant  \n",
       "30      0.000036       False  dummy_constant  \n",
       "31      0.000036       False  dummy_constant  \n",
       "32      0.000035       False  dummy_constant  "
      ]
     },
     "execution_count": 3,
     "metadata": {},
     "output_type": "execute_result"
    }
   ],
   "source": [
    "X.generator.data"
   ]
  },
  {
   "cell_type": "markdown",
   "metadata": {
    "collapsed": false,
    "pycharm": {
     "name": "#%% md\n"
    }
   },
   "source": [
    "## plot results\n"
   ]
  },
  {
   "cell_type": "code",
   "execution_count": 4,
   "metadata": {
    "collapsed": false,
    "execution": {
     "iopub.execute_input": "2022-09-30T15:20:16.541678Z",
     "iopub.status.busy": "2022-09-30T15:20:16.541162Z",
     "iopub.status.idle": "2022-09-30T15:20:17.039987Z",
     "shell.execute_reply": "2022-09-30T15:20:17.039368Z"
    },
    "pycharm": {
     "name": "#%%\n"
    }
   },
   "outputs": [
    {
     "data": {
      "image/png": "[encoded data removed]",
      "text/plain": [
       "<Figure size 640x480 with 1 Axes>"
      ]
     },
     "metadata": {},
     "output_type": "display_data"
    }
   ],
   "source": [
    "import matplotlib.pyplot as plt\n",
    "\n",
    "fig, ax = plt.subplots()\n",
    "\n",
    "theta = np.linspace(0, np.pi / 2)\n",
    "r = np.sqrt(1 + 0.1 * np.cos(16 * theta))\n",
    "x_1 = r * np.sin(theta)\n",
    "x_2_lower = r * np.cos(theta)\n",
    "x_2_upper = (0.5 - (x_1 - 0.5) ** 2) ** 0.5 + 0.5\n",
    "\n",
    "z = np.zeros_like(x_1)\n",
    "\n",
    "# ax2.plot(x_1, x_2_lower,'r')\n",
    "ax.fill_between(x_1, z, x_2_lower, fc=\"white\")\n",
    "circle = plt.Circle(\n",
    "    (0.5, 0.5), 0.5 ** 0.5, color=\"r\", alpha=0.25, zorder=0, label=\"Valid Region\"\n",
    ")\n",
    "ax.add_patch(circle)\n",
    "history = pd.concat(\n",
    "    [X.data, tnk_vocs.feasibility_data(X.data)], axis=1, ignore_index=False\n",
    ")\n",
    "\n",
    "\n",
    "ax.plot(*history[[\"x1\", \"x2\"]][history[\"feasible\"]].to_numpy().T, \".C1\")\n",
    "ax.plot(*history[[\"x1\", \"x2\"]][~history[\"feasible\"]].to_numpy().T, \".C2\")\n",
    "\n",
    "ax.set_xlim(0, 3.14)\n",
    "ax.set_ylim(0, 3.14)\n",
    "ax.set_xlabel(\"x1\")\n",
    "ax.set_ylabel(\"x2\")\n",
    "ax.set_aspect(\"equal\")"
   ]
  },
  {
   "cell_type": "markdown",
   "metadata": {
    "collapsed": false,
    "pycharm": {
     "name": "#%% md\n"
    }
   },
   "source": [
    "### Plot path through input space"
   ]
  },
  {
   "cell_type": "code",
   "execution_count": 5,
   "metadata": {
    "collapsed": false,
    "execution": {
     "iopub.execute_input": "2022-09-30T15:20:17.043206Z",
     "iopub.status.busy": "2022-09-30T15:20:17.042691Z",
     "iopub.status.idle": "2022-09-30T15:20:17.183298Z",
     "shell.execute_reply": "2022-09-30T15:20:17.182676Z"
    },
    "pycharm": {
     "name": "#%%\n"
    }
   },
   "outputs": [
    {
     "data": {
      "image/png": "[encoded data removed]",
      "text/plain": [
       "<Figure size 640x480 with 1 Axes>"
      ]
     },
     "metadata": {},
     "output_type": "display_data"
    }
   ],
   "source": [
    "ax = history.plot(\"x1\", \"x2\")\n",
    "ax.set_ylim(0, 3.14)\n",
    "ax.set_xlim(0, 3.14)\n",
    "ax.set_aspect(\"equal\")"
   ]
  },
  {
   "cell_type": "code",
   "execution_count": 6,
   "metadata": {
    "collapsed": false,
    "execution": {
     "iopub.execute_input": "2022-09-30T15:20:17.186811Z",
     "iopub.status.busy": "2022-09-30T15:20:17.186370Z",
     "iopub.status.idle": "2022-09-30T15:20:47.648465Z",
     "shell.execute_reply": "2022-09-30T15:20:47.646918Z"
    },
    "pycharm": {
     "name": "#%%\n"
    }
   },
   "outputs": [
    {
     "name": "stderr",
     "output_type": "stream",
     "text": [
      "/usr/share/miniconda/envs/xopt-dev/lib/python3.9/site-packages/torch/functional.py:478: UserWarning: torch.meshgrid: in an upcoming release, it will be required to pass the indexing argument. (Triggered internally at  /home/conda/feedstock_root/build_artifacts/pytorch-recipe_1660136119739/work/aten/src/ATen/native/TensorShape.cpp:2894.)\n",
      "  return _VF.meshgrid(tensors, **kwargs)  # type: ignore[attr-defined]\n"
     ]
    },
    {
     "name": "stdout",
     "output_type": "stream",
     "text": [
      "[[0.48552231 0.87702812]]\n"
     ]
    },
    {
     "data": {
      "text/plain": [
       "[<matplotlib.lines.Line2D at 0x7f32175951f0>]"
      ]
     },
     "execution_count": 6,
     "metadata": {},
     "output_type": "execute_result"
    },
    {
     "data": {
      "image/png": "[encoded data removed]",
      "text/plain": [
       "<Figure size 640x480 with 2 Axes>"
      ]
     },
     "metadata": {},
     "output_type": "display_data"
    },
    {
     "data": {
      "image/png": "[encoded data removed]",
      "text/plain": [
       "<Figure size 640x480 with 2 Axes>"
      ]
     },
     "metadata": {},
     "output_type": "display_data"
    }
   ],
   "source": [
    "# plot the acquisition function\n",
    "from xopt.generators.bayesian.utils import feasibility\n",
    "\n",
    "bounds = generator.vocs.bounds\n",
    "model = generator.model\n",
    "\n",
    "# create mesh\n",
    "n = 200\n",
    "x = torch.linspace(*bounds.T[0], n)\n",
    "y = torch.linspace(*bounds.T[1], n)\n",
    "xx, yy = torch.meshgrid(x, y)\n",
    "pts = torch.hstack([ele.reshape(-1, 1) for ele in (xx, yy)]).double()\n",
    "\n",
    "acq_func = generator.get_acquisition(model)\n",
    "with torch.no_grad():\n",
    "    acq_pts = pts.unsqueeze(1)\n",
    "    acq = acq_func(acq_pts)\n",
    "\n",
    "    fig, ax = plt.subplots()\n",
    "    c = ax.pcolor(xx, yy, acq.reshape(n, n), cmap=\"Blues\")\n",
    "    fig.colorbar(c)\n",
    "    ax.set_title(\"Acquisition function\")\n",
    "\n",
    "    ax.plot(*history[[\"x1\", \"x2\"]][history[\"feasible\"]].to_numpy().T, \".C1\")\n",
    "    ax.plot(*history[[\"x1\", \"x2\"]][~history[\"feasible\"]].to_numpy().T, \".C2\")\n",
    "\n",
    "    ax.plot(*history[[\"x1\", \"x2\"]].to_numpy()[-1].T, \"+\")\n",
    "\n",
    "    feas = feasibility(pts.unsqueeze(1), model, generator.sampler, tnk_vocs).flatten()\n",
    "\n",
    "    fig2, ax2 = plt.subplots()\n",
    "    c = ax2.pcolor(xx, yy, feas.reshape(n, n))\n",
    "    fig2.colorbar(c)\n",
    "    ax2.set_title(\"Feasible Region\")\n",
    "\n",
    "candidate = generator.generate(1)\n",
    "print(candidate[[\"x1\", \"x2\"]].to_numpy())\n",
    "ax.plot(*candidate[[\"x1\", \"x2\"]].to_numpy()[0], \"o\")"
   ]
  },
  {
   "cell_type": "code",
   "execution_count": 7,
   "metadata": {
    "collapsed": false,
    "execution": {
     "iopub.execute_input": "2022-09-30T15:20:47.698801Z",
     "iopub.status.busy": "2022-09-30T15:20:47.697990Z",
     "iopub.status.idle": "2022-09-30T15:20:49.088905Z",
     "shell.execute_reply": "2022-09-30T15:20:49.087805Z"
    },
    "pycharm": {
     "name": "#%%\n"
    }
   },
   "outputs": [
    {
     "name": "stdout",
     "output_type": "stream",
     "text": [
      "CPU times: user 2.08 s, sys: 4.78 ms, total: 2.08 s\n",
      "Wall time: 1.38 s\n"
     ]
    }
   ],
   "source": [
    "%%time\n",
    "candidate = generator.generate(1)"
   ]
  }
 ],
 "metadata": {
  "interpreter": {
   "hash": "72034539424920dfb606fe3b820b3f27dca0cbf1c69938110810ec4641e275b1"
  },
  "kernelspec": {
   "display_name": "Python 3 (ipykernel)",
   "language": "python",
   "name": "python3"
  },
  "language_info": {
   "codemirror_mode": {
    "name": "ipython",
    "version": 3
   },
   "file_extension": ".py",
   "mimetype": "text/x-python",
   "name": "python",
   "nbconvert_exporter": "python",
   "pygments_lexer": "ipython3",
   "version": "3.9.13"
  }
 },
 "nbformat": 4,
 "nbformat_minor": 4
}
