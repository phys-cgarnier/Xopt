{
 "cells": [
  {
   "cell_type": "markdown",
   "metadata": {
    "pycharm": {
     "name": "#%% md\n"
    }
   },
   "source": [
    "\n",
    "# Multi-objective Bayesian Optimization\n",
    "\n",
    "\n",
    "TNK function\n",
    "$n=2$ variables:\n",
    "$x_i \\in [0, \\pi], i=1,2$\n",
    "\n",
    "Objectives:\n",
    "- $f_i(x) = x_i$\n",
    "\n",
    "Constraints:\n",
    "- $g_1(x) = -x_1^2 -x_2^2 + 1 + 0.1 \\cos\\left(16 \\arctan \\frac{x_1}{x_2}\\right) \\le 0$\n",
    "- $g_2(x) = (x_1 - 1/2)^2 + (x_2-1/2)^2 \\le 0.5$"
   ]
  },
  {
   "cell_type": "code",
   "execution_count": 1,
   "metadata": {
    "collapsed": false,
    "execution": {
     "iopub.execute_input": "2022-08-16T19:11:27.664203Z",
     "iopub.status.busy": "2022-08-16T19:11:27.663593Z",
     "iopub.status.idle": "2022-08-16T19:11:29.200733Z",
     "shell.execute_reply": "2022-08-16T19:11:29.189473Z"
    },
    "pycharm": {
     "name": "#%%\n"
    }
   },
   "outputs": [
    {
     "name": "stdout",
     "output_type": "stream",
     "text": [
      "{'variables': {'x1': [0.0, 3.14159], 'x2': [0.0, 3.14159]}, 'constraints': {'c1': ['GREATER_THAN', 0.0], 'c2': ['LESS_THAN', 0.5]}, 'objectives': {'y1': 'MINIMIZE', 'y2': 'MINIMIZE'}, 'constants': {'a': 'dummy_constant'}, 'linked_variables': {}}\n"
     ]
    },
    {
     "name": "stderr",
     "output_type": "stream",
     "text": [
      "/tmp/ipykernel_2925/2587677992.py:13: DeprecationWarning: `copy_on_model_validation` should be a string: 'deep', 'shallow' or 'none'\n",
      "  evaluator = Evaluator(function=evaluate_TNK)\n"
     ]
    }
   ],
   "source": [
    "%reset -f\n",
    "from copy import deepcopy\n",
    "\n",
    "import pandas as pd\n",
    "import numpy as np\n",
    "import torch\n",
    "\n",
    "from xopt import Xopt, Evaluator\n",
    "from xopt.generators.bayesian import MOBOGenerator\n",
    "from xopt.resources.test_functions.tnk import evaluate_TNK, tnk_vocs\n",
    "\n",
    "\n",
    "evaluator = Evaluator(function=evaluate_TNK)\n",
    "print(tnk_vocs.dict())"
   ]
  },
  {
   "cell_type": "code",
   "execution_count": 2,
   "metadata": {
    "collapsed": false,
    "execution": {
     "iopub.execute_input": "2022-08-16T19:11:29.241715Z",
     "iopub.status.busy": "2022-08-16T19:11:29.240996Z",
     "iopub.status.idle": "2022-08-16T19:13:16.550195Z",
     "shell.execute_reply": "2022-08-16T19:13:16.549448Z"
    },
    "pycharm": {
     "name": "#%%\n"
    }
   },
   "outputs": [
    {
     "name": "stdout",
     "output_type": "stream",
     "text": [
      "optim=OptimOptions(num_restarts=1, raw_samples=50, sequential=True, use_nearby_initial_points=True, max_travel_distances=None) acq=MOBOAcqOptions(proximal_lengthscales=[1.0, 1.0], use_transformed_proximal_weights=True, monte_carlo_samples=128, ref_point=None, use_data_as_reference=True) model=ModelOptions(use_conservative_prior_lengthscale=False, use_conservative_prior_mean=False, use_low_noise_prior=True) n_initial=(2,)\n",
      "0\n"
     ]
    },
    {
     "name": "stderr",
     "output_type": "stream",
     "text": [
      "/usr/share/miniconda/envs/xopt-dev/lib/python3.9/site-packages/gpytorch/lazy/lazy_tensor.py:1811: UserWarning: torch.triangular_solve is deprecated in favor of torch.linalg.solve_triangularand will be removed in a future PyTorch release.\n",
      "torch.linalg.solve_triangular has its arguments reversed and does not return a copy of one of the inputs.\n",
      "X = torch.triangular_solve(B, A).solution\n",
      "should be replaced with\n",
      "X = torch.linalg.solve_triangular(A, B). (Triggered internally at  /home/conda/feedstock_root/build_artifacts/pytorch-recipe_1660136119739/work/aten/src/ATen/native/BatchLinearAlgebra.cpp:2183.)\n",
      "  Linv = torch.triangular_solve(Eye, L, upper=False).solution\n"
     ]
    },
    {
     "name": "stdout",
     "output_type": "stream",
     "text": [
      "1\n",
      "2\n"
     ]
    },
    {
     "name": "stderr",
     "output_type": "stream",
     "text": [
      "/usr/share/miniconda/envs/xopt-dev/lib/python3.9/site-packages/botorch/optim/optimize.py:287: RuntimeWarning: Optimization failed in `gen_candidates_scipy` with the following warning(s):\n",
      "[OptimizationWarning('Optimization failed within `scipy.optimize.minimize` with status 2.'), OptimizationWarning('Optimization failed within `scipy.optimize.minimize` with status 2.')]\n",
      "Because you specified `batch_initial_conditions`, optimization will not be retried with new initial conditions and will proceed with the current solution. Suggested remediation: Try again with different `batch_initial_conditions`, or don't provide `batch_initial_conditions.`\n",
      "  warnings.warn(first_warn_msg, RuntimeWarning)\n"
     ]
    },
    {
     "name": "stdout",
     "output_type": "stream",
     "text": [
      "3\n",
      "4\n",
      "5\n"
     ]
    },
    {
     "name": "stderr",
     "output_type": "stream",
     "text": [
      "/usr/share/miniconda/envs/xopt-dev/lib/python3.9/site-packages/botorch/optim/optimize.py:287: RuntimeWarning: Optimization failed in `gen_candidates_scipy` with the following warning(s):\n",
      "[OptimizationWarning('Optimization failed within `scipy.optimize.minimize` with status 2.')]\n",
      "Because you specified `batch_initial_conditions`, optimization will not be retried with new initial conditions and will proceed with the current solution. Suggested remediation: Try again with different `batch_initial_conditions`, or don't provide `batch_initial_conditions.`\n",
      "  warnings.warn(first_warn_msg, RuntimeWarning)\n"
     ]
    },
    {
     "name": "stdout",
     "output_type": "stream",
     "text": [
      "6\n",
      "7\n",
      "8\n",
      "9\n",
      "10\n"
     ]
    },
    {
     "name": "stderr",
     "output_type": "stream",
     "text": [
      "/usr/share/miniconda/envs/xopt-dev/lib/python3.9/site-packages/botorch/optim/optimize.py:287: RuntimeWarning: Optimization failed in `gen_candidates_scipy` with the following warning(s):\n",
      "[OptimizationWarning('Optimization failed within `scipy.optimize.minimize` with status 2.')]\n",
      "Because you specified `batch_initial_conditions`, optimization will not be retried with new initial conditions and will proceed with the current solution. Suggested remediation: Try again with different `batch_initial_conditions`, or don't provide `batch_initial_conditions.`\n",
      "  warnings.warn(first_warn_msg, RuntimeWarning)\n"
     ]
    },
    {
     "name": "stdout",
     "output_type": "stream",
     "text": [
      "11\n",
      "12\n",
      "13\n",
      "14\n",
      "15\n",
      "16\n",
      "17\n",
      "18\n",
      "19\n",
      "20\n",
      "21\n",
      "22\n",
      "23\n",
      "24\n",
      "25\n",
      "26\n",
      "27\n",
      "28\n",
      "29\n"
     ]
    }
   ],
   "source": [
    "options = MOBOGenerator.default_options()\n",
    "options.n_initial = (2,)\n",
    "options.optim.num_restarts = 1\n",
    "options.optim.raw_samples = 50\n",
    "options.acq.proximal_lengthscales = [1.0, 1.0]\n",
    "options.model.use_low_noise_prior = True\n",
    "print(options)\n",
    "generator = MOBOGenerator(tnk_vocs, options)\n",
    "\n",
    "X = Xopt(generator=generator, evaluator=evaluator, vocs=tnk_vocs)\n",
    "X.submit_data(pd.DataFrame({\"x1\":[1.0, 0.75],\"x2\":[0.75, 1.0]}))\n",
    "for i in range(30):\n",
    "    print(i)\n",
    "    X.step()"
   ]
  },
  {
   "cell_type": "code",
   "execution_count": 3,
   "metadata": {
    "collapsed": false,
    "execution": {
     "iopub.execute_input": "2022-08-16T19:13:16.555560Z",
     "iopub.status.busy": "2022-08-16T19:13:16.554755Z",
     "iopub.status.idle": "2022-08-16T19:13:16.594106Z",
     "shell.execute_reply": "2022-08-16T19:13:16.593499Z"
    },
    "pycharm": {
     "name": "#%%\n"
    }
   },
   "outputs": [
    {
     "data": {
      "text/html": [
       "<div>\n",
       "<style scoped>\n",
       "    .dataframe tbody tr th:only-of-type {\n",
       "        vertical-align: middle;\n",
       "    }\n",
       "\n",
       "    .dataframe tbody tr th {\n",
       "        vertical-align: top;\n",
       "    }\n",
       "\n",
       "    .dataframe thead th {\n",
       "        text-align: right;\n",
       "    }\n",
       "</style>\n",
       "<table border=\"1\" class=\"dataframe\">\n",
       "  <thead>\n",
       "    <tr style=\"text-align: right;\">\n",
       "      <th></th>\n",
       "      <th>x1</th>\n",
       "      <th>x2</th>\n",
       "      <th>y1</th>\n",
       "      <th>y2</th>\n",
       "      <th>c1</th>\n",
       "      <th>c2</th>\n",
       "      <th>some_array</th>\n",
       "      <th>xopt_error</th>\n",
       "      <th>xopt_error_str</th>\n",
       "      <th>a</th>\n",
       "    </tr>\n",
       "  </thead>\n",
       "  <tbody>\n",
       "    <tr>\n",
       "      <th>1</th>\n",
       "      <td>1.000000</td>\n",
       "      <td>0.750000</td>\n",
       "      <td>1.000000</td>\n",
       "      <td>0.750000</td>\n",
       "      <td>0.626888</td>\n",
       "      <td>0.312500</td>\n",
       "      <td>[1, 2, 3]</td>\n",
       "      <td>False</td>\n",
       "      <td></td>\n",
       "      <td>NaN</td>\n",
       "    </tr>\n",
       "    <tr>\n",
       "      <th>2</th>\n",
       "      <td>0.750000</td>\n",
       "      <td>1.000000</td>\n",
       "      <td>0.750000</td>\n",
       "      <td>1.000000</td>\n",
       "      <td>0.626888</td>\n",
       "      <td>0.312500</td>\n",
       "      <td>[1, 2, 3]</td>\n",
       "      <td>False</td>\n",
       "      <td></td>\n",
       "      <td>NaN</td>\n",
       "    </tr>\n",
       "    <tr>\n",
       "      <th>3</th>\n",
       "      <td>1.736690</td>\n",
       "      <td>1.182504</td>\n",
       "      <td>1.736690</td>\n",
       "      <td>1.182504</td>\n",
       "      <td>3.513434</td>\n",
       "      <td>1.995216</td>\n",
       "      <td>[1, 2, 3]</td>\n",
       "      <td>False</td>\n",
       "      <td></td>\n",
       "      <td>dummy_constant</td>\n",
       "    </tr>\n",
       "    <tr>\n",
       "      <th>4</th>\n",
       "      <td>0.636740</td>\n",
       "      <td>0.494234</td>\n",
       "      <td>0.636740</td>\n",
       "      <td>0.494234</td>\n",
       "      <td>-0.308183</td>\n",
       "      <td>0.018731</td>\n",
       "      <td>[1, 2, 3]</td>\n",
       "      <td>False</td>\n",
       "      <td></td>\n",
       "      <td>dummy_constant</td>\n",
       "    </tr>\n",
       "    <tr>\n",
       "      <th>5</th>\n",
       "      <td>0.853106</td>\n",
       "      <td>0.587243</td>\n",
       "      <td>0.853106</td>\n",
       "      <td>0.587243</td>\n",
       "      <td>0.170210</td>\n",
       "      <td>0.132296</td>\n",
       "      <td>[1, 2, 3]</td>\n",
       "      <td>False</td>\n",
       "      <td></td>\n",
       "      <td>dummy_constant</td>\n",
       "    </tr>\n",
       "    <tr>\n",
       "      <th>6</th>\n",
       "      <td>1.046864</td>\n",
       "      <td>0.259579</td>\n",
       "      <td>1.046864</td>\n",
       "      <td>0.259579</td>\n",
       "      <td>0.236657</td>\n",
       "      <td>0.356862</td>\n",
       "      <td>[1, 2, 3]</td>\n",
       "      <td>False</td>\n",
       "      <td></td>\n",
       "      <td>dummy_constant</td>\n",
       "    </tr>\n",
       "    <tr>\n",
       "      <th>7</th>\n",
       "      <td>1.008831</td>\n",
       "      <td>0.074213</td>\n",
       "      <td>1.008831</td>\n",
       "      <td>0.074213</td>\n",
       "      <td>-0.015316</td>\n",
       "      <td>0.440203</td>\n",
       "      <td>[1, 2, 3]</td>\n",
       "      <td>False</td>\n",
       "      <td></td>\n",
       "      <td>dummy_constant</td>\n",
       "    </tr>\n",
       "    <tr>\n",
       "      <th>8</th>\n",
       "      <td>0.576333</td>\n",
       "      <td>0.829094</td>\n",
       "      <td>0.576333</td>\n",
       "      <td>0.829094</td>\n",
       "      <td>0.115252</td>\n",
       "      <td>0.114130</td>\n",
       "      <td>[1, 2, 3]</td>\n",
       "      <td>False</td>\n",
       "      <td></td>\n",
       "      <td>dummy_constant</td>\n",
       "    </tr>\n",
       "    <tr>\n",
       "      <th>9</th>\n",
       "      <td>1.040136</td>\n",
       "      <td>0.062415</td>\n",
       "      <td>1.040136</td>\n",
       "      <td>0.062415</td>\n",
       "      <td>0.028341</td>\n",
       "      <td>0.483227</td>\n",
       "      <td>[1, 2, 3]</td>\n",
       "      <td>False</td>\n",
       "      <td></td>\n",
       "      <td>dummy_constant</td>\n",
       "    </tr>\n",
       "    <tr>\n",
       "      <th>10</th>\n",
       "      <td>0.280019</td>\n",
       "      <td>0.963533</td>\n",
       "      <td>0.280019</td>\n",
       "      <td>0.963533</td>\n",
       "      <td>0.025414</td>\n",
       "      <td>0.263255</td>\n",
       "      <td>[1, 2, 3]</td>\n",
       "      <td>False</td>\n",
       "      <td></td>\n",
       "      <td>dummy_constant</td>\n",
       "    </tr>\n",
       "    <tr>\n",
       "      <th>11</th>\n",
       "      <td>0.915557</td>\n",
       "      <td>0.330786</td>\n",
       "      <td>0.915557</td>\n",
       "      <td>0.330786</td>\n",
       "      <td>-0.126454</td>\n",
       "      <td>0.201321</td>\n",
       "      <td>[1, 2, 3]</td>\n",
       "      <td>False</td>\n",
       "      <td></td>\n",
       "      <td>dummy_constant</td>\n",
       "    </tr>\n",
       "    <tr>\n",
       "      <th>12</th>\n",
       "      <td>0.693450</td>\n",
       "      <td>0.692811</td>\n",
       "      <td>0.693450</td>\n",
       "      <td>0.692811</td>\n",
       "      <td>-0.139138</td>\n",
       "      <td>0.074599</td>\n",
       "      <td>[1, 2, 3]</td>\n",
       "      <td>False</td>\n",
       "      <td></td>\n",
       "      <td>dummy_constant</td>\n",
       "    </tr>\n",
       "    <tr>\n",
       "      <th>13</th>\n",
       "      <td>0.053468</td>\n",
       "      <td>0.998110</td>\n",
       "      <td>0.053468</td>\n",
       "      <td>0.998110</td>\n",
       "      <td>-0.066442</td>\n",
       "      <td>0.447505</td>\n",
       "      <td>[1, 2, 3]</td>\n",
       "      <td>False</td>\n",
       "      <td></td>\n",
       "      <td>dummy_constant</td>\n",
       "    </tr>\n",
       "    <tr>\n",
       "      <th>14</th>\n",
       "      <td>0.178791</td>\n",
       "      <td>1.071511</td>\n",
       "      <td>0.178791</td>\n",
       "      <td>1.071511</td>\n",
       "      <td>0.268041</td>\n",
       "      <td>0.429800</td>\n",
       "      <td>[1, 2, 3]</td>\n",
       "      <td>False</td>\n",
       "      <td></td>\n",
       "      <td>dummy_constant</td>\n",
       "    </tr>\n",
       "    <tr>\n",
       "      <th>15</th>\n",
       "      <td>0.940145</td>\n",
       "      <td>0.399533</td>\n",
       "      <td>0.940145</td>\n",
       "      <td>0.399533</td>\n",
       "      <td>-0.055432</td>\n",
       "      <td>0.203821</td>\n",
       "      <td>[1, 2, 3]</td>\n",
       "      <td>False</td>\n",
       "      <td></td>\n",
       "      <td>dummy_constant</td>\n",
       "    </tr>\n",
       "    <tr>\n",
       "      <th>16</th>\n",
       "      <td>0.042937</td>\n",
       "      <td>1.027940</td>\n",
       "      <td>0.042937</td>\n",
       "      <td>1.027940</td>\n",
       "      <td>-0.020006</td>\n",
       "      <td>0.487627</td>\n",
       "      <td>[1, 2, 3]</td>\n",
       "      <td>False</td>\n",
       "      <td></td>\n",
       "      <td>dummy_constant</td>\n",
       "    </tr>\n",
       "    <tr>\n",
       "      <th>17</th>\n",
       "      <td>0.413158</td>\n",
       "      <td>0.886438</td>\n",
       "      <td>0.413158</td>\n",
       "      <td>0.886438</td>\n",
       "      <td>-0.120318</td>\n",
       "      <td>0.156876</td>\n",
       "      <td>[1, 2, 3]</td>\n",
       "      <td>False</td>\n",
       "      <td></td>\n",
       "      <td>dummy_constant</td>\n",
       "    </tr>\n",
       "    <tr>\n",
       "      <th>18</th>\n",
       "      <td>1.084183</td>\n",
       "      <td>0.124837</td>\n",
       "      <td>1.084183</td>\n",
       "      <td>0.124837</td>\n",
       "      <td>0.217075</td>\n",
       "      <td>0.482017</td>\n",
       "      <td>[1, 2, 3]</td>\n",
       "      <td>False</td>\n",
       "      <td></td>\n",
       "      <td>dummy_constant</td>\n",
       "    </tr>\n",
       "    <tr>\n",
       "      <th>19</th>\n",
       "      <td>0.732791</td>\n",
       "      <td>0.734118</td>\n",
       "      <td>0.732791</td>\n",
       "      <td>0.734118</td>\n",
       "      <td>-0.024079</td>\n",
       "      <td>0.109003</td>\n",
       "      <td>[1, 2, 3]</td>\n",
       "      <td>False</td>\n",
       "      <td></td>\n",
       "      <td>dummy_constant</td>\n",
       "    </tr>\n",
       "    <tr>\n",
       "      <th>20</th>\n",
       "      <td>0.462157</td>\n",
       "      <td>0.918805</td>\n",
       "      <td>0.462157</td>\n",
       "      <td>0.918805</td>\n",
       "      <td>0.019098</td>\n",
       "      <td>0.176830</td>\n",
       "      <td>[1, 2, 3]</td>\n",
       "      <td>False</td>\n",
       "      <td></td>\n",
       "      <td>dummy_constant</td>\n",
       "    </tr>\n",
       "    <tr>\n",
       "      <th>21</th>\n",
       "      <td>0.649748</td>\n",
       "      <td>0.797363</td>\n",
       "      <td>0.649748</td>\n",
       "      <td>0.797363</td>\n",
       "      <td>0.063525</td>\n",
       "      <td>0.110849</td>\n",
       "      <td>[1, 2, 3]</td>\n",
       "      <td>False</td>\n",
       "      <td></td>\n",
       "      <td>dummy_constant</td>\n",
       "    </tr>\n",
       "    <tr>\n",
       "      <th>22</th>\n",
       "      <td>0.218685</td>\n",
       "      <td>1.005874</td>\n",
       "      <td>0.218685</td>\n",
       "      <td>1.005874</td>\n",
       "      <td>0.155610</td>\n",
       "      <td>0.335046</td>\n",
       "      <td>[1, 2, 3]</td>\n",
       "      <td>False</td>\n",
       "      <td></td>\n",
       "      <td>dummy_constant</td>\n",
       "    </tr>\n",
       "    <tr>\n",
       "      <th>23</th>\n",
       "      <td>0.061396</td>\n",
       "      <td>1.043879</td>\n",
       "      <td>0.061396</td>\n",
       "      <td>1.043879</td>\n",
       "      <td>0.034470</td>\n",
       "      <td>0.488178</td>\n",
       "      <td>[1, 2, 3]</td>\n",
       "      <td>False</td>\n",
       "      <td></td>\n",
       "      <td>dummy_constant</td>\n",
       "    </tr>\n",
       "    <tr>\n",
       "      <th>24</th>\n",
       "      <td>0.797295</td>\n",
       "      <td>0.609451</td>\n",
       "      <td>0.797295</td>\n",
       "      <td>0.609451</td>\n",
       "      <td>0.059646</td>\n",
       "      <td>0.100364</td>\n",
       "      <td>[1, 2, 3]</td>\n",
       "      <td>False</td>\n",
       "      <td></td>\n",
       "      <td>dummy_constant</td>\n",
       "    </tr>\n",
       "    <tr>\n",
       "      <th>25</th>\n",
       "      <td>0.070888</td>\n",
       "      <td>0.000000</td>\n",
       "      <td>0.070888</td>\n",
       "      <td>0.000000</td>\n",
       "      <td>-1.094975</td>\n",
       "      <td>0.434137</td>\n",
       "      <td>[1, 2, 3]</td>\n",
       "      <td>False</td>\n",
       "      <td></td>\n",
       "      <td>dummy_constant</td>\n",
       "    </tr>\n",
       "    <tr>\n",
       "      <th>26</th>\n",
       "      <td>0.179825</td>\n",
       "      <td>0.940650</td>\n",
       "      <td>0.179825</td>\n",
       "      <td>0.940650</td>\n",
       "      <td>0.016448</td>\n",
       "      <td>0.296684</td>\n",
       "      <td>[1, 2, 3]</td>\n",
       "      <td>False</td>\n",
       "      <td></td>\n",
       "      <td>dummy_constant</td>\n",
       "    </tr>\n",
       "    <tr>\n",
       "      <th>27</th>\n",
       "      <td>0.521097</td>\n",
       "      <td>0.842663</td>\n",
       "      <td>0.521097</td>\n",
       "      <td>0.842663</td>\n",
       "      <td>0.066166</td>\n",
       "      <td>0.117863</td>\n",
       "      <td>[1, 2, 3]</td>\n",
       "      <td>False</td>\n",
       "      <td></td>\n",
       "      <td>dummy_constant</td>\n",
       "    </tr>\n",
       "    <tr>\n",
       "      <th>28</th>\n",
       "      <td>0.888068</td>\n",
       "      <td>0.498046</td>\n",
       "      <td>0.888068</td>\n",
       "      <td>0.498046</td>\n",
       "      <td>0.068533</td>\n",
       "      <td>0.150601</td>\n",
       "      <td>[1, 2, 3]</td>\n",
       "      <td>False</td>\n",
       "      <td></td>\n",
       "      <td>dummy_constant</td>\n",
       "    </tr>\n",
       "    <tr>\n",
       "      <th>29</th>\n",
       "      <td>0.978020</td>\n",
       "      <td>0.237167</td>\n",
       "      <td>0.978020</td>\n",
       "      <td>0.237167</td>\n",
       "      <td>0.091471</td>\n",
       "      <td>0.297585</td>\n",
       "      <td>[1, 2, 3]</td>\n",
       "      <td>False</td>\n",
       "      <td></td>\n",
       "      <td>dummy_constant</td>\n",
       "    </tr>\n",
       "    <tr>\n",
       "      <th>30</th>\n",
       "      <td>0.754114</td>\n",
       "      <td>0.673790</td>\n",
       "      <td>0.754114</td>\n",
       "      <td>0.673790</td>\n",
       "      <td>-0.039551</td>\n",
       "      <td>0.094777</td>\n",
       "      <td>[1, 2, 3]</td>\n",
       "      <td>False</td>\n",
       "      <td></td>\n",
       "      <td>dummy_constant</td>\n",
       "    </tr>\n",
       "    <tr>\n",
       "      <th>31</th>\n",
       "      <td>0.352146</td>\n",
       "      <td>0.926712</td>\n",
       "      <td>0.352146</td>\n",
       "      <td>0.926712</td>\n",
       "      <td>-0.106224</td>\n",
       "      <td>0.203944</td>\n",
       "      <td>[1, 2, 3]</td>\n",
       "      <td>False</td>\n",
       "      <td></td>\n",
       "      <td>dummy_constant</td>\n",
       "    </tr>\n",
       "    <tr>\n",
       "      <th>32</th>\n",
       "      <td>0.353641</td>\n",
       "      <td>0.189852</td>\n",
       "      <td>0.353641</td>\n",
       "      <td>0.189852</td>\n",
       "      <td>-0.835987</td>\n",
       "      <td>0.117613</td>\n",
       "      <td>[1, 2, 3]</td>\n",
       "      <td>False</td>\n",
       "      <td></td>\n",
       "      <td>dummy_constant</td>\n",
       "    </tr>\n",
       "  </tbody>\n",
       "</table>\n",
       "</div>"
      ],
      "text/plain": [
       "          x1        x2        y1        y2        c1        c2 some_array  \\\n",
       "1   1.000000  0.750000  1.000000  0.750000  0.626888  0.312500  [1, 2, 3]   \n",
       "2   0.750000  1.000000  0.750000  1.000000  0.626888  0.312500  [1, 2, 3]   \n",
       "3   1.736690  1.182504  1.736690  1.182504  3.513434  1.995216  [1, 2, 3]   \n",
       "4   0.636740  0.494234  0.636740  0.494234 -0.308183  0.018731  [1, 2, 3]   \n",
       "5   0.853106  0.587243  0.853106  0.587243  0.170210  0.132296  [1, 2, 3]   \n",
       "6   1.046864  0.259579  1.046864  0.259579  0.236657  0.356862  [1, 2, 3]   \n",
       "7   1.008831  0.074213  1.008831  0.074213 -0.015316  0.440203  [1, 2, 3]   \n",
       "8   0.576333  0.829094  0.576333  0.829094  0.115252  0.114130  [1, 2, 3]   \n",
       "9   1.040136  0.062415  1.040136  0.062415  0.028341  0.483227  [1, 2, 3]   \n",
       "10  0.280019  0.963533  0.280019  0.963533  0.025414  0.263255  [1, 2, 3]   \n",
       "11  0.915557  0.330786  0.915557  0.330786 -0.126454  0.201321  [1, 2, 3]   \n",
       "12  0.693450  0.692811  0.693450  0.692811 -0.139138  0.074599  [1, 2, 3]   \n",
       "13  0.053468  0.998110  0.053468  0.998110 -0.066442  0.447505  [1, 2, 3]   \n",
       "14  0.178791  1.071511  0.178791  1.071511  0.268041  0.429800  [1, 2, 3]   \n",
       "15  0.940145  0.399533  0.940145  0.399533 -0.055432  0.203821  [1, 2, 3]   \n",
       "16  0.042937  1.027940  0.042937  1.027940 -0.020006  0.487627  [1, 2, 3]   \n",
       "17  0.413158  0.886438  0.413158  0.886438 -0.120318  0.156876  [1, 2, 3]   \n",
       "18  1.084183  0.124837  1.084183  0.124837  0.217075  0.482017  [1, 2, 3]   \n",
       "19  0.732791  0.734118  0.732791  0.734118 -0.024079  0.109003  [1, 2, 3]   \n",
       "20  0.462157  0.918805  0.462157  0.918805  0.019098  0.176830  [1, 2, 3]   \n",
       "21  0.649748  0.797363  0.649748  0.797363  0.063525  0.110849  [1, 2, 3]   \n",
       "22  0.218685  1.005874  0.218685  1.005874  0.155610  0.335046  [1, 2, 3]   \n",
       "23  0.061396  1.043879  0.061396  1.043879  0.034470  0.488178  [1, 2, 3]   \n",
       "24  0.797295  0.609451  0.797295  0.609451  0.059646  0.100364  [1, 2, 3]   \n",
       "25  0.070888  0.000000  0.070888  0.000000 -1.094975  0.434137  [1, 2, 3]   \n",
       "26  0.179825  0.940650  0.179825  0.940650  0.016448  0.296684  [1, 2, 3]   \n",
       "27  0.521097  0.842663  0.521097  0.842663  0.066166  0.117863  [1, 2, 3]   \n",
       "28  0.888068  0.498046  0.888068  0.498046  0.068533  0.150601  [1, 2, 3]   \n",
       "29  0.978020  0.237167  0.978020  0.237167  0.091471  0.297585  [1, 2, 3]   \n",
       "30  0.754114  0.673790  0.754114  0.673790 -0.039551  0.094777  [1, 2, 3]   \n",
       "31  0.352146  0.926712  0.352146  0.926712 -0.106224  0.203944  [1, 2, 3]   \n",
       "32  0.353641  0.189852  0.353641  0.189852 -0.835987  0.117613  [1, 2, 3]   \n",
       "\n",
       "    xopt_error xopt_error_str               a  \n",
       "1        False                            NaN  \n",
       "2        False                            NaN  \n",
       "3        False                 dummy_constant  \n",
       "4        False                 dummy_constant  \n",
       "5        False                 dummy_constant  \n",
       "6        False                 dummy_constant  \n",
       "7        False                 dummy_constant  \n",
       "8        False                 dummy_constant  \n",
       "9        False                 dummy_constant  \n",
       "10       False                 dummy_constant  \n",
       "11       False                 dummy_constant  \n",
       "12       False                 dummy_constant  \n",
       "13       False                 dummy_constant  \n",
       "14       False                 dummy_constant  \n",
       "15       False                 dummy_constant  \n",
       "16       False                 dummy_constant  \n",
       "17       False                 dummy_constant  \n",
       "18       False                 dummy_constant  \n",
       "19       False                 dummy_constant  \n",
       "20       False                 dummy_constant  \n",
       "21       False                 dummy_constant  \n",
       "22       False                 dummy_constant  \n",
       "23       False                 dummy_constant  \n",
       "24       False                 dummy_constant  \n",
       "25       False                 dummy_constant  \n",
       "26       False                 dummy_constant  \n",
       "27       False                 dummy_constant  \n",
       "28       False                 dummy_constant  \n",
       "29       False                 dummy_constant  \n",
       "30       False                 dummy_constant  \n",
       "31       False                 dummy_constant  \n",
       "32       False                 dummy_constant  "
      ]
     },
     "execution_count": 3,
     "metadata": {},
     "output_type": "execute_result"
    }
   ],
   "source": [
    "X.generator.data"
   ]
  },
  {
   "cell_type": "markdown",
   "metadata": {
    "collapsed": false,
    "pycharm": {
     "name": "#%% md\n"
    }
   },
   "source": [
    "## plot results\n"
   ]
  },
  {
   "cell_type": "code",
   "execution_count": 4,
   "metadata": {
    "collapsed": false,
    "execution": {
     "iopub.execute_input": "2022-08-16T19:13:16.598373Z",
     "iopub.status.busy": "2022-08-16T19:13:16.597860Z",
     "iopub.status.idle": "2022-08-16T19:13:17.525590Z",
     "shell.execute_reply": "2022-08-16T19:13:17.524628Z"
    },
    "pycharm": {
     "name": "#%%\n"
    }
   },
   "outputs": [
    {
     "data": {
      "image/png": "[encoded data removed]",
      "text/plain": [
       "<Figure size 432x288 with 1 Axes>"
      ]
     },
     "metadata": {
      "needs_background": "light"
     },
     "output_type": "display_data"
    }
   ],
   "source": [
    "import matplotlib.pyplot as plt\n",
    "\n",
    "fig, ax = plt.subplots()\n",
    "\n",
    "theta = np.linspace(0, np.pi / 2)\n",
    "r = np.sqrt(1 + 0.1 * np.cos(16 * theta))\n",
    "x_1 = r * np.sin(theta)\n",
    "x_2_lower = r * np.cos(theta)\n",
    "x_2_upper = (0.5 - (x_1 - 0.5) ** 2) ** 0.5 + 0.5\n",
    "\n",
    "z = np.zeros_like(x_1)\n",
    "\n",
    "# ax2.plot(x_1, x_2_lower,'r')\n",
    "ax.fill_between(x_1, z, x_2_lower, fc=\"white\")\n",
    "circle = plt.Circle(\n",
    "    (0.5, 0.5), 0.5 ** 0.5, color=\"r\", alpha=0.25, zorder=0, label=\"Valid Region\"\n",
    ")\n",
    "ax.add_patch(circle)\n",
    "history = pd.concat(\n",
    "    [X.data, tnk_vocs.feasibility_data(X.data)], axis=1, ignore_index=False\n",
    ")\n",
    "\n",
    "\n",
    "ax.plot(*history[[\"x1\", \"x2\"]][history[\"feasible\"]].to_numpy().T, \".C1\")\n",
    "ax.plot(*history[[\"x1\", \"x2\"]][~history[\"feasible\"]].to_numpy().T, \".C2\")\n",
    "\n",
    "ax.set_xlim(0, 3.14)\n",
    "ax.set_ylim(0, 3.14)\n",
    "ax.set_xlabel(\"x1\")\n",
    "ax.set_ylabel(\"x2\")\n",
    "ax.set_aspect(\"equal\")"
   ]
  },
  {
   "cell_type": "markdown",
   "metadata": {
    "collapsed": false,
    "pycharm": {
     "name": "#%% md\n"
    }
   },
   "source": [
    "### Plot path through input space"
   ]
  },
  {
   "cell_type": "code",
   "execution_count": 5,
   "metadata": {
    "collapsed": false,
    "execution": {
     "iopub.execute_input": "2022-08-16T19:13:17.529937Z",
     "iopub.status.busy": "2022-08-16T19:13:17.529383Z",
     "iopub.status.idle": "2022-08-16T19:13:17.685854Z",
     "shell.execute_reply": "2022-08-16T19:13:17.685001Z"
    },
    "pycharm": {
     "name": "#%%\n"
    }
   },
   "outputs": [
    {
     "data": {
      "image/png": "[encoded data removed]",
      "text/plain": [
       "<Figure size 432x288 with 1 Axes>"
      ]
     },
     "metadata": {
      "needs_background": "light"
     },
     "output_type": "display_data"
    }
   ],
   "source": [
    "ax = history.plot(\"x1\", \"x2\")\n",
    "ax.set_ylim(0, 3.14)\n",
    "ax.set_xlim(0, 3.14)\n",
    "ax.set_aspect(\"equal\")"
   ]
  },
  {
   "cell_type": "code",
   "execution_count": 6,
   "metadata": {
    "collapsed": false,
    "execution": {
     "iopub.execute_input": "2022-08-16T19:13:17.689863Z",
     "iopub.status.busy": "2022-08-16T19:13:17.689475Z",
     "iopub.status.idle": "2022-08-16T19:13:54.949397Z",
     "shell.execute_reply": "2022-08-16T19:13:54.947392Z"
    },
    "pycharm": {
     "name": "#%%\n"
    }
   },
   "outputs": [
    {
     "name": "stderr",
     "output_type": "stream",
     "text": [
      "/usr/share/miniconda/envs/xopt-dev/lib/python3.9/site-packages/torch/functional.py:478: UserWarning: torch.meshgrid: in an upcoming release, it will be required to pass the indexing argument. (Triggered internally at  /home/conda/feedstock_root/build_artifacts/pytorch-recipe_1660136119739/work/aten/src/ATen/native/TensorShape.cpp:2894.)\n",
      "  return _VF.meshgrid(tensors, **kwargs)  # type: ignore[attr-defined]\n"
     ]
    },
    {
     "name": "stdout",
     "output_type": "stream",
     "text": [
      "[[0.50732181 0.87599809]]\n"
     ]
    },
    {
     "name": "stderr",
     "output_type": "stream",
     "text": [
      "/usr/share/miniconda/envs/xopt-dev/lib/python3.9/site-packages/botorch/optim/optimize.py:287: RuntimeWarning: Optimization failed in `gen_candidates_scipy` with the following warning(s):\n",
      "[OptimizationWarning('Optimization failed within `scipy.optimize.minimize` with status 2.')]\n",
      "Because you specified `batch_initial_conditions`, optimization will not be retried with new initial conditions and will proceed with the current solution. Suggested remediation: Try again with different `batch_initial_conditions`, or don't provide `batch_initial_conditions.`\n",
      "  warnings.warn(first_warn_msg, RuntimeWarning)\n"
     ]
    },
    {
     "data": {
      "text/plain": [
       "[<matplotlib.lines.Line2D at 0x7f7c6073b820>]"
      ]
     },
     "execution_count": 6,
     "metadata": {},
     "output_type": "execute_result"
    },
    {
     "data": {
      "image/png": "[encoded data removed]",
      "text/plain": [
       "<Figure size 432x288 with 2 Axes>"
      ]
     },
     "metadata": {
      "needs_background": "light"
     },
     "output_type": "display_data"
    },
    {
     "data": {
      "image/png": "[encoded data removed]",
      "text/plain": [
       "<Figure size 432x288 with 2 Axes>"
      ]
     },
     "metadata": {
      "needs_background": "light"
     },
     "output_type": "display_data"
    }
   ],
   "source": [
    "# plot the acquisition function\n",
    "from xopt.generators.bayesian.utils import feasibility\n",
    "\n",
    "bounds = generator.vocs.bounds\n",
    "model = generator.model\n",
    "\n",
    "# create mesh\n",
    "n = 200\n",
    "x = torch.linspace(*bounds.T[0], n)\n",
    "y = torch.linspace(*bounds.T[1], n)\n",
    "xx, yy = torch.meshgrid(x, y)\n",
    "pts = torch.hstack([ele.reshape(-1, 1) for ele in (xx, yy)]).double()\n",
    "\n",
    "acq_func = generator.get_acquisition(model)\n",
    "with torch.no_grad():\n",
    "    acq_pts = pts.unsqueeze(1)\n",
    "    acq = acq_func(acq_pts)\n",
    "\n",
    "    fig, ax = plt.subplots()\n",
    "    c = ax.pcolor(xx, yy, acq.reshape(n, n), cmap=\"Blues\")\n",
    "    fig.colorbar(c)\n",
    "    ax.set_title(\"Acquisition function\")\n",
    "\n",
    "    ax.plot(*history[[\"x1\", \"x2\"]][history[\"feasible\"]].to_numpy().T, \".C1\")\n",
    "    ax.plot(*history[[\"x1\", \"x2\"]][~history[\"feasible\"]].to_numpy().T, \".C2\")\n",
    "\n",
    "    ax.plot(*history[[\"x1\", \"x2\"]].to_numpy()[-1].T, \"+\")\n",
    "\n",
    "    feas = feasibility(pts.unsqueeze(1), model, generator.sampler, tnk_vocs).flatten()\n",
    "\n",
    "    fig2, ax2 = plt.subplots()\n",
    "    c = ax2.pcolor(xx, yy, feas.reshape(n, n))\n",
    "    fig2.colorbar(c)\n",
    "    ax2.set_title(\"Feasible Region\")\n",
    "\n",
    "candidate = generator.generate(1)\n",
    "print(candidate[[\"x1\", \"x2\"]].to_numpy())\n",
    "ax.plot(*candidate[[\"x1\", \"x2\"]].to_numpy()[0], \"o\")"
   ]
  },
  {
   "cell_type": "code",
   "execution_count": 7,
   "metadata": {
    "collapsed": false,
    "execution": {
     "iopub.execute_input": "2022-08-16T19:13:54.987397Z",
     "iopub.status.busy": "2022-08-16T19:13:54.985404Z",
     "iopub.status.idle": "2022-08-16T19:13:57.887432Z",
     "shell.execute_reply": "2022-08-16T19:13:57.886679Z"
    },
    "pycharm": {
     "name": "#%%\n"
    }
   },
   "outputs": [
    {
     "name": "stdout",
     "output_type": "stream",
     "text": [
      "CPU times: user 5.59 s, sys: 155 ms, total: 5.75 s\n",
      "Wall time: 2.89 s\n"
     ]
    }
   ],
   "source": [
    "%%time\n",
    "candidate = generator.generate(1)"
   ]
  }
 ],
 "metadata": {
  "interpreter": {
   "hash": "72034539424920dfb606fe3b820b3f27dca0cbf1c69938110810ec4641e275b1"
  },
  "kernelspec": {
   "display_name": "Python 3 (ipykernel)",
   "language": "python",
   "name": "python3"
  },
  "language_info": {
   "codemirror_mode": {
    "name": "ipython",
    "version": 3
   },
   "file_extension": ".py",
   "mimetype": "text/x-python",
   "name": "python",
   "nbconvert_exporter": "python",
   "pygments_lexer": "ipython3",
   "version": "3.9.13"
  }
 },
 "nbformat": 4,
 "nbformat_minor": 4
}
