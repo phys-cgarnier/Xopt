{
 "cells": [
  {
   "cell_type": "markdown",
   "metadata": {
    "pycharm": {
     "name": "#%% md\n"
    }
   },
   "source": [
    "\n",
    "# Multi-objective Bayesian Optimization\n",
    "\n",
    "\n",
    "TNK function\n",
    "$n=2$ variables:\n",
    "$x_i \\in [0, \\pi], i=1,2$\n",
    "\n",
    "Objectives:\n",
    "- $f_i(x) = x_i$\n",
    "\n",
    "Constraints:\n",
    "- $g_1(x) = -x_1^2 -x_2^2 + 1 + 0.1 \\cos\\left(16 \\arctan \\frac{x_1}{x_2}\\right) \\le 0$\n",
    "- $g_2(x) = (x_1 - 1/2)^2 + (x_2-1/2)^2 \\le 0.5$"
   ]
  },
  {
   "cell_type": "code",
   "execution_count": 1,
   "metadata": {
    "collapsed": false,
    "execution": {
     "iopub.execute_input": "2022-08-15T00:15:05.580400Z",
     "iopub.status.busy": "2022-08-15T00:15:05.579714Z",
     "iopub.status.idle": "2022-08-15T00:15:07.320934Z",
     "shell.execute_reply": "2022-08-15T00:15:07.319719Z"
    },
    "pycharm": {
     "name": "#%%\n"
    }
   },
   "outputs": [
    {
     "name": "stdout",
     "output_type": "stream",
     "text": [
      "{'variables': {'x1': [0.0, 3.14159], 'x2': [0.0, 3.14159]}, 'constraints': {'c1': ['GREATER_THAN', 0.0], 'c2': ['LESS_THAN', 0.5]}, 'objectives': {'y1': 'MINIMIZE', 'y2': 'MINIMIZE'}, 'constants': {'a': 'dummy_constant'}, 'linked_variables': {}}\n"
     ]
    },
    {
     "name": "stderr",
     "output_type": "stream",
     "text": [
      "/tmp/ipykernel_3078/2587677992.py:13: DeprecationWarning: `copy_on_model_validation` should be a string: 'deep', 'shallow' or 'none'\n",
      "  evaluator = Evaluator(function=evaluate_TNK)\n"
     ]
    }
   ],
   "source": [
    "%reset -f\n",
    "from copy import deepcopy\n",
    "\n",
    "import pandas as pd\n",
    "import numpy as np\n",
    "import torch\n",
    "\n",
    "from xopt import Xopt, Evaluator\n",
    "from xopt.generators.bayesian import MOBOGenerator\n",
    "from xopt.resources.test_functions.tnk import evaluate_TNK, tnk_vocs\n",
    "\n",
    "\n",
    "evaluator = Evaluator(function=evaluate_TNK)\n",
    "print(tnk_vocs.dict())"
   ]
  },
  {
   "cell_type": "code",
   "execution_count": 2,
   "metadata": {
    "collapsed": false,
    "execution": {
     "iopub.execute_input": "2022-08-15T00:15:07.378850Z",
     "iopub.status.busy": "2022-08-15T00:15:07.377982Z",
     "iopub.status.idle": "2022-08-15T00:16:53.680644Z",
     "shell.execute_reply": "2022-08-15T00:16:53.679822Z"
    },
    "pycharm": {
     "name": "#%%\n"
    }
   },
   "outputs": [
    {
     "name": "stdout",
     "output_type": "stream",
     "text": [
      "optim=OptimOptions(num_restarts=1, raw_samples=50, sequential=True, use_nearby_initial_points=True) acq=MOBOAcqOptions(proximal_lengthscales=[1.0, 1.0], use_transformed_proximal_weights=True, monte_carlo_samples=128, ref_point=None, use_data_as_reference=True) model=ModelOptions(use_conservative_prior_lengthscale=False, use_conservative_prior_mean=False, use_low_noise_prior=True) n_initial=(2,)\n",
      "0\n"
     ]
    },
    {
     "name": "stderr",
     "output_type": "stream",
     "text": [
      "/usr/share/miniconda/envs/xopt-dev/lib/python3.9/site-packages/gpytorch/lazy/lazy_tensor.py:1811: UserWarning: torch.triangular_solve is deprecated in favor of torch.linalg.solve_triangularand will be removed in a future PyTorch release.\n",
      "torch.linalg.solve_triangular has its arguments reversed and does not return a copy of one of the inputs.\n",
      "X = torch.triangular_solve(B, A).solution\n",
      "should be replaced with\n",
      "X = torch.linalg.solve_triangular(A, B). (Triggered internally at  /home/conda/feedstock_root/build_artifacts/pytorch-recipe_1660136119739/work/aten/src/ATen/native/BatchLinearAlgebra.cpp:2183.)\n",
      "  Linv = torch.triangular_solve(Eye, L, upper=False).solution\n"
     ]
    },
    {
     "name": "stdout",
     "output_type": "stream",
     "text": [
      "1\n",
      "2\n"
     ]
    },
    {
     "name": "stderr",
     "output_type": "stream",
     "text": [
      "/usr/share/miniconda/envs/xopt-dev/lib/python3.9/site-packages/botorch/optim/optimize.py:287: RuntimeWarning: Optimization failed in `gen_candidates_scipy` with the following warning(s):\n",
      "[OptimizationWarning('Optimization failed within `scipy.optimize.minimize` with status 2.'), OptimizationWarning('Optimization failed within `scipy.optimize.minimize` with status 2.')]\n",
      "Because you specified `batch_initial_conditions`, optimization will not be retried with new initial conditions and will proceed with the current solution. Suggested remediation: Try again with different `batch_initial_conditions`, or don't provide `batch_initial_conditions.`\n",
      "  warnings.warn(first_warn_msg, RuntimeWarning)\n"
     ]
    },
    {
     "name": "stdout",
     "output_type": "stream",
     "text": [
      "3\n",
      "4\n",
      "5\n",
      "6\n",
      "7\n",
      "8\n",
      "9\n",
      "10\n",
      "11\n",
      "12\n",
      "13\n",
      "14\n",
      "15\n",
      "16\n",
      "17\n",
      "18\n",
      "19\n",
      "20\n",
      "21\n",
      "22\n",
      "23\n",
      "24\n",
      "25\n",
      "26\n",
      "27\n",
      "28\n",
      "29\n"
     ]
    }
   ],
   "source": [
    "options = MOBOGenerator.default_options()\n",
    "options.n_initial = (2,)\n",
    "options.optim.num_restarts = 1\n",
    "options.optim.raw_samples = 50\n",
    "options.acq.proximal_lengthscales = [1.0, 1.0]\n",
    "options.model.use_low_noise_prior = True\n",
    "print(options)\n",
    "generator = MOBOGenerator(tnk_vocs, options)\n",
    "\n",
    "X = Xopt(generator=generator, evaluator=evaluator, vocs=tnk_vocs)\n",
    "X.submit_data(pd.DataFrame({\"x1\":[1.0, 0.75],\"x2\":[0.75, 1.0]}))\n",
    "for i in range(30):\n",
    "    print(i)\n",
    "    X.step()"
   ]
  },
  {
   "cell_type": "code",
   "execution_count": 3,
   "metadata": {
    "collapsed": false,
    "execution": {
     "iopub.execute_input": "2022-08-15T00:16:53.685168Z",
     "iopub.status.busy": "2022-08-15T00:16:53.684656Z",
     "iopub.status.idle": "2022-08-15T00:16:53.720172Z",
     "shell.execute_reply": "2022-08-15T00:16:53.719406Z"
    },
    "pycharm": {
     "name": "#%%\n"
    }
   },
   "outputs": [
    {
     "data": {
      "text/html": [
       "<div>\n",
       "<style scoped>\n",
       "    .dataframe tbody tr th:only-of-type {\n",
       "        vertical-align: middle;\n",
       "    }\n",
       "\n",
       "    .dataframe tbody tr th {\n",
       "        vertical-align: top;\n",
       "    }\n",
       "\n",
       "    .dataframe thead th {\n",
       "        text-align: right;\n",
       "    }\n",
       "</style>\n",
       "<table border=\"1\" class=\"dataframe\">\n",
       "  <thead>\n",
       "    <tr style=\"text-align: right;\">\n",
       "      <th></th>\n",
       "      <th>x1</th>\n",
       "      <th>x2</th>\n",
       "      <th>y1</th>\n",
       "      <th>y2</th>\n",
       "      <th>c1</th>\n",
       "      <th>c2</th>\n",
       "      <th>some_array</th>\n",
       "      <th>xopt_error</th>\n",
       "      <th>xopt_error_str</th>\n",
       "      <th>a</th>\n",
       "    </tr>\n",
       "  </thead>\n",
       "  <tbody>\n",
       "    <tr>\n",
       "      <th>1</th>\n",
       "      <td>1.000000</td>\n",
       "      <td>0.750000</td>\n",
       "      <td>1.000000</td>\n",
       "      <td>0.750000</td>\n",
       "      <td>0.626888</td>\n",
       "      <td>0.312500</td>\n",
       "      <td>[1, 2, 3]</td>\n",
       "      <td>False</td>\n",
       "      <td></td>\n",
       "      <td>NaN</td>\n",
       "    </tr>\n",
       "    <tr>\n",
       "      <th>2</th>\n",
       "      <td>0.750000</td>\n",
       "      <td>1.000000</td>\n",
       "      <td>0.750000</td>\n",
       "      <td>1.000000</td>\n",
       "      <td>0.626888</td>\n",
       "      <td>0.312500</td>\n",
       "      <td>[1, 2, 3]</td>\n",
       "      <td>False</td>\n",
       "      <td></td>\n",
       "      <td>NaN</td>\n",
       "    </tr>\n",
       "    <tr>\n",
       "      <th>3</th>\n",
       "      <td>1.422817</td>\n",
       "      <td>1.691032</td>\n",
       "      <td>1.422817</td>\n",
       "      <td>1.691032</td>\n",
       "      <td>3.864525</td>\n",
       "      <td>2.270150</td>\n",
       "      <td>[1, 2, 3]</td>\n",
       "      <td>False</td>\n",
       "      <td></td>\n",
       "      <td>dummy_constant</td>\n",
       "    </tr>\n",
       "    <tr>\n",
       "      <th>4</th>\n",
       "      <td>0.484372</td>\n",
       "      <td>0.556708</td>\n",
       "      <td>0.484372</td>\n",
       "      <td>0.556708</td>\n",
       "      <td>-0.499934</td>\n",
       "      <td>0.003460</td>\n",
       "      <td>[1, 2, 3]</td>\n",
       "      <td>False</td>\n",
       "      <td></td>\n",
       "      <td>dummy_constant</td>\n",
       "    </tr>\n",
       "    <tr>\n",
       "      <th>5</th>\n",
       "      <td>0.586050</td>\n",
       "      <td>0.866503</td>\n",
       "      <td>0.586050</td>\n",
       "      <td>0.866503</td>\n",
       "      <td>0.193878</td>\n",
       "      <td>0.141729</td>\n",
       "      <td>[1, 2, 3]</td>\n",
       "      <td>False</td>\n",
       "      <td></td>\n",
       "      <td>dummy_constant</td>\n",
       "    </tr>\n",
       "    <tr>\n",
       "      <th>6</th>\n",
       "      <td>0.896911</td>\n",
       "      <td>0.565519</td>\n",
       "      <td>0.896911</td>\n",
       "      <td>0.565519</td>\n",
       "      <td>0.215412</td>\n",
       "      <td>0.161831</td>\n",
       "      <td>[1, 2, 3]</td>\n",
       "      <td>False</td>\n",
       "      <td></td>\n",
       "      <td>dummy_constant</td>\n",
       "    </tr>\n",
       "    <tr>\n",
       "      <th>7</th>\n",
       "      <td>0.278952</td>\n",
       "      <td>1.004283</td>\n",
       "      <td>0.278952</td>\n",
       "      <td>1.004283</td>\n",
       "      <td>0.123255</td>\n",
       "      <td>0.303163</td>\n",
       "      <td>[1, 2, 3]</td>\n",
       "      <td>False</td>\n",
       "      <td></td>\n",
       "      <td>dummy_constant</td>\n",
       "    </tr>\n",
       "    <tr>\n",
       "      <th>8</th>\n",
       "      <td>1.020984</td>\n",
       "      <td>0.300257</td>\n",
       "      <td>1.020984</td>\n",
       "      <td>0.300257</td>\n",
       "      <td>0.146123</td>\n",
       "      <td>0.311321</td>\n",
       "      <td>[1, 2, 3]</td>\n",
       "      <td>False</td>\n",
       "      <td></td>\n",
       "      <td>dummy_constant</td>\n",
       "    </tr>\n",
       "    <tr>\n",
       "      <th>9</th>\n",
       "      <td>1.080850</td>\n",
       "      <td>0.112526</td>\n",
       "      <td>1.080850</td>\n",
       "      <td>0.112526</td>\n",
       "      <td>0.189784</td>\n",
       "      <td>0.487523</td>\n",
       "      <td>[1, 2, 3]</td>\n",
       "      <td>False</td>\n",
       "      <td></td>\n",
       "      <td>dummy_constant</td>\n",
       "    </tr>\n",
       "    <tr>\n",
       "      <th>10</th>\n",
       "      <td>0.709268</td>\n",
       "      <td>0.661475</td>\n",
       "      <td>0.709268</td>\n",
       "      <td>0.661475</td>\n",
       "      <td>-0.144240</td>\n",
       "      <td>0.069867</td>\n",
       "      <td>[1, 2, 3]</td>\n",
       "      <td>False</td>\n",
       "      <td></td>\n",
       "      <td>dummy_constant</td>\n",
       "    </tr>\n",
       "    <tr>\n",
       "      <th>11</th>\n",
       "      <td>0.108994</td>\n",
       "      <td>1.065805</td>\n",
       "      <td>0.108994</td>\n",
       "      <td>1.065805</td>\n",
       "      <td>0.153794</td>\n",
       "      <td>0.473022</td>\n",
       "      <td>[1, 2, 3]</td>\n",
       "      <td>False</td>\n",
       "      <td></td>\n",
       "      <td>dummy_constant</td>\n",
       "    </tr>\n",
       "    <tr>\n",
       "      <th>12</th>\n",
       "      <td>0.042484</td>\n",
       "      <td>0.988839</td>\n",
       "      <td>0.042484</td>\n",
       "      <td>0.988839</td>\n",
       "      <td>-0.097708</td>\n",
       "      <td>0.448285</td>\n",
       "      <td>[1, 2, 3]</td>\n",
       "      <td>False</td>\n",
       "      <td></td>\n",
       "      <td>dummy_constant</td>\n",
       "    </tr>\n",
       "    <tr>\n",
       "      <th>13</th>\n",
       "      <td>0.748843</td>\n",
       "      <td>0.687570</td>\n",
       "      <td>0.748843</td>\n",
       "      <td>0.687570</td>\n",
       "      <td>-0.044106</td>\n",
       "      <td>0.097105</td>\n",
       "      <td>[1, 2, 3]</td>\n",
       "      <td>False</td>\n",
       "      <td></td>\n",
       "      <td>dummy_constant</td>\n",
       "    </tr>\n",
       "    <tr>\n",
       "      <th>14</th>\n",
       "      <td>1.010649</td>\n",
       "      <td>0.093862</td>\n",
       "      <td>1.010649</td>\n",
       "      <td>0.093862</td>\n",
       "      <td>0.021325</td>\n",
       "      <td>0.425710</td>\n",
       "      <td>[1, 2, 3]</td>\n",
       "      <td>False</td>\n",
       "      <td></td>\n",
       "      <td>dummy_constant</td>\n",
       "    </tr>\n",
       "    <tr>\n",
       "      <th>15</th>\n",
       "      <td>0.383363</td>\n",
       "      <td>0.914383</td>\n",
       "      <td>0.383363</td>\n",
       "      <td>0.914383</td>\n",
       "      <td>-0.116700</td>\n",
       "      <td>0.185317</td>\n",
       "      <td>[1, 2, 3]</td>\n",
       "      <td>False</td>\n",
       "      <td></td>\n",
       "      <td>dummy_constant</td>\n",
       "    </tr>\n",
       "    <tr>\n",
       "      <th>16</th>\n",
       "      <td>0.422063</td>\n",
       "      <td>0.926889</td>\n",
       "      <td>0.422063</td>\n",
       "      <td>0.926889</td>\n",
       "      <td>-0.047804</td>\n",
       "      <td>0.188308</td>\n",
       "      <td>[1, 2, 3]</td>\n",
       "      <td>False</td>\n",
       "      <td></td>\n",
       "      <td>dummy_constant</td>\n",
       "    </tr>\n",
       "    <tr>\n",
       "      <th>17</th>\n",
       "      <td>0.932955</td>\n",
       "      <td>0.323860</td>\n",
       "      <td>0.932955</td>\n",
       "      <td>0.323860</td>\n",
       "      <td>-0.083908</td>\n",
       "      <td>0.218475</td>\n",
       "      <td>[1, 2, 3]</td>\n",
       "      <td>False</td>\n",
       "      <td></td>\n",
       "      <td>dummy_constant</td>\n",
       "    </tr>\n",
       "    <tr>\n",
       "      <th>18</th>\n",
       "      <td>0.935512</td>\n",
       "      <td>0.380259</td>\n",
       "      <td>0.935512</td>\n",
       "      <td>0.380259</td>\n",
       "      <td>-0.079658</td>\n",
       "      <td>0.204009</td>\n",
       "      <td>[1, 2, 3]</td>\n",
       "      <td>False</td>\n",
       "      <td></td>\n",
       "      <td>dummy_constant</td>\n",
       "    </tr>\n",
       "    <tr>\n",
       "      <th>19</th>\n",
       "      <td>0.815583</td>\n",
       "      <td>0.644746</td>\n",
       "      <td>0.815583</td>\n",
       "      <td>0.644746</td>\n",
       "      <td>0.109706</td>\n",
       "      <td>0.120544</td>\n",
       "      <td>[1, 2, 3]</td>\n",
       "      <td>False</td>\n",
       "      <td></td>\n",
       "      <td>dummy_constant</td>\n",
       "    </tr>\n",
       "    <tr>\n",
       "      <th>20</th>\n",
       "      <td>0.669382</td>\n",
       "      <td>0.784232</td>\n",
       "      <td>0.669382</td>\n",
       "      <td>0.784232</td>\n",
       "      <td>0.032658</td>\n",
       "      <td>0.109478</td>\n",
       "      <td>[1, 2, 3]</td>\n",
       "      <td>False</td>\n",
       "      <td></td>\n",
       "      <td>dummy_constant</td>\n",
       "    </tr>\n",
       "    <tr>\n",
       "      <th>21</th>\n",
       "      <td>0.052248</td>\n",
       "      <td>1.041225</td>\n",
       "      <td>0.052248</td>\n",
       "      <td>1.041225</td>\n",
       "      <td>0.017366</td>\n",
       "      <td>0.493406</td>\n",
       "      <td>[1, 2, 3]</td>\n",
       "      <td>False</td>\n",
       "      <td></td>\n",
       "      <td>dummy_constant</td>\n",
       "    </tr>\n",
       "    <tr>\n",
       "      <th>22</th>\n",
       "      <td>0.093326</td>\n",
       "      <td>1.023539</td>\n",
       "      <td>0.093326</td>\n",
       "      <td>1.023539</td>\n",
       "      <td>0.044773</td>\n",
       "      <td>0.439477</td>\n",
       "      <td>[1, 2, 3]</td>\n",
       "      <td>False</td>\n",
       "      <td></td>\n",
       "      <td>dummy_constant</td>\n",
       "    </tr>\n",
       "    <tr>\n",
       "      <th>23</th>\n",
       "      <td>0.957540</td>\n",
       "      <td>1.190654</td>\n",
       "      <td>0.957540</td>\n",
       "      <td>1.190654</td>\n",
       "      <td>1.350343</td>\n",
       "      <td>0.686346</td>\n",
       "      <td>[1, 2, 3]</td>\n",
       "      <td>False</td>\n",
       "      <td></td>\n",
       "      <td>dummy_constant</td>\n",
       "    </tr>\n",
       "    <tr>\n",
       "      <th>24</th>\n",
       "      <td>0.029685</td>\n",
       "      <td>1.027058</td>\n",
       "      <td>0.029685</td>\n",
       "      <td>1.027058</td>\n",
       "      <td>-0.033773</td>\n",
       "      <td>0.498986</td>\n",
       "      <td>[1, 2, 3]</td>\n",
       "      <td>False</td>\n",
       "      <td></td>\n",
       "      <td>dummy_constant</td>\n",
       "    </tr>\n",
       "    <tr>\n",
       "      <th>25</th>\n",
       "      <td>0.000173</td>\n",
       "      <td>0.000000</td>\n",
       "      <td>0.000173</td>\n",
       "      <td>0.000000</td>\n",
       "      <td>-1.100000</td>\n",
       "      <td>0.499827</td>\n",
       "      <td>[1, 2, 3]</td>\n",
       "      <td>False</td>\n",
       "      <td></td>\n",
       "      <td>dummy_constant</td>\n",
       "    </tr>\n",
       "    <tr>\n",
       "      <th>26</th>\n",
       "      <td>0.973202</td>\n",
       "      <td>0.245736</td>\n",
       "      <td>0.973202</td>\n",
       "      <td>0.245736</td>\n",
       "      <td>0.076041</td>\n",
       "      <td>0.288570</td>\n",
       "      <td>[1, 2, 3]</td>\n",
       "      <td>False</td>\n",
       "      <td></td>\n",
       "      <td>dummy_constant</td>\n",
       "    </tr>\n",
       "    <tr>\n",
       "      <th>27</th>\n",
       "      <td>1.541874</td>\n",
       "      <td>0.556292</td>\n",
       "      <td>1.541874</td>\n",
       "      <td>0.556292</td>\n",
       "      <td>1.613201</td>\n",
       "      <td>1.088671</td>\n",
       "      <td>[1, 2, 3]</td>\n",
       "      <td>False</td>\n",
       "      <td></td>\n",
       "      <td>dummy_constant</td>\n",
       "    </tr>\n",
       "    <tr>\n",
       "      <th>28</th>\n",
       "      <td>2.374022</td>\n",
       "      <td>2.298831</td>\n",
       "      <td>2.374022</td>\n",
       "      <td>2.298831</td>\n",
       "      <td>9.823898</td>\n",
       "      <td>6.747750</td>\n",
       "      <td>[1, 2, 3]</td>\n",
       "      <td>False</td>\n",
       "      <td></td>\n",
       "      <td>dummy_constant</td>\n",
       "    </tr>\n",
       "    <tr>\n",
       "      <th>29</th>\n",
       "      <td>0.318107</td>\n",
       "      <td>0.967372</td>\n",
       "      <td>0.318107</td>\n",
       "      <td>0.967372</td>\n",
       "      <td>0.000766</td>\n",
       "      <td>0.251521</td>\n",
       "      <td>[1, 2, 3]</td>\n",
       "      <td>False</td>\n",
       "      <td></td>\n",
       "      <td>dummy_constant</td>\n",
       "    </tr>\n",
       "    <tr>\n",
       "      <th>30</th>\n",
       "      <td>0.870149</td>\n",
       "      <td>0.522696</td>\n",
       "      <td>0.870149</td>\n",
       "      <td>0.522696</td>\n",
       "      <td>0.102171</td>\n",
       "      <td>0.137525</td>\n",
       "      <td>[1, 2, 3]</td>\n",
       "      <td>False</td>\n",
       "      <td></td>\n",
       "      <td>dummy_constant</td>\n",
       "    </tr>\n",
       "    <tr>\n",
       "      <th>31</th>\n",
       "      <td>0.696700</td>\n",
       "      <td>0.731065</td>\n",
       "      <td>0.696700</td>\n",
       "      <td>0.731065</td>\n",
       "      <td>-0.072831</td>\n",
       "      <td>0.092082</td>\n",
       "      <td>[1, 2, 3]</td>\n",
       "      <td>False</td>\n",
       "      <td></td>\n",
       "      <td>dummy_constant</td>\n",
       "    </tr>\n",
       "    <tr>\n",
       "      <th>32</th>\n",
       "      <td>0.067466</td>\n",
       "      <td>1.059322</td>\n",
       "      <td>0.067466</td>\n",
       "      <td>1.059322</td>\n",
       "      <td>0.074176</td>\n",
       "      <td>0.499926</td>\n",
       "      <td>[1, 2, 3]</td>\n",
       "      <td>False</td>\n",
       "      <td></td>\n",
       "      <td>dummy_constant</td>\n",
       "    </tr>\n",
       "  </tbody>\n",
       "</table>\n",
       "</div>"
      ],
      "text/plain": [
       "          x1        x2        y1        y2        c1        c2 some_array  \\\n",
       "1   1.000000  0.750000  1.000000  0.750000  0.626888  0.312500  [1, 2, 3]   \n",
       "2   0.750000  1.000000  0.750000  1.000000  0.626888  0.312500  [1, 2, 3]   \n",
       "3   1.422817  1.691032  1.422817  1.691032  3.864525  2.270150  [1, 2, 3]   \n",
       "4   0.484372  0.556708  0.484372  0.556708 -0.499934  0.003460  [1, 2, 3]   \n",
       "5   0.586050  0.866503  0.586050  0.866503  0.193878  0.141729  [1, 2, 3]   \n",
       "6   0.896911  0.565519  0.896911  0.565519  0.215412  0.161831  [1, 2, 3]   \n",
       "7   0.278952  1.004283  0.278952  1.004283  0.123255  0.303163  [1, 2, 3]   \n",
       "8   1.020984  0.300257  1.020984  0.300257  0.146123  0.311321  [1, 2, 3]   \n",
       "9   1.080850  0.112526  1.080850  0.112526  0.189784  0.487523  [1, 2, 3]   \n",
       "10  0.709268  0.661475  0.709268  0.661475 -0.144240  0.069867  [1, 2, 3]   \n",
       "11  0.108994  1.065805  0.108994  1.065805  0.153794  0.473022  [1, 2, 3]   \n",
       "12  0.042484  0.988839  0.042484  0.988839 -0.097708  0.448285  [1, 2, 3]   \n",
       "13  0.748843  0.687570  0.748843  0.687570 -0.044106  0.097105  [1, 2, 3]   \n",
       "14  1.010649  0.093862  1.010649  0.093862  0.021325  0.425710  [1, 2, 3]   \n",
       "15  0.383363  0.914383  0.383363  0.914383 -0.116700  0.185317  [1, 2, 3]   \n",
       "16  0.422063  0.926889  0.422063  0.926889 -0.047804  0.188308  [1, 2, 3]   \n",
       "17  0.932955  0.323860  0.932955  0.323860 -0.083908  0.218475  [1, 2, 3]   \n",
       "18  0.935512  0.380259  0.935512  0.380259 -0.079658  0.204009  [1, 2, 3]   \n",
       "19  0.815583  0.644746  0.815583  0.644746  0.109706  0.120544  [1, 2, 3]   \n",
       "20  0.669382  0.784232  0.669382  0.784232  0.032658  0.109478  [1, 2, 3]   \n",
       "21  0.052248  1.041225  0.052248  1.041225  0.017366  0.493406  [1, 2, 3]   \n",
       "22  0.093326  1.023539  0.093326  1.023539  0.044773  0.439477  [1, 2, 3]   \n",
       "23  0.957540  1.190654  0.957540  1.190654  1.350343  0.686346  [1, 2, 3]   \n",
       "24  0.029685  1.027058  0.029685  1.027058 -0.033773  0.498986  [1, 2, 3]   \n",
       "25  0.000173  0.000000  0.000173  0.000000 -1.100000  0.499827  [1, 2, 3]   \n",
       "26  0.973202  0.245736  0.973202  0.245736  0.076041  0.288570  [1, 2, 3]   \n",
       "27  1.541874  0.556292  1.541874  0.556292  1.613201  1.088671  [1, 2, 3]   \n",
       "28  2.374022  2.298831  2.374022  2.298831  9.823898  6.747750  [1, 2, 3]   \n",
       "29  0.318107  0.967372  0.318107  0.967372  0.000766  0.251521  [1, 2, 3]   \n",
       "30  0.870149  0.522696  0.870149  0.522696  0.102171  0.137525  [1, 2, 3]   \n",
       "31  0.696700  0.731065  0.696700  0.731065 -0.072831  0.092082  [1, 2, 3]   \n",
       "32  0.067466  1.059322  0.067466  1.059322  0.074176  0.499926  [1, 2, 3]   \n",
       "\n",
       "    xopt_error xopt_error_str               a  \n",
       "1        False                            NaN  \n",
       "2        False                            NaN  \n",
       "3        False                 dummy_constant  \n",
       "4        False                 dummy_constant  \n",
       "5        False                 dummy_constant  \n",
       "6        False                 dummy_constant  \n",
       "7        False                 dummy_constant  \n",
       "8        False                 dummy_constant  \n",
       "9        False                 dummy_constant  \n",
       "10       False                 dummy_constant  \n",
       "11       False                 dummy_constant  \n",
       "12       False                 dummy_constant  \n",
       "13       False                 dummy_constant  \n",
       "14       False                 dummy_constant  \n",
       "15       False                 dummy_constant  \n",
       "16       False                 dummy_constant  \n",
       "17       False                 dummy_constant  \n",
       "18       False                 dummy_constant  \n",
       "19       False                 dummy_constant  \n",
       "20       False                 dummy_constant  \n",
       "21       False                 dummy_constant  \n",
       "22       False                 dummy_constant  \n",
       "23       False                 dummy_constant  \n",
       "24       False                 dummy_constant  \n",
       "25       False                 dummy_constant  \n",
       "26       False                 dummy_constant  \n",
       "27       False                 dummy_constant  \n",
       "28       False                 dummy_constant  \n",
       "29       False                 dummy_constant  \n",
       "30       False                 dummy_constant  \n",
       "31       False                 dummy_constant  \n",
       "32       False                 dummy_constant  "
      ]
     },
     "execution_count": 3,
     "metadata": {},
     "output_type": "execute_result"
    }
   ],
   "source": [
    "X.generator.data"
   ]
  },
  {
   "cell_type": "markdown",
   "metadata": {
    "collapsed": false,
    "pycharm": {
     "name": "#%% md\n"
    }
   },
   "source": [
    "## plot results\n"
   ]
  },
  {
   "cell_type": "code",
   "execution_count": 4,
   "metadata": {
    "collapsed": false,
    "execution": {
     "iopub.execute_input": "2022-08-15T00:16:53.725134Z",
     "iopub.status.busy": "2022-08-15T00:16:53.723651Z",
     "iopub.status.idle": "2022-08-15T00:16:54.724281Z",
     "shell.execute_reply": "2022-08-15T00:16:54.723433Z"
    },
    "pycharm": {
     "name": "#%%\n"
    }
   },
   "outputs": [
    {
     "data": {
      "image/png": "[encoded data removed]",
      "text/plain": [
       "<Figure size 432x288 with 1 Axes>"
      ]
     },
     "metadata": {
      "needs_background": "light"
     },
     "output_type": "display_data"
    }
   ],
   "source": [
    "import matplotlib.pyplot as plt\n",
    "\n",
    "fig, ax = plt.subplots()\n",
    "\n",
    "theta = np.linspace(0, np.pi / 2)\n",
    "r = np.sqrt(1 + 0.1 * np.cos(16 * theta))\n",
    "x_1 = r * np.sin(theta)\n",
    "x_2_lower = r * np.cos(theta)\n",
    "x_2_upper = (0.5 - (x_1 - 0.5) ** 2) ** 0.5 + 0.5\n",
    "\n",
    "z = np.zeros_like(x_1)\n",
    "\n",
    "# ax2.plot(x_1, x_2_lower,'r')\n",
    "ax.fill_between(x_1, z, x_2_lower, fc=\"white\")\n",
    "circle = plt.Circle(\n",
    "    (0.5, 0.5), 0.5 ** 0.5, color=\"r\", alpha=0.25, zorder=0, label=\"Valid Region\"\n",
    ")\n",
    "ax.add_patch(circle)\n",
    "history = pd.concat(\n",
    "    [X.data, tnk_vocs.feasibility_data(X.data)], axis=1, ignore_index=False\n",
    ")\n",
    "\n",
    "\n",
    "ax.plot(*history[[\"x1\", \"x2\"]][history[\"feasible\"]].to_numpy().T, \".C1\")\n",
    "ax.plot(*history[[\"x1\", \"x2\"]][~history[\"feasible\"]].to_numpy().T, \".C2\")\n",
    "\n",
    "ax.set_xlim(0, 3.14)\n",
    "ax.set_ylim(0, 3.14)\n",
    "ax.set_xlabel(\"x1\")\n",
    "ax.set_ylabel(\"x2\")\n",
    "ax.set_aspect(\"equal\")"
   ]
  },
  {
   "cell_type": "markdown",
   "metadata": {
    "collapsed": false,
    "pycharm": {
     "name": "#%% md\n"
    }
   },
   "source": [
    "### Plot path through input space"
   ]
  },
  {
   "cell_type": "code",
   "execution_count": 5,
   "metadata": {
    "collapsed": false,
    "execution": {
     "iopub.execute_input": "2022-08-15T00:16:54.728844Z",
     "iopub.status.busy": "2022-08-15T00:16:54.728033Z",
     "iopub.status.idle": "2022-08-15T00:16:54.892068Z",
     "shell.execute_reply": "2022-08-15T00:16:54.891250Z"
    },
    "pycharm": {
     "name": "#%%\n"
    }
   },
   "outputs": [
    {
     "data": {
      "image/png": "[encoded data removed]",
      "text/plain": [
       "<Figure size 432x288 with 1 Axes>"
      ]
     },
     "metadata": {
      "needs_background": "light"
     },
     "output_type": "display_data"
    }
   ],
   "source": [
    "ax = history.plot(\"x1\", \"x2\")\n",
    "ax.set_ylim(0, 3.14)\n",
    "ax.set_xlim(0, 3.14)\n",
    "ax.set_aspect(\"equal\")"
   ]
  },
  {
   "cell_type": "code",
   "execution_count": 6,
   "metadata": {
    "collapsed": false,
    "execution": {
     "iopub.execute_input": "2022-08-15T00:16:54.898082Z",
     "iopub.status.busy": "2022-08-15T00:16:54.896426Z",
     "iopub.status.idle": "2022-08-15T00:17:25.887248Z",
     "shell.execute_reply": "2022-08-15T00:17:25.885197Z"
    },
    "pycharm": {
     "name": "#%%\n"
    }
   },
   "outputs": [
    {
     "name": "stderr",
     "output_type": "stream",
     "text": [
      "/usr/share/miniconda/envs/xopt-dev/lib/python3.9/site-packages/torch/functional.py:478: UserWarning: torch.meshgrid: in an upcoming release, it will be required to pass the indexing argument. (Triggered internally at  /home/conda/feedstock_root/build_artifacts/pytorch-recipe_1660136119739/work/aten/src/ATen/native/TensorShape.cpp:2894.)\n",
      "  return _VF.meshgrid(tensors, **kwargs)  # type: ignore[attr-defined]\n"
     ]
    },
    {
     "name": "stdout",
     "output_type": "stream",
     "text": [
      "[[1.83982967 1.59015049]]\n"
     ]
    },
    {
     "data": {
      "text/plain": [
       "[<matplotlib.lines.Line2D at 0x7f9a4b2f23d0>]"
      ]
     },
     "execution_count": 6,
     "metadata": {},
     "output_type": "execute_result"
    },
    {
     "data": {
      "image/png": "[encoded data removed]",
      "text/plain": [
       "<Figure size 432x288 with 2 Axes>"
      ]
     },
     "metadata": {
      "needs_background": "light"
     },
     "output_type": "display_data"
    },
    {
     "data": {
      "image/png": "[encoded data removed]",
      "text/plain": [
       "<Figure size 432x288 with 2 Axes>"
      ]
     },
     "metadata": {
      "needs_background": "light"
     },
     "output_type": "display_data"
    }
   ],
   "source": [
    "# plot the acquisition function\n",
    "from xopt.generators.bayesian.utils import feasibility\n",
    "\n",
    "bounds = generator.vocs.bounds\n",
    "model = generator.model\n",
    "\n",
    "# create mesh\n",
    "n = 200\n",
    "x = torch.linspace(*bounds.T[0], n)\n",
    "y = torch.linspace(*bounds.T[1], n)\n",
    "xx, yy = torch.meshgrid(x, y)\n",
    "pts = torch.hstack([ele.reshape(-1, 1) for ele in (xx, yy)]).double()\n",
    "\n",
    "acq_func = generator.get_acquisition(model)\n",
    "with torch.no_grad():\n",
    "    acq_pts = pts.unsqueeze(1)\n",
    "    acq = acq_func(acq_pts)\n",
    "\n",
    "    fig, ax = plt.subplots()\n",
    "    c = ax.pcolor(xx, yy, acq.reshape(n, n), cmap=\"Blues\")\n",
    "    fig.colorbar(c)\n",
    "    ax.set_title(\"Acquisition function\")\n",
    "\n",
    "    ax.plot(*history[[\"x1\", \"x2\"]][history[\"feasible\"]].to_numpy().T, \".C1\")\n",
    "    ax.plot(*history[[\"x1\", \"x2\"]][~history[\"feasible\"]].to_numpy().T, \".C2\")\n",
    "\n",
    "    ax.plot(*history[[\"x1\", \"x2\"]].to_numpy()[-1].T, \"+\")\n",
    "\n",
    "    feas = feasibility(pts.unsqueeze(1), model, generator.sampler, tnk_vocs).flatten()\n",
    "\n",
    "    fig2, ax2 = plt.subplots()\n",
    "    c = ax2.pcolor(xx, yy, feas.reshape(n, n))\n",
    "    fig2.colorbar(c)\n",
    "    ax2.set_title(\"Feasible Region\")\n",
    "\n",
    "candidate = generator.generate(1)\n",
    "print(candidate[[\"x1\", \"x2\"]].to_numpy())\n",
    "ax.plot(*candidate[[\"x1\", \"x2\"]].to_numpy()[0], \"o\")"
   ]
  },
  {
   "cell_type": "code",
   "execution_count": 7,
   "metadata": {
    "collapsed": false,
    "execution": {
     "iopub.execute_input": "2022-08-15T00:17:25.942146Z",
     "iopub.status.busy": "2022-08-15T00:17:25.941176Z",
     "iopub.status.idle": "2022-08-15T00:17:28.810455Z",
     "shell.execute_reply": "2022-08-15T00:17:28.809643Z"
    },
    "pycharm": {
     "name": "#%%\n"
    }
   },
   "outputs": [
    {
     "name": "stdout",
     "output_type": "stream",
     "text": [
      "CPU times: user 5.43 s, sys: 188 ms, total: 5.62 s\n",
      "Wall time: 2.86 s\n"
     ]
    }
   ],
   "source": [
    "%%time\n",
    "candidate = generator.generate(1)"
   ]
  }
 ],
 "metadata": {
  "interpreter": {
   "hash": "72034539424920dfb606fe3b820b3f27dca0cbf1c69938110810ec4641e275b1"
  },
  "kernelspec": {
   "display_name": "Python 3 (ipykernel)",
   "language": "python",
   "name": "python3"
  },
  "language_info": {
   "codemirror_mode": {
    "name": "ipython",
    "version": 3
   },
   "file_extension": ".py",
   "mimetype": "text/x-python",
   "name": "python",
   "nbconvert_exporter": "python",
   "pygments_lexer": "ipython3",
   "version": "3.9.13"
  }
 },
 "nbformat": 4,
 "nbformat_minor": 4
}
