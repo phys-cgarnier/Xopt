{
 "cells": [
  {
   "cell_type": "markdown",
   "metadata": {
    "pycharm": {
     "name": "#%% md\n"
    }
   },
   "source": [
    "\n",
    "# Multi-objective Bayesian Optimization\n",
    "\n",
    "\n",
    "TNK function\n",
    "$n=2$ variables:\n",
    "$x_i \\in [0, \\pi], i=1,2$\n",
    "\n",
    "Objectives:\n",
    "- $f_i(x) = x_i$\n",
    "\n",
    "Constraints:\n",
    "- $g_1(x) = -x_1^2 -x_2^2 + 1 + 0.1 \\cos\\left(16 \\arctan \\frac{x_1}{x_2}\\right) \\le 0$\n",
    "- $g_2(x) = (x_1 - 1/2)^2 + (x_2-1/2)^2 \\le 0.5$"
   ]
  },
  {
   "cell_type": "code",
   "execution_count": 1,
   "metadata": {
    "collapsed": false,
    "execution": {
     "iopub.execute_input": "2022-08-18T21:07:42.368929Z",
     "iopub.status.busy": "2022-08-18T21:07:42.368622Z",
     "iopub.status.idle": "2022-08-18T21:07:43.886593Z",
     "shell.execute_reply": "2022-08-18T21:07:43.885080Z"
    },
    "pycharm": {
     "name": "#%%\n"
    }
   },
   "outputs": [
    {
     "name": "stdout",
     "output_type": "stream",
     "text": [
      "{'variables': {'x1': [0.0, 3.14159], 'x2': [0.0, 3.14159]}, 'constraints': {'c1': ['GREATER_THAN', 0.0], 'c2': ['LESS_THAN', 0.5]}, 'objectives': {'y1': 'MINIMIZE', 'y2': 'MINIMIZE'}, 'constants': {'a': 'dummy_constant'}, 'linked_variables': {}}\n"
     ]
    }
   ],
   "source": [
    "%reset -f\n",
    "from copy import deepcopy\n",
    "\n",
    "import pandas as pd\n",
    "import numpy as np\n",
    "import torch\n",
    "\n",
    "from xopt import Xopt, Evaluator\n",
    "from xopt.generators.bayesian import MOBOGenerator\n",
    "from xopt.resources.test_functions.tnk import evaluate_TNK, tnk_vocs\n",
    "\n",
    "\n",
    "evaluator = Evaluator(function=evaluate_TNK)\n",
    "print(tnk_vocs.dict())"
   ]
  },
  {
   "cell_type": "code",
   "execution_count": 2,
   "metadata": {
    "collapsed": false,
    "execution": {
     "iopub.execute_input": "2022-08-18T21:07:43.935242Z",
     "iopub.status.busy": "2022-08-18T21:07:43.934241Z",
     "iopub.status.idle": "2022-08-18T21:09:02.803294Z",
     "shell.execute_reply": "2022-08-18T21:09:02.802445Z"
    },
    "pycharm": {
     "name": "#%%\n"
    }
   },
   "outputs": [
    {
     "name": "stdout",
     "output_type": "stream",
     "text": [
      "optim=OptimOptions(num_restarts=1, raw_samples=50, sequential=True, use_nearby_initial_points=True, max_travel_distances=None) acq=MOBOAcqOptions(proximal_lengthscales=[1.0, 1.0], use_transformed_proximal_weights=True, monte_carlo_samples=128, ref_point=None, use_data_as_reference=True) model=ModelOptions(use_conservative_prior_lengthscale=False, use_conservative_prior_mean=False, use_low_noise_prior=True) n_initial=(2,)\n",
      "0\n",
      "1\n"
     ]
    },
    {
     "name": "stderr",
     "output_type": "stream",
     "text": [
      "/usr/share/miniconda/envs/xopt-dev/lib/python3.9/site-packages/gpytorch/lazy/lazy_tensor.py:1811: UserWarning: torch.triangular_solve is deprecated in favor of torch.linalg.solve_triangularand will be removed in a future PyTorch release.\n",
      "torch.linalg.solve_triangular has its arguments reversed and does not return a copy of one of the inputs.\n",
      "X = torch.triangular_solve(B, A).solution\n",
      "should be replaced with\n",
      "X = torch.linalg.solve_triangular(A, B). (Triggered internally at  /home/conda/feedstock_root/build_artifacts/pytorch-recipe_1660136119739/work/aten/src/ATen/native/BatchLinearAlgebra.cpp:2183.)\n",
      "  Linv = torch.triangular_solve(Eye, L, upper=False).solution\n"
     ]
    },
    {
     "name": "stdout",
     "output_type": "stream",
     "text": [
      "2\n",
      "3\n",
      "4\n",
      "5\n",
      "6\n",
      "7\n",
      "8\n",
      "9\n",
      "10\n",
      "11\n",
      "12\n",
      "13\n",
      "14\n",
      "15\n",
      "16\n",
      "17\n"
     ]
    },
    {
     "name": "stderr",
     "output_type": "stream",
     "text": [
      "/usr/share/miniconda/envs/xopt-dev/lib/python3.9/site-packages/botorch/optim/optimize.py:287: RuntimeWarning: Optimization failed in `gen_candidates_scipy` with the following warning(s):\n",
      "[OptimizationWarning('Optimization failed within `scipy.optimize.minimize` with status 2.')]\n",
      "Because you specified `batch_initial_conditions`, optimization will not be retried with new initial conditions and will proceed with the current solution. Suggested remediation: Try again with different `batch_initial_conditions`, or don't provide `batch_initial_conditions.`\n",
      "  warnings.warn(first_warn_msg, RuntimeWarning)\n"
     ]
    },
    {
     "name": "stdout",
     "output_type": "stream",
     "text": [
      "18\n",
      "19\n",
      "20\n",
      "21\n",
      "22\n",
      "23\n",
      "24\n",
      "25\n",
      "26\n",
      "27\n",
      "28\n",
      "29\n"
     ]
    }
   ],
   "source": [
    "options = MOBOGenerator.default_options()\n",
    "options.n_initial = (2,)\n",
    "options.optim.num_restarts = 1\n",
    "options.optim.raw_samples = 50\n",
    "options.acq.proximal_lengthscales = [1.0, 1.0]\n",
    "options.model.use_low_noise_prior = True\n",
    "print(options)\n",
    "generator = MOBOGenerator(tnk_vocs, options)\n",
    "\n",
    "X = Xopt(generator=generator, evaluator=evaluator, vocs=tnk_vocs)\n",
    "X.submit_data(pd.DataFrame({\"x1\":[1.0, 0.75],\"x2\":[0.75, 1.0]}))\n",
    "for i in range(30):\n",
    "    print(i)\n",
    "    X.step()"
   ]
  },
  {
   "cell_type": "code",
   "execution_count": 3,
   "metadata": {
    "collapsed": false,
    "execution": {
     "iopub.execute_input": "2022-08-18T21:09:02.808003Z",
     "iopub.status.busy": "2022-08-18T21:09:02.807527Z",
     "iopub.status.idle": "2022-08-18T21:09:02.846184Z",
     "shell.execute_reply": "2022-08-18T21:09:02.845489Z"
    },
    "pycharm": {
     "name": "#%%\n"
    }
   },
   "outputs": [
    {
     "data": {
      "text/html": [
       "<div>\n",
       "<style scoped>\n",
       "    .dataframe tbody tr th:only-of-type {\n",
       "        vertical-align: middle;\n",
       "    }\n",
       "\n",
       "    .dataframe tbody tr th {\n",
       "        vertical-align: top;\n",
       "    }\n",
       "\n",
       "    .dataframe thead th {\n",
       "        text-align: right;\n",
       "    }\n",
       "</style>\n",
       "<table border=\"1\" class=\"dataframe\">\n",
       "  <thead>\n",
       "    <tr style=\"text-align: right;\">\n",
       "      <th></th>\n",
       "      <th>x1</th>\n",
       "      <th>x2</th>\n",
       "      <th>a</th>\n",
       "      <th>y1</th>\n",
       "      <th>y2</th>\n",
       "      <th>c1</th>\n",
       "      <th>c2</th>\n",
       "      <th>some_array</th>\n",
       "      <th>xopt_runtime</th>\n",
       "      <th>xopt_error</th>\n",
       "    </tr>\n",
       "  </thead>\n",
       "  <tbody>\n",
       "    <tr>\n",
       "      <th>3</th>\n",
       "      <td>1.674916</td>\n",
       "      <td>1.697927</td>\n",
       "      <td>dummy_constant</td>\n",
       "      <td>1.674916</td>\n",
       "      <td>1.697927</td>\n",
       "      <td>4.588894</td>\n",
       "      <td>2.815456</td>\n",
       "      <td>[1, 2, 3]</td>\n",
       "      <td>0.000040</td>\n",
       "      <td>False</td>\n",
       "    </tr>\n",
       "    <tr>\n",
       "      <th>4</th>\n",
       "      <td>2.929017</td>\n",
       "      <td>0.111033</td>\n",
       "      <td>dummy_constant</td>\n",
       "      <td>2.929017</td>\n",
       "      <td>0.111033</td>\n",
       "      <td>7.509289</td>\n",
       "      <td>6.051418</td>\n",
       "      <td>[1, 2, 3]</td>\n",
       "      <td>0.000013</td>\n",
       "      <td>False</td>\n",
       "    </tr>\n",
       "    <tr>\n",
       "      <th>5</th>\n",
       "      <td>2.311786</td>\n",
       "      <td>1.724639</td>\n",
       "      <td>dummy_constant</td>\n",
       "      <td>2.311786</td>\n",
       "      <td>1.724639</td>\n",
       "      <td>7.386192</td>\n",
       "      <td>4.782309</td>\n",
       "      <td>[1, 2, 3]</td>\n",
       "      <td>0.000036</td>\n",
       "      <td>False</td>\n",
       "    </tr>\n",
       "    <tr>\n",
       "      <th>6</th>\n",
       "      <td>0.473400</td>\n",
       "      <td>2.077167</td>\n",
       "      <td>dummy_constant</td>\n",
       "      <td>0.473400</td>\n",
       "      <td>2.077167</td>\n",
       "      <td>3.629047</td>\n",
       "      <td>2.488162</td>\n",
       "      <td>[1, 2, 3]</td>\n",
       "      <td>0.000043</td>\n",
       "      <td>False</td>\n",
       "    </tr>\n",
       "    <tr>\n",
       "      <th>7</th>\n",
       "      <td>1.070770</td>\n",
       "      <td>1.118925</td>\n",
       "      <td>dummy_constant</td>\n",
       "      <td>1.070770</td>\n",
       "      <td>1.118925</td>\n",
       "      <td>1.304667</td>\n",
       "      <td>0.708847</td>\n",
       "      <td>[1, 2, 3]</td>\n",
       "      <td>0.000042</td>\n",
       "      <td>False</td>\n",
       "    </tr>\n",
       "    <tr>\n",
       "      <th>8</th>\n",
       "      <td>1.194666</td>\n",
       "      <td>0.484173</td>\n",
       "      <td>dummy_constant</td>\n",
       "      <td>1.194666</td>\n",
       "      <td>0.484173</td>\n",
       "      <td>0.562400</td>\n",
       "      <td>0.482812</td>\n",
       "      <td>[1, 2, 3]</td>\n",
       "      <td>0.000043</td>\n",
       "      <td>False</td>\n",
       "    </tr>\n",
       "    <tr>\n",
       "      <th>9</th>\n",
       "      <td>0.864621</td>\n",
       "      <td>0.215314</td>\n",
       "      <td>dummy_constant</td>\n",
       "      <td>0.864621</td>\n",
       "      <td>0.215314</td>\n",
       "      <td>-0.133823</td>\n",
       "      <td>0.213994</td>\n",
       "      <td>[1, 2, 3]</td>\n",
       "      <td>0.000043</td>\n",
       "      <td>False</td>\n",
       "    </tr>\n",
       "    <tr>\n",
       "      <th>10</th>\n",
       "      <td>1.007195</td>\n",
       "      <td>0.269487</td>\n",
       "      <td>dummy_constant</td>\n",
       "      <td>1.007195</td>\n",
       "      <td>0.269487</td>\n",
       "      <td>0.137566</td>\n",
       "      <td>0.310383</td>\n",
       "      <td>[1, 2, 3]</td>\n",
       "      <td>0.000040</td>\n",
       "      <td>False</td>\n",
       "    </tr>\n",
       "    <tr>\n",
       "      <th>11</th>\n",
       "      <td>0.371671</td>\n",
       "      <td>0.834226</td>\n",
       "      <td>dummy_constant</td>\n",
       "      <td>0.371671</td>\n",
       "      <td>0.834226</td>\n",
       "      <td>-0.257119</td>\n",
       "      <td>0.128175</td>\n",
       "      <td>[1, 2, 3]</td>\n",
       "      <td>0.000038</td>\n",
       "      <td>False</td>\n",
       "    </tr>\n",
       "    <tr>\n",
       "      <th>12</th>\n",
       "      <td>0.414844</td>\n",
       "      <td>1.071983</td>\n",
       "      <td>dummy_constant</td>\n",
       "      <td>0.414844</td>\n",
       "      <td>1.071983</td>\n",
       "      <td>0.228206</td>\n",
       "      <td>0.334416</td>\n",
       "      <td>[1, 2, 3]</td>\n",
       "      <td>0.000052</td>\n",
       "      <td>False</td>\n",
       "    </tr>\n",
       "    <tr>\n",
       "      <th>13</th>\n",
       "      <td>1.010371</td>\n",
       "      <td>0.001798</td>\n",
       "      <td>dummy_constant</td>\n",
       "      <td>1.010371</td>\n",
       "      <td>0.001798</td>\n",
       "      <td>-0.079107</td>\n",
       "      <td>0.508684</td>\n",
       "      <td>[1, 2, 3]</td>\n",
       "      <td>0.000094</td>\n",
       "      <td>False</td>\n",
       "    </tr>\n",
       "    <tr>\n",
       "      <th>14</th>\n",
       "      <td>0.244787</td>\n",
       "      <td>1.122555</td>\n",
       "      <td>dummy_constant</td>\n",
       "      <td>0.244787</td>\n",
       "      <td>1.122555</td>\n",
       "      <td>0.415772</td>\n",
       "      <td>0.452709</td>\n",
       "      <td>[1, 2, 3]</td>\n",
       "      <td>0.000041</td>\n",
       "      <td>False</td>\n",
       "    </tr>\n",
       "    <tr>\n",
       "      <th>15</th>\n",
       "      <td>1.053717</td>\n",
       "      <td>0.094588</td>\n",
       "      <td>dummy_constant</td>\n",
       "      <td>1.053717</td>\n",
       "      <td>0.094588</td>\n",
       "      <td>0.105472</td>\n",
       "      <td>0.470961</td>\n",
       "      <td>[1, 2, 3]</td>\n",
       "      <td>0.000039</td>\n",
       "      <td>False</td>\n",
       "    </tr>\n",
       "    <tr>\n",
       "      <th>16</th>\n",
       "      <td>0.035193</td>\n",
       "      <td>0.953836</td>\n",
       "      <td>dummy_constant</td>\n",
       "      <td>0.035193</td>\n",
       "      <td>0.953836</td>\n",
       "      <td>-0.172048</td>\n",
       "      <td>0.422013</td>\n",
       "      <td>[1, 2, 3]</td>\n",
       "      <td>0.000059</td>\n",
       "      <td>False</td>\n",
       "    </tr>\n",
       "    <tr>\n",
       "      <th>17</th>\n",
       "      <td>0.654267</td>\n",
       "      <td>0.862737</td>\n",
       "      <td>dummy_constant</td>\n",
       "      <td>0.654267</td>\n",
       "      <td>0.862737</td>\n",
       "      <td>0.230018</td>\n",
       "      <td>0.155377</td>\n",
       "      <td>[1, 2, 3]</td>\n",
       "      <td>0.000049</td>\n",
       "      <td>False</td>\n",
       "    </tr>\n",
       "    <tr>\n",
       "      <th>18</th>\n",
       "      <td>0.828356</td>\n",
       "      <td>0.570871</td>\n",
       "      <td>dummy_constant</td>\n",
       "      <td>0.828356</td>\n",
       "      <td>0.570871</td>\n",
       "      <td>0.109437</td>\n",
       "      <td>0.112840</td>\n",
       "      <td>[1, 2, 3]</td>\n",
       "      <td>0.000038</td>\n",
       "      <td>False</td>\n",
       "    </tr>\n",
       "    <tr>\n",
       "      <th>19</th>\n",
       "      <td>0.694116</td>\n",
       "      <td>0.728554</td>\n",
       "      <td>dummy_constant</td>\n",
       "      <td>0.694116</td>\n",
       "      <td>0.728554</td>\n",
       "      <td>-0.080008</td>\n",
       "      <td>0.089918</td>\n",
       "      <td>[1, 2, 3]</td>\n",
       "      <td>0.000078</td>\n",
       "      <td>False</td>\n",
       "    </tr>\n",
       "    <tr>\n",
       "      <th>20</th>\n",
       "      <td>0.920588</td>\n",
       "      <td>0.391423</td>\n",
       "      <td>dummy_constant</td>\n",
       "      <td>0.920588</td>\n",
       "      <td>0.391423</td>\n",
       "      <td>-0.098194</td>\n",
       "      <td>0.188683</td>\n",
       "      <td>[1, 2, 3]</td>\n",
       "      <td>0.000042</td>\n",
       "      <td>False</td>\n",
       "    </tr>\n",
       "    <tr>\n",
       "      <th>21</th>\n",
       "      <td>0.304009</td>\n",
       "      <td>0.985402</td>\n",
       "      <td>dummy_constant</td>\n",
       "      <td>0.304009</td>\n",
       "      <td>0.985402</td>\n",
       "      <td>0.055886</td>\n",
       "      <td>0.274027</td>\n",
       "      <td>[1, 2, 3]</td>\n",
       "      <td>0.000036</td>\n",
       "      <td>False</td>\n",
       "    </tr>\n",
       "    <tr>\n",
       "      <th>22</th>\n",
       "      <td>0.078579</td>\n",
       "      <td>1.052440</td>\n",
       "      <td>dummy_constant</td>\n",
       "      <td>0.078579</td>\n",
       "      <td>1.052440</td>\n",
       "      <td>0.076862</td>\n",
       "      <td>0.482785</td>\n",
       "      <td>[1, 2, 3]</td>\n",
       "      <td>0.000041</td>\n",
       "      <td>False</td>\n",
       "    </tr>\n",
       "    <tr>\n",
       "      <th>23</th>\n",
       "      <td>1.031287</td>\n",
       "      <td>0.042608</td>\n",
       "      <td>dummy_constant</td>\n",
       "      <td>1.031287</td>\n",
       "      <td>0.042608</td>\n",
       "      <td>-0.013591</td>\n",
       "      <td>0.491473</td>\n",
       "      <td>[1, 2, 3]</td>\n",
       "      <td>0.000034</td>\n",
       "      <td>False</td>\n",
       "    </tr>\n",
       "    <tr>\n",
       "      <th>24</th>\n",
       "      <td>1.083378</td>\n",
       "      <td>0.118627</td>\n",
       "      <td>dummy_constant</td>\n",
       "      <td>1.083378</td>\n",
       "      <td>0.118627</td>\n",
       "      <td>0.205113</td>\n",
       "      <td>0.485776</td>\n",
       "      <td>[1, 2, 3]</td>\n",
       "      <td>0.000039</td>\n",
       "      <td>False</td>\n",
       "    </tr>\n",
       "    <tr>\n",
       "      <th>25</th>\n",
       "      <td>0.532532</td>\n",
       "      <td>0.854725</td>\n",
       "      <td>dummy_constant</td>\n",
       "      <td>0.532532</td>\n",
       "      <td>0.854725</td>\n",
       "      <td>0.101435</td>\n",
       "      <td>0.126888</td>\n",
       "      <td>[1, 2, 3]</td>\n",
       "      <td>0.000038</td>\n",
       "      <td>False</td>\n",
       "    </tr>\n",
       "    <tr>\n",
       "      <th>26</th>\n",
       "      <td>0.094477</td>\n",
       "      <td>1.070165</td>\n",
       "      <td>dummy_constant</td>\n",
       "      <td>0.094477</td>\n",
       "      <td>1.070165</td>\n",
       "      <td>0.138056</td>\n",
       "      <td>0.489537</td>\n",
       "      <td>[1, 2, 3]</td>\n",
       "      <td>0.000037</td>\n",
       "      <td>False</td>\n",
       "    </tr>\n",
       "    <tr>\n",
       "      <th>27</th>\n",
       "      <td>0.852149</td>\n",
       "      <td>0.591983</td>\n",
       "      <td>dummy_constant</td>\n",
       "      <td>0.852149</td>\n",
       "      <td>0.591983</td>\n",
       "      <td>0.172435</td>\n",
       "      <td>0.132470</td>\n",
       "      <td>[1, 2, 3]</td>\n",
       "      <td>0.000041</td>\n",
       "      <td>False</td>\n",
       "    </tr>\n",
       "    <tr>\n",
       "      <th>28</th>\n",
       "      <td>0.445991</td>\n",
       "      <td>0.921136</td>\n",
       "      <td>dummy_constant</td>\n",
       "      <td>0.445991</td>\n",
       "      <td>0.921136</td>\n",
       "      <td>-0.012276</td>\n",
       "      <td>0.180273</td>\n",
       "      <td>[1, 2, 3]</td>\n",
       "      <td>0.000038</td>\n",
       "      <td>False</td>\n",
       "    </tr>\n",
       "    <tr>\n",
       "      <th>29</th>\n",
       "      <td>0.629174</td>\n",
       "      <td>2.495108</td>\n",
       "      <td>dummy_constant</td>\n",
       "      <td>0.629174</td>\n",
       "      <td>2.495108</td>\n",
       "      <td>5.690329</td>\n",
       "      <td>3.997142</td>\n",
       "      <td>[1, 2, 3]</td>\n",
       "      <td>0.000039</td>\n",
       "      <td>False</td>\n",
       "    </tr>\n",
       "    <tr>\n",
       "      <th>30</th>\n",
       "      <td>0.764846</td>\n",
       "      <td>0.675028</td>\n",
       "      <td>dummy_constant</td>\n",
       "      <td>0.764846</td>\n",
       "      <td>0.675028</td>\n",
       "      <td>-0.013649</td>\n",
       "      <td>0.100778</td>\n",
       "      <td>[1, 2, 3]</td>\n",
       "      <td>0.000040</td>\n",
       "      <td>False</td>\n",
       "    </tr>\n",
       "    <tr>\n",
       "      <th>31</th>\n",
       "      <td>1.956810</td>\n",
       "      <td>0.898298</td>\n",
       "      <td>dummy_constant</td>\n",
       "      <td>1.956810</td>\n",
       "      <td>0.898298</td>\n",
       "      <td>3.553660</td>\n",
       "      <td>2.280936</td>\n",
       "      <td>[1, 2, 3]</td>\n",
       "      <td>0.000038</td>\n",
       "      <td>False</td>\n",
       "    </tr>\n",
       "    <tr>\n",
       "      <th>32</th>\n",
       "      <td>2.116712</td>\n",
       "      <td>1.331066</td>\n",
       "      <td>dummy_constant</td>\n",
       "      <td>2.116712</td>\n",
       "      <td>1.331066</td>\n",
       "      <td>5.342549</td>\n",
       "      <td>3.304429</td>\n",
       "      <td>[1, 2, 3]</td>\n",
       "      <td>0.000045</td>\n",
       "      <td>False</td>\n",
       "    </tr>\n",
       "    <tr>\n",
       "      <th>33</th>\n",
       "      <td>0.884660</td>\n",
       "      <td>0.490261</td>\n",
       "      <td>dummy_constant</td>\n",
       "      <td>0.884660</td>\n",
       "      <td>0.490261</td>\n",
       "      <td>0.047019</td>\n",
       "      <td>0.148058</td>\n",
       "      <td>[1, 2, 3]</td>\n",
       "      <td>0.000041</td>\n",
       "      <td>False</td>\n",
       "    </tr>\n",
       "  </tbody>\n",
       "</table>\n",
       "</div>"
      ],
      "text/plain": [
       "          x1        x2               a        y1        y2        c1  \\\n",
       "3   1.674916  1.697927  dummy_constant  1.674916  1.697927  4.588894   \n",
       "4   2.929017  0.111033  dummy_constant  2.929017  0.111033  7.509289   \n",
       "5   2.311786  1.724639  dummy_constant  2.311786  1.724639  7.386192   \n",
       "6   0.473400  2.077167  dummy_constant  0.473400  2.077167  3.629047   \n",
       "7   1.070770  1.118925  dummy_constant  1.070770  1.118925  1.304667   \n",
       "8   1.194666  0.484173  dummy_constant  1.194666  0.484173  0.562400   \n",
       "9   0.864621  0.215314  dummy_constant  0.864621  0.215314 -0.133823   \n",
       "10  1.007195  0.269487  dummy_constant  1.007195  0.269487  0.137566   \n",
       "11  0.371671  0.834226  dummy_constant  0.371671  0.834226 -0.257119   \n",
       "12  0.414844  1.071983  dummy_constant  0.414844  1.071983  0.228206   \n",
       "13  1.010371  0.001798  dummy_constant  1.010371  0.001798 -0.079107   \n",
       "14  0.244787  1.122555  dummy_constant  0.244787  1.122555  0.415772   \n",
       "15  1.053717  0.094588  dummy_constant  1.053717  0.094588  0.105472   \n",
       "16  0.035193  0.953836  dummy_constant  0.035193  0.953836 -0.172048   \n",
       "17  0.654267  0.862737  dummy_constant  0.654267  0.862737  0.230018   \n",
       "18  0.828356  0.570871  dummy_constant  0.828356  0.570871  0.109437   \n",
       "19  0.694116  0.728554  dummy_constant  0.694116  0.728554 -0.080008   \n",
       "20  0.920588  0.391423  dummy_constant  0.920588  0.391423 -0.098194   \n",
       "21  0.304009  0.985402  dummy_constant  0.304009  0.985402  0.055886   \n",
       "22  0.078579  1.052440  dummy_constant  0.078579  1.052440  0.076862   \n",
       "23  1.031287  0.042608  dummy_constant  1.031287  0.042608 -0.013591   \n",
       "24  1.083378  0.118627  dummy_constant  1.083378  0.118627  0.205113   \n",
       "25  0.532532  0.854725  dummy_constant  0.532532  0.854725  0.101435   \n",
       "26  0.094477  1.070165  dummy_constant  0.094477  1.070165  0.138056   \n",
       "27  0.852149  0.591983  dummy_constant  0.852149  0.591983  0.172435   \n",
       "28  0.445991  0.921136  dummy_constant  0.445991  0.921136 -0.012276   \n",
       "29  0.629174  2.495108  dummy_constant  0.629174  2.495108  5.690329   \n",
       "30  0.764846  0.675028  dummy_constant  0.764846  0.675028 -0.013649   \n",
       "31  1.956810  0.898298  dummy_constant  1.956810  0.898298  3.553660   \n",
       "32  2.116712  1.331066  dummy_constant  2.116712  1.331066  5.342549   \n",
       "33  0.884660  0.490261  dummy_constant  0.884660  0.490261  0.047019   \n",
       "\n",
       "          c2 some_array  xopt_runtime  xopt_error  \n",
       "3   2.815456  [1, 2, 3]      0.000040       False  \n",
       "4   6.051418  [1, 2, 3]      0.000013       False  \n",
       "5   4.782309  [1, 2, 3]      0.000036       False  \n",
       "6   2.488162  [1, 2, 3]      0.000043       False  \n",
       "7   0.708847  [1, 2, 3]      0.000042       False  \n",
       "8   0.482812  [1, 2, 3]      0.000043       False  \n",
       "9   0.213994  [1, 2, 3]      0.000043       False  \n",
       "10  0.310383  [1, 2, 3]      0.000040       False  \n",
       "11  0.128175  [1, 2, 3]      0.000038       False  \n",
       "12  0.334416  [1, 2, 3]      0.000052       False  \n",
       "13  0.508684  [1, 2, 3]      0.000094       False  \n",
       "14  0.452709  [1, 2, 3]      0.000041       False  \n",
       "15  0.470961  [1, 2, 3]      0.000039       False  \n",
       "16  0.422013  [1, 2, 3]      0.000059       False  \n",
       "17  0.155377  [1, 2, 3]      0.000049       False  \n",
       "18  0.112840  [1, 2, 3]      0.000038       False  \n",
       "19  0.089918  [1, 2, 3]      0.000078       False  \n",
       "20  0.188683  [1, 2, 3]      0.000042       False  \n",
       "21  0.274027  [1, 2, 3]      0.000036       False  \n",
       "22  0.482785  [1, 2, 3]      0.000041       False  \n",
       "23  0.491473  [1, 2, 3]      0.000034       False  \n",
       "24  0.485776  [1, 2, 3]      0.000039       False  \n",
       "25  0.126888  [1, 2, 3]      0.000038       False  \n",
       "26  0.489537  [1, 2, 3]      0.000037       False  \n",
       "27  0.132470  [1, 2, 3]      0.000041       False  \n",
       "28  0.180273  [1, 2, 3]      0.000038       False  \n",
       "29  3.997142  [1, 2, 3]      0.000039       False  \n",
       "30  0.100778  [1, 2, 3]      0.000040       False  \n",
       "31  2.280936  [1, 2, 3]      0.000038       False  \n",
       "32  3.304429  [1, 2, 3]      0.000045       False  \n",
       "33  0.148058  [1, 2, 3]      0.000041       False  "
      ]
     },
     "execution_count": 3,
     "metadata": {},
     "output_type": "execute_result"
    }
   ],
   "source": [
    "X.generator.data"
   ]
  },
  {
   "cell_type": "markdown",
   "metadata": {
    "collapsed": false,
    "pycharm": {
     "name": "#%% md\n"
    }
   },
   "source": [
    "## plot results\n"
   ]
  },
  {
   "cell_type": "code",
   "execution_count": 4,
   "metadata": {
    "collapsed": false,
    "execution": {
     "iopub.execute_input": "2022-08-18T21:09:02.851761Z",
     "iopub.status.busy": "2022-08-18T21:09:02.850390Z",
     "iopub.status.idle": "2022-08-18T21:09:03.787456Z",
     "shell.execute_reply": "2022-08-18T21:09:03.786646Z"
    },
    "pycharm": {
     "name": "#%%\n"
    }
   },
   "outputs": [
    {
     "data": {
      "image/png": "[encoded data removed]",
      "text/plain": [
       "<Figure size 640x480 with 1 Axes>"
      ]
     },
     "metadata": {},
     "output_type": "display_data"
    }
   ],
   "source": [
    "import matplotlib.pyplot as plt\n",
    "\n",
    "fig, ax = plt.subplots()\n",
    "\n",
    "theta = np.linspace(0, np.pi / 2)\n",
    "r = np.sqrt(1 + 0.1 * np.cos(16 * theta))\n",
    "x_1 = r * np.sin(theta)\n",
    "x_2_lower = r * np.cos(theta)\n",
    "x_2_upper = (0.5 - (x_1 - 0.5) ** 2) ** 0.5 + 0.5\n",
    "\n",
    "z = np.zeros_like(x_1)\n",
    "\n",
    "# ax2.plot(x_1, x_2_lower,'r')\n",
    "ax.fill_between(x_1, z, x_2_lower, fc=\"white\")\n",
    "circle = plt.Circle(\n",
    "    (0.5, 0.5), 0.5 ** 0.5, color=\"r\", alpha=0.25, zorder=0, label=\"Valid Region\"\n",
    ")\n",
    "ax.add_patch(circle)\n",
    "history = pd.concat(\n",
    "    [X.data, tnk_vocs.feasibility_data(X.data)], axis=1, ignore_index=False\n",
    ")\n",
    "\n",
    "\n",
    "ax.plot(*history[[\"x1\", \"x2\"]][history[\"feasible\"]].to_numpy().T, \".C1\")\n",
    "ax.plot(*history[[\"x1\", \"x2\"]][~history[\"feasible\"]].to_numpy().T, \".C2\")\n",
    "\n",
    "ax.set_xlim(0, 3.14)\n",
    "ax.set_ylim(0, 3.14)\n",
    "ax.set_xlabel(\"x1\")\n",
    "ax.set_ylabel(\"x2\")\n",
    "ax.set_aspect(\"equal\")"
   ]
  },
  {
   "cell_type": "markdown",
   "metadata": {
    "collapsed": false,
    "pycharm": {
     "name": "#%% md\n"
    }
   },
   "source": [
    "### Plot path through input space"
   ]
  },
  {
   "cell_type": "code",
   "execution_count": 5,
   "metadata": {
    "collapsed": false,
    "execution": {
     "iopub.execute_input": "2022-08-18T21:09:03.791717Z",
     "iopub.status.busy": "2022-08-18T21:09:03.791177Z",
     "iopub.status.idle": "2022-08-18T21:09:03.971540Z",
     "shell.execute_reply": "2022-08-18T21:09:03.970740Z"
    },
    "pycharm": {
     "name": "#%%\n"
    }
   },
   "outputs": [
    {
     "data": {
      "image/png": "[encoded data removed]",
      "text/plain": [
       "<Figure size 640x480 with 1 Axes>"
      ]
     },
     "metadata": {},
     "output_type": "display_data"
    }
   ],
   "source": [
    "ax = history.plot(\"x1\", \"x2\")\n",
    "ax.set_ylim(0, 3.14)\n",
    "ax.set_xlim(0, 3.14)\n",
    "ax.set_aspect(\"equal\")"
   ]
  },
  {
   "cell_type": "code",
   "execution_count": 6,
   "metadata": {
    "collapsed": false,
    "execution": {
     "iopub.execute_input": "2022-08-18T21:09:03.975242Z",
     "iopub.status.busy": "2022-08-18T21:09:03.974779Z",
     "iopub.status.idle": "2022-08-18T21:09:21.142069Z",
     "shell.execute_reply": "2022-08-18T21:09:21.141122Z"
    },
    "pycharm": {
     "name": "#%%\n"
    }
   },
   "outputs": [
    {
     "name": "stderr",
     "output_type": "stream",
     "text": [
      "/usr/share/miniconda/envs/xopt-dev/lib/python3.9/site-packages/torch/functional.py:478: UserWarning: torch.meshgrid: in an upcoming release, it will be required to pass the indexing argument. (Triggered internally at  /home/conda/feedstock_root/build_artifacts/pytorch-recipe_1660136119739/work/aten/src/ATen/native/TensorShape.cpp:2894.)\n",
      "  return _VF.meshgrid(tensors, **kwargs)  # type: ignore[attr-defined]\n"
     ]
    },
    {
     "name": "stdout",
     "output_type": "stream",
     "text": [
      "[[0.72830604 0.70594643]]\n"
     ]
    },
    {
     "data": {
      "text/plain": [
       "[<matplotlib.lines.Line2D at 0x7f6e87733ca0>]"
      ]
     },
     "execution_count": 6,
     "metadata": {},
     "output_type": "execute_result"
    },
    {
     "data": {
      "image/png": "[encoded data removed]",
      "text/plain": [
       "<Figure size 640x480 with 2 Axes>"
      ]
     },
     "metadata": {},
     "output_type": "display_data"
    },
    {
     "data": {
      "image/png": "[encoded data removed]",
      "text/plain": [
       "<Figure size 640x480 with 2 Axes>"
      ]
     },
     "metadata": {},
     "output_type": "display_data"
    }
   ],
   "source": [
    "# plot the acquisition function\n",
    "from xopt.generators.bayesian.utils import feasibility\n",
    "\n",
    "bounds = generator.vocs.bounds\n",
    "model = generator.model\n",
    "\n",
    "# create mesh\n",
    "n = 200\n",
    "x = torch.linspace(*bounds.T[0], n)\n",
    "y = torch.linspace(*bounds.T[1], n)\n",
    "xx, yy = torch.meshgrid(x, y)\n",
    "pts = torch.hstack([ele.reshape(-1, 1) for ele in (xx, yy)]).double()\n",
    "\n",
    "acq_func = generator.get_acquisition(model)\n",
    "with torch.no_grad():\n",
    "    acq_pts = pts.unsqueeze(1)\n",
    "    acq = acq_func(acq_pts)\n",
    "\n",
    "    fig, ax = plt.subplots()\n",
    "    c = ax.pcolor(xx, yy, acq.reshape(n, n), cmap=\"Blues\")\n",
    "    fig.colorbar(c)\n",
    "    ax.set_title(\"Acquisition function\")\n",
    "\n",
    "    ax.plot(*history[[\"x1\", \"x2\"]][history[\"feasible\"]].to_numpy().T, \".C1\")\n",
    "    ax.plot(*history[[\"x1\", \"x2\"]][~history[\"feasible\"]].to_numpy().T, \".C2\")\n",
    "\n",
    "    ax.plot(*history[[\"x1\", \"x2\"]].to_numpy()[-1].T, \"+\")\n",
    "\n",
    "    feas = feasibility(pts.unsqueeze(1), model, generator.sampler, tnk_vocs).flatten()\n",
    "\n",
    "    fig2, ax2 = plt.subplots()\n",
    "    c = ax2.pcolor(xx, yy, feas.reshape(n, n))\n",
    "    fig2.colorbar(c)\n",
    "    ax2.set_title(\"Feasible Region\")\n",
    "\n",
    "candidate = generator.generate(1)\n",
    "print(candidate[[\"x1\", \"x2\"]].to_numpy())\n",
    "ax.plot(*candidate[[\"x1\", \"x2\"]].to_numpy()[0], \"o\")"
   ]
  },
  {
   "cell_type": "code",
   "execution_count": 7,
   "metadata": {
    "collapsed": false,
    "execution": {
     "iopub.execute_input": "2022-08-18T21:09:21.190236Z",
     "iopub.status.busy": "2022-08-18T21:09:21.189887Z",
     "iopub.status.idle": "2022-08-18T21:09:23.201825Z",
     "shell.execute_reply": "2022-08-18T21:09:23.200935Z"
    },
    "pycharm": {
     "name": "#%%\n"
    }
   },
   "outputs": [
    {
     "name": "stdout",
     "output_type": "stream",
     "text": [
      "CPU times: user 3.83 s, sys: 163 ms, total: 3.99 s\n",
      "Wall time: 2.01 s\n"
     ]
    }
   ],
   "source": [
    "%%time\n",
    "candidate = generator.generate(1)"
   ]
  }
 ],
 "metadata": {
  "interpreter": {
   "hash": "72034539424920dfb606fe3b820b3f27dca0cbf1c69938110810ec4641e275b1"
  },
  "kernelspec": {
   "display_name": "Python 3 (ipykernel)",
   "language": "python",
   "name": "python3"
  },
  "language_info": {
   "codemirror_mode": {
    "name": "ipython",
    "version": 3
   },
   "file_extension": ".py",
   "mimetype": "text/x-python",
   "name": "python",
   "nbconvert_exporter": "python",
   "pygments_lexer": "ipython3",
   "version": "3.9.13"
  }
 },
 "nbformat": 4,
 "nbformat_minor": 4
}
