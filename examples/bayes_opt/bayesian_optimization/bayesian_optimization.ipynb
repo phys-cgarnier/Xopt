{
 "cells": [
  {
   "cell_type": "markdown",
   "metadata": {
    "pycharm": {
     "name": "#%% md\n"
    }
   },
   "source": [
    "# Upper Confidence Bound BO\n"
   ]
  },
  {
   "cell_type": "code",
   "execution_count": 1,
   "metadata": {
    "execution": {
     "iopub.execute_input": "2022-08-05T17:54:37.978354Z",
     "iopub.status.busy": "2022-08-05T17:54:37.977772Z",
     "iopub.status.idle": "2022-08-05T17:54:40.671062Z",
     "shell.execute_reply": "2022-08-05T17:54:40.670311Z"
    },
    "pycharm": {
     "name": "#%%\n"
    }
   },
   "outputs": [],
   "source": [
    "# Import the class\n",
    "import torch\n",
    "import yaml\n",
    "\n",
    "import matplotlib.pyplot as plt\n",
    "from xopt import Xopt"
   ]
  },
  {
   "cell_type": "markdown",
   "metadata": {
    "collapsed": false,
    "pycharm": {
     "name": "#%% md\n"
    }
   },
   "source": [
    "## Customizing the UpperConfidenceBound Generator\n",
    "First lets examine the possible options that we can specify for the\n",
    "UpperConfidenceBound generator. We can use these keys to customize optimization."
   ]
  },
  {
   "cell_type": "code",
   "execution_count": 2,
   "metadata": {
    "collapsed": false,
    "execution": {
     "iopub.execute_input": "2022-08-05T17:54:40.675456Z",
     "iopub.status.busy": "2022-08-05T17:54:40.674944Z",
     "iopub.status.idle": "2022-08-05T17:54:40.681494Z",
     "shell.execute_reply": "2022-08-05T17:54:40.680858Z"
    },
    "pycharm": {
     "name": "#%%\n"
    }
   },
   "outputs": [
    {
     "name": "stdout",
     "output_type": "stream",
     "text": [
      "acq:\n",
      "  beta: 2.0\n",
      "  monte_carlo_samples: 128\n",
      "  proximal_lengthscales: null\n",
      "model:\n",
      "  use_conservative_prior_lengthscale: false\n",
      "  use_conservative_prior_mean: false\n",
      "  use_low_noise_prior: false\n",
      "n_initial: 3\n",
      "optim:\n",
      "  num_restarts: 5\n",
      "  raw_samples: 20\n",
      "  sequential: true\n",
      "  use_nearby_initial_points: true\n",
      "\n"
     ]
    }
   ],
   "source": [
    "from xopt.utils import get_generator_and_defaults\n",
    "gen, options = get_generator_and_defaults(\"upper_confidence_bound\")\n",
    "print(yaml.dump(options.dict()))"
   ]
  },
  {
   "cell_type": "markdown",
   "metadata": {
    "pycharm": {
     "name": "#%% md\n"
    }
   },
   "source": [
    "The `Xopt` object can be instantiated from a JSON or YAML file, or a dict, with the proper structure.\n",
    "\n",
    "Here we will make one"
   ]
  },
  {
   "cell_type": "code",
   "execution_count": 3,
   "metadata": {
    "execution": {
     "iopub.execute_input": "2022-08-05T17:54:40.720945Z",
     "iopub.status.busy": "2022-08-05T17:54:40.720345Z",
     "iopub.status.idle": "2022-08-05T17:54:40.726317Z",
     "shell.execute_reply": "2022-08-05T17:54:40.725621Z"
    },
    "pycharm": {
     "name": "#%%\n"
    }
   },
   "outputs": [],
   "source": [
    "# Make a proper input file.\n",
    "YAML = \"\"\"\n",
    "xopt: \n",
    "    dump_file: dump.yaml\n",
    "generator:\n",
    "  name: upper_confidence_bound\n",
    "  n_initial: 2\n",
    "  acq:\n",
    "    beta: 0.1\n",
    "\n",
    "evaluator:\n",
    "  function: xopt.resources.test_functions.sinusoid_1d.evaluate_sinusoid\n",
    "\n",
    "vocs:\n",
    "  variables:\n",
    "    x1: [0, 6.28]\n",
    "  objectives:\n",
    "    y1: 'MINIMIZE'\n",
    "\"\"\"\n",
    "config = yaml.safe_load(YAML)"
   ]
  },
  {
   "cell_type": "code",
   "execution_count": 4,
   "metadata": {
    "execution": {
     "iopub.execute_input": "2022-08-05T17:54:40.729070Z",
     "iopub.status.busy": "2022-08-05T17:54:40.728848Z",
     "iopub.status.idle": "2022-08-05T17:54:40.750468Z",
     "shell.execute_reply": "2022-08-05T17:54:40.749808Z"
    },
    "pycharm": {
     "name": "#%%\n"
    }
   },
   "outputs": [
    {
     "data": {
      "text/plain": [
       "\n",
       "            Xopt\n",
       "________________________________\n",
       "Version: 0+untagged.1.gc250f5f\n",
       "Data size: 0\n",
       "Config as YAML:\n",
       "xopt: {asynch: false, strict: false, dump_file: dump.yaml, max_evaluations: null}\n",
       "generator:\n",
       "  name: upper_confidence_bound\n",
       "  optim: {num_restarts: 5, raw_samples: 20, sequential: true, use_nearby_initial_points: true}\n",
       "  acq: {proximal_lengthscales: null, monte_carlo_samples: 128, beta: 0.1}\n",
       "  model: {use_conservative_prior_lengthscale: false, use_conservative_prior_mean: false,\n",
       "    use_low_noise_prior: false}\n",
       "  n_initial: 2\n",
       "evaluator:\n",
       "  function: xopt.resources.test_functions.sinusoid_1d.evaluate_sinusoid\n",
       "  max_workers: 1\n",
       "  function_kwargs: {}\n",
       "vocs:\n",
       "  variables:\n",
       "    x1: [0.0, 6.28]\n",
       "  constraints: {}\n",
       "  objectives: {y1: MINIMIZE}\n",
       "  constants: {}\n",
       "  linked_variables: {}\n"
      ]
     },
     "execution_count": 4,
     "metadata": {},
     "output_type": "execute_result"
    }
   ],
   "source": [
    "X = Xopt(config=config)\n",
    "X"
   ]
  },
  {
   "cell_type": "markdown",
   "metadata": {
    "pycharm": {
     "name": "#%% md\n"
    }
   },
   "source": [
    "## Run Optimization"
   ]
  },
  {
   "cell_type": "code",
   "execution_count": 5,
   "metadata": {
    "execution": {
     "iopub.execute_input": "2022-08-05T17:54:40.753954Z",
     "iopub.status.busy": "2022-08-05T17:54:40.753721Z",
     "iopub.status.idle": "2022-08-05T17:54:42.255172Z",
     "shell.execute_reply": "2022-08-05T17:54:42.254555Z"
    },
    "pycharm": {
     "name": "#%%\n"
    }
   },
   "outputs": [
    {
     "name": "stdout",
     "output_type": "stream",
     "text": [
      "0\n",
      "1\n"
     ]
    },
    {
     "name": "stderr",
     "output_type": "stream",
     "text": [
      "/usr/share/miniconda/envs/xopt-dev/lib/python3.9/site-packages/gpytorch/lazy/lazy_tensor.py:1810: UserWarning: torch.triangular_solve is deprecated in favor of torch.linalg.solve_triangularand will be removed in a future PyTorch release.\n",
      "torch.linalg.solve_triangular has its arguments reversed and does not return a copy of one of the inputs.\n",
      "X = torch.triangular_solve(B, A).solution\n",
      "should be replaced with\n",
      "X = torch.linalg.solve_triangular(A, B). (Triggered internally at  /home/conda/feedstock_root/build_artifacts/pytorch-recipe_1658220911323/work/aten/src/ATen/native/BatchLinearAlgebra.cpp:2183.)\n",
      "  Linv = torch.triangular_solve(Eye, L, upper=False).solution\n"
     ]
    },
    {
     "name": "stdout",
     "output_type": "stream",
     "text": [
      "2\n",
      "3\n",
      "4\n"
     ]
    }
   ],
   "source": [
    "for i in range(5):\n",
    "    print(i)\n",
    "    X.step()"
   ]
  },
  {
   "cell_type": "markdown",
   "metadata": {
    "collapsed": false,
    "pycharm": {
     "name": "#%% md\n"
    }
   },
   "source": [
    "## View output data"
   ]
  },
  {
   "cell_type": "code",
   "execution_count": 6,
   "metadata": {
    "collapsed": false,
    "execution": {
     "iopub.execute_input": "2022-08-05T17:54:42.258663Z",
     "iopub.status.busy": "2022-08-05T17:54:42.258414Z",
     "iopub.status.idle": "2022-08-05T17:54:42.269060Z",
     "shell.execute_reply": "2022-08-05T17:54:42.268438Z"
    },
    "pycharm": {
     "name": "#%%\n"
    }
   },
   "outputs": [
    {
     "data": {
      "text/html": [
       "<div>\n",
       "<style scoped>\n",
       "    .dataframe tbody tr th:only-of-type {\n",
       "        vertical-align: middle;\n",
       "    }\n",
       "\n",
       "    .dataframe tbody tr th {\n",
       "        vertical-align: top;\n",
       "    }\n",
       "\n",
       "    .dataframe thead th {\n",
       "        text-align: right;\n",
       "    }\n",
       "</style>\n",
       "<table border=\"1\" class=\"dataframe\">\n",
       "  <thead>\n",
       "    <tr style=\"text-align: right;\">\n",
       "      <th></th>\n",
       "      <th>x1</th>\n",
       "      <th>y1</th>\n",
       "      <th>c1</th>\n",
       "      <th>xopt_error</th>\n",
       "      <th>xopt_error_str</th>\n",
       "    </tr>\n",
       "  </thead>\n",
       "  <tbody>\n",
       "    <tr>\n",
       "      <th>1</th>\n",
       "      <td>4.597498</td>\n",
       "      <td>-0.993407</td>\n",
       "      <td>-18.740411</td>\n",
       "      <td>False</td>\n",
       "      <td></td>\n",
       "    </tr>\n",
       "    <tr>\n",
       "      <th>2</th>\n",
       "      <td>4.969975</td>\n",
       "      <td>-0.967008</td>\n",
       "      <td>-19.400298</td>\n",
       "      <td>False</td>\n",
       "      <td></td>\n",
       "    </tr>\n",
       "    <tr>\n",
       "      <th>3</th>\n",
       "      <td>2.522526</td>\n",
       "      <td>0.580275</td>\n",
       "      <td>-4.626314</td>\n",
       "      <td>False</td>\n",
       "      <td></td>\n",
       "    </tr>\n",
       "    <tr>\n",
       "      <th>4</th>\n",
       "      <td>4.998519</td>\n",
       "      <td>-0.959343</td>\n",
       "      <td>-19.512225</td>\n",
       "      <td>False</td>\n",
       "      <td></td>\n",
       "    </tr>\n",
       "    <tr>\n",
       "      <th>5</th>\n",
       "      <td>4.717856</td>\n",
       "      <td>-0.999985</td>\n",
       "      <td>-18.500583</td>\n",
       "      <td>False</td>\n",
       "      <td></td>\n",
       "    </tr>\n",
       "    <tr>\n",
       "      <th>6</th>\n",
       "      <td>4.710752</td>\n",
       "      <td>-0.999999</td>\n",
       "      <td>-18.500052</td>\n",
       "      <td>False</td>\n",
       "      <td></td>\n",
       "    </tr>\n",
       "  </tbody>\n",
       "</table>\n",
       "</div>"
      ],
      "text/plain": [
       "         x1        y1         c1  xopt_error xopt_error_str\n",
       "1  4.597498 -0.993407 -18.740411       False               \n",
       "2  4.969975 -0.967008 -19.400298       False               \n",
       "3  2.522526  0.580275  -4.626314       False               \n",
       "4  4.998519 -0.959343 -19.512225       False               \n",
       "5  4.717856 -0.999985 -18.500583       False               \n",
       "6  4.710752 -0.999999 -18.500052       False               "
      ]
     },
     "execution_count": 6,
     "metadata": {},
     "output_type": "execute_result"
    }
   ],
   "source": [
    "X.data"
   ]
  },
  {
   "cell_type": "markdown",
   "metadata": {
    "collapsed": false,
    "pycharm": {
     "name": "#%% md\n"
    }
   },
   "source": [
    "## Visualize model used by upper confidence bound\n",
    "Models are kept in a list, in this case that list has one element, the model\n",
    "created for the objective `y1`.\n"
   ]
  },
  {
   "cell_type": "code",
   "execution_count": 7,
   "metadata": {
    "collapsed": false,
    "execution": {
     "iopub.execute_input": "2022-08-05T17:54:42.273619Z",
     "iopub.status.busy": "2022-08-05T17:54:42.272529Z",
     "iopub.status.idle": "2022-08-05T17:54:42.404016Z",
     "shell.execute_reply": "2022-08-05T17:54:42.403434Z"
    },
    "pycharm": {
     "name": "#%%\n"
    }
   },
   "outputs": [
    {
     "data": {
      "text/plain": [
       "Text(0, 0.5, 'y1')"
      ]
     },
     "execution_count": 7,
     "metadata": {},
     "output_type": "execute_result"
    },
    {
     "data": {
      "image/png": "[encoded data removed]",
      "text/plain": [
       "<Figure size 432x288 with 1 Axes>"
      ]
     },
     "metadata": {
      "needs_background": "light"
     },
     "output_type": "display_data"
    }
   ],
   "source": [
    "model = X.generator.model\n",
    "bounds = X.vocs.bounds\n",
    "\n",
    "test_x = torch.linspace(*bounds.flatten(), 100).double()\n",
    "\n",
    "train_x = torch.tensor(X.data[\"x1\"].to_numpy())\n",
    "train_y = torch.tensor(X.data[\"y1\"].to_numpy())\n",
    "\n",
    "fig, ax = plt.subplots()\n",
    "with torch.no_grad():\n",
    "    post = model.models[0].posterior(test_x.reshape(-1,1,1))\n",
    "    mean = post.mean.flatten()\n",
    "    std = post.variance.sqrt().flatten()\n",
    "\n",
    "    lower = mean - std\n",
    "    upper = mean + std\n",
    "\n",
    "ax.plot(test_x, mean)\n",
    "ax.fill_between(test_x, lower, upper, alpha=0.5)\n",
    "ax.plot(\n",
    "    train_x.flatten(),\n",
    "    train_y.flatten(),\n",
    "    \"+\"\n",
    ")\n",
    "ax.set_xlabel(\"x1\")\n",
    "ax.set_ylabel(\"y1\")\n"
   ]
  },
  {
   "cell_type": "code",
   "execution_count": 8,
   "metadata": {
    "collapsed": false,
    "execution": {
     "iopub.execute_input": "2022-08-05T17:54:42.408710Z",
     "iopub.status.busy": "2022-08-05T17:54:42.407567Z",
     "iopub.status.idle": "2022-08-05T17:54:42.569188Z",
     "shell.execute_reply": "2022-08-05T17:54:42.567899Z"
    },
    "pycharm": {
     "name": "#%%\n"
    }
   },
   "outputs": [],
   "source": [
    "# Cleanup\n",
    "!rm dump.yaml"
   ]
  }
 ],
 "metadata": {
  "kernelspec": {
   "display_name": "Python 3 (ipykernel)",
   "language": "python",
   "name": "python3"
  },
  "language_info": {
   "codemirror_mode": {
    "name": "ipython",
    "version": 3
   },
   "file_extension": ".py",
   "mimetype": "text/x-python",
   "name": "python",
   "nbconvert_exporter": "python",
   "pygments_lexer": "ipython3",
   "version": "3.9.13"
  }
 },
 "nbformat": 4,
 "nbformat_minor": 4
}
