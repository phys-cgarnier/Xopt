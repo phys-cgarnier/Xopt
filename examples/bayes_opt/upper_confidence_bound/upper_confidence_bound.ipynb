{
 "cells": [
  {
   "cell_type": "markdown",
   "metadata": {
    "pycharm": {
     "name": "#%% md\n"
    }
   },
   "source": [
    "# Upper Confidence Bound BO\n"
   ]
  },
  {
   "cell_type": "code",
   "execution_count": 1,
   "metadata": {
    "execution": {
     "iopub.execute_input": "2022-09-22T16:21:28.105740Z",
     "iopub.status.busy": "2022-09-22T16:21:28.105093Z",
     "iopub.status.idle": "2022-09-22T16:21:30.095212Z",
     "shell.execute_reply": "2022-09-22T16:21:30.094506Z"
    },
    "pycharm": {
     "name": "#%%\n"
    }
   },
   "outputs": [],
   "source": [
    "# Import the class\n",
    "import torch\n",
    "import yaml\n",
    "\n",
    "import matplotlib.pyplot as plt\n",
    "from xopt import Xopt"
   ]
  },
  {
   "cell_type": "markdown",
   "metadata": {
    "collapsed": false,
    "pycharm": {
     "name": "#%% md\n"
    }
   },
   "source": [
    "## Customizing the UpperConfidenceBound Generator\n",
    "First lets examine the possible options that we can specify for the\n",
    "UpperConfidenceBound generator. We can use these keys to customize optimization."
   ]
  },
  {
   "cell_type": "code",
   "execution_count": 2,
   "metadata": {
    "collapsed": false,
    "execution": {
     "iopub.execute_input": "2022-09-22T16:21:30.100174Z",
     "iopub.status.busy": "2022-09-22T16:21:30.099538Z",
     "iopub.status.idle": "2022-09-22T16:21:30.106533Z",
     "shell.execute_reply": "2022-09-22T16:21:30.106011Z"
    },
    "pycharm": {
     "name": "#%%\n"
    }
   },
   "outputs": [
    {
     "name": "stdout",
     "output_type": "stream",
     "text": [
      "acq:\n",
      "  beta: 2.0\n",
      "  monte_carlo_samples: 128\n",
      "  proximal_lengthscales: null\n",
      "  use_transformed_proximal_weights: true\n",
      "model:\n",
      "  function: !!python/name:xopt.generators.bayesian.models.standard.create_standard_model ''\n",
      "  kwargs:\n",
      "    use_conservative_prior_lengthscale: false\n",
      "    use_conservative_prior_mean: false\n",
      "    use_low_noise_prior: false\n",
      "n_initial: 3\n",
      "optim:\n",
      "  max_travel_distances: null\n",
      "  num_restarts: 5\n",
      "  raw_samples: 20\n",
      "  sequential: true\n",
      "  use_nearby_initial_points: true\n",
      "\n"
     ]
    }
   ],
   "source": [
    "from xopt.generators import get_generator_and_defaults\n",
    "gen, options = get_generator_and_defaults(\"upper_confidence_bound\")\n",
    "print(yaml.dump(options.dict()))"
   ]
  },
  {
   "cell_type": "markdown",
   "metadata": {
    "pycharm": {
     "name": "#%% md\n"
    }
   },
   "source": [
    "The `Xopt` object can be instantiated from a JSON or YAML file, or a dict, with the proper structure.\n",
    "\n",
    "Here we will make one"
   ]
  },
  {
   "cell_type": "code",
   "execution_count": 3,
   "metadata": {
    "execution": {
     "iopub.execute_input": "2022-09-22T16:21:30.145370Z",
     "iopub.status.busy": "2022-09-22T16:21:30.144834Z",
     "iopub.status.idle": "2022-09-22T16:21:30.150949Z",
     "shell.execute_reply": "2022-09-22T16:21:30.150244Z"
    },
    "pycharm": {
     "name": "#%%\n"
    }
   },
   "outputs": [],
   "source": [
    "# Make a proper input file.\n",
    "YAML = \"\"\"\n",
    "xopt: \n",
    "    dump_file: dump.yaml\n",
    "generator:\n",
    "  name: upper_confidence_bound\n",
    "  n_initial: 2\n",
    "  acq:\n",
    "    beta: 0.1\n",
    "\n",
    "evaluator:\n",
    "  function: xopt.resources.test_functions.sinusoid_1d.evaluate_sinusoid\n",
    "\n",
    "vocs:\n",
    "  variables:\n",
    "    x1: [0, 6.28]\n",
    "  objectives:\n",
    "    y1: 'MINIMIZE'\n",
    "\"\"\"\n",
    "config = yaml.safe_load(YAML)"
   ]
  },
  {
   "cell_type": "code",
   "execution_count": 4,
   "metadata": {
    "execution": {
     "iopub.execute_input": "2022-09-22T16:21:30.154120Z",
     "iopub.status.busy": "2022-09-22T16:21:30.153551Z",
     "iopub.status.idle": "2022-09-22T16:21:30.177860Z",
     "shell.execute_reply": "2022-09-22T16:21:30.177196Z"
    },
    "pycharm": {
     "name": "#%%\n"
    }
   },
   "outputs": [
    {
     "data": {
      "text/plain": [
       "\n",
       "            Xopt\n",
       "________________________________\n",
       "Version: 0+untagged.1.g30c7e5b\n",
       "Data size: 0\n",
       "Config as YAML:\n",
       "xopt: {asynch: false, strict: false, dump_file: dump.yaml, max_evaluations: null}\n",
       "generator:\n",
       "  name: upper_confidence_bound\n",
       "  optim: {num_restarts: 5, raw_samples: 20, sequential: true, use_nearby_initial_points: true,\n",
       "    max_travel_distances: null}\n",
       "  acq: {proximal_lengthscales: null, use_transformed_proximal_weights: true, monte_carlo_samples: 128,\n",
       "    beta: 0.1}\n",
       "  model:\n",
       "    function: xopt.generators.bayesian.models.standard.create_standard_model\n",
       "    kwargs: {use_conservative_prior_lengthscale: false, use_conservative_prior_mean: false,\n",
       "      use_low_noise_prior: false}\n",
       "  n_initial: 2\n",
       "evaluator:\n",
       "  function: xopt.resources.test_functions.sinusoid_1d.evaluate_sinusoid\n",
       "  max_workers: 1\n",
       "  function_kwargs: {}\n",
       "  vectorized: false\n",
       "vocs:\n",
       "  variables:\n",
       "    x1: [0.0, 6.28]\n",
       "  constraints: {}\n",
       "  objectives: {y1: MINIMIZE}\n",
       "  constants: {}\n",
       "  linked_variables: {}\n"
      ]
     },
     "execution_count": 4,
     "metadata": {},
     "output_type": "execute_result"
    }
   ],
   "source": [
    "X = Xopt(config=config)\n",
    "X"
   ]
  },
  {
   "cell_type": "markdown",
   "metadata": {
    "pycharm": {
     "name": "#%% md\n"
    }
   },
   "source": [
    "## Run Optimization"
   ]
  },
  {
   "cell_type": "code",
   "execution_count": 5,
   "metadata": {
    "execution": {
     "iopub.execute_input": "2022-09-22T16:21:30.181209Z",
     "iopub.status.busy": "2022-09-22T16:21:30.180974Z",
     "iopub.status.idle": "2022-09-22T16:21:31.399949Z",
     "shell.execute_reply": "2022-09-22T16:21:31.399294Z"
    },
    "pycharm": {
     "name": "#%%\n"
    }
   },
   "outputs": [
    {
     "name": "stdout",
     "output_type": "stream",
     "text": [
      "0\n",
      "1\n",
      "2\n",
      "3\n",
      "4\n"
     ]
    }
   ],
   "source": [
    "for i in range(5):\n",
    "    print(i)\n",
    "    X.step()"
   ]
  },
  {
   "cell_type": "markdown",
   "metadata": {
    "collapsed": false,
    "pycharm": {
     "name": "#%% md\n"
    }
   },
   "source": [
    "## View output data"
   ]
  },
  {
   "cell_type": "code",
   "execution_count": 6,
   "metadata": {
    "collapsed": false,
    "execution": {
     "iopub.execute_input": "2022-09-22T16:21:31.404080Z",
     "iopub.status.busy": "2022-09-22T16:21:31.403635Z",
     "iopub.status.idle": "2022-09-22T16:21:31.414258Z",
     "shell.execute_reply": "2022-09-22T16:21:31.413621Z"
    },
    "pycharm": {
     "name": "#%%\n"
    }
   },
   "outputs": [
    {
     "data": {
      "text/html": [
       "<div>\n",
       "<style scoped>\n",
       "    .dataframe tbody tr th:only-of-type {\n",
       "        vertical-align: middle;\n",
       "    }\n",
       "\n",
       "    .dataframe tbody tr th {\n",
       "        vertical-align: top;\n",
       "    }\n",
       "\n",
       "    .dataframe thead th {\n",
       "        text-align: right;\n",
       "    }\n",
       "</style>\n",
       "<table border=\"1\" class=\"dataframe\">\n",
       "  <thead>\n",
       "    <tr style=\"text-align: right;\">\n",
       "      <th></th>\n",
       "      <th>x1</th>\n",
       "      <th>y1</th>\n",
       "      <th>c1</th>\n",
       "      <th>xopt_runtime</th>\n",
       "      <th>xopt_error</th>\n",
       "    </tr>\n",
       "  </thead>\n",
       "  <tbody>\n",
       "    <tr>\n",
       "      <th>1</th>\n",
       "      <td>2.927556</td>\n",
       "      <td>0.212407</td>\n",
       "      <td>-6.378563</td>\n",
       "      <td>0.000022</td>\n",
       "      <td>False</td>\n",
       "    </tr>\n",
       "    <tr>\n",
       "      <th>2</th>\n",
       "      <td>5.818035</td>\n",
       "      <td>-0.448557</td>\n",
       "      <td>-13.871361</td>\n",
       "      <td>0.000004</td>\n",
       "      <td>False</td>\n",
       "    </tr>\n",
       "    <tr>\n",
       "      <th>3</th>\n",
       "      <td>6.280000</td>\n",
       "      <td>-0.003185</td>\n",
       "      <td>-9.554148</td>\n",
       "      <td>0.000015</td>\n",
       "      <td>False</td>\n",
       "    </tr>\n",
       "    <tr>\n",
       "      <th>4</th>\n",
       "      <td>5.417960</td>\n",
       "      <td>-0.761241</td>\n",
       "      <td>-16.887740</td>\n",
       "      <td>0.000014</td>\n",
       "      <td>False</td>\n",
       "    </tr>\n",
       "    <tr>\n",
       "      <th>5</th>\n",
       "      <td>4.925949</td>\n",
       "      <td>-0.977283</td>\n",
       "      <td>-19.197022</td>\n",
       "      <td>0.000015</td>\n",
       "      <td>False</td>\n",
       "    </tr>\n",
       "    <tr>\n",
       "      <th>6</th>\n",
       "      <td>4.728889</td>\n",
       "      <td>-0.999864</td>\n",
       "      <td>-18.505302</td>\n",
       "      <td>0.000014</td>\n",
       "      <td>False</td>\n",
       "    </tr>\n",
       "  </tbody>\n",
       "</table>\n",
       "</div>"
      ],
      "text/plain": [
       "         x1        y1         c1  xopt_runtime  xopt_error\n",
       "1  2.927556  0.212407  -6.378563      0.000022       False\n",
       "2  5.818035 -0.448557 -13.871361      0.000004       False\n",
       "3  6.280000 -0.003185  -9.554148      0.000015       False\n",
       "4  5.417960 -0.761241 -16.887740      0.000014       False\n",
       "5  4.925949 -0.977283 -19.197022      0.000015       False\n",
       "6  4.728889 -0.999864 -18.505302      0.000014       False"
      ]
     },
     "execution_count": 6,
     "metadata": {},
     "output_type": "execute_result"
    }
   ],
   "source": [
    "X.data"
   ]
  },
  {
   "cell_type": "markdown",
   "metadata": {
    "collapsed": false,
    "pycharm": {
     "name": "#%% md\n"
    }
   },
   "source": [
    "## Visualize model used by upper confidence bound\n",
    "Models are kept in a list, in this case that list has one element, the model\n",
    "created for the objective `y1`.\n"
   ]
  },
  {
   "cell_type": "code",
   "execution_count": 7,
   "metadata": {
    "collapsed": false,
    "execution": {
     "iopub.execute_input": "2022-09-22T16:21:31.417215Z",
     "iopub.status.busy": "2022-09-22T16:21:31.416764Z",
     "iopub.status.idle": "2022-09-22T16:21:31.661131Z",
     "shell.execute_reply": "2022-09-22T16:21:31.660446Z"
    },
    "pycharm": {
     "name": "#%%\n"
    }
   },
   "outputs": [
    {
     "data": {
      "text/plain": [
       "Text(0, 0.5, 'y1')"
      ]
     },
     "execution_count": 7,
     "metadata": {},
     "output_type": "execute_result"
    },
    {
     "data": {
      "image/png": "[encoded data removed]",
      "text/plain": [
       "<Figure size 640x480 with 1 Axes>"
      ]
     },
     "metadata": {},
     "output_type": "display_data"
    }
   ],
   "source": [
    "model = X.generator.model\n",
    "bounds = X.vocs.bounds\n",
    "\n",
    "test_x = torch.linspace(*bounds.flatten(), 100).double()\n",
    "\n",
    "train_x = torch.tensor(X.data[\"x1\"].to_numpy())\n",
    "train_y = torch.tensor(X.data[\"y1\"].to_numpy())\n",
    "\n",
    "fig, ax = plt.subplots()\n",
    "with torch.no_grad():\n",
    "    post = model.models[0].posterior(test_x.reshape(-1,1,1))\n",
    "    mean = post.mean.flatten()\n",
    "    std = post.variance.sqrt().flatten()\n",
    "\n",
    "    lower = mean - std\n",
    "    upper = mean + std\n",
    "\n",
    "ax.plot(test_x, mean)\n",
    "ax.fill_between(test_x, lower, upper, alpha=0.5)\n",
    "ax.plot(\n",
    "    train_x.flatten(),\n",
    "    train_y.flatten(),\n",
    "    \"+\"\n",
    ")\n",
    "ax.set_xlabel(\"x1\")\n",
    "ax.set_ylabel(\"y1\")\n"
   ]
  },
  {
   "cell_type": "code",
   "execution_count": 8,
   "metadata": {
    "collapsed": false,
    "execution": {
     "iopub.execute_input": "2022-09-22T16:21:31.664598Z",
     "iopub.status.busy": "2022-09-22T16:21:31.664127Z",
     "iopub.status.idle": "2022-09-22T16:21:31.819995Z",
     "shell.execute_reply": "2022-09-22T16:21:31.818840Z"
    },
    "pycharm": {
     "name": "#%%\n"
    }
   },
   "outputs": [],
   "source": [
    "# Cleanup\n",
    "!rm dump.yaml"
   ]
  }
 ],
 "metadata": {
  "kernelspec": {
   "display_name": "Python 3 (ipykernel)",
   "language": "python",
   "name": "python3"
  },
  "language_info": {
   "codemirror_mode": {
    "name": "ipython",
    "version": 3
   },
   "file_extension": ".py",
   "mimetype": "text/x-python",
   "name": "python",
   "nbconvert_exporter": "python",
   "pygments_lexer": "ipython3",
   "version": "3.9.13"
  }
 },
 "nbformat": 4,
 "nbformat_minor": 4
}
