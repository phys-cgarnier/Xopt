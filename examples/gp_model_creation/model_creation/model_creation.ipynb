{
 "cells": [
  {
   "cell_type": "markdown",
   "metadata": {
    "collapsed": false
   },
   "source": [
    "## Building GP Models from Scratch\n",
    "Sometimes it is useful to build GP models outside the context of BO for data\n",
    "visualization and senativity measurements, ie. learned hyperparameters. Here we\n",
    "demonstrate how to build models from data outside of generators.\n",
    "\n",
    "For this we use the 3D rosenbrock function test function."
   ]
  },
  {
   "cell_type": "code",
   "execution_count": 1,
   "metadata": {
    "ExecuteTime": {
     "end_time": "2024-04-24T14:45:11.242373800Z",
     "start_time": "2024-04-24T14:45:05.850560800Z"
    },
    "collapsed": false,
    "execution": {
     "iopub.execute_input": "2024-04-24T15:53:02.686914Z",
     "iopub.status.busy": "2024-04-24T15:53:02.686382Z",
     "iopub.status.idle": "2024-04-24T15:53:04.272006Z",
     "shell.execute_reply": "2024-04-24T15:53:04.271303Z"
    }
   },
   "outputs": [
    {
     "data": {
      "text/html": [
       "<div>\n",
       "<style scoped>\n",
       "    .dataframe tbody tr th:only-of-type {\n",
       "        vertical-align: middle;\n",
       "    }\n",
       "\n",
       "    .dataframe tbody tr th {\n",
       "        vertical-align: top;\n",
       "    }\n",
       "\n",
       "    .dataframe thead th {\n",
       "        text-align: right;\n",
       "    }\n",
       "</style>\n",
       "<table border=\"1\" class=\"dataframe\">\n",
       "  <thead>\n",
       "    <tr style=\"text-align: right;\">\n",
       "      <th></th>\n",
       "      <th>x0</th>\n",
       "      <th>x1</th>\n",
       "      <th>x2</th>\n",
       "      <th>y</th>\n",
       "      <th>xopt_runtime</th>\n",
       "      <th>xopt_error</th>\n",
       "    </tr>\n",
       "  </thead>\n",
       "  <tbody>\n",
       "    <tr>\n",
       "      <th>0</th>\n",
       "      <td>1.354071</td>\n",
       "      <td>1.404392</td>\n",
       "      <td>1.370250</td>\n",
       "      <td>54.951223</td>\n",
       "      <td>0.000013</td>\n",
       "      <td>False</td>\n",
       "    </tr>\n",
       "    <tr>\n",
       "      <th>1</th>\n",
       "      <td>-1.687646</td>\n",
       "      <td>0.963304</td>\n",
       "      <td>-1.237670</td>\n",
       "      <td>831.481518</td>\n",
       "      <td>0.000005</td>\n",
       "      <td>False</td>\n",
       "    </tr>\n",
       "    <tr>\n",
       "      <th>2</th>\n",
       "      <td>1.143499</td>\n",
       "      <td>-0.865395</td>\n",
       "      <td>0.140172</td>\n",
       "      <td>512.741806</td>\n",
       "      <td>0.000004</td>\n",
       "      <td>False</td>\n",
       "    </tr>\n",
       "    <tr>\n",
       "      <th>3</th>\n",
       "      <td>-1.185364</td>\n",
       "      <td>-0.945877</td>\n",
       "      <td>-0.737252</td>\n",
       "      <td>827.587047</td>\n",
       "      <td>0.000003</td>\n",
       "      <td>False</td>\n",
       "    </tr>\n",
       "    <tr>\n",
       "      <th>4</th>\n",
       "      <td>1.935224</td>\n",
       "      <td>-1.196541</td>\n",
       "      <td>-0.577750</td>\n",
       "      <td>2851.464965</td>\n",
       "      <td>0.000003</td>\n",
       "      <td>False</td>\n",
       "    </tr>\n",
       "    <tr>\n",
       "      <th>5</th>\n",
       "      <td>1.987317</td>\n",
       "      <td>-0.361758</td>\n",
       "      <td>-1.601071</td>\n",
       "      <td>2161.424858</td>\n",
       "      <td>0.000003</td>\n",
       "      <td>False</td>\n",
       "    </tr>\n",
       "    <tr>\n",
       "      <th>6</th>\n",
       "      <td>1.179785</td>\n",
       "      <td>-0.541117</td>\n",
       "      <td>-0.771931</td>\n",
       "      <td>489.426539</td>\n",
       "      <td>0.000003</td>\n",
       "      <td>False</td>\n",
       "    </tr>\n",
       "    <tr>\n",
       "      <th>7</th>\n",
       "      <td>0.347162</td>\n",
       "      <td>0.579941</td>\n",
       "      <td>0.674344</td>\n",
       "      <td>33.134515</td>\n",
       "      <td>0.000003</td>\n",
       "      <td>False</td>\n",
       "    </tr>\n",
       "    <tr>\n",
       "      <th>8</th>\n",
       "      <td>0.635240</td>\n",
       "      <td>1.152641</td>\n",
       "      <td>-0.461141</td>\n",
       "      <td>376.584244</td>\n",
       "      <td>0.000003</td>\n",
       "      <td>False</td>\n",
       "    </tr>\n",
       "    <tr>\n",
       "      <th>9</th>\n",
       "      <td>0.116627</td>\n",
       "      <td>0.075778</td>\n",
       "      <td>-0.989771</td>\n",
       "      <td>101.125848</td>\n",
       "      <td>0.000002</td>\n",
       "      <td>False</td>\n",
       "    </tr>\n",
       "    <tr>\n",
       "      <th>10</th>\n",
       "      <td>-1.799744</td>\n",
       "      <td>1.191389</td>\n",
       "      <td>0.415343</td>\n",
       "      <td>527.993447</td>\n",
       "      <td>0.000002</td>\n",
       "      <td>False</td>\n",
       "    </tr>\n",
       "    <tr>\n",
       "      <th>11</th>\n",
       "      <td>-1.846454</td>\n",
       "      <td>-0.342640</td>\n",
       "      <td>0.375124</td>\n",
       "      <td>1424.321534</td>\n",
       "      <td>0.000002</td>\n",
       "      <td>False</td>\n",
       "    </tr>\n",
       "    <tr>\n",
       "      <th>12</th>\n",
       "      <td>1.190537</td>\n",
       "      <td>-1.656444</td>\n",
       "      <td>1.137901</td>\n",
       "      <td>1209.825122</td>\n",
       "      <td>0.000003</td>\n",
       "      <td>False</td>\n",
       "    </tr>\n",
       "    <tr>\n",
       "      <th>13</th>\n",
       "      <td>0.789909</td>\n",
       "      <td>-1.127614</td>\n",
       "      <td>-0.734207</td>\n",
       "      <td>713.661895</td>\n",
       "      <td>0.000002</td>\n",
       "      <td>False</td>\n",
       "    </tr>\n",
       "    <tr>\n",
       "      <th>14</th>\n",
       "      <td>1.949471</td>\n",
       "      <td>1.321466</td>\n",
       "      <td>1.560618</td>\n",
       "      <td>618.981099</td>\n",
       "      <td>0.000002</td>\n",
       "      <td>False</td>\n",
       "    </tr>\n",
       "  </tbody>\n",
       "</table>\n",
       "</div>"
      ],
      "text/plain": [
       "          x0        x1        x2            y  xopt_runtime  xopt_error\n",
       "0   1.354071  1.404392  1.370250    54.951223      0.000013       False\n",
       "1  -1.687646  0.963304 -1.237670   831.481518      0.000005       False\n",
       "2   1.143499 -0.865395  0.140172   512.741806      0.000004       False\n",
       "3  -1.185364 -0.945877 -0.737252   827.587047      0.000003       False\n",
       "4   1.935224 -1.196541 -0.577750  2851.464965      0.000003       False\n",
       "5   1.987317 -0.361758 -1.601071  2161.424858      0.000003       False\n",
       "6   1.179785 -0.541117 -0.771931   489.426539      0.000003       False\n",
       "7   0.347162  0.579941  0.674344    33.134515      0.000003       False\n",
       "8   0.635240  1.152641 -0.461141   376.584244      0.000003       False\n",
       "9   0.116627  0.075778 -0.989771   101.125848      0.000002       False\n",
       "10 -1.799744  1.191389  0.415343   527.993447      0.000002       False\n",
       "11 -1.846454 -0.342640  0.375124  1424.321534      0.000002       False\n",
       "12  1.190537 -1.656444  1.137901  1209.825122      0.000003       False\n",
       "13  0.789909 -1.127614 -0.734207   713.661895      0.000002       False\n",
       "14  1.949471  1.321466  1.560618   618.981099      0.000002       False"
      ]
     },
     "execution_count": 1,
     "metadata": {},
     "output_type": "execute_result"
    }
   ],
   "source": [
    "# set values if testing\n",
    "import os\n",
    "SMOKE_TEST = os.environ.get(\"SMOKE_TEST\")\n",
    "NUM_MC_SAMPLES = 1 if SMOKE_TEST else 128\n",
    "NUM_RESTARTS = 1 if SMOKE_TEST else 20\n",
    "\n",
    "# Ignore all warnings\n",
    "import warnings\n",
    "warnings.filterwarnings(\"ignore\")\n",
    "\n",
    "from xopt import Xopt, Evaluator\n",
    "from xopt.generators import RandomGenerator\n",
    "from xopt.resources.test_functions.rosenbrock import evaluate_rosenbrock,make_rosenbrock_vocs\n",
    "\n",
    "# make rosenbrock function vocs in 3D\n",
    "vocs = make_rosenbrock_vocs(3)\n",
    "\n",
    "# collect some data using random sampling\n",
    "evaluator = Evaluator(function=evaluate_rosenbrock)\n",
    "generator = RandomGenerator(vocs=vocs)\n",
    "X = Xopt(generator=generator, evaluator=evaluator, vocs=vocs)\n",
    "X.random_evaluate(15)"
   ]
  },
  {
   "cell_type": "markdown",
   "metadata": {
    "collapsed": false
   },
   "source": [
    "## Create GP model based on the data"
   ]
  },
  {
   "cell_type": "code",
   "execution_count": 2,
   "metadata": {
    "ExecuteTime": {
     "end_time": "2024-04-24T14:45:11.261375100Z",
     "start_time": "2024-04-24T14:45:11.244374300Z"
    },
    "collapsed": false,
    "execution": {
     "iopub.execute_input": "2024-04-24T15:53:04.304534Z",
     "iopub.status.busy": "2024-04-24T15:53:04.303922Z",
     "iopub.status.idle": "2024-04-24T15:53:04.307089Z",
     "shell.execute_reply": "2024-04-24T15:53:04.306531Z"
    }
   },
   "outputs": [],
   "source": [
    "data = X.data"
   ]
  },
  {
   "cell_type": "code",
   "execution_count": 3,
   "metadata": {
    "ExecuteTime": {
     "end_time": "2024-04-24T14:45:13.955823900Z",
     "start_time": "2024-04-24T14:45:11.260373200Z"
    },
    "collapsed": false,
    "execution": {
     "iopub.execute_input": "2024-04-24T15:53:04.309463Z",
     "iopub.status.busy": "2024-04-24T15:53:04.308974Z",
     "iopub.status.idle": "2024-04-24T15:53:05.115153Z",
     "shell.execute_reply": "2024-04-24T15:53:05.114501Z"
    }
   },
   "outputs": [
    {
     "name": "stdout",
     "output_type": "stream",
     "text": [
      "Help on method build_model in module xopt.generators.bayesian.models.standard:\n",
      "\n",
      "build_model(input_names: List[str], outcome_names: List[str], data: pandas.core.frame.DataFrame, input_bounds: Dict[str, List] = None, dtype: torch.dtype = torch.float64, device: Union[torch.device, str] = 'cpu') -> botorch.models.model_list_gp_regression.ModelListGP method of xopt.generators.bayesian.models.standard.StandardModelConstructor instance\n",
      "    Construct independent models for each objective and constraint.\n",
      "    \n",
      "    Parameters\n",
      "    ----------\n",
      "    input_names : List[str]\n",
      "        Names of input variables.\n",
      "    outcome_names : List[str]\n",
      "        Names of outcome variables.\n",
      "    data : pd.DataFrame\n",
      "        Data used for training the model.\n",
      "    input_bounds : Dict[str, List], optional\n",
      "        Bounds for input variables.\n",
      "    dtype : torch.dtype, optional\n",
      "        Data type for the model (default is torch.double).\n",
      "    device : Union[torch.device, str], optional\n",
      "        Device on which to perform computations (default is \"cpu\").\n",
      "    \n",
      "    Returns\n",
      "    -------\n",
      "    ModelListGP\n",
      "        A list of trained botorch models.\n",
      "\n"
     ]
    }
   ],
   "source": [
    "from xopt.generators.bayesian.models.standard import StandardModelConstructor\n",
    "model_constructor = StandardModelConstructor()\n",
    "\n",
    "# here we build a model from vocs\n",
    "model = model_constructor.build_model_from_vocs(\n",
    "    vocs=vocs, data=data\n",
    ")\n",
    "\n",
    "# here we build a model from info (more flexible)\n",
    "model = model_constructor.build_model(\n",
    "    input_names=[\"x0\",\"x1\",\"x2\"],\n",
    "    outcome_names=[\"y\"],\n",
    "    data=data\n",
    ")\n",
    "help(model_constructor.build_model)\n"
   ]
  },
  {
   "cell_type": "markdown",
   "metadata": {
    "collapsed": false
   },
   "source": [
    "## Examine GP model hyperparameters\n",
    "Here we look at the GP hyperparameters for the objective function (the first model).\n",
    "Note: the hyperparameters here are in raw_units (due to contraints on parameter\n",
    "values, ie. lengthscales > 0)"
   ]
  },
  {
   "cell_type": "code",
   "execution_count": 4,
   "metadata": {
    "ExecuteTime": {
     "end_time": "2024-04-24T14:45:13.998821Z",
     "start_time": "2024-04-24T14:45:13.958825500Z"
    },
    "collapsed": false,
    "execution": {
     "iopub.execute_input": "2024-04-24T15:53:05.117815Z",
     "iopub.status.busy": "2024-04-24T15:53:05.117368Z",
     "iopub.status.idle": "2024-04-24T15:53:05.122268Z",
     "shell.execute_reply": "2024-04-24T15:53:05.121662Z"
    }
   },
   "outputs": [
    {
     "name": "stdout",
     "output_type": "stream",
     "text": [
      "likelihood.noise_covar.raw_noise Parameter containing:\n",
      "tensor([-20.8534], dtype=torch.float64, requires_grad=True)\n",
      "mean_module.raw_constant Parameter containing:\n",
      "tensor(0.2093, dtype=torch.float64, requires_grad=True)\n",
      "covar_module.raw_outputscale Parameter containing:\n",
      "tensor(0.5700, dtype=torch.float64, requires_grad=True)\n",
      "covar_module.base_kernel.raw_lengthscale Parameter containing:\n",
      "tensor([[-1.5510, -0.6130,  0.1064]], dtype=torch.float64, requires_grad=True)\n"
     ]
    }
   ],
   "source": [
    "objective_model = model.models[vocs.output_names.index(\"y\")]\n",
    "\n",
    "# print raw hyperparameter values\n",
    "for name,val in objective_model.named_parameters():\n",
    "    print(name,val)"
   ]
  },
  {
   "cell_type": "code",
   "execution_count": 5,
   "metadata": {
    "ExecuteTime": {
     "end_time": "2024-04-24T14:45:14.007821800Z",
     "start_time": "2024-04-24T14:45:13.974821300Z"
    },
    "collapsed": false,
    "execution": {
     "iopub.execute_input": "2024-04-24T15:53:05.124662Z",
     "iopub.status.busy": "2024-04-24T15:53:05.124264Z",
     "iopub.status.idle": "2024-04-24T15:53:05.129350Z",
     "shell.execute_reply": "2024-04-24T15:53:05.128815Z"
    }
   },
   "outputs": [
    {
     "name": "stdout",
     "output_type": "stream",
     "text": [
      "outputscale: tensor(1.0182, dtype=torch.float64)\n",
      "prior mean: tensor(0.2093, dtype=torch.float64)\n",
      "noise: tensor([0.0001], dtype=torch.float64)\n",
      "lengthscales tensor([[0.1923, 0.4329, 0.7477]], dtype=torch.float64)\n"
     ]
    }
   ],
   "source": [
    "# print real values - note that these are in normalized coordinates\n",
    "print(\"outputscale:\", objective_model.covar_module.outputscale.data)\n",
    "print(\"prior mean:\", objective_model.mean_module.constant.data)\n",
    "print(\"noise:\", objective_model.likelihood.noise_covar.noise.data)\n",
    "print(\"lengthscales\", objective_model.covar_module.base_kernel.lengthscale.data)"
   ]
  },
  {
   "cell_type": "markdown",
   "metadata": {
    "collapsed": false
   },
   "source": [
    "## Visualize model predictions"
   ]
  },
  {
   "cell_type": "code",
   "execution_count": 6,
   "metadata": {
    "ExecuteTime": {
     "end_time": "2024-04-24T14:49:36.001389300Z",
     "start_time": "2024-04-24T14:49:35.410177700Z"
    },
    "collapsed": false,
    "execution": {
     "iopub.execute_input": "2024-04-24T15:53:05.131574Z",
     "iopub.status.busy": "2024-04-24T15:53:05.131363Z",
     "iopub.status.idle": "2024-04-24T15:53:05.918956Z",
     "shell.execute_reply": "2024-04-24T15:53:05.918308Z"
    }
   },
   "outputs": [
    {
     "data": {
      "image/png": "[encoded data removed]",
      "text/plain": [
       "<Figure size 800x370 with 4 Axes>"
      ]
     },
     "metadata": {},
     "output_type": "display_data"
    }
   ],
   "source": [
    "from xopt.generators.bayesian.visualize import visualize_model\n",
    "\n",
    "fig, ax = visualize_model(\n",
    "    model,\n",
    "    vocs,\n",
    "    data,\n",
    "    variable_names=[\"x0\",\"x1\"],\n",
    "    reference_point={\"x2\":0.0}\n",
    ")"
   ]
  },
  {
   "cell_type": "code",
   "execution_count": null,
   "metadata": {
    "ExecuteTime": {
     "start_time": "2024-04-24T14:45:14.766824600Z"
    },
    "collapsed": false
   },
   "outputs": [],
   "source": []
  }
 ],
 "metadata": {
  "kernelspec": {
   "display_name": "Python 3",
   "language": "python",
   "name": "python3"
  },
  "language_info": {
   "codemirror_mode": {
    "name": "ipython",
    "version": 3
   },
   "file_extension": ".py",
   "mimetype": "text/x-python",
   "name": "python",
   "nbconvert_exporter": "python",
   "pygments_lexer": "ipython3",
   "version": "3.9.19"
  }
 },
 "nbformat": 4,
 "nbformat_minor": 0
}
