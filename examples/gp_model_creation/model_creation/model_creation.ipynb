{
 "cells": [
  {
   "cell_type": "markdown",
   "metadata": {
    "collapsed": false
   },
   "source": [
    "## Building GP Models from Scratch\n",
    "Sometimes it is useful to build GP models outside the context of BO for data\n",
    "visualization and senativity measurements, ie. learned hyperparameters. Here we\n",
    "demonstrate how to build models from data outside of generators.\n",
    "\n",
    "For this we use the 3D rosenbrock function test function."
   ]
  },
  {
   "cell_type": "code",
   "execution_count": 1,
   "metadata": {
    "ExecuteTime": {
     "end_time": "2024-04-24T14:45:11.242373800Z",
     "start_time": "2024-04-24T14:45:05.850560800Z"
    },
    "collapsed": false,
    "execution": {
     "iopub.execute_input": "2024-08-08T16:26:56.065800Z",
     "iopub.status.busy": "2024-08-08T16:26:56.065622Z",
     "iopub.status.idle": "2024-08-08T16:26:57.397613Z",
     "shell.execute_reply": "2024-08-08T16:26:57.397015Z"
    }
   },
   "outputs": [
    {
     "data": {
      "text/html": [
       "<div>\n",
       "<style scoped>\n",
       "    .dataframe tbody tr th:only-of-type {\n",
       "        vertical-align: middle;\n",
       "    }\n",
       "\n",
       "    .dataframe tbody tr th {\n",
       "        vertical-align: top;\n",
       "    }\n",
       "\n",
       "    .dataframe thead th {\n",
       "        text-align: right;\n",
       "    }\n",
       "</style>\n",
       "<table border=\"1\" class=\"dataframe\">\n",
       "  <thead>\n",
       "    <tr style=\"text-align: right;\">\n",
       "      <th></th>\n",
       "      <th>x0</th>\n",
       "      <th>x1</th>\n",
       "      <th>x2</th>\n",
       "      <th>y</th>\n",
       "      <th>xopt_runtime</th>\n",
       "      <th>xopt_error</th>\n",
       "    </tr>\n",
       "  </thead>\n",
       "  <tbody>\n",
       "    <tr>\n",
       "      <th>0</th>\n",
       "      <td>1.080234</td>\n",
       "      <td>-1.667622</td>\n",
       "      <td>-0.293615</td>\n",
       "      <td>1755.879739</td>\n",
       "      <td>0.000015</td>\n",
       "      <td>False</td>\n",
       "    </tr>\n",
       "    <tr>\n",
       "      <th>1</th>\n",
       "      <td>-0.679253</td>\n",
       "      <td>1.376476</td>\n",
       "      <td>-0.773603</td>\n",
       "      <td>798.677594</td>\n",
       "      <td>0.000005</td>\n",
       "      <td>False</td>\n",
       "    </tr>\n",
       "    <tr>\n",
       "      <th>2</th>\n",
       "      <td>-0.305902</td>\n",
       "      <td>1.132460</td>\n",
       "      <td>-0.985323</td>\n",
       "      <td>623.937547</td>\n",
       "      <td>0.000004</td>\n",
       "      <td>False</td>\n",
       "    </tr>\n",
       "    <tr>\n",
       "      <th>3</th>\n",
       "      <td>-0.888676</td>\n",
       "      <td>-0.131237</td>\n",
       "      <td>1.733342</td>\n",
       "      <td>384.174094</td>\n",
       "      <td>0.000003</td>\n",
       "      <td>False</td>\n",
       "    </tr>\n",
       "    <tr>\n",
       "      <th>4</th>\n",
       "      <td>1.026733</td>\n",
       "      <td>0.622753</td>\n",
       "      <td>-0.999790</td>\n",
       "      <td>211.302592</td>\n",
       "      <td>0.000003</td>\n",
       "      <td>False</td>\n",
       "    </tr>\n",
       "    <tr>\n",
       "      <th>5</th>\n",
       "      <td>1.103104</td>\n",
       "      <td>-1.838463</td>\n",
       "      <td>1.394092</td>\n",
       "      <td>1335.915961</td>\n",
       "      <td>0.000003</td>\n",
       "      <td>False</td>\n",
       "    </tr>\n",
       "    <tr>\n",
       "      <th>6</th>\n",
       "      <td>-1.722604</td>\n",
       "      <td>1.092220</td>\n",
       "      <td>-0.810097</td>\n",
       "      <td>760.255047</td>\n",
       "      <td>0.000003</td>\n",
       "      <td>False</td>\n",
       "    </tr>\n",
       "    <tr>\n",
       "      <th>7</th>\n",
       "      <td>-0.264869</td>\n",
       "      <td>-1.215749</td>\n",
       "      <td>1.538332</td>\n",
       "      <td>172.227861</td>\n",
       "      <td>0.000002</td>\n",
       "      <td>False</td>\n",
       "    </tr>\n",
       "    <tr>\n",
       "      <th>8</th>\n",
       "      <td>-0.603829</td>\n",
       "      <td>-0.609895</td>\n",
       "      <td>0.159657</td>\n",
       "      <td>104.637586</td>\n",
       "      <td>0.000003</td>\n",
       "      <td>False</td>\n",
       "    </tr>\n",
       "    <tr>\n",
       "      <th>9</th>\n",
       "      <td>-0.506835</td>\n",
       "      <td>0.319333</td>\n",
       "      <td>0.567830</td>\n",
       "      <td>24.826070</td>\n",
       "      <td>0.000002</td>\n",
       "      <td>False</td>\n",
       "    </tr>\n",
       "    <tr>\n",
       "      <th>10</th>\n",
       "      <td>-0.667352</td>\n",
       "      <td>1.100848</td>\n",
       "      <td>-1.401766</td>\n",
       "      <td>728.863566</td>\n",
       "      <td>0.000002</td>\n",
       "      <td>False</td>\n",
       "    </tr>\n",
       "    <tr>\n",
       "      <th>11</th>\n",
       "      <td>-1.607889</td>\n",
       "      <td>0.752137</td>\n",
       "      <td>-1.794526</td>\n",
       "      <td>899.984903</td>\n",
       "      <td>0.000002</td>\n",
       "      <td>False</td>\n",
       "    </tr>\n",
       "    <tr>\n",
       "      <th>12</th>\n",
       "      <td>-1.113669</td>\n",
       "      <td>0.640311</td>\n",
       "      <td>-1.992961</td>\n",
       "      <td>618.011477</td>\n",
       "      <td>0.000002</td>\n",
       "      <td>False</td>\n",
       "    </tr>\n",
       "    <tr>\n",
       "      <th>13</th>\n",
       "      <td>-0.573358</td>\n",
       "      <td>1.656995</td>\n",
       "      <td>-0.017880</td>\n",
       "      <td>943.034751</td>\n",
       "      <td>0.000002</td>\n",
       "      <td>False</td>\n",
       "    </tr>\n",
       "    <tr>\n",
       "      <th>14</th>\n",
       "      <td>-1.355771</td>\n",
       "      <td>-0.255285</td>\n",
       "      <td>-1.485272</td>\n",
       "      <td>685.744439</td>\n",
       "      <td>0.000002</td>\n",
       "      <td>False</td>\n",
       "    </tr>\n",
       "  </tbody>\n",
       "</table>\n",
       "</div>"
      ],
      "text/plain": [
       "          x0        x1        x2            y  xopt_runtime  xopt_error\n",
       "0   1.080234 -1.667622 -0.293615  1755.879739      0.000015       False\n",
       "1  -0.679253  1.376476 -0.773603   798.677594      0.000005       False\n",
       "2  -0.305902  1.132460 -0.985323   623.937547      0.000004       False\n",
       "3  -0.888676 -0.131237  1.733342   384.174094      0.000003       False\n",
       "4   1.026733  0.622753 -0.999790   211.302592      0.000003       False\n",
       "5   1.103104 -1.838463  1.394092  1335.915961      0.000003       False\n",
       "6  -1.722604  1.092220 -0.810097   760.255047      0.000003       False\n",
       "7  -0.264869 -1.215749  1.538332   172.227861      0.000002       False\n",
       "8  -0.603829 -0.609895  0.159657   104.637586      0.000003       False\n",
       "9  -0.506835  0.319333  0.567830    24.826070      0.000002       False\n",
       "10 -0.667352  1.100848 -1.401766   728.863566      0.000002       False\n",
       "11 -1.607889  0.752137 -1.794526   899.984903      0.000002       False\n",
       "12 -1.113669  0.640311 -1.992961   618.011477      0.000002       False\n",
       "13 -0.573358  1.656995 -0.017880   943.034751      0.000002       False\n",
       "14 -1.355771 -0.255285 -1.485272   685.744439      0.000002       False"
      ]
     },
     "execution_count": 1,
     "metadata": {},
     "output_type": "execute_result"
    }
   ],
   "source": [
    "# set values if testing\n",
    "import os\n",
    "SMOKE_TEST = os.environ.get(\"SMOKE_TEST\")\n",
    "NUM_MC_SAMPLES = 1 if SMOKE_TEST else 128\n",
    "NUM_RESTARTS = 1 if SMOKE_TEST else 20\n",
    "\n",
    "# Ignore all warnings\n",
    "import warnings\n",
    "warnings.filterwarnings(\"ignore\")\n",
    "\n",
    "from xopt import Xopt, Evaluator\n",
    "from xopt.generators import RandomGenerator\n",
    "from xopt.resources.test_functions.rosenbrock import evaluate_rosenbrock,make_rosenbrock_vocs\n",
    "\n",
    "# make rosenbrock function vocs in 3D\n",
    "vocs = make_rosenbrock_vocs(3)\n",
    "\n",
    "# collect some data using random sampling\n",
    "evaluator = Evaluator(function=evaluate_rosenbrock)\n",
    "generator = RandomGenerator(vocs=vocs)\n",
    "X = Xopt(generator=generator, evaluator=evaluator, vocs=vocs)\n",
    "X.random_evaluate(15)"
   ]
  },
  {
   "cell_type": "markdown",
   "metadata": {
    "collapsed": false
   },
   "source": [
    "## Create GP model based on the data"
   ]
  },
  {
   "cell_type": "code",
   "execution_count": 2,
   "metadata": {
    "ExecuteTime": {
     "end_time": "2024-04-24T14:45:11.261375100Z",
     "start_time": "2024-04-24T14:45:11.244374300Z"
    },
    "collapsed": false,
    "execution": {
     "iopub.execute_input": "2024-08-08T16:26:57.427938Z",
     "iopub.status.busy": "2024-08-08T16:26:57.427354Z",
     "iopub.status.idle": "2024-08-08T16:26:57.430314Z",
     "shell.execute_reply": "2024-08-08T16:26:57.429825Z"
    }
   },
   "outputs": [],
   "source": [
    "data = X.data"
   ]
  },
  {
   "cell_type": "code",
   "execution_count": 3,
   "metadata": {
    "ExecuteTime": {
     "end_time": "2024-04-24T14:45:13.955823900Z",
     "start_time": "2024-04-24T14:45:11.260373200Z"
    },
    "collapsed": false,
    "execution": {
     "iopub.execute_input": "2024-08-08T16:26:57.432522Z",
     "iopub.status.busy": "2024-08-08T16:26:57.432196Z",
     "iopub.status.idle": "2024-08-08T16:26:58.556790Z",
     "shell.execute_reply": "2024-08-08T16:26:58.556150Z"
    }
   },
   "outputs": [
    {
     "name": "stdout",
     "output_type": "stream",
     "text": [
      "Help on method build_model in module xopt.generators.bayesian.models.standard:\n",
      "\n",
      "build_model(input_names: List[str], outcome_names: List[str], data: pandas.core.frame.DataFrame, input_bounds: Dict[str, List] = None, dtype: torch.dtype = torch.float64, device: Union[torch.device, str] = 'cpu') -> botorch.models.model_list_gp_regression.ModelListGP method of xopt.generators.bayesian.models.standard.StandardModelConstructor instance\n",
      "    Construct independent models for each objective and constraint.\n",
      "    \n",
      "    Parameters\n",
      "    ----------\n",
      "    input_names : List[str]\n",
      "        Names of input variables.\n",
      "    outcome_names : List[str]\n",
      "        Names of outcome variables.\n",
      "    data : pd.DataFrame\n",
      "        Data used for training the model.\n",
      "    input_bounds : Dict[str, List], optional\n",
      "        Bounds for input variables.\n",
      "    dtype : torch.dtype, optional\n",
      "        Data type for the model (default is torch.double).\n",
      "    device : Union[torch.device, str], optional\n",
      "        Device on which to perform computations (default is \"cpu\").\n",
      "    \n",
      "    Returns\n",
      "    -------\n",
      "    ModelListGP\n",
      "        A list of trained botorch models.\n",
      "\n"
     ]
    }
   ],
   "source": [
    "from xopt.generators.bayesian.models.standard import StandardModelConstructor\n",
    "model_constructor = StandardModelConstructor()\n",
    "\n",
    "# here we build a model from vocs\n",
    "model = model_constructor.build_model_from_vocs(\n",
    "    vocs=vocs, data=data\n",
    ")\n",
    "\n",
    "# here we build a model from info (more flexible)\n",
    "model = model_constructor.build_model(\n",
    "    input_names=[\"x0\",\"x1\",\"x2\"],\n",
    "    outcome_names=[\"y\"],\n",
    "    data=data\n",
    ")\n",
    "help(model_constructor.build_model)\n"
   ]
  },
  {
   "cell_type": "markdown",
   "metadata": {
    "collapsed": false
   },
   "source": [
    "## Examine GP model hyperparameters\n",
    "Here we look at the GP hyperparameters for the objective function (the first model).\n",
    "Note: the hyperparameters here are in raw_units (due to contraints on parameter\n",
    "values, ie. lengthscales > 0)"
   ]
  },
  {
   "cell_type": "code",
   "execution_count": 4,
   "metadata": {
    "ExecuteTime": {
     "end_time": "2024-04-24T14:45:13.998821Z",
     "start_time": "2024-04-24T14:45:13.958825500Z"
    },
    "collapsed": false,
    "execution": {
     "iopub.execute_input": "2024-08-08T16:26:58.559280Z",
     "iopub.status.busy": "2024-08-08T16:26:58.559001Z",
     "iopub.status.idle": "2024-08-08T16:26:58.564127Z",
     "shell.execute_reply": "2024-08-08T16:26:58.563523Z"
    }
   },
   "outputs": [
    {
     "name": "stdout",
     "output_type": "stream",
     "text": [
      "likelihood.noise_covar.raw_noise Parameter containing:\n",
      "tensor([-20.4864], dtype=torch.float64, requires_grad=True)\n",
      "mean_module.raw_constant Parameter containing:\n",
      "tensor(0.3405, dtype=torch.float64, requires_grad=True)\n",
      "covar_module.raw_outputscale Parameter containing:\n",
      "tensor(0.8275, dtype=torch.float64, requires_grad=True)\n",
      "covar_module.base_kernel.raw_lengthscale Parameter containing:\n",
      "tensor([[-0.8805, -0.8550, -0.0389]], dtype=torch.float64, requires_grad=True)\n"
     ]
    }
   ],
   "source": [
    "objective_model = model.models[vocs.output_names.index(\"y\")]\n",
    "\n",
    "# print raw hyperparameter values\n",
    "for name,val in objective_model.named_parameters():\n",
    "    print(name,val)"
   ]
  },
  {
   "cell_type": "code",
   "execution_count": 5,
   "metadata": {
    "ExecuteTime": {
     "end_time": "2024-04-24T14:45:14.007821800Z",
     "start_time": "2024-04-24T14:45:13.974821300Z"
    },
    "collapsed": false,
    "execution": {
     "iopub.execute_input": "2024-08-08T16:26:58.566382Z",
     "iopub.status.busy": "2024-08-08T16:26:58.566198Z",
     "iopub.status.idle": "2024-08-08T16:26:58.571138Z",
     "shell.execute_reply": "2024-08-08T16:26:58.570639Z"
    }
   },
   "outputs": [
    {
     "name": "stdout",
     "output_type": "stream",
     "text": [
      "outputscale: tensor(1.1902, dtype=torch.float64)\n",
      "prior mean: tensor(0.3405, dtype=torch.float64)\n",
      "noise: tensor([0.0001], dtype=torch.float64)\n",
      "lengthscales tensor([[0.3468, 0.3544, 0.6739]], dtype=torch.float64)\n"
     ]
    }
   ],
   "source": [
    "# print real values - note that these are in normalized coordinates\n",
    "print(\"outputscale:\", objective_model.covar_module.outputscale.data)\n",
    "print(\"prior mean:\", objective_model.mean_module.constant.data)\n",
    "print(\"noise:\", objective_model.likelihood.noise_covar.noise.data)\n",
    "print(\"lengthscales\", objective_model.covar_module.base_kernel.lengthscale.data)"
   ]
  },
  {
   "cell_type": "markdown",
   "metadata": {
    "collapsed": false
   },
   "source": [
    "## Visualize model predictions"
   ]
  },
  {
   "cell_type": "code",
   "execution_count": 6,
   "metadata": {
    "ExecuteTime": {
     "end_time": "2024-04-24T14:49:36.001389300Z",
     "start_time": "2024-04-24T14:49:35.410177700Z"
    },
    "collapsed": false,
    "execution": {
     "iopub.execute_input": "2024-08-08T16:26:58.573493Z",
     "iopub.status.busy": "2024-08-08T16:26:58.573110Z",
     "iopub.status.idle": "2024-08-08T16:26:59.306263Z",
     "shell.execute_reply": "2024-08-08T16:26:59.305635Z"
    }
   },
   "outputs": [
    {
     "data": {
      "image/png": "[encoded data removed]",
      "text/plain": [
       "<Figure size 800x370 with 4 Axes>"
      ]
     },
     "metadata": {},
     "output_type": "display_data"
    }
   ],
   "source": [
    "from xopt.generators.bayesian.visualize import visualize_model\n",
    "\n",
    "fig, ax = visualize_model(\n",
    "    model,\n",
    "    vocs,\n",
    "    data,\n",
    "    variable_names=[\"x0\",\"x1\"],\n",
    "    reference_point={\"x2\":0.0}\n",
    ")"
   ]
  },
  {
   "cell_type": "code",
   "execution_count": null,
   "metadata": {
    "ExecuteTime": {
     "start_time": "2024-04-24T14:45:14.766824600Z"
    },
    "collapsed": false
   },
   "outputs": [],
   "source": []
  }
 ],
 "metadata": {
  "kernelspec": {
   "display_name": "Python 3",
   "language": "python",
   "name": "python3"
  },
  "language_info": {
   "codemirror_mode": {
    "name": "ipython",
    "version": 3
   },
   "file_extension": ".py",
   "mimetype": "text/x-python",
   "name": "python",
   "nbconvert_exporter": "python",
   "pygments_lexer": "ipython3",
   "version": "3.9.19"
  }
 },
 "nbformat": 4,
 "nbformat_minor": 0
}
