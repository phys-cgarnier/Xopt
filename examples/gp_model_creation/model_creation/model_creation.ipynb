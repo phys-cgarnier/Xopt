{
 "cells": [
  {
   "cell_type": "markdown",
   "metadata": {
    "collapsed": false
   },
   "source": [
    "## Building GP Models from Scratch\n",
    "Sometimes it is useful to build GP models outside the context of BO for data\n",
    "visualization and senativity measurements, ie. learned hyperparameters. Here we\n",
    "demonstrate how to build models from data outside of generators.\n",
    "\n",
    "For this we use the 3D rosenbrock function test function."
   ]
  },
  {
   "cell_type": "code",
   "execution_count": 1,
   "metadata": {
    "ExecuteTime": {
     "end_time": "2024-04-24T14:45:11.242373800Z",
     "start_time": "2024-04-24T14:45:05.850560800Z"
    },
    "collapsed": false,
    "execution": {
     "iopub.execute_input": "2024-08-20T19:39:58.802444Z",
     "iopub.status.busy": "2024-08-20T19:39:58.801926Z",
     "iopub.status.idle": "2024-08-20T19:40:00.157023Z",
     "shell.execute_reply": "2024-08-20T19:40:00.156433Z"
    }
   },
   "outputs": [
    {
     "data": {
      "text/html": [
       "<div>\n",
       "<style scoped>\n",
       "    .dataframe tbody tr th:only-of-type {\n",
       "        vertical-align: middle;\n",
       "    }\n",
       "\n",
       "    .dataframe tbody tr th {\n",
       "        vertical-align: top;\n",
       "    }\n",
       "\n",
       "    .dataframe thead th {\n",
       "        text-align: right;\n",
       "    }\n",
       "</style>\n",
       "<table border=\"1\" class=\"dataframe\">\n",
       "  <thead>\n",
       "    <tr style=\"text-align: right;\">\n",
       "      <th></th>\n",
       "      <th>x0</th>\n",
       "      <th>x1</th>\n",
       "      <th>x2</th>\n",
       "      <th>y</th>\n",
       "      <th>xopt_runtime</th>\n",
       "      <th>xopt_error</th>\n",
       "    </tr>\n",
       "  </thead>\n",
       "  <tbody>\n",
       "    <tr>\n",
       "      <th>0</th>\n",
       "      <td>-1.895963</td>\n",
       "      <td>-0.829160</td>\n",
       "      <td>0.905822</td>\n",
       "      <td>1973.530987</td>\n",
       "      <td>0.000011</td>\n",
       "      <td>False</td>\n",
       "    </tr>\n",
       "    <tr>\n",
       "      <th>1</th>\n",
       "      <td>-1.727260</td>\n",
       "      <td>1.342633</td>\n",
       "      <td>0.593609</td>\n",
       "      <td>422.957347</td>\n",
       "      <td>0.000010</td>\n",
       "      <td>False</td>\n",
       "    </tr>\n",
       "    <tr>\n",
       "      <th>2</th>\n",
       "      <td>-0.641816</td>\n",
       "      <td>1.912878</td>\n",
       "      <td>1.017962</td>\n",
       "      <td>926.376219</td>\n",
       "      <td>0.000004</td>\n",
       "      <td>False</td>\n",
       "    </tr>\n",
       "    <tr>\n",
       "      <th>3</th>\n",
       "      <td>1.755998</td>\n",
       "      <td>-1.134066</td>\n",
       "      <td>0.632719</td>\n",
       "      <td>1826.628486</td>\n",
       "      <td>0.000003</td>\n",
       "      <td>False</td>\n",
       "    </tr>\n",
       "    <tr>\n",
       "      <th>4</th>\n",
       "      <td>-1.177710</td>\n",
       "      <td>0.602735</td>\n",
       "      <td>0.409003</td>\n",
       "      <td>66.616689</td>\n",
       "      <td>0.000003</td>\n",
       "      <td>False</td>\n",
       "    </tr>\n",
       "    <tr>\n",
       "      <th>5</th>\n",
       "      <td>1.363562</td>\n",
       "      <td>0.194463</td>\n",
       "      <td>1.618723</td>\n",
       "      <td>527.876657</td>\n",
       "      <td>0.000003</td>\n",
       "      <td>False</td>\n",
       "    </tr>\n",
       "    <tr>\n",
       "      <th>6</th>\n",
       "      <td>-1.634971</td>\n",
       "      <td>-0.487962</td>\n",
       "      <td>-1.375959</td>\n",
       "      <td>1268.929160</td>\n",
       "      <td>0.000003</td>\n",
       "      <td>False</td>\n",
       "    </tr>\n",
       "    <tr>\n",
       "      <th>7</th>\n",
       "      <td>-1.834322</td>\n",
       "      <td>-1.921767</td>\n",
       "      <td>-0.362039</td>\n",
       "      <td>4455.767782</td>\n",
       "      <td>0.000002</td>\n",
       "      <td>False</td>\n",
       "    </tr>\n",
       "    <tr>\n",
       "      <th>8</th>\n",
       "      <td>-1.444395</td>\n",
       "      <td>-1.611209</td>\n",
       "      <td>-0.656409</td>\n",
       "      <td>2437.746576</td>\n",
       "      <td>0.000002</td>\n",
       "      <td>False</td>\n",
       "    </tr>\n",
       "    <tr>\n",
       "      <th>9</th>\n",
       "      <td>-1.525720</td>\n",
       "      <td>1.079801</td>\n",
       "      <td>-1.643689</td>\n",
       "      <td>951.559143</td>\n",
       "      <td>0.000003</td>\n",
       "      <td>False</td>\n",
       "    </tr>\n",
       "    <tr>\n",
       "      <th>10</th>\n",
       "      <td>-0.285474</td>\n",
       "      <td>-1.157980</td>\n",
       "      <td>0.963688</td>\n",
       "      <td>174.169398</td>\n",
       "      <td>0.000003</td>\n",
       "      <td>False</td>\n",
       "    </tr>\n",
       "    <tr>\n",
       "      <th>11</th>\n",
       "      <td>1.022365</td>\n",
       "      <td>1.367990</td>\n",
       "      <td>1.879021</td>\n",
       "      <td>10.559074</td>\n",
       "      <td>0.000002</td>\n",
       "      <td>False</td>\n",
       "    </tr>\n",
       "    <tr>\n",
       "      <th>12</th>\n",
       "      <td>0.623704</td>\n",
       "      <td>-0.511995</td>\n",
       "      <td>0.584733</td>\n",
       "      <td>94.014791</td>\n",
       "      <td>0.000002</td>\n",
       "      <td>False</td>\n",
       "    </tr>\n",
       "    <tr>\n",
       "      <th>13</th>\n",
       "      <td>-0.528453</td>\n",
       "      <td>-0.147170</td>\n",
       "      <td>1.807710</td>\n",
       "      <td>340.834259</td>\n",
       "      <td>0.000003</td>\n",
       "      <td>False</td>\n",
       "    </tr>\n",
       "    <tr>\n",
       "      <th>14</th>\n",
       "      <td>-0.198600</td>\n",
       "      <td>1.341507</td>\n",
       "      <td>0.970109</td>\n",
       "      <td>239.902643</td>\n",
       "      <td>0.000002</td>\n",
       "      <td>False</td>\n",
       "    </tr>\n",
       "  </tbody>\n",
       "</table>\n",
       "</div>"
      ],
      "text/plain": [
       "          x0        x1        x2            y  xopt_runtime  xopt_error\n",
       "0  -1.895963 -0.829160  0.905822  1973.530987      0.000011       False\n",
       "1  -1.727260  1.342633  0.593609   422.957347      0.000010       False\n",
       "2  -0.641816  1.912878  1.017962   926.376219      0.000004       False\n",
       "3   1.755998 -1.134066  0.632719  1826.628486      0.000003       False\n",
       "4  -1.177710  0.602735  0.409003    66.616689      0.000003       False\n",
       "5   1.363562  0.194463  1.618723   527.876657      0.000003       False\n",
       "6  -1.634971 -0.487962 -1.375959  1268.929160      0.000003       False\n",
       "7  -1.834322 -1.921767 -0.362039  4455.767782      0.000002       False\n",
       "8  -1.444395 -1.611209 -0.656409  2437.746576      0.000002       False\n",
       "9  -1.525720  1.079801 -1.643689   951.559143      0.000003       False\n",
       "10 -0.285474 -1.157980  0.963688   174.169398      0.000003       False\n",
       "11  1.022365  1.367990  1.879021    10.559074      0.000002       False\n",
       "12  0.623704 -0.511995  0.584733    94.014791      0.000002       False\n",
       "13 -0.528453 -0.147170  1.807710   340.834259      0.000003       False\n",
       "14 -0.198600  1.341507  0.970109   239.902643      0.000002       False"
      ]
     },
     "execution_count": 1,
     "metadata": {},
     "output_type": "execute_result"
    }
   ],
   "source": [
    "# set values if testing\n",
    "import os\n",
    "SMOKE_TEST = os.environ.get(\"SMOKE_TEST\")\n",
    "NUM_MC_SAMPLES = 1 if SMOKE_TEST else 128\n",
    "NUM_RESTARTS = 1 if SMOKE_TEST else 20\n",
    "\n",
    "# Ignore all warnings\n",
    "import warnings\n",
    "warnings.filterwarnings(\"ignore\")\n",
    "\n",
    "from xopt import Xopt, Evaluator\n",
    "from xopt.generators import RandomGenerator\n",
    "from xopt.resources.test_functions.rosenbrock import evaluate_rosenbrock,make_rosenbrock_vocs\n",
    "\n",
    "# make rosenbrock function vocs in 3D\n",
    "vocs = make_rosenbrock_vocs(3)\n",
    "\n",
    "# collect some data using random sampling\n",
    "evaluator = Evaluator(function=evaluate_rosenbrock)\n",
    "generator = RandomGenerator(vocs=vocs)\n",
    "X = Xopt(generator=generator, evaluator=evaluator, vocs=vocs)\n",
    "X.random_evaluate(15)"
   ]
  },
  {
   "cell_type": "markdown",
   "metadata": {
    "collapsed": false
   },
   "source": [
    "## Create GP model based on the data"
   ]
  },
  {
   "cell_type": "code",
   "execution_count": 2,
   "metadata": {
    "ExecuteTime": {
     "end_time": "2024-04-24T14:45:11.261375100Z",
     "start_time": "2024-04-24T14:45:11.244374300Z"
    },
    "collapsed": false,
    "execution": {
     "iopub.execute_input": "2024-08-20T19:40:00.193331Z",
     "iopub.status.busy": "2024-08-20T19:40:00.193017Z",
     "iopub.status.idle": "2024-08-20T19:40:00.195872Z",
     "shell.execute_reply": "2024-08-20T19:40:00.195362Z"
    }
   },
   "outputs": [],
   "source": [
    "data = X.data"
   ]
  },
  {
   "cell_type": "code",
   "execution_count": 3,
   "metadata": {
    "ExecuteTime": {
     "end_time": "2024-04-24T14:45:13.955823900Z",
     "start_time": "2024-04-24T14:45:11.260373200Z"
    },
    "collapsed": false,
    "execution": {
     "iopub.execute_input": "2024-08-20T19:40:00.198179Z",
     "iopub.status.busy": "2024-08-20T19:40:00.197751Z",
     "iopub.status.idle": "2024-08-20T19:40:01.358606Z",
     "shell.execute_reply": "2024-08-20T19:40:01.358022Z"
    }
   },
   "outputs": [
    {
     "name": "stdout",
     "output_type": "stream",
     "text": [
      "Help on method build_model in module xopt.generators.bayesian.models.standard:\n",
      "\n",
      "build_model(input_names: List[str], outcome_names: List[str], data: pandas.core.frame.DataFrame, input_bounds: Dict[str, List] = None, dtype: torch.dtype = torch.float64, device: Union[torch.device, str] = 'cpu') -> botorch.models.model_list_gp_regression.ModelListGP method of xopt.generators.bayesian.models.standard.StandardModelConstructor instance\n",
      "    Construct independent models for each objective and constraint.\n",
      "    \n",
      "    Parameters\n",
      "    ----------\n",
      "    input_names : List[str]\n",
      "        Names of input variables.\n",
      "    outcome_names : List[str]\n",
      "        Names of outcome variables.\n",
      "    data : pd.DataFrame\n",
      "        Data used for training the model.\n",
      "    input_bounds : Dict[str, List], optional\n",
      "        Bounds for input variables.\n",
      "    dtype : torch.dtype, optional\n",
      "        Data type for the model (default is torch.double).\n",
      "    device : Union[torch.device, str], optional\n",
      "        Device on which to perform computations (default is \"cpu\").\n",
      "    \n",
      "    Returns\n",
      "    -------\n",
      "    ModelListGP\n",
      "        A list of trained botorch models.\n",
      "\n"
     ]
    }
   ],
   "source": [
    "from xopt.generators.bayesian.models.standard import StandardModelConstructor\n",
    "model_constructor = StandardModelConstructor()\n",
    "\n",
    "# here we build a model from vocs\n",
    "model = model_constructor.build_model_from_vocs(\n",
    "    vocs=vocs, data=data\n",
    ")\n",
    "\n",
    "# here we build a model from info (more flexible)\n",
    "model = model_constructor.build_model(\n",
    "    input_names=[\"x0\",\"x1\",\"x2\"],\n",
    "    outcome_names=[\"y\"],\n",
    "    data=data\n",
    ")\n",
    "help(model_constructor.build_model)\n"
   ]
  },
  {
   "cell_type": "markdown",
   "metadata": {
    "collapsed": false
   },
   "source": [
    "## Examine GP model hyperparameters\n",
    "Here we look at the GP hyperparameters for the objective function (the first model).\n",
    "Note: the hyperparameters here are in raw_units (due to contraints on parameter\n",
    "values, ie. lengthscales > 0)"
   ]
  },
  {
   "cell_type": "code",
   "execution_count": 4,
   "metadata": {
    "ExecuteTime": {
     "end_time": "2024-04-24T14:45:13.998821Z",
     "start_time": "2024-04-24T14:45:13.958825500Z"
    },
    "collapsed": false,
    "execution": {
     "iopub.execute_input": "2024-08-20T19:40:01.361468Z",
     "iopub.status.busy": "2024-08-20T19:40:01.360929Z",
     "iopub.status.idle": "2024-08-20T19:40:01.366211Z",
     "shell.execute_reply": "2024-08-20T19:40:01.365692Z"
    }
   },
   "outputs": [
    {
     "name": "stdout",
     "output_type": "stream",
     "text": [
      "likelihood.noise_covar.raw_noise Parameter containing:\n",
      "tensor([-20.3588], dtype=torch.float64, requires_grad=True)\n",
      "mean_module.raw_constant Parameter containing:\n",
      "tensor(0.3141, dtype=torch.float64, requires_grad=True)\n",
      "covar_module.raw_outputscale Parameter containing:\n",
      "tensor(0.9537, dtype=torch.float64, requires_grad=True)\n",
      "covar_module.base_kernel.raw_lengthscale Parameter containing:\n",
      "tensor([[-1.1616, -0.5182, -0.4924]], dtype=torch.float64, requires_grad=True)\n"
     ]
    }
   ],
   "source": [
    "objective_model = model.models[vocs.output_names.index(\"y\")]\n",
    "\n",
    "# print raw hyperparameter values\n",
    "for name,val in objective_model.named_parameters():\n",
    "    print(name,val)"
   ]
  },
  {
   "cell_type": "code",
   "execution_count": 5,
   "metadata": {
    "ExecuteTime": {
     "end_time": "2024-04-24T14:45:14.007821800Z",
     "start_time": "2024-04-24T14:45:13.974821300Z"
    },
    "collapsed": false,
    "execution": {
     "iopub.execute_input": "2024-08-20T19:40:01.368542Z",
     "iopub.status.busy": "2024-08-20T19:40:01.368308Z",
     "iopub.status.idle": "2024-08-20T19:40:01.373545Z",
     "shell.execute_reply": "2024-08-20T19:40:01.373002Z"
    }
   },
   "outputs": [
    {
     "name": "stdout",
     "output_type": "stream",
     "text": [
      "outputscale: tensor(1.2797, dtype=torch.float64)\n",
      "prior mean: tensor(0.3141, dtype=torch.float64)\n",
      "noise: tensor([0.0001], dtype=torch.float64)\n",
      "lengthscales tensor([[0.2723, 0.4672, 0.4769]], dtype=torch.float64)\n"
     ]
    }
   ],
   "source": [
    "# print real values - note that these are in normalized coordinates\n",
    "print(\"outputscale:\", objective_model.covar_module.outputscale.data)\n",
    "print(\"prior mean:\", objective_model.mean_module.constant.data)\n",
    "print(\"noise:\", objective_model.likelihood.noise_covar.noise.data)\n",
    "print(\"lengthscales\", objective_model.covar_module.base_kernel.lengthscale.data)"
   ]
  },
  {
   "cell_type": "markdown",
   "metadata": {
    "collapsed": false
   },
   "source": [
    "## Visualize model predictions"
   ]
  },
  {
   "cell_type": "code",
   "execution_count": 6,
   "metadata": {
    "ExecuteTime": {
     "end_time": "2024-04-24T14:49:36.001389300Z",
     "start_time": "2024-04-24T14:49:35.410177700Z"
    },
    "collapsed": false,
    "execution": {
     "iopub.execute_input": "2024-08-20T19:40:01.375841Z",
     "iopub.status.busy": "2024-08-20T19:40:01.375658Z",
     "iopub.status.idle": "2024-08-20T19:40:02.088979Z",
     "shell.execute_reply": "2024-08-20T19:40:02.088339Z"
    }
   },
   "outputs": [
    {
     "data": {
      "image/png": "[encoded data removed]",
      "text/plain": [
       "<Figure size 800x370 with 4 Axes>"
      ]
     },
     "metadata": {},
     "output_type": "display_data"
    }
   ],
   "source": [
    "from xopt.generators.bayesian.visualize import visualize_model\n",
    "\n",
    "fig, ax = visualize_model(\n",
    "    model,\n",
    "    vocs,\n",
    "    data,\n",
    "    variable_names=[\"x0\",\"x1\"],\n",
    "    reference_point={\"x2\":0.0}\n",
    ")"
   ]
  },
  {
   "cell_type": "code",
   "execution_count": null,
   "metadata": {
    "ExecuteTime": {
     "start_time": "2024-04-24T14:45:14.766824600Z"
    },
    "collapsed": false
   },
   "outputs": [],
   "source": []
  }
 ],
 "metadata": {
  "kernelspec": {
   "display_name": "Python 3",
   "language": "python",
   "name": "python3"
  },
  "language_info": {
   "codemirror_mode": {
    "name": "ipython",
    "version": 3
   },
   "file_extension": ".py",
   "mimetype": "text/x-python",
   "name": "python",
   "nbconvert_exporter": "python",
   "pygments_lexer": "ipython3",
   "version": "3.9.19"
  }
 },
 "nbformat": 4,
 "nbformat_minor": 0
}
