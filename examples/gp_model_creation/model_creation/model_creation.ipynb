{
 "cells": [
  {
   "cell_type": "markdown",
   "metadata": {
    "collapsed": false
   },
   "source": [
    "## Building GP Models from Scratch\n",
    "Sometimes it is useful to build GP models outside the context of BO for data\n",
    "visualization and senativity measurements, ie. learned hyperparameters. Here we\n",
    "demonstrate how to build models from data outside of generators.\n",
    "\n",
    "For this we use the 3D rosenbrock function test function."
   ]
  },
  {
   "cell_type": "code",
   "execution_count": 1,
   "metadata": {
    "ExecuteTime": {
     "end_time": "2024-04-24T14:45:11.242373800Z",
     "start_time": "2024-04-24T14:45:05.850560800Z"
    },
    "collapsed": false,
    "execution": {
     "iopub.execute_input": "2024-08-20T19:46:49.079256Z",
     "iopub.status.busy": "2024-08-20T19:46:49.079079Z",
     "iopub.status.idle": "2024-08-20T19:46:50.389878Z",
     "shell.execute_reply": "2024-08-20T19:46:50.389229Z"
    }
   },
   "outputs": [
    {
     "data": {
      "text/html": [
       "<div>\n",
       "<style scoped>\n",
       "    .dataframe tbody tr th:only-of-type {\n",
       "        vertical-align: middle;\n",
       "    }\n",
       "\n",
       "    .dataframe tbody tr th {\n",
       "        vertical-align: top;\n",
       "    }\n",
       "\n",
       "    .dataframe thead th {\n",
       "        text-align: right;\n",
       "    }\n",
       "</style>\n",
       "<table border=\"1\" class=\"dataframe\">\n",
       "  <thead>\n",
       "    <tr style=\"text-align: right;\">\n",
       "      <th></th>\n",
       "      <th>x0</th>\n",
       "      <th>x1</th>\n",
       "      <th>x2</th>\n",
       "      <th>y</th>\n",
       "      <th>xopt_runtime</th>\n",
       "      <th>xopt_error</th>\n",
       "    </tr>\n",
       "  </thead>\n",
       "  <tbody>\n",
       "    <tr>\n",
       "      <th>0</th>\n",
       "      <td>-1.494186</td>\n",
       "      <td>-0.270845</td>\n",
       "      <td>-0.716194</td>\n",
       "      <td>696.895140</td>\n",
       "      <td>0.000010</td>\n",
       "      <td>False</td>\n",
       "    </tr>\n",
       "    <tr>\n",
       "      <th>1</th>\n",
       "      <td>0.895297</td>\n",
       "      <td>0.611722</td>\n",
       "      <td>-1.285482</td>\n",
       "      <td>279.221353</td>\n",
       "      <td>0.000008</td>\n",
       "      <td>False</td>\n",
       "    </tr>\n",
       "    <tr>\n",
       "      <th>2</th>\n",
       "      <td>0.096775</td>\n",
       "      <td>-1.414032</td>\n",
       "      <td>-0.619599</td>\n",
       "      <td>895.211104</td>\n",
       "      <td>0.000003</td>\n",
       "      <td>False</td>\n",
       "    </tr>\n",
       "    <tr>\n",
       "      <th>3</th>\n",
       "      <td>-0.122976</td>\n",
       "      <td>0.546083</td>\n",
       "      <td>1.795676</td>\n",
       "      <td>253.900307</td>\n",
       "      <td>0.000004</td>\n",
       "      <td>False</td>\n",
       "    </tr>\n",
       "    <tr>\n",
       "      <th>4</th>\n",
       "      <td>1.958951</td>\n",
       "      <td>0.350788</td>\n",
       "      <td>-1.974084</td>\n",
       "      <td>1656.846548</td>\n",
       "      <td>0.000003</td>\n",
       "      <td>False</td>\n",
       "    </tr>\n",
       "    <tr>\n",
       "      <th>5</th>\n",
       "      <td>1.880075</td>\n",
       "      <td>-1.846074</td>\n",
       "      <td>-1.550278</td>\n",
       "      <td>5362.567643</td>\n",
       "      <td>0.000003</td>\n",
       "      <td>False</td>\n",
       "    </tr>\n",
       "    <tr>\n",
       "      <th>6</th>\n",
       "      <td>-1.927964</td>\n",
       "      <td>1.967028</td>\n",
       "      <td>0.092676</td>\n",
       "      <td>1741.977213</td>\n",
       "      <td>0.000003</td>\n",
       "      <td>False</td>\n",
       "    </tr>\n",
       "    <tr>\n",
       "      <th>7</th>\n",
       "      <td>0.897436</td>\n",
       "      <td>-1.691367</td>\n",
       "      <td>-1.016928</td>\n",
       "      <td>2134.250111</td>\n",
       "      <td>0.000003</td>\n",
       "      <td>False</td>\n",
       "    </tr>\n",
       "    <tr>\n",
       "      <th>8</th>\n",
       "      <td>0.986957</td>\n",
       "      <td>-0.783326</td>\n",
       "      <td>-1.985232</td>\n",
       "      <td>987.421995</td>\n",
       "      <td>0.000002</td>\n",
       "      <td>False</td>\n",
       "    </tr>\n",
       "    <tr>\n",
       "      <th>9</th>\n",
       "      <td>0.594882</td>\n",
       "      <td>-0.286495</td>\n",
       "      <td>-1.875982</td>\n",
       "      <td>426.228292</td>\n",
       "      <td>0.000002</td>\n",
       "      <td>False</td>\n",
       "    </tr>\n",
       "    <tr>\n",
       "      <th>10</th>\n",
       "      <td>0.728481</td>\n",
       "      <td>1.746038</td>\n",
       "      <td>0.742634</td>\n",
       "      <td>680.108846</td>\n",
       "      <td>0.000002</td>\n",
       "      <td>False</td>\n",
       "    </tr>\n",
       "    <tr>\n",
       "      <th>11</th>\n",
       "      <td>0.232218</td>\n",
       "      <td>1.764718</td>\n",
       "      <td>-0.267283</td>\n",
       "      <td>1437.318007</td>\n",
       "      <td>0.000002</td>\n",
       "      <td>False</td>\n",
       "    </tr>\n",
       "    <tr>\n",
       "      <th>12</th>\n",
       "      <td>1.929783</td>\n",
       "      <td>-1.437981</td>\n",
       "      <td>-1.355593</td>\n",
       "      <td>3843.431870</td>\n",
       "      <td>0.000002</td>\n",
       "      <td>False</td>\n",
       "    </tr>\n",
       "    <tr>\n",
       "      <th>13</th>\n",
       "      <td>-0.755111</td>\n",
       "      <td>-0.765446</td>\n",
       "      <td>-0.685305</td>\n",
       "      <td>346.188218</td>\n",
       "      <td>0.000002</td>\n",
       "      <td>False</td>\n",
       "    </tr>\n",
       "    <tr>\n",
       "      <th>14</th>\n",
       "      <td>0.148364</td>\n",
       "      <td>0.123391</td>\n",
       "      <td>-0.745892</td>\n",
       "      <td>60.451441</td>\n",
       "      <td>0.000002</td>\n",
       "      <td>False</td>\n",
       "    </tr>\n",
       "  </tbody>\n",
       "</table>\n",
       "</div>"
      ],
      "text/plain": [
       "          x0        x1        x2            y  xopt_runtime  xopt_error\n",
       "0  -1.494186 -0.270845 -0.716194   696.895140      0.000010       False\n",
       "1   0.895297  0.611722 -1.285482   279.221353      0.000008       False\n",
       "2   0.096775 -1.414032 -0.619599   895.211104      0.000003       False\n",
       "3  -0.122976  0.546083  1.795676   253.900307      0.000004       False\n",
       "4   1.958951  0.350788 -1.974084  1656.846548      0.000003       False\n",
       "5   1.880075 -1.846074 -1.550278  5362.567643      0.000003       False\n",
       "6  -1.927964  1.967028  0.092676  1741.977213      0.000003       False\n",
       "7   0.897436 -1.691367 -1.016928  2134.250111      0.000003       False\n",
       "8   0.986957 -0.783326 -1.985232   987.421995      0.000002       False\n",
       "9   0.594882 -0.286495 -1.875982   426.228292      0.000002       False\n",
       "10  0.728481  1.746038  0.742634   680.108846      0.000002       False\n",
       "11  0.232218  1.764718 -0.267283  1437.318007      0.000002       False\n",
       "12  1.929783 -1.437981 -1.355593  3843.431870      0.000002       False\n",
       "13 -0.755111 -0.765446 -0.685305   346.188218      0.000002       False\n",
       "14  0.148364  0.123391 -0.745892    60.451441      0.000002       False"
      ]
     },
     "execution_count": 1,
     "metadata": {},
     "output_type": "execute_result"
    }
   ],
   "source": [
    "# set values if testing\n",
    "import os\n",
    "SMOKE_TEST = os.environ.get(\"SMOKE_TEST\")\n",
    "NUM_MC_SAMPLES = 1 if SMOKE_TEST else 128\n",
    "NUM_RESTARTS = 1 if SMOKE_TEST else 20\n",
    "\n",
    "# Ignore all warnings\n",
    "import warnings\n",
    "warnings.filterwarnings(\"ignore\")\n",
    "\n",
    "from xopt import Xopt, Evaluator\n",
    "from xopt.generators import RandomGenerator\n",
    "from xopt.resources.test_functions.rosenbrock import evaluate_rosenbrock,make_rosenbrock_vocs\n",
    "\n",
    "# make rosenbrock function vocs in 3D\n",
    "vocs = make_rosenbrock_vocs(3)\n",
    "\n",
    "# collect some data using random sampling\n",
    "evaluator = Evaluator(function=evaluate_rosenbrock)\n",
    "generator = RandomGenerator(vocs=vocs)\n",
    "X = Xopt(generator=generator, evaluator=evaluator, vocs=vocs)\n",
    "X.random_evaluate(15)"
   ]
  },
  {
   "cell_type": "markdown",
   "metadata": {
    "collapsed": false
   },
   "source": [
    "## Create GP model based on the data"
   ]
  },
  {
   "cell_type": "code",
   "execution_count": 2,
   "metadata": {
    "ExecuteTime": {
     "end_time": "2024-04-24T14:45:11.261375100Z",
     "start_time": "2024-04-24T14:45:11.244374300Z"
    },
    "collapsed": false,
    "execution": {
     "iopub.execute_input": "2024-08-20T19:46:50.420363Z",
     "iopub.status.busy": "2024-08-20T19:46:50.419806Z",
     "iopub.status.idle": "2024-08-20T19:46:50.422824Z",
     "shell.execute_reply": "2024-08-20T19:46:50.422348Z"
    }
   },
   "outputs": [],
   "source": [
    "data = X.data"
   ]
  },
  {
   "cell_type": "code",
   "execution_count": 3,
   "metadata": {
    "ExecuteTime": {
     "end_time": "2024-04-24T14:45:13.955823900Z",
     "start_time": "2024-04-24T14:45:11.260373200Z"
    },
    "collapsed": false,
    "execution": {
     "iopub.execute_input": "2024-08-20T19:46:50.424970Z",
     "iopub.status.busy": "2024-08-20T19:46:50.424620Z",
     "iopub.status.idle": "2024-08-20T19:46:51.544622Z",
     "shell.execute_reply": "2024-08-20T19:46:51.543946Z"
    }
   },
   "outputs": [
    {
     "name": "stdout",
     "output_type": "stream",
     "text": [
      "Help on method build_model in module xopt.generators.bayesian.models.standard:\n",
      "\n",
      "build_model(input_names: List[str], outcome_names: List[str], data: pandas.core.frame.DataFrame, input_bounds: Dict[str, List] = None, dtype: torch.dtype = torch.float64, device: Union[torch.device, str] = 'cpu') -> botorch.models.model_list_gp_regression.ModelListGP method of xopt.generators.bayesian.models.standard.StandardModelConstructor instance\n",
      "    Construct independent models for each objective and constraint.\n",
      "    \n",
      "    Parameters\n",
      "    ----------\n",
      "    input_names : List[str]\n",
      "        Names of input variables.\n",
      "    outcome_names : List[str]\n",
      "        Names of outcome variables.\n",
      "    data : pd.DataFrame\n",
      "        Data used for training the model.\n",
      "    input_bounds : Dict[str, List], optional\n",
      "        Bounds for input variables.\n",
      "    dtype : torch.dtype, optional\n",
      "        Data type for the model (default is torch.double).\n",
      "    device : Union[torch.device, str], optional\n",
      "        Device on which to perform computations (default is \"cpu\").\n",
      "    \n",
      "    Returns\n",
      "    -------\n",
      "    ModelListGP\n",
      "        A list of trained botorch models.\n",
      "\n"
     ]
    }
   ],
   "source": [
    "from xopt.generators.bayesian.models.standard import StandardModelConstructor\n",
    "model_constructor = StandardModelConstructor()\n",
    "\n",
    "# here we build a model from vocs\n",
    "model = model_constructor.build_model_from_vocs(\n",
    "    vocs=vocs, data=data\n",
    ")\n",
    "\n",
    "# here we build a model from info (more flexible)\n",
    "model = model_constructor.build_model(\n",
    "    input_names=[\"x0\",\"x1\",\"x2\"],\n",
    "    outcome_names=[\"y\"],\n",
    "    data=data\n",
    ")\n",
    "help(model_constructor.build_model)\n"
   ]
  },
  {
   "cell_type": "markdown",
   "metadata": {
    "collapsed": false
   },
   "source": [
    "## Examine GP model hyperparameters\n",
    "Here we look at the GP hyperparameters for the objective function (the first model).\n",
    "Note: the hyperparameters here are in raw_units (due to contraints on parameter\n",
    "values, ie. lengthscales > 0)"
   ]
  },
  {
   "cell_type": "code",
   "execution_count": 4,
   "metadata": {
    "ExecuteTime": {
     "end_time": "2024-04-24T14:45:13.998821Z",
     "start_time": "2024-04-24T14:45:13.958825500Z"
    },
    "collapsed": false,
    "execution": {
     "iopub.execute_input": "2024-08-20T19:46:51.547540Z",
     "iopub.status.busy": "2024-08-20T19:46:51.546921Z",
     "iopub.status.idle": "2024-08-20T19:46:51.551789Z",
     "shell.execute_reply": "2024-08-20T19:46:51.551223Z"
    }
   },
   "outputs": [
    {
     "name": "stdout",
     "output_type": "stream",
     "text": [
      "likelihood.noise_covar.raw_noise Parameter containing:\n",
      "tensor([-20.4464], dtype=torch.float64, requires_grad=True)\n",
      "mean_module.raw_constant Parameter containing:\n",
      "tensor(0.4875, dtype=torch.float64, requires_grad=True)\n",
      "covar_module.raw_outputscale Parameter containing:\n",
      "tensor(1.0938, dtype=torch.float64, requires_grad=True)\n",
      "covar_module.base_kernel.raw_lengthscale Parameter containing:\n",
      "tensor([[-0.5661, -0.8124, -0.2977]], dtype=torch.float64, requires_grad=True)\n"
     ]
    }
   ],
   "source": [
    "objective_model = model.models[vocs.output_names.index(\"y\")]\n",
    "\n",
    "# print raw hyperparameter values\n",
    "for name,val in objective_model.named_parameters():\n",
    "    print(name,val)"
   ]
  },
  {
   "cell_type": "code",
   "execution_count": 5,
   "metadata": {
    "ExecuteTime": {
     "end_time": "2024-04-24T14:45:14.007821800Z",
     "start_time": "2024-04-24T14:45:13.974821300Z"
    },
    "collapsed": false,
    "execution": {
     "iopub.execute_input": "2024-08-20T19:46:51.554089Z",
     "iopub.status.busy": "2024-08-20T19:46:51.553902Z",
     "iopub.status.idle": "2024-08-20T19:46:51.558864Z",
     "shell.execute_reply": "2024-08-20T19:46:51.558371Z"
    }
   },
   "outputs": [
    {
     "name": "stdout",
     "output_type": "stream",
     "text": [
      "outputscale: tensor(1.3827, dtype=torch.float64)\n",
      "prior mean: tensor(0.4875, dtype=torch.float64)\n",
      "noise: tensor([0.0001], dtype=torch.float64)\n",
      "lengthscales tensor([[0.4496, 0.3673, 0.5553]], dtype=torch.float64)\n"
     ]
    }
   ],
   "source": [
    "# print real values - note that these are in normalized coordinates\n",
    "print(\"outputscale:\", objective_model.covar_module.outputscale.data)\n",
    "print(\"prior mean:\", objective_model.mean_module.constant.data)\n",
    "print(\"noise:\", objective_model.likelihood.noise_covar.noise.data)\n",
    "print(\"lengthscales\", objective_model.covar_module.base_kernel.lengthscale.data)"
   ]
  },
  {
   "cell_type": "markdown",
   "metadata": {
    "collapsed": false
   },
   "source": [
    "## Visualize model predictions"
   ]
  },
  {
   "cell_type": "code",
   "execution_count": 6,
   "metadata": {
    "ExecuteTime": {
     "end_time": "2024-04-24T14:49:36.001389300Z",
     "start_time": "2024-04-24T14:49:35.410177700Z"
    },
    "collapsed": false,
    "execution": {
     "iopub.execute_input": "2024-08-20T19:46:51.561079Z",
     "iopub.status.busy": "2024-08-20T19:46:51.560748Z",
     "iopub.status.idle": "2024-08-20T19:46:52.278684Z",
     "shell.execute_reply": "2024-08-20T19:46:52.278052Z"
    }
   },
   "outputs": [
    {
     "data": {
      "image/png": "[encoded data removed]",
      "text/plain": [
       "<Figure size 800x370 with 4 Axes>"
      ]
     },
     "metadata": {},
     "output_type": "display_data"
    }
   ],
   "source": [
    "from xopt.generators.bayesian.visualize import visualize_model\n",
    "\n",
    "fig, ax = visualize_model(\n",
    "    model,\n",
    "    vocs,\n",
    "    data,\n",
    "    variable_names=[\"x0\",\"x1\"],\n",
    "    reference_point={\"x2\":0.0}\n",
    ")"
   ]
  },
  {
   "cell_type": "code",
   "execution_count": null,
   "metadata": {
    "ExecuteTime": {
     "start_time": "2024-04-24T14:45:14.766824600Z"
    },
    "collapsed": false
   },
   "outputs": [],
   "source": []
  }
 ],
 "metadata": {
  "kernelspec": {
   "display_name": "Python 3",
   "language": "python",
   "name": "python3"
  },
  "language_info": {
   "codemirror_mode": {
    "name": "ipython",
    "version": 3
   },
   "file_extension": ".py",
   "mimetype": "text/x-python",
   "name": "python",
   "nbconvert_exporter": "python",
   "pygments_lexer": "ipython3",
   "version": "3.9.19"
  }
 },
 "nbformat": 4,
 "nbformat_minor": 0
}
