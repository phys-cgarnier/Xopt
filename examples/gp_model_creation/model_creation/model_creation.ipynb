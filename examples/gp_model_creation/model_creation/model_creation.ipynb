{
 "cells": [
  {
   "cell_type": "markdown",
   "metadata": {
    "collapsed": false
   },
   "source": [
    "## Building GP Models from Scratch\n",
    "Sometimes it is useful to build GP models outside the context of BO for data\n",
    "visualization and senativity measurements, ie. learned hyperparameters. Here we\n",
    "demonstrate how to build models from data outside of generators.\n",
    "\n",
    "For this we use the 3D rosenbrock function test function."
   ]
  },
  {
   "cell_type": "code",
   "execution_count": 1,
   "metadata": {
    "ExecuteTime": {
     "end_time": "2024-04-24T14:45:11.242373800Z",
     "start_time": "2024-04-24T14:45:05.850560800Z"
    },
    "collapsed": false,
    "execution": {
     "iopub.execute_input": "2024-07-31T03:25:27.939080Z",
     "iopub.status.busy": "2024-07-31T03:25:27.938590Z",
     "iopub.status.idle": "2024-07-31T03:25:29.265545Z",
     "shell.execute_reply": "2024-07-31T03:25:29.264908Z"
    }
   },
   "outputs": [
    {
     "data": {
      "text/html": [
       "<div>\n",
       "<style scoped>\n",
       "    .dataframe tbody tr th:only-of-type {\n",
       "        vertical-align: middle;\n",
       "    }\n",
       "\n",
       "    .dataframe tbody tr th {\n",
       "        vertical-align: top;\n",
       "    }\n",
       "\n",
       "    .dataframe thead th {\n",
       "        text-align: right;\n",
       "    }\n",
       "</style>\n",
       "<table border=\"1\" class=\"dataframe\">\n",
       "  <thead>\n",
       "    <tr style=\"text-align: right;\">\n",
       "      <th></th>\n",
       "      <th>x0</th>\n",
       "      <th>x1</th>\n",
       "      <th>x2</th>\n",
       "      <th>y</th>\n",
       "      <th>xopt_runtime</th>\n",
       "      <th>xopt_error</th>\n",
       "    </tr>\n",
       "  </thead>\n",
       "  <tbody>\n",
       "    <tr>\n",
       "      <th>0</th>\n",
       "      <td>-0.642295</td>\n",
       "      <td>0.049923</td>\n",
       "      <td>-1.187627</td>\n",
       "      <td>158.387539</td>\n",
       "      <td>0.000010</td>\n",
       "      <td>False</td>\n",
       "    </tr>\n",
       "    <tr>\n",
       "      <th>1</th>\n",
       "      <td>-1.107701</td>\n",
       "      <td>0.926177</td>\n",
       "      <td>1.260564</td>\n",
       "      <td>29.718946</td>\n",
       "      <td>0.000005</td>\n",
       "      <td>False</td>\n",
       "    </tr>\n",
       "    <tr>\n",
       "      <th>2</th>\n",
       "      <td>0.973561</td>\n",
       "      <td>0.359608</td>\n",
       "      <td>1.883876</td>\n",
       "      <td>342.857395</td>\n",
       "      <td>0.000004</td>\n",
       "      <td>False</td>\n",
       "    </tr>\n",
       "    <tr>\n",
       "      <th>3</th>\n",
       "      <td>-1.948251</td>\n",
       "      <td>1.390108</td>\n",
       "      <td>1.661294</td>\n",
       "      <td>594.873301</td>\n",
       "      <td>0.000003</td>\n",
       "      <td>False</td>\n",
       "    </tr>\n",
       "    <tr>\n",
       "      <th>4</th>\n",
       "      <td>-0.632804</td>\n",
       "      <td>0.660283</td>\n",
       "      <td>1.211939</td>\n",
       "      <td>69.745470</td>\n",
       "      <td>0.000004</td>\n",
       "      <td>False</td>\n",
       "    </tr>\n",
       "    <tr>\n",
       "      <th>5</th>\n",
       "      <td>0.582683</td>\n",
       "      <td>-1.436661</td>\n",
       "      <td>0.436324</td>\n",
       "      <td>586.524874</td>\n",
       "      <td>0.000003</td>\n",
       "      <td>False</td>\n",
       "    </tr>\n",
       "    <tr>\n",
       "      <th>6</th>\n",
       "      <td>0.278875</td>\n",
       "      <td>-0.319851</td>\n",
       "      <td>-0.351339</td>\n",
       "      <td>38.651683</td>\n",
       "      <td>0.000002</td>\n",
       "      <td>False</td>\n",
       "    </tr>\n",
       "    <tr>\n",
       "      <th>7</th>\n",
       "      <td>-0.833280</td>\n",
       "      <td>-0.243659</td>\n",
       "      <td>-1.332350</td>\n",
       "      <td>286.583328</td>\n",
       "      <td>0.000003</td>\n",
       "      <td>False</td>\n",
       "    </tr>\n",
       "    <tr>\n",
       "      <th>8</th>\n",
       "      <td>1.816837</td>\n",
       "      <td>-1.755721</td>\n",
       "      <td>-1.416963</td>\n",
       "      <td>4589.765885</td>\n",
       "      <td>0.000002</td>\n",
       "      <td>False</td>\n",
       "    </tr>\n",
       "    <tr>\n",
       "      <th>9</th>\n",
       "      <td>-1.898323</td>\n",
       "      <td>1.184528</td>\n",
       "      <td>-1.837272</td>\n",
       "      <td>1643.644551</td>\n",
       "      <td>0.000002</td>\n",
       "      <td>False</td>\n",
       "    </tr>\n",
       "    <tr>\n",
       "      <th>10</th>\n",
       "      <td>-1.997801</td>\n",
       "      <td>-0.555078</td>\n",
       "      <td>1.991357</td>\n",
       "      <td>2361.607913</td>\n",
       "      <td>0.000003</td>\n",
       "      <td>False</td>\n",
       "    </tr>\n",
       "    <tr>\n",
       "      <th>11</th>\n",
       "      <td>1.210811</td>\n",
       "      <td>0.724538</td>\n",
       "      <td>0.443222</td>\n",
       "      <td>55.774306</td>\n",
       "      <td>0.000002</td>\n",
       "      <td>False</td>\n",
       "    </tr>\n",
       "    <tr>\n",
       "      <th>12</th>\n",
       "      <td>-0.378176</td>\n",
       "      <td>-1.785896</td>\n",
       "      <td>1.042371</td>\n",
       "      <td>842.715418</td>\n",
       "      <td>0.000002</td>\n",
       "      <td>False</td>\n",
       "    </tr>\n",
       "    <tr>\n",
       "      <th>13</th>\n",
       "      <td>-1.946456</td>\n",
       "      <td>-0.208305</td>\n",
       "      <td>0.082685</td>\n",
       "      <td>1607.895023</td>\n",
       "      <td>0.000002</td>\n",
       "      <td>False</td>\n",
       "    </tr>\n",
       "    <tr>\n",
       "      <th>14</th>\n",
       "      <td>0.885536</td>\n",
       "      <td>-1.091381</td>\n",
       "      <td>-0.409717</td>\n",
       "      <td>612.422792</td>\n",
       "      <td>0.000002</td>\n",
       "      <td>False</td>\n",
       "    </tr>\n",
       "  </tbody>\n",
       "</table>\n",
       "</div>"
      ],
      "text/plain": [
       "          x0        x1        x2            y  xopt_runtime  xopt_error\n",
       "0  -0.642295  0.049923 -1.187627   158.387539      0.000010       False\n",
       "1  -1.107701  0.926177  1.260564    29.718946      0.000005       False\n",
       "2   0.973561  0.359608  1.883876   342.857395      0.000004       False\n",
       "3  -1.948251  1.390108  1.661294   594.873301      0.000003       False\n",
       "4  -0.632804  0.660283  1.211939    69.745470      0.000004       False\n",
       "5   0.582683 -1.436661  0.436324   586.524874      0.000003       False\n",
       "6   0.278875 -0.319851 -0.351339    38.651683      0.000002       False\n",
       "7  -0.833280 -0.243659 -1.332350   286.583328      0.000003       False\n",
       "8   1.816837 -1.755721 -1.416963  4589.765885      0.000002       False\n",
       "9  -1.898323  1.184528 -1.837272  1643.644551      0.000002       False\n",
       "10 -1.997801 -0.555078  1.991357  2361.607913      0.000003       False\n",
       "11  1.210811  0.724538  0.443222    55.774306      0.000002       False\n",
       "12 -0.378176 -1.785896  1.042371   842.715418      0.000002       False\n",
       "13 -1.946456 -0.208305  0.082685  1607.895023      0.000002       False\n",
       "14  0.885536 -1.091381 -0.409717   612.422792      0.000002       False"
      ]
     },
     "execution_count": 1,
     "metadata": {},
     "output_type": "execute_result"
    }
   ],
   "source": [
    "# set values if testing\n",
    "import os\n",
    "SMOKE_TEST = os.environ.get(\"SMOKE_TEST\")\n",
    "NUM_MC_SAMPLES = 1 if SMOKE_TEST else 128\n",
    "NUM_RESTARTS = 1 if SMOKE_TEST else 20\n",
    "\n",
    "# Ignore all warnings\n",
    "import warnings\n",
    "warnings.filterwarnings(\"ignore\")\n",
    "\n",
    "from xopt import Xopt, Evaluator\n",
    "from xopt.generators import RandomGenerator\n",
    "from xopt.resources.test_functions.rosenbrock import evaluate_rosenbrock,make_rosenbrock_vocs\n",
    "\n",
    "# make rosenbrock function vocs in 3D\n",
    "vocs = make_rosenbrock_vocs(3)\n",
    "\n",
    "# collect some data using random sampling\n",
    "evaluator = Evaluator(function=evaluate_rosenbrock)\n",
    "generator = RandomGenerator(vocs=vocs)\n",
    "X = Xopt(generator=generator, evaluator=evaluator, vocs=vocs)\n",
    "X.random_evaluate(15)"
   ]
  },
  {
   "cell_type": "markdown",
   "metadata": {
    "collapsed": false
   },
   "source": [
    "## Create GP model based on the data"
   ]
  },
  {
   "cell_type": "code",
   "execution_count": 2,
   "metadata": {
    "ExecuteTime": {
     "end_time": "2024-04-24T14:45:11.261375100Z",
     "start_time": "2024-04-24T14:45:11.244374300Z"
    },
    "collapsed": false,
    "execution": {
     "iopub.execute_input": "2024-07-31T03:25:29.295682Z",
     "iopub.status.busy": "2024-07-31T03:25:29.295393Z",
     "iopub.status.idle": "2024-07-31T03:25:29.298314Z",
     "shell.execute_reply": "2024-07-31T03:25:29.297779Z"
    }
   },
   "outputs": [],
   "source": [
    "data = X.data"
   ]
  },
  {
   "cell_type": "code",
   "execution_count": 3,
   "metadata": {
    "ExecuteTime": {
     "end_time": "2024-04-24T14:45:13.955823900Z",
     "start_time": "2024-04-24T14:45:11.260373200Z"
    },
    "collapsed": false,
    "execution": {
     "iopub.execute_input": "2024-07-31T03:25:29.300542Z",
     "iopub.status.busy": "2024-07-31T03:25:29.300221Z",
     "iopub.status.idle": "2024-07-31T03:25:30.380270Z",
     "shell.execute_reply": "2024-07-31T03:25:30.379599Z"
    }
   },
   "outputs": [
    {
     "name": "stdout",
     "output_type": "stream",
     "text": [
      "Help on method build_model in module xopt.generators.bayesian.models.standard:\n",
      "\n",
      "build_model(input_names: List[str], outcome_names: List[str], data: pandas.core.frame.DataFrame, input_bounds: Dict[str, List] = None, dtype: torch.dtype = torch.float64, device: Union[torch.device, str] = 'cpu') -> botorch.models.model_list_gp_regression.ModelListGP method of xopt.generators.bayesian.models.standard.StandardModelConstructor instance\n",
      "    Construct independent models for each objective and constraint.\n",
      "    \n",
      "    Parameters\n",
      "    ----------\n",
      "    input_names : List[str]\n",
      "        Names of input variables.\n",
      "    outcome_names : List[str]\n",
      "        Names of outcome variables.\n",
      "    data : pd.DataFrame\n",
      "        Data used for training the model.\n",
      "    input_bounds : Dict[str, List], optional\n",
      "        Bounds for input variables.\n",
      "    dtype : torch.dtype, optional\n",
      "        Data type for the model (default is torch.double).\n",
      "    device : Union[torch.device, str], optional\n",
      "        Device on which to perform computations (default is \"cpu\").\n",
      "    \n",
      "    Returns\n",
      "    -------\n",
      "    ModelListGP\n",
      "        A list of trained botorch models.\n",
      "\n"
     ]
    }
   ],
   "source": [
    "from xopt.generators.bayesian.models.standard import StandardModelConstructor\n",
    "model_constructor = StandardModelConstructor()\n",
    "\n",
    "# here we build a model from vocs\n",
    "model = model_constructor.build_model_from_vocs(\n",
    "    vocs=vocs, data=data\n",
    ")\n",
    "\n",
    "# here we build a model from info (more flexible)\n",
    "model = model_constructor.build_model(\n",
    "    input_names=[\"x0\",\"x1\",\"x2\"],\n",
    "    outcome_names=[\"y\"],\n",
    "    data=data\n",
    ")\n",
    "help(model_constructor.build_model)\n"
   ]
  },
  {
   "cell_type": "markdown",
   "metadata": {
    "collapsed": false
   },
   "source": [
    "## Examine GP model hyperparameters\n",
    "Here we look at the GP hyperparameters for the objective function (the first model).\n",
    "Note: the hyperparameters here are in raw_units (due to contraints on parameter\n",
    "values, ie. lengthscales > 0)"
   ]
  },
  {
   "cell_type": "code",
   "execution_count": 4,
   "metadata": {
    "ExecuteTime": {
     "end_time": "2024-04-24T14:45:13.998821Z",
     "start_time": "2024-04-24T14:45:13.958825500Z"
    },
    "collapsed": false,
    "execution": {
     "iopub.execute_input": "2024-07-31T03:25:30.383201Z",
     "iopub.status.busy": "2024-07-31T03:25:30.382644Z",
     "iopub.status.idle": "2024-07-31T03:25:30.387513Z",
     "shell.execute_reply": "2024-07-31T03:25:30.386957Z"
    }
   },
   "outputs": [
    {
     "name": "stdout",
     "output_type": "stream",
     "text": [
      "likelihood.noise_covar.raw_noise Parameter containing:\n",
      "tensor([-19.4015], dtype=torch.float64, requires_grad=True)\n",
      "mean_module.raw_constant Parameter containing:\n",
      "tensor(0.7588, dtype=torch.float64, requires_grad=True)\n",
      "covar_module.raw_outputscale Parameter containing:\n",
      "tensor(1.1221, dtype=torch.float64, requires_grad=True)\n",
      "covar_module.base_kernel.raw_lengthscale Parameter containing:\n",
      "tensor([[-0.5282, -0.5772, -0.3647]], dtype=torch.float64, requires_grad=True)\n"
     ]
    }
   ],
   "source": [
    "objective_model = model.models[vocs.output_names.index(\"y\")]\n",
    "\n",
    "# print raw hyperparameter values\n",
    "for name,val in objective_model.named_parameters():\n",
    "    print(name,val)"
   ]
  },
  {
   "cell_type": "code",
   "execution_count": 5,
   "metadata": {
    "ExecuteTime": {
     "end_time": "2024-04-24T14:45:14.007821800Z",
     "start_time": "2024-04-24T14:45:13.974821300Z"
    },
    "collapsed": false,
    "execution": {
     "iopub.execute_input": "2024-07-31T03:25:30.389731Z",
     "iopub.status.busy": "2024-07-31T03:25:30.389547Z",
     "iopub.status.idle": "2024-07-31T03:25:30.394500Z",
     "shell.execute_reply": "2024-07-31T03:25:30.394014Z"
    }
   },
   "outputs": [
    {
     "name": "stdout",
     "output_type": "stream",
     "text": [
      "outputscale: tensor(1.4040, dtype=torch.float64)\n",
      "prior mean: tensor(0.7588, dtype=torch.float64)\n",
      "noise: tensor([0.0001], dtype=torch.float64)\n",
      "lengthscales tensor([[0.4635, 0.4456, 0.5273]], dtype=torch.float64)\n"
     ]
    }
   ],
   "source": [
    "# print real values - note that these are in normalized coordinates\n",
    "print(\"outputscale:\", objective_model.covar_module.outputscale.data)\n",
    "print(\"prior mean:\", objective_model.mean_module.constant.data)\n",
    "print(\"noise:\", objective_model.likelihood.noise_covar.noise.data)\n",
    "print(\"lengthscales\", objective_model.covar_module.base_kernel.lengthscale.data)"
   ]
  },
  {
   "cell_type": "markdown",
   "metadata": {
    "collapsed": false
   },
   "source": [
    "## Visualize model predictions"
   ]
  },
  {
   "cell_type": "code",
   "execution_count": 6,
   "metadata": {
    "ExecuteTime": {
     "end_time": "2024-04-24T14:49:36.001389300Z",
     "start_time": "2024-04-24T14:49:35.410177700Z"
    },
    "collapsed": false,
    "execution": {
     "iopub.execute_input": "2024-07-31T03:25:30.396884Z",
     "iopub.status.busy": "2024-07-31T03:25:30.396499Z",
     "iopub.status.idle": "2024-07-31T03:25:31.124020Z",
     "shell.execute_reply": "2024-07-31T03:25:31.123351Z"
    }
   },
   "outputs": [
    {
     "data": {
      "image/png": "[encoded data removed]",
      "text/plain": [
       "<Figure size 800x370 with 4 Axes>"
      ]
     },
     "metadata": {},
     "output_type": "display_data"
    }
   ],
   "source": [
    "from xopt.generators.bayesian.visualize import visualize_model\n",
    "\n",
    "fig, ax = visualize_model(\n",
    "    model,\n",
    "    vocs,\n",
    "    data,\n",
    "    variable_names=[\"x0\",\"x1\"],\n",
    "    reference_point={\"x2\":0.0}\n",
    ")"
   ]
  },
  {
   "cell_type": "code",
   "execution_count": null,
   "metadata": {
    "ExecuteTime": {
     "start_time": "2024-04-24T14:45:14.766824600Z"
    },
    "collapsed": false
   },
   "outputs": [],
   "source": []
  }
 ],
 "metadata": {
  "kernelspec": {
   "display_name": "Python 3",
   "language": "python",
   "name": "python3"
  },
  "language_info": {
   "codemirror_mode": {
    "name": "ipython",
    "version": 3
   },
   "file_extension": ".py",
   "mimetype": "text/x-python",
   "name": "python",
   "nbconvert_exporter": "python",
   "pygments_lexer": "ipython3",
   "version": "3.9.19"
  }
 },
 "nbformat": 4,
 "nbformat_minor": 0
}
