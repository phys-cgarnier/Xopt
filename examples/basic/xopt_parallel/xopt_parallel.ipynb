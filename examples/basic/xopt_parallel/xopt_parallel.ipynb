{
 "cells": [
  {
   "cell_type": "markdown",
   "metadata": {
    "pycharm": {
     "name": "#%% md\n"
    }
   },
   "source": [
    "# Xopt Parallel Examples\n",
    "\n",
    "Xopt provides methods to parallelize optimizations using Processes, Threads, MPI, and Dask using the `concurrent.futures` interface as defined in  https://www.python.org/dev/peps/pep-3148/ ."
   ]
  },
  {
   "cell_type": "code",
   "execution_count": 1,
   "metadata": {
    "execution": {
     "iopub.execute_input": "2022-07-02T03:22:40.867616Z",
     "iopub.status.busy": "2022-07-02T03:22:40.867297Z",
     "iopub.status.idle": "2022-07-02T03:22:41.538758Z",
     "shell.execute_reply": "2022-07-02T03:22:41.538424Z"
    },
    "pycharm": {
     "name": "#%%\n"
    }
   },
   "outputs": [
    {
     "data": {
      "text/plain": [
       "5"
      ]
     },
     "execution_count": 1,
     "metadata": {},
     "output_type": "execute_result"
    }
   ],
   "source": [
    "# Import the class\n",
    "from xopt import Xopt\n",
    "\n",
    "# Notebook printing output\n",
    "#from xopt import output_notebook\n",
    "#output_notebook()\n",
    "\n",
    "import multiprocessing\n",
    "N_CPUS=multiprocessing.cpu_count()//2\n",
    "N_CPUS\n",
    "\n"
   ]
  },
  {
   "cell_type": "code",
   "execution_count": 2,
   "metadata": {
    "execution": {
     "iopub.execute_input": "2022-07-02T03:22:41.551579Z",
     "iopub.status.busy": "2022-07-02T03:22:41.551257Z",
     "iopub.status.idle": "2022-07-02T03:22:41.810984Z",
     "shell.execute_reply": "2022-07-02T03:22:41.810345Z"
    },
    "pycharm": {
     "name": "#%%\n"
    }
   },
   "outputs": [],
   "source": [
    "!mkdir -p temp"
   ]
  },
  {
   "cell_type": "markdown",
   "metadata": {
    "pycharm": {
     "name": "#%% md\n"
    }
   },
   "source": [
    "The `Xopt` object can be instantiated from a JSON or YAML file, or a dict, with the proper structure.\n",
    "\n",
    "Here we will make one"
   ]
  },
  {
   "cell_type": "code",
   "execution_count": 3,
   "metadata": {
    "execution": {
     "iopub.execute_input": "2022-07-02T03:22:41.813692Z",
     "iopub.status.busy": "2022-07-02T03:22:41.813504Z",
     "iopub.status.idle": "2022-07-02T03:22:41.829500Z",
     "shell.execute_reply": "2022-07-02T03:22:41.829220Z"
    },
    "pycharm": {
     "name": "#%%\n"
    }
   },
   "outputs": [
    {
     "data": {
      "text/plain": [
       "\n",
       "            Xopt\n",
       "________________________________\n",
       "Version: 0.5.0+244.gb8037f4.dirty\n",
       "Data size: 0\n",
       "Config as YAML:\n",
       "xopt: {asynch: true, strict: false, dump_file: null, max_evaluations: 1000}\n",
       "generator: {name: cnsga, population_size: 64, crossover_probability: 0.9, mutation_probability: 1.0,\n",
       "  population_file: null, output_path: temp}\n",
       "evaluator:\n",
       "  function: xopt.resources.test_functions.tnk.evaluate_TNK\n",
       "  max_workers: 1\n",
       "  function_kwargs: {sleep: 0, random_sleep: 0.1, raise_probability: 0}\n",
       "vocs:\n",
       "  variables:\n",
       "    x1: [0.0, 3.14159]\n",
       "    x2: [0.0, 3.14159]\n",
       "  constraints:\n",
       "    c1: [GREATER_THAN, 0.0]\n",
       "    c2: [LESS_THAN, 0.5]\n",
       "  objectives: {y1: MINIMIZE, y2: MINIMIZE}\n",
       "  constants: {a: dummy_constant}\n",
       "  linked_variables: {x9: x1}\n"
      ]
     },
     "execution_count": 3,
     "metadata": {},
     "output_type": "execute_result"
    }
   ],
   "source": [
    "# Make a proper input file.\n",
    "YAML = \"\"\"\n",
    "xopt:\n",
    "  asynch: True\n",
    "  max_evaluations: 1000\n",
    "\n",
    "generator:\n",
    "  name: cnsga\n",
    "  output_path: temp\n",
    "  population_size:  64\n",
    "  \n",
    "evaluator:\n",
    "  function: xopt.resources.test_functions.tnk.evaluate_TNK\n",
    "  function_kwargs:\n",
    "    sleep: 0\n",
    "    random_sleep: 0.1\n",
    "  \n",
    "vocs:\n",
    "  variables:\n",
    "    x1: [0, 3.14159]\n",
    "    x2: [0, 3.14159]\n",
    "  objectives: {y1: MINIMIZE, y2: MINIMIZE}\n",
    "  constraints:\n",
    "    c1: [GREATER_THAN, 0]\n",
    "    c2: [LESS_THAN, 0.5]\n",
    "  linked_variables: {x9: x1}\n",
    "  constants: {a: dummy_constant}\n",
    "\n",
    "\"\"\"\n",
    "X = Xopt(YAML)\n",
    "X"
   ]
  },
  {
   "cell_type": "code",
   "execution_count": 4,
   "metadata": {
    "execution": {
     "iopub.execute_input": "2022-07-02T03:22:41.831298Z",
     "iopub.status.busy": "2022-07-02T03:22:41.831164Z",
     "iopub.status.idle": "2022-07-02T03:22:50.614427Z",
     "shell.execute_reply": "2022-07-02T03:22:50.613438Z"
    },
    "pycharm": {
     "name": "#%%\n"
    }
   },
   "outputs": [
    {
     "name": "stdout",
     "output_type": "stream",
     "text": [
      "110 ms ± 10 ms per loop (mean ± std. dev. of 7 runs, 10 loops each)\n"
     ]
    }
   ],
   "source": [
    "%%timeit\n",
    "# Check that the averate time is close to random_sleep\n",
    "X.evaluator.function({\"x1\": 0.5, \"x2\": 0.5}, random_sleep = .1)"
   ]
  },
  {
   "cell_type": "code",
   "execution_count": 5,
   "metadata": {
    "execution": {
     "iopub.execute_input": "2022-07-02T03:22:50.618389Z",
     "iopub.status.busy": "2022-07-02T03:22:50.618099Z",
     "iopub.status.idle": "2022-07-02T03:24:45.937568Z",
     "shell.execute_reply": "2022-07-02T03:24:45.936851Z"
    },
    "pycharm": {
     "name": "#%%\n"
    }
   },
   "outputs": [
    {
     "name": "stdout",
     "output_type": "stream",
     "text": [
      "CPU times: user 9.24 s, sys: 106 ms, total: 9.34 s\n",
      "Wall time: 1min 55s\n"
     ]
    }
   ],
   "source": [
    "%%time\n",
    "X.run()"
   ]
  },
  {
   "cell_type": "markdown",
   "metadata": {
    "pycharm": {
     "name": "#%% md\n"
    }
   },
   "source": [
    "# Processes"
   ]
  },
  {
   "cell_type": "code",
   "execution_count": 6,
   "metadata": {
    "execution": {
     "iopub.execute_input": "2022-07-02T03:24:45.942081Z",
     "iopub.status.busy": "2022-07-02T03:24:45.941750Z",
     "iopub.status.idle": "2022-07-02T03:24:45.945061Z",
     "shell.execute_reply": "2022-07-02T03:24:45.944538Z"
    },
    "pycharm": {
     "name": "#%%\n"
    }
   },
   "outputs": [],
   "source": [
    "from concurrent.futures import ProcessPoolExecutor"
   ]
  },
  {
   "cell_type": "code",
   "execution_count": 7,
   "metadata": {
    "execution": {
     "iopub.execute_input": "2022-07-02T03:24:45.948030Z",
     "iopub.status.busy": "2022-07-02T03:24:45.947835Z",
     "iopub.status.idle": "2022-07-02T03:24:45.974579Z",
     "shell.execute_reply": "2022-07-02T03:24:45.974116Z"
    },
    "pycharm": {
     "name": "#%%\n"
    }
   },
   "outputs": [
    {
     "name": "stdout",
     "output_type": "stream",
     "text": [
      "CPU times: user 6.62 ms, sys: 8.91 ms, total: 15.5 ms\n",
      "Wall time: 19.1 ms\n"
     ]
    },
    {
     "data": {
      "text/plain": [
       "0"
      ]
     },
     "execution_count": 7,
     "metadata": {},
     "output_type": "execute_result"
    }
   ],
   "source": [
    "%%time\n",
    "X = Xopt(YAML)\n",
    "\n",
    "with ProcessPoolExecutor() as executor:\n",
    "    X.evaluator.executor = executor\n",
    "    X.evaluator.max_workers = N_CPUS\n",
    "    \n",
    "len(X.data)"
   ]
  },
  {
   "cell_type": "markdown",
   "metadata": {
    "pycharm": {
     "name": "#%% md\n"
    }
   },
   "source": [
    "# Threads\n",
    "\n",
    "Continue running, this time with threads."
   ]
  },
  {
   "cell_type": "code",
   "execution_count": 8,
   "metadata": {
    "execution": {
     "iopub.execute_input": "2022-07-02T03:24:45.976904Z",
     "iopub.status.busy": "2022-07-02T03:24:45.976686Z",
     "iopub.status.idle": "2022-07-02T03:24:45.979272Z",
     "shell.execute_reply": "2022-07-02T03:24:45.978947Z"
    },
    "pycharm": {
     "name": "#%%\n"
    }
   },
   "outputs": [],
   "source": [
    "from concurrent.futures import ThreadPoolExecutor"
   ]
  },
  {
   "cell_type": "code",
   "execution_count": 9,
   "metadata": {
    "execution": {
     "iopub.execute_input": "2022-07-02T03:24:45.981047Z",
     "iopub.status.busy": "2022-07-02T03:24:45.980915Z",
     "iopub.status.idle": "2022-07-02T03:25:11.072275Z",
     "shell.execute_reply": "2022-07-02T03:25:11.071480Z"
    },
    "pycharm": {
     "name": "#%%\n"
    }
   },
   "outputs": [
    {
     "name": "stdout",
     "output_type": "stream",
     "text": [
      "CPU times: user 4.43 s, sys: 109 ms, total: 4.54 s\n",
      "Wall time: 25.1 s\n"
     ]
    },
    {
     "data": {
      "text/plain": [
       "1001"
      ]
     },
     "execution_count": 9,
     "metadata": {},
     "output_type": "execute_result"
    }
   ],
   "source": [
    "%%time\n",
    "\n",
    "X = Xopt(YAML)\n",
    "\n",
    "with ThreadPoolExecutor() as executor:\n",
    "    X.evaluator.executor = executor\n",
    "    X.evaluator.max_workers = N_CPUS\n",
    "    X.run()\n",
    "len(X.data)"
   ]
  },
  {
   "cell_type": "markdown",
   "metadata": {
    "pycharm": {
     "name": "#%% md\n"
    }
   },
   "source": [
    "# MPI \n",
    "\n",
    "The `test.yaml` file completely defines the problem. We will also direct the logging to an `xopt.log` file. The following invocation recruits 4 MPI workers to solve this problem.\n",
    "\n",
    "We can also continue by calling `.save` with a JSON filename. This will write all of previous results into the file."
   ]
  },
  {
   "cell_type": "code",
   "execution_count": 10,
   "metadata": {
    "execution": {
     "iopub.execute_input": "2022-07-02T03:25:11.076355Z",
     "iopub.status.busy": "2022-07-02T03:25:11.076087Z",
     "iopub.status.idle": "2022-07-02T03:25:11.364582Z",
     "shell.execute_reply": "2022-07-02T03:25:11.364010Z"
    },
    "pycharm": {
     "name": "#%%\n"
    }
   },
   "outputs": [
    {
     "name": "stdout",
     "output_type": "stream",
     "text": [
      "xopt: {asynch: true, strict: false, dump_file: null, max_evaluations: 1000}\r\n",
      "generator: {name: cnsga, population_size: 64, crossover_probability: 0.9, mutation_probability: 1.0,\r\n",
      "  population_file: null, output_path: temp}\r\n",
      "evaluator:\r\n",
      "  function: xopt.resources.test_functions.tnk.evaluate_TNK\r\n",
      "  max_workers: 1\r\n",
      "  function_kwargs: {sleep: 0, random_sleep: 0.1, raise_probability: 0}\r\n",
      "vocs:\r\n",
      "  variables:\r\n",
      "    x1: [0.0, 3.14159]\r\n",
      "    x2: [0.0, 3.14159]\r\n",
      "  constraints:\r\n",
      "    c1: [GREATER_THAN, 0.0]\r\n",
      "    c2: [LESS_THAN, 0.5]\r\n",
      "  objectives: {y1: MINIMIZE, y2: MINIMIZE}\r\n",
      "  constants: {a: dummy_constant}\r\n",
      "  linked_variables: {x9: x1}\r\n"
     ]
    }
   ],
   "source": [
    "X = Xopt(YAML)\n",
    "X.yaml('test.yaml')\n",
    "!cat test.yaml"
   ]
  },
  {
   "cell_type": "code",
   "execution_count": 11,
   "metadata": {
    "execution": {
     "iopub.execute_input": "2022-07-02T03:25:11.367100Z",
     "iopub.status.busy": "2022-07-02T03:25:11.366919Z",
     "iopub.status.idle": "2022-07-02T03:25:42.081626Z",
     "shell.execute_reply": "2022-07-02T03:25:42.081073Z"
    },
    "pycharm": {
     "name": "#%%\n"
    }
   },
   "outputs": [
    {
     "name": "stdout",
     "output_type": "stream",
     "text": [
      "Namespace(input_file='test.yaml', logfile='xopt.log', verbose=2)\r\n",
      "Parallel execution with 5 workers\r\n",
      "Initializing Xopt object\r\n",
      "Initializing generator cnsga,\r\n",
      "Created toolbox with 2 variables, 2 constraints, and 2 objectives.\r\n",
      "    Using selection algorithm: nsga2\r\n",
      "Initializing Xopt object\r\n",
      "Xopt object initialized\r\n",
      "Enabling async mode\r\n",
      "\r\n",
      "            Xopt\r\n",
      "________________________________\r\n",
      "Version: 0.5.0+244.gb8037f4.dirty\r\n",
      "Data size: 0\r\n",
      "Config as YAML:\r\n",
      "xopt: {asynch: true, strict: false, dump_file: null, max_evaluations: 1000}\r\n",
      "generator: {name: cnsga, population_size: 64, crossover_probability: 0.9, mutation_probability: 1.0,\r\n",
      "  population_file: null, output_path: temp}\r\n",
      "evaluator:\r\n",
      "  function: xopt.resources.test_functions.tnk.evaluate_TNK\r\n",
      "  max_workers: 1\r\n",
      "  function_kwargs: {sleep: 0, random_sleep: 0.1, raise_probability: 0}\r\n",
      "vocs:\r\n",
      "  variables:\r\n",
      "    x1: [0.0, 3.14159]\r\n",
      "    x2: [0.0, 3.14159]\r\n",
      "  constraints:\r\n",
      "    c1: [GREATER_THAN, 0.0]\r\n",
      "    c2: [LESS_THAN, 0.5]\r\n",
      "  objectives: {y1: MINIMIZE, y2: MINIMIZE}\r\n",
      "  constants: {a: dummy_constant}\r\n",
      "  linked_variables: {x9: x1}\r\n",
      "\r\n",
      "\r\n",
      "Running Xopt step\r\n",
      "Running Xopt step\r\n",
      "Running Xopt step\r\n",
      "Running Xopt step\r\n",
      "Running Xopt step\r\n",
      "Running Xopt step\r\n",
      "Running Xopt step\r\n",
      "Running Xopt step\r\n",
      "Running Xopt step\r\n",
      "Running Xopt step\r\n",
      "Running Xopt step\r\n",
      "Running Xopt step\r\n",
      "Running Xopt step\r\n",
      "Running Xopt step\r\n",
      "Running Xopt step\r\n",
      "Running Xopt step\r\n",
      "Running Xopt step\r\n",
      "Running Xopt step\r\n",
      "Running Xopt step\r\n",
      "Running Xopt step\r\n",
      "Running Xopt step\r\n",
      "Running Xopt step\r\n",
      "Running Xopt step\r\n",
      "Running Xopt step\r\n",
      "Running Xopt step\r\n",
      "Running Xopt step\r\n",
      "Running Xopt step\r\n",
      "Running Xopt step\r\n",
      "Running Xopt step\r\n",
      "Running Xopt step\r\n",
      "Running Xopt step\r\n",
      "Running Xopt step\r\n",
      "Running Xopt step\r\n",
      "Running Xopt step\r\n",
      "Running Xopt step\r\n",
      "Running Xopt step\r\n",
      "Running Xopt step\r\n",
      "Running Xopt step\r\n",
      "Running Xopt step\r\n",
      "Running Xopt step\r\n",
      "Running Xopt step\r\n",
      "Running Xopt step\r\n",
      "Running Xopt step\r\n",
      "Running Xopt step\r\n",
      "Running Xopt step\r\n",
      "Running Xopt step\r\n",
      "Running Xopt step\r\n",
      "Running Xopt step\r\n",
      "Running Xopt step\r\n",
      "Running Xopt step\r\n",
      "Running Xopt step\r\n",
      "Running Xopt step\r\n",
      "Running Xopt step\r\n",
      "Running Xopt step\r\n",
      "Running Xopt step\r\n",
      "Running Xopt step\r\n",
      "Running Xopt step\r\n",
      "Running Xopt step\r\n",
      "Running Xopt step\r\n",
      "Running Xopt step\r\n",
      "Running Xopt step\r\n",
      "Running Xopt step\r\n",
      "Running Xopt step\r\n",
      "Running Xopt step\r\n",
      "Running Xopt step\r\n",
      "Running Xopt step\r\n",
      "Running Xopt step\r\n",
      "Running Xopt step\r\n",
      "Running Xopt step\r\n",
      "Running Xopt step\r\n",
      "Running Xopt step\r\n",
      "Running Xopt step\r\n",
      "Running Xopt step\r\n",
      "Running Xopt step\r\n",
      "Running Xopt step\r\n",
      "Running Xopt step\r\n",
      "Running Xopt step\r\n",
      "Running Xopt step\r\n",
      "Running Xopt step\r\n",
      "Running Xopt step\r\n",
      "Running Xopt step\r\n",
      "Running Xopt step\r\n",
      "Running Xopt step\r\n",
      "Running Xopt step\r\n",
      "Running Xopt step\r\n",
      "Running Xopt step\r\n",
      "Running Xopt step\r\n",
      "Running Xopt step\r\n",
      "Running Xopt step\r\n",
      "Running Xopt step\r\n",
      "Running Xopt step\r\n",
      "Running Xopt step\r\n",
      "Running Xopt step\r\n",
      "Running Xopt step\r\n",
      "Running Xopt step\r\n",
      "Running Xopt step\r\n",
      "Running Xopt step\r\n",
      "Running Xopt step\r\n",
      "Running Xopt step\r\n",
      "Running Xopt step\r\n",
      "Running Xopt step\r\n",
      "Running Xopt step\r\n",
      "Running Xopt step\r\n",
      "Running Xopt step\r\n",
      "Running Xopt step\r\n",
      "Running Xopt step\r\n",
      "Running Xopt step\r\n",
      "Running Xopt step\r\n",
      "Running Xopt step\r\n",
      "Running Xopt step\r\n",
      "Running Xopt step\r\n",
      "Running Xopt step\r\n",
      "Running Xopt step\r\n",
      "Running Xopt step\r\n",
      "Running Xopt step\r\n",
      "Running Xopt step\r\n",
      "Running Xopt step\r\n",
      "Running Xopt step\r\n",
      "Running Xopt step\r\n",
      "Running Xopt step\r\n",
      "Running Xopt step\r\n",
      "Running Xopt step\r\n",
      "Running Xopt step\r\n",
      "Running Xopt step\r\n",
      "Running Xopt step\r\n",
      "Running Xopt step\r\n",
      "Running Xopt step\r\n",
      "Running Xopt step\r\n",
      "Running Xopt step\r\n",
      "Running Xopt step\r\n",
      "Running Xopt step\r\n",
      "Running Xopt step\r\n",
      "Running Xopt step\r\n",
      "Running Xopt step\r\n",
      "Running Xopt step\r\n",
      "Running Xopt step\r\n",
      "Running Xopt step\r\n",
      "Running Xopt step\r\n",
      "Running Xopt step\r\n",
      "Running Xopt step\r\n",
      "Running Xopt step\r\n",
      "Running Xopt step\r\n",
      "Running Xopt step\r\n",
      "Running Xopt step\r\n",
      "Running Xopt step\r\n",
      "Running Xopt step\r\n",
      "Running Xopt step\r\n",
      "Running Xopt step\r\n",
      "Running Xopt step\r\n",
      "Running Xopt step\r\n",
      "Running Xopt step\r\n",
      "Running Xopt step\r\n",
      "Running Xopt step\r\n",
      "Running Xopt step\r\n",
      "Running Xopt step\r\n",
      "Running Xopt step\r\n",
      "Running Xopt step\r\n",
      "Running Xopt step\r\n",
      "Running Xopt step\r\n",
      "Running Xopt step\r\n",
      "Running Xopt step\r\n",
      "Running Xopt step\r\n",
      "Running Xopt step\r\n",
      "Running Xopt step\r\n",
      "Running Xopt step\r\n",
      "Running Xopt step\r\n",
      "Running Xopt step\r\n",
      "Running Xopt step\r\n",
      "Running Xopt step\r\n",
      "Running Xopt step\r\n",
      "Running Xopt step\r\n",
      "Running Xopt step\r\n",
      "Running Xopt step\r\n",
      "Running Xopt step\r\n",
      "Running Xopt step\r\n",
      "Running Xopt step\r\n",
      "Running Xopt step\r\n",
      "Running Xopt step\r\n",
      "Running Xopt step\r\n",
      "Running Xopt step\r\n",
      "Running Xopt step\r\n",
      "Running Xopt step\r\n",
      "Running Xopt step\r\n",
      "Running Xopt step\r\n",
      "Running Xopt step\r\n",
      "Running Xopt step\r\n",
      "Running Xopt step\r\n",
      "Running Xopt step\r\n",
      "Running Xopt step\r\n",
      "Running Xopt step\r\n",
      "Running Xopt step\r\n",
      "Running Xopt step\r\n",
      "Running Xopt step\r\n",
      "Running Xopt step\r\n",
      "Running Xopt step\r\n",
      "Running Xopt step\r\n",
      "Running Xopt step\r\n",
      "Running Xopt step\r\n",
      "Running Xopt step\r\n",
      "Running Xopt step\r\n",
      "Running Xopt step\r\n",
      "Running Xopt step\r\n",
      "Running Xopt step\r\n",
      "Running Xopt step\r\n",
      "Running Xopt step\r\n",
      "Running Xopt step\r\n",
      "Running Xopt step\r\n",
      "Running Xopt step\r\n",
      "Running Xopt step\r\n",
      "Running Xopt step\r\n",
      "Running Xopt step\r\n",
      "Running Xopt step\r\n",
      "Running Xopt step\r\n",
      "Running Xopt step\r\n",
      "Running Xopt step\r\n",
      "Running Xopt step\r\n",
      "Running Xopt step\r\n",
      "Running Xopt step\r\n",
      "Running Xopt step\r\n",
      "Running Xopt step\r\n",
      "Running Xopt step\r\n",
      "Running Xopt step\r\n",
      "Running Xopt step\r\n",
      "Running Xopt step\r\n",
      "Running Xopt step\r\n",
      "Running Xopt step\r\n",
      "Running Xopt step\r\n",
      "Running Xopt step\r\n",
      "Running Xopt step\r\n",
      "Running Xopt step\r\n",
      "Running Xopt step\r\n",
      "Running Xopt step\r\n",
      "Running Xopt step\r\n",
      "Running Xopt step\r\n",
      "Running Xopt step\r\n",
      "Running Xopt step\r\n",
      "Running Xopt step\r\n",
      "Running Xopt step\r\n",
      "Running Xopt step\r\n",
      "Running Xopt step\r\n",
      "Running Xopt step\r\n",
      "Running Xopt step\r\n",
      "Running Xopt step\r\n",
      "Running Xopt step\r\n",
      "Running Xopt step\r\n",
      "Running Xopt step\r\n",
      "Running Xopt step\r\n",
      "Running Xopt step\r\n",
      "Running Xopt step\r\n",
      "Running Xopt step\r\n",
      "Running Xopt step\r\n",
      "Running Xopt step\r\n",
      "Running Xopt step\r\n",
      "Running Xopt step\r\n",
      "Running Xopt step\r\n",
      "Running Xopt step\r\n",
      "Running Xopt step\r\n",
      "Running Xopt step\r\n",
      "Running Xopt step\r\n",
      "Running Xopt step\r\n",
      "Running Xopt step\r\n",
      "Running Xopt step\r\n",
      "Running Xopt step\r\n",
      "Running Xopt step\r\n",
      "Running Xopt step\r\n",
      "Running Xopt step\r\n",
      "Running Xopt step\r\n",
      "Running Xopt step\r\n",
      "Running Xopt step\r\n",
      "Running Xopt step\r\n",
      "Running Xopt step\r\n",
      "Running Xopt step\r\n",
      "Running Xopt step\r\n",
      "Running Xopt step\r\n",
      "Running Xopt step\r\n",
      "Running Xopt step\r\n",
      "Running Xopt step\r\n",
      "Running Xopt step\r\n",
      "Running Xopt step\r\n",
      "Running Xopt step\r\n",
      "Running Xopt step\r\n",
      "Running Xopt step\r\n",
      "Running Xopt step\r\n",
      "Running Xopt step\r\n",
      "Running Xopt step\r\n",
      "Running Xopt step\r\n",
      "Running Xopt step\r\n",
      "Running Xopt step\r\n",
      "Running Xopt step\r\n",
      "Running Xopt step\r\n",
      "Running Xopt step\r\n",
      "Running Xopt step\r\n",
      "Running Xopt step\r\n",
      "Running Xopt step\r\n",
      "Running Xopt step\r\n",
      "Running Xopt step\r\n",
      "Running Xopt step\r\n",
      "Running Xopt step\r\n",
      "Running Xopt step\r\n",
      "Running Xopt step\r\n",
      "Running Xopt step\r\n",
      "Running Xopt step\r\n",
      "Running Xopt step\r\n",
      "Running Xopt step\r\n",
      "Running Xopt step\r\n",
      "Running Xopt step\r\n",
      "Running Xopt step\r\n",
      "Running Xopt step\r\n",
      "Running Xopt step\r\n",
      "Running Xopt step\r\n",
      "Running Xopt step\r\n",
      "Running Xopt step\r\n",
      "Running Xopt step\r\n",
      "Running Xopt step\r\n",
      "Running Xopt step\r\n",
      "Running Xopt step\r\n",
      "Running Xopt step\r\n",
      "Running Xopt step\r\n",
      "Running Xopt step\r\n",
      "Running Xopt step\r\n",
      "Running Xopt step\r\n",
      "Running Xopt step\r\n",
      "Running Xopt step\r\n",
      "Running Xopt step\r\n",
      "Running Xopt step\r\n",
      "Running Xopt step\r\n",
      "Running Xopt step\r\n",
      "Running Xopt step\r\n",
      "Running Xopt step\r\n",
      "Running Xopt step\r\n",
      "Running Xopt step\r\n",
      "Running Xopt step\r\n",
      "Running Xopt step\r\n",
      "Running Xopt step\r\n",
      "Running Xopt step\r\n",
      "Running Xopt step\r\n",
      "Running Xopt step\r\n",
      "Running Xopt step\r\n",
      "Running Xopt step\r\n",
      "Running Xopt step\r\n",
      "Running Xopt step\r\n",
      "Running Xopt step\r\n",
      "Running Xopt step\r\n",
      "Running Xopt step\r\n",
      "Running Xopt step\r\n",
      "Running Xopt step\r\n",
      "Running Xopt step\r\n",
      "Running Xopt step\r\n",
      "Running Xopt step\r\n",
      "Running Xopt step\r\n",
      "Running Xopt step\r\n",
      "Running Xopt step\r\n",
      "Running Xopt step\r\n",
      "Running Xopt step\r\n",
      "Running Xopt step\r\n",
      "Running Xopt step\r\n",
      "Running Xopt step\r\n",
      "Running Xopt step\r\n",
      "Running Xopt step\r\n",
      "Running Xopt step\r\n",
      "Running Xopt step\r\n",
      "Running Xopt step\r\n",
      "Running Xopt step\r\n",
      "Running Xopt step\r\n",
      "Running Xopt step\r\n",
      "Running Xopt step\r\n",
      "Running Xopt step\r\n",
      "Running Xopt step\r\n",
      "Running Xopt step\r\n",
      "Running Xopt step\r\n",
      "Running Xopt step\r\n",
      "Running Xopt step\r\n",
      "Running Xopt step\r\n",
      "Running Xopt step\r\n",
      "Running Xopt step\r\n",
      "Running Xopt step\r\n",
      "Running Xopt step\r\n",
      "Running Xopt step\r\n",
      "Running Xopt step\r\n",
      "Running Xopt step\r\n",
      "Running Xopt step\r\n",
      "Running Xopt step\r\n",
      "Running Xopt step\r\n",
      "Running Xopt step\r\n",
      "Running Xopt step\r\n",
      "Running Xopt step\r\n",
      "Running Xopt step\r\n",
      "Running Xopt step\r\n",
      "Running Xopt step\r\n",
      "Running Xopt step\r\n",
      "Running Xopt step\r\n",
      "Running Xopt step\r\n",
      "Running Xopt step\r\n",
      "Running Xopt step\r\n",
      "Running Xopt step\r\n",
      "Running Xopt step\r\n",
      "Running Xopt step\r\n",
      "Running Xopt step\r\n",
      "Running Xopt step\r\n",
      "Running Xopt step\r\n",
      "Running Xopt step\r\n",
      "Running Xopt step\r\n",
      "Running Xopt step\r\n",
      "Running Xopt step\r\n",
      "Running Xopt step\r\n",
      "Running Xopt step\r\n",
      "Running Xopt step\r\n",
      "Running Xopt step\r\n",
      "Running Xopt step\r\n",
      "Running Xopt step\r\n",
      "Running Xopt step\r\n",
      "Running Xopt step\r\n",
      "Running Xopt step\r\n",
      "Running Xopt step\r\n",
      "Running Xopt step\r\n",
      "Running Xopt step\r\n",
      "Running Xopt step\r\n",
      "Running Xopt step\r\n",
      "Running Xopt step\r\n",
      "Running Xopt step\r\n",
      "Running Xopt step\r\n",
      "Running Xopt step\r\n",
      "Running Xopt step\r\n",
      "Running Xopt step\r\n",
      "Running Xopt step\r\n",
      "Running Xopt step\r\n",
      "Running Xopt step\r\n",
      "Running Xopt step\r\n",
      "Running Xopt step\r\n",
      "Running Xopt step\r\n",
      "Running Xopt step\r\n",
      "Running Xopt step\r\n",
      "Running Xopt step\r\n",
      "Running Xopt step\r\n",
      "Running Xopt step\r\n",
      "Running Xopt step\r\n",
      "Running Xopt step\r\n",
      "Running Xopt step\r\n",
      "Running Xopt step\r\n",
      "Running Xopt step\r\n",
      "Running Xopt step\r\n",
      "Running Xopt step\r\n",
      "Running Xopt step\r\n",
      "Running Xopt step\r\n",
      "Running Xopt step\r\n",
      "Running Xopt step\r\n",
      "Running Xopt step\r\n",
      "Running Xopt step\r\n",
      "Running Xopt step\r\n",
      "Running Xopt step\r\n",
      "Running Xopt step\r\n",
      "Running Xopt step\r\n",
      "Running Xopt step\r\n",
      "Running Xopt step\r\n",
      "Running Xopt step\r\n",
      "Running Xopt step\r\n",
      "Running Xopt step\r\n",
      "Running Xopt step\r\n",
      "Running Xopt step\r\n",
      "Running Xopt step\r\n",
      "Running Xopt step\r\n",
      "Running Xopt step\r\n",
      "Running Xopt step\r\n",
      "Running Xopt step\r\n",
      "Running Xopt step\r\n",
      "Running Xopt step\r\n",
      "Running Xopt step\r\n",
      "Running Xopt step\r\n",
      "Running Xopt step\r\n",
      "Running Xopt step\r\n",
      "Running Xopt step\r\n",
      "Running Xopt step\r\n",
      "Running Xopt step\r\n",
      "Running Xopt step\r\n",
      "Running Xopt step\r\n",
      "Running Xopt step\r\n",
      "Running Xopt step\r\n",
      "Running Xopt step\r\n",
      "Running Xopt step\r\n",
      "Xopt is done. Max evaluations 1000 reached.\r\n",
      "CPU times: user 459 ms, sys: 146 ms, total: 605 ms\n",
      "Wall time: 30.7 s\n"
     ]
    }
   ],
   "source": [
    "%%time\n",
    "!mpirun -n {N_CPUS} python -m mpi4py.futures -m xopt.mpi.run -vv --logfile xopt.log test.yaml"
   ]
  },
  {
   "cell_type": "code",
   "execution_count": 12,
   "metadata": {
    "execution": {
     "iopub.execute_input": "2022-07-02T03:25:42.084193Z",
     "iopub.status.busy": "2022-07-02T03:25:42.083890Z",
     "iopub.status.idle": "2022-07-02T03:25:42.352867Z",
     "shell.execute_reply": "2022-07-02T03:25:42.352305Z"
    },
    "pycharm": {
     "name": "#%%\n"
    }
   },
   "outputs": [
    {
     "name": "stdout",
     "output_type": "stream",
     "text": [
      "2022-07-01T20:25:41-0700 - xopt.base - INFO - Running Xopt step\r\n",
      "2022-07-01T20:25:41-0700 - xopt.base - INFO - Running Xopt step\r\n",
      "2022-07-01T20:25:41-0700 - xopt.base - INFO - Running Xopt step\r\n",
      "2022-07-01T20:25:41-0700 - xopt.base - INFO - Running Xopt step\r\n",
      "2022-07-01T20:25:41-0700 - xopt.base - INFO - Running Xopt step\r\n",
      "2022-07-01T20:25:41-0700 - xopt.base - INFO - Running Xopt step\r\n",
      "2022-07-01T20:25:41-0700 - xopt.base - INFO - Running Xopt step\r\n",
      "2022-07-01T20:25:41-0700 - xopt.base - INFO - Running Xopt step\r\n",
      "2022-07-01T20:25:41-0700 - xopt.base - INFO - Running Xopt step\r\n",
      "2022-07-01T20:25:41-0700 - xopt.base - INFO - Xopt is done. Max evaluations 1000 reached.\r\n"
     ]
    }
   ],
   "source": [
    "!tail xopt.log"
   ]
  },
  {
   "cell_type": "markdown",
   "metadata": {
    "pycharm": {
     "name": "#%% md\n"
    }
   },
   "source": [
    "# Dask\n",
    "\n"
   ]
  },
  {
   "cell_type": "code",
   "execution_count": 13,
   "metadata": {
    "execution": {
     "iopub.execute_input": "2022-07-02T03:25:42.355681Z",
     "iopub.status.busy": "2022-07-02T03:25:42.355267Z",
     "iopub.status.idle": "2022-07-02T03:25:43.283065Z",
     "shell.execute_reply": "2022-07-02T03:25:43.282658Z"
    },
    "pycharm": {
     "name": "#%%\n"
    }
   },
   "outputs": [
    {
     "data": {
      "text/html": [
       "<div>\n",
       "    <div style=\"width: 24px; height: 24px; background-color: #e1e1e1; border: 3px solid #9D9D9D; border-radius: 5px; position: absolute;\"> </div>\n",
       "    <div style=\"margin-left: 48px;\">\n",
       "        <h3 style=\"margin-bottom: 0px;\">Client</h3>\n",
       "        <p style=\"color: #9D9D9D; margin-bottom: 0px;\">Client-a7265eda-f9b6-11ec-87f9-060412c509ea</p>\n",
       "        <table style=\"width: 100%; text-align: left;\">\n",
       "\n",
       "        <tr>\n",
       "        \n",
       "            <td style=\"text-align: left;\"><strong>Connection method:</strong> Cluster object</td>\n",
       "            <td style=\"text-align: left;\"><strong>Cluster type:</strong> distributed.LocalCluster</td>\n",
       "        \n",
       "        </tr>\n",
       "\n",
       "        \n",
       "            <tr>\n",
       "                <td style=\"text-align: left;\">\n",
       "                    <strong>Dashboard: </strong> <a href=\"http://127.0.0.1:8787/status\" target=\"_blank\">http://127.0.0.1:8787/status</a>\n",
       "                </td>\n",
       "                <td style=\"text-align: left;\"></td>\n",
       "            </tr>\n",
       "        \n",
       "\n",
       "        </table>\n",
       "\n",
       "        \n",
       "            <details>\n",
       "            <summary style=\"margin-bottom: 20px;\"><h3 style=\"display: inline;\">Cluster Info</h3></summary>\n",
       "            <div class=\"jp-RenderedHTMLCommon jp-RenderedHTML jp-mod-trusted jp-OutputArea-output\">\n",
       "    <div style=\"width: 24px; height: 24px; background-color: #e1e1e1; border: 3px solid #9D9D9D; border-radius: 5px; position: absolute;\">\n",
       "    </div>\n",
       "    <div style=\"margin-left: 48px;\">\n",
       "        <h3 style=\"margin-bottom: 0px; margin-top: 0px;\">LocalCluster</h3>\n",
       "        <p style=\"color: #9D9D9D; margin-bottom: 0px;\">65349694</p>\n",
       "        <table style=\"width: 100%; text-align: left;\">\n",
       "            <tr>\n",
       "                <td style=\"text-align: left;\">\n",
       "                    <strong>Dashboard:</strong> <a href=\"http://127.0.0.1:8787/status\" target=\"_blank\">http://127.0.0.1:8787/status</a>\n",
       "                </td>\n",
       "                <td style=\"text-align: left;\">\n",
       "                    <strong>Workers:</strong> 5\n",
       "                </td>\n",
       "            </tr>\n",
       "            <tr>\n",
       "                <td style=\"text-align: left;\">\n",
       "                    <strong>Total threads:</strong> 10\n",
       "                </td>\n",
       "                <td style=\"text-align: left;\">\n",
       "                    <strong>Total memory:</strong> 64.00 GiB\n",
       "                </td>\n",
       "            </tr>\n",
       "            \n",
       "            <tr>\n",
       "    <td style=\"text-align: left;\"><strong>Status:</strong> running</td>\n",
       "    <td style=\"text-align: left;\"><strong>Using processes:</strong> True</td>\n",
       "</tr>\n",
       "\n",
       "            \n",
       "        </table>\n",
       "\n",
       "        <details>\n",
       "            <summary style=\"margin-bottom: 20px;\">\n",
       "                <h3 style=\"display: inline;\">Scheduler Info</h3>\n",
       "            </summary>\n",
       "\n",
       "            <div style=\"\">\n",
       "    <div>\n",
       "        <div style=\"width: 24px; height: 24px; background-color: #FFF7E5; border: 3px solid #FF6132; border-radius: 5px; position: absolute;\"> </div>\n",
       "        <div style=\"margin-left: 48px;\">\n",
       "            <h3 style=\"margin-bottom: 0px;\">Scheduler</h3>\n",
       "            <p style=\"color: #9D9D9D; margin-bottom: 0px;\">Scheduler-39bda602-902c-49de-bc86-9fd3589344f2</p>\n",
       "            <table style=\"width: 100%; text-align: left;\">\n",
       "                <tr>\n",
       "                    <td style=\"text-align: left;\">\n",
       "                        <strong>Comm:</strong> tcp://127.0.0.1:51729\n",
       "                    </td>\n",
       "                    <td style=\"text-align: left;\">\n",
       "                        <strong>Workers:</strong> 5\n",
       "                    </td>\n",
       "                </tr>\n",
       "                <tr>\n",
       "                    <td style=\"text-align: left;\">\n",
       "                        <strong>Dashboard:</strong> <a href=\"http://127.0.0.1:8787/status\" target=\"_blank\">http://127.0.0.1:8787/status</a>\n",
       "                    </td>\n",
       "                    <td style=\"text-align: left;\">\n",
       "                        <strong>Total threads:</strong> 10\n",
       "                    </td>\n",
       "                </tr>\n",
       "                <tr>\n",
       "                    <td style=\"text-align: left;\">\n",
       "                        <strong>Started:</strong> Just now\n",
       "                    </td>\n",
       "                    <td style=\"text-align: left;\">\n",
       "                        <strong>Total memory:</strong> 64.00 GiB\n",
       "                    </td>\n",
       "                </tr>\n",
       "            </table>\n",
       "        </div>\n",
       "    </div>\n",
       "\n",
       "    <details style=\"margin-left: 48px;\">\n",
       "        <summary style=\"margin-bottom: 20px;\">\n",
       "            <h3 style=\"display: inline;\">Workers</h3>\n",
       "        </summary>\n",
       "\n",
       "        \n",
       "        <div style=\"margin-bottom: 20px;\">\n",
       "            <div style=\"width: 24px; height: 24px; background-color: #DBF5FF; border: 3px solid #4CC9FF; border-radius: 5px; position: absolute;\"> </div>\n",
       "            <div style=\"margin-left: 48px;\">\n",
       "            <details>\n",
       "                <summary>\n",
       "                    <h4 style=\"margin-bottom: 0px; display: inline;\">Worker: 0</h4>\n",
       "                </summary>\n",
       "                <table style=\"width: 100%; text-align: left;\">\n",
       "                    <tr>\n",
       "                        <td style=\"text-align: left;\">\n",
       "                            <strong>Comm: </strong> tcp://127.0.0.1:51756\n",
       "                        </td>\n",
       "                        <td style=\"text-align: left;\">\n",
       "                            <strong>Total threads: </strong> 2\n",
       "                        </td>\n",
       "                    </tr>\n",
       "                    <tr>\n",
       "                        <td style=\"text-align: left;\">\n",
       "                            <strong>Dashboard: </strong> <a href=\"http://127.0.0.1:51757/status\" target=\"_blank\">http://127.0.0.1:51757/status</a>\n",
       "                        </td>\n",
       "                        <td style=\"text-align: left;\">\n",
       "                            <strong>Memory: </strong> 12.80 GiB\n",
       "                        </td>\n",
       "                    </tr>\n",
       "                    <tr>\n",
       "                        <td style=\"text-align: left;\">\n",
       "                            <strong>Nanny: </strong> tcp://127.0.0.1:51736\n",
       "                        </td>\n",
       "                        <td style=\"text-align: left;\"></td>\n",
       "                    </tr>\n",
       "                    <tr>\n",
       "                        <td colspan=\"2\" style=\"text-align: left;\">\n",
       "                            <strong>Local directory: </strong> /Users/chrisonian/Code/GitHub/Xopt/docs/examples/basic/dask-worker-space/worker-0kde7ozn\n",
       "                        </td>\n",
       "                    </tr>\n",
       "\n",
       "                    \n",
       "\n",
       "                    \n",
       "\n",
       "                </table>\n",
       "            </details>\n",
       "            </div>\n",
       "        </div>\n",
       "        \n",
       "        <div style=\"margin-bottom: 20px;\">\n",
       "            <div style=\"width: 24px; height: 24px; background-color: #DBF5FF; border: 3px solid #4CC9FF; border-radius: 5px; position: absolute;\"> </div>\n",
       "            <div style=\"margin-left: 48px;\">\n",
       "            <details>\n",
       "                <summary>\n",
       "                    <h4 style=\"margin-bottom: 0px; display: inline;\">Worker: 1</h4>\n",
       "                </summary>\n",
       "                <table style=\"width: 100%; text-align: left;\">\n",
       "                    <tr>\n",
       "                        <td style=\"text-align: left;\">\n",
       "                            <strong>Comm: </strong> tcp://127.0.0.1:51753\n",
       "                        </td>\n",
       "                        <td style=\"text-align: left;\">\n",
       "                            <strong>Total threads: </strong> 2\n",
       "                        </td>\n",
       "                    </tr>\n",
       "                    <tr>\n",
       "                        <td style=\"text-align: left;\">\n",
       "                            <strong>Dashboard: </strong> <a href=\"http://127.0.0.1:51754/status\" target=\"_blank\">http://127.0.0.1:51754/status</a>\n",
       "                        </td>\n",
       "                        <td style=\"text-align: left;\">\n",
       "                            <strong>Memory: </strong> 12.80 GiB\n",
       "                        </td>\n",
       "                    </tr>\n",
       "                    <tr>\n",
       "                        <td style=\"text-align: left;\">\n",
       "                            <strong>Nanny: </strong> tcp://127.0.0.1:51734\n",
       "                        </td>\n",
       "                        <td style=\"text-align: left;\"></td>\n",
       "                    </tr>\n",
       "                    <tr>\n",
       "                        <td colspan=\"2\" style=\"text-align: left;\">\n",
       "                            <strong>Local directory: </strong> /Users/chrisonian/Code/GitHub/Xopt/docs/examples/basic/dask-worker-space/worker-_m0gtf8z\n",
       "                        </td>\n",
       "                    </tr>\n",
       "\n",
       "                    \n",
       "\n",
       "                    \n",
       "\n",
       "                </table>\n",
       "            </details>\n",
       "            </div>\n",
       "        </div>\n",
       "        \n",
       "        <div style=\"margin-bottom: 20px;\">\n",
       "            <div style=\"width: 24px; height: 24px; background-color: #DBF5FF; border: 3px solid #4CC9FF; border-radius: 5px; position: absolute;\"> </div>\n",
       "            <div style=\"margin-left: 48px;\">\n",
       "            <details>\n",
       "                <summary>\n",
       "                    <h4 style=\"margin-bottom: 0px; display: inline;\">Worker: 2</h4>\n",
       "                </summary>\n",
       "                <table style=\"width: 100%; text-align: left;\">\n",
       "                    <tr>\n",
       "                        <td style=\"text-align: left;\">\n",
       "                            <strong>Comm: </strong> tcp://127.0.0.1:51747\n",
       "                        </td>\n",
       "                        <td style=\"text-align: left;\">\n",
       "                            <strong>Total threads: </strong> 2\n",
       "                        </td>\n",
       "                    </tr>\n",
       "                    <tr>\n",
       "                        <td style=\"text-align: left;\">\n",
       "                            <strong>Dashboard: </strong> <a href=\"http://127.0.0.1:51748/status\" target=\"_blank\">http://127.0.0.1:51748/status</a>\n",
       "                        </td>\n",
       "                        <td style=\"text-align: left;\">\n",
       "                            <strong>Memory: </strong> 12.80 GiB\n",
       "                        </td>\n",
       "                    </tr>\n",
       "                    <tr>\n",
       "                        <td style=\"text-align: left;\">\n",
       "                            <strong>Nanny: </strong> tcp://127.0.0.1:51733\n",
       "                        </td>\n",
       "                        <td style=\"text-align: left;\"></td>\n",
       "                    </tr>\n",
       "                    <tr>\n",
       "                        <td colspan=\"2\" style=\"text-align: left;\">\n",
       "                            <strong>Local directory: </strong> /Users/chrisonian/Code/GitHub/Xopt/docs/examples/basic/dask-worker-space/worker-2l50vvq8\n",
       "                        </td>\n",
       "                    </tr>\n",
       "\n",
       "                    \n",
       "\n",
       "                    \n",
       "\n",
       "                </table>\n",
       "            </details>\n",
       "            </div>\n",
       "        </div>\n",
       "        \n",
       "        <div style=\"margin-bottom: 20px;\">\n",
       "            <div style=\"width: 24px; height: 24px; background-color: #DBF5FF; border: 3px solid #4CC9FF; border-radius: 5px; position: absolute;\"> </div>\n",
       "            <div style=\"margin-left: 48px;\">\n",
       "            <details>\n",
       "                <summary>\n",
       "                    <h4 style=\"margin-bottom: 0px; display: inline;\">Worker: 3</h4>\n",
       "                </summary>\n",
       "                <table style=\"width: 100%; text-align: left;\">\n",
       "                    <tr>\n",
       "                        <td style=\"text-align: left;\">\n",
       "                            <strong>Comm: </strong> tcp://127.0.0.1:51759\n",
       "                        </td>\n",
       "                        <td style=\"text-align: left;\">\n",
       "                            <strong>Total threads: </strong> 2\n",
       "                        </td>\n",
       "                    </tr>\n",
       "                    <tr>\n",
       "                        <td style=\"text-align: left;\">\n",
       "                            <strong>Dashboard: </strong> <a href=\"http://127.0.0.1:51760/status\" target=\"_blank\">http://127.0.0.1:51760/status</a>\n",
       "                        </td>\n",
       "                        <td style=\"text-align: left;\">\n",
       "                            <strong>Memory: </strong> 12.80 GiB\n",
       "                        </td>\n",
       "                    </tr>\n",
       "                    <tr>\n",
       "                        <td style=\"text-align: left;\">\n",
       "                            <strong>Nanny: </strong> tcp://127.0.0.1:51735\n",
       "                        </td>\n",
       "                        <td style=\"text-align: left;\"></td>\n",
       "                    </tr>\n",
       "                    <tr>\n",
       "                        <td colspan=\"2\" style=\"text-align: left;\">\n",
       "                            <strong>Local directory: </strong> /Users/chrisonian/Code/GitHub/Xopt/docs/examples/basic/dask-worker-space/worker-ufgobx73\n",
       "                        </td>\n",
       "                    </tr>\n",
       "\n",
       "                    \n",
       "\n",
       "                    \n",
       "\n",
       "                </table>\n",
       "            </details>\n",
       "            </div>\n",
       "        </div>\n",
       "        \n",
       "        <div style=\"margin-bottom: 20px;\">\n",
       "            <div style=\"width: 24px; height: 24px; background-color: #DBF5FF; border: 3px solid #4CC9FF; border-radius: 5px; position: absolute;\"> </div>\n",
       "            <div style=\"margin-left: 48px;\">\n",
       "            <details>\n",
       "                <summary>\n",
       "                    <h4 style=\"margin-bottom: 0px; display: inline;\">Worker: 4</h4>\n",
       "                </summary>\n",
       "                <table style=\"width: 100%; text-align: left;\">\n",
       "                    <tr>\n",
       "                        <td style=\"text-align: left;\">\n",
       "                            <strong>Comm: </strong> tcp://127.0.0.1:51750\n",
       "                        </td>\n",
       "                        <td style=\"text-align: left;\">\n",
       "                            <strong>Total threads: </strong> 2\n",
       "                        </td>\n",
       "                    </tr>\n",
       "                    <tr>\n",
       "                        <td style=\"text-align: left;\">\n",
       "                            <strong>Dashboard: </strong> <a href=\"http://127.0.0.1:51751/status\" target=\"_blank\">http://127.0.0.1:51751/status</a>\n",
       "                        </td>\n",
       "                        <td style=\"text-align: left;\">\n",
       "                            <strong>Memory: </strong> 12.80 GiB\n",
       "                        </td>\n",
       "                    </tr>\n",
       "                    <tr>\n",
       "                        <td style=\"text-align: left;\">\n",
       "                            <strong>Nanny: </strong> tcp://127.0.0.1:51732\n",
       "                        </td>\n",
       "                        <td style=\"text-align: left;\"></td>\n",
       "                    </tr>\n",
       "                    <tr>\n",
       "                        <td colspan=\"2\" style=\"text-align: left;\">\n",
       "                            <strong>Local directory: </strong> /Users/chrisonian/Code/GitHub/Xopt/docs/examples/basic/dask-worker-space/worker-wn7i7azi\n",
       "                        </td>\n",
       "                    </tr>\n",
       "\n",
       "                    \n",
       "\n",
       "                    \n",
       "\n",
       "                </table>\n",
       "            </details>\n",
       "            </div>\n",
       "        </div>\n",
       "        \n",
       "\n",
       "    </details>\n",
       "</div>\n",
       "\n",
       "        </details>\n",
       "    </div>\n",
       "</div>\n",
       "            </details>\n",
       "        \n",
       "\n",
       "    </div>\n",
       "</div>"
      ],
      "text/plain": [
       "<Client: 'tcp://127.0.0.1:51729' processes=5 threads=10, memory=64.00 GiB>"
      ]
     },
     "execution_count": 13,
     "metadata": {},
     "output_type": "execute_result"
    }
   ],
   "source": [
    "from dask.distributed import Client\n",
    "client = Client()\n",
    "executor = client.get_executor()\n",
    "client"
   ]
  },
  {
   "cell_type": "code",
   "execution_count": 14,
   "metadata": {
    "execution": {
     "iopub.execute_input": "2022-07-02T03:25:43.284966Z",
     "iopub.status.busy": "2022-07-02T03:25:43.284824Z",
     "iopub.status.idle": "2022-07-02T03:26:09.934574Z",
     "shell.execute_reply": "2022-07-02T03:26:09.934255Z"
    },
    "pycharm": {
     "name": "#%%\n"
    }
   },
   "outputs": [
    {
     "name": "stdout",
     "output_type": "stream",
     "text": [
      "CPU times: user 5.35 s, sys: 759 ms, total: 6.11 s\n",
      "Wall time: 26.6 s\n"
     ]
    }
   ],
   "source": [
    "%%time\n",
    "X = Xopt(YAML)\n",
    "X.evaluator.executor = executor\n",
    "X.evaluator.max_workers = N_CPUS\n",
    "X.run()"
   ]
  },
  {
   "cell_type": "markdown",
   "metadata": {
    "pycharm": {
     "name": "#%% md\n"
    }
   },
   "source": [
    "# Load output into Pandas\n",
    "\n",
    "This algorithm writes two types of files: `gen_{i}.json` with all of the new individuals evaluated in a generation, and `pop_{i}.json` with the latest best population. Xopt provides some functions to load these easily into a Pandas dataframe for further analysis."
   ]
  },
  {
   "cell_type": "code",
   "execution_count": 15,
   "metadata": {
    "execution": {
     "iopub.execute_input": "2022-07-02T03:26:09.936350Z",
     "iopub.status.busy": "2022-07-02T03:26:09.936234Z",
     "iopub.status.idle": "2022-07-02T03:26:09.937984Z",
     "shell.execute_reply": "2022-07-02T03:26:09.937719Z"
    },
    "pycharm": {
     "name": "#%%\n"
    }
   },
   "outputs": [],
   "source": [
    "import pandas as pd"
   ]
  },
  {
   "cell_type": "code",
   "execution_count": 16,
   "metadata": {
    "execution": {
     "iopub.execute_input": "2022-07-02T03:26:09.939421Z",
     "iopub.status.busy": "2022-07-02T03:26:09.939321Z",
     "iopub.status.idle": "2022-07-02T03:26:09.949961Z",
     "shell.execute_reply": "2022-07-02T03:26:09.949359Z"
    },
    "pycharm": {
     "name": "#%%\n"
    }
   },
   "outputs": [
    {
     "data": {
      "text/html": [
       "<div>\n",
       "<style scoped>\n",
       "    .dataframe tbody tr th:only-of-type {\n",
       "        vertical-align: middle;\n",
       "    }\n",
       "\n",
       "    .dataframe tbody tr th {\n",
       "        vertical-align: top;\n",
       "    }\n",
       "\n",
       "    .dataframe thead th {\n",
       "        text-align: right;\n",
       "    }\n",
       "</style>\n",
       "<table border=\"1\" class=\"dataframe\">\n",
       "  <thead>\n",
       "    <tr style=\"text-align: right;\">\n",
       "      <th></th>\n",
       "      <th>x1</th>\n",
       "      <th>x2</th>\n",
       "      <th>a</th>\n",
       "      <th>x9</th>\n",
       "      <th>y1</th>\n",
       "      <th>y2</th>\n",
       "      <th>c1</th>\n",
       "      <th>c2</th>\n",
       "      <th>some_array</th>\n",
       "      <th>xopt_error</th>\n",
       "      <th>xopt_error_str</th>\n",
       "    </tr>\n",
       "  </thead>\n",
       "  <tbody>\n",
       "    <tr>\n",
       "      <th>5</th>\n",
       "      <td>2.534560</td>\n",
       "      <td>0.958003</td>\n",
       "      <td>dummy_constant</td>\n",
       "      <td>2.534560</td>\n",
       "      <td>2.534560</td>\n",
       "      <td>0.958003</td>\n",
       "      <td>6.254060</td>\n",
       "      <td>4.349200</td>\n",
       "      <td>[1, 2, 3]</td>\n",
       "      <td>False</td>\n",
       "      <td></td>\n",
       "    </tr>\n",
       "    <tr>\n",
       "      <th>1</th>\n",
       "      <td>1.726435</td>\n",
       "      <td>2.005535</td>\n",
       "      <td>dummy_constant</td>\n",
       "      <td>1.726435</td>\n",
       "      <td>1.726435</td>\n",
       "      <td>2.005535</td>\n",
       "      <td>5.965986</td>\n",
       "      <td>3.770777</td>\n",
       "      <td>[1, 2, 3]</td>\n",
       "      <td>False</td>\n",
       "      <td></td>\n",
       "    </tr>\n",
       "    <tr>\n",
       "      <th>2</th>\n",
       "      <td>0.649429</td>\n",
       "      <td>3.138814</td>\n",
       "      <td>dummy_constant</td>\n",
       "      <td>0.649429</td>\n",
       "      <td>0.649429</td>\n",
       "      <td>3.138814</td>\n",
       "      <td>9.373159</td>\n",
       "      <td>6.985668</td>\n",
       "      <td>[1, 2, 3]</td>\n",
       "      <td>False</td>\n",
       "      <td></td>\n",
       "    </tr>\n",
       "    <tr>\n",
       "      <th>3</th>\n",
       "      <td>0.944018</td>\n",
       "      <td>0.634146</td>\n",
       "      <td>dummy_constant</td>\n",
       "      <td>0.944018</td>\n",
       "      <td>0.944018</td>\n",
       "      <td>0.634146</td>\n",
       "      <td>0.393233</td>\n",
       "      <td>0.215147</td>\n",
       "      <td>[1, 2, 3]</td>\n",
       "      <td>False</td>\n",
       "      <td></td>\n",
       "    </tr>\n",
       "    <tr>\n",
       "      <th>4</th>\n",
       "      <td>2.130957</td>\n",
       "      <td>1.812507</td>\n",
       "      <td>dummy_constant</td>\n",
       "      <td>2.130957</td>\n",
       "      <td>2.130957</td>\n",
       "      <td>1.812507</td>\n",
       "      <td>6.798378</td>\n",
       "      <td>4.382697</td>\n",
       "      <td>[1, 2, 3]</td>\n",
       "      <td>False</td>\n",
       "      <td></td>\n",
       "    </tr>\n",
       "    <tr>\n",
       "      <th>...</th>\n",
       "      <td>...</td>\n",
       "      <td>...</td>\n",
       "      <td>...</td>\n",
       "      <td>...</td>\n",
       "      <td>...</td>\n",
       "      <td>...</td>\n",
       "      <td>...</td>\n",
       "      <td>...</td>\n",
       "      <td>...</td>\n",
       "      <td>...</td>\n",
       "      <td>...</td>\n",
       "    </tr>\n",
       "    <tr>\n",
       "      <th>996</th>\n",
       "      <td>0.490667</td>\n",
       "      <td>1.008328</td>\n",
       "      <td>dummy_constant</td>\n",
       "      <td>NaN</td>\n",
       "      <td>0.490667</td>\n",
       "      <td>1.008328</td>\n",
       "      <td>0.200368</td>\n",
       "      <td>0.258484</td>\n",
       "      <td>[1, 2, 3]</td>\n",
       "      <td>False</td>\n",
       "      <td></td>\n",
       "    </tr>\n",
       "    <tr>\n",
       "      <th>998</th>\n",
       "      <td>0.887096</td>\n",
       "      <td>0.832257</td>\n",
       "      <td>dummy_constant</td>\n",
       "      <td>NaN</td>\n",
       "      <td>0.887096</td>\n",
       "      <td>0.832257</td>\n",
       "      <td>0.392325</td>\n",
       "      <td>0.260238</td>\n",
       "      <td>[1, 2, 3]</td>\n",
       "      <td>False</td>\n",
       "      <td></td>\n",
       "    </tr>\n",
       "    <tr>\n",
       "      <th>999</th>\n",
       "      <td>0.045609</td>\n",
       "      <td>1.009937</td>\n",
       "      <td>dummy_constant</td>\n",
       "      <td>NaN</td>\n",
       "      <td>0.045609</td>\n",
       "      <td>1.009937</td>\n",
       "      <td>-0.052991</td>\n",
       "      <td>0.466506</td>\n",
       "      <td>[1, 2, 3]</td>\n",
       "      <td>False</td>\n",
       "      <td></td>\n",
       "    </tr>\n",
       "    <tr>\n",
       "      <th>1000</th>\n",
       "      <td>0.622982</td>\n",
       "      <td>0.757516</td>\n",
       "      <td>dummy_constant</td>\n",
       "      <td>NaN</td>\n",
       "      <td>0.622982</td>\n",
       "      <td>0.757516</td>\n",
       "      <td>-0.039708</td>\n",
       "      <td>0.081439</td>\n",
       "      <td>[1, 2, 3]</td>\n",
       "      <td>False</td>\n",
       "      <td></td>\n",
       "    </tr>\n",
       "    <tr>\n",
       "      <th>1003</th>\n",
       "      <td>0.167336</td>\n",
       "      <td>0.979601</td>\n",
       "      <td>dummy_constant</td>\n",
       "      <td>NaN</td>\n",
       "      <td>0.167336</td>\n",
       "      <td>0.979601</td>\n",
       "      <td>0.078324</td>\n",
       "      <td>0.340683</td>\n",
       "      <td>[1, 2, 3]</td>\n",
       "      <td>False</td>\n",
       "      <td></td>\n",
       "    </tr>\n",
       "  </tbody>\n",
       "</table>\n",
       "<p>1001 rows × 11 columns</p>\n",
       "</div>"
      ],
      "text/plain": [
       "            x1        x2               a        x9        y1        y2  \\\n",
       "5     2.534560  0.958003  dummy_constant  2.534560  2.534560  0.958003   \n",
       "1     1.726435  2.005535  dummy_constant  1.726435  1.726435  2.005535   \n",
       "2     0.649429  3.138814  dummy_constant  0.649429  0.649429  3.138814   \n",
       "3     0.944018  0.634146  dummy_constant  0.944018  0.944018  0.634146   \n",
       "4     2.130957  1.812507  dummy_constant  2.130957  2.130957  1.812507   \n",
       "...        ...       ...             ...       ...       ...       ...   \n",
       "996   0.490667  1.008328  dummy_constant       NaN  0.490667  1.008328   \n",
       "998   0.887096  0.832257  dummy_constant       NaN  0.887096  0.832257   \n",
       "999   0.045609  1.009937  dummy_constant       NaN  0.045609  1.009937   \n",
       "1000  0.622982  0.757516  dummy_constant       NaN  0.622982  0.757516   \n",
       "1003  0.167336  0.979601  dummy_constant       NaN  0.167336  0.979601   \n",
       "\n",
       "            c1        c2 some_array  xopt_error xopt_error_str  \n",
       "5     6.254060  4.349200  [1, 2, 3]       False                 \n",
       "1     5.965986  3.770777  [1, 2, 3]       False                 \n",
       "2     9.373159  6.985668  [1, 2, 3]       False                 \n",
       "3     0.393233  0.215147  [1, 2, 3]       False                 \n",
       "4     6.798378  4.382697  [1, 2, 3]       False                 \n",
       "...        ...       ...        ...         ...            ...  \n",
       "996   0.200368  0.258484  [1, 2, 3]       False                 \n",
       "998   0.392325  0.260238  [1, 2, 3]       False                 \n",
       "999  -0.052991  0.466506  [1, 2, 3]       False                 \n",
       "1000 -0.039708  0.081439  [1, 2, 3]       False                 \n",
       "1003  0.078324  0.340683  [1, 2, 3]       False                 \n",
       "\n",
       "[1001 rows x 11 columns]"
      ]
     },
     "execution_count": 16,
     "metadata": {},
     "output_type": "execute_result"
    }
   ],
   "source": [
    "X.data"
   ]
  },
  {
   "cell_type": "code",
   "execution_count": 17,
   "metadata": {
    "execution": {
     "iopub.execute_input": "2022-07-02T03:26:09.951480Z",
     "iopub.status.busy": "2022-07-02T03:26:09.951390Z",
     "iopub.status.idle": "2022-07-02T03:26:09.961699Z",
     "shell.execute_reply": "2022-07-02T03:26:09.961455Z"
    },
    "pycharm": {
     "name": "#%%\n"
    }
   },
   "outputs": [
    {
     "data": {
      "text/html": [
       "<div>\n",
       "<style scoped>\n",
       "    .dataframe tbody tr th:only-of-type {\n",
       "        vertical-align: middle;\n",
       "    }\n",
       "\n",
       "    .dataframe tbody tr th {\n",
       "        vertical-align: top;\n",
       "    }\n",
       "\n",
       "    .dataframe thead th {\n",
       "        text-align: right;\n",
       "    }\n",
       "</style>\n",
       "<table border=\"1\" class=\"dataframe\">\n",
       "  <thead>\n",
       "    <tr style=\"text-align: right;\">\n",
       "      <th></th>\n",
       "      <th>x1</th>\n",
       "      <th>x2</th>\n",
       "      <th>a</th>\n",
       "      <th>x9</th>\n",
       "      <th>y1</th>\n",
       "      <th>y2</th>\n",
       "      <th>c1</th>\n",
       "      <th>c2</th>\n",
       "      <th>some_array</th>\n",
       "      <th>xopt_error</th>\n",
       "      <th>xopt_error_str</th>\n",
       "      <th>feasible_c1</th>\n",
       "      <th>feasible_c2</th>\n",
       "      <th>feasible</th>\n",
       "    </tr>\n",
       "  </thead>\n",
       "  <tbody>\n",
       "    <tr>\n",
       "      <th>3</th>\n",
       "      <td>0.944018</td>\n",
       "      <td>0.634146</td>\n",
       "      <td>dummy_constant</td>\n",
       "      <td>0.944018</td>\n",
       "      <td>0.944018</td>\n",
       "      <td>0.634146</td>\n",
       "      <td>0.393233</td>\n",
       "      <td>0.215147</td>\n",
       "      <td>[1, 2, 3]</td>\n",
       "      <td>False</td>\n",
       "      <td></td>\n",
       "      <td>True</td>\n",
       "      <td>True</td>\n",
       "      <td>True</td>\n",
       "    </tr>\n",
       "    <tr>\n",
       "      <th>36</th>\n",
       "      <td>0.975608</td>\n",
       "      <td>1.010900</td>\n",
       "      <td>dummy_constant</td>\n",
       "      <td>0.975608</td>\n",
       "      <td>0.975608</td>\n",
       "      <td>1.010900</td>\n",
       "      <td>0.877741</td>\n",
       "      <td>0.487222</td>\n",
       "      <td>[1, 2, 3]</td>\n",
       "      <td>False</td>\n",
       "      <td></td>\n",
       "      <td>True</td>\n",
       "      <td>True</td>\n",
       "      <td>True</td>\n",
       "    </tr>\n",
       "    <tr>\n",
       "      <th>44</th>\n",
       "      <td>0.419929</td>\n",
       "      <td>1.068103</td>\n",
       "      <td>dummy_constant</td>\n",
       "      <td>0.419929</td>\n",
       "      <td>0.419929</td>\n",
       "      <td>1.068103</td>\n",
       "      <td>0.221353</td>\n",
       "      <td>0.329152</td>\n",
       "      <td>[1, 2, 3]</td>\n",
       "      <td>False</td>\n",
       "      <td></td>\n",
       "      <td>True</td>\n",
       "      <td>True</td>\n",
       "      <td>True</td>\n",
       "    </tr>\n",
       "    <tr>\n",
       "      <th>42</th>\n",
       "      <td>1.081027</td>\n",
       "      <td>0.542694</td>\n",
       "      <td>dummy_constant</td>\n",
       "      <td>1.081027</td>\n",
       "      <td>1.081027</td>\n",
       "      <td>0.542694</td>\n",
       "      <td>0.423292</td>\n",
       "      <td>0.339415</td>\n",
       "      <td>[1, 2, 3]</td>\n",
       "      <td>False</td>\n",
       "      <td></td>\n",
       "      <td>True</td>\n",
       "      <td>True</td>\n",
       "      <td>True</td>\n",
       "    </tr>\n",
       "    <tr>\n",
       "      <th>53</th>\n",
       "      <td>0.756893</td>\n",
       "      <td>0.849138</td>\n",
       "      <td>dummy_constant</td>\n",
       "      <td>0.756893</td>\n",
       "      <td>0.756893</td>\n",
       "      <td>0.849138</td>\n",
       "      <td>0.233180</td>\n",
       "      <td>0.187892</td>\n",
       "      <td>[1, 2, 3]</td>\n",
       "      <td>False</td>\n",
       "      <td></td>\n",
       "      <td>True</td>\n",
       "      <td>True</td>\n",
       "      <td>True</td>\n",
       "    </tr>\n",
       "    <tr>\n",
       "      <th>...</th>\n",
       "      <td>...</td>\n",
       "      <td>...</td>\n",
       "      <td>...</td>\n",
       "      <td>...</td>\n",
       "      <td>...</td>\n",
       "      <td>...</td>\n",
       "      <td>...</td>\n",
       "      <td>...</td>\n",
       "      <td>...</td>\n",
       "      <td>...</td>\n",
       "      <td>...</td>\n",
       "      <td>...</td>\n",
       "      <td>...</td>\n",
       "      <td>...</td>\n",
       "    </tr>\n",
       "    <tr>\n",
       "      <th>991</th>\n",
       "      <td>0.802580</td>\n",
       "      <td>0.939962</td>\n",
       "      <td>dummy_constant</td>\n",
       "      <td>NaN</td>\n",
       "      <td>0.802580</td>\n",
       "      <td>0.939962</td>\n",
       "      <td>0.496970</td>\n",
       "      <td>0.285121</td>\n",
       "      <td>[1, 2, 3]</td>\n",
       "      <td>False</td>\n",
       "      <td></td>\n",
       "      <td>True</td>\n",
       "      <td>True</td>\n",
       "      <td>True</td>\n",
       "    </tr>\n",
       "    <tr>\n",
       "      <th>993</th>\n",
       "      <td>0.719661</td>\n",
       "      <td>0.804975</td>\n",
       "      <td>dummy_constant</td>\n",
       "      <td>NaN</td>\n",
       "      <td>0.719661</td>\n",
       "      <td>0.804975</td>\n",
       "      <td>0.103297</td>\n",
       "      <td>0.141261</td>\n",
       "      <td>[1, 2, 3]</td>\n",
       "      <td>False</td>\n",
       "      <td></td>\n",
       "      <td>True</td>\n",
       "      <td>True</td>\n",
       "      <td>True</td>\n",
       "    </tr>\n",
       "    <tr>\n",
       "      <th>996</th>\n",
       "      <td>0.490667</td>\n",
       "      <td>1.008328</td>\n",
       "      <td>dummy_constant</td>\n",
       "      <td>NaN</td>\n",
       "      <td>0.490667</td>\n",
       "      <td>1.008328</td>\n",
       "      <td>0.200368</td>\n",
       "      <td>0.258484</td>\n",
       "      <td>[1, 2, 3]</td>\n",
       "      <td>False</td>\n",
       "      <td></td>\n",
       "      <td>True</td>\n",
       "      <td>True</td>\n",
       "      <td>True</td>\n",
       "    </tr>\n",
       "    <tr>\n",
       "      <th>998</th>\n",
       "      <td>0.887096</td>\n",
       "      <td>0.832257</td>\n",
       "      <td>dummy_constant</td>\n",
       "      <td>NaN</td>\n",
       "      <td>0.887096</td>\n",
       "      <td>0.832257</td>\n",
       "      <td>0.392325</td>\n",
       "      <td>0.260238</td>\n",
       "      <td>[1, 2, 3]</td>\n",
       "      <td>False</td>\n",
       "      <td></td>\n",
       "      <td>True</td>\n",
       "      <td>True</td>\n",
       "      <td>True</td>\n",
       "    </tr>\n",
       "    <tr>\n",
       "      <th>1003</th>\n",
       "      <td>0.167336</td>\n",
       "      <td>0.979601</td>\n",
       "      <td>dummy_constant</td>\n",
       "      <td>NaN</td>\n",
       "      <td>0.167336</td>\n",
       "      <td>0.979601</td>\n",
       "      <td>0.078324</td>\n",
       "      <td>0.340683</td>\n",
       "      <td>[1, 2, 3]</td>\n",
       "      <td>False</td>\n",
       "      <td></td>\n",
       "      <td>True</td>\n",
       "      <td>True</td>\n",
       "      <td>True</td>\n",
       "    </tr>\n",
       "  </tbody>\n",
       "</table>\n",
       "<p>491 rows × 14 columns</p>\n",
       "</div>"
      ],
      "text/plain": [
       "            x1        x2               a        x9        y1        y2  \\\n",
       "3     0.944018  0.634146  dummy_constant  0.944018  0.944018  0.634146   \n",
       "36    0.975608  1.010900  dummy_constant  0.975608  0.975608  1.010900   \n",
       "44    0.419929  1.068103  dummy_constant  0.419929  0.419929  1.068103   \n",
       "42    1.081027  0.542694  dummy_constant  1.081027  1.081027  0.542694   \n",
       "53    0.756893  0.849138  dummy_constant  0.756893  0.756893  0.849138   \n",
       "...        ...       ...             ...       ...       ...       ...   \n",
       "991   0.802580  0.939962  dummy_constant       NaN  0.802580  0.939962   \n",
       "993   0.719661  0.804975  dummy_constant       NaN  0.719661  0.804975   \n",
       "996   0.490667  1.008328  dummy_constant       NaN  0.490667  1.008328   \n",
       "998   0.887096  0.832257  dummy_constant       NaN  0.887096  0.832257   \n",
       "1003  0.167336  0.979601  dummy_constant       NaN  0.167336  0.979601   \n",
       "\n",
       "            c1        c2 some_array  xopt_error xopt_error_str  feasible_c1  \\\n",
       "3     0.393233  0.215147  [1, 2, 3]       False                        True   \n",
       "36    0.877741  0.487222  [1, 2, 3]       False                        True   \n",
       "44    0.221353  0.329152  [1, 2, 3]       False                        True   \n",
       "42    0.423292  0.339415  [1, 2, 3]       False                        True   \n",
       "53    0.233180  0.187892  [1, 2, 3]       False                        True   \n",
       "...        ...       ...        ...         ...            ...          ...   \n",
       "991   0.496970  0.285121  [1, 2, 3]       False                        True   \n",
       "993   0.103297  0.141261  [1, 2, 3]       False                        True   \n",
       "996   0.200368  0.258484  [1, 2, 3]       False                        True   \n",
       "998   0.392325  0.260238  [1, 2, 3]       False                        True   \n",
       "1003  0.078324  0.340683  [1, 2, 3]       False                        True   \n",
       "\n",
       "      feasible_c2  feasible  \n",
       "3            True      True  \n",
       "36           True      True  \n",
       "44           True      True  \n",
       "42           True      True  \n",
       "53           True      True  \n",
       "...           ...       ...  \n",
       "991          True      True  \n",
       "993          True      True  \n",
       "996          True      True  \n",
       "998          True      True  \n",
       "1003         True      True  \n",
       "\n",
       "[491 rows x 14 columns]"
      ]
     },
     "execution_count": 17,
     "metadata": {},
     "output_type": "execute_result"
    }
   ],
   "source": [
    "df = pd.concat([X.data, X.vocs.feasibility_data(X.data)], axis=1)\n",
    "df[df['feasible']]"
   ]
  },
  {
   "cell_type": "code",
   "execution_count": 18,
   "metadata": {
    "execution": {
     "iopub.execute_input": "2022-07-02T03:26:09.963345Z",
     "iopub.status.busy": "2022-07-02T03:26:09.963213Z",
     "iopub.status.idle": "2022-07-02T03:26:10.293817Z",
     "shell.execute_reply": "2022-07-02T03:26:10.293540Z"
    },
    "pycharm": {
     "name": "#%%\n"
    }
   },
   "outputs": [
    {
     "data": {
      "image/png": "[encoded data removed]",
      "text/plain": [
       "<Figure size 432x288 with 1 Axes>"
      ]
     },
     "metadata": {
      "needs_background": "light"
     },
     "output_type": "display_data"
    }
   ],
   "source": [
    "# Plot the feasible ones\n",
    "feasible_df = df[df[\"feasible\"]]\n",
    "feasible_df.plot(\"y1\", \"y2\", kind=\"scatter\").set_aspect(\"equal\")"
   ]
  },
  {
   "cell_type": "code",
   "execution_count": 19,
   "metadata": {
    "execution": {
     "iopub.execute_input": "2022-07-02T03:26:10.295507Z",
     "iopub.status.busy": "2022-07-02T03:26:10.295345Z",
     "iopub.status.idle": "2022-07-02T03:26:10.342537Z",
     "shell.execute_reply": "2022-07-02T03:26:10.342244Z"
    },
    "pycharm": {
     "name": "#%%\n"
    }
   },
   "outputs": [
    {
     "data": {
      "image/png": "[encoded data removed]",
      "text/plain": [
       "<Figure size 432x288 with 1 Axes>"
      ]
     },
     "metadata": {
      "needs_background": "light"
     },
     "output_type": "display_data"
    }
   ],
   "source": [
    "# Plot the infeasible ones\n",
    "infeasible_df = df[~df[\"feasible\"]]\n",
    "infeasible_df.plot(\"y1\", \"y2\", kind=\"scatter\").set_aspect(\"equal\")"
   ]
  },
  {
   "cell_type": "code",
   "execution_count": 20,
   "metadata": {
    "execution": {
     "iopub.execute_input": "2022-07-02T03:26:10.344200Z",
     "iopub.status.busy": "2022-07-02T03:26:10.344081Z",
     "iopub.status.idle": "2022-07-02T03:26:10.386366Z",
     "shell.execute_reply": "2022-07-02T03:26:10.386051Z"
    },
    "pycharm": {
     "name": "#%%\n"
    }
   },
   "outputs": [
    {
     "data": {
      "image/png": "[encoded data removed]",
      "text/plain": [
       "<Figure size 432x288 with 1 Axes>"
      ]
     },
     "metadata": {
      "needs_background": "light"
     },
     "output_type": "display_data"
    }
   ],
   "source": [
    "# This is the final population\n",
    "df1 = X.generator.population\n",
    "df1.plot(\"y1\", \"y2\", kind=\"scatter\").set_aspect(\"equal\")"
   ]
  },
  {
   "cell_type": "markdown",
   "metadata": {
    "pycharm": {
     "name": "#%% md\n"
    }
   },
   "source": [
    "# matplotlib plotting\n",
    "\n",
    "You can always use matplotlib for customizable plotting"
   ]
  },
  {
   "cell_type": "code",
   "execution_count": 21,
   "metadata": {
    "execution": {
     "iopub.execute_input": "2022-07-02T03:26:10.388162Z",
     "iopub.status.busy": "2022-07-02T03:26:10.388050Z",
     "iopub.status.idle": "2022-07-02T03:26:10.390409Z",
     "shell.execute_reply": "2022-07-02T03:26:10.389941Z"
    },
    "pycharm": {
     "name": "#%%\n"
    }
   },
   "outputs": [],
   "source": [
    "import matplotlib.pyplot as plt\n",
    "\n",
    "%matplotlib inline"
   ]
  },
  {
   "cell_type": "code",
   "execution_count": 22,
   "metadata": {
    "execution": {
     "iopub.execute_input": "2022-07-02T03:26:10.391901Z",
     "iopub.status.busy": "2022-07-02T03:26:10.391800Z",
     "iopub.status.idle": "2022-07-02T03:26:10.478191Z",
     "shell.execute_reply": "2022-07-02T03:26:10.477824Z"
    },
    "pycharm": {
     "name": "#%%\n"
    }
   },
   "outputs": [
    {
     "data": {
      "text/plain": [
       "<matplotlib.legend.Legend at 0x13ebd0d60>"
      ]
     },
     "execution_count": 22,
     "metadata": {},
     "output_type": "execute_result"
    },
    {
     "data": {
      "image/png": "[encoded data removed]",
      "text/plain": [
       "<Figure size 432x432 with 1 Axes>"
      ]
     },
     "metadata": {
      "needs_background": "light"
     },
     "output_type": "display_data"
    }
   ],
   "source": [
    "# Extract objectives from output\n",
    "k1, k2 = \"y1\", \"y2\"\n",
    "\n",
    "fig, ax = plt.subplots(figsize=(6, 6))\n",
    "\n",
    "ax.scatter(\n",
    "    infeasible_df[k1],\n",
    "    infeasible_df[k2],\n",
    "    color=\"blue\",\n",
    "    marker=\".\",\n",
    "    alpha=0.5,\n",
    "    label=\"infeasible\",\n",
    ")\n",
    "ax.scatter(\n",
    "    feasible_df[k1], feasible_df[k2], color=\"orange\", marker=\".\", label=\"feasible\"\n",
    ")\n",
    "ax.scatter(df1[k1], df1[k2], color=\"red\", marker=\".\", label=\"final population\")\n",
    "ax.set_xlabel(k1)\n",
    "ax.set_ylabel(k2)\n",
    "ax.set_aspect(\"auto\")\n",
    "ax.set_title(f\"Xopt's CNSGA algorithm\")\n",
    "plt.legend()"
   ]
  },
  {
   "cell_type": "code",
   "execution_count": 23,
   "metadata": {
    "execution": {
     "iopub.execute_input": "2022-07-02T03:26:10.479957Z",
     "iopub.status.busy": "2022-07-02T03:26:10.479845Z",
     "iopub.status.idle": "2022-07-02T03:26:11.537891Z",
     "shell.execute_reply": "2022-07-02T03:26:11.537191Z"
    },
    "pycharm": {
     "name": "#%%\n"
    }
   },
   "outputs": [],
   "source": [
    "# Cleanup\n",
    "!rm -r dask-worker-space\n",
    "!rm -r temp\n",
    "!rm xopt.log*\n",
    "!rm test.yaml"
   ]
  }
 ],
 "metadata": {
  "interpreter": {
   "hash": "72034539424920dfb606fe3b820b3f27dca0cbf1c69938110810ec4641e275b1"
  },
  "kernelspec": {
   "display_name": "Python 3.9.12 ('xopt-dev')",
   "language": "python",
   "name": "python3"
  },
  "language_info": {
   "codemirror_mode": {
    "name": "ipython",
    "version": 3
   },
   "file_extension": ".py",
   "mimetype": "text/x-python",
   "name": "python",
   "nbconvert_exporter": "python",
   "pygments_lexer": "ipython3",
   "version": "3.9.13"
  }
 },
 "nbformat": 4,
 "nbformat_minor": 4
}
