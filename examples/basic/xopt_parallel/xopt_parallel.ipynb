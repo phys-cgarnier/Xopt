{
 "cells": [
  {
   "cell_type": "markdown",
   "metadata": {
    "pycharm": {
     "name": "#%% md\n"
    }
   },
   "source": [
    "# Xopt Parallel Examples\n",
    "\n",
    "Xopt provides methods to parallelize optimizations using Processes, Threads, MPI, and Dask using the `concurrent.futures` interface as defined in  https://www.python.org/dev/peps/pep-3148/ ."
   ]
  },
  {
   "cell_type": "code",
   "execution_count": 1,
   "metadata": {
    "execution": {
     "iopub.execute_input": "2022-07-02T03:22:40.867616Z",
     "iopub.status.busy": "2022-07-02T03:22:40.867297Z",
     "iopub.status.idle": "2022-07-02T03:22:41.538758Z",
     "shell.execute_reply": "2022-07-02T03:22:41.538424Z"
    },
    "pycharm": {
     "name": "#%%\n"
    }
   },
   "outputs": [],
   "source": [
    "# Import the class\n",
    "from xopt import Xopt\n",
    "\n",
    "# Notebook printing output\n",
    "#from xopt import output_notebook\n",
    "#output_notebook()\n",
    "\n",
    "import multiprocessing\n",
    "N_CPUS=multiprocessing.cpu_count()\n",
    "N_CPUS\n",
    "\n",
    "import os\n",
    "\n",
    "# directory for data. \n",
    "os.makedirs(\"temp\", exist_ok=True)\n"
   ]
  },
  {
   "cell_type": "markdown",
   "metadata": {
    "pycharm": {
     "name": "#%% md\n"
    }
   },
   "source": [
    "The `Xopt` object can be instantiated from a JSON or YAML file, or a dict, with the proper structure.\n",
    "\n",
    "Here we will make one"
   ]
  },
  {
   "cell_type": "code",
   "execution_count": 2,
   "metadata": {
    "execution": {
     "iopub.execute_input": "2022-07-02T03:22:41.813692Z",
     "iopub.status.busy": "2022-07-02T03:22:41.813504Z",
     "iopub.status.idle": "2022-07-02T03:22:41.829500Z",
     "shell.execute_reply": "2022-07-02T03:22:41.829220Z"
    },
    "pycharm": {
     "name": "#%%\n"
    }
   },
   "outputs": [
    {
     "data": {
      "text/plain": [
       "\n",
       "            Xopt\n",
       "________________________________\n",
       "Version: 0.5.0+252.gced4dd5.dirty\n",
       "Data size: 0\n",
       "Config as YAML:\n",
       "xopt: {asynch: true, strict: false, dump_file: null, max_evaluations: 1000}\n",
       "generator: {name: cnsga, population_size: 64, crossover_probability: 0.9, mutation_probability: 1.0,\n",
       "  population_file: null, output_path: temp}\n",
       "evaluator:\n",
       "  function: xopt.resources.test_functions.tnk.evaluate_TNK\n",
       "  max_workers: 1\n",
       "  function_kwargs: {sleep: 0, random_sleep: 0.1, raise_probability: 0}\n",
       "vocs:\n",
       "  variables:\n",
       "    x1: [0.0, 3.14159]\n",
       "    x2: [0.0, 3.14159]\n",
       "  constraints:\n",
       "    c1: [GREATER_THAN, 0.0]\n",
       "    c2: [LESS_THAN, 0.5]\n",
       "  objectives: {y1: MINIMIZE, y2: MINIMIZE}\n",
       "  constants: {a: dummy_constant}\n",
       "  linked_variables: {x9: x1}\n"
      ]
     },
     "execution_count": 2,
     "metadata": {},
     "output_type": "execute_result"
    }
   ],
   "source": [
    "# Make a proper input file.\n",
    "YAML = \"\"\"\n",
    "xopt:\n",
    "  asynch: True\n",
    "  max_evaluations: 1000\n",
    "\n",
    "generator:\n",
    "  name: cnsga\n",
    "  output_path: temp\n",
    "  population_size:  64\n",
    "  \n",
    "evaluator:\n",
    "  function: xopt.resources.test_functions.tnk.evaluate_TNK\n",
    "  function_kwargs:\n",
    "    sleep: 0\n",
    "    random_sleep: 0.1\n",
    "  \n",
    "vocs:\n",
    "  variables:\n",
    "    x1: [0, 3.14159]\n",
    "    x2: [0, 3.14159]\n",
    "  objectives: {y1: MINIMIZE, y2: MINIMIZE}\n",
    "  constraints:\n",
    "    c1: [GREATER_THAN, 0]\n",
    "    c2: [LESS_THAN, 0.5]\n",
    "  linked_variables: {x9: x1}\n",
    "  constants: {a: dummy_constant}\n",
    "\n",
    "\"\"\"\n",
    "X = Xopt(YAML)\n",
    "X"
   ]
  },
  {
   "cell_type": "code",
   "execution_count": 3,
   "metadata": {
    "execution": {
     "iopub.execute_input": "2022-07-02T03:22:41.831298Z",
     "iopub.status.busy": "2022-07-02T03:22:41.831164Z",
     "iopub.status.idle": "2022-07-02T03:22:50.614427Z",
     "shell.execute_reply": "2022-07-02T03:22:50.613438Z"
    },
    "pycharm": {
     "name": "#%%\n"
    }
   },
   "outputs": [
    {
     "name": "stdout",
     "output_type": "stream",
     "text": [
      "98.1 ms ± 20 ms per loop (mean ± std. dev. of 7 runs, 10 loops each)\n"
     ]
    }
   ],
   "source": [
    "%%timeit\n",
    "# Check that the average time is close to random_sleep\n",
    "X.evaluator.function({\"x1\": 0.5, \"x2\": 0.5}, random_sleep = .1)"
   ]
  },
  {
   "cell_type": "code",
   "execution_count": 4,
   "metadata": {
    "execution": {
     "iopub.execute_input": "2022-07-02T03:22:50.618389Z",
     "iopub.status.busy": "2022-07-02T03:22:50.618099Z",
     "iopub.status.idle": "2022-07-02T03:24:45.937568Z",
     "shell.execute_reply": "2022-07-02T03:24:45.936851Z"
    },
    "pycharm": {
     "name": "#%%\n"
    }
   },
   "outputs": [
    {
     "name": "stdout",
     "output_type": "stream",
     "text": [
      "CPU times: user 8.91 s, sys: 94.9 ms, total: 9.01 s\n",
      "Wall time: 1min 57s\n"
     ]
    }
   ],
   "source": [
    "%%time\n",
    "X.run()"
   ]
  },
  {
   "cell_type": "markdown",
   "metadata": {
    "pycharm": {
     "name": "#%% md\n"
    }
   },
   "source": [
    "# Processes"
   ]
  },
  {
   "cell_type": "code",
   "execution_count": 5,
   "metadata": {
    "execution": {
     "iopub.execute_input": "2022-07-02T03:24:45.942081Z",
     "iopub.status.busy": "2022-07-02T03:24:45.941750Z",
     "iopub.status.idle": "2022-07-02T03:24:45.945061Z",
     "shell.execute_reply": "2022-07-02T03:24:45.944538Z"
    },
    "pycharm": {
     "name": "#%%\n"
    }
   },
   "outputs": [],
   "source": [
    "from concurrent.futures import ProcessPoolExecutor"
   ]
  },
  {
   "cell_type": "code",
   "execution_count": 6,
   "metadata": {
    "execution": {
     "iopub.execute_input": "2022-07-02T03:24:45.948030Z",
     "iopub.status.busy": "2022-07-02T03:24:45.947835Z",
     "iopub.status.idle": "2022-07-02T03:24:45.974579Z",
     "shell.execute_reply": "2022-07-02T03:24:45.974116Z"
    },
    "pycharm": {
     "name": "#%%\n"
    }
   },
   "outputs": [
    {
     "name": "stdout",
     "output_type": "stream",
     "text": [
      "CPU times: user 4.13 ms, sys: 5.15 ms, total: 9.28 ms\n",
      "Wall time: 8.57 ms\n"
     ]
    },
    {
     "data": {
      "text/plain": [
       "0"
      ]
     },
     "execution_count": 6,
     "metadata": {},
     "output_type": "execute_result"
    }
   ],
   "source": [
    "%%time\n",
    "X = Xopt(YAML)\n",
    "\n",
    "with ProcessPoolExecutor() as executor:\n",
    "    X.evaluator.executor = executor\n",
    "    X.evaluator.max_workers = N_CPUS\n",
    "    \n",
    "len(X.data)"
   ]
  },
  {
   "cell_type": "markdown",
   "metadata": {
    "pycharm": {
     "name": "#%% md\n"
    }
   },
   "source": [
    "# Threads\n",
    "\n",
    "Continue running, this time with threads."
   ]
  },
  {
   "cell_type": "code",
   "execution_count": 7,
   "metadata": {
    "execution": {
     "iopub.execute_input": "2022-07-02T03:24:45.976904Z",
     "iopub.status.busy": "2022-07-02T03:24:45.976686Z",
     "iopub.status.idle": "2022-07-02T03:24:45.979272Z",
     "shell.execute_reply": "2022-07-02T03:24:45.978947Z"
    },
    "pycharm": {
     "name": "#%%\n"
    }
   },
   "outputs": [],
   "source": [
    "from concurrent.futures import ThreadPoolExecutor"
   ]
  },
  {
   "cell_type": "code",
   "execution_count": 8,
   "metadata": {
    "execution": {
     "iopub.execute_input": "2022-07-02T03:24:45.981047Z",
     "iopub.status.busy": "2022-07-02T03:24:45.980915Z",
     "iopub.status.idle": "2022-07-02T03:25:11.072275Z",
     "shell.execute_reply": "2022-07-02T03:25:11.071480Z"
    },
    "pycharm": {
     "name": "#%%\n"
    }
   },
   "outputs": [
    {
     "name": "stdout",
     "output_type": "stream",
     "text": [
      "CPU times: user 2.63 s, sys: 71.4 ms, total: 2.71 s\n",
      "Wall time: 11.6 s\n"
     ]
    },
    {
     "data": {
      "text/plain": [
       "1002"
      ]
     },
     "execution_count": 8,
     "metadata": {},
     "output_type": "execute_result"
    }
   ],
   "source": [
    "%%time\n",
    "\n",
    "X = Xopt(YAML)\n",
    "\n",
    "with ThreadPoolExecutor() as executor:\n",
    "    X.evaluator.executor = executor\n",
    "    X.evaluator.max_workers = N_CPUS\n",
    "    X.run()\n",
    "len(X.data)"
   ]
  },
  {
   "cell_type": "markdown",
   "metadata": {
    "pycharm": {
     "name": "#%% md\n"
    }
   },
   "source": [
    "# MPI \n",
    "\n",
    "The `test.yaml` file completely defines the problem. We will also direct the logging to an `xopt.log` file. The following invocation recruits 4 MPI workers to solve this problem.\n",
    "\n",
    "We can also continue by calling `.save` with a JSON filename. This will write all of previous results into the file."
   ]
  },
  {
   "cell_type": "code",
   "execution_count": 9,
   "metadata": {
    "execution": {
     "iopub.execute_input": "2022-07-02T03:25:11.076355Z",
     "iopub.status.busy": "2022-07-02T03:25:11.076087Z",
     "iopub.status.idle": "2022-07-02T03:25:11.364582Z",
     "shell.execute_reply": "2022-07-02T03:25:11.364010Z"
    },
    "pycharm": {
     "name": "#%%\n"
    }
   },
   "outputs": [
    {
     "name": "stdout",
     "output_type": "stream",
     "text": [
      "xopt: {asynch: true, strict: false, dump_file: null, max_evaluations: 1000}\n",
      "generator: {name: cnsga, population_size: 64, crossover_probability: 0.9, mutation_probability: 1.0,\n",
      "  population_file: null, output_path: temp}\n",
      "evaluator:\n",
      "  function: xopt.resources.test_functions.tnk.evaluate_TNK\n",
      "  max_workers: 1\n",
      "  function_kwargs: {sleep: 0, random_sleep: 0.1, raise_probability: 0}\n",
      "vocs:\n",
      "  variables:\n",
      "    x1: [0.0, 3.14159]\n",
      "    x2: [0.0, 3.14159]\n",
      "  constraints:\n",
      "    c1: [GREATER_THAN, 0.0]\n",
      "    c2: [LESS_THAN, 0.5]\n",
      "  objectives: {y1: MINIMIZE, y2: MINIMIZE}\n",
      "  constants: {a: dummy_constant}\n",
      "  linked_variables: {x9: x1}\n"
     ]
    }
   ],
   "source": [
    "X = Xopt(YAML)\n",
    "X.yaml('test.yaml')\n",
    "!cat test.yaml"
   ]
  },
  {
   "cell_type": "code",
   "execution_count": 10,
   "metadata": {
    "execution": {
     "iopub.execute_input": "2022-07-02T03:25:11.367100Z",
     "iopub.status.busy": "2022-07-02T03:25:11.366919Z",
     "iopub.status.idle": "2022-07-02T03:25:42.081626Z",
     "shell.execute_reply": "2022-07-02T03:25:42.081073Z"
    },
    "pycharm": {
     "name": "#%%\n"
    }
   },
   "outputs": [
    {
     "name": "stdout",
     "output_type": "stream",
     "text": [
      "Namespace(input_file='test.yaml', logfile='xopt.log', verbose=2)\n",
      "Parallel execution with 10 workers\n",
      "Initializing Xopt object\n",
      "Initializing generator cnsga,\n",
      "Created toolbox with 2 variables, 2 constraints, and 2 objectives.\n",
      "    Using selection algorithm: nsga2\n",
      "Initializing Xopt object\n",
      "Xopt object initialized\n",
      "Enabling async mode\n",
      "\n",
      "            Xopt\n",
      "________________________________\n",
      "Version: 0.5.0+252.gced4dd5.dirty\n",
      "Data size: 0\n",
      "Config as YAML:\n",
      "xopt: {asynch: true, strict: false, dump_file: null, max_evaluations: 1000}\n",
      "generator: {name: cnsga, population_size: 64, crossover_probability: 0.9, mutation_probability: 1.0,\n",
      "  population_file: null, output_path: temp}\n",
      "evaluator:\n",
      "  function: xopt.resources.test_functions.tnk.evaluate_TNK\n",
      "  max_workers: 1\n",
      "  function_kwargs: {sleep: 0, random_sleep: 0.1, raise_probability: 0}\n",
      "vocs:\n",
      "  variables:\n",
      "    x1: [0.0, 3.14159]\n",
      "    x2: [0.0, 3.14159]\n",
      "  constraints:\n",
      "    c1: [GREATER_THAN, 0.0]\n",
      "    c2: [LESS_THAN, 0.5]\n",
      "  objectives: {y1: MINIMIZE, y2: MINIMIZE}\n",
      "  constants: {a: dummy_constant}\n",
      "  linked_variables: {x9: x1}\n",
      "\n",
      "\n",
      "Running Xopt step\n",
      "Running Xopt step\n",
      "Running Xopt step\n",
      "Running Xopt step\n",
      "Running Xopt step\n",
      "Running Xopt step\n",
      "Running Xopt step\n",
      "Running Xopt step\n",
      "Running Xopt step\n",
      "Running Xopt step\n",
      "Running Xopt step\n",
      "Running Xopt step\n",
      "Running Xopt step\n",
      "Running Xopt step\n",
      "Running Xopt step\n",
      "Running Xopt step\n",
      "Running Xopt step\n",
      "Running Xopt step\n",
      "Running Xopt step\n",
      "Running Xopt step\n",
      "Running Xopt step\n",
      "Running Xopt step\n",
      "Running Xopt step\n",
      "Running Xopt step\n",
      "Running Xopt step\n",
      "Running Xopt step\n",
      "Running Xopt step\n",
      "Running Xopt step\n",
      "Running Xopt step\n",
      "Running Xopt step\n",
      "Running Xopt step\n",
      "Running Xopt step\n",
      "Running Xopt step\n",
      "Running Xopt step\n",
      "Running Xopt step\n",
      "Running Xopt step\n",
      "Running Xopt step\n",
      "Running Xopt step\n",
      "Running Xopt step\n",
      "Running Xopt step\n",
      "Running Xopt step\n",
      "Running Xopt step\n",
      "Running Xopt step\n",
      "Running Xopt step\n",
      "Running Xopt step\n",
      "Running Xopt step\n",
      "Running Xopt step\n",
      "Running Xopt step\n",
      "Running Xopt step\n",
      "Running Xopt step\n",
      "Running Xopt step\n",
      "Running Xopt step\n",
      "Running Xopt step\n",
      "Running Xopt step\n",
      "Running Xopt step\n",
      "Running Xopt step\n",
      "Running Xopt step\n",
      "Running Xopt step\n",
      "Running Xopt step\n",
      "Running Xopt step\n",
      "Running Xopt step\n",
      "Running Xopt step\n",
      "Running Xopt step\n",
      "Running Xopt step\n",
      "Running Xopt step\n",
      "Running Xopt step\n",
      "Running Xopt step\n",
      "Running Xopt step\n",
      "Running Xopt step\n",
      "Running Xopt step\n",
      "Running Xopt step\n",
      "Running Xopt step\n",
      "Running Xopt step\n",
      "Running Xopt step\n",
      "Running Xopt step\n",
      "Running Xopt step\n",
      "Running Xopt step\n",
      "Running Xopt step\n",
      "Running Xopt step\n",
      "Running Xopt step\n",
      "Running Xopt step\n",
      "Running Xopt step\n",
      "Running Xopt step\n",
      "Running Xopt step\n",
      "Running Xopt step\n",
      "Running Xopt step\n",
      "Running Xopt step\n",
      "Running Xopt step\n",
      "Running Xopt step\n",
      "Running Xopt step\n",
      "Running Xopt step\n",
      "Running Xopt step\n",
      "Running Xopt step\n",
      "Running Xopt step\n",
      "Running Xopt step\n",
      "Running Xopt step\n",
      "Running Xopt step\n",
      "Running Xopt step\n",
      "Running Xopt step\n",
      "Running Xopt step\n",
      "Running Xopt step\n",
      "Running Xopt step\n",
      "Running Xopt step\n",
      "Running Xopt step\n",
      "Running Xopt step\n",
      "Running Xopt step\n",
      "Running Xopt step\n",
      "Running Xopt step\n",
      "Running Xopt step\n",
      "Running Xopt step\n",
      "Running Xopt step\n",
      "Running Xopt step\n",
      "Running Xopt step\n",
      "Running Xopt step\n",
      "Running Xopt step\n",
      "Running Xopt step\n",
      "Running Xopt step\n",
      "Running Xopt step\n",
      "Running Xopt step\n",
      "Running Xopt step\n",
      "Running Xopt step\n",
      "Running Xopt step\n",
      "Running Xopt step\n",
      "Running Xopt step\n",
      "Running Xopt step\n",
      "Running Xopt step\n",
      "Running Xopt step\n",
      "Running Xopt step\n",
      "Running Xopt step\n",
      "Running Xopt step\n",
      "Running Xopt step\n",
      "Running Xopt step\n",
      "Running Xopt step\n",
      "Running Xopt step\n",
      "Running Xopt step\n",
      "Running Xopt step\n",
      "Running Xopt step\n",
      "Running Xopt step\n",
      "Running Xopt step\n",
      "Running Xopt step\n",
      "Running Xopt step\n",
      "Running Xopt step\n",
      "Running Xopt step\n",
      "Running Xopt step\n",
      "Running Xopt step\n",
      "Running Xopt step\n",
      "Running Xopt step\n",
      "Running Xopt step\n",
      "Running Xopt step\n",
      "Running Xopt step\n",
      "Running Xopt step\n",
      "Running Xopt step\n",
      "Running Xopt step\n",
      "Running Xopt step\n",
      "Running Xopt step\n",
      "Running Xopt step\n",
      "Running Xopt step\n",
      "Running Xopt step\n",
      "Running Xopt step\n",
      "Running Xopt step\n",
      "Running Xopt step\n",
      "Running Xopt step\n",
      "Running Xopt step\n",
      "Running Xopt step\n",
      "Running Xopt step\n",
      "Running Xopt step\n",
      "Running Xopt step\n",
      "Running Xopt step\n",
      "Running Xopt step\n",
      "Running Xopt step\n",
      "Running Xopt step\n",
      "Running Xopt step\n",
      "Running Xopt step\n",
      "Running Xopt step\n",
      "Running Xopt step\n",
      "Running Xopt step\n",
      "Running Xopt step\n",
      "Running Xopt step\n",
      "Running Xopt step\n",
      "Running Xopt step\n",
      "Running Xopt step\n",
      "Running Xopt step\n",
      "Running Xopt step\n",
      "Running Xopt step\n",
      "Running Xopt step\n",
      "Running Xopt step\n",
      "Running Xopt step\n",
      "Running Xopt step\n",
      "Running Xopt step\n",
      "Running Xopt step\n",
      "Running Xopt step\n",
      "Running Xopt step\n",
      "Running Xopt step\n",
      "Running Xopt step\n",
      "Running Xopt step\n",
      "Running Xopt step\n",
      "Running Xopt step\n",
      "Running Xopt step\n",
      "Running Xopt step\n",
      "Running Xopt step\n",
      "Running Xopt step\n",
      "Running Xopt step\n",
      "Running Xopt step\n",
      "Running Xopt step\n",
      "Running Xopt step\n",
      "Running Xopt step\n",
      "Running Xopt step\n",
      "Running Xopt step\n",
      "Running Xopt step\n",
      "Running Xopt step\n",
      "Running Xopt step\n",
      "Running Xopt step\n",
      "Running Xopt step\n",
      "Running Xopt step\n",
      "Running Xopt step\n",
      "Running Xopt step\n",
      "Running Xopt step\n",
      "Running Xopt step\n",
      "Running Xopt step\n",
      "Running Xopt step\n",
      "Running Xopt step\n",
      "Running Xopt step\n",
      "Running Xopt step\n",
      "Running Xopt step\n",
      "Running Xopt step\n",
      "Running Xopt step\n",
      "Running Xopt step\n",
      "Running Xopt step\n",
      "Running Xopt step\n",
      "Running Xopt step\n",
      "Running Xopt step\n",
      "Running Xopt step\n",
      "Running Xopt step\n",
      "Running Xopt step\n",
      "Running Xopt step\n",
      "Running Xopt step\n",
      "Running Xopt step\n",
      "Running Xopt step\n",
      "Running Xopt step\n",
      "Running Xopt step\n",
      "Running Xopt step\n",
      "Running Xopt step\n",
      "Running Xopt step\n",
      "Running Xopt step\n",
      "Running Xopt step\n",
      "Running Xopt step\n",
      "Running Xopt step\n",
      "Running Xopt step\n",
      "Running Xopt step\n",
      "Running Xopt step\n",
      "Running Xopt step\n",
      "Running Xopt step\n",
      "Running Xopt step\n",
      "Running Xopt step\n",
      "Running Xopt step\n",
      "Running Xopt step\n",
      "Running Xopt step\n",
      "Running Xopt step\n",
      "Running Xopt step\n",
      "Running Xopt step\n",
      "Running Xopt step\n",
      "Running Xopt step\n",
      "Running Xopt step\n",
      "Running Xopt step\n",
      "Running Xopt step\n",
      "Running Xopt step\n",
      "Running Xopt step\n",
      "Running Xopt step\n",
      "Running Xopt step\n",
      "Running Xopt step\n",
      "Running Xopt step\n",
      "Running Xopt step\n",
      "Running Xopt step\n",
      "Running Xopt step\n",
      "Running Xopt step\n",
      "Running Xopt step\n",
      "Running Xopt step\n",
      "Running Xopt step\n",
      "Running Xopt step\n",
      "Running Xopt step\n",
      "Running Xopt step\n",
      "Running Xopt step\n",
      "Running Xopt step\n",
      "Running Xopt step\n",
      "Running Xopt step\n",
      "Running Xopt step\n",
      "Running Xopt step\n",
      "Running Xopt step\n",
      "Running Xopt step\n",
      "Running Xopt step\n",
      "Running Xopt step\n",
      "Running Xopt step\n",
      "Running Xopt step\n",
      "Running Xopt step\n",
      "Running Xopt step\n",
      "Running Xopt step\n",
      "Running Xopt step\n",
      "Running Xopt step\n",
      "Running Xopt step\n",
      "Running Xopt step\n",
      "Running Xopt step\n",
      "Running Xopt step\n",
      "Running Xopt step\n",
      "Running Xopt step\n",
      "Running Xopt step\n",
      "Running Xopt step\n",
      "Running Xopt step\n",
      "Running Xopt step\n",
      "Running Xopt step\n",
      "Running Xopt step\n",
      "Running Xopt step\n",
      "Running Xopt step\n",
      "Running Xopt step\n",
      "Running Xopt step\n",
      "Running Xopt step\n",
      "Running Xopt step\n",
      "Running Xopt step\n",
      "Running Xopt step\n",
      "Running Xopt step\n",
      "Running Xopt step\n",
      "Running Xopt step\n",
      "Running Xopt step\n",
      "Running Xopt step\n",
      "Running Xopt step\n",
      "Running Xopt step\n",
      "Running Xopt step\n",
      "Running Xopt step\n",
      "Running Xopt step\n",
      "Running Xopt step\n",
      "Running Xopt step\n",
      "Running Xopt step\n",
      "Running Xopt step\n",
      "Running Xopt step\n",
      "Running Xopt step\n",
      "Running Xopt step\n",
      "Running Xopt step\n",
      "Running Xopt step\n",
      "Running Xopt step\n",
      "Running Xopt step\n",
      "Running Xopt step\n",
      "Running Xopt step\n",
      "Running Xopt step\n",
      "Running Xopt step\n",
      "Running Xopt step\n",
      "Running Xopt step\n",
      "Running Xopt step\n",
      "Running Xopt step\n",
      "Running Xopt step\n",
      "Running Xopt step\n",
      "Running Xopt step\n",
      "Running Xopt step\n",
      "Running Xopt step\n",
      "Running Xopt step\n",
      "Running Xopt step\n",
      "Running Xopt step\n",
      "Running Xopt step\n",
      "Running Xopt step\n",
      "Running Xopt step\n",
      "Running Xopt step\n",
      "Running Xopt step\n",
      "Running Xopt step\n",
      "Running Xopt step\n",
      "Running Xopt step\n",
      "Running Xopt step\n",
      "Running Xopt step\n",
      "Running Xopt step\n",
      "Running Xopt step\n",
      "Running Xopt step\n",
      "Running Xopt step\n",
      "Running Xopt step\n",
      "Running Xopt step\n",
      "Running Xopt step\n",
      "Running Xopt step\n",
      "Running Xopt step\n",
      "Running Xopt step\n",
      "Running Xopt step\n",
      "Running Xopt step\n",
      "Running Xopt step\n",
      "Running Xopt step\n",
      "Running Xopt step\n",
      "Running Xopt step\n",
      "Running Xopt step\n",
      "Running Xopt step\n",
      "Running Xopt step\n",
      "Running Xopt step\n",
      "Running Xopt step\n",
      "Running Xopt step\n",
      "Running Xopt step\n",
      "Running Xopt step\n",
      "Running Xopt step\n",
      "Running Xopt step\n",
      "Running Xopt step\n",
      "Running Xopt step\n",
      "Running Xopt step\n",
      "Running Xopt step\n",
      "Running Xopt step\n",
      "Running Xopt step\n",
      "Running Xopt step\n",
      "Running Xopt step\n",
      "Running Xopt step\n",
      "Running Xopt step\n",
      "Running Xopt step\n",
      "Running Xopt step\n",
      "Running Xopt step\n",
      "Running Xopt step\n",
      "Running Xopt step\n",
      "Running Xopt step\n",
      "Running Xopt step\n",
      "Running Xopt step\n",
      "Running Xopt step\n",
      "Running Xopt step\n",
      "Running Xopt step\n",
      "Running Xopt step\n",
      "Running Xopt step\n",
      "Running Xopt step\n",
      "Running Xopt step\n",
      "Running Xopt step\n",
      "Running Xopt step\n",
      "Running Xopt step\n",
      "Running Xopt step\n",
      "Running Xopt step\n",
      "Running Xopt step\n",
      "Running Xopt step\n",
      "Running Xopt step\n",
      "Running Xopt step\n",
      "Running Xopt step\n",
      "Running Xopt step\n",
      "Running Xopt step\n",
      "Running Xopt step\n",
      "Running Xopt step\n",
      "Running Xopt step\n",
      "Running Xopt step\n",
      "Running Xopt step\n",
      "Running Xopt step\n",
      "Running Xopt step\n",
      "Running Xopt step\n",
      "Running Xopt step\n",
      "Running Xopt step\n",
      "Running Xopt step\n",
      "Running Xopt step\n",
      "Running Xopt step\n",
      "Running Xopt step\n",
      "Running Xopt step\n",
      "Running Xopt step\n",
      "Xopt is done. Max evaluations 1000 reached.\n",
      "CPU times: user 154 ms, sys: 48.1 ms, total: 202 ms\n",
      "Wall time: 14.6 s\n"
     ]
    }
   ],
   "source": [
    "%%time\n",
    "!mpirun -n {N_CPUS} python -m mpi4py.futures -m xopt.mpi.run -vv --logfile xopt.log test.yaml"
   ]
  },
  {
   "cell_type": "code",
   "execution_count": 11,
   "metadata": {
    "execution": {
     "iopub.execute_input": "2022-07-02T03:25:42.084193Z",
     "iopub.status.busy": "2022-07-02T03:25:42.083890Z",
     "iopub.status.idle": "2022-07-02T03:25:42.352867Z",
     "shell.execute_reply": "2022-07-02T03:25:42.352305Z"
    },
    "pycharm": {
     "name": "#%%\n"
    }
   },
   "outputs": [
    {
     "name": "stdout",
     "output_type": "stream",
     "text": [
      "2022-07-01T21:52:14-0700 - xopt.base - INFO - Running Xopt step\n",
      "2022-07-01T21:52:14-0700 - xopt.base - INFO - Running Xopt step\n",
      "2022-07-01T21:52:14-0700 - xopt.base - INFO - Running Xopt step\n",
      "2022-07-01T21:52:14-0700 - xopt.base - INFO - Running Xopt step\n",
      "2022-07-01T21:52:14-0700 - xopt.base - INFO - Running Xopt step\n",
      "2022-07-01T21:52:14-0700 - xopt.base - INFO - Running Xopt step\n",
      "2022-07-01T21:52:14-0700 - xopt.base - INFO - Running Xopt step\n",
      "2022-07-01T21:52:14-0700 - xopt.base - INFO - Running Xopt step\n",
      "2022-07-01T21:52:14-0700 - xopt.base - INFO - Running Xopt step\n",
      "2022-07-01T21:52:14-0700 - xopt.base - INFO - Xopt is done. Max evaluations 1000 reached.\n"
     ]
    }
   ],
   "source": [
    "!tail xopt.log"
   ]
  },
  {
   "cell_type": "markdown",
   "metadata": {
    "pycharm": {
     "name": "#%% md\n"
    }
   },
   "source": [
    "# Dask\n",
    "\n"
   ]
  },
  {
   "cell_type": "code",
   "execution_count": 12,
   "metadata": {
    "execution": {
     "iopub.execute_input": "2022-07-02T03:25:42.355681Z",
     "iopub.status.busy": "2022-07-02T03:25:42.355267Z",
     "iopub.status.idle": "2022-07-02T03:25:43.283065Z",
     "shell.execute_reply": "2022-07-02T03:25:43.282658Z"
    },
    "pycharm": {
     "name": "#%%\n"
    }
   },
   "outputs": [
    {
     "name": "stderr",
     "output_type": "stream",
     "text": [
      "2022-07-01 21:52:16,476 - distributed.diskutils - INFO - Found stale lock file and directory '/Users/chrisonian/Code/GitHub/Xopt/docs/examples/basic/dask-worker-space/worker-7e34hnsq', purging\n",
      "2022-07-01 21:52:16,476 - distributed.diskutils - INFO - Found stale lock file and directory '/Users/chrisonian/Code/GitHub/Xopt/docs/examples/basic/dask-worker-space/worker-ya7sfuk6', purging\n",
      "2022-07-01 21:52:16,476 - distributed.diskutils - INFO - Found stale lock file and directory '/Users/chrisonian/Code/GitHub/Xopt/docs/examples/basic/dask-worker-space/worker-amndv89x', purging\n",
      "2022-07-01 21:52:16,476 - distributed.diskutils - INFO - Found stale lock file and directory '/Users/chrisonian/Code/GitHub/Xopt/docs/examples/basic/dask-worker-space/worker-_3a3p3w0', purging\n",
      "2022-07-01 21:52:16,476 - distributed.diskutils - INFO - Found stale lock file and directory '/Users/chrisonian/Code/GitHub/Xopt/docs/examples/basic/dask-worker-space/worker-wqeymo0w', purging\n"
     ]
    },
    {
     "data": {
      "text/html": [
       "<div>\n",
       "    <div style=\"width: 24px; height: 24px; background-color: #e1e1e1; border: 3px solid #9D9D9D; border-radius: 5px; position: absolute;\"> </div>\n",
       "    <div style=\"margin-left: 48px;\">\n",
       "        <h3 style=\"margin-bottom: 0px;\">Client</h3>\n",
       "        <p style=\"color: #9D9D9D; margin-bottom: 0px;\">Client-bea75b0c-f9c2-11ec-9913-060412c509ea</p>\n",
       "        <table style=\"width: 100%; text-align: left;\">\n",
       "\n",
       "        <tr>\n",
       "        \n",
       "            <td style=\"text-align: left;\"><strong>Connection method:</strong> Cluster object</td>\n",
       "            <td style=\"text-align: left;\"><strong>Cluster type:</strong> distributed.LocalCluster</td>\n",
       "        \n",
       "        </tr>\n",
       "\n",
       "        \n",
       "            <tr>\n",
       "                <td style=\"text-align: left;\">\n",
       "                    <strong>Dashboard: </strong> <a href=\"http://127.0.0.1:8787/status\" target=\"_blank\">http://127.0.0.1:8787/status</a>\n",
       "                </td>\n",
       "                <td style=\"text-align: left;\"></td>\n",
       "            </tr>\n",
       "        \n",
       "\n",
       "        </table>\n",
       "\n",
       "        \n",
       "            <details>\n",
       "            <summary style=\"margin-bottom: 20px;\"><h3 style=\"display: inline;\">Cluster Info</h3></summary>\n",
       "            <div class=\"jp-RenderedHTMLCommon jp-RenderedHTML jp-mod-trusted jp-OutputArea-output\">\n",
       "    <div style=\"width: 24px; height: 24px; background-color: #e1e1e1; border: 3px solid #9D9D9D; border-radius: 5px; position: absolute;\">\n",
       "    </div>\n",
       "    <div style=\"margin-left: 48px;\">\n",
       "        <h3 style=\"margin-bottom: 0px; margin-top: 0px;\">LocalCluster</h3>\n",
       "        <p style=\"color: #9D9D9D; margin-bottom: 0px;\">11defbd8</p>\n",
       "        <table style=\"width: 100%; text-align: left;\">\n",
       "            <tr>\n",
       "                <td style=\"text-align: left;\">\n",
       "                    <strong>Dashboard:</strong> <a href=\"http://127.0.0.1:8787/status\" target=\"_blank\">http://127.0.0.1:8787/status</a>\n",
       "                </td>\n",
       "                <td style=\"text-align: left;\">\n",
       "                    <strong>Workers:</strong> 5\n",
       "                </td>\n",
       "            </tr>\n",
       "            <tr>\n",
       "                <td style=\"text-align: left;\">\n",
       "                    <strong>Total threads:</strong> 10\n",
       "                </td>\n",
       "                <td style=\"text-align: left;\">\n",
       "                    <strong>Total memory:</strong> 64.00 GiB\n",
       "                </td>\n",
       "            </tr>\n",
       "            \n",
       "            <tr>\n",
       "    <td style=\"text-align: left;\"><strong>Status:</strong> running</td>\n",
       "    <td style=\"text-align: left;\"><strong>Using processes:</strong> True</td>\n",
       "</tr>\n",
       "\n",
       "            \n",
       "        </table>\n",
       "\n",
       "        <details>\n",
       "            <summary style=\"margin-bottom: 20px;\">\n",
       "                <h3 style=\"display: inline;\">Scheduler Info</h3>\n",
       "            </summary>\n",
       "\n",
       "            <div style=\"\">\n",
       "    <div>\n",
       "        <div style=\"width: 24px; height: 24px; background-color: #FFF7E5; border: 3px solid #FF6132; border-radius: 5px; position: absolute;\"> </div>\n",
       "        <div style=\"margin-left: 48px;\">\n",
       "            <h3 style=\"margin-bottom: 0px;\">Scheduler</h3>\n",
       "            <p style=\"color: #9D9D9D; margin-bottom: 0px;\">Scheduler-d93cc33a-110f-4f08-81ea-14a39fc65e27</p>\n",
       "            <table style=\"width: 100%; text-align: left;\">\n",
       "                <tr>\n",
       "                    <td style=\"text-align: left;\">\n",
       "                        <strong>Comm:</strong> tcp://127.0.0.1:61859\n",
       "                    </td>\n",
       "                    <td style=\"text-align: left;\">\n",
       "                        <strong>Workers:</strong> 5\n",
       "                    </td>\n",
       "                </tr>\n",
       "                <tr>\n",
       "                    <td style=\"text-align: left;\">\n",
       "                        <strong>Dashboard:</strong> <a href=\"http://127.0.0.1:8787/status\" target=\"_blank\">http://127.0.0.1:8787/status</a>\n",
       "                    </td>\n",
       "                    <td style=\"text-align: left;\">\n",
       "                        <strong>Total threads:</strong> 10\n",
       "                    </td>\n",
       "                </tr>\n",
       "                <tr>\n",
       "                    <td style=\"text-align: left;\">\n",
       "                        <strong>Started:</strong> Just now\n",
       "                    </td>\n",
       "                    <td style=\"text-align: left;\">\n",
       "                        <strong>Total memory:</strong> 64.00 GiB\n",
       "                    </td>\n",
       "                </tr>\n",
       "            </table>\n",
       "        </div>\n",
       "    </div>\n",
       "\n",
       "    <details style=\"margin-left: 48px;\">\n",
       "        <summary style=\"margin-bottom: 20px;\">\n",
       "            <h3 style=\"display: inline;\">Workers</h3>\n",
       "        </summary>\n",
       "\n",
       "        \n",
       "        <div style=\"margin-bottom: 20px;\">\n",
       "            <div style=\"width: 24px; height: 24px; background-color: #DBF5FF; border: 3px solid #4CC9FF; border-radius: 5px; position: absolute;\"> </div>\n",
       "            <div style=\"margin-left: 48px;\">\n",
       "            <details>\n",
       "                <summary>\n",
       "                    <h4 style=\"margin-bottom: 0px; display: inline;\">Worker: 0</h4>\n",
       "                </summary>\n",
       "                <table style=\"width: 100%; text-align: left;\">\n",
       "                    <tr>\n",
       "                        <td style=\"text-align: left;\">\n",
       "                            <strong>Comm: </strong> tcp://127.0.0.1:61892\n",
       "                        </td>\n",
       "                        <td style=\"text-align: left;\">\n",
       "                            <strong>Total threads: </strong> 2\n",
       "                        </td>\n",
       "                    </tr>\n",
       "                    <tr>\n",
       "                        <td style=\"text-align: left;\">\n",
       "                            <strong>Dashboard: </strong> <a href=\"http://127.0.0.1:61893/status\" target=\"_blank\">http://127.0.0.1:61893/status</a>\n",
       "                        </td>\n",
       "                        <td style=\"text-align: left;\">\n",
       "                            <strong>Memory: </strong> 12.80 GiB\n",
       "                        </td>\n",
       "                    </tr>\n",
       "                    <tr>\n",
       "                        <td style=\"text-align: left;\">\n",
       "                            <strong>Nanny: </strong> tcp://127.0.0.1:61866\n",
       "                        </td>\n",
       "                        <td style=\"text-align: left;\"></td>\n",
       "                    </tr>\n",
       "                    <tr>\n",
       "                        <td colspan=\"2\" style=\"text-align: left;\">\n",
       "                            <strong>Local directory: </strong> /Users/chrisonian/Code/GitHub/Xopt/docs/examples/basic/dask-worker-space/worker-198pd1hk\n",
       "                        </td>\n",
       "                    </tr>\n",
       "\n",
       "                    \n",
       "\n",
       "                    \n",
       "\n",
       "                </table>\n",
       "            </details>\n",
       "            </div>\n",
       "        </div>\n",
       "        \n",
       "        <div style=\"margin-bottom: 20px;\">\n",
       "            <div style=\"width: 24px; height: 24px; background-color: #DBF5FF; border: 3px solid #4CC9FF; border-radius: 5px; position: absolute;\"> </div>\n",
       "            <div style=\"margin-left: 48px;\">\n",
       "            <details>\n",
       "                <summary>\n",
       "                    <h4 style=\"margin-bottom: 0px; display: inline;\">Worker: 1</h4>\n",
       "                </summary>\n",
       "                <table style=\"width: 100%; text-align: left;\">\n",
       "                    <tr>\n",
       "                        <td style=\"text-align: left;\">\n",
       "                            <strong>Comm: </strong> tcp://127.0.0.1:61900\n",
       "                        </td>\n",
       "                        <td style=\"text-align: left;\">\n",
       "                            <strong>Total threads: </strong> 2\n",
       "                        </td>\n",
       "                    </tr>\n",
       "                    <tr>\n",
       "                        <td style=\"text-align: left;\">\n",
       "                            <strong>Dashboard: </strong> <a href=\"http://127.0.0.1:61901/status\" target=\"_blank\">http://127.0.0.1:61901/status</a>\n",
       "                        </td>\n",
       "                        <td style=\"text-align: left;\">\n",
       "                            <strong>Memory: </strong> 12.80 GiB\n",
       "                        </td>\n",
       "                    </tr>\n",
       "                    <tr>\n",
       "                        <td style=\"text-align: left;\">\n",
       "                            <strong>Nanny: </strong> tcp://127.0.0.1:61864\n",
       "                        </td>\n",
       "                        <td style=\"text-align: left;\"></td>\n",
       "                    </tr>\n",
       "                    <tr>\n",
       "                        <td colspan=\"2\" style=\"text-align: left;\">\n",
       "                            <strong>Local directory: </strong> /Users/chrisonian/Code/GitHub/Xopt/docs/examples/basic/dask-worker-space/worker-jx691jqz\n",
       "                        </td>\n",
       "                    </tr>\n",
       "\n",
       "                    \n",
       "\n",
       "                    \n",
       "\n",
       "                </table>\n",
       "            </details>\n",
       "            </div>\n",
       "        </div>\n",
       "        \n",
       "        <div style=\"margin-bottom: 20px;\">\n",
       "            <div style=\"width: 24px; height: 24px; background-color: #DBF5FF; border: 3px solid #4CC9FF; border-radius: 5px; position: absolute;\"> </div>\n",
       "            <div style=\"margin-left: 48px;\">\n",
       "            <details>\n",
       "                <summary>\n",
       "                    <h4 style=\"margin-bottom: 0px; display: inline;\">Worker: 2</h4>\n",
       "                </summary>\n",
       "                <table style=\"width: 100%; text-align: left;\">\n",
       "                    <tr>\n",
       "                        <td style=\"text-align: left;\">\n",
       "                            <strong>Comm: </strong> tcp://127.0.0.1:61886\n",
       "                        </td>\n",
       "                        <td style=\"text-align: left;\">\n",
       "                            <strong>Total threads: </strong> 2\n",
       "                        </td>\n",
       "                    </tr>\n",
       "                    <tr>\n",
       "                        <td style=\"text-align: left;\">\n",
       "                            <strong>Dashboard: </strong> <a href=\"http://127.0.0.1:61888/status\" target=\"_blank\">http://127.0.0.1:61888/status</a>\n",
       "                        </td>\n",
       "                        <td style=\"text-align: left;\">\n",
       "                            <strong>Memory: </strong> 12.80 GiB\n",
       "                        </td>\n",
       "                    </tr>\n",
       "                    <tr>\n",
       "                        <td style=\"text-align: left;\">\n",
       "                            <strong>Nanny: </strong> tcp://127.0.0.1:61863\n",
       "                        </td>\n",
       "                        <td style=\"text-align: left;\"></td>\n",
       "                    </tr>\n",
       "                    <tr>\n",
       "                        <td colspan=\"2\" style=\"text-align: left;\">\n",
       "                            <strong>Local directory: </strong> /Users/chrisonian/Code/GitHub/Xopt/docs/examples/basic/dask-worker-space/worker-mp5gw6nr\n",
       "                        </td>\n",
       "                    </tr>\n",
       "\n",
       "                    \n",
       "\n",
       "                    \n",
       "\n",
       "                </table>\n",
       "            </details>\n",
       "            </div>\n",
       "        </div>\n",
       "        \n",
       "        <div style=\"margin-bottom: 20px;\">\n",
       "            <div style=\"width: 24px; height: 24px; background-color: #DBF5FF; border: 3px solid #4CC9FF; border-radius: 5px; position: absolute;\"> </div>\n",
       "            <div style=\"margin-left: 48px;\">\n",
       "            <details>\n",
       "                <summary>\n",
       "                    <h4 style=\"margin-bottom: 0px; display: inline;\">Worker: 3</h4>\n",
       "                </summary>\n",
       "                <table style=\"width: 100%; text-align: left;\">\n",
       "                    <tr>\n",
       "                        <td style=\"text-align: left;\">\n",
       "                            <strong>Comm: </strong> tcp://127.0.0.1:61895\n",
       "                        </td>\n",
       "                        <td style=\"text-align: left;\">\n",
       "                            <strong>Total threads: </strong> 2\n",
       "                        </td>\n",
       "                    </tr>\n",
       "                    <tr>\n",
       "                        <td style=\"text-align: left;\">\n",
       "                            <strong>Dashboard: </strong> <a href=\"http://127.0.0.1:61896/status\" target=\"_blank\">http://127.0.0.1:61896/status</a>\n",
       "                        </td>\n",
       "                        <td style=\"text-align: left;\">\n",
       "                            <strong>Memory: </strong> 12.80 GiB\n",
       "                        </td>\n",
       "                    </tr>\n",
       "                    <tr>\n",
       "                        <td style=\"text-align: left;\">\n",
       "                            <strong>Nanny: </strong> tcp://127.0.0.1:61865\n",
       "                        </td>\n",
       "                        <td style=\"text-align: left;\"></td>\n",
       "                    </tr>\n",
       "                    <tr>\n",
       "                        <td colspan=\"2\" style=\"text-align: left;\">\n",
       "                            <strong>Local directory: </strong> /Users/chrisonian/Code/GitHub/Xopt/docs/examples/basic/dask-worker-space/worker-2my1fezz\n",
       "                        </td>\n",
       "                    </tr>\n",
       "\n",
       "                    \n",
       "\n",
       "                    \n",
       "\n",
       "                </table>\n",
       "            </details>\n",
       "            </div>\n",
       "        </div>\n",
       "        \n",
       "        <div style=\"margin-bottom: 20px;\">\n",
       "            <div style=\"width: 24px; height: 24px; background-color: #DBF5FF; border: 3px solid #4CC9FF; border-radius: 5px; position: absolute;\"> </div>\n",
       "            <div style=\"margin-left: 48px;\">\n",
       "            <details>\n",
       "                <summary>\n",
       "                    <h4 style=\"margin-bottom: 0px; display: inline;\">Worker: 4</h4>\n",
       "                </summary>\n",
       "                <table style=\"width: 100%; text-align: left;\">\n",
       "                    <tr>\n",
       "                        <td style=\"text-align: left;\">\n",
       "                            <strong>Comm: </strong> tcp://127.0.0.1:61887\n",
       "                        </td>\n",
       "                        <td style=\"text-align: left;\">\n",
       "                            <strong>Total threads: </strong> 2\n",
       "                        </td>\n",
       "                    </tr>\n",
       "                    <tr>\n",
       "                        <td style=\"text-align: left;\">\n",
       "                            <strong>Dashboard: </strong> <a href=\"http://127.0.0.1:61890/status\" target=\"_blank\">http://127.0.0.1:61890/status</a>\n",
       "                        </td>\n",
       "                        <td style=\"text-align: left;\">\n",
       "                            <strong>Memory: </strong> 12.80 GiB\n",
       "                        </td>\n",
       "                    </tr>\n",
       "                    <tr>\n",
       "                        <td style=\"text-align: left;\">\n",
       "                            <strong>Nanny: </strong> tcp://127.0.0.1:61862\n",
       "                        </td>\n",
       "                        <td style=\"text-align: left;\"></td>\n",
       "                    </tr>\n",
       "                    <tr>\n",
       "                        <td colspan=\"2\" style=\"text-align: left;\">\n",
       "                            <strong>Local directory: </strong> /Users/chrisonian/Code/GitHub/Xopt/docs/examples/basic/dask-worker-space/worker-8tsngt3n\n",
       "                        </td>\n",
       "                    </tr>\n",
       "\n",
       "                    \n",
       "\n",
       "                    \n",
       "\n",
       "                </table>\n",
       "            </details>\n",
       "            </div>\n",
       "        </div>\n",
       "        \n",
       "\n",
       "    </details>\n",
       "</div>\n",
       "\n",
       "        </details>\n",
       "    </div>\n",
       "</div>\n",
       "            </details>\n",
       "        \n",
       "\n",
       "    </div>\n",
       "</div>"
      ],
      "text/plain": [
       "<Client: 'tcp://127.0.0.1:61859' processes=5 threads=10, memory=64.00 GiB>"
      ]
     },
     "execution_count": 12,
     "metadata": {},
     "output_type": "execute_result"
    }
   ],
   "source": [
    "from dask.distributed import Client\n",
    "client = Client()\n",
    "executor = client.get_executor()\n",
    "client"
   ]
  },
  {
   "cell_type": "code",
   "execution_count": 13,
   "metadata": {
    "execution": {
     "iopub.execute_input": "2022-07-02T03:25:43.284966Z",
     "iopub.status.busy": "2022-07-02T03:25:43.284824Z",
     "iopub.status.idle": "2022-07-02T03:26:09.934574Z",
     "shell.execute_reply": "2022-07-02T03:26:09.934255Z"
    },
    "pycharm": {
     "name": "#%%\n"
    }
   },
   "outputs": [
    {
     "name": "stdout",
     "output_type": "stream",
     "text": [
      "CPU times: user 3.94 s, sys: 560 ms, total: 4.5 s\n",
      "Wall time: 13.7 s\n"
     ]
    }
   ],
   "source": [
    "%%time\n",
    "X = Xopt(YAML)\n",
    "X.evaluator.executor = executor\n",
    "X.evaluator.max_workers = N_CPUS\n",
    "X.run()"
   ]
  },
  {
   "cell_type": "markdown",
   "metadata": {
    "pycharm": {
     "name": "#%% md\n"
    }
   },
   "source": [
    "# Load output into Pandas\n",
    "\n",
    "This algorithm writes two types of files: `gen_{i}.json` with all of the new individuals evaluated in a generation, and `pop_{i}.json` with the latest best population. Xopt provides some functions to load these easily into a Pandas dataframe for further analysis."
   ]
  },
  {
   "cell_type": "code",
   "execution_count": 14,
   "metadata": {
    "execution": {
     "iopub.execute_input": "2022-07-02T03:26:09.936350Z",
     "iopub.status.busy": "2022-07-02T03:26:09.936234Z",
     "iopub.status.idle": "2022-07-02T03:26:09.937984Z",
     "shell.execute_reply": "2022-07-02T03:26:09.937719Z"
    },
    "pycharm": {
     "name": "#%%\n"
    }
   },
   "outputs": [],
   "source": [
    "import pandas as pd"
   ]
  },
  {
   "cell_type": "code",
   "execution_count": 15,
   "metadata": {
    "execution": {
     "iopub.execute_input": "2022-07-02T03:26:09.939421Z",
     "iopub.status.busy": "2022-07-02T03:26:09.939321Z",
     "iopub.status.idle": "2022-07-02T03:26:09.949961Z",
     "shell.execute_reply": "2022-07-02T03:26:09.949359Z"
    },
    "pycharm": {
     "name": "#%%\n"
    }
   },
   "outputs": [
    {
     "data": {
      "text/html": [
       "<div>\n",
       "<style scoped>\n",
       "    .dataframe tbody tr th:only-of-type {\n",
       "        vertical-align: middle;\n",
       "    }\n",
       "\n",
       "    .dataframe tbody tr th {\n",
       "        vertical-align: top;\n",
       "    }\n",
       "\n",
       "    .dataframe thead th {\n",
       "        text-align: right;\n",
       "    }\n",
       "</style>\n",
       "<table border=\"1\" class=\"dataframe\">\n",
       "  <thead>\n",
       "    <tr style=\"text-align: right;\">\n",
       "      <th></th>\n",
       "      <th>x1</th>\n",
       "      <th>x2</th>\n",
       "      <th>a</th>\n",
       "      <th>x9</th>\n",
       "      <th>y1</th>\n",
       "      <th>y2</th>\n",
       "      <th>c1</th>\n",
       "      <th>c2</th>\n",
       "      <th>some_array</th>\n",
       "      <th>xopt_error</th>\n",
       "      <th>xopt_error_str</th>\n",
       "    </tr>\n",
       "  </thead>\n",
       "  <tbody>\n",
       "    <tr>\n",
       "      <th>9</th>\n",
       "      <td>0.153505</td>\n",
       "      <td>2.301854</td>\n",
       "      <td>dummy_constant</td>\n",
       "      <td>0.153505</td>\n",
       "      <td>0.153505</td>\n",
       "      <td>2.301854</td>\n",
       "      <td>4.273683</td>\n",
       "      <td>3.366736</td>\n",
       "      <td>[1, 2, 3]</td>\n",
       "      <td>False</td>\n",
       "      <td></td>\n",
       "    </tr>\n",
       "    <tr>\n",
       "      <th>2</th>\n",
       "      <td>0.292045</td>\n",
       "      <td>2.048320</td>\n",
       "      <td>dummy_constant</td>\n",
       "      <td>0.292045</td>\n",
       "      <td>0.292045</td>\n",
       "      <td>2.048320</td>\n",
       "      <td>3.344959</td>\n",
       "      <td>2.440541</td>\n",
       "      <td>[1, 2, 3]</td>\n",
       "      <td>False</td>\n",
       "      <td></td>\n",
       "    </tr>\n",
       "    <tr>\n",
       "      <th>3</th>\n",
       "      <td>0.895394</td>\n",
       "      <td>2.677982</td>\n",
       "      <td>dummy_constant</td>\n",
       "      <td>0.895394</td>\n",
       "      <td>0.895394</td>\n",
       "      <td>2.677982</td>\n",
       "      <td>6.929792</td>\n",
       "      <td>4.899941</td>\n",
       "      <td>[1, 2, 3]</td>\n",
       "      <td>False</td>\n",
       "      <td></td>\n",
       "    </tr>\n",
       "    <tr>\n",
       "      <th>10</th>\n",
       "      <td>2.627465</td>\n",
       "      <td>0.833314</td>\n",
       "      <td>dummy_constant</td>\n",
       "      <td>2.627465</td>\n",
       "      <td>2.627465</td>\n",
       "      <td>0.833314</td>\n",
       "      <td>6.577966</td>\n",
       "      <td>4.637205</td>\n",
       "      <td>[1, 2, 3]</td>\n",
       "      <td>False</td>\n",
       "      <td></td>\n",
       "    </tr>\n",
       "    <tr>\n",
       "      <th>8</th>\n",
       "      <td>2.515753</td>\n",
       "      <td>2.652315</td>\n",
       "      <td>dummy_constant</td>\n",
       "      <td>2.515753</td>\n",
       "      <td>2.515753</td>\n",
       "      <td>2.652315</td>\n",
       "      <td>12.272589</td>\n",
       "      <td>8.695720</td>\n",
       "      <td>[1, 2, 3]</td>\n",
       "      <td>False</td>\n",
       "      <td></td>\n",
       "    </tr>\n",
       "    <tr>\n",
       "      <th>...</th>\n",
       "      <td>...</td>\n",
       "      <td>...</td>\n",
       "      <td>...</td>\n",
       "      <td>...</td>\n",
       "      <td>...</td>\n",
       "      <td>...</td>\n",
       "      <td>...</td>\n",
       "      <td>...</td>\n",
       "      <td>...</td>\n",
       "      <td>...</td>\n",
       "      <td>...</td>\n",
       "    </tr>\n",
       "    <tr>\n",
       "      <th>995</th>\n",
       "      <td>0.519293</td>\n",
       "      <td>1.177117</td>\n",
       "      <td>dummy_constant</td>\n",
       "      <td>NaN</td>\n",
       "      <td>0.519293</td>\n",
       "      <td>1.177117</td>\n",
       "      <td>0.561837</td>\n",
       "      <td>0.458860</td>\n",
       "      <td>[1, 2, 3]</td>\n",
       "      <td>False</td>\n",
       "      <td></td>\n",
       "    </tr>\n",
       "    <tr>\n",
       "      <th>992</th>\n",
       "      <td>0.970713</td>\n",
       "      <td>0.312828</td>\n",
       "      <td>dummy_constant</td>\n",
       "      <td>NaN</td>\n",
       "      <td>0.970713</td>\n",
       "      <td>0.312828</td>\n",
       "      <td>0.012920</td>\n",
       "      <td>0.256604</td>\n",
       "      <td>[1, 2, 3]</td>\n",
       "      <td>False</td>\n",
       "      <td></td>\n",
       "    </tr>\n",
       "    <tr>\n",
       "      <th>1005</th>\n",
       "      <td>1.032230</td>\n",
       "      <td>0.780958</td>\n",
       "      <td>dummy_constant</td>\n",
       "      <td>NaN</td>\n",
       "      <td>1.032230</td>\n",
       "      <td>0.780958</td>\n",
       "      <td>0.734506</td>\n",
       "      <td>0.362206</td>\n",
       "      <td>[1, 2, 3]</td>\n",
       "      <td>False</td>\n",
       "      <td></td>\n",
       "    </tr>\n",
       "    <tr>\n",
       "      <th>1003</th>\n",
       "      <td>0.467793</td>\n",
       "      <td>0.506476</td>\n",
       "      <td>dummy_constant</td>\n",
       "      <td>NaN</td>\n",
       "      <td>0.467793</td>\n",
       "      <td>0.506476</td>\n",
       "      <td>-0.605162</td>\n",
       "      <td>0.001079</td>\n",
       "      <td>[1, 2, 3]</td>\n",
       "      <td>False</td>\n",
       "      <td></td>\n",
       "    </tr>\n",
       "    <tr>\n",
       "      <th>994</th>\n",
       "      <td>1.017450</td>\n",
       "      <td>0.338770</td>\n",
       "      <td>dummy_constant</td>\n",
       "      <td>NaN</td>\n",
       "      <td>1.017450</td>\n",
       "      <td>0.338770</td>\n",
       "      <td>0.108260</td>\n",
       "      <td>0.293749</td>\n",
       "      <td>[1, 2, 3]</td>\n",
       "      <td>False</td>\n",
       "      <td></td>\n",
       "    </tr>\n",
       "  </tbody>\n",
       "</table>\n",
       "<p>1001 rows × 11 columns</p>\n",
       "</div>"
      ],
      "text/plain": [
       "            x1        x2               a        x9        y1        y2  \\\n",
       "9     0.153505  2.301854  dummy_constant  0.153505  0.153505  2.301854   \n",
       "2     0.292045  2.048320  dummy_constant  0.292045  0.292045  2.048320   \n",
       "3     0.895394  2.677982  dummy_constant  0.895394  0.895394  2.677982   \n",
       "10    2.627465  0.833314  dummy_constant  2.627465  2.627465  0.833314   \n",
       "8     2.515753  2.652315  dummy_constant  2.515753  2.515753  2.652315   \n",
       "...        ...       ...             ...       ...       ...       ...   \n",
       "995   0.519293  1.177117  dummy_constant       NaN  0.519293  1.177117   \n",
       "992   0.970713  0.312828  dummy_constant       NaN  0.970713  0.312828   \n",
       "1005  1.032230  0.780958  dummy_constant       NaN  1.032230  0.780958   \n",
       "1003  0.467793  0.506476  dummy_constant       NaN  0.467793  0.506476   \n",
       "994   1.017450  0.338770  dummy_constant       NaN  1.017450  0.338770   \n",
       "\n",
       "             c1        c2 some_array  xopt_error xopt_error_str  \n",
       "9      4.273683  3.366736  [1, 2, 3]       False                 \n",
       "2      3.344959  2.440541  [1, 2, 3]       False                 \n",
       "3      6.929792  4.899941  [1, 2, 3]       False                 \n",
       "10     6.577966  4.637205  [1, 2, 3]       False                 \n",
       "8     12.272589  8.695720  [1, 2, 3]       False                 \n",
       "...         ...       ...        ...         ...            ...  \n",
       "995    0.561837  0.458860  [1, 2, 3]       False                 \n",
       "992    0.012920  0.256604  [1, 2, 3]       False                 \n",
       "1005   0.734506  0.362206  [1, 2, 3]       False                 \n",
       "1003  -0.605162  0.001079  [1, 2, 3]       False                 \n",
       "994    0.108260  0.293749  [1, 2, 3]       False                 \n",
       "\n",
       "[1001 rows x 11 columns]"
      ]
     },
     "execution_count": 15,
     "metadata": {},
     "output_type": "execute_result"
    }
   ],
   "source": [
    "X.data"
   ]
  },
  {
   "cell_type": "code",
   "execution_count": 16,
   "metadata": {
    "execution": {
     "iopub.execute_input": "2022-07-02T03:26:09.951480Z",
     "iopub.status.busy": "2022-07-02T03:26:09.951390Z",
     "iopub.status.idle": "2022-07-02T03:26:09.961699Z",
     "shell.execute_reply": "2022-07-02T03:26:09.961455Z"
    },
    "pycharm": {
     "name": "#%%\n"
    }
   },
   "outputs": [
    {
     "data": {
      "text/html": [
       "<div>\n",
       "<style scoped>\n",
       "    .dataframe tbody tr th:only-of-type {\n",
       "        vertical-align: middle;\n",
       "    }\n",
       "\n",
       "    .dataframe tbody tr th {\n",
       "        vertical-align: top;\n",
       "    }\n",
       "\n",
       "    .dataframe thead th {\n",
       "        text-align: right;\n",
       "    }\n",
       "</style>\n",
       "<table border=\"1\" class=\"dataframe\">\n",
       "  <thead>\n",
       "    <tr style=\"text-align: right;\">\n",
       "      <th></th>\n",
       "      <th>x1</th>\n",
       "      <th>x2</th>\n",
       "      <th>a</th>\n",
       "      <th>x9</th>\n",
       "      <th>y1</th>\n",
       "      <th>y2</th>\n",
       "      <th>c1</th>\n",
       "      <th>c2</th>\n",
       "      <th>some_array</th>\n",
       "      <th>xopt_error</th>\n",
       "      <th>xopt_error_str</th>\n",
       "      <th>feasible_c1</th>\n",
       "      <th>feasible_c2</th>\n",
       "      <th>feasible</th>\n",
       "    </tr>\n",
       "  </thead>\n",
       "  <tbody>\n",
       "    <tr>\n",
       "      <th>28</th>\n",
       "      <td>1.032230</td>\n",
       "      <td>0.169421</td>\n",
       "      <td>dummy_constant</td>\n",
       "      <td>1.032230</td>\n",
       "      <td>1.032230</td>\n",
       "      <td>0.169421</td>\n",
       "      <td>0.180040</td>\n",
       "      <td>0.392551</td>\n",
       "      <td>[1, 2, 3]</td>\n",
       "      <td>False</td>\n",
       "      <td></td>\n",
       "      <td>True</td>\n",
       "      <td>True</td>\n",
       "      <td>True</td>\n",
       "    </tr>\n",
       "    <tr>\n",
       "      <th>49</th>\n",
       "      <td>1.107207</td>\n",
       "      <td>0.279165</td>\n",
       "      <td>dummy_constant</td>\n",
       "      <td>1.107207</td>\n",
       "      <td>1.107207</td>\n",
       "      <td>0.279165</td>\n",
       "      <td>0.372777</td>\n",
       "      <td>0.417469</td>\n",
       "      <td>[1, 2, 3]</td>\n",
       "      <td>False</td>\n",
       "      <td></td>\n",
       "      <td>True</td>\n",
       "      <td>True</td>\n",
       "      <td>True</td>\n",
       "    </tr>\n",
       "    <tr>\n",
       "      <th>67</th>\n",
       "      <td>0.899385</td>\n",
       "      <td>0.928903</td>\n",
       "      <td>dummy_constant</td>\n",
       "      <td>0.899385</td>\n",
       "      <td>0.899385</td>\n",
       "      <td>0.928903</td>\n",
       "      <td>0.575073</td>\n",
       "      <td>0.343467</td>\n",
       "      <td>[1, 2, 3]</td>\n",
       "      <td>False</td>\n",
       "      <td></td>\n",
       "      <td>True</td>\n",
       "      <td>True</td>\n",
       "      <td>True</td>\n",
       "    </tr>\n",
       "    <tr>\n",
       "      <th>72</th>\n",
       "      <td>1.040175</td>\n",
       "      <td>0.261173</td>\n",
       "      <td>dummy_constant</td>\n",
       "      <td>1.040175</td>\n",
       "      <td>1.040175</td>\n",
       "      <td>0.261173</td>\n",
       "      <td>0.220245</td>\n",
       "      <td>0.348827</td>\n",
       "      <td>[1, 2, 3]</td>\n",
       "      <td>False</td>\n",
       "      <td></td>\n",
       "      <td>True</td>\n",
       "      <td>True</td>\n",
       "      <td>True</td>\n",
       "    </tr>\n",
       "    <tr>\n",
       "      <th>69</th>\n",
       "      <td>0.970074</td>\n",
       "      <td>0.999472</td>\n",
       "      <td>dummy_constant</td>\n",
       "      <td>0.970074</td>\n",
       "      <td>0.970074</td>\n",
       "      <td>0.999472</td>\n",
       "      <td>0.842825</td>\n",
       "      <td>0.470441</td>\n",
       "      <td>[1, 2, 3]</td>\n",
       "      <td>False</td>\n",
       "      <td></td>\n",
       "      <td>True</td>\n",
       "      <td>True</td>\n",
       "      <td>True</td>\n",
       "    </tr>\n",
       "    <tr>\n",
       "      <th>...</th>\n",
       "      <td>...</td>\n",
       "      <td>...</td>\n",
       "      <td>...</td>\n",
       "      <td>...</td>\n",
       "      <td>...</td>\n",
       "      <td>...</td>\n",
       "      <td>...</td>\n",
       "      <td>...</td>\n",
       "      <td>...</td>\n",
       "      <td>...</td>\n",
       "      <td>...</td>\n",
       "      <td>...</td>\n",
       "      <td>...</td>\n",
       "      <td>...</td>\n",
       "    </tr>\n",
       "    <tr>\n",
       "      <th>1001</th>\n",
       "      <td>0.849025</td>\n",
       "      <td>0.891498</td>\n",
       "      <td>dummy_constant</td>\n",
       "      <td>NaN</td>\n",
       "      <td>0.849025</td>\n",
       "      <td>0.891498</td>\n",
       "      <td>0.423136</td>\n",
       "      <td>0.275089</td>\n",
       "      <td>[1, 2, 3]</td>\n",
       "      <td>False</td>\n",
       "      <td></td>\n",
       "      <td>True</td>\n",
       "      <td>True</td>\n",
       "      <td>True</td>\n",
       "    </tr>\n",
       "    <tr>\n",
       "      <th>995</th>\n",
       "      <td>0.519293</td>\n",
       "      <td>1.177117</td>\n",
       "      <td>dummy_constant</td>\n",
       "      <td>NaN</td>\n",
       "      <td>0.519293</td>\n",
       "      <td>1.177117</td>\n",
       "      <td>0.561837</td>\n",
       "      <td>0.458860</td>\n",
       "      <td>[1, 2, 3]</td>\n",
       "      <td>False</td>\n",
       "      <td></td>\n",
       "      <td>True</td>\n",
       "      <td>True</td>\n",
       "      <td>True</td>\n",
       "    </tr>\n",
       "    <tr>\n",
       "      <th>992</th>\n",
       "      <td>0.970713</td>\n",
       "      <td>0.312828</td>\n",
       "      <td>dummy_constant</td>\n",
       "      <td>NaN</td>\n",
       "      <td>0.970713</td>\n",
       "      <td>0.312828</td>\n",
       "      <td>0.012920</td>\n",
       "      <td>0.256604</td>\n",
       "      <td>[1, 2, 3]</td>\n",
       "      <td>False</td>\n",
       "      <td></td>\n",
       "      <td>True</td>\n",
       "      <td>True</td>\n",
       "      <td>True</td>\n",
       "    </tr>\n",
       "    <tr>\n",
       "      <th>1005</th>\n",
       "      <td>1.032230</td>\n",
       "      <td>0.780958</td>\n",
       "      <td>dummy_constant</td>\n",
       "      <td>NaN</td>\n",
       "      <td>1.032230</td>\n",
       "      <td>0.780958</td>\n",
       "      <td>0.734506</td>\n",
       "      <td>0.362206</td>\n",
       "      <td>[1, 2, 3]</td>\n",
       "      <td>False</td>\n",
       "      <td></td>\n",
       "      <td>True</td>\n",
       "      <td>True</td>\n",
       "      <td>True</td>\n",
       "    </tr>\n",
       "    <tr>\n",
       "      <th>994</th>\n",
       "      <td>1.017450</td>\n",
       "      <td>0.338770</td>\n",
       "      <td>dummy_constant</td>\n",
       "      <td>NaN</td>\n",
       "      <td>1.017450</td>\n",
       "      <td>0.338770</td>\n",
       "      <td>0.108260</td>\n",
       "      <td>0.293749</td>\n",
       "      <td>[1, 2, 3]</td>\n",
       "      <td>False</td>\n",
       "      <td></td>\n",
       "      <td>True</td>\n",
       "      <td>True</td>\n",
       "      <td>True</td>\n",
       "    </tr>\n",
       "  </tbody>\n",
       "</table>\n",
       "<p>464 rows × 14 columns</p>\n",
       "</div>"
      ],
      "text/plain": [
       "            x1        x2               a        x9        y1        y2  \\\n",
       "28    1.032230  0.169421  dummy_constant  1.032230  1.032230  0.169421   \n",
       "49    1.107207  0.279165  dummy_constant  1.107207  1.107207  0.279165   \n",
       "67    0.899385  0.928903  dummy_constant  0.899385  0.899385  0.928903   \n",
       "72    1.040175  0.261173  dummy_constant  1.040175  1.040175  0.261173   \n",
       "69    0.970074  0.999472  dummy_constant  0.970074  0.970074  0.999472   \n",
       "...        ...       ...             ...       ...       ...       ...   \n",
       "1001  0.849025  0.891498  dummy_constant       NaN  0.849025  0.891498   \n",
       "995   0.519293  1.177117  dummy_constant       NaN  0.519293  1.177117   \n",
       "992   0.970713  0.312828  dummy_constant       NaN  0.970713  0.312828   \n",
       "1005  1.032230  0.780958  dummy_constant       NaN  1.032230  0.780958   \n",
       "994   1.017450  0.338770  dummy_constant       NaN  1.017450  0.338770   \n",
       "\n",
       "            c1        c2 some_array  xopt_error xopt_error_str  feasible_c1  \\\n",
       "28    0.180040  0.392551  [1, 2, 3]       False                        True   \n",
       "49    0.372777  0.417469  [1, 2, 3]       False                        True   \n",
       "67    0.575073  0.343467  [1, 2, 3]       False                        True   \n",
       "72    0.220245  0.348827  [1, 2, 3]       False                        True   \n",
       "69    0.842825  0.470441  [1, 2, 3]       False                        True   \n",
       "...        ...       ...        ...         ...            ...          ...   \n",
       "1001  0.423136  0.275089  [1, 2, 3]       False                        True   \n",
       "995   0.561837  0.458860  [1, 2, 3]       False                        True   \n",
       "992   0.012920  0.256604  [1, 2, 3]       False                        True   \n",
       "1005  0.734506  0.362206  [1, 2, 3]       False                        True   \n",
       "994   0.108260  0.293749  [1, 2, 3]       False                        True   \n",
       "\n",
       "      feasible_c2  feasible  \n",
       "28           True      True  \n",
       "49           True      True  \n",
       "67           True      True  \n",
       "72           True      True  \n",
       "69           True      True  \n",
       "...           ...       ...  \n",
       "1001         True      True  \n",
       "995          True      True  \n",
       "992          True      True  \n",
       "1005         True      True  \n",
       "994          True      True  \n",
       "\n",
       "[464 rows x 14 columns]"
      ]
     },
     "execution_count": 16,
     "metadata": {},
     "output_type": "execute_result"
    }
   ],
   "source": [
    "df = pd.concat([X.data, X.vocs.feasibility_data(X.data)], axis=1)\n",
    "df[df['feasible']]"
   ]
  },
  {
   "cell_type": "code",
   "execution_count": 17,
   "metadata": {
    "execution": {
     "iopub.execute_input": "2022-07-02T03:26:09.963345Z",
     "iopub.status.busy": "2022-07-02T03:26:09.963213Z",
     "iopub.status.idle": "2022-07-02T03:26:10.293817Z",
     "shell.execute_reply": "2022-07-02T03:26:10.293540Z"
    },
    "pycharm": {
     "name": "#%%\n"
    }
   },
   "outputs": [
    {
     "data": {
      "image/png": "[encoded data removed]",
      "text/plain": [
       "<Figure size 432x288 with 1 Axes>"
      ]
     },
     "metadata": {
      "needs_background": "light"
     },
     "output_type": "display_data"
    }
   ],
   "source": [
    "# Plot the feasible ones\n",
    "feasible_df = df[df[\"feasible\"]]\n",
    "feasible_df.plot(\"y1\", \"y2\", kind=\"scatter\").set_aspect(\"equal\")"
   ]
  },
  {
   "cell_type": "code",
   "execution_count": 18,
   "metadata": {
    "execution": {
     "iopub.execute_input": "2022-07-02T03:26:10.295507Z",
     "iopub.status.busy": "2022-07-02T03:26:10.295345Z",
     "iopub.status.idle": "2022-07-02T03:26:10.342537Z",
     "shell.execute_reply": "2022-07-02T03:26:10.342244Z"
    },
    "pycharm": {
     "name": "#%%\n"
    }
   },
   "outputs": [
    {
     "data": {
      "image/png": "[encoded data removed]",
      "text/plain": [
       "<Figure size 432x288 with 1 Axes>"
      ]
     },
     "metadata": {
      "needs_background": "light"
     },
     "output_type": "display_data"
    }
   ],
   "source": [
    "# Plot the infeasible ones\n",
    "infeasible_df = df[~df[\"feasible\"]]\n",
    "infeasible_df.plot(\"y1\", \"y2\", kind=\"scatter\").set_aspect(\"equal\")"
   ]
  },
  {
   "cell_type": "code",
   "execution_count": 19,
   "metadata": {
    "execution": {
     "iopub.execute_input": "2022-07-02T03:26:10.344200Z",
     "iopub.status.busy": "2022-07-02T03:26:10.344081Z",
     "iopub.status.idle": "2022-07-02T03:26:10.386366Z",
     "shell.execute_reply": "2022-07-02T03:26:10.386051Z"
    },
    "pycharm": {
     "name": "#%%\n"
    }
   },
   "outputs": [
    {
     "data": {
      "image/png": "[encoded data removed]",
      "text/plain": [
       "<Figure size 432x288 with 1 Axes>"
      ]
     },
     "metadata": {
      "needs_background": "light"
     },
     "output_type": "display_data"
    }
   ],
   "source": [
    "# This is the final population\n",
    "df1 = X.generator.population\n",
    "df1.plot(\"y1\", \"y2\", kind=\"scatter\").set_aspect(\"equal\")"
   ]
  },
  {
   "cell_type": "markdown",
   "metadata": {
    "pycharm": {
     "name": "#%% md\n"
    }
   },
   "source": [
    "# matplotlib plotting\n",
    "\n",
    "You can always use matplotlib for customizable plotting"
   ]
  },
  {
   "cell_type": "code",
   "execution_count": 20,
   "metadata": {
    "execution": {
     "iopub.execute_input": "2022-07-02T03:26:10.388162Z",
     "iopub.status.busy": "2022-07-02T03:26:10.388050Z",
     "iopub.status.idle": "2022-07-02T03:26:10.390409Z",
     "shell.execute_reply": "2022-07-02T03:26:10.389941Z"
    },
    "pycharm": {
     "name": "#%%\n"
    }
   },
   "outputs": [],
   "source": [
    "import matplotlib.pyplot as plt\n",
    "\n",
    "%matplotlib inline"
   ]
  },
  {
   "cell_type": "code",
   "execution_count": 21,
   "metadata": {
    "execution": {
     "iopub.execute_input": "2022-07-02T03:26:10.391901Z",
     "iopub.status.busy": "2022-07-02T03:26:10.391800Z",
     "iopub.status.idle": "2022-07-02T03:26:10.478191Z",
     "shell.execute_reply": "2022-07-02T03:26:10.477824Z"
    },
    "pycharm": {
     "name": "#%%\n"
    }
   },
   "outputs": [
    {
     "data": {
      "text/plain": [
       "<matplotlib.legend.Legend at 0x1639f5ac0>"
      ]
     },
     "execution_count": 21,
     "metadata": {},
     "output_type": "execute_result"
    },
    {
     "data": {
      "image/png": "[encoded data removed]",
      "text/plain": [
       "<Figure size 432x432 with 1 Axes>"
      ]
     },
     "metadata": {
      "needs_background": "light"
     },
     "output_type": "display_data"
    }
   ],
   "source": [
    "# Extract objectives from output\n",
    "k1, k2 = \"y1\", \"y2\"\n",
    "\n",
    "fig, ax = plt.subplots(figsize=(6, 6))\n",
    "\n",
    "ax.scatter(\n",
    "    infeasible_df[k1],\n",
    "    infeasible_df[k2],\n",
    "    color=\"blue\",\n",
    "    marker=\".\",\n",
    "    alpha=0.5,\n",
    "    label=\"infeasible\",\n",
    ")\n",
    "ax.scatter(\n",
    "    feasible_df[k1], feasible_df[k2], color=\"orange\", marker=\".\", label=\"feasible\"\n",
    ")\n",
    "ax.scatter(df1[k1], df1[k2], color=\"red\", marker=\".\", label=\"final population\")\n",
    "ax.set_xlabel(k1)\n",
    "ax.set_ylabel(k2)\n",
    "ax.set_aspect(\"auto\")\n",
    "ax.set_title(f\"Xopt's CNSGA algorithm\")\n",
    "plt.legend()"
   ]
  },
  {
   "cell_type": "code",
   "execution_count": 22,
   "metadata": {
    "execution": {
     "iopub.execute_input": "2022-07-02T03:26:10.479957Z",
     "iopub.status.busy": "2022-07-02T03:26:10.479845Z",
     "iopub.status.idle": "2022-07-02T03:26:11.537891Z",
     "shell.execute_reply": "2022-07-02T03:26:11.537191Z"
    },
    "pycharm": {
     "name": "#%%\n"
    }
   },
   "outputs": [],
   "source": [
    "# Cleanup\n",
    "!rm -r dask-worker-space\n",
    "!rm -r temp\n",
    "!rm xopt.log*\n",
    "!rm test.yaml"
   ]
  }
 ],
 "metadata": {
  "interpreter": {
   "hash": "72034539424920dfb606fe3b820b3f27dca0cbf1c69938110810ec4641e275b1"
  },
  "kernelspec": {
   "display_name": "Python 3.9.12 ('xopt-dev')",
   "language": "python",
   "name": "python3"
  },
  "language_info": {
   "codemirror_mode": {
    "name": "ipython",
    "version": 3
   },
   "file_extension": ".py",
   "mimetype": "text/x-python",
   "name": "python",
   "nbconvert_exporter": "python",
   "pygments_lexer": "ipython3",
   "version": "3.9.13"
  }
 },
 "nbformat": 4,
 "nbformat_minor": 4
}
