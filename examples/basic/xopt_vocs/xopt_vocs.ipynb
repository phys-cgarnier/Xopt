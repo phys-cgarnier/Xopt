{
 "cells": [
  {
   "cell_type": "markdown",
   "id": "9700f595",
   "metadata": {
    "pycharm": {
     "name": "#%% md\n"
    }
   },
   "source": [
    "# VOCS data structure \n",
    "\n",
    "Variables, Objectives, Constraints, and other Settings (VOCS) helps define our optimization problems. "
   ]
  },
  {
   "cell_type": "code",
   "execution_count": 1,
   "id": "32324ac0-b299-42ee-a6b9-e112dfaa5a45",
   "metadata": {
    "ExecuteTime": {
     "end_time": "2023-10-27T16:46:04.425862200Z",
     "start_time": "2023-10-27T16:46:01.206803200Z"
    },
    "execution": {
     "iopub.execute_input": "2024-04-15T19:00:46.983226Z",
     "iopub.status.busy": "2024-04-15T19:00:46.982798Z",
     "iopub.status.idle": "2024-04-15T19:00:48.537066Z",
     "shell.execute_reply": "2024-04-15T19:00:48.536441Z"
    },
    "pycharm": {
     "name": "#%%\n"
    }
   },
   "outputs": [],
   "source": [
    "from xopt.vocs import VOCS"
   ]
  },
  {
   "cell_type": "code",
   "execution_count": 2,
   "id": "31a15253-14cd-4547-ab01-09f4b56f5bf5",
   "metadata": {
    "ExecuteTime": {
     "end_time": "2023-10-27T16:46:04.440220800Z",
     "start_time": "2023-10-27T16:46:04.427862900Z"
    },
    "execution": {
     "iopub.execute_input": "2024-04-15T19:00:48.540126Z",
     "iopub.status.busy": "2024-04-15T19:00:48.539687Z",
     "iopub.status.idle": "2024-04-15T19:00:48.547598Z",
     "shell.execute_reply": "2024-04-15T19:00:48.547008Z"
    },
    "pycharm": {
     "name": "#%%\n"
    }
   },
   "outputs": [
    {
     "data": {
      "text/plain": [
       "VOCS(variables={'a': [0.0, 1000.0], 'b': [-1.0, 1.0]}, constraints={'e': ['LESS_THAN', 2.0], 'f': ['GREATER_THAN', 0.0]}, objectives={'c': 'MAXIMIZE', 'd': 'MINIMIZE'}, constants={'g': 1234}, observables=[])"
      ]
     },
     "execution_count": 2,
     "metadata": {},
     "output_type": "execute_result"
    }
   ],
   "source": [
    "Y = \"\"\"\n",
    "variables:\n",
    "  a: [0, 1e3] # Note that 1e3 usually parses as a str with YAML. \n",
    "  b: [-1, 1]\n",
    "objectives:\n",
    "  c: maximize\n",
    "  d: minimize \n",
    "constraints:\n",
    "  e: ['Less_than', 2]\n",
    "  f: ['greater_than', 0]\n",
    "constants:\n",
    "  g: 1234\n",
    "\n",
    "\"\"\"\n",
    "\n",
    "vocs = VOCS.from_yaml(Y)\n",
    "vocs"
   ]
  },
  {
   "cell_type": "code",
   "execution_count": 3,
   "id": "304bcc89",
   "metadata": {
    "ExecuteTime": {
     "end_time": "2023-10-27T16:46:04.484822200Z",
     "start_time": "2023-10-27T16:46:04.442248900Z"
    },
    "execution": {
     "iopub.execute_input": "2024-04-15T19:00:48.550067Z",
     "iopub.status.busy": "2024-04-15T19:00:48.549616Z",
     "iopub.status.idle": "2024-04-15T19:00:48.553525Z",
     "shell.execute_reply": "2024-04-15T19:00:48.553047Z"
    },
    "pycharm": {
     "name": "#%%\n"
    }
   },
   "outputs": [
    {
     "data": {
      "text/plain": [
       "{'variables': {'a': [0.0, 1000.0], 'b': [-1.0, 1.0]},\n",
       " 'constraints': {'e': ['LESS_THAN', 2.0], 'f': ['GREATER_THAN', 0.0]},\n",
       " 'objectives': {'c': 'MAXIMIZE', 'd': 'MINIMIZE'},\n",
       " 'constants': {'g': 1234},\n",
       " 'observables': []}"
      ]
     },
     "execution_count": 3,
     "metadata": {},
     "output_type": "execute_result"
    }
   ],
   "source": [
    "# as dict\n",
    "dict(vocs)"
   ]
  },
  {
   "cell_type": "code",
   "execution_count": 4,
   "id": "b236bfb4",
   "metadata": {
    "ExecuteTime": {
     "end_time": "2023-10-27T16:46:04.493762900Z",
     "start_time": "2023-10-27T16:46:04.458284400Z"
    },
    "execution": {
     "iopub.execute_input": "2024-04-15T19:00:48.555697Z",
     "iopub.status.busy": "2024-04-15T19:00:48.555353Z",
     "iopub.status.idle": "2024-04-15T19:00:48.558022Z",
     "shell.execute_reply": "2024-04-15T19:00:48.557512Z"
    },
    "pycharm": {
     "name": "#%%\n"
    }
   },
   "outputs": [],
   "source": [
    "#  re-parse dict\n",
    "vocs2 = VOCS.from_dict(dict(vocs))"
   ]
  },
  {
   "cell_type": "code",
   "execution_count": 5,
   "id": "76c9a173",
   "metadata": {
    "ExecuteTime": {
     "end_time": "2023-10-27T16:46:04.493762900Z",
     "start_time": "2023-10-27T16:46:04.471285600Z"
    },
    "execution": {
     "iopub.execute_input": "2024-04-15T19:00:48.560233Z",
     "iopub.status.busy": "2024-04-15T19:00:48.559879Z",
     "iopub.status.idle": "2024-04-15T19:00:48.563494Z",
     "shell.execute_reply": "2024-04-15T19:00:48.563007Z"
    },
    "pycharm": {
     "name": "#%%\n"
    }
   },
   "outputs": [
    {
     "data": {
      "text/plain": [
       "True"
      ]
     },
     "execution_count": 5,
     "metadata": {},
     "output_type": "execute_result"
    }
   ],
   "source": [
    "# Check that these are the same\n",
    "vocs2 == vocs"
   ]
  },
  {
   "cell_type": "code",
   "execution_count": 6,
   "id": "6a846f4d",
   "metadata": {
    "ExecuteTime": {
     "end_time": "2023-10-27T16:46:04.503771300Z",
     "start_time": "2023-10-27T16:46:04.486737500Z"
    },
    "execution": {
     "iopub.execute_input": "2024-04-15T19:00:48.565590Z",
     "iopub.status.busy": "2024-04-15T19:00:48.565253Z",
     "iopub.status.idle": "2024-04-15T19:00:48.568908Z",
     "shell.execute_reply": "2024-04-15T19:00:48.568452Z"
    },
    "pycharm": {
     "name": "#%%\n"
    }
   },
   "outputs": [
    {
     "data": {
      "text/plain": [
       "{'a': [0.0, 1000.0], 'b': [-1.0, 1.0]}"
      ]
     },
     "execution_count": 6,
     "metadata": {},
     "output_type": "execute_result"
    }
   ],
   "source": [
    "# This replaces the old vocs[\"variables\"]\n",
    "getattr(vocs, \"variables\")"
   ]
  },
  {
   "cell_type": "code",
   "execution_count": 7,
   "id": "6fa2afc8",
   "metadata": {
    "ExecuteTime": {
     "end_time": "2023-10-27T16:46:04.544770800Z",
     "start_time": "2023-10-27T16:46:04.504768500Z"
    },
    "execution": {
     "iopub.execute_input": "2024-04-15T19:00:48.570996Z",
     "iopub.status.busy": "2024-04-15T19:00:48.570809Z",
     "iopub.status.idle": "2024-04-15T19:00:48.574549Z",
     "shell.execute_reply": "2024-04-15T19:00:48.574056Z"
    },
    "pycharm": {
     "name": "#%%\n"
    }
   },
   "outputs": [
    {
     "data": {
      "text/plain": [
       "True"
      ]
     },
     "execution_count": 7,
     "metadata": {},
     "output_type": "execute_result"
    }
   ],
   "source": [
    "vocs.objectives[\"c\"] == 'MAXIMIZE'"
   ]
  },
  {
   "cell_type": "code",
   "execution_count": 8,
   "id": "713272b7",
   "metadata": {
    "ExecuteTime": {
     "end_time": "2023-10-27T16:46:04.544770800Z",
     "start_time": "2023-10-27T16:46:04.518770200Z"
    },
    "execution": {
     "iopub.execute_input": "2024-04-15T19:00:48.576517Z",
     "iopub.status.busy": "2024-04-15T19:00:48.576336Z",
     "iopub.status.idle": "2024-04-15T19:00:48.579927Z",
     "shell.execute_reply": "2024-04-15T19:00:48.579420Z"
    },
    "pycharm": {
     "name": "#%%\n"
    }
   },
   "outputs": [
    {
     "data": {
      "text/plain": [
       "'{\"variables\":{\"a\":[0.0,1000.0],\"b\":[-1.0,1.0]},\"constraints\":{\"e\":[\"LESS_THAN\",2.0],\"f\":[\"GREATER_THAN\",0.0]},\"objectives\":{\"c\":\"MAXIMIZE\",\"d\":\"MINIMIZE\"},\"constants\":{\"g\":1234},\"observables\":[]}'"
      ]
     },
     "execution_count": 8,
     "metadata": {},
     "output_type": "execute_result"
    }
   ],
   "source": [
    "# json\n",
    "vocs.to_json()"
   ]
  },
  {
   "cell_type": "markdown",
   "id": "11167a85",
   "metadata": {
    "pycharm": {
     "name": "#%% md\n"
    }
   },
   "source": [
    "# Objective Evaluation"
   ]
  },
  {
   "cell_type": "code",
   "execution_count": 9,
   "id": "c4d150be",
   "metadata": {
    "ExecuteTime": {
     "end_time": "2023-10-27T16:46:04.566771500Z",
     "start_time": "2023-10-27T16:46:04.534772500Z"
    },
    "execution": {
     "iopub.execute_input": "2024-04-15T19:00:48.582004Z",
     "iopub.status.busy": "2024-04-15T19:00:48.581810Z",
     "iopub.status.idle": "2024-04-15T19:00:48.595947Z",
     "shell.execute_reply": "2024-04-15T19:00:48.595497Z"
    },
    "pycharm": {
     "name": "#%%\n"
    }
   },
   "outputs": [
    {
     "data": {
      "text/html": [
       "<div>\n",
       "<style scoped>\n",
       "    .dataframe tbody tr th:only-of-type {\n",
       "        vertical-align: middle;\n",
       "    }\n",
       "\n",
       "    .dataframe tbody tr th {\n",
       "        vertical-align: top;\n",
       "    }\n",
       "\n",
       "    .dataframe thead th {\n",
       "        text-align: right;\n",
       "    }\n",
       "</style>\n",
       "<table border=\"1\" class=\"dataframe\">\n",
       "  <thead>\n",
       "    <tr style=\"text-align: right;\">\n",
       "      <th></th>\n",
       "      <th>a</th>\n",
       "      <th>b</th>\n",
       "      <th>g</th>\n",
       "      <th>c</th>\n",
       "      <th>d</th>\n",
       "      <th>e</th>\n",
       "      <th>f</th>\n",
       "    </tr>\n",
       "  </thead>\n",
       "  <tbody>\n",
       "    <tr>\n",
       "      <th>5</th>\n",
       "      <td>561.399250</td>\n",
       "      <td>-0.650604</td>\n",
       "      <td>1234</td>\n",
       "      <td>560.748646</td>\n",
       "      <td>562.049853</td>\n",
       "      <td>1121.497292</td>\n",
       "      <td>1124.099707</td>\n",
       "    </tr>\n",
       "    <tr>\n",
       "      <th>6</th>\n",
       "      <td>174.898536</td>\n",
       "      <td>-0.780962</td>\n",
       "      <td>1234</td>\n",
       "      <td>174.117574</td>\n",
       "      <td>175.679498</td>\n",
       "      <td>348.235149</td>\n",
       "      <td>351.358996</td>\n",
       "    </tr>\n",
       "    <tr>\n",
       "      <th>7</th>\n",
       "      <td>952.628597</td>\n",
       "      <td>-0.596044</td>\n",
       "      <td>1234</td>\n",
       "      <td>952.032553</td>\n",
       "      <td>953.224641</td>\n",
       "      <td>1904.065106</td>\n",
       "      <td>1906.449282</td>\n",
       "    </tr>\n",
       "    <tr>\n",
       "      <th>8</th>\n",
       "      <td>612.083956</td>\n",
       "      <td>0.883836</td>\n",
       "      <td>1234</td>\n",
       "      <td>612.967791</td>\n",
       "      <td>611.200120</td>\n",
       "      <td>1225.935583</td>\n",
       "      <td>1222.400240</td>\n",
       "    </tr>\n",
       "    <tr>\n",
       "      <th>9</th>\n",
       "      <td>158.656050</td>\n",
       "      <td>0.126510</td>\n",
       "      <td>1234</td>\n",
       "      <td>158.782560</td>\n",
       "      <td>158.529540</td>\n",
       "      <td>317.565120</td>\n",
       "      <td>317.059080</td>\n",
       "    </tr>\n",
       "    <tr>\n",
       "      <th>10</th>\n",
       "      <td>298.921815</td>\n",
       "      <td>-0.059651</td>\n",
       "      <td>1234</td>\n",
       "      <td>298.862163</td>\n",
       "      <td>298.981466</td>\n",
       "      <td>597.724326</td>\n",
       "      <td>597.962932</td>\n",
       "    </tr>\n",
       "    <tr>\n",
       "      <th>11</th>\n",
       "      <td>196.451341</td>\n",
       "      <td>-0.892687</td>\n",
       "      <td>1234</td>\n",
       "      <td>195.558654</td>\n",
       "      <td>197.344028</td>\n",
       "      <td>391.117307</td>\n",
       "      <td>394.688055</td>\n",
       "    </tr>\n",
       "    <tr>\n",
       "      <th>12</th>\n",
       "      <td>711.674172</td>\n",
       "      <td>-0.440107</td>\n",
       "      <td>1234</td>\n",
       "      <td>711.234065</td>\n",
       "      <td>712.114279</td>\n",
       "      <td>1422.468130</td>\n",
       "      <td>1424.228558</td>\n",
       "    </tr>\n",
       "    <tr>\n",
       "      <th>13</th>\n",
       "      <td>773.164848</td>\n",
       "      <td>-0.989111</td>\n",
       "      <td>1234</td>\n",
       "      <td>772.175737</td>\n",
       "      <td>774.153959</td>\n",
       "      <td>1544.351473</td>\n",
       "      <td>1548.307919</td>\n",
       "    </tr>\n",
       "    <tr>\n",
       "      <th>14</th>\n",
       "      <td>282.420439</td>\n",
       "      <td>-0.905269</td>\n",
       "      <td>1234</td>\n",
       "      <td>281.515171</td>\n",
       "      <td>283.325708</td>\n",
       "      <td>563.030341</td>\n",
       "      <td>566.651416</td>\n",
       "    </tr>\n",
       "  </tbody>\n",
       "</table>\n",
       "</div>"
      ],
      "text/plain": [
       "             a         b     g           c           d            e  \\\n",
       "5   561.399250 -0.650604  1234  560.748646  562.049853  1121.497292   \n",
       "6   174.898536 -0.780962  1234  174.117574  175.679498   348.235149   \n",
       "7   952.628597 -0.596044  1234  952.032553  953.224641  1904.065106   \n",
       "8   612.083956  0.883836  1234  612.967791  611.200120  1225.935583   \n",
       "9   158.656050  0.126510  1234  158.782560  158.529540   317.565120   \n",
       "10  298.921815 -0.059651  1234  298.862163  298.981466   597.724326   \n",
       "11  196.451341 -0.892687  1234  195.558654  197.344028   391.117307   \n",
       "12  711.674172 -0.440107  1234  711.234065  712.114279  1422.468130   \n",
       "13  773.164848 -0.989111  1234  772.175737  774.153959  1544.351473   \n",
       "14  282.420439 -0.905269  1234  281.515171  283.325708   563.030341   \n",
       "\n",
       "              f  \n",
       "5   1124.099707  \n",
       "6    351.358996  \n",
       "7   1906.449282  \n",
       "8   1222.400240  \n",
       "9    317.059080  \n",
       "10   597.962932  \n",
       "11   394.688055  \n",
       "12  1424.228558  \n",
       "13  1548.307919  \n",
       "14   566.651416  "
      ]
     },
     "execution_count": 9,
     "metadata": {},
     "output_type": "execute_result"
    }
   ],
   "source": [
    "from xopt.vocs import form_objective_data, form_constraint_data, form_feasibility_data\n",
    "import pandas as pd\n",
    "import numpy as np\n",
    "\n",
    "data = pd.DataFrame(vocs.random_inputs(10))\n",
    "# Add some outputs\n",
    "data[\"c\"] = data[\"a\"] + data[\"b\"]\n",
    "data[\"d\"] = data[\"a\"] - data[\"b\"]\n",
    "data[\"e\"] = data[\"a\"] * 2 + data[\"b\"] * 2\n",
    "data[\"f\"] = data[\"a\"] * 2 - data[\"b\"] * 2\n",
    "data.index = np.arange(len(data)) + 5  # custom index\n",
    "data"
   ]
  },
  {
   "cell_type": "code",
   "execution_count": 10,
   "id": "a695dc98",
   "metadata": {
    "ExecuteTime": {
     "end_time": "2023-10-27T16:46:04.604993200Z",
     "start_time": "2023-10-27T16:46:04.563770500Z"
    },
    "execution": {
     "iopub.execute_input": "2024-04-15T19:00:48.598226Z",
     "iopub.status.busy": "2024-04-15T19:00:48.597764Z",
     "iopub.status.idle": "2024-04-15T19:00:48.601475Z",
     "shell.execute_reply": "2024-04-15T19:00:48.600929Z"
    },
    "pycharm": {
     "name": "#%%\n"
    }
   },
   "outputs": [
    {
     "data": {
      "text/plain": [
       "{'c': 'MAXIMIZE', 'd': 'MINIMIZE'}"
      ]
     },
     "execution_count": 10,
     "metadata": {},
     "output_type": "execute_result"
    }
   ],
   "source": [
    "vocs.objectives"
   ]
  },
  {
   "cell_type": "code",
   "execution_count": 11,
   "id": "43051b71",
   "metadata": {
    "ExecuteTime": {
     "end_time": "2023-10-27T16:46:04.635082700Z",
     "start_time": "2023-10-27T16:46:04.582806500Z"
    },
    "execution": {
     "iopub.execute_input": "2024-04-15T19:00:48.603706Z",
     "iopub.status.busy": "2024-04-15T19:00:48.603344Z",
     "iopub.status.idle": "2024-04-15T19:00:48.609909Z",
     "shell.execute_reply": "2024-04-15T19:00:48.609359Z"
    },
    "pycharm": {
     "name": "#%%\n"
    }
   },
   "outputs": [
    {
     "data": {
      "text/html": [
       "<div>\n",
       "<style scoped>\n",
       "    .dataframe tbody tr th:only-of-type {\n",
       "        vertical-align: middle;\n",
       "    }\n",
       "\n",
       "    .dataframe tbody tr th {\n",
       "        vertical-align: top;\n",
       "    }\n",
       "\n",
       "    .dataframe thead th {\n",
       "        text-align: right;\n",
       "    }\n",
       "</style>\n",
       "<table border=\"1\" class=\"dataframe\">\n",
       "  <thead>\n",
       "    <tr style=\"text-align: right;\">\n",
       "      <th></th>\n",
       "      <th>objective_c</th>\n",
       "      <th>objective_d</th>\n",
       "    </tr>\n",
       "  </thead>\n",
       "  <tbody>\n",
       "    <tr>\n",
       "      <th>5</th>\n",
       "      <td>-560.748646</td>\n",
       "      <td>562.049853</td>\n",
       "    </tr>\n",
       "    <tr>\n",
       "      <th>6</th>\n",
       "      <td>-174.117574</td>\n",
       "      <td>175.679498</td>\n",
       "    </tr>\n",
       "    <tr>\n",
       "      <th>7</th>\n",
       "      <td>-952.032553</td>\n",
       "      <td>953.224641</td>\n",
       "    </tr>\n",
       "    <tr>\n",
       "      <th>8</th>\n",
       "      <td>-612.967791</td>\n",
       "      <td>611.200120</td>\n",
       "    </tr>\n",
       "    <tr>\n",
       "      <th>9</th>\n",
       "      <td>-158.782560</td>\n",
       "      <td>158.529540</td>\n",
       "    </tr>\n",
       "    <tr>\n",
       "      <th>10</th>\n",
       "      <td>-298.862163</td>\n",
       "      <td>298.981466</td>\n",
       "    </tr>\n",
       "    <tr>\n",
       "      <th>11</th>\n",
       "      <td>-195.558654</td>\n",
       "      <td>197.344028</td>\n",
       "    </tr>\n",
       "    <tr>\n",
       "      <th>12</th>\n",
       "      <td>-711.234065</td>\n",
       "      <td>712.114279</td>\n",
       "    </tr>\n",
       "    <tr>\n",
       "      <th>13</th>\n",
       "      <td>-772.175737</td>\n",
       "      <td>774.153959</td>\n",
       "    </tr>\n",
       "    <tr>\n",
       "      <th>14</th>\n",
       "      <td>-281.515171</td>\n",
       "      <td>283.325708</td>\n",
       "    </tr>\n",
       "  </tbody>\n",
       "</table>\n",
       "</div>"
      ],
      "text/plain": [
       "    objective_c  objective_d\n",
       "5   -560.748646   562.049853\n",
       "6   -174.117574   175.679498\n",
       "7   -952.032553   953.224641\n",
       "8   -612.967791   611.200120\n",
       "9   -158.782560   158.529540\n",
       "10  -298.862163   298.981466\n",
       "11  -195.558654   197.344028\n",
       "12  -711.234065   712.114279\n",
       "13  -772.175737   774.153959\n",
       "14  -281.515171   283.325708"
      ]
     },
     "execution_count": 11,
     "metadata": {},
     "output_type": "execute_result"
    }
   ],
   "source": [
    "# These are in standard form for minimization\n",
    "form_objective_data(vocs.objectives, data)"
   ]
  },
  {
   "cell_type": "code",
   "execution_count": 12,
   "id": "2ed50815",
   "metadata": {
    "ExecuteTime": {
     "end_time": "2023-10-27T16:46:04.635997800Z",
     "start_time": "2023-10-27T16:46:04.592809200Z"
    },
    "execution": {
     "iopub.execute_input": "2024-04-15T19:00:48.611991Z",
     "iopub.status.busy": "2024-04-15T19:00:48.611809Z",
     "iopub.status.idle": "2024-04-15T19:00:48.618122Z",
     "shell.execute_reply": "2024-04-15T19:00:48.617625Z"
    },
    "pycharm": {
     "name": "#%%\n"
    }
   },
   "outputs": [
    {
     "data": {
      "text/html": [
       "<div>\n",
       "<style scoped>\n",
       "    .dataframe tbody tr th:only-of-type {\n",
       "        vertical-align: middle;\n",
       "    }\n",
       "\n",
       "    .dataframe tbody tr th {\n",
       "        vertical-align: top;\n",
       "    }\n",
       "\n",
       "    .dataframe thead th {\n",
       "        text-align: right;\n",
       "    }\n",
       "</style>\n",
       "<table border=\"1\" class=\"dataframe\">\n",
       "  <thead>\n",
       "    <tr style=\"text-align: right;\">\n",
       "      <th></th>\n",
       "      <th>objective_c</th>\n",
       "      <th>objective_d</th>\n",
       "    </tr>\n",
       "  </thead>\n",
       "  <tbody>\n",
       "    <tr>\n",
       "      <th>5</th>\n",
       "      <td>-560.748646</td>\n",
       "      <td>562.049853</td>\n",
       "    </tr>\n",
       "    <tr>\n",
       "      <th>6</th>\n",
       "      <td>-174.117574</td>\n",
       "      <td>175.679498</td>\n",
       "    </tr>\n",
       "    <tr>\n",
       "      <th>7</th>\n",
       "      <td>-952.032553</td>\n",
       "      <td>953.224641</td>\n",
       "    </tr>\n",
       "    <tr>\n",
       "      <th>8</th>\n",
       "      <td>-612.967791</td>\n",
       "      <td>611.200120</td>\n",
       "    </tr>\n",
       "    <tr>\n",
       "      <th>9</th>\n",
       "      <td>-158.782560</td>\n",
       "      <td>158.529540</td>\n",
       "    </tr>\n",
       "    <tr>\n",
       "      <th>10</th>\n",
       "      <td>-298.862163</td>\n",
       "      <td>298.981466</td>\n",
       "    </tr>\n",
       "    <tr>\n",
       "      <th>11</th>\n",
       "      <td>-195.558654</td>\n",
       "      <td>197.344028</td>\n",
       "    </tr>\n",
       "    <tr>\n",
       "      <th>12</th>\n",
       "      <td>-711.234065</td>\n",
       "      <td>712.114279</td>\n",
       "    </tr>\n",
       "    <tr>\n",
       "      <th>13</th>\n",
       "      <td>-772.175737</td>\n",
       "      <td>774.153959</td>\n",
       "    </tr>\n",
       "    <tr>\n",
       "      <th>14</th>\n",
       "      <td>-281.515171</td>\n",
       "      <td>283.325708</td>\n",
       "    </tr>\n",
       "  </tbody>\n",
       "</table>\n",
       "</div>"
      ],
      "text/plain": [
       "    objective_c  objective_d\n",
       "5   -560.748646   562.049853\n",
       "6   -174.117574   175.679498\n",
       "7   -952.032553   953.224641\n",
       "8   -612.967791   611.200120\n",
       "9   -158.782560   158.529540\n",
       "10  -298.862163   298.981466\n",
       "11  -195.558654   197.344028\n",
       "12  -711.234065   712.114279\n",
       "13  -772.175737   774.153959\n",
       "14  -281.515171   283.325708"
      ]
     },
     "execution_count": 12,
     "metadata": {},
     "output_type": "execute_result"
    }
   ],
   "source": [
    "# This is also available as a method\n",
    "vocs.objective_data(data)"
   ]
  },
  {
   "cell_type": "code",
   "execution_count": 13,
   "id": "9f4275d4",
   "metadata": {
    "ExecuteTime": {
     "end_time": "2023-10-27T16:46:04.665088600Z",
     "start_time": "2023-10-27T16:46:04.607996700Z"
    },
    "execution": {
     "iopub.execute_input": "2024-04-15T19:00:48.620303Z",
     "iopub.status.busy": "2024-04-15T19:00:48.619885Z",
     "iopub.status.idle": "2024-04-15T19:00:48.624466Z",
     "shell.execute_reply": "2024-04-15T19:00:48.623941Z"
    },
    "pycharm": {
     "name": "#%%\n"
    }
   },
   "outputs": [
    {
     "data": {
      "text/plain": [
       "array([[-560.74864597,  562.04985347],\n",
       "       [-174.11757439,  175.67949815],\n",
       "       [-952.03255305,  953.22464107],\n",
       "       [-612.96779128,  611.20011996],\n",
       "       [-158.78256018,  158.5295401 ],\n",
       "       [-298.86216312,  298.98146589],\n",
       "       [-195.55865372,  197.34402763],\n",
       "       [-711.23406499,  712.11427879],\n",
       "       [-772.17573651,  774.15395928],\n",
       "       [-281.51517067,  283.32570811]])"
      ]
     },
     "execution_count": 13,
     "metadata": {},
     "output_type": "execute_result"
    }
   ],
   "source": [
    "# use the to_numpy() method to convert for low level use.\n",
    "vocs.objective_data(data).to_numpy()"
   ]
  },
  {
   "cell_type": "code",
   "execution_count": 14,
   "id": "29b73df4",
   "metadata": {
    "ExecuteTime": {
     "end_time": "2023-10-27T16:46:04.702034Z",
     "start_time": "2023-10-27T16:46:04.622998Z"
    },
    "execution": {
     "iopub.execute_input": "2024-04-15T19:00:48.626609Z",
     "iopub.status.busy": "2024-04-15T19:00:48.626278Z",
     "iopub.status.idle": "2024-04-15T19:00:48.633117Z",
     "shell.execute_reply": "2024-04-15T19:00:48.632575Z"
    },
    "pycharm": {
     "name": "#%%\n"
    }
   },
   "outputs": [
    {
     "data": {
      "text/html": [
       "<div>\n",
       "<style scoped>\n",
       "    .dataframe tbody tr th:only-of-type {\n",
       "        vertical-align: middle;\n",
       "    }\n",
       "\n",
       "    .dataframe tbody tr th {\n",
       "        vertical-align: top;\n",
       "    }\n",
       "\n",
       "    .dataframe thead th {\n",
       "        text-align: right;\n",
       "    }\n",
       "</style>\n",
       "<table border=\"1\" class=\"dataframe\">\n",
       "  <thead>\n",
       "    <tr style=\"text-align: right;\">\n",
       "      <th></th>\n",
       "      <th>constraint_e</th>\n",
       "      <th>constraint_f</th>\n",
       "    </tr>\n",
       "  </thead>\n",
       "  <tbody>\n",
       "    <tr>\n",
       "      <th>5</th>\n",
       "      <td>1119.497292</td>\n",
       "      <td>-1124.099707</td>\n",
       "    </tr>\n",
       "    <tr>\n",
       "      <th>6</th>\n",
       "      <td>346.235149</td>\n",
       "      <td>-351.358996</td>\n",
       "    </tr>\n",
       "    <tr>\n",
       "      <th>7</th>\n",
       "      <td>1902.065106</td>\n",
       "      <td>-1906.449282</td>\n",
       "    </tr>\n",
       "    <tr>\n",
       "      <th>8</th>\n",
       "      <td>1223.935583</td>\n",
       "      <td>-1222.400240</td>\n",
       "    </tr>\n",
       "    <tr>\n",
       "      <th>9</th>\n",
       "      <td>315.565120</td>\n",
       "      <td>-317.059080</td>\n",
       "    </tr>\n",
       "    <tr>\n",
       "      <th>10</th>\n",
       "      <td>595.724326</td>\n",
       "      <td>-597.962932</td>\n",
       "    </tr>\n",
       "    <tr>\n",
       "      <th>11</th>\n",
       "      <td>389.117307</td>\n",
       "      <td>-394.688055</td>\n",
       "    </tr>\n",
       "    <tr>\n",
       "      <th>12</th>\n",
       "      <td>1420.468130</td>\n",
       "      <td>-1424.228558</td>\n",
       "    </tr>\n",
       "    <tr>\n",
       "      <th>13</th>\n",
       "      <td>1542.351473</td>\n",
       "      <td>-1548.307919</td>\n",
       "    </tr>\n",
       "    <tr>\n",
       "      <th>14</th>\n",
       "      <td>561.030341</td>\n",
       "      <td>-566.651416</td>\n",
       "    </tr>\n",
       "  </tbody>\n",
       "</table>\n",
       "</div>"
      ],
      "text/plain": [
       "    constraint_e  constraint_f\n",
       "5    1119.497292  -1124.099707\n",
       "6     346.235149   -351.358996\n",
       "7    1902.065106  -1906.449282\n",
       "8    1223.935583  -1222.400240\n",
       "9     315.565120   -317.059080\n",
       "10    595.724326   -597.962932\n",
       "11    389.117307   -394.688055\n",
       "12   1420.468130  -1424.228558\n",
       "13   1542.351473  -1548.307919\n",
       "14    561.030341   -566.651416"
      ]
     },
     "execution_count": 14,
     "metadata": {},
     "output_type": "execute_result"
    }
   ],
   "source": [
    "vocs.constraint_data(data)"
   ]
  },
  {
   "cell_type": "code",
   "execution_count": 15,
   "id": "e46a5e83",
   "metadata": {
    "ExecuteTime": {
     "end_time": "2023-10-27T16:46:04.703032900Z",
     "start_time": "2023-10-27T16:46:04.642000500Z"
    },
    "execution": {
     "iopub.execute_input": "2024-04-15T19:00:48.635324Z",
     "iopub.status.busy": "2024-04-15T19:00:48.634996Z",
     "iopub.status.idle": "2024-04-15T19:00:48.643315Z",
     "shell.execute_reply": "2024-04-15T19:00:48.642766Z"
    },
    "pycharm": {
     "name": "#%%\n"
    }
   },
   "outputs": [
    {
     "data": {
      "text/html": [
       "<div>\n",
       "<style scoped>\n",
       "    .dataframe tbody tr th:only-of-type {\n",
       "        vertical-align: middle;\n",
       "    }\n",
       "\n",
       "    .dataframe tbody tr th {\n",
       "        vertical-align: top;\n",
       "    }\n",
       "\n",
       "    .dataframe thead th {\n",
       "        text-align: right;\n",
       "    }\n",
       "</style>\n",
       "<table border=\"1\" class=\"dataframe\">\n",
       "  <thead>\n",
       "    <tr style=\"text-align: right;\">\n",
       "      <th></th>\n",
       "      <th>feasible_e</th>\n",
       "      <th>feasible_f</th>\n",
       "      <th>feasible</th>\n",
       "    </tr>\n",
       "  </thead>\n",
       "  <tbody>\n",
       "    <tr>\n",
       "      <th>5</th>\n",
       "      <td>False</td>\n",
       "      <td>True</td>\n",
       "      <td>False</td>\n",
       "    </tr>\n",
       "    <tr>\n",
       "      <th>6</th>\n",
       "      <td>False</td>\n",
       "      <td>True</td>\n",
       "      <td>False</td>\n",
       "    </tr>\n",
       "    <tr>\n",
       "      <th>7</th>\n",
       "      <td>False</td>\n",
       "      <td>True</td>\n",
       "      <td>False</td>\n",
       "    </tr>\n",
       "    <tr>\n",
       "      <th>8</th>\n",
       "      <td>False</td>\n",
       "      <td>True</td>\n",
       "      <td>False</td>\n",
       "    </tr>\n",
       "    <tr>\n",
       "      <th>9</th>\n",
       "      <td>False</td>\n",
       "      <td>True</td>\n",
       "      <td>False</td>\n",
       "    </tr>\n",
       "    <tr>\n",
       "      <th>10</th>\n",
       "      <td>False</td>\n",
       "      <td>True</td>\n",
       "      <td>False</td>\n",
       "    </tr>\n",
       "    <tr>\n",
       "      <th>11</th>\n",
       "      <td>False</td>\n",
       "      <td>True</td>\n",
       "      <td>False</td>\n",
       "    </tr>\n",
       "    <tr>\n",
       "      <th>12</th>\n",
       "      <td>False</td>\n",
       "      <td>True</td>\n",
       "      <td>False</td>\n",
       "    </tr>\n",
       "    <tr>\n",
       "      <th>13</th>\n",
       "      <td>False</td>\n",
       "      <td>True</td>\n",
       "      <td>False</td>\n",
       "    </tr>\n",
       "    <tr>\n",
       "      <th>14</th>\n",
       "      <td>False</td>\n",
       "      <td>True</td>\n",
       "      <td>False</td>\n",
       "    </tr>\n",
       "  </tbody>\n",
       "</table>\n",
       "</div>"
      ],
      "text/plain": [
       "    feasible_e  feasible_f  feasible\n",
       "5        False        True     False\n",
       "6        False        True     False\n",
       "7        False        True     False\n",
       "8        False        True     False\n",
       "9        False        True     False\n",
       "10       False        True     False\n",
       "11       False        True     False\n",
       "12       False        True     False\n",
       "13       False        True     False\n",
       "14       False        True     False"
      ]
     },
     "execution_count": 15,
     "metadata": {},
     "output_type": "execute_result"
    }
   ],
   "source": [
    "vocs.feasibility_data(data)"
   ]
  },
  {
   "cell_type": "code",
   "execution_count": 16,
   "id": "c42dfa48",
   "metadata": {
    "ExecuteTime": {
     "end_time": "2023-10-27T16:46:04.703032900Z",
     "start_time": "2023-10-27T16:46:04.665088600Z"
    },
    "collapsed": false,
    "execution": {
     "iopub.execute_input": "2024-04-15T19:00:48.645430Z",
     "iopub.status.busy": "2024-04-15T19:00:48.645084Z",
     "iopub.status.idle": "2024-04-15T19:00:48.651324Z",
     "shell.execute_reply": "2024-04-15T19:00:48.650784Z"
    },
    "jupyter": {
     "outputs_hidden": false
    }
   },
   "outputs": [
    {
     "data": {
      "text/html": [
       "<div>\n",
       "<style scoped>\n",
       "    .dataframe tbody tr th:only-of-type {\n",
       "        vertical-align: middle;\n",
       "    }\n",
       "\n",
       "    .dataframe tbody tr th {\n",
       "        vertical-align: top;\n",
       "    }\n",
       "\n",
       "    .dataframe thead th {\n",
       "        text-align: right;\n",
       "    }\n",
       "</style>\n",
       "<table border=\"1\" class=\"dataframe\">\n",
       "  <thead>\n",
       "    <tr style=\"text-align: right;\">\n",
       "      <th></th>\n",
       "      <th>a</th>\n",
       "      <th>b</th>\n",
       "    </tr>\n",
       "  </thead>\n",
       "  <tbody>\n",
       "    <tr>\n",
       "      <th>5</th>\n",
       "      <td>0.561399</td>\n",
       "      <td>0.174698</td>\n",
       "    </tr>\n",
       "    <tr>\n",
       "      <th>6</th>\n",
       "      <td>0.174899</td>\n",
       "      <td>0.109519</td>\n",
       "    </tr>\n",
       "    <tr>\n",
       "      <th>7</th>\n",
       "      <td>0.952629</td>\n",
       "      <td>0.201978</td>\n",
       "    </tr>\n",
       "    <tr>\n",
       "      <th>8</th>\n",
       "      <td>0.612084</td>\n",
       "      <td>0.941918</td>\n",
       "    </tr>\n",
       "    <tr>\n",
       "      <th>9</th>\n",
       "      <td>0.158656</td>\n",
       "      <td>0.563255</td>\n",
       "    </tr>\n",
       "    <tr>\n",
       "      <th>10</th>\n",
       "      <td>0.298922</td>\n",
       "      <td>0.470174</td>\n",
       "    </tr>\n",
       "    <tr>\n",
       "      <th>11</th>\n",
       "      <td>0.196451</td>\n",
       "      <td>0.053657</td>\n",
       "    </tr>\n",
       "    <tr>\n",
       "      <th>12</th>\n",
       "      <td>0.711674</td>\n",
       "      <td>0.279947</td>\n",
       "    </tr>\n",
       "    <tr>\n",
       "      <th>13</th>\n",
       "      <td>0.773165</td>\n",
       "      <td>0.005444</td>\n",
       "    </tr>\n",
       "    <tr>\n",
       "      <th>14</th>\n",
       "      <td>0.282420</td>\n",
       "      <td>0.047366</td>\n",
       "    </tr>\n",
       "  </tbody>\n",
       "</table>\n",
       "</div>"
      ],
      "text/plain": [
       "           a         b\n",
       "5   0.561399  0.174698\n",
       "6   0.174899  0.109519\n",
       "7   0.952629  0.201978\n",
       "8   0.612084  0.941918\n",
       "9   0.158656  0.563255\n",
       "10  0.298922  0.470174\n",
       "11  0.196451  0.053657\n",
       "12  0.711674  0.279947\n",
       "13  0.773165  0.005444\n",
       "14  0.282420  0.047366"
      ]
     },
     "execution_count": 16,
     "metadata": {},
     "output_type": "execute_result"
    }
   ],
   "source": [
    "# normalize inputs to unit domain [0,1]\n",
    "normed_data = vocs.normalize_inputs(data)\n",
    "normed_data"
   ]
  },
  {
   "cell_type": "code",
   "execution_count": 17,
   "id": "7364e86b",
   "metadata": {
    "collapsed": false,
    "execution": {
     "iopub.execute_input": "2024-04-15T19:00:48.653417Z",
     "iopub.status.busy": "2024-04-15T19:00:48.653091Z",
     "iopub.status.idle": "2024-04-15T19:00:48.659187Z",
     "shell.execute_reply": "2024-04-15T19:00:48.658646Z"
    },
    "jupyter": {
     "outputs_hidden": false
    }
   },
   "outputs": [
    {
     "data": {
      "text/html": [
       "<div>\n",
       "<style scoped>\n",
       "    .dataframe tbody tr th:only-of-type {\n",
       "        vertical-align: middle;\n",
       "    }\n",
       "\n",
       "    .dataframe tbody tr th {\n",
       "        vertical-align: top;\n",
       "    }\n",
       "\n",
       "    .dataframe thead th {\n",
       "        text-align: right;\n",
       "    }\n",
       "</style>\n",
       "<table border=\"1\" class=\"dataframe\">\n",
       "  <thead>\n",
       "    <tr style=\"text-align: right;\">\n",
       "      <th></th>\n",
       "      <th>a</th>\n",
       "      <th>b</th>\n",
       "    </tr>\n",
       "  </thead>\n",
       "  <tbody>\n",
       "    <tr>\n",
       "      <th>5</th>\n",
       "      <td>561.399250</td>\n",
       "      <td>-0.650604</td>\n",
       "    </tr>\n",
       "    <tr>\n",
       "      <th>6</th>\n",
       "      <td>174.898536</td>\n",
       "      <td>-0.780962</td>\n",
       "    </tr>\n",
       "    <tr>\n",
       "      <th>7</th>\n",
       "      <td>952.628597</td>\n",
       "      <td>-0.596044</td>\n",
       "    </tr>\n",
       "    <tr>\n",
       "      <th>8</th>\n",
       "      <td>612.083956</td>\n",
       "      <td>0.883836</td>\n",
       "    </tr>\n",
       "    <tr>\n",
       "      <th>9</th>\n",
       "      <td>158.656050</td>\n",
       "      <td>0.126510</td>\n",
       "    </tr>\n",
       "    <tr>\n",
       "      <th>10</th>\n",
       "      <td>298.921815</td>\n",
       "      <td>-0.059651</td>\n",
       "    </tr>\n",
       "    <tr>\n",
       "      <th>11</th>\n",
       "      <td>196.451341</td>\n",
       "      <td>-0.892687</td>\n",
       "    </tr>\n",
       "    <tr>\n",
       "      <th>12</th>\n",
       "      <td>711.674172</td>\n",
       "      <td>-0.440107</td>\n",
       "    </tr>\n",
       "    <tr>\n",
       "      <th>13</th>\n",
       "      <td>773.164848</td>\n",
       "      <td>-0.989111</td>\n",
       "    </tr>\n",
       "    <tr>\n",
       "      <th>14</th>\n",
       "      <td>282.420439</td>\n",
       "      <td>-0.905269</td>\n",
       "    </tr>\n",
       "  </tbody>\n",
       "</table>\n",
       "</div>"
      ],
      "text/plain": [
       "             a         b\n",
       "5   561.399250 -0.650604\n",
       "6   174.898536 -0.780962\n",
       "7   952.628597 -0.596044\n",
       "8   612.083956  0.883836\n",
       "9   158.656050  0.126510\n",
       "10  298.921815 -0.059651\n",
       "11  196.451341 -0.892687\n",
       "12  711.674172 -0.440107\n",
       "13  773.164848 -0.989111\n",
       "14  282.420439 -0.905269"
      ]
     },
     "execution_count": 17,
     "metadata": {},
     "output_type": "execute_result"
    }
   ],
   "source": [
    "# and denormalize\n",
    "vocs.denormalize_inputs(normed_data)"
   ]
  },
  {
   "cell_type": "markdown",
   "id": "59041be7",
   "metadata": {},
   "source": [
    "# Error handling"
   ]
  },
  {
   "cell_type": "code",
   "execution_count": 18,
   "id": "f9171ede",
   "metadata": {
    "ExecuteTime": {
     "end_time": "2023-10-27T16:46:04.719064600Z",
     "start_time": "2023-10-27T16:46:04.668031Z"
    },
    "execution": {
     "iopub.execute_input": "2024-04-15T19:00:48.661372Z",
     "iopub.status.busy": "2024-04-15T19:00:48.661043Z",
     "iopub.status.idle": "2024-04-15T19:00:48.665332Z",
     "shell.execute_reply": "2024-04-15T19:00:48.664780Z"
    }
   },
   "outputs": [],
   "source": [
    "Y = \"\"\"\n",
    "variables:\n",
    "  a: [0, 1e3] # Note that 1e3 usually parses as a str with YAML. \n",
    "  b: [-1, 1]\n",
    "objectives:\n",
    "  c: maximize\n",
    "  d: minimize \n",
    "constraints:\n",
    "  e: ['Less_than', 2]\n",
    "  f: ['greater_than', 0]\n",
    "constants:\n",
    "  g: 1234\n",
    "\n",
    "\"\"\"\n",
    "\n",
    "vocs = VOCS.from_yaml(Y)"
   ]
  },
  {
   "cell_type": "code",
   "execution_count": 19,
   "id": "b5513539",
   "metadata": {
    "ExecuteTime": {
     "end_time": "2023-10-27T16:46:04.763060700Z",
     "start_time": "2023-10-27T16:46:04.686996500Z"
    },
    "execution": {
     "iopub.execute_input": "2024-04-15T19:00:48.667542Z",
     "iopub.status.busy": "2024-04-15T19:00:48.667119Z",
     "iopub.status.idle": "2024-04-15T19:00:48.672584Z",
     "shell.execute_reply": "2024-04-15T19:00:48.672028Z"
    }
   },
   "outputs": [
    {
     "data": {
      "text/plain": [
       "0   NaN\n",
       "1   NaN\n",
       "2   NaN\n",
       "Name: b, dtype: float64"
      ]
     },
     "execution_count": 19,
     "metadata": {},
     "output_type": "execute_result"
    }
   ],
   "source": [
    "d = {'a': [1,2,3]}\n",
    "\n",
    "df = pd.DataFrame(d)\n",
    "df2 = pd.DataFrame(df).copy()\n",
    "\n",
    "df2['b'] = np.nan\n",
    "df2['b'] - 1"
   ]
  },
  {
   "cell_type": "code",
   "execution_count": 20,
   "id": "30f3b3b4",
   "metadata": {
    "ExecuteTime": {
     "end_time": "2023-10-27T16:46:04.800032400Z",
     "start_time": "2023-10-27T16:46:04.698034700Z"
    },
    "execution": {
     "iopub.execute_input": "2024-04-15T19:00:48.674771Z",
     "iopub.status.busy": "2024-04-15T19:00:48.674442Z",
     "iopub.status.idle": "2024-04-15T19:00:48.677328Z",
     "shell.execute_reply": "2024-04-15T19:00:48.676766Z"
    }
   },
   "outputs": [],
   "source": [
    "data['a']  = np.nan"
   ]
  },
  {
   "cell_type": "code",
   "execution_count": 21,
   "id": "6393376b",
   "metadata": {
    "ExecuteTime": {
     "end_time": "2023-10-27T16:46:04.877099700Z",
     "start_time": "2023-10-27T16:46:04.715062Z"
    },
    "execution": {
     "iopub.execute_input": "2024-04-15T19:00:48.679575Z",
     "iopub.status.busy": "2024-04-15T19:00:48.679149Z",
     "iopub.status.idle": "2024-04-15T19:00:48.683167Z",
     "shell.execute_reply": "2024-04-15T19:00:48.682623Z"
    }
   },
   "outputs": [
    {
     "data": {
      "text/plain": [
       "2"
      ]
     },
     "execution_count": 21,
     "metadata": {},
     "output_type": "execute_result"
    }
   ],
   "source": [
    "a = 2\n",
    "def f(x=a):\n",
    "    return x\n",
    "a=99\n",
    "f()"
   ]
  },
  {
   "cell_type": "code",
   "execution_count": 22,
   "id": "cb0ecd74",
   "metadata": {
    "ExecuteTime": {
     "end_time": "2023-10-27T16:46:04.880100300Z",
     "start_time": "2023-10-27T16:46:04.728063600Z"
    },
    "execution": {
     "iopub.execute_input": "2024-04-15T19:00:48.685170Z",
     "iopub.status.busy": "2024-04-15T19:00:48.684984Z",
     "iopub.status.idle": "2024-04-15T19:00:48.690932Z",
     "shell.execute_reply": "2024-04-15T19:00:48.690379Z"
    }
   },
   "outputs": [
    {
     "data": {
      "text/html": [
       "<div>\n",
       "<style scoped>\n",
       "    .dataframe tbody tr th:only-of-type {\n",
       "        vertical-align: middle;\n",
       "    }\n",
       "\n",
       "    .dataframe tbody tr th {\n",
       "        vertical-align: top;\n",
       "    }\n",
       "\n",
       "    .dataframe thead th {\n",
       "        text-align: right;\n",
       "    }\n",
       "</style>\n",
       "<table border=\"1\" class=\"dataframe\">\n",
       "  <thead>\n",
       "    <tr style=\"text-align: right;\">\n",
       "      <th></th>\n",
       "      <th>A</th>\n",
       "    </tr>\n",
       "  </thead>\n",
       "  <tbody>\n",
       "    <tr>\n",
       "      <th>1</th>\n",
       "      <td>6.000000e+66</td>\n",
       "    </tr>\n",
       "    <tr>\n",
       "      <th>2</th>\n",
       "      <td>6.000000e+66</td>\n",
       "    </tr>\n",
       "    <tr>\n",
       "      <th>3</th>\n",
       "      <td>6.000000e+66</td>\n",
       "    </tr>\n",
       "  </tbody>\n",
       "</table>\n",
       "</div>"
      ],
      "text/plain": [
       "              A\n",
       "1  6.000000e+66\n",
       "2  6.000000e+66\n",
       "3  6.000000e+66"
      ]
     },
     "execution_count": 22,
     "metadata": {},
     "output_type": "execute_result"
    }
   ],
   "source": [
    "pd.DataFrame(6e66, index=[1,2,3], columns=['A'])"
   ]
  },
  {
   "cell_type": "code",
   "execution_count": 23,
   "id": "88bb8253",
   "metadata": {
    "ExecuteTime": {
     "end_time": "2023-10-27T16:46:04.896129200Z",
     "start_time": "2023-10-27T16:46:04.744036400Z"
    },
    "execution": {
     "iopub.execute_input": "2024-04-15T19:00:48.693229Z",
     "iopub.status.busy": "2024-04-15T19:00:48.692901Z",
     "iopub.status.idle": "2024-04-15T19:00:48.699995Z",
     "shell.execute_reply": "2024-04-15T19:00:48.699446Z"
    }
   },
   "outputs": [
    {
     "data": {
      "text/html": [
       "<div>\n",
       "<style scoped>\n",
       "    .dataframe tbody tr th:only-of-type {\n",
       "        vertical-align: middle;\n",
       "    }\n",
       "\n",
       "    .dataframe tbody tr th {\n",
       "        vertical-align: top;\n",
       "    }\n",
       "\n",
       "    .dataframe thead th {\n",
       "        text-align: right;\n",
       "    }\n",
       "</style>\n",
       "<table border=\"1\" class=\"dataframe\">\n",
       "  <thead>\n",
       "    <tr style=\"text-align: right;\">\n",
       "      <th></th>\n",
       "      <th>objective_c</th>\n",
       "      <th>objective_d</th>\n",
       "    </tr>\n",
       "  </thead>\n",
       "  <tbody>\n",
       "    <tr>\n",
       "      <th>9</th>\n",
       "      <td>-1.0</td>\n",
       "      <td>inf</td>\n",
       "    </tr>\n",
       "    <tr>\n",
       "      <th>3</th>\n",
       "      <td>-2.0</td>\n",
       "      <td>inf</td>\n",
       "    </tr>\n",
       "    <tr>\n",
       "      <th>4</th>\n",
       "      <td>-3.0</td>\n",
       "      <td>inf</td>\n",
       "    </tr>\n",
       "    <tr>\n",
       "      <th>5</th>\n",
       "      <td>-4.0</td>\n",
       "      <td>inf</td>\n",
       "    </tr>\n",
       "  </tbody>\n",
       "</table>\n",
       "</div>"
      ],
      "text/plain": [
       "   objective_c  objective_d\n",
       "9         -1.0          inf\n",
       "3         -2.0          inf\n",
       "4         -3.0          inf\n",
       "5         -4.0          inf"
      ]
     },
     "execution_count": 23,
     "metadata": {},
     "output_type": "execute_result"
    }
   ],
   "source": [
    "# These are in standard form for minimization\n",
    "\n",
    "data = pd.DataFrame({'c':[1,2,3,4]}, index=[9,3,4,5])\n",
    "\n",
    "form_objective_data(vocs.objectives, data)"
   ]
  }
 ],
 "metadata": {
  "interpreter": {
   "hash": "60703f99bc9a1e465ed9e894ac1e8f256837fa55699b4912a7939def4ae95691"
  },
  "kernelspec": {
   "display_name": "Python 3 (ipykernel)",
   "language": "python",
   "name": "python3"
  },
  "language_info": {
   "codemirror_mode": {
    "name": "ipython",
    "version": 3
   },
   "file_extension": ".py",
   "mimetype": "text/x-python",
   "name": "python",
   "nbconvert_exporter": "python",
   "pygments_lexer": "ipython3",
   "version": "3.9.19"
  }
 },
 "nbformat": 4,
 "nbformat_minor": 5
}
