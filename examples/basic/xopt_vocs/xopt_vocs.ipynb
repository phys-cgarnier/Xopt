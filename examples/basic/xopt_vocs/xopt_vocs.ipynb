{
 "cells": [
  {
   "cell_type": "markdown",
   "id": "9700f595",
   "metadata": {
    "pycharm": {
     "name": "#%% md\n"
    }
   },
   "source": [
    "# VOCS data structure \n",
    "\n",
    "Variables, Objectives, Constraints, and other Settings (VOCS) helps define our optimization problems. "
   ]
  },
  {
   "cell_type": "code",
   "execution_count": 1,
   "id": "32324ac0-b299-42ee-a6b9-e112dfaa5a45",
   "metadata": {
    "execution": {
     "iopub.execute_input": "2023-10-18T23:30:21.513602Z",
     "iopub.status.busy": "2023-10-18T23:30:21.513383Z",
     "iopub.status.idle": "2023-10-18T23:30:23.785008Z",
     "shell.execute_reply": "2023-10-18T23:30:23.784333Z"
    },
    "pycharm": {
     "name": "#%%\n"
    }
   },
   "outputs": [],
   "source": [
    "from xopt.vocs import VOCS"
   ]
  },
  {
   "cell_type": "code",
   "execution_count": 2,
   "id": "31a15253-14cd-4547-ab01-09f4b56f5bf5",
   "metadata": {
    "execution": {
     "iopub.execute_input": "2023-10-18T23:30:23.788443Z",
     "iopub.status.busy": "2023-10-18T23:30:23.787821Z",
     "iopub.status.idle": "2023-10-18T23:30:23.799646Z",
     "shell.execute_reply": "2023-10-18T23:30:23.798776Z"
    },
    "pycharm": {
     "name": "#%%\n"
    }
   },
   "outputs": [
    {
     "data": {
      "text/plain": [
       "VOCS(variables={'a': [0.0, 1000.0], 'b': [-1.0, 1.0]}, constraints={'e': ['LESS_THAN', 2.0], 'f': ['GREATER_THAN', 0.0]}, objectives={'c': 'MAXIMIZE', 'd': 'MINIMIZE'}, constants={'g': 1234}, observables=[])"
      ]
     },
     "execution_count": 2,
     "metadata": {},
     "output_type": "execute_result"
    }
   ],
   "source": [
    "Y = \"\"\"\n",
    "variables:\n",
    "  a: [0, 1e3] # Note that 1e3 usually parses as a str with YAML. \n",
    "  b: [-1, 1]\n",
    "objectives:\n",
    "  c: maximize\n",
    "  d: minimize \n",
    "constraints:\n",
    "  e: ['Less_than', 2]\n",
    "  f: ['greater_than', 0]\n",
    "constants:\n",
    "  g: 1234\n",
    "\n",
    "\"\"\"\n",
    "\n",
    "vocs = VOCS.from_yaml(Y)\n",
    "vocs"
   ]
  },
  {
   "cell_type": "code",
   "execution_count": 3,
   "id": "304bcc89",
   "metadata": {
    "execution": {
     "iopub.execute_input": "2023-10-18T23:30:23.802462Z",
     "iopub.status.busy": "2023-10-18T23:30:23.801921Z",
     "iopub.status.idle": "2023-10-18T23:30:23.807718Z",
     "shell.execute_reply": "2023-10-18T23:30:23.807174Z"
    },
    "pycharm": {
     "name": "#%%\n"
    }
   },
   "outputs": [
    {
     "data": {
      "text/plain": [
       "{'variables': {'a': [0.0, 1000.0], 'b': [-1.0, 1.0]},\n",
       " 'constraints': {'e': ['LESS_THAN', 2.0], 'f': ['GREATER_THAN', 0.0]},\n",
       " 'objectives': {'c': 'MAXIMIZE', 'd': 'MINIMIZE'},\n",
       " 'constants': {'g': 1234},\n",
       " 'observables': []}"
      ]
     },
     "execution_count": 3,
     "metadata": {},
     "output_type": "execute_result"
    }
   ],
   "source": [
    "# as dict\n",
    "dict(vocs)"
   ]
  },
  {
   "cell_type": "code",
   "execution_count": 4,
   "id": "b236bfb4",
   "metadata": {
    "execution": {
     "iopub.execute_input": "2023-10-18T23:30:23.810470Z",
     "iopub.status.busy": "2023-10-18T23:30:23.809935Z",
     "iopub.status.idle": "2023-10-18T23:30:23.814040Z",
     "shell.execute_reply": "2023-10-18T23:30:23.813511Z"
    },
    "pycharm": {
     "name": "#%%\n"
    }
   },
   "outputs": [],
   "source": [
    "#  re-parse dict\n",
    "vocs2 = VOCS.from_dict(dict(vocs))"
   ]
  },
  {
   "cell_type": "code",
   "execution_count": 5,
   "id": "76c9a173",
   "metadata": {
    "execution": {
     "iopub.execute_input": "2023-10-18T23:30:23.816699Z",
     "iopub.status.busy": "2023-10-18T23:30:23.816284Z",
     "iopub.status.idle": "2023-10-18T23:30:23.820521Z",
     "shell.execute_reply": "2023-10-18T23:30:23.819923Z"
    },
    "pycharm": {
     "name": "#%%\n"
    }
   },
   "outputs": [
    {
     "data": {
      "text/plain": [
       "True"
      ]
     },
     "execution_count": 5,
     "metadata": {},
     "output_type": "execute_result"
    }
   ],
   "source": [
    "# Check that these are the same\n",
    "vocs2 == vocs"
   ]
  },
  {
   "cell_type": "code",
   "execution_count": 6,
   "id": "6a846f4d",
   "metadata": {
    "execution": {
     "iopub.execute_input": "2023-10-18T23:30:23.823276Z",
     "iopub.status.busy": "2023-10-18T23:30:23.822764Z",
     "iopub.status.idle": "2023-10-18T23:30:23.828572Z",
     "shell.execute_reply": "2023-10-18T23:30:23.828031Z"
    },
    "pycharm": {
     "name": "#%%\n"
    }
   },
   "outputs": [
    {
     "data": {
      "text/plain": [
       "{'a': [0.0, 1000.0], 'b': [-1.0, 1.0]}"
      ]
     },
     "execution_count": 6,
     "metadata": {},
     "output_type": "execute_result"
    }
   ],
   "source": [
    "# This replaces the old vocs[\"variables\"]\n",
    "getattr(vocs, \"variables\")"
   ]
  },
  {
   "cell_type": "code",
   "execution_count": 7,
   "id": "6fa2afc8",
   "metadata": {
    "execution": {
     "iopub.execute_input": "2023-10-18T23:30:23.831353Z",
     "iopub.status.busy": "2023-10-18T23:30:23.830827Z",
     "iopub.status.idle": "2023-10-18T23:30:23.835993Z",
     "shell.execute_reply": "2023-10-18T23:30:23.835403Z"
    },
    "pycharm": {
     "name": "#%%\n"
    }
   },
   "outputs": [
    {
     "data": {
      "text/plain": [
       "True"
      ]
     },
     "execution_count": 7,
     "metadata": {},
     "output_type": "execute_result"
    }
   ],
   "source": [
    "vocs.objectives[\"c\"] == 'MAXIMIZE'"
   ]
  },
  {
   "cell_type": "code",
   "execution_count": 8,
   "id": "713272b7",
   "metadata": {
    "execution": {
     "iopub.execute_input": "2023-10-18T23:30:23.838722Z",
     "iopub.status.busy": "2023-10-18T23:30:23.838177Z",
     "iopub.status.idle": "2023-10-18T23:30:23.844182Z",
     "shell.execute_reply": "2023-10-18T23:30:23.843141Z"
    },
    "pycharm": {
     "name": "#%%\n"
    }
   },
   "outputs": [
    {
     "data": {
      "text/plain": [
       "'{\"variables\":{\"a\":[0.0,1000.0],\"b\":[-1.0,1.0]},\"constraints\":{\"e\":[\"LESS_THAN\",2.0],\"f\":[\"GREATER_THAN\",0.0]},\"objectives\":{\"c\":\"MAXIMIZE\",\"d\":\"MINIMIZE\"},\"constants\":{\"g\":1234},\"observables\":[]}'"
      ]
     },
     "execution_count": 8,
     "metadata": {},
     "output_type": "execute_result"
    }
   ],
   "source": [
    "# json\n",
    "vocs.to_json()"
   ]
  },
  {
   "cell_type": "markdown",
   "id": "11167a85",
   "metadata": {
    "pycharm": {
     "name": "#%% md\n"
    }
   },
   "source": [
    "# Objective Evaluation"
   ]
  },
  {
   "cell_type": "code",
   "execution_count": 9,
   "id": "c4d150be",
   "metadata": {
    "execution": {
     "iopub.execute_input": "2023-10-18T23:30:23.847077Z",
     "iopub.status.busy": "2023-10-18T23:30:23.846518Z",
     "iopub.status.idle": "2023-10-18T23:30:23.863495Z",
     "shell.execute_reply": "2023-10-18T23:30:23.862968Z"
    },
    "pycharm": {
     "name": "#%%\n"
    }
   },
   "outputs": [
    {
     "data": {
      "text/html": [
       "<div>\n",
       "<style scoped>\n",
       "    .dataframe tbody tr th:only-of-type {\n",
       "        vertical-align: middle;\n",
       "    }\n",
       "\n",
       "    .dataframe tbody tr th {\n",
       "        vertical-align: top;\n",
       "    }\n",
       "\n",
       "    .dataframe thead th {\n",
       "        text-align: right;\n",
       "    }\n",
       "</style>\n",
       "<table border=\"1\" class=\"dataframe\">\n",
       "  <thead>\n",
       "    <tr style=\"text-align: right;\">\n",
       "      <th></th>\n",
       "      <th>a</th>\n",
       "      <th>b</th>\n",
       "      <th>g</th>\n",
       "      <th>c</th>\n",
       "      <th>d</th>\n",
       "      <th>e</th>\n",
       "      <th>f</th>\n",
       "    </tr>\n",
       "  </thead>\n",
       "  <tbody>\n",
       "    <tr>\n",
       "      <th>5</th>\n",
       "      <td>972.938987</td>\n",
       "      <td>0.209500</td>\n",
       "      <td>1234</td>\n",
       "      <td>973.148488</td>\n",
       "      <td>972.729487</td>\n",
       "      <td>1946.296975</td>\n",
       "      <td>1945.458974</td>\n",
       "    </tr>\n",
       "    <tr>\n",
       "      <th>6</th>\n",
       "      <td>641.811107</td>\n",
       "      <td>0.364714</td>\n",
       "      <td>1234</td>\n",
       "      <td>642.175821</td>\n",
       "      <td>641.446393</td>\n",
       "      <td>1284.351642</td>\n",
       "      <td>1282.892786</td>\n",
       "    </tr>\n",
       "    <tr>\n",
       "      <th>7</th>\n",
       "      <td>516.145170</td>\n",
       "      <td>-0.763685</td>\n",
       "      <td>1234</td>\n",
       "      <td>515.381486</td>\n",
       "      <td>516.908855</td>\n",
       "      <td>1030.762971</td>\n",
       "      <td>1033.817709</td>\n",
       "    </tr>\n",
       "    <tr>\n",
       "      <th>8</th>\n",
       "      <td>474.276310</td>\n",
       "      <td>0.331875</td>\n",
       "      <td>1234</td>\n",
       "      <td>474.608185</td>\n",
       "      <td>473.944434</td>\n",
       "      <td>949.216370</td>\n",
       "      <td>947.888869</td>\n",
       "    </tr>\n",
       "    <tr>\n",
       "      <th>9</th>\n",
       "      <td>582.850520</td>\n",
       "      <td>0.835577</td>\n",
       "      <td>1234</td>\n",
       "      <td>583.686097</td>\n",
       "      <td>582.014943</td>\n",
       "      <td>1167.372195</td>\n",
       "      <td>1164.029886</td>\n",
       "    </tr>\n",
       "    <tr>\n",
       "      <th>10</th>\n",
       "      <td>162.058104</td>\n",
       "      <td>-0.787759</td>\n",
       "      <td>1234</td>\n",
       "      <td>161.270344</td>\n",
       "      <td>162.845863</td>\n",
       "      <td>322.540689</td>\n",
       "      <td>325.691727</td>\n",
       "    </tr>\n",
       "    <tr>\n",
       "      <th>11</th>\n",
       "      <td>353.151974</td>\n",
       "      <td>0.265310</td>\n",
       "      <td>1234</td>\n",
       "      <td>353.417284</td>\n",
       "      <td>352.886664</td>\n",
       "      <td>706.834567</td>\n",
       "      <td>705.773327</td>\n",
       "    </tr>\n",
       "    <tr>\n",
       "      <th>12</th>\n",
       "      <td>503.446974</td>\n",
       "      <td>0.069297</td>\n",
       "      <td>1234</td>\n",
       "      <td>503.516272</td>\n",
       "      <td>503.377677</td>\n",
       "      <td>1007.032543</td>\n",
       "      <td>1006.755353</td>\n",
       "    </tr>\n",
       "    <tr>\n",
       "      <th>13</th>\n",
       "      <td>838.874276</td>\n",
       "      <td>0.934608</td>\n",
       "      <td>1234</td>\n",
       "      <td>839.808883</td>\n",
       "      <td>837.939668</td>\n",
       "      <td>1679.617767</td>\n",
       "      <td>1675.879336</td>\n",
       "    </tr>\n",
       "    <tr>\n",
       "      <th>14</th>\n",
       "      <td>284.951188</td>\n",
       "      <td>-0.850740</td>\n",
       "      <td>1234</td>\n",
       "      <td>284.100448</td>\n",
       "      <td>285.801929</td>\n",
       "      <td>568.200897</td>\n",
       "      <td>571.603857</td>\n",
       "    </tr>\n",
       "  </tbody>\n",
       "</table>\n",
       "</div>"
      ],
      "text/plain": [
       "             a         b     g           c           d            e  \\\n",
       "5   972.938987  0.209500  1234  973.148488  972.729487  1946.296975   \n",
       "6   641.811107  0.364714  1234  642.175821  641.446393  1284.351642   \n",
       "7   516.145170 -0.763685  1234  515.381486  516.908855  1030.762971   \n",
       "8   474.276310  0.331875  1234  474.608185  473.944434   949.216370   \n",
       "9   582.850520  0.835577  1234  583.686097  582.014943  1167.372195   \n",
       "10  162.058104 -0.787759  1234  161.270344  162.845863   322.540689   \n",
       "11  353.151974  0.265310  1234  353.417284  352.886664   706.834567   \n",
       "12  503.446974  0.069297  1234  503.516272  503.377677  1007.032543   \n",
       "13  838.874276  0.934608  1234  839.808883  837.939668  1679.617767   \n",
       "14  284.951188 -0.850740  1234  284.100448  285.801929   568.200897   \n",
       "\n",
       "              f  \n",
       "5   1945.458974  \n",
       "6   1282.892786  \n",
       "7   1033.817709  \n",
       "8    947.888869  \n",
       "9   1164.029886  \n",
       "10   325.691727  \n",
       "11   705.773327  \n",
       "12  1006.755353  \n",
       "13  1675.879336  \n",
       "14   571.603857  "
      ]
     },
     "execution_count": 9,
     "metadata": {},
     "output_type": "execute_result"
    }
   ],
   "source": [
    "from xopt.vocs import form_objective_data, form_constraint_data, form_feasibility_data\n",
    "import pandas as pd\n",
    "import numpy as np\n",
    "\n",
    "data = pd.DataFrame(vocs.random_inputs(10))\n",
    "# Add some outputs\n",
    "data[\"c\"] = data[\"a\"] + data[\"b\"]\n",
    "data[\"d\"] = data[\"a\"] - data[\"b\"]\n",
    "data[\"e\"] = data[\"a\"] * 2 + data[\"b\"] * 2\n",
    "data[\"f\"] = data[\"a\"] * 2 - data[\"b\"] * 2\n",
    "data.index = np.arange(len(data)) + 5  # custom index\n",
    "data"
   ]
  },
  {
   "cell_type": "code",
   "execution_count": 10,
   "id": "a695dc98",
   "metadata": {
    "execution": {
     "iopub.execute_input": "2023-10-18T23:30:23.866241Z",
     "iopub.status.busy": "2023-10-18T23:30:23.865769Z",
     "iopub.status.idle": "2023-10-18T23:30:23.871578Z",
     "shell.execute_reply": "2023-10-18T23:30:23.871037Z"
    },
    "pycharm": {
     "name": "#%%\n"
    }
   },
   "outputs": [
    {
     "data": {
      "text/plain": [
       "{'c': 'MAXIMIZE', 'd': 'MINIMIZE'}"
      ]
     },
     "execution_count": 10,
     "metadata": {},
     "output_type": "execute_result"
    }
   ],
   "source": [
    "vocs.objectives"
   ]
  },
  {
   "cell_type": "code",
   "execution_count": 11,
   "id": "43051b71",
   "metadata": {
    "execution": {
     "iopub.execute_input": "2023-10-18T23:30:23.874308Z",
     "iopub.status.busy": "2023-10-18T23:30:23.873797Z",
     "iopub.status.idle": "2023-10-18T23:30:23.883376Z",
     "shell.execute_reply": "2023-10-18T23:30:23.882841Z"
    },
    "pycharm": {
     "name": "#%%\n"
    }
   },
   "outputs": [
    {
     "data": {
      "text/html": [
       "<div>\n",
       "<style scoped>\n",
       "    .dataframe tbody tr th:only-of-type {\n",
       "        vertical-align: middle;\n",
       "    }\n",
       "\n",
       "    .dataframe tbody tr th {\n",
       "        vertical-align: top;\n",
       "    }\n",
       "\n",
       "    .dataframe thead th {\n",
       "        text-align: right;\n",
       "    }\n",
       "</style>\n",
       "<table border=\"1\" class=\"dataframe\">\n",
       "  <thead>\n",
       "    <tr style=\"text-align: right;\">\n",
       "      <th></th>\n",
       "      <th>objective_c</th>\n",
       "      <th>objective_d</th>\n",
       "    </tr>\n",
       "  </thead>\n",
       "  <tbody>\n",
       "    <tr>\n",
       "      <th>5</th>\n",
       "      <td>-973.148488</td>\n",
       "      <td>972.729487</td>\n",
       "    </tr>\n",
       "    <tr>\n",
       "      <th>6</th>\n",
       "      <td>-642.175821</td>\n",
       "      <td>641.446393</td>\n",
       "    </tr>\n",
       "    <tr>\n",
       "      <th>7</th>\n",
       "      <td>-515.381486</td>\n",
       "      <td>516.908855</td>\n",
       "    </tr>\n",
       "    <tr>\n",
       "      <th>8</th>\n",
       "      <td>-474.608185</td>\n",
       "      <td>473.944434</td>\n",
       "    </tr>\n",
       "    <tr>\n",
       "      <th>9</th>\n",
       "      <td>-583.686097</td>\n",
       "      <td>582.014943</td>\n",
       "    </tr>\n",
       "    <tr>\n",
       "      <th>10</th>\n",
       "      <td>-161.270344</td>\n",
       "      <td>162.845863</td>\n",
       "    </tr>\n",
       "    <tr>\n",
       "      <th>11</th>\n",
       "      <td>-353.417284</td>\n",
       "      <td>352.886664</td>\n",
       "    </tr>\n",
       "    <tr>\n",
       "      <th>12</th>\n",
       "      <td>-503.516272</td>\n",
       "      <td>503.377677</td>\n",
       "    </tr>\n",
       "    <tr>\n",
       "      <th>13</th>\n",
       "      <td>-839.808883</td>\n",
       "      <td>837.939668</td>\n",
       "    </tr>\n",
       "    <tr>\n",
       "      <th>14</th>\n",
       "      <td>-284.100448</td>\n",
       "      <td>285.801929</td>\n",
       "    </tr>\n",
       "  </tbody>\n",
       "</table>\n",
       "</div>"
      ],
      "text/plain": [
       "    objective_c  objective_d\n",
       "5   -973.148488   972.729487\n",
       "6   -642.175821   641.446393\n",
       "7   -515.381486   516.908855\n",
       "8   -474.608185   473.944434\n",
       "9   -583.686097   582.014943\n",
       "10  -161.270344   162.845863\n",
       "11  -353.417284   352.886664\n",
       "12  -503.516272   503.377677\n",
       "13  -839.808883   837.939668\n",
       "14  -284.100448   285.801929"
      ]
     },
     "execution_count": 11,
     "metadata": {},
     "output_type": "execute_result"
    }
   ],
   "source": [
    "# These are in standard form for minimization\n",
    "form_objective_data(vocs.objectives, data)"
   ]
  },
  {
   "cell_type": "code",
   "execution_count": 12,
   "id": "2ed50815",
   "metadata": {
    "execution": {
     "iopub.execute_input": "2023-10-18T23:30:23.885969Z",
     "iopub.status.busy": "2023-10-18T23:30:23.885762Z",
     "iopub.status.idle": "2023-10-18T23:30:23.895228Z",
     "shell.execute_reply": "2023-10-18T23:30:23.894708Z"
    },
    "pycharm": {
     "name": "#%%\n"
    }
   },
   "outputs": [
    {
     "data": {
      "text/html": [
       "<div>\n",
       "<style scoped>\n",
       "    .dataframe tbody tr th:only-of-type {\n",
       "        vertical-align: middle;\n",
       "    }\n",
       "\n",
       "    .dataframe tbody tr th {\n",
       "        vertical-align: top;\n",
       "    }\n",
       "\n",
       "    .dataframe thead th {\n",
       "        text-align: right;\n",
       "    }\n",
       "</style>\n",
       "<table border=\"1\" class=\"dataframe\">\n",
       "  <thead>\n",
       "    <tr style=\"text-align: right;\">\n",
       "      <th></th>\n",
       "      <th>objective_c</th>\n",
       "      <th>objective_d</th>\n",
       "    </tr>\n",
       "  </thead>\n",
       "  <tbody>\n",
       "    <tr>\n",
       "      <th>5</th>\n",
       "      <td>-973.148488</td>\n",
       "      <td>972.729487</td>\n",
       "    </tr>\n",
       "    <tr>\n",
       "      <th>6</th>\n",
       "      <td>-642.175821</td>\n",
       "      <td>641.446393</td>\n",
       "    </tr>\n",
       "    <tr>\n",
       "      <th>7</th>\n",
       "      <td>-515.381486</td>\n",
       "      <td>516.908855</td>\n",
       "    </tr>\n",
       "    <tr>\n",
       "      <th>8</th>\n",
       "      <td>-474.608185</td>\n",
       "      <td>473.944434</td>\n",
       "    </tr>\n",
       "    <tr>\n",
       "      <th>9</th>\n",
       "      <td>-583.686097</td>\n",
       "      <td>582.014943</td>\n",
       "    </tr>\n",
       "    <tr>\n",
       "      <th>10</th>\n",
       "      <td>-161.270344</td>\n",
       "      <td>162.845863</td>\n",
       "    </tr>\n",
       "    <tr>\n",
       "      <th>11</th>\n",
       "      <td>-353.417284</td>\n",
       "      <td>352.886664</td>\n",
       "    </tr>\n",
       "    <tr>\n",
       "      <th>12</th>\n",
       "      <td>-503.516272</td>\n",
       "      <td>503.377677</td>\n",
       "    </tr>\n",
       "    <tr>\n",
       "      <th>13</th>\n",
       "      <td>-839.808883</td>\n",
       "      <td>837.939668</td>\n",
       "    </tr>\n",
       "    <tr>\n",
       "      <th>14</th>\n",
       "      <td>-284.100448</td>\n",
       "      <td>285.801929</td>\n",
       "    </tr>\n",
       "  </tbody>\n",
       "</table>\n",
       "</div>"
      ],
      "text/plain": [
       "    objective_c  objective_d\n",
       "5   -973.148488   972.729487\n",
       "6   -642.175821   641.446393\n",
       "7   -515.381486   516.908855\n",
       "8   -474.608185   473.944434\n",
       "9   -583.686097   582.014943\n",
       "10  -161.270344   162.845863\n",
       "11  -353.417284   352.886664\n",
       "12  -503.516272   503.377677\n",
       "13  -839.808883   837.939668\n",
       "14  -284.100448   285.801929"
      ]
     },
     "execution_count": 12,
     "metadata": {},
     "output_type": "execute_result"
    }
   ],
   "source": [
    "# This is also available as a method\n",
    "vocs.objective_data(data)"
   ]
  },
  {
   "cell_type": "code",
   "execution_count": 13,
   "id": "9f4275d4",
   "metadata": {
    "execution": {
     "iopub.execute_input": "2023-10-18T23:30:23.897857Z",
     "iopub.status.busy": "2023-10-18T23:30:23.897440Z",
     "iopub.status.idle": "2023-10-18T23:30:23.904793Z",
     "shell.execute_reply": "2023-10-18T23:30:23.904277Z"
    },
    "pycharm": {
     "name": "#%%\n"
    }
   },
   "outputs": [
    {
     "data": {
      "text/plain": [
       "array([[-973.1484875 ,  972.72948691],\n",
       "       [-642.17582103,  641.44639283],\n",
       "       [-515.38148555,  516.9088546 ],\n",
       "       [-474.60818486,  473.94443441],\n",
       "       [-583.6860973 ,  582.01494324],\n",
       "       [-161.27034432,  162.8458633 ],\n",
       "       [-353.41728366,  352.88666369],\n",
       "       [-503.51627153,  503.37767668],\n",
       "       [-839.80888342,  837.93966812],\n",
       "       [-284.10044843,  285.8019285 ]])"
      ]
     },
     "execution_count": 13,
     "metadata": {},
     "output_type": "execute_result"
    }
   ],
   "source": [
    "# use the to_numpy() method to convert for low level use.\n",
    "vocs.objective_data(data).to_numpy()"
   ]
  },
  {
   "cell_type": "code",
   "execution_count": 14,
   "id": "29b73df4",
   "metadata": {
    "execution": {
     "iopub.execute_input": "2023-10-18T23:30:23.907572Z",
     "iopub.status.busy": "2023-10-18T23:30:23.907135Z",
     "iopub.status.idle": "2023-10-18T23:30:23.915952Z",
     "shell.execute_reply": "2023-10-18T23:30:23.915361Z"
    },
    "pycharm": {
     "name": "#%%\n"
    }
   },
   "outputs": [
    {
     "data": {
      "text/html": [
       "<div>\n",
       "<style scoped>\n",
       "    .dataframe tbody tr th:only-of-type {\n",
       "        vertical-align: middle;\n",
       "    }\n",
       "\n",
       "    .dataframe tbody tr th {\n",
       "        vertical-align: top;\n",
       "    }\n",
       "\n",
       "    .dataframe thead th {\n",
       "        text-align: right;\n",
       "    }\n",
       "</style>\n",
       "<table border=\"1\" class=\"dataframe\">\n",
       "  <thead>\n",
       "    <tr style=\"text-align: right;\">\n",
       "      <th></th>\n",
       "      <th>constraint_e</th>\n",
       "      <th>constraint_f</th>\n",
       "    </tr>\n",
       "  </thead>\n",
       "  <tbody>\n",
       "    <tr>\n",
       "      <th>5</th>\n",
       "      <td>1944.296975</td>\n",
       "      <td>-1945.458974</td>\n",
       "    </tr>\n",
       "    <tr>\n",
       "      <th>6</th>\n",
       "      <td>1282.351642</td>\n",
       "      <td>-1282.892786</td>\n",
       "    </tr>\n",
       "    <tr>\n",
       "      <th>7</th>\n",
       "      <td>1028.762971</td>\n",
       "      <td>-1033.817709</td>\n",
       "    </tr>\n",
       "    <tr>\n",
       "      <th>8</th>\n",
       "      <td>947.216370</td>\n",
       "      <td>-947.888869</td>\n",
       "    </tr>\n",
       "    <tr>\n",
       "      <th>9</th>\n",
       "      <td>1165.372195</td>\n",
       "      <td>-1164.029886</td>\n",
       "    </tr>\n",
       "    <tr>\n",
       "      <th>10</th>\n",
       "      <td>320.540689</td>\n",
       "      <td>-325.691727</td>\n",
       "    </tr>\n",
       "    <tr>\n",
       "      <th>11</th>\n",
       "      <td>704.834567</td>\n",
       "      <td>-705.773327</td>\n",
       "    </tr>\n",
       "    <tr>\n",
       "      <th>12</th>\n",
       "      <td>1005.032543</td>\n",
       "      <td>-1006.755353</td>\n",
       "    </tr>\n",
       "    <tr>\n",
       "      <th>13</th>\n",
       "      <td>1677.617767</td>\n",
       "      <td>-1675.879336</td>\n",
       "    </tr>\n",
       "    <tr>\n",
       "      <th>14</th>\n",
       "      <td>566.200897</td>\n",
       "      <td>-571.603857</td>\n",
       "    </tr>\n",
       "  </tbody>\n",
       "</table>\n",
       "</div>"
      ],
      "text/plain": [
       "    constraint_e  constraint_f\n",
       "5    1944.296975  -1945.458974\n",
       "6    1282.351642  -1282.892786\n",
       "7    1028.762971  -1033.817709\n",
       "8     947.216370   -947.888869\n",
       "9    1165.372195  -1164.029886\n",
       "10    320.540689   -325.691727\n",
       "11    704.834567   -705.773327\n",
       "12   1005.032543  -1006.755353\n",
       "13   1677.617767  -1675.879336\n",
       "14    566.200897   -571.603857"
      ]
     },
     "execution_count": 14,
     "metadata": {},
     "output_type": "execute_result"
    }
   ],
   "source": [
    "vocs.constraint_data(data)"
   ]
  },
  {
   "cell_type": "code",
   "execution_count": 15,
   "id": "e46a5e83",
   "metadata": {
    "execution": {
     "iopub.execute_input": "2023-10-18T23:30:23.918624Z",
     "iopub.status.busy": "2023-10-18T23:30:23.918198Z",
     "iopub.status.idle": "2023-10-18T23:30:23.929445Z",
     "shell.execute_reply": "2023-10-18T23:30:23.928910Z"
    },
    "pycharm": {
     "name": "#%%\n"
    }
   },
   "outputs": [
    {
     "data": {
      "text/html": [
       "<div>\n",
       "<style scoped>\n",
       "    .dataframe tbody tr th:only-of-type {\n",
       "        vertical-align: middle;\n",
       "    }\n",
       "\n",
       "    .dataframe tbody tr th {\n",
       "        vertical-align: top;\n",
       "    }\n",
       "\n",
       "    .dataframe thead th {\n",
       "        text-align: right;\n",
       "    }\n",
       "</style>\n",
       "<table border=\"1\" class=\"dataframe\">\n",
       "  <thead>\n",
       "    <tr style=\"text-align: right;\">\n",
       "      <th></th>\n",
       "      <th>feasible_e</th>\n",
       "      <th>feasible_f</th>\n",
       "      <th>feasible</th>\n",
       "    </tr>\n",
       "  </thead>\n",
       "  <tbody>\n",
       "    <tr>\n",
       "      <th>5</th>\n",
       "      <td>False</td>\n",
       "      <td>True</td>\n",
       "      <td>False</td>\n",
       "    </tr>\n",
       "    <tr>\n",
       "      <th>6</th>\n",
       "      <td>False</td>\n",
       "      <td>True</td>\n",
       "      <td>False</td>\n",
       "    </tr>\n",
       "    <tr>\n",
       "      <th>7</th>\n",
       "      <td>False</td>\n",
       "      <td>True</td>\n",
       "      <td>False</td>\n",
       "    </tr>\n",
       "    <tr>\n",
       "      <th>8</th>\n",
       "      <td>False</td>\n",
       "      <td>True</td>\n",
       "      <td>False</td>\n",
       "    </tr>\n",
       "    <tr>\n",
       "      <th>9</th>\n",
       "      <td>False</td>\n",
       "      <td>True</td>\n",
       "      <td>False</td>\n",
       "    </tr>\n",
       "    <tr>\n",
       "      <th>10</th>\n",
       "      <td>False</td>\n",
       "      <td>True</td>\n",
       "      <td>False</td>\n",
       "    </tr>\n",
       "    <tr>\n",
       "      <th>11</th>\n",
       "      <td>False</td>\n",
       "      <td>True</td>\n",
       "      <td>False</td>\n",
       "    </tr>\n",
       "    <tr>\n",
       "      <th>12</th>\n",
       "      <td>False</td>\n",
       "      <td>True</td>\n",
       "      <td>False</td>\n",
       "    </tr>\n",
       "    <tr>\n",
       "      <th>13</th>\n",
       "      <td>False</td>\n",
       "      <td>True</td>\n",
       "      <td>False</td>\n",
       "    </tr>\n",
       "    <tr>\n",
       "      <th>14</th>\n",
       "      <td>False</td>\n",
       "      <td>True</td>\n",
       "      <td>False</td>\n",
       "    </tr>\n",
       "  </tbody>\n",
       "</table>\n",
       "</div>"
      ],
      "text/plain": [
       "    feasible_e  feasible_f  feasible\n",
       "5        False        True     False\n",
       "6        False        True     False\n",
       "7        False        True     False\n",
       "8        False        True     False\n",
       "9        False        True     False\n",
       "10       False        True     False\n",
       "11       False        True     False\n",
       "12       False        True     False\n",
       "13       False        True     False\n",
       "14       False        True     False"
      ]
     },
     "execution_count": 15,
     "metadata": {},
     "output_type": "execute_result"
    }
   ],
   "source": [
    "vocs.feasibility_data(data)"
   ]
  },
  {
   "cell_type": "markdown",
   "id": "59041be7",
   "metadata": {},
   "source": [
    "# Error handling"
   ]
  },
  {
   "cell_type": "code",
   "execution_count": 16,
   "id": "f9171ede",
   "metadata": {
    "execution": {
     "iopub.execute_input": "2023-10-18T23:30:23.932355Z",
     "iopub.status.busy": "2023-10-18T23:30:23.931792Z",
     "iopub.status.idle": "2023-10-18T23:30:23.937312Z",
     "shell.execute_reply": "2023-10-18T23:30:23.936770Z"
    }
   },
   "outputs": [],
   "source": [
    "Y = \"\"\"\n",
    "variables:\n",
    "  a: [0, 1e3] # Note that 1e3 usually parses as a str with YAML. \n",
    "  b: [-1, 1]\n",
    "objectives:\n",
    "  c: maximize\n",
    "  d: minimize \n",
    "constraints:\n",
    "  e: ['Less_than', 2]\n",
    "  f: ['greater_than', 0]\n",
    "constants:\n",
    "  g: 1234\n",
    "\n",
    "\"\"\"\n",
    "\n",
    "vocs = VOCS.from_yaml(Y)"
   ]
  },
  {
   "cell_type": "code",
   "execution_count": 17,
   "id": "b5513539",
   "metadata": {
    "execution": {
     "iopub.execute_input": "2023-10-18T23:30:23.939670Z",
     "iopub.status.busy": "2023-10-18T23:30:23.939457Z",
     "iopub.status.idle": "2023-10-18T23:30:23.947247Z",
     "shell.execute_reply": "2023-10-18T23:30:23.946726Z"
    }
   },
   "outputs": [
    {
     "data": {
      "text/plain": [
       "0   NaN\n",
       "1   NaN\n",
       "2   NaN\n",
       "Name: b, dtype: float64"
      ]
     },
     "execution_count": 17,
     "metadata": {},
     "output_type": "execute_result"
    }
   ],
   "source": [
    "d = {'a': [1,2,3]}\n",
    "\n",
    "df = pd.DataFrame(d)\n",
    "df2 = pd.DataFrame(df).copy()\n",
    "\n",
    "df2['b'] = np.nan\n",
    "df2['b'] - 1"
   ]
  },
  {
   "cell_type": "code",
   "execution_count": 18,
   "id": "30f3b3b4",
   "metadata": {
    "execution": {
     "iopub.execute_input": "2023-10-18T23:30:23.949601Z",
     "iopub.status.busy": "2023-10-18T23:30:23.949405Z",
     "iopub.status.idle": "2023-10-18T23:30:23.952667Z",
     "shell.execute_reply": "2023-10-18T23:30:23.952096Z"
    }
   },
   "outputs": [],
   "source": [
    "data['a']  = np.nan"
   ]
  },
  {
   "cell_type": "code",
   "execution_count": 19,
   "id": "6393376b",
   "metadata": {
    "execution": {
     "iopub.execute_input": "2023-10-18T23:30:23.955144Z",
     "iopub.status.busy": "2023-10-18T23:30:23.954741Z",
     "iopub.status.idle": "2023-10-18T23:30:23.959553Z",
     "shell.execute_reply": "2023-10-18T23:30:23.958969Z"
    }
   },
   "outputs": [
    {
     "data": {
      "text/plain": [
       "2"
      ]
     },
     "execution_count": 19,
     "metadata": {},
     "output_type": "execute_result"
    }
   ],
   "source": [
    "a = 2\n",
    "def f(x=a):\n",
    "    return x\n",
    "a=99\n",
    "f()"
   ]
  },
  {
   "cell_type": "code",
   "execution_count": 20,
   "id": "cb0ecd74",
   "metadata": {
    "execution": {
     "iopub.execute_input": "2023-10-18T23:30:23.962339Z",
     "iopub.status.busy": "2023-10-18T23:30:23.961805Z",
     "iopub.status.idle": "2023-10-18T23:30:23.968235Z",
     "shell.execute_reply": "2023-10-18T23:30:23.967647Z"
    }
   },
   "outputs": [
    {
     "data": {
      "text/html": [
       "<div>\n",
       "<style scoped>\n",
       "    .dataframe tbody tr th:only-of-type {\n",
       "        vertical-align: middle;\n",
       "    }\n",
       "\n",
       "    .dataframe tbody tr th {\n",
       "        vertical-align: top;\n",
       "    }\n",
       "\n",
       "    .dataframe thead th {\n",
       "        text-align: right;\n",
       "    }\n",
       "</style>\n",
       "<table border=\"1\" class=\"dataframe\">\n",
       "  <thead>\n",
       "    <tr style=\"text-align: right;\">\n",
       "      <th></th>\n",
       "      <th>A</th>\n",
       "    </tr>\n",
       "  </thead>\n",
       "  <tbody>\n",
       "    <tr>\n",
       "      <th>1</th>\n",
       "      <td>6.000000e+66</td>\n",
       "    </tr>\n",
       "    <tr>\n",
       "      <th>2</th>\n",
       "      <td>6.000000e+66</td>\n",
       "    </tr>\n",
       "    <tr>\n",
       "      <th>3</th>\n",
       "      <td>6.000000e+66</td>\n",
       "    </tr>\n",
       "  </tbody>\n",
       "</table>\n",
       "</div>"
      ],
      "text/plain": [
       "              A\n",
       "1  6.000000e+66\n",
       "2  6.000000e+66\n",
       "3  6.000000e+66"
      ]
     },
     "execution_count": 20,
     "metadata": {},
     "output_type": "execute_result"
    }
   ],
   "source": [
    "pd.DataFrame(6e66, index=[1,2,3], columns=['A'])"
   ]
  },
  {
   "cell_type": "code",
   "execution_count": 21,
   "id": "88bb8253",
   "metadata": {
    "execution": {
     "iopub.execute_input": "2023-10-18T23:30:23.971302Z",
     "iopub.status.busy": "2023-10-18T23:30:23.970499Z",
     "iopub.status.idle": "2023-10-18T23:30:23.978784Z",
     "shell.execute_reply": "2023-10-18T23:30:23.978187Z"
    }
   },
   "outputs": [
    {
     "data": {
      "text/html": [
       "<div>\n",
       "<style scoped>\n",
       "    .dataframe tbody tr th:only-of-type {\n",
       "        vertical-align: middle;\n",
       "    }\n",
       "\n",
       "    .dataframe tbody tr th {\n",
       "        vertical-align: top;\n",
       "    }\n",
       "\n",
       "    .dataframe thead th {\n",
       "        text-align: right;\n",
       "    }\n",
       "</style>\n",
       "<table border=\"1\" class=\"dataframe\">\n",
       "  <thead>\n",
       "    <tr style=\"text-align: right;\">\n",
       "      <th></th>\n",
       "      <th>objective_c</th>\n",
       "      <th>objective_d</th>\n",
       "    </tr>\n",
       "  </thead>\n",
       "  <tbody>\n",
       "    <tr>\n",
       "      <th>9</th>\n",
       "      <td>-1.0</td>\n",
       "      <td>inf</td>\n",
       "    </tr>\n",
       "    <tr>\n",
       "      <th>3</th>\n",
       "      <td>-2.0</td>\n",
       "      <td>inf</td>\n",
       "    </tr>\n",
       "    <tr>\n",
       "      <th>4</th>\n",
       "      <td>-3.0</td>\n",
       "      <td>inf</td>\n",
       "    </tr>\n",
       "    <tr>\n",
       "      <th>5</th>\n",
       "      <td>-4.0</td>\n",
       "      <td>inf</td>\n",
       "    </tr>\n",
       "  </tbody>\n",
       "</table>\n",
       "</div>"
      ],
      "text/plain": [
       "   objective_c  objective_d\n",
       "9         -1.0          inf\n",
       "3         -2.0          inf\n",
       "4         -3.0          inf\n",
       "5         -4.0          inf"
      ]
     },
     "execution_count": 21,
     "metadata": {},
     "output_type": "execute_result"
    }
   ],
   "source": [
    "# These are in standard form for minimization\n",
    "\n",
    "data = pd.DataFrame({'c':[1,2,3,4]}, index=[9,3,4,5])\n",
    "\n",
    "form_objective_data(vocs.objectives, data)"
   ]
  }
 ],
 "metadata": {
  "interpreter": {
   "hash": "60703f99bc9a1e465ed9e894ac1e8f256837fa55699b4912a7939def4ae95691"
  },
  "kernelspec": {
   "display_name": "Python 3 (ipykernel)",
   "language": "python",
   "name": "python3"
  },
  "language_info": {
   "codemirror_mode": {
    "name": "ipython",
    "version": 3
   },
   "file_extension": ".py",
   "mimetype": "text/x-python",
   "name": "python",
   "nbconvert_exporter": "python",
   "pygments_lexer": "ipython3",
   "version": "3.9.18"
  }
 },
 "nbformat": 4,
 "nbformat_minor": 5
}
