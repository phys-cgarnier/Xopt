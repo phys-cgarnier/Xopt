{
 "cells": [
  {
   "cell_type": "markdown",
   "id": "9700f595",
   "metadata": {
    "pycharm": {
     "name": "#%% md\n"
    }
   },
   "source": [
    "# VOCS data structure \n",
    "\n",
    "Variables, Objectives, Constraints, and other Settings (VOCS) helps define our optimization problems. "
   ]
  },
  {
   "cell_type": "code",
   "execution_count": 1,
   "id": "32324ac0-b299-42ee-a6b9-e112dfaa5a45",
   "metadata": {
    "execution": {
     "iopub.execute_input": "2023-10-20T15:38:48.433661Z",
     "iopub.status.busy": "2023-10-20T15:38:48.433331Z",
     "iopub.status.idle": "2023-10-20T15:38:50.726220Z",
     "shell.execute_reply": "2023-10-20T15:38:50.725537Z"
    },
    "pycharm": {
     "name": "#%%\n"
    }
   },
   "outputs": [],
   "source": [
    "from xopt.vocs import VOCS"
   ]
  },
  {
   "cell_type": "code",
   "execution_count": 2,
   "id": "31a15253-14cd-4547-ab01-09f4b56f5bf5",
   "metadata": {
    "execution": {
     "iopub.execute_input": "2023-10-20T15:38:50.729695Z",
     "iopub.status.busy": "2023-10-20T15:38:50.729178Z",
     "iopub.status.idle": "2023-10-20T15:38:50.740080Z",
     "shell.execute_reply": "2023-10-20T15:38:50.739457Z"
    },
    "pycharm": {
     "name": "#%%\n"
    }
   },
   "outputs": [
    {
     "data": {
      "text/plain": [
       "VOCS(variables={'a': [0.0, 1000.0], 'b': [-1.0, 1.0]}, constraints={'e': ['LESS_THAN', 2.0], 'f': ['GREATER_THAN', 0.0]}, objectives={'c': 'MAXIMIZE', 'd': 'MINIMIZE'}, constants={'g': 1234}, observables=[])"
      ]
     },
     "execution_count": 2,
     "metadata": {},
     "output_type": "execute_result"
    }
   ],
   "source": [
    "Y = \"\"\"\n",
    "variables:\n",
    "  a: [0, 1e3] # Note that 1e3 usually parses as a str with YAML. \n",
    "  b: [-1, 1]\n",
    "objectives:\n",
    "  c: maximize\n",
    "  d: minimize \n",
    "constraints:\n",
    "  e: ['Less_than', 2]\n",
    "  f: ['greater_than', 0]\n",
    "constants:\n",
    "  g: 1234\n",
    "\n",
    "\"\"\"\n",
    "\n",
    "vocs = VOCS.from_yaml(Y)\n",
    "vocs"
   ]
  },
  {
   "cell_type": "code",
   "execution_count": 3,
   "id": "304bcc89",
   "metadata": {
    "execution": {
     "iopub.execute_input": "2023-10-20T15:38:50.742748Z",
     "iopub.status.busy": "2023-10-20T15:38:50.742321Z",
     "iopub.status.idle": "2023-10-20T15:38:50.748037Z",
     "shell.execute_reply": "2023-10-20T15:38:50.747448Z"
    },
    "pycharm": {
     "name": "#%%\n"
    }
   },
   "outputs": [
    {
     "data": {
      "text/plain": [
       "{'variables': {'a': [0.0, 1000.0], 'b': [-1.0, 1.0]},\n",
       " 'constraints': {'e': ['LESS_THAN', 2.0], 'f': ['GREATER_THAN', 0.0]},\n",
       " 'objectives': {'c': 'MAXIMIZE', 'd': 'MINIMIZE'},\n",
       " 'constants': {'g': 1234},\n",
       " 'observables': []}"
      ]
     },
     "execution_count": 3,
     "metadata": {},
     "output_type": "execute_result"
    }
   ],
   "source": [
    "# as dict\n",
    "dict(vocs)"
   ]
  },
  {
   "cell_type": "code",
   "execution_count": 4,
   "id": "b236bfb4",
   "metadata": {
    "execution": {
     "iopub.execute_input": "2023-10-20T15:38:50.750855Z",
     "iopub.status.busy": "2023-10-20T15:38:50.750300Z",
     "iopub.status.idle": "2023-10-20T15:38:50.754077Z",
     "shell.execute_reply": "2023-10-20T15:38:50.753526Z"
    },
    "pycharm": {
     "name": "#%%\n"
    }
   },
   "outputs": [],
   "source": [
    "#  re-parse dict\n",
    "vocs2 = VOCS.from_dict(dict(vocs))"
   ]
  },
  {
   "cell_type": "code",
   "execution_count": 5,
   "id": "76c9a173",
   "metadata": {
    "execution": {
     "iopub.execute_input": "2023-10-20T15:38:50.756644Z",
     "iopub.status.busy": "2023-10-20T15:38:50.756441Z",
     "iopub.status.idle": "2023-10-20T15:38:50.760608Z",
     "shell.execute_reply": "2023-10-20T15:38:50.760018Z"
    },
    "pycharm": {
     "name": "#%%\n"
    }
   },
   "outputs": [
    {
     "data": {
      "text/plain": [
       "True"
      ]
     },
     "execution_count": 5,
     "metadata": {},
     "output_type": "execute_result"
    }
   ],
   "source": [
    "# Check that these are the same\n",
    "vocs2 == vocs"
   ]
  },
  {
   "cell_type": "code",
   "execution_count": 6,
   "id": "6a846f4d",
   "metadata": {
    "execution": {
     "iopub.execute_input": "2023-10-20T15:38:50.763371Z",
     "iopub.status.busy": "2023-10-20T15:38:50.762852Z",
     "iopub.status.idle": "2023-10-20T15:38:50.768037Z",
     "shell.execute_reply": "2023-10-20T15:38:50.767449Z"
    },
    "pycharm": {
     "name": "#%%\n"
    }
   },
   "outputs": [
    {
     "data": {
      "text/plain": [
       "{'a': [0.0, 1000.0], 'b': [-1.0, 1.0]}"
      ]
     },
     "execution_count": 6,
     "metadata": {},
     "output_type": "execute_result"
    }
   ],
   "source": [
    "# This replaces the old vocs[\"variables\"]\n",
    "getattr(vocs, \"variables\")"
   ]
  },
  {
   "cell_type": "code",
   "execution_count": 7,
   "id": "6fa2afc8",
   "metadata": {
    "execution": {
     "iopub.execute_input": "2023-10-20T15:38:50.770510Z",
     "iopub.status.busy": "2023-10-20T15:38:50.770315Z",
     "iopub.status.idle": "2023-10-20T15:38:50.775219Z",
     "shell.execute_reply": "2023-10-20T15:38:50.774609Z"
    },
    "pycharm": {
     "name": "#%%\n"
    }
   },
   "outputs": [
    {
     "data": {
      "text/plain": [
       "True"
      ]
     },
     "execution_count": 7,
     "metadata": {},
     "output_type": "execute_result"
    }
   ],
   "source": [
    "vocs.objectives[\"c\"] == 'MAXIMIZE'"
   ]
  },
  {
   "cell_type": "code",
   "execution_count": 8,
   "id": "713272b7",
   "metadata": {
    "execution": {
     "iopub.execute_input": "2023-10-20T15:38:50.777720Z",
     "iopub.status.busy": "2023-10-20T15:38:50.777309Z",
     "iopub.status.idle": "2023-10-20T15:38:50.781258Z",
     "shell.execute_reply": "2023-10-20T15:38:50.780686Z"
    },
    "pycharm": {
     "name": "#%%\n"
    }
   },
   "outputs": [
    {
     "data": {
      "text/plain": [
       "'{\"variables\":{\"a\":[0.0,1000.0],\"b\":[-1.0,1.0]},\"constraints\":{\"e\":[\"LESS_THAN\",2.0],\"f\":[\"GREATER_THAN\",0.0]},\"objectives\":{\"c\":\"MAXIMIZE\",\"d\":\"MINIMIZE\"},\"constants\":{\"g\":1234},\"observables\":[]}'"
      ]
     },
     "execution_count": 8,
     "metadata": {},
     "output_type": "execute_result"
    }
   ],
   "source": [
    "# json\n",
    "vocs.to_json()"
   ]
  },
  {
   "cell_type": "markdown",
   "id": "11167a85",
   "metadata": {
    "pycharm": {
     "name": "#%% md\n"
    }
   },
   "source": [
    "# Objective Evaluation"
   ]
  },
  {
   "cell_type": "code",
   "execution_count": 9,
   "id": "c4d150be",
   "metadata": {
    "execution": {
     "iopub.execute_input": "2023-10-20T15:38:50.784479Z",
     "iopub.status.busy": "2023-10-20T15:38:50.784067Z",
     "iopub.status.idle": "2023-10-20T15:38:50.802821Z",
     "shell.execute_reply": "2023-10-20T15:38:50.802253Z"
    },
    "pycharm": {
     "name": "#%%\n"
    }
   },
   "outputs": [
    {
     "data": {
      "text/html": [
       "<div>\n",
       "<style scoped>\n",
       "    .dataframe tbody tr th:only-of-type {\n",
       "        vertical-align: middle;\n",
       "    }\n",
       "\n",
       "    .dataframe tbody tr th {\n",
       "        vertical-align: top;\n",
       "    }\n",
       "\n",
       "    .dataframe thead th {\n",
       "        text-align: right;\n",
       "    }\n",
       "</style>\n",
       "<table border=\"1\" class=\"dataframe\">\n",
       "  <thead>\n",
       "    <tr style=\"text-align: right;\">\n",
       "      <th></th>\n",
       "      <th>a</th>\n",
       "      <th>b</th>\n",
       "      <th>g</th>\n",
       "      <th>c</th>\n",
       "      <th>d</th>\n",
       "      <th>e</th>\n",
       "      <th>f</th>\n",
       "    </tr>\n",
       "  </thead>\n",
       "  <tbody>\n",
       "    <tr>\n",
       "      <th>5</th>\n",
       "      <td>484.296988</td>\n",
       "      <td>0.171232</td>\n",
       "      <td>1234</td>\n",
       "      <td>484.468220</td>\n",
       "      <td>484.125756</td>\n",
       "      <td>968.936439</td>\n",
       "      <td>968.251511</td>\n",
       "    </tr>\n",
       "    <tr>\n",
       "      <th>6</th>\n",
       "      <td>914.616850</td>\n",
       "      <td>0.839749</td>\n",
       "      <td>1234</td>\n",
       "      <td>915.456599</td>\n",
       "      <td>913.777101</td>\n",
       "      <td>1830.913197</td>\n",
       "      <td>1827.554202</td>\n",
       "    </tr>\n",
       "    <tr>\n",
       "      <th>7</th>\n",
       "      <td>982.813289</td>\n",
       "      <td>0.958814</td>\n",
       "      <td>1234</td>\n",
       "      <td>983.772103</td>\n",
       "      <td>981.854476</td>\n",
       "      <td>1967.544206</td>\n",
       "      <td>1963.708951</td>\n",
       "    </tr>\n",
       "    <tr>\n",
       "      <th>8</th>\n",
       "      <td>495.840382</td>\n",
       "      <td>-0.833965</td>\n",
       "      <td>1234</td>\n",
       "      <td>495.006417</td>\n",
       "      <td>496.674347</td>\n",
       "      <td>990.012833</td>\n",
       "      <td>993.348694</td>\n",
       "    </tr>\n",
       "    <tr>\n",
       "      <th>9</th>\n",
       "      <td>564.290822</td>\n",
       "      <td>0.480787</td>\n",
       "      <td>1234</td>\n",
       "      <td>564.771609</td>\n",
       "      <td>563.810035</td>\n",
       "      <td>1129.543218</td>\n",
       "      <td>1127.620069</td>\n",
       "    </tr>\n",
       "    <tr>\n",
       "      <th>10</th>\n",
       "      <td>899.766937</td>\n",
       "      <td>-0.103278</td>\n",
       "      <td>1234</td>\n",
       "      <td>899.663658</td>\n",
       "      <td>899.870215</td>\n",
       "      <td>1799.327317</td>\n",
       "      <td>1799.740430</td>\n",
       "    </tr>\n",
       "    <tr>\n",
       "      <th>11</th>\n",
       "      <td>30.265094</td>\n",
       "      <td>-0.562469</td>\n",
       "      <td>1234</td>\n",
       "      <td>29.702625</td>\n",
       "      <td>30.827563</td>\n",
       "      <td>59.405249</td>\n",
       "      <td>61.655126</td>\n",
       "    </tr>\n",
       "    <tr>\n",
       "      <th>12</th>\n",
       "      <td>405.486497</td>\n",
       "      <td>0.321100</td>\n",
       "      <td>1234</td>\n",
       "      <td>405.807598</td>\n",
       "      <td>405.165397</td>\n",
       "      <td>811.615195</td>\n",
       "      <td>810.330794</td>\n",
       "    </tr>\n",
       "    <tr>\n",
       "      <th>13</th>\n",
       "      <td>78.859294</td>\n",
       "      <td>-0.568382</td>\n",
       "      <td>1234</td>\n",
       "      <td>78.290912</td>\n",
       "      <td>79.427675</td>\n",
       "      <td>156.581824</td>\n",
       "      <td>158.855351</td>\n",
       "    </tr>\n",
       "    <tr>\n",
       "      <th>14</th>\n",
       "      <td>947.423298</td>\n",
       "      <td>-0.798972</td>\n",
       "      <td>1234</td>\n",
       "      <td>946.624327</td>\n",
       "      <td>948.222270</td>\n",
       "      <td>1893.248653</td>\n",
       "      <td>1896.444541</td>\n",
       "    </tr>\n",
       "  </tbody>\n",
       "</table>\n",
       "</div>"
      ],
      "text/plain": [
       "             a         b     g           c           d            e  \\\n",
       "5   484.296988  0.171232  1234  484.468220  484.125756   968.936439   \n",
       "6   914.616850  0.839749  1234  915.456599  913.777101  1830.913197   \n",
       "7   982.813289  0.958814  1234  983.772103  981.854476  1967.544206   \n",
       "8   495.840382 -0.833965  1234  495.006417  496.674347   990.012833   \n",
       "9   564.290822  0.480787  1234  564.771609  563.810035  1129.543218   \n",
       "10  899.766937 -0.103278  1234  899.663658  899.870215  1799.327317   \n",
       "11   30.265094 -0.562469  1234   29.702625   30.827563    59.405249   \n",
       "12  405.486497  0.321100  1234  405.807598  405.165397   811.615195   \n",
       "13   78.859294 -0.568382  1234   78.290912   79.427675   156.581824   \n",
       "14  947.423298 -0.798972  1234  946.624327  948.222270  1893.248653   \n",
       "\n",
       "              f  \n",
       "5    968.251511  \n",
       "6   1827.554202  \n",
       "7   1963.708951  \n",
       "8    993.348694  \n",
       "9   1127.620069  \n",
       "10  1799.740430  \n",
       "11    61.655126  \n",
       "12   810.330794  \n",
       "13   158.855351  \n",
       "14  1896.444541  "
      ]
     },
     "execution_count": 9,
     "metadata": {},
     "output_type": "execute_result"
    }
   ],
   "source": [
    "from xopt.vocs import form_objective_data, form_constraint_data, form_feasibility_data\n",
    "import pandas as pd\n",
    "import numpy as np\n",
    "\n",
    "data = pd.DataFrame(vocs.random_inputs(10))\n",
    "# Add some outputs\n",
    "data[\"c\"] = data[\"a\"] + data[\"b\"]\n",
    "data[\"d\"] = data[\"a\"] - data[\"b\"]\n",
    "data[\"e\"] = data[\"a\"] * 2 + data[\"b\"] * 2\n",
    "data[\"f\"] = data[\"a\"] * 2 - data[\"b\"] * 2\n",
    "data.index = np.arange(len(data)) + 5  # custom index\n",
    "data"
   ]
  },
  {
   "cell_type": "code",
   "execution_count": 10,
   "id": "a695dc98",
   "metadata": {
    "execution": {
     "iopub.execute_input": "2023-10-20T15:38:50.805758Z",
     "iopub.status.busy": "2023-10-20T15:38:50.805351Z",
     "iopub.status.idle": "2023-10-20T15:38:50.811759Z",
     "shell.execute_reply": "2023-10-20T15:38:50.811199Z"
    },
    "pycharm": {
     "name": "#%%\n"
    }
   },
   "outputs": [
    {
     "data": {
      "text/plain": [
       "{'c': 'MAXIMIZE', 'd': 'MINIMIZE'}"
      ]
     },
     "execution_count": 10,
     "metadata": {},
     "output_type": "execute_result"
    }
   ],
   "source": [
    "vocs.objectives"
   ]
  },
  {
   "cell_type": "code",
   "execution_count": 11,
   "id": "43051b71",
   "metadata": {
    "execution": {
     "iopub.execute_input": "2023-10-20T15:38:50.815532Z",
     "iopub.status.busy": "2023-10-20T15:38:50.814239Z",
     "iopub.status.idle": "2023-10-20T15:38:50.824609Z",
     "shell.execute_reply": "2023-10-20T15:38:50.824053Z"
    },
    "pycharm": {
     "name": "#%%\n"
    }
   },
   "outputs": [
    {
     "data": {
      "text/html": [
       "<div>\n",
       "<style scoped>\n",
       "    .dataframe tbody tr th:only-of-type {\n",
       "        vertical-align: middle;\n",
       "    }\n",
       "\n",
       "    .dataframe tbody tr th {\n",
       "        vertical-align: top;\n",
       "    }\n",
       "\n",
       "    .dataframe thead th {\n",
       "        text-align: right;\n",
       "    }\n",
       "</style>\n",
       "<table border=\"1\" class=\"dataframe\">\n",
       "  <thead>\n",
       "    <tr style=\"text-align: right;\">\n",
       "      <th></th>\n",
       "      <th>objective_c</th>\n",
       "      <th>objective_d</th>\n",
       "    </tr>\n",
       "  </thead>\n",
       "  <tbody>\n",
       "    <tr>\n",
       "      <th>5</th>\n",
       "      <td>-484.468220</td>\n",
       "      <td>484.125756</td>\n",
       "    </tr>\n",
       "    <tr>\n",
       "      <th>6</th>\n",
       "      <td>-915.456599</td>\n",
       "      <td>913.777101</td>\n",
       "    </tr>\n",
       "    <tr>\n",
       "      <th>7</th>\n",
       "      <td>-983.772103</td>\n",
       "      <td>981.854476</td>\n",
       "    </tr>\n",
       "    <tr>\n",
       "      <th>8</th>\n",
       "      <td>-495.006417</td>\n",
       "      <td>496.674347</td>\n",
       "    </tr>\n",
       "    <tr>\n",
       "      <th>9</th>\n",
       "      <td>-564.771609</td>\n",
       "      <td>563.810035</td>\n",
       "    </tr>\n",
       "    <tr>\n",
       "      <th>10</th>\n",
       "      <td>-899.663658</td>\n",
       "      <td>899.870215</td>\n",
       "    </tr>\n",
       "    <tr>\n",
       "      <th>11</th>\n",
       "      <td>-29.702625</td>\n",
       "      <td>30.827563</td>\n",
       "    </tr>\n",
       "    <tr>\n",
       "      <th>12</th>\n",
       "      <td>-405.807598</td>\n",
       "      <td>405.165397</td>\n",
       "    </tr>\n",
       "    <tr>\n",
       "      <th>13</th>\n",
       "      <td>-78.290912</td>\n",
       "      <td>79.427675</td>\n",
       "    </tr>\n",
       "    <tr>\n",
       "      <th>14</th>\n",
       "      <td>-946.624327</td>\n",
       "      <td>948.222270</td>\n",
       "    </tr>\n",
       "  </tbody>\n",
       "</table>\n",
       "</div>"
      ],
      "text/plain": [
       "    objective_c  objective_d\n",
       "5   -484.468220   484.125756\n",
       "6   -915.456599   913.777101\n",
       "7   -983.772103   981.854476\n",
       "8   -495.006417   496.674347\n",
       "9   -564.771609   563.810035\n",
       "10  -899.663658   899.870215\n",
       "11   -29.702625    30.827563\n",
       "12  -405.807598   405.165397\n",
       "13   -78.290912    79.427675\n",
       "14  -946.624327   948.222270"
      ]
     },
     "execution_count": 11,
     "metadata": {},
     "output_type": "execute_result"
    }
   ],
   "source": [
    "# These are in standard form for minimization\n",
    "form_objective_data(vocs.objectives, data)"
   ]
  },
  {
   "cell_type": "code",
   "execution_count": 12,
   "id": "2ed50815",
   "metadata": {
    "execution": {
     "iopub.execute_input": "2023-10-20T15:38:50.827501Z",
     "iopub.status.busy": "2023-10-20T15:38:50.827054Z",
     "iopub.status.idle": "2023-10-20T15:38:50.836868Z",
     "shell.execute_reply": "2023-10-20T15:38:50.836366Z"
    },
    "pycharm": {
     "name": "#%%\n"
    }
   },
   "outputs": [
    {
     "data": {
      "text/html": [
       "<div>\n",
       "<style scoped>\n",
       "    .dataframe tbody tr th:only-of-type {\n",
       "        vertical-align: middle;\n",
       "    }\n",
       "\n",
       "    .dataframe tbody tr th {\n",
       "        vertical-align: top;\n",
       "    }\n",
       "\n",
       "    .dataframe thead th {\n",
       "        text-align: right;\n",
       "    }\n",
       "</style>\n",
       "<table border=\"1\" class=\"dataframe\">\n",
       "  <thead>\n",
       "    <tr style=\"text-align: right;\">\n",
       "      <th></th>\n",
       "      <th>objective_c</th>\n",
       "      <th>objective_d</th>\n",
       "    </tr>\n",
       "  </thead>\n",
       "  <tbody>\n",
       "    <tr>\n",
       "      <th>5</th>\n",
       "      <td>-484.468220</td>\n",
       "      <td>484.125756</td>\n",
       "    </tr>\n",
       "    <tr>\n",
       "      <th>6</th>\n",
       "      <td>-915.456599</td>\n",
       "      <td>913.777101</td>\n",
       "    </tr>\n",
       "    <tr>\n",
       "      <th>7</th>\n",
       "      <td>-983.772103</td>\n",
       "      <td>981.854476</td>\n",
       "    </tr>\n",
       "    <tr>\n",
       "      <th>8</th>\n",
       "      <td>-495.006417</td>\n",
       "      <td>496.674347</td>\n",
       "    </tr>\n",
       "    <tr>\n",
       "      <th>9</th>\n",
       "      <td>-564.771609</td>\n",
       "      <td>563.810035</td>\n",
       "    </tr>\n",
       "    <tr>\n",
       "      <th>10</th>\n",
       "      <td>-899.663658</td>\n",
       "      <td>899.870215</td>\n",
       "    </tr>\n",
       "    <tr>\n",
       "      <th>11</th>\n",
       "      <td>-29.702625</td>\n",
       "      <td>30.827563</td>\n",
       "    </tr>\n",
       "    <tr>\n",
       "      <th>12</th>\n",
       "      <td>-405.807598</td>\n",
       "      <td>405.165397</td>\n",
       "    </tr>\n",
       "    <tr>\n",
       "      <th>13</th>\n",
       "      <td>-78.290912</td>\n",
       "      <td>79.427675</td>\n",
       "    </tr>\n",
       "    <tr>\n",
       "      <th>14</th>\n",
       "      <td>-946.624327</td>\n",
       "      <td>948.222270</td>\n",
       "    </tr>\n",
       "  </tbody>\n",
       "</table>\n",
       "</div>"
      ],
      "text/plain": [
       "    objective_c  objective_d\n",
       "5   -484.468220   484.125756\n",
       "6   -915.456599   913.777101\n",
       "7   -983.772103   981.854476\n",
       "8   -495.006417   496.674347\n",
       "9   -564.771609   563.810035\n",
       "10  -899.663658   899.870215\n",
       "11   -29.702625    30.827563\n",
       "12  -405.807598   405.165397\n",
       "13   -78.290912    79.427675\n",
       "14  -946.624327   948.222270"
      ]
     },
     "execution_count": 12,
     "metadata": {},
     "output_type": "execute_result"
    }
   ],
   "source": [
    "# This is also available as a method\n",
    "vocs.objective_data(data)"
   ]
  },
  {
   "cell_type": "code",
   "execution_count": 13,
   "id": "9f4275d4",
   "metadata": {
    "execution": {
     "iopub.execute_input": "2023-10-20T15:38:50.839766Z",
     "iopub.status.busy": "2023-10-20T15:38:50.839165Z",
     "iopub.status.idle": "2023-10-20T15:38:50.844972Z",
     "shell.execute_reply": "2023-10-20T15:38:50.844485Z"
    },
    "pycharm": {
     "name": "#%%\n"
    }
   },
   "outputs": [
    {
     "data": {
      "text/plain": [
       "array([[-484.46821961,  484.12575574],\n",
       "       [-915.4565986 ,  913.77710089],\n",
       "       [-983.77210278,  981.85447553],\n",
       "       [-495.00641665,  496.674347  ],\n",
       "       [-564.77160898,  563.81003472],\n",
       "       [-899.66365833,  899.87021478],\n",
       "       [ -29.70262454,   30.82756275],\n",
       "       [-405.80759765,  405.16539693],\n",
       "       [ -78.29091197,   79.4276753 ],\n",
       "       [-946.62432668,  948.22227029]])"
      ]
     },
     "execution_count": 13,
     "metadata": {},
     "output_type": "execute_result"
    }
   ],
   "source": [
    "# use the to_numpy() method to convert for low level use.\n",
    "vocs.objective_data(data).to_numpy()"
   ]
  },
  {
   "cell_type": "code",
   "execution_count": 14,
   "id": "29b73df4",
   "metadata": {
    "execution": {
     "iopub.execute_input": "2023-10-20T15:38:50.849105Z",
     "iopub.status.busy": "2023-10-20T15:38:50.848228Z",
     "iopub.status.idle": "2023-10-20T15:38:50.856673Z",
     "shell.execute_reply": "2023-10-20T15:38:50.856215Z"
    },
    "pycharm": {
     "name": "#%%\n"
    }
   },
   "outputs": [
    {
     "data": {
      "text/html": [
       "<div>\n",
       "<style scoped>\n",
       "    .dataframe tbody tr th:only-of-type {\n",
       "        vertical-align: middle;\n",
       "    }\n",
       "\n",
       "    .dataframe tbody tr th {\n",
       "        vertical-align: top;\n",
       "    }\n",
       "\n",
       "    .dataframe thead th {\n",
       "        text-align: right;\n",
       "    }\n",
       "</style>\n",
       "<table border=\"1\" class=\"dataframe\">\n",
       "  <thead>\n",
       "    <tr style=\"text-align: right;\">\n",
       "      <th></th>\n",
       "      <th>constraint_e</th>\n",
       "      <th>constraint_f</th>\n",
       "    </tr>\n",
       "  </thead>\n",
       "  <tbody>\n",
       "    <tr>\n",
       "      <th>5</th>\n",
       "      <td>966.936439</td>\n",
       "      <td>-968.251511</td>\n",
       "    </tr>\n",
       "    <tr>\n",
       "      <th>6</th>\n",
       "      <td>1828.913197</td>\n",
       "      <td>-1827.554202</td>\n",
       "    </tr>\n",
       "    <tr>\n",
       "      <th>7</th>\n",
       "      <td>1965.544206</td>\n",
       "      <td>-1963.708951</td>\n",
       "    </tr>\n",
       "    <tr>\n",
       "      <th>8</th>\n",
       "      <td>988.012833</td>\n",
       "      <td>-993.348694</td>\n",
       "    </tr>\n",
       "    <tr>\n",
       "      <th>9</th>\n",
       "      <td>1127.543218</td>\n",
       "      <td>-1127.620069</td>\n",
       "    </tr>\n",
       "    <tr>\n",
       "      <th>10</th>\n",
       "      <td>1797.327317</td>\n",
       "      <td>-1799.740430</td>\n",
       "    </tr>\n",
       "    <tr>\n",
       "      <th>11</th>\n",
       "      <td>57.405249</td>\n",
       "      <td>-61.655126</td>\n",
       "    </tr>\n",
       "    <tr>\n",
       "      <th>12</th>\n",
       "      <td>809.615195</td>\n",
       "      <td>-810.330794</td>\n",
       "    </tr>\n",
       "    <tr>\n",
       "      <th>13</th>\n",
       "      <td>154.581824</td>\n",
       "      <td>-158.855351</td>\n",
       "    </tr>\n",
       "    <tr>\n",
       "      <th>14</th>\n",
       "      <td>1891.248653</td>\n",
       "      <td>-1896.444541</td>\n",
       "    </tr>\n",
       "  </tbody>\n",
       "</table>\n",
       "</div>"
      ],
      "text/plain": [
       "    constraint_e  constraint_f\n",
       "5     966.936439   -968.251511\n",
       "6    1828.913197  -1827.554202\n",
       "7    1965.544206  -1963.708951\n",
       "8     988.012833   -993.348694\n",
       "9    1127.543218  -1127.620069\n",
       "10   1797.327317  -1799.740430\n",
       "11     57.405249    -61.655126\n",
       "12    809.615195   -810.330794\n",
       "13    154.581824   -158.855351\n",
       "14   1891.248653  -1896.444541"
      ]
     },
     "execution_count": 14,
     "metadata": {},
     "output_type": "execute_result"
    }
   ],
   "source": [
    "vocs.constraint_data(data)"
   ]
  },
  {
   "cell_type": "code",
   "execution_count": 15,
   "id": "e46a5e83",
   "metadata": {
    "execution": {
     "iopub.execute_input": "2023-10-20T15:38:50.865051Z",
     "iopub.status.busy": "2023-10-20T15:38:50.863842Z",
     "iopub.status.idle": "2023-10-20T15:38:50.885899Z",
     "shell.execute_reply": "2023-10-20T15:38:50.885530Z"
    },
    "pycharm": {
     "name": "#%%\n"
    }
   },
   "outputs": [
    {
     "data": {
      "text/html": [
       "<div>\n",
       "<style scoped>\n",
       "    .dataframe tbody tr th:only-of-type {\n",
       "        vertical-align: middle;\n",
       "    }\n",
       "\n",
       "    .dataframe tbody tr th {\n",
       "        vertical-align: top;\n",
       "    }\n",
       "\n",
       "    .dataframe thead th {\n",
       "        text-align: right;\n",
       "    }\n",
       "</style>\n",
       "<table border=\"1\" class=\"dataframe\">\n",
       "  <thead>\n",
       "    <tr style=\"text-align: right;\">\n",
       "      <th></th>\n",
       "      <th>feasible_e</th>\n",
       "      <th>feasible_f</th>\n",
       "      <th>feasible</th>\n",
       "    </tr>\n",
       "  </thead>\n",
       "  <tbody>\n",
       "    <tr>\n",
       "      <th>5</th>\n",
       "      <td>False</td>\n",
       "      <td>True</td>\n",
       "      <td>False</td>\n",
       "    </tr>\n",
       "    <tr>\n",
       "      <th>6</th>\n",
       "      <td>False</td>\n",
       "      <td>True</td>\n",
       "      <td>False</td>\n",
       "    </tr>\n",
       "    <tr>\n",
       "      <th>7</th>\n",
       "      <td>False</td>\n",
       "      <td>True</td>\n",
       "      <td>False</td>\n",
       "    </tr>\n",
       "    <tr>\n",
       "      <th>8</th>\n",
       "      <td>False</td>\n",
       "      <td>True</td>\n",
       "      <td>False</td>\n",
       "    </tr>\n",
       "    <tr>\n",
       "      <th>9</th>\n",
       "      <td>False</td>\n",
       "      <td>True</td>\n",
       "      <td>False</td>\n",
       "    </tr>\n",
       "    <tr>\n",
       "      <th>10</th>\n",
       "      <td>False</td>\n",
       "      <td>True</td>\n",
       "      <td>False</td>\n",
       "    </tr>\n",
       "    <tr>\n",
       "      <th>11</th>\n",
       "      <td>False</td>\n",
       "      <td>True</td>\n",
       "      <td>False</td>\n",
       "    </tr>\n",
       "    <tr>\n",
       "      <th>12</th>\n",
       "      <td>False</td>\n",
       "      <td>True</td>\n",
       "      <td>False</td>\n",
       "    </tr>\n",
       "    <tr>\n",
       "      <th>13</th>\n",
       "      <td>False</td>\n",
       "      <td>True</td>\n",
       "      <td>False</td>\n",
       "    </tr>\n",
       "    <tr>\n",
       "      <th>14</th>\n",
       "      <td>False</td>\n",
       "      <td>True</td>\n",
       "      <td>False</td>\n",
       "    </tr>\n",
       "  </tbody>\n",
       "</table>\n",
       "</div>"
      ],
      "text/plain": [
       "    feasible_e  feasible_f  feasible\n",
       "5        False        True     False\n",
       "6        False        True     False\n",
       "7        False        True     False\n",
       "8        False        True     False\n",
       "9        False        True     False\n",
       "10       False        True     False\n",
       "11       False        True     False\n",
       "12       False        True     False\n",
       "13       False        True     False\n",
       "14       False        True     False"
      ]
     },
     "execution_count": 15,
     "metadata": {},
     "output_type": "execute_result"
    }
   ],
   "source": [
    "vocs.feasibility_data(data)"
   ]
  },
  {
   "cell_type": "markdown",
   "id": "59041be7",
   "metadata": {},
   "source": [
    "# Error handling"
   ]
  },
  {
   "cell_type": "code",
   "execution_count": 16,
   "id": "f9171ede",
   "metadata": {
    "execution": {
     "iopub.execute_input": "2023-10-20T15:38:50.888491Z",
     "iopub.status.busy": "2023-10-20T15:38:50.887969Z",
     "iopub.status.idle": "2023-10-20T15:38:50.892623Z",
     "shell.execute_reply": "2023-10-20T15:38:50.892147Z"
    }
   },
   "outputs": [],
   "source": [
    "Y = \"\"\"\n",
    "variables:\n",
    "  a: [0, 1e3] # Note that 1e3 usually parses as a str with YAML. \n",
    "  b: [-1, 1]\n",
    "objectives:\n",
    "  c: maximize\n",
    "  d: minimize \n",
    "constraints:\n",
    "  e: ['Less_than', 2]\n",
    "  f: ['greater_than', 0]\n",
    "constants:\n",
    "  g: 1234\n",
    "\n",
    "\"\"\"\n",
    "\n",
    "vocs = VOCS.from_yaml(Y)"
   ]
  },
  {
   "cell_type": "code",
   "execution_count": 17,
   "id": "b5513539",
   "metadata": {
    "execution": {
     "iopub.execute_input": "2023-10-20T15:38:50.895068Z",
     "iopub.status.busy": "2023-10-20T15:38:50.894617Z",
     "iopub.status.idle": "2023-10-20T15:38:50.900388Z",
     "shell.execute_reply": "2023-10-20T15:38:50.899941Z"
    }
   },
   "outputs": [
    {
     "data": {
      "text/plain": [
       "0   NaN\n",
       "1   NaN\n",
       "2   NaN\n",
       "Name: b, dtype: float64"
      ]
     },
     "execution_count": 17,
     "metadata": {},
     "output_type": "execute_result"
    }
   ],
   "source": [
    "d = {'a': [1,2,3]}\n",
    "\n",
    "df = pd.DataFrame(d)\n",
    "df2 = pd.DataFrame(df).copy()\n",
    "\n",
    "df2['b'] = np.nan\n",
    "df2['b'] - 1"
   ]
  },
  {
   "cell_type": "code",
   "execution_count": 18,
   "id": "30f3b3b4",
   "metadata": {
    "execution": {
     "iopub.execute_input": "2023-10-20T15:38:50.902810Z",
     "iopub.status.busy": "2023-10-20T15:38:50.902339Z",
     "iopub.status.idle": "2023-10-20T15:38:50.905247Z",
     "shell.execute_reply": "2023-10-20T15:38:50.904789Z"
    }
   },
   "outputs": [],
   "source": [
    "data['a']  = np.nan"
   ]
  },
  {
   "cell_type": "code",
   "execution_count": 19,
   "id": "6393376b",
   "metadata": {
    "execution": {
     "iopub.execute_input": "2023-10-20T15:38:50.907764Z",
     "iopub.status.busy": "2023-10-20T15:38:50.907230Z",
     "iopub.status.idle": "2023-10-20T15:38:50.912245Z",
     "shell.execute_reply": "2023-10-20T15:38:50.911701Z"
    }
   },
   "outputs": [
    {
     "data": {
      "text/plain": [
       "2"
      ]
     },
     "execution_count": 19,
     "metadata": {},
     "output_type": "execute_result"
    }
   ],
   "source": [
    "a = 2\n",
    "def f(x=a):\n",
    "    return x\n",
    "a=99\n",
    "f()"
   ]
  },
  {
   "cell_type": "code",
   "execution_count": 20,
   "id": "cb0ecd74",
   "metadata": {
    "execution": {
     "iopub.execute_input": "2023-10-20T15:38:50.914818Z",
     "iopub.status.busy": "2023-10-20T15:38:50.914285Z",
     "iopub.status.idle": "2023-10-20T15:38:50.921088Z",
     "shell.execute_reply": "2023-10-20T15:38:50.920625Z"
    }
   },
   "outputs": [
    {
     "data": {
      "text/html": [
       "<div>\n",
       "<style scoped>\n",
       "    .dataframe tbody tr th:only-of-type {\n",
       "        vertical-align: middle;\n",
       "    }\n",
       "\n",
       "    .dataframe tbody tr th {\n",
       "        vertical-align: top;\n",
       "    }\n",
       "\n",
       "    .dataframe thead th {\n",
       "        text-align: right;\n",
       "    }\n",
       "</style>\n",
       "<table border=\"1\" class=\"dataframe\">\n",
       "  <thead>\n",
       "    <tr style=\"text-align: right;\">\n",
       "      <th></th>\n",
       "      <th>A</th>\n",
       "    </tr>\n",
       "  </thead>\n",
       "  <tbody>\n",
       "    <tr>\n",
       "      <th>1</th>\n",
       "      <td>6.000000e+66</td>\n",
       "    </tr>\n",
       "    <tr>\n",
       "      <th>2</th>\n",
       "      <td>6.000000e+66</td>\n",
       "    </tr>\n",
       "    <tr>\n",
       "      <th>3</th>\n",
       "      <td>6.000000e+66</td>\n",
       "    </tr>\n",
       "  </tbody>\n",
       "</table>\n",
       "</div>"
      ],
      "text/plain": [
       "              A\n",
       "1  6.000000e+66\n",
       "2  6.000000e+66\n",
       "3  6.000000e+66"
      ]
     },
     "execution_count": 20,
     "metadata": {},
     "output_type": "execute_result"
    }
   ],
   "source": [
    "pd.DataFrame(6e66, index=[1,2,3], columns=['A'])"
   ]
  },
  {
   "cell_type": "code",
   "execution_count": 21,
   "id": "88bb8253",
   "metadata": {
    "execution": {
     "iopub.execute_input": "2023-10-20T15:38:50.923690Z",
     "iopub.status.busy": "2023-10-20T15:38:50.923021Z",
     "iopub.status.idle": "2023-10-20T15:38:50.931225Z",
     "shell.execute_reply": "2023-10-20T15:38:50.930749Z"
    }
   },
   "outputs": [
    {
     "data": {
      "text/html": [
       "<div>\n",
       "<style scoped>\n",
       "    .dataframe tbody tr th:only-of-type {\n",
       "        vertical-align: middle;\n",
       "    }\n",
       "\n",
       "    .dataframe tbody tr th {\n",
       "        vertical-align: top;\n",
       "    }\n",
       "\n",
       "    .dataframe thead th {\n",
       "        text-align: right;\n",
       "    }\n",
       "</style>\n",
       "<table border=\"1\" class=\"dataframe\">\n",
       "  <thead>\n",
       "    <tr style=\"text-align: right;\">\n",
       "      <th></th>\n",
       "      <th>objective_c</th>\n",
       "      <th>objective_d</th>\n",
       "    </tr>\n",
       "  </thead>\n",
       "  <tbody>\n",
       "    <tr>\n",
       "      <th>9</th>\n",
       "      <td>-1.0</td>\n",
       "      <td>inf</td>\n",
       "    </tr>\n",
       "    <tr>\n",
       "      <th>3</th>\n",
       "      <td>-2.0</td>\n",
       "      <td>inf</td>\n",
       "    </tr>\n",
       "    <tr>\n",
       "      <th>4</th>\n",
       "      <td>-3.0</td>\n",
       "      <td>inf</td>\n",
       "    </tr>\n",
       "    <tr>\n",
       "      <th>5</th>\n",
       "      <td>-4.0</td>\n",
       "      <td>inf</td>\n",
       "    </tr>\n",
       "  </tbody>\n",
       "</table>\n",
       "</div>"
      ],
      "text/plain": [
       "   objective_c  objective_d\n",
       "9         -1.0          inf\n",
       "3         -2.0          inf\n",
       "4         -3.0          inf\n",
       "5         -4.0          inf"
      ]
     },
     "execution_count": 21,
     "metadata": {},
     "output_type": "execute_result"
    }
   ],
   "source": [
    "# These are in standard form for minimization\n",
    "\n",
    "data = pd.DataFrame({'c':[1,2,3,4]}, index=[9,3,4,5])\n",
    "\n",
    "form_objective_data(vocs.objectives, data)"
   ]
  }
 ],
 "metadata": {
  "interpreter": {
   "hash": "60703f99bc9a1e465ed9e894ac1e8f256837fa55699b4912a7939def4ae95691"
  },
  "kernelspec": {
   "display_name": "Python 3 (ipykernel)",
   "language": "python",
   "name": "python3"
  },
  "language_info": {
   "codemirror_mode": {
    "name": "ipython",
    "version": 3
   },
   "file_extension": ".py",
   "mimetype": "text/x-python",
   "name": "python",
   "nbconvert_exporter": "python",
   "pygments_lexer": "ipython3",
   "version": "3.9.18"
  }
 },
 "nbformat": 4,
 "nbformat_minor": 5
}
