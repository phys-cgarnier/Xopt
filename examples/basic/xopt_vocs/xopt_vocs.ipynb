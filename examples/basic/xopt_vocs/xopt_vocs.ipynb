{
 "cells": [
  {
   "cell_type": "markdown",
   "id": "9700f595",
   "metadata": {
    "pycharm": {
     "name": "#%% md\n"
    }
   },
   "source": [
    "# VOCS data structure \n",
    "\n",
    "Variables, Objectives, Constraints, and other Settings (VOCS) helps define our optimization problems. "
   ]
  },
  {
   "cell_type": "code",
   "execution_count": 1,
   "id": "32324ac0-b299-42ee-a6b9-e112dfaa5a45",
   "metadata": {
    "execution": {
     "iopub.execute_input": "2023-05-24T21:05:45.083185Z",
     "iopub.status.busy": "2023-05-24T21:05:45.082927Z",
     "iopub.status.idle": "2023-05-24T21:05:47.122089Z",
     "shell.execute_reply": "2023-05-24T21:05:47.121414Z"
    },
    "pycharm": {
     "name": "#%%\n"
    }
   },
   "outputs": [],
   "source": [
    "from xopt.vocs import VOCS"
   ]
  },
  {
   "cell_type": "code",
   "execution_count": 2,
   "id": "354e92d2",
   "metadata": {
    "execution": {
     "iopub.execute_input": "2023-05-24T21:05:47.125455Z",
     "iopub.status.busy": "2023-05-24T21:05:47.124948Z",
     "iopub.status.idle": "2023-05-24T21:05:47.147850Z",
     "shell.execute_reply": "2023-05-24T21:05:47.145985Z"
    },
    "pycharm": {
     "name": "#%%\n"
    }
   },
   "outputs": [
    {
     "name": "stdout",
     "output_type": "stream",
     "text": [
      "Help on class VOCS in module xopt.vocs:\n",
      "\n",
      "class VOCS(xopt.pydantic.XoptBaseModel)\n",
      " |  VOCS(*, variables: Dict[str, types.ConstrainedListValue] = {}, constraints: Dict[str, types.ConstrainedListValue] = {}, objectives: Dict[str, xopt.vocs.ObjectiveEnum] = {}, constants: Dict[str, Any] = {}, linked_variables: Dict[str, str] = {}) -> None\n",
      " |  \n",
      " |  Variables, Objectives, Constraints, and other Settings (VOCS) data structure\n",
      " |  to describe optimization problems.\n",
      " |  \n",
      " |  Method resolution order:\n",
      " |      VOCS\n",
      " |      xopt.pydantic.XoptBaseModel\n",
      " |      pydantic.main.BaseModel\n",
      " |      pydantic.utils.Representation\n",
      " |      builtins.object\n",
      " |  \n",
      " |  Methods defined here:\n",
      " |  \n",
      " |  as_yaml(self)\n",
      " |  \n",
      " |  constraint_data(self, data: Union[pandas.core.frame.DataFrame, List[Dict]], prefix: str = 'constraint_') -> pandas.core.frame.DataFrame\n",
      " |      Returns a dataframe containing constraint data transformed according to\n",
      " |      `vocs.constraints` such that values that satisfy each constraint are negative.\n",
      " |      \n",
      " |      Args:\n",
      " |          data: data to be processed.\n",
      " |          prefix: prefix added to column names.\n",
      " |      \n",
      " |      Returns:\n",
      " |          result: processed Dataframe\n",
      " |  \n",
      " |  convert_dataframe_to_inputs(self, data: pandas.core.frame.DataFrame) -> pandas.core.frame.DataFrame\n",
      " |      Extracts only inputs from a dataframe.\n",
      " |      This will add constants.\n",
      " |  \n",
      " |  convert_numpy_to_inputs(self, inputs: numpy.ndarray) -> pandas.core.frame.DataFrame\n",
      " |      convert 2D numpy array to list of dicts (inputs) for evaluation\n",
      " |      Assumes that the columns of the array match correspond to\n",
      " |      `sorted(self.vocs.variables.keys())\n",
      " |  \n",
      " |  extract_data(self, data: pandas.core.frame.DataFrame, return_raw=False)\n",
      " |      split dataframe into seperate dataframes for variables, objectives and\n",
      " |      constraints based on vocs - objective data is transformed based on\n",
      " |      `vocs.objectives` properties\n",
      " |      \n",
      " |      Args:\n",
      " |          data: dataframe to be split\n",
      " |          return_raw: if True, return untransformed objective data\n",
      " |      \n",
      " |      Returns:\n",
      " |          variable_data: dataframe containing variable data\n",
      " |          objective_data: dataframe containing objective data\n",
      " |          constraint_data: dataframe containing constraint data\n",
      " |  \n",
      " |  feasibility_data(self, data: Union[pandas.core.frame.DataFrame, List[Dict]], prefix: str = 'feasible_') -> pandas.core.frame.DataFrame\n",
      " |      Returns a dataframe containing booleans denoting if a constraint is satisfied or\n",
      " |      not. Returned dataframe also contains a column `feasibility` which denotes if\n",
      " |      all constraints are satisfied.\n",
      " |      \n",
      " |      Args:\n",
      " |          data: data to be processed.\n",
      " |          prefix: prefix added to column names.\n",
      " |      \n",
      " |      Returns:\n",
      " |          result: processed Dataframe\n",
      " |  \n",
      " |  objective_data(self, data: Union[pandas.core.frame.DataFrame, List[Dict]], prefix: str = 'objective_', return_raw=False) -> pandas.core.frame.DataFrame\n",
      " |      Returns a dataframe containing objective data transformed according to\n",
      " |      `vocs.objectives` such that we always assume minimization.\n",
      " |      \n",
      " |      Args:\n",
      " |          data: data to be processed.\n",
      " |          prefix: prefix added to column names.\n",
      " |      \n",
      " |      Returns:\n",
      " |          result: processed Dataframe\n",
      " |  \n",
      " |  random_inputs(self, n=None, include_constants=True, include_linked_variables=True, seed=None)\n",
      " |      Uniform sampling of the variables.\n",
      " |      \n",
      " |      Returns a dict of inputs.\n",
      " |      \n",
      " |      If include_constants, the vocs.constants are added to the dict.\n",
      " |      \n",
      " |      Optional:\n",
      " |          n (integer) to make arrays of inputs, of size n.\n",
      " |          seed (integer) to initialize the random number generator\n",
      " |  \n",
      " |  validate_input_data(self, input_points: pandas.core.frame.DataFrame) -> None\n",
      " |      Validates input data. Raises an error if the input data does not satisfy\n",
      " |      requirements given by vocs.\n",
      " |      \n",
      " |      Args:\n",
      " |          input_points: input data to be validated.\n",
      " |      \n",
      " |      Returns:\n",
      " |          None\n",
      " |      \n",
      " |      Raises:\n",
      " |          ValueError: if input data does not satisfy requirements.\n",
      " |  \n",
      " |  variable_data(self, data: Union[pandas.core.frame.DataFrame, List[Dict]], prefix: str = 'variable_') -> pandas.core.frame.DataFrame\n",
      " |      Returns a dataframe containing variables according to `vocs.variables` in sorted\n",
      " |      order\n",
      " |      \n",
      " |      Args:\n",
      " |          data: Data to be processed.\n",
      " |          prefix: Prefix added to column names.\n",
      " |      \n",
      " |      Returns:\n",
      " |          result: processed Dataframe\n",
      " |  \n",
      " |  ----------------------------------------------------------------------\n",
      " |  Class methods defined here:\n",
      " |  \n",
      " |  from_yaml(yaml_text) from pydantic.main.ModelMetaclass\n",
      " |  \n",
      " |  ----------------------------------------------------------------------\n",
      " |  Static methods defined here:\n",
      " |  \n",
      " |  __json_encoder__ = pydantic_encoder(obj: Any) -> Any\n",
      " |  \n",
      " |  ----------------------------------------------------------------------\n",
      " |  Readonly properties defined here:\n",
      " |  \n",
      " |  all_names\n",
      " |      Returns all vocs names (variables, constants, objectives, constraints\n",
      " |  \n",
      " |  bounds\n",
      " |      Returns a bounds array (mins, maxs) of shape (2, n_variables)\n",
      " |      Arrays of lower and upper bounds can be extracted by:\n",
      " |          mins, maxs = vocs.bounds\n",
      " |  \n",
      " |  constant_names\n",
      " |      Returns a sorted list of constraint names\n",
      " |  \n",
      " |  constraint_names\n",
      " |      Returns a sorted list of constraint names\n",
      " |  \n",
      " |  n_constants\n",
      " |      Returns the number of constants\n",
      " |  \n",
      " |  n_constraints\n",
      " |      Returns the number of constraints\n",
      " |  \n",
      " |  n_inputs\n",
      " |      Returns the number of inputs (variables and constants)\n",
      " |  \n",
      " |  n_objectives\n",
      " |      Returns the number of objectives\n",
      " |  \n",
      " |  n_outputs\n",
      " |      Returns the number of outputs (objectives and constraints)\n",
      " |  \n",
      " |  n_variables\n",
      " |      Returns the number of variables\n",
      " |  \n",
      " |  objective_names\n",
      " |      Returns a sorted list of objective names\n",
      " |  \n",
      " |  output_names\n",
      " |      Returns a sorted list of objective and constraint names (objectives first\n",
      " |      then constraints)\n",
      " |  \n",
      " |  variable_names\n",
      " |      Returns a sorted list of variable names\n",
      " |  \n",
      " |  ----------------------------------------------------------------------\n",
      " |  Data and other attributes defined here:\n",
      " |  \n",
      " |  Config = <class 'xopt.vocs.VOCS.Config'>\n",
      " |  \n",
      " |  __abstractmethods__ = frozenset()\n",
      " |  \n",
      " |  __annotations__ = {'constants': typing.Dict[str, typing.Any], 'constra...\n",
      " |  \n",
      " |  __class_vars__ = set()\n",
      " |  \n",
      " |  __config__ = <class 'xopt.vocs.Config'>\n",
      " |  \n",
      " |  __custom_root_type__ = False\n",
      " |  \n",
      " |  __exclude_fields__ = None\n",
      " |  \n",
      " |  __fields__ = {'constants': ModelField(name='constants', type=Mapping[s...\n",
      " |  \n",
      " |  __hash__ = None\n",
      " |  \n",
      " |  __include_fields__ = None\n",
      " |  \n",
      " |  __post_root_validators__ = []\n",
      " |  \n",
      " |  __pre_root_validators__ = []\n",
      " |  \n",
      " |  __private_attributes__ = {}\n",
      " |  \n",
      " |  __schema_cache__ = {}\n",
      " |  \n",
      " |  __signature__ = <Signature (*, variables: Dict[str, types.Constr..., l...\n",
      " |  \n",
      " |  __validators__ = {}\n",
      " |  \n",
      " |  ----------------------------------------------------------------------\n",
      " |  Methods inherited from pydantic.main.BaseModel:\n",
      " |  \n",
      " |  __eq__(self, other: Any) -> bool\n",
      " |  \n",
      " |  __getstate__(self) -> 'DictAny'\n",
      " |  \n",
      " |  __init__(__pydantic_self__, **data: Any) -> None\n",
      " |      Create a new model by parsing and validating input data from keyword arguments.\n",
      " |      \n",
      " |      Raises ValidationError if the input data cannot be parsed to form a valid model.\n",
      " |  \n",
      " |  __iter__(self) -> 'TupleGenerator'\n",
      " |      so `dict(model)` works\n",
      " |  \n",
      " |  __repr_args__(self) -> 'ReprArgs'\n",
      " |  \n",
      " |  __setattr__(self, name, value)\n",
      " |  \n",
      " |  __setstate__(self, state: 'DictAny') -> None\n",
      " |  \n",
      " |  copy(self: 'Model', *, include: Union[ForwardRef('AbstractSetIntStr'), ForwardRef('MappingIntStrAny'), NoneType] = None, exclude: Union[ForwardRef('AbstractSetIntStr'), ForwardRef('MappingIntStrAny'), NoneType] = None, update: Optional[ForwardRef('DictStrAny')] = None, deep: bool = False) -> 'Model'\n",
      " |      Duplicate a model, optionally choose which fields to include, exclude and change.\n",
      " |      \n",
      " |      :param include: fields to include in new model\n",
      " |      :param exclude: fields to exclude from new model, as with values this takes precedence over include\n",
      " |      :param update: values to change/add in the new model. Note: the data is not validated before creating\n",
      " |          the new model: you should trust this data\n",
      " |      :param deep: set to `True` to make a deep copy of the model\n",
      " |      :return: new model instance\n",
      " |  \n",
      " |  dict(self, *, include: Union[ForwardRef('AbstractSetIntStr'), ForwardRef('MappingIntStrAny'), NoneType] = None, exclude: Union[ForwardRef('AbstractSetIntStr'), ForwardRef('MappingIntStrAny'), NoneType] = None, by_alias: bool = False, skip_defaults: Optional[bool] = None, exclude_unset: bool = False, exclude_defaults: bool = False, exclude_none: bool = False) -> 'DictStrAny'\n",
      " |      Generate a dictionary representation of the model, optionally specifying which fields to include or exclude.\n",
      " |  \n",
      " |  json(self, *, include: Union[ForwardRef('AbstractSetIntStr'), ForwardRef('MappingIntStrAny'), NoneType] = None, exclude: Union[ForwardRef('AbstractSetIntStr'), ForwardRef('MappingIntStrAny'), NoneType] = None, by_alias: bool = False, skip_defaults: Optional[bool] = None, exclude_unset: bool = False, exclude_defaults: bool = False, exclude_none: bool = False, encoder: Optional[Callable[[Any], Any]] = None, models_as_dict: bool = True, **dumps_kwargs: Any) -> 'unicode'\n",
      " |      Generate a JSON representation of the model, `include` and `exclude` arguments as per `dict()`.\n",
      " |      \n",
      " |      `encoder` is an optional function to supply as `default` to json.dumps(), other arguments as per `json.dumps()`.\n",
      " |  \n",
      " |  ----------------------------------------------------------------------\n",
      " |  Class methods inherited from pydantic.main.BaseModel:\n",
      " |  \n",
      " |  __get_validators__() -> 'CallableGenerator' from pydantic.main.ModelMetaclass\n",
      " |  \n",
      " |  __try_update_forward_refs__(**localns: Any) -> None from pydantic.main.ModelMetaclass\n",
      " |      Same as update_forward_refs but will not raise exception\n",
      " |      when forward references are not defined.\n",
      " |  \n",
      " |  construct(_fields_set: Optional[ForwardRef('SetStr')] = None, **values: Any) -> 'Model' from pydantic.main.ModelMetaclass\n",
      " |      Creates a new model setting __dict__ and __fields_set__ from trusted or pre-validated data.\n",
      " |      Default values are respected, but no other validation is performed.\n",
      " |      Behaves as if `Config.extra = 'allow'` was set since it adds all passed values\n",
      " |  \n",
      " |  from_orm(obj: Any) -> 'Model' from pydantic.main.ModelMetaclass\n",
      " |  \n",
      " |  parse_file(path: Union[str, pathlib.Path], *, content_type: 'unicode' = None, encoding: 'unicode' = 'utf8', proto: pydantic.parse.Protocol = None, allow_pickle: bool = False) -> 'Model' from pydantic.main.ModelMetaclass\n",
      " |  \n",
      " |  parse_obj(obj: Any) -> 'Model' from pydantic.main.ModelMetaclass\n",
      " |  \n",
      " |  parse_raw(b: Union[str, bytes], *, content_type: 'unicode' = None, encoding: 'unicode' = 'utf8', proto: pydantic.parse.Protocol = None, allow_pickle: bool = False) -> 'Model' from pydantic.main.ModelMetaclass\n",
      " |  \n",
      " |  schema(by_alias: bool = True, ref_template: 'unicode' = '#/definitions/{model}') -> 'DictStrAny' from pydantic.main.ModelMetaclass\n",
      " |  \n",
      " |  schema_json(*, by_alias: bool = True, ref_template: 'unicode' = '#/definitions/{model}', **dumps_kwargs: Any) -> 'unicode' from pydantic.main.ModelMetaclass\n",
      " |  \n",
      " |  update_forward_refs(**localns: Any) -> None from pydantic.main.ModelMetaclass\n",
      " |      Try to update ForwardRefs on fields based on this Model, globalns and localns.\n",
      " |  \n",
      " |  validate(value: Any) -> 'Model' from pydantic.main.ModelMetaclass\n",
      " |  \n",
      " |  ----------------------------------------------------------------------\n",
      " |  Data descriptors inherited from pydantic.main.BaseModel:\n",
      " |  \n",
      " |  __dict__\n",
      " |      dictionary for instance variables (if defined)\n",
      " |  \n",
      " |  __fields_set__\n",
      " |  \n",
      " |  ----------------------------------------------------------------------\n",
      " |  Methods inherited from pydantic.utils.Representation:\n",
      " |  \n",
      " |  __pretty__(self, fmt: Callable[[Any], Any], **kwargs: Any) -> Generator[Any, NoneType, NoneType]\n",
      " |      Used by devtools (https://python-devtools.helpmanual.io/) to provide a human readable representations of objects\n",
      " |  \n",
      " |  __repr__(self) -> 'unicode'\n",
      " |  \n",
      " |  __repr_name__(self) -> 'unicode'\n",
      " |      Name of the instance's class, used in __repr__.\n",
      " |  \n",
      " |  __repr_str__(self, join_str: 'unicode') -> 'unicode'\n",
      " |  \n",
      " |  __rich_repr__(self) -> 'RichReprResult'\n",
      " |      Get fields for Rich library\n",
      " |  \n",
      " |  __str__(self) -> 'unicode'\n",
      "\n"
     ]
    }
   ],
   "source": [
    "help(VOCS)"
   ]
  },
  {
   "cell_type": "code",
   "execution_count": 3,
   "id": "31a15253-14cd-4547-ab01-09f4b56f5bf5",
   "metadata": {
    "execution": {
     "iopub.execute_input": "2023-05-24T21:05:47.150973Z",
     "iopub.status.busy": "2023-05-24T21:05:47.150747Z",
     "iopub.status.idle": "2023-05-24T21:05:47.158981Z",
     "shell.execute_reply": "2023-05-24T21:05:47.158349Z"
    },
    "pycharm": {
     "name": "#%%\n"
    }
   },
   "outputs": [
    {
     "data": {
      "text/plain": [
       "VOCS(variables={'a': [0.0, 1000.0], 'b': [-1.0, 1.0]}, constraints={'e': ['LESS_THAN', 2.0], 'f': ['GREATER_THAN', 0.0]}, objectives={'c': 'MAXIMIZE', 'd': 'MINIMIZE'}, constants={'g': 1234}, linked_variables={})"
      ]
     },
     "execution_count": 3,
     "metadata": {},
     "output_type": "execute_result"
    }
   ],
   "source": [
    "Y = \"\"\"\n",
    "variables:\n",
    "  a: [0, 1e3] # Note that 1e3 usually parses as a str with YAML. \n",
    "  b: [-1, 1]\n",
    "objectives:\n",
    "  c: maximize\n",
    "  d: minimize \n",
    "constraints:\n",
    "  e: ['Less_than', 2]\n",
    "  f: ['greater_than', 0]\n",
    "constants:\n",
    "  g: 1234\n",
    "\n",
    "\"\"\"\n",
    "\n",
    "vocs = VOCS.from_yaml(Y)\n",
    "vocs"
   ]
  },
  {
   "cell_type": "code",
   "execution_count": 4,
   "id": "304bcc89",
   "metadata": {
    "execution": {
     "iopub.execute_input": "2023-05-24T21:05:47.162784Z",
     "iopub.status.busy": "2023-05-24T21:05:47.162250Z",
     "iopub.status.idle": "2023-05-24T21:05:47.168316Z",
     "shell.execute_reply": "2023-05-24T21:05:47.167763Z"
    },
    "pycharm": {
     "name": "#%%\n"
    }
   },
   "outputs": [
    {
     "data": {
      "text/plain": [
       "{'variables': {'a': [0.0, 1000.0], 'b': [-1.0, 1.0]},\n",
       " 'constraints': {'e': ['LESS_THAN', 2.0], 'f': ['GREATER_THAN', 0.0]},\n",
       " 'objectives': {'c': 'MAXIMIZE', 'd': 'MINIMIZE'},\n",
       " 'constants': {'g': 1234},\n",
       " 'linked_variables': {}}"
      ]
     },
     "execution_count": 4,
     "metadata": {},
     "output_type": "execute_result"
    }
   ],
   "source": [
    "# as dict\n",
    "vocs.dict()"
   ]
  },
  {
   "cell_type": "code",
   "execution_count": 5,
   "id": "b236bfb4",
   "metadata": {
    "execution": {
     "iopub.execute_input": "2023-05-24T21:05:47.171131Z",
     "iopub.status.busy": "2023-05-24T21:05:47.170810Z",
     "iopub.status.idle": "2023-05-24T21:05:47.174889Z",
     "shell.execute_reply": "2023-05-24T21:05:47.174311Z"
    },
    "pycharm": {
     "name": "#%%\n"
    }
   },
   "outputs": [],
   "source": [
    "#  re-parse dict\n",
    "vocs2 = VOCS.parse_obj(vocs.dict())"
   ]
  },
  {
   "cell_type": "code",
   "execution_count": 6,
   "id": "76c9a173",
   "metadata": {
    "execution": {
     "iopub.execute_input": "2023-05-24T21:05:47.177699Z",
     "iopub.status.busy": "2023-05-24T21:05:47.177382Z",
     "iopub.status.idle": "2023-05-24T21:05:47.183199Z",
     "shell.execute_reply": "2023-05-24T21:05:47.182646Z"
    },
    "pycharm": {
     "name": "#%%\n"
    }
   },
   "outputs": [
    {
     "data": {
      "text/plain": [
       "True"
      ]
     },
     "execution_count": 6,
     "metadata": {},
     "output_type": "execute_result"
    }
   ],
   "source": [
    "# Check that these are the same\n",
    "vocs2 == vocs"
   ]
  },
  {
   "cell_type": "code",
   "execution_count": 7,
   "id": "6a846f4d",
   "metadata": {
    "execution": {
     "iopub.execute_input": "2023-05-24T21:05:47.186101Z",
     "iopub.status.busy": "2023-05-24T21:05:47.185624Z",
     "iopub.status.idle": "2023-05-24T21:05:47.190270Z",
     "shell.execute_reply": "2023-05-24T21:05:47.189663Z"
    },
    "pycharm": {
     "name": "#%%\n"
    }
   },
   "outputs": [
    {
     "data": {
      "text/plain": [
       "{'a': [0.0, 1000.0], 'b': [-1.0, 1.0]}"
      ]
     },
     "execution_count": 7,
     "metadata": {},
     "output_type": "execute_result"
    }
   ],
   "source": [
    "# This replaces the old vocs[\"variables\"]\n",
    "getattr(vocs, \"variables\")"
   ]
  },
  {
   "cell_type": "code",
   "execution_count": 8,
   "id": "6fa2afc8",
   "metadata": {
    "execution": {
     "iopub.execute_input": "2023-05-24T21:05:47.192847Z",
     "iopub.status.busy": "2023-05-24T21:05:47.192636Z",
     "iopub.status.idle": "2023-05-24T21:05:47.196480Z",
     "shell.execute_reply": "2023-05-24T21:05:47.195872Z"
    },
    "pycharm": {
     "name": "#%%\n"
    }
   },
   "outputs": [
    {
     "data": {
      "text/plain": [
       "True"
      ]
     },
     "execution_count": 8,
     "metadata": {},
     "output_type": "execute_result"
    }
   ],
   "source": [
    "vocs.objectives[\"c\"] == 'MAXIMIZE'"
   ]
  },
  {
   "cell_type": "code",
   "execution_count": 9,
   "id": "713272b7",
   "metadata": {
    "execution": {
     "iopub.execute_input": "2023-05-24T21:05:47.199773Z",
     "iopub.status.busy": "2023-05-24T21:05:47.199370Z",
     "iopub.status.idle": "2023-05-24T21:05:47.203398Z",
     "shell.execute_reply": "2023-05-24T21:05:47.202776Z"
    },
    "pycharm": {
     "name": "#%%\n"
    }
   },
   "outputs": [
    {
     "data": {
      "text/plain": [
       "'{\"variables\":{\"a\":[0.0,1000.0],\"b\":[-1.0,1.0]},\"constraints\":{\"e\":[\"LESS_THAN\",2.0],\"f\":[\"GREATER_THAN\",0.0]},\"objectives\":{\"c\":\"MAXIMIZE\",\"d\":\"MINIMIZE\"},\"constants\":{\"g\":1234},\"linked_variables\":{}}'"
      ]
     },
     "execution_count": 9,
     "metadata": {},
     "output_type": "execute_result"
    }
   ],
   "source": [
    "# json\n",
    "vocs.json()"
   ]
  },
  {
   "cell_type": "markdown",
   "id": "11167a85",
   "metadata": {
    "pycharm": {
     "name": "#%% md\n"
    }
   },
   "source": [
    "# Objective Evaluation"
   ]
  },
  {
   "cell_type": "code",
   "execution_count": 10,
   "id": "c4d150be",
   "metadata": {
    "execution": {
     "iopub.execute_input": "2023-05-24T21:05:47.206807Z",
     "iopub.status.busy": "2023-05-24T21:05:47.206301Z",
     "iopub.status.idle": "2023-05-24T21:05:47.222457Z",
     "shell.execute_reply": "2023-05-24T21:05:47.221820Z"
    },
    "pycharm": {
     "name": "#%%\n"
    }
   },
   "outputs": [
    {
     "data": {
      "text/html": [
       "<div>\n",
       "<style scoped>\n",
       "    .dataframe tbody tr th:only-of-type {\n",
       "        vertical-align: middle;\n",
       "    }\n",
       "\n",
       "    .dataframe tbody tr th {\n",
       "        vertical-align: top;\n",
       "    }\n",
       "\n",
       "    .dataframe thead th {\n",
       "        text-align: right;\n",
       "    }\n",
       "</style>\n",
       "<table border=\"1\" class=\"dataframe\">\n",
       "  <thead>\n",
       "    <tr style=\"text-align: right;\">\n",
       "      <th></th>\n",
       "      <th>a</th>\n",
       "      <th>b</th>\n",
       "      <th>g</th>\n",
       "      <th>c</th>\n",
       "      <th>d</th>\n",
       "      <th>e</th>\n",
       "      <th>f</th>\n",
       "    </tr>\n",
       "  </thead>\n",
       "  <tbody>\n",
       "    <tr>\n",
       "      <th>5</th>\n",
       "      <td>95.322121</td>\n",
       "      <td>0.564880</td>\n",
       "      <td>1234</td>\n",
       "      <td>95.887002</td>\n",
       "      <td>94.757241</td>\n",
       "      <td>191.774004</td>\n",
       "      <td>189.514482</td>\n",
       "    </tr>\n",
       "    <tr>\n",
       "      <th>6</th>\n",
       "      <td>758.467395</td>\n",
       "      <td>-0.474059</td>\n",
       "      <td>1234</td>\n",
       "      <td>757.993336</td>\n",
       "      <td>758.941454</td>\n",
       "      <td>1515.986673</td>\n",
       "      <td>1517.882908</td>\n",
       "    </tr>\n",
       "    <tr>\n",
       "      <th>7</th>\n",
       "      <td>166.168170</td>\n",
       "      <td>-0.710272</td>\n",
       "      <td>1234</td>\n",
       "      <td>165.457898</td>\n",
       "      <td>166.878443</td>\n",
       "      <td>330.915796</td>\n",
       "      <td>333.756885</td>\n",
       "    </tr>\n",
       "    <tr>\n",
       "      <th>8</th>\n",
       "      <td>70.489840</td>\n",
       "      <td>-0.226139</td>\n",
       "      <td>1234</td>\n",
       "      <td>70.263702</td>\n",
       "      <td>70.715979</td>\n",
       "      <td>140.527404</td>\n",
       "      <td>141.431958</td>\n",
       "    </tr>\n",
       "    <tr>\n",
       "      <th>9</th>\n",
       "      <td>133.900825</td>\n",
       "      <td>0.692359</td>\n",
       "      <td>1234</td>\n",
       "      <td>134.593184</td>\n",
       "      <td>133.208466</td>\n",
       "      <td>269.186368</td>\n",
       "      <td>266.416932</td>\n",
       "    </tr>\n",
       "    <tr>\n",
       "      <th>10</th>\n",
       "      <td>204.799021</td>\n",
       "      <td>-0.308871</td>\n",
       "      <td>1234</td>\n",
       "      <td>204.490150</td>\n",
       "      <td>205.107892</td>\n",
       "      <td>408.980300</td>\n",
       "      <td>410.215785</td>\n",
       "    </tr>\n",
       "    <tr>\n",
       "      <th>11</th>\n",
       "      <td>430.020288</td>\n",
       "      <td>0.482720</td>\n",
       "      <td>1234</td>\n",
       "      <td>430.503008</td>\n",
       "      <td>429.537568</td>\n",
       "      <td>861.006017</td>\n",
       "      <td>859.075136</td>\n",
       "    </tr>\n",
       "    <tr>\n",
       "      <th>12</th>\n",
       "      <td>36.606955</td>\n",
       "      <td>-0.673826</td>\n",
       "      <td>1234</td>\n",
       "      <td>35.933129</td>\n",
       "      <td>37.280781</td>\n",
       "      <td>71.866259</td>\n",
       "      <td>74.561562</td>\n",
       "    </tr>\n",
       "    <tr>\n",
       "      <th>13</th>\n",
       "      <td>312.510054</td>\n",
       "      <td>-0.708095</td>\n",
       "      <td>1234</td>\n",
       "      <td>311.801959</td>\n",
       "      <td>313.218150</td>\n",
       "      <td>623.603918</td>\n",
       "      <td>626.436299</td>\n",
       "    </tr>\n",
       "    <tr>\n",
       "      <th>14</th>\n",
       "      <td>517.145960</td>\n",
       "      <td>0.181975</td>\n",
       "      <td>1234</td>\n",
       "      <td>517.327935</td>\n",
       "      <td>516.963985</td>\n",
       "      <td>1034.655869</td>\n",
       "      <td>1033.927971</td>\n",
       "    </tr>\n",
       "  </tbody>\n",
       "</table>\n",
       "</div>"
      ],
      "text/plain": [
       "             a         b     g           c           d            e   \n",
       "5    95.322121  0.564880  1234   95.887002   94.757241   191.774004  \\\n",
       "6   758.467395 -0.474059  1234  757.993336  758.941454  1515.986673   \n",
       "7   166.168170 -0.710272  1234  165.457898  166.878443   330.915796   \n",
       "8    70.489840 -0.226139  1234   70.263702   70.715979   140.527404   \n",
       "9   133.900825  0.692359  1234  134.593184  133.208466   269.186368   \n",
       "10  204.799021 -0.308871  1234  204.490150  205.107892   408.980300   \n",
       "11  430.020288  0.482720  1234  430.503008  429.537568   861.006017   \n",
       "12   36.606955 -0.673826  1234   35.933129   37.280781    71.866259   \n",
       "13  312.510054 -0.708095  1234  311.801959  313.218150   623.603918   \n",
       "14  517.145960  0.181975  1234  517.327935  516.963985  1034.655869   \n",
       "\n",
       "              f  \n",
       "5    189.514482  \n",
       "6   1517.882908  \n",
       "7    333.756885  \n",
       "8    141.431958  \n",
       "9    266.416932  \n",
       "10   410.215785  \n",
       "11   859.075136  \n",
       "12    74.561562  \n",
       "13   626.436299  \n",
       "14  1033.927971  "
      ]
     },
     "execution_count": 10,
     "metadata": {},
     "output_type": "execute_result"
    }
   ],
   "source": [
    "from xopt.vocs import form_objective_data, form_constraint_data, form_feasibility_data\n",
    "import pandas as pd\n",
    "import numpy as np\n",
    "\n",
    "data = pd.DataFrame(vocs.random_inputs(10))\n",
    "# Add some outputs\n",
    "data[\"c\"] = data[\"a\"] + data[\"b\"]\n",
    "data[\"d\"] = data[\"a\"] - data[\"b\"]\n",
    "data[\"e\"] = data[\"a\"] * 2 + data[\"b\"] * 2\n",
    "data[\"f\"] = data[\"a\"] * 2 - data[\"b\"] * 2\n",
    "data.index = np.arange(len(data)) + 5  # custom index\n",
    "data"
   ]
  },
  {
   "cell_type": "code",
   "execution_count": 11,
   "id": "a695dc98",
   "metadata": {
    "execution": {
     "iopub.execute_input": "2023-05-24T21:05:47.225171Z",
     "iopub.status.busy": "2023-05-24T21:05:47.224767Z",
     "iopub.status.idle": "2023-05-24T21:05:47.228682Z",
     "shell.execute_reply": "2023-05-24T21:05:47.228068Z"
    },
    "pycharm": {
     "name": "#%%\n"
    }
   },
   "outputs": [
    {
     "data": {
      "text/plain": [
       "{'c': 'MAXIMIZE', 'd': 'MINIMIZE'}"
      ]
     },
     "execution_count": 11,
     "metadata": {},
     "output_type": "execute_result"
    }
   ],
   "source": [
    "vocs.objectives"
   ]
  },
  {
   "cell_type": "code",
   "execution_count": 12,
   "id": "43051b71",
   "metadata": {
    "execution": {
     "iopub.execute_input": "2023-05-24T21:05:47.231892Z",
     "iopub.status.busy": "2023-05-24T21:05:47.231498Z",
     "iopub.status.idle": "2023-05-24T21:05:47.239592Z",
     "shell.execute_reply": "2023-05-24T21:05:47.238970Z"
    },
    "pycharm": {
     "name": "#%%\n"
    }
   },
   "outputs": [
    {
     "data": {
      "text/html": [
       "<div>\n",
       "<style scoped>\n",
       "    .dataframe tbody tr th:only-of-type {\n",
       "        vertical-align: middle;\n",
       "    }\n",
       "\n",
       "    .dataframe tbody tr th {\n",
       "        vertical-align: top;\n",
       "    }\n",
       "\n",
       "    .dataframe thead th {\n",
       "        text-align: right;\n",
       "    }\n",
       "</style>\n",
       "<table border=\"1\" class=\"dataframe\">\n",
       "  <thead>\n",
       "    <tr style=\"text-align: right;\">\n",
       "      <th></th>\n",
       "      <th>objective_c</th>\n",
       "      <th>objective_d</th>\n",
       "    </tr>\n",
       "  </thead>\n",
       "  <tbody>\n",
       "    <tr>\n",
       "      <th>5</th>\n",
       "      <td>-95.887002</td>\n",
       "      <td>94.757241</td>\n",
       "    </tr>\n",
       "    <tr>\n",
       "      <th>6</th>\n",
       "      <td>-757.993336</td>\n",
       "      <td>758.941454</td>\n",
       "    </tr>\n",
       "    <tr>\n",
       "      <th>7</th>\n",
       "      <td>-165.457898</td>\n",
       "      <td>166.878443</td>\n",
       "    </tr>\n",
       "    <tr>\n",
       "      <th>8</th>\n",
       "      <td>-70.263702</td>\n",
       "      <td>70.715979</td>\n",
       "    </tr>\n",
       "    <tr>\n",
       "      <th>9</th>\n",
       "      <td>-134.593184</td>\n",
       "      <td>133.208466</td>\n",
       "    </tr>\n",
       "    <tr>\n",
       "      <th>10</th>\n",
       "      <td>-204.490150</td>\n",
       "      <td>205.107892</td>\n",
       "    </tr>\n",
       "    <tr>\n",
       "      <th>11</th>\n",
       "      <td>-430.503008</td>\n",
       "      <td>429.537568</td>\n",
       "    </tr>\n",
       "    <tr>\n",
       "      <th>12</th>\n",
       "      <td>-35.933129</td>\n",
       "      <td>37.280781</td>\n",
       "    </tr>\n",
       "    <tr>\n",
       "      <th>13</th>\n",
       "      <td>-311.801959</td>\n",
       "      <td>313.218150</td>\n",
       "    </tr>\n",
       "    <tr>\n",
       "      <th>14</th>\n",
       "      <td>-517.327935</td>\n",
       "      <td>516.963985</td>\n",
       "    </tr>\n",
       "  </tbody>\n",
       "</table>\n",
       "</div>"
      ],
      "text/plain": [
       "    objective_c  objective_d\n",
       "5    -95.887002    94.757241\n",
       "6   -757.993336   758.941454\n",
       "7   -165.457898   166.878443\n",
       "8    -70.263702    70.715979\n",
       "9   -134.593184   133.208466\n",
       "10  -204.490150   205.107892\n",
       "11  -430.503008   429.537568\n",
       "12   -35.933129    37.280781\n",
       "13  -311.801959   313.218150\n",
       "14  -517.327935   516.963985"
      ]
     },
     "execution_count": 12,
     "metadata": {},
     "output_type": "execute_result"
    }
   ],
   "source": [
    "# These are in standard form for minimization\n",
    "form_objective_data(vocs.objectives, data)"
   ]
  },
  {
   "cell_type": "code",
   "execution_count": 13,
   "id": "2ed50815",
   "metadata": {
    "execution": {
     "iopub.execute_input": "2023-05-24T21:05:47.242803Z",
     "iopub.status.busy": "2023-05-24T21:05:47.242400Z",
     "iopub.status.idle": "2023-05-24T21:05:47.250205Z",
     "shell.execute_reply": "2023-05-24T21:05:47.249572Z"
    },
    "pycharm": {
     "name": "#%%\n"
    }
   },
   "outputs": [
    {
     "data": {
      "text/html": [
       "<div>\n",
       "<style scoped>\n",
       "    .dataframe tbody tr th:only-of-type {\n",
       "        vertical-align: middle;\n",
       "    }\n",
       "\n",
       "    .dataframe tbody tr th {\n",
       "        vertical-align: top;\n",
       "    }\n",
       "\n",
       "    .dataframe thead th {\n",
       "        text-align: right;\n",
       "    }\n",
       "</style>\n",
       "<table border=\"1\" class=\"dataframe\">\n",
       "  <thead>\n",
       "    <tr style=\"text-align: right;\">\n",
       "      <th></th>\n",
       "      <th>objective_c</th>\n",
       "      <th>objective_d</th>\n",
       "    </tr>\n",
       "  </thead>\n",
       "  <tbody>\n",
       "    <tr>\n",
       "      <th>5</th>\n",
       "      <td>-95.887002</td>\n",
       "      <td>94.757241</td>\n",
       "    </tr>\n",
       "    <tr>\n",
       "      <th>6</th>\n",
       "      <td>-757.993336</td>\n",
       "      <td>758.941454</td>\n",
       "    </tr>\n",
       "    <tr>\n",
       "      <th>7</th>\n",
       "      <td>-165.457898</td>\n",
       "      <td>166.878443</td>\n",
       "    </tr>\n",
       "    <tr>\n",
       "      <th>8</th>\n",
       "      <td>-70.263702</td>\n",
       "      <td>70.715979</td>\n",
       "    </tr>\n",
       "    <tr>\n",
       "      <th>9</th>\n",
       "      <td>-134.593184</td>\n",
       "      <td>133.208466</td>\n",
       "    </tr>\n",
       "    <tr>\n",
       "      <th>10</th>\n",
       "      <td>-204.490150</td>\n",
       "      <td>205.107892</td>\n",
       "    </tr>\n",
       "    <tr>\n",
       "      <th>11</th>\n",
       "      <td>-430.503008</td>\n",
       "      <td>429.537568</td>\n",
       "    </tr>\n",
       "    <tr>\n",
       "      <th>12</th>\n",
       "      <td>-35.933129</td>\n",
       "      <td>37.280781</td>\n",
       "    </tr>\n",
       "    <tr>\n",
       "      <th>13</th>\n",
       "      <td>-311.801959</td>\n",
       "      <td>313.218150</td>\n",
       "    </tr>\n",
       "    <tr>\n",
       "      <th>14</th>\n",
       "      <td>-517.327935</td>\n",
       "      <td>516.963985</td>\n",
       "    </tr>\n",
       "  </tbody>\n",
       "</table>\n",
       "</div>"
      ],
      "text/plain": [
       "    objective_c  objective_d\n",
       "5    -95.887002    94.757241\n",
       "6   -757.993336   758.941454\n",
       "7   -165.457898   166.878443\n",
       "8    -70.263702    70.715979\n",
       "9   -134.593184   133.208466\n",
       "10  -204.490150   205.107892\n",
       "11  -430.503008   429.537568\n",
       "12   -35.933129    37.280781\n",
       "13  -311.801959   313.218150\n",
       "14  -517.327935   516.963985"
      ]
     },
     "execution_count": 13,
     "metadata": {},
     "output_type": "execute_result"
    }
   ],
   "source": [
    "# This is also available as a method\n",
    "vocs.objective_data(data)"
   ]
  },
  {
   "cell_type": "code",
   "execution_count": 14,
   "id": "9f4275d4",
   "metadata": {
    "execution": {
     "iopub.execute_input": "2023-05-24T21:05:47.253336Z",
     "iopub.status.busy": "2023-05-24T21:05:47.253004Z",
     "iopub.status.idle": "2023-05-24T21:05:47.259139Z",
     "shell.execute_reply": "2023-05-24T21:05:47.258520Z"
    },
    "pycharm": {
     "name": "#%%\n"
    }
   },
   "outputs": [
    {
     "data": {
      "text/plain": [
       "array([[ -95.88700185,   94.75724087],\n",
       "       [-757.99333636,  758.94145394],\n",
       "       [-165.45789792,  166.8784426 ],\n",
       "       [ -70.26370192,   70.71597896],\n",
       "       [-134.59318416,  133.20846586],\n",
       "       [-204.49015004,  205.1078924 ],\n",
       "       [-430.50300842,  429.53756817],\n",
       "       [ -35.93312926,   37.28078107],\n",
       "       [-311.80195912,  313.21814972],\n",
       "       [-517.32793458,  516.96398542]])"
      ]
     },
     "execution_count": 14,
     "metadata": {},
     "output_type": "execute_result"
    }
   ],
   "source": [
    "# use the to_numpy() method to convert for low level use.\n",
    "vocs.objective_data(data).to_numpy()"
   ]
  },
  {
   "cell_type": "code",
   "execution_count": 15,
   "id": "29b73df4",
   "metadata": {
    "execution": {
     "iopub.execute_input": "2023-05-24T21:05:47.261816Z",
     "iopub.status.busy": "2023-05-24T21:05:47.261484Z",
     "iopub.status.idle": "2023-05-24T21:05:47.269514Z",
     "shell.execute_reply": "2023-05-24T21:05:47.268878Z"
    },
    "pycharm": {
     "name": "#%%\n"
    }
   },
   "outputs": [
    {
     "data": {
      "text/html": [
       "<div>\n",
       "<style scoped>\n",
       "    .dataframe tbody tr th:only-of-type {\n",
       "        vertical-align: middle;\n",
       "    }\n",
       "\n",
       "    .dataframe tbody tr th {\n",
       "        vertical-align: top;\n",
       "    }\n",
       "\n",
       "    .dataframe thead th {\n",
       "        text-align: right;\n",
       "    }\n",
       "</style>\n",
       "<table border=\"1\" class=\"dataframe\">\n",
       "  <thead>\n",
       "    <tr style=\"text-align: right;\">\n",
       "      <th></th>\n",
       "      <th>constraint_e</th>\n",
       "      <th>constraint_f</th>\n",
       "    </tr>\n",
       "  </thead>\n",
       "  <tbody>\n",
       "    <tr>\n",
       "      <th>5</th>\n",
       "      <td>189.774004</td>\n",
       "      <td>-189.514482</td>\n",
       "    </tr>\n",
       "    <tr>\n",
       "      <th>6</th>\n",
       "      <td>1513.986673</td>\n",
       "      <td>-1517.882908</td>\n",
       "    </tr>\n",
       "    <tr>\n",
       "      <th>7</th>\n",
       "      <td>328.915796</td>\n",
       "      <td>-333.756885</td>\n",
       "    </tr>\n",
       "    <tr>\n",
       "      <th>8</th>\n",
       "      <td>138.527404</td>\n",
       "      <td>-141.431958</td>\n",
       "    </tr>\n",
       "    <tr>\n",
       "      <th>9</th>\n",
       "      <td>267.186368</td>\n",
       "      <td>-266.416932</td>\n",
       "    </tr>\n",
       "    <tr>\n",
       "      <th>10</th>\n",
       "      <td>406.980300</td>\n",
       "      <td>-410.215785</td>\n",
       "    </tr>\n",
       "    <tr>\n",
       "      <th>11</th>\n",
       "      <td>859.006017</td>\n",
       "      <td>-859.075136</td>\n",
       "    </tr>\n",
       "    <tr>\n",
       "      <th>12</th>\n",
       "      <td>69.866259</td>\n",
       "      <td>-74.561562</td>\n",
       "    </tr>\n",
       "    <tr>\n",
       "      <th>13</th>\n",
       "      <td>621.603918</td>\n",
       "      <td>-626.436299</td>\n",
       "    </tr>\n",
       "    <tr>\n",
       "      <th>14</th>\n",
       "      <td>1032.655869</td>\n",
       "      <td>-1033.927971</td>\n",
       "    </tr>\n",
       "  </tbody>\n",
       "</table>\n",
       "</div>"
      ],
      "text/plain": [
       "    constraint_e  constraint_f\n",
       "5     189.774004   -189.514482\n",
       "6    1513.986673  -1517.882908\n",
       "7     328.915796   -333.756885\n",
       "8     138.527404   -141.431958\n",
       "9     267.186368   -266.416932\n",
       "10    406.980300   -410.215785\n",
       "11    859.006017   -859.075136\n",
       "12     69.866259    -74.561562\n",
       "13    621.603918   -626.436299\n",
       "14   1032.655869  -1033.927971"
      ]
     },
     "execution_count": 15,
     "metadata": {},
     "output_type": "execute_result"
    }
   ],
   "source": [
    "vocs.constraint_data(data)"
   ]
  },
  {
   "cell_type": "code",
   "execution_count": 16,
   "id": "e46a5e83",
   "metadata": {
    "execution": {
     "iopub.execute_input": "2023-05-24T21:05:47.272736Z",
     "iopub.status.busy": "2023-05-24T21:05:47.272328Z",
     "iopub.status.idle": "2023-05-24T21:05:47.283130Z",
     "shell.execute_reply": "2023-05-24T21:05:47.282459Z"
    },
    "pycharm": {
     "name": "#%%\n"
    }
   },
   "outputs": [
    {
     "data": {
      "text/html": [
       "<div>\n",
       "<style scoped>\n",
       "    .dataframe tbody tr th:only-of-type {\n",
       "        vertical-align: middle;\n",
       "    }\n",
       "\n",
       "    .dataframe tbody tr th {\n",
       "        vertical-align: top;\n",
       "    }\n",
       "\n",
       "    .dataframe thead th {\n",
       "        text-align: right;\n",
       "    }\n",
       "</style>\n",
       "<table border=\"1\" class=\"dataframe\">\n",
       "  <thead>\n",
       "    <tr style=\"text-align: right;\">\n",
       "      <th></th>\n",
       "      <th>feasible_e</th>\n",
       "      <th>feasible_f</th>\n",
       "      <th>feasible</th>\n",
       "    </tr>\n",
       "  </thead>\n",
       "  <tbody>\n",
       "    <tr>\n",
       "      <th>5</th>\n",
       "      <td>False</td>\n",
       "      <td>True</td>\n",
       "      <td>False</td>\n",
       "    </tr>\n",
       "    <tr>\n",
       "      <th>6</th>\n",
       "      <td>False</td>\n",
       "      <td>True</td>\n",
       "      <td>False</td>\n",
       "    </tr>\n",
       "    <tr>\n",
       "      <th>7</th>\n",
       "      <td>False</td>\n",
       "      <td>True</td>\n",
       "      <td>False</td>\n",
       "    </tr>\n",
       "    <tr>\n",
       "      <th>8</th>\n",
       "      <td>False</td>\n",
       "      <td>True</td>\n",
       "      <td>False</td>\n",
       "    </tr>\n",
       "    <tr>\n",
       "      <th>9</th>\n",
       "      <td>False</td>\n",
       "      <td>True</td>\n",
       "      <td>False</td>\n",
       "    </tr>\n",
       "    <tr>\n",
       "      <th>10</th>\n",
       "      <td>False</td>\n",
       "      <td>True</td>\n",
       "      <td>False</td>\n",
       "    </tr>\n",
       "    <tr>\n",
       "      <th>11</th>\n",
       "      <td>False</td>\n",
       "      <td>True</td>\n",
       "      <td>False</td>\n",
       "    </tr>\n",
       "    <tr>\n",
       "      <th>12</th>\n",
       "      <td>False</td>\n",
       "      <td>True</td>\n",
       "      <td>False</td>\n",
       "    </tr>\n",
       "    <tr>\n",
       "      <th>13</th>\n",
       "      <td>False</td>\n",
       "      <td>True</td>\n",
       "      <td>False</td>\n",
       "    </tr>\n",
       "    <tr>\n",
       "      <th>14</th>\n",
       "      <td>False</td>\n",
       "      <td>True</td>\n",
       "      <td>False</td>\n",
       "    </tr>\n",
       "  </tbody>\n",
       "</table>\n",
       "</div>"
      ],
      "text/plain": [
       "    feasible_e  feasible_f  feasible\n",
       "5        False        True     False\n",
       "6        False        True     False\n",
       "7        False        True     False\n",
       "8        False        True     False\n",
       "9        False        True     False\n",
       "10       False        True     False\n",
       "11       False        True     False\n",
       "12       False        True     False\n",
       "13       False        True     False\n",
       "14       False        True     False"
      ]
     },
     "execution_count": 16,
     "metadata": {},
     "output_type": "execute_result"
    }
   ],
   "source": [
    "vocs.feasibility_data(data)"
   ]
  },
  {
   "cell_type": "markdown",
   "id": "59041be7",
   "metadata": {},
   "source": [
    "# Error handling"
   ]
  },
  {
   "cell_type": "code",
   "execution_count": 17,
   "id": "f9171ede",
   "metadata": {
    "execution": {
     "iopub.execute_input": "2023-05-24T21:05:47.286760Z",
     "iopub.status.busy": "2023-05-24T21:05:47.286403Z",
     "iopub.status.idle": "2023-05-24T21:05:47.291363Z",
     "shell.execute_reply": "2023-05-24T21:05:47.290711Z"
    }
   },
   "outputs": [],
   "source": [
    "Y = \"\"\"\n",
    "variables:\n",
    "  a: [0, 1e3] # Note that 1e3 usually parses as a str with YAML. \n",
    "  b: [-1, 1]\n",
    "objectives:\n",
    "  c: maximize\n",
    "  d: minimize \n",
    "constraints:\n",
    "  e: ['Less_than', 2]\n",
    "  f: ['greater_than', 0]\n",
    "constants:\n",
    "  g: 1234\n",
    "\n",
    "\"\"\"\n",
    "\n",
    "vocs = VOCS.from_yaml(Y)"
   ]
  },
  {
   "cell_type": "code",
   "execution_count": 18,
   "id": "b5513539",
   "metadata": {
    "execution": {
     "iopub.execute_input": "2023-05-24T21:05:47.294095Z",
     "iopub.status.busy": "2023-05-24T21:05:47.293758Z",
     "iopub.status.idle": "2023-05-24T21:05:47.300002Z",
     "shell.execute_reply": "2023-05-24T21:05:47.299524Z"
    }
   },
   "outputs": [
    {
     "data": {
      "text/plain": [
       "0   NaN\n",
       "1   NaN\n",
       "2   NaN\n",
       "Name: b, dtype: float64"
      ]
     },
     "execution_count": 18,
     "metadata": {},
     "output_type": "execute_result"
    }
   ],
   "source": [
    "d = {'a': [1,2,3]}\n",
    "\n",
    "df = pd.DataFrame(d)\n",
    "df2 = pd.DataFrame(df).copy()\n",
    "\n",
    "df2['b'] = np.nan\n",
    "df2['b'] - 1"
   ]
  },
  {
   "cell_type": "code",
   "execution_count": 19,
   "id": "30f3b3b4",
   "metadata": {
    "execution": {
     "iopub.execute_input": "2023-05-24T21:05:47.302729Z",
     "iopub.status.busy": "2023-05-24T21:05:47.302368Z",
     "iopub.status.idle": "2023-05-24T21:05:47.305619Z",
     "shell.execute_reply": "2023-05-24T21:05:47.304974Z"
    }
   },
   "outputs": [],
   "source": [
    "data['a']  = np.nan"
   ]
  },
  {
   "cell_type": "code",
   "execution_count": 20,
   "id": "6393376b",
   "metadata": {
    "execution": {
     "iopub.execute_input": "2023-05-24T21:05:47.308227Z",
     "iopub.status.busy": "2023-05-24T21:05:47.307894Z",
     "iopub.status.idle": "2023-05-24T21:05:47.312194Z",
     "shell.execute_reply": "2023-05-24T21:05:47.311563Z"
    }
   },
   "outputs": [
    {
     "data": {
      "text/plain": [
       "2"
      ]
     },
     "execution_count": 20,
     "metadata": {},
     "output_type": "execute_result"
    }
   ],
   "source": [
    "a = 2\n",
    "def f(x=a):\n",
    "    return x\n",
    "a=99\n",
    "f()"
   ]
  },
  {
   "cell_type": "code",
   "execution_count": 21,
   "id": "cb0ecd74",
   "metadata": {
    "execution": {
     "iopub.execute_input": "2023-05-24T21:05:47.315547Z",
     "iopub.status.busy": "2023-05-24T21:05:47.315068Z",
     "iopub.status.idle": "2023-05-24T21:05:47.321653Z",
     "shell.execute_reply": "2023-05-24T21:05:47.321036Z"
    }
   },
   "outputs": [
    {
     "data": {
      "text/html": [
       "<div>\n",
       "<style scoped>\n",
       "    .dataframe tbody tr th:only-of-type {\n",
       "        vertical-align: middle;\n",
       "    }\n",
       "\n",
       "    .dataframe tbody tr th {\n",
       "        vertical-align: top;\n",
       "    }\n",
       "\n",
       "    .dataframe thead th {\n",
       "        text-align: right;\n",
       "    }\n",
       "</style>\n",
       "<table border=\"1\" class=\"dataframe\">\n",
       "  <thead>\n",
       "    <tr style=\"text-align: right;\">\n",
       "      <th></th>\n",
       "      <th>A</th>\n",
       "    </tr>\n",
       "  </thead>\n",
       "  <tbody>\n",
       "    <tr>\n",
       "      <th>1</th>\n",
       "      <td>6.000000e+66</td>\n",
       "    </tr>\n",
       "    <tr>\n",
       "      <th>2</th>\n",
       "      <td>6.000000e+66</td>\n",
       "    </tr>\n",
       "    <tr>\n",
       "      <th>3</th>\n",
       "      <td>6.000000e+66</td>\n",
       "    </tr>\n",
       "  </tbody>\n",
       "</table>\n",
       "</div>"
      ],
      "text/plain": [
       "              A\n",
       "1  6.000000e+66\n",
       "2  6.000000e+66\n",
       "3  6.000000e+66"
      ]
     },
     "execution_count": 21,
     "metadata": {},
     "output_type": "execute_result"
    }
   ],
   "source": [
    "pd.DataFrame(6e66, index=[1,2,3], columns=['A'])"
   ]
  },
  {
   "cell_type": "code",
   "execution_count": 22,
   "id": "88bb8253",
   "metadata": {
    "execution": {
     "iopub.execute_input": "2023-05-24T21:05:47.324832Z",
     "iopub.status.busy": "2023-05-24T21:05:47.324499Z",
     "iopub.status.idle": "2023-05-24T21:05:47.332661Z",
     "shell.execute_reply": "2023-05-24T21:05:47.332189Z"
    }
   },
   "outputs": [
    {
     "data": {
      "text/html": [
       "<div>\n",
       "<style scoped>\n",
       "    .dataframe tbody tr th:only-of-type {\n",
       "        vertical-align: middle;\n",
       "    }\n",
       "\n",
       "    .dataframe tbody tr th {\n",
       "        vertical-align: top;\n",
       "    }\n",
       "\n",
       "    .dataframe thead th {\n",
       "        text-align: right;\n",
       "    }\n",
       "</style>\n",
       "<table border=\"1\" class=\"dataframe\">\n",
       "  <thead>\n",
       "    <tr style=\"text-align: right;\">\n",
       "      <th></th>\n",
       "      <th>objective_c</th>\n",
       "      <th>objective_d</th>\n",
       "    </tr>\n",
       "  </thead>\n",
       "  <tbody>\n",
       "    <tr>\n",
       "      <th>9</th>\n",
       "      <td>-1.0</td>\n",
       "      <td>inf</td>\n",
       "    </tr>\n",
       "    <tr>\n",
       "      <th>3</th>\n",
       "      <td>-2.0</td>\n",
       "      <td>inf</td>\n",
       "    </tr>\n",
       "    <tr>\n",
       "      <th>4</th>\n",
       "      <td>-3.0</td>\n",
       "      <td>inf</td>\n",
       "    </tr>\n",
       "    <tr>\n",
       "      <th>5</th>\n",
       "      <td>-4.0</td>\n",
       "      <td>inf</td>\n",
       "    </tr>\n",
       "  </tbody>\n",
       "</table>\n",
       "</div>"
      ],
      "text/plain": [
       "   objective_c  objective_d\n",
       "9         -1.0          inf\n",
       "3         -2.0          inf\n",
       "4         -3.0          inf\n",
       "5         -4.0          inf"
      ]
     },
     "execution_count": 22,
     "metadata": {},
     "output_type": "execute_result"
    }
   ],
   "source": [
    "# These are in standard form for minimization\n",
    "\n",
    "data = pd.DataFrame({'c':[1,2,3,4]}, index=[9,3,4,5])\n",
    "\n",
    "form_objective_data(vocs.objectives, data)"
   ]
  }
 ],
 "metadata": {
  "interpreter": {
   "hash": "60703f99bc9a1e465ed9e894ac1e8f256837fa55699b4912a7939def4ae95691"
  },
  "kernelspec": {
   "display_name": "Python 3.9.12 ('devel')",
   "language": "python",
   "name": "python3"
  },
  "language_info": {
   "codemirror_mode": {
    "name": "ipython",
    "version": 3
   },
   "file_extension": ".py",
   "mimetype": "text/x-python",
   "name": "python",
   "nbconvert_exporter": "python",
   "pygments_lexer": "ipython3",
   "version": "3.9.16"
  }
 },
 "nbformat": 4,
 "nbformat_minor": 5
}
