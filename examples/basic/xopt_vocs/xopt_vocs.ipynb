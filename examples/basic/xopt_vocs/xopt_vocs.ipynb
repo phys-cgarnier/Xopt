{
 "cells": [
  {
   "cell_type": "markdown",
   "id": "9700f595",
   "metadata": {
    "pycharm": {
     "name": "#%% md\n"
    }
   },
   "source": [
    "# VOCS data structure \n",
    "\n",
    "Variables, Objectives, Constraints, and other Settings (VOCS) helps define our optimization problems. "
   ]
  },
  {
   "cell_type": "code",
   "execution_count": 1,
   "id": "32324ac0-b299-42ee-a6b9-e112dfaa5a45",
   "metadata": {
    "execution": {
     "iopub.execute_input": "2023-10-27T19:52:02.959472Z",
     "iopub.status.busy": "2023-10-27T19:52:02.958765Z",
     "iopub.status.idle": "2023-10-27T19:52:05.450828Z",
     "shell.execute_reply": "2023-10-27T19:52:05.450066Z"
    },
    "pycharm": {
     "name": "#%%\n"
    }
   },
   "outputs": [],
   "source": [
    "from xopt.vocs import VOCS"
   ]
  },
  {
   "cell_type": "code",
   "execution_count": 2,
   "id": "31a15253-14cd-4547-ab01-09f4b56f5bf5",
   "metadata": {
    "execution": {
     "iopub.execute_input": "2023-10-27T19:52:05.455059Z",
     "iopub.status.busy": "2023-10-27T19:52:05.454362Z",
     "iopub.status.idle": "2023-10-27T19:52:05.463359Z",
     "shell.execute_reply": "2023-10-27T19:52:05.462854Z"
    },
    "pycharm": {
     "name": "#%%\n"
    }
   },
   "outputs": [
    {
     "data": {
      "text/plain": [
       "VOCS(variables={'a': [0.0, 1000.0], 'b': [-1.0, 1.0]}, constraints={'e': ['LESS_THAN', 2.0], 'f': ['GREATER_THAN', 0.0]}, objectives={'c': 'MAXIMIZE', 'd': 'MINIMIZE'}, constants={'g': 1234}, observables=[])"
      ]
     },
     "execution_count": 2,
     "metadata": {},
     "output_type": "execute_result"
    }
   ],
   "source": [
    "Y = \"\"\"\n",
    "variables:\n",
    "  a: [0, 1e3] # Note that 1e3 usually parses as a str with YAML. \n",
    "  b: [-1, 1]\n",
    "objectives:\n",
    "  c: maximize\n",
    "  d: minimize \n",
    "constraints:\n",
    "  e: ['Less_than', 2]\n",
    "  f: ['greater_than', 0]\n",
    "constants:\n",
    "  g: 1234\n",
    "\n",
    "\"\"\"\n",
    "\n",
    "vocs = VOCS.from_yaml(Y)\n",
    "vocs"
   ]
  },
  {
   "cell_type": "code",
   "execution_count": 3,
   "id": "304bcc89",
   "metadata": {
    "execution": {
     "iopub.execute_input": "2023-10-27T19:52:05.466217Z",
     "iopub.status.busy": "2023-10-27T19:52:05.465777Z",
     "iopub.status.idle": "2023-10-27T19:52:05.472219Z",
     "shell.execute_reply": "2023-10-27T19:52:05.471673Z"
    },
    "pycharm": {
     "name": "#%%\n"
    }
   },
   "outputs": [
    {
     "data": {
      "text/plain": [
       "{'variables': {'a': [0.0, 1000.0], 'b': [-1.0, 1.0]},\n",
       " 'constraints': {'e': ['LESS_THAN', 2.0], 'f': ['GREATER_THAN', 0.0]},\n",
       " 'objectives': {'c': 'MAXIMIZE', 'd': 'MINIMIZE'},\n",
       " 'constants': {'g': 1234},\n",
       " 'observables': []}"
      ]
     },
     "execution_count": 3,
     "metadata": {},
     "output_type": "execute_result"
    }
   ],
   "source": [
    "# as dict\n",
    "dict(vocs)"
   ]
  },
  {
   "cell_type": "code",
   "execution_count": 4,
   "id": "b236bfb4",
   "metadata": {
    "execution": {
     "iopub.execute_input": "2023-10-27T19:52:05.475250Z",
     "iopub.status.busy": "2023-10-27T19:52:05.474829Z",
     "iopub.status.idle": "2023-10-27T19:52:05.478940Z",
     "shell.execute_reply": "2023-10-27T19:52:05.478394Z"
    },
    "pycharm": {
     "name": "#%%\n"
    }
   },
   "outputs": [],
   "source": [
    "#  re-parse dict\n",
    "vocs2 = VOCS.from_dict(dict(vocs))"
   ]
  },
  {
   "cell_type": "code",
   "execution_count": 5,
   "id": "76c9a173",
   "metadata": {
    "execution": {
     "iopub.execute_input": "2023-10-27T19:52:05.481613Z",
     "iopub.status.busy": "2023-10-27T19:52:05.481196Z",
     "iopub.status.idle": "2023-10-27T19:52:05.487127Z",
     "shell.execute_reply": "2023-10-27T19:52:05.486575Z"
    },
    "pycharm": {
     "name": "#%%\n"
    }
   },
   "outputs": [
    {
     "data": {
      "text/plain": [
       "True"
      ]
     },
     "execution_count": 5,
     "metadata": {},
     "output_type": "execute_result"
    }
   ],
   "source": [
    "# Check that these are the same\n",
    "vocs2 == vocs"
   ]
  },
  {
   "cell_type": "code",
   "execution_count": 6,
   "id": "6a846f4d",
   "metadata": {
    "execution": {
     "iopub.execute_input": "2023-10-27T19:52:05.489793Z",
     "iopub.status.busy": "2023-10-27T19:52:05.489578Z",
     "iopub.status.idle": "2023-10-27T19:52:05.494272Z",
     "shell.execute_reply": "2023-10-27T19:52:05.493661Z"
    },
    "pycharm": {
     "name": "#%%\n"
    }
   },
   "outputs": [
    {
     "data": {
      "text/plain": [
       "{'a': [0.0, 1000.0], 'b': [-1.0, 1.0]}"
      ]
     },
     "execution_count": 6,
     "metadata": {},
     "output_type": "execute_result"
    }
   ],
   "source": [
    "# This replaces the old vocs[\"variables\"]\n",
    "getattr(vocs, \"variables\")"
   ]
  },
  {
   "cell_type": "code",
   "execution_count": 7,
   "id": "6fa2afc8",
   "metadata": {
    "execution": {
     "iopub.execute_input": "2023-10-27T19:52:05.497093Z",
     "iopub.status.busy": "2023-10-27T19:52:05.496677Z",
     "iopub.status.idle": "2023-10-27T19:52:05.500810Z",
     "shell.execute_reply": "2023-10-27T19:52:05.500168Z"
    },
    "pycharm": {
     "name": "#%%\n"
    }
   },
   "outputs": [
    {
     "data": {
      "text/plain": [
       "True"
      ]
     },
     "execution_count": 7,
     "metadata": {},
     "output_type": "execute_result"
    }
   ],
   "source": [
    "vocs.objectives[\"c\"] == 'MAXIMIZE'"
   ]
  },
  {
   "cell_type": "code",
   "execution_count": 8,
   "id": "713272b7",
   "metadata": {
    "execution": {
     "iopub.execute_input": "2023-10-27T19:52:05.504477Z",
     "iopub.status.busy": "2023-10-27T19:52:05.503953Z",
     "iopub.status.idle": "2023-10-27T19:52:05.509665Z",
     "shell.execute_reply": "2023-10-27T19:52:05.509064Z"
    },
    "pycharm": {
     "name": "#%%\n"
    }
   },
   "outputs": [
    {
     "data": {
      "text/plain": [
       "'{\"variables\":{\"a\":[0.0,1000.0],\"b\":[-1.0,1.0]},\"constraints\":{\"e\":[\"LESS_THAN\",2.0],\"f\":[\"GREATER_THAN\",0.0]},\"objectives\":{\"c\":\"MAXIMIZE\",\"d\":\"MINIMIZE\"},\"constants\":{\"g\":1234},\"observables\":[]}'"
      ]
     },
     "execution_count": 8,
     "metadata": {},
     "output_type": "execute_result"
    }
   ],
   "source": [
    "# json\n",
    "vocs.to_json()"
   ]
  },
  {
   "cell_type": "markdown",
   "id": "11167a85",
   "metadata": {
    "pycharm": {
     "name": "#%% md\n"
    }
   },
   "source": [
    "# Objective Evaluation"
   ]
  },
  {
   "cell_type": "code",
   "execution_count": 9,
   "id": "c4d150be",
   "metadata": {
    "execution": {
     "iopub.execute_input": "2023-10-27T19:52:05.512619Z",
     "iopub.status.busy": "2023-10-27T19:52:05.512089Z",
     "iopub.status.idle": "2023-10-27T19:52:05.531575Z",
     "shell.execute_reply": "2023-10-27T19:52:05.531035Z"
    },
    "pycharm": {
     "name": "#%%\n"
    }
   },
   "outputs": [
    {
     "data": {
      "text/html": [
       "<div>\n",
       "<style scoped>\n",
       "    .dataframe tbody tr th:only-of-type {\n",
       "        vertical-align: middle;\n",
       "    }\n",
       "\n",
       "    .dataframe tbody tr th {\n",
       "        vertical-align: top;\n",
       "    }\n",
       "\n",
       "    .dataframe thead th {\n",
       "        text-align: right;\n",
       "    }\n",
       "</style>\n",
       "<table border=\"1\" class=\"dataframe\">\n",
       "  <thead>\n",
       "    <tr style=\"text-align: right;\">\n",
       "      <th></th>\n",
       "      <th>a</th>\n",
       "      <th>b</th>\n",
       "      <th>g</th>\n",
       "      <th>c</th>\n",
       "      <th>d</th>\n",
       "      <th>e</th>\n",
       "      <th>f</th>\n",
       "    </tr>\n",
       "  </thead>\n",
       "  <tbody>\n",
       "    <tr>\n",
       "      <th>5</th>\n",
       "      <td>373.910394</td>\n",
       "      <td>0.305586</td>\n",
       "      <td>1234</td>\n",
       "      <td>374.215980</td>\n",
       "      <td>373.604808</td>\n",
       "      <td>748.431960</td>\n",
       "      <td>747.209616</td>\n",
       "    </tr>\n",
       "    <tr>\n",
       "      <th>6</th>\n",
       "      <td>308.350207</td>\n",
       "      <td>-0.568020</td>\n",
       "      <td>1234</td>\n",
       "      <td>307.782187</td>\n",
       "      <td>308.918228</td>\n",
       "      <td>615.564374</td>\n",
       "      <td>617.836455</td>\n",
       "    </tr>\n",
       "    <tr>\n",
       "      <th>7</th>\n",
       "      <td>653.852199</td>\n",
       "      <td>-0.684541</td>\n",
       "      <td>1234</td>\n",
       "      <td>653.167658</td>\n",
       "      <td>654.536740</td>\n",
       "      <td>1306.335316</td>\n",
       "      <td>1309.073480</td>\n",
       "    </tr>\n",
       "    <tr>\n",
       "      <th>8</th>\n",
       "      <td>926.952109</td>\n",
       "      <td>-0.417584</td>\n",
       "      <td>1234</td>\n",
       "      <td>926.534525</td>\n",
       "      <td>927.369692</td>\n",
       "      <td>1853.069050</td>\n",
       "      <td>1854.739385</td>\n",
       "    </tr>\n",
       "    <tr>\n",
       "      <th>9</th>\n",
       "      <td>606.207713</td>\n",
       "      <td>0.028116</td>\n",
       "      <td>1234</td>\n",
       "      <td>606.235830</td>\n",
       "      <td>606.179597</td>\n",
       "      <td>1212.471659</td>\n",
       "      <td>1212.359194</td>\n",
       "    </tr>\n",
       "    <tr>\n",
       "      <th>10</th>\n",
       "      <td>200.883160</td>\n",
       "      <td>-0.670089</td>\n",
       "      <td>1234</td>\n",
       "      <td>200.213071</td>\n",
       "      <td>201.553249</td>\n",
       "      <td>400.426142</td>\n",
       "      <td>403.106499</td>\n",
       "    </tr>\n",
       "    <tr>\n",
       "      <th>11</th>\n",
       "      <td>140.600031</td>\n",
       "      <td>-0.382574</td>\n",
       "      <td>1234</td>\n",
       "      <td>140.217457</td>\n",
       "      <td>140.982605</td>\n",
       "      <td>280.434915</td>\n",
       "      <td>281.965209</td>\n",
       "    </tr>\n",
       "    <tr>\n",
       "      <th>12</th>\n",
       "      <td>822.243884</td>\n",
       "      <td>-0.884637</td>\n",
       "      <td>1234</td>\n",
       "      <td>821.359247</td>\n",
       "      <td>823.128522</td>\n",
       "      <td>1642.718494</td>\n",
       "      <td>1646.257043</td>\n",
       "    </tr>\n",
       "    <tr>\n",
       "      <th>13</th>\n",
       "      <td>757.271042</td>\n",
       "      <td>0.565761</td>\n",
       "      <td>1234</td>\n",
       "      <td>757.836803</td>\n",
       "      <td>756.705281</td>\n",
       "      <td>1515.673606</td>\n",
       "      <td>1513.410562</td>\n",
       "    </tr>\n",
       "    <tr>\n",
       "      <th>14</th>\n",
       "      <td>764.992084</td>\n",
       "      <td>-0.721201</td>\n",
       "      <td>1234</td>\n",
       "      <td>764.270883</td>\n",
       "      <td>765.713285</td>\n",
       "      <td>1528.541767</td>\n",
       "      <td>1531.426570</td>\n",
       "    </tr>\n",
       "  </tbody>\n",
       "</table>\n",
       "</div>"
      ],
      "text/plain": [
       "             a         b     g           c           d            e  \\\n",
       "5   373.910394  0.305586  1234  374.215980  373.604808   748.431960   \n",
       "6   308.350207 -0.568020  1234  307.782187  308.918228   615.564374   \n",
       "7   653.852199 -0.684541  1234  653.167658  654.536740  1306.335316   \n",
       "8   926.952109 -0.417584  1234  926.534525  927.369692  1853.069050   \n",
       "9   606.207713  0.028116  1234  606.235830  606.179597  1212.471659   \n",
       "10  200.883160 -0.670089  1234  200.213071  201.553249   400.426142   \n",
       "11  140.600031 -0.382574  1234  140.217457  140.982605   280.434915   \n",
       "12  822.243884 -0.884637  1234  821.359247  823.128522  1642.718494   \n",
       "13  757.271042  0.565761  1234  757.836803  756.705281  1515.673606   \n",
       "14  764.992084 -0.721201  1234  764.270883  765.713285  1528.541767   \n",
       "\n",
       "              f  \n",
       "5    747.209616  \n",
       "6    617.836455  \n",
       "7   1309.073480  \n",
       "8   1854.739385  \n",
       "9   1212.359194  \n",
       "10   403.106499  \n",
       "11   281.965209  \n",
       "12  1646.257043  \n",
       "13  1513.410562  \n",
       "14  1531.426570  "
      ]
     },
     "execution_count": 9,
     "metadata": {},
     "output_type": "execute_result"
    }
   ],
   "source": [
    "from xopt.vocs import form_objective_data, form_constraint_data, form_feasibility_data\n",
    "import pandas as pd\n",
    "import numpy as np\n",
    "\n",
    "data = pd.DataFrame(vocs.random_inputs(10))\n",
    "# Add some outputs\n",
    "data[\"c\"] = data[\"a\"] + data[\"b\"]\n",
    "data[\"d\"] = data[\"a\"] - data[\"b\"]\n",
    "data[\"e\"] = data[\"a\"] * 2 + data[\"b\"] * 2\n",
    "data[\"f\"] = data[\"a\"] * 2 - data[\"b\"] * 2\n",
    "data.index = np.arange(len(data)) + 5  # custom index\n",
    "data"
   ]
  },
  {
   "cell_type": "code",
   "execution_count": 10,
   "id": "a695dc98",
   "metadata": {
    "execution": {
     "iopub.execute_input": "2023-10-27T19:52:05.534640Z",
     "iopub.status.busy": "2023-10-27T19:52:05.534091Z",
     "iopub.status.idle": "2023-10-27T19:52:05.540086Z",
     "shell.execute_reply": "2023-10-27T19:52:05.539520Z"
    },
    "pycharm": {
     "name": "#%%\n"
    }
   },
   "outputs": [
    {
     "data": {
      "text/plain": [
       "{'c': 'MAXIMIZE', 'd': 'MINIMIZE'}"
      ]
     },
     "execution_count": 10,
     "metadata": {},
     "output_type": "execute_result"
    }
   ],
   "source": [
    "vocs.objectives"
   ]
  },
  {
   "cell_type": "code",
   "execution_count": 11,
   "id": "43051b71",
   "metadata": {
    "execution": {
     "iopub.execute_input": "2023-10-27T19:52:05.543843Z",
     "iopub.status.busy": "2023-10-27T19:52:05.542598Z",
     "iopub.status.idle": "2023-10-27T19:52:05.553093Z",
     "shell.execute_reply": "2023-10-27T19:52:05.552540Z"
    },
    "pycharm": {
     "name": "#%%\n"
    }
   },
   "outputs": [
    {
     "data": {
      "text/html": [
       "<div>\n",
       "<style scoped>\n",
       "    .dataframe tbody tr th:only-of-type {\n",
       "        vertical-align: middle;\n",
       "    }\n",
       "\n",
       "    .dataframe tbody tr th {\n",
       "        vertical-align: top;\n",
       "    }\n",
       "\n",
       "    .dataframe thead th {\n",
       "        text-align: right;\n",
       "    }\n",
       "</style>\n",
       "<table border=\"1\" class=\"dataframe\">\n",
       "  <thead>\n",
       "    <tr style=\"text-align: right;\">\n",
       "      <th></th>\n",
       "      <th>objective_c</th>\n",
       "      <th>objective_d</th>\n",
       "    </tr>\n",
       "  </thead>\n",
       "  <tbody>\n",
       "    <tr>\n",
       "      <th>5</th>\n",
       "      <td>-374.215980</td>\n",
       "      <td>373.604808</td>\n",
       "    </tr>\n",
       "    <tr>\n",
       "      <th>6</th>\n",
       "      <td>-307.782187</td>\n",
       "      <td>308.918228</td>\n",
       "    </tr>\n",
       "    <tr>\n",
       "      <th>7</th>\n",
       "      <td>-653.167658</td>\n",
       "      <td>654.536740</td>\n",
       "    </tr>\n",
       "    <tr>\n",
       "      <th>8</th>\n",
       "      <td>-926.534525</td>\n",
       "      <td>927.369692</td>\n",
       "    </tr>\n",
       "    <tr>\n",
       "      <th>9</th>\n",
       "      <td>-606.235830</td>\n",
       "      <td>606.179597</td>\n",
       "    </tr>\n",
       "    <tr>\n",
       "      <th>10</th>\n",
       "      <td>-200.213071</td>\n",
       "      <td>201.553249</td>\n",
       "    </tr>\n",
       "    <tr>\n",
       "      <th>11</th>\n",
       "      <td>-140.217457</td>\n",
       "      <td>140.982605</td>\n",
       "    </tr>\n",
       "    <tr>\n",
       "      <th>12</th>\n",
       "      <td>-821.359247</td>\n",
       "      <td>823.128522</td>\n",
       "    </tr>\n",
       "    <tr>\n",
       "      <th>13</th>\n",
       "      <td>-757.836803</td>\n",
       "      <td>756.705281</td>\n",
       "    </tr>\n",
       "    <tr>\n",
       "      <th>14</th>\n",
       "      <td>-764.270883</td>\n",
       "      <td>765.713285</td>\n",
       "    </tr>\n",
       "  </tbody>\n",
       "</table>\n",
       "</div>"
      ],
      "text/plain": [
       "    objective_c  objective_d\n",
       "5   -374.215980   373.604808\n",
       "6   -307.782187   308.918228\n",
       "7   -653.167658   654.536740\n",
       "8   -926.534525   927.369692\n",
       "9   -606.235830   606.179597\n",
       "10  -200.213071   201.553249\n",
       "11  -140.217457   140.982605\n",
       "12  -821.359247   823.128522\n",
       "13  -757.836803   756.705281\n",
       "14  -764.270883   765.713285"
      ]
     },
     "execution_count": 11,
     "metadata": {},
     "output_type": "execute_result"
    }
   ],
   "source": [
    "# These are in standard form for minimization\n",
    "form_objective_data(vocs.objectives, data)"
   ]
  },
  {
   "cell_type": "code",
   "execution_count": 12,
   "id": "2ed50815",
   "metadata": {
    "execution": {
     "iopub.execute_input": "2023-10-27T19:52:05.556094Z",
     "iopub.status.busy": "2023-10-27T19:52:05.555573Z",
     "iopub.status.idle": "2023-10-27T19:52:05.565611Z",
     "shell.execute_reply": "2023-10-27T19:52:05.565058Z"
    },
    "pycharm": {
     "name": "#%%\n"
    }
   },
   "outputs": [
    {
     "data": {
      "text/html": [
       "<div>\n",
       "<style scoped>\n",
       "    .dataframe tbody tr th:only-of-type {\n",
       "        vertical-align: middle;\n",
       "    }\n",
       "\n",
       "    .dataframe tbody tr th {\n",
       "        vertical-align: top;\n",
       "    }\n",
       "\n",
       "    .dataframe thead th {\n",
       "        text-align: right;\n",
       "    }\n",
       "</style>\n",
       "<table border=\"1\" class=\"dataframe\">\n",
       "  <thead>\n",
       "    <tr style=\"text-align: right;\">\n",
       "      <th></th>\n",
       "      <th>objective_c</th>\n",
       "      <th>objective_d</th>\n",
       "    </tr>\n",
       "  </thead>\n",
       "  <tbody>\n",
       "    <tr>\n",
       "      <th>5</th>\n",
       "      <td>-374.215980</td>\n",
       "      <td>373.604808</td>\n",
       "    </tr>\n",
       "    <tr>\n",
       "      <th>6</th>\n",
       "      <td>-307.782187</td>\n",
       "      <td>308.918228</td>\n",
       "    </tr>\n",
       "    <tr>\n",
       "      <th>7</th>\n",
       "      <td>-653.167658</td>\n",
       "      <td>654.536740</td>\n",
       "    </tr>\n",
       "    <tr>\n",
       "      <th>8</th>\n",
       "      <td>-926.534525</td>\n",
       "      <td>927.369692</td>\n",
       "    </tr>\n",
       "    <tr>\n",
       "      <th>9</th>\n",
       "      <td>-606.235830</td>\n",
       "      <td>606.179597</td>\n",
       "    </tr>\n",
       "    <tr>\n",
       "      <th>10</th>\n",
       "      <td>-200.213071</td>\n",
       "      <td>201.553249</td>\n",
       "    </tr>\n",
       "    <tr>\n",
       "      <th>11</th>\n",
       "      <td>-140.217457</td>\n",
       "      <td>140.982605</td>\n",
       "    </tr>\n",
       "    <tr>\n",
       "      <th>12</th>\n",
       "      <td>-821.359247</td>\n",
       "      <td>823.128522</td>\n",
       "    </tr>\n",
       "    <tr>\n",
       "      <th>13</th>\n",
       "      <td>-757.836803</td>\n",
       "      <td>756.705281</td>\n",
       "    </tr>\n",
       "    <tr>\n",
       "      <th>14</th>\n",
       "      <td>-764.270883</td>\n",
       "      <td>765.713285</td>\n",
       "    </tr>\n",
       "  </tbody>\n",
       "</table>\n",
       "</div>"
      ],
      "text/plain": [
       "    objective_c  objective_d\n",
       "5   -374.215980   373.604808\n",
       "6   -307.782187   308.918228\n",
       "7   -653.167658   654.536740\n",
       "8   -926.534525   927.369692\n",
       "9   -606.235830   606.179597\n",
       "10  -200.213071   201.553249\n",
       "11  -140.217457   140.982605\n",
       "12  -821.359247   823.128522\n",
       "13  -757.836803   756.705281\n",
       "14  -764.270883   765.713285"
      ]
     },
     "execution_count": 12,
     "metadata": {},
     "output_type": "execute_result"
    }
   ],
   "source": [
    "# This is also available as a method\n",
    "vocs.objective_data(data)"
   ]
  },
  {
   "cell_type": "code",
   "execution_count": 13,
   "id": "9f4275d4",
   "metadata": {
    "execution": {
     "iopub.execute_input": "2023-10-27T19:52:05.569392Z",
     "iopub.status.busy": "2023-10-27T19:52:05.568126Z",
     "iopub.status.idle": "2023-10-27T19:52:05.576375Z",
     "shell.execute_reply": "2023-10-27T19:52:05.575796Z"
    },
    "pycharm": {
     "name": "#%%\n"
    }
   },
   "outputs": [
    {
     "data": {
      "text/plain": [
       "array([[-374.21598024,  373.60480812],\n",
       "       [-307.78218685,  308.91822765],\n",
       "       [-653.16765788,  654.53674007],\n",
       "       [-926.53452501,  927.36969243],\n",
       "       [-606.23582953,  606.17959687],\n",
       "       [-200.2130709 ,  201.55324937],\n",
       "       [-140.21745728,  140.98260458],\n",
       "       [-821.35924703,  823.1285216 ],\n",
       "       [-757.83680309,  756.70528117],\n",
       "       [-764.27088344,  765.71328487]])"
      ]
     },
     "execution_count": 13,
     "metadata": {},
     "output_type": "execute_result"
    }
   ],
   "source": [
    "# use the to_numpy() method to convert for low level use.\n",
    "vocs.objective_data(data).to_numpy()"
   ]
  },
  {
   "cell_type": "code",
   "execution_count": 14,
   "id": "29b73df4",
   "metadata": {
    "execution": {
     "iopub.execute_input": "2023-10-27T19:52:05.579496Z",
     "iopub.status.busy": "2023-10-27T19:52:05.578957Z",
     "iopub.status.idle": "2023-10-27T19:52:05.589557Z",
     "shell.execute_reply": "2023-10-27T19:52:05.588993Z"
    },
    "pycharm": {
     "name": "#%%\n"
    }
   },
   "outputs": [
    {
     "data": {
      "text/html": [
       "<div>\n",
       "<style scoped>\n",
       "    .dataframe tbody tr th:only-of-type {\n",
       "        vertical-align: middle;\n",
       "    }\n",
       "\n",
       "    .dataframe tbody tr th {\n",
       "        vertical-align: top;\n",
       "    }\n",
       "\n",
       "    .dataframe thead th {\n",
       "        text-align: right;\n",
       "    }\n",
       "</style>\n",
       "<table border=\"1\" class=\"dataframe\">\n",
       "  <thead>\n",
       "    <tr style=\"text-align: right;\">\n",
       "      <th></th>\n",
       "      <th>constraint_e</th>\n",
       "      <th>constraint_f</th>\n",
       "    </tr>\n",
       "  </thead>\n",
       "  <tbody>\n",
       "    <tr>\n",
       "      <th>5</th>\n",
       "      <td>746.431960</td>\n",
       "      <td>-747.209616</td>\n",
       "    </tr>\n",
       "    <tr>\n",
       "      <th>6</th>\n",
       "      <td>613.564374</td>\n",
       "      <td>-617.836455</td>\n",
       "    </tr>\n",
       "    <tr>\n",
       "      <th>7</th>\n",
       "      <td>1304.335316</td>\n",
       "      <td>-1309.073480</td>\n",
       "    </tr>\n",
       "    <tr>\n",
       "      <th>8</th>\n",
       "      <td>1851.069050</td>\n",
       "      <td>-1854.739385</td>\n",
       "    </tr>\n",
       "    <tr>\n",
       "      <th>9</th>\n",
       "      <td>1210.471659</td>\n",
       "      <td>-1212.359194</td>\n",
       "    </tr>\n",
       "    <tr>\n",
       "      <th>10</th>\n",
       "      <td>398.426142</td>\n",
       "      <td>-403.106499</td>\n",
       "    </tr>\n",
       "    <tr>\n",
       "      <th>11</th>\n",
       "      <td>278.434915</td>\n",
       "      <td>-281.965209</td>\n",
       "    </tr>\n",
       "    <tr>\n",
       "      <th>12</th>\n",
       "      <td>1640.718494</td>\n",
       "      <td>-1646.257043</td>\n",
       "    </tr>\n",
       "    <tr>\n",
       "      <th>13</th>\n",
       "      <td>1513.673606</td>\n",
       "      <td>-1513.410562</td>\n",
       "    </tr>\n",
       "    <tr>\n",
       "      <th>14</th>\n",
       "      <td>1526.541767</td>\n",
       "      <td>-1531.426570</td>\n",
       "    </tr>\n",
       "  </tbody>\n",
       "</table>\n",
       "</div>"
      ],
      "text/plain": [
       "    constraint_e  constraint_f\n",
       "5     746.431960   -747.209616\n",
       "6     613.564374   -617.836455\n",
       "7    1304.335316  -1309.073480\n",
       "8    1851.069050  -1854.739385\n",
       "9    1210.471659  -1212.359194\n",
       "10    398.426142   -403.106499\n",
       "11    278.434915   -281.965209\n",
       "12   1640.718494  -1646.257043\n",
       "13   1513.673606  -1513.410562\n",
       "14   1526.541767  -1531.426570"
      ]
     },
     "execution_count": 14,
     "metadata": {},
     "output_type": "execute_result"
    }
   ],
   "source": [
    "vocs.constraint_data(data)"
   ]
  },
  {
   "cell_type": "code",
   "execution_count": 15,
   "id": "e46a5e83",
   "metadata": {
    "execution": {
     "iopub.execute_input": "2023-10-27T19:52:05.592486Z",
     "iopub.status.busy": "2023-10-27T19:52:05.592056Z",
     "iopub.status.idle": "2023-10-27T19:52:05.603793Z",
     "shell.execute_reply": "2023-10-27T19:52:05.603257Z"
    },
    "pycharm": {
     "name": "#%%\n"
    }
   },
   "outputs": [
    {
     "data": {
      "text/html": [
       "<div>\n",
       "<style scoped>\n",
       "    .dataframe tbody tr th:only-of-type {\n",
       "        vertical-align: middle;\n",
       "    }\n",
       "\n",
       "    .dataframe tbody tr th {\n",
       "        vertical-align: top;\n",
       "    }\n",
       "\n",
       "    .dataframe thead th {\n",
       "        text-align: right;\n",
       "    }\n",
       "</style>\n",
       "<table border=\"1\" class=\"dataframe\">\n",
       "  <thead>\n",
       "    <tr style=\"text-align: right;\">\n",
       "      <th></th>\n",
       "      <th>feasible_e</th>\n",
       "      <th>feasible_f</th>\n",
       "      <th>feasible</th>\n",
       "    </tr>\n",
       "  </thead>\n",
       "  <tbody>\n",
       "    <tr>\n",
       "      <th>5</th>\n",
       "      <td>False</td>\n",
       "      <td>True</td>\n",
       "      <td>False</td>\n",
       "    </tr>\n",
       "    <tr>\n",
       "      <th>6</th>\n",
       "      <td>False</td>\n",
       "      <td>True</td>\n",
       "      <td>False</td>\n",
       "    </tr>\n",
       "    <tr>\n",
       "      <th>7</th>\n",
       "      <td>False</td>\n",
       "      <td>True</td>\n",
       "      <td>False</td>\n",
       "    </tr>\n",
       "    <tr>\n",
       "      <th>8</th>\n",
       "      <td>False</td>\n",
       "      <td>True</td>\n",
       "      <td>False</td>\n",
       "    </tr>\n",
       "    <tr>\n",
       "      <th>9</th>\n",
       "      <td>False</td>\n",
       "      <td>True</td>\n",
       "      <td>False</td>\n",
       "    </tr>\n",
       "    <tr>\n",
       "      <th>10</th>\n",
       "      <td>False</td>\n",
       "      <td>True</td>\n",
       "      <td>False</td>\n",
       "    </tr>\n",
       "    <tr>\n",
       "      <th>11</th>\n",
       "      <td>False</td>\n",
       "      <td>True</td>\n",
       "      <td>False</td>\n",
       "    </tr>\n",
       "    <tr>\n",
       "      <th>12</th>\n",
       "      <td>False</td>\n",
       "      <td>True</td>\n",
       "      <td>False</td>\n",
       "    </tr>\n",
       "    <tr>\n",
       "      <th>13</th>\n",
       "      <td>False</td>\n",
       "      <td>True</td>\n",
       "      <td>False</td>\n",
       "    </tr>\n",
       "    <tr>\n",
       "      <th>14</th>\n",
       "      <td>False</td>\n",
       "      <td>True</td>\n",
       "      <td>False</td>\n",
       "    </tr>\n",
       "  </tbody>\n",
       "</table>\n",
       "</div>"
      ],
      "text/plain": [
       "    feasible_e  feasible_f  feasible\n",
       "5        False        True     False\n",
       "6        False        True     False\n",
       "7        False        True     False\n",
       "8        False        True     False\n",
       "9        False        True     False\n",
       "10       False        True     False\n",
       "11       False        True     False\n",
       "12       False        True     False\n",
       "13       False        True     False\n",
       "14       False        True     False"
      ]
     },
     "execution_count": 15,
     "metadata": {},
     "output_type": "execute_result"
    }
   ],
   "source": [
    "vocs.feasibility_data(data)"
   ]
  },
  {
   "cell_type": "markdown",
   "id": "59041be7",
   "metadata": {},
   "source": [
    "# Error handling"
   ]
  },
  {
   "cell_type": "code",
   "execution_count": 16,
   "id": "f9171ede",
   "metadata": {
    "execution": {
     "iopub.execute_input": "2023-10-27T19:52:05.606823Z",
     "iopub.status.busy": "2023-10-27T19:52:05.606398Z",
     "iopub.status.idle": "2023-10-27T19:52:05.612631Z",
     "shell.execute_reply": "2023-10-27T19:52:05.612066Z"
    }
   },
   "outputs": [],
   "source": [
    "Y = \"\"\"\n",
    "variables:\n",
    "  a: [0, 1e3] # Note that 1e3 usually parses as a str with YAML. \n",
    "  b: [-1, 1]\n",
    "objectives:\n",
    "  c: maximize\n",
    "  d: minimize \n",
    "constraints:\n",
    "  e: ['Less_than', 2]\n",
    "  f: ['greater_than', 0]\n",
    "constants:\n",
    "  g: 1234\n",
    "\n",
    "\"\"\"\n",
    "\n",
    "vocs = VOCS.from_yaml(Y)"
   ]
  },
  {
   "cell_type": "code",
   "execution_count": 17,
   "id": "b5513539",
   "metadata": {
    "execution": {
     "iopub.execute_input": "2023-10-27T19:52:05.615495Z",
     "iopub.status.busy": "2023-10-27T19:52:05.615074Z",
     "iopub.status.idle": "2023-10-27T19:52:05.623434Z",
     "shell.execute_reply": "2023-10-27T19:52:05.622894Z"
    }
   },
   "outputs": [
    {
     "data": {
      "text/plain": [
       "0   NaN\n",
       "1   NaN\n",
       "2   NaN\n",
       "Name: b, dtype: float64"
      ]
     },
     "execution_count": 17,
     "metadata": {},
     "output_type": "execute_result"
    }
   ],
   "source": [
    "d = {'a': [1,2,3]}\n",
    "\n",
    "df = pd.DataFrame(d)\n",
    "df2 = pd.DataFrame(df).copy()\n",
    "\n",
    "df2['b'] = np.nan\n",
    "df2['b'] - 1"
   ]
  },
  {
   "cell_type": "code",
   "execution_count": 18,
   "id": "30f3b3b4",
   "metadata": {
    "execution": {
     "iopub.execute_input": "2023-10-27T19:52:05.626143Z",
     "iopub.status.busy": "2023-10-27T19:52:05.625723Z",
     "iopub.status.idle": "2023-10-27T19:52:05.629685Z",
     "shell.execute_reply": "2023-10-27T19:52:05.629079Z"
    }
   },
   "outputs": [],
   "source": [
    "data['a']  = np.nan"
   ]
  },
  {
   "cell_type": "code",
   "execution_count": 19,
   "id": "6393376b",
   "metadata": {
    "execution": {
     "iopub.execute_input": "2023-10-27T19:52:05.632429Z",
     "iopub.status.busy": "2023-10-27T19:52:05.631988Z",
     "iopub.status.idle": "2023-10-27T19:52:05.636092Z",
     "shell.execute_reply": "2023-10-27T19:52:05.635609Z"
    }
   },
   "outputs": [
    {
     "data": {
      "text/plain": [
       "2"
      ]
     },
     "execution_count": 19,
     "metadata": {},
     "output_type": "execute_result"
    }
   ],
   "source": [
    "a = 2\n",
    "def f(x=a):\n",
    "    return x\n",
    "a=99\n",
    "f()"
   ]
  },
  {
   "cell_type": "code",
   "execution_count": 20,
   "id": "cb0ecd74",
   "metadata": {
    "execution": {
     "iopub.execute_input": "2023-10-27T19:52:05.638900Z",
     "iopub.status.busy": "2023-10-27T19:52:05.638478Z",
     "iopub.status.idle": "2023-10-27T19:52:05.644989Z",
     "shell.execute_reply": "2023-10-27T19:52:05.644500Z"
    }
   },
   "outputs": [
    {
     "data": {
      "text/html": [
       "<div>\n",
       "<style scoped>\n",
       "    .dataframe tbody tr th:only-of-type {\n",
       "        vertical-align: middle;\n",
       "    }\n",
       "\n",
       "    .dataframe tbody tr th {\n",
       "        vertical-align: top;\n",
       "    }\n",
       "\n",
       "    .dataframe thead th {\n",
       "        text-align: right;\n",
       "    }\n",
       "</style>\n",
       "<table border=\"1\" class=\"dataframe\">\n",
       "  <thead>\n",
       "    <tr style=\"text-align: right;\">\n",
       "      <th></th>\n",
       "      <th>A</th>\n",
       "    </tr>\n",
       "  </thead>\n",
       "  <tbody>\n",
       "    <tr>\n",
       "      <th>1</th>\n",
       "      <td>6.000000e+66</td>\n",
       "    </tr>\n",
       "    <tr>\n",
       "      <th>2</th>\n",
       "      <td>6.000000e+66</td>\n",
       "    </tr>\n",
       "    <tr>\n",
       "      <th>3</th>\n",
       "      <td>6.000000e+66</td>\n",
       "    </tr>\n",
       "  </tbody>\n",
       "</table>\n",
       "</div>"
      ],
      "text/plain": [
       "              A\n",
       "1  6.000000e+66\n",
       "2  6.000000e+66\n",
       "3  6.000000e+66"
      ]
     },
     "execution_count": 20,
     "metadata": {},
     "output_type": "execute_result"
    }
   ],
   "source": [
    "pd.DataFrame(6e66, index=[1,2,3], columns=['A'])"
   ]
  },
  {
   "cell_type": "code",
   "execution_count": 21,
   "id": "88bb8253",
   "metadata": {
    "execution": {
     "iopub.execute_input": "2023-10-27T19:52:05.647811Z",
     "iopub.status.busy": "2023-10-27T19:52:05.647280Z",
     "iopub.status.idle": "2023-10-27T19:52:05.657692Z",
     "shell.execute_reply": "2023-10-27T19:52:05.657080Z"
    }
   },
   "outputs": [
    {
     "data": {
      "text/html": [
       "<div>\n",
       "<style scoped>\n",
       "    .dataframe tbody tr th:only-of-type {\n",
       "        vertical-align: middle;\n",
       "    }\n",
       "\n",
       "    .dataframe tbody tr th {\n",
       "        vertical-align: top;\n",
       "    }\n",
       "\n",
       "    .dataframe thead th {\n",
       "        text-align: right;\n",
       "    }\n",
       "</style>\n",
       "<table border=\"1\" class=\"dataframe\">\n",
       "  <thead>\n",
       "    <tr style=\"text-align: right;\">\n",
       "      <th></th>\n",
       "      <th>objective_c</th>\n",
       "      <th>objective_d</th>\n",
       "    </tr>\n",
       "  </thead>\n",
       "  <tbody>\n",
       "    <tr>\n",
       "      <th>9</th>\n",
       "      <td>-1.0</td>\n",
       "      <td>inf</td>\n",
       "    </tr>\n",
       "    <tr>\n",
       "      <th>3</th>\n",
       "      <td>-2.0</td>\n",
       "      <td>inf</td>\n",
       "    </tr>\n",
       "    <tr>\n",
       "      <th>4</th>\n",
       "      <td>-3.0</td>\n",
       "      <td>inf</td>\n",
       "    </tr>\n",
       "    <tr>\n",
       "      <th>5</th>\n",
       "      <td>-4.0</td>\n",
       "      <td>inf</td>\n",
       "    </tr>\n",
       "  </tbody>\n",
       "</table>\n",
       "</div>"
      ],
      "text/plain": [
       "   objective_c  objective_d\n",
       "9         -1.0          inf\n",
       "3         -2.0          inf\n",
       "4         -3.0          inf\n",
       "5         -4.0          inf"
      ]
     },
     "execution_count": 21,
     "metadata": {},
     "output_type": "execute_result"
    }
   ],
   "source": [
    "# These are in standard form for minimization\n",
    "\n",
    "data = pd.DataFrame({'c':[1,2,3,4]}, index=[9,3,4,5])\n",
    "\n",
    "form_objective_data(vocs.objectives, data)"
   ]
  }
 ],
 "metadata": {
  "interpreter": {
   "hash": "60703f99bc9a1e465ed9e894ac1e8f256837fa55699b4912a7939def4ae95691"
  },
  "kernelspec": {
   "display_name": "Python 3 (ipykernel)",
   "language": "python",
   "name": "python3"
  },
  "language_info": {
   "codemirror_mode": {
    "name": "ipython",
    "version": 3
   },
   "file_extension": ".py",
   "mimetype": "text/x-python",
   "name": "python",
   "nbconvert_exporter": "python",
   "pygments_lexer": "ipython3",
   "version": "3.9.18"
  }
 },
 "nbformat": 4,
 "nbformat_minor": 5
}
