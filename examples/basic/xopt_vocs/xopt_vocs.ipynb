{
 "cells": [
  {
   "cell_type": "markdown",
   "id": "9700f595",
   "metadata": {
    "pycharm": {
     "name": "#%% md\n"
    }
   },
   "source": [
    "# VOCS data structure \n",
    "\n",
    "Variables, Objectives, Constraints, and other Settings (VOCS) helps define our optimization problems. "
   ]
  },
  {
   "cell_type": "code",
   "execution_count": 1,
   "id": "32324ac0-b299-42ee-a6b9-e112dfaa5a45",
   "metadata": {
    "execution": {
     "iopub.execute_input": "2023-05-30T06:01:27.920930Z",
     "iopub.status.busy": "2023-05-30T06:01:27.920704Z",
     "iopub.status.idle": "2023-05-30T06:01:29.242173Z",
     "shell.execute_reply": "2023-05-30T06:01:29.241517Z"
    },
    "pycharm": {
     "name": "#%%\n"
    }
   },
   "outputs": [],
   "source": [
    "from xopt.vocs import VOCS"
   ]
  },
  {
   "cell_type": "code",
   "execution_count": 2,
   "id": "354e92d2",
   "metadata": {
    "execution": {
     "iopub.execute_input": "2023-05-30T06:01:29.245862Z",
     "iopub.status.busy": "2023-05-30T06:01:29.245338Z",
     "iopub.status.idle": "2023-05-30T06:01:29.267527Z",
     "shell.execute_reply": "2023-05-30T06:01:29.266838Z"
    },
    "pycharm": {
     "name": "#%%\n"
    }
   },
   "outputs": [
    {
     "name": "stdout",
     "output_type": "stream",
     "text": [
      "Help on class VOCS in module xopt.vocs:\n",
      "\n",
      "class VOCS(xopt.pydantic.XoptBaseModel)\n",
      " |  VOCS(*, variables: Dict[str, types.ConstrainedListValue] = {}, constraints: Dict[str, types.ConstrainedListValue] = {}, objectives: Dict[str, xopt.vocs.ObjectiveEnum] = {}, constants: Dict[str, Any] = {}, linked_variables: Dict[str, str] = {}) -> None\n",
      " |  \n",
      " |  Variables, Objectives, Constraints, and other Settings (VOCS) data structure\n",
      " |  to describe optimization problems.\n",
      " |  \n",
      " |  Method resolution order:\n",
      " |      VOCS\n",
      " |      xopt.pydantic.XoptBaseModel\n",
      " |      pydantic.main.BaseModel\n",
      " |      pydantic.utils.Representation\n",
      " |      builtins.object\n",
      " |  \n",
      " |  Methods defined here:\n",
      " |  \n",
      " |  as_yaml(self)\n",
      " |  \n",
      " |  constraint_data(self, data: Union[pandas.core.frame.DataFrame, List[Dict]], prefix: str = 'constraint_') -> pandas.core.frame.DataFrame\n",
      " |      Returns a dataframe containing constraint data transformed according to\n",
      " |      `vocs.constraints` such that values that satisfy each constraint are negative.\n",
      " |      \n",
      " |      Args:\n",
      " |          data: data to be processed.\n",
      " |          prefix: prefix added to column names.\n",
      " |      \n",
      " |      Returns:\n",
      " |          result: processed Dataframe\n",
      " |  \n",
      " |  convert_dataframe_to_inputs(self, data: pandas.core.frame.DataFrame) -> pandas.core.frame.DataFrame\n",
      " |      Extracts only inputs from a dataframe.\n",
      " |      This will add constants.\n",
      " |  \n",
      " |  convert_numpy_to_inputs(self, inputs: numpy.ndarray) -> pandas.core.frame.DataFrame\n",
      " |      convert 2D numpy array to list of dicts (inputs) for evaluation\n",
      " |      Assumes that the columns of the array match correspond to\n",
      " |      `sorted(self.vocs.variables.keys())\n",
      " |  \n",
      " |  extract_data(self, data: pandas.core.frame.DataFrame, return_raw=False)\n",
      " |      split dataframe into seperate dataframes for variables, objectives and\n",
      " |      constraints based on vocs - objective data is transformed based on\n",
      " |      `vocs.objectives` properties\n",
      " |      \n",
      " |      Args:\n",
      " |          data: dataframe to be split\n",
      " |          return_raw: if True, return untransformed objective data\n",
      " |      \n",
      " |      Returns:\n",
      " |          variable_data: dataframe containing variable data\n",
      " |          objective_data: dataframe containing objective data\n",
      " |          constraint_data: dataframe containing constraint data\n",
      " |  \n",
      " |  feasibility_data(self, data: Union[pandas.core.frame.DataFrame, List[Dict]], prefix: str = 'feasible_') -> pandas.core.frame.DataFrame\n",
      " |      Returns a dataframe containing booleans denoting if a constraint is satisfied or\n",
      " |      not. Returned dataframe also contains a column `feasibility` which denotes if\n",
      " |      all constraints are satisfied.\n",
      " |      \n",
      " |      Args:\n",
      " |          data: data to be processed.\n",
      " |          prefix: prefix added to column names.\n",
      " |      \n",
      " |      Returns:\n",
      " |          result: processed Dataframe\n",
      " |  \n",
      " |  objective_data(self, data: Union[pandas.core.frame.DataFrame, List[Dict]], prefix: str = 'objective_', return_raw=False) -> pandas.core.frame.DataFrame\n",
      " |      Returns a dataframe containing objective data transformed according to\n",
      " |      `vocs.objectives` such that we always assume minimization.\n",
      " |      \n",
      " |      Args:\n",
      " |          data: data to be processed.\n",
      " |          prefix: prefix added to column names.\n",
      " |      \n",
      " |      Returns:\n",
      " |          result: processed Dataframe\n",
      " |  \n",
      " |  random_inputs(self, n=None, include_constants=True, include_linked_variables=True, seed=None)\n",
      " |      Uniform sampling of the variables.\n",
      " |      \n",
      " |      Returns a dict of inputs.\n",
      " |      \n",
      " |      If include_constants, the vocs.constants are added to the dict.\n",
      " |      \n",
      " |      Optional:\n",
      " |          n (integer) to make arrays of inputs, of size n.\n",
      " |          seed (integer) to initialize the random number generator\n",
      " |  \n",
      " |  validate_input_data(self, input_points: pandas.core.frame.DataFrame) -> None\n",
      " |      Validates input data. Raises an error if the input data does not satisfy\n",
      " |      requirements given by vocs.\n",
      " |      \n",
      " |      Args:\n",
      " |          input_points: input data to be validated.\n",
      " |      \n",
      " |      Returns:\n",
      " |          None\n",
      " |      \n",
      " |      Raises:\n",
      " |          ValueError: if input data does not satisfy requirements.\n",
      " |  \n",
      " |  variable_data(self, data: Union[pandas.core.frame.DataFrame, List[Dict]], prefix: str = 'variable_') -> pandas.core.frame.DataFrame\n",
      " |      Returns a dataframe containing variables according to `vocs.variables` in sorted\n",
      " |      order\n",
      " |      \n",
      " |      Args:\n",
      " |          data: Data to be processed.\n",
      " |          prefix: Prefix added to column names.\n",
      " |      \n",
      " |      Returns:\n",
      " |          result: processed Dataframe\n",
      " |  \n",
      " |  ----------------------------------------------------------------------\n",
      " |  Class methods defined here:\n",
      " |  \n",
      " |  from_yaml(yaml_text) from pydantic.main.ModelMetaclass\n",
      " |  \n",
      " |  ----------------------------------------------------------------------\n",
      " |  Static methods defined here:\n",
      " |  \n",
      " |  __json_encoder__ = pydantic_encoder(obj: Any) -> Any\n",
      " |  \n",
      " |  ----------------------------------------------------------------------\n",
      " |  Readonly properties defined here:\n",
      " |  \n",
      " |  all_names\n",
      " |      Returns all vocs names (variables, constants, objectives, constraints\n",
      " |  \n",
      " |  bounds\n",
      " |      Returns a bounds array (mins, maxs) of shape (2, n_variables)\n",
      " |      Arrays of lower and upper bounds can be extracted by:\n",
      " |          mins, maxs = vocs.bounds\n",
      " |  \n",
      " |  constant_names\n",
      " |      Returns a sorted list of constraint names\n",
      " |  \n",
      " |  constraint_names\n",
      " |      Returns a sorted list of constraint names\n",
      " |  \n",
      " |  n_constants\n",
      " |      Returns the number of constants\n",
      " |  \n",
      " |  n_constraints\n",
      " |      Returns the number of constraints\n",
      " |  \n",
      " |  n_inputs\n",
      " |      Returns the number of inputs (variables and constants)\n",
      " |  \n",
      " |  n_objectives\n",
      " |      Returns the number of objectives\n",
      " |  \n",
      " |  n_outputs\n",
      " |      Returns the number of outputs (objectives and constraints)\n",
      " |  \n",
      " |  n_variables\n",
      " |      Returns the number of variables\n",
      " |  \n",
      " |  objective_names\n",
      " |      Returns a sorted list of objective names\n",
      " |  \n",
      " |  output_names\n",
      " |      Returns a sorted list of objective and constraint names (objectives first\n",
      " |      then constraints)\n",
      " |  \n",
      " |  variable_names\n",
      " |      Returns a sorted list of variable names\n",
      " |  \n",
      " |  ----------------------------------------------------------------------\n",
      " |  Data and other attributes defined here:\n",
      " |  \n",
      " |  Config = <class 'xopt.vocs.VOCS.Config'>\n",
      " |  \n",
      " |  __abstractmethods__ = frozenset()\n",
      " |  \n",
      " |  __annotations__ = {'constants': typing.Dict[str, typing.Any], 'constra...\n",
      " |  \n",
      " |  __class_vars__ = set()\n",
      " |  \n",
      " |  __config__ = <class 'xopt.vocs.Config'>\n",
      " |  \n",
      " |  __custom_root_type__ = False\n",
      " |  \n",
      " |  __exclude_fields__ = None\n",
      " |  \n",
      " |  __fields__ = {'constants': ModelField(name='constants', type=Mapping[s...\n",
      " |  \n",
      " |  __hash__ = None\n",
      " |  \n",
      " |  __include_fields__ = None\n",
      " |  \n",
      " |  __post_root_validators__ = []\n",
      " |  \n",
      " |  __pre_root_validators__ = []\n",
      " |  \n",
      " |  __private_attributes__ = {}\n",
      " |  \n",
      " |  __schema_cache__ = {}\n",
      " |  \n",
      " |  __signature__ = <Signature (*, variables: Dict[str, types.Constr..., l...\n",
      " |  \n",
      " |  __validators__ = {}\n",
      " |  \n",
      " |  ----------------------------------------------------------------------\n",
      " |  Methods inherited from pydantic.main.BaseModel:\n",
      " |  \n",
      " |  __eq__(self, other: Any) -> bool\n",
      " |  \n",
      " |  __getstate__(self) -> 'DictAny'\n",
      " |  \n",
      " |  __init__(__pydantic_self__, **data: Any) -> None\n",
      " |      Create a new model by parsing and validating input data from keyword arguments.\n",
      " |      \n",
      " |      Raises ValidationError if the input data cannot be parsed to form a valid model.\n",
      " |  \n",
      " |  __iter__(self) -> 'TupleGenerator'\n",
      " |      so `dict(model)` works\n",
      " |  \n",
      " |  __repr_args__(self) -> 'ReprArgs'\n",
      " |  \n",
      " |  __setattr__(self, name, value)\n",
      " |  \n",
      " |  __setstate__(self, state: 'DictAny') -> None\n",
      " |  \n",
      " |  copy(self: 'Model', *, include: Union[ForwardRef('AbstractSetIntStr'), ForwardRef('MappingIntStrAny'), NoneType] = None, exclude: Union[ForwardRef('AbstractSetIntStr'), ForwardRef('MappingIntStrAny'), NoneType] = None, update: Optional[ForwardRef('DictStrAny')] = None, deep: bool = False) -> 'Model'\n",
      " |      Duplicate a model, optionally choose which fields to include, exclude and change.\n",
      " |      \n",
      " |      :param include: fields to include in new model\n",
      " |      :param exclude: fields to exclude from new model, as with values this takes precedence over include\n",
      " |      :param update: values to change/add in the new model. Note: the data is not validated before creating\n",
      " |          the new model: you should trust this data\n",
      " |      :param deep: set to `True` to make a deep copy of the model\n",
      " |      :return: new model instance\n",
      " |  \n",
      " |  dict(self, *, include: Union[ForwardRef('AbstractSetIntStr'), ForwardRef('MappingIntStrAny'), NoneType] = None, exclude: Union[ForwardRef('AbstractSetIntStr'), ForwardRef('MappingIntStrAny'), NoneType] = None, by_alias: bool = False, skip_defaults: Optional[bool] = None, exclude_unset: bool = False, exclude_defaults: bool = False, exclude_none: bool = False) -> 'DictStrAny'\n",
      " |      Generate a dictionary representation of the model, optionally specifying which fields to include or exclude.\n",
      " |  \n",
      " |  json(self, *, include: Union[ForwardRef('AbstractSetIntStr'), ForwardRef('MappingIntStrAny'), NoneType] = None, exclude: Union[ForwardRef('AbstractSetIntStr'), ForwardRef('MappingIntStrAny'), NoneType] = None, by_alias: bool = False, skip_defaults: Optional[bool] = None, exclude_unset: bool = False, exclude_defaults: bool = False, exclude_none: bool = False, encoder: Optional[Callable[[Any], Any]] = None, models_as_dict: bool = True, **dumps_kwargs: Any) -> 'unicode'\n",
      " |      Generate a JSON representation of the model, `include` and `exclude` arguments as per `dict()`.\n",
      " |      \n",
      " |      `encoder` is an optional function to supply as `default` to json.dumps(), other arguments as per `json.dumps()`.\n",
      " |  \n",
      " |  ----------------------------------------------------------------------\n",
      " |  Class methods inherited from pydantic.main.BaseModel:\n",
      " |  \n",
      " |  __get_validators__() -> 'CallableGenerator' from pydantic.main.ModelMetaclass\n",
      " |  \n",
      " |  __try_update_forward_refs__(**localns: Any) -> None from pydantic.main.ModelMetaclass\n",
      " |      Same as update_forward_refs but will not raise exception\n",
      " |      when forward references are not defined.\n",
      " |  \n",
      " |  construct(_fields_set: Optional[ForwardRef('SetStr')] = None, **values: Any) -> 'Model' from pydantic.main.ModelMetaclass\n",
      " |      Creates a new model setting __dict__ and __fields_set__ from trusted or pre-validated data.\n",
      " |      Default values are respected, but no other validation is performed.\n",
      " |      Behaves as if `Config.extra = 'allow'` was set since it adds all passed values\n",
      " |  \n",
      " |  from_orm(obj: Any) -> 'Model' from pydantic.main.ModelMetaclass\n",
      " |  \n",
      " |  parse_file(path: Union[str, pathlib.Path], *, content_type: 'unicode' = None, encoding: 'unicode' = 'utf8', proto: pydantic.parse.Protocol = None, allow_pickle: bool = False) -> 'Model' from pydantic.main.ModelMetaclass\n",
      " |  \n",
      " |  parse_obj(obj: Any) -> 'Model' from pydantic.main.ModelMetaclass\n",
      " |  \n",
      " |  parse_raw(b: Union[str, bytes], *, content_type: 'unicode' = None, encoding: 'unicode' = 'utf8', proto: pydantic.parse.Protocol = None, allow_pickle: bool = False) -> 'Model' from pydantic.main.ModelMetaclass\n",
      " |  \n",
      " |  schema(by_alias: bool = True, ref_template: 'unicode' = '#/definitions/{model}') -> 'DictStrAny' from pydantic.main.ModelMetaclass\n",
      " |  \n",
      " |  schema_json(*, by_alias: bool = True, ref_template: 'unicode' = '#/definitions/{model}', **dumps_kwargs: Any) -> 'unicode' from pydantic.main.ModelMetaclass\n",
      " |  \n",
      " |  update_forward_refs(**localns: Any) -> None from pydantic.main.ModelMetaclass\n",
      " |      Try to update ForwardRefs on fields based on this Model, globalns and localns.\n",
      " |  \n",
      " |  validate(value: Any) -> 'Model' from pydantic.main.ModelMetaclass\n",
      " |  \n",
      " |  ----------------------------------------------------------------------\n",
      " |  Data descriptors inherited from pydantic.main.BaseModel:\n",
      " |  \n",
      " |  __dict__\n",
      " |      dictionary for instance variables (if defined)\n",
      " |  \n",
      " |  __fields_set__\n",
      " |  \n",
      " |  ----------------------------------------------------------------------\n",
      " |  Methods inherited from pydantic.utils.Representation:\n",
      " |  \n",
      " |  __pretty__(self, fmt: Callable[[Any], Any], **kwargs: Any) -> Generator[Any, NoneType, NoneType]\n",
      " |      Used by devtools (https://python-devtools.helpmanual.io/) to provide a human readable representations of objects\n",
      " |  \n",
      " |  __repr__(self) -> 'unicode'\n",
      " |  \n",
      " |  __repr_name__(self) -> 'unicode'\n",
      " |      Name of the instance's class, used in __repr__.\n",
      " |  \n",
      " |  __repr_str__(self, join_str: 'unicode') -> 'unicode'\n",
      " |  \n",
      " |  __rich_repr__(self) -> 'RichReprResult'\n",
      " |      Get fields for Rich library\n",
      " |  \n",
      " |  __str__(self) -> 'unicode'\n",
      "\n"
     ]
    }
   ],
   "source": [
    "help(VOCS)"
   ]
  },
  {
   "cell_type": "code",
   "execution_count": 3,
   "id": "31a15253-14cd-4547-ab01-09f4b56f5bf5",
   "metadata": {
    "execution": {
     "iopub.execute_input": "2023-05-30T06:01:29.271261Z",
     "iopub.status.busy": "2023-05-30T06:01:29.270738Z",
     "iopub.status.idle": "2023-05-30T06:01:29.279221Z",
     "shell.execute_reply": "2023-05-30T06:01:29.278614Z"
    },
    "pycharm": {
     "name": "#%%\n"
    }
   },
   "outputs": [
    {
     "data": {
      "text/plain": [
       "VOCS(variables={'a': [0.0, 1000.0], 'b': [-1.0, 1.0]}, constraints={'e': ['LESS_THAN', 2.0], 'f': ['GREATER_THAN', 0.0]}, objectives={'c': 'MAXIMIZE', 'd': 'MINIMIZE'}, constants={'g': 1234}, linked_variables={})"
      ]
     },
     "execution_count": 3,
     "metadata": {},
     "output_type": "execute_result"
    }
   ],
   "source": [
    "Y = \"\"\"\n",
    "variables:\n",
    "  a: [0, 1e3] # Note that 1e3 usually parses as a str with YAML. \n",
    "  b: [-1, 1]\n",
    "objectives:\n",
    "  c: maximize\n",
    "  d: minimize \n",
    "constraints:\n",
    "  e: ['Less_than', 2]\n",
    "  f: ['greater_than', 0]\n",
    "constants:\n",
    "  g: 1234\n",
    "\n",
    "\"\"\"\n",
    "\n",
    "vocs = VOCS.from_yaml(Y)\n",
    "vocs"
   ]
  },
  {
   "cell_type": "code",
   "execution_count": 4,
   "id": "304bcc89",
   "metadata": {
    "execution": {
     "iopub.execute_input": "2023-05-30T06:01:29.282818Z",
     "iopub.status.busy": "2023-05-30T06:01:29.282450Z",
     "iopub.status.idle": "2023-05-30T06:01:29.286852Z",
     "shell.execute_reply": "2023-05-30T06:01:29.286257Z"
    },
    "pycharm": {
     "name": "#%%\n"
    }
   },
   "outputs": [
    {
     "data": {
      "text/plain": [
       "{'variables': {'a': [0.0, 1000.0], 'b': [-1.0, 1.0]},\n",
       " 'constraints': {'e': ['LESS_THAN', 2.0], 'f': ['GREATER_THAN', 0.0]},\n",
       " 'objectives': {'c': 'MAXIMIZE', 'd': 'MINIMIZE'},\n",
       " 'constants': {'g': 1234},\n",
       " 'linked_variables': {}}"
      ]
     },
     "execution_count": 4,
     "metadata": {},
     "output_type": "execute_result"
    }
   ],
   "source": [
    "# as dict\n",
    "vocs.dict()"
   ]
  },
  {
   "cell_type": "code",
   "execution_count": 5,
   "id": "b236bfb4",
   "metadata": {
    "execution": {
     "iopub.execute_input": "2023-05-30T06:01:29.289381Z",
     "iopub.status.busy": "2023-05-30T06:01:29.289045Z",
     "iopub.status.idle": "2023-05-30T06:01:29.292256Z",
     "shell.execute_reply": "2023-05-30T06:01:29.291661Z"
    },
    "pycharm": {
     "name": "#%%\n"
    }
   },
   "outputs": [],
   "source": [
    "#  re-parse dict\n",
    "vocs2 = VOCS.parse_obj(vocs.dict())"
   ]
  },
  {
   "cell_type": "code",
   "execution_count": 6,
   "id": "76c9a173",
   "metadata": {
    "execution": {
     "iopub.execute_input": "2023-05-30T06:01:29.294989Z",
     "iopub.status.busy": "2023-05-30T06:01:29.294647Z",
     "iopub.status.idle": "2023-05-30T06:01:29.298696Z",
     "shell.execute_reply": "2023-05-30T06:01:29.298121Z"
    },
    "pycharm": {
     "name": "#%%\n"
    }
   },
   "outputs": [
    {
     "data": {
      "text/plain": [
       "True"
      ]
     },
     "execution_count": 6,
     "metadata": {},
     "output_type": "execute_result"
    }
   ],
   "source": [
    "# Check that these are the same\n",
    "vocs2 == vocs"
   ]
  },
  {
   "cell_type": "code",
   "execution_count": 7,
   "id": "6a846f4d",
   "metadata": {
    "execution": {
     "iopub.execute_input": "2023-05-30T06:01:29.301840Z",
     "iopub.status.busy": "2023-05-30T06:01:29.301507Z",
     "iopub.status.idle": "2023-05-30T06:01:29.305577Z",
     "shell.execute_reply": "2023-05-30T06:01:29.304987Z"
    },
    "pycharm": {
     "name": "#%%\n"
    }
   },
   "outputs": [
    {
     "data": {
      "text/plain": [
       "{'a': [0.0, 1000.0], 'b': [-1.0, 1.0]}"
      ]
     },
     "execution_count": 7,
     "metadata": {},
     "output_type": "execute_result"
    }
   ],
   "source": [
    "# This replaces the old vocs[\"variables\"]\n",
    "getattr(vocs, \"variables\")"
   ]
  },
  {
   "cell_type": "code",
   "execution_count": 8,
   "id": "6fa2afc8",
   "metadata": {
    "execution": {
     "iopub.execute_input": "2023-05-30T06:01:29.308742Z",
     "iopub.status.busy": "2023-05-30T06:01:29.308402Z",
     "iopub.status.idle": "2023-05-30T06:01:29.312465Z",
     "shell.execute_reply": "2023-05-30T06:01:29.311883Z"
    },
    "pycharm": {
     "name": "#%%\n"
    }
   },
   "outputs": [
    {
     "data": {
      "text/plain": [
       "True"
      ]
     },
     "execution_count": 8,
     "metadata": {},
     "output_type": "execute_result"
    }
   ],
   "source": [
    "vocs.objectives[\"c\"] == 'MAXIMIZE'"
   ]
  },
  {
   "cell_type": "code",
   "execution_count": 9,
   "id": "713272b7",
   "metadata": {
    "execution": {
     "iopub.execute_input": "2023-05-30T06:01:29.315644Z",
     "iopub.status.busy": "2023-05-30T06:01:29.315280Z",
     "iopub.status.idle": "2023-05-30T06:01:29.319453Z",
     "shell.execute_reply": "2023-05-30T06:01:29.318834Z"
    },
    "pycharm": {
     "name": "#%%\n"
    }
   },
   "outputs": [
    {
     "data": {
      "text/plain": [
       "'{\"variables\":{\"a\":[0.0,1000.0],\"b\":[-1.0,1.0]},\"constraints\":{\"e\":[\"LESS_THAN\",2.0],\"f\":[\"GREATER_THAN\",0.0]},\"objectives\":{\"c\":\"MAXIMIZE\",\"d\":\"MINIMIZE\"},\"constants\":{\"g\":1234},\"linked_variables\":{}}'"
      ]
     },
     "execution_count": 9,
     "metadata": {},
     "output_type": "execute_result"
    }
   ],
   "source": [
    "# json\n",
    "vocs.json()"
   ]
  },
  {
   "cell_type": "markdown",
   "id": "11167a85",
   "metadata": {
    "pycharm": {
     "name": "#%% md\n"
    }
   },
   "source": [
    "# Objective Evaluation"
   ]
  },
  {
   "cell_type": "code",
   "execution_count": 10,
   "id": "c4d150be",
   "metadata": {
    "execution": {
     "iopub.execute_input": "2023-05-30T06:01:29.321980Z",
     "iopub.status.busy": "2023-05-30T06:01:29.321657Z",
     "iopub.status.idle": "2023-05-30T06:01:29.339050Z",
     "shell.execute_reply": "2023-05-30T06:01:29.338481Z"
    },
    "pycharm": {
     "name": "#%%\n"
    }
   },
   "outputs": [
    {
     "data": {
      "text/html": [
       "<div>\n",
       "<style scoped>\n",
       "    .dataframe tbody tr th:only-of-type {\n",
       "        vertical-align: middle;\n",
       "    }\n",
       "\n",
       "    .dataframe tbody tr th {\n",
       "        vertical-align: top;\n",
       "    }\n",
       "\n",
       "    .dataframe thead th {\n",
       "        text-align: right;\n",
       "    }\n",
       "</style>\n",
       "<table border=\"1\" class=\"dataframe\">\n",
       "  <thead>\n",
       "    <tr style=\"text-align: right;\">\n",
       "      <th></th>\n",
       "      <th>a</th>\n",
       "      <th>b</th>\n",
       "      <th>g</th>\n",
       "      <th>c</th>\n",
       "      <th>d</th>\n",
       "      <th>e</th>\n",
       "      <th>f</th>\n",
       "    </tr>\n",
       "  </thead>\n",
       "  <tbody>\n",
       "    <tr>\n",
       "      <th>5</th>\n",
       "      <td>23.170741</td>\n",
       "      <td>0.500962</td>\n",
       "      <td>1234</td>\n",
       "      <td>23.671704</td>\n",
       "      <td>22.669779</td>\n",
       "      <td>47.343407</td>\n",
       "      <td>45.339557</td>\n",
       "    </tr>\n",
       "    <tr>\n",
       "      <th>6</th>\n",
       "      <td>612.591196</td>\n",
       "      <td>-0.405803</td>\n",
       "      <td>1234</td>\n",
       "      <td>612.185393</td>\n",
       "      <td>612.996999</td>\n",
       "      <td>1224.370786</td>\n",
       "      <td>1225.993998</td>\n",
       "    </tr>\n",
       "    <tr>\n",
       "      <th>7</th>\n",
       "      <td>459.052767</td>\n",
       "      <td>-0.059564</td>\n",
       "      <td>1234</td>\n",
       "      <td>458.993203</td>\n",
       "      <td>459.112332</td>\n",
       "      <td>917.986406</td>\n",
       "      <td>918.224663</td>\n",
       "    </tr>\n",
       "    <tr>\n",
       "      <th>8</th>\n",
       "      <td>210.799669</td>\n",
       "      <td>0.172631</td>\n",
       "      <td>1234</td>\n",
       "      <td>210.972300</td>\n",
       "      <td>210.627039</td>\n",
       "      <td>421.944600</td>\n",
       "      <td>421.254078</td>\n",
       "    </tr>\n",
       "    <tr>\n",
       "      <th>9</th>\n",
       "      <td>159.539567</td>\n",
       "      <td>0.483249</td>\n",
       "      <td>1234</td>\n",
       "      <td>160.022816</td>\n",
       "      <td>159.056318</td>\n",
       "      <td>320.045632</td>\n",
       "      <td>318.112637</td>\n",
       "    </tr>\n",
       "    <tr>\n",
       "      <th>10</th>\n",
       "      <td>125.055595</td>\n",
       "      <td>0.803667</td>\n",
       "      <td>1234</td>\n",
       "      <td>125.859261</td>\n",
       "      <td>124.251928</td>\n",
       "      <td>251.718523</td>\n",
       "      <td>248.503856</td>\n",
       "    </tr>\n",
       "    <tr>\n",
       "      <th>11</th>\n",
       "      <td>20.314013</td>\n",
       "      <td>-0.193967</td>\n",
       "      <td>1234</td>\n",
       "      <td>20.120046</td>\n",
       "      <td>20.507981</td>\n",
       "      <td>40.240092</td>\n",
       "      <td>41.015962</td>\n",
       "    </tr>\n",
       "    <tr>\n",
       "      <th>12</th>\n",
       "      <td>297.744486</td>\n",
       "      <td>-0.916609</td>\n",
       "      <td>1234</td>\n",
       "      <td>296.827877</td>\n",
       "      <td>298.661094</td>\n",
       "      <td>593.655755</td>\n",
       "      <td>597.322189</td>\n",
       "    </tr>\n",
       "    <tr>\n",
       "      <th>13</th>\n",
       "      <td>755.584923</td>\n",
       "      <td>0.561458</td>\n",
       "      <td>1234</td>\n",
       "      <td>756.146381</td>\n",
       "      <td>755.023465</td>\n",
       "      <td>1512.292762</td>\n",
       "      <td>1510.046929</td>\n",
       "    </tr>\n",
       "    <tr>\n",
       "      <th>14</th>\n",
       "      <td>102.562139</td>\n",
       "      <td>0.181797</td>\n",
       "      <td>1234</td>\n",
       "      <td>102.743936</td>\n",
       "      <td>102.380342</td>\n",
       "      <td>205.487873</td>\n",
       "      <td>204.760684</td>\n",
       "    </tr>\n",
       "  </tbody>\n",
       "</table>\n",
       "</div>"
      ],
      "text/plain": [
       "             a         b     g           c           d            e  \\\n",
       "5    23.170741  0.500962  1234   23.671704   22.669779    47.343407   \n",
       "6   612.591196 -0.405803  1234  612.185393  612.996999  1224.370786   \n",
       "7   459.052767 -0.059564  1234  458.993203  459.112332   917.986406   \n",
       "8   210.799669  0.172631  1234  210.972300  210.627039   421.944600   \n",
       "9   159.539567  0.483249  1234  160.022816  159.056318   320.045632   \n",
       "10  125.055595  0.803667  1234  125.859261  124.251928   251.718523   \n",
       "11   20.314013 -0.193967  1234   20.120046   20.507981    40.240092   \n",
       "12  297.744486 -0.916609  1234  296.827877  298.661094   593.655755   \n",
       "13  755.584923  0.561458  1234  756.146381  755.023465  1512.292762   \n",
       "14  102.562139  0.181797  1234  102.743936  102.380342   205.487873   \n",
       "\n",
       "              f  \n",
       "5     45.339557  \n",
       "6   1225.993998  \n",
       "7    918.224663  \n",
       "8    421.254078  \n",
       "9    318.112637  \n",
       "10   248.503856  \n",
       "11    41.015962  \n",
       "12   597.322189  \n",
       "13  1510.046929  \n",
       "14   204.760684  "
      ]
     },
     "execution_count": 10,
     "metadata": {},
     "output_type": "execute_result"
    }
   ],
   "source": [
    "from xopt.vocs import form_objective_data, form_constraint_data, form_feasibility_data\n",
    "import pandas as pd\n",
    "import numpy as np\n",
    "\n",
    "data = pd.DataFrame(vocs.random_inputs(10))\n",
    "# Add some outputs\n",
    "data[\"c\"] = data[\"a\"] + data[\"b\"]\n",
    "data[\"d\"] = data[\"a\"] - data[\"b\"]\n",
    "data[\"e\"] = data[\"a\"] * 2 + data[\"b\"] * 2\n",
    "data[\"f\"] = data[\"a\"] * 2 - data[\"b\"] * 2\n",
    "data.index = np.arange(len(data)) + 5  # custom index\n",
    "data"
   ]
  },
  {
   "cell_type": "code",
   "execution_count": 11,
   "id": "a695dc98",
   "metadata": {
    "execution": {
     "iopub.execute_input": "2023-05-30T06:01:29.342010Z",
     "iopub.status.busy": "2023-05-30T06:01:29.341674Z",
     "iopub.status.idle": "2023-05-30T06:01:29.347765Z",
     "shell.execute_reply": "2023-05-30T06:01:29.347201Z"
    },
    "pycharm": {
     "name": "#%%\n"
    }
   },
   "outputs": [
    {
     "data": {
      "text/plain": [
       "{'c': 'MAXIMIZE', 'd': 'MINIMIZE'}"
      ]
     },
     "execution_count": 11,
     "metadata": {},
     "output_type": "execute_result"
    }
   ],
   "source": [
    "vocs.objectives"
   ]
  },
  {
   "cell_type": "code",
   "execution_count": 12,
   "id": "43051b71",
   "metadata": {
    "execution": {
     "iopub.execute_input": "2023-05-30T06:01:29.350444Z",
     "iopub.status.busy": "2023-05-30T06:01:29.349953Z",
     "iopub.status.idle": "2023-05-30T06:01:29.360346Z",
     "shell.execute_reply": "2023-05-30T06:01:29.359782Z"
    },
    "pycharm": {
     "name": "#%%\n"
    }
   },
   "outputs": [
    {
     "data": {
      "text/html": [
       "<div>\n",
       "<style scoped>\n",
       "    .dataframe tbody tr th:only-of-type {\n",
       "        vertical-align: middle;\n",
       "    }\n",
       "\n",
       "    .dataframe tbody tr th {\n",
       "        vertical-align: top;\n",
       "    }\n",
       "\n",
       "    .dataframe thead th {\n",
       "        text-align: right;\n",
       "    }\n",
       "</style>\n",
       "<table border=\"1\" class=\"dataframe\">\n",
       "  <thead>\n",
       "    <tr style=\"text-align: right;\">\n",
       "      <th></th>\n",
       "      <th>objective_c</th>\n",
       "      <th>objective_d</th>\n",
       "    </tr>\n",
       "  </thead>\n",
       "  <tbody>\n",
       "    <tr>\n",
       "      <th>5</th>\n",
       "      <td>-23.671704</td>\n",
       "      <td>22.669779</td>\n",
       "    </tr>\n",
       "    <tr>\n",
       "      <th>6</th>\n",
       "      <td>-612.185393</td>\n",
       "      <td>612.996999</td>\n",
       "    </tr>\n",
       "    <tr>\n",
       "      <th>7</th>\n",
       "      <td>-458.993203</td>\n",
       "      <td>459.112332</td>\n",
       "    </tr>\n",
       "    <tr>\n",
       "      <th>8</th>\n",
       "      <td>-210.972300</td>\n",
       "      <td>210.627039</td>\n",
       "    </tr>\n",
       "    <tr>\n",
       "      <th>9</th>\n",
       "      <td>-160.022816</td>\n",
       "      <td>159.056318</td>\n",
       "    </tr>\n",
       "    <tr>\n",
       "      <th>10</th>\n",
       "      <td>-125.859261</td>\n",
       "      <td>124.251928</td>\n",
       "    </tr>\n",
       "    <tr>\n",
       "      <th>11</th>\n",
       "      <td>-20.120046</td>\n",
       "      <td>20.507981</td>\n",
       "    </tr>\n",
       "    <tr>\n",
       "      <th>12</th>\n",
       "      <td>-296.827877</td>\n",
       "      <td>298.661094</td>\n",
       "    </tr>\n",
       "    <tr>\n",
       "      <th>13</th>\n",
       "      <td>-756.146381</td>\n",
       "      <td>755.023465</td>\n",
       "    </tr>\n",
       "    <tr>\n",
       "      <th>14</th>\n",
       "      <td>-102.743936</td>\n",
       "      <td>102.380342</td>\n",
       "    </tr>\n",
       "  </tbody>\n",
       "</table>\n",
       "</div>"
      ],
      "text/plain": [
       "    objective_c  objective_d\n",
       "5    -23.671704    22.669779\n",
       "6   -612.185393   612.996999\n",
       "7   -458.993203   459.112332\n",
       "8   -210.972300   210.627039\n",
       "9   -160.022816   159.056318\n",
       "10  -125.859261   124.251928\n",
       "11   -20.120046    20.507981\n",
       "12  -296.827877   298.661094\n",
       "13  -756.146381   755.023465\n",
       "14  -102.743936   102.380342"
      ]
     },
     "execution_count": 12,
     "metadata": {},
     "output_type": "execute_result"
    }
   ],
   "source": [
    "# These are in standard form for minimization\n",
    "form_objective_data(vocs.objectives, data)"
   ]
  },
  {
   "cell_type": "code",
   "execution_count": 13,
   "id": "2ed50815",
   "metadata": {
    "execution": {
     "iopub.execute_input": "2023-05-30T06:01:29.362892Z",
     "iopub.status.busy": "2023-05-30T06:01:29.362562Z",
     "iopub.status.idle": "2023-05-30T06:01:29.370745Z",
     "shell.execute_reply": "2023-05-30T06:01:29.370144Z"
    },
    "pycharm": {
     "name": "#%%\n"
    }
   },
   "outputs": [
    {
     "data": {
      "text/html": [
       "<div>\n",
       "<style scoped>\n",
       "    .dataframe tbody tr th:only-of-type {\n",
       "        vertical-align: middle;\n",
       "    }\n",
       "\n",
       "    .dataframe tbody tr th {\n",
       "        vertical-align: top;\n",
       "    }\n",
       "\n",
       "    .dataframe thead th {\n",
       "        text-align: right;\n",
       "    }\n",
       "</style>\n",
       "<table border=\"1\" class=\"dataframe\">\n",
       "  <thead>\n",
       "    <tr style=\"text-align: right;\">\n",
       "      <th></th>\n",
       "      <th>objective_c</th>\n",
       "      <th>objective_d</th>\n",
       "    </tr>\n",
       "  </thead>\n",
       "  <tbody>\n",
       "    <tr>\n",
       "      <th>5</th>\n",
       "      <td>-23.671704</td>\n",
       "      <td>22.669779</td>\n",
       "    </tr>\n",
       "    <tr>\n",
       "      <th>6</th>\n",
       "      <td>-612.185393</td>\n",
       "      <td>612.996999</td>\n",
       "    </tr>\n",
       "    <tr>\n",
       "      <th>7</th>\n",
       "      <td>-458.993203</td>\n",
       "      <td>459.112332</td>\n",
       "    </tr>\n",
       "    <tr>\n",
       "      <th>8</th>\n",
       "      <td>-210.972300</td>\n",
       "      <td>210.627039</td>\n",
       "    </tr>\n",
       "    <tr>\n",
       "      <th>9</th>\n",
       "      <td>-160.022816</td>\n",
       "      <td>159.056318</td>\n",
       "    </tr>\n",
       "    <tr>\n",
       "      <th>10</th>\n",
       "      <td>-125.859261</td>\n",
       "      <td>124.251928</td>\n",
       "    </tr>\n",
       "    <tr>\n",
       "      <th>11</th>\n",
       "      <td>-20.120046</td>\n",
       "      <td>20.507981</td>\n",
       "    </tr>\n",
       "    <tr>\n",
       "      <th>12</th>\n",
       "      <td>-296.827877</td>\n",
       "      <td>298.661094</td>\n",
       "    </tr>\n",
       "    <tr>\n",
       "      <th>13</th>\n",
       "      <td>-756.146381</td>\n",
       "      <td>755.023465</td>\n",
       "    </tr>\n",
       "    <tr>\n",
       "      <th>14</th>\n",
       "      <td>-102.743936</td>\n",
       "      <td>102.380342</td>\n",
       "    </tr>\n",
       "  </tbody>\n",
       "</table>\n",
       "</div>"
      ],
      "text/plain": [
       "    objective_c  objective_d\n",
       "5    -23.671704    22.669779\n",
       "6   -612.185393   612.996999\n",
       "7   -458.993203   459.112332\n",
       "8   -210.972300   210.627039\n",
       "9   -160.022816   159.056318\n",
       "10  -125.859261   124.251928\n",
       "11   -20.120046    20.507981\n",
       "12  -296.827877   298.661094\n",
       "13  -756.146381   755.023465\n",
       "14  -102.743936   102.380342"
      ]
     },
     "execution_count": 13,
     "metadata": {},
     "output_type": "execute_result"
    }
   ],
   "source": [
    "# This is also available as a method\n",
    "vocs.objective_data(data)"
   ]
  },
  {
   "cell_type": "code",
   "execution_count": 14,
   "id": "9f4275d4",
   "metadata": {
    "execution": {
     "iopub.execute_input": "2023-05-30T06:01:29.374032Z",
     "iopub.status.busy": "2023-05-30T06:01:29.373684Z",
     "iopub.status.idle": "2023-05-30T06:01:29.380021Z",
     "shell.execute_reply": "2023-05-30T06:01:29.379415Z"
    },
    "pycharm": {
     "name": "#%%\n"
    }
   },
   "outputs": [
    {
     "data": {
      "text/plain": [
       "array([[ -23.67170361,   22.66977869],\n",
       "       [-612.18539277,  612.996999  ],\n",
       "       [-458.99320275,  459.11233168],\n",
       "       [-210.97229999,  210.62703898],\n",
       "       [-160.02281618,  159.05631848],\n",
       "       [-125.85926125,  124.25192818],\n",
       "       [ -20.12004584,   20.50798081],\n",
       "       [-296.82787737,  298.66109447],\n",
       "       [-756.14638106,  755.02346466],\n",
       "       [-102.74393643,  102.38034211]])"
      ]
     },
     "execution_count": 14,
     "metadata": {},
     "output_type": "execute_result"
    }
   ],
   "source": [
    "# use the to_numpy() method to convert for low level use.\n",
    "vocs.objective_data(data).to_numpy()"
   ]
  },
  {
   "cell_type": "code",
   "execution_count": 15,
   "id": "29b73df4",
   "metadata": {
    "execution": {
     "iopub.execute_input": "2023-05-30T06:01:29.383328Z",
     "iopub.status.busy": "2023-05-30T06:01:29.382961Z",
     "iopub.status.idle": "2023-05-30T06:01:29.391451Z",
     "shell.execute_reply": "2023-05-30T06:01:29.390926Z"
    },
    "pycharm": {
     "name": "#%%\n"
    }
   },
   "outputs": [
    {
     "data": {
      "text/html": [
       "<div>\n",
       "<style scoped>\n",
       "    .dataframe tbody tr th:only-of-type {\n",
       "        vertical-align: middle;\n",
       "    }\n",
       "\n",
       "    .dataframe tbody tr th {\n",
       "        vertical-align: top;\n",
       "    }\n",
       "\n",
       "    .dataframe thead th {\n",
       "        text-align: right;\n",
       "    }\n",
       "</style>\n",
       "<table border=\"1\" class=\"dataframe\">\n",
       "  <thead>\n",
       "    <tr style=\"text-align: right;\">\n",
       "      <th></th>\n",
       "      <th>constraint_e</th>\n",
       "      <th>constraint_f</th>\n",
       "    </tr>\n",
       "  </thead>\n",
       "  <tbody>\n",
       "    <tr>\n",
       "      <th>5</th>\n",
       "      <td>45.343407</td>\n",
       "      <td>-45.339557</td>\n",
       "    </tr>\n",
       "    <tr>\n",
       "      <th>6</th>\n",
       "      <td>1222.370786</td>\n",
       "      <td>-1225.993998</td>\n",
       "    </tr>\n",
       "    <tr>\n",
       "      <th>7</th>\n",
       "      <td>915.986406</td>\n",
       "      <td>-918.224663</td>\n",
       "    </tr>\n",
       "    <tr>\n",
       "      <th>8</th>\n",
       "      <td>419.944600</td>\n",
       "      <td>-421.254078</td>\n",
       "    </tr>\n",
       "    <tr>\n",
       "      <th>9</th>\n",
       "      <td>318.045632</td>\n",
       "      <td>-318.112637</td>\n",
       "    </tr>\n",
       "    <tr>\n",
       "      <th>10</th>\n",
       "      <td>249.718523</td>\n",
       "      <td>-248.503856</td>\n",
       "    </tr>\n",
       "    <tr>\n",
       "      <th>11</th>\n",
       "      <td>38.240092</td>\n",
       "      <td>-41.015962</td>\n",
       "    </tr>\n",
       "    <tr>\n",
       "      <th>12</th>\n",
       "      <td>591.655755</td>\n",
       "      <td>-597.322189</td>\n",
       "    </tr>\n",
       "    <tr>\n",
       "      <th>13</th>\n",
       "      <td>1510.292762</td>\n",
       "      <td>-1510.046929</td>\n",
       "    </tr>\n",
       "    <tr>\n",
       "      <th>14</th>\n",
       "      <td>203.487873</td>\n",
       "      <td>-204.760684</td>\n",
       "    </tr>\n",
       "  </tbody>\n",
       "</table>\n",
       "</div>"
      ],
      "text/plain": [
       "    constraint_e  constraint_f\n",
       "5      45.343407    -45.339557\n",
       "6    1222.370786  -1225.993998\n",
       "7     915.986406   -918.224663\n",
       "8     419.944600   -421.254078\n",
       "9     318.045632   -318.112637\n",
       "10    249.718523   -248.503856\n",
       "11     38.240092    -41.015962\n",
       "12    591.655755   -597.322189\n",
       "13   1510.292762  -1510.046929\n",
       "14    203.487873   -204.760684"
      ]
     },
     "execution_count": 15,
     "metadata": {},
     "output_type": "execute_result"
    }
   ],
   "source": [
    "vocs.constraint_data(data)"
   ]
  },
  {
   "cell_type": "code",
   "execution_count": 16,
   "id": "e46a5e83",
   "metadata": {
    "execution": {
     "iopub.execute_input": "2023-05-30T06:01:29.394324Z",
     "iopub.status.busy": "2023-05-30T06:01:29.393970Z",
     "iopub.status.idle": "2023-05-30T06:01:29.404626Z",
     "shell.execute_reply": "2023-05-30T06:01:29.404042Z"
    },
    "pycharm": {
     "name": "#%%\n"
    }
   },
   "outputs": [
    {
     "data": {
      "text/html": [
       "<div>\n",
       "<style scoped>\n",
       "    .dataframe tbody tr th:only-of-type {\n",
       "        vertical-align: middle;\n",
       "    }\n",
       "\n",
       "    .dataframe tbody tr th {\n",
       "        vertical-align: top;\n",
       "    }\n",
       "\n",
       "    .dataframe thead th {\n",
       "        text-align: right;\n",
       "    }\n",
       "</style>\n",
       "<table border=\"1\" class=\"dataframe\">\n",
       "  <thead>\n",
       "    <tr style=\"text-align: right;\">\n",
       "      <th></th>\n",
       "      <th>feasible_e</th>\n",
       "      <th>feasible_f</th>\n",
       "      <th>feasible</th>\n",
       "    </tr>\n",
       "  </thead>\n",
       "  <tbody>\n",
       "    <tr>\n",
       "      <th>5</th>\n",
       "      <td>False</td>\n",
       "      <td>True</td>\n",
       "      <td>False</td>\n",
       "    </tr>\n",
       "    <tr>\n",
       "      <th>6</th>\n",
       "      <td>False</td>\n",
       "      <td>True</td>\n",
       "      <td>False</td>\n",
       "    </tr>\n",
       "    <tr>\n",
       "      <th>7</th>\n",
       "      <td>False</td>\n",
       "      <td>True</td>\n",
       "      <td>False</td>\n",
       "    </tr>\n",
       "    <tr>\n",
       "      <th>8</th>\n",
       "      <td>False</td>\n",
       "      <td>True</td>\n",
       "      <td>False</td>\n",
       "    </tr>\n",
       "    <tr>\n",
       "      <th>9</th>\n",
       "      <td>False</td>\n",
       "      <td>True</td>\n",
       "      <td>False</td>\n",
       "    </tr>\n",
       "    <tr>\n",
       "      <th>10</th>\n",
       "      <td>False</td>\n",
       "      <td>True</td>\n",
       "      <td>False</td>\n",
       "    </tr>\n",
       "    <tr>\n",
       "      <th>11</th>\n",
       "      <td>False</td>\n",
       "      <td>True</td>\n",
       "      <td>False</td>\n",
       "    </tr>\n",
       "    <tr>\n",
       "      <th>12</th>\n",
       "      <td>False</td>\n",
       "      <td>True</td>\n",
       "      <td>False</td>\n",
       "    </tr>\n",
       "    <tr>\n",
       "      <th>13</th>\n",
       "      <td>False</td>\n",
       "      <td>True</td>\n",
       "      <td>False</td>\n",
       "    </tr>\n",
       "    <tr>\n",
       "      <th>14</th>\n",
       "      <td>False</td>\n",
       "      <td>True</td>\n",
       "      <td>False</td>\n",
       "    </tr>\n",
       "  </tbody>\n",
       "</table>\n",
       "</div>"
      ],
      "text/plain": [
       "    feasible_e  feasible_f  feasible\n",
       "5        False        True     False\n",
       "6        False        True     False\n",
       "7        False        True     False\n",
       "8        False        True     False\n",
       "9        False        True     False\n",
       "10       False        True     False\n",
       "11       False        True     False\n",
       "12       False        True     False\n",
       "13       False        True     False\n",
       "14       False        True     False"
      ]
     },
     "execution_count": 16,
     "metadata": {},
     "output_type": "execute_result"
    }
   ],
   "source": [
    "vocs.feasibility_data(data)"
   ]
  },
  {
   "cell_type": "markdown",
   "id": "59041be7",
   "metadata": {},
   "source": [
    "# Error handling"
   ]
  },
  {
   "cell_type": "code",
   "execution_count": 17,
   "id": "f9171ede",
   "metadata": {
    "execution": {
     "iopub.execute_input": "2023-05-30T06:01:29.407360Z",
     "iopub.status.busy": "2023-05-30T06:01:29.407130Z",
     "iopub.status.idle": "2023-05-30T06:01:29.412094Z",
     "shell.execute_reply": "2023-05-30T06:01:29.411461Z"
    }
   },
   "outputs": [],
   "source": [
    "Y = \"\"\"\n",
    "variables:\n",
    "  a: [0, 1e3] # Note that 1e3 usually parses as a str with YAML. \n",
    "  b: [-1, 1]\n",
    "objectives:\n",
    "  c: maximize\n",
    "  d: minimize \n",
    "constraints:\n",
    "  e: ['Less_than', 2]\n",
    "  f: ['greater_than', 0]\n",
    "constants:\n",
    "  g: 1234\n",
    "\n",
    "\"\"\"\n",
    "\n",
    "vocs = VOCS.from_yaml(Y)"
   ]
  },
  {
   "cell_type": "code",
   "execution_count": 18,
   "id": "b5513539",
   "metadata": {
    "execution": {
     "iopub.execute_input": "2023-05-30T06:01:29.414763Z",
     "iopub.status.busy": "2023-05-30T06:01:29.414431Z",
     "iopub.status.idle": "2023-05-30T06:01:29.420722Z",
     "shell.execute_reply": "2023-05-30T06:01:29.420154Z"
    }
   },
   "outputs": [
    {
     "data": {
      "text/plain": [
       "0   NaN\n",
       "1   NaN\n",
       "2   NaN\n",
       "Name: b, dtype: float64"
      ]
     },
     "execution_count": 18,
     "metadata": {},
     "output_type": "execute_result"
    }
   ],
   "source": [
    "d = {'a': [1,2,3]}\n",
    "\n",
    "df = pd.DataFrame(d)\n",
    "df2 = pd.DataFrame(df).copy()\n",
    "\n",
    "df2['b'] = np.nan\n",
    "df2['b'] - 1"
   ]
  },
  {
   "cell_type": "code",
   "execution_count": 19,
   "id": "30f3b3b4",
   "metadata": {
    "execution": {
     "iopub.execute_input": "2023-05-30T06:01:29.423436Z",
     "iopub.status.busy": "2023-05-30T06:01:29.423090Z",
     "iopub.status.idle": "2023-05-30T06:01:29.426450Z",
     "shell.execute_reply": "2023-05-30T06:01:29.425851Z"
    }
   },
   "outputs": [],
   "source": [
    "data['a']  = np.nan"
   ]
  },
  {
   "cell_type": "code",
   "execution_count": 20,
   "id": "6393376b",
   "metadata": {
    "execution": {
     "iopub.execute_input": "2023-05-30T06:01:29.429097Z",
     "iopub.status.busy": "2023-05-30T06:01:29.428757Z",
     "iopub.status.idle": "2023-05-30T06:01:29.433011Z",
     "shell.execute_reply": "2023-05-30T06:01:29.432430Z"
    }
   },
   "outputs": [
    {
     "data": {
      "text/plain": [
       "2"
      ]
     },
     "execution_count": 20,
     "metadata": {},
     "output_type": "execute_result"
    }
   ],
   "source": [
    "a = 2\n",
    "def f(x=a):\n",
    "    return x\n",
    "a=99\n",
    "f()"
   ]
  },
  {
   "cell_type": "code",
   "execution_count": 21,
   "id": "cb0ecd74",
   "metadata": {
    "execution": {
     "iopub.execute_input": "2023-05-30T06:01:29.436253Z",
     "iopub.status.busy": "2023-05-30T06:01:29.435933Z",
     "iopub.status.idle": "2023-05-30T06:01:29.442572Z",
     "shell.execute_reply": "2023-05-30T06:01:29.441976Z"
    }
   },
   "outputs": [
    {
     "data": {
      "text/html": [
       "<div>\n",
       "<style scoped>\n",
       "    .dataframe tbody tr th:only-of-type {\n",
       "        vertical-align: middle;\n",
       "    }\n",
       "\n",
       "    .dataframe tbody tr th {\n",
       "        vertical-align: top;\n",
       "    }\n",
       "\n",
       "    .dataframe thead th {\n",
       "        text-align: right;\n",
       "    }\n",
       "</style>\n",
       "<table border=\"1\" class=\"dataframe\">\n",
       "  <thead>\n",
       "    <tr style=\"text-align: right;\">\n",
       "      <th></th>\n",
       "      <th>A</th>\n",
       "    </tr>\n",
       "  </thead>\n",
       "  <tbody>\n",
       "    <tr>\n",
       "      <th>1</th>\n",
       "      <td>6.000000e+66</td>\n",
       "    </tr>\n",
       "    <tr>\n",
       "      <th>2</th>\n",
       "      <td>6.000000e+66</td>\n",
       "    </tr>\n",
       "    <tr>\n",
       "      <th>3</th>\n",
       "      <td>6.000000e+66</td>\n",
       "    </tr>\n",
       "  </tbody>\n",
       "</table>\n",
       "</div>"
      ],
      "text/plain": [
       "              A\n",
       "1  6.000000e+66\n",
       "2  6.000000e+66\n",
       "3  6.000000e+66"
      ]
     },
     "execution_count": 21,
     "metadata": {},
     "output_type": "execute_result"
    }
   ],
   "source": [
    "pd.DataFrame(6e66, index=[1,2,3], columns=['A'])"
   ]
  },
  {
   "cell_type": "code",
   "execution_count": 22,
   "id": "88bb8253",
   "metadata": {
    "execution": {
     "iopub.execute_input": "2023-05-30T06:01:29.445710Z",
     "iopub.status.busy": "2023-05-30T06:01:29.445369Z",
     "iopub.status.idle": "2023-05-30T06:01:29.453774Z",
     "shell.execute_reply": "2023-05-30T06:01:29.453161Z"
    }
   },
   "outputs": [
    {
     "data": {
      "text/html": [
       "<div>\n",
       "<style scoped>\n",
       "    .dataframe tbody tr th:only-of-type {\n",
       "        vertical-align: middle;\n",
       "    }\n",
       "\n",
       "    .dataframe tbody tr th {\n",
       "        vertical-align: top;\n",
       "    }\n",
       "\n",
       "    .dataframe thead th {\n",
       "        text-align: right;\n",
       "    }\n",
       "</style>\n",
       "<table border=\"1\" class=\"dataframe\">\n",
       "  <thead>\n",
       "    <tr style=\"text-align: right;\">\n",
       "      <th></th>\n",
       "      <th>objective_c</th>\n",
       "      <th>objective_d</th>\n",
       "    </tr>\n",
       "  </thead>\n",
       "  <tbody>\n",
       "    <tr>\n",
       "      <th>9</th>\n",
       "      <td>-1.0</td>\n",
       "      <td>inf</td>\n",
       "    </tr>\n",
       "    <tr>\n",
       "      <th>3</th>\n",
       "      <td>-2.0</td>\n",
       "      <td>inf</td>\n",
       "    </tr>\n",
       "    <tr>\n",
       "      <th>4</th>\n",
       "      <td>-3.0</td>\n",
       "      <td>inf</td>\n",
       "    </tr>\n",
       "    <tr>\n",
       "      <th>5</th>\n",
       "      <td>-4.0</td>\n",
       "      <td>inf</td>\n",
       "    </tr>\n",
       "  </tbody>\n",
       "</table>\n",
       "</div>"
      ],
      "text/plain": [
       "   objective_c  objective_d\n",
       "9         -1.0          inf\n",
       "3         -2.0          inf\n",
       "4         -3.0          inf\n",
       "5         -4.0          inf"
      ]
     },
     "execution_count": 22,
     "metadata": {},
     "output_type": "execute_result"
    }
   ],
   "source": [
    "# These are in standard form for minimization\n",
    "\n",
    "data = pd.DataFrame({'c':[1,2,3,4]}, index=[9,3,4,5])\n",
    "\n",
    "form_objective_data(vocs.objectives, data)"
   ]
  }
 ],
 "metadata": {
  "interpreter": {
   "hash": "60703f99bc9a1e465ed9e894ac1e8f256837fa55699b4912a7939def4ae95691"
  },
  "kernelspec": {
   "display_name": "Python 3.9.12 ('devel')",
   "language": "python",
   "name": "python3"
  },
  "language_info": {
   "codemirror_mode": {
    "name": "ipython",
    "version": 3
   },
   "file_extension": ".py",
   "mimetype": "text/x-python",
   "name": "python",
   "nbconvert_exporter": "python",
   "pygments_lexer": "ipython3",
   "version": "3.9.16"
  }
 },
 "nbformat": 4,
 "nbformat_minor": 5
}
