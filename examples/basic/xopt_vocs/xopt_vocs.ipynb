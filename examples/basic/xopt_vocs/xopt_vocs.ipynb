{
 "cells": [
  {
   "cell_type": "markdown",
   "id": "9700f595",
   "metadata": {
    "pycharm": {
     "name": "#%% md\n"
    }
   },
   "source": [
    "# VOCS data structure \n",
    "\n",
    "Variables, Objectives, Constraints, and other Settings (VOCS) helps define our optimization problems. "
   ]
  },
  {
   "cell_type": "code",
   "execution_count": 1,
   "id": "32324ac0-b299-42ee-a6b9-e112dfaa5a45",
   "metadata": {
    "ExecuteTime": {
     "end_time": "2023-10-27T16:46:04.425862200Z",
     "start_time": "2023-10-27T16:46:01.206803200Z"
    },
    "execution": {
     "iopub.execute_input": "2024-01-29T20:54:54.520186Z",
     "iopub.status.busy": "2024-01-29T20:54:54.519642Z",
     "iopub.status.idle": "2024-01-29T20:54:55.986210Z",
     "shell.execute_reply": "2024-01-29T20:54:55.985648Z"
    },
    "pycharm": {
     "name": "#%%\n"
    }
   },
   "outputs": [],
   "source": [
    "from xopt.vocs import VOCS"
   ]
  },
  {
   "cell_type": "code",
   "execution_count": 2,
   "id": "31a15253-14cd-4547-ab01-09f4b56f5bf5",
   "metadata": {
    "ExecuteTime": {
     "end_time": "2023-10-27T16:46:04.440220800Z",
     "start_time": "2023-10-27T16:46:04.427862900Z"
    },
    "execution": {
     "iopub.execute_input": "2024-01-29T20:54:55.988966Z",
     "iopub.status.busy": "2024-01-29T20:54:55.988576Z",
     "iopub.status.idle": "2024-01-29T20:54:55.996092Z",
     "shell.execute_reply": "2024-01-29T20:54:55.995540Z"
    },
    "pycharm": {
     "name": "#%%\n"
    }
   },
   "outputs": [
    {
     "data": {
      "text/plain": [
       "VOCS(variables={'a': [0.0, 1000.0], 'b': [-1.0, 1.0]}, constraints={'e': ['LESS_THAN', 2.0], 'f': ['GREATER_THAN', 0.0]}, objectives={'c': 'MAXIMIZE', 'd': 'MINIMIZE'}, constants={'g': 1234}, observables=[])"
      ]
     },
     "execution_count": 2,
     "metadata": {},
     "output_type": "execute_result"
    }
   ],
   "source": [
    "Y = \"\"\"\n",
    "variables:\n",
    "  a: [0, 1e3] # Note that 1e3 usually parses as a str with YAML. \n",
    "  b: [-1, 1]\n",
    "objectives:\n",
    "  c: maximize\n",
    "  d: minimize \n",
    "constraints:\n",
    "  e: ['Less_than', 2]\n",
    "  f: ['greater_than', 0]\n",
    "constants:\n",
    "  g: 1234\n",
    "\n",
    "\"\"\"\n",
    "\n",
    "vocs = VOCS.from_yaml(Y)\n",
    "vocs"
   ]
  },
  {
   "cell_type": "code",
   "execution_count": 3,
   "id": "304bcc89",
   "metadata": {
    "ExecuteTime": {
     "end_time": "2023-10-27T16:46:04.484822200Z",
     "start_time": "2023-10-27T16:46:04.442248900Z"
    },
    "execution": {
     "iopub.execute_input": "2024-01-29T20:54:55.998242Z",
     "iopub.status.busy": "2024-01-29T20:54:55.997822Z",
     "iopub.status.idle": "2024-01-29T20:54:56.001527Z",
     "shell.execute_reply": "2024-01-29T20:54:56.001092Z"
    },
    "pycharm": {
     "name": "#%%\n"
    }
   },
   "outputs": [
    {
     "data": {
      "text/plain": [
       "{'variables': {'a': [0.0, 1000.0], 'b': [-1.0, 1.0]},\n",
       " 'constraints': {'e': ['LESS_THAN', 2.0], 'f': ['GREATER_THAN', 0.0]},\n",
       " 'objectives': {'c': 'MAXIMIZE', 'd': 'MINIMIZE'},\n",
       " 'constants': {'g': 1234},\n",
       " 'observables': []}"
      ]
     },
     "execution_count": 3,
     "metadata": {},
     "output_type": "execute_result"
    }
   ],
   "source": [
    "# as dict\n",
    "dict(vocs)"
   ]
  },
  {
   "cell_type": "code",
   "execution_count": 4,
   "id": "b236bfb4",
   "metadata": {
    "ExecuteTime": {
     "end_time": "2023-10-27T16:46:04.493762900Z",
     "start_time": "2023-10-27T16:46:04.458284400Z"
    },
    "execution": {
     "iopub.execute_input": "2024-01-29T20:54:56.003480Z",
     "iopub.status.busy": "2024-01-29T20:54:56.003312Z",
     "iopub.status.idle": "2024-01-29T20:54:56.005831Z",
     "shell.execute_reply": "2024-01-29T20:54:56.005347Z"
    },
    "pycharm": {
     "name": "#%%\n"
    }
   },
   "outputs": [],
   "source": [
    "#  re-parse dict\n",
    "vocs2 = VOCS.from_dict(dict(vocs))"
   ]
  },
  {
   "cell_type": "code",
   "execution_count": 5,
   "id": "76c9a173",
   "metadata": {
    "ExecuteTime": {
     "end_time": "2023-10-27T16:46:04.493762900Z",
     "start_time": "2023-10-27T16:46:04.471285600Z"
    },
    "execution": {
     "iopub.execute_input": "2024-01-29T20:54:56.007801Z",
     "iopub.status.busy": "2024-01-29T20:54:56.007634Z",
     "iopub.status.idle": "2024-01-29T20:54:56.011098Z",
     "shell.execute_reply": "2024-01-29T20:54:56.010613Z"
    },
    "pycharm": {
     "name": "#%%\n"
    }
   },
   "outputs": [
    {
     "data": {
      "text/plain": [
       "True"
      ]
     },
     "execution_count": 5,
     "metadata": {},
     "output_type": "execute_result"
    }
   ],
   "source": [
    "# Check that these are the same\n",
    "vocs2 == vocs"
   ]
  },
  {
   "cell_type": "code",
   "execution_count": 6,
   "id": "6a846f4d",
   "metadata": {
    "ExecuteTime": {
     "end_time": "2023-10-27T16:46:04.503771300Z",
     "start_time": "2023-10-27T16:46:04.486737500Z"
    },
    "execution": {
     "iopub.execute_input": "2024-01-29T20:54:56.013339Z",
     "iopub.status.busy": "2024-01-29T20:54:56.012996Z",
     "iopub.status.idle": "2024-01-29T20:54:56.016570Z",
     "shell.execute_reply": "2024-01-29T20:54:56.016108Z"
    },
    "pycharm": {
     "name": "#%%\n"
    }
   },
   "outputs": [
    {
     "data": {
      "text/plain": [
       "{'a': [0.0, 1000.0], 'b': [-1.0, 1.0]}"
      ]
     },
     "execution_count": 6,
     "metadata": {},
     "output_type": "execute_result"
    }
   ],
   "source": [
    "# This replaces the old vocs[\"variables\"]\n",
    "getattr(vocs, \"variables\")"
   ]
  },
  {
   "cell_type": "code",
   "execution_count": 7,
   "id": "6fa2afc8",
   "metadata": {
    "ExecuteTime": {
     "end_time": "2023-10-27T16:46:04.544770800Z",
     "start_time": "2023-10-27T16:46:04.504768500Z"
    },
    "execution": {
     "iopub.execute_input": "2024-01-29T20:54:56.018717Z",
     "iopub.status.busy": "2024-01-29T20:54:56.018385Z",
     "iopub.status.idle": "2024-01-29T20:54:56.021991Z",
     "shell.execute_reply": "2024-01-29T20:54:56.021444Z"
    },
    "pycharm": {
     "name": "#%%\n"
    }
   },
   "outputs": [
    {
     "data": {
      "text/plain": [
       "True"
      ]
     },
     "execution_count": 7,
     "metadata": {},
     "output_type": "execute_result"
    }
   ],
   "source": [
    "vocs.objectives[\"c\"] == 'MAXIMIZE'"
   ]
  },
  {
   "cell_type": "code",
   "execution_count": 8,
   "id": "713272b7",
   "metadata": {
    "ExecuteTime": {
     "end_time": "2023-10-27T16:46:04.544770800Z",
     "start_time": "2023-10-27T16:46:04.518770200Z"
    },
    "execution": {
     "iopub.execute_input": "2024-01-29T20:54:56.024043Z",
     "iopub.status.busy": "2024-01-29T20:54:56.023714Z",
     "iopub.status.idle": "2024-01-29T20:54:56.027185Z",
     "shell.execute_reply": "2024-01-29T20:54:56.026658Z"
    },
    "pycharm": {
     "name": "#%%\n"
    }
   },
   "outputs": [
    {
     "data": {
      "text/plain": [
       "'{\"variables\":{\"a\":[0.0,1000.0],\"b\":[-1.0,1.0]},\"constraints\":{\"e\":[\"LESS_THAN\",2.0],\"f\":[\"GREATER_THAN\",0.0]},\"objectives\":{\"c\":\"MAXIMIZE\",\"d\":\"MINIMIZE\"},\"constants\":{\"g\":1234},\"observables\":[]}'"
      ]
     },
     "execution_count": 8,
     "metadata": {},
     "output_type": "execute_result"
    }
   ],
   "source": [
    "# json\n",
    "vocs.to_json()"
   ]
  },
  {
   "cell_type": "markdown",
   "id": "11167a85",
   "metadata": {
    "pycharm": {
     "name": "#%% md\n"
    }
   },
   "source": [
    "# Objective Evaluation"
   ]
  },
  {
   "cell_type": "code",
   "execution_count": 9,
   "id": "c4d150be",
   "metadata": {
    "ExecuteTime": {
     "end_time": "2023-10-27T16:46:04.566771500Z",
     "start_time": "2023-10-27T16:46:04.534772500Z"
    },
    "execution": {
     "iopub.execute_input": "2024-01-29T20:54:56.029480Z",
     "iopub.status.busy": "2024-01-29T20:54:56.029047Z",
     "iopub.status.idle": "2024-01-29T20:54:56.042073Z",
     "shell.execute_reply": "2024-01-29T20:54:56.041641Z"
    },
    "pycharm": {
     "name": "#%%\n"
    }
   },
   "outputs": [
    {
     "data": {
      "text/html": [
       "<div>\n",
       "<style scoped>\n",
       "    .dataframe tbody tr th:only-of-type {\n",
       "        vertical-align: middle;\n",
       "    }\n",
       "\n",
       "    .dataframe tbody tr th {\n",
       "        vertical-align: top;\n",
       "    }\n",
       "\n",
       "    .dataframe thead th {\n",
       "        text-align: right;\n",
       "    }\n",
       "</style>\n",
       "<table border=\"1\" class=\"dataframe\">\n",
       "  <thead>\n",
       "    <tr style=\"text-align: right;\">\n",
       "      <th></th>\n",
       "      <th>a</th>\n",
       "      <th>b</th>\n",
       "      <th>g</th>\n",
       "      <th>c</th>\n",
       "      <th>d</th>\n",
       "      <th>e</th>\n",
       "      <th>f</th>\n",
       "    </tr>\n",
       "  </thead>\n",
       "  <tbody>\n",
       "    <tr>\n",
       "      <th>5</th>\n",
       "      <td>188.495960</td>\n",
       "      <td>-0.065599</td>\n",
       "      <td>1234</td>\n",
       "      <td>188.430361</td>\n",
       "      <td>188.561560</td>\n",
       "      <td>376.860721</td>\n",
       "      <td>377.123119</td>\n",
       "    </tr>\n",
       "    <tr>\n",
       "      <th>6</th>\n",
       "      <td>956.238838</td>\n",
       "      <td>-0.360246</td>\n",
       "      <td>1234</td>\n",
       "      <td>955.878592</td>\n",
       "      <td>956.599084</td>\n",
       "      <td>1911.757184</td>\n",
       "      <td>1913.198168</td>\n",
       "    </tr>\n",
       "    <tr>\n",
       "      <th>7</th>\n",
       "      <td>685.626182</td>\n",
       "      <td>0.106777</td>\n",
       "      <td>1234</td>\n",
       "      <td>685.732959</td>\n",
       "      <td>685.519405</td>\n",
       "      <td>1371.465918</td>\n",
       "      <td>1371.038810</td>\n",
       "    </tr>\n",
       "    <tr>\n",
       "      <th>8</th>\n",
       "      <td>666.166603</td>\n",
       "      <td>-0.334063</td>\n",
       "      <td>1234</td>\n",
       "      <td>665.832539</td>\n",
       "      <td>666.500666</td>\n",
       "      <td>1331.665078</td>\n",
       "      <td>1333.001332</td>\n",
       "    </tr>\n",
       "    <tr>\n",
       "      <th>9</th>\n",
       "      <td>445.981584</td>\n",
       "      <td>-0.375737</td>\n",
       "      <td>1234</td>\n",
       "      <td>445.605847</td>\n",
       "      <td>446.357321</td>\n",
       "      <td>891.211694</td>\n",
       "      <td>892.714642</td>\n",
       "    </tr>\n",
       "    <tr>\n",
       "      <th>10</th>\n",
       "      <td>252.716591</td>\n",
       "      <td>-0.352993</td>\n",
       "      <td>1234</td>\n",
       "      <td>252.363598</td>\n",
       "      <td>253.069584</td>\n",
       "      <td>504.727196</td>\n",
       "      <td>506.139167</td>\n",
       "    </tr>\n",
       "    <tr>\n",
       "      <th>11</th>\n",
       "      <td>970.599732</td>\n",
       "      <td>0.084972</td>\n",
       "      <td>1234</td>\n",
       "      <td>970.684704</td>\n",
       "      <td>970.514759</td>\n",
       "      <td>1941.369408</td>\n",
       "      <td>1941.029519</td>\n",
       "    </tr>\n",
       "    <tr>\n",
       "      <th>12</th>\n",
       "      <td>406.904574</td>\n",
       "      <td>-0.456882</td>\n",
       "      <td>1234</td>\n",
       "      <td>406.447692</td>\n",
       "      <td>407.361456</td>\n",
       "      <td>812.895385</td>\n",
       "      <td>814.722913</td>\n",
       "    </tr>\n",
       "    <tr>\n",
       "      <th>13</th>\n",
       "      <td>558.119903</td>\n",
       "      <td>0.985838</td>\n",
       "      <td>1234</td>\n",
       "      <td>559.105741</td>\n",
       "      <td>557.134065</td>\n",
       "      <td>1118.211482</td>\n",
       "      <td>1114.268131</td>\n",
       "    </tr>\n",
       "    <tr>\n",
       "      <th>14</th>\n",
       "      <td>323.143112</td>\n",
       "      <td>-0.563229</td>\n",
       "      <td>1234</td>\n",
       "      <td>322.579883</td>\n",
       "      <td>323.706342</td>\n",
       "      <td>645.159766</td>\n",
       "      <td>647.412683</td>\n",
       "    </tr>\n",
       "  </tbody>\n",
       "</table>\n",
       "</div>"
      ],
      "text/plain": [
       "             a         b     g           c           d            e  \\\n",
       "5   188.495960 -0.065599  1234  188.430361  188.561560   376.860721   \n",
       "6   956.238838 -0.360246  1234  955.878592  956.599084  1911.757184   \n",
       "7   685.626182  0.106777  1234  685.732959  685.519405  1371.465918   \n",
       "8   666.166603 -0.334063  1234  665.832539  666.500666  1331.665078   \n",
       "9   445.981584 -0.375737  1234  445.605847  446.357321   891.211694   \n",
       "10  252.716591 -0.352993  1234  252.363598  253.069584   504.727196   \n",
       "11  970.599732  0.084972  1234  970.684704  970.514759  1941.369408   \n",
       "12  406.904574 -0.456882  1234  406.447692  407.361456   812.895385   \n",
       "13  558.119903  0.985838  1234  559.105741  557.134065  1118.211482   \n",
       "14  323.143112 -0.563229  1234  322.579883  323.706342   645.159766   \n",
       "\n",
       "              f  \n",
       "5    377.123119  \n",
       "6   1913.198168  \n",
       "7   1371.038810  \n",
       "8   1333.001332  \n",
       "9    892.714642  \n",
       "10   506.139167  \n",
       "11  1941.029519  \n",
       "12   814.722913  \n",
       "13  1114.268131  \n",
       "14   647.412683  "
      ]
     },
     "execution_count": 9,
     "metadata": {},
     "output_type": "execute_result"
    }
   ],
   "source": [
    "from xopt.vocs import form_objective_data, form_constraint_data, form_feasibility_data\n",
    "import pandas as pd\n",
    "import numpy as np\n",
    "\n",
    "data = pd.DataFrame(vocs.random_inputs(10))\n",
    "# Add some outputs\n",
    "data[\"c\"] = data[\"a\"] + data[\"b\"]\n",
    "data[\"d\"] = data[\"a\"] - data[\"b\"]\n",
    "data[\"e\"] = data[\"a\"] * 2 + data[\"b\"] * 2\n",
    "data[\"f\"] = data[\"a\"] * 2 - data[\"b\"] * 2\n",
    "data.index = np.arange(len(data)) + 5  # custom index\n",
    "data"
   ]
  },
  {
   "cell_type": "code",
   "execution_count": 10,
   "id": "a695dc98",
   "metadata": {
    "ExecuteTime": {
     "end_time": "2023-10-27T16:46:04.604993200Z",
     "start_time": "2023-10-27T16:46:04.563770500Z"
    },
    "execution": {
     "iopub.execute_input": "2024-01-29T20:54:56.044313Z",
     "iopub.status.busy": "2024-01-29T20:54:56.043984Z",
     "iopub.status.idle": "2024-01-29T20:54:56.047481Z",
     "shell.execute_reply": "2024-01-29T20:54:56.046928Z"
    },
    "pycharm": {
     "name": "#%%\n"
    }
   },
   "outputs": [
    {
     "data": {
      "text/plain": [
       "{'c': 'MAXIMIZE', 'd': 'MINIMIZE'}"
      ]
     },
     "execution_count": 10,
     "metadata": {},
     "output_type": "execute_result"
    }
   ],
   "source": [
    "vocs.objectives"
   ]
  },
  {
   "cell_type": "code",
   "execution_count": 11,
   "id": "43051b71",
   "metadata": {
    "ExecuteTime": {
     "end_time": "2023-10-27T16:46:04.635082700Z",
     "start_time": "2023-10-27T16:46:04.582806500Z"
    },
    "execution": {
     "iopub.execute_input": "2024-01-29T20:54:56.049611Z",
     "iopub.status.busy": "2024-01-29T20:54:56.049176Z",
     "iopub.status.idle": "2024-01-29T20:54:56.055644Z",
     "shell.execute_reply": "2024-01-29T20:54:56.055198Z"
    },
    "pycharm": {
     "name": "#%%\n"
    }
   },
   "outputs": [
    {
     "data": {
      "text/html": [
       "<div>\n",
       "<style scoped>\n",
       "    .dataframe tbody tr th:only-of-type {\n",
       "        vertical-align: middle;\n",
       "    }\n",
       "\n",
       "    .dataframe tbody tr th {\n",
       "        vertical-align: top;\n",
       "    }\n",
       "\n",
       "    .dataframe thead th {\n",
       "        text-align: right;\n",
       "    }\n",
       "</style>\n",
       "<table border=\"1\" class=\"dataframe\">\n",
       "  <thead>\n",
       "    <tr style=\"text-align: right;\">\n",
       "      <th></th>\n",
       "      <th>objective_c</th>\n",
       "      <th>objective_d</th>\n",
       "    </tr>\n",
       "  </thead>\n",
       "  <tbody>\n",
       "    <tr>\n",
       "      <th>5</th>\n",
       "      <td>-188.430361</td>\n",
       "      <td>188.561560</td>\n",
       "    </tr>\n",
       "    <tr>\n",
       "      <th>6</th>\n",
       "      <td>-955.878592</td>\n",
       "      <td>956.599084</td>\n",
       "    </tr>\n",
       "    <tr>\n",
       "      <th>7</th>\n",
       "      <td>-685.732959</td>\n",
       "      <td>685.519405</td>\n",
       "    </tr>\n",
       "    <tr>\n",
       "      <th>8</th>\n",
       "      <td>-665.832539</td>\n",
       "      <td>666.500666</td>\n",
       "    </tr>\n",
       "    <tr>\n",
       "      <th>9</th>\n",
       "      <td>-445.605847</td>\n",
       "      <td>446.357321</td>\n",
       "    </tr>\n",
       "    <tr>\n",
       "      <th>10</th>\n",
       "      <td>-252.363598</td>\n",
       "      <td>253.069584</td>\n",
       "    </tr>\n",
       "    <tr>\n",
       "      <th>11</th>\n",
       "      <td>-970.684704</td>\n",
       "      <td>970.514759</td>\n",
       "    </tr>\n",
       "    <tr>\n",
       "      <th>12</th>\n",
       "      <td>-406.447692</td>\n",
       "      <td>407.361456</td>\n",
       "    </tr>\n",
       "    <tr>\n",
       "      <th>13</th>\n",
       "      <td>-559.105741</td>\n",
       "      <td>557.134065</td>\n",
       "    </tr>\n",
       "    <tr>\n",
       "      <th>14</th>\n",
       "      <td>-322.579883</td>\n",
       "      <td>323.706342</td>\n",
       "    </tr>\n",
       "  </tbody>\n",
       "</table>\n",
       "</div>"
      ],
      "text/plain": [
       "    objective_c  objective_d\n",
       "5   -188.430361   188.561560\n",
       "6   -955.878592   956.599084\n",
       "7   -685.732959   685.519405\n",
       "8   -665.832539   666.500666\n",
       "9   -445.605847   446.357321\n",
       "10  -252.363598   253.069584\n",
       "11  -970.684704   970.514759\n",
       "12  -406.447692   407.361456\n",
       "13  -559.105741   557.134065\n",
       "14  -322.579883   323.706342"
      ]
     },
     "execution_count": 11,
     "metadata": {},
     "output_type": "execute_result"
    }
   ],
   "source": [
    "# These are in standard form for minimization\n",
    "form_objective_data(vocs.objectives, data)"
   ]
  },
  {
   "cell_type": "code",
   "execution_count": 12,
   "id": "2ed50815",
   "metadata": {
    "ExecuteTime": {
     "end_time": "2023-10-27T16:46:04.635997800Z",
     "start_time": "2023-10-27T16:46:04.592809200Z"
    },
    "execution": {
     "iopub.execute_input": "2024-01-29T20:54:56.057752Z",
     "iopub.status.busy": "2024-01-29T20:54:56.057422Z",
     "iopub.status.idle": "2024-01-29T20:54:56.063435Z",
     "shell.execute_reply": "2024-01-29T20:54:56.062953Z"
    },
    "pycharm": {
     "name": "#%%\n"
    }
   },
   "outputs": [
    {
     "data": {
      "text/html": [
       "<div>\n",
       "<style scoped>\n",
       "    .dataframe tbody tr th:only-of-type {\n",
       "        vertical-align: middle;\n",
       "    }\n",
       "\n",
       "    .dataframe tbody tr th {\n",
       "        vertical-align: top;\n",
       "    }\n",
       "\n",
       "    .dataframe thead th {\n",
       "        text-align: right;\n",
       "    }\n",
       "</style>\n",
       "<table border=\"1\" class=\"dataframe\">\n",
       "  <thead>\n",
       "    <tr style=\"text-align: right;\">\n",
       "      <th></th>\n",
       "      <th>objective_c</th>\n",
       "      <th>objective_d</th>\n",
       "    </tr>\n",
       "  </thead>\n",
       "  <tbody>\n",
       "    <tr>\n",
       "      <th>5</th>\n",
       "      <td>-188.430361</td>\n",
       "      <td>188.561560</td>\n",
       "    </tr>\n",
       "    <tr>\n",
       "      <th>6</th>\n",
       "      <td>-955.878592</td>\n",
       "      <td>956.599084</td>\n",
       "    </tr>\n",
       "    <tr>\n",
       "      <th>7</th>\n",
       "      <td>-685.732959</td>\n",
       "      <td>685.519405</td>\n",
       "    </tr>\n",
       "    <tr>\n",
       "      <th>8</th>\n",
       "      <td>-665.832539</td>\n",
       "      <td>666.500666</td>\n",
       "    </tr>\n",
       "    <tr>\n",
       "      <th>9</th>\n",
       "      <td>-445.605847</td>\n",
       "      <td>446.357321</td>\n",
       "    </tr>\n",
       "    <tr>\n",
       "      <th>10</th>\n",
       "      <td>-252.363598</td>\n",
       "      <td>253.069584</td>\n",
       "    </tr>\n",
       "    <tr>\n",
       "      <th>11</th>\n",
       "      <td>-970.684704</td>\n",
       "      <td>970.514759</td>\n",
       "    </tr>\n",
       "    <tr>\n",
       "      <th>12</th>\n",
       "      <td>-406.447692</td>\n",
       "      <td>407.361456</td>\n",
       "    </tr>\n",
       "    <tr>\n",
       "      <th>13</th>\n",
       "      <td>-559.105741</td>\n",
       "      <td>557.134065</td>\n",
       "    </tr>\n",
       "    <tr>\n",
       "      <th>14</th>\n",
       "      <td>-322.579883</td>\n",
       "      <td>323.706342</td>\n",
       "    </tr>\n",
       "  </tbody>\n",
       "</table>\n",
       "</div>"
      ],
      "text/plain": [
       "    objective_c  objective_d\n",
       "5   -188.430361   188.561560\n",
       "6   -955.878592   956.599084\n",
       "7   -685.732959   685.519405\n",
       "8   -665.832539   666.500666\n",
       "9   -445.605847   446.357321\n",
       "10  -252.363598   253.069584\n",
       "11  -970.684704   970.514759\n",
       "12  -406.447692   407.361456\n",
       "13  -559.105741   557.134065\n",
       "14  -322.579883   323.706342"
      ]
     },
     "execution_count": 12,
     "metadata": {},
     "output_type": "execute_result"
    }
   ],
   "source": [
    "# This is also available as a method\n",
    "vocs.objective_data(data)"
   ]
  },
  {
   "cell_type": "code",
   "execution_count": 13,
   "id": "9f4275d4",
   "metadata": {
    "ExecuteTime": {
     "end_time": "2023-10-27T16:46:04.665088600Z",
     "start_time": "2023-10-27T16:46:04.607996700Z"
    },
    "execution": {
     "iopub.execute_input": "2024-01-29T20:54:56.065526Z",
     "iopub.status.busy": "2024-01-29T20:54:56.065113Z",
     "iopub.status.idle": "2024-01-29T20:54:56.069437Z",
     "shell.execute_reply": "2024-01-29T20:54:56.068938Z"
    },
    "pycharm": {
     "name": "#%%\n"
    }
   },
   "outputs": [
    {
     "data": {
      "text/plain": [
       "array([[-188.43036068,  188.56155962],\n",
       "       [-955.87859204,  956.59908406],\n",
       "       [-685.73295892,  685.51940521],\n",
       "       [-665.83253909,  666.50066602],\n",
       "       [-445.60584696,  446.35732104],\n",
       "       [-252.36359809,  253.0695836 ],\n",
       "       [-970.68470408,  970.51475927],\n",
       "       [-406.44769233,  407.36145629],\n",
       "       [-559.1057412 ,  557.13406545],\n",
       "       [-322.57988313,  323.70634153]])"
      ]
     },
     "execution_count": 13,
     "metadata": {},
     "output_type": "execute_result"
    }
   ],
   "source": [
    "# use the to_numpy() method to convert for low level use.\n",
    "vocs.objective_data(data).to_numpy()"
   ]
  },
  {
   "cell_type": "code",
   "execution_count": 14,
   "id": "29b73df4",
   "metadata": {
    "ExecuteTime": {
     "end_time": "2023-10-27T16:46:04.702034Z",
     "start_time": "2023-10-27T16:46:04.622998Z"
    },
    "execution": {
     "iopub.execute_input": "2024-01-29T20:54:56.071471Z",
     "iopub.status.busy": "2024-01-29T20:54:56.071291Z",
     "iopub.status.idle": "2024-01-29T20:54:56.078118Z",
     "shell.execute_reply": "2024-01-29T20:54:56.077661Z"
    },
    "pycharm": {
     "name": "#%%\n"
    }
   },
   "outputs": [
    {
     "data": {
      "text/html": [
       "<div>\n",
       "<style scoped>\n",
       "    .dataframe tbody tr th:only-of-type {\n",
       "        vertical-align: middle;\n",
       "    }\n",
       "\n",
       "    .dataframe tbody tr th {\n",
       "        vertical-align: top;\n",
       "    }\n",
       "\n",
       "    .dataframe thead th {\n",
       "        text-align: right;\n",
       "    }\n",
       "</style>\n",
       "<table border=\"1\" class=\"dataframe\">\n",
       "  <thead>\n",
       "    <tr style=\"text-align: right;\">\n",
       "      <th></th>\n",
       "      <th>constraint_e</th>\n",
       "      <th>constraint_f</th>\n",
       "    </tr>\n",
       "  </thead>\n",
       "  <tbody>\n",
       "    <tr>\n",
       "      <th>5</th>\n",
       "      <td>374.860721</td>\n",
       "      <td>-377.123119</td>\n",
       "    </tr>\n",
       "    <tr>\n",
       "      <th>6</th>\n",
       "      <td>1909.757184</td>\n",
       "      <td>-1913.198168</td>\n",
       "    </tr>\n",
       "    <tr>\n",
       "      <th>7</th>\n",
       "      <td>1369.465918</td>\n",
       "      <td>-1371.038810</td>\n",
       "    </tr>\n",
       "    <tr>\n",
       "      <th>8</th>\n",
       "      <td>1329.665078</td>\n",
       "      <td>-1333.001332</td>\n",
       "    </tr>\n",
       "    <tr>\n",
       "      <th>9</th>\n",
       "      <td>889.211694</td>\n",
       "      <td>-892.714642</td>\n",
       "    </tr>\n",
       "    <tr>\n",
       "      <th>10</th>\n",
       "      <td>502.727196</td>\n",
       "      <td>-506.139167</td>\n",
       "    </tr>\n",
       "    <tr>\n",
       "      <th>11</th>\n",
       "      <td>1939.369408</td>\n",
       "      <td>-1941.029519</td>\n",
       "    </tr>\n",
       "    <tr>\n",
       "      <th>12</th>\n",
       "      <td>810.895385</td>\n",
       "      <td>-814.722913</td>\n",
       "    </tr>\n",
       "    <tr>\n",
       "      <th>13</th>\n",
       "      <td>1116.211482</td>\n",
       "      <td>-1114.268131</td>\n",
       "    </tr>\n",
       "    <tr>\n",
       "      <th>14</th>\n",
       "      <td>643.159766</td>\n",
       "      <td>-647.412683</td>\n",
       "    </tr>\n",
       "  </tbody>\n",
       "</table>\n",
       "</div>"
      ],
      "text/plain": [
       "    constraint_e  constraint_f\n",
       "5     374.860721   -377.123119\n",
       "6    1909.757184  -1913.198168\n",
       "7    1369.465918  -1371.038810\n",
       "8    1329.665078  -1333.001332\n",
       "9     889.211694   -892.714642\n",
       "10    502.727196   -506.139167\n",
       "11   1939.369408  -1941.029519\n",
       "12    810.895385   -814.722913\n",
       "13   1116.211482  -1114.268131\n",
       "14    643.159766   -647.412683"
      ]
     },
     "execution_count": 14,
     "metadata": {},
     "output_type": "execute_result"
    }
   ],
   "source": [
    "vocs.constraint_data(data)"
   ]
  },
  {
   "cell_type": "code",
   "execution_count": 15,
   "id": "e46a5e83",
   "metadata": {
    "ExecuteTime": {
     "end_time": "2023-10-27T16:46:04.703032900Z",
     "start_time": "2023-10-27T16:46:04.642000500Z"
    },
    "execution": {
     "iopub.execute_input": "2024-01-29T20:54:56.080323Z",
     "iopub.status.busy": "2024-01-29T20:54:56.079988Z",
     "iopub.status.idle": "2024-01-29T20:54:56.088099Z",
     "shell.execute_reply": "2024-01-29T20:54:56.087661Z"
    },
    "pycharm": {
     "name": "#%%\n"
    }
   },
   "outputs": [
    {
     "data": {
      "text/html": [
       "<div>\n",
       "<style scoped>\n",
       "    .dataframe tbody tr th:only-of-type {\n",
       "        vertical-align: middle;\n",
       "    }\n",
       "\n",
       "    .dataframe tbody tr th {\n",
       "        vertical-align: top;\n",
       "    }\n",
       "\n",
       "    .dataframe thead th {\n",
       "        text-align: right;\n",
       "    }\n",
       "</style>\n",
       "<table border=\"1\" class=\"dataframe\">\n",
       "  <thead>\n",
       "    <tr style=\"text-align: right;\">\n",
       "      <th></th>\n",
       "      <th>feasible_e</th>\n",
       "      <th>feasible_f</th>\n",
       "      <th>feasible</th>\n",
       "    </tr>\n",
       "  </thead>\n",
       "  <tbody>\n",
       "    <tr>\n",
       "      <th>5</th>\n",
       "      <td>False</td>\n",
       "      <td>True</td>\n",
       "      <td>False</td>\n",
       "    </tr>\n",
       "    <tr>\n",
       "      <th>6</th>\n",
       "      <td>False</td>\n",
       "      <td>True</td>\n",
       "      <td>False</td>\n",
       "    </tr>\n",
       "    <tr>\n",
       "      <th>7</th>\n",
       "      <td>False</td>\n",
       "      <td>True</td>\n",
       "      <td>False</td>\n",
       "    </tr>\n",
       "    <tr>\n",
       "      <th>8</th>\n",
       "      <td>False</td>\n",
       "      <td>True</td>\n",
       "      <td>False</td>\n",
       "    </tr>\n",
       "    <tr>\n",
       "      <th>9</th>\n",
       "      <td>False</td>\n",
       "      <td>True</td>\n",
       "      <td>False</td>\n",
       "    </tr>\n",
       "    <tr>\n",
       "      <th>10</th>\n",
       "      <td>False</td>\n",
       "      <td>True</td>\n",
       "      <td>False</td>\n",
       "    </tr>\n",
       "    <tr>\n",
       "      <th>11</th>\n",
       "      <td>False</td>\n",
       "      <td>True</td>\n",
       "      <td>False</td>\n",
       "    </tr>\n",
       "    <tr>\n",
       "      <th>12</th>\n",
       "      <td>False</td>\n",
       "      <td>True</td>\n",
       "      <td>False</td>\n",
       "    </tr>\n",
       "    <tr>\n",
       "      <th>13</th>\n",
       "      <td>False</td>\n",
       "      <td>True</td>\n",
       "      <td>False</td>\n",
       "    </tr>\n",
       "    <tr>\n",
       "      <th>14</th>\n",
       "      <td>False</td>\n",
       "      <td>True</td>\n",
       "      <td>False</td>\n",
       "    </tr>\n",
       "  </tbody>\n",
       "</table>\n",
       "</div>"
      ],
      "text/plain": [
       "    feasible_e  feasible_f  feasible\n",
       "5        False        True     False\n",
       "6        False        True     False\n",
       "7        False        True     False\n",
       "8        False        True     False\n",
       "9        False        True     False\n",
       "10       False        True     False\n",
       "11       False        True     False\n",
       "12       False        True     False\n",
       "13       False        True     False\n",
       "14       False        True     False"
      ]
     },
     "execution_count": 15,
     "metadata": {},
     "output_type": "execute_result"
    }
   ],
   "source": [
    "vocs.feasibility_data(data)"
   ]
  },
  {
   "cell_type": "code",
   "execution_count": 16,
   "id": "c42dfa48",
   "metadata": {
    "ExecuteTime": {
     "end_time": "2023-10-27T16:46:04.703032900Z",
     "start_time": "2023-10-27T16:46:04.665088600Z"
    },
    "collapsed": false,
    "execution": {
     "iopub.execute_input": "2024-01-29T20:54:56.089991Z",
     "iopub.status.busy": "2024-01-29T20:54:56.089829Z",
     "iopub.status.idle": "2024-01-29T20:54:56.096101Z",
     "shell.execute_reply": "2024-01-29T20:54:56.095640Z"
    },
    "jupyter": {
     "outputs_hidden": false
    }
   },
   "outputs": [
    {
     "data": {
      "text/html": [
       "<div>\n",
       "<style scoped>\n",
       "    .dataframe tbody tr th:only-of-type {\n",
       "        vertical-align: middle;\n",
       "    }\n",
       "\n",
       "    .dataframe tbody tr th {\n",
       "        vertical-align: top;\n",
       "    }\n",
       "\n",
       "    .dataframe thead th {\n",
       "        text-align: right;\n",
       "    }\n",
       "</style>\n",
       "<table border=\"1\" class=\"dataframe\">\n",
       "  <thead>\n",
       "    <tr style=\"text-align: right;\">\n",
       "      <th></th>\n",
       "      <th>a</th>\n",
       "      <th>b</th>\n",
       "    </tr>\n",
       "  </thead>\n",
       "  <tbody>\n",
       "    <tr>\n",
       "      <th>5</th>\n",
       "      <td>0.188496</td>\n",
       "      <td>0.467200</td>\n",
       "    </tr>\n",
       "    <tr>\n",
       "      <th>6</th>\n",
       "      <td>0.956239</td>\n",
       "      <td>0.319877</td>\n",
       "    </tr>\n",
       "    <tr>\n",
       "      <th>7</th>\n",
       "      <td>0.685626</td>\n",
       "      <td>0.553388</td>\n",
       "    </tr>\n",
       "    <tr>\n",
       "      <th>8</th>\n",
       "      <td>0.666167</td>\n",
       "      <td>0.332968</td>\n",
       "    </tr>\n",
       "    <tr>\n",
       "      <th>9</th>\n",
       "      <td>0.445982</td>\n",
       "      <td>0.312131</td>\n",
       "    </tr>\n",
       "    <tr>\n",
       "      <th>10</th>\n",
       "      <td>0.252717</td>\n",
       "      <td>0.323504</td>\n",
       "    </tr>\n",
       "    <tr>\n",
       "      <th>11</th>\n",
       "      <td>0.970600</td>\n",
       "      <td>0.542486</td>\n",
       "    </tr>\n",
       "    <tr>\n",
       "      <th>12</th>\n",
       "      <td>0.406905</td>\n",
       "      <td>0.271559</td>\n",
       "    </tr>\n",
       "    <tr>\n",
       "      <th>13</th>\n",
       "      <td>0.558120</td>\n",
       "      <td>0.992919</td>\n",
       "    </tr>\n",
       "    <tr>\n",
       "      <th>14</th>\n",
       "      <td>0.323143</td>\n",
       "      <td>0.218385</td>\n",
       "    </tr>\n",
       "  </tbody>\n",
       "</table>\n",
       "</div>"
      ],
      "text/plain": [
       "           a         b\n",
       "5   0.188496  0.467200\n",
       "6   0.956239  0.319877\n",
       "7   0.685626  0.553388\n",
       "8   0.666167  0.332968\n",
       "9   0.445982  0.312131\n",
       "10  0.252717  0.323504\n",
       "11  0.970600  0.542486\n",
       "12  0.406905  0.271559\n",
       "13  0.558120  0.992919\n",
       "14  0.323143  0.218385"
      ]
     },
     "execution_count": 16,
     "metadata": {},
     "output_type": "execute_result"
    }
   ],
   "source": [
    "# normalize inputs to unit domain [0,1]\n",
    "normed_data = vocs.normalize_inputs(data)\n",
    "normed_data"
   ]
  },
  {
   "cell_type": "code",
   "execution_count": 17,
   "id": "7364e86b",
   "metadata": {
    "collapsed": false,
    "execution": {
     "iopub.execute_input": "2024-01-29T20:54:56.098006Z",
     "iopub.status.busy": "2024-01-29T20:54:56.097842Z",
     "iopub.status.idle": "2024-01-29T20:54:56.103943Z",
     "shell.execute_reply": "2024-01-29T20:54:56.103477Z"
    },
    "jupyter": {
     "outputs_hidden": false
    }
   },
   "outputs": [
    {
     "data": {
      "text/html": [
       "<div>\n",
       "<style scoped>\n",
       "    .dataframe tbody tr th:only-of-type {\n",
       "        vertical-align: middle;\n",
       "    }\n",
       "\n",
       "    .dataframe tbody tr th {\n",
       "        vertical-align: top;\n",
       "    }\n",
       "\n",
       "    .dataframe thead th {\n",
       "        text-align: right;\n",
       "    }\n",
       "</style>\n",
       "<table border=\"1\" class=\"dataframe\">\n",
       "  <thead>\n",
       "    <tr style=\"text-align: right;\">\n",
       "      <th></th>\n",
       "      <th>a</th>\n",
       "      <th>b</th>\n",
       "    </tr>\n",
       "  </thead>\n",
       "  <tbody>\n",
       "    <tr>\n",
       "      <th>5</th>\n",
       "      <td>188.495960</td>\n",
       "      <td>-0.065599</td>\n",
       "    </tr>\n",
       "    <tr>\n",
       "      <th>6</th>\n",
       "      <td>956.238838</td>\n",
       "      <td>-0.360246</td>\n",
       "    </tr>\n",
       "    <tr>\n",
       "      <th>7</th>\n",
       "      <td>685.626182</td>\n",
       "      <td>0.106777</td>\n",
       "    </tr>\n",
       "    <tr>\n",
       "      <th>8</th>\n",
       "      <td>666.166603</td>\n",
       "      <td>-0.334063</td>\n",
       "    </tr>\n",
       "    <tr>\n",
       "      <th>9</th>\n",
       "      <td>445.981584</td>\n",
       "      <td>-0.375737</td>\n",
       "    </tr>\n",
       "    <tr>\n",
       "      <th>10</th>\n",
       "      <td>252.716591</td>\n",
       "      <td>-0.352993</td>\n",
       "    </tr>\n",
       "    <tr>\n",
       "      <th>11</th>\n",
       "      <td>970.599732</td>\n",
       "      <td>0.084972</td>\n",
       "    </tr>\n",
       "    <tr>\n",
       "      <th>12</th>\n",
       "      <td>406.904574</td>\n",
       "      <td>-0.456882</td>\n",
       "    </tr>\n",
       "    <tr>\n",
       "      <th>13</th>\n",
       "      <td>558.119903</td>\n",
       "      <td>0.985838</td>\n",
       "    </tr>\n",
       "    <tr>\n",
       "      <th>14</th>\n",
       "      <td>323.143112</td>\n",
       "      <td>-0.563229</td>\n",
       "    </tr>\n",
       "  </tbody>\n",
       "</table>\n",
       "</div>"
      ],
      "text/plain": [
       "             a         b\n",
       "5   188.495960 -0.065599\n",
       "6   956.238838 -0.360246\n",
       "7   685.626182  0.106777\n",
       "8   666.166603 -0.334063\n",
       "9   445.981584 -0.375737\n",
       "10  252.716591 -0.352993\n",
       "11  970.599732  0.084972\n",
       "12  406.904574 -0.456882\n",
       "13  558.119903  0.985838\n",
       "14  323.143112 -0.563229"
      ]
     },
     "execution_count": 17,
     "metadata": {},
     "output_type": "execute_result"
    }
   ],
   "source": [
    "# and denormalize\n",
    "vocs.denormalize_inputs(normed_data)"
   ]
  },
  {
   "cell_type": "markdown",
   "id": "59041be7",
   "metadata": {},
   "source": [
    "# Error handling"
   ]
  },
  {
   "cell_type": "code",
   "execution_count": 18,
   "id": "f9171ede",
   "metadata": {
    "ExecuteTime": {
     "end_time": "2023-10-27T16:46:04.719064600Z",
     "start_time": "2023-10-27T16:46:04.668031Z"
    },
    "execution": {
     "iopub.execute_input": "2024-01-29T20:54:56.106245Z",
     "iopub.status.busy": "2024-01-29T20:54:56.105793Z",
     "iopub.status.idle": "2024-01-29T20:54:56.109988Z",
     "shell.execute_reply": "2024-01-29T20:54:56.109499Z"
    }
   },
   "outputs": [],
   "source": [
    "Y = \"\"\"\n",
    "variables:\n",
    "  a: [0, 1e3] # Note that 1e3 usually parses as a str with YAML. \n",
    "  b: [-1, 1]\n",
    "objectives:\n",
    "  c: maximize\n",
    "  d: minimize \n",
    "constraints:\n",
    "  e: ['Less_than', 2]\n",
    "  f: ['greater_than', 0]\n",
    "constants:\n",
    "  g: 1234\n",
    "\n",
    "\"\"\"\n",
    "\n",
    "vocs = VOCS.from_yaml(Y)"
   ]
  },
  {
   "cell_type": "code",
   "execution_count": 19,
   "id": "b5513539",
   "metadata": {
    "ExecuteTime": {
     "end_time": "2023-10-27T16:46:04.763060700Z",
     "start_time": "2023-10-27T16:46:04.686996500Z"
    },
    "execution": {
     "iopub.execute_input": "2024-01-29T20:54:56.112059Z",
     "iopub.status.busy": "2024-01-29T20:54:56.111731Z",
     "iopub.status.idle": "2024-01-29T20:54:56.116938Z",
     "shell.execute_reply": "2024-01-29T20:54:56.116408Z"
    }
   },
   "outputs": [
    {
     "data": {
      "text/plain": [
       "0   NaN\n",
       "1   NaN\n",
       "2   NaN\n",
       "Name: b, dtype: float64"
      ]
     },
     "execution_count": 19,
     "metadata": {},
     "output_type": "execute_result"
    }
   ],
   "source": [
    "d = {'a': [1,2,3]}\n",
    "\n",
    "df = pd.DataFrame(d)\n",
    "df2 = pd.DataFrame(df).copy()\n",
    "\n",
    "df2['b'] = np.nan\n",
    "df2['b'] - 1"
   ]
  },
  {
   "cell_type": "code",
   "execution_count": 20,
   "id": "30f3b3b4",
   "metadata": {
    "ExecuteTime": {
     "end_time": "2023-10-27T16:46:04.800032400Z",
     "start_time": "2023-10-27T16:46:04.698034700Z"
    },
    "execution": {
     "iopub.execute_input": "2024-01-29T20:54:56.119101Z",
     "iopub.status.busy": "2024-01-29T20:54:56.118758Z",
     "iopub.status.idle": "2024-01-29T20:54:56.121500Z",
     "shell.execute_reply": "2024-01-29T20:54:56.121038Z"
    }
   },
   "outputs": [],
   "source": [
    "data['a']  = np.nan"
   ]
  },
  {
   "cell_type": "code",
   "execution_count": 21,
   "id": "6393376b",
   "metadata": {
    "ExecuteTime": {
     "end_time": "2023-10-27T16:46:04.877099700Z",
     "start_time": "2023-10-27T16:46:04.715062Z"
    },
    "execution": {
     "iopub.execute_input": "2024-01-29T20:54:56.123370Z",
     "iopub.status.busy": "2024-01-29T20:54:56.123211Z",
     "iopub.status.idle": "2024-01-29T20:54:56.126872Z",
     "shell.execute_reply": "2024-01-29T20:54:56.126316Z"
    }
   },
   "outputs": [
    {
     "data": {
      "text/plain": [
       "2"
      ]
     },
     "execution_count": 21,
     "metadata": {},
     "output_type": "execute_result"
    }
   ],
   "source": [
    "a = 2\n",
    "def f(x=a):\n",
    "    return x\n",
    "a=99\n",
    "f()"
   ]
  },
  {
   "cell_type": "code",
   "execution_count": 22,
   "id": "cb0ecd74",
   "metadata": {
    "ExecuteTime": {
     "end_time": "2023-10-27T16:46:04.880100300Z",
     "start_time": "2023-10-27T16:46:04.728063600Z"
    },
    "execution": {
     "iopub.execute_input": "2024-01-29T20:54:56.128763Z",
     "iopub.status.busy": "2024-01-29T20:54:56.128598Z",
     "iopub.status.idle": "2024-01-29T20:54:56.134192Z",
     "shell.execute_reply": "2024-01-29T20:54:56.133719Z"
    }
   },
   "outputs": [
    {
     "data": {
      "text/html": [
       "<div>\n",
       "<style scoped>\n",
       "    .dataframe tbody tr th:only-of-type {\n",
       "        vertical-align: middle;\n",
       "    }\n",
       "\n",
       "    .dataframe tbody tr th {\n",
       "        vertical-align: top;\n",
       "    }\n",
       "\n",
       "    .dataframe thead th {\n",
       "        text-align: right;\n",
       "    }\n",
       "</style>\n",
       "<table border=\"1\" class=\"dataframe\">\n",
       "  <thead>\n",
       "    <tr style=\"text-align: right;\">\n",
       "      <th></th>\n",
       "      <th>A</th>\n",
       "    </tr>\n",
       "  </thead>\n",
       "  <tbody>\n",
       "    <tr>\n",
       "      <th>1</th>\n",
       "      <td>6.000000e+66</td>\n",
       "    </tr>\n",
       "    <tr>\n",
       "      <th>2</th>\n",
       "      <td>6.000000e+66</td>\n",
       "    </tr>\n",
       "    <tr>\n",
       "      <th>3</th>\n",
       "      <td>6.000000e+66</td>\n",
       "    </tr>\n",
       "  </tbody>\n",
       "</table>\n",
       "</div>"
      ],
      "text/plain": [
       "              A\n",
       "1  6.000000e+66\n",
       "2  6.000000e+66\n",
       "3  6.000000e+66"
      ]
     },
     "execution_count": 22,
     "metadata": {},
     "output_type": "execute_result"
    }
   ],
   "source": [
    "pd.DataFrame(6e66, index=[1,2,3], columns=['A'])"
   ]
  },
  {
   "cell_type": "code",
   "execution_count": 23,
   "id": "88bb8253",
   "metadata": {
    "ExecuteTime": {
     "end_time": "2023-10-27T16:46:04.896129200Z",
     "start_time": "2023-10-27T16:46:04.744036400Z"
    },
    "execution": {
     "iopub.execute_input": "2024-01-29T20:54:56.136128Z",
     "iopub.status.busy": "2024-01-29T20:54:56.135959Z",
     "iopub.status.idle": "2024-01-29T20:54:56.142441Z",
     "shell.execute_reply": "2024-01-29T20:54:56.141983Z"
    }
   },
   "outputs": [
    {
     "data": {
      "text/html": [
       "<div>\n",
       "<style scoped>\n",
       "    .dataframe tbody tr th:only-of-type {\n",
       "        vertical-align: middle;\n",
       "    }\n",
       "\n",
       "    .dataframe tbody tr th {\n",
       "        vertical-align: top;\n",
       "    }\n",
       "\n",
       "    .dataframe thead th {\n",
       "        text-align: right;\n",
       "    }\n",
       "</style>\n",
       "<table border=\"1\" class=\"dataframe\">\n",
       "  <thead>\n",
       "    <tr style=\"text-align: right;\">\n",
       "      <th></th>\n",
       "      <th>objective_c</th>\n",
       "      <th>objective_d</th>\n",
       "    </tr>\n",
       "  </thead>\n",
       "  <tbody>\n",
       "    <tr>\n",
       "      <th>9</th>\n",
       "      <td>-1.0</td>\n",
       "      <td>inf</td>\n",
       "    </tr>\n",
       "    <tr>\n",
       "      <th>3</th>\n",
       "      <td>-2.0</td>\n",
       "      <td>inf</td>\n",
       "    </tr>\n",
       "    <tr>\n",
       "      <th>4</th>\n",
       "      <td>-3.0</td>\n",
       "      <td>inf</td>\n",
       "    </tr>\n",
       "    <tr>\n",
       "      <th>5</th>\n",
       "      <td>-4.0</td>\n",
       "      <td>inf</td>\n",
       "    </tr>\n",
       "  </tbody>\n",
       "</table>\n",
       "</div>"
      ],
      "text/plain": [
       "   objective_c  objective_d\n",
       "9         -1.0          inf\n",
       "3         -2.0          inf\n",
       "4         -3.0          inf\n",
       "5         -4.0          inf"
      ]
     },
     "execution_count": 23,
     "metadata": {},
     "output_type": "execute_result"
    }
   ],
   "source": [
    "# These are in standard form for minimization\n",
    "\n",
    "data = pd.DataFrame({'c':[1,2,3,4]}, index=[9,3,4,5])\n",
    "\n",
    "form_objective_data(vocs.objectives, data)"
   ]
  }
 ],
 "metadata": {
  "interpreter": {
   "hash": "60703f99bc9a1e465ed9e894ac1e8f256837fa55699b4912a7939def4ae95691"
  },
  "kernelspec": {
   "display_name": "Python 3 (ipykernel)",
   "language": "python",
   "name": "python3"
  },
  "language_info": {
   "codemirror_mode": {
    "name": "ipython",
    "version": 3
   },
   "file_extension": ".py",
   "mimetype": "text/x-python",
   "name": "python",
   "nbconvert_exporter": "python",
   "pygments_lexer": "ipython3",
   "version": "3.9.18"
  }
 },
 "nbformat": 4,
 "nbformat_minor": 5
}
