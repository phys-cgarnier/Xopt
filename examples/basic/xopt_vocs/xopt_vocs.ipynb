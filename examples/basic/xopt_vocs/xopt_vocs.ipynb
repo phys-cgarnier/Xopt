{
 "cells": [
  {
   "cell_type": "markdown",
   "id": "9700f595",
   "metadata": {
    "pycharm": {
     "name": "#%% md\n"
    }
   },
   "source": [
    "# VOCS data structure \n",
    "\n",
    "Variables, Objectives, Constraints, and other Settings (VOCS) helps define our optimization problems. "
   ]
  },
  {
   "cell_type": "code",
   "execution_count": 1,
   "id": "32324ac0-b299-42ee-a6b9-e112dfaa5a45",
   "metadata": {
    "ExecuteTime": {
     "end_time": "2023-10-27T16:46:04.425862200Z",
     "start_time": "2023-10-27T16:46:01.206803200Z"
    },
    "execution": {
     "iopub.execute_input": "2024-03-12T20:58:00.737611Z",
     "iopub.status.busy": "2024-03-12T20:58:00.737433Z",
     "iopub.status.idle": "2024-03-12T20:58:02.193697Z",
     "shell.execute_reply": "2024-03-12T20:58:02.193121Z"
    },
    "pycharm": {
     "name": "#%%\n"
    }
   },
   "outputs": [],
   "source": [
    "from xopt.vocs import VOCS"
   ]
  },
  {
   "cell_type": "code",
   "execution_count": 2,
   "id": "31a15253-14cd-4547-ab01-09f4b56f5bf5",
   "metadata": {
    "ExecuteTime": {
     "end_time": "2023-10-27T16:46:04.440220800Z",
     "start_time": "2023-10-27T16:46:04.427862900Z"
    },
    "execution": {
     "iopub.execute_input": "2024-03-12T20:58:02.196335Z",
     "iopub.status.busy": "2024-03-12T20:58:02.196113Z",
     "iopub.status.idle": "2024-03-12T20:58:02.203971Z",
     "shell.execute_reply": "2024-03-12T20:58:02.203384Z"
    },
    "pycharm": {
     "name": "#%%\n"
    }
   },
   "outputs": [
    {
     "data": {
      "text/plain": [
       "VOCS(variables={'a': [0.0, 1000.0], 'b': [-1.0, 1.0]}, constraints={'e': ['LESS_THAN', 2.0], 'f': ['GREATER_THAN', 0.0]}, objectives={'c': 'MAXIMIZE', 'd': 'MINIMIZE'}, constants={'g': 1234}, observables=[])"
      ]
     },
     "execution_count": 2,
     "metadata": {},
     "output_type": "execute_result"
    }
   ],
   "source": [
    "Y = \"\"\"\n",
    "variables:\n",
    "  a: [0, 1e3] # Note that 1e3 usually parses as a str with YAML. \n",
    "  b: [-1, 1]\n",
    "objectives:\n",
    "  c: maximize\n",
    "  d: minimize \n",
    "constraints:\n",
    "  e: ['Less_than', 2]\n",
    "  f: ['greater_than', 0]\n",
    "constants:\n",
    "  g: 1234\n",
    "\n",
    "\"\"\"\n",
    "\n",
    "vocs = VOCS.from_yaml(Y)\n",
    "vocs"
   ]
  },
  {
   "cell_type": "code",
   "execution_count": 3,
   "id": "304bcc89",
   "metadata": {
    "ExecuteTime": {
     "end_time": "2023-10-27T16:46:04.484822200Z",
     "start_time": "2023-10-27T16:46:04.442248900Z"
    },
    "execution": {
     "iopub.execute_input": "2024-03-12T20:58:02.206182Z",
     "iopub.status.busy": "2024-03-12T20:58:02.205852Z",
     "iopub.status.idle": "2024-03-12T20:58:02.209696Z",
     "shell.execute_reply": "2024-03-12T20:58:02.209210Z"
    },
    "pycharm": {
     "name": "#%%\n"
    }
   },
   "outputs": [
    {
     "data": {
      "text/plain": [
       "{'variables': {'a': [0.0, 1000.0], 'b': [-1.0, 1.0]},\n",
       " 'constraints': {'e': ['LESS_THAN', 2.0], 'f': ['GREATER_THAN', 0.0]},\n",
       " 'objectives': {'c': 'MAXIMIZE', 'd': 'MINIMIZE'},\n",
       " 'constants': {'g': 1234},\n",
       " 'observables': []}"
      ]
     },
     "execution_count": 3,
     "metadata": {},
     "output_type": "execute_result"
    }
   ],
   "source": [
    "# as dict\n",
    "dict(vocs)"
   ]
  },
  {
   "cell_type": "code",
   "execution_count": 4,
   "id": "b236bfb4",
   "metadata": {
    "ExecuteTime": {
     "end_time": "2023-10-27T16:46:04.493762900Z",
     "start_time": "2023-10-27T16:46:04.458284400Z"
    },
    "execution": {
     "iopub.execute_input": "2024-03-12T20:58:02.211853Z",
     "iopub.status.busy": "2024-03-12T20:58:02.211397Z",
     "iopub.status.idle": "2024-03-12T20:58:02.214113Z",
     "shell.execute_reply": "2024-03-12T20:58:02.213650Z"
    },
    "pycharm": {
     "name": "#%%\n"
    }
   },
   "outputs": [],
   "source": [
    "#  re-parse dict\n",
    "vocs2 = VOCS.from_dict(dict(vocs))"
   ]
  },
  {
   "cell_type": "code",
   "execution_count": 5,
   "id": "76c9a173",
   "metadata": {
    "ExecuteTime": {
     "end_time": "2023-10-27T16:46:04.493762900Z",
     "start_time": "2023-10-27T16:46:04.471285600Z"
    },
    "execution": {
     "iopub.execute_input": "2024-03-12T20:58:02.216234Z",
     "iopub.status.busy": "2024-03-12T20:58:02.215900Z",
     "iopub.status.idle": "2024-03-12T20:58:02.219443Z",
     "shell.execute_reply": "2024-03-12T20:58:02.218984Z"
    },
    "pycharm": {
     "name": "#%%\n"
    }
   },
   "outputs": [
    {
     "data": {
      "text/plain": [
       "True"
      ]
     },
     "execution_count": 5,
     "metadata": {},
     "output_type": "execute_result"
    }
   ],
   "source": [
    "# Check that these are the same\n",
    "vocs2 == vocs"
   ]
  },
  {
   "cell_type": "code",
   "execution_count": 6,
   "id": "6a846f4d",
   "metadata": {
    "ExecuteTime": {
     "end_time": "2023-10-27T16:46:04.503771300Z",
     "start_time": "2023-10-27T16:46:04.486737500Z"
    },
    "execution": {
     "iopub.execute_input": "2024-03-12T20:58:02.221373Z",
     "iopub.status.busy": "2024-03-12T20:58:02.221180Z",
     "iopub.status.idle": "2024-03-12T20:58:02.224736Z",
     "shell.execute_reply": "2024-03-12T20:58:02.224191Z"
    },
    "pycharm": {
     "name": "#%%\n"
    }
   },
   "outputs": [
    {
     "data": {
      "text/plain": [
       "{'a': [0.0, 1000.0], 'b': [-1.0, 1.0]}"
      ]
     },
     "execution_count": 6,
     "metadata": {},
     "output_type": "execute_result"
    }
   ],
   "source": [
    "# This replaces the old vocs[\"variables\"]\n",
    "getattr(vocs, \"variables\")"
   ]
  },
  {
   "cell_type": "code",
   "execution_count": 7,
   "id": "6fa2afc8",
   "metadata": {
    "ExecuteTime": {
     "end_time": "2023-10-27T16:46:04.544770800Z",
     "start_time": "2023-10-27T16:46:04.504768500Z"
    },
    "execution": {
     "iopub.execute_input": "2024-03-12T20:58:02.227026Z",
     "iopub.status.busy": "2024-03-12T20:58:02.226590Z",
     "iopub.status.idle": "2024-03-12T20:58:02.230207Z",
     "shell.execute_reply": "2024-03-12T20:58:02.229706Z"
    },
    "pycharm": {
     "name": "#%%\n"
    }
   },
   "outputs": [
    {
     "data": {
      "text/plain": [
       "True"
      ]
     },
     "execution_count": 7,
     "metadata": {},
     "output_type": "execute_result"
    }
   ],
   "source": [
    "vocs.objectives[\"c\"] == 'MAXIMIZE'"
   ]
  },
  {
   "cell_type": "code",
   "execution_count": 8,
   "id": "713272b7",
   "metadata": {
    "ExecuteTime": {
     "end_time": "2023-10-27T16:46:04.544770800Z",
     "start_time": "2023-10-27T16:46:04.518770200Z"
    },
    "execution": {
     "iopub.execute_input": "2024-03-12T20:58:02.232165Z",
     "iopub.status.busy": "2024-03-12T20:58:02.231990Z",
     "iopub.status.idle": "2024-03-12T20:58:02.235605Z",
     "shell.execute_reply": "2024-03-12T20:58:02.235144Z"
    },
    "pycharm": {
     "name": "#%%\n"
    }
   },
   "outputs": [
    {
     "data": {
      "text/plain": [
       "'{\"variables\":{\"a\":[0.0,1000.0],\"b\":[-1.0,1.0]},\"constraints\":{\"e\":[\"LESS_THAN\",2.0],\"f\":[\"GREATER_THAN\",0.0]},\"objectives\":{\"c\":\"MAXIMIZE\",\"d\":\"MINIMIZE\"},\"constants\":{\"g\":1234},\"observables\":[]}'"
      ]
     },
     "execution_count": 8,
     "metadata": {},
     "output_type": "execute_result"
    }
   ],
   "source": [
    "# json\n",
    "vocs.to_json()"
   ]
  },
  {
   "cell_type": "markdown",
   "id": "11167a85",
   "metadata": {
    "pycharm": {
     "name": "#%% md\n"
    }
   },
   "source": [
    "# Objective Evaluation"
   ]
  },
  {
   "cell_type": "code",
   "execution_count": 9,
   "id": "c4d150be",
   "metadata": {
    "ExecuteTime": {
     "end_time": "2023-10-27T16:46:04.566771500Z",
     "start_time": "2023-10-27T16:46:04.534772500Z"
    },
    "execution": {
     "iopub.execute_input": "2024-03-12T20:58:02.237672Z",
     "iopub.status.busy": "2024-03-12T20:58:02.237493Z",
     "iopub.status.idle": "2024-03-12T20:58:02.251227Z",
     "shell.execute_reply": "2024-03-12T20:58:02.250664Z"
    },
    "pycharm": {
     "name": "#%%\n"
    }
   },
   "outputs": [
    {
     "data": {
      "text/html": [
       "<div>\n",
       "<style scoped>\n",
       "    .dataframe tbody tr th:only-of-type {\n",
       "        vertical-align: middle;\n",
       "    }\n",
       "\n",
       "    .dataframe tbody tr th {\n",
       "        vertical-align: top;\n",
       "    }\n",
       "\n",
       "    .dataframe thead th {\n",
       "        text-align: right;\n",
       "    }\n",
       "</style>\n",
       "<table border=\"1\" class=\"dataframe\">\n",
       "  <thead>\n",
       "    <tr style=\"text-align: right;\">\n",
       "      <th></th>\n",
       "      <th>a</th>\n",
       "      <th>b</th>\n",
       "      <th>g</th>\n",
       "      <th>c</th>\n",
       "      <th>d</th>\n",
       "      <th>e</th>\n",
       "      <th>f</th>\n",
       "    </tr>\n",
       "  </thead>\n",
       "  <tbody>\n",
       "    <tr>\n",
       "      <th>5</th>\n",
       "      <td>279.614240</td>\n",
       "      <td>-0.147413</td>\n",
       "      <td>1234</td>\n",
       "      <td>279.466827</td>\n",
       "      <td>279.761653</td>\n",
       "      <td>558.933655</td>\n",
       "      <td>559.523306</td>\n",
       "    </tr>\n",
       "    <tr>\n",
       "      <th>6</th>\n",
       "      <td>634.265880</td>\n",
       "      <td>0.443675</td>\n",
       "      <td>1234</td>\n",
       "      <td>634.709555</td>\n",
       "      <td>633.822205</td>\n",
       "      <td>1269.419110</td>\n",
       "      <td>1267.644409</td>\n",
       "    </tr>\n",
       "    <tr>\n",
       "      <th>7</th>\n",
       "      <td>233.754157</td>\n",
       "      <td>0.982017</td>\n",
       "      <td>1234</td>\n",
       "      <td>234.736174</td>\n",
       "      <td>232.772140</td>\n",
       "      <td>469.472347</td>\n",
       "      <td>465.544280</td>\n",
       "    </tr>\n",
       "    <tr>\n",
       "      <th>8</th>\n",
       "      <td>405.665450</td>\n",
       "      <td>-0.923127</td>\n",
       "      <td>1234</td>\n",
       "      <td>404.742323</td>\n",
       "      <td>406.588577</td>\n",
       "      <td>809.484647</td>\n",
       "      <td>813.177155</td>\n",
       "    </tr>\n",
       "    <tr>\n",
       "      <th>9</th>\n",
       "      <td>10.706575</td>\n",
       "      <td>-0.412627</td>\n",
       "      <td>1234</td>\n",
       "      <td>10.293948</td>\n",
       "      <td>11.119201</td>\n",
       "      <td>20.587896</td>\n",
       "      <td>22.238403</td>\n",
       "    </tr>\n",
       "    <tr>\n",
       "      <th>10</th>\n",
       "      <td>543.393956</td>\n",
       "      <td>0.443011</td>\n",
       "      <td>1234</td>\n",
       "      <td>543.836967</td>\n",
       "      <td>542.950944</td>\n",
       "      <td>1087.673934</td>\n",
       "      <td>1085.901889</td>\n",
       "    </tr>\n",
       "    <tr>\n",
       "      <th>11</th>\n",
       "      <td>803.152052</td>\n",
       "      <td>0.577118</td>\n",
       "      <td>1234</td>\n",
       "      <td>803.729170</td>\n",
       "      <td>802.574934</td>\n",
       "      <td>1607.458339</td>\n",
       "      <td>1605.149869</td>\n",
       "    </tr>\n",
       "    <tr>\n",
       "      <th>12</th>\n",
       "      <td>686.296289</td>\n",
       "      <td>-0.365139</td>\n",
       "      <td>1234</td>\n",
       "      <td>685.931150</td>\n",
       "      <td>686.661428</td>\n",
       "      <td>1371.862299</td>\n",
       "      <td>1373.322856</td>\n",
       "    </tr>\n",
       "    <tr>\n",
       "      <th>13</th>\n",
       "      <td>364.344271</td>\n",
       "      <td>-0.653601</td>\n",
       "      <td>1234</td>\n",
       "      <td>363.690670</td>\n",
       "      <td>364.997873</td>\n",
       "      <td>727.381340</td>\n",
       "      <td>729.995745</td>\n",
       "    </tr>\n",
       "    <tr>\n",
       "      <th>14</th>\n",
       "      <td>355.594797</td>\n",
       "      <td>-0.610052</td>\n",
       "      <td>1234</td>\n",
       "      <td>354.984745</td>\n",
       "      <td>356.204849</td>\n",
       "      <td>709.969489</td>\n",
       "      <td>712.409698</td>\n",
       "    </tr>\n",
       "  </tbody>\n",
       "</table>\n",
       "</div>"
      ],
      "text/plain": [
       "             a         b     g           c           d            e  \\\n",
       "5   279.614240 -0.147413  1234  279.466827  279.761653   558.933655   \n",
       "6   634.265880  0.443675  1234  634.709555  633.822205  1269.419110   \n",
       "7   233.754157  0.982017  1234  234.736174  232.772140   469.472347   \n",
       "8   405.665450 -0.923127  1234  404.742323  406.588577   809.484647   \n",
       "9    10.706575 -0.412627  1234   10.293948   11.119201    20.587896   \n",
       "10  543.393956  0.443011  1234  543.836967  542.950944  1087.673934   \n",
       "11  803.152052  0.577118  1234  803.729170  802.574934  1607.458339   \n",
       "12  686.296289 -0.365139  1234  685.931150  686.661428  1371.862299   \n",
       "13  364.344271 -0.653601  1234  363.690670  364.997873   727.381340   \n",
       "14  355.594797 -0.610052  1234  354.984745  356.204849   709.969489   \n",
       "\n",
       "              f  \n",
       "5    559.523306  \n",
       "6   1267.644409  \n",
       "7    465.544280  \n",
       "8    813.177155  \n",
       "9     22.238403  \n",
       "10  1085.901889  \n",
       "11  1605.149869  \n",
       "12  1373.322856  \n",
       "13   729.995745  \n",
       "14   712.409698  "
      ]
     },
     "execution_count": 9,
     "metadata": {},
     "output_type": "execute_result"
    }
   ],
   "source": [
    "from xopt.vocs import form_objective_data, form_constraint_data, form_feasibility_data\n",
    "import pandas as pd\n",
    "import numpy as np\n",
    "\n",
    "data = pd.DataFrame(vocs.random_inputs(10))\n",
    "# Add some outputs\n",
    "data[\"c\"] = data[\"a\"] + data[\"b\"]\n",
    "data[\"d\"] = data[\"a\"] - data[\"b\"]\n",
    "data[\"e\"] = data[\"a\"] * 2 + data[\"b\"] * 2\n",
    "data[\"f\"] = data[\"a\"] * 2 - data[\"b\"] * 2\n",
    "data.index = np.arange(len(data)) + 5  # custom index\n",
    "data"
   ]
  },
  {
   "cell_type": "code",
   "execution_count": 10,
   "id": "a695dc98",
   "metadata": {
    "ExecuteTime": {
     "end_time": "2023-10-27T16:46:04.604993200Z",
     "start_time": "2023-10-27T16:46:04.563770500Z"
    },
    "execution": {
     "iopub.execute_input": "2024-03-12T20:58:02.253282Z",
     "iopub.status.busy": "2024-03-12T20:58:02.253100Z",
     "iopub.status.idle": "2024-03-12T20:58:02.256664Z",
     "shell.execute_reply": "2024-03-12T20:58:02.256202Z"
    },
    "pycharm": {
     "name": "#%%\n"
    }
   },
   "outputs": [
    {
     "data": {
      "text/plain": [
       "{'c': 'MAXIMIZE', 'd': 'MINIMIZE'}"
      ]
     },
     "execution_count": 10,
     "metadata": {},
     "output_type": "execute_result"
    }
   ],
   "source": [
    "vocs.objectives"
   ]
  },
  {
   "cell_type": "code",
   "execution_count": 11,
   "id": "43051b71",
   "metadata": {
    "ExecuteTime": {
     "end_time": "2023-10-27T16:46:04.635082700Z",
     "start_time": "2023-10-27T16:46:04.582806500Z"
    },
    "execution": {
     "iopub.execute_input": "2024-03-12T20:58:02.258723Z",
     "iopub.status.busy": "2024-03-12T20:58:02.258547Z",
     "iopub.status.idle": "2024-03-12T20:58:02.264709Z",
     "shell.execute_reply": "2024-03-12T20:58:02.264178Z"
    },
    "pycharm": {
     "name": "#%%\n"
    }
   },
   "outputs": [
    {
     "data": {
      "text/html": [
       "<div>\n",
       "<style scoped>\n",
       "    .dataframe tbody tr th:only-of-type {\n",
       "        vertical-align: middle;\n",
       "    }\n",
       "\n",
       "    .dataframe tbody tr th {\n",
       "        vertical-align: top;\n",
       "    }\n",
       "\n",
       "    .dataframe thead th {\n",
       "        text-align: right;\n",
       "    }\n",
       "</style>\n",
       "<table border=\"1\" class=\"dataframe\">\n",
       "  <thead>\n",
       "    <tr style=\"text-align: right;\">\n",
       "      <th></th>\n",
       "      <th>objective_c</th>\n",
       "      <th>objective_d</th>\n",
       "    </tr>\n",
       "  </thead>\n",
       "  <tbody>\n",
       "    <tr>\n",
       "      <th>5</th>\n",
       "      <td>-279.466827</td>\n",
       "      <td>279.761653</td>\n",
       "    </tr>\n",
       "    <tr>\n",
       "      <th>6</th>\n",
       "      <td>-634.709555</td>\n",
       "      <td>633.822205</td>\n",
       "    </tr>\n",
       "    <tr>\n",
       "      <th>7</th>\n",
       "      <td>-234.736174</td>\n",
       "      <td>232.772140</td>\n",
       "    </tr>\n",
       "    <tr>\n",
       "      <th>8</th>\n",
       "      <td>-404.742323</td>\n",
       "      <td>406.588577</td>\n",
       "    </tr>\n",
       "    <tr>\n",
       "      <th>9</th>\n",
       "      <td>-10.293948</td>\n",
       "      <td>11.119201</td>\n",
       "    </tr>\n",
       "    <tr>\n",
       "      <th>10</th>\n",
       "      <td>-543.836967</td>\n",
       "      <td>542.950944</td>\n",
       "    </tr>\n",
       "    <tr>\n",
       "      <th>11</th>\n",
       "      <td>-803.729170</td>\n",
       "      <td>802.574934</td>\n",
       "    </tr>\n",
       "    <tr>\n",
       "      <th>12</th>\n",
       "      <td>-685.931150</td>\n",
       "      <td>686.661428</td>\n",
       "    </tr>\n",
       "    <tr>\n",
       "      <th>13</th>\n",
       "      <td>-363.690670</td>\n",
       "      <td>364.997873</td>\n",
       "    </tr>\n",
       "    <tr>\n",
       "      <th>14</th>\n",
       "      <td>-354.984745</td>\n",
       "      <td>356.204849</td>\n",
       "    </tr>\n",
       "  </tbody>\n",
       "</table>\n",
       "</div>"
      ],
      "text/plain": [
       "    objective_c  objective_d\n",
       "5   -279.466827   279.761653\n",
       "6   -634.709555   633.822205\n",
       "7   -234.736174   232.772140\n",
       "8   -404.742323   406.588577\n",
       "9    -10.293948    11.119201\n",
       "10  -543.836967   542.950944\n",
       "11  -803.729170   802.574934\n",
       "12  -685.931150   686.661428\n",
       "13  -363.690670   364.997873\n",
       "14  -354.984745   356.204849"
      ]
     },
     "execution_count": 11,
     "metadata": {},
     "output_type": "execute_result"
    }
   ],
   "source": [
    "# These are in standard form for minimization\n",
    "form_objective_data(vocs.objectives, data)"
   ]
  },
  {
   "cell_type": "code",
   "execution_count": 12,
   "id": "2ed50815",
   "metadata": {
    "ExecuteTime": {
     "end_time": "2023-10-27T16:46:04.635997800Z",
     "start_time": "2023-10-27T16:46:04.592809200Z"
    },
    "execution": {
     "iopub.execute_input": "2024-03-12T20:58:02.266743Z",
     "iopub.status.busy": "2024-03-12T20:58:02.266564Z",
     "iopub.status.idle": "2024-03-12T20:58:02.272736Z",
     "shell.execute_reply": "2024-03-12T20:58:02.272272Z"
    },
    "pycharm": {
     "name": "#%%\n"
    }
   },
   "outputs": [
    {
     "data": {
      "text/html": [
       "<div>\n",
       "<style scoped>\n",
       "    .dataframe tbody tr th:only-of-type {\n",
       "        vertical-align: middle;\n",
       "    }\n",
       "\n",
       "    .dataframe tbody tr th {\n",
       "        vertical-align: top;\n",
       "    }\n",
       "\n",
       "    .dataframe thead th {\n",
       "        text-align: right;\n",
       "    }\n",
       "</style>\n",
       "<table border=\"1\" class=\"dataframe\">\n",
       "  <thead>\n",
       "    <tr style=\"text-align: right;\">\n",
       "      <th></th>\n",
       "      <th>objective_c</th>\n",
       "      <th>objective_d</th>\n",
       "    </tr>\n",
       "  </thead>\n",
       "  <tbody>\n",
       "    <tr>\n",
       "      <th>5</th>\n",
       "      <td>-279.466827</td>\n",
       "      <td>279.761653</td>\n",
       "    </tr>\n",
       "    <tr>\n",
       "      <th>6</th>\n",
       "      <td>-634.709555</td>\n",
       "      <td>633.822205</td>\n",
       "    </tr>\n",
       "    <tr>\n",
       "      <th>7</th>\n",
       "      <td>-234.736174</td>\n",
       "      <td>232.772140</td>\n",
       "    </tr>\n",
       "    <tr>\n",
       "      <th>8</th>\n",
       "      <td>-404.742323</td>\n",
       "      <td>406.588577</td>\n",
       "    </tr>\n",
       "    <tr>\n",
       "      <th>9</th>\n",
       "      <td>-10.293948</td>\n",
       "      <td>11.119201</td>\n",
       "    </tr>\n",
       "    <tr>\n",
       "      <th>10</th>\n",
       "      <td>-543.836967</td>\n",
       "      <td>542.950944</td>\n",
       "    </tr>\n",
       "    <tr>\n",
       "      <th>11</th>\n",
       "      <td>-803.729170</td>\n",
       "      <td>802.574934</td>\n",
       "    </tr>\n",
       "    <tr>\n",
       "      <th>12</th>\n",
       "      <td>-685.931150</td>\n",
       "      <td>686.661428</td>\n",
       "    </tr>\n",
       "    <tr>\n",
       "      <th>13</th>\n",
       "      <td>-363.690670</td>\n",
       "      <td>364.997873</td>\n",
       "    </tr>\n",
       "    <tr>\n",
       "      <th>14</th>\n",
       "      <td>-354.984745</td>\n",
       "      <td>356.204849</td>\n",
       "    </tr>\n",
       "  </tbody>\n",
       "</table>\n",
       "</div>"
      ],
      "text/plain": [
       "    objective_c  objective_d\n",
       "5   -279.466827   279.761653\n",
       "6   -634.709555   633.822205\n",
       "7   -234.736174   232.772140\n",
       "8   -404.742323   406.588577\n",
       "9    -10.293948    11.119201\n",
       "10  -543.836967   542.950944\n",
       "11  -803.729170   802.574934\n",
       "12  -685.931150   686.661428\n",
       "13  -363.690670   364.997873\n",
       "14  -354.984745   356.204849"
      ]
     },
     "execution_count": 12,
     "metadata": {},
     "output_type": "execute_result"
    }
   ],
   "source": [
    "# This is also available as a method\n",
    "vocs.objective_data(data)"
   ]
  },
  {
   "cell_type": "code",
   "execution_count": 13,
   "id": "9f4275d4",
   "metadata": {
    "ExecuteTime": {
     "end_time": "2023-10-27T16:46:04.665088600Z",
     "start_time": "2023-10-27T16:46:04.607996700Z"
    },
    "execution": {
     "iopub.execute_input": "2024-03-12T20:58:02.274754Z",
     "iopub.status.busy": "2024-03-12T20:58:02.274578Z",
     "iopub.status.idle": "2024-03-12T20:58:02.279046Z",
     "shell.execute_reply": "2024-03-12T20:58:02.278585Z"
    },
    "pycharm": {
     "name": "#%%\n"
    }
   },
   "outputs": [
    {
     "data": {
      "text/plain": [
       "array([[-279.46682733,  279.76165314],\n",
       "       [-634.70955506,  633.82220456],\n",
       "       [-234.73617374,  232.77214001],\n",
       "       [-404.74232331,  406.58857732],\n",
       "       [ -10.29394823,   11.11920143],\n",
       "       [-543.8369671 ,  542.95094426],\n",
       "       [-803.72916956,  802.57493439],\n",
       "       [-685.93114973,  686.66142799],\n",
       "       [-363.69066994,  364.99787273],\n",
       "       [-354.98474456,  356.20484893]])"
      ]
     },
     "execution_count": 13,
     "metadata": {},
     "output_type": "execute_result"
    }
   ],
   "source": [
    "# use the to_numpy() method to convert for low level use.\n",
    "vocs.objective_data(data).to_numpy()"
   ]
  },
  {
   "cell_type": "code",
   "execution_count": 14,
   "id": "29b73df4",
   "metadata": {
    "ExecuteTime": {
     "end_time": "2023-10-27T16:46:04.702034Z",
     "start_time": "2023-10-27T16:46:04.622998Z"
    },
    "execution": {
     "iopub.execute_input": "2024-03-12T20:58:02.281046Z",
     "iopub.status.busy": "2024-03-12T20:58:02.280870Z",
     "iopub.status.idle": "2024-03-12T20:58:02.287642Z",
     "shell.execute_reply": "2024-03-12T20:58:02.287180Z"
    },
    "pycharm": {
     "name": "#%%\n"
    }
   },
   "outputs": [
    {
     "data": {
      "text/html": [
       "<div>\n",
       "<style scoped>\n",
       "    .dataframe tbody tr th:only-of-type {\n",
       "        vertical-align: middle;\n",
       "    }\n",
       "\n",
       "    .dataframe tbody tr th {\n",
       "        vertical-align: top;\n",
       "    }\n",
       "\n",
       "    .dataframe thead th {\n",
       "        text-align: right;\n",
       "    }\n",
       "</style>\n",
       "<table border=\"1\" class=\"dataframe\">\n",
       "  <thead>\n",
       "    <tr style=\"text-align: right;\">\n",
       "      <th></th>\n",
       "      <th>constraint_e</th>\n",
       "      <th>constraint_f</th>\n",
       "    </tr>\n",
       "  </thead>\n",
       "  <tbody>\n",
       "    <tr>\n",
       "      <th>5</th>\n",
       "      <td>556.933655</td>\n",
       "      <td>-559.523306</td>\n",
       "    </tr>\n",
       "    <tr>\n",
       "      <th>6</th>\n",
       "      <td>1267.419110</td>\n",
       "      <td>-1267.644409</td>\n",
       "    </tr>\n",
       "    <tr>\n",
       "      <th>7</th>\n",
       "      <td>467.472347</td>\n",
       "      <td>-465.544280</td>\n",
       "    </tr>\n",
       "    <tr>\n",
       "      <th>8</th>\n",
       "      <td>807.484647</td>\n",
       "      <td>-813.177155</td>\n",
       "    </tr>\n",
       "    <tr>\n",
       "      <th>9</th>\n",
       "      <td>18.587896</td>\n",
       "      <td>-22.238403</td>\n",
       "    </tr>\n",
       "    <tr>\n",
       "      <th>10</th>\n",
       "      <td>1085.673934</td>\n",
       "      <td>-1085.901889</td>\n",
       "    </tr>\n",
       "    <tr>\n",
       "      <th>11</th>\n",
       "      <td>1605.458339</td>\n",
       "      <td>-1605.149869</td>\n",
       "    </tr>\n",
       "    <tr>\n",
       "      <th>12</th>\n",
       "      <td>1369.862299</td>\n",
       "      <td>-1373.322856</td>\n",
       "    </tr>\n",
       "    <tr>\n",
       "      <th>13</th>\n",
       "      <td>725.381340</td>\n",
       "      <td>-729.995745</td>\n",
       "    </tr>\n",
       "    <tr>\n",
       "      <th>14</th>\n",
       "      <td>707.969489</td>\n",
       "      <td>-712.409698</td>\n",
       "    </tr>\n",
       "  </tbody>\n",
       "</table>\n",
       "</div>"
      ],
      "text/plain": [
       "    constraint_e  constraint_f\n",
       "5     556.933655   -559.523306\n",
       "6    1267.419110  -1267.644409\n",
       "7     467.472347   -465.544280\n",
       "8     807.484647   -813.177155\n",
       "9      18.587896    -22.238403\n",
       "10   1085.673934  -1085.901889\n",
       "11   1605.458339  -1605.149869\n",
       "12   1369.862299  -1373.322856\n",
       "13    725.381340   -729.995745\n",
       "14    707.969489   -712.409698"
      ]
     },
     "execution_count": 14,
     "metadata": {},
     "output_type": "execute_result"
    }
   ],
   "source": [
    "vocs.constraint_data(data)"
   ]
  },
  {
   "cell_type": "code",
   "execution_count": 15,
   "id": "e46a5e83",
   "metadata": {
    "ExecuteTime": {
     "end_time": "2023-10-27T16:46:04.703032900Z",
     "start_time": "2023-10-27T16:46:04.642000500Z"
    },
    "execution": {
     "iopub.execute_input": "2024-03-12T20:58:02.289833Z",
     "iopub.status.busy": "2024-03-12T20:58:02.289416Z",
     "iopub.status.idle": "2024-03-12T20:58:02.297646Z",
     "shell.execute_reply": "2024-03-12T20:58:02.297098Z"
    },
    "pycharm": {
     "name": "#%%\n"
    }
   },
   "outputs": [
    {
     "data": {
      "text/html": [
       "<div>\n",
       "<style scoped>\n",
       "    .dataframe tbody tr th:only-of-type {\n",
       "        vertical-align: middle;\n",
       "    }\n",
       "\n",
       "    .dataframe tbody tr th {\n",
       "        vertical-align: top;\n",
       "    }\n",
       "\n",
       "    .dataframe thead th {\n",
       "        text-align: right;\n",
       "    }\n",
       "</style>\n",
       "<table border=\"1\" class=\"dataframe\">\n",
       "  <thead>\n",
       "    <tr style=\"text-align: right;\">\n",
       "      <th></th>\n",
       "      <th>feasible_e</th>\n",
       "      <th>feasible_f</th>\n",
       "      <th>feasible</th>\n",
       "    </tr>\n",
       "  </thead>\n",
       "  <tbody>\n",
       "    <tr>\n",
       "      <th>5</th>\n",
       "      <td>False</td>\n",
       "      <td>True</td>\n",
       "      <td>False</td>\n",
       "    </tr>\n",
       "    <tr>\n",
       "      <th>6</th>\n",
       "      <td>False</td>\n",
       "      <td>True</td>\n",
       "      <td>False</td>\n",
       "    </tr>\n",
       "    <tr>\n",
       "      <th>7</th>\n",
       "      <td>False</td>\n",
       "      <td>True</td>\n",
       "      <td>False</td>\n",
       "    </tr>\n",
       "    <tr>\n",
       "      <th>8</th>\n",
       "      <td>False</td>\n",
       "      <td>True</td>\n",
       "      <td>False</td>\n",
       "    </tr>\n",
       "    <tr>\n",
       "      <th>9</th>\n",
       "      <td>False</td>\n",
       "      <td>True</td>\n",
       "      <td>False</td>\n",
       "    </tr>\n",
       "    <tr>\n",
       "      <th>10</th>\n",
       "      <td>False</td>\n",
       "      <td>True</td>\n",
       "      <td>False</td>\n",
       "    </tr>\n",
       "    <tr>\n",
       "      <th>11</th>\n",
       "      <td>False</td>\n",
       "      <td>True</td>\n",
       "      <td>False</td>\n",
       "    </tr>\n",
       "    <tr>\n",
       "      <th>12</th>\n",
       "      <td>False</td>\n",
       "      <td>True</td>\n",
       "      <td>False</td>\n",
       "    </tr>\n",
       "    <tr>\n",
       "      <th>13</th>\n",
       "      <td>False</td>\n",
       "      <td>True</td>\n",
       "      <td>False</td>\n",
       "    </tr>\n",
       "    <tr>\n",
       "      <th>14</th>\n",
       "      <td>False</td>\n",
       "      <td>True</td>\n",
       "      <td>False</td>\n",
       "    </tr>\n",
       "  </tbody>\n",
       "</table>\n",
       "</div>"
      ],
      "text/plain": [
       "    feasible_e  feasible_f  feasible\n",
       "5        False        True     False\n",
       "6        False        True     False\n",
       "7        False        True     False\n",
       "8        False        True     False\n",
       "9        False        True     False\n",
       "10       False        True     False\n",
       "11       False        True     False\n",
       "12       False        True     False\n",
       "13       False        True     False\n",
       "14       False        True     False"
      ]
     },
     "execution_count": 15,
     "metadata": {},
     "output_type": "execute_result"
    }
   ],
   "source": [
    "vocs.feasibility_data(data)"
   ]
  },
  {
   "cell_type": "code",
   "execution_count": 16,
   "id": "c42dfa48",
   "metadata": {
    "ExecuteTime": {
     "end_time": "2023-10-27T16:46:04.703032900Z",
     "start_time": "2023-10-27T16:46:04.665088600Z"
    },
    "collapsed": false,
    "execution": {
     "iopub.execute_input": "2024-03-12T20:58:02.299755Z",
     "iopub.status.busy": "2024-03-12T20:58:02.299441Z",
     "iopub.status.idle": "2024-03-12T20:58:02.305483Z",
     "shell.execute_reply": "2024-03-12T20:58:02.304939Z"
    },
    "jupyter": {
     "outputs_hidden": false
    }
   },
   "outputs": [
    {
     "data": {
      "text/html": [
       "<div>\n",
       "<style scoped>\n",
       "    .dataframe tbody tr th:only-of-type {\n",
       "        vertical-align: middle;\n",
       "    }\n",
       "\n",
       "    .dataframe tbody tr th {\n",
       "        vertical-align: top;\n",
       "    }\n",
       "\n",
       "    .dataframe thead th {\n",
       "        text-align: right;\n",
       "    }\n",
       "</style>\n",
       "<table border=\"1\" class=\"dataframe\">\n",
       "  <thead>\n",
       "    <tr style=\"text-align: right;\">\n",
       "      <th></th>\n",
       "      <th>a</th>\n",
       "      <th>b</th>\n",
       "    </tr>\n",
       "  </thead>\n",
       "  <tbody>\n",
       "    <tr>\n",
       "      <th>5</th>\n",
       "      <td>0.279614</td>\n",
       "      <td>0.426294</td>\n",
       "    </tr>\n",
       "    <tr>\n",
       "      <th>6</th>\n",
       "      <td>0.634266</td>\n",
       "      <td>0.721838</td>\n",
       "    </tr>\n",
       "    <tr>\n",
       "      <th>7</th>\n",
       "      <td>0.233754</td>\n",
       "      <td>0.991008</td>\n",
       "    </tr>\n",
       "    <tr>\n",
       "      <th>8</th>\n",
       "      <td>0.405665</td>\n",
       "      <td>0.038436</td>\n",
       "    </tr>\n",
       "    <tr>\n",
       "      <th>9</th>\n",
       "      <td>0.010707</td>\n",
       "      <td>0.293687</td>\n",
       "    </tr>\n",
       "    <tr>\n",
       "      <th>10</th>\n",
       "      <td>0.543394</td>\n",
       "      <td>0.721506</td>\n",
       "    </tr>\n",
       "    <tr>\n",
       "      <th>11</th>\n",
       "      <td>0.803152</td>\n",
       "      <td>0.788559</td>\n",
       "    </tr>\n",
       "    <tr>\n",
       "      <th>12</th>\n",
       "      <td>0.686296</td>\n",
       "      <td>0.317430</td>\n",
       "    </tr>\n",
       "    <tr>\n",
       "      <th>13</th>\n",
       "      <td>0.364344</td>\n",
       "      <td>0.173199</td>\n",
       "    </tr>\n",
       "    <tr>\n",
       "      <th>14</th>\n",
       "      <td>0.355595</td>\n",
       "      <td>0.194974</td>\n",
       "    </tr>\n",
       "  </tbody>\n",
       "</table>\n",
       "</div>"
      ],
      "text/plain": [
       "           a         b\n",
       "5   0.279614  0.426294\n",
       "6   0.634266  0.721838\n",
       "7   0.233754  0.991008\n",
       "8   0.405665  0.038436\n",
       "9   0.010707  0.293687\n",
       "10  0.543394  0.721506\n",
       "11  0.803152  0.788559\n",
       "12  0.686296  0.317430\n",
       "13  0.364344  0.173199\n",
       "14  0.355595  0.194974"
      ]
     },
     "execution_count": 16,
     "metadata": {},
     "output_type": "execute_result"
    }
   ],
   "source": [
    "# normalize inputs to unit domain [0,1]\n",
    "normed_data = vocs.normalize_inputs(data)\n",
    "normed_data"
   ]
  },
  {
   "cell_type": "code",
   "execution_count": 17,
   "id": "7364e86b",
   "metadata": {
    "collapsed": false,
    "execution": {
     "iopub.execute_input": "2024-03-12T20:58:02.307538Z",
     "iopub.status.busy": "2024-03-12T20:58:02.307236Z",
     "iopub.status.idle": "2024-03-12T20:58:02.313119Z",
     "shell.execute_reply": "2024-03-12T20:58:02.312595Z"
    },
    "jupyter": {
     "outputs_hidden": false
    }
   },
   "outputs": [
    {
     "data": {
      "text/html": [
       "<div>\n",
       "<style scoped>\n",
       "    .dataframe tbody tr th:only-of-type {\n",
       "        vertical-align: middle;\n",
       "    }\n",
       "\n",
       "    .dataframe tbody tr th {\n",
       "        vertical-align: top;\n",
       "    }\n",
       "\n",
       "    .dataframe thead th {\n",
       "        text-align: right;\n",
       "    }\n",
       "</style>\n",
       "<table border=\"1\" class=\"dataframe\">\n",
       "  <thead>\n",
       "    <tr style=\"text-align: right;\">\n",
       "      <th></th>\n",
       "      <th>a</th>\n",
       "      <th>b</th>\n",
       "    </tr>\n",
       "  </thead>\n",
       "  <tbody>\n",
       "    <tr>\n",
       "      <th>5</th>\n",
       "      <td>279.614240</td>\n",
       "      <td>-0.147413</td>\n",
       "    </tr>\n",
       "    <tr>\n",
       "      <th>6</th>\n",
       "      <td>634.265880</td>\n",
       "      <td>0.443675</td>\n",
       "    </tr>\n",
       "    <tr>\n",
       "      <th>7</th>\n",
       "      <td>233.754157</td>\n",
       "      <td>0.982017</td>\n",
       "    </tr>\n",
       "    <tr>\n",
       "      <th>8</th>\n",
       "      <td>405.665450</td>\n",
       "      <td>-0.923127</td>\n",
       "    </tr>\n",
       "    <tr>\n",
       "      <th>9</th>\n",
       "      <td>10.706575</td>\n",
       "      <td>-0.412627</td>\n",
       "    </tr>\n",
       "    <tr>\n",
       "      <th>10</th>\n",
       "      <td>543.393956</td>\n",
       "      <td>0.443011</td>\n",
       "    </tr>\n",
       "    <tr>\n",
       "      <th>11</th>\n",
       "      <td>803.152052</td>\n",
       "      <td>0.577118</td>\n",
       "    </tr>\n",
       "    <tr>\n",
       "      <th>12</th>\n",
       "      <td>686.296289</td>\n",
       "      <td>-0.365139</td>\n",
       "    </tr>\n",
       "    <tr>\n",
       "      <th>13</th>\n",
       "      <td>364.344271</td>\n",
       "      <td>-0.653601</td>\n",
       "    </tr>\n",
       "    <tr>\n",
       "      <th>14</th>\n",
       "      <td>355.594797</td>\n",
       "      <td>-0.610052</td>\n",
       "    </tr>\n",
       "  </tbody>\n",
       "</table>\n",
       "</div>"
      ],
      "text/plain": [
       "             a         b\n",
       "5   279.614240 -0.147413\n",
       "6   634.265880  0.443675\n",
       "7   233.754157  0.982017\n",
       "8   405.665450 -0.923127\n",
       "9    10.706575 -0.412627\n",
       "10  543.393956  0.443011\n",
       "11  803.152052  0.577118\n",
       "12  686.296289 -0.365139\n",
       "13  364.344271 -0.653601\n",
       "14  355.594797 -0.610052"
      ]
     },
     "execution_count": 17,
     "metadata": {},
     "output_type": "execute_result"
    }
   ],
   "source": [
    "# and denormalize\n",
    "vocs.denormalize_inputs(normed_data)"
   ]
  },
  {
   "cell_type": "markdown",
   "id": "59041be7",
   "metadata": {},
   "source": [
    "# Error handling"
   ]
  },
  {
   "cell_type": "code",
   "execution_count": 18,
   "id": "f9171ede",
   "metadata": {
    "ExecuteTime": {
     "end_time": "2023-10-27T16:46:04.719064600Z",
     "start_time": "2023-10-27T16:46:04.668031Z"
    },
    "execution": {
     "iopub.execute_input": "2024-03-12T20:58:02.315334Z",
     "iopub.status.busy": "2024-03-12T20:58:02.315004Z",
     "iopub.status.idle": "2024-03-12T20:58:02.319181Z",
     "shell.execute_reply": "2024-03-12T20:58:02.318629Z"
    }
   },
   "outputs": [],
   "source": [
    "Y = \"\"\"\n",
    "variables:\n",
    "  a: [0, 1e3] # Note that 1e3 usually parses as a str with YAML. \n",
    "  b: [-1, 1]\n",
    "objectives:\n",
    "  c: maximize\n",
    "  d: minimize \n",
    "constraints:\n",
    "  e: ['Less_than', 2]\n",
    "  f: ['greater_than', 0]\n",
    "constants:\n",
    "  g: 1234\n",
    "\n",
    "\"\"\"\n",
    "\n",
    "vocs = VOCS.from_yaml(Y)"
   ]
  },
  {
   "cell_type": "code",
   "execution_count": 19,
   "id": "b5513539",
   "metadata": {
    "ExecuteTime": {
     "end_time": "2023-10-27T16:46:04.763060700Z",
     "start_time": "2023-10-27T16:46:04.686996500Z"
    },
    "execution": {
     "iopub.execute_input": "2024-03-12T20:58:02.321415Z",
     "iopub.status.busy": "2024-03-12T20:58:02.321077Z",
     "iopub.status.idle": "2024-03-12T20:58:02.326352Z",
     "shell.execute_reply": "2024-03-12T20:58:02.325791Z"
    }
   },
   "outputs": [
    {
     "data": {
      "text/plain": [
       "0   NaN\n",
       "1   NaN\n",
       "2   NaN\n",
       "Name: b, dtype: float64"
      ]
     },
     "execution_count": 19,
     "metadata": {},
     "output_type": "execute_result"
    }
   ],
   "source": [
    "d = {'a': [1,2,3]}\n",
    "\n",
    "df = pd.DataFrame(d)\n",
    "df2 = pd.DataFrame(df).copy()\n",
    "\n",
    "df2['b'] = np.nan\n",
    "df2['b'] - 1"
   ]
  },
  {
   "cell_type": "code",
   "execution_count": 20,
   "id": "30f3b3b4",
   "metadata": {
    "ExecuteTime": {
     "end_time": "2023-10-27T16:46:04.800032400Z",
     "start_time": "2023-10-27T16:46:04.698034700Z"
    },
    "execution": {
     "iopub.execute_input": "2024-03-12T20:58:02.328567Z",
     "iopub.status.busy": "2024-03-12T20:58:02.328132Z",
     "iopub.status.idle": "2024-03-12T20:58:02.331064Z",
     "shell.execute_reply": "2024-03-12T20:58:02.330532Z"
    }
   },
   "outputs": [],
   "source": [
    "data['a']  = np.nan"
   ]
  },
  {
   "cell_type": "code",
   "execution_count": 21,
   "id": "6393376b",
   "metadata": {
    "ExecuteTime": {
     "end_time": "2023-10-27T16:46:04.877099700Z",
     "start_time": "2023-10-27T16:46:04.715062Z"
    },
    "execution": {
     "iopub.execute_input": "2024-03-12T20:58:02.333319Z",
     "iopub.status.busy": "2024-03-12T20:58:02.332953Z",
     "iopub.status.idle": "2024-03-12T20:58:02.336791Z",
     "shell.execute_reply": "2024-03-12T20:58:02.336231Z"
    }
   },
   "outputs": [
    {
     "data": {
      "text/plain": [
       "2"
      ]
     },
     "execution_count": 21,
     "metadata": {},
     "output_type": "execute_result"
    }
   ],
   "source": [
    "a = 2\n",
    "def f(x=a):\n",
    "    return x\n",
    "a=99\n",
    "f()"
   ]
  },
  {
   "cell_type": "code",
   "execution_count": 22,
   "id": "cb0ecd74",
   "metadata": {
    "ExecuteTime": {
     "end_time": "2023-10-27T16:46:04.880100300Z",
     "start_time": "2023-10-27T16:46:04.728063600Z"
    },
    "execution": {
     "iopub.execute_input": "2024-03-12T20:58:02.338943Z",
     "iopub.status.busy": "2024-03-12T20:58:02.338607Z",
     "iopub.status.idle": "2024-03-12T20:58:02.344248Z",
     "shell.execute_reply": "2024-03-12T20:58:02.343771Z"
    }
   },
   "outputs": [
    {
     "data": {
      "text/html": [
       "<div>\n",
       "<style scoped>\n",
       "    .dataframe tbody tr th:only-of-type {\n",
       "        vertical-align: middle;\n",
       "    }\n",
       "\n",
       "    .dataframe tbody tr th {\n",
       "        vertical-align: top;\n",
       "    }\n",
       "\n",
       "    .dataframe thead th {\n",
       "        text-align: right;\n",
       "    }\n",
       "</style>\n",
       "<table border=\"1\" class=\"dataframe\">\n",
       "  <thead>\n",
       "    <tr style=\"text-align: right;\">\n",
       "      <th></th>\n",
       "      <th>A</th>\n",
       "    </tr>\n",
       "  </thead>\n",
       "  <tbody>\n",
       "    <tr>\n",
       "      <th>1</th>\n",
       "      <td>6.000000e+66</td>\n",
       "    </tr>\n",
       "    <tr>\n",
       "      <th>2</th>\n",
       "      <td>6.000000e+66</td>\n",
       "    </tr>\n",
       "    <tr>\n",
       "      <th>3</th>\n",
       "      <td>6.000000e+66</td>\n",
       "    </tr>\n",
       "  </tbody>\n",
       "</table>\n",
       "</div>"
      ],
      "text/plain": [
       "              A\n",
       "1  6.000000e+66\n",
       "2  6.000000e+66\n",
       "3  6.000000e+66"
      ]
     },
     "execution_count": 22,
     "metadata": {},
     "output_type": "execute_result"
    }
   ],
   "source": [
    "pd.DataFrame(6e66, index=[1,2,3], columns=['A'])"
   ]
  },
  {
   "cell_type": "code",
   "execution_count": 23,
   "id": "88bb8253",
   "metadata": {
    "ExecuteTime": {
     "end_time": "2023-10-27T16:46:04.896129200Z",
     "start_time": "2023-10-27T16:46:04.744036400Z"
    },
    "execution": {
     "iopub.execute_input": "2024-03-12T20:58:02.346400Z",
     "iopub.status.busy": "2024-03-12T20:58:02.346066Z",
     "iopub.status.idle": "2024-03-12T20:58:02.352532Z",
     "shell.execute_reply": "2024-03-12T20:58:02.351980Z"
    }
   },
   "outputs": [
    {
     "data": {
      "text/html": [
       "<div>\n",
       "<style scoped>\n",
       "    .dataframe tbody tr th:only-of-type {\n",
       "        vertical-align: middle;\n",
       "    }\n",
       "\n",
       "    .dataframe tbody tr th {\n",
       "        vertical-align: top;\n",
       "    }\n",
       "\n",
       "    .dataframe thead th {\n",
       "        text-align: right;\n",
       "    }\n",
       "</style>\n",
       "<table border=\"1\" class=\"dataframe\">\n",
       "  <thead>\n",
       "    <tr style=\"text-align: right;\">\n",
       "      <th></th>\n",
       "      <th>objective_c</th>\n",
       "      <th>objective_d</th>\n",
       "    </tr>\n",
       "  </thead>\n",
       "  <tbody>\n",
       "    <tr>\n",
       "      <th>9</th>\n",
       "      <td>-1.0</td>\n",
       "      <td>inf</td>\n",
       "    </tr>\n",
       "    <tr>\n",
       "      <th>3</th>\n",
       "      <td>-2.0</td>\n",
       "      <td>inf</td>\n",
       "    </tr>\n",
       "    <tr>\n",
       "      <th>4</th>\n",
       "      <td>-3.0</td>\n",
       "      <td>inf</td>\n",
       "    </tr>\n",
       "    <tr>\n",
       "      <th>5</th>\n",
       "      <td>-4.0</td>\n",
       "      <td>inf</td>\n",
       "    </tr>\n",
       "  </tbody>\n",
       "</table>\n",
       "</div>"
      ],
      "text/plain": [
       "   objective_c  objective_d\n",
       "9         -1.0          inf\n",
       "3         -2.0          inf\n",
       "4         -3.0          inf\n",
       "5         -4.0          inf"
      ]
     },
     "execution_count": 23,
     "metadata": {},
     "output_type": "execute_result"
    }
   ],
   "source": [
    "# These are in standard form for minimization\n",
    "\n",
    "data = pd.DataFrame({'c':[1,2,3,4]}, index=[9,3,4,5])\n",
    "\n",
    "form_objective_data(vocs.objectives, data)"
   ]
  }
 ],
 "metadata": {
  "interpreter": {
   "hash": "60703f99bc9a1e465ed9e894ac1e8f256837fa55699b4912a7939def4ae95691"
  },
  "kernelspec": {
   "display_name": "Python 3 (ipykernel)",
   "language": "python",
   "name": "python3"
  },
  "language_info": {
   "codemirror_mode": {
    "name": "ipython",
    "version": 3
   },
   "file_extension": ".py",
   "mimetype": "text/x-python",
   "name": "python",
   "nbconvert_exporter": "python",
   "pygments_lexer": "ipython3",
   "version": "3.9.18"
  }
 },
 "nbformat": 4,
 "nbformat_minor": 5
}
