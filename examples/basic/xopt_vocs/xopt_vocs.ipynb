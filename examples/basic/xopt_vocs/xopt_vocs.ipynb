{
 "cells": [
  {
   "cell_type": "markdown",
   "id": "9700f595",
   "metadata": {
    "pycharm": {
     "name": "#%% md\n"
    }
   },
   "source": [
    "# VOCS data structure \n",
    "\n",
    "Variables, Objectives, Constraints, and other Settings (VOCS) helps define our optimization problems. "
   ]
  },
  {
   "cell_type": "code",
   "execution_count": 1,
   "id": "32324ac0-b299-42ee-a6b9-e112dfaa5a45",
   "metadata": {
    "execution": {
     "iopub.execute_input": "2023-09-08T22:00:23.709833Z",
     "iopub.status.busy": "2023-09-08T22:00:23.709260Z",
     "iopub.status.idle": "2023-09-08T22:00:26.092629Z",
     "shell.execute_reply": "2023-09-08T22:00:26.091777Z"
    },
    "pycharm": {
     "name": "#%%\n"
    }
   },
   "outputs": [],
   "source": [
    "from xopt.vocs import VOCS"
   ]
  },
  {
   "cell_type": "code",
   "execution_count": 2,
   "id": "354e92d2",
   "metadata": {
    "execution": {
     "iopub.execute_input": "2023-09-08T22:00:26.096555Z",
     "iopub.status.busy": "2023-09-08T22:00:26.096033Z",
     "iopub.status.idle": "2023-09-08T22:00:26.124400Z",
     "shell.execute_reply": "2023-09-08T22:00:26.122938Z"
    },
    "pycharm": {
     "name": "#%%\n"
    }
   },
   "outputs": [
    {
     "name": "stdout",
     "output_type": "stream",
     "text": [
      "Help on class VOCS in module xopt.vocs:\n",
      "\n",
      "class VOCS(xopt.pydantic.XoptBaseModel)\n",
      " |  VOCS(*, variables: Dict[str, types.ConstrainedListValue] = {}, constraints: Dict[str, types.ConstrainedListValue] = {}, objectives: Dict[str, xopt.vocs.ObjectiveEnum] = {}, constants: Dict[str, Any] = {}, observables: List[str] = []) -> None\n",
      " |  \n",
      " |  Variables, Objectives, Constraints, and other Settings (VOCS) data structure\n",
      " |  to describe optimization problems.\n",
      " |  \n",
      " |  Method resolution order:\n",
      " |      VOCS\n",
      " |      xopt.pydantic.XoptBaseModel\n",
      " |      pydantic.main.BaseModel\n",
      " |      pydantic.utils.Representation\n",
      " |      builtins.object\n",
      " |  \n",
      " |  Methods defined here:\n",
      " |  \n",
      " |  as_yaml(self)\n",
      " |  \n",
      " |  constraint_data(self, data: Union[pandas.core.frame.DataFrame, List[Dict]], prefix: str = 'constraint_') -> pandas.core.frame.DataFrame\n",
      " |      Returns a dataframe containing constraint data transformed according to\n",
      " |      `vocs.constraints` such that values that satisfy each constraint are negative.\n",
      " |      \n",
      " |      Args:\n",
      " |          data: data to be processed.\n",
      " |          prefix: prefix added to column names.\n",
      " |      \n",
      " |      Returns:\n",
      " |          result: processed Dataframe\n",
      " |  \n",
      " |  convert_dataframe_to_inputs(self, data: pandas.core.frame.DataFrame, include_constants=True) -> pandas.core.frame.DataFrame\n",
      " |      Extracts only inputs from a dataframe.\n",
      " |      This will add constants if `include_constants` is true.\n",
      " |  \n",
      " |  convert_numpy_to_inputs(self, inputs: numpy.ndarray, include_constants=True) -> pandas.core.frame.DataFrame\n",
      " |      convert 2D numpy array to list of dicts (inputs) for evaluation\n",
      " |      Assumes that the columns of the array match correspond to\n",
      " |      `sorted(self.vocs.variables.keys())\n",
      " |  \n",
      " |  extract_data(self, data: pandas.core.frame.DataFrame, return_raw=False)\n",
      " |      split dataframe into seperate dataframes for variables, objectives and\n",
      " |      constraints based on vocs - objective data is transformed based on\n",
      " |      `vocs.objectives` properties\n",
      " |      \n",
      " |      Args:\n",
      " |          data: dataframe to be split\n",
      " |          return_raw: if True, return untransformed objective data\n",
      " |      \n",
      " |      Returns:\n",
      " |          variable_data: dataframe containing variable data\n",
      " |          objective_data: dataframe containing objective data\n",
      " |          constraint_data: dataframe containing constraint data\n",
      " |  \n",
      " |  feasibility_data(self, data: Union[pandas.core.frame.DataFrame, List[Dict]], prefix: str = 'feasible_') -> pandas.core.frame.DataFrame\n",
      " |      Returns a dataframe containing booleans denoting if a constraint is satisfied or\n",
      " |      not. Returned dataframe also contains a column `feasible` which denotes if\n",
      " |      all constraints are satisfied.\n",
      " |      \n",
      " |      Args:\n",
      " |          data: data to be processed.\n",
      " |          prefix: prefix added to column names.\n",
      " |      \n",
      " |      Returns:\n",
      " |          result: processed Dataframe\n",
      " |  \n",
      " |  objective_data(self, data: Union[pandas.core.frame.DataFrame, List[Dict]], prefix: str = 'objective_', return_raw=False) -> pandas.core.frame.DataFrame\n",
      " |      Returns a dataframe containing objective data transformed according to\n",
      " |      `vocs.objectives` such that we always assume minimization.\n",
      " |      \n",
      " |      Args:\n",
      " |          data: data to be processed.\n",
      " |          prefix: prefix added to column names.\n",
      " |      \n",
      " |      Returns:\n",
      " |          result: processed Dataframe\n",
      " |  \n",
      " |  observable_data(self, data: Union[pandas.core.frame.DataFrame, List[Dict]], prefix: str = 'observable_') -> pandas.core.frame.DataFrame\n",
      " |      Returns a dataframe containing observable data\n",
      " |      \n",
      " |      Args:\n",
      " |          data: data to be processed.\n",
      " |          prefix: prefix added to column names.\n",
      " |      \n",
      " |      Returns:\n",
      " |          result: processed Dataframe\n",
      " |  \n",
      " |  random_inputs(self, n: int = None, custom_bounds: dict = None, include_constants: bool = True, seed: int = None) -> list[dict]\n",
      " |      Uniform sampling of the variables.\n",
      " |      \n",
      " |      Returns a dict of inputs.\n",
      " |      \n",
      " |      If include_constants, the vocs.constants are added to the dict.\n",
      " |      \n",
      " |      Optional:\n",
      " |          n (integer) to make arrays of inputs, of size n.\n",
      " |          seed (integer) to initialize the random number generator\n",
      " |  \n",
      " |  validate_input_data(self, input_points: pandas.core.frame.DataFrame) -> None\n",
      " |      Validates input data. Raises an error if the input data does not satisfy\n",
      " |      requirements given by vocs.\n",
      " |      \n",
      " |      Args:\n",
      " |          input_points: input data to be validated.\n",
      " |      \n",
      " |      Returns:\n",
      " |          None\n",
      " |      \n",
      " |      Raises:\n",
      " |          ValueError: if input data does not satisfy requirements.\n",
      " |  \n",
      " |  variable_data(self, data: Union[pandas.core.frame.DataFrame, List[Dict]], prefix: str = 'variable_') -> pandas.core.frame.DataFrame\n",
      " |      Returns a dataframe containing variables according to `vocs.variables` in sorted\n",
      " |      order\n",
      " |      \n",
      " |      Args:\n",
      " |          data: Data to be processed.\n",
      " |          prefix: Prefix added to column names.\n",
      " |      \n",
      " |      Returns:\n",
      " |          result: processed Dataframe\n",
      " |  \n",
      " |  ----------------------------------------------------------------------\n",
      " |  Class methods defined here:\n",
      " |  \n",
      " |  from_yaml(yaml_text) from pydantic.main.ModelMetaclass\n",
      " |  \n",
      " |  ----------------------------------------------------------------------\n",
      " |  Static methods defined here:\n",
      " |  \n",
      " |  __json_encoder__ = pydantic_encoder(obj: Any) -> Any\n",
      " |  \n",
      " |  ----------------------------------------------------------------------\n",
      " |  Readonly properties defined here:\n",
      " |  \n",
      " |  all_names\n",
      " |      Returns all vocs names (variables, constants, objectives, constraints)\n",
      " |  \n",
      " |  bounds\n",
      " |      Returns a bounds array (mins, maxs) of shape (2, n_variables)\n",
      " |      Arrays of lower and upper bounds can be extracted by:\n",
      " |          mins, maxs = vocs.bounds\n",
      " |  \n",
      " |  constant_names\n",
      " |      Returns a sorted list of constraint names\n",
      " |  \n",
      " |  constraint_names\n",
      " |      Returns a sorted list of constraint names\n",
      " |  \n",
      " |  n_constants\n",
      " |      Returns the number of constants\n",
      " |  \n",
      " |  n_constraints\n",
      " |      Returns the number of constraints\n",
      " |  \n",
      " |  n_inputs\n",
      " |      Returns the number of inputs (variables and constants)\n",
      " |  \n",
      " |  n_objectives\n",
      " |      Returns the number of objectives\n",
      " |  \n",
      " |  n_observables\n",
      " |      Returns the number of constraints\n",
      " |  \n",
      " |  n_outputs\n",
      " |      Returns the number of outputs\n",
      " |          len(objectives + constraints + observables)\n",
      " |  \n",
      " |  n_variables\n",
      " |      Returns the number of variables\n",
      " |  \n",
      " |  objective_names\n",
      " |      Returns a sorted list of objective names\n",
      " |  \n",
      " |  observable_names\n",
      " |  \n",
      " |  output_names\n",
      " |      Returns a list of expected output keys:\n",
      " |          (objectives + constraints + observables)\n",
      " |      Each sub-list is sorted.\n",
      " |  \n",
      " |  variable_names\n",
      " |      Returns a sorted list of variable names\n",
      " |  \n",
      " |  ----------------------------------------------------------------------\n",
      " |  Data and other attributes defined here:\n",
      " |  \n",
      " |  Config = <class 'xopt.vocs.VOCS.Config'>\n",
      " |  \n",
      " |  __abstractmethods__ = frozenset()\n",
      " |  \n",
      " |  __annotations__ = {'constants': typing.Dict[str, typing.Any], 'constra...\n",
      " |  \n",
      " |  __class_vars__ = set()\n",
      " |  \n",
      " |  __config__ = <class 'xopt.vocs.Config'>\n",
      " |  \n",
      " |  __custom_root_type__ = False\n",
      " |  \n",
      " |  __exclude_fields__ = None\n",
      " |  \n",
      " |  __fields__ = {'constants': ModelField(name='constants', type=Mapping[s...\n",
      " |  \n",
      " |  __hash__ = None\n",
      " |  \n",
      " |  __include_fields__ = None\n",
      " |  \n",
      " |  __post_root_validators__ = []\n",
      " |  \n",
      " |  __pre_root_validators__ = []\n",
      " |  \n",
      " |  __private_attributes__ = {}\n",
      " |  \n",
      " |  __schema_cache__ = {}\n",
      " |  \n",
      " |  __signature__ = <Signature (*, variables: Dict[str, types.Constr... An...\n",
      " |  \n",
      " |  __validators__ = {'*': [<pydantic.class_validators.Validator object>]}\n",
      " |  \n",
      " |  ----------------------------------------------------------------------\n",
      " |  Class methods inherited from xopt.pydantic.XoptBaseModel:\n",
      " |  \n",
      " |  from_dict(config: dict) from pydantic.main.ModelMetaclass\n",
      " |  \n",
      " |  from_file(filename: str) from pydantic.main.ModelMetaclass\n",
      " |  \n",
      " |  validate_files(value) from pydantic.main.ModelMetaclass\n",
      " |      # root validator to process files\n",
      " |  \n",
      " |  ----------------------------------------------------------------------\n",
      " |  Methods inherited from pydantic.main.BaseModel:\n",
      " |  \n",
      " |  __eq__(self, other: Any) -> bool\n",
      " |  \n",
      " |  __getstate__(self) -> 'DictAny'\n",
      " |  \n",
      " |  __init__(__pydantic_self__, **data: Any) -> None\n",
      " |      Create a new model by parsing and validating input data from keyword arguments.\n",
      " |      \n",
      " |      Raises ValidationError if the input data cannot be parsed to form a valid model.\n",
      " |  \n",
      " |  __iter__(self) -> 'TupleGenerator'\n",
      " |      so `dict(model)` works\n",
      " |  \n",
      " |  __repr_args__(self) -> 'ReprArgs'\n",
      " |  \n",
      " |  __setattr__(self, name, value)\n",
      " |  \n",
      " |  __setstate__(self, state: 'DictAny') -> None\n",
      " |  \n",
      " |  copy(self: 'Model', *, include: Union[ForwardRef('AbstractSetIntStr'), ForwardRef('MappingIntStrAny'), NoneType] = None, exclude: Union[ForwardRef('AbstractSetIntStr'), ForwardRef('MappingIntStrAny'), NoneType] = None, update: Optional[ForwardRef('DictStrAny')] = None, deep: bool = False) -> 'Model'\n",
      " |      Duplicate a model, optionally choose which fields to include, exclude and change.\n",
      " |      \n",
      " |      :param include: fields to include in new model\n",
      " |      :param exclude: fields to exclude from new model, as with values this takes precedence over include\n",
      " |      :param update: values to change/add in the new model. Note: the data is not validated before creating\n",
      " |          the new model: you should trust this data\n",
      " |      :param deep: set to `True` to make a deep copy of the model\n",
      " |      :return: new model instance\n",
      " |  \n",
      " |  dict(self, *, include: Union[ForwardRef('AbstractSetIntStr'), ForwardRef('MappingIntStrAny'), NoneType] = None, exclude: Union[ForwardRef('AbstractSetIntStr'), ForwardRef('MappingIntStrAny'), NoneType] = None, by_alias: bool = False, skip_defaults: Optional[bool] = None, exclude_unset: bool = False, exclude_defaults: bool = False, exclude_none: bool = False) -> 'DictStrAny'\n",
      " |      Generate a dictionary representation of the model, optionally specifying which fields to include or exclude.\n",
      " |  \n",
      " |  json(self, *, include: Union[ForwardRef('AbstractSetIntStr'), ForwardRef('MappingIntStrAny'), NoneType] = None, exclude: Union[ForwardRef('AbstractSetIntStr'), ForwardRef('MappingIntStrAny'), NoneType] = None, by_alias: bool = False, skip_defaults: Optional[bool] = None, exclude_unset: bool = False, exclude_defaults: bool = False, exclude_none: bool = False, encoder: Optional[Callable[[Any], Any]] = None, models_as_dict: bool = True, **dumps_kwargs: Any) -> 'unicode'\n",
      " |      Generate a JSON representation of the model, `include` and `exclude` arguments as per `dict()`.\n",
      " |      \n",
      " |      `encoder` is an optional function to supply as `default` to json.dumps(), other arguments as per `json.dumps()`.\n",
      " |  \n",
      " |  ----------------------------------------------------------------------\n",
      " |  Class methods inherited from pydantic.main.BaseModel:\n",
      " |  \n",
      " |  __get_validators__() -> 'CallableGenerator' from pydantic.main.ModelMetaclass\n",
      " |  \n",
      " |  __try_update_forward_refs__(**localns: Any) -> None from pydantic.main.ModelMetaclass\n",
      " |      Same as update_forward_refs but will not raise exception\n",
      " |      when forward references are not defined.\n",
      " |  \n",
      " |  construct(_fields_set: Optional[ForwardRef('SetStr')] = None, **values: Any) -> 'Model' from pydantic.main.ModelMetaclass\n",
      " |      Creates a new model setting __dict__ and __fields_set__ from trusted or pre-validated data.\n",
      " |      Default values are respected, but no other validation is performed.\n",
      " |      Behaves as if `Config.extra = 'allow'` was set since it adds all passed values\n",
      " |  \n",
      " |  from_orm(obj: Any) -> 'Model' from pydantic.main.ModelMetaclass\n",
      " |  \n",
      " |  parse_file(path: Union[str, pathlib.Path], *, content_type: 'unicode' = None, encoding: 'unicode' = 'utf8', proto: pydantic.parse.Protocol = None, allow_pickle: bool = False) -> 'Model' from pydantic.main.ModelMetaclass\n",
      " |  \n",
      " |  parse_obj(obj: Any) -> 'Model' from pydantic.main.ModelMetaclass\n",
      " |  \n",
      " |  parse_raw(b: Union[str, bytes], *, content_type: 'unicode' = None, encoding: 'unicode' = 'utf8', proto: pydantic.parse.Protocol = None, allow_pickle: bool = False) -> 'Model' from pydantic.main.ModelMetaclass\n",
      " |  \n",
      " |  schema(by_alias: bool = True, ref_template: 'unicode' = '#/definitions/{model}') -> 'DictStrAny' from pydantic.main.ModelMetaclass\n",
      " |  \n",
      " |  schema_json(*, by_alias: bool = True, ref_template: 'unicode' = '#/definitions/{model}', **dumps_kwargs: Any) -> 'unicode' from pydantic.main.ModelMetaclass\n",
      " |  \n",
      " |  update_forward_refs(**localns: Any) -> None from pydantic.main.ModelMetaclass\n",
      " |      Try to update ForwardRefs on fields based on this Model, globalns and localns.\n",
      " |  \n",
      " |  validate(value: Any) -> 'Model' from pydantic.main.ModelMetaclass\n",
      " |  \n",
      " |  ----------------------------------------------------------------------\n",
      " |  Data descriptors inherited from pydantic.main.BaseModel:\n",
      " |  \n",
      " |  __dict__\n",
      " |      dictionary for instance variables (if defined)\n",
      " |  \n",
      " |  __fields_set__\n",
      " |  \n",
      " |  ----------------------------------------------------------------------\n",
      " |  Methods inherited from pydantic.utils.Representation:\n",
      " |  \n",
      " |  __pretty__(self, fmt: Callable[[Any], Any], **kwargs: Any) -> Generator[Any, NoneType, NoneType]\n",
      " |      Used by devtools (https://python-devtools.helpmanual.io/) to provide a human readable representations of objects\n",
      " |  \n",
      " |  __repr__(self) -> 'unicode'\n",
      " |  \n",
      " |  __repr_name__(self) -> 'unicode'\n",
      " |      Name of the instance's class, used in __repr__.\n",
      " |  \n",
      " |  __repr_str__(self, join_str: 'unicode') -> 'unicode'\n",
      " |  \n",
      " |  __rich_repr__(self) -> 'RichReprResult'\n",
      " |      Get fields for Rich library\n",
      " |  \n",
      " |  __str__(self) -> 'unicode'\n",
      "\n"
     ]
    }
   ],
   "source": [
    "help(VOCS)"
   ]
  },
  {
   "cell_type": "code",
   "execution_count": 3,
   "id": "31a15253-14cd-4547-ab01-09f4b56f5bf5",
   "metadata": {
    "execution": {
     "iopub.execute_input": "2023-09-08T22:00:26.127778Z",
     "iopub.status.busy": "2023-09-08T22:00:26.127218Z",
     "iopub.status.idle": "2023-09-08T22:00:26.136357Z",
     "shell.execute_reply": "2023-09-08T22:00:26.135716Z"
    },
    "pycharm": {
     "name": "#%%\n"
    }
   },
   "outputs": [
    {
     "data": {
      "text/plain": [
       "VOCS(variables={'a': [0.0, 1000.0], 'b': [-1.0, 1.0]}, constraints={'e': ['LESS_THAN', 2.0], 'f': ['GREATER_THAN', 0.0]}, objectives={'c': 'MAXIMIZE', 'd': 'MINIMIZE'}, constants={'g': 1234}, observables=[])"
      ]
     },
     "execution_count": 3,
     "metadata": {},
     "output_type": "execute_result"
    }
   ],
   "source": [
    "Y = \"\"\"\n",
    "variables:\n",
    "  a: [0, 1e3] # Note that 1e3 usually parses as a str with YAML. \n",
    "  b: [-1, 1]\n",
    "objectives:\n",
    "  c: maximize\n",
    "  d: minimize \n",
    "constraints:\n",
    "  e: ['Less_than', 2]\n",
    "  f: ['greater_than', 0]\n",
    "constants:\n",
    "  g: 1234\n",
    "\n",
    "\"\"\"\n",
    "\n",
    "vocs = VOCS.from_yaml(Y)\n",
    "vocs"
   ]
  },
  {
   "cell_type": "code",
   "execution_count": 4,
   "id": "304bcc89",
   "metadata": {
    "execution": {
     "iopub.execute_input": "2023-09-08T22:00:26.139568Z",
     "iopub.status.busy": "2023-09-08T22:00:26.139232Z",
     "iopub.status.idle": "2023-09-08T22:00:26.143626Z",
     "shell.execute_reply": "2023-09-08T22:00:26.143147Z"
    },
    "pycharm": {
     "name": "#%%\n"
    }
   },
   "outputs": [
    {
     "data": {
      "text/plain": [
       "{'variables': {'a': [0.0, 1000.0], 'b': [-1.0, 1.0]},\n",
       " 'constraints': {'e': ['LESS_THAN', 2.0], 'f': ['GREATER_THAN', 0.0]},\n",
       " 'objectives': {'c': 'MAXIMIZE', 'd': 'MINIMIZE'},\n",
       " 'constants': {'g': 1234},\n",
       " 'observables': []}"
      ]
     },
     "execution_count": 4,
     "metadata": {},
     "output_type": "execute_result"
    }
   ],
   "source": [
    "# as dict\n",
    "vocs.dict()"
   ]
  },
  {
   "cell_type": "code",
   "execution_count": 5,
   "id": "b236bfb4",
   "metadata": {
    "execution": {
     "iopub.execute_input": "2023-09-08T22:00:26.146290Z",
     "iopub.status.busy": "2023-09-08T22:00:26.145888Z",
     "iopub.status.idle": "2023-09-08T22:00:26.149120Z",
     "shell.execute_reply": "2023-09-08T22:00:26.148482Z"
    },
    "pycharm": {
     "name": "#%%\n"
    }
   },
   "outputs": [],
   "source": [
    "#  re-parse dict\n",
    "vocs2 = VOCS.parse_obj(vocs.dict())"
   ]
  },
  {
   "cell_type": "code",
   "execution_count": 6,
   "id": "76c9a173",
   "metadata": {
    "execution": {
     "iopub.execute_input": "2023-09-08T22:00:26.152124Z",
     "iopub.status.busy": "2023-09-08T22:00:26.151608Z",
     "iopub.status.idle": "2023-09-08T22:00:26.155785Z",
     "shell.execute_reply": "2023-09-08T22:00:26.155170Z"
    },
    "pycharm": {
     "name": "#%%\n"
    }
   },
   "outputs": [
    {
     "data": {
      "text/plain": [
       "True"
      ]
     },
     "execution_count": 6,
     "metadata": {},
     "output_type": "execute_result"
    }
   ],
   "source": [
    "# Check that these are the same\n",
    "vocs2 == vocs"
   ]
  },
  {
   "cell_type": "code",
   "execution_count": 7,
   "id": "6a846f4d",
   "metadata": {
    "execution": {
     "iopub.execute_input": "2023-09-08T22:00:26.158775Z",
     "iopub.status.busy": "2023-09-08T22:00:26.158283Z",
     "iopub.status.idle": "2023-09-08T22:00:26.162566Z",
     "shell.execute_reply": "2023-09-08T22:00:26.161943Z"
    },
    "pycharm": {
     "name": "#%%\n"
    }
   },
   "outputs": [
    {
     "data": {
      "text/plain": [
       "{'a': [0.0, 1000.0], 'b': [-1.0, 1.0]}"
      ]
     },
     "execution_count": 7,
     "metadata": {},
     "output_type": "execute_result"
    }
   ],
   "source": [
    "# This replaces the old vocs[\"variables\"]\n",
    "getattr(vocs, \"variables\")"
   ]
  },
  {
   "cell_type": "code",
   "execution_count": 8,
   "id": "6fa2afc8",
   "metadata": {
    "execution": {
     "iopub.execute_input": "2023-09-08T22:00:26.166119Z",
     "iopub.status.busy": "2023-09-08T22:00:26.165701Z",
     "iopub.status.idle": "2023-09-08T22:00:26.169956Z",
     "shell.execute_reply": "2023-09-08T22:00:26.169324Z"
    },
    "pycharm": {
     "name": "#%%\n"
    }
   },
   "outputs": [
    {
     "data": {
      "text/plain": [
       "True"
      ]
     },
     "execution_count": 8,
     "metadata": {},
     "output_type": "execute_result"
    }
   ],
   "source": [
    "vocs.objectives[\"c\"] == 'MAXIMIZE'"
   ]
  },
  {
   "cell_type": "code",
   "execution_count": 9,
   "id": "713272b7",
   "metadata": {
    "execution": {
     "iopub.execute_input": "2023-09-08T22:00:26.173684Z",
     "iopub.status.busy": "2023-09-08T22:00:26.173265Z",
     "iopub.status.idle": "2023-09-08T22:00:26.179286Z",
     "shell.execute_reply": "2023-09-08T22:00:26.178718Z"
    },
    "pycharm": {
     "name": "#%%\n"
    }
   },
   "outputs": [
    {
     "data": {
      "text/plain": [
       "'{\"variables\":{\"a\":[0.0,1000.0],\"b\":[-1.0,1.0]},\"constraints\":{\"e\":[\"LESS_THAN\",2.0],\"f\":[\"GREATER_THAN\",0.0]},\"objectives\":{\"c\":\"MAXIMIZE\",\"d\":\"MINIMIZE\"},\"constants\":{\"g\":1234},\"observables\":[]}'"
      ]
     },
     "execution_count": 9,
     "metadata": {},
     "output_type": "execute_result"
    }
   ],
   "source": [
    "# json\n",
    "vocs.json()"
   ]
  },
  {
   "cell_type": "markdown",
   "id": "11167a85",
   "metadata": {
    "pycharm": {
     "name": "#%% md\n"
    }
   },
   "source": [
    "# Objective Evaluation"
   ]
  },
  {
   "cell_type": "code",
   "execution_count": 10,
   "id": "c4d150be",
   "metadata": {
    "execution": {
     "iopub.execute_input": "2023-09-08T22:00:26.182451Z",
     "iopub.status.busy": "2023-09-08T22:00:26.181943Z",
     "iopub.status.idle": "2023-09-08T22:00:26.202814Z",
     "shell.execute_reply": "2023-09-08T22:00:26.202176Z"
    },
    "pycharm": {
     "name": "#%%\n"
    }
   },
   "outputs": [
    {
     "data": {
      "text/html": [
       "<div>\n",
       "<style scoped>\n",
       "    .dataframe tbody tr th:only-of-type {\n",
       "        vertical-align: middle;\n",
       "    }\n",
       "\n",
       "    .dataframe tbody tr th {\n",
       "        vertical-align: top;\n",
       "    }\n",
       "\n",
       "    .dataframe thead th {\n",
       "        text-align: right;\n",
       "    }\n",
       "</style>\n",
       "<table border=\"1\" class=\"dataframe\">\n",
       "  <thead>\n",
       "    <tr style=\"text-align: right;\">\n",
       "      <th></th>\n",
       "      <th>a</th>\n",
       "      <th>b</th>\n",
       "      <th>g</th>\n",
       "      <th>c</th>\n",
       "      <th>d</th>\n",
       "      <th>e</th>\n",
       "      <th>f</th>\n",
       "    </tr>\n",
       "  </thead>\n",
       "  <tbody>\n",
       "    <tr>\n",
       "      <th>5</th>\n",
       "      <td>994.908298</td>\n",
       "      <td>-0.789087</td>\n",
       "      <td>1234</td>\n",
       "      <td>994.119211</td>\n",
       "      <td>995.697386</td>\n",
       "      <td>1988.238422</td>\n",
       "      <td>1991.394771</td>\n",
       "    </tr>\n",
       "    <tr>\n",
       "      <th>6</th>\n",
       "      <td>397.318083</td>\n",
       "      <td>-0.928803</td>\n",
       "      <td>1234</td>\n",
       "      <td>396.389280</td>\n",
       "      <td>398.246886</td>\n",
       "      <td>792.778561</td>\n",
       "      <td>796.493772</td>\n",
       "    </tr>\n",
       "    <tr>\n",
       "      <th>7</th>\n",
       "      <td>63.093114</td>\n",
       "      <td>-0.234675</td>\n",
       "      <td>1234</td>\n",
       "      <td>62.858439</td>\n",
       "      <td>63.327789</td>\n",
       "      <td>125.716878</td>\n",
       "      <td>126.655578</td>\n",
       "    </tr>\n",
       "    <tr>\n",
       "      <th>8</th>\n",
       "      <td>797.961161</td>\n",
       "      <td>-0.096376</td>\n",
       "      <td>1234</td>\n",
       "      <td>797.864784</td>\n",
       "      <td>798.057537</td>\n",
       "      <td>1595.729569</td>\n",
       "      <td>1596.115073</td>\n",
       "    </tr>\n",
       "    <tr>\n",
       "      <th>9</th>\n",
       "      <td>517.850160</td>\n",
       "      <td>0.990924</td>\n",
       "      <td>1234</td>\n",
       "      <td>518.841084</td>\n",
       "      <td>516.859235</td>\n",
       "      <td>1037.682169</td>\n",
       "      <td>1033.718471</td>\n",
       "    </tr>\n",
       "    <tr>\n",
       "      <th>10</th>\n",
       "      <td>551.501534</td>\n",
       "      <td>-0.375255</td>\n",
       "      <td>1234</td>\n",
       "      <td>551.126279</td>\n",
       "      <td>551.876789</td>\n",
       "      <td>1102.252558</td>\n",
       "      <td>1103.753578</td>\n",
       "    </tr>\n",
       "    <tr>\n",
       "      <th>11</th>\n",
       "      <td>124.955579</td>\n",
       "      <td>-0.323829</td>\n",
       "      <td>1234</td>\n",
       "      <td>124.631750</td>\n",
       "      <td>125.279408</td>\n",
       "      <td>249.263500</td>\n",
       "      <td>250.558815</td>\n",
       "    </tr>\n",
       "    <tr>\n",
       "      <th>12</th>\n",
       "      <td>624.892276</td>\n",
       "      <td>-0.951232</td>\n",
       "      <td>1234</td>\n",
       "      <td>623.941045</td>\n",
       "      <td>625.843508</td>\n",
       "      <td>1247.882089</td>\n",
       "      <td>1251.687016</td>\n",
       "    </tr>\n",
       "    <tr>\n",
       "      <th>13</th>\n",
       "      <td>319.927760</td>\n",
       "      <td>0.747405</td>\n",
       "      <td>1234</td>\n",
       "      <td>320.675165</td>\n",
       "      <td>319.180355</td>\n",
       "      <td>641.350330</td>\n",
       "      <td>638.360711</td>\n",
       "    </tr>\n",
       "    <tr>\n",
       "      <th>14</th>\n",
       "      <td>332.125163</td>\n",
       "      <td>-0.643791</td>\n",
       "      <td>1234</td>\n",
       "      <td>331.481372</td>\n",
       "      <td>332.768955</td>\n",
       "      <td>662.962744</td>\n",
       "      <td>665.537909</td>\n",
       "    </tr>\n",
       "  </tbody>\n",
       "</table>\n",
       "</div>"
      ],
      "text/plain": [
       "             a         b     g           c           d            e  \\\n",
       "5   994.908298 -0.789087  1234  994.119211  995.697386  1988.238422   \n",
       "6   397.318083 -0.928803  1234  396.389280  398.246886   792.778561   \n",
       "7    63.093114 -0.234675  1234   62.858439   63.327789   125.716878   \n",
       "8   797.961161 -0.096376  1234  797.864784  798.057537  1595.729569   \n",
       "9   517.850160  0.990924  1234  518.841084  516.859235  1037.682169   \n",
       "10  551.501534 -0.375255  1234  551.126279  551.876789  1102.252558   \n",
       "11  124.955579 -0.323829  1234  124.631750  125.279408   249.263500   \n",
       "12  624.892276 -0.951232  1234  623.941045  625.843508  1247.882089   \n",
       "13  319.927760  0.747405  1234  320.675165  319.180355   641.350330   \n",
       "14  332.125163 -0.643791  1234  331.481372  332.768955   662.962744   \n",
       "\n",
       "              f  \n",
       "5   1991.394771  \n",
       "6    796.493772  \n",
       "7    126.655578  \n",
       "8   1596.115073  \n",
       "9   1033.718471  \n",
       "10  1103.753578  \n",
       "11   250.558815  \n",
       "12  1251.687016  \n",
       "13   638.360711  \n",
       "14   665.537909  "
      ]
     },
     "execution_count": 10,
     "metadata": {},
     "output_type": "execute_result"
    }
   ],
   "source": [
    "from xopt.vocs import form_objective_data, form_constraint_data, form_feasibility_data\n",
    "import pandas as pd\n",
    "import numpy as np\n",
    "\n",
    "data = pd.DataFrame(vocs.random_inputs(10))\n",
    "# Add some outputs\n",
    "data[\"c\"] = data[\"a\"] + data[\"b\"]\n",
    "data[\"d\"] = data[\"a\"] - data[\"b\"]\n",
    "data[\"e\"] = data[\"a\"] * 2 + data[\"b\"] * 2\n",
    "data[\"f\"] = data[\"a\"] * 2 - data[\"b\"] * 2\n",
    "data.index = np.arange(len(data)) + 5  # custom index\n",
    "data"
   ]
  },
  {
   "cell_type": "code",
   "execution_count": 11,
   "id": "a695dc98",
   "metadata": {
    "execution": {
     "iopub.execute_input": "2023-09-08T22:00:26.206511Z",
     "iopub.status.busy": "2023-09-08T22:00:26.206070Z",
     "iopub.status.idle": "2023-09-08T22:00:26.212368Z",
     "shell.execute_reply": "2023-09-08T22:00:26.211780Z"
    },
    "pycharm": {
     "name": "#%%\n"
    }
   },
   "outputs": [
    {
     "data": {
      "text/plain": [
       "{'c': 'MAXIMIZE', 'd': 'MINIMIZE'}"
      ]
     },
     "execution_count": 11,
     "metadata": {},
     "output_type": "execute_result"
    }
   ],
   "source": [
    "vocs.objectives"
   ]
  },
  {
   "cell_type": "code",
   "execution_count": 12,
   "id": "43051b71",
   "metadata": {
    "execution": {
     "iopub.execute_input": "2023-09-08T22:00:26.215472Z",
     "iopub.status.busy": "2023-09-08T22:00:26.215112Z",
     "iopub.status.idle": "2023-09-08T22:00:26.226128Z",
     "shell.execute_reply": "2023-09-08T22:00:26.225561Z"
    },
    "pycharm": {
     "name": "#%%\n"
    }
   },
   "outputs": [
    {
     "data": {
      "text/html": [
       "<div>\n",
       "<style scoped>\n",
       "    .dataframe tbody tr th:only-of-type {\n",
       "        vertical-align: middle;\n",
       "    }\n",
       "\n",
       "    .dataframe tbody tr th {\n",
       "        vertical-align: top;\n",
       "    }\n",
       "\n",
       "    .dataframe thead th {\n",
       "        text-align: right;\n",
       "    }\n",
       "</style>\n",
       "<table border=\"1\" class=\"dataframe\">\n",
       "  <thead>\n",
       "    <tr style=\"text-align: right;\">\n",
       "      <th></th>\n",
       "      <th>objective_c</th>\n",
       "      <th>objective_d</th>\n",
       "    </tr>\n",
       "  </thead>\n",
       "  <tbody>\n",
       "    <tr>\n",
       "      <th>5</th>\n",
       "      <td>-994.119211</td>\n",
       "      <td>995.697386</td>\n",
       "    </tr>\n",
       "    <tr>\n",
       "      <th>6</th>\n",
       "      <td>-396.389280</td>\n",
       "      <td>398.246886</td>\n",
       "    </tr>\n",
       "    <tr>\n",
       "      <th>7</th>\n",
       "      <td>-62.858439</td>\n",
       "      <td>63.327789</td>\n",
       "    </tr>\n",
       "    <tr>\n",
       "      <th>8</th>\n",
       "      <td>-797.864784</td>\n",
       "      <td>798.057537</td>\n",
       "    </tr>\n",
       "    <tr>\n",
       "      <th>9</th>\n",
       "      <td>-518.841084</td>\n",
       "      <td>516.859235</td>\n",
       "    </tr>\n",
       "    <tr>\n",
       "      <th>10</th>\n",
       "      <td>-551.126279</td>\n",
       "      <td>551.876789</td>\n",
       "    </tr>\n",
       "    <tr>\n",
       "      <th>11</th>\n",
       "      <td>-124.631750</td>\n",
       "      <td>125.279408</td>\n",
       "    </tr>\n",
       "    <tr>\n",
       "      <th>12</th>\n",
       "      <td>-623.941045</td>\n",
       "      <td>625.843508</td>\n",
       "    </tr>\n",
       "    <tr>\n",
       "      <th>13</th>\n",
       "      <td>-320.675165</td>\n",
       "      <td>319.180355</td>\n",
       "    </tr>\n",
       "    <tr>\n",
       "      <th>14</th>\n",
       "      <td>-331.481372</td>\n",
       "      <td>332.768955</td>\n",
       "    </tr>\n",
       "  </tbody>\n",
       "</table>\n",
       "</div>"
      ],
      "text/plain": [
       "    objective_c  objective_d\n",
       "5   -994.119211   995.697386\n",
       "6   -396.389280   398.246886\n",
       "7    -62.858439    63.327789\n",
       "8   -797.864784   798.057537\n",
       "9   -518.841084   516.859235\n",
       "10  -551.126279   551.876789\n",
       "11  -124.631750   125.279408\n",
       "12  -623.941045   625.843508\n",
       "13  -320.675165   319.180355\n",
       "14  -331.481372   332.768955"
      ]
     },
     "execution_count": 12,
     "metadata": {},
     "output_type": "execute_result"
    }
   ],
   "source": [
    "# These are in standard form for minimization\n",
    "form_objective_data(vocs.objectives, data)"
   ]
  },
  {
   "cell_type": "code",
   "execution_count": 13,
   "id": "2ed50815",
   "metadata": {
    "execution": {
     "iopub.execute_input": "2023-09-08T22:00:26.229456Z",
     "iopub.status.busy": "2023-09-08T22:00:26.228903Z",
     "iopub.status.idle": "2023-09-08T22:00:26.237453Z",
     "shell.execute_reply": "2023-09-08T22:00:26.236925Z"
    },
    "pycharm": {
     "name": "#%%\n"
    }
   },
   "outputs": [
    {
     "data": {
      "text/html": [
       "<div>\n",
       "<style scoped>\n",
       "    .dataframe tbody tr th:only-of-type {\n",
       "        vertical-align: middle;\n",
       "    }\n",
       "\n",
       "    .dataframe tbody tr th {\n",
       "        vertical-align: top;\n",
       "    }\n",
       "\n",
       "    .dataframe thead th {\n",
       "        text-align: right;\n",
       "    }\n",
       "</style>\n",
       "<table border=\"1\" class=\"dataframe\">\n",
       "  <thead>\n",
       "    <tr style=\"text-align: right;\">\n",
       "      <th></th>\n",
       "      <th>objective_c</th>\n",
       "      <th>objective_d</th>\n",
       "    </tr>\n",
       "  </thead>\n",
       "  <tbody>\n",
       "    <tr>\n",
       "      <th>5</th>\n",
       "      <td>-994.119211</td>\n",
       "      <td>995.697386</td>\n",
       "    </tr>\n",
       "    <tr>\n",
       "      <th>6</th>\n",
       "      <td>-396.389280</td>\n",
       "      <td>398.246886</td>\n",
       "    </tr>\n",
       "    <tr>\n",
       "      <th>7</th>\n",
       "      <td>-62.858439</td>\n",
       "      <td>63.327789</td>\n",
       "    </tr>\n",
       "    <tr>\n",
       "      <th>8</th>\n",
       "      <td>-797.864784</td>\n",
       "      <td>798.057537</td>\n",
       "    </tr>\n",
       "    <tr>\n",
       "      <th>9</th>\n",
       "      <td>-518.841084</td>\n",
       "      <td>516.859235</td>\n",
       "    </tr>\n",
       "    <tr>\n",
       "      <th>10</th>\n",
       "      <td>-551.126279</td>\n",
       "      <td>551.876789</td>\n",
       "    </tr>\n",
       "    <tr>\n",
       "      <th>11</th>\n",
       "      <td>-124.631750</td>\n",
       "      <td>125.279408</td>\n",
       "    </tr>\n",
       "    <tr>\n",
       "      <th>12</th>\n",
       "      <td>-623.941045</td>\n",
       "      <td>625.843508</td>\n",
       "    </tr>\n",
       "    <tr>\n",
       "      <th>13</th>\n",
       "      <td>-320.675165</td>\n",
       "      <td>319.180355</td>\n",
       "    </tr>\n",
       "    <tr>\n",
       "      <th>14</th>\n",
       "      <td>-331.481372</td>\n",
       "      <td>332.768955</td>\n",
       "    </tr>\n",
       "  </tbody>\n",
       "</table>\n",
       "</div>"
      ],
      "text/plain": [
       "    objective_c  objective_d\n",
       "5   -994.119211   995.697386\n",
       "6   -396.389280   398.246886\n",
       "7    -62.858439    63.327789\n",
       "8   -797.864784   798.057537\n",
       "9   -518.841084   516.859235\n",
       "10  -551.126279   551.876789\n",
       "11  -124.631750   125.279408\n",
       "12  -623.941045   625.843508\n",
       "13  -320.675165   319.180355\n",
       "14  -331.481372   332.768955"
      ]
     },
     "execution_count": 13,
     "metadata": {},
     "output_type": "execute_result"
    }
   ],
   "source": [
    "# This is also available as a method\n",
    "vocs.objective_data(data)"
   ]
  },
  {
   "cell_type": "code",
   "execution_count": 14,
   "id": "9f4275d4",
   "metadata": {
    "execution": {
     "iopub.execute_input": "2023-09-08T22:00:26.240506Z",
     "iopub.status.busy": "2023-09-08T22:00:26.240075Z",
     "iopub.status.idle": "2023-09-08T22:00:26.248724Z",
     "shell.execute_reply": "2023-09-08T22:00:26.248144Z"
    },
    "pycharm": {
     "name": "#%%\n"
    }
   },
   "outputs": [
    {
     "data": {
      "text/plain": [
       "array([[-994.11921082,  995.69738557],\n",
       "       [-396.38928026,  398.24688618],\n",
       "       [ -62.85843901,   63.32778882],\n",
       "       [-797.86478439,  798.05753671],\n",
       "       [-518.84108427,  516.85923547],\n",
       "       [-551.12627883,  551.876789  ],\n",
       "       [-124.6317498 ,  125.2794077 ],\n",
       "       [-623.94104465,  625.84350801],\n",
       "       [-320.67516505,  319.18035549],\n",
       "       [-331.48137178,  332.76895457]])"
      ]
     },
     "execution_count": 14,
     "metadata": {},
     "output_type": "execute_result"
    }
   ],
   "source": [
    "# use the to_numpy() method to convert for low level use.\n",
    "vocs.objective_data(data).to_numpy()"
   ]
  },
  {
   "cell_type": "code",
   "execution_count": 15,
   "id": "29b73df4",
   "metadata": {
    "execution": {
     "iopub.execute_input": "2023-09-08T22:00:26.251752Z",
     "iopub.status.busy": "2023-09-08T22:00:26.251239Z",
     "iopub.status.idle": "2023-09-08T22:00:26.262254Z",
     "shell.execute_reply": "2023-09-08T22:00:26.261653Z"
    },
    "pycharm": {
     "name": "#%%\n"
    }
   },
   "outputs": [
    {
     "data": {
      "text/html": [
       "<div>\n",
       "<style scoped>\n",
       "    .dataframe tbody tr th:only-of-type {\n",
       "        vertical-align: middle;\n",
       "    }\n",
       "\n",
       "    .dataframe tbody tr th {\n",
       "        vertical-align: top;\n",
       "    }\n",
       "\n",
       "    .dataframe thead th {\n",
       "        text-align: right;\n",
       "    }\n",
       "</style>\n",
       "<table border=\"1\" class=\"dataframe\">\n",
       "  <thead>\n",
       "    <tr style=\"text-align: right;\">\n",
       "      <th></th>\n",
       "      <th>constraint_e</th>\n",
       "      <th>constraint_f</th>\n",
       "    </tr>\n",
       "  </thead>\n",
       "  <tbody>\n",
       "    <tr>\n",
       "      <th>5</th>\n",
       "      <td>1986.238422</td>\n",
       "      <td>-1991.394771</td>\n",
       "    </tr>\n",
       "    <tr>\n",
       "      <th>6</th>\n",
       "      <td>790.778561</td>\n",
       "      <td>-796.493772</td>\n",
       "    </tr>\n",
       "    <tr>\n",
       "      <th>7</th>\n",
       "      <td>123.716878</td>\n",
       "      <td>-126.655578</td>\n",
       "    </tr>\n",
       "    <tr>\n",
       "      <th>8</th>\n",
       "      <td>1593.729569</td>\n",
       "      <td>-1596.115073</td>\n",
       "    </tr>\n",
       "    <tr>\n",
       "      <th>9</th>\n",
       "      <td>1035.682169</td>\n",
       "      <td>-1033.718471</td>\n",
       "    </tr>\n",
       "    <tr>\n",
       "      <th>10</th>\n",
       "      <td>1100.252558</td>\n",
       "      <td>-1103.753578</td>\n",
       "    </tr>\n",
       "    <tr>\n",
       "      <th>11</th>\n",
       "      <td>247.263500</td>\n",
       "      <td>-250.558815</td>\n",
       "    </tr>\n",
       "    <tr>\n",
       "      <th>12</th>\n",
       "      <td>1245.882089</td>\n",
       "      <td>-1251.687016</td>\n",
       "    </tr>\n",
       "    <tr>\n",
       "      <th>13</th>\n",
       "      <td>639.350330</td>\n",
       "      <td>-638.360711</td>\n",
       "    </tr>\n",
       "    <tr>\n",
       "      <th>14</th>\n",
       "      <td>660.962744</td>\n",
       "      <td>-665.537909</td>\n",
       "    </tr>\n",
       "  </tbody>\n",
       "</table>\n",
       "</div>"
      ],
      "text/plain": [
       "    constraint_e  constraint_f\n",
       "5    1986.238422  -1991.394771\n",
       "6     790.778561   -796.493772\n",
       "7     123.716878   -126.655578\n",
       "8    1593.729569  -1596.115073\n",
       "9    1035.682169  -1033.718471\n",
       "10   1100.252558  -1103.753578\n",
       "11    247.263500   -250.558815\n",
       "12   1245.882089  -1251.687016\n",
       "13    639.350330   -638.360711\n",
       "14    660.962744   -665.537909"
      ]
     },
     "execution_count": 15,
     "metadata": {},
     "output_type": "execute_result"
    }
   ],
   "source": [
    "vocs.constraint_data(data)"
   ]
  },
  {
   "cell_type": "code",
   "execution_count": 16,
   "id": "e46a5e83",
   "metadata": {
    "execution": {
     "iopub.execute_input": "2023-09-08T22:00:26.265330Z",
     "iopub.status.busy": "2023-09-08T22:00:26.264917Z",
     "iopub.status.idle": "2023-09-08T22:00:26.277194Z",
     "shell.execute_reply": "2023-09-08T22:00:26.276525Z"
    },
    "pycharm": {
     "name": "#%%\n"
    }
   },
   "outputs": [
    {
     "data": {
      "text/html": [
       "<div>\n",
       "<style scoped>\n",
       "    .dataframe tbody tr th:only-of-type {\n",
       "        vertical-align: middle;\n",
       "    }\n",
       "\n",
       "    .dataframe tbody tr th {\n",
       "        vertical-align: top;\n",
       "    }\n",
       "\n",
       "    .dataframe thead th {\n",
       "        text-align: right;\n",
       "    }\n",
       "</style>\n",
       "<table border=\"1\" class=\"dataframe\">\n",
       "  <thead>\n",
       "    <tr style=\"text-align: right;\">\n",
       "      <th></th>\n",
       "      <th>feasible_e</th>\n",
       "      <th>feasible_f</th>\n",
       "      <th>feasible</th>\n",
       "    </tr>\n",
       "  </thead>\n",
       "  <tbody>\n",
       "    <tr>\n",
       "      <th>5</th>\n",
       "      <td>False</td>\n",
       "      <td>True</td>\n",
       "      <td>False</td>\n",
       "    </tr>\n",
       "    <tr>\n",
       "      <th>6</th>\n",
       "      <td>False</td>\n",
       "      <td>True</td>\n",
       "      <td>False</td>\n",
       "    </tr>\n",
       "    <tr>\n",
       "      <th>7</th>\n",
       "      <td>False</td>\n",
       "      <td>True</td>\n",
       "      <td>False</td>\n",
       "    </tr>\n",
       "    <tr>\n",
       "      <th>8</th>\n",
       "      <td>False</td>\n",
       "      <td>True</td>\n",
       "      <td>False</td>\n",
       "    </tr>\n",
       "    <tr>\n",
       "      <th>9</th>\n",
       "      <td>False</td>\n",
       "      <td>True</td>\n",
       "      <td>False</td>\n",
       "    </tr>\n",
       "    <tr>\n",
       "      <th>10</th>\n",
       "      <td>False</td>\n",
       "      <td>True</td>\n",
       "      <td>False</td>\n",
       "    </tr>\n",
       "    <tr>\n",
       "      <th>11</th>\n",
       "      <td>False</td>\n",
       "      <td>True</td>\n",
       "      <td>False</td>\n",
       "    </tr>\n",
       "    <tr>\n",
       "      <th>12</th>\n",
       "      <td>False</td>\n",
       "      <td>True</td>\n",
       "      <td>False</td>\n",
       "    </tr>\n",
       "    <tr>\n",
       "      <th>13</th>\n",
       "      <td>False</td>\n",
       "      <td>True</td>\n",
       "      <td>False</td>\n",
       "    </tr>\n",
       "    <tr>\n",
       "      <th>14</th>\n",
       "      <td>False</td>\n",
       "      <td>True</td>\n",
       "      <td>False</td>\n",
       "    </tr>\n",
       "  </tbody>\n",
       "</table>\n",
       "</div>"
      ],
      "text/plain": [
       "    feasible_e  feasible_f  feasible\n",
       "5        False        True     False\n",
       "6        False        True     False\n",
       "7        False        True     False\n",
       "8        False        True     False\n",
       "9        False        True     False\n",
       "10       False        True     False\n",
       "11       False        True     False\n",
       "12       False        True     False\n",
       "13       False        True     False\n",
       "14       False        True     False"
      ]
     },
     "execution_count": 16,
     "metadata": {},
     "output_type": "execute_result"
    }
   ],
   "source": [
    "vocs.feasibility_data(data)"
   ]
  },
  {
   "cell_type": "markdown",
   "id": "59041be7",
   "metadata": {},
   "source": [
    "# Error handling"
   ]
  },
  {
   "cell_type": "code",
   "execution_count": 17,
   "id": "f9171ede",
   "metadata": {
    "execution": {
     "iopub.execute_input": "2023-09-08T22:00:26.281280Z",
     "iopub.status.busy": "2023-09-08T22:00:26.280900Z",
     "iopub.status.idle": "2023-09-08T22:00:26.286357Z",
     "shell.execute_reply": "2023-09-08T22:00:26.285688Z"
    }
   },
   "outputs": [],
   "source": [
    "Y = \"\"\"\n",
    "variables:\n",
    "  a: [0, 1e3] # Note that 1e3 usually parses as a str with YAML. \n",
    "  b: [-1, 1]\n",
    "objectives:\n",
    "  c: maximize\n",
    "  d: minimize \n",
    "constraints:\n",
    "  e: ['Less_than', 2]\n",
    "  f: ['greater_than', 0]\n",
    "constants:\n",
    "  g: 1234\n",
    "\n",
    "\"\"\"\n",
    "\n",
    "vocs = VOCS.from_yaml(Y)"
   ]
  },
  {
   "cell_type": "code",
   "execution_count": 18,
   "id": "b5513539",
   "metadata": {
    "execution": {
     "iopub.execute_input": "2023-09-08T22:00:26.289683Z",
     "iopub.status.busy": "2023-09-08T22:00:26.289168Z",
     "iopub.status.idle": "2023-09-08T22:00:26.298077Z",
     "shell.execute_reply": "2023-09-08T22:00:26.297507Z"
    }
   },
   "outputs": [
    {
     "data": {
      "text/plain": [
       "0   NaN\n",
       "1   NaN\n",
       "2   NaN\n",
       "Name: b, dtype: float64"
      ]
     },
     "execution_count": 18,
     "metadata": {},
     "output_type": "execute_result"
    }
   ],
   "source": [
    "d = {'a': [1,2,3]}\n",
    "\n",
    "df = pd.DataFrame(d)\n",
    "df2 = pd.DataFrame(df).copy()\n",
    "\n",
    "df2['b'] = np.nan\n",
    "df2['b'] - 1"
   ]
  },
  {
   "cell_type": "code",
   "execution_count": 19,
   "id": "30f3b3b4",
   "metadata": {
    "execution": {
     "iopub.execute_input": "2023-09-08T22:00:26.301107Z",
     "iopub.status.busy": "2023-09-08T22:00:26.300681Z",
     "iopub.status.idle": "2023-09-08T22:00:26.304248Z",
     "shell.execute_reply": "2023-09-08T22:00:26.303590Z"
    }
   },
   "outputs": [],
   "source": [
    "data['a']  = np.nan"
   ]
  },
  {
   "cell_type": "code",
   "execution_count": 20,
   "id": "6393376b",
   "metadata": {
    "execution": {
     "iopub.execute_input": "2023-09-08T22:00:26.307139Z",
     "iopub.status.busy": "2023-09-08T22:00:26.306796Z",
     "iopub.status.idle": "2023-09-08T22:00:26.311315Z",
     "shell.execute_reply": "2023-09-08T22:00:26.310817Z"
    }
   },
   "outputs": [
    {
     "data": {
      "text/plain": [
       "2"
      ]
     },
     "execution_count": 20,
     "metadata": {},
     "output_type": "execute_result"
    }
   ],
   "source": [
    "a = 2\n",
    "def f(x=a):\n",
    "    return x\n",
    "a=99\n",
    "f()"
   ]
  },
  {
   "cell_type": "code",
   "execution_count": 21,
   "id": "cb0ecd74",
   "metadata": {
    "execution": {
     "iopub.execute_input": "2023-09-08T22:00:26.314249Z",
     "iopub.status.busy": "2023-09-08T22:00:26.313802Z",
     "iopub.status.idle": "2023-09-08T22:00:26.321094Z",
     "shell.execute_reply": "2023-09-08T22:00:26.320456Z"
    }
   },
   "outputs": [
    {
     "data": {
      "text/html": [
       "<div>\n",
       "<style scoped>\n",
       "    .dataframe tbody tr th:only-of-type {\n",
       "        vertical-align: middle;\n",
       "    }\n",
       "\n",
       "    .dataframe tbody tr th {\n",
       "        vertical-align: top;\n",
       "    }\n",
       "\n",
       "    .dataframe thead th {\n",
       "        text-align: right;\n",
       "    }\n",
       "</style>\n",
       "<table border=\"1\" class=\"dataframe\">\n",
       "  <thead>\n",
       "    <tr style=\"text-align: right;\">\n",
       "      <th></th>\n",
       "      <th>A</th>\n",
       "    </tr>\n",
       "  </thead>\n",
       "  <tbody>\n",
       "    <tr>\n",
       "      <th>1</th>\n",
       "      <td>6.000000e+66</td>\n",
       "    </tr>\n",
       "    <tr>\n",
       "      <th>2</th>\n",
       "      <td>6.000000e+66</td>\n",
       "    </tr>\n",
       "    <tr>\n",
       "      <th>3</th>\n",
       "      <td>6.000000e+66</td>\n",
       "    </tr>\n",
       "  </tbody>\n",
       "</table>\n",
       "</div>"
      ],
      "text/plain": [
       "              A\n",
       "1  6.000000e+66\n",
       "2  6.000000e+66\n",
       "3  6.000000e+66"
      ]
     },
     "execution_count": 21,
     "metadata": {},
     "output_type": "execute_result"
    }
   ],
   "source": [
    "pd.DataFrame(6e66, index=[1,2,3], columns=['A'])"
   ]
  },
  {
   "cell_type": "code",
   "execution_count": 22,
   "id": "88bb8253",
   "metadata": {
    "execution": {
     "iopub.execute_input": "2023-09-08T22:00:26.324865Z",
     "iopub.status.busy": "2023-09-08T22:00:26.324513Z",
     "iopub.status.idle": "2023-09-08T22:00:26.333328Z",
     "shell.execute_reply": "2023-09-08T22:00:26.332688Z"
    }
   },
   "outputs": [
    {
     "data": {
      "text/html": [
       "<div>\n",
       "<style scoped>\n",
       "    .dataframe tbody tr th:only-of-type {\n",
       "        vertical-align: middle;\n",
       "    }\n",
       "\n",
       "    .dataframe tbody tr th {\n",
       "        vertical-align: top;\n",
       "    }\n",
       "\n",
       "    .dataframe thead th {\n",
       "        text-align: right;\n",
       "    }\n",
       "</style>\n",
       "<table border=\"1\" class=\"dataframe\">\n",
       "  <thead>\n",
       "    <tr style=\"text-align: right;\">\n",
       "      <th></th>\n",
       "      <th>objective_c</th>\n",
       "      <th>objective_d</th>\n",
       "    </tr>\n",
       "  </thead>\n",
       "  <tbody>\n",
       "    <tr>\n",
       "      <th>9</th>\n",
       "      <td>-1.0</td>\n",
       "      <td>inf</td>\n",
       "    </tr>\n",
       "    <tr>\n",
       "      <th>3</th>\n",
       "      <td>-2.0</td>\n",
       "      <td>inf</td>\n",
       "    </tr>\n",
       "    <tr>\n",
       "      <th>4</th>\n",
       "      <td>-3.0</td>\n",
       "      <td>inf</td>\n",
       "    </tr>\n",
       "    <tr>\n",
       "      <th>5</th>\n",
       "      <td>-4.0</td>\n",
       "      <td>inf</td>\n",
       "    </tr>\n",
       "  </tbody>\n",
       "</table>\n",
       "</div>"
      ],
      "text/plain": [
       "   objective_c  objective_d\n",
       "9         -1.0          inf\n",
       "3         -2.0          inf\n",
       "4         -3.0          inf\n",
       "5         -4.0          inf"
      ]
     },
     "execution_count": 22,
     "metadata": {},
     "output_type": "execute_result"
    }
   ],
   "source": [
    "# These are in standard form for minimization\n",
    "\n",
    "data = pd.DataFrame({'c':[1,2,3,4]}, index=[9,3,4,5])\n",
    "\n",
    "form_objective_data(vocs.objectives, data)"
   ]
  }
 ],
 "metadata": {
  "interpreter": {
   "hash": "60703f99bc9a1e465ed9e894ac1e8f256837fa55699b4912a7939def4ae95691"
  },
  "kernelspec": {
   "display_name": "Python 3.9.12 ('devel')",
   "language": "python",
   "name": "python3"
  },
  "language_info": {
   "codemirror_mode": {
    "name": "ipython",
    "version": 3
   },
   "file_extension": ".py",
   "mimetype": "text/x-python",
   "name": "python",
   "nbconvert_exporter": "python",
   "pygments_lexer": "ipython3",
   "version": "3.9.18"
  }
 },
 "nbformat": 4,
 "nbformat_minor": 5
}
