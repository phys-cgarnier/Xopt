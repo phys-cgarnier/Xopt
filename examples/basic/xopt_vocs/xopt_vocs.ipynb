{
 "cells": [
  {
   "cell_type": "markdown",
   "id": "9700f595",
   "metadata": {
    "pycharm": {
     "name": "#%% md\n"
    }
   },
   "source": [
    "# VOCS data structure \n",
    "\n",
    "Variables, Objectives, Constraints, and other Settings (VOCS) helps define our optimization problems. "
   ]
  },
  {
   "cell_type": "code",
   "execution_count": 1,
   "id": "32324ac0-b299-42ee-a6b9-e112dfaa5a45",
   "metadata": {
    "ExecuteTime": {
     "end_time": "2023-10-27T16:46:04.425862200Z",
     "start_time": "2023-10-27T16:46:01.206803200Z"
    },
    "execution": {
     "iopub.execute_input": "2024-01-25T21:39:12.475717Z",
     "iopub.status.busy": "2024-01-25T21:39:12.475535Z",
     "iopub.status.idle": "2024-01-25T21:39:13.994039Z",
     "shell.execute_reply": "2024-01-25T21:39:13.993460Z"
    },
    "pycharm": {
     "name": "#%%\n"
    }
   },
   "outputs": [],
   "source": [
    "from xopt.vocs import VOCS"
   ]
  },
  {
   "cell_type": "code",
   "execution_count": 2,
   "id": "31a15253-14cd-4547-ab01-09f4b56f5bf5",
   "metadata": {
    "ExecuteTime": {
     "end_time": "2023-10-27T16:46:04.440220800Z",
     "start_time": "2023-10-27T16:46:04.427862900Z"
    },
    "execution": {
     "iopub.execute_input": "2024-01-25T21:39:13.996654Z",
     "iopub.status.busy": "2024-01-25T21:39:13.996400Z",
     "iopub.status.idle": "2024-01-25T21:39:14.004499Z",
     "shell.execute_reply": "2024-01-25T21:39:14.003877Z"
    },
    "pycharm": {
     "name": "#%%\n"
    }
   },
   "outputs": [
    {
     "data": {
      "text/plain": [
       "VOCS(variables={'a': [0.0, 1000.0], 'b': [-1.0, 1.0]}, constraints={'e': ['LESS_THAN', 2.0], 'f': ['GREATER_THAN', 0.0]}, objectives={'c': 'MAXIMIZE', 'd': 'MINIMIZE'}, constants={'g': 1234}, observables=[])"
      ]
     },
     "execution_count": 2,
     "metadata": {},
     "output_type": "execute_result"
    }
   ],
   "source": [
    "Y = \"\"\"\n",
    "variables:\n",
    "  a: [0, 1e3] # Note that 1e3 usually parses as a str with YAML. \n",
    "  b: [-1, 1]\n",
    "objectives:\n",
    "  c: maximize\n",
    "  d: minimize \n",
    "constraints:\n",
    "  e: ['Less_than', 2]\n",
    "  f: ['greater_than', 0]\n",
    "constants:\n",
    "  g: 1234\n",
    "\n",
    "\"\"\"\n",
    "\n",
    "vocs = VOCS.from_yaml(Y)\n",
    "vocs"
   ]
  },
  {
   "cell_type": "code",
   "execution_count": 3,
   "id": "304bcc89",
   "metadata": {
    "ExecuteTime": {
     "end_time": "2023-10-27T16:46:04.484822200Z",
     "start_time": "2023-10-27T16:46:04.442248900Z"
    },
    "execution": {
     "iopub.execute_input": "2024-01-25T21:39:14.006457Z",
     "iopub.status.busy": "2024-01-25T21:39:14.006276Z",
     "iopub.status.idle": "2024-01-25T21:39:14.009950Z",
     "shell.execute_reply": "2024-01-25T21:39:14.009402Z"
    },
    "pycharm": {
     "name": "#%%\n"
    }
   },
   "outputs": [
    {
     "data": {
      "text/plain": [
       "{'variables': {'a': [0.0, 1000.0], 'b': [-1.0, 1.0]},\n",
       " 'constraints': {'e': ['LESS_THAN', 2.0], 'f': ['GREATER_THAN', 0.0]},\n",
       " 'objectives': {'c': 'MAXIMIZE', 'd': 'MINIMIZE'},\n",
       " 'constants': {'g': 1234},\n",
       " 'observables': []}"
      ]
     },
     "execution_count": 3,
     "metadata": {},
     "output_type": "execute_result"
    }
   ],
   "source": [
    "# as dict\n",
    "dict(vocs)"
   ]
  },
  {
   "cell_type": "code",
   "execution_count": 4,
   "id": "b236bfb4",
   "metadata": {
    "ExecuteTime": {
     "end_time": "2023-10-27T16:46:04.493762900Z",
     "start_time": "2023-10-27T16:46:04.458284400Z"
    },
    "execution": {
     "iopub.execute_input": "2024-01-25T21:39:14.011953Z",
     "iopub.status.busy": "2024-01-25T21:39:14.011764Z",
     "iopub.status.idle": "2024-01-25T21:39:14.014479Z",
     "shell.execute_reply": "2024-01-25T21:39:14.014019Z"
    },
    "pycharm": {
     "name": "#%%\n"
    }
   },
   "outputs": [],
   "source": [
    "#  re-parse dict\n",
    "vocs2 = VOCS.from_dict(dict(vocs))"
   ]
  },
  {
   "cell_type": "code",
   "execution_count": 5,
   "id": "76c9a173",
   "metadata": {
    "ExecuteTime": {
     "end_time": "2023-10-27T16:46:04.493762900Z",
     "start_time": "2023-10-27T16:46:04.471285600Z"
    },
    "execution": {
     "iopub.execute_input": "2024-01-25T21:39:14.016745Z",
     "iopub.status.busy": "2024-01-25T21:39:14.016306Z",
     "iopub.status.idle": "2024-01-25T21:39:14.019816Z",
     "shell.execute_reply": "2024-01-25T21:39:14.019373Z"
    },
    "pycharm": {
     "name": "#%%\n"
    }
   },
   "outputs": [
    {
     "data": {
      "text/plain": [
       "True"
      ]
     },
     "execution_count": 5,
     "metadata": {},
     "output_type": "execute_result"
    }
   ],
   "source": [
    "# Check that these are the same\n",
    "vocs2 == vocs"
   ]
  },
  {
   "cell_type": "code",
   "execution_count": 6,
   "id": "6a846f4d",
   "metadata": {
    "ExecuteTime": {
     "end_time": "2023-10-27T16:46:04.503771300Z",
     "start_time": "2023-10-27T16:46:04.486737500Z"
    },
    "execution": {
     "iopub.execute_input": "2024-01-25T21:39:14.021786Z",
     "iopub.status.busy": "2024-01-25T21:39:14.021606Z",
     "iopub.status.idle": "2024-01-25T21:39:14.025098Z",
     "shell.execute_reply": "2024-01-25T21:39:14.024566Z"
    },
    "pycharm": {
     "name": "#%%\n"
    }
   },
   "outputs": [
    {
     "data": {
      "text/plain": [
       "{'a': [0.0, 1000.0], 'b': [-1.0, 1.0]}"
      ]
     },
     "execution_count": 6,
     "metadata": {},
     "output_type": "execute_result"
    }
   ],
   "source": [
    "# This replaces the old vocs[\"variables\"]\n",
    "getattr(vocs, \"variables\")"
   ]
  },
  {
   "cell_type": "code",
   "execution_count": 7,
   "id": "6fa2afc8",
   "metadata": {
    "ExecuteTime": {
     "end_time": "2023-10-27T16:46:04.544770800Z",
     "start_time": "2023-10-27T16:46:04.504768500Z"
    },
    "execution": {
     "iopub.execute_input": "2024-01-25T21:39:14.027384Z",
     "iopub.status.busy": "2024-01-25T21:39:14.026922Z",
     "iopub.status.idle": "2024-01-25T21:39:14.030588Z",
     "shell.execute_reply": "2024-01-25T21:39:14.030159Z"
    },
    "pycharm": {
     "name": "#%%\n"
    }
   },
   "outputs": [
    {
     "data": {
      "text/plain": [
       "True"
      ]
     },
     "execution_count": 7,
     "metadata": {},
     "output_type": "execute_result"
    }
   ],
   "source": [
    "vocs.objectives[\"c\"] == 'MAXIMIZE'"
   ]
  },
  {
   "cell_type": "code",
   "execution_count": 8,
   "id": "713272b7",
   "metadata": {
    "ExecuteTime": {
     "end_time": "2023-10-27T16:46:04.544770800Z",
     "start_time": "2023-10-27T16:46:04.518770200Z"
    },
    "execution": {
     "iopub.execute_input": "2024-01-25T21:39:14.032802Z",
     "iopub.status.busy": "2024-01-25T21:39:14.032392Z",
     "iopub.status.idle": "2024-01-25T21:39:14.035981Z",
     "shell.execute_reply": "2024-01-25T21:39:14.035532Z"
    },
    "pycharm": {
     "name": "#%%\n"
    }
   },
   "outputs": [
    {
     "data": {
      "text/plain": [
       "'{\"variables\":{\"a\":[0.0,1000.0],\"b\":[-1.0,1.0]},\"constraints\":{\"e\":[\"LESS_THAN\",2.0],\"f\":[\"GREATER_THAN\",0.0]},\"objectives\":{\"c\":\"MAXIMIZE\",\"d\":\"MINIMIZE\"},\"constants\":{\"g\":1234},\"observables\":[]}'"
      ]
     },
     "execution_count": 8,
     "metadata": {},
     "output_type": "execute_result"
    }
   ],
   "source": [
    "# json\n",
    "vocs.to_json()"
   ]
  },
  {
   "cell_type": "markdown",
   "id": "11167a85",
   "metadata": {
    "pycharm": {
     "name": "#%% md\n"
    }
   },
   "source": [
    "# Objective Evaluation"
   ]
  },
  {
   "cell_type": "code",
   "execution_count": 9,
   "id": "c4d150be",
   "metadata": {
    "ExecuteTime": {
     "end_time": "2023-10-27T16:46:04.566771500Z",
     "start_time": "2023-10-27T16:46:04.534772500Z"
    },
    "execution": {
     "iopub.execute_input": "2024-01-25T21:39:14.038039Z",
     "iopub.status.busy": "2024-01-25T21:39:14.037849Z",
     "iopub.status.idle": "2024-01-25T21:39:14.051548Z",
     "shell.execute_reply": "2024-01-25T21:39:14.051103Z"
    },
    "pycharm": {
     "name": "#%%\n"
    }
   },
   "outputs": [
    {
     "data": {
      "text/html": [
       "<div>\n",
       "<style scoped>\n",
       "    .dataframe tbody tr th:only-of-type {\n",
       "        vertical-align: middle;\n",
       "    }\n",
       "\n",
       "    .dataframe tbody tr th {\n",
       "        vertical-align: top;\n",
       "    }\n",
       "\n",
       "    .dataframe thead th {\n",
       "        text-align: right;\n",
       "    }\n",
       "</style>\n",
       "<table border=\"1\" class=\"dataframe\">\n",
       "  <thead>\n",
       "    <tr style=\"text-align: right;\">\n",
       "      <th></th>\n",
       "      <th>a</th>\n",
       "      <th>b</th>\n",
       "      <th>g</th>\n",
       "      <th>c</th>\n",
       "      <th>d</th>\n",
       "      <th>e</th>\n",
       "      <th>f</th>\n",
       "    </tr>\n",
       "  </thead>\n",
       "  <tbody>\n",
       "    <tr>\n",
       "      <th>5</th>\n",
       "      <td>693.032149</td>\n",
       "      <td>-0.426025</td>\n",
       "      <td>1234</td>\n",
       "      <td>692.606124</td>\n",
       "      <td>693.458173</td>\n",
       "      <td>1385.212248</td>\n",
       "      <td>1386.916346</td>\n",
       "    </tr>\n",
       "    <tr>\n",
       "      <th>6</th>\n",
       "      <td>847.687665</td>\n",
       "      <td>-0.446036</td>\n",
       "      <td>1234</td>\n",
       "      <td>847.241628</td>\n",
       "      <td>848.133701</td>\n",
       "      <td>1694.483257</td>\n",
       "      <td>1696.267401</td>\n",
       "    </tr>\n",
       "    <tr>\n",
       "      <th>7</th>\n",
       "      <td>245.801637</td>\n",
       "      <td>0.622481</td>\n",
       "      <td>1234</td>\n",
       "      <td>246.424118</td>\n",
       "      <td>245.179156</td>\n",
       "      <td>492.848237</td>\n",
       "      <td>490.358312</td>\n",
       "    </tr>\n",
       "    <tr>\n",
       "      <th>8</th>\n",
       "      <td>540.589387</td>\n",
       "      <td>-0.979575</td>\n",
       "      <td>1234</td>\n",
       "      <td>539.609812</td>\n",
       "      <td>541.568963</td>\n",
       "      <td>1079.219624</td>\n",
       "      <td>1083.137925</td>\n",
       "    </tr>\n",
       "    <tr>\n",
       "      <th>9</th>\n",
       "      <td>566.439303</td>\n",
       "      <td>0.669812</td>\n",
       "      <td>1234</td>\n",
       "      <td>567.109115</td>\n",
       "      <td>565.769491</td>\n",
       "      <td>1134.218229</td>\n",
       "      <td>1131.538982</td>\n",
       "    </tr>\n",
       "    <tr>\n",
       "      <th>10</th>\n",
       "      <td>868.116334</td>\n",
       "      <td>-0.259293</td>\n",
       "      <td>1234</td>\n",
       "      <td>867.857041</td>\n",
       "      <td>868.375626</td>\n",
       "      <td>1735.714082</td>\n",
       "      <td>1736.751253</td>\n",
       "    </tr>\n",
       "    <tr>\n",
       "      <th>11</th>\n",
       "      <td>802.549560</td>\n",
       "      <td>-0.997515</td>\n",
       "      <td>1234</td>\n",
       "      <td>801.552045</td>\n",
       "      <td>803.547075</td>\n",
       "      <td>1603.104090</td>\n",
       "      <td>1607.094149</td>\n",
       "    </tr>\n",
       "    <tr>\n",
       "      <th>12</th>\n",
       "      <td>491.929451</td>\n",
       "      <td>-0.715319</td>\n",
       "      <td>1234</td>\n",
       "      <td>491.214132</td>\n",
       "      <td>492.644771</td>\n",
       "      <td>982.428264</td>\n",
       "      <td>985.289541</td>\n",
       "    </tr>\n",
       "    <tr>\n",
       "      <th>13</th>\n",
       "      <td>305.804674</td>\n",
       "      <td>0.898940</td>\n",
       "      <td>1234</td>\n",
       "      <td>306.703614</td>\n",
       "      <td>304.905734</td>\n",
       "      <td>613.407227</td>\n",
       "      <td>609.811468</td>\n",
       "    </tr>\n",
       "    <tr>\n",
       "      <th>14</th>\n",
       "      <td>970.190875</td>\n",
       "      <td>-0.779782</td>\n",
       "      <td>1234</td>\n",
       "      <td>969.411092</td>\n",
       "      <td>970.970657</td>\n",
       "      <td>1938.822185</td>\n",
       "      <td>1941.941313</td>\n",
       "    </tr>\n",
       "  </tbody>\n",
       "</table>\n",
       "</div>"
      ],
      "text/plain": [
       "             a         b     g           c           d            e  \\\n",
       "5   693.032149 -0.426025  1234  692.606124  693.458173  1385.212248   \n",
       "6   847.687665 -0.446036  1234  847.241628  848.133701  1694.483257   \n",
       "7   245.801637  0.622481  1234  246.424118  245.179156   492.848237   \n",
       "8   540.589387 -0.979575  1234  539.609812  541.568963  1079.219624   \n",
       "9   566.439303  0.669812  1234  567.109115  565.769491  1134.218229   \n",
       "10  868.116334 -0.259293  1234  867.857041  868.375626  1735.714082   \n",
       "11  802.549560 -0.997515  1234  801.552045  803.547075  1603.104090   \n",
       "12  491.929451 -0.715319  1234  491.214132  492.644771   982.428264   \n",
       "13  305.804674  0.898940  1234  306.703614  304.905734   613.407227   \n",
       "14  970.190875 -0.779782  1234  969.411092  970.970657  1938.822185   \n",
       "\n",
       "              f  \n",
       "5   1386.916346  \n",
       "6   1696.267401  \n",
       "7    490.358312  \n",
       "8   1083.137925  \n",
       "9   1131.538982  \n",
       "10  1736.751253  \n",
       "11  1607.094149  \n",
       "12   985.289541  \n",
       "13   609.811468  \n",
       "14  1941.941313  "
      ]
     },
     "execution_count": 9,
     "metadata": {},
     "output_type": "execute_result"
    }
   ],
   "source": [
    "from xopt.vocs import form_objective_data, form_constraint_data, form_feasibility_data\n",
    "import pandas as pd\n",
    "import numpy as np\n",
    "\n",
    "data = pd.DataFrame(vocs.random_inputs(10))\n",
    "# Add some outputs\n",
    "data[\"c\"] = data[\"a\"] + data[\"b\"]\n",
    "data[\"d\"] = data[\"a\"] - data[\"b\"]\n",
    "data[\"e\"] = data[\"a\"] * 2 + data[\"b\"] * 2\n",
    "data[\"f\"] = data[\"a\"] * 2 - data[\"b\"] * 2\n",
    "data.index = np.arange(len(data)) + 5  # custom index\n",
    "data"
   ]
  },
  {
   "cell_type": "code",
   "execution_count": 10,
   "id": "a695dc98",
   "metadata": {
    "ExecuteTime": {
     "end_time": "2023-10-27T16:46:04.604993200Z",
     "start_time": "2023-10-27T16:46:04.563770500Z"
    },
    "execution": {
     "iopub.execute_input": "2024-01-25T21:39:14.053742Z",
     "iopub.status.busy": "2024-01-25T21:39:14.053408Z",
     "iopub.status.idle": "2024-01-25T21:39:14.056905Z",
     "shell.execute_reply": "2024-01-25T21:39:14.056429Z"
    },
    "pycharm": {
     "name": "#%%\n"
    }
   },
   "outputs": [
    {
     "data": {
      "text/plain": [
       "{'c': 'MAXIMIZE', 'd': 'MINIMIZE'}"
      ]
     },
     "execution_count": 10,
     "metadata": {},
     "output_type": "execute_result"
    }
   ],
   "source": [
    "vocs.objectives"
   ]
  },
  {
   "cell_type": "code",
   "execution_count": 11,
   "id": "43051b71",
   "metadata": {
    "ExecuteTime": {
     "end_time": "2023-10-27T16:46:04.635082700Z",
     "start_time": "2023-10-27T16:46:04.582806500Z"
    },
    "execution": {
     "iopub.execute_input": "2024-01-25T21:39:14.058891Z",
     "iopub.status.busy": "2024-01-25T21:39:14.058710Z",
     "iopub.status.idle": "2024-01-25T21:39:14.065103Z",
     "shell.execute_reply": "2024-01-25T21:39:14.064582Z"
    },
    "pycharm": {
     "name": "#%%\n"
    }
   },
   "outputs": [
    {
     "data": {
      "text/html": [
       "<div>\n",
       "<style scoped>\n",
       "    .dataframe tbody tr th:only-of-type {\n",
       "        vertical-align: middle;\n",
       "    }\n",
       "\n",
       "    .dataframe tbody tr th {\n",
       "        vertical-align: top;\n",
       "    }\n",
       "\n",
       "    .dataframe thead th {\n",
       "        text-align: right;\n",
       "    }\n",
       "</style>\n",
       "<table border=\"1\" class=\"dataframe\">\n",
       "  <thead>\n",
       "    <tr style=\"text-align: right;\">\n",
       "      <th></th>\n",
       "      <th>objective_c</th>\n",
       "      <th>objective_d</th>\n",
       "    </tr>\n",
       "  </thead>\n",
       "  <tbody>\n",
       "    <tr>\n",
       "      <th>5</th>\n",
       "      <td>-692.606124</td>\n",
       "      <td>693.458173</td>\n",
       "    </tr>\n",
       "    <tr>\n",
       "      <th>6</th>\n",
       "      <td>-847.241628</td>\n",
       "      <td>848.133701</td>\n",
       "    </tr>\n",
       "    <tr>\n",
       "      <th>7</th>\n",
       "      <td>-246.424118</td>\n",
       "      <td>245.179156</td>\n",
       "    </tr>\n",
       "    <tr>\n",
       "      <th>8</th>\n",
       "      <td>-539.609812</td>\n",
       "      <td>541.568963</td>\n",
       "    </tr>\n",
       "    <tr>\n",
       "      <th>9</th>\n",
       "      <td>-567.109115</td>\n",
       "      <td>565.769491</td>\n",
       "    </tr>\n",
       "    <tr>\n",
       "      <th>10</th>\n",
       "      <td>-867.857041</td>\n",
       "      <td>868.375626</td>\n",
       "    </tr>\n",
       "    <tr>\n",
       "      <th>11</th>\n",
       "      <td>-801.552045</td>\n",
       "      <td>803.547075</td>\n",
       "    </tr>\n",
       "    <tr>\n",
       "      <th>12</th>\n",
       "      <td>-491.214132</td>\n",
       "      <td>492.644771</td>\n",
       "    </tr>\n",
       "    <tr>\n",
       "      <th>13</th>\n",
       "      <td>-306.703614</td>\n",
       "      <td>304.905734</td>\n",
       "    </tr>\n",
       "    <tr>\n",
       "      <th>14</th>\n",
       "      <td>-969.411092</td>\n",
       "      <td>970.970657</td>\n",
       "    </tr>\n",
       "  </tbody>\n",
       "</table>\n",
       "</div>"
      ],
      "text/plain": [
       "    objective_c  objective_d\n",
       "5   -692.606124   693.458173\n",
       "6   -847.241628   848.133701\n",
       "7   -246.424118   245.179156\n",
       "8   -539.609812   541.568963\n",
       "9   -567.109115   565.769491\n",
       "10  -867.857041   868.375626\n",
       "11  -801.552045   803.547075\n",
       "12  -491.214132   492.644771\n",
       "13  -306.703614   304.905734\n",
       "14  -969.411092   970.970657"
      ]
     },
     "execution_count": 11,
     "metadata": {},
     "output_type": "execute_result"
    }
   ],
   "source": [
    "# These are in standard form for minimization\n",
    "form_objective_data(vocs.objectives, data)"
   ]
  },
  {
   "cell_type": "code",
   "execution_count": 12,
   "id": "2ed50815",
   "metadata": {
    "ExecuteTime": {
     "end_time": "2023-10-27T16:46:04.635997800Z",
     "start_time": "2023-10-27T16:46:04.592809200Z"
    },
    "execution": {
     "iopub.execute_input": "2024-01-25T21:39:14.067317Z",
     "iopub.status.busy": "2024-01-25T21:39:14.066901Z",
     "iopub.status.idle": "2024-01-25T21:39:14.073080Z",
     "shell.execute_reply": "2024-01-25T21:39:14.072560Z"
    },
    "pycharm": {
     "name": "#%%\n"
    }
   },
   "outputs": [
    {
     "data": {
      "text/html": [
       "<div>\n",
       "<style scoped>\n",
       "    .dataframe tbody tr th:only-of-type {\n",
       "        vertical-align: middle;\n",
       "    }\n",
       "\n",
       "    .dataframe tbody tr th {\n",
       "        vertical-align: top;\n",
       "    }\n",
       "\n",
       "    .dataframe thead th {\n",
       "        text-align: right;\n",
       "    }\n",
       "</style>\n",
       "<table border=\"1\" class=\"dataframe\">\n",
       "  <thead>\n",
       "    <tr style=\"text-align: right;\">\n",
       "      <th></th>\n",
       "      <th>objective_c</th>\n",
       "      <th>objective_d</th>\n",
       "    </tr>\n",
       "  </thead>\n",
       "  <tbody>\n",
       "    <tr>\n",
       "      <th>5</th>\n",
       "      <td>-692.606124</td>\n",
       "      <td>693.458173</td>\n",
       "    </tr>\n",
       "    <tr>\n",
       "      <th>6</th>\n",
       "      <td>-847.241628</td>\n",
       "      <td>848.133701</td>\n",
       "    </tr>\n",
       "    <tr>\n",
       "      <th>7</th>\n",
       "      <td>-246.424118</td>\n",
       "      <td>245.179156</td>\n",
       "    </tr>\n",
       "    <tr>\n",
       "      <th>8</th>\n",
       "      <td>-539.609812</td>\n",
       "      <td>541.568963</td>\n",
       "    </tr>\n",
       "    <tr>\n",
       "      <th>9</th>\n",
       "      <td>-567.109115</td>\n",
       "      <td>565.769491</td>\n",
       "    </tr>\n",
       "    <tr>\n",
       "      <th>10</th>\n",
       "      <td>-867.857041</td>\n",
       "      <td>868.375626</td>\n",
       "    </tr>\n",
       "    <tr>\n",
       "      <th>11</th>\n",
       "      <td>-801.552045</td>\n",
       "      <td>803.547075</td>\n",
       "    </tr>\n",
       "    <tr>\n",
       "      <th>12</th>\n",
       "      <td>-491.214132</td>\n",
       "      <td>492.644771</td>\n",
       "    </tr>\n",
       "    <tr>\n",
       "      <th>13</th>\n",
       "      <td>-306.703614</td>\n",
       "      <td>304.905734</td>\n",
       "    </tr>\n",
       "    <tr>\n",
       "      <th>14</th>\n",
       "      <td>-969.411092</td>\n",
       "      <td>970.970657</td>\n",
       "    </tr>\n",
       "  </tbody>\n",
       "</table>\n",
       "</div>"
      ],
      "text/plain": [
       "    objective_c  objective_d\n",
       "5   -692.606124   693.458173\n",
       "6   -847.241628   848.133701\n",
       "7   -246.424118   245.179156\n",
       "8   -539.609812   541.568963\n",
       "9   -567.109115   565.769491\n",
       "10  -867.857041   868.375626\n",
       "11  -801.552045   803.547075\n",
       "12  -491.214132   492.644771\n",
       "13  -306.703614   304.905734\n",
       "14  -969.411092   970.970657"
      ]
     },
     "execution_count": 12,
     "metadata": {},
     "output_type": "execute_result"
    }
   ],
   "source": [
    "# This is also available as a method\n",
    "vocs.objective_data(data)"
   ]
  },
  {
   "cell_type": "code",
   "execution_count": 13,
   "id": "9f4275d4",
   "metadata": {
    "ExecuteTime": {
     "end_time": "2023-10-27T16:46:04.665088600Z",
     "start_time": "2023-10-27T16:46:04.607996700Z"
    },
    "execution": {
     "iopub.execute_input": "2024-01-25T21:39:14.075276Z",
     "iopub.status.busy": "2024-01-25T21:39:14.074854Z",
     "iopub.status.idle": "2024-01-25T21:39:14.079296Z",
     "shell.execute_reply": "2024-01-25T21:39:14.078766Z"
    },
    "pycharm": {
     "name": "#%%\n"
    }
   },
   "outputs": [
    {
     "data": {
      "text/plain": [
       "array([[-692.60612404,  693.45817311],\n",
       "       [-847.24162847,  848.13370057],\n",
       "       [-246.42411847,  245.1791558 ],\n",
       "       [-539.60981205,  541.56896257],\n",
       "       [-567.10911467,  565.76949096],\n",
       "       [-867.8570409 ,  868.37562648],\n",
       "       [-801.55204519,  803.54707456],\n",
       "       [-491.21413202,  492.64477062],\n",
       "       [-306.70361358,  304.90573375],\n",
       "       [-969.4110924 ,  970.97065671]])"
      ]
     },
     "execution_count": 13,
     "metadata": {},
     "output_type": "execute_result"
    }
   ],
   "source": [
    "# use the to_numpy() method to convert for low level use.\n",
    "vocs.objective_data(data).to_numpy()"
   ]
  },
  {
   "cell_type": "code",
   "execution_count": 14,
   "id": "29b73df4",
   "metadata": {
    "ExecuteTime": {
     "end_time": "2023-10-27T16:46:04.702034Z",
     "start_time": "2023-10-27T16:46:04.622998Z"
    },
    "execution": {
     "iopub.execute_input": "2024-01-25T21:39:14.081307Z",
     "iopub.status.busy": "2024-01-25T21:39:14.081140Z",
     "iopub.status.idle": "2024-01-25T21:39:14.088147Z",
     "shell.execute_reply": "2024-01-25T21:39:14.087597Z"
    },
    "pycharm": {
     "name": "#%%\n"
    }
   },
   "outputs": [
    {
     "data": {
      "text/html": [
       "<div>\n",
       "<style scoped>\n",
       "    .dataframe tbody tr th:only-of-type {\n",
       "        vertical-align: middle;\n",
       "    }\n",
       "\n",
       "    .dataframe tbody tr th {\n",
       "        vertical-align: top;\n",
       "    }\n",
       "\n",
       "    .dataframe thead th {\n",
       "        text-align: right;\n",
       "    }\n",
       "</style>\n",
       "<table border=\"1\" class=\"dataframe\">\n",
       "  <thead>\n",
       "    <tr style=\"text-align: right;\">\n",
       "      <th></th>\n",
       "      <th>constraint_e</th>\n",
       "      <th>constraint_f</th>\n",
       "    </tr>\n",
       "  </thead>\n",
       "  <tbody>\n",
       "    <tr>\n",
       "      <th>5</th>\n",
       "      <td>1383.212248</td>\n",
       "      <td>-1386.916346</td>\n",
       "    </tr>\n",
       "    <tr>\n",
       "      <th>6</th>\n",
       "      <td>1692.483257</td>\n",
       "      <td>-1696.267401</td>\n",
       "    </tr>\n",
       "    <tr>\n",
       "      <th>7</th>\n",
       "      <td>490.848237</td>\n",
       "      <td>-490.358312</td>\n",
       "    </tr>\n",
       "    <tr>\n",
       "      <th>8</th>\n",
       "      <td>1077.219624</td>\n",
       "      <td>-1083.137925</td>\n",
       "    </tr>\n",
       "    <tr>\n",
       "      <th>9</th>\n",
       "      <td>1132.218229</td>\n",
       "      <td>-1131.538982</td>\n",
       "    </tr>\n",
       "    <tr>\n",
       "      <th>10</th>\n",
       "      <td>1733.714082</td>\n",
       "      <td>-1736.751253</td>\n",
       "    </tr>\n",
       "    <tr>\n",
       "      <th>11</th>\n",
       "      <td>1601.104090</td>\n",
       "      <td>-1607.094149</td>\n",
       "    </tr>\n",
       "    <tr>\n",
       "      <th>12</th>\n",
       "      <td>980.428264</td>\n",
       "      <td>-985.289541</td>\n",
       "    </tr>\n",
       "    <tr>\n",
       "      <th>13</th>\n",
       "      <td>611.407227</td>\n",
       "      <td>-609.811468</td>\n",
       "    </tr>\n",
       "    <tr>\n",
       "      <th>14</th>\n",
       "      <td>1936.822185</td>\n",
       "      <td>-1941.941313</td>\n",
       "    </tr>\n",
       "  </tbody>\n",
       "</table>\n",
       "</div>"
      ],
      "text/plain": [
       "    constraint_e  constraint_f\n",
       "5    1383.212248  -1386.916346\n",
       "6    1692.483257  -1696.267401\n",
       "7     490.848237   -490.358312\n",
       "8    1077.219624  -1083.137925\n",
       "9    1132.218229  -1131.538982\n",
       "10   1733.714082  -1736.751253\n",
       "11   1601.104090  -1607.094149\n",
       "12    980.428264   -985.289541\n",
       "13    611.407227   -609.811468\n",
       "14   1936.822185  -1941.941313"
      ]
     },
     "execution_count": 14,
     "metadata": {},
     "output_type": "execute_result"
    }
   ],
   "source": [
    "vocs.constraint_data(data)"
   ]
  },
  {
   "cell_type": "code",
   "execution_count": 15,
   "id": "e46a5e83",
   "metadata": {
    "ExecuteTime": {
     "end_time": "2023-10-27T16:46:04.703032900Z",
     "start_time": "2023-10-27T16:46:04.642000500Z"
    },
    "execution": {
     "iopub.execute_input": "2024-01-25T21:39:14.090303Z",
     "iopub.status.busy": "2024-01-25T21:39:14.089974Z",
     "iopub.status.idle": "2024-01-25T21:39:14.098282Z",
     "shell.execute_reply": "2024-01-25T21:39:14.097720Z"
    },
    "pycharm": {
     "name": "#%%\n"
    }
   },
   "outputs": [
    {
     "data": {
      "text/html": [
       "<div>\n",
       "<style scoped>\n",
       "    .dataframe tbody tr th:only-of-type {\n",
       "        vertical-align: middle;\n",
       "    }\n",
       "\n",
       "    .dataframe tbody tr th {\n",
       "        vertical-align: top;\n",
       "    }\n",
       "\n",
       "    .dataframe thead th {\n",
       "        text-align: right;\n",
       "    }\n",
       "</style>\n",
       "<table border=\"1\" class=\"dataframe\">\n",
       "  <thead>\n",
       "    <tr style=\"text-align: right;\">\n",
       "      <th></th>\n",
       "      <th>feasible_e</th>\n",
       "      <th>feasible_f</th>\n",
       "      <th>feasible</th>\n",
       "    </tr>\n",
       "  </thead>\n",
       "  <tbody>\n",
       "    <tr>\n",
       "      <th>5</th>\n",
       "      <td>False</td>\n",
       "      <td>True</td>\n",
       "      <td>False</td>\n",
       "    </tr>\n",
       "    <tr>\n",
       "      <th>6</th>\n",
       "      <td>False</td>\n",
       "      <td>True</td>\n",
       "      <td>False</td>\n",
       "    </tr>\n",
       "    <tr>\n",
       "      <th>7</th>\n",
       "      <td>False</td>\n",
       "      <td>True</td>\n",
       "      <td>False</td>\n",
       "    </tr>\n",
       "    <tr>\n",
       "      <th>8</th>\n",
       "      <td>False</td>\n",
       "      <td>True</td>\n",
       "      <td>False</td>\n",
       "    </tr>\n",
       "    <tr>\n",
       "      <th>9</th>\n",
       "      <td>False</td>\n",
       "      <td>True</td>\n",
       "      <td>False</td>\n",
       "    </tr>\n",
       "    <tr>\n",
       "      <th>10</th>\n",
       "      <td>False</td>\n",
       "      <td>True</td>\n",
       "      <td>False</td>\n",
       "    </tr>\n",
       "    <tr>\n",
       "      <th>11</th>\n",
       "      <td>False</td>\n",
       "      <td>True</td>\n",
       "      <td>False</td>\n",
       "    </tr>\n",
       "    <tr>\n",
       "      <th>12</th>\n",
       "      <td>False</td>\n",
       "      <td>True</td>\n",
       "      <td>False</td>\n",
       "    </tr>\n",
       "    <tr>\n",
       "      <th>13</th>\n",
       "      <td>False</td>\n",
       "      <td>True</td>\n",
       "      <td>False</td>\n",
       "    </tr>\n",
       "    <tr>\n",
       "      <th>14</th>\n",
       "      <td>False</td>\n",
       "      <td>True</td>\n",
       "      <td>False</td>\n",
       "    </tr>\n",
       "  </tbody>\n",
       "</table>\n",
       "</div>"
      ],
      "text/plain": [
       "    feasible_e  feasible_f  feasible\n",
       "5        False        True     False\n",
       "6        False        True     False\n",
       "7        False        True     False\n",
       "8        False        True     False\n",
       "9        False        True     False\n",
       "10       False        True     False\n",
       "11       False        True     False\n",
       "12       False        True     False\n",
       "13       False        True     False\n",
       "14       False        True     False"
      ]
     },
     "execution_count": 15,
     "metadata": {},
     "output_type": "execute_result"
    }
   ],
   "source": [
    "vocs.feasibility_data(data)"
   ]
  },
  {
   "cell_type": "code",
   "execution_count": 16,
   "id": "c42dfa48",
   "metadata": {
    "ExecuteTime": {
     "end_time": "2023-10-27T16:46:04.703032900Z",
     "start_time": "2023-10-27T16:46:04.665088600Z"
    },
    "collapsed": false,
    "execution": {
     "iopub.execute_input": "2024-01-25T21:39:14.100505Z",
     "iopub.status.busy": "2024-01-25T21:39:14.100073Z",
     "iopub.status.idle": "2024-01-25T21:39:14.106302Z",
     "shell.execute_reply": "2024-01-25T21:39:14.105786Z"
    },
    "jupyter": {
     "outputs_hidden": false
    }
   },
   "outputs": [
    {
     "data": {
      "text/html": [
       "<div>\n",
       "<style scoped>\n",
       "    .dataframe tbody tr th:only-of-type {\n",
       "        vertical-align: middle;\n",
       "    }\n",
       "\n",
       "    .dataframe tbody tr th {\n",
       "        vertical-align: top;\n",
       "    }\n",
       "\n",
       "    .dataframe thead th {\n",
       "        text-align: right;\n",
       "    }\n",
       "</style>\n",
       "<table border=\"1\" class=\"dataframe\">\n",
       "  <thead>\n",
       "    <tr style=\"text-align: right;\">\n",
       "      <th></th>\n",
       "      <th>a</th>\n",
       "      <th>b</th>\n",
       "    </tr>\n",
       "  </thead>\n",
       "  <tbody>\n",
       "    <tr>\n",
       "      <th>5</th>\n",
       "      <td>0.693032</td>\n",
       "      <td>0.286988</td>\n",
       "    </tr>\n",
       "    <tr>\n",
       "      <th>6</th>\n",
       "      <td>0.847688</td>\n",
       "      <td>0.276982</td>\n",
       "    </tr>\n",
       "    <tr>\n",
       "      <th>7</th>\n",
       "      <td>0.245802</td>\n",
       "      <td>0.811241</td>\n",
       "    </tr>\n",
       "    <tr>\n",
       "      <th>8</th>\n",
       "      <td>0.540589</td>\n",
       "      <td>0.010212</td>\n",
       "    </tr>\n",
       "    <tr>\n",
       "      <th>9</th>\n",
       "      <td>0.566439</td>\n",
       "      <td>0.834906</td>\n",
       "    </tr>\n",
       "    <tr>\n",
       "      <th>10</th>\n",
       "      <td>0.868116</td>\n",
       "      <td>0.370354</td>\n",
       "    </tr>\n",
       "    <tr>\n",
       "      <th>11</th>\n",
       "      <td>0.802550</td>\n",
       "      <td>0.001243</td>\n",
       "    </tr>\n",
       "    <tr>\n",
       "      <th>12</th>\n",
       "      <td>0.491929</td>\n",
       "      <td>0.142340</td>\n",
       "    </tr>\n",
       "    <tr>\n",
       "      <th>13</th>\n",
       "      <td>0.305805</td>\n",
       "      <td>0.949470</td>\n",
       "    </tr>\n",
       "    <tr>\n",
       "      <th>14</th>\n",
       "      <td>0.970191</td>\n",
       "      <td>0.110109</td>\n",
       "    </tr>\n",
       "  </tbody>\n",
       "</table>\n",
       "</div>"
      ],
      "text/plain": [
       "           a         b\n",
       "5   0.693032  0.286988\n",
       "6   0.847688  0.276982\n",
       "7   0.245802  0.811241\n",
       "8   0.540589  0.010212\n",
       "9   0.566439  0.834906\n",
       "10  0.868116  0.370354\n",
       "11  0.802550  0.001243\n",
       "12  0.491929  0.142340\n",
       "13  0.305805  0.949470\n",
       "14  0.970191  0.110109"
      ]
     },
     "execution_count": 16,
     "metadata": {},
     "output_type": "execute_result"
    }
   ],
   "source": [
    "# normalize inputs to unit domain [0,1]\n",
    "normed_data = vocs.normalize_inputs(data)\n",
    "normed_data"
   ]
  },
  {
   "cell_type": "code",
   "execution_count": 17,
   "id": "7364e86b",
   "metadata": {
    "collapsed": false,
    "execution": {
     "iopub.execute_input": "2024-01-25T21:39:14.108256Z",
     "iopub.status.busy": "2024-01-25T21:39:14.108067Z",
     "iopub.status.idle": "2024-01-25T21:39:14.114270Z",
     "shell.execute_reply": "2024-01-25T21:39:14.113720Z"
    },
    "jupyter": {
     "outputs_hidden": false
    }
   },
   "outputs": [
    {
     "data": {
      "text/html": [
       "<div>\n",
       "<style scoped>\n",
       "    .dataframe tbody tr th:only-of-type {\n",
       "        vertical-align: middle;\n",
       "    }\n",
       "\n",
       "    .dataframe tbody tr th {\n",
       "        vertical-align: top;\n",
       "    }\n",
       "\n",
       "    .dataframe thead th {\n",
       "        text-align: right;\n",
       "    }\n",
       "</style>\n",
       "<table border=\"1\" class=\"dataframe\">\n",
       "  <thead>\n",
       "    <tr style=\"text-align: right;\">\n",
       "      <th></th>\n",
       "      <th>a</th>\n",
       "      <th>b</th>\n",
       "    </tr>\n",
       "  </thead>\n",
       "  <tbody>\n",
       "    <tr>\n",
       "      <th>5</th>\n",
       "      <td>693.032149</td>\n",
       "      <td>-0.426025</td>\n",
       "    </tr>\n",
       "    <tr>\n",
       "      <th>6</th>\n",
       "      <td>847.687665</td>\n",
       "      <td>-0.446036</td>\n",
       "    </tr>\n",
       "    <tr>\n",
       "      <th>7</th>\n",
       "      <td>245.801637</td>\n",
       "      <td>0.622481</td>\n",
       "    </tr>\n",
       "    <tr>\n",
       "      <th>8</th>\n",
       "      <td>540.589387</td>\n",
       "      <td>-0.979575</td>\n",
       "    </tr>\n",
       "    <tr>\n",
       "      <th>9</th>\n",
       "      <td>566.439303</td>\n",
       "      <td>0.669812</td>\n",
       "    </tr>\n",
       "    <tr>\n",
       "      <th>10</th>\n",
       "      <td>868.116334</td>\n",
       "      <td>-0.259293</td>\n",
       "    </tr>\n",
       "    <tr>\n",
       "      <th>11</th>\n",
       "      <td>802.549560</td>\n",
       "      <td>-0.997515</td>\n",
       "    </tr>\n",
       "    <tr>\n",
       "      <th>12</th>\n",
       "      <td>491.929451</td>\n",
       "      <td>-0.715319</td>\n",
       "    </tr>\n",
       "    <tr>\n",
       "      <th>13</th>\n",
       "      <td>305.804674</td>\n",
       "      <td>0.898940</td>\n",
       "    </tr>\n",
       "    <tr>\n",
       "      <th>14</th>\n",
       "      <td>970.190875</td>\n",
       "      <td>-0.779782</td>\n",
       "    </tr>\n",
       "  </tbody>\n",
       "</table>\n",
       "</div>"
      ],
      "text/plain": [
       "             a         b\n",
       "5   693.032149 -0.426025\n",
       "6   847.687665 -0.446036\n",
       "7   245.801637  0.622481\n",
       "8   540.589387 -0.979575\n",
       "9   566.439303  0.669812\n",
       "10  868.116334 -0.259293\n",
       "11  802.549560 -0.997515\n",
       "12  491.929451 -0.715319\n",
       "13  305.804674  0.898940\n",
       "14  970.190875 -0.779782"
      ]
     },
     "execution_count": 17,
     "metadata": {},
     "output_type": "execute_result"
    }
   ],
   "source": [
    "# and denormalize\n",
    "vocs.denormalize_inputs(normed_data)"
   ]
  },
  {
   "cell_type": "markdown",
   "id": "59041be7",
   "metadata": {},
   "source": [
    "# Error handling"
   ]
  },
  {
   "cell_type": "code",
   "execution_count": 18,
   "id": "f9171ede",
   "metadata": {
    "ExecuteTime": {
     "end_time": "2023-10-27T16:46:04.719064600Z",
     "start_time": "2023-10-27T16:46:04.668031Z"
    },
    "execution": {
     "iopub.execute_input": "2024-01-25T21:39:14.116379Z",
     "iopub.status.busy": "2024-01-25T21:39:14.116208Z",
     "iopub.status.idle": "2024-01-25T21:39:14.120573Z",
     "shell.execute_reply": "2024-01-25T21:39:14.119989Z"
    }
   },
   "outputs": [],
   "source": [
    "Y = \"\"\"\n",
    "variables:\n",
    "  a: [0, 1e3] # Note that 1e3 usually parses as a str with YAML. \n",
    "  b: [-1, 1]\n",
    "objectives:\n",
    "  c: maximize\n",
    "  d: minimize \n",
    "constraints:\n",
    "  e: ['Less_than', 2]\n",
    "  f: ['greater_than', 0]\n",
    "constants:\n",
    "  g: 1234\n",
    "\n",
    "\"\"\"\n",
    "\n",
    "vocs = VOCS.from_yaml(Y)"
   ]
  },
  {
   "cell_type": "code",
   "execution_count": 19,
   "id": "b5513539",
   "metadata": {
    "ExecuteTime": {
     "end_time": "2023-10-27T16:46:04.763060700Z",
     "start_time": "2023-10-27T16:46:04.686996500Z"
    },
    "execution": {
     "iopub.execute_input": "2024-01-25T21:39:14.122882Z",
     "iopub.status.busy": "2024-01-25T21:39:14.122410Z",
     "iopub.status.idle": "2024-01-25T21:39:14.127928Z",
     "shell.execute_reply": "2024-01-25T21:39:14.127382Z"
    }
   },
   "outputs": [
    {
     "data": {
      "text/plain": [
       "0   NaN\n",
       "1   NaN\n",
       "2   NaN\n",
       "Name: b, dtype: float64"
      ]
     },
     "execution_count": 19,
     "metadata": {},
     "output_type": "execute_result"
    }
   ],
   "source": [
    "d = {'a': [1,2,3]}\n",
    "\n",
    "df = pd.DataFrame(d)\n",
    "df2 = pd.DataFrame(df).copy()\n",
    "\n",
    "df2['b'] = np.nan\n",
    "df2['b'] - 1"
   ]
  },
  {
   "cell_type": "code",
   "execution_count": 20,
   "id": "30f3b3b4",
   "metadata": {
    "ExecuteTime": {
     "end_time": "2023-10-27T16:46:04.800032400Z",
     "start_time": "2023-10-27T16:46:04.698034700Z"
    },
    "execution": {
     "iopub.execute_input": "2024-01-25T21:39:14.130122Z",
     "iopub.status.busy": "2024-01-25T21:39:14.129802Z",
     "iopub.status.idle": "2024-01-25T21:39:14.132783Z",
     "shell.execute_reply": "2024-01-25T21:39:14.132239Z"
    }
   },
   "outputs": [],
   "source": [
    "data['a']  = np.nan"
   ]
  },
  {
   "cell_type": "code",
   "execution_count": 21,
   "id": "6393376b",
   "metadata": {
    "ExecuteTime": {
     "end_time": "2023-10-27T16:46:04.877099700Z",
     "start_time": "2023-10-27T16:46:04.715062Z"
    },
    "execution": {
     "iopub.execute_input": "2024-01-25T21:39:14.135019Z",
     "iopub.status.busy": "2024-01-25T21:39:14.134564Z",
     "iopub.status.idle": "2024-01-25T21:39:14.138357Z",
     "shell.execute_reply": "2024-01-25T21:39:14.137919Z"
    }
   },
   "outputs": [
    {
     "data": {
      "text/plain": [
       "2"
      ]
     },
     "execution_count": 21,
     "metadata": {},
     "output_type": "execute_result"
    }
   ],
   "source": [
    "a = 2\n",
    "def f(x=a):\n",
    "    return x\n",
    "a=99\n",
    "f()"
   ]
  },
  {
   "cell_type": "code",
   "execution_count": 22,
   "id": "cb0ecd74",
   "metadata": {
    "ExecuteTime": {
     "end_time": "2023-10-27T16:46:04.880100300Z",
     "start_time": "2023-10-27T16:46:04.728063600Z"
    },
    "execution": {
     "iopub.execute_input": "2024-01-25T21:39:14.140440Z",
     "iopub.status.busy": "2024-01-25T21:39:14.140259Z",
     "iopub.status.idle": "2024-01-25T21:39:14.145665Z",
     "shell.execute_reply": "2024-01-25T21:39:14.145123Z"
    }
   },
   "outputs": [
    {
     "data": {
      "text/html": [
       "<div>\n",
       "<style scoped>\n",
       "    .dataframe tbody tr th:only-of-type {\n",
       "        vertical-align: middle;\n",
       "    }\n",
       "\n",
       "    .dataframe tbody tr th {\n",
       "        vertical-align: top;\n",
       "    }\n",
       "\n",
       "    .dataframe thead th {\n",
       "        text-align: right;\n",
       "    }\n",
       "</style>\n",
       "<table border=\"1\" class=\"dataframe\">\n",
       "  <thead>\n",
       "    <tr style=\"text-align: right;\">\n",
       "      <th></th>\n",
       "      <th>A</th>\n",
       "    </tr>\n",
       "  </thead>\n",
       "  <tbody>\n",
       "    <tr>\n",
       "      <th>1</th>\n",
       "      <td>6.000000e+66</td>\n",
       "    </tr>\n",
       "    <tr>\n",
       "      <th>2</th>\n",
       "      <td>6.000000e+66</td>\n",
       "    </tr>\n",
       "    <tr>\n",
       "      <th>3</th>\n",
       "      <td>6.000000e+66</td>\n",
       "    </tr>\n",
       "  </tbody>\n",
       "</table>\n",
       "</div>"
      ],
      "text/plain": [
       "              A\n",
       "1  6.000000e+66\n",
       "2  6.000000e+66\n",
       "3  6.000000e+66"
      ]
     },
     "execution_count": 22,
     "metadata": {},
     "output_type": "execute_result"
    }
   ],
   "source": [
    "pd.DataFrame(6e66, index=[1,2,3], columns=['A'])"
   ]
  },
  {
   "cell_type": "code",
   "execution_count": 23,
   "id": "88bb8253",
   "metadata": {
    "ExecuteTime": {
     "end_time": "2023-10-27T16:46:04.896129200Z",
     "start_time": "2023-10-27T16:46:04.744036400Z"
    },
    "execution": {
     "iopub.execute_input": "2024-01-25T21:39:14.147703Z",
     "iopub.status.busy": "2024-01-25T21:39:14.147522Z",
     "iopub.status.idle": "2024-01-25T21:39:14.154470Z",
     "shell.execute_reply": "2024-01-25T21:39:14.153999Z"
    }
   },
   "outputs": [
    {
     "data": {
      "text/html": [
       "<div>\n",
       "<style scoped>\n",
       "    .dataframe tbody tr th:only-of-type {\n",
       "        vertical-align: middle;\n",
       "    }\n",
       "\n",
       "    .dataframe tbody tr th {\n",
       "        vertical-align: top;\n",
       "    }\n",
       "\n",
       "    .dataframe thead th {\n",
       "        text-align: right;\n",
       "    }\n",
       "</style>\n",
       "<table border=\"1\" class=\"dataframe\">\n",
       "  <thead>\n",
       "    <tr style=\"text-align: right;\">\n",
       "      <th></th>\n",
       "      <th>objective_c</th>\n",
       "      <th>objective_d</th>\n",
       "    </tr>\n",
       "  </thead>\n",
       "  <tbody>\n",
       "    <tr>\n",
       "      <th>9</th>\n",
       "      <td>-1.0</td>\n",
       "      <td>inf</td>\n",
       "    </tr>\n",
       "    <tr>\n",
       "      <th>3</th>\n",
       "      <td>-2.0</td>\n",
       "      <td>inf</td>\n",
       "    </tr>\n",
       "    <tr>\n",
       "      <th>4</th>\n",
       "      <td>-3.0</td>\n",
       "      <td>inf</td>\n",
       "    </tr>\n",
       "    <tr>\n",
       "      <th>5</th>\n",
       "      <td>-4.0</td>\n",
       "      <td>inf</td>\n",
       "    </tr>\n",
       "  </tbody>\n",
       "</table>\n",
       "</div>"
      ],
      "text/plain": [
       "   objective_c  objective_d\n",
       "9         -1.0          inf\n",
       "3         -2.0          inf\n",
       "4         -3.0          inf\n",
       "5         -4.0          inf"
      ]
     },
     "execution_count": 23,
     "metadata": {},
     "output_type": "execute_result"
    }
   ],
   "source": [
    "# These are in standard form for minimization\n",
    "\n",
    "data = pd.DataFrame({'c':[1,2,3,4]}, index=[9,3,4,5])\n",
    "\n",
    "form_objective_data(vocs.objectives, data)"
   ]
  }
 ],
 "metadata": {
  "interpreter": {
   "hash": "60703f99bc9a1e465ed9e894ac1e8f256837fa55699b4912a7939def4ae95691"
  },
  "kernelspec": {
   "display_name": "Python 3 (ipykernel)",
   "language": "python",
   "name": "python3"
  },
  "language_info": {
   "codemirror_mode": {
    "name": "ipython",
    "version": 3
   },
   "file_extension": ".py",
   "mimetype": "text/x-python",
   "name": "python",
   "nbconvert_exporter": "python",
   "pygments_lexer": "ipython3",
   "version": "3.9.18"
  }
 },
 "nbformat": 4,
 "nbformat_minor": 5
}
