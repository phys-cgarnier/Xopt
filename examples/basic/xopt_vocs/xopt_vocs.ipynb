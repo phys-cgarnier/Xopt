{
 "cells": [
  {
   "cell_type": "markdown",
   "id": "9700f595",
   "metadata": {
    "pycharm": {
     "name": "#%% md\n"
    }
   },
   "source": [
    "# VOCS data structure \n",
    "\n",
    "Variables, Objectives, Constraints, and other Settings (VOCS) helps define our optimization problems. "
   ]
  },
  {
   "cell_type": "code",
   "execution_count": 1,
   "id": "32324ac0-b299-42ee-a6b9-e112dfaa5a45",
   "metadata": {
    "execution": {
     "iopub.execute_input": "2022-11-28T19:35:53.534146Z",
     "iopub.status.busy": "2022-11-28T19:35:53.533591Z",
     "iopub.status.idle": "2022-11-28T19:35:54.785654Z",
     "shell.execute_reply": "2022-11-28T19:35:54.784967Z"
    },
    "pycharm": {
     "name": "#%%\n"
    }
   },
   "outputs": [],
   "source": [
    "from xopt.vocs import VOCS"
   ]
  },
  {
   "cell_type": "code",
   "execution_count": 2,
   "id": "354e92d2",
   "metadata": {
    "execution": {
     "iopub.execute_input": "2022-11-28T19:35:54.789917Z",
     "iopub.status.busy": "2022-11-28T19:35:54.789450Z",
     "iopub.status.idle": "2022-11-28T19:35:54.811219Z",
     "shell.execute_reply": "2022-11-28T19:35:54.810685Z"
    },
    "pycharm": {
     "name": "#%%\n"
    }
   },
   "outputs": [
    {
     "name": "stdout",
     "output_type": "stream",
     "text": [
      "Help on class VOCS in module xopt.vocs:\n",
      "\n",
      "class VOCS(xopt.pydantic.XoptBaseModel)\n",
      " |  VOCS(*, variables: Dict[str, types.ConstrainedListValue] = {}, constraints: Dict[str, types.ConstrainedListValue] = {}, objectives: Dict[str, xopt.vocs.ObjectiveEnum] = {}, constants: Dict[str, Any] = {}, linked_variables: Dict[str, str] = {}) -> None\n",
      " |  \n",
      " |  Variables, Objectives, Constraints, and other Settings (VOCS) data structure\n",
      " |  to describe optimization problems.\n",
      " |  \n",
      " |  Method resolution order:\n",
      " |      VOCS\n",
      " |      xopt.pydantic.XoptBaseModel\n",
      " |      pydantic.main.BaseModel\n",
      " |      pydantic.utils.Representation\n",
      " |      builtins.object\n",
      " |  \n",
      " |  Methods defined here:\n",
      " |  \n",
      " |  as_yaml(self)\n",
      " |  \n",
      " |  constraint_data(self, data: Union[pandas.core.frame.DataFrame, List[Dict]], prefix: str = 'constraint_') -> pandas.core.frame.DataFrame\n",
      " |      Returns a dataframe containing constraint data transformed according to\n",
      " |      `vocs.constraints` such that values that satisfy each constraint are negative.\n",
      " |      \n",
      " |      Args:\n",
      " |          data: data to be processed.\n",
      " |          prefix: prefix added to column names.\n",
      " |      \n",
      " |      Returns:\n",
      " |          result: processed Dataframe\n",
      " |  \n",
      " |  convert_dataframe_to_inputs(self, data: pandas.core.frame.DataFrame) -> pandas.core.frame.DataFrame\n",
      " |      Extracts only inputs from a dataframe.\n",
      " |      This will add constants.\n",
      " |  \n",
      " |  convert_numpy_to_inputs(self, inputs: numpy.ndarray) -> pandas.core.frame.DataFrame\n",
      " |      convert 2D numpy array to list of dicts (inputs) for evaluation\n",
      " |      Assumes that the columns of the array match correspond to\n",
      " |      `sorted(self.vocs.variables.keys())\n",
      " |  \n",
      " |  extract_data(self, data: pandas.core.frame.DataFrame)\n",
      " |      split dataframe into seperate dataframes for variables, objectives and\n",
      " |      constraints based on vocs\n",
      " |      \n",
      " |      Args:\n",
      " |          data: dataframe to be split\n",
      " |      \n",
      " |      Returns:\n",
      " |          variable_data: dataframe containing variable data\n",
      " |          objective_data: dataframe containing objective data\n",
      " |          constraint_data: dataframe containing constraint data\n",
      " |  \n",
      " |  feasibility_data(self, data: Union[pandas.core.frame.DataFrame, List[Dict]], prefix: str = 'feasible_') -> pandas.core.frame.DataFrame\n",
      " |      Returns a dataframe containing booleans denoting if a constraint is satisfied or\n",
      " |      not. Returned dataframe also contains a column `feasibility` which denotes if\n",
      " |      all constraints are satisfied.\n",
      " |      \n",
      " |      Args:\n",
      " |          data: data to be processed.\n",
      " |          prefix: prefix added to column names.\n",
      " |      \n",
      " |      Returns:\n",
      " |          result: processed Dataframe\n",
      " |  \n",
      " |  objective_data(self, data: Union[pandas.core.frame.DataFrame, List[Dict]], prefix: str = 'objective_') -> pandas.core.frame.DataFrame\n",
      " |      Returns a dataframe containing objective data transformed according to\n",
      " |      `vocs.objectives` such that we always assume minimization.\n",
      " |      \n",
      " |      Args:\n",
      " |          data: data to be processed.\n",
      " |          prefix: prefix added to column names.\n",
      " |      \n",
      " |      Returns:\n",
      " |          result: processed Dataframe\n",
      " |  \n",
      " |  random_inputs(self, n=None, include_constants=True, include_linked_variables=True)\n",
      " |      Uniform sampling of the variables.\n",
      " |      \n",
      " |      Returns a dict of inputs.\n",
      " |      \n",
      " |      If include_constants, the vocs.constants are added to the dict.\n",
      " |      \n",
      " |      Optional:\n",
      " |          n (integer) to make arrays of inputs, of size n.\n",
      " |  \n",
      " |  validate_input_data(self, input_points: pandas.core.frame.DataFrame) -> None\n",
      " |      Validates input data. Raises an error if the input data does not satisfy\n",
      " |      requirements given by vocs.\n",
      " |      \n",
      " |      Args:\n",
      " |          input_points: input data to be validated.\n",
      " |      \n",
      " |      Returns:\n",
      " |          None\n",
      " |      \n",
      " |      Raises:\n",
      " |          ValueError: if input data does not satisfy requirements.\n",
      " |  \n",
      " |  variable_data(self, data: Union[pandas.core.frame.DataFrame, List[Dict]], prefix: str = 'variable_') -> pandas.core.frame.DataFrame\n",
      " |      Returns a dataframe containing variables according to `vocs.variables` in sorted\n",
      " |      order\n",
      " |      \n",
      " |      Args:\n",
      " |          data: Data to be processed.\n",
      " |          prefix: Prefix added to column names.\n",
      " |      \n",
      " |      Returns:\n",
      " |          result: processed Dataframe\n",
      " |  \n",
      " |  ----------------------------------------------------------------------\n",
      " |  Class methods defined here:\n",
      " |  \n",
      " |  from_yaml(yaml_text) from pydantic.main.ModelMetaclass\n",
      " |  \n",
      " |  ----------------------------------------------------------------------\n",
      " |  Static methods defined here:\n",
      " |  \n",
      " |  __json_encoder__ = functools.partial(<cyfunction custom_pydantic_en...loat64'>: <function <lambda> at 0x7ff9c2be89d0>})\n",
      " |  ----------------------------------------------------------------------\n",
      " |  Readonly properties defined here:\n",
      " |  \n",
      " |  all_names\n",
      " |      Returns all vocs names (variables, constants, objectives, constraints\n",
      " |  \n",
      " |  bounds\n",
      " |      Returns a bounds array (mins, maxs) of shape (2, n_variables)\n",
      " |      Arrays of lower and upper bounds can be extracted by:\n",
      " |          mins, maxs = vocs.bounds\n",
      " |  \n",
      " |  constant_names\n",
      " |      Returns a sorted list of constraint names\n",
      " |  \n",
      " |  constraint_names\n",
      " |      Returns a sorted list of constraint names\n",
      " |  \n",
      " |  n_constants\n",
      " |      Returns the number of constants\n",
      " |  \n",
      " |  n_constraints\n",
      " |      Returns the number of constraints\n",
      " |  \n",
      " |  n_inputs\n",
      " |      Returns the number of inputs (variables and constants)\n",
      " |  \n",
      " |  n_objectives\n",
      " |      Returns the number of objectives\n",
      " |  \n",
      " |  n_outputs\n",
      " |      Returns the number of outputs (objectives and constraints)\n",
      " |  \n",
      " |  n_variables\n",
      " |      Returns the number of variables\n",
      " |  \n",
      " |  objective_names\n",
      " |      Returns a sorted list of objective names\n",
      " |  \n",
      " |  output_names\n",
      " |      Returns a sorted list of objective and constraint names (objectives first\n",
      " |      then constraints)\n",
      " |  \n",
      " |  variable_names\n",
      " |      Returns a sorted list of variable names\n",
      " |  \n",
      " |  ----------------------------------------------------------------------\n",
      " |  Data and other attributes defined here:\n",
      " |  \n",
      " |  Config = <class 'xopt.vocs.VOCS.Config'>\n",
      " |  \n",
      " |  __abstractmethods__ = frozenset()\n",
      " |  \n",
      " |  __annotations__ = {'constants': typing.Dict[str, typing.Any], 'constra...\n",
      " |  \n",
      " |  __class_vars__ = set()\n",
      " |  \n",
      " |  __config__ = <class 'xopt.vocs.Config'>\n",
      " |  \n",
      " |  __custom_root_type__ = False\n",
      " |  \n",
      " |  __exclude_fields__ = None\n",
      " |  \n",
      " |  __fields__ = {'constants': ModelField(name='constants', type=Mapping[s...\n",
      " |  \n",
      " |  __hash__ = None\n",
      " |  \n",
      " |  __include_fields__ = None\n",
      " |  \n",
      " |  __post_root_validators__ = []\n",
      " |  \n",
      " |  __pre_root_validators__ = []\n",
      " |  \n",
      " |  __private_attributes__ = {}\n",
      " |  \n",
      " |  __schema_cache__ = {}\n",
      " |  \n",
      " |  __signature__ = <Signature (*, variables: Dict[str, types.Constr..., l...\n",
      " |  \n",
      " |  __validators__ = {}\n",
      " |  \n",
      " |  ----------------------------------------------------------------------\n",
      " |  Methods inherited from pydantic.main.BaseModel:\n",
      " |  \n",
      " |  __eq__(self, other: Any) -> bool\n",
      " |  \n",
      " |  __getstate__(self) -> 'DictAny'\n",
      " |  \n",
      " |  __init__(__pydantic_self__, **data: Any) -> None\n",
      " |      Create a new model by parsing and validating input data from keyword arguments.\n",
      " |      \n",
      " |      Raises ValidationError if the input data cannot be parsed to form a valid model.\n",
      " |  \n",
      " |  __iter__(self) -> 'TupleGenerator'\n",
      " |      so `dict(model)` works\n",
      " |  \n",
      " |  __repr_args__(self) -> 'ReprArgs'\n",
      " |  \n",
      " |  __setattr__(self, name, value)\n",
      " |  \n",
      " |  __setstate__(self, state: 'DictAny') -> None\n",
      " |  \n",
      " |  copy(self: 'Model', *, include: Union[ForwardRef('AbstractSetIntStr'), ForwardRef('MappingIntStrAny'), NoneType] = None, exclude: Union[ForwardRef('AbstractSetIntStr'), ForwardRef('MappingIntStrAny'), NoneType] = None, update: Optional[ForwardRef('DictStrAny')] = None, deep: bool = False) -> 'Model'\n",
      " |      Duplicate a model, optionally choose which fields to include, exclude and change.\n",
      " |      \n",
      " |      :param include: fields to include in new model\n",
      " |      :param exclude: fields to exclude from new model, as with values this takes precedence over include\n",
      " |      :param update: values to change/add in the new model. Note: the data is not validated before creating\n",
      " |          the new model: you should trust this data\n",
      " |      :param deep: set to `True` to make a deep copy of the model\n",
      " |      :return: new model instance\n",
      " |  \n",
      " |  dict(self, *, include: Union[ForwardRef('AbstractSetIntStr'), ForwardRef('MappingIntStrAny'), NoneType] = None, exclude: Union[ForwardRef('AbstractSetIntStr'), ForwardRef('MappingIntStrAny'), NoneType] = None, by_alias: bool = False, skip_defaults: Optional[bool] = None, exclude_unset: bool = False, exclude_defaults: bool = False, exclude_none: bool = False) -> 'DictStrAny'\n",
      " |      Generate a dictionary representation of the model, optionally specifying which fields to include or exclude.\n",
      " |  \n",
      " |  json(self, *, include: Union[ForwardRef('AbstractSetIntStr'), ForwardRef('MappingIntStrAny'), NoneType] = None, exclude: Union[ForwardRef('AbstractSetIntStr'), ForwardRef('MappingIntStrAny'), NoneType] = None, by_alias: bool = False, skip_defaults: Optional[bool] = None, exclude_unset: bool = False, exclude_defaults: bool = False, exclude_none: bool = False, encoder: Optional[Callable[[Any], Any]] = None, models_as_dict: bool = True, **dumps_kwargs: Any) -> 'unicode'\n",
      " |      Generate a JSON representation of the model, `include` and `exclude` arguments as per `dict()`.\n",
      " |      \n",
      " |      `encoder` is an optional function to supply as `default` to json.dumps(), other arguments as per `json.dumps()`.\n",
      " |  \n",
      " |  ----------------------------------------------------------------------\n",
      " |  Class methods inherited from pydantic.main.BaseModel:\n",
      " |  \n",
      " |  __get_validators__() -> 'CallableGenerator' from pydantic.main.ModelMetaclass\n",
      " |  \n",
      " |  __try_update_forward_refs__(**localns: Any) -> None from pydantic.main.ModelMetaclass\n",
      " |      Same as update_forward_refs but will not raise exception\n",
      " |      when forward references are not defined.\n",
      " |  \n",
      " |  construct(_fields_set: Optional[ForwardRef('SetStr')] = None, **values: Any) -> 'Model' from pydantic.main.ModelMetaclass\n",
      " |      Creates a new model setting __dict__ and __fields_set__ from trusted or pre-validated data.\n",
      " |      Default values are respected, but no other validation is performed.\n",
      " |      Behaves as if `Config.extra = 'allow'` was set since it adds all passed values\n",
      " |  \n",
      " |  from_orm(obj: Any) -> 'Model' from pydantic.main.ModelMetaclass\n",
      " |  \n",
      " |  parse_file(path: Union[str, pathlib.Path], *, content_type: 'unicode' = None, encoding: 'unicode' = 'utf8', proto: pydantic.parse.Protocol = None, allow_pickle: bool = False) -> 'Model' from pydantic.main.ModelMetaclass\n",
      " |  \n",
      " |  parse_obj(obj: Any) -> 'Model' from pydantic.main.ModelMetaclass\n",
      " |  \n",
      " |  parse_raw(b: Union[str, bytes], *, content_type: 'unicode' = None, encoding: 'unicode' = 'utf8', proto: pydantic.parse.Protocol = None, allow_pickle: bool = False) -> 'Model' from pydantic.main.ModelMetaclass\n",
      " |  \n",
      " |  schema(by_alias: bool = True, ref_template: 'unicode' = '#/definitions/{model}') -> 'DictStrAny' from pydantic.main.ModelMetaclass\n",
      " |  \n",
      " |  schema_json(*, by_alias: bool = True, ref_template: 'unicode' = '#/definitions/{model}', **dumps_kwargs: Any) -> 'unicode' from pydantic.main.ModelMetaclass\n",
      " |  \n",
      " |  update_forward_refs(**localns: Any) -> None from pydantic.main.ModelMetaclass\n",
      " |      Try to update ForwardRefs on fields based on this Model, globalns and localns.\n",
      " |  \n",
      " |  validate(value: Any) -> 'Model' from pydantic.main.ModelMetaclass\n",
      " |  \n",
      " |  ----------------------------------------------------------------------\n",
      " |  Data descriptors inherited from pydantic.main.BaseModel:\n",
      " |  \n",
      " |  __dict__\n",
      " |      dictionary for instance variables (if defined)\n",
      " |  \n",
      " |  __fields_set__\n",
      " |  \n",
      " |  ----------------------------------------------------------------------\n",
      " |  Methods inherited from pydantic.utils.Representation:\n",
      " |  \n",
      " |  __pretty__(self, fmt: Callable[[Any], Any], **kwargs: Any) -> Generator[Any, NoneType, NoneType]\n",
      " |      Used by devtools (https://python-devtools.helpmanual.io/) to provide a human readable representations of objects\n",
      " |  \n",
      " |  __repr__(self) -> 'unicode'\n",
      " |  \n",
      " |  __repr_name__(self) -> 'unicode'\n",
      " |      Name of the instance's class, used in __repr__.\n",
      " |  \n",
      " |  __repr_str__(self, join_str: 'unicode') -> 'unicode'\n",
      " |  \n",
      " |  __rich_repr__(self) -> 'RichReprResult'\n",
      " |      Get fields for Rich library\n",
      " |  \n",
      " |  __str__(self) -> 'unicode'\n",
      "\n"
     ]
    }
   ],
   "source": [
    "help(VOCS)"
   ]
  },
  {
   "cell_type": "code",
   "execution_count": 3,
   "id": "31a15253-14cd-4547-ab01-09f4b56f5bf5",
   "metadata": {
    "execution": {
     "iopub.execute_input": "2022-11-28T19:35:54.814976Z",
     "iopub.status.busy": "2022-11-28T19:35:54.814428Z",
     "iopub.status.idle": "2022-11-28T19:35:54.826907Z",
     "shell.execute_reply": "2022-11-28T19:35:54.826215Z"
    },
    "pycharm": {
     "name": "#%%\n"
    }
   },
   "outputs": [
    {
     "data": {
      "text/plain": [
       "VOCS(variables={'a': [0.0, 1000.0], 'b': [-1.0, 1.0]}, constraints={'e': ['LESS_THAN', 2.0], 'f': ['GREATER_THAN', 0.0]}, objectives={'c': 'MAXIMIZE', 'd': 'MINIMIZE'}, constants={'g': 1234}, linked_variables={})"
      ]
     },
     "execution_count": 3,
     "metadata": {},
     "output_type": "execute_result"
    }
   ],
   "source": [
    "Y = \"\"\"\n",
    "variables:\n",
    "  a: [0, 1e3] # Note that 1e3 usually parses as a str with YAML. \n",
    "  b: [-1, 1]\n",
    "objectives:\n",
    "  c: maximize\n",
    "  d: minimize \n",
    "constraints:\n",
    "  e: ['Less_than', 2]\n",
    "  f: ['greater_than', 0]\n",
    "constants:\n",
    "  g: 1234\n",
    "\n",
    "\"\"\"\n",
    "\n",
    "vocs = VOCS.from_yaml(Y)\n",
    "vocs"
   ]
  },
  {
   "cell_type": "code",
   "execution_count": 4,
   "id": "304bcc89",
   "metadata": {
    "execution": {
     "iopub.execute_input": "2022-11-28T19:35:54.829704Z",
     "iopub.status.busy": "2022-11-28T19:35:54.829495Z",
     "iopub.status.idle": "2022-11-28T19:35:54.834872Z",
     "shell.execute_reply": "2022-11-28T19:35:54.834281Z"
    },
    "pycharm": {
     "name": "#%%\n"
    }
   },
   "outputs": [
    {
     "data": {
      "text/plain": [
       "{'variables': {'a': [0.0, 1000.0], 'b': [-1.0, 1.0]},\n",
       " 'constraints': {'e': ['LESS_THAN', 2.0], 'f': ['GREATER_THAN', 0.0]},\n",
       " 'objectives': {'c': 'MAXIMIZE', 'd': 'MINIMIZE'},\n",
       " 'constants': {'g': 1234},\n",
       " 'linked_variables': {}}"
      ]
     },
     "execution_count": 4,
     "metadata": {},
     "output_type": "execute_result"
    }
   ],
   "source": [
    "# as dict\n",
    "vocs.dict()"
   ]
  },
  {
   "cell_type": "code",
   "execution_count": 5,
   "id": "b236bfb4",
   "metadata": {
    "execution": {
     "iopub.execute_input": "2022-11-28T19:35:54.837625Z",
     "iopub.status.busy": "2022-11-28T19:35:54.837422Z",
     "iopub.status.idle": "2022-11-28T19:35:54.840342Z",
     "shell.execute_reply": "2022-11-28T19:35:54.839736Z"
    },
    "pycharm": {
     "name": "#%%\n"
    }
   },
   "outputs": [],
   "source": [
    "#  re-parse dict\n",
    "vocs2 = VOCS.parse_obj(vocs.dict())"
   ]
  },
  {
   "cell_type": "code",
   "execution_count": 6,
   "id": "76c9a173",
   "metadata": {
    "execution": {
     "iopub.execute_input": "2022-11-28T19:35:54.843086Z",
     "iopub.status.busy": "2022-11-28T19:35:54.842882Z",
     "iopub.status.idle": "2022-11-28T19:35:54.846564Z",
     "shell.execute_reply": "2022-11-28T19:35:54.845970Z"
    },
    "pycharm": {
     "name": "#%%\n"
    }
   },
   "outputs": [
    {
     "data": {
      "text/plain": [
       "True"
      ]
     },
     "execution_count": 6,
     "metadata": {},
     "output_type": "execute_result"
    }
   ],
   "source": [
    "# Check that these are the same\n",
    "vocs2 == vocs"
   ]
  },
  {
   "cell_type": "code",
   "execution_count": 7,
   "id": "6a846f4d",
   "metadata": {
    "execution": {
     "iopub.execute_input": "2022-11-28T19:35:54.850032Z",
     "iopub.status.busy": "2022-11-28T19:35:54.849831Z",
     "iopub.status.idle": "2022-11-28T19:35:54.853556Z",
     "shell.execute_reply": "2022-11-28T19:35:54.852968Z"
    },
    "pycharm": {
     "name": "#%%\n"
    }
   },
   "outputs": [
    {
     "data": {
      "text/plain": [
       "{'a': [0.0, 1000.0], 'b': [-1.0, 1.0]}"
      ]
     },
     "execution_count": 7,
     "metadata": {},
     "output_type": "execute_result"
    }
   ],
   "source": [
    "# This replaces the old vocs[\"variables\"]\n",
    "getattr(vocs, \"variables\")"
   ]
  },
  {
   "cell_type": "code",
   "execution_count": 8,
   "id": "6fa2afc8",
   "metadata": {
    "execution": {
     "iopub.execute_input": "2022-11-28T19:35:54.856994Z",
     "iopub.status.busy": "2022-11-28T19:35:54.856794Z",
     "iopub.status.idle": "2022-11-28T19:35:54.860512Z",
     "shell.execute_reply": "2022-11-28T19:35:54.859931Z"
    },
    "pycharm": {
     "name": "#%%\n"
    }
   },
   "outputs": [
    {
     "data": {
      "text/plain": [
       "True"
      ]
     },
     "execution_count": 8,
     "metadata": {},
     "output_type": "execute_result"
    }
   ],
   "source": [
    "vocs.objectives[\"c\"] == 'MAXIMIZE'"
   ]
  },
  {
   "cell_type": "code",
   "execution_count": 9,
   "id": "713272b7",
   "metadata": {
    "execution": {
     "iopub.execute_input": "2022-11-28T19:35:54.864136Z",
     "iopub.status.busy": "2022-11-28T19:35:54.863934Z",
     "iopub.status.idle": "2022-11-28T19:35:54.867585Z",
     "shell.execute_reply": "2022-11-28T19:35:54.866997Z"
    },
    "pycharm": {
     "name": "#%%\n"
    }
   },
   "outputs": [
    {
     "data": {
      "text/plain": [
       "'{\"variables\": {\"a\": [0.0, 1000.0], \"b\": [-1.0, 1.0]}, \"constraints\": {\"e\": [\"LESS_THAN\", 2.0], \"f\": [\"GREATER_THAN\", 0.0]}, \"objectives\": {\"c\": \"MAXIMIZE\", \"d\": \"MINIMIZE\"}, \"constants\": {\"g\": 1234}, \"linked_variables\": {}}'"
      ]
     },
     "execution_count": 9,
     "metadata": {},
     "output_type": "execute_result"
    }
   ],
   "source": [
    "# json\n",
    "vocs.json()"
   ]
  },
  {
   "cell_type": "markdown",
   "id": "11167a85",
   "metadata": {
    "pycharm": {
     "name": "#%% md\n"
    }
   },
   "source": [
    "# Objective Evaluation"
   ]
  },
  {
   "cell_type": "code",
   "execution_count": 10,
   "id": "c4d150be",
   "metadata": {
    "execution": {
     "iopub.execute_input": "2022-11-28T19:35:54.871148Z",
     "iopub.status.busy": "2022-11-28T19:35:54.870947Z",
     "iopub.status.idle": "2022-11-28T19:35:54.886734Z",
     "shell.execute_reply": "2022-11-28T19:35:54.886150Z"
    },
    "pycharm": {
     "name": "#%%\n"
    }
   },
   "outputs": [
    {
     "data": {
      "text/html": [
       "<div>\n",
       "<style scoped>\n",
       "    .dataframe tbody tr th:only-of-type {\n",
       "        vertical-align: middle;\n",
       "    }\n",
       "\n",
       "    .dataframe tbody tr th {\n",
       "        vertical-align: top;\n",
       "    }\n",
       "\n",
       "    .dataframe thead th {\n",
       "        text-align: right;\n",
       "    }\n",
       "</style>\n",
       "<table border=\"1\" class=\"dataframe\">\n",
       "  <thead>\n",
       "    <tr style=\"text-align: right;\">\n",
       "      <th></th>\n",
       "      <th>a</th>\n",
       "      <th>b</th>\n",
       "      <th>g</th>\n",
       "      <th>c</th>\n",
       "      <th>d</th>\n",
       "      <th>e</th>\n",
       "      <th>f</th>\n",
       "    </tr>\n",
       "  </thead>\n",
       "  <tbody>\n",
       "    <tr>\n",
       "      <th>5</th>\n",
       "      <td>326.288851</td>\n",
       "      <td>0.817893</td>\n",
       "      <td>1234</td>\n",
       "      <td>327.106744</td>\n",
       "      <td>325.470958</td>\n",
       "      <td>654.213487</td>\n",
       "      <td>650.941916</td>\n",
       "    </tr>\n",
       "    <tr>\n",
       "      <th>6</th>\n",
       "      <td>881.370993</td>\n",
       "      <td>0.317580</td>\n",
       "      <td>1234</td>\n",
       "      <td>881.688573</td>\n",
       "      <td>881.053413</td>\n",
       "      <td>1763.377146</td>\n",
       "      <td>1762.106826</td>\n",
       "    </tr>\n",
       "    <tr>\n",
       "      <th>7</th>\n",
       "      <td>226.047076</td>\n",
       "      <td>0.358377</td>\n",
       "      <td>1234</td>\n",
       "      <td>226.405454</td>\n",
       "      <td>225.688699</td>\n",
       "      <td>452.810908</td>\n",
       "      <td>451.377398</td>\n",
       "    </tr>\n",
       "    <tr>\n",
       "      <th>8</th>\n",
       "      <td>387.891672</td>\n",
       "      <td>0.077304</td>\n",
       "      <td>1234</td>\n",
       "      <td>387.968976</td>\n",
       "      <td>387.814368</td>\n",
       "      <td>775.937953</td>\n",
       "      <td>775.628736</td>\n",
       "    </tr>\n",
       "    <tr>\n",
       "      <th>9</th>\n",
       "      <td>477.010988</td>\n",
       "      <td>-0.716738</td>\n",
       "      <td>1234</td>\n",
       "      <td>476.294250</td>\n",
       "      <td>477.727726</td>\n",
       "      <td>952.588500</td>\n",
       "      <td>955.455452</td>\n",
       "    </tr>\n",
       "    <tr>\n",
       "      <th>10</th>\n",
       "      <td>477.860344</td>\n",
       "      <td>-0.813095</td>\n",
       "      <td>1234</td>\n",
       "      <td>477.047249</td>\n",
       "      <td>478.673439</td>\n",
       "      <td>954.094499</td>\n",
       "      <td>957.346879</td>\n",
       "    </tr>\n",
       "    <tr>\n",
       "      <th>11</th>\n",
       "      <td>439.342534</td>\n",
       "      <td>0.921111</td>\n",
       "      <td>1234</td>\n",
       "      <td>440.263645</td>\n",
       "      <td>438.421423</td>\n",
       "      <td>880.527291</td>\n",
       "      <td>876.842846</td>\n",
       "    </tr>\n",
       "    <tr>\n",
       "      <th>12</th>\n",
       "      <td>214.091136</td>\n",
       "      <td>0.766921</td>\n",
       "      <td>1234</td>\n",
       "      <td>214.858057</td>\n",
       "      <td>213.324215</td>\n",
       "      <td>429.716115</td>\n",
       "      <td>426.648429</td>\n",
       "    </tr>\n",
       "    <tr>\n",
       "      <th>13</th>\n",
       "      <td>42.593514</td>\n",
       "      <td>-0.791643</td>\n",
       "      <td>1234</td>\n",
       "      <td>41.801871</td>\n",
       "      <td>43.385156</td>\n",
       "      <td>83.603742</td>\n",
       "      <td>86.770313</td>\n",
       "    </tr>\n",
       "    <tr>\n",
       "      <th>14</th>\n",
       "      <td>197.185743</td>\n",
       "      <td>-0.735811</td>\n",
       "      <td>1234</td>\n",
       "      <td>196.449933</td>\n",
       "      <td>197.921554</td>\n",
       "      <td>392.899865</td>\n",
       "      <td>395.843108</td>\n",
       "    </tr>\n",
       "  </tbody>\n",
       "</table>\n",
       "</div>"
      ],
      "text/plain": [
       "             a         b     g           c           d            e  \\\n",
       "5   326.288851  0.817893  1234  327.106744  325.470958   654.213487   \n",
       "6   881.370993  0.317580  1234  881.688573  881.053413  1763.377146   \n",
       "7   226.047076  0.358377  1234  226.405454  225.688699   452.810908   \n",
       "8   387.891672  0.077304  1234  387.968976  387.814368   775.937953   \n",
       "9   477.010988 -0.716738  1234  476.294250  477.727726   952.588500   \n",
       "10  477.860344 -0.813095  1234  477.047249  478.673439   954.094499   \n",
       "11  439.342534  0.921111  1234  440.263645  438.421423   880.527291   \n",
       "12  214.091136  0.766921  1234  214.858057  213.324215   429.716115   \n",
       "13   42.593514 -0.791643  1234   41.801871   43.385156    83.603742   \n",
       "14  197.185743 -0.735811  1234  196.449933  197.921554   392.899865   \n",
       "\n",
       "              f  \n",
       "5    650.941916  \n",
       "6   1762.106826  \n",
       "7    451.377398  \n",
       "8    775.628736  \n",
       "9    955.455452  \n",
       "10   957.346879  \n",
       "11   876.842846  \n",
       "12   426.648429  \n",
       "13    86.770313  \n",
       "14   395.843108  "
      ]
     },
     "execution_count": 10,
     "metadata": {},
     "output_type": "execute_result"
    }
   ],
   "source": [
    "from xopt.vocs import form_objective_data, form_constraint_data, form_feasibility_data\n",
    "import pandas as pd\n",
    "import numpy as np\n",
    "\n",
    "data = pd.DataFrame(vocs.random_inputs(10))\n",
    "# Add some outputs\n",
    "data[\"c\"] = data[\"a\"] + data[\"b\"]\n",
    "data[\"d\"] = data[\"a\"] - data[\"b\"]\n",
    "data[\"e\"] = data[\"a\"] * 2 + data[\"b\"] * 2\n",
    "data[\"f\"] = data[\"a\"] * 2 - data[\"b\"] * 2\n",
    "data.index = np.arange(len(data)) + 5  # custom index\n",
    "data"
   ]
  },
  {
   "cell_type": "code",
   "execution_count": 11,
   "id": "a695dc98",
   "metadata": {
    "execution": {
     "iopub.execute_input": "2022-11-28T19:35:54.889465Z",
     "iopub.status.busy": "2022-11-28T19:35:54.889263Z",
     "iopub.status.idle": "2022-11-28T19:35:54.894923Z",
     "shell.execute_reply": "2022-11-28T19:35:54.894393Z"
    },
    "pycharm": {
     "name": "#%%\n"
    }
   },
   "outputs": [
    {
     "data": {
      "text/plain": [
       "{'c': 'MAXIMIZE', 'd': 'MINIMIZE'}"
      ]
     },
     "execution_count": 11,
     "metadata": {},
     "output_type": "execute_result"
    }
   ],
   "source": [
    "vocs.objectives"
   ]
  },
  {
   "cell_type": "code",
   "execution_count": 12,
   "id": "43051b71",
   "metadata": {
    "execution": {
     "iopub.execute_input": "2022-11-28T19:35:54.897913Z",
     "iopub.status.busy": "2022-11-28T19:35:54.897418Z",
     "iopub.status.idle": "2022-11-28T19:35:54.907784Z",
     "shell.execute_reply": "2022-11-28T19:35:54.906573Z"
    },
    "pycharm": {
     "name": "#%%\n"
    }
   },
   "outputs": [
    {
     "data": {
      "text/html": [
       "<div>\n",
       "<style scoped>\n",
       "    .dataframe tbody tr th:only-of-type {\n",
       "        vertical-align: middle;\n",
       "    }\n",
       "\n",
       "    .dataframe tbody tr th {\n",
       "        vertical-align: top;\n",
       "    }\n",
       "\n",
       "    .dataframe thead th {\n",
       "        text-align: right;\n",
       "    }\n",
       "</style>\n",
       "<table border=\"1\" class=\"dataframe\">\n",
       "  <thead>\n",
       "    <tr style=\"text-align: right;\">\n",
       "      <th></th>\n",
       "      <th>objective_c</th>\n",
       "      <th>objective_d</th>\n",
       "    </tr>\n",
       "  </thead>\n",
       "  <tbody>\n",
       "    <tr>\n",
       "      <th>5</th>\n",
       "      <td>-327.106744</td>\n",
       "      <td>325.470958</td>\n",
       "    </tr>\n",
       "    <tr>\n",
       "      <th>6</th>\n",
       "      <td>-881.688573</td>\n",
       "      <td>881.053413</td>\n",
       "    </tr>\n",
       "    <tr>\n",
       "      <th>7</th>\n",
       "      <td>-226.405454</td>\n",
       "      <td>225.688699</td>\n",
       "    </tr>\n",
       "    <tr>\n",
       "      <th>8</th>\n",
       "      <td>-387.968976</td>\n",
       "      <td>387.814368</td>\n",
       "    </tr>\n",
       "    <tr>\n",
       "      <th>9</th>\n",
       "      <td>-476.294250</td>\n",
       "      <td>477.727726</td>\n",
       "    </tr>\n",
       "    <tr>\n",
       "      <th>10</th>\n",
       "      <td>-477.047249</td>\n",
       "      <td>478.673439</td>\n",
       "    </tr>\n",
       "    <tr>\n",
       "      <th>11</th>\n",
       "      <td>-440.263645</td>\n",
       "      <td>438.421423</td>\n",
       "    </tr>\n",
       "    <tr>\n",
       "      <th>12</th>\n",
       "      <td>-214.858057</td>\n",
       "      <td>213.324215</td>\n",
       "    </tr>\n",
       "    <tr>\n",
       "      <th>13</th>\n",
       "      <td>-41.801871</td>\n",
       "      <td>43.385156</td>\n",
       "    </tr>\n",
       "    <tr>\n",
       "      <th>14</th>\n",
       "      <td>-196.449933</td>\n",
       "      <td>197.921554</td>\n",
       "    </tr>\n",
       "  </tbody>\n",
       "</table>\n",
       "</div>"
      ],
      "text/plain": [
       "    objective_c  objective_d\n",
       "5   -327.106744   325.470958\n",
       "6   -881.688573   881.053413\n",
       "7   -226.405454   225.688699\n",
       "8   -387.968976   387.814368\n",
       "9   -476.294250   477.727726\n",
       "10  -477.047249   478.673439\n",
       "11  -440.263645   438.421423\n",
       "12  -214.858057   213.324215\n",
       "13   -41.801871    43.385156\n",
       "14  -196.449933   197.921554"
      ]
     },
     "execution_count": 12,
     "metadata": {},
     "output_type": "execute_result"
    }
   ],
   "source": [
    "# These are in standard form for minimization\n",
    "form_objective_data(vocs.objectives, data)"
   ]
  },
  {
   "cell_type": "code",
   "execution_count": 13,
   "id": "2ed50815",
   "metadata": {
    "execution": {
     "iopub.execute_input": "2022-11-28T19:35:54.910861Z",
     "iopub.status.busy": "2022-11-28T19:35:54.910465Z",
     "iopub.status.idle": "2022-11-28T19:35:54.918168Z",
     "shell.execute_reply": "2022-11-28T19:35:54.917593Z"
    },
    "pycharm": {
     "name": "#%%\n"
    }
   },
   "outputs": [
    {
     "data": {
      "text/html": [
       "<div>\n",
       "<style scoped>\n",
       "    .dataframe tbody tr th:only-of-type {\n",
       "        vertical-align: middle;\n",
       "    }\n",
       "\n",
       "    .dataframe tbody tr th {\n",
       "        vertical-align: top;\n",
       "    }\n",
       "\n",
       "    .dataframe thead th {\n",
       "        text-align: right;\n",
       "    }\n",
       "</style>\n",
       "<table border=\"1\" class=\"dataframe\">\n",
       "  <thead>\n",
       "    <tr style=\"text-align: right;\">\n",
       "      <th></th>\n",
       "      <th>objective_c</th>\n",
       "      <th>objective_d</th>\n",
       "    </tr>\n",
       "  </thead>\n",
       "  <tbody>\n",
       "    <tr>\n",
       "      <th>5</th>\n",
       "      <td>-327.106744</td>\n",
       "      <td>325.470958</td>\n",
       "    </tr>\n",
       "    <tr>\n",
       "      <th>6</th>\n",
       "      <td>-881.688573</td>\n",
       "      <td>881.053413</td>\n",
       "    </tr>\n",
       "    <tr>\n",
       "      <th>7</th>\n",
       "      <td>-226.405454</td>\n",
       "      <td>225.688699</td>\n",
       "    </tr>\n",
       "    <tr>\n",
       "      <th>8</th>\n",
       "      <td>-387.968976</td>\n",
       "      <td>387.814368</td>\n",
       "    </tr>\n",
       "    <tr>\n",
       "      <th>9</th>\n",
       "      <td>-476.294250</td>\n",
       "      <td>477.727726</td>\n",
       "    </tr>\n",
       "    <tr>\n",
       "      <th>10</th>\n",
       "      <td>-477.047249</td>\n",
       "      <td>478.673439</td>\n",
       "    </tr>\n",
       "    <tr>\n",
       "      <th>11</th>\n",
       "      <td>-440.263645</td>\n",
       "      <td>438.421423</td>\n",
       "    </tr>\n",
       "    <tr>\n",
       "      <th>12</th>\n",
       "      <td>-214.858057</td>\n",
       "      <td>213.324215</td>\n",
       "    </tr>\n",
       "    <tr>\n",
       "      <th>13</th>\n",
       "      <td>-41.801871</td>\n",
       "      <td>43.385156</td>\n",
       "    </tr>\n",
       "    <tr>\n",
       "      <th>14</th>\n",
       "      <td>-196.449933</td>\n",
       "      <td>197.921554</td>\n",
       "    </tr>\n",
       "  </tbody>\n",
       "</table>\n",
       "</div>"
      ],
      "text/plain": [
       "    objective_c  objective_d\n",
       "5   -327.106744   325.470958\n",
       "6   -881.688573   881.053413\n",
       "7   -226.405454   225.688699\n",
       "8   -387.968976   387.814368\n",
       "9   -476.294250   477.727726\n",
       "10  -477.047249   478.673439\n",
       "11  -440.263645   438.421423\n",
       "12  -214.858057   213.324215\n",
       "13   -41.801871    43.385156\n",
       "14  -196.449933   197.921554"
      ]
     },
     "execution_count": 13,
     "metadata": {},
     "output_type": "execute_result"
    }
   ],
   "source": [
    "# This is also available as a method\n",
    "vocs.objective_data(data)"
   ]
  },
  {
   "cell_type": "code",
   "execution_count": 14,
   "id": "9f4275d4",
   "metadata": {
    "execution": {
     "iopub.execute_input": "2022-11-28T19:35:54.920915Z",
     "iopub.status.busy": "2022-11-28T19:35:54.920713Z",
     "iopub.status.idle": "2022-11-28T19:35:54.928059Z",
     "shell.execute_reply": "2022-11-28T19:35:54.927531Z"
    },
    "pycharm": {
     "name": "#%%\n"
    }
   },
   "outputs": [
    {
     "data": {
      "text/plain": [
       "array([[-327.10674359,  325.4709582 ],\n",
       "       [-881.68857294,  881.05341304],\n",
       "       [-226.40545375,  225.68869898],\n",
       "       [-387.96897628,  387.81436817],\n",
       "       [-476.29425009,  477.72772619],\n",
       "       [-477.04724933,  478.67343937],\n",
       "       [-440.26364538,  438.42142296],\n",
       "       [-214.8580573 ,  213.32421451],\n",
       "       [ -41.80187076,   43.38515646],\n",
       "       [-196.44993257,  197.92155409]])"
      ]
     },
     "execution_count": 14,
     "metadata": {},
     "output_type": "execute_result"
    }
   ],
   "source": [
    "# use the to_numpy() method to convert for low level use.\n",
    "vocs.objective_data(data).to_numpy()"
   ]
  },
  {
   "cell_type": "code",
   "execution_count": 15,
   "id": "29b73df4",
   "metadata": {
    "execution": {
     "iopub.execute_input": "2022-11-28T19:35:54.930801Z",
     "iopub.status.busy": "2022-11-28T19:35:54.930470Z",
     "iopub.status.idle": "2022-11-28T19:35:54.938314Z",
     "shell.execute_reply": "2022-11-28T19:35:54.937703Z"
    },
    "pycharm": {
     "name": "#%%\n"
    }
   },
   "outputs": [
    {
     "data": {
      "text/html": [
       "<div>\n",
       "<style scoped>\n",
       "    .dataframe tbody tr th:only-of-type {\n",
       "        vertical-align: middle;\n",
       "    }\n",
       "\n",
       "    .dataframe tbody tr th {\n",
       "        vertical-align: top;\n",
       "    }\n",
       "\n",
       "    .dataframe thead th {\n",
       "        text-align: right;\n",
       "    }\n",
       "</style>\n",
       "<table border=\"1\" class=\"dataframe\">\n",
       "  <thead>\n",
       "    <tr style=\"text-align: right;\">\n",
       "      <th></th>\n",
       "      <th>constraint_e</th>\n",
       "      <th>constraint_f</th>\n",
       "    </tr>\n",
       "  </thead>\n",
       "  <tbody>\n",
       "    <tr>\n",
       "      <th>5</th>\n",
       "      <td>652.213487</td>\n",
       "      <td>-650.941916</td>\n",
       "    </tr>\n",
       "    <tr>\n",
       "      <th>6</th>\n",
       "      <td>1761.377146</td>\n",
       "      <td>-1762.106826</td>\n",
       "    </tr>\n",
       "    <tr>\n",
       "      <th>7</th>\n",
       "      <td>450.810908</td>\n",
       "      <td>-451.377398</td>\n",
       "    </tr>\n",
       "    <tr>\n",
       "      <th>8</th>\n",
       "      <td>773.937953</td>\n",
       "      <td>-775.628736</td>\n",
       "    </tr>\n",
       "    <tr>\n",
       "      <th>9</th>\n",
       "      <td>950.588500</td>\n",
       "      <td>-955.455452</td>\n",
       "    </tr>\n",
       "    <tr>\n",
       "      <th>10</th>\n",
       "      <td>952.094499</td>\n",
       "      <td>-957.346879</td>\n",
       "    </tr>\n",
       "    <tr>\n",
       "      <th>11</th>\n",
       "      <td>878.527291</td>\n",
       "      <td>-876.842846</td>\n",
       "    </tr>\n",
       "    <tr>\n",
       "      <th>12</th>\n",
       "      <td>427.716115</td>\n",
       "      <td>-426.648429</td>\n",
       "    </tr>\n",
       "    <tr>\n",
       "      <th>13</th>\n",
       "      <td>81.603742</td>\n",
       "      <td>-86.770313</td>\n",
       "    </tr>\n",
       "    <tr>\n",
       "      <th>14</th>\n",
       "      <td>390.899865</td>\n",
       "      <td>-395.843108</td>\n",
       "    </tr>\n",
       "  </tbody>\n",
       "</table>\n",
       "</div>"
      ],
      "text/plain": [
       "    constraint_e  constraint_f\n",
       "5     652.213487   -650.941916\n",
       "6    1761.377146  -1762.106826\n",
       "7     450.810908   -451.377398\n",
       "8     773.937953   -775.628736\n",
       "9     950.588500   -955.455452\n",
       "10    952.094499   -957.346879\n",
       "11    878.527291   -876.842846\n",
       "12    427.716115   -426.648429\n",
       "13     81.603742    -86.770313\n",
       "14    390.899865   -395.843108"
      ]
     },
     "execution_count": 15,
     "metadata": {},
     "output_type": "execute_result"
    }
   ],
   "source": [
    "vocs.constraint_data(data)"
   ]
  },
  {
   "cell_type": "code",
   "execution_count": 16,
   "id": "e46a5e83",
   "metadata": {
    "execution": {
     "iopub.execute_input": "2022-11-28T19:35:54.941936Z",
     "iopub.status.busy": "2022-11-28T19:35:54.941609Z",
     "iopub.status.idle": "2022-11-28T19:35:54.951431Z",
     "shell.execute_reply": "2022-11-28T19:35:54.950820Z"
    },
    "pycharm": {
     "name": "#%%\n"
    }
   },
   "outputs": [
    {
     "data": {
      "text/html": [
       "<div>\n",
       "<style scoped>\n",
       "    .dataframe tbody tr th:only-of-type {\n",
       "        vertical-align: middle;\n",
       "    }\n",
       "\n",
       "    .dataframe tbody tr th {\n",
       "        vertical-align: top;\n",
       "    }\n",
       "\n",
       "    .dataframe thead th {\n",
       "        text-align: right;\n",
       "    }\n",
       "</style>\n",
       "<table border=\"1\" class=\"dataframe\">\n",
       "  <thead>\n",
       "    <tr style=\"text-align: right;\">\n",
       "      <th></th>\n",
       "      <th>feasible_e</th>\n",
       "      <th>feasible_f</th>\n",
       "      <th>feasible</th>\n",
       "    </tr>\n",
       "  </thead>\n",
       "  <tbody>\n",
       "    <tr>\n",
       "      <th>5</th>\n",
       "      <td>False</td>\n",
       "      <td>True</td>\n",
       "      <td>False</td>\n",
       "    </tr>\n",
       "    <tr>\n",
       "      <th>6</th>\n",
       "      <td>False</td>\n",
       "      <td>True</td>\n",
       "      <td>False</td>\n",
       "    </tr>\n",
       "    <tr>\n",
       "      <th>7</th>\n",
       "      <td>False</td>\n",
       "      <td>True</td>\n",
       "      <td>False</td>\n",
       "    </tr>\n",
       "    <tr>\n",
       "      <th>8</th>\n",
       "      <td>False</td>\n",
       "      <td>True</td>\n",
       "      <td>False</td>\n",
       "    </tr>\n",
       "    <tr>\n",
       "      <th>9</th>\n",
       "      <td>False</td>\n",
       "      <td>True</td>\n",
       "      <td>False</td>\n",
       "    </tr>\n",
       "    <tr>\n",
       "      <th>10</th>\n",
       "      <td>False</td>\n",
       "      <td>True</td>\n",
       "      <td>False</td>\n",
       "    </tr>\n",
       "    <tr>\n",
       "      <th>11</th>\n",
       "      <td>False</td>\n",
       "      <td>True</td>\n",
       "      <td>False</td>\n",
       "    </tr>\n",
       "    <tr>\n",
       "      <th>12</th>\n",
       "      <td>False</td>\n",
       "      <td>True</td>\n",
       "      <td>False</td>\n",
       "    </tr>\n",
       "    <tr>\n",
       "      <th>13</th>\n",
       "      <td>False</td>\n",
       "      <td>True</td>\n",
       "      <td>False</td>\n",
       "    </tr>\n",
       "    <tr>\n",
       "      <th>14</th>\n",
       "      <td>False</td>\n",
       "      <td>True</td>\n",
       "      <td>False</td>\n",
       "    </tr>\n",
       "  </tbody>\n",
       "</table>\n",
       "</div>"
      ],
      "text/plain": [
       "    feasible_e  feasible_f  feasible\n",
       "5        False        True     False\n",
       "6        False        True     False\n",
       "7        False        True     False\n",
       "8        False        True     False\n",
       "9        False        True     False\n",
       "10       False        True     False\n",
       "11       False        True     False\n",
       "12       False        True     False\n",
       "13       False        True     False\n",
       "14       False        True     False"
      ]
     },
     "execution_count": 16,
     "metadata": {},
     "output_type": "execute_result"
    }
   ],
   "source": [
    "vocs.feasibility_data(data)"
   ]
  },
  {
   "cell_type": "markdown",
   "id": "59041be7",
   "metadata": {},
   "source": [
    "# Error handling"
   ]
  },
  {
   "cell_type": "code",
   "execution_count": 17,
   "id": "f9171ede",
   "metadata": {
    "execution": {
     "iopub.execute_input": "2022-11-28T19:35:54.955655Z",
     "iopub.status.busy": "2022-11-28T19:35:54.955325Z",
     "iopub.status.idle": "2022-11-28T19:35:54.961925Z",
     "shell.execute_reply": "2022-11-28T19:35:54.960734Z"
    }
   },
   "outputs": [],
   "source": [
    "Y = \"\"\"\n",
    "variables:\n",
    "  a: [0, 1e3] # Note that 1e3 usually parses as a str with YAML. \n",
    "  b: [-1, 1]\n",
    "objectives:\n",
    "  c: maximize\n",
    "  d: minimize \n",
    "constraints:\n",
    "  e: ['Less_than', 2]\n",
    "  f: ['greater_than', 0]\n",
    "constants:\n",
    "  g: 1234\n",
    "\n",
    "\"\"\"\n",
    "\n",
    "vocs = VOCS.from_yaml(Y)"
   ]
  },
  {
   "cell_type": "code",
   "execution_count": 18,
   "id": "b5513539",
   "metadata": {
    "execution": {
     "iopub.execute_input": "2022-11-28T19:35:54.964656Z",
     "iopub.status.busy": "2022-11-28T19:35:54.964262Z",
     "iopub.status.idle": "2022-11-28T19:35:54.970287Z",
     "shell.execute_reply": "2022-11-28T19:35:54.969693Z"
    }
   },
   "outputs": [
    {
     "data": {
      "text/plain": [
       "0   NaN\n",
       "1   NaN\n",
       "2   NaN\n",
       "Name: b, dtype: float64"
      ]
     },
     "execution_count": 18,
     "metadata": {},
     "output_type": "execute_result"
    }
   ],
   "source": [
    "d = {'a': [1,2,3]}\n",
    "\n",
    "df = pd.DataFrame(d)\n",
    "df2 = pd.DataFrame(df).copy()\n",
    "\n",
    "df2['b'] = np.nan\n",
    "df2['b'] - 1"
   ]
  },
  {
   "cell_type": "code",
   "execution_count": 19,
   "id": "30f3b3b4",
   "metadata": {
    "execution": {
     "iopub.execute_input": "2022-11-28T19:35:54.973562Z",
     "iopub.status.busy": "2022-11-28T19:35:54.973235Z",
     "iopub.status.idle": "2022-11-28T19:35:54.976374Z",
     "shell.execute_reply": "2022-11-28T19:35:54.975770Z"
    }
   },
   "outputs": [],
   "source": [
    "data['a']  = np.nan"
   ]
  },
  {
   "cell_type": "code",
   "execution_count": 20,
   "id": "6393376b",
   "metadata": {
    "execution": {
     "iopub.execute_input": "2022-11-28T19:35:54.979095Z",
     "iopub.status.busy": "2022-11-28T19:35:54.978761Z",
     "iopub.status.idle": "2022-11-28T19:35:54.982835Z",
     "shell.execute_reply": "2022-11-28T19:35:54.982384Z"
    }
   },
   "outputs": [
    {
     "data": {
      "text/plain": [
       "2"
      ]
     },
     "execution_count": 20,
     "metadata": {},
     "output_type": "execute_result"
    }
   ],
   "source": [
    "a = 2\n",
    "def f(x=a):\n",
    "    return x\n",
    "a=99\n",
    "f()"
   ]
  },
  {
   "cell_type": "code",
   "execution_count": 21,
   "id": "cb0ecd74",
   "metadata": {
    "execution": {
     "iopub.execute_input": "2022-11-28T19:35:54.985306Z",
     "iopub.status.busy": "2022-11-28T19:35:54.985100Z",
     "iopub.status.idle": "2022-11-28T19:35:54.991477Z",
     "shell.execute_reply": "2022-11-28T19:35:54.990888Z"
    }
   },
   "outputs": [
    {
     "data": {
      "text/html": [
       "<div>\n",
       "<style scoped>\n",
       "    .dataframe tbody tr th:only-of-type {\n",
       "        vertical-align: middle;\n",
       "    }\n",
       "\n",
       "    .dataframe tbody tr th {\n",
       "        vertical-align: top;\n",
       "    }\n",
       "\n",
       "    .dataframe thead th {\n",
       "        text-align: right;\n",
       "    }\n",
       "</style>\n",
       "<table border=\"1\" class=\"dataframe\">\n",
       "  <thead>\n",
       "    <tr style=\"text-align: right;\">\n",
       "      <th></th>\n",
       "      <th>A</th>\n",
       "    </tr>\n",
       "  </thead>\n",
       "  <tbody>\n",
       "    <tr>\n",
       "      <th>1</th>\n",
       "      <td>6.000000e+66</td>\n",
       "    </tr>\n",
       "    <tr>\n",
       "      <th>2</th>\n",
       "      <td>6.000000e+66</td>\n",
       "    </tr>\n",
       "    <tr>\n",
       "      <th>3</th>\n",
       "      <td>6.000000e+66</td>\n",
       "    </tr>\n",
       "  </tbody>\n",
       "</table>\n",
       "</div>"
      ],
      "text/plain": [
       "              A\n",
       "1  6.000000e+66\n",
       "2  6.000000e+66\n",
       "3  6.000000e+66"
      ]
     },
     "execution_count": 21,
     "metadata": {},
     "output_type": "execute_result"
    }
   ],
   "source": [
    "pd.DataFrame(6e66, index=[1,2,3], columns=['A'])"
   ]
  },
  {
   "cell_type": "code",
   "execution_count": 22,
   "id": "88bb8253",
   "metadata": {
    "execution": {
     "iopub.execute_input": "2022-11-28T19:35:54.994804Z",
     "iopub.status.busy": "2022-11-28T19:35:54.994598Z",
     "iopub.status.idle": "2022-11-28T19:35:55.002790Z",
     "shell.execute_reply": "2022-11-28T19:35:55.002197Z"
    }
   },
   "outputs": [
    {
     "data": {
      "text/html": [
       "<div>\n",
       "<style scoped>\n",
       "    .dataframe tbody tr th:only-of-type {\n",
       "        vertical-align: middle;\n",
       "    }\n",
       "\n",
       "    .dataframe tbody tr th {\n",
       "        vertical-align: top;\n",
       "    }\n",
       "\n",
       "    .dataframe thead th {\n",
       "        text-align: right;\n",
       "    }\n",
       "</style>\n",
       "<table border=\"1\" class=\"dataframe\">\n",
       "  <thead>\n",
       "    <tr style=\"text-align: right;\">\n",
       "      <th></th>\n",
       "      <th>objective_c</th>\n",
       "      <th>objective_d</th>\n",
       "    </tr>\n",
       "  </thead>\n",
       "  <tbody>\n",
       "    <tr>\n",
       "      <th>9</th>\n",
       "      <td>-1.0</td>\n",
       "      <td>inf</td>\n",
       "    </tr>\n",
       "    <tr>\n",
       "      <th>3</th>\n",
       "      <td>-2.0</td>\n",
       "      <td>inf</td>\n",
       "    </tr>\n",
       "    <tr>\n",
       "      <th>4</th>\n",
       "      <td>-3.0</td>\n",
       "      <td>inf</td>\n",
       "    </tr>\n",
       "    <tr>\n",
       "      <th>5</th>\n",
       "      <td>-4.0</td>\n",
       "      <td>inf</td>\n",
       "    </tr>\n",
       "  </tbody>\n",
       "</table>\n",
       "</div>"
      ],
      "text/plain": [
       "   objective_c  objective_d\n",
       "9         -1.0          inf\n",
       "3         -2.0          inf\n",
       "4         -3.0          inf\n",
       "5         -4.0          inf"
      ]
     },
     "execution_count": 22,
     "metadata": {},
     "output_type": "execute_result"
    }
   ],
   "source": [
    "# These are in standard form for minimization\n",
    "\n",
    "data = pd.DataFrame({'c':[1,2,3,4]}, index=[9,3,4,5])\n",
    "\n",
    "form_objective_data(vocs.objectives, data)"
   ]
  }
 ],
 "metadata": {
  "interpreter": {
   "hash": "60703f99bc9a1e465ed9e894ac1e8f256837fa55699b4912a7939def4ae95691"
  },
  "kernelspec": {
   "display_name": "Python 3.9.12 ('devel')",
   "language": "python",
   "name": "python3"
  },
  "language_info": {
   "codemirror_mode": {
    "name": "ipython",
    "version": 3
   },
   "file_extension": ".py",
   "mimetype": "text/x-python",
   "name": "python",
   "nbconvert_exporter": "python",
   "pygments_lexer": "ipython3",
   "version": "3.9.15"
  }
 },
 "nbformat": 4,
 "nbformat_minor": 5
}
