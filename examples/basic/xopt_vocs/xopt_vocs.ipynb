{
 "cells": [
  {
   "cell_type": "markdown",
   "id": "9700f595",
   "metadata": {
    "pycharm": {
     "name": "#%% md\n"
    }
   },
   "source": [
    "# VOCS data structure \n",
    "\n",
    "Variables, Objectives, Constraints, and other Settings (VOCS) helps define our optimization problems. "
   ]
  },
  {
   "cell_type": "code",
   "execution_count": 1,
   "id": "32324ac0-b299-42ee-a6b9-e112dfaa5a45",
   "metadata": {
    "ExecuteTime": {
     "end_time": "2023-10-27T16:46:04.425862200Z",
     "start_time": "2023-10-27T16:46:01.206803200Z"
    },
    "execution": {
     "iopub.execute_input": "2024-01-23T15:31:42.867202Z",
     "iopub.status.busy": "2024-01-23T15:31:42.867022Z",
     "iopub.status.idle": "2024-01-23T15:31:44.358712Z",
     "shell.execute_reply": "2024-01-23T15:31:44.358103Z"
    },
    "pycharm": {
     "name": "#%%\n"
    }
   },
   "outputs": [],
   "source": [
    "from xopt.vocs import VOCS"
   ]
  },
  {
   "cell_type": "code",
   "execution_count": 2,
   "id": "31a15253-14cd-4547-ab01-09f4b56f5bf5",
   "metadata": {
    "ExecuteTime": {
     "end_time": "2023-10-27T16:46:04.440220800Z",
     "start_time": "2023-10-27T16:46:04.427862900Z"
    },
    "execution": {
     "iopub.execute_input": "2024-01-23T15:31:44.361541Z",
     "iopub.status.busy": "2024-01-23T15:31:44.361244Z",
     "iopub.status.idle": "2024-01-23T15:31:44.369023Z",
     "shell.execute_reply": "2024-01-23T15:31:44.368441Z"
    },
    "pycharm": {
     "name": "#%%\n"
    }
   },
   "outputs": [
    {
     "data": {
      "text/plain": [
       "VOCS(variables={'a': [0.0, 1000.0], 'b': [-1.0, 1.0]}, constraints={'e': ['LESS_THAN', 2.0], 'f': ['GREATER_THAN', 0.0]}, objectives={'c': 'MAXIMIZE', 'd': 'MINIMIZE'}, constants={'g': 1234}, observables=[])"
      ]
     },
     "execution_count": 2,
     "metadata": {},
     "output_type": "execute_result"
    }
   ],
   "source": [
    "Y = \"\"\"\n",
    "variables:\n",
    "  a: [0, 1e3] # Note that 1e3 usually parses as a str with YAML. \n",
    "  b: [-1, 1]\n",
    "objectives:\n",
    "  c: maximize\n",
    "  d: minimize \n",
    "constraints:\n",
    "  e: ['Less_than', 2]\n",
    "  f: ['greater_than', 0]\n",
    "constants:\n",
    "  g: 1234\n",
    "\n",
    "\"\"\"\n",
    "\n",
    "vocs = VOCS.from_yaml(Y)\n",
    "vocs"
   ]
  },
  {
   "cell_type": "code",
   "execution_count": 3,
   "id": "304bcc89",
   "metadata": {
    "ExecuteTime": {
     "end_time": "2023-10-27T16:46:04.484822200Z",
     "start_time": "2023-10-27T16:46:04.442248900Z"
    },
    "execution": {
     "iopub.execute_input": "2024-01-23T15:31:44.371013Z",
     "iopub.status.busy": "2024-01-23T15:31:44.370839Z",
     "iopub.status.idle": "2024-01-23T15:31:44.374537Z",
     "shell.execute_reply": "2024-01-23T15:31:44.374013Z"
    },
    "pycharm": {
     "name": "#%%\n"
    }
   },
   "outputs": [
    {
     "data": {
      "text/plain": [
       "{'variables': {'a': [0.0, 1000.0], 'b': [-1.0, 1.0]},\n",
       " 'constraints': {'e': ['LESS_THAN', 2.0], 'f': ['GREATER_THAN', 0.0]},\n",
       " 'objectives': {'c': 'MAXIMIZE', 'd': 'MINIMIZE'},\n",
       " 'constants': {'g': 1234},\n",
       " 'observables': []}"
      ]
     },
     "execution_count": 3,
     "metadata": {},
     "output_type": "execute_result"
    }
   ],
   "source": [
    "# as dict\n",
    "dict(vocs)"
   ]
  },
  {
   "cell_type": "code",
   "execution_count": 4,
   "id": "b236bfb4",
   "metadata": {
    "ExecuteTime": {
     "end_time": "2023-10-27T16:46:04.493762900Z",
     "start_time": "2023-10-27T16:46:04.458284400Z"
    },
    "execution": {
     "iopub.execute_input": "2024-01-23T15:31:44.376472Z",
     "iopub.status.busy": "2024-01-23T15:31:44.376306Z",
     "iopub.status.idle": "2024-01-23T15:31:44.379567Z",
     "shell.execute_reply": "2024-01-23T15:31:44.379145Z"
    },
    "pycharm": {
     "name": "#%%\n"
    }
   },
   "outputs": [],
   "source": [
    "#  re-parse dict\n",
    "vocs2 = VOCS.from_dict(dict(vocs))"
   ]
  },
  {
   "cell_type": "code",
   "execution_count": 5,
   "id": "76c9a173",
   "metadata": {
    "ExecuteTime": {
     "end_time": "2023-10-27T16:46:04.493762900Z",
     "start_time": "2023-10-27T16:46:04.471285600Z"
    },
    "execution": {
     "iopub.execute_input": "2024-01-23T15:31:44.381584Z",
     "iopub.status.busy": "2024-01-23T15:31:44.381399Z",
     "iopub.status.idle": "2024-01-23T15:31:44.384772Z",
     "shell.execute_reply": "2024-01-23T15:31:44.384335Z"
    },
    "pycharm": {
     "name": "#%%\n"
    }
   },
   "outputs": [
    {
     "data": {
      "text/plain": [
       "True"
      ]
     },
     "execution_count": 5,
     "metadata": {},
     "output_type": "execute_result"
    }
   ],
   "source": [
    "# Check that these are the same\n",
    "vocs2 == vocs"
   ]
  },
  {
   "cell_type": "code",
   "execution_count": 6,
   "id": "6a846f4d",
   "metadata": {
    "ExecuteTime": {
     "end_time": "2023-10-27T16:46:04.503771300Z",
     "start_time": "2023-10-27T16:46:04.486737500Z"
    },
    "execution": {
     "iopub.execute_input": "2024-01-23T15:31:44.387006Z",
     "iopub.status.busy": "2024-01-23T15:31:44.386663Z",
     "iopub.status.idle": "2024-01-23T15:31:44.390218Z",
     "shell.execute_reply": "2024-01-23T15:31:44.389670Z"
    },
    "pycharm": {
     "name": "#%%\n"
    }
   },
   "outputs": [
    {
     "data": {
      "text/plain": [
       "{'a': [0.0, 1000.0], 'b': [-1.0, 1.0]}"
      ]
     },
     "execution_count": 6,
     "metadata": {},
     "output_type": "execute_result"
    }
   ],
   "source": [
    "# This replaces the old vocs[\"variables\"]\n",
    "getattr(vocs, \"variables\")"
   ]
  },
  {
   "cell_type": "code",
   "execution_count": 7,
   "id": "6fa2afc8",
   "metadata": {
    "ExecuteTime": {
     "end_time": "2023-10-27T16:46:04.544770800Z",
     "start_time": "2023-10-27T16:46:04.504768500Z"
    },
    "execution": {
     "iopub.execute_input": "2024-01-23T15:31:44.392341Z",
     "iopub.status.busy": "2024-01-23T15:31:44.392003Z",
     "iopub.status.idle": "2024-01-23T15:31:44.395619Z",
     "shell.execute_reply": "2024-01-23T15:31:44.395098Z"
    },
    "pycharm": {
     "name": "#%%\n"
    }
   },
   "outputs": [
    {
     "data": {
      "text/plain": [
       "True"
      ]
     },
     "execution_count": 7,
     "metadata": {},
     "output_type": "execute_result"
    }
   ],
   "source": [
    "vocs.objectives[\"c\"] == 'MAXIMIZE'"
   ]
  },
  {
   "cell_type": "code",
   "execution_count": 8,
   "id": "713272b7",
   "metadata": {
    "ExecuteTime": {
     "end_time": "2023-10-27T16:46:04.544770800Z",
     "start_time": "2023-10-27T16:46:04.518770200Z"
    },
    "execution": {
     "iopub.execute_input": "2024-01-23T15:31:44.397854Z",
     "iopub.status.busy": "2024-01-23T15:31:44.397382Z",
     "iopub.status.idle": "2024-01-23T15:31:44.401032Z",
     "shell.execute_reply": "2024-01-23T15:31:44.400487Z"
    },
    "pycharm": {
     "name": "#%%\n"
    }
   },
   "outputs": [
    {
     "data": {
      "text/plain": [
       "'{\"variables\":{\"a\":[0.0,1000.0],\"b\":[-1.0,1.0]},\"constraints\":{\"e\":[\"LESS_THAN\",2.0],\"f\":[\"GREATER_THAN\",0.0]},\"objectives\":{\"c\":\"MAXIMIZE\",\"d\":\"MINIMIZE\"},\"constants\":{\"g\":1234},\"observables\":[]}'"
      ]
     },
     "execution_count": 8,
     "metadata": {},
     "output_type": "execute_result"
    }
   ],
   "source": [
    "# json\n",
    "vocs.to_json()"
   ]
  },
  {
   "cell_type": "markdown",
   "id": "11167a85",
   "metadata": {
    "pycharm": {
     "name": "#%% md\n"
    }
   },
   "source": [
    "# Objective Evaluation"
   ]
  },
  {
   "cell_type": "code",
   "execution_count": 9,
   "id": "c4d150be",
   "metadata": {
    "ExecuteTime": {
     "end_time": "2023-10-27T16:46:04.566771500Z",
     "start_time": "2023-10-27T16:46:04.534772500Z"
    },
    "execution": {
     "iopub.execute_input": "2024-01-23T15:31:44.403004Z",
     "iopub.status.busy": "2024-01-23T15:31:44.402831Z",
     "iopub.status.idle": "2024-01-23T15:31:44.416291Z",
     "shell.execute_reply": "2024-01-23T15:31:44.415825Z"
    },
    "pycharm": {
     "name": "#%%\n"
    }
   },
   "outputs": [
    {
     "data": {
      "text/html": [
       "<div>\n",
       "<style scoped>\n",
       "    .dataframe tbody tr th:only-of-type {\n",
       "        vertical-align: middle;\n",
       "    }\n",
       "\n",
       "    .dataframe tbody tr th {\n",
       "        vertical-align: top;\n",
       "    }\n",
       "\n",
       "    .dataframe thead th {\n",
       "        text-align: right;\n",
       "    }\n",
       "</style>\n",
       "<table border=\"1\" class=\"dataframe\">\n",
       "  <thead>\n",
       "    <tr style=\"text-align: right;\">\n",
       "      <th></th>\n",
       "      <th>a</th>\n",
       "      <th>b</th>\n",
       "      <th>g</th>\n",
       "      <th>c</th>\n",
       "      <th>d</th>\n",
       "      <th>e</th>\n",
       "      <th>f</th>\n",
       "    </tr>\n",
       "  </thead>\n",
       "  <tbody>\n",
       "    <tr>\n",
       "      <th>5</th>\n",
       "      <td>810.568903</td>\n",
       "      <td>0.483154</td>\n",
       "      <td>1234</td>\n",
       "      <td>811.052057</td>\n",
       "      <td>810.085749</td>\n",
       "      <td>1622.104114</td>\n",
       "      <td>1620.171497</td>\n",
       "    </tr>\n",
       "    <tr>\n",
       "      <th>6</th>\n",
       "      <td>606.887073</td>\n",
       "      <td>-0.537867</td>\n",
       "      <td>1234</td>\n",
       "      <td>606.349207</td>\n",
       "      <td>607.424940</td>\n",
       "      <td>1212.698414</td>\n",
       "      <td>1214.849880</td>\n",
       "    </tr>\n",
       "    <tr>\n",
       "      <th>7</th>\n",
       "      <td>71.049087</td>\n",
       "      <td>-0.671038</td>\n",
       "      <td>1234</td>\n",
       "      <td>70.378049</td>\n",
       "      <td>71.720126</td>\n",
       "      <td>140.756098</td>\n",
       "      <td>143.440252</td>\n",
       "    </tr>\n",
       "    <tr>\n",
       "      <th>8</th>\n",
       "      <td>156.036247</td>\n",
       "      <td>0.098301</td>\n",
       "      <td>1234</td>\n",
       "      <td>156.134548</td>\n",
       "      <td>155.937946</td>\n",
       "      <td>312.269097</td>\n",
       "      <td>311.875893</td>\n",
       "    </tr>\n",
       "    <tr>\n",
       "      <th>9</th>\n",
       "      <td>859.730820</td>\n",
       "      <td>0.920999</td>\n",
       "      <td>1234</td>\n",
       "      <td>860.651819</td>\n",
       "      <td>858.809821</td>\n",
       "      <td>1721.303637</td>\n",
       "      <td>1717.619642</td>\n",
       "    </tr>\n",
       "    <tr>\n",
       "      <th>10</th>\n",
       "      <td>801.932450</td>\n",
       "      <td>-0.958635</td>\n",
       "      <td>1234</td>\n",
       "      <td>800.973816</td>\n",
       "      <td>802.891085</td>\n",
       "      <td>1601.947632</td>\n",
       "      <td>1605.782170</td>\n",
       "    </tr>\n",
       "    <tr>\n",
       "      <th>11</th>\n",
       "      <td>537.181230</td>\n",
       "      <td>-0.763100</td>\n",
       "      <td>1234</td>\n",
       "      <td>536.418131</td>\n",
       "      <td>537.944330</td>\n",
       "      <td>1072.836261</td>\n",
       "      <td>1075.888660</td>\n",
       "    </tr>\n",
       "    <tr>\n",
       "      <th>12</th>\n",
       "      <td>587.641777</td>\n",
       "      <td>-0.099132</td>\n",
       "      <td>1234</td>\n",
       "      <td>587.542645</td>\n",
       "      <td>587.740910</td>\n",
       "      <td>1175.085290</td>\n",
       "      <td>1175.481819</td>\n",
       "    </tr>\n",
       "    <tr>\n",
       "      <th>13</th>\n",
       "      <td>81.140945</td>\n",
       "      <td>0.219502</td>\n",
       "      <td>1234</td>\n",
       "      <td>81.360446</td>\n",
       "      <td>80.921443</td>\n",
       "      <td>162.720892</td>\n",
       "      <td>161.842886</td>\n",
       "    </tr>\n",
       "    <tr>\n",
       "      <th>14</th>\n",
       "      <td>953.058425</td>\n",
       "      <td>0.407471</td>\n",
       "      <td>1234</td>\n",
       "      <td>953.465896</td>\n",
       "      <td>952.650954</td>\n",
       "      <td>1906.931792</td>\n",
       "      <td>1905.301907</td>\n",
       "    </tr>\n",
       "  </tbody>\n",
       "</table>\n",
       "</div>"
      ],
      "text/plain": [
       "             a         b     g           c           d            e  \\\n",
       "5   810.568903  0.483154  1234  811.052057  810.085749  1622.104114   \n",
       "6   606.887073 -0.537867  1234  606.349207  607.424940  1212.698414   \n",
       "7    71.049087 -0.671038  1234   70.378049   71.720126   140.756098   \n",
       "8   156.036247  0.098301  1234  156.134548  155.937946   312.269097   \n",
       "9   859.730820  0.920999  1234  860.651819  858.809821  1721.303637   \n",
       "10  801.932450 -0.958635  1234  800.973816  802.891085  1601.947632   \n",
       "11  537.181230 -0.763100  1234  536.418131  537.944330  1072.836261   \n",
       "12  587.641777 -0.099132  1234  587.542645  587.740910  1175.085290   \n",
       "13   81.140945  0.219502  1234   81.360446   80.921443   162.720892   \n",
       "14  953.058425  0.407471  1234  953.465896  952.650954  1906.931792   \n",
       "\n",
       "              f  \n",
       "5   1620.171497  \n",
       "6   1214.849880  \n",
       "7    143.440252  \n",
       "8    311.875893  \n",
       "9   1717.619642  \n",
       "10  1605.782170  \n",
       "11  1075.888660  \n",
       "12  1175.481819  \n",
       "13   161.842886  \n",
       "14  1905.301907  "
      ]
     },
     "execution_count": 9,
     "metadata": {},
     "output_type": "execute_result"
    }
   ],
   "source": [
    "from xopt.vocs import form_objective_data, form_constraint_data, form_feasibility_data\n",
    "import pandas as pd\n",
    "import numpy as np\n",
    "\n",
    "data = pd.DataFrame(vocs.random_inputs(10))\n",
    "# Add some outputs\n",
    "data[\"c\"] = data[\"a\"] + data[\"b\"]\n",
    "data[\"d\"] = data[\"a\"] - data[\"b\"]\n",
    "data[\"e\"] = data[\"a\"] * 2 + data[\"b\"] * 2\n",
    "data[\"f\"] = data[\"a\"] * 2 - data[\"b\"] * 2\n",
    "data.index = np.arange(len(data)) + 5  # custom index\n",
    "data"
   ]
  },
  {
   "cell_type": "code",
   "execution_count": 10,
   "id": "a695dc98",
   "metadata": {
    "ExecuteTime": {
     "end_time": "2023-10-27T16:46:04.604993200Z",
     "start_time": "2023-10-27T16:46:04.563770500Z"
    },
    "execution": {
     "iopub.execute_input": "2024-01-23T15:31:44.418275Z",
     "iopub.status.busy": "2024-01-23T15:31:44.418101Z",
     "iopub.status.idle": "2024-01-23T15:31:44.421660Z",
     "shell.execute_reply": "2024-01-23T15:31:44.421172Z"
    },
    "pycharm": {
     "name": "#%%\n"
    }
   },
   "outputs": [
    {
     "data": {
      "text/plain": [
       "{'c': 'MAXIMIZE', 'd': 'MINIMIZE'}"
      ]
     },
     "execution_count": 10,
     "metadata": {},
     "output_type": "execute_result"
    }
   ],
   "source": [
    "vocs.objectives"
   ]
  },
  {
   "cell_type": "code",
   "execution_count": 11,
   "id": "43051b71",
   "metadata": {
    "ExecuteTime": {
     "end_time": "2023-10-27T16:46:04.635082700Z",
     "start_time": "2023-10-27T16:46:04.582806500Z"
    },
    "execution": {
     "iopub.execute_input": "2024-01-23T15:31:44.423883Z",
     "iopub.status.busy": "2024-01-23T15:31:44.423464Z",
     "iopub.status.idle": "2024-01-23T15:31:44.429826Z",
     "shell.execute_reply": "2024-01-23T15:31:44.429228Z"
    },
    "pycharm": {
     "name": "#%%\n"
    }
   },
   "outputs": [
    {
     "data": {
      "text/html": [
       "<div>\n",
       "<style scoped>\n",
       "    .dataframe tbody tr th:only-of-type {\n",
       "        vertical-align: middle;\n",
       "    }\n",
       "\n",
       "    .dataframe tbody tr th {\n",
       "        vertical-align: top;\n",
       "    }\n",
       "\n",
       "    .dataframe thead th {\n",
       "        text-align: right;\n",
       "    }\n",
       "</style>\n",
       "<table border=\"1\" class=\"dataframe\">\n",
       "  <thead>\n",
       "    <tr style=\"text-align: right;\">\n",
       "      <th></th>\n",
       "      <th>objective_c</th>\n",
       "      <th>objective_d</th>\n",
       "    </tr>\n",
       "  </thead>\n",
       "  <tbody>\n",
       "    <tr>\n",
       "      <th>5</th>\n",
       "      <td>-811.052057</td>\n",
       "      <td>810.085749</td>\n",
       "    </tr>\n",
       "    <tr>\n",
       "      <th>6</th>\n",
       "      <td>-606.349207</td>\n",
       "      <td>607.424940</td>\n",
       "    </tr>\n",
       "    <tr>\n",
       "      <th>7</th>\n",
       "      <td>-70.378049</td>\n",
       "      <td>71.720126</td>\n",
       "    </tr>\n",
       "    <tr>\n",
       "      <th>8</th>\n",
       "      <td>-156.134548</td>\n",
       "      <td>155.937946</td>\n",
       "    </tr>\n",
       "    <tr>\n",
       "      <th>9</th>\n",
       "      <td>-860.651819</td>\n",
       "      <td>858.809821</td>\n",
       "    </tr>\n",
       "    <tr>\n",
       "      <th>10</th>\n",
       "      <td>-800.973816</td>\n",
       "      <td>802.891085</td>\n",
       "    </tr>\n",
       "    <tr>\n",
       "      <th>11</th>\n",
       "      <td>-536.418131</td>\n",
       "      <td>537.944330</td>\n",
       "    </tr>\n",
       "    <tr>\n",
       "      <th>12</th>\n",
       "      <td>-587.542645</td>\n",
       "      <td>587.740910</td>\n",
       "    </tr>\n",
       "    <tr>\n",
       "      <th>13</th>\n",
       "      <td>-81.360446</td>\n",
       "      <td>80.921443</td>\n",
       "    </tr>\n",
       "    <tr>\n",
       "      <th>14</th>\n",
       "      <td>-953.465896</td>\n",
       "      <td>952.650954</td>\n",
       "    </tr>\n",
       "  </tbody>\n",
       "</table>\n",
       "</div>"
      ],
      "text/plain": [
       "    objective_c  objective_d\n",
       "5   -811.052057   810.085749\n",
       "6   -606.349207   607.424940\n",
       "7    -70.378049    71.720126\n",
       "8   -156.134548   155.937946\n",
       "9   -860.651819   858.809821\n",
       "10  -800.973816   802.891085\n",
       "11  -536.418131   537.944330\n",
       "12  -587.542645   587.740910\n",
       "13   -81.360446    80.921443\n",
       "14  -953.465896   952.650954"
      ]
     },
     "execution_count": 11,
     "metadata": {},
     "output_type": "execute_result"
    }
   ],
   "source": [
    "# These are in standard form for minimization\n",
    "form_objective_data(vocs.objectives, data)"
   ]
  },
  {
   "cell_type": "code",
   "execution_count": 12,
   "id": "2ed50815",
   "metadata": {
    "ExecuteTime": {
     "end_time": "2023-10-27T16:46:04.635997800Z",
     "start_time": "2023-10-27T16:46:04.592809200Z"
    },
    "execution": {
     "iopub.execute_input": "2024-01-23T15:31:44.431966Z",
     "iopub.status.busy": "2024-01-23T15:31:44.431630Z",
     "iopub.status.idle": "2024-01-23T15:31:44.437550Z",
     "shell.execute_reply": "2024-01-23T15:31:44.437013Z"
    },
    "pycharm": {
     "name": "#%%\n"
    }
   },
   "outputs": [
    {
     "data": {
      "text/html": [
       "<div>\n",
       "<style scoped>\n",
       "    .dataframe tbody tr th:only-of-type {\n",
       "        vertical-align: middle;\n",
       "    }\n",
       "\n",
       "    .dataframe tbody tr th {\n",
       "        vertical-align: top;\n",
       "    }\n",
       "\n",
       "    .dataframe thead th {\n",
       "        text-align: right;\n",
       "    }\n",
       "</style>\n",
       "<table border=\"1\" class=\"dataframe\">\n",
       "  <thead>\n",
       "    <tr style=\"text-align: right;\">\n",
       "      <th></th>\n",
       "      <th>objective_c</th>\n",
       "      <th>objective_d</th>\n",
       "    </tr>\n",
       "  </thead>\n",
       "  <tbody>\n",
       "    <tr>\n",
       "      <th>5</th>\n",
       "      <td>-811.052057</td>\n",
       "      <td>810.085749</td>\n",
       "    </tr>\n",
       "    <tr>\n",
       "      <th>6</th>\n",
       "      <td>-606.349207</td>\n",
       "      <td>607.424940</td>\n",
       "    </tr>\n",
       "    <tr>\n",
       "      <th>7</th>\n",
       "      <td>-70.378049</td>\n",
       "      <td>71.720126</td>\n",
       "    </tr>\n",
       "    <tr>\n",
       "      <th>8</th>\n",
       "      <td>-156.134548</td>\n",
       "      <td>155.937946</td>\n",
       "    </tr>\n",
       "    <tr>\n",
       "      <th>9</th>\n",
       "      <td>-860.651819</td>\n",
       "      <td>858.809821</td>\n",
       "    </tr>\n",
       "    <tr>\n",
       "      <th>10</th>\n",
       "      <td>-800.973816</td>\n",
       "      <td>802.891085</td>\n",
       "    </tr>\n",
       "    <tr>\n",
       "      <th>11</th>\n",
       "      <td>-536.418131</td>\n",
       "      <td>537.944330</td>\n",
       "    </tr>\n",
       "    <tr>\n",
       "      <th>12</th>\n",
       "      <td>-587.542645</td>\n",
       "      <td>587.740910</td>\n",
       "    </tr>\n",
       "    <tr>\n",
       "      <th>13</th>\n",
       "      <td>-81.360446</td>\n",
       "      <td>80.921443</td>\n",
       "    </tr>\n",
       "    <tr>\n",
       "      <th>14</th>\n",
       "      <td>-953.465896</td>\n",
       "      <td>952.650954</td>\n",
       "    </tr>\n",
       "  </tbody>\n",
       "</table>\n",
       "</div>"
      ],
      "text/plain": [
       "    objective_c  objective_d\n",
       "5   -811.052057   810.085749\n",
       "6   -606.349207   607.424940\n",
       "7    -70.378049    71.720126\n",
       "8   -156.134548   155.937946\n",
       "9   -860.651819   858.809821\n",
       "10  -800.973816   802.891085\n",
       "11  -536.418131   537.944330\n",
       "12  -587.542645   587.740910\n",
       "13   -81.360446    80.921443\n",
       "14  -953.465896   952.650954"
      ]
     },
     "execution_count": 12,
     "metadata": {},
     "output_type": "execute_result"
    }
   ],
   "source": [
    "# This is also available as a method\n",
    "vocs.objective_data(data)"
   ]
  },
  {
   "cell_type": "code",
   "execution_count": 13,
   "id": "9f4275d4",
   "metadata": {
    "ExecuteTime": {
     "end_time": "2023-10-27T16:46:04.665088600Z",
     "start_time": "2023-10-27T16:46:04.607996700Z"
    },
    "execution": {
     "iopub.execute_input": "2024-01-23T15:31:44.439488Z",
     "iopub.status.busy": "2024-01-23T15:31:44.439310Z",
     "iopub.status.idle": "2024-01-23T15:31:44.443787Z",
     "shell.execute_reply": "2024-01-23T15:31:44.443328Z"
    },
    "pycharm": {
     "name": "#%%\n"
    }
   },
   "outputs": [
    {
     "data": {
      "text/plain": [
       "array([[-811.0520568 ,  810.08574857],\n",
       "       [-606.34920698,  607.42494002],\n",
       "       [ -70.37804881,   71.72012578],\n",
       "       [-156.13454834,  155.93794644],\n",
       "       [-860.65181857,  858.80982123],\n",
       "       [-800.97381587,  802.89108507],\n",
       "       [-536.41813051,  537.94433005],\n",
       "       [-587.54264507,  587.74090958],\n",
       "       [ -81.36044623,   80.92144296],\n",
       "       [-953.46589594,  952.65095371]])"
      ]
     },
     "execution_count": 13,
     "metadata": {},
     "output_type": "execute_result"
    }
   ],
   "source": [
    "# use the to_numpy() method to convert for low level use.\n",
    "vocs.objective_data(data).to_numpy()"
   ]
  },
  {
   "cell_type": "code",
   "execution_count": 14,
   "id": "29b73df4",
   "metadata": {
    "ExecuteTime": {
     "end_time": "2023-10-27T16:46:04.702034Z",
     "start_time": "2023-10-27T16:46:04.622998Z"
    },
    "execution": {
     "iopub.execute_input": "2024-01-23T15:31:44.445736Z",
     "iopub.status.busy": "2024-01-23T15:31:44.445563Z",
     "iopub.status.idle": "2024-01-23T15:31:44.452354Z",
     "shell.execute_reply": "2024-01-23T15:31:44.451884Z"
    },
    "pycharm": {
     "name": "#%%\n"
    }
   },
   "outputs": [
    {
     "data": {
      "text/html": [
       "<div>\n",
       "<style scoped>\n",
       "    .dataframe tbody tr th:only-of-type {\n",
       "        vertical-align: middle;\n",
       "    }\n",
       "\n",
       "    .dataframe tbody tr th {\n",
       "        vertical-align: top;\n",
       "    }\n",
       "\n",
       "    .dataframe thead th {\n",
       "        text-align: right;\n",
       "    }\n",
       "</style>\n",
       "<table border=\"1\" class=\"dataframe\">\n",
       "  <thead>\n",
       "    <tr style=\"text-align: right;\">\n",
       "      <th></th>\n",
       "      <th>constraint_e</th>\n",
       "      <th>constraint_f</th>\n",
       "    </tr>\n",
       "  </thead>\n",
       "  <tbody>\n",
       "    <tr>\n",
       "      <th>5</th>\n",
       "      <td>1620.104114</td>\n",
       "      <td>-1620.171497</td>\n",
       "    </tr>\n",
       "    <tr>\n",
       "      <th>6</th>\n",
       "      <td>1210.698414</td>\n",
       "      <td>-1214.849880</td>\n",
       "    </tr>\n",
       "    <tr>\n",
       "      <th>7</th>\n",
       "      <td>138.756098</td>\n",
       "      <td>-143.440252</td>\n",
       "    </tr>\n",
       "    <tr>\n",
       "      <th>8</th>\n",
       "      <td>310.269097</td>\n",
       "      <td>-311.875893</td>\n",
       "    </tr>\n",
       "    <tr>\n",
       "      <th>9</th>\n",
       "      <td>1719.303637</td>\n",
       "      <td>-1717.619642</td>\n",
       "    </tr>\n",
       "    <tr>\n",
       "      <th>10</th>\n",
       "      <td>1599.947632</td>\n",
       "      <td>-1605.782170</td>\n",
       "    </tr>\n",
       "    <tr>\n",
       "      <th>11</th>\n",
       "      <td>1070.836261</td>\n",
       "      <td>-1075.888660</td>\n",
       "    </tr>\n",
       "    <tr>\n",
       "      <th>12</th>\n",
       "      <td>1173.085290</td>\n",
       "      <td>-1175.481819</td>\n",
       "    </tr>\n",
       "    <tr>\n",
       "      <th>13</th>\n",
       "      <td>160.720892</td>\n",
       "      <td>-161.842886</td>\n",
       "    </tr>\n",
       "    <tr>\n",
       "      <th>14</th>\n",
       "      <td>1904.931792</td>\n",
       "      <td>-1905.301907</td>\n",
       "    </tr>\n",
       "  </tbody>\n",
       "</table>\n",
       "</div>"
      ],
      "text/plain": [
       "    constraint_e  constraint_f\n",
       "5    1620.104114  -1620.171497\n",
       "6    1210.698414  -1214.849880\n",
       "7     138.756098   -143.440252\n",
       "8     310.269097   -311.875893\n",
       "9    1719.303637  -1717.619642\n",
       "10   1599.947632  -1605.782170\n",
       "11   1070.836261  -1075.888660\n",
       "12   1173.085290  -1175.481819\n",
       "13    160.720892   -161.842886\n",
       "14   1904.931792  -1905.301907"
      ]
     },
     "execution_count": 14,
     "metadata": {},
     "output_type": "execute_result"
    }
   ],
   "source": [
    "vocs.constraint_data(data)"
   ]
  },
  {
   "cell_type": "code",
   "execution_count": 15,
   "id": "e46a5e83",
   "metadata": {
    "ExecuteTime": {
     "end_time": "2023-10-27T16:46:04.703032900Z",
     "start_time": "2023-10-27T16:46:04.642000500Z"
    },
    "execution": {
     "iopub.execute_input": "2024-01-23T15:31:44.454334Z",
     "iopub.status.busy": "2024-01-23T15:31:44.454164Z",
     "iopub.status.idle": "2024-01-23T15:31:44.462346Z",
     "shell.execute_reply": "2024-01-23T15:31:44.461879Z"
    },
    "pycharm": {
     "name": "#%%\n"
    }
   },
   "outputs": [
    {
     "data": {
      "text/html": [
       "<div>\n",
       "<style scoped>\n",
       "    .dataframe tbody tr th:only-of-type {\n",
       "        vertical-align: middle;\n",
       "    }\n",
       "\n",
       "    .dataframe tbody tr th {\n",
       "        vertical-align: top;\n",
       "    }\n",
       "\n",
       "    .dataframe thead th {\n",
       "        text-align: right;\n",
       "    }\n",
       "</style>\n",
       "<table border=\"1\" class=\"dataframe\">\n",
       "  <thead>\n",
       "    <tr style=\"text-align: right;\">\n",
       "      <th></th>\n",
       "      <th>feasible_e</th>\n",
       "      <th>feasible_f</th>\n",
       "      <th>feasible</th>\n",
       "    </tr>\n",
       "  </thead>\n",
       "  <tbody>\n",
       "    <tr>\n",
       "      <th>5</th>\n",
       "      <td>False</td>\n",
       "      <td>True</td>\n",
       "      <td>False</td>\n",
       "    </tr>\n",
       "    <tr>\n",
       "      <th>6</th>\n",
       "      <td>False</td>\n",
       "      <td>True</td>\n",
       "      <td>False</td>\n",
       "    </tr>\n",
       "    <tr>\n",
       "      <th>7</th>\n",
       "      <td>False</td>\n",
       "      <td>True</td>\n",
       "      <td>False</td>\n",
       "    </tr>\n",
       "    <tr>\n",
       "      <th>8</th>\n",
       "      <td>False</td>\n",
       "      <td>True</td>\n",
       "      <td>False</td>\n",
       "    </tr>\n",
       "    <tr>\n",
       "      <th>9</th>\n",
       "      <td>False</td>\n",
       "      <td>True</td>\n",
       "      <td>False</td>\n",
       "    </tr>\n",
       "    <tr>\n",
       "      <th>10</th>\n",
       "      <td>False</td>\n",
       "      <td>True</td>\n",
       "      <td>False</td>\n",
       "    </tr>\n",
       "    <tr>\n",
       "      <th>11</th>\n",
       "      <td>False</td>\n",
       "      <td>True</td>\n",
       "      <td>False</td>\n",
       "    </tr>\n",
       "    <tr>\n",
       "      <th>12</th>\n",
       "      <td>False</td>\n",
       "      <td>True</td>\n",
       "      <td>False</td>\n",
       "    </tr>\n",
       "    <tr>\n",
       "      <th>13</th>\n",
       "      <td>False</td>\n",
       "      <td>True</td>\n",
       "      <td>False</td>\n",
       "    </tr>\n",
       "    <tr>\n",
       "      <th>14</th>\n",
       "      <td>False</td>\n",
       "      <td>True</td>\n",
       "      <td>False</td>\n",
       "    </tr>\n",
       "  </tbody>\n",
       "</table>\n",
       "</div>"
      ],
      "text/plain": [
       "    feasible_e  feasible_f  feasible\n",
       "5        False        True     False\n",
       "6        False        True     False\n",
       "7        False        True     False\n",
       "8        False        True     False\n",
       "9        False        True     False\n",
       "10       False        True     False\n",
       "11       False        True     False\n",
       "12       False        True     False\n",
       "13       False        True     False\n",
       "14       False        True     False"
      ]
     },
     "execution_count": 15,
     "metadata": {},
     "output_type": "execute_result"
    }
   ],
   "source": [
    "vocs.feasibility_data(data)"
   ]
  },
  {
   "cell_type": "code",
   "execution_count": 16,
   "id": "c42dfa48",
   "metadata": {
    "ExecuteTime": {
     "end_time": "2023-10-27T16:46:04.703032900Z",
     "start_time": "2023-10-27T16:46:04.665088600Z"
    },
    "collapsed": false,
    "execution": {
     "iopub.execute_input": "2024-01-23T15:31:44.464226Z",
     "iopub.status.busy": "2024-01-23T15:31:44.464063Z",
     "iopub.status.idle": "2024-01-23T15:31:44.470181Z",
     "shell.execute_reply": "2024-01-23T15:31:44.469649Z"
    },
    "jupyter": {
     "outputs_hidden": false
    }
   },
   "outputs": [
    {
     "data": {
      "text/html": [
       "<div>\n",
       "<style scoped>\n",
       "    .dataframe tbody tr th:only-of-type {\n",
       "        vertical-align: middle;\n",
       "    }\n",
       "\n",
       "    .dataframe tbody tr th {\n",
       "        vertical-align: top;\n",
       "    }\n",
       "\n",
       "    .dataframe thead th {\n",
       "        text-align: right;\n",
       "    }\n",
       "</style>\n",
       "<table border=\"1\" class=\"dataframe\">\n",
       "  <thead>\n",
       "    <tr style=\"text-align: right;\">\n",
       "      <th></th>\n",
       "      <th>a</th>\n",
       "      <th>b</th>\n",
       "    </tr>\n",
       "  </thead>\n",
       "  <tbody>\n",
       "    <tr>\n",
       "      <th>5</th>\n",
       "      <td>0.810569</td>\n",
       "      <td>0.741577</td>\n",
       "    </tr>\n",
       "    <tr>\n",
       "      <th>6</th>\n",
       "      <td>0.606887</td>\n",
       "      <td>0.231067</td>\n",
       "    </tr>\n",
       "    <tr>\n",
       "      <th>7</th>\n",
       "      <td>0.071049</td>\n",
       "      <td>0.164481</td>\n",
       "    </tr>\n",
       "    <tr>\n",
       "      <th>8</th>\n",
       "      <td>0.156036</td>\n",
       "      <td>0.549150</td>\n",
       "    </tr>\n",
       "    <tr>\n",
       "      <th>9</th>\n",
       "      <td>0.859731</td>\n",
       "      <td>0.960499</td>\n",
       "    </tr>\n",
       "    <tr>\n",
       "      <th>10</th>\n",
       "      <td>0.801932</td>\n",
       "      <td>0.020683</td>\n",
       "    </tr>\n",
       "    <tr>\n",
       "      <th>11</th>\n",
       "      <td>0.537181</td>\n",
       "      <td>0.118450</td>\n",
       "    </tr>\n",
       "    <tr>\n",
       "      <th>12</th>\n",
       "      <td>0.587642</td>\n",
       "      <td>0.450434</td>\n",
       "    </tr>\n",
       "    <tr>\n",
       "      <th>13</th>\n",
       "      <td>0.081141</td>\n",
       "      <td>0.609751</td>\n",
       "    </tr>\n",
       "    <tr>\n",
       "      <th>14</th>\n",
       "      <td>0.953058</td>\n",
       "      <td>0.703736</td>\n",
       "    </tr>\n",
       "  </tbody>\n",
       "</table>\n",
       "</div>"
      ],
      "text/plain": [
       "           a         b\n",
       "5   0.810569  0.741577\n",
       "6   0.606887  0.231067\n",
       "7   0.071049  0.164481\n",
       "8   0.156036  0.549150\n",
       "9   0.859731  0.960499\n",
       "10  0.801932  0.020683\n",
       "11  0.537181  0.118450\n",
       "12  0.587642  0.450434\n",
       "13  0.081141  0.609751\n",
       "14  0.953058  0.703736"
      ]
     },
     "execution_count": 16,
     "metadata": {},
     "output_type": "execute_result"
    }
   ],
   "source": [
    "# normalize inputs to unit domain [0,1]\n",
    "normed_data = vocs.normalize_inputs(data)\n",
    "normed_data"
   ]
  },
  {
   "cell_type": "code",
   "execution_count": 17,
   "id": "7364e86b",
   "metadata": {
    "collapsed": false,
    "execution": {
     "iopub.execute_input": "2024-01-23T15:31:44.472281Z",
     "iopub.status.busy": "2024-01-23T15:31:44.471945Z",
     "iopub.status.idle": "2024-01-23T15:31:44.477922Z",
     "shell.execute_reply": "2024-01-23T15:31:44.477452Z"
    },
    "jupyter": {
     "outputs_hidden": false
    }
   },
   "outputs": [
    {
     "data": {
      "text/html": [
       "<div>\n",
       "<style scoped>\n",
       "    .dataframe tbody tr th:only-of-type {\n",
       "        vertical-align: middle;\n",
       "    }\n",
       "\n",
       "    .dataframe tbody tr th {\n",
       "        vertical-align: top;\n",
       "    }\n",
       "\n",
       "    .dataframe thead th {\n",
       "        text-align: right;\n",
       "    }\n",
       "</style>\n",
       "<table border=\"1\" class=\"dataframe\">\n",
       "  <thead>\n",
       "    <tr style=\"text-align: right;\">\n",
       "      <th></th>\n",
       "      <th>a</th>\n",
       "      <th>b</th>\n",
       "    </tr>\n",
       "  </thead>\n",
       "  <tbody>\n",
       "    <tr>\n",
       "      <th>5</th>\n",
       "      <td>810.568903</td>\n",
       "      <td>0.483154</td>\n",
       "    </tr>\n",
       "    <tr>\n",
       "      <th>6</th>\n",
       "      <td>606.887073</td>\n",
       "      <td>-0.537867</td>\n",
       "    </tr>\n",
       "    <tr>\n",
       "      <th>7</th>\n",
       "      <td>71.049087</td>\n",
       "      <td>-0.671038</td>\n",
       "    </tr>\n",
       "    <tr>\n",
       "      <th>8</th>\n",
       "      <td>156.036247</td>\n",
       "      <td>0.098301</td>\n",
       "    </tr>\n",
       "    <tr>\n",
       "      <th>9</th>\n",
       "      <td>859.730820</td>\n",
       "      <td>0.920999</td>\n",
       "    </tr>\n",
       "    <tr>\n",
       "      <th>10</th>\n",
       "      <td>801.932450</td>\n",
       "      <td>-0.958635</td>\n",
       "    </tr>\n",
       "    <tr>\n",
       "      <th>11</th>\n",
       "      <td>537.181230</td>\n",
       "      <td>-0.763100</td>\n",
       "    </tr>\n",
       "    <tr>\n",
       "      <th>12</th>\n",
       "      <td>587.641777</td>\n",
       "      <td>-0.099132</td>\n",
       "    </tr>\n",
       "    <tr>\n",
       "      <th>13</th>\n",
       "      <td>81.140945</td>\n",
       "      <td>0.219502</td>\n",
       "    </tr>\n",
       "    <tr>\n",
       "      <th>14</th>\n",
       "      <td>953.058425</td>\n",
       "      <td>0.407471</td>\n",
       "    </tr>\n",
       "  </tbody>\n",
       "</table>\n",
       "</div>"
      ],
      "text/plain": [
       "             a         b\n",
       "5   810.568903  0.483154\n",
       "6   606.887073 -0.537867\n",
       "7    71.049087 -0.671038\n",
       "8   156.036247  0.098301\n",
       "9   859.730820  0.920999\n",
       "10  801.932450 -0.958635\n",
       "11  537.181230 -0.763100\n",
       "12  587.641777 -0.099132\n",
       "13   81.140945  0.219502\n",
       "14  953.058425  0.407471"
      ]
     },
     "execution_count": 17,
     "metadata": {},
     "output_type": "execute_result"
    }
   ],
   "source": [
    "# and denormalize\n",
    "vocs.denormalize_inputs(normed_data)"
   ]
  },
  {
   "cell_type": "markdown",
   "id": "59041be7",
   "metadata": {},
   "source": [
    "# Error handling"
   ]
  },
  {
   "cell_type": "code",
   "execution_count": 18,
   "id": "f9171ede",
   "metadata": {
    "ExecuteTime": {
     "end_time": "2023-10-27T16:46:04.719064600Z",
     "start_time": "2023-10-27T16:46:04.668031Z"
    },
    "execution": {
     "iopub.execute_input": "2024-01-23T15:31:44.480073Z",
     "iopub.status.busy": "2024-01-23T15:31:44.479747Z",
     "iopub.status.idle": "2024-01-23T15:31:44.483927Z",
     "shell.execute_reply": "2024-01-23T15:31:44.483384Z"
    }
   },
   "outputs": [],
   "source": [
    "Y = \"\"\"\n",
    "variables:\n",
    "  a: [0, 1e3] # Note that 1e3 usually parses as a str with YAML. \n",
    "  b: [-1, 1]\n",
    "objectives:\n",
    "  c: maximize\n",
    "  d: minimize \n",
    "constraints:\n",
    "  e: ['Less_than', 2]\n",
    "  f: ['greater_than', 0]\n",
    "constants:\n",
    "  g: 1234\n",
    "\n",
    "\"\"\"\n",
    "\n",
    "vocs = VOCS.from_yaml(Y)"
   ]
  },
  {
   "cell_type": "code",
   "execution_count": 19,
   "id": "b5513539",
   "metadata": {
    "ExecuteTime": {
     "end_time": "2023-10-27T16:46:04.763060700Z",
     "start_time": "2023-10-27T16:46:04.686996500Z"
    },
    "execution": {
     "iopub.execute_input": "2024-01-23T15:31:44.486013Z",
     "iopub.status.busy": "2024-01-23T15:31:44.485665Z",
     "iopub.status.idle": "2024-01-23T15:31:44.490950Z",
     "shell.execute_reply": "2024-01-23T15:31:44.490399Z"
    }
   },
   "outputs": [
    {
     "data": {
      "text/plain": [
       "0   NaN\n",
       "1   NaN\n",
       "2   NaN\n",
       "Name: b, dtype: float64"
      ]
     },
     "execution_count": 19,
     "metadata": {},
     "output_type": "execute_result"
    }
   ],
   "source": [
    "d = {'a': [1,2,3]}\n",
    "\n",
    "df = pd.DataFrame(d)\n",
    "df2 = pd.DataFrame(df).copy()\n",
    "\n",
    "df2['b'] = np.nan\n",
    "df2['b'] - 1"
   ]
  },
  {
   "cell_type": "code",
   "execution_count": 20,
   "id": "30f3b3b4",
   "metadata": {
    "ExecuteTime": {
     "end_time": "2023-10-27T16:46:04.800032400Z",
     "start_time": "2023-10-27T16:46:04.698034700Z"
    },
    "execution": {
     "iopub.execute_input": "2024-01-23T15:31:44.492846Z",
     "iopub.status.busy": "2024-01-23T15:31:44.492685Z",
     "iopub.status.idle": "2024-01-23T15:31:44.495479Z",
     "shell.execute_reply": "2024-01-23T15:31:44.495014Z"
    }
   },
   "outputs": [],
   "source": [
    "data['a']  = np.nan"
   ]
  },
  {
   "cell_type": "code",
   "execution_count": 21,
   "id": "6393376b",
   "metadata": {
    "ExecuteTime": {
     "end_time": "2023-10-27T16:46:04.877099700Z",
     "start_time": "2023-10-27T16:46:04.715062Z"
    },
    "execution": {
     "iopub.execute_input": "2024-01-23T15:31:44.497310Z",
     "iopub.status.busy": "2024-01-23T15:31:44.497147Z",
     "iopub.status.idle": "2024-01-23T15:31:44.500952Z",
     "shell.execute_reply": "2024-01-23T15:31:44.500494Z"
    }
   },
   "outputs": [
    {
     "data": {
      "text/plain": [
       "2"
      ]
     },
     "execution_count": 21,
     "metadata": {},
     "output_type": "execute_result"
    }
   ],
   "source": [
    "a = 2\n",
    "def f(x=a):\n",
    "    return x\n",
    "a=99\n",
    "f()"
   ]
  },
  {
   "cell_type": "code",
   "execution_count": 22,
   "id": "cb0ecd74",
   "metadata": {
    "ExecuteTime": {
     "end_time": "2023-10-27T16:46:04.880100300Z",
     "start_time": "2023-10-27T16:46:04.728063600Z"
    },
    "execution": {
     "iopub.execute_input": "2024-01-23T15:31:44.503006Z",
     "iopub.status.busy": "2024-01-23T15:31:44.502823Z",
     "iopub.status.idle": "2024-01-23T15:31:44.508298Z",
     "shell.execute_reply": "2024-01-23T15:31:44.507768Z"
    }
   },
   "outputs": [
    {
     "data": {
      "text/html": [
       "<div>\n",
       "<style scoped>\n",
       "    .dataframe tbody tr th:only-of-type {\n",
       "        vertical-align: middle;\n",
       "    }\n",
       "\n",
       "    .dataframe tbody tr th {\n",
       "        vertical-align: top;\n",
       "    }\n",
       "\n",
       "    .dataframe thead th {\n",
       "        text-align: right;\n",
       "    }\n",
       "</style>\n",
       "<table border=\"1\" class=\"dataframe\">\n",
       "  <thead>\n",
       "    <tr style=\"text-align: right;\">\n",
       "      <th></th>\n",
       "      <th>A</th>\n",
       "    </tr>\n",
       "  </thead>\n",
       "  <tbody>\n",
       "    <tr>\n",
       "      <th>1</th>\n",
       "      <td>6.000000e+66</td>\n",
       "    </tr>\n",
       "    <tr>\n",
       "      <th>2</th>\n",
       "      <td>6.000000e+66</td>\n",
       "    </tr>\n",
       "    <tr>\n",
       "      <th>3</th>\n",
       "      <td>6.000000e+66</td>\n",
       "    </tr>\n",
       "  </tbody>\n",
       "</table>\n",
       "</div>"
      ],
      "text/plain": [
       "              A\n",
       "1  6.000000e+66\n",
       "2  6.000000e+66\n",
       "3  6.000000e+66"
      ]
     },
     "execution_count": 22,
     "metadata": {},
     "output_type": "execute_result"
    }
   ],
   "source": [
    "pd.DataFrame(6e66, index=[1,2,3], columns=['A'])"
   ]
  },
  {
   "cell_type": "code",
   "execution_count": 23,
   "id": "88bb8253",
   "metadata": {
    "ExecuteTime": {
     "end_time": "2023-10-27T16:46:04.896129200Z",
     "start_time": "2023-10-27T16:46:04.744036400Z"
    },
    "execution": {
     "iopub.execute_input": "2024-01-23T15:31:44.510520Z",
     "iopub.status.busy": "2024-01-23T15:31:44.510189Z",
     "iopub.status.idle": "2024-01-23T15:31:44.516866Z",
     "shell.execute_reply": "2024-01-23T15:31:44.516321Z"
    }
   },
   "outputs": [
    {
     "data": {
      "text/html": [
       "<div>\n",
       "<style scoped>\n",
       "    .dataframe tbody tr th:only-of-type {\n",
       "        vertical-align: middle;\n",
       "    }\n",
       "\n",
       "    .dataframe tbody tr th {\n",
       "        vertical-align: top;\n",
       "    }\n",
       "\n",
       "    .dataframe thead th {\n",
       "        text-align: right;\n",
       "    }\n",
       "</style>\n",
       "<table border=\"1\" class=\"dataframe\">\n",
       "  <thead>\n",
       "    <tr style=\"text-align: right;\">\n",
       "      <th></th>\n",
       "      <th>objective_c</th>\n",
       "      <th>objective_d</th>\n",
       "    </tr>\n",
       "  </thead>\n",
       "  <tbody>\n",
       "    <tr>\n",
       "      <th>9</th>\n",
       "      <td>-1.0</td>\n",
       "      <td>inf</td>\n",
       "    </tr>\n",
       "    <tr>\n",
       "      <th>3</th>\n",
       "      <td>-2.0</td>\n",
       "      <td>inf</td>\n",
       "    </tr>\n",
       "    <tr>\n",
       "      <th>4</th>\n",
       "      <td>-3.0</td>\n",
       "      <td>inf</td>\n",
       "    </tr>\n",
       "    <tr>\n",
       "      <th>5</th>\n",
       "      <td>-4.0</td>\n",
       "      <td>inf</td>\n",
       "    </tr>\n",
       "  </tbody>\n",
       "</table>\n",
       "</div>"
      ],
      "text/plain": [
       "   objective_c  objective_d\n",
       "9         -1.0          inf\n",
       "3         -2.0          inf\n",
       "4         -3.0          inf\n",
       "5         -4.0          inf"
      ]
     },
     "execution_count": 23,
     "metadata": {},
     "output_type": "execute_result"
    }
   ],
   "source": [
    "# These are in standard form for minimization\n",
    "\n",
    "data = pd.DataFrame({'c':[1,2,3,4]}, index=[9,3,4,5])\n",
    "\n",
    "form_objective_data(vocs.objectives, data)"
   ]
  }
 ],
 "metadata": {
  "interpreter": {
   "hash": "60703f99bc9a1e465ed9e894ac1e8f256837fa55699b4912a7939def4ae95691"
  },
  "kernelspec": {
   "display_name": "Python 3 (ipykernel)",
   "language": "python",
   "name": "python3"
  },
  "language_info": {
   "codemirror_mode": {
    "name": "ipython",
    "version": 3
   },
   "file_extension": ".py",
   "mimetype": "text/x-python",
   "name": "python",
   "nbconvert_exporter": "python",
   "pygments_lexer": "ipython3",
   "version": "3.9.18"
  }
 },
 "nbformat": 4,
 "nbformat_minor": 5
}
