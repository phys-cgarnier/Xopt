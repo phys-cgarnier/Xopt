{
 "cells": [
  {
   "cell_type": "markdown",
   "metadata": {
    "pycharm": {
     "name": "#%% md\n"
    }
   },
   "source": [
    "# Working with Xopt generators\n",
    "\n"
   ]
  },
  {
   "cell_type": "code",
   "execution_count": 1,
   "metadata": {
    "execution": {
     "iopub.execute_input": "2022-08-18T21:16:08.708424Z",
     "iopub.status.busy": "2022-08-18T21:16:08.708105Z",
     "iopub.status.idle": "2022-08-18T21:16:10.258379Z",
     "shell.execute_reply": "2022-08-18T21:16:10.257286Z"
    },
    "pycharm": {
     "name": "#%%\n"
    }
   },
   "outputs": [],
   "source": [
    "# Import the class\n",
    "from xopt.generators import generators, generator_default_options"
   ]
  },
  {
   "cell_type": "code",
   "execution_count": 2,
   "metadata": {
    "execution": {
     "iopub.execute_input": "2022-08-18T21:16:10.264250Z",
     "iopub.status.busy": "2022-08-18T21:16:10.263614Z",
     "iopub.status.idle": "2022-08-18T21:16:10.279723Z",
     "shell.execute_reply": "2022-08-18T21:16:10.279005Z"
    },
    "pycharm": {
     "name": "#%%\n"
    }
   },
   "outputs": [
    {
     "data": {
      "text/plain": [
       "dict_keys(['upper_confidence_bound', 'mobo', 'bayesian_exploration', 'cnsga', 'random', 'neldermead', 'time_dependent_upper_confidence_bound', 'expected_improvement'])"
      ]
     },
     "execution_count": 2,
     "metadata": {},
     "output_type": "execute_result"
    }
   ],
   "source": [
    "# named generators\n",
    "generators.keys()"
   ]
  },
  {
   "cell_type": "code",
   "execution_count": 3,
   "metadata": {
    "collapsed": false,
    "execution": {
     "iopub.execute_input": "2022-08-18T21:16:10.330570Z",
     "iopub.status.busy": "2022-08-18T21:16:10.329832Z",
     "iopub.status.idle": "2022-08-18T21:16:10.334335Z",
     "shell.execute_reply": "2022-08-18T21:16:10.333466Z"
    },
    "pycharm": {
     "name": "#%%\n"
    }
   },
   "outputs": [],
   "source": [
    "# get default options for the upper confidence bound generator\n",
    "options = generator_default_options[\"upper_confidence_bound\"]"
   ]
  },
  {
   "cell_type": "code",
   "execution_count": 4,
   "metadata": {
    "collapsed": false,
    "execution": {
     "iopub.execute_input": "2022-08-18T21:16:10.338237Z",
     "iopub.status.busy": "2022-08-18T21:16:10.337492Z",
     "iopub.status.idle": "2022-08-18T21:16:10.341683Z",
     "shell.execute_reply": "2022-08-18T21:16:10.340848Z"
    },
    "pycharm": {
     "name": "#%%\n"
    }
   },
   "outputs": [],
   "source": [
    "# modify the UCB beta parameter and the number of initial samples\n",
    "options.n_initial = 1\n",
    "options.acq.beta = 1.0"
   ]
  },
  {
   "cell_type": "code",
   "execution_count": 5,
   "metadata": {
    "collapsed": false,
    "execution": {
     "iopub.execute_input": "2022-08-18T21:16:10.345557Z",
     "iopub.status.busy": "2022-08-18T21:16:10.344819Z",
     "iopub.status.idle": "2022-08-18T21:16:10.349698Z",
     "shell.execute_reply": "2022-08-18T21:16:10.348867Z"
    },
    "pycharm": {
     "name": "#%%\n"
    }
   },
   "outputs": [],
   "source": [
    "# define vocs for the problem\n",
    "from xopt.vocs import VOCS\n",
    "import math\n",
    "\n",
    "vocs = VOCS(\n",
    "    variables={\"x\": [0, 2 * math.pi]},\n",
    "    objectives={\"f\": \"MINIMIZE\"},\n",
    ")"
   ]
  },
  {
   "cell_type": "code",
   "execution_count": 6,
   "metadata": {
    "collapsed": false,
    "execution": {
     "iopub.execute_input": "2022-08-18T21:16:10.353372Z",
     "iopub.status.busy": "2022-08-18T21:16:10.352783Z",
     "iopub.status.idle": "2022-08-18T21:16:10.360459Z",
     "shell.execute_reply": "2022-08-18T21:16:10.359376Z"
    },
    "pycharm": {
     "name": "#%%\n"
    }
   },
   "outputs": [
    {
     "data": {
      "text/plain": [
       "UCBOptions(optim=OptimOptions(num_restarts=5, raw_samples=20, sequential=True, use_nearby_initial_points=True, max_travel_distances=None), acq=UpperConfidenceBoundOptions(proximal_lengthscales=None, use_transformed_proximal_weights=True, monte_carlo_samples=128, beta=1.0), model=ModelOptions(use_conservative_prior_lengthscale=False, use_conservative_prior_mean=False, use_low_noise_prior=False), n_initial=1)"
      ]
     },
     "execution_count": 6,
     "metadata": {},
     "output_type": "execute_result"
    }
   ],
   "source": [
    "# create a new generator\n",
    "generator = generators[\"upper_confidence_bound\"](vocs=vocs, options=options)\n",
    "generator.options"
   ]
  },
  {
   "cell_type": "code",
   "execution_count": 7,
   "metadata": {
    "collapsed": false,
    "execution": {
     "iopub.execute_input": "2022-08-18T21:16:10.364276Z",
     "iopub.status.busy": "2022-08-18T21:16:10.363707Z",
     "iopub.status.idle": "2022-08-18T21:16:10.368374Z",
     "shell.execute_reply": "2022-08-18T21:16:10.367515Z"
    },
    "pycharm": {
     "name": "#%%\n"
    }
   },
   "outputs": [],
   "source": [
    "# define a test function to optimize\n",
    "import numpy as np\n",
    "\n",
    "\n",
    "def test_function(input_dict):\n",
    "    return {\"f\": np.sin(input_dict[\"x\"])}"
   ]
  },
  {
   "cell_type": "code",
   "execution_count": 8,
   "metadata": {
    "collapsed": false,
    "execution": {
     "iopub.execute_input": "2022-08-18T21:16:10.371832Z",
     "iopub.status.busy": "2022-08-18T21:16:10.371548Z",
     "iopub.status.idle": "2022-08-18T21:16:10.385688Z",
     "shell.execute_reply": "2022-08-18T21:16:10.384786Z"
    },
    "pycharm": {
     "name": "#%%\n"
    }
   },
   "outputs": [
    {
     "data": {
      "text/plain": [
       "XoptOptions(asynch=False, strict=False, dump_file=None, max_evaluations=None)"
      ]
     },
     "execution_count": 8,
     "metadata": {},
     "output_type": "execute_result"
    }
   ],
   "source": [
    "# create xopt evaluator and run the optimization\n",
    "from xopt import Evaluator, Xopt\n",
    "\n",
    "evaluator = Evaluator(function=test_function)\n",
    "\n",
    "X = Xopt(generator=generator, evaluator=evaluator, vocs=vocs)\n",
    "X.options"
   ]
  },
  {
   "cell_type": "code",
   "execution_count": 9,
   "metadata": {
    "collapsed": false,
    "execution": {
     "iopub.execute_input": "2022-08-18T21:16:10.389367Z",
     "iopub.status.busy": "2022-08-18T21:16:10.389097Z",
     "iopub.status.idle": "2022-08-18T21:16:11.415982Z",
     "shell.execute_reply": "2022-08-18T21:16:11.415125Z"
    },
    "pycharm": {
     "name": "#%%\n"
    }
   },
   "outputs": [],
   "source": [
    "# run the optimization for a couple of iterations (see bayes_opt folder for\n",
    "# more examples of ucb)\n",
    "for i in range(4):\n",
    "    X.step()"
   ]
  },
  {
   "cell_type": "code",
   "execution_count": 10,
   "metadata": {
    "collapsed": false,
    "execution": {
     "iopub.execute_input": "2022-08-18T21:16:11.421880Z",
     "iopub.status.busy": "2022-08-18T21:16:11.420382Z",
     "iopub.status.idle": "2022-08-18T21:16:11.434659Z",
     "shell.execute_reply": "2022-08-18T21:16:11.433960Z"
    },
    "pycharm": {
     "name": "#%%\n"
    }
   },
   "outputs": [
    {
     "data": {
      "text/html": [
       "<div>\n",
       "<style scoped>\n",
       "    .dataframe tbody tr th:only-of-type {\n",
       "        vertical-align: middle;\n",
       "    }\n",
       "\n",
       "    .dataframe tbody tr th {\n",
       "        vertical-align: top;\n",
       "    }\n",
       "\n",
       "    .dataframe thead th {\n",
       "        text-align: right;\n",
       "    }\n",
       "</style>\n",
       "<table border=\"1\" class=\"dataframe\">\n",
       "  <thead>\n",
       "    <tr style=\"text-align: right;\">\n",
       "      <th></th>\n",
       "      <th>x</th>\n",
       "      <th>f</th>\n",
       "      <th>xopt_runtime</th>\n",
       "      <th>xopt_error</th>\n",
       "    </tr>\n",
       "  </thead>\n",
       "  <tbody>\n",
       "    <tr>\n",
       "      <th>1</th>\n",
       "      <td>0.284239</td>\n",
       "      <td>2.804267e-01</td>\n",
       "      <td>0.000031</td>\n",
       "      <td>False</td>\n",
       "    </tr>\n",
       "    <tr>\n",
       "      <th>2</th>\n",
       "      <td>6.283185</td>\n",
       "      <td>-2.449294e-16</td>\n",
       "      <td>0.000013</td>\n",
       "      <td>False</td>\n",
       "    </tr>\n",
       "    <tr>\n",
       "      <th>3</th>\n",
       "      <td>4.467460</td>\n",
       "      <td>-9.701544e-01</td>\n",
       "      <td>0.000025</td>\n",
       "      <td>False</td>\n",
       "    </tr>\n",
       "    <tr>\n",
       "      <th>4</th>\n",
       "      <td>3.488435</td>\n",
       "      <td>-3.399299e-01</td>\n",
       "      <td>0.000012</td>\n",
       "      <td>False</td>\n",
       "    </tr>\n",
       "  </tbody>\n",
       "</table>\n",
       "</div>"
      ],
      "text/plain": [
       "          x             f  xopt_runtime  xopt_error\n",
       "1  0.284239  2.804267e-01      0.000031       False\n",
       "2  6.283185 -2.449294e-16      0.000013       False\n",
       "3  4.467460 -9.701544e-01      0.000025       False\n",
       "4  3.488435 -3.399299e-01      0.000012       False"
      ]
     },
     "execution_count": 10,
     "metadata": {},
     "output_type": "execute_result"
    }
   ],
   "source": [
    "X.data"
   ]
  },
  {
   "cell_type": "code",
   "execution_count": null,
   "metadata": {
    "collapsed": false,
    "pycharm": {
     "name": "#%%\n"
    }
   },
   "outputs": [],
   "source": []
  },
  {
   "cell_type": "code",
   "execution_count": null,
   "metadata": {},
   "outputs": [],
   "source": []
  }
 ],
 "metadata": {
  "kernelspec": {
   "display_name": "Python 3.9.13 ('xopt-dev')",
   "language": "python",
   "name": "python3"
  },
  "language_info": {
   "codemirror_mode": {
    "name": "ipython",
    "version": 3
   },
   "file_extension": ".py",
   "mimetype": "text/x-python",
   "name": "python",
   "nbconvert_exporter": "python",
   "pygments_lexer": "ipython3",
   "version": "3.9.13"
  },
  "vscode": {
   "interpreter": {
    "hash": "e3625c9a0de9d330a79359c7c8508d3b9f835fd7259469d66057de346104c5ec"
   }
  }
 },
 "nbformat": 4,
 "nbformat_minor": 4
}
