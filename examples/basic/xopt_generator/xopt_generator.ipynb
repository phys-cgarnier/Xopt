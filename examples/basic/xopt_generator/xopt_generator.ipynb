{
 "cells": [
  {
   "cell_type": "markdown",
   "metadata": {},
   "source": [
    "# Working with Xopt generators\n",
    "\n"
   ]
  },
  {
   "cell_type": "code",
   "execution_count": 1,
   "metadata": {
    "execution": {
     "iopub.execute_input": "2023-10-18T23:30:15.477983Z",
     "iopub.status.busy": "2023-10-18T23:30:15.477498Z",
     "iopub.status.idle": "2023-10-18T23:30:17.746915Z",
     "shell.execute_reply": "2023-10-18T23:30:17.745984Z"
    }
   },
   "outputs": [],
   "source": [
    "# Import the class\n",
    "from xopt.generators import generators, get_generator"
   ]
  },
  {
   "cell_type": "code",
   "execution_count": 2,
   "metadata": {
    "execution": {
     "iopub.execute_input": "2023-10-18T23:30:17.750244Z",
     "iopub.status.busy": "2023-10-18T23:30:17.749746Z",
     "iopub.status.idle": "2023-10-18T23:30:17.756406Z",
     "shell.execute_reply": "2023-10-18T23:30:17.755949Z"
    }
   },
   "outputs": [
    {
     "data": {
      "text/plain": [
       "dict_keys(['random', 'extremum_seeking', 'rcds', 'cnsga', 'upper_confidence_bound', 'mobo', 'bayesian_exploration', 'time_dependent_upper_confidence_bound', 'expected_improvement', 'multi_fidelity', 'mggpo', 'neldermead'])"
      ]
     },
     "execution_count": 2,
     "metadata": {},
     "output_type": "execute_result"
    }
   ],
   "source": [
    "# named generators\n",
    "generators.keys()"
   ]
  },
  {
   "cell_type": "code",
   "execution_count": 3,
   "metadata": {
    "collapsed": false,
    "execution": {
     "iopub.execute_input": "2023-10-18T23:30:17.794220Z",
     "iopub.status.busy": "2023-10-18T23:30:17.793562Z",
     "iopub.status.idle": "2023-10-18T23:30:17.796848Z",
     "shell.execute_reply": "2023-10-18T23:30:17.796244Z"
    }
   },
   "outputs": [],
   "source": [
    "# get default options for the upper confidence bound generator\n",
    "generator_type = get_generator(\"upper_confidence_bound\")"
   ]
  },
  {
   "cell_type": "code",
   "execution_count": 4,
   "metadata": {
    "collapsed": false,
    "execution": {
     "iopub.execute_input": "2023-10-18T23:30:17.799351Z",
     "iopub.status.busy": "2023-10-18T23:30:17.799016Z",
     "iopub.status.idle": "2023-10-18T23:30:17.802561Z",
     "shell.execute_reply": "2023-10-18T23:30:17.801966Z"
    }
   },
   "outputs": [],
   "source": [
    "# define vocs for the problem\n",
    "from xopt.vocs import VOCS\n",
    "import math\n",
    "\n",
    "vocs = VOCS(\n",
    "    variables={\"x\": [0, 2 * math.pi]},\n",
    "    objectives={\"f\": \"MINIMIZE\"},\n",
    ")"
   ]
  },
  {
   "cell_type": "code",
   "execution_count": 5,
   "metadata": {
    "collapsed": false,
    "execution": {
     "iopub.execute_input": "2023-10-18T23:30:17.805226Z",
     "iopub.status.busy": "2023-10-18T23:30:17.804695Z",
     "iopub.status.idle": "2023-10-18T23:30:17.807969Z",
     "shell.execute_reply": "2023-10-18T23:30:17.807389Z"
    }
   },
   "outputs": [],
   "source": [
    "# define a test function to optimize\n",
    "import numpy as np\n",
    "\n",
    "\n",
    "def test_function(input_dict):\n",
    "    return {\"f\": np.sin(input_dict[\"x\"])}"
   ]
  },
  {
   "cell_type": "code",
   "execution_count": 6,
   "metadata": {
    "collapsed": false,
    "execution": {
     "iopub.execute_input": "2023-10-18T23:30:17.810649Z",
     "iopub.status.busy": "2023-10-18T23:30:17.810065Z",
     "iopub.status.idle": "2023-10-18T23:30:17.824874Z",
     "shell.execute_reply": "2023-10-18T23:30:17.824276Z"
    }
   },
   "outputs": [
    {
     "data": {
      "text/plain": [
       "\n",
       "            Xopt\n",
       "________________________________\n",
       "Version: 0+untagged.1.gb759905\n",
       "Data size: 0\n",
       "Config as YAML:\n",
       "dump_file: null\n",
       "evaluator:\n",
       "  function: __main__.test_function\n",
       "  function_kwargs: {}\n",
       "  max_workers: 1\n",
       "  vectorized: false\n",
       "generator:\n",
       "  beta: 2.0\n",
       "  computation_time: null\n",
       "  fixed_features: null\n",
       "  gp_constructor:\n",
       "    covar_modules: {}\n",
       "    mean_modules: {}\n",
       "    name: standard\n",
       "    trainable_mean_keys: []\n",
       "    use_low_noise_prior: true\n",
       "  max_travel_distances: null\n",
       "  model: null\n",
       "  n_candidates: 1\n",
       "  n_monte_carlo_samples: 128\n",
       "  name: upper_confidence_bound\n",
       "  numerical_optimizer:\n",
       "    max_iter: 2000\n",
       "    n_restarts: 20\n",
       "    name: LBFGS\n",
       "  turbo_controller: null\n",
       "  use_cuda: false\n",
       "max_evaluations: null\n",
       "serialize_inline: false\n",
       "serialize_torch: false\n",
       "strict: true\n",
       "vocs:\n",
       "  constants: {}\n",
       "  constraints: {}\n",
       "  objectives:\n",
       "    f: MINIMIZE\n",
       "  observables: []\n",
       "  variables:\n",
       "    x:\n",
       "    - 0.0\n",
       "    - 6.283185307179586\n"
      ]
     },
     "execution_count": 6,
     "metadata": {},
     "output_type": "execute_result"
    }
   ],
   "source": [
    "# create xopt evaluator and run the optimization\n",
    "from xopt import Evaluator, Xopt\n",
    "\n",
    "evaluator = Evaluator(function=test_function)\n",
    "generator = generator_type(vocs=vocs)\n",
    "X = Xopt(generator=generator, evaluator=evaluator, vocs=vocs)\n",
    "X"
   ]
  },
  {
   "cell_type": "code",
   "execution_count": 7,
   "metadata": {
    "collapsed": false,
    "execution": {
     "iopub.execute_input": "2023-10-18T23:30:17.827712Z",
     "iopub.status.busy": "2023-10-18T23:30:17.827198Z",
     "iopub.status.idle": "2023-10-18T23:30:18.357560Z",
     "shell.execute_reply": "2023-10-18T23:30:18.356997Z"
    }
   },
   "outputs": [],
   "source": [
    "# run the optimization for a couple of iterations (see bayes_opt folder for\n",
    "# more examples of ucb)\n",
    "X.random_evaluate(2)\n",
    "for i in range(4):\n",
    "    X.step()"
   ]
  },
  {
   "cell_type": "code",
   "execution_count": 8,
   "metadata": {
    "collapsed": false,
    "execution": {
     "iopub.execute_input": "2023-10-18T23:30:18.361363Z",
     "iopub.status.busy": "2023-10-18T23:30:18.360100Z",
     "iopub.status.idle": "2023-10-18T23:30:18.371526Z",
     "shell.execute_reply": "2023-10-18T23:30:18.371037Z"
    }
   },
   "outputs": [
    {
     "data": {
      "text/html": [
       "<div>\n",
       "<style scoped>\n",
       "    .dataframe tbody tr th:only-of-type {\n",
       "        vertical-align: middle;\n",
       "    }\n",
       "\n",
       "    .dataframe tbody tr th {\n",
       "        vertical-align: top;\n",
       "    }\n",
       "\n",
       "    .dataframe thead th {\n",
       "        text-align: right;\n",
       "    }\n",
       "</style>\n",
       "<table border=\"1\" class=\"dataframe\">\n",
       "  <thead>\n",
       "    <tr style=\"text-align: right;\">\n",
       "      <th></th>\n",
       "      <th>x</th>\n",
       "      <th>f</th>\n",
       "      <th>xopt_runtime</th>\n",
       "      <th>xopt_error</th>\n",
       "    </tr>\n",
       "  </thead>\n",
       "  <tbody>\n",
       "    <tr>\n",
       "      <th>0</th>\n",
       "      <td>2.271051</td>\n",
       "      <td>7.646781e-01</td>\n",
       "      <td>0.000015</td>\n",
       "      <td>False</td>\n",
       "    </tr>\n",
       "    <tr>\n",
       "      <th>1</th>\n",
       "      <td>4.081348</td>\n",
       "      <td>-8.074139e-01</td>\n",
       "      <td>0.000002</td>\n",
       "      <td>False</td>\n",
       "    </tr>\n",
       "    <tr>\n",
       "      <th>3</th>\n",
       "      <td>6.283185</td>\n",
       "      <td>-2.449294e-16</td>\n",
       "      <td>0.000010</td>\n",
       "      <td>False</td>\n",
       "    </tr>\n",
       "    <tr>\n",
       "      <th>4</th>\n",
       "      <td>4.890479</td>\n",
       "      <td>-9.841839e-01</td>\n",
       "      <td>0.000010</td>\n",
       "      <td>False</td>\n",
       "    </tr>\n",
       "    <tr>\n",
       "      <th>5</th>\n",
       "      <td>4.584315</td>\n",
       "      <td>-9.918098e-01</td>\n",
       "      <td>0.000010</td>\n",
       "      <td>False</td>\n",
       "    </tr>\n",
       "    <tr>\n",
       "      <th>6</th>\n",
       "      <td>4.713241</td>\n",
       "      <td>-9.999996e-01</td>\n",
       "      <td>0.000009</td>\n",
       "      <td>False</td>\n",
       "    </tr>\n",
       "  </tbody>\n",
       "</table>\n",
       "</div>"
      ],
      "text/plain": [
       "          x             f  xopt_runtime  xopt_error\n",
       "0  2.271051  7.646781e-01      0.000015       False\n",
       "1  4.081348 -8.074139e-01      0.000002       False\n",
       "3  6.283185 -2.449294e-16      0.000010       False\n",
       "4  4.890479 -9.841839e-01      0.000010       False\n",
       "5  4.584315 -9.918098e-01      0.000010       False\n",
       "6  4.713241 -9.999996e-01      0.000009       False"
      ]
     },
     "execution_count": 8,
     "metadata": {},
     "output_type": "execute_result"
    }
   ],
   "source": [
    "X.data"
   ]
  },
  {
   "cell_type": "code",
   "execution_count": 8,
   "metadata": {
    "collapsed": false
   },
   "outputs": [],
   "source": []
  },
  {
   "cell_type": "code",
   "execution_count": 8,
   "metadata": {},
   "outputs": [],
   "source": []
  }
 ],
 "metadata": {
  "kernelspec": {
   "display_name": "Python 3.9.13 ('xopt-dev')",
   "language": "python",
   "name": "python3"
  },
  "language_info": {
   "codemirror_mode": {
    "name": "ipython",
    "version": 3
   },
   "file_extension": ".py",
   "mimetype": "text/x-python",
   "name": "python",
   "nbconvert_exporter": "python",
   "pygments_lexer": "ipython3",
   "version": "3.9.18"
  },
  "vscode": {
   "interpreter": {
    "hash": "e3625c9a0de9d330a79359c7c8508d3b9f835fd7259469d66057de346104c5ec"
   }
  }
 },
 "nbformat": 4,
 "nbformat_minor": 4
}
