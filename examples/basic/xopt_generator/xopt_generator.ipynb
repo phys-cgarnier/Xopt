{
 "cells": [
  {
   "cell_type": "markdown",
   "metadata": {},
   "source": [
    "# Working with Xopt generators\n",
    "\n"
   ]
  },
  {
   "cell_type": "code",
   "execution_count": 1,
   "metadata": {
    "ExecuteTime": {
     "end_time": "2024-04-02T14:38:03.984509500Z",
     "start_time": "2024-04-02T14:37:58.291483Z"
    },
    "execution": {
     "iopub.execute_input": "2024-04-15T19:00:19.996758Z",
     "iopub.status.busy": "2024-04-15T19:00:19.996335Z",
     "iopub.status.idle": "2024-04-15T19:00:21.494352Z",
     "shell.execute_reply": "2024-04-15T19:00:21.493723Z"
    }
   },
   "outputs": [],
   "source": [
    "# Import the class\n",
    "from xopt.generators import generators, get_generator"
   ]
  },
  {
   "cell_type": "code",
   "execution_count": 2,
   "metadata": {
    "ExecuteTime": {
     "end_time": "2024-04-02T14:38:04.059481Z",
     "start_time": "2024-04-02T14:38:04.043479100Z"
    },
    "execution": {
     "iopub.execute_input": "2024-04-15T19:00:21.497052Z",
     "iopub.status.busy": "2024-04-15T19:00:21.496788Z",
     "iopub.status.idle": "2024-04-15T19:00:21.502520Z",
     "shell.execute_reply": "2024-04-15T19:00:21.501953Z"
    }
   },
   "outputs": [
    {
     "data": {
      "text/plain": [
       "dict_keys(['random'])"
      ]
     },
     "execution_count": 2,
     "metadata": {},
     "output_type": "execute_result"
    }
   ],
   "source": [
    "# named generators\n",
    "generators.keys()"
   ]
  },
  {
   "cell_type": "code",
   "execution_count": 3,
   "metadata": {
    "ExecuteTime": {
     "end_time": "2024-04-02T14:38:06.698513600Z",
     "start_time": "2024-04-02T14:38:04.061480600Z"
    },
    "collapsed": false,
    "execution": {
     "iopub.execute_input": "2024-04-15T19:00:21.532774Z",
     "iopub.status.busy": "2024-04-15T19:00:21.532536Z",
     "iopub.status.idle": "2024-04-15T19:00:22.153645Z",
     "shell.execute_reply": "2024-04-15T19:00:22.152971Z"
    }
   },
   "outputs": [],
   "source": [
    "# get default options for the upper confidence bound generator\n",
    "generator_type = get_generator(\"upper_confidence_bound\")"
   ]
  },
  {
   "cell_type": "code",
   "execution_count": 4,
   "metadata": {
    "ExecuteTime": {
     "end_time": "2024-04-02T14:38:06.713510Z",
     "start_time": "2024-04-02T14:38:06.701481300Z"
    },
    "collapsed": false,
    "execution": {
     "iopub.execute_input": "2024-04-15T19:00:22.156378Z",
     "iopub.status.busy": "2024-04-15T19:00:22.156093Z",
     "iopub.status.idle": "2024-04-15T19:00:22.159599Z",
     "shell.execute_reply": "2024-04-15T19:00:22.159112Z"
    }
   },
   "outputs": [],
   "source": [
    "# define vocs for the problem\n",
    "from xopt.vocs import VOCS\n",
    "import math\n",
    "\n",
    "vocs = VOCS(\n",
    "    variables={\"x\": [0, 2 * math.pi]},\n",
    "    objectives={\"f\": \"MINIMIZE\"},\n",
    ")"
   ]
  },
  {
   "cell_type": "code",
   "execution_count": 5,
   "metadata": {
    "ExecuteTime": {
     "end_time": "2024-04-02T14:38:06.732510500Z",
     "start_time": "2024-04-02T14:38:06.716506100Z"
    },
    "collapsed": false,
    "execution": {
     "iopub.execute_input": "2024-04-15T19:00:22.161595Z",
     "iopub.status.busy": "2024-04-15T19:00:22.161410Z",
     "iopub.status.idle": "2024-04-15T19:00:22.164344Z",
     "shell.execute_reply": "2024-04-15T19:00:22.163879Z"
    }
   },
   "outputs": [],
   "source": [
    "# define a test function to optimize\n",
    "import numpy as np\n",
    "\n",
    "\n",
    "def test_function(input_dict):\n",
    "    return {\"f\": np.sin(input_dict[\"x\"])}"
   ]
  },
  {
   "cell_type": "code",
   "execution_count": 6,
   "metadata": {
    "ExecuteTime": {
     "end_time": "2024-04-02T14:38:06.787509400Z",
     "start_time": "2024-04-02T14:38:06.730483400Z"
    },
    "collapsed": false,
    "execution": {
     "iopub.execute_input": "2024-04-15T19:00:22.166338Z",
     "iopub.status.busy": "2024-04-15T19:00:22.166161Z",
     "iopub.status.idle": "2024-04-15T19:00:22.180838Z",
     "shell.execute_reply": "2024-04-15T19:00:22.180339Z"
    }
   },
   "outputs": [
    {
     "data": {
      "text/plain": [
       "\n",
       "            Xopt\n",
       "________________________________\n",
       "Version: 0+untagged.1.ga613b00\n",
       "Data size: 0\n",
       "Config as YAML:\n",
       "dump_file: null\n",
       "evaluator:\n",
       "  function: __main__.test_function\n",
       "  function_kwargs: {}\n",
       "  max_workers: 1\n",
       "  vectorized: false\n",
       "generator:\n",
       "  beta: 2.0\n",
       "  computation_time: null\n",
       "  fixed_features: null\n",
       "  gp_constructor:\n",
       "    covar_modules: {}\n",
       "    custom_noise_prior: null\n",
       "    mean_modules: {}\n",
       "    name: standard\n",
       "    trainable_mean_keys: []\n",
       "    transform_inputs: true\n",
       "    use_low_noise_prior: true\n",
       "  log_transform_acquisition_function: false\n",
       "  max_travel_distances: null\n",
       "  model: null\n",
       "  n_candidates: 1\n",
       "  n_interpolate_points: null\n",
       "  n_monte_carlo_samples: 128\n",
       "  name: upper_confidence_bound\n",
       "  numerical_optimizer:\n",
       "    max_iter: 2000\n",
       "    max_time: null\n",
       "    n_restarts: 20\n",
       "    name: LBFGS\n",
       "  supports_batch_generation: true\n",
       "  turbo_controller: null\n",
       "  use_cuda: false\n",
       "max_evaluations: null\n",
       "serialize_inline: false\n",
       "serialize_torch: false\n",
       "strict: true\n",
       "vocs:\n",
       "  constants: {}\n",
       "  constraints: {}\n",
       "  objectives:\n",
       "    f: MINIMIZE\n",
       "  observables: []\n",
       "  variables:\n",
       "    x:\n",
       "    - 0.0\n",
       "    - 6.283185307179586\n"
      ]
     },
     "execution_count": 6,
     "metadata": {},
     "output_type": "execute_result"
    }
   ],
   "source": [
    "# create xopt evaluator and run the optimization\n",
    "from xopt import Evaluator, Xopt\n",
    "\n",
    "evaluator = Evaluator(function=test_function)\n",
    "generator = generator_type(vocs=vocs)\n",
    "X = Xopt(generator=generator, evaluator=evaluator, vocs=vocs)\n",
    "X"
   ]
  },
  {
   "cell_type": "code",
   "execution_count": 7,
   "metadata": {
    "ExecuteTime": {
     "end_time": "2024-04-02T14:38:07.329478900Z",
     "start_time": "2024-04-02T14:38:06.760517Z"
    },
    "collapsed": false,
    "execution": {
     "iopub.execute_input": "2024-04-15T19:00:22.183027Z",
     "iopub.status.busy": "2024-04-15T19:00:22.182840Z",
     "iopub.status.idle": "2024-04-15T19:00:22.635133Z",
     "shell.execute_reply": "2024-04-15T19:00:22.634517Z"
    }
   },
   "outputs": [],
   "source": [
    "# run the optimization for a couple of iterations (see bayes_opt folder for\n",
    "# more examples of ucb)\n",
    "X.random_evaluate(2)\n",
    "for i in range(4):\n",
    "    X.step()"
   ]
  },
  {
   "cell_type": "code",
   "execution_count": 8,
   "metadata": {
    "ExecuteTime": {
     "end_time": "2024-04-02T14:38:07.343479300Z",
     "start_time": "2024-04-02T14:38:07.330479700Z"
    },
    "collapsed": false,
    "execution": {
     "iopub.execute_input": "2024-04-15T19:00:22.638178Z",
     "iopub.status.busy": "2024-04-15T19:00:22.637901Z",
     "iopub.status.idle": "2024-04-15T19:00:22.646471Z",
     "shell.execute_reply": "2024-04-15T19:00:22.645870Z"
    }
   },
   "outputs": [
    {
     "data": {
      "text/html": [
       "<div>\n",
       "<style scoped>\n",
       "    .dataframe tbody tr th:only-of-type {\n",
       "        vertical-align: middle;\n",
       "    }\n",
       "\n",
       "    .dataframe tbody tr th {\n",
       "        vertical-align: top;\n",
       "    }\n",
       "\n",
       "    .dataframe thead th {\n",
       "        text-align: right;\n",
       "    }\n",
       "</style>\n",
       "<table border=\"1\" class=\"dataframe\">\n",
       "  <thead>\n",
       "    <tr style=\"text-align: right;\">\n",
       "      <th></th>\n",
       "      <th>x</th>\n",
       "      <th>f</th>\n",
       "      <th>xopt_runtime</th>\n",
       "      <th>xopt_error</th>\n",
       "    </tr>\n",
       "  </thead>\n",
       "  <tbody>\n",
       "    <tr>\n",
       "      <th>0</th>\n",
       "      <td>3.081230</td>\n",
       "      <td>6.032624e-02</td>\n",
       "      <td>0.000017</td>\n",
       "      <td>False</td>\n",
       "    </tr>\n",
       "    <tr>\n",
       "      <th>1</th>\n",
       "      <td>2.579170</td>\n",
       "      <td>5.332369e-01</td>\n",
       "      <td>0.000002</td>\n",
       "      <td>False</td>\n",
       "    </tr>\n",
       "    <tr>\n",
       "      <th>2</th>\n",
       "      <td>4.711729</td>\n",
       "      <td>-9.999998e-01</td>\n",
       "      <td>0.000013</td>\n",
       "      <td>False</td>\n",
       "    </tr>\n",
       "    <tr>\n",
       "      <th>3</th>\n",
       "      <td>6.283185</td>\n",
       "      <td>-2.449294e-16</td>\n",
       "      <td>0.000007</td>\n",
       "      <td>False</td>\n",
       "    </tr>\n",
       "    <tr>\n",
       "      <th>4</th>\n",
       "      <td>4.318494</td>\n",
       "      <td>-9.234213e-01</td>\n",
       "      <td>0.000008</td>\n",
       "      <td>False</td>\n",
       "    </tr>\n",
       "    <tr>\n",
       "      <th>5</th>\n",
       "      <td>4.860742</td>\n",
       "      <td>-9.890158e-01</td>\n",
       "      <td>0.000007</td>\n",
       "      <td>False</td>\n",
       "    </tr>\n",
       "  </tbody>\n",
       "</table>\n",
       "</div>"
      ],
      "text/plain": [
       "          x             f  xopt_runtime  xopt_error\n",
       "0  3.081230  6.032624e-02      0.000017       False\n",
       "1  2.579170  5.332369e-01      0.000002       False\n",
       "2  4.711729 -9.999998e-01      0.000013       False\n",
       "3  6.283185 -2.449294e-16      0.000007       False\n",
       "4  4.318494 -9.234213e-01      0.000008       False\n",
       "5  4.860742 -9.890158e-01      0.000007       False"
      ]
     },
     "execution_count": 8,
     "metadata": {},
     "output_type": "execute_result"
    }
   ],
   "source": [
    "X.data"
   ]
  },
  {
   "cell_type": "markdown",
   "metadata": {
    "collapsed": false
   },
   "source": [
    "## Write your own generator\n",
    "Here we write a generator that generates the same point every time."
   ]
  },
  {
   "cell_type": "code",
   "execution_count": 9,
   "metadata": {
    "ExecuteTime": {
     "end_time": "2024-04-02T14:38:30.157799200Z",
     "start_time": "2024-04-02T14:38:30.148798400Z"
    },
    "execution": {
     "iopub.execute_input": "2024-04-15T19:00:22.649011Z",
     "iopub.status.busy": "2024-04-15T19:00:22.648602Z",
     "iopub.status.idle": "2024-04-15T19:00:22.664438Z",
     "shell.execute_reply": "2024-04-15T19:00:22.663857Z"
    }
   },
   "outputs": [],
   "source": [
    "from xopt import Generator\n",
    "\n",
    "class MyGenerator(Generator):\n",
    "    def generate(self, n_candidates) -> list[dict]:\n",
    "        points = [{\"x\": 1.0}] * n_candidates\n",
    "        return points\n",
    "\n",
    "my_generator = MyGenerator(vocs=vocs)\n",
    "X2 = Xopt(evaluator=evaluator, vocs=vocs, generator=my_generator)\n",
    "\n",
    "for i in range(4):\n",
    "    X2.step()"
   ]
  },
  {
   "cell_type": "code",
   "execution_count": 10,
   "metadata": {
    "ExecuteTime": {
     "end_time": "2024-04-02T14:38:31.306804300Z",
     "start_time": "2024-04-02T14:38:31.288798900Z"
    },
    "collapsed": false,
    "execution": {
     "iopub.execute_input": "2024-04-15T19:00:22.666950Z",
     "iopub.status.busy": "2024-04-15T19:00:22.666612Z",
     "iopub.status.idle": "2024-04-15T19:00:22.674084Z",
     "shell.execute_reply": "2024-04-15T19:00:22.673506Z"
    }
   },
   "outputs": [
    {
     "data": {
      "text/html": [
       "<div>\n",
       "<style scoped>\n",
       "    .dataframe tbody tr th:only-of-type {\n",
       "        vertical-align: middle;\n",
       "    }\n",
       "\n",
       "    .dataframe tbody tr th {\n",
       "        vertical-align: top;\n",
       "    }\n",
       "\n",
       "    .dataframe thead th {\n",
       "        text-align: right;\n",
       "    }\n",
       "</style>\n",
       "<table border=\"1\" class=\"dataframe\">\n",
       "  <thead>\n",
       "    <tr style=\"text-align: right;\">\n",
       "      <th></th>\n",
       "      <th>x</th>\n",
       "      <th>f</th>\n",
       "      <th>xopt_runtime</th>\n",
       "      <th>xopt_error</th>\n",
       "    </tr>\n",
       "  </thead>\n",
       "  <tbody>\n",
       "    <tr>\n",
       "      <th>0</th>\n",
       "      <td>1.0</td>\n",
       "      <td>0.841471</td>\n",
       "      <td>0.000007</td>\n",
       "      <td>False</td>\n",
       "    </tr>\n",
       "    <tr>\n",
       "      <th>1</th>\n",
       "      <td>1.0</td>\n",
       "      <td>0.841471</td>\n",
       "      <td>0.000005</td>\n",
       "      <td>False</td>\n",
       "    </tr>\n",
       "    <tr>\n",
       "      <th>2</th>\n",
       "      <td>1.0</td>\n",
       "      <td>0.841471</td>\n",
       "      <td>0.000005</td>\n",
       "      <td>False</td>\n",
       "    </tr>\n",
       "    <tr>\n",
       "      <th>3</th>\n",
       "      <td>1.0</td>\n",
       "      <td>0.841471</td>\n",
       "      <td>0.000005</td>\n",
       "      <td>False</td>\n",
       "    </tr>\n",
       "  </tbody>\n",
       "</table>\n",
       "</div>"
      ],
      "text/plain": [
       "     x         f  xopt_runtime  xopt_error\n",
       "0  1.0  0.841471      0.000007       False\n",
       "1  1.0  0.841471      0.000005       False\n",
       "2  1.0  0.841471      0.000005       False\n",
       "3  1.0  0.841471      0.000005       False"
      ]
     },
     "execution_count": 10,
     "metadata": {},
     "output_type": "execute_result"
    }
   ],
   "source": [
    "X2.data"
   ]
  },
  {
   "cell_type": "code",
   "execution_count": null,
   "metadata": {
    "collapsed": false
   },
   "outputs": [],
   "source": []
  }
 ],
 "metadata": {
  "kernelspec": {
   "display_name": "Python 3.9.13 ('xopt-dev')",
   "language": "python",
   "name": "python3"
  },
  "language_info": {
   "codemirror_mode": {
    "name": "ipython",
    "version": 3
   },
   "file_extension": ".py",
   "mimetype": "text/x-python",
   "name": "python",
   "nbconvert_exporter": "python",
   "pygments_lexer": "ipython3",
   "version": "3.9.19"
  },
  "vscode": {
   "interpreter": {
    "hash": "e3625c9a0de9d330a79359c7c8508d3b9f835fd7259469d66057de346104c5ec"
   }
  }
 },
 "nbformat": 4,
 "nbformat_minor": 4
}
