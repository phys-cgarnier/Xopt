{
 "cells": [
  {
   "cell_type": "markdown",
   "metadata": {
    "pycharm": {
     "name": "#%% md\n"
    }
   },
   "source": [
    "# Working with Xopt generators\n",
    "\n"
   ]
  },
  {
   "cell_type": "code",
   "execution_count": 1,
   "metadata": {
    "execution": {
     "iopub.execute_input": "2023-05-02T16:21:44.636893Z",
     "iopub.status.busy": "2023-05-02T16:21:44.636301Z",
     "iopub.status.idle": "2023-05-02T16:21:46.918925Z",
     "shell.execute_reply": "2023-05-02T16:21:46.917854Z"
    },
    "pycharm": {
     "name": "#%%\n"
    }
   },
   "outputs": [],
   "source": [
    "# Import the class\n",
    "from xopt.generators import generators, generator_default_options"
   ]
  },
  {
   "cell_type": "code",
   "execution_count": 2,
   "metadata": {
    "execution": {
     "iopub.execute_input": "2023-05-02T16:21:46.923893Z",
     "iopub.status.busy": "2023-05-02T16:21:46.923539Z",
     "iopub.status.idle": "2023-05-02T16:21:46.935846Z",
     "shell.execute_reply": "2023-05-02T16:21:46.935252Z"
    },
    "pycharm": {
     "name": "#%%\n"
    }
   },
   "outputs": [
    {
     "data": {
      "text/plain": [
       "dict_keys(['random', 'extremum_seeking', 'mggpo', 'rcds', 'cnsga', 'upper_confidence_bound', 'mobo', 'bayesian_exploration', 'time_dependent_upper_confidence_bound', 'expected_improvement', 'multi_fidelity', 'neldermead'])"
      ]
     },
     "execution_count": 2,
     "metadata": {},
     "output_type": "execute_result"
    }
   ],
   "source": [
    "# named generators\n",
    "generators.keys()"
   ]
  },
  {
   "cell_type": "code",
   "execution_count": 3,
   "metadata": {
    "collapsed": false,
    "execution": {
     "iopub.execute_input": "2023-05-02T16:21:46.975118Z",
     "iopub.status.busy": "2023-05-02T16:21:46.974550Z",
     "iopub.status.idle": "2023-05-02T16:21:46.977866Z",
     "shell.execute_reply": "2023-05-02T16:21:46.977303Z"
    },
    "pycharm": {
     "name": "#%%\n"
    }
   },
   "outputs": [],
   "source": [
    "# get default options for the upper confidence bound generator\n",
    "options = generator_default_options[\"upper_confidence_bound\"]"
   ]
  },
  {
   "cell_type": "code",
   "execution_count": 4,
   "metadata": {
    "collapsed": false,
    "execution": {
     "iopub.execute_input": "2023-05-02T16:21:46.981370Z",
     "iopub.status.busy": "2023-05-02T16:21:46.980804Z",
     "iopub.status.idle": "2023-05-02T16:21:46.984155Z",
     "shell.execute_reply": "2023-05-02T16:21:46.983436Z"
    },
    "pycharm": {
     "name": "#%%\n"
    }
   },
   "outputs": [],
   "source": [
    "# modify the UCB beta parameter and the number of initial samples\n",
    "options.n_initial = 1\n",
    "options.acq.beta = 1.0"
   ]
  },
  {
   "cell_type": "code",
   "execution_count": 5,
   "metadata": {
    "collapsed": false,
    "execution": {
     "iopub.execute_input": "2023-05-02T16:21:46.987377Z",
     "iopub.status.busy": "2023-05-02T16:21:46.987012Z",
     "iopub.status.idle": "2023-05-02T16:21:46.992643Z",
     "shell.execute_reply": "2023-05-02T16:21:46.991896Z"
    },
    "pycharm": {
     "name": "#%%\n"
    }
   },
   "outputs": [],
   "source": [
    "# define vocs for the problem\n",
    "from xopt.vocs import VOCS\n",
    "import math\n",
    "\n",
    "vocs = VOCS(\n",
    "    variables={\"x\": [0, 2 * math.pi]},\n",
    "    objectives={\"f\": \"MINIMIZE\"},\n",
    ")"
   ]
  },
  {
   "cell_type": "code",
   "execution_count": 6,
   "metadata": {
    "collapsed": false,
    "execution": {
     "iopub.execute_input": "2023-05-02T16:21:46.995925Z",
     "iopub.status.busy": "2023-05-02T16:21:46.995593Z",
     "iopub.status.idle": "2023-05-02T16:21:47.003163Z",
     "shell.execute_reply": "2023-05-02T16:21:47.002445Z"
    },
    "pycharm": {
     "name": "#%%\n"
    }
   },
   "outputs": [
    {
     "data": {
      "text/plain": [
       "UCBOptions(optim=OptimOptions(num_restarts=20, raw_samples=20, sequential=True, max_travel_distances=None, use_turbo=False), acq=UpperConfidenceBoundOptions(proximal_lengthscales=None, use_transformed_proximal_weights=True, monte_carlo_samples=128, beta=1.0), model=ModelOptions(name='standard', custom_constructor=None, use_low_noise_prior=True, covar_modules={}, mean_modules={}), n_initial=1, use_cuda=False)"
      ]
     },
     "execution_count": 6,
     "metadata": {},
     "output_type": "execute_result"
    }
   ],
   "source": [
    "# create a new generator\n",
    "generator = generators[\"upper_confidence_bound\"](vocs=vocs, options=options)\n",
    "generator.options"
   ]
  },
  {
   "cell_type": "code",
   "execution_count": 7,
   "metadata": {
    "collapsed": false,
    "execution": {
     "iopub.execute_input": "2023-05-02T16:21:47.006176Z",
     "iopub.status.busy": "2023-05-02T16:21:47.005749Z",
     "iopub.status.idle": "2023-05-02T16:21:47.009106Z",
     "shell.execute_reply": "2023-05-02T16:21:47.008423Z"
    },
    "pycharm": {
     "name": "#%%\n"
    }
   },
   "outputs": [],
   "source": [
    "# define a test function to optimize\n",
    "import numpy as np\n",
    "\n",
    "\n",
    "def test_function(input_dict):\n",
    "    return {\"f\": np.sin(input_dict[\"x\"])}"
   ]
  },
  {
   "cell_type": "code",
   "execution_count": 8,
   "metadata": {
    "collapsed": false,
    "execution": {
     "iopub.execute_input": "2023-05-02T16:21:47.011899Z",
     "iopub.status.busy": "2023-05-02T16:21:47.011453Z",
     "iopub.status.idle": "2023-05-02T16:21:47.027426Z",
     "shell.execute_reply": "2023-05-02T16:21:47.026073Z"
    },
    "pycharm": {
     "name": "#%%\n"
    }
   },
   "outputs": [
    {
     "data": {
      "text/plain": [
       "XoptOptions(asynch=False, strict=False, dump_file=None, max_evaluations=None)"
      ]
     },
     "execution_count": 8,
     "metadata": {},
     "output_type": "execute_result"
    }
   ],
   "source": [
    "# create xopt evaluator and run the optimization\n",
    "from xopt import Evaluator, Xopt\n",
    "\n",
    "evaluator = Evaluator(function=test_function)\n",
    "\n",
    "X = Xopt(generator=generator, evaluator=evaluator, vocs=vocs)\n",
    "X.options"
   ]
  },
  {
   "cell_type": "code",
   "execution_count": 9,
   "metadata": {
    "collapsed": false,
    "execution": {
     "iopub.execute_input": "2023-05-02T16:21:47.030593Z",
     "iopub.status.busy": "2023-05-02T16:21:47.030049Z",
     "iopub.status.idle": "2023-05-02T16:21:47.442788Z",
     "shell.execute_reply": "2023-05-02T16:21:47.442117Z"
    },
    "pycharm": {
     "name": "#%%\n"
    }
   },
   "outputs": [],
   "source": [
    "# run the optimization for a couple of iterations (see bayes_opt folder for\n",
    "# more examples of ucb)\n",
    "for i in range(4):\n",
    "    X.step()"
   ]
  },
  {
   "cell_type": "code",
   "execution_count": 10,
   "metadata": {
    "collapsed": false,
    "execution": {
     "iopub.execute_input": "2023-05-02T16:21:47.446599Z",
     "iopub.status.busy": "2023-05-02T16:21:47.446076Z",
     "iopub.status.idle": "2023-05-02T16:21:47.455462Z",
     "shell.execute_reply": "2023-05-02T16:21:47.454999Z"
    },
    "pycharm": {
     "name": "#%%\n"
    }
   },
   "outputs": [
    {
     "data": {
      "text/html": [
       "<div>\n",
       "<style scoped>\n",
       "    .dataframe tbody tr th:only-of-type {\n",
       "        vertical-align: middle;\n",
       "    }\n",
       "\n",
       "    .dataframe tbody tr th {\n",
       "        vertical-align: top;\n",
       "    }\n",
       "\n",
       "    .dataframe thead th {\n",
       "        text-align: right;\n",
       "    }\n",
       "</style>\n",
       "<table border=\"1\" class=\"dataframe\">\n",
       "  <thead>\n",
       "    <tr style=\"text-align: right;\">\n",
       "      <th></th>\n",
       "      <th>x</th>\n",
       "      <th>f</th>\n",
       "      <th>xopt_runtime</th>\n",
       "      <th>xopt_error</th>\n",
       "    </tr>\n",
       "  </thead>\n",
       "  <tbody>\n",
       "    <tr>\n",
       "      <th>1</th>\n",
       "      <td>6.092191</td>\n",
       "      <td>-0.189835</td>\n",
       "      <td>0.000011</td>\n",
       "      <td>False</td>\n",
       "    </tr>\n",
       "    <tr>\n",
       "      <th>2</th>\n",
       "      <td>0.000000</td>\n",
       "      <td>0.000000</td>\n",
       "      <td>0.000011</td>\n",
       "      <td>False</td>\n",
       "    </tr>\n",
       "    <tr>\n",
       "      <th>3</th>\n",
       "      <td>4.282121</td>\n",
       "      <td>-0.908854</td>\n",
       "      <td>0.000010</td>\n",
       "      <td>False</td>\n",
       "    </tr>\n",
       "    <tr>\n",
       "      <th>4</th>\n",
       "      <td>3.233432</td>\n",
       "      <td>-0.091711</td>\n",
       "      <td>0.000009</td>\n",
       "      <td>False</td>\n",
       "    </tr>\n",
       "  </tbody>\n",
       "</table>\n",
       "</div>"
      ],
      "text/plain": [
       "          x         f  xopt_runtime  xopt_error\n",
       "1  6.092191 -0.189835      0.000011       False\n",
       "2  0.000000  0.000000      0.000011       False\n",
       "3  4.282121 -0.908854      0.000010       False\n",
       "4  3.233432 -0.091711      0.000009       False"
      ]
     },
     "execution_count": 10,
     "metadata": {},
     "output_type": "execute_result"
    }
   ],
   "source": [
    "X.data"
   ]
  },
  {
   "cell_type": "code",
   "execution_count": null,
   "metadata": {
    "collapsed": false,
    "pycharm": {
     "name": "#%%\n"
    }
   },
   "outputs": [],
   "source": []
  },
  {
   "cell_type": "code",
   "execution_count": null,
   "metadata": {},
   "outputs": [],
   "source": []
  }
 ],
 "metadata": {
  "kernelspec": {
   "display_name": "Python 3.9.13 ('xopt-dev')",
   "language": "python",
   "name": "python3"
  },
  "language_info": {
   "codemirror_mode": {
    "name": "ipython",
    "version": 3
   },
   "file_extension": ".py",
   "mimetype": "text/x-python",
   "name": "python",
   "nbconvert_exporter": "python",
   "pygments_lexer": "ipython3",
   "version": "3.9.16"
  },
  "vscode": {
   "interpreter": {
    "hash": "e3625c9a0de9d330a79359c7c8508d3b9f835fd7259469d66057de346104c5ec"
   }
  }
 },
 "nbformat": 4,
 "nbformat_minor": 4
}
