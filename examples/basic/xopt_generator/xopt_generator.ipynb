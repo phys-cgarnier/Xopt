{
 "cells": [
  {
   "cell_type": "markdown",
   "metadata": {
    "pycharm": {
     "name": "#%% md\n"
    }
   },
   "source": [
    "# Working with Xopt generators\n",
    "\n"
   ]
  },
  {
   "cell_type": "code",
   "execution_count": 1,
   "metadata": {
    "execution": {
     "iopub.execute_input": "2023-04-19T16:52:56.495722Z",
     "iopub.status.busy": "2023-04-19T16:52:56.495433Z",
     "iopub.status.idle": "2023-04-19T16:52:59.629246Z",
     "shell.execute_reply": "2023-04-19T16:52:59.628378Z"
    },
    "pycharm": {
     "name": "#%%\n"
    }
   },
   "outputs": [],
   "source": [
    "# Import the class\n",
    "from xopt.generators import generators, generator_default_options"
   ]
  },
  {
   "cell_type": "code",
   "execution_count": 2,
   "metadata": {
    "execution": {
     "iopub.execute_input": "2023-04-19T16:52:59.634100Z",
     "iopub.status.busy": "2023-04-19T16:52:59.633320Z",
     "iopub.status.idle": "2023-04-19T16:52:59.640790Z",
     "shell.execute_reply": "2023-04-19T16:52:59.640080Z"
    },
    "pycharm": {
     "name": "#%%\n"
    }
   },
   "outputs": [
    {
     "data": {
      "text/plain": [
       "dict_keys(['random', 'extremum_seeking', 'mggpo', 'rcds', 'cnsga', 'upper_confidence_bound', 'mobo', 'bayesian_exploration', 'time_dependent_upper_confidence_bound', 'expected_improvement', 'multi_fidelity', 'neldermead'])"
      ]
     },
     "execution_count": 2,
     "metadata": {},
     "output_type": "execute_result"
    }
   ],
   "source": [
    "# named generators\n",
    "generators.keys()"
   ]
  },
  {
   "cell_type": "code",
   "execution_count": 3,
   "metadata": {
    "collapsed": false,
    "execution": {
     "iopub.execute_input": "2023-04-19T16:52:59.691757Z",
     "iopub.status.busy": "2023-04-19T16:52:59.690891Z",
     "iopub.status.idle": "2023-04-19T16:52:59.694912Z",
     "shell.execute_reply": "2023-04-19T16:52:59.694314Z"
    },
    "pycharm": {
     "name": "#%%\n"
    }
   },
   "outputs": [],
   "source": [
    "# get default options for the upper confidence bound generator\n",
    "options = generator_default_options[\"upper_confidence_bound\"]"
   ]
  },
  {
   "cell_type": "code",
   "execution_count": 4,
   "metadata": {
    "collapsed": false,
    "execution": {
     "iopub.execute_input": "2023-04-19T16:52:59.698269Z",
     "iopub.status.busy": "2023-04-19T16:52:59.697593Z",
     "iopub.status.idle": "2023-04-19T16:52:59.701808Z",
     "shell.execute_reply": "2023-04-19T16:52:59.701267Z"
    },
    "pycharm": {
     "name": "#%%\n"
    }
   },
   "outputs": [],
   "source": [
    "# modify the UCB beta parameter and the number of initial samples\n",
    "options.n_initial = 1\n",
    "options.acq.beta = 1.0"
   ]
  },
  {
   "cell_type": "code",
   "execution_count": 5,
   "metadata": {
    "collapsed": false,
    "execution": {
     "iopub.execute_input": "2023-04-19T16:52:59.705032Z",
     "iopub.status.busy": "2023-04-19T16:52:59.704501Z",
     "iopub.status.idle": "2023-04-19T16:52:59.708581Z",
     "shell.execute_reply": "2023-04-19T16:52:59.707954Z"
    },
    "pycharm": {
     "name": "#%%\n"
    }
   },
   "outputs": [],
   "source": [
    "# define vocs for the problem\n",
    "from xopt.vocs import VOCS\n",
    "import math\n",
    "\n",
    "vocs = VOCS(\n",
    "    variables={\"x\": [0, 2 * math.pi]},\n",
    "    objectives={\"f\": \"MINIMIZE\"},\n",
    ")"
   ]
  },
  {
   "cell_type": "code",
   "execution_count": 6,
   "metadata": {
    "collapsed": false,
    "execution": {
     "iopub.execute_input": "2023-04-19T16:52:59.711881Z",
     "iopub.status.busy": "2023-04-19T16:52:59.711304Z",
     "iopub.status.idle": "2023-04-19T16:52:59.721710Z",
     "shell.execute_reply": "2023-04-19T16:52:59.721019Z"
    },
    "pycharm": {
     "name": "#%%\n"
    }
   },
   "outputs": [
    {
     "data": {
      "text/plain": [
       "UCBOptions(optim=OptimOptions(num_restarts=20, raw_samples=20, sequential=True, max_travel_distances=None, use_turbo=False), acq=UpperConfidenceBoundOptions(proximal_lengthscales=None, use_transformed_proximal_weights=True, monte_carlo_samples=128, beta=1.0), model=ModelOptions(name='standard', custom_constructor=None, use_low_noise_prior=True, covar_modules={}, mean_modules={}), n_initial=1, use_cuda=False)"
      ]
     },
     "execution_count": 6,
     "metadata": {},
     "output_type": "execute_result"
    }
   ],
   "source": [
    "# create a new generator\n",
    "generator = generators[\"upper_confidence_bound\"](vocs=vocs, options=options)\n",
    "generator.options"
   ]
  },
  {
   "cell_type": "code",
   "execution_count": 7,
   "metadata": {
    "collapsed": false,
    "execution": {
     "iopub.execute_input": "2023-04-19T16:52:59.725132Z",
     "iopub.status.busy": "2023-04-19T16:52:59.724518Z",
     "iopub.status.idle": "2023-04-19T16:52:59.728268Z",
     "shell.execute_reply": "2023-04-19T16:52:59.727723Z"
    },
    "pycharm": {
     "name": "#%%\n"
    }
   },
   "outputs": [],
   "source": [
    "# define a test function to optimize\n",
    "import numpy as np\n",
    "\n",
    "\n",
    "def test_function(input_dict):\n",
    "    return {\"f\": np.sin(input_dict[\"x\"])}"
   ]
  },
  {
   "cell_type": "code",
   "execution_count": 8,
   "metadata": {
    "collapsed": false,
    "execution": {
     "iopub.execute_input": "2023-04-19T16:52:59.731766Z",
     "iopub.status.busy": "2023-04-19T16:52:59.731509Z",
     "iopub.status.idle": "2023-04-19T16:52:59.747852Z",
     "shell.execute_reply": "2023-04-19T16:52:59.745910Z"
    },
    "pycharm": {
     "name": "#%%\n"
    }
   },
   "outputs": [
    {
     "data": {
      "text/plain": [
       "XoptOptions(asynch=False, strict=False, dump_file=None, max_evaluations=None)"
      ]
     },
     "execution_count": 8,
     "metadata": {},
     "output_type": "execute_result"
    }
   ],
   "source": [
    "# create xopt evaluator and run the optimization\n",
    "from xopt import Evaluator, Xopt\n",
    "\n",
    "evaluator = Evaluator(function=test_function)\n",
    "\n",
    "X = Xopt(generator=generator, evaluator=evaluator, vocs=vocs)\n",
    "X.options"
   ]
  },
  {
   "cell_type": "code",
   "execution_count": 9,
   "metadata": {
    "collapsed": false,
    "execution": {
     "iopub.execute_input": "2023-04-19T16:52:59.751338Z",
     "iopub.status.busy": "2023-04-19T16:52:59.750928Z",
     "iopub.status.idle": "2023-04-19T16:53:00.260889Z",
     "shell.execute_reply": "2023-04-19T16:53:00.260144Z"
    },
    "pycharm": {
     "name": "#%%\n"
    }
   },
   "outputs": [],
   "source": [
    "# run the optimization for a couple of iterations (see bayes_opt folder for\n",
    "# more examples of ucb)\n",
    "for i in range(4):\n",
    "    X.step()"
   ]
  },
  {
   "cell_type": "code",
   "execution_count": 10,
   "metadata": {
    "collapsed": false,
    "execution": {
     "iopub.execute_input": "2023-04-19T16:53:00.264831Z",
     "iopub.status.busy": "2023-04-19T16:53:00.264548Z",
     "iopub.status.idle": "2023-04-19T16:53:00.274854Z",
     "shell.execute_reply": "2023-04-19T16:53:00.274135Z"
    },
    "pycharm": {
     "name": "#%%\n"
    }
   },
   "outputs": [
    {
     "data": {
      "text/html": [
       "<div>\n",
       "<style scoped>\n",
       "    .dataframe tbody tr th:only-of-type {\n",
       "        vertical-align: middle;\n",
       "    }\n",
       "\n",
       "    .dataframe tbody tr th {\n",
       "        vertical-align: top;\n",
       "    }\n",
       "\n",
       "    .dataframe thead th {\n",
       "        text-align: right;\n",
       "    }\n",
       "</style>\n",
       "<table border=\"1\" class=\"dataframe\">\n",
       "  <thead>\n",
       "    <tr style=\"text-align: right;\">\n",
       "      <th></th>\n",
       "      <th>x</th>\n",
       "      <th>f</th>\n",
       "      <th>xopt_runtime</th>\n",
       "      <th>xopt_error</th>\n",
       "    </tr>\n",
       "  </thead>\n",
       "  <tbody>\n",
       "    <tr>\n",
       "      <th>1</th>\n",
       "      <td>3.903961</td>\n",
       "      <td>-0.690636</td>\n",
       "      <td>0.000012</td>\n",
       "      <td>False</td>\n",
       "    </tr>\n",
       "    <tr>\n",
       "      <th>2</th>\n",
       "      <td>0.000000</td>\n",
       "      <td>0.000000</td>\n",
       "      <td>0.000011</td>\n",
       "      <td>False</td>\n",
       "    </tr>\n",
       "    <tr>\n",
       "      <th>3</th>\n",
       "      <td>6.085631</td>\n",
       "      <td>-0.196272</td>\n",
       "      <td>0.000010</td>\n",
       "      <td>False</td>\n",
       "    </tr>\n",
       "    <tr>\n",
       "      <th>4</th>\n",
       "      <td>2.966468</td>\n",
       "      <td>0.174231</td>\n",
       "      <td>0.000011</td>\n",
       "      <td>False</td>\n",
       "    </tr>\n",
       "  </tbody>\n",
       "</table>\n",
       "</div>"
      ],
      "text/plain": [
       "          x         f  xopt_runtime  xopt_error\n",
       "1  3.903961 -0.690636      0.000012       False\n",
       "2  0.000000  0.000000      0.000011       False\n",
       "3  6.085631 -0.196272      0.000010       False\n",
       "4  2.966468  0.174231      0.000011       False"
      ]
     },
     "execution_count": 10,
     "metadata": {},
     "output_type": "execute_result"
    }
   ],
   "source": [
    "X.data"
   ]
  },
  {
   "cell_type": "code",
   "execution_count": null,
   "metadata": {
    "collapsed": false,
    "pycharm": {
     "name": "#%%\n"
    }
   },
   "outputs": [],
   "source": []
  },
  {
   "cell_type": "code",
   "execution_count": null,
   "metadata": {},
   "outputs": [],
   "source": []
  }
 ],
 "metadata": {
  "kernelspec": {
   "display_name": "Python 3.9.13 ('xopt-dev')",
   "language": "python",
   "name": "python3"
  },
  "language_info": {
   "codemirror_mode": {
    "name": "ipython",
    "version": 3
   },
   "file_extension": ".py",
   "mimetype": "text/x-python",
   "name": "python",
   "nbconvert_exporter": "python",
   "pygments_lexer": "ipython3",
   "version": "3.9.16"
  },
  "vscode": {
   "interpreter": {
    "hash": "e3625c9a0de9d330a79359c7c8508d3b9f835fd7259469d66057de346104c5ec"
   }
  }
 },
 "nbformat": 4,
 "nbformat_minor": 4
}
