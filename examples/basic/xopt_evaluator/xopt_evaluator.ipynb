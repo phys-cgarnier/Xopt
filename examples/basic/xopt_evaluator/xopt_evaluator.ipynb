{
 "cells": [
  {
   "cell_type": "markdown",
   "metadata": {},
   "source": [
    "# Xopt Evaluator Basic Usage \n",
    "\n",
    "The `Evaluator` handles the execution of the user-provided `function` with optional `function_kwags`, asyncrhonously and parallel, with exception handling. "
   ]
  },
  {
   "cell_type": "code",
   "execution_count": 1,
   "metadata": {
    "ExecuteTime": {
     "end_time": "2023-06-30T16:48:33.556577200Z",
     "start_time": "2023-06-30T16:48:33.542576800Z"
    },
    "collapsed": false,
    "execution": {
     "iopub.execute_input": "2023-08-19T02:02:58.611074Z",
     "iopub.status.busy": "2023-08-19T02:02:58.610481Z",
     "iopub.status.idle": "2023-08-19T02:02:58.618562Z",
     "shell.execute_reply": "2023-08-19T02:02:58.618014Z"
    },
    "jupyter": {
     "outputs_hidden": false
    }
   },
   "outputs": [],
   "source": [
    "# needed for macos\n",
    "import platform\n",
    "if platform.system() == \"Darwin\": import multiprocessing;multiprocessing.set_start_method(\"fork\")\n"
   ]
  },
  {
   "cell_type": "code",
   "execution_count": 2,
   "metadata": {
    "ExecuteTime": {
     "end_time": "2023-06-30T16:48:36.916978500Z",
     "start_time": "2023-06-30T16:48:33.556577200Z"
    },
    "collapsed": false,
    "execution": {
     "iopub.execute_input": "2023-08-19T02:02:58.621229Z",
     "iopub.status.busy": "2023-08-19T02:02:58.621026Z",
     "iopub.status.idle": "2023-08-19T02:03:00.792851Z",
     "shell.execute_reply": "2023-08-19T02:03:00.792005Z"
    },
    "jupyter": {
     "outputs_hidden": false
    }
   },
   "outputs": [],
   "source": [
    "from xopt import Xopt, Evaluator, VOCS\n",
    "from xopt.generators.random import RandomGenerator\n",
    "\n",
    "import pandas as pd\n",
    "\n",
    "from time import sleep\n",
    "from numpy.random import randint\n",
    "\n",
    "from typing import Dict\n",
    "\n",
    "import numpy as np\n",
    "np.random.seed(666) # for reproducibility"
   ]
  },
  {
   "cell_type": "markdown",
   "metadata": {},
   "source": [
    "Define a custom function `f(inputs: Dict) -> outputs: Dict`. "
   ]
  },
  {
   "cell_type": "code",
   "execution_count": 3,
   "metadata": {
    "ExecuteTime": {
     "end_time": "2023-06-30T16:48:36.931981200Z",
     "start_time": "2023-06-30T16:48:36.920218300Z"
    },
    "execution": {
     "iopub.execute_input": "2023-08-19T02:03:00.797669Z",
     "iopub.status.busy": "2023-08-19T02:03:00.796760Z",
     "iopub.status.idle": "2023-08-19T02:03:00.801620Z",
     "shell.execute_reply": "2023-08-19T02:03:00.800997Z"
    }
   },
   "outputs": [],
   "source": [
    "def f(inputs: Dict, enable_errors=True) -> Dict:\n",
    "\n",
    "    sleep(randint(1, 5)*.1)  # simulate computation time\n",
    "    # Make some occasional errors\n",
    "    if enable_errors and np.any(inputs[\"x\"] > 0.8):\n",
    "        raise ValueError(\"x > 0.8\")\n",
    "\n",
    "    return {\"f1\": inputs[\"x\"] ** 2 + inputs[\"y\"] ** 2}"
   ]
  },
  {
   "cell_type": "markdown",
   "metadata": {},
   "source": [
    "Define variables, objectives, constraints, and other settings (VOCS)"
   ]
  },
  {
   "cell_type": "code",
   "execution_count": 4,
   "metadata": {
    "ExecuteTime": {
     "end_time": "2023-06-30T16:48:36.975009100Z",
     "start_time": "2023-06-30T16:48:36.936982500Z"
    },
    "collapsed": false,
    "execution": {
     "iopub.execute_input": "2023-08-19T02:03:00.804530Z",
     "iopub.status.busy": "2023-08-19T02:03:00.804310Z",
     "iopub.status.idle": "2023-08-19T02:03:00.811124Z",
     "shell.execute_reply": "2023-08-19T02:03:00.810484Z"
    },
    "jupyter": {
     "outputs_hidden": false
    }
   },
   "outputs": [
    {
     "data": {
      "text/plain": [
       "VOCS(variables={'x': [0.0, 1.0], 'y': [0.0, 1.0]}, constraints={}, objectives={'f1': 'MINIMIZE'}, constants={}, observables=[])"
      ]
     },
     "execution_count": 4,
     "metadata": {},
     "output_type": "execute_result"
    }
   ],
   "source": [
    "vocs = VOCS(variables={\"x\": [0, 1], \"y\": [0, 1]}, objectives={\"f1\": \"MINIMIZE\"})\n",
    "vocs\n",
    "\n"
   ]
  },
  {
   "cell_type": "markdown",
   "metadata": {},
   "source": [
    "This can be used to make some random inputs for evaluating the function. "
   ]
  },
  {
   "cell_type": "code",
   "execution_count": 5,
   "metadata": {
    "execution": {
     "iopub.execute_input": "2023-08-19T02:03:00.852272Z",
     "iopub.status.busy": "2023-08-19T02:03:00.851951Z",
     "iopub.status.idle": "2023-08-19T02:03:01.159106Z",
     "shell.execute_reply": "2023-08-19T02:03:01.158415Z"
    }
   },
   "outputs": [
    {
     "data": {
      "text/plain": [
       "{'f1': 0.11401572022703582}"
      ]
     },
     "execution_count": 5,
     "metadata": {},
     "output_type": "execute_result"
    }
   ],
   "source": [
    "in1 = vocs.random_inputs()\n",
    "\n",
    "f(in1, enable_errors=False)"
   ]
  },
  {
   "cell_type": "code",
   "execution_count": 6,
   "metadata": {
    "execution": {
     "iopub.execute_input": "2023-08-19T02:03:01.162578Z",
     "iopub.status.busy": "2023-08-19T02:03:01.162104Z",
     "iopub.status.idle": "2023-08-19T02:03:01.467291Z",
     "shell.execute_reply": "2023-08-19T02:03:01.466544Z"
    }
   },
   "outputs": [
    {
     "name": "stdout",
     "output_type": "stream",
     "text": [
      "Caught error in f: x > 0.8\n"
     ]
    }
   ],
   "source": [
    "# Add in occasional errors. \n",
    "try:\n",
    "    f({\"x\": 1, \"y\": 0})\n",
    "except Exception as ex:\n",
    "    print(f\"Caught error in f: {ex}\")"
   ]
  },
  {
   "cell_type": "code",
   "execution_count": 7,
   "metadata": {
    "execution": {
     "iopub.execute_input": "2023-08-19T02:03:01.470728Z",
     "iopub.status.busy": "2023-08-19T02:03:01.470221Z",
     "iopub.status.idle": "2023-08-19T02:03:01.480437Z",
     "shell.execute_reply": "2023-08-19T02:03:01.479769Z"
    }
   },
   "outputs": [],
   "source": [
    "# Create Evaluator\n",
    "ev = Evaluator(function=f)"
   ]
  },
  {
   "cell_type": "code",
   "execution_count": 8,
   "metadata": {
    "execution": {
     "iopub.execute_input": "2023-08-19T02:03:01.483608Z",
     "iopub.status.busy": "2023-08-19T02:03:01.483093Z",
     "iopub.status.idle": "2023-08-19T02:03:01.688583Z",
     "shell.execute_reply": "2023-08-19T02:03:01.687763Z"
    }
   },
   "outputs": [
    {
     "data": {
      "text/plain": [
       "{'f1': 0.11401572022703582,\n",
       " 'xopt_runtime': 0.2003915250000432,\n",
       " 'xopt_error': False}"
      ]
     },
     "execution_count": 8,
     "metadata": {},
     "output_type": "execute_result"
    }
   ],
   "source": [
    "# Single input evaluation\n",
    "ev.evaluate(in1)"
   ]
  },
  {
   "cell_type": "code",
   "execution_count": 9,
   "metadata": {
    "execution": {
     "iopub.execute_input": "2023-08-19T02:03:01.692222Z",
     "iopub.status.busy": "2023-08-19T02:03:01.691752Z",
     "iopub.status.idle": "2023-08-19T02:03:04.312004Z",
     "shell.execute_reply": "2023-08-19T02:03:04.311248Z"
    }
   },
   "outputs": [
    {
     "data": {
      "text/html": [
       "<div>\n",
       "<style scoped>\n",
       "    .dataframe tbody tr th:only-of-type {\n",
       "        vertical-align: middle;\n",
       "    }\n",
       "\n",
       "    .dataframe tbody tr th {\n",
       "        vertical-align: top;\n",
       "    }\n",
       "\n",
       "    .dataframe thead th {\n",
       "        text-align: right;\n",
       "    }\n",
       "</style>\n",
       "<table border=\"1\" class=\"dataframe\">\n",
       "  <thead>\n",
       "    <tr style=\"text-align: right;\">\n",
       "      <th></th>\n",
       "      <th>f1</th>\n",
       "      <th>xopt_runtime</th>\n",
       "      <th>xopt_error</th>\n",
       "      <th>xopt_error_str</th>\n",
       "    </tr>\n",
       "  </thead>\n",
       "  <tbody>\n",
       "    <tr>\n",
       "      <th>0</th>\n",
       "      <td>0.000000</td>\n",
       "      <td>0.300558</td>\n",
       "      <td>False</td>\n",
       "      <td>NaN</td>\n",
       "    </tr>\n",
       "    <tr>\n",
       "      <th>1</th>\n",
       "      <td>0.024691</td>\n",
       "      <td>0.100347</td>\n",
       "      <td>False</td>\n",
       "      <td>NaN</td>\n",
       "    </tr>\n",
       "    <tr>\n",
       "      <th>2</th>\n",
       "      <td>0.098765</td>\n",
       "      <td>0.200437</td>\n",
       "      <td>False</td>\n",
       "      <td>NaN</td>\n",
       "    </tr>\n",
       "    <tr>\n",
       "      <th>3</th>\n",
       "      <td>0.222222</td>\n",
       "      <td>0.400630</td>\n",
       "      <td>False</td>\n",
       "      <td>NaN</td>\n",
       "    </tr>\n",
       "    <tr>\n",
       "      <th>4</th>\n",
       "      <td>0.395062</td>\n",
       "      <td>0.300570</td>\n",
       "      <td>False</td>\n",
       "      <td>NaN</td>\n",
       "    </tr>\n",
       "    <tr>\n",
       "      <th>5</th>\n",
       "      <td>0.617284</td>\n",
       "      <td>0.400659</td>\n",
       "      <td>False</td>\n",
       "      <td>NaN</td>\n",
       "    </tr>\n",
       "    <tr>\n",
       "      <th>6</th>\n",
       "      <td>0.888889</td>\n",
       "      <td>0.100388</td>\n",
       "      <td>False</td>\n",
       "      <td>NaN</td>\n",
       "    </tr>\n",
       "    <tr>\n",
       "      <th>7</th>\n",
       "      <td>1.209877</td>\n",
       "      <td>0.400690</td>\n",
       "      <td>False</td>\n",
       "      <td>NaN</td>\n",
       "    </tr>\n",
       "    <tr>\n",
       "      <th>8</th>\n",
       "      <td>NaN</td>\n",
       "      <td>0.100789</td>\n",
       "      <td>True</td>\n",
       "      <td>Traceback (most recent call last):\\n  File \"/u...</td>\n",
       "    </tr>\n",
       "    <tr>\n",
       "      <th>9</th>\n",
       "      <td>NaN</td>\n",
       "      <td>0.300707</td>\n",
       "      <td>True</td>\n",
       "      <td>Traceback (most recent call last):\\n  File \"/u...</td>\n",
       "    </tr>\n",
       "  </tbody>\n",
       "</table>\n",
       "</div>"
      ],
      "text/plain": [
       "         f1  xopt_runtime  xopt_error  \\\n",
       "0  0.000000      0.300558       False   \n",
       "1  0.024691      0.100347       False   \n",
       "2  0.098765      0.200437       False   \n",
       "3  0.222222      0.400630       False   \n",
       "4  0.395062      0.300570       False   \n",
       "5  0.617284      0.400659       False   \n",
       "6  0.888889      0.100388       False   \n",
       "7  1.209877      0.400690       False   \n",
       "8       NaN      0.100789        True   \n",
       "9       NaN      0.300707        True   \n",
       "\n",
       "                                      xopt_error_str  \n",
       "0                                                NaN  \n",
       "1                                                NaN  \n",
       "2                                                NaN  \n",
       "3                                                NaN  \n",
       "4                                                NaN  \n",
       "5                                                NaN  \n",
       "6                                                NaN  \n",
       "7                                                NaN  \n",
       "8  Traceback (most recent call last):\\n  File \"/u...  \n",
       "9  Traceback (most recent call last):\\n  File \"/u...  "
      ]
     },
     "execution_count": 9,
     "metadata": {},
     "output_type": "execute_result"
    }
   ],
   "source": [
    "# Dataframe evaluation\n",
    "in10 = pd.DataFrame({\n",
    "    \"x\":np.linspace(0,1,10),\n",
    "    \"y\":np.linspace(0,1,10)\n",
    "})\n",
    "ev.evaluate_data(in10)\n"
   ]
  },
  {
   "cell_type": "code",
   "execution_count": 10,
   "metadata": {
    "execution": {
     "iopub.execute_input": "2023-08-19T02:03:04.315876Z",
     "iopub.status.busy": "2023-08-19T02:03:04.315489Z",
     "iopub.status.idle": "2023-08-19T02:03:06.826201Z",
     "shell.execute_reply": "2023-08-19T02:03:06.825556Z"
    }
   },
   "outputs": [
    {
     "name": "stdout",
     "output_type": "stream",
     "text": [
      "{'f1': 0.0, 'xopt_runtime': 0.20047429599998168, 'xopt_error': False}\n",
      "{'f1': 0.024691358024691357, 'xopt_runtime': 0.40066949099997373, 'xopt_error': False}\n",
      "{'f1': 0.09876543209876543, 'xopt_runtime': 0.10036485000000539, 'xopt_error': False}\n",
      "{'f1': 0.2222222222222222, 'xopt_runtime': 0.3005247430000395, 'xopt_error': False}\n",
      "{'f1': 0.3950617283950617, 'xopt_runtime': 0.10034165000001849, 'xopt_error': False}\n",
      "{'f1': 0.617283950617284, 'xopt_runtime': 0.4006395909999583, 'xopt_error': False}\n",
      "{'f1': 0.8888888888888888, 'xopt_runtime': 0.20047009699999307, 'xopt_error': False}\n",
      "{'f1': 1.2098765432098761, 'xopt_runtime': 0.3005124429999455, 'xopt_error': False}\n",
      "{'xopt_runtime': 0.10051725099998521, 'xopt_error': True, 'xopt_error_str': 'Traceback (most recent call last):\\n  File \"/usr/share/miniconda3/envs/xopt-dev/lib/python3.9/site-packages/xopt/utils.py\", line 137, in safe_call\\n    result = func(*args, **kwargs)\\n  File \"/tmp/ipykernel_2832/4275037860.py\", line 6, in f\\n    raise ValueError(\"x > 0.8\")\\nValueError: x > 0.8\\n'}\n",
      "{'xopt_runtime': 0.4008320919999733, 'xopt_error': True, 'xopt_error_str': 'Traceback (most recent call last):\\n  File \"/usr/share/miniconda3/envs/xopt-dev/lib/python3.9/site-packages/xopt/utils.py\", line 137, in safe_call\\n    result = func(*args, **kwargs)\\n  File \"/tmp/ipykernel_2832/4275037860.py\", line 6, in f\\n    raise ValueError(\"x > 0.8\")\\nValueError: x > 0.8\\n'}\n"
     ]
    }
   ],
   "source": [
    "# Dataframe submission (returns futures dict)\n",
    "futures = ev.submit_data(in10)\n",
    "for future in futures:\n",
    "    print(future.result())"
   ]
  },
  {
   "cell_type": "code",
   "execution_count": 11,
   "metadata": {
    "execution": {
     "iopub.execute_input": "2023-08-19T02:03:06.829650Z",
     "iopub.status.busy": "2023-08-19T02:03:06.829051Z",
     "iopub.status.idle": "2023-08-19T02:03:07.040817Z",
     "shell.execute_reply": "2023-08-19T02:03:07.040025Z"
    }
   },
   "outputs": [
    {
     "data": {
      "text/html": [
       "<div>\n",
       "<style scoped>\n",
       "    .dataframe tbody tr th:only-of-type {\n",
       "        vertical-align: middle;\n",
       "    }\n",
       "\n",
       "    .dataframe tbody tr th {\n",
       "        vertical-align: top;\n",
       "    }\n",
       "\n",
       "    .dataframe thead th {\n",
       "        text-align: right;\n",
       "    }\n",
       "</style>\n",
       "<table border=\"1\" class=\"dataframe\">\n",
       "  <thead>\n",
       "    <tr style=\"text-align: right;\">\n",
       "      <th></th>\n",
       "      <th>xopt_runtime</th>\n",
       "      <th>xopt_error</th>\n",
       "      <th>xopt_error_str</th>\n",
       "    </tr>\n",
       "  </thead>\n",
       "  <tbody>\n",
       "    <tr>\n",
       "      <th>0</th>\n",
       "      <td>0.201246</td>\n",
       "      <td>True</td>\n",
       "      <td>Traceback (most recent call last):\\n  File \"/u...</td>\n",
       "    </tr>\n",
       "    <tr>\n",
       "      <th>1</th>\n",
       "      <td>0.201246</td>\n",
       "      <td>True</td>\n",
       "      <td>Traceback (most recent call last):\\n  File \"/u...</td>\n",
       "    </tr>\n",
       "    <tr>\n",
       "      <th>2</th>\n",
       "      <td>0.201246</td>\n",
       "      <td>True</td>\n",
       "      <td>Traceback (most recent call last):\\n  File \"/u...</td>\n",
       "    </tr>\n",
       "    <tr>\n",
       "      <th>3</th>\n",
       "      <td>0.201246</td>\n",
       "      <td>True</td>\n",
       "      <td>Traceback (most recent call last):\\n  File \"/u...</td>\n",
       "    </tr>\n",
       "    <tr>\n",
       "      <th>4</th>\n",
       "      <td>0.201246</td>\n",
       "      <td>True</td>\n",
       "      <td>Traceback (most recent call last):\\n  File \"/u...</td>\n",
       "    </tr>\n",
       "    <tr>\n",
       "      <th>5</th>\n",
       "      <td>0.201246</td>\n",
       "      <td>True</td>\n",
       "      <td>Traceback (most recent call last):\\n  File \"/u...</td>\n",
       "    </tr>\n",
       "    <tr>\n",
       "      <th>6</th>\n",
       "      <td>0.201246</td>\n",
       "      <td>True</td>\n",
       "      <td>Traceback (most recent call last):\\n  File \"/u...</td>\n",
       "    </tr>\n",
       "    <tr>\n",
       "      <th>7</th>\n",
       "      <td>0.201246</td>\n",
       "      <td>True</td>\n",
       "      <td>Traceback (most recent call last):\\n  File \"/u...</td>\n",
       "    </tr>\n",
       "    <tr>\n",
       "      <th>8</th>\n",
       "      <td>0.201246</td>\n",
       "      <td>True</td>\n",
       "      <td>Traceback (most recent call last):\\n  File \"/u...</td>\n",
       "    </tr>\n",
       "    <tr>\n",
       "      <th>9</th>\n",
       "      <td>0.201246</td>\n",
       "      <td>True</td>\n",
       "      <td>Traceback (most recent call last):\\n  File \"/u...</td>\n",
       "    </tr>\n",
       "  </tbody>\n",
       "</table>\n",
       "</div>"
      ],
      "text/plain": [
       "   xopt_runtime  xopt_error                                     xopt_error_str\n",
       "0      0.201246        True  Traceback (most recent call last):\\n  File \"/u...\n",
       "1      0.201246        True  Traceback (most recent call last):\\n  File \"/u...\n",
       "2      0.201246        True  Traceback (most recent call last):\\n  File \"/u...\n",
       "3      0.201246        True  Traceback (most recent call last):\\n  File \"/u...\n",
       "4      0.201246        True  Traceback (most recent call last):\\n  File \"/u...\n",
       "5      0.201246        True  Traceback (most recent call last):\\n  File \"/u...\n",
       "6      0.201246        True  Traceback (most recent call last):\\n  File \"/u...\n",
       "7      0.201246        True  Traceback (most recent call last):\\n  File \"/u...\n",
       "8      0.201246        True  Traceback (most recent call last):\\n  File \"/u...\n",
       "9      0.201246        True  Traceback (most recent call last):\\n  File \"/u..."
      ]
     },
     "execution_count": 11,
     "metadata": {},
     "output_type": "execute_result"
    }
   ],
   "source": [
    "# Dataframe evaluation, vectorized\n",
    "ev.vectorized = True\n",
    "ev.evaluate_data(in10)\n"
   ]
  },
  {
   "cell_type": "code",
   "execution_count": 12,
   "metadata": {
    "execution": {
     "iopub.execute_input": "2023-08-19T02:03:07.044159Z",
     "iopub.status.busy": "2023-08-19T02:03:07.043803Z",
     "iopub.status.idle": "2023-08-19T02:03:07.250530Z",
     "shell.execute_reply": "2023-08-19T02:03:07.249135Z"
    }
   },
   "outputs": [
    {
     "data": {
      "text/plain": [
       "1"
      ]
     },
     "execution_count": 12,
     "metadata": {},
     "output_type": "execute_result"
    }
   ],
   "source": [
    "# Vectorized submission. This returns a single future.\n",
    "ev.vectorized = True\n",
    "futures = ev.submit_data(in10)\n",
    "len(futures)"
   ]
  },
  {
   "cell_type": "code",
   "execution_count": 13,
   "metadata": {
    "execution": {
     "iopub.execute_input": "2023-08-19T02:03:07.253921Z",
     "iopub.status.busy": "2023-08-19T02:03:07.253509Z",
     "iopub.status.idle": "2023-08-19T02:03:07.260435Z",
     "shell.execute_reply": "2023-08-19T02:03:07.259845Z"
    }
   },
   "outputs": [
    {
     "data": {
      "text/plain": [
       "{'xopt_runtime': 0.20058819799999128,\n",
       " 'xopt_error': True,\n",
       " 'xopt_error_str': 'Traceback (most recent call last):\\n  File \"/usr/share/miniconda3/envs/xopt-dev/lib/python3.9/site-packages/xopt/utils.py\", line 137, in safe_call\\n    result = func(*args, **kwargs)\\n  File \"/tmp/ipykernel_2832/4275037860.py\", line 6, in f\\n    raise ValueError(\"x > 0.8\")\\nValueError: x > 0.8\\n'}"
      ]
     },
     "execution_count": 13,
     "metadata": {},
     "output_type": "execute_result"
    }
   ],
   "source": [
    "futures[0].result()"
   ]
  },
  {
   "cell_type": "code",
   "execution_count": 14,
   "metadata": {
    "execution": {
     "iopub.execute_input": "2023-08-19T02:03:07.263217Z",
     "iopub.status.busy": "2023-08-19T02:03:07.262792Z",
     "iopub.status.idle": "2023-08-19T02:03:07.270603Z",
     "shell.execute_reply": "2023-08-19T02:03:07.270115Z"
    }
   },
   "outputs": [
    {
     "data": {
      "text/html": [
       "<div>\n",
       "<style scoped>\n",
       "    .dataframe tbody tr th:only-of-type {\n",
       "        vertical-align: middle;\n",
       "    }\n",
       "\n",
       "    .dataframe tbody tr th {\n",
       "        vertical-align: top;\n",
       "    }\n",
       "\n",
       "    .dataframe thead th {\n",
       "        text-align: right;\n",
       "    }\n",
       "</style>\n",
       "<table border=\"1\" class=\"dataframe\">\n",
       "  <thead>\n",
       "    <tr style=\"text-align: right;\">\n",
       "      <th></th>\n",
       "      <th>xopt_runtime</th>\n",
       "      <th>xopt_error</th>\n",
       "      <th>xopt_error_str</th>\n",
       "    </tr>\n",
       "  </thead>\n",
       "  <tbody>\n",
       "    <tr>\n",
       "      <th>0</th>\n",
       "      <td>0.200588</td>\n",
       "      <td>True</td>\n",
       "      <td>Traceback (most recent call last):\\n  File \"/u...</td>\n",
       "    </tr>\n",
       "  </tbody>\n",
       "</table>\n",
       "</div>"
      ],
      "text/plain": [
       "   xopt_runtime  xopt_error                                     xopt_error_str\n",
       "0      0.200588        True  Traceback (most recent call last):\\n  File \"/u..."
      ]
     },
     "execution_count": 14,
     "metadata": {},
     "output_type": "execute_result"
    }
   ],
   "source": [
    "# Collect in a dataframe\n",
    "res = futures[0].result()\n",
    "# If there is an error, all outputs are spoiled.\n",
    "if res['xopt_error']:\n",
    "    res = [res]\n",
    "pd.DataFrame(res)"
   ]
  },
  {
   "cell_type": "markdown",
   "metadata": {},
   "source": [
    "# Executors"
   ]
  },
  {
   "cell_type": "code",
   "execution_count": 15,
   "metadata": {
    "execution": {
     "iopub.execute_input": "2023-08-19T02:03:07.273547Z",
     "iopub.status.busy": "2023-08-19T02:03:07.273014Z",
     "iopub.status.idle": "2023-08-19T02:03:07.276170Z",
     "shell.execute_reply": "2023-08-19T02:03:07.275553Z"
    }
   },
   "outputs": [],
   "source": [
    "from concurrent.futures import ThreadPoolExecutor, ProcessPoolExecutor\n",
    "MAX_WORKERS = 10"
   ]
  },
  {
   "cell_type": "code",
   "execution_count": 16,
   "metadata": {
    "execution": {
     "iopub.execute_input": "2023-08-19T02:03:07.278940Z",
     "iopub.status.busy": "2023-08-19T02:03:07.278524Z",
     "iopub.status.idle": "2023-08-19T02:03:07.284328Z",
     "shell.execute_reply": "2023-08-19T02:03:07.283683Z"
    }
   },
   "outputs": [
    {
     "data": {
      "text/plain": [
       "<concurrent.futures.process.ProcessPoolExecutor at 0x7f133b78fd90>"
      ]
     },
     "execution_count": 16,
     "metadata": {},
     "output_type": "execute_result"
    }
   ],
   "source": [
    "# Create Executor insance\n",
    "executor = ProcessPoolExecutor(max_workers=MAX_WORKERS)\n",
    "executor"
   ]
  },
  {
   "cell_type": "code",
   "execution_count": 17,
   "metadata": {
    "execution": {
     "iopub.execute_input": "2023-08-19T02:03:07.287103Z",
     "iopub.status.busy": "2023-08-19T02:03:07.286698Z",
     "iopub.status.idle": "2023-08-19T02:03:07.289531Z",
     "shell.execute_reply": "2023-08-19T02:03:07.288882Z"
    }
   },
   "outputs": [],
   "source": [
    "# Dask (Optional)\n",
    "# from dask.distributed import Client\n",
    "# import logging\n",
    "# client = Client( silence_logs=logging.ERROR)\n",
    "# executor = client.get_executor()\n",
    "# client"
   ]
  },
  {
   "cell_type": "code",
   "execution_count": 18,
   "metadata": {
    "execution": {
     "iopub.execute_input": "2023-08-19T02:03:07.292068Z",
     "iopub.status.busy": "2023-08-19T02:03:07.291666Z",
     "iopub.status.idle": "2023-08-19T02:03:07.301377Z",
     "shell.execute_reply": "2023-08-19T02:03:07.300719Z"
    }
   },
   "outputs": [],
   "source": [
    "# This calls `executor.map`\n",
    "ev = Evaluator(function=f, executor=executor, max_workers=MAX_WORKERS)"
   ]
  },
  {
   "cell_type": "code",
   "execution_count": 19,
   "metadata": {
    "execution": {
     "iopub.execute_input": "2023-08-19T02:03:07.303954Z",
     "iopub.status.busy": "2023-08-19T02:03:07.303533Z",
     "iopub.status.idle": "2023-08-19T02:03:07.593690Z",
     "shell.execute_reply": "2023-08-19T02:03:07.592611Z"
    }
   },
   "outputs": [
    {
     "data": {
      "text/html": [
       "<div>\n",
       "<style scoped>\n",
       "    .dataframe tbody tr th:only-of-type {\n",
       "        vertical-align: middle;\n",
       "    }\n",
       "\n",
       "    .dataframe tbody tr th {\n",
       "        vertical-align: top;\n",
       "    }\n",
       "\n",
       "    .dataframe thead th {\n",
       "        text-align: right;\n",
       "    }\n",
       "</style>\n",
       "<table border=\"1\" class=\"dataframe\">\n",
       "  <thead>\n",
       "    <tr style=\"text-align: right;\">\n",
       "      <th></th>\n",
       "      <th>f1</th>\n",
       "      <th>xopt_runtime</th>\n",
       "      <th>xopt_error</th>\n",
       "      <th>xopt_error_str</th>\n",
       "    </tr>\n",
       "  </thead>\n",
       "  <tbody>\n",
       "    <tr>\n",
       "      <th>0</th>\n",
       "      <td>0.000000</td>\n",
       "      <td>0.200865</td>\n",
       "      <td>False</td>\n",
       "      <td>NaN</td>\n",
       "    </tr>\n",
       "    <tr>\n",
       "      <th>1</th>\n",
       "      <td>0.024691</td>\n",
       "      <td>0.201082</td>\n",
       "      <td>False</td>\n",
       "      <td>NaN</td>\n",
       "    </tr>\n",
       "    <tr>\n",
       "      <th>2</th>\n",
       "      <td>0.098765</td>\n",
       "      <td>0.201237</td>\n",
       "      <td>False</td>\n",
       "      <td>NaN</td>\n",
       "    </tr>\n",
       "    <tr>\n",
       "      <th>3</th>\n",
       "      <td>0.222222</td>\n",
       "      <td>0.205226</td>\n",
       "      <td>False</td>\n",
       "      <td>NaN</td>\n",
       "    </tr>\n",
       "    <tr>\n",
       "      <th>4</th>\n",
       "      <td>0.395062</td>\n",
       "      <td>0.200830</td>\n",
       "      <td>False</td>\n",
       "      <td>NaN</td>\n",
       "    </tr>\n",
       "    <tr>\n",
       "      <th>5</th>\n",
       "      <td>0.617284</td>\n",
       "      <td>0.201002</td>\n",
       "      <td>False</td>\n",
       "      <td>NaN</td>\n",
       "    </tr>\n",
       "    <tr>\n",
       "      <th>6</th>\n",
       "      <td>0.888889</td>\n",
       "      <td>0.201154</td>\n",
       "      <td>False</td>\n",
       "      <td>NaN</td>\n",
       "    </tr>\n",
       "    <tr>\n",
       "      <th>7</th>\n",
       "      <td>1.209877</td>\n",
       "      <td>0.202352</td>\n",
       "      <td>False</td>\n",
       "      <td>NaN</td>\n",
       "    </tr>\n",
       "    <tr>\n",
       "      <th>8</th>\n",
       "      <td>NaN</td>\n",
       "      <td>0.201122</td>\n",
       "      <td>True</td>\n",
       "      <td>Traceback (most recent call last):\\n  File \"/u...</td>\n",
       "    </tr>\n",
       "    <tr>\n",
       "      <th>9</th>\n",
       "      <td>NaN</td>\n",
       "      <td>0.203129</td>\n",
       "      <td>True</td>\n",
       "      <td>Traceback (most recent call last):\\n  File \"/u...</td>\n",
       "    </tr>\n",
       "  </tbody>\n",
       "</table>\n",
       "</div>"
      ],
      "text/plain": [
       "         f1  xopt_runtime  xopt_error  \\\n",
       "0  0.000000      0.200865       False   \n",
       "1  0.024691      0.201082       False   \n",
       "2  0.098765      0.201237       False   \n",
       "3  0.222222      0.205226       False   \n",
       "4  0.395062      0.200830       False   \n",
       "5  0.617284      0.201002       False   \n",
       "6  0.888889      0.201154       False   \n",
       "7  1.209877      0.202352       False   \n",
       "8       NaN      0.201122        True   \n",
       "9       NaN      0.203129        True   \n",
       "\n",
       "                                      xopt_error_str  \n",
       "0                                                NaN  \n",
       "1                                                NaN  \n",
       "2                                                NaN  \n",
       "3                                                NaN  \n",
       "4                                                NaN  \n",
       "5                                                NaN  \n",
       "6                                                NaN  \n",
       "7                                                NaN  \n",
       "8  Traceback (most recent call last):\\n  File \"/u...  \n",
       "9  Traceback (most recent call last):\\n  File \"/u...  "
      ]
     },
     "execution_count": 19,
     "metadata": {},
     "output_type": "execute_result"
    }
   ],
   "source": [
    "# This will run in parallel\n",
    "ev.evaluate_data(in10)"
   ]
  },
  {
   "cell_type": "markdown",
   "metadata": {},
   "source": [
    "# Evaluator in the Xopt object"
   ]
  },
  {
   "cell_type": "code",
   "execution_count": 20,
   "metadata": {
    "ExecuteTime": {
     "end_time": "2023-06-30T16:48:42.104987600Z",
     "start_time": "2023-06-30T16:48:41.038989800Z"
    },
    "collapsed": false,
    "execution": {
     "iopub.execute_input": "2023-08-19T02:03:07.597913Z",
     "iopub.status.busy": "2023-08-19T02:03:07.597288Z",
     "iopub.status.idle": "2023-08-19T02:03:08.820103Z",
     "shell.execute_reply": "2023-08-19T02:03:08.818899Z"
    },
    "jupyter": {
     "outputs_hidden": false
    }
   },
   "outputs": [
    {
     "data": {
      "text/html": [
       "<div>\n",
       "<style scoped>\n",
       "    .dataframe tbody tr th:only-of-type {\n",
       "        vertical-align: middle;\n",
       "    }\n",
       "\n",
       "    .dataframe tbody tr th {\n",
       "        vertical-align: top;\n",
       "    }\n",
       "\n",
       "    .dataframe thead th {\n",
       "        text-align: right;\n",
       "    }\n",
       "</style>\n",
       "<table border=\"1\" class=\"dataframe\">\n",
       "  <thead>\n",
       "    <tr style=\"text-align: right;\">\n",
       "      <th></th>\n",
       "      <th>x</th>\n",
       "      <th>y</th>\n",
       "    </tr>\n",
       "  </thead>\n",
       "  <tbody>\n",
       "    <tr>\n",
       "      <th>1</th>\n",
       "      <td>0.844488</td>\n",
       "      <td>0.232588</td>\n",
       "    </tr>\n",
       "    <tr>\n",
       "      <th>2</th>\n",
       "      <td>0.265390</td>\n",
       "      <td>0.046769</td>\n",
       "    </tr>\n",
       "    <tr>\n",
       "      <th>3</th>\n",
       "      <td>0.268404</td>\n",
       "      <td>0.709026</td>\n",
       "    </tr>\n",
       "    <tr>\n",
       "      <th>4</th>\n",
       "      <td>0.142141</td>\n",
       "      <td>0.152218</td>\n",
       "    </tr>\n",
       "  </tbody>\n",
       "</table>\n",
       "</div>"
      ],
      "text/plain": [
       "          x         y\n",
       "1  0.844488  0.232588\n",
       "2  0.265390  0.046769\n",
       "3  0.268404  0.709026\n",
       "4  0.142141  0.152218"
      ]
     },
     "execution_count": 20,
     "metadata": {},
     "output_type": "execute_result"
    }
   ],
   "source": [
    "X = Xopt(generator=RandomGenerator(vocs=vocs), evaluator=Evaluator(function=f),\n",
    "         vocs=vocs)\n",
    "X.options.strict = False\n",
    "\n",
    "# Submit to the evaluator some new inputs\n",
    "X.submit_data(vocs.random_inputs(4))\n",
    "\n",
    "# Unevaluated inputs are collected in a dataframe\n",
    "X._input_data"
   ]
  },
  {
   "cell_type": "code",
   "execution_count": 21,
   "metadata": {
    "ExecuteTime": {
     "end_time": "2023-06-30T16:48:42.115987800Z",
     "start_time": "2023-06-30T16:48:42.104987600Z"
    },
    "collapsed": false,
    "execution": {
     "iopub.execute_input": "2023-08-19T02:03:08.823341Z",
     "iopub.status.busy": "2023-08-19T02:03:08.822888Z",
     "iopub.status.idle": "2023-08-19T02:03:08.827285Z",
     "shell.execute_reply": "2023-08-19T02:03:08.826644Z"
    },
    "jupyter": {
     "outputs_hidden": false
    }
   },
   "outputs": [
    {
     "data": {
      "text/plain": [
       "{1: <Future at 0x7f133b701e20 state=finished returned dict>,\n",
       " 2: <Future at 0x7f133b76ed30 state=finished returned dict>,\n",
       " 3: <Future at 0x7f133b786ac0 state=finished returned dict>,\n",
       " 4: <Future at 0x7f133b701f70 state=finished returned dict>}"
      ]
     },
     "execution_count": 21,
     "metadata": {},
     "output_type": "execute_result"
    }
   ],
   "source": [
    "# Internal futures dictionary\n",
    "X._futures"
   ]
  },
  {
   "cell_type": "code",
   "execution_count": 22,
   "metadata": {
    "ExecuteTime": {
     "end_time": "2023-06-30T16:48:42.240986800Z",
     "start_time": "2023-06-30T16:48:42.212989600Z"
    },
    "collapsed": false,
    "execution": {
     "iopub.execute_input": "2023-08-19T02:03:08.831085Z",
     "iopub.status.busy": "2023-08-19T02:03:08.830612Z",
     "iopub.status.idle": "2023-08-19T02:03:08.843178Z",
     "shell.execute_reply": "2023-08-19T02:03:08.842558Z"
    },
    "jupyter": {
     "outputs_hidden": false
    }
   },
   "outputs": [
    {
     "data": {
      "text/html": [
       "<div>\n",
       "<style scoped>\n",
       "    .dataframe tbody tr th:only-of-type {\n",
       "        vertical-align: middle;\n",
       "    }\n",
       "\n",
       "    .dataframe tbody tr th {\n",
       "        vertical-align: top;\n",
       "    }\n",
       "\n",
       "    .dataframe thead th {\n",
       "        text-align: right;\n",
       "    }\n",
       "</style>\n",
       "<table border=\"1\" class=\"dataframe\">\n",
       "  <thead>\n",
       "    <tr style=\"text-align: right;\">\n",
       "      <th></th>\n",
       "      <th>x</th>\n",
       "      <th>y</th>\n",
       "      <th>xopt_runtime</th>\n",
       "      <th>xopt_error</th>\n",
       "      <th>xopt_error_str</th>\n",
       "      <th>f1</th>\n",
       "    </tr>\n",
       "  </thead>\n",
       "  <tbody>\n",
       "    <tr>\n",
       "      <th>1</th>\n",
       "      <td>0.844488</td>\n",
       "      <td>0.232588</td>\n",
       "      <td>0.300821</td>\n",
       "      <td>True</td>\n",
       "      <td>Traceback (most recent call last):\\n  File \"/u...</td>\n",
       "      <td>NaN</td>\n",
       "    </tr>\n",
       "    <tr>\n",
       "      <th>2</th>\n",
       "      <td>0.265390</td>\n",
       "      <td>0.046769</td>\n",
       "      <td>0.200455</td>\n",
       "      <td>False</td>\n",
       "      <td>NaN</td>\n",
       "      <td>0.072619</td>\n",
       "    </tr>\n",
       "    <tr>\n",
       "      <th>3</th>\n",
       "      <td>0.268404</td>\n",
       "      <td>0.709026</td>\n",
       "      <td>0.300564</td>\n",
       "      <td>False</td>\n",
       "      <td>NaN</td>\n",
       "      <td>0.574759</td>\n",
       "    </tr>\n",
       "    <tr>\n",
       "      <th>4</th>\n",
       "      <td>0.142141</td>\n",
       "      <td>0.152218</td>\n",
       "      <td>0.400650</td>\n",
       "      <td>False</td>\n",
       "      <td>NaN</td>\n",
       "      <td>0.043374</td>\n",
       "    </tr>\n",
       "  </tbody>\n",
       "</table>\n",
       "</div>"
      ],
      "text/plain": [
       "          x         y  xopt_runtime  xopt_error  \\\n",
       "1  0.844488  0.232588      0.300821        True   \n",
       "2  0.265390  0.046769      0.200455       False   \n",
       "3  0.268404  0.709026      0.300564       False   \n",
       "4  0.142141  0.152218      0.400650       False   \n",
       "\n",
       "                                      xopt_error_str        f1  \n",
       "1  Traceback (most recent call last):\\n  File \"/u...       NaN  \n",
       "2                                                NaN  0.072619  \n",
       "3                                                NaN  0.574759  \n",
       "4                                                NaN  0.043374  "
      ]
     },
     "execution_count": 22,
     "metadata": {},
     "output_type": "execute_result"
    }
   ],
   "source": [
    "# Collect all finished futures and updata dataframe\n",
    "X.process_futures()\n",
    "X.data"
   ]
  },
  {
   "cell_type": "code",
   "execution_count": 23,
   "metadata": {
    "ExecuteTime": {
     "end_time": "2023-06-30T16:48:42.826989100Z",
     "start_time": "2023-06-30T16:48:42.807986800Z"
    },
    "collapsed": false,
    "execution": {
     "iopub.execute_input": "2023-08-19T02:03:08.846372Z",
     "iopub.status.busy": "2023-08-19T02:03:08.846042Z",
     "iopub.status.idle": "2023-08-19T02:03:08.849707Z",
     "shell.execute_reply": "2023-08-19T02:03:08.849236Z"
    },
    "jupyter": {
     "outputs_hidden": false
    }
   },
   "outputs": [
    {
     "data": {
      "text/plain": [
       "{}"
      ]
     },
     "execution_count": 23,
     "metadata": {},
     "output_type": "execute_result"
    }
   ],
   "source": [
    "# Futures are now cleared out\n",
    "X._futures"
   ]
  },
  {
   "cell_type": "code",
   "execution_count": 24,
   "metadata": {
    "ExecuteTime": {
     "end_time": "2023-06-30T16:48:43.351988300Z",
     "start_time": "2023-06-30T16:48:43.335995200Z"
    },
    "collapsed": false,
    "execution": {
     "iopub.execute_input": "2023-08-19T02:03:08.852444Z",
     "iopub.status.busy": "2023-08-19T02:03:08.851959Z",
     "iopub.status.idle": "2023-08-19T02:03:08.855897Z",
     "shell.execute_reply": "2023-08-19T02:03:08.855262Z"
    },
    "jupyter": {
     "outputs_hidden": false
    }
   },
   "outputs": [
    {
     "data": {
      "text/plain": [
       "4"
      ]
     },
     "execution_count": 24,
     "metadata": {},
     "output_type": "execute_result"
    }
   ],
   "source": [
    "# This is the internal counter\n",
    "X._ix_last"
   ]
  },
  {
   "cell_type": "code",
   "execution_count": 25,
   "metadata": {
    "ExecuteTime": {
     "end_time": "2023-06-30T16:48:44.862022600Z",
     "start_time": "2023-06-30T16:48:44.002022700Z"
    },
    "collapsed": false,
    "execution": {
     "iopub.execute_input": "2023-08-19T02:03:08.859433Z",
     "iopub.status.busy": "2023-08-19T02:03:08.859104Z",
     "iopub.status.idle": "2023-08-19T02:03:10.276321Z",
     "shell.execute_reply": "2023-08-19T02:03:10.275595Z"
    },
    "jupyter": {
     "outputs_hidden": false
    }
   },
   "outputs": [
    {
     "data": {
      "text/html": [
       "<div>\n",
       "<style scoped>\n",
       "    .dataframe tbody tr th:only-of-type {\n",
       "        vertical-align: middle;\n",
       "    }\n",
       "\n",
       "    .dataframe tbody tr th {\n",
       "        vertical-align: top;\n",
       "    }\n",
       "\n",
       "    .dataframe thead th {\n",
       "        text-align: right;\n",
       "    }\n",
       "</style>\n",
       "<table border=\"1\" class=\"dataframe\">\n",
       "  <thead>\n",
       "    <tr style=\"text-align: right;\">\n",
       "      <th></th>\n",
       "      <th>x</th>\n",
       "      <th>y</th>\n",
       "      <th>f1</th>\n",
       "      <th>xopt_runtime</th>\n",
       "      <th>xopt_error</th>\n",
       "      <th>xopt_error_str</th>\n",
       "    </tr>\n",
       "  </thead>\n",
       "  <tbody>\n",
       "    <tr>\n",
       "      <th>5</th>\n",
       "      <td>0.705105</td>\n",
       "      <td>0.723537</td>\n",
       "      <td>1.020680</td>\n",
       "      <td>0.300541</td>\n",
       "      <td>False</td>\n",
       "      <td>NaN</td>\n",
       "    </tr>\n",
       "    <tr>\n",
       "      <th>6</th>\n",
       "      <td>0.475619</td>\n",
       "      <td>0.532415</td>\n",
       "      <td>0.509679</td>\n",
       "      <td>0.300537</td>\n",
       "      <td>False</td>\n",
       "      <td>NaN</td>\n",
       "    </tr>\n",
       "    <tr>\n",
       "      <th>7</th>\n",
       "      <td>0.057461</td>\n",
       "      <td>0.684185</td>\n",
       "      <td>0.471410</td>\n",
       "      <td>0.400617</td>\n",
       "      <td>False</td>\n",
       "      <td>NaN</td>\n",
       "    </tr>\n",
       "    <tr>\n",
       "      <th>8</th>\n",
       "      <td>0.925261</td>\n",
       "      <td>0.609837</td>\n",
       "      <td>NaN</td>\n",
       "      <td>0.400796</td>\n",
       "      <td>True</td>\n",
       "      <td>Traceback (most recent call last):\\n  File \"/u...</td>\n",
       "    </tr>\n",
       "  </tbody>\n",
       "</table>\n",
       "</div>"
      ],
      "text/plain": [
       "          x         y        f1  xopt_runtime  xopt_error  \\\n",
       "5  0.705105  0.723537  1.020680      0.300541       False   \n",
       "6  0.475619  0.532415  0.509679      0.300537       False   \n",
       "7  0.057461  0.684185  0.471410      0.400617       False   \n",
       "8  0.925261  0.609837       NaN      0.400796        True   \n",
       "\n",
       "                                      xopt_error_str  \n",
       "5                                                NaN  \n",
       "6                                                NaN  \n",
       "7                                                NaN  \n",
       "8  Traceback (most recent call last):\\n  File \"/u...  "
      ]
     },
     "execution_count": 25,
     "metadata": {},
     "output_type": "execute_result"
    }
   ],
   "source": [
    "# This causes immediate evaluation\n",
    "X.evaluate_data(vocs.random_inputs(4))"
   ]
  },
  {
   "cell_type": "code",
   "execution_count": 26,
   "metadata": {
    "ExecuteTime": {
     "end_time": "2023-06-30T16:48:52.372248300Z",
     "start_time": "2023-06-30T16:48:52.236252200Z"
    },
    "collapsed": false,
    "execution": {
     "iopub.execute_input": "2023-08-19T02:03:10.280278Z",
     "iopub.status.busy": "2023-08-19T02:03:10.279906Z",
     "iopub.status.idle": "2023-08-19T02:03:10.493722Z",
     "shell.execute_reply": "2023-08-19T02:03:10.492993Z"
    },
    "jupyter": {
     "outputs_hidden": false
    }
   },
   "outputs": [
    {
     "data": {
      "text/html": [
       "<div>\n",
       "<style scoped>\n",
       "    .dataframe tbody tr th:only-of-type {\n",
       "        vertical-align: middle;\n",
       "    }\n",
       "\n",
       "    .dataframe tbody tr th {\n",
       "        vertical-align: top;\n",
       "    }\n",
       "\n",
       "    .dataframe thead th {\n",
       "        text-align: right;\n",
       "    }\n",
       "</style>\n",
       "<table border=\"1\" class=\"dataframe\">\n",
       "  <thead>\n",
       "    <tr style=\"text-align: right;\">\n",
       "      <th></th>\n",
       "      <th>x</th>\n",
       "      <th>y</th>\n",
       "      <th>xopt_runtime</th>\n",
       "      <th>xopt_error</th>\n",
       "      <th>xopt_error_str</th>\n",
       "      <th>f1</th>\n",
       "    </tr>\n",
       "  </thead>\n",
       "  <tbody>\n",
       "    <tr>\n",
       "      <th>1</th>\n",
       "      <td>0.844488</td>\n",
       "      <td>0.232588</td>\n",
       "      <td>0.300821</td>\n",
       "      <td>True</td>\n",
       "      <td>Traceback (most recent call last):\\n  File \"/u...</td>\n",
       "      <td>NaN</td>\n",
       "    </tr>\n",
       "    <tr>\n",
       "      <th>2</th>\n",
       "      <td>0.265390</td>\n",
       "      <td>0.046769</td>\n",
       "      <td>0.200455</td>\n",
       "      <td>False</td>\n",
       "      <td>NaN</td>\n",
       "      <td>0.072619</td>\n",
       "    </tr>\n",
       "    <tr>\n",
       "      <th>3</th>\n",
       "      <td>0.268404</td>\n",
       "      <td>0.709026</td>\n",
       "      <td>0.300564</td>\n",
       "      <td>False</td>\n",
       "      <td>NaN</td>\n",
       "      <td>0.574759</td>\n",
       "    </tr>\n",
       "    <tr>\n",
       "      <th>4</th>\n",
       "      <td>0.142141</td>\n",
       "      <td>0.152218</td>\n",
       "      <td>0.400650</td>\n",
       "      <td>False</td>\n",
       "      <td>NaN</td>\n",
       "      <td>0.043374</td>\n",
       "    </tr>\n",
       "    <tr>\n",
       "      <th>5</th>\n",
       "      <td>0.705105</td>\n",
       "      <td>0.723537</td>\n",
       "      <td>0.300541</td>\n",
       "      <td>False</td>\n",
       "      <td>NaN</td>\n",
       "      <td>1.020680</td>\n",
       "    </tr>\n",
       "    <tr>\n",
       "      <th>6</th>\n",
       "      <td>0.475619</td>\n",
       "      <td>0.532415</td>\n",
       "      <td>0.300537</td>\n",
       "      <td>False</td>\n",
       "      <td>NaN</td>\n",
       "      <td>0.509679</td>\n",
       "    </tr>\n",
       "    <tr>\n",
       "      <th>7</th>\n",
       "      <td>0.057461</td>\n",
       "      <td>0.684185</td>\n",
       "      <td>0.400617</td>\n",
       "      <td>False</td>\n",
       "      <td>NaN</td>\n",
       "      <td>0.471410</td>\n",
       "    </tr>\n",
       "    <tr>\n",
       "      <th>8</th>\n",
       "      <td>0.925261</td>\n",
       "      <td>0.609837</td>\n",
       "      <td>0.400796</td>\n",
       "      <td>True</td>\n",
       "      <td>Traceback (most recent call last):\\n  File \"/u...</td>\n",
       "      <td>NaN</td>\n",
       "    </tr>\n",
       "    <tr>\n",
       "      <th>9</th>\n",
       "      <td>0.333263</td>\n",
       "      <td>0.127120</td>\n",
       "      <td>0.200439</td>\n",
       "      <td>False</td>\n",
       "      <td>NaN</td>\n",
       "      <td>0.127224</td>\n",
       "    </tr>\n",
       "  </tbody>\n",
       "</table>\n",
       "</div>"
      ],
      "text/plain": [
       "          x         y  xopt_runtime  xopt_error  \\\n",
       "1  0.844488  0.232588      0.300821        True   \n",
       "2  0.265390  0.046769      0.200455       False   \n",
       "3  0.268404  0.709026      0.300564       False   \n",
       "4  0.142141  0.152218      0.400650       False   \n",
       "5  0.705105  0.723537      0.300541       False   \n",
       "6  0.475619  0.532415      0.300537       False   \n",
       "7  0.057461  0.684185      0.400617       False   \n",
       "8  0.925261  0.609837      0.400796        True   \n",
       "9  0.333263  0.127120      0.200439       False   \n",
       "\n",
       "                                      xopt_error_str        f1  \n",
       "1  Traceback (most recent call last):\\n  File \"/u...       NaN  \n",
       "2                                                NaN  0.072619  \n",
       "3                                                NaN  0.574759  \n",
       "4                                                NaN  0.043374  \n",
       "5                                                NaN  1.020680  \n",
       "6                                                NaN  0.509679  \n",
       "7                                                NaN  0.471410  \n",
       "8  Traceback (most recent call last):\\n  File \"/u...       NaN  \n",
       "9                                                NaN  0.127224  "
      ]
     },
     "execution_count": 26,
     "metadata": {},
     "output_type": "execute_result"
    }
   ],
   "source": [
    "# Singe generation step\n",
    "X.step()\n",
    "X.data"
   ]
  },
  {
   "cell_type": "code",
   "execution_count": 27,
   "metadata": {
    "execution": {
     "iopub.execute_input": "2023-08-19T02:03:10.497452Z",
     "iopub.status.busy": "2023-08-19T02:03:10.497012Z",
     "iopub.status.idle": "2023-08-19T02:03:10.503570Z",
     "shell.execute_reply": "2023-08-19T02:03:10.502910Z"
    }
   },
   "outputs": [],
   "source": [
    "# Usage with a parallel executor. \n",
    "X2 = Xopt(\n",
    "    generator=RandomGenerator(vocs=vocs),\n",
    "    evaluator=Evaluator(function=f, executor=executor, max_workers=MAX_WORKERS),\n",
    "    vocs=vocs,\n",
    ")\n",
    "X2.options.asynch = True\n",
    "X2.options.strict = False"
   ]
  },
  {
   "cell_type": "code",
   "execution_count": 28,
   "metadata": {
    "execution": {
     "iopub.execute_input": "2023-08-19T02:03:10.506680Z",
     "iopub.status.busy": "2023-08-19T02:03:10.506187Z",
     "iopub.status.idle": "2023-08-19T02:03:10.617055Z",
     "shell.execute_reply": "2023-08-19T02:03:10.616389Z"
    }
   },
   "outputs": [],
   "source": [
    "X2.step()"
   ]
  },
  {
   "cell_type": "code",
   "execution_count": 29,
   "metadata": {
    "collapsed": false,
    "execution": {
     "iopub.execute_input": "2023-08-19T02:03:10.620438Z",
     "iopub.status.busy": "2023-08-19T02:03:10.620000Z",
     "iopub.status.idle": "2023-08-19T02:03:11.479415Z",
     "shell.execute_reply": "2023-08-19T02:03:11.478834Z"
    },
    "jupyter": {
     "outputs_hidden": false
    }
   },
   "outputs": [
    {
     "data": {
      "text/plain": [
       "53"
      ]
     },
     "execution_count": 29,
     "metadata": {},
     "output_type": "execute_result"
    }
   ],
   "source": [
    "for _ in range(20):\n",
    "    X2.step()\n",
    "\n",
    "len(X2.data)"
   ]
  },
  {
   "cell_type": "code",
   "execution_count": 30,
   "metadata": {
    "collapsed": false,
    "execution": {
     "iopub.execute_input": "2023-08-19T02:03:11.483323Z",
     "iopub.status.busy": "2023-08-19T02:03:11.482790Z",
     "iopub.status.idle": "2023-08-19T02:03:12.133488Z",
     "shell.execute_reply": "2023-08-19T02:03:12.132921Z"
    },
    "jupyter": {
     "outputs_hidden": false
    }
   },
   "outputs": [
    {
     "data": {
      "text/plain": [
       "<Axes: xlabel='x', ylabel='y'>"
      ]
     },
     "execution_count": 30,
     "metadata": {},
     "output_type": "execute_result"
    },
    {
     "data": {
      "image/png": "[encoded data removed]",
      "text/plain": [
       "<Figure size 640x480 with 1 Axes>"
      ]
     },
     "metadata": {},
     "output_type": "display_data"
    }
   ],
   "source": [
    "X2.data.plot.scatter(\"x\", \"y\")"
   ]
  },
  {
   "cell_type": "code",
   "execution_count": 31,
   "metadata": {
    "collapsed": false,
    "execution": {
     "iopub.execute_input": "2023-08-19T02:03:12.136742Z",
     "iopub.status.busy": "2023-08-19T02:03:12.136240Z",
     "iopub.status.idle": "2023-08-19T02:03:12.465470Z",
     "shell.execute_reply": "2023-08-19T02:03:12.464883Z"
    },
    "jupyter": {
     "outputs_hidden": false
    },
    "tags": []
   },
   "outputs": [
    {
     "data": {
      "text/plain": [
       "30"
      ]
     },
     "execution_count": 31,
     "metadata": {},
     "output_type": "execute_result"
    }
   ],
   "source": [
    "# Asynchronous, Vectorized\n",
    "X2 = Xopt(\n",
    "    generator=RandomGenerator(vocs=vocs),\n",
    "    evaluator=Evaluator(function=f, executor=executor, max_workers=MAX_WORKERS),\n",
    "    vocs=vocs,\n",
    ")\n",
    "X2.options.asynch = True\n",
    "X2.evaluator.vectorized = True\n",
    "X2.options.strict = False\n",
    "\n",
    "# This takes fewer steps to achieve a similar number of evaluations\n",
    "for _ in range(3):\n",
    "    X2.step()\n",
    "\n",
    "len(X2.data)"
   ]
  }
 ],
 "metadata": {
  "kernelspec": {
   "display_name": "Python 3 (ipykernel)",
   "language": "python",
   "name": "python3"
  },
  "language_info": {
   "codemirror_mode": {
    "name": "ipython",
    "version": 3
   },
   "file_extension": ".py",
   "mimetype": "text/x-python",
   "name": "python",
   "nbconvert_exporter": "python",
   "pygments_lexer": "ipython3",
   "version": "3.9.17"
  },
  "vscode": {
   "interpreter": {
    "hash": "4483d4964800812ebc77892a92dde3b54705ec8a224d63d9bb659e2cc457018b"
   }
  }
 },
 "nbformat": 4,
 "nbformat_minor": 4
}
