{
 "cells": [
  {
   "cell_type": "markdown",
   "metadata": {},
   "source": [
    "# Xopt Evaluator Basic Usage \n",
    "\n",
    "The `Evaluator` handles the execution of the user-provided `function` with optional `function_kwags`, asyncrhonously and parallel, with exception handling. "
   ]
  },
  {
   "cell_type": "code",
   "execution_count": 1,
   "metadata": {
    "collapsed": false,
    "execution": {
     "iopub.execute_input": "2023-06-30T02:21:54.221113Z",
     "iopub.status.busy": "2023-06-30T02:21:54.220857Z",
     "iopub.status.idle": "2023-06-30T02:21:54.229422Z",
     "shell.execute_reply": "2023-06-30T02:21:54.228827Z"
    },
    "jupyter": {
     "outputs_hidden": false
    }
   },
   "outputs": [],
   "source": [
    "# needed for macos\n",
    "import platform\n",
    "if platform.system() == \"Darwin\": import multiprocessing;multiprocessing.set_start_method(\"fork\")\n"
   ]
  },
  {
   "cell_type": "code",
   "execution_count": 2,
   "metadata": {
    "collapsed": false,
    "execution": {
     "iopub.execute_input": "2023-06-30T02:21:54.232401Z",
     "iopub.status.busy": "2023-06-30T02:21:54.232002Z",
     "iopub.status.idle": "2023-06-30T02:21:56.383694Z",
     "shell.execute_reply": "2023-06-30T02:21:56.382609Z"
    },
    "jupyter": {
     "outputs_hidden": false
    }
   },
   "outputs": [],
   "source": [
    "from xopt import Xopt, Evaluator, VOCS\n",
    "from xopt.generators.random import RandomGenerator\n",
    "\n",
    "import pandas as pd\n",
    "\n",
    "from time import sleep\n",
    "from numpy.random import randint\n",
    "\n",
    "from typing import Dict\n",
    "\n",
    "import numpy as np\n",
    "np.random.seed(666) # for reproducibility"
   ]
  },
  {
   "cell_type": "markdown",
   "metadata": {},
   "source": [
    "Define a custom function `f(inputs: Dict) -> outputs: Dict`. "
   ]
  },
  {
   "cell_type": "code",
   "execution_count": 3,
   "metadata": {
    "execution": {
     "iopub.execute_input": "2023-06-30T02:21:56.387928Z",
     "iopub.status.busy": "2023-06-30T02:21:56.387308Z",
     "iopub.status.idle": "2023-06-30T02:21:56.393445Z",
     "shell.execute_reply": "2023-06-30T02:21:56.392829Z"
    }
   },
   "outputs": [],
   "source": [
    "def f(inputs: Dict, enable_errors=True) -> Dict:\n",
    "\n",
    "    sleep(randint(1, 5)*.1)  # simulate computation time\n",
    "    # Make some occasional errors\n",
    "    if enable_errors and np.any(inputs[\"x\"] > 0.8):\n",
    "        raise ValueError(\"x > 0.8\")\n",
    "\n",
    "    return {\"f1\": inputs[\"x\"] ** 2 + inputs[\"y\"] ** 2}"
   ]
  },
  {
   "cell_type": "markdown",
   "metadata": {},
   "source": [
    "Define variables, objectives, constraints, and other settings (VOCS)"
   ]
  },
  {
   "cell_type": "code",
   "execution_count": 4,
   "metadata": {
    "collapsed": false,
    "execution": {
     "iopub.execute_input": "2023-06-30T02:21:56.396464Z",
     "iopub.status.busy": "2023-06-30T02:21:56.396115Z",
     "iopub.status.idle": "2023-06-30T02:21:56.409856Z",
     "shell.execute_reply": "2023-06-30T02:21:56.409332Z"
    },
    "jupyter": {
     "outputs_hidden": false
    }
   },
   "outputs": [
    {
     "data": {
      "text/plain": [
       "VOCS(variables={'x': [0.0, 1.0], 'y': [0.0, 1.0]}, constraints={}, objectives={'f1': 'MINIMIZE'}, constants={}, observables=[])"
      ]
     },
     "execution_count": 4,
     "metadata": {},
     "output_type": "execute_result"
    }
   ],
   "source": [
    "vocs = VOCS(variables={\"x\": [0, 1], \"y\": [0, 1]}, objectives={\"f1\": \"MINIMIZE\"})\n",
    "vocs\n",
    "\n"
   ]
  },
  {
   "cell_type": "markdown",
   "metadata": {},
   "source": [
    "This can be used to make some random inputs for evaluating the function. "
   ]
  },
  {
   "cell_type": "code",
   "execution_count": 5,
   "metadata": {
    "execution": {
     "iopub.execute_input": "2023-06-30T02:21:56.446146Z",
     "iopub.status.busy": "2023-06-30T02:21:56.445365Z",
     "iopub.status.idle": "2023-06-30T02:21:56.753365Z",
     "shell.execute_reply": "2023-06-30T02:21:56.752618Z"
    }
   },
   "outputs": [
    {
     "data": {
      "text/plain": [
       "{'f1': 0.11401572022703582}"
      ]
     },
     "execution_count": 5,
     "metadata": {},
     "output_type": "execute_result"
    }
   ],
   "source": [
    "in1 = vocs.random_inputs()\n",
    "\n",
    "f(in1, enable_errors=False)"
   ]
  },
  {
   "cell_type": "code",
   "execution_count": 6,
   "metadata": {
    "execution": {
     "iopub.execute_input": "2023-06-30T02:21:56.757353Z",
     "iopub.status.busy": "2023-06-30T02:21:56.756723Z",
     "iopub.status.idle": "2023-06-30T02:21:57.063903Z",
     "shell.execute_reply": "2023-06-30T02:21:57.062994Z"
    }
   },
   "outputs": [
    {
     "name": "stdout",
     "output_type": "stream",
     "text": [
      "Caught error in f: x > 0.8\n"
     ]
    }
   ],
   "source": [
    "# Add in occasional errors. \n",
    "try:\n",
    "    f({\"x\": 1, \"y\": 0})\n",
    "except Exception as ex:\n",
    "    print(f\"Caught error in f: {ex}\")"
   ]
  },
  {
   "cell_type": "code",
   "execution_count": 7,
   "metadata": {
    "execution": {
     "iopub.execute_input": "2023-06-30T02:21:57.067497Z",
     "iopub.status.busy": "2023-06-30T02:21:57.067041Z",
     "iopub.status.idle": "2023-06-30T02:21:57.078536Z",
     "shell.execute_reply": "2023-06-30T02:21:57.077963Z"
    }
   },
   "outputs": [],
   "source": [
    "# Create Evaluator\n",
    "ev = Evaluator(function=f)"
   ]
  },
  {
   "cell_type": "code",
   "execution_count": 8,
   "metadata": {
    "execution": {
     "iopub.execute_input": "2023-06-30T02:21:57.081456Z",
     "iopub.status.busy": "2023-06-30T02:21:57.081099Z",
     "iopub.status.idle": "2023-06-30T02:21:57.286630Z",
     "shell.execute_reply": "2023-06-30T02:21:57.285794Z"
    }
   },
   "outputs": [
    {
     "data": {
      "text/plain": [
       "{'f1': 0.11401572022703582,\n",
       " 'xopt_runtime': 0.20047653099993568,\n",
       " 'xopt_error': False}"
      ]
     },
     "execution_count": 8,
     "metadata": {},
     "output_type": "execute_result"
    }
   ],
   "source": [
    "# Single input evaluation\n",
    "ev.evaluate(in1)"
   ]
  },
  {
   "cell_type": "code",
   "execution_count": 9,
   "metadata": {
    "execution": {
     "iopub.execute_input": "2023-06-30T02:21:57.290212Z",
     "iopub.status.busy": "2023-06-30T02:21:57.289751Z",
     "iopub.status.idle": "2023-06-30T02:21:59.912065Z",
     "shell.execute_reply": "2023-06-30T02:21:59.911278Z"
    }
   },
   "outputs": [
    {
     "data": {
      "text/html": [
       "<div>\n",
       "<style scoped>\n",
       "    .dataframe tbody tr th:only-of-type {\n",
       "        vertical-align: middle;\n",
       "    }\n",
       "\n",
       "    .dataframe tbody tr th {\n",
       "        vertical-align: top;\n",
       "    }\n",
       "\n",
       "    .dataframe thead th {\n",
       "        text-align: right;\n",
       "    }\n",
       "</style>\n",
       "<table border=\"1\" class=\"dataframe\">\n",
       "  <thead>\n",
       "    <tr style=\"text-align: right;\">\n",
       "      <th></th>\n",
       "      <th>f1</th>\n",
       "      <th>xopt_runtime</th>\n",
       "      <th>xopt_error</th>\n",
       "      <th>xopt_error_str</th>\n",
       "    </tr>\n",
       "  </thead>\n",
       "  <tbody>\n",
       "    <tr>\n",
       "      <th>0</th>\n",
       "      <td>0.000000</td>\n",
       "      <td>0.300592</td>\n",
       "      <td>False</td>\n",
       "      <td>NaN</td>\n",
       "    </tr>\n",
       "    <tr>\n",
       "      <th>1</th>\n",
       "      <td>0.024691</td>\n",
       "      <td>0.100391</td>\n",
       "      <td>False</td>\n",
       "      <td>NaN</td>\n",
       "    </tr>\n",
       "    <tr>\n",
       "      <th>2</th>\n",
       "      <td>0.098765</td>\n",
       "      <td>0.200476</td>\n",
       "      <td>False</td>\n",
       "      <td>NaN</td>\n",
       "    </tr>\n",
       "    <tr>\n",
       "      <th>3</th>\n",
       "      <td>0.222222</td>\n",
       "      <td>0.400630</td>\n",
       "      <td>False</td>\n",
       "      <td>NaN</td>\n",
       "    </tr>\n",
       "    <tr>\n",
       "      <th>4</th>\n",
       "      <td>0.395062</td>\n",
       "      <td>0.300404</td>\n",
       "      <td>False</td>\n",
       "      <td>NaN</td>\n",
       "    </tr>\n",
       "    <tr>\n",
       "      <th>5</th>\n",
       "      <td>0.617284</td>\n",
       "      <td>0.400662</td>\n",
       "      <td>False</td>\n",
       "      <td>NaN</td>\n",
       "    </tr>\n",
       "    <tr>\n",
       "      <th>6</th>\n",
       "      <td>0.888889</td>\n",
       "      <td>0.100354</td>\n",
       "      <td>False</td>\n",
       "      <td>NaN</td>\n",
       "    </tr>\n",
       "    <tr>\n",
       "      <th>7</th>\n",
       "      <td>1.209877</td>\n",
       "      <td>0.400747</td>\n",
       "      <td>False</td>\n",
       "      <td>NaN</td>\n",
       "    </tr>\n",
       "    <tr>\n",
       "      <th>8</th>\n",
       "      <td>NaN</td>\n",
       "      <td>0.100842</td>\n",
       "      <td>True</td>\n",
       "      <td>Traceback (most recent call last):\\n  File \"/u...</td>\n",
       "    </tr>\n",
       "    <tr>\n",
       "      <th>9</th>\n",
       "      <td>NaN</td>\n",
       "      <td>0.300725</td>\n",
       "      <td>True</td>\n",
       "      <td>Traceback (most recent call last):\\n  File \"/u...</td>\n",
       "    </tr>\n",
       "  </tbody>\n",
       "</table>\n",
       "</div>"
      ],
      "text/plain": [
       "         f1  xopt_runtime  xopt_error  \\\n",
       "0  0.000000      0.300592       False   \n",
       "1  0.024691      0.100391       False   \n",
       "2  0.098765      0.200476       False   \n",
       "3  0.222222      0.400630       False   \n",
       "4  0.395062      0.300404       False   \n",
       "5  0.617284      0.400662       False   \n",
       "6  0.888889      0.100354       False   \n",
       "7  1.209877      0.400747       False   \n",
       "8       NaN      0.100842        True   \n",
       "9       NaN      0.300725        True   \n",
       "\n",
       "                                      xopt_error_str  \n",
       "0                                                NaN  \n",
       "1                                                NaN  \n",
       "2                                                NaN  \n",
       "3                                                NaN  \n",
       "4                                                NaN  \n",
       "5                                                NaN  \n",
       "6                                                NaN  \n",
       "7                                                NaN  \n",
       "8  Traceback (most recent call last):\\n  File \"/u...  \n",
       "9  Traceback (most recent call last):\\n  File \"/u...  "
      ]
     },
     "execution_count": 9,
     "metadata": {},
     "output_type": "execute_result"
    }
   ],
   "source": [
    "# Dataframe evaluation\n",
    "in10 = pd.DataFrame({\n",
    "    \"x\":np.linspace(0,1,10),\n",
    "    \"y\":np.linspace(0,1,10)\n",
    "})\n",
    "ev.evaluate_data(in10)\n"
   ]
  },
  {
   "cell_type": "code",
   "execution_count": 10,
   "metadata": {
    "execution": {
     "iopub.execute_input": "2023-06-30T02:21:59.915649Z",
     "iopub.status.busy": "2023-06-30T02:21:59.915270Z",
     "iopub.status.idle": "2023-06-30T02:22:02.428071Z",
     "shell.execute_reply": "2023-06-30T02:22:02.427198Z"
    }
   },
   "outputs": [
    {
     "name": "stdout",
     "output_type": "stream",
     "text": [
      "{'f1': 0.0, 'xopt_runtime': 0.2004360619999943, 'xopt_error': False}\n",
      "{'f1': 0.024691358024691357, 'xopt_runtime': 0.40067592399998375, 'xopt_error': False}\n",
      "{'f1': 0.09876543209876543, 'xopt_runtime': 0.10049833000005037, 'xopt_error': False}\n",
      "{'f1': 0.2222222222222222, 'xopt_runtime': 0.3006383929999856, 'xopt_error': False}\n",
      "{'f1': 0.3950617283950617, 'xopt_runtime': 0.10036873100000321, 'xopt_error': False}\n",
      "{'f1': 0.617283950617284, 'xopt_runtime': 0.40068332500004544, 'xopt_error': False}\n",
      "{'f1': 0.8888888888888888, 'xopt_runtime': 0.20044786200003273, 'xopt_error': False}\n",
      "{'f1': 1.2098765432098761, 'xopt_runtime': 0.30054479299997183, 'xopt_error': False}\n",
      "{'xopt_runtime': 0.10052272999996603, 'xopt_error': True, 'xopt_error_str': 'Traceback (most recent call last):\\n  File \"/usr/share/miniconda3/envs/xopt-dev/lib/python3.9/site-packages/xopt/utils.py\", line 132, in safe_call\\n    result = func(*args, **kwargs)\\n  File \"/tmp/ipykernel_3534/4275037860.py\", line 6, in f\\n    raise ValueError(\"x > 0.8\")\\nValueError: x > 0.8\\n'}\n",
      "{'xopt_runtime': 0.400851024000076, 'xopt_error': True, 'xopt_error_str': 'Traceback (most recent call last):\\n  File \"/usr/share/miniconda3/envs/xopt-dev/lib/python3.9/site-packages/xopt/utils.py\", line 132, in safe_call\\n    result = func(*args, **kwargs)\\n  File \"/tmp/ipykernel_3534/4275037860.py\", line 6, in f\\n    raise ValueError(\"x > 0.8\")\\nValueError: x > 0.8\\n'}\n"
     ]
    }
   ],
   "source": [
    "# Dataframe submission (returns futures dict)\n",
    "futures = ev.submit_data(in10)\n",
    "for future in futures:\n",
    "    print(future.result())"
   ]
  },
  {
   "cell_type": "code",
   "execution_count": 11,
   "metadata": {
    "execution": {
     "iopub.execute_input": "2023-06-30T02:22:02.431639Z",
     "iopub.status.busy": "2023-06-30T02:22:02.431184Z",
     "iopub.status.idle": "2023-06-30T02:22:02.641623Z",
     "shell.execute_reply": "2023-06-30T02:22:02.640849Z"
    }
   },
   "outputs": [
    {
     "data": {
      "text/html": [
       "<div>\n",
       "<style scoped>\n",
       "    .dataframe tbody tr th:only-of-type {\n",
       "        vertical-align: middle;\n",
       "    }\n",
       "\n",
       "    .dataframe tbody tr th {\n",
       "        vertical-align: top;\n",
       "    }\n",
       "\n",
       "    .dataframe thead th {\n",
       "        text-align: right;\n",
       "    }\n",
       "</style>\n",
       "<table border=\"1\" class=\"dataframe\">\n",
       "  <thead>\n",
       "    <tr style=\"text-align: right;\">\n",
       "      <th></th>\n",
       "      <th>xopt_runtime</th>\n",
       "      <th>xopt_error</th>\n",
       "      <th>xopt_error_str</th>\n",
       "    </tr>\n",
       "  </thead>\n",
       "  <tbody>\n",
       "    <tr>\n",
       "      <th>0</th>\n",
       "      <td>0.201241</td>\n",
       "      <td>True</td>\n",
       "      <td>Traceback (most recent call last):\\n  File \"/u...</td>\n",
       "    </tr>\n",
       "    <tr>\n",
       "      <th>1</th>\n",
       "      <td>0.201241</td>\n",
       "      <td>True</td>\n",
       "      <td>Traceback (most recent call last):\\n  File \"/u...</td>\n",
       "    </tr>\n",
       "    <tr>\n",
       "      <th>2</th>\n",
       "      <td>0.201241</td>\n",
       "      <td>True</td>\n",
       "      <td>Traceback (most recent call last):\\n  File \"/u...</td>\n",
       "    </tr>\n",
       "    <tr>\n",
       "      <th>3</th>\n",
       "      <td>0.201241</td>\n",
       "      <td>True</td>\n",
       "      <td>Traceback (most recent call last):\\n  File \"/u...</td>\n",
       "    </tr>\n",
       "    <tr>\n",
       "      <th>4</th>\n",
       "      <td>0.201241</td>\n",
       "      <td>True</td>\n",
       "      <td>Traceback (most recent call last):\\n  File \"/u...</td>\n",
       "    </tr>\n",
       "    <tr>\n",
       "      <th>5</th>\n",
       "      <td>0.201241</td>\n",
       "      <td>True</td>\n",
       "      <td>Traceback (most recent call last):\\n  File \"/u...</td>\n",
       "    </tr>\n",
       "    <tr>\n",
       "      <th>6</th>\n",
       "      <td>0.201241</td>\n",
       "      <td>True</td>\n",
       "      <td>Traceback (most recent call last):\\n  File \"/u...</td>\n",
       "    </tr>\n",
       "    <tr>\n",
       "      <th>7</th>\n",
       "      <td>0.201241</td>\n",
       "      <td>True</td>\n",
       "      <td>Traceback (most recent call last):\\n  File \"/u...</td>\n",
       "    </tr>\n",
       "    <tr>\n",
       "      <th>8</th>\n",
       "      <td>0.201241</td>\n",
       "      <td>True</td>\n",
       "      <td>Traceback (most recent call last):\\n  File \"/u...</td>\n",
       "    </tr>\n",
       "    <tr>\n",
       "      <th>9</th>\n",
       "      <td>0.201241</td>\n",
       "      <td>True</td>\n",
       "      <td>Traceback (most recent call last):\\n  File \"/u...</td>\n",
       "    </tr>\n",
       "  </tbody>\n",
       "</table>\n",
       "</div>"
      ],
      "text/plain": [
       "   xopt_runtime  xopt_error                                     xopt_error_str\n",
       "0      0.201241        True  Traceback (most recent call last):\\n  File \"/u...\n",
       "1      0.201241        True  Traceback (most recent call last):\\n  File \"/u...\n",
       "2      0.201241        True  Traceback (most recent call last):\\n  File \"/u...\n",
       "3      0.201241        True  Traceback (most recent call last):\\n  File \"/u...\n",
       "4      0.201241        True  Traceback (most recent call last):\\n  File \"/u...\n",
       "5      0.201241        True  Traceback (most recent call last):\\n  File \"/u...\n",
       "6      0.201241        True  Traceback (most recent call last):\\n  File \"/u...\n",
       "7      0.201241        True  Traceback (most recent call last):\\n  File \"/u...\n",
       "8      0.201241        True  Traceback (most recent call last):\\n  File \"/u...\n",
       "9      0.201241        True  Traceback (most recent call last):\\n  File \"/u..."
      ]
     },
     "execution_count": 11,
     "metadata": {},
     "output_type": "execute_result"
    }
   ],
   "source": [
    "# Dataframe evaluation, vectorized\n",
    "ev.vectorized = True\n",
    "ev.evaluate_data(in10)\n"
   ]
  },
  {
   "cell_type": "code",
   "execution_count": 12,
   "metadata": {
    "execution": {
     "iopub.execute_input": "2023-06-30T02:22:02.645526Z",
     "iopub.status.busy": "2023-06-30T02:22:02.645068Z",
     "iopub.status.idle": "2023-06-30T02:22:02.851513Z",
     "shell.execute_reply": "2023-06-30T02:22:02.850694Z"
    }
   },
   "outputs": [
    {
     "data": {
      "text/plain": [
       "1"
      ]
     },
     "execution_count": 12,
     "metadata": {},
     "output_type": "execute_result"
    }
   ],
   "source": [
    "# Vectorized submission. This returns a single future.\n",
    "ev.vectorized = True\n",
    "futures = ev.submit_data(in10)\n",
    "len(futures)"
   ]
  },
  {
   "cell_type": "code",
   "execution_count": 13,
   "metadata": {
    "execution": {
     "iopub.execute_input": "2023-06-30T02:22:02.855350Z",
     "iopub.status.busy": "2023-06-30T02:22:02.854855Z",
     "iopub.status.idle": "2023-06-30T02:22:02.859811Z",
     "shell.execute_reply": "2023-06-30T02:22:02.859192Z"
    }
   },
   "outputs": [
    {
     "data": {
      "text/plain": [
       "{'xopt_runtime': 0.20063168399997267,\n",
       " 'xopt_error': True,\n",
       " 'xopt_error_str': 'Traceback (most recent call last):\\n  File \"/usr/share/miniconda3/envs/xopt-dev/lib/python3.9/site-packages/xopt/utils.py\", line 132, in safe_call\\n    result = func(*args, **kwargs)\\n  File \"/tmp/ipykernel_3534/4275037860.py\", line 6, in f\\n    raise ValueError(\"x > 0.8\")\\nValueError: x > 0.8\\n'}"
      ]
     },
     "execution_count": 13,
     "metadata": {},
     "output_type": "execute_result"
    }
   ],
   "source": [
    "futures[0].result()"
   ]
  },
  {
   "cell_type": "code",
   "execution_count": 14,
   "metadata": {
    "execution": {
     "iopub.execute_input": "2023-06-30T02:22:02.863576Z",
     "iopub.status.busy": "2023-06-30T02:22:02.863013Z",
     "iopub.status.idle": "2023-06-30T02:22:02.870864Z",
     "shell.execute_reply": "2023-06-30T02:22:02.870239Z"
    }
   },
   "outputs": [
    {
     "data": {
      "text/html": [
       "<div>\n",
       "<style scoped>\n",
       "    .dataframe tbody tr th:only-of-type {\n",
       "        vertical-align: middle;\n",
       "    }\n",
       "\n",
       "    .dataframe tbody tr th {\n",
       "        vertical-align: top;\n",
       "    }\n",
       "\n",
       "    .dataframe thead th {\n",
       "        text-align: right;\n",
       "    }\n",
       "</style>\n",
       "<table border=\"1\" class=\"dataframe\">\n",
       "  <thead>\n",
       "    <tr style=\"text-align: right;\">\n",
       "      <th></th>\n",
       "      <th>xopt_runtime</th>\n",
       "      <th>xopt_error</th>\n",
       "      <th>xopt_error_str</th>\n",
       "    </tr>\n",
       "  </thead>\n",
       "  <tbody>\n",
       "    <tr>\n",
       "      <th>0</th>\n",
       "      <td>0.200632</td>\n",
       "      <td>True</td>\n",
       "      <td>Traceback (most recent call last):\\n  File \"/u...</td>\n",
       "    </tr>\n",
       "  </tbody>\n",
       "</table>\n",
       "</div>"
      ],
      "text/plain": [
       "   xopt_runtime  xopt_error                                     xopt_error_str\n",
       "0      0.200632        True  Traceback (most recent call last):\\n  File \"/u..."
      ]
     },
     "execution_count": 14,
     "metadata": {},
     "output_type": "execute_result"
    }
   ],
   "source": [
    "# Collect in a dataframe\n",
    "res = futures[0].result()\n",
    "# If there is an error, all outputs are spoiled.\n",
    "if res['xopt_error']:\n",
    "    res = [res]\n",
    "pd.DataFrame(res)"
   ]
  },
  {
   "cell_type": "markdown",
   "metadata": {},
   "source": [
    "# Executors"
   ]
  },
  {
   "cell_type": "code",
   "execution_count": 15,
   "metadata": {
    "execution": {
     "iopub.execute_input": "2023-06-30T02:22:02.874027Z",
     "iopub.status.busy": "2023-06-30T02:22:02.873618Z",
     "iopub.status.idle": "2023-06-30T02:22:02.876678Z",
     "shell.execute_reply": "2023-06-30T02:22:02.876020Z"
    }
   },
   "outputs": [],
   "source": [
    "from concurrent.futures import ThreadPoolExecutor, ProcessPoolExecutor\n",
    "MAX_WORKERS = 10"
   ]
  },
  {
   "cell_type": "code",
   "execution_count": 16,
   "metadata": {
    "execution": {
     "iopub.execute_input": "2023-06-30T02:22:02.879507Z",
     "iopub.status.busy": "2023-06-30T02:22:02.879174Z",
     "iopub.status.idle": "2023-06-30T02:22:02.884537Z",
     "shell.execute_reply": "2023-06-30T02:22:02.883881Z"
    }
   },
   "outputs": [
    {
     "data": {
      "text/plain": [
       "<concurrent.futures.process.ProcessPoolExecutor at 0x7f4f023a5d60>"
      ]
     },
     "execution_count": 16,
     "metadata": {},
     "output_type": "execute_result"
    }
   ],
   "source": [
    "# Create Executor insance\n",
    "executor = ProcessPoolExecutor(max_workers=MAX_WORKERS)\n",
    "executor"
   ]
  },
  {
   "cell_type": "code",
   "execution_count": 17,
   "metadata": {
    "execution": {
     "iopub.execute_input": "2023-06-30T02:22:02.887266Z",
     "iopub.status.busy": "2023-06-30T02:22:02.886855Z",
     "iopub.status.idle": "2023-06-30T02:22:02.889630Z",
     "shell.execute_reply": "2023-06-30T02:22:02.889001Z"
    }
   },
   "outputs": [],
   "source": [
    "# Dask (Optional)\n",
    "# from dask.distributed import Client\n",
    "# import logging\n",
    "# client = Client( silence_logs=logging.ERROR)\n",
    "# executor = client.get_executor()\n",
    "# client"
   ]
  },
  {
   "cell_type": "code",
   "execution_count": 18,
   "metadata": {
    "execution": {
     "iopub.execute_input": "2023-06-30T02:22:02.892537Z",
     "iopub.status.busy": "2023-06-30T02:22:02.892119Z",
     "iopub.status.idle": "2023-06-30T02:22:02.901795Z",
     "shell.execute_reply": "2023-06-30T02:22:02.901193Z"
    }
   },
   "outputs": [],
   "source": [
    "# This calls `executor.map`\n",
    "ev = Evaluator(function=f, executor=executor, max_workers=MAX_WORKERS)"
   ]
  },
  {
   "cell_type": "code",
   "execution_count": 19,
   "metadata": {
    "execution": {
     "iopub.execute_input": "2023-06-30T02:22:02.904378Z",
     "iopub.status.busy": "2023-06-30T02:22:02.903973Z",
     "iopub.status.idle": "2023-06-30T02:22:03.206576Z",
     "shell.execute_reply": "2023-06-30T02:22:03.205433Z"
    }
   },
   "outputs": [
    {
     "data": {
      "text/html": [
       "<div>\n",
       "<style scoped>\n",
       "    .dataframe tbody tr th:only-of-type {\n",
       "        vertical-align: middle;\n",
       "    }\n",
       "\n",
       "    .dataframe tbody tr th {\n",
       "        vertical-align: top;\n",
       "    }\n",
       "\n",
       "    .dataframe thead th {\n",
       "        text-align: right;\n",
       "    }\n",
       "</style>\n",
       "<table border=\"1\" class=\"dataframe\">\n",
       "  <thead>\n",
       "    <tr style=\"text-align: right;\">\n",
       "      <th></th>\n",
       "      <th>f1</th>\n",
       "      <th>xopt_runtime</th>\n",
       "      <th>xopt_error</th>\n",
       "      <th>xopt_error_str</th>\n",
       "    </tr>\n",
       "  </thead>\n",
       "  <tbody>\n",
       "    <tr>\n",
       "      <th>0</th>\n",
       "      <td>0.000000</td>\n",
       "      <td>0.200930</td>\n",
       "      <td>False</td>\n",
       "      <td>NaN</td>\n",
       "    </tr>\n",
       "    <tr>\n",
       "      <th>1</th>\n",
       "      <td>0.024691</td>\n",
       "      <td>0.201239</td>\n",
       "      <td>False</td>\n",
       "      <td>NaN</td>\n",
       "    </tr>\n",
       "    <tr>\n",
       "      <th>2</th>\n",
       "      <td>0.098765</td>\n",
       "      <td>0.206688</td>\n",
       "      <td>False</td>\n",
       "      <td>NaN</td>\n",
       "    </tr>\n",
       "    <tr>\n",
       "      <th>3</th>\n",
       "      <td>0.222222</td>\n",
       "      <td>0.200909</td>\n",
       "      <td>False</td>\n",
       "      <td>NaN</td>\n",
       "    </tr>\n",
       "    <tr>\n",
       "      <th>4</th>\n",
       "      <td>0.395062</td>\n",
       "      <td>0.201135</td>\n",
       "      <td>False</td>\n",
       "      <td>NaN</td>\n",
       "    </tr>\n",
       "    <tr>\n",
       "      <th>5</th>\n",
       "      <td>0.617284</td>\n",
       "      <td>0.204206</td>\n",
       "      <td>False</td>\n",
       "      <td>NaN</td>\n",
       "    </tr>\n",
       "    <tr>\n",
       "      <th>6</th>\n",
       "      <td>0.888889</td>\n",
       "      <td>0.200856</td>\n",
       "      <td>False</td>\n",
       "      <td>NaN</td>\n",
       "    </tr>\n",
       "    <tr>\n",
       "      <th>7</th>\n",
       "      <td>1.209877</td>\n",
       "      <td>0.201133</td>\n",
       "      <td>False</td>\n",
       "      <td>NaN</td>\n",
       "    </tr>\n",
       "    <tr>\n",
       "      <th>8</th>\n",
       "      <td>NaN</td>\n",
       "      <td>0.201827</td>\n",
       "      <td>True</td>\n",
       "      <td>Traceback (most recent call last):\\n  File \"/u...</td>\n",
       "    </tr>\n",
       "    <tr>\n",
       "      <th>9</th>\n",
       "      <td>NaN</td>\n",
       "      <td>0.204063</td>\n",
       "      <td>True</td>\n",
       "      <td>Traceback (most recent call last):\\n  File \"/u...</td>\n",
       "    </tr>\n",
       "  </tbody>\n",
       "</table>\n",
       "</div>"
      ],
      "text/plain": [
       "         f1  xopt_runtime  xopt_error  \\\n",
       "0  0.000000      0.200930       False   \n",
       "1  0.024691      0.201239       False   \n",
       "2  0.098765      0.206688       False   \n",
       "3  0.222222      0.200909       False   \n",
       "4  0.395062      0.201135       False   \n",
       "5  0.617284      0.204206       False   \n",
       "6  0.888889      0.200856       False   \n",
       "7  1.209877      0.201133       False   \n",
       "8       NaN      0.201827        True   \n",
       "9       NaN      0.204063        True   \n",
       "\n",
       "                                      xopt_error_str  \n",
       "0                                                NaN  \n",
       "1                                                NaN  \n",
       "2                                                NaN  \n",
       "3                                                NaN  \n",
       "4                                                NaN  \n",
       "5                                                NaN  \n",
       "6                                                NaN  \n",
       "7                                                NaN  \n",
       "8  Traceback (most recent call last):\\n  File \"/u...  \n",
       "9  Traceback (most recent call last):\\n  File \"/u...  "
      ]
     },
     "execution_count": 19,
     "metadata": {},
     "output_type": "execute_result"
    }
   ],
   "source": [
    "# This will run in parallel\n",
    "ev.evaluate_data(in10)"
   ]
  },
  {
   "cell_type": "markdown",
   "metadata": {},
   "source": [
    "# Evaluator in the Xopt object"
   ]
  },
  {
   "cell_type": "code",
   "execution_count": 20,
   "metadata": {
    "collapsed": false,
    "execution": {
     "iopub.execute_input": "2023-06-30T02:22:03.211091Z",
     "iopub.status.busy": "2023-06-30T02:22:03.210337Z",
     "iopub.status.idle": "2023-06-30T02:22:04.433444Z",
     "shell.execute_reply": "2023-06-30T02:22:04.432777Z"
    },
    "jupyter": {
     "outputs_hidden": false
    }
   },
   "outputs": [
    {
     "data": {
      "text/html": [
       "<div>\n",
       "<style scoped>\n",
       "    .dataframe tbody tr th:only-of-type {\n",
       "        vertical-align: middle;\n",
       "    }\n",
       "\n",
       "    .dataframe tbody tr th {\n",
       "        vertical-align: top;\n",
       "    }\n",
       "\n",
       "    .dataframe thead th {\n",
       "        text-align: right;\n",
       "    }\n",
       "</style>\n",
       "<table border=\"1\" class=\"dataframe\">\n",
       "  <thead>\n",
       "    <tr style=\"text-align: right;\">\n",
       "      <th></th>\n",
       "      <th>x</th>\n",
       "      <th>y</th>\n",
       "    </tr>\n",
       "  </thead>\n",
       "  <tbody>\n",
       "    <tr>\n",
       "      <th>1</th>\n",
       "      <td>0.844488</td>\n",
       "      <td>0.232588</td>\n",
       "    </tr>\n",
       "    <tr>\n",
       "      <th>2</th>\n",
       "      <td>0.265390</td>\n",
       "      <td>0.046769</td>\n",
       "    </tr>\n",
       "    <tr>\n",
       "      <th>3</th>\n",
       "      <td>0.268404</td>\n",
       "      <td>0.709026</td>\n",
       "    </tr>\n",
       "    <tr>\n",
       "      <th>4</th>\n",
       "      <td>0.142141</td>\n",
       "      <td>0.152218</td>\n",
       "    </tr>\n",
       "  </tbody>\n",
       "</table>\n",
       "</div>"
      ],
      "text/plain": [
       "          x         y\n",
       "1  0.844488  0.232588\n",
       "2  0.265390  0.046769\n",
       "3  0.268404  0.709026\n",
       "4  0.142141  0.152218"
      ]
     },
     "execution_count": 20,
     "metadata": {},
     "output_type": "execute_result"
    }
   ],
   "source": [
    "X = Xopt(generator=RandomGenerator(vocs=vocs), evaluator=Evaluator(function=f),\n",
    "         vocs=vocs)\n",
    "\n",
    "# Submit to the evaluator some new inputs\n",
    "X.submit_data(vocs.random_inputs(4))\n",
    "\n",
    "# Unevaluated inputs are collected in a dataframe\n",
    "X._input_data"
   ]
  },
  {
   "cell_type": "code",
   "execution_count": 21,
   "metadata": {
    "collapsed": false,
    "execution": {
     "iopub.execute_input": "2023-06-30T02:22:04.436938Z",
     "iopub.status.busy": "2023-06-30T02:22:04.436433Z",
     "iopub.status.idle": "2023-06-30T02:22:04.442834Z",
     "shell.execute_reply": "2023-06-30T02:22:04.442281Z"
    },
    "jupyter": {
     "outputs_hidden": false
    }
   },
   "outputs": [
    {
     "data": {
      "text/plain": [
       "{1: <Future at 0x7f4f02350340 state=finished returned dict>,\n",
       " 2: <Future at 0x7f4f586be8b0 state=finished returned dict>,\n",
       " 3: <Future at 0x7f4f023a5790 state=finished returned dict>,\n",
       " 4: <Future at 0x7f4f023a55e0 state=finished returned dict>}"
      ]
     },
     "execution_count": 21,
     "metadata": {},
     "output_type": "execute_result"
    }
   ],
   "source": [
    "# Internal futures dictionary\n",
    "X._futures"
   ]
  },
  {
   "cell_type": "code",
   "execution_count": 22,
   "metadata": {
    "collapsed": false,
    "execution": {
     "iopub.execute_input": "2023-06-30T02:22:04.446160Z",
     "iopub.status.busy": "2023-06-30T02:22:04.445833Z",
     "iopub.status.idle": "2023-06-30T02:22:04.459938Z",
     "shell.execute_reply": "2023-06-30T02:22:04.459399Z"
    },
    "jupyter": {
     "outputs_hidden": false
    }
   },
   "outputs": [
    {
     "data": {
      "text/html": [
       "<div>\n",
       "<style scoped>\n",
       "    .dataframe tbody tr th:only-of-type {\n",
       "        vertical-align: middle;\n",
       "    }\n",
       "\n",
       "    .dataframe tbody tr th {\n",
       "        vertical-align: top;\n",
       "    }\n",
       "\n",
       "    .dataframe thead th {\n",
       "        text-align: right;\n",
       "    }\n",
       "</style>\n",
       "<table border=\"1\" class=\"dataframe\">\n",
       "  <thead>\n",
       "    <tr style=\"text-align: right;\">\n",
       "      <th></th>\n",
       "      <th>x</th>\n",
       "      <th>y</th>\n",
       "      <th>xopt_runtime</th>\n",
       "      <th>xopt_error</th>\n",
       "      <th>xopt_error_str</th>\n",
       "      <th>f1</th>\n",
       "    </tr>\n",
       "  </thead>\n",
       "  <tbody>\n",
       "    <tr>\n",
       "      <th>1</th>\n",
       "      <td>0.844488</td>\n",
       "      <td>0.232588</td>\n",
       "      <td>0.300922</td>\n",
       "      <td>True</td>\n",
       "      <td>Traceback (most recent call last):\\n  File \"/u...</td>\n",
       "      <td>NaN</td>\n",
       "    </tr>\n",
       "    <tr>\n",
       "      <th>2</th>\n",
       "      <td>0.265390</td>\n",
       "      <td>0.046769</td>\n",
       "      <td>0.200426</td>\n",
       "      <td>False</td>\n",
       "      <td>NaN</td>\n",
       "      <td>0.072619</td>\n",
       "    </tr>\n",
       "    <tr>\n",
       "      <th>3</th>\n",
       "      <td>0.268404</td>\n",
       "      <td>0.709026</td>\n",
       "      <td>0.300586</td>\n",
       "      <td>False</td>\n",
       "      <td>NaN</td>\n",
       "      <td>0.574759</td>\n",
       "    </tr>\n",
       "    <tr>\n",
       "      <th>4</th>\n",
       "      <td>0.142141</td>\n",
       "      <td>0.152218</td>\n",
       "      <td>0.400710</td>\n",
       "      <td>False</td>\n",
       "      <td>NaN</td>\n",
       "      <td>0.043374</td>\n",
       "    </tr>\n",
       "  </tbody>\n",
       "</table>\n",
       "</div>"
      ],
      "text/plain": [
       "          x         y  xopt_runtime  xopt_error  \\\n",
       "1  0.844488  0.232588      0.300922        True   \n",
       "2  0.265390  0.046769      0.200426       False   \n",
       "3  0.268404  0.709026      0.300586       False   \n",
       "4  0.142141  0.152218      0.400710       False   \n",
       "\n",
       "                                      xopt_error_str        f1  \n",
       "1  Traceback (most recent call last):\\n  File \"/u...       NaN  \n",
       "2                                                NaN  0.072619  \n",
       "3                                                NaN  0.574759  \n",
       "4                                                NaN  0.043374  "
      ]
     },
     "execution_count": 22,
     "metadata": {},
     "output_type": "execute_result"
    }
   ],
   "source": [
    "# Collect all finished futures and updata dataframe\n",
    "X.process_futures()\n",
    "X.data"
   ]
  },
  {
   "cell_type": "code",
   "execution_count": 23,
   "metadata": {
    "collapsed": false,
    "execution": {
     "iopub.execute_input": "2023-06-30T02:22:04.463250Z",
     "iopub.status.busy": "2023-06-30T02:22:04.462725Z",
     "iopub.status.idle": "2023-06-30T02:22:04.468675Z",
     "shell.execute_reply": "2023-06-30T02:22:04.468130Z"
    },
    "jupyter": {
     "outputs_hidden": false
    }
   },
   "outputs": [
    {
     "data": {
      "text/plain": [
       "{}"
      ]
     },
     "execution_count": 23,
     "metadata": {},
     "output_type": "execute_result"
    }
   ],
   "source": [
    "# Futures are now cleared out\n",
    "X._futures"
   ]
  },
  {
   "cell_type": "code",
   "execution_count": 24,
   "metadata": {
    "collapsed": false,
    "execution": {
     "iopub.execute_input": "2023-06-30T02:22:04.471589Z",
     "iopub.status.busy": "2023-06-30T02:22:04.471238Z",
     "iopub.status.idle": "2023-06-30T02:22:04.476936Z",
     "shell.execute_reply": "2023-06-30T02:22:04.476392Z"
    },
    "jupyter": {
     "outputs_hidden": false
    }
   },
   "outputs": [
    {
     "data": {
      "text/plain": [
       "4"
      ]
     },
     "execution_count": 24,
     "metadata": {},
     "output_type": "execute_result"
    }
   ],
   "source": [
    "# This is the internal counter\n",
    "X._ix_last"
   ]
  },
  {
   "cell_type": "code",
   "execution_count": 25,
   "metadata": {
    "collapsed": false,
    "execution": {
     "iopub.execute_input": "2023-06-30T02:22:04.479785Z",
     "iopub.status.busy": "2023-06-30T02:22:04.479441Z",
     "iopub.status.idle": "2023-06-30T02:22:05.896989Z",
     "shell.execute_reply": "2023-06-30T02:22:05.896286Z"
    },
    "jupyter": {
     "outputs_hidden": false
    }
   },
   "outputs": [
    {
     "data": {
      "text/html": [
       "<div>\n",
       "<style scoped>\n",
       "    .dataframe tbody tr th:only-of-type {\n",
       "        vertical-align: middle;\n",
       "    }\n",
       "\n",
       "    .dataframe tbody tr th {\n",
       "        vertical-align: top;\n",
       "    }\n",
       "\n",
       "    .dataframe thead th {\n",
       "        text-align: right;\n",
       "    }\n",
       "</style>\n",
       "<table border=\"1\" class=\"dataframe\">\n",
       "  <thead>\n",
       "    <tr style=\"text-align: right;\">\n",
       "      <th></th>\n",
       "      <th>x</th>\n",
       "      <th>y</th>\n",
       "      <th>f1</th>\n",
       "      <th>xopt_runtime</th>\n",
       "      <th>xopt_error</th>\n",
       "      <th>xopt_error_str</th>\n",
       "    </tr>\n",
       "  </thead>\n",
       "  <tbody>\n",
       "    <tr>\n",
       "      <th>5</th>\n",
       "      <td>0.705105</td>\n",
       "      <td>0.723537</td>\n",
       "      <td>1.020680</td>\n",
       "      <td>0.300536</td>\n",
       "      <td>False</td>\n",
       "      <td>NaN</td>\n",
       "    </tr>\n",
       "    <tr>\n",
       "      <th>6</th>\n",
       "      <td>0.475619</td>\n",
       "      <td>0.532415</td>\n",
       "      <td>0.509679</td>\n",
       "      <td>0.300545</td>\n",
       "      <td>False</td>\n",
       "      <td>NaN</td>\n",
       "    </tr>\n",
       "    <tr>\n",
       "      <th>7</th>\n",
       "      <td>0.057461</td>\n",
       "      <td>0.684185</td>\n",
       "      <td>0.471410</td>\n",
       "      <td>0.400702</td>\n",
       "      <td>False</td>\n",
       "      <td>NaN</td>\n",
       "    </tr>\n",
       "    <tr>\n",
       "      <th>8</th>\n",
       "      <td>0.925261</td>\n",
       "      <td>0.609837</td>\n",
       "      <td>NaN</td>\n",
       "      <td>0.400855</td>\n",
       "      <td>True</td>\n",
       "      <td>Traceback (most recent call last):\\n  File \"/u...</td>\n",
       "    </tr>\n",
       "  </tbody>\n",
       "</table>\n",
       "</div>"
      ],
      "text/plain": [
       "          x         y        f1  xopt_runtime  xopt_error  \\\n",
       "5  0.705105  0.723537  1.020680      0.300536       False   \n",
       "6  0.475619  0.532415  0.509679      0.300545       False   \n",
       "7  0.057461  0.684185  0.471410      0.400702       False   \n",
       "8  0.925261  0.609837       NaN      0.400855        True   \n",
       "\n",
       "                                      xopt_error_str  \n",
       "5                                                NaN  \n",
       "6                                                NaN  \n",
       "7                                                NaN  \n",
       "8  Traceback (most recent call last):\\n  File \"/u...  "
      ]
     },
     "execution_count": 25,
     "metadata": {},
     "output_type": "execute_result"
    }
   ],
   "source": [
    "# This causes immediate evaluation\n",
    "X.evaluate_data(vocs.random_inputs(4))"
   ]
  },
  {
   "cell_type": "code",
   "execution_count": 26,
   "metadata": {
    "collapsed": false,
    "execution": {
     "iopub.execute_input": "2023-06-30T02:22:05.900508Z",
     "iopub.status.busy": "2023-06-30T02:22:05.900135Z",
     "iopub.status.idle": "2023-06-30T02:22:06.116675Z",
     "shell.execute_reply": "2023-06-30T02:22:06.115981Z"
    },
    "jupyter": {
     "outputs_hidden": false
    }
   },
   "outputs": [
    {
     "data": {
      "text/html": [
       "<div>\n",
       "<style scoped>\n",
       "    .dataframe tbody tr th:only-of-type {\n",
       "        vertical-align: middle;\n",
       "    }\n",
       "\n",
       "    .dataframe tbody tr th {\n",
       "        vertical-align: top;\n",
       "    }\n",
       "\n",
       "    .dataframe thead th {\n",
       "        text-align: right;\n",
       "    }\n",
       "</style>\n",
       "<table border=\"1\" class=\"dataframe\">\n",
       "  <thead>\n",
       "    <tr style=\"text-align: right;\">\n",
       "      <th></th>\n",
       "      <th>x</th>\n",
       "      <th>y</th>\n",
       "      <th>xopt_runtime</th>\n",
       "      <th>xopt_error</th>\n",
       "      <th>xopt_error_str</th>\n",
       "      <th>f1</th>\n",
       "    </tr>\n",
       "  </thead>\n",
       "  <tbody>\n",
       "    <tr>\n",
       "      <th>1</th>\n",
       "      <td>0.844488</td>\n",
       "      <td>0.232588</td>\n",
       "      <td>0.300922</td>\n",
       "      <td>True</td>\n",
       "      <td>Traceback (most recent call last):\\n  File \"/u...</td>\n",
       "      <td>NaN</td>\n",
       "    </tr>\n",
       "    <tr>\n",
       "      <th>2</th>\n",
       "      <td>0.265390</td>\n",
       "      <td>0.046769</td>\n",
       "      <td>0.200426</td>\n",
       "      <td>False</td>\n",
       "      <td>NaN</td>\n",
       "      <td>0.072619</td>\n",
       "    </tr>\n",
       "    <tr>\n",
       "      <th>3</th>\n",
       "      <td>0.268404</td>\n",
       "      <td>0.709026</td>\n",
       "      <td>0.300586</td>\n",
       "      <td>False</td>\n",
       "      <td>NaN</td>\n",
       "      <td>0.574759</td>\n",
       "    </tr>\n",
       "    <tr>\n",
       "      <th>4</th>\n",
       "      <td>0.142141</td>\n",
       "      <td>0.152218</td>\n",
       "      <td>0.400710</td>\n",
       "      <td>False</td>\n",
       "      <td>NaN</td>\n",
       "      <td>0.043374</td>\n",
       "    </tr>\n",
       "    <tr>\n",
       "      <th>5</th>\n",
       "      <td>0.705105</td>\n",
       "      <td>0.723537</td>\n",
       "      <td>0.300536</td>\n",
       "      <td>False</td>\n",
       "      <td>NaN</td>\n",
       "      <td>1.020680</td>\n",
       "    </tr>\n",
       "    <tr>\n",
       "      <th>6</th>\n",
       "      <td>0.475619</td>\n",
       "      <td>0.532415</td>\n",
       "      <td>0.300545</td>\n",
       "      <td>False</td>\n",
       "      <td>NaN</td>\n",
       "      <td>0.509679</td>\n",
       "    </tr>\n",
       "    <tr>\n",
       "      <th>7</th>\n",
       "      <td>0.057461</td>\n",
       "      <td>0.684185</td>\n",
       "      <td>0.400702</td>\n",
       "      <td>False</td>\n",
       "      <td>NaN</td>\n",
       "      <td>0.471410</td>\n",
       "    </tr>\n",
       "    <tr>\n",
       "      <th>8</th>\n",
       "      <td>0.925261</td>\n",
       "      <td>0.609837</td>\n",
       "      <td>0.400855</td>\n",
       "      <td>True</td>\n",
       "      <td>Traceback (most recent call last):\\n  File \"/u...</td>\n",
       "      <td>NaN</td>\n",
       "    </tr>\n",
       "    <tr>\n",
       "      <th>9</th>\n",
       "      <td>0.333263</td>\n",
       "      <td>0.127120</td>\n",
       "      <td>0.200504</td>\n",
       "      <td>False</td>\n",
       "      <td>NaN</td>\n",
       "      <td>0.127224</td>\n",
       "    </tr>\n",
       "  </tbody>\n",
       "</table>\n",
       "</div>"
      ],
      "text/plain": [
       "          x         y  xopt_runtime  xopt_error  \\\n",
       "1  0.844488  0.232588      0.300922        True   \n",
       "2  0.265390  0.046769      0.200426       False   \n",
       "3  0.268404  0.709026      0.300586       False   \n",
       "4  0.142141  0.152218      0.400710       False   \n",
       "5  0.705105  0.723537      0.300536       False   \n",
       "6  0.475619  0.532415      0.300545       False   \n",
       "7  0.057461  0.684185      0.400702       False   \n",
       "8  0.925261  0.609837      0.400855        True   \n",
       "9  0.333263  0.127120      0.200504       False   \n",
       "\n",
       "                                      xopt_error_str        f1  \n",
       "1  Traceback (most recent call last):\\n  File \"/u...       NaN  \n",
       "2                                                NaN  0.072619  \n",
       "3                                                NaN  0.574759  \n",
       "4                                                NaN  0.043374  \n",
       "5                                                NaN  1.020680  \n",
       "6                                                NaN  0.509679  \n",
       "7                                                NaN  0.471410  \n",
       "8  Traceback (most recent call last):\\n  File \"/u...       NaN  \n",
       "9                                                NaN  0.127224  "
      ]
     },
     "execution_count": 26,
     "metadata": {},
     "output_type": "execute_result"
    }
   ],
   "source": [
    "# Singe generation step\n",
    "X.step()\n",
    "X.data"
   ]
  },
  {
   "cell_type": "code",
   "execution_count": 27,
   "metadata": {
    "execution": {
     "iopub.execute_input": "2023-06-30T02:22:06.120143Z",
     "iopub.status.busy": "2023-06-30T02:22:06.119672Z",
     "iopub.status.idle": "2023-06-30T02:22:06.126176Z",
     "shell.execute_reply": "2023-06-30T02:22:06.125659Z"
    }
   },
   "outputs": [],
   "source": [
    "# Usage with a parallel executor. \n",
    "X2 = Xopt(\n",
    "    generator=RandomGenerator(vocs=vocs),\n",
    "    evaluator=Evaluator(function=f, executor=executor, max_workers=MAX_WORKERS),\n",
    "    vocs=vocs,\n",
    ")\n",
    "X2.options.asynch = True"
   ]
  },
  {
   "cell_type": "code",
   "execution_count": 28,
   "metadata": {
    "execution": {
     "iopub.execute_input": "2023-06-30T02:22:06.129258Z",
     "iopub.status.busy": "2023-06-30T02:22:06.128847Z",
     "iopub.status.idle": "2023-06-30T02:22:06.240597Z",
     "shell.execute_reply": "2023-06-30T02:22:06.239907Z"
    }
   },
   "outputs": [],
   "source": [
    "X2.step()"
   ]
  },
  {
   "cell_type": "code",
   "execution_count": 29,
   "metadata": {
    "collapsed": false,
    "execution": {
     "iopub.execute_input": "2023-06-30T02:22:06.244284Z",
     "iopub.status.busy": "2023-06-30T02:22:06.243809Z",
     "iopub.status.idle": "2023-06-30T02:22:07.215291Z",
     "shell.execute_reply": "2023-06-30T02:22:07.214613Z"
    },
    "jupyter": {
     "outputs_hidden": false
    }
   },
   "outputs": [
    {
     "data": {
      "text/plain": [
       "70"
      ]
     },
     "execution_count": 29,
     "metadata": {},
     "output_type": "execute_result"
    }
   ],
   "source": [
    "for _ in range(20):\n",
    "    X2.step()\n",
    "\n",
    "len(X2.data)"
   ]
  },
  {
   "cell_type": "code",
   "execution_count": 30,
   "metadata": {
    "collapsed": false,
    "execution": {
     "iopub.execute_input": "2023-06-30T02:22:07.218520Z",
     "iopub.status.busy": "2023-06-30T02:22:07.218003Z",
     "iopub.status.idle": "2023-06-30T02:22:07.897981Z",
     "shell.execute_reply": "2023-06-30T02:22:07.897253Z"
    },
    "jupyter": {
     "outputs_hidden": false
    }
   },
   "outputs": [
    {
     "data": {
      "text/plain": [
       "<Axes: xlabel='x', ylabel='y'>"
      ]
     },
     "execution_count": 30,
     "metadata": {},
     "output_type": "execute_result"
    },
    {
     "data": {
      "image/png": "[encoded data removed]",
      "text/plain": [
       "<Figure size 640x480 with 1 Axes>"
      ]
     },
     "metadata": {},
     "output_type": "display_data"
    }
   ],
   "source": [
    "X2.data.plot.scatter(\"x\", \"y\")"
   ]
  },
  {
   "cell_type": "code",
   "execution_count": 31,
   "metadata": {
    "collapsed": false,
    "execution": {
     "iopub.execute_input": "2023-06-30T02:22:07.901525Z",
     "iopub.status.busy": "2023-06-30T02:22:07.900939Z",
     "iopub.status.idle": "2023-06-30T02:22:08.231311Z",
     "shell.execute_reply": "2023-06-30T02:22:08.230584Z"
    },
    "jupyter": {
     "outputs_hidden": false
    },
    "tags": []
   },
   "outputs": [
    {
     "data": {
      "text/plain": [
       "30"
      ]
     },
     "execution_count": 31,
     "metadata": {},
     "output_type": "execute_result"
    }
   ],
   "source": [
    "# Asynchronous, Vectorized\n",
    "X2 = Xopt(\n",
    "    generator=RandomGenerator(vocs=vocs),\n",
    "    evaluator=Evaluator(function=f, executor=executor, max_workers=MAX_WORKERS),\n",
    "    vocs=vocs,\n",
    ")\n",
    "X2.options.asynch = True\n",
    "X2.evaluator.vectorized = True\n",
    "\n",
    "# This takes fewer steps to achieve a similar numver of evaluations\n",
    "for _ in range(3):\n",
    "    X2.step()\n",
    "\n",
    "len(X2.data)"
   ]
  }
 ],
 "metadata": {
  "kernelspec": {
   "display_name": "Python 3 (ipykernel)",
   "language": "python",
   "name": "python3"
  },
  "language_info": {
   "codemirror_mode": {
    "name": "ipython",
    "version": 3
   },
   "file_extension": ".py",
   "mimetype": "text/x-python",
   "name": "python",
   "nbconvert_exporter": "python",
   "pygments_lexer": "ipython3",
   "version": "3.9.16"
  },
  "vscode": {
   "interpreter": {
    "hash": "4483d4964800812ebc77892a92dde3b54705ec8a224d63d9bb659e2cc457018b"
   }
  }
 },
 "nbformat": 4,
 "nbformat_minor": 4
}
