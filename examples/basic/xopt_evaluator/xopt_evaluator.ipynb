{
 "cells": [
  {
   "cell_type": "markdown",
   "metadata": {
    "pycharm": {
     "name": "#%% md\n"
    }
   },
   "source": []
  },
  {
   "cell_type": "markdown",
   "metadata": {
    "pycharm": {
     "name": "#%% md\n"
    }
   },
   "source": [
    "# Xopt Evaluator Basic Usage \n",
    "\n",
    "The `Evaluator` handles the execution of the user-provided `function` with optional `function_kwags`, asyncrhonously and parallel, with exception handling. "
   ]
  },
  {
   "cell_type": "code",
   "execution_count": 1,
   "metadata": {
    "collapsed": false,
    "execution": {
     "iopub.execute_input": "2023-03-21T14:54:22.118694Z",
     "iopub.status.busy": "2023-03-21T14:54:22.117182Z",
     "iopub.status.idle": "2023-03-21T14:54:22.128418Z",
     "shell.execute_reply": "2023-03-21T14:54:22.127408Z"
    },
    "pycharm": {
     "name": "#%%\n"
    }
   },
   "outputs": [],
   "source": [
    "# needed for macos\n",
    "import platform\n",
    "if platform.system() == \"Darwin\": import multiprocessing;multiprocessing.set_start_method(\"fork\")\n"
   ]
  },
  {
   "cell_type": "code",
   "execution_count": 2,
   "metadata": {
    "collapsed": false,
    "execution": {
     "iopub.execute_input": "2023-03-21T14:54:22.131792Z",
     "iopub.status.busy": "2023-03-21T14:54:22.131509Z",
     "iopub.status.idle": "2023-03-21T14:54:24.910172Z",
     "shell.execute_reply": "2023-03-21T14:54:24.909140Z"
    },
    "pycharm": {
     "name": "#%%\n"
    }
   },
   "outputs": [],
   "source": [
    "from xopt import Xopt, Evaluator, Generator, VOCS\n",
    "from xopt.generators.random import RandomGenerator\n",
    "\n",
    "import pandas as pd\n",
    "\n",
    "from time import sleep\n",
    "from numpy.random import randint\n",
    "\n",
    "from typing import Dict\n",
    "\n",
    "import numpy as np\n",
    "np.random.seed(666) # for reproducibility\n",
    "\n",
    "# Nicer plotting\n",
    "%config InlineBackend.figure_format = 'retina'"
   ]
  },
  {
   "cell_type": "markdown",
   "metadata": {},
   "source": [
    "Define a custom function `f(inputs: Dict) -> outputs: Dict`. "
   ]
  },
  {
   "cell_type": "code",
   "execution_count": 3,
   "metadata": {
    "execution": {
     "iopub.execute_input": "2023-03-21T14:54:24.914341Z",
     "iopub.status.busy": "2023-03-21T14:54:24.913781Z",
     "iopub.status.idle": "2023-03-21T14:54:24.931181Z",
     "shell.execute_reply": "2023-03-21T14:54:24.918307Z"
    }
   },
   "outputs": [],
   "source": [
    "def f(inputs: Dict, a=2) -> Dict:\n",
    "\n",
    "    sleep(randint(1, 5)*.1)  # simulate computation time\n",
    "    # Make some occasional errors\n",
    "    if np.any(inputs[\"x\"] > 0.8):\n",
    "        raise ValueError(\"x > 0.8\")\n",
    "\n",
    "    return {\"f1\": inputs[\"x\"] ** 2 + inputs[\"y\"] ** 2}"
   ]
  },
  {
   "cell_type": "markdown",
   "metadata": {},
   "source": [
    "Define variables, objectives, constraints, and other settings (VOCS)"
   ]
  },
  {
   "cell_type": "code",
   "execution_count": 4,
   "metadata": {
    "collapsed": false,
    "execution": {
     "iopub.execute_input": "2023-03-21T14:54:24.935211Z",
     "iopub.status.busy": "2023-03-21T14:54:24.934636Z",
     "iopub.status.idle": "2023-03-21T14:54:24.944023Z",
     "shell.execute_reply": "2023-03-21T14:54:24.943161Z"
    },
    "pycharm": {
     "name": "#%%\n"
    }
   },
   "outputs": [
    {
     "data": {
      "text/plain": [
       "VOCS(variables={'x': [0.0, 1.0], 'y': [0.0, 1.0]}, constraints={}, objectives={'f1': 'MINIMIZE'}, constants={}, linked_variables={})"
      ]
     },
     "execution_count": 4,
     "metadata": {},
     "output_type": "execute_result"
    }
   ],
   "source": [
    "vocs = VOCS(variables={\"x\": [0, 1], \"y\": [0, 1]}, objectives={\"f1\": \"MINIMIZE\"})\n",
    "vocs\n",
    "\n"
   ]
  },
  {
   "cell_type": "markdown",
   "metadata": {},
   "source": [
    "This can be used to make some random inputs for evaluating the function. "
   ]
  },
  {
   "cell_type": "code",
   "execution_count": 5,
   "metadata": {
    "execution": {
     "iopub.execute_input": "2023-03-21T14:54:24.997150Z",
     "iopub.status.busy": "2023-03-21T14:54:24.996565Z",
     "iopub.status.idle": "2023-03-21T14:54:25.303550Z",
     "shell.execute_reply": "2023-03-21T14:54:25.302503Z"
    }
   },
   "outputs": [
    {
     "data": {
      "text/plain": [
       "{'f1': 0.11401572022703582}"
      ]
     },
     "execution_count": 5,
     "metadata": {},
     "output_type": "execute_result"
    }
   ],
   "source": [
    "in1 = vocs.random_inputs()\n",
    "\n",
    "f(in1)"
   ]
  },
  {
   "cell_type": "code",
   "execution_count": 6,
   "metadata": {
    "execution": {
     "iopub.execute_input": "2023-03-21T14:54:25.307991Z",
     "iopub.status.busy": "2023-03-21T14:54:25.307071Z",
     "iopub.status.idle": "2023-03-21T14:54:25.614094Z",
     "shell.execute_reply": "2023-03-21T14:54:25.613073Z"
    }
   },
   "outputs": [
    {
     "name": "stdout",
     "output_type": "stream",
     "text": [
      "Caught error in f: x > 0.8\n"
     ]
    }
   ],
   "source": [
    "# Add in occasional errors. \n",
    "try:\n",
    "    f({\"x\": 1, \"y\": 0})\n",
    "except Exception as ex:\n",
    "    print(f\"Caught error in f: {ex}\")"
   ]
  },
  {
   "cell_type": "code",
   "execution_count": 7,
   "metadata": {
    "execution": {
     "iopub.execute_input": "2023-03-21T14:54:25.617350Z",
     "iopub.status.busy": "2023-03-21T14:54:25.617068Z",
     "iopub.status.idle": "2023-03-21T14:54:25.632648Z",
     "shell.execute_reply": "2023-03-21T14:54:25.631602Z"
    }
   },
   "outputs": [],
   "source": [
    "# Create Evaluator\n",
    "ev = Evaluator(function=f)"
   ]
  },
  {
   "cell_type": "code",
   "execution_count": 8,
   "metadata": {
    "execution": {
     "iopub.execute_input": "2023-03-21T14:54:25.636123Z",
     "iopub.status.busy": "2023-03-21T14:54:25.635803Z",
     "iopub.status.idle": "2023-03-21T14:54:25.845592Z",
     "shell.execute_reply": "2023-03-21T14:54:25.844589Z"
    }
   },
   "outputs": [
    {
     "data": {
      "text/plain": [
       "{'f1': 0.11401572022703582,\n",
       " 'xopt_runtime': 0.20045404799998323,\n",
       " 'xopt_error': False}"
      ]
     },
     "execution_count": 8,
     "metadata": {},
     "output_type": "execute_result"
    }
   ],
   "source": [
    "# Single input evaluation\n",
    "ev.evaluate(in1)"
   ]
  },
  {
   "cell_type": "code",
   "execution_count": 9,
   "metadata": {
    "execution": {
     "iopub.execute_input": "2023-03-21T14:54:25.849351Z",
     "iopub.status.busy": "2023-03-21T14:54:25.849056Z",
     "iopub.status.idle": "2023-03-21T14:54:28.469901Z",
     "shell.execute_reply": "2023-03-21T14:54:28.468937Z"
    }
   },
   "outputs": [
    {
     "data": {
      "text/html": [
       "<div>\n",
       "<style scoped>\n",
       "    .dataframe tbody tr th:only-of-type {\n",
       "        vertical-align: middle;\n",
       "    }\n",
       "\n",
       "    .dataframe tbody tr th {\n",
       "        vertical-align: top;\n",
       "    }\n",
       "\n",
       "    .dataframe thead th {\n",
       "        text-align: right;\n",
       "    }\n",
       "</style>\n",
       "<table border=\"1\" class=\"dataframe\">\n",
       "  <thead>\n",
       "    <tr style=\"text-align: right;\">\n",
       "      <th></th>\n",
       "      <th>f1</th>\n",
       "      <th>xopt_runtime</th>\n",
       "      <th>xopt_error</th>\n",
       "    </tr>\n",
       "  </thead>\n",
       "  <tbody>\n",
       "    <tr>\n",
       "      <th>0</th>\n",
       "      <td>0.529588</td>\n",
       "      <td>0.300453</td>\n",
       "      <td>False</td>\n",
       "    </tr>\n",
       "    <tr>\n",
       "      <th>1</th>\n",
       "      <td>1.154098</td>\n",
       "      <td>0.400704</td>\n",
       "      <td>False</td>\n",
       "    </tr>\n",
       "    <tr>\n",
       "      <th>2</th>\n",
       "      <td>0.641450</td>\n",
       "      <td>0.200395</td>\n",
       "      <td>False</td>\n",
       "    </tr>\n",
       "    <tr>\n",
       "      <th>3</th>\n",
       "      <td>0.619825</td>\n",
       "      <td>0.200491</td>\n",
       "      <td>False</td>\n",
       "    </tr>\n",
       "    <tr>\n",
       "      <th>4</th>\n",
       "      <td>0.536923</td>\n",
       "      <td>0.100323</td>\n",
       "      <td>False</td>\n",
       "    </tr>\n",
       "    <tr>\n",
       "      <th>5</th>\n",
       "      <td>0.342636</td>\n",
       "      <td>0.300507</td>\n",
       "      <td>False</td>\n",
       "    </tr>\n",
       "    <tr>\n",
       "      <th>6</th>\n",
       "      <td>0.589861</td>\n",
       "      <td>0.100370</td>\n",
       "      <td>False</td>\n",
       "    </tr>\n",
       "    <tr>\n",
       "      <th>7</th>\n",
       "      <td>0.556977</td>\n",
       "      <td>0.400630</td>\n",
       "      <td>False</td>\n",
       "    </tr>\n",
       "    <tr>\n",
       "      <th>8</th>\n",
       "      <td>0.055586</td>\n",
       "      <td>0.300480</td>\n",
       "      <td>False</td>\n",
       "    </tr>\n",
       "    <tr>\n",
       "      <th>9</th>\n",
       "      <td>0.785844</td>\n",
       "      <td>0.300568</td>\n",
       "      <td>False</td>\n",
       "    </tr>\n",
       "  </tbody>\n",
       "</table>\n",
       "</div>"
      ],
      "text/plain": [
       "         f1  xopt_runtime  xopt_error\n",
       "0  0.529588      0.300453       False\n",
       "1  1.154098      0.400704       False\n",
       "2  0.641450      0.200395       False\n",
       "3  0.619825      0.200491       False\n",
       "4  0.536923      0.100323       False\n",
       "5  0.342636      0.300507       False\n",
       "6  0.589861      0.100370       False\n",
       "7  0.556977      0.400630       False\n",
       "8  0.055586      0.300480       False\n",
       "9  0.785844      0.300568       False"
      ]
     },
     "execution_count": 9,
     "metadata": {},
     "output_type": "execute_result"
    }
   ],
   "source": [
    "# Dataframe evaluation\n",
    "in10 = vocs.random_inputs(10)\n",
    "ev.evaluate_data(in10)\n"
   ]
  },
  {
   "cell_type": "code",
   "execution_count": 10,
   "metadata": {
    "execution": {
     "iopub.execute_input": "2023-03-21T14:54:28.474092Z",
     "iopub.status.busy": "2023-03-21T14:54:28.473132Z",
     "iopub.status.idle": "2023-03-21T14:54:31.185749Z",
     "shell.execute_reply": "2023-03-21T14:54:31.184640Z"
    }
   },
   "outputs": [
    {
     "name": "stdout",
     "output_type": "stream",
     "text": [
      "{'f1': 0.5295876188736232, 'xopt_runtime': 0.30052302199999303, 'xopt_error': False}\n",
      "{'f1': 1.154097903998413, 'xopt_runtime': 0.30051662200003193, 'xopt_error': False}\n",
      "{'f1': 0.641449645681512, 'xopt_runtime': 0.10030957499998294, 'xopt_error': False}\n",
      "{'f1': 0.6198251611679085, 'xopt_runtime': 0.10028587500005415, 'xopt_error': False}\n",
      "{'f1': 0.5369228584400957, 'xopt_runtime': 0.40067988600003446, 'xopt_error': False}\n",
      "{'f1': 0.3426360721182605, 'xopt_runtime': 0.3004986139999346, 'xopt_error': False}\n",
      "{'f1': 0.5898614653804399, 'xopt_runtime': 0.20041554300007647, 'xopt_error': False}\n",
      "{'f1': 0.5569771979382582, 'xopt_runtime': 0.40062528500004646, 'xopt_error': False}\n",
      "{'f1': 0.055585968775201305, 'xopt_runtime': 0.3005040140000119, 'xopt_error': False}\n",
      "{'f1': 0.7858444543806786, 'xopt_runtime': 0.3006149150000965, 'xopt_error': False}\n"
     ]
    }
   ],
   "source": [
    "# Dataframe submission (returns futures dict)\n",
    "futures = ev.submit_data(in10)\n",
    "for future in futures:\n",
    "    print(future.result())"
   ]
  },
  {
   "cell_type": "code",
   "execution_count": 11,
   "metadata": {
    "execution": {
     "iopub.execute_input": "2023-03-21T14:54:31.188978Z",
     "iopub.status.busy": "2023-03-21T14:54:31.188673Z",
     "iopub.status.idle": "2023-03-21T14:54:31.603814Z",
     "shell.execute_reply": "2023-03-21T14:54:31.602773Z"
    }
   },
   "outputs": [
    {
     "data": {
      "text/html": [
       "<div>\n",
       "<style scoped>\n",
       "    .dataframe tbody tr th:only-of-type {\n",
       "        vertical-align: middle;\n",
       "    }\n",
       "\n",
       "    .dataframe tbody tr th {\n",
       "        vertical-align: top;\n",
       "    }\n",
       "\n",
       "    .dataframe thead th {\n",
       "        text-align: right;\n",
       "    }\n",
       "</style>\n",
       "<table border=\"1\" class=\"dataframe\">\n",
       "  <thead>\n",
       "    <tr style=\"text-align: right;\">\n",
       "      <th></th>\n",
       "      <th>f1</th>\n",
       "      <th>xopt_runtime</th>\n",
       "      <th>xopt_error</th>\n",
       "    </tr>\n",
       "  </thead>\n",
       "  <tbody>\n",
       "    <tr>\n",
       "      <th>0</th>\n",
       "      <td>0.529588</td>\n",
       "      <td>0.40209</td>\n",
       "      <td>False</td>\n",
       "    </tr>\n",
       "    <tr>\n",
       "      <th>1</th>\n",
       "      <td>1.154098</td>\n",
       "      <td>0.40209</td>\n",
       "      <td>False</td>\n",
       "    </tr>\n",
       "    <tr>\n",
       "      <th>2</th>\n",
       "      <td>0.641450</td>\n",
       "      <td>0.40209</td>\n",
       "      <td>False</td>\n",
       "    </tr>\n",
       "    <tr>\n",
       "      <th>3</th>\n",
       "      <td>0.619825</td>\n",
       "      <td>0.40209</td>\n",
       "      <td>False</td>\n",
       "    </tr>\n",
       "    <tr>\n",
       "      <th>4</th>\n",
       "      <td>0.536923</td>\n",
       "      <td>0.40209</td>\n",
       "      <td>False</td>\n",
       "    </tr>\n",
       "    <tr>\n",
       "      <th>5</th>\n",
       "      <td>0.342636</td>\n",
       "      <td>0.40209</td>\n",
       "      <td>False</td>\n",
       "    </tr>\n",
       "    <tr>\n",
       "      <th>6</th>\n",
       "      <td>0.589861</td>\n",
       "      <td>0.40209</td>\n",
       "      <td>False</td>\n",
       "    </tr>\n",
       "    <tr>\n",
       "      <th>7</th>\n",
       "      <td>0.556977</td>\n",
       "      <td>0.40209</td>\n",
       "      <td>False</td>\n",
       "    </tr>\n",
       "    <tr>\n",
       "      <th>8</th>\n",
       "      <td>0.055586</td>\n",
       "      <td>0.40209</td>\n",
       "      <td>False</td>\n",
       "    </tr>\n",
       "    <tr>\n",
       "      <th>9</th>\n",
       "      <td>0.785844</td>\n",
       "      <td>0.40209</td>\n",
       "      <td>False</td>\n",
       "    </tr>\n",
       "  </tbody>\n",
       "</table>\n",
       "</div>"
      ],
      "text/plain": [
       "         f1  xopt_runtime  xopt_error\n",
       "0  0.529588       0.40209       False\n",
       "1  1.154098       0.40209       False\n",
       "2  0.641450       0.40209       False\n",
       "3  0.619825       0.40209       False\n",
       "4  0.536923       0.40209       False\n",
       "5  0.342636       0.40209       False\n",
       "6  0.589861       0.40209       False\n",
       "7  0.556977       0.40209       False\n",
       "8  0.055586       0.40209       False\n",
       "9  0.785844       0.40209       False"
      ]
     },
     "execution_count": 11,
     "metadata": {},
     "output_type": "execute_result"
    }
   ],
   "source": [
    "# Dataframe evaluation, vectorized\n",
    "ev.vectorized = True\n",
    "ev.evaluate_data(in10)\n"
   ]
  },
  {
   "cell_type": "code",
   "execution_count": 12,
   "metadata": {
    "execution": {
     "iopub.execute_input": "2023-03-21T14:54:31.607790Z",
     "iopub.status.busy": "2023-03-21T14:54:31.607039Z",
     "iopub.status.idle": "2023-03-21T14:54:32.015907Z",
     "shell.execute_reply": "2023-03-21T14:54:32.015032Z"
    }
   },
   "outputs": [
    {
     "data": {
      "text/plain": [
       "1"
      ]
     },
     "execution_count": 12,
     "metadata": {},
     "output_type": "execute_result"
    }
   ],
   "source": [
    "# Vectorized submission. This returns a single future.\n",
    "ev.vectorized = True\n",
    "futures = ev.submit_data(in10)\n",
    "len(futures)"
   ]
  },
  {
   "cell_type": "code",
   "execution_count": 13,
   "metadata": {
    "execution": {
     "iopub.execute_input": "2023-03-21T14:54:32.019486Z",
     "iopub.status.busy": "2023-03-21T14:54:32.019141Z",
     "iopub.status.idle": "2023-03-21T14:54:32.027633Z",
     "shell.execute_reply": "2023-03-21T14:54:32.026775Z"
    }
   },
   "outputs": [
    {
     "data": {
      "text/plain": [
       "{'f1': array([0.52958762, 1.1540979 , 0.64144965, 0.61982516, 0.53692286,\n",
       "        0.34263607, 0.58986147, 0.5569772 , 0.05558597, 0.78584445]),\n",
       " 'xopt_runtime': 0.40061378500001865,\n",
       " 'xopt_error': False}"
      ]
     },
     "execution_count": 13,
     "metadata": {},
     "output_type": "execute_result"
    }
   ],
   "source": [
    "futures[0].result()"
   ]
  },
  {
   "cell_type": "code",
   "execution_count": 14,
   "metadata": {
    "execution": {
     "iopub.execute_input": "2023-03-21T14:54:32.031048Z",
     "iopub.status.busy": "2023-03-21T14:54:32.030780Z",
     "iopub.status.idle": "2023-03-21T14:54:32.043464Z",
     "shell.execute_reply": "2023-03-21T14:54:32.042509Z"
    }
   },
   "outputs": [
    {
     "data": {
      "text/html": [
       "<div>\n",
       "<style scoped>\n",
       "    .dataframe tbody tr th:only-of-type {\n",
       "        vertical-align: middle;\n",
       "    }\n",
       "\n",
       "    .dataframe tbody tr th {\n",
       "        vertical-align: top;\n",
       "    }\n",
       "\n",
       "    .dataframe thead th {\n",
       "        text-align: right;\n",
       "    }\n",
       "</style>\n",
       "<table border=\"1\" class=\"dataframe\">\n",
       "  <thead>\n",
       "    <tr style=\"text-align: right;\">\n",
       "      <th></th>\n",
       "      <th>f1</th>\n",
       "      <th>xopt_runtime</th>\n",
       "      <th>xopt_error</th>\n",
       "    </tr>\n",
       "  </thead>\n",
       "  <tbody>\n",
       "    <tr>\n",
       "      <th>0</th>\n",
       "      <td>0.529588</td>\n",
       "      <td>0.400614</td>\n",
       "      <td>False</td>\n",
       "    </tr>\n",
       "    <tr>\n",
       "      <th>1</th>\n",
       "      <td>1.154098</td>\n",
       "      <td>0.400614</td>\n",
       "      <td>False</td>\n",
       "    </tr>\n",
       "    <tr>\n",
       "      <th>2</th>\n",
       "      <td>0.641450</td>\n",
       "      <td>0.400614</td>\n",
       "      <td>False</td>\n",
       "    </tr>\n",
       "    <tr>\n",
       "      <th>3</th>\n",
       "      <td>0.619825</td>\n",
       "      <td>0.400614</td>\n",
       "      <td>False</td>\n",
       "    </tr>\n",
       "    <tr>\n",
       "      <th>4</th>\n",
       "      <td>0.536923</td>\n",
       "      <td>0.400614</td>\n",
       "      <td>False</td>\n",
       "    </tr>\n",
       "    <tr>\n",
       "      <th>5</th>\n",
       "      <td>0.342636</td>\n",
       "      <td>0.400614</td>\n",
       "      <td>False</td>\n",
       "    </tr>\n",
       "    <tr>\n",
       "      <th>6</th>\n",
       "      <td>0.589861</td>\n",
       "      <td>0.400614</td>\n",
       "      <td>False</td>\n",
       "    </tr>\n",
       "    <tr>\n",
       "      <th>7</th>\n",
       "      <td>0.556977</td>\n",
       "      <td>0.400614</td>\n",
       "      <td>False</td>\n",
       "    </tr>\n",
       "    <tr>\n",
       "      <th>8</th>\n",
       "      <td>0.055586</td>\n",
       "      <td>0.400614</td>\n",
       "      <td>False</td>\n",
       "    </tr>\n",
       "    <tr>\n",
       "      <th>9</th>\n",
       "      <td>0.785844</td>\n",
       "      <td>0.400614</td>\n",
       "      <td>False</td>\n",
       "    </tr>\n",
       "  </tbody>\n",
       "</table>\n",
       "</div>"
      ],
      "text/plain": [
       "         f1  xopt_runtime  xopt_error\n",
       "0  0.529588      0.400614       False\n",
       "1  1.154098      0.400614       False\n",
       "2  0.641450      0.400614       False\n",
       "3  0.619825      0.400614       False\n",
       "4  0.536923      0.400614       False\n",
       "5  0.342636      0.400614       False\n",
       "6  0.589861      0.400614       False\n",
       "7  0.556977      0.400614       False\n",
       "8  0.055586      0.400614       False\n",
       "9  0.785844      0.400614       False"
      ]
     },
     "execution_count": 14,
     "metadata": {},
     "output_type": "execute_result"
    }
   ],
   "source": [
    "# Collect in a dataframe\n",
    "res = futures[0].result()\n",
    "# If there is an error, all outputs are spoiled.\n",
    "if res['xopt_error']:\n",
    "    res = [res]\n",
    "pd.DataFrame(res)"
   ]
  },
  {
   "cell_type": "markdown",
   "metadata": {},
   "source": [
    "# Executors"
   ]
  },
  {
   "cell_type": "code",
   "execution_count": 15,
   "metadata": {
    "execution": {
     "iopub.execute_input": "2023-03-21T14:54:32.046768Z",
     "iopub.status.busy": "2023-03-21T14:54:32.046512Z",
     "iopub.status.idle": "2023-03-21T14:54:32.057229Z",
     "shell.execute_reply": "2023-03-21T14:54:32.050451Z"
    }
   },
   "outputs": [],
   "source": [
    "from concurrent.futures import ThreadPoolExecutor, ProcessPoolExecutor\n",
    "MAX_WORKERS = 10"
   ]
  },
  {
   "cell_type": "code",
   "execution_count": 16,
   "metadata": {
    "execution": {
     "iopub.execute_input": "2023-03-21T14:54:32.062056Z",
     "iopub.status.busy": "2023-03-21T14:54:32.061664Z",
     "iopub.status.idle": "2023-03-21T14:54:32.071824Z",
     "shell.execute_reply": "2023-03-21T14:54:32.070754Z"
    }
   },
   "outputs": [
    {
     "data": {
      "text/plain": [
       "<concurrent.futures.process.ProcessPoolExecutor at 0x7f39e997dbe0>"
      ]
     },
     "execution_count": 16,
     "metadata": {},
     "output_type": "execute_result"
    }
   ],
   "source": [
    "# Create Executor insance\n",
    "executor = ProcessPoolExecutor(max_workers=MAX_WORKERS)\n",
    "executor"
   ]
  },
  {
   "cell_type": "code",
   "execution_count": 17,
   "metadata": {
    "execution": {
     "iopub.execute_input": "2023-03-21T14:54:32.075820Z",
     "iopub.status.busy": "2023-03-21T14:54:32.075513Z",
     "iopub.status.idle": "2023-03-21T14:54:32.080483Z",
     "shell.execute_reply": "2023-03-21T14:54:32.079581Z"
    }
   },
   "outputs": [],
   "source": [
    "# Dask (Optional)\n",
    "# from dask.distributed import Client\n",
    "# import logging\n",
    "# client = Client( silence_logs=logging.ERROR)\n",
    "# executor = client.get_executor()\n",
    "# client"
   ]
  },
  {
   "cell_type": "code",
   "execution_count": 18,
   "metadata": {
    "execution": {
     "iopub.execute_input": "2023-03-21T14:54:32.083761Z",
     "iopub.status.busy": "2023-03-21T14:54:32.083491Z",
     "iopub.status.idle": "2023-03-21T14:54:32.096961Z",
     "shell.execute_reply": "2023-03-21T14:54:32.095997Z"
    }
   },
   "outputs": [],
   "source": [
    "# This calls `executor.map`\n",
    "ev = Evaluator(function=f, executor=executor, max_workers=MAX_WORKERS)"
   ]
  },
  {
   "cell_type": "code",
   "execution_count": 19,
   "metadata": {
    "execution": {
     "iopub.execute_input": "2023-03-21T14:54:32.100161Z",
     "iopub.status.busy": "2023-03-21T14:54:32.099891Z",
     "iopub.status.idle": "2023-03-21T14:54:32.305624Z",
     "shell.execute_reply": "2023-03-21T14:54:32.304019Z"
    }
   },
   "outputs": [
    {
     "data": {
      "text/html": [
       "<div>\n",
       "<style scoped>\n",
       "    .dataframe tbody tr th:only-of-type {\n",
       "        vertical-align: middle;\n",
       "    }\n",
       "\n",
       "    .dataframe tbody tr th {\n",
       "        vertical-align: top;\n",
       "    }\n",
       "\n",
       "    .dataframe thead th {\n",
       "        text-align: right;\n",
       "    }\n",
       "</style>\n",
       "<table border=\"1\" class=\"dataframe\">\n",
       "  <thead>\n",
       "    <tr style=\"text-align: right;\">\n",
       "      <th></th>\n",
       "      <th>f1</th>\n",
       "      <th>xopt_runtime</th>\n",
       "      <th>xopt_error</th>\n",
       "    </tr>\n",
       "  </thead>\n",
       "  <tbody>\n",
       "    <tr>\n",
       "      <th>0</th>\n",
       "      <td>0.529588</td>\n",
       "      <td>0.100909</td>\n",
       "      <td>False</td>\n",
       "    </tr>\n",
       "    <tr>\n",
       "      <th>1</th>\n",
       "      <td>1.154098</td>\n",
       "      <td>0.101113</td>\n",
       "      <td>False</td>\n",
       "    </tr>\n",
       "    <tr>\n",
       "      <th>2</th>\n",
       "      <td>0.641450</td>\n",
       "      <td>0.100796</td>\n",
       "      <td>False</td>\n",
       "    </tr>\n",
       "    <tr>\n",
       "      <th>3</th>\n",
       "      <td>0.619825</td>\n",
       "      <td>0.101201</td>\n",
       "      <td>False</td>\n",
       "    </tr>\n",
       "    <tr>\n",
       "      <th>4</th>\n",
       "      <td>0.536923</td>\n",
       "      <td>0.100767</td>\n",
       "      <td>False</td>\n",
       "    </tr>\n",
       "    <tr>\n",
       "      <th>5</th>\n",
       "      <td>0.342636</td>\n",
       "      <td>0.100994</td>\n",
       "      <td>False</td>\n",
       "    </tr>\n",
       "    <tr>\n",
       "      <th>6</th>\n",
       "      <td>0.589861</td>\n",
       "      <td>0.101057</td>\n",
       "      <td>False</td>\n",
       "    </tr>\n",
       "    <tr>\n",
       "      <th>7</th>\n",
       "      <td>0.556977</td>\n",
       "      <td>0.100811</td>\n",
       "      <td>False</td>\n",
       "    </tr>\n",
       "    <tr>\n",
       "      <th>8</th>\n",
       "      <td>0.055586</td>\n",
       "      <td>0.100962</td>\n",
       "      <td>False</td>\n",
       "    </tr>\n",
       "    <tr>\n",
       "      <th>9</th>\n",
       "      <td>0.785844</td>\n",
       "      <td>0.100787</td>\n",
       "      <td>False</td>\n",
       "    </tr>\n",
       "  </tbody>\n",
       "</table>\n",
       "</div>"
      ],
      "text/plain": [
       "         f1  xopt_runtime  xopt_error\n",
       "0  0.529588      0.100909       False\n",
       "1  1.154098      0.101113       False\n",
       "2  0.641450      0.100796       False\n",
       "3  0.619825      0.101201       False\n",
       "4  0.536923      0.100767       False\n",
       "5  0.342636      0.100994       False\n",
       "6  0.589861      0.101057       False\n",
       "7  0.556977      0.100811       False\n",
       "8  0.055586      0.100962       False\n",
       "9  0.785844      0.100787       False"
      ]
     },
     "execution_count": 19,
     "metadata": {},
     "output_type": "execute_result"
    }
   ],
   "source": [
    "# This will run in parallel\n",
    "ev.evaluate_data(in10)"
   ]
  },
  {
   "cell_type": "markdown",
   "metadata": {},
   "source": [
    "# Evaluator in the Xopt object"
   ]
  },
  {
   "cell_type": "code",
   "execution_count": 20,
   "metadata": {
    "collapsed": false,
    "execution": {
     "iopub.execute_input": "2023-03-21T14:54:32.311010Z",
     "iopub.status.busy": "2023-03-21T14:54:32.310650Z",
     "iopub.status.idle": "2023-03-21T14:54:33.935604Z",
     "shell.execute_reply": "2023-03-21T14:54:33.934466Z"
    },
    "pycharm": {
     "name": "#%%\n"
    }
   },
   "outputs": [
    {
     "data": {
      "text/html": [
       "<div>\n",
       "<style scoped>\n",
       "    .dataframe tbody tr th:only-of-type {\n",
       "        vertical-align: middle;\n",
       "    }\n",
       "\n",
       "    .dataframe tbody tr th {\n",
       "        vertical-align: top;\n",
       "    }\n",
       "\n",
       "    .dataframe thead th {\n",
       "        text-align: right;\n",
       "    }\n",
       "</style>\n",
       "<table border=\"1\" class=\"dataframe\">\n",
       "  <thead>\n",
       "    <tr style=\"text-align: right;\">\n",
       "      <th></th>\n",
       "      <th>x</th>\n",
       "      <th>y</th>\n",
       "    </tr>\n",
       "  </thead>\n",
       "  <tbody>\n",
       "    <tr>\n",
       "      <th>1</th>\n",
       "      <td>0.333263</td>\n",
       "      <td>0.670598</td>\n",
       "    </tr>\n",
       "    <tr>\n",
       "      <th>2</th>\n",
       "      <td>0.127120</td>\n",
       "      <td>0.708698</td>\n",
       "    </tr>\n",
       "    <tr>\n",
       "      <th>3</th>\n",
       "      <td>0.478903</td>\n",
       "      <td>0.998964</td>\n",
       "    </tr>\n",
       "    <tr>\n",
       "      <th>4</th>\n",
       "      <td>0.249796</td>\n",
       "      <td>0.363820</td>\n",
       "    </tr>\n",
       "  </tbody>\n",
       "</table>\n",
       "</div>"
      ],
      "text/plain": [
       "          x         y\n",
       "1  0.333263  0.670598\n",
       "2  0.127120  0.708698\n",
       "3  0.478903  0.998964\n",
       "4  0.249796  0.363820"
      ]
     },
     "execution_count": 20,
     "metadata": {},
     "output_type": "execute_result"
    }
   ],
   "source": [
    "X = Xopt(generator=RandomGenerator(vocs), evaluator=Evaluator(function=f), vocs=vocs)\n",
    "\n",
    "# Submit to the evaluator some new inputs\n",
    "X.submit_data(vocs.random_inputs(4))\n",
    "\n",
    "# Unevaluated inputs are collected in a dataframe\n",
    "X._input_data"
   ]
  },
  {
   "cell_type": "code",
   "execution_count": 21,
   "metadata": {
    "collapsed": false,
    "execution": {
     "iopub.execute_input": "2023-03-21T14:54:33.939392Z",
     "iopub.status.busy": "2023-03-21T14:54:33.938623Z",
     "iopub.status.idle": "2023-03-21T14:54:33.946011Z",
     "shell.execute_reply": "2023-03-21T14:54:33.945090Z"
    },
    "pycharm": {
     "name": "#%%\n"
    }
   },
   "outputs": [
    {
     "data": {
      "text/plain": [
       "{1: <Future at 0x7f39e9975c70 state=finished returned dict>,\n",
       " 2: <Future at 0x7f3a38d83ac0 state=finished returned dict>,\n",
       " 3: <Future at 0x7f39e99b8f10 state=finished returned dict>,\n",
       " 4: <Future at 0x7f39e997db50 state=finished returned dict>}"
      ]
     },
     "execution_count": 21,
     "metadata": {},
     "output_type": "execute_result"
    }
   ],
   "source": [
    "# Internal futures dictionary\n",
    "X._futures"
   ]
  },
  {
   "cell_type": "code",
   "execution_count": 22,
   "metadata": {
    "collapsed": false,
    "execution": {
     "iopub.execute_input": "2023-03-21T14:54:33.949329Z",
     "iopub.status.busy": "2023-03-21T14:54:33.948977Z",
     "iopub.status.idle": "2023-03-21T14:54:33.964302Z",
     "shell.execute_reply": "2023-03-21T14:54:33.963475Z"
    },
    "pycharm": {
     "name": "#%%\n"
    }
   },
   "outputs": [
    {
     "data": {
      "text/html": [
       "<div>\n",
       "<style scoped>\n",
       "    .dataframe tbody tr th:only-of-type {\n",
       "        vertical-align: middle;\n",
       "    }\n",
       "\n",
       "    .dataframe tbody tr th {\n",
       "        vertical-align: top;\n",
       "    }\n",
       "\n",
       "    .dataframe thead th {\n",
       "        text-align: right;\n",
       "    }\n",
       "</style>\n",
       "<table border=\"1\" class=\"dataframe\">\n",
       "  <thead>\n",
       "    <tr style=\"text-align: right;\">\n",
       "      <th></th>\n",
       "      <th>x</th>\n",
       "      <th>y</th>\n",
       "      <th>f1</th>\n",
       "      <th>xopt_runtime</th>\n",
       "      <th>xopt_error</th>\n",
       "    </tr>\n",
       "  </thead>\n",
       "  <tbody>\n",
       "    <tr>\n",
       "      <th>1</th>\n",
       "      <td>0.333263</td>\n",
       "      <td>0.670598</td>\n",
       "      <td>0.560765</td>\n",
       "      <td>0.400680</td>\n",
       "      <td>False</td>\n",
       "    </tr>\n",
       "    <tr>\n",
       "      <th>2</th>\n",
       "      <td>0.127120</td>\n",
       "      <td>0.708698</td>\n",
       "      <td>0.518413</td>\n",
       "      <td>0.400580</td>\n",
       "      <td>False</td>\n",
       "    </tr>\n",
       "    <tr>\n",
       "      <th>3</th>\n",
       "      <td>0.478903</td>\n",
       "      <td>0.998964</td>\n",
       "      <td>1.227277</td>\n",
       "      <td>0.400674</td>\n",
       "      <td>False</td>\n",
       "    </tr>\n",
       "    <tr>\n",
       "      <th>4</th>\n",
       "      <td>0.249796</td>\n",
       "      <td>0.363820</td>\n",
       "      <td>0.194763</td>\n",
       "      <td>0.400671</td>\n",
       "      <td>False</td>\n",
       "    </tr>\n",
       "  </tbody>\n",
       "</table>\n",
       "</div>"
      ],
      "text/plain": [
       "          x         y        f1  xopt_runtime  xopt_error\n",
       "1  0.333263  0.670598  0.560765      0.400680       False\n",
       "2  0.127120  0.708698  0.518413      0.400580       False\n",
       "3  0.478903  0.998964  1.227277      0.400674       False\n",
       "4  0.249796  0.363820  0.194763      0.400671       False"
      ]
     },
     "execution_count": 22,
     "metadata": {},
     "output_type": "execute_result"
    }
   ],
   "source": [
    "# Collect all finished futures and updata dataframe\n",
    "X.process_futures()\n",
    "X.data"
   ]
  },
  {
   "cell_type": "code",
   "execution_count": 23,
   "metadata": {
    "collapsed": false,
    "execution": {
     "iopub.execute_input": "2023-03-21T14:54:33.968136Z",
     "iopub.status.busy": "2023-03-21T14:54:33.967430Z",
     "iopub.status.idle": "2023-03-21T14:54:33.974869Z",
     "shell.execute_reply": "2023-03-21T14:54:33.973958Z"
    },
    "pycharm": {
     "name": "#%%\n"
    }
   },
   "outputs": [
    {
     "data": {
      "text/plain": [
       "{}"
      ]
     },
     "execution_count": 23,
     "metadata": {},
     "output_type": "execute_result"
    }
   ],
   "source": [
    "# Futures are now cleared out\n",
    "X._futures"
   ]
  },
  {
   "cell_type": "code",
   "execution_count": 24,
   "metadata": {
    "collapsed": false,
    "execution": {
     "iopub.execute_input": "2023-03-21T14:54:33.978488Z",
     "iopub.status.busy": "2023-03-21T14:54:33.978202Z",
     "iopub.status.idle": "2023-03-21T14:54:33.985818Z",
     "shell.execute_reply": "2023-03-21T14:54:33.984612Z"
    },
    "pycharm": {
     "name": "#%%\n"
    }
   },
   "outputs": [
    {
     "data": {
      "text/plain": [
       "4"
      ]
     },
     "execution_count": 24,
     "metadata": {},
     "output_type": "execute_result"
    }
   ],
   "source": [
    "# This is the internal counter\n",
    "X._ix_last"
   ]
  },
  {
   "cell_type": "code",
   "execution_count": 25,
   "metadata": {
    "collapsed": false,
    "execution": {
     "iopub.execute_input": "2023-03-21T14:54:33.989393Z",
     "iopub.status.busy": "2023-03-21T14:54:33.989109Z",
     "iopub.status.idle": "2023-03-21T14:54:34.606278Z",
     "shell.execute_reply": "2023-03-21T14:54:34.605342Z"
    },
    "pycharm": {
     "name": "#%%\n"
    }
   },
   "outputs": [
    {
     "data": {
      "text/html": [
       "<div>\n",
       "<style scoped>\n",
       "    .dataframe tbody tr th:only-of-type {\n",
       "        vertical-align: middle;\n",
       "    }\n",
       "\n",
       "    .dataframe tbody tr th {\n",
       "        vertical-align: top;\n",
       "    }\n",
       "\n",
       "    .dataframe thead th {\n",
       "        text-align: right;\n",
       "    }\n",
       "</style>\n",
       "<table border=\"1\" class=\"dataframe\">\n",
       "  <thead>\n",
       "    <tr style=\"text-align: right;\">\n",
       "      <th></th>\n",
       "      <th>x</th>\n",
       "      <th>y</th>\n",
       "      <th>f1</th>\n",
       "      <th>xopt_runtime</th>\n",
       "      <th>xopt_error</th>\n",
       "    </tr>\n",
       "  </thead>\n",
       "  <tbody>\n",
       "    <tr>\n",
       "      <th>5</th>\n",
       "      <td>0.600748</td>\n",
       "      <td>0.031670</td>\n",
       "      <td>0.361902</td>\n",
       "      <td>0.100330</td>\n",
       "      <td>False</td>\n",
       "    </tr>\n",
       "    <tr>\n",
       "      <th>6</th>\n",
       "      <td>0.596771</td>\n",
       "      <td>0.132335</td>\n",
       "      <td>0.373648</td>\n",
       "      <td>0.100338</td>\n",
       "      <td>False</td>\n",
       "    </tr>\n",
       "    <tr>\n",
       "      <th>7</th>\n",
       "      <td>0.665451</td>\n",
       "      <td>0.208765</td>\n",
       "      <td>0.486407</td>\n",
       "      <td>0.100381</td>\n",
       "      <td>False</td>\n",
       "    </tr>\n",
       "    <tr>\n",
       "      <th>8</th>\n",
       "      <td>0.276934</td>\n",
       "      <td>0.555539</td>\n",
       "      <td>0.385316</td>\n",
       "      <td>0.300548</td>\n",
       "      <td>False</td>\n",
       "    </tr>\n",
       "  </tbody>\n",
       "</table>\n",
       "</div>"
      ],
      "text/plain": [
       "          x         y        f1  xopt_runtime  xopt_error\n",
       "5  0.600748  0.031670  0.361902      0.100330       False\n",
       "6  0.596771  0.132335  0.373648      0.100338       False\n",
       "7  0.665451  0.208765  0.486407      0.100381       False\n",
       "8  0.276934  0.555539  0.385316      0.300548       False"
      ]
     },
     "execution_count": 25,
     "metadata": {},
     "output_type": "execute_result"
    }
   ],
   "source": [
    "# This causes immediate evaluation\n",
    "X.evaluate_data(vocs.random_inputs(4))"
   ]
  },
  {
   "cell_type": "code",
   "execution_count": 26,
   "metadata": {
    "collapsed": false,
    "execution": {
     "iopub.execute_input": "2023-03-21T14:54:34.610012Z",
     "iopub.status.busy": "2023-03-21T14:54:34.609733Z",
     "iopub.status.idle": "2023-03-21T14:54:34.727862Z",
     "shell.execute_reply": "2023-03-21T14:54:34.726921Z"
    },
    "pycharm": {
     "name": "#%%\n"
    }
   },
   "outputs": [
    {
     "data": {
      "text/html": [
       "<div>\n",
       "<style scoped>\n",
       "    .dataframe tbody tr th:only-of-type {\n",
       "        vertical-align: middle;\n",
       "    }\n",
       "\n",
       "    .dataframe tbody tr th {\n",
       "        vertical-align: top;\n",
       "    }\n",
       "\n",
       "    .dataframe thead th {\n",
       "        text-align: right;\n",
       "    }\n",
       "</style>\n",
       "<table border=\"1\" class=\"dataframe\">\n",
       "  <thead>\n",
       "    <tr style=\"text-align: right;\">\n",
       "      <th></th>\n",
       "      <th>x</th>\n",
       "      <th>y</th>\n",
       "      <th>f1</th>\n",
       "      <th>xopt_runtime</th>\n",
       "      <th>xopt_error</th>\n",
       "    </tr>\n",
       "  </thead>\n",
       "  <tbody>\n",
       "    <tr>\n",
       "      <th>1</th>\n",
       "      <td>0.333263</td>\n",
       "      <td>0.670598</td>\n",
       "      <td>0.560765</td>\n",
       "      <td>0.400680</td>\n",
       "      <td>False</td>\n",
       "    </tr>\n",
       "    <tr>\n",
       "      <th>2</th>\n",
       "      <td>0.127120</td>\n",
       "      <td>0.708698</td>\n",
       "      <td>0.518413</td>\n",
       "      <td>0.400580</td>\n",
       "      <td>False</td>\n",
       "    </tr>\n",
       "    <tr>\n",
       "      <th>3</th>\n",
       "      <td>0.478903</td>\n",
       "      <td>0.998964</td>\n",
       "      <td>1.227277</td>\n",
       "      <td>0.400674</td>\n",
       "      <td>False</td>\n",
       "    </tr>\n",
       "    <tr>\n",
       "      <th>4</th>\n",
       "      <td>0.249796</td>\n",
       "      <td>0.363820</td>\n",
       "      <td>0.194763</td>\n",
       "      <td>0.400671</td>\n",
       "      <td>False</td>\n",
       "    </tr>\n",
       "    <tr>\n",
       "      <th>5</th>\n",
       "      <td>0.600748</td>\n",
       "      <td>0.031670</td>\n",
       "      <td>0.361902</td>\n",
       "      <td>0.100330</td>\n",
       "      <td>False</td>\n",
       "    </tr>\n",
       "    <tr>\n",
       "      <th>6</th>\n",
       "      <td>0.596771</td>\n",
       "      <td>0.132335</td>\n",
       "      <td>0.373648</td>\n",
       "      <td>0.100338</td>\n",
       "      <td>False</td>\n",
       "    </tr>\n",
       "    <tr>\n",
       "      <th>7</th>\n",
       "      <td>0.665451</td>\n",
       "      <td>0.208765</td>\n",
       "      <td>0.486407</td>\n",
       "      <td>0.100381</td>\n",
       "      <td>False</td>\n",
       "    </tr>\n",
       "    <tr>\n",
       "      <th>8</th>\n",
       "      <td>0.276934</td>\n",
       "      <td>0.555539</td>\n",
       "      <td>0.385316</td>\n",
       "      <td>0.300548</td>\n",
       "      <td>False</td>\n",
       "    </tr>\n",
       "    <tr>\n",
       "      <th>9</th>\n",
       "      <td>0.287898</td>\n",
       "      <td>0.757285</td>\n",
       "      <td>0.656366</td>\n",
       "      <td>0.100338</td>\n",
       "      <td>False</td>\n",
       "    </tr>\n",
       "  </tbody>\n",
       "</table>\n",
       "</div>"
      ],
      "text/plain": [
       "          x         y        f1  xopt_runtime  xopt_error\n",
       "1  0.333263  0.670598  0.560765      0.400680       False\n",
       "2  0.127120  0.708698  0.518413      0.400580       False\n",
       "3  0.478903  0.998964  1.227277      0.400674       False\n",
       "4  0.249796  0.363820  0.194763      0.400671       False\n",
       "5  0.600748  0.031670  0.361902      0.100330       False\n",
       "6  0.596771  0.132335  0.373648      0.100338       False\n",
       "7  0.665451  0.208765  0.486407      0.100381       False\n",
       "8  0.276934  0.555539  0.385316      0.300548       False\n",
       "9  0.287898  0.757285  0.656366      0.100338       False"
      ]
     },
     "execution_count": 26,
     "metadata": {},
     "output_type": "execute_result"
    }
   ],
   "source": [
    "# Singe generation step\n",
    "X.step()\n",
    "X.data"
   ]
  },
  {
   "cell_type": "code",
   "execution_count": 27,
   "metadata": {
    "execution": {
     "iopub.execute_input": "2023-03-21T14:54:34.731592Z",
     "iopub.status.busy": "2023-03-21T14:54:34.731292Z",
     "iopub.status.idle": "2023-03-21T14:54:34.740961Z",
     "shell.execute_reply": "2023-03-21T14:54:34.739872Z"
    }
   },
   "outputs": [],
   "source": [
    "# Usage with a parallel executor. \n",
    "X2 = Xopt(\n",
    "    generator=RandomGenerator(vocs),\n",
    "    evaluator=Evaluator(function=f, executor=executor, max_workers=MAX_WORKERS),\n",
    "    vocs=vocs,\n",
    ")\n",
    "X2.options.asynch = True"
   ]
  },
  {
   "cell_type": "code",
   "execution_count": 28,
   "metadata": {
    "execution": {
     "iopub.execute_input": "2023-03-21T14:54:34.744767Z",
     "iopub.status.busy": "2023-03-21T14:54:34.744438Z",
     "iopub.status.idle": "2023-03-21T14:54:35.066043Z",
     "shell.execute_reply": "2023-03-21T14:54:35.064393Z"
    }
   },
   "outputs": [],
   "source": [
    "X2.step()"
   ]
  },
  {
   "cell_type": "code",
   "execution_count": 29,
   "metadata": {
    "collapsed": false,
    "execution": {
     "iopub.execute_input": "2023-03-21T14:54:35.070152Z",
     "iopub.status.busy": "2023-03-21T14:54:35.069518Z",
     "iopub.status.idle": "2023-03-21T14:54:36.552025Z",
     "shell.execute_reply": "2023-03-21T14:54:36.551056Z"
    },
    "pycharm": {
     "name": "#%%\n"
    }
   },
   "outputs": [
    {
     "data": {
      "text/plain": [
       "60"
      ]
     },
     "execution_count": 29,
     "metadata": {},
     "output_type": "execute_result"
    }
   ],
   "source": [
    "for _ in range(20):\n",
    "    X2.step()\n",
    "\n",
    "len(X2.data)"
   ]
  },
  {
   "cell_type": "code",
   "execution_count": 30,
   "metadata": {
    "collapsed": false,
    "execution": {
     "iopub.execute_input": "2023-03-21T14:54:36.555432Z",
     "iopub.status.busy": "2023-03-21T14:54:36.555162Z",
     "iopub.status.idle": "2023-03-21T14:54:37.455937Z",
     "shell.execute_reply": "2023-03-21T14:54:37.455158Z"
    },
    "pycharm": {
     "name": "#%%\n"
    }
   },
   "outputs": [
    {
     "data": {
      "text/plain": [
       "<Axes: xlabel='x', ylabel='y'>"
      ]
     },
     "execution_count": 30,
     "metadata": {},
     "output_type": "execute_result"
    },
    {
     "data": {
      "image/png": "[encoded data removed]",
      "text/plain": [
       "<Figure size 640x480 with 1 Axes>"
      ]
     },
     "metadata": {
      "image/png": {
       "height": 432,
       "width": 567
      }
     },
     "output_type": "display_data"
    }
   ],
   "source": [
    "X2.data.plot.scatter(\"x\", \"y\")"
   ]
  },
  {
   "cell_type": "code",
   "execution_count": 31,
   "metadata": {
    "collapsed": false,
    "execution": {
     "iopub.execute_input": "2023-03-21T14:54:37.459453Z",
     "iopub.status.busy": "2023-03-21T14:54:37.458767Z",
     "iopub.status.idle": "2023-03-21T14:54:38.096851Z",
     "shell.execute_reply": "2023-03-21T14:54:38.095854Z"
    },
    "pycharm": {
     "name": "#%%\n"
    }
   },
   "outputs": [
    {
     "data": {
      "text/plain": [
       "30"
      ]
     },
     "execution_count": 31,
     "metadata": {},
     "output_type": "execute_result"
    }
   ],
   "source": [
    "# Asynchronous, Vectorized\n",
    "X2 = Xopt(\n",
    "    generator=RandomGenerator(vocs),\n",
    "    evaluator=Evaluator(function=f, executor=executor, max_workers=MAX_WORKERS),\n",
    "    vocs=vocs,\n",
    ")\n",
    "X2.options.asynch = True\n",
    "X2.evaluator.vectorized = True\n",
    "\n",
    "# This takes fewer steps to achieve a similar numver of evaluations\n",
    "for _ in range(3):\n",
    "    X2.step()\n",
    "\n",
    "len(X2.data)"
   ]
  }
 ],
 "metadata": {
  "kernelspec": {
   "display_name": "Python 3.9.13 ('xopt-dev2')",
   "language": "python",
   "name": "python3"
  },
  "language_info": {
   "codemirror_mode": {
    "name": "ipython",
    "version": 3
   },
   "file_extension": ".py",
   "mimetype": "text/x-python",
   "name": "python",
   "nbconvert_exporter": "python",
   "pygments_lexer": "ipython3",
   "version": "3.9.16"
  },
  "vscode": {
   "interpreter": {
    "hash": "4483d4964800812ebc77892a92dde3b54705ec8a224d63d9bb659e2cc457018b"
   }
  }
 },
 "nbformat": 4,
 "nbformat_minor": 2
}
