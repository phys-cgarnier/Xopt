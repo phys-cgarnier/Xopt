{
 "cells": [
  {
   "cell_type": "markdown",
   "metadata": {
    "pycharm": {
     "name": "#%% md\n"
    }
   },
   "source": []
  },
  {
   "cell_type": "markdown",
   "metadata": {
    "pycharm": {
     "name": "#%% md\n"
    }
   },
   "source": [
    "# Xopt Evaluator Basic Usage \n",
    "\n",
    "The `Evaluator` handles the execution of the user-provided `function` with optional `function_kwags`, asyncrhonously and parallel, with exception handling. "
   ]
  },
  {
   "cell_type": "code",
   "execution_count": 1,
   "metadata": {
    "collapsed": false,
    "execution": {
     "iopub.execute_input": "2023-03-20T18:22:30.264937Z",
     "iopub.status.busy": "2023-03-20T18:22:30.264669Z",
     "iopub.status.idle": "2023-03-20T18:22:30.272161Z",
     "shell.execute_reply": "2023-03-20T18:22:30.271541Z"
    },
    "pycharm": {
     "name": "#%%\n"
    }
   },
   "outputs": [],
   "source": [
    "# needed for macos\n",
    "import platform\n",
    "if platform.system() == \"Darwin\": import multiprocessing;multiprocessing.set_start_method(\"fork\")\n"
   ]
  },
  {
   "cell_type": "code",
   "execution_count": 2,
   "metadata": {
    "collapsed": false,
    "execution": {
     "iopub.execute_input": "2023-03-20T18:22:30.274837Z",
     "iopub.status.busy": "2023-03-20T18:22:30.274517Z",
     "iopub.status.idle": "2023-03-20T18:22:32.448639Z",
     "shell.execute_reply": "2023-03-20T18:22:32.447947Z"
    },
    "pycharm": {
     "name": "#%%\n"
    }
   },
   "outputs": [],
   "source": [
    "from xopt import Xopt, Evaluator, Generator, VOCS\n",
    "from xopt.generators.random import RandomGenerator\n",
    "\n",
    "import pandas as pd\n",
    "\n",
    "from time import sleep\n",
    "from numpy.random import randint\n",
    "\n",
    "from typing import Dict\n",
    "\n",
    "import numpy as np\n",
    "np.random.seed(666) # for reproducibility\n",
    "\n",
    "# Nicer plotting\n",
    "%config InlineBackend.figure_format = 'retina'"
   ]
  },
  {
   "cell_type": "markdown",
   "metadata": {},
   "source": [
    "Define a custom function `f(inputs: Dict) -> outputs: Dict`. "
   ]
  },
  {
   "cell_type": "code",
   "execution_count": 3,
   "metadata": {
    "execution": {
     "iopub.execute_input": "2023-03-20T18:22:32.451957Z",
     "iopub.status.busy": "2023-03-20T18:22:32.451475Z",
     "iopub.status.idle": "2023-03-20T18:22:32.456576Z",
     "shell.execute_reply": "2023-03-20T18:22:32.456005Z"
    }
   },
   "outputs": [],
   "source": [
    "def f(inputs: Dict, a=2) -> Dict:\n",
    "\n",
    "    sleep(randint(1, 5)*.1)  # simulate computation time\n",
    "    # Make some occasional errors\n",
    "    if np.any(inputs[\"x\"] > 0.8):\n",
    "        raise ValueError(\"x > 0.8\")\n",
    "\n",
    "    return {\"f1\": inputs[\"x\"] ** 2 + inputs[\"y\"] ** 2}"
   ]
  },
  {
   "cell_type": "markdown",
   "metadata": {},
   "source": [
    "Define variables, objectives, constraints, and other settings (VOCS)"
   ]
  },
  {
   "cell_type": "code",
   "execution_count": 4,
   "metadata": {
    "collapsed": false,
    "execution": {
     "iopub.execute_input": "2023-03-20T18:22:32.459124Z",
     "iopub.status.busy": "2023-03-20T18:22:32.458706Z",
     "iopub.status.idle": "2023-03-20T18:22:32.466263Z",
     "shell.execute_reply": "2023-03-20T18:22:32.465653Z"
    },
    "pycharm": {
     "name": "#%%\n"
    }
   },
   "outputs": [
    {
     "data": {
      "text/plain": [
       "VOCS(variables={'x': [0.0, 1.0], 'y': [0.0, 1.0]}, constraints={}, objectives={'f1': 'MINIMIZE'}, constants={}, linked_variables={})"
      ]
     },
     "execution_count": 4,
     "metadata": {},
     "output_type": "execute_result"
    }
   ],
   "source": [
    "vocs = VOCS(variables={\"x\": [0, 1], \"y\": [0, 1]}, objectives={\"f1\": \"MINIMIZE\"})\n",
    "vocs\n",
    "\n"
   ]
  },
  {
   "cell_type": "markdown",
   "metadata": {},
   "source": [
    "This can be used to make some random inputs for evaluating the function. "
   ]
  },
  {
   "cell_type": "code",
   "execution_count": 5,
   "metadata": {
    "execution": {
     "iopub.execute_input": "2023-03-20T18:22:32.506266Z",
     "iopub.status.busy": "2023-03-20T18:22:32.505765Z",
     "iopub.status.idle": "2023-03-20T18:22:32.812982Z",
     "shell.execute_reply": "2023-03-20T18:22:32.812297Z"
    }
   },
   "outputs": [
    {
     "data": {
      "text/plain": [
       "{'f1': 0.11401572022703582}"
      ]
     },
     "execution_count": 5,
     "metadata": {},
     "output_type": "execute_result"
    }
   ],
   "source": [
    "in1 = vocs.random_inputs()\n",
    "\n",
    "f(in1)"
   ]
  },
  {
   "cell_type": "code",
   "execution_count": 6,
   "metadata": {
    "execution": {
     "iopub.execute_input": "2023-03-20T18:22:32.816435Z",
     "iopub.status.busy": "2023-03-20T18:22:32.815791Z",
     "iopub.status.idle": "2023-03-20T18:22:33.121695Z",
     "shell.execute_reply": "2023-03-20T18:22:33.120919Z"
    }
   },
   "outputs": [
    {
     "name": "stdout",
     "output_type": "stream",
     "text": [
      "Caught error in f: x > 0.8\n"
     ]
    }
   ],
   "source": [
    "# Add in occasional errors. \n",
    "try:\n",
    "    f({\"x\": 1, \"y\": 0})\n",
    "except Exception as ex:\n",
    "    print(f\"Caught error in f: {ex}\")"
   ]
  },
  {
   "cell_type": "code",
   "execution_count": 7,
   "metadata": {
    "execution": {
     "iopub.execute_input": "2023-03-20T18:22:33.125110Z",
     "iopub.status.busy": "2023-03-20T18:22:33.124483Z",
     "iopub.status.idle": "2023-03-20T18:22:33.134413Z",
     "shell.execute_reply": "2023-03-20T18:22:33.133849Z"
    }
   },
   "outputs": [],
   "source": [
    "# Create Evaluator\n",
    "ev = Evaluator(function=f)"
   ]
  },
  {
   "cell_type": "code",
   "execution_count": 8,
   "metadata": {
    "execution": {
     "iopub.execute_input": "2023-03-20T18:22:33.137275Z",
     "iopub.status.busy": "2023-03-20T18:22:33.136789Z",
     "iopub.status.idle": "2023-03-20T18:22:33.343385Z",
     "shell.execute_reply": "2023-03-20T18:22:33.342736Z"
    }
   },
   "outputs": [
    {
     "data": {
      "text/plain": [
       "{'f1': 0.11401572022703582,\n",
       " 'xopt_runtime': 0.20046245599996837,\n",
       " 'xopt_error': False}"
      ]
     },
     "execution_count": 8,
     "metadata": {},
     "output_type": "execute_result"
    }
   ],
   "source": [
    "# Single input evaluation\n",
    "ev.evaluate(in1)"
   ]
  },
  {
   "cell_type": "code",
   "execution_count": 9,
   "metadata": {
    "execution": {
     "iopub.execute_input": "2023-03-20T18:22:33.346423Z",
     "iopub.status.busy": "2023-03-20T18:22:33.345910Z",
     "iopub.status.idle": "2023-03-20T18:22:35.964715Z",
     "shell.execute_reply": "2023-03-20T18:22:35.963992Z"
    }
   },
   "outputs": [
    {
     "data": {
      "text/html": [
       "<div>\n",
       "<style scoped>\n",
       "    .dataframe tbody tr th:only-of-type {\n",
       "        vertical-align: middle;\n",
       "    }\n",
       "\n",
       "    .dataframe tbody tr th {\n",
       "        vertical-align: top;\n",
       "    }\n",
       "\n",
       "    .dataframe thead th {\n",
       "        text-align: right;\n",
       "    }\n",
       "</style>\n",
       "<table border=\"1\" class=\"dataframe\">\n",
       "  <thead>\n",
       "    <tr style=\"text-align: right;\">\n",
       "      <th></th>\n",
       "      <th>f1</th>\n",
       "      <th>xopt_runtime</th>\n",
       "      <th>xopt_error</th>\n",
       "    </tr>\n",
       "  </thead>\n",
       "  <tbody>\n",
       "    <tr>\n",
       "      <th>0</th>\n",
       "      <td>0.529588</td>\n",
       "      <td>0.300545</td>\n",
       "      <td>False</td>\n",
       "    </tr>\n",
       "    <tr>\n",
       "      <th>1</th>\n",
       "      <td>1.154098</td>\n",
       "      <td>0.400642</td>\n",
       "      <td>False</td>\n",
       "    </tr>\n",
       "    <tr>\n",
       "      <th>2</th>\n",
       "      <td>0.641450</td>\n",
       "      <td>0.200478</td>\n",
       "      <td>False</td>\n",
       "    </tr>\n",
       "    <tr>\n",
       "      <th>3</th>\n",
       "      <td>0.619825</td>\n",
       "      <td>0.200448</td>\n",
       "      <td>False</td>\n",
       "    </tr>\n",
       "    <tr>\n",
       "      <th>4</th>\n",
       "      <td>0.536923</td>\n",
       "      <td>0.100338</td>\n",
       "      <td>False</td>\n",
       "    </tr>\n",
       "    <tr>\n",
       "      <th>5</th>\n",
       "      <td>0.342636</td>\n",
       "      <td>0.300544</td>\n",
       "      <td>False</td>\n",
       "    </tr>\n",
       "    <tr>\n",
       "      <th>6</th>\n",
       "      <td>0.589861</td>\n",
       "      <td>0.100334</td>\n",
       "      <td>False</td>\n",
       "    </tr>\n",
       "    <tr>\n",
       "      <th>7</th>\n",
       "      <td>0.556977</td>\n",
       "      <td>0.400666</td>\n",
       "      <td>False</td>\n",
       "    </tr>\n",
       "    <tr>\n",
       "      <th>8</th>\n",
       "      <td>0.055586</td>\n",
       "      <td>0.300544</td>\n",
       "      <td>False</td>\n",
       "    </tr>\n",
       "    <tr>\n",
       "      <th>9</th>\n",
       "      <td>0.785844</td>\n",
       "      <td>0.300538</td>\n",
       "      <td>False</td>\n",
       "    </tr>\n",
       "  </tbody>\n",
       "</table>\n",
       "</div>"
      ],
      "text/plain": [
       "         f1  xopt_runtime  xopt_error\n",
       "0  0.529588      0.300545       False\n",
       "1  1.154098      0.400642       False\n",
       "2  0.641450      0.200478       False\n",
       "3  0.619825      0.200448       False\n",
       "4  0.536923      0.100338       False\n",
       "5  0.342636      0.300544       False\n",
       "6  0.589861      0.100334       False\n",
       "7  0.556977      0.400666       False\n",
       "8  0.055586      0.300544       False\n",
       "9  0.785844      0.300538       False"
      ]
     },
     "execution_count": 9,
     "metadata": {},
     "output_type": "execute_result"
    }
   ],
   "source": [
    "# Dataframe evaluation\n",
    "in10 = vocs.random_inputs(10)\n",
    "ev.evaluate_data(in10)\n"
   ]
  },
  {
   "cell_type": "code",
   "execution_count": 10,
   "metadata": {
    "execution": {
     "iopub.execute_input": "2023-03-20T18:22:35.967647Z",
     "iopub.status.busy": "2023-03-20T18:22:35.967220Z",
     "iopub.status.idle": "2023-03-20T18:22:38.678136Z",
     "shell.execute_reply": "2023-03-20T18:22:38.677279Z"
    }
   },
   "outputs": [
    {
     "name": "stdout",
     "output_type": "stream",
     "text": [
      "{'f1': 0.5295876188736232, 'xopt_runtime': 0.3005272309999327, 'xopt_error': False}\n",
      "{'f1': 1.154097903998413, 'xopt_runtime': 0.30056889399998, 'xopt_error': False}\n",
      "{'f1': 0.641449645681512, 'xopt_runtime': 0.10035363800000141, 'xopt_error': False}\n",
      "{'f1': 0.6198251611679085, 'xopt_runtime': 0.10034573799998725, 'xopt_error': False}\n",
      "{'f1': 0.5369228584400957, 'xopt_runtime': 0.4006559389999893, 'xopt_error': False}\n",
      "{'f1': 0.3426360721182605, 'xopt_runtime': 0.30053800500002126, 'xopt_error': False}\n",
      "{'f1': 0.5898614653804399, 'xopt_runtime': 0.20043427100006284, 'xopt_error': False}\n",
      "{'f1': 0.5569771979382582, 'xopt_runtime': 0.40065453800002615, 'xopt_error': False}\n",
      "{'f1': 0.055585968775201305, 'xopt_runtime': 0.3005351049999945, 'xopt_error': False}\n",
      "{'f1': 0.7858444543806786, 'xopt_runtime': 0.3005331049999995, 'xopt_error': False}\n"
     ]
    }
   ],
   "source": [
    "# Dataframe submission (returns futures dict)\n",
    "futures = ev.submit_data(in10)\n",
    "for future in futures:\n",
    "    print(future.result())"
   ]
  },
  {
   "cell_type": "code",
   "execution_count": 11,
   "metadata": {
    "execution": {
     "iopub.execute_input": "2023-03-20T18:22:38.681519Z",
     "iopub.status.busy": "2023-03-20T18:22:38.680896Z",
     "iopub.status.idle": "2023-03-20T18:22:39.092962Z",
     "shell.execute_reply": "2023-03-20T18:22:39.092330Z"
    }
   },
   "outputs": [
    {
     "data": {
      "text/html": [
       "<div>\n",
       "<style scoped>\n",
       "    .dataframe tbody tr th:only-of-type {\n",
       "        vertical-align: middle;\n",
       "    }\n",
       "\n",
       "    .dataframe tbody tr th {\n",
       "        vertical-align: top;\n",
       "    }\n",
       "\n",
       "    .dataframe thead th {\n",
       "        text-align: right;\n",
       "    }\n",
       "</style>\n",
       "<table border=\"1\" class=\"dataframe\">\n",
       "  <thead>\n",
       "    <tr style=\"text-align: right;\">\n",
       "      <th></th>\n",
       "      <th>f1</th>\n",
       "      <th>xopt_runtime</th>\n",
       "      <th>xopt_error</th>\n",
       "    </tr>\n",
       "  </thead>\n",
       "  <tbody>\n",
       "    <tr>\n",
       "      <th>0</th>\n",
       "      <td>0.529588</td>\n",
       "      <td>0.401961</td>\n",
       "      <td>False</td>\n",
       "    </tr>\n",
       "    <tr>\n",
       "      <th>1</th>\n",
       "      <td>1.154098</td>\n",
       "      <td>0.401961</td>\n",
       "      <td>False</td>\n",
       "    </tr>\n",
       "    <tr>\n",
       "      <th>2</th>\n",
       "      <td>0.641450</td>\n",
       "      <td>0.401961</td>\n",
       "      <td>False</td>\n",
       "    </tr>\n",
       "    <tr>\n",
       "      <th>3</th>\n",
       "      <td>0.619825</td>\n",
       "      <td>0.401961</td>\n",
       "      <td>False</td>\n",
       "    </tr>\n",
       "    <tr>\n",
       "      <th>4</th>\n",
       "      <td>0.536923</td>\n",
       "      <td>0.401961</td>\n",
       "      <td>False</td>\n",
       "    </tr>\n",
       "    <tr>\n",
       "      <th>5</th>\n",
       "      <td>0.342636</td>\n",
       "      <td>0.401961</td>\n",
       "      <td>False</td>\n",
       "    </tr>\n",
       "    <tr>\n",
       "      <th>6</th>\n",
       "      <td>0.589861</td>\n",
       "      <td>0.401961</td>\n",
       "      <td>False</td>\n",
       "    </tr>\n",
       "    <tr>\n",
       "      <th>7</th>\n",
       "      <td>0.556977</td>\n",
       "      <td>0.401961</td>\n",
       "      <td>False</td>\n",
       "    </tr>\n",
       "    <tr>\n",
       "      <th>8</th>\n",
       "      <td>0.055586</td>\n",
       "      <td>0.401961</td>\n",
       "      <td>False</td>\n",
       "    </tr>\n",
       "    <tr>\n",
       "      <th>9</th>\n",
       "      <td>0.785844</td>\n",
       "      <td>0.401961</td>\n",
       "      <td>False</td>\n",
       "    </tr>\n",
       "  </tbody>\n",
       "</table>\n",
       "</div>"
      ],
      "text/plain": [
       "         f1  xopt_runtime  xopt_error\n",
       "0  0.529588      0.401961       False\n",
       "1  1.154098      0.401961       False\n",
       "2  0.641450      0.401961       False\n",
       "3  0.619825      0.401961       False\n",
       "4  0.536923      0.401961       False\n",
       "5  0.342636      0.401961       False\n",
       "6  0.589861      0.401961       False\n",
       "7  0.556977      0.401961       False\n",
       "8  0.055586      0.401961       False\n",
       "9  0.785844      0.401961       False"
      ]
     },
     "execution_count": 11,
     "metadata": {},
     "output_type": "execute_result"
    }
   ],
   "source": [
    "# Dataframe evaluation, vectorized\n",
    "ev.vectorized = True\n",
    "ev.evaluate_data(in10)\n"
   ]
  },
  {
   "cell_type": "code",
   "execution_count": 12,
   "metadata": {
    "execution": {
     "iopub.execute_input": "2023-03-20T18:22:39.096059Z",
     "iopub.status.busy": "2023-03-20T18:22:39.095548Z",
     "iopub.status.idle": "2023-03-20T18:22:39.502874Z",
     "shell.execute_reply": "2023-03-20T18:22:39.502257Z"
    }
   },
   "outputs": [
    {
     "data": {
      "text/plain": [
       "1"
      ]
     },
     "execution_count": 12,
     "metadata": {},
     "output_type": "execute_result"
    }
   ],
   "source": [
    "# Vectorized submission. This returns a single future.\n",
    "ev.vectorized = True\n",
    "futures = ev.submit_data(in10)\n",
    "len(futures)"
   ]
  },
  {
   "cell_type": "code",
   "execution_count": 13,
   "metadata": {
    "execution": {
     "iopub.execute_input": "2023-03-20T18:22:39.506009Z",
     "iopub.status.busy": "2023-03-20T18:22:39.505556Z",
     "iopub.status.idle": "2023-03-20T18:22:39.511823Z",
     "shell.execute_reply": "2023-03-20T18:22:39.511292Z"
    }
   },
   "outputs": [
    {
     "data": {
      "text/plain": [
       "{'f1': array([0.52958762, 1.1540979 , 0.64144965, 0.61982516, 0.53692286,\n",
       "        0.34263607, 0.58986147, 0.5569772 , 0.05558597, 0.78584445]),\n",
       " 'xopt_runtime': 0.4006751389999863,\n",
       " 'xopt_error': False}"
      ]
     },
     "execution_count": 13,
     "metadata": {},
     "output_type": "execute_result"
    }
   ],
   "source": [
    "futures[0].result()"
   ]
  },
  {
   "cell_type": "code",
   "execution_count": 14,
   "metadata": {
    "execution": {
     "iopub.execute_input": "2023-03-20T18:22:39.514678Z",
     "iopub.status.busy": "2023-03-20T18:22:39.514261Z",
     "iopub.status.idle": "2023-03-20T18:22:39.523784Z",
     "shell.execute_reply": "2023-03-20T18:22:39.523246Z"
    }
   },
   "outputs": [
    {
     "data": {
      "text/html": [
       "<div>\n",
       "<style scoped>\n",
       "    .dataframe tbody tr th:only-of-type {\n",
       "        vertical-align: middle;\n",
       "    }\n",
       "\n",
       "    .dataframe tbody tr th {\n",
       "        vertical-align: top;\n",
       "    }\n",
       "\n",
       "    .dataframe thead th {\n",
       "        text-align: right;\n",
       "    }\n",
       "</style>\n",
       "<table border=\"1\" class=\"dataframe\">\n",
       "  <thead>\n",
       "    <tr style=\"text-align: right;\">\n",
       "      <th></th>\n",
       "      <th>f1</th>\n",
       "      <th>xopt_runtime</th>\n",
       "      <th>xopt_error</th>\n",
       "    </tr>\n",
       "  </thead>\n",
       "  <tbody>\n",
       "    <tr>\n",
       "      <th>0</th>\n",
       "      <td>0.529588</td>\n",
       "      <td>0.400675</td>\n",
       "      <td>False</td>\n",
       "    </tr>\n",
       "    <tr>\n",
       "      <th>1</th>\n",
       "      <td>1.154098</td>\n",
       "      <td>0.400675</td>\n",
       "      <td>False</td>\n",
       "    </tr>\n",
       "    <tr>\n",
       "      <th>2</th>\n",
       "      <td>0.641450</td>\n",
       "      <td>0.400675</td>\n",
       "      <td>False</td>\n",
       "    </tr>\n",
       "    <tr>\n",
       "      <th>3</th>\n",
       "      <td>0.619825</td>\n",
       "      <td>0.400675</td>\n",
       "      <td>False</td>\n",
       "    </tr>\n",
       "    <tr>\n",
       "      <th>4</th>\n",
       "      <td>0.536923</td>\n",
       "      <td>0.400675</td>\n",
       "      <td>False</td>\n",
       "    </tr>\n",
       "    <tr>\n",
       "      <th>5</th>\n",
       "      <td>0.342636</td>\n",
       "      <td>0.400675</td>\n",
       "      <td>False</td>\n",
       "    </tr>\n",
       "    <tr>\n",
       "      <th>6</th>\n",
       "      <td>0.589861</td>\n",
       "      <td>0.400675</td>\n",
       "      <td>False</td>\n",
       "    </tr>\n",
       "    <tr>\n",
       "      <th>7</th>\n",
       "      <td>0.556977</td>\n",
       "      <td>0.400675</td>\n",
       "      <td>False</td>\n",
       "    </tr>\n",
       "    <tr>\n",
       "      <th>8</th>\n",
       "      <td>0.055586</td>\n",
       "      <td>0.400675</td>\n",
       "      <td>False</td>\n",
       "    </tr>\n",
       "    <tr>\n",
       "      <th>9</th>\n",
       "      <td>0.785844</td>\n",
       "      <td>0.400675</td>\n",
       "      <td>False</td>\n",
       "    </tr>\n",
       "  </tbody>\n",
       "</table>\n",
       "</div>"
      ],
      "text/plain": [
       "         f1  xopt_runtime  xopt_error\n",
       "0  0.529588      0.400675       False\n",
       "1  1.154098      0.400675       False\n",
       "2  0.641450      0.400675       False\n",
       "3  0.619825      0.400675       False\n",
       "4  0.536923      0.400675       False\n",
       "5  0.342636      0.400675       False\n",
       "6  0.589861      0.400675       False\n",
       "7  0.556977      0.400675       False\n",
       "8  0.055586      0.400675       False\n",
       "9  0.785844      0.400675       False"
      ]
     },
     "execution_count": 14,
     "metadata": {},
     "output_type": "execute_result"
    }
   ],
   "source": [
    "# Collect in a dataframe\n",
    "res = futures[0].result()\n",
    "# If there is an error, all outputs are spoiled.\n",
    "if res['xopt_error']:\n",
    "    res = [res]\n",
    "pd.DataFrame(res)"
   ]
  },
  {
   "cell_type": "markdown",
   "metadata": {},
   "source": [
    "# Executors"
   ]
  },
  {
   "cell_type": "code",
   "execution_count": 15,
   "metadata": {
    "execution": {
     "iopub.execute_input": "2023-03-20T18:22:39.526417Z",
     "iopub.status.busy": "2023-03-20T18:22:39.525860Z",
     "iopub.status.idle": "2023-03-20T18:22:39.528896Z",
     "shell.execute_reply": "2023-03-20T18:22:39.528321Z"
    }
   },
   "outputs": [],
   "source": [
    "from concurrent.futures import ThreadPoolExecutor, ProcessPoolExecutor\n",
    "MAX_WORKERS = 10"
   ]
  },
  {
   "cell_type": "code",
   "execution_count": 16,
   "metadata": {
    "execution": {
     "iopub.execute_input": "2023-03-20T18:22:39.531300Z",
     "iopub.status.busy": "2023-03-20T18:22:39.530830Z",
     "iopub.status.idle": "2023-03-20T18:22:39.537036Z",
     "shell.execute_reply": "2023-03-20T18:22:39.536512Z"
    }
   },
   "outputs": [
    {
     "data": {
      "text/plain": [
       "<concurrent.futures.process.ProcessPoolExecutor at 0x7f3563a3aee0>"
      ]
     },
     "execution_count": 16,
     "metadata": {},
     "output_type": "execute_result"
    }
   ],
   "source": [
    "# Create Executor insance\n",
    "executor = ProcessPoolExecutor(max_workers=MAX_WORKERS)\n",
    "executor"
   ]
  },
  {
   "cell_type": "code",
   "execution_count": 17,
   "metadata": {
    "execution": {
     "iopub.execute_input": "2023-03-20T18:22:39.539655Z",
     "iopub.status.busy": "2023-03-20T18:22:39.539253Z",
     "iopub.status.idle": "2023-03-20T18:22:39.542741Z",
     "shell.execute_reply": "2023-03-20T18:22:39.542217Z"
    }
   },
   "outputs": [],
   "source": [
    "# Dask (Optional)\n",
    "# from dask.distributed import Client\n",
    "# import logging\n",
    "# client = Client( silence_logs=logging.ERROR)\n",
    "# executor = client.get_executor()\n",
    "# client"
   ]
  },
  {
   "cell_type": "code",
   "execution_count": 18,
   "metadata": {
    "execution": {
     "iopub.execute_input": "2023-03-20T18:22:39.545139Z",
     "iopub.status.busy": "2023-03-20T18:22:39.544662Z",
     "iopub.status.idle": "2023-03-20T18:22:39.554402Z",
     "shell.execute_reply": "2023-03-20T18:22:39.553851Z"
    }
   },
   "outputs": [],
   "source": [
    "# This calls `executor.map`\n",
    "ev = Evaluator(function=f, executor=executor, max_workers=MAX_WORKERS)"
   ]
  },
  {
   "cell_type": "code",
   "execution_count": 19,
   "metadata": {
    "execution": {
     "iopub.execute_input": "2023-03-20T18:22:39.556876Z",
     "iopub.status.busy": "2023-03-20T18:22:39.556361Z",
     "iopub.status.idle": "2023-03-20T18:22:39.747753Z",
     "shell.execute_reply": "2023-03-20T18:22:39.746595Z"
    }
   },
   "outputs": [
    {
     "data": {
      "text/html": [
       "<div>\n",
       "<style scoped>\n",
       "    .dataframe tbody tr th:only-of-type {\n",
       "        vertical-align: middle;\n",
       "    }\n",
       "\n",
       "    .dataframe tbody tr th {\n",
       "        vertical-align: top;\n",
       "    }\n",
       "\n",
       "    .dataframe thead th {\n",
       "        text-align: right;\n",
       "    }\n",
       "</style>\n",
       "<table border=\"1\" class=\"dataframe\">\n",
       "  <thead>\n",
       "    <tr style=\"text-align: right;\">\n",
       "      <th></th>\n",
       "      <th>f1</th>\n",
       "      <th>xopt_runtime</th>\n",
       "      <th>xopt_error</th>\n",
       "    </tr>\n",
       "  </thead>\n",
       "  <tbody>\n",
       "    <tr>\n",
       "      <th>0</th>\n",
       "      <td>0.529588</td>\n",
       "      <td>0.100705</td>\n",
       "      <td>False</td>\n",
       "    </tr>\n",
       "    <tr>\n",
       "      <th>1</th>\n",
       "      <td>1.154098</td>\n",
       "      <td>0.100742</td>\n",
       "      <td>False</td>\n",
       "    </tr>\n",
       "    <tr>\n",
       "      <th>2</th>\n",
       "      <td>0.641450</td>\n",
       "      <td>0.100697</td>\n",
       "      <td>False</td>\n",
       "    </tr>\n",
       "    <tr>\n",
       "      <th>3</th>\n",
       "      <td>0.619825</td>\n",
       "      <td>0.101098</td>\n",
       "      <td>False</td>\n",
       "    </tr>\n",
       "    <tr>\n",
       "      <th>4</th>\n",
       "      <td>0.536923</td>\n",
       "      <td>0.100733</td>\n",
       "      <td>False</td>\n",
       "    </tr>\n",
       "    <tr>\n",
       "      <th>5</th>\n",
       "      <td>0.342636</td>\n",
       "      <td>0.101175</td>\n",
       "      <td>False</td>\n",
       "    </tr>\n",
       "    <tr>\n",
       "      <th>6</th>\n",
       "      <td>0.589861</td>\n",
       "      <td>0.100994</td>\n",
       "      <td>False</td>\n",
       "    </tr>\n",
       "    <tr>\n",
       "      <th>7</th>\n",
       "      <td>0.556977</td>\n",
       "      <td>0.101963</td>\n",
       "      <td>False</td>\n",
       "    </tr>\n",
       "    <tr>\n",
       "      <th>8</th>\n",
       "      <td>0.055586</td>\n",
       "      <td>0.100895</td>\n",
       "      <td>False</td>\n",
       "    </tr>\n",
       "    <tr>\n",
       "      <th>9</th>\n",
       "      <td>0.785844</td>\n",
       "      <td>0.100849</td>\n",
       "      <td>False</td>\n",
       "    </tr>\n",
       "  </tbody>\n",
       "</table>\n",
       "</div>"
      ],
      "text/plain": [
       "         f1  xopt_runtime  xopt_error\n",
       "0  0.529588      0.100705       False\n",
       "1  1.154098      0.100742       False\n",
       "2  0.641450      0.100697       False\n",
       "3  0.619825      0.101098       False\n",
       "4  0.536923      0.100733       False\n",
       "5  0.342636      0.101175       False\n",
       "6  0.589861      0.100994       False\n",
       "7  0.556977      0.101963       False\n",
       "8  0.055586      0.100895       False\n",
       "9  0.785844      0.100849       False"
      ]
     },
     "execution_count": 19,
     "metadata": {},
     "output_type": "execute_result"
    }
   ],
   "source": [
    "# This will run in parallel\n",
    "ev.evaluate_data(in10)"
   ]
  },
  {
   "cell_type": "markdown",
   "metadata": {},
   "source": [
    "# Evaluator in the Xopt object"
   ]
  },
  {
   "cell_type": "code",
   "execution_count": 20,
   "metadata": {
    "collapsed": false,
    "execution": {
     "iopub.execute_input": "2023-03-20T18:22:39.752178Z",
     "iopub.status.busy": "2023-03-20T18:22:39.751675Z",
     "iopub.status.idle": "2023-03-20T18:22:41.371900Z",
     "shell.execute_reply": "2023-03-20T18:22:41.371283Z"
    },
    "pycharm": {
     "name": "#%%\n"
    }
   },
   "outputs": [
    {
     "data": {
      "text/html": [
       "<div>\n",
       "<style scoped>\n",
       "    .dataframe tbody tr th:only-of-type {\n",
       "        vertical-align: middle;\n",
       "    }\n",
       "\n",
       "    .dataframe tbody tr th {\n",
       "        vertical-align: top;\n",
       "    }\n",
       "\n",
       "    .dataframe thead th {\n",
       "        text-align: right;\n",
       "    }\n",
       "</style>\n",
       "<table border=\"1\" class=\"dataframe\">\n",
       "  <thead>\n",
       "    <tr style=\"text-align: right;\">\n",
       "      <th></th>\n",
       "      <th>x</th>\n",
       "      <th>y</th>\n",
       "    </tr>\n",
       "  </thead>\n",
       "  <tbody>\n",
       "    <tr>\n",
       "      <th>1</th>\n",
       "      <td>0.333263</td>\n",
       "      <td>0.670598</td>\n",
       "    </tr>\n",
       "    <tr>\n",
       "      <th>2</th>\n",
       "      <td>0.127120</td>\n",
       "      <td>0.708698</td>\n",
       "    </tr>\n",
       "    <tr>\n",
       "      <th>3</th>\n",
       "      <td>0.478903</td>\n",
       "      <td>0.998964</td>\n",
       "    </tr>\n",
       "    <tr>\n",
       "      <th>4</th>\n",
       "      <td>0.249796</td>\n",
       "      <td>0.363820</td>\n",
       "    </tr>\n",
       "  </tbody>\n",
       "</table>\n",
       "</div>"
      ],
      "text/plain": [
       "          x         y\n",
       "1  0.333263  0.670598\n",
       "2  0.127120  0.708698\n",
       "3  0.478903  0.998964\n",
       "4  0.249796  0.363820"
      ]
     },
     "execution_count": 20,
     "metadata": {},
     "output_type": "execute_result"
    }
   ],
   "source": [
    "X = Xopt(generator=RandomGenerator(vocs), evaluator=Evaluator(function=f), vocs=vocs)\n",
    "\n",
    "# Submit to the evaluator some new inputs\n",
    "X.submit_data(vocs.random_inputs(4))\n",
    "\n",
    "# Unevaluated inputs are collected in a dataframe\n",
    "X._input_data"
   ]
  },
  {
   "cell_type": "code",
   "execution_count": 21,
   "metadata": {
    "collapsed": false,
    "execution": {
     "iopub.execute_input": "2023-03-20T18:22:41.375267Z",
     "iopub.status.busy": "2023-03-20T18:22:41.374638Z",
     "iopub.status.idle": "2023-03-20T18:22:41.380844Z",
     "shell.execute_reply": "2023-03-20T18:22:41.380324Z"
    },
    "pycharm": {
     "name": "#%%\n"
    }
   },
   "outputs": [
    {
     "data": {
      "text/plain": [
       "{1: <Future at 0x7f3563a20940 state=finished returned dict>,\n",
       " 2: <Future at 0x7f3563a72d60 state=finished returned dict>,\n",
       " 3: <Future at 0x7f3563a93b80 state=finished returned dict>,\n",
       " 4: <Future at 0x7f3563a60e50 state=finished returned dict>}"
      ]
     },
     "execution_count": 21,
     "metadata": {},
     "output_type": "execute_result"
    }
   ],
   "source": [
    "# Internal futures dictionary\n",
    "X._futures"
   ]
  },
  {
   "cell_type": "code",
   "execution_count": 22,
   "metadata": {
    "collapsed": false,
    "execution": {
     "iopub.execute_input": "2023-03-20T18:22:41.383372Z",
     "iopub.status.busy": "2023-03-20T18:22:41.383159Z",
     "iopub.status.idle": "2023-03-20T18:22:41.395245Z",
     "shell.execute_reply": "2023-03-20T18:22:41.394697Z"
    },
    "pycharm": {
     "name": "#%%\n"
    }
   },
   "outputs": [
    {
     "data": {
      "text/html": [
       "<div>\n",
       "<style scoped>\n",
       "    .dataframe tbody tr th:only-of-type {\n",
       "        vertical-align: middle;\n",
       "    }\n",
       "\n",
       "    .dataframe tbody tr th {\n",
       "        vertical-align: top;\n",
       "    }\n",
       "\n",
       "    .dataframe thead th {\n",
       "        text-align: right;\n",
       "    }\n",
       "</style>\n",
       "<table border=\"1\" class=\"dataframe\">\n",
       "  <thead>\n",
       "    <tr style=\"text-align: right;\">\n",
       "      <th></th>\n",
       "      <th>x</th>\n",
       "      <th>y</th>\n",
       "      <th>f1</th>\n",
       "      <th>xopt_runtime</th>\n",
       "      <th>xopt_error</th>\n",
       "    </tr>\n",
       "  </thead>\n",
       "  <tbody>\n",
       "    <tr>\n",
       "      <th>1</th>\n",
       "      <td>0.333263</td>\n",
       "      <td>0.670598</td>\n",
       "      <td>0.560765</td>\n",
       "      <td>0.400637</td>\n",
       "      <td>False</td>\n",
       "    </tr>\n",
       "    <tr>\n",
       "      <th>2</th>\n",
       "      <td>0.127120</td>\n",
       "      <td>0.708698</td>\n",
       "      <td>0.518413</td>\n",
       "      <td>0.400652</td>\n",
       "      <td>False</td>\n",
       "    </tr>\n",
       "    <tr>\n",
       "      <th>3</th>\n",
       "      <td>0.478903</td>\n",
       "      <td>0.998964</td>\n",
       "      <td>1.227277</td>\n",
       "      <td>0.400645</td>\n",
       "      <td>False</td>\n",
       "    </tr>\n",
       "    <tr>\n",
       "      <th>4</th>\n",
       "      <td>0.249796</td>\n",
       "      <td>0.363820</td>\n",
       "      <td>0.194763</td>\n",
       "      <td>0.400637</td>\n",
       "      <td>False</td>\n",
       "    </tr>\n",
       "  </tbody>\n",
       "</table>\n",
       "</div>"
      ],
      "text/plain": [
       "          x         y        f1  xopt_runtime  xopt_error\n",
       "1  0.333263  0.670598  0.560765      0.400637       False\n",
       "2  0.127120  0.708698  0.518413      0.400652       False\n",
       "3  0.478903  0.998964  1.227277      0.400645       False\n",
       "4  0.249796  0.363820  0.194763      0.400637       False"
      ]
     },
     "execution_count": 22,
     "metadata": {},
     "output_type": "execute_result"
    }
   ],
   "source": [
    "# Collect all finished futures and updata dataframe\n",
    "X.process_futures()\n",
    "X.data"
   ]
  },
  {
   "cell_type": "code",
   "execution_count": 23,
   "metadata": {
    "collapsed": false,
    "execution": {
     "iopub.execute_input": "2023-03-20T18:22:41.397914Z",
     "iopub.status.busy": "2023-03-20T18:22:41.397455Z",
     "iopub.status.idle": "2023-03-20T18:22:41.402700Z",
     "shell.execute_reply": "2023-03-20T18:22:41.402180Z"
    },
    "pycharm": {
     "name": "#%%\n"
    }
   },
   "outputs": [
    {
     "data": {
      "text/plain": [
       "{}"
      ]
     },
     "execution_count": 23,
     "metadata": {},
     "output_type": "execute_result"
    }
   ],
   "source": [
    "# Futures are now cleared out\n",
    "X._futures"
   ]
  },
  {
   "cell_type": "code",
   "execution_count": 24,
   "metadata": {
    "collapsed": false,
    "execution": {
     "iopub.execute_input": "2023-03-20T18:22:41.405185Z",
     "iopub.status.busy": "2023-03-20T18:22:41.404792Z",
     "iopub.status.idle": "2023-03-20T18:22:41.409767Z",
     "shell.execute_reply": "2023-03-20T18:22:41.409251Z"
    },
    "pycharm": {
     "name": "#%%\n"
    }
   },
   "outputs": [
    {
     "data": {
      "text/plain": [
       "4"
      ]
     },
     "execution_count": 24,
     "metadata": {},
     "output_type": "execute_result"
    }
   ],
   "source": [
    "# This is the internal counter\n",
    "X._ix_last"
   ]
  },
  {
   "cell_type": "code",
   "execution_count": 25,
   "metadata": {
    "collapsed": false,
    "execution": {
     "iopub.execute_input": "2023-03-20T18:22:41.411845Z",
     "iopub.status.busy": "2023-03-20T18:22:41.411647Z",
     "iopub.status.idle": "2023-03-20T18:22:42.024637Z",
     "shell.execute_reply": "2023-03-20T18:22:42.023897Z"
    },
    "pycharm": {
     "name": "#%%\n"
    }
   },
   "outputs": [
    {
     "data": {
      "text/html": [
       "<div>\n",
       "<style scoped>\n",
       "    .dataframe tbody tr th:only-of-type {\n",
       "        vertical-align: middle;\n",
       "    }\n",
       "\n",
       "    .dataframe tbody tr th {\n",
       "        vertical-align: top;\n",
       "    }\n",
       "\n",
       "    .dataframe thead th {\n",
       "        text-align: right;\n",
       "    }\n",
       "</style>\n",
       "<table border=\"1\" class=\"dataframe\">\n",
       "  <thead>\n",
       "    <tr style=\"text-align: right;\">\n",
       "      <th></th>\n",
       "      <th>x</th>\n",
       "      <th>y</th>\n",
       "      <th>f1</th>\n",
       "      <th>xopt_runtime</th>\n",
       "      <th>xopt_error</th>\n",
       "    </tr>\n",
       "  </thead>\n",
       "  <tbody>\n",
       "    <tr>\n",
       "      <th>5</th>\n",
       "      <td>0.600748</td>\n",
       "      <td>0.031670</td>\n",
       "      <td>0.361902</td>\n",
       "      <td>0.100336</td>\n",
       "      <td>False</td>\n",
       "    </tr>\n",
       "    <tr>\n",
       "      <th>6</th>\n",
       "      <td>0.596771</td>\n",
       "      <td>0.132335</td>\n",
       "      <td>0.373648</td>\n",
       "      <td>0.100348</td>\n",
       "      <td>False</td>\n",
       "    </tr>\n",
       "    <tr>\n",
       "      <th>7</th>\n",
       "      <td>0.665451</td>\n",
       "      <td>0.208765</td>\n",
       "      <td>0.486407</td>\n",
       "      <td>0.100337</td>\n",
       "      <td>False</td>\n",
       "    </tr>\n",
       "    <tr>\n",
       "      <th>8</th>\n",
       "      <td>0.276934</td>\n",
       "      <td>0.555539</td>\n",
       "      <td>0.385316</td>\n",
       "      <td>0.300529</td>\n",
       "      <td>False</td>\n",
       "    </tr>\n",
       "  </tbody>\n",
       "</table>\n",
       "</div>"
      ],
      "text/plain": [
       "          x         y        f1  xopt_runtime  xopt_error\n",
       "5  0.600748  0.031670  0.361902      0.100336       False\n",
       "6  0.596771  0.132335  0.373648      0.100348       False\n",
       "7  0.665451  0.208765  0.486407      0.100337       False\n",
       "8  0.276934  0.555539  0.385316      0.300529       False"
      ]
     },
     "execution_count": 25,
     "metadata": {},
     "output_type": "execute_result"
    }
   ],
   "source": [
    "# This causes immediate evaluation\n",
    "X.evaluate_data(vocs.random_inputs(4))"
   ]
  },
  {
   "cell_type": "code",
   "execution_count": 26,
   "metadata": {
    "collapsed": false,
    "execution": {
     "iopub.execute_input": "2023-03-20T18:22:42.027716Z",
     "iopub.status.busy": "2023-03-20T18:22:42.027336Z",
     "iopub.status.idle": "2023-03-20T18:22:42.139637Z",
     "shell.execute_reply": "2023-03-20T18:22:42.138899Z"
    },
    "pycharm": {
     "name": "#%%\n"
    }
   },
   "outputs": [
    {
     "data": {
      "text/html": [
       "<div>\n",
       "<style scoped>\n",
       "    .dataframe tbody tr th:only-of-type {\n",
       "        vertical-align: middle;\n",
       "    }\n",
       "\n",
       "    .dataframe tbody tr th {\n",
       "        vertical-align: top;\n",
       "    }\n",
       "\n",
       "    .dataframe thead th {\n",
       "        text-align: right;\n",
       "    }\n",
       "</style>\n",
       "<table border=\"1\" class=\"dataframe\">\n",
       "  <thead>\n",
       "    <tr style=\"text-align: right;\">\n",
       "      <th></th>\n",
       "      <th>x</th>\n",
       "      <th>y</th>\n",
       "      <th>f1</th>\n",
       "      <th>xopt_runtime</th>\n",
       "      <th>xopt_error</th>\n",
       "    </tr>\n",
       "  </thead>\n",
       "  <tbody>\n",
       "    <tr>\n",
       "      <th>1</th>\n",
       "      <td>0.333263</td>\n",
       "      <td>0.670598</td>\n",
       "      <td>0.560765</td>\n",
       "      <td>0.400637</td>\n",
       "      <td>False</td>\n",
       "    </tr>\n",
       "    <tr>\n",
       "      <th>2</th>\n",
       "      <td>0.127120</td>\n",
       "      <td>0.708698</td>\n",
       "      <td>0.518413</td>\n",
       "      <td>0.400652</td>\n",
       "      <td>False</td>\n",
       "    </tr>\n",
       "    <tr>\n",
       "      <th>3</th>\n",
       "      <td>0.478903</td>\n",
       "      <td>0.998964</td>\n",
       "      <td>1.227277</td>\n",
       "      <td>0.400645</td>\n",
       "      <td>False</td>\n",
       "    </tr>\n",
       "    <tr>\n",
       "      <th>4</th>\n",
       "      <td>0.249796</td>\n",
       "      <td>0.363820</td>\n",
       "      <td>0.194763</td>\n",
       "      <td>0.400637</td>\n",
       "      <td>False</td>\n",
       "    </tr>\n",
       "    <tr>\n",
       "      <th>5</th>\n",
       "      <td>0.600748</td>\n",
       "      <td>0.031670</td>\n",
       "      <td>0.361902</td>\n",
       "      <td>0.100336</td>\n",
       "      <td>False</td>\n",
       "    </tr>\n",
       "    <tr>\n",
       "      <th>6</th>\n",
       "      <td>0.596771</td>\n",
       "      <td>0.132335</td>\n",
       "      <td>0.373648</td>\n",
       "      <td>0.100348</td>\n",
       "      <td>False</td>\n",
       "    </tr>\n",
       "    <tr>\n",
       "      <th>7</th>\n",
       "      <td>0.665451</td>\n",
       "      <td>0.208765</td>\n",
       "      <td>0.486407</td>\n",
       "      <td>0.100337</td>\n",
       "      <td>False</td>\n",
       "    </tr>\n",
       "    <tr>\n",
       "      <th>8</th>\n",
       "      <td>0.276934</td>\n",
       "      <td>0.555539</td>\n",
       "      <td>0.385316</td>\n",
       "      <td>0.300529</td>\n",
       "      <td>False</td>\n",
       "    </tr>\n",
       "    <tr>\n",
       "      <th>9</th>\n",
       "      <td>0.287898</td>\n",
       "      <td>0.757285</td>\n",
       "      <td>0.656366</td>\n",
       "      <td>0.100328</td>\n",
       "      <td>False</td>\n",
       "    </tr>\n",
       "  </tbody>\n",
       "</table>\n",
       "</div>"
      ],
      "text/plain": [
       "          x         y        f1  xopt_runtime  xopt_error\n",
       "1  0.333263  0.670598  0.560765      0.400637       False\n",
       "2  0.127120  0.708698  0.518413      0.400652       False\n",
       "3  0.478903  0.998964  1.227277      0.400645       False\n",
       "4  0.249796  0.363820  0.194763      0.400637       False\n",
       "5  0.600748  0.031670  0.361902      0.100336       False\n",
       "6  0.596771  0.132335  0.373648      0.100348       False\n",
       "7  0.665451  0.208765  0.486407      0.100337       False\n",
       "8  0.276934  0.555539  0.385316      0.300529       False\n",
       "9  0.287898  0.757285  0.656366      0.100328       False"
      ]
     },
     "execution_count": 26,
     "metadata": {},
     "output_type": "execute_result"
    }
   ],
   "source": [
    "# Singe generation step\n",
    "X.step()\n",
    "X.data"
   ]
  },
  {
   "cell_type": "code",
   "execution_count": 27,
   "metadata": {
    "execution": {
     "iopub.execute_input": "2023-03-20T18:22:42.142797Z",
     "iopub.status.busy": "2023-03-20T18:22:42.142347Z",
     "iopub.status.idle": "2023-03-20T18:22:42.148114Z",
     "shell.execute_reply": "2023-03-20T18:22:42.147510Z"
    }
   },
   "outputs": [],
   "source": [
    "# Usage with a parallel executor. \n",
    "X2 = Xopt(\n",
    "    generator=RandomGenerator(vocs),\n",
    "    evaluator=Evaluator(function=f, executor=executor, max_workers=MAX_WORKERS),\n",
    "    vocs=vocs,\n",
    ")\n",
    "X2.options.asynch = True"
   ]
  },
  {
   "cell_type": "code",
   "execution_count": 28,
   "metadata": {
    "execution": {
     "iopub.execute_input": "2023-03-20T18:22:42.150635Z",
     "iopub.status.busy": "2023-03-20T18:22:42.150150Z",
     "iopub.status.idle": "2023-03-20T18:22:42.461388Z",
     "shell.execute_reply": "2023-03-20T18:22:42.460766Z"
    }
   },
   "outputs": [],
   "source": [
    "X2.step()"
   ]
  },
  {
   "cell_type": "code",
   "execution_count": 29,
   "metadata": {
    "collapsed": false,
    "execution": {
     "iopub.execute_input": "2023-03-20T18:22:42.464688Z",
     "iopub.status.busy": "2023-03-20T18:22:42.464109Z",
     "iopub.status.idle": "2023-03-20T18:22:43.602854Z",
     "shell.execute_reply": "2023-03-20T18:22:43.602257Z"
    },
    "pycharm": {
     "name": "#%%\n"
    }
   },
   "outputs": [
    {
     "data": {
      "text/plain": [
       "42"
      ]
     },
     "execution_count": 29,
     "metadata": {},
     "output_type": "execute_result"
    }
   ],
   "source": [
    "for _ in range(20):\n",
    "    X2.step()\n",
    "\n",
    "len(X2.data)"
   ]
  },
  {
   "cell_type": "code",
   "execution_count": 30,
   "metadata": {
    "collapsed": false,
    "execution": {
     "iopub.execute_input": "2023-03-20T18:22:43.606290Z",
     "iopub.status.busy": "2023-03-20T18:22:43.605860Z",
     "iopub.status.idle": "2023-03-20T18:22:44.282915Z",
     "shell.execute_reply": "2023-03-20T18:22:44.282272Z"
    },
    "pycharm": {
     "name": "#%%\n"
    }
   },
   "outputs": [
    {
     "data": {
      "text/plain": [
       "<Axes: xlabel='x', ylabel='y'>"
      ]
     },
     "execution_count": 30,
     "metadata": {},
     "output_type": "execute_result"
    },
    {
     "data": {
      "image/png": "[encoded data removed]",
      "text/plain": [
       "<Figure size 640x480 with 1 Axes>"
      ]
     },
     "metadata": {
      "image/png": {
       "height": 432,
       "width": 567
      }
     },
     "output_type": "display_data"
    }
   ],
   "source": [
    "X2.data.plot.scatter(\"x\", \"y\")"
   ]
  },
  {
   "cell_type": "code",
   "execution_count": 31,
   "metadata": {
    "collapsed": false,
    "execution": {
     "iopub.execute_input": "2023-03-20T18:22:44.285998Z",
     "iopub.status.busy": "2023-03-20T18:22:44.285526Z",
     "iopub.status.idle": "2023-03-20T18:22:45.214847Z",
     "shell.execute_reply": "2023-03-20T18:22:45.214210Z"
    },
    "pycharm": {
     "name": "#%%\n"
    }
   },
   "outputs": [
    {
     "data": {
      "text/plain": [
       "30"
      ]
     },
     "execution_count": 31,
     "metadata": {},
     "output_type": "execute_result"
    }
   ],
   "source": [
    "# Asynchronous, Vectorized\n",
    "X2 = Xopt(\n",
    "    generator=RandomGenerator(vocs),\n",
    "    evaluator=Evaluator(function=f, executor=executor, max_workers=MAX_WORKERS),\n",
    "    vocs=vocs,\n",
    ")\n",
    "X2.options.asynch = True\n",
    "X2.evaluator.vectorized = True\n",
    "\n",
    "# This takes fewer steps to achieve a similar numver of evaluations\n",
    "for _ in range(3):\n",
    "    X2.step()\n",
    "\n",
    "len(X2.data)"
   ]
  }
 ],
 "metadata": {
  "kernelspec": {
   "display_name": "Python 3.9.13 ('xopt-dev2')",
   "language": "python",
   "name": "python3"
  },
  "language_info": {
   "codemirror_mode": {
    "name": "ipython",
    "version": 3
   },
   "file_extension": ".py",
   "mimetype": "text/x-python",
   "name": "python",
   "nbconvert_exporter": "python",
   "pygments_lexer": "ipython3",
   "version": "3.9.16"
  },
  "vscode": {
   "interpreter": {
    "hash": "4483d4964800812ebc77892a92dde3b54705ec8a224d63d9bb659e2cc457018b"
   }
  }
 },
 "nbformat": 4,
 "nbformat_minor": 2
}
