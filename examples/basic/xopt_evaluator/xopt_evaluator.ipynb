{
 "cells": [
  {
   "cell_type": "markdown",
   "metadata": {},
   "source": [
    "# Xopt Evaluator Basic Usage \n",
    "\n",
    "The `Evaluator` handles the execution of the user-provided `function` with optional `function_kwags`, asyncrhonously and parallel, with exception handling. "
   ]
  },
  {
   "cell_type": "code",
   "execution_count": 1,
   "metadata": {
    "ExecuteTime": {
     "end_time": "2023-09-08T21:35:16.928260600Z",
     "start_time": "2023-09-08T21:35:16.919590900Z"
    },
    "collapsed": false,
    "execution": {
     "iopub.execute_input": "2024-02-01T04:00:48.009406Z",
     "iopub.status.busy": "2024-02-01T04:00:48.009231Z",
     "iopub.status.idle": "2024-02-01T04:00:48.014885Z",
     "shell.execute_reply": "2024-02-01T04:00:48.014352Z"
    }
   },
   "outputs": [],
   "source": [
    "# needed for macos\n",
    "import platform\n",
    "if platform.system() == \"Darwin\": import multiprocessing;multiprocessing.set_start_method(\"fork\")\n"
   ]
  },
  {
   "cell_type": "code",
   "execution_count": 2,
   "metadata": {
    "ExecuteTime": {
     "end_time": "2023-09-08T21:35:32.309828Z",
     "start_time": "2023-09-08T21:35:16.928260600Z"
    },
    "collapsed": false,
    "execution": {
     "iopub.execute_input": "2024-02-01T04:00:48.017191Z",
     "iopub.status.busy": "2024-02-01T04:00:48.016869Z",
     "iopub.status.idle": "2024-02-01T04:00:49.511433Z",
     "shell.execute_reply": "2024-02-01T04:00:49.510862Z"
    }
   },
   "outputs": [],
   "source": [
    "from xopt import Xopt, Evaluator, VOCS\n",
    "from xopt.generators.random import RandomGenerator\n",
    "\n",
    "import pandas as pd\n",
    "\n",
    "from time import sleep\n",
    "from numpy.random import randint\n",
    "\n",
    "from typing import Dict\n",
    "\n",
    "import numpy as np\n",
    "np.random.seed(666) # for reproducibility"
   ]
  },
  {
   "cell_type": "markdown",
   "metadata": {},
   "source": [
    "Define a custom function `f(inputs: Dict) -> outputs: Dict`. "
   ]
  },
  {
   "cell_type": "code",
   "execution_count": 3,
   "metadata": {
    "ExecuteTime": {
     "end_time": "2023-09-08T21:35:32.324561500Z",
     "start_time": "2023-09-08T21:35:32.311827800Z"
    },
    "execution": {
     "iopub.execute_input": "2024-02-01T04:00:49.514130Z",
     "iopub.status.busy": "2024-02-01T04:00:49.513866Z",
     "iopub.status.idle": "2024-02-01T04:00:49.517462Z",
     "shell.execute_reply": "2024-02-01T04:00:49.517009Z"
    }
   },
   "outputs": [],
   "source": [
    "def f(inputs: Dict, enable_errors=True) -> Dict:\n",
    "\n",
    "    sleep(randint(1, 5)*.1)  # simulate computation time\n",
    "    # Make some occasional errors\n",
    "    if enable_errors and np.any(inputs[\"x\"] > 0.8):\n",
    "        raise ValueError(\"x > 0.8\")\n",
    "\n",
    "    return {\"f1\": inputs[\"x\"] ** 2 + inputs[\"y\"] ** 2}"
   ]
  },
  {
   "cell_type": "markdown",
   "metadata": {},
   "source": [
    "Define variables, objectives, constraints, and other settings (VOCS)"
   ]
  },
  {
   "cell_type": "code",
   "execution_count": 4,
   "metadata": {
    "ExecuteTime": {
     "end_time": "2023-09-08T21:35:32.368050300Z",
     "start_time": "2023-09-08T21:35:32.328590900Z"
    },
    "collapsed": false,
    "execution": {
     "iopub.execute_input": "2024-02-01T04:00:49.519458Z",
     "iopub.status.busy": "2024-02-01T04:00:49.519293Z",
     "iopub.status.idle": "2024-02-01T04:00:49.525212Z",
     "shell.execute_reply": "2024-02-01T04:00:49.524690Z"
    }
   },
   "outputs": [
    {
     "data": {
      "text/plain": [
       "VOCS(variables={'x': [0.0, 1.0], 'y': [0.0, 1.0]}, constraints={}, objectives={'f1': 'MINIMIZE'}, constants={}, observables=[])"
      ]
     },
     "execution_count": 4,
     "metadata": {},
     "output_type": "execute_result"
    }
   ],
   "source": [
    "vocs = VOCS(variables={\"x\": [0, 1], \"y\": [0, 1]}, objectives={\"f1\": \"MINIMIZE\"})\n",
    "vocs\n",
    "\n"
   ]
  },
  {
   "cell_type": "markdown",
   "metadata": {},
   "source": [
    "This can be used to make some random inputs for evaluating the function. "
   ]
  },
  {
   "cell_type": "code",
   "execution_count": 5,
   "metadata": {
    "ExecuteTime": {
     "end_time": "2023-09-08T21:35:32.676437500Z",
     "start_time": "2023-09-08T21:35:32.340456300Z"
    },
    "execution": {
     "iopub.execute_input": "2024-02-01T04:00:49.554551Z",
     "iopub.status.busy": "2024-02-01T04:00:49.554308Z",
     "iopub.status.idle": "2024-02-01T04:00:49.860433Z",
     "shell.execute_reply": "2024-02-01T04:00:49.859804Z"
    }
   },
   "outputs": [
    {
     "data": {
      "text/plain": [
       "{'f1': array([0.11401572])}"
      ]
     },
     "execution_count": 5,
     "metadata": {},
     "output_type": "execute_result"
    }
   ],
   "source": [
    "in1 = vocs.random_inputs()[0]\n",
    "\n",
    "f(in1, enable_errors=False)"
   ]
  },
  {
   "cell_type": "code",
   "execution_count": 6,
   "metadata": {
    "ExecuteTime": {
     "end_time": "2023-09-08T21:35:33.005111700Z",
     "start_time": "2023-09-08T21:35:32.681546900Z"
    },
    "execution": {
     "iopub.execute_input": "2024-02-01T04:00:49.862821Z",
     "iopub.status.busy": "2024-02-01T04:00:49.862478Z",
     "iopub.status.idle": "2024-02-01T04:00:50.166348Z",
     "shell.execute_reply": "2024-02-01T04:00:50.165793Z"
    }
   },
   "outputs": [
    {
     "name": "stdout",
     "output_type": "stream",
     "text": [
      "Caught error in f: x > 0.8\n"
     ]
    }
   ],
   "source": [
    "# Add in occasional errors. \n",
    "try:\n",
    "    f({\"x\": 1, \"y\": 0})\n",
    "except Exception as ex:\n",
    "    print(f\"Caught error in f: {ex}\")"
   ]
  },
  {
   "cell_type": "code",
   "execution_count": 7,
   "metadata": {
    "ExecuteTime": {
     "end_time": "2023-09-08T21:35:33.049056200Z",
     "start_time": "2023-09-08T21:35:33.006111Z"
    },
    "execution": {
     "iopub.execute_input": "2024-02-01T04:00:50.168471Z",
     "iopub.status.busy": "2024-02-01T04:00:50.168289Z",
     "iopub.status.idle": "2024-02-01T04:00:50.177260Z",
     "shell.execute_reply": "2024-02-01T04:00:50.176719Z"
    }
   },
   "outputs": [],
   "source": [
    "# Create Evaluator\n",
    "ev = Evaluator(function=f)"
   ]
  },
  {
   "cell_type": "code",
   "execution_count": 8,
   "metadata": {
    "ExecuteTime": {
     "end_time": "2023-09-08T21:35:33.252318Z",
     "start_time": "2023-09-08T21:35:33.021667400Z"
    },
    "execution": {
     "iopub.execute_input": "2024-02-01T04:00:50.179505Z",
     "iopub.status.busy": "2024-02-01T04:00:50.179087Z",
     "iopub.status.idle": "2024-02-01T04:00:50.383467Z",
     "shell.execute_reply": "2024-02-01T04:00:50.382895Z"
    }
   },
   "outputs": [
    {
     "data": {
      "text/plain": [
       "{'f1': array([0.11401572]),\n",
       " 'xopt_runtime': 0.20034300200006783,\n",
       " 'xopt_error': False}"
      ]
     },
     "execution_count": 8,
     "metadata": {},
     "output_type": "execute_result"
    }
   ],
   "source": [
    "# Single input evaluation\n",
    "ev.evaluate(in1)"
   ]
  },
  {
   "cell_type": "code",
   "execution_count": 9,
   "metadata": {
    "ExecuteTime": {
     "end_time": "2023-09-08T21:35:35.961577400Z",
     "start_time": "2023-09-08T21:35:33.250319900Z"
    },
    "execution": {
     "iopub.execute_input": "2024-02-01T04:00:50.385721Z",
     "iopub.status.busy": "2024-02-01T04:00:50.385528Z",
     "iopub.status.idle": "2024-02-01T04:00:53.001471Z",
     "shell.execute_reply": "2024-02-01T04:00:53.000846Z"
    }
   },
   "outputs": [
    {
     "data": {
      "text/html": [
       "<div>\n",
       "<style scoped>\n",
       "    .dataframe tbody tr th:only-of-type {\n",
       "        vertical-align: middle;\n",
       "    }\n",
       "\n",
       "    .dataframe tbody tr th {\n",
       "        vertical-align: top;\n",
       "    }\n",
       "\n",
       "    .dataframe thead th {\n",
       "        text-align: right;\n",
       "    }\n",
       "</style>\n",
       "<table border=\"1\" class=\"dataframe\">\n",
       "  <thead>\n",
       "    <tr style=\"text-align: right;\">\n",
       "      <th></th>\n",
       "      <th>x</th>\n",
       "      <th>y</th>\n",
       "      <th>f1</th>\n",
       "      <th>xopt_runtime</th>\n",
       "      <th>xopt_error</th>\n",
       "      <th>xopt_error_str</th>\n",
       "    </tr>\n",
       "  </thead>\n",
       "  <tbody>\n",
       "    <tr>\n",
       "      <th>0</th>\n",
       "      <td>0.000000</td>\n",
       "      <td>0.000000</td>\n",
       "      <td>0.000000</td>\n",
       "      <td>0.300403</td>\n",
       "      <td>False</td>\n",
       "      <td>NaN</td>\n",
       "    </tr>\n",
       "    <tr>\n",
       "      <th>1</th>\n",
       "      <td>0.111111</td>\n",
       "      <td>0.111111</td>\n",
       "      <td>0.024691</td>\n",
       "      <td>0.100197</td>\n",
       "      <td>False</td>\n",
       "      <td>NaN</td>\n",
       "    </tr>\n",
       "    <tr>\n",
       "      <th>2</th>\n",
       "      <td>0.222222</td>\n",
       "      <td>0.222222</td>\n",
       "      <td>0.098765</td>\n",
       "      <td>0.200312</td>\n",
       "      <td>False</td>\n",
       "      <td>NaN</td>\n",
       "    </tr>\n",
       "    <tr>\n",
       "      <th>3</th>\n",
       "      <td>0.333333</td>\n",
       "      <td>0.333333</td>\n",
       "      <td>0.222222</td>\n",
       "      <td>0.400511</td>\n",
       "      <td>False</td>\n",
       "      <td>NaN</td>\n",
       "    </tr>\n",
       "    <tr>\n",
       "      <th>4</th>\n",
       "      <td>0.444444</td>\n",
       "      <td>0.444444</td>\n",
       "      <td>0.395062</td>\n",
       "      <td>0.300405</td>\n",
       "      <td>False</td>\n",
       "      <td>NaN</td>\n",
       "    </tr>\n",
       "    <tr>\n",
       "      <th>5</th>\n",
       "      <td>0.555556</td>\n",
       "      <td>0.555556</td>\n",
       "      <td>0.617284</td>\n",
       "      <td>0.400519</td>\n",
       "      <td>False</td>\n",
       "      <td>NaN</td>\n",
       "    </tr>\n",
       "    <tr>\n",
       "      <th>6</th>\n",
       "      <td>0.666667</td>\n",
       "      <td>0.666667</td>\n",
       "      <td>0.888889</td>\n",
       "      <td>0.100206</td>\n",
       "      <td>False</td>\n",
       "      <td>NaN</td>\n",
       "    </tr>\n",
       "    <tr>\n",
       "      <th>7</th>\n",
       "      <td>0.777778</td>\n",
       "      <td>0.777778</td>\n",
       "      <td>1.209877</td>\n",
       "      <td>0.400498</td>\n",
       "      <td>False</td>\n",
       "      <td>NaN</td>\n",
       "    </tr>\n",
       "    <tr>\n",
       "      <th>8</th>\n",
       "      <td>0.888889</td>\n",
       "      <td>0.888889</td>\n",
       "      <td>NaN</td>\n",
       "      <td>0.100593</td>\n",
       "      <td>True</td>\n",
       "      <td>Traceback (most recent call last):\\n  File \"/u...</td>\n",
       "    </tr>\n",
       "    <tr>\n",
       "      <th>9</th>\n",
       "      <td>1.000000</td>\n",
       "      <td>1.000000</td>\n",
       "      <td>NaN</td>\n",
       "      <td>0.300519</td>\n",
       "      <td>True</td>\n",
       "      <td>Traceback (most recent call last):\\n  File \"/u...</td>\n",
       "    </tr>\n",
       "  </tbody>\n",
       "</table>\n",
       "</div>"
      ],
      "text/plain": [
       "          x         y        f1  xopt_runtime  xopt_error  \\\n",
       "0  0.000000  0.000000  0.000000      0.300403       False   \n",
       "1  0.111111  0.111111  0.024691      0.100197       False   \n",
       "2  0.222222  0.222222  0.098765      0.200312       False   \n",
       "3  0.333333  0.333333  0.222222      0.400511       False   \n",
       "4  0.444444  0.444444  0.395062      0.300405       False   \n",
       "5  0.555556  0.555556  0.617284      0.400519       False   \n",
       "6  0.666667  0.666667  0.888889      0.100206       False   \n",
       "7  0.777778  0.777778  1.209877      0.400498       False   \n",
       "8  0.888889  0.888889       NaN      0.100593        True   \n",
       "9  1.000000  1.000000       NaN      0.300519        True   \n",
       "\n",
       "                                      xopt_error_str  \n",
       "0                                                NaN  \n",
       "1                                                NaN  \n",
       "2                                                NaN  \n",
       "3                                                NaN  \n",
       "4                                                NaN  \n",
       "5                                                NaN  \n",
       "6                                                NaN  \n",
       "7                                                NaN  \n",
       "8  Traceback (most recent call last):\\n  File \"/u...  \n",
       "9  Traceback (most recent call last):\\n  File \"/u...  "
      ]
     },
     "execution_count": 9,
     "metadata": {},
     "output_type": "execute_result"
    }
   ],
   "source": [
    "# Dataframe evaluation\n",
    "in10 = pd.DataFrame({\n",
    "    \"x\":np.linspace(0,1,10),\n",
    "    \"y\":np.linspace(0,1,10)\n",
    "})\n",
    "ev.evaluate_data(in10)\n"
   ]
  },
  {
   "cell_type": "code",
   "execution_count": 10,
   "metadata": {
    "ExecuteTime": {
     "end_time": "2023-09-08T21:35:36.188682500Z",
     "start_time": "2023-09-08T21:35:35.964575800Z"
    },
    "execution": {
     "iopub.execute_input": "2024-02-01T04:00:53.003710Z",
     "iopub.status.busy": "2024-02-01T04:00:53.003522Z",
     "iopub.status.idle": "2024-02-01T04:00:53.211452Z",
     "shell.execute_reply": "2024-02-01T04:00:53.210882Z"
    }
   },
   "outputs": [
    {
     "data": {
      "text/html": [
       "<div>\n",
       "<style scoped>\n",
       "    .dataframe tbody tr th:only-of-type {\n",
       "        vertical-align: middle;\n",
       "    }\n",
       "\n",
       "    .dataframe tbody tr th {\n",
       "        vertical-align: top;\n",
       "    }\n",
       "\n",
       "    .dataframe thead th {\n",
       "        text-align: right;\n",
       "    }\n",
       "</style>\n",
       "<table border=\"1\" class=\"dataframe\">\n",
       "  <thead>\n",
       "    <tr style=\"text-align: right;\">\n",
       "      <th></th>\n",
       "      <th>x</th>\n",
       "      <th>y</th>\n",
       "      <th>xopt_runtime</th>\n",
       "      <th>xopt_error</th>\n",
       "      <th>xopt_error_str</th>\n",
       "    </tr>\n",
       "  </thead>\n",
       "  <tbody>\n",
       "    <tr>\n",
       "      <th>0</th>\n",
       "      <td>0.000000</td>\n",
       "      <td>0.000000</td>\n",
       "      <td>0.200652</td>\n",
       "      <td>True</td>\n",
       "      <td>Traceback (most recent call last):\\n  File \"/u...</td>\n",
       "    </tr>\n",
       "    <tr>\n",
       "      <th>1</th>\n",
       "      <td>0.111111</td>\n",
       "      <td>0.111111</td>\n",
       "      <td>0.200652</td>\n",
       "      <td>True</td>\n",
       "      <td>Traceback (most recent call last):\\n  File \"/u...</td>\n",
       "    </tr>\n",
       "    <tr>\n",
       "      <th>2</th>\n",
       "      <td>0.222222</td>\n",
       "      <td>0.222222</td>\n",
       "      <td>0.200652</td>\n",
       "      <td>True</td>\n",
       "      <td>Traceback (most recent call last):\\n  File \"/u...</td>\n",
       "    </tr>\n",
       "    <tr>\n",
       "      <th>3</th>\n",
       "      <td>0.333333</td>\n",
       "      <td>0.333333</td>\n",
       "      <td>0.200652</td>\n",
       "      <td>True</td>\n",
       "      <td>Traceback (most recent call last):\\n  File \"/u...</td>\n",
       "    </tr>\n",
       "    <tr>\n",
       "      <th>4</th>\n",
       "      <td>0.444444</td>\n",
       "      <td>0.444444</td>\n",
       "      <td>0.200652</td>\n",
       "      <td>True</td>\n",
       "      <td>Traceback (most recent call last):\\n  File \"/u...</td>\n",
       "    </tr>\n",
       "    <tr>\n",
       "      <th>5</th>\n",
       "      <td>0.555556</td>\n",
       "      <td>0.555556</td>\n",
       "      <td>0.200652</td>\n",
       "      <td>True</td>\n",
       "      <td>Traceback (most recent call last):\\n  File \"/u...</td>\n",
       "    </tr>\n",
       "    <tr>\n",
       "      <th>6</th>\n",
       "      <td>0.666667</td>\n",
       "      <td>0.666667</td>\n",
       "      <td>0.200652</td>\n",
       "      <td>True</td>\n",
       "      <td>Traceback (most recent call last):\\n  File \"/u...</td>\n",
       "    </tr>\n",
       "    <tr>\n",
       "      <th>7</th>\n",
       "      <td>0.777778</td>\n",
       "      <td>0.777778</td>\n",
       "      <td>0.200652</td>\n",
       "      <td>True</td>\n",
       "      <td>Traceback (most recent call last):\\n  File \"/u...</td>\n",
       "    </tr>\n",
       "    <tr>\n",
       "      <th>8</th>\n",
       "      <td>0.888889</td>\n",
       "      <td>0.888889</td>\n",
       "      <td>0.200652</td>\n",
       "      <td>True</td>\n",
       "      <td>Traceback (most recent call last):\\n  File \"/u...</td>\n",
       "    </tr>\n",
       "    <tr>\n",
       "      <th>9</th>\n",
       "      <td>1.000000</td>\n",
       "      <td>1.000000</td>\n",
       "      <td>0.200652</td>\n",
       "      <td>True</td>\n",
       "      <td>Traceback (most recent call last):\\n  File \"/u...</td>\n",
       "    </tr>\n",
       "  </tbody>\n",
       "</table>\n",
       "</div>"
      ],
      "text/plain": [
       "          x         y  xopt_runtime  xopt_error  \\\n",
       "0  0.000000  0.000000      0.200652        True   \n",
       "1  0.111111  0.111111      0.200652        True   \n",
       "2  0.222222  0.222222      0.200652        True   \n",
       "3  0.333333  0.333333      0.200652        True   \n",
       "4  0.444444  0.444444      0.200652        True   \n",
       "5  0.555556  0.555556      0.200652        True   \n",
       "6  0.666667  0.666667      0.200652        True   \n",
       "7  0.777778  0.777778      0.200652        True   \n",
       "8  0.888889  0.888889      0.200652        True   \n",
       "9  1.000000  1.000000      0.200652        True   \n",
       "\n",
       "                                      xopt_error_str  \n",
       "0  Traceback (most recent call last):\\n  File \"/u...  \n",
       "1  Traceback (most recent call last):\\n  File \"/u...  \n",
       "2  Traceback (most recent call last):\\n  File \"/u...  \n",
       "3  Traceback (most recent call last):\\n  File \"/u...  \n",
       "4  Traceback (most recent call last):\\n  File \"/u...  \n",
       "5  Traceback (most recent call last):\\n  File \"/u...  \n",
       "6  Traceback (most recent call last):\\n  File \"/u...  \n",
       "7  Traceback (most recent call last):\\n  File \"/u...  \n",
       "8  Traceback (most recent call last):\\n  File \"/u...  \n",
       "9  Traceback (most recent call last):\\n  File \"/u...  "
      ]
     },
     "execution_count": 10,
     "metadata": {},
     "output_type": "execute_result"
    }
   ],
   "source": [
    "# Dataframe evaluation, vectorized\n",
    "ev.vectorized = True\n",
    "ev.evaluate_data(in10)\n"
   ]
  },
  {
   "cell_type": "markdown",
   "metadata": {},
   "source": [
    "# Executors"
   ]
  },
  {
   "cell_type": "code",
   "execution_count": 11,
   "metadata": {
    "ExecuteTime": {
     "end_time": "2023-09-08T21:35:36.210825800Z",
     "start_time": "2023-09-08T21:35:36.189682300Z"
    },
    "execution": {
     "iopub.execute_input": "2024-02-01T04:00:53.213866Z",
     "iopub.status.busy": "2024-02-01T04:00:53.213529Z",
     "iopub.status.idle": "2024-02-01T04:00:53.216219Z",
     "shell.execute_reply": "2024-02-01T04:00:53.215734Z"
    }
   },
   "outputs": [],
   "source": [
    "from concurrent.futures import ProcessPoolExecutor\n",
    "MAX_WORKERS = 10"
   ]
  },
  {
   "cell_type": "code",
   "execution_count": 12,
   "metadata": {
    "ExecuteTime": {
     "end_time": "2023-09-08T21:35:36.277827Z",
     "start_time": "2023-09-08T21:35:36.205828Z"
    },
    "execution": {
     "iopub.execute_input": "2024-02-01T04:00:53.218315Z",
     "iopub.status.busy": "2024-02-01T04:00:53.217977Z",
     "iopub.status.idle": "2024-02-01T04:00:53.222694Z",
     "shell.execute_reply": "2024-02-01T04:00:53.222263Z"
    }
   },
   "outputs": [
    {
     "data": {
      "text/plain": [
       "<concurrent.futures.process.ProcessPoolExecutor at 0x7f8d6edf3b20>"
      ]
     },
     "execution_count": 12,
     "metadata": {},
     "output_type": "execute_result"
    }
   ],
   "source": [
    "# Create Executor instance\n",
    "executor = ProcessPoolExecutor(max_workers=MAX_WORKERS)\n",
    "executor"
   ]
  },
  {
   "cell_type": "code",
   "execution_count": 13,
   "metadata": {
    "ExecuteTime": {
     "end_time": "2023-09-08T21:35:36.336827600Z",
     "start_time": "2023-09-08T21:35:36.219826200Z"
    },
    "execution": {
     "iopub.execute_input": "2024-02-01T04:00:53.224637Z",
     "iopub.status.busy": "2024-02-01T04:00:53.224461Z",
     "iopub.status.idle": "2024-02-01T04:00:53.226896Z",
     "shell.execute_reply": "2024-02-01T04:00:53.226438Z"
    }
   },
   "outputs": [],
   "source": [
    "# Dask (Optional)\n",
    "# from dask.distributed import Client\n",
    "# import logging\n",
    "# client = Client( silence_logs=logging.ERROR)\n",
    "# executor = client.get_executor()\n",
    "# client"
   ]
  },
  {
   "cell_type": "code",
   "execution_count": 14,
   "metadata": {
    "ExecuteTime": {
     "end_time": "2023-09-08T21:35:36.340830Z",
     "start_time": "2023-09-08T21:35:36.246825700Z"
    },
    "execution": {
     "iopub.execute_input": "2024-02-01T04:00:53.228848Z",
     "iopub.status.busy": "2024-02-01T04:00:53.228673Z",
     "iopub.status.idle": "2024-02-01T04:00:53.238435Z",
     "shell.execute_reply": "2024-02-01T04:00:53.237981Z"
    }
   },
   "outputs": [],
   "source": [
    "# This calls `executor.map`\n",
    "ev = Evaluator(function=f, executor=executor, max_workers=MAX_WORKERS)"
   ]
  },
  {
   "cell_type": "code",
   "execution_count": 15,
   "metadata": {
    "ExecuteTime": {
     "end_time": "2023-09-08T21:35:42.832826300Z",
     "start_time": "2023-09-08T21:35:36.250828900Z"
    },
    "execution": {
     "iopub.execute_input": "2024-02-01T04:00:53.240382Z",
     "iopub.status.busy": "2024-02-01T04:00:53.240205Z",
     "iopub.status.idle": "2024-02-01T04:00:53.731783Z",
     "shell.execute_reply": "2024-02-01T04:00:53.730872Z"
    }
   },
   "outputs": [
    {
     "data": {
      "text/html": [
       "<div>\n",
       "<style scoped>\n",
       "    .dataframe tbody tr th:only-of-type {\n",
       "        vertical-align: middle;\n",
       "    }\n",
       "\n",
       "    .dataframe tbody tr th {\n",
       "        vertical-align: top;\n",
       "    }\n",
       "\n",
       "    .dataframe thead th {\n",
       "        text-align: right;\n",
       "    }\n",
       "</style>\n",
       "<table border=\"1\" class=\"dataframe\">\n",
       "  <thead>\n",
       "    <tr style=\"text-align: right;\">\n",
       "      <th></th>\n",
       "      <th>x</th>\n",
       "      <th>y</th>\n",
       "      <th>f1</th>\n",
       "      <th>xopt_runtime</th>\n",
       "      <th>xopt_error</th>\n",
       "      <th>xopt_error_str</th>\n",
       "    </tr>\n",
       "  </thead>\n",
       "  <tbody>\n",
       "    <tr>\n",
       "      <th>0</th>\n",
       "      <td>0.000000</td>\n",
       "      <td>0.000000</td>\n",
       "      <td>0.000000</td>\n",
       "      <td>0.400906</td>\n",
       "      <td>False</td>\n",
       "      <td>NaN</td>\n",
       "    </tr>\n",
       "    <tr>\n",
       "      <th>1</th>\n",
       "      <td>0.111111</td>\n",
       "      <td>0.111111</td>\n",
       "      <td>0.024691</td>\n",
       "      <td>0.400825</td>\n",
       "      <td>False</td>\n",
       "      <td>NaN</td>\n",
       "    </tr>\n",
       "    <tr>\n",
       "      <th>2</th>\n",
       "      <td>0.222222</td>\n",
       "      <td>0.222222</td>\n",
       "      <td>0.098765</td>\n",
       "      <td>0.400840</td>\n",
       "      <td>False</td>\n",
       "      <td>NaN</td>\n",
       "    </tr>\n",
       "    <tr>\n",
       "      <th>3</th>\n",
       "      <td>0.333333</td>\n",
       "      <td>0.333333</td>\n",
       "      <td>0.222222</td>\n",
       "      <td>0.400837</td>\n",
       "      <td>False</td>\n",
       "      <td>NaN</td>\n",
       "    </tr>\n",
       "    <tr>\n",
       "      <th>4</th>\n",
       "      <td>0.444444</td>\n",
       "      <td>0.444444</td>\n",
       "      <td>0.395062</td>\n",
       "      <td>0.400749</td>\n",
       "      <td>False</td>\n",
       "      <td>NaN</td>\n",
       "    </tr>\n",
       "    <tr>\n",
       "      <th>5</th>\n",
       "      <td>0.555556</td>\n",
       "      <td>0.555556</td>\n",
       "      <td>0.617284</td>\n",
       "      <td>0.401196</td>\n",
       "      <td>False</td>\n",
       "      <td>NaN</td>\n",
       "    </tr>\n",
       "    <tr>\n",
       "      <th>6</th>\n",
       "      <td>0.666667</td>\n",
       "      <td>0.666667</td>\n",
       "      <td>0.888889</td>\n",
       "      <td>0.400801</td>\n",
       "      <td>False</td>\n",
       "      <td>NaN</td>\n",
       "    </tr>\n",
       "    <tr>\n",
       "      <th>7</th>\n",
       "      <td>0.777778</td>\n",
       "      <td>0.777778</td>\n",
       "      <td>1.209877</td>\n",
       "      <td>0.400762</td>\n",
       "      <td>False</td>\n",
       "      <td>NaN</td>\n",
       "    </tr>\n",
       "    <tr>\n",
       "      <th>8</th>\n",
       "      <td>0.888889</td>\n",
       "      <td>0.888889</td>\n",
       "      <td>NaN</td>\n",
       "      <td>0.400789</td>\n",
       "      <td>True</td>\n",
       "      <td>Traceback (most recent call last):\\n  File \"/u...</td>\n",
       "    </tr>\n",
       "    <tr>\n",
       "      <th>9</th>\n",
       "      <td>1.000000</td>\n",
       "      <td>1.000000</td>\n",
       "      <td>NaN</td>\n",
       "      <td>0.401151</td>\n",
       "      <td>True</td>\n",
       "      <td>Traceback (most recent call last):\\n  File \"/u...</td>\n",
       "    </tr>\n",
       "  </tbody>\n",
       "</table>\n",
       "</div>"
      ],
      "text/plain": [
       "          x         y        f1  xopt_runtime  xopt_error  \\\n",
       "0  0.000000  0.000000  0.000000      0.400906       False   \n",
       "1  0.111111  0.111111  0.024691      0.400825       False   \n",
       "2  0.222222  0.222222  0.098765      0.400840       False   \n",
       "3  0.333333  0.333333  0.222222      0.400837       False   \n",
       "4  0.444444  0.444444  0.395062      0.400749       False   \n",
       "5  0.555556  0.555556  0.617284      0.401196       False   \n",
       "6  0.666667  0.666667  0.888889      0.400801       False   \n",
       "7  0.777778  0.777778  1.209877      0.400762       False   \n",
       "8  0.888889  0.888889       NaN      0.400789        True   \n",
       "9  1.000000  1.000000       NaN      0.401151        True   \n",
       "\n",
       "                                      xopt_error_str  \n",
       "0                                                NaN  \n",
       "1                                                NaN  \n",
       "2                                                NaN  \n",
       "3                                                NaN  \n",
       "4                                                NaN  \n",
       "5                                                NaN  \n",
       "6                                                NaN  \n",
       "7                                                NaN  \n",
       "8  Traceback (most recent call last):\\n  File \"/u...  \n",
       "9  Traceback (most recent call last):\\n  File \"/u...  "
      ]
     },
     "execution_count": 15,
     "metadata": {},
     "output_type": "execute_result"
    }
   ],
   "source": [
    "# This will run in parallel\n",
    "ev.evaluate_data(in10)"
   ]
  },
  {
   "cell_type": "markdown",
   "metadata": {},
   "source": [
    "# Evaluator in the Xopt object"
   ]
  },
  {
   "cell_type": "code",
   "execution_count": 16,
   "metadata": {
    "ExecuteTime": {
     "end_time": "2023-09-08T21:35:49.453947100Z",
     "start_time": "2023-09-08T21:35:48.973424600Z"
    },
    "collapsed": false,
    "execution": {
     "iopub.execute_input": "2024-02-01T04:00:53.734680Z",
     "iopub.status.busy": "2024-02-01T04:00:53.734483Z",
     "iopub.status.idle": "2024-02-01T04:00:54.150644Z",
     "shell.execute_reply": "2024-02-01T04:00:54.150057Z"
    }
   },
   "outputs": [
    {
     "data": {
      "text/html": [
       "<div>\n",
       "<style scoped>\n",
       "    .dataframe tbody tr th:only-of-type {\n",
       "        vertical-align: middle;\n",
       "    }\n",
       "\n",
       "    .dataframe tbody tr th {\n",
       "        vertical-align: top;\n",
       "    }\n",
       "\n",
       "    .dataframe thead th {\n",
       "        text-align: right;\n",
       "    }\n",
       "</style>\n",
       "<table border=\"1\" class=\"dataframe\">\n",
       "  <thead>\n",
       "    <tr style=\"text-align: right;\">\n",
       "      <th></th>\n",
       "      <th>x</th>\n",
       "      <th>y</th>\n",
       "      <th>f1</th>\n",
       "      <th>xopt_runtime</th>\n",
       "      <th>xopt_error</th>\n",
       "      <th>xopt_error_str</th>\n",
       "    </tr>\n",
       "  </thead>\n",
       "  <tbody>\n",
       "    <tr>\n",
       "      <th>0</th>\n",
       "      <td>0.491934</td>\n",
       "      <td>0.299155</td>\n",
       "      <td>0.331493</td>\n",
       "      <td>0.100213</td>\n",
       "      <td>False</td>\n",
       "      <td>NaN</td>\n",
       "    </tr>\n",
       "    <tr>\n",
       "      <th>1</th>\n",
       "      <td>0.799752</td>\n",
       "      <td>0.706772</td>\n",
       "      <td>1.139131</td>\n",
       "      <td>0.100199</td>\n",
       "      <td>False</td>\n",
       "      <td>NaN</td>\n",
       "    </tr>\n",
       "    <tr>\n",
       "      <th>2</th>\n",
       "      <td>0.255846</td>\n",
       "      <td>0.225521</td>\n",
       "      <td>0.116317</td>\n",
       "      <td>0.100192</td>\n",
       "      <td>False</td>\n",
       "      <td>NaN</td>\n",
       "    </tr>\n",
       "    <tr>\n",
       "      <th>3</th>\n",
       "      <td>0.807108</td>\n",
       "      <td>0.994891</td>\n",
       "      <td>NaN</td>\n",
       "      <td>0.100470</td>\n",
       "      <td>True</td>\n",
       "      <td>Traceback (most recent call last):\\n  File \"/u...</td>\n",
       "    </tr>\n",
       "  </tbody>\n",
       "</table>\n",
       "</div>"
      ],
      "text/plain": [
       "          x         y        f1  xopt_runtime  xopt_error  \\\n",
       "0  0.491934  0.299155  0.331493      0.100213       False   \n",
       "1  0.799752  0.706772  1.139131      0.100199       False   \n",
       "2  0.255846  0.225521  0.116317      0.100192       False   \n",
       "3  0.807108  0.994891       NaN      0.100470        True   \n",
       "\n",
       "                                      xopt_error_str  \n",
       "0                                                NaN  \n",
       "1                                                NaN  \n",
       "2                                                NaN  \n",
       "3  Traceback (most recent call last):\\n  File \"/u...  "
      ]
     },
     "execution_count": 16,
     "metadata": {},
     "output_type": "execute_result"
    }
   ],
   "source": [
    "X = Xopt(generator=RandomGenerator(vocs=vocs), evaluator=Evaluator(function=f),\n",
    "         vocs=vocs)\n",
    "X.strict = False\n",
    "\n",
    "# Evaluate to the evaluator some new inputs\n",
    "X.evaluate_data(X.vocs.random_inputs(4))\n"
   ]
  },
  {
   "cell_type": "markdown",
   "metadata": {
    "collapsed": false
   },
   "source": [
    "## Asynchronous Xopt\n",
    "Instead of waiting for evaluations to be finished, AsynchronousXopt can be used to generate candidates while waiting for other evaluations to finish (requires parallel execution). In this case, calling ```X.step()``` generates and executes a number of candidates that are executed in parallel using python ```concurrent.futures``` formalism. Calling ```X.step()``` again will generate and evaluate new points based on finished futures asynchronously."
   ]
  },
  {
   "cell_type": "code",
   "execution_count": 17,
   "metadata": {
    "ExecuteTime": {
     "end_time": "2023-09-08T21:35:50.776098900Z",
     "start_time": "2023-09-08T21:35:50.753057600Z"
    },
    "collapsed": false,
    "execution": {
     "iopub.execute_input": "2024-02-01T04:00:54.153021Z",
     "iopub.status.busy": "2024-02-01T04:00:54.152667Z",
     "iopub.status.idle": "2024-02-01T04:00:54.159098Z",
     "shell.execute_reply": "2024-02-01T04:00:54.158622Z"
    }
   },
   "outputs": [],
   "source": [
    "# Usage with a parallel executor.\n",
    "from xopt import AsynchronousXopt\n",
    "\n",
    "executor = ProcessPoolExecutor(max_workers=MAX_WORKERS)\n",
    "\n",
    "X2 = AsynchronousXopt(\n",
    "    generator=RandomGenerator(vocs=vocs),\n",
    "    evaluator=Evaluator(function=f, executor=executor, max_workers=MAX_WORKERS),\n",
    "    vocs=vocs,\n",
    ")\n",
    "X2.strict = False"
   ]
  },
  {
   "cell_type": "code",
   "execution_count": 18,
   "metadata": {
    "ExecuteTime": {
     "end_time": "2023-09-08T21:35:57.154830200Z",
     "start_time": "2023-09-08T21:35:51.660788Z"
    },
    "execution": {
     "iopub.execute_input": "2024-02-01T04:00:54.161341Z",
     "iopub.status.busy": "2024-02-01T04:00:54.160996Z",
     "iopub.status.idle": "2024-02-01T04:00:54.452751Z",
     "shell.execute_reply": "2024-02-01T04:00:54.451578Z"
    }
   },
   "outputs": [],
   "source": [
    "X2.step()"
   ]
  },
  {
   "cell_type": "code",
   "execution_count": 19,
   "metadata": {
    "collapsed": false,
    "execution": {
     "iopub.execute_input": "2024-02-01T04:00:54.456024Z",
     "iopub.status.busy": "2024-02-01T04:00:54.455548Z",
     "iopub.status.idle": "2024-02-01T04:00:55.631970Z",
     "shell.execute_reply": "2024-02-01T04:00:55.631390Z"
    }
   },
   "outputs": [
    {
     "data": {
      "text/plain": [
       "60"
      ]
     },
     "execution_count": 19,
     "metadata": {},
     "output_type": "execute_result"
    }
   ],
   "source": [
    "for _ in range(20):\n",
    "    X2.step()\n",
    "\n",
    "len(X2.data)"
   ]
  },
  {
   "cell_type": "code",
   "execution_count": 20,
   "metadata": {
    "collapsed": false,
    "execution": {
     "iopub.execute_input": "2024-02-01T04:00:55.634326Z",
     "iopub.status.busy": "2024-02-01T04:00:55.633982Z",
     "iopub.status.idle": "2024-02-01T04:00:56.000082Z",
     "shell.execute_reply": "2024-02-01T04:00:55.999470Z"
    }
   },
   "outputs": [
    {
     "data": {
      "text/plain": [
       "<Axes: xlabel='x', ylabel='y'>"
      ]
     },
     "execution_count": 20,
     "metadata": {},
     "output_type": "execute_result"
    },
    {
     "data": {
      "image/png": "[encoded data removed]",
      "text/plain": [
       "<Figure size 640x480 with 1 Axes>"
      ]
     },
     "metadata": {},
     "output_type": "display_data"
    }
   ],
   "source": [
    "X2.data.plot.scatter(\"x\", \"y\")"
   ]
  },
  {
   "cell_type": "code",
   "execution_count": 21,
   "metadata": {
    "collapsed": false,
    "execution": {
     "iopub.execute_input": "2024-02-01T04:00:56.002556Z",
     "iopub.status.busy": "2024-02-01T04:00:56.002296Z",
     "iopub.status.idle": "2024-02-01T04:00:57.227163Z",
     "shell.execute_reply": "2024-02-01T04:00:57.226547Z"
    },
    "tags": []
   },
   "outputs": [
    {
     "data": {
      "text/plain": [
       "30"
      ]
     },
     "execution_count": 21,
     "metadata": {},
     "output_type": "execute_result"
    }
   ],
   "source": [
    "# Asynchronous, Vectorized\n",
    "X2 = AsynchronousXopt(\n",
    "    generator=RandomGenerator(vocs=vocs),\n",
    "    evaluator=Evaluator(function=f, executor=executor, max_workers=MAX_WORKERS),\n",
    "    vocs=vocs,\n",
    ")\n",
    "X2.evaluator.vectorized = True\n",
    "X2.strict = False\n",
    "\n",
    "# This takes fewer steps to achieve a similar number of evaluations\n",
    "for _ in range(3):\n",
    "    X2.step()\n",
    "\n",
    "len(X2.data)"
   ]
  },
  {
   "cell_type": "code",
   "execution_count": null,
   "metadata": {
    "collapsed": false
   },
   "outputs": [],
   "source": []
  }
 ],
 "metadata": {
  "kernelspec": {
   "display_name": "Python 3 (ipykernel)",
   "language": "python",
   "name": "python3"
  },
  "language_info": {
   "codemirror_mode": {
    "name": "ipython",
    "version": 3
   },
   "file_extension": ".py",
   "mimetype": "text/x-python",
   "name": "python",
   "nbconvert_exporter": "python",
   "pygments_lexer": "ipython3",
   "version": "3.9.18"
  },
  "vscode": {
   "interpreter": {
    "hash": "4483d4964800812ebc77892a92dde3b54705ec8a224d63d9bb659e2cc457018b"
   }
  }
 },
 "nbformat": 4,
 "nbformat_minor": 4
}
