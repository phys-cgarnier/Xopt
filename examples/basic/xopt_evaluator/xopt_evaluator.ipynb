{
 "cells": [
  {
   "cell_type": "markdown",
   "metadata": {},
   "source": [
    "# Xopt Evaluator Basic Usage \n",
    "\n",
    "The `Evaluator` handles the execution of the user-provided `function` with optional `function_kwags`, asyncrhonously and parallel, with exception handling. "
   ]
  },
  {
   "cell_type": "code",
   "execution_count": 1,
   "metadata": {
    "ExecuteTime": {
     "end_time": "2023-06-30T16:48:33.556577200Z",
     "start_time": "2023-06-30T16:48:33.542576800Z"
    },
    "collapsed": false,
    "execution": {
     "iopub.execute_input": "2023-08-20T01:51:26.004299Z",
     "iopub.status.busy": "2023-08-20T01:51:26.004070Z",
     "iopub.status.idle": "2023-08-20T01:51:26.012607Z",
     "shell.execute_reply": "2023-08-20T01:51:26.011455Z"
    },
    "jupyter": {
     "outputs_hidden": false
    }
   },
   "outputs": [],
   "source": [
    "# needed for macos\n",
    "import platform\n",
    "if platform.system() == \"Darwin\": import multiprocessing;multiprocessing.set_start_method(\"fork\")\n"
   ]
  },
  {
   "cell_type": "code",
   "execution_count": 2,
   "metadata": {
    "ExecuteTime": {
     "end_time": "2023-06-30T16:48:36.916978500Z",
     "start_time": "2023-06-30T16:48:33.556577200Z"
    },
    "collapsed": false,
    "execution": {
     "iopub.execute_input": "2023-08-20T01:51:26.015441Z",
     "iopub.status.busy": "2023-08-20T01:51:26.015234Z",
     "iopub.status.idle": "2023-08-20T01:51:28.160818Z",
     "shell.execute_reply": "2023-08-20T01:51:28.159813Z"
    },
    "jupyter": {
     "outputs_hidden": false
    }
   },
   "outputs": [],
   "source": [
    "from xopt import Xopt, Evaluator, VOCS\n",
    "from xopt.generators.random import RandomGenerator\n",
    "\n",
    "import pandas as pd\n",
    "\n",
    "from time import sleep\n",
    "from numpy.random import randint\n",
    "\n",
    "from typing import Dict\n",
    "\n",
    "import numpy as np\n",
    "np.random.seed(666) # for reproducibility"
   ]
  },
  {
   "cell_type": "markdown",
   "metadata": {},
   "source": [
    "Define a custom function `f(inputs: Dict) -> outputs: Dict`. "
   ]
  },
  {
   "cell_type": "code",
   "execution_count": 3,
   "metadata": {
    "ExecuteTime": {
     "end_time": "2023-06-30T16:48:36.931981200Z",
     "start_time": "2023-06-30T16:48:36.920218300Z"
    },
    "execution": {
     "iopub.execute_input": "2023-08-20T01:51:28.165143Z",
     "iopub.status.busy": "2023-08-20T01:51:28.164463Z",
     "iopub.status.idle": "2023-08-20T01:51:28.170546Z",
     "shell.execute_reply": "2023-08-20T01:51:28.169939Z"
    }
   },
   "outputs": [],
   "source": [
    "def f(inputs: Dict, enable_errors=True) -> Dict:\n",
    "\n",
    "    sleep(randint(1, 5)*.1)  # simulate computation time\n",
    "    # Make some occasional errors\n",
    "    if enable_errors and np.any(inputs[\"x\"] > 0.8):\n",
    "        raise ValueError(\"x > 0.8\")\n",
    "\n",
    "    return {\"f1\": inputs[\"x\"] ** 2 + inputs[\"y\"] ** 2}"
   ]
  },
  {
   "cell_type": "markdown",
   "metadata": {},
   "source": [
    "Define variables, objectives, constraints, and other settings (VOCS)"
   ]
  },
  {
   "cell_type": "code",
   "execution_count": 4,
   "metadata": {
    "ExecuteTime": {
     "end_time": "2023-06-30T16:48:36.975009100Z",
     "start_time": "2023-06-30T16:48:36.936982500Z"
    },
    "collapsed": false,
    "execution": {
     "iopub.execute_input": "2023-08-20T01:51:28.173603Z",
     "iopub.status.busy": "2023-08-20T01:51:28.173093Z",
     "iopub.status.idle": "2023-08-20T01:51:28.180214Z",
     "shell.execute_reply": "2023-08-20T01:51:28.179580Z"
    },
    "jupyter": {
     "outputs_hidden": false
    }
   },
   "outputs": [
    {
     "data": {
      "text/plain": [
       "VOCS(variables={'x': [0.0, 1.0], 'y': [0.0, 1.0]}, constraints={}, objectives={'f1': 'MINIMIZE'}, constants={}, observables=[])"
      ]
     },
     "execution_count": 4,
     "metadata": {},
     "output_type": "execute_result"
    }
   ],
   "source": [
    "vocs = VOCS(variables={\"x\": [0, 1], \"y\": [0, 1]}, objectives={\"f1\": \"MINIMIZE\"})\n",
    "vocs\n",
    "\n"
   ]
  },
  {
   "cell_type": "markdown",
   "metadata": {},
   "source": [
    "This can be used to make some random inputs for evaluating the function. "
   ]
  },
  {
   "cell_type": "code",
   "execution_count": 5,
   "metadata": {
    "execution": {
     "iopub.execute_input": "2023-08-20T01:51:28.221666Z",
     "iopub.status.busy": "2023-08-20T01:51:28.220956Z",
     "iopub.status.idle": "2023-08-20T01:51:28.526986Z",
     "shell.execute_reply": "2023-08-20T01:51:28.526178Z"
    }
   },
   "outputs": [
    {
     "data": {
      "text/plain": [
       "{'f1': 0.11401572022703582}"
      ]
     },
     "execution_count": 5,
     "metadata": {},
     "output_type": "execute_result"
    }
   ],
   "source": [
    "in1 = vocs.random_inputs()\n",
    "\n",
    "f(in1, enable_errors=False)"
   ]
  },
  {
   "cell_type": "code",
   "execution_count": 6,
   "metadata": {
    "execution": {
     "iopub.execute_input": "2023-08-20T01:51:28.530504Z",
     "iopub.status.busy": "2023-08-20T01:51:28.530054Z",
     "iopub.status.idle": "2023-08-20T01:51:28.835358Z",
     "shell.execute_reply": "2023-08-20T01:51:28.834519Z"
    }
   },
   "outputs": [
    {
     "name": "stdout",
     "output_type": "stream",
     "text": [
      "Caught error in f: x > 0.8\n"
     ]
    }
   ],
   "source": [
    "# Add in occasional errors. \n",
    "try:\n",
    "    f({\"x\": 1, \"y\": 0})\n",
    "except Exception as ex:\n",
    "    print(f\"Caught error in f: {ex}\")"
   ]
  },
  {
   "cell_type": "code",
   "execution_count": 7,
   "metadata": {
    "execution": {
     "iopub.execute_input": "2023-08-20T01:51:28.839448Z",
     "iopub.status.busy": "2023-08-20T01:51:28.838804Z",
     "iopub.status.idle": "2023-08-20T01:51:28.850829Z",
     "shell.execute_reply": "2023-08-20T01:51:28.850216Z"
    }
   },
   "outputs": [],
   "source": [
    "# Create Evaluator\n",
    "ev = Evaluator(function=f)"
   ]
  },
  {
   "cell_type": "code",
   "execution_count": 8,
   "metadata": {
    "execution": {
     "iopub.execute_input": "2023-08-20T01:51:28.853732Z",
     "iopub.status.busy": "2023-08-20T01:51:28.853304Z",
     "iopub.status.idle": "2023-08-20T01:51:29.058830Z",
     "shell.execute_reply": "2023-08-20T01:51:29.057995Z"
    }
   },
   "outputs": [
    {
     "data": {
      "text/plain": [
       "{'f1': 0.11401572022703582,\n",
       " 'xopt_runtime': 0.20049182600001814,\n",
       " 'xopt_error': False}"
      ]
     },
     "execution_count": 8,
     "metadata": {},
     "output_type": "execute_result"
    }
   ],
   "source": [
    "# Single input evaluation\n",
    "ev.evaluate(in1)"
   ]
  },
  {
   "cell_type": "code",
   "execution_count": 9,
   "metadata": {
    "execution": {
     "iopub.execute_input": "2023-08-20T01:51:29.062844Z",
     "iopub.status.busy": "2023-08-20T01:51:29.062182Z",
     "iopub.status.idle": "2023-08-20T01:51:31.684279Z",
     "shell.execute_reply": "2023-08-20T01:51:31.683566Z"
    }
   },
   "outputs": [
    {
     "data": {
      "text/html": [
       "<div>\n",
       "<style scoped>\n",
       "    .dataframe tbody tr th:only-of-type {\n",
       "        vertical-align: middle;\n",
       "    }\n",
       "\n",
       "    .dataframe tbody tr th {\n",
       "        vertical-align: top;\n",
       "    }\n",
       "\n",
       "    .dataframe thead th {\n",
       "        text-align: right;\n",
       "    }\n",
       "</style>\n",
       "<table border=\"1\" class=\"dataframe\">\n",
       "  <thead>\n",
       "    <tr style=\"text-align: right;\">\n",
       "      <th></th>\n",
       "      <th>f1</th>\n",
       "      <th>xopt_runtime</th>\n",
       "      <th>xopt_error</th>\n",
       "      <th>xopt_error_str</th>\n",
       "    </tr>\n",
       "  </thead>\n",
       "  <tbody>\n",
       "    <tr>\n",
       "      <th>0</th>\n",
       "      <td>0.000000</td>\n",
       "      <td>0.300571</td>\n",
       "      <td>False</td>\n",
       "      <td>NaN</td>\n",
       "    </tr>\n",
       "    <tr>\n",
       "      <th>1</th>\n",
       "      <td>0.024691</td>\n",
       "      <td>0.100351</td>\n",
       "      <td>False</td>\n",
       "      <td>NaN</td>\n",
       "    </tr>\n",
       "    <tr>\n",
       "      <th>2</th>\n",
       "      <td>0.098765</td>\n",
       "      <td>0.200537</td>\n",
       "      <td>False</td>\n",
       "      <td>NaN</td>\n",
       "    </tr>\n",
       "    <tr>\n",
       "      <th>3</th>\n",
       "      <td>0.222222</td>\n",
       "      <td>0.400671</td>\n",
       "      <td>False</td>\n",
       "      <td>NaN</td>\n",
       "    </tr>\n",
       "    <tr>\n",
       "      <th>4</th>\n",
       "      <td>0.395062</td>\n",
       "      <td>0.300563</td>\n",
       "      <td>False</td>\n",
       "      <td>NaN</td>\n",
       "    </tr>\n",
       "    <tr>\n",
       "      <th>5</th>\n",
       "      <td>0.617284</td>\n",
       "      <td>0.400680</td>\n",
       "      <td>False</td>\n",
       "      <td>NaN</td>\n",
       "    </tr>\n",
       "    <tr>\n",
       "      <th>6</th>\n",
       "      <td>0.888889</td>\n",
       "      <td>0.100350</td>\n",
       "      <td>False</td>\n",
       "      <td>NaN</td>\n",
       "    </tr>\n",
       "    <tr>\n",
       "      <th>7</th>\n",
       "      <td>1.209877</td>\n",
       "      <td>0.400642</td>\n",
       "      <td>False</td>\n",
       "      <td>NaN</td>\n",
       "    </tr>\n",
       "    <tr>\n",
       "      <th>8</th>\n",
       "      <td>NaN</td>\n",
       "      <td>0.100789</td>\n",
       "      <td>True</td>\n",
       "      <td>Traceback (most recent call last):\\n  File \"/u...</td>\n",
       "    </tr>\n",
       "    <tr>\n",
       "      <th>9</th>\n",
       "      <td>NaN</td>\n",
       "      <td>0.300685</td>\n",
       "      <td>True</td>\n",
       "      <td>Traceback (most recent call last):\\n  File \"/u...</td>\n",
       "    </tr>\n",
       "  </tbody>\n",
       "</table>\n",
       "</div>"
      ],
      "text/plain": [
       "         f1  xopt_runtime  xopt_error  \\\n",
       "0  0.000000      0.300571       False   \n",
       "1  0.024691      0.100351       False   \n",
       "2  0.098765      0.200537       False   \n",
       "3  0.222222      0.400671       False   \n",
       "4  0.395062      0.300563       False   \n",
       "5  0.617284      0.400680       False   \n",
       "6  0.888889      0.100350       False   \n",
       "7  1.209877      0.400642       False   \n",
       "8       NaN      0.100789        True   \n",
       "9       NaN      0.300685        True   \n",
       "\n",
       "                                      xopt_error_str  \n",
       "0                                                NaN  \n",
       "1                                                NaN  \n",
       "2                                                NaN  \n",
       "3                                                NaN  \n",
       "4                                                NaN  \n",
       "5                                                NaN  \n",
       "6                                                NaN  \n",
       "7                                                NaN  \n",
       "8  Traceback (most recent call last):\\n  File \"/u...  \n",
       "9  Traceback (most recent call last):\\n  File \"/u...  "
      ]
     },
     "execution_count": 9,
     "metadata": {},
     "output_type": "execute_result"
    }
   ],
   "source": [
    "# Dataframe evaluation\n",
    "in10 = pd.DataFrame({\n",
    "    \"x\":np.linspace(0,1,10),\n",
    "    \"y\":np.linspace(0,1,10)\n",
    "})\n",
    "ev.evaluate_data(in10)\n"
   ]
  },
  {
   "cell_type": "code",
   "execution_count": 10,
   "metadata": {
    "execution": {
     "iopub.execute_input": "2023-08-20T01:51:31.687682Z",
     "iopub.status.busy": "2023-08-20T01:51:31.687246Z",
     "iopub.status.idle": "2023-08-20T01:51:34.198567Z",
     "shell.execute_reply": "2023-08-20T01:51:34.197282Z"
    }
   },
   "outputs": [
    {
     "name": "stdout",
     "output_type": "stream",
     "text": [
      "{'f1': 0.0, 'xopt_runtime': 0.20044872400001168, 'xopt_error': False}\n",
      "{'f1': 0.024691358024691357, 'xopt_runtime': 0.40065248299998757, 'xopt_error': False}\n",
      "{'f1': 0.09876543209876543, 'xopt_runtime': 0.10034816699999283, 'xopt_error': False}\n",
      "{'f1': 0.2222222222222222, 'xopt_runtime': 0.30053619000000253, 'xopt_error': False}\n",
      "{'f1': 0.3950617283950617, 'xopt_runtime': 0.10034826700001531, 'xopt_error': False}\n",
      "{'f1': 0.617283950617284, 'xopt_runtime': 0.4006593530000373, 'xopt_error': False}\n",
      "{'f1': 0.8888888888888888, 'xopt_runtime': 0.20044122799998831, 'xopt_error': False}\n",
      "{'f1': 1.2098765432098761, 'xopt_runtime': 0.3005563910000433, 'xopt_error': False}\n",
      "{'xopt_runtime': 0.10049026999996613, 'xopt_error': True, 'xopt_error_str': 'Traceback (most recent call last):\\n  File \"/usr/share/miniconda3/envs/xopt-dev/lib/python3.9/site-packages/xopt/utils.py\", line 137, in safe_call\\n    result = func(*args, **kwargs)\\n  File \"/tmp/ipykernel_2943/4275037860.py\", line 6, in f\\n    raise ValueError(\"x > 0.8\")\\nValueError: x > 0.8\\n'}\n",
      "{'xopt_runtime': 0.400806455999998, 'xopt_error': True, 'xopt_error_str': 'Traceback (most recent call last):\\n  File \"/usr/share/miniconda3/envs/xopt-dev/lib/python3.9/site-packages/xopt/utils.py\", line 137, in safe_call\\n    result = func(*args, **kwargs)\\n  File \"/tmp/ipykernel_2943/4275037860.py\", line 6, in f\\n    raise ValueError(\"x > 0.8\")\\nValueError: x > 0.8\\n'}\n"
     ]
    }
   ],
   "source": [
    "# Dataframe submission (returns futures dict)\n",
    "futures = ev.submit_data(in10)\n",
    "for future in futures:\n",
    "    print(future.result())"
   ]
  },
  {
   "cell_type": "code",
   "execution_count": 11,
   "metadata": {
    "execution": {
     "iopub.execute_input": "2023-08-20T01:51:34.202107Z",
     "iopub.status.busy": "2023-08-20T01:51:34.201519Z",
     "iopub.status.idle": "2023-08-20T01:51:34.413707Z",
     "shell.execute_reply": "2023-08-20T01:51:34.413049Z"
    }
   },
   "outputs": [
    {
     "data": {
      "text/html": [
       "<div>\n",
       "<style scoped>\n",
       "    .dataframe tbody tr th:only-of-type {\n",
       "        vertical-align: middle;\n",
       "    }\n",
       "\n",
       "    .dataframe tbody tr th {\n",
       "        vertical-align: top;\n",
       "    }\n",
       "\n",
       "    .dataframe thead th {\n",
       "        text-align: right;\n",
       "    }\n",
       "</style>\n",
       "<table border=\"1\" class=\"dataframe\">\n",
       "  <thead>\n",
       "    <tr style=\"text-align: right;\">\n",
       "      <th></th>\n",
       "      <th>xopt_runtime</th>\n",
       "      <th>xopt_error</th>\n",
       "      <th>xopt_error_str</th>\n",
       "    </tr>\n",
       "  </thead>\n",
       "  <tbody>\n",
       "    <tr>\n",
       "      <th>0</th>\n",
       "      <td>0.20119</td>\n",
       "      <td>True</td>\n",
       "      <td>Traceback (most recent call last):\\n  File \"/u...</td>\n",
       "    </tr>\n",
       "    <tr>\n",
       "      <th>1</th>\n",
       "      <td>0.20119</td>\n",
       "      <td>True</td>\n",
       "      <td>Traceback (most recent call last):\\n  File \"/u...</td>\n",
       "    </tr>\n",
       "    <tr>\n",
       "      <th>2</th>\n",
       "      <td>0.20119</td>\n",
       "      <td>True</td>\n",
       "      <td>Traceback (most recent call last):\\n  File \"/u...</td>\n",
       "    </tr>\n",
       "    <tr>\n",
       "      <th>3</th>\n",
       "      <td>0.20119</td>\n",
       "      <td>True</td>\n",
       "      <td>Traceback (most recent call last):\\n  File \"/u...</td>\n",
       "    </tr>\n",
       "    <tr>\n",
       "      <th>4</th>\n",
       "      <td>0.20119</td>\n",
       "      <td>True</td>\n",
       "      <td>Traceback (most recent call last):\\n  File \"/u...</td>\n",
       "    </tr>\n",
       "    <tr>\n",
       "      <th>5</th>\n",
       "      <td>0.20119</td>\n",
       "      <td>True</td>\n",
       "      <td>Traceback (most recent call last):\\n  File \"/u...</td>\n",
       "    </tr>\n",
       "    <tr>\n",
       "      <th>6</th>\n",
       "      <td>0.20119</td>\n",
       "      <td>True</td>\n",
       "      <td>Traceback (most recent call last):\\n  File \"/u...</td>\n",
       "    </tr>\n",
       "    <tr>\n",
       "      <th>7</th>\n",
       "      <td>0.20119</td>\n",
       "      <td>True</td>\n",
       "      <td>Traceback (most recent call last):\\n  File \"/u...</td>\n",
       "    </tr>\n",
       "    <tr>\n",
       "      <th>8</th>\n",
       "      <td>0.20119</td>\n",
       "      <td>True</td>\n",
       "      <td>Traceback (most recent call last):\\n  File \"/u...</td>\n",
       "    </tr>\n",
       "    <tr>\n",
       "      <th>9</th>\n",
       "      <td>0.20119</td>\n",
       "      <td>True</td>\n",
       "      <td>Traceback (most recent call last):\\n  File \"/u...</td>\n",
       "    </tr>\n",
       "  </tbody>\n",
       "</table>\n",
       "</div>"
      ],
      "text/plain": [
       "   xopt_runtime  xopt_error                                     xopt_error_str\n",
       "0       0.20119        True  Traceback (most recent call last):\\n  File \"/u...\n",
       "1       0.20119        True  Traceback (most recent call last):\\n  File \"/u...\n",
       "2       0.20119        True  Traceback (most recent call last):\\n  File \"/u...\n",
       "3       0.20119        True  Traceback (most recent call last):\\n  File \"/u...\n",
       "4       0.20119        True  Traceback (most recent call last):\\n  File \"/u...\n",
       "5       0.20119        True  Traceback (most recent call last):\\n  File \"/u...\n",
       "6       0.20119        True  Traceback (most recent call last):\\n  File \"/u...\n",
       "7       0.20119        True  Traceback (most recent call last):\\n  File \"/u...\n",
       "8       0.20119        True  Traceback (most recent call last):\\n  File \"/u...\n",
       "9       0.20119        True  Traceback (most recent call last):\\n  File \"/u..."
      ]
     },
     "execution_count": 11,
     "metadata": {},
     "output_type": "execute_result"
    }
   ],
   "source": [
    "# Dataframe evaluation, vectorized\n",
    "ev.vectorized = True\n",
    "ev.evaluate_data(in10)\n"
   ]
  },
  {
   "cell_type": "code",
   "execution_count": 12,
   "metadata": {
    "execution": {
     "iopub.execute_input": "2023-08-20T01:51:34.417084Z",
     "iopub.status.busy": "2023-08-20T01:51:34.416641Z",
     "iopub.status.idle": "2023-08-20T01:51:34.624396Z",
     "shell.execute_reply": "2023-08-20T01:51:34.623766Z"
    }
   },
   "outputs": [
    {
     "data": {
      "text/plain": [
       "1"
      ]
     },
     "execution_count": 12,
     "metadata": {},
     "output_type": "execute_result"
    }
   ],
   "source": [
    "# Vectorized submission. This returns a single future.\n",
    "ev.vectorized = True\n",
    "futures = ev.submit_data(in10)\n",
    "len(futures)"
   ]
  },
  {
   "cell_type": "code",
   "execution_count": 13,
   "metadata": {
    "execution": {
     "iopub.execute_input": "2023-08-20T01:51:34.627912Z",
     "iopub.status.busy": "2023-08-20T01:51:34.627417Z",
     "iopub.status.idle": "2023-08-20T01:51:34.633921Z",
     "shell.execute_reply": "2023-08-20T01:51:34.633383Z"
    }
   },
   "outputs": [
    {
     "data": {
      "text/plain": [
       "{'xopt_runtime': 0.2005801319999705,\n",
       " 'xopt_error': True,\n",
       " 'xopt_error_str': 'Traceback (most recent call last):\\n  File \"/usr/share/miniconda3/envs/xopt-dev/lib/python3.9/site-packages/xopt/utils.py\", line 137, in safe_call\\n    result = func(*args, **kwargs)\\n  File \"/tmp/ipykernel_2943/4275037860.py\", line 6, in f\\n    raise ValueError(\"x > 0.8\")\\nValueError: x > 0.8\\n'}"
      ]
     },
     "execution_count": 13,
     "metadata": {},
     "output_type": "execute_result"
    }
   ],
   "source": [
    "futures[0].result()"
   ]
  },
  {
   "cell_type": "code",
   "execution_count": 14,
   "metadata": {
    "execution": {
     "iopub.execute_input": "2023-08-20T01:51:34.636739Z",
     "iopub.status.busy": "2023-08-20T01:51:34.636318Z",
     "iopub.status.idle": "2023-08-20T01:51:34.646438Z",
     "shell.execute_reply": "2023-08-20T01:51:34.645844Z"
    }
   },
   "outputs": [
    {
     "data": {
      "text/html": [
       "<div>\n",
       "<style scoped>\n",
       "    .dataframe tbody tr th:only-of-type {\n",
       "        vertical-align: middle;\n",
       "    }\n",
       "\n",
       "    .dataframe tbody tr th {\n",
       "        vertical-align: top;\n",
       "    }\n",
       "\n",
       "    .dataframe thead th {\n",
       "        text-align: right;\n",
       "    }\n",
       "</style>\n",
       "<table border=\"1\" class=\"dataframe\">\n",
       "  <thead>\n",
       "    <tr style=\"text-align: right;\">\n",
       "      <th></th>\n",
       "      <th>xopt_runtime</th>\n",
       "      <th>xopt_error</th>\n",
       "      <th>xopt_error_str</th>\n",
       "    </tr>\n",
       "  </thead>\n",
       "  <tbody>\n",
       "    <tr>\n",
       "      <th>0</th>\n",
       "      <td>0.20058</td>\n",
       "      <td>True</td>\n",
       "      <td>Traceback (most recent call last):\\n  File \"/u...</td>\n",
       "    </tr>\n",
       "  </tbody>\n",
       "</table>\n",
       "</div>"
      ],
      "text/plain": [
       "   xopt_runtime  xopt_error                                     xopt_error_str\n",
       "0       0.20058        True  Traceback (most recent call last):\\n  File \"/u..."
      ]
     },
     "execution_count": 14,
     "metadata": {},
     "output_type": "execute_result"
    }
   ],
   "source": [
    "# Collect in a dataframe\n",
    "res = futures[0].result()\n",
    "# If there is an error, all outputs are spoiled.\n",
    "if res['xopt_error']:\n",
    "    res = [res]\n",
    "pd.DataFrame(res)"
   ]
  },
  {
   "cell_type": "markdown",
   "metadata": {},
   "source": [
    "# Executors"
   ]
  },
  {
   "cell_type": "code",
   "execution_count": 15,
   "metadata": {
    "execution": {
     "iopub.execute_input": "2023-08-20T01:51:34.649398Z",
     "iopub.status.busy": "2023-08-20T01:51:34.648976Z",
     "iopub.status.idle": "2023-08-20T01:51:34.653215Z",
     "shell.execute_reply": "2023-08-20T01:51:34.652631Z"
    }
   },
   "outputs": [],
   "source": [
    "from concurrent.futures import ThreadPoolExecutor, ProcessPoolExecutor\n",
    "MAX_WORKERS = 10"
   ]
  },
  {
   "cell_type": "code",
   "execution_count": 16,
   "metadata": {
    "execution": {
     "iopub.execute_input": "2023-08-20T01:51:34.655963Z",
     "iopub.status.busy": "2023-08-20T01:51:34.655625Z",
     "iopub.status.idle": "2023-08-20T01:51:34.660891Z",
     "shell.execute_reply": "2023-08-20T01:51:34.660276Z"
    }
   },
   "outputs": [
    {
     "data": {
      "text/plain": [
       "<concurrent.futures.process.ProcessPoolExecutor at 0x7f0125abea90>"
      ]
     },
     "execution_count": 16,
     "metadata": {},
     "output_type": "execute_result"
    }
   ],
   "source": [
    "# Create Executor insance\n",
    "executor = ProcessPoolExecutor(max_workers=MAX_WORKERS)\n",
    "executor"
   ]
  },
  {
   "cell_type": "code",
   "execution_count": 17,
   "metadata": {
    "execution": {
     "iopub.execute_input": "2023-08-20T01:51:34.663818Z",
     "iopub.status.busy": "2023-08-20T01:51:34.663412Z",
     "iopub.status.idle": "2023-08-20T01:51:34.666206Z",
     "shell.execute_reply": "2023-08-20T01:51:34.665587Z"
    }
   },
   "outputs": [],
   "source": [
    "# Dask (Optional)\n",
    "# from dask.distributed import Client\n",
    "# import logging\n",
    "# client = Client( silence_logs=logging.ERROR)\n",
    "# executor = client.get_executor()\n",
    "# client"
   ]
  },
  {
   "cell_type": "code",
   "execution_count": 18,
   "metadata": {
    "execution": {
     "iopub.execute_input": "2023-08-20T01:51:34.669233Z",
     "iopub.status.busy": "2023-08-20T01:51:34.668830Z",
     "iopub.status.idle": "2023-08-20T01:51:34.678495Z",
     "shell.execute_reply": "2023-08-20T01:51:34.677843Z"
    }
   },
   "outputs": [],
   "source": [
    "# This calls `executor.map`\n",
    "ev = Evaluator(function=f, executor=executor, max_workers=MAX_WORKERS)"
   ]
  },
  {
   "cell_type": "code",
   "execution_count": 19,
   "metadata": {
    "execution": {
     "iopub.execute_input": "2023-08-20T01:51:34.681711Z",
     "iopub.status.busy": "2023-08-20T01:51:34.681202Z",
     "iopub.status.idle": "2023-08-20T01:51:34.978809Z",
     "shell.execute_reply": "2023-08-20T01:51:34.977524Z"
    }
   },
   "outputs": [
    {
     "data": {
      "text/html": [
       "<div>\n",
       "<style scoped>\n",
       "    .dataframe tbody tr th:only-of-type {\n",
       "        vertical-align: middle;\n",
       "    }\n",
       "\n",
       "    .dataframe tbody tr th {\n",
       "        vertical-align: top;\n",
       "    }\n",
       "\n",
       "    .dataframe thead th {\n",
       "        text-align: right;\n",
       "    }\n",
       "</style>\n",
       "<table border=\"1\" class=\"dataframe\">\n",
       "  <thead>\n",
       "    <tr style=\"text-align: right;\">\n",
       "      <th></th>\n",
       "      <th>f1</th>\n",
       "      <th>xopt_runtime</th>\n",
       "      <th>xopt_error</th>\n",
       "      <th>xopt_error_str</th>\n",
       "    </tr>\n",
       "  </thead>\n",
       "  <tbody>\n",
       "    <tr>\n",
       "      <th>0</th>\n",
       "      <td>0.000000</td>\n",
       "      <td>0.200932</td>\n",
       "      <td>False</td>\n",
       "      <td>NaN</td>\n",
       "    </tr>\n",
       "    <tr>\n",
       "      <th>1</th>\n",
       "      <td>0.024691</td>\n",
       "      <td>0.201170</td>\n",
       "      <td>False</td>\n",
       "      <td>NaN</td>\n",
       "    </tr>\n",
       "    <tr>\n",
       "      <th>2</th>\n",
       "      <td>0.098765</td>\n",
       "      <td>0.201328</td>\n",
       "      <td>False</td>\n",
       "      <td>NaN</td>\n",
       "    </tr>\n",
       "    <tr>\n",
       "      <th>3</th>\n",
       "      <td>0.222222</td>\n",
       "      <td>0.201485</td>\n",
       "      <td>False</td>\n",
       "      <td>NaN</td>\n",
       "    </tr>\n",
       "    <tr>\n",
       "      <th>4</th>\n",
       "      <td>0.395062</td>\n",
       "      <td>0.201650</td>\n",
       "      <td>False</td>\n",
       "      <td>NaN</td>\n",
       "    </tr>\n",
       "    <tr>\n",
       "      <th>5</th>\n",
       "      <td>0.617284</td>\n",
       "      <td>0.201807</td>\n",
       "      <td>False</td>\n",
       "      <td>NaN</td>\n",
       "    </tr>\n",
       "    <tr>\n",
       "      <th>6</th>\n",
       "      <td>0.888889</td>\n",
       "      <td>0.201979</td>\n",
       "      <td>False</td>\n",
       "      <td>NaN</td>\n",
       "    </tr>\n",
       "    <tr>\n",
       "      <th>7</th>\n",
       "      <td>1.209877</td>\n",
       "      <td>0.202143</td>\n",
       "      <td>False</td>\n",
       "      <td>NaN</td>\n",
       "    </tr>\n",
       "    <tr>\n",
       "      <th>8</th>\n",
       "      <td>NaN</td>\n",
       "      <td>0.202710</td>\n",
       "      <td>True</td>\n",
       "      <td>Traceback (most recent call last):\\n  File \"/u...</td>\n",
       "    </tr>\n",
       "    <tr>\n",
       "      <th>9</th>\n",
       "      <td>NaN</td>\n",
       "      <td>0.203347</td>\n",
       "      <td>True</td>\n",
       "      <td>Traceback (most recent call last):\\n  File \"/u...</td>\n",
       "    </tr>\n",
       "  </tbody>\n",
       "</table>\n",
       "</div>"
      ],
      "text/plain": [
       "         f1  xopt_runtime  xopt_error  \\\n",
       "0  0.000000      0.200932       False   \n",
       "1  0.024691      0.201170       False   \n",
       "2  0.098765      0.201328       False   \n",
       "3  0.222222      0.201485       False   \n",
       "4  0.395062      0.201650       False   \n",
       "5  0.617284      0.201807       False   \n",
       "6  0.888889      0.201979       False   \n",
       "7  1.209877      0.202143       False   \n",
       "8       NaN      0.202710        True   \n",
       "9       NaN      0.203347        True   \n",
       "\n",
       "                                      xopt_error_str  \n",
       "0                                                NaN  \n",
       "1                                                NaN  \n",
       "2                                                NaN  \n",
       "3                                                NaN  \n",
       "4                                                NaN  \n",
       "5                                                NaN  \n",
       "6                                                NaN  \n",
       "7                                                NaN  \n",
       "8  Traceback (most recent call last):\\n  File \"/u...  \n",
       "9  Traceback (most recent call last):\\n  File \"/u...  "
      ]
     },
     "execution_count": 19,
     "metadata": {},
     "output_type": "execute_result"
    }
   ],
   "source": [
    "# This will run in parallel\n",
    "ev.evaluate_data(in10)"
   ]
  },
  {
   "cell_type": "markdown",
   "metadata": {},
   "source": [
    "# Evaluator in the Xopt object"
   ]
  },
  {
   "cell_type": "code",
   "execution_count": 20,
   "metadata": {
    "ExecuteTime": {
     "end_time": "2023-06-30T16:48:42.104987600Z",
     "start_time": "2023-06-30T16:48:41.038989800Z"
    },
    "collapsed": false,
    "execution": {
     "iopub.execute_input": "2023-08-20T01:51:34.982851Z",
     "iopub.status.busy": "2023-08-20T01:51:34.982324Z",
     "iopub.status.idle": "2023-08-20T01:51:36.205270Z",
     "shell.execute_reply": "2023-08-20T01:51:36.204472Z"
    },
    "jupyter": {
     "outputs_hidden": false
    }
   },
   "outputs": [
    {
     "data": {
      "text/html": [
       "<div>\n",
       "<style scoped>\n",
       "    .dataframe tbody tr th:only-of-type {\n",
       "        vertical-align: middle;\n",
       "    }\n",
       "\n",
       "    .dataframe tbody tr th {\n",
       "        vertical-align: top;\n",
       "    }\n",
       "\n",
       "    .dataframe thead th {\n",
       "        text-align: right;\n",
       "    }\n",
       "</style>\n",
       "<table border=\"1\" class=\"dataframe\">\n",
       "  <thead>\n",
       "    <tr style=\"text-align: right;\">\n",
       "      <th></th>\n",
       "      <th>x</th>\n",
       "      <th>y</th>\n",
       "    </tr>\n",
       "  </thead>\n",
       "  <tbody>\n",
       "    <tr>\n",
       "      <th>1</th>\n",
       "      <td>0.844488</td>\n",
       "      <td>0.232588</td>\n",
       "    </tr>\n",
       "    <tr>\n",
       "      <th>2</th>\n",
       "      <td>0.265390</td>\n",
       "      <td>0.046769</td>\n",
       "    </tr>\n",
       "    <tr>\n",
       "      <th>3</th>\n",
       "      <td>0.268404</td>\n",
       "      <td>0.709026</td>\n",
       "    </tr>\n",
       "    <tr>\n",
       "      <th>4</th>\n",
       "      <td>0.142141</td>\n",
       "      <td>0.152218</td>\n",
       "    </tr>\n",
       "  </tbody>\n",
       "</table>\n",
       "</div>"
      ],
      "text/plain": [
       "          x         y\n",
       "1  0.844488  0.232588\n",
       "2  0.265390  0.046769\n",
       "3  0.268404  0.709026\n",
       "4  0.142141  0.152218"
      ]
     },
     "execution_count": 20,
     "metadata": {},
     "output_type": "execute_result"
    }
   ],
   "source": [
    "X = Xopt(generator=RandomGenerator(vocs=vocs), evaluator=Evaluator(function=f),\n",
    "         vocs=vocs)\n",
    "X.options.strict = False\n",
    "\n",
    "# Submit to the evaluator some new inputs\n",
    "X.submit_data(vocs.random_inputs(4))\n",
    "\n",
    "# Unevaluated inputs are collected in a dataframe\n",
    "X._input_data"
   ]
  },
  {
   "cell_type": "code",
   "execution_count": 21,
   "metadata": {
    "ExecuteTime": {
     "end_time": "2023-06-30T16:48:42.115987800Z",
     "start_time": "2023-06-30T16:48:42.104987600Z"
    },
    "collapsed": false,
    "execution": {
     "iopub.execute_input": "2023-08-20T01:51:36.209153Z",
     "iopub.status.busy": "2023-08-20T01:51:36.208688Z",
     "iopub.status.idle": "2023-08-20T01:51:36.213002Z",
     "shell.execute_reply": "2023-08-20T01:51:36.212408Z"
    },
    "jupyter": {
     "outputs_hidden": false
    }
   },
   "outputs": [
    {
     "data": {
      "text/plain": [
       "{1: <Future at 0x7f0125a39550 state=finished returned dict>,\n",
       " 2: <Future at 0x7f0125a6fb50 state=finished returned dict>,\n",
       " 3: <Future at 0x7f0125a6f460 state=finished returned dict>,\n",
       " 4: <Future at 0x7f0125a0f9a0 state=finished returned dict>}"
      ]
     },
     "execution_count": 21,
     "metadata": {},
     "output_type": "execute_result"
    }
   ],
   "source": [
    "# Internal futures dictionary\n",
    "X._futures"
   ]
  },
  {
   "cell_type": "code",
   "execution_count": 22,
   "metadata": {
    "ExecuteTime": {
     "end_time": "2023-06-30T16:48:42.240986800Z",
     "start_time": "2023-06-30T16:48:42.212989600Z"
    },
    "collapsed": false,
    "execution": {
     "iopub.execute_input": "2023-08-20T01:51:36.215853Z",
     "iopub.status.busy": "2023-08-20T01:51:36.215365Z",
     "iopub.status.idle": "2023-08-20T01:51:36.227586Z",
     "shell.execute_reply": "2023-08-20T01:51:36.226966Z"
    },
    "jupyter": {
     "outputs_hidden": false
    }
   },
   "outputs": [
    {
     "data": {
      "text/html": [
       "<div>\n",
       "<style scoped>\n",
       "    .dataframe tbody tr th:only-of-type {\n",
       "        vertical-align: middle;\n",
       "    }\n",
       "\n",
       "    .dataframe tbody tr th {\n",
       "        vertical-align: top;\n",
       "    }\n",
       "\n",
       "    .dataframe thead th {\n",
       "        text-align: right;\n",
       "    }\n",
       "</style>\n",
       "<table border=\"1\" class=\"dataframe\">\n",
       "  <thead>\n",
       "    <tr style=\"text-align: right;\">\n",
       "      <th></th>\n",
       "      <th>x</th>\n",
       "      <th>y</th>\n",
       "      <th>xopt_runtime</th>\n",
       "      <th>xopt_error</th>\n",
       "      <th>xopt_error_str</th>\n",
       "      <th>f1</th>\n",
       "    </tr>\n",
       "  </thead>\n",
       "  <tbody>\n",
       "    <tr>\n",
       "      <th>1</th>\n",
       "      <td>0.844488</td>\n",
       "      <td>0.232588</td>\n",
       "      <td>0.300810</td>\n",
       "      <td>True</td>\n",
       "      <td>Traceback (most recent call last):\\n  File \"/u...</td>\n",
       "      <td>NaN</td>\n",
       "    </tr>\n",
       "    <tr>\n",
       "      <th>2</th>\n",
       "      <td>0.265390</td>\n",
       "      <td>0.046769</td>\n",
       "      <td>0.200428</td>\n",
       "      <td>False</td>\n",
       "      <td>NaN</td>\n",
       "      <td>0.072619</td>\n",
       "    </tr>\n",
       "    <tr>\n",
       "      <th>3</th>\n",
       "      <td>0.268404</td>\n",
       "      <td>0.709026</td>\n",
       "      <td>0.300558</td>\n",
       "      <td>False</td>\n",
       "      <td>NaN</td>\n",
       "      <td>0.574759</td>\n",
       "    </tr>\n",
       "    <tr>\n",
       "      <th>4</th>\n",
       "      <td>0.142141</td>\n",
       "      <td>0.152218</td>\n",
       "      <td>0.400651</td>\n",
       "      <td>False</td>\n",
       "      <td>NaN</td>\n",
       "      <td>0.043374</td>\n",
       "    </tr>\n",
       "  </tbody>\n",
       "</table>\n",
       "</div>"
      ],
      "text/plain": [
       "          x         y  xopt_runtime  xopt_error  \\\n",
       "1  0.844488  0.232588      0.300810        True   \n",
       "2  0.265390  0.046769      0.200428       False   \n",
       "3  0.268404  0.709026      0.300558       False   \n",
       "4  0.142141  0.152218      0.400651       False   \n",
       "\n",
       "                                      xopt_error_str        f1  \n",
       "1  Traceback (most recent call last):\\n  File \"/u...       NaN  \n",
       "2                                                NaN  0.072619  \n",
       "3                                                NaN  0.574759  \n",
       "4                                                NaN  0.043374  "
      ]
     },
     "execution_count": 22,
     "metadata": {},
     "output_type": "execute_result"
    }
   ],
   "source": [
    "# Collect all finished futures and updata dataframe\n",
    "X.process_futures()\n",
    "X.data"
   ]
  },
  {
   "cell_type": "code",
   "execution_count": 23,
   "metadata": {
    "ExecuteTime": {
     "end_time": "2023-06-30T16:48:42.826989100Z",
     "start_time": "2023-06-30T16:48:42.807986800Z"
    },
    "collapsed": false,
    "execution": {
     "iopub.execute_input": "2023-08-20T01:51:36.230589Z",
     "iopub.status.busy": "2023-08-20T01:51:36.230194Z",
     "iopub.status.idle": "2023-08-20T01:51:36.234000Z",
     "shell.execute_reply": "2023-08-20T01:51:36.233403Z"
    },
    "jupyter": {
     "outputs_hidden": false
    }
   },
   "outputs": [
    {
     "data": {
      "text/plain": [
       "{}"
      ]
     },
     "execution_count": 23,
     "metadata": {},
     "output_type": "execute_result"
    }
   ],
   "source": [
    "# Futures are now cleared out\n",
    "X._futures"
   ]
  },
  {
   "cell_type": "code",
   "execution_count": 24,
   "metadata": {
    "ExecuteTime": {
     "end_time": "2023-06-30T16:48:43.351988300Z",
     "start_time": "2023-06-30T16:48:43.335995200Z"
    },
    "collapsed": false,
    "execution": {
     "iopub.execute_input": "2023-08-20T01:51:36.237463Z",
     "iopub.status.busy": "2023-08-20T01:51:36.237140Z",
     "iopub.status.idle": "2023-08-20T01:51:36.240921Z",
     "shell.execute_reply": "2023-08-20T01:51:36.240326Z"
    },
    "jupyter": {
     "outputs_hidden": false
    }
   },
   "outputs": [
    {
     "data": {
      "text/plain": [
       "4"
      ]
     },
     "execution_count": 24,
     "metadata": {},
     "output_type": "execute_result"
    }
   ],
   "source": [
    "# This is the internal counter\n",
    "X._ix_last"
   ]
  },
  {
   "cell_type": "code",
   "execution_count": 25,
   "metadata": {
    "ExecuteTime": {
     "end_time": "2023-06-30T16:48:44.862022600Z",
     "start_time": "2023-06-30T16:48:44.002022700Z"
    },
    "collapsed": false,
    "execution": {
     "iopub.execute_input": "2023-08-20T01:51:36.244848Z",
     "iopub.status.busy": "2023-08-20T01:51:36.244642Z",
     "iopub.status.idle": "2023-08-20T01:51:37.662545Z",
     "shell.execute_reply": "2023-08-20T01:51:37.661761Z"
    },
    "jupyter": {
     "outputs_hidden": false
    }
   },
   "outputs": [
    {
     "data": {
      "text/html": [
       "<div>\n",
       "<style scoped>\n",
       "    .dataframe tbody tr th:only-of-type {\n",
       "        vertical-align: middle;\n",
       "    }\n",
       "\n",
       "    .dataframe tbody tr th {\n",
       "        vertical-align: top;\n",
       "    }\n",
       "\n",
       "    .dataframe thead th {\n",
       "        text-align: right;\n",
       "    }\n",
       "</style>\n",
       "<table border=\"1\" class=\"dataframe\">\n",
       "  <thead>\n",
       "    <tr style=\"text-align: right;\">\n",
       "      <th></th>\n",
       "      <th>x</th>\n",
       "      <th>y</th>\n",
       "      <th>f1</th>\n",
       "      <th>xopt_runtime</th>\n",
       "      <th>xopt_error</th>\n",
       "      <th>xopt_error_str</th>\n",
       "    </tr>\n",
       "  </thead>\n",
       "  <tbody>\n",
       "    <tr>\n",
       "      <th>5</th>\n",
       "      <td>0.705105</td>\n",
       "      <td>0.723537</td>\n",
       "      <td>1.020680</td>\n",
       "      <td>0.300620</td>\n",
       "      <td>False</td>\n",
       "      <td>NaN</td>\n",
       "    </tr>\n",
       "    <tr>\n",
       "      <th>6</th>\n",
       "      <td>0.475619</td>\n",
       "      <td>0.532415</td>\n",
       "      <td>0.509679</td>\n",
       "      <td>0.300680</td>\n",
       "      <td>False</td>\n",
       "      <td>NaN</td>\n",
       "    </tr>\n",
       "    <tr>\n",
       "      <th>7</th>\n",
       "      <td>0.057461</td>\n",
       "      <td>0.684185</td>\n",
       "      <td>0.471410</td>\n",
       "      <td>0.400642</td>\n",
       "      <td>False</td>\n",
       "      <td>NaN</td>\n",
       "    </tr>\n",
       "    <tr>\n",
       "      <th>8</th>\n",
       "      <td>0.925261</td>\n",
       "      <td>0.609837</td>\n",
       "      <td>NaN</td>\n",
       "      <td>0.400774</td>\n",
       "      <td>True</td>\n",
       "      <td>Traceback (most recent call last):\\n  File \"/u...</td>\n",
       "    </tr>\n",
       "  </tbody>\n",
       "</table>\n",
       "</div>"
      ],
      "text/plain": [
       "          x         y        f1  xopt_runtime  xopt_error  \\\n",
       "5  0.705105  0.723537  1.020680      0.300620       False   \n",
       "6  0.475619  0.532415  0.509679      0.300680       False   \n",
       "7  0.057461  0.684185  0.471410      0.400642       False   \n",
       "8  0.925261  0.609837       NaN      0.400774        True   \n",
       "\n",
       "                                      xopt_error_str  \n",
       "5                                                NaN  \n",
       "6                                                NaN  \n",
       "7                                                NaN  \n",
       "8  Traceback (most recent call last):\\n  File \"/u...  "
      ]
     },
     "execution_count": 25,
     "metadata": {},
     "output_type": "execute_result"
    }
   ],
   "source": [
    "# This causes immediate evaluation\n",
    "X.evaluate_data(vocs.random_inputs(4))"
   ]
  },
  {
   "cell_type": "code",
   "execution_count": 26,
   "metadata": {
    "ExecuteTime": {
     "end_time": "2023-06-30T16:48:52.372248300Z",
     "start_time": "2023-06-30T16:48:52.236252200Z"
    },
    "collapsed": false,
    "execution": {
     "iopub.execute_input": "2023-08-20T01:51:37.666050Z",
     "iopub.status.busy": "2023-08-20T01:51:37.665627Z",
     "iopub.status.idle": "2023-08-20T01:51:37.882083Z",
     "shell.execute_reply": "2023-08-20T01:51:37.881018Z"
    },
    "jupyter": {
     "outputs_hidden": false
    }
   },
   "outputs": [
    {
     "data": {
      "text/html": [
       "<div>\n",
       "<style scoped>\n",
       "    .dataframe tbody tr th:only-of-type {\n",
       "        vertical-align: middle;\n",
       "    }\n",
       "\n",
       "    .dataframe tbody tr th {\n",
       "        vertical-align: top;\n",
       "    }\n",
       "\n",
       "    .dataframe thead th {\n",
       "        text-align: right;\n",
       "    }\n",
       "</style>\n",
       "<table border=\"1\" class=\"dataframe\">\n",
       "  <thead>\n",
       "    <tr style=\"text-align: right;\">\n",
       "      <th></th>\n",
       "      <th>x</th>\n",
       "      <th>y</th>\n",
       "      <th>xopt_runtime</th>\n",
       "      <th>xopt_error</th>\n",
       "      <th>xopt_error_str</th>\n",
       "      <th>f1</th>\n",
       "    </tr>\n",
       "  </thead>\n",
       "  <tbody>\n",
       "    <tr>\n",
       "      <th>1</th>\n",
       "      <td>0.844488</td>\n",
       "      <td>0.232588</td>\n",
       "      <td>0.300810</td>\n",
       "      <td>True</td>\n",
       "      <td>Traceback (most recent call last):\\n  File \"/u...</td>\n",
       "      <td>NaN</td>\n",
       "    </tr>\n",
       "    <tr>\n",
       "      <th>2</th>\n",
       "      <td>0.265390</td>\n",
       "      <td>0.046769</td>\n",
       "      <td>0.200428</td>\n",
       "      <td>False</td>\n",
       "      <td>NaN</td>\n",
       "      <td>0.072619</td>\n",
       "    </tr>\n",
       "    <tr>\n",
       "      <th>3</th>\n",
       "      <td>0.268404</td>\n",
       "      <td>0.709026</td>\n",
       "      <td>0.300558</td>\n",
       "      <td>False</td>\n",
       "      <td>NaN</td>\n",
       "      <td>0.574759</td>\n",
       "    </tr>\n",
       "    <tr>\n",
       "      <th>4</th>\n",
       "      <td>0.142141</td>\n",
       "      <td>0.152218</td>\n",
       "      <td>0.400651</td>\n",
       "      <td>False</td>\n",
       "      <td>NaN</td>\n",
       "      <td>0.043374</td>\n",
       "    </tr>\n",
       "    <tr>\n",
       "      <th>5</th>\n",
       "      <td>0.705105</td>\n",
       "      <td>0.723537</td>\n",
       "      <td>0.300620</td>\n",
       "      <td>False</td>\n",
       "      <td>NaN</td>\n",
       "      <td>1.020680</td>\n",
       "    </tr>\n",
       "    <tr>\n",
       "      <th>6</th>\n",
       "      <td>0.475619</td>\n",
       "      <td>0.532415</td>\n",
       "      <td>0.300680</td>\n",
       "      <td>False</td>\n",
       "      <td>NaN</td>\n",
       "      <td>0.509679</td>\n",
       "    </tr>\n",
       "    <tr>\n",
       "      <th>7</th>\n",
       "      <td>0.057461</td>\n",
       "      <td>0.684185</td>\n",
       "      <td>0.400642</td>\n",
       "      <td>False</td>\n",
       "      <td>NaN</td>\n",
       "      <td>0.471410</td>\n",
       "    </tr>\n",
       "    <tr>\n",
       "      <th>8</th>\n",
       "      <td>0.925261</td>\n",
       "      <td>0.609837</td>\n",
       "      <td>0.400774</td>\n",
       "      <td>True</td>\n",
       "      <td>Traceback (most recent call last):\\n  File \"/u...</td>\n",
       "      <td>NaN</td>\n",
       "    </tr>\n",
       "    <tr>\n",
       "      <th>9</th>\n",
       "      <td>0.333263</td>\n",
       "      <td>0.127120</td>\n",
       "      <td>0.200444</td>\n",
       "      <td>False</td>\n",
       "      <td>NaN</td>\n",
       "      <td>0.127224</td>\n",
       "    </tr>\n",
       "  </tbody>\n",
       "</table>\n",
       "</div>"
      ],
      "text/plain": [
       "          x         y  xopt_runtime  xopt_error  \\\n",
       "1  0.844488  0.232588      0.300810        True   \n",
       "2  0.265390  0.046769      0.200428       False   \n",
       "3  0.268404  0.709026      0.300558       False   \n",
       "4  0.142141  0.152218      0.400651       False   \n",
       "5  0.705105  0.723537      0.300620       False   \n",
       "6  0.475619  0.532415      0.300680       False   \n",
       "7  0.057461  0.684185      0.400642       False   \n",
       "8  0.925261  0.609837      0.400774        True   \n",
       "9  0.333263  0.127120      0.200444       False   \n",
       "\n",
       "                                      xopt_error_str        f1  \n",
       "1  Traceback (most recent call last):\\n  File \"/u...       NaN  \n",
       "2                                                NaN  0.072619  \n",
       "3                                                NaN  0.574759  \n",
       "4                                                NaN  0.043374  \n",
       "5                                                NaN  1.020680  \n",
       "6                                                NaN  0.509679  \n",
       "7                                                NaN  0.471410  \n",
       "8  Traceback (most recent call last):\\n  File \"/u...       NaN  \n",
       "9                                                NaN  0.127224  "
      ]
     },
     "execution_count": 26,
     "metadata": {},
     "output_type": "execute_result"
    }
   ],
   "source": [
    "# Singe generation step\n",
    "X.step()\n",
    "X.data"
   ]
  },
  {
   "cell_type": "code",
   "execution_count": 27,
   "metadata": {
    "execution": {
     "iopub.execute_input": "2023-08-20T01:51:37.885500Z",
     "iopub.status.busy": "2023-08-20T01:51:37.885056Z",
     "iopub.status.idle": "2023-08-20T01:51:37.891446Z",
     "shell.execute_reply": "2023-08-20T01:51:37.890832Z"
    }
   },
   "outputs": [],
   "source": [
    "# Usage with a parallel executor. \n",
    "X2 = Xopt(\n",
    "    generator=RandomGenerator(vocs=vocs),\n",
    "    evaluator=Evaluator(function=f, executor=executor, max_workers=MAX_WORKERS),\n",
    "    vocs=vocs,\n",
    ")\n",
    "X2.options.asynch = True\n",
    "X2.options.strict = False"
   ]
  },
  {
   "cell_type": "code",
   "execution_count": 28,
   "metadata": {
    "execution": {
     "iopub.execute_input": "2023-08-20T01:51:37.894528Z",
     "iopub.status.busy": "2023-08-20T01:51:37.894050Z",
     "iopub.status.idle": "2023-08-20T01:51:38.004607Z",
     "shell.execute_reply": "2023-08-20T01:51:38.003942Z"
    }
   },
   "outputs": [],
   "source": [
    "X2.step()"
   ]
  },
  {
   "cell_type": "code",
   "execution_count": 29,
   "metadata": {
    "collapsed": false,
    "execution": {
     "iopub.execute_input": "2023-08-20T01:51:38.008360Z",
     "iopub.status.busy": "2023-08-20T01:51:38.007903Z",
     "iopub.status.idle": "2023-08-20T01:51:38.887198Z",
     "shell.execute_reply": "2023-08-20T01:51:38.886156Z"
    },
    "jupyter": {
     "outputs_hidden": false
    }
   },
   "outputs": [
    {
     "data": {
      "text/plain": [
       "58"
      ]
     },
     "execution_count": 29,
     "metadata": {},
     "output_type": "execute_result"
    }
   ],
   "source": [
    "for _ in range(20):\n",
    "    X2.step()\n",
    "\n",
    "len(X2.data)"
   ]
  },
  {
   "cell_type": "code",
   "execution_count": 30,
   "metadata": {
    "collapsed": false,
    "execution": {
     "iopub.execute_input": "2023-08-20T01:51:38.890392Z",
     "iopub.status.busy": "2023-08-20T01:51:38.889883Z",
     "iopub.status.idle": "2023-08-20T01:51:39.531619Z",
     "shell.execute_reply": "2023-08-20T01:51:39.530473Z"
    },
    "jupyter": {
     "outputs_hidden": false
    }
   },
   "outputs": [
    {
     "data": {
      "text/plain": [
       "<Axes: xlabel='x', ylabel='y'>"
      ]
     },
     "execution_count": 30,
     "metadata": {},
     "output_type": "execute_result"
    },
    {
     "data": {
      "image/png": "[encoded data removed]",
      "text/plain": [
       "<Figure size 640x480 with 1 Axes>"
      ]
     },
     "metadata": {},
     "output_type": "display_data"
    }
   ],
   "source": [
    "X2.data.plot.scatter(\"x\", \"y\")"
   ]
  },
  {
   "cell_type": "code",
   "execution_count": 31,
   "metadata": {
    "collapsed": false,
    "execution": {
     "iopub.execute_input": "2023-08-20T01:51:39.534573Z",
     "iopub.status.busy": "2023-08-20T01:51:39.534254Z",
     "iopub.status.idle": "2023-08-20T01:51:39.863700Z",
     "shell.execute_reply": "2023-08-20T01:51:39.862973Z"
    },
    "jupyter": {
     "outputs_hidden": false
    },
    "tags": []
   },
   "outputs": [
    {
     "data": {
      "text/plain": [
       "30"
      ]
     },
     "execution_count": 31,
     "metadata": {},
     "output_type": "execute_result"
    }
   ],
   "source": [
    "# Asynchronous, Vectorized\n",
    "X2 = Xopt(\n",
    "    generator=RandomGenerator(vocs=vocs),\n",
    "    evaluator=Evaluator(function=f, executor=executor, max_workers=MAX_WORKERS),\n",
    "    vocs=vocs,\n",
    ")\n",
    "X2.options.asynch = True\n",
    "X2.evaluator.vectorized = True\n",
    "X2.options.strict = False\n",
    "\n",
    "# This takes fewer steps to achieve a similar number of evaluations\n",
    "for _ in range(3):\n",
    "    X2.step()\n",
    "\n",
    "len(X2.data)"
   ]
  }
 ],
 "metadata": {
  "kernelspec": {
   "display_name": "Python 3 (ipykernel)",
   "language": "python",
   "name": "python3"
  },
  "language_info": {
   "codemirror_mode": {
    "name": "ipython",
    "version": 3
   },
   "file_extension": ".py",
   "mimetype": "text/x-python",
   "name": "python",
   "nbconvert_exporter": "python",
   "pygments_lexer": "ipython3",
   "version": "3.9.17"
  },
  "vscode": {
   "interpreter": {
    "hash": "4483d4964800812ebc77892a92dde3b54705ec8a224d63d9bb659e2cc457018b"
   }
  }
 },
 "nbformat": 4,
 "nbformat_minor": 4
}
