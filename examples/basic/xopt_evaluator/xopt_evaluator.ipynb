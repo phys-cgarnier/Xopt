{
 "cells": [
  {
   "cell_type": "markdown",
   "metadata": {
    "pycharm": {
     "name": "#%% md\n"
    }
   },
   "source": []
  },
  {
   "cell_type": "markdown",
   "metadata": {
    "pycharm": {
     "name": "#%% md\n"
    }
   },
   "source": [
    "# Xopt Evaluator Basic Usage \n",
    "\n",
    "The `Evaluator` handles the execution of the user-provided `function` with optional `function_kwags`, asyncrhonously and parallel, with exception handling. "
   ]
  },
  {
   "cell_type": "code",
   "execution_count": 1,
   "metadata": {
    "collapsed": false,
    "execution": {
     "iopub.execute_input": "2023-04-19T18:04:56.047272Z",
     "iopub.status.busy": "2023-04-19T18:04:56.046996Z",
     "iopub.status.idle": "2023-04-19T18:04:56.055079Z",
     "shell.execute_reply": "2023-04-19T18:04:56.054385Z"
    },
    "pycharm": {
     "name": "#%%\n"
    }
   },
   "outputs": [],
   "source": [
    "# needed for macos\n",
    "import platform\n",
    "if platform.system() == \"Darwin\": import multiprocessing;multiprocessing.set_start_method(\"fork\")\n"
   ]
  },
  {
   "cell_type": "code",
   "execution_count": 2,
   "metadata": {
    "collapsed": false,
    "execution": {
     "iopub.execute_input": "2023-04-19T18:04:56.058237Z",
     "iopub.status.busy": "2023-04-19T18:04:56.058001Z",
     "iopub.status.idle": "2023-04-19T18:04:58.551029Z",
     "shell.execute_reply": "2023-04-19T18:04:58.550289Z"
    },
    "pycharm": {
     "name": "#%%\n"
    }
   },
   "outputs": [],
   "source": [
    "from xopt import Xopt, Evaluator, Generator, VOCS\n",
    "from xopt.generators.random import RandomGenerator\n",
    "\n",
    "import pandas as pd\n",
    "\n",
    "from time import sleep\n",
    "from numpy.random import randint\n",
    "\n",
    "from typing import Dict\n",
    "\n",
    "import numpy as np\n",
    "np.random.seed(666) # for reproducibility\n",
    "\n",
    "# Nicer plotting\n",
    "%config InlineBackend.figure_format = 'retina'"
   ]
  },
  {
   "cell_type": "markdown",
   "metadata": {},
   "source": [
    "Define a custom function `f(inputs: Dict) -> outputs: Dict`. "
   ]
  },
  {
   "cell_type": "code",
   "execution_count": 3,
   "metadata": {
    "execution": {
     "iopub.execute_input": "2023-04-19T18:04:58.555018Z",
     "iopub.status.busy": "2023-04-19T18:04:58.554453Z",
     "iopub.status.idle": "2023-04-19T18:04:58.561113Z",
     "shell.execute_reply": "2023-04-19T18:04:58.560422Z"
    }
   },
   "outputs": [],
   "source": [
    "def f(inputs: Dict, a=2) -> Dict:\n",
    "\n",
    "    sleep(randint(1, 5)*.1)  # simulate computation time\n",
    "    # Make some occasional errors\n",
    "    if np.any(inputs[\"x\"] > 0.8):\n",
    "        raise ValueError(\"x > 0.8\")\n",
    "\n",
    "    return {\"f1\": inputs[\"x\"] ** 2 + inputs[\"y\"] ** 2}"
   ]
  },
  {
   "cell_type": "markdown",
   "metadata": {},
   "source": [
    "Define variables, objectives, constraints, and other settings (VOCS)"
   ]
  },
  {
   "cell_type": "code",
   "execution_count": 4,
   "metadata": {
    "collapsed": false,
    "execution": {
     "iopub.execute_input": "2023-04-19T18:04:58.564875Z",
     "iopub.status.busy": "2023-04-19T18:04:58.564588Z",
     "iopub.status.idle": "2023-04-19T18:04:58.572498Z",
     "shell.execute_reply": "2023-04-19T18:04:58.571758Z"
    },
    "pycharm": {
     "name": "#%%\n"
    }
   },
   "outputs": [
    {
     "data": {
      "text/plain": [
       "VOCS(variables={'x': [0.0, 1.0], 'y': [0.0, 1.0]}, constraints={}, objectives={'f1': 'MINIMIZE'}, constants={}, linked_variables={})"
      ]
     },
     "execution_count": 4,
     "metadata": {},
     "output_type": "execute_result"
    }
   ],
   "source": [
    "vocs = VOCS(variables={\"x\": [0, 1], \"y\": [0, 1]}, objectives={\"f1\": \"MINIMIZE\"})\n",
    "vocs\n",
    "\n"
   ]
  },
  {
   "cell_type": "markdown",
   "metadata": {},
   "source": [
    "This can be used to make some random inputs for evaluating the function. "
   ]
  },
  {
   "cell_type": "code",
   "execution_count": 5,
   "metadata": {
    "execution": {
     "iopub.execute_input": "2023-04-19T18:04:58.623598Z",
     "iopub.status.busy": "2023-04-19T18:04:58.622958Z",
     "iopub.status.idle": "2023-04-19T18:04:58.929890Z",
     "shell.execute_reply": "2023-04-19T18:04:58.928930Z"
    }
   },
   "outputs": [
    {
     "data": {
      "text/plain": [
       "{'f1': 0.11401572022703582}"
      ]
     },
     "execution_count": 5,
     "metadata": {},
     "output_type": "execute_result"
    }
   ],
   "source": [
    "in1 = vocs.random_inputs()\n",
    "\n",
    "f(in1)"
   ]
  },
  {
   "cell_type": "code",
   "execution_count": 6,
   "metadata": {
    "execution": {
     "iopub.execute_input": "2023-04-19T18:04:58.934929Z",
     "iopub.status.busy": "2023-04-19T18:04:58.934459Z",
     "iopub.status.idle": "2023-04-19T18:04:59.241908Z",
     "shell.execute_reply": "2023-04-19T18:04:59.240914Z"
    }
   },
   "outputs": [
    {
     "name": "stdout",
     "output_type": "stream",
     "text": [
      "Caught error in f: x > 0.8\n"
     ]
    }
   ],
   "source": [
    "# Add in occasional errors. \n",
    "try:\n",
    "    f({\"x\": 1, \"y\": 0})\n",
    "except Exception as ex:\n",
    "    print(f\"Caught error in f: {ex}\")"
   ]
  },
  {
   "cell_type": "code",
   "execution_count": 7,
   "metadata": {
    "execution": {
     "iopub.execute_input": "2023-04-19T18:04:59.245829Z",
     "iopub.status.busy": "2023-04-19T18:04:59.245283Z",
     "iopub.status.idle": "2023-04-19T18:04:59.258402Z",
     "shell.execute_reply": "2023-04-19T18:04:59.257478Z"
    }
   },
   "outputs": [],
   "source": [
    "# Create Evaluator\n",
    "ev = Evaluator(function=f)"
   ]
  },
  {
   "cell_type": "code",
   "execution_count": 8,
   "metadata": {
    "execution": {
     "iopub.execute_input": "2023-04-19T18:04:59.262266Z",
     "iopub.status.busy": "2023-04-19T18:04:59.261567Z",
     "iopub.status.idle": "2023-04-19T18:04:59.468249Z",
     "shell.execute_reply": "2023-04-19T18:04:59.467208Z"
    }
   },
   "outputs": [
    {
     "data": {
      "text/plain": [
       "{'f1': 0.11401572022703582,\n",
       " 'xopt_runtime': 0.20042753899997479,\n",
       " 'xopt_error': False}"
      ]
     },
     "execution_count": 8,
     "metadata": {},
     "output_type": "execute_result"
    }
   ],
   "source": [
    "# Single input evaluation\n",
    "ev.evaluate(in1)"
   ]
  },
  {
   "cell_type": "code",
   "execution_count": 9,
   "metadata": {
    "execution": {
     "iopub.execute_input": "2023-04-19T18:04:59.473530Z",
     "iopub.status.busy": "2023-04-19T18:04:59.472994Z",
     "iopub.status.idle": "2023-04-19T18:05:02.094861Z",
     "shell.execute_reply": "2023-04-19T18:05:02.093863Z"
    }
   },
   "outputs": [
    {
     "data": {
      "text/html": [
       "<div>\n",
       "<style scoped>\n",
       "    .dataframe tbody tr th:only-of-type {\n",
       "        vertical-align: middle;\n",
       "    }\n",
       "\n",
       "    .dataframe tbody tr th {\n",
       "        vertical-align: top;\n",
       "    }\n",
       "\n",
       "    .dataframe thead th {\n",
       "        text-align: right;\n",
       "    }\n",
       "</style>\n",
       "<table border=\"1\" class=\"dataframe\">\n",
       "  <thead>\n",
       "    <tr style=\"text-align: right;\">\n",
       "      <th></th>\n",
       "      <th>f1</th>\n",
       "      <th>xopt_runtime</th>\n",
       "      <th>xopt_error</th>\n",
       "    </tr>\n",
       "  </thead>\n",
       "  <tbody>\n",
       "    <tr>\n",
       "      <th>0</th>\n",
       "      <td>0.529588</td>\n",
       "      <td>0.300633</td>\n",
       "      <td>False</td>\n",
       "    </tr>\n",
       "    <tr>\n",
       "      <th>1</th>\n",
       "      <td>1.154098</td>\n",
       "      <td>0.400680</td>\n",
       "      <td>False</td>\n",
       "    </tr>\n",
       "    <tr>\n",
       "      <th>2</th>\n",
       "      <td>0.641450</td>\n",
       "      <td>0.200471</td>\n",
       "      <td>False</td>\n",
       "    </tr>\n",
       "    <tr>\n",
       "      <th>3</th>\n",
       "      <td>0.619825</td>\n",
       "      <td>0.200447</td>\n",
       "      <td>False</td>\n",
       "    </tr>\n",
       "    <tr>\n",
       "      <th>4</th>\n",
       "      <td>0.536923</td>\n",
       "      <td>0.100381</td>\n",
       "      <td>False</td>\n",
       "    </tr>\n",
       "    <tr>\n",
       "      <th>5</th>\n",
       "      <td>0.342636</td>\n",
       "      <td>0.300589</td>\n",
       "      <td>False</td>\n",
       "    </tr>\n",
       "    <tr>\n",
       "      <th>6</th>\n",
       "      <td>0.589861</td>\n",
       "      <td>0.100378</td>\n",
       "      <td>False</td>\n",
       "    </tr>\n",
       "    <tr>\n",
       "      <th>7</th>\n",
       "      <td>0.556977</td>\n",
       "      <td>0.400653</td>\n",
       "      <td>False</td>\n",
       "    </tr>\n",
       "    <tr>\n",
       "      <th>8</th>\n",
       "      <td>0.055586</td>\n",
       "      <td>0.300580</td>\n",
       "      <td>False</td>\n",
       "    </tr>\n",
       "    <tr>\n",
       "      <th>9</th>\n",
       "      <td>0.785844</td>\n",
       "      <td>0.300522</td>\n",
       "      <td>False</td>\n",
       "    </tr>\n",
       "  </tbody>\n",
       "</table>\n",
       "</div>"
      ],
      "text/plain": [
       "         f1  xopt_runtime  xopt_error\n",
       "0  0.529588      0.300633       False\n",
       "1  1.154098      0.400680       False\n",
       "2  0.641450      0.200471       False\n",
       "3  0.619825      0.200447       False\n",
       "4  0.536923      0.100381       False\n",
       "5  0.342636      0.300589       False\n",
       "6  0.589861      0.100378       False\n",
       "7  0.556977      0.400653       False\n",
       "8  0.055586      0.300580       False\n",
       "9  0.785844      0.300522       False"
      ]
     },
     "execution_count": 9,
     "metadata": {},
     "output_type": "execute_result"
    }
   ],
   "source": [
    "# Dataframe evaluation\n",
    "in10 = vocs.random_inputs(10)\n",
    "ev.evaluate_data(in10)\n"
   ]
  },
  {
   "cell_type": "code",
   "execution_count": 10,
   "metadata": {
    "execution": {
     "iopub.execute_input": "2023-04-19T18:05:02.099814Z",
     "iopub.status.busy": "2023-04-19T18:05:02.099064Z",
     "iopub.status.idle": "2023-04-19T18:05:04.812320Z",
     "shell.execute_reply": "2023-04-19T18:05:04.811439Z"
    }
   },
   "outputs": [
    {
     "name": "stdout",
     "output_type": "stream",
     "text": [
      "{'f1': 0.5295876188736232, 'xopt_runtime': 0.30055825699992056, 'xopt_error': False}\n",
      "{'f1': 1.154097903998413, 'xopt_runtime': 0.30059235700002773, 'xopt_error': False}\n",
      "{'f1': 0.641449645681512, 'xopt_runtime': 0.10028781199991954, 'xopt_error': False}\n",
      "{'f1': 0.6198251611679085, 'xopt_runtime': 0.10037250900006711, 'xopt_error': False}\n",
      "{'f1': 0.5369228584400957, 'xopt_runtime': 0.4006586220000372, 'xopt_error': False}\n",
      "{'f1': 0.3426360721182605, 'xopt_runtime': 0.30060861899994507, 'xopt_error': False}\n",
      "{'f1': 0.5898614653804399, 'xopt_runtime': 0.20044501299992135, 'xopt_error': False}\n",
      "{'f1': 0.5569771979382582, 'xopt_runtime': 0.4006177219999927, 'xopt_error': False}\n",
      "{'f1': 0.055585968775201305, 'xopt_runtime': 0.30049321700005294, 'xopt_error': False}\n",
      "{'f1': 0.7858444543806786, 'xopt_runtime': 0.300499817000059, 'xopt_error': False}\n"
     ]
    }
   ],
   "source": [
    "# Dataframe submission (returns futures dict)\n",
    "futures = ev.submit_data(in10)\n",
    "for future in futures:\n",
    "    print(future.result())"
   ]
  },
  {
   "cell_type": "code",
   "execution_count": 11,
   "metadata": {
    "execution": {
     "iopub.execute_input": "2023-04-19T18:05:04.816384Z",
     "iopub.status.busy": "2023-04-19T18:05:04.815723Z",
     "iopub.status.idle": "2023-04-19T18:05:05.229933Z",
     "shell.execute_reply": "2023-04-19T18:05:05.228954Z"
    }
   },
   "outputs": [
    {
     "data": {
      "text/html": [
       "<div>\n",
       "<style scoped>\n",
       "    .dataframe tbody tr th:only-of-type {\n",
       "        vertical-align: middle;\n",
       "    }\n",
       "\n",
       "    .dataframe tbody tr th {\n",
       "        vertical-align: top;\n",
       "    }\n",
       "\n",
       "    .dataframe thead th {\n",
       "        text-align: right;\n",
       "    }\n",
       "</style>\n",
       "<table border=\"1\" class=\"dataframe\">\n",
       "  <thead>\n",
       "    <tr style=\"text-align: right;\">\n",
       "      <th></th>\n",
       "      <th>f1</th>\n",
       "      <th>xopt_runtime</th>\n",
       "      <th>xopt_error</th>\n",
       "    </tr>\n",
       "  </thead>\n",
       "  <tbody>\n",
       "    <tr>\n",
       "      <th>0</th>\n",
       "      <td>0.529588</td>\n",
       "      <td>0.401736</td>\n",
       "      <td>False</td>\n",
       "    </tr>\n",
       "    <tr>\n",
       "      <th>1</th>\n",
       "      <td>1.154098</td>\n",
       "      <td>0.401736</td>\n",
       "      <td>False</td>\n",
       "    </tr>\n",
       "    <tr>\n",
       "      <th>2</th>\n",
       "      <td>0.641450</td>\n",
       "      <td>0.401736</td>\n",
       "      <td>False</td>\n",
       "    </tr>\n",
       "    <tr>\n",
       "      <th>3</th>\n",
       "      <td>0.619825</td>\n",
       "      <td>0.401736</td>\n",
       "      <td>False</td>\n",
       "    </tr>\n",
       "    <tr>\n",
       "      <th>4</th>\n",
       "      <td>0.536923</td>\n",
       "      <td>0.401736</td>\n",
       "      <td>False</td>\n",
       "    </tr>\n",
       "    <tr>\n",
       "      <th>5</th>\n",
       "      <td>0.342636</td>\n",
       "      <td>0.401736</td>\n",
       "      <td>False</td>\n",
       "    </tr>\n",
       "    <tr>\n",
       "      <th>6</th>\n",
       "      <td>0.589861</td>\n",
       "      <td>0.401736</td>\n",
       "      <td>False</td>\n",
       "    </tr>\n",
       "    <tr>\n",
       "      <th>7</th>\n",
       "      <td>0.556977</td>\n",
       "      <td>0.401736</td>\n",
       "      <td>False</td>\n",
       "    </tr>\n",
       "    <tr>\n",
       "      <th>8</th>\n",
       "      <td>0.055586</td>\n",
       "      <td>0.401736</td>\n",
       "      <td>False</td>\n",
       "    </tr>\n",
       "    <tr>\n",
       "      <th>9</th>\n",
       "      <td>0.785844</td>\n",
       "      <td>0.401736</td>\n",
       "      <td>False</td>\n",
       "    </tr>\n",
       "  </tbody>\n",
       "</table>\n",
       "</div>"
      ],
      "text/plain": [
       "         f1  xopt_runtime  xopt_error\n",
       "0  0.529588      0.401736       False\n",
       "1  1.154098      0.401736       False\n",
       "2  0.641450      0.401736       False\n",
       "3  0.619825      0.401736       False\n",
       "4  0.536923      0.401736       False\n",
       "5  0.342636      0.401736       False\n",
       "6  0.589861      0.401736       False\n",
       "7  0.556977      0.401736       False\n",
       "8  0.055586      0.401736       False\n",
       "9  0.785844      0.401736       False"
      ]
     },
     "execution_count": 11,
     "metadata": {},
     "output_type": "execute_result"
    }
   ],
   "source": [
    "# Dataframe evaluation, vectorized\n",
    "ev.vectorized = True\n",
    "ev.evaluate_data(in10)\n"
   ]
  },
  {
   "cell_type": "code",
   "execution_count": 12,
   "metadata": {
    "execution": {
     "iopub.execute_input": "2023-04-19T18:05:05.236284Z",
     "iopub.status.busy": "2023-04-19T18:05:05.234561Z",
     "iopub.status.idle": "2023-04-19T18:05:05.644847Z",
     "shell.execute_reply": "2023-04-19T18:05:05.643643Z"
    }
   },
   "outputs": [
    {
     "data": {
      "text/plain": [
       "1"
      ]
     },
     "execution_count": 12,
     "metadata": {},
     "output_type": "execute_result"
    }
   ],
   "source": [
    "# Vectorized submission. This returns a single future.\n",
    "ev.vectorized = True\n",
    "futures = ev.submit_data(in10)\n",
    "len(futures)"
   ]
  },
  {
   "cell_type": "code",
   "execution_count": 13,
   "metadata": {
    "execution": {
     "iopub.execute_input": "2023-04-19T18:05:05.648552Z",
     "iopub.status.busy": "2023-04-19T18:05:05.648011Z",
     "iopub.status.idle": "2023-04-19T18:05:05.659546Z",
     "shell.execute_reply": "2023-04-19T18:05:05.654480Z"
    }
   },
   "outputs": [
    {
     "data": {
      "text/plain": [
       "{'f1': array([0.52958762, 1.1540979 , 0.64144965, 0.61982516, 0.53692286,\n",
       "        0.34263607, 0.58986147, 0.5569772 , 0.05558597, 0.78584445]),\n",
       " 'xopt_runtime': 0.40065442299999177,\n",
       " 'xopt_error': False}"
      ]
     },
     "execution_count": 13,
     "metadata": {},
     "output_type": "execute_result"
    }
   ],
   "source": [
    "futures[0].result()"
   ]
  },
  {
   "cell_type": "code",
   "execution_count": 14,
   "metadata": {
    "execution": {
     "iopub.execute_input": "2023-04-19T18:05:05.663558Z",
     "iopub.status.busy": "2023-04-19T18:05:05.663217Z",
     "iopub.status.idle": "2023-04-19T18:05:05.673702Z",
     "shell.execute_reply": "2023-04-19T18:05:05.673120Z"
    }
   },
   "outputs": [
    {
     "data": {
      "text/html": [
       "<div>\n",
       "<style scoped>\n",
       "    .dataframe tbody tr th:only-of-type {\n",
       "        vertical-align: middle;\n",
       "    }\n",
       "\n",
       "    .dataframe tbody tr th {\n",
       "        vertical-align: top;\n",
       "    }\n",
       "\n",
       "    .dataframe thead th {\n",
       "        text-align: right;\n",
       "    }\n",
       "</style>\n",
       "<table border=\"1\" class=\"dataframe\">\n",
       "  <thead>\n",
       "    <tr style=\"text-align: right;\">\n",
       "      <th></th>\n",
       "      <th>f1</th>\n",
       "      <th>xopt_runtime</th>\n",
       "      <th>xopt_error</th>\n",
       "    </tr>\n",
       "  </thead>\n",
       "  <tbody>\n",
       "    <tr>\n",
       "      <th>0</th>\n",
       "      <td>0.529588</td>\n",
       "      <td>0.400654</td>\n",
       "      <td>False</td>\n",
       "    </tr>\n",
       "    <tr>\n",
       "      <th>1</th>\n",
       "      <td>1.154098</td>\n",
       "      <td>0.400654</td>\n",
       "      <td>False</td>\n",
       "    </tr>\n",
       "    <tr>\n",
       "      <th>2</th>\n",
       "      <td>0.641450</td>\n",
       "      <td>0.400654</td>\n",
       "      <td>False</td>\n",
       "    </tr>\n",
       "    <tr>\n",
       "      <th>3</th>\n",
       "      <td>0.619825</td>\n",
       "      <td>0.400654</td>\n",
       "      <td>False</td>\n",
       "    </tr>\n",
       "    <tr>\n",
       "      <th>4</th>\n",
       "      <td>0.536923</td>\n",
       "      <td>0.400654</td>\n",
       "      <td>False</td>\n",
       "    </tr>\n",
       "    <tr>\n",
       "      <th>5</th>\n",
       "      <td>0.342636</td>\n",
       "      <td>0.400654</td>\n",
       "      <td>False</td>\n",
       "    </tr>\n",
       "    <tr>\n",
       "      <th>6</th>\n",
       "      <td>0.589861</td>\n",
       "      <td>0.400654</td>\n",
       "      <td>False</td>\n",
       "    </tr>\n",
       "    <tr>\n",
       "      <th>7</th>\n",
       "      <td>0.556977</td>\n",
       "      <td>0.400654</td>\n",
       "      <td>False</td>\n",
       "    </tr>\n",
       "    <tr>\n",
       "      <th>8</th>\n",
       "      <td>0.055586</td>\n",
       "      <td>0.400654</td>\n",
       "      <td>False</td>\n",
       "    </tr>\n",
       "    <tr>\n",
       "      <th>9</th>\n",
       "      <td>0.785844</td>\n",
       "      <td>0.400654</td>\n",
       "      <td>False</td>\n",
       "    </tr>\n",
       "  </tbody>\n",
       "</table>\n",
       "</div>"
      ],
      "text/plain": [
       "         f1  xopt_runtime  xopt_error\n",
       "0  0.529588      0.400654       False\n",
       "1  1.154098      0.400654       False\n",
       "2  0.641450      0.400654       False\n",
       "3  0.619825      0.400654       False\n",
       "4  0.536923      0.400654       False\n",
       "5  0.342636      0.400654       False\n",
       "6  0.589861      0.400654       False\n",
       "7  0.556977      0.400654       False\n",
       "8  0.055586      0.400654       False\n",
       "9  0.785844      0.400654       False"
      ]
     },
     "execution_count": 14,
     "metadata": {},
     "output_type": "execute_result"
    }
   ],
   "source": [
    "# Collect in a dataframe\n",
    "res = futures[0].result()\n",
    "# If there is an error, all outputs are spoiled.\n",
    "if res['xopt_error']:\n",
    "    res = [res]\n",
    "pd.DataFrame(res)"
   ]
  },
  {
   "cell_type": "markdown",
   "metadata": {},
   "source": [
    "# Executors"
   ]
  },
  {
   "cell_type": "code",
   "execution_count": 15,
   "metadata": {
    "execution": {
     "iopub.execute_input": "2023-04-19T18:05:05.677228Z",
     "iopub.status.busy": "2023-04-19T18:05:05.676528Z",
     "iopub.status.idle": "2023-04-19T18:05:05.680326Z",
     "shell.execute_reply": "2023-04-19T18:05:05.679571Z"
    }
   },
   "outputs": [],
   "source": [
    "from concurrent.futures import ThreadPoolExecutor, ProcessPoolExecutor\n",
    "MAX_WORKERS = 10"
   ]
  },
  {
   "cell_type": "code",
   "execution_count": 16,
   "metadata": {
    "execution": {
     "iopub.execute_input": "2023-04-19T18:05:05.683951Z",
     "iopub.status.busy": "2023-04-19T18:05:05.683330Z",
     "iopub.status.idle": "2023-04-19T18:05:05.689567Z",
     "shell.execute_reply": "2023-04-19T18:05:05.688865Z"
    }
   },
   "outputs": [
    {
     "data": {
      "text/plain": [
       "<concurrent.futures.process.ProcessPoolExecutor at 0x7fc11b903310>"
      ]
     },
     "execution_count": 16,
     "metadata": {},
     "output_type": "execute_result"
    }
   ],
   "source": [
    "# Create Executor insance\n",
    "executor = ProcessPoolExecutor(max_workers=MAX_WORKERS)\n",
    "executor"
   ]
  },
  {
   "cell_type": "code",
   "execution_count": 17,
   "metadata": {
    "execution": {
     "iopub.execute_input": "2023-04-19T18:05:05.692924Z",
     "iopub.status.busy": "2023-04-19T18:05:05.692265Z",
     "iopub.status.idle": "2023-04-19T18:05:05.695549Z",
     "shell.execute_reply": "2023-04-19T18:05:05.694765Z"
    }
   },
   "outputs": [],
   "source": [
    "# Dask (Optional)\n",
    "# from dask.distributed import Client\n",
    "# import logging\n",
    "# client = Client( silence_logs=logging.ERROR)\n",
    "# executor = client.get_executor()\n",
    "# client"
   ]
  },
  {
   "cell_type": "code",
   "execution_count": 18,
   "metadata": {
    "execution": {
     "iopub.execute_input": "2023-04-19T18:05:05.698753Z",
     "iopub.status.busy": "2023-04-19T18:05:05.698284Z",
     "iopub.status.idle": "2023-04-19T18:05:05.710117Z",
     "shell.execute_reply": "2023-04-19T18:05:05.708907Z"
    }
   },
   "outputs": [],
   "source": [
    "# This calls `executor.map`\n",
    "ev = Evaluator(function=f, executor=executor, max_workers=MAX_WORKERS)"
   ]
  },
  {
   "cell_type": "code",
   "execution_count": 19,
   "metadata": {
    "execution": {
     "iopub.execute_input": "2023-04-19T18:05:05.713661Z",
     "iopub.status.busy": "2023-04-19T18:05:05.713171Z",
     "iopub.status.idle": "2023-04-19T18:05:05.937642Z",
     "shell.execute_reply": "2023-04-19T18:05:05.935881Z"
    }
   },
   "outputs": [
    {
     "data": {
      "text/html": [
       "<div>\n",
       "<style scoped>\n",
       "    .dataframe tbody tr th:only-of-type {\n",
       "        vertical-align: middle;\n",
       "    }\n",
       "\n",
       "    .dataframe tbody tr th {\n",
       "        vertical-align: top;\n",
       "    }\n",
       "\n",
       "    .dataframe thead th {\n",
       "        text-align: right;\n",
       "    }\n",
       "</style>\n",
       "<table border=\"1\" class=\"dataframe\">\n",
       "  <thead>\n",
       "    <tr style=\"text-align: right;\">\n",
       "      <th></th>\n",
       "      <th>f1</th>\n",
       "      <th>xopt_runtime</th>\n",
       "      <th>xopt_error</th>\n",
       "    </tr>\n",
       "  </thead>\n",
       "  <tbody>\n",
       "    <tr>\n",
       "      <th>0</th>\n",
       "      <td>0.529588</td>\n",
       "      <td>0.101086</td>\n",
       "      <td>False</td>\n",
       "    </tr>\n",
       "    <tr>\n",
       "      <th>1</th>\n",
       "      <td>1.154098</td>\n",
       "      <td>0.102090</td>\n",
       "      <td>False</td>\n",
       "    </tr>\n",
       "    <tr>\n",
       "      <th>2</th>\n",
       "      <td>0.641450</td>\n",
       "      <td>0.101033</td>\n",
       "      <td>False</td>\n",
       "    </tr>\n",
       "    <tr>\n",
       "      <th>3</th>\n",
       "      <td>0.619825</td>\n",
       "      <td>0.101871</td>\n",
       "      <td>False</td>\n",
       "    </tr>\n",
       "    <tr>\n",
       "      <th>4</th>\n",
       "      <td>0.536923</td>\n",
       "      <td>0.101684</td>\n",
       "      <td>False</td>\n",
       "    </tr>\n",
       "    <tr>\n",
       "      <th>5</th>\n",
       "      <td>0.342636</td>\n",
       "      <td>0.102734</td>\n",
       "      <td>False</td>\n",
       "    </tr>\n",
       "    <tr>\n",
       "      <th>6</th>\n",
       "      <td>0.589861</td>\n",
       "      <td>0.101337</td>\n",
       "      <td>False</td>\n",
       "    </tr>\n",
       "    <tr>\n",
       "      <th>7</th>\n",
       "      <td>0.556977</td>\n",
       "      <td>0.101070</td>\n",
       "      <td>False</td>\n",
       "    </tr>\n",
       "    <tr>\n",
       "      <th>8</th>\n",
       "      <td>0.055586</td>\n",
       "      <td>0.102510</td>\n",
       "      <td>False</td>\n",
       "    </tr>\n",
       "    <tr>\n",
       "      <th>9</th>\n",
       "      <td>0.785844</td>\n",
       "      <td>0.101052</td>\n",
       "      <td>False</td>\n",
       "    </tr>\n",
       "  </tbody>\n",
       "</table>\n",
       "</div>"
      ],
      "text/plain": [
       "         f1  xopt_runtime  xopt_error\n",
       "0  0.529588      0.101086       False\n",
       "1  1.154098      0.102090       False\n",
       "2  0.641450      0.101033       False\n",
       "3  0.619825      0.101871       False\n",
       "4  0.536923      0.101684       False\n",
       "5  0.342636      0.102734       False\n",
       "6  0.589861      0.101337       False\n",
       "7  0.556977      0.101070       False\n",
       "8  0.055586      0.102510       False\n",
       "9  0.785844      0.101052       False"
      ]
     },
     "execution_count": 19,
     "metadata": {},
     "output_type": "execute_result"
    }
   ],
   "source": [
    "# This will run in parallel\n",
    "ev.evaluate_data(in10)"
   ]
  },
  {
   "cell_type": "markdown",
   "metadata": {},
   "source": [
    "# Evaluator in the Xopt object"
   ]
  },
  {
   "cell_type": "code",
   "execution_count": 20,
   "metadata": {
    "collapsed": false,
    "execution": {
     "iopub.execute_input": "2023-04-19T18:05:05.943750Z",
     "iopub.status.busy": "2023-04-19T18:05:05.942733Z",
     "iopub.status.idle": "2023-04-19T18:05:07.569839Z",
     "shell.execute_reply": "2023-04-19T18:05:07.568990Z"
    },
    "pycharm": {
     "name": "#%%\n"
    }
   },
   "outputs": [
    {
     "data": {
      "text/html": [
       "<div>\n",
       "<style scoped>\n",
       "    .dataframe tbody tr th:only-of-type {\n",
       "        vertical-align: middle;\n",
       "    }\n",
       "\n",
       "    .dataframe tbody tr th {\n",
       "        vertical-align: top;\n",
       "    }\n",
       "\n",
       "    .dataframe thead th {\n",
       "        text-align: right;\n",
       "    }\n",
       "</style>\n",
       "<table border=\"1\" class=\"dataframe\">\n",
       "  <thead>\n",
       "    <tr style=\"text-align: right;\">\n",
       "      <th></th>\n",
       "      <th>x</th>\n",
       "      <th>y</th>\n",
       "    </tr>\n",
       "  </thead>\n",
       "  <tbody>\n",
       "    <tr>\n",
       "      <th>1</th>\n",
       "      <td>0.333263</td>\n",
       "      <td>0.670598</td>\n",
       "    </tr>\n",
       "    <tr>\n",
       "      <th>2</th>\n",
       "      <td>0.127120</td>\n",
       "      <td>0.708698</td>\n",
       "    </tr>\n",
       "    <tr>\n",
       "      <th>3</th>\n",
       "      <td>0.478903</td>\n",
       "      <td>0.998964</td>\n",
       "    </tr>\n",
       "    <tr>\n",
       "      <th>4</th>\n",
       "      <td>0.249796</td>\n",
       "      <td>0.363820</td>\n",
       "    </tr>\n",
       "  </tbody>\n",
       "</table>\n",
       "</div>"
      ],
      "text/plain": [
       "          x         y\n",
       "1  0.333263  0.670598\n",
       "2  0.127120  0.708698\n",
       "3  0.478903  0.998964\n",
       "4  0.249796  0.363820"
      ]
     },
     "execution_count": 20,
     "metadata": {},
     "output_type": "execute_result"
    }
   ],
   "source": [
    "X = Xopt(generator=RandomGenerator(vocs), evaluator=Evaluator(function=f), vocs=vocs)\n",
    "\n",
    "# Submit to the evaluator some new inputs\n",
    "X.submit_data(vocs.random_inputs(4))\n",
    "\n",
    "# Unevaluated inputs are collected in a dataframe\n",
    "X._input_data"
   ]
  },
  {
   "cell_type": "code",
   "execution_count": 21,
   "metadata": {
    "collapsed": false,
    "execution": {
     "iopub.execute_input": "2023-04-19T18:05:07.575069Z",
     "iopub.status.busy": "2023-04-19T18:05:07.574194Z",
     "iopub.status.idle": "2023-04-19T18:05:07.581531Z",
     "shell.execute_reply": "2023-04-19T18:05:07.580859Z"
    },
    "pycharm": {
     "name": "#%%\n"
    }
   },
   "outputs": [
    {
     "data": {
      "text/plain": [
       "{1: <Future at 0x7fc11b829760 state=finished returned dict>,\n",
       " 2: <Future at 0x7fc11b903e80 state=finished returned dict>,\n",
       " 3: <Future at 0x7fc11b903790 state=finished returned dict>,\n",
       " 4: <Future at 0x7fc11b8f2f70 state=finished returned dict>}"
      ]
     },
     "execution_count": 21,
     "metadata": {},
     "output_type": "execute_result"
    }
   ],
   "source": [
    "# Internal futures dictionary\n",
    "X._futures"
   ]
  },
  {
   "cell_type": "code",
   "execution_count": 22,
   "metadata": {
    "collapsed": false,
    "execution": {
     "iopub.execute_input": "2023-04-19T18:05:07.585254Z",
     "iopub.status.busy": "2023-04-19T18:05:07.584786Z",
     "iopub.status.idle": "2023-04-19T18:05:07.600217Z",
     "shell.execute_reply": "2023-04-19T18:05:07.599547Z"
    },
    "pycharm": {
     "name": "#%%\n"
    }
   },
   "outputs": [
    {
     "data": {
      "text/html": [
       "<div>\n",
       "<style scoped>\n",
       "    .dataframe tbody tr th:only-of-type {\n",
       "        vertical-align: middle;\n",
       "    }\n",
       "\n",
       "    .dataframe tbody tr th {\n",
       "        vertical-align: top;\n",
       "    }\n",
       "\n",
       "    .dataframe thead th {\n",
       "        text-align: right;\n",
       "    }\n",
       "</style>\n",
       "<table border=\"1\" class=\"dataframe\">\n",
       "  <thead>\n",
       "    <tr style=\"text-align: right;\">\n",
       "      <th></th>\n",
       "      <th>x</th>\n",
       "      <th>y</th>\n",
       "      <th>f1</th>\n",
       "      <th>xopt_runtime</th>\n",
       "      <th>xopt_error</th>\n",
       "    </tr>\n",
       "  </thead>\n",
       "  <tbody>\n",
       "    <tr>\n",
       "      <th>1</th>\n",
       "      <td>0.333263</td>\n",
       "      <td>0.670598</td>\n",
       "      <td>0.560765</td>\n",
       "      <td>0.400652</td>\n",
       "      <td>False</td>\n",
       "    </tr>\n",
       "    <tr>\n",
       "      <th>2</th>\n",
       "      <td>0.127120</td>\n",
       "      <td>0.708698</td>\n",
       "      <td>0.518413</td>\n",
       "      <td>0.400596</td>\n",
       "      <td>False</td>\n",
       "    </tr>\n",
       "    <tr>\n",
       "      <th>3</th>\n",
       "      <td>0.478903</td>\n",
       "      <td>0.998964</td>\n",
       "      <td>1.227277</td>\n",
       "      <td>0.400707</td>\n",
       "      <td>False</td>\n",
       "    </tr>\n",
       "    <tr>\n",
       "      <th>4</th>\n",
       "      <td>0.249796</td>\n",
       "      <td>0.363820</td>\n",
       "      <td>0.194763</td>\n",
       "      <td>0.400605</td>\n",
       "      <td>False</td>\n",
       "    </tr>\n",
       "  </tbody>\n",
       "</table>\n",
       "</div>"
      ],
      "text/plain": [
       "          x         y        f1  xopt_runtime  xopt_error\n",
       "1  0.333263  0.670598  0.560765      0.400652       False\n",
       "2  0.127120  0.708698  0.518413      0.400596       False\n",
       "3  0.478903  0.998964  1.227277      0.400707       False\n",
       "4  0.249796  0.363820  0.194763      0.400605       False"
      ]
     },
     "execution_count": 22,
     "metadata": {},
     "output_type": "execute_result"
    }
   ],
   "source": [
    "# Collect all finished futures and updata dataframe\n",
    "X.process_futures()\n",
    "X.data"
   ]
  },
  {
   "cell_type": "code",
   "execution_count": 23,
   "metadata": {
    "collapsed": false,
    "execution": {
     "iopub.execute_input": "2023-04-19T18:05:07.603719Z",
     "iopub.status.busy": "2023-04-19T18:05:07.603311Z",
     "iopub.status.idle": "2023-04-19T18:05:07.607576Z",
     "shell.execute_reply": "2023-04-19T18:05:07.606931Z"
    },
    "pycharm": {
     "name": "#%%\n"
    }
   },
   "outputs": [
    {
     "data": {
      "text/plain": [
       "{}"
      ]
     },
     "execution_count": 23,
     "metadata": {},
     "output_type": "execute_result"
    }
   ],
   "source": [
    "# Futures are now cleared out\n",
    "X._futures"
   ]
  },
  {
   "cell_type": "code",
   "execution_count": 24,
   "metadata": {
    "collapsed": false,
    "execution": {
     "iopub.execute_input": "2023-04-19T18:05:07.611220Z",
     "iopub.status.busy": "2023-04-19T18:05:07.610756Z",
     "iopub.status.idle": "2023-04-19T18:05:07.617462Z",
     "shell.execute_reply": "2023-04-19T18:05:07.616808Z"
    },
    "pycharm": {
     "name": "#%%\n"
    }
   },
   "outputs": [
    {
     "data": {
      "text/plain": [
       "4"
      ]
     },
     "execution_count": 24,
     "metadata": {},
     "output_type": "execute_result"
    }
   ],
   "source": [
    "# This is the internal counter\n",
    "X._ix_last"
   ]
  },
  {
   "cell_type": "code",
   "execution_count": 25,
   "metadata": {
    "collapsed": false,
    "execution": {
     "iopub.execute_input": "2023-04-19T18:05:07.620678Z",
     "iopub.status.busy": "2023-04-19T18:05:07.620126Z",
     "iopub.status.idle": "2023-04-19T18:05:08.236575Z",
     "shell.execute_reply": "2023-04-19T18:05:08.235806Z"
    },
    "pycharm": {
     "name": "#%%\n"
    }
   },
   "outputs": [
    {
     "data": {
      "text/html": [
       "<div>\n",
       "<style scoped>\n",
       "    .dataframe tbody tr th:only-of-type {\n",
       "        vertical-align: middle;\n",
       "    }\n",
       "\n",
       "    .dataframe tbody tr th {\n",
       "        vertical-align: top;\n",
       "    }\n",
       "\n",
       "    .dataframe thead th {\n",
       "        text-align: right;\n",
       "    }\n",
       "</style>\n",
       "<table border=\"1\" class=\"dataframe\">\n",
       "  <thead>\n",
       "    <tr style=\"text-align: right;\">\n",
       "      <th></th>\n",
       "      <th>x</th>\n",
       "      <th>y</th>\n",
       "      <th>f1</th>\n",
       "      <th>xopt_runtime</th>\n",
       "      <th>xopt_error</th>\n",
       "    </tr>\n",
       "  </thead>\n",
       "  <tbody>\n",
       "    <tr>\n",
       "      <th>5</th>\n",
       "      <td>0.600748</td>\n",
       "      <td>0.031670</td>\n",
       "      <td>0.361902</td>\n",
       "      <td>0.100311</td>\n",
       "      <td>False</td>\n",
       "    </tr>\n",
       "    <tr>\n",
       "      <th>6</th>\n",
       "      <td>0.596771</td>\n",
       "      <td>0.132335</td>\n",
       "      <td>0.373648</td>\n",
       "      <td>0.100354</td>\n",
       "      <td>False</td>\n",
       "    </tr>\n",
       "    <tr>\n",
       "      <th>7</th>\n",
       "      <td>0.665451</td>\n",
       "      <td>0.208765</td>\n",
       "      <td>0.486407</td>\n",
       "      <td>0.100396</td>\n",
       "      <td>False</td>\n",
       "    </tr>\n",
       "    <tr>\n",
       "      <th>8</th>\n",
       "      <td>0.276934</td>\n",
       "      <td>0.555539</td>\n",
       "      <td>0.385316</td>\n",
       "      <td>0.300504</td>\n",
       "      <td>False</td>\n",
       "    </tr>\n",
       "  </tbody>\n",
       "</table>\n",
       "</div>"
      ],
      "text/plain": [
       "          x         y        f1  xopt_runtime  xopt_error\n",
       "5  0.600748  0.031670  0.361902      0.100311       False\n",
       "6  0.596771  0.132335  0.373648      0.100354       False\n",
       "7  0.665451  0.208765  0.486407      0.100396       False\n",
       "8  0.276934  0.555539  0.385316      0.300504       False"
      ]
     },
     "execution_count": 25,
     "metadata": {},
     "output_type": "execute_result"
    }
   ],
   "source": [
    "# This causes immediate evaluation\n",
    "X.evaluate_data(vocs.random_inputs(4))"
   ]
  },
  {
   "cell_type": "code",
   "execution_count": 26,
   "metadata": {
    "collapsed": false,
    "execution": {
     "iopub.execute_input": "2023-04-19T18:05:08.240704Z",
     "iopub.status.busy": "2023-04-19T18:05:08.240019Z",
     "iopub.status.idle": "2023-04-19T18:05:08.354244Z",
     "shell.execute_reply": "2023-04-19T18:05:08.353457Z"
    },
    "pycharm": {
     "name": "#%%\n"
    }
   },
   "outputs": [
    {
     "data": {
      "text/html": [
       "<div>\n",
       "<style scoped>\n",
       "    .dataframe tbody tr th:only-of-type {\n",
       "        vertical-align: middle;\n",
       "    }\n",
       "\n",
       "    .dataframe tbody tr th {\n",
       "        vertical-align: top;\n",
       "    }\n",
       "\n",
       "    .dataframe thead th {\n",
       "        text-align: right;\n",
       "    }\n",
       "</style>\n",
       "<table border=\"1\" class=\"dataframe\">\n",
       "  <thead>\n",
       "    <tr style=\"text-align: right;\">\n",
       "      <th></th>\n",
       "      <th>x</th>\n",
       "      <th>y</th>\n",
       "      <th>f1</th>\n",
       "      <th>xopt_runtime</th>\n",
       "      <th>xopt_error</th>\n",
       "    </tr>\n",
       "  </thead>\n",
       "  <tbody>\n",
       "    <tr>\n",
       "      <th>1</th>\n",
       "      <td>0.333263</td>\n",
       "      <td>0.670598</td>\n",
       "      <td>0.560765</td>\n",
       "      <td>0.400652</td>\n",
       "      <td>False</td>\n",
       "    </tr>\n",
       "    <tr>\n",
       "      <th>2</th>\n",
       "      <td>0.127120</td>\n",
       "      <td>0.708698</td>\n",
       "      <td>0.518413</td>\n",
       "      <td>0.400596</td>\n",
       "      <td>False</td>\n",
       "    </tr>\n",
       "    <tr>\n",
       "      <th>3</th>\n",
       "      <td>0.478903</td>\n",
       "      <td>0.998964</td>\n",
       "      <td>1.227277</td>\n",
       "      <td>0.400707</td>\n",
       "      <td>False</td>\n",
       "    </tr>\n",
       "    <tr>\n",
       "      <th>4</th>\n",
       "      <td>0.249796</td>\n",
       "      <td>0.363820</td>\n",
       "      <td>0.194763</td>\n",
       "      <td>0.400605</td>\n",
       "      <td>False</td>\n",
       "    </tr>\n",
       "    <tr>\n",
       "      <th>5</th>\n",
       "      <td>0.600748</td>\n",
       "      <td>0.031670</td>\n",
       "      <td>0.361902</td>\n",
       "      <td>0.100311</td>\n",
       "      <td>False</td>\n",
       "    </tr>\n",
       "    <tr>\n",
       "      <th>6</th>\n",
       "      <td>0.596771</td>\n",
       "      <td>0.132335</td>\n",
       "      <td>0.373648</td>\n",
       "      <td>0.100354</td>\n",
       "      <td>False</td>\n",
       "    </tr>\n",
       "    <tr>\n",
       "      <th>7</th>\n",
       "      <td>0.665451</td>\n",
       "      <td>0.208765</td>\n",
       "      <td>0.486407</td>\n",
       "      <td>0.100396</td>\n",
       "      <td>False</td>\n",
       "    </tr>\n",
       "    <tr>\n",
       "      <th>8</th>\n",
       "      <td>0.276934</td>\n",
       "      <td>0.555539</td>\n",
       "      <td>0.385316</td>\n",
       "      <td>0.300504</td>\n",
       "      <td>False</td>\n",
       "    </tr>\n",
       "    <tr>\n",
       "      <th>9</th>\n",
       "      <td>0.287898</td>\n",
       "      <td>0.757285</td>\n",
       "      <td>0.656366</td>\n",
       "      <td>0.100347</td>\n",
       "      <td>False</td>\n",
       "    </tr>\n",
       "  </tbody>\n",
       "</table>\n",
       "</div>"
      ],
      "text/plain": [
       "          x         y        f1  xopt_runtime  xopt_error\n",
       "1  0.333263  0.670598  0.560765      0.400652       False\n",
       "2  0.127120  0.708698  0.518413      0.400596       False\n",
       "3  0.478903  0.998964  1.227277      0.400707       False\n",
       "4  0.249796  0.363820  0.194763      0.400605       False\n",
       "5  0.600748  0.031670  0.361902      0.100311       False\n",
       "6  0.596771  0.132335  0.373648      0.100354       False\n",
       "7  0.665451  0.208765  0.486407      0.100396       False\n",
       "8  0.276934  0.555539  0.385316      0.300504       False\n",
       "9  0.287898  0.757285  0.656366      0.100347       False"
      ]
     },
     "execution_count": 26,
     "metadata": {},
     "output_type": "execute_result"
    }
   ],
   "source": [
    "# Singe generation step\n",
    "X.step()\n",
    "X.data"
   ]
  },
  {
   "cell_type": "code",
   "execution_count": 27,
   "metadata": {
    "execution": {
     "iopub.execute_input": "2023-04-19T18:05:08.358182Z",
     "iopub.status.busy": "2023-04-19T18:05:08.357768Z",
     "iopub.status.idle": "2023-04-19T18:05:08.366129Z",
     "shell.execute_reply": "2023-04-19T18:05:08.365412Z"
    }
   },
   "outputs": [],
   "source": [
    "# Usage with a parallel executor. \n",
    "X2 = Xopt(\n",
    "    generator=RandomGenerator(vocs),\n",
    "    evaluator=Evaluator(function=f, executor=executor, max_workers=MAX_WORKERS),\n",
    "    vocs=vocs,\n",
    ")\n",
    "X2.options.asynch = True"
   ]
  },
  {
   "cell_type": "code",
   "execution_count": 28,
   "metadata": {
    "execution": {
     "iopub.execute_input": "2023-04-19T18:05:08.369601Z",
     "iopub.status.busy": "2023-04-19T18:05:08.369118Z",
     "iopub.status.idle": "2023-04-19T18:05:08.681245Z",
     "shell.execute_reply": "2023-04-19T18:05:08.680500Z"
    }
   },
   "outputs": [],
   "source": [
    "X2.step()"
   ]
  },
  {
   "cell_type": "code",
   "execution_count": 29,
   "metadata": {
    "collapsed": false,
    "execution": {
     "iopub.execute_input": "2023-04-19T18:05:08.685447Z",
     "iopub.status.busy": "2023-04-19T18:05:08.684949Z",
     "iopub.status.idle": "2023-04-19T18:05:10.162184Z",
     "shell.execute_reply": "2023-04-19T18:05:10.161440Z"
    },
    "pycharm": {
     "name": "#%%\n"
    }
   },
   "outputs": [
    {
     "data": {
      "text/plain": [
       "56"
      ]
     },
     "execution_count": 29,
     "metadata": {},
     "output_type": "execute_result"
    }
   ],
   "source": [
    "for _ in range(20):\n",
    "    X2.step()\n",
    "\n",
    "len(X2.data)"
   ]
  },
  {
   "cell_type": "code",
   "execution_count": 30,
   "metadata": {
    "collapsed": false,
    "execution": {
     "iopub.execute_input": "2023-04-19T18:05:10.165839Z",
     "iopub.status.busy": "2023-04-19T18:05:10.165216Z",
     "iopub.status.idle": "2023-04-19T18:05:10.965911Z",
     "shell.execute_reply": "2023-04-19T18:05:10.965184Z"
    },
    "pycharm": {
     "name": "#%%\n"
    }
   },
   "outputs": [
    {
     "data": {
      "text/plain": [
       "<Axes: xlabel='x', ylabel='y'>"
      ]
     },
     "execution_count": 30,
     "metadata": {},
     "output_type": "execute_result"
    },
    {
     "data": {
      "image/png": "[encoded data removed]",
      "text/plain": [
       "<Figure size 640x480 with 1 Axes>"
      ]
     },
     "metadata": {
      "image/png": {
       "height": 432,
       "width": 567
      }
     },
     "output_type": "display_data"
    }
   ],
   "source": [
    "X2.data.plot.scatter(\"x\", \"y\")"
   ]
  },
  {
   "cell_type": "code",
   "execution_count": 31,
   "metadata": {
    "collapsed": false,
    "execution": {
     "iopub.execute_input": "2023-04-19T18:05:10.969987Z",
     "iopub.status.busy": "2023-04-19T18:05:10.969177Z",
     "iopub.status.idle": "2023-04-19T18:05:11.604474Z",
     "shell.execute_reply": "2023-04-19T18:05:11.603741Z"
    },
    "pycharm": {
     "name": "#%%\n"
    }
   },
   "outputs": [
    {
     "data": {
      "text/plain": [
       "30"
      ]
     },
     "execution_count": 31,
     "metadata": {},
     "output_type": "execute_result"
    }
   ],
   "source": [
    "# Asynchronous, Vectorized\n",
    "X2 = Xopt(\n",
    "    generator=RandomGenerator(vocs),\n",
    "    evaluator=Evaluator(function=f, executor=executor, max_workers=MAX_WORKERS),\n",
    "    vocs=vocs,\n",
    ")\n",
    "X2.options.asynch = True\n",
    "X2.evaluator.vectorized = True\n",
    "\n",
    "# This takes fewer steps to achieve a similar numver of evaluations\n",
    "for _ in range(3):\n",
    "    X2.step()\n",
    "\n",
    "len(X2.data)"
   ]
  }
 ],
 "metadata": {
  "kernelspec": {
   "display_name": "Python 3.9.13 ('xopt-dev2')",
   "language": "python",
   "name": "python3"
  },
  "language_info": {
   "codemirror_mode": {
    "name": "ipython",
    "version": 3
   },
   "file_extension": ".py",
   "mimetype": "text/x-python",
   "name": "python",
   "nbconvert_exporter": "python",
   "pygments_lexer": "ipython3",
   "version": "3.9.16"
  },
  "vscode": {
   "interpreter": {
    "hash": "4483d4964800812ebc77892a92dde3b54705ec8a224d63d9bb659e2cc457018b"
   }
  }
 },
 "nbformat": 4,
 "nbformat_minor": 2
}
