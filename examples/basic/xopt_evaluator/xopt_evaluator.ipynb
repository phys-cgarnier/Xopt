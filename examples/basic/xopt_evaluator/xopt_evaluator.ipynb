{
 "cells": [
  {
   "cell_type": "markdown",
   "metadata": {
    "pycharm": {
     "name": "#%% md\n"
    }
   },
   "source": []
  },
  {
   "cell_type": "markdown",
   "metadata": {
    "pycharm": {
     "name": "#%% md\n"
    }
   },
   "source": [
    "# Xopt Evaluator Basic Usage \n",
    "\n",
    "The `Evaluator` handles the execution of the user-provided `function` with optional `function_kwags`, asyncrhonously and parallel, with exception handling. "
   ]
  },
  {
   "cell_type": "code",
   "execution_count": 1,
   "metadata": {
    "collapsed": false,
    "execution": {
     "iopub.execute_input": "2022-08-15T00:12:41.797500Z",
     "iopub.status.busy": "2022-08-15T00:12:41.797022Z",
     "iopub.status.idle": "2022-08-15T00:12:41.807119Z",
     "shell.execute_reply": "2022-08-15T00:12:41.806292Z"
    },
    "pycharm": {
     "name": "#%%\n"
    }
   },
   "outputs": [],
   "source": [
    "# needed for macos\n",
    "import platform\n",
    "if platform.system() == \"Darwin\": import multiprocessing;multiprocessing.set_start_method(\"fork\")\n"
   ]
  },
  {
   "cell_type": "code",
   "execution_count": 2,
   "metadata": {
    "collapsed": false,
    "execution": {
     "iopub.execute_input": "2022-08-15T00:12:41.811307Z",
     "iopub.status.busy": "2022-08-15T00:12:41.810864Z",
     "iopub.status.idle": "2022-08-15T00:12:43.321991Z",
     "shell.execute_reply": "2022-08-15T00:12:43.321188Z"
    },
    "pycharm": {
     "name": "#%%\n"
    }
   },
   "outputs": [],
   "source": [
    "from xopt import Xopt, Evaluator, Generator, VOCS\n",
    "from xopt.generators.random import RandomGenerator\n",
    "\n",
    "from time import sleep\n",
    "from numpy.random import randint\n",
    "\n",
    "from typing import Dict\n",
    "\n",
    "import numpy as np\n",
    "np.random.seed(666) # for reproducibility"
   ]
  },
  {
   "cell_type": "markdown",
   "metadata": {},
   "source": [
    "Define a custom function `f(inputs: Dict) -> outputs: Dict`. "
   ]
  },
  {
   "cell_type": "code",
   "execution_count": 3,
   "metadata": {
    "execution": {
     "iopub.execute_input": "2022-08-15T00:12:43.326607Z",
     "iopub.status.busy": "2022-08-15T00:12:43.326024Z",
     "iopub.status.idle": "2022-08-15T00:12:43.331664Z",
     "shell.execute_reply": "2022-08-15T00:12:43.330389Z"
    }
   },
   "outputs": [],
   "source": [
    "def f(inputs: Dict) -> Dict:\n",
    "\n",
    "    sleep(randint(1, 5)*.1)  # simulate computation time\n",
    "    # Make some occasional errors\n",
    "    if inputs[\"x\"] > 0.8:\n",
    "        raise ValueError(\"x > 0.8\")\n",
    "\n",
    "    return {\"f1\": inputs[\"x\"] ** 2 + inputs[\"y\"] ** 2}"
   ]
  },
  {
   "cell_type": "markdown",
   "metadata": {},
   "source": [
    "Define variables, objectives, constraints, and other settings (VOCS)"
   ]
  },
  {
   "cell_type": "code",
   "execution_count": 4,
   "metadata": {
    "collapsed": false,
    "execution": {
     "iopub.execute_input": "2022-08-15T00:12:43.335546Z",
     "iopub.status.busy": "2022-08-15T00:12:43.335250Z",
     "iopub.status.idle": "2022-08-15T00:12:43.346044Z",
     "shell.execute_reply": "2022-08-15T00:12:43.345229Z"
    },
    "pycharm": {
     "name": "#%%\n"
    }
   },
   "outputs": [
    {
     "data": {
      "text/plain": [
       "VOCS(variables={'x': [0.0, 1.0], 'y': [0.0, 1.0]}, constraints={}, objectives={'f1': 'MINIMIZE'}, constants={}, linked_variables={})"
      ]
     },
     "execution_count": 4,
     "metadata": {},
     "output_type": "execute_result"
    }
   ],
   "source": [
    "vocs = VOCS(variables={\"x\": [0, 1], \"y\": [0, 1]}, objectives={\"f1\": \"MINIMIZE\"})\n",
    "vocs\n",
    "\n"
   ]
  },
  {
   "cell_type": "markdown",
   "metadata": {},
   "source": [
    "This can be used to make some random inputs for evaluating the function. "
   ]
  },
  {
   "cell_type": "code",
   "execution_count": 5,
   "metadata": {
    "execution": {
     "iopub.execute_input": "2022-08-15T00:12:43.395352Z",
     "iopub.status.busy": "2022-08-15T00:12:43.394737Z",
     "iopub.status.idle": "2022-08-15T00:12:43.701164Z",
     "shell.execute_reply": "2022-08-15T00:12:43.700113Z"
    }
   },
   "outputs": [
    {
     "data": {
      "text/plain": [
       "{'f1': 0.11401572022703582}"
      ]
     },
     "execution_count": 5,
     "metadata": {},
     "output_type": "execute_result"
    }
   ],
   "source": [
    "in1 = vocs.random_inputs()\n",
    "\n",
    "f(in1)"
   ]
  },
  {
   "cell_type": "code",
   "execution_count": 6,
   "metadata": {
    "execution": {
     "iopub.execute_input": "2022-08-15T00:12:43.705936Z",
     "iopub.status.busy": "2022-08-15T00:12:43.705365Z",
     "iopub.status.idle": "2022-08-15T00:12:44.011749Z",
     "shell.execute_reply": "2022-08-15T00:12:44.010604Z"
    }
   },
   "outputs": [
    {
     "name": "stdout",
     "output_type": "stream",
     "text": [
      "Caught error in f: x > 0.8\n"
     ]
    }
   ],
   "source": [
    "# Add in occasional errors. \n",
    "try:\n",
    "    f({\"x\": 1, \"y\": 0})\n",
    "except Exception as ex:\n",
    "    print(f\"Caught error in f: {ex}\")"
   ]
  },
  {
   "cell_type": "code",
   "execution_count": 7,
   "metadata": {
    "collapsed": false,
    "execution": {
     "iopub.execute_input": "2022-08-15T00:12:44.016234Z",
     "iopub.status.busy": "2022-08-15T00:12:44.015702Z",
     "iopub.status.idle": "2022-08-15T00:12:45.045299Z",
     "shell.execute_reply": "2022-08-15T00:12:45.044305Z"
    },
    "pycharm": {
     "name": "#%%\n"
    }
   },
   "outputs": [
    {
     "name": "stderr",
     "output_type": "stream",
     "text": [
      "/tmp/ipykernel_2788/2430900159.py:1: DeprecationWarning: `copy_on_model_validation` should be a string: 'deep', 'shallow' or 'none'\n",
      "  X = Xopt(generator=RandomGenerator(vocs), evaluator=Evaluator(function=f), vocs=vocs)\n"
     ]
    },
    {
     "data": {
      "text/html": [
       "<div>\n",
       "<style scoped>\n",
       "    .dataframe tbody tr th:only-of-type {\n",
       "        vertical-align: middle;\n",
       "    }\n",
       "\n",
       "    .dataframe tbody tr th {\n",
       "        vertical-align: top;\n",
       "    }\n",
       "\n",
       "    .dataframe thead th {\n",
       "        text-align: right;\n",
       "    }\n",
       "</style>\n",
       "<table border=\"1\" class=\"dataframe\">\n",
       "  <thead>\n",
       "    <tr style=\"text-align: right;\">\n",
       "      <th></th>\n",
       "      <th>x</th>\n",
       "      <th>y</th>\n",
       "    </tr>\n",
       "  </thead>\n",
       "  <tbody>\n",
       "  </tbody>\n",
       "</table>\n",
       "</div>"
      ],
      "text/plain": [
       "Empty DataFrame\n",
       "Columns: [x, y]\n",
       "Index: []"
      ]
     },
     "execution_count": 7,
     "metadata": {},
     "output_type": "execute_result"
    }
   ],
   "source": [
    "X = Xopt(generator=RandomGenerator(vocs), evaluator=Evaluator(function=f), vocs=vocs)\n",
    "\n",
    "# Submit to the evaluator some new inputs\n",
    "X.submit_data(vocs.random_inputs(4))\n",
    "\n",
    "# Unevaluated inputs are collected in a dataframe\n",
    "X._input_data"
   ]
  },
  {
   "cell_type": "code",
   "execution_count": 8,
   "metadata": {
    "collapsed": false,
    "execution": {
     "iopub.execute_input": "2022-08-15T00:12:45.049447Z",
     "iopub.status.busy": "2022-08-15T00:12:45.049150Z",
     "iopub.status.idle": "2022-08-15T00:12:45.054205Z",
     "shell.execute_reply": "2022-08-15T00:12:45.053443Z"
    },
    "pycharm": {
     "name": "#%%\n"
    }
   },
   "outputs": [
    {
     "data": {
      "text/plain": [
       "{}"
      ]
     },
     "execution_count": 8,
     "metadata": {},
     "output_type": "execute_result"
    }
   ],
   "source": [
    "# Internal futures dictionary\n",
    "X._futures"
   ]
  },
  {
   "cell_type": "code",
   "execution_count": 9,
   "metadata": {
    "collapsed": false,
    "execution": {
     "iopub.execute_input": "2022-08-15T00:12:45.057900Z",
     "iopub.status.busy": "2022-08-15T00:12:45.057160Z",
     "iopub.status.idle": "2022-08-15T00:12:45.071137Z",
     "shell.execute_reply": "2022-08-15T00:12:45.070039Z"
    },
    "pycharm": {
     "name": "#%%\n"
    }
   },
   "outputs": [
    {
     "data": {
      "text/html": [
       "<div>\n",
       "<style scoped>\n",
       "    .dataframe tbody tr th:only-of-type {\n",
       "        vertical-align: middle;\n",
       "    }\n",
       "\n",
       "    .dataframe tbody tr th {\n",
       "        vertical-align: top;\n",
       "    }\n",
       "\n",
       "    .dataframe thead th {\n",
       "        text-align: right;\n",
       "    }\n",
       "</style>\n",
       "<table border=\"1\" class=\"dataframe\">\n",
       "  <thead>\n",
       "    <tr style=\"text-align: right;\">\n",
       "      <th></th>\n",
       "      <th>x</th>\n",
       "      <th>y</th>\n",
       "      <th>f1</th>\n",
       "      <th>xopt_error</th>\n",
       "      <th>xopt_error_str</th>\n",
       "    </tr>\n",
       "  </thead>\n",
       "  <tbody>\n",
       "    <tr>\n",
       "      <th>1</th>\n",
       "      <td>0.272142</td>\n",
       "      <td>0.951187</td>\n",
       "      <td>0.978818</td>\n",
       "      <td>False</td>\n",
       "      <td></td>\n",
       "    </tr>\n",
       "    <tr>\n",
       "      <th>2</th>\n",
       "      <td>0.048542</td>\n",
       "      <td>0.900071</td>\n",
       "      <td>0.812485</td>\n",
       "      <td>False</td>\n",
       "      <td></td>\n",
       "    </tr>\n",
       "    <tr>\n",
       "      <th>3</th>\n",
       "      <td>0.987297</td>\n",
       "      <td>0.491934</td>\n",
       "      <td>NaN</td>\n",
       "      <td>True</td>\n",
       "      <td>Traceback (most recent call last):\\n  File \"/u...</td>\n",
       "    </tr>\n",
       "    <tr>\n",
       "      <th>4</th>\n",
       "      <td>0.586412</td>\n",
       "      <td>0.799752</td>\n",
       "      <td>0.983483</td>\n",
       "      <td>False</td>\n",
       "      <td></td>\n",
       "    </tr>\n",
       "  </tbody>\n",
       "</table>\n",
       "</div>"
      ],
      "text/plain": [
       "          x         y        f1 xopt_error  \\\n",
       "1  0.272142  0.951187  0.978818      False   \n",
       "2  0.048542  0.900071  0.812485      False   \n",
       "3  0.987297  0.491934       NaN       True   \n",
       "4  0.586412  0.799752  0.983483      False   \n",
       "\n",
       "                                      xopt_error_str  \n",
       "1                                                     \n",
       "2                                                     \n",
       "3  Traceback (most recent call last):\\n  File \"/u...  \n",
       "4                                                     "
      ]
     },
     "execution_count": 9,
     "metadata": {},
     "output_type": "execute_result"
    }
   ],
   "source": [
    "# Collect all finished futures and updata dataframe\n",
    "X.update_data()\n",
    "X.data"
   ]
  },
  {
   "cell_type": "code",
   "execution_count": 10,
   "metadata": {
    "collapsed": false,
    "execution": {
     "iopub.execute_input": "2022-08-15T00:12:45.075656Z",
     "iopub.status.busy": "2022-08-15T00:12:45.075382Z",
     "iopub.status.idle": "2022-08-15T00:12:45.081148Z",
     "shell.execute_reply": "2022-08-15T00:12:45.080341Z"
    },
    "pycharm": {
     "name": "#%%\n"
    }
   },
   "outputs": [
    {
     "data": {
      "text/plain": [
       "{}"
      ]
     },
     "execution_count": 10,
     "metadata": {},
     "output_type": "execute_result"
    }
   ],
   "source": [
    "# Futures are now cleared out\n",
    "X._futures"
   ]
  },
  {
   "cell_type": "code",
   "execution_count": 11,
   "metadata": {
    "collapsed": false,
    "execution": {
     "iopub.execute_input": "2022-08-15T00:12:45.085624Z",
     "iopub.status.busy": "2022-08-15T00:12:45.085365Z",
     "iopub.status.idle": "2022-08-15T00:12:45.089688Z",
     "shell.execute_reply": "2022-08-15T00:12:45.088981Z"
    },
    "pycharm": {
     "name": "#%%\n"
    }
   },
   "outputs": [
    {
     "data": {
      "text/plain": [
       "4"
      ]
     },
     "execution_count": 11,
     "metadata": {},
     "output_type": "execute_result"
    }
   ],
   "source": [
    "# This is the internal counter\n",
    "X._ix_last"
   ]
  },
  {
   "cell_type": "code",
   "execution_count": 12,
   "metadata": {
    "collapsed": false,
    "execution": {
     "iopub.execute_input": "2022-08-15T00:12:45.094527Z",
     "iopub.status.busy": "2022-08-15T00:12:45.094262Z",
     "iopub.status.idle": "2022-08-15T00:12:45.807435Z",
     "shell.execute_reply": "2022-08-15T00:12:45.806640Z"
    },
    "pycharm": {
     "name": "#%%\n"
    }
   },
   "outputs": [
    {
     "data": {
      "text/html": [
       "<div>\n",
       "<style scoped>\n",
       "    .dataframe tbody tr th:only-of-type {\n",
       "        vertical-align: middle;\n",
       "    }\n",
       "\n",
       "    .dataframe tbody tr th {\n",
       "        vertical-align: top;\n",
       "    }\n",
       "\n",
       "    .dataframe thead th {\n",
       "        text-align: right;\n",
       "    }\n",
       "</style>\n",
       "<table border=\"1\" class=\"dataframe\">\n",
       "  <thead>\n",
       "    <tr style=\"text-align: right;\">\n",
       "      <th></th>\n",
       "      <th>x</th>\n",
       "      <th>y</th>\n",
       "    </tr>\n",
       "  </thead>\n",
       "  <tbody>\n",
       "  </tbody>\n",
       "</table>\n",
       "</div>"
      ],
      "text/plain": [
       "Empty DataFrame\n",
       "Columns: [x, y]\n",
       "Index: []"
      ]
     },
     "execution_count": 12,
     "metadata": {},
     "output_type": "execute_result"
    }
   ],
   "source": [
    "X.submit_data(vocs.random_inputs(4))\n",
    "X._input_data"
   ]
  },
  {
   "cell_type": "code",
   "execution_count": 13,
   "metadata": {
    "collapsed": false,
    "execution": {
     "iopub.execute_input": "2022-08-15T00:12:45.811246Z",
     "iopub.status.busy": "2022-08-15T00:12:45.810755Z",
     "iopub.status.idle": "2022-08-15T00:12:45.816428Z",
     "shell.execute_reply": "2022-08-15T00:12:45.815534Z"
    },
    "pycharm": {
     "name": "#%%\n"
    }
   },
   "outputs": [
    {
     "data": {
      "text/plain": [
       "{}"
      ]
     },
     "execution_count": 13,
     "metadata": {},
     "output_type": "execute_result"
    }
   ],
   "source": [
    "X._futures"
   ]
  },
  {
   "cell_type": "code",
   "execution_count": 14,
   "metadata": {
    "collapsed": false,
    "execution": {
     "iopub.execute_input": "2022-08-15T00:12:45.820142Z",
     "iopub.status.busy": "2022-08-15T00:12:45.819918Z",
     "iopub.status.idle": "2022-08-15T00:12:46.040546Z",
     "shell.execute_reply": "2022-08-15T00:12:46.039621Z"
    },
    "pycharm": {
     "name": "#%%\n"
    }
   },
   "outputs": [
    {
     "data": {
      "text/html": [
       "<div>\n",
       "<style scoped>\n",
       "    .dataframe tbody tr th:only-of-type {\n",
       "        vertical-align: middle;\n",
       "    }\n",
       "\n",
       "    .dataframe tbody tr th {\n",
       "        vertical-align: top;\n",
       "    }\n",
       "\n",
       "    .dataframe thead th {\n",
       "        text-align: right;\n",
       "    }\n",
       "</style>\n",
       "<table border=\"1\" class=\"dataframe\">\n",
       "  <thead>\n",
       "    <tr style=\"text-align: right;\">\n",
       "      <th></th>\n",
       "      <th>x</th>\n",
       "      <th>y</th>\n",
       "      <th>f1</th>\n",
       "      <th>xopt_error</th>\n",
       "      <th>xopt_error_str</th>\n",
       "    </tr>\n",
       "  </thead>\n",
       "  <tbody>\n",
       "    <tr>\n",
       "      <th>1</th>\n",
       "      <td>0.272142</td>\n",
       "      <td>0.951187</td>\n",
       "      <td>0.978818</td>\n",
       "      <td>False</td>\n",
       "      <td></td>\n",
       "    </tr>\n",
       "    <tr>\n",
       "      <th>2</th>\n",
       "      <td>0.048542</td>\n",
       "      <td>0.900071</td>\n",
       "      <td>0.812485</td>\n",
       "      <td>False</td>\n",
       "      <td></td>\n",
       "    </tr>\n",
       "    <tr>\n",
       "      <th>3</th>\n",
       "      <td>0.987297</td>\n",
       "      <td>0.491934</td>\n",
       "      <td>NaN</td>\n",
       "      <td>True</td>\n",
       "      <td>Traceback (most recent call last):\\n  File \"/u...</td>\n",
       "    </tr>\n",
       "    <tr>\n",
       "      <th>4</th>\n",
       "      <td>0.586412</td>\n",
       "      <td>0.799752</td>\n",
       "      <td>0.983483</td>\n",
       "      <td>False</td>\n",
       "      <td></td>\n",
       "    </tr>\n",
       "    <tr>\n",
       "      <th>5</th>\n",
       "      <td>0.299155</td>\n",
       "      <td>0.887142</td>\n",
       "      <td>0.876515</td>\n",
       "      <td>False</td>\n",
       "      <td></td>\n",
       "    </tr>\n",
       "    <tr>\n",
       "      <th>6</th>\n",
       "      <td>0.706772</td>\n",
       "      <td>0.889046</td>\n",
       "      <td>1.289930</td>\n",
       "      <td>False</td>\n",
       "      <td></td>\n",
       "    </tr>\n",
       "    <tr>\n",
       "      <th>7</th>\n",
       "      <td>0.225521</td>\n",
       "      <td>0.752332</td>\n",
       "      <td>0.616863</td>\n",
       "      <td>False</td>\n",
       "      <td></td>\n",
       "    </tr>\n",
       "    <tr>\n",
       "      <th>8</th>\n",
       "      <td>0.994891</td>\n",
       "      <td>0.976764</td>\n",
       "      <td>NaN</td>\n",
       "      <td>True</td>\n",
       "      <td>Traceback (most recent call last):\\n  File \"/u...</td>\n",
       "    </tr>\n",
       "    <tr>\n",
       "      <th>9</th>\n",
       "      <td>0.802497</td>\n",
       "      <td>0.090820</td>\n",
       "      <td>NaN</td>\n",
       "      <td>True</td>\n",
       "      <td>Traceback (most recent call last):\\n  File \"/u...</td>\n",
       "    </tr>\n",
       "  </tbody>\n",
       "</table>\n",
       "</div>"
      ],
      "text/plain": [
       "          x         y        f1 xopt_error  \\\n",
       "1  0.272142  0.951187  0.978818      False   \n",
       "2  0.048542  0.900071  0.812485      False   \n",
       "3  0.987297  0.491934       NaN       True   \n",
       "4  0.586412  0.799752  0.983483      False   \n",
       "5  0.299155  0.887142  0.876515      False   \n",
       "6  0.706772  0.889046  1.289930      False   \n",
       "7  0.225521  0.752332  0.616863      False   \n",
       "8  0.994891  0.976764       NaN       True   \n",
       "9  0.802497  0.090820       NaN       True   \n",
       "\n",
       "                                      xopt_error_str  \n",
       "1                                                     \n",
       "2                                                     \n",
       "3  Traceback (most recent call last):\\n  File \"/u...  \n",
       "4                                                     \n",
       "5                                                     \n",
       "6                                                     \n",
       "7                                                     \n",
       "8  Traceback (most recent call last):\\n  File \"/u...  \n",
       "9  Traceback (most recent call last):\\n  File \"/u...  "
      ]
     },
     "execution_count": 14,
     "metadata": {},
     "output_type": "execute_result"
    }
   ],
   "source": [
    "# Singe generation step\n",
    "X.step()\n",
    "X.update_data()\n",
    "X.data"
   ]
  },
  {
   "cell_type": "markdown",
   "metadata": {
    "collapsed": false,
    "pycharm": {
     "name": "#%% md\n"
    }
   },
   "source": [
    "# Executors"
   ]
  },
  {
   "cell_type": "code",
   "execution_count": 15,
   "metadata": {
    "collapsed": false,
    "execution": {
     "iopub.execute_input": "2022-08-15T00:12:46.044974Z",
     "iopub.status.busy": "2022-08-15T00:12:46.044655Z",
     "iopub.status.idle": "2022-08-15T00:12:46.048746Z",
     "shell.execute_reply": "2022-08-15T00:12:46.047678Z"
    },
    "pycharm": {
     "name": "#%%\n"
    }
   },
   "outputs": [],
   "source": [
    "from concurrent.futures import ThreadPoolExecutor, ProcessPoolExecutor"
   ]
  },
  {
   "cell_type": "code",
   "execution_count": 16,
   "metadata": {
    "collapsed": false,
    "execution": {
     "iopub.execute_input": "2022-08-15T00:12:46.053613Z",
     "iopub.status.busy": "2022-08-15T00:12:46.053040Z",
     "iopub.status.idle": "2022-08-15T00:12:46.057617Z",
     "shell.execute_reply": "2022-08-15T00:12:46.056688Z"
    },
    "pycharm": {
     "name": "#%%\n"
    }
   },
   "outputs": [],
   "source": [
    "MAX_WORKERS = 10"
   ]
  },
  {
   "cell_type": "code",
   "execution_count": 17,
   "metadata": {
    "collapsed": false,
    "execution": {
     "iopub.execute_input": "2022-08-15T00:12:46.062705Z",
     "iopub.status.busy": "2022-08-15T00:12:46.062404Z",
     "iopub.status.idle": "2022-08-15T00:12:46.066426Z",
     "shell.execute_reply": "2022-08-15T00:12:46.065572Z"
    },
    "pycharm": {
     "name": "#%%\n"
    }
   },
   "outputs": [],
   "source": [
    "# Dask\n",
    "# from dask.distributed import Client\n",
    "# import logging\n",
    "# client = Client( silence_logs=logging.ERROR)\n",
    "# executor = client.get_executor()\n",
    "# client"
   ]
  },
  {
   "cell_type": "code",
   "execution_count": 18,
   "metadata": {
    "collapsed": false,
    "execution": {
     "iopub.execute_input": "2022-08-15T00:12:46.070945Z",
     "iopub.status.busy": "2022-08-15T00:12:46.070042Z",
     "iopub.status.idle": "2022-08-15T00:12:46.078472Z",
     "shell.execute_reply": "2022-08-15T00:12:46.077687Z"
    },
    "pycharm": {
     "name": "#%%\n"
    }
   },
   "outputs": [
    {
     "data": {
      "text/plain": [
       "<concurrent.futures.process.ProcessPoolExecutor at 0x7f560c314130>"
      ]
     },
     "execution_count": 18,
     "metadata": {},
     "output_type": "execute_result"
    }
   ],
   "source": [
    "executor = ProcessPoolExecutor(max_workers=MAX_WORKERS)\n",
    "executor"
   ]
  },
  {
   "cell_type": "code",
   "execution_count": 19,
   "metadata": {
    "collapsed": false,
    "execution": {
     "iopub.execute_input": "2022-08-15T00:12:46.081845Z",
     "iopub.status.busy": "2022-08-15T00:12:46.081528Z",
     "iopub.status.idle": "2022-08-15T00:12:46.096008Z",
     "shell.execute_reply": "2022-08-15T00:12:46.095004Z"
    },
    "pycharm": {
     "name": "#%%\n"
    }
   },
   "outputs": [
    {
     "name": "stderr",
     "output_type": "stream",
     "text": [
      "/tmp/ipykernel_2788/1397093078.py:3: DeprecationWarning: `copy_on_model_validation` should be a string: 'deep', 'shallow' or 'none'\n",
      "  evaluator=Evaluator(function=f, executor=executor, max_workers=MAX_WORKERS),\n"
     ]
    }
   ],
   "source": [
    "X2 = Xopt(\n",
    "    generator=RandomGenerator(vocs),\n",
    "    evaluator=Evaluator(function=f, executor=executor, max_workers=MAX_WORKERS),\n",
    "    vocs=vocs,\n",
    ")\n",
    "X2.options.asynch = True"
   ]
  },
  {
   "cell_type": "code",
   "execution_count": 20,
   "metadata": {
    "collapsed": false,
    "execution": {
     "iopub.execute_input": "2022-08-15T00:12:46.099778Z",
     "iopub.status.busy": "2022-08-15T00:12:46.099345Z",
     "iopub.status.idle": "2022-08-15T00:12:47.239269Z",
     "shell.execute_reply": "2022-08-15T00:12:47.235786Z"
    },
    "pycharm": {
     "name": "#%%\n"
    }
   },
   "outputs": [],
   "source": [
    "for _ in range(20):\n",
    "    X2.step()"
   ]
  },
  {
   "cell_type": "code",
   "execution_count": 21,
   "metadata": {
    "collapsed": false,
    "execution": {
     "iopub.execute_input": "2022-08-15T00:12:47.245445Z",
     "iopub.status.busy": "2022-08-15T00:12:47.245095Z",
     "iopub.status.idle": "2022-08-15T00:12:48.209776Z",
     "shell.execute_reply": "2022-08-15T00:12:48.209024Z"
    },
    "pycharm": {
     "name": "#%%\n"
    }
   },
   "outputs": [
    {
     "data": {
      "text/plain": [
       "<AxesSubplot:xlabel='x', ylabel='y'>"
      ]
     },
     "execution_count": 21,
     "metadata": {},
     "output_type": "execute_result"
    },
    {
     "data": {
      "image/png": "[encoded data removed]",
      "text/plain": [
       "<Figure size 432x288 with 1 Axes>"
      ]
     },
     "metadata": {
      "needs_background": "light"
     },
     "output_type": "display_data"
    }
   ],
   "source": [
    "X2.data.plot.scatter(\"x\", \"y\")"
   ]
  },
  {
   "cell_type": "code",
   "execution_count": 22,
   "metadata": {
    "collapsed": false,
    "execution": {
     "iopub.execute_input": "2022-08-15T00:12:48.214038Z",
     "iopub.status.busy": "2022-08-15T00:12:48.213660Z",
     "iopub.status.idle": "2022-08-15T00:12:48.229456Z",
     "shell.execute_reply": "2022-08-15T00:12:48.228625Z"
    },
    "pycharm": {
     "name": "#%%\n"
    }
   },
   "outputs": [
    {
     "data": {
      "text/html": [
       "<div>\n",
       "<style scoped>\n",
       "    .dataframe tbody tr th:only-of-type {\n",
       "        vertical-align: middle;\n",
       "    }\n",
       "\n",
       "    .dataframe tbody tr th {\n",
       "        vertical-align: top;\n",
       "    }\n",
       "\n",
       "    .dataframe thead th {\n",
       "        text-align: right;\n",
       "    }\n",
       "</style>\n",
       "<table border=\"1\" class=\"dataframe\">\n",
       "  <thead>\n",
       "    <tr style=\"text-align: right;\">\n",
       "      <th></th>\n",
       "      <th>x</th>\n",
       "      <th>y</th>\n",
       "      <th>f1</th>\n",
       "      <th>xopt_error</th>\n",
       "      <th>xopt_error_str</th>\n",
       "    </tr>\n",
       "  </thead>\n",
       "  <tbody>\n",
       "    <tr>\n",
       "      <th>1</th>\n",
       "      <td>0.475619</td>\n",
       "      <td>0.127120</td>\n",
       "      <td>0.242373</td>\n",
       "      <td>False</td>\n",
       "      <td></td>\n",
       "    </tr>\n",
       "    <tr>\n",
       "      <th>2</th>\n",
       "      <td>0.057461</td>\n",
       "      <td>0.478903</td>\n",
       "      <td>0.232650</td>\n",
       "      <td>False</td>\n",
       "      <td></td>\n",
       "    </tr>\n",
       "    <tr>\n",
       "      <th>3</th>\n",
       "      <td>0.925261</td>\n",
       "      <td>0.249796</td>\n",
       "      <td>NaN</td>\n",
       "      <td>True</td>\n",
       "      <td>concurrent.futures.process._RemoteTraceback: \\...</td>\n",
       "    </tr>\n",
       "    <tr>\n",
       "      <th>4</th>\n",
       "      <td>0.723537</td>\n",
       "      <td>0.670598</td>\n",
       "      <td>0.973208</td>\n",
       "      <td>False</td>\n",
       "      <td></td>\n",
       "    </tr>\n",
       "    <tr>\n",
       "      <th>5</th>\n",
       "      <td>0.532415</td>\n",
       "      <td>0.708698</td>\n",
       "      <td>0.785718</td>\n",
       "      <td>False</td>\n",
       "      <td></td>\n",
       "    </tr>\n",
       "    <tr>\n",
       "      <th>6</th>\n",
       "      <td>0.684185</td>\n",
       "      <td>0.998964</td>\n",
       "      <td>1.466037</td>\n",
       "      <td>False</td>\n",
       "      <td></td>\n",
       "    </tr>\n",
       "    <tr>\n",
       "      <th>7</th>\n",
       "      <td>0.609837</td>\n",
       "      <td>0.363820</td>\n",
       "      <td>0.504267</td>\n",
       "      <td>False</td>\n",
       "      <td></td>\n",
       "    </tr>\n",
       "    <tr>\n",
       "      <th>8</th>\n",
       "      <td>0.731670</td>\n",
       "      <td>0.020664</td>\n",
       "      <td>0.535768</td>\n",
       "      <td>False</td>\n",
       "      <td></td>\n",
       "    </tr>\n",
       "    <tr>\n",
       "      <th>9</th>\n",
       "      <td>0.246336</td>\n",
       "      <td>0.087637</td>\n",
       "      <td>0.068362</td>\n",
       "      <td>False</td>\n",
       "      <td></td>\n",
       "    </tr>\n",
       "    <tr>\n",
       "      <th>10</th>\n",
       "      <td>0.333263</td>\n",
       "      <td>0.600748</td>\n",
       "      <td>0.471962</td>\n",
       "      <td>False</td>\n",
       "      <td></td>\n",
       "    </tr>\n",
       "    <tr>\n",
       "      <th>11</th>\n",
       "      <td>0.596771</td>\n",
       "      <td>0.665451</td>\n",
       "      <td>0.798960</td>\n",
       "      <td>False</td>\n",
       "      <td></td>\n",
       "    </tr>\n",
       "    <tr>\n",
       "      <th>13</th>\n",
       "      <td>0.031670</td>\n",
       "      <td>0.422266</td>\n",
       "      <td>0.179312</td>\n",
       "      <td>False</td>\n",
       "      <td></td>\n",
       "    </tr>\n",
       "    <tr>\n",
       "      <th>12</th>\n",
       "      <td>0.276934</td>\n",
       "      <td>0.429563</td>\n",
       "      <td>0.261217</td>\n",
       "      <td>False</td>\n",
       "      <td></td>\n",
       "    </tr>\n",
       "    <tr>\n",
       "      <th>14</th>\n",
       "      <td>0.132335</td>\n",
       "      <td>0.107252</td>\n",
       "      <td>0.029015</td>\n",
       "      <td>False</td>\n",
       "      <td></td>\n",
       "    </tr>\n",
       "    <tr>\n",
       "      <th>15</th>\n",
       "      <td>0.208765</td>\n",
       "      <td>0.878615</td>\n",
       "      <td>0.815546</td>\n",
       "      <td>False</td>\n",
       "      <td></td>\n",
       "    </tr>\n",
       "    <tr>\n",
       "      <th>16</th>\n",
       "      <td>0.555539</td>\n",
       "      <td>0.339161</td>\n",
       "      <td>0.423654</td>\n",
       "      <td>False</td>\n",
       "      <td></td>\n",
       "    </tr>\n",
       "    <tr>\n",
       "      <th>17</th>\n",
       "      <td>0.043808</td>\n",
       "      <td>0.835407</td>\n",
       "      <td>0.699825</td>\n",
       "      <td>False</td>\n",
       "      <td></td>\n",
       "    </tr>\n",
       "    <tr>\n",
       "      <th>20</th>\n",
       "      <td>0.757285</td>\n",
       "      <td>0.139856</td>\n",
       "      <td>0.593041</td>\n",
       "      <td>False</td>\n",
       "      <td></td>\n",
       "    </tr>\n",
       "    <tr>\n",
       "      <th>18</th>\n",
       "      <td>0.266466</td>\n",
       "      <td>0.905642</td>\n",
       "      <td>0.891191</td>\n",
       "      <td>False</td>\n",
       "      <td></td>\n",
       "    </tr>\n",
       "    <tr>\n",
       "      <th>19</th>\n",
       "      <td>0.287898</td>\n",
       "      <td>0.412386</td>\n",
       "      <td>0.252947</td>\n",
       "      <td>False</td>\n",
       "      <td></td>\n",
       "    </tr>\n",
       "    <tr>\n",
       "      <th>21</th>\n",
       "      <td>0.170630</td>\n",
       "      <td>0.349082</td>\n",
       "      <td>0.150973</td>\n",
       "      <td>False</td>\n",
       "      <td></td>\n",
       "    </tr>\n",
       "    <tr>\n",
       "      <th>22</th>\n",
       "      <td>0.481673</td>\n",
       "      <td>0.996450</td>\n",
       "      <td>1.224920</td>\n",
       "      <td>False</td>\n",
       "      <td></td>\n",
       "    </tr>\n",
       "    <tr>\n",
       "      <th>23</th>\n",
       "      <td>0.196908</td>\n",
       "      <td>0.810641</td>\n",
       "      <td>0.695912</td>\n",
       "      <td>False</td>\n",
       "      <td></td>\n",
       "    </tr>\n",
       "    <tr>\n",
       "      <th>24</th>\n",
       "      <td>0.640671</td>\n",
       "      <td>0.869150</td>\n",
       "      <td>1.165881</td>\n",
       "      <td>False</td>\n",
       "      <td></td>\n",
       "    </tr>\n",
       "    <tr>\n",
       "      <th>25</th>\n",
       "      <td>0.579855</td>\n",
       "      <td>0.242342</td>\n",
       "      <td>0.394961</td>\n",
       "      <td>False</td>\n",
       "      <td></td>\n",
       "    </tr>\n",
       "    <tr>\n",
       "      <th>26</th>\n",
       "      <td>0.797356</td>\n",
       "      <td>0.658418</td>\n",
       "      <td>1.069292</td>\n",
       "      <td>False</td>\n",
       "      <td></td>\n",
       "    </tr>\n",
       "    <tr>\n",
       "      <th>27</th>\n",
       "      <td>0.367202</td>\n",
       "      <td>0.478615</td>\n",
       "      <td>0.363910</td>\n",
       "      <td>False</td>\n",
       "      <td></td>\n",
       "    </tr>\n",
       "    <tr>\n",
       "      <th>28</th>\n",
       "      <td>0.116977</td>\n",
       "      <td>0.550858</td>\n",
       "      <td>0.317128</td>\n",
       "      <td>False</td>\n",
       "      <td></td>\n",
       "    </tr>\n",
       "    <tr>\n",
       "      <th>29</th>\n",
       "      <td>0.760978</td>\n",
       "      <td>0.669859</td>\n",
       "      <td>1.027798</td>\n",
       "      <td>False</td>\n",
       "      <td></td>\n",
       "    </tr>\n",
       "    <tr>\n",
       "      <th>30</th>\n",
       "      <td>0.733491</td>\n",
       "      <td>0.202318</td>\n",
       "      <td>0.578941</td>\n",
       "      <td>False</td>\n",
       "      <td></td>\n",
       "    </tr>\n",
       "    <tr>\n",
       "      <th>31</th>\n",
       "      <td>0.944483</td>\n",
       "      <td>0.870193</td>\n",
       "      <td>NaN</td>\n",
       "      <td>True</td>\n",
       "      <td>concurrent.futures.process._RemoteTraceback: \\...</td>\n",
       "    </tr>\n",
       "    <tr>\n",
       "      <th>32</th>\n",
       "      <td>0.177374</td>\n",
       "      <td>0.639232</td>\n",
       "      <td>0.440079</td>\n",
       "      <td>False</td>\n",
       "      <td></td>\n",
       "    </tr>\n",
       "    <tr>\n",
       "      <th>33</th>\n",
       "      <td>0.430299</td>\n",
       "      <td>0.169767</td>\n",
       "      <td>0.213978</td>\n",
       "      <td>False</td>\n",
       "      <td></td>\n",
       "    </tr>\n",
       "    <tr>\n",
       "      <th>34</th>\n",
       "      <td>0.552324</td>\n",
       "      <td>0.438846</td>\n",
       "      <td>0.497647</td>\n",
       "      <td>False</td>\n",
       "      <td></td>\n",
       "    </tr>\n",
       "    <tr>\n",
       "      <th>35</th>\n",
       "      <td>0.786717</td>\n",
       "      <td>0.283422</td>\n",
       "      <td>0.699252</td>\n",
       "      <td>False</td>\n",
       "      <td></td>\n",
       "    </tr>\n",
       "    <tr>\n",
       "      <th>36</th>\n",
       "      <td>0.250679</td>\n",
       "      <td>0.413752</td>\n",
       "      <td>0.234031</td>\n",
       "      <td>False</td>\n",
       "      <td></td>\n",
       "    </tr>\n",
       "  </tbody>\n",
       "</table>\n",
       "</div>"
      ],
      "text/plain": [
       "           x         y        f1  xopt_error  \\\n",
       "1   0.475619  0.127120  0.242373       False   \n",
       "2   0.057461  0.478903  0.232650       False   \n",
       "3   0.925261  0.249796       NaN        True   \n",
       "4   0.723537  0.670598  0.973208       False   \n",
       "5   0.532415  0.708698  0.785718       False   \n",
       "6   0.684185  0.998964  1.466037       False   \n",
       "7   0.609837  0.363820  0.504267       False   \n",
       "8   0.731670  0.020664  0.535768       False   \n",
       "9   0.246336  0.087637  0.068362       False   \n",
       "10  0.333263  0.600748  0.471962       False   \n",
       "11  0.596771  0.665451  0.798960       False   \n",
       "13  0.031670  0.422266  0.179312       False   \n",
       "12  0.276934  0.429563  0.261217       False   \n",
       "14  0.132335  0.107252  0.029015       False   \n",
       "15  0.208765  0.878615  0.815546       False   \n",
       "16  0.555539  0.339161  0.423654       False   \n",
       "17  0.043808  0.835407  0.699825       False   \n",
       "20  0.757285  0.139856  0.593041       False   \n",
       "18  0.266466  0.905642  0.891191       False   \n",
       "19  0.287898  0.412386  0.252947       False   \n",
       "21  0.170630  0.349082  0.150973       False   \n",
       "22  0.481673  0.996450  1.224920       False   \n",
       "23  0.196908  0.810641  0.695912       False   \n",
       "24  0.640671  0.869150  1.165881       False   \n",
       "25  0.579855  0.242342  0.394961       False   \n",
       "26  0.797356  0.658418  1.069292       False   \n",
       "27  0.367202  0.478615  0.363910       False   \n",
       "28  0.116977  0.550858  0.317128       False   \n",
       "29  0.760978  0.669859  1.027798       False   \n",
       "30  0.733491  0.202318  0.578941       False   \n",
       "31  0.944483  0.870193       NaN        True   \n",
       "32  0.177374  0.639232  0.440079       False   \n",
       "33  0.430299  0.169767  0.213978       False   \n",
       "34  0.552324  0.438846  0.497647       False   \n",
       "35  0.786717  0.283422  0.699252       False   \n",
       "36  0.250679  0.413752  0.234031       False   \n",
       "\n",
       "                                       xopt_error_str  \n",
       "1                                                      \n",
       "2                                                      \n",
       "3   concurrent.futures.process._RemoteTraceback: \\...  \n",
       "4                                                      \n",
       "5                                                      \n",
       "6                                                      \n",
       "7                                                      \n",
       "8                                                      \n",
       "9                                                      \n",
       "10                                                     \n",
       "11                                                     \n",
       "13                                                     \n",
       "12                                                     \n",
       "14                                                     \n",
       "15                                                     \n",
       "16                                                     \n",
       "17                                                     \n",
       "20                                                     \n",
       "18                                                     \n",
       "19                                                     \n",
       "21                                                     \n",
       "22                                                     \n",
       "23                                                     \n",
       "24                                                     \n",
       "25                                                     \n",
       "26                                                     \n",
       "27                                                     \n",
       "28                                                     \n",
       "29                                                     \n",
       "30                                                     \n",
       "31  concurrent.futures.process._RemoteTraceback: \\...  \n",
       "32                                                     \n",
       "33                                                     \n",
       "34                                                     \n",
       "35                                                     \n",
       "36                                                     "
      ]
     },
     "execution_count": 22,
     "metadata": {},
     "output_type": "execute_result"
    }
   ],
   "source": [
    "X2.data"
   ]
  }
 ],
 "metadata": {
  "interpreter": {
   "hash": "60703f99bc9a1e465ed9e894ac1e8f256837fa55699b4912a7939def4ae95691"
  },
  "kernelspec": {
   "display_name": "Python 3.9.12 ('devel')",
   "language": "python",
   "name": "python3"
  },
  "language_info": {
   "codemirror_mode": {
    "name": "ipython",
    "version": 3
   },
   "file_extension": ".py",
   "mimetype": "text/x-python",
   "name": "python",
   "nbconvert_exporter": "python",
   "pygments_lexer": "ipython3",
   "version": "3.9.13"
  }
 },
 "nbformat": 4,
 "nbformat_minor": 2
}
