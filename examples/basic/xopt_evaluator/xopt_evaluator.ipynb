{
 "cells": [
  {
   "cell_type": "markdown",
   "metadata": {
    "pycharm": {
     "name": "#%% md\n"
    }
   },
   "source": []
  },
  {
   "cell_type": "markdown",
   "metadata": {
    "pycharm": {
     "name": "#%% md\n"
    }
   },
   "source": [
    "# Xopt Evaluator Basic Usage \n",
    "\n",
    "The `Evaluator` handles the execution of the user-provided `function` with optional `function_kwags`, asyncrhonously and parallel, with exception handling. "
   ]
  },
  {
   "cell_type": "code",
   "execution_count": 1,
   "metadata": {
    "collapsed": false,
    "execution": {
     "iopub.execute_input": "2022-08-19T20:41:54.580024Z",
     "iopub.status.busy": "2022-08-19T20:41:54.579456Z",
     "iopub.status.idle": "2022-08-19T20:41:54.588078Z",
     "shell.execute_reply": "2022-08-19T20:41:54.587500Z"
    },
    "pycharm": {
     "name": "#%%\n"
    }
   },
   "outputs": [],
   "source": [
    "# needed for macos\n",
    "import platform\n",
    "if platform.system() == \"Darwin\": import multiprocessing;multiprocessing.set_start_method(\"fork\")\n"
   ]
  },
  {
   "cell_type": "code",
   "execution_count": 2,
   "metadata": {
    "collapsed": false,
    "execution": {
     "iopub.execute_input": "2022-08-19T20:41:54.591140Z",
     "iopub.status.busy": "2022-08-19T20:41:54.590909Z",
     "iopub.status.idle": "2022-08-19T20:41:55.800385Z",
     "shell.execute_reply": "2022-08-19T20:41:55.799671Z"
    },
    "pycharm": {
     "name": "#%%\n"
    }
   },
   "outputs": [],
   "source": [
    "from xopt import Xopt, Evaluator, Generator, VOCS\n",
    "from xopt.generators.random import RandomGenerator\n",
    "\n",
    "import pandas as pd\n",
    "\n",
    "from time import sleep\n",
    "from numpy.random import randint\n",
    "\n",
    "from typing import Dict\n",
    "\n",
    "import numpy as np\n",
    "np.random.seed(666) # for reproducibility\n",
    "\n",
    "# Nicer plotting\n",
    "%config InlineBackend.figure_format = 'retina'"
   ]
  },
  {
   "cell_type": "markdown",
   "metadata": {},
   "source": [
    "Define a custom function `f(inputs: Dict) -> outputs: Dict`. "
   ]
  },
  {
   "cell_type": "code",
   "execution_count": 3,
   "metadata": {
    "execution": {
     "iopub.execute_input": "2022-08-19T20:41:55.804059Z",
     "iopub.status.busy": "2022-08-19T20:41:55.803698Z",
     "iopub.status.idle": "2022-08-19T20:41:55.809455Z",
     "shell.execute_reply": "2022-08-19T20:41:55.808814Z"
    }
   },
   "outputs": [],
   "source": [
    "def f(inputs: Dict, a=2) -> Dict:\n",
    "\n",
    "    sleep(randint(1, 5)*.1)  # simulate computation time\n",
    "    # Make some occasional errors\n",
    "    if np.any(inputs[\"x\"] > 0.8):\n",
    "        raise ValueError(\"x > 0.8\")\n",
    "\n",
    "    return {\"f1\": inputs[\"x\"] ** 2 + inputs[\"y\"] ** 2}"
   ]
  },
  {
   "cell_type": "markdown",
   "metadata": {},
   "source": [
    "Define variables, objectives, constraints, and other settings (VOCS)"
   ]
  },
  {
   "cell_type": "code",
   "execution_count": 4,
   "metadata": {
    "collapsed": false,
    "execution": {
     "iopub.execute_input": "2022-08-19T20:41:55.813463Z",
     "iopub.status.busy": "2022-08-19T20:41:55.812912Z",
     "iopub.status.idle": "2022-08-19T20:41:55.822558Z",
     "shell.execute_reply": "2022-08-19T20:41:55.822059Z"
    },
    "pycharm": {
     "name": "#%%\n"
    }
   },
   "outputs": [
    {
     "data": {
      "text/plain": [
       "VOCS(variables={'x': [0.0, 1.0], 'y': [0.0, 1.0]}, constraints={}, objectives={'f1': 'MINIMIZE'}, constants={}, linked_variables={})"
      ]
     },
     "execution_count": 4,
     "metadata": {},
     "output_type": "execute_result"
    }
   ],
   "source": [
    "vocs = VOCS(variables={\"x\": [0, 1], \"y\": [0, 1]}, objectives={\"f1\": \"MINIMIZE\"})\n",
    "vocs\n",
    "\n"
   ]
  },
  {
   "cell_type": "markdown",
   "metadata": {},
   "source": [
    "This can be used to make some random inputs for evaluating the function. "
   ]
  },
  {
   "cell_type": "code",
   "execution_count": 5,
   "metadata": {
    "execution": {
     "iopub.execute_input": "2022-08-19T20:41:55.861610Z",
     "iopub.status.busy": "2022-08-19T20:41:55.861174Z",
     "iopub.status.idle": "2022-08-19T20:41:56.167862Z",
     "shell.execute_reply": "2022-08-19T20:41:56.167208Z"
    }
   },
   "outputs": [
    {
     "data": {
      "text/plain": [
       "{'f1': 0.11401572022703582}"
      ]
     },
     "execution_count": 5,
     "metadata": {},
     "output_type": "execute_result"
    }
   ],
   "source": [
    "in1 = vocs.random_inputs()\n",
    "\n",
    "f(in1)"
   ]
  },
  {
   "cell_type": "code",
   "execution_count": 6,
   "metadata": {
    "execution": {
     "iopub.execute_input": "2022-08-19T20:41:56.171153Z",
     "iopub.status.busy": "2022-08-19T20:41:56.170679Z",
     "iopub.status.idle": "2022-08-19T20:41:56.475464Z",
     "shell.execute_reply": "2022-08-19T20:41:56.474753Z"
    }
   },
   "outputs": [
    {
     "name": "stdout",
     "output_type": "stream",
     "text": [
      "Caught error in f: x > 0.8\n"
     ]
    }
   ],
   "source": [
    "# Add in occasional errors. \n",
    "try:\n",
    "    f({\"x\": 1, \"y\": 0})\n",
    "except Exception as ex:\n",
    "    print(f\"Caught error in f: {ex}\")"
   ]
  },
  {
   "cell_type": "code",
   "execution_count": 7,
   "metadata": {
    "execution": {
     "iopub.execute_input": "2022-08-19T20:41:56.478450Z",
     "iopub.status.busy": "2022-08-19T20:41:56.477963Z",
     "iopub.status.idle": "2022-08-19T20:41:56.487252Z",
     "shell.execute_reply": "2022-08-19T20:41:56.486556Z"
    }
   },
   "outputs": [],
   "source": [
    "# Create Evaluator\n",
    "ev = Evaluator(function=f)"
   ]
  },
  {
   "cell_type": "code",
   "execution_count": 8,
   "metadata": {
    "execution": {
     "iopub.execute_input": "2022-08-19T20:41:56.490490Z",
     "iopub.status.busy": "2022-08-19T20:41:56.489934Z",
     "iopub.status.idle": "2022-08-19T20:41:56.694904Z",
     "shell.execute_reply": "2022-08-19T20:41:56.694263Z"
    }
   },
   "outputs": [
    {
     "data": {
      "text/plain": [
       "{'f1': 0.11401572022703582,\n",
       " 'xopt_runtime': 0.2003793050000695,\n",
       " 'xopt_error': False}"
      ]
     },
     "execution_count": 8,
     "metadata": {},
     "output_type": "execute_result"
    }
   ],
   "source": [
    "# Single input evaluation\n",
    "ev.evaluate(in1)"
   ]
  },
  {
   "cell_type": "code",
   "execution_count": 9,
   "metadata": {
    "execution": {
     "iopub.execute_input": "2022-08-19T20:41:56.697850Z",
     "iopub.status.busy": "2022-08-19T20:41:56.697627Z",
     "iopub.status.idle": "2022-08-19T20:41:59.314105Z",
     "shell.execute_reply": "2022-08-19T20:41:59.313464Z"
    }
   },
   "outputs": [
    {
     "data": {
      "text/html": [
       "<div>\n",
       "<style scoped>\n",
       "    .dataframe tbody tr th:only-of-type {\n",
       "        vertical-align: middle;\n",
       "    }\n",
       "\n",
       "    .dataframe tbody tr th {\n",
       "        vertical-align: top;\n",
       "    }\n",
       "\n",
       "    .dataframe thead th {\n",
       "        text-align: right;\n",
       "    }\n",
       "</style>\n",
       "<table border=\"1\" class=\"dataframe\">\n",
       "  <thead>\n",
       "    <tr style=\"text-align: right;\">\n",
       "      <th></th>\n",
       "      <th>f1</th>\n",
       "      <th>xopt_runtime</th>\n",
       "      <th>xopt_error</th>\n",
       "    </tr>\n",
       "  </thead>\n",
       "  <tbody>\n",
       "    <tr>\n",
       "      <th>0</th>\n",
       "      <td>0.529588</td>\n",
       "      <td>0.300635</td>\n",
       "      <td>False</td>\n",
       "    </tr>\n",
       "    <tr>\n",
       "      <th>1</th>\n",
       "      <td>1.154098</td>\n",
       "      <td>0.400558</td>\n",
       "      <td>False</td>\n",
       "    </tr>\n",
       "    <tr>\n",
       "      <th>2</th>\n",
       "      <td>0.641450</td>\n",
       "      <td>0.200351</td>\n",
       "      <td>False</td>\n",
       "    </tr>\n",
       "    <tr>\n",
       "      <th>3</th>\n",
       "      <td>0.619825</td>\n",
       "      <td>0.200346</td>\n",
       "      <td>False</td>\n",
       "    </tr>\n",
       "    <tr>\n",
       "      <th>4</th>\n",
       "      <td>0.536923</td>\n",
       "      <td>0.100243</td>\n",
       "      <td>False</td>\n",
       "    </tr>\n",
       "    <tr>\n",
       "      <th>5</th>\n",
       "      <td>0.342636</td>\n",
       "      <td>0.300490</td>\n",
       "      <td>False</td>\n",
       "    </tr>\n",
       "    <tr>\n",
       "      <th>6</th>\n",
       "      <td>0.589861</td>\n",
       "      <td>0.100288</td>\n",
       "      <td>False</td>\n",
       "    </tr>\n",
       "    <tr>\n",
       "      <th>7</th>\n",
       "      <td>0.556977</td>\n",
       "      <td>0.400571</td>\n",
       "      <td>False</td>\n",
       "    </tr>\n",
       "    <tr>\n",
       "      <th>8</th>\n",
       "      <td>0.055586</td>\n",
       "      <td>0.300485</td>\n",
       "      <td>False</td>\n",
       "    </tr>\n",
       "    <tr>\n",
       "      <th>9</th>\n",
       "      <td>0.785844</td>\n",
       "      <td>0.300497</td>\n",
       "      <td>False</td>\n",
       "    </tr>\n",
       "  </tbody>\n",
       "</table>\n",
       "</div>"
      ],
      "text/plain": [
       "         f1  xopt_runtime  xopt_error\n",
       "0  0.529588      0.300635       False\n",
       "1  1.154098      0.400558       False\n",
       "2  0.641450      0.200351       False\n",
       "3  0.619825      0.200346       False\n",
       "4  0.536923      0.100243       False\n",
       "5  0.342636      0.300490       False\n",
       "6  0.589861      0.100288       False\n",
       "7  0.556977      0.400571       False\n",
       "8  0.055586      0.300485       False\n",
       "9  0.785844      0.300497       False"
      ]
     },
     "execution_count": 9,
     "metadata": {},
     "output_type": "execute_result"
    }
   ],
   "source": [
    "# Dataframe evaluation\n",
    "in10 = vocs.random_inputs(10)\n",
    "ev.evaluate_data(in10)\n"
   ]
  },
  {
   "cell_type": "code",
   "execution_count": 10,
   "metadata": {
    "execution": {
     "iopub.execute_input": "2022-08-19T20:41:59.317398Z",
     "iopub.status.busy": "2022-08-19T20:41:59.316976Z",
     "iopub.status.idle": "2022-08-19T20:42:02.027227Z",
     "shell.execute_reply": "2022-08-19T20:42:02.026276Z"
    }
   },
   "outputs": [
    {
     "name": "stdout",
     "output_type": "stream",
     "text": [
      "{'f1': 0.5295876188736232, 'xopt_runtime': 0.3004638589999331, 'xopt_error': False}\n",
      "{'f1': 1.154097903998413, 'xopt_runtime': 0.3004915589999655, 'xopt_error': False}\n",
      "{'f1': 0.641449645681512, 'xopt_runtime': 0.10028522000004614, 'xopt_error': False}\n",
      "{'f1': 0.6198251611679085, 'xopt_runtime': 0.10029882000003454, 'xopt_error': False}\n",
      "{'f1': 0.5369228584400957, 'xopt_runtime': 0.4005624789999729, 'xopt_error': False}\n",
      "{'f1': 0.3426360721182605, 'xopt_runtime': 0.30045085899996593, 'xopt_error': False}\n",
      "{'f1': 0.5898614653804399, 'xopt_runtime': 0.20037974000001668, 'xopt_error': False}\n",
      "{'f1': 0.5569771979382582, 'xopt_runtime': 0.4005414790000259, 'xopt_error': False}\n",
      "{'f1': 0.055585968775201305, 'xopt_runtime': 0.30056805900005656, 'xopt_error': False}\n",
      "{'f1': 0.7858444543806786, 'xopt_runtime': 0.30048395999995137, 'xopt_error': False}\n"
     ]
    }
   ],
   "source": [
    "# Dataframe submission (returns futures dict)\n",
    "futures = ev.submit_data(in10)\n",
    "for future in futures:\n",
    "    print(future.result())"
   ]
  },
  {
   "cell_type": "code",
   "execution_count": 11,
   "metadata": {
    "execution": {
     "iopub.execute_input": "2022-08-19T20:42:02.030722Z",
     "iopub.status.busy": "2022-08-19T20:42:02.030096Z",
     "iopub.status.idle": "2022-08-19T20:42:02.441708Z",
     "shell.execute_reply": "2022-08-19T20:42:02.441092Z"
    }
   },
   "outputs": [
    {
     "data": {
      "text/html": [
       "<div>\n",
       "<style scoped>\n",
       "    .dataframe tbody tr th:only-of-type {\n",
       "        vertical-align: middle;\n",
       "    }\n",
       "\n",
       "    .dataframe tbody tr th {\n",
       "        vertical-align: top;\n",
       "    }\n",
       "\n",
       "    .dataframe thead th {\n",
       "        text-align: right;\n",
       "    }\n",
       "</style>\n",
       "<table border=\"1\" class=\"dataframe\">\n",
       "  <thead>\n",
       "    <tr style=\"text-align: right;\">\n",
       "      <th></th>\n",
       "      <th>f1</th>\n",
       "      <th>xopt_runtime</th>\n",
       "      <th>xopt_error</th>\n",
       "    </tr>\n",
       "  </thead>\n",
       "  <tbody>\n",
       "    <tr>\n",
       "      <th>0</th>\n",
       "      <td>0.529588</td>\n",
       "      <td>0.401407</td>\n",
       "      <td>False</td>\n",
       "    </tr>\n",
       "    <tr>\n",
       "      <th>1</th>\n",
       "      <td>1.154098</td>\n",
       "      <td>0.401407</td>\n",
       "      <td>False</td>\n",
       "    </tr>\n",
       "    <tr>\n",
       "      <th>2</th>\n",
       "      <td>0.641450</td>\n",
       "      <td>0.401407</td>\n",
       "      <td>False</td>\n",
       "    </tr>\n",
       "    <tr>\n",
       "      <th>3</th>\n",
       "      <td>0.619825</td>\n",
       "      <td>0.401407</td>\n",
       "      <td>False</td>\n",
       "    </tr>\n",
       "    <tr>\n",
       "      <th>4</th>\n",
       "      <td>0.536923</td>\n",
       "      <td>0.401407</td>\n",
       "      <td>False</td>\n",
       "    </tr>\n",
       "    <tr>\n",
       "      <th>5</th>\n",
       "      <td>0.342636</td>\n",
       "      <td>0.401407</td>\n",
       "      <td>False</td>\n",
       "    </tr>\n",
       "    <tr>\n",
       "      <th>6</th>\n",
       "      <td>0.589861</td>\n",
       "      <td>0.401407</td>\n",
       "      <td>False</td>\n",
       "    </tr>\n",
       "    <tr>\n",
       "      <th>7</th>\n",
       "      <td>0.556977</td>\n",
       "      <td>0.401407</td>\n",
       "      <td>False</td>\n",
       "    </tr>\n",
       "    <tr>\n",
       "      <th>8</th>\n",
       "      <td>0.055586</td>\n",
       "      <td>0.401407</td>\n",
       "      <td>False</td>\n",
       "    </tr>\n",
       "    <tr>\n",
       "      <th>9</th>\n",
       "      <td>0.785844</td>\n",
       "      <td>0.401407</td>\n",
       "      <td>False</td>\n",
       "    </tr>\n",
       "  </tbody>\n",
       "</table>\n",
       "</div>"
      ],
      "text/plain": [
       "         f1  xopt_runtime  xopt_error\n",
       "0  0.529588      0.401407       False\n",
       "1  1.154098      0.401407       False\n",
       "2  0.641450      0.401407       False\n",
       "3  0.619825      0.401407       False\n",
       "4  0.536923      0.401407       False\n",
       "5  0.342636      0.401407       False\n",
       "6  0.589861      0.401407       False\n",
       "7  0.556977      0.401407       False\n",
       "8  0.055586      0.401407       False\n",
       "9  0.785844      0.401407       False"
      ]
     },
     "execution_count": 11,
     "metadata": {},
     "output_type": "execute_result"
    }
   ],
   "source": [
    "# Dataframe evaluation, vectorized\n",
    "ev.vectorized = True\n",
    "ev.evaluate_data(in10)\n"
   ]
  },
  {
   "cell_type": "code",
   "execution_count": 12,
   "metadata": {
    "execution": {
     "iopub.execute_input": "2022-08-19T20:42:02.445422Z",
     "iopub.status.busy": "2022-08-19T20:42:02.444879Z",
     "iopub.status.idle": "2022-08-19T20:42:02.852366Z",
     "shell.execute_reply": "2022-08-19T20:42:02.851725Z"
    }
   },
   "outputs": [
    {
     "data": {
      "text/plain": [
       "1"
      ]
     },
     "execution_count": 12,
     "metadata": {},
     "output_type": "execute_result"
    }
   ],
   "source": [
    "# Vectorized submission. This returns a single future.\n",
    "ev.vectorized = True\n",
    "futures = ev.submit_data(in10)\n",
    "len(futures)"
   ]
  },
  {
   "cell_type": "code",
   "execution_count": 13,
   "metadata": {
    "execution": {
     "iopub.execute_input": "2022-08-19T20:42:02.857492Z",
     "iopub.status.busy": "2022-08-19T20:42:02.856043Z",
     "iopub.status.idle": "2022-08-19T20:42:02.863799Z",
     "shell.execute_reply": "2022-08-19T20:42:02.863160Z"
    }
   },
   "outputs": [
    {
     "data": {
      "text/plain": [
       "{'f1': array([0.52958762, 1.1540979 , 0.64144965, 0.61982516, 0.53692286,\n",
       "        0.34263607, 0.58986147, 0.5569772 , 0.05558597, 0.78584445]),\n",
       " 'xopt_runtime': 0.40058427899998605,\n",
       " 'xopt_error': False}"
      ]
     },
     "execution_count": 13,
     "metadata": {},
     "output_type": "execute_result"
    }
   ],
   "source": [
    "futures[0].result()"
   ]
  },
  {
   "cell_type": "code",
   "execution_count": 14,
   "metadata": {
    "execution": {
     "iopub.execute_input": "2022-08-19T20:42:02.866862Z",
     "iopub.status.busy": "2022-08-19T20:42:02.866593Z",
     "iopub.status.idle": "2022-08-19T20:42:02.877456Z",
     "shell.execute_reply": "2022-08-19T20:42:02.876851Z"
    }
   },
   "outputs": [
    {
     "data": {
      "text/html": [
       "<div>\n",
       "<style scoped>\n",
       "    .dataframe tbody tr th:only-of-type {\n",
       "        vertical-align: middle;\n",
       "    }\n",
       "\n",
       "    .dataframe tbody tr th {\n",
       "        vertical-align: top;\n",
       "    }\n",
       "\n",
       "    .dataframe thead th {\n",
       "        text-align: right;\n",
       "    }\n",
       "</style>\n",
       "<table border=\"1\" class=\"dataframe\">\n",
       "  <thead>\n",
       "    <tr style=\"text-align: right;\">\n",
       "      <th></th>\n",
       "      <th>f1</th>\n",
       "      <th>xopt_runtime</th>\n",
       "      <th>xopt_error</th>\n",
       "    </tr>\n",
       "  </thead>\n",
       "  <tbody>\n",
       "    <tr>\n",
       "      <th>0</th>\n",
       "      <td>0.529588</td>\n",
       "      <td>0.400584</td>\n",
       "      <td>False</td>\n",
       "    </tr>\n",
       "    <tr>\n",
       "      <th>1</th>\n",
       "      <td>1.154098</td>\n",
       "      <td>0.400584</td>\n",
       "      <td>False</td>\n",
       "    </tr>\n",
       "    <tr>\n",
       "      <th>2</th>\n",
       "      <td>0.641450</td>\n",
       "      <td>0.400584</td>\n",
       "      <td>False</td>\n",
       "    </tr>\n",
       "    <tr>\n",
       "      <th>3</th>\n",
       "      <td>0.619825</td>\n",
       "      <td>0.400584</td>\n",
       "      <td>False</td>\n",
       "    </tr>\n",
       "    <tr>\n",
       "      <th>4</th>\n",
       "      <td>0.536923</td>\n",
       "      <td>0.400584</td>\n",
       "      <td>False</td>\n",
       "    </tr>\n",
       "    <tr>\n",
       "      <th>5</th>\n",
       "      <td>0.342636</td>\n",
       "      <td>0.400584</td>\n",
       "      <td>False</td>\n",
       "    </tr>\n",
       "    <tr>\n",
       "      <th>6</th>\n",
       "      <td>0.589861</td>\n",
       "      <td>0.400584</td>\n",
       "      <td>False</td>\n",
       "    </tr>\n",
       "    <tr>\n",
       "      <th>7</th>\n",
       "      <td>0.556977</td>\n",
       "      <td>0.400584</td>\n",
       "      <td>False</td>\n",
       "    </tr>\n",
       "    <tr>\n",
       "      <th>8</th>\n",
       "      <td>0.055586</td>\n",
       "      <td>0.400584</td>\n",
       "      <td>False</td>\n",
       "    </tr>\n",
       "    <tr>\n",
       "      <th>9</th>\n",
       "      <td>0.785844</td>\n",
       "      <td>0.400584</td>\n",
       "      <td>False</td>\n",
       "    </tr>\n",
       "  </tbody>\n",
       "</table>\n",
       "</div>"
      ],
      "text/plain": [
       "         f1  xopt_runtime  xopt_error\n",
       "0  0.529588      0.400584       False\n",
       "1  1.154098      0.400584       False\n",
       "2  0.641450      0.400584       False\n",
       "3  0.619825      0.400584       False\n",
       "4  0.536923      0.400584       False\n",
       "5  0.342636      0.400584       False\n",
       "6  0.589861      0.400584       False\n",
       "7  0.556977      0.400584       False\n",
       "8  0.055586      0.400584       False\n",
       "9  0.785844      0.400584       False"
      ]
     },
     "execution_count": 14,
     "metadata": {},
     "output_type": "execute_result"
    }
   ],
   "source": [
    "# Collect in a dataframe\n",
    "res = futures[0].result()\n",
    "# If there is an error, all outputs are spoiled.\n",
    "if res['xopt_error']:\n",
    "    res = [res]\n",
    "pd.DataFrame(res)"
   ]
  },
  {
   "cell_type": "markdown",
   "metadata": {},
   "source": [
    "# Executors"
   ]
  },
  {
   "cell_type": "code",
   "execution_count": 15,
   "metadata": {
    "execution": {
     "iopub.execute_input": "2022-08-19T20:42:02.880817Z",
     "iopub.status.busy": "2022-08-19T20:42:02.880163Z",
     "iopub.status.idle": "2022-08-19T20:42:02.883618Z",
     "shell.execute_reply": "2022-08-19T20:42:02.882945Z"
    }
   },
   "outputs": [],
   "source": [
    "from concurrent.futures import ThreadPoolExecutor, ProcessPoolExecutor\n",
    "MAX_WORKERS = 10"
   ]
  },
  {
   "cell_type": "code",
   "execution_count": 16,
   "metadata": {
    "execution": {
     "iopub.execute_input": "2022-08-19T20:42:02.886898Z",
     "iopub.status.busy": "2022-08-19T20:42:02.886627Z",
     "iopub.status.idle": "2022-08-19T20:42:02.894139Z",
     "shell.execute_reply": "2022-08-19T20:42:02.893431Z"
    }
   },
   "outputs": [
    {
     "data": {
      "text/plain": [
       "<concurrent.futures.process.ProcessPoolExecutor at 0x7fd488433490>"
      ]
     },
     "execution_count": 16,
     "metadata": {},
     "output_type": "execute_result"
    }
   ],
   "source": [
    "# Create Executor insance\n",
    "executor = ProcessPoolExecutor(max_workers=MAX_WORKERS)\n",
    "executor"
   ]
  },
  {
   "cell_type": "code",
   "execution_count": 17,
   "metadata": {
    "execution": {
     "iopub.execute_input": "2022-08-19T20:42:02.897905Z",
     "iopub.status.busy": "2022-08-19T20:42:02.897329Z",
     "iopub.status.idle": "2022-08-19T20:42:02.901427Z",
     "shell.execute_reply": "2022-08-19T20:42:02.900810Z"
    }
   },
   "outputs": [],
   "source": [
    "# Dask (Optional)\n",
    "# from dask.distributed import Client\n",
    "# import logging\n",
    "# client = Client( silence_logs=logging.ERROR)\n",
    "# executor = client.get_executor()\n",
    "# client"
   ]
  },
  {
   "cell_type": "code",
   "execution_count": 18,
   "metadata": {
    "execution": {
     "iopub.execute_input": "2022-08-19T20:42:02.904759Z",
     "iopub.status.busy": "2022-08-19T20:42:02.904379Z",
     "iopub.status.idle": "2022-08-19T20:42:02.915372Z",
     "shell.execute_reply": "2022-08-19T20:42:02.914734Z"
    }
   },
   "outputs": [],
   "source": [
    "# This calls `executor.map`\n",
    "ev = Evaluator(function=f, executor=executor, max_workers=MAX_WORKERS)"
   ]
  },
  {
   "cell_type": "code",
   "execution_count": 19,
   "metadata": {
    "execution": {
     "iopub.execute_input": "2022-08-19T20:42:02.919287Z",
     "iopub.status.busy": "2022-08-19T20:42:02.918887Z",
     "iopub.status.idle": "2022-08-19T20:42:03.104944Z",
     "shell.execute_reply": "2022-08-19T20:42:03.103939Z"
    }
   },
   "outputs": [
    {
     "data": {
      "text/html": [
       "<div>\n",
       "<style scoped>\n",
       "    .dataframe tbody tr th:only-of-type {\n",
       "        vertical-align: middle;\n",
       "    }\n",
       "\n",
       "    .dataframe tbody tr th {\n",
       "        vertical-align: top;\n",
       "    }\n",
       "\n",
       "    .dataframe thead th {\n",
       "        text-align: right;\n",
       "    }\n",
       "</style>\n",
       "<table border=\"1\" class=\"dataframe\">\n",
       "  <thead>\n",
       "    <tr style=\"text-align: right;\">\n",
       "      <th></th>\n",
       "      <th>f1</th>\n",
       "      <th>xopt_runtime</th>\n",
       "      <th>xopt_error</th>\n",
       "    </tr>\n",
       "  </thead>\n",
       "  <tbody>\n",
       "    <tr>\n",
       "      <th>0</th>\n",
       "      <td>0.529588</td>\n",
       "      <td>0.100743</td>\n",
       "      <td>False</td>\n",
       "    </tr>\n",
       "    <tr>\n",
       "      <th>1</th>\n",
       "      <td>1.154098</td>\n",
       "      <td>0.102824</td>\n",
       "      <td>False</td>\n",
       "    </tr>\n",
       "    <tr>\n",
       "      <th>2</th>\n",
       "      <td>0.641450</td>\n",
       "      <td>0.100700</td>\n",
       "      <td>False</td>\n",
       "    </tr>\n",
       "    <tr>\n",
       "      <th>3</th>\n",
       "      <td>0.619825</td>\n",
       "      <td>0.100595</td>\n",
       "      <td>False</td>\n",
       "    </tr>\n",
       "    <tr>\n",
       "      <th>4</th>\n",
       "      <td>0.536923</td>\n",
       "      <td>0.100757</td>\n",
       "      <td>False</td>\n",
       "    </tr>\n",
       "    <tr>\n",
       "      <th>5</th>\n",
       "      <td>0.342636</td>\n",
       "      <td>0.100579</td>\n",
       "      <td>False</td>\n",
       "    </tr>\n",
       "    <tr>\n",
       "      <th>6</th>\n",
       "      <td>0.589861</td>\n",
       "      <td>0.100566</td>\n",
       "      <td>False</td>\n",
       "    </tr>\n",
       "    <tr>\n",
       "      <th>7</th>\n",
       "      <td>0.556977</td>\n",
       "      <td>0.100642</td>\n",
       "      <td>False</td>\n",
       "    </tr>\n",
       "    <tr>\n",
       "      <th>8</th>\n",
       "      <td>0.055586</td>\n",
       "      <td>0.102077</td>\n",
       "      <td>False</td>\n",
       "    </tr>\n",
       "    <tr>\n",
       "      <th>9</th>\n",
       "      <td>0.785844</td>\n",
       "      <td>0.100764</td>\n",
       "      <td>False</td>\n",
       "    </tr>\n",
       "  </tbody>\n",
       "</table>\n",
       "</div>"
      ],
      "text/plain": [
       "         f1  xopt_runtime  xopt_error\n",
       "0  0.529588      0.100743       False\n",
       "1  1.154098      0.102824       False\n",
       "2  0.641450      0.100700       False\n",
       "3  0.619825      0.100595       False\n",
       "4  0.536923      0.100757       False\n",
       "5  0.342636      0.100579       False\n",
       "6  0.589861      0.100566       False\n",
       "7  0.556977      0.100642       False\n",
       "8  0.055586      0.102077       False\n",
       "9  0.785844      0.100764       False"
      ]
     },
     "execution_count": 19,
     "metadata": {},
     "output_type": "execute_result"
    }
   ],
   "source": [
    "# This will run in parallel\n",
    "ev.evaluate_data(in10)"
   ]
  },
  {
   "cell_type": "markdown",
   "metadata": {},
   "source": [
    "# Evaluator in the Xopt object"
   ]
  },
  {
   "cell_type": "code",
   "execution_count": 20,
   "metadata": {
    "collapsed": false,
    "execution": {
     "iopub.execute_input": "2022-08-19T20:42:03.108966Z",
     "iopub.status.busy": "2022-08-19T20:42:03.108660Z",
     "iopub.status.idle": "2022-08-19T20:42:04.728768Z",
     "shell.execute_reply": "2022-08-19T20:42:04.728036Z"
    },
    "pycharm": {
     "name": "#%%\n"
    }
   },
   "outputs": [
    {
     "data": {
      "text/html": [
       "<div>\n",
       "<style scoped>\n",
       "    .dataframe tbody tr th:only-of-type {\n",
       "        vertical-align: middle;\n",
       "    }\n",
       "\n",
       "    .dataframe tbody tr th {\n",
       "        vertical-align: top;\n",
       "    }\n",
       "\n",
       "    .dataframe thead th {\n",
       "        text-align: right;\n",
       "    }\n",
       "</style>\n",
       "<table border=\"1\" class=\"dataframe\">\n",
       "  <thead>\n",
       "    <tr style=\"text-align: right;\">\n",
       "      <th></th>\n",
       "      <th>x</th>\n",
       "      <th>y</th>\n",
       "    </tr>\n",
       "  </thead>\n",
       "  <tbody>\n",
       "    <tr>\n",
       "      <th>1</th>\n",
       "      <td>0.333263</td>\n",
       "      <td>0.670598</td>\n",
       "    </tr>\n",
       "    <tr>\n",
       "      <th>2</th>\n",
       "      <td>0.127120</td>\n",
       "      <td>0.708698</td>\n",
       "    </tr>\n",
       "    <tr>\n",
       "      <th>3</th>\n",
       "      <td>0.478903</td>\n",
       "      <td>0.998964</td>\n",
       "    </tr>\n",
       "    <tr>\n",
       "      <th>4</th>\n",
       "      <td>0.249796</td>\n",
       "      <td>0.363820</td>\n",
       "    </tr>\n",
       "  </tbody>\n",
       "</table>\n",
       "</div>"
      ],
      "text/plain": [
       "          x         y\n",
       "1  0.333263  0.670598\n",
       "2  0.127120  0.708698\n",
       "3  0.478903  0.998964\n",
       "4  0.249796  0.363820"
      ]
     },
     "execution_count": 20,
     "metadata": {},
     "output_type": "execute_result"
    }
   ],
   "source": [
    "X = Xopt(generator=RandomGenerator(vocs), evaluator=Evaluator(function=f), vocs=vocs)\n",
    "\n",
    "# Submit to the evaluator some new inputs\n",
    "X.submit_data(vocs.random_inputs(4))\n",
    "\n",
    "# Unevaluated inputs are collected in a dataframe\n",
    "X._input_data"
   ]
  },
  {
   "cell_type": "code",
   "execution_count": 21,
   "metadata": {
    "collapsed": false,
    "execution": {
     "iopub.execute_input": "2022-08-19T20:42:04.732469Z",
     "iopub.status.busy": "2022-08-19T20:42:04.731814Z",
     "iopub.status.idle": "2022-08-19T20:42:04.736524Z",
     "shell.execute_reply": "2022-08-19T20:42:04.735862Z"
    },
    "pycharm": {
     "name": "#%%\n"
    }
   },
   "outputs": [
    {
     "data": {
      "text/plain": [
       "{1: <Future at 0x7fd4883c4be0 state=finished returned dict>,\n",
       " 2: <Future at 0x7fd4884532b0 state=finished returned dict>,\n",
       " 3: <Future at 0x7fd488453f40 state=finished returned dict>,\n",
       " 4: <Future at 0x7fd488453be0 state=finished returned dict>}"
      ]
     },
     "execution_count": 21,
     "metadata": {},
     "output_type": "execute_result"
    }
   ],
   "source": [
    "# Internal futures dictionary\n",
    "X._futures"
   ]
  },
  {
   "cell_type": "code",
   "execution_count": 22,
   "metadata": {
    "collapsed": false,
    "execution": {
     "iopub.execute_input": "2022-08-19T20:42:04.740643Z",
     "iopub.status.busy": "2022-08-19T20:42:04.739973Z",
     "iopub.status.idle": "2022-08-19T20:42:04.751789Z",
     "shell.execute_reply": "2022-08-19T20:42:04.751134Z"
    },
    "pycharm": {
     "name": "#%%\n"
    }
   },
   "outputs": [
    {
     "data": {
      "text/html": [
       "<div>\n",
       "<style scoped>\n",
       "    .dataframe tbody tr th:only-of-type {\n",
       "        vertical-align: middle;\n",
       "    }\n",
       "\n",
       "    .dataframe tbody tr th {\n",
       "        vertical-align: top;\n",
       "    }\n",
       "\n",
       "    .dataframe thead th {\n",
       "        text-align: right;\n",
       "    }\n",
       "</style>\n",
       "<table border=\"1\" class=\"dataframe\">\n",
       "  <thead>\n",
       "    <tr style=\"text-align: right;\">\n",
       "      <th></th>\n",
       "      <th>x</th>\n",
       "      <th>y</th>\n",
       "      <th>f1</th>\n",
       "      <th>xopt_runtime</th>\n",
       "      <th>xopt_error</th>\n",
       "    </tr>\n",
       "  </thead>\n",
       "  <tbody>\n",
       "    <tr>\n",
       "      <th>1</th>\n",
       "      <td>0.333263</td>\n",
       "      <td>0.670598</td>\n",
       "      <td>0.560765</td>\n",
       "      <td>0.400552</td>\n",
       "      <td>False</td>\n",
       "    </tr>\n",
       "    <tr>\n",
       "      <th>2</th>\n",
       "      <td>0.127120</td>\n",
       "      <td>0.708698</td>\n",
       "      <td>0.518413</td>\n",
       "      <td>0.400577</td>\n",
       "      <td>False</td>\n",
       "    </tr>\n",
       "    <tr>\n",
       "      <th>3</th>\n",
       "      <td>0.478903</td>\n",
       "      <td>0.998964</td>\n",
       "      <td>1.227277</td>\n",
       "      <td>0.400557</td>\n",
       "      <td>False</td>\n",
       "    </tr>\n",
       "    <tr>\n",
       "      <th>4</th>\n",
       "      <td>0.249796</td>\n",
       "      <td>0.363820</td>\n",
       "      <td>0.194763</td>\n",
       "      <td>0.400602</td>\n",
       "      <td>False</td>\n",
       "    </tr>\n",
       "  </tbody>\n",
       "</table>\n",
       "</div>"
      ],
      "text/plain": [
       "          x         y        f1  xopt_runtime  xopt_error\n",
       "1  0.333263  0.670598  0.560765      0.400552       False\n",
       "2  0.127120  0.708698  0.518413      0.400577       False\n",
       "3  0.478903  0.998964  1.227277      0.400557       False\n",
       "4  0.249796  0.363820  0.194763      0.400602       False"
      ]
     },
     "execution_count": 22,
     "metadata": {},
     "output_type": "execute_result"
    }
   ],
   "source": [
    "# Collect all finished futures and updata dataframe\n",
    "X.process_futures()\n",
    "X.data"
   ]
  },
  {
   "cell_type": "code",
   "execution_count": 23,
   "metadata": {
    "collapsed": false,
    "execution": {
     "iopub.execute_input": "2022-08-19T20:42:04.755234Z",
     "iopub.status.busy": "2022-08-19T20:42:04.754657Z",
     "iopub.status.idle": "2022-08-19T20:42:04.758801Z",
     "shell.execute_reply": "2022-08-19T20:42:04.758206Z"
    },
    "pycharm": {
     "name": "#%%\n"
    }
   },
   "outputs": [
    {
     "data": {
      "text/plain": [
       "{}"
      ]
     },
     "execution_count": 23,
     "metadata": {},
     "output_type": "execute_result"
    }
   ],
   "source": [
    "# Futures are now cleared out\n",
    "X._futures"
   ]
  },
  {
   "cell_type": "code",
   "execution_count": 24,
   "metadata": {
    "collapsed": false,
    "execution": {
     "iopub.execute_input": "2022-08-19T20:42:04.762361Z",
     "iopub.status.busy": "2022-08-19T20:42:04.761981Z",
     "iopub.status.idle": "2022-08-19T20:42:04.766130Z",
     "shell.execute_reply": "2022-08-19T20:42:04.765530Z"
    },
    "pycharm": {
     "name": "#%%\n"
    }
   },
   "outputs": [
    {
     "data": {
      "text/plain": [
       "4"
      ]
     },
     "execution_count": 24,
     "metadata": {},
     "output_type": "execute_result"
    }
   ],
   "source": [
    "# This is the internal counter\n",
    "X._ix_last"
   ]
  },
  {
   "cell_type": "code",
   "execution_count": 25,
   "metadata": {
    "collapsed": false,
    "execution": {
     "iopub.execute_input": "2022-08-19T20:42:04.769922Z",
     "iopub.status.busy": "2022-08-19T20:42:04.769277Z",
     "iopub.status.idle": "2022-08-19T20:42:05.381941Z",
     "shell.execute_reply": "2022-08-19T20:42:05.381263Z"
    },
    "pycharm": {
     "name": "#%%\n"
    }
   },
   "outputs": [
    {
     "data": {
      "text/html": [
       "<div>\n",
       "<style scoped>\n",
       "    .dataframe tbody tr th:only-of-type {\n",
       "        vertical-align: middle;\n",
       "    }\n",
       "\n",
       "    .dataframe tbody tr th {\n",
       "        vertical-align: top;\n",
       "    }\n",
       "\n",
       "    .dataframe thead th {\n",
       "        text-align: right;\n",
       "    }\n",
       "</style>\n",
       "<table border=\"1\" class=\"dataframe\">\n",
       "  <thead>\n",
       "    <tr style=\"text-align: right;\">\n",
       "      <th></th>\n",
       "      <th>x</th>\n",
       "      <th>y</th>\n",
       "      <th>f1</th>\n",
       "      <th>xopt_runtime</th>\n",
       "      <th>xopt_error</th>\n",
       "    </tr>\n",
       "  </thead>\n",
       "  <tbody>\n",
       "    <tr>\n",
       "      <th>5</th>\n",
       "      <td>0.600748</td>\n",
       "      <td>0.031670</td>\n",
       "      <td>0.361902</td>\n",
       "      <td>0.100508</td>\n",
       "      <td>False</td>\n",
       "    </tr>\n",
       "    <tr>\n",
       "      <th>6</th>\n",
       "      <td>0.596771</td>\n",
       "      <td>0.132335</td>\n",
       "      <td>0.373648</td>\n",
       "      <td>0.100243</td>\n",
       "      <td>False</td>\n",
       "    </tr>\n",
       "    <tr>\n",
       "      <th>7</th>\n",
       "      <td>0.665451</td>\n",
       "      <td>0.208765</td>\n",
       "      <td>0.486407</td>\n",
       "      <td>0.100272</td>\n",
       "      <td>False</td>\n",
       "    </tr>\n",
       "    <tr>\n",
       "      <th>8</th>\n",
       "      <td>0.276934</td>\n",
       "      <td>0.555539</td>\n",
       "      <td>0.385316</td>\n",
       "      <td>0.300451</td>\n",
       "      <td>False</td>\n",
       "    </tr>\n",
       "  </tbody>\n",
       "</table>\n",
       "</div>"
      ],
      "text/plain": [
       "          x         y        f1  xopt_runtime  xopt_error\n",
       "5  0.600748  0.031670  0.361902      0.100508       False\n",
       "6  0.596771  0.132335  0.373648      0.100243       False\n",
       "7  0.665451  0.208765  0.486407      0.100272       False\n",
       "8  0.276934  0.555539  0.385316      0.300451       False"
      ]
     },
     "execution_count": 25,
     "metadata": {},
     "output_type": "execute_result"
    }
   ],
   "source": [
    "# This causes immediate evaluation\n",
    "X.evaluate_data(vocs.random_inputs(4))"
   ]
  },
  {
   "cell_type": "code",
   "execution_count": 26,
   "metadata": {
    "collapsed": false,
    "execution": {
     "iopub.execute_input": "2022-08-19T20:42:05.385266Z",
     "iopub.status.busy": "2022-08-19T20:42:05.384694Z",
     "iopub.status.idle": "2022-08-19T20:42:05.496523Z",
     "shell.execute_reply": "2022-08-19T20:42:05.495872Z"
    },
    "pycharm": {
     "name": "#%%\n"
    }
   },
   "outputs": [
    {
     "data": {
      "text/html": [
       "<div>\n",
       "<style scoped>\n",
       "    .dataframe tbody tr th:only-of-type {\n",
       "        vertical-align: middle;\n",
       "    }\n",
       "\n",
       "    .dataframe tbody tr th {\n",
       "        vertical-align: top;\n",
       "    }\n",
       "\n",
       "    .dataframe thead th {\n",
       "        text-align: right;\n",
       "    }\n",
       "</style>\n",
       "<table border=\"1\" class=\"dataframe\">\n",
       "  <thead>\n",
       "    <tr style=\"text-align: right;\">\n",
       "      <th></th>\n",
       "      <th>x</th>\n",
       "      <th>y</th>\n",
       "      <th>f1</th>\n",
       "      <th>xopt_runtime</th>\n",
       "      <th>xopt_error</th>\n",
       "    </tr>\n",
       "  </thead>\n",
       "  <tbody>\n",
       "    <tr>\n",
       "      <th>1</th>\n",
       "      <td>0.333263</td>\n",
       "      <td>0.670598</td>\n",
       "      <td>0.560765</td>\n",
       "      <td>0.400552</td>\n",
       "      <td>False</td>\n",
       "    </tr>\n",
       "    <tr>\n",
       "      <th>2</th>\n",
       "      <td>0.127120</td>\n",
       "      <td>0.708698</td>\n",
       "      <td>0.518413</td>\n",
       "      <td>0.400577</td>\n",
       "      <td>False</td>\n",
       "    </tr>\n",
       "    <tr>\n",
       "      <th>3</th>\n",
       "      <td>0.478903</td>\n",
       "      <td>0.998964</td>\n",
       "      <td>1.227277</td>\n",
       "      <td>0.400557</td>\n",
       "      <td>False</td>\n",
       "    </tr>\n",
       "    <tr>\n",
       "      <th>4</th>\n",
       "      <td>0.249796</td>\n",
       "      <td>0.363820</td>\n",
       "      <td>0.194763</td>\n",
       "      <td>0.400602</td>\n",
       "      <td>False</td>\n",
       "    </tr>\n",
       "    <tr>\n",
       "      <th>5</th>\n",
       "      <td>0.600748</td>\n",
       "      <td>0.031670</td>\n",
       "      <td>0.361902</td>\n",
       "      <td>0.100508</td>\n",
       "      <td>False</td>\n",
       "    </tr>\n",
       "    <tr>\n",
       "      <th>6</th>\n",
       "      <td>0.596771</td>\n",
       "      <td>0.132335</td>\n",
       "      <td>0.373648</td>\n",
       "      <td>0.100243</td>\n",
       "      <td>False</td>\n",
       "    </tr>\n",
       "    <tr>\n",
       "      <th>7</th>\n",
       "      <td>0.665451</td>\n",
       "      <td>0.208765</td>\n",
       "      <td>0.486407</td>\n",
       "      <td>0.100272</td>\n",
       "      <td>False</td>\n",
       "    </tr>\n",
       "    <tr>\n",
       "      <th>8</th>\n",
       "      <td>0.276934</td>\n",
       "      <td>0.555539</td>\n",
       "      <td>0.385316</td>\n",
       "      <td>0.300451</td>\n",
       "      <td>False</td>\n",
       "    </tr>\n",
       "    <tr>\n",
       "      <th>9</th>\n",
       "      <td>0.287898</td>\n",
       "      <td>0.757285</td>\n",
       "      <td>0.656366</td>\n",
       "      <td>0.100278</td>\n",
       "      <td>False</td>\n",
       "    </tr>\n",
       "  </tbody>\n",
       "</table>\n",
       "</div>"
      ],
      "text/plain": [
       "          x         y        f1  xopt_runtime  xopt_error\n",
       "1  0.333263  0.670598  0.560765      0.400552       False\n",
       "2  0.127120  0.708698  0.518413      0.400577       False\n",
       "3  0.478903  0.998964  1.227277      0.400557       False\n",
       "4  0.249796  0.363820  0.194763      0.400602       False\n",
       "5  0.600748  0.031670  0.361902      0.100508       False\n",
       "6  0.596771  0.132335  0.373648      0.100243       False\n",
       "7  0.665451  0.208765  0.486407      0.100272       False\n",
       "8  0.276934  0.555539  0.385316      0.300451       False\n",
       "9  0.287898  0.757285  0.656366      0.100278       False"
      ]
     },
     "execution_count": 26,
     "metadata": {},
     "output_type": "execute_result"
    }
   ],
   "source": [
    "# Singe generation step\n",
    "X.step()\n",
    "X.data"
   ]
  },
  {
   "cell_type": "code",
   "execution_count": 27,
   "metadata": {
    "execution": {
     "iopub.execute_input": "2022-08-19T20:42:05.499817Z",
     "iopub.status.busy": "2022-08-19T20:42:05.499263Z",
     "iopub.status.idle": "2022-08-19T20:42:05.505271Z",
     "shell.execute_reply": "2022-08-19T20:42:05.504604Z"
    }
   },
   "outputs": [],
   "source": [
    "# Usage with a parallel executor. \n",
    "X2 = Xopt(\n",
    "    generator=RandomGenerator(vocs),\n",
    "    evaluator=Evaluator(function=f, executor=executor, max_workers=MAX_WORKERS),\n",
    "    vocs=vocs,\n",
    ")\n",
    "X2.options.asynch = True"
   ]
  },
  {
   "cell_type": "code",
   "execution_count": 28,
   "metadata": {
    "execution": {
     "iopub.execute_input": "2022-08-19T20:42:05.508316Z",
     "iopub.status.busy": "2022-08-19T20:42:05.507768Z",
     "iopub.status.idle": "2022-08-19T20:42:05.818248Z",
     "shell.execute_reply": "2022-08-19T20:42:05.817599Z"
    }
   },
   "outputs": [],
   "source": [
    "X2.step()"
   ]
  },
  {
   "cell_type": "code",
   "execution_count": 29,
   "metadata": {
    "collapsed": false,
    "execution": {
     "iopub.execute_input": "2022-08-19T20:42:05.822141Z",
     "iopub.status.busy": "2022-08-19T20:42:05.821559Z",
     "iopub.status.idle": "2022-08-19T20:42:06.969515Z",
     "shell.execute_reply": "2022-08-19T20:42:06.968902Z"
    },
    "pycharm": {
     "name": "#%%\n"
    }
   },
   "outputs": [
    {
     "data": {
      "text/plain": [
       "47"
      ]
     },
     "execution_count": 29,
     "metadata": {},
     "output_type": "execute_result"
    }
   ],
   "source": [
    "for _ in range(20):\n",
    "    X2.step()\n",
    "\n",
    "len(X2.data)"
   ]
  },
  {
   "cell_type": "code",
   "execution_count": 30,
   "metadata": {
    "collapsed": false,
    "execution": {
     "iopub.execute_input": "2022-08-19T20:42:06.972491Z",
     "iopub.status.busy": "2022-08-19T20:42:06.972249Z",
     "iopub.status.idle": "2022-08-19T20:42:07.783750Z",
     "shell.execute_reply": "2022-08-19T20:42:07.783082Z"
    },
    "pycharm": {
     "name": "#%%\n"
    }
   },
   "outputs": [
    {
     "data": {
      "text/plain": [
       "<AxesSubplot:xlabel='x', ylabel='y'>"
      ]
     },
     "execution_count": 30,
     "metadata": {},
     "output_type": "execute_result"
    },
    {
     "data": {
      "image/png": "[encoded data removed]",
      "text/plain": [
       "<Figure size 640x480 with 1 Axes>"
      ]
     },
     "metadata": {
      "image/png": {
       "height": 432,
       "width": 567
      }
     },
     "output_type": "display_data"
    }
   ],
   "source": [
    "X2.data.plot.scatter(\"x\", \"y\")"
   ]
  },
  {
   "cell_type": "code",
   "execution_count": 31,
   "metadata": {
    "collapsed": false,
    "execution": {
     "iopub.execute_input": "2022-08-19T20:42:07.787441Z",
     "iopub.status.busy": "2022-08-19T20:42:07.786807Z",
     "iopub.status.idle": "2022-08-19T20:42:08.714201Z",
     "shell.execute_reply": "2022-08-19T20:42:08.713511Z"
    },
    "pycharm": {
     "name": "#%%\n"
    }
   },
   "outputs": [
    {
     "data": {
      "text/plain": [
       "30"
      ]
     },
     "execution_count": 31,
     "metadata": {},
     "output_type": "execute_result"
    }
   ],
   "source": [
    "# Asynchronous, Vectorized\n",
    "X2 = Xopt(\n",
    "    generator=RandomGenerator(vocs),\n",
    "    evaluator=Evaluator(function=f, executor=executor, max_workers=MAX_WORKERS),\n",
    "    vocs=vocs,\n",
    ")\n",
    "X2.options.asynch = True\n",
    "X2.evaluator.vectorized = True\n",
    "\n",
    "# This takes fewer steps to achieve a similar numver of evaluations\n",
    "for _ in range(3):\n",
    "    X2.step()\n",
    "\n",
    "len(X2.data)"
   ]
  }
 ],
 "metadata": {
  "kernelspec": {
   "display_name": "Python 3.9.13 ('xopt-dev2')",
   "language": "python",
   "name": "python3"
  },
  "language_info": {
   "codemirror_mode": {
    "name": "ipython",
    "version": 3
   },
   "file_extension": ".py",
   "mimetype": "text/x-python",
   "name": "python",
   "nbconvert_exporter": "python",
   "pygments_lexer": "ipython3",
   "version": "3.9.13"
  },
  "vscode": {
   "interpreter": {
    "hash": "4483d4964800812ebc77892a92dde3b54705ec8a224d63d9bb659e2cc457018b"
   }
  }
 },
 "nbformat": 4,
 "nbformat_minor": 2
}
