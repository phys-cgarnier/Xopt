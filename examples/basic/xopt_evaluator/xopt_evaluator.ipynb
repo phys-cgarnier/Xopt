{
 "cells": [
  {
   "cell_type": "markdown",
   "metadata": {
    "pycharm": {
     "name": "#%% md\n"
    }
   },
   "source": []
  },
  {
   "cell_type": "markdown",
   "metadata": {
    "pycharm": {
     "name": "#%% md\n"
    }
   },
   "source": [
    "# Xopt Evaluator Basic Usage \n",
    "\n",
    "The `Evaluator` handles the execution of the user-provided `function` with optional `function_kwags`, asyncrhonously and parallel, with exception handling. "
   ]
  },
  {
   "cell_type": "code",
   "execution_count": 1,
   "metadata": {
    "collapsed": false,
    "execution": {
     "iopub.execute_input": "2022-08-05T19:09:49.456729Z",
     "iopub.status.busy": "2022-08-05T19:09:49.456230Z",
     "iopub.status.idle": "2022-08-05T19:09:49.463814Z",
     "shell.execute_reply": "2022-08-05T19:09:49.463275Z"
    },
    "pycharm": {
     "name": "#%%\n"
    }
   },
   "outputs": [],
   "source": [
    "# needed for macos\n",
    "import platform\n",
    "if platform.system() == \"Darwin\": import multiprocessing;multiprocessing.set_start_method(\"fork\")\n"
   ]
  },
  {
   "cell_type": "code",
   "execution_count": 2,
   "metadata": {
    "collapsed": false,
    "execution": {
     "iopub.execute_input": "2022-08-05T19:09:49.467180Z",
     "iopub.status.busy": "2022-08-05T19:09:49.466770Z",
     "iopub.status.idle": "2022-08-05T19:09:50.706754Z",
     "shell.execute_reply": "2022-08-05T19:09:50.706031Z"
    },
    "pycharm": {
     "name": "#%%\n"
    }
   },
   "outputs": [],
   "source": [
    "from xopt import Xopt, Evaluator, Generator, VOCS\n",
    "from xopt.generators.random import RandomGenerator\n",
    "\n",
    "from time import sleep\n",
    "from numpy.random import randint\n",
    "\n",
    "from typing import Dict\n",
    "\n",
    "import numpy as np\n",
    "np.random.seed(666) # for reproducibility"
   ]
  },
  {
   "cell_type": "markdown",
   "metadata": {},
   "source": [
    "Define a custom function `f(inputs: Dict) -> outputs: Dict`. "
   ]
  },
  {
   "cell_type": "code",
   "execution_count": 3,
   "metadata": {
    "execution": {
     "iopub.execute_input": "2022-08-05T19:09:50.710805Z",
     "iopub.status.busy": "2022-08-05T19:09:50.710396Z",
     "iopub.status.idle": "2022-08-05T19:09:50.715516Z",
     "shell.execute_reply": "2022-08-05T19:09:50.714949Z"
    }
   },
   "outputs": [],
   "source": [
    "def f(inputs: Dict) -> Dict:\n",
    "\n",
    "    sleep(randint(1, 5)*.1)  # simulate computation time\n",
    "    # Make some occasional errors\n",
    "    if inputs[\"x\"] > 0.8:\n",
    "        raise ValueError(\"x > 0.8\")\n",
    "\n",
    "    return {\"f1\": inputs[\"x\"] ** 2 + inputs[\"y\"] ** 2}"
   ]
  },
  {
   "cell_type": "markdown",
   "metadata": {},
   "source": [
    "Define variables, objectives, constraints, and other settings (VOCS)"
   ]
  },
  {
   "cell_type": "code",
   "execution_count": 4,
   "metadata": {
    "collapsed": false,
    "execution": {
     "iopub.execute_input": "2022-08-05T19:09:50.718411Z",
     "iopub.status.busy": "2022-08-05T19:09:50.718192Z",
     "iopub.status.idle": "2022-08-05T19:09:50.726813Z",
     "shell.execute_reply": "2022-08-05T19:09:50.726204Z"
    },
    "pycharm": {
     "name": "#%%\n"
    }
   },
   "outputs": [
    {
     "data": {
      "text/plain": [
       "VOCS(variables={'x': [0.0, 1.0], 'y': [0.0, 1.0]}, constraints={}, objectives={'f1': 'MINIMIZE'}, constants={}, linked_variables={})"
      ]
     },
     "execution_count": 4,
     "metadata": {},
     "output_type": "execute_result"
    }
   ],
   "source": [
    "vocs = VOCS(variables={\"x\": [0, 1], \"y\": [0, 1]}, objectives={\"f1\": \"MINIMIZE\"})\n",
    "vocs\n",
    "\n"
   ]
  },
  {
   "cell_type": "markdown",
   "metadata": {},
   "source": [
    "This can be used to make some random inputs for evaluating the function. "
   ]
  },
  {
   "cell_type": "code",
   "execution_count": 5,
   "metadata": {
    "execution": {
     "iopub.execute_input": "2022-08-05T19:09:50.772181Z",
     "iopub.status.busy": "2022-08-05T19:09:50.769666Z",
     "iopub.status.idle": "2022-08-05T19:09:51.080860Z",
     "shell.execute_reply": "2022-08-05T19:09:51.079949Z"
    }
   },
   "outputs": [
    {
     "data": {
      "text/plain": [
       "{'f1': 0.11401572022703582}"
      ]
     },
     "execution_count": 5,
     "metadata": {},
     "output_type": "execute_result"
    }
   ],
   "source": [
    "in1 = vocs.random_inputs()\n",
    "\n",
    "f(in1)"
   ]
  },
  {
   "cell_type": "code",
   "execution_count": 6,
   "metadata": {
    "execution": {
     "iopub.execute_input": "2022-08-05T19:09:51.084853Z",
     "iopub.status.busy": "2022-08-05T19:09:51.084288Z",
     "iopub.status.idle": "2022-08-05T19:09:51.389704Z",
     "shell.execute_reply": "2022-08-05T19:09:51.388835Z"
    }
   },
   "outputs": [
    {
     "name": "stdout",
     "output_type": "stream",
     "text": [
      "Caught error in f: x > 0.8\n"
     ]
    }
   ],
   "source": [
    "# Add in occasional errors. \n",
    "try:\n",
    "    f({\"x\": 1, \"y\": 0})\n",
    "except Exception as ex:\n",
    "    print(f\"Caught error in f: {ex}\")"
   ]
  },
  {
   "cell_type": "code",
   "execution_count": 7,
   "metadata": {
    "collapsed": false,
    "execution": {
     "iopub.execute_input": "2022-08-05T19:09:51.393341Z",
     "iopub.status.busy": "2022-08-05T19:09:51.392841Z",
     "iopub.status.idle": "2022-08-05T19:09:52.415543Z",
     "shell.execute_reply": "2022-08-05T19:09:52.415004Z"
    },
    "pycharm": {
     "name": "#%%\n"
    }
   },
   "outputs": [
    {
     "data": {
      "text/html": [
       "<div>\n",
       "<style scoped>\n",
       "    .dataframe tbody tr th:only-of-type {\n",
       "        vertical-align: middle;\n",
       "    }\n",
       "\n",
       "    .dataframe tbody tr th {\n",
       "        vertical-align: top;\n",
       "    }\n",
       "\n",
       "    .dataframe thead th {\n",
       "        text-align: right;\n",
       "    }\n",
       "</style>\n",
       "<table border=\"1\" class=\"dataframe\">\n",
       "  <thead>\n",
       "    <tr style=\"text-align: right;\">\n",
       "      <th></th>\n",
       "      <th>x</th>\n",
       "      <th>y</th>\n",
       "    </tr>\n",
       "  </thead>\n",
       "  <tbody>\n",
       "  </tbody>\n",
       "</table>\n",
       "</div>"
      ],
      "text/plain": [
       "Empty DataFrame\n",
       "Columns: [x, y]\n",
       "Index: []"
      ]
     },
     "execution_count": 7,
     "metadata": {},
     "output_type": "execute_result"
    }
   ],
   "source": [
    "X = Xopt(generator=RandomGenerator(vocs), evaluator=Evaluator(function=f), vocs=vocs)\n",
    "\n",
    "# Submit to the evaluator some new inputs\n",
    "X.submit_data(vocs.random_inputs(4))\n",
    "\n",
    "# Unevaluated inputs are collected in a dataframe\n",
    "X._input_data"
   ]
  },
  {
   "cell_type": "code",
   "execution_count": 8,
   "metadata": {
    "collapsed": false,
    "execution": {
     "iopub.execute_input": "2022-08-05T19:09:52.419225Z",
     "iopub.status.busy": "2022-08-05T19:09:52.418569Z",
     "iopub.status.idle": "2022-08-05T19:09:52.424813Z",
     "shell.execute_reply": "2022-08-05T19:09:52.424258Z"
    },
    "pycharm": {
     "name": "#%%\n"
    }
   },
   "outputs": [
    {
     "data": {
      "text/plain": [
       "{}"
      ]
     },
     "execution_count": 8,
     "metadata": {},
     "output_type": "execute_result"
    }
   ],
   "source": [
    "# Internal futures dictionary\n",
    "X._futures"
   ]
  },
  {
   "cell_type": "code",
   "execution_count": 9,
   "metadata": {
    "collapsed": false,
    "execution": {
     "iopub.execute_input": "2022-08-05T19:09:52.427898Z",
     "iopub.status.busy": "2022-08-05T19:09:52.427315Z",
     "iopub.status.idle": "2022-08-05T19:09:52.437647Z",
     "shell.execute_reply": "2022-08-05T19:09:52.437020Z"
    },
    "pycharm": {
     "name": "#%%\n"
    }
   },
   "outputs": [
    {
     "data": {
      "text/html": [
       "<div>\n",
       "<style scoped>\n",
       "    .dataframe tbody tr th:only-of-type {\n",
       "        vertical-align: middle;\n",
       "    }\n",
       "\n",
       "    .dataframe tbody tr th {\n",
       "        vertical-align: top;\n",
       "    }\n",
       "\n",
       "    .dataframe thead th {\n",
       "        text-align: right;\n",
       "    }\n",
       "</style>\n",
       "<table border=\"1\" class=\"dataframe\">\n",
       "  <thead>\n",
       "    <tr style=\"text-align: right;\">\n",
       "      <th></th>\n",
       "      <th>x</th>\n",
       "      <th>y</th>\n",
       "      <th>f1</th>\n",
       "      <th>xopt_error</th>\n",
       "      <th>xopt_error_str</th>\n",
       "    </tr>\n",
       "  </thead>\n",
       "  <tbody>\n",
       "    <tr>\n",
       "      <th>1</th>\n",
       "      <td>0.272142</td>\n",
       "      <td>0.951187</td>\n",
       "      <td>0.978818</td>\n",
       "      <td>False</td>\n",
       "      <td></td>\n",
       "    </tr>\n",
       "    <tr>\n",
       "      <th>2</th>\n",
       "      <td>0.048542</td>\n",
       "      <td>0.900071</td>\n",
       "      <td>0.812485</td>\n",
       "      <td>False</td>\n",
       "      <td></td>\n",
       "    </tr>\n",
       "    <tr>\n",
       "      <th>3</th>\n",
       "      <td>0.987297</td>\n",
       "      <td>0.491934</td>\n",
       "      <td>NaN</td>\n",
       "      <td>True</td>\n",
       "      <td>Traceback (most recent call last):\\n  File \"/u...</td>\n",
       "    </tr>\n",
       "    <tr>\n",
       "      <th>4</th>\n",
       "      <td>0.586412</td>\n",
       "      <td>0.799752</td>\n",
       "      <td>0.983483</td>\n",
       "      <td>False</td>\n",
       "      <td></td>\n",
       "    </tr>\n",
       "  </tbody>\n",
       "</table>\n",
       "</div>"
      ],
      "text/plain": [
       "          x         y        f1 xopt_error  \\\n",
       "1  0.272142  0.951187  0.978818      False   \n",
       "2  0.048542  0.900071  0.812485      False   \n",
       "3  0.987297  0.491934       NaN       True   \n",
       "4  0.586412  0.799752  0.983483      False   \n",
       "\n",
       "                                      xopt_error_str  \n",
       "1                                                     \n",
       "2                                                     \n",
       "3  Traceback (most recent call last):\\n  File \"/u...  \n",
       "4                                                     "
      ]
     },
     "execution_count": 9,
     "metadata": {},
     "output_type": "execute_result"
    }
   ],
   "source": [
    "# Collect all finished futures and updata dataframe\n",
    "X.update_data()\n",
    "X.data"
   ]
  },
  {
   "cell_type": "code",
   "execution_count": 10,
   "metadata": {
    "collapsed": false,
    "execution": {
     "iopub.execute_input": "2022-08-05T19:09:52.440549Z",
     "iopub.status.busy": "2022-08-05T19:09:52.440116Z",
     "iopub.status.idle": "2022-08-05T19:09:52.443802Z",
     "shell.execute_reply": "2022-08-05T19:09:52.443347Z"
    },
    "pycharm": {
     "name": "#%%\n"
    }
   },
   "outputs": [
    {
     "data": {
      "text/plain": [
       "{}"
      ]
     },
     "execution_count": 10,
     "metadata": {},
     "output_type": "execute_result"
    }
   ],
   "source": [
    "# Futures are now cleared out\n",
    "X._futures"
   ]
  },
  {
   "cell_type": "code",
   "execution_count": 11,
   "metadata": {
    "collapsed": false,
    "execution": {
     "iopub.execute_input": "2022-08-05T19:09:52.446557Z",
     "iopub.status.busy": "2022-08-05T19:09:52.446146Z",
     "iopub.status.idle": "2022-08-05T19:09:52.449732Z",
     "shell.execute_reply": "2022-08-05T19:09:52.449284Z"
    },
    "pycharm": {
     "name": "#%%\n"
    }
   },
   "outputs": [
    {
     "data": {
      "text/plain": [
       "4"
      ]
     },
     "execution_count": 11,
     "metadata": {},
     "output_type": "execute_result"
    }
   ],
   "source": [
    "# This is the internal counter\n",
    "X._ix_last"
   ]
  },
  {
   "cell_type": "code",
   "execution_count": 12,
   "metadata": {
    "collapsed": false,
    "execution": {
     "iopub.execute_input": "2022-08-05T19:09:52.452552Z",
     "iopub.status.busy": "2022-08-05T19:09:52.452142Z",
     "iopub.status.idle": "2022-08-05T19:09:53.165921Z",
     "shell.execute_reply": "2022-08-05T19:09:53.165218Z"
    },
    "pycharm": {
     "name": "#%%\n"
    }
   },
   "outputs": [
    {
     "data": {
      "text/html": [
       "<div>\n",
       "<style scoped>\n",
       "    .dataframe tbody tr th:only-of-type {\n",
       "        vertical-align: middle;\n",
       "    }\n",
       "\n",
       "    .dataframe tbody tr th {\n",
       "        vertical-align: top;\n",
       "    }\n",
       "\n",
       "    .dataframe thead th {\n",
       "        text-align: right;\n",
       "    }\n",
       "</style>\n",
       "<table border=\"1\" class=\"dataframe\">\n",
       "  <thead>\n",
       "    <tr style=\"text-align: right;\">\n",
       "      <th></th>\n",
       "      <th>x</th>\n",
       "      <th>y</th>\n",
       "    </tr>\n",
       "  </thead>\n",
       "  <tbody>\n",
       "  </tbody>\n",
       "</table>\n",
       "</div>"
      ],
      "text/plain": [
       "Empty DataFrame\n",
       "Columns: [x, y]\n",
       "Index: []"
      ]
     },
     "execution_count": 12,
     "metadata": {},
     "output_type": "execute_result"
    }
   ],
   "source": [
    "X.submit_data(vocs.random_inputs(4))\n",
    "X._input_data"
   ]
  },
  {
   "cell_type": "code",
   "execution_count": 13,
   "metadata": {
    "collapsed": false,
    "execution": {
     "iopub.execute_input": "2022-08-05T19:09:53.169620Z",
     "iopub.status.busy": "2022-08-05T19:09:53.168957Z",
     "iopub.status.idle": "2022-08-05T19:09:53.173137Z",
     "shell.execute_reply": "2022-08-05T19:09:53.172666Z"
    },
    "pycharm": {
     "name": "#%%\n"
    }
   },
   "outputs": [
    {
     "data": {
      "text/plain": [
       "{}"
      ]
     },
     "execution_count": 13,
     "metadata": {},
     "output_type": "execute_result"
    }
   ],
   "source": [
    "X._futures"
   ]
  },
  {
   "cell_type": "code",
   "execution_count": 14,
   "metadata": {
    "collapsed": false,
    "execution": {
     "iopub.execute_input": "2022-08-05T19:09:53.177953Z",
     "iopub.status.busy": "2022-08-05T19:09:53.177548Z",
     "iopub.status.idle": "2022-08-05T19:09:53.395260Z",
     "shell.execute_reply": "2022-08-05T19:09:53.394586Z"
    },
    "pycharm": {
     "name": "#%%\n"
    }
   },
   "outputs": [
    {
     "data": {
      "text/html": [
       "<div>\n",
       "<style scoped>\n",
       "    .dataframe tbody tr th:only-of-type {\n",
       "        vertical-align: middle;\n",
       "    }\n",
       "\n",
       "    .dataframe tbody tr th {\n",
       "        vertical-align: top;\n",
       "    }\n",
       "\n",
       "    .dataframe thead th {\n",
       "        text-align: right;\n",
       "    }\n",
       "</style>\n",
       "<table border=\"1\" class=\"dataframe\">\n",
       "  <thead>\n",
       "    <tr style=\"text-align: right;\">\n",
       "      <th></th>\n",
       "      <th>x</th>\n",
       "      <th>y</th>\n",
       "      <th>f1</th>\n",
       "      <th>xopt_error</th>\n",
       "      <th>xopt_error_str</th>\n",
       "    </tr>\n",
       "  </thead>\n",
       "  <tbody>\n",
       "    <tr>\n",
       "      <th>1</th>\n",
       "      <td>0.272142</td>\n",
       "      <td>0.951187</td>\n",
       "      <td>0.978818</td>\n",
       "      <td>False</td>\n",
       "      <td></td>\n",
       "    </tr>\n",
       "    <tr>\n",
       "      <th>2</th>\n",
       "      <td>0.048542</td>\n",
       "      <td>0.900071</td>\n",
       "      <td>0.812485</td>\n",
       "      <td>False</td>\n",
       "      <td></td>\n",
       "    </tr>\n",
       "    <tr>\n",
       "      <th>3</th>\n",
       "      <td>0.987297</td>\n",
       "      <td>0.491934</td>\n",
       "      <td>NaN</td>\n",
       "      <td>True</td>\n",
       "      <td>Traceback (most recent call last):\\n  File \"/u...</td>\n",
       "    </tr>\n",
       "    <tr>\n",
       "      <th>4</th>\n",
       "      <td>0.586412</td>\n",
       "      <td>0.799752</td>\n",
       "      <td>0.983483</td>\n",
       "      <td>False</td>\n",
       "      <td></td>\n",
       "    </tr>\n",
       "    <tr>\n",
       "      <th>5</th>\n",
       "      <td>0.299155</td>\n",
       "      <td>0.887142</td>\n",
       "      <td>0.876515</td>\n",
       "      <td>False</td>\n",
       "      <td></td>\n",
       "    </tr>\n",
       "    <tr>\n",
       "      <th>6</th>\n",
       "      <td>0.706772</td>\n",
       "      <td>0.889046</td>\n",
       "      <td>1.289930</td>\n",
       "      <td>False</td>\n",
       "      <td></td>\n",
       "    </tr>\n",
       "    <tr>\n",
       "      <th>7</th>\n",
       "      <td>0.225521</td>\n",
       "      <td>0.752332</td>\n",
       "      <td>0.616863</td>\n",
       "      <td>False</td>\n",
       "      <td></td>\n",
       "    </tr>\n",
       "    <tr>\n",
       "      <th>8</th>\n",
       "      <td>0.994891</td>\n",
       "      <td>0.976764</td>\n",
       "      <td>NaN</td>\n",
       "      <td>True</td>\n",
       "      <td>Traceback (most recent call last):\\n  File \"/u...</td>\n",
       "    </tr>\n",
       "    <tr>\n",
       "      <th>9</th>\n",
       "      <td>0.802497</td>\n",
       "      <td>0.090820</td>\n",
       "      <td>NaN</td>\n",
       "      <td>True</td>\n",
       "      <td>Traceback (most recent call last):\\n  File \"/u...</td>\n",
       "    </tr>\n",
       "  </tbody>\n",
       "</table>\n",
       "</div>"
      ],
      "text/plain": [
       "          x         y        f1 xopt_error  \\\n",
       "1  0.272142  0.951187  0.978818      False   \n",
       "2  0.048542  0.900071  0.812485      False   \n",
       "3  0.987297  0.491934       NaN       True   \n",
       "4  0.586412  0.799752  0.983483      False   \n",
       "5  0.299155  0.887142  0.876515      False   \n",
       "6  0.706772  0.889046  1.289930      False   \n",
       "7  0.225521  0.752332  0.616863      False   \n",
       "8  0.994891  0.976764       NaN       True   \n",
       "9  0.802497  0.090820       NaN       True   \n",
       "\n",
       "                                      xopt_error_str  \n",
       "1                                                     \n",
       "2                                                     \n",
       "3  Traceback (most recent call last):\\n  File \"/u...  \n",
       "4                                                     \n",
       "5                                                     \n",
       "6                                                     \n",
       "7                                                     \n",
       "8  Traceback (most recent call last):\\n  File \"/u...  \n",
       "9  Traceback (most recent call last):\\n  File \"/u...  "
      ]
     },
     "execution_count": 14,
     "metadata": {},
     "output_type": "execute_result"
    }
   ],
   "source": [
    "# Singe generation step\n",
    "X.step()\n",
    "X.update_data()\n",
    "X.data"
   ]
  },
  {
   "cell_type": "markdown",
   "metadata": {
    "collapsed": false,
    "pycharm": {
     "name": "#%% md\n"
    }
   },
   "source": [
    "# Executors"
   ]
  },
  {
   "cell_type": "code",
   "execution_count": 15,
   "metadata": {
    "collapsed": false,
    "execution": {
     "iopub.execute_input": "2022-08-05T19:09:53.398986Z",
     "iopub.status.busy": "2022-08-05T19:09:53.398382Z",
     "iopub.status.idle": "2022-08-05T19:09:53.401654Z",
     "shell.execute_reply": "2022-08-05T19:09:53.401060Z"
    },
    "pycharm": {
     "name": "#%%\n"
    }
   },
   "outputs": [],
   "source": [
    "from concurrent.futures import ThreadPoolExecutor, ProcessPoolExecutor"
   ]
  },
  {
   "cell_type": "code",
   "execution_count": 16,
   "metadata": {
    "collapsed": false,
    "execution": {
     "iopub.execute_input": "2022-08-05T19:09:53.404688Z",
     "iopub.status.busy": "2022-08-05T19:09:53.404102Z",
     "iopub.status.idle": "2022-08-05T19:09:53.407140Z",
     "shell.execute_reply": "2022-08-05T19:09:53.406545Z"
    },
    "pycharm": {
     "name": "#%%\n"
    }
   },
   "outputs": [],
   "source": [
    "MAX_WORKERS = 10"
   ]
  },
  {
   "cell_type": "code",
   "execution_count": 17,
   "metadata": {
    "collapsed": false,
    "execution": {
     "iopub.execute_input": "2022-08-05T19:09:53.409861Z",
     "iopub.status.busy": "2022-08-05T19:09:53.409450Z",
     "iopub.status.idle": "2022-08-05T19:09:53.412231Z",
     "shell.execute_reply": "2022-08-05T19:09:53.411613Z"
    },
    "pycharm": {
     "name": "#%%\n"
    }
   },
   "outputs": [],
   "source": [
    "# Dask\n",
    "# from dask.distributed import Client\n",
    "# import logging\n",
    "# client = Client( silence_logs=logging.ERROR)\n",
    "# executor = client.get_executor()\n",
    "# client"
   ]
  },
  {
   "cell_type": "code",
   "execution_count": 18,
   "metadata": {
    "collapsed": false,
    "execution": {
     "iopub.execute_input": "2022-08-05T19:09:53.415108Z",
     "iopub.status.busy": "2022-08-05T19:09:53.414742Z",
     "iopub.status.idle": "2022-08-05T19:09:53.419810Z",
     "shell.execute_reply": "2022-08-05T19:09:53.419217Z"
    },
    "pycharm": {
     "name": "#%%\n"
    }
   },
   "outputs": [
    {
     "data": {
      "text/plain": [
       "<concurrent.futures.process.ProcessPoolExecutor at 0x7f32302b16d0>"
      ]
     },
     "execution_count": 18,
     "metadata": {},
     "output_type": "execute_result"
    }
   ],
   "source": [
    "executor = ProcessPoolExecutor(max_workers=MAX_WORKERS)\n",
    "executor"
   ]
  },
  {
   "cell_type": "code",
   "execution_count": 19,
   "metadata": {
    "collapsed": false,
    "execution": {
     "iopub.execute_input": "2022-08-05T19:09:53.422621Z",
     "iopub.status.busy": "2022-08-05T19:09:53.422215Z",
     "iopub.status.idle": "2022-08-05T19:09:53.432338Z",
     "shell.execute_reply": "2022-08-05T19:09:53.431706Z"
    },
    "pycharm": {
     "name": "#%%\n"
    }
   },
   "outputs": [],
   "source": [
    "X2 = Xopt(\n",
    "    generator=RandomGenerator(vocs),\n",
    "    evaluator=Evaluator(function=f, executor=executor, max_workers=MAX_WORKERS),\n",
    "    vocs=vocs,\n",
    ")\n",
    "X2.options.asynch = True"
   ]
  },
  {
   "cell_type": "code",
   "execution_count": 20,
   "metadata": {
    "collapsed": false,
    "execution": {
     "iopub.execute_input": "2022-08-05T19:09:53.435359Z",
     "iopub.status.busy": "2022-08-05T19:09:53.434934Z",
     "iopub.status.idle": "2022-08-05T19:09:55.355791Z",
     "shell.execute_reply": "2022-08-05T19:09:55.354276Z"
    },
    "pycharm": {
     "name": "#%%\n"
    }
   },
   "outputs": [],
   "source": [
    "for _ in range(20):\n",
    "    X2.step()"
   ]
  },
  {
   "cell_type": "code",
   "execution_count": 21,
   "metadata": {
    "collapsed": false,
    "execution": {
     "iopub.execute_input": "2022-08-05T19:09:55.361709Z",
     "iopub.status.busy": "2022-08-05T19:09:55.361258Z",
     "iopub.status.idle": "2022-08-05T19:09:56.133699Z",
     "shell.execute_reply": "2022-08-05T19:09:56.133092Z"
    },
    "pycharm": {
     "name": "#%%\n"
    }
   },
   "outputs": [
    {
     "data": {
      "text/plain": [
       "<AxesSubplot:xlabel='x', ylabel='y'>"
      ]
     },
     "execution_count": 21,
     "metadata": {},
     "output_type": "execute_result"
    },
    {
     "data": {
      "image/png": "[encoded data removed]",
      "text/plain": [
       "<Figure size 432x288 with 1 Axes>"
      ]
     },
     "metadata": {
      "needs_background": "light"
     },
     "output_type": "display_data"
    }
   ],
   "source": [
    "X2.data.plot.scatter(\"x\", \"y\")"
   ]
  },
  {
   "cell_type": "code",
   "execution_count": 22,
   "metadata": {
    "collapsed": false,
    "execution": {
     "iopub.execute_input": "2022-08-05T19:09:56.137821Z",
     "iopub.status.busy": "2022-08-05T19:09:56.137471Z",
     "iopub.status.idle": "2022-08-05T19:09:56.153387Z",
     "shell.execute_reply": "2022-08-05T19:09:56.152814Z"
    },
    "pycharm": {
     "name": "#%%\n"
    }
   },
   "outputs": [
    {
     "data": {
      "text/html": [
       "<div>\n",
       "<style scoped>\n",
       "    .dataframe tbody tr th:only-of-type {\n",
       "        vertical-align: middle;\n",
       "    }\n",
       "\n",
       "    .dataframe tbody tr th {\n",
       "        vertical-align: top;\n",
       "    }\n",
       "\n",
       "    .dataframe thead th {\n",
       "        text-align: right;\n",
       "    }\n",
       "</style>\n",
       "<table border=\"1\" class=\"dataframe\">\n",
       "  <thead>\n",
       "    <tr style=\"text-align: right;\">\n",
       "      <th></th>\n",
       "      <th>x</th>\n",
       "      <th>y</th>\n",
       "      <th>f1</th>\n",
       "      <th>xopt_error</th>\n",
       "      <th>xopt_error_str</th>\n",
       "    </tr>\n",
       "  </thead>\n",
       "  <tbody>\n",
       "    <tr>\n",
       "      <th>1</th>\n",
       "      <td>0.475619</td>\n",
       "      <td>0.127120</td>\n",
       "      <td>0.242373</td>\n",
       "      <td>False</td>\n",
       "      <td></td>\n",
       "    </tr>\n",
       "    <tr>\n",
       "      <th>2</th>\n",
       "      <td>0.057461</td>\n",
       "      <td>0.478903</td>\n",
       "      <td>0.232650</td>\n",
       "      <td>False</td>\n",
       "      <td></td>\n",
       "    </tr>\n",
       "    <tr>\n",
       "      <th>3</th>\n",
       "      <td>0.925261</td>\n",
       "      <td>0.249796</td>\n",
       "      <td>NaN</td>\n",
       "      <td>True</td>\n",
       "      <td>concurrent.futures.process._RemoteTraceback: \\...</td>\n",
       "    </tr>\n",
       "    <tr>\n",
       "      <th>4</th>\n",
       "      <td>0.723537</td>\n",
       "      <td>0.670598</td>\n",
       "      <td>0.973208</td>\n",
       "      <td>False</td>\n",
       "      <td></td>\n",
       "    </tr>\n",
       "    <tr>\n",
       "      <th>5</th>\n",
       "      <td>0.532415</td>\n",
       "      <td>0.708698</td>\n",
       "      <td>0.785718</td>\n",
       "      <td>False</td>\n",
       "      <td></td>\n",
       "    </tr>\n",
       "    <tr>\n",
       "      <th>6</th>\n",
       "      <td>0.684185</td>\n",
       "      <td>0.998964</td>\n",
       "      <td>1.466037</td>\n",
       "      <td>False</td>\n",
       "      <td></td>\n",
       "    </tr>\n",
       "    <tr>\n",
       "      <th>7</th>\n",
       "      <td>0.609837</td>\n",
       "      <td>0.363820</td>\n",
       "      <td>0.504267</td>\n",
       "      <td>False</td>\n",
       "      <td></td>\n",
       "    </tr>\n",
       "    <tr>\n",
       "      <th>8</th>\n",
       "      <td>0.731670</td>\n",
       "      <td>0.020664</td>\n",
       "      <td>0.535768</td>\n",
       "      <td>False</td>\n",
       "      <td></td>\n",
       "    </tr>\n",
       "    <tr>\n",
       "      <th>9</th>\n",
       "      <td>0.246336</td>\n",
       "      <td>0.087637</td>\n",
       "      <td>0.068362</td>\n",
       "      <td>False</td>\n",
       "      <td></td>\n",
       "    </tr>\n",
       "    <tr>\n",
       "      <th>10</th>\n",
       "      <td>0.333263</td>\n",
       "      <td>0.600748</td>\n",
       "      <td>0.471962</td>\n",
       "      <td>False</td>\n",
       "      <td></td>\n",
       "    </tr>\n",
       "    <tr>\n",
       "      <th>11</th>\n",
       "      <td>0.596771</td>\n",
       "      <td>0.132335</td>\n",
       "      <td>0.373648</td>\n",
       "      <td>False</td>\n",
       "      <td></td>\n",
       "    </tr>\n",
       "    <tr>\n",
       "      <th>12</th>\n",
       "      <td>0.665451</td>\n",
       "      <td>0.208765</td>\n",
       "      <td>0.486407</td>\n",
       "      <td>False</td>\n",
       "      <td></td>\n",
       "    </tr>\n",
       "    <tr>\n",
       "      <th>13</th>\n",
       "      <td>0.276934</td>\n",
       "      <td>0.555539</td>\n",
       "      <td>0.385316</td>\n",
       "      <td>False</td>\n",
       "      <td></td>\n",
       "    </tr>\n",
       "    <tr>\n",
       "      <th>14</th>\n",
       "      <td>0.031670</td>\n",
       "      <td>0.043808</td>\n",
       "      <td>0.002922</td>\n",
       "      <td>False</td>\n",
       "      <td></td>\n",
       "    </tr>\n",
       "    <tr>\n",
       "      <th>15</th>\n",
       "      <td>0.266466</td>\n",
       "      <td>0.878615</td>\n",
       "      <td>0.842968</td>\n",
       "      <td>False</td>\n",
       "      <td></td>\n",
       "    </tr>\n",
       "    <tr>\n",
       "      <th>16</th>\n",
       "      <td>0.287898</td>\n",
       "      <td>0.339161</td>\n",
       "      <td>0.197915</td>\n",
       "      <td>False</td>\n",
       "      <td></td>\n",
       "    </tr>\n",
       "    <tr>\n",
       "      <th>17</th>\n",
       "      <td>0.757285</td>\n",
       "      <td>0.835407</td>\n",
       "      <td>1.271387</td>\n",
       "      <td>False</td>\n",
       "      <td></td>\n",
       "    </tr>\n",
       "    <tr>\n",
       "      <th>18</th>\n",
       "      <td>0.429563</td>\n",
       "      <td>0.905642</td>\n",
       "      <td>1.004711</td>\n",
       "      <td>False</td>\n",
       "      <td></td>\n",
       "    </tr>\n",
       "    <tr>\n",
       "      <th>19</th>\n",
       "      <td>0.422266</td>\n",
       "      <td>0.412386</td>\n",
       "      <td>0.348370</td>\n",
       "      <td>False</td>\n",
       "      <td></td>\n",
       "    </tr>\n",
       "    <tr>\n",
       "      <th>20</th>\n",
       "      <td>0.107252</td>\n",
       "      <td>0.139856</td>\n",
       "      <td>0.031062</td>\n",
       "      <td>False</td>\n",
       "      <td></td>\n",
       "    </tr>\n",
       "    <tr>\n",
       "      <th>21</th>\n",
       "      <td>0.170630</td>\n",
       "      <td>0.640671</td>\n",
       "      <td>0.439573</td>\n",
       "      <td>False</td>\n",
       "      <td></td>\n",
       "    </tr>\n",
       "    <tr>\n",
       "      <th>22</th>\n",
       "      <td>0.349082</td>\n",
       "      <td>0.579855</td>\n",
       "      <td>0.458090</td>\n",
       "      <td>False</td>\n",
       "      <td></td>\n",
       "    </tr>\n",
       "    <tr>\n",
       "      <th>23</th>\n",
       "      <td>0.481673</td>\n",
       "      <td>0.797356</td>\n",
       "      <td>0.867786</td>\n",
       "      <td>False</td>\n",
       "      <td></td>\n",
       "    </tr>\n",
       "    <tr>\n",
       "      <th>24</th>\n",
       "      <td>0.996450</td>\n",
       "      <td>0.367202</td>\n",
       "      <td>NaN</td>\n",
       "      <td>True</td>\n",
       "      <td>concurrent.futures.process._RemoteTraceback: \\...</td>\n",
       "    </tr>\n",
       "    <tr>\n",
       "      <th>26</th>\n",
       "      <td>0.869150</td>\n",
       "      <td>0.550858</td>\n",
       "      <td>NaN</td>\n",
       "      <td>True</td>\n",
       "      <td>concurrent.futures.process._RemoteTraceback: \\...</td>\n",
       "    </tr>\n",
       "    <tr>\n",
       "      <th>27</th>\n",
       "      <td>0.242342</td>\n",
       "      <td>0.760978</td>\n",
       "      <td>0.637816</td>\n",
       "      <td>False</td>\n",
       "      <td></td>\n",
       "    </tr>\n",
       "    <tr>\n",
       "      <th>28</th>\n",
       "      <td>0.658418</td>\n",
       "      <td>0.669859</td>\n",
       "      <td>0.882226</td>\n",
       "      <td>False</td>\n",
       "      <td></td>\n",
       "    </tr>\n",
       "    <tr>\n",
       "      <th>29</th>\n",
       "      <td>0.478615</td>\n",
       "      <td>0.733491</td>\n",
       "      <td>0.767081</td>\n",
       "      <td>False</td>\n",
       "      <td></td>\n",
       "    </tr>\n",
       "    <tr>\n",
       "      <th>30</th>\n",
       "      <td>0.116977</td>\n",
       "      <td>0.202318</td>\n",
       "      <td>0.054616</td>\n",
       "      <td>False</td>\n",
       "      <td></td>\n",
       "    </tr>\n",
       "    <tr>\n",
       "      <th>25</th>\n",
       "      <td>0.196908</td>\n",
       "      <td>0.810641</td>\n",
       "      <td>0.695912</td>\n",
       "      <td>False</td>\n",
       "      <td></td>\n",
       "    </tr>\n",
       "    <tr>\n",
       "      <th>32</th>\n",
       "      <td>0.870193</td>\n",
       "      <td>0.639232</td>\n",
       "      <td>NaN</td>\n",
       "      <td>True</td>\n",
       "      <td>concurrent.futures.process._RemoteTraceback: \\...</td>\n",
       "    </tr>\n",
       "    <tr>\n",
       "      <th>31</th>\n",
       "      <td>0.944483</td>\n",
       "      <td>0.177374</td>\n",
       "      <td>NaN</td>\n",
       "      <td>True</td>\n",
       "      <td>concurrent.futures.process._RemoteTraceback: \\...</td>\n",
       "    </tr>\n",
       "    <tr>\n",
       "      <th>33</th>\n",
       "      <td>0.430299</td>\n",
       "      <td>0.169767</td>\n",
       "      <td>0.213978</td>\n",
       "      <td>False</td>\n",
       "      <td></td>\n",
       "    </tr>\n",
       "    <tr>\n",
       "      <th>34</th>\n",
       "      <td>0.552324</td>\n",
       "      <td>0.413752</td>\n",
       "      <td>0.476253</td>\n",
       "      <td>False</td>\n",
       "      <td></td>\n",
       "    </tr>\n",
       "    <tr>\n",
       "      <th>35</th>\n",
       "      <td>0.786717</td>\n",
       "      <td>0.452401</td>\n",
       "      <td>0.823590</td>\n",
       "      <td>False</td>\n",
       "      <td></td>\n",
       "    </tr>\n",
       "    <tr>\n",
       "      <th>36</th>\n",
       "      <td>0.438846</td>\n",
       "      <td>0.918227</td>\n",
       "      <td>1.035726</td>\n",
       "      <td>False</td>\n",
       "      <td></td>\n",
       "    </tr>\n",
       "    <tr>\n",
       "      <th>37</th>\n",
       "      <td>0.283422</td>\n",
       "      <td>0.591471</td>\n",
       "      <td>0.430166</td>\n",
       "      <td>False</td>\n",
       "      <td></td>\n",
       "    </tr>\n",
       "    <tr>\n",
       "      <th>38</th>\n",
       "      <td>0.250679</td>\n",
       "      <td>0.367948</td>\n",
       "      <td>0.198226</td>\n",
       "      <td>False</td>\n",
       "      <td></td>\n",
       "    </tr>\n",
       "    <tr>\n",
       "      <th>39</th>\n",
       "      <td>0.878311</td>\n",
       "      <td>0.725191</td>\n",
       "      <td>NaN</td>\n",
       "      <td>True</td>\n",
       "      <td>concurrent.futures.process._RemoteTraceback: \\...</td>\n",
       "    </tr>\n",
       "    <tr>\n",
       "      <th>40</th>\n",
       "      <td>0.922295</td>\n",
       "      <td>0.842734</td>\n",
       "      <td>NaN</td>\n",
       "      <td>True</td>\n",
       "      <td>concurrent.futures.process._RemoteTraceback: \\...</td>\n",
       "    </tr>\n",
       "    <tr>\n",
       "      <th>42</th>\n",
       "      <td>0.290585</td>\n",
       "      <td>0.554812</td>\n",
       "      <td>0.392257</td>\n",
       "      <td>False</td>\n",
       "      <td></td>\n",
       "    </tr>\n",
       "    <tr>\n",
       "      <th>41</th>\n",
       "      <td>0.850220</td>\n",
       "      <td>0.614646</td>\n",
       "      <td>NaN</td>\n",
       "      <td>True</td>\n",
       "      <td>concurrent.futures.process._RemoteTraceback: \\...</td>\n",
       "    </tr>\n",
       "    <tr>\n",
       "      <th>43</th>\n",
       "      <td>0.984153</td>\n",
       "      <td>0.005086</td>\n",
       "      <td>NaN</td>\n",
       "      <td>True</td>\n",
       "      <td>concurrent.futures.process._RemoteTraceback: \\...</td>\n",
       "    </tr>\n",
       "    <tr>\n",
       "      <th>44</th>\n",
       "      <td>0.093673</td>\n",
       "      <td>0.727395</td>\n",
       "      <td>0.537879</td>\n",
       "      <td>False</td>\n",
       "      <td></td>\n",
       "    </tr>\n",
       "    <tr>\n",
       "      <th>45</th>\n",
       "      <td>0.948004</td>\n",
       "      <td>0.768856</td>\n",
       "      <td>NaN</td>\n",
       "      <td>True</td>\n",
       "      <td>concurrent.futures.process._RemoteTraceback: \\...</td>\n",
       "    </tr>\n",
       "    <tr>\n",
       "      <th>46</th>\n",
       "      <td>0.138991</td>\n",
       "      <td>0.041419</td>\n",
       "      <td>0.021034</td>\n",
       "      <td>False</td>\n",
       "      <td></td>\n",
       "    </tr>\n",
       "    <tr>\n",
       "      <th>47</th>\n",
       "      <td>0.487754</td>\n",
       "      <td>0.334202</td>\n",
       "      <td>0.349594</td>\n",
       "      <td>False</td>\n",
       "      <td></td>\n",
       "    </tr>\n",
       "    <tr>\n",
       "      <th>48</th>\n",
       "      <td>0.988845</td>\n",
       "      <td>0.159841</td>\n",
       "      <td>NaN</td>\n",
       "      <td>True</td>\n",
       "      <td>concurrent.futures.process._RemoteTraceback: \\...</td>\n",
       "    </tr>\n",
       "    <tr>\n",
       "      <th>49</th>\n",
       "      <td>0.506894</td>\n",
       "      <td>0.853088</td>\n",
       "      <td>0.984701</td>\n",
       "      <td>False</td>\n",
       "      <td></td>\n",
       "    </tr>\n",
       "    <tr>\n",
       "      <th>50</th>\n",
       "      <td>0.448976</td>\n",
       "      <td>0.856056</td>\n",
       "      <td>0.934412</td>\n",
       "      <td>False</td>\n",
       "      <td></td>\n",
       "    </tr>\n",
       "    <tr>\n",
       "      <th>51</th>\n",
       "      <td>0.691569</td>\n",
       "      <td>0.629836</td>\n",
       "      <td>0.874961</td>\n",
       "      <td>False</td>\n",
       "      <td></td>\n",
       "    </tr>\n",
       "    <tr>\n",
       "      <th>52</th>\n",
       "      <td>0.681470</td>\n",
       "      <td>0.437600</td>\n",
       "      <td>0.655895</td>\n",
       "      <td>False</td>\n",
       "      <td></td>\n",
       "    </tr>\n",
       "  </tbody>\n",
       "</table>\n",
       "</div>"
      ],
      "text/plain": [
       "           x         y        f1  xopt_error  \\\n",
       "1   0.475619  0.127120  0.242373       False   \n",
       "2   0.057461  0.478903  0.232650       False   \n",
       "3   0.925261  0.249796       NaN        True   \n",
       "4   0.723537  0.670598  0.973208       False   \n",
       "5   0.532415  0.708698  0.785718       False   \n",
       "6   0.684185  0.998964  1.466037       False   \n",
       "7   0.609837  0.363820  0.504267       False   \n",
       "8   0.731670  0.020664  0.535768       False   \n",
       "9   0.246336  0.087637  0.068362       False   \n",
       "10  0.333263  0.600748  0.471962       False   \n",
       "11  0.596771  0.132335  0.373648       False   \n",
       "12  0.665451  0.208765  0.486407       False   \n",
       "13  0.276934  0.555539  0.385316       False   \n",
       "14  0.031670  0.043808  0.002922       False   \n",
       "15  0.266466  0.878615  0.842968       False   \n",
       "16  0.287898  0.339161  0.197915       False   \n",
       "17  0.757285  0.835407  1.271387       False   \n",
       "18  0.429563  0.905642  1.004711       False   \n",
       "19  0.422266  0.412386  0.348370       False   \n",
       "20  0.107252  0.139856  0.031062       False   \n",
       "21  0.170630  0.640671  0.439573       False   \n",
       "22  0.349082  0.579855  0.458090       False   \n",
       "23  0.481673  0.797356  0.867786       False   \n",
       "24  0.996450  0.367202       NaN        True   \n",
       "26  0.869150  0.550858       NaN        True   \n",
       "27  0.242342  0.760978  0.637816       False   \n",
       "28  0.658418  0.669859  0.882226       False   \n",
       "29  0.478615  0.733491  0.767081       False   \n",
       "30  0.116977  0.202318  0.054616       False   \n",
       "25  0.196908  0.810641  0.695912       False   \n",
       "32  0.870193  0.639232       NaN        True   \n",
       "31  0.944483  0.177374       NaN        True   \n",
       "33  0.430299  0.169767  0.213978       False   \n",
       "34  0.552324  0.413752  0.476253       False   \n",
       "35  0.786717  0.452401  0.823590       False   \n",
       "36  0.438846  0.918227  1.035726       False   \n",
       "37  0.283422  0.591471  0.430166       False   \n",
       "38  0.250679  0.367948  0.198226       False   \n",
       "39  0.878311  0.725191       NaN        True   \n",
       "40  0.922295  0.842734       NaN        True   \n",
       "42  0.290585  0.554812  0.392257       False   \n",
       "41  0.850220  0.614646       NaN        True   \n",
       "43  0.984153  0.005086       NaN        True   \n",
       "44  0.093673  0.727395  0.537879       False   \n",
       "45  0.948004  0.768856       NaN        True   \n",
       "46  0.138991  0.041419  0.021034       False   \n",
       "47  0.487754  0.334202  0.349594       False   \n",
       "48  0.988845  0.159841       NaN        True   \n",
       "49  0.506894  0.853088  0.984701       False   \n",
       "50  0.448976  0.856056  0.934412       False   \n",
       "51  0.691569  0.629836  0.874961       False   \n",
       "52  0.681470  0.437600  0.655895       False   \n",
       "\n",
       "                                       xopt_error_str  \n",
       "1                                                      \n",
       "2                                                      \n",
       "3   concurrent.futures.process._RemoteTraceback: \\...  \n",
       "4                                                      \n",
       "5                                                      \n",
       "6                                                      \n",
       "7                                                      \n",
       "8                                                      \n",
       "9                                                      \n",
       "10                                                     \n",
       "11                                                     \n",
       "12                                                     \n",
       "13                                                     \n",
       "14                                                     \n",
       "15                                                     \n",
       "16                                                     \n",
       "17                                                     \n",
       "18                                                     \n",
       "19                                                     \n",
       "20                                                     \n",
       "21                                                     \n",
       "22                                                     \n",
       "23                                                     \n",
       "24  concurrent.futures.process._RemoteTraceback: \\...  \n",
       "26  concurrent.futures.process._RemoteTraceback: \\...  \n",
       "27                                                     \n",
       "28                                                     \n",
       "29                                                     \n",
       "30                                                     \n",
       "25                                                     \n",
       "32  concurrent.futures.process._RemoteTraceback: \\...  \n",
       "31  concurrent.futures.process._RemoteTraceback: \\...  \n",
       "33                                                     \n",
       "34                                                     \n",
       "35                                                     \n",
       "36                                                     \n",
       "37                                                     \n",
       "38                                                     \n",
       "39  concurrent.futures.process._RemoteTraceback: \\...  \n",
       "40  concurrent.futures.process._RemoteTraceback: \\...  \n",
       "42                                                     \n",
       "41  concurrent.futures.process._RemoteTraceback: \\...  \n",
       "43  concurrent.futures.process._RemoteTraceback: \\...  \n",
       "44                                                     \n",
       "45  concurrent.futures.process._RemoteTraceback: \\...  \n",
       "46                                                     \n",
       "47                                                     \n",
       "48  concurrent.futures.process._RemoteTraceback: \\...  \n",
       "49                                                     \n",
       "50                                                     \n",
       "51                                                     \n",
       "52                                                     "
      ]
     },
     "execution_count": 22,
     "metadata": {},
     "output_type": "execute_result"
    }
   ],
   "source": [
    "X2.data"
   ]
  }
 ],
 "metadata": {
  "interpreter": {
   "hash": "60703f99bc9a1e465ed9e894ac1e8f256837fa55699b4912a7939def4ae95691"
  },
  "kernelspec": {
   "display_name": "Python 3.9.12 ('devel')",
   "language": "python",
   "name": "python3"
  },
  "language_info": {
   "codemirror_mode": {
    "name": "ipython",
    "version": 3
   },
   "file_extension": ".py",
   "mimetype": "text/x-python",
   "name": "python",
   "nbconvert_exporter": "python",
   "pygments_lexer": "ipython3",
   "version": "3.9.13"
  }
 },
 "nbformat": 4,
 "nbformat_minor": 2
}
