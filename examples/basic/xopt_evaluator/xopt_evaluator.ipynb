{
 "cells": [
  {
   "cell_type": "markdown",
   "metadata": {
    "pycharm": {
     "name": "#%% md\n"
    }
   },
   "source": []
  },
  {
   "cell_type": "markdown",
   "metadata": {
    "pycharm": {
     "name": "#%% md\n"
    }
   },
   "source": [
    "# Xopt Evaluator Basic Usage \n",
    "\n",
    "The `Evaluator` handles the execution of the user-provided `function` with optional `function_kwags`, asyncrhonously and parallel, with exception handling. "
   ]
  },
  {
   "cell_type": "code",
   "execution_count": 1,
   "metadata": {
    "collapsed": false,
    "execution": {
     "iopub.execute_input": "2023-02-28T21:04:05.919988Z",
     "iopub.status.busy": "2023-02-28T21:04:05.919791Z",
     "iopub.status.idle": "2023-02-28T21:04:05.926516Z",
     "shell.execute_reply": "2023-02-28T21:04:05.926001Z"
    },
    "pycharm": {
     "name": "#%%\n"
    }
   },
   "outputs": [],
   "source": [
    "# needed for macos\n",
    "import platform\n",
    "if platform.system() == \"Darwin\": import multiprocessing;multiprocessing.set_start_method(\"fork\")\n"
   ]
  },
  {
   "cell_type": "code",
   "execution_count": 2,
   "metadata": {
    "collapsed": false,
    "execution": {
     "iopub.execute_input": "2023-02-28T21:04:05.929015Z",
     "iopub.status.busy": "2023-02-28T21:04:05.928547Z",
     "iopub.status.idle": "2023-02-28T21:04:07.415049Z",
     "shell.execute_reply": "2023-02-28T21:04:07.414417Z"
    },
    "pycharm": {
     "name": "#%%\n"
    }
   },
   "outputs": [],
   "source": [
    "from xopt import Xopt, Evaluator, Generator, VOCS\n",
    "from xopt.generators.random import RandomGenerator\n",
    "\n",
    "import pandas as pd\n",
    "\n",
    "from time import sleep\n",
    "from numpy.random import randint\n",
    "\n",
    "from typing import Dict\n",
    "\n",
    "import numpy as np\n",
    "np.random.seed(666) # for reproducibility\n",
    "\n",
    "# Nicer plotting\n",
    "%config InlineBackend.figure_format = 'retina'"
   ]
  },
  {
   "cell_type": "markdown",
   "metadata": {},
   "source": [
    "Define a custom function `f(inputs: Dict) -> outputs: Dict`. "
   ]
  },
  {
   "cell_type": "code",
   "execution_count": 3,
   "metadata": {
    "execution": {
     "iopub.execute_input": "2023-02-28T21:04:07.418247Z",
     "iopub.status.busy": "2023-02-28T21:04:07.417671Z",
     "iopub.status.idle": "2023-02-28T21:04:07.422297Z",
     "shell.execute_reply": "2023-02-28T21:04:07.421779Z"
    }
   },
   "outputs": [],
   "source": [
    "def f(inputs: Dict, a=2) -> Dict:\n",
    "\n",
    "    sleep(randint(1, 5)*.1)  # simulate computation time\n",
    "    # Make some occasional errors\n",
    "    if np.any(inputs[\"x\"] > 0.8):\n",
    "        raise ValueError(\"x > 0.8\")\n",
    "\n",
    "    return {\"f1\": inputs[\"x\"] ** 2 + inputs[\"y\"] ** 2}"
   ]
  },
  {
   "cell_type": "markdown",
   "metadata": {},
   "source": [
    "Define variables, objectives, constraints, and other settings (VOCS)"
   ]
  },
  {
   "cell_type": "code",
   "execution_count": 4,
   "metadata": {
    "collapsed": false,
    "execution": {
     "iopub.execute_input": "2023-02-28T21:04:07.424799Z",
     "iopub.status.busy": "2023-02-28T21:04:07.424243Z",
     "iopub.status.idle": "2023-02-28T21:04:07.434648Z",
     "shell.execute_reply": "2023-02-28T21:04:07.434188Z"
    },
    "pycharm": {
     "name": "#%%\n"
    }
   },
   "outputs": [
    {
     "data": {
      "text/plain": [
       "VOCS(variables={'x': [0.0, 1.0], 'y': [0.0, 1.0]}, constraints={}, objectives={'f1': 'MINIMIZE'}, constants={}, linked_variables={})"
      ]
     },
     "execution_count": 4,
     "metadata": {},
     "output_type": "execute_result"
    }
   ],
   "source": [
    "vocs = VOCS(variables={\"x\": [0, 1], \"y\": [0, 1]}, objectives={\"f1\": \"MINIMIZE\"})\n",
    "vocs\n",
    "\n"
   ]
  },
  {
   "cell_type": "markdown",
   "metadata": {},
   "source": [
    "This can be used to make some random inputs for evaluating the function. "
   ]
  },
  {
   "cell_type": "code",
   "execution_count": 5,
   "metadata": {
    "execution": {
     "iopub.execute_input": "2023-02-28T21:04:07.468257Z",
     "iopub.status.busy": "2023-02-28T21:04:07.467764Z",
     "iopub.status.idle": "2023-02-28T21:04:07.773604Z",
     "shell.execute_reply": "2023-02-28T21:04:07.773024Z"
    }
   },
   "outputs": [
    {
     "data": {
      "text/plain": [
       "{'f1': 0.11401572022703582}"
      ]
     },
     "execution_count": 5,
     "metadata": {},
     "output_type": "execute_result"
    }
   ],
   "source": [
    "in1 = vocs.random_inputs()\n",
    "\n",
    "f(in1)"
   ]
  },
  {
   "cell_type": "code",
   "execution_count": 6,
   "metadata": {
    "execution": {
     "iopub.execute_input": "2023-02-28T21:04:07.776232Z",
     "iopub.status.busy": "2023-02-28T21:04:07.775739Z",
     "iopub.status.idle": "2023-02-28T21:04:08.081012Z",
     "shell.execute_reply": "2023-02-28T21:04:08.080386Z"
    }
   },
   "outputs": [
    {
     "name": "stdout",
     "output_type": "stream",
     "text": [
      "Caught error in f: x > 0.8\n"
     ]
    }
   ],
   "source": [
    "# Add in occasional errors. \n",
    "try:\n",
    "    f({\"x\": 1, \"y\": 0})\n",
    "except Exception as ex:\n",
    "    print(f\"Caught error in f: {ex}\")"
   ]
  },
  {
   "cell_type": "code",
   "execution_count": 7,
   "metadata": {
    "execution": {
     "iopub.execute_input": "2023-02-28T21:04:08.083930Z",
     "iopub.status.busy": "2023-02-28T21:04:08.083697Z",
     "iopub.status.idle": "2023-02-28T21:04:08.093464Z",
     "shell.execute_reply": "2023-02-28T21:04:08.092897Z"
    }
   },
   "outputs": [],
   "source": [
    "# Create Evaluator\n",
    "ev = Evaluator(function=f)"
   ]
  },
  {
   "cell_type": "code",
   "execution_count": 8,
   "metadata": {
    "execution": {
     "iopub.execute_input": "2023-02-28T21:04:08.096308Z",
     "iopub.status.busy": "2023-02-28T21:04:08.095827Z",
     "iopub.status.idle": "2023-02-28T21:04:08.301452Z",
     "shell.execute_reply": "2023-02-28T21:04:08.300843Z"
    }
   },
   "outputs": [
    {
     "data": {
      "text/plain": [
       "{'f1': 0.11401572022703582,\n",
       " 'xopt_runtime': 0.20040456399999584,\n",
       " 'xopt_error': False}"
      ]
     },
     "execution_count": 8,
     "metadata": {},
     "output_type": "execute_result"
    }
   ],
   "source": [
    "# Single input evaluation\n",
    "ev.evaluate(in1)"
   ]
  },
  {
   "cell_type": "code",
   "execution_count": 9,
   "metadata": {
    "execution": {
     "iopub.execute_input": "2023-02-28T21:04:08.304301Z",
     "iopub.status.busy": "2023-02-28T21:04:08.303963Z",
     "iopub.status.idle": "2023-02-28T21:04:10.919512Z",
     "shell.execute_reply": "2023-02-28T21:04:10.918954Z"
    }
   },
   "outputs": [
    {
     "data": {
      "text/html": [
       "<div>\n",
       "<style scoped>\n",
       "    .dataframe tbody tr th:only-of-type {\n",
       "        vertical-align: middle;\n",
       "    }\n",
       "\n",
       "    .dataframe tbody tr th {\n",
       "        vertical-align: top;\n",
       "    }\n",
       "\n",
       "    .dataframe thead th {\n",
       "        text-align: right;\n",
       "    }\n",
       "</style>\n",
       "<table border=\"1\" class=\"dataframe\">\n",
       "  <thead>\n",
       "    <tr style=\"text-align: right;\">\n",
       "      <th></th>\n",
       "      <th>f1</th>\n",
       "      <th>xopt_runtime</th>\n",
       "      <th>xopt_error</th>\n",
       "    </tr>\n",
       "  </thead>\n",
       "  <tbody>\n",
       "    <tr>\n",
       "      <th>0</th>\n",
       "      <td>0.529588</td>\n",
       "      <td>0.300437</td>\n",
       "      <td>False</td>\n",
       "    </tr>\n",
       "    <tr>\n",
       "      <th>1</th>\n",
       "      <td>1.154098</td>\n",
       "      <td>0.400531</td>\n",
       "      <td>False</td>\n",
       "    </tr>\n",
       "    <tr>\n",
       "      <th>2</th>\n",
       "      <td>0.641450</td>\n",
       "      <td>0.200392</td>\n",
       "      <td>False</td>\n",
       "    </tr>\n",
       "    <tr>\n",
       "      <th>3</th>\n",
       "      <td>0.619825</td>\n",
       "      <td>0.200325</td>\n",
       "      <td>False</td>\n",
       "    </tr>\n",
       "    <tr>\n",
       "      <th>4</th>\n",
       "      <td>0.536923</td>\n",
       "      <td>0.100271</td>\n",
       "      <td>False</td>\n",
       "    </tr>\n",
       "    <tr>\n",
       "      <th>5</th>\n",
       "      <td>0.342636</td>\n",
       "      <td>0.300451</td>\n",
       "      <td>False</td>\n",
       "    </tr>\n",
       "    <tr>\n",
       "      <th>6</th>\n",
       "      <td>0.589861</td>\n",
       "      <td>0.100264</td>\n",
       "      <td>False</td>\n",
       "    </tr>\n",
       "    <tr>\n",
       "      <th>7</th>\n",
       "      <td>0.556977</td>\n",
       "      <td>0.400578</td>\n",
       "      <td>False</td>\n",
       "    </tr>\n",
       "    <tr>\n",
       "      <th>8</th>\n",
       "      <td>0.055586</td>\n",
       "      <td>0.300443</td>\n",
       "      <td>False</td>\n",
       "    </tr>\n",
       "    <tr>\n",
       "      <th>9</th>\n",
       "      <td>0.785844</td>\n",
       "      <td>0.300454</td>\n",
       "      <td>False</td>\n",
       "    </tr>\n",
       "  </tbody>\n",
       "</table>\n",
       "</div>"
      ],
      "text/plain": [
       "         f1  xopt_runtime  xopt_error\n",
       "0  0.529588      0.300437       False\n",
       "1  1.154098      0.400531       False\n",
       "2  0.641450      0.200392       False\n",
       "3  0.619825      0.200325       False\n",
       "4  0.536923      0.100271       False\n",
       "5  0.342636      0.300451       False\n",
       "6  0.589861      0.100264       False\n",
       "7  0.556977      0.400578       False\n",
       "8  0.055586      0.300443       False\n",
       "9  0.785844      0.300454       False"
      ]
     },
     "execution_count": 9,
     "metadata": {},
     "output_type": "execute_result"
    }
   ],
   "source": [
    "# Dataframe evaluation\n",
    "in10 = vocs.random_inputs(10)\n",
    "ev.evaluate_data(in10)\n"
   ]
  },
  {
   "cell_type": "code",
   "execution_count": 10,
   "metadata": {
    "execution": {
     "iopub.execute_input": "2023-02-28T21:04:10.922075Z",
     "iopub.status.busy": "2023-02-28T21:04:10.921865Z",
     "iopub.status.idle": "2023-02-28T21:04:13.630725Z",
     "shell.execute_reply": "2023-02-28T21:04:13.630072Z"
    }
   },
   "outputs": [
    {
     "name": "stdout",
     "output_type": "stream",
     "text": [
      "{'f1': 0.5295876188736232, 'xopt_runtime': 0.3004661489999876, 'xopt_error': False}\n",
      "{'f1': 1.154097903998413, 'xopt_runtime': 0.30046734900003, 'xopt_error': False}\n",
      "{'f1': 0.641449645681512, 'xopt_runtime': 0.10028018199994904, 'xopt_error': False}\n",
      "{'f1': 0.6198251611679085, 'xopt_runtime': 0.10025318199996036, 'xopt_error': False}\n",
      "{'f1': 0.5369228584400957, 'xopt_runtime': 0.400366933999976, 'xopt_error': False}\n",
      "{'f1': 0.3426360721182605, 'xopt_runtime': 0.30042564999996557, 'xopt_error': False}\n",
      "{'f1': 0.5898614653804399, 'xopt_runtime': 0.2003776660000085, 'xopt_error': False}\n",
      "{'f1': 0.5569771979382582, 'xopt_runtime': 0.40055763200001593, 'xopt_error': False}\n",
      "{'f1': 0.055585968775201305, 'xopt_runtime': 0.3004296490000229, 'xopt_error': False}\n",
      "{'f1': 0.7858444543806786, 'xopt_runtime': 0.30046154899997646, 'xopt_error': False}\n"
     ]
    }
   ],
   "source": [
    "# Dataframe submission (returns futures dict)\n",
    "futures = ev.submit_data(in10)\n",
    "for future in futures:\n",
    "    print(future.result())"
   ]
  },
  {
   "cell_type": "code",
   "execution_count": 11,
   "metadata": {
    "execution": {
     "iopub.execute_input": "2023-02-28T21:04:13.633385Z",
     "iopub.status.busy": "2023-02-28T21:04:13.632920Z",
     "iopub.status.idle": "2023-02-28T21:04:14.043776Z",
     "shell.execute_reply": "2023-02-28T21:04:14.043147Z"
    }
   },
   "outputs": [
    {
     "data": {
      "text/html": [
       "<div>\n",
       "<style scoped>\n",
       "    .dataframe tbody tr th:only-of-type {\n",
       "        vertical-align: middle;\n",
       "    }\n",
       "\n",
       "    .dataframe tbody tr th {\n",
       "        vertical-align: top;\n",
       "    }\n",
       "\n",
       "    .dataframe thead th {\n",
       "        text-align: right;\n",
       "    }\n",
       "</style>\n",
       "<table border=\"1\" class=\"dataframe\">\n",
       "  <thead>\n",
       "    <tr style=\"text-align: right;\">\n",
       "      <th></th>\n",
       "      <th>f1</th>\n",
       "      <th>xopt_runtime</th>\n",
       "      <th>xopt_error</th>\n",
       "    </tr>\n",
       "  </thead>\n",
       "  <tbody>\n",
       "    <tr>\n",
       "      <th>0</th>\n",
       "      <td>0.529588</td>\n",
       "      <td>0.401338</td>\n",
       "      <td>False</td>\n",
       "    </tr>\n",
       "    <tr>\n",
       "      <th>1</th>\n",
       "      <td>1.154098</td>\n",
       "      <td>0.401338</td>\n",
       "      <td>False</td>\n",
       "    </tr>\n",
       "    <tr>\n",
       "      <th>2</th>\n",
       "      <td>0.641450</td>\n",
       "      <td>0.401338</td>\n",
       "      <td>False</td>\n",
       "    </tr>\n",
       "    <tr>\n",
       "      <th>3</th>\n",
       "      <td>0.619825</td>\n",
       "      <td>0.401338</td>\n",
       "      <td>False</td>\n",
       "    </tr>\n",
       "    <tr>\n",
       "      <th>4</th>\n",
       "      <td>0.536923</td>\n",
       "      <td>0.401338</td>\n",
       "      <td>False</td>\n",
       "    </tr>\n",
       "    <tr>\n",
       "      <th>5</th>\n",
       "      <td>0.342636</td>\n",
       "      <td>0.401338</td>\n",
       "      <td>False</td>\n",
       "    </tr>\n",
       "    <tr>\n",
       "      <th>6</th>\n",
       "      <td>0.589861</td>\n",
       "      <td>0.401338</td>\n",
       "      <td>False</td>\n",
       "    </tr>\n",
       "    <tr>\n",
       "      <th>7</th>\n",
       "      <td>0.556977</td>\n",
       "      <td>0.401338</td>\n",
       "      <td>False</td>\n",
       "    </tr>\n",
       "    <tr>\n",
       "      <th>8</th>\n",
       "      <td>0.055586</td>\n",
       "      <td>0.401338</td>\n",
       "      <td>False</td>\n",
       "    </tr>\n",
       "    <tr>\n",
       "      <th>9</th>\n",
       "      <td>0.785844</td>\n",
       "      <td>0.401338</td>\n",
       "      <td>False</td>\n",
       "    </tr>\n",
       "  </tbody>\n",
       "</table>\n",
       "</div>"
      ],
      "text/plain": [
       "         f1  xopt_runtime  xopt_error\n",
       "0  0.529588      0.401338       False\n",
       "1  1.154098      0.401338       False\n",
       "2  0.641450      0.401338       False\n",
       "3  0.619825      0.401338       False\n",
       "4  0.536923      0.401338       False\n",
       "5  0.342636      0.401338       False\n",
       "6  0.589861      0.401338       False\n",
       "7  0.556977      0.401338       False\n",
       "8  0.055586      0.401338       False\n",
       "9  0.785844      0.401338       False"
      ]
     },
     "execution_count": 11,
     "metadata": {},
     "output_type": "execute_result"
    }
   ],
   "source": [
    "# Dataframe evaluation, vectorized\n",
    "ev.vectorized = True\n",
    "ev.evaluate_data(in10)\n"
   ]
  },
  {
   "cell_type": "code",
   "execution_count": 12,
   "metadata": {
    "execution": {
     "iopub.execute_input": "2023-02-28T21:04:14.046580Z",
     "iopub.status.busy": "2023-02-28T21:04:14.046077Z",
     "iopub.status.idle": "2023-02-28T21:04:14.451637Z",
     "shell.execute_reply": "2023-02-28T21:04:14.450926Z"
    }
   },
   "outputs": [
    {
     "data": {
      "text/plain": [
       "1"
      ]
     },
     "execution_count": 12,
     "metadata": {},
     "output_type": "execute_result"
    }
   ],
   "source": [
    "# Vectorized submission. This returns a single future.\n",
    "ev.vectorized = True\n",
    "futures = ev.submit_data(in10)\n",
    "len(futures)"
   ]
  },
  {
   "cell_type": "code",
   "execution_count": 13,
   "metadata": {
    "execution": {
     "iopub.execute_input": "2023-02-28T21:04:14.454368Z",
     "iopub.status.busy": "2023-02-28T21:04:14.453797Z",
     "iopub.status.idle": "2023-02-28T21:04:14.458297Z",
     "shell.execute_reply": "2023-02-28T21:04:14.457714Z"
    }
   },
   "outputs": [
    {
     "data": {
      "text/plain": [
       "{'f1': array([0.52958762, 1.1540979 , 0.64144965, 0.61982516, 0.53692286,\n",
       "        0.34263607, 0.58986147, 0.5569772 , 0.05558597, 0.78584445]),\n",
       " 'xopt_runtime': 0.40054173200002197,\n",
       " 'xopt_error': False}"
      ]
     },
     "execution_count": 13,
     "metadata": {},
     "output_type": "execute_result"
    }
   ],
   "source": [
    "futures[0].result()"
   ]
  },
  {
   "cell_type": "code",
   "execution_count": 14,
   "metadata": {
    "execution": {
     "iopub.execute_input": "2023-02-28T21:04:14.460500Z",
     "iopub.status.busy": "2023-02-28T21:04:14.460189Z",
     "iopub.status.idle": "2023-02-28T21:04:14.467993Z",
     "shell.execute_reply": "2023-02-28T21:04:14.467436Z"
    }
   },
   "outputs": [
    {
     "data": {
      "text/html": [
       "<div>\n",
       "<style scoped>\n",
       "    .dataframe tbody tr th:only-of-type {\n",
       "        vertical-align: middle;\n",
       "    }\n",
       "\n",
       "    .dataframe tbody tr th {\n",
       "        vertical-align: top;\n",
       "    }\n",
       "\n",
       "    .dataframe thead th {\n",
       "        text-align: right;\n",
       "    }\n",
       "</style>\n",
       "<table border=\"1\" class=\"dataframe\">\n",
       "  <thead>\n",
       "    <tr style=\"text-align: right;\">\n",
       "      <th></th>\n",
       "      <th>f1</th>\n",
       "      <th>xopt_runtime</th>\n",
       "      <th>xopt_error</th>\n",
       "    </tr>\n",
       "  </thead>\n",
       "  <tbody>\n",
       "    <tr>\n",
       "      <th>0</th>\n",
       "      <td>0.529588</td>\n",
       "      <td>0.400542</td>\n",
       "      <td>False</td>\n",
       "    </tr>\n",
       "    <tr>\n",
       "      <th>1</th>\n",
       "      <td>1.154098</td>\n",
       "      <td>0.400542</td>\n",
       "      <td>False</td>\n",
       "    </tr>\n",
       "    <tr>\n",
       "      <th>2</th>\n",
       "      <td>0.641450</td>\n",
       "      <td>0.400542</td>\n",
       "      <td>False</td>\n",
       "    </tr>\n",
       "    <tr>\n",
       "      <th>3</th>\n",
       "      <td>0.619825</td>\n",
       "      <td>0.400542</td>\n",
       "      <td>False</td>\n",
       "    </tr>\n",
       "    <tr>\n",
       "      <th>4</th>\n",
       "      <td>0.536923</td>\n",
       "      <td>0.400542</td>\n",
       "      <td>False</td>\n",
       "    </tr>\n",
       "    <tr>\n",
       "      <th>5</th>\n",
       "      <td>0.342636</td>\n",
       "      <td>0.400542</td>\n",
       "      <td>False</td>\n",
       "    </tr>\n",
       "    <tr>\n",
       "      <th>6</th>\n",
       "      <td>0.589861</td>\n",
       "      <td>0.400542</td>\n",
       "      <td>False</td>\n",
       "    </tr>\n",
       "    <tr>\n",
       "      <th>7</th>\n",
       "      <td>0.556977</td>\n",
       "      <td>0.400542</td>\n",
       "      <td>False</td>\n",
       "    </tr>\n",
       "    <tr>\n",
       "      <th>8</th>\n",
       "      <td>0.055586</td>\n",
       "      <td>0.400542</td>\n",
       "      <td>False</td>\n",
       "    </tr>\n",
       "    <tr>\n",
       "      <th>9</th>\n",
       "      <td>0.785844</td>\n",
       "      <td>0.400542</td>\n",
       "      <td>False</td>\n",
       "    </tr>\n",
       "  </tbody>\n",
       "</table>\n",
       "</div>"
      ],
      "text/plain": [
       "         f1  xopt_runtime  xopt_error\n",
       "0  0.529588      0.400542       False\n",
       "1  1.154098      0.400542       False\n",
       "2  0.641450      0.400542       False\n",
       "3  0.619825      0.400542       False\n",
       "4  0.536923      0.400542       False\n",
       "5  0.342636      0.400542       False\n",
       "6  0.589861      0.400542       False\n",
       "7  0.556977      0.400542       False\n",
       "8  0.055586      0.400542       False\n",
       "9  0.785844      0.400542       False"
      ]
     },
     "execution_count": 14,
     "metadata": {},
     "output_type": "execute_result"
    }
   ],
   "source": [
    "# Collect in a dataframe\n",
    "res = futures[0].result()\n",
    "# If there is an error, all outputs are spoiled.\n",
    "if res['xopt_error']:\n",
    "    res = [res]\n",
    "pd.DataFrame(res)"
   ]
  },
  {
   "cell_type": "markdown",
   "metadata": {},
   "source": [
    "# Executors"
   ]
  },
  {
   "cell_type": "code",
   "execution_count": 15,
   "metadata": {
    "execution": {
     "iopub.execute_input": "2023-02-28T21:04:14.470473Z",
     "iopub.status.busy": "2023-02-28T21:04:14.470163Z",
     "iopub.status.idle": "2023-02-28T21:04:14.473079Z",
     "shell.execute_reply": "2023-02-28T21:04:14.472519Z"
    }
   },
   "outputs": [],
   "source": [
    "from concurrent.futures import ThreadPoolExecutor, ProcessPoolExecutor\n",
    "MAX_WORKERS = 10"
   ]
  },
  {
   "cell_type": "code",
   "execution_count": 16,
   "metadata": {
    "execution": {
     "iopub.execute_input": "2023-02-28T21:04:14.475779Z",
     "iopub.status.busy": "2023-02-28T21:04:14.475318Z",
     "iopub.status.idle": "2023-02-28T21:04:14.481337Z",
     "shell.execute_reply": "2023-02-28T21:04:14.480802Z"
    }
   },
   "outputs": [
    {
     "data": {
      "text/plain": [
       "<concurrent.futures.process.ProcessPoolExecutor at 0x7f2746914af0>"
      ]
     },
     "execution_count": 16,
     "metadata": {},
     "output_type": "execute_result"
    }
   ],
   "source": [
    "# Create Executor insance\n",
    "executor = ProcessPoolExecutor(max_workers=MAX_WORKERS)\n",
    "executor"
   ]
  },
  {
   "cell_type": "code",
   "execution_count": 17,
   "metadata": {
    "execution": {
     "iopub.execute_input": "2023-02-28T21:04:14.483779Z",
     "iopub.status.busy": "2023-02-28T21:04:14.483479Z",
     "iopub.status.idle": "2023-02-28T21:04:14.486731Z",
     "shell.execute_reply": "2023-02-28T21:04:14.486204Z"
    }
   },
   "outputs": [],
   "source": [
    "# Dask (Optional)\n",
    "# from dask.distributed import Client\n",
    "# import logging\n",
    "# client = Client( silence_logs=logging.ERROR)\n",
    "# executor = client.get_executor()\n",
    "# client"
   ]
  },
  {
   "cell_type": "code",
   "execution_count": 18,
   "metadata": {
    "execution": {
     "iopub.execute_input": "2023-02-28T21:04:14.489082Z",
     "iopub.status.busy": "2023-02-28T21:04:14.488628Z",
     "iopub.status.idle": "2023-02-28T21:04:14.497827Z",
     "shell.execute_reply": "2023-02-28T21:04:14.497238Z"
    }
   },
   "outputs": [],
   "source": [
    "# This calls `executor.map`\n",
    "ev = Evaluator(function=f, executor=executor, max_workers=MAX_WORKERS)"
   ]
  },
  {
   "cell_type": "code",
   "execution_count": 19,
   "metadata": {
    "execution": {
     "iopub.execute_input": "2023-02-28T21:04:14.500211Z",
     "iopub.status.busy": "2023-02-28T21:04:14.499905Z",
     "iopub.status.idle": "2023-02-28T21:04:14.666457Z",
     "shell.execute_reply": "2023-02-28T21:04:14.665551Z"
    }
   },
   "outputs": [
    {
     "data": {
      "text/html": [
       "<div>\n",
       "<style scoped>\n",
       "    .dataframe tbody tr th:only-of-type {\n",
       "        vertical-align: middle;\n",
       "    }\n",
       "\n",
       "    .dataframe tbody tr th {\n",
       "        vertical-align: top;\n",
       "    }\n",
       "\n",
       "    .dataframe thead th {\n",
       "        text-align: right;\n",
       "    }\n",
       "</style>\n",
       "<table border=\"1\" class=\"dataframe\">\n",
       "  <thead>\n",
       "    <tr style=\"text-align: right;\">\n",
       "      <th></th>\n",
       "      <th>f1</th>\n",
       "      <th>xopt_runtime</th>\n",
       "      <th>xopt_error</th>\n",
       "    </tr>\n",
       "  </thead>\n",
       "  <tbody>\n",
       "    <tr>\n",
       "      <th>0</th>\n",
       "      <td>0.529588</td>\n",
       "      <td>0.101147</td>\n",
       "      <td>False</td>\n",
       "    </tr>\n",
       "    <tr>\n",
       "      <th>1</th>\n",
       "      <td>1.154098</td>\n",
       "      <td>0.103568</td>\n",
       "      <td>False</td>\n",
       "    </tr>\n",
       "    <tr>\n",
       "      <th>2</th>\n",
       "      <td>0.641450</td>\n",
       "      <td>0.100777</td>\n",
       "      <td>False</td>\n",
       "    </tr>\n",
       "    <tr>\n",
       "      <th>3</th>\n",
       "      <td>0.619825</td>\n",
       "      <td>0.100879</td>\n",
       "      <td>False</td>\n",
       "    </tr>\n",
       "    <tr>\n",
       "      <th>4</th>\n",
       "      <td>0.536923</td>\n",
       "      <td>0.102130</td>\n",
       "      <td>False</td>\n",
       "    </tr>\n",
       "    <tr>\n",
       "      <th>5</th>\n",
       "      <td>0.342636</td>\n",
       "      <td>0.100832</td>\n",
       "      <td>False</td>\n",
       "    </tr>\n",
       "    <tr>\n",
       "      <th>6</th>\n",
       "      <td>0.589861</td>\n",
       "      <td>0.100540</td>\n",
       "      <td>False</td>\n",
       "    </tr>\n",
       "    <tr>\n",
       "      <th>7</th>\n",
       "      <td>0.556977</td>\n",
       "      <td>0.100669</td>\n",
       "      <td>False</td>\n",
       "    </tr>\n",
       "    <tr>\n",
       "      <th>8</th>\n",
       "      <td>0.055586</td>\n",
       "      <td>0.100824</td>\n",
       "      <td>False</td>\n",
       "    </tr>\n",
       "    <tr>\n",
       "      <th>9</th>\n",
       "      <td>0.785844</td>\n",
       "      <td>0.101590</td>\n",
       "      <td>False</td>\n",
       "    </tr>\n",
       "  </tbody>\n",
       "</table>\n",
       "</div>"
      ],
      "text/plain": [
       "         f1  xopt_runtime  xopt_error\n",
       "0  0.529588      0.101147       False\n",
       "1  1.154098      0.103568       False\n",
       "2  0.641450      0.100777       False\n",
       "3  0.619825      0.100879       False\n",
       "4  0.536923      0.102130       False\n",
       "5  0.342636      0.100832       False\n",
       "6  0.589861      0.100540       False\n",
       "7  0.556977      0.100669       False\n",
       "8  0.055586      0.100824       False\n",
       "9  0.785844      0.101590       False"
      ]
     },
     "execution_count": 19,
     "metadata": {},
     "output_type": "execute_result"
    }
   ],
   "source": [
    "# This will run in parallel\n",
    "ev.evaluate_data(in10)"
   ]
  },
  {
   "cell_type": "markdown",
   "metadata": {},
   "source": [
    "# Evaluator in the Xopt object"
   ]
  },
  {
   "cell_type": "code",
   "execution_count": 20,
   "metadata": {
    "collapsed": false,
    "execution": {
     "iopub.execute_input": "2023-02-28T21:04:14.670181Z",
     "iopub.status.busy": "2023-02-28T21:04:14.669577Z",
     "iopub.status.idle": "2023-02-28T21:04:16.286804Z",
     "shell.execute_reply": "2023-02-28T21:04:16.286191Z"
    },
    "pycharm": {
     "name": "#%%\n"
    }
   },
   "outputs": [
    {
     "data": {
      "text/html": [
       "<div>\n",
       "<style scoped>\n",
       "    .dataframe tbody tr th:only-of-type {\n",
       "        vertical-align: middle;\n",
       "    }\n",
       "\n",
       "    .dataframe tbody tr th {\n",
       "        vertical-align: top;\n",
       "    }\n",
       "\n",
       "    .dataframe thead th {\n",
       "        text-align: right;\n",
       "    }\n",
       "</style>\n",
       "<table border=\"1\" class=\"dataframe\">\n",
       "  <thead>\n",
       "    <tr style=\"text-align: right;\">\n",
       "      <th></th>\n",
       "      <th>x</th>\n",
       "      <th>y</th>\n",
       "    </tr>\n",
       "  </thead>\n",
       "  <tbody>\n",
       "    <tr>\n",
       "      <th>1</th>\n",
       "      <td>0.333263</td>\n",
       "      <td>0.670598</td>\n",
       "    </tr>\n",
       "    <tr>\n",
       "      <th>2</th>\n",
       "      <td>0.127120</td>\n",
       "      <td>0.708698</td>\n",
       "    </tr>\n",
       "    <tr>\n",
       "      <th>3</th>\n",
       "      <td>0.478903</td>\n",
       "      <td>0.998964</td>\n",
       "    </tr>\n",
       "    <tr>\n",
       "      <th>4</th>\n",
       "      <td>0.249796</td>\n",
       "      <td>0.363820</td>\n",
       "    </tr>\n",
       "  </tbody>\n",
       "</table>\n",
       "</div>"
      ],
      "text/plain": [
       "          x         y\n",
       "1  0.333263  0.670598\n",
       "2  0.127120  0.708698\n",
       "3  0.478903  0.998964\n",
       "4  0.249796  0.363820"
      ]
     },
     "execution_count": 20,
     "metadata": {},
     "output_type": "execute_result"
    }
   ],
   "source": [
    "X = Xopt(generator=RandomGenerator(vocs), evaluator=Evaluator(function=f), vocs=vocs)\n",
    "\n",
    "# Submit to the evaluator some new inputs\n",
    "X.submit_data(vocs.random_inputs(4))\n",
    "\n",
    "# Unevaluated inputs are collected in a dataframe\n",
    "X._input_data"
   ]
  },
  {
   "cell_type": "code",
   "execution_count": 21,
   "metadata": {
    "collapsed": false,
    "execution": {
     "iopub.execute_input": "2023-02-28T21:04:16.289724Z",
     "iopub.status.busy": "2023-02-28T21:04:16.289219Z",
     "iopub.status.idle": "2023-02-28T21:04:16.294695Z",
     "shell.execute_reply": "2023-02-28T21:04:16.294104Z"
    },
    "pycharm": {
     "name": "#%%\n"
    }
   },
   "outputs": [
    {
     "data": {
      "text/plain": [
       "{1: <Future at 0x7f27468fa7f0 state=finished returned dict>,\n",
       " 2: <Future at 0x7f2746950460 state=finished returned dict>,\n",
       " 3: <Future at 0x7f2746950f10 state=finished returned dict>,\n",
       " 4: <Future at 0x7f278cb900d0 state=finished returned dict>}"
      ]
     },
     "execution_count": 21,
     "metadata": {},
     "output_type": "execute_result"
    }
   ],
   "source": [
    "# Internal futures dictionary\n",
    "X._futures"
   ]
  },
  {
   "cell_type": "code",
   "execution_count": 22,
   "metadata": {
    "collapsed": false,
    "execution": {
     "iopub.execute_input": "2023-02-28T21:04:16.297439Z",
     "iopub.status.busy": "2023-02-28T21:04:16.296978Z",
     "iopub.status.idle": "2023-02-28T21:04:16.308447Z",
     "shell.execute_reply": "2023-02-28T21:04:16.307926Z"
    },
    "pycharm": {
     "name": "#%%\n"
    }
   },
   "outputs": [
    {
     "data": {
      "text/html": [
       "<div>\n",
       "<style scoped>\n",
       "    .dataframe tbody tr th:only-of-type {\n",
       "        vertical-align: middle;\n",
       "    }\n",
       "\n",
       "    .dataframe tbody tr th {\n",
       "        vertical-align: top;\n",
       "    }\n",
       "\n",
       "    .dataframe thead th {\n",
       "        text-align: right;\n",
       "    }\n",
       "</style>\n",
       "<table border=\"1\" class=\"dataframe\">\n",
       "  <thead>\n",
       "    <tr style=\"text-align: right;\">\n",
       "      <th></th>\n",
       "      <th>x</th>\n",
       "      <th>y</th>\n",
       "      <th>f1</th>\n",
       "      <th>xopt_runtime</th>\n",
       "      <th>xopt_error</th>\n",
       "    </tr>\n",
       "  </thead>\n",
       "  <tbody>\n",
       "    <tr>\n",
       "      <th>1</th>\n",
       "      <td>0.333263</td>\n",
       "      <td>0.670598</td>\n",
       "      <td>0.560765</td>\n",
       "      <td>0.400562</td>\n",
       "      <td>False</td>\n",
       "    </tr>\n",
       "    <tr>\n",
       "      <th>2</th>\n",
       "      <td>0.127120</td>\n",
       "      <td>0.708698</td>\n",
       "      <td>0.518413</td>\n",
       "      <td>0.400561</td>\n",
       "      <td>False</td>\n",
       "    </tr>\n",
       "    <tr>\n",
       "      <th>3</th>\n",
       "      <td>0.478903</td>\n",
       "      <td>0.998964</td>\n",
       "      <td>1.227277</td>\n",
       "      <td>0.400562</td>\n",
       "      <td>False</td>\n",
       "    </tr>\n",
       "    <tr>\n",
       "      <th>4</th>\n",
       "      <td>0.249796</td>\n",
       "      <td>0.363820</td>\n",
       "      <td>0.194763</td>\n",
       "      <td>0.400604</td>\n",
       "      <td>False</td>\n",
       "    </tr>\n",
       "  </tbody>\n",
       "</table>\n",
       "</div>"
      ],
      "text/plain": [
       "          x         y        f1  xopt_runtime  xopt_error\n",
       "1  0.333263  0.670598  0.560765      0.400562       False\n",
       "2  0.127120  0.708698  0.518413      0.400561       False\n",
       "3  0.478903  0.998964  1.227277      0.400562       False\n",
       "4  0.249796  0.363820  0.194763      0.400604       False"
      ]
     },
     "execution_count": 22,
     "metadata": {},
     "output_type": "execute_result"
    }
   ],
   "source": [
    "# Collect all finished futures and updata dataframe\n",
    "X.process_futures()\n",
    "X.data"
   ]
  },
  {
   "cell_type": "code",
   "execution_count": 23,
   "metadata": {
    "collapsed": false,
    "execution": {
     "iopub.execute_input": "2023-02-28T21:04:16.310906Z",
     "iopub.status.busy": "2023-02-28T21:04:16.310595Z",
     "iopub.status.idle": "2023-02-28T21:04:16.315682Z",
     "shell.execute_reply": "2023-02-28T21:04:16.315186Z"
    },
    "pycharm": {
     "name": "#%%\n"
    }
   },
   "outputs": [
    {
     "data": {
      "text/plain": [
       "{}"
      ]
     },
     "execution_count": 23,
     "metadata": {},
     "output_type": "execute_result"
    }
   ],
   "source": [
    "# Futures are now cleared out\n",
    "X._futures"
   ]
  },
  {
   "cell_type": "code",
   "execution_count": 24,
   "metadata": {
    "collapsed": false,
    "execution": {
     "iopub.execute_input": "2023-02-28T21:04:16.317855Z",
     "iopub.status.busy": "2023-02-28T21:04:16.317540Z",
     "iopub.status.idle": "2023-02-28T21:04:16.321139Z",
     "shell.execute_reply": "2023-02-28T21:04:16.320580Z"
    },
    "pycharm": {
     "name": "#%%\n"
    }
   },
   "outputs": [
    {
     "data": {
      "text/plain": [
       "4"
      ]
     },
     "execution_count": 24,
     "metadata": {},
     "output_type": "execute_result"
    }
   ],
   "source": [
    "# This is the internal counter\n",
    "X._ix_last"
   ]
  },
  {
   "cell_type": "code",
   "execution_count": 25,
   "metadata": {
    "collapsed": false,
    "execution": {
     "iopub.execute_input": "2023-02-28T21:04:16.323211Z",
     "iopub.status.busy": "2023-02-28T21:04:16.323013Z",
     "iopub.status.idle": "2023-02-28T21:04:16.934763Z",
     "shell.execute_reply": "2023-02-28T21:04:16.934120Z"
    },
    "pycharm": {
     "name": "#%%\n"
    }
   },
   "outputs": [
    {
     "data": {
      "text/html": [
       "<div>\n",
       "<style scoped>\n",
       "    .dataframe tbody tr th:only-of-type {\n",
       "        vertical-align: middle;\n",
       "    }\n",
       "\n",
       "    .dataframe tbody tr th {\n",
       "        vertical-align: top;\n",
       "    }\n",
       "\n",
       "    .dataframe thead th {\n",
       "        text-align: right;\n",
       "    }\n",
       "</style>\n",
       "<table border=\"1\" class=\"dataframe\">\n",
       "  <thead>\n",
       "    <tr style=\"text-align: right;\">\n",
       "      <th></th>\n",
       "      <th>x</th>\n",
       "      <th>y</th>\n",
       "      <th>f1</th>\n",
       "      <th>xopt_runtime</th>\n",
       "      <th>xopt_error</th>\n",
       "    </tr>\n",
       "  </thead>\n",
       "  <tbody>\n",
       "    <tr>\n",
       "      <th>5</th>\n",
       "      <td>0.600748</td>\n",
       "      <td>0.031670</td>\n",
       "      <td>0.361902</td>\n",
       "      <td>0.100250</td>\n",
       "      <td>False</td>\n",
       "    </tr>\n",
       "    <tr>\n",
       "      <th>6</th>\n",
       "      <td>0.596771</td>\n",
       "      <td>0.132335</td>\n",
       "      <td>0.373648</td>\n",
       "      <td>0.100293</td>\n",
       "      <td>False</td>\n",
       "    </tr>\n",
       "    <tr>\n",
       "      <th>7</th>\n",
       "      <td>0.665451</td>\n",
       "      <td>0.208765</td>\n",
       "      <td>0.486407</td>\n",
       "      <td>0.100258</td>\n",
       "      <td>False</td>\n",
       "    </tr>\n",
       "    <tr>\n",
       "      <th>8</th>\n",
       "      <td>0.276934</td>\n",
       "      <td>0.555539</td>\n",
       "      <td>0.385316</td>\n",
       "      <td>0.300462</td>\n",
       "      <td>False</td>\n",
       "    </tr>\n",
       "  </tbody>\n",
       "</table>\n",
       "</div>"
      ],
      "text/plain": [
       "          x         y        f1  xopt_runtime  xopt_error\n",
       "5  0.600748  0.031670  0.361902      0.100250       False\n",
       "6  0.596771  0.132335  0.373648      0.100293       False\n",
       "7  0.665451  0.208765  0.486407      0.100258       False\n",
       "8  0.276934  0.555539  0.385316      0.300462       False"
      ]
     },
     "execution_count": 25,
     "metadata": {},
     "output_type": "execute_result"
    }
   ],
   "source": [
    "# This causes immediate evaluation\n",
    "X.evaluate_data(vocs.random_inputs(4))"
   ]
  },
  {
   "cell_type": "code",
   "execution_count": 26,
   "metadata": {
    "collapsed": false,
    "execution": {
     "iopub.execute_input": "2023-02-28T21:04:16.937636Z",
     "iopub.status.busy": "2023-02-28T21:04:16.937098Z",
     "iopub.status.idle": "2023-02-28T21:04:17.049315Z",
     "shell.execute_reply": "2023-02-28T21:04:17.048725Z"
    },
    "pycharm": {
     "name": "#%%\n"
    }
   },
   "outputs": [
    {
     "data": {
      "text/html": [
       "<div>\n",
       "<style scoped>\n",
       "    .dataframe tbody tr th:only-of-type {\n",
       "        vertical-align: middle;\n",
       "    }\n",
       "\n",
       "    .dataframe tbody tr th {\n",
       "        vertical-align: top;\n",
       "    }\n",
       "\n",
       "    .dataframe thead th {\n",
       "        text-align: right;\n",
       "    }\n",
       "</style>\n",
       "<table border=\"1\" class=\"dataframe\">\n",
       "  <thead>\n",
       "    <tr style=\"text-align: right;\">\n",
       "      <th></th>\n",
       "      <th>x</th>\n",
       "      <th>y</th>\n",
       "      <th>f1</th>\n",
       "      <th>xopt_runtime</th>\n",
       "      <th>xopt_error</th>\n",
       "    </tr>\n",
       "  </thead>\n",
       "  <tbody>\n",
       "    <tr>\n",
       "      <th>1</th>\n",
       "      <td>0.333263</td>\n",
       "      <td>0.670598</td>\n",
       "      <td>0.560765</td>\n",
       "      <td>0.400562</td>\n",
       "      <td>False</td>\n",
       "    </tr>\n",
       "    <tr>\n",
       "      <th>2</th>\n",
       "      <td>0.127120</td>\n",
       "      <td>0.708698</td>\n",
       "      <td>0.518413</td>\n",
       "      <td>0.400561</td>\n",
       "      <td>False</td>\n",
       "    </tr>\n",
       "    <tr>\n",
       "      <th>3</th>\n",
       "      <td>0.478903</td>\n",
       "      <td>0.998964</td>\n",
       "      <td>1.227277</td>\n",
       "      <td>0.400562</td>\n",
       "      <td>False</td>\n",
       "    </tr>\n",
       "    <tr>\n",
       "      <th>4</th>\n",
       "      <td>0.249796</td>\n",
       "      <td>0.363820</td>\n",
       "      <td>0.194763</td>\n",
       "      <td>0.400604</td>\n",
       "      <td>False</td>\n",
       "    </tr>\n",
       "    <tr>\n",
       "      <th>5</th>\n",
       "      <td>0.600748</td>\n",
       "      <td>0.031670</td>\n",
       "      <td>0.361902</td>\n",
       "      <td>0.100250</td>\n",
       "      <td>False</td>\n",
       "    </tr>\n",
       "    <tr>\n",
       "      <th>6</th>\n",
       "      <td>0.596771</td>\n",
       "      <td>0.132335</td>\n",
       "      <td>0.373648</td>\n",
       "      <td>0.100293</td>\n",
       "      <td>False</td>\n",
       "    </tr>\n",
       "    <tr>\n",
       "      <th>7</th>\n",
       "      <td>0.665451</td>\n",
       "      <td>0.208765</td>\n",
       "      <td>0.486407</td>\n",
       "      <td>0.100258</td>\n",
       "      <td>False</td>\n",
       "    </tr>\n",
       "    <tr>\n",
       "      <th>8</th>\n",
       "      <td>0.276934</td>\n",
       "      <td>0.555539</td>\n",
       "      <td>0.385316</td>\n",
       "      <td>0.300462</td>\n",
       "      <td>False</td>\n",
       "    </tr>\n",
       "    <tr>\n",
       "      <th>9</th>\n",
       "      <td>0.287898</td>\n",
       "      <td>0.757285</td>\n",
       "      <td>0.656366</td>\n",
       "      <td>0.100251</td>\n",
       "      <td>False</td>\n",
       "    </tr>\n",
       "  </tbody>\n",
       "</table>\n",
       "</div>"
      ],
      "text/plain": [
       "          x         y        f1  xopt_runtime  xopt_error\n",
       "1  0.333263  0.670598  0.560765      0.400562       False\n",
       "2  0.127120  0.708698  0.518413      0.400561       False\n",
       "3  0.478903  0.998964  1.227277      0.400562       False\n",
       "4  0.249796  0.363820  0.194763      0.400604       False\n",
       "5  0.600748  0.031670  0.361902      0.100250       False\n",
       "6  0.596771  0.132335  0.373648      0.100293       False\n",
       "7  0.665451  0.208765  0.486407      0.100258       False\n",
       "8  0.276934  0.555539  0.385316      0.300462       False\n",
       "9  0.287898  0.757285  0.656366      0.100251       False"
      ]
     },
     "execution_count": 26,
     "metadata": {},
     "output_type": "execute_result"
    }
   ],
   "source": [
    "# Singe generation step\n",
    "X.step()\n",
    "X.data"
   ]
  },
  {
   "cell_type": "code",
   "execution_count": 27,
   "metadata": {
    "execution": {
     "iopub.execute_input": "2023-02-28T21:04:17.052309Z",
     "iopub.status.busy": "2023-02-28T21:04:17.051829Z",
     "iopub.status.idle": "2023-02-28T21:04:17.058446Z",
     "shell.execute_reply": "2023-02-28T21:04:17.057878Z"
    }
   },
   "outputs": [],
   "source": [
    "# Usage with a parallel executor. \n",
    "X2 = Xopt(\n",
    "    generator=RandomGenerator(vocs),\n",
    "    evaluator=Evaluator(function=f, executor=executor, max_workers=MAX_WORKERS),\n",
    "    vocs=vocs,\n",
    ")\n",
    "X2.options.asynch = True"
   ]
  },
  {
   "cell_type": "code",
   "execution_count": 28,
   "metadata": {
    "execution": {
     "iopub.execute_input": "2023-02-28T21:04:17.061147Z",
     "iopub.status.busy": "2023-02-28T21:04:17.060661Z",
     "iopub.status.idle": "2023-02-28T21:04:17.371245Z",
     "shell.execute_reply": "2023-02-28T21:04:17.370649Z"
    }
   },
   "outputs": [],
   "source": [
    "X2.step()"
   ]
  },
  {
   "cell_type": "code",
   "execution_count": 29,
   "metadata": {
    "collapsed": false,
    "execution": {
     "iopub.execute_input": "2023-02-28T21:04:17.374388Z",
     "iopub.status.busy": "2023-02-28T21:04:17.373879Z",
     "iopub.status.idle": "2023-02-28T21:04:18.507447Z",
     "shell.execute_reply": "2023-02-28T21:04:18.506870Z"
    },
    "pycharm": {
     "name": "#%%\n"
    }
   },
   "outputs": [
    {
     "data": {
      "text/plain": [
       "42"
      ]
     },
     "execution_count": 29,
     "metadata": {},
     "output_type": "execute_result"
    }
   ],
   "source": [
    "for _ in range(20):\n",
    "    X2.step()\n",
    "\n",
    "len(X2.data)"
   ]
  },
  {
   "cell_type": "code",
   "execution_count": 30,
   "metadata": {
    "collapsed": false,
    "execution": {
     "iopub.execute_input": "2023-02-28T21:04:18.510334Z",
     "iopub.status.busy": "2023-02-28T21:04:18.509918Z",
     "iopub.status.idle": "2023-02-28T21:04:19.133672Z",
     "shell.execute_reply": "2023-02-28T21:04:19.132740Z"
    },
    "pycharm": {
     "name": "#%%\n"
    }
   },
   "outputs": [
    {
     "data": {
      "text/plain": [
       "<Axes: xlabel='x', ylabel='y'>"
      ]
     },
     "execution_count": 30,
     "metadata": {},
     "output_type": "execute_result"
    },
    {
     "data": {
      "image/png": "[encoded data removed]",
      "text/plain": [
       "<Figure size 640x480 with 1 Axes>"
      ]
     },
     "metadata": {
      "image/png": {
       "height": 435,
       "width": 567
      }
     },
     "output_type": "display_data"
    }
   ],
   "source": [
    "X2.data.plot.scatter(\"x\", \"y\")"
   ]
  },
  {
   "cell_type": "code",
   "execution_count": 31,
   "metadata": {
    "collapsed": false,
    "execution": {
     "iopub.execute_input": "2023-02-28T21:04:19.136512Z",
     "iopub.status.busy": "2023-02-28T21:04:19.135874Z",
     "iopub.status.idle": "2023-02-28T21:04:20.060776Z",
     "shell.execute_reply": "2023-02-28T21:04:20.060209Z"
    },
    "pycharm": {
     "name": "#%%\n"
    }
   },
   "outputs": [
    {
     "data": {
      "text/plain": [
       "30"
      ]
     },
     "execution_count": 31,
     "metadata": {},
     "output_type": "execute_result"
    }
   ],
   "source": [
    "# Asynchronous, Vectorized\n",
    "X2 = Xopt(\n",
    "    generator=RandomGenerator(vocs),\n",
    "    evaluator=Evaluator(function=f, executor=executor, max_workers=MAX_WORKERS),\n",
    "    vocs=vocs,\n",
    ")\n",
    "X2.options.asynch = True\n",
    "X2.evaluator.vectorized = True\n",
    "\n",
    "# This takes fewer steps to achieve a similar numver of evaluations\n",
    "for _ in range(3):\n",
    "    X2.step()\n",
    "\n",
    "len(X2.data)"
   ]
  }
 ],
 "metadata": {
  "kernelspec": {
   "display_name": "Python 3.9.13 ('xopt-dev2')",
   "language": "python",
   "name": "python3"
  },
  "language_info": {
   "codemirror_mode": {
    "name": "ipython",
    "version": 3
   },
   "file_extension": ".py",
   "mimetype": "text/x-python",
   "name": "python",
   "nbconvert_exporter": "python",
   "pygments_lexer": "ipython3",
   "version": "3.9.16"
  },
  "vscode": {
   "interpreter": {
    "hash": "4483d4964800812ebc77892a92dde3b54705ec8a224d63d9bb659e2cc457018b"
   }
  }
 },
 "nbformat": 4,
 "nbformat_minor": 2
}
