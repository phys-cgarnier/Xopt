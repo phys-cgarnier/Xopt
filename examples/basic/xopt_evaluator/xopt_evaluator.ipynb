{
 "cells": [
  {
   "cell_type": "markdown",
   "metadata": {
    "pycharm": {
     "name": "#%% md\n"
    }
   },
   "source": []
  },
  {
   "cell_type": "markdown",
   "metadata": {
    "pycharm": {
     "name": "#%% md\n"
    }
   },
   "source": [
    "# Xopt Evaluator Basic Usage \n",
    "\n",
    "The `Evaluator` handles the execution of the user-provided `function` with optional `function_kwags`, asyncrhonously and parallel, with exception handling. "
   ]
  },
  {
   "cell_type": "code",
   "execution_count": 1,
   "metadata": {
    "collapsed": false,
    "execution": {
     "iopub.execute_input": "2022-07-31T20:16:22.777995Z",
     "iopub.status.busy": "2022-07-31T20:16:22.777470Z",
     "iopub.status.idle": "2022-07-31T20:16:22.784991Z",
     "shell.execute_reply": "2022-07-31T20:16:22.784280Z"
    },
    "pycharm": {
     "name": "#%%\n"
    }
   },
   "outputs": [],
   "source": [
    "# needed for macos\n",
    "import platform\n",
    "if platform.system() == \"Darwin\": import multiprocessing;multiprocessing.set_start_method(\"fork\")\n"
   ]
  },
  {
   "cell_type": "code",
   "execution_count": 2,
   "metadata": {
    "collapsed": false,
    "execution": {
     "iopub.execute_input": "2022-07-31T20:16:22.788494Z",
     "iopub.status.busy": "2022-07-31T20:16:22.788086Z",
     "iopub.status.idle": "2022-07-31T20:16:24.001546Z",
     "shell.execute_reply": "2022-07-31T20:16:24.000823Z"
    },
    "pycharm": {
     "name": "#%%\n"
    }
   },
   "outputs": [],
   "source": [
    "from xopt import Xopt, Evaluator, Generator, VOCS\n",
    "from xopt.generators.random import RandomGenerator\n",
    "\n",
    "from time import sleep\n",
    "from numpy.random import randint\n",
    "\n",
    "from typing import Dict\n",
    "\n",
    "import numpy as np\n",
    "np.random.seed(666) # for reproducibility"
   ]
  },
  {
   "cell_type": "markdown",
   "metadata": {},
   "source": [
    "Define a custom function `f(inputs: Dict) -> outputs: Dict`. "
   ]
  },
  {
   "cell_type": "code",
   "execution_count": 3,
   "metadata": {
    "execution": {
     "iopub.execute_input": "2022-07-31T20:16:24.005179Z",
     "iopub.status.busy": "2022-07-31T20:16:24.004687Z",
     "iopub.status.idle": "2022-07-31T20:16:24.010425Z",
     "shell.execute_reply": "2022-07-31T20:16:24.009783Z"
    }
   },
   "outputs": [],
   "source": [
    "def f(inputs: Dict) -> Dict:\n",
    "\n",
    "    sleep(randint(1, 5)*.1)  # simulate computation time\n",
    "    # Make some occasional errors\n",
    "    if inputs[\"x\"] > 0.8:\n",
    "        raise ValueError(\"x > 0.8\")\n",
    "\n",
    "    return {\"f1\": inputs[\"x\"] ** 2 + inputs[\"y\"] ** 2}"
   ]
  },
  {
   "cell_type": "markdown",
   "metadata": {},
   "source": [
    "Define variables, objectives, constraints, and other settings (VOCS)"
   ]
  },
  {
   "cell_type": "code",
   "execution_count": 4,
   "metadata": {
    "collapsed": false,
    "execution": {
     "iopub.execute_input": "2022-07-31T20:16:24.014264Z",
     "iopub.status.busy": "2022-07-31T20:16:24.013680Z",
     "iopub.status.idle": "2022-07-31T20:16:24.027947Z",
     "shell.execute_reply": "2022-07-31T20:16:24.027356Z"
    },
    "pycharm": {
     "name": "#%%\n"
    }
   },
   "outputs": [
    {
     "data": {
      "text/plain": [
       "VOCS(variables={'x': [0.0, 1.0], 'y': [0.0, 1.0]}, constraints={}, objectives={'f1': 'MINIMIZE'}, constants={}, linked_variables={})"
      ]
     },
     "execution_count": 4,
     "metadata": {},
     "output_type": "execute_result"
    }
   ],
   "source": [
    "vocs = VOCS(variables={\"x\": [0, 1], \"y\": [0, 1]}, objectives={\"f1\": \"MINIMIZE\"})\n",
    "vocs\n",
    "\n"
   ]
  },
  {
   "cell_type": "markdown",
   "metadata": {},
   "source": [
    "This can be used to make some random inputs for evaluating the function. "
   ]
  },
  {
   "cell_type": "code",
   "execution_count": 5,
   "metadata": {
    "execution": {
     "iopub.execute_input": "2022-07-31T20:16:24.063469Z",
     "iopub.status.busy": "2022-07-31T20:16:24.062670Z",
     "iopub.status.idle": "2022-07-31T20:16:24.368266Z",
     "shell.execute_reply": "2022-07-31T20:16:24.367639Z"
    }
   },
   "outputs": [
    {
     "data": {
      "text/plain": [
       "{'f1': 0.11401572022703582}"
      ]
     },
     "execution_count": 5,
     "metadata": {},
     "output_type": "execute_result"
    }
   ],
   "source": [
    "in1 = vocs.random_inputs()\n",
    "\n",
    "f(in1)"
   ]
  },
  {
   "cell_type": "code",
   "execution_count": 6,
   "metadata": {
    "execution": {
     "iopub.execute_input": "2022-07-31T20:16:24.371561Z",
     "iopub.status.busy": "2022-07-31T20:16:24.371052Z",
     "iopub.status.idle": "2022-07-31T20:16:24.675795Z",
     "shell.execute_reply": "2022-07-31T20:16:24.675055Z"
    }
   },
   "outputs": [
    {
     "name": "stdout",
     "output_type": "stream",
     "text": [
      "Caught error in f: x > 0.8\n"
     ]
    }
   ],
   "source": [
    "# Add in occasional errors. \n",
    "try:\n",
    "    f({\"x\": 1, \"y\": 0})\n",
    "except Exception as ex:\n",
    "    print(f\"Caught error in f: {ex}\")"
   ]
  },
  {
   "cell_type": "code",
   "execution_count": 7,
   "metadata": {
    "collapsed": false,
    "execution": {
     "iopub.execute_input": "2022-07-31T20:16:24.678862Z",
     "iopub.status.busy": "2022-07-31T20:16:24.678369Z",
     "iopub.status.idle": "2022-07-31T20:16:25.699583Z",
     "shell.execute_reply": "2022-07-31T20:16:25.698849Z"
    },
    "pycharm": {
     "name": "#%%\n"
    }
   },
   "outputs": [
    {
     "data": {
      "text/html": [
       "<div>\n",
       "<style scoped>\n",
       "    .dataframe tbody tr th:only-of-type {\n",
       "        vertical-align: middle;\n",
       "    }\n",
       "\n",
       "    .dataframe tbody tr th {\n",
       "        vertical-align: top;\n",
       "    }\n",
       "\n",
       "    .dataframe thead th {\n",
       "        text-align: right;\n",
       "    }\n",
       "</style>\n",
       "<table border=\"1\" class=\"dataframe\">\n",
       "  <thead>\n",
       "    <tr style=\"text-align: right;\">\n",
       "      <th></th>\n",
       "      <th>x</th>\n",
       "      <th>y</th>\n",
       "    </tr>\n",
       "  </thead>\n",
       "  <tbody>\n",
       "  </tbody>\n",
       "</table>\n",
       "</div>"
      ],
      "text/plain": [
       "Empty DataFrame\n",
       "Columns: [x, y]\n",
       "Index: []"
      ]
     },
     "execution_count": 7,
     "metadata": {},
     "output_type": "execute_result"
    }
   ],
   "source": [
    "X = Xopt(generator=RandomGenerator(vocs), evaluator=Evaluator(function=f), vocs=vocs)\n",
    "\n",
    "# Submit to the evaluator some new inputs\n",
    "X.submit_data(vocs.random_inputs(4))\n",
    "\n",
    "# Unevaluated inputs are collected in a dataframe\n",
    "X._input_data"
   ]
  },
  {
   "cell_type": "code",
   "execution_count": 8,
   "metadata": {
    "collapsed": false,
    "execution": {
     "iopub.execute_input": "2022-07-31T20:16:25.702880Z",
     "iopub.status.busy": "2022-07-31T20:16:25.702432Z",
     "iopub.status.idle": "2022-07-31T20:16:25.706930Z",
     "shell.execute_reply": "2022-07-31T20:16:25.706183Z"
    },
    "pycharm": {
     "name": "#%%\n"
    }
   },
   "outputs": [
    {
     "data": {
      "text/plain": [
       "{}"
      ]
     },
     "execution_count": 8,
     "metadata": {},
     "output_type": "execute_result"
    }
   ],
   "source": [
    "# Internal futures dictionary\n",
    "X._futures"
   ]
  },
  {
   "cell_type": "code",
   "execution_count": 9,
   "metadata": {
    "collapsed": false,
    "execution": {
     "iopub.execute_input": "2022-07-31T20:16:25.709946Z",
     "iopub.status.busy": "2022-07-31T20:16:25.709480Z",
     "iopub.status.idle": "2022-07-31T20:16:25.720373Z",
     "shell.execute_reply": "2022-07-31T20:16:25.719675Z"
    },
    "pycharm": {
     "name": "#%%\n"
    }
   },
   "outputs": [
    {
     "data": {
      "text/html": [
       "<div>\n",
       "<style scoped>\n",
       "    .dataframe tbody tr th:only-of-type {\n",
       "        vertical-align: middle;\n",
       "    }\n",
       "\n",
       "    .dataframe tbody tr th {\n",
       "        vertical-align: top;\n",
       "    }\n",
       "\n",
       "    .dataframe thead th {\n",
       "        text-align: right;\n",
       "    }\n",
       "</style>\n",
       "<table border=\"1\" class=\"dataframe\">\n",
       "  <thead>\n",
       "    <tr style=\"text-align: right;\">\n",
       "      <th></th>\n",
       "      <th>x</th>\n",
       "      <th>y</th>\n",
       "      <th>f1</th>\n",
       "      <th>xopt_error</th>\n",
       "      <th>xopt_error_str</th>\n",
       "    </tr>\n",
       "  </thead>\n",
       "  <tbody>\n",
       "    <tr>\n",
       "      <th>1</th>\n",
       "      <td>0.272142</td>\n",
       "      <td>0.951187</td>\n",
       "      <td>0.978818</td>\n",
       "      <td>False</td>\n",
       "      <td></td>\n",
       "    </tr>\n",
       "    <tr>\n",
       "      <th>2</th>\n",
       "      <td>0.048542</td>\n",
       "      <td>0.900071</td>\n",
       "      <td>0.812485</td>\n",
       "      <td>False</td>\n",
       "      <td></td>\n",
       "    </tr>\n",
       "    <tr>\n",
       "      <th>3</th>\n",
       "      <td>0.987297</td>\n",
       "      <td>0.491934</td>\n",
       "      <td>NaN</td>\n",
       "      <td>True</td>\n",
       "      <td>Traceback (most recent call last):\\n  File \"/u...</td>\n",
       "    </tr>\n",
       "    <tr>\n",
       "      <th>4</th>\n",
       "      <td>0.586412</td>\n",
       "      <td>0.799752</td>\n",
       "      <td>0.983483</td>\n",
       "      <td>False</td>\n",
       "      <td></td>\n",
       "    </tr>\n",
       "  </tbody>\n",
       "</table>\n",
       "</div>"
      ],
      "text/plain": [
       "          x         y        f1 xopt_error  \\\n",
       "1  0.272142  0.951187  0.978818      False   \n",
       "2  0.048542  0.900071  0.812485      False   \n",
       "3  0.987297  0.491934       NaN       True   \n",
       "4  0.586412  0.799752  0.983483      False   \n",
       "\n",
       "                                      xopt_error_str  \n",
       "1                                                     \n",
       "2                                                     \n",
       "3  Traceback (most recent call last):\\n  File \"/u...  \n",
       "4                                                     "
      ]
     },
     "execution_count": 9,
     "metadata": {},
     "output_type": "execute_result"
    }
   ],
   "source": [
    "# Collect all finished futures and updata dataframe\n",
    "X.update_data()\n",
    "X.data"
   ]
  },
  {
   "cell_type": "code",
   "execution_count": 10,
   "metadata": {
    "collapsed": false,
    "execution": {
     "iopub.execute_input": "2022-07-31T20:16:25.724476Z",
     "iopub.status.busy": "2022-07-31T20:16:25.723812Z",
     "iopub.status.idle": "2022-07-31T20:16:25.728288Z",
     "shell.execute_reply": "2022-07-31T20:16:25.727647Z"
    },
    "pycharm": {
     "name": "#%%\n"
    }
   },
   "outputs": [
    {
     "data": {
      "text/plain": [
       "{}"
      ]
     },
     "execution_count": 10,
     "metadata": {},
     "output_type": "execute_result"
    }
   ],
   "source": [
    "# Futures are now cleared out\n",
    "X._futures"
   ]
  },
  {
   "cell_type": "code",
   "execution_count": 11,
   "metadata": {
    "collapsed": false,
    "execution": {
     "iopub.execute_input": "2022-07-31T20:16:25.731642Z",
     "iopub.status.busy": "2022-07-31T20:16:25.731048Z",
     "iopub.status.idle": "2022-07-31T20:16:25.735385Z",
     "shell.execute_reply": "2022-07-31T20:16:25.734696Z"
    },
    "pycharm": {
     "name": "#%%\n"
    }
   },
   "outputs": [
    {
     "data": {
      "text/plain": [
       "4"
      ]
     },
     "execution_count": 11,
     "metadata": {},
     "output_type": "execute_result"
    }
   ],
   "source": [
    "# This is the internal counter\n",
    "X._ix_last"
   ]
  },
  {
   "cell_type": "code",
   "execution_count": 12,
   "metadata": {
    "collapsed": false,
    "execution": {
     "iopub.execute_input": "2022-07-31T20:16:25.739438Z",
     "iopub.status.busy": "2022-07-31T20:16:25.738806Z",
     "iopub.status.idle": "2022-07-31T20:16:26.450912Z",
     "shell.execute_reply": "2022-07-31T20:16:26.450141Z"
    },
    "pycharm": {
     "name": "#%%\n"
    }
   },
   "outputs": [
    {
     "data": {
      "text/html": [
       "<div>\n",
       "<style scoped>\n",
       "    .dataframe tbody tr th:only-of-type {\n",
       "        vertical-align: middle;\n",
       "    }\n",
       "\n",
       "    .dataframe tbody tr th {\n",
       "        vertical-align: top;\n",
       "    }\n",
       "\n",
       "    .dataframe thead th {\n",
       "        text-align: right;\n",
       "    }\n",
       "</style>\n",
       "<table border=\"1\" class=\"dataframe\">\n",
       "  <thead>\n",
       "    <tr style=\"text-align: right;\">\n",
       "      <th></th>\n",
       "      <th>x</th>\n",
       "      <th>y</th>\n",
       "    </tr>\n",
       "  </thead>\n",
       "  <tbody>\n",
       "  </tbody>\n",
       "</table>\n",
       "</div>"
      ],
      "text/plain": [
       "Empty DataFrame\n",
       "Columns: [x, y]\n",
       "Index: []"
      ]
     },
     "execution_count": 12,
     "metadata": {},
     "output_type": "execute_result"
    }
   ],
   "source": [
    "X.submit_data(vocs.random_inputs(4))\n",
    "X._input_data"
   ]
  },
  {
   "cell_type": "code",
   "execution_count": 13,
   "metadata": {
    "collapsed": false,
    "execution": {
     "iopub.execute_input": "2022-07-31T20:16:26.454325Z",
     "iopub.status.busy": "2022-07-31T20:16:26.453891Z",
     "iopub.status.idle": "2022-07-31T20:16:26.458709Z",
     "shell.execute_reply": "2022-07-31T20:16:26.458009Z"
    },
    "pycharm": {
     "name": "#%%\n"
    }
   },
   "outputs": [
    {
     "data": {
      "text/plain": [
       "{}"
      ]
     },
     "execution_count": 13,
     "metadata": {},
     "output_type": "execute_result"
    }
   ],
   "source": [
    "X._futures"
   ]
  },
  {
   "cell_type": "code",
   "execution_count": 14,
   "metadata": {
    "collapsed": false,
    "execution": {
     "iopub.execute_input": "2022-07-31T20:16:26.462604Z",
     "iopub.status.busy": "2022-07-31T20:16:26.461975Z",
     "iopub.status.idle": "2022-07-31T20:16:26.677553Z",
     "shell.execute_reply": "2022-07-31T20:16:26.676807Z"
    },
    "pycharm": {
     "name": "#%%\n"
    }
   },
   "outputs": [
    {
     "data": {
      "text/html": [
       "<div>\n",
       "<style scoped>\n",
       "    .dataframe tbody tr th:only-of-type {\n",
       "        vertical-align: middle;\n",
       "    }\n",
       "\n",
       "    .dataframe tbody tr th {\n",
       "        vertical-align: top;\n",
       "    }\n",
       "\n",
       "    .dataframe thead th {\n",
       "        text-align: right;\n",
       "    }\n",
       "</style>\n",
       "<table border=\"1\" class=\"dataframe\">\n",
       "  <thead>\n",
       "    <tr style=\"text-align: right;\">\n",
       "      <th></th>\n",
       "      <th>x</th>\n",
       "      <th>y</th>\n",
       "      <th>f1</th>\n",
       "      <th>xopt_error</th>\n",
       "      <th>xopt_error_str</th>\n",
       "    </tr>\n",
       "  </thead>\n",
       "  <tbody>\n",
       "    <tr>\n",
       "      <th>1</th>\n",
       "      <td>0.272142</td>\n",
       "      <td>0.951187</td>\n",
       "      <td>0.978818</td>\n",
       "      <td>False</td>\n",
       "      <td></td>\n",
       "    </tr>\n",
       "    <tr>\n",
       "      <th>2</th>\n",
       "      <td>0.048542</td>\n",
       "      <td>0.900071</td>\n",
       "      <td>0.812485</td>\n",
       "      <td>False</td>\n",
       "      <td></td>\n",
       "    </tr>\n",
       "    <tr>\n",
       "      <th>3</th>\n",
       "      <td>0.987297</td>\n",
       "      <td>0.491934</td>\n",
       "      <td>NaN</td>\n",
       "      <td>True</td>\n",
       "      <td>Traceback (most recent call last):\\n  File \"/u...</td>\n",
       "    </tr>\n",
       "    <tr>\n",
       "      <th>4</th>\n",
       "      <td>0.586412</td>\n",
       "      <td>0.799752</td>\n",
       "      <td>0.983483</td>\n",
       "      <td>False</td>\n",
       "      <td></td>\n",
       "    </tr>\n",
       "    <tr>\n",
       "      <th>5</th>\n",
       "      <td>0.299155</td>\n",
       "      <td>0.887142</td>\n",
       "      <td>0.876515</td>\n",
       "      <td>False</td>\n",
       "      <td></td>\n",
       "    </tr>\n",
       "    <tr>\n",
       "      <th>6</th>\n",
       "      <td>0.706772</td>\n",
       "      <td>0.889046</td>\n",
       "      <td>1.289930</td>\n",
       "      <td>False</td>\n",
       "      <td></td>\n",
       "    </tr>\n",
       "    <tr>\n",
       "      <th>7</th>\n",
       "      <td>0.225521</td>\n",
       "      <td>0.752332</td>\n",
       "      <td>0.616863</td>\n",
       "      <td>False</td>\n",
       "      <td></td>\n",
       "    </tr>\n",
       "    <tr>\n",
       "      <th>8</th>\n",
       "      <td>0.994891</td>\n",
       "      <td>0.976764</td>\n",
       "      <td>NaN</td>\n",
       "      <td>True</td>\n",
       "      <td>Traceback (most recent call last):\\n  File \"/u...</td>\n",
       "    </tr>\n",
       "    <tr>\n",
       "      <th>9</th>\n",
       "      <td>0.802497</td>\n",
       "      <td>0.090820</td>\n",
       "      <td>NaN</td>\n",
       "      <td>True</td>\n",
       "      <td>Traceback (most recent call last):\\n  File \"/u...</td>\n",
       "    </tr>\n",
       "  </tbody>\n",
       "</table>\n",
       "</div>"
      ],
      "text/plain": [
       "          x         y        f1 xopt_error  \\\n",
       "1  0.272142  0.951187  0.978818      False   \n",
       "2  0.048542  0.900071  0.812485      False   \n",
       "3  0.987297  0.491934       NaN       True   \n",
       "4  0.586412  0.799752  0.983483      False   \n",
       "5  0.299155  0.887142  0.876515      False   \n",
       "6  0.706772  0.889046  1.289930      False   \n",
       "7  0.225521  0.752332  0.616863      False   \n",
       "8  0.994891  0.976764       NaN       True   \n",
       "9  0.802497  0.090820       NaN       True   \n",
       "\n",
       "                                      xopt_error_str  \n",
       "1                                                     \n",
       "2                                                     \n",
       "3  Traceback (most recent call last):\\n  File \"/u...  \n",
       "4                                                     \n",
       "5                                                     \n",
       "6                                                     \n",
       "7                                                     \n",
       "8  Traceback (most recent call last):\\n  File \"/u...  \n",
       "9  Traceback (most recent call last):\\n  File \"/u...  "
      ]
     },
     "execution_count": 14,
     "metadata": {},
     "output_type": "execute_result"
    }
   ],
   "source": [
    "# Singe generation step\n",
    "X.step()\n",
    "X.update_data()\n",
    "X.data"
   ]
  },
  {
   "cell_type": "markdown",
   "metadata": {
    "collapsed": false,
    "pycharm": {
     "name": "#%% md\n"
    }
   },
   "source": [
    "# Executors"
   ]
  },
  {
   "cell_type": "code",
   "execution_count": 15,
   "metadata": {
    "collapsed": false,
    "execution": {
     "iopub.execute_input": "2022-07-31T20:16:26.681262Z",
     "iopub.status.busy": "2022-07-31T20:16:26.680601Z",
     "iopub.status.idle": "2022-07-31T20:16:26.684050Z",
     "shell.execute_reply": "2022-07-31T20:16:26.683410Z"
    },
    "pycharm": {
     "name": "#%%\n"
    }
   },
   "outputs": [],
   "source": [
    "from concurrent.futures import ThreadPoolExecutor, ProcessPoolExecutor"
   ]
  },
  {
   "cell_type": "code",
   "execution_count": 16,
   "metadata": {
    "collapsed": false,
    "execution": {
     "iopub.execute_input": "2022-07-31T20:16:26.686874Z",
     "iopub.status.busy": "2022-07-31T20:16:26.686477Z",
     "iopub.status.idle": "2022-07-31T20:16:26.689757Z",
     "shell.execute_reply": "2022-07-31T20:16:26.689112Z"
    },
    "pycharm": {
     "name": "#%%\n"
    }
   },
   "outputs": [],
   "source": [
    "MAX_WORKERS = 10"
   ]
  },
  {
   "cell_type": "code",
   "execution_count": 17,
   "metadata": {
    "collapsed": false,
    "execution": {
     "iopub.execute_input": "2022-07-31T20:16:26.692711Z",
     "iopub.status.busy": "2022-07-31T20:16:26.692321Z",
     "iopub.status.idle": "2022-07-31T20:16:26.695511Z",
     "shell.execute_reply": "2022-07-31T20:16:26.694822Z"
    },
    "pycharm": {
     "name": "#%%\n"
    }
   },
   "outputs": [],
   "source": [
    "# Dask\n",
    "# from dask.distributed import Client\n",
    "# import logging\n",
    "# client = Client( silence_logs=logging.ERROR)\n",
    "# executor = client.get_executor()\n",
    "# client"
   ]
  },
  {
   "cell_type": "code",
   "execution_count": 18,
   "metadata": {
    "collapsed": false,
    "execution": {
     "iopub.execute_input": "2022-07-31T20:16:26.698407Z",
     "iopub.status.busy": "2022-07-31T20:16:26.698008Z",
     "iopub.status.idle": "2022-07-31T20:16:26.703838Z",
     "shell.execute_reply": "2022-07-31T20:16:26.703176Z"
    },
    "pycharm": {
     "name": "#%%\n"
    }
   },
   "outputs": [
    {
     "data": {
      "text/plain": [
       "<concurrent.futures.process.ProcessPoolExecutor at 0x7f1edc475880>"
      ]
     },
     "execution_count": 18,
     "metadata": {},
     "output_type": "execute_result"
    }
   ],
   "source": [
    "executor = ProcessPoolExecutor(max_workers=MAX_WORKERS)\n",
    "executor"
   ]
  },
  {
   "cell_type": "code",
   "execution_count": 19,
   "metadata": {
    "collapsed": false,
    "execution": {
     "iopub.execute_input": "2022-07-31T20:16:26.706913Z",
     "iopub.status.busy": "2022-07-31T20:16:26.706530Z",
     "iopub.status.idle": "2022-07-31T20:16:26.719578Z",
     "shell.execute_reply": "2022-07-31T20:16:26.718865Z"
    },
    "pycharm": {
     "name": "#%%\n"
    }
   },
   "outputs": [],
   "source": [
    "X2 = Xopt(\n",
    "    generator=RandomGenerator(vocs),\n",
    "    evaluator=Evaluator(function=f, executor=executor, max_workers=MAX_WORKERS),\n",
    "    vocs=vocs,\n",
    ")\n",
    "X2.options.asynch = True"
   ]
  },
  {
   "cell_type": "code",
   "execution_count": 20,
   "metadata": {
    "collapsed": false,
    "execution": {
     "iopub.execute_input": "2022-07-31T20:16:26.724285Z",
     "iopub.status.busy": "2022-07-31T20:16:26.722770Z",
     "iopub.status.idle": "2022-07-31T20:16:28.661570Z",
     "shell.execute_reply": "2022-07-31T20:16:28.660222Z"
    },
    "pycharm": {
     "name": "#%%\n"
    }
   },
   "outputs": [],
   "source": [
    "for _ in range(20):\n",
    "    X2.step()"
   ]
  },
  {
   "cell_type": "code",
   "execution_count": 21,
   "metadata": {
    "collapsed": false,
    "execution": {
     "iopub.execute_input": "2022-07-31T20:16:28.666236Z",
     "iopub.status.busy": "2022-07-31T20:16:28.665894Z",
     "iopub.status.idle": "2022-07-31T20:16:29.447450Z",
     "shell.execute_reply": "2022-07-31T20:16:29.446711Z"
    },
    "pycharm": {
     "name": "#%%\n"
    }
   },
   "outputs": [
    {
     "data": {
      "text/plain": [
       "<AxesSubplot:xlabel='x', ylabel='y'>"
      ]
     },
     "execution_count": 21,
     "metadata": {},
     "output_type": "execute_result"
    },
    {
     "data": {
      "image/png": "[encoded data removed]",
      "text/plain": [
       "<Figure size 432x288 with 1 Axes>"
      ]
     },
     "metadata": {
      "needs_background": "light"
     },
     "output_type": "display_data"
    }
   ],
   "source": [
    "X2.data.plot.scatter(\"x\", \"y\")"
   ]
  },
  {
   "cell_type": "code",
   "execution_count": 22,
   "metadata": {
    "collapsed": false,
    "execution": {
     "iopub.execute_input": "2022-07-31T20:16:29.451412Z",
     "iopub.status.busy": "2022-07-31T20:16:29.450807Z",
     "iopub.status.idle": "2022-07-31T20:16:29.467951Z",
     "shell.execute_reply": "2022-07-31T20:16:29.467159Z"
    },
    "pycharm": {
     "name": "#%%\n"
    }
   },
   "outputs": [
    {
     "data": {
      "text/html": [
       "<div>\n",
       "<style scoped>\n",
       "    .dataframe tbody tr th:only-of-type {\n",
       "        vertical-align: middle;\n",
       "    }\n",
       "\n",
       "    .dataframe tbody tr th {\n",
       "        vertical-align: top;\n",
       "    }\n",
       "\n",
       "    .dataframe thead th {\n",
       "        text-align: right;\n",
       "    }\n",
       "</style>\n",
       "<table border=\"1\" class=\"dataframe\">\n",
       "  <thead>\n",
       "    <tr style=\"text-align: right;\">\n",
       "      <th></th>\n",
       "      <th>x</th>\n",
       "      <th>y</th>\n",
       "      <th>f1</th>\n",
       "      <th>xopt_error</th>\n",
       "      <th>xopt_error_str</th>\n",
       "    </tr>\n",
       "  </thead>\n",
       "  <tbody>\n",
       "    <tr>\n",
       "      <th>1</th>\n",
       "      <td>0.475619</td>\n",
       "      <td>0.127120</td>\n",
       "      <td>0.242373</td>\n",
       "      <td>False</td>\n",
       "      <td></td>\n",
       "    </tr>\n",
       "    <tr>\n",
       "      <th>2</th>\n",
       "      <td>0.057461</td>\n",
       "      <td>0.478903</td>\n",
       "      <td>0.232650</td>\n",
       "      <td>False</td>\n",
       "      <td></td>\n",
       "    </tr>\n",
       "    <tr>\n",
       "      <th>3</th>\n",
       "      <td>0.925261</td>\n",
       "      <td>0.249796</td>\n",
       "      <td>NaN</td>\n",
       "      <td>True</td>\n",
       "      <td>concurrent.futures.process._RemoteTraceback: \\...</td>\n",
       "    </tr>\n",
       "    <tr>\n",
       "      <th>4</th>\n",
       "      <td>0.723537</td>\n",
       "      <td>0.670598</td>\n",
       "      <td>0.973208</td>\n",
       "      <td>False</td>\n",
       "      <td></td>\n",
       "    </tr>\n",
       "    <tr>\n",
       "      <th>5</th>\n",
       "      <td>0.532415</td>\n",
       "      <td>0.708698</td>\n",
       "      <td>0.785718</td>\n",
       "      <td>False</td>\n",
       "      <td></td>\n",
       "    </tr>\n",
       "    <tr>\n",
       "      <th>6</th>\n",
       "      <td>0.684185</td>\n",
       "      <td>0.998964</td>\n",
       "      <td>1.466037</td>\n",
       "      <td>False</td>\n",
       "      <td></td>\n",
       "    </tr>\n",
       "    <tr>\n",
       "      <th>7</th>\n",
       "      <td>0.609837</td>\n",
       "      <td>0.363820</td>\n",
       "      <td>0.504267</td>\n",
       "      <td>False</td>\n",
       "      <td></td>\n",
       "    </tr>\n",
       "    <tr>\n",
       "      <th>8</th>\n",
       "      <td>0.731670</td>\n",
       "      <td>0.020664</td>\n",
       "      <td>0.535768</td>\n",
       "      <td>False</td>\n",
       "      <td></td>\n",
       "    </tr>\n",
       "    <tr>\n",
       "      <th>9</th>\n",
       "      <td>0.246336</td>\n",
       "      <td>0.087637</td>\n",
       "      <td>0.068362</td>\n",
       "      <td>False</td>\n",
       "      <td></td>\n",
       "    </tr>\n",
       "    <tr>\n",
       "      <th>10</th>\n",
       "      <td>0.333263</td>\n",
       "      <td>0.600748</td>\n",
       "      <td>0.471962</td>\n",
       "      <td>False</td>\n",
       "      <td></td>\n",
       "    </tr>\n",
       "    <tr>\n",
       "      <th>12</th>\n",
       "      <td>0.665451</td>\n",
       "      <td>0.757285</td>\n",
       "      <td>1.016306</td>\n",
       "      <td>False</td>\n",
       "      <td></td>\n",
       "    </tr>\n",
       "    <tr>\n",
       "      <th>11</th>\n",
       "      <td>0.596771</td>\n",
       "      <td>0.287898</td>\n",
       "      <td>0.439020</td>\n",
       "      <td>False</td>\n",
       "      <td></td>\n",
       "    </tr>\n",
       "    <tr>\n",
       "      <th>13</th>\n",
       "      <td>0.276934</td>\n",
       "      <td>0.429563</td>\n",
       "      <td>0.261217</td>\n",
       "      <td>False</td>\n",
       "      <td></td>\n",
       "    </tr>\n",
       "    <tr>\n",
       "      <th>14</th>\n",
       "      <td>0.031670</td>\n",
       "      <td>0.422266</td>\n",
       "      <td>0.179312</td>\n",
       "      <td>False</td>\n",
       "      <td></td>\n",
       "    </tr>\n",
       "    <tr>\n",
       "      <th>15</th>\n",
       "      <td>0.132335</td>\n",
       "      <td>0.107252</td>\n",
       "      <td>0.029015</td>\n",
       "      <td>False</td>\n",
       "      <td></td>\n",
       "    </tr>\n",
       "    <tr>\n",
       "      <th>16</th>\n",
       "      <td>0.208765</td>\n",
       "      <td>0.878615</td>\n",
       "      <td>0.815546</td>\n",
       "      <td>False</td>\n",
       "      <td></td>\n",
       "    </tr>\n",
       "    <tr>\n",
       "      <th>17</th>\n",
       "      <td>0.555539</td>\n",
       "      <td>0.339161</td>\n",
       "      <td>0.423654</td>\n",
       "      <td>False</td>\n",
       "      <td></td>\n",
       "    </tr>\n",
       "    <tr>\n",
       "      <th>18</th>\n",
       "      <td>0.043808</td>\n",
       "      <td>0.835407</td>\n",
       "      <td>0.699825</td>\n",
       "      <td>False</td>\n",
       "      <td></td>\n",
       "    </tr>\n",
       "    <tr>\n",
       "      <th>19</th>\n",
       "      <td>0.266466</td>\n",
       "      <td>0.905642</td>\n",
       "      <td>0.891191</td>\n",
       "      <td>False</td>\n",
       "      <td></td>\n",
       "    </tr>\n",
       "    <tr>\n",
       "      <th>20</th>\n",
       "      <td>0.412386</td>\n",
       "      <td>0.139856</td>\n",
       "      <td>0.189621</td>\n",
       "      <td>False</td>\n",
       "      <td></td>\n",
       "    </tr>\n",
       "    <tr>\n",
       "      <th>21</th>\n",
       "      <td>0.170630</td>\n",
       "      <td>0.349082</td>\n",
       "      <td>0.150973</td>\n",
       "      <td>False</td>\n",
       "      <td></td>\n",
       "    </tr>\n",
       "    <tr>\n",
       "      <th>22</th>\n",
       "      <td>0.481673</td>\n",
       "      <td>0.242342</td>\n",
       "      <td>0.290738</td>\n",
       "      <td>False</td>\n",
       "      <td></td>\n",
       "    </tr>\n",
       "    <tr>\n",
       "      <th>23</th>\n",
       "      <td>0.996450</td>\n",
       "      <td>0.658418</td>\n",
       "      <td>NaN</td>\n",
       "      <td>True</td>\n",
       "      <td>concurrent.futures.process._RemoteTraceback: \\...</td>\n",
       "    </tr>\n",
       "    <tr>\n",
       "      <th>24</th>\n",
       "      <td>0.196908</td>\n",
       "      <td>0.478615</td>\n",
       "      <td>0.267845</td>\n",
       "      <td>False</td>\n",
       "      <td></td>\n",
       "    </tr>\n",
       "    <tr>\n",
       "      <th>25</th>\n",
       "      <td>0.640671</td>\n",
       "      <td>0.116977</td>\n",
       "      <td>0.424142</td>\n",
       "      <td>False</td>\n",
       "      <td></td>\n",
       "    </tr>\n",
       "    <tr>\n",
       "      <th>26</th>\n",
       "      <td>0.579855</td>\n",
       "      <td>0.550858</td>\n",
       "      <td>0.639676</td>\n",
       "      <td>False</td>\n",
       "      <td></td>\n",
       "    </tr>\n",
       "    <tr>\n",
       "      <th>27</th>\n",
       "      <td>0.797356</td>\n",
       "      <td>0.760978</td>\n",
       "      <td>1.214864</td>\n",
       "      <td>False</td>\n",
       "      <td></td>\n",
       "    </tr>\n",
       "    <tr>\n",
       "      <th>28</th>\n",
       "      <td>0.367202</td>\n",
       "      <td>0.669859</td>\n",
       "      <td>0.583549</td>\n",
       "      <td>False</td>\n",
       "      <td></td>\n",
       "    </tr>\n",
       "    <tr>\n",
       "      <th>29</th>\n",
       "      <td>0.810641</td>\n",
       "      <td>0.733491</td>\n",
       "      <td>NaN</td>\n",
       "      <td>True</td>\n",
       "      <td>concurrent.futures.process._RemoteTraceback: \\...</td>\n",
       "    </tr>\n",
       "    <tr>\n",
       "      <th>30</th>\n",
       "      <td>0.869150</td>\n",
       "      <td>0.202318</td>\n",
       "      <td>NaN</td>\n",
       "      <td>True</td>\n",
       "      <td>concurrent.futures.process._RemoteTraceback: \\...</td>\n",
       "    </tr>\n",
       "    <tr>\n",
       "      <th>31</th>\n",
       "      <td>0.944483</td>\n",
       "      <td>0.870193</td>\n",
       "      <td>NaN</td>\n",
       "      <td>True</td>\n",
       "      <td>concurrent.futures.process._RemoteTraceback: \\...</td>\n",
       "    </tr>\n",
       "    <tr>\n",
       "      <th>33</th>\n",
       "      <td>0.639232</td>\n",
       "      <td>0.452401</td>\n",
       "      <td>0.613285</td>\n",
       "      <td>False</td>\n",
       "      <td></td>\n",
       "    </tr>\n",
       "    <tr>\n",
       "      <th>32</th>\n",
       "      <td>0.177374</td>\n",
       "      <td>0.413752</td>\n",
       "      <td>0.202652</td>\n",
       "      <td>False</td>\n",
       "      <td></td>\n",
       "    </tr>\n",
       "    <tr>\n",
       "      <th>34</th>\n",
       "      <td>0.430299</td>\n",
       "      <td>0.918227</td>\n",
       "      <td>1.028298</td>\n",
       "      <td>False</td>\n",
       "      <td></td>\n",
       "    </tr>\n",
       "    <tr>\n",
       "      <th>35</th>\n",
       "      <td>0.169767</td>\n",
       "      <td>0.591471</td>\n",
       "      <td>0.378658</td>\n",
       "      <td>False</td>\n",
       "      <td></td>\n",
       "    </tr>\n",
       "    <tr>\n",
       "      <th>36</th>\n",
       "      <td>0.552324</td>\n",
       "      <td>0.367948</td>\n",
       "      <td>0.440448</td>\n",
       "      <td>False</td>\n",
       "      <td></td>\n",
       "    </tr>\n",
       "    <tr>\n",
       "      <th>38</th>\n",
       "      <td>0.438846</td>\n",
       "      <td>0.725191</td>\n",
       "      <td>0.718488</td>\n",
       "      <td>False</td>\n",
       "      <td></td>\n",
       "    </tr>\n",
       "    <tr>\n",
       "      <th>39</th>\n",
       "      <td>0.283422</td>\n",
       "      <td>0.922295</td>\n",
       "      <td>0.930956</td>\n",
       "      <td>False</td>\n",
       "      <td></td>\n",
       "    </tr>\n",
       "    <tr>\n",
       "      <th>37</th>\n",
       "      <td>0.786717</td>\n",
       "      <td>0.878311</td>\n",
       "      <td>1.390354</td>\n",
       "      <td>False</td>\n",
       "      <td></td>\n",
       "    </tr>\n",
       "    <tr>\n",
       "      <th>40</th>\n",
       "      <td>0.250679</td>\n",
       "      <td>0.842734</td>\n",
       "      <td>0.773041</td>\n",
       "      <td>False</td>\n",
       "      <td></td>\n",
       "    </tr>\n",
       "    <tr>\n",
       "      <th>41</th>\n",
       "      <td>0.850220</td>\n",
       "      <td>0.614646</td>\n",
       "      <td>NaN</td>\n",
       "      <td>True</td>\n",
       "      <td>concurrent.futures.process._RemoteTraceback: \\...</td>\n",
       "    </tr>\n",
       "    <tr>\n",
       "      <th>42</th>\n",
       "      <td>0.290585</td>\n",
       "      <td>0.554812</td>\n",
       "      <td>0.392257</td>\n",
       "      <td>False</td>\n",
       "      <td></td>\n",
       "    </tr>\n",
       "    <tr>\n",
       "      <th>43</th>\n",
       "      <td>0.984153</td>\n",
       "      <td>0.988845</td>\n",
       "      <td>NaN</td>\n",
       "      <td>True</td>\n",
       "      <td>concurrent.futures.process._RemoteTraceback: \\...</td>\n",
       "    </tr>\n",
       "    <tr>\n",
       "      <th>45</th>\n",
       "      <td>0.093673</td>\n",
       "      <td>0.448976</td>\n",
       "      <td>0.210355</td>\n",
       "      <td>False</td>\n",
       "      <td></td>\n",
       "    </tr>\n",
       "    <tr>\n",
       "      <th>46</th>\n",
       "      <td>0.948004</td>\n",
       "      <td>0.727395</td>\n",
       "      <td>NaN</td>\n",
       "      <td>True</td>\n",
       "      <td>concurrent.futures.process._RemoteTraceback: \\...</td>\n",
       "    </tr>\n",
       "    <tr>\n",
       "      <th>50</th>\n",
       "      <td>0.159841</td>\n",
       "      <td>0.856056</td>\n",
       "      <td>0.758381</td>\n",
       "      <td>False</td>\n",
       "      <td></td>\n",
       "    </tr>\n",
       "    <tr>\n",
       "      <th>44</th>\n",
       "      <td>0.005086</td>\n",
       "      <td>0.506894</td>\n",
       "      <td>0.256967</td>\n",
       "      <td>False</td>\n",
       "      <td></td>\n",
       "    </tr>\n",
       "    <tr>\n",
       "      <th>49</th>\n",
       "      <td>0.334202</td>\n",
       "      <td>0.853088</td>\n",
       "      <td>0.839450</td>\n",
       "      <td>False</td>\n",
       "      <td></td>\n",
       "    </tr>\n",
       "    <tr>\n",
       "      <th>48</th>\n",
       "      <td>0.487754</td>\n",
       "      <td>0.041419</td>\n",
       "      <td>0.239619</td>\n",
       "      <td>False</td>\n",
       "      <td></td>\n",
       "    </tr>\n",
       "    <tr>\n",
       "      <th>47</th>\n",
       "      <td>0.138991</td>\n",
       "      <td>0.768856</td>\n",
       "      <td>0.610459</td>\n",
       "      <td>False</td>\n",
       "      <td></td>\n",
       "    </tr>\n",
       "    <tr>\n",
       "      <th>51</th>\n",
       "      <td>0.691569</td>\n",
       "      <td>0.629836</td>\n",
       "      <td>0.874961</td>\n",
       "      <td>False</td>\n",
       "      <td></td>\n",
       "    </tr>\n",
       "    <tr>\n",
       "      <th>52</th>\n",
       "      <td>0.681470</td>\n",
       "      <td>0.437600</td>\n",
       "      <td>0.655895</td>\n",
       "      <td>False</td>\n",
       "      <td></td>\n",
       "    </tr>\n",
       "    <tr>\n",
       "      <th>53</th>\n",
       "      <td>0.535902</td>\n",
       "      <td>0.311757</td>\n",
       "      <td>0.384384</td>\n",
       "      <td>False</td>\n",
       "      <td></td>\n",
       "    </tr>\n",
       "    <tr>\n",
       "      <th>54</th>\n",
       "      <td>0.199332</td>\n",
       "      <td>0.681452</td>\n",
       "      <td>0.504110</td>\n",
       "      <td>False</td>\n",
       "      <td></td>\n",
       "    </tr>\n",
       "    <tr>\n",
       "      <th>55</th>\n",
       "      <td>0.212645</td>\n",
       "      <td>0.062059</td>\n",
       "      <td>0.049069</td>\n",
       "      <td>False</td>\n",
       "      <td></td>\n",
       "    </tr>\n",
       "    <tr>\n",
       "      <th>56</th>\n",
       "      <td>0.156769</td>\n",
       "      <td>0.592885</td>\n",
       "      <td>0.376090</td>\n",
       "      <td>False</td>\n",
       "      <td></td>\n",
       "    </tr>\n",
       "    <tr>\n",
       "      <th>57</th>\n",
       "      <td>0.246636</td>\n",
       "      <td>0.175769</td>\n",
       "      <td>0.091724</td>\n",
       "      <td>False</td>\n",
       "      <td></td>\n",
       "    </tr>\n",
       "    <tr>\n",
       "      <th>58</th>\n",
       "      <td>0.493492</td>\n",
       "      <td>0.513968</td>\n",
       "      <td>0.507698</td>\n",
       "      <td>False</td>\n",
       "      <td></td>\n",
       "    </tr>\n",
       "  </tbody>\n",
       "</table>\n",
       "</div>"
      ],
      "text/plain": [
       "           x         y        f1  xopt_error  \\\n",
       "1   0.475619  0.127120  0.242373       False   \n",
       "2   0.057461  0.478903  0.232650       False   \n",
       "3   0.925261  0.249796       NaN        True   \n",
       "4   0.723537  0.670598  0.973208       False   \n",
       "5   0.532415  0.708698  0.785718       False   \n",
       "6   0.684185  0.998964  1.466037       False   \n",
       "7   0.609837  0.363820  0.504267       False   \n",
       "8   0.731670  0.020664  0.535768       False   \n",
       "9   0.246336  0.087637  0.068362       False   \n",
       "10  0.333263  0.600748  0.471962       False   \n",
       "12  0.665451  0.757285  1.016306       False   \n",
       "11  0.596771  0.287898  0.439020       False   \n",
       "13  0.276934  0.429563  0.261217       False   \n",
       "14  0.031670  0.422266  0.179312       False   \n",
       "15  0.132335  0.107252  0.029015       False   \n",
       "16  0.208765  0.878615  0.815546       False   \n",
       "17  0.555539  0.339161  0.423654       False   \n",
       "18  0.043808  0.835407  0.699825       False   \n",
       "19  0.266466  0.905642  0.891191       False   \n",
       "20  0.412386  0.139856  0.189621       False   \n",
       "21  0.170630  0.349082  0.150973       False   \n",
       "22  0.481673  0.242342  0.290738       False   \n",
       "23  0.996450  0.658418       NaN        True   \n",
       "24  0.196908  0.478615  0.267845       False   \n",
       "25  0.640671  0.116977  0.424142       False   \n",
       "26  0.579855  0.550858  0.639676       False   \n",
       "27  0.797356  0.760978  1.214864       False   \n",
       "28  0.367202  0.669859  0.583549       False   \n",
       "29  0.810641  0.733491       NaN        True   \n",
       "30  0.869150  0.202318       NaN        True   \n",
       "31  0.944483  0.870193       NaN        True   \n",
       "33  0.639232  0.452401  0.613285       False   \n",
       "32  0.177374  0.413752  0.202652       False   \n",
       "34  0.430299  0.918227  1.028298       False   \n",
       "35  0.169767  0.591471  0.378658       False   \n",
       "36  0.552324  0.367948  0.440448       False   \n",
       "38  0.438846  0.725191  0.718488       False   \n",
       "39  0.283422  0.922295  0.930956       False   \n",
       "37  0.786717  0.878311  1.390354       False   \n",
       "40  0.250679  0.842734  0.773041       False   \n",
       "41  0.850220  0.614646       NaN        True   \n",
       "42  0.290585  0.554812  0.392257       False   \n",
       "43  0.984153  0.988845       NaN        True   \n",
       "45  0.093673  0.448976  0.210355       False   \n",
       "46  0.948004  0.727395       NaN        True   \n",
       "50  0.159841  0.856056  0.758381       False   \n",
       "44  0.005086  0.506894  0.256967       False   \n",
       "49  0.334202  0.853088  0.839450       False   \n",
       "48  0.487754  0.041419  0.239619       False   \n",
       "47  0.138991  0.768856  0.610459       False   \n",
       "51  0.691569  0.629836  0.874961       False   \n",
       "52  0.681470  0.437600  0.655895       False   \n",
       "53  0.535902  0.311757  0.384384       False   \n",
       "54  0.199332  0.681452  0.504110       False   \n",
       "55  0.212645  0.062059  0.049069       False   \n",
       "56  0.156769  0.592885  0.376090       False   \n",
       "57  0.246636  0.175769  0.091724       False   \n",
       "58  0.493492  0.513968  0.507698       False   \n",
       "\n",
       "                                       xopt_error_str  \n",
       "1                                                      \n",
       "2                                                      \n",
       "3   concurrent.futures.process._RemoteTraceback: \\...  \n",
       "4                                                      \n",
       "5                                                      \n",
       "6                                                      \n",
       "7                                                      \n",
       "8                                                      \n",
       "9                                                      \n",
       "10                                                     \n",
       "12                                                     \n",
       "11                                                     \n",
       "13                                                     \n",
       "14                                                     \n",
       "15                                                     \n",
       "16                                                     \n",
       "17                                                     \n",
       "18                                                     \n",
       "19                                                     \n",
       "20                                                     \n",
       "21                                                     \n",
       "22                                                     \n",
       "23  concurrent.futures.process._RemoteTraceback: \\...  \n",
       "24                                                     \n",
       "25                                                     \n",
       "26                                                     \n",
       "27                                                     \n",
       "28                                                     \n",
       "29  concurrent.futures.process._RemoteTraceback: \\...  \n",
       "30  concurrent.futures.process._RemoteTraceback: \\...  \n",
       "31  concurrent.futures.process._RemoteTraceback: \\...  \n",
       "33                                                     \n",
       "32                                                     \n",
       "34                                                     \n",
       "35                                                     \n",
       "36                                                     \n",
       "38                                                     \n",
       "39                                                     \n",
       "37                                                     \n",
       "40                                                     \n",
       "41  concurrent.futures.process._RemoteTraceback: \\...  \n",
       "42                                                     \n",
       "43  concurrent.futures.process._RemoteTraceback: \\...  \n",
       "45                                                     \n",
       "46  concurrent.futures.process._RemoteTraceback: \\...  \n",
       "50                                                     \n",
       "44                                                     \n",
       "49                                                     \n",
       "48                                                     \n",
       "47                                                     \n",
       "51                                                     \n",
       "52                                                     \n",
       "53                                                     \n",
       "54                                                     \n",
       "55                                                     \n",
       "56                                                     \n",
       "57                                                     \n",
       "58                                                     "
      ]
     },
     "execution_count": 22,
     "metadata": {},
     "output_type": "execute_result"
    }
   ],
   "source": [
    "X2.data"
   ]
  }
 ],
 "metadata": {
  "interpreter": {
   "hash": "60703f99bc9a1e465ed9e894ac1e8f256837fa55699b4912a7939def4ae95691"
  },
  "kernelspec": {
   "display_name": "Python 3.9.12 ('devel')",
   "language": "python",
   "name": "python3"
  },
  "language_info": {
   "codemirror_mode": {
    "name": "ipython",
    "version": 3
   },
   "file_extension": ".py",
   "mimetype": "text/x-python",
   "name": "python",
   "nbconvert_exporter": "python",
   "pygments_lexer": "ipython3",
   "version": "3.9.13"
  }
 },
 "nbformat": 4,
 "nbformat_minor": 2
}
