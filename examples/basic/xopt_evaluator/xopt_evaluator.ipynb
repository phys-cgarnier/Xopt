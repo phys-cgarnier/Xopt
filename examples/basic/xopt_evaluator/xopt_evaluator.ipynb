{
 "cells": [
  {
   "cell_type": "markdown",
   "metadata": {},
   "source": [
    "# Xopt Evaluator Basic Usage \n",
    "\n",
    "The `Evaluator` handles the execution of the user-provided `function` with optional `function_kwags`, asyncrhonously and parallel, with exception handling. "
   ]
  },
  {
   "cell_type": "code",
   "execution_count": 1,
   "metadata": {
    "ExecuteTime": {
     "end_time": "2023-09-08T21:35:16.928260600Z",
     "start_time": "2023-09-08T21:35:16.919590900Z"
    },
    "collapsed": false,
    "execution": {
     "iopub.execute_input": "2023-09-27T16:07:33.704307Z",
     "iopub.status.busy": "2023-09-27T16:07:33.703785Z",
     "iopub.status.idle": "2023-09-27T16:07:33.711958Z",
     "shell.execute_reply": "2023-09-27T16:07:33.711238Z"
    }
   },
   "outputs": [],
   "source": [
    "# needed for macos\n",
    "import platform\n",
    "if platform.system() == \"Darwin\": import multiprocessing;multiprocessing.set_start_method(\"fork\")\n"
   ]
  },
  {
   "cell_type": "code",
   "execution_count": 2,
   "metadata": {
    "ExecuteTime": {
     "end_time": "2023-09-08T21:35:32.309828Z",
     "start_time": "2023-09-08T21:35:16.928260600Z"
    },
    "collapsed": false,
    "execution": {
     "iopub.execute_input": "2023-09-27T16:07:33.715761Z",
     "iopub.status.busy": "2023-09-27T16:07:33.715255Z",
     "iopub.status.idle": "2023-09-27T16:07:36.827463Z",
     "shell.execute_reply": "2023-09-27T16:07:36.826431Z"
    }
   },
   "outputs": [],
   "source": [
    "from xopt import Xopt, Evaluator, VOCS\n",
    "from xopt.generators.random import RandomGenerator\n",
    "\n",
    "import pandas as pd\n",
    "\n",
    "from time import sleep\n",
    "from numpy.random import randint\n",
    "\n",
    "from typing import Dict\n",
    "\n",
    "import numpy as np\n",
    "np.random.seed(666) # for reproducibility"
   ]
  },
  {
   "cell_type": "markdown",
   "metadata": {},
   "source": [
    "Define a custom function `f(inputs: Dict) -> outputs: Dict`. "
   ]
  },
  {
   "cell_type": "code",
   "execution_count": 3,
   "metadata": {
    "ExecuteTime": {
     "end_time": "2023-09-08T21:35:32.324561500Z",
     "start_time": "2023-09-08T21:35:32.311827800Z"
    },
    "execution": {
     "iopub.execute_input": "2023-09-27T16:07:36.832527Z",
     "iopub.status.busy": "2023-09-27T16:07:36.831847Z",
     "iopub.status.idle": "2023-09-27T16:07:36.837217Z",
     "shell.execute_reply": "2023-09-27T16:07:36.836498Z"
    }
   },
   "outputs": [],
   "source": [
    "def f(inputs: Dict, enable_errors=True) -> Dict:\n",
    "\n",
    "    sleep(randint(1, 5)*.1)  # simulate computation time\n",
    "    # Make some occasional errors\n",
    "    if enable_errors and np.any(inputs[\"x\"] > 0.8):\n",
    "        raise ValueError(\"x > 0.8\")\n",
    "\n",
    "    return {\"f1\": inputs[\"x\"] ** 2 + inputs[\"y\"] ** 2}"
   ]
  },
  {
   "cell_type": "markdown",
   "metadata": {},
   "source": [
    "Define variables, objectives, constraints, and other settings (VOCS)"
   ]
  },
  {
   "cell_type": "code",
   "execution_count": 4,
   "metadata": {
    "ExecuteTime": {
     "end_time": "2023-09-08T21:35:32.368050300Z",
     "start_time": "2023-09-08T21:35:32.328590900Z"
    },
    "collapsed": false,
    "execution": {
     "iopub.execute_input": "2023-09-27T16:07:36.840684Z",
     "iopub.status.busy": "2023-09-27T16:07:36.840138Z",
     "iopub.status.idle": "2023-09-27T16:07:36.848709Z",
     "shell.execute_reply": "2023-09-27T16:07:36.848104Z"
    }
   },
   "outputs": [
    {
     "data": {
      "text/plain": [
       "VOCS(variables={'x': [0.0, 1.0], 'y': [0.0, 1.0]}, constraints={}, objectives={'f1': 'MINIMIZE'}, constants={}, observables=[])"
      ]
     },
     "execution_count": 4,
     "metadata": {},
     "output_type": "execute_result"
    }
   ],
   "source": [
    "vocs = VOCS(variables={\"x\": [0, 1], \"y\": [0, 1]}, objectives={\"f1\": \"MINIMIZE\"})\n",
    "vocs\n",
    "\n"
   ]
  },
  {
   "cell_type": "markdown",
   "metadata": {},
   "source": [
    "This can be used to make some random inputs for evaluating the function. "
   ]
  },
  {
   "cell_type": "code",
   "execution_count": 5,
   "metadata": {
    "ExecuteTime": {
     "end_time": "2023-09-08T21:35:32.676437500Z",
     "start_time": "2023-09-08T21:35:32.340456300Z"
    },
    "execution": {
     "iopub.execute_input": "2023-09-27T16:07:36.894703Z",
     "iopub.status.busy": "2023-09-27T16:07:36.893992Z",
     "iopub.status.idle": "2023-09-27T16:07:37.201207Z",
     "shell.execute_reply": "2023-09-27T16:07:37.200538Z"
    }
   },
   "outputs": [
    {
     "data": {
      "text/plain": [
       "{'f1': array([0.11401572])}"
      ]
     },
     "execution_count": 5,
     "metadata": {},
     "output_type": "execute_result"
    }
   ],
   "source": [
    "in1 = vocs.random_inputs()[0]\n",
    "\n",
    "f(in1, enable_errors=False)"
   ]
  },
  {
   "cell_type": "code",
   "execution_count": 6,
   "metadata": {
    "ExecuteTime": {
     "end_time": "2023-09-08T21:35:33.005111700Z",
     "start_time": "2023-09-08T21:35:32.681546900Z"
    },
    "execution": {
     "iopub.execute_input": "2023-09-27T16:07:37.206961Z",
     "iopub.status.busy": "2023-09-27T16:07:37.205838Z",
     "iopub.status.idle": "2023-09-27T16:07:37.515906Z",
     "shell.execute_reply": "2023-09-27T16:07:37.514926Z"
    }
   },
   "outputs": [
    {
     "name": "stdout",
     "output_type": "stream",
     "text": [
      "Caught error in f: x > 0.8\n"
     ]
    }
   ],
   "source": [
    "# Add in occasional errors. \n",
    "try:\n",
    "    f({\"x\": 1, \"y\": 0})\n",
    "except Exception as ex:\n",
    "    print(f\"Caught error in f: {ex}\")"
   ]
  },
  {
   "cell_type": "code",
   "execution_count": 7,
   "metadata": {
    "ExecuteTime": {
     "end_time": "2023-09-08T21:35:33.049056200Z",
     "start_time": "2023-09-08T21:35:33.006111Z"
    },
    "execution": {
     "iopub.execute_input": "2023-09-27T16:07:37.521559Z",
     "iopub.status.busy": "2023-09-27T16:07:37.520761Z",
     "iopub.status.idle": "2023-09-27T16:07:37.536606Z",
     "shell.execute_reply": "2023-09-27T16:07:37.535952Z"
    }
   },
   "outputs": [],
   "source": [
    "# Create Evaluator\n",
    "ev = Evaluator(function=f)"
   ]
  },
  {
   "cell_type": "code",
   "execution_count": 8,
   "metadata": {
    "ExecuteTime": {
     "end_time": "2023-09-08T21:35:33.252318Z",
     "start_time": "2023-09-08T21:35:33.021667400Z"
    },
    "execution": {
     "iopub.execute_input": "2023-09-27T16:07:37.540286Z",
     "iopub.status.busy": "2023-09-27T16:07:37.539654Z",
     "iopub.status.idle": "2023-09-27T16:07:37.748347Z",
     "shell.execute_reply": "2023-09-27T16:07:37.747377Z"
    }
   },
   "outputs": [
    {
     "data": {
      "text/plain": [
       "{'f1': array([0.11401572]),\n",
       " 'xopt_runtime': 0.2004864059999818,\n",
       " 'xopt_error': False}"
      ]
     },
     "execution_count": 8,
     "metadata": {},
     "output_type": "execute_result"
    }
   ],
   "source": [
    "# Single input evaluation\n",
    "ev.evaluate(in1)"
   ]
  },
  {
   "cell_type": "code",
   "execution_count": 9,
   "metadata": {
    "ExecuteTime": {
     "end_time": "2023-09-08T21:35:35.961577400Z",
     "start_time": "2023-09-08T21:35:33.250319900Z"
    },
    "execution": {
     "iopub.execute_input": "2023-09-27T16:07:37.752406Z",
     "iopub.status.busy": "2023-09-27T16:07:37.751752Z",
     "iopub.status.idle": "2023-09-27T16:07:40.378285Z",
     "shell.execute_reply": "2023-09-27T16:07:40.377497Z"
    }
   },
   "outputs": [
    {
     "data": {
      "text/html": [
       "<div>\n",
       "<style scoped>\n",
       "    .dataframe tbody tr th:only-of-type {\n",
       "        vertical-align: middle;\n",
       "    }\n",
       "\n",
       "    .dataframe tbody tr th {\n",
       "        vertical-align: top;\n",
       "    }\n",
       "\n",
       "    .dataframe thead th {\n",
       "        text-align: right;\n",
       "    }\n",
       "</style>\n",
       "<table border=\"1\" class=\"dataframe\">\n",
       "  <thead>\n",
       "    <tr style=\"text-align: right;\">\n",
       "      <th></th>\n",
       "      <th>f1</th>\n",
       "      <th>xopt_runtime</th>\n",
       "      <th>xopt_error</th>\n",
       "      <th>xopt_error_str</th>\n",
       "    </tr>\n",
       "  </thead>\n",
       "  <tbody>\n",
       "    <tr>\n",
       "      <th>0</th>\n",
       "      <td>0.000000</td>\n",
       "      <td>0.300511</td>\n",
       "      <td>False</td>\n",
       "      <td>NaN</td>\n",
       "    </tr>\n",
       "    <tr>\n",
       "      <th>1</th>\n",
       "      <td>0.024691</td>\n",
       "      <td>0.100347</td>\n",
       "      <td>False</td>\n",
       "      <td>NaN</td>\n",
       "    </tr>\n",
       "    <tr>\n",
       "      <th>2</th>\n",
       "      <td>0.098765</td>\n",
       "      <td>0.200406</td>\n",
       "      <td>False</td>\n",
       "      <td>NaN</td>\n",
       "    </tr>\n",
       "    <tr>\n",
       "      <th>3</th>\n",
       "      <td>0.222222</td>\n",
       "      <td>0.400587</td>\n",
       "      <td>False</td>\n",
       "      <td>NaN</td>\n",
       "    </tr>\n",
       "    <tr>\n",
       "      <th>4</th>\n",
       "      <td>0.395062</td>\n",
       "      <td>0.300571</td>\n",
       "      <td>False</td>\n",
       "      <td>NaN</td>\n",
       "    </tr>\n",
       "    <tr>\n",
       "      <th>5</th>\n",
       "      <td>0.617284</td>\n",
       "      <td>0.400642</td>\n",
       "      <td>False</td>\n",
       "      <td>NaN</td>\n",
       "    </tr>\n",
       "    <tr>\n",
       "      <th>6</th>\n",
       "      <td>0.888889</td>\n",
       "      <td>0.100311</td>\n",
       "      <td>False</td>\n",
       "      <td>NaN</td>\n",
       "    </tr>\n",
       "    <tr>\n",
       "      <th>7</th>\n",
       "      <td>1.209877</td>\n",
       "      <td>0.400608</td>\n",
       "      <td>False</td>\n",
       "      <td>NaN</td>\n",
       "    </tr>\n",
       "    <tr>\n",
       "      <th>8</th>\n",
       "      <td>NaN</td>\n",
       "      <td>0.100811</td>\n",
       "      <td>True</td>\n",
       "      <td>Traceback (most recent call last):\\n  File \"/u...</td>\n",
       "    </tr>\n",
       "    <tr>\n",
       "      <th>9</th>\n",
       "      <td>NaN</td>\n",
       "      <td>0.300691</td>\n",
       "      <td>True</td>\n",
       "      <td>Traceback (most recent call last):\\n  File \"/u...</td>\n",
       "    </tr>\n",
       "  </tbody>\n",
       "</table>\n",
       "</div>"
      ],
      "text/plain": [
       "         f1  xopt_runtime  xopt_error  \\\n",
       "0  0.000000      0.300511       False   \n",
       "1  0.024691      0.100347       False   \n",
       "2  0.098765      0.200406       False   \n",
       "3  0.222222      0.400587       False   \n",
       "4  0.395062      0.300571       False   \n",
       "5  0.617284      0.400642       False   \n",
       "6  0.888889      0.100311       False   \n",
       "7  1.209877      0.400608       False   \n",
       "8       NaN      0.100811        True   \n",
       "9       NaN      0.300691        True   \n",
       "\n",
       "                                      xopt_error_str  \n",
       "0                                                NaN  \n",
       "1                                                NaN  \n",
       "2                                                NaN  \n",
       "3                                                NaN  \n",
       "4                                                NaN  \n",
       "5                                                NaN  \n",
       "6                                                NaN  \n",
       "7                                                NaN  \n",
       "8  Traceback (most recent call last):\\n  File \"/u...  \n",
       "9  Traceback (most recent call last):\\n  File \"/u...  "
      ]
     },
     "execution_count": 9,
     "metadata": {},
     "output_type": "execute_result"
    }
   ],
   "source": [
    "# Dataframe evaluation\n",
    "in10 = pd.DataFrame({\n",
    "    \"x\":np.linspace(0,1,10),\n",
    "    \"y\":np.linspace(0,1,10)\n",
    "})\n",
    "ev.evaluate_data(in10)\n"
   ]
  },
  {
   "cell_type": "code",
   "execution_count": 10,
   "metadata": {
    "ExecuteTime": {
     "end_time": "2023-09-08T21:35:36.188682500Z",
     "start_time": "2023-09-08T21:35:35.964575800Z"
    },
    "execution": {
     "iopub.execute_input": "2023-09-27T16:07:40.382017Z",
     "iopub.status.busy": "2023-09-27T16:07:40.381525Z",
     "iopub.status.idle": "2023-09-27T16:07:40.594871Z",
     "shell.execute_reply": "2023-09-27T16:07:40.594066Z"
    }
   },
   "outputs": [
    {
     "data": {
      "text/html": [
       "<div>\n",
       "<style scoped>\n",
       "    .dataframe tbody tr th:only-of-type {\n",
       "        vertical-align: middle;\n",
       "    }\n",
       "\n",
       "    .dataframe tbody tr th {\n",
       "        vertical-align: top;\n",
       "    }\n",
       "\n",
       "    .dataframe thead th {\n",
       "        text-align: right;\n",
       "    }\n",
       "</style>\n",
       "<table border=\"1\" class=\"dataframe\">\n",
       "  <thead>\n",
       "    <tr style=\"text-align: right;\">\n",
       "      <th></th>\n",
       "      <th>xopt_runtime</th>\n",
       "      <th>xopt_error</th>\n",
       "      <th>xopt_error_str</th>\n",
       "    </tr>\n",
       "  </thead>\n",
       "  <tbody>\n",
       "    <tr>\n",
       "      <th>0</th>\n",
       "      <td>0.201152</td>\n",
       "      <td>True</td>\n",
       "      <td>Traceback (most recent call last):\\n  File \"/u...</td>\n",
       "    </tr>\n",
       "    <tr>\n",
       "      <th>1</th>\n",
       "      <td>0.201152</td>\n",
       "      <td>True</td>\n",
       "      <td>Traceback (most recent call last):\\n  File \"/u...</td>\n",
       "    </tr>\n",
       "    <tr>\n",
       "      <th>2</th>\n",
       "      <td>0.201152</td>\n",
       "      <td>True</td>\n",
       "      <td>Traceback (most recent call last):\\n  File \"/u...</td>\n",
       "    </tr>\n",
       "    <tr>\n",
       "      <th>3</th>\n",
       "      <td>0.201152</td>\n",
       "      <td>True</td>\n",
       "      <td>Traceback (most recent call last):\\n  File \"/u...</td>\n",
       "    </tr>\n",
       "    <tr>\n",
       "      <th>4</th>\n",
       "      <td>0.201152</td>\n",
       "      <td>True</td>\n",
       "      <td>Traceback (most recent call last):\\n  File \"/u...</td>\n",
       "    </tr>\n",
       "    <tr>\n",
       "      <th>5</th>\n",
       "      <td>0.201152</td>\n",
       "      <td>True</td>\n",
       "      <td>Traceback (most recent call last):\\n  File \"/u...</td>\n",
       "    </tr>\n",
       "    <tr>\n",
       "      <th>6</th>\n",
       "      <td>0.201152</td>\n",
       "      <td>True</td>\n",
       "      <td>Traceback (most recent call last):\\n  File \"/u...</td>\n",
       "    </tr>\n",
       "    <tr>\n",
       "      <th>7</th>\n",
       "      <td>0.201152</td>\n",
       "      <td>True</td>\n",
       "      <td>Traceback (most recent call last):\\n  File \"/u...</td>\n",
       "    </tr>\n",
       "    <tr>\n",
       "      <th>8</th>\n",
       "      <td>0.201152</td>\n",
       "      <td>True</td>\n",
       "      <td>Traceback (most recent call last):\\n  File \"/u...</td>\n",
       "    </tr>\n",
       "    <tr>\n",
       "      <th>9</th>\n",
       "      <td>0.201152</td>\n",
       "      <td>True</td>\n",
       "      <td>Traceback (most recent call last):\\n  File \"/u...</td>\n",
       "    </tr>\n",
       "  </tbody>\n",
       "</table>\n",
       "</div>"
      ],
      "text/plain": [
       "   xopt_runtime  xopt_error                                     xopt_error_str\n",
       "0      0.201152        True  Traceback (most recent call last):\\n  File \"/u...\n",
       "1      0.201152        True  Traceback (most recent call last):\\n  File \"/u...\n",
       "2      0.201152        True  Traceback (most recent call last):\\n  File \"/u...\n",
       "3      0.201152        True  Traceback (most recent call last):\\n  File \"/u...\n",
       "4      0.201152        True  Traceback (most recent call last):\\n  File \"/u...\n",
       "5      0.201152        True  Traceback (most recent call last):\\n  File \"/u...\n",
       "6      0.201152        True  Traceback (most recent call last):\\n  File \"/u...\n",
       "7      0.201152        True  Traceback (most recent call last):\\n  File \"/u...\n",
       "8      0.201152        True  Traceback (most recent call last):\\n  File \"/u...\n",
       "9      0.201152        True  Traceback (most recent call last):\\n  File \"/u..."
      ]
     },
     "execution_count": 10,
     "metadata": {},
     "output_type": "execute_result"
    }
   ],
   "source": [
    "# Dataframe evaluation, vectorized\n",
    "ev.vectorized = True\n",
    "ev.evaluate_data(in10)\n"
   ]
  },
  {
   "cell_type": "markdown",
   "metadata": {},
   "source": [
    "# Executors"
   ]
  },
  {
   "cell_type": "code",
   "execution_count": 11,
   "metadata": {
    "ExecuteTime": {
     "end_time": "2023-09-08T21:35:36.210825800Z",
     "start_time": "2023-09-08T21:35:36.189682300Z"
    },
    "execution": {
     "iopub.execute_input": "2023-09-27T16:07:40.599221Z",
     "iopub.status.busy": "2023-09-27T16:07:40.598537Z",
     "iopub.status.idle": "2023-09-27T16:07:40.602273Z",
     "shell.execute_reply": "2023-09-27T16:07:40.601517Z"
    }
   },
   "outputs": [],
   "source": [
    "from concurrent.futures import ProcessPoolExecutor\n",
    "MAX_WORKERS = 10"
   ]
  },
  {
   "cell_type": "code",
   "execution_count": 12,
   "metadata": {
    "ExecuteTime": {
     "end_time": "2023-09-08T21:35:36.277827Z",
     "start_time": "2023-09-08T21:35:36.205828Z"
    },
    "execution": {
     "iopub.execute_input": "2023-09-27T16:07:40.607246Z",
     "iopub.status.busy": "2023-09-27T16:07:40.606969Z",
     "iopub.status.idle": "2023-09-27T16:07:40.613489Z",
     "shell.execute_reply": "2023-09-27T16:07:40.612793Z"
    }
   },
   "outputs": [
    {
     "data": {
      "text/plain": [
       "<concurrent.futures.process.ProcessPoolExecutor at 0x7fb76449f4f0>"
      ]
     },
     "execution_count": 12,
     "metadata": {},
     "output_type": "execute_result"
    }
   ],
   "source": [
    "# Create Executor instance\n",
    "executor = ProcessPoolExecutor(max_workers=MAX_WORKERS)\n",
    "executor"
   ]
  },
  {
   "cell_type": "code",
   "execution_count": 13,
   "metadata": {
    "ExecuteTime": {
     "end_time": "2023-09-08T21:35:36.336827600Z",
     "start_time": "2023-09-08T21:35:36.219826200Z"
    },
    "execution": {
     "iopub.execute_input": "2023-09-27T16:07:40.617507Z",
     "iopub.status.busy": "2023-09-27T16:07:40.616436Z",
     "iopub.status.idle": "2023-09-27T16:07:40.620309Z",
     "shell.execute_reply": "2023-09-27T16:07:40.619549Z"
    }
   },
   "outputs": [],
   "source": [
    "# Dask (Optional)\n",
    "# from dask.distributed import Client\n",
    "# import logging\n",
    "# client = Client( silence_logs=logging.ERROR)\n",
    "# executor = client.get_executor()\n",
    "# client"
   ]
  },
  {
   "cell_type": "code",
   "execution_count": 14,
   "metadata": {
    "ExecuteTime": {
     "end_time": "2023-09-08T21:35:36.340830Z",
     "start_time": "2023-09-08T21:35:36.246825700Z"
    },
    "execution": {
     "iopub.execute_input": "2023-09-27T16:07:40.624549Z",
     "iopub.status.busy": "2023-09-27T16:07:40.623324Z",
     "iopub.status.idle": "2023-09-27T16:07:40.640427Z",
     "shell.execute_reply": "2023-09-27T16:07:40.639483Z"
    }
   },
   "outputs": [],
   "source": [
    "# This calls `executor.map`\n",
    "ev = Evaluator(function=f, executor=executor, max_workers=MAX_WORKERS)"
   ]
  },
  {
   "cell_type": "code",
   "execution_count": 15,
   "metadata": {
    "ExecuteTime": {
     "end_time": "2023-09-08T21:35:42.832826300Z",
     "start_time": "2023-09-08T21:35:36.250828900Z"
    },
    "execution": {
     "iopub.execute_input": "2023-09-27T16:07:40.644339Z",
     "iopub.status.busy": "2023-09-27T16:07:40.644073Z",
     "iopub.status.idle": "2023-09-27T16:07:41.168787Z",
     "shell.execute_reply": "2023-09-27T16:07:41.167433Z"
    }
   },
   "outputs": [
    {
     "data": {
      "text/html": [
       "<div>\n",
       "<style scoped>\n",
       "    .dataframe tbody tr th:only-of-type {\n",
       "        vertical-align: middle;\n",
       "    }\n",
       "\n",
       "    .dataframe tbody tr th {\n",
       "        vertical-align: top;\n",
       "    }\n",
       "\n",
       "    .dataframe thead th {\n",
       "        text-align: right;\n",
       "    }\n",
       "</style>\n",
       "<table border=\"1\" class=\"dataframe\">\n",
       "  <thead>\n",
       "    <tr style=\"text-align: right;\">\n",
       "      <th></th>\n",
       "      <th>f1</th>\n",
       "      <th>xopt_runtime</th>\n",
       "      <th>xopt_error</th>\n",
       "      <th>xopt_error_str</th>\n",
       "    </tr>\n",
       "  </thead>\n",
       "  <tbody>\n",
       "    <tr>\n",
       "      <th>0</th>\n",
       "      <td>0.000000</td>\n",
       "      <td>0.401245</td>\n",
       "      <td>False</td>\n",
       "      <td>NaN</td>\n",
       "    </tr>\n",
       "    <tr>\n",
       "      <th>1</th>\n",
       "      <td>0.024691</td>\n",
       "      <td>0.401263</td>\n",
       "      <td>False</td>\n",
       "      <td>NaN</td>\n",
       "    </tr>\n",
       "    <tr>\n",
       "      <th>2</th>\n",
       "      <td>0.098765</td>\n",
       "      <td>0.401311</td>\n",
       "      <td>False</td>\n",
       "      <td>NaN</td>\n",
       "    </tr>\n",
       "    <tr>\n",
       "      <th>3</th>\n",
       "      <td>0.222222</td>\n",
       "      <td>0.401385</td>\n",
       "      <td>False</td>\n",
       "      <td>NaN</td>\n",
       "    </tr>\n",
       "    <tr>\n",
       "      <th>4</th>\n",
       "      <td>0.395062</td>\n",
       "      <td>0.401461</td>\n",
       "      <td>False</td>\n",
       "      <td>NaN</td>\n",
       "    </tr>\n",
       "    <tr>\n",
       "      <th>5</th>\n",
       "      <td>0.617284</td>\n",
       "      <td>0.401669</td>\n",
       "      <td>False</td>\n",
       "      <td>NaN</td>\n",
       "    </tr>\n",
       "    <tr>\n",
       "      <th>6</th>\n",
       "      <td>0.888889</td>\n",
       "      <td>0.401911</td>\n",
       "      <td>False</td>\n",
       "      <td>NaN</td>\n",
       "    </tr>\n",
       "    <tr>\n",
       "      <th>7</th>\n",
       "      <td>1.209877</td>\n",
       "      <td>0.402185</td>\n",
       "      <td>False</td>\n",
       "      <td>NaN</td>\n",
       "    </tr>\n",
       "    <tr>\n",
       "      <th>8</th>\n",
       "      <td>NaN</td>\n",
       "      <td>0.403147</td>\n",
       "      <td>True</td>\n",
       "      <td>Traceback (most recent call last):\\n  File \"/u...</td>\n",
       "    </tr>\n",
       "    <tr>\n",
       "      <th>9</th>\n",
       "      <td>NaN</td>\n",
       "      <td>0.404212</td>\n",
       "      <td>True</td>\n",
       "      <td>Traceback (most recent call last):\\n  File \"/u...</td>\n",
       "    </tr>\n",
       "  </tbody>\n",
       "</table>\n",
       "</div>"
      ],
      "text/plain": [
       "         f1  xopt_runtime  xopt_error  \\\n",
       "0  0.000000      0.401245       False   \n",
       "1  0.024691      0.401263       False   \n",
       "2  0.098765      0.401311       False   \n",
       "3  0.222222      0.401385       False   \n",
       "4  0.395062      0.401461       False   \n",
       "5  0.617284      0.401669       False   \n",
       "6  0.888889      0.401911       False   \n",
       "7  1.209877      0.402185       False   \n",
       "8       NaN      0.403147        True   \n",
       "9       NaN      0.404212        True   \n",
       "\n",
       "                                      xopt_error_str  \n",
       "0                                                NaN  \n",
       "1                                                NaN  \n",
       "2                                                NaN  \n",
       "3                                                NaN  \n",
       "4                                                NaN  \n",
       "5                                                NaN  \n",
       "6                                                NaN  \n",
       "7                                                NaN  \n",
       "8  Traceback (most recent call last):\\n  File \"/u...  \n",
       "9  Traceback (most recent call last):\\n  File \"/u...  "
      ]
     },
     "execution_count": 15,
     "metadata": {},
     "output_type": "execute_result"
    }
   ],
   "source": [
    "# This will run in parallel\n",
    "ev.evaluate_data(in10)"
   ]
  },
  {
   "cell_type": "markdown",
   "metadata": {},
   "source": [
    "# Evaluator in the Xopt object"
   ]
  },
  {
   "cell_type": "code",
   "execution_count": 16,
   "metadata": {
    "ExecuteTime": {
     "end_time": "2023-09-08T21:35:49.453947100Z",
     "start_time": "2023-09-08T21:35:48.973424600Z"
    },
    "collapsed": false,
    "execution": {
     "iopub.execute_input": "2023-09-27T16:07:41.173640Z",
     "iopub.status.busy": "2023-09-27T16:07:41.172826Z",
     "iopub.status.idle": "2023-09-27T16:07:41.604583Z",
     "shell.execute_reply": "2023-09-27T16:07:41.603819Z"
    }
   },
   "outputs": [
    {
     "data": {
      "text/html": [
       "<div>\n",
       "<style scoped>\n",
       "    .dataframe tbody tr th:only-of-type {\n",
       "        vertical-align: middle;\n",
       "    }\n",
       "\n",
       "    .dataframe tbody tr th {\n",
       "        vertical-align: top;\n",
       "    }\n",
       "\n",
       "    .dataframe thead th {\n",
       "        text-align: right;\n",
       "    }\n",
       "</style>\n",
       "<table border=\"1\" class=\"dataframe\">\n",
       "  <thead>\n",
       "    <tr style=\"text-align: right;\">\n",
       "      <th></th>\n",
       "      <th>x</th>\n",
       "      <th>y</th>\n",
       "      <th>f1</th>\n",
       "      <th>xopt_runtime</th>\n",
       "      <th>xopt_error</th>\n",
       "      <th>xopt_error_str</th>\n",
       "    </tr>\n",
       "  </thead>\n",
       "  <tbody>\n",
       "    <tr>\n",
       "      <th>0</th>\n",
       "      <td>0.491934</td>\n",
       "      <td>0.299155</td>\n",
       "      <td>0.331493</td>\n",
       "      <td>0.100314</td>\n",
       "      <td>False</td>\n",
       "      <td>NaN</td>\n",
       "    </tr>\n",
       "    <tr>\n",
       "      <th>1</th>\n",
       "      <td>0.799752</td>\n",
       "      <td>0.706772</td>\n",
       "      <td>1.139131</td>\n",
       "      <td>0.100289</td>\n",
       "      <td>False</td>\n",
       "      <td>NaN</td>\n",
       "    </tr>\n",
       "    <tr>\n",
       "      <th>2</th>\n",
       "      <td>0.255846</td>\n",
       "      <td>0.225521</td>\n",
       "      <td>0.116317</td>\n",
       "      <td>0.100355</td>\n",
       "      <td>False</td>\n",
       "      <td>NaN</td>\n",
       "    </tr>\n",
       "    <tr>\n",
       "      <th>3</th>\n",
       "      <td>0.807108</td>\n",
       "      <td>0.994891</td>\n",
       "      <td>NaN</td>\n",
       "      <td>0.100796</td>\n",
       "      <td>True</td>\n",
       "      <td>Traceback (most recent call last):\\n  File \"/u...</td>\n",
       "    </tr>\n",
       "  </tbody>\n",
       "</table>\n",
       "</div>"
      ],
      "text/plain": [
       "          x         y        f1  xopt_runtime  xopt_error  \\\n",
       "0  0.491934  0.299155  0.331493      0.100314       False   \n",
       "1  0.799752  0.706772  1.139131      0.100289       False   \n",
       "2  0.255846  0.225521  0.116317      0.100355       False   \n",
       "3  0.807108  0.994891       NaN      0.100796        True   \n",
       "\n",
       "                                      xopt_error_str  \n",
       "0                                                NaN  \n",
       "1                                                NaN  \n",
       "2                                                NaN  \n",
       "3  Traceback (most recent call last):\\n  File \"/u...  "
      ]
     },
     "execution_count": 16,
     "metadata": {},
     "output_type": "execute_result"
    }
   ],
   "source": [
    "X = Xopt(generator=RandomGenerator(vocs=vocs), evaluator=Evaluator(function=f),\n",
    "         vocs=vocs)\n",
    "X.strict = False\n",
    "\n",
    "# Evaluate to the evaluator some new inputs\n",
    "X.evaluate_data(X.vocs.random_inputs(4))\n"
   ]
  },
  {
   "cell_type": "markdown",
   "metadata": {
    "collapsed": false
   },
   "source": [
    "## Asynchronous Xopt\n",
    "Instead of waiting for evaluations to be finished, AsynchronousXopt can be used to generate candidates while waiting for other evaluations to finish (requires parallel execution). In this case, calling ```X.step()``` generates and executes a number of candidates that are executed in parallel using python ```concurrent.futures``` formalism. Calling ```X.step()``` again will generate and evaluate new points based on finished futures asynchronously."
   ]
  },
  {
   "cell_type": "code",
   "execution_count": 17,
   "metadata": {
    "ExecuteTime": {
     "end_time": "2023-09-08T21:35:50.776098900Z",
     "start_time": "2023-09-08T21:35:50.753057600Z"
    },
    "collapsed": false,
    "execution": {
     "iopub.execute_input": "2023-09-27T16:07:41.608869Z",
     "iopub.status.busy": "2023-09-27T16:07:41.608173Z",
     "iopub.status.idle": "2023-09-27T16:07:41.617708Z",
     "shell.execute_reply": "2023-09-27T16:07:41.617036Z"
    }
   },
   "outputs": [],
   "source": [
    "# Usage with a parallel executor.\n",
    "from xopt import AsynchronousXopt\n",
    "\n",
    "executor = ProcessPoolExecutor(max_workers=MAX_WORKERS)\n",
    "\n",
    "X2 = AsynchronousXopt(\n",
    "    generator=RandomGenerator(vocs=vocs),\n",
    "    evaluator=Evaluator(function=f, executor=executor, max_workers=MAX_WORKERS),\n",
    "    vocs=vocs,\n",
    ")\n",
    "X2.strict = False"
   ]
  },
  {
   "cell_type": "code",
   "execution_count": 18,
   "metadata": {
    "ExecuteTime": {
     "end_time": "2023-09-08T21:35:57.154830200Z",
     "start_time": "2023-09-08T21:35:51.660788Z"
    },
    "execution": {
     "iopub.execute_input": "2023-09-27T16:07:41.621196Z",
     "iopub.status.busy": "2023-09-27T16:07:41.620781Z",
     "iopub.status.idle": "2023-09-27T16:07:41.945692Z",
     "shell.execute_reply": "2023-09-27T16:07:41.943713Z"
    }
   },
   "outputs": [],
   "source": [
    "X2.step()"
   ]
  },
  {
   "cell_type": "code",
   "execution_count": 19,
   "metadata": {
    "collapsed": false,
    "execution": {
     "iopub.execute_input": "2023-09-27T16:07:41.951334Z",
     "iopub.status.busy": "2023-09-27T16:07:41.950613Z",
     "iopub.status.idle": "2023-09-27T16:07:43.145164Z",
     "shell.execute_reply": "2023-09-27T16:07:43.144347Z"
    }
   },
   "outputs": [
    {
     "data": {
      "text/plain": [
       "52"
      ]
     },
     "execution_count": 19,
     "metadata": {},
     "output_type": "execute_result"
    }
   ],
   "source": [
    "for _ in range(20):\n",
    "    X2.step()\n",
    "\n",
    "len(X2.data)"
   ]
  },
  {
   "cell_type": "code",
   "execution_count": 20,
   "metadata": {
    "collapsed": false,
    "execution": {
     "iopub.execute_input": "2023-09-27T16:07:43.149552Z",
     "iopub.status.busy": "2023-09-27T16:07:43.149273Z",
     "iopub.status.idle": "2023-09-27T16:07:44.217366Z",
     "shell.execute_reply": "2023-09-27T16:07:44.216578Z"
    }
   },
   "outputs": [
    {
     "data": {
      "text/plain": [
       "<Axes: xlabel='x', ylabel='y'>"
      ]
     },
     "execution_count": 20,
     "metadata": {},
     "output_type": "execute_result"
    },
    {
     "data": {
      "image/png": "[encoded data removed]",
      "text/plain": [
       "<Figure size 640x480 with 1 Axes>"
      ]
     },
     "metadata": {},
     "output_type": "display_data"
    }
   ],
   "source": [
    "X2.data.plot.scatter(\"x\", \"y\")"
   ]
  },
  {
   "cell_type": "code",
   "execution_count": 21,
   "metadata": {
    "collapsed": false,
    "execution": {
     "iopub.execute_input": "2023-09-27T16:07:44.221328Z",
     "iopub.status.busy": "2023-09-27T16:07:44.220615Z",
     "iopub.status.idle": "2023-09-27T16:07:45.468180Z",
     "shell.execute_reply": "2023-09-27T16:07:45.467399Z"
    },
    "tags": []
   },
   "outputs": [
    {
     "data": {
      "text/plain": [
       "30"
      ]
     },
     "execution_count": 21,
     "metadata": {},
     "output_type": "execute_result"
    }
   ],
   "source": [
    "# Asynchronous, Vectorized\n",
    "X2 = AsynchronousXopt(\n",
    "    generator=RandomGenerator(vocs=vocs),\n",
    "    evaluator=Evaluator(function=f, executor=executor, max_workers=MAX_WORKERS),\n",
    "    vocs=vocs,\n",
    ")\n",
    "X2.evaluator.vectorized = True\n",
    "X2.strict = False\n",
    "\n",
    "# This takes fewer steps to achieve a similar number of evaluations\n",
    "for _ in range(3):\n",
    "    X2.step()\n",
    "\n",
    "len(X2.data)"
   ]
  },
  {
   "cell_type": "code",
   "execution_count": null,
   "metadata": {
    "collapsed": false
   },
   "outputs": [],
   "source": []
  }
 ],
 "metadata": {
  "kernelspec": {
   "display_name": "Python 3 (ipykernel)",
   "language": "python",
   "name": "python3"
  },
  "language_info": {
   "codemirror_mode": {
    "name": "ipython",
    "version": 3
   },
   "file_extension": ".py",
   "mimetype": "text/x-python",
   "name": "python",
   "nbconvert_exporter": "python",
   "pygments_lexer": "ipython3",
   "version": "3.9.18"
  },
  "vscode": {
   "interpreter": {
    "hash": "4483d4964800812ebc77892a92dde3b54705ec8a224d63d9bb659e2cc457018b"
   }
  }
 },
 "nbformat": 4,
 "nbformat_minor": 4
}
