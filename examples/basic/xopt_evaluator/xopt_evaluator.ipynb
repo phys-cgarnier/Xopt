{
 "cells": [
  {
   "cell_type": "markdown",
   "metadata": {},
   "source": [
    "# Xopt Evaluator Basic Usage \n",
    "\n",
    "The `Evaluator` handles the execution of the user-provided `function` with optional `function_kwags`, asyncrhonously and parallel, with exception handling. "
   ]
  },
  {
   "cell_type": "code",
   "execution_count": 1,
   "metadata": {
    "ExecuteTime": {
     "end_time": "2023-09-08T21:35:16.928260600Z",
     "start_time": "2023-09-08T21:35:16.919590900Z"
    },
    "collapsed": false,
    "execution": {
     "iopub.execute_input": "2023-12-16T02:35:55.903905Z",
     "iopub.status.busy": "2023-12-16T02:35:55.903492Z",
     "iopub.status.idle": "2023-12-16T02:35:55.909849Z",
     "shell.execute_reply": "2023-12-16T02:35:55.909326Z"
    }
   },
   "outputs": [],
   "source": [
    "# needed for macos\n",
    "import platform\n",
    "if platform.system() == \"Darwin\": import multiprocessing;multiprocessing.set_start_method(\"fork\")\n"
   ]
  },
  {
   "cell_type": "code",
   "execution_count": 2,
   "metadata": {
    "ExecuteTime": {
     "end_time": "2023-09-08T21:35:32.309828Z",
     "start_time": "2023-09-08T21:35:16.928260600Z"
    },
    "collapsed": false,
    "execution": {
     "iopub.execute_input": "2023-12-16T02:35:55.912095Z",
     "iopub.status.busy": "2023-12-16T02:35:55.911698Z",
     "iopub.status.idle": "2023-12-16T02:35:57.417938Z",
     "shell.execute_reply": "2023-12-16T02:35:57.417365Z"
    }
   },
   "outputs": [],
   "source": [
    "from xopt import Xopt, Evaluator, VOCS\n",
    "from xopt.generators.random import RandomGenerator\n",
    "\n",
    "import pandas as pd\n",
    "\n",
    "from time import sleep\n",
    "from numpy.random import randint\n",
    "\n",
    "from typing import Dict\n",
    "\n",
    "import numpy as np\n",
    "np.random.seed(666) # for reproducibility"
   ]
  },
  {
   "cell_type": "markdown",
   "metadata": {},
   "source": [
    "Define a custom function `f(inputs: Dict) -> outputs: Dict`. "
   ]
  },
  {
   "cell_type": "code",
   "execution_count": 3,
   "metadata": {
    "ExecuteTime": {
     "end_time": "2023-09-08T21:35:32.324561500Z",
     "start_time": "2023-09-08T21:35:32.311827800Z"
    },
    "execution": {
     "iopub.execute_input": "2023-12-16T02:35:57.420779Z",
     "iopub.status.busy": "2023-12-16T02:35:57.420376Z",
     "iopub.status.idle": "2023-12-16T02:35:57.423889Z",
     "shell.execute_reply": "2023-12-16T02:35:57.423381Z"
    }
   },
   "outputs": [],
   "source": [
    "def f(inputs: Dict, enable_errors=True) -> Dict:\n",
    "\n",
    "    sleep(randint(1, 5)*.1)  # simulate computation time\n",
    "    # Make some occasional errors\n",
    "    if enable_errors and np.any(inputs[\"x\"] > 0.8):\n",
    "        raise ValueError(\"x > 0.8\")\n",
    "\n",
    "    return {\"f1\": inputs[\"x\"] ** 2 + inputs[\"y\"] ** 2}"
   ]
  },
  {
   "cell_type": "markdown",
   "metadata": {},
   "source": [
    "Define variables, objectives, constraints, and other settings (VOCS)"
   ]
  },
  {
   "cell_type": "code",
   "execution_count": 4,
   "metadata": {
    "ExecuteTime": {
     "end_time": "2023-09-08T21:35:32.368050300Z",
     "start_time": "2023-09-08T21:35:32.328590900Z"
    },
    "collapsed": false,
    "execution": {
     "iopub.execute_input": "2023-12-16T02:35:57.426119Z",
     "iopub.status.busy": "2023-12-16T02:35:57.425773Z",
     "iopub.status.idle": "2023-12-16T02:35:57.431758Z",
     "shell.execute_reply": "2023-12-16T02:35:57.431183Z"
    }
   },
   "outputs": [
    {
     "data": {
      "text/plain": [
       "VOCS(variables={'x': [0.0, 1.0], 'y': [0.0, 1.0]}, constraints={}, objectives={'f1': 'MINIMIZE'}, constants={}, observables=[])"
      ]
     },
     "execution_count": 4,
     "metadata": {},
     "output_type": "execute_result"
    }
   ],
   "source": [
    "vocs = VOCS(variables={\"x\": [0, 1], \"y\": [0, 1]}, objectives={\"f1\": \"MINIMIZE\"})\n",
    "vocs\n",
    "\n"
   ]
  },
  {
   "cell_type": "markdown",
   "metadata": {},
   "source": [
    "This can be used to make some random inputs for evaluating the function. "
   ]
  },
  {
   "cell_type": "code",
   "execution_count": 5,
   "metadata": {
    "ExecuteTime": {
     "end_time": "2023-09-08T21:35:32.676437500Z",
     "start_time": "2023-09-08T21:35:32.340456300Z"
    },
    "execution": {
     "iopub.execute_input": "2023-12-16T02:35:57.461508Z",
     "iopub.status.busy": "2023-12-16T02:35:57.461080Z",
     "iopub.status.idle": "2023-12-16T02:35:57.766496Z",
     "shell.execute_reply": "2023-12-16T02:35:57.765885Z"
    }
   },
   "outputs": [
    {
     "data": {
      "text/plain": [
       "{'f1': array([0.11401572])}"
      ]
     },
     "execution_count": 5,
     "metadata": {},
     "output_type": "execute_result"
    }
   ],
   "source": [
    "in1 = vocs.random_inputs()[0]\n",
    "\n",
    "f(in1, enable_errors=False)"
   ]
  },
  {
   "cell_type": "code",
   "execution_count": 6,
   "metadata": {
    "ExecuteTime": {
     "end_time": "2023-09-08T21:35:33.005111700Z",
     "start_time": "2023-09-08T21:35:32.681546900Z"
    },
    "execution": {
     "iopub.execute_input": "2023-12-16T02:35:57.768870Z",
     "iopub.status.busy": "2023-12-16T02:35:57.768508Z",
     "iopub.status.idle": "2023-12-16T02:35:58.072393Z",
     "shell.execute_reply": "2023-12-16T02:35:58.071803Z"
    }
   },
   "outputs": [
    {
     "name": "stdout",
     "output_type": "stream",
     "text": [
      "Caught error in f: x > 0.8\n"
     ]
    }
   ],
   "source": [
    "# Add in occasional errors. \n",
    "try:\n",
    "    f({\"x\": 1, \"y\": 0})\n",
    "except Exception as ex:\n",
    "    print(f\"Caught error in f: {ex}\")"
   ]
  },
  {
   "cell_type": "code",
   "execution_count": 7,
   "metadata": {
    "ExecuteTime": {
     "end_time": "2023-09-08T21:35:33.049056200Z",
     "start_time": "2023-09-08T21:35:33.006111Z"
    },
    "execution": {
     "iopub.execute_input": "2023-12-16T02:35:58.074491Z",
     "iopub.status.busy": "2023-12-16T02:35:58.074320Z",
     "iopub.status.idle": "2023-12-16T02:35:58.082615Z",
     "shell.execute_reply": "2023-12-16T02:35:58.082151Z"
    }
   },
   "outputs": [],
   "source": [
    "# Create Evaluator\n",
    "ev = Evaluator(function=f)"
   ]
  },
  {
   "cell_type": "code",
   "execution_count": 8,
   "metadata": {
    "ExecuteTime": {
     "end_time": "2023-09-08T21:35:33.252318Z",
     "start_time": "2023-09-08T21:35:33.021667400Z"
    },
    "execution": {
     "iopub.execute_input": "2023-12-16T02:35:58.084898Z",
     "iopub.status.busy": "2023-12-16T02:35:58.084554Z",
     "iopub.status.idle": "2023-12-16T02:35:58.289237Z",
     "shell.execute_reply": "2023-12-16T02:35:58.288606Z"
    }
   },
   "outputs": [
    {
     "data": {
      "text/plain": [
       "{'f1': array([0.11401572]),\n",
       " 'xopt_runtime': 0.20036197999991145,\n",
       " 'xopt_error': False}"
      ]
     },
     "execution_count": 8,
     "metadata": {},
     "output_type": "execute_result"
    }
   ],
   "source": [
    "# Single input evaluation\n",
    "ev.evaluate(in1)"
   ]
  },
  {
   "cell_type": "code",
   "execution_count": 9,
   "metadata": {
    "ExecuteTime": {
     "end_time": "2023-09-08T21:35:35.961577400Z",
     "start_time": "2023-09-08T21:35:33.250319900Z"
    },
    "execution": {
     "iopub.execute_input": "2023-12-16T02:35:58.291733Z",
     "iopub.status.busy": "2023-12-16T02:35:58.291332Z",
     "iopub.status.idle": "2023-12-16T02:36:00.908732Z",
     "shell.execute_reply": "2023-12-16T02:36:00.908149Z"
    }
   },
   "outputs": [
    {
     "data": {
      "text/html": [
       "<div>\n",
       "<style scoped>\n",
       "    .dataframe tbody tr th:only-of-type {\n",
       "        vertical-align: middle;\n",
       "    }\n",
       "\n",
       "    .dataframe tbody tr th {\n",
       "        vertical-align: top;\n",
       "    }\n",
       "\n",
       "    .dataframe thead th {\n",
       "        text-align: right;\n",
       "    }\n",
       "</style>\n",
       "<table border=\"1\" class=\"dataframe\">\n",
       "  <thead>\n",
       "    <tr style=\"text-align: right;\">\n",
       "      <th></th>\n",
       "      <th>x</th>\n",
       "      <th>y</th>\n",
       "      <th>f1</th>\n",
       "      <th>xopt_runtime</th>\n",
       "      <th>xopt_error</th>\n",
       "      <th>xopt_error_str</th>\n",
       "    </tr>\n",
       "  </thead>\n",
       "  <tbody>\n",
       "    <tr>\n",
       "      <th>0</th>\n",
       "      <td>0.000000</td>\n",
       "      <td>0.000000</td>\n",
       "      <td>0.000000</td>\n",
       "      <td>0.300458</td>\n",
       "      <td>False</td>\n",
       "      <td>NaN</td>\n",
       "    </tr>\n",
       "    <tr>\n",
       "      <th>1</th>\n",
       "      <td>0.111111</td>\n",
       "      <td>0.111111</td>\n",
       "      <td>0.024691</td>\n",
       "      <td>0.100253</td>\n",
       "      <td>False</td>\n",
       "      <td>NaN</td>\n",
       "    </tr>\n",
       "    <tr>\n",
       "      <th>2</th>\n",
       "      <td>0.222222</td>\n",
       "      <td>0.222222</td>\n",
       "      <td>0.098765</td>\n",
       "      <td>0.200377</td>\n",
       "      <td>False</td>\n",
       "      <td>NaN</td>\n",
       "    </tr>\n",
       "    <tr>\n",
       "      <th>3</th>\n",
       "      <td>0.333333</td>\n",
       "      <td>0.333333</td>\n",
       "      <td>0.222222</td>\n",
       "      <td>0.400544</td>\n",
       "      <td>False</td>\n",
       "      <td>NaN</td>\n",
       "    </tr>\n",
       "    <tr>\n",
       "      <th>4</th>\n",
       "      <td>0.444444</td>\n",
       "      <td>0.444444</td>\n",
       "      <td>0.395062</td>\n",
       "      <td>0.300453</td>\n",
       "      <td>False</td>\n",
       "      <td>NaN</td>\n",
       "    </tr>\n",
       "    <tr>\n",
       "      <th>5</th>\n",
       "      <td>0.555556</td>\n",
       "      <td>0.555556</td>\n",
       "      <td>0.617284</td>\n",
       "      <td>0.400576</td>\n",
       "      <td>False</td>\n",
       "      <td>NaN</td>\n",
       "    </tr>\n",
       "    <tr>\n",
       "      <th>6</th>\n",
       "      <td>0.666667</td>\n",
       "      <td>0.666667</td>\n",
       "      <td>0.888889</td>\n",
       "      <td>0.100207</td>\n",
       "      <td>False</td>\n",
       "      <td>NaN</td>\n",
       "    </tr>\n",
       "    <tr>\n",
       "      <th>7</th>\n",
       "      <td>0.777778</td>\n",
       "      <td>0.777778</td>\n",
       "      <td>1.209877</td>\n",
       "      <td>0.400577</td>\n",
       "      <td>False</td>\n",
       "      <td>NaN</td>\n",
       "    </tr>\n",
       "    <tr>\n",
       "      <th>8</th>\n",
       "      <td>0.888889</td>\n",
       "      <td>0.888889</td>\n",
       "      <td>NaN</td>\n",
       "      <td>0.100593</td>\n",
       "      <td>True</td>\n",
       "      <td>Traceback (most recent call last):\\n  File \"/u...</td>\n",
       "    </tr>\n",
       "    <tr>\n",
       "      <th>9</th>\n",
       "      <td>1.000000</td>\n",
       "      <td>1.000000</td>\n",
       "      <td>NaN</td>\n",
       "      <td>0.300537</td>\n",
       "      <td>True</td>\n",
       "      <td>Traceback (most recent call last):\\n  File \"/u...</td>\n",
       "    </tr>\n",
       "  </tbody>\n",
       "</table>\n",
       "</div>"
      ],
      "text/plain": [
       "          x         y        f1  xopt_runtime  xopt_error  \\\n",
       "0  0.000000  0.000000  0.000000      0.300458       False   \n",
       "1  0.111111  0.111111  0.024691      0.100253       False   \n",
       "2  0.222222  0.222222  0.098765      0.200377       False   \n",
       "3  0.333333  0.333333  0.222222      0.400544       False   \n",
       "4  0.444444  0.444444  0.395062      0.300453       False   \n",
       "5  0.555556  0.555556  0.617284      0.400576       False   \n",
       "6  0.666667  0.666667  0.888889      0.100207       False   \n",
       "7  0.777778  0.777778  1.209877      0.400577       False   \n",
       "8  0.888889  0.888889       NaN      0.100593        True   \n",
       "9  1.000000  1.000000       NaN      0.300537        True   \n",
       "\n",
       "                                      xopt_error_str  \n",
       "0                                                NaN  \n",
       "1                                                NaN  \n",
       "2                                                NaN  \n",
       "3                                                NaN  \n",
       "4                                                NaN  \n",
       "5                                                NaN  \n",
       "6                                                NaN  \n",
       "7                                                NaN  \n",
       "8  Traceback (most recent call last):\\n  File \"/u...  \n",
       "9  Traceback (most recent call last):\\n  File \"/u...  "
      ]
     },
     "execution_count": 9,
     "metadata": {},
     "output_type": "execute_result"
    }
   ],
   "source": [
    "# Dataframe evaluation\n",
    "in10 = pd.DataFrame({\n",
    "    \"x\":np.linspace(0,1,10),\n",
    "    \"y\":np.linspace(0,1,10)\n",
    "})\n",
    "ev.evaluate_data(in10)\n"
   ]
  },
  {
   "cell_type": "code",
   "execution_count": 10,
   "metadata": {
    "ExecuteTime": {
     "end_time": "2023-09-08T21:35:36.188682500Z",
     "start_time": "2023-09-08T21:35:35.964575800Z"
    },
    "execution": {
     "iopub.execute_input": "2023-12-16T02:36:00.911114Z",
     "iopub.status.busy": "2023-12-16T02:36:00.910690Z",
     "iopub.status.idle": "2023-12-16T02:36:01.119722Z",
     "shell.execute_reply": "2023-12-16T02:36:01.119136Z"
    }
   },
   "outputs": [
    {
     "data": {
      "text/html": [
       "<div>\n",
       "<style scoped>\n",
       "    .dataframe tbody tr th:only-of-type {\n",
       "        vertical-align: middle;\n",
       "    }\n",
       "\n",
       "    .dataframe tbody tr th {\n",
       "        vertical-align: top;\n",
       "    }\n",
       "\n",
       "    .dataframe thead th {\n",
       "        text-align: right;\n",
       "    }\n",
       "</style>\n",
       "<table border=\"1\" class=\"dataframe\">\n",
       "  <thead>\n",
       "    <tr style=\"text-align: right;\">\n",
       "      <th></th>\n",
       "      <th>x</th>\n",
       "      <th>y</th>\n",
       "      <th>xopt_runtime</th>\n",
       "      <th>xopt_error</th>\n",
       "      <th>xopt_error_str</th>\n",
       "    </tr>\n",
       "  </thead>\n",
       "  <tbody>\n",
       "    <tr>\n",
       "      <th>0</th>\n",
       "      <td>0.000000</td>\n",
       "      <td>0.000000</td>\n",
       "      <td>0.2008</td>\n",
       "      <td>True</td>\n",
       "      <td>Traceback (most recent call last):\\n  File \"/u...</td>\n",
       "    </tr>\n",
       "    <tr>\n",
       "      <th>1</th>\n",
       "      <td>0.111111</td>\n",
       "      <td>0.111111</td>\n",
       "      <td>0.2008</td>\n",
       "      <td>True</td>\n",
       "      <td>Traceback (most recent call last):\\n  File \"/u...</td>\n",
       "    </tr>\n",
       "    <tr>\n",
       "      <th>2</th>\n",
       "      <td>0.222222</td>\n",
       "      <td>0.222222</td>\n",
       "      <td>0.2008</td>\n",
       "      <td>True</td>\n",
       "      <td>Traceback (most recent call last):\\n  File \"/u...</td>\n",
       "    </tr>\n",
       "    <tr>\n",
       "      <th>3</th>\n",
       "      <td>0.333333</td>\n",
       "      <td>0.333333</td>\n",
       "      <td>0.2008</td>\n",
       "      <td>True</td>\n",
       "      <td>Traceback (most recent call last):\\n  File \"/u...</td>\n",
       "    </tr>\n",
       "    <tr>\n",
       "      <th>4</th>\n",
       "      <td>0.444444</td>\n",
       "      <td>0.444444</td>\n",
       "      <td>0.2008</td>\n",
       "      <td>True</td>\n",
       "      <td>Traceback (most recent call last):\\n  File \"/u...</td>\n",
       "    </tr>\n",
       "    <tr>\n",
       "      <th>5</th>\n",
       "      <td>0.555556</td>\n",
       "      <td>0.555556</td>\n",
       "      <td>0.2008</td>\n",
       "      <td>True</td>\n",
       "      <td>Traceback (most recent call last):\\n  File \"/u...</td>\n",
       "    </tr>\n",
       "    <tr>\n",
       "      <th>6</th>\n",
       "      <td>0.666667</td>\n",
       "      <td>0.666667</td>\n",
       "      <td>0.2008</td>\n",
       "      <td>True</td>\n",
       "      <td>Traceback (most recent call last):\\n  File \"/u...</td>\n",
       "    </tr>\n",
       "    <tr>\n",
       "      <th>7</th>\n",
       "      <td>0.777778</td>\n",
       "      <td>0.777778</td>\n",
       "      <td>0.2008</td>\n",
       "      <td>True</td>\n",
       "      <td>Traceback (most recent call last):\\n  File \"/u...</td>\n",
       "    </tr>\n",
       "    <tr>\n",
       "      <th>8</th>\n",
       "      <td>0.888889</td>\n",
       "      <td>0.888889</td>\n",
       "      <td>0.2008</td>\n",
       "      <td>True</td>\n",
       "      <td>Traceback (most recent call last):\\n  File \"/u...</td>\n",
       "    </tr>\n",
       "    <tr>\n",
       "      <th>9</th>\n",
       "      <td>1.000000</td>\n",
       "      <td>1.000000</td>\n",
       "      <td>0.2008</td>\n",
       "      <td>True</td>\n",
       "      <td>Traceback (most recent call last):\\n  File \"/u...</td>\n",
       "    </tr>\n",
       "  </tbody>\n",
       "</table>\n",
       "</div>"
      ],
      "text/plain": [
       "          x         y  xopt_runtime  xopt_error  \\\n",
       "0  0.000000  0.000000        0.2008        True   \n",
       "1  0.111111  0.111111        0.2008        True   \n",
       "2  0.222222  0.222222        0.2008        True   \n",
       "3  0.333333  0.333333        0.2008        True   \n",
       "4  0.444444  0.444444        0.2008        True   \n",
       "5  0.555556  0.555556        0.2008        True   \n",
       "6  0.666667  0.666667        0.2008        True   \n",
       "7  0.777778  0.777778        0.2008        True   \n",
       "8  0.888889  0.888889        0.2008        True   \n",
       "9  1.000000  1.000000        0.2008        True   \n",
       "\n",
       "                                      xopt_error_str  \n",
       "0  Traceback (most recent call last):\\n  File \"/u...  \n",
       "1  Traceback (most recent call last):\\n  File \"/u...  \n",
       "2  Traceback (most recent call last):\\n  File \"/u...  \n",
       "3  Traceback (most recent call last):\\n  File \"/u...  \n",
       "4  Traceback (most recent call last):\\n  File \"/u...  \n",
       "5  Traceback (most recent call last):\\n  File \"/u...  \n",
       "6  Traceback (most recent call last):\\n  File \"/u...  \n",
       "7  Traceback (most recent call last):\\n  File \"/u...  \n",
       "8  Traceback (most recent call last):\\n  File \"/u...  \n",
       "9  Traceback (most recent call last):\\n  File \"/u...  "
      ]
     },
     "execution_count": 10,
     "metadata": {},
     "output_type": "execute_result"
    }
   ],
   "source": [
    "# Dataframe evaluation, vectorized\n",
    "ev.vectorized = True\n",
    "ev.evaluate_data(in10)\n"
   ]
  },
  {
   "cell_type": "markdown",
   "metadata": {},
   "source": [
    "# Executors"
   ]
  },
  {
   "cell_type": "code",
   "execution_count": 11,
   "metadata": {
    "ExecuteTime": {
     "end_time": "2023-09-08T21:35:36.210825800Z",
     "start_time": "2023-09-08T21:35:36.189682300Z"
    },
    "execution": {
     "iopub.execute_input": "2023-12-16T02:36:01.122309Z",
     "iopub.status.busy": "2023-12-16T02:36:01.121884Z",
     "iopub.status.idle": "2023-12-16T02:36:01.124738Z",
     "shell.execute_reply": "2023-12-16T02:36:01.124196Z"
    }
   },
   "outputs": [],
   "source": [
    "from concurrent.futures import ProcessPoolExecutor\n",
    "MAX_WORKERS = 10"
   ]
  },
  {
   "cell_type": "code",
   "execution_count": 12,
   "metadata": {
    "ExecuteTime": {
     "end_time": "2023-09-08T21:35:36.277827Z",
     "start_time": "2023-09-08T21:35:36.205828Z"
    },
    "execution": {
     "iopub.execute_input": "2023-12-16T02:36:01.126904Z",
     "iopub.status.busy": "2023-12-16T02:36:01.126563Z",
     "iopub.status.idle": "2023-12-16T02:36:01.132008Z",
     "shell.execute_reply": "2023-12-16T02:36:01.131453Z"
    }
   },
   "outputs": [
    {
     "data": {
      "text/plain": [
       "<concurrent.futures.process.ProcessPoolExecutor at 0x7ffb46081700>"
      ]
     },
     "execution_count": 12,
     "metadata": {},
     "output_type": "execute_result"
    }
   ],
   "source": [
    "# Create Executor instance\n",
    "executor = ProcessPoolExecutor(max_workers=MAX_WORKERS)\n",
    "executor"
   ]
  },
  {
   "cell_type": "code",
   "execution_count": 13,
   "metadata": {
    "ExecuteTime": {
     "end_time": "2023-09-08T21:35:36.336827600Z",
     "start_time": "2023-09-08T21:35:36.219826200Z"
    },
    "execution": {
     "iopub.execute_input": "2023-12-16T02:36:01.134265Z",
     "iopub.status.busy": "2023-12-16T02:36:01.133909Z",
     "iopub.status.idle": "2023-12-16T02:36:01.136494Z",
     "shell.execute_reply": "2023-12-16T02:36:01.136028Z"
    }
   },
   "outputs": [],
   "source": [
    "# Dask (Optional)\n",
    "# from dask.distributed import Client\n",
    "# import logging\n",
    "# client = Client( silence_logs=logging.ERROR)\n",
    "# executor = client.get_executor()\n",
    "# client"
   ]
  },
  {
   "cell_type": "code",
   "execution_count": 14,
   "metadata": {
    "ExecuteTime": {
     "end_time": "2023-09-08T21:35:36.340830Z",
     "start_time": "2023-09-08T21:35:36.246825700Z"
    },
    "execution": {
     "iopub.execute_input": "2023-12-16T02:36:01.138602Z",
     "iopub.status.busy": "2023-12-16T02:36:01.138256Z",
     "iopub.status.idle": "2023-12-16T02:36:01.146969Z",
     "shell.execute_reply": "2023-12-16T02:36:01.146486Z"
    }
   },
   "outputs": [],
   "source": [
    "# This calls `executor.map`\n",
    "ev = Evaluator(function=f, executor=executor, max_workers=MAX_WORKERS)"
   ]
  },
  {
   "cell_type": "code",
   "execution_count": 15,
   "metadata": {
    "ExecuteTime": {
     "end_time": "2023-09-08T21:35:42.832826300Z",
     "start_time": "2023-09-08T21:35:36.250828900Z"
    },
    "execution": {
     "iopub.execute_input": "2023-12-16T02:36:01.149280Z",
     "iopub.status.busy": "2023-12-16T02:36:01.148840Z",
     "iopub.status.idle": "2023-12-16T02:36:01.643577Z",
     "shell.execute_reply": "2023-12-16T02:36:01.642622Z"
    }
   },
   "outputs": [
    {
     "data": {
      "text/html": [
       "<div>\n",
       "<style scoped>\n",
       "    .dataframe tbody tr th:only-of-type {\n",
       "        vertical-align: middle;\n",
       "    }\n",
       "\n",
       "    .dataframe tbody tr th {\n",
       "        vertical-align: top;\n",
       "    }\n",
       "\n",
       "    .dataframe thead th {\n",
       "        text-align: right;\n",
       "    }\n",
       "</style>\n",
       "<table border=\"1\" class=\"dataframe\">\n",
       "  <thead>\n",
       "    <tr style=\"text-align: right;\">\n",
       "      <th></th>\n",
       "      <th>x</th>\n",
       "      <th>y</th>\n",
       "      <th>f1</th>\n",
       "      <th>xopt_runtime</th>\n",
       "      <th>xopt_error</th>\n",
       "      <th>xopt_error_str</th>\n",
       "    </tr>\n",
       "  </thead>\n",
       "  <tbody>\n",
       "    <tr>\n",
       "      <th>0</th>\n",
       "      <td>0.000000</td>\n",
       "      <td>0.000000</td>\n",
       "      <td>0.000000</td>\n",
       "      <td>0.400885</td>\n",
       "      <td>False</td>\n",
       "      <td>NaN</td>\n",
       "    </tr>\n",
       "    <tr>\n",
       "      <th>1</th>\n",
       "      <td>0.111111</td>\n",
       "      <td>0.111111</td>\n",
       "      <td>0.024691</td>\n",
       "      <td>0.400795</td>\n",
       "      <td>False</td>\n",
       "      <td>NaN</td>\n",
       "    </tr>\n",
       "    <tr>\n",
       "      <th>2</th>\n",
       "      <td>0.222222</td>\n",
       "      <td>0.222222</td>\n",
       "      <td>0.098765</td>\n",
       "      <td>0.400799</td>\n",
       "      <td>False</td>\n",
       "      <td>NaN</td>\n",
       "    </tr>\n",
       "    <tr>\n",
       "      <th>3</th>\n",
       "      <td>0.333333</td>\n",
       "      <td>0.333333</td>\n",
       "      <td>0.222222</td>\n",
       "      <td>0.400767</td>\n",
       "      <td>False</td>\n",
       "      <td>NaN</td>\n",
       "    </tr>\n",
       "    <tr>\n",
       "      <th>4</th>\n",
       "      <td>0.444444</td>\n",
       "      <td>0.444444</td>\n",
       "      <td>0.395062</td>\n",
       "      <td>0.400760</td>\n",
       "      <td>False</td>\n",
       "      <td>NaN</td>\n",
       "    </tr>\n",
       "    <tr>\n",
       "      <th>5</th>\n",
       "      <td>0.555556</td>\n",
       "      <td>0.555556</td>\n",
       "      <td>0.617284</td>\n",
       "      <td>0.400798</td>\n",
       "      <td>False</td>\n",
       "      <td>NaN</td>\n",
       "    </tr>\n",
       "    <tr>\n",
       "      <th>6</th>\n",
       "      <td>0.666667</td>\n",
       "      <td>0.666667</td>\n",
       "      <td>0.888889</td>\n",
       "      <td>0.401226</td>\n",
       "      <td>False</td>\n",
       "      <td>NaN</td>\n",
       "    </tr>\n",
       "    <tr>\n",
       "      <th>7</th>\n",
       "      <td>0.777778</td>\n",
       "      <td>0.777778</td>\n",
       "      <td>1.209877</td>\n",
       "      <td>0.400817</td>\n",
       "      <td>False</td>\n",
       "      <td>NaN</td>\n",
       "    </tr>\n",
       "    <tr>\n",
       "      <th>8</th>\n",
       "      <td>0.888889</td>\n",
       "      <td>0.888889</td>\n",
       "      <td>NaN</td>\n",
       "      <td>0.401245</td>\n",
       "      <td>True</td>\n",
       "      <td>Traceback (most recent call last):\\n  File \"/u...</td>\n",
       "    </tr>\n",
       "    <tr>\n",
       "      <th>9</th>\n",
       "      <td>1.000000</td>\n",
       "      <td>1.000000</td>\n",
       "      <td>NaN</td>\n",
       "      <td>0.401592</td>\n",
       "      <td>True</td>\n",
       "      <td>Traceback (most recent call last):\\n  File \"/u...</td>\n",
       "    </tr>\n",
       "  </tbody>\n",
       "</table>\n",
       "</div>"
      ],
      "text/plain": [
       "          x         y        f1  xopt_runtime  xopt_error  \\\n",
       "0  0.000000  0.000000  0.000000      0.400885       False   \n",
       "1  0.111111  0.111111  0.024691      0.400795       False   \n",
       "2  0.222222  0.222222  0.098765      0.400799       False   \n",
       "3  0.333333  0.333333  0.222222      0.400767       False   \n",
       "4  0.444444  0.444444  0.395062      0.400760       False   \n",
       "5  0.555556  0.555556  0.617284      0.400798       False   \n",
       "6  0.666667  0.666667  0.888889      0.401226       False   \n",
       "7  0.777778  0.777778  1.209877      0.400817       False   \n",
       "8  0.888889  0.888889       NaN      0.401245        True   \n",
       "9  1.000000  1.000000       NaN      0.401592        True   \n",
       "\n",
       "                                      xopt_error_str  \n",
       "0                                                NaN  \n",
       "1                                                NaN  \n",
       "2                                                NaN  \n",
       "3                                                NaN  \n",
       "4                                                NaN  \n",
       "5                                                NaN  \n",
       "6                                                NaN  \n",
       "7                                                NaN  \n",
       "8  Traceback (most recent call last):\\n  File \"/u...  \n",
       "9  Traceback (most recent call last):\\n  File \"/u...  "
      ]
     },
     "execution_count": 15,
     "metadata": {},
     "output_type": "execute_result"
    }
   ],
   "source": [
    "# This will run in parallel\n",
    "ev.evaluate_data(in10)"
   ]
  },
  {
   "cell_type": "markdown",
   "metadata": {},
   "source": [
    "# Evaluator in the Xopt object"
   ]
  },
  {
   "cell_type": "code",
   "execution_count": 16,
   "metadata": {
    "ExecuteTime": {
     "end_time": "2023-09-08T21:35:49.453947100Z",
     "start_time": "2023-09-08T21:35:48.973424600Z"
    },
    "collapsed": false,
    "execution": {
     "iopub.execute_input": "2023-12-16T02:36:01.646445Z",
     "iopub.status.busy": "2023-12-16T02:36:01.646232Z",
     "iopub.status.idle": "2023-12-16T02:36:02.061893Z",
     "shell.execute_reply": "2023-12-16T02:36:02.061261Z"
    }
   },
   "outputs": [
    {
     "data": {
      "text/html": [
       "<div>\n",
       "<style scoped>\n",
       "    .dataframe tbody tr th:only-of-type {\n",
       "        vertical-align: middle;\n",
       "    }\n",
       "\n",
       "    .dataframe tbody tr th {\n",
       "        vertical-align: top;\n",
       "    }\n",
       "\n",
       "    .dataframe thead th {\n",
       "        text-align: right;\n",
       "    }\n",
       "</style>\n",
       "<table border=\"1\" class=\"dataframe\">\n",
       "  <thead>\n",
       "    <tr style=\"text-align: right;\">\n",
       "      <th></th>\n",
       "      <th>x</th>\n",
       "      <th>y</th>\n",
       "      <th>f1</th>\n",
       "      <th>xopt_runtime</th>\n",
       "      <th>xopt_error</th>\n",
       "      <th>xopt_error_str</th>\n",
       "    </tr>\n",
       "  </thead>\n",
       "  <tbody>\n",
       "    <tr>\n",
       "      <th>0</th>\n",
       "      <td>0.491934</td>\n",
       "      <td>0.299155</td>\n",
       "      <td>0.331493</td>\n",
       "      <td>0.100237</td>\n",
       "      <td>False</td>\n",
       "      <td>NaN</td>\n",
       "    </tr>\n",
       "    <tr>\n",
       "      <th>1</th>\n",
       "      <td>0.799752</td>\n",
       "      <td>0.706772</td>\n",
       "      <td>1.139131</td>\n",
       "      <td>0.100207</td>\n",
       "      <td>False</td>\n",
       "      <td>NaN</td>\n",
       "    </tr>\n",
       "    <tr>\n",
       "      <th>2</th>\n",
       "      <td>0.255846</td>\n",
       "      <td>0.225521</td>\n",
       "      <td>0.116317</td>\n",
       "      <td>0.100197</td>\n",
       "      <td>False</td>\n",
       "      <td>NaN</td>\n",
       "    </tr>\n",
       "    <tr>\n",
       "      <th>3</th>\n",
       "      <td>0.807108</td>\n",
       "      <td>0.994891</td>\n",
       "      <td>NaN</td>\n",
       "      <td>0.100533</td>\n",
       "      <td>True</td>\n",
       "      <td>Traceback (most recent call last):\\n  File \"/u...</td>\n",
       "    </tr>\n",
       "  </tbody>\n",
       "</table>\n",
       "</div>"
      ],
      "text/plain": [
       "          x         y        f1  xopt_runtime  xopt_error  \\\n",
       "0  0.491934  0.299155  0.331493      0.100237       False   \n",
       "1  0.799752  0.706772  1.139131      0.100207       False   \n",
       "2  0.255846  0.225521  0.116317      0.100197       False   \n",
       "3  0.807108  0.994891       NaN      0.100533        True   \n",
       "\n",
       "                                      xopt_error_str  \n",
       "0                                                NaN  \n",
       "1                                                NaN  \n",
       "2                                                NaN  \n",
       "3  Traceback (most recent call last):\\n  File \"/u...  "
      ]
     },
     "execution_count": 16,
     "metadata": {},
     "output_type": "execute_result"
    }
   ],
   "source": [
    "X = Xopt(generator=RandomGenerator(vocs=vocs), evaluator=Evaluator(function=f),\n",
    "         vocs=vocs)\n",
    "X.strict = False\n",
    "\n",
    "# Evaluate to the evaluator some new inputs\n",
    "X.evaluate_data(X.vocs.random_inputs(4))\n"
   ]
  },
  {
   "cell_type": "markdown",
   "metadata": {
    "collapsed": false
   },
   "source": [
    "## Asynchronous Xopt\n",
    "Instead of waiting for evaluations to be finished, AsynchronousXopt can be used to generate candidates while waiting for other evaluations to finish (requires parallel execution). In this case, calling ```X.step()``` generates and executes a number of candidates that are executed in parallel using python ```concurrent.futures``` formalism. Calling ```X.step()``` again will generate and evaluate new points based on finished futures asynchronously."
   ]
  },
  {
   "cell_type": "code",
   "execution_count": 17,
   "metadata": {
    "ExecuteTime": {
     "end_time": "2023-09-08T21:35:50.776098900Z",
     "start_time": "2023-09-08T21:35:50.753057600Z"
    },
    "collapsed": false,
    "execution": {
     "iopub.execute_input": "2023-12-16T02:36:02.064302Z",
     "iopub.status.busy": "2023-12-16T02:36:02.064117Z",
     "iopub.status.idle": "2023-12-16T02:36:02.070559Z",
     "shell.execute_reply": "2023-12-16T02:36:02.070066Z"
    }
   },
   "outputs": [],
   "source": [
    "# Usage with a parallel executor.\n",
    "from xopt import AsynchronousXopt\n",
    "\n",
    "executor = ProcessPoolExecutor(max_workers=MAX_WORKERS)\n",
    "\n",
    "X2 = AsynchronousXopt(\n",
    "    generator=RandomGenerator(vocs=vocs),\n",
    "    evaluator=Evaluator(function=f, executor=executor, max_workers=MAX_WORKERS),\n",
    "    vocs=vocs,\n",
    ")\n",
    "X2.strict = False"
   ]
  },
  {
   "cell_type": "code",
   "execution_count": 18,
   "metadata": {
    "ExecuteTime": {
     "end_time": "2023-09-08T21:35:57.154830200Z",
     "start_time": "2023-09-08T21:35:51.660788Z"
    },
    "execution": {
     "iopub.execute_input": "2023-12-16T02:36:02.072734Z",
     "iopub.status.busy": "2023-12-16T02:36:02.072393Z",
     "iopub.status.idle": "2023-12-16T02:36:02.367863Z",
     "shell.execute_reply": "2023-12-16T02:36:02.366721Z"
    }
   },
   "outputs": [],
   "source": [
    "X2.step()"
   ]
  },
  {
   "cell_type": "code",
   "execution_count": 19,
   "metadata": {
    "collapsed": false,
    "execution": {
     "iopub.execute_input": "2023-12-16T02:36:02.371372Z",
     "iopub.status.busy": "2023-12-16T02:36:02.371110Z",
     "iopub.status.idle": "2023-12-16T02:36:03.428132Z",
     "shell.execute_reply": "2023-12-16T02:36:03.427553Z"
    }
   },
   "outputs": [
    {
     "data": {
      "text/plain": [
       "44"
      ]
     },
     "execution_count": 19,
     "metadata": {},
     "output_type": "execute_result"
    }
   ],
   "source": [
    "for _ in range(20):\n",
    "    X2.step()\n",
    "\n",
    "len(X2.data)"
   ]
  },
  {
   "cell_type": "code",
   "execution_count": 20,
   "metadata": {
    "collapsed": false,
    "execution": {
     "iopub.execute_input": "2023-12-16T02:36:03.430531Z",
     "iopub.status.busy": "2023-12-16T02:36:03.430343Z",
     "iopub.status.idle": "2023-12-16T02:36:03.828079Z",
     "shell.execute_reply": "2023-12-16T02:36:03.827474Z"
    }
   },
   "outputs": [
    {
     "data": {
      "text/plain": [
       "<Axes: xlabel='x', ylabel='y'>"
      ]
     },
     "execution_count": 20,
     "metadata": {},
     "output_type": "execute_result"
    },
    {
     "data": {
      "image/png": "[encoded data removed]",
      "text/plain": [
       "<Figure size 640x480 with 1 Axes>"
      ]
     },
     "metadata": {},
     "output_type": "display_data"
    }
   ],
   "source": [
    "X2.data.plot.scatter(\"x\", \"y\")"
   ]
  },
  {
   "cell_type": "code",
   "execution_count": 21,
   "metadata": {
    "collapsed": false,
    "execution": {
     "iopub.execute_input": "2023-12-16T02:36:03.830569Z",
     "iopub.status.busy": "2023-12-16T02:36:03.830065Z",
     "iopub.status.idle": "2023-12-16T02:36:04.155871Z",
     "shell.execute_reply": "2023-12-16T02:36:04.155300Z"
    },
    "tags": []
   },
   "outputs": [
    {
     "data": {
      "text/plain": [
       "30"
      ]
     },
     "execution_count": 21,
     "metadata": {},
     "output_type": "execute_result"
    }
   ],
   "source": [
    "# Asynchronous, Vectorized\n",
    "X2 = AsynchronousXopt(\n",
    "    generator=RandomGenerator(vocs=vocs),\n",
    "    evaluator=Evaluator(function=f, executor=executor, max_workers=MAX_WORKERS),\n",
    "    vocs=vocs,\n",
    ")\n",
    "X2.evaluator.vectorized = True\n",
    "X2.strict = False\n",
    "\n",
    "# This takes fewer steps to achieve a similar number of evaluations\n",
    "for _ in range(3):\n",
    "    X2.step()\n",
    "\n",
    "len(X2.data)"
   ]
  },
  {
   "cell_type": "code",
   "execution_count": null,
   "metadata": {
    "collapsed": false
   },
   "outputs": [],
   "source": []
  }
 ],
 "metadata": {
  "kernelspec": {
   "display_name": "Python 3 (ipykernel)",
   "language": "python",
   "name": "python3"
  },
  "language_info": {
   "codemirror_mode": {
    "name": "ipython",
    "version": 3
   },
   "file_extension": ".py",
   "mimetype": "text/x-python",
   "name": "python",
   "nbconvert_exporter": "python",
   "pygments_lexer": "ipython3",
   "version": "3.9.18"
  },
  "vscode": {
   "interpreter": {
    "hash": "4483d4964800812ebc77892a92dde3b54705ec8a224d63d9bb659e2cc457018b"
   }
  }
 },
 "nbformat": 4,
 "nbformat_minor": 4
}
