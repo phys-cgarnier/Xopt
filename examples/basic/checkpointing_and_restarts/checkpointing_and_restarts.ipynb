{
 "cells": [
  {
   "cell_type": "markdown",
   "source": [
    "# Checkpointing and Restarts\n",
    "If `dump_file` is provided Xopt will save the data and the Xopt configuration in a\n",
    "yaml file. This can be used directly to create a new Xopt object."
   ],
   "metadata": {
    "collapsed": false,
    "pycharm": {
     "name": "#%% md\n"
    }
   }
  },
  {
   "cell_type": "code",
   "execution_count": 16,
   "outputs": [],
   "source": [
    "# Import the class\n",
    "from xopt import Xopt\n",
    "\n",
    "# Make a proper input file.\n",
    "YAML = \"\"\"\n",
    "xopt:\n",
    "    dump_file: dump.yaml\n",
    "\n",
    "generator:\n",
    "    name: random\n",
    "\n",
    "evaluator:\n",
    "    function: xopt.resources.test_functions.tnk.evaluate_TNK\n",
    "    function_kwargs:\n",
    "        a: 999\n",
    "\n",
    "vocs:\n",
    "    variables:\n",
    "        x1: [0, 3.14159]\n",
    "        x2: [0, 3.14159]\n",
    "    objectives: {y1: MINIMIZE, y2: MINIMIZE}\n",
    "    constraints:\n",
    "        c1: [GREATER_THAN, 0]\n",
    "        c2: [LESS_THAN, 0.5]\n",
    "    linked_variables: {x9: x1}\n",
    "    constants: {a: dummy_constant}\n",
    "\n",
    "\"\"\""
   ],
   "metadata": {
    "collapsed": false,
    "pycharm": {
     "name": "#%%\n"
    }
   }
  },
  {
   "cell_type": "markdown",
   "source": [
    "## Checkpoints\n",
    "Since we specified a dump file Xopt will dump the data and all of the options\n",
    "required to create a new Xopt object that continues the run."
   ],
   "metadata": {
    "collapsed": false,
    "pycharm": {
     "name": "#%% md\n"
    }
   }
  },
  {
   "cell_type": "code",
   "execution_count": 17,
   "outputs": [
    {
     "data": {
      "text/plain": "          x1        x2               a        x9        y1        y2  \\\n1   1.533996  1.824156  dummy_constant  1.533996  1.533996  1.824156   \n2   2.685509  1.184073  dummy_constant  2.685509  2.685509  1.184073   \n3   2.328872  1.841149  dummy_constant  2.328872  2.328872  1.841149   \n4   1.562684  0.031481  dummy_constant  1.562684  1.562684  0.031481   \n5   3.000860  0.158189  dummy_constant  3.000860  3.000860  0.158189   \n6   0.049085  2.212747  dummy_constant  0.049085  0.049085  2.212747   \n7   0.994366  0.311424  dummy_constant  0.994366  0.994366  0.311424   \n8   1.644203  1.934044  dummy_constant  1.644203  1.644203  1.934044   \n9   1.701042  0.425290  dummy_constant  1.701042  1.701042  0.425290   \n10  0.577269  0.039562  dummy_constant  0.577269  0.577269  0.039562   \n\n          c1        c2 some_array xopt_error xopt_error_str  \n1   4.661633  2.822538  [1, 2, 3]      False                 \n2   7.520436  5.244404  [1, 2, 3]      False                 \n3   7.842269  5.143453  [1, 2, 3]      False                 \n4   1.348121  1.348807  [1, 2, 3]      False                 \n5   7.963637  6.371136  [1, 2, 3]      False                 \n6   3.804890  3.136827  [1, 2, 3]      False                 \n7   0.071418  0.279959  [1, 2, 3]      False                 \n8   5.416526  3.365684  [1, 2, 3]      False                 \n9   2.145626  1.448085  [1, 2, 3]      False                 \n10 -0.711016  0.217974  [1, 2, 3]      False                 ",
      "text/html": "<div>\n<style scoped>\n    .dataframe tbody tr th:only-of-type {\n        vertical-align: middle;\n    }\n\n    .dataframe tbody tr th {\n        vertical-align: top;\n    }\n\n    .dataframe thead th {\n        text-align: right;\n    }\n</style>\n<table border=\"1\" class=\"dataframe\">\n  <thead>\n    <tr style=\"text-align: right;\">\n      <th></th>\n      <th>x1</th>\n      <th>x2</th>\n      <th>a</th>\n      <th>x9</th>\n      <th>y1</th>\n      <th>y2</th>\n      <th>c1</th>\n      <th>c2</th>\n      <th>some_array</th>\n      <th>xopt_error</th>\n      <th>xopt_error_str</th>\n    </tr>\n  </thead>\n  <tbody>\n    <tr>\n      <th>1</th>\n      <td>1.533996</td>\n      <td>1.824156</td>\n      <td>dummy_constant</td>\n      <td>1.533996</td>\n      <td>1.533996</td>\n      <td>1.824156</td>\n      <td>4.661633</td>\n      <td>2.822538</td>\n      <td>[1, 2, 3]</td>\n      <td>False</td>\n      <td></td>\n    </tr>\n    <tr>\n      <th>2</th>\n      <td>2.685509</td>\n      <td>1.184073</td>\n      <td>dummy_constant</td>\n      <td>2.685509</td>\n      <td>2.685509</td>\n      <td>1.184073</td>\n      <td>7.520436</td>\n      <td>5.244404</td>\n      <td>[1, 2, 3]</td>\n      <td>False</td>\n      <td></td>\n    </tr>\n    <tr>\n      <th>3</th>\n      <td>2.328872</td>\n      <td>1.841149</td>\n      <td>dummy_constant</td>\n      <td>2.328872</td>\n      <td>2.328872</td>\n      <td>1.841149</td>\n      <td>7.842269</td>\n      <td>5.143453</td>\n      <td>[1, 2, 3]</td>\n      <td>False</td>\n      <td></td>\n    </tr>\n    <tr>\n      <th>4</th>\n      <td>1.562684</td>\n      <td>0.031481</td>\n      <td>dummy_constant</td>\n      <td>1.562684</td>\n      <td>1.562684</td>\n      <td>0.031481</td>\n      <td>1.348121</td>\n      <td>1.348807</td>\n      <td>[1, 2, 3]</td>\n      <td>False</td>\n      <td></td>\n    </tr>\n    <tr>\n      <th>5</th>\n      <td>3.000860</td>\n      <td>0.158189</td>\n      <td>dummy_constant</td>\n      <td>3.000860</td>\n      <td>3.000860</td>\n      <td>0.158189</td>\n      <td>7.963637</td>\n      <td>6.371136</td>\n      <td>[1, 2, 3]</td>\n      <td>False</td>\n      <td></td>\n    </tr>\n    <tr>\n      <th>6</th>\n      <td>0.049085</td>\n      <td>2.212747</td>\n      <td>dummy_constant</td>\n      <td>0.049085</td>\n      <td>0.049085</td>\n      <td>2.212747</td>\n      <td>3.804890</td>\n      <td>3.136827</td>\n      <td>[1, 2, 3]</td>\n      <td>False</td>\n      <td></td>\n    </tr>\n    <tr>\n      <th>7</th>\n      <td>0.994366</td>\n      <td>0.311424</td>\n      <td>dummy_constant</td>\n      <td>0.994366</td>\n      <td>0.994366</td>\n      <td>0.311424</td>\n      <td>0.071418</td>\n      <td>0.279959</td>\n      <td>[1, 2, 3]</td>\n      <td>False</td>\n      <td></td>\n    </tr>\n    <tr>\n      <th>8</th>\n      <td>1.644203</td>\n      <td>1.934044</td>\n      <td>dummy_constant</td>\n      <td>1.644203</td>\n      <td>1.644203</td>\n      <td>1.934044</td>\n      <td>5.416526</td>\n      <td>3.365684</td>\n      <td>[1, 2, 3]</td>\n      <td>False</td>\n      <td></td>\n    </tr>\n    <tr>\n      <th>9</th>\n      <td>1.701042</td>\n      <td>0.425290</td>\n      <td>dummy_constant</td>\n      <td>1.701042</td>\n      <td>1.701042</td>\n      <td>0.425290</td>\n      <td>2.145626</td>\n      <td>1.448085</td>\n      <td>[1, 2, 3]</td>\n      <td>False</td>\n      <td></td>\n    </tr>\n    <tr>\n      <th>10</th>\n      <td>0.577269</td>\n      <td>0.039562</td>\n      <td>dummy_constant</td>\n      <td>0.577269</td>\n      <td>0.577269</td>\n      <td>0.039562</td>\n      <td>-0.711016</td>\n      <td>0.217974</td>\n      <td>[1, 2, 3]</td>\n      <td>False</td>\n      <td></td>\n    </tr>\n  </tbody>\n</table>\n</div>"
     },
     "execution_count": 17,
     "metadata": {},
     "output_type": "execute_result"
    }
   ],
   "source": [
    "import yaml\n",
    "\n",
    "# create Xopt object.\n",
    "X = Xopt(YAML)\n",
    "\n",
    "# take 10 steps and view data\n",
    "for _ in range(10):\n",
    "    X.step()\n",
    "\n",
    "X.data"
   ],
   "metadata": {
    "collapsed": false,
    "pycharm": {
     "name": "#%%\n"
    }
   }
  },
  {
   "cell_type": "markdown",
   "source": [
    "## Create Xopt object from dump file"
   ],
   "metadata": {
    "collapsed": false,
    "pycharm": {
     "name": "#%% md\n"
    }
   }
  },
  {
   "cell_type": "code",
   "execution_count": 18,
   "outputs": [
    {
     "name": "stdout",
     "output_type": "stream",
     "text": [
      "asynch=False strict=False dump_file='dump.yaml' max_evaluations=None\n",
      "<xopt.generators.random.RandomGenerator object at 0x0000012044B95070>\n",
      "function=<function evaluate_TNK at 0x0000012044B401F0> max_workers=1 executor=NormalExecutor[DummyExecutor](loader=ObjLoader[DummyExecutor](object=None, loader=CallableModel(callable=<class 'xopt.evaluator.DummyExecutor'>, kwargs=Kwargs_DummyExecutor()), object_type=<class 'xopt.evaluator.DummyExecutor'>), executor_type=<class 'xopt.evaluator.DummyExecutor'>, submit_callable='submit', map_callable='map', shutdown_callable='shutdown', executor=<xopt.evaluator.DummyExecutor object at 0x0000012045E457F0>) function_kwargs={'sleep': 0, 'random_sleep': 0, 'raise_probability': 0, 'a': 999}\n"
     ]
    },
    {
     "data": {
      "text/plain": "                 a        c1        c2 some_array        x1        x2  \\\n1   dummy_constant  4.661633  2.822538  [1, 2, 3]  1.533996  1.824156   \n10  dummy_constant -0.711016  0.217974  [1, 2, 3]  0.577269  0.039562   \n2   dummy_constant  7.520436  5.244404  [1, 2, 3]  2.685509  1.184073   \n3   dummy_constant  7.842269  5.143453  [1, 2, 3]  2.328872  1.841149   \n4   dummy_constant  1.348121  1.348807  [1, 2, 3]  1.562684  0.031481   \n5   dummy_constant  7.963637  6.371136  [1, 2, 3]  3.000860  0.158189   \n6   dummy_constant  3.804890  3.136827  [1, 2, 3]  0.049085  2.212747   \n7   dummy_constant  0.071418  0.279959  [1, 2, 3]  0.994366  0.311424   \n8   dummy_constant  5.416526  3.365684  [1, 2, 3]  1.644203  1.934044   \n9   dummy_constant  2.145626  1.448085  [1, 2, 3]  1.701042  0.425290   \n\n          x9  xopt_error xopt_error_str        y1        y2  \n1   1.533996       False                 1.533996  1.824156  \n10  0.577269       False                 0.577269  0.039562  \n2   2.685509       False                 2.685509  1.184073  \n3   2.328872       False                 2.328872  1.841149  \n4   1.562684       False                 1.562684  0.031481  \n5   3.000860       False                 3.000860  0.158189  \n6   0.049085       False                 0.049085  2.212747  \n7   0.994366       False                 0.994366  0.311424  \n8   1.644203       False                 1.644203  1.934044  \n9   1.701042       False                 1.701042  0.425290  ",
      "text/html": "<div>\n<style scoped>\n    .dataframe tbody tr th:only-of-type {\n        vertical-align: middle;\n    }\n\n    .dataframe tbody tr th {\n        vertical-align: top;\n    }\n\n    .dataframe thead th {\n        text-align: right;\n    }\n</style>\n<table border=\"1\" class=\"dataframe\">\n  <thead>\n    <tr style=\"text-align: right;\">\n      <th></th>\n      <th>a</th>\n      <th>c1</th>\n      <th>c2</th>\n      <th>some_array</th>\n      <th>x1</th>\n      <th>x2</th>\n      <th>x9</th>\n      <th>xopt_error</th>\n      <th>xopt_error_str</th>\n      <th>y1</th>\n      <th>y2</th>\n    </tr>\n  </thead>\n  <tbody>\n    <tr>\n      <th>1</th>\n      <td>dummy_constant</td>\n      <td>4.661633</td>\n      <td>2.822538</td>\n      <td>[1, 2, 3]</td>\n      <td>1.533996</td>\n      <td>1.824156</td>\n      <td>1.533996</td>\n      <td>False</td>\n      <td></td>\n      <td>1.533996</td>\n      <td>1.824156</td>\n    </tr>\n    <tr>\n      <th>10</th>\n      <td>dummy_constant</td>\n      <td>-0.711016</td>\n      <td>0.217974</td>\n      <td>[1, 2, 3]</td>\n      <td>0.577269</td>\n      <td>0.039562</td>\n      <td>0.577269</td>\n      <td>False</td>\n      <td></td>\n      <td>0.577269</td>\n      <td>0.039562</td>\n    </tr>\n    <tr>\n      <th>2</th>\n      <td>dummy_constant</td>\n      <td>7.520436</td>\n      <td>5.244404</td>\n      <td>[1, 2, 3]</td>\n      <td>2.685509</td>\n      <td>1.184073</td>\n      <td>2.685509</td>\n      <td>False</td>\n      <td></td>\n      <td>2.685509</td>\n      <td>1.184073</td>\n    </tr>\n    <tr>\n      <th>3</th>\n      <td>dummy_constant</td>\n      <td>7.842269</td>\n      <td>5.143453</td>\n      <td>[1, 2, 3]</td>\n      <td>2.328872</td>\n      <td>1.841149</td>\n      <td>2.328872</td>\n      <td>False</td>\n      <td></td>\n      <td>2.328872</td>\n      <td>1.841149</td>\n    </tr>\n    <tr>\n      <th>4</th>\n      <td>dummy_constant</td>\n      <td>1.348121</td>\n      <td>1.348807</td>\n      <td>[1, 2, 3]</td>\n      <td>1.562684</td>\n      <td>0.031481</td>\n      <td>1.562684</td>\n      <td>False</td>\n      <td></td>\n      <td>1.562684</td>\n      <td>0.031481</td>\n    </tr>\n    <tr>\n      <th>5</th>\n      <td>dummy_constant</td>\n      <td>7.963637</td>\n      <td>6.371136</td>\n      <td>[1, 2, 3]</td>\n      <td>3.000860</td>\n      <td>0.158189</td>\n      <td>3.000860</td>\n      <td>False</td>\n      <td></td>\n      <td>3.000860</td>\n      <td>0.158189</td>\n    </tr>\n    <tr>\n      <th>6</th>\n      <td>dummy_constant</td>\n      <td>3.804890</td>\n      <td>3.136827</td>\n      <td>[1, 2, 3]</td>\n      <td>0.049085</td>\n      <td>2.212747</td>\n      <td>0.049085</td>\n      <td>False</td>\n      <td></td>\n      <td>0.049085</td>\n      <td>2.212747</td>\n    </tr>\n    <tr>\n      <th>7</th>\n      <td>dummy_constant</td>\n      <td>0.071418</td>\n      <td>0.279959</td>\n      <td>[1, 2, 3]</td>\n      <td>0.994366</td>\n      <td>0.311424</td>\n      <td>0.994366</td>\n      <td>False</td>\n      <td></td>\n      <td>0.994366</td>\n      <td>0.311424</td>\n    </tr>\n    <tr>\n      <th>8</th>\n      <td>dummy_constant</td>\n      <td>5.416526</td>\n      <td>3.365684</td>\n      <td>[1, 2, 3]</td>\n      <td>1.644203</td>\n      <td>1.934044</td>\n      <td>1.644203</td>\n      <td>False</td>\n      <td></td>\n      <td>1.644203</td>\n      <td>1.934044</td>\n    </tr>\n    <tr>\n      <th>9</th>\n      <td>dummy_constant</td>\n      <td>2.145626</td>\n      <td>1.448085</td>\n      <td>[1, 2, 3]</td>\n      <td>1.701042</td>\n      <td>0.425290</td>\n      <td>1.701042</td>\n      <td>False</td>\n      <td></td>\n      <td>1.701042</td>\n      <td>0.425290</td>\n    </tr>\n  </tbody>\n</table>\n</div>"
     },
     "execution_count": 18,
     "metadata": {},
     "output_type": "execute_result"
    }
   ],
   "source": [
    "config = yaml.safe_load(open(\"dump.yaml\"))\n",
    "X2 = Xopt(config)\n",
    "print(X2.options)\n",
    "print(X2.generator)\n",
    "print(X2.evaluator)\n",
    "\n",
    "X2.data"
   ],
   "metadata": {
    "collapsed": false,
    "pycharm": {
     "name": "#%%\n"
    }
   }
  },
  {
   "cell_type": "code",
   "execution_count": 19,
   "outputs": [
    {
     "data": {
      "text/plain": "                 a         c1         c2 some_array        x1        x2  \\\n1   dummy_constant   4.661633   2.822538  [1, 2, 3]  1.533996  1.824156   \n10  dummy_constant  -0.711016   0.217974  [1, 2, 3]  0.577269  0.039562   \n2   dummy_constant   7.520436   5.244404  [1, 2, 3]  2.685509  1.184073   \n3   dummy_constant   7.842269   5.143453  [1, 2, 3]  2.328872  1.841149   \n4   dummy_constant   1.348121   1.348807  [1, 2, 3]  1.562684  0.031481   \n5   dummy_constant   7.963637   6.371136  [1, 2, 3]  3.000860  0.158189   \n6   dummy_constant   3.804890   3.136827  [1, 2, 3]  0.049085  2.212747   \n7   dummy_constant   0.071418   0.279959  [1, 2, 3]  0.994366  0.311424   \n8   dummy_constant   5.416526   3.365684  [1, 2, 3]  1.644203  1.934044   \n9   dummy_constant   2.145626   1.448085  [1, 2, 3]  1.701042  0.425290   \n11  dummy_constant   2.107644   1.514049  [1, 2, 3]  0.290938  1.712577   \n12  dummy_constant   3.401553   2.838572  [1, 2, 3]  0.038449  2.120353   \n13  dummy_constant   8.806715   6.515432  [1, 2, 3]  0.644713  3.048429   \n14  dummy_constant  14.347826  10.366960  [1, 2, 3]  2.928267  2.614351   \n15  dummy_constant  12.015303   8.525769  [1, 2, 3]  3.100980  1.826902   \n16  dummy_constant   6.321316   4.208592  [1, 2, 3]  1.227717  2.418077   \n17  dummy_constant  14.580048  10.528831  [1, 2, 3]  3.039037  2.520426   \n18  dummy_constant  -0.401197   0.123742  [1, 2, 3]  0.274462  0.769953   \n19  dummy_constant   6.024469   3.802855  [1, 2, 3]  1.704556  2.033590   \n20  dummy_constant   7.953015   5.477710  [1, 2, 3]  2.686572  1.334635   \n\n          x9 xopt_error xopt_error_str        y1        y2  \n1   1.533996      False                 1.533996  1.824156  \n10  0.577269      False                 0.577269  0.039562  \n2   2.685509      False                 2.685509  1.184073  \n3   2.328872      False                 2.328872  1.841149  \n4   1.562684      False                 1.562684  0.031481  \n5   3.000860      False                 3.000860  0.158189  \n6   0.049085      False                 0.049085  2.212747  \n7   0.994366      False                 0.994366  0.311424  \n8   1.644203      False                 1.644203  1.934044  \n9   1.701042      False                 1.701042  0.425290  \n11  0.290938      False                 0.290938  1.712577  \n12  0.038449      False                 0.038449  2.120353  \n13  0.644713      False                 0.644713  3.048429  \n14  2.928267      False                 2.928267  2.614351  \n15  3.100980      False                 3.100980  1.826902  \n16  1.227717      False                 1.227717  2.418077  \n17  3.039037      False                 3.039037  2.520426  \n18  0.274462      False                 0.274462  0.769953  \n19  1.704556      False                 1.704556  2.033590  \n20  2.686572      False                 2.686572  1.334635  ",
      "text/html": "<div>\n<style scoped>\n    .dataframe tbody tr th:only-of-type {\n        vertical-align: middle;\n    }\n\n    .dataframe tbody tr th {\n        vertical-align: top;\n    }\n\n    .dataframe thead th {\n        text-align: right;\n    }\n</style>\n<table border=\"1\" class=\"dataframe\">\n  <thead>\n    <tr style=\"text-align: right;\">\n      <th></th>\n      <th>a</th>\n      <th>c1</th>\n      <th>c2</th>\n      <th>some_array</th>\n      <th>x1</th>\n      <th>x2</th>\n      <th>x9</th>\n      <th>xopt_error</th>\n      <th>xopt_error_str</th>\n      <th>y1</th>\n      <th>y2</th>\n    </tr>\n  </thead>\n  <tbody>\n    <tr>\n      <th>1</th>\n      <td>dummy_constant</td>\n      <td>4.661633</td>\n      <td>2.822538</td>\n      <td>[1, 2, 3]</td>\n      <td>1.533996</td>\n      <td>1.824156</td>\n      <td>1.533996</td>\n      <td>False</td>\n      <td></td>\n      <td>1.533996</td>\n      <td>1.824156</td>\n    </tr>\n    <tr>\n      <th>10</th>\n      <td>dummy_constant</td>\n      <td>-0.711016</td>\n      <td>0.217974</td>\n      <td>[1, 2, 3]</td>\n      <td>0.577269</td>\n      <td>0.039562</td>\n      <td>0.577269</td>\n      <td>False</td>\n      <td></td>\n      <td>0.577269</td>\n      <td>0.039562</td>\n    </tr>\n    <tr>\n      <th>2</th>\n      <td>dummy_constant</td>\n      <td>7.520436</td>\n      <td>5.244404</td>\n      <td>[1, 2, 3]</td>\n      <td>2.685509</td>\n      <td>1.184073</td>\n      <td>2.685509</td>\n      <td>False</td>\n      <td></td>\n      <td>2.685509</td>\n      <td>1.184073</td>\n    </tr>\n    <tr>\n      <th>3</th>\n      <td>dummy_constant</td>\n      <td>7.842269</td>\n      <td>5.143453</td>\n      <td>[1, 2, 3]</td>\n      <td>2.328872</td>\n      <td>1.841149</td>\n      <td>2.328872</td>\n      <td>False</td>\n      <td></td>\n      <td>2.328872</td>\n      <td>1.841149</td>\n    </tr>\n    <tr>\n      <th>4</th>\n      <td>dummy_constant</td>\n      <td>1.348121</td>\n      <td>1.348807</td>\n      <td>[1, 2, 3]</td>\n      <td>1.562684</td>\n      <td>0.031481</td>\n      <td>1.562684</td>\n      <td>False</td>\n      <td></td>\n      <td>1.562684</td>\n      <td>0.031481</td>\n    </tr>\n    <tr>\n      <th>5</th>\n      <td>dummy_constant</td>\n      <td>7.963637</td>\n      <td>6.371136</td>\n      <td>[1, 2, 3]</td>\n      <td>3.000860</td>\n      <td>0.158189</td>\n      <td>3.000860</td>\n      <td>False</td>\n      <td></td>\n      <td>3.000860</td>\n      <td>0.158189</td>\n    </tr>\n    <tr>\n      <th>6</th>\n      <td>dummy_constant</td>\n      <td>3.804890</td>\n      <td>3.136827</td>\n      <td>[1, 2, 3]</td>\n      <td>0.049085</td>\n      <td>2.212747</td>\n      <td>0.049085</td>\n      <td>False</td>\n      <td></td>\n      <td>0.049085</td>\n      <td>2.212747</td>\n    </tr>\n    <tr>\n      <th>7</th>\n      <td>dummy_constant</td>\n      <td>0.071418</td>\n      <td>0.279959</td>\n      <td>[1, 2, 3]</td>\n      <td>0.994366</td>\n      <td>0.311424</td>\n      <td>0.994366</td>\n      <td>False</td>\n      <td></td>\n      <td>0.994366</td>\n      <td>0.311424</td>\n    </tr>\n    <tr>\n      <th>8</th>\n      <td>dummy_constant</td>\n      <td>5.416526</td>\n      <td>3.365684</td>\n      <td>[1, 2, 3]</td>\n      <td>1.644203</td>\n      <td>1.934044</td>\n      <td>1.644203</td>\n      <td>False</td>\n      <td></td>\n      <td>1.644203</td>\n      <td>1.934044</td>\n    </tr>\n    <tr>\n      <th>9</th>\n      <td>dummy_constant</td>\n      <td>2.145626</td>\n      <td>1.448085</td>\n      <td>[1, 2, 3]</td>\n      <td>1.701042</td>\n      <td>0.425290</td>\n      <td>1.701042</td>\n      <td>False</td>\n      <td></td>\n      <td>1.701042</td>\n      <td>0.425290</td>\n    </tr>\n    <tr>\n      <th>11</th>\n      <td>dummy_constant</td>\n      <td>2.107644</td>\n      <td>1.514049</td>\n      <td>[1, 2, 3]</td>\n      <td>0.290938</td>\n      <td>1.712577</td>\n      <td>0.290938</td>\n      <td>False</td>\n      <td></td>\n      <td>0.290938</td>\n      <td>1.712577</td>\n    </tr>\n    <tr>\n      <th>12</th>\n      <td>dummy_constant</td>\n      <td>3.401553</td>\n      <td>2.838572</td>\n      <td>[1, 2, 3]</td>\n      <td>0.038449</td>\n      <td>2.120353</td>\n      <td>0.038449</td>\n      <td>False</td>\n      <td></td>\n      <td>0.038449</td>\n      <td>2.120353</td>\n    </tr>\n    <tr>\n      <th>13</th>\n      <td>dummy_constant</td>\n      <td>8.806715</td>\n      <td>6.515432</td>\n      <td>[1, 2, 3]</td>\n      <td>0.644713</td>\n      <td>3.048429</td>\n      <td>0.644713</td>\n      <td>False</td>\n      <td></td>\n      <td>0.644713</td>\n      <td>3.048429</td>\n    </tr>\n    <tr>\n      <th>14</th>\n      <td>dummy_constant</td>\n      <td>14.347826</td>\n      <td>10.366960</td>\n      <td>[1, 2, 3]</td>\n      <td>2.928267</td>\n      <td>2.614351</td>\n      <td>2.928267</td>\n      <td>False</td>\n      <td></td>\n      <td>2.928267</td>\n      <td>2.614351</td>\n    </tr>\n    <tr>\n      <th>15</th>\n      <td>dummy_constant</td>\n      <td>12.015303</td>\n      <td>8.525769</td>\n      <td>[1, 2, 3]</td>\n      <td>3.100980</td>\n      <td>1.826902</td>\n      <td>3.100980</td>\n      <td>False</td>\n      <td></td>\n      <td>3.100980</td>\n      <td>1.826902</td>\n    </tr>\n    <tr>\n      <th>16</th>\n      <td>dummy_constant</td>\n      <td>6.321316</td>\n      <td>4.208592</td>\n      <td>[1, 2, 3]</td>\n      <td>1.227717</td>\n      <td>2.418077</td>\n      <td>1.227717</td>\n      <td>False</td>\n      <td></td>\n      <td>1.227717</td>\n      <td>2.418077</td>\n    </tr>\n    <tr>\n      <th>17</th>\n      <td>dummy_constant</td>\n      <td>14.580048</td>\n      <td>10.528831</td>\n      <td>[1, 2, 3]</td>\n      <td>3.039037</td>\n      <td>2.520426</td>\n      <td>3.039037</td>\n      <td>False</td>\n      <td></td>\n      <td>3.039037</td>\n      <td>2.520426</td>\n    </tr>\n    <tr>\n      <th>18</th>\n      <td>dummy_constant</td>\n      <td>-0.401197</td>\n      <td>0.123742</td>\n      <td>[1, 2, 3]</td>\n      <td>0.274462</td>\n      <td>0.769953</td>\n      <td>0.274462</td>\n      <td>False</td>\n      <td></td>\n      <td>0.274462</td>\n      <td>0.769953</td>\n    </tr>\n    <tr>\n      <th>19</th>\n      <td>dummy_constant</td>\n      <td>6.024469</td>\n      <td>3.802855</td>\n      <td>[1, 2, 3]</td>\n      <td>1.704556</td>\n      <td>2.033590</td>\n      <td>1.704556</td>\n      <td>False</td>\n      <td></td>\n      <td>1.704556</td>\n      <td>2.033590</td>\n    </tr>\n    <tr>\n      <th>20</th>\n      <td>dummy_constant</td>\n      <td>7.953015</td>\n      <td>5.477710</td>\n      <td>[1, 2, 3]</td>\n      <td>2.686572</td>\n      <td>1.334635</td>\n      <td>2.686572</td>\n      <td>False</td>\n      <td></td>\n      <td>2.686572</td>\n      <td>1.334635</td>\n    </tr>\n  </tbody>\n</table>\n</div>"
     },
     "execution_count": 19,
     "metadata": {},
     "output_type": "execute_result"
    }
   ],
   "source": [
    "for _ in range(10):\n",
    "    X2.step()\n",
    "\n",
    "X2.data"
   ],
   "metadata": {
    "collapsed": false,
    "pycharm": {
     "name": "#%%\n"
    }
   }
  },
  {
   "cell_type": "code",
   "execution_count": 19,
   "outputs": [],
   "source": [],
   "metadata": {
    "collapsed": false,
    "pycharm": {
     "name": "#%%\n"
    }
   }
  }
 ],
 "metadata": {
  "kernelspec": {
   "display_name": "Python 3",
   "language": "python",
   "name": "python3"
  },
  "language_info": {
   "codemirror_mode": {
    "name": "ipython",
    "version": 2
   },
   "file_extension": ".py",
   "mimetype": "text/x-python",
   "name": "python",
   "nbconvert_exporter": "python",
   "pygments_lexer": "ipython2",
   "version": "2.7.6"
  }
 },
 "nbformat": 4,
 "nbformat_minor": 0
}