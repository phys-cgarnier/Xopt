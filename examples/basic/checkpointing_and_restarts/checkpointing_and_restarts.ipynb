{
 "cells": [
  {
   "cell_type": "markdown",
   "metadata": {
    "collapsed": false
   },
   "source": [
    "# Checkpointing and Restarts\n",
    "If `dump_file` is provided Xopt will save the data and the Xopt configuration in a\n",
    "yaml file. This can be used directly to create a new Xopt object."
   ]
  },
  {
   "cell_type": "code",
   "execution_count": 1,
   "metadata": {
    "collapsed": false,
    "execution": {
     "iopub.execute_input": "2022-07-02T04:16:24.059517Z",
     "iopub.status.busy": "2022-07-02T04:16:24.059152Z",
     "iopub.status.idle": "2022-07-02T04:16:24.728959Z",
     "shell.execute_reply": "2022-07-02T04:16:24.728499Z"
    },
    "ExecuteTime": {
     "end_time": "2023-09-08T16:40:24.110062800Z",
     "start_time": "2023-09-08T16:40:20.489627400Z"
    }
   },
   "outputs": [],
   "source": [
    "# Import the class\n",
    "from xopt import Xopt\n",
    "\n",
    "# Make a proper input file.\n",
    "YAML = \"\"\"\n",
    "dump_file: dump.yml\n",
    "generator:\n",
    "    name: random\n",
    "\n",
    "evaluator:\n",
    "    function: xopt.resources.test_functions.tnk.evaluate_TNK\n",
    "    function_kwargs:\n",
    "        a: 999\n",
    "\n",
    "vocs:\n",
    "    variables:\n",
    "        x1: [0, 3.14159]\n",
    "        x2: [0, 3.14159]\n",
    "    objectives: {y1: MINIMIZE, y2: MINIMIZE}\n",
    "    constraints:\n",
    "        c1: [GREATER_THAN, 0]\n",
    "        c2: [LESS_THAN, 0.5]\n",
    "    constants: {a: dummy_constant}\n",
    "\n",
    "\"\"\""
   ]
  },
  {
   "cell_type": "markdown",
   "metadata": {
    "collapsed": false
   },
   "source": [
    "## Checkpoints\n",
    "Since we specified a dump file Xopt will dump the data and all of the options\n",
    "required to create a new Xopt object that continues the run."
   ]
  },
  {
   "cell_type": "code",
   "execution_count": 2,
   "metadata": {
    "collapsed": false,
    "execution": {
     "iopub.execute_input": "2022-07-02T04:16:24.731290Z",
     "iopub.status.busy": "2022-07-02T04:16:24.730930Z",
     "iopub.status.idle": "2022-07-02T04:16:24.827500Z",
     "shell.execute_reply": "2022-07-02T04:16:24.827230Z"
    },
    "ExecuteTime": {
     "end_time": "2023-09-08T16:40:24.244822300Z",
     "start_time": "2023-09-08T16:40:24.110062800Z"
    }
   },
   "outputs": [
    {
     "data": {
      "text/plain": "          x1        x2        y1        y2        c1        c2  xopt_runtime  \\\n0   0.286206  0.151241  0.286206  0.151241 -0.902786  0.167341      0.000029   \n2   1.775864  2.115075  1.775864  2.115075  6.609385  4.236294      0.000016   \n3   2.583404  0.397956  2.583404  0.397956  5.909079  4.350985      0.000016   \n4   2.433803  0.479955  2.433803  0.479955  5.253718  3.739994      0.000018   \n5   0.801507  2.500424  0.801507  2.500424  5.869716  4.092604      0.000016   \n6   0.684958  0.473463  0.684958  0.473463 -0.209830  0.034914      0.000016   \n7   1.501856  2.778796  1.501856  2.778796  8.984668  6.196626      0.000015   \n8   1.662439  1.067554  1.662439  1.067554  2.999165  1.673383      0.000014   \n9   2.208334  0.457818  2.208334  0.457818  4.185503  2.920184      0.000014   \n10  1.339969  2.253635  1.339969  2.253635  5.940989  3.780785      0.000014   \n\n    xopt_error  \n0        False  \n2        False  \n3        False  \n4        False  \n5        False  \n6        False  \n7        False  \n8        False  \n9        False  \n10       False  ",
      "text/html": "<div>\n<style scoped>\n    .dataframe tbody tr th:only-of-type {\n        vertical-align: middle;\n    }\n\n    .dataframe tbody tr th {\n        vertical-align: top;\n    }\n\n    .dataframe thead th {\n        text-align: right;\n    }\n</style>\n<table border=\"1\" class=\"dataframe\">\n  <thead>\n    <tr style=\"text-align: right;\">\n      <th></th>\n      <th>x1</th>\n      <th>x2</th>\n      <th>y1</th>\n      <th>y2</th>\n      <th>c1</th>\n      <th>c2</th>\n      <th>xopt_runtime</th>\n      <th>xopt_error</th>\n    </tr>\n  </thead>\n  <tbody>\n    <tr>\n      <th>0</th>\n      <td>0.286206</td>\n      <td>0.151241</td>\n      <td>0.286206</td>\n      <td>0.151241</td>\n      <td>-0.902786</td>\n      <td>0.167341</td>\n      <td>0.000029</td>\n      <td>False</td>\n    </tr>\n    <tr>\n      <th>2</th>\n      <td>1.775864</td>\n      <td>2.115075</td>\n      <td>1.775864</td>\n      <td>2.115075</td>\n      <td>6.609385</td>\n      <td>4.236294</td>\n      <td>0.000016</td>\n      <td>False</td>\n    </tr>\n    <tr>\n      <th>3</th>\n      <td>2.583404</td>\n      <td>0.397956</td>\n      <td>2.583404</td>\n      <td>0.397956</td>\n      <td>5.909079</td>\n      <td>4.350985</td>\n      <td>0.000016</td>\n      <td>False</td>\n    </tr>\n    <tr>\n      <th>4</th>\n      <td>2.433803</td>\n      <td>0.479955</td>\n      <td>2.433803</td>\n      <td>0.479955</td>\n      <td>5.253718</td>\n      <td>3.739994</td>\n      <td>0.000018</td>\n      <td>False</td>\n    </tr>\n    <tr>\n      <th>5</th>\n      <td>0.801507</td>\n      <td>2.500424</td>\n      <td>0.801507</td>\n      <td>2.500424</td>\n      <td>5.869716</td>\n      <td>4.092604</td>\n      <td>0.000016</td>\n      <td>False</td>\n    </tr>\n    <tr>\n      <th>6</th>\n      <td>0.684958</td>\n      <td>0.473463</td>\n      <td>0.684958</td>\n      <td>0.473463</td>\n      <td>-0.209830</td>\n      <td>0.034914</td>\n      <td>0.000016</td>\n      <td>False</td>\n    </tr>\n    <tr>\n      <th>7</th>\n      <td>1.501856</td>\n      <td>2.778796</td>\n      <td>1.501856</td>\n      <td>2.778796</td>\n      <td>8.984668</td>\n      <td>6.196626</td>\n      <td>0.000015</td>\n      <td>False</td>\n    </tr>\n    <tr>\n      <th>8</th>\n      <td>1.662439</td>\n      <td>1.067554</td>\n      <td>1.662439</td>\n      <td>1.067554</td>\n      <td>2.999165</td>\n      <td>1.673383</td>\n      <td>0.000014</td>\n      <td>False</td>\n    </tr>\n    <tr>\n      <th>9</th>\n      <td>2.208334</td>\n      <td>0.457818</td>\n      <td>2.208334</td>\n      <td>0.457818</td>\n      <td>4.185503</td>\n      <td>2.920184</td>\n      <td>0.000014</td>\n      <td>False</td>\n    </tr>\n    <tr>\n      <th>10</th>\n      <td>1.339969</td>\n      <td>2.253635</td>\n      <td>1.339969</td>\n      <td>2.253635</td>\n      <td>5.940989</td>\n      <td>3.780785</td>\n      <td>0.000014</td>\n      <td>False</td>\n    </tr>\n  </tbody>\n</table>\n</div>"
     },
     "execution_count": 2,
     "metadata": {},
     "output_type": "execute_result"
    }
   ],
   "source": [
    "# create Xopt object.\n",
    "X = Xopt.from_yaml(YAML)\n",
    "\n",
    "# take 10 steps and view data\n",
    "for _ in range(10):\n",
    "    X.step()\n",
    "\n",
    "X.data"
   ]
  },
  {
   "cell_type": "markdown",
   "metadata": {
    "collapsed": false
   },
   "source": [
    "## Create Xopt object from dump file"
   ]
  },
  {
   "cell_type": "code",
   "execution_count": 3,
   "metadata": {
    "collapsed": false,
    "execution": {
     "iopub.execute_input": "2022-07-02T04:16:24.840404Z",
     "iopub.status.busy": "2022-07-02T04:16:24.840276Z",
     "iopub.status.idle": "2022-07-02T04:16:24.856388Z",
     "shell.execute_reply": "2022-07-02T04:16:24.856138Z"
    },
    "ExecuteTime": {
     "end_time": "2023-09-08T16:40:24.303577600Z",
     "start_time": "2023-09-08T16:40:24.244822300Z"
    }
   },
   "outputs": [
    {
     "data": {
      "text/plain": "\n            Xopt\n________________________________\nVersion: 2.0a1+100.g89dee96.dirty\nData size: 10\nConfig as YAML:\ndump_file: dump.yml\nevaluator:\n  function: !!python/name:xopt.resources.test_functions.tnk.evaluate_TNK ''\n  function_kwargs:\n    a: 999\n    raise_probability: 0\n    random_sleep: 0\n    sleep: 0\n  max_workers: 1\n  vectorized: false\ngenerator:\n  name: random\nmax_evaluations: null\nserialize_torch: false\nstrict: true\nvocs:\n  constants:\n    a: dummy_constant\n  constraints:\n    c1:\n    - GREATER_THAN\n    - 0.0\n    c2:\n    - LESS_THAN\n    - 0.5\n  objectives:\n    y1: MINIMIZE\n    y2: MINIMIZE\n  observables: []\n  variables:\n    x1:\n    - 0.0\n    - 3.14159\n    x2:\n    - 0.0\n    - 3.14159\n"
     },
     "execution_count": 3,
     "metadata": {},
     "output_type": "execute_result"
    }
   ],
   "source": [
    "X2 = Xopt.from_file(\"dump.yml\")\n",
    "X2"
   ]
  },
  {
   "cell_type": "code",
   "execution_count": 4,
   "metadata": {
    "collapsed": false,
    "execution": {
     "iopub.execute_input": "2022-07-02T04:16:24.857845Z",
     "iopub.status.busy": "2022-07-02T04:16:24.857744Z",
     "iopub.status.idle": "2022-07-02T04:16:25.001169Z",
     "shell.execute_reply": "2022-07-02T04:16:25.000896Z"
    },
    "ExecuteTime": {
     "end_time": "2023-09-08T16:40:24.443390200Z",
     "start_time": "2023-09-08T16:40:24.275927200Z"
    }
   },
   "outputs": [
    {
     "data": {
      "text/plain": "           c1        c2        x1        x2  xopt_error  xopt_runtime  \\\n0   -0.902786  0.167341  0.286206  0.151241       False      0.000029   \n10   5.940989  3.780785  1.339969  2.253635       False      0.000014   \n2    6.609385  4.236294  1.775864  2.115075       False      0.000016   \n3    5.909079  4.350985  2.583404  0.397956       False      0.000016   \n4    5.253718  3.739994  2.433803  0.479955       False      0.000018   \n5    5.869716  4.092604  0.801507  2.500424       False      0.000016   \n6   -0.209830  0.034914  0.684958  0.473463       False      0.000016   \n7    8.984668  6.196626  1.501856  2.778796       False      0.000015   \n8    2.999165  1.673383  1.662439  1.067554       False      0.000014   \n9    4.185503  2.920184  2.208334  0.457818       False      0.000014   \n11   0.633430  0.364157  0.629427  1.089411       False      0.000024   \n12  13.838304  9.891601  2.255657  3.109458       False      0.000020   \n13   0.068146  0.213906  0.459332  0.960708       False      0.000019   \n14   6.989040  4.985781  0.736704  2.720304       False      0.000020   \n15  -0.321609  0.036633  0.402038  0.664428       False      0.000021   \n16  -0.395540  0.170213  0.696857  0.137426       False      0.000022   \n17   6.259869  4.742497  2.669968  0.316326       False      0.000023   \n18   5.523124  3.732237  1.028281  2.358267       False      0.000022   \n19   7.991844  5.935118  0.525372  2.936078       False      0.000020   \n20   8.060628  5.370515  2.214564  2.059097       False      0.000019   \n\n          y1        y2  \n0   0.286206  0.151241  \n10  1.339969  2.253635  \n2   1.775864  2.115075  \n3   2.583404  0.397956  \n4   2.433803  0.479955  \n5   0.801507  2.500424  \n6   0.684958  0.473463  \n7   1.501856  2.778796  \n8   1.662439  1.067554  \n9   2.208334  0.457818  \n11  0.629427  1.089411  \n12  2.255657  3.109458  \n13  0.459332  0.960708  \n14  0.736704  2.720304  \n15  0.402038  0.664428  \n16  0.696857  0.137426  \n17  2.669968  0.316326  \n18  1.028281  2.358267  \n19  0.525372  2.936078  \n20  2.214564  2.059097  ",
      "text/html": "<div>\n<style scoped>\n    .dataframe tbody tr th:only-of-type {\n        vertical-align: middle;\n    }\n\n    .dataframe tbody tr th {\n        vertical-align: top;\n    }\n\n    .dataframe thead th {\n        text-align: right;\n    }\n</style>\n<table border=\"1\" class=\"dataframe\">\n  <thead>\n    <tr style=\"text-align: right;\">\n      <th></th>\n      <th>c1</th>\n      <th>c2</th>\n      <th>x1</th>\n      <th>x2</th>\n      <th>xopt_error</th>\n      <th>xopt_runtime</th>\n      <th>y1</th>\n      <th>y2</th>\n    </tr>\n  </thead>\n  <tbody>\n    <tr>\n      <th>0</th>\n      <td>-0.902786</td>\n      <td>0.167341</td>\n      <td>0.286206</td>\n      <td>0.151241</td>\n      <td>False</td>\n      <td>0.000029</td>\n      <td>0.286206</td>\n      <td>0.151241</td>\n    </tr>\n    <tr>\n      <th>10</th>\n      <td>5.940989</td>\n      <td>3.780785</td>\n      <td>1.339969</td>\n      <td>2.253635</td>\n      <td>False</td>\n      <td>0.000014</td>\n      <td>1.339969</td>\n      <td>2.253635</td>\n    </tr>\n    <tr>\n      <th>2</th>\n      <td>6.609385</td>\n      <td>4.236294</td>\n      <td>1.775864</td>\n      <td>2.115075</td>\n      <td>False</td>\n      <td>0.000016</td>\n      <td>1.775864</td>\n      <td>2.115075</td>\n    </tr>\n    <tr>\n      <th>3</th>\n      <td>5.909079</td>\n      <td>4.350985</td>\n      <td>2.583404</td>\n      <td>0.397956</td>\n      <td>False</td>\n      <td>0.000016</td>\n      <td>2.583404</td>\n      <td>0.397956</td>\n    </tr>\n    <tr>\n      <th>4</th>\n      <td>5.253718</td>\n      <td>3.739994</td>\n      <td>2.433803</td>\n      <td>0.479955</td>\n      <td>False</td>\n      <td>0.000018</td>\n      <td>2.433803</td>\n      <td>0.479955</td>\n    </tr>\n    <tr>\n      <th>5</th>\n      <td>5.869716</td>\n      <td>4.092604</td>\n      <td>0.801507</td>\n      <td>2.500424</td>\n      <td>False</td>\n      <td>0.000016</td>\n      <td>0.801507</td>\n      <td>2.500424</td>\n    </tr>\n    <tr>\n      <th>6</th>\n      <td>-0.209830</td>\n      <td>0.034914</td>\n      <td>0.684958</td>\n      <td>0.473463</td>\n      <td>False</td>\n      <td>0.000016</td>\n      <td>0.684958</td>\n      <td>0.473463</td>\n    </tr>\n    <tr>\n      <th>7</th>\n      <td>8.984668</td>\n      <td>6.196626</td>\n      <td>1.501856</td>\n      <td>2.778796</td>\n      <td>False</td>\n      <td>0.000015</td>\n      <td>1.501856</td>\n      <td>2.778796</td>\n    </tr>\n    <tr>\n      <th>8</th>\n      <td>2.999165</td>\n      <td>1.673383</td>\n      <td>1.662439</td>\n      <td>1.067554</td>\n      <td>False</td>\n      <td>0.000014</td>\n      <td>1.662439</td>\n      <td>1.067554</td>\n    </tr>\n    <tr>\n      <th>9</th>\n      <td>4.185503</td>\n      <td>2.920184</td>\n      <td>2.208334</td>\n      <td>0.457818</td>\n      <td>False</td>\n      <td>0.000014</td>\n      <td>2.208334</td>\n      <td>0.457818</td>\n    </tr>\n    <tr>\n      <th>11</th>\n      <td>0.633430</td>\n      <td>0.364157</td>\n      <td>0.629427</td>\n      <td>1.089411</td>\n      <td>False</td>\n      <td>0.000024</td>\n      <td>0.629427</td>\n      <td>1.089411</td>\n    </tr>\n    <tr>\n      <th>12</th>\n      <td>13.838304</td>\n      <td>9.891601</td>\n      <td>2.255657</td>\n      <td>3.109458</td>\n      <td>False</td>\n      <td>0.000020</td>\n      <td>2.255657</td>\n      <td>3.109458</td>\n    </tr>\n    <tr>\n      <th>13</th>\n      <td>0.068146</td>\n      <td>0.213906</td>\n      <td>0.459332</td>\n      <td>0.960708</td>\n      <td>False</td>\n      <td>0.000019</td>\n      <td>0.459332</td>\n      <td>0.960708</td>\n    </tr>\n    <tr>\n      <th>14</th>\n      <td>6.989040</td>\n      <td>4.985781</td>\n      <td>0.736704</td>\n      <td>2.720304</td>\n      <td>False</td>\n      <td>0.000020</td>\n      <td>0.736704</td>\n      <td>2.720304</td>\n    </tr>\n    <tr>\n      <th>15</th>\n      <td>-0.321609</td>\n      <td>0.036633</td>\n      <td>0.402038</td>\n      <td>0.664428</td>\n      <td>False</td>\n      <td>0.000021</td>\n      <td>0.402038</td>\n      <td>0.664428</td>\n    </tr>\n    <tr>\n      <th>16</th>\n      <td>-0.395540</td>\n      <td>0.170213</td>\n      <td>0.696857</td>\n      <td>0.137426</td>\n      <td>False</td>\n      <td>0.000022</td>\n      <td>0.696857</td>\n      <td>0.137426</td>\n    </tr>\n    <tr>\n      <th>17</th>\n      <td>6.259869</td>\n      <td>4.742497</td>\n      <td>2.669968</td>\n      <td>0.316326</td>\n      <td>False</td>\n      <td>0.000023</td>\n      <td>2.669968</td>\n      <td>0.316326</td>\n    </tr>\n    <tr>\n      <th>18</th>\n      <td>5.523124</td>\n      <td>3.732237</td>\n      <td>1.028281</td>\n      <td>2.358267</td>\n      <td>False</td>\n      <td>0.000022</td>\n      <td>1.028281</td>\n      <td>2.358267</td>\n    </tr>\n    <tr>\n      <th>19</th>\n      <td>7.991844</td>\n      <td>5.935118</td>\n      <td>0.525372</td>\n      <td>2.936078</td>\n      <td>False</td>\n      <td>0.000020</td>\n      <td>0.525372</td>\n      <td>2.936078</td>\n    </tr>\n    <tr>\n      <th>20</th>\n      <td>8.060628</td>\n      <td>5.370515</td>\n      <td>2.214564</td>\n      <td>2.059097</td>\n      <td>False</td>\n      <td>0.000019</td>\n      <td>2.214564</td>\n      <td>2.059097</td>\n    </tr>\n  </tbody>\n</table>\n</div>"
     },
     "execution_count": 4,
     "metadata": {},
     "output_type": "execute_result"
    }
   ],
   "source": [
    "for _ in range(10):\n",
    "    X2.step()\n",
    "\n",
    "X2.data"
   ]
  },
  {
   "cell_type": "code",
   "execution_count": 4,
   "metadata": {
    "collapsed": false,
    "ExecuteTime": {
     "end_time": "2023-09-08T16:40:24.459127900Z",
     "start_time": "2023-09-08T16:40:24.443390200Z"
    }
   },
   "outputs": [],
   "source": [
    "# clean up\n"
   ]
  }
 ],
 "metadata": {
  "kernelspec": {
   "display_name": "Python 3",
   "language": "python",
   "name": "python3"
  },
  "language_info": {
   "codemirror_mode": {
    "name": "ipython",
    "version": 3
   },
   "file_extension": ".py",
   "mimetype": "text/x-python",
   "name": "python",
   "nbconvert_exporter": "python",
   "pygments_lexer": "ipython3",
   "version": "3.9.13"
  }
 },
 "nbformat": 4,
 "nbformat_minor": 0
}
