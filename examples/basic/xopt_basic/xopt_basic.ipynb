{
 "cells": [
  {
   "cell_type": "markdown",
   "metadata": {},
   "source": [
    "# Xopt basic example\n",
    "\n",
    "An Xopt problem can be described by a simple YAML file. Here we will demonstrate how this is used to optimize a well-known constrained multi-objective test function, TNK. The TNK function is defined with:\n",
    "\n",
    "$n=2$ variables:\n",
    "$x_i \\in [0, \\pi], i=1,2$\n",
    "\n",
    "Objectives:\n",
    "- $f_i(x) = x_i$\n",
    "\n",
    "Constraints:\n",
    "- $g_1(x) = -x_1^2 -x_2^2 + 1 + 0.1 \\cos\\left(16 \\arctan \\frac{x_1}{x_2}\\right) \\le 0$\n",
    "- $g_2(x) = (x_1 - 1/2)^2 + (x_2-1/2)^2 \\le 0.5$"
   ]
  },
  {
   "cell_type": "code",
   "execution_count": 1,
   "metadata": {
    "execution": {
     "iopub.execute_input": "2023-07-27T16:44:09.379359Z",
     "iopub.status.busy": "2023-07-27T16:44:09.379029Z",
     "iopub.status.idle": "2023-07-27T16:44:11.827280Z",
     "shell.execute_reply": "2023-07-27T16:44:11.825842Z"
    }
   },
   "outputs": [],
   "source": [
    "# Import the class\n",
    "from xopt import Xopt"
   ]
  },
  {
   "cell_type": "code",
   "execution_count": 2,
   "metadata": {
    "execution": {
     "iopub.execute_input": "2023-07-27T16:44:11.832512Z",
     "iopub.status.busy": "2023-07-27T16:44:11.831650Z",
     "iopub.status.idle": "2023-07-27T16:44:11.838510Z",
     "shell.execute_reply": "2023-07-27T16:44:11.837794Z"
    }
   },
   "outputs": [],
   "source": [
    "# Nicer plotting\n",
    "%config InlineBackend.figure_format = 'retina'"
   ]
  },
  {
   "cell_type": "markdown",
   "metadata": {
    "collapsed": false
   },
   "source": [
    "## Xopt Components\n",
    "The definition of the Xopt object requires 4 parts, listed below:\n",
    "- The `Xopt` object itself, which controlls data flow, stores data and governs data\n",
    "loading and saving.\n",
    "- The `Evaluator` object, which evaluates input points using the arbitrary function\n",
    "specified by the `function` property.\n",
    "- The `Generator` object, which, when given data that has been evaluated, generates\n",
    "future points to evaluate using the evaluator.\n",
    "- The `VOCS` (variables, objectives, constraints, statics) object, which specifies the\n",
    "input domain, the objectives, constraints and constants passed to the evaluator\n",
    "function.\n",
    "\n",
    "Through the YAML interface these objects and their options are specified by name. \n",
    "Here we will make one:"
   ]
  },
  {
   "cell_type": "code",
   "execution_count": 3,
   "metadata": {
    "collapsed": false,
    "execution": {
     "iopub.execute_input": "2023-07-27T16:44:11.841911Z",
     "iopub.status.busy": "2023-07-27T16:44:11.841659Z",
     "iopub.status.idle": "2023-07-27T16:44:11.845939Z",
     "shell.execute_reply": "2023-07-27T16:44:11.845072Z"
    }
   },
   "outputs": [],
   "source": [
    "# Make a proper input file.\n",
    "YAML = \"\"\"\n",
    "xopt: {}\n",
    "evaluator:\n",
    "    function: xopt.resources.test_functions.tnk.evaluate_TNK\n",
    "    function_kwargs:\n",
    "        a: 999\n",
    "\n",
    "generator:\n",
    "    name: random\n",
    "\n",
    "vocs:\n",
    "    variables:\n",
    "        x1: [0, 3.14159]\n",
    "        x2: [0, 3.14159]\n",
    "    objectives: {y1: MINIMIZE, y2: MINIMIZE}\n",
    "    constraints:\n",
    "        c1: [GREATER_THAN, 0]\n",
    "        c2: [LESS_THAN, 0.5]\n",
    "    constants: {a: dummy_constant}\n",
    "\n",
    "\"\"\""
   ]
  },
  {
   "cell_type": "code",
   "execution_count": 4,
   "metadata": {
    "collapsed": false,
    "execution": {
     "iopub.execute_input": "2023-07-27T16:44:11.849210Z",
     "iopub.status.busy": "2023-07-27T16:44:11.848956Z",
     "iopub.status.idle": "2023-07-27T16:44:11.868256Z",
     "shell.execute_reply": "2023-07-27T16:44:11.867415Z"
    }
   },
   "outputs": [],
   "source": [
    "# create Xopt object.\n",
    "X = Xopt(YAML)"
   ]
  },
  {
   "cell_type": "code",
   "execution_count": 5,
   "metadata": {
    "execution": {
     "iopub.execute_input": "2023-07-27T16:44:11.871813Z",
     "iopub.status.busy": "2023-07-27T16:44:11.871563Z",
     "iopub.status.idle": "2023-07-27T16:44:11.882942Z",
     "shell.execute_reply": "2023-07-27T16:44:11.882261Z"
    }
   },
   "outputs": [
    {
     "data": {
      "text/plain": [
       "\n",
       "            Xopt\n",
       "________________________________\n",
       "Version: 0+untagged.1.g5bf8d78\n",
       "Data size: 0\n",
       "Config as YAML:\n",
       "xopt: {asynch: false, strict: true, dump_file: null, max_evaluations: null}\n",
       "generator: {name: random}\n",
       "evaluator:\n",
       "  function: xopt.resources.test_functions.tnk.evaluate_TNK\n",
       "  max_workers: 1\n",
       "  function_kwargs: {sleep: 0, random_sleep: 0, raise_probability: 0, a: 999}\n",
       "  vectorized: false\n",
       "vocs:\n",
       "  variables:\n",
       "    x1: [0.0, 3.14159]\n",
       "    x2: [0.0, 3.14159]\n",
       "  constraints:\n",
       "    c1: [GREATER_THAN, 0.0]\n",
       "    c2: [LESS_THAN, 0.5]\n",
       "  objectives: {y1: MINIMIZE, y2: MINIMIZE}\n",
       "  constants: {a: dummy_constant}\n",
       "  observables: []\n"
      ]
     },
     "execution_count": 5,
     "metadata": {},
     "output_type": "execute_result"
    }
   ],
   "source": [
    "# Convenient representation of the state.\n",
    "X"
   ]
  },
  {
   "cell_type": "code",
   "execution_count": 6,
   "metadata": {
    "execution": {
     "iopub.execute_input": "2023-07-27T16:44:11.929867Z",
     "iopub.status.busy": "2023-07-27T16:44:11.929331Z",
     "iopub.status.idle": "2023-07-27T16:44:11.961573Z",
     "shell.execute_reply": "2023-07-27T16:44:11.960655Z"
    }
   },
   "outputs": [
    {
     "data": {
      "text/html": [
       "<div>\n",
       "<style scoped>\n",
       "    .dataframe tbody tr th:only-of-type {\n",
       "        vertical-align: middle;\n",
       "    }\n",
       "\n",
       "    .dataframe tbody tr th {\n",
       "        vertical-align: top;\n",
       "    }\n",
       "\n",
       "    .dataframe thead th {\n",
       "        text-align: right;\n",
       "    }\n",
       "</style>\n",
       "<table border=\"1\" class=\"dataframe\">\n",
       "  <thead>\n",
       "    <tr style=\"text-align: right;\">\n",
       "      <th></th>\n",
       "      <th>x1</th>\n",
       "      <th>x2</th>\n",
       "      <th>a</th>\n",
       "      <th>y1</th>\n",
       "      <th>y2</th>\n",
       "      <th>c1</th>\n",
       "      <th>c2</th>\n",
       "      <th>some_array</th>\n",
       "      <th>xopt_runtime</th>\n",
       "      <th>xopt_error</th>\n",
       "    </tr>\n",
       "  </thead>\n",
       "  <tbody>\n",
       "    <tr>\n",
       "      <th>1</th>\n",
       "      <td>0.363093</td>\n",
       "      <td>1.609494</td>\n",
       "      <td>dummy_constant</td>\n",
       "      <td>0.363093</td>\n",
       "      <td>1.609494</td>\n",
       "      <td>1.814078</td>\n",
       "      <td>1.249720</td>\n",
       "      <td>[1, 2, 3]</td>\n",
       "      <td>0.000104</td>\n",
       "      <td>False</td>\n",
       "    </tr>\n",
       "    <tr>\n",
       "      <th>2</th>\n",
       "      <td>0.850974</td>\n",
       "      <td>0.218743</td>\n",
       "      <td>dummy_constant</td>\n",
       "      <td>0.850974</td>\n",
       "      <td>0.218743</td>\n",
       "      <td>-0.164592</td>\n",
       "      <td>0.202289</td>\n",
       "      <td>[1, 2, 3]</td>\n",
       "      <td>0.000015</td>\n",
       "      <td>False</td>\n",
       "    </tr>\n",
       "    <tr>\n",
       "      <th>3</th>\n",
       "      <td>1.103300</td>\n",
       "      <td>1.490396</td>\n",
       "      <td>dummy_constant</td>\n",
       "      <td>1.103300</td>\n",
       "      <td>1.490396</td>\n",
       "      <td>2.510260</td>\n",
       "      <td>1.344855</td>\n",
       "      <td>[1, 2, 3]</td>\n",
       "      <td>0.000010</td>\n",
       "      <td>False</td>\n",
       "    </tr>\n",
       "    <tr>\n",
       "      <th>4</th>\n",
       "      <td>0.872817</td>\n",
       "      <td>1.998659</td>\n",
       "      <td>dummy_constant</td>\n",
       "      <td>0.872817</td>\n",
       "      <td>1.998659</td>\n",
       "      <td>3.661054</td>\n",
       "      <td>2.384972</td>\n",
       "      <td>[1, 2, 3]</td>\n",
       "      <td>0.000009</td>\n",
       "      <td>False</td>\n",
       "    </tr>\n",
       "    <tr>\n",
       "      <th>5</th>\n",
       "      <td>0.817258</td>\n",
       "      <td>3.068147</td>\n",
       "      <td>dummy_constant</td>\n",
       "      <td>0.817258</td>\n",
       "      <td>3.068147</td>\n",
       "      <td>9.133468</td>\n",
       "      <td>6.696033</td>\n",
       "      <td>[1, 2, 3]</td>\n",
       "      <td>0.000009</td>\n",
       "      <td>False</td>\n",
       "    </tr>\n",
       "    <tr>\n",
       "      <th>6</th>\n",
       "      <td>2.704976</td>\n",
       "      <td>2.670728</td>\n",
       "      <td>dummy_constant</td>\n",
       "      <td>2.704976</td>\n",
       "      <td>2.670728</td>\n",
       "      <td>13.350200</td>\n",
       "      <td>9.573977</td>\n",
       "      <td>[1, 2, 3]</td>\n",
       "      <td>0.000009</td>\n",
       "      <td>False</td>\n",
       "    </tr>\n",
       "    <tr>\n",
       "      <th>7</th>\n",
       "      <td>1.027848</td>\n",
       "      <td>1.363421</td>\n",
       "      <td>dummy_constant</td>\n",
       "      <td>1.027848</td>\n",
       "      <td>1.363421</td>\n",
       "      <td>1.976697</td>\n",
       "      <td>1.024120</td>\n",
       "      <td>[1, 2, 3]</td>\n",
       "      <td>0.000009</td>\n",
       "      <td>False</td>\n",
       "    </tr>\n",
       "    <tr>\n",
       "      <th>8</th>\n",
       "      <td>0.704152</td>\n",
       "      <td>1.038980</td>\n",
       "      <td>dummy_constant</td>\n",
       "      <td>0.704152</td>\n",
       "      <td>1.038980</td>\n",
       "      <td>0.674757</td>\n",
       "      <td>0.332178</td>\n",
       "      <td>[1, 2, 3]</td>\n",
       "      <td>0.000008</td>\n",
       "      <td>False</td>\n",
       "    </tr>\n",
       "    <tr>\n",
       "      <th>9</th>\n",
       "      <td>0.931005</td>\n",
       "      <td>1.950646</td>\n",
       "      <td>dummy_constant</td>\n",
       "      <td>0.931005</td>\n",
       "      <td>1.950646</td>\n",
       "      <td>3.605173</td>\n",
       "      <td>2.290139</td>\n",
       "      <td>[1, 2, 3]</td>\n",
       "      <td>0.000008</td>\n",
       "      <td>False</td>\n",
       "    </tr>\n",
       "    <tr>\n",
       "      <th>10</th>\n",
       "      <td>2.890136</td>\n",
       "      <td>1.775513</td>\n",
       "      <td>dummy_constant</td>\n",
       "      <td>2.890136</td>\n",
       "      <td>1.775513</td>\n",
       "      <td>10.587270</td>\n",
       "      <td>7.339683</td>\n",
       "      <td>[1, 2, 3]</td>\n",
       "      <td>0.000009</td>\n",
       "      <td>False</td>\n",
       "    </tr>\n",
       "  </tbody>\n",
       "</table>\n",
       "</div>"
      ],
      "text/plain": [
       "          x1        x2               a        y1        y2         c1  \\\n",
       "1   0.363093  1.609494  dummy_constant  0.363093  1.609494   1.814078   \n",
       "2   0.850974  0.218743  dummy_constant  0.850974  0.218743  -0.164592   \n",
       "3   1.103300  1.490396  dummy_constant  1.103300  1.490396   2.510260   \n",
       "4   0.872817  1.998659  dummy_constant  0.872817  1.998659   3.661054   \n",
       "5   0.817258  3.068147  dummy_constant  0.817258  3.068147   9.133468   \n",
       "6   2.704976  2.670728  dummy_constant  2.704976  2.670728  13.350200   \n",
       "7   1.027848  1.363421  dummy_constant  1.027848  1.363421   1.976697   \n",
       "8   0.704152  1.038980  dummy_constant  0.704152  1.038980   0.674757   \n",
       "9   0.931005  1.950646  dummy_constant  0.931005  1.950646   3.605173   \n",
       "10  2.890136  1.775513  dummy_constant  2.890136  1.775513  10.587270   \n",
       "\n",
       "          c2 some_array  xopt_runtime  xopt_error  \n",
       "1   1.249720  [1, 2, 3]      0.000104       False  \n",
       "2   0.202289  [1, 2, 3]      0.000015       False  \n",
       "3   1.344855  [1, 2, 3]      0.000010       False  \n",
       "4   2.384972  [1, 2, 3]      0.000009       False  \n",
       "5   6.696033  [1, 2, 3]      0.000009       False  \n",
       "6   9.573977  [1, 2, 3]      0.000009       False  \n",
       "7   1.024120  [1, 2, 3]      0.000009       False  \n",
       "8   0.332178  [1, 2, 3]      0.000008       False  \n",
       "9   2.290139  [1, 2, 3]      0.000008       False  \n",
       "10  7.339683  [1, 2, 3]      0.000009       False  "
      ]
     },
     "execution_count": 6,
     "metadata": {},
     "output_type": "execute_result"
    }
   ],
   "source": [
    "X.random_evaluate(10)"
   ]
  },
  {
   "cell_type": "markdown",
   "metadata": {
    "collapsed": false
   },
   "source": [
    "## Run Random data generation"
   ]
  },
  {
   "cell_type": "code",
   "execution_count": 7,
   "metadata": {
    "execution": {
     "iopub.execute_input": "2023-07-27T16:44:11.965425Z",
     "iopub.status.busy": "2023-07-27T16:44:11.965148Z",
     "iopub.status.idle": "2023-07-27T16:44:11.969268Z",
     "shell.execute_reply": "2023-07-27T16:44:11.968488Z"
    }
   },
   "outputs": [],
   "source": [
    "import numpy as np\n",
    "np.random.seed(10)"
   ]
  },
  {
   "cell_type": "code",
   "execution_count": 8,
   "metadata": {
    "collapsed": false,
    "execution": {
     "iopub.execute_input": "2023-07-27T16:44:11.972833Z",
     "iopub.status.busy": "2023-07-27T16:44:11.972594Z",
     "iopub.status.idle": "2023-07-27T16:44:11.986613Z",
     "shell.execute_reply": "2023-07-27T16:44:11.985032Z"
    }
   },
   "outputs": [],
   "source": [
    "# Take one step (generate a single point)\n",
    "X.step()"
   ]
  },
  {
   "cell_type": "code",
   "execution_count": 9,
   "metadata": {
    "collapsed": false,
    "execution": {
     "iopub.execute_input": "2023-07-27T16:44:11.990233Z",
     "iopub.status.busy": "2023-07-27T16:44:11.989926Z",
     "iopub.status.idle": "2023-07-27T16:44:12.008879Z",
     "shell.execute_reply": "2023-07-27T16:44:12.008208Z"
    }
   },
   "outputs": [
    {
     "data": {
      "text/html": [
       "<div>\n",
       "<style scoped>\n",
       "    .dataframe tbody tr th:only-of-type {\n",
       "        vertical-align: middle;\n",
       "    }\n",
       "\n",
       "    .dataframe tbody tr th {\n",
       "        vertical-align: top;\n",
       "    }\n",
       "\n",
       "    .dataframe thead th {\n",
       "        text-align: right;\n",
       "    }\n",
       "</style>\n",
       "<table border=\"1\" class=\"dataframe\">\n",
       "  <thead>\n",
       "    <tr style=\"text-align: right;\">\n",
       "      <th></th>\n",
       "      <th>x1</th>\n",
       "      <th>x2</th>\n",
       "      <th>a</th>\n",
       "      <th>y1</th>\n",
       "      <th>y2</th>\n",
       "      <th>c1</th>\n",
       "      <th>c2</th>\n",
       "      <th>some_array</th>\n",
       "      <th>xopt_runtime</th>\n",
       "      <th>xopt_error</th>\n",
       "    </tr>\n",
       "  </thead>\n",
       "  <tbody>\n",
       "    <tr>\n",
       "      <th>1</th>\n",
       "      <td>0.363093</td>\n",
       "      <td>1.609494</td>\n",
       "      <td>dummy_constant</td>\n",
       "      <td>0.363093</td>\n",
       "      <td>1.609494</td>\n",
       "      <td>1.814078</td>\n",
       "      <td>1.249720</td>\n",
       "      <td>[1, 2, 3]</td>\n",
       "      <td>0.000104</td>\n",
       "      <td>False</td>\n",
       "    </tr>\n",
       "    <tr>\n",
       "      <th>2</th>\n",
       "      <td>0.850974</td>\n",
       "      <td>0.218743</td>\n",
       "      <td>dummy_constant</td>\n",
       "      <td>0.850974</td>\n",
       "      <td>0.218743</td>\n",
       "      <td>-0.164592</td>\n",
       "      <td>0.202289</td>\n",
       "      <td>[1, 2, 3]</td>\n",
       "      <td>0.000015</td>\n",
       "      <td>False</td>\n",
       "    </tr>\n",
       "    <tr>\n",
       "      <th>3</th>\n",
       "      <td>1.103300</td>\n",
       "      <td>1.490396</td>\n",
       "      <td>dummy_constant</td>\n",
       "      <td>1.103300</td>\n",
       "      <td>1.490396</td>\n",
       "      <td>2.510260</td>\n",
       "      <td>1.344855</td>\n",
       "      <td>[1, 2, 3]</td>\n",
       "      <td>0.000010</td>\n",
       "      <td>False</td>\n",
       "    </tr>\n",
       "    <tr>\n",
       "      <th>4</th>\n",
       "      <td>0.872817</td>\n",
       "      <td>1.998659</td>\n",
       "      <td>dummy_constant</td>\n",
       "      <td>0.872817</td>\n",
       "      <td>1.998659</td>\n",
       "      <td>3.661054</td>\n",
       "      <td>2.384972</td>\n",
       "      <td>[1, 2, 3]</td>\n",
       "      <td>0.000009</td>\n",
       "      <td>False</td>\n",
       "    </tr>\n",
       "    <tr>\n",
       "      <th>5</th>\n",
       "      <td>0.817258</td>\n",
       "      <td>3.068147</td>\n",
       "      <td>dummy_constant</td>\n",
       "      <td>0.817258</td>\n",
       "      <td>3.068147</td>\n",
       "      <td>9.133468</td>\n",
       "      <td>6.696033</td>\n",
       "      <td>[1, 2, 3]</td>\n",
       "      <td>0.000009</td>\n",
       "      <td>False</td>\n",
       "    </tr>\n",
       "    <tr>\n",
       "      <th>6</th>\n",
       "      <td>2.704976</td>\n",
       "      <td>2.670728</td>\n",
       "      <td>dummy_constant</td>\n",
       "      <td>2.704976</td>\n",
       "      <td>2.670728</td>\n",
       "      <td>13.350200</td>\n",
       "      <td>9.573977</td>\n",
       "      <td>[1, 2, 3]</td>\n",
       "      <td>0.000009</td>\n",
       "      <td>False</td>\n",
       "    </tr>\n",
       "    <tr>\n",
       "      <th>7</th>\n",
       "      <td>1.027848</td>\n",
       "      <td>1.363421</td>\n",
       "      <td>dummy_constant</td>\n",
       "      <td>1.027848</td>\n",
       "      <td>1.363421</td>\n",
       "      <td>1.976697</td>\n",
       "      <td>1.024120</td>\n",
       "      <td>[1, 2, 3]</td>\n",
       "      <td>0.000009</td>\n",
       "      <td>False</td>\n",
       "    </tr>\n",
       "    <tr>\n",
       "      <th>8</th>\n",
       "      <td>0.704152</td>\n",
       "      <td>1.038980</td>\n",
       "      <td>dummy_constant</td>\n",
       "      <td>0.704152</td>\n",
       "      <td>1.038980</td>\n",
       "      <td>0.674757</td>\n",
       "      <td>0.332178</td>\n",
       "      <td>[1, 2, 3]</td>\n",
       "      <td>0.000008</td>\n",
       "      <td>False</td>\n",
       "    </tr>\n",
       "    <tr>\n",
       "      <th>9</th>\n",
       "      <td>0.931005</td>\n",
       "      <td>1.950646</td>\n",
       "      <td>dummy_constant</td>\n",
       "      <td>0.931005</td>\n",
       "      <td>1.950646</td>\n",
       "      <td>3.605173</td>\n",
       "      <td>2.290139</td>\n",
       "      <td>[1, 2, 3]</td>\n",
       "      <td>0.000008</td>\n",
       "      <td>False</td>\n",
       "    </tr>\n",
       "    <tr>\n",
       "      <th>10</th>\n",
       "      <td>2.890136</td>\n",
       "      <td>1.775513</td>\n",
       "      <td>dummy_constant</td>\n",
       "      <td>2.890136</td>\n",
       "      <td>1.775513</td>\n",
       "      <td>10.587270</td>\n",
       "      <td>7.339683</td>\n",
       "      <td>[1, 2, 3]</td>\n",
       "      <td>0.000009</td>\n",
       "      <td>False</td>\n",
       "    </tr>\n",
       "    <tr>\n",
       "      <th>11</th>\n",
       "      <td>0.718417</td>\n",
       "      <td>3.076396</td>\n",
       "      <td>dummy_constant</td>\n",
       "      <td>0.718417</td>\n",
       "      <td>3.076396</td>\n",
       "      <td>9.066664</td>\n",
       "      <td>6.685522</td>\n",
       "      <td>[1, 2, 3]</td>\n",
       "      <td>0.000073</td>\n",
       "      <td>False</td>\n",
       "    </tr>\n",
       "  </tbody>\n",
       "</table>\n",
       "</div>"
      ],
      "text/plain": [
       "          x1        x2               a        y1        y2         c1  \\\n",
       "1   0.363093  1.609494  dummy_constant  0.363093  1.609494   1.814078   \n",
       "2   0.850974  0.218743  dummy_constant  0.850974  0.218743  -0.164592   \n",
       "3   1.103300  1.490396  dummy_constant  1.103300  1.490396   2.510260   \n",
       "4   0.872817  1.998659  dummy_constant  0.872817  1.998659   3.661054   \n",
       "5   0.817258  3.068147  dummy_constant  0.817258  3.068147   9.133468   \n",
       "6   2.704976  2.670728  dummy_constant  2.704976  2.670728  13.350200   \n",
       "7   1.027848  1.363421  dummy_constant  1.027848  1.363421   1.976697   \n",
       "8   0.704152  1.038980  dummy_constant  0.704152  1.038980   0.674757   \n",
       "9   0.931005  1.950646  dummy_constant  0.931005  1.950646   3.605173   \n",
       "10  2.890136  1.775513  dummy_constant  2.890136  1.775513  10.587270   \n",
       "11  0.718417  3.076396  dummy_constant  0.718417  3.076396   9.066664   \n",
       "\n",
       "          c2 some_array  xopt_runtime  xopt_error  \n",
       "1   1.249720  [1, 2, 3]      0.000104       False  \n",
       "2   0.202289  [1, 2, 3]      0.000015       False  \n",
       "3   1.344855  [1, 2, 3]      0.000010       False  \n",
       "4   2.384972  [1, 2, 3]      0.000009       False  \n",
       "5   6.696033  [1, 2, 3]      0.000009       False  \n",
       "6   9.573977  [1, 2, 3]      0.000009       False  \n",
       "7   1.024120  [1, 2, 3]      0.000009       False  \n",
       "8   0.332178  [1, 2, 3]      0.000008       False  \n",
       "9   2.290139  [1, 2, 3]      0.000008       False  \n",
       "10  7.339683  [1, 2, 3]      0.000009       False  \n",
       "11  6.685522  [1, 2, 3]      0.000073       False  "
      ]
     },
     "execution_count": 9,
     "metadata": {},
     "output_type": "execute_result"
    }
   ],
   "source": [
    "# examine the results\n",
    "X.data"
   ]
  },
  {
   "cell_type": "code",
   "execution_count": 10,
   "metadata": {
    "collapsed": false,
    "execution": {
     "iopub.execute_input": "2023-07-27T16:44:12.012565Z",
     "iopub.status.busy": "2023-07-27T16:44:12.011930Z",
     "iopub.status.idle": "2023-07-27T16:44:12.122242Z",
     "shell.execute_reply": "2023-07-27T16:44:12.121456Z"
    }
   },
   "outputs": [
    {
     "data": {
      "text/html": [
       "<div>\n",
       "<style scoped>\n",
       "    .dataframe tbody tr th:only-of-type {\n",
       "        vertical-align: middle;\n",
       "    }\n",
       "\n",
       "    .dataframe tbody tr th {\n",
       "        vertical-align: top;\n",
       "    }\n",
       "\n",
       "    .dataframe thead th {\n",
       "        text-align: right;\n",
       "    }\n",
       "</style>\n",
       "<table border=\"1\" class=\"dataframe\">\n",
       "  <thead>\n",
       "    <tr style=\"text-align: right;\">\n",
       "      <th></th>\n",
       "      <th>x1</th>\n",
       "      <th>x2</th>\n",
       "      <th>a</th>\n",
       "      <th>y1</th>\n",
       "      <th>y2</th>\n",
       "      <th>c1</th>\n",
       "      <th>c2</th>\n",
       "      <th>some_array</th>\n",
       "      <th>xopt_runtime</th>\n",
       "      <th>xopt_error</th>\n",
       "    </tr>\n",
       "  </thead>\n",
       "  <tbody>\n",
       "    <tr>\n",
       "      <th>1</th>\n",
       "      <td>0.363093</td>\n",
       "      <td>1.609494</td>\n",
       "      <td>dummy_constant</td>\n",
       "      <td>0.363093</td>\n",
       "      <td>1.609494</td>\n",
       "      <td>1.814078</td>\n",
       "      <td>1.249720</td>\n",
       "      <td>[1, 2, 3]</td>\n",
       "      <td>0.000104</td>\n",
       "      <td>False</td>\n",
       "    </tr>\n",
       "    <tr>\n",
       "      <th>2</th>\n",
       "      <td>0.850974</td>\n",
       "      <td>0.218743</td>\n",
       "      <td>dummy_constant</td>\n",
       "      <td>0.850974</td>\n",
       "      <td>0.218743</td>\n",
       "      <td>-0.164592</td>\n",
       "      <td>0.202289</td>\n",
       "      <td>[1, 2, 3]</td>\n",
       "      <td>0.000015</td>\n",
       "      <td>False</td>\n",
       "    </tr>\n",
       "    <tr>\n",
       "      <th>3</th>\n",
       "      <td>1.103300</td>\n",
       "      <td>1.490396</td>\n",
       "      <td>dummy_constant</td>\n",
       "      <td>1.103300</td>\n",
       "      <td>1.490396</td>\n",
       "      <td>2.510260</td>\n",
       "      <td>1.344855</td>\n",
       "      <td>[1, 2, 3]</td>\n",
       "      <td>0.000010</td>\n",
       "      <td>False</td>\n",
       "    </tr>\n",
       "    <tr>\n",
       "      <th>4</th>\n",
       "      <td>0.872817</td>\n",
       "      <td>1.998659</td>\n",
       "      <td>dummy_constant</td>\n",
       "      <td>0.872817</td>\n",
       "      <td>1.998659</td>\n",
       "      <td>3.661054</td>\n",
       "      <td>2.384972</td>\n",
       "      <td>[1, 2, 3]</td>\n",
       "      <td>0.000009</td>\n",
       "      <td>False</td>\n",
       "    </tr>\n",
       "    <tr>\n",
       "      <th>5</th>\n",
       "      <td>0.817258</td>\n",
       "      <td>3.068147</td>\n",
       "      <td>dummy_constant</td>\n",
       "      <td>0.817258</td>\n",
       "      <td>3.068147</td>\n",
       "      <td>9.133468</td>\n",
       "      <td>6.696033</td>\n",
       "      <td>[1, 2, 3]</td>\n",
       "      <td>0.000009</td>\n",
       "      <td>False</td>\n",
       "    </tr>\n",
       "    <tr>\n",
       "      <th>6</th>\n",
       "      <td>2.704976</td>\n",
       "      <td>2.670728</td>\n",
       "      <td>dummy_constant</td>\n",
       "      <td>2.704976</td>\n",
       "      <td>2.670728</td>\n",
       "      <td>13.350200</td>\n",
       "      <td>9.573977</td>\n",
       "      <td>[1, 2, 3]</td>\n",
       "      <td>0.000009</td>\n",
       "      <td>False</td>\n",
       "    </tr>\n",
       "    <tr>\n",
       "      <th>7</th>\n",
       "      <td>1.027848</td>\n",
       "      <td>1.363421</td>\n",
       "      <td>dummy_constant</td>\n",
       "      <td>1.027848</td>\n",
       "      <td>1.363421</td>\n",
       "      <td>1.976697</td>\n",
       "      <td>1.024120</td>\n",
       "      <td>[1, 2, 3]</td>\n",
       "      <td>0.000009</td>\n",
       "      <td>False</td>\n",
       "    </tr>\n",
       "    <tr>\n",
       "      <th>8</th>\n",
       "      <td>0.704152</td>\n",
       "      <td>1.038980</td>\n",
       "      <td>dummy_constant</td>\n",
       "      <td>0.704152</td>\n",
       "      <td>1.038980</td>\n",
       "      <td>0.674757</td>\n",
       "      <td>0.332178</td>\n",
       "      <td>[1, 2, 3]</td>\n",
       "      <td>0.000008</td>\n",
       "      <td>False</td>\n",
       "    </tr>\n",
       "    <tr>\n",
       "      <th>9</th>\n",
       "      <td>0.931005</td>\n",
       "      <td>1.950646</td>\n",
       "      <td>dummy_constant</td>\n",
       "      <td>0.931005</td>\n",
       "      <td>1.950646</td>\n",
       "      <td>3.605173</td>\n",
       "      <td>2.290139</td>\n",
       "      <td>[1, 2, 3]</td>\n",
       "      <td>0.000008</td>\n",
       "      <td>False</td>\n",
       "    </tr>\n",
       "    <tr>\n",
       "      <th>10</th>\n",
       "      <td>2.890136</td>\n",
       "      <td>1.775513</td>\n",
       "      <td>dummy_constant</td>\n",
       "      <td>2.890136</td>\n",
       "      <td>1.775513</td>\n",
       "      <td>10.587270</td>\n",
       "      <td>7.339683</td>\n",
       "      <td>[1, 2, 3]</td>\n",
       "      <td>0.000009</td>\n",
       "      <td>False</td>\n",
       "    </tr>\n",
       "    <tr>\n",
       "      <th>11</th>\n",
       "      <td>0.718417</td>\n",
       "      <td>3.076396</td>\n",
       "      <td>dummy_constant</td>\n",
       "      <td>0.718417</td>\n",
       "      <td>3.076396</td>\n",
       "      <td>9.066664</td>\n",
       "      <td>6.685522</td>\n",
       "      <td>[1, 2, 3]</td>\n",
       "      <td>0.000073</td>\n",
       "      <td>False</td>\n",
       "    </tr>\n",
       "    <tr>\n",
       "      <th>12</th>\n",
       "      <td>1.150927</td>\n",
       "      <td>0.789155</td>\n",
       "      <td>dummy_constant</td>\n",
       "      <td>1.150927</td>\n",
       "      <td>0.789155</td>\n",
       "      <td>1.045563</td>\n",
       "      <td>0.507317</td>\n",
       "      <td>[1, 2, 3]</td>\n",
       "      <td>0.000032</td>\n",
       "      <td>False</td>\n",
       "    </tr>\n",
       "    <tr>\n",
       "      <th>13</th>\n",
       "      <td>1.575485</td>\n",
       "      <td>2.435371</td>\n",
       "      <td>dummy_constant</td>\n",
       "      <td>1.575485</td>\n",
       "      <td>2.435371</td>\n",
       "      <td>7.510380</td>\n",
       "      <td>4.902330</td>\n",
       "      <td>[1, 2, 3]</td>\n",
       "      <td>0.000030</td>\n",
       "      <td>False</td>\n",
       "    </tr>\n",
       "    <tr>\n",
       "      <th>14</th>\n",
       "      <td>2.519358</td>\n",
       "      <td>0.752314</td>\n",
       "      <td>dummy_constant</td>\n",
       "      <td>2.519358</td>\n",
       "      <td>0.752314</td>\n",
       "      <td>5.920078</td>\n",
       "      <td>4.141468</td>\n",
       "      <td>[1, 2, 3]</td>\n",
       "      <td>0.000033</td>\n",
       "      <td>False</td>\n",
       "    </tr>\n",
       "    <tr>\n",
       "      <th>15</th>\n",
       "      <td>2.610313</td>\n",
       "      <td>2.864063</td>\n",
       "      <td>dummy_constant</td>\n",
       "      <td>2.610313</td>\n",
       "      <td>2.864063</td>\n",
       "      <td>13.942816</td>\n",
       "      <td>10.042213</td>\n",
       "      <td>[1, 2, 3]</td>\n",
       "      <td>0.000028</td>\n",
       "      <td>False</td>\n",
       "    </tr>\n",
       "    <tr>\n",
       "      <th>16</th>\n",
       "      <td>0.988470</td>\n",
       "      <td>0.146419</td>\n",
       "      <td>dummy_constant</td>\n",
       "      <td>0.988470</td>\n",
       "      <td>0.146419</td>\n",
       "      <td>0.068991</td>\n",
       "      <td>0.363623</td>\n",
       "      <td>[1, 2, 3]</td>\n",
       "      <td>0.000029</td>\n",
       "      <td>False</td>\n",
       "    </tr>\n",
       "    <tr>\n",
       "      <th>17</th>\n",
       "      <td>3.129186</td>\n",
       "      <td>1.532492</td>\n",
       "      <td>dummy_constant</td>\n",
       "      <td>3.129186</td>\n",
       "      <td>1.532492</td>\n",
       "      <td>11.086588</td>\n",
       "      <td>7.978659</td>\n",
       "      <td>[1, 2, 3]</td>\n",
       "      <td>0.000029</td>\n",
       "      <td>False</td>\n",
       "    </tr>\n",
       "    <tr>\n",
       "      <th>18</th>\n",
       "      <td>0.588668</td>\n",
       "      <td>1.217284</td>\n",
       "      <td>dummy_constant</td>\n",
       "      <td>0.588668</td>\n",
       "      <td>1.217284</td>\n",
       "      <td>0.768029</td>\n",
       "      <td>0.522359</td>\n",
       "      <td>[1, 2, 3]</td>\n",
       "      <td>0.000030</td>\n",
       "      <td>False</td>\n",
       "    </tr>\n",
       "    <tr>\n",
       "      <th>19</th>\n",
       "      <td>0.874131</td>\n",
       "      <td>2.224635</td>\n",
       "      <td>dummy_constant</td>\n",
       "      <td>0.874131</td>\n",
       "      <td>2.224635</td>\n",
       "      <td>4.617362</td>\n",
       "      <td>3.114340</td>\n",
       "      <td>[1, 2, 3]</td>\n",
       "      <td>0.000028</td>\n",
       "      <td>False</td>\n",
       "    </tr>\n",
       "    <tr>\n",
       "      <th>20</th>\n",
       "      <td>0.258320</td>\n",
       "      <td>0.896686</td>\n",
       "      <td>dummy_constant</td>\n",
       "      <td>0.258320</td>\n",
       "      <td>0.896686</td>\n",
       "      <td>-0.106956</td>\n",
       "      <td>0.215769</td>\n",
       "      <td>[1, 2, 3]</td>\n",
       "      <td>0.000029</td>\n",
       "      <td>False</td>\n",
       "    </tr>\n",
       "    <tr>\n",
       "      <th>21</th>\n",
       "      <td>1.437138</td>\n",
       "      <td>2.694950</td>\n",
       "      <td>dummy_constant</td>\n",
       "      <td>1.437138</td>\n",
       "      <td>2.694950</td>\n",
       "      <td>8.326577</td>\n",
       "      <td>5.696033</td>\n",
       "      <td>[1, 2, 3]</td>\n",
       "      <td>0.000029</td>\n",
       "      <td>False</td>\n",
       "    </tr>\n",
       "  </tbody>\n",
       "</table>\n",
       "</div>"
      ],
      "text/plain": [
       "          x1        x2               a        y1        y2         c1  \\\n",
       "1   0.363093  1.609494  dummy_constant  0.363093  1.609494   1.814078   \n",
       "2   0.850974  0.218743  dummy_constant  0.850974  0.218743  -0.164592   \n",
       "3   1.103300  1.490396  dummy_constant  1.103300  1.490396   2.510260   \n",
       "4   0.872817  1.998659  dummy_constant  0.872817  1.998659   3.661054   \n",
       "5   0.817258  3.068147  dummy_constant  0.817258  3.068147   9.133468   \n",
       "6   2.704976  2.670728  dummy_constant  2.704976  2.670728  13.350200   \n",
       "7   1.027848  1.363421  dummy_constant  1.027848  1.363421   1.976697   \n",
       "8   0.704152  1.038980  dummy_constant  0.704152  1.038980   0.674757   \n",
       "9   0.931005  1.950646  dummy_constant  0.931005  1.950646   3.605173   \n",
       "10  2.890136  1.775513  dummy_constant  2.890136  1.775513  10.587270   \n",
       "11  0.718417  3.076396  dummy_constant  0.718417  3.076396   9.066664   \n",
       "12  1.150927  0.789155  dummy_constant  1.150927  0.789155   1.045563   \n",
       "13  1.575485  2.435371  dummy_constant  1.575485  2.435371   7.510380   \n",
       "14  2.519358  0.752314  dummy_constant  2.519358  0.752314   5.920078   \n",
       "15  2.610313  2.864063  dummy_constant  2.610313  2.864063  13.942816   \n",
       "16  0.988470  0.146419  dummy_constant  0.988470  0.146419   0.068991   \n",
       "17  3.129186  1.532492  dummy_constant  3.129186  1.532492  11.086588   \n",
       "18  0.588668  1.217284  dummy_constant  0.588668  1.217284   0.768029   \n",
       "19  0.874131  2.224635  dummy_constant  0.874131  2.224635   4.617362   \n",
       "20  0.258320  0.896686  dummy_constant  0.258320  0.896686  -0.106956   \n",
       "21  1.437138  2.694950  dummy_constant  1.437138  2.694950   8.326577   \n",
       "\n",
       "           c2 some_array  xopt_runtime  xopt_error  \n",
       "1    1.249720  [1, 2, 3]      0.000104       False  \n",
       "2    0.202289  [1, 2, 3]      0.000015       False  \n",
       "3    1.344855  [1, 2, 3]      0.000010       False  \n",
       "4    2.384972  [1, 2, 3]      0.000009       False  \n",
       "5    6.696033  [1, 2, 3]      0.000009       False  \n",
       "6    9.573977  [1, 2, 3]      0.000009       False  \n",
       "7    1.024120  [1, 2, 3]      0.000009       False  \n",
       "8    0.332178  [1, 2, 3]      0.000008       False  \n",
       "9    2.290139  [1, 2, 3]      0.000008       False  \n",
       "10   7.339683  [1, 2, 3]      0.000009       False  \n",
       "11   6.685522  [1, 2, 3]      0.000073       False  \n",
       "12   0.507317  [1, 2, 3]      0.000032       False  \n",
       "13   4.902330  [1, 2, 3]      0.000030       False  \n",
       "14   4.141468  [1, 2, 3]      0.000033       False  \n",
       "15  10.042213  [1, 2, 3]      0.000028       False  \n",
       "16   0.363623  [1, 2, 3]      0.000029       False  \n",
       "17   7.978659  [1, 2, 3]      0.000029       False  \n",
       "18   0.522359  [1, 2, 3]      0.000030       False  \n",
       "19   3.114340  [1, 2, 3]      0.000028       False  \n",
       "20   0.215769  [1, 2, 3]      0.000029       False  \n",
       "21   5.696033  [1, 2, 3]      0.000029       False  "
      ]
     },
     "execution_count": 10,
     "metadata": {},
     "output_type": "execute_result"
    }
   ],
   "source": [
    "# take a couple of steps and examine the results\n",
    "for _ in range(10):\n",
    "    X.step()\n",
    "X.data"
   ]
  },
  {
   "cell_type": "markdown",
   "metadata": {
    "collapsed": false
   },
   "source": [
    "## Plotting\n",
    "Plot the objective results"
   ]
  },
  {
   "cell_type": "code",
   "execution_count": 11,
   "metadata": {
    "collapsed": false,
    "execution": {
     "iopub.execute_input": "2023-07-27T16:44:12.126003Z",
     "iopub.status.busy": "2023-07-27T16:44:12.125770Z",
     "iopub.status.idle": "2023-07-27T16:44:12.880785Z",
     "shell.execute_reply": "2023-07-27T16:44:12.880051Z"
    }
   },
   "outputs": [
    {
     "data": {
      "text/plain": [
       "<Axes: xlabel='y1', ylabel='y2'>"
      ]
     },
     "execution_count": 11,
     "metadata": {},
     "output_type": "execute_result"
    },
    {
     "data": {
      "image/png": "[encoded data removed]",
      "text/plain": [
       "<Figure size 640x480 with 1 Axes>"
      ]
     },
     "metadata": {
      "image/png": {
       "height": 432,
       "width": 567
      }
     },
     "output_type": "display_data"
    }
   ],
   "source": [
    "import matplotlib.pyplot as plt\n",
    "\n",
    "X.data.plot(*X.vocs.objective_names, kind=\"scatter\")"
   ]
  },
  {
   "cell_type": "markdown",
   "metadata": {},
   "source": [
    "## Alternative initialization methods\n",
    "\n",
    "For convenience, if the first (and only) positional argument is present, then Xopt will automatically try to load from JSON, YAML str or files, or as a dict."
   ]
  },
  {
   "cell_type": "code",
   "execution_count": 12,
   "metadata": {
    "execution": {
     "iopub.execute_input": "2023-07-27T16:44:12.884786Z",
     "iopub.status.busy": "2023-07-27T16:44:12.883983Z",
     "iopub.status.idle": "2023-07-27T16:44:12.904575Z",
     "shell.execute_reply": "2023-07-27T16:44:12.903685Z"
    }
   },
   "outputs": [],
   "source": [
    "import yaml\n",
    "import json\n",
    "\n",
    "config  = yaml.safe_load(YAML) \n",
    "# All these methods work\n",
    "\n",
    "X = Xopt(YAML)\n",
    "X = Xopt(config)\n",
    "X = Xopt(json.dumps(config, indent=4))\n"
   ]
  },
  {
   "cell_type": "markdown",
   "metadata": {},
   "source": [
    "## Convenience Methods"
   ]
  },
  {
   "cell_type": "code",
   "execution_count": 13,
   "metadata": {
    "execution": {
     "iopub.execute_input": "2023-07-27T16:44:12.908300Z",
     "iopub.status.busy": "2023-07-27T16:44:12.907778Z",
     "iopub.status.idle": "2023-07-27T16:44:12.913176Z",
     "shell.execute_reply": "2023-07-27T16:44:12.912547Z"
    }
   },
   "outputs": [
    {
     "data": {
      "text/plain": [
       "{'y1': 0.5,\n",
       " 'y2': 0.5,\n",
       " 'c1': -0.6,\n",
       " 'c2': 0.0,\n",
       " 'some_array': array([1, 2, 3]),\n",
       " 'xopt_runtime': 4.189999981463188e-05,\n",
       " 'xopt_error': False}"
      ]
     },
     "execution_count": 13,
     "metadata": {},
     "output_type": "execute_result"
    }
   ],
   "source": [
    "# Call the evaluator's function directly.\n",
    "X.evaluate({'x1': .5, 'x2': 0.5})"
   ]
  },
  {
   "cell_type": "code",
   "execution_count": 14,
   "metadata": {
    "execution": {
     "iopub.execute_input": "2023-07-27T16:44:12.916265Z",
     "iopub.status.busy": "2023-07-27T16:44:12.915725Z",
     "iopub.status.idle": "2023-07-27T16:44:12.920668Z",
     "shell.execute_reply": "2023-07-27T16:44:12.919856Z"
    }
   },
   "outputs": [
    {
     "data": {
      "text/plain": [
       "{'x1': array([1.9687064]), 'x2': array([1.02373858]), 'a': 'dummy_constant'}"
      ]
     },
     "execution_count": 14,
     "metadata": {},
     "output_type": "execute_result"
    }
   ],
   "source": [
    "# Create random inputs according to the vocs\n",
    "X.random_inputs()"
   ]
  },
  {
   "cell_type": "code",
   "execution_count": 15,
   "metadata": {
    "execution": {
     "iopub.execute_input": "2023-07-27T16:44:12.923849Z",
     "iopub.status.busy": "2023-07-27T16:44:12.923347Z",
     "iopub.status.idle": "2023-07-27T16:44:12.929324Z",
     "shell.execute_reply": "2023-07-27T16:44:12.928687Z"
    }
   },
   "outputs": [
    {
     "data": {
      "text/plain": [
       "{'y1': array([0.71841678]),\n",
       " 'y2': array([3.07639588]),\n",
       " 'c1': array([9.06666383]),\n",
       " 'c2': array([6.68552164]),\n",
       " 'some_array': array([1, 2, 3]),\n",
       " 'xopt_runtime': 3.179999998792482e-05,\n",
       " 'xopt_error': False}"
      ]
     },
     "execution_count": 15,
     "metadata": {},
     "output_type": "execute_result"
    }
   ],
   "source": [
    "# These can be combined:\n",
    "np.random.seed(10)\n",
    "X.evaluate(X.random_inputs())"
   ]
  },
  {
   "cell_type": "code",
   "execution_count": 16,
   "metadata": {
    "execution": {
     "iopub.execute_input": "2023-07-27T16:44:12.932596Z",
     "iopub.status.busy": "2023-07-27T16:44:12.932104Z",
     "iopub.status.idle": "2023-07-27T16:44:12.951715Z",
     "shell.execute_reply": "2023-07-27T16:44:12.950990Z"
    }
   },
   "outputs": [
    {
     "data": {
      "text/html": [
       "<div>\n",
       "<style scoped>\n",
       "    .dataframe tbody tr th:only-of-type {\n",
       "        vertical-align: middle;\n",
       "    }\n",
       "\n",
       "    .dataframe tbody tr th {\n",
       "        vertical-align: top;\n",
       "    }\n",
       "\n",
       "    .dataframe thead th {\n",
       "        text-align: right;\n",
       "    }\n",
       "</style>\n",
       "<table border=\"1\" class=\"dataframe\">\n",
       "  <thead>\n",
       "    <tr style=\"text-align: right;\">\n",
       "      <th></th>\n",
       "      <th>x1</th>\n",
       "      <th>x2</th>\n",
       "      <th>a</th>\n",
       "      <th>y1</th>\n",
       "      <th>y2</th>\n",
       "      <th>c1</th>\n",
       "      <th>c2</th>\n",
       "      <th>some_array</th>\n",
       "      <th>xopt_runtime</th>\n",
       "      <th>xopt_error</th>\n",
       "    </tr>\n",
       "  </thead>\n",
       "  <tbody>\n",
       "    <tr>\n",
       "      <th>1</th>\n",
       "      <td>0.718417</td>\n",
       "      <td>3.076396</td>\n",
       "      <td>dummy_constant</td>\n",
       "      <td>0.718417</td>\n",
       "      <td>3.076396</td>\n",
       "      <td>9.066664</td>\n",
       "      <td>6.685522</td>\n",
       "      <td>[1, 2, 3]</td>\n",
       "      <td>0.000027</td>\n",
       "      <td>False</td>\n",
       "    </tr>\n",
       "  </tbody>\n",
       "</table>\n",
       "</div>"
      ],
      "text/plain": [
       "         x1        x2               a        y1        y2        c1        c2  \\\n",
       "1  0.718417  3.076396  dummy_constant  0.718417  3.076396  9.066664  6.685522   \n",
       "\n",
       "  some_array  xopt_runtime  xopt_error  \n",
       "1  [1, 2, 3]      0.000027       False  "
      ]
     },
     "execution_count": 16,
     "metadata": {},
     "output_type": "execute_result"
    }
   ],
   "source": [
    "# And this is a convenience method for above\n",
    "np.random.seed(10)\n",
    "X.random_evaluate()"
   ]
  },
  {
   "cell_type": "markdown",
   "metadata": {},
   "source": [
    "## Logging\n",
    "\n",
    "Normally Xopt will not issue print statments, and instead issue logging messages. Below will enable these to be seen in the notebook"
   ]
  },
  {
   "cell_type": "code",
   "execution_count": 17,
   "metadata": {
    "execution": {
     "iopub.execute_input": "2023-07-27T16:44:12.954615Z",
     "iopub.status.busy": "2023-07-27T16:44:12.954385Z",
     "iopub.status.idle": "2023-07-27T16:44:12.957992Z",
     "shell.execute_reply": "2023-07-27T16:44:12.957227Z"
    }
   },
   "outputs": [],
   "source": [
    "# Notebook printing output\n",
    "from xopt import output_notebook\n",
    "output_notebook()"
   ]
  },
  {
   "cell_type": "code",
   "execution_count": 18,
   "metadata": {
    "execution": {
     "iopub.execute_input": "2023-07-27T16:44:12.961804Z",
     "iopub.status.busy": "2023-07-27T16:44:12.961529Z",
     "iopub.status.idle": "2023-07-27T16:44:12.975099Z",
     "shell.execute_reply": "2023-07-27T16:44:12.973963Z"
    }
   },
   "outputs": [
    {
     "name": "stdout",
     "output_type": "stream",
     "text": [
      "Running Xopt step\n"
     ]
    }
   ],
   "source": [
    "X.step()"
   ]
  }
 ],
 "metadata": {
  "interpreter": {
   "hash": "72034539424920dfb606fe3b820b3f27dca0cbf1c69938110810ec4641e275b1"
  },
  "kernelspec": {
   "display_name": "Python 3.9.12 ('xopt-dev')",
   "language": "python",
   "name": "python3"
  },
  "language_info": {
   "codemirror_mode": {
    "name": "ipython",
    "version": 3
   },
   "file_extension": ".py",
   "mimetype": "text/x-python",
   "name": "python",
   "nbconvert_exporter": "python",
   "pygments_lexer": "ipython3",
   "version": "3.9.16"
  }
 },
 "nbformat": 4,
 "nbformat_minor": 4
}
