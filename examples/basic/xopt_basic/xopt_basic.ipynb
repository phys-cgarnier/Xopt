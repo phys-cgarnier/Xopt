{
 "cells": [
  {
   "cell_type": "markdown",
   "metadata": {},
   "source": [
    "# Xopt basic example\n",
    "\n",
    "Xopt optimization problems can be defined via one of two methods:\n",
    "- a yaml text file (for limiting the amount of python script writing and/or setting up simulation runs)\n",
    "- a simple python script (for those who prefer to use python directly)\n",
    "\n",
    "Here we will demonstrate how both of these techniques can be used to solve a relatively simple  constrained optimization problem.\n",
    "\n",
    "$n=2$ variables:\n",
    "$x_i \\in [0, \\pi], i=1,2$\n",
    "\n",
    "Objective:\n",
    "- $f(x) = \\sum_i x_i$\n",
    "\n",
    "Constraint:\n",
    "- $g(x) = -x_1^2 -x_2^2 + 1 \\le 0$"
   ]
  },
  {
   "cell_type": "markdown",
   "metadata": {
    "collapsed": false
   },
   "source": [
    "## Xopt Components\n",
    "The definition of the Xopt object requires 3 parts, listed below:\n",
    "- The `Evaluator` object, which evaluates input points using the arbitrary function\n",
    "specified by the `function` property.\n",
    "- The `Generator` object, which, when given data that has been evaluated, generates\n",
    "future points to evaluate using the evaluator.\n",
    "- The `VOCS` (variables, objectives, constraints, statics) object, which specifies the\n",
    "input domain, the objectives, constraints and constants passed to the evaluator\n",
    "function.\n"
   ]
  },
  {
   "cell_type": "markdown",
   "metadata": {
    "collapsed": false
   },
   "source": [
    "## Defining Xopt components using python\n",
    "We first examine how one would create and configure and Xopt optimization run using\n",
    "python. This can also be done via a YAML file (see the next section)."
   ]
  },
  {
   "cell_type": "markdown",
   "metadata": {
    "collapsed": false
   },
   "source": [
    "### Define the objective function and the evaluator\n",
    "Note that the objective function takes in a dict of variable values and returns a dict of objective return values. The keys of the input and output dictionaries must contain the keys we will specify in VOCS (see below)."
   ]
  },
  {
   "cell_type": "code",
   "execution_count": 1,
   "metadata": {
    "ExecuteTime": {
     "end_time": "2023-11-13T20:01:17.186087100Z",
     "start_time": "2023-11-13T20:01:14.827413500Z"
    },
    "collapsed": false,
    "execution": {
     "iopub.execute_input": "2024-02-23T21:56:20.413284Z",
     "iopub.status.busy": "2024-02-23T21:56:20.413112Z",
     "iopub.status.idle": "2024-02-23T21:56:21.878614Z",
     "shell.execute_reply": "2024-02-23T21:56:21.878021Z"
    }
   },
   "outputs": [],
   "source": [
    "from xopt import Evaluator\n",
    "\n",
    "def evaluate_function(inputs: dict) -> dict:\n",
    "    objective_value = inputs[\"x1\"]**2 + inputs[\"x2\"]**2\n",
    "    constraint_value = -inputs[\"x1\"]**2 - inputs[\"x2\"]**2 + 1\n",
    "    return {\"f\": objective_value, \"g\": constraint_value}\n",
    "\n",
    "evaluator = Evaluator(function=evaluate_function)"
   ]
  },
  {
   "cell_type": "markdown",
   "metadata": {
    "collapsed": false
   },
   "source": [
    "### Define VOCS\n",
    "Here we define the names and ranges of input parameters, the names and settings of\n",
    "objectives, and the names and settings of constraints. Note that the keys here should\n",
    " be referenced in the evaluate function above."
   ]
  },
  {
   "cell_type": "code",
   "execution_count": 2,
   "metadata": {
    "ExecuteTime": {
     "end_time": "2023-11-13T20:01:17.201108100Z",
     "start_time": "2023-11-13T20:01:17.188088100Z"
    },
    "collapsed": false,
    "execution": {
     "iopub.execute_input": "2024-02-23T21:56:21.881270Z",
     "iopub.status.busy": "2024-02-23T21:56:21.881055Z",
     "iopub.status.idle": "2024-02-23T21:56:21.884610Z",
     "shell.execute_reply": "2024-02-23T21:56:21.884143Z"
    }
   },
   "outputs": [],
   "source": [
    "from xopt import VOCS\n",
    "import math\n",
    "\n",
    "vocs = VOCS(\n",
    "    variables = {\n",
    "        \"x1\": [0, math.pi],\n",
    "        \"x2\": [0, math.pi]\n",
    "    },\n",
    "    objectives = {\"f\": \"MINIMIZE\"},\n",
    "    constraints = {\"g\": [\"LESS_THAN\", 0]}\n",
    ")"
   ]
  },
  {
   "cell_type": "markdown",
   "metadata": {
    "collapsed": false
   },
   "source": [
    "### Define the Generator\n",
    "First lets see which generators are available for use."
   ]
  },
  {
   "cell_type": "code",
   "execution_count": 3,
   "metadata": {
    "ExecuteTime": {
     "end_time": "2023-11-13T20:01:18.176954300Z",
     "start_time": "2023-11-13T20:01:17.202618200Z"
    },
    "collapsed": false,
    "execution": {
     "iopub.execute_input": "2024-02-23T21:56:21.886777Z",
     "iopub.status.busy": "2024-02-23T21:56:21.886414Z",
     "iopub.status.idle": "2024-02-23T21:56:22.591526Z",
     "shell.execute_reply": "2024-02-23T21:56:22.590876Z"
    }
   },
   "outputs": [
    {
     "data": {
      "text/plain": [
       "['random',\n",
       " 'mggpo',\n",
       " 'neldermead',\n",
       " 'latin_hypercube',\n",
       " 'upper_confidence_bound',\n",
       " 'mobo',\n",
       " 'bayesian_exploration',\n",
       " 'time_dependent_upper_confidence_bound',\n",
       " 'expected_improvement',\n",
       " 'multi_fidelity',\n",
       " 'cnsga',\n",
       " 'extremum_seeking',\n",
       " 'rcds']"
      ]
     },
     "execution_count": 3,
     "metadata": {},
     "output_type": "execute_result"
    }
   ],
   "source": [
    "from xopt.generators import list_available_generators\n",
    "list_available_generators()"
   ]
  },
  {
   "cell_type": "markdown",
   "metadata": {
    "collapsed": false
   },
   "source": [
    "Here we will use the simplest generator that is defined by Xopt, random number generation."
   ]
  },
  {
   "cell_type": "code",
   "execution_count": 4,
   "metadata": {
    "ExecuteTime": {
     "end_time": "2023-11-13T20:01:18.193499600Z",
     "start_time": "2023-11-13T20:01:18.178957Z"
    },
    "collapsed": false,
    "execution": {
     "iopub.execute_input": "2024-02-23T21:56:22.621485Z",
     "iopub.status.busy": "2024-02-23T21:56:22.620985Z",
     "iopub.status.idle": "2024-02-23T21:56:22.624473Z",
     "shell.execute_reply": "2024-02-23T21:56:22.623956Z"
    }
   },
   "outputs": [
    {
     "name": "stdout",
     "output_type": "stream",
     "text": [
      "\n",
      "    Random number generator.\n",
      "    \n"
     ]
    }
   ],
   "source": [
    "from xopt.generators import get_generator \n",
    "# get the docstring for the random generator\n",
    "print(get_generator(\"random\").__doc__)\n",
    "\n",
    "# use the get generator method to get the random number generator\n",
    "generator = get_generator(\"random\")(vocs=vocs)"
   ]
  },
  {
   "cell_type": "markdown",
   "metadata": {
    "collapsed": false
   },
   "source": [
    "###  Combine into Xopt object"
   ]
  },
  {
   "cell_type": "code",
   "execution_count": 5,
   "metadata": {
    "ExecuteTime": {
     "end_time": "2023-11-13T20:01:18.237178Z",
     "start_time": "2023-11-13T20:01:18.195500200Z"
    },
    "collapsed": false,
    "execution": {
     "iopub.execute_input": "2024-02-23T21:56:22.626753Z",
     "iopub.status.busy": "2024-02-23T21:56:22.626422Z",
     "iopub.status.idle": "2024-02-23T21:56:22.628935Z",
     "shell.execute_reply": "2024-02-23T21:56:22.628484Z"
    }
   },
   "outputs": [],
   "source": [
    "from xopt import Xopt\n",
    "X = Xopt(vocs=vocs, generator=generator, evaluator=evaluator)"
   ]
  },
  {
   "cell_type": "markdown",
   "metadata": {
    "collapsed": false
   },
   "source": [
    "## Defining Xopt object from yaml file\n",
    "Alternatively, it might be more useful to define the Xopt object from a text file or\n",
    "YAML string. We replicate the code above with the YAML file below."
   ]
  },
  {
   "cell_type": "code",
   "execution_count": 6,
   "metadata": {
    "ExecuteTime": {
     "end_time": "2023-11-13T20:01:18.241091400Z",
     "start_time": "2023-11-13T20:01:18.209499500Z"
    },
    "collapsed": false,
    "execution": {
     "iopub.execute_input": "2024-02-23T21:56:22.631059Z",
     "iopub.status.busy": "2024-02-23T21:56:22.630736Z",
     "iopub.status.idle": "2024-02-23T21:56:22.633509Z",
     "shell.execute_reply": "2024-02-23T21:56:22.633042Z"
    }
   },
   "outputs": [],
   "source": [
    "# Make a proper input file.\n",
    "YAML = \"\"\"\n",
    "evaluator:\n",
    "    function: __main__.evaluate_function\n",
    "\n",
    "generator:\n",
    "    name: random\n",
    "\n",
    "vocs:\n",
    "    variables:\n",
    "        x1: [0, 3.14159]\n",
    "        x2: [0, 3.14159]\n",
    "    objectives: {f: MINIMIZE}\n",
    "    constraints:\n",
    "        g: [LESS_THAN, 0]\n",
    "\n",
    "\"\"\""
   ]
  },
  {
   "cell_type": "code",
   "execution_count": 7,
   "metadata": {
    "ExecuteTime": {
     "end_time": "2023-11-13T20:01:18.242092100Z",
     "start_time": "2023-11-13T20:01:18.237178Z"
    },
    "collapsed": false,
    "execution": {
     "iopub.execute_input": "2024-02-23T21:56:22.635345Z",
     "iopub.status.busy": "2024-02-23T21:56:22.635175Z",
     "iopub.status.idle": "2024-02-23T21:56:22.640425Z",
     "shell.execute_reply": "2024-02-23T21:56:22.639948Z"
    }
   },
   "outputs": [],
   "source": [
    "# create Xopt object.\n",
    "X_from_yaml = Xopt.from_yaml(YAML)"
   ]
  },
  {
   "cell_type": "markdown",
   "metadata": {
    "collapsed": false
   },
   "source": [
    "## Introspection\n",
    "Objects in Xopt can be printed to a string or dumped to a text file for easy\n",
    "introspection of attributes and current configuration."
   ]
  },
  {
   "cell_type": "code",
   "execution_count": 8,
   "metadata": {
    "ExecuteTime": {
     "end_time": "2023-11-13T20:01:18.254091900Z",
     "start_time": "2023-11-13T20:01:18.240090300Z"
    },
    "execution": {
     "iopub.execute_input": "2024-02-23T21:56:22.642567Z",
     "iopub.status.busy": "2024-02-23T21:56:22.642235Z",
     "iopub.status.idle": "2024-02-23T21:56:22.648167Z",
     "shell.execute_reply": "2024-02-23T21:56:22.647708Z"
    }
   },
   "outputs": [
    {
     "data": {
      "text/plain": [
       "\n",
       "            Xopt\n",
       "________________________________\n",
       "Version: 0+untagged.1.g7a7eff9\n",
       "Data size: 0\n",
       "Config as YAML:\n",
       "dump_file: null\n",
       "evaluator:\n",
       "  function: __main__.evaluate_function\n",
       "  function_kwargs: {}\n",
       "  max_workers: 1\n",
       "  vectorized: false\n",
       "generator:\n",
       "  name: random\n",
       "  supports_batch_generation: true\n",
       "  supports_multi_objective: true\n",
       "max_evaluations: null\n",
       "serialize_inline: false\n",
       "serialize_torch: false\n",
       "strict: true\n",
       "vocs:\n",
       "  constants: {}\n",
       "  constraints:\n",
       "    g:\n",
       "    - LESS_THAN\n",
       "    - 0.0\n",
       "  objectives:\n",
       "    f: MINIMIZE\n",
       "  observables: []\n",
       "  variables:\n",
       "    x1:\n",
       "    - 0.0\n",
       "    - 3.141592653589793\n",
       "    x2:\n",
       "    - 0.0\n",
       "    - 3.141592653589793\n"
      ]
     },
     "execution_count": 8,
     "metadata": {},
     "output_type": "execute_result"
    }
   ],
   "source": [
    "# Convenient representation of the state.\n",
    "X"
   ]
  },
  {
   "cell_type": "markdown",
   "metadata": {
    "collapsed": false
   },
   "source": [
    "## Evaluating randomly generated or fixed inputs.\n",
    "The main Xopt object has a variety of means for evaluating random or fixed points.\n",
    "This is often used to initialize optimization, but can be used independently of any\n",
    "generator. Results from evaluations are stored in the `data` attribute. Data can also\n",
    " be explictly added to the Xopt object (and by extension the generator attached to\n",
    " the xopt object by calling `X.add_data()`."
   ]
  },
  {
   "cell_type": "code",
   "execution_count": 9,
   "metadata": {
    "ExecuteTime": {
     "end_time": "2023-11-13T20:01:18.297163800Z",
     "start_time": "2023-11-13T20:01:18.256093200Z"
    },
    "execution": {
     "iopub.execute_input": "2024-02-23T21:56:22.650313Z",
     "iopub.status.busy": "2024-02-23T21:56:22.649987Z",
     "iopub.status.idle": "2024-02-23T21:56:22.660794Z",
     "shell.execute_reply": "2024-02-23T21:56:22.660271Z"
    }
   },
   "outputs": [
    {
     "data": {
      "text/html": [
       "<div>\n",
       "<style scoped>\n",
       "    .dataframe tbody tr th:only-of-type {\n",
       "        vertical-align: middle;\n",
       "    }\n",
       "\n",
       "    .dataframe tbody tr th {\n",
       "        vertical-align: top;\n",
       "    }\n",
       "\n",
       "    .dataframe thead th {\n",
       "        text-align: right;\n",
       "    }\n",
       "</style>\n",
       "<table border=\"1\" class=\"dataframe\">\n",
       "  <thead>\n",
       "    <tr style=\"text-align: right;\">\n",
       "      <th></th>\n",
       "      <th>x1</th>\n",
       "      <th>x2</th>\n",
       "      <th>f</th>\n",
       "      <th>g</th>\n",
       "      <th>xopt_runtime</th>\n",
       "      <th>xopt_error</th>\n",
       "    </tr>\n",
       "  </thead>\n",
       "  <tbody>\n",
       "    <tr>\n",
       "      <th>0</th>\n",
       "      <td>0.660042</td>\n",
       "      <td>0.949303</td>\n",
       "      <td>1.336831</td>\n",
       "      <td>-0.336831</td>\n",
       "      <td>3.717000e-06</td>\n",
       "      <td>False</td>\n",
       "    </tr>\n",
       "    <tr>\n",
       "      <th>1</th>\n",
       "      <td>1.028965</td>\n",
       "      <td>0.454876</td>\n",
       "      <td>1.265682</td>\n",
       "      <td>-0.265682</td>\n",
       "      <td>1.383000e-06</td>\n",
       "      <td>False</td>\n",
       "    </tr>\n",
       "    <tr>\n",
       "      <th>2</th>\n",
       "      <td>2.225963</td>\n",
       "      <td>1.911716</td>\n",
       "      <td>8.609566</td>\n",
       "      <td>-7.609566</td>\n",
       "      <td>1.042000e-06</td>\n",
       "      <td>False</td>\n",
       "    </tr>\n",
       "    <tr>\n",
       "      <th>3</th>\n",
       "      <td>2.757545</td>\n",
       "      <td>1.410221</td>\n",
       "      <td>9.592775</td>\n",
       "      <td>-8.592775</td>\n",
       "      <td>1.363000e-06</td>\n",
       "      <td>False</td>\n",
       "    </tr>\n",
       "    <tr>\n",
       "      <th>4</th>\n",
       "      <td>2.097186</td>\n",
       "      <td>2.467250</td>\n",
       "      <td>10.485512</td>\n",
       "      <td>-9.485512</td>\n",
       "      <td>8.020000e-07</td>\n",
       "      <td>False</td>\n",
       "    </tr>\n",
       "  </tbody>\n",
       "</table>\n",
       "</div>"
      ],
      "text/plain": [
       "         x1        x2          f         g  xopt_runtime  xopt_error\n",
       "0  0.660042  0.949303   1.336831 -0.336831  3.717000e-06       False\n",
       "1  1.028965  0.454876   1.265682 -0.265682  1.383000e-06       False\n",
       "2  2.225963  1.911716   8.609566 -7.609566  1.042000e-06       False\n",
       "3  2.757545  1.410221   9.592775 -8.592775  1.363000e-06       False\n",
       "4  2.097186  2.467250  10.485512 -9.485512  8.020000e-07       False"
      ]
     },
     "execution_count": 9,
     "metadata": {},
     "output_type": "execute_result"
    }
   ],
   "source": [
    "# randomly evaluate some points and add data to Xopt object\n",
    "X.random_evaluate(5)"
   ]
  },
  {
   "cell_type": "code",
   "execution_count": 10,
   "metadata": {
    "ExecuteTime": {
     "end_time": "2023-11-13T20:01:18.307170200Z",
     "start_time": "2023-11-13T20:01:18.272138800Z"
    },
    "collapsed": false,
    "execution": {
     "iopub.execute_input": "2024-02-23T21:56:22.662970Z",
     "iopub.status.busy": "2024-02-23T21:56:22.662639Z",
     "iopub.status.idle": "2024-02-23T21:56:22.671599Z",
     "shell.execute_reply": "2024-02-23T21:56:22.671065Z"
    }
   },
   "outputs": [
    {
     "data": {
      "text/html": [
       "<div>\n",
       "<style scoped>\n",
       "    .dataframe tbody tr th:only-of-type {\n",
       "        vertical-align: middle;\n",
       "    }\n",
       "\n",
       "    .dataframe tbody tr th {\n",
       "        vertical-align: top;\n",
       "    }\n",
       "\n",
       "    .dataframe thead th {\n",
       "        text-align: right;\n",
       "    }\n",
       "</style>\n",
       "<table border=\"1\" class=\"dataframe\">\n",
       "  <thead>\n",
       "    <tr style=\"text-align: right;\">\n",
       "      <th></th>\n",
       "      <th>x1</th>\n",
       "      <th>x2</th>\n",
       "      <th>f</th>\n",
       "      <th>g</th>\n",
       "      <th>xopt_runtime</th>\n",
       "      <th>xopt_error</th>\n",
       "    </tr>\n",
       "  </thead>\n",
       "  <tbody>\n",
       "    <tr>\n",
       "      <th>0</th>\n",
       "      <td>1.00</td>\n",
       "      <td>0.00</td>\n",
       "      <td>1.0000</td>\n",
       "      <td>0.0000</td>\n",
       "      <td>0.000003</td>\n",
       "      <td>False</td>\n",
       "    </tr>\n",
       "    <tr>\n",
       "      <th>1</th>\n",
       "      <td>0.50</td>\n",
       "      <td>1.75</td>\n",
       "      <td>3.3125</td>\n",
       "      <td>-2.3125</td>\n",
       "      <td>0.000002</td>\n",
       "      <td>False</td>\n",
       "    </tr>\n",
       "    <tr>\n",
       "      <th>2</th>\n",
       "      <td>2.25</td>\n",
       "      <td>0.60</td>\n",
       "      <td>5.4225</td>\n",
       "      <td>-4.4225</td>\n",
       "      <td>0.000001</td>\n",
       "      <td>False</td>\n",
       "    </tr>\n",
       "  </tbody>\n",
       "</table>\n",
       "</div>"
      ],
      "text/plain": [
       "     x1    x2       f       g  xopt_runtime  xopt_error\n",
       "0  1.00  0.00  1.0000  0.0000      0.000003       False\n",
       "1  0.50  1.75  3.3125 -2.3125      0.000002       False\n",
       "2  2.25  0.60  5.4225 -4.4225      0.000001       False"
      ]
     },
     "execution_count": 10,
     "metadata": {},
     "output_type": "execute_result"
    }
   ],
   "source": [
    "# evaluate some points additionally\n",
    "points = {\"x1\": [1.0, 0.5, 2.25],\"x2\":[0,1.75,0.6]}\n",
    "X.evaluate_data(points)"
   ]
  },
  {
   "cell_type": "code",
   "execution_count": 11,
   "metadata": {
    "ExecuteTime": {
     "end_time": "2023-11-13T20:01:18.350141100Z",
     "start_time": "2023-11-13T20:01:18.286142300Z"
    },
    "collapsed": false,
    "execution": {
     "iopub.execute_input": "2024-02-23T21:56:22.673605Z",
     "iopub.status.busy": "2024-02-23T21:56:22.673306Z",
     "iopub.status.idle": "2024-02-23T21:56:22.679881Z",
     "shell.execute_reply": "2024-02-23T21:56:22.679382Z"
    }
   },
   "outputs": [
    {
     "data": {
      "text/html": [
       "<div>\n",
       "<style scoped>\n",
       "    .dataframe tbody tr th:only-of-type {\n",
       "        vertical-align: middle;\n",
       "    }\n",
       "\n",
       "    .dataframe tbody tr th {\n",
       "        vertical-align: top;\n",
       "    }\n",
       "\n",
       "    .dataframe thead th {\n",
       "        text-align: right;\n",
       "    }\n",
       "</style>\n",
       "<table border=\"1\" class=\"dataframe\">\n",
       "  <thead>\n",
       "    <tr style=\"text-align: right;\">\n",
       "      <th></th>\n",
       "      <th>x1</th>\n",
       "      <th>x2</th>\n",
       "      <th>f</th>\n",
       "      <th>g</th>\n",
       "      <th>xopt_runtime</th>\n",
       "      <th>xopt_error</th>\n",
       "    </tr>\n",
       "  </thead>\n",
       "  <tbody>\n",
       "    <tr>\n",
       "      <th>0</th>\n",
       "      <td>0.660042</td>\n",
       "      <td>0.949303</td>\n",
       "      <td>1.336831</td>\n",
       "      <td>-0.336831</td>\n",
       "      <td>3.717000e-06</td>\n",
       "      <td>False</td>\n",
       "    </tr>\n",
       "    <tr>\n",
       "      <th>1</th>\n",
       "      <td>1.028965</td>\n",
       "      <td>0.454876</td>\n",
       "      <td>1.265682</td>\n",
       "      <td>-0.265682</td>\n",
       "      <td>1.383000e-06</td>\n",
       "      <td>False</td>\n",
       "    </tr>\n",
       "    <tr>\n",
       "      <th>2</th>\n",
       "      <td>2.225963</td>\n",
       "      <td>1.911716</td>\n",
       "      <td>8.609566</td>\n",
       "      <td>-7.609566</td>\n",
       "      <td>1.042000e-06</td>\n",
       "      <td>False</td>\n",
       "    </tr>\n",
       "    <tr>\n",
       "      <th>3</th>\n",
       "      <td>2.757545</td>\n",
       "      <td>1.410221</td>\n",
       "      <td>9.592775</td>\n",
       "      <td>-8.592775</td>\n",
       "      <td>1.363000e-06</td>\n",
       "      <td>False</td>\n",
       "    </tr>\n",
       "    <tr>\n",
       "      <th>4</th>\n",
       "      <td>2.097186</td>\n",
       "      <td>2.467250</td>\n",
       "      <td>10.485512</td>\n",
       "      <td>-9.485512</td>\n",
       "      <td>8.020000e-07</td>\n",
       "      <td>False</td>\n",
       "    </tr>\n",
       "    <tr>\n",
       "      <th>5</th>\n",
       "      <td>1.000000</td>\n",
       "      <td>0.000000</td>\n",
       "      <td>1.000000</td>\n",
       "      <td>0.000000</td>\n",
       "      <td>2.946000e-06</td>\n",
       "      <td>False</td>\n",
       "    </tr>\n",
       "    <tr>\n",
       "      <th>6</th>\n",
       "      <td>0.500000</td>\n",
       "      <td>1.750000</td>\n",
       "      <td>3.312500</td>\n",
       "      <td>-2.312500</td>\n",
       "      <td>1.573000e-06</td>\n",
       "      <td>False</td>\n",
       "    </tr>\n",
       "    <tr>\n",
       "      <th>7</th>\n",
       "      <td>2.250000</td>\n",
       "      <td>0.600000</td>\n",
       "      <td>5.422500</td>\n",
       "      <td>-4.422500</td>\n",
       "      <td>1.162000e-06</td>\n",
       "      <td>False</td>\n",
       "    </tr>\n",
       "  </tbody>\n",
       "</table>\n",
       "</div>"
      ],
      "text/plain": [
       "         x1        x2          f         g  xopt_runtime  xopt_error\n",
       "0  0.660042  0.949303   1.336831 -0.336831  3.717000e-06       False\n",
       "1  1.028965  0.454876   1.265682 -0.265682  1.383000e-06       False\n",
       "2  2.225963  1.911716   8.609566 -7.609566  1.042000e-06       False\n",
       "3  2.757545  1.410221   9.592775 -8.592775  1.363000e-06       False\n",
       "4  2.097186  2.467250  10.485512 -9.485512  8.020000e-07       False\n",
       "5  1.000000  0.000000   1.000000  0.000000  2.946000e-06       False\n",
       "6  0.500000  1.750000   3.312500 -2.312500  1.573000e-06       False\n",
       "7  2.250000  0.600000   5.422500 -4.422500  1.162000e-06       False"
      ]
     },
     "execution_count": 11,
     "metadata": {},
     "output_type": "execute_result"
    }
   ],
   "source": [
    "# examine the data stored in Xopt\n",
    "X.data"
   ]
  },
  {
   "cell_type": "markdown",
   "metadata": {
    "collapsed": false
   },
   "source": [
    "## Optimization\n",
    "Xopt conducts a single iteration of optimization by calling `X.step()`. Inside this\n",
    "function Xopt will generate a point (or set of points) using the generator object,\n",
    "then send the point to be evaluated by the evaluator. Results will be stored in the\n",
    "data attribute."
   ]
  },
  {
   "cell_type": "code",
   "execution_count": 12,
   "metadata": {
    "ExecuteTime": {
     "end_time": "2023-11-13T20:01:18.364141700Z",
     "start_time": "2023-11-13T20:01:18.300144800Z"
    },
    "collapsed": false,
    "execution": {
     "iopub.execute_input": "2024-02-23T21:56:22.681905Z",
     "iopub.status.busy": "2024-02-23T21:56:22.681721Z",
     "iopub.status.idle": "2024-02-23T21:56:22.686774Z",
     "shell.execute_reply": "2024-02-23T21:56:22.686323Z"
    }
   },
   "outputs": [],
   "source": [
    "# Take one step (generate a single point)\n",
    "X.step()"
   ]
  },
  {
   "cell_type": "code",
   "execution_count": 13,
   "metadata": {
    "ExecuteTime": {
     "end_time": "2023-11-13T20:01:18.390141200Z",
     "start_time": "2023-11-13T20:01:18.316140200Z"
    },
    "collapsed": false,
    "execution": {
     "iopub.execute_input": "2024-02-23T21:56:22.688822Z",
     "iopub.status.busy": "2024-02-23T21:56:22.688472Z",
     "iopub.status.idle": "2024-02-23T21:56:22.695610Z",
     "shell.execute_reply": "2024-02-23T21:56:22.695101Z"
    }
   },
   "outputs": [
    {
     "data": {
      "text/html": [
       "<div>\n",
       "<style scoped>\n",
       "    .dataframe tbody tr th:only-of-type {\n",
       "        vertical-align: middle;\n",
       "    }\n",
       "\n",
       "    .dataframe tbody tr th {\n",
       "        vertical-align: top;\n",
       "    }\n",
       "\n",
       "    .dataframe thead th {\n",
       "        text-align: right;\n",
       "    }\n",
       "</style>\n",
       "<table border=\"1\" class=\"dataframe\">\n",
       "  <thead>\n",
       "    <tr style=\"text-align: right;\">\n",
       "      <th></th>\n",
       "      <th>x1</th>\n",
       "      <th>x2</th>\n",
       "      <th>f</th>\n",
       "      <th>g</th>\n",
       "      <th>xopt_runtime</th>\n",
       "      <th>xopt_error</th>\n",
       "    </tr>\n",
       "  </thead>\n",
       "  <tbody>\n",
       "    <tr>\n",
       "      <th>0</th>\n",
       "      <td>0.660042</td>\n",
       "      <td>0.949303</td>\n",
       "      <td>1.336831</td>\n",
       "      <td>-0.336831</td>\n",
       "      <td>3.717000e-06</td>\n",
       "      <td>False</td>\n",
       "    </tr>\n",
       "    <tr>\n",
       "      <th>1</th>\n",
       "      <td>1.028965</td>\n",
       "      <td>0.454876</td>\n",
       "      <td>1.265682</td>\n",
       "      <td>-0.265682</td>\n",
       "      <td>1.383000e-06</td>\n",
       "      <td>False</td>\n",
       "    </tr>\n",
       "    <tr>\n",
       "      <th>2</th>\n",
       "      <td>2.225963</td>\n",
       "      <td>1.911716</td>\n",
       "      <td>8.609566</td>\n",
       "      <td>-7.609566</td>\n",
       "      <td>1.042000e-06</td>\n",
       "      <td>False</td>\n",
       "    </tr>\n",
       "    <tr>\n",
       "      <th>3</th>\n",
       "      <td>2.757545</td>\n",
       "      <td>1.410221</td>\n",
       "      <td>9.592775</td>\n",
       "      <td>-8.592775</td>\n",
       "      <td>1.363000e-06</td>\n",
       "      <td>False</td>\n",
       "    </tr>\n",
       "    <tr>\n",
       "      <th>4</th>\n",
       "      <td>2.097186</td>\n",
       "      <td>2.467250</td>\n",
       "      <td>10.485512</td>\n",
       "      <td>-9.485512</td>\n",
       "      <td>8.020000e-07</td>\n",
       "      <td>False</td>\n",
       "    </tr>\n",
       "    <tr>\n",
       "      <th>5</th>\n",
       "      <td>1.000000</td>\n",
       "      <td>0.000000</td>\n",
       "      <td>1.000000</td>\n",
       "      <td>0.000000</td>\n",
       "      <td>2.946000e-06</td>\n",
       "      <td>False</td>\n",
       "    </tr>\n",
       "    <tr>\n",
       "      <th>6</th>\n",
       "      <td>0.500000</td>\n",
       "      <td>1.750000</td>\n",
       "      <td>3.312500</td>\n",
       "      <td>-2.312500</td>\n",
       "      <td>1.573000e-06</td>\n",
       "      <td>False</td>\n",
       "    </tr>\n",
       "    <tr>\n",
       "      <th>7</th>\n",
       "      <td>2.250000</td>\n",
       "      <td>0.600000</td>\n",
       "      <td>5.422500</td>\n",
       "      <td>-4.422500</td>\n",
       "      <td>1.162000e-06</td>\n",
       "      <td>False</td>\n",
       "    </tr>\n",
       "    <tr>\n",
       "      <th>8</th>\n",
       "      <td>0.512703</td>\n",
       "      <td>2.621081</td>\n",
       "      <td>7.132930</td>\n",
       "      <td>-6.132930</td>\n",
       "      <td>1.704200e-05</td>\n",
       "      <td>False</td>\n",
       "    </tr>\n",
       "  </tbody>\n",
       "</table>\n",
       "</div>"
      ],
      "text/plain": [
       "         x1        x2          f         g  xopt_runtime  xopt_error\n",
       "0  0.660042  0.949303   1.336831 -0.336831  3.717000e-06       False\n",
       "1  1.028965  0.454876   1.265682 -0.265682  1.383000e-06       False\n",
       "2  2.225963  1.911716   8.609566 -7.609566  1.042000e-06       False\n",
       "3  2.757545  1.410221   9.592775 -8.592775  1.363000e-06       False\n",
       "4  2.097186  2.467250  10.485512 -9.485512  8.020000e-07       False\n",
       "5  1.000000  0.000000   1.000000  0.000000  2.946000e-06       False\n",
       "6  0.500000  1.750000   3.312500 -2.312500  1.573000e-06       False\n",
       "7  2.250000  0.600000   5.422500 -4.422500  1.162000e-06       False\n",
       "8  0.512703  2.621081   7.132930 -6.132930  1.704200e-05       False"
      ]
     },
     "execution_count": 13,
     "metadata": {},
     "output_type": "execute_result"
    }
   ],
   "source": [
    "# examine the results\n",
    "X.data"
   ]
  },
  {
   "cell_type": "code",
   "execution_count": 14,
   "metadata": {
    "ExecuteTime": {
     "end_time": "2023-11-13T20:01:18.432141400Z",
     "start_time": "2023-11-13T20:01:18.332138700Z"
    },
    "collapsed": false,
    "execution": {
     "iopub.execute_input": "2024-02-23T21:56:22.697676Z",
     "iopub.status.busy": "2024-02-23T21:56:22.697327Z",
     "iopub.status.idle": "2024-02-23T21:56:22.728775Z",
     "shell.execute_reply": "2024-02-23T21:56:22.728215Z"
    }
   },
   "outputs": [
    {
     "data": {
      "text/html": [
       "<div>\n",
       "<style scoped>\n",
       "    .dataframe tbody tr th:only-of-type {\n",
       "        vertical-align: middle;\n",
       "    }\n",
       "\n",
       "    .dataframe tbody tr th {\n",
       "        vertical-align: top;\n",
       "    }\n",
       "\n",
       "    .dataframe thead th {\n",
       "        text-align: right;\n",
       "    }\n",
       "</style>\n",
       "<table border=\"1\" class=\"dataframe\">\n",
       "  <thead>\n",
       "    <tr style=\"text-align: right;\">\n",
       "      <th></th>\n",
       "      <th>x1</th>\n",
       "      <th>x2</th>\n",
       "      <th>f</th>\n",
       "      <th>g</th>\n",
       "      <th>xopt_runtime</th>\n",
       "      <th>xopt_error</th>\n",
       "    </tr>\n",
       "  </thead>\n",
       "  <tbody>\n",
       "    <tr>\n",
       "      <th>0</th>\n",
       "      <td>0.660042</td>\n",
       "      <td>0.949303</td>\n",
       "      <td>1.336831</td>\n",
       "      <td>-0.336831</td>\n",
       "      <td>3.717000e-06</td>\n",
       "      <td>False</td>\n",
       "    </tr>\n",
       "    <tr>\n",
       "      <th>1</th>\n",
       "      <td>1.028965</td>\n",
       "      <td>0.454876</td>\n",
       "      <td>1.265682</td>\n",
       "      <td>-0.265682</td>\n",
       "      <td>1.383000e-06</td>\n",
       "      <td>False</td>\n",
       "    </tr>\n",
       "    <tr>\n",
       "      <th>2</th>\n",
       "      <td>2.225963</td>\n",
       "      <td>1.911716</td>\n",
       "      <td>8.609566</td>\n",
       "      <td>-7.609566</td>\n",
       "      <td>1.042000e-06</td>\n",
       "      <td>False</td>\n",
       "    </tr>\n",
       "    <tr>\n",
       "      <th>3</th>\n",
       "      <td>2.757545</td>\n",
       "      <td>1.410221</td>\n",
       "      <td>9.592775</td>\n",
       "      <td>-8.592775</td>\n",
       "      <td>1.363000e-06</td>\n",
       "      <td>False</td>\n",
       "    </tr>\n",
       "    <tr>\n",
       "      <th>4</th>\n",
       "      <td>2.097186</td>\n",
       "      <td>2.467250</td>\n",
       "      <td>10.485512</td>\n",
       "      <td>-9.485512</td>\n",
       "      <td>8.020000e-07</td>\n",
       "      <td>False</td>\n",
       "    </tr>\n",
       "    <tr>\n",
       "      <th>5</th>\n",
       "      <td>1.000000</td>\n",
       "      <td>0.000000</td>\n",
       "      <td>1.000000</td>\n",
       "      <td>0.000000</td>\n",
       "      <td>2.946000e-06</td>\n",
       "      <td>False</td>\n",
       "    </tr>\n",
       "    <tr>\n",
       "      <th>6</th>\n",
       "      <td>0.500000</td>\n",
       "      <td>1.750000</td>\n",
       "      <td>3.312500</td>\n",
       "      <td>-2.312500</td>\n",
       "      <td>1.573000e-06</td>\n",
       "      <td>False</td>\n",
       "    </tr>\n",
       "    <tr>\n",
       "      <th>7</th>\n",
       "      <td>2.250000</td>\n",
       "      <td>0.600000</td>\n",
       "      <td>5.422500</td>\n",
       "      <td>-4.422500</td>\n",
       "      <td>1.162000e-06</td>\n",
       "      <td>False</td>\n",
       "    </tr>\n",
       "    <tr>\n",
       "      <th>8</th>\n",
       "      <td>0.512703</td>\n",
       "      <td>2.621081</td>\n",
       "      <td>7.132930</td>\n",
       "      <td>-6.132930</td>\n",
       "      <td>1.704200e-05</td>\n",
       "      <td>False</td>\n",
       "    </tr>\n",
       "    <tr>\n",
       "      <th>9</th>\n",
       "      <td>1.802564</td>\n",
       "      <td>2.638108</td>\n",
       "      <td>10.208852</td>\n",
       "      <td>-9.208852</td>\n",
       "      <td>1.285400e-05</td>\n",
       "      <td>False</td>\n",
       "    </tr>\n",
       "    <tr>\n",
       "      <th>10</th>\n",
       "      <td>3.045649</td>\n",
       "      <td>2.293191</td>\n",
       "      <td>14.534701</td>\n",
       "      <td>-13.534701</td>\n",
       "      <td>1.238400e-05</td>\n",
       "      <td>False</td>\n",
       "    </tr>\n",
       "    <tr>\n",
       "      <th>11</th>\n",
       "      <td>2.062728</td>\n",
       "      <td>2.679771</td>\n",
       "      <td>11.436021</td>\n",
       "      <td>-10.436021</td>\n",
       "      <td>1.321400e-05</td>\n",
       "      <td>False</td>\n",
       "    </tr>\n",
       "    <tr>\n",
       "      <th>12</th>\n",
       "      <td>1.468462</td>\n",
       "      <td>0.755478</td>\n",
       "      <td>2.727128</td>\n",
       "      <td>-1.727128</td>\n",
       "      <td>1.347500e-05</td>\n",
       "      <td>False</td>\n",
       "    </tr>\n",
       "    <tr>\n",
       "      <th>13</th>\n",
       "      <td>1.367284</td>\n",
       "      <td>1.618035</td>\n",
       "      <td>4.487503</td>\n",
       "      <td>-3.487503</td>\n",
       "      <td>1.350600e-05</td>\n",
       "      <td>False</td>\n",
       "    </tr>\n",
       "    <tr>\n",
       "      <th>14</th>\n",
       "      <td>2.472766</td>\n",
       "      <td>3.138805</td>\n",
       "      <td>15.966670</td>\n",
       "      <td>-14.966670</td>\n",
       "      <td>4.162700e-05</td>\n",
       "      <td>False</td>\n",
       "    </tr>\n",
       "    <tr>\n",
       "      <th>15</th>\n",
       "      <td>1.685061</td>\n",
       "      <td>2.267897</td>\n",
       "      <td>7.982785</td>\n",
       "      <td>-6.982785</td>\n",
       "      <td>1.361600e-05</td>\n",
       "      <td>False</td>\n",
       "    </tr>\n",
       "    <tr>\n",
       "      <th>16</th>\n",
       "      <td>1.067109</td>\n",
       "      <td>2.973331</td>\n",
       "      <td>9.979419</td>\n",
       "      <td>-8.979419</td>\n",
       "      <td>1.339500e-05</td>\n",
       "      <td>False</td>\n",
       "    </tr>\n",
       "    <tr>\n",
       "      <th>17</th>\n",
       "      <td>3.102418</td>\n",
       "      <td>2.011511</td>\n",
       "      <td>13.671173</td>\n",
       "      <td>-12.671173</td>\n",
       "      <td>1.348500e-05</td>\n",
       "      <td>False</td>\n",
       "    </tr>\n",
       "    <tr>\n",
       "      <th>18</th>\n",
       "      <td>2.303972</td>\n",
       "      <td>1.355493</td>\n",
       "      <td>7.145645</td>\n",
       "      <td>-6.145645</td>\n",
       "      <td>1.353600e-05</td>\n",
       "      <td>False</td>\n",
       "    </tr>\n",
       "  </tbody>\n",
       "</table>\n",
       "</div>"
      ],
      "text/plain": [
       "          x1        x2          f          g  xopt_runtime  xopt_error\n",
       "0   0.660042  0.949303   1.336831  -0.336831  3.717000e-06       False\n",
       "1   1.028965  0.454876   1.265682  -0.265682  1.383000e-06       False\n",
       "2   2.225963  1.911716   8.609566  -7.609566  1.042000e-06       False\n",
       "3   2.757545  1.410221   9.592775  -8.592775  1.363000e-06       False\n",
       "4   2.097186  2.467250  10.485512  -9.485512  8.020000e-07       False\n",
       "5   1.000000  0.000000   1.000000   0.000000  2.946000e-06       False\n",
       "6   0.500000  1.750000   3.312500  -2.312500  1.573000e-06       False\n",
       "7   2.250000  0.600000   5.422500  -4.422500  1.162000e-06       False\n",
       "8   0.512703  2.621081   7.132930  -6.132930  1.704200e-05       False\n",
       "9   1.802564  2.638108  10.208852  -9.208852  1.285400e-05       False\n",
       "10  3.045649  2.293191  14.534701 -13.534701  1.238400e-05       False\n",
       "11  2.062728  2.679771  11.436021 -10.436021  1.321400e-05       False\n",
       "12  1.468462  0.755478   2.727128  -1.727128  1.347500e-05       False\n",
       "13  1.367284  1.618035   4.487503  -3.487503  1.350600e-05       False\n",
       "14  2.472766  3.138805  15.966670 -14.966670  4.162700e-05       False\n",
       "15  1.685061  2.267897   7.982785  -6.982785  1.361600e-05       False\n",
       "16  1.067109  2.973331   9.979419  -8.979419  1.339500e-05       False\n",
       "17  3.102418  2.011511  13.671173 -12.671173  1.348500e-05       False\n",
       "18  2.303972  1.355493   7.145645  -6.145645  1.353600e-05       False"
      ]
     },
     "execution_count": 14,
     "metadata": {},
     "output_type": "execute_result"
    }
   ],
   "source": [
    "# take a couple of steps and examine the results\n",
    "for _ in range(10):\n",
    "    X.step()\n",
    "X.data"
   ]
  },
  {
   "cell_type": "markdown",
   "metadata": {
    "collapsed": false
   },
   "source": [
    "## Visualization\n",
    "Finally, we can visualize the objectives and variables to monitor optimization or\n",
    "visualize the results"
   ]
  },
  {
   "cell_type": "code",
   "execution_count": 15,
   "metadata": {
    "ExecuteTime": {
     "end_time": "2023-11-13T20:01:19.144190400Z",
     "start_time": "2023-11-13T20:01:18.377142200Z"
    },
    "collapsed": false,
    "execution": {
     "iopub.execute_input": "2024-02-23T21:56:22.731033Z",
     "iopub.status.busy": "2024-02-23T21:56:22.730861Z",
     "iopub.status.idle": "2024-02-23T21:56:24.627352Z",
     "shell.execute_reply": "2024-02-23T21:56:24.626726Z"
    }
   },
   "outputs": [
    {
     "data": {
      "text/plain": [
       "<Axes: xlabel='x1', ylabel='x2'>"
      ]
     },
     "execution_count": 15,
     "metadata": {},
     "output_type": "execute_result"
    },
    {
     "data": {
      "image/png": "[encoded data removed]",
      "text/plain": [
       "<Figure size 640x480 with 1 Axes>"
      ]
     },
     "metadata": {},
     "output_type": "display_data"
    },
    {
     "data": {
      "image/png": "[encoded data removed]",
      "text/plain": [
       "<Figure size 640x480 with 1 Axes>"
      ]
     },
     "metadata": {},
     "output_type": "display_data"
    },
    {
     "data": {
      "image/png": "[encoded data removed]",
      "text/plain": [
       "<Figure size 640x480 with 1 Axes>"
      ]
     },
     "metadata": {},
     "output_type": "display_data"
    }
   ],
   "source": [
    "import matplotlib.pyplot as plt\n",
    "\n",
    "# view objective values\n",
    "X.data.plot(y=X.vocs.objective_names)\n",
    "\n",
    "# view variables values\n",
    "X.data.plot(*X.vocs.variable_names, kind=\"scatter\")\n",
    "\n",
    "# you can also normalize the variables\n",
    "X.vocs.normalize_inputs(X.data).plot(*X.vocs.variable_names, kind=\"scatter\")"
   ]
  }
 ],
 "metadata": {
  "interpreter": {
   "hash": "72034539424920dfb606fe3b820b3f27dca0cbf1c69938110810ec4641e275b1"
  },
  "kernelspec": {
   "display_name": "Python 3.9.12 ('xopt-dev')",
   "language": "python",
   "name": "python3"
  },
  "language_info": {
   "codemirror_mode": {
    "name": "ipython",
    "version": 3
   },
   "file_extension": ".py",
   "mimetype": "text/x-python",
   "name": "python",
   "nbconvert_exporter": "python",
   "pygments_lexer": "ipython3",
   "version": "3.9.18"
  }
 },
 "nbformat": 4,
 "nbformat_minor": 4
}
