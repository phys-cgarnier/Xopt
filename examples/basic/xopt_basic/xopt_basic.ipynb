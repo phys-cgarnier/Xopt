{
 "cells": [
  {
   "cell_type": "markdown",
   "metadata": {},
   "source": [
    "# Xopt basic example\n",
    "\n",
    "Xopt optimization problems can be defined via one of two methods:\n",
    "- a yaml text file (for limiting the amount of python script writing and/or setting up simulation runs)\n",
    "- a simple python script (for those who prefer to use python directly)\n",
    "\n",
    "Here we will demonstrate how both of these techniques can be used to solve a relatively simple  constrained optimization problem.\n",
    "\n",
    "$n=2$ variables:\n",
    "$x_i \\in [0, \\pi], i=1,2$\n",
    "\n",
    "Objective:\n",
    "- $f(x) = \\sum_i x_i$\n",
    "\n",
    "Constraint:\n",
    "- $g(x) = -x_1^2 -x_2^2 + 1 \\le 0$"
   ]
  },
  {
   "cell_type": "markdown",
   "metadata": {
    "collapsed": false
   },
   "source": [
    "## Xopt Components\n",
    "The definition of the Xopt object requires 3 parts, listed below:\n",
    "- The `Evaluator` object, which evaluates input points using the arbitrary function\n",
    "specified by the `function` property.\n",
    "- The `Generator` object, which, when given data that has been evaluated, generates\n",
    "future points to evaluate using the evaluator.\n",
    "- The `VOCS` (variables, objectives, constraints, statics) object, which specifies the\n",
    "input domain, the objectives, constraints and constants passed to the evaluator\n",
    "function.\n"
   ]
  },
  {
   "cell_type": "markdown",
   "metadata": {
    "collapsed": false
   },
   "source": [
    "## Defining Xopt components using python\n",
    "We first examine how one would create and configure and Xopt optimization run using\n",
    "python. This can also be done via a YAML file (see the next section)."
   ]
  },
  {
   "cell_type": "markdown",
   "metadata": {
    "collapsed": false
   },
   "source": [
    "### Define the objective function and the evaluator\n",
    "Note that the objective function takes in a dict of variable values and returns a dict of objective return values. The keys of the input and output dictionaries must contain the keys we will specify in VOCS (see below)."
   ]
  },
  {
   "cell_type": "code",
   "execution_count": 1,
   "metadata": {
    "ExecuteTime": {
     "end_time": "2024-03-13T01:32:42.498257800Z",
     "start_time": "2024-03-13T01:32:40.155677200Z"
    },
    "collapsed": false,
    "execution": {
     "iopub.execute_input": "2024-04-15T19:00:29.784348Z",
     "iopub.status.busy": "2024-04-15T19:00:29.784167Z",
     "iopub.status.idle": "2024-04-15T19:00:31.372102Z",
     "shell.execute_reply": "2024-04-15T19:00:31.371492Z"
    }
   },
   "outputs": [],
   "source": [
    "from xopt import Evaluator\n",
    "\n",
    "def evaluate_function(inputs: dict) -> dict:\n",
    "    objective_value = inputs[\"x1\"]**2 + inputs[\"x2\"]**2\n",
    "    constraint_value = -inputs[\"x1\"]**2 - inputs[\"x2\"]**2 + 1\n",
    "    return {\"f\": objective_value, \"g\": constraint_value}\n",
    "\n",
    "evaluator = Evaluator(function=evaluate_function)"
   ]
  },
  {
   "cell_type": "markdown",
   "metadata": {
    "collapsed": false
   },
   "source": [
    "### Define VOCS\n",
    "Here we define the names and ranges of input parameters, the names and settings of\n",
    "objectives, and the names and settings of constraints. Note that the keys here should\n",
    " be referenced in the evaluate function above."
   ]
  },
  {
   "cell_type": "code",
   "execution_count": 2,
   "metadata": {
    "ExecuteTime": {
     "end_time": "2024-03-13T01:32:42.513257500Z",
     "start_time": "2024-03-13T01:32:42.502259Z"
    },
    "collapsed": false,
    "execution": {
     "iopub.execute_input": "2024-04-15T19:00:31.375129Z",
     "iopub.status.busy": "2024-04-15T19:00:31.374851Z",
     "iopub.status.idle": "2024-04-15T19:00:31.378661Z",
     "shell.execute_reply": "2024-04-15T19:00:31.378080Z"
    }
   },
   "outputs": [],
   "source": [
    "from xopt import VOCS\n",
    "import math\n",
    "\n",
    "vocs = VOCS(\n",
    "    variables = {\n",
    "        \"x1\": [0, math.pi],\n",
    "        \"x2\": [0, math.pi]\n",
    "    },\n",
    "    objectives = {\"f\": \"MINIMIZE\"},\n",
    "    constraints = {\"g\": [\"LESS_THAN\", 0]}\n",
    ")"
   ]
  },
  {
   "cell_type": "markdown",
   "metadata": {
    "collapsed": false
   },
   "source": [
    "### Define the Generator\n",
    "First lets see which generators are available for use."
   ]
  },
  {
   "cell_type": "code",
   "execution_count": 3,
   "metadata": {
    "ExecuteTime": {
     "end_time": "2024-03-13T01:32:43.608257600Z",
     "start_time": "2024-03-13T01:32:42.515259Z"
    },
    "collapsed": false,
    "execution": {
     "iopub.execute_input": "2024-04-15T19:00:31.381018Z",
     "iopub.status.busy": "2024-04-15T19:00:31.380577Z",
     "iopub.status.idle": "2024-04-15T19:00:32.060371Z",
     "shell.execute_reply": "2024-04-15T19:00:32.059760Z"
    }
   },
   "outputs": [
    {
     "data": {
      "text/plain": [
       "['random',\n",
       " 'mggpo',\n",
       " 'neldermead',\n",
       " 'latin_hypercube',\n",
       " 'upper_confidence_bound',\n",
       " 'mobo',\n",
       " 'bayesian_exploration',\n",
       " 'time_dependent_upper_confidence_bound',\n",
       " 'expected_improvement',\n",
       " 'multi_fidelity',\n",
       " 'cnsga',\n",
       " 'extremum_seeking',\n",
       " 'rcds']"
      ]
     },
     "execution_count": 3,
     "metadata": {},
     "output_type": "execute_result"
    }
   ],
   "source": [
    "from xopt.generators import list_available_generators\n",
    "list_available_generators()"
   ]
  },
  {
   "cell_type": "markdown",
   "metadata": {
    "collapsed": false
   },
   "source": [
    "Here we will use the simplest generator that is defined by Xopt, random number generation."
   ]
  },
  {
   "cell_type": "code",
   "execution_count": 4,
   "metadata": {
    "ExecuteTime": {
     "end_time": "2024-03-13T01:32:43.652266600Z",
     "start_time": "2024-03-13T01:32:43.611259600Z"
    },
    "collapsed": false,
    "execution": {
     "iopub.execute_input": "2024-04-15T19:00:32.090756Z",
     "iopub.status.busy": "2024-04-15T19:00:32.090254Z",
     "iopub.status.idle": "2024-04-15T19:00:32.094160Z",
     "shell.execute_reply": "2024-04-15T19:00:32.093580Z"
    }
   },
   "outputs": [
    {
     "name": "stdout",
     "output_type": "stream",
     "text": [
      "\n",
      "    Random number generator.\n",
      "    \n"
     ]
    }
   ],
   "source": [
    "from xopt.generators import get_generator \n",
    "# get the docstring for the random generator\n",
    "print(get_generator(\"random\").__doc__)\n",
    "\n",
    "# use the get generator method to get the random number generator\n",
    "generator = get_generator(\"random\")(vocs=vocs)"
   ]
  },
  {
   "cell_type": "markdown",
   "metadata": {
    "collapsed": false
   },
   "source": [
    "###  Combine into Xopt object"
   ]
  },
  {
   "cell_type": "code",
   "execution_count": 5,
   "metadata": {
    "ExecuteTime": {
     "end_time": "2024-03-13T01:32:43.652266600Z",
     "start_time": "2024-03-13T01:32:43.626258200Z"
    },
    "collapsed": false,
    "execution": {
     "iopub.execute_input": "2024-04-15T19:00:32.096451Z",
     "iopub.status.busy": "2024-04-15T19:00:32.096062Z",
     "iopub.status.idle": "2024-04-15T19:00:32.099161Z",
     "shell.execute_reply": "2024-04-15T19:00:32.098628Z"
    }
   },
   "outputs": [],
   "source": [
    "from xopt import Xopt\n",
    "X = Xopt(vocs=vocs, generator=generator, evaluator=evaluator)"
   ]
  },
  {
   "cell_type": "markdown",
   "metadata": {
    "collapsed": false
   },
   "source": [
    "## Defining Xopt object from yaml file\n",
    "Alternatively, it might be more useful to define the Xopt object from a text file or\n",
    "YAML string. We replicate the code above with the YAML file below."
   ]
  },
  {
   "cell_type": "code",
   "execution_count": 6,
   "metadata": {
    "ExecuteTime": {
     "end_time": "2024-03-13T01:32:43.660292300Z",
     "start_time": "2024-03-13T01:32:43.641259200Z"
    },
    "collapsed": false,
    "execution": {
     "iopub.execute_input": "2024-04-15T19:00:32.101187Z",
     "iopub.status.busy": "2024-04-15T19:00:32.101020Z",
     "iopub.status.idle": "2024-04-15T19:00:32.103992Z",
     "shell.execute_reply": "2024-04-15T19:00:32.103430Z"
    }
   },
   "outputs": [],
   "source": [
    "# Make a proper input file.\n",
    "YAML = \"\"\"\n",
    "evaluator:\n",
    "    function: __main__.evaluate_function\n",
    "\n",
    "generator:\n",
    "    name: random\n",
    "\n",
    "vocs:\n",
    "    variables:\n",
    "        x1: [0, 3.14159]\n",
    "        x2: [0, 3.14159]\n",
    "    objectives: {f: MINIMIZE}\n",
    "    constraints:\n",
    "        g: [LESS_THAN, 0]\n",
    "\n",
    "\"\"\""
   ]
  },
  {
   "cell_type": "code",
   "execution_count": 7,
   "metadata": {
    "ExecuteTime": {
     "end_time": "2024-03-13T01:32:43.669259800Z",
     "start_time": "2024-03-13T01:32:43.655257700Z"
    },
    "collapsed": false,
    "execution": {
     "iopub.execute_input": "2024-04-15T19:00:32.106179Z",
     "iopub.status.busy": "2024-04-15T19:00:32.105738Z",
     "iopub.status.idle": "2024-04-15T19:00:32.111416Z",
     "shell.execute_reply": "2024-04-15T19:00:32.110830Z"
    }
   },
   "outputs": [],
   "source": [
    "# create Xopt object.\n",
    "X_from_yaml = Xopt.from_yaml(YAML)"
   ]
  },
  {
   "cell_type": "markdown",
   "metadata": {
    "collapsed": false
   },
   "source": [
    "## Introspection\n",
    "Objects in Xopt can be printed to a string or dumped to a text file for easy\n",
    "introspection of attributes and current configuration."
   ]
  },
  {
   "cell_type": "code",
   "execution_count": 8,
   "metadata": {
    "ExecuteTime": {
     "end_time": "2024-03-13T01:32:43.712296Z",
     "start_time": "2024-03-13T01:32:43.671257800Z"
    },
    "execution": {
     "iopub.execute_input": "2024-04-15T19:00:32.113564Z",
     "iopub.status.busy": "2024-04-15T19:00:32.113373Z",
     "iopub.status.idle": "2024-04-15T19:00:32.119827Z",
     "shell.execute_reply": "2024-04-15T19:00:32.119260Z"
    }
   },
   "outputs": [
    {
     "data": {
      "text/plain": [
       "\n",
       "            Xopt\n",
       "________________________________\n",
       "Version: 0+untagged.1.ga613b00\n",
       "Data size: 0\n",
       "Config as YAML:\n",
       "dump_file: null\n",
       "evaluator:\n",
       "  function: __main__.evaluate_function\n",
       "  function_kwargs: {}\n",
       "  max_workers: 1\n",
       "  vectorized: false\n",
       "generator:\n",
       "  name: random\n",
       "  supports_batch_generation: true\n",
       "  supports_multi_objective: true\n",
       "max_evaluations: null\n",
       "serialize_inline: false\n",
       "serialize_torch: false\n",
       "strict: true\n",
       "vocs:\n",
       "  constants: {}\n",
       "  constraints:\n",
       "    g:\n",
       "    - LESS_THAN\n",
       "    - 0.0\n",
       "  objectives:\n",
       "    f: MINIMIZE\n",
       "  observables: []\n",
       "  variables:\n",
       "    x1:\n",
       "    - 0.0\n",
       "    - 3.141592653589793\n",
       "    x2:\n",
       "    - 0.0\n",
       "    - 3.141592653589793\n"
      ]
     },
     "execution_count": 8,
     "metadata": {},
     "output_type": "execute_result"
    }
   ],
   "source": [
    "# Convenient representation of the state.\n",
    "X"
   ]
  },
  {
   "cell_type": "markdown",
   "metadata": {
    "collapsed": false
   },
   "source": [
    "## Evaluating randomly generated or fixed inputs.\n",
    "The main Xopt object has a variety of means for evaluating random or fixed points.\n",
    "This is often used to initialize optimization, but can be used independently of any\n",
    "generator. Results from evaluations are stored in the `data` attribute. Data can also\n",
    " be explictly added to the Xopt object (and by extension the generator attached to\n",
    " the xopt object by calling `X.add_data()`."
   ]
  },
  {
   "cell_type": "code",
   "execution_count": 9,
   "metadata": {
    "ExecuteTime": {
     "end_time": "2024-03-13T01:32:43.722288700Z",
     "start_time": "2024-03-13T01:32:43.687283700Z"
    },
    "execution": {
     "iopub.execute_input": "2024-04-15T19:00:32.122002Z",
     "iopub.status.busy": "2024-04-15T19:00:32.121798Z",
     "iopub.status.idle": "2024-04-15T19:00:32.133386Z",
     "shell.execute_reply": "2024-04-15T19:00:32.132868Z"
    }
   },
   "outputs": [
    {
     "data": {
      "text/html": [
       "<div>\n",
       "<style scoped>\n",
       "    .dataframe tbody tr th:only-of-type {\n",
       "        vertical-align: middle;\n",
       "    }\n",
       "\n",
       "    .dataframe tbody tr th {\n",
       "        vertical-align: top;\n",
       "    }\n",
       "\n",
       "    .dataframe thead th {\n",
       "        text-align: right;\n",
       "    }\n",
       "</style>\n",
       "<table border=\"1\" class=\"dataframe\">\n",
       "  <thead>\n",
       "    <tr style=\"text-align: right;\">\n",
       "      <th></th>\n",
       "      <th>x1</th>\n",
       "      <th>x2</th>\n",
       "      <th>f</th>\n",
       "      <th>g</th>\n",
       "      <th>xopt_runtime</th>\n",
       "      <th>xopt_error</th>\n",
       "    </tr>\n",
       "  </thead>\n",
       "  <tbody>\n",
       "    <tr>\n",
       "      <th>0</th>\n",
       "      <td>2.593793</td>\n",
       "      <td>2.499355</td>\n",
       "      <td>12.974537</td>\n",
       "      <td>-11.974537</td>\n",
       "      <td>4.649000e-06</td>\n",
       "      <td>False</td>\n",
       "    </tr>\n",
       "    <tr>\n",
       "      <th>1</th>\n",
       "      <td>1.335361</td>\n",
       "      <td>2.883390</td>\n",
       "      <td>10.097128</td>\n",
       "      <td>-9.097128</td>\n",
       "      <td>1.423000e-06</td>\n",
       "      <td>False</td>\n",
       "    </tr>\n",
       "    <tr>\n",
       "      <th>2</th>\n",
       "      <td>2.121356</td>\n",
       "      <td>1.331571</td>\n",
       "      <td>6.273233</td>\n",
       "      <td>-5.273233</td>\n",
       "      <td>9.319999e-07</td>\n",
       "      <td>False</td>\n",
       "    </tr>\n",
       "    <tr>\n",
       "      <th>3</th>\n",
       "      <td>1.071675</td>\n",
       "      <td>0.624664</td>\n",
       "      <td>1.538691</td>\n",
       "      <td>-0.538691</td>\n",
       "      <td>6.310000e-07</td>\n",
       "      <td>False</td>\n",
       "    </tr>\n",
       "    <tr>\n",
       "      <th>4</th>\n",
       "      <td>0.291092</td>\n",
       "      <td>1.732995</td>\n",
       "      <td>3.088006</td>\n",
       "      <td>-2.088006</td>\n",
       "      <td>1.152000e-06</td>\n",
       "      <td>False</td>\n",
       "    </tr>\n",
       "  </tbody>\n",
       "</table>\n",
       "</div>"
      ],
      "text/plain": [
       "         x1        x2          f          g  xopt_runtime  xopt_error\n",
       "0  2.593793  2.499355  12.974537 -11.974537  4.649000e-06       False\n",
       "1  1.335361  2.883390  10.097128  -9.097128  1.423000e-06       False\n",
       "2  2.121356  1.331571   6.273233  -5.273233  9.319999e-07       False\n",
       "3  1.071675  0.624664   1.538691  -0.538691  6.310000e-07       False\n",
       "4  0.291092  1.732995   3.088006  -2.088006  1.152000e-06       False"
      ]
     },
     "execution_count": 9,
     "metadata": {},
     "output_type": "execute_result"
    }
   ],
   "source": [
    "# randomly evaluate some points and add data to Xopt object\n",
    "X.random_evaluate(5)"
   ]
  },
  {
   "cell_type": "code",
   "execution_count": 10,
   "metadata": {
    "ExecuteTime": {
     "end_time": "2024-03-13T01:32:43.722288700Z",
     "start_time": "2024-03-13T01:32:43.712296Z"
    },
    "collapsed": false,
    "execution": {
     "iopub.execute_input": "2024-04-15T19:00:32.135545Z",
     "iopub.status.busy": "2024-04-15T19:00:32.135362Z",
     "iopub.status.idle": "2024-04-15T19:00:32.145513Z",
     "shell.execute_reply": "2024-04-15T19:00:32.144953Z"
    }
   },
   "outputs": [
    {
     "data": {
      "text/html": [
       "<div>\n",
       "<style scoped>\n",
       "    .dataframe tbody tr th:only-of-type {\n",
       "        vertical-align: middle;\n",
       "    }\n",
       "\n",
       "    .dataframe tbody tr th {\n",
       "        vertical-align: top;\n",
       "    }\n",
       "\n",
       "    .dataframe thead th {\n",
       "        text-align: right;\n",
       "    }\n",
       "</style>\n",
       "<table border=\"1\" class=\"dataframe\">\n",
       "  <thead>\n",
       "    <tr style=\"text-align: right;\">\n",
       "      <th></th>\n",
       "      <th>x1</th>\n",
       "      <th>x2</th>\n",
       "      <th>f</th>\n",
       "      <th>g</th>\n",
       "      <th>xopt_runtime</th>\n",
       "      <th>xopt_error</th>\n",
       "    </tr>\n",
       "  </thead>\n",
       "  <tbody>\n",
       "    <tr>\n",
       "      <th>0</th>\n",
       "      <td>1.00</td>\n",
       "      <td>0.00</td>\n",
       "      <td>1.0000</td>\n",
       "      <td>0.0000</td>\n",
       "      <td>0.000003</td>\n",
       "      <td>False</td>\n",
       "    </tr>\n",
       "    <tr>\n",
       "      <th>1</th>\n",
       "      <td>0.50</td>\n",
       "      <td>1.75</td>\n",
       "      <td>3.3125</td>\n",
       "      <td>-2.3125</td>\n",
       "      <td>0.000002</td>\n",
       "      <td>False</td>\n",
       "    </tr>\n",
       "    <tr>\n",
       "      <th>2</th>\n",
       "      <td>2.25</td>\n",
       "      <td>0.60</td>\n",
       "      <td>5.4225</td>\n",
       "      <td>-4.4225</td>\n",
       "      <td>0.000001</td>\n",
       "      <td>False</td>\n",
       "    </tr>\n",
       "  </tbody>\n",
       "</table>\n",
       "</div>"
      ],
      "text/plain": [
       "     x1    x2       f       g  xopt_runtime  xopt_error\n",
       "0  1.00  0.00  1.0000  0.0000      0.000003       False\n",
       "1  0.50  1.75  3.3125 -2.3125      0.000002       False\n",
       "2  2.25  0.60  5.4225 -4.4225      0.000001       False"
      ]
     },
     "execution_count": 10,
     "metadata": {},
     "output_type": "execute_result"
    }
   ],
   "source": [
    "# evaluate some points additionally\n",
    "points = {\"x1\": [1.0, 0.5, 2.25],\"x2\":[0,1.75,0.6]}\n",
    "X.evaluate_data(points)"
   ]
  },
  {
   "cell_type": "code",
   "execution_count": 11,
   "metadata": {
    "ExecuteTime": {
     "end_time": "2024-03-13T01:32:43.729258500Z",
     "start_time": "2024-03-13T01:32:43.716261900Z"
    },
    "collapsed": false,
    "execution": {
     "iopub.execute_input": "2024-04-15T19:00:32.147762Z",
     "iopub.status.busy": "2024-04-15T19:00:32.147546Z",
     "iopub.status.idle": "2024-04-15T19:00:32.155445Z",
     "shell.execute_reply": "2024-04-15T19:00:32.154902Z"
    }
   },
   "outputs": [
    {
     "data": {
      "text/html": [
       "<div>\n",
       "<style scoped>\n",
       "    .dataframe tbody tr th:only-of-type {\n",
       "        vertical-align: middle;\n",
       "    }\n",
       "\n",
       "    .dataframe tbody tr th {\n",
       "        vertical-align: top;\n",
       "    }\n",
       "\n",
       "    .dataframe thead th {\n",
       "        text-align: right;\n",
       "    }\n",
       "</style>\n",
       "<table border=\"1\" class=\"dataframe\">\n",
       "  <thead>\n",
       "    <tr style=\"text-align: right;\">\n",
       "      <th></th>\n",
       "      <th>x1</th>\n",
       "      <th>x2</th>\n",
       "      <th>f</th>\n",
       "      <th>g</th>\n",
       "      <th>xopt_runtime</th>\n",
       "      <th>xopt_error</th>\n",
       "    </tr>\n",
       "  </thead>\n",
       "  <tbody>\n",
       "    <tr>\n",
       "      <th>0</th>\n",
       "      <td>2.593793</td>\n",
       "      <td>2.499355</td>\n",
       "      <td>12.974537</td>\n",
       "      <td>-11.974537</td>\n",
       "      <td>4.649000e-06</td>\n",
       "      <td>False</td>\n",
       "    </tr>\n",
       "    <tr>\n",
       "      <th>1</th>\n",
       "      <td>1.335361</td>\n",
       "      <td>2.883390</td>\n",
       "      <td>10.097128</td>\n",
       "      <td>-9.097128</td>\n",
       "      <td>1.423000e-06</td>\n",
       "      <td>False</td>\n",
       "    </tr>\n",
       "    <tr>\n",
       "      <th>2</th>\n",
       "      <td>2.121356</td>\n",
       "      <td>1.331571</td>\n",
       "      <td>6.273233</td>\n",
       "      <td>-5.273233</td>\n",
       "      <td>9.319999e-07</td>\n",
       "      <td>False</td>\n",
       "    </tr>\n",
       "    <tr>\n",
       "      <th>3</th>\n",
       "      <td>1.071675</td>\n",
       "      <td>0.624664</td>\n",
       "      <td>1.538691</td>\n",
       "      <td>-0.538691</td>\n",
       "      <td>6.310000e-07</td>\n",
       "      <td>False</td>\n",
       "    </tr>\n",
       "    <tr>\n",
       "      <th>4</th>\n",
       "      <td>0.291092</td>\n",
       "      <td>1.732995</td>\n",
       "      <td>3.088006</td>\n",
       "      <td>-2.088006</td>\n",
       "      <td>1.152000e-06</td>\n",
       "      <td>False</td>\n",
       "    </tr>\n",
       "    <tr>\n",
       "      <th>5</th>\n",
       "      <td>1.000000</td>\n",
       "      <td>0.000000</td>\n",
       "      <td>1.000000</td>\n",
       "      <td>0.000000</td>\n",
       "      <td>3.316000e-06</td>\n",
       "      <td>False</td>\n",
       "    </tr>\n",
       "    <tr>\n",
       "      <th>6</th>\n",
       "      <td>0.500000</td>\n",
       "      <td>1.750000</td>\n",
       "      <td>3.312500</td>\n",
       "      <td>-2.312500</td>\n",
       "      <td>1.873000e-06</td>\n",
       "      <td>False</td>\n",
       "    </tr>\n",
       "    <tr>\n",
       "      <th>7</th>\n",
       "      <td>2.250000</td>\n",
       "      <td>0.600000</td>\n",
       "      <td>5.422500</td>\n",
       "      <td>-4.422500</td>\n",
       "      <td>1.142000e-06</td>\n",
       "      <td>False</td>\n",
       "    </tr>\n",
       "  </tbody>\n",
       "</table>\n",
       "</div>"
      ],
      "text/plain": [
       "         x1        x2          f          g  xopt_runtime  xopt_error\n",
       "0  2.593793  2.499355  12.974537 -11.974537  4.649000e-06       False\n",
       "1  1.335361  2.883390  10.097128  -9.097128  1.423000e-06       False\n",
       "2  2.121356  1.331571   6.273233  -5.273233  9.319999e-07       False\n",
       "3  1.071675  0.624664   1.538691  -0.538691  6.310000e-07       False\n",
       "4  0.291092  1.732995   3.088006  -2.088006  1.152000e-06       False\n",
       "5  1.000000  0.000000   1.000000   0.000000  3.316000e-06       False\n",
       "6  0.500000  1.750000   3.312500  -2.312500  1.873000e-06       False\n",
       "7  2.250000  0.600000   5.422500  -4.422500  1.142000e-06       False"
      ]
     },
     "execution_count": 11,
     "metadata": {},
     "output_type": "execute_result"
    }
   ],
   "source": [
    "# examine the data stored in Xopt\n",
    "X.data"
   ]
  },
  {
   "cell_type": "markdown",
   "metadata": {
    "collapsed": false
   },
   "source": [
    "## Optimization\n",
    "Xopt conducts a single iteration of optimization by calling `X.step()`. Inside this\n",
    "function Xopt will generate a point (or set of points) using the generator object,\n",
    "then send the point to be evaluated by the evaluator. Results will be stored in the\n",
    "data attribute."
   ]
  },
  {
   "cell_type": "code",
   "execution_count": 12,
   "metadata": {
    "ExecuteTime": {
     "end_time": "2024-03-13T01:32:43.772322900Z",
     "start_time": "2024-03-13T01:32:43.730259200Z"
    },
    "collapsed": false,
    "execution": {
     "iopub.execute_input": "2024-04-15T19:00:32.157793Z",
     "iopub.status.busy": "2024-04-15T19:00:32.157434Z",
     "iopub.status.idle": "2024-04-15T19:00:32.163512Z",
     "shell.execute_reply": "2024-04-15T19:00:32.162376Z"
    }
   },
   "outputs": [],
   "source": [
    "# Take one step (generate a single point)\n",
    "X.step()"
   ]
  },
  {
   "cell_type": "code",
   "execution_count": 13,
   "metadata": {
    "ExecuteTime": {
     "end_time": "2024-03-13T01:32:43.862089800Z",
     "start_time": "2024-03-13T01:32:43.745260300Z"
    },
    "collapsed": false,
    "execution": {
     "iopub.execute_input": "2024-04-15T19:00:32.166414Z",
     "iopub.status.busy": "2024-04-15T19:00:32.166230Z",
     "iopub.status.idle": "2024-04-15T19:00:32.173808Z",
     "shell.execute_reply": "2024-04-15T19:00:32.173301Z"
    }
   },
   "outputs": [
    {
     "data": {
      "text/html": [
       "<div>\n",
       "<style scoped>\n",
       "    .dataframe tbody tr th:only-of-type {\n",
       "        vertical-align: middle;\n",
       "    }\n",
       "\n",
       "    .dataframe tbody tr th {\n",
       "        vertical-align: top;\n",
       "    }\n",
       "\n",
       "    .dataframe thead th {\n",
       "        text-align: right;\n",
       "    }\n",
       "</style>\n",
       "<table border=\"1\" class=\"dataframe\">\n",
       "  <thead>\n",
       "    <tr style=\"text-align: right;\">\n",
       "      <th></th>\n",
       "      <th>x1</th>\n",
       "      <th>x2</th>\n",
       "      <th>f</th>\n",
       "      <th>g</th>\n",
       "      <th>xopt_runtime</th>\n",
       "      <th>xopt_error</th>\n",
       "    </tr>\n",
       "  </thead>\n",
       "  <tbody>\n",
       "    <tr>\n",
       "      <th>0</th>\n",
       "      <td>2.593793</td>\n",
       "      <td>2.499355</td>\n",
       "      <td>12.974537</td>\n",
       "      <td>-11.974537</td>\n",
       "      <td>4.649000e-06</td>\n",
       "      <td>False</td>\n",
       "    </tr>\n",
       "    <tr>\n",
       "      <th>1</th>\n",
       "      <td>1.335361</td>\n",
       "      <td>2.883390</td>\n",
       "      <td>10.097128</td>\n",
       "      <td>-9.097128</td>\n",
       "      <td>1.423000e-06</td>\n",
       "      <td>False</td>\n",
       "    </tr>\n",
       "    <tr>\n",
       "      <th>2</th>\n",
       "      <td>2.121356</td>\n",
       "      <td>1.331571</td>\n",
       "      <td>6.273233</td>\n",
       "      <td>-5.273233</td>\n",
       "      <td>9.319999e-07</td>\n",
       "      <td>False</td>\n",
       "    </tr>\n",
       "    <tr>\n",
       "      <th>3</th>\n",
       "      <td>1.071675</td>\n",
       "      <td>0.624664</td>\n",
       "      <td>1.538691</td>\n",
       "      <td>-0.538691</td>\n",
       "      <td>6.310000e-07</td>\n",
       "      <td>False</td>\n",
       "    </tr>\n",
       "    <tr>\n",
       "      <th>4</th>\n",
       "      <td>0.291092</td>\n",
       "      <td>1.732995</td>\n",
       "      <td>3.088006</td>\n",
       "      <td>-2.088006</td>\n",
       "      <td>1.152000e-06</td>\n",
       "      <td>False</td>\n",
       "    </tr>\n",
       "    <tr>\n",
       "      <th>5</th>\n",
       "      <td>1.000000</td>\n",
       "      <td>0.000000</td>\n",
       "      <td>1.000000</td>\n",
       "      <td>0.000000</td>\n",
       "      <td>3.316000e-06</td>\n",
       "      <td>False</td>\n",
       "    </tr>\n",
       "    <tr>\n",
       "      <th>6</th>\n",
       "      <td>0.500000</td>\n",
       "      <td>1.750000</td>\n",
       "      <td>3.312500</td>\n",
       "      <td>-2.312500</td>\n",
       "      <td>1.873000e-06</td>\n",
       "      <td>False</td>\n",
       "    </tr>\n",
       "    <tr>\n",
       "      <th>7</th>\n",
       "      <td>2.250000</td>\n",
       "      <td>0.600000</td>\n",
       "      <td>5.422500</td>\n",
       "      <td>-4.422500</td>\n",
       "      <td>1.142000e-06</td>\n",
       "      <td>False</td>\n",
       "    </tr>\n",
       "    <tr>\n",
       "      <th>8</th>\n",
       "      <td>0.222713</td>\n",
       "      <td>1.573163</td>\n",
       "      <td>2.524443</td>\n",
       "      <td>-1.524443</td>\n",
       "      <td>3.527000e-06</td>\n",
       "      <td>False</td>\n",
       "    </tr>\n",
       "  </tbody>\n",
       "</table>\n",
       "</div>"
      ],
      "text/plain": [
       "         x1        x2          f          g  xopt_runtime  xopt_error\n",
       "0  2.593793  2.499355  12.974537 -11.974537  4.649000e-06       False\n",
       "1  1.335361  2.883390  10.097128  -9.097128  1.423000e-06       False\n",
       "2  2.121356  1.331571   6.273233  -5.273233  9.319999e-07       False\n",
       "3  1.071675  0.624664   1.538691  -0.538691  6.310000e-07       False\n",
       "4  0.291092  1.732995   3.088006  -2.088006  1.152000e-06       False\n",
       "5  1.000000  0.000000   1.000000   0.000000  3.316000e-06       False\n",
       "6  0.500000  1.750000   3.312500  -2.312500  1.873000e-06       False\n",
       "7  2.250000  0.600000   5.422500  -4.422500  1.142000e-06       False\n",
       "8  0.222713  1.573163   2.524443  -1.524443  3.527000e-06       False"
      ]
     },
     "execution_count": 13,
     "metadata": {},
     "output_type": "execute_result"
    }
   ],
   "source": [
    "# examine the results\n",
    "X.data"
   ]
  },
  {
   "cell_type": "code",
   "execution_count": 14,
   "metadata": {
    "ExecuteTime": {
     "end_time": "2024-03-13T01:32:43.897089900Z",
     "start_time": "2024-03-13T01:32:43.772322900Z"
    },
    "collapsed": false,
    "execution": {
     "iopub.execute_input": "2024-04-15T19:00:32.175864Z",
     "iopub.status.busy": "2024-04-15T19:00:32.175692Z",
     "iopub.status.idle": "2024-04-15T19:00:32.208018Z",
     "shell.execute_reply": "2024-04-15T19:00:32.207409Z"
    }
   },
   "outputs": [
    {
     "data": {
      "text/html": [
       "<div>\n",
       "<style scoped>\n",
       "    .dataframe tbody tr th:only-of-type {\n",
       "        vertical-align: middle;\n",
       "    }\n",
       "\n",
       "    .dataframe tbody tr th {\n",
       "        vertical-align: top;\n",
       "    }\n",
       "\n",
       "    .dataframe thead th {\n",
       "        text-align: right;\n",
       "    }\n",
       "</style>\n",
       "<table border=\"1\" class=\"dataframe\">\n",
       "  <thead>\n",
       "    <tr style=\"text-align: right;\">\n",
       "      <th></th>\n",
       "      <th>x1</th>\n",
       "      <th>x2</th>\n",
       "      <th>f</th>\n",
       "      <th>g</th>\n",
       "      <th>xopt_runtime</th>\n",
       "      <th>xopt_error</th>\n",
       "    </tr>\n",
       "  </thead>\n",
       "  <tbody>\n",
       "    <tr>\n",
       "      <th>0</th>\n",
       "      <td>2.593793</td>\n",
       "      <td>2.499355</td>\n",
       "      <td>12.974537</td>\n",
       "      <td>-11.974537</td>\n",
       "      <td>4.649000e-06</td>\n",
       "      <td>False</td>\n",
       "    </tr>\n",
       "    <tr>\n",
       "      <th>1</th>\n",
       "      <td>1.335361</td>\n",
       "      <td>2.883390</td>\n",
       "      <td>10.097128</td>\n",
       "      <td>-9.097128</td>\n",
       "      <td>1.423000e-06</td>\n",
       "      <td>False</td>\n",
       "    </tr>\n",
       "    <tr>\n",
       "      <th>2</th>\n",
       "      <td>2.121356</td>\n",
       "      <td>1.331571</td>\n",
       "      <td>6.273233</td>\n",
       "      <td>-5.273233</td>\n",
       "      <td>9.319999e-07</td>\n",
       "      <td>False</td>\n",
       "    </tr>\n",
       "    <tr>\n",
       "      <th>3</th>\n",
       "      <td>1.071675</td>\n",
       "      <td>0.624664</td>\n",
       "      <td>1.538691</td>\n",
       "      <td>-0.538691</td>\n",
       "      <td>6.310000e-07</td>\n",
       "      <td>False</td>\n",
       "    </tr>\n",
       "    <tr>\n",
       "      <th>4</th>\n",
       "      <td>0.291092</td>\n",
       "      <td>1.732995</td>\n",
       "      <td>3.088006</td>\n",
       "      <td>-2.088006</td>\n",
       "      <td>1.152000e-06</td>\n",
       "      <td>False</td>\n",
       "    </tr>\n",
       "    <tr>\n",
       "      <th>5</th>\n",
       "      <td>1.000000</td>\n",
       "      <td>0.000000</td>\n",
       "      <td>1.000000</td>\n",
       "      <td>0.000000</td>\n",
       "      <td>3.316000e-06</td>\n",
       "      <td>False</td>\n",
       "    </tr>\n",
       "    <tr>\n",
       "      <th>6</th>\n",
       "      <td>0.500000</td>\n",
       "      <td>1.750000</td>\n",
       "      <td>3.312500</td>\n",
       "      <td>-2.312500</td>\n",
       "      <td>1.873000e-06</td>\n",
       "      <td>False</td>\n",
       "    </tr>\n",
       "    <tr>\n",
       "      <th>7</th>\n",
       "      <td>2.250000</td>\n",
       "      <td>0.600000</td>\n",
       "      <td>5.422500</td>\n",
       "      <td>-4.422500</td>\n",
       "      <td>1.142000e-06</td>\n",
       "      <td>False</td>\n",
       "    </tr>\n",
       "    <tr>\n",
       "      <th>8</th>\n",
       "      <td>0.222713</td>\n",
       "      <td>1.573163</td>\n",
       "      <td>2.524443</td>\n",
       "      <td>-1.524443</td>\n",
       "      <td>3.527000e-06</td>\n",
       "      <td>False</td>\n",
       "    </tr>\n",
       "    <tr>\n",
       "      <th>9</th>\n",
       "      <td>1.708111</td>\n",
       "      <td>2.113828</td>\n",
       "      <td>7.385910</td>\n",
       "      <td>-6.385910</td>\n",
       "      <td>3.816000e-06</td>\n",
       "      <td>False</td>\n",
       "    </tr>\n",
       "    <tr>\n",
       "      <th>10</th>\n",
       "      <td>0.173428</td>\n",
       "      <td>0.878073</td>\n",
       "      <td>0.801090</td>\n",
       "      <td>0.198910</td>\n",
       "      <td>3.586000e-06</td>\n",
       "      <td>False</td>\n",
       "    </tr>\n",
       "    <tr>\n",
       "      <th>11</th>\n",
       "      <td>1.205455</td>\n",
       "      <td>2.293006</td>\n",
       "      <td>6.710996</td>\n",
       "      <td>-5.710996</td>\n",
       "      <td>3.015000e-06</td>\n",
       "      <td>False</td>\n",
       "    </tr>\n",
       "    <tr>\n",
       "      <th>12</th>\n",
       "      <td>1.931850</td>\n",
       "      <td>1.169493</td>\n",
       "      <td>5.099757</td>\n",
       "      <td>-4.099757</td>\n",
       "      <td>2.966000e-06</td>\n",
       "      <td>False</td>\n",
       "    </tr>\n",
       "    <tr>\n",
       "      <th>13</th>\n",
       "      <td>2.257119</td>\n",
       "      <td>0.499114</td>\n",
       "      <td>5.343699</td>\n",
       "      <td>-4.343699</td>\n",
       "      <td>2.915000e-06</td>\n",
       "      <td>False</td>\n",
       "    </tr>\n",
       "    <tr>\n",
       "      <th>14</th>\n",
       "      <td>2.137077</td>\n",
       "      <td>2.545054</td>\n",
       "      <td>11.044399</td>\n",
       "      <td>-10.044399</td>\n",
       "      <td>2.896000e-06</td>\n",
       "      <td>False</td>\n",
       "    </tr>\n",
       "    <tr>\n",
       "      <th>15</th>\n",
       "      <td>2.071913</td>\n",
       "      <td>2.003916</td>\n",
       "      <td>8.308503</td>\n",
       "      <td>-7.308503</td>\n",
       "      <td>2.785000e-06</td>\n",
       "      <td>False</td>\n",
       "    </tr>\n",
       "    <tr>\n",
       "      <th>16</th>\n",
       "      <td>1.002755</td>\n",
       "      <td>0.108929</td>\n",
       "      <td>1.017384</td>\n",
       "      <td>-0.017384</td>\n",
       "      <td>2.735000e-06</td>\n",
       "      <td>False</td>\n",
       "    </tr>\n",
       "    <tr>\n",
       "      <th>17</th>\n",
       "      <td>2.487714</td>\n",
       "      <td>0.799622</td>\n",
       "      <td>6.828116</td>\n",
       "      <td>-5.828116</td>\n",
       "      <td>2.805000e-06</td>\n",
       "      <td>False</td>\n",
       "    </tr>\n",
       "    <tr>\n",
       "      <th>18</th>\n",
       "      <td>1.629949</td>\n",
       "      <td>1.955609</td>\n",
       "      <td>6.481139</td>\n",
       "      <td>-5.481139</td>\n",
       "      <td>2.805000e-06</td>\n",
       "      <td>False</td>\n",
       "    </tr>\n",
       "  </tbody>\n",
       "</table>\n",
       "</div>"
      ],
      "text/plain": [
       "          x1        x2          f          g  xopt_runtime  xopt_error\n",
       "0   2.593793  2.499355  12.974537 -11.974537  4.649000e-06       False\n",
       "1   1.335361  2.883390  10.097128  -9.097128  1.423000e-06       False\n",
       "2   2.121356  1.331571   6.273233  -5.273233  9.319999e-07       False\n",
       "3   1.071675  0.624664   1.538691  -0.538691  6.310000e-07       False\n",
       "4   0.291092  1.732995   3.088006  -2.088006  1.152000e-06       False\n",
       "5   1.000000  0.000000   1.000000   0.000000  3.316000e-06       False\n",
       "6   0.500000  1.750000   3.312500  -2.312500  1.873000e-06       False\n",
       "7   2.250000  0.600000   5.422500  -4.422500  1.142000e-06       False\n",
       "8   0.222713  1.573163   2.524443  -1.524443  3.527000e-06       False\n",
       "9   1.708111  2.113828   7.385910  -6.385910  3.816000e-06       False\n",
       "10  0.173428  0.878073   0.801090   0.198910  3.586000e-06       False\n",
       "11  1.205455  2.293006   6.710996  -5.710996  3.015000e-06       False\n",
       "12  1.931850  1.169493   5.099757  -4.099757  2.966000e-06       False\n",
       "13  2.257119  0.499114   5.343699  -4.343699  2.915000e-06       False\n",
       "14  2.137077  2.545054  11.044399 -10.044399  2.896000e-06       False\n",
       "15  2.071913  2.003916   8.308503  -7.308503  2.785000e-06       False\n",
       "16  1.002755  0.108929   1.017384  -0.017384  2.735000e-06       False\n",
       "17  2.487714  0.799622   6.828116  -5.828116  2.805000e-06       False\n",
       "18  1.629949  1.955609   6.481139  -5.481139  2.805000e-06       False"
      ]
     },
     "execution_count": 14,
     "metadata": {},
     "output_type": "execute_result"
    }
   ],
   "source": [
    "# take a couple of steps and examine the results\n",
    "for _ in range(10):\n",
    "    X.step()\n",
    "X.data"
   ]
  },
  {
   "cell_type": "markdown",
   "metadata": {
    "collapsed": false
   },
   "source": [
    "## Find and evaluate the best point from `X.data`"
   ]
  },
  {
   "cell_type": "code",
   "execution_count": 15,
   "metadata": {
    "ExecuteTime": {
     "end_time": "2024-03-13T01:32:43.937089900Z",
     "start_time": "2024-03-13T01:32:43.832332500Z"
    },
    "collapsed": false,
    "execution": {
     "iopub.execute_input": "2024-04-15T19:00:32.210399Z",
     "iopub.status.busy": "2024-04-15T19:00:32.210080Z",
     "iopub.status.idle": "2024-04-15T19:00:32.224836Z",
     "shell.execute_reply": "2024-04-15T19:00:32.224242Z"
    }
   },
   "outputs": [
    {
     "name": "stdout",
     "output_type": "stream",
     "text": [
      "best objective value [1.]\n",
      "best point {'x1': 1.0, 'x2': 0.0}\n"
     ]
    },
    {
     "data": {
      "text/html": [
       "<div>\n",
       "<style scoped>\n",
       "    .dataframe tbody tr th:only-of-type {\n",
       "        vertical-align: middle;\n",
       "    }\n",
       "\n",
       "    .dataframe tbody tr th {\n",
       "        vertical-align: top;\n",
       "    }\n",
       "\n",
       "    .dataframe thead th {\n",
       "        text-align: right;\n",
       "    }\n",
       "</style>\n",
       "<table border=\"1\" class=\"dataframe\">\n",
       "  <thead>\n",
       "    <tr style=\"text-align: right;\">\n",
       "      <th></th>\n",
       "      <th>x1</th>\n",
       "      <th>x2</th>\n",
       "      <th>f</th>\n",
       "      <th>g</th>\n",
       "      <th>xopt_runtime</th>\n",
       "      <th>xopt_error</th>\n",
       "    </tr>\n",
       "  </thead>\n",
       "  <tbody>\n",
       "    <tr>\n",
       "      <th>0</th>\n",
       "      <td>1.0</td>\n",
       "      <td>0.0</td>\n",
       "      <td>1.0</td>\n",
       "      <td>0.0</td>\n",
       "      <td>0.000003</td>\n",
       "      <td>False</td>\n",
       "    </tr>\n",
       "  </tbody>\n",
       "</table>\n",
       "</div>"
      ],
      "text/plain": [
       "    x1   x2    f    g  xopt_runtime  xopt_error\n",
       "0  1.0  0.0  1.0  0.0      0.000003       False"
      ]
     },
     "execution_count": 15,
     "metadata": {},
     "output_type": "execute_result"
    }
   ],
   "source": [
    "idx, val, params = X.vocs.select_best(X.data)\n",
    "print(f\"best objective value {val}\")\n",
    "print(f\"best point {params}\")\n",
    "\n",
    "X.evaluate_data(params)"
   ]
  },
  {
   "cell_type": "markdown",
   "metadata": {
    "collapsed": false
   },
   "source": [
    "## Visualization\n",
    "Finally, we can visualize the objectives and variables to monitor optimization or\n",
    "visualize the results"
   ]
  },
  {
   "cell_type": "code",
   "execution_count": 16,
   "metadata": {
    "ExecuteTime": {
     "end_time": "2024-03-13T01:32:44.620735900Z",
     "start_time": "2024-03-13T01:32:43.851332300Z"
    },
    "collapsed": false,
    "execution": {
     "iopub.execute_input": "2024-04-15T19:00:32.227281Z",
     "iopub.status.busy": "2024-04-15T19:00:32.227077Z",
     "iopub.status.idle": "2024-04-15T19:00:32.827020Z",
     "shell.execute_reply": "2024-04-15T19:00:32.826379Z"
    }
   },
   "outputs": [
    {
     "data": {
      "text/plain": [
       "<Axes: xlabel='x1', ylabel='x2'>"
      ]
     },
     "execution_count": 16,
     "metadata": {},
     "output_type": "execute_result"
    },
    {
     "data": {
      "image/png": "[encoded data removed]",
      "text/plain": [
       "<Figure size 640x480 with 1 Axes>"
      ]
     },
     "metadata": {},
     "output_type": "display_data"
    },
    {
     "data": {
      "image/png": "[encoded data removed]",
      "text/plain": [
       "<Figure size 640x480 with 1 Axes>"
      ]
     },
     "metadata": {},
     "output_type": "display_data"
    },
    {
     "data": {
      "image/png": "[encoded data removed]",
      "text/plain": [
       "<Figure size 640x480 with 1 Axes>"
      ]
     },
     "metadata": {},
     "output_type": "display_data"
    }
   ],
   "source": [
    "import matplotlib.pyplot as plt\n",
    "\n",
    "# view objective values\n",
    "X.data.plot(y=X.vocs.objective_names)\n",
    "\n",
    "# view variables values\n",
    "X.data.plot(*X.vocs.variable_names, kind=\"scatter\")\n",
    "\n",
    "# you can also normalize the variables\n",
    "X.vocs.normalize_inputs(X.data).plot(*X.vocs.variable_names, kind=\"scatter\")"
   ]
  }
 ],
 "metadata": {
  "interpreter": {
   "hash": "72034539424920dfb606fe3b820b3f27dca0cbf1c69938110810ec4641e275b1"
  },
  "kernelspec": {
   "display_name": "Python 3.9.12 ('xopt-dev')",
   "language": "python",
   "name": "python3"
  },
  "language_info": {
   "codemirror_mode": {
    "name": "ipython",
    "version": 3
   },
   "file_extension": ".py",
   "mimetype": "text/x-python",
   "name": "python",
   "nbconvert_exporter": "python",
   "pygments_lexer": "ipython3",
   "version": "3.9.19"
  }
 },
 "nbformat": 4,
 "nbformat_minor": 4
}
