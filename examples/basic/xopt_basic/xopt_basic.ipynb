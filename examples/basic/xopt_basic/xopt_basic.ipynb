{
 "cells": [
  {
   "cell_type": "markdown",
   "metadata": {},
   "source": [
    "# Xopt basic example\n",
    "\n",
    "An Xopt problem can be described by a simple YAML file. Here we will demonstrate how this is used to optimize a well-known constrained multi-objective test function, TNK. The TNK function is defined with:\n",
    "\n",
    "$n=2$ variables:\n",
    "$x_i \\in [0, \\pi], i=1,2$\n",
    "\n",
    "Objectives:\n",
    "- $f_i(x) = x_i$\n",
    "\n",
    "Constraints:\n",
    "- $g_1(x) = -x_1^2 -x_2^2 + 1 + 0.1 \\cos\\left(16 \\arctan \\frac{x_1}{x_2}\\right) \\le 0$\n",
    "- $g_2(x) = (x_1 - 1/2)^2 + (x_2-1/2)^2 \\le 0.5$"
   ]
  },
  {
   "cell_type": "code",
   "execution_count": 1,
   "metadata": {
    "ExecuteTime": {
     "end_time": "2023-10-27T16:42:19.447102500Z",
     "start_time": "2023-10-27T16:42:16.192595500Z"
    },
    "execution": {
     "iopub.execute_input": "2023-11-08T17:19:19.514499Z",
     "iopub.status.busy": "2023-11-08T17:19:19.514254Z",
     "iopub.status.idle": "2023-11-08T17:19:22.014531Z",
     "shell.execute_reply": "2023-11-08T17:19:22.013335Z"
    }
   },
   "outputs": [],
   "source": [
    "# Import the class\n",
    "from xopt import Xopt"
   ]
  },
  {
   "cell_type": "code",
   "execution_count": 2,
   "metadata": {
    "ExecuteTime": {
     "end_time": "2023-10-27T16:42:19.461644100Z",
     "start_time": "2023-10-27T16:42:19.451103500Z"
    },
    "execution": {
     "iopub.execute_input": "2023-11-08T17:19:22.018811Z",
     "iopub.status.busy": "2023-11-08T17:19:22.018394Z",
     "iopub.status.idle": "2023-11-08T17:19:22.026686Z",
     "shell.execute_reply": "2023-11-08T17:19:22.025809Z"
    }
   },
   "outputs": [],
   "source": [
    "# Nicer plotting\n",
    "%config InlineBackend.figure_format = 'retina'"
   ]
  },
  {
   "cell_type": "markdown",
   "metadata": {
    "collapsed": false
   },
   "source": [
    "## Xopt Components\n",
    "The definition of the Xopt object requires 4 parts, listed below:\n",
    "- The `Evaluator` object, which evaluates input points using the arbitrary function\n",
    "specified by the `function` property.\n",
    "- The `Generator` object, which, when given data that has been evaluated, generates\n",
    "future points to evaluate using the evaluator.\n",
    "- The `VOCS` (variables, objectives, constraints, statics) object, which specifies the\n",
    "input domain, the objectives, constraints and constants passed to the evaluator\n",
    "function.\n",
    "\n",
    "Through the YAML interface these objects and their options are specified by name. \n",
    "Here we will make one:"
   ]
  },
  {
   "cell_type": "code",
   "execution_count": 3,
   "metadata": {
    "ExecuteTime": {
     "end_time": "2023-10-27T16:42:19.480261200Z",
     "start_time": "2023-10-27T16:42:19.464674400Z"
    },
    "collapsed": false,
    "execution": {
     "iopub.execute_input": "2023-11-08T17:19:22.030789Z",
     "iopub.status.busy": "2023-11-08T17:19:22.030268Z",
     "iopub.status.idle": "2023-11-08T17:19:22.036373Z",
     "shell.execute_reply": "2023-11-08T17:19:22.035417Z"
    }
   },
   "outputs": [],
   "source": [
    "# Make a proper input file.\n",
    "YAML = \"\"\"\n",
    "evaluator:\n",
    "    function: xopt.resources.test_functions.tnk.evaluate_TNK\n",
    "    function_kwargs:\n",
    "        a: 999\n",
    "\n",
    "generator:\n",
    "    name: random\n",
    "\n",
    "vocs:\n",
    "    variables:\n",
    "        x1: [0, 3.14159]\n",
    "        x2: [0, 3.14159]\n",
    "    objectives: {y1: MINIMIZE, y2: MINIMIZE}\n",
    "    constraints:\n",
    "        c1: [GREATER_THAN, 0]\n",
    "        c2: [LESS_THAN, 0.5]\n",
    "    constants: {a: dummy_constant}\n",
    "\n",
    "\"\"\""
   ]
  },
  {
   "cell_type": "code",
   "execution_count": 4,
   "metadata": {
    "ExecuteTime": {
     "end_time": "2023-10-27T16:42:19.493261400Z",
     "start_time": "2023-10-27T16:42:19.479261700Z"
    },
    "collapsed": false,
    "execution": {
     "iopub.execute_input": "2023-11-08T17:19:22.041622Z",
     "iopub.status.busy": "2023-11-08T17:19:22.041056Z",
     "iopub.status.idle": "2023-11-08T17:19:22.071993Z",
     "shell.execute_reply": "2023-11-08T17:19:22.070895Z"
    }
   },
   "outputs": [],
   "source": [
    "# create Xopt object.\n",
    "\n",
    "X = Xopt.from_yaml(YAML)"
   ]
  },
  {
   "cell_type": "code",
   "execution_count": 5,
   "metadata": {
    "ExecuteTime": {
     "end_time": "2023-10-27T16:42:19.536495800Z",
     "start_time": "2023-10-27T16:42:19.494290600Z"
    },
    "execution": {
     "iopub.execute_input": "2023-11-08T17:19:22.076511Z",
     "iopub.status.busy": "2023-11-08T17:19:22.076158Z",
     "iopub.status.idle": "2023-11-08T17:19:22.089276Z",
     "shell.execute_reply": "2023-11-08T17:19:22.088230Z"
    }
   },
   "outputs": [
    {
     "data": {
      "text/plain": [
       "\n",
       "            Xopt\n",
       "________________________________\n",
       "Version: 0+untagged.1.ga84bd29\n",
       "Data size: 0\n",
       "Config as YAML:\n",
       "dump_file: null\n",
       "evaluator:\n",
       "  function: xopt.resources.test_functions.tnk.evaluate_TNK\n",
       "  function_kwargs:\n",
       "    a: 999\n",
       "    raise_probability: 0\n",
       "    random_sleep: 0\n",
       "    sleep: 0\n",
       "  max_workers: 1\n",
       "  vectorized: false\n",
       "generator:\n",
       "  name: random\n",
       "  supports_batch_generation: true\n",
       "  supports_multi_objective: true\n",
       "max_evaluations: null\n",
       "serialize_inline: false\n",
       "serialize_torch: false\n",
       "strict: true\n",
       "vocs:\n",
       "  constants:\n",
       "    a: dummy_constant\n",
       "  constraints:\n",
       "    c1:\n",
       "    - GREATER_THAN\n",
       "    - 0.0\n",
       "    c2:\n",
       "    - LESS_THAN\n",
       "    - 0.5\n",
       "  objectives:\n",
       "    y1: MINIMIZE\n",
       "    y2: MINIMIZE\n",
       "  observables: []\n",
       "  variables:\n",
       "    x1:\n",
       "    - 0.0\n",
       "    - 3.14159\n",
       "    x2:\n",
       "    - 0.0\n",
       "    - 3.14159\n"
      ]
     },
     "execution_count": 5,
     "metadata": {},
     "output_type": "execute_result"
    }
   ],
   "source": [
    "# Convenient representation of the state.\n",
    "X"
   ]
  },
  {
   "cell_type": "code",
   "execution_count": 6,
   "metadata": {
    "ExecuteTime": {
     "end_time": "2023-10-27T16:42:19.543436400Z",
     "start_time": "2023-10-27T16:42:19.509261300Z"
    },
    "execution": {
     "iopub.execute_input": "2023-11-08T17:19:22.140989Z",
     "iopub.status.busy": "2023-11-08T17:19:22.140334Z",
     "iopub.status.idle": "2023-11-08T17:19:22.162526Z",
     "shell.execute_reply": "2023-11-08T17:19:22.161651Z"
    }
   },
   "outputs": [
    {
     "data": {
      "text/html": [
       "<div>\n",
       "<style scoped>\n",
       "    .dataframe tbody tr th:only-of-type {\n",
       "        vertical-align: middle;\n",
       "    }\n",
       "\n",
       "    .dataframe tbody tr th {\n",
       "        vertical-align: top;\n",
       "    }\n",
       "\n",
       "    .dataframe thead th {\n",
       "        text-align: right;\n",
       "    }\n",
       "</style>\n",
       "<table border=\"1\" class=\"dataframe\">\n",
       "  <thead>\n",
       "    <tr style=\"text-align: right;\">\n",
       "      <th></th>\n",
       "      <th>x1</th>\n",
       "      <th>x2</th>\n",
       "      <th>a</th>\n",
       "      <th>y1</th>\n",
       "      <th>y2</th>\n",
       "      <th>c1</th>\n",
       "      <th>c2</th>\n",
       "      <th>xopt_runtime</th>\n",
       "      <th>xopt_error</th>\n",
       "    </tr>\n",
       "  </thead>\n",
       "  <tbody>\n",
       "    <tr>\n",
       "      <th>0</th>\n",
       "      <td>1.522225</td>\n",
       "      <td>2.129185</td>\n",
       "      <td>dummy_constant</td>\n",
       "      <td>1.522225</td>\n",
       "      <td>2.129185</td>\n",
       "      <td>5.938064</td>\n",
       "      <td>3.699188</td>\n",
       "      <td>0.000070</td>\n",
       "      <td>False</td>\n",
       "    </tr>\n",
       "    <tr>\n",
       "      <th>1</th>\n",
       "      <td>1.076131</td>\n",
       "      <td>0.511745</td>\n",
       "      <td>dummy_constant</td>\n",
       "      <td>1.076131</td>\n",
       "      <td>0.511745</td>\n",
       "      <td>0.351649</td>\n",
       "      <td>0.332064</td>\n",
       "      <td>0.000012</td>\n",
       "      <td>False</td>\n",
       "    </tr>\n",
       "    <tr>\n",
       "      <th>2</th>\n",
       "      <td>0.520413</td>\n",
       "      <td>0.636211</td>\n",
       "      <td>dummy_constant</td>\n",
       "      <td>0.520413</td>\n",
       "      <td>0.636211</td>\n",
       "      <td>-0.321831</td>\n",
       "      <td>0.018970</td>\n",
       "      <td>0.000009</td>\n",
       "      <td>False</td>\n",
       "    </tr>\n",
       "    <tr>\n",
       "      <th>3</th>\n",
       "      <td>2.502901</td>\n",
       "      <td>1.757591</td>\n",
       "      <td>dummy_constant</td>\n",
       "      <td>2.502901</td>\n",
       "      <td>1.757591</td>\n",
       "      <td>8.446849</td>\n",
       "      <td>5.593149</td>\n",
       "      <td>0.000008</td>\n",
       "      <td>False</td>\n",
       "    </tr>\n",
       "    <tr>\n",
       "      <th>4</th>\n",
       "      <td>3.083928</td>\n",
       "      <td>0.053720</td>\n",
       "      <td>dummy_constant</td>\n",
       "      <td>3.083928</td>\n",
       "      <td>0.053720</td>\n",
       "      <td>8.417358</td>\n",
       "      <td>6.875851</td>\n",
       "      <td>0.000024</td>\n",
       "      <td>False</td>\n",
       "    </tr>\n",
       "    <tr>\n",
       "      <th>5</th>\n",
       "      <td>0.710363</td>\n",
       "      <td>0.746936</td>\n",
       "      <td>dummy_constant</td>\n",
       "      <td>0.710363</td>\n",
       "      <td>0.746936</td>\n",
       "      <td>-0.029520</td>\n",
       "      <td>0.105230</td>\n",
       "      <td>0.000008</td>\n",
       "      <td>False</td>\n",
       "    </tr>\n",
       "    <tr>\n",
       "      <th>6</th>\n",
       "      <td>2.626335</td>\n",
       "      <td>1.011792</td>\n",
       "      <td>dummy_constant</td>\n",
       "      <td>2.626335</td>\n",
       "      <td>1.011792</td>\n",
       "      <td>6.829235</td>\n",
       "      <td>4.783231</td>\n",
       "      <td>0.000007</td>\n",
       "      <td>False</td>\n",
       "    </tr>\n",
       "    <tr>\n",
       "      <th>7</th>\n",
       "      <td>0.134746</td>\n",
       "      <td>0.693716</td>\n",
       "      <td>dummy_constant</td>\n",
       "      <td>0.134746</td>\n",
       "      <td>0.693716</td>\n",
       "      <td>-0.400861</td>\n",
       "      <td>0.170937</td>\n",
       "      <td>0.000037</td>\n",
       "      <td>False</td>\n",
       "    </tr>\n",
       "    <tr>\n",
       "      <th>8</th>\n",
       "      <td>1.778452</td>\n",
       "      <td>1.603033</td>\n",
       "      <td>dummy_constant</td>\n",
       "      <td>1.778452</td>\n",
       "      <td>1.603033</td>\n",
       "      <td>4.665066</td>\n",
       "      <td>2.851122</td>\n",
       "      <td>0.000012</td>\n",
       "      <td>False</td>\n",
       "    </tr>\n",
       "    <tr>\n",
       "      <th>9</th>\n",
       "      <td>0.891652</td>\n",
       "      <td>1.962030</td>\n",
       "      <td>dummy_constant</td>\n",
       "      <td>0.891652</td>\n",
       "      <td>1.962030</td>\n",
       "      <td>3.558920</td>\n",
       "      <td>2.290924</td>\n",
       "      <td>0.000009</td>\n",
       "      <td>False</td>\n",
       "    </tr>\n",
       "  </tbody>\n",
       "</table>\n",
       "</div>"
      ],
      "text/plain": [
       "         x1        x2               a        y1        y2        c1        c2  \\\n",
       "0  1.522225  2.129185  dummy_constant  1.522225  2.129185  5.938064  3.699188   \n",
       "1  1.076131  0.511745  dummy_constant  1.076131  0.511745  0.351649  0.332064   \n",
       "2  0.520413  0.636211  dummy_constant  0.520413  0.636211 -0.321831  0.018970   \n",
       "3  2.502901  1.757591  dummy_constant  2.502901  1.757591  8.446849  5.593149   \n",
       "4  3.083928  0.053720  dummy_constant  3.083928  0.053720  8.417358  6.875851   \n",
       "5  0.710363  0.746936  dummy_constant  0.710363  0.746936 -0.029520  0.105230   \n",
       "6  2.626335  1.011792  dummy_constant  2.626335  1.011792  6.829235  4.783231   \n",
       "7  0.134746  0.693716  dummy_constant  0.134746  0.693716 -0.400861  0.170937   \n",
       "8  1.778452  1.603033  dummy_constant  1.778452  1.603033  4.665066  2.851122   \n",
       "9  0.891652  1.962030  dummy_constant  0.891652  1.962030  3.558920  2.290924   \n",
       "\n",
       "   xopt_runtime  xopt_error  \n",
       "0      0.000070       False  \n",
       "1      0.000012       False  \n",
       "2      0.000009       False  \n",
       "3      0.000008       False  \n",
       "4      0.000024       False  \n",
       "5      0.000008       False  \n",
       "6      0.000007       False  \n",
       "7      0.000037       False  \n",
       "8      0.000012       False  \n",
       "9      0.000009       False  "
      ]
     },
     "execution_count": 6,
     "metadata": {},
     "output_type": "execute_result"
    }
   ],
   "source": [
    "X.random_evaluate(10)"
   ]
  },
  {
   "cell_type": "markdown",
   "metadata": {
    "collapsed": false
   },
   "source": [
    "## Run Random data generation"
   ]
  },
  {
   "cell_type": "code",
   "execution_count": 7,
   "metadata": {
    "ExecuteTime": {
     "end_time": "2023-10-27T16:42:19.553408700Z",
     "start_time": "2023-10-27T16:42:19.540411800Z"
    },
    "execution": {
     "iopub.execute_input": "2023-11-08T17:19:22.166489Z",
     "iopub.status.busy": "2023-11-08T17:19:22.166045Z",
     "iopub.status.idle": "2023-11-08T17:19:22.170208Z",
     "shell.execute_reply": "2023-11-08T17:19:22.169327Z"
    }
   },
   "outputs": [],
   "source": [
    "import numpy as np\n",
    "np.random.seed(10)"
   ]
  },
  {
   "cell_type": "code",
   "execution_count": 8,
   "metadata": {
    "ExecuteTime": {
     "end_time": "2023-10-27T16:42:19.577554400Z",
     "start_time": "2023-10-27T16:42:19.554407100Z"
    },
    "collapsed": false,
    "execution": {
     "iopub.execute_input": "2023-11-08T17:19:22.173314Z",
     "iopub.status.busy": "2023-11-08T17:19:22.172893Z",
     "iopub.status.idle": "2023-11-08T17:19:22.183255Z",
     "shell.execute_reply": "2023-11-08T17:19:22.182406Z"
    }
   },
   "outputs": [],
   "source": [
    "# Take one step (generate a single point)\n",
    "X.step()"
   ]
  },
  {
   "cell_type": "code",
   "execution_count": 9,
   "metadata": {
    "ExecuteTime": {
     "end_time": "2023-10-27T16:42:19.615564800Z",
     "start_time": "2023-10-27T16:42:19.570407500Z"
    },
    "collapsed": false,
    "execution": {
     "iopub.execute_input": "2023-11-08T17:19:22.187272Z",
     "iopub.status.busy": "2023-11-08T17:19:22.186763Z",
     "iopub.status.idle": "2023-11-08T17:19:22.201169Z",
     "shell.execute_reply": "2023-11-08T17:19:22.200212Z"
    }
   },
   "outputs": [
    {
     "data": {
      "text/html": [
       "<div>\n",
       "<style scoped>\n",
       "    .dataframe tbody tr th:only-of-type {\n",
       "        vertical-align: middle;\n",
       "    }\n",
       "\n",
       "    .dataframe tbody tr th {\n",
       "        vertical-align: top;\n",
       "    }\n",
       "\n",
       "    .dataframe thead th {\n",
       "        text-align: right;\n",
       "    }\n",
       "</style>\n",
       "<table border=\"1\" class=\"dataframe\">\n",
       "  <thead>\n",
       "    <tr style=\"text-align: right;\">\n",
       "      <th></th>\n",
       "      <th>x1</th>\n",
       "      <th>x2</th>\n",
       "      <th>a</th>\n",
       "      <th>y1</th>\n",
       "      <th>y2</th>\n",
       "      <th>c1</th>\n",
       "      <th>c2</th>\n",
       "      <th>xopt_runtime</th>\n",
       "      <th>xopt_error</th>\n",
       "    </tr>\n",
       "  </thead>\n",
       "  <tbody>\n",
       "    <tr>\n",
       "      <th>0</th>\n",
       "      <td>1.522225</td>\n",
       "      <td>2.129185</td>\n",
       "      <td>dummy_constant</td>\n",
       "      <td>1.522225</td>\n",
       "      <td>2.129185</td>\n",
       "      <td>5.938064</td>\n",
       "      <td>3.699188</td>\n",
       "      <td>0.000070</td>\n",
       "      <td>False</td>\n",
       "    </tr>\n",
       "    <tr>\n",
       "      <th>1</th>\n",
       "      <td>1.076131</td>\n",
       "      <td>0.511745</td>\n",
       "      <td>dummy_constant</td>\n",
       "      <td>1.076131</td>\n",
       "      <td>0.511745</td>\n",
       "      <td>0.351649</td>\n",
       "      <td>0.332064</td>\n",
       "      <td>0.000012</td>\n",
       "      <td>False</td>\n",
       "    </tr>\n",
       "    <tr>\n",
       "      <th>2</th>\n",
       "      <td>0.520413</td>\n",
       "      <td>0.636211</td>\n",
       "      <td>dummy_constant</td>\n",
       "      <td>0.520413</td>\n",
       "      <td>0.636211</td>\n",
       "      <td>-0.321831</td>\n",
       "      <td>0.018970</td>\n",
       "      <td>0.000009</td>\n",
       "      <td>False</td>\n",
       "    </tr>\n",
       "    <tr>\n",
       "      <th>3</th>\n",
       "      <td>2.502901</td>\n",
       "      <td>1.757591</td>\n",
       "      <td>dummy_constant</td>\n",
       "      <td>2.502901</td>\n",
       "      <td>1.757591</td>\n",
       "      <td>8.446849</td>\n",
       "      <td>5.593149</td>\n",
       "      <td>0.000008</td>\n",
       "      <td>False</td>\n",
       "    </tr>\n",
       "    <tr>\n",
       "      <th>4</th>\n",
       "      <td>3.083928</td>\n",
       "      <td>0.053720</td>\n",
       "      <td>dummy_constant</td>\n",
       "      <td>3.083928</td>\n",
       "      <td>0.053720</td>\n",
       "      <td>8.417358</td>\n",
       "      <td>6.875851</td>\n",
       "      <td>0.000024</td>\n",
       "      <td>False</td>\n",
       "    </tr>\n",
       "    <tr>\n",
       "      <th>5</th>\n",
       "      <td>0.710363</td>\n",
       "      <td>0.746936</td>\n",
       "      <td>dummy_constant</td>\n",
       "      <td>0.710363</td>\n",
       "      <td>0.746936</td>\n",
       "      <td>-0.029520</td>\n",
       "      <td>0.105230</td>\n",
       "      <td>0.000008</td>\n",
       "      <td>False</td>\n",
       "    </tr>\n",
       "    <tr>\n",
       "      <th>6</th>\n",
       "      <td>2.626335</td>\n",
       "      <td>1.011792</td>\n",
       "      <td>dummy_constant</td>\n",
       "      <td>2.626335</td>\n",
       "      <td>1.011792</td>\n",
       "      <td>6.829235</td>\n",
       "      <td>4.783231</td>\n",
       "      <td>0.000007</td>\n",
       "      <td>False</td>\n",
       "    </tr>\n",
       "    <tr>\n",
       "      <th>7</th>\n",
       "      <td>0.134746</td>\n",
       "      <td>0.693716</td>\n",
       "      <td>dummy_constant</td>\n",
       "      <td>0.134746</td>\n",
       "      <td>0.693716</td>\n",
       "      <td>-0.400861</td>\n",
       "      <td>0.170937</td>\n",
       "      <td>0.000037</td>\n",
       "      <td>False</td>\n",
       "    </tr>\n",
       "    <tr>\n",
       "      <th>8</th>\n",
       "      <td>1.778452</td>\n",
       "      <td>1.603033</td>\n",
       "      <td>dummy_constant</td>\n",
       "      <td>1.778452</td>\n",
       "      <td>1.603033</td>\n",
       "      <td>4.665066</td>\n",
       "      <td>2.851122</td>\n",
       "      <td>0.000012</td>\n",
       "      <td>False</td>\n",
       "    </tr>\n",
       "    <tr>\n",
       "      <th>9</th>\n",
       "      <td>0.891652</td>\n",
       "      <td>1.962030</td>\n",
       "      <td>dummy_constant</td>\n",
       "      <td>0.891652</td>\n",
       "      <td>1.962030</td>\n",
       "      <td>3.558920</td>\n",
       "      <td>2.290924</td>\n",
       "      <td>0.000009</td>\n",
       "      <td>False</td>\n",
       "    </tr>\n",
       "    <tr>\n",
       "      <th>10</th>\n",
       "      <td>0.718417</td>\n",
       "      <td>3.076396</td>\n",
       "      <td>NaN</td>\n",
       "      <td>0.718417</td>\n",
       "      <td>3.076396</td>\n",
       "      <td>9.066664</td>\n",
       "      <td>6.685522</td>\n",
       "      <td>0.000077</td>\n",
       "      <td>False</td>\n",
       "    </tr>\n",
       "  </tbody>\n",
       "</table>\n",
       "</div>"
      ],
      "text/plain": [
       "          x1        x2               a        y1        y2        c1  \\\n",
       "0   1.522225  2.129185  dummy_constant  1.522225  2.129185  5.938064   \n",
       "1   1.076131  0.511745  dummy_constant  1.076131  0.511745  0.351649   \n",
       "2   0.520413  0.636211  dummy_constant  0.520413  0.636211 -0.321831   \n",
       "3   2.502901  1.757591  dummy_constant  2.502901  1.757591  8.446849   \n",
       "4   3.083928  0.053720  dummy_constant  3.083928  0.053720  8.417358   \n",
       "5   0.710363  0.746936  dummy_constant  0.710363  0.746936 -0.029520   \n",
       "6   2.626335  1.011792  dummy_constant  2.626335  1.011792  6.829235   \n",
       "7   0.134746  0.693716  dummy_constant  0.134746  0.693716 -0.400861   \n",
       "8   1.778452  1.603033  dummy_constant  1.778452  1.603033  4.665066   \n",
       "9   0.891652  1.962030  dummy_constant  0.891652  1.962030  3.558920   \n",
       "10  0.718417  3.076396             NaN  0.718417  3.076396  9.066664   \n",
       "\n",
       "          c2  xopt_runtime  xopt_error  \n",
       "0   3.699188      0.000070       False  \n",
       "1   0.332064      0.000012       False  \n",
       "2   0.018970      0.000009       False  \n",
       "3   5.593149      0.000008       False  \n",
       "4   6.875851      0.000024       False  \n",
       "5   0.105230      0.000008       False  \n",
       "6   4.783231      0.000007       False  \n",
       "7   0.170937      0.000037       False  \n",
       "8   2.851122      0.000012       False  \n",
       "9   2.290924      0.000009       False  \n",
       "10  6.685522      0.000077       False  "
      ]
     },
     "execution_count": 9,
     "metadata": {},
     "output_type": "execute_result"
    }
   ],
   "source": [
    "# examine the results\n",
    "X.data"
   ]
  },
  {
   "cell_type": "code",
   "execution_count": 10,
   "metadata": {
    "ExecuteTime": {
     "end_time": "2023-10-27T16:42:19.694561300Z",
     "start_time": "2023-10-27T16:42:19.601562500Z"
    },
    "collapsed": false,
    "execution": {
     "iopub.execute_input": "2023-11-08T17:19:22.206213Z",
     "iopub.status.busy": "2023-11-08T17:19:22.205954Z",
     "iopub.status.idle": "2023-11-08T17:19:22.274641Z",
     "shell.execute_reply": "2023-11-08T17:19:22.273804Z"
    }
   },
   "outputs": [
    {
     "data": {
      "text/html": [
       "<div>\n",
       "<style scoped>\n",
       "    .dataframe tbody tr th:only-of-type {\n",
       "        vertical-align: middle;\n",
       "    }\n",
       "\n",
       "    .dataframe tbody tr th {\n",
       "        vertical-align: top;\n",
       "    }\n",
       "\n",
       "    .dataframe thead th {\n",
       "        text-align: right;\n",
       "    }\n",
       "</style>\n",
       "<table border=\"1\" class=\"dataframe\">\n",
       "  <thead>\n",
       "    <tr style=\"text-align: right;\">\n",
       "      <th></th>\n",
       "      <th>x1</th>\n",
       "      <th>x2</th>\n",
       "      <th>a</th>\n",
       "      <th>y1</th>\n",
       "      <th>y2</th>\n",
       "      <th>c1</th>\n",
       "      <th>c2</th>\n",
       "      <th>xopt_runtime</th>\n",
       "      <th>xopt_error</th>\n",
       "    </tr>\n",
       "  </thead>\n",
       "  <tbody>\n",
       "    <tr>\n",
       "      <th>0</th>\n",
       "      <td>1.522225</td>\n",
       "      <td>2.129185</td>\n",
       "      <td>dummy_constant</td>\n",
       "      <td>1.522225</td>\n",
       "      <td>2.129185</td>\n",
       "      <td>5.938064</td>\n",
       "      <td>3.699188</td>\n",
       "      <td>0.000070</td>\n",
       "      <td>False</td>\n",
       "    </tr>\n",
       "    <tr>\n",
       "      <th>1</th>\n",
       "      <td>1.076131</td>\n",
       "      <td>0.511745</td>\n",
       "      <td>dummy_constant</td>\n",
       "      <td>1.076131</td>\n",
       "      <td>0.511745</td>\n",
       "      <td>0.351649</td>\n",
       "      <td>0.332064</td>\n",
       "      <td>0.000012</td>\n",
       "      <td>False</td>\n",
       "    </tr>\n",
       "    <tr>\n",
       "      <th>2</th>\n",
       "      <td>0.520413</td>\n",
       "      <td>0.636211</td>\n",
       "      <td>dummy_constant</td>\n",
       "      <td>0.520413</td>\n",
       "      <td>0.636211</td>\n",
       "      <td>-0.321831</td>\n",
       "      <td>0.018970</td>\n",
       "      <td>0.000009</td>\n",
       "      <td>False</td>\n",
       "    </tr>\n",
       "    <tr>\n",
       "      <th>3</th>\n",
       "      <td>2.502901</td>\n",
       "      <td>1.757591</td>\n",
       "      <td>dummy_constant</td>\n",
       "      <td>2.502901</td>\n",
       "      <td>1.757591</td>\n",
       "      <td>8.446849</td>\n",
       "      <td>5.593149</td>\n",
       "      <td>0.000008</td>\n",
       "      <td>False</td>\n",
       "    </tr>\n",
       "    <tr>\n",
       "      <th>4</th>\n",
       "      <td>3.083928</td>\n",
       "      <td>0.053720</td>\n",
       "      <td>dummy_constant</td>\n",
       "      <td>3.083928</td>\n",
       "      <td>0.053720</td>\n",
       "      <td>8.417358</td>\n",
       "      <td>6.875851</td>\n",
       "      <td>0.000024</td>\n",
       "      <td>False</td>\n",
       "    </tr>\n",
       "    <tr>\n",
       "      <th>5</th>\n",
       "      <td>0.710363</td>\n",
       "      <td>0.746936</td>\n",
       "      <td>dummy_constant</td>\n",
       "      <td>0.710363</td>\n",
       "      <td>0.746936</td>\n",
       "      <td>-0.029520</td>\n",
       "      <td>0.105230</td>\n",
       "      <td>0.000008</td>\n",
       "      <td>False</td>\n",
       "    </tr>\n",
       "    <tr>\n",
       "      <th>6</th>\n",
       "      <td>2.626335</td>\n",
       "      <td>1.011792</td>\n",
       "      <td>dummy_constant</td>\n",
       "      <td>2.626335</td>\n",
       "      <td>1.011792</td>\n",
       "      <td>6.829235</td>\n",
       "      <td>4.783231</td>\n",
       "      <td>0.000007</td>\n",
       "      <td>False</td>\n",
       "    </tr>\n",
       "    <tr>\n",
       "      <th>7</th>\n",
       "      <td>0.134746</td>\n",
       "      <td>0.693716</td>\n",
       "      <td>dummy_constant</td>\n",
       "      <td>0.134746</td>\n",
       "      <td>0.693716</td>\n",
       "      <td>-0.400861</td>\n",
       "      <td>0.170937</td>\n",
       "      <td>0.000037</td>\n",
       "      <td>False</td>\n",
       "    </tr>\n",
       "    <tr>\n",
       "      <th>8</th>\n",
       "      <td>1.778452</td>\n",
       "      <td>1.603033</td>\n",
       "      <td>dummy_constant</td>\n",
       "      <td>1.778452</td>\n",
       "      <td>1.603033</td>\n",
       "      <td>4.665066</td>\n",
       "      <td>2.851122</td>\n",
       "      <td>0.000012</td>\n",
       "      <td>False</td>\n",
       "    </tr>\n",
       "    <tr>\n",
       "      <th>9</th>\n",
       "      <td>0.891652</td>\n",
       "      <td>1.962030</td>\n",
       "      <td>dummy_constant</td>\n",
       "      <td>0.891652</td>\n",
       "      <td>1.962030</td>\n",
       "      <td>3.558920</td>\n",
       "      <td>2.290924</td>\n",
       "      <td>0.000009</td>\n",
       "      <td>False</td>\n",
       "    </tr>\n",
       "    <tr>\n",
       "      <th>10</th>\n",
       "      <td>0.718417</td>\n",
       "      <td>3.076396</td>\n",
       "      <td>NaN</td>\n",
       "      <td>0.718417</td>\n",
       "      <td>3.076396</td>\n",
       "      <td>9.066664</td>\n",
       "      <td>6.685522</td>\n",
       "      <td>0.000077</td>\n",
       "      <td>False</td>\n",
       "    </tr>\n",
       "    <tr>\n",
       "      <th>11</th>\n",
       "      <td>1.150927</td>\n",
       "      <td>0.789155</td>\n",
       "      <td>NaN</td>\n",
       "      <td>1.150927</td>\n",
       "      <td>0.789155</td>\n",
       "      <td>1.045563</td>\n",
       "      <td>0.507317</td>\n",
       "      <td>0.000070</td>\n",
       "      <td>False</td>\n",
       "    </tr>\n",
       "    <tr>\n",
       "      <th>12</th>\n",
       "      <td>1.575485</td>\n",
       "      <td>2.435371</td>\n",
       "      <td>NaN</td>\n",
       "      <td>1.575485</td>\n",
       "      <td>2.435371</td>\n",
       "      <td>7.510380</td>\n",
       "      <td>4.902330</td>\n",
       "      <td>0.000064</td>\n",
       "      <td>False</td>\n",
       "    </tr>\n",
       "    <tr>\n",
       "      <th>13</th>\n",
       "      <td>2.519358</td>\n",
       "      <td>0.752314</td>\n",
       "      <td>NaN</td>\n",
       "      <td>2.519358</td>\n",
       "      <td>0.752314</td>\n",
       "      <td>5.920078</td>\n",
       "      <td>4.141468</td>\n",
       "      <td>0.000044</td>\n",
       "      <td>False</td>\n",
       "    </tr>\n",
       "    <tr>\n",
       "      <th>14</th>\n",
       "      <td>2.610313</td>\n",
       "      <td>2.864063</td>\n",
       "      <td>NaN</td>\n",
       "      <td>2.610313</td>\n",
       "      <td>2.864063</td>\n",
       "      <td>13.942816</td>\n",
       "      <td>10.042213</td>\n",
       "      <td>0.000064</td>\n",
       "      <td>False</td>\n",
       "    </tr>\n",
       "    <tr>\n",
       "      <th>15</th>\n",
       "      <td>0.988470</td>\n",
       "      <td>0.146419</td>\n",
       "      <td>NaN</td>\n",
       "      <td>0.988470</td>\n",
       "      <td>0.146419</td>\n",
       "      <td>0.068991</td>\n",
       "      <td>0.363623</td>\n",
       "      <td>0.000037</td>\n",
       "      <td>False</td>\n",
       "    </tr>\n",
       "    <tr>\n",
       "      <th>16</th>\n",
       "      <td>3.129186</td>\n",
       "      <td>1.532492</td>\n",
       "      <td>NaN</td>\n",
       "      <td>3.129186</td>\n",
       "      <td>1.532492</td>\n",
       "      <td>11.086588</td>\n",
       "      <td>7.978659</td>\n",
       "      <td>0.000067</td>\n",
       "      <td>False</td>\n",
       "    </tr>\n",
       "    <tr>\n",
       "      <th>17</th>\n",
       "      <td>0.588668</td>\n",
       "      <td>1.217284</td>\n",
       "      <td>NaN</td>\n",
       "      <td>0.588668</td>\n",
       "      <td>1.217284</td>\n",
       "      <td>0.768029</td>\n",
       "      <td>0.522359</td>\n",
       "      <td>0.000039</td>\n",
       "      <td>False</td>\n",
       "    </tr>\n",
       "    <tr>\n",
       "      <th>18</th>\n",
       "      <td>0.874131</td>\n",
       "      <td>2.224635</td>\n",
       "      <td>NaN</td>\n",
       "      <td>0.874131</td>\n",
       "      <td>2.224635</td>\n",
       "      <td>4.617362</td>\n",
       "      <td>3.114340</td>\n",
       "      <td>0.000039</td>\n",
       "      <td>False</td>\n",
       "    </tr>\n",
       "    <tr>\n",
       "      <th>19</th>\n",
       "      <td>0.258320</td>\n",
       "      <td>0.896686</td>\n",
       "      <td>NaN</td>\n",
       "      <td>0.258320</td>\n",
       "      <td>0.896686</td>\n",
       "      <td>-0.106956</td>\n",
       "      <td>0.215769</td>\n",
       "      <td>0.000038</td>\n",
       "      <td>False</td>\n",
       "    </tr>\n",
       "    <tr>\n",
       "      <th>20</th>\n",
       "      <td>1.437138</td>\n",
       "      <td>2.694950</td>\n",
       "      <td>NaN</td>\n",
       "      <td>1.437138</td>\n",
       "      <td>2.694950</td>\n",
       "      <td>8.326577</td>\n",
       "      <td>5.696033</td>\n",
       "      <td>0.000038</td>\n",
       "      <td>False</td>\n",
       "    </tr>\n",
       "  </tbody>\n",
       "</table>\n",
       "</div>"
      ],
      "text/plain": [
       "          x1        x2               a        y1        y2         c1  \\\n",
       "0   1.522225  2.129185  dummy_constant  1.522225  2.129185   5.938064   \n",
       "1   1.076131  0.511745  dummy_constant  1.076131  0.511745   0.351649   \n",
       "2   0.520413  0.636211  dummy_constant  0.520413  0.636211  -0.321831   \n",
       "3   2.502901  1.757591  dummy_constant  2.502901  1.757591   8.446849   \n",
       "4   3.083928  0.053720  dummy_constant  3.083928  0.053720   8.417358   \n",
       "5   0.710363  0.746936  dummy_constant  0.710363  0.746936  -0.029520   \n",
       "6   2.626335  1.011792  dummy_constant  2.626335  1.011792   6.829235   \n",
       "7   0.134746  0.693716  dummy_constant  0.134746  0.693716  -0.400861   \n",
       "8   1.778452  1.603033  dummy_constant  1.778452  1.603033   4.665066   \n",
       "9   0.891652  1.962030  dummy_constant  0.891652  1.962030   3.558920   \n",
       "10  0.718417  3.076396             NaN  0.718417  3.076396   9.066664   \n",
       "11  1.150927  0.789155             NaN  1.150927  0.789155   1.045563   \n",
       "12  1.575485  2.435371             NaN  1.575485  2.435371   7.510380   \n",
       "13  2.519358  0.752314             NaN  2.519358  0.752314   5.920078   \n",
       "14  2.610313  2.864063             NaN  2.610313  2.864063  13.942816   \n",
       "15  0.988470  0.146419             NaN  0.988470  0.146419   0.068991   \n",
       "16  3.129186  1.532492             NaN  3.129186  1.532492  11.086588   \n",
       "17  0.588668  1.217284             NaN  0.588668  1.217284   0.768029   \n",
       "18  0.874131  2.224635             NaN  0.874131  2.224635   4.617362   \n",
       "19  0.258320  0.896686             NaN  0.258320  0.896686  -0.106956   \n",
       "20  1.437138  2.694950             NaN  1.437138  2.694950   8.326577   \n",
       "\n",
       "           c2  xopt_runtime  xopt_error  \n",
       "0    3.699188      0.000070       False  \n",
       "1    0.332064      0.000012       False  \n",
       "2    0.018970      0.000009       False  \n",
       "3    5.593149      0.000008       False  \n",
       "4    6.875851      0.000024       False  \n",
       "5    0.105230      0.000008       False  \n",
       "6    4.783231      0.000007       False  \n",
       "7    0.170937      0.000037       False  \n",
       "8    2.851122      0.000012       False  \n",
       "9    2.290924      0.000009       False  \n",
       "10   6.685522      0.000077       False  \n",
       "11   0.507317      0.000070       False  \n",
       "12   4.902330      0.000064       False  \n",
       "13   4.141468      0.000044       False  \n",
       "14  10.042213      0.000064       False  \n",
       "15   0.363623      0.000037       False  \n",
       "16   7.978659      0.000067       False  \n",
       "17   0.522359      0.000039       False  \n",
       "18   3.114340      0.000039       False  \n",
       "19   0.215769      0.000038       False  \n",
       "20   5.696033      0.000038       False  "
      ]
     },
     "execution_count": 10,
     "metadata": {},
     "output_type": "execute_result"
    }
   ],
   "source": [
    "# take a couple of steps and examine the results\n",
    "for _ in range(10):\n",
    "    X.step()\n",
    "X.data"
   ]
  },
  {
   "cell_type": "markdown",
   "metadata": {
    "collapsed": false
   },
   "source": [
    "## Plotting\n",
    "Plot the objective results"
   ]
  },
  {
   "cell_type": "code",
   "execution_count": 11,
   "metadata": {
    "ExecuteTime": {
     "end_time": "2023-10-27T16:42:20.519697900Z",
     "start_time": "2023-10-27T16:42:19.675562800Z"
    },
    "collapsed": false,
    "execution": {
     "iopub.execute_input": "2023-11-08T17:19:22.279466Z",
     "iopub.status.busy": "2023-11-08T17:19:22.279203Z",
     "iopub.status.idle": "2023-11-08T17:19:23.517173Z",
     "shell.execute_reply": "2023-11-08T17:19:23.516243Z"
    }
   },
   "outputs": [
    {
     "data": {
      "text/plain": [
       "<Axes: xlabel='x1', ylabel='x2'>"
      ]
     },
     "execution_count": 11,
     "metadata": {},
     "output_type": "execute_result"
    },
    {
     "data": {
      "image/png": "[encoded data removed]",
      "text/plain": [
       "<Figure size 640x480 with 1 Axes>"
      ]
     },
     "metadata": {
      "image/png": {
       "height": 432,
       "width": 567
      }
     },
     "output_type": "display_data"
    },
    {
     "data": {
      "image/png": "[encoded data removed]",
      "text/plain": [
       "<Figure size 640x480 with 1 Axes>"
      ]
     },
     "metadata": {
      "image/png": {
       "height": 432,
       "width": 567
      }
     },
     "output_type": "display_data"
    },
    {
     "data": {
      "image/png": "[encoded data removed]",
      "text/plain": [
       "<Figure size 640x480 with 1 Axes>"
      ]
     },
     "metadata": {
      "image/png": {
       "height": 432,
       "width": 567
      }
     },
     "output_type": "display_data"
    }
   ],
   "source": [
    "import matplotlib.pyplot as plt\n",
    "\n",
    "# view objective values\n",
    "X.data.plot(*X.vocs.objective_names, kind=\"scatter\")\n",
    "\n",
    "# view variables values\n",
    "X.data.plot(*X.vocs.variable_names, kind=\"scatter\")\n",
    "\n",
    "# you can also normalize the variables\n",
    "X.vocs.normalize_inputs(X.data).plot(*X.vocs.variable_names, kind=\"scatter\")"
   ]
  },
  {
   "cell_type": "markdown",
   "metadata": {},
   "source": [
    "## Alternative initialization methods\n",
    "\n",
    "For convenience you can also use ```Xopt.from_dict``` to create Xopt objects from dictionaries."
   ]
  },
  {
   "cell_type": "code",
   "execution_count": 12,
   "metadata": {
    "ExecuteTime": {
     "end_time": "2023-10-27T16:42:20.530664900Z",
     "start_time": "2023-10-27T16:42:20.514661700Z"
    },
    "execution": {
     "iopub.execute_input": "2023-11-08T17:19:23.520674Z",
     "iopub.status.busy": "2023-11-08T17:19:23.520305Z",
     "iopub.status.idle": "2023-11-08T17:19:23.529714Z",
     "shell.execute_reply": "2023-11-08T17:19:23.528775Z"
    }
   },
   "outputs": [],
   "source": [
    "import yaml\n",
    "\n",
    "config  = yaml.safe_load(YAML)\n",
    "X = Xopt.from_dict(config)\n"
   ]
  },
  {
   "cell_type": "markdown",
   "metadata": {},
   "source": [
    "## Convenience Methods"
   ]
  },
  {
   "cell_type": "code",
   "execution_count": 13,
   "metadata": {
    "ExecuteTime": {
     "end_time": "2023-10-27T16:42:20.562663800Z",
     "start_time": "2023-10-27T16:42:20.542662800Z"
    },
    "execution": {
     "iopub.execute_input": "2023-11-08T17:19:23.533658Z",
     "iopub.status.busy": "2023-11-08T17:19:23.533386Z",
     "iopub.status.idle": "2023-11-08T17:19:23.549891Z",
     "shell.execute_reply": "2023-11-08T17:19:23.548883Z"
    }
   },
   "outputs": [
    {
     "data": {
      "text/html": [
       "<div>\n",
       "<style scoped>\n",
       "    .dataframe tbody tr th:only-of-type {\n",
       "        vertical-align: middle;\n",
       "    }\n",
       "\n",
       "    .dataframe tbody tr th {\n",
       "        vertical-align: top;\n",
       "    }\n",
       "\n",
       "    .dataframe thead th {\n",
       "        text-align: right;\n",
       "    }\n",
       "</style>\n",
       "<table border=\"1\" class=\"dataframe\">\n",
       "  <thead>\n",
       "    <tr style=\"text-align: right;\">\n",
       "      <th></th>\n",
       "      <th>x1</th>\n",
       "      <th>x2</th>\n",
       "      <th>a</th>\n",
       "      <th>y1</th>\n",
       "      <th>y2</th>\n",
       "      <th>c1</th>\n",
       "      <th>c2</th>\n",
       "      <th>xopt_runtime</th>\n",
       "      <th>xopt_error</th>\n",
       "    </tr>\n",
       "  </thead>\n",
       "  <tbody>\n",
       "    <tr>\n",
       "      <th>0</th>\n",
       "      <td>1.968706</td>\n",
       "      <td>1.023739</td>\n",
       "      <td>dummy_constant</td>\n",
       "      <td>1.968706</td>\n",
       "      <td>1.023739</td>\n",
       "      <td>3.905785</td>\n",
       "      <td>2.431401</td>\n",
       "      <td>0.000077</td>\n",
       "      <td>False</td>\n",
       "    </tr>\n",
       "  </tbody>\n",
       "</table>\n",
       "</div>"
      ],
      "text/plain": [
       "         x1        x2               a        y1        y2        c1        c2  \\\n",
       "0  1.968706  1.023739  dummy_constant  1.968706  1.023739  3.905785  2.431401   \n",
       "\n",
       "   xopt_runtime  xopt_error  \n",
       "0      0.000077       False  "
      ]
     },
     "execution_count": 13,
     "metadata": {},
     "output_type": "execute_result"
    }
   ],
   "source": [
    "# convenience method for evaluating a random sample\n",
    "X.random_evaluate()"
   ]
  },
  {
   "cell_type": "code",
   "execution_count": 14,
   "metadata": {
    "ExecuteTime": {
     "end_time": "2023-10-27T16:42:20.649661800Z",
     "start_time": "2023-10-27T16:42:20.561662100Z"
    },
    "collapsed": false,
    "execution": {
     "iopub.execute_input": "2023-11-08T17:19:23.554719Z",
     "iopub.status.busy": "2023-11-08T17:19:23.554418Z",
     "iopub.status.idle": "2023-11-08T17:19:23.574442Z",
     "shell.execute_reply": "2023-11-08T17:19:23.573596Z"
    }
   },
   "outputs": [
    {
     "data": {
      "text/html": [
       "<div>\n",
       "<style scoped>\n",
       "    .dataframe tbody tr th:only-of-type {\n",
       "        vertical-align: middle;\n",
       "    }\n",
       "\n",
       "    .dataframe tbody tr th {\n",
       "        vertical-align: top;\n",
       "    }\n",
       "\n",
       "    .dataframe thead th {\n",
       "        text-align: right;\n",
       "    }\n",
       "</style>\n",
       "<table border=\"1\" class=\"dataframe\">\n",
       "  <thead>\n",
       "    <tr style=\"text-align: right;\">\n",
       "      <th></th>\n",
       "      <th>x1</th>\n",
       "      <th>x2</th>\n",
       "      <th>a</th>\n",
       "      <th>y1</th>\n",
       "      <th>y2</th>\n",
       "      <th>c1</th>\n",
       "      <th>c2</th>\n",
       "      <th>xopt_runtime</th>\n",
       "      <th>xopt_error</th>\n",
       "    </tr>\n",
       "  </thead>\n",
       "  <tbody>\n",
       "    <tr>\n",
       "      <th>0</th>\n",
       "      <td>1.753531</td>\n",
       "      <td>1.253372</td>\n",
       "      <td>dummy_constant</td>\n",
       "      <td>1.753531</td>\n",
       "      <td>1.253372</td>\n",
       "      <td>3.733363</td>\n",
       "      <td>2.138910</td>\n",
       "      <td>0.000203</td>\n",
       "      <td>False</td>\n",
       "    </tr>\n",
       "    <tr>\n",
       "      <th>1</th>\n",
       "      <td>1.778096</td>\n",
       "      <td>0.611909</td>\n",
       "      <td>dummy_constant</td>\n",
       "      <td>1.778096</td>\n",
       "      <td>0.611909</td>\n",
       "      <td>2.480365</td>\n",
       "      <td>1.646053</td>\n",
       "      <td>0.000031</td>\n",
       "      <td>False</td>\n",
       "    </tr>\n",
       "    <tr>\n",
       "      <th>2</th>\n",
       "      <td>1.200819</td>\n",
       "      <td>1.502789</td>\n",
       "      <td>dummy_constant</td>\n",
       "      <td>1.200819</td>\n",
       "      <td>1.502789</td>\n",
       "      <td>2.721078</td>\n",
       "      <td>1.496733</td>\n",
       "      <td>0.000014</td>\n",
       "      <td>False</td>\n",
       "    </tr>\n",
       "    <tr>\n",
       "      <th>3</th>\n",
       "      <td>1.529520</td>\n",
       "      <td>0.286988</td>\n",
       "      <td>dummy_constant</td>\n",
       "      <td>1.529520</td>\n",
       "      <td>0.286988</td>\n",
       "      <td>1.520284</td>\n",
       "      <td>1.105286</td>\n",
       "      <td>0.000578</td>\n",
       "      <td>False</td>\n",
       "    </tr>\n",
       "    <tr>\n",
       "      <th>4</th>\n",
       "      <td>1.098309</td>\n",
       "      <td>2.138681</td>\n",
       "      <td>dummy_constant</td>\n",
       "      <td>1.098309</td>\n",
       "      <td>2.138681</td>\n",
       "      <td>4.754223</td>\n",
       "      <td>3.043249</td>\n",
       "      <td>0.000022</td>\n",
       "      <td>False</td>\n",
       "    </tr>\n",
       "  </tbody>\n",
       "</table>\n",
       "</div>"
      ],
      "text/plain": [
       "         x1        x2               a        y1        y2        c1        c2  \\\n",
       "0  1.753531  1.253372  dummy_constant  1.753531  1.253372  3.733363  2.138910   \n",
       "1  1.778096  0.611909  dummy_constant  1.778096  0.611909  2.480365  1.646053   \n",
       "2  1.200819  1.502789  dummy_constant  1.200819  1.502789  2.721078  1.496733   \n",
       "3  1.529520  0.286988  dummy_constant  1.529520  0.286988  1.520284  1.105286   \n",
       "4  1.098309  2.138681  dummy_constant  1.098309  2.138681  4.754223  3.043249   \n",
       "\n",
       "   xopt_runtime  xopt_error  \n",
       "0      0.000203       False  \n",
       "1      0.000031       False  \n",
       "2      0.000014       False  \n",
       "3      0.000578       False  \n",
       "4      0.000022       False  "
      ]
     },
     "execution_count": 14,
     "metadata": {},
     "output_type": "execute_result"
    }
   ],
   "source": [
    "X.random_evaluate(5)"
   ]
  },
  {
   "cell_type": "markdown",
   "metadata": {},
   "source": [
    "## Logging\n",
    "\n",
    "Normally Xopt will not issue print statments, and instead issue logging messages. Below will enable these to be seen in the notebook"
   ]
  },
  {
   "cell_type": "code",
   "execution_count": 15,
   "metadata": {
    "ExecuteTime": {
     "end_time": "2023-10-27T16:42:20.706660700Z",
     "start_time": "2023-10-27T16:42:20.589662300Z"
    },
    "execution": {
     "iopub.execute_input": "2023-11-08T17:19:23.578738Z",
     "iopub.status.busy": "2023-11-08T17:19:23.578382Z",
     "iopub.status.idle": "2023-11-08T17:19:23.582722Z",
     "shell.execute_reply": "2023-11-08T17:19:23.582005Z"
    }
   },
   "outputs": [],
   "source": [
    "# Notebook printing output\n",
    "from xopt import output_notebook\n",
    "output_notebook()"
   ]
  },
  {
   "cell_type": "code",
   "execution_count": 16,
   "metadata": {
    "ExecuteTime": {
     "end_time": "2023-10-27T16:42:20.719690700Z",
     "start_time": "2023-10-27T16:42:20.604661200Z"
    },
    "execution": {
     "iopub.execute_input": "2023-11-08T17:19:23.586138Z",
     "iopub.status.busy": "2023-11-08T17:19:23.585887Z",
     "iopub.status.idle": "2023-11-08T17:19:23.597327Z",
     "shell.execute_reply": "2023-11-08T17:19:23.595770Z"
    }
   },
   "outputs": [
    {
     "name": "stdout",
     "output_type": "stream",
     "text": [
      "Running Xopt step\n"
     ]
    }
   ],
   "source": [
    "X.step()"
   ]
  }
 ],
 "metadata": {
  "interpreter": {
   "hash": "72034539424920dfb606fe3b820b3f27dca0cbf1c69938110810ec4641e275b1"
  },
  "kernelspec": {
   "display_name": "Python 3.9.12 ('xopt-dev')",
   "language": "python",
   "name": "python3"
  },
  "language_info": {
   "codemirror_mode": {
    "name": "ipython",
    "version": 3
   },
   "file_extension": ".py",
   "mimetype": "text/x-python",
   "name": "python",
   "nbconvert_exporter": "python",
   "pygments_lexer": "ipython3",
   "version": "3.9.18"
  }
 },
 "nbformat": 4,
 "nbformat_minor": 4
}
