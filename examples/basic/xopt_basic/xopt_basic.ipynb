{
 "cells": [
  {
   "cell_type": "markdown",
   "metadata": {},
   "source": [
    "# Xopt basic example\n",
    "\n",
    "An Xopt problem can be described by a simple YAML file. Here we will demonstrate how this is used to optimize a well-known constrained multi-objective test function, TNK. The TNK function is defined with:\n",
    "\n",
    "$n=2$ variables:\n",
    "$x_i \\in [0, \\pi], i=1,2$\n",
    "\n",
    "Objectives:\n",
    "- $f_i(x) = x_i$\n",
    "\n",
    "Constraints:\n",
    "- $g_1(x) = -x_1^2 -x_2^2 + 1 + 0.1 \\cos\\left(16 \\arctan \\frac{x_1}{x_2}\\right) \\le 0$\n",
    "- $g_2(x) = (x_1 - 1/2)^2 + (x_2-1/2)^2 \\le 0.5$"
   ]
  },
  {
   "cell_type": "code",
   "execution_count": 1,
   "metadata": {
    "execution": {
     "iopub.execute_input": "2023-06-30T19:59:19.994928Z",
     "iopub.status.busy": "2023-06-30T19:59:19.994157Z",
     "iopub.status.idle": "2023-06-30T19:59:21.951768Z",
     "shell.execute_reply": "2023-06-30T19:59:21.950467Z"
    }
   },
   "outputs": [],
   "source": [
    "# Import the class\n",
    "from xopt import Xopt"
   ]
  },
  {
   "cell_type": "code",
   "execution_count": 2,
   "metadata": {
    "execution": {
     "iopub.execute_input": "2023-06-30T19:59:21.956362Z",
     "iopub.status.busy": "2023-06-30T19:59:21.955890Z",
     "iopub.status.idle": "2023-06-30T19:59:21.965013Z",
     "shell.execute_reply": "2023-06-30T19:59:21.964066Z"
    }
   },
   "outputs": [],
   "source": [
    "# Nicer plotting\n",
    "%config InlineBackend.figure_format = 'retina'"
   ]
  },
  {
   "cell_type": "markdown",
   "metadata": {
    "collapsed": false
   },
   "source": [
    "## Xopt Components\n",
    "The definition of the Xopt object requires 4 parts, listed below:\n",
    "- The `Xopt` object itself, which controlls data flow, stores data and governs data\n",
    "loading and saving.\n",
    "- The `Evaluator` object, which evaluates input points using the arbitrary function\n",
    "specified by the `function` property.\n",
    "- The `Generator` object, which, when given data that has been evaluated, generates\n",
    "future points to evaluate using the evaluator.\n",
    "- The `VOCS` (variables, objectives, constraints, statics) object, which specifies the\n",
    "input domain, the objectives, constraints and constants passed to the evaluator\n",
    "function.\n",
    "\n",
    "Through the YAML interface these objects and their options are specified by name. \n",
    "Here we will make one:"
   ]
  },
  {
   "cell_type": "code",
   "execution_count": 3,
   "metadata": {
    "collapsed": false,
    "execution": {
     "iopub.execute_input": "2023-06-30T19:59:21.969015Z",
     "iopub.status.busy": "2023-06-30T19:59:21.968550Z",
     "iopub.status.idle": "2023-06-30T19:59:21.973419Z",
     "shell.execute_reply": "2023-06-30T19:59:21.972466Z"
    }
   },
   "outputs": [],
   "source": [
    "# Make a proper input file.\n",
    "YAML = \"\"\"\n",
    "xopt: {}\n",
    "evaluator:\n",
    "    function: xopt.resources.test_functions.tnk.evaluate_TNK\n",
    "    function_kwargs:\n",
    "        a: 999\n",
    "\n",
    "generator:\n",
    "    name: random\n",
    "\n",
    "vocs:\n",
    "    variables:\n",
    "        x1: [0, 3.14159]\n",
    "        x2: [0, 3.14159]\n",
    "    objectives: {y1: MINIMIZE, y2: MINIMIZE}\n",
    "    constraints:\n",
    "        c1: [GREATER_THAN, 0]\n",
    "        c2: [LESS_THAN, 0.5]\n",
    "    constants: {a: dummy_constant}\n",
    "\n",
    "\"\"\""
   ]
  },
  {
   "cell_type": "code",
   "execution_count": 4,
   "metadata": {
    "collapsed": false,
    "execution": {
     "iopub.execute_input": "2023-06-30T19:59:21.977375Z",
     "iopub.status.busy": "2023-06-30T19:59:21.977080Z",
     "iopub.status.idle": "2023-06-30T19:59:21.998250Z",
     "shell.execute_reply": "2023-06-30T19:59:21.997369Z"
    }
   },
   "outputs": [],
   "source": [
    "# create Xopt object.\n",
    "X = Xopt(YAML)"
   ]
  },
  {
   "cell_type": "code",
   "execution_count": 5,
   "metadata": {
    "execution": {
     "iopub.execute_input": "2023-06-30T19:59:22.002051Z",
     "iopub.status.busy": "2023-06-30T19:59:22.001624Z",
     "iopub.status.idle": "2023-06-30T19:59:22.013631Z",
     "shell.execute_reply": "2023-06-30T19:59:22.012697Z"
    }
   },
   "outputs": [
    {
     "data": {
      "text/plain": [
       "\n",
       "            Xopt\n",
       "________________________________\n",
       "Version: 0+untagged.1.gaab7e5e\n",
       "Data size: 0\n",
       "Config as YAML:\n",
       "xopt: {asynch: false, strict: true, dump_file: null, max_evaluations: null}\n",
       "generator: {name: random}\n",
       "evaluator:\n",
       "  function: xopt.resources.test_functions.tnk.evaluate_TNK\n",
       "  max_workers: 1\n",
       "  function_kwargs: {sleep: 0, random_sleep: 0, raise_probability: 0, a: 999}\n",
       "  vectorized: false\n",
       "vocs:\n",
       "  variables:\n",
       "    x1: [0.0, 3.14159]\n",
       "    x2: [0.0, 3.14159]\n",
       "  constraints:\n",
       "    c1: [GREATER_THAN, 0.0]\n",
       "    c2: [LESS_THAN, 0.5]\n",
       "  objectives: {y1: MINIMIZE, y2: MINIMIZE}\n",
       "  constants: {a: dummy_constant}\n",
       "  observables: []\n"
      ]
     },
     "execution_count": 5,
     "metadata": {},
     "output_type": "execute_result"
    }
   ],
   "source": [
    "# Convenient representation of the state.\n",
    "X"
   ]
  },
  {
   "cell_type": "code",
   "execution_count": 6,
   "metadata": {
    "execution": {
     "iopub.execute_input": "2023-06-30T19:59:22.068447Z",
     "iopub.status.busy": "2023-06-30T19:59:22.067789Z",
     "iopub.status.idle": "2023-06-30T19:59:22.097467Z",
     "shell.execute_reply": "2023-06-30T19:59:22.096587Z"
    }
   },
   "outputs": [
    {
     "data": {
      "text/html": [
       "<div>\n",
       "<style scoped>\n",
       "    .dataframe tbody tr th:only-of-type {\n",
       "        vertical-align: middle;\n",
       "    }\n",
       "\n",
       "    .dataframe tbody tr th {\n",
       "        vertical-align: top;\n",
       "    }\n",
       "\n",
       "    .dataframe thead th {\n",
       "        text-align: right;\n",
       "    }\n",
       "</style>\n",
       "<table border=\"1\" class=\"dataframe\">\n",
       "  <thead>\n",
       "    <tr style=\"text-align: right;\">\n",
       "      <th></th>\n",
       "      <th>x1</th>\n",
       "      <th>x2</th>\n",
       "      <th>a</th>\n",
       "      <th>y1</th>\n",
       "      <th>y2</th>\n",
       "      <th>c1</th>\n",
       "      <th>c2</th>\n",
       "      <th>some_array</th>\n",
       "      <th>xopt_runtime</th>\n",
       "      <th>xopt_error</th>\n",
       "    </tr>\n",
       "  </thead>\n",
       "  <tbody>\n",
       "    <tr>\n",
       "      <th>1</th>\n",
       "      <td>1.457499</td>\n",
       "      <td>2.919408</td>\n",
       "      <td>dummy_constant</td>\n",
       "      <td>1.457499</td>\n",
       "      <td>2.919408</td>\n",
       "      <td>9.604173</td>\n",
       "      <td>6.770338</td>\n",
       "      <td>[1, 2, 3]</td>\n",
       "      <td>0.000066</td>\n",
       "      <td>False</td>\n",
       "    </tr>\n",
       "    <tr>\n",
       "      <th>2</th>\n",
       "      <td>2.194593</td>\n",
       "      <td>0.346676</td>\n",
       "      <td>dummy_constant</td>\n",
       "      <td>2.194593</td>\n",
       "      <td>0.346676</td>\n",
       "      <td>4.016940</td>\n",
       "      <td>2.895153</td>\n",
       "      <td>[1, 2, 3]</td>\n",
       "      <td>0.000017</td>\n",
       "      <td>False</td>\n",
       "    </tr>\n",
       "    <tr>\n",
       "      <th>3</th>\n",
       "      <td>2.532198</td>\n",
       "      <td>2.642782</td>\n",
       "      <td>dummy_constant</td>\n",
       "      <td>2.532198</td>\n",
       "      <td>2.642782</td>\n",
       "      <td>12.302112</td>\n",
       "      <td>8.721345</td>\n",
       "      <td>[1, 2, 3]</td>\n",
       "      <td>0.000012</td>\n",
       "      <td>False</td>\n",
       "    </tr>\n",
       "    <tr>\n",
       "      <th>4</th>\n",
       "      <td>2.186652</td>\n",
       "      <td>1.932954</td>\n",
       "      <td>dummy_constant</td>\n",
       "      <td>2.186652</td>\n",
       "      <td>1.932954</td>\n",
       "      <td>7.462397</td>\n",
       "      <td>4.898154</td>\n",
       "      <td>[1, 2, 3]</td>\n",
       "      <td>0.000010</td>\n",
       "      <td>False</td>\n",
       "    </tr>\n",
       "    <tr>\n",
       "      <th>5</th>\n",
       "      <td>1.370218</td>\n",
       "      <td>0.394080</td>\n",
       "      <td>dummy_constant</td>\n",
       "      <td>1.370218</td>\n",
       "      <td>0.394080</td>\n",
       "      <td>1.055755</td>\n",
       "      <td>0.768498</td>\n",
       "      <td>[1, 2, 3]</td>\n",
       "      <td>0.000010</td>\n",
       "      <td>False</td>\n",
       "    </tr>\n",
       "    <tr>\n",
       "      <th>6</th>\n",
       "      <td>1.432079</td>\n",
       "      <td>0.237825</td>\n",
       "      <td>dummy_constant</td>\n",
       "      <td>1.432079</td>\n",
       "      <td>0.237825</td>\n",
       "      <td>1.194758</td>\n",
       "      <td>0.937507</td>\n",
       "      <td>[1, 2, 3]</td>\n",
       "      <td>0.000010</td>\n",
       "      <td>False</td>\n",
       "    </tr>\n",
       "    <tr>\n",
       "      <th>7</th>\n",
       "      <td>2.549100</td>\n",
       "      <td>2.249787</td>\n",
       "      <td>dummy_constant</td>\n",
       "      <td>2.549100</td>\n",
       "      <td>2.249787</td>\n",
       "      <td>10.505140</td>\n",
       "      <td>7.260565</td>\n",
       "      <td>[1, 2, 3]</td>\n",
       "      <td>0.000009</td>\n",
       "      <td>False</td>\n",
       "    </tr>\n",
       "    <tr>\n",
       "      <th>8</th>\n",
       "      <td>0.467625</td>\n",
       "      <td>2.364335</td>\n",
       "      <td>dummy_constant</td>\n",
       "      <td>0.467625</td>\n",
       "      <td>2.364335</td>\n",
       "      <td>4.908739</td>\n",
       "      <td>3.476794</td>\n",
       "      <td>[1, 2, 3]</td>\n",
       "      <td>0.000010</td>\n",
       "      <td>False</td>\n",
       "    </tr>\n",
       "    <tr>\n",
       "      <th>9</th>\n",
       "      <td>2.317875</td>\n",
       "      <td>2.487293</td>\n",
       "      <td>dummy_constant</td>\n",
       "      <td>2.317875</td>\n",
       "      <td>2.487293</td>\n",
       "      <td>10.474655</td>\n",
       "      <td>7.254005</td>\n",
       "      <td>[1, 2, 3]</td>\n",
       "      <td>0.000010</td>\n",
       "      <td>False</td>\n",
       "    </tr>\n",
       "    <tr>\n",
       "      <th>10</th>\n",
       "      <td>0.228166</td>\n",
       "      <td>2.845076</td>\n",
       "      <td>dummy_constant</td>\n",
       "      <td>0.228166</td>\n",
       "      <td>2.845076</td>\n",
       "      <td>7.117884</td>\n",
       "      <td>5.573274</td>\n",
       "      <td>[1, 2, 3]</td>\n",
       "      <td>0.000011</td>\n",
       "      <td>False</td>\n",
       "    </tr>\n",
       "  </tbody>\n",
       "</table>\n",
       "</div>"
      ],
      "text/plain": [
       "          x1        x2               a        y1        y2         c1  \\\n",
       "1   1.457499  2.919408  dummy_constant  1.457499  2.919408   9.604173   \n",
       "2   2.194593  0.346676  dummy_constant  2.194593  0.346676   4.016940   \n",
       "3   2.532198  2.642782  dummy_constant  2.532198  2.642782  12.302112   \n",
       "4   2.186652  1.932954  dummy_constant  2.186652  1.932954   7.462397   \n",
       "5   1.370218  0.394080  dummy_constant  1.370218  0.394080   1.055755   \n",
       "6   1.432079  0.237825  dummy_constant  1.432079  0.237825   1.194758   \n",
       "7   2.549100  2.249787  dummy_constant  2.549100  2.249787  10.505140   \n",
       "8   0.467625  2.364335  dummy_constant  0.467625  2.364335   4.908739   \n",
       "9   2.317875  2.487293  dummy_constant  2.317875  2.487293  10.474655   \n",
       "10  0.228166  2.845076  dummy_constant  0.228166  2.845076   7.117884   \n",
       "\n",
       "          c2 some_array  xopt_runtime  xopt_error  \n",
       "1   6.770338  [1, 2, 3]      0.000066       False  \n",
       "2   2.895153  [1, 2, 3]      0.000017       False  \n",
       "3   8.721345  [1, 2, 3]      0.000012       False  \n",
       "4   4.898154  [1, 2, 3]      0.000010       False  \n",
       "5   0.768498  [1, 2, 3]      0.000010       False  \n",
       "6   0.937507  [1, 2, 3]      0.000010       False  \n",
       "7   7.260565  [1, 2, 3]      0.000009       False  \n",
       "8   3.476794  [1, 2, 3]      0.000010       False  \n",
       "9   7.254005  [1, 2, 3]      0.000010       False  \n",
       "10  5.573274  [1, 2, 3]      0.000011       False  "
      ]
     },
     "execution_count": 6,
     "metadata": {},
     "output_type": "execute_result"
    }
   ],
   "source": [
    "X.random_evaluate(10)"
   ]
  },
  {
   "cell_type": "markdown",
   "metadata": {
    "collapsed": false
   },
   "source": [
    "## Run Random data generation"
   ]
  },
  {
   "cell_type": "code",
   "execution_count": 7,
   "metadata": {
    "execution": {
     "iopub.execute_input": "2023-06-30T19:59:22.101545Z",
     "iopub.status.busy": "2023-06-30T19:59:22.101037Z",
     "iopub.status.idle": "2023-06-30T19:59:22.105336Z",
     "shell.execute_reply": "2023-06-30T19:59:22.104370Z"
    }
   },
   "outputs": [],
   "source": [
    "import numpy as np\n",
    "np.random.seed(10)"
   ]
  },
  {
   "cell_type": "code",
   "execution_count": 8,
   "metadata": {
    "collapsed": false,
    "execution": {
     "iopub.execute_input": "2023-06-30T19:59:22.109034Z",
     "iopub.status.busy": "2023-06-30T19:59:22.108736Z",
     "iopub.status.idle": "2023-06-30T19:59:22.118774Z",
     "shell.execute_reply": "2023-06-30T19:59:22.117828Z"
    }
   },
   "outputs": [],
   "source": [
    "# Take one step (generate a single point)\n",
    "X.step()"
   ]
  },
  {
   "cell_type": "code",
   "execution_count": 9,
   "metadata": {
    "collapsed": false,
    "execution": {
     "iopub.execute_input": "2023-06-30T19:59:22.123147Z",
     "iopub.status.busy": "2023-06-30T19:59:22.122882Z",
     "iopub.status.idle": "2023-06-30T19:59:22.142730Z",
     "shell.execute_reply": "2023-06-30T19:59:22.141584Z"
    }
   },
   "outputs": [
    {
     "data": {
      "text/html": [
       "<div>\n",
       "<style scoped>\n",
       "    .dataframe tbody tr th:only-of-type {\n",
       "        vertical-align: middle;\n",
       "    }\n",
       "\n",
       "    .dataframe tbody tr th {\n",
       "        vertical-align: top;\n",
       "    }\n",
       "\n",
       "    .dataframe thead th {\n",
       "        text-align: right;\n",
       "    }\n",
       "</style>\n",
       "<table border=\"1\" class=\"dataframe\">\n",
       "  <thead>\n",
       "    <tr style=\"text-align: right;\">\n",
       "      <th></th>\n",
       "      <th>x1</th>\n",
       "      <th>x2</th>\n",
       "      <th>a</th>\n",
       "      <th>y1</th>\n",
       "      <th>y2</th>\n",
       "      <th>c1</th>\n",
       "      <th>c2</th>\n",
       "      <th>some_array</th>\n",
       "      <th>xopt_runtime</th>\n",
       "      <th>xopt_error</th>\n",
       "    </tr>\n",
       "  </thead>\n",
       "  <tbody>\n",
       "    <tr>\n",
       "      <th>1</th>\n",
       "      <td>1.457499</td>\n",
       "      <td>2.919408</td>\n",
       "      <td>dummy_constant</td>\n",
       "      <td>1.457499</td>\n",
       "      <td>2.919408</td>\n",
       "      <td>9.604173</td>\n",
       "      <td>6.770338</td>\n",
       "      <td>[1, 2, 3]</td>\n",
       "      <td>0.000066</td>\n",
       "      <td>False</td>\n",
       "    </tr>\n",
       "    <tr>\n",
       "      <th>2</th>\n",
       "      <td>2.194593</td>\n",
       "      <td>0.346676</td>\n",
       "      <td>dummy_constant</td>\n",
       "      <td>2.194593</td>\n",
       "      <td>0.346676</td>\n",
       "      <td>4.016940</td>\n",
       "      <td>2.895153</td>\n",
       "      <td>[1, 2, 3]</td>\n",
       "      <td>0.000017</td>\n",
       "      <td>False</td>\n",
       "    </tr>\n",
       "    <tr>\n",
       "      <th>3</th>\n",
       "      <td>2.532198</td>\n",
       "      <td>2.642782</td>\n",
       "      <td>dummy_constant</td>\n",
       "      <td>2.532198</td>\n",
       "      <td>2.642782</td>\n",
       "      <td>12.302112</td>\n",
       "      <td>8.721345</td>\n",
       "      <td>[1, 2, 3]</td>\n",
       "      <td>0.000012</td>\n",
       "      <td>False</td>\n",
       "    </tr>\n",
       "    <tr>\n",
       "      <th>4</th>\n",
       "      <td>2.186652</td>\n",
       "      <td>1.932954</td>\n",
       "      <td>dummy_constant</td>\n",
       "      <td>2.186652</td>\n",
       "      <td>1.932954</td>\n",
       "      <td>7.462397</td>\n",
       "      <td>4.898154</td>\n",
       "      <td>[1, 2, 3]</td>\n",
       "      <td>0.000010</td>\n",
       "      <td>False</td>\n",
       "    </tr>\n",
       "    <tr>\n",
       "      <th>5</th>\n",
       "      <td>1.370218</td>\n",
       "      <td>0.394080</td>\n",
       "      <td>dummy_constant</td>\n",
       "      <td>1.370218</td>\n",
       "      <td>0.394080</td>\n",
       "      <td>1.055755</td>\n",
       "      <td>0.768498</td>\n",
       "      <td>[1, 2, 3]</td>\n",
       "      <td>0.000010</td>\n",
       "      <td>False</td>\n",
       "    </tr>\n",
       "    <tr>\n",
       "      <th>6</th>\n",
       "      <td>1.432079</td>\n",
       "      <td>0.237825</td>\n",
       "      <td>dummy_constant</td>\n",
       "      <td>1.432079</td>\n",
       "      <td>0.237825</td>\n",
       "      <td>1.194758</td>\n",
       "      <td>0.937507</td>\n",
       "      <td>[1, 2, 3]</td>\n",
       "      <td>0.000010</td>\n",
       "      <td>False</td>\n",
       "    </tr>\n",
       "    <tr>\n",
       "      <th>7</th>\n",
       "      <td>2.549100</td>\n",
       "      <td>2.249787</td>\n",
       "      <td>dummy_constant</td>\n",
       "      <td>2.549100</td>\n",
       "      <td>2.249787</td>\n",
       "      <td>10.505140</td>\n",
       "      <td>7.260565</td>\n",
       "      <td>[1, 2, 3]</td>\n",
       "      <td>0.000009</td>\n",
       "      <td>False</td>\n",
       "    </tr>\n",
       "    <tr>\n",
       "      <th>8</th>\n",
       "      <td>0.467625</td>\n",
       "      <td>2.364335</td>\n",
       "      <td>dummy_constant</td>\n",
       "      <td>0.467625</td>\n",
       "      <td>2.364335</td>\n",
       "      <td>4.908739</td>\n",
       "      <td>3.476794</td>\n",
       "      <td>[1, 2, 3]</td>\n",
       "      <td>0.000010</td>\n",
       "      <td>False</td>\n",
       "    </tr>\n",
       "    <tr>\n",
       "      <th>9</th>\n",
       "      <td>2.317875</td>\n",
       "      <td>2.487293</td>\n",
       "      <td>dummy_constant</td>\n",
       "      <td>2.317875</td>\n",
       "      <td>2.487293</td>\n",
       "      <td>10.474655</td>\n",
       "      <td>7.254005</td>\n",
       "      <td>[1, 2, 3]</td>\n",
       "      <td>0.000010</td>\n",
       "      <td>False</td>\n",
       "    </tr>\n",
       "    <tr>\n",
       "      <th>10</th>\n",
       "      <td>0.228166</td>\n",
       "      <td>2.845076</td>\n",
       "      <td>dummy_constant</td>\n",
       "      <td>0.228166</td>\n",
       "      <td>2.845076</td>\n",
       "      <td>7.117884</td>\n",
       "      <td>5.573274</td>\n",
       "      <td>[1, 2, 3]</td>\n",
       "      <td>0.000011</td>\n",
       "      <td>False</td>\n",
       "    </tr>\n",
       "    <tr>\n",
       "      <th>11</th>\n",
       "      <td>0.718417</td>\n",
       "      <td>3.076396</td>\n",
       "      <td>dummy_constant</td>\n",
       "      <td>0.718417</td>\n",
       "      <td>3.076396</td>\n",
       "      <td>9.066664</td>\n",
       "      <td>6.685522</td>\n",
       "      <td>[1, 2, 3]</td>\n",
       "      <td>0.000054</td>\n",
       "      <td>False</td>\n",
       "    </tr>\n",
       "  </tbody>\n",
       "</table>\n",
       "</div>"
      ],
      "text/plain": [
       "          x1        x2               a        y1        y2         c1  \\\n",
       "1   1.457499  2.919408  dummy_constant  1.457499  2.919408   9.604173   \n",
       "2   2.194593  0.346676  dummy_constant  2.194593  0.346676   4.016940   \n",
       "3   2.532198  2.642782  dummy_constant  2.532198  2.642782  12.302112   \n",
       "4   2.186652  1.932954  dummy_constant  2.186652  1.932954   7.462397   \n",
       "5   1.370218  0.394080  dummy_constant  1.370218  0.394080   1.055755   \n",
       "6   1.432079  0.237825  dummy_constant  1.432079  0.237825   1.194758   \n",
       "7   2.549100  2.249787  dummy_constant  2.549100  2.249787  10.505140   \n",
       "8   0.467625  2.364335  dummy_constant  0.467625  2.364335   4.908739   \n",
       "9   2.317875  2.487293  dummy_constant  2.317875  2.487293  10.474655   \n",
       "10  0.228166  2.845076  dummy_constant  0.228166  2.845076   7.117884   \n",
       "11  0.718417  3.076396  dummy_constant  0.718417  3.076396   9.066664   \n",
       "\n",
       "          c2 some_array  xopt_runtime  xopt_error  \n",
       "1   6.770338  [1, 2, 3]      0.000066       False  \n",
       "2   2.895153  [1, 2, 3]      0.000017       False  \n",
       "3   8.721345  [1, 2, 3]      0.000012       False  \n",
       "4   4.898154  [1, 2, 3]      0.000010       False  \n",
       "5   0.768498  [1, 2, 3]      0.000010       False  \n",
       "6   0.937507  [1, 2, 3]      0.000010       False  \n",
       "7   7.260565  [1, 2, 3]      0.000009       False  \n",
       "8   3.476794  [1, 2, 3]      0.000010       False  \n",
       "9   7.254005  [1, 2, 3]      0.000010       False  \n",
       "10  5.573274  [1, 2, 3]      0.000011       False  \n",
       "11  6.685522  [1, 2, 3]      0.000054       False  "
      ]
     },
     "execution_count": 9,
     "metadata": {},
     "output_type": "execute_result"
    }
   ],
   "source": [
    "# examine the results\n",
    "X.data"
   ]
  },
  {
   "cell_type": "code",
   "execution_count": 10,
   "metadata": {
    "collapsed": false,
    "execution": {
     "iopub.execute_input": "2023-06-30T19:59:22.147254Z",
     "iopub.status.busy": "2023-06-30T19:59:22.146958Z",
     "iopub.status.idle": "2023-06-30T19:59:22.217827Z",
     "shell.execute_reply": "2023-06-30T19:59:22.216860Z"
    }
   },
   "outputs": [
    {
     "data": {
      "text/html": [
       "<div>\n",
       "<style scoped>\n",
       "    .dataframe tbody tr th:only-of-type {\n",
       "        vertical-align: middle;\n",
       "    }\n",
       "\n",
       "    .dataframe tbody tr th {\n",
       "        vertical-align: top;\n",
       "    }\n",
       "\n",
       "    .dataframe thead th {\n",
       "        text-align: right;\n",
       "    }\n",
       "</style>\n",
       "<table border=\"1\" class=\"dataframe\">\n",
       "  <thead>\n",
       "    <tr style=\"text-align: right;\">\n",
       "      <th></th>\n",
       "      <th>x1</th>\n",
       "      <th>x2</th>\n",
       "      <th>a</th>\n",
       "      <th>y1</th>\n",
       "      <th>y2</th>\n",
       "      <th>c1</th>\n",
       "      <th>c2</th>\n",
       "      <th>some_array</th>\n",
       "      <th>xopt_runtime</th>\n",
       "      <th>xopt_error</th>\n",
       "    </tr>\n",
       "  </thead>\n",
       "  <tbody>\n",
       "    <tr>\n",
       "      <th>1</th>\n",
       "      <td>1.457499</td>\n",
       "      <td>2.919408</td>\n",
       "      <td>dummy_constant</td>\n",
       "      <td>1.457499</td>\n",
       "      <td>2.919408</td>\n",
       "      <td>9.604173</td>\n",
       "      <td>6.770338</td>\n",
       "      <td>[1, 2, 3]</td>\n",
       "      <td>0.000066</td>\n",
       "      <td>False</td>\n",
       "    </tr>\n",
       "    <tr>\n",
       "      <th>2</th>\n",
       "      <td>2.194593</td>\n",
       "      <td>0.346676</td>\n",
       "      <td>dummy_constant</td>\n",
       "      <td>2.194593</td>\n",
       "      <td>0.346676</td>\n",
       "      <td>4.016940</td>\n",
       "      <td>2.895153</td>\n",
       "      <td>[1, 2, 3]</td>\n",
       "      <td>0.000017</td>\n",
       "      <td>False</td>\n",
       "    </tr>\n",
       "    <tr>\n",
       "      <th>3</th>\n",
       "      <td>2.532198</td>\n",
       "      <td>2.642782</td>\n",
       "      <td>dummy_constant</td>\n",
       "      <td>2.532198</td>\n",
       "      <td>2.642782</td>\n",
       "      <td>12.302112</td>\n",
       "      <td>8.721345</td>\n",
       "      <td>[1, 2, 3]</td>\n",
       "      <td>0.000012</td>\n",
       "      <td>False</td>\n",
       "    </tr>\n",
       "    <tr>\n",
       "      <th>4</th>\n",
       "      <td>2.186652</td>\n",
       "      <td>1.932954</td>\n",
       "      <td>dummy_constant</td>\n",
       "      <td>2.186652</td>\n",
       "      <td>1.932954</td>\n",
       "      <td>7.462397</td>\n",
       "      <td>4.898154</td>\n",
       "      <td>[1, 2, 3]</td>\n",
       "      <td>0.000010</td>\n",
       "      <td>False</td>\n",
       "    </tr>\n",
       "    <tr>\n",
       "      <th>5</th>\n",
       "      <td>1.370218</td>\n",
       "      <td>0.394080</td>\n",
       "      <td>dummy_constant</td>\n",
       "      <td>1.370218</td>\n",
       "      <td>0.394080</td>\n",
       "      <td>1.055755</td>\n",
       "      <td>0.768498</td>\n",
       "      <td>[1, 2, 3]</td>\n",
       "      <td>0.000010</td>\n",
       "      <td>False</td>\n",
       "    </tr>\n",
       "    <tr>\n",
       "      <th>6</th>\n",
       "      <td>1.432079</td>\n",
       "      <td>0.237825</td>\n",
       "      <td>dummy_constant</td>\n",
       "      <td>1.432079</td>\n",
       "      <td>0.237825</td>\n",
       "      <td>1.194758</td>\n",
       "      <td>0.937507</td>\n",
       "      <td>[1, 2, 3]</td>\n",
       "      <td>0.000010</td>\n",
       "      <td>False</td>\n",
       "    </tr>\n",
       "    <tr>\n",
       "      <th>7</th>\n",
       "      <td>2.549100</td>\n",
       "      <td>2.249787</td>\n",
       "      <td>dummy_constant</td>\n",
       "      <td>2.549100</td>\n",
       "      <td>2.249787</td>\n",
       "      <td>10.505140</td>\n",
       "      <td>7.260565</td>\n",
       "      <td>[1, 2, 3]</td>\n",
       "      <td>0.000009</td>\n",
       "      <td>False</td>\n",
       "    </tr>\n",
       "    <tr>\n",
       "      <th>8</th>\n",
       "      <td>0.467625</td>\n",
       "      <td>2.364335</td>\n",
       "      <td>dummy_constant</td>\n",
       "      <td>0.467625</td>\n",
       "      <td>2.364335</td>\n",
       "      <td>4.908739</td>\n",
       "      <td>3.476794</td>\n",
       "      <td>[1, 2, 3]</td>\n",
       "      <td>0.000010</td>\n",
       "      <td>False</td>\n",
       "    </tr>\n",
       "    <tr>\n",
       "      <th>9</th>\n",
       "      <td>2.317875</td>\n",
       "      <td>2.487293</td>\n",
       "      <td>dummy_constant</td>\n",
       "      <td>2.317875</td>\n",
       "      <td>2.487293</td>\n",
       "      <td>10.474655</td>\n",
       "      <td>7.254005</td>\n",
       "      <td>[1, 2, 3]</td>\n",
       "      <td>0.000010</td>\n",
       "      <td>False</td>\n",
       "    </tr>\n",
       "    <tr>\n",
       "      <th>10</th>\n",
       "      <td>0.228166</td>\n",
       "      <td>2.845076</td>\n",
       "      <td>dummy_constant</td>\n",
       "      <td>0.228166</td>\n",
       "      <td>2.845076</td>\n",
       "      <td>7.117884</td>\n",
       "      <td>5.573274</td>\n",
       "      <td>[1, 2, 3]</td>\n",
       "      <td>0.000011</td>\n",
       "      <td>False</td>\n",
       "    </tr>\n",
       "    <tr>\n",
       "      <th>11</th>\n",
       "      <td>0.718417</td>\n",
       "      <td>3.076396</td>\n",
       "      <td>dummy_constant</td>\n",
       "      <td>0.718417</td>\n",
       "      <td>3.076396</td>\n",
       "      <td>9.066664</td>\n",
       "      <td>6.685522</td>\n",
       "      <td>[1, 2, 3]</td>\n",
       "      <td>0.000054</td>\n",
       "      <td>False</td>\n",
       "    </tr>\n",
       "    <tr>\n",
       "      <th>12</th>\n",
       "      <td>1.150927</td>\n",
       "      <td>0.789155</td>\n",
       "      <td>dummy_constant</td>\n",
       "      <td>1.150927</td>\n",
       "      <td>0.789155</td>\n",
       "      <td>1.045563</td>\n",
       "      <td>0.507317</td>\n",
       "      <td>[1, 2, 3]</td>\n",
       "      <td>0.000051</td>\n",
       "      <td>False</td>\n",
       "    </tr>\n",
       "    <tr>\n",
       "      <th>13</th>\n",
       "      <td>1.575485</td>\n",
       "      <td>2.435371</td>\n",
       "      <td>dummy_constant</td>\n",
       "      <td>1.575485</td>\n",
       "      <td>2.435371</td>\n",
       "      <td>7.510380</td>\n",
       "      <td>4.902330</td>\n",
       "      <td>[1, 2, 3]</td>\n",
       "      <td>0.000042</td>\n",
       "      <td>False</td>\n",
       "    </tr>\n",
       "    <tr>\n",
       "      <th>14</th>\n",
       "      <td>2.519358</td>\n",
       "      <td>0.752314</td>\n",
       "      <td>dummy_constant</td>\n",
       "      <td>2.519358</td>\n",
       "      <td>0.752314</td>\n",
       "      <td>5.920078</td>\n",
       "      <td>4.141468</td>\n",
       "      <td>[1, 2, 3]</td>\n",
       "      <td>0.000043</td>\n",
       "      <td>False</td>\n",
       "    </tr>\n",
       "    <tr>\n",
       "      <th>15</th>\n",
       "      <td>2.610313</td>\n",
       "      <td>2.864063</td>\n",
       "      <td>dummy_constant</td>\n",
       "      <td>2.610313</td>\n",
       "      <td>2.864063</td>\n",
       "      <td>13.942816</td>\n",
       "      <td>10.042213</td>\n",
       "      <td>[1, 2, 3]</td>\n",
       "      <td>0.000041</td>\n",
       "      <td>False</td>\n",
       "    </tr>\n",
       "    <tr>\n",
       "      <th>16</th>\n",
       "      <td>0.988470</td>\n",
       "      <td>0.146419</td>\n",
       "      <td>dummy_constant</td>\n",
       "      <td>0.988470</td>\n",
       "      <td>0.146419</td>\n",
       "      <td>0.068991</td>\n",
       "      <td>0.363623</td>\n",
       "      <td>[1, 2, 3]</td>\n",
       "      <td>0.000043</td>\n",
       "      <td>False</td>\n",
       "    </tr>\n",
       "    <tr>\n",
       "      <th>17</th>\n",
       "      <td>3.129186</td>\n",
       "      <td>1.532492</td>\n",
       "      <td>dummy_constant</td>\n",
       "      <td>3.129186</td>\n",
       "      <td>1.532492</td>\n",
       "      <td>11.086588</td>\n",
       "      <td>7.978659</td>\n",
       "      <td>[1, 2, 3]</td>\n",
       "      <td>0.000041</td>\n",
       "      <td>False</td>\n",
       "    </tr>\n",
       "    <tr>\n",
       "      <th>18</th>\n",
       "      <td>0.588668</td>\n",
       "      <td>1.217284</td>\n",
       "      <td>dummy_constant</td>\n",
       "      <td>0.588668</td>\n",
       "      <td>1.217284</td>\n",
       "      <td>0.768029</td>\n",
       "      <td>0.522359</td>\n",
       "      <td>[1, 2, 3]</td>\n",
       "      <td>0.000040</td>\n",
       "      <td>False</td>\n",
       "    </tr>\n",
       "    <tr>\n",
       "      <th>19</th>\n",
       "      <td>0.874131</td>\n",
       "      <td>2.224635</td>\n",
       "      <td>dummy_constant</td>\n",
       "      <td>0.874131</td>\n",
       "      <td>2.224635</td>\n",
       "      <td>4.617362</td>\n",
       "      <td>3.114340</td>\n",
       "      <td>[1, 2, 3]</td>\n",
       "      <td>0.000039</td>\n",
       "      <td>False</td>\n",
       "    </tr>\n",
       "    <tr>\n",
       "      <th>20</th>\n",
       "      <td>0.258320</td>\n",
       "      <td>0.896686</td>\n",
       "      <td>dummy_constant</td>\n",
       "      <td>0.258320</td>\n",
       "      <td>0.896686</td>\n",
       "      <td>-0.106956</td>\n",
       "      <td>0.215769</td>\n",
       "      <td>[1, 2, 3]</td>\n",
       "      <td>0.000031</td>\n",
       "      <td>False</td>\n",
       "    </tr>\n",
       "    <tr>\n",
       "      <th>21</th>\n",
       "      <td>1.437138</td>\n",
       "      <td>2.694950</td>\n",
       "      <td>dummy_constant</td>\n",
       "      <td>1.437138</td>\n",
       "      <td>2.694950</td>\n",
       "      <td>8.326577</td>\n",
       "      <td>5.696033</td>\n",
       "      <td>[1, 2, 3]</td>\n",
       "      <td>0.000030</td>\n",
       "      <td>False</td>\n",
       "    </tr>\n",
       "  </tbody>\n",
       "</table>\n",
       "</div>"
      ],
      "text/plain": [
       "          x1        x2               a        y1        y2         c1  \\\n",
       "1   1.457499  2.919408  dummy_constant  1.457499  2.919408   9.604173   \n",
       "2   2.194593  0.346676  dummy_constant  2.194593  0.346676   4.016940   \n",
       "3   2.532198  2.642782  dummy_constant  2.532198  2.642782  12.302112   \n",
       "4   2.186652  1.932954  dummy_constant  2.186652  1.932954   7.462397   \n",
       "5   1.370218  0.394080  dummy_constant  1.370218  0.394080   1.055755   \n",
       "6   1.432079  0.237825  dummy_constant  1.432079  0.237825   1.194758   \n",
       "7   2.549100  2.249787  dummy_constant  2.549100  2.249787  10.505140   \n",
       "8   0.467625  2.364335  dummy_constant  0.467625  2.364335   4.908739   \n",
       "9   2.317875  2.487293  dummy_constant  2.317875  2.487293  10.474655   \n",
       "10  0.228166  2.845076  dummy_constant  0.228166  2.845076   7.117884   \n",
       "11  0.718417  3.076396  dummy_constant  0.718417  3.076396   9.066664   \n",
       "12  1.150927  0.789155  dummy_constant  1.150927  0.789155   1.045563   \n",
       "13  1.575485  2.435371  dummy_constant  1.575485  2.435371   7.510380   \n",
       "14  2.519358  0.752314  dummy_constant  2.519358  0.752314   5.920078   \n",
       "15  2.610313  2.864063  dummy_constant  2.610313  2.864063  13.942816   \n",
       "16  0.988470  0.146419  dummy_constant  0.988470  0.146419   0.068991   \n",
       "17  3.129186  1.532492  dummy_constant  3.129186  1.532492  11.086588   \n",
       "18  0.588668  1.217284  dummy_constant  0.588668  1.217284   0.768029   \n",
       "19  0.874131  2.224635  dummy_constant  0.874131  2.224635   4.617362   \n",
       "20  0.258320  0.896686  dummy_constant  0.258320  0.896686  -0.106956   \n",
       "21  1.437138  2.694950  dummy_constant  1.437138  2.694950   8.326577   \n",
       "\n",
       "           c2 some_array  xopt_runtime  xopt_error  \n",
       "1    6.770338  [1, 2, 3]      0.000066       False  \n",
       "2    2.895153  [1, 2, 3]      0.000017       False  \n",
       "3    8.721345  [1, 2, 3]      0.000012       False  \n",
       "4    4.898154  [1, 2, 3]      0.000010       False  \n",
       "5    0.768498  [1, 2, 3]      0.000010       False  \n",
       "6    0.937507  [1, 2, 3]      0.000010       False  \n",
       "7    7.260565  [1, 2, 3]      0.000009       False  \n",
       "8    3.476794  [1, 2, 3]      0.000010       False  \n",
       "9    7.254005  [1, 2, 3]      0.000010       False  \n",
       "10   5.573274  [1, 2, 3]      0.000011       False  \n",
       "11   6.685522  [1, 2, 3]      0.000054       False  \n",
       "12   0.507317  [1, 2, 3]      0.000051       False  \n",
       "13   4.902330  [1, 2, 3]      0.000042       False  \n",
       "14   4.141468  [1, 2, 3]      0.000043       False  \n",
       "15  10.042213  [1, 2, 3]      0.000041       False  \n",
       "16   0.363623  [1, 2, 3]      0.000043       False  \n",
       "17   7.978659  [1, 2, 3]      0.000041       False  \n",
       "18   0.522359  [1, 2, 3]      0.000040       False  \n",
       "19   3.114340  [1, 2, 3]      0.000039       False  \n",
       "20   0.215769  [1, 2, 3]      0.000031       False  \n",
       "21   5.696033  [1, 2, 3]      0.000030       False  "
      ]
     },
     "execution_count": 10,
     "metadata": {},
     "output_type": "execute_result"
    }
   ],
   "source": [
    "# take a couple of steps and examine the results\n",
    "for _ in range(10):\n",
    "    X.step()\n",
    "X.data"
   ]
  },
  {
   "cell_type": "markdown",
   "metadata": {
    "collapsed": false
   },
   "source": [
    "## Plotting\n",
    "Plot the objective results"
   ]
  },
  {
   "cell_type": "code",
   "execution_count": 11,
   "metadata": {
    "collapsed": false,
    "execution": {
     "iopub.execute_input": "2023-06-30T19:59:22.222144Z",
     "iopub.status.busy": "2023-06-30T19:59:22.221600Z",
     "iopub.status.idle": "2023-06-30T19:59:23.067728Z",
     "shell.execute_reply": "2023-06-30T19:59:23.066680Z"
    }
   },
   "outputs": [
    {
     "data": {
      "text/plain": [
       "<Axes: xlabel='y1', ylabel='y2'>"
      ]
     },
     "execution_count": 11,
     "metadata": {},
     "output_type": "execute_result"
    },
    {
     "data": {
      "image/png": "[encoded data removed]",
      "text/plain": [
       "<Figure size 640x480 with 1 Axes>"
      ]
     },
     "metadata": {
      "image/png": {
       "height": 432,
       "width": 567
      }
     },
     "output_type": "display_data"
    }
   ],
   "source": [
    "import matplotlib.pyplot as plt\n",
    "\n",
    "X.data.plot(*X.vocs.objective_names, kind=\"scatter\")"
   ]
  },
  {
   "cell_type": "markdown",
   "metadata": {},
   "source": [
    "## Alternative initialization methods\n",
    "\n",
    "For convenience, if the first (and only) positional argument is present, then Xopt will automatically try to load from JSON, YAML str or files, or as a dict."
   ]
  },
  {
   "cell_type": "code",
   "execution_count": 12,
   "metadata": {
    "execution": {
     "iopub.execute_input": "2023-06-30T19:59:23.071812Z",
     "iopub.status.busy": "2023-06-30T19:59:23.071359Z",
     "iopub.status.idle": "2023-06-30T19:59:23.096259Z",
     "shell.execute_reply": "2023-06-30T19:59:23.095181Z"
    }
   },
   "outputs": [],
   "source": [
    "import yaml\n",
    "import json\n",
    "\n",
    "config  = yaml.safe_load(YAML) \n",
    "# All these methods work\n",
    "\n",
    "X = Xopt(YAML)\n",
    "X = Xopt(config)\n",
    "X = Xopt(json.dumps(config, indent=4))\n"
   ]
  },
  {
   "cell_type": "markdown",
   "metadata": {},
   "source": [
    "## Convenience Methods"
   ]
  },
  {
   "cell_type": "code",
   "execution_count": 13,
   "metadata": {
    "execution": {
     "iopub.execute_input": "2023-06-30T19:59:23.100288Z",
     "iopub.status.busy": "2023-06-30T19:59:23.099947Z",
     "iopub.status.idle": "2023-06-30T19:59:23.107139Z",
     "shell.execute_reply": "2023-06-30T19:59:23.106178Z"
    }
   },
   "outputs": [
    {
     "data": {
      "text/plain": [
       "{'y1': 0.5,\n",
       " 'y2': 0.5,\n",
       " 'c1': -0.6,\n",
       " 'c2': 0.0,\n",
       " 'some_array': array([1, 2, 3]),\n",
       " 'xopt_runtime': 0.00014510000005429902,\n",
       " 'xopt_error': False}"
      ]
     },
     "execution_count": 13,
     "metadata": {},
     "output_type": "execute_result"
    }
   ],
   "source": [
    "# Call the evaluator's function directly.\n",
    "X.evaluate({'x1': .5, 'x2': 0.5})"
   ]
  },
  {
   "cell_type": "code",
   "execution_count": 14,
   "metadata": {
    "execution": {
     "iopub.execute_input": "2023-06-30T19:59:23.111581Z",
     "iopub.status.busy": "2023-06-30T19:59:23.111262Z",
     "iopub.status.idle": "2023-06-30T19:59:23.117698Z",
     "shell.execute_reply": "2023-06-30T19:59:23.116811Z"
    }
   },
   "outputs": [
    {
     "data": {
      "text/plain": [
       "{'x1': array([1.9687064]), 'x2': array([1.02373858]), 'a': 'dummy_constant'}"
      ]
     },
     "execution_count": 14,
     "metadata": {},
     "output_type": "execute_result"
    }
   ],
   "source": [
    "# Create random inputs according to the vocs\n",
    "X.random_inputs()"
   ]
  },
  {
   "cell_type": "code",
   "execution_count": 15,
   "metadata": {
    "execution": {
     "iopub.execute_input": "2023-06-30T19:59:23.120967Z",
     "iopub.status.busy": "2023-06-30T19:59:23.120658Z",
     "iopub.status.idle": "2023-06-30T19:59:23.128197Z",
     "shell.execute_reply": "2023-06-30T19:59:23.127311Z"
    }
   },
   "outputs": [
    {
     "data": {
      "text/plain": [
       "{'y1': array([0.71841678]),\n",
       " 'y2': array([3.07639588]),\n",
       " 'c1': array([9.06666383]),\n",
       " 'c2': array([6.68552164]),\n",
       " 'some_array': array([1, 2, 3]),\n",
       " 'xopt_runtime': 8.380000008401112e-05,\n",
       " 'xopt_error': False}"
      ]
     },
     "execution_count": 15,
     "metadata": {},
     "output_type": "execute_result"
    }
   ],
   "source": [
    "# These can be combined:\n",
    "np.random.seed(10)\n",
    "X.evaluate(X.random_inputs())"
   ]
  },
  {
   "cell_type": "code",
   "execution_count": 16,
   "metadata": {
    "execution": {
     "iopub.execute_input": "2023-06-30T19:59:23.131536Z",
     "iopub.status.busy": "2023-06-30T19:59:23.131230Z",
     "iopub.status.idle": "2023-06-30T19:59:23.152995Z",
     "shell.execute_reply": "2023-06-30T19:59:23.151996Z"
    }
   },
   "outputs": [
    {
     "data": {
      "text/html": [
       "<div>\n",
       "<style scoped>\n",
       "    .dataframe tbody tr th:only-of-type {\n",
       "        vertical-align: middle;\n",
       "    }\n",
       "\n",
       "    .dataframe tbody tr th {\n",
       "        vertical-align: top;\n",
       "    }\n",
       "\n",
       "    .dataframe thead th {\n",
       "        text-align: right;\n",
       "    }\n",
       "</style>\n",
       "<table border=\"1\" class=\"dataframe\">\n",
       "  <thead>\n",
       "    <tr style=\"text-align: right;\">\n",
       "      <th></th>\n",
       "      <th>x1</th>\n",
       "      <th>x2</th>\n",
       "      <th>a</th>\n",
       "      <th>y1</th>\n",
       "      <th>y2</th>\n",
       "      <th>c1</th>\n",
       "      <th>c2</th>\n",
       "      <th>some_array</th>\n",
       "      <th>xopt_runtime</th>\n",
       "      <th>xopt_error</th>\n",
       "    </tr>\n",
       "  </thead>\n",
       "  <tbody>\n",
       "    <tr>\n",
       "      <th>1</th>\n",
       "      <td>0.718417</td>\n",
       "      <td>3.076396</td>\n",
       "      <td>dummy_constant</td>\n",
       "      <td>0.718417</td>\n",
       "      <td>3.076396</td>\n",
       "      <td>9.066664</td>\n",
       "      <td>6.685522</td>\n",
       "      <td>[1, 2, 3]</td>\n",
       "      <td>0.000051</td>\n",
       "      <td>False</td>\n",
       "    </tr>\n",
       "  </tbody>\n",
       "</table>\n",
       "</div>"
      ],
      "text/plain": [
       "         x1        x2               a        y1        y2        c1        c2  \\\n",
       "1  0.718417  3.076396  dummy_constant  0.718417  3.076396  9.066664  6.685522   \n",
       "\n",
       "  some_array  xopt_runtime  xopt_error  \n",
       "1  [1, 2, 3]      0.000051       False  "
      ]
     },
     "execution_count": 16,
     "metadata": {},
     "output_type": "execute_result"
    }
   ],
   "source": [
    "# And this is a convenience method for above\n",
    "np.random.seed(10)\n",
    "X.random_evaluate()"
   ]
  },
  {
   "cell_type": "markdown",
   "metadata": {},
   "source": [
    "## Logging\n",
    "\n",
    "Normally Xopt will not issue print statments, and instead issue logging messages. Below will enable these to be seen in the notebook"
   ]
  },
  {
   "cell_type": "code",
   "execution_count": 17,
   "metadata": {
    "execution": {
     "iopub.execute_input": "2023-06-30T19:59:23.157644Z",
     "iopub.status.busy": "2023-06-30T19:59:23.156849Z",
     "iopub.status.idle": "2023-06-30T19:59:23.161339Z",
     "shell.execute_reply": "2023-06-30T19:59:23.160508Z"
    }
   },
   "outputs": [],
   "source": [
    "# Notebook printing output\n",
    "from xopt import output_notebook\n",
    "output_notebook()"
   ]
  },
  {
   "cell_type": "code",
   "execution_count": 18,
   "metadata": {
    "execution": {
     "iopub.execute_input": "2023-06-30T19:59:23.165461Z",
     "iopub.status.busy": "2023-06-30T19:59:23.164940Z",
     "iopub.status.idle": "2023-06-30T19:59:23.175116Z",
     "shell.execute_reply": "2023-06-30T19:59:23.174336Z"
    }
   },
   "outputs": [
    {
     "name": "stdout",
     "output_type": "stream",
     "text": [
      "Running Xopt step\n"
     ]
    }
   ],
   "source": [
    "X.step()"
   ]
  }
 ],
 "metadata": {
  "interpreter": {
   "hash": "72034539424920dfb606fe3b820b3f27dca0cbf1c69938110810ec4641e275b1"
  },
  "kernelspec": {
   "display_name": "Python 3.9.12 ('xopt-dev')",
   "language": "python",
   "name": "python3"
  },
  "language_info": {
   "codemirror_mode": {
    "name": "ipython",
    "version": 3
   },
   "file_extension": ".py",
   "mimetype": "text/x-python",
   "name": "python",
   "nbconvert_exporter": "python",
   "pygments_lexer": "ipython3",
   "version": "3.9.16"
  }
 },
 "nbformat": 4,
 "nbformat_minor": 4
}
