{
 "cells": [
  {
   "cell_type": "markdown",
   "metadata": {},
   "source": [
    "# Xopt basic example\n",
    "\n",
    "An Xopt problem can be described by a simple YAML file. Here we will demonstrate how this is used to optimize a well-known constrained multi-objective test function, TNK. The TNK function is defined with:\n",
    "\n",
    "$n=2$ variables:\n",
    "$x_i \\in [0, \\pi], i=1,2$\n",
    "\n",
    "Objectives:\n",
    "- $f_i(x) = x_i$\n",
    "\n",
    "Constraints:\n",
    "- $g_1(x) = -x_1^2 -x_2^2 + 1 + 0.1 \\cos\\left(16 \\arctan \\frac{x_1}{x_2}\\right) \\le 0$\n",
    "- $g_2(x) = (x_1 - 1/2)^2 + (x_2-1/2)^2 \\le 0.5$"
   ]
  },
  {
   "cell_type": "code",
   "execution_count": 1,
   "metadata": {
    "execution": {
     "iopub.execute_input": "2023-06-30T02:21:47.447926Z",
     "iopub.status.busy": "2023-06-30T02:21:47.447508Z",
     "iopub.status.idle": "2023-06-30T02:21:49.615917Z",
     "shell.execute_reply": "2023-06-30T02:21:49.614912Z"
    }
   },
   "outputs": [],
   "source": [
    "# Import the class\n",
    "from xopt import Xopt"
   ]
  },
  {
   "cell_type": "code",
   "execution_count": 2,
   "metadata": {
    "execution": {
     "iopub.execute_input": "2023-06-30T02:21:49.620169Z",
     "iopub.status.busy": "2023-06-30T02:21:49.619581Z",
     "iopub.status.idle": "2023-06-30T02:21:49.625839Z",
     "shell.execute_reply": "2023-06-30T02:21:49.625208Z"
    }
   },
   "outputs": [],
   "source": [
    "# Nicer plotting\n",
    "%config InlineBackend.figure_format = 'retina'"
   ]
  },
  {
   "cell_type": "markdown",
   "metadata": {
    "collapsed": false
   },
   "source": [
    "## Xopt Components\n",
    "The definition of the Xopt object requires 4 parts, listed below:\n",
    "- The `Xopt` object itself, which controlls data flow, stores data and governs data\n",
    "loading and saving.\n",
    "- The `Evaluator` object, which evaluates input points using the arbitrary function\n",
    "specified by the `function` property.\n",
    "- The `Generator` object, which, when given data that has been evaluated, generates\n",
    "future points to evaluate using the evaluator.\n",
    "- The `VOCS` (variables, objectives, constraints, statics) object, which specifies the\n",
    "input domain, the objectives, constraints and constants passed to the evaluator\n",
    "function.\n",
    "\n",
    "Through the YAML interface these objects and their options are specified by name. \n",
    "Here we will make one:"
   ]
  },
  {
   "cell_type": "code",
   "execution_count": 3,
   "metadata": {
    "collapsed": false,
    "execution": {
     "iopub.execute_input": "2023-06-30T02:21:49.628961Z",
     "iopub.status.busy": "2023-06-30T02:21:49.628479Z",
     "iopub.status.idle": "2023-06-30T02:21:49.632138Z",
     "shell.execute_reply": "2023-06-30T02:21:49.631510Z"
    }
   },
   "outputs": [],
   "source": [
    "# Make a proper input file.\n",
    "YAML = \"\"\"\n",
    "xopt: {}\n",
    "evaluator:\n",
    "    function: xopt.resources.test_functions.tnk.evaluate_TNK\n",
    "    function_kwargs:\n",
    "        a: 999\n",
    "\n",
    "generator:\n",
    "    name: random\n",
    "\n",
    "vocs:\n",
    "    variables:\n",
    "        x1: [0, 3.14159]\n",
    "        x2: [0, 3.14159]\n",
    "    objectives: {y1: MINIMIZE, y2: MINIMIZE}\n",
    "    constraints:\n",
    "        c1: [GREATER_THAN, 0]\n",
    "        c2: [LESS_THAN, 0.5]\n",
    "    constants: {a: dummy_constant}\n",
    "\n",
    "\"\"\""
   ]
  },
  {
   "cell_type": "code",
   "execution_count": 4,
   "metadata": {
    "collapsed": false,
    "execution": {
     "iopub.execute_input": "2023-06-30T02:21:49.634967Z",
     "iopub.status.busy": "2023-06-30T02:21:49.634637Z",
     "iopub.status.idle": "2023-06-30T02:21:49.651566Z",
     "shell.execute_reply": "2023-06-30T02:21:49.651018Z"
    }
   },
   "outputs": [],
   "source": [
    "# create Xopt object.\n",
    "X = Xopt(YAML)"
   ]
  },
  {
   "cell_type": "code",
   "execution_count": 5,
   "metadata": {
    "execution": {
     "iopub.execute_input": "2023-06-30T02:21:49.654448Z",
     "iopub.status.busy": "2023-06-30T02:21:49.654238Z",
     "iopub.status.idle": "2023-06-30T02:21:49.662647Z",
     "shell.execute_reply": "2023-06-30T02:21:49.662021Z"
    }
   },
   "outputs": [
    {
     "data": {
      "text/plain": [
       "\n",
       "            Xopt\n",
       "________________________________\n",
       "Version: 0+untagged.1.gec8863e\n",
       "Data size: 0\n",
       "Config as YAML:\n",
       "xopt: {asynch: false, strict: false, dump_file: null, max_evaluations: null}\n",
       "generator: {name: random}\n",
       "evaluator:\n",
       "  function: xopt.resources.test_functions.tnk.evaluate_TNK\n",
       "  max_workers: 1\n",
       "  function_kwargs: {sleep: 0, random_sleep: 0, raise_probability: 0, a: 999}\n",
       "  vectorized: false\n",
       "vocs:\n",
       "  variables:\n",
       "    x1: [0.0, 3.14159]\n",
       "    x2: [0.0, 3.14159]\n",
       "  constraints:\n",
       "    c1: [GREATER_THAN, 0.0]\n",
       "    c2: [LESS_THAN, 0.5]\n",
       "  objectives: {y1: MINIMIZE, y2: MINIMIZE}\n",
       "  constants: {a: dummy_constant}\n",
       "  observables: []\n"
      ]
     },
     "execution_count": 5,
     "metadata": {},
     "output_type": "execute_result"
    }
   ],
   "source": [
    "# Convenient representation of the state.\n",
    "X"
   ]
  },
  {
   "cell_type": "code",
   "execution_count": 6,
   "metadata": {
    "execution": {
     "iopub.execute_input": "2023-06-30T02:21:49.704531Z",
     "iopub.status.busy": "2023-06-30T02:21:49.703942Z",
     "iopub.status.idle": "2023-06-30T02:21:49.724942Z",
     "shell.execute_reply": "2023-06-30T02:21:49.724257Z"
    }
   },
   "outputs": [
    {
     "data": {
      "text/html": [
       "<div>\n",
       "<style scoped>\n",
       "    .dataframe tbody tr th:only-of-type {\n",
       "        vertical-align: middle;\n",
       "    }\n",
       "\n",
       "    .dataframe tbody tr th {\n",
       "        vertical-align: top;\n",
       "    }\n",
       "\n",
       "    .dataframe thead th {\n",
       "        text-align: right;\n",
       "    }\n",
       "</style>\n",
       "<table border=\"1\" class=\"dataframe\">\n",
       "  <thead>\n",
       "    <tr style=\"text-align: right;\">\n",
       "      <th></th>\n",
       "      <th>x1</th>\n",
       "      <th>x2</th>\n",
       "      <th>a</th>\n",
       "      <th>y1</th>\n",
       "      <th>y2</th>\n",
       "      <th>c1</th>\n",
       "      <th>c2</th>\n",
       "      <th>some_array</th>\n",
       "      <th>xopt_runtime</th>\n",
       "      <th>xopt_error</th>\n",
       "    </tr>\n",
       "  </thead>\n",
       "  <tbody>\n",
       "    <tr>\n",
       "      <th>1</th>\n",
       "      <td>2.776879</td>\n",
       "      <td>1.601700</td>\n",
       "      <td>dummy_constant</td>\n",
       "      <td>2.776879</td>\n",
       "      <td>1.601700</td>\n",
       "      <td>9.325924</td>\n",
       "      <td>6.397920</td>\n",
       "      <td>[1, 2, 3]</td>\n",
       "      <td>0.000067</td>\n",
       "      <td>False</td>\n",
       "    </tr>\n",
       "    <tr>\n",
       "      <th>2</th>\n",
       "      <td>0.755737</td>\n",
       "      <td>0.133636</td>\n",
       "      <td>dummy_constant</td>\n",
       "      <td>0.755737</td>\n",
       "      <td>0.133636</td>\n",
       "      <td>-0.316770</td>\n",
       "      <td>0.199624</td>\n",
       "      <td>[1, 2, 3]</td>\n",
       "      <td>0.000013</td>\n",
       "      <td>False</td>\n",
       "    </tr>\n",
       "    <tr>\n",
       "      <th>3</th>\n",
       "      <td>0.712666</td>\n",
       "      <td>0.975330</td>\n",
       "      <td>dummy_constant</td>\n",
       "      <td>0.712666</td>\n",
       "      <td>0.975330</td>\n",
       "      <td>0.537440</td>\n",
       "      <td>0.271166</td>\n",
       "      <td>[1, 2, 3]</td>\n",
       "      <td>0.000010</td>\n",
       "      <td>False</td>\n",
       "    </tr>\n",
       "    <tr>\n",
       "      <th>4</th>\n",
       "      <td>2.754530</td>\n",
       "      <td>1.209652</td>\n",
       "      <td>dummy_constant</td>\n",
       "      <td>2.754530</td>\n",
       "      <td>1.209652</td>\n",
       "      <td>7.956335</td>\n",
       "      <td>5.586510</td>\n",
       "      <td>[1, 2, 3]</td>\n",
       "      <td>0.000008</td>\n",
       "      <td>False</td>\n",
       "    </tr>\n",
       "    <tr>\n",
       "      <th>5</th>\n",
       "      <td>0.041433</td>\n",
       "      <td>1.757630</td>\n",
       "      <td>dummy_constant</td>\n",
       "      <td>0.041433</td>\n",
       "      <td>1.757630</td>\n",
       "      <td>1.998006</td>\n",
       "      <td>1.791917</td>\n",
       "      <td>[1, 2, 3]</td>\n",
       "      <td>0.000009</td>\n",
       "      <td>False</td>\n",
       "    </tr>\n",
       "    <tr>\n",
       "      <th>6</th>\n",
       "      <td>0.163652</td>\n",
       "      <td>2.297101</td>\n",
       "      <td>dummy_constant</td>\n",
       "      <td>0.163652</td>\n",
       "      <td>2.297101</td>\n",
       "      <td>4.261512</td>\n",
       "      <td>3.342703</td>\n",
       "      <td>[1, 2, 3]</td>\n",
       "      <td>0.000009</td>\n",
       "      <td>False</td>\n",
       "    </tr>\n",
       "    <tr>\n",
       "      <th>7</th>\n",
       "      <td>2.007573</td>\n",
       "      <td>1.434512</td>\n",
       "      <td>dummy_constant</td>\n",
       "      <td>2.007573</td>\n",
       "      <td>1.434512</td>\n",
       "      <td>5.175833</td>\n",
       "      <td>3.146088</td>\n",
       "      <td>[1, 2, 3]</td>\n",
       "      <td>0.000008</td>\n",
       "      <td>False</td>\n",
       "    </tr>\n",
       "    <tr>\n",
       "      <th>8</th>\n",
       "      <td>1.759215</td>\n",
       "      <td>0.487382</td>\n",
       "      <td>dummy_constant</td>\n",
       "      <td>1.759215</td>\n",
       "      <td>0.487382</td>\n",
       "      <td>2.370224</td>\n",
       "      <td>1.585781</td>\n",
       "      <td>[1, 2, 3]</td>\n",
       "      <td>0.000008</td>\n",
       "      <td>False</td>\n",
       "    </tr>\n",
       "    <tr>\n",
       "      <th>9</th>\n",
       "      <td>0.702064</td>\n",
       "      <td>2.402438</td>\n",
       "      <td>dummy_constant</td>\n",
       "      <td>0.702064</td>\n",
       "      <td>2.402438</td>\n",
       "      <td>5.280867</td>\n",
       "      <td>3.660100</td>\n",
       "      <td>[1, 2, 3]</td>\n",
       "      <td>0.000008</td>\n",
       "      <td>False</td>\n",
       "    </tr>\n",
       "    <tr>\n",
       "      <th>10</th>\n",
       "      <td>3.014374</td>\n",
       "      <td>1.264489</td>\n",
       "      <td>dummy_constant</td>\n",
       "      <td>3.014374</td>\n",
       "      <td>1.264489</td>\n",
       "      <td>9.585639</td>\n",
       "      <td>6.906518</td>\n",
       "      <td>[1, 2, 3]</td>\n",
       "      <td>0.000011</td>\n",
       "      <td>False</td>\n",
       "    </tr>\n",
       "  </tbody>\n",
       "</table>\n",
       "</div>"
      ],
      "text/plain": [
       "          x1        x2               a        y1        y2        c1  \\\n",
       "1   2.776879  1.601700  dummy_constant  2.776879  1.601700  9.325924   \n",
       "2   0.755737  0.133636  dummy_constant  0.755737  0.133636 -0.316770   \n",
       "3   0.712666  0.975330  dummy_constant  0.712666  0.975330  0.537440   \n",
       "4   2.754530  1.209652  dummy_constant  2.754530  1.209652  7.956335   \n",
       "5   0.041433  1.757630  dummy_constant  0.041433  1.757630  1.998006   \n",
       "6   0.163652  2.297101  dummy_constant  0.163652  2.297101  4.261512   \n",
       "7   2.007573  1.434512  dummy_constant  2.007573  1.434512  5.175833   \n",
       "8   1.759215  0.487382  dummy_constant  1.759215  0.487382  2.370224   \n",
       "9   0.702064  2.402438  dummy_constant  0.702064  2.402438  5.280867   \n",
       "10  3.014374  1.264489  dummy_constant  3.014374  1.264489  9.585639   \n",
       "\n",
       "          c2 some_array  xopt_runtime  xopt_error  \n",
       "1   6.397920  [1, 2, 3]      0.000067       False  \n",
       "2   0.199624  [1, 2, 3]      0.000013       False  \n",
       "3   0.271166  [1, 2, 3]      0.000010       False  \n",
       "4   5.586510  [1, 2, 3]      0.000008       False  \n",
       "5   1.791917  [1, 2, 3]      0.000009       False  \n",
       "6   3.342703  [1, 2, 3]      0.000009       False  \n",
       "7   3.146088  [1, 2, 3]      0.000008       False  \n",
       "8   1.585781  [1, 2, 3]      0.000008       False  \n",
       "9   3.660100  [1, 2, 3]      0.000008       False  \n",
       "10  6.906518  [1, 2, 3]      0.000011       False  "
      ]
     },
     "execution_count": 6,
     "metadata": {},
     "output_type": "execute_result"
    }
   ],
   "source": [
    "X.random_evaluate(10)"
   ]
  },
  {
   "cell_type": "markdown",
   "metadata": {
    "collapsed": false
   },
   "source": [
    "## Run Random data generation"
   ]
  },
  {
   "cell_type": "code",
   "execution_count": 7,
   "metadata": {
    "execution": {
     "iopub.execute_input": "2023-06-30T02:21:49.728130Z",
     "iopub.status.busy": "2023-06-30T02:21:49.727699Z",
     "iopub.status.idle": "2023-06-30T02:21:49.730900Z",
     "shell.execute_reply": "2023-06-30T02:21:49.730270Z"
    }
   },
   "outputs": [],
   "source": [
    "import numpy as np\n",
    "np.random.seed(10)"
   ]
  },
  {
   "cell_type": "code",
   "execution_count": 8,
   "metadata": {
    "collapsed": false,
    "execution": {
     "iopub.execute_input": "2023-06-30T02:21:49.733844Z",
     "iopub.status.busy": "2023-06-30T02:21:49.733455Z",
     "iopub.status.idle": "2023-06-30T02:21:49.740132Z",
     "shell.execute_reply": "2023-06-30T02:21:49.739486Z"
    }
   },
   "outputs": [],
   "source": [
    "# Take one step (generate a single point)\n",
    "X.step()"
   ]
  },
  {
   "cell_type": "code",
   "execution_count": 9,
   "metadata": {
    "collapsed": false,
    "execution": {
     "iopub.execute_input": "2023-06-30T02:21:49.743212Z",
     "iopub.status.busy": "2023-06-30T02:21:49.742807Z",
     "iopub.status.idle": "2023-06-30T02:21:49.756574Z",
     "shell.execute_reply": "2023-06-30T02:21:49.755927Z"
    }
   },
   "outputs": [
    {
     "data": {
      "text/html": [
       "<div>\n",
       "<style scoped>\n",
       "    .dataframe tbody tr th:only-of-type {\n",
       "        vertical-align: middle;\n",
       "    }\n",
       "\n",
       "    .dataframe tbody tr th {\n",
       "        vertical-align: top;\n",
       "    }\n",
       "\n",
       "    .dataframe thead th {\n",
       "        text-align: right;\n",
       "    }\n",
       "</style>\n",
       "<table border=\"1\" class=\"dataframe\">\n",
       "  <thead>\n",
       "    <tr style=\"text-align: right;\">\n",
       "      <th></th>\n",
       "      <th>x1</th>\n",
       "      <th>x2</th>\n",
       "      <th>a</th>\n",
       "      <th>y1</th>\n",
       "      <th>y2</th>\n",
       "      <th>c1</th>\n",
       "      <th>c2</th>\n",
       "      <th>some_array</th>\n",
       "      <th>xopt_runtime</th>\n",
       "      <th>xopt_error</th>\n",
       "    </tr>\n",
       "  </thead>\n",
       "  <tbody>\n",
       "    <tr>\n",
       "      <th>1</th>\n",
       "      <td>2.776879</td>\n",
       "      <td>1.601700</td>\n",
       "      <td>dummy_constant</td>\n",
       "      <td>2.776879</td>\n",
       "      <td>1.601700</td>\n",
       "      <td>9.325924</td>\n",
       "      <td>6.397920</td>\n",
       "      <td>[1, 2, 3]</td>\n",
       "      <td>0.000067</td>\n",
       "      <td>False</td>\n",
       "    </tr>\n",
       "    <tr>\n",
       "      <th>2</th>\n",
       "      <td>0.755737</td>\n",
       "      <td>0.133636</td>\n",
       "      <td>dummy_constant</td>\n",
       "      <td>0.755737</td>\n",
       "      <td>0.133636</td>\n",
       "      <td>-0.316770</td>\n",
       "      <td>0.199624</td>\n",
       "      <td>[1, 2, 3]</td>\n",
       "      <td>0.000013</td>\n",
       "      <td>False</td>\n",
       "    </tr>\n",
       "    <tr>\n",
       "      <th>3</th>\n",
       "      <td>0.712666</td>\n",
       "      <td>0.975330</td>\n",
       "      <td>dummy_constant</td>\n",
       "      <td>0.712666</td>\n",
       "      <td>0.975330</td>\n",
       "      <td>0.537440</td>\n",
       "      <td>0.271166</td>\n",
       "      <td>[1, 2, 3]</td>\n",
       "      <td>0.000010</td>\n",
       "      <td>False</td>\n",
       "    </tr>\n",
       "    <tr>\n",
       "      <th>4</th>\n",
       "      <td>2.754530</td>\n",
       "      <td>1.209652</td>\n",
       "      <td>dummy_constant</td>\n",
       "      <td>2.754530</td>\n",
       "      <td>1.209652</td>\n",
       "      <td>7.956335</td>\n",
       "      <td>5.586510</td>\n",
       "      <td>[1, 2, 3]</td>\n",
       "      <td>0.000008</td>\n",
       "      <td>False</td>\n",
       "    </tr>\n",
       "    <tr>\n",
       "      <th>5</th>\n",
       "      <td>0.041433</td>\n",
       "      <td>1.757630</td>\n",
       "      <td>dummy_constant</td>\n",
       "      <td>0.041433</td>\n",
       "      <td>1.757630</td>\n",
       "      <td>1.998006</td>\n",
       "      <td>1.791917</td>\n",
       "      <td>[1, 2, 3]</td>\n",
       "      <td>0.000009</td>\n",
       "      <td>False</td>\n",
       "    </tr>\n",
       "    <tr>\n",
       "      <th>6</th>\n",
       "      <td>0.163652</td>\n",
       "      <td>2.297101</td>\n",
       "      <td>dummy_constant</td>\n",
       "      <td>0.163652</td>\n",
       "      <td>2.297101</td>\n",
       "      <td>4.261512</td>\n",
       "      <td>3.342703</td>\n",
       "      <td>[1, 2, 3]</td>\n",
       "      <td>0.000009</td>\n",
       "      <td>False</td>\n",
       "    </tr>\n",
       "    <tr>\n",
       "      <th>7</th>\n",
       "      <td>2.007573</td>\n",
       "      <td>1.434512</td>\n",
       "      <td>dummy_constant</td>\n",
       "      <td>2.007573</td>\n",
       "      <td>1.434512</td>\n",
       "      <td>5.175833</td>\n",
       "      <td>3.146088</td>\n",
       "      <td>[1, 2, 3]</td>\n",
       "      <td>0.000008</td>\n",
       "      <td>False</td>\n",
       "    </tr>\n",
       "    <tr>\n",
       "      <th>8</th>\n",
       "      <td>1.759215</td>\n",
       "      <td>0.487382</td>\n",
       "      <td>dummy_constant</td>\n",
       "      <td>1.759215</td>\n",
       "      <td>0.487382</td>\n",
       "      <td>2.370224</td>\n",
       "      <td>1.585781</td>\n",
       "      <td>[1, 2, 3]</td>\n",
       "      <td>0.000008</td>\n",
       "      <td>False</td>\n",
       "    </tr>\n",
       "    <tr>\n",
       "      <th>9</th>\n",
       "      <td>0.702064</td>\n",
       "      <td>2.402438</td>\n",
       "      <td>dummy_constant</td>\n",
       "      <td>0.702064</td>\n",
       "      <td>2.402438</td>\n",
       "      <td>5.280867</td>\n",
       "      <td>3.660100</td>\n",
       "      <td>[1, 2, 3]</td>\n",
       "      <td>0.000008</td>\n",
       "      <td>False</td>\n",
       "    </tr>\n",
       "    <tr>\n",
       "      <th>10</th>\n",
       "      <td>3.014374</td>\n",
       "      <td>1.264489</td>\n",
       "      <td>dummy_constant</td>\n",
       "      <td>3.014374</td>\n",
       "      <td>1.264489</td>\n",
       "      <td>9.585639</td>\n",
       "      <td>6.906518</td>\n",
       "      <td>[1, 2, 3]</td>\n",
       "      <td>0.000011</td>\n",
       "      <td>False</td>\n",
       "    </tr>\n",
       "    <tr>\n",
       "      <th>11</th>\n",
       "      <td>0.718417</td>\n",
       "      <td>3.076396</td>\n",
       "      <td>dummy_constant</td>\n",
       "      <td>0.718417</td>\n",
       "      <td>3.076396</td>\n",
       "      <td>9.066664</td>\n",
       "      <td>6.685522</td>\n",
       "      <td>[1, 2, 3]</td>\n",
       "      <td>0.000183</td>\n",
       "      <td>False</td>\n",
       "    </tr>\n",
       "  </tbody>\n",
       "</table>\n",
       "</div>"
      ],
      "text/plain": [
       "          x1        x2               a        y1        y2        c1  \\\n",
       "1   2.776879  1.601700  dummy_constant  2.776879  1.601700  9.325924   \n",
       "2   0.755737  0.133636  dummy_constant  0.755737  0.133636 -0.316770   \n",
       "3   0.712666  0.975330  dummy_constant  0.712666  0.975330  0.537440   \n",
       "4   2.754530  1.209652  dummy_constant  2.754530  1.209652  7.956335   \n",
       "5   0.041433  1.757630  dummy_constant  0.041433  1.757630  1.998006   \n",
       "6   0.163652  2.297101  dummy_constant  0.163652  2.297101  4.261512   \n",
       "7   2.007573  1.434512  dummy_constant  2.007573  1.434512  5.175833   \n",
       "8   1.759215  0.487382  dummy_constant  1.759215  0.487382  2.370224   \n",
       "9   0.702064  2.402438  dummy_constant  0.702064  2.402438  5.280867   \n",
       "10  3.014374  1.264489  dummy_constant  3.014374  1.264489  9.585639   \n",
       "11  0.718417  3.076396  dummy_constant  0.718417  3.076396  9.066664   \n",
       "\n",
       "          c2 some_array  xopt_runtime  xopt_error  \n",
       "1   6.397920  [1, 2, 3]      0.000067       False  \n",
       "2   0.199624  [1, 2, 3]      0.000013       False  \n",
       "3   0.271166  [1, 2, 3]      0.000010       False  \n",
       "4   5.586510  [1, 2, 3]      0.000008       False  \n",
       "5   1.791917  [1, 2, 3]      0.000009       False  \n",
       "6   3.342703  [1, 2, 3]      0.000009       False  \n",
       "7   3.146088  [1, 2, 3]      0.000008       False  \n",
       "8   1.585781  [1, 2, 3]      0.000008       False  \n",
       "9   3.660100  [1, 2, 3]      0.000008       False  \n",
       "10  6.906518  [1, 2, 3]      0.000011       False  \n",
       "11  6.685522  [1, 2, 3]      0.000183       False  "
      ]
     },
     "execution_count": 9,
     "metadata": {},
     "output_type": "execute_result"
    }
   ],
   "source": [
    "# examine the results\n",
    "X.data"
   ]
  },
  {
   "cell_type": "code",
   "execution_count": 10,
   "metadata": {
    "collapsed": false,
    "execution": {
     "iopub.execute_input": "2023-06-30T02:21:49.760289Z",
     "iopub.status.busy": "2023-06-30T02:21:49.759957Z",
     "iopub.status.idle": "2023-06-30T02:21:49.808058Z",
     "shell.execute_reply": "2023-06-30T02:21:49.807240Z"
    }
   },
   "outputs": [
    {
     "data": {
      "text/html": [
       "<div>\n",
       "<style scoped>\n",
       "    .dataframe tbody tr th:only-of-type {\n",
       "        vertical-align: middle;\n",
       "    }\n",
       "\n",
       "    .dataframe tbody tr th {\n",
       "        vertical-align: top;\n",
       "    }\n",
       "\n",
       "    .dataframe thead th {\n",
       "        text-align: right;\n",
       "    }\n",
       "</style>\n",
       "<table border=\"1\" class=\"dataframe\">\n",
       "  <thead>\n",
       "    <tr style=\"text-align: right;\">\n",
       "      <th></th>\n",
       "      <th>x1</th>\n",
       "      <th>x2</th>\n",
       "      <th>a</th>\n",
       "      <th>y1</th>\n",
       "      <th>y2</th>\n",
       "      <th>c1</th>\n",
       "      <th>c2</th>\n",
       "      <th>some_array</th>\n",
       "      <th>xopt_runtime</th>\n",
       "      <th>xopt_error</th>\n",
       "    </tr>\n",
       "  </thead>\n",
       "  <tbody>\n",
       "    <tr>\n",
       "      <th>1</th>\n",
       "      <td>2.776879</td>\n",
       "      <td>1.601700</td>\n",
       "      <td>dummy_constant</td>\n",
       "      <td>2.776879</td>\n",
       "      <td>1.601700</td>\n",
       "      <td>9.325924</td>\n",
       "      <td>6.397920</td>\n",
       "      <td>[1, 2, 3]</td>\n",
       "      <td>0.000067</td>\n",
       "      <td>False</td>\n",
       "    </tr>\n",
       "    <tr>\n",
       "      <th>2</th>\n",
       "      <td>0.755737</td>\n",
       "      <td>0.133636</td>\n",
       "      <td>dummy_constant</td>\n",
       "      <td>0.755737</td>\n",
       "      <td>0.133636</td>\n",
       "      <td>-0.316770</td>\n",
       "      <td>0.199624</td>\n",
       "      <td>[1, 2, 3]</td>\n",
       "      <td>0.000013</td>\n",
       "      <td>False</td>\n",
       "    </tr>\n",
       "    <tr>\n",
       "      <th>3</th>\n",
       "      <td>0.712666</td>\n",
       "      <td>0.975330</td>\n",
       "      <td>dummy_constant</td>\n",
       "      <td>0.712666</td>\n",
       "      <td>0.975330</td>\n",
       "      <td>0.537440</td>\n",
       "      <td>0.271166</td>\n",
       "      <td>[1, 2, 3]</td>\n",
       "      <td>0.000010</td>\n",
       "      <td>False</td>\n",
       "    </tr>\n",
       "    <tr>\n",
       "      <th>4</th>\n",
       "      <td>2.754530</td>\n",
       "      <td>1.209652</td>\n",
       "      <td>dummy_constant</td>\n",
       "      <td>2.754530</td>\n",
       "      <td>1.209652</td>\n",
       "      <td>7.956335</td>\n",
       "      <td>5.586510</td>\n",
       "      <td>[1, 2, 3]</td>\n",
       "      <td>0.000008</td>\n",
       "      <td>False</td>\n",
       "    </tr>\n",
       "    <tr>\n",
       "      <th>5</th>\n",
       "      <td>0.041433</td>\n",
       "      <td>1.757630</td>\n",
       "      <td>dummy_constant</td>\n",
       "      <td>0.041433</td>\n",
       "      <td>1.757630</td>\n",
       "      <td>1.998006</td>\n",
       "      <td>1.791917</td>\n",
       "      <td>[1, 2, 3]</td>\n",
       "      <td>0.000009</td>\n",
       "      <td>False</td>\n",
       "    </tr>\n",
       "    <tr>\n",
       "      <th>6</th>\n",
       "      <td>0.163652</td>\n",
       "      <td>2.297101</td>\n",
       "      <td>dummy_constant</td>\n",
       "      <td>0.163652</td>\n",
       "      <td>2.297101</td>\n",
       "      <td>4.261512</td>\n",
       "      <td>3.342703</td>\n",
       "      <td>[1, 2, 3]</td>\n",
       "      <td>0.000009</td>\n",
       "      <td>False</td>\n",
       "    </tr>\n",
       "    <tr>\n",
       "      <th>7</th>\n",
       "      <td>2.007573</td>\n",
       "      <td>1.434512</td>\n",
       "      <td>dummy_constant</td>\n",
       "      <td>2.007573</td>\n",
       "      <td>1.434512</td>\n",
       "      <td>5.175833</td>\n",
       "      <td>3.146088</td>\n",
       "      <td>[1, 2, 3]</td>\n",
       "      <td>0.000008</td>\n",
       "      <td>False</td>\n",
       "    </tr>\n",
       "    <tr>\n",
       "      <th>8</th>\n",
       "      <td>1.759215</td>\n",
       "      <td>0.487382</td>\n",
       "      <td>dummy_constant</td>\n",
       "      <td>1.759215</td>\n",
       "      <td>0.487382</td>\n",
       "      <td>2.370224</td>\n",
       "      <td>1.585781</td>\n",
       "      <td>[1, 2, 3]</td>\n",
       "      <td>0.000008</td>\n",
       "      <td>False</td>\n",
       "    </tr>\n",
       "    <tr>\n",
       "      <th>9</th>\n",
       "      <td>0.702064</td>\n",
       "      <td>2.402438</td>\n",
       "      <td>dummy_constant</td>\n",
       "      <td>0.702064</td>\n",
       "      <td>2.402438</td>\n",
       "      <td>5.280867</td>\n",
       "      <td>3.660100</td>\n",
       "      <td>[1, 2, 3]</td>\n",
       "      <td>0.000008</td>\n",
       "      <td>False</td>\n",
       "    </tr>\n",
       "    <tr>\n",
       "      <th>10</th>\n",
       "      <td>3.014374</td>\n",
       "      <td>1.264489</td>\n",
       "      <td>dummy_constant</td>\n",
       "      <td>3.014374</td>\n",
       "      <td>1.264489</td>\n",
       "      <td>9.585639</td>\n",
       "      <td>6.906518</td>\n",
       "      <td>[1, 2, 3]</td>\n",
       "      <td>0.000011</td>\n",
       "      <td>False</td>\n",
       "    </tr>\n",
       "    <tr>\n",
       "      <th>11</th>\n",
       "      <td>0.718417</td>\n",
       "      <td>3.076396</td>\n",
       "      <td>dummy_constant</td>\n",
       "      <td>0.718417</td>\n",
       "      <td>3.076396</td>\n",
       "      <td>9.066664</td>\n",
       "      <td>6.685522</td>\n",
       "      <td>[1, 2, 3]</td>\n",
       "      <td>0.000183</td>\n",
       "      <td>False</td>\n",
       "    </tr>\n",
       "    <tr>\n",
       "      <th>12</th>\n",
       "      <td>1.150927</td>\n",
       "      <td>0.789155</td>\n",
       "      <td>dummy_constant</td>\n",
       "      <td>1.150927</td>\n",
       "      <td>0.789155</td>\n",
       "      <td>1.045563</td>\n",
       "      <td>0.507317</td>\n",
       "      <td>[1, 2, 3]</td>\n",
       "      <td>0.000223</td>\n",
       "      <td>False</td>\n",
       "    </tr>\n",
       "    <tr>\n",
       "      <th>13</th>\n",
       "      <td>1.575485</td>\n",
       "      <td>2.435371</td>\n",
       "      <td>dummy_constant</td>\n",
       "      <td>1.575485</td>\n",
       "      <td>2.435371</td>\n",
       "      <td>7.510380</td>\n",
       "      <td>4.902330</td>\n",
       "      <td>[1, 2, 3]</td>\n",
       "      <td>0.000033</td>\n",
       "      <td>False</td>\n",
       "    </tr>\n",
       "    <tr>\n",
       "      <th>14</th>\n",
       "      <td>2.519358</td>\n",
       "      <td>0.752314</td>\n",
       "      <td>dummy_constant</td>\n",
       "      <td>2.519358</td>\n",
       "      <td>0.752314</td>\n",
       "      <td>5.920078</td>\n",
       "      <td>4.141468</td>\n",
       "      <td>[1, 2, 3]</td>\n",
       "      <td>0.000025</td>\n",
       "      <td>False</td>\n",
       "    </tr>\n",
       "    <tr>\n",
       "      <th>15</th>\n",
       "      <td>2.610313</td>\n",
       "      <td>2.864063</td>\n",
       "      <td>dummy_constant</td>\n",
       "      <td>2.610313</td>\n",
       "      <td>2.864063</td>\n",
       "      <td>13.942816</td>\n",
       "      <td>10.042213</td>\n",
       "      <td>[1, 2, 3]</td>\n",
       "      <td>0.000024</td>\n",
       "      <td>False</td>\n",
       "    </tr>\n",
       "    <tr>\n",
       "      <th>16</th>\n",
       "      <td>0.988470</td>\n",
       "      <td>0.146419</td>\n",
       "      <td>dummy_constant</td>\n",
       "      <td>0.988470</td>\n",
       "      <td>0.146419</td>\n",
       "      <td>0.068991</td>\n",
       "      <td>0.363623</td>\n",
       "      <td>[1, 2, 3]</td>\n",
       "      <td>0.000024</td>\n",
       "      <td>False</td>\n",
       "    </tr>\n",
       "    <tr>\n",
       "      <th>17</th>\n",
       "      <td>3.129186</td>\n",
       "      <td>1.532492</td>\n",
       "      <td>dummy_constant</td>\n",
       "      <td>3.129186</td>\n",
       "      <td>1.532492</td>\n",
       "      <td>11.086588</td>\n",
       "      <td>7.978659</td>\n",
       "      <td>[1, 2, 3]</td>\n",
       "      <td>0.000025</td>\n",
       "      <td>False</td>\n",
       "    </tr>\n",
       "    <tr>\n",
       "      <th>18</th>\n",
       "      <td>0.588668</td>\n",
       "      <td>1.217284</td>\n",
       "      <td>dummy_constant</td>\n",
       "      <td>0.588668</td>\n",
       "      <td>1.217284</td>\n",
       "      <td>0.768029</td>\n",
       "      <td>0.522359</td>\n",
       "      <td>[1, 2, 3]</td>\n",
       "      <td>0.000024</td>\n",
       "      <td>False</td>\n",
       "    </tr>\n",
       "    <tr>\n",
       "      <th>19</th>\n",
       "      <td>0.874131</td>\n",
       "      <td>2.224635</td>\n",
       "      <td>dummy_constant</td>\n",
       "      <td>0.874131</td>\n",
       "      <td>2.224635</td>\n",
       "      <td>4.617362</td>\n",
       "      <td>3.114340</td>\n",
       "      <td>[1, 2, 3]</td>\n",
       "      <td>0.000024</td>\n",
       "      <td>False</td>\n",
       "    </tr>\n",
       "    <tr>\n",
       "      <th>20</th>\n",
       "      <td>0.258320</td>\n",
       "      <td>0.896686</td>\n",
       "      <td>dummy_constant</td>\n",
       "      <td>0.258320</td>\n",
       "      <td>0.896686</td>\n",
       "      <td>-0.106956</td>\n",
       "      <td>0.215769</td>\n",
       "      <td>[1, 2, 3]</td>\n",
       "      <td>0.000025</td>\n",
       "      <td>False</td>\n",
       "    </tr>\n",
       "    <tr>\n",
       "      <th>21</th>\n",
       "      <td>1.437138</td>\n",
       "      <td>2.694950</td>\n",
       "      <td>dummy_constant</td>\n",
       "      <td>1.437138</td>\n",
       "      <td>2.694950</td>\n",
       "      <td>8.326577</td>\n",
       "      <td>5.696033</td>\n",
       "      <td>[1, 2, 3]</td>\n",
       "      <td>0.000025</td>\n",
       "      <td>False</td>\n",
       "    </tr>\n",
       "  </tbody>\n",
       "</table>\n",
       "</div>"
      ],
      "text/plain": [
       "          x1        x2               a        y1        y2         c1  \\\n",
       "1   2.776879  1.601700  dummy_constant  2.776879  1.601700   9.325924   \n",
       "2   0.755737  0.133636  dummy_constant  0.755737  0.133636  -0.316770   \n",
       "3   0.712666  0.975330  dummy_constant  0.712666  0.975330   0.537440   \n",
       "4   2.754530  1.209652  dummy_constant  2.754530  1.209652   7.956335   \n",
       "5   0.041433  1.757630  dummy_constant  0.041433  1.757630   1.998006   \n",
       "6   0.163652  2.297101  dummy_constant  0.163652  2.297101   4.261512   \n",
       "7   2.007573  1.434512  dummy_constant  2.007573  1.434512   5.175833   \n",
       "8   1.759215  0.487382  dummy_constant  1.759215  0.487382   2.370224   \n",
       "9   0.702064  2.402438  dummy_constant  0.702064  2.402438   5.280867   \n",
       "10  3.014374  1.264489  dummy_constant  3.014374  1.264489   9.585639   \n",
       "11  0.718417  3.076396  dummy_constant  0.718417  3.076396   9.066664   \n",
       "12  1.150927  0.789155  dummy_constant  1.150927  0.789155   1.045563   \n",
       "13  1.575485  2.435371  dummy_constant  1.575485  2.435371   7.510380   \n",
       "14  2.519358  0.752314  dummy_constant  2.519358  0.752314   5.920078   \n",
       "15  2.610313  2.864063  dummy_constant  2.610313  2.864063  13.942816   \n",
       "16  0.988470  0.146419  dummy_constant  0.988470  0.146419   0.068991   \n",
       "17  3.129186  1.532492  dummy_constant  3.129186  1.532492  11.086588   \n",
       "18  0.588668  1.217284  dummy_constant  0.588668  1.217284   0.768029   \n",
       "19  0.874131  2.224635  dummy_constant  0.874131  2.224635   4.617362   \n",
       "20  0.258320  0.896686  dummy_constant  0.258320  0.896686  -0.106956   \n",
       "21  1.437138  2.694950  dummy_constant  1.437138  2.694950   8.326577   \n",
       "\n",
       "           c2 some_array  xopt_runtime  xopt_error  \n",
       "1    6.397920  [1, 2, 3]      0.000067       False  \n",
       "2    0.199624  [1, 2, 3]      0.000013       False  \n",
       "3    0.271166  [1, 2, 3]      0.000010       False  \n",
       "4    5.586510  [1, 2, 3]      0.000008       False  \n",
       "5    1.791917  [1, 2, 3]      0.000009       False  \n",
       "6    3.342703  [1, 2, 3]      0.000009       False  \n",
       "7    3.146088  [1, 2, 3]      0.000008       False  \n",
       "8    1.585781  [1, 2, 3]      0.000008       False  \n",
       "9    3.660100  [1, 2, 3]      0.000008       False  \n",
       "10   6.906518  [1, 2, 3]      0.000011       False  \n",
       "11   6.685522  [1, 2, 3]      0.000183       False  \n",
       "12   0.507317  [1, 2, 3]      0.000223       False  \n",
       "13   4.902330  [1, 2, 3]      0.000033       False  \n",
       "14   4.141468  [1, 2, 3]      0.000025       False  \n",
       "15  10.042213  [1, 2, 3]      0.000024       False  \n",
       "16   0.363623  [1, 2, 3]      0.000024       False  \n",
       "17   7.978659  [1, 2, 3]      0.000025       False  \n",
       "18   0.522359  [1, 2, 3]      0.000024       False  \n",
       "19   3.114340  [1, 2, 3]      0.000024       False  \n",
       "20   0.215769  [1, 2, 3]      0.000025       False  \n",
       "21   5.696033  [1, 2, 3]      0.000025       False  "
      ]
     },
     "execution_count": 10,
     "metadata": {},
     "output_type": "execute_result"
    }
   ],
   "source": [
    "# take a couple of steps and examine the results\n",
    "for _ in range(10):\n",
    "    X.step()\n",
    "X.data"
   ]
  },
  {
   "cell_type": "markdown",
   "metadata": {
    "collapsed": false
   },
   "source": [
    "## Plotting\n",
    "Plot the objective results"
   ]
  },
  {
   "cell_type": "code",
   "execution_count": 11,
   "metadata": {
    "collapsed": false,
    "execution": {
     "iopub.execute_input": "2023-06-30T02:21:49.811264Z",
     "iopub.status.busy": "2023-06-30T02:21:49.810886Z",
     "iopub.status.idle": "2023-06-30T02:21:50.467852Z",
     "shell.execute_reply": "2023-06-30T02:21:50.467268Z"
    }
   },
   "outputs": [
    {
     "data": {
      "text/plain": [
       "<Axes: xlabel='y1', ylabel='y2'>"
      ]
     },
     "execution_count": 11,
     "metadata": {},
     "output_type": "execute_result"
    },
    {
     "data": {
      "image/png": "[encoded data removed]",
      "text/plain": [
       "<Figure size 640x480 with 1 Axes>"
      ]
     },
     "metadata": {
      "image/png": {
       "height": 432,
       "width": 567
      }
     },
     "output_type": "display_data"
    }
   ],
   "source": [
    "import matplotlib.pyplot as plt\n",
    "\n",
    "X.data.plot(*X.vocs.objective_names, kind=\"scatter\")"
   ]
  },
  {
   "cell_type": "markdown",
   "metadata": {},
   "source": [
    "## Alternative initialization methods\n",
    "\n",
    "For convenience, if the first (and only) positional argument is present, then Xopt will automatically try to load from JSON, YAML str or files, or as a dict."
   ]
  },
  {
   "cell_type": "code",
   "execution_count": 12,
   "metadata": {
    "execution": {
     "iopub.execute_input": "2023-06-30T02:21:50.471617Z",
     "iopub.status.busy": "2023-06-30T02:21:50.471123Z",
     "iopub.status.idle": "2023-06-30T02:21:50.489450Z",
     "shell.execute_reply": "2023-06-30T02:21:50.488915Z"
    }
   },
   "outputs": [],
   "source": [
    "import yaml\n",
    "import json\n",
    "\n",
    "config  = yaml.safe_load(YAML) \n",
    "# All these methods work\n",
    "\n",
    "X = Xopt(YAML)\n",
    "X = Xopt(config)\n",
    "X = Xopt(json.dumps(config, indent=4))\n"
   ]
  },
  {
   "cell_type": "markdown",
   "metadata": {},
   "source": [
    "## Convenience Methods"
   ]
  },
  {
   "cell_type": "code",
   "execution_count": 13,
   "metadata": {
    "execution": {
     "iopub.execute_input": "2023-06-30T02:21:50.492314Z",
     "iopub.status.busy": "2023-06-30T02:21:50.491965Z",
     "iopub.status.idle": "2023-06-30T02:21:50.496249Z",
     "shell.execute_reply": "2023-06-30T02:21:50.495763Z"
    }
   },
   "outputs": [
    {
     "data": {
      "text/plain": [
       "{'y1': 0.5,\n",
       " 'y2': 0.5,\n",
       " 'c1': -0.6,\n",
       " 'c2': 0.0,\n",
       " 'some_array': array([1, 2, 3]),\n",
       " 'xopt_runtime': 5.209999994804093e-05,\n",
       " 'xopt_error': False}"
      ]
     },
     "execution_count": 13,
     "metadata": {},
     "output_type": "execute_result"
    }
   ],
   "source": [
    "# Call the evaluator's function directly.\n",
    "X.evaluate({'x1': .5, 'x2': 0.5})"
   ]
  },
  {
   "cell_type": "code",
   "execution_count": 14,
   "metadata": {
    "execution": {
     "iopub.execute_input": "2023-06-30T02:21:50.498891Z",
     "iopub.status.busy": "2023-06-30T02:21:50.498551Z",
     "iopub.status.idle": "2023-06-30T02:21:50.502542Z",
     "shell.execute_reply": "2023-06-30T02:21:50.502063Z"
    }
   },
   "outputs": [
    {
     "data": {
      "text/plain": [
       "{'x1': array([1.9687064]), 'x2': array([1.02373858]), 'a': 'dummy_constant'}"
      ]
     },
     "execution_count": 14,
     "metadata": {},
     "output_type": "execute_result"
    }
   ],
   "source": [
    "# Create random inputs according to the vocs\n",
    "X.random_inputs()"
   ]
  },
  {
   "cell_type": "code",
   "execution_count": 15,
   "metadata": {
    "execution": {
     "iopub.execute_input": "2023-06-30T02:21:50.505126Z",
     "iopub.status.busy": "2023-06-30T02:21:50.504789Z",
     "iopub.status.idle": "2023-06-30T02:21:50.509274Z",
     "shell.execute_reply": "2023-06-30T02:21:50.508792Z"
    }
   },
   "outputs": [
    {
     "data": {
      "text/plain": [
       "{'y1': array([0.71841678]),\n",
       " 'y2': array([3.07639588]),\n",
       " 'c1': array([9.06666383]),\n",
       " 'c2': array([6.68552164]),\n",
       " 'some_array': array([1, 2, 3]),\n",
       " 'xopt_runtime': 5.1101000053677126e-05,\n",
       " 'xopt_error': False}"
      ]
     },
     "execution_count": 15,
     "metadata": {},
     "output_type": "execute_result"
    }
   ],
   "source": [
    "# These can be combined:\n",
    "np.random.seed(10)\n",
    "X.evaluate(X.random_inputs())"
   ]
  },
  {
   "cell_type": "code",
   "execution_count": 16,
   "metadata": {
    "execution": {
     "iopub.execute_input": "2023-06-30T02:21:50.511809Z",
     "iopub.status.busy": "2023-06-30T02:21:50.511471Z",
     "iopub.status.idle": "2023-06-30T02:21:50.524102Z",
     "shell.execute_reply": "2023-06-30T02:21:50.523616Z"
    }
   },
   "outputs": [
    {
     "data": {
      "text/html": [
       "<div>\n",
       "<style scoped>\n",
       "    .dataframe tbody tr th:only-of-type {\n",
       "        vertical-align: middle;\n",
       "    }\n",
       "\n",
       "    .dataframe tbody tr th {\n",
       "        vertical-align: top;\n",
       "    }\n",
       "\n",
       "    .dataframe thead th {\n",
       "        text-align: right;\n",
       "    }\n",
       "</style>\n",
       "<table border=\"1\" class=\"dataframe\">\n",
       "  <thead>\n",
       "    <tr style=\"text-align: right;\">\n",
       "      <th></th>\n",
       "      <th>x1</th>\n",
       "      <th>x2</th>\n",
       "      <th>a</th>\n",
       "      <th>y1</th>\n",
       "      <th>y2</th>\n",
       "      <th>c1</th>\n",
       "      <th>c2</th>\n",
       "      <th>some_array</th>\n",
       "      <th>xopt_runtime</th>\n",
       "      <th>xopt_error</th>\n",
       "    </tr>\n",
       "  </thead>\n",
       "  <tbody>\n",
       "    <tr>\n",
       "      <th>1</th>\n",
       "      <td>0.718417</td>\n",
       "      <td>3.076396</td>\n",
       "      <td>dummy_constant</td>\n",
       "      <td>0.718417</td>\n",
       "      <td>3.076396</td>\n",
       "      <td>9.066664</td>\n",
       "      <td>6.685522</td>\n",
       "      <td>[1, 2, 3]</td>\n",
       "      <td>0.00003</td>\n",
       "      <td>False</td>\n",
       "    </tr>\n",
       "  </tbody>\n",
       "</table>\n",
       "</div>"
      ],
      "text/plain": [
       "         x1        x2               a        y1        y2        c1        c2  \\\n",
       "1  0.718417  3.076396  dummy_constant  0.718417  3.076396  9.066664  6.685522   \n",
       "\n",
       "  some_array  xopt_runtime  xopt_error  \n",
       "1  [1, 2, 3]       0.00003       False  "
      ]
     },
     "execution_count": 16,
     "metadata": {},
     "output_type": "execute_result"
    }
   ],
   "source": [
    "# And this is a convenience method for above\n",
    "np.random.seed(10)\n",
    "X.random_evaluate()"
   ]
  },
  {
   "cell_type": "markdown",
   "metadata": {},
   "source": [
    "## Logging\n",
    "\n",
    "Normally Xopt will not issue print statments, and instead issue logging messages. Below will enable these to be seen in the notebook"
   ]
  },
  {
   "cell_type": "code",
   "execution_count": 17,
   "metadata": {
    "execution": {
     "iopub.execute_input": "2023-06-30T02:21:50.526749Z",
     "iopub.status.busy": "2023-06-30T02:21:50.526411Z",
     "iopub.status.idle": "2023-06-30T02:21:50.529195Z",
     "shell.execute_reply": "2023-06-30T02:21:50.528704Z"
    }
   },
   "outputs": [],
   "source": [
    "# Notebook printing output\n",
    "from xopt import output_notebook\n",
    "output_notebook()"
   ]
  },
  {
   "cell_type": "code",
   "execution_count": 18,
   "metadata": {
    "execution": {
     "iopub.execute_input": "2023-06-30T02:21:50.531792Z",
     "iopub.status.busy": "2023-06-30T02:21:50.531455Z",
     "iopub.status.idle": "2023-06-30T02:21:50.537895Z",
     "shell.execute_reply": "2023-06-30T02:21:50.537402Z"
    }
   },
   "outputs": [
    {
     "name": "stdout",
     "output_type": "stream",
     "text": [
      "Running Xopt step\n"
     ]
    }
   ],
   "source": [
    "X.step()"
   ]
  }
 ],
 "metadata": {
  "interpreter": {
   "hash": "72034539424920dfb606fe3b820b3f27dca0cbf1c69938110810ec4641e275b1"
  },
  "kernelspec": {
   "display_name": "Python 3.9.12 ('xopt-dev')",
   "language": "python",
   "name": "python3"
  },
  "language_info": {
   "codemirror_mode": {
    "name": "ipython",
    "version": 3
   },
   "file_extension": ".py",
   "mimetype": "text/x-python",
   "name": "python",
   "nbconvert_exporter": "python",
   "pygments_lexer": "ipython3",
   "version": "3.9.16"
  }
 },
 "nbformat": 4,
 "nbformat_minor": 4
}
