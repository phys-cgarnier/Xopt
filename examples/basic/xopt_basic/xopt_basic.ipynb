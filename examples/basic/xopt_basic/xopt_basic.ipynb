{
 "cells": [
  {
   "cell_type": "markdown",
   "metadata": {},
   "source": [
    "# Xopt basic example\n",
    "\n",
    "Xopt optimization problems can be defined via one of two methods:\n",
    "- a yaml text file (for limiting the amount of python script writing and/or setting up simulation runs)\n",
    "- a simple python script (for those who prefer to use python directly)\n",
    "\n",
    "Here we will demonstrate how both of these techniques can be used to solve a relatively simple  constrained optimization problem.\n",
    "\n",
    "$n=2$ variables:\n",
    "$x_i \\in [0, \\pi], i=1,2$\n",
    "\n",
    "Objective:\n",
    "- $f(x) = \\sum_i x_i$\n",
    "\n",
    "Constraint:\n",
    "- $g(x) = -x_1^2 -x_2^2 + 1 \\le 0$"
   ]
  },
  {
   "cell_type": "markdown",
   "metadata": {
    "collapsed": false
   },
   "source": [
    "## Xopt Components\n",
    "The definition of the Xopt object requires 3 parts, listed below:\n",
    "- The `Evaluator` object, which evaluates input points using the arbitrary function\n",
    "specified by the `function` property.\n",
    "- The `Generator` object, which, when given data that has been evaluated, generates\n",
    "future points to evaluate using the evaluator.\n",
    "- The `VOCS` (variables, objectives, constraints, statics) object, which specifies the\n",
    "input domain, the objectives, constraints and constants passed to the evaluator\n",
    "function.\n"
   ]
  },
  {
   "cell_type": "markdown",
   "source": [
    "## Defining Xopt components using python\n",
    "We first examine how one would create and configure and Xopt optimization run using\n",
    "python. This can also be done via a YAML file (see the next section)."
   ],
   "metadata": {
    "collapsed": false
   }
  },
  {
   "cell_type": "markdown",
   "source": [
    "### Define the objective function and the evaluator\n",
    "Note that the objective function takes in a dict of variable values and returns a dict of objective return values. The keys of the input and output dictionaries must contain the keys we will specify in VOCS (see below)."
   ],
   "metadata": {
    "collapsed": false
   }
  },
  {
   "cell_type": "code",
   "execution_count": 1,
   "outputs": [],
   "source": [
    "from xopt import Evaluator\n",
    "\n",
    "def evaluate_function(inputs: dict) -> dict:\n",
    "    objective_value = inputs[\"x1\"]**2 + inputs[\"x2\"]**2\n",
    "    constraint_value = -inputs[\"x1\"]**2 - inputs[\"x2\"]**2 + 1\n",
    "    return {\"f\": objective_value, \"g\": constraint_value}\n",
    "\n",
    "evaluator = Evaluator(function=evaluate_function)"
   ],
   "metadata": {
    "collapsed": false,
    "ExecuteTime": {
     "end_time": "2023-11-13T20:01:17.186087100Z",
     "start_time": "2023-11-13T20:01:14.827413500Z"
    }
   }
  },
  {
   "cell_type": "markdown",
   "source": [
    "### Define VOCS\n",
    "Here we define the names and ranges of input parameters, the names and settings of\n",
    "objectives, and the names and settings of constraints. Note that the keys here should\n",
    " be referenced in the evaluate function above."
   ],
   "metadata": {
    "collapsed": false
   }
  },
  {
   "cell_type": "code",
   "execution_count": 2,
   "outputs": [],
   "source": [
    "from xopt import VOCS\n",
    "import math\n",
    "\n",
    "vocs = VOCS(\n",
    "    variables = {\n",
    "        \"x1\": [0, math.pi],\n",
    "        \"x2\": [0, math.pi]\n",
    "    },\n",
    "    objectives = {\"f\": \"MINIMIZE\"},\n",
    "    constraints = {\"g\": [\"LESS_THAN\", 0]}\n",
    ")"
   ],
   "metadata": {
    "collapsed": false,
    "ExecuteTime": {
     "end_time": "2023-11-13T20:01:17.201108100Z",
     "start_time": "2023-11-13T20:01:17.188088100Z"
    }
   }
  },
  {
   "cell_type": "markdown",
   "source": [
    "### Define the Generator\n",
    "First lets see which generators are available for use."
   ],
   "metadata": {
    "collapsed": false
   }
  },
  {
   "cell_type": "code",
   "execution_count": 3,
   "outputs": [
    {
     "data": {
      "text/plain": "['random',\n 'mggpo',\n 'neldermead',\n 'upper_confidence_bound',\n 'mobo',\n 'bayesian_exploration',\n 'time_dependent_upper_confidence_bound',\n 'expected_improvement',\n 'multi_fidelity',\n 'cnsga',\n 'extremum_seeking',\n 'rcds']"
     },
     "execution_count": 3,
     "metadata": {},
     "output_type": "execute_result"
    }
   ],
   "source": [
    "from xopt.generators import list_available_generators\n",
    "list_available_generators()"
   ],
   "metadata": {
    "collapsed": false,
    "ExecuteTime": {
     "end_time": "2023-11-13T20:01:18.176954300Z",
     "start_time": "2023-11-13T20:01:17.202618200Z"
    }
   }
  },
  {
   "cell_type": "markdown",
   "source": [
    "Here we will use the simplest generator that is defined by Xopt, random number generation."
   ],
   "metadata": {
    "collapsed": false
   }
  },
  {
   "cell_type": "code",
   "execution_count": 4,
   "outputs": [
    {
     "name": "stdout",
     "output_type": "stream",
     "text": [
      "\n",
      "    Random number generator.\n",
      "    \n"
     ]
    }
   ],
   "source": [
    "from xopt.generators import get_generator \n",
    "# get the docstring for the random generator\n",
    "print(get_generator(\"random\").__doc__)\n",
    "\n",
    "# use the get generator method to get the random number generator\n",
    "generator = get_generator(\"random\")(vocs=vocs)"
   ],
   "metadata": {
    "collapsed": false,
    "ExecuteTime": {
     "end_time": "2023-11-13T20:01:18.193499600Z",
     "start_time": "2023-11-13T20:01:18.178957Z"
    }
   }
  },
  {
   "cell_type": "markdown",
   "source": [
    "###  Combine into Xopt object"
   ],
   "metadata": {
    "collapsed": false
   }
  },
  {
   "cell_type": "code",
   "execution_count": 5,
   "outputs": [],
   "source": [
    "from xopt import Xopt\n",
    "X = Xopt(vocs=vocs, generator=generator, evaluator=evaluator)"
   ],
   "metadata": {
    "collapsed": false,
    "ExecuteTime": {
     "end_time": "2023-11-13T20:01:18.237178Z",
     "start_time": "2023-11-13T20:01:18.195500200Z"
    }
   }
  },
  {
   "cell_type": "markdown",
   "source": [
    "## Defining Xopt object from yaml file\n",
    "Alternatively, it might be more useful to define the Xopt object from a text file or\n",
    "YAML string. We replicate the code above with the YAML file below."
   ],
   "metadata": {
    "collapsed": false
   }
  },
  {
   "cell_type": "code",
   "execution_count": 6,
   "metadata": {
    "collapsed": false,
    "execution": {
     "iopub.execute_input": "2022-07-02T04:16:41.887258Z",
     "iopub.status.busy": "2022-07-02T04:16:41.886966Z",
     "iopub.status.idle": "2022-07-02T04:16:41.889280Z",
     "shell.execute_reply": "2022-07-02T04:16:41.889046Z"
    },
    "ExecuteTime": {
     "end_time": "2023-11-13T20:01:18.241091400Z",
     "start_time": "2023-11-13T20:01:18.209499500Z"
    }
   },
   "outputs": [],
   "source": [
    "# Make a proper input file.\n",
    "YAML = \"\"\"\n",
    "evaluator:\n",
    "    function: __main__.evaluate_function\n",
    "\n",
    "generator:\n",
    "    name: random\n",
    "\n",
    "vocs:\n",
    "    variables:\n",
    "        x1: [0, 3.14159]\n",
    "        x2: [0, 3.14159]\n",
    "    objectives: {f: MINIMIZE}\n",
    "    constraints:\n",
    "        g: [LESS_THAN, 0]\n",
    "\n",
    "\"\"\""
   ]
  },
  {
   "cell_type": "code",
   "execution_count": 7,
   "metadata": {
    "collapsed": false,
    "execution": {
     "iopub.execute_input": "2022-07-02T04:16:41.890795Z",
     "iopub.status.busy": "2022-07-02T04:16:41.890691Z",
     "iopub.status.idle": "2022-07-02T04:16:41.898916Z",
     "shell.execute_reply": "2022-07-02T04:16:41.898677Z"
    },
    "ExecuteTime": {
     "end_time": "2023-11-13T20:01:18.242092100Z",
     "start_time": "2023-11-13T20:01:18.237178Z"
    }
   },
   "outputs": [],
   "source": [
    "# create Xopt object.\n",
    "X_from_yaml = Xopt.from_yaml(YAML)"
   ]
  },
  {
   "cell_type": "markdown",
   "source": [
    "## Introspection\n",
    "Objects in Xopt can be printed to a string or dumped to a text file for easy\n",
    "introspection of attributes and current configuration."
   ],
   "metadata": {
    "collapsed": false
   }
  },
  {
   "cell_type": "code",
   "execution_count": 8,
   "metadata": {
    "execution": {
     "iopub.execute_input": "2022-07-02T04:16:41.900325Z",
     "iopub.status.busy": "2022-07-02T04:16:41.900241Z",
     "iopub.status.idle": "2022-07-02T04:16:41.905569Z",
     "shell.execute_reply": "2022-07-02T04:16:41.905324Z"
    },
    "ExecuteTime": {
     "end_time": "2023-11-13T20:01:18.254091900Z",
     "start_time": "2023-11-13T20:01:18.240090300Z"
    }
   },
   "outputs": [
    {
     "data": {
      "text/plain": "\n            Xopt\n________________________________\nVersion: 2.1.0+3.g57450726.dirty\nData size: 0\nConfig as YAML:\ndump_file: null\nevaluator:\n  function: __main__.evaluate_function\n  function_kwargs: {}\n  max_workers: 1\n  vectorized: false\ngenerator:\n  name: random\n  supports_batch_generation: true\n  supports_multi_objective: true\nmax_evaluations: null\nserialize_inline: false\nserialize_torch: false\nstrict: true\nvocs:\n  constants: {}\n  constraints:\n    g:\n    - LESS_THAN\n    - 0.0\n  objectives:\n    f: MINIMIZE\n  observables: []\n  variables:\n    x1:\n    - 0.0\n    - 3.141592653589793\n    x2:\n    - 0.0\n    - 3.141592653589793\n"
     },
     "execution_count": 8,
     "metadata": {},
     "output_type": "execute_result"
    }
   ],
   "source": [
    "# Convenient representation of the state.\n",
    "X"
   ]
  },
  {
   "cell_type": "markdown",
   "source": [
    "## Evaluating randomly generated or fixed inputs.\n",
    "The main Xopt object has a variety of means for evaluating random or fixed points.\n",
    "This is often used to initialize optimization, but can be used independently of any\n",
    "generator. Results from evaluations are stored in the `data` attribute. Data can also\n",
    " be explictly added to the Xopt object (and by extension the generator attached to\n",
    " the xopt object by calling `X.add_data()`."
   ],
   "metadata": {
    "collapsed": false
   }
  },
  {
   "cell_type": "code",
   "execution_count": 9,
   "metadata": {
    "execution": {
     "iopub.execute_input": "2022-07-02T04:16:41.918454Z",
     "iopub.status.busy": "2022-07-02T04:16:41.918335Z",
     "iopub.status.idle": "2022-07-02T04:16:41.921126Z",
     "shell.execute_reply": "2022-07-02T04:16:41.920869Z"
    },
    "ExecuteTime": {
     "end_time": "2023-11-13T20:01:18.297163800Z",
     "start_time": "2023-11-13T20:01:18.256093200Z"
    }
   },
   "outputs": [
    {
     "data": {
      "text/plain": "         x1        x2          f          g  xopt_runtime  xopt_error\n0  0.452652  2.437029   6.144007  -5.144007      0.000004       False\n1  0.745589  1.582435   3.060004  -2.060004      0.000001       False\n2  2.955110  2.917873  17.246655 -16.246655      0.000001       False\n3  1.342087  0.196558   1.839833  -0.839833      0.000010       False\n4  0.553477  1.294747   1.982707  -0.982707      0.000001       False",
      "text/html": "<div>\n<style scoped>\n    .dataframe tbody tr th:only-of-type {\n        vertical-align: middle;\n    }\n\n    .dataframe tbody tr th {\n        vertical-align: top;\n    }\n\n    .dataframe thead th {\n        text-align: right;\n    }\n</style>\n<table border=\"1\" class=\"dataframe\">\n  <thead>\n    <tr style=\"text-align: right;\">\n      <th></th>\n      <th>x1</th>\n      <th>x2</th>\n      <th>f</th>\n      <th>g</th>\n      <th>xopt_runtime</th>\n      <th>xopt_error</th>\n    </tr>\n  </thead>\n  <tbody>\n    <tr>\n      <th>0</th>\n      <td>0.452652</td>\n      <td>2.437029</td>\n      <td>6.144007</td>\n      <td>-5.144007</td>\n      <td>0.000004</td>\n      <td>False</td>\n    </tr>\n    <tr>\n      <th>1</th>\n      <td>0.745589</td>\n      <td>1.582435</td>\n      <td>3.060004</td>\n      <td>-2.060004</td>\n      <td>0.000001</td>\n      <td>False</td>\n    </tr>\n    <tr>\n      <th>2</th>\n      <td>2.955110</td>\n      <td>2.917873</td>\n      <td>17.246655</td>\n      <td>-16.246655</td>\n      <td>0.000001</td>\n      <td>False</td>\n    </tr>\n    <tr>\n      <th>3</th>\n      <td>1.342087</td>\n      <td>0.196558</td>\n      <td>1.839833</td>\n      <td>-0.839833</td>\n      <td>0.000010</td>\n      <td>False</td>\n    </tr>\n    <tr>\n      <th>4</th>\n      <td>0.553477</td>\n      <td>1.294747</td>\n      <td>1.982707</td>\n      <td>-0.982707</td>\n      <td>0.000001</td>\n      <td>False</td>\n    </tr>\n  </tbody>\n</table>\n</div>"
     },
     "execution_count": 9,
     "metadata": {},
     "output_type": "execute_result"
    }
   ],
   "source": [
    "# randomly evaluate some points and add data to Xopt object\n",
    "X.random_evaluate(5)"
   ]
  },
  {
   "cell_type": "code",
   "execution_count": 10,
   "outputs": [
    {
     "data": {
      "text/plain": "     x1    x2       f       g  xopt_runtime  xopt_error\n0  1.00  0.00  1.0000  0.0000      0.000003       False\n1  0.50  1.75  3.3125 -2.3125      0.000002       False\n2  2.25  0.60  5.4225 -4.4225      0.000001       False",
      "text/html": "<div>\n<style scoped>\n    .dataframe tbody tr th:only-of-type {\n        vertical-align: middle;\n    }\n\n    .dataframe tbody tr th {\n        vertical-align: top;\n    }\n\n    .dataframe thead th {\n        text-align: right;\n    }\n</style>\n<table border=\"1\" class=\"dataframe\">\n  <thead>\n    <tr style=\"text-align: right;\">\n      <th></th>\n      <th>x1</th>\n      <th>x2</th>\n      <th>f</th>\n      <th>g</th>\n      <th>xopt_runtime</th>\n      <th>xopt_error</th>\n    </tr>\n  </thead>\n  <tbody>\n    <tr>\n      <th>0</th>\n      <td>1.00</td>\n      <td>0.00</td>\n      <td>1.0000</td>\n      <td>0.0000</td>\n      <td>0.000003</td>\n      <td>False</td>\n    </tr>\n    <tr>\n      <th>1</th>\n      <td>0.50</td>\n      <td>1.75</td>\n      <td>3.3125</td>\n      <td>-2.3125</td>\n      <td>0.000002</td>\n      <td>False</td>\n    </tr>\n    <tr>\n      <th>2</th>\n      <td>2.25</td>\n      <td>0.60</td>\n      <td>5.4225</td>\n      <td>-4.4225</td>\n      <td>0.000001</td>\n      <td>False</td>\n    </tr>\n  </tbody>\n</table>\n</div>"
     },
     "execution_count": 10,
     "metadata": {},
     "output_type": "execute_result"
    }
   ],
   "source": [
    "# evaluate some points additionally\n",
    "points = {\"x1\": [1.0, 0.5, 2.25],\"x2\":[0,1.75,0.6]}\n",
    "X.evaluate_data(points)"
   ],
   "metadata": {
    "collapsed": false,
    "ExecuteTime": {
     "end_time": "2023-11-13T20:01:18.307170200Z",
     "start_time": "2023-11-13T20:01:18.272138800Z"
    }
   }
  },
  {
   "cell_type": "code",
   "execution_count": 11,
   "outputs": [
    {
     "data": {
      "text/plain": "         x1        x2          f          g  xopt_runtime  xopt_error\n0  0.452652  2.437029   6.144007  -5.144007      0.000004       False\n1  0.745589  1.582435   3.060004  -2.060004      0.000001       False\n2  2.955110  2.917873  17.246655 -16.246655      0.000001       False\n3  1.342087  0.196558   1.839833  -0.839833      0.000010       False\n4  0.553477  1.294747   1.982707  -0.982707      0.000001       False\n5  1.000000  0.000000   1.000000   0.000000      0.000003       False\n6  0.500000  1.750000   3.312500  -2.312500      0.000002       False\n7  2.250000  0.600000   5.422500  -4.422500      0.000001       False",
      "text/html": "<div>\n<style scoped>\n    .dataframe tbody tr th:only-of-type {\n        vertical-align: middle;\n    }\n\n    .dataframe tbody tr th {\n        vertical-align: top;\n    }\n\n    .dataframe thead th {\n        text-align: right;\n    }\n</style>\n<table border=\"1\" class=\"dataframe\">\n  <thead>\n    <tr style=\"text-align: right;\">\n      <th></th>\n      <th>x1</th>\n      <th>x2</th>\n      <th>f</th>\n      <th>g</th>\n      <th>xopt_runtime</th>\n      <th>xopt_error</th>\n    </tr>\n  </thead>\n  <tbody>\n    <tr>\n      <th>0</th>\n      <td>0.452652</td>\n      <td>2.437029</td>\n      <td>6.144007</td>\n      <td>-5.144007</td>\n      <td>0.000004</td>\n      <td>False</td>\n    </tr>\n    <tr>\n      <th>1</th>\n      <td>0.745589</td>\n      <td>1.582435</td>\n      <td>3.060004</td>\n      <td>-2.060004</td>\n      <td>0.000001</td>\n      <td>False</td>\n    </tr>\n    <tr>\n      <th>2</th>\n      <td>2.955110</td>\n      <td>2.917873</td>\n      <td>17.246655</td>\n      <td>-16.246655</td>\n      <td>0.000001</td>\n      <td>False</td>\n    </tr>\n    <tr>\n      <th>3</th>\n      <td>1.342087</td>\n      <td>0.196558</td>\n      <td>1.839833</td>\n      <td>-0.839833</td>\n      <td>0.000010</td>\n      <td>False</td>\n    </tr>\n    <tr>\n      <th>4</th>\n      <td>0.553477</td>\n      <td>1.294747</td>\n      <td>1.982707</td>\n      <td>-0.982707</td>\n      <td>0.000001</td>\n      <td>False</td>\n    </tr>\n    <tr>\n      <th>5</th>\n      <td>1.000000</td>\n      <td>0.000000</td>\n      <td>1.000000</td>\n      <td>0.000000</td>\n      <td>0.000003</td>\n      <td>False</td>\n    </tr>\n    <tr>\n      <th>6</th>\n      <td>0.500000</td>\n      <td>1.750000</td>\n      <td>3.312500</td>\n      <td>-2.312500</td>\n      <td>0.000002</td>\n      <td>False</td>\n    </tr>\n    <tr>\n      <th>7</th>\n      <td>2.250000</td>\n      <td>0.600000</td>\n      <td>5.422500</td>\n      <td>-4.422500</td>\n      <td>0.000001</td>\n      <td>False</td>\n    </tr>\n  </tbody>\n</table>\n</div>"
     },
     "execution_count": 11,
     "metadata": {},
     "output_type": "execute_result"
    }
   ],
   "source": [
    "# examine the data stored in Xopt\n",
    "X.data"
   ],
   "metadata": {
    "collapsed": false,
    "ExecuteTime": {
     "end_time": "2023-11-13T20:01:18.350141100Z",
     "start_time": "2023-11-13T20:01:18.286142300Z"
    }
   }
  },
  {
   "cell_type": "markdown",
   "metadata": {
    "collapsed": false
   },
   "source": [
    "## Optimization\n",
    "Xopt conducts a single iteration of optimization by calling `X.step()`. Inside this\n",
    "function Xopt will generate a point (or set of points) using the generator object,\n",
    "then send the point to be evaluated by the evaluator. Results will be stored in the\n",
    "data attribute."
   ]
  },
  {
   "cell_type": "code",
   "execution_count": 12,
   "metadata": {
    "collapsed": false,
    "execution": {
     "iopub.execute_input": "2022-07-02T04:16:41.925680Z",
     "iopub.status.busy": "2022-07-02T04:16:41.925579Z",
     "iopub.status.idle": "2022-07-02T04:16:41.930411Z",
     "shell.execute_reply": "2022-07-02T04:16:41.930124Z"
    },
    "ExecuteTime": {
     "end_time": "2023-11-13T20:01:18.364141700Z",
     "start_time": "2023-11-13T20:01:18.300144800Z"
    }
   },
   "outputs": [],
   "source": [
    "# Take one step (generate a single point)\n",
    "X.step()"
   ]
  },
  {
   "cell_type": "code",
   "execution_count": 13,
   "metadata": {
    "collapsed": false,
    "execution": {
     "iopub.execute_input": "2022-07-02T04:16:41.931852Z",
     "iopub.status.busy": "2022-07-02T04:16:41.931750Z",
     "iopub.status.idle": "2022-07-02T04:16:41.937439Z",
     "shell.execute_reply": "2022-07-02T04:16:41.937164Z"
    },
    "ExecuteTime": {
     "end_time": "2023-11-13T20:01:18.390141200Z",
     "start_time": "2023-11-13T20:01:18.316140200Z"
    }
   },
   "outputs": [
    {
     "data": {
      "text/plain": "         x1        x2          f          g  xopt_runtime  xopt_error\n0  0.452652  2.437029   6.144007  -5.144007      0.000004       False\n1  0.745589  1.582435   3.060004  -2.060004      0.000001       False\n2  2.955110  2.917873  17.246655 -16.246655      0.000001       False\n3  1.342087  0.196558   1.839833  -0.839833      0.000010       False\n4  0.553477  1.294747   1.982707  -0.982707      0.000001       False\n5  1.000000  0.000000   1.000000   0.000000      0.000003       False\n6  0.500000  1.750000   3.312500  -2.312500      0.000002       False\n7  2.250000  0.600000   5.422500  -4.422500      0.000001       False\n8  2.037479  0.747310   4.709795  -3.709795      0.000020       False",
      "text/html": "<div>\n<style scoped>\n    .dataframe tbody tr th:only-of-type {\n        vertical-align: middle;\n    }\n\n    .dataframe tbody tr th {\n        vertical-align: top;\n    }\n\n    .dataframe thead th {\n        text-align: right;\n    }\n</style>\n<table border=\"1\" class=\"dataframe\">\n  <thead>\n    <tr style=\"text-align: right;\">\n      <th></th>\n      <th>x1</th>\n      <th>x2</th>\n      <th>f</th>\n      <th>g</th>\n      <th>xopt_runtime</th>\n      <th>xopt_error</th>\n    </tr>\n  </thead>\n  <tbody>\n    <tr>\n      <th>0</th>\n      <td>0.452652</td>\n      <td>2.437029</td>\n      <td>6.144007</td>\n      <td>-5.144007</td>\n      <td>0.000004</td>\n      <td>False</td>\n    </tr>\n    <tr>\n      <th>1</th>\n      <td>0.745589</td>\n      <td>1.582435</td>\n      <td>3.060004</td>\n      <td>-2.060004</td>\n      <td>0.000001</td>\n      <td>False</td>\n    </tr>\n    <tr>\n      <th>2</th>\n      <td>2.955110</td>\n      <td>2.917873</td>\n      <td>17.246655</td>\n      <td>-16.246655</td>\n      <td>0.000001</td>\n      <td>False</td>\n    </tr>\n    <tr>\n      <th>3</th>\n      <td>1.342087</td>\n      <td>0.196558</td>\n      <td>1.839833</td>\n      <td>-0.839833</td>\n      <td>0.000010</td>\n      <td>False</td>\n    </tr>\n    <tr>\n      <th>4</th>\n      <td>0.553477</td>\n      <td>1.294747</td>\n      <td>1.982707</td>\n      <td>-0.982707</td>\n      <td>0.000001</td>\n      <td>False</td>\n    </tr>\n    <tr>\n      <th>5</th>\n      <td>1.000000</td>\n      <td>0.000000</td>\n      <td>1.000000</td>\n      <td>0.000000</td>\n      <td>0.000003</td>\n      <td>False</td>\n    </tr>\n    <tr>\n      <th>6</th>\n      <td>0.500000</td>\n      <td>1.750000</td>\n      <td>3.312500</td>\n      <td>-2.312500</td>\n      <td>0.000002</td>\n      <td>False</td>\n    </tr>\n    <tr>\n      <th>7</th>\n      <td>2.250000</td>\n      <td>0.600000</td>\n      <td>5.422500</td>\n      <td>-4.422500</td>\n      <td>0.000001</td>\n      <td>False</td>\n    </tr>\n    <tr>\n      <th>8</th>\n      <td>2.037479</td>\n      <td>0.747310</td>\n      <td>4.709795</td>\n      <td>-3.709795</td>\n      <td>0.000020</td>\n      <td>False</td>\n    </tr>\n  </tbody>\n</table>\n</div>"
     },
     "execution_count": 13,
     "metadata": {},
     "output_type": "execute_result"
    }
   ],
   "source": [
    "# examine the results\n",
    "X.data"
   ]
  },
  {
   "cell_type": "code",
   "execution_count": 14,
   "metadata": {
    "collapsed": false,
    "execution": {
     "iopub.execute_input": "2022-07-02T04:16:41.938929Z",
     "iopub.status.busy": "2022-07-02T04:16:41.938845Z",
     "iopub.status.idle": "2022-07-02T04:16:41.966369Z",
     "shell.execute_reply": "2022-07-02T04:16:41.966065Z"
    },
    "ExecuteTime": {
     "end_time": "2023-11-13T20:01:18.432141400Z",
     "start_time": "2023-11-13T20:01:18.332138700Z"
    }
   },
   "outputs": [
    {
     "data": {
      "text/plain": "          x1        x2          f          g  xopt_runtime  xopt_error\n0   0.452652  2.437029   6.144007  -5.144007      0.000004       False\n1   0.745589  1.582435   3.060004  -2.060004      0.000001       False\n2   2.955110  2.917873  17.246655 -16.246655      0.000001       False\n3   1.342087  0.196558   1.839833  -0.839833      0.000010       False\n4   0.553477  1.294747   1.982707  -0.982707      0.000001       False\n5   1.000000  0.000000   1.000000   0.000000      0.000003       False\n6   0.500000  1.750000   3.312500  -2.312500      0.000002       False\n7   2.250000  0.600000   5.422500  -4.422500      0.000001       False\n8   2.037479  0.747310   4.709795  -3.709795      0.000020       False\n9   2.139956  1.762576   7.686089  -6.686089      0.000015       False\n10  2.666437  0.107368   7.121414  -6.121414      0.000013       False\n11  2.471817  0.699313   6.598916  -5.598916      0.000012       False\n12  2.163665  2.891508  13.042261 -12.042261      0.000012       False\n13  2.583720  0.981197   7.638356  -6.638356      0.000012       False\n14  2.347667  2.643958  12.502051 -11.502051      0.000014       False\n15  2.192651  2.252920   9.883366  -8.883366      0.000013       False\n16  1.273815  0.856981   2.357021  -1.357021      0.000013       False\n17  1.802016  0.813710   3.909387  -2.909387      0.000013       False\n18  3.100603  1.819718  12.925111 -11.925111      0.000014       False",
      "text/html": "<div>\n<style scoped>\n    .dataframe tbody tr th:only-of-type {\n        vertical-align: middle;\n    }\n\n    .dataframe tbody tr th {\n        vertical-align: top;\n    }\n\n    .dataframe thead th {\n        text-align: right;\n    }\n</style>\n<table border=\"1\" class=\"dataframe\">\n  <thead>\n    <tr style=\"text-align: right;\">\n      <th></th>\n      <th>x1</th>\n      <th>x2</th>\n      <th>f</th>\n      <th>g</th>\n      <th>xopt_runtime</th>\n      <th>xopt_error</th>\n    </tr>\n  </thead>\n  <tbody>\n    <tr>\n      <th>0</th>\n      <td>0.452652</td>\n      <td>2.437029</td>\n      <td>6.144007</td>\n      <td>-5.144007</td>\n      <td>0.000004</td>\n      <td>False</td>\n    </tr>\n    <tr>\n      <th>1</th>\n      <td>0.745589</td>\n      <td>1.582435</td>\n      <td>3.060004</td>\n      <td>-2.060004</td>\n      <td>0.000001</td>\n      <td>False</td>\n    </tr>\n    <tr>\n      <th>2</th>\n      <td>2.955110</td>\n      <td>2.917873</td>\n      <td>17.246655</td>\n      <td>-16.246655</td>\n      <td>0.000001</td>\n      <td>False</td>\n    </tr>\n    <tr>\n      <th>3</th>\n      <td>1.342087</td>\n      <td>0.196558</td>\n      <td>1.839833</td>\n      <td>-0.839833</td>\n      <td>0.000010</td>\n      <td>False</td>\n    </tr>\n    <tr>\n      <th>4</th>\n      <td>0.553477</td>\n      <td>1.294747</td>\n      <td>1.982707</td>\n      <td>-0.982707</td>\n      <td>0.000001</td>\n      <td>False</td>\n    </tr>\n    <tr>\n      <th>5</th>\n      <td>1.000000</td>\n      <td>0.000000</td>\n      <td>1.000000</td>\n      <td>0.000000</td>\n      <td>0.000003</td>\n      <td>False</td>\n    </tr>\n    <tr>\n      <th>6</th>\n      <td>0.500000</td>\n      <td>1.750000</td>\n      <td>3.312500</td>\n      <td>-2.312500</td>\n      <td>0.000002</td>\n      <td>False</td>\n    </tr>\n    <tr>\n      <th>7</th>\n      <td>2.250000</td>\n      <td>0.600000</td>\n      <td>5.422500</td>\n      <td>-4.422500</td>\n      <td>0.000001</td>\n      <td>False</td>\n    </tr>\n    <tr>\n      <th>8</th>\n      <td>2.037479</td>\n      <td>0.747310</td>\n      <td>4.709795</td>\n      <td>-3.709795</td>\n      <td>0.000020</td>\n      <td>False</td>\n    </tr>\n    <tr>\n      <th>9</th>\n      <td>2.139956</td>\n      <td>1.762576</td>\n      <td>7.686089</td>\n      <td>-6.686089</td>\n      <td>0.000015</td>\n      <td>False</td>\n    </tr>\n    <tr>\n      <th>10</th>\n      <td>2.666437</td>\n      <td>0.107368</td>\n      <td>7.121414</td>\n      <td>-6.121414</td>\n      <td>0.000013</td>\n      <td>False</td>\n    </tr>\n    <tr>\n      <th>11</th>\n      <td>2.471817</td>\n      <td>0.699313</td>\n      <td>6.598916</td>\n      <td>-5.598916</td>\n      <td>0.000012</td>\n      <td>False</td>\n    </tr>\n    <tr>\n      <th>12</th>\n      <td>2.163665</td>\n      <td>2.891508</td>\n      <td>13.042261</td>\n      <td>-12.042261</td>\n      <td>0.000012</td>\n      <td>False</td>\n    </tr>\n    <tr>\n      <th>13</th>\n      <td>2.583720</td>\n      <td>0.981197</td>\n      <td>7.638356</td>\n      <td>-6.638356</td>\n      <td>0.000012</td>\n      <td>False</td>\n    </tr>\n    <tr>\n      <th>14</th>\n      <td>2.347667</td>\n      <td>2.643958</td>\n      <td>12.502051</td>\n      <td>-11.502051</td>\n      <td>0.000014</td>\n      <td>False</td>\n    </tr>\n    <tr>\n      <th>15</th>\n      <td>2.192651</td>\n      <td>2.252920</td>\n      <td>9.883366</td>\n      <td>-8.883366</td>\n      <td>0.000013</td>\n      <td>False</td>\n    </tr>\n    <tr>\n      <th>16</th>\n      <td>1.273815</td>\n      <td>0.856981</td>\n      <td>2.357021</td>\n      <td>-1.357021</td>\n      <td>0.000013</td>\n      <td>False</td>\n    </tr>\n    <tr>\n      <th>17</th>\n      <td>1.802016</td>\n      <td>0.813710</td>\n      <td>3.909387</td>\n      <td>-2.909387</td>\n      <td>0.000013</td>\n      <td>False</td>\n    </tr>\n    <tr>\n      <th>18</th>\n      <td>3.100603</td>\n      <td>1.819718</td>\n      <td>12.925111</td>\n      <td>-11.925111</td>\n      <td>0.000014</td>\n      <td>False</td>\n    </tr>\n  </tbody>\n</table>\n</div>"
     },
     "execution_count": 14,
     "metadata": {},
     "output_type": "execute_result"
    }
   ],
   "source": [
    "# take a couple of steps and examine the results\n",
    "for _ in range(10):\n",
    "    X.step()\n",
    "X.data"
   ]
  },
  {
   "cell_type": "markdown",
   "metadata": {
    "collapsed": false
   },
   "source": [
    "## Visualization\n",
    "Finally, we can visualize the objectives and variables to monitor optimization or\n",
    "visualize the results"
   ]
  },
  {
   "cell_type": "code",
   "execution_count": 15,
   "metadata": {
    "collapsed": false,
    "execution": {
     "iopub.execute_input": "2022-07-02T04:16:41.967929Z",
     "iopub.status.busy": "2022-07-02T04:16:41.967837Z",
     "iopub.status.idle": "2022-07-02T04:16:42.285669Z",
     "shell.execute_reply": "2022-07-02T04:16:42.285372Z"
    },
    "ExecuteTime": {
     "end_time": "2023-11-13T20:01:19.144190400Z",
     "start_time": "2023-11-13T20:01:18.377142200Z"
    }
   },
   "outputs": [
    {
     "data": {
      "text/plain": "<Axes: xlabel='x1', ylabel='x2'>"
     },
     "execution_count": 15,
     "metadata": {},
     "output_type": "execute_result"
    },
    {
     "data": {
      "text/plain": "<Figure size 640x480 with 1 Axes>",
      "image/png": "[encoded data removed]"
     },
     "metadata": {},
     "output_type": "display_data"
    },
    {
     "data": {
      "text/plain": "<Figure size 640x480 with 1 Axes>",
      "image/png": "[encoded data removed]"
     },
     "metadata": {},
     "output_type": "display_data"
    },
    {
     "data": {
      "text/plain": "<Figure size 640x480 with 1 Axes>",
      "image/png": "[encoded data removed]"
     },
     "metadata": {},
     "output_type": "display_data"
    }
   ],
   "source": [
    "import matplotlib.pyplot as plt\n",
    "\n",
    "# view objective values\n",
    "X.data.plot(y=X.vocs.objective_names)\n",
    "\n",
    "# view variables values\n",
    "X.data.plot(*X.vocs.variable_names, kind=\"scatter\")\n",
    "\n",
    "# you can also normalize the variables\n",
    "X.vocs.normalize_inputs(X.data).plot(*X.vocs.variable_names, kind=\"scatter\")"
   ]
  }
 ],
 "metadata": {
  "interpreter": {
   "hash": "72034539424920dfb606fe3b820b3f27dca0cbf1c69938110810ec4641e275b1"
  },
  "kernelspec": {
   "display_name": "Python 3.9.12 ('xopt-dev')",
   "language": "python",
   "name": "python3"
  },
  "language_info": {
   "codemirror_mode": {
    "name": "ipython",
    "version": 3
   },
   "file_extension": ".py",
   "mimetype": "text/x-python",
   "name": "python",
   "nbconvert_exporter": "python",
   "pygments_lexer": "ipython3",
   "version": "3.9.13"
  }
 },
 "nbformat": 4,
 "nbformat_minor": 4
}
