{
 "cells": [
  {
   "cell_type": "markdown",
   "metadata": {},
   "source": [
    "# Xopt basic example\n",
    "\n",
    "Xopt optimization problems can be defined via one of two methods:\n",
    "- a yaml text file (for limiting the amount of python script writing and/or setting up simulation runs)\n",
    "- a simple python script (for those who prefer to use python directly)\n",
    "\n",
    "Here we will demonstrate how both of these techniques can be used to solve a relatively simple  constrained optimization problem.\n",
    "\n",
    "$n=2$ variables:\n",
    "$x_i \\in [0, \\pi], i=1,2$\n",
    "\n",
    "Objective:\n",
    "- $f(x) = \\sum_i x_i$\n",
    "\n",
    "Constraint:\n",
    "- $g(x) = -x_1^2 -x_2^2 + 1 \\le 0$"
   ]
  },
  {
   "cell_type": "markdown",
   "metadata": {
    "collapsed": false
   },
   "source": [
    "## Xopt Components\n",
    "The definition of the Xopt object requires 3 parts, listed below:\n",
    "- The `Evaluator` object, which evaluates input points using the arbitrary function\n",
    "specified by the `function` property.\n",
    "- The `Generator` object, which, when given data that has been evaluated, generates\n",
    "future points to evaluate using the evaluator.\n",
    "- The `VOCS` (variables, objectives, constraints, statics) object, which specifies the\n",
    "input domain, the objectives, constraints and constants passed to the evaluator\n",
    "function.\n"
   ]
  },
  {
   "cell_type": "markdown",
   "metadata": {
    "collapsed": false
   },
   "source": [
    "## Defining Xopt components using python\n",
    "We first examine how one would create and configure and Xopt optimization run using\n",
    "python. This can also be done via a YAML file (see the next section)."
   ]
  },
  {
   "cell_type": "markdown",
   "metadata": {
    "collapsed": false
   },
   "source": [
    "### Define the objective function and the evaluator\n",
    "Note that the objective function takes in a dict of variable values and returns a dict of objective return values. The keys of the input and output dictionaries must contain the keys we will specify in VOCS (see below)."
   ]
  },
  {
   "cell_type": "code",
   "execution_count": 1,
   "metadata": {
    "ExecuteTime": {
     "end_time": "2023-11-13T20:01:17.186087100Z",
     "start_time": "2023-11-13T20:01:14.827413500Z"
    },
    "collapsed": false,
    "execution": {
     "iopub.execute_input": "2024-01-30T19:17:07.661592Z",
     "iopub.status.busy": "2024-01-30T19:17:07.661418Z",
     "iopub.status.idle": "2024-01-30T19:17:09.248931Z",
     "shell.execute_reply": "2024-01-30T19:17:09.248344Z"
    }
   },
   "outputs": [],
   "source": [
    "from xopt import Evaluator\n",
    "\n",
    "def evaluate_function(inputs: dict) -> dict:\n",
    "    objective_value = inputs[\"x1\"]**2 + inputs[\"x2\"]**2\n",
    "    constraint_value = -inputs[\"x1\"]**2 - inputs[\"x2\"]**2 + 1\n",
    "    return {\"f\": objective_value, \"g\": constraint_value}\n",
    "\n",
    "evaluator = Evaluator(function=evaluate_function)"
   ]
  },
  {
   "cell_type": "markdown",
   "metadata": {
    "collapsed": false
   },
   "source": [
    "### Define VOCS\n",
    "Here we define the names and ranges of input parameters, the names and settings of\n",
    "objectives, and the names and settings of constraints. Note that the keys here should\n",
    " be referenced in the evaluate function above."
   ]
  },
  {
   "cell_type": "code",
   "execution_count": 2,
   "metadata": {
    "ExecuteTime": {
     "end_time": "2023-11-13T20:01:17.201108100Z",
     "start_time": "2023-11-13T20:01:17.188088100Z"
    },
    "collapsed": false,
    "execution": {
     "iopub.execute_input": "2024-01-30T19:17:09.251830Z",
     "iopub.status.busy": "2024-01-30T19:17:09.251397Z",
     "iopub.status.idle": "2024-01-30T19:17:09.254917Z",
     "shell.execute_reply": "2024-01-30T19:17:09.254443Z"
    }
   },
   "outputs": [],
   "source": [
    "from xopt import VOCS\n",
    "import math\n",
    "\n",
    "vocs = VOCS(\n",
    "    variables = {\n",
    "        \"x1\": [0, math.pi],\n",
    "        \"x2\": [0, math.pi]\n",
    "    },\n",
    "    objectives = {\"f\": \"MINIMIZE\"},\n",
    "    constraints = {\"g\": [\"LESS_THAN\", 0]}\n",
    ")"
   ]
  },
  {
   "cell_type": "markdown",
   "metadata": {
    "collapsed": false
   },
   "source": [
    "### Define the Generator\n",
    "First lets see which generators are available for use."
   ]
  },
  {
   "cell_type": "code",
   "execution_count": 3,
   "metadata": {
    "ExecuteTime": {
     "end_time": "2023-11-13T20:01:18.176954300Z",
     "start_time": "2023-11-13T20:01:17.202618200Z"
    },
    "collapsed": false,
    "execution": {
     "iopub.execute_input": "2024-01-30T19:17:09.257085Z",
     "iopub.status.busy": "2024-01-30T19:17:09.256907Z",
     "iopub.status.idle": "2024-01-30T19:17:09.973585Z",
     "shell.execute_reply": "2024-01-30T19:17:09.972950Z"
    }
   },
   "outputs": [
    {
     "data": {
      "text/plain": [
       "['random',\n",
       " 'mggpo',\n",
       " 'neldermead',\n",
       " 'latin_hypercube',\n",
       " 'upper_confidence_bound',\n",
       " 'mobo',\n",
       " 'bayesian_exploration',\n",
       " 'time_dependent_upper_confidence_bound',\n",
       " 'expected_improvement',\n",
       " 'multi_fidelity',\n",
       " 'cnsga',\n",
       " 'extremum_seeking',\n",
       " 'rcds']"
      ]
     },
     "execution_count": 3,
     "metadata": {},
     "output_type": "execute_result"
    }
   ],
   "source": [
    "from xopt.generators import list_available_generators\n",
    "list_available_generators()"
   ]
  },
  {
   "cell_type": "markdown",
   "metadata": {
    "collapsed": false
   },
   "source": [
    "Here we will use the simplest generator that is defined by Xopt, random number generation."
   ]
  },
  {
   "cell_type": "code",
   "execution_count": 4,
   "metadata": {
    "ExecuteTime": {
     "end_time": "2023-11-13T20:01:18.193499600Z",
     "start_time": "2023-11-13T20:01:18.178957Z"
    },
    "collapsed": false,
    "execution": {
     "iopub.execute_input": "2024-01-30T19:17:10.003852Z",
     "iopub.status.busy": "2024-01-30T19:17:10.003292Z",
     "iopub.status.idle": "2024-01-30T19:17:10.007006Z",
     "shell.execute_reply": "2024-01-30T19:17:10.006447Z"
    }
   },
   "outputs": [
    {
     "name": "stdout",
     "output_type": "stream",
     "text": [
      "\n",
      "    Random number generator.\n",
      "    \n"
     ]
    }
   ],
   "source": [
    "from xopt.generators import get_generator \n",
    "# get the docstring for the random generator\n",
    "print(get_generator(\"random\").__doc__)\n",
    "\n",
    "# use the get generator method to get the random number generator\n",
    "generator = get_generator(\"random\")(vocs=vocs)"
   ]
  },
  {
   "cell_type": "markdown",
   "metadata": {
    "collapsed": false
   },
   "source": [
    "###  Combine into Xopt object"
   ]
  },
  {
   "cell_type": "code",
   "execution_count": 5,
   "metadata": {
    "ExecuteTime": {
     "end_time": "2023-11-13T20:01:18.237178Z",
     "start_time": "2023-11-13T20:01:18.195500200Z"
    },
    "collapsed": false,
    "execution": {
     "iopub.execute_input": "2024-01-30T19:17:10.009355Z",
     "iopub.status.busy": "2024-01-30T19:17:10.008995Z",
     "iopub.status.idle": "2024-01-30T19:17:10.011855Z",
     "shell.execute_reply": "2024-01-30T19:17:10.011388Z"
    }
   },
   "outputs": [],
   "source": [
    "from xopt import Xopt\n",
    "X = Xopt(vocs=vocs, generator=generator, evaluator=evaluator)"
   ]
  },
  {
   "cell_type": "markdown",
   "metadata": {
    "collapsed": false
   },
   "source": [
    "## Defining Xopt object from yaml file\n",
    "Alternatively, it might be more useful to define the Xopt object from a text file or\n",
    "YAML string. We replicate the code above with the YAML file below."
   ]
  },
  {
   "cell_type": "code",
   "execution_count": 6,
   "metadata": {
    "ExecuteTime": {
     "end_time": "2023-11-13T20:01:18.241091400Z",
     "start_time": "2023-11-13T20:01:18.209499500Z"
    },
    "collapsed": false,
    "execution": {
     "iopub.execute_input": "2024-01-30T19:17:10.013981Z",
     "iopub.status.busy": "2024-01-30T19:17:10.013800Z",
     "iopub.status.idle": "2024-01-30T19:17:10.016748Z",
     "shell.execute_reply": "2024-01-30T19:17:10.016200Z"
    }
   },
   "outputs": [],
   "source": [
    "# Make a proper input file.\n",
    "YAML = \"\"\"\n",
    "evaluator:\n",
    "    function: __main__.evaluate_function\n",
    "\n",
    "generator:\n",
    "    name: random\n",
    "\n",
    "vocs:\n",
    "    variables:\n",
    "        x1: [0, 3.14159]\n",
    "        x2: [0, 3.14159]\n",
    "    objectives: {f: MINIMIZE}\n",
    "    constraints:\n",
    "        g: [LESS_THAN, 0]\n",
    "\n",
    "\"\"\""
   ]
  },
  {
   "cell_type": "code",
   "execution_count": 7,
   "metadata": {
    "ExecuteTime": {
     "end_time": "2023-11-13T20:01:18.242092100Z",
     "start_time": "2023-11-13T20:01:18.237178Z"
    },
    "collapsed": false,
    "execution": {
     "iopub.execute_input": "2024-01-30T19:17:10.018945Z",
     "iopub.status.busy": "2024-01-30T19:17:10.018606Z",
     "iopub.status.idle": "2024-01-30T19:17:10.024124Z",
     "shell.execute_reply": "2024-01-30T19:17:10.023568Z"
    }
   },
   "outputs": [],
   "source": [
    "# create Xopt object.\n",
    "X_from_yaml = Xopt.from_yaml(YAML)"
   ]
  },
  {
   "cell_type": "markdown",
   "metadata": {
    "collapsed": false
   },
   "source": [
    "## Introspection\n",
    "Objects in Xopt can be printed to a string or dumped to a text file for easy\n",
    "introspection of attributes and current configuration."
   ]
  },
  {
   "cell_type": "code",
   "execution_count": 8,
   "metadata": {
    "ExecuteTime": {
     "end_time": "2023-11-13T20:01:18.254091900Z",
     "start_time": "2023-11-13T20:01:18.240090300Z"
    },
    "execution": {
     "iopub.execute_input": "2024-01-30T19:17:10.026452Z",
     "iopub.status.busy": "2024-01-30T19:17:10.026103Z",
     "iopub.status.idle": "2024-01-30T19:17:10.031631Z",
     "shell.execute_reply": "2024-01-30T19:17:10.031083Z"
    }
   },
   "outputs": [
    {
     "data": {
      "text/plain": [
       "\n",
       "            Xopt\n",
       "________________________________\n",
       "Version: 0+untagged.1.gdec6a48\n",
       "Data size: 0\n",
       "Config as YAML:\n",
       "dump_file: null\n",
       "evaluator:\n",
       "  function: __main__.evaluate_function\n",
       "  function_kwargs: {}\n",
       "  max_workers: 1\n",
       "  vectorized: false\n",
       "generator:\n",
       "  name: random\n",
       "  supports_batch_generation: true\n",
       "  supports_multi_objective: true\n",
       "max_evaluations: null\n",
       "serialize_inline: false\n",
       "serialize_torch: false\n",
       "strict: true\n",
       "vocs:\n",
       "  constants: {}\n",
       "  constraints:\n",
       "    g:\n",
       "    - LESS_THAN\n",
       "    - 0.0\n",
       "  objectives:\n",
       "    f: MINIMIZE\n",
       "  observables: []\n",
       "  variables:\n",
       "    x1:\n",
       "    - 0.0\n",
       "    - 3.141592653589793\n",
       "    x2:\n",
       "    - 0.0\n",
       "    - 3.141592653589793\n"
      ]
     },
     "execution_count": 8,
     "metadata": {},
     "output_type": "execute_result"
    }
   ],
   "source": [
    "# Convenient representation of the state.\n",
    "X"
   ]
  },
  {
   "cell_type": "markdown",
   "metadata": {
    "collapsed": false
   },
   "source": [
    "## Evaluating randomly generated or fixed inputs.\n",
    "The main Xopt object has a variety of means for evaluating random or fixed points.\n",
    "This is often used to initialize optimization, but can be used independently of any\n",
    "generator. Results from evaluations are stored in the `data` attribute. Data can also\n",
    " be explictly added to the Xopt object (and by extension the generator attached to\n",
    " the xopt object by calling `X.add_data()`."
   ]
  },
  {
   "cell_type": "code",
   "execution_count": 9,
   "metadata": {
    "ExecuteTime": {
     "end_time": "2023-11-13T20:01:18.297163800Z",
     "start_time": "2023-11-13T20:01:18.256093200Z"
    },
    "execution": {
     "iopub.execute_input": "2024-01-30T19:17:10.033863Z",
     "iopub.status.busy": "2024-01-30T19:17:10.033520Z",
     "iopub.status.idle": "2024-01-30T19:17:10.044951Z",
     "shell.execute_reply": "2024-01-30T19:17:10.044385Z"
    }
   },
   "outputs": [
    {
     "data": {
      "text/html": [
       "<div>\n",
       "<style scoped>\n",
       "    .dataframe tbody tr th:only-of-type {\n",
       "        vertical-align: middle;\n",
       "    }\n",
       "\n",
       "    .dataframe tbody tr th {\n",
       "        vertical-align: top;\n",
       "    }\n",
       "\n",
       "    .dataframe thead th {\n",
       "        text-align: right;\n",
       "    }\n",
       "</style>\n",
       "<table border=\"1\" class=\"dataframe\">\n",
       "  <thead>\n",
       "    <tr style=\"text-align: right;\">\n",
       "      <th></th>\n",
       "      <th>x1</th>\n",
       "      <th>x2</th>\n",
       "      <th>f</th>\n",
       "      <th>g</th>\n",
       "      <th>xopt_runtime</th>\n",
       "      <th>xopt_error</th>\n",
       "    </tr>\n",
       "  </thead>\n",
       "  <tbody>\n",
       "    <tr>\n",
       "      <th>0</th>\n",
       "      <td>1.435173</td>\n",
       "      <td>3.047063</td>\n",
       "      <td>11.344317</td>\n",
       "      <td>-10.344317</td>\n",
       "      <td>3.858000e-06</td>\n",
       "      <td>False</td>\n",
       "    </tr>\n",
       "    <tr>\n",
       "      <th>1</th>\n",
       "      <td>0.709416</td>\n",
       "      <td>0.004345</td>\n",
       "      <td>0.503290</td>\n",
       "      <td>0.496710</td>\n",
       "      <td>1.803000e-06</td>\n",
       "      <td>False</td>\n",
       "    </tr>\n",
       "    <tr>\n",
       "      <th>2</th>\n",
       "      <td>1.421371</td>\n",
       "      <td>1.585600</td>\n",
       "      <td>4.534423</td>\n",
       "      <td>-3.534423</td>\n",
       "      <td>8.210000e-07</td>\n",
       "      <td>False</td>\n",
       "    </tr>\n",
       "    <tr>\n",
       "      <th>3</th>\n",
       "      <td>2.200005</td>\n",
       "      <td>1.454071</td>\n",
       "      <td>6.954343</td>\n",
       "      <td>-5.954343</td>\n",
       "      <td>1.002000e-06</td>\n",
       "      <td>False</td>\n",
       "    </tr>\n",
       "    <tr>\n",
       "      <th>4</th>\n",
       "      <td>0.497444</td>\n",
       "      <td>0.821424</td>\n",
       "      <td>0.922189</td>\n",
       "      <td>0.077811</td>\n",
       "      <td>1.735300e-05</td>\n",
       "      <td>False</td>\n",
       "    </tr>\n",
       "  </tbody>\n",
       "</table>\n",
       "</div>"
      ],
      "text/plain": [
       "         x1        x2          f          g  xopt_runtime  xopt_error\n",
       "0  1.435173  3.047063  11.344317 -10.344317  3.858000e-06       False\n",
       "1  0.709416  0.004345   0.503290   0.496710  1.803000e-06       False\n",
       "2  1.421371  1.585600   4.534423  -3.534423  8.210000e-07       False\n",
       "3  2.200005  1.454071   6.954343  -5.954343  1.002000e-06       False\n",
       "4  0.497444  0.821424   0.922189   0.077811  1.735300e-05       False"
      ]
     },
     "execution_count": 9,
     "metadata": {},
     "output_type": "execute_result"
    }
   ],
   "source": [
    "# randomly evaluate some points and add data to Xopt object\n",
    "X.random_evaluate(5)"
   ]
  },
  {
   "cell_type": "code",
   "execution_count": 10,
   "metadata": {
    "ExecuteTime": {
     "end_time": "2023-11-13T20:01:18.307170200Z",
     "start_time": "2023-11-13T20:01:18.272138800Z"
    },
    "collapsed": false,
    "execution": {
     "iopub.execute_input": "2024-01-30T19:17:10.047148Z",
     "iopub.status.busy": "2024-01-30T19:17:10.046815Z",
     "iopub.status.idle": "2024-01-30T19:17:10.056303Z",
     "shell.execute_reply": "2024-01-30T19:17:10.055753Z"
    }
   },
   "outputs": [
    {
     "data": {
      "text/html": [
       "<div>\n",
       "<style scoped>\n",
       "    .dataframe tbody tr th:only-of-type {\n",
       "        vertical-align: middle;\n",
       "    }\n",
       "\n",
       "    .dataframe tbody tr th {\n",
       "        vertical-align: top;\n",
       "    }\n",
       "\n",
       "    .dataframe thead th {\n",
       "        text-align: right;\n",
       "    }\n",
       "</style>\n",
       "<table border=\"1\" class=\"dataframe\">\n",
       "  <thead>\n",
       "    <tr style=\"text-align: right;\">\n",
       "      <th></th>\n",
       "      <th>x1</th>\n",
       "      <th>x2</th>\n",
       "      <th>f</th>\n",
       "      <th>g</th>\n",
       "      <th>xopt_runtime</th>\n",
       "      <th>xopt_error</th>\n",
       "    </tr>\n",
       "  </thead>\n",
       "  <tbody>\n",
       "    <tr>\n",
       "      <th>0</th>\n",
       "      <td>1.00</td>\n",
       "      <td>0.00</td>\n",
       "      <td>1.0000</td>\n",
       "      <td>0.0000</td>\n",
       "      <td>0.000003</td>\n",
       "      <td>False</td>\n",
       "    </tr>\n",
       "    <tr>\n",
       "      <th>1</th>\n",
       "      <td>0.50</td>\n",
       "      <td>1.75</td>\n",
       "      <td>3.3125</td>\n",
       "      <td>-2.3125</td>\n",
       "      <td>0.000002</td>\n",
       "      <td>False</td>\n",
       "    </tr>\n",
       "    <tr>\n",
       "      <th>2</th>\n",
       "      <td>2.25</td>\n",
       "      <td>0.60</td>\n",
       "      <td>5.4225</td>\n",
       "      <td>-4.4225</td>\n",
       "      <td>0.000001</td>\n",
       "      <td>False</td>\n",
       "    </tr>\n",
       "  </tbody>\n",
       "</table>\n",
       "</div>"
      ],
      "text/plain": [
       "     x1    x2       f       g  xopt_runtime  xopt_error\n",
       "0  1.00  0.00  1.0000  0.0000      0.000003       False\n",
       "1  0.50  1.75  3.3125 -2.3125      0.000002       False\n",
       "2  2.25  0.60  5.4225 -4.4225      0.000001       False"
      ]
     },
     "execution_count": 10,
     "metadata": {},
     "output_type": "execute_result"
    }
   ],
   "source": [
    "# evaluate some points additionally\n",
    "points = {\"x1\": [1.0, 0.5, 2.25],\"x2\":[0,1.75,0.6]}\n",
    "X.evaluate_data(points)"
   ]
  },
  {
   "cell_type": "code",
   "execution_count": 11,
   "metadata": {
    "ExecuteTime": {
     "end_time": "2023-11-13T20:01:18.350141100Z",
     "start_time": "2023-11-13T20:01:18.286142300Z"
    },
    "collapsed": false,
    "execution": {
     "iopub.execute_input": "2024-01-30T19:17:10.058476Z",
     "iopub.status.busy": "2024-01-30T19:17:10.058073Z",
     "iopub.status.idle": "2024-01-30T19:17:10.065310Z",
     "shell.execute_reply": "2024-01-30T19:17:10.064786Z"
    }
   },
   "outputs": [
    {
     "data": {
      "text/html": [
       "<div>\n",
       "<style scoped>\n",
       "    .dataframe tbody tr th:only-of-type {\n",
       "        vertical-align: middle;\n",
       "    }\n",
       "\n",
       "    .dataframe tbody tr th {\n",
       "        vertical-align: top;\n",
       "    }\n",
       "\n",
       "    .dataframe thead th {\n",
       "        text-align: right;\n",
       "    }\n",
       "</style>\n",
       "<table border=\"1\" class=\"dataframe\">\n",
       "  <thead>\n",
       "    <tr style=\"text-align: right;\">\n",
       "      <th></th>\n",
       "      <th>x1</th>\n",
       "      <th>x2</th>\n",
       "      <th>f</th>\n",
       "      <th>g</th>\n",
       "      <th>xopt_runtime</th>\n",
       "      <th>xopt_error</th>\n",
       "    </tr>\n",
       "  </thead>\n",
       "  <tbody>\n",
       "    <tr>\n",
       "      <th>0</th>\n",
       "      <td>1.435173</td>\n",
       "      <td>3.047063</td>\n",
       "      <td>11.344317</td>\n",
       "      <td>-10.344317</td>\n",
       "      <td>3.858000e-06</td>\n",
       "      <td>False</td>\n",
       "    </tr>\n",
       "    <tr>\n",
       "      <th>1</th>\n",
       "      <td>0.709416</td>\n",
       "      <td>0.004345</td>\n",
       "      <td>0.503290</td>\n",
       "      <td>0.496710</td>\n",
       "      <td>1.803000e-06</td>\n",
       "      <td>False</td>\n",
       "    </tr>\n",
       "    <tr>\n",
       "      <th>2</th>\n",
       "      <td>1.421371</td>\n",
       "      <td>1.585600</td>\n",
       "      <td>4.534423</td>\n",
       "      <td>-3.534423</td>\n",
       "      <td>8.210000e-07</td>\n",
       "      <td>False</td>\n",
       "    </tr>\n",
       "    <tr>\n",
       "      <th>3</th>\n",
       "      <td>2.200005</td>\n",
       "      <td>1.454071</td>\n",
       "      <td>6.954343</td>\n",
       "      <td>-5.954343</td>\n",
       "      <td>1.002000e-06</td>\n",
       "      <td>False</td>\n",
       "    </tr>\n",
       "    <tr>\n",
       "      <th>4</th>\n",
       "      <td>0.497444</td>\n",
       "      <td>0.821424</td>\n",
       "      <td>0.922189</td>\n",
       "      <td>0.077811</td>\n",
       "      <td>1.735300e-05</td>\n",
       "      <td>False</td>\n",
       "    </tr>\n",
       "    <tr>\n",
       "      <th>5</th>\n",
       "      <td>1.000000</td>\n",
       "      <td>0.000000</td>\n",
       "      <td>1.000000</td>\n",
       "      <td>0.000000</td>\n",
       "      <td>3.476000e-06</td>\n",
       "      <td>False</td>\n",
       "    </tr>\n",
       "    <tr>\n",
       "      <th>6</th>\n",
       "      <td>0.500000</td>\n",
       "      <td>1.750000</td>\n",
       "      <td>3.312500</td>\n",
       "      <td>-2.312500</td>\n",
       "      <td>1.713000e-06</td>\n",
       "      <td>False</td>\n",
       "    </tr>\n",
       "    <tr>\n",
       "      <th>7</th>\n",
       "      <td>2.250000</td>\n",
       "      <td>0.600000</td>\n",
       "      <td>5.422500</td>\n",
       "      <td>-4.422500</td>\n",
       "      <td>1.202000e-06</td>\n",
       "      <td>False</td>\n",
       "    </tr>\n",
       "  </tbody>\n",
       "</table>\n",
       "</div>"
      ],
      "text/plain": [
       "         x1        x2          f          g  xopt_runtime  xopt_error\n",
       "0  1.435173  3.047063  11.344317 -10.344317  3.858000e-06       False\n",
       "1  0.709416  0.004345   0.503290   0.496710  1.803000e-06       False\n",
       "2  1.421371  1.585600   4.534423  -3.534423  8.210000e-07       False\n",
       "3  2.200005  1.454071   6.954343  -5.954343  1.002000e-06       False\n",
       "4  0.497444  0.821424   0.922189   0.077811  1.735300e-05       False\n",
       "5  1.000000  0.000000   1.000000   0.000000  3.476000e-06       False\n",
       "6  0.500000  1.750000   3.312500  -2.312500  1.713000e-06       False\n",
       "7  2.250000  0.600000   5.422500  -4.422500  1.202000e-06       False"
      ]
     },
     "execution_count": 11,
     "metadata": {},
     "output_type": "execute_result"
    }
   ],
   "source": [
    "# examine the data stored in Xopt\n",
    "X.data"
   ]
  },
  {
   "cell_type": "markdown",
   "metadata": {
    "collapsed": false
   },
   "source": [
    "## Optimization\n",
    "Xopt conducts a single iteration of optimization by calling `X.step()`. Inside this\n",
    "function Xopt will generate a point (or set of points) using the generator object,\n",
    "then send the point to be evaluated by the evaluator. Results will be stored in the\n",
    "data attribute."
   ]
  },
  {
   "cell_type": "code",
   "execution_count": 12,
   "metadata": {
    "ExecuteTime": {
     "end_time": "2023-11-13T20:01:18.364141700Z",
     "start_time": "2023-11-13T20:01:18.300144800Z"
    },
    "collapsed": false,
    "execution": {
     "iopub.execute_input": "2024-01-30T19:17:10.067677Z",
     "iopub.status.busy": "2024-01-30T19:17:10.067246Z",
     "iopub.status.idle": "2024-01-30T19:17:10.072901Z",
     "shell.execute_reply": "2024-01-30T19:17:10.072339Z"
    }
   },
   "outputs": [],
   "source": [
    "# Take one step (generate a single point)\n",
    "X.step()"
   ]
  },
  {
   "cell_type": "code",
   "execution_count": 13,
   "metadata": {
    "ExecuteTime": {
     "end_time": "2023-11-13T20:01:18.390141200Z",
     "start_time": "2023-11-13T20:01:18.316140200Z"
    },
    "collapsed": false,
    "execution": {
     "iopub.execute_input": "2024-01-30T19:17:10.075046Z",
     "iopub.status.busy": "2024-01-30T19:17:10.074711Z",
     "iopub.status.idle": "2024-01-30T19:17:10.081979Z",
     "shell.execute_reply": "2024-01-30T19:17:10.081443Z"
    }
   },
   "outputs": [
    {
     "data": {
      "text/html": [
       "<div>\n",
       "<style scoped>\n",
       "    .dataframe tbody tr th:only-of-type {\n",
       "        vertical-align: middle;\n",
       "    }\n",
       "\n",
       "    .dataframe tbody tr th {\n",
       "        vertical-align: top;\n",
       "    }\n",
       "\n",
       "    .dataframe thead th {\n",
       "        text-align: right;\n",
       "    }\n",
       "</style>\n",
       "<table border=\"1\" class=\"dataframe\">\n",
       "  <thead>\n",
       "    <tr style=\"text-align: right;\">\n",
       "      <th></th>\n",
       "      <th>x1</th>\n",
       "      <th>x2</th>\n",
       "      <th>f</th>\n",
       "      <th>g</th>\n",
       "      <th>xopt_runtime</th>\n",
       "      <th>xopt_error</th>\n",
       "    </tr>\n",
       "  </thead>\n",
       "  <tbody>\n",
       "    <tr>\n",
       "      <th>0</th>\n",
       "      <td>1.435173</td>\n",
       "      <td>3.047063</td>\n",
       "      <td>11.344317</td>\n",
       "      <td>-10.344317</td>\n",
       "      <td>3.858000e-06</td>\n",
       "      <td>False</td>\n",
       "    </tr>\n",
       "    <tr>\n",
       "      <th>1</th>\n",
       "      <td>0.709416</td>\n",
       "      <td>0.004345</td>\n",
       "      <td>0.503290</td>\n",
       "      <td>0.496710</td>\n",
       "      <td>1.803000e-06</td>\n",
       "      <td>False</td>\n",
       "    </tr>\n",
       "    <tr>\n",
       "      <th>2</th>\n",
       "      <td>1.421371</td>\n",
       "      <td>1.585600</td>\n",
       "      <td>4.534423</td>\n",
       "      <td>-3.534423</td>\n",
       "      <td>8.210000e-07</td>\n",
       "      <td>False</td>\n",
       "    </tr>\n",
       "    <tr>\n",
       "      <th>3</th>\n",
       "      <td>2.200005</td>\n",
       "      <td>1.454071</td>\n",
       "      <td>6.954343</td>\n",
       "      <td>-5.954343</td>\n",
       "      <td>1.002000e-06</td>\n",
       "      <td>False</td>\n",
       "    </tr>\n",
       "    <tr>\n",
       "      <th>4</th>\n",
       "      <td>0.497444</td>\n",
       "      <td>0.821424</td>\n",
       "      <td>0.922189</td>\n",
       "      <td>0.077811</td>\n",
       "      <td>1.735300e-05</td>\n",
       "      <td>False</td>\n",
       "    </tr>\n",
       "    <tr>\n",
       "      <th>5</th>\n",
       "      <td>1.000000</td>\n",
       "      <td>0.000000</td>\n",
       "      <td>1.000000</td>\n",
       "      <td>0.000000</td>\n",
       "      <td>3.476000e-06</td>\n",
       "      <td>False</td>\n",
       "    </tr>\n",
       "    <tr>\n",
       "      <th>6</th>\n",
       "      <td>0.500000</td>\n",
       "      <td>1.750000</td>\n",
       "      <td>3.312500</td>\n",
       "      <td>-2.312500</td>\n",
       "      <td>1.713000e-06</td>\n",
       "      <td>False</td>\n",
       "    </tr>\n",
       "    <tr>\n",
       "      <th>7</th>\n",
       "      <td>2.250000</td>\n",
       "      <td>0.600000</td>\n",
       "      <td>5.422500</td>\n",
       "      <td>-4.422500</td>\n",
       "      <td>1.202000e-06</td>\n",
       "      <td>False</td>\n",
       "    </tr>\n",
       "    <tr>\n",
       "      <th>8</th>\n",
       "      <td>0.428523</td>\n",
       "      <td>0.789348</td>\n",
       "      <td>0.806702</td>\n",
       "      <td>0.193298</td>\n",
       "      <td>1.724200e-05</td>\n",
       "      <td>False</td>\n",
       "    </tr>\n",
       "  </tbody>\n",
       "</table>\n",
       "</div>"
      ],
      "text/plain": [
       "         x1        x2          f          g  xopt_runtime  xopt_error\n",
       "0  1.435173  3.047063  11.344317 -10.344317  3.858000e-06       False\n",
       "1  0.709416  0.004345   0.503290   0.496710  1.803000e-06       False\n",
       "2  1.421371  1.585600   4.534423  -3.534423  8.210000e-07       False\n",
       "3  2.200005  1.454071   6.954343  -5.954343  1.002000e-06       False\n",
       "4  0.497444  0.821424   0.922189   0.077811  1.735300e-05       False\n",
       "5  1.000000  0.000000   1.000000   0.000000  3.476000e-06       False\n",
       "6  0.500000  1.750000   3.312500  -2.312500  1.713000e-06       False\n",
       "7  2.250000  0.600000   5.422500  -4.422500  1.202000e-06       False\n",
       "8  0.428523  0.789348   0.806702   0.193298  1.724200e-05       False"
      ]
     },
     "execution_count": 13,
     "metadata": {},
     "output_type": "execute_result"
    }
   ],
   "source": [
    "# examine the results\n",
    "X.data"
   ]
  },
  {
   "cell_type": "code",
   "execution_count": 14,
   "metadata": {
    "ExecuteTime": {
     "end_time": "2023-11-13T20:01:18.432141400Z",
     "start_time": "2023-11-13T20:01:18.332138700Z"
    },
    "collapsed": false,
    "execution": {
     "iopub.execute_input": "2024-01-30T19:17:10.084227Z",
     "iopub.status.busy": "2024-01-30T19:17:10.083890Z",
     "iopub.status.idle": "2024-01-30T19:17:10.118600Z",
     "shell.execute_reply": "2024-01-30T19:17:10.118018Z"
    }
   },
   "outputs": [
    {
     "data": {
      "text/html": [
       "<div>\n",
       "<style scoped>\n",
       "    .dataframe tbody tr th:only-of-type {\n",
       "        vertical-align: middle;\n",
       "    }\n",
       "\n",
       "    .dataframe tbody tr th {\n",
       "        vertical-align: top;\n",
       "    }\n",
       "\n",
       "    .dataframe thead th {\n",
       "        text-align: right;\n",
       "    }\n",
       "</style>\n",
       "<table border=\"1\" class=\"dataframe\">\n",
       "  <thead>\n",
       "    <tr style=\"text-align: right;\">\n",
       "      <th></th>\n",
       "      <th>x1</th>\n",
       "      <th>x2</th>\n",
       "      <th>f</th>\n",
       "      <th>g</th>\n",
       "      <th>xopt_runtime</th>\n",
       "      <th>xopt_error</th>\n",
       "    </tr>\n",
       "  </thead>\n",
       "  <tbody>\n",
       "    <tr>\n",
       "      <th>0</th>\n",
       "      <td>1.435173</td>\n",
       "      <td>3.047063</td>\n",
       "      <td>11.344317</td>\n",
       "      <td>-10.344317</td>\n",
       "      <td>3.858000e-06</td>\n",
       "      <td>False</td>\n",
       "    </tr>\n",
       "    <tr>\n",
       "      <th>1</th>\n",
       "      <td>0.709416</td>\n",
       "      <td>0.004345</td>\n",
       "      <td>0.503290</td>\n",
       "      <td>0.496710</td>\n",
       "      <td>1.803000e-06</td>\n",
       "      <td>False</td>\n",
       "    </tr>\n",
       "    <tr>\n",
       "      <th>2</th>\n",
       "      <td>1.421371</td>\n",
       "      <td>1.585600</td>\n",
       "      <td>4.534423</td>\n",
       "      <td>-3.534423</td>\n",
       "      <td>8.210000e-07</td>\n",
       "      <td>False</td>\n",
       "    </tr>\n",
       "    <tr>\n",
       "      <th>3</th>\n",
       "      <td>2.200005</td>\n",
       "      <td>1.454071</td>\n",
       "      <td>6.954343</td>\n",
       "      <td>-5.954343</td>\n",
       "      <td>1.002000e-06</td>\n",
       "      <td>False</td>\n",
       "    </tr>\n",
       "    <tr>\n",
       "      <th>4</th>\n",
       "      <td>0.497444</td>\n",
       "      <td>0.821424</td>\n",
       "      <td>0.922189</td>\n",
       "      <td>0.077811</td>\n",
       "      <td>1.735300e-05</td>\n",
       "      <td>False</td>\n",
       "    </tr>\n",
       "    <tr>\n",
       "      <th>5</th>\n",
       "      <td>1.000000</td>\n",
       "      <td>0.000000</td>\n",
       "      <td>1.000000</td>\n",
       "      <td>0.000000</td>\n",
       "      <td>3.476000e-06</td>\n",
       "      <td>False</td>\n",
       "    </tr>\n",
       "    <tr>\n",
       "      <th>6</th>\n",
       "      <td>0.500000</td>\n",
       "      <td>1.750000</td>\n",
       "      <td>3.312500</td>\n",
       "      <td>-2.312500</td>\n",
       "      <td>1.713000e-06</td>\n",
       "      <td>False</td>\n",
       "    </tr>\n",
       "    <tr>\n",
       "      <th>7</th>\n",
       "      <td>2.250000</td>\n",
       "      <td>0.600000</td>\n",
       "      <td>5.422500</td>\n",
       "      <td>-4.422500</td>\n",
       "      <td>1.202000e-06</td>\n",
       "      <td>False</td>\n",
       "    </tr>\n",
       "    <tr>\n",
       "      <th>8</th>\n",
       "      <td>0.428523</td>\n",
       "      <td>0.789348</td>\n",
       "      <td>0.806702</td>\n",
       "      <td>0.193298</td>\n",
       "      <td>1.724200e-05</td>\n",
       "      <td>False</td>\n",
       "    </tr>\n",
       "    <tr>\n",
       "      <th>9</th>\n",
       "      <td>1.305643</td>\n",
       "      <td>2.347598</td>\n",
       "      <td>7.215920</td>\n",
       "      <td>-6.215920</td>\n",
       "      <td>1.815400e-05</td>\n",
       "      <td>False</td>\n",
       "    </tr>\n",
       "    <tr>\n",
       "      <th>10</th>\n",
       "      <td>0.902823</td>\n",
       "      <td>1.330061</td>\n",
       "      <td>2.584152</td>\n",
       "      <td>-1.584152</td>\n",
       "      <td>1.484700e-05</td>\n",
       "      <td>False</td>\n",
       "    </tr>\n",
       "    <tr>\n",
       "      <th>11</th>\n",
       "      <td>3.019890</td>\n",
       "      <td>0.628780</td>\n",
       "      <td>9.515100</td>\n",
       "      <td>-8.515100</td>\n",
       "      <td>1.265400e-05</td>\n",
       "      <td>False</td>\n",
       "    </tr>\n",
       "    <tr>\n",
       "      <th>12</th>\n",
       "      <td>0.436927</td>\n",
       "      <td>0.191363</td>\n",
       "      <td>0.227525</td>\n",
       "      <td>0.772475</td>\n",
       "      <td>1.280400e-05</td>\n",
       "      <td>False</td>\n",
       "    </tr>\n",
       "    <tr>\n",
       "      <th>13</th>\n",
       "      <td>0.094905</td>\n",
       "      <td>0.974579</td>\n",
       "      <td>0.958811</td>\n",
       "      <td>0.041189</td>\n",
       "      <td>1.264400e-05</td>\n",
       "      <td>False</td>\n",
       "    </tr>\n",
       "    <tr>\n",
       "      <th>14</th>\n",
       "      <td>2.966192</td>\n",
       "      <td>2.413741</td>\n",
       "      <td>14.624440</td>\n",
       "      <td>-13.624440</td>\n",
       "      <td>1.296400e-05</td>\n",
       "      <td>False</td>\n",
       "    </tr>\n",
       "    <tr>\n",
       "      <th>15</th>\n",
       "      <td>0.003363</td>\n",
       "      <td>2.023511</td>\n",
       "      <td>4.094608</td>\n",
       "      <td>-3.094608</td>\n",
       "      <td>1.333500e-05</td>\n",
       "      <td>False</td>\n",
       "    </tr>\n",
       "    <tr>\n",
       "      <th>16</th>\n",
       "      <td>3.009099</td>\n",
       "      <td>0.398503</td>\n",
       "      <td>9.213484</td>\n",
       "      <td>-8.213484</td>\n",
       "      <td>1.242300e-05</td>\n",
       "      <td>False</td>\n",
       "    </tr>\n",
       "    <tr>\n",
       "      <th>17</th>\n",
       "      <td>1.879167</td>\n",
       "      <td>1.617430</td>\n",
       "      <td>6.147347</td>\n",
       "      <td>-5.147347</td>\n",
       "      <td>1.218300e-05</td>\n",
       "      <td>False</td>\n",
       "    </tr>\n",
       "    <tr>\n",
       "      <th>18</th>\n",
       "      <td>2.836148</td>\n",
       "      <td>0.060824</td>\n",
       "      <td>8.047435</td>\n",
       "      <td>-7.047435</td>\n",
       "      <td>1.251300e-05</td>\n",
       "      <td>False</td>\n",
       "    </tr>\n",
       "  </tbody>\n",
       "</table>\n",
       "</div>"
      ],
      "text/plain": [
       "          x1        x2          f          g  xopt_runtime  xopt_error\n",
       "0   1.435173  3.047063  11.344317 -10.344317  3.858000e-06       False\n",
       "1   0.709416  0.004345   0.503290   0.496710  1.803000e-06       False\n",
       "2   1.421371  1.585600   4.534423  -3.534423  8.210000e-07       False\n",
       "3   2.200005  1.454071   6.954343  -5.954343  1.002000e-06       False\n",
       "4   0.497444  0.821424   0.922189   0.077811  1.735300e-05       False\n",
       "5   1.000000  0.000000   1.000000   0.000000  3.476000e-06       False\n",
       "6   0.500000  1.750000   3.312500  -2.312500  1.713000e-06       False\n",
       "7   2.250000  0.600000   5.422500  -4.422500  1.202000e-06       False\n",
       "8   0.428523  0.789348   0.806702   0.193298  1.724200e-05       False\n",
       "9   1.305643  2.347598   7.215920  -6.215920  1.815400e-05       False\n",
       "10  0.902823  1.330061   2.584152  -1.584152  1.484700e-05       False\n",
       "11  3.019890  0.628780   9.515100  -8.515100  1.265400e-05       False\n",
       "12  0.436927  0.191363   0.227525   0.772475  1.280400e-05       False\n",
       "13  0.094905  0.974579   0.958811   0.041189  1.264400e-05       False\n",
       "14  2.966192  2.413741  14.624440 -13.624440  1.296400e-05       False\n",
       "15  0.003363  2.023511   4.094608  -3.094608  1.333500e-05       False\n",
       "16  3.009099  0.398503   9.213484  -8.213484  1.242300e-05       False\n",
       "17  1.879167  1.617430   6.147347  -5.147347  1.218300e-05       False\n",
       "18  2.836148  0.060824   8.047435  -7.047435  1.251300e-05       False"
      ]
     },
     "execution_count": 14,
     "metadata": {},
     "output_type": "execute_result"
    }
   ],
   "source": [
    "# take a couple of steps and examine the results\n",
    "for _ in range(10):\n",
    "    X.step()\n",
    "X.data"
   ]
  },
  {
   "cell_type": "markdown",
   "metadata": {
    "collapsed": false
   },
   "source": [
    "## Visualization\n",
    "Finally, we can visualize the objectives and variables to monitor optimization or\n",
    "visualize the results"
   ]
  },
  {
   "cell_type": "code",
   "execution_count": 15,
   "metadata": {
    "ExecuteTime": {
     "end_time": "2023-11-13T20:01:19.144190400Z",
     "start_time": "2023-11-13T20:01:18.377142200Z"
    },
    "collapsed": false,
    "execution": {
     "iopub.execute_input": "2024-01-30T19:17:10.120933Z",
     "iopub.status.busy": "2024-01-30T19:17:10.120604Z",
     "iopub.status.idle": "2024-01-30T19:17:10.715036Z",
     "shell.execute_reply": "2024-01-30T19:17:10.714417Z"
    }
   },
   "outputs": [
    {
     "data": {
      "text/plain": [
       "<Axes: xlabel='x1', ylabel='x2'>"
      ]
     },
     "execution_count": 15,
     "metadata": {},
     "output_type": "execute_result"
    },
    {
     "data": {
      "image/png": "[encoded data removed]",
      "text/plain": [
       "<Figure size 640x480 with 1 Axes>"
      ]
     },
     "metadata": {},
     "output_type": "display_data"
    },
    {
     "data": {
      "image/png": "[encoded data removed]",
      "text/plain": [
       "<Figure size 640x480 with 1 Axes>"
      ]
     },
     "metadata": {},
     "output_type": "display_data"
    },
    {
     "data": {
      "image/png": "[encoded data removed]",
      "text/plain": [
       "<Figure size 640x480 with 1 Axes>"
      ]
     },
     "metadata": {},
     "output_type": "display_data"
    }
   ],
   "source": [
    "import matplotlib.pyplot as plt\n",
    "\n",
    "# view objective values\n",
    "X.data.plot(y=X.vocs.objective_names)\n",
    "\n",
    "# view variables values\n",
    "X.data.plot(*X.vocs.variable_names, kind=\"scatter\")\n",
    "\n",
    "# you can also normalize the variables\n",
    "X.vocs.normalize_inputs(X.data).plot(*X.vocs.variable_names, kind=\"scatter\")"
   ]
  }
 ],
 "metadata": {
  "interpreter": {
   "hash": "72034539424920dfb606fe3b820b3f27dca0cbf1c69938110810ec4641e275b1"
  },
  "kernelspec": {
   "display_name": "Python 3.9.12 ('xopt-dev')",
   "language": "python",
   "name": "python3"
  },
  "language_info": {
   "codemirror_mode": {
    "name": "ipython",
    "version": 3
   },
   "file_extension": ".py",
   "mimetype": "text/x-python",
   "name": "python",
   "nbconvert_exporter": "python",
   "pygments_lexer": "ipython3",
   "version": "3.9.18"
  }
 },
 "nbformat": 4,
 "nbformat_minor": 4
}
