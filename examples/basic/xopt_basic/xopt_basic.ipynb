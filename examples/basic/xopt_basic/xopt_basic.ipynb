{
 "cells": [
  {
   "cell_type": "markdown",
   "metadata": {},
   "source": [
    "# Xopt basic example\n",
    "\n",
    "An Xopt problem can be described by a simple YAML file. Here we will demonstrate how this is used to optimize a well-known constrained multi-objective test function, TNK. The TNK function is defined with:\n",
    "\n",
    "$n=2$ variables:\n",
    "$x_i \\in [0, \\pi], i=1,2$\n",
    "\n",
    "Objectives:\n",
    "- $f_i(x) = x_i$\n",
    "\n",
    "Constraints:\n",
    "- $g_1(x) = -x_1^2 -x_2^2 + 1 + 0.1 \\cos\\left(16 \\arctan \\frac{x_1}{x_2}\\right) \\le 0$\n",
    "- $g_2(x) = (x_1 - 1/2)^2 + (x_2-1/2)^2 \\le 0.5$"
   ]
  },
  {
   "cell_type": "code",
   "execution_count": 1,
   "metadata": {
    "execution": {
     "iopub.execute_input": "2023-07-06T19:27:40.034932Z",
     "iopub.status.busy": "2023-07-06T19:27:40.034534Z",
     "iopub.status.idle": "2023-07-06T19:27:41.631590Z",
     "shell.execute_reply": "2023-07-06T19:27:41.630565Z"
    }
   },
   "outputs": [],
   "source": [
    "# Import the class\n",
    "from xopt import Xopt"
   ]
  },
  {
   "cell_type": "code",
   "execution_count": 2,
   "metadata": {
    "execution": {
     "iopub.execute_input": "2023-07-06T19:27:41.635749Z",
     "iopub.status.busy": "2023-07-06T19:27:41.635146Z",
     "iopub.status.idle": "2023-07-06T19:27:41.641647Z",
     "shell.execute_reply": "2023-07-06T19:27:41.640424Z"
    }
   },
   "outputs": [],
   "source": [
    "# Nicer plotting\n",
    "%config InlineBackend.figure_format = 'retina'"
   ]
  },
  {
   "cell_type": "markdown",
   "metadata": {
    "collapsed": false
   },
   "source": [
    "## Xopt Components\n",
    "The definition of the Xopt object requires 4 parts, listed below:\n",
    "- The `Xopt` object itself, which controlls data flow, stores data and governs data\n",
    "loading and saving.\n",
    "- The `Evaluator` object, which evaluates input points using the arbitrary function\n",
    "specified by the `function` property.\n",
    "- The `Generator` object, which, when given data that has been evaluated, generates\n",
    "future points to evaluate using the evaluator.\n",
    "- The `VOCS` (variables, objectives, constraints, statics) object, which specifies the\n",
    "input domain, the objectives, constraints and constants passed to the evaluator\n",
    "function.\n",
    "\n",
    "Through the YAML interface these objects and their options are specified by name. \n",
    "Here we will make one:"
   ]
  },
  {
   "cell_type": "code",
   "execution_count": 3,
   "metadata": {
    "collapsed": false,
    "execution": {
     "iopub.execute_input": "2023-07-06T19:27:41.644880Z",
     "iopub.status.busy": "2023-07-06T19:27:41.644352Z",
     "iopub.status.idle": "2023-07-06T19:27:41.648086Z",
     "shell.execute_reply": "2023-07-06T19:27:41.647419Z"
    }
   },
   "outputs": [],
   "source": [
    "# Make a proper input file.\n",
    "YAML = \"\"\"\n",
    "xopt: {}\n",
    "evaluator:\n",
    "    function: xopt.resources.test_functions.tnk.evaluate_TNK\n",
    "    function_kwargs:\n",
    "        a: 999\n",
    "\n",
    "generator:\n",
    "    name: random\n",
    "\n",
    "vocs:\n",
    "    variables:\n",
    "        x1: [0, 3.14159]\n",
    "        x2: [0, 3.14159]\n",
    "    objectives: {y1: MINIMIZE, y2: MINIMIZE}\n",
    "    constraints:\n",
    "        c1: [GREATER_THAN, 0]\n",
    "        c2: [LESS_THAN, 0.5]\n",
    "    constants: {a: dummy_constant}\n",
    "\n",
    "\"\"\""
   ]
  },
  {
   "cell_type": "code",
   "execution_count": 4,
   "metadata": {
    "collapsed": false,
    "execution": {
     "iopub.execute_input": "2023-07-06T19:27:41.651471Z",
     "iopub.status.busy": "2023-07-06T19:27:41.650949Z",
     "iopub.status.idle": "2023-07-06T19:27:41.668127Z",
     "shell.execute_reply": "2023-07-06T19:27:41.667435Z"
    }
   },
   "outputs": [],
   "source": [
    "# create Xopt object.\n",
    "X = Xopt(YAML)"
   ]
  },
  {
   "cell_type": "code",
   "execution_count": 5,
   "metadata": {
    "execution": {
     "iopub.execute_input": "2023-07-06T19:27:41.671715Z",
     "iopub.status.busy": "2023-07-06T19:27:41.671316Z",
     "iopub.status.idle": "2023-07-06T19:27:41.680679Z",
     "shell.execute_reply": "2023-07-06T19:27:41.679977Z"
    }
   },
   "outputs": [
    {
     "data": {
      "text/plain": [
       "\n",
       "            Xopt\n",
       "________________________________\n",
       "Version: 0+untagged.1.g8acd7be\n",
       "Data size: 0\n",
       "Config as YAML:\n",
       "xopt: {asynch: false, strict: true, dump_file: null, max_evaluations: null}\n",
       "generator: {name: random}\n",
       "evaluator:\n",
       "  function: xopt.resources.test_functions.tnk.evaluate_TNK\n",
       "  max_workers: 1\n",
       "  function_kwargs: {sleep: 0, random_sleep: 0, raise_probability: 0, a: 999}\n",
       "  vectorized: false\n",
       "vocs:\n",
       "  variables:\n",
       "    x1: [0.0, 3.14159]\n",
       "    x2: [0.0, 3.14159]\n",
       "  constraints:\n",
       "    c1: [GREATER_THAN, 0.0]\n",
       "    c2: [LESS_THAN, 0.5]\n",
       "  objectives: {y1: MINIMIZE, y2: MINIMIZE}\n",
       "  constants: {a: dummy_constant}\n",
       "  observables: []\n"
      ]
     },
     "execution_count": 5,
     "metadata": {},
     "output_type": "execute_result"
    }
   ],
   "source": [
    "# Convenient representation of the state.\n",
    "X"
   ]
  },
  {
   "cell_type": "code",
   "execution_count": 6,
   "metadata": {
    "execution": {
     "iopub.execute_input": "2023-07-06T19:27:41.724365Z",
     "iopub.status.busy": "2023-07-06T19:27:41.723649Z",
     "iopub.status.idle": "2023-07-06T19:27:41.744368Z",
     "shell.execute_reply": "2023-07-06T19:27:41.743772Z"
    }
   },
   "outputs": [
    {
     "data": {
      "text/html": [
       "<div>\n",
       "<style scoped>\n",
       "    .dataframe tbody tr th:only-of-type {\n",
       "        vertical-align: middle;\n",
       "    }\n",
       "\n",
       "    .dataframe tbody tr th {\n",
       "        vertical-align: top;\n",
       "    }\n",
       "\n",
       "    .dataframe thead th {\n",
       "        text-align: right;\n",
       "    }\n",
       "</style>\n",
       "<table border=\"1\" class=\"dataframe\">\n",
       "  <thead>\n",
       "    <tr style=\"text-align: right;\">\n",
       "      <th></th>\n",
       "      <th>x1</th>\n",
       "      <th>x2</th>\n",
       "      <th>a</th>\n",
       "      <th>y1</th>\n",
       "      <th>y2</th>\n",
       "      <th>c1</th>\n",
       "      <th>c2</th>\n",
       "      <th>some_array</th>\n",
       "      <th>xopt_runtime</th>\n",
       "      <th>xopt_error</th>\n",
       "    </tr>\n",
       "  </thead>\n",
       "  <tbody>\n",
       "    <tr>\n",
       "      <th>1</th>\n",
       "      <td>1.647544</td>\n",
       "      <td>1.535771</td>\n",
       "      <td>dummy_constant</td>\n",
       "      <td>1.647544</td>\n",
       "      <td>1.535771</td>\n",
       "      <td>3.988351</td>\n",
       "      <td>2.389678</td>\n",
       "      <td>[1, 2, 3]</td>\n",
       "      <td>0.000077</td>\n",
       "      <td>False</td>\n",
       "    </tr>\n",
       "    <tr>\n",
       "      <th>2</th>\n",
       "      <td>0.472483</td>\n",
       "      <td>0.578215</td>\n",
       "      <td>dummy_constant</td>\n",
       "      <td>0.472483</td>\n",
       "      <td>0.578215</td>\n",
       "      <td>-0.439038</td>\n",
       "      <td>0.006875</td>\n",
       "      <td>[1, 2, 3]</td>\n",
       "      <td>0.000012</td>\n",
       "      <td>False</td>\n",
       "    </tr>\n",
       "    <tr>\n",
       "      <th>3</th>\n",
       "      <td>1.806501</td>\n",
       "      <td>1.323739</td>\n",
       "      <td>dummy_constant</td>\n",
       "      <td>1.806501</td>\n",
       "      <td>1.323739</td>\n",
       "      <td>4.092648</td>\n",
       "      <td>2.385492</td>\n",
       "      <td>[1, 2, 3]</td>\n",
       "      <td>0.000009</td>\n",
       "      <td>False</td>\n",
       "    </tr>\n",
       "    <tr>\n",
       "      <th>4</th>\n",
       "      <td>0.128255</td>\n",
       "      <td>2.207552</td>\n",
       "      <td>dummy_constant</td>\n",
       "      <td>0.128255</td>\n",
       "      <td>2.207552</td>\n",
       "      <td>3.829833</td>\n",
       "      <td>3.053928</td>\n",
       "      <td>[1, 2, 3]</td>\n",
       "      <td>0.000009</td>\n",
       "      <td>False</td>\n",
       "    </tr>\n",
       "    <tr>\n",
       "      <th>5</th>\n",
       "      <td>2.210011</td>\n",
       "      <td>2.260457</td>\n",
       "      <td>dummy_constant</td>\n",
       "      <td>2.210011</td>\n",
       "      <td>2.260457</td>\n",
       "      <td>8.895437</td>\n",
       "      <td>6.023344</td>\n",
       "      <td>[1, 2, 3]</td>\n",
       "      <td>0.000012</td>\n",
       "      <td>False</td>\n",
       "    </tr>\n",
       "    <tr>\n",
       "      <th>6</th>\n",
       "      <td>2.205483</td>\n",
       "      <td>0.420107</td>\n",
       "      <td>dummy_constant</td>\n",
       "      <td>2.205483</td>\n",
       "      <td>0.420107</td>\n",
       "      <td>4.139802</td>\n",
       "      <td>2.915055</td>\n",
       "      <td>[1, 2, 3]</td>\n",
       "      <td>0.000008</td>\n",
       "      <td>False</td>\n",
       "    </tr>\n",
       "    <tr>\n",
       "      <th>7</th>\n",
       "      <td>1.770620</td>\n",
       "      <td>1.004715</td>\n",
       "      <td>dummy_constant</td>\n",
       "      <td>1.770620</td>\n",
       "      <td>1.004715</td>\n",
       "      <td>3.183868</td>\n",
       "      <td>1.869212</td>\n",
       "      <td>[1, 2, 3]</td>\n",
       "      <td>0.000008</td>\n",
       "      <td>False</td>\n",
       "    </tr>\n",
       "    <tr>\n",
       "      <th>8</th>\n",
       "      <td>0.466638</td>\n",
       "      <td>1.179477</td>\n",
       "      <td>dummy_constant</td>\n",
       "      <td>0.466638</td>\n",
       "      <td>1.179477</td>\n",
       "      <td>0.512161</td>\n",
       "      <td>0.462802</td>\n",
       "      <td>[1, 2, 3]</td>\n",
       "      <td>0.000009</td>\n",
       "      <td>False</td>\n",
       "    </tr>\n",
       "    <tr>\n",
       "      <th>9</th>\n",
       "      <td>0.475976</td>\n",
       "      <td>2.371852</td>\n",
       "      <td>dummy_constant</td>\n",
       "      <td>0.475976</td>\n",
       "      <td>2.371852</td>\n",
       "      <td>4.952198</td>\n",
       "      <td>3.504407</td>\n",
       "      <td>[1, 2, 3]</td>\n",
       "      <td>0.000008</td>\n",
       "      <td>False</td>\n",
       "    </tr>\n",
       "    <tr>\n",
       "      <th>10</th>\n",
       "      <td>1.661202</td>\n",
       "      <td>1.619012</td>\n",
       "      <td>dummy_constant</td>\n",
       "      <td>1.661202</td>\n",
       "      <td>1.619012</td>\n",
       "      <td>4.282900</td>\n",
       "      <td>2.600576</td>\n",
       "      <td>[1, 2, 3]</td>\n",
       "      <td>0.000008</td>\n",
       "      <td>False</td>\n",
       "    </tr>\n",
       "  </tbody>\n",
       "</table>\n",
       "</div>"
      ],
      "text/plain": [
       "          x1        x2               a        y1        y2        c1  \\\n",
       "1   1.647544  1.535771  dummy_constant  1.647544  1.535771  3.988351   \n",
       "2   0.472483  0.578215  dummy_constant  0.472483  0.578215 -0.439038   \n",
       "3   1.806501  1.323739  dummy_constant  1.806501  1.323739  4.092648   \n",
       "4   0.128255  2.207552  dummy_constant  0.128255  2.207552  3.829833   \n",
       "5   2.210011  2.260457  dummy_constant  2.210011  2.260457  8.895437   \n",
       "6   2.205483  0.420107  dummy_constant  2.205483  0.420107  4.139802   \n",
       "7   1.770620  1.004715  dummy_constant  1.770620  1.004715  3.183868   \n",
       "8   0.466638  1.179477  dummy_constant  0.466638  1.179477  0.512161   \n",
       "9   0.475976  2.371852  dummy_constant  0.475976  2.371852  4.952198   \n",
       "10  1.661202  1.619012  dummy_constant  1.661202  1.619012  4.282900   \n",
       "\n",
       "          c2 some_array  xopt_runtime  xopt_error  \n",
       "1   2.389678  [1, 2, 3]      0.000077       False  \n",
       "2   0.006875  [1, 2, 3]      0.000012       False  \n",
       "3   2.385492  [1, 2, 3]      0.000009       False  \n",
       "4   3.053928  [1, 2, 3]      0.000009       False  \n",
       "5   6.023344  [1, 2, 3]      0.000012       False  \n",
       "6   2.915055  [1, 2, 3]      0.000008       False  \n",
       "7   1.869212  [1, 2, 3]      0.000008       False  \n",
       "8   0.462802  [1, 2, 3]      0.000009       False  \n",
       "9   3.504407  [1, 2, 3]      0.000008       False  \n",
       "10  2.600576  [1, 2, 3]      0.000008       False  "
      ]
     },
     "execution_count": 6,
     "metadata": {},
     "output_type": "execute_result"
    }
   ],
   "source": [
    "X.random_evaluate(10)"
   ]
  },
  {
   "cell_type": "markdown",
   "metadata": {
    "collapsed": false
   },
   "source": [
    "## Run Random data generation"
   ]
  },
  {
   "cell_type": "code",
   "execution_count": 7,
   "metadata": {
    "execution": {
     "iopub.execute_input": "2023-07-06T19:27:41.747669Z",
     "iopub.status.busy": "2023-07-06T19:27:41.747282Z",
     "iopub.status.idle": "2023-07-06T19:27:41.750551Z",
     "shell.execute_reply": "2023-07-06T19:27:41.750051Z"
    }
   },
   "outputs": [],
   "source": [
    "import numpy as np\n",
    "np.random.seed(10)"
   ]
  },
  {
   "cell_type": "code",
   "execution_count": 8,
   "metadata": {
    "collapsed": false,
    "execution": {
     "iopub.execute_input": "2023-07-06T19:27:41.753331Z",
     "iopub.status.busy": "2023-07-06T19:27:41.752897Z",
     "iopub.status.idle": "2023-07-06T19:27:41.760357Z",
     "shell.execute_reply": "2023-07-06T19:27:41.759662Z"
    }
   },
   "outputs": [],
   "source": [
    "# Take one step (generate a single point)\n",
    "X.step()"
   ]
  },
  {
   "cell_type": "code",
   "execution_count": 9,
   "metadata": {
    "collapsed": false,
    "execution": {
     "iopub.execute_input": "2023-07-06T19:27:41.763557Z",
     "iopub.status.busy": "2023-07-06T19:27:41.763128Z",
     "iopub.status.idle": "2023-07-06T19:27:41.777669Z",
     "shell.execute_reply": "2023-07-06T19:27:41.777013Z"
    }
   },
   "outputs": [
    {
     "data": {
      "text/html": [
       "<div>\n",
       "<style scoped>\n",
       "    .dataframe tbody tr th:only-of-type {\n",
       "        vertical-align: middle;\n",
       "    }\n",
       "\n",
       "    .dataframe tbody tr th {\n",
       "        vertical-align: top;\n",
       "    }\n",
       "\n",
       "    .dataframe thead th {\n",
       "        text-align: right;\n",
       "    }\n",
       "</style>\n",
       "<table border=\"1\" class=\"dataframe\">\n",
       "  <thead>\n",
       "    <tr style=\"text-align: right;\">\n",
       "      <th></th>\n",
       "      <th>x1</th>\n",
       "      <th>x2</th>\n",
       "      <th>a</th>\n",
       "      <th>y1</th>\n",
       "      <th>y2</th>\n",
       "      <th>c1</th>\n",
       "      <th>c2</th>\n",
       "      <th>some_array</th>\n",
       "      <th>xopt_runtime</th>\n",
       "      <th>xopt_error</th>\n",
       "    </tr>\n",
       "  </thead>\n",
       "  <tbody>\n",
       "    <tr>\n",
       "      <th>1</th>\n",
       "      <td>1.647544</td>\n",
       "      <td>1.535771</td>\n",
       "      <td>dummy_constant</td>\n",
       "      <td>1.647544</td>\n",
       "      <td>1.535771</td>\n",
       "      <td>3.988351</td>\n",
       "      <td>2.389678</td>\n",
       "      <td>[1, 2, 3]</td>\n",
       "      <td>0.000077</td>\n",
       "      <td>False</td>\n",
       "    </tr>\n",
       "    <tr>\n",
       "      <th>2</th>\n",
       "      <td>0.472483</td>\n",
       "      <td>0.578215</td>\n",
       "      <td>dummy_constant</td>\n",
       "      <td>0.472483</td>\n",
       "      <td>0.578215</td>\n",
       "      <td>-0.439038</td>\n",
       "      <td>0.006875</td>\n",
       "      <td>[1, 2, 3]</td>\n",
       "      <td>0.000012</td>\n",
       "      <td>False</td>\n",
       "    </tr>\n",
       "    <tr>\n",
       "      <th>3</th>\n",
       "      <td>1.806501</td>\n",
       "      <td>1.323739</td>\n",
       "      <td>dummy_constant</td>\n",
       "      <td>1.806501</td>\n",
       "      <td>1.323739</td>\n",
       "      <td>4.092648</td>\n",
       "      <td>2.385492</td>\n",
       "      <td>[1, 2, 3]</td>\n",
       "      <td>0.000009</td>\n",
       "      <td>False</td>\n",
       "    </tr>\n",
       "    <tr>\n",
       "      <th>4</th>\n",
       "      <td>0.128255</td>\n",
       "      <td>2.207552</td>\n",
       "      <td>dummy_constant</td>\n",
       "      <td>0.128255</td>\n",
       "      <td>2.207552</td>\n",
       "      <td>3.829833</td>\n",
       "      <td>3.053928</td>\n",
       "      <td>[1, 2, 3]</td>\n",
       "      <td>0.000009</td>\n",
       "      <td>False</td>\n",
       "    </tr>\n",
       "    <tr>\n",
       "      <th>5</th>\n",
       "      <td>2.210011</td>\n",
       "      <td>2.260457</td>\n",
       "      <td>dummy_constant</td>\n",
       "      <td>2.210011</td>\n",
       "      <td>2.260457</td>\n",
       "      <td>8.895437</td>\n",
       "      <td>6.023344</td>\n",
       "      <td>[1, 2, 3]</td>\n",
       "      <td>0.000012</td>\n",
       "      <td>False</td>\n",
       "    </tr>\n",
       "    <tr>\n",
       "      <th>6</th>\n",
       "      <td>2.205483</td>\n",
       "      <td>0.420107</td>\n",
       "      <td>dummy_constant</td>\n",
       "      <td>2.205483</td>\n",
       "      <td>0.420107</td>\n",
       "      <td>4.139802</td>\n",
       "      <td>2.915055</td>\n",
       "      <td>[1, 2, 3]</td>\n",
       "      <td>0.000008</td>\n",
       "      <td>False</td>\n",
       "    </tr>\n",
       "    <tr>\n",
       "      <th>7</th>\n",
       "      <td>1.770620</td>\n",
       "      <td>1.004715</td>\n",
       "      <td>dummy_constant</td>\n",
       "      <td>1.770620</td>\n",
       "      <td>1.004715</td>\n",
       "      <td>3.183868</td>\n",
       "      <td>1.869212</td>\n",
       "      <td>[1, 2, 3]</td>\n",
       "      <td>0.000008</td>\n",
       "      <td>False</td>\n",
       "    </tr>\n",
       "    <tr>\n",
       "      <th>8</th>\n",
       "      <td>0.466638</td>\n",
       "      <td>1.179477</td>\n",
       "      <td>dummy_constant</td>\n",
       "      <td>0.466638</td>\n",
       "      <td>1.179477</td>\n",
       "      <td>0.512161</td>\n",
       "      <td>0.462802</td>\n",
       "      <td>[1, 2, 3]</td>\n",
       "      <td>0.000009</td>\n",
       "      <td>False</td>\n",
       "    </tr>\n",
       "    <tr>\n",
       "      <th>9</th>\n",
       "      <td>0.475976</td>\n",
       "      <td>2.371852</td>\n",
       "      <td>dummy_constant</td>\n",
       "      <td>0.475976</td>\n",
       "      <td>2.371852</td>\n",
       "      <td>4.952198</td>\n",
       "      <td>3.504407</td>\n",
       "      <td>[1, 2, 3]</td>\n",
       "      <td>0.000008</td>\n",
       "      <td>False</td>\n",
       "    </tr>\n",
       "    <tr>\n",
       "      <th>10</th>\n",
       "      <td>1.661202</td>\n",
       "      <td>1.619012</td>\n",
       "      <td>dummy_constant</td>\n",
       "      <td>1.661202</td>\n",
       "      <td>1.619012</td>\n",
       "      <td>4.282900</td>\n",
       "      <td>2.600576</td>\n",
       "      <td>[1, 2, 3]</td>\n",
       "      <td>0.000008</td>\n",
       "      <td>False</td>\n",
       "    </tr>\n",
       "    <tr>\n",
       "      <th>11</th>\n",
       "      <td>0.718417</td>\n",
       "      <td>3.076396</td>\n",
       "      <td>dummy_constant</td>\n",
       "      <td>0.718417</td>\n",
       "      <td>3.076396</td>\n",
       "      <td>9.066664</td>\n",
       "      <td>6.685522</td>\n",
       "      <td>[1, 2, 3]</td>\n",
       "      <td>0.000081</td>\n",
       "      <td>False</td>\n",
       "    </tr>\n",
       "  </tbody>\n",
       "</table>\n",
       "</div>"
      ],
      "text/plain": [
       "          x1        x2               a        y1        y2        c1  \\\n",
       "1   1.647544  1.535771  dummy_constant  1.647544  1.535771  3.988351   \n",
       "2   0.472483  0.578215  dummy_constant  0.472483  0.578215 -0.439038   \n",
       "3   1.806501  1.323739  dummy_constant  1.806501  1.323739  4.092648   \n",
       "4   0.128255  2.207552  dummy_constant  0.128255  2.207552  3.829833   \n",
       "5   2.210011  2.260457  dummy_constant  2.210011  2.260457  8.895437   \n",
       "6   2.205483  0.420107  dummy_constant  2.205483  0.420107  4.139802   \n",
       "7   1.770620  1.004715  dummy_constant  1.770620  1.004715  3.183868   \n",
       "8   0.466638  1.179477  dummy_constant  0.466638  1.179477  0.512161   \n",
       "9   0.475976  2.371852  dummy_constant  0.475976  2.371852  4.952198   \n",
       "10  1.661202  1.619012  dummy_constant  1.661202  1.619012  4.282900   \n",
       "11  0.718417  3.076396  dummy_constant  0.718417  3.076396  9.066664   \n",
       "\n",
       "          c2 some_array  xopt_runtime  xopt_error  \n",
       "1   2.389678  [1, 2, 3]      0.000077       False  \n",
       "2   0.006875  [1, 2, 3]      0.000012       False  \n",
       "3   2.385492  [1, 2, 3]      0.000009       False  \n",
       "4   3.053928  [1, 2, 3]      0.000009       False  \n",
       "5   6.023344  [1, 2, 3]      0.000012       False  \n",
       "6   2.915055  [1, 2, 3]      0.000008       False  \n",
       "7   1.869212  [1, 2, 3]      0.000008       False  \n",
       "8   0.462802  [1, 2, 3]      0.000009       False  \n",
       "9   3.504407  [1, 2, 3]      0.000008       False  \n",
       "10  2.600576  [1, 2, 3]      0.000008       False  \n",
       "11  6.685522  [1, 2, 3]      0.000081       False  "
      ]
     },
     "execution_count": 9,
     "metadata": {},
     "output_type": "execute_result"
    }
   ],
   "source": [
    "# examine the results\n",
    "X.data"
   ]
  },
  {
   "cell_type": "code",
   "execution_count": 10,
   "metadata": {
    "collapsed": false,
    "execution": {
     "iopub.execute_input": "2023-07-06T19:27:41.780900Z",
     "iopub.status.busy": "2023-07-06T19:27:41.780367Z",
     "iopub.status.idle": "2023-07-06T19:27:41.830217Z",
     "shell.execute_reply": "2023-07-06T19:27:41.829439Z"
    }
   },
   "outputs": [
    {
     "data": {
      "text/html": [
       "<div>\n",
       "<style scoped>\n",
       "    .dataframe tbody tr th:only-of-type {\n",
       "        vertical-align: middle;\n",
       "    }\n",
       "\n",
       "    .dataframe tbody tr th {\n",
       "        vertical-align: top;\n",
       "    }\n",
       "\n",
       "    .dataframe thead th {\n",
       "        text-align: right;\n",
       "    }\n",
       "</style>\n",
       "<table border=\"1\" class=\"dataframe\">\n",
       "  <thead>\n",
       "    <tr style=\"text-align: right;\">\n",
       "      <th></th>\n",
       "      <th>x1</th>\n",
       "      <th>x2</th>\n",
       "      <th>a</th>\n",
       "      <th>y1</th>\n",
       "      <th>y2</th>\n",
       "      <th>c1</th>\n",
       "      <th>c2</th>\n",
       "      <th>some_array</th>\n",
       "      <th>xopt_runtime</th>\n",
       "      <th>xopt_error</th>\n",
       "    </tr>\n",
       "  </thead>\n",
       "  <tbody>\n",
       "    <tr>\n",
       "      <th>1</th>\n",
       "      <td>1.647544</td>\n",
       "      <td>1.535771</td>\n",
       "      <td>dummy_constant</td>\n",
       "      <td>1.647544</td>\n",
       "      <td>1.535771</td>\n",
       "      <td>3.988351</td>\n",
       "      <td>2.389678</td>\n",
       "      <td>[1, 2, 3]</td>\n",
       "      <td>0.000077</td>\n",
       "      <td>False</td>\n",
       "    </tr>\n",
       "    <tr>\n",
       "      <th>2</th>\n",
       "      <td>0.472483</td>\n",
       "      <td>0.578215</td>\n",
       "      <td>dummy_constant</td>\n",
       "      <td>0.472483</td>\n",
       "      <td>0.578215</td>\n",
       "      <td>-0.439038</td>\n",
       "      <td>0.006875</td>\n",
       "      <td>[1, 2, 3]</td>\n",
       "      <td>0.000012</td>\n",
       "      <td>False</td>\n",
       "    </tr>\n",
       "    <tr>\n",
       "      <th>3</th>\n",
       "      <td>1.806501</td>\n",
       "      <td>1.323739</td>\n",
       "      <td>dummy_constant</td>\n",
       "      <td>1.806501</td>\n",
       "      <td>1.323739</td>\n",
       "      <td>4.092648</td>\n",
       "      <td>2.385492</td>\n",
       "      <td>[1, 2, 3]</td>\n",
       "      <td>0.000009</td>\n",
       "      <td>False</td>\n",
       "    </tr>\n",
       "    <tr>\n",
       "      <th>4</th>\n",
       "      <td>0.128255</td>\n",
       "      <td>2.207552</td>\n",
       "      <td>dummy_constant</td>\n",
       "      <td>0.128255</td>\n",
       "      <td>2.207552</td>\n",
       "      <td>3.829833</td>\n",
       "      <td>3.053928</td>\n",
       "      <td>[1, 2, 3]</td>\n",
       "      <td>0.000009</td>\n",
       "      <td>False</td>\n",
       "    </tr>\n",
       "    <tr>\n",
       "      <th>5</th>\n",
       "      <td>2.210011</td>\n",
       "      <td>2.260457</td>\n",
       "      <td>dummy_constant</td>\n",
       "      <td>2.210011</td>\n",
       "      <td>2.260457</td>\n",
       "      <td>8.895437</td>\n",
       "      <td>6.023344</td>\n",
       "      <td>[1, 2, 3]</td>\n",
       "      <td>0.000012</td>\n",
       "      <td>False</td>\n",
       "    </tr>\n",
       "    <tr>\n",
       "      <th>6</th>\n",
       "      <td>2.205483</td>\n",
       "      <td>0.420107</td>\n",
       "      <td>dummy_constant</td>\n",
       "      <td>2.205483</td>\n",
       "      <td>0.420107</td>\n",
       "      <td>4.139802</td>\n",
       "      <td>2.915055</td>\n",
       "      <td>[1, 2, 3]</td>\n",
       "      <td>0.000008</td>\n",
       "      <td>False</td>\n",
       "    </tr>\n",
       "    <tr>\n",
       "      <th>7</th>\n",
       "      <td>1.770620</td>\n",
       "      <td>1.004715</td>\n",
       "      <td>dummy_constant</td>\n",
       "      <td>1.770620</td>\n",
       "      <td>1.004715</td>\n",
       "      <td>3.183868</td>\n",
       "      <td>1.869212</td>\n",
       "      <td>[1, 2, 3]</td>\n",
       "      <td>0.000008</td>\n",
       "      <td>False</td>\n",
       "    </tr>\n",
       "    <tr>\n",
       "      <th>8</th>\n",
       "      <td>0.466638</td>\n",
       "      <td>1.179477</td>\n",
       "      <td>dummy_constant</td>\n",
       "      <td>0.466638</td>\n",
       "      <td>1.179477</td>\n",
       "      <td>0.512161</td>\n",
       "      <td>0.462802</td>\n",
       "      <td>[1, 2, 3]</td>\n",
       "      <td>0.000009</td>\n",
       "      <td>False</td>\n",
       "    </tr>\n",
       "    <tr>\n",
       "      <th>9</th>\n",
       "      <td>0.475976</td>\n",
       "      <td>2.371852</td>\n",
       "      <td>dummy_constant</td>\n",
       "      <td>0.475976</td>\n",
       "      <td>2.371852</td>\n",
       "      <td>4.952198</td>\n",
       "      <td>3.504407</td>\n",
       "      <td>[1, 2, 3]</td>\n",
       "      <td>0.000008</td>\n",
       "      <td>False</td>\n",
       "    </tr>\n",
       "    <tr>\n",
       "      <th>10</th>\n",
       "      <td>1.661202</td>\n",
       "      <td>1.619012</td>\n",
       "      <td>dummy_constant</td>\n",
       "      <td>1.661202</td>\n",
       "      <td>1.619012</td>\n",
       "      <td>4.282900</td>\n",
       "      <td>2.600576</td>\n",
       "      <td>[1, 2, 3]</td>\n",
       "      <td>0.000008</td>\n",
       "      <td>False</td>\n",
       "    </tr>\n",
       "    <tr>\n",
       "      <th>11</th>\n",
       "      <td>0.718417</td>\n",
       "      <td>3.076396</td>\n",
       "      <td>dummy_constant</td>\n",
       "      <td>0.718417</td>\n",
       "      <td>3.076396</td>\n",
       "      <td>9.066664</td>\n",
       "      <td>6.685522</td>\n",
       "      <td>[1, 2, 3]</td>\n",
       "      <td>0.000081</td>\n",
       "      <td>False</td>\n",
       "    </tr>\n",
       "    <tr>\n",
       "      <th>12</th>\n",
       "      <td>1.150927</td>\n",
       "      <td>0.789155</td>\n",
       "      <td>dummy_constant</td>\n",
       "      <td>1.150927</td>\n",
       "      <td>0.789155</td>\n",
       "      <td>1.045563</td>\n",
       "      <td>0.507317</td>\n",
       "      <td>[1, 2, 3]</td>\n",
       "      <td>0.000042</td>\n",
       "      <td>False</td>\n",
       "    </tr>\n",
       "    <tr>\n",
       "      <th>13</th>\n",
       "      <td>1.575485</td>\n",
       "      <td>2.435371</td>\n",
       "      <td>dummy_constant</td>\n",
       "      <td>1.575485</td>\n",
       "      <td>2.435371</td>\n",
       "      <td>7.510380</td>\n",
       "      <td>4.902330</td>\n",
       "      <td>[1, 2, 3]</td>\n",
       "      <td>0.000038</td>\n",
       "      <td>False</td>\n",
       "    </tr>\n",
       "    <tr>\n",
       "      <th>14</th>\n",
       "      <td>2.519358</td>\n",
       "      <td>0.752314</td>\n",
       "      <td>dummy_constant</td>\n",
       "      <td>2.519358</td>\n",
       "      <td>0.752314</td>\n",
       "      <td>5.920078</td>\n",
       "      <td>4.141468</td>\n",
       "      <td>[1, 2, 3]</td>\n",
       "      <td>0.000036</td>\n",
       "      <td>False</td>\n",
       "    </tr>\n",
       "    <tr>\n",
       "      <th>15</th>\n",
       "      <td>2.610313</td>\n",
       "      <td>2.864063</td>\n",
       "      <td>dummy_constant</td>\n",
       "      <td>2.610313</td>\n",
       "      <td>2.864063</td>\n",
       "      <td>13.942816</td>\n",
       "      <td>10.042213</td>\n",
       "      <td>[1, 2, 3]</td>\n",
       "      <td>0.000029</td>\n",
       "      <td>False</td>\n",
       "    </tr>\n",
       "    <tr>\n",
       "      <th>16</th>\n",
       "      <td>0.988470</td>\n",
       "      <td>0.146419</td>\n",
       "      <td>dummy_constant</td>\n",
       "      <td>0.988470</td>\n",
       "      <td>0.146419</td>\n",
       "      <td>0.068991</td>\n",
       "      <td>0.363623</td>\n",
       "      <td>[1, 2, 3]</td>\n",
       "      <td>0.000026</td>\n",
       "      <td>False</td>\n",
       "    </tr>\n",
       "    <tr>\n",
       "      <th>17</th>\n",
       "      <td>3.129186</td>\n",
       "      <td>1.532492</td>\n",
       "      <td>dummy_constant</td>\n",
       "      <td>3.129186</td>\n",
       "      <td>1.532492</td>\n",
       "      <td>11.086588</td>\n",
       "      <td>7.978659</td>\n",
       "      <td>[1, 2, 3]</td>\n",
       "      <td>0.000025</td>\n",
       "      <td>False</td>\n",
       "    </tr>\n",
       "    <tr>\n",
       "      <th>18</th>\n",
       "      <td>0.588668</td>\n",
       "      <td>1.217284</td>\n",
       "      <td>dummy_constant</td>\n",
       "      <td>0.588668</td>\n",
       "      <td>1.217284</td>\n",
       "      <td>0.768029</td>\n",
       "      <td>0.522359</td>\n",
       "      <td>[1, 2, 3]</td>\n",
       "      <td>0.000025</td>\n",
       "      <td>False</td>\n",
       "    </tr>\n",
       "    <tr>\n",
       "      <th>19</th>\n",
       "      <td>0.874131</td>\n",
       "      <td>2.224635</td>\n",
       "      <td>dummy_constant</td>\n",
       "      <td>0.874131</td>\n",
       "      <td>2.224635</td>\n",
       "      <td>4.617362</td>\n",
       "      <td>3.114340</td>\n",
       "      <td>[1, 2, 3]</td>\n",
       "      <td>0.000026</td>\n",
       "      <td>False</td>\n",
       "    </tr>\n",
       "    <tr>\n",
       "      <th>20</th>\n",
       "      <td>0.258320</td>\n",
       "      <td>0.896686</td>\n",
       "      <td>dummy_constant</td>\n",
       "      <td>0.258320</td>\n",
       "      <td>0.896686</td>\n",
       "      <td>-0.106956</td>\n",
       "      <td>0.215769</td>\n",
       "      <td>[1, 2, 3]</td>\n",
       "      <td>0.000025</td>\n",
       "      <td>False</td>\n",
       "    </tr>\n",
       "    <tr>\n",
       "      <th>21</th>\n",
       "      <td>1.437138</td>\n",
       "      <td>2.694950</td>\n",
       "      <td>dummy_constant</td>\n",
       "      <td>1.437138</td>\n",
       "      <td>2.694950</td>\n",
       "      <td>8.326577</td>\n",
       "      <td>5.696033</td>\n",
       "      <td>[1, 2, 3]</td>\n",
       "      <td>0.000025</td>\n",
       "      <td>False</td>\n",
       "    </tr>\n",
       "  </tbody>\n",
       "</table>\n",
       "</div>"
      ],
      "text/plain": [
       "          x1        x2               a        y1        y2         c1  \\\n",
       "1   1.647544  1.535771  dummy_constant  1.647544  1.535771   3.988351   \n",
       "2   0.472483  0.578215  dummy_constant  0.472483  0.578215  -0.439038   \n",
       "3   1.806501  1.323739  dummy_constant  1.806501  1.323739   4.092648   \n",
       "4   0.128255  2.207552  dummy_constant  0.128255  2.207552   3.829833   \n",
       "5   2.210011  2.260457  dummy_constant  2.210011  2.260457   8.895437   \n",
       "6   2.205483  0.420107  dummy_constant  2.205483  0.420107   4.139802   \n",
       "7   1.770620  1.004715  dummy_constant  1.770620  1.004715   3.183868   \n",
       "8   0.466638  1.179477  dummy_constant  0.466638  1.179477   0.512161   \n",
       "9   0.475976  2.371852  dummy_constant  0.475976  2.371852   4.952198   \n",
       "10  1.661202  1.619012  dummy_constant  1.661202  1.619012   4.282900   \n",
       "11  0.718417  3.076396  dummy_constant  0.718417  3.076396   9.066664   \n",
       "12  1.150927  0.789155  dummy_constant  1.150927  0.789155   1.045563   \n",
       "13  1.575485  2.435371  dummy_constant  1.575485  2.435371   7.510380   \n",
       "14  2.519358  0.752314  dummy_constant  2.519358  0.752314   5.920078   \n",
       "15  2.610313  2.864063  dummy_constant  2.610313  2.864063  13.942816   \n",
       "16  0.988470  0.146419  dummy_constant  0.988470  0.146419   0.068991   \n",
       "17  3.129186  1.532492  dummy_constant  3.129186  1.532492  11.086588   \n",
       "18  0.588668  1.217284  dummy_constant  0.588668  1.217284   0.768029   \n",
       "19  0.874131  2.224635  dummy_constant  0.874131  2.224635   4.617362   \n",
       "20  0.258320  0.896686  dummy_constant  0.258320  0.896686  -0.106956   \n",
       "21  1.437138  2.694950  dummy_constant  1.437138  2.694950   8.326577   \n",
       "\n",
       "           c2 some_array  xopt_runtime  xopt_error  \n",
       "1    2.389678  [1, 2, 3]      0.000077       False  \n",
       "2    0.006875  [1, 2, 3]      0.000012       False  \n",
       "3    2.385492  [1, 2, 3]      0.000009       False  \n",
       "4    3.053928  [1, 2, 3]      0.000009       False  \n",
       "5    6.023344  [1, 2, 3]      0.000012       False  \n",
       "6    2.915055  [1, 2, 3]      0.000008       False  \n",
       "7    1.869212  [1, 2, 3]      0.000008       False  \n",
       "8    0.462802  [1, 2, 3]      0.000009       False  \n",
       "9    3.504407  [1, 2, 3]      0.000008       False  \n",
       "10   2.600576  [1, 2, 3]      0.000008       False  \n",
       "11   6.685522  [1, 2, 3]      0.000081       False  \n",
       "12   0.507317  [1, 2, 3]      0.000042       False  \n",
       "13   4.902330  [1, 2, 3]      0.000038       False  \n",
       "14   4.141468  [1, 2, 3]      0.000036       False  \n",
       "15  10.042213  [1, 2, 3]      0.000029       False  \n",
       "16   0.363623  [1, 2, 3]      0.000026       False  \n",
       "17   7.978659  [1, 2, 3]      0.000025       False  \n",
       "18   0.522359  [1, 2, 3]      0.000025       False  \n",
       "19   3.114340  [1, 2, 3]      0.000026       False  \n",
       "20   0.215769  [1, 2, 3]      0.000025       False  \n",
       "21   5.696033  [1, 2, 3]      0.000025       False  "
      ]
     },
     "execution_count": 10,
     "metadata": {},
     "output_type": "execute_result"
    }
   ],
   "source": [
    "# take a couple of steps and examine the results\n",
    "for _ in range(10):\n",
    "    X.step()\n",
    "X.data"
   ]
  },
  {
   "cell_type": "markdown",
   "metadata": {
    "collapsed": false
   },
   "source": [
    "## Plotting\n",
    "Plot the objective results"
   ]
  },
  {
   "cell_type": "code",
   "execution_count": 11,
   "metadata": {
    "collapsed": false,
    "execution": {
     "iopub.execute_input": "2023-07-06T19:27:41.834506Z",
     "iopub.status.busy": "2023-07-06T19:27:41.834061Z",
     "iopub.status.idle": "2023-07-06T19:27:42.504862Z",
     "shell.execute_reply": "2023-07-06T19:27:42.503988Z"
    }
   },
   "outputs": [
    {
     "data": {
      "text/plain": [
       "<Axes: xlabel='y1', ylabel='y2'>"
      ]
     },
     "execution_count": 11,
     "metadata": {},
     "output_type": "execute_result"
    },
    {
     "data": {
      "image/png": "[encoded data removed]",
      "text/plain": [
       "<Figure size 640x480 with 1 Axes>"
      ]
     },
     "metadata": {
      "image/png": {
       "height": 432,
       "width": 567
      }
     },
     "output_type": "display_data"
    }
   ],
   "source": [
    "import matplotlib.pyplot as plt\n",
    "\n",
    "X.data.plot(*X.vocs.objective_names, kind=\"scatter\")"
   ]
  },
  {
   "cell_type": "markdown",
   "metadata": {},
   "source": [
    "## Alternative initialization methods\n",
    "\n",
    "For convenience, if the first (and only) positional argument is present, then Xopt will automatically try to load from JSON, YAML str or files, or as a dict."
   ]
  },
  {
   "cell_type": "code",
   "execution_count": 12,
   "metadata": {
    "execution": {
     "iopub.execute_input": "2023-07-06T19:27:42.508790Z",
     "iopub.status.busy": "2023-07-06T19:27:42.508146Z",
     "iopub.status.idle": "2023-07-06T19:27:42.527756Z",
     "shell.execute_reply": "2023-07-06T19:27:42.527087Z"
    }
   },
   "outputs": [],
   "source": [
    "import yaml\n",
    "import json\n",
    "\n",
    "config  = yaml.safe_load(YAML) \n",
    "# All these methods work\n",
    "\n",
    "X = Xopt(YAML)\n",
    "X = Xopt(config)\n",
    "X = Xopt(json.dumps(config, indent=4))\n"
   ]
  },
  {
   "cell_type": "markdown",
   "metadata": {},
   "source": [
    "## Convenience Methods"
   ]
  },
  {
   "cell_type": "code",
   "execution_count": 13,
   "metadata": {
    "execution": {
     "iopub.execute_input": "2023-07-06T19:27:42.530958Z",
     "iopub.status.busy": "2023-07-06T19:27:42.530507Z",
     "iopub.status.idle": "2023-07-06T19:27:42.535410Z",
     "shell.execute_reply": "2023-07-06T19:27:42.534764Z"
    }
   },
   "outputs": [
    {
     "data": {
      "text/plain": [
       "{'y1': 0.5,\n",
       " 'y2': 0.5,\n",
       " 'c1': -0.6,\n",
       " 'c2': 0.0,\n",
       " 'some_array': array([1, 2, 3]),\n",
       " 'xopt_runtime': 5.9000000078412995e-05,\n",
       " 'xopt_error': False}"
      ]
     },
     "execution_count": 13,
     "metadata": {},
     "output_type": "execute_result"
    }
   ],
   "source": [
    "# Call the evaluator's function directly.\n",
    "X.evaluate({'x1': .5, 'x2': 0.5})"
   ]
  },
  {
   "cell_type": "code",
   "execution_count": 14,
   "metadata": {
    "execution": {
     "iopub.execute_input": "2023-07-06T19:27:42.539136Z",
     "iopub.status.busy": "2023-07-06T19:27:42.538764Z",
     "iopub.status.idle": "2023-07-06T19:27:42.543279Z",
     "shell.execute_reply": "2023-07-06T19:27:42.542789Z"
    }
   },
   "outputs": [
    {
     "data": {
      "text/plain": [
       "{'x1': array([1.9687064]), 'x2': array([1.02373858]), 'a': 'dummy_constant'}"
      ]
     },
     "execution_count": 14,
     "metadata": {},
     "output_type": "execute_result"
    }
   ],
   "source": [
    "# Create random inputs according to the vocs\n",
    "X.random_inputs()"
   ]
  },
  {
   "cell_type": "code",
   "execution_count": 15,
   "metadata": {
    "execution": {
     "iopub.execute_input": "2023-07-06T19:27:42.546138Z",
     "iopub.status.busy": "2023-07-06T19:27:42.545600Z",
     "iopub.status.idle": "2023-07-06T19:27:42.553134Z",
     "shell.execute_reply": "2023-07-06T19:27:42.552564Z"
    }
   },
   "outputs": [
    {
     "data": {
      "text/plain": [
       "{'y1': array([0.71841678]),\n",
       " 'y2': array([3.07639588]),\n",
       " 'c1': array([9.06666383]),\n",
       " 'c2': array([6.68552164]),\n",
       " 'some_array': array([1, 2, 3]),\n",
       " 'xopt_runtime': 6.100100006278808e-05,\n",
       " 'xopt_error': False}"
      ]
     },
     "execution_count": 15,
     "metadata": {},
     "output_type": "execute_result"
    }
   ],
   "source": [
    "# These can be combined:\n",
    "np.random.seed(10)\n",
    "X.evaluate(X.random_inputs())"
   ]
  },
  {
   "cell_type": "code",
   "execution_count": 16,
   "metadata": {
    "execution": {
     "iopub.execute_input": "2023-07-06T19:27:42.556353Z",
     "iopub.status.busy": "2023-07-06T19:27:42.555825Z",
     "iopub.status.idle": "2023-07-06T19:27:42.572765Z",
     "shell.execute_reply": "2023-07-06T19:27:42.572119Z"
    }
   },
   "outputs": [
    {
     "data": {
      "text/html": [
       "<div>\n",
       "<style scoped>\n",
       "    .dataframe tbody tr th:only-of-type {\n",
       "        vertical-align: middle;\n",
       "    }\n",
       "\n",
       "    .dataframe tbody tr th {\n",
       "        vertical-align: top;\n",
       "    }\n",
       "\n",
       "    .dataframe thead th {\n",
       "        text-align: right;\n",
       "    }\n",
       "</style>\n",
       "<table border=\"1\" class=\"dataframe\">\n",
       "  <thead>\n",
       "    <tr style=\"text-align: right;\">\n",
       "      <th></th>\n",
       "      <th>x1</th>\n",
       "      <th>x2</th>\n",
       "      <th>a</th>\n",
       "      <th>y1</th>\n",
       "      <th>y2</th>\n",
       "      <th>c1</th>\n",
       "      <th>c2</th>\n",
       "      <th>some_array</th>\n",
       "      <th>xopt_runtime</th>\n",
       "      <th>xopt_error</th>\n",
       "    </tr>\n",
       "  </thead>\n",
       "  <tbody>\n",
       "    <tr>\n",
       "      <th>1</th>\n",
       "      <td>0.718417</td>\n",
       "      <td>3.076396</td>\n",
       "      <td>dummy_constant</td>\n",
       "      <td>0.718417</td>\n",
       "      <td>3.076396</td>\n",
       "      <td>9.066664</td>\n",
       "      <td>6.685522</td>\n",
       "      <td>[1, 2, 3]</td>\n",
       "      <td>0.000045</td>\n",
       "      <td>False</td>\n",
       "    </tr>\n",
       "  </tbody>\n",
       "</table>\n",
       "</div>"
      ],
      "text/plain": [
       "         x1        x2               a        y1        y2        c1        c2  \\\n",
       "1  0.718417  3.076396  dummy_constant  0.718417  3.076396  9.066664  6.685522   \n",
       "\n",
       "  some_array  xopt_runtime  xopt_error  \n",
       "1  [1, 2, 3]      0.000045       False  "
      ]
     },
     "execution_count": 16,
     "metadata": {},
     "output_type": "execute_result"
    }
   ],
   "source": [
    "# And this is a convenience method for above\n",
    "np.random.seed(10)\n",
    "X.random_evaluate()"
   ]
  },
  {
   "cell_type": "markdown",
   "metadata": {},
   "source": [
    "## Logging\n",
    "\n",
    "Normally Xopt will not issue print statments, and instead issue logging messages. Below will enable these to be seen in the notebook"
   ]
  },
  {
   "cell_type": "code",
   "execution_count": 17,
   "metadata": {
    "execution": {
     "iopub.execute_input": "2023-07-06T19:27:42.576076Z",
     "iopub.status.busy": "2023-07-06T19:27:42.575634Z",
     "iopub.status.idle": "2023-07-06T19:27:42.580532Z",
     "shell.execute_reply": "2023-07-06T19:27:42.579406Z"
    }
   },
   "outputs": [],
   "source": [
    "# Notebook printing output\n",
    "from xopt import output_notebook\n",
    "output_notebook()"
   ]
  },
  {
   "cell_type": "code",
   "execution_count": 18,
   "metadata": {
    "execution": {
     "iopub.execute_input": "2023-07-06T19:27:42.583736Z",
     "iopub.status.busy": "2023-07-06T19:27:42.583517Z",
     "iopub.status.idle": "2023-07-06T19:27:42.593815Z",
     "shell.execute_reply": "2023-07-06T19:27:42.592683Z"
    }
   },
   "outputs": [
    {
     "name": "stdout",
     "output_type": "stream",
     "text": [
      "Running Xopt step\n"
     ]
    }
   ],
   "source": [
    "X.step()"
   ]
  }
 ],
 "metadata": {
  "interpreter": {
   "hash": "72034539424920dfb606fe3b820b3f27dca0cbf1c69938110810ec4641e275b1"
  },
  "kernelspec": {
   "display_name": "Python 3.9.12 ('xopt-dev')",
   "language": "python",
   "name": "python3"
  },
  "language_info": {
   "codemirror_mode": {
    "name": "ipython",
    "version": 3
   },
   "file_extension": ".py",
   "mimetype": "text/x-python",
   "name": "python",
   "nbconvert_exporter": "python",
   "pygments_lexer": "ipython3",
   "version": "3.9.16"
  }
 },
 "nbformat": 4,
 "nbformat_minor": 4
}
