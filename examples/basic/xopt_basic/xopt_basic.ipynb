{
 "cells": [
  {
   "cell_type": "markdown",
   "metadata": {},
   "source": [
    "# Xopt basic example\n",
    "\n",
    "An Xopt problem can be described by a simple YAML file. Here we will demonstrate how this is used to optimize a well-known constrained multi-objective test function, TNK. The TNK function is defined with:\n",
    "\n",
    "$n=2$ variables:\n",
    "$x_i \\in [0, \\pi], i=1,2$\n",
    "\n",
    "Objectives:\n",
    "- $f_i(x) = x_i$\n",
    "\n",
    "Constraints:\n",
    "- $g_1(x) = -x_1^2 -x_2^2 + 1 + 0.1 \\cos\\left(16 \\arctan \\frac{x_1}{x_2}\\right) \\le 0$\n",
    "- $g_2(x) = (x_1 - 1/2)^2 + (x_2-1/2)^2 \\le 0.5$"
   ]
  },
  {
   "cell_type": "code",
   "execution_count": 1,
   "metadata": {
    "execution": {
     "iopub.execute_input": "2023-06-29T21:03:13.557286Z",
     "iopub.status.busy": "2023-06-29T21:03:13.556737Z",
     "iopub.status.idle": "2023-06-29T21:03:15.762547Z",
     "shell.execute_reply": "2023-06-29T21:03:15.761523Z"
    }
   },
   "outputs": [],
   "source": [
    "# Import the class\n",
    "from xopt import Xopt"
   ]
  },
  {
   "cell_type": "code",
   "execution_count": 2,
   "metadata": {
    "execution": {
     "iopub.execute_input": "2023-06-29T21:03:15.766885Z",
     "iopub.status.busy": "2023-06-29T21:03:15.766057Z",
     "iopub.status.idle": "2023-06-29T21:03:15.771970Z",
     "shell.execute_reply": "2023-06-29T21:03:15.771324Z"
    }
   },
   "outputs": [],
   "source": [
    "# Nicer plotting\n",
    "%config InlineBackend.figure_format = 'retina'"
   ]
  },
  {
   "cell_type": "markdown",
   "metadata": {
    "collapsed": false
   },
   "source": [
    "## Xopt Components\n",
    "The definition of the Xopt object requires 4 parts, listed below:\n",
    "- The `Xopt` object itself, which controlls data flow, stores data and governs data\n",
    "loading and saving.\n",
    "- The `Evaluator` object, which evaluates input points using the arbitrary function\n",
    "specified by the `function` property.\n",
    "- The `Generator` object, which, when given data that has been evaluated, generates\n",
    "future points to evaluate using the evaluator.\n",
    "- The `VOCS` (variables, objectives, constraints, statics) object, which specifies the\n",
    "input domain, the objectives, constraints and constants passed to the evaluator\n",
    "function.\n",
    "\n",
    "Through the YAML interface these objects and their options are specified by name. \n",
    "Here we will make one:"
   ]
  },
  {
   "cell_type": "code",
   "execution_count": 3,
   "metadata": {
    "collapsed": false,
    "execution": {
     "iopub.execute_input": "2023-06-29T21:03:15.775170Z",
     "iopub.status.busy": "2023-06-29T21:03:15.774670Z",
     "iopub.status.idle": "2023-06-29T21:03:15.778181Z",
     "shell.execute_reply": "2023-06-29T21:03:15.777548Z"
    }
   },
   "outputs": [],
   "source": [
    "# Make a proper input file.\n",
    "YAML = \"\"\"\n",
    "xopt: {}\n",
    "evaluator:\n",
    "    function: xopt.resources.test_functions.tnk.evaluate_TNK\n",
    "    function_kwargs:\n",
    "        a: 999\n",
    "\n",
    "generator:\n",
    "    name: random\n",
    "\n",
    "vocs:\n",
    "    variables:\n",
    "        x1: [0, 3.14159]\n",
    "        x2: [0, 3.14159]\n",
    "    objectives: {y1: MINIMIZE, y2: MINIMIZE}\n",
    "    constraints:\n",
    "        c1: [GREATER_THAN, 0]\n",
    "        c2: [LESS_THAN, 0.5]\n",
    "    constants: {a: dummy_constant}\n",
    "\n",
    "\"\"\""
   ]
  },
  {
   "cell_type": "code",
   "execution_count": 4,
   "metadata": {
    "collapsed": false,
    "execution": {
     "iopub.execute_input": "2023-06-29T21:03:15.781379Z",
     "iopub.status.busy": "2023-06-29T21:03:15.780873Z",
     "iopub.status.idle": "2023-06-29T21:03:15.798235Z",
     "shell.execute_reply": "2023-06-29T21:03:15.797642Z"
    }
   },
   "outputs": [],
   "source": [
    "# create Xopt object.\n",
    "X = Xopt(YAML)"
   ]
  },
  {
   "cell_type": "code",
   "execution_count": 5,
   "metadata": {
    "execution": {
     "iopub.execute_input": "2023-06-29T21:03:15.801291Z",
     "iopub.status.busy": "2023-06-29T21:03:15.800857Z",
     "iopub.status.idle": "2023-06-29T21:03:15.809467Z",
     "shell.execute_reply": "2023-06-29T21:03:15.808825Z"
    }
   },
   "outputs": [
    {
     "data": {
      "text/plain": [
       "\n",
       "            Xopt\n",
       "________________________________\n",
       "Version: 0+untagged.1.g31da5da\n",
       "Data size: 0\n",
       "Config as YAML:\n",
       "xopt: {asynch: false, strict: false, dump_file: null, max_evaluations: null}\n",
       "generator: {name: random}\n",
       "evaluator:\n",
       "  function: xopt.resources.test_functions.tnk.evaluate_TNK\n",
       "  max_workers: 1\n",
       "  function_kwargs: {sleep: 0, random_sleep: 0, raise_probability: 0, a: 999}\n",
       "  vectorized: false\n",
       "vocs:\n",
       "  variables:\n",
       "    x1: [0.0, 3.14159]\n",
       "    x2: [0.0, 3.14159]\n",
       "  constraints:\n",
       "    c1: [GREATER_THAN, 0.0]\n",
       "    c2: [LESS_THAN, 0.5]\n",
       "  objectives: {y1: MINIMIZE, y2: MINIMIZE}\n",
       "  constants: {a: dummy_constant}\n",
       "  observables: []\n"
      ]
     },
     "execution_count": 5,
     "metadata": {},
     "output_type": "execute_result"
    }
   ],
   "source": [
    "# Convenient representation of the state.\n",
    "X"
   ]
  },
  {
   "cell_type": "code",
   "execution_count": 6,
   "metadata": {
    "execution": {
     "iopub.execute_input": "2023-06-29T21:03:15.852643Z",
     "iopub.status.busy": "2023-06-29T21:03:15.851688Z",
     "iopub.status.idle": "2023-06-29T21:03:15.873006Z",
     "shell.execute_reply": "2023-06-29T21:03:15.872441Z"
    }
   },
   "outputs": [
    {
     "data": {
      "text/html": [
       "<div>\n",
       "<style scoped>\n",
       "    .dataframe tbody tr th:only-of-type {\n",
       "        vertical-align: middle;\n",
       "    }\n",
       "\n",
       "    .dataframe tbody tr th {\n",
       "        vertical-align: top;\n",
       "    }\n",
       "\n",
       "    .dataframe thead th {\n",
       "        text-align: right;\n",
       "    }\n",
       "</style>\n",
       "<table border=\"1\" class=\"dataframe\">\n",
       "  <thead>\n",
       "    <tr style=\"text-align: right;\">\n",
       "      <th></th>\n",
       "      <th>x1</th>\n",
       "      <th>x2</th>\n",
       "      <th>a</th>\n",
       "      <th>y1</th>\n",
       "      <th>y2</th>\n",
       "      <th>c1</th>\n",
       "      <th>c2</th>\n",
       "      <th>some_array</th>\n",
       "      <th>xopt_runtime</th>\n",
       "      <th>xopt_error</th>\n",
       "    </tr>\n",
       "  </thead>\n",
       "  <tbody>\n",
       "    <tr>\n",
       "      <th>1</th>\n",
       "      <td>0.590236</td>\n",
       "      <td>3.094308</td>\n",
       "      <td>dummy_constant</td>\n",
       "      <td>0.590236</td>\n",
       "      <td>3.094308</td>\n",
       "      <td>9.022329</td>\n",
       "      <td>6.738576</td>\n",
       "      <td>[1, 2, 3]</td>\n",
       "      <td>0.000064</td>\n",
       "      <td>False</td>\n",
       "    </tr>\n",
       "    <tr>\n",
       "      <th>2</th>\n",
       "      <td>2.181189</td>\n",
       "      <td>0.849637</td>\n",
       "      <td>dummy_constant</td>\n",
       "      <td>2.181189</td>\n",
       "      <td>0.849637</td>\n",
       "      <td>4.385192</td>\n",
       "      <td>2.948642</td>\n",
       "      <td>[1, 2, 3]</td>\n",
       "      <td>0.000013</td>\n",
       "      <td>False</td>\n",
       "    </tr>\n",
       "    <tr>\n",
       "      <th>3</th>\n",
       "      <td>1.708065</td>\n",
       "      <td>2.020502</td>\n",
       "      <td>dummy_constant</td>\n",
       "      <td>1.708065</td>\n",
       "      <td>2.020502</td>\n",
       "      <td>5.976803</td>\n",
       "      <td>3.771346</td>\n",
       "      <td>[1, 2, 3]</td>\n",
       "      <td>0.000011</td>\n",
       "      <td>False</td>\n",
       "    </tr>\n",
       "    <tr>\n",
       "      <th>4</th>\n",
       "      <td>1.559268</td>\n",
       "      <td>1.327926</td>\n",
       "      <td>dummy_constant</td>\n",
       "      <td>1.559268</td>\n",
       "      <td>1.327926</td>\n",
       "      <td>3.165965</td>\n",
       "      <td>1.807510</td>\n",
       "      <td>[1, 2, 3]</td>\n",
       "      <td>0.000013</td>\n",
       "      <td>False</td>\n",
       "    </tr>\n",
       "    <tr>\n",
       "      <th>5</th>\n",
       "      <td>1.301922</td>\n",
       "      <td>2.620311</td>\n",
       "      <td>dummy_constant</td>\n",
       "      <td>1.301922</td>\n",
       "      <td>2.620311</td>\n",
       "      <td>7.515221</td>\n",
       "      <td>5.138800</td>\n",
       "      <td>[1, 2, 3]</td>\n",
       "      <td>0.000010</td>\n",
       "      <td>False</td>\n",
       "    </tr>\n",
       "    <tr>\n",
       "      <th>6</th>\n",
       "      <td>0.153752</td>\n",
       "      <td>2.654038</td>\n",
       "      <td>dummy_constant</td>\n",
       "      <td>0.153752</td>\n",
       "      <td>2.654038</td>\n",
       "      <td>6.007441</td>\n",
       "      <td>4.759766</td>\n",
       "      <td>[1, 2, 3]</td>\n",
       "      <td>0.000010</td>\n",
       "      <td>False</td>\n",
       "    </tr>\n",
       "    <tr>\n",
       "      <th>7</th>\n",
       "      <td>1.471636</td>\n",
       "      <td>1.566982</td>\n",
       "      <td>dummy_constant</td>\n",
       "      <td>1.471636</td>\n",
       "      <td>1.566982</td>\n",
       "      <td>3.533479</td>\n",
       "      <td>2.082528</td>\n",
       "      <td>[1, 2, 3]</td>\n",
       "      <td>0.000009</td>\n",
       "      <td>False</td>\n",
       "    </tr>\n",
       "    <tr>\n",
       "      <th>8</th>\n",
       "      <td>1.916946</td>\n",
       "      <td>1.320601</td>\n",
       "      <td>dummy_constant</td>\n",
       "      <td>1.916946</td>\n",
       "      <td>1.320601</td>\n",
       "      <td>4.516100</td>\n",
       "      <td>2.681122</td>\n",
       "      <td>[1, 2, 3]</td>\n",
       "      <td>0.000008</td>\n",
       "      <td>False</td>\n",
       "    </tr>\n",
       "    <tr>\n",
       "      <th>9</th>\n",
       "      <td>2.641931</td>\n",
       "      <td>1.446324</td>\n",
       "      <td>dummy_constant</td>\n",
       "      <td>2.641931</td>\n",
       "      <td>1.446324</td>\n",
       "      <td>8.087599</td>\n",
       "      <td>5.483398</td>\n",
       "      <td>[1, 2, 3]</td>\n",
       "      <td>0.000008</td>\n",
       "      <td>False</td>\n",
       "    </tr>\n",
       "    <tr>\n",
       "      <th>10</th>\n",
       "      <td>2.945827</td>\n",
       "      <td>0.474044</td>\n",
       "      <td>dummy_constant</td>\n",
       "      <td>2.945827</td>\n",
       "      <td>0.474044</td>\n",
       "      <td>7.985778</td>\n",
       "      <td>5.982744</td>\n",
       "      <td>[1, 2, 3]</td>\n",
       "      <td>0.000009</td>\n",
       "      <td>False</td>\n",
       "    </tr>\n",
       "  </tbody>\n",
       "</table>\n",
       "</div>"
      ],
      "text/plain": [
       "          x1        x2               a        y1        y2        c1  \\\n",
       "1   0.590236  3.094308  dummy_constant  0.590236  3.094308  9.022329   \n",
       "2   2.181189  0.849637  dummy_constant  2.181189  0.849637  4.385192   \n",
       "3   1.708065  2.020502  dummy_constant  1.708065  2.020502  5.976803   \n",
       "4   1.559268  1.327926  dummy_constant  1.559268  1.327926  3.165965   \n",
       "5   1.301922  2.620311  dummy_constant  1.301922  2.620311  7.515221   \n",
       "6   0.153752  2.654038  dummy_constant  0.153752  2.654038  6.007441   \n",
       "7   1.471636  1.566982  dummy_constant  1.471636  1.566982  3.533479   \n",
       "8   1.916946  1.320601  dummy_constant  1.916946  1.320601  4.516100   \n",
       "9   2.641931  1.446324  dummy_constant  2.641931  1.446324  8.087599   \n",
       "10  2.945827  0.474044  dummy_constant  2.945827  0.474044  7.985778   \n",
       "\n",
       "          c2 some_array  xopt_runtime  xopt_error  \n",
       "1   6.738576  [1, 2, 3]      0.000064       False  \n",
       "2   2.948642  [1, 2, 3]      0.000013       False  \n",
       "3   3.771346  [1, 2, 3]      0.000011       False  \n",
       "4   1.807510  [1, 2, 3]      0.000013       False  \n",
       "5   5.138800  [1, 2, 3]      0.000010       False  \n",
       "6   4.759766  [1, 2, 3]      0.000010       False  \n",
       "7   2.082528  [1, 2, 3]      0.000009       False  \n",
       "8   2.681122  [1, 2, 3]      0.000008       False  \n",
       "9   5.483398  [1, 2, 3]      0.000008       False  \n",
       "10  5.982744  [1, 2, 3]      0.000009       False  "
      ]
     },
     "execution_count": 6,
     "metadata": {},
     "output_type": "execute_result"
    }
   ],
   "source": [
    "X.random_evaluate(10)"
   ]
  },
  {
   "cell_type": "markdown",
   "metadata": {
    "collapsed": false
   },
   "source": [
    "## Run Random data generation"
   ]
  },
  {
   "cell_type": "code",
   "execution_count": 7,
   "metadata": {
    "execution": {
     "iopub.execute_input": "2023-06-29T21:03:15.875999Z",
     "iopub.status.busy": "2023-06-29T21:03:15.875596Z",
     "iopub.status.idle": "2023-06-29T21:03:15.879141Z",
     "shell.execute_reply": "2023-06-29T21:03:15.878480Z"
    }
   },
   "outputs": [],
   "source": [
    "import numpy as np\n",
    "np.random.seed(10)"
   ]
  },
  {
   "cell_type": "code",
   "execution_count": 8,
   "metadata": {
    "collapsed": false,
    "execution": {
     "iopub.execute_input": "2023-06-29T21:03:15.882007Z",
     "iopub.status.busy": "2023-06-29T21:03:15.881648Z",
     "iopub.status.idle": "2023-06-29T21:03:15.890031Z",
     "shell.execute_reply": "2023-06-29T21:03:15.889395Z"
    }
   },
   "outputs": [],
   "source": [
    "# Take one step (generate a single point)\n",
    "X.step()"
   ]
  },
  {
   "cell_type": "code",
   "execution_count": 9,
   "metadata": {
    "collapsed": false,
    "execution": {
     "iopub.execute_input": "2023-06-29T21:03:15.892904Z",
     "iopub.status.busy": "2023-06-29T21:03:15.892472Z",
     "iopub.status.idle": "2023-06-29T21:03:15.906984Z",
     "shell.execute_reply": "2023-06-29T21:03:15.906333Z"
    }
   },
   "outputs": [
    {
     "data": {
      "text/html": [
       "<div>\n",
       "<style scoped>\n",
       "    .dataframe tbody tr th:only-of-type {\n",
       "        vertical-align: middle;\n",
       "    }\n",
       "\n",
       "    .dataframe tbody tr th {\n",
       "        vertical-align: top;\n",
       "    }\n",
       "\n",
       "    .dataframe thead th {\n",
       "        text-align: right;\n",
       "    }\n",
       "</style>\n",
       "<table border=\"1\" class=\"dataframe\">\n",
       "  <thead>\n",
       "    <tr style=\"text-align: right;\">\n",
       "      <th></th>\n",
       "      <th>x1</th>\n",
       "      <th>x2</th>\n",
       "      <th>a</th>\n",
       "      <th>y1</th>\n",
       "      <th>y2</th>\n",
       "      <th>c1</th>\n",
       "      <th>c2</th>\n",
       "      <th>some_array</th>\n",
       "      <th>xopt_runtime</th>\n",
       "      <th>xopt_error</th>\n",
       "    </tr>\n",
       "  </thead>\n",
       "  <tbody>\n",
       "    <tr>\n",
       "      <th>1</th>\n",
       "      <td>0.590236</td>\n",
       "      <td>3.094308</td>\n",
       "      <td>dummy_constant</td>\n",
       "      <td>0.590236</td>\n",
       "      <td>3.094308</td>\n",
       "      <td>9.022329</td>\n",
       "      <td>6.738576</td>\n",
       "      <td>[1, 2, 3]</td>\n",
       "      <td>0.000064</td>\n",
       "      <td>False</td>\n",
       "    </tr>\n",
       "    <tr>\n",
       "      <th>2</th>\n",
       "      <td>2.181189</td>\n",
       "      <td>0.849637</td>\n",
       "      <td>dummy_constant</td>\n",
       "      <td>2.181189</td>\n",
       "      <td>0.849637</td>\n",
       "      <td>4.385192</td>\n",
       "      <td>2.948642</td>\n",
       "      <td>[1, 2, 3]</td>\n",
       "      <td>0.000013</td>\n",
       "      <td>False</td>\n",
       "    </tr>\n",
       "    <tr>\n",
       "      <th>3</th>\n",
       "      <td>1.708065</td>\n",
       "      <td>2.020502</td>\n",
       "      <td>dummy_constant</td>\n",
       "      <td>1.708065</td>\n",
       "      <td>2.020502</td>\n",
       "      <td>5.976803</td>\n",
       "      <td>3.771346</td>\n",
       "      <td>[1, 2, 3]</td>\n",
       "      <td>0.000011</td>\n",
       "      <td>False</td>\n",
       "    </tr>\n",
       "    <tr>\n",
       "      <th>4</th>\n",
       "      <td>1.559268</td>\n",
       "      <td>1.327926</td>\n",
       "      <td>dummy_constant</td>\n",
       "      <td>1.559268</td>\n",
       "      <td>1.327926</td>\n",
       "      <td>3.165965</td>\n",
       "      <td>1.807510</td>\n",
       "      <td>[1, 2, 3]</td>\n",
       "      <td>0.000013</td>\n",
       "      <td>False</td>\n",
       "    </tr>\n",
       "    <tr>\n",
       "      <th>5</th>\n",
       "      <td>1.301922</td>\n",
       "      <td>2.620311</td>\n",
       "      <td>dummy_constant</td>\n",
       "      <td>1.301922</td>\n",
       "      <td>2.620311</td>\n",
       "      <td>7.515221</td>\n",
       "      <td>5.138800</td>\n",
       "      <td>[1, 2, 3]</td>\n",
       "      <td>0.000010</td>\n",
       "      <td>False</td>\n",
       "    </tr>\n",
       "    <tr>\n",
       "      <th>6</th>\n",
       "      <td>0.153752</td>\n",
       "      <td>2.654038</td>\n",
       "      <td>dummy_constant</td>\n",
       "      <td>0.153752</td>\n",
       "      <td>2.654038</td>\n",
       "      <td>6.007441</td>\n",
       "      <td>4.759766</td>\n",
       "      <td>[1, 2, 3]</td>\n",
       "      <td>0.000010</td>\n",
       "      <td>False</td>\n",
       "    </tr>\n",
       "    <tr>\n",
       "      <th>7</th>\n",
       "      <td>1.471636</td>\n",
       "      <td>1.566982</td>\n",
       "      <td>dummy_constant</td>\n",
       "      <td>1.471636</td>\n",
       "      <td>1.566982</td>\n",
       "      <td>3.533479</td>\n",
       "      <td>2.082528</td>\n",
       "      <td>[1, 2, 3]</td>\n",
       "      <td>0.000009</td>\n",
       "      <td>False</td>\n",
       "    </tr>\n",
       "    <tr>\n",
       "      <th>8</th>\n",
       "      <td>1.916946</td>\n",
       "      <td>1.320601</td>\n",
       "      <td>dummy_constant</td>\n",
       "      <td>1.916946</td>\n",
       "      <td>1.320601</td>\n",
       "      <td>4.516100</td>\n",
       "      <td>2.681122</td>\n",
       "      <td>[1, 2, 3]</td>\n",
       "      <td>0.000008</td>\n",
       "      <td>False</td>\n",
       "    </tr>\n",
       "    <tr>\n",
       "      <th>9</th>\n",
       "      <td>2.641931</td>\n",
       "      <td>1.446324</td>\n",
       "      <td>dummy_constant</td>\n",
       "      <td>2.641931</td>\n",
       "      <td>1.446324</td>\n",
       "      <td>8.087599</td>\n",
       "      <td>5.483398</td>\n",
       "      <td>[1, 2, 3]</td>\n",
       "      <td>0.000008</td>\n",
       "      <td>False</td>\n",
       "    </tr>\n",
       "    <tr>\n",
       "      <th>10</th>\n",
       "      <td>2.945827</td>\n",
       "      <td>0.474044</td>\n",
       "      <td>dummy_constant</td>\n",
       "      <td>2.945827</td>\n",
       "      <td>0.474044</td>\n",
       "      <td>7.985778</td>\n",
       "      <td>5.982744</td>\n",
       "      <td>[1, 2, 3]</td>\n",
       "      <td>0.000009</td>\n",
       "      <td>False</td>\n",
       "    </tr>\n",
       "    <tr>\n",
       "      <th>11</th>\n",
       "      <td>0.718417</td>\n",
       "      <td>3.076396</td>\n",
       "      <td>dummy_constant</td>\n",
       "      <td>0.718417</td>\n",
       "      <td>3.076396</td>\n",
       "      <td>9.066664</td>\n",
       "      <td>6.685522</td>\n",
       "      <td>[1, 2, 3]</td>\n",
       "      <td>0.000061</td>\n",
       "      <td>False</td>\n",
       "    </tr>\n",
       "  </tbody>\n",
       "</table>\n",
       "</div>"
      ],
      "text/plain": [
       "          x1        x2               a        y1        y2        c1  \\\n",
       "1   0.590236  3.094308  dummy_constant  0.590236  3.094308  9.022329   \n",
       "2   2.181189  0.849637  dummy_constant  2.181189  0.849637  4.385192   \n",
       "3   1.708065  2.020502  dummy_constant  1.708065  2.020502  5.976803   \n",
       "4   1.559268  1.327926  dummy_constant  1.559268  1.327926  3.165965   \n",
       "5   1.301922  2.620311  dummy_constant  1.301922  2.620311  7.515221   \n",
       "6   0.153752  2.654038  dummy_constant  0.153752  2.654038  6.007441   \n",
       "7   1.471636  1.566982  dummy_constant  1.471636  1.566982  3.533479   \n",
       "8   1.916946  1.320601  dummy_constant  1.916946  1.320601  4.516100   \n",
       "9   2.641931  1.446324  dummy_constant  2.641931  1.446324  8.087599   \n",
       "10  2.945827  0.474044  dummy_constant  2.945827  0.474044  7.985778   \n",
       "11  0.718417  3.076396  dummy_constant  0.718417  3.076396  9.066664   \n",
       "\n",
       "          c2 some_array  xopt_runtime  xopt_error  \n",
       "1   6.738576  [1, 2, 3]      0.000064       False  \n",
       "2   2.948642  [1, 2, 3]      0.000013       False  \n",
       "3   3.771346  [1, 2, 3]      0.000011       False  \n",
       "4   1.807510  [1, 2, 3]      0.000013       False  \n",
       "5   5.138800  [1, 2, 3]      0.000010       False  \n",
       "6   4.759766  [1, 2, 3]      0.000010       False  \n",
       "7   2.082528  [1, 2, 3]      0.000009       False  \n",
       "8   2.681122  [1, 2, 3]      0.000008       False  \n",
       "9   5.483398  [1, 2, 3]      0.000008       False  \n",
       "10  5.982744  [1, 2, 3]      0.000009       False  \n",
       "11  6.685522  [1, 2, 3]      0.000061       False  "
      ]
     },
     "execution_count": 9,
     "metadata": {},
     "output_type": "execute_result"
    }
   ],
   "source": [
    "# examine the results\n",
    "X.data"
   ]
  },
  {
   "cell_type": "code",
   "execution_count": 10,
   "metadata": {
    "collapsed": false,
    "execution": {
     "iopub.execute_input": "2023-06-29T21:03:15.910226Z",
     "iopub.status.busy": "2023-06-29T21:03:15.909708Z",
     "iopub.status.idle": "2023-06-29T21:03:15.959105Z",
     "shell.execute_reply": "2023-06-29T21:03:15.958287Z"
    }
   },
   "outputs": [
    {
     "data": {
      "text/html": [
       "<div>\n",
       "<style scoped>\n",
       "    .dataframe tbody tr th:only-of-type {\n",
       "        vertical-align: middle;\n",
       "    }\n",
       "\n",
       "    .dataframe tbody tr th {\n",
       "        vertical-align: top;\n",
       "    }\n",
       "\n",
       "    .dataframe thead th {\n",
       "        text-align: right;\n",
       "    }\n",
       "</style>\n",
       "<table border=\"1\" class=\"dataframe\">\n",
       "  <thead>\n",
       "    <tr style=\"text-align: right;\">\n",
       "      <th></th>\n",
       "      <th>x1</th>\n",
       "      <th>x2</th>\n",
       "      <th>a</th>\n",
       "      <th>y1</th>\n",
       "      <th>y2</th>\n",
       "      <th>c1</th>\n",
       "      <th>c2</th>\n",
       "      <th>some_array</th>\n",
       "      <th>xopt_runtime</th>\n",
       "      <th>xopt_error</th>\n",
       "    </tr>\n",
       "  </thead>\n",
       "  <tbody>\n",
       "    <tr>\n",
       "      <th>1</th>\n",
       "      <td>0.590236</td>\n",
       "      <td>3.094308</td>\n",
       "      <td>dummy_constant</td>\n",
       "      <td>0.590236</td>\n",
       "      <td>3.094308</td>\n",
       "      <td>9.022329</td>\n",
       "      <td>6.738576</td>\n",
       "      <td>[1, 2, 3]</td>\n",
       "      <td>0.000064</td>\n",
       "      <td>False</td>\n",
       "    </tr>\n",
       "    <tr>\n",
       "      <th>2</th>\n",
       "      <td>2.181189</td>\n",
       "      <td>0.849637</td>\n",
       "      <td>dummy_constant</td>\n",
       "      <td>2.181189</td>\n",
       "      <td>0.849637</td>\n",
       "      <td>4.385192</td>\n",
       "      <td>2.948642</td>\n",
       "      <td>[1, 2, 3]</td>\n",
       "      <td>0.000013</td>\n",
       "      <td>False</td>\n",
       "    </tr>\n",
       "    <tr>\n",
       "      <th>3</th>\n",
       "      <td>1.708065</td>\n",
       "      <td>2.020502</td>\n",
       "      <td>dummy_constant</td>\n",
       "      <td>1.708065</td>\n",
       "      <td>2.020502</td>\n",
       "      <td>5.976803</td>\n",
       "      <td>3.771346</td>\n",
       "      <td>[1, 2, 3]</td>\n",
       "      <td>0.000011</td>\n",
       "      <td>False</td>\n",
       "    </tr>\n",
       "    <tr>\n",
       "      <th>4</th>\n",
       "      <td>1.559268</td>\n",
       "      <td>1.327926</td>\n",
       "      <td>dummy_constant</td>\n",
       "      <td>1.559268</td>\n",
       "      <td>1.327926</td>\n",
       "      <td>3.165965</td>\n",
       "      <td>1.807510</td>\n",
       "      <td>[1, 2, 3]</td>\n",
       "      <td>0.000013</td>\n",
       "      <td>False</td>\n",
       "    </tr>\n",
       "    <tr>\n",
       "      <th>5</th>\n",
       "      <td>1.301922</td>\n",
       "      <td>2.620311</td>\n",
       "      <td>dummy_constant</td>\n",
       "      <td>1.301922</td>\n",
       "      <td>2.620311</td>\n",
       "      <td>7.515221</td>\n",
       "      <td>5.138800</td>\n",
       "      <td>[1, 2, 3]</td>\n",
       "      <td>0.000010</td>\n",
       "      <td>False</td>\n",
       "    </tr>\n",
       "    <tr>\n",
       "      <th>6</th>\n",
       "      <td>0.153752</td>\n",
       "      <td>2.654038</td>\n",
       "      <td>dummy_constant</td>\n",
       "      <td>0.153752</td>\n",
       "      <td>2.654038</td>\n",
       "      <td>6.007441</td>\n",
       "      <td>4.759766</td>\n",
       "      <td>[1, 2, 3]</td>\n",
       "      <td>0.000010</td>\n",
       "      <td>False</td>\n",
       "    </tr>\n",
       "    <tr>\n",
       "      <th>7</th>\n",
       "      <td>1.471636</td>\n",
       "      <td>1.566982</td>\n",
       "      <td>dummy_constant</td>\n",
       "      <td>1.471636</td>\n",
       "      <td>1.566982</td>\n",
       "      <td>3.533479</td>\n",
       "      <td>2.082528</td>\n",
       "      <td>[1, 2, 3]</td>\n",
       "      <td>0.000009</td>\n",
       "      <td>False</td>\n",
       "    </tr>\n",
       "    <tr>\n",
       "      <th>8</th>\n",
       "      <td>1.916946</td>\n",
       "      <td>1.320601</td>\n",
       "      <td>dummy_constant</td>\n",
       "      <td>1.916946</td>\n",
       "      <td>1.320601</td>\n",
       "      <td>4.516100</td>\n",
       "      <td>2.681122</td>\n",
       "      <td>[1, 2, 3]</td>\n",
       "      <td>0.000008</td>\n",
       "      <td>False</td>\n",
       "    </tr>\n",
       "    <tr>\n",
       "      <th>9</th>\n",
       "      <td>2.641931</td>\n",
       "      <td>1.446324</td>\n",
       "      <td>dummy_constant</td>\n",
       "      <td>2.641931</td>\n",
       "      <td>1.446324</td>\n",
       "      <td>8.087599</td>\n",
       "      <td>5.483398</td>\n",
       "      <td>[1, 2, 3]</td>\n",
       "      <td>0.000008</td>\n",
       "      <td>False</td>\n",
       "    </tr>\n",
       "    <tr>\n",
       "      <th>10</th>\n",
       "      <td>2.945827</td>\n",
       "      <td>0.474044</td>\n",
       "      <td>dummy_constant</td>\n",
       "      <td>2.945827</td>\n",
       "      <td>0.474044</td>\n",
       "      <td>7.985778</td>\n",
       "      <td>5.982744</td>\n",
       "      <td>[1, 2, 3]</td>\n",
       "      <td>0.000009</td>\n",
       "      <td>False</td>\n",
       "    </tr>\n",
       "    <tr>\n",
       "      <th>11</th>\n",
       "      <td>0.718417</td>\n",
       "      <td>3.076396</td>\n",
       "      <td>dummy_constant</td>\n",
       "      <td>0.718417</td>\n",
       "      <td>3.076396</td>\n",
       "      <td>9.066664</td>\n",
       "      <td>6.685522</td>\n",
       "      <td>[1, 2, 3]</td>\n",
       "      <td>0.000061</td>\n",
       "      <td>False</td>\n",
       "    </tr>\n",
       "    <tr>\n",
       "      <th>12</th>\n",
       "      <td>1.150927</td>\n",
       "      <td>0.789155</td>\n",
       "      <td>dummy_constant</td>\n",
       "      <td>1.150927</td>\n",
       "      <td>0.789155</td>\n",
       "      <td>1.045563</td>\n",
       "      <td>0.507317</td>\n",
       "      <td>[1, 2, 3]</td>\n",
       "      <td>0.000043</td>\n",
       "      <td>False</td>\n",
       "    </tr>\n",
       "    <tr>\n",
       "      <th>13</th>\n",
       "      <td>1.575485</td>\n",
       "      <td>2.435371</td>\n",
       "      <td>dummy_constant</td>\n",
       "      <td>1.575485</td>\n",
       "      <td>2.435371</td>\n",
       "      <td>7.510380</td>\n",
       "      <td>4.902330</td>\n",
       "      <td>[1, 2, 3]</td>\n",
       "      <td>0.000033</td>\n",
       "      <td>False</td>\n",
       "    </tr>\n",
       "    <tr>\n",
       "      <th>14</th>\n",
       "      <td>2.519358</td>\n",
       "      <td>0.752314</td>\n",
       "      <td>dummy_constant</td>\n",
       "      <td>2.519358</td>\n",
       "      <td>0.752314</td>\n",
       "      <td>5.920078</td>\n",
       "      <td>4.141468</td>\n",
       "      <td>[1, 2, 3]</td>\n",
       "      <td>0.000032</td>\n",
       "      <td>False</td>\n",
       "    </tr>\n",
       "    <tr>\n",
       "      <th>15</th>\n",
       "      <td>2.610313</td>\n",
       "      <td>2.864063</td>\n",
       "      <td>dummy_constant</td>\n",
       "      <td>2.610313</td>\n",
       "      <td>2.864063</td>\n",
       "      <td>13.942816</td>\n",
       "      <td>10.042213</td>\n",
       "      <td>[1, 2, 3]</td>\n",
       "      <td>0.000025</td>\n",
       "      <td>False</td>\n",
       "    </tr>\n",
       "    <tr>\n",
       "      <th>16</th>\n",
       "      <td>0.988470</td>\n",
       "      <td>0.146419</td>\n",
       "      <td>dummy_constant</td>\n",
       "      <td>0.988470</td>\n",
       "      <td>0.146419</td>\n",
       "      <td>0.068991</td>\n",
       "      <td>0.363623</td>\n",
       "      <td>[1, 2, 3]</td>\n",
       "      <td>0.000026</td>\n",
       "      <td>False</td>\n",
       "    </tr>\n",
       "    <tr>\n",
       "      <th>17</th>\n",
       "      <td>3.129186</td>\n",
       "      <td>1.532492</td>\n",
       "      <td>dummy_constant</td>\n",
       "      <td>3.129186</td>\n",
       "      <td>1.532492</td>\n",
       "      <td>11.086588</td>\n",
       "      <td>7.978659</td>\n",
       "      <td>[1, 2, 3]</td>\n",
       "      <td>0.000025</td>\n",
       "      <td>False</td>\n",
       "    </tr>\n",
       "    <tr>\n",
       "      <th>18</th>\n",
       "      <td>0.588668</td>\n",
       "      <td>1.217284</td>\n",
       "      <td>dummy_constant</td>\n",
       "      <td>0.588668</td>\n",
       "      <td>1.217284</td>\n",
       "      <td>0.768029</td>\n",
       "      <td>0.522359</td>\n",
       "      <td>[1, 2, 3]</td>\n",
       "      <td>0.000025</td>\n",
       "      <td>False</td>\n",
       "    </tr>\n",
       "    <tr>\n",
       "      <th>19</th>\n",
       "      <td>0.874131</td>\n",
       "      <td>2.224635</td>\n",
       "      <td>dummy_constant</td>\n",
       "      <td>0.874131</td>\n",
       "      <td>2.224635</td>\n",
       "      <td>4.617362</td>\n",
       "      <td>3.114340</td>\n",
       "      <td>[1, 2, 3]</td>\n",
       "      <td>0.000025</td>\n",
       "      <td>False</td>\n",
       "    </tr>\n",
       "    <tr>\n",
       "      <th>20</th>\n",
       "      <td>0.258320</td>\n",
       "      <td>0.896686</td>\n",
       "      <td>dummy_constant</td>\n",
       "      <td>0.258320</td>\n",
       "      <td>0.896686</td>\n",
       "      <td>-0.106956</td>\n",
       "      <td>0.215769</td>\n",
       "      <td>[1, 2, 3]</td>\n",
       "      <td>0.000025</td>\n",
       "      <td>False</td>\n",
       "    </tr>\n",
       "    <tr>\n",
       "      <th>21</th>\n",
       "      <td>1.437138</td>\n",
       "      <td>2.694950</td>\n",
       "      <td>dummy_constant</td>\n",
       "      <td>1.437138</td>\n",
       "      <td>2.694950</td>\n",
       "      <td>8.326577</td>\n",
       "      <td>5.696033</td>\n",
       "      <td>[1, 2, 3]</td>\n",
       "      <td>0.000025</td>\n",
       "      <td>False</td>\n",
       "    </tr>\n",
       "  </tbody>\n",
       "</table>\n",
       "</div>"
      ],
      "text/plain": [
       "          x1        x2               a        y1        y2         c1  \\\n",
       "1   0.590236  3.094308  dummy_constant  0.590236  3.094308   9.022329   \n",
       "2   2.181189  0.849637  dummy_constant  2.181189  0.849637   4.385192   \n",
       "3   1.708065  2.020502  dummy_constant  1.708065  2.020502   5.976803   \n",
       "4   1.559268  1.327926  dummy_constant  1.559268  1.327926   3.165965   \n",
       "5   1.301922  2.620311  dummy_constant  1.301922  2.620311   7.515221   \n",
       "6   0.153752  2.654038  dummy_constant  0.153752  2.654038   6.007441   \n",
       "7   1.471636  1.566982  dummy_constant  1.471636  1.566982   3.533479   \n",
       "8   1.916946  1.320601  dummy_constant  1.916946  1.320601   4.516100   \n",
       "9   2.641931  1.446324  dummy_constant  2.641931  1.446324   8.087599   \n",
       "10  2.945827  0.474044  dummy_constant  2.945827  0.474044   7.985778   \n",
       "11  0.718417  3.076396  dummy_constant  0.718417  3.076396   9.066664   \n",
       "12  1.150927  0.789155  dummy_constant  1.150927  0.789155   1.045563   \n",
       "13  1.575485  2.435371  dummy_constant  1.575485  2.435371   7.510380   \n",
       "14  2.519358  0.752314  dummy_constant  2.519358  0.752314   5.920078   \n",
       "15  2.610313  2.864063  dummy_constant  2.610313  2.864063  13.942816   \n",
       "16  0.988470  0.146419  dummy_constant  0.988470  0.146419   0.068991   \n",
       "17  3.129186  1.532492  dummy_constant  3.129186  1.532492  11.086588   \n",
       "18  0.588668  1.217284  dummy_constant  0.588668  1.217284   0.768029   \n",
       "19  0.874131  2.224635  dummy_constant  0.874131  2.224635   4.617362   \n",
       "20  0.258320  0.896686  dummy_constant  0.258320  0.896686  -0.106956   \n",
       "21  1.437138  2.694950  dummy_constant  1.437138  2.694950   8.326577   \n",
       "\n",
       "           c2 some_array  xopt_runtime  xopt_error  \n",
       "1    6.738576  [1, 2, 3]      0.000064       False  \n",
       "2    2.948642  [1, 2, 3]      0.000013       False  \n",
       "3    3.771346  [1, 2, 3]      0.000011       False  \n",
       "4    1.807510  [1, 2, 3]      0.000013       False  \n",
       "5    5.138800  [1, 2, 3]      0.000010       False  \n",
       "6    4.759766  [1, 2, 3]      0.000010       False  \n",
       "7    2.082528  [1, 2, 3]      0.000009       False  \n",
       "8    2.681122  [1, 2, 3]      0.000008       False  \n",
       "9    5.483398  [1, 2, 3]      0.000008       False  \n",
       "10   5.982744  [1, 2, 3]      0.000009       False  \n",
       "11   6.685522  [1, 2, 3]      0.000061       False  \n",
       "12   0.507317  [1, 2, 3]      0.000043       False  \n",
       "13   4.902330  [1, 2, 3]      0.000033       False  \n",
       "14   4.141468  [1, 2, 3]      0.000032       False  \n",
       "15  10.042213  [1, 2, 3]      0.000025       False  \n",
       "16   0.363623  [1, 2, 3]      0.000026       False  \n",
       "17   7.978659  [1, 2, 3]      0.000025       False  \n",
       "18   0.522359  [1, 2, 3]      0.000025       False  \n",
       "19   3.114340  [1, 2, 3]      0.000025       False  \n",
       "20   0.215769  [1, 2, 3]      0.000025       False  \n",
       "21   5.696033  [1, 2, 3]      0.000025       False  "
      ]
     },
     "execution_count": 10,
     "metadata": {},
     "output_type": "execute_result"
    }
   ],
   "source": [
    "# take a couple of steps and examine the results\n",
    "for _ in range(10):\n",
    "    X.step()\n",
    "X.data"
   ]
  },
  {
   "cell_type": "markdown",
   "metadata": {
    "collapsed": false
   },
   "source": [
    "## Plotting\n",
    "Plot the objective results"
   ]
  },
  {
   "cell_type": "code",
   "execution_count": 11,
   "metadata": {
    "collapsed": false,
    "execution": {
     "iopub.execute_input": "2023-06-29T21:03:15.962382Z",
     "iopub.status.busy": "2023-06-29T21:03:15.961923Z",
     "iopub.status.idle": "2023-06-29T21:03:16.633716Z",
     "shell.execute_reply": "2023-06-29T21:03:16.633121Z"
    }
   },
   "outputs": [
    {
     "data": {
      "text/plain": [
       "<Axes: xlabel='y1', ylabel='y2'>"
      ]
     },
     "execution_count": 11,
     "metadata": {},
     "output_type": "execute_result"
    },
    {
     "data": {
      "image/png": "[encoded data removed]",
      "text/plain": [
       "<Figure size 640x480 with 1 Axes>"
      ]
     },
     "metadata": {
      "image/png": {
       "height": 432,
       "width": 567
      }
     },
     "output_type": "display_data"
    }
   ],
   "source": [
    "import matplotlib.pyplot as plt\n",
    "\n",
    "X.data.plot(*X.vocs.objective_names, kind=\"scatter\")"
   ]
  },
  {
   "cell_type": "markdown",
   "metadata": {},
   "source": [
    "## Alternative initialization methods\n",
    "\n",
    "For convenience, if the first (and only) positional argument is present, then Xopt will automatically try to load from JSON, YAML str or files, or as a dict."
   ]
  },
  {
   "cell_type": "code",
   "execution_count": 12,
   "metadata": {
    "execution": {
     "iopub.execute_input": "2023-06-29T21:03:16.637639Z",
     "iopub.status.busy": "2023-06-29T21:03:16.636952Z",
     "iopub.status.idle": "2023-06-29T21:03:16.655919Z",
     "shell.execute_reply": "2023-06-29T21:03:16.655360Z"
    }
   },
   "outputs": [],
   "source": [
    "import yaml\n",
    "import json\n",
    "\n",
    "config  = yaml.safe_load(YAML) \n",
    "# All these methods work\n",
    "\n",
    "X = Xopt(YAML)\n",
    "X = Xopt(config)\n",
    "X = Xopt(json.dumps(config, indent=4))\n"
   ]
  },
  {
   "cell_type": "markdown",
   "metadata": {},
   "source": [
    "## Convenience Methods"
   ]
  },
  {
   "cell_type": "code",
   "execution_count": 13,
   "metadata": {
    "execution": {
     "iopub.execute_input": "2023-06-29T21:03:16.658932Z",
     "iopub.status.busy": "2023-06-29T21:03:16.658471Z",
     "iopub.status.idle": "2023-06-29T21:03:16.663097Z",
     "shell.execute_reply": "2023-06-29T21:03:16.662607Z"
    }
   },
   "outputs": [
    {
     "data": {
      "text/plain": [
       "{'y1': 0.5,\n",
       " 'y2': 0.5,\n",
       " 'c1': -0.6,\n",
       " 'c2': 0.0,\n",
       " 'some_array': array([1, 2, 3]),\n",
       " 'xopt_runtime': 5.910200002290367e-05,\n",
       " 'xopt_error': False}"
      ]
     },
     "execution_count": 13,
     "metadata": {},
     "output_type": "execute_result"
    }
   ],
   "source": [
    "# Call the evaluator's function directly.\n",
    "X.evaluate({'x1': .5, 'x2': 0.5})"
   ]
  },
  {
   "cell_type": "code",
   "execution_count": 14,
   "metadata": {
    "execution": {
     "iopub.execute_input": "2023-06-29T21:03:16.665814Z",
     "iopub.status.busy": "2023-06-29T21:03:16.665373Z",
     "iopub.status.idle": "2023-06-29T21:03:16.669705Z",
     "shell.execute_reply": "2023-06-29T21:03:16.669218Z"
    }
   },
   "outputs": [
    {
     "data": {
      "text/plain": [
       "{'x1': array([1.9687064]), 'x2': array([1.02373858]), 'a': 'dummy_constant'}"
      ]
     },
     "execution_count": 14,
     "metadata": {},
     "output_type": "execute_result"
    }
   ],
   "source": [
    "# Create random inputs according to the vocs\n",
    "X.random_inputs()"
   ]
  },
  {
   "cell_type": "code",
   "execution_count": 15,
   "metadata": {
    "execution": {
     "iopub.execute_input": "2023-06-29T21:03:16.672316Z",
     "iopub.status.busy": "2023-06-29T21:03:16.671894Z",
     "iopub.status.idle": "2023-06-29T21:03:16.677242Z",
     "shell.execute_reply": "2023-06-29T21:03:16.676613Z"
    }
   },
   "outputs": [
    {
     "data": {
      "text/plain": [
       "{'y1': array([0.71841678]),\n",
       " 'y2': array([3.07639588]),\n",
       " 'c1': array([9.06666383]),\n",
       " 'c2': array([6.68552164]),\n",
       " 'some_array': array([1, 2, 3]),\n",
       " 'xopt_runtime': 6.230200006029918e-05,\n",
       " 'xopt_error': False}"
      ]
     },
     "execution_count": 15,
     "metadata": {},
     "output_type": "execute_result"
    }
   ],
   "source": [
    "# These can be combined:\n",
    "np.random.seed(10)\n",
    "X.evaluate(X.random_inputs())"
   ]
  },
  {
   "cell_type": "code",
   "execution_count": 16,
   "metadata": {
    "execution": {
     "iopub.execute_input": "2023-06-29T21:03:16.680913Z",
     "iopub.status.busy": "2023-06-29T21:03:16.680500Z",
     "iopub.status.idle": "2023-06-29T21:03:16.694893Z",
     "shell.execute_reply": "2023-06-29T21:03:16.694242Z"
    }
   },
   "outputs": [
    {
     "data": {
      "text/html": [
       "<div>\n",
       "<style scoped>\n",
       "    .dataframe tbody tr th:only-of-type {\n",
       "        vertical-align: middle;\n",
       "    }\n",
       "\n",
       "    .dataframe tbody tr th {\n",
       "        vertical-align: top;\n",
       "    }\n",
       "\n",
       "    .dataframe thead th {\n",
       "        text-align: right;\n",
       "    }\n",
       "</style>\n",
       "<table border=\"1\" class=\"dataframe\">\n",
       "  <thead>\n",
       "    <tr style=\"text-align: right;\">\n",
       "      <th></th>\n",
       "      <th>x1</th>\n",
       "      <th>x2</th>\n",
       "      <th>a</th>\n",
       "      <th>y1</th>\n",
       "      <th>y2</th>\n",
       "      <th>c1</th>\n",
       "      <th>c2</th>\n",
       "      <th>some_array</th>\n",
       "      <th>xopt_runtime</th>\n",
       "      <th>xopt_error</th>\n",
       "    </tr>\n",
       "  </thead>\n",
       "  <tbody>\n",
       "    <tr>\n",
       "      <th>1</th>\n",
       "      <td>0.718417</td>\n",
       "      <td>3.076396</td>\n",
       "      <td>dummy_constant</td>\n",
       "      <td>0.718417</td>\n",
       "      <td>3.076396</td>\n",
       "      <td>9.066664</td>\n",
       "      <td>6.685522</td>\n",
       "      <td>[1, 2, 3]</td>\n",
       "      <td>0.000211</td>\n",
       "      <td>False</td>\n",
       "    </tr>\n",
       "  </tbody>\n",
       "</table>\n",
       "</div>"
      ],
      "text/plain": [
       "         x1        x2               a        y1        y2        c1        c2  \\\n",
       "1  0.718417  3.076396  dummy_constant  0.718417  3.076396  9.066664  6.685522   \n",
       "\n",
       "  some_array  xopt_runtime  xopt_error  \n",
       "1  [1, 2, 3]      0.000211       False  "
      ]
     },
     "execution_count": 16,
     "metadata": {},
     "output_type": "execute_result"
    }
   ],
   "source": [
    "# And this is a convenience method for above\n",
    "np.random.seed(10)\n",
    "X.random_evaluate()"
   ]
  },
  {
   "cell_type": "markdown",
   "metadata": {},
   "source": [
    "## Logging\n",
    "\n",
    "Normally Xopt will not issue print statments, and instead issue logging messages. Below will enable these to be seen in the notebook"
   ]
  },
  {
   "cell_type": "code",
   "execution_count": 17,
   "metadata": {
    "execution": {
     "iopub.execute_input": "2023-06-29T21:03:16.698011Z",
     "iopub.status.busy": "2023-06-29T21:03:16.697782Z",
     "iopub.status.idle": "2023-06-29T21:03:16.701051Z",
     "shell.execute_reply": "2023-06-29T21:03:16.700393Z"
    }
   },
   "outputs": [],
   "source": [
    "# Notebook printing output\n",
    "from xopt import output_notebook\n",
    "output_notebook()"
   ]
  },
  {
   "cell_type": "code",
   "execution_count": 18,
   "metadata": {
    "execution": {
     "iopub.execute_input": "2023-06-29T21:03:16.703862Z",
     "iopub.status.busy": "2023-06-29T21:03:16.703646Z",
     "iopub.status.idle": "2023-06-29T21:03:16.711094Z",
     "shell.execute_reply": "2023-06-29T21:03:16.710555Z"
    }
   },
   "outputs": [
    {
     "name": "stdout",
     "output_type": "stream",
     "text": [
      "Running Xopt step\n"
     ]
    }
   ],
   "source": [
    "X.step()"
   ]
  }
 ],
 "metadata": {
  "interpreter": {
   "hash": "72034539424920dfb606fe3b820b3f27dca0cbf1c69938110810ec4641e275b1"
  },
  "kernelspec": {
   "display_name": "Python 3.9.12 ('xopt-dev')",
   "language": "python",
   "name": "python3"
  },
  "language_info": {
   "codemirror_mode": {
    "name": "ipython",
    "version": 3
   },
   "file_extension": ".py",
   "mimetype": "text/x-python",
   "name": "python",
   "nbconvert_exporter": "python",
   "pygments_lexer": "ipython3",
   "version": "3.9.16"
  }
 },
 "nbformat": 4,
 "nbformat_minor": 4
}
