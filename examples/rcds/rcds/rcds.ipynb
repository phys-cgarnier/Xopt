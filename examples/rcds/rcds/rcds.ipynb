{
 "cells": [
  {
   "cell_type": "markdown",
   "id": "6f4b8676-940b-4a69-b495-df62bbc6e2fa",
   "metadata": {},
   "source": [
    "## RCDS Optimization\n",
    "\n",
    "In this example we demonstrate RCDS optimization."
   ]
  },
  {
   "cell_type": "code",
   "execution_count": 1,
   "id": "d05700a3-6853-4dae-bc87-3f9f37dea446",
   "metadata": {
    "execution": {
     "iopub.execute_input": "2023-06-09T14:58:09.287842Z",
     "iopub.status.busy": "2023-06-09T14:58:09.287395Z",
     "iopub.status.idle": "2023-06-09T14:58:09.296600Z",
     "shell.execute_reply": "2023-06-09T14:58:09.295739Z"
    }
   },
   "outputs": [],
   "source": [
    "# If you encounter the \"Initializing libomp.dylib, but found libomp.dylib already initialized.\" error\n",
    "# Please run this cell\n",
    "\n",
    "import os\n",
    "\n",
    "os.environ['KMP_DUPLICATE_LIB_OK']='True'"
   ]
  },
  {
   "cell_type": "code",
   "execution_count": 2,
   "id": "78534aeb-5ab2-4a3c-964c-4e080c7e953f",
   "metadata": {
    "execution": {
     "iopub.execute_input": "2023-06-09T14:58:09.300184Z",
     "iopub.status.busy": "2023-06-09T14:58:09.299902Z",
     "iopub.status.idle": "2023-06-09T14:58:11.709508Z",
     "shell.execute_reply": "2023-06-09T14:58:11.708643Z"
    }
   },
   "outputs": [],
   "source": [
    "import time\n",
    "import numpy as np\n",
    "from xopt.generators.rcds.rcds import RCDSGenerator\n",
    "from xopt.vocs import VOCS\n",
    "from xopt.evaluator import Evaluator\n",
    "from xopt import Xopt\n",
    "import pandas as pd\n",
    "from tqdm.auto import tqdm\n",
    "import warnings\n",
    "warnings.filterwarnings(\"ignore\")"
   ]
  },
  {
   "cell_type": "markdown",
   "id": "fe8297c8-90e2-4e40-ab0b-63a9fe655aed",
   "metadata": {},
   "source": [
    "### RCDS test problem\n",
    "\n",
    "This test problem is a 2-D quadratic function."
   ]
  },
  {
   "cell_type": "code",
   "execution_count": 3,
   "id": "35171e8a-ea8f-4cbb-b1a0-d01213e0bbcc",
   "metadata": {
    "execution": {
     "iopub.execute_input": "2023-06-09T14:58:11.713466Z",
     "iopub.status.busy": "2023-06-09T14:58:11.713123Z",
     "iopub.status.idle": "2023-06-09T14:58:11.723228Z",
     "shell.execute_reply": "2023-06-09T14:58:11.722452Z"
    }
   },
   "outputs": [],
   "source": [
    "def f_RCDS_minimize(input_dict):\n",
    "    p = []\n",
    "    for i in range(2):\n",
    "        p.append(input_dict[f'p{i}'])\n",
    "    \n",
    "    obj = np.linalg.norm(p)\n",
    "    outcome_dict = {'f': obj}\n",
    "    \n",
    "    return outcome_dict"
   ]
  },
  {
   "cell_type": "markdown",
   "id": "9638b784-fa2f-4a94-900c-c66c8b0ea58b",
   "metadata": {},
   "source": [
    "### Run RCDS on the test problem (YAML method)"
   ]
  },
  {
   "cell_type": "code",
   "execution_count": 4,
   "id": "8fac03d4-64f7-4773-973c-850b977a888e",
   "metadata": {
    "execution": {
     "iopub.execute_input": "2023-06-09T14:58:11.726524Z",
     "iopub.status.busy": "2023-06-09T14:58:11.726278Z",
     "iopub.status.idle": "2023-06-09T14:58:11.749541Z",
     "shell.execute_reply": "2023-06-09T14:58:11.748887Z"
    }
   },
   "outputs": [
    {
     "data": {
      "text/plain": [
       "\n",
       "            Xopt\n",
       "________________________________\n",
       "Version: 0+untagged.1.g0fc2832\n",
       "Data size: 0\n",
       "Config as YAML:\n",
       "xopt: {asynch: false, strict: false, dump_file: null, max_evaluations: 400}\n",
       "generator: {name: rcds, x0: null, init_mat: null, noise: 1.0e-05, step: 0.01, tol: 1.0e-05}\n",
       "evaluator:\n",
       "  function: __main__.f_RCDS_minimize\n",
       "  max_workers: 1\n",
       "  function_kwargs: {}\n",
       "  vectorized: false\n",
       "vocs:\n",
       "  variables:\n",
       "    p0: [0.0, 1.0]\n",
       "    p1: [0.0, 1.0]\n",
       "  constraints: {}\n",
       "  objectives: {f: MINIMIZE}\n",
       "  constants: {}\n",
       "  linked_variables: {}\n"
      ]
     },
     "execution_count": 4,
     "metadata": {},
     "output_type": "execute_result"
    }
   ],
   "source": [
    "YAML = \"\"\"\n",
    "xopt:\n",
    "    max_evaluations: 400\n",
    "generator:\n",
    "    name: rcds\n",
    "    x0: null\n",
    "    init_mat: null\n",
    "    noise: 0.00001\n",
    "    step: 0.01\n",
    "    tol: 0.00001\n",
    "evaluator:\n",
    "    function: __main__.f_RCDS_minimize\n",
    "vocs:\n",
    "    variables:\n",
    "        p0: [0, 1]\n",
    "        p1: [0, 1]\n",
    "    objectives:\n",
    "        f: MINIMIZE\n",
    "\"\"\"\n",
    "\n",
    "X = Xopt(YAML)\n",
    "X"
   ]
  },
  {
   "cell_type": "code",
   "execution_count": 5,
   "id": "e16ab267-8b5e-4616-b552-2b0410c5b75f",
   "metadata": {
    "execution": {
     "iopub.execute_input": "2023-06-09T14:58:11.753155Z",
     "iopub.status.busy": "2023-06-09T14:58:11.752636Z",
     "iopub.status.idle": "2023-06-09T14:58:13.354095Z",
     "shell.execute_reply": "2023-06-09T14:58:13.353150Z"
    },
    "tags": []
   },
   "outputs": [],
   "source": [
    "X.run()"
   ]
  },
  {
   "cell_type": "markdown",
   "id": "54acb14d-2b25-4f2e-a3e9-fecb61af552f",
   "metadata": {},
   "source": [
    "Now you can go directly to the [Visualization](#Visualization) section and check out the results."
   ]
  },
  {
   "cell_type": "markdown",
   "id": "4d688915-bdca-4d0f-baaa-5c50cfd80d79",
   "metadata": {},
   "source": [
    "### Run RCDS on the test problem (API method)"
   ]
  },
  {
   "cell_type": "markdown",
   "id": "8f0a6f75-7f92-47ee-828d-ad7435932cf2",
   "metadata": {},
   "source": [
    "#### VOCS\n",
    "\n",
    "We'll set the bounds for all the variables pi to [0, 1]."
   ]
  },
  {
   "cell_type": "code",
   "execution_count": 6,
   "id": "bd028b25-f395-43ed-8473-2dc950ff72c3",
   "metadata": {
    "execution": {
     "iopub.execute_input": "2023-06-09T14:58:13.358487Z",
     "iopub.status.busy": "2023-06-09T14:58:13.357843Z",
     "iopub.status.idle": "2023-06-09T14:58:13.362044Z",
     "shell.execute_reply": "2023-06-09T14:58:13.361207Z"
    }
   },
   "outputs": [],
   "source": [
    "n_var = 2"
   ]
  },
  {
   "cell_type": "code",
   "execution_count": 7,
   "id": "c99026b0-f595-4247-9695-6d0b067ceeca",
   "metadata": {
    "execution": {
     "iopub.execute_input": "2023-06-09T14:58:13.365548Z",
     "iopub.status.busy": "2023-06-09T14:58:13.365278Z",
     "iopub.status.idle": "2023-06-09T14:58:13.369757Z",
     "shell.execute_reply": "2023-06-09T14:58:13.368922Z"
    }
   },
   "outputs": [],
   "source": [
    "variables = {}\n",
    "for i in range(n_var):\n",
    "    variables[f'p{i}'] = [0, 1]\n",
    "\n",
    "vocs = VOCS(\n",
    "    variables=variables,\n",
    "    objectives={'f': 'MINIMIZE'},\n",
    ")"
   ]
  },
  {
   "cell_type": "code",
   "execution_count": 8,
   "id": "0af5b8c7-4b3a-4a62-b92b-539899d11109",
   "metadata": {
    "execution": {
     "iopub.execute_input": "2023-06-09T14:58:13.373139Z",
     "iopub.status.busy": "2023-06-09T14:58:13.372870Z",
     "iopub.status.idle": "2023-06-09T14:58:13.377960Z",
     "shell.execute_reply": "2023-06-09T14:58:13.377129Z"
    }
   },
   "outputs": [
    {
     "data": {
      "text/plain": [
       "VOCS(variables={'p0': [0.0, 1.0], 'p1': [0.0, 1.0]}, constraints={}, objectives={'f': 'MINIMIZE'}, constants={}, linked_variables={})"
      ]
     },
     "execution_count": 8,
     "metadata": {},
     "output_type": "execute_result"
    }
   ],
   "source": [
    "vocs"
   ]
  },
  {
   "cell_type": "markdown",
   "id": "5354659c-cc30-4d70-8659-0fefd43ef0f0",
   "metadata": {},
   "source": [
    "#### Evaluator"
   ]
  },
  {
   "cell_type": "code",
   "execution_count": 9,
   "id": "efafda0b-7282-4027-a1f3-f96454c114bd",
   "metadata": {
    "execution": {
     "iopub.execute_input": "2023-06-09T14:58:13.382083Z",
     "iopub.status.busy": "2023-06-09T14:58:13.381822Z",
     "iopub.status.idle": "2023-06-09T14:58:13.386491Z",
     "shell.execute_reply": "2023-06-09T14:58:13.385650Z"
    }
   },
   "outputs": [],
   "source": [
    "evaluator = Evaluator(function=f_RCDS_minimize)"
   ]
  },
  {
   "cell_type": "markdown",
   "id": "d6c58dcc-0b45-4408-a428-1681098a6a4a",
   "metadata": {},
   "source": [
    "#### Generator"
   ]
  },
  {
   "cell_type": "code",
   "execution_count": 10,
   "id": "41528444-1571-4760-9228-1f1de0267ada",
   "metadata": {
    "execution": {
     "iopub.execute_input": "2023-06-09T14:58:13.389807Z",
     "iopub.status.busy": "2023-06-09T14:58:13.389535Z",
     "iopub.status.idle": "2023-06-09T14:58:13.393402Z",
     "shell.execute_reply": "2023-06-09T14:58:13.392569Z"
    }
   },
   "outputs": [],
   "source": [
    "options = RCDSGenerator.default_options()"
   ]
  },
  {
   "cell_type": "code",
   "execution_count": 11,
   "id": "955ad8ae-bd33-4ad0-bf9c-5844a1c16443",
   "metadata": {
    "execution": {
     "iopub.execute_input": "2023-06-09T14:58:13.397084Z",
     "iopub.status.busy": "2023-06-09T14:58:13.396810Z",
     "iopub.status.idle": "2023-06-09T14:58:13.402078Z",
     "shell.execute_reply": "2023-06-09T14:58:13.401243Z"
    }
   },
   "outputs": [
    {
     "data": {
      "text/plain": [
       "{'x0': None, 'init_mat': None, 'noise': 1e-05, 'step': 0.01, 'tol': 1e-05}"
      ]
     },
     "execution_count": 11,
     "metadata": {},
     "output_type": "execute_result"
    }
   ],
   "source": [
    "options.dict()"
   ]
  },
  {
   "cell_type": "code",
   "execution_count": 12,
   "id": "445daa23-5f97-4a82-bd59-57d9cbae6ac1",
   "metadata": {
    "execution": {
     "iopub.execute_input": "2023-06-09T14:58:13.406150Z",
     "iopub.status.busy": "2023-06-09T14:58:13.405879Z",
     "iopub.status.idle": "2023-06-09T14:58:13.410507Z",
     "shell.execute_reply": "2023-06-09T14:58:13.409673Z"
    }
   },
   "outputs": [],
   "source": [
    "generator = RCDSGenerator(vocs, options)"
   ]
  },
  {
   "cell_type": "markdown",
   "id": "f4981983-1e64-43a1-ac90-f88546f9650a",
   "metadata": {},
   "source": [
    "#### Run the optimization"
   ]
  },
  {
   "cell_type": "code",
   "execution_count": 13,
   "id": "10c77281-f49c-4cf7-bb2d-8a278cf00e23",
   "metadata": {
    "execution": {
     "iopub.execute_input": "2023-06-09T14:58:13.415262Z",
     "iopub.status.busy": "2023-06-09T14:58:13.414984Z",
     "iopub.status.idle": "2023-06-09T14:58:13.420044Z",
     "shell.execute_reply": "2023-06-09T14:58:13.419197Z"
    }
   },
   "outputs": [],
   "source": [
    "X = Xopt(vocs=vocs, evaluator=evaluator, generator=generator)"
   ]
  },
  {
   "cell_type": "code",
   "execution_count": 14,
   "id": "78b104b2-7b6b-40b6-9a5c-f84b0e547403",
   "metadata": {
    "execution": {
     "iopub.execute_input": "2023-06-09T14:58:13.423615Z",
     "iopub.status.busy": "2023-06-09T14:58:13.423128Z",
     "iopub.status.idle": "2023-06-09T14:58:15.141824Z",
     "shell.execute_reply": "2023-06-09T14:58:15.141046Z"
    },
    "tags": []
   },
   "outputs": [
    {
     "data": {
      "application/vnd.jupyter.widget-view+json": {
       "model_id": "a538b60601b34722a90cbd4154fd25fd",
       "version_major": 2,
       "version_minor": 0
      },
      "text/plain": [
       "  0%|          | 0/400 [00:00<?, ?it/s]"
      ]
     },
     "metadata": {},
     "output_type": "display_data"
    }
   ],
   "source": [
    "max_eval = 400\n",
    "\n",
    "for i in tqdm(range(max_eval)):\n",
    "    X.step()"
   ]
  },
  {
   "cell_type": "markdown",
   "id": "9808d9af-a815-4995-911a-43bd9eb105da",
   "metadata": {},
   "source": [
    "### Visualization"
   ]
  },
  {
   "cell_type": "code",
   "execution_count": 15,
   "id": "651d6821-8069-4efb-8bad-56a87f7240e8",
   "metadata": {
    "execution": {
     "iopub.execute_input": "2023-06-09T14:58:15.145979Z",
     "iopub.status.busy": "2023-06-09T14:58:15.145676Z",
     "iopub.status.idle": "2023-06-09T14:58:15.872866Z",
     "shell.execute_reply": "2023-06-09T14:58:15.871779Z"
    }
   },
   "outputs": [
    {
     "data": {
      "text/plain": [
       "<Axes: >"
      ]
     },
     "execution_count": 15,
     "metadata": {},
     "output_type": "execute_result"
    },
    {
     "data": {
      "image/png": "[encoded data removed]",
      "text/plain": [
       "<Figure size 640x480 with 1 Axes>"
      ]
     },
     "metadata": {},
     "output_type": "display_data"
    }
   ],
   "source": [
    "X.data.plot(y='f')"
   ]
  },
  {
   "cell_type": "code",
   "execution_count": null,
   "id": "c1c4cfbe-c325-4e74-a778-ffe88aa97c37",
   "metadata": {},
   "outputs": [],
   "source": []
  }
 ],
 "metadata": {
  "kernelspec": {
   "display_name": "Python 3 (ipykernel)",
   "language": "python",
   "name": "python3"
  },
  "language_info": {
   "codemirror_mode": {
    "name": "ipython",
    "version": 3
   },
   "file_extension": ".py",
   "mimetype": "text/x-python",
   "name": "python",
   "nbconvert_exporter": "python",
   "pygments_lexer": "ipython3",
   "version": "3.9.16"
  },
  "widgets": {
   "application/vnd.jupyter.widget-state+json": {
    "state": {
     "0b5d5bce2d8b4c61bf4f573528bc6759": {
      "model_module": "@jupyter-widgets/controls",
      "model_module_version": "2.0.0",
      "model_name": "HTMLModel",
      "state": {
       "_dom_classes": [],
       "_model_module": "@jupyter-widgets/controls",
       "_model_module_version": "2.0.0",
       "_model_name": "HTMLModel",
       "_view_count": null,
       "_view_module": "@jupyter-widgets/controls",
       "_view_module_version": "2.0.0",
       "_view_name": "HTMLView",
       "description": "",
       "description_allow_html": false,
       "layout": "IPY_MODEL_b8c97d0d5e1e4056932daaa8a687f2f8",
       "placeholder": "​",
       "style": "IPY_MODEL_1c6a9149d0d24463b6cf841f5c8e3e8b",
       "tabbable": null,
       "tooltip": null,
       "value": " 400/400 [00:01&lt;00:00, 236.04it/s]"
      }
     },
     "1c6a9149d0d24463b6cf841f5c8e3e8b": {
      "model_module": "@jupyter-widgets/controls",
      "model_module_version": "2.0.0",
      "model_name": "HTMLStyleModel",
      "state": {
       "_model_module": "@jupyter-widgets/controls",
       "_model_module_version": "2.0.0",
       "_model_name": "HTMLStyleModel",
       "_view_count": null,
       "_view_module": "@jupyter-widgets/base",
       "_view_module_version": "2.0.0",
       "_view_name": "StyleView",
       "background": null,
       "description_width": "",
       "font_size": null,
       "text_color": null
      }
     },
     "28407aa265b541a9a5b04ed0c33b7cab": {
      "model_module": "@jupyter-widgets/controls",
      "model_module_version": "2.0.0",
      "model_name": "FloatProgressModel",
      "state": {
       "_dom_classes": [],
       "_model_module": "@jupyter-widgets/controls",
       "_model_module_version": "2.0.0",
       "_model_name": "FloatProgressModel",
       "_view_count": null,
       "_view_module": "@jupyter-widgets/controls",
       "_view_module_version": "2.0.0",
       "_view_name": "ProgressView",
       "bar_style": "success",
       "description": "",
       "description_allow_html": false,
       "layout": "IPY_MODEL_582de67146464716bbffe871b68eab74",
       "max": 400.0,
       "min": 0.0,
       "orientation": "horizontal",
       "style": "IPY_MODEL_98f1eb8ed23543c287f799eae89289f9",
       "tabbable": null,
       "tooltip": null,
       "value": 400.0
      }
     },
     "582de67146464716bbffe871b68eab74": {
      "model_module": "@jupyter-widgets/base",
      "model_module_version": "2.0.0",
      "model_name": "LayoutModel",
      "state": {
       "_model_module": "@jupyter-widgets/base",
       "_model_module_version": "2.0.0",
       "_model_name": "LayoutModel",
       "_view_count": null,
       "_view_module": "@jupyter-widgets/base",
       "_view_module_version": "2.0.0",
       "_view_name": "LayoutView",
       "align_content": null,
       "align_items": null,
       "align_self": null,
       "border_bottom": null,
       "border_left": null,
       "border_right": null,
       "border_top": null,
       "bottom": null,
       "display": null,
       "flex": null,
       "flex_flow": null,
       "grid_area": null,
       "grid_auto_columns": null,
       "grid_auto_flow": null,
       "grid_auto_rows": null,
       "grid_column": null,
       "grid_gap": null,
       "grid_row": null,
       "grid_template_areas": null,
       "grid_template_columns": null,
       "grid_template_rows": null,
       "height": null,
       "justify_content": null,
       "justify_items": null,
       "left": null,
       "margin": null,
       "max_height": null,
       "max_width": null,
       "min_height": null,
       "min_width": null,
       "object_fit": null,
       "object_position": null,
       "order": null,
       "overflow": null,
       "padding": null,
       "right": null,
       "top": null,
       "visibility": null,
       "width": null
      }
     },
     "82bd440d762148978706ae3102307fa2": {
      "model_module": "@jupyter-widgets/controls",
      "model_module_version": "2.0.0",
      "model_name": "HTMLStyleModel",
      "state": {
       "_model_module": "@jupyter-widgets/controls",
       "_model_module_version": "2.0.0",
       "_model_name": "HTMLStyleModel",
       "_view_count": null,
       "_view_module": "@jupyter-widgets/base",
       "_view_module_version": "2.0.0",
       "_view_name": "StyleView",
       "background": null,
       "description_width": "",
       "font_size": null,
       "text_color": null
      }
     },
     "8cf5b007b2d342d89594721ac734d9f2": {
      "model_module": "@jupyter-widgets/controls",
      "model_module_version": "2.0.0",
      "model_name": "HTMLModel",
      "state": {
       "_dom_classes": [],
       "_model_module": "@jupyter-widgets/controls",
       "_model_module_version": "2.0.0",
       "_model_name": "HTMLModel",
       "_view_count": null,
       "_view_module": "@jupyter-widgets/controls",
       "_view_module_version": "2.0.0",
       "_view_name": "HTMLView",
       "description": "",
       "description_allow_html": false,
       "layout": "IPY_MODEL_a507e07e1e2c48fdb634bb5e837279b6",
       "placeholder": "​",
       "style": "IPY_MODEL_82bd440d762148978706ae3102307fa2",
       "tabbable": null,
       "tooltip": null,
       "value": "100%"
      }
     },
     "908895b5ba68467ebfcae812b6e6b79f": {
      "model_module": "@jupyter-widgets/base",
      "model_module_version": "2.0.0",
      "model_name": "LayoutModel",
      "state": {
       "_model_module": "@jupyter-widgets/base",
       "_model_module_version": "2.0.0",
       "_model_name": "LayoutModel",
       "_view_count": null,
       "_view_module": "@jupyter-widgets/base",
       "_view_module_version": "2.0.0",
       "_view_name": "LayoutView",
       "align_content": null,
       "align_items": null,
       "align_self": null,
       "border_bottom": null,
       "border_left": null,
       "border_right": null,
       "border_top": null,
       "bottom": null,
       "display": null,
       "flex": null,
       "flex_flow": null,
       "grid_area": null,
       "grid_auto_columns": null,
       "grid_auto_flow": null,
       "grid_auto_rows": null,
       "grid_column": null,
       "grid_gap": null,
       "grid_row": null,
       "grid_template_areas": null,
       "grid_template_columns": null,
       "grid_template_rows": null,
       "height": null,
       "justify_content": null,
       "justify_items": null,
       "left": null,
       "margin": null,
       "max_height": null,
       "max_width": null,
       "min_height": null,
       "min_width": null,
       "object_fit": null,
       "object_position": null,
       "order": null,
       "overflow": null,
       "padding": null,
       "right": null,
       "top": null,
       "visibility": null,
       "width": null
      }
     },
     "98f1eb8ed23543c287f799eae89289f9": {
      "model_module": "@jupyter-widgets/controls",
      "model_module_version": "2.0.0",
      "model_name": "ProgressStyleModel",
      "state": {
       "_model_module": "@jupyter-widgets/controls",
       "_model_module_version": "2.0.0",
       "_model_name": "ProgressStyleModel",
       "_view_count": null,
       "_view_module": "@jupyter-widgets/base",
       "_view_module_version": "2.0.0",
       "_view_name": "StyleView",
       "bar_color": null,
       "description_width": ""
      }
     },
     "a507e07e1e2c48fdb634bb5e837279b6": {
      "model_module": "@jupyter-widgets/base",
      "model_module_version": "2.0.0",
      "model_name": "LayoutModel",
      "state": {
       "_model_module": "@jupyter-widgets/base",
       "_model_module_version": "2.0.0",
       "_model_name": "LayoutModel",
       "_view_count": null,
       "_view_module": "@jupyter-widgets/base",
       "_view_module_version": "2.0.0",
       "_view_name": "LayoutView",
       "align_content": null,
       "align_items": null,
       "align_self": null,
       "border_bottom": null,
       "border_left": null,
       "border_right": null,
       "border_top": null,
       "bottom": null,
       "display": null,
       "flex": null,
       "flex_flow": null,
       "grid_area": null,
       "grid_auto_columns": null,
       "grid_auto_flow": null,
       "grid_auto_rows": null,
       "grid_column": null,
       "grid_gap": null,
       "grid_row": null,
       "grid_template_areas": null,
       "grid_template_columns": null,
       "grid_template_rows": null,
       "height": null,
       "justify_content": null,
       "justify_items": null,
       "left": null,
       "margin": null,
       "max_height": null,
       "max_width": null,
       "min_height": null,
       "min_width": null,
       "object_fit": null,
       "object_position": null,
       "order": null,
       "overflow": null,
       "padding": null,
       "right": null,
       "top": null,
       "visibility": null,
       "width": null
      }
     },
     "a538b60601b34722a90cbd4154fd25fd": {
      "model_module": "@jupyter-widgets/controls",
      "model_module_version": "2.0.0",
      "model_name": "HBoxModel",
      "state": {
       "_dom_classes": [],
       "_model_module": "@jupyter-widgets/controls",
       "_model_module_version": "2.0.0",
       "_model_name": "HBoxModel",
       "_view_count": null,
       "_view_module": "@jupyter-widgets/controls",
       "_view_module_version": "2.0.0",
       "_view_name": "HBoxView",
       "box_style": "",
       "children": [
        "IPY_MODEL_8cf5b007b2d342d89594721ac734d9f2",
        "IPY_MODEL_28407aa265b541a9a5b04ed0c33b7cab",
        "IPY_MODEL_0b5d5bce2d8b4c61bf4f573528bc6759"
       ],
       "layout": "IPY_MODEL_908895b5ba68467ebfcae812b6e6b79f",
       "tabbable": null,
       "tooltip": null
      }
     },
     "b8c97d0d5e1e4056932daaa8a687f2f8": {
      "model_module": "@jupyter-widgets/base",
      "model_module_version": "2.0.0",
      "model_name": "LayoutModel",
      "state": {
       "_model_module": "@jupyter-widgets/base",
       "_model_module_version": "2.0.0",
       "_model_name": "LayoutModel",
       "_view_count": null,
       "_view_module": "@jupyter-widgets/base",
       "_view_module_version": "2.0.0",
       "_view_name": "LayoutView",
       "align_content": null,
       "align_items": null,
       "align_self": null,
       "border_bottom": null,
       "border_left": null,
       "border_right": null,
       "border_top": null,
       "bottom": null,
       "display": null,
       "flex": null,
       "flex_flow": null,
       "grid_area": null,
       "grid_auto_columns": null,
       "grid_auto_flow": null,
       "grid_auto_rows": null,
       "grid_column": null,
       "grid_gap": null,
       "grid_row": null,
       "grid_template_areas": null,
       "grid_template_columns": null,
       "grid_template_rows": null,
       "height": null,
       "justify_content": null,
       "justify_items": null,
       "left": null,
       "margin": null,
       "max_height": null,
       "max_width": null,
       "min_height": null,
       "min_width": null,
       "object_fit": null,
       "object_position": null,
       "order": null,
       "overflow": null,
       "padding": null,
       "right": null,
       "top": null,
       "visibility": null,
       "width": null
      }
     }
    },
    "version_major": 2,
    "version_minor": 0
   }
  }
 },
 "nbformat": 4,
 "nbformat_minor": 5
}
