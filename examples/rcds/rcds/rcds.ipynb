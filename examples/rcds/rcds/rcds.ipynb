{
 "cells": [
  {
   "cell_type": "markdown",
   "id": "6f4b8676-940b-4a69-b495-df62bbc6e2fa",
   "metadata": {},
   "source": [
    "## RCDS Optimization\n",
    "\n",
    "In this example we demonstrate RCDS optimization."
   ]
  },
  {
   "cell_type": "code",
   "execution_count": 1,
   "id": "d05700a3-6853-4dae-bc87-3f9f37dea446",
   "metadata": {
    "ExecuteTime": {
     "end_time": "2023-10-26T22:16:31.208636600Z",
     "start_time": "2023-10-26T22:16:31.201806800Z"
    },
    "execution": {
     "iopub.execute_input": "2023-10-27T19:44:55.230070Z",
     "iopub.status.busy": "2023-10-27T19:44:55.229366Z",
     "iopub.status.idle": "2023-10-27T19:44:55.237005Z",
     "shell.execute_reply": "2023-10-27T19:44:55.236429Z"
    }
   },
   "outputs": [],
   "source": [
    "# If you encounter the \"Initializing libomp.dylib, but found libomp.dylib already initialized.\" error\n",
    "# Please run this cell\n",
    "\n",
    "import os\n",
    "\n",
    "os.environ['KMP_DUPLICATE_LIB_OK']='True'"
   ]
  },
  {
   "cell_type": "code",
   "execution_count": 2,
   "id": "78534aeb-5ab2-4a3c-964c-4e080c7e953f",
   "metadata": {
    "ExecuteTime": {
     "end_time": "2023-10-26T22:16:34.557495800Z",
     "start_time": "2023-10-26T22:16:31.210637400Z"
    },
    "execution": {
     "iopub.execute_input": "2023-10-27T19:44:55.240185Z",
     "iopub.status.busy": "2023-10-27T19:44:55.239660Z",
     "iopub.status.idle": "2023-10-27T19:44:57.707410Z",
     "shell.execute_reply": "2023-10-27T19:44:57.706648Z"
    }
   },
   "outputs": [],
   "source": [
    "import time\n",
    "import numpy as np\n",
    "from xopt.generators.rcds.rcds import RCDSGenerator\n",
    "from xopt.vocs import VOCS\n",
    "from xopt.evaluator import Evaluator\n",
    "from xopt import Xopt\n",
    "import pandas as pd\n",
    "from tqdm.auto import tqdm\n",
    "import warnings\n",
    "warnings.filterwarnings(\"ignore\")"
   ]
  },
  {
   "cell_type": "markdown",
   "id": "fe8297c8-90e2-4e40-ab0b-63a9fe655aed",
   "metadata": {},
   "source": [
    "### RCDS test problem\n",
    "\n",
    "This test problem is a 2-D quadratic function."
   ]
  },
  {
   "cell_type": "code",
   "execution_count": 3,
   "id": "35171e8a-ea8f-4cbb-b1a0-d01213e0bbcc",
   "metadata": {
    "ExecuteTime": {
     "end_time": "2023-10-26T22:16:34.571463700Z",
     "start_time": "2023-10-26T22:16:34.559463800Z"
    },
    "execution": {
     "iopub.execute_input": "2023-10-27T19:44:57.711373Z",
     "iopub.status.busy": "2023-10-27T19:44:57.710680Z",
     "iopub.status.idle": "2023-10-27T19:44:57.715875Z",
     "shell.execute_reply": "2023-10-27T19:44:57.715237Z"
    }
   },
   "outputs": [],
   "source": [
    "def f_RCDS_minimize(input_dict):\n",
    "    p = []\n",
    "    for i in range(2):\n",
    "        p.append(input_dict[f'p{i}'])\n",
    "    \n",
    "    obj = np.linalg.norm(p)\n",
    "    outcome_dict = {'f': obj}\n",
    "    \n",
    "    return outcome_dict"
   ]
  },
  {
   "cell_type": "markdown",
   "id": "9638b784-fa2f-4a94-900c-c66c8b0ea58b",
   "metadata": {},
   "source": [
    "### Run RCDS on the test problem (YAML method)"
   ]
  },
  {
   "cell_type": "code",
   "execution_count": 4,
   "id": "8fac03d4-64f7-4773-973c-850b977a888e",
   "metadata": {
    "ExecuteTime": {
     "end_time": "2023-10-26T22:16:34.602490200Z",
     "start_time": "2023-10-26T22:16:34.576462200Z"
    },
    "execution": {
     "iopub.execute_input": "2023-10-27T19:44:57.718942Z",
     "iopub.status.busy": "2023-10-27T19:44:57.718718Z",
     "iopub.status.idle": "2023-10-27T19:44:57.739422Z",
     "shell.execute_reply": "2023-10-27T19:44:57.738882Z"
    }
   },
   "outputs": [
    {
     "data": {
      "text/plain": [
       "\n",
       "            Xopt\n",
       "________________________________\n",
       "Version: 0+untagged.1.g4e79982\n",
       "Data size: 0\n",
       "Config as YAML:\n",
       "dump_file: null\n",
       "evaluator:\n",
       "  function: __main__.f_RCDS_minimize\n",
       "  function_kwargs: {}\n",
       "  max_workers: 1\n",
       "  vectorized: false\n",
       "generator:\n",
       "  init_mat: null\n",
       "  name: rcds\n",
       "  noise: 1.0e-05\n",
       "  step: 0.01\n",
       "  tol: 1.0e-05\n",
       "  x0: null\n",
       "max_evaluations: 100\n",
       "serialize_inline: false\n",
       "serialize_torch: false\n",
       "strict: true\n",
       "vocs:\n",
       "  constants: {}\n",
       "  constraints: {}\n",
       "  objectives:\n",
       "    f: MINIMIZE\n",
       "  observables: []\n",
       "  variables:\n",
       "    p0:\n",
       "    - 0.0\n",
       "    - 1.0\n",
       "    p1:\n",
       "    - 0.0\n",
       "    - 1.0\n"
      ]
     },
     "execution_count": 4,
     "metadata": {},
     "output_type": "execute_result"
    }
   ],
   "source": [
    "YAML = \"\"\"\n",
    "max_evaluations: 100\n",
    "generator:\n",
    "    name: rcds\n",
    "    x0: null\n",
    "    init_mat: null\n",
    "    noise: 0.00001\n",
    "    step: 0.01\n",
    "    tol: 0.00001\n",
    "evaluator:\n",
    "    function: __main__.f_RCDS_minimize\n",
    "vocs:\n",
    "    variables:\n",
    "        p0: [0, 1]\n",
    "        p1: [0, 1]\n",
    "    objectives:\n",
    "        f: MINIMIZE\n",
    "\"\"\"\n",
    "\n",
    "X = Xopt.from_yaml(YAML)\n",
    "X"
   ]
  },
  {
   "cell_type": "code",
   "execution_count": 5,
   "id": "e16ab267-8b5e-4616-b552-2b0410c5b75f",
   "metadata": {
    "ExecuteTime": {
     "end_time": "2023-10-26T22:16:35.201462800Z",
     "start_time": "2023-10-26T22:16:34.607463300Z"
    },
    "execution": {
     "iopub.execute_input": "2023-10-27T19:44:57.742268Z",
     "iopub.status.busy": "2023-10-27T19:44:57.741731Z",
     "iopub.status.idle": "2023-10-27T19:44:58.357570Z",
     "shell.execute_reply": "2023-10-27T19:44:58.356879Z"
    },
    "tags": []
   },
   "outputs": [],
   "source": [
    "X.run()"
   ]
  },
  {
   "cell_type": "markdown",
   "id": "54acb14d-2b25-4f2e-a3e9-fecb61af552f",
   "metadata": {},
   "source": [
    "Now you can go directly to the [Visualization](#Visualization) section and check out the results."
   ]
  },
  {
   "cell_type": "markdown",
   "id": "4d688915-bdca-4d0f-baaa-5c50cfd80d79",
   "metadata": {},
   "source": [
    "### Run RCDS on the test problem (API method)"
   ]
  },
  {
   "cell_type": "markdown",
   "id": "8f0a6f75-7f92-47ee-828d-ad7435932cf2",
   "metadata": {},
   "source": [
    "#### VOCS\n",
    "\n",
    "We'll set the bounds for all the variables pi to [0, 1]."
   ]
  },
  {
   "cell_type": "code",
   "execution_count": 6,
   "id": "bd028b25-f395-43ed-8473-2dc950ff72c3",
   "metadata": {
    "ExecuteTime": {
     "end_time": "2023-10-26T22:16:35.216462Z",
     "start_time": "2023-10-26T22:16:35.204461300Z"
    },
    "execution": {
     "iopub.execute_input": "2023-10-27T19:44:58.362302Z",
     "iopub.status.busy": "2023-10-27T19:44:58.360842Z",
     "iopub.status.idle": "2023-10-27T19:44:58.365044Z",
     "shell.execute_reply": "2023-10-27T19:44:58.364400Z"
    }
   },
   "outputs": [],
   "source": [
    "n_var = 2"
   ]
  },
  {
   "cell_type": "code",
   "execution_count": 7,
   "id": "c99026b0-f595-4247-9695-6d0b067ceeca",
   "metadata": {
    "ExecuteTime": {
     "end_time": "2023-10-26T22:16:35.239487Z",
     "start_time": "2023-10-26T22:16:35.218462900Z"
    },
    "execution": {
     "iopub.execute_input": "2023-10-27T19:44:58.368182Z",
     "iopub.status.busy": "2023-10-27T19:44:58.367666Z",
     "iopub.status.idle": "2023-10-27T19:44:58.372546Z",
     "shell.execute_reply": "2023-10-27T19:44:58.371973Z"
    }
   },
   "outputs": [],
   "source": [
    "variables = {}\n",
    "for i in range(n_var):\n",
    "    variables[f'p{i}'] = [0, 1]\n",
    "\n",
    "vocs = VOCS(\n",
    "    variables=variables,\n",
    "    objectives={'f': 'MINIMIZE'},\n",
    ")"
   ]
  },
  {
   "cell_type": "code",
   "execution_count": 8,
   "id": "0af5b8c7-4b3a-4a62-b92b-539899d11109",
   "metadata": {
    "ExecuteTime": {
     "end_time": "2023-10-26T22:16:35.247462100Z",
     "start_time": "2023-10-26T22:16:35.233463200Z"
    },
    "execution": {
     "iopub.execute_input": "2023-10-27T19:44:58.375523Z",
     "iopub.status.busy": "2023-10-27T19:44:58.375015Z",
     "iopub.status.idle": "2023-10-27T19:44:58.381109Z",
     "shell.execute_reply": "2023-10-27T19:44:58.380570Z"
    }
   },
   "outputs": [
    {
     "data": {
      "text/plain": [
       "VOCS(variables={'p0': [0.0, 1.0], 'p1': [0.0, 1.0]}, constraints={}, objectives={'f': 'MINIMIZE'}, constants={}, observables=[])"
      ]
     },
     "execution_count": 8,
     "metadata": {},
     "output_type": "execute_result"
    }
   ],
   "source": [
    "vocs"
   ]
  },
  {
   "cell_type": "markdown",
   "id": "5354659c-cc30-4d70-8659-0fefd43ef0f0",
   "metadata": {},
   "source": [
    "#### Evaluator"
   ]
  },
  {
   "cell_type": "code",
   "execution_count": 9,
   "id": "efafda0b-7282-4027-a1f3-f96454c114bd",
   "metadata": {
    "ExecuteTime": {
     "end_time": "2023-10-26T22:16:35.290491Z",
     "start_time": "2023-10-26T22:16:35.249462300Z"
    },
    "execution": {
     "iopub.execute_input": "2023-10-27T19:44:58.384233Z",
     "iopub.status.busy": "2023-10-27T19:44:58.383638Z",
     "iopub.status.idle": "2023-10-27T19:44:58.388820Z",
     "shell.execute_reply": "2023-10-27T19:44:58.388272Z"
    }
   },
   "outputs": [],
   "source": [
    "evaluator = Evaluator(function=f_RCDS_minimize)"
   ]
  },
  {
   "cell_type": "markdown",
   "id": "d6c58dcc-0b45-4408-a428-1681098a6a4a",
   "metadata": {},
   "source": [
    "#### Generator"
   ]
  },
  {
   "cell_type": "code",
   "execution_count": 10,
   "id": "445daa23-5f97-4a82-bd59-57d9cbae6ac1",
   "metadata": {
    "ExecuteTime": {
     "end_time": "2023-10-26T22:16:35.296460300Z",
     "start_time": "2023-10-26T22:16:35.263463700Z"
    },
    "execution": {
     "iopub.execute_input": "2023-10-27T19:44:58.391547Z",
     "iopub.status.busy": "2023-10-27T19:44:58.391134Z",
     "iopub.status.idle": "2023-10-27T19:44:58.394348Z",
     "shell.execute_reply": "2023-10-27T19:44:58.393716Z"
    }
   },
   "outputs": [],
   "source": [
    "generator = RCDSGenerator(vocs=vocs)"
   ]
  },
  {
   "cell_type": "code",
   "execution_count": 11,
   "id": "346fad29",
   "metadata": {
    "ExecuteTime": {
     "end_time": "2023-10-26T22:16:35.297491800Z",
     "start_time": "2023-10-26T22:16:35.290491Z"
    },
    "execution": {
     "iopub.execute_input": "2023-10-27T19:44:58.397185Z",
     "iopub.status.busy": "2023-10-27T19:44:58.396781Z",
     "iopub.status.idle": "2023-10-27T19:44:58.402856Z",
     "shell.execute_reply": "2023-10-27T19:44:58.402330Z"
    }
   },
   "outputs": [
    {
     "data": {
      "text/plain": [
       "{'x0': None, 'init_mat': None, 'noise': 1e-05, 'step': 0.01, 'tol': 1e-05}"
      ]
     },
     "execution_count": 11,
     "metadata": {},
     "output_type": "execute_result"
    }
   ],
   "source": [
    "generator.model_dump()"
   ]
  },
  {
   "cell_type": "markdown",
   "id": "f4981983-1e64-43a1-ac90-f88546f9650a",
   "metadata": {},
   "source": [
    "#### Run the optimization"
   ]
  },
  {
   "cell_type": "code",
   "execution_count": 12,
   "id": "10c77281-f49c-4cf7-bb2d-8a278cf00e23",
   "metadata": {
    "ExecuteTime": {
     "end_time": "2023-10-26T22:16:35.307490500Z",
     "start_time": "2023-10-26T22:16:35.296460300Z"
    },
    "execution": {
     "iopub.execute_input": "2023-10-27T19:44:58.405574Z",
     "iopub.status.busy": "2023-10-27T19:44:58.405165Z",
     "iopub.status.idle": "2023-10-27T19:44:58.412723Z",
     "shell.execute_reply": "2023-10-27T19:44:58.412156Z"
    }
   },
   "outputs": [],
   "source": [
    "X = Xopt.from_yaml(YAML)"
   ]
  },
  {
   "cell_type": "code",
   "execution_count": 13,
   "id": "78b104b2-7b6b-40b6-9a5c-f84b0e547403",
   "metadata": {
    "ExecuteTime": {
     "end_time": "2023-10-26T22:16:35.907460800Z",
     "start_time": "2023-10-26T22:16:35.308463400Z"
    },
    "execution": {
     "iopub.execute_input": "2023-10-27T19:44:58.415446Z",
     "iopub.status.busy": "2023-10-27T19:44:58.414940Z",
     "iopub.status.idle": "2023-10-27T19:44:59.041524Z",
     "shell.execute_reply": "2023-10-27T19:44:59.040913Z"
    },
    "tags": []
   },
   "outputs": [
    {
     "data": {
      "application/vnd.jupyter.widget-view+json": {
       "model_id": "978e387ea6f84e5783602e43299b71a9",
       "version_major": 2,
       "version_minor": 0
      },
      "text/plain": [
       "  0%|          | 0/100 [00:00<?, ?it/s]"
      ]
     },
     "metadata": {},
     "output_type": "display_data"
    }
   ],
   "source": [
    "\n",
    "for i in tqdm(range(X.max_evaluations)):\n",
    "    X.step()"
   ]
  },
  {
   "cell_type": "markdown",
   "id": "9808d9af-a815-4995-911a-43bd9eb105da",
   "metadata": {},
   "source": [
    "### Visualization"
   ]
  },
  {
   "cell_type": "code",
   "execution_count": 14,
   "id": "651d6821-8069-4efb-8bad-56a87f7240e8",
   "metadata": {
    "ExecuteTime": {
     "end_time": "2023-10-26T22:16:36.402079200Z",
     "start_time": "2023-10-26T22:16:35.911052600Z"
    },
    "execution": {
     "iopub.execute_input": "2023-10-27T19:44:59.044862Z",
     "iopub.status.busy": "2023-10-27T19:44:59.044412Z",
     "iopub.status.idle": "2023-10-27T19:44:59.518861Z",
     "shell.execute_reply": "2023-10-27T19:44:59.518291Z"
    }
   },
   "outputs": [
    {
     "data": {
      "text/plain": [
       "<Axes: >"
      ]
     },
     "execution_count": 14,
     "metadata": {},
     "output_type": "execute_result"
    },
    {
     "data": {
      "image/png": "[encoded data removed]",
      "text/plain": [
       "<Figure size 640x480 with 1 Axes>"
      ]
     },
     "metadata": {},
     "output_type": "display_data"
    }
   ],
   "source": [
    "X.data.plot(y='f')"
   ]
  },
  {
   "cell_type": "code",
   "execution_count": 14,
   "id": "c1c4cfbe-c325-4e74-a778-ffe88aa97c37",
   "metadata": {
    "ExecuteTime": {
     "end_time": "2023-10-26T22:16:36.432076900Z",
     "start_time": "2023-10-26T22:16:36.404048700Z"
    }
   },
   "outputs": [],
   "source": []
  }
 ],
 "metadata": {
  "kernelspec": {
   "display_name": "Python 3 (ipykernel)",
   "language": "python",
   "name": "python3"
  },
  "language_info": {
   "codemirror_mode": {
    "name": "ipython",
    "version": 3
   },
   "file_extension": ".py",
   "mimetype": "text/x-python",
   "name": "python",
   "nbconvert_exporter": "python",
   "pygments_lexer": "ipython3",
   "version": "3.9.18"
  },
  "widgets": {
   "application/vnd.jupyter.widget-state+json": {
    "state": {
     "15be5fd0217f4f158337e6bfe3d8ff2f": {
      "model_module": "@jupyter-widgets/base",
      "model_module_version": "2.0.0",
      "model_name": "LayoutModel",
      "state": {
       "_model_module": "@jupyter-widgets/base",
       "_model_module_version": "2.0.0",
       "_model_name": "LayoutModel",
       "_view_count": null,
       "_view_module": "@jupyter-widgets/base",
       "_view_module_version": "2.0.0",
       "_view_name": "LayoutView",
       "align_content": null,
       "align_items": null,
       "align_self": null,
       "border_bottom": null,
       "border_left": null,
       "border_right": null,
       "border_top": null,
       "bottom": null,
       "display": null,
       "flex": null,
       "flex_flow": null,
       "grid_area": null,
       "grid_auto_columns": null,
       "grid_auto_flow": null,
       "grid_auto_rows": null,
       "grid_column": null,
       "grid_gap": null,
       "grid_row": null,
       "grid_template_areas": null,
       "grid_template_columns": null,
       "grid_template_rows": null,
       "height": null,
       "justify_content": null,
       "justify_items": null,
       "left": null,
       "margin": null,
       "max_height": null,
       "max_width": null,
       "min_height": null,
       "min_width": null,
       "object_fit": null,
       "object_position": null,
       "order": null,
       "overflow": null,
       "padding": null,
       "right": null,
       "top": null,
       "visibility": null,
       "width": null
      }
     },
     "2e97756cf0b9437993f9a2048d1e14b9": {
      "model_module": "@jupyter-widgets/controls",
      "model_module_version": "2.0.0",
      "model_name": "HTMLStyleModel",
      "state": {
       "_model_module": "@jupyter-widgets/controls",
       "_model_module_version": "2.0.0",
       "_model_name": "HTMLStyleModel",
       "_view_count": null,
       "_view_module": "@jupyter-widgets/base",
       "_view_module_version": "2.0.0",
       "_view_name": "StyleView",
       "background": null,
       "description_width": "",
       "font_size": null,
       "text_color": null
      }
     },
     "41ae85bf0c7c4c8089a627a716ff58fa": {
      "model_module": "@jupyter-widgets/controls",
      "model_module_version": "2.0.0",
      "model_name": "ProgressStyleModel",
      "state": {
       "_model_module": "@jupyter-widgets/controls",
       "_model_module_version": "2.0.0",
       "_model_name": "ProgressStyleModel",
       "_view_count": null,
       "_view_module": "@jupyter-widgets/base",
       "_view_module_version": "2.0.0",
       "_view_name": "StyleView",
       "bar_color": null,
       "description_width": ""
      }
     },
     "4b614e226f214e3495f5ce476e7c467e": {
      "model_module": "@jupyter-widgets/base",
      "model_module_version": "2.0.0",
      "model_name": "LayoutModel",
      "state": {
       "_model_module": "@jupyter-widgets/base",
       "_model_module_version": "2.0.0",
       "_model_name": "LayoutModel",
       "_view_count": null,
       "_view_module": "@jupyter-widgets/base",
       "_view_module_version": "2.0.0",
       "_view_name": "LayoutView",
       "align_content": null,
       "align_items": null,
       "align_self": null,
       "border_bottom": null,
       "border_left": null,
       "border_right": null,
       "border_top": null,
       "bottom": null,
       "display": null,
       "flex": null,
       "flex_flow": null,
       "grid_area": null,
       "grid_auto_columns": null,
       "grid_auto_flow": null,
       "grid_auto_rows": null,
       "grid_column": null,
       "grid_gap": null,
       "grid_row": null,
       "grid_template_areas": null,
       "grid_template_columns": null,
       "grid_template_rows": null,
       "height": null,
       "justify_content": null,
       "justify_items": null,
       "left": null,
       "margin": null,
       "max_height": null,
       "max_width": null,
       "min_height": null,
       "min_width": null,
       "object_fit": null,
       "object_position": null,
       "order": null,
       "overflow": null,
       "padding": null,
       "right": null,
       "top": null,
       "visibility": null,
       "width": null
      }
     },
     "65eb33dfd2b04b619ee6eb74f919ac88": {
      "model_module": "@jupyter-widgets/base",
      "model_module_version": "2.0.0",
      "model_name": "LayoutModel",
      "state": {
       "_model_module": "@jupyter-widgets/base",
       "_model_module_version": "2.0.0",
       "_model_name": "LayoutModel",
       "_view_count": null,
       "_view_module": "@jupyter-widgets/base",
       "_view_module_version": "2.0.0",
       "_view_name": "LayoutView",
       "align_content": null,
       "align_items": null,
       "align_self": null,
       "border_bottom": null,
       "border_left": null,
       "border_right": null,
       "border_top": null,
       "bottom": null,
       "display": null,
       "flex": null,
       "flex_flow": null,
       "grid_area": null,
       "grid_auto_columns": null,
       "grid_auto_flow": null,
       "grid_auto_rows": null,
       "grid_column": null,
       "grid_gap": null,
       "grid_row": null,
       "grid_template_areas": null,
       "grid_template_columns": null,
       "grid_template_rows": null,
       "height": null,
       "justify_content": null,
       "justify_items": null,
       "left": null,
       "margin": null,
       "max_height": null,
       "max_width": null,
       "min_height": null,
       "min_width": null,
       "object_fit": null,
       "object_position": null,
       "order": null,
       "overflow": null,
       "padding": null,
       "right": null,
       "top": null,
       "visibility": null,
       "width": null
      }
     },
     "96437298cbb94a558dad11922ab30e48": {
      "model_module": "@jupyter-widgets/controls",
      "model_module_version": "2.0.0",
      "model_name": "HTMLModel",
      "state": {
       "_dom_classes": [],
       "_model_module": "@jupyter-widgets/controls",
       "_model_module_version": "2.0.0",
       "_model_name": "HTMLModel",
       "_view_count": null,
       "_view_module": "@jupyter-widgets/controls",
       "_view_module_version": "2.0.0",
       "_view_name": "HTMLView",
       "description": "",
       "description_allow_html": false,
       "layout": "IPY_MODEL_4b614e226f214e3495f5ce476e7c467e",
       "placeholder": "​",
       "style": "IPY_MODEL_2e97756cf0b9437993f9a2048d1e14b9",
       "tabbable": null,
       "tooltip": null,
       "value": " 100/100 [00:00&lt;00:00, 162.46it/s]"
      }
     },
     "978e387ea6f84e5783602e43299b71a9": {
      "model_module": "@jupyter-widgets/controls",
      "model_module_version": "2.0.0",
      "model_name": "HBoxModel",
      "state": {
       "_dom_classes": [],
       "_model_module": "@jupyter-widgets/controls",
       "_model_module_version": "2.0.0",
       "_model_name": "HBoxModel",
       "_view_count": null,
       "_view_module": "@jupyter-widgets/controls",
       "_view_module_version": "2.0.0",
       "_view_name": "HBoxView",
       "box_style": "",
       "children": [
        "IPY_MODEL_ed94a9752aea4bb0aca5c3da359e8fef",
        "IPY_MODEL_e64f80d7976c4f419af435f6b366c371",
        "IPY_MODEL_96437298cbb94a558dad11922ab30e48"
       ],
       "layout": "IPY_MODEL_fdba5db71afe4ce6ae5e070f769952be",
       "tabbable": null,
       "tooltip": null
      }
     },
     "bd6974fae7814cf2ba4c48b57eb6e7e1": {
      "model_module": "@jupyter-widgets/controls",
      "model_module_version": "2.0.0",
      "model_name": "HTMLStyleModel",
      "state": {
       "_model_module": "@jupyter-widgets/controls",
       "_model_module_version": "2.0.0",
       "_model_name": "HTMLStyleModel",
       "_view_count": null,
       "_view_module": "@jupyter-widgets/base",
       "_view_module_version": "2.0.0",
       "_view_name": "StyleView",
       "background": null,
       "description_width": "",
       "font_size": null,
       "text_color": null
      }
     },
     "e64f80d7976c4f419af435f6b366c371": {
      "model_module": "@jupyter-widgets/controls",
      "model_module_version": "2.0.0",
      "model_name": "FloatProgressModel",
      "state": {
       "_dom_classes": [],
       "_model_module": "@jupyter-widgets/controls",
       "_model_module_version": "2.0.0",
       "_model_name": "FloatProgressModel",
       "_view_count": null,
       "_view_module": "@jupyter-widgets/controls",
       "_view_module_version": "2.0.0",
       "_view_name": "ProgressView",
       "bar_style": "success",
       "description": "",
       "description_allow_html": false,
       "layout": "IPY_MODEL_15be5fd0217f4f158337e6bfe3d8ff2f",
       "max": 100.0,
       "min": 0.0,
       "orientation": "horizontal",
       "style": "IPY_MODEL_41ae85bf0c7c4c8089a627a716ff58fa",
       "tabbable": null,
       "tooltip": null,
       "value": 100.0
      }
     },
     "ed94a9752aea4bb0aca5c3da359e8fef": {
      "model_module": "@jupyter-widgets/controls",
      "model_module_version": "2.0.0",
      "model_name": "HTMLModel",
      "state": {
       "_dom_classes": [],
       "_model_module": "@jupyter-widgets/controls",
       "_model_module_version": "2.0.0",
       "_model_name": "HTMLModel",
       "_view_count": null,
       "_view_module": "@jupyter-widgets/controls",
       "_view_module_version": "2.0.0",
       "_view_name": "HTMLView",
       "description": "",
       "description_allow_html": false,
       "layout": "IPY_MODEL_65eb33dfd2b04b619ee6eb74f919ac88",
       "placeholder": "​",
       "style": "IPY_MODEL_bd6974fae7814cf2ba4c48b57eb6e7e1",
       "tabbable": null,
       "tooltip": null,
       "value": "100%"
      }
     },
     "fdba5db71afe4ce6ae5e070f769952be": {
      "model_module": "@jupyter-widgets/base",
      "model_module_version": "2.0.0",
      "model_name": "LayoutModel",
      "state": {
       "_model_module": "@jupyter-widgets/base",
       "_model_module_version": "2.0.0",
       "_model_name": "LayoutModel",
       "_view_count": null,
       "_view_module": "@jupyter-widgets/base",
       "_view_module_version": "2.0.0",
       "_view_name": "LayoutView",
       "align_content": null,
       "align_items": null,
       "align_self": null,
       "border_bottom": null,
       "border_left": null,
       "border_right": null,
       "border_top": null,
       "bottom": null,
       "display": null,
       "flex": null,
       "flex_flow": null,
       "grid_area": null,
       "grid_auto_columns": null,
       "grid_auto_flow": null,
       "grid_auto_rows": null,
       "grid_column": null,
       "grid_gap": null,
       "grid_row": null,
       "grid_template_areas": null,
       "grid_template_columns": null,
       "grid_template_rows": null,
       "height": null,
       "justify_content": null,
       "justify_items": null,
       "left": null,
       "margin": null,
       "max_height": null,
       "max_width": null,
       "min_height": null,
       "min_width": null,
       "object_fit": null,
       "object_position": null,
       "order": null,
       "overflow": null,
       "padding": null,
       "right": null,
       "top": null,
       "visibility": null,
       "width": null
      }
     }
    },
    "version_major": 2,
    "version_minor": 0
   }
  }
 },
 "nbformat": 4,
 "nbformat_minor": 5
}
