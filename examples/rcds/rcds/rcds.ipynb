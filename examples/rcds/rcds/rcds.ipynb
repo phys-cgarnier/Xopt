{
 "cells": [
  {
   "cell_type": "markdown",
   "id": "6f4b8676-940b-4a69-b495-df62bbc6e2fa",
   "metadata": {},
   "source": [
    "## RCDS Optimization\n",
    "\n",
    "In this example we demonstrate RCDS optimization."
   ]
  },
  {
   "cell_type": "code",
   "execution_count": 1,
   "id": "d05700a3-6853-4dae-bc87-3f9f37dea446",
   "metadata": {
    "ExecuteTime": {
     "end_time": "2023-09-06T21:41:39.294512500Z",
     "start_time": "2023-09-06T21:41:39.285510100Z"
    },
    "execution": {
     "iopub.execute_input": "2023-09-14T16:04:31.394429Z",
     "iopub.status.busy": "2023-09-14T16:04:31.394012Z",
     "iopub.status.idle": "2023-09-14T16:04:31.400745Z",
     "shell.execute_reply": "2023-09-14T16:04:31.400190Z"
    }
   },
   "outputs": [],
   "source": [
    "# If you encounter the \"Initializing libomp.dylib, but found libomp.dylib already initialized.\" error\n",
    "# Please run this cell\n",
    "\n",
    "import os\n",
    "\n",
    "os.environ['KMP_DUPLICATE_LIB_OK']='True'"
   ]
  },
  {
   "cell_type": "code",
   "execution_count": 2,
   "id": "78534aeb-5ab2-4a3c-964c-4e080c7e953f",
   "metadata": {
    "ExecuteTime": {
     "end_time": "2023-09-06T21:41:42.474511Z",
     "start_time": "2023-09-06T21:41:39.296511Z"
    },
    "execution": {
     "iopub.execute_input": "2023-09-14T16:04:31.403572Z",
     "iopub.status.busy": "2023-09-14T16:04:31.403148Z",
     "iopub.status.idle": "2023-09-14T16:04:33.495273Z",
     "shell.execute_reply": "2023-09-14T16:04:33.494501Z"
    }
   },
   "outputs": [],
   "source": [
    "import time\n",
    "import numpy as np\n",
    "from xopt.generators.rcds.rcds import RCDSGenerator\n",
    "from xopt.vocs import VOCS\n",
    "from xopt.evaluator import Evaluator\n",
    "from xopt import Xopt\n",
    "import pandas as pd\n",
    "from tqdm.auto import tqdm\n",
    "import warnings\n",
    "warnings.filterwarnings(\"ignore\")"
   ]
  },
  {
   "cell_type": "markdown",
   "id": "fe8297c8-90e2-4e40-ab0b-63a9fe655aed",
   "metadata": {},
   "source": [
    "### RCDS test problem\n",
    "\n",
    "This test problem is a 2-D quadratic function."
   ]
  },
  {
   "cell_type": "code",
   "execution_count": 3,
   "id": "35171e8a-ea8f-4cbb-b1a0-d01213e0bbcc",
   "metadata": {
    "ExecuteTime": {
     "end_time": "2023-09-06T21:41:42.489511Z",
     "start_time": "2023-09-06T21:41:42.475514300Z"
    },
    "execution": {
     "iopub.execute_input": "2023-09-14T16:04:33.498974Z",
     "iopub.status.busy": "2023-09-14T16:04:33.498385Z",
     "iopub.status.idle": "2023-09-14T16:04:33.503959Z",
     "shell.execute_reply": "2023-09-14T16:04:33.503367Z"
    }
   },
   "outputs": [],
   "source": [
    "def f_RCDS_minimize(input_dict):\n",
    "    p = []\n",
    "    for i in range(2):\n",
    "        p.append(input_dict[f'p{i}'])\n",
    "    \n",
    "    obj = np.linalg.norm(p)\n",
    "    outcome_dict = {'f': obj}\n",
    "    \n",
    "    return outcome_dict"
   ]
  },
  {
   "cell_type": "markdown",
   "id": "9638b784-fa2f-4a94-900c-c66c8b0ea58b",
   "metadata": {},
   "source": [
    "### Run RCDS on the test problem (YAML method)"
   ]
  },
  {
   "cell_type": "code",
   "execution_count": 4,
   "id": "8fac03d4-64f7-4773-973c-850b977a888e",
   "metadata": {
    "ExecuteTime": {
     "end_time": "2023-09-06T21:41:42.518539600Z",
     "start_time": "2023-09-06T21:41:42.490509900Z"
    },
    "execution": {
     "iopub.execute_input": "2023-09-14T16:04:33.507115Z",
     "iopub.status.busy": "2023-09-14T16:04:33.506562Z",
     "iopub.status.idle": "2023-09-14T16:04:33.526315Z",
     "shell.execute_reply": "2023-09-14T16:04:33.525649Z"
    }
   },
   "outputs": [
    {
     "data": {
      "text/plain": [
       "\n",
       "            Xopt\n",
       "________________________________\n",
       "Version: 0+untagged.1.gaed4298\n",
       "Data size: 0\n",
       "Config as YAML:\n",
       "dump_file: null\n",
       "evaluator:\n",
       "  function: __main__.f_RCDS_minimize\n",
       "  function_kwargs: {}\n",
       "  max_workers: 1\n",
       "  vectorized: false\n",
       "generator:\n",
       "  init_mat: null\n",
       "  name: rcds\n",
       "  noise: 1.0e-05\n",
       "  step: 0.01\n",
       "  tol: 1.0e-05\n",
       "  x0: null\n",
       "max_evaluations: 100\n",
       "serialize_torch: false\n",
       "strict: true\n",
       "vocs:\n",
       "  constants: {}\n",
       "  constraints: {}\n",
       "  objectives:\n",
       "    f: MINIMIZE\n",
       "  observables: []\n",
       "  variables:\n",
       "    p0:\n",
       "    - 0.0\n",
       "    - 1.0\n",
       "    p1:\n",
       "    - 0.0\n",
       "    - 1.0\n"
      ]
     },
     "execution_count": 4,
     "metadata": {},
     "output_type": "execute_result"
    }
   ],
   "source": [
    "YAML = \"\"\"\n",
    "max_evaluations: 100\n",
    "generator:\n",
    "    name: rcds\n",
    "    x0: null\n",
    "    init_mat: null\n",
    "    noise: 0.00001\n",
    "    step: 0.01\n",
    "    tol: 0.00001\n",
    "evaluator:\n",
    "    function: __main__.f_RCDS_minimize\n",
    "vocs:\n",
    "    variables:\n",
    "        p0: [0, 1]\n",
    "        p1: [0, 1]\n",
    "    objectives:\n",
    "        f: MINIMIZE\n",
    "\"\"\"\n",
    "\n",
    "X = Xopt.from_yaml(YAML)\n",
    "X"
   ]
  },
  {
   "cell_type": "code",
   "execution_count": 5,
   "id": "e16ab267-8b5e-4616-b552-2b0410c5b75f",
   "metadata": {
    "ExecuteTime": {
     "end_time": "2023-09-06T21:41:42.927510900Z",
     "start_time": "2023-09-06T21:41:42.521511700Z"
    },
    "execution": {
     "iopub.execute_input": "2023-09-14T16:04:33.529787Z",
     "iopub.status.busy": "2023-09-14T16:04:33.529219Z",
     "iopub.status.idle": "2023-09-14T16:04:34.115298Z",
     "shell.execute_reply": "2023-09-14T16:04:34.114632Z"
    },
    "tags": []
   },
   "outputs": [],
   "source": [
    "X.run()"
   ]
  },
  {
   "cell_type": "markdown",
   "id": "54acb14d-2b25-4f2e-a3e9-fecb61af552f",
   "metadata": {},
   "source": [
    "Now you can go directly to the [Visualization](#Visualization) section and check out the results."
   ]
  },
  {
   "cell_type": "markdown",
   "id": "4d688915-bdca-4d0f-baaa-5c50cfd80d79",
   "metadata": {},
   "source": [
    "### Run RCDS on the test problem (API method)"
   ]
  },
  {
   "cell_type": "markdown",
   "id": "8f0a6f75-7f92-47ee-828d-ad7435932cf2",
   "metadata": {},
   "source": [
    "#### VOCS\n",
    "\n",
    "We'll set the bounds for all the variables pi to [0, 1]."
   ]
  },
  {
   "cell_type": "code",
   "execution_count": 6,
   "id": "bd028b25-f395-43ed-8473-2dc950ff72c3",
   "metadata": {
    "ExecuteTime": {
     "end_time": "2023-09-06T21:41:42.943510900Z",
     "start_time": "2023-09-06T21:41:42.924511100Z"
    },
    "execution": {
     "iopub.execute_input": "2023-09-14T16:04:34.119048Z",
     "iopub.status.busy": "2023-09-14T16:04:34.118437Z",
     "iopub.status.idle": "2023-09-14T16:04:34.121808Z",
     "shell.execute_reply": "2023-09-14T16:04:34.121096Z"
    }
   },
   "outputs": [],
   "source": [
    "n_var = 2"
   ]
  },
  {
   "cell_type": "code",
   "execution_count": 7,
   "id": "c99026b0-f595-4247-9695-6d0b067ceeca",
   "metadata": {
    "ExecuteTime": {
     "end_time": "2023-09-06T21:41:42.975513100Z",
     "start_time": "2023-09-06T21:41:42.942512100Z"
    },
    "execution": {
     "iopub.execute_input": "2023-09-14T16:04:34.125072Z",
     "iopub.status.busy": "2023-09-14T16:04:34.124409Z",
     "iopub.status.idle": "2023-09-14T16:04:34.128596Z",
     "shell.execute_reply": "2023-09-14T16:04:34.127926Z"
    }
   },
   "outputs": [],
   "source": [
    "variables = {}\n",
    "for i in range(n_var):\n",
    "    variables[f'p{i}'] = [0, 1]\n",
    "\n",
    "vocs = VOCS(\n",
    "    variables=variables,\n",
    "    objectives={'f': 'MINIMIZE'},\n",
    ")"
   ]
  },
  {
   "cell_type": "code",
   "execution_count": 8,
   "id": "0af5b8c7-4b3a-4a62-b92b-539899d11109",
   "metadata": {
    "ExecuteTime": {
     "end_time": "2023-09-06T21:41:42.976512700Z",
     "start_time": "2023-09-06T21:41:42.955510800Z"
    },
    "execution": {
     "iopub.execute_input": "2023-09-14T16:04:34.131579Z",
     "iopub.status.busy": "2023-09-14T16:04:34.131011Z",
     "iopub.status.idle": "2023-09-14T16:04:34.135360Z",
     "shell.execute_reply": "2023-09-14T16:04:34.134763Z"
    }
   },
   "outputs": [
    {
     "data": {
      "text/plain": [
       "VOCS(variables={'p0': [0.0, 1.0], 'p1': [0.0, 1.0]}, constraints={}, objectives={'f': 'MINIMIZE'}, constants={}, observables=[])"
      ]
     },
     "execution_count": 8,
     "metadata": {},
     "output_type": "execute_result"
    }
   ],
   "source": [
    "vocs"
   ]
  },
  {
   "cell_type": "markdown",
   "id": "5354659c-cc30-4d70-8659-0fefd43ef0f0",
   "metadata": {},
   "source": [
    "#### Evaluator"
   ]
  },
  {
   "cell_type": "code",
   "execution_count": 9,
   "id": "efafda0b-7282-4027-a1f3-f96454c114bd",
   "metadata": {
    "ExecuteTime": {
     "end_time": "2023-09-06T21:41:42.997511100Z",
     "start_time": "2023-09-06T21:41:42.970511Z"
    },
    "execution": {
     "iopub.execute_input": "2023-09-14T16:04:34.138511Z",
     "iopub.status.busy": "2023-09-14T16:04:34.137992Z",
     "iopub.status.idle": "2023-09-14T16:04:34.142082Z",
     "shell.execute_reply": "2023-09-14T16:04:34.141408Z"
    }
   },
   "outputs": [],
   "source": [
    "evaluator = Evaluator(function=f_RCDS_minimize)"
   ]
  },
  {
   "cell_type": "markdown",
   "id": "d6c58dcc-0b45-4408-a428-1681098a6a4a",
   "metadata": {},
   "source": [
    "#### Generator"
   ]
  },
  {
   "cell_type": "code",
   "execution_count": 10,
   "id": "445daa23-5f97-4a82-bd59-57d9cbae6ac1",
   "metadata": {
    "ExecuteTime": {
     "end_time": "2023-09-06T21:41:43.027511Z",
     "start_time": "2023-09-06T21:41:42.985511200Z"
    },
    "execution": {
     "iopub.execute_input": "2023-09-14T16:04:34.145183Z",
     "iopub.status.busy": "2023-09-14T16:04:34.144668Z",
     "iopub.status.idle": "2023-09-14T16:04:34.148271Z",
     "shell.execute_reply": "2023-09-14T16:04:34.147610Z"
    }
   },
   "outputs": [],
   "source": [
    "generator = RCDSGenerator(vocs=vocs)"
   ]
  },
  {
   "cell_type": "code",
   "execution_count": 11,
   "id": "346fad29",
   "metadata": {
    "ExecuteTime": {
     "end_time": "2023-09-06T21:41:43.028512800Z",
     "start_time": "2023-09-06T21:41:43.000511400Z"
    },
    "execution": {
     "iopub.execute_input": "2023-09-14T16:04:34.151208Z",
     "iopub.status.busy": "2023-09-14T16:04:34.150691Z",
     "iopub.status.idle": "2023-09-14T16:04:34.154954Z",
     "shell.execute_reply": "2023-09-14T16:04:34.154468Z"
    }
   },
   "outputs": [
    {
     "data": {
      "text/plain": [
       "{'x0': None, 'init_mat': None, 'noise': 1e-05, 'step': 0.01, 'tol': 1e-05}"
      ]
     },
     "execution_count": 11,
     "metadata": {},
     "output_type": "execute_result"
    }
   ],
   "source": [
    "generator.dict()"
   ]
  },
  {
   "cell_type": "markdown",
   "id": "f4981983-1e64-43a1-ac90-f88546f9650a",
   "metadata": {},
   "source": [
    "#### Run the optimization"
   ]
  },
  {
   "cell_type": "code",
   "execution_count": 12,
   "id": "10c77281-f49c-4cf7-bb2d-8a278cf00e23",
   "metadata": {
    "ExecuteTime": {
     "end_time": "2023-09-06T21:42:07.680294Z",
     "start_time": "2023-09-06T21:42:07.664295100Z"
    },
    "execution": {
     "iopub.execute_input": "2023-09-14T16:04:34.157786Z",
     "iopub.status.busy": "2023-09-14T16:04:34.157320Z",
     "iopub.status.idle": "2023-09-14T16:04:34.163664Z",
     "shell.execute_reply": "2023-09-14T16:04:34.163007Z"
    }
   },
   "outputs": [],
   "source": [
    "X = Xopt.from_yaml(YAML)"
   ]
  },
  {
   "cell_type": "code",
   "execution_count": 13,
   "id": "78b104b2-7b6b-40b6-9a5c-f84b0e547403",
   "metadata": {
    "ExecuteTime": {
     "end_time": "2023-09-06T21:42:08.570291Z",
     "start_time": "2023-09-06T21:42:08.094291700Z"
    },
    "execution": {
     "iopub.execute_input": "2023-09-14T16:04:34.166692Z",
     "iopub.status.busy": "2023-09-14T16:04:34.166339Z",
     "iopub.status.idle": "2023-09-14T16:04:34.768894Z",
     "shell.execute_reply": "2023-09-14T16:04:34.768219Z"
    },
    "tags": []
   },
   "outputs": [
    {
     "data": {
      "application/vnd.jupyter.widget-view+json": {
       "model_id": "f32ba514abf040fdb883707a5e6e5553",
       "version_major": 2,
       "version_minor": 0
      },
      "text/plain": [
       "  0%|          | 0/100 [00:00<?, ?it/s]"
      ]
     },
     "metadata": {},
     "output_type": "display_data"
    }
   ],
   "source": [
    "\n",
    "for i in tqdm(range(X.max_evaluations)):\n",
    "    X.step()"
   ]
  },
  {
   "cell_type": "markdown",
   "id": "9808d9af-a815-4995-911a-43bd9eb105da",
   "metadata": {},
   "source": [
    "### Visualization"
   ]
  },
  {
   "cell_type": "code",
   "execution_count": 14,
   "id": "651d6821-8069-4efb-8bad-56a87f7240e8",
   "metadata": {
    "ExecuteTime": {
     "end_time": "2023-09-06T21:42:12.184005400Z",
     "start_time": "2023-09-06T21:42:11.636010100Z"
    },
    "execution": {
     "iopub.execute_input": "2023-09-14T16:04:34.772339Z",
     "iopub.status.busy": "2023-09-14T16:04:34.771676Z",
     "iopub.status.idle": "2023-09-14T16:04:35.344953Z",
     "shell.execute_reply": "2023-09-14T16:04:35.344405Z"
    }
   },
   "outputs": [
    {
     "data": {
      "text/plain": [
       "<Axes: >"
      ]
     },
     "execution_count": 14,
     "metadata": {},
     "output_type": "execute_result"
    },
    {
     "data": {
      "image/png": "[encoded data removed]",
      "text/plain": [
       "<Figure size 640x480 with 1 Axes>"
      ]
     },
     "metadata": {},
     "output_type": "display_data"
    }
   ],
   "source": [
    "X.data.plot(y='f')"
   ]
  },
  {
   "cell_type": "code",
   "execution_count": null,
   "id": "c1c4cfbe-c325-4e74-a778-ffe88aa97c37",
   "metadata": {},
   "outputs": [],
   "source": []
  }
 ],
 "metadata": {
  "kernelspec": {
   "display_name": "Python 3 (ipykernel)",
   "language": "python",
   "name": "python3"
  },
  "language_info": {
   "codemirror_mode": {
    "name": "ipython",
    "version": 3
   },
   "file_extension": ".py",
   "mimetype": "text/x-python",
   "name": "python",
   "nbconvert_exporter": "python",
   "pygments_lexer": "ipython3",
   "version": "3.9.18"
  },
  "widgets": {
   "application/vnd.jupyter.widget-state+json": {
    "state": {
     "0527bf0458fd4d2fa72517a15afcc540": {
      "model_module": "@jupyter-widgets/controls",
      "model_module_version": "2.0.0",
      "model_name": "ProgressStyleModel",
      "state": {
       "_model_module": "@jupyter-widgets/controls",
       "_model_module_version": "2.0.0",
       "_model_name": "ProgressStyleModel",
       "_view_count": null,
       "_view_module": "@jupyter-widgets/base",
       "_view_module_version": "2.0.0",
       "_view_name": "StyleView",
       "bar_color": null,
       "description_width": ""
      }
     },
     "0a873f9913f24206894de81557099787": {
      "model_module": "@jupyter-widgets/controls",
      "model_module_version": "2.0.0",
      "model_name": "HTMLStyleModel",
      "state": {
       "_model_module": "@jupyter-widgets/controls",
       "_model_module_version": "2.0.0",
       "_model_name": "HTMLStyleModel",
       "_view_count": null,
       "_view_module": "@jupyter-widgets/base",
       "_view_module_version": "2.0.0",
       "_view_name": "StyleView",
       "background": null,
       "description_width": "",
       "font_size": null,
       "text_color": null
      }
     },
     "0bfc2705903547a49da8693a08630c57": {
      "model_module": "@jupyter-widgets/base",
      "model_module_version": "2.0.0",
      "model_name": "LayoutModel",
      "state": {
       "_model_module": "@jupyter-widgets/base",
       "_model_module_version": "2.0.0",
       "_model_name": "LayoutModel",
       "_view_count": null,
       "_view_module": "@jupyter-widgets/base",
       "_view_module_version": "2.0.0",
       "_view_name": "LayoutView",
       "align_content": null,
       "align_items": null,
       "align_self": null,
       "border_bottom": null,
       "border_left": null,
       "border_right": null,
       "border_top": null,
       "bottom": null,
       "display": null,
       "flex": null,
       "flex_flow": null,
       "grid_area": null,
       "grid_auto_columns": null,
       "grid_auto_flow": null,
       "grid_auto_rows": null,
       "grid_column": null,
       "grid_gap": null,
       "grid_row": null,
       "grid_template_areas": null,
       "grid_template_columns": null,
       "grid_template_rows": null,
       "height": null,
       "justify_content": null,
       "justify_items": null,
       "left": null,
       "margin": null,
       "max_height": null,
       "max_width": null,
       "min_height": null,
       "min_width": null,
       "object_fit": null,
       "object_position": null,
       "order": null,
       "overflow": null,
       "padding": null,
       "right": null,
       "top": null,
       "visibility": null,
       "width": null
      }
     },
     "0da5f25b78f149b5a500db2cf3445e79": {
      "model_module": "@jupyter-widgets/controls",
      "model_module_version": "2.0.0",
      "model_name": "FloatProgressModel",
      "state": {
       "_dom_classes": [],
       "_model_module": "@jupyter-widgets/controls",
       "_model_module_version": "2.0.0",
       "_model_name": "FloatProgressModel",
       "_view_count": null,
       "_view_module": "@jupyter-widgets/controls",
       "_view_module_version": "2.0.0",
       "_view_name": "ProgressView",
       "bar_style": "success",
       "description": "",
       "description_allow_html": false,
       "layout": "IPY_MODEL_9d50d11e988e4c1a875625c786d2ed98",
       "max": 100.0,
       "min": 0.0,
       "orientation": "horizontal",
       "style": "IPY_MODEL_0527bf0458fd4d2fa72517a15afcc540",
       "tabbable": null,
       "tooltip": null,
       "value": 100.0
      }
     },
     "38702d77bbc24d989d4c6d67a45507fa": {
      "model_module": "@jupyter-widgets/controls",
      "model_module_version": "2.0.0",
      "model_name": "HTMLStyleModel",
      "state": {
       "_model_module": "@jupyter-widgets/controls",
       "_model_module_version": "2.0.0",
       "_model_name": "HTMLStyleModel",
       "_view_count": null,
       "_view_module": "@jupyter-widgets/base",
       "_view_module_version": "2.0.0",
       "_view_name": "StyleView",
       "background": null,
       "description_width": "",
       "font_size": null,
       "text_color": null
      }
     },
     "523d5e12180b4231a487778ae0bf050d": {
      "model_module": "@jupyter-widgets/base",
      "model_module_version": "2.0.0",
      "model_name": "LayoutModel",
      "state": {
       "_model_module": "@jupyter-widgets/base",
       "_model_module_version": "2.0.0",
       "_model_name": "LayoutModel",
       "_view_count": null,
       "_view_module": "@jupyter-widgets/base",
       "_view_module_version": "2.0.0",
       "_view_name": "LayoutView",
       "align_content": null,
       "align_items": null,
       "align_self": null,
       "border_bottom": null,
       "border_left": null,
       "border_right": null,
       "border_top": null,
       "bottom": null,
       "display": null,
       "flex": null,
       "flex_flow": null,
       "grid_area": null,
       "grid_auto_columns": null,
       "grid_auto_flow": null,
       "grid_auto_rows": null,
       "grid_column": null,
       "grid_gap": null,
       "grid_row": null,
       "grid_template_areas": null,
       "grid_template_columns": null,
       "grid_template_rows": null,
       "height": null,
       "justify_content": null,
       "justify_items": null,
       "left": null,
       "margin": null,
       "max_height": null,
       "max_width": null,
       "min_height": null,
       "min_width": null,
       "object_fit": null,
       "object_position": null,
       "order": null,
       "overflow": null,
       "padding": null,
       "right": null,
       "top": null,
       "visibility": null,
       "width": null
      }
     },
     "6c3806d4dee2409c95ca097e3a9cf78f": {
      "model_module": "@jupyter-widgets/controls",
      "model_module_version": "2.0.0",
      "model_name": "HTMLModel",
      "state": {
       "_dom_classes": [],
       "_model_module": "@jupyter-widgets/controls",
       "_model_module_version": "2.0.0",
       "_model_name": "HTMLModel",
       "_view_count": null,
       "_view_module": "@jupyter-widgets/controls",
       "_view_module_version": "2.0.0",
       "_view_name": "HTMLView",
       "description": "",
       "description_allow_html": false,
       "layout": "IPY_MODEL_523d5e12180b4231a487778ae0bf050d",
       "placeholder": "​",
       "style": "IPY_MODEL_0a873f9913f24206894de81557099787",
       "tabbable": null,
       "tooltip": null,
       "value": " 100/100 [00:00&lt;00:00, 168.97it/s]"
      }
     },
     "88f717563520453791bf6034381e8a3e": {
      "model_module": "@jupyter-widgets/base",
      "model_module_version": "2.0.0",
      "model_name": "LayoutModel",
      "state": {
       "_model_module": "@jupyter-widgets/base",
       "_model_module_version": "2.0.0",
       "_model_name": "LayoutModel",
       "_view_count": null,
       "_view_module": "@jupyter-widgets/base",
       "_view_module_version": "2.0.0",
       "_view_name": "LayoutView",
       "align_content": null,
       "align_items": null,
       "align_self": null,
       "border_bottom": null,
       "border_left": null,
       "border_right": null,
       "border_top": null,
       "bottom": null,
       "display": null,
       "flex": null,
       "flex_flow": null,
       "grid_area": null,
       "grid_auto_columns": null,
       "grid_auto_flow": null,
       "grid_auto_rows": null,
       "grid_column": null,
       "grid_gap": null,
       "grid_row": null,
       "grid_template_areas": null,
       "grid_template_columns": null,
       "grid_template_rows": null,
       "height": null,
       "justify_content": null,
       "justify_items": null,
       "left": null,
       "margin": null,
       "max_height": null,
       "max_width": null,
       "min_height": null,
       "min_width": null,
       "object_fit": null,
       "object_position": null,
       "order": null,
       "overflow": null,
       "padding": null,
       "right": null,
       "top": null,
       "visibility": null,
       "width": null
      }
     },
     "93ddbd5534ca438b8a2014f391fb768b": {
      "model_module": "@jupyter-widgets/controls",
      "model_module_version": "2.0.0",
      "model_name": "HTMLModel",
      "state": {
       "_dom_classes": [],
       "_model_module": "@jupyter-widgets/controls",
       "_model_module_version": "2.0.0",
       "_model_name": "HTMLModel",
       "_view_count": null,
       "_view_module": "@jupyter-widgets/controls",
       "_view_module_version": "2.0.0",
       "_view_name": "HTMLView",
       "description": "",
       "description_allow_html": false,
       "layout": "IPY_MODEL_88f717563520453791bf6034381e8a3e",
       "placeholder": "​",
       "style": "IPY_MODEL_38702d77bbc24d989d4c6d67a45507fa",
       "tabbable": null,
       "tooltip": null,
       "value": "100%"
      }
     },
     "9d50d11e988e4c1a875625c786d2ed98": {
      "model_module": "@jupyter-widgets/base",
      "model_module_version": "2.0.0",
      "model_name": "LayoutModel",
      "state": {
       "_model_module": "@jupyter-widgets/base",
       "_model_module_version": "2.0.0",
       "_model_name": "LayoutModel",
       "_view_count": null,
       "_view_module": "@jupyter-widgets/base",
       "_view_module_version": "2.0.0",
       "_view_name": "LayoutView",
       "align_content": null,
       "align_items": null,
       "align_self": null,
       "border_bottom": null,
       "border_left": null,
       "border_right": null,
       "border_top": null,
       "bottom": null,
       "display": null,
       "flex": null,
       "flex_flow": null,
       "grid_area": null,
       "grid_auto_columns": null,
       "grid_auto_flow": null,
       "grid_auto_rows": null,
       "grid_column": null,
       "grid_gap": null,
       "grid_row": null,
       "grid_template_areas": null,
       "grid_template_columns": null,
       "grid_template_rows": null,
       "height": null,
       "justify_content": null,
       "justify_items": null,
       "left": null,
       "margin": null,
       "max_height": null,
       "max_width": null,
       "min_height": null,
       "min_width": null,
       "object_fit": null,
       "object_position": null,
       "order": null,
       "overflow": null,
       "padding": null,
       "right": null,
       "top": null,
       "visibility": null,
       "width": null
      }
     },
     "f32ba514abf040fdb883707a5e6e5553": {
      "model_module": "@jupyter-widgets/controls",
      "model_module_version": "2.0.0",
      "model_name": "HBoxModel",
      "state": {
       "_dom_classes": [],
       "_model_module": "@jupyter-widgets/controls",
       "_model_module_version": "2.0.0",
       "_model_name": "HBoxModel",
       "_view_count": null,
       "_view_module": "@jupyter-widgets/controls",
       "_view_module_version": "2.0.0",
       "_view_name": "HBoxView",
       "box_style": "",
       "children": [
        "IPY_MODEL_93ddbd5534ca438b8a2014f391fb768b",
        "IPY_MODEL_0da5f25b78f149b5a500db2cf3445e79",
        "IPY_MODEL_6c3806d4dee2409c95ca097e3a9cf78f"
       ],
       "layout": "IPY_MODEL_0bfc2705903547a49da8693a08630c57",
       "tabbable": null,
       "tooltip": null
      }
     }
    },
    "version_major": 2,
    "version_minor": 0
   }
  }
 },
 "nbformat": 4,
 "nbformat_minor": 5
}
