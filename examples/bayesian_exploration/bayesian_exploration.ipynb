{
 "cells": [
  {
   "cell_type": "markdown",
   "metadata": {},
   "source": [
    "# Bayesian Exploration with Xopt"
   ]
  },
  {
   "cell_type": "markdown",
   "metadata": {},
   "source": [
    "## TNK test function\n",
    "\n",
    "This is the class method for running Xopt. Use Bayesian exploration to explore the input space.\n",
    "\n",
    "TNK function\n",
    "$n=2$ variables:\n",
    "$x_i \\in [0, \\pi], i=1,2$\n",
    "\n",
    "Objectives:\n",
    "- $f_i(x) = x_i$\n",
    "\n",
    "Constraints:\n",
    "- $g_1(x) = -x_1^2 -x_2^2 + 1 + 0.1 \\cos\\left(16 \\arctan \\frac{x_1}{x_2}\\right) \\le 0$\n",
    "- $g_2(x) = (x_1 - 1/2)^2 + (x_2-1/2)^2 \\le 0.5$"
   ]
  },
  {
   "cell_type": "code",
   "execution_count": 1,
   "metadata": {},
   "outputs": [],
   "source": [
    "# Import the class\n",
    "from xopt import Xopt\n",
    "\n",
    "import os\n",
    "SMOKE_TEST = os.environ.get('SMOKE_TEST')"
   ]
  },
  {
   "cell_type": "code",
   "execution_count": 2,
   "metadata": {},
   "outputs": [],
   "source": [
    "# To see log messages\n",
    "from xopt import output_notebook\n",
    "output_notebook()"
   ]
  },
  {
   "cell_type": "markdown",
   "metadata": {},
   "source": [
    "The `Xopt` object can be instantiated from a JSON or YAML file, or a dict, with the proper structure.\n",
    "\n",
    "Here we will make one"
   ]
  },
  {
   "cell_type": "code",
   "execution_count": 3,
   "metadata": {},
   "outputs": [],
   "source": [
    "import yaml\n",
    "# Make a proper input file. \n",
    "YAML=\"\"\"\n",
    "xopt: {output_path: null}\n",
    "\n",
    "algorithm:\n",
    "  name: bayesian_exploration\n",
    "  options:  \n",
    "      n_initial_samples: 5\n",
    "      n_steps: 25\n",
    "      generator_options:                     ## options for bayesian exploration acquisition function\n",
    "          batch_size: 1                      ## batch size for parallelized optimization\n",
    "          #sigma: [[0.01, 0.0], [0.0,0.01]]   ## proximal biasing term\n",
    "          use_gpu: False\n",
    "\n",
    "  \n",
    "simulation: \n",
    "  name: test_TNK\n",
    "  evaluate: xopt.tests.evaluators.TNK.evaluate_TNK\n",
    "  \n",
    "vocs:\n",
    "  name: TNK_test\n",
    "  variables:\n",
    "    x1: [0, 3.14159]\n",
    "    x2: [0, 3.14159]\n",
    "  objectives: {y1: None}\n",
    "  constraints:\n",
    "    c1: [GREATER_THAN, 0]\n",
    "    c2: ['LESS_THAN', 0.5]\n",
    "  linked_variables: {}\n",
    "  constants: {a: dummy_constant}\n",
    "\n",
    "\"\"\"\n",
    "config = yaml.safe_load(YAML)\n",
    "\n",
    "if SMOKE_TEST:\n",
    "    config['algorithm']['options']['n_steps'] = 3\n",
    "    config['algorithm']['options']['generator_options']['num_restarts'] = 2\n",
    "    config['algorithm']['options']['generator_options']['raw_samples'] = 2"
   ]
  },
  {
   "cell_type": "code",
   "execution_count": 4,
   "metadata": {},
   "outputs": [
    {
     "name": "stdout",
     "output_type": "stream",
     "text": [
      "Loading config from dict.\n",
      "Loading config from dict.\n",
      "Loading config from dict.\n",
      "Loading config from dict.\n",
      "Loading config from dict.\n",
      "`name` keyword no longer allowed in vocs config, removing\n",
      "Warning: No path set for key xopt : output_path\n"
     ]
    },
    {
     "data": {
      "text/plain": [
       "\n",
       "            Xopt \n",
       "________________________________           \n",
       "Version: 0.4.3+221.g8413e80.dirty\n",
       "Configured: True\n",
       "Config as YAML:\n",
       "xopt: {output_path: null}\n",
       "algorithm:\n",
       "  name: bayesian_exploration\n",
       "  options:\n",
       "    n_initial_samples: 5\n",
       "    n_steps: 25\n",
       "    generator_options: {batch_size: 1, use_gpu: false}\n",
       "  function: xopt.bayesian.algorithms.bayesian_exploration\n",
       "simulation:\n",
       "  name: test_TNK\n",
       "  evaluate: xopt.tests.evaluators.TNK.evaluate_TNK\n",
       "  options: {extra_option: abc}\n",
       "vocs:\n",
       "  variables:\n",
       "    x1: [0, 3.14159]\n",
       "    x2: [0, 3.14159]\n",
       "  objectives: {y1: None}\n",
       "  constraints:\n",
       "    c1: [GREATER_THAN, 0]\n",
       "    c2: [LESS_THAN, 0.5]\n",
       "  linked_variables: {}\n",
       "  constants: {a: dummy_constant}"
      ]
     },
     "execution_count": 4,
     "metadata": {},
     "output_type": "execute_result"
    }
   ],
   "source": [
    "X = Xopt(config)\n",
    "X"
   ]
  },
  {
   "cell_type": "markdown",
   "metadata": {},
   "source": [
    "# Run BayesOpt"
   ]
  },
  {
   "cell_type": "code",
   "execution_count": 5,
   "metadata": {},
   "outputs": [],
   "source": [
    "# Pick one of these\n",
    "from concurrent.futures import ThreadPoolExecutor as PoolExecutor\n",
    "#from concurrent.futures import ProcessPoolExecutor as PoolExecutor\n",
    "\n",
    "executor = PoolExecutor()\n",
    "# This will also work. \n",
    "#executor=None"
   ]
  },
  {
   "cell_type": "code",
   "execution_count": 6,
   "metadata": {},
   "outputs": [
    {
     "name": "stdout",
     "output_type": "stream",
     "text": [
      "Starting at time 2021-10-08T16:22:45-07:00\n",
      "started running optimization with generator: <xopt.bayesian.generators.exploration.BayesianExplorationGenerator object at 0x11774bb80>\n",
      "submitting initial candidates\n",
      "starting optimization loop\n",
      "submitting candidates\n",
      "submitting candidates\n",
      "submitting candidates\n",
      "submitting candidates\n",
      "submitting candidates\n",
      "submitting candidates\n",
      "submitting candidates\n",
      "submitting candidates\n",
      "submitting candidates\n",
      "submitting candidates\n",
      "submitting candidates\n",
      "submitting candidates\n",
      "submitting candidates\n",
      "submitting candidates\n",
      "submitting candidates\n",
      "submitting candidates\n",
      "submitting candidates\n",
      "submitting candidates\n",
      "submitting candidates\n",
      "submitting candidates\n",
      "submitting candidates\n",
      "submitting candidates\n",
      "submitting candidates\n",
      "submitting candidates\n",
      "submitting candidates\n"
     ]
    }
   ],
   "source": [
    "# Change max generations\n",
    "X.run(executor=executor)"
   ]
  },
  {
   "cell_type": "markdown",
   "metadata": {},
   "source": [
    "# Plot\n",
    "- plot input space samples -> yellow points satisfy constraints and purple points do not"
   ]
  },
  {
   "cell_type": "code",
   "execution_count": 7,
   "metadata": {},
   "outputs": [
    {
     "name": "stdout",
     "output_type": "stream",
     "text": [
      "dict_keys(['variables', 'objectives', 'corrected_objectives', 'constraint_status', 'feasibility', 'model', 'constraints', 'corrected_constraints'])\n"
     ]
    },
    {
     "data": {
      "image/png": "[encoded data removed]",
      "text/plain": [
       "<Figure size 432x288 with 1 Axes>"
      ]
     },
     "metadata": {
      "needs_background": "light"
     },
     "output_type": "display_data"
    }
   ],
   "source": [
    "import matplotlib.pyplot as plt\n",
    "%matplotlib inline\n",
    "\n",
    "# plot exploration results and path - exploration should explore the feasible region of the TNK problem - See Table V in https://www.iitk.ac.in/kangal/Deb_NSGA-II.pdf\n",
    "fig, ax = plt.subplots()\n",
    "\n",
    "results = X.results\n",
    "print(results.keys())\n",
    "variables = results['variables']\n",
    "valid = results['variables'][results['feasibility'].flatten()]\n",
    "ax.plot(variables[:, 0], variables[:, 1], '-o', label = 'all')\n",
    "ax.plot(valid[:, 0], valid[:, 1], 'o', label = 'valid')\n",
    "ax.set_xlabel('$x_1$')\n",
    "ax.set_ylabel('$x_2$')\n",
    "ax.legend()\n",
    "\n",
    "plt.show()"
   ]
  }
 ],
 "metadata": {
  "kernelspec": {
   "display_name": "Python 3 (ipykernel)",
   "language": "python",
   "name": "python3"
  },
  "language_info": {
   "codemirror_mode": {
    "name": "ipython",
    "version": 3
   },
   "file_extension": ".py",
   "mimetype": "text/x-python",
   "name": "python",
   "nbconvert_exporter": "python",
   "pygments_lexer": "ipython3",
   "version": "3.9.7"
  }
 },
 "nbformat": 4,
 "nbformat_minor": 4
}
