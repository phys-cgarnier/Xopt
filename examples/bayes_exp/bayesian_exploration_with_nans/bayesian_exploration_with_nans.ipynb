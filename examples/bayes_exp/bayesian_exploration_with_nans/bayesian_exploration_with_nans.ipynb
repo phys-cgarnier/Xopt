{
 "cells": [
  {
   "cell_type": "markdown",
   "metadata": {},
   "source": [
    "# Bayesian Exploration with NaNs\n",
    "\n",
    "As violations of constraints can lead to invalid values of the objective, the evaluate function may simply return NaNs. We demonstrate below how we can still perform Bayesian Exploration in that case."
   ]
  },
  {
   "cell_type": "code",
   "execution_count": 1,
   "metadata": {
    "ExecuteTime": {
     "end_time": "2023-06-14T15:37:25.535638700Z",
     "start_time": "2023-06-14T15:37:22.379218300Z"
    },
    "execution": {
     "iopub.execute_input": "2024-07-31T03:22:58.603320Z",
     "iopub.status.busy": "2024-07-31T03:22:58.603135Z",
     "iopub.status.idle": "2024-07-31T03:23:00.532189Z",
     "shell.execute_reply": "2024-07-31T03:23:00.531535Z"
    }
   },
   "outputs": [],
   "source": [
    "# set values if testing\n",
    "import os\n",
    "SMOKE_TEST = os.environ.get(\"SMOKE_TEST\")\n",
    "NUM_MC_SAMPLES = 1 if SMOKE_TEST else 128\n",
    "NUM_RESTARTS = 1 if SMOKE_TEST else 20\n",
    "\n",
    "# Ignore all warnings\n",
    "import warnings\n",
    "warnings.filterwarnings(\"ignore\")\n",
    "\n",
    "import pandas as pd\n",
    "import torch\n",
    "import yaml\n",
    "from copy import deepcopy\n",
    "from xopt import Xopt, Evaluator\n",
    "from xopt.generators.bayesian import BayesianExplorationGenerator\n",
    "from xopt.resources.test_functions.tnk import evaluate_TNK, tnk_vocs\n",
    "\n",
    "vocs = deepcopy(tnk_vocs)\n",
    "vocs.objectives = {}\n",
    "vocs.observables = [\"y1\"]"
   ]
  },
  {
   "cell_type": "code",
   "execution_count": 2,
   "metadata": {
    "ExecuteTime": {
     "end_time": "2023-06-14T15:37:25.549637200Z",
     "start_time": "2023-06-14T15:37:25.539666500Z"
    },
    "execution": {
     "iopub.execute_input": "2024-07-31T03:23:00.535017Z",
     "iopub.status.busy": "2024-07-31T03:23:00.534756Z",
     "iopub.status.idle": "2024-07-31T03:23:00.538759Z",
     "shell.execute_reply": "2024-07-31T03:23:00.538271Z"
    }
   },
   "outputs": [],
   "source": [
    "# modify the evaluate function to return NaNs if constraints are violated\n",
    "def evaluate(input_dict):\n",
    "    output_dict = evaluate_TNK(input_dict)\n",
    "    del output_dict[\"y2\"]\n",
    "    for c in vocs.constraints.keys():\n",
    "        if vocs.constraints[c][0].upper() == \"GREATER_THAN\" and output_dict[c] <= vocs.constraints[c][1]:\n",
    "            output_dict[\"y1\"] = torch.nan\n",
    "        elif vocs.constraints[c][0].upper() == \"LESS_THAN\" and output_dict[c] >= vocs.constraints[c][1]:\n",
    "            output_dict[\"y1\"] = torch.nan\n",
    "    return output_dict"
   ]
  },
  {
   "cell_type": "code",
   "execution_count": 3,
   "metadata": {
    "ExecuteTime": {
     "end_time": "2023-06-14T15:37:25.580538800Z",
     "start_time": "2023-06-14T15:37:25.552636600Z"
    },
    "execution": {
     "iopub.execute_input": "2024-07-31T03:23:00.540977Z",
     "iopub.status.busy": "2024-07-31T03:23:00.540637Z",
     "iopub.status.idle": "2024-07-31T03:23:00.557425Z",
     "shell.execute_reply": "2024-07-31T03:23:00.556891Z"
    }
   },
   "outputs": [
    {
     "data": {
      "text/plain": [
       "\n",
       "            Xopt\n",
       "________________________________\n",
       "Version: 0+untagged.1.g2e9a465\n",
       "Data size: 0\n",
       "Config as YAML:\n",
       "dump_file: null\n",
       "evaluator:\n",
       "  function: __main__.evaluate\n",
       "  function_kwargs: {}\n",
       "  max_workers: 1\n",
       "  vectorized: false\n",
       "generator:\n",
       "  computation_time: null\n",
       "  custom_objective: null\n",
       "  fixed_features: null\n",
       "  gp_constructor:\n",
       "    covar_modules: {}\n",
       "    custom_noise_prior: null\n",
       "    mean_modules: {}\n",
       "    name: standard\n",
       "    trainable_mean_keys: []\n",
       "    transform_inputs: true\n",
       "    use_low_noise_prior: true\n",
       "  log_transform_acquisition_function: false\n",
       "  max_travel_distances:\n",
       "  - 0.25\n",
       "  - 0.25\n",
       "  model: null\n",
       "  n_candidates: 1\n",
       "  n_interpolate_points: null\n",
       "  n_monte_carlo_samples: 128\n",
       "  name: bayesian_exploration\n",
       "  numerical_optimizer:\n",
       "    max_iter: 2000\n",
       "    max_time: null\n",
       "    n_restarts: 20\n",
       "    name: LBFGS\n",
       "  supports_batch_generation: true\n",
       "  turbo_controller: null\n",
       "  use_cuda: false\n",
       "max_evaluations: null\n",
       "serialize_inline: false\n",
       "serialize_torch: false\n",
       "strict: true\n",
       "vocs:\n",
       "  constants:\n",
       "    a: dummy_constant\n",
       "  constraints:\n",
       "    c1:\n",
       "    - GREATER_THAN\n",
       "    - 0.0\n",
       "    c2:\n",
       "    - LESS_THAN\n",
       "    - 0.5\n",
       "  objectives: {}\n",
       "  observables:\n",
       "  - y1\n",
       "  variables:\n",
       "    x1:\n",
       "    - 0.0\n",
       "    - 3.14159\n",
       "    x2:\n",
       "    - 0.0\n",
       "    - 3.14159\n"
      ]
     },
     "execution_count": 3,
     "metadata": {},
     "output_type": "execute_result"
    }
   ],
   "source": [
    "generator = BayesianExplorationGenerator(vocs=vocs)\n",
    "generator.max_travel_distances = [0.25, 0.25]\n",
    "generator.n_monte_carlo_samples = NUM_MC_SAMPLES\n",
    "generator.numerical_optimizer.n_restarts = NUM_RESTARTS\n",
    "\n",
    "evaluator = Evaluator(function=evaluate)\n",
    "X = Xopt(generator=generator, evaluator=evaluator, vocs=vocs)\n",
    "X"
   ]
  },
  {
   "cell_type": "markdown",
   "metadata": {},
   "source": [
    "## Run exploration\n",
    "We start with evaluating 2 points that we know satisfy the constraints. We then run\n",
    "30 exploration steps."
   ]
  },
  {
   "cell_type": "code",
   "execution_count": 4,
   "metadata": {
    "ExecuteTime": {
     "end_time": "2023-06-14T15:37:25.638907100Z",
     "start_time": "2023-06-14T15:37:25.582541Z"
    },
    "execution": {
     "iopub.execute_input": "2024-07-31T03:23:00.586057Z",
     "iopub.status.busy": "2024-07-31T03:23:00.585883Z",
     "iopub.status.idle": "2024-07-31T03:23:00.597975Z",
     "shell.execute_reply": "2024-07-31T03:23:00.597512Z"
    }
   },
   "outputs": [
    {
     "data": {
      "text/html": [
       "<div>\n",
       "<style scoped>\n",
       "    .dataframe tbody tr th:only-of-type {\n",
       "        vertical-align: middle;\n",
       "    }\n",
       "\n",
       "    .dataframe tbody tr th {\n",
       "        vertical-align: top;\n",
       "    }\n",
       "\n",
       "    .dataframe thead th {\n",
       "        text-align: right;\n",
       "    }\n",
       "</style>\n",
       "<table border=\"1\" class=\"dataframe\">\n",
       "  <thead>\n",
       "    <tr style=\"text-align: right;\">\n",
       "      <th></th>\n",
       "      <th>x1</th>\n",
       "      <th>x2</th>\n",
       "      <th>a</th>\n",
       "      <th>y1</th>\n",
       "      <th>c1</th>\n",
       "      <th>c2</th>\n",
       "      <th>xopt_runtime</th>\n",
       "      <th>xopt_error</th>\n",
       "    </tr>\n",
       "  </thead>\n",
       "  <tbody>\n",
       "    <tr>\n",
       "      <th>0</th>\n",
       "      <td>1.00</td>\n",
       "      <td>0.70</td>\n",
       "      <td>dummy_constant</td>\n",
       "      <td>1.00</td>\n",
       "      <td>0.584045</td>\n",
       "      <td>0.290</td>\n",
       "      <td>0.000049</td>\n",
       "      <td>False</td>\n",
       "    </tr>\n",
       "    <tr>\n",
       "      <th>1</th>\n",
       "      <td>0.75</td>\n",
       "      <td>0.95</td>\n",
       "      <td>dummy_constant</td>\n",
       "      <td>0.75</td>\n",
       "      <td>0.494833</td>\n",
       "      <td>0.265</td>\n",
       "      <td>0.000015</td>\n",
       "      <td>False</td>\n",
       "    </tr>\n",
       "  </tbody>\n",
       "</table>\n",
       "</div>"
      ],
      "text/plain": [
       "     x1    x2               a    y1        c1     c2  xopt_runtime  xopt_error\n",
       "0  1.00  0.70  dummy_constant  1.00  0.584045  0.290      0.000049       False\n",
       "1  0.75  0.95  dummy_constant  0.75  0.494833  0.265      0.000015       False"
      ]
     },
     "execution_count": 4,
     "metadata": {},
     "output_type": "execute_result"
    }
   ],
   "source": [
    "X.evaluate_data(pd.DataFrame({\"x1\": [1.0, 0.75], \"x2\": [0.7, 0.95]}))"
   ]
  },
  {
   "cell_type": "code",
   "execution_count": 5,
   "metadata": {
    "ExecuteTime": {
     "end_time": "2023-06-14T15:42:05.755461900Z",
     "start_time": "2023-06-14T15:37:25.611873400Z"
    },
    "execution": {
     "iopub.execute_input": "2024-07-31T03:23:00.600067Z",
     "iopub.status.busy": "2024-07-31T03:23:00.599722Z",
     "iopub.status.idle": "2024-07-31T03:24:37.108348Z",
     "shell.execute_reply": "2024-07-31T03:24:37.107681Z"
    },
    "scrolled": false
   },
   "outputs": [
    {
     "name": "stdout",
     "output_type": "stream",
     "text": [
      "step 0\n"
     ]
    },
    {
     "name": "stdout",
     "output_type": "stream",
     "text": [
      "step 1\n"
     ]
    },
    {
     "name": "stdout",
     "output_type": "stream",
     "text": [
      "step 2\n"
     ]
    },
    {
     "name": "stdout",
     "output_type": "stream",
     "text": [
      "step 3\n"
     ]
    },
    {
     "name": "stdout",
     "output_type": "stream",
     "text": [
      "step 4\n"
     ]
    },
    {
     "name": "stdout",
     "output_type": "stream",
     "text": [
      "step 5\n"
     ]
    },
    {
     "name": "stdout",
     "output_type": "stream",
     "text": [
      "step 6\n"
     ]
    },
    {
     "name": "stdout",
     "output_type": "stream",
     "text": [
      "step 7\n"
     ]
    },
    {
     "name": "stdout",
     "output_type": "stream",
     "text": [
      "step 8\n"
     ]
    },
    {
     "name": "stdout",
     "output_type": "stream",
     "text": [
      "step 9\n"
     ]
    },
    {
     "name": "stdout",
     "output_type": "stream",
     "text": [
      "step 10\n"
     ]
    },
    {
     "name": "stdout",
     "output_type": "stream",
     "text": [
      "step 11\n"
     ]
    },
    {
     "name": "stdout",
     "output_type": "stream",
     "text": [
      "step 12\n"
     ]
    },
    {
     "name": "stdout",
     "output_type": "stream",
     "text": [
      "step 13\n"
     ]
    },
    {
     "name": "stdout",
     "output_type": "stream",
     "text": [
      "step 14\n"
     ]
    },
    {
     "name": "stdout",
     "output_type": "stream",
     "text": [
      "step 15\n"
     ]
    },
    {
     "name": "stdout",
     "output_type": "stream",
     "text": [
      "step 16\n"
     ]
    },
    {
     "name": "stdout",
     "output_type": "stream",
     "text": [
      "step 17\n"
     ]
    },
    {
     "name": "stdout",
     "output_type": "stream",
     "text": [
      "step 18\n"
     ]
    },
    {
     "name": "stdout",
     "output_type": "stream",
     "text": [
      "step 19\n"
     ]
    },
    {
     "name": "stdout",
     "output_type": "stream",
     "text": [
      "step 20\n"
     ]
    },
    {
     "name": "stdout",
     "output_type": "stream",
     "text": [
      "step 21\n"
     ]
    },
    {
     "name": "stdout",
     "output_type": "stream",
     "text": [
      "step 22\n"
     ]
    },
    {
     "name": "stdout",
     "output_type": "stream",
     "text": [
      "step 23\n"
     ]
    },
    {
     "name": "stdout",
     "output_type": "stream",
     "text": [
      "step 24\n"
     ]
    },
    {
     "name": "stdout",
     "output_type": "stream",
     "text": [
      "step 25\n"
     ]
    },
    {
     "name": "stdout",
     "output_type": "stream",
     "text": [
      "step 26\n"
     ]
    },
    {
     "name": "stdout",
     "output_type": "stream",
     "text": [
      "step 27\n"
     ]
    },
    {
     "name": "stdout",
     "output_type": "stream",
     "text": [
      "step 28\n"
     ]
    },
    {
     "name": "stdout",
     "output_type": "stream",
     "text": [
      "step 29\n"
     ]
    }
   ],
   "source": [
    "N_STEPS = 1 if SMOKE_TEST else 30\n",
    "for i in range(N_STEPS):\n",
    "    print(f\"step {i}\")\n",
    "    X.step()"
   ]
  },
  {
   "cell_type": "code",
   "execution_count": 6,
   "metadata": {
    "ExecuteTime": {
     "end_time": "2023-06-14T15:42:05.786611100Z",
     "start_time": "2023-06-14T15:42:05.773463300Z"
    },
    "execution": {
     "iopub.execute_input": "2024-07-31T03:24:37.111411Z",
     "iopub.status.busy": "2024-07-31T03:24:37.111091Z",
     "iopub.status.idle": "2024-07-31T03:24:37.122798Z",
     "shell.execute_reply": "2024-07-31T03:24:37.122209Z"
    }
   },
   "outputs": [
    {
     "data": {
      "text/html": [
       "<div>\n",
       "<style scoped>\n",
       "    .dataframe tbody tr th:only-of-type {\n",
       "        vertical-align: middle;\n",
       "    }\n",
       "\n",
       "    .dataframe tbody tr th {\n",
       "        vertical-align: top;\n",
       "    }\n",
       "\n",
       "    .dataframe thead th {\n",
       "        text-align: right;\n",
       "    }\n",
       "</style>\n",
       "<table border=\"1\" class=\"dataframe\">\n",
       "  <thead>\n",
       "    <tr style=\"text-align: right;\">\n",
       "      <th></th>\n",
       "      <th>x1</th>\n",
       "      <th>x2</th>\n",
       "      <th>a</th>\n",
       "      <th>y1</th>\n",
       "      <th>c1</th>\n",
       "      <th>c2</th>\n",
       "      <th>xopt_runtime</th>\n",
       "      <th>xopt_error</th>\n",
       "    </tr>\n",
       "  </thead>\n",
       "  <tbody>\n",
       "    <tr>\n",
       "      <th>0</th>\n",
       "      <td>1.000000</td>\n",
       "      <td>0.700000</td>\n",
       "      <td>dummy_constant</td>\n",
       "      <td>1.000000</td>\n",
       "      <td>0.584045</td>\n",
       "      <td>0.290000</td>\n",
       "      <td>0.000049</td>\n",
       "      <td>False</td>\n",
       "    </tr>\n",
       "    <tr>\n",
       "      <th>1</th>\n",
       "      <td>0.750000</td>\n",
       "      <td>0.950000</td>\n",
       "      <td>dummy_constant</td>\n",
       "      <td>0.750000</td>\n",
       "      <td>0.494833</td>\n",
       "      <td>0.265000</td>\n",
       "      <td>0.000015</td>\n",
       "      <td>False</td>\n",
       "    </tr>\n",
       "    <tr>\n",
       "      <th>2</th>\n",
       "      <td>1.535397</td>\n",
       "      <td>1.735397</td>\n",
       "      <td>dummy_constant</td>\n",
       "      <td>NaN</td>\n",
       "      <td>4.313110</td>\n",
       "      <td>2.598255</td>\n",
       "      <td>0.000027</td>\n",
       "      <td>False</td>\n",
       "    </tr>\n",
       "    <tr>\n",
       "      <th>3</th>\n",
       "      <td>2.320795</td>\n",
       "      <td>0.987175</td>\n",
       "      <td>dummy_constant</td>\n",
       "      <td>NaN</td>\n",
       "      <td>5.261751</td>\n",
       "      <td>3.552634</td>\n",
       "      <td>0.000029</td>\n",
       "      <td>False</td>\n",
       "    </tr>\n",
       "    <tr>\n",
       "      <th>4</th>\n",
       "      <td>1.542934</td>\n",
       "      <td>0.201777</td>\n",
       "      <td>dummy_constant</td>\n",
       "      <td>NaN</td>\n",
       "      <td>1.470160</td>\n",
       "      <td>1.176649</td>\n",
       "      <td>0.000027</td>\n",
       "      <td>False</td>\n",
       "    </tr>\n",
       "    <tr>\n",
       "      <th>5</th>\n",
       "      <td>1.177772</td>\n",
       "      <td>0.254384</td>\n",
       "      <td>dummy_constant</td>\n",
       "      <td>NaN</td>\n",
       "      <td>0.548447</td>\n",
       "      <td>0.519702</td>\n",
       "      <td>0.000028</td>\n",
       "      <td>False</td>\n",
       "    </tr>\n",
       "    <tr>\n",
       "      <th>6</th>\n",
       "      <td>1.060877</td>\n",
       "      <td>0.227562</td>\n",
       "      <td>dummy_constant</td>\n",
       "      <td>1.060877</td>\n",
       "      <td>0.274397</td>\n",
       "      <td>0.388805</td>\n",
       "      <td>0.000027</td>\n",
       "      <td>False</td>\n",
       "    </tr>\n",
       "    <tr>\n",
       "      <th>7</th>\n",
       "      <td>0.406646</td>\n",
       "      <td>1.012344</td>\n",
       "      <td>dummy_constant</td>\n",
       "      <td>0.406646</td>\n",
       "      <td>0.091673</td>\n",
       "      <td>0.271211</td>\n",
       "      <td>0.000027</td>\n",
       "      <td>False</td>\n",
       "    </tr>\n",
       "    <tr>\n",
       "      <th>8</th>\n",
       "      <td>0.847434</td>\n",
       "      <td>0.597622</td>\n",
       "      <td>dummy_constant</td>\n",
       "      <td>0.847434</td>\n",
       "      <td>0.167298</td>\n",
       "      <td>0.130241</td>\n",
       "      <td>0.000029</td>\n",
       "      <td>False</td>\n",
       "    </tr>\n",
       "    <tr>\n",
       "      <th>9</th>\n",
       "      <td>0.234470</td>\n",
       "      <td>1.130365</td>\n",
       "      <td>dummy_constant</td>\n",
       "      <td>0.234470</td>\n",
       "      <td>0.431847</td>\n",
       "      <td>0.467866</td>\n",
       "      <td>0.000051</td>\n",
       "      <td>False</td>\n",
       "    </tr>\n",
       "    <tr>\n",
       "      <th>10</th>\n",
       "      <td>0.000000</td>\n",
       "      <td>0.344968</td>\n",
       "      <td>dummy_constant</td>\n",
       "      <td>NaN</td>\n",
       "      <td>-0.980997</td>\n",
       "      <td>0.274035</td>\n",
       "      <td>0.000029</td>\n",
       "      <td>False</td>\n",
       "    </tr>\n",
       "    <tr>\n",
       "      <th>11</th>\n",
       "      <td>0.107638</td>\n",
       "      <td>1.024794</td>\n",
       "      <td>dummy_constant</td>\n",
       "      <td>0.107638</td>\n",
       "      <td>0.072130</td>\n",
       "      <td>0.429357</td>\n",
       "      <td>0.000028</td>\n",
       "      <td>False</td>\n",
       "    </tr>\n",
       "    <tr>\n",
       "      <th>12</th>\n",
       "      <td>0.893035</td>\n",
       "      <td>1.027480</td>\n",
       "      <td>dummy_constant</td>\n",
       "      <td>0.893035</td>\n",
       "      <td>0.809502</td>\n",
       "      <td>0.432712</td>\n",
       "      <td>0.000026</td>\n",
       "      <td>False</td>\n",
       "    </tr>\n",
       "    <tr>\n",
       "      <th>13</th>\n",
       "      <td>1.166175</td>\n",
       "      <td>0.519487</td>\n",
       "      <td>dummy_constant</td>\n",
       "      <td>1.166175</td>\n",
       "      <td>0.538605</td>\n",
       "      <td>0.444170</td>\n",
       "      <td>0.000028</td>\n",
       "      <td>False</td>\n",
       "    </tr>\n",
       "    <tr>\n",
       "      <th>14</th>\n",
       "      <td>0.915330</td>\n",
       "      <td>0.000978</td>\n",
       "      <td>dummy_constant</td>\n",
       "      <td>NaN</td>\n",
       "      <td>-0.262155</td>\n",
       "      <td>0.421522</td>\n",
       "      <td>0.000030</td>\n",
       "      <td>False</td>\n",
       "    </tr>\n",
       "    <tr>\n",
       "      <th>15</th>\n",
       "      <td>1.039485</td>\n",
       "      <td>0.069048</td>\n",
       "      <td>dummy_constant</td>\n",
       "      <td>1.039485</td>\n",
       "      <td>0.036518</td>\n",
       "      <td>0.476764</td>\n",
       "      <td>0.000027</td>\n",
       "      <td>False</td>\n",
       "    </tr>\n",
       "    <tr>\n",
       "      <th>16</th>\n",
       "      <td>1.095404</td>\n",
       "      <td>0.821057</td>\n",
       "      <td>dummy_constant</td>\n",
       "      <td>1.095404</td>\n",
       "      <td>0.938786</td>\n",
       "      <td>0.457584</td>\n",
       "      <td>0.000028</td>\n",
       "      <td>False</td>\n",
       "    </tr>\n",
       "    <tr>\n",
       "      <th>17</th>\n",
       "      <td>1.161896</td>\n",
       "      <td>0.282164</td>\n",
       "      <td>dummy_constant</td>\n",
       "      <td>1.161896</td>\n",
       "      <td>0.507990</td>\n",
       "      <td>0.485559</td>\n",
       "      <td>0.000027</td>\n",
       "      <td>False</td>\n",
       "    </tr>\n",
       "    <tr>\n",
       "      <th>18</th>\n",
       "      <td>0.596945</td>\n",
       "      <td>1.067562</td>\n",
       "      <td>dummy_constant</td>\n",
       "      <td>0.596945</td>\n",
       "      <td>0.525934</td>\n",
       "      <td>0.331525</td>\n",
       "      <td>0.000026</td>\n",
       "      <td>False</td>\n",
       "    </tr>\n",
       "    <tr>\n",
       "      <th>19</th>\n",
       "      <td>0.505268</td>\n",
       "      <td>1.185671</td>\n",
       "      <td>dummy_constant</td>\n",
       "      <td>0.505268</td>\n",
       "      <td>0.562424</td>\n",
       "      <td>0.470172</td>\n",
       "      <td>0.000028</td>\n",
       "      <td>False</td>\n",
       "    </tr>\n",
       "    <tr>\n",
       "      <th>20</th>\n",
       "      <td>0.619118</td>\n",
       "      <td>0.837373</td>\n",
       "      <td>dummy_constant</td>\n",
       "      <td>0.619118</td>\n",
       "      <td>0.156867</td>\n",
       "      <td>0.128010</td>\n",
       "      <td>0.000026</td>\n",
       "      <td>False</td>\n",
       "    </tr>\n",
       "    <tr>\n",
       "      <th>21</th>\n",
       "      <td>0.287629</td>\n",
       "      <td>0.995823</td>\n",
       "      <td>dummy_constant</td>\n",
       "      <td>0.287629</td>\n",
       "      <td>0.095580</td>\n",
       "      <td>0.290942</td>\n",
       "      <td>0.000027</td>\n",
       "      <td>False</td>\n",
       "    </tr>\n",
       "    <tr>\n",
       "      <th>22</th>\n",
       "      <td>0.034159</td>\n",
       "      <td>1.012935</td>\n",
       "      <td>dummy_constant</td>\n",
       "      <td>NaN</td>\n",
       "      <td>-0.058599</td>\n",
       "      <td>0.480110</td>\n",
       "      <td>0.000028</td>\n",
       "      <td>False</td>\n",
       "    </tr>\n",
       "    <tr>\n",
       "      <th>23</th>\n",
       "      <td>0.738658</td>\n",
       "      <td>1.145098</td>\n",
       "      <td>dummy_constant</td>\n",
       "      <td>0.738658</td>\n",
       "      <td>0.953544</td>\n",
       "      <td>0.473109</td>\n",
       "      <td>0.000028</td>\n",
       "      <td>False</td>\n",
       "    </tr>\n",
       "    <tr>\n",
       "      <th>24</th>\n",
       "      <td>0.956096</td>\n",
       "      <td>0.359701</td>\n",
       "      <td>dummy_constant</td>\n",
       "      <td>NaN</td>\n",
       "      <td>-0.042990</td>\n",
       "      <td>0.227707</td>\n",
       "      <td>0.000030</td>\n",
       "      <td>False</td>\n",
       "    </tr>\n",
       "    <tr>\n",
       "      <th>25</th>\n",
       "      <td>0.966611</td>\n",
       "      <td>0.371406</td>\n",
       "      <td>dummy_constant</td>\n",
       "      <td>NaN</td>\n",
       "      <td>-0.019285</td>\n",
       "      <td>0.234262</td>\n",
       "      <td>0.000029</td>\n",
       "      <td>False</td>\n",
       "    </tr>\n",
       "    <tr>\n",
       "      <th>26</th>\n",
       "      <td>0.970920</td>\n",
       "      <td>0.377050</td>\n",
       "      <td>dummy_constant</td>\n",
       "      <td>NaN</td>\n",
       "      <td>-0.008860</td>\n",
       "      <td>0.236882</td>\n",
       "      <td>0.000028</td>\n",
       "      <td>False</td>\n",
       "    </tr>\n",
       "    <tr>\n",
       "      <th>27</th>\n",
       "      <td>0.975148</td>\n",
       "      <td>0.383099</td>\n",
       "      <td>dummy_constant</td>\n",
       "      <td>0.975148</td>\n",
       "      <td>0.001963</td>\n",
       "      <td>0.239432</td>\n",
       "      <td>0.000027</td>\n",
       "      <td>False</td>\n",
       "    </tr>\n",
       "    <tr>\n",
       "      <th>28</th>\n",
       "      <td>1.175660</td>\n",
       "      <td>0.654821</td>\n",
       "      <td>dummy_constant</td>\n",
       "      <td>1.175660</td>\n",
       "      <td>0.838315</td>\n",
       "      <td>0.480486</td>\n",
       "      <td>0.000028</td>\n",
       "      <td>False</td>\n",
       "    </tr>\n",
       "    <tr>\n",
       "      <th>29</th>\n",
       "      <td>0.736887</td>\n",
       "      <td>0.735010</td>\n",
       "      <td>dummy_constant</td>\n",
       "      <td>NaN</td>\n",
       "      <td>-0.016738</td>\n",
       "      <td>0.111345</td>\n",
       "      <td>0.000029</td>\n",
       "      <td>False</td>\n",
       "    </tr>\n",
       "    <tr>\n",
       "      <th>30</th>\n",
       "      <td>0.491718</td>\n",
       "      <td>0.924562</td>\n",
       "      <td>dummy_constant</td>\n",
       "      <td>0.491718</td>\n",
       "      <td>0.093272</td>\n",
       "      <td>0.180322</td>\n",
       "      <td>0.000028</td>\n",
       "      <td>False</td>\n",
       "    </tr>\n",
       "    <tr>\n",
       "      <th>31</th>\n",
       "      <td>0.322270</td>\n",
       "      <td>1.172446</td>\n",
       "      <td>dummy_constant</td>\n",
       "      <td>0.322270</td>\n",
       "      <td>0.519305</td>\n",
       "      <td>0.483771</td>\n",
       "      <td>0.000028</td>\n",
       "      <td>False</td>\n",
       "    </tr>\n",
       "  </tbody>\n",
       "</table>\n",
       "</div>"
      ],
      "text/plain": [
       "          x1        x2               a        y1        c1        c2  \\\n",
       "0   1.000000  0.700000  dummy_constant  1.000000  0.584045  0.290000   \n",
       "1   0.750000  0.950000  dummy_constant  0.750000  0.494833  0.265000   \n",
       "2   1.535397  1.735397  dummy_constant       NaN  4.313110  2.598255   \n",
       "3   2.320795  0.987175  dummy_constant       NaN  5.261751  3.552634   \n",
       "4   1.542934  0.201777  dummy_constant       NaN  1.470160  1.176649   \n",
       "5   1.177772  0.254384  dummy_constant       NaN  0.548447  0.519702   \n",
       "6   1.060877  0.227562  dummy_constant  1.060877  0.274397  0.388805   \n",
       "7   0.406646  1.012344  dummy_constant  0.406646  0.091673  0.271211   \n",
       "8   0.847434  0.597622  dummy_constant  0.847434  0.167298  0.130241   \n",
       "9   0.234470  1.130365  dummy_constant  0.234470  0.431847  0.467866   \n",
       "10  0.000000  0.344968  dummy_constant       NaN -0.980997  0.274035   \n",
       "11  0.107638  1.024794  dummy_constant  0.107638  0.072130  0.429357   \n",
       "12  0.893035  1.027480  dummy_constant  0.893035  0.809502  0.432712   \n",
       "13  1.166175  0.519487  dummy_constant  1.166175  0.538605  0.444170   \n",
       "14  0.915330  0.000978  dummy_constant       NaN -0.262155  0.421522   \n",
       "15  1.039485  0.069048  dummy_constant  1.039485  0.036518  0.476764   \n",
       "16  1.095404  0.821057  dummy_constant  1.095404  0.938786  0.457584   \n",
       "17  1.161896  0.282164  dummy_constant  1.161896  0.507990  0.485559   \n",
       "18  0.596945  1.067562  dummy_constant  0.596945  0.525934  0.331525   \n",
       "19  0.505268  1.185671  dummy_constant  0.505268  0.562424  0.470172   \n",
       "20  0.619118  0.837373  dummy_constant  0.619118  0.156867  0.128010   \n",
       "21  0.287629  0.995823  dummy_constant  0.287629  0.095580  0.290942   \n",
       "22  0.034159  1.012935  dummy_constant       NaN -0.058599  0.480110   \n",
       "23  0.738658  1.145098  dummy_constant  0.738658  0.953544  0.473109   \n",
       "24  0.956096  0.359701  dummy_constant       NaN -0.042990  0.227707   \n",
       "25  0.966611  0.371406  dummy_constant       NaN -0.019285  0.234262   \n",
       "26  0.970920  0.377050  dummy_constant       NaN -0.008860  0.236882   \n",
       "27  0.975148  0.383099  dummy_constant  0.975148  0.001963  0.239432   \n",
       "28  1.175660  0.654821  dummy_constant  1.175660  0.838315  0.480486   \n",
       "29  0.736887  0.735010  dummy_constant       NaN -0.016738  0.111345   \n",
       "30  0.491718  0.924562  dummy_constant  0.491718  0.093272  0.180322   \n",
       "31  0.322270  1.172446  dummy_constant  0.322270  0.519305  0.483771   \n",
       "\n",
       "    xopt_runtime  xopt_error  \n",
       "0       0.000049       False  \n",
       "1       0.000015       False  \n",
       "2       0.000027       False  \n",
       "3       0.000029       False  \n",
       "4       0.000027       False  \n",
       "5       0.000028       False  \n",
       "6       0.000027       False  \n",
       "7       0.000027       False  \n",
       "8       0.000029       False  \n",
       "9       0.000051       False  \n",
       "10      0.000029       False  \n",
       "11      0.000028       False  \n",
       "12      0.000026       False  \n",
       "13      0.000028       False  \n",
       "14      0.000030       False  \n",
       "15      0.000027       False  \n",
       "16      0.000028       False  \n",
       "17      0.000027       False  \n",
       "18      0.000026       False  \n",
       "19      0.000028       False  \n",
       "20      0.000026       False  \n",
       "21      0.000027       False  \n",
       "22      0.000028       False  \n",
       "23      0.000028       False  \n",
       "24      0.000030       False  \n",
       "25      0.000029       False  \n",
       "26      0.000028       False  \n",
       "27      0.000027       False  \n",
       "28      0.000028       False  \n",
       "29      0.000029       False  \n",
       "30      0.000028       False  \n",
       "31      0.000028       False  "
      ]
     },
     "execution_count": 6,
     "metadata": {},
     "output_type": "execute_result"
    }
   ],
   "source": [
    "# view the data\n",
    "X.data"
   ]
  },
  {
   "cell_type": "code",
   "execution_count": 7,
   "metadata": {
    "ExecuteTime": {
     "end_time": "2023-06-14T15:42:06.400652600Z",
     "start_time": "2023-06-14T15:42:05.787612700Z"
    },
    "execution": {
     "iopub.execute_input": "2024-07-31T03:24:37.125174Z",
     "iopub.status.busy": "2024-07-31T03:24:37.124771Z",
     "iopub.status.idle": "2024-07-31T03:24:37.499699Z",
     "shell.execute_reply": "2024-07-31T03:24:37.499010Z"
    }
   },
   "outputs": [
    {
     "data": {
      "image/png": "[encoded data removed]",
      "text/plain": [
       "<Figure size 640x480 with 1 Axes>"
      ]
     },
     "metadata": {},
     "output_type": "display_data"
    }
   ],
   "source": [
    "# plot results\n",
    "ax = X.data.plot(\"x1\", \"x2\")\n",
    "ax.set_aspect(\"equal\")"
   ]
  },
  {
   "cell_type": "code",
   "execution_count": 7,
   "metadata": {
    "ExecuteTime": {
     "end_time": "2023-06-14T15:42:06.419648600Z",
     "start_time": "2023-06-14T15:42:06.401622Z"
    }
   },
   "outputs": [],
   "source": []
  }
 ],
 "metadata": {
  "kernelspec": {
   "display_name": "Python 3 (ipykernel)",
   "language": "python",
   "name": "python3"
  },
  "language_info": {
   "codemirror_mode": {
    "name": "ipython",
    "version": 3
   },
   "file_extension": ".py",
   "mimetype": "text/x-python",
   "name": "python",
   "nbconvert_exporter": "python",
   "pygments_lexer": "ipython3",
   "version": "3.9.19"
  }
 },
 "nbformat": 4,
 "nbformat_minor": 4
}
