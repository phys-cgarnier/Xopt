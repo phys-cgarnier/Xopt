{
 "cells": [
  {
   "cell_type": "markdown",
   "metadata": {},
   "source": [
    "# Bayesian Exploration with NaNs\n",
    "\n",
    "As violations of constraints can lead to invalid values of the objective, the evaluate function may simply return NaNs. We demonstrate below how we can still perform Bayesian Exploration in that case."
   ]
  },
  {
   "cell_type": "code",
   "execution_count": 1,
   "metadata": {
    "ExecuteTime": {
     "end_time": "2023-06-14T15:37:25.535638700Z",
     "start_time": "2023-06-14T15:37:22.379218300Z"
    },
    "execution": {
     "iopub.execute_input": "2024-04-03T03:58:46.619231Z",
     "iopub.status.busy": "2024-04-03T03:58:46.619062Z",
     "iopub.status.idle": "2024-04-03T03:58:48.712664Z",
     "shell.execute_reply": "2024-04-03T03:58:48.712045Z"
    }
   },
   "outputs": [],
   "source": [
    "# set values if testing\n",
    "import os\n",
    "SMOKE_TEST = os.environ.get(\"SMOKE_TEST\")\n",
    "NUM_MC_SAMPLES = 1 if SMOKE_TEST else 128\n",
    "NUM_RESTARTS = 1 if SMOKE_TEST else 20\n",
    "\n",
    "# Ignore all warnings\n",
    "import warnings\n",
    "warnings.filterwarnings(\"ignore\")\n",
    "\n",
    "import pandas as pd\n",
    "import torch\n",
    "import yaml\n",
    "from copy import deepcopy\n",
    "from xopt import Xopt, Evaluator\n",
    "from xopt.generators.bayesian import BayesianExplorationGenerator\n",
    "from xopt.resources.test_functions.tnk import evaluate_TNK, tnk_vocs\n",
    "\n",
    "vocs = deepcopy(tnk_vocs)\n",
    "vocs.objectives = {}\n",
    "vocs.observables = [\"y1\"]"
   ]
  },
  {
   "cell_type": "code",
   "execution_count": 2,
   "metadata": {
    "ExecuteTime": {
     "end_time": "2023-06-14T15:37:25.549637200Z",
     "start_time": "2023-06-14T15:37:25.539666500Z"
    },
    "execution": {
     "iopub.execute_input": "2024-04-03T03:58:48.715740Z",
     "iopub.status.busy": "2024-04-03T03:58:48.715216Z",
     "iopub.status.idle": "2024-04-03T03:58:48.719315Z",
     "shell.execute_reply": "2024-04-03T03:58:48.718838Z"
    }
   },
   "outputs": [],
   "source": [
    "# modify the evaluate function to return NaNs if constraints are violated\n",
    "def evaluate(input_dict):\n",
    "    output_dict = evaluate_TNK(input_dict)\n",
    "    del output_dict[\"y2\"]\n",
    "    for c in vocs.constraints.keys():\n",
    "        if vocs.constraints[c][0].upper() == \"GREATER_THAN\" and output_dict[c] <= vocs.constraints[c][1]:\n",
    "            output_dict[\"y1\"] = torch.nan\n",
    "        elif vocs.constraints[c][0].upper() == \"LESS_THAN\" and output_dict[c] >= vocs.constraints[c][1]:\n",
    "            output_dict[\"y1\"] = torch.nan\n",
    "    return output_dict"
   ]
  },
  {
   "cell_type": "code",
   "execution_count": 3,
   "metadata": {
    "ExecuteTime": {
     "end_time": "2023-06-14T15:37:25.580538800Z",
     "start_time": "2023-06-14T15:37:25.552636600Z"
    },
    "execution": {
     "iopub.execute_input": "2024-04-03T03:58:48.721535Z",
     "iopub.status.busy": "2024-04-03T03:58:48.721114Z",
     "iopub.status.idle": "2024-04-03T03:58:48.737946Z",
     "shell.execute_reply": "2024-04-03T03:58:48.737428Z"
    }
   },
   "outputs": [
    {
     "data": {
      "text/plain": [
       "\n",
       "            Xopt\n",
       "________________________________\n",
       "Version: 0+untagged.1.gc3b7c41\n",
       "Data size: 0\n",
       "Config as YAML:\n",
       "dump_file: null\n",
       "evaluator:\n",
       "  function: __main__.evaluate\n",
       "  function_kwargs: {}\n",
       "  max_workers: 1\n",
       "  vectorized: false\n",
       "generator:\n",
       "  computation_time: null\n",
       "  fixed_features: null\n",
       "  gp_constructor:\n",
       "    covar_modules: {}\n",
       "    custom_noise_prior: null\n",
       "    mean_modules: {}\n",
       "    name: standard\n",
       "    trainable_mean_keys: []\n",
       "    transform_inputs: true\n",
       "    use_low_noise_prior: true\n",
       "  log_transform_acquisition_function: false\n",
       "  max_travel_distances:\n",
       "  - 0.25\n",
       "  - 0.25\n",
       "  model: null\n",
       "  n_candidates: 1\n",
       "  n_interpolate_points: null\n",
       "  n_monte_carlo_samples: 128\n",
       "  name: bayesian_exploration\n",
       "  numerical_optimizer:\n",
       "    max_iter: 2000\n",
       "    max_time: null\n",
       "    n_restarts: 20\n",
       "    name: LBFGS\n",
       "  supports_batch_generation: true\n",
       "  turbo_controller: null\n",
       "  use_cuda: false\n",
       "max_evaluations: null\n",
       "serialize_inline: false\n",
       "serialize_torch: false\n",
       "strict: true\n",
       "vocs:\n",
       "  constants:\n",
       "    a: dummy_constant\n",
       "  constraints:\n",
       "    c1:\n",
       "    - GREATER_THAN\n",
       "    - 0.0\n",
       "    c2:\n",
       "    - LESS_THAN\n",
       "    - 0.5\n",
       "  objectives: {}\n",
       "  observables:\n",
       "  - y1\n",
       "  variables:\n",
       "    x1:\n",
       "    - 0.0\n",
       "    - 3.14159\n",
       "    x2:\n",
       "    - 0.0\n",
       "    - 3.14159\n"
      ]
     },
     "execution_count": 3,
     "metadata": {},
     "output_type": "execute_result"
    }
   ],
   "source": [
    "generator = BayesianExplorationGenerator(vocs=vocs)\n",
    "generator.max_travel_distances = [0.25, 0.25]\n",
    "generator.n_monte_carlo_samples = NUM_MC_SAMPLES\n",
    "generator.numerical_optimizer.n_restarts = NUM_RESTARTS\n",
    "\n",
    "evaluator = Evaluator(function=evaluate)\n",
    "X = Xopt(generator=generator, evaluator=evaluator, vocs=vocs)\n",
    "X"
   ]
  },
  {
   "cell_type": "markdown",
   "metadata": {},
   "source": [
    "## Run exploration\n",
    "We start with evaluating 2 points that we know satisfy the constraints. We then run\n",
    "30 exploration steps."
   ]
  },
  {
   "cell_type": "code",
   "execution_count": 4,
   "metadata": {
    "ExecuteTime": {
     "end_time": "2023-06-14T15:37:25.638907100Z",
     "start_time": "2023-06-14T15:37:25.582541Z"
    },
    "execution": {
     "iopub.execute_input": "2024-04-03T03:58:48.767734Z",
     "iopub.status.busy": "2024-04-03T03:58:48.767541Z",
     "iopub.status.idle": "2024-04-03T03:58:48.779885Z",
     "shell.execute_reply": "2024-04-03T03:58:48.779397Z"
    }
   },
   "outputs": [
    {
     "data": {
      "text/html": [
       "<div>\n",
       "<style scoped>\n",
       "    .dataframe tbody tr th:only-of-type {\n",
       "        vertical-align: middle;\n",
       "    }\n",
       "\n",
       "    .dataframe tbody tr th {\n",
       "        vertical-align: top;\n",
       "    }\n",
       "\n",
       "    .dataframe thead th {\n",
       "        text-align: right;\n",
       "    }\n",
       "</style>\n",
       "<table border=\"1\" class=\"dataframe\">\n",
       "  <thead>\n",
       "    <tr style=\"text-align: right;\">\n",
       "      <th></th>\n",
       "      <th>x1</th>\n",
       "      <th>x2</th>\n",
       "      <th>a</th>\n",
       "      <th>y1</th>\n",
       "      <th>c1</th>\n",
       "      <th>c2</th>\n",
       "      <th>xopt_runtime</th>\n",
       "      <th>xopt_error</th>\n",
       "    </tr>\n",
       "  </thead>\n",
       "  <tbody>\n",
       "    <tr>\n",
       "      <th>0</th>\n",
       "      <td>1.00</td>\n",
       "      <td>0.70</td>\n",
       "      <td>dummy_constant</td>\n",
       "      <td>1.00</td>\n",
       "      <td>0.584045</td>\n",
       "      <td>0.290</td>\n",
       "      <td>0.000038</td>\n",
       "      <td>False</td>\n",
       "    </tr>\n",
       "    <tr>\n",
       "      <th>1</th>\n",
       "      <td>0.75</td>\n",
       "      <td>0.95</td>\n",
       "      <td>dummy_constant</td>\n",
       "      <td>0.75</td>\n",
       "      <td>0.494833</td>\n",
       "      <td>0.265</td>\n",
       "      <td>0.000011</td>\n",
       "      <td>False</td>\n",
       "    </tr>\n",
       "  </tbody>\n",
       "</table>\n",
       "</div>"
      ],
      "text/plain": [
       "     x1    x2               a    y1        c1     c2  xopt_runtime  xopt_error\n",
       "0  1.00  0.70  dummy_constant  1.00  0.584045  0.290      0.000038       False\n",
       "1  0.75  0.95  dummy_constant  0.75  0.494833  0.265      0.000011       False"
      ]
     },
     "execution_count": 4,
     "metadata": {},
     "output_type": "execute_result"
    }
   ],
   "source": [
    "X.evaluate_data(pd.DataFrame({\"x1\": [1.0, 0.75], \"x2\": [0.7, 0.95]}))"
   ]
  },
  {
   "cell_type": "code",
   "execution_count": 5,
   "metadata": {
    "ExecuteTime": {
     "end_time": "2023-06-14T15:42:05.755461900Z",
     "start_time": "2023-06-14T15:37:25.611873400Z"
    },
    "execution": {
     "iopub.execute_input": "2024-04-03T03:58:48.781884Z",
     "iopub.status.busy": "2024-04-03T03:58:48.781703Z",
     "iopub.status.idle": "2024-04-03T04:00:02.502736Z",
     "shell.execute_reply": "2024-04-03T04:00:02.502070Z"
    },
    "scrolled": false
   },
   "outputs": [
    {
     "name": "stdout",
     "output_type": "stream",
     "text": [
      "step 0\n"
     ]
    },
    {
     "name": "stdout",
     "output_type": "stream",
     "text": [
      "step 1\n"
     ]
    },
    {
     "name": "stdout",
     "output_type": "stream",
     "text": [
      "step 2\n"
     ]
    },
    {
     "name": "stdout",
     "output_type": "stream",
     "text": [
      "step 3\n"
     ]
    },
    {
     "name": "stdout",
     "output_type": "stream",
     "text": [
      "step 4\n"
     ]
    },
    {
     "name": "stdout",
     "output_type": "stream",
     "text": [
      "step 5\n"
     ]
    },
    {
     "name": "stdout",
     "output_type": "stream",
     "text": [
      "step 6\n"
     ]
    },
    {
     "name": "stdout",
     "output_type": "stream",
     "text": [
      "step 7\n"
     ]
    },
    {
     "name": "stdout",
     "output_type": "stream",
     "text": [
      "step 8\n"
     ]
    },
    {
     "name": "stdout",
     "output_type": "stream",
     "text": [
      "step 9\n"
     ]
    },
    {
     "name": "stdout",
     "output_type": "stream",
     "text": [
      "step 10\n"
     ]
    },
    {
     "name": "stdout",
     "output_type": "stream",
     "text": [
      "step 11\n"
     ]
    },
    {
     "name": "stdout",
     "output_type": "stream",
     "text": [
      "step 12\n"
     ]
    },
    {
     "name": "stdout",
     "output_type": "stream",
     "text": [
      "step 13\n"
     ]
    },
    {
     "name": "stdout",
     "output_type": "stream",
     "text": [
      "step 14\n"
     ]
    },
    {
     "name": "stdout",
     "output_type": "stream",
     "text": [
      "step 15\n"
     ]
    },
    {
     "name": "stdout",
     "output_type": "stream",
     "text": [
      "step 16\n"
     ]
    },
    {
     "name": "stdout",
     "output_type": "stream",
     "text": [
      "step 17\n"
     ]
    },
    {
     "name": "stdout",
     "output_type": "stream",
     "text": [
      "step 18\n"
     ]
    },
    {
     "name": "stdout",
     "output_type": "stream",
     "text": [
      "step 19\n"
     ]
    },
    {
     "name": "stdout",
     "output_type": "stream",
     "text": [
      "step 20\n"
     ]
    },
    {
     "name": "stdout",
     "output_type": "stream",
     "text": [
      "step 21\n"
     ]
    },
    {
     "name": "stdout",
     "output_type": "stream",
     "text": [
      "step 22\n"
     ]
    },
    {
     "name": "stdout",
     "output_type": "stream",
     "text": [
      "step 23\n"
     ]
    },
    {
     "name": "stdout",
     "output_type": "stream",
     "text": [
      "step 24\n"
     ]
    },
    {
     "name": "stdout",
     "output_type": "stream",
     "text": [
      "step 25\n"
     ]
    },
    {
     "name": "stdout",
     "output_type": "stream",
     "text": [
      "step 26\n"
     ]
    },
    {
     "name": "stdout",
     "output_type": "stream",
     "text": [
      "step 27\n"
     ]
    },
    {
     "name": "stdout",
     "output_type": "stream",
     "text": [
      "step 28\n"
     ]
    },
    {
     "name": "stdout",
     "output_type": "stream",
     "text": [
      "step 29\n"
     ]
    }
   ],
   "source": [
    "N_STEPS = 1 if SMOKE_TEST else 30\n",
    "for i in range(N_STEPS):\n",
    "    print(f\"step {i}\")\n",
    "    X.step()"
   ]
  },
  {
   "cell_type": "code",
   "execution_count": 6,
   "metadata": {
    "ExecuteTime": {
     "end_time": "2023-06-14T15:42:05.786611100Z",
     "start_time": "2023-06-14T15:42:05.773463300Z"
    },
    "execution": {
     "iopub.execute_input": "2024-04-03T04:00:02.505666Z",
     "iopub.status.busy": "2024-04-03T04:00:02.505470Z",
     "iopub.status.idle": "2024-04-03T04:00:02.517017Z",
     "shell.execute_reply": "2024-04-03T04:00:02.516420Z"
    }
   },
   "outputs": [
    {
     "data": {
      "text/html": [
       "<div>\n",
       "<style scoped>\n",
       "    .dataframe tbody tr th:only-of-type {\n",
       "        vertical-align: middle;\n",
       "    }\n",
       "\n",
       "    .dataframe tbody tr th {\n",
       "        vertical-align: top;\n",
       "    }\n",
       "\n",
       "    .dataframe thead th {\n",
       "        text-align: right;\n",
       "    }\n",
       "</style>\n",
       "<table border=\"1\" class=\"dataframe\">\n",
       "  <thead>\n",
       "    <tr style=\"text-align: right;\">\n",
       "      <th></th>\n",
       "      <th>x1</th>\n",
       "      <th>x2</th>\n",
       "      <th>a</th>\n",
       "      <th>y1</th>\n",
       "      <th>c1</th>\n",
       "      <th>c2</th>\n",
       "      <th>xopt_runtime</th>\n",
       "      <th>xopt_error</th>\n",
       "    </tr>\n",
       "  </thead>\n",
       "  <tbody>\n",
       "    <tr>\n",
       "      <th>0</th>\n",
       "      <td>1.000000</td>\n",
       "      <td>0.700000</td>\n",
       "      <td>dummy_constant</td>\n",
       "      <td>1.000000</td>\n",
       "      <td>0.584045</td>\n",
       "      <td>0.290000</td>\n",
       "      <td>0.000038</td>\n",
       "      <td>False</td>\n",
       "    </tr>\n",
       "    <tr>\n",
       "      <th>1</th>\n",
       "      <td>0.750000</td>\n",
       "      <td>0.950000</td>\n",
       "      <td>dummy_constant</td>\n",
       "      <td>0.750000</td>\n",
       "      <td>0.494833</td>\n",
       "      <td>0.265000</td>\n",
       "      <td>0.000011</td>\n",
       "      <td>False</td>\n",
       "    </tr>\n",
       "    <tr>\n",
       "      <th>2</th>\n",
       "      <td>1.535397</td>\n",
       "      <td>1.735397</td>\n",
       "      <td>dummy_constant</td>\n",
       "      <td>NaN</td>\n",
       "      <td>4.313110</td>\n",
       "      <td>2.598255</td>\n",
       "      <td>0.000032</td>\n",
       "      <td>False</td>\n",
       "    </tr>\n",
       "    <tr>\n",
       "      <th>3</th>\n",
       "      <td>2.320795</td>\n",
       "      <td>0.950000</td>\n",
       "      <td>dummy_constant</td>\n",
       "      <td>NaN</td>\n",
       "      <td>5.188811</td>\n",
       "      <td>3.517794</td>\n",
       "      <td>0.000029</td>\n",
       "      <td>False</td>\n",
       "    </tr>\n",
       "    <tr>\n",
       "      <th>4</th>\n",
       "      <td>1.559839</td>\n",
       "      <td>0.164602</td>\n",
       "      <td>dummy_constant</td>\n",
       "      <td>NaN</td>\n",
       "      <td>1.471307</td>\n",
       "      <td>1.235750</td>\n",
       "      <td>0.000028</td>\n",
       "      <td>False</td>\n",
       "    </tr>\n",
       "    <tr>\n",
       "      <th>5</th>\n",
       "      <td>0.774441</td>\n",
       "      <td>0.000000</td>\n",
       "      <td>dummy_constant</td>\n",
       "      <td>NaN</td>\n",
       "      <td>-0.500241</td>\n",
       "      <td>0.325318</td>\n",
       "      <td>0.000029</td>\n",
       "      <td>False</td>\n",
       "    </tr>\n",
       "    <tr>\n",
       "      <th>6</th>\n",
       "      <td>0.004783</td>\n",
       "      <td>0.758907</td>\n",
       "      <td>dummy_constant</td>\n",
       "      <td>NaN</td>\n",
       "      <td>-0.523529</td>\n",
       "      <td>0.312273</td>\n",
       "      <td>0.000028</td>\n",
       "      <td>False</td>\n",
       "    </tr>\n",
       "    <tr>\n",
       "      <th>7</th>\n",
       "      <td>0.001044</td>\n",
       "      <td>1.544305</td>\n",
       "      <td>dummy_constant</td>\n",
       "      <td>NaN</td>\n",
       "      <td>1.284884</td>\n",
       "      <td>1.339530</td>\n",
       "      <td>0.000029</td>\n",
       "      <td>False</td>\n",
       "    </tr>\n",
       "    <tr>\n",
       "      <th>8</th>\n",
       "      <td>0.433900</td>\n",
       "      <td>1.048731</td>\n",
       "      <td>dummy_constant</td>\n",
       "      <td>0.433900</td>\n",
       "      <td>0.188107</td>\n",
       "      <td>0.305475</td>\n",
       "      <td>0.000029</td>\n",
       "      <td>False</td>\n",
       "    </tr>\n",
       "    <tr>\n",
       "      <th>9</th>\n",
       "      <td>1.067144</td>\n",
       "      <td>0.320142</td>\n",
       "      <td>dummy_constant</td>\n",
       "      <td>1.067144</td>\n",
       "      <td>0.246194</td>\n",
       "      <td>0.354001</td>\n",
       "      <td>0.000037</td>\n",
       "      <td>False</td>\n",
       "    </tr>\n",
       "    <tr>\n",
       "      <th>10</th>\n",
       "      <td>0.795689</td>\n",
       "      <td>0.696098</td>\n",
       "      <td>dummy_constant</td>\n",
       "      <td>0.795689</td>\n",
       "      <td>0.069360</td>\n",
       "      <td>0.125886</td>\n",
       "      <td>0.000029</td>\n",
       "      <td>False</td>\n",
       "    </tr>\n",
       "    <tr>\n",
       "      <th>11</th>\n",
       "      <td>0.661782</td>\n",
       "      <td>1.138882</td>\n",
       "      <td>dummy_constant</td>\n",
       "      <td>0.661782</td>\n",
       "      <td>0.788825</td>\n",
       "      <td>0.434343</td>\n",
       "      <td>0.000028</td>\n",
       "      <td>False</td>\n",
       "    </tr>\n",
       "    <tr>\n",
       "      <th>12</th>\n",
       "      <td>0.218198</td>\n",
       "      <td>1.080728</td>\n",
       "      <td>dummy_constant</td>\n",
       "      <td>0.218198</td>\n",
       "      <td>0.315478</td>\n",
       "      <td>0.416658</td>\n",
       "      <td>0.000027</td>\n",
       "      <td>False</td>\n",
       "    </tr>\n",
       "    <tr>\n",
       "      <th>13</th>\n",
       "      <td>1.001534</td>\n",
       "      <td>0.917535</td>\n",
       "      <td>dummy_constant</td>\n",
       "      <td>1.001534</td>\n",
       "      <td>0.768448</td>\n",
       "      <td>0.425871</td>\n",
       "      <td>0.000026</td>\n",
       "      <td>False</td>\n",
       "    </tr>\n",
       "    <tr>\n",
       "      <th>14</th>\n",
       "      <td>1.148673</td>\n",
       "      <td>0.615168</td>\n",
       "      <td>dummy_constant</td>\n",
       "      <td>1.148673</td>\n",
       "      <td>0.699168</td>\n",
       "      <td>0.434040</td>\n",
       "      <td>0.000029</td>\n",
       "      <td>False</td>\n",
       "    </tr>\n",
       "    <tr>\n",
       "      <th>15</th>\n",
       "      <td>1.078647</td>\n",
       "      <td>0.150482</td>\n",
       "      <td>dummy_constant</td>\n",
       "      <td>1.078647</td>\n",
       "      <td>0.246406</td>\n",
       "      <td>0.456995</td>\n",
       "      <td>0.000027</td>\n",
       "      <td>False</td>\n",
       "    </tr>\n",
       "    <tr>\n",
       "      <th>16</th>\n",
       "      <td>1.029844</td>\n",
       "      <td>0.935879</td>\n",
       "      <td>dummy_constant</td>\n",
       "      <td>1.029844</td>\n",
       "      <td>0.864257</td>\n",
       "      <td>0.470725</td>\n",
       "      <td>0.000028</td>\n",
       "      <td>False</td>\n",
       "    </tr>\n",
       "    <tr>\n",
       "      <th>17</th>\n",
       "      <td>1.184613</td>\n",
       "      <td>0.557321</td>\n",
       "      <td>dummy_constant</td>\n",
       "      <td>1.184613</td>\n",
       "      <td>0.640930</td>\n",
       "      <td>0.471981</td>\n",
       "      <td>0.000029</td>\n",
       "      <td>False</td>\n",
       "    </tr>\n",
       "    <tr>\n",
       "      <th>18</th>\n",
       "      <td>0.605823</td>\n",
       "      <td>1.178766</td>\n",
       "      <td>dummy_constant</td>\n",
       "      <td>0.605823</td>\n",
       "      <td>0.730986</td>\n",
       "      <td>0.471922</td>\n",
       "      <td>0.000029</td>\n",
       "      <td>False</td>\n",
       "    </tr>\n",
       "    <tr>\n",
       "      <th>19</th>\n",
       "      <td>0.601556</td>\n",
       "      <td>0.880385</td>\n",
       "      <td>dummy_constant</td>\n",
       "      <td>0.601556</td>\n",
       "      <td>0.235573</td>\n",
       "      <td>0.155006</td>\n",
       "      <td>0.000029</td>\n",
       "      <td>False</td>\n",
       "    </tr>\n",
       "    <tr>\n",
       "      <th>20</th>\n",
       "      <td>0.104272</td>\n",
       "      <td>1.053175</td>\n",
       "      <td>dummy_constant</td>\n",
       "      <td>0.104272</td>\n",
       "      <td>0.120867</td>\n",
       "      <td>0.462603</td>\n",
       "      <td>0.000027</td>\n",
       "      <td>False</td>\n",
       "    </tr>\n",
       "    <tr>\n",
       "      <th>21</th>\n",
       "      <td>0.889669</td>\n",
       "      <td>0.556528</td>\n",
       "      <td>dummy_constant</td>\n",
       "      <td>0.889669</td>\n",
       "      <td>0.189892</td>\n",
       "      <td>0.155037</td>\n",
       "      <td>0.000027</td>\n",
       "      <td>False</td>\n",
       "    </tr>\n",
       "    <tr>\n",
       "      <th>22</th>\n",
       "      <td>0.847675</td>\n",
       "      <td>1.094531</td>\n",
       "      <td>dummy_constant</td>\n",
       "      <td>0.847675</td>\n",
       "      <td>0.960226</td>\n",
       "      <td>0.474346</td>\n",
       "      <td>0.000027</td>\n",
       "      <td>False</td>\n",
       "    </tr>\n",
       "    <tr>\n",
       "      <th>23</th>\n",
       "      <td>0.407166</td>\n",
       "      <td>1.181980</td>\n",
       "      <td>dummy_constant</td>\n",
       "      <td>0.407166</td>\n",
       "      <td>0.506763</td>\n",
       "      <td>0.473715</td>\n",
       "      <td>0.000027</td>\n",
       "      <td>False</td>\n",
       "    </tr>\n",
       "    <tr>\n",
       "      <th>24</th>\n",
       "      <td>0.077750</td>\n",
       "      <td>1.049843</td>\n",
       "      <td>dummy_constant</td>\n",
       "      <td>0.077750</td>\n",
       "      <td>0.070380</td>\n",
       "      <td>0.480623</td>\n",
       "      <td>0.000029</td>\n",
       "      <td>False</td>\n",
       "    </tr>\n",
       "    <tr>\n",
       "      <th>25</th>\n",
       "      <td>0.537947</td>\n",
       "      <td>0.884167</td>\n",
       "      <td>dummy_constant</td>\n",
       "      <td>0.537947</td>\n",
       "      <td>0.148936</td>\n",
       "      <td>0.149024</td>\n",
       "      <td>0.000028</td>\n",
       "      <td>False</td>\n",
       "    </tr>\n",
       "    <tr>\n",
       "      <th>26</th>\n",
       "      <td>1.062459</td>\n",
       "      <td>0.098769</td>\n",
       "      <td>dummy_constant</td>\n",
       "      <td>1.062459</td>\n",
       "      <td>0.129820</td>\n",
       "      <td>0.477346</td>\n",
       "      <td>0.000028</td>\n",
       "      <td>False</td>\n",
       "    </tr>\n",
       "    <tr>\n",
       "      <th>27</th>\n",
       "      <td>1.044018</td>\n",
       "      <td>0.065992</td>\n",
       "      <td>dummy_constant</td>\n",
       "      <td>1.044018</td>\n",
       "      <td>0.041143</td>\n",
       "      <td>0.484319</td>\n",
       "      <td>0.000028</td>\n",
       "      <td>False</td>\n",
       "    </tr>\n",
       "    <tr>\n",
       "      <th>28</th>\n",
       "      <td>1.146307</td>\n",
       "      <td>0.747649</td>\n",
       "      <td>dummy_constant</td>\n",
       "      <td>1.146307</td>\n",
       "      <td>0.971423</td>\n",
       "      <td>0.479043</td>\n",
       "      <td>0.000027</td>\n",
       "      <td>False</td>\n",
       "    </tr>\n",
       "    <tr>\n",
       "      <th>29</th>\n",
       "      <td>1.186356</td>\n",
       "      <td>0.413469</td>\n",
       "      <td>dummy_constant</td>\n",
       "      <td>1.186356</td>\n",
       "      <td>0.517616</td>\n",
       "      <td>0.478573</td>\n",
       "      <td>0.000028</td>\n",
       "      <td>False</td>\n",
       "    </tr>\n",
       "    <tr>\n",
       "      <th>30</th>\n",
       "      <td>0.913926</td>\n",
       "      <td>0.477393</td>\n",
       "      <td>dummy_constant</td>\n",
       "      <td>0.913926</td>\n",
       "      <td>0.048018</td>\n",
       "      <td>0.171846</td>\n",
       "      <td>0.000029</td>\n",
       "      <td>False</td>\n",
       "    </tr>\n",
       "    <tr>\n",
       "      <th>31</th>\n",
       "      <td>0.447790</td>\n",
       "      <td>1.193630</td>\n",
       "      <td>dummy_constant</td>\n",
       "      <td>0.447790</td>\n",
       "      <td>0.539537</td>\n",
       "      <td>0.483849</td>\n",
       "      <td>0.000027</td>\n",
       "      <td>False</td>\n",
       "    </tr>\n",
       "  </tbody>\n",
       "</table>\n",
       "</div>"
      ],
      "text/plain": [
       "          x1        x2               a        y1        c1        c2  \\\n",
       "0   1.000000  0.700000  dummy_constant  1.000000  0.584045  0.290000   \n",
       "1   0.750000  0.950000  dummy_constant  0.750000  0.494833  0.265000   \n",
       "2   1.535397  1.735397  dummy_constant       NaN  4.313110  2.598255   \n",
       "3   2.320795  0.950000  dummy_constant       NaN  5.188811  3.517794   \n",
       "4   1.559839  0.164602  dummy_constant       NaN  1.471307  1.235750   \n",
       "5   0.774441  0.000000  dummy_constant       NaN -0.500241  0.325318   \n",
       "6   0.004783  0.758907  dummy_constant       NaN -0.523529  0.312273   \n",
       "7   0.001044  1.544305  dummy_constant       NaN  1.284884  1.339530   \n",
       "8   0.433900  1.048731  dummy_constant  0.433900  0.188107  0.305475   \n",
       "9   1.067144  0.320142  dummy_constant  1.067144  0.246194  0.354001   \n",
       "10  0.795689  0.696098  dummy_constant  0.795689  0.069360  0.125886   \n",
       "11  0.661782  1.138882  dummy_constant  0.661782  0.788825  0.434343   \n",
       "12  0.218198  1.080728  dummy_constant  0.218198  0.315478  0.416658   \n",
       "13  1.001534  0.917535  dummy_constant  1.001534  0.768448  0.425871   \n",
       "14  1.148673  0.615168  dummy_constant  1.148673  0.699168  0.434040   \n",
       "15  1.078647  0.150482  dummy_constant  1.078647  0.246406  0.456995   \n",
       "16  1.029844  0.935879  dummy_constant  1.029844  0.864257  0.470725   \n",
       "17  1.184613  0.557321  dummy_constant  1.184613  0.640930  0.471981   \n",
       "18  0.605823  1.178766  dummy_constant  0.605823  0.730986  0.471922   \n",
       "19  0.601556  0.880385  dummy_constant  0.601556  0.235573  0.155006   \n",
       "20  0.104272  1.053175  dummy_constant  0.104272  0.120867  0.462603   \n",
       "21  0.889669  0.556528  dummy_constant  0.889669  0.189892  0.155037   \n",
       "22  0.847675  1.094531  dummy_constant  0.847675  0.960226  0.474346   \n",
       "23  0.407166  1.181980  dummy_constant  0.407166  0.506763  0.473715   \n",
       "24  0.077750  1.049843  dummy_constant  0.077750  0.070380  0.480623   \n",
       "25  0.537947  0.884167  dummy_constant  0.537947  0.148936  0.149024   \n",
       "26  1.062459  0.098769  dummy_constant  1.062459  0.129820  0.477346   \n",
       "27  1.044018  0.065992  dummy_constant  1.044018  0.041143  0.484319   \n",
       "28  1.146307  0.747649  dummy_constant  1.146307  0.971423  0.479043   \n",
       "29  1.186356  0.413469  dummy_constant  1.186356  0.517616  0.478573   \n",
       "30  0.913926  0.477393  dummy_constant  0.913926  0.048018  0.171846   \n",
       "31  0.447790  1.193630  dummy_constant  0.447790  0.539537  0.483849   \n",
       "\n",
       "    xopt_runtime  xopt_error  \n",
       "0       0.000038       False  \n",
       "1       0.000011       False  \n",
       "2       0.000032       False  \n",
       "3       0.000029       False  \n",
       "4       0.000028       False  \n",
       "5       0.000029       False  \n",
       "6       0.000028       False  \n",
       "7       0.000029       False  \n",
       "8       0.000029       False  \n",
       "9       0.000037       False  \n",
       "10      0.000029       False  \n",
       "11      0.000028       False  \n",
       "12      0.000027       False  \n",
       "13      0.000026       False  \n",
       "14      0.000029       False  \n",
       "15      0.000027       False  \n",
       "16      0.000028       False  \n",
       "17      0.000029       False  \n",
       "18      0.000029       False  \n",
       "19      0.000029       False  \n",
       "20      0.000027       False  \n",
       "21      0.000027       False  \n",
       "22      0.000027       False  \n",
       "23      0.000027       False  \n",
       "24      0.000029       False  \n",
       "25      0.000028       False  \n",
       "26      0.000028       False  \n",
       "27      0.000028       False  \n",
       "28      0.000027       False  \n",
       "29      0.000028       False  \n",
       "30      0.000029       False  \n",
       "31      0.000027       False  "
      ]
     },
     "execution_count": 6,
     "metadata": {},
     "output_type": "execute_result"
    }
   ],
   "source": [
    "# view the data\n",
    "X.data"
   ]
  },
  {
   "cell_type": "code",
   "execution_count": 7,
   "metadata": {
    "ExecuteTime": {
     "end_time": "2023-06-14T15:42:06.400652600Z",
     "start_time": "2023-06-14T15:42:05.787612700Z"
    },
    "execution": {
     "iopub.execute_input": "2024-04-03T04:00:02.519427Z",
     "iopub.status.busy": "2024-04-03T04:00:02.519036Z",
     "iopub.status.idle": "2024-04-03T04:00:02.913750Z",
     "shell.execute_reply": "2024-04-03T04:00:02.913109Z"
    }
   },
   "outputs": [
    {
     "data": {
      "image/png": "[encoded data removed]",
      "text/plain": [
       "<Figure size 640x480 with 1 Axes>"
      ]
     },
     "metadata": {},
     "output_type": "display_data"
    }
   ],
   "source": [
    "# plot results\n",
    "ax = X.data.plot(\"x1\", \"x2\")\n",
    "ax.set_aspect(\"equal\")"
   ]
  },
  {
   "cell_type": "code",
   "execution_count": 7,
   "metadata": {
    "ExecuteTime": {
     "end_time": "2023-06-14T15:42:06.419648600Z",
     "start_time": "2023-06-14T15:42:06.401622Z"
    }
   },
   "outputs": [],
   "source": []
  }
 ],
 "metadata": {
  "kernelspec": {
   "display_name": "Python 3 (ipykernel)",
   "language": "python",
   "name": "python3"
  },
  "language_info": {
   "codemirror_mode": {
    "name": "ipython",
    "version": 3
   },
   "file_extension": ".py",
   "mimetype": "text/x-python",
   "name": "python",
   "nbconvert_exporter": "python",
   "pygments_lexer": "ipython3",
   "version": "3.9.19"
  }
 },
 "nbformat": 4,
 "nbformat_minor": 4
}
