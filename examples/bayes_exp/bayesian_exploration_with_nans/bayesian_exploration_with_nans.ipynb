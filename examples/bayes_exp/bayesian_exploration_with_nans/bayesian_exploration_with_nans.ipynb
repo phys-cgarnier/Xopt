{
 "cells": [
  {
   "cell_type": "markdown",
   "metadata": {},
   "source": [
    "# Bayesian Exploration with NaNs\n",
    "\n",
    "As violations of constraints can lead to invalid values of the objective, the evaluate function may simply return NaNs. We demonstrate below how we can still perform Bayesian Exploration in that case."
   ]
  },
  {
   "cell_type": "code",
   "execution_count": 1,
   "metadata": {
    "ExecuteTime": {
     "end_time": "2023-06-14T15:37:25.535638700Z",
     "start_time": "2023-06-14T15:37:22.379218300Z"
    },
    "execution": {
     "iopub.execute_input": "2024-04-24T15:54:12.268538Z",
     "iopub.status.busy": "2024-04-24T15:54:12.268125Z",
     "iopub.status.idle": "2024-04-24T15:54:14.391264Z",
     "shell.execute_reply": "2024-04-24T15:54:14.390574Z"
    }
   },
   "outputs": [],
   "source": [
    "# set values if testing\n",
    "import os\n",
    "SMOKE_TEST = os.environ.get(\"SMOKE_TEST\")\n",
    "NUM_MC_SAMPLES = 1 if SMOKE_TEST else 128\n",
    "NUM_RESTARTS = 1 if SMOKE_TEST else 20\n",
    "\n",
    "# Ignore all warnings\n",
    "import warnings\n",
    "warnings.filterwarnings(\"ignore\")\n",
    "\n",
    "import pandas as pd\n",
    "import torch\n",
    "import yaml\n",
    "from copy import deepcopy\n",
    "from xopt import Xopt, Evaluator\n",
    "from xopt.generators.bayesian import BayesianExplorationGenerator\n",
    "from xopt.resources.test_functions.tnk import evaluate_TNK, tnk_vocs\n",
    "\n",
    "vocs = deepcopy(tnk_vocs)\n",
    "vocs.objectives = {}\n",
    "vocs.observables = [\"y1\"]"
   ]
  },
  {
   "cell_type": "code",
   "execution_count": 2,
   "metadata": {
    "ExecuteTime": {
     "end_time": "2023-06-14T15:37:25.549637200Z",
     "start_time": "2023-06-14T15:37:25.539666500Z"
    },
    "execution": {
     "iopub.execute_input": "2024-04-24T15:54:14.394403Z",
     "iopub.status.busy": "2024-04-24T15:54:14.393791Z",
     "iopub.status.idle": "2024-04-24T15:54:14.398301Z",
     "shell.execute_reply": "2024-04-24T15:54:14.397664Z"
    }
   },
   "outputs": [],
   "source": [
    "# modify the evaluate function to return NaNs if constraints are violated\n",
    "def evaluate(input_dict):\n",
    "    output_dict = evaluate_TNK(input_dict)\n",
    "    del output_dict[\"y2\"]\n",
    "    for c in vocs.constraints.keys():\n",
    "        if vocs.constraints[c][0].upper() == \"GREATER_THAN\" and output_dict[c] <= vocs.constraints[c][1]:\n",
    "            output_dict[\"y1\"] = torch.nan\n",
    "        elif vocs.constraints[c][0].upper() == \"LESS_THAN\" and output_dict[c] >= vocs.constraints[c][1]:\n",
    "            output_dict[\"y1\"] = torch.nan\n",
    "    return output_dict"
   ]
  },
  {
   "cell_type": "code",
   "execution_count": 3,
   "metadata": {
    "ExecuteTime": {
     "end_time": "2023-06-14T15:37:25.580538800Z",
     "start_time": "2023-06-14T15:37:25.552636600Z"
    },
    "execution": {
     "iopub.execute_input": "2024-04-24T15:54:14.400576Z",
     "iopub.status.busy": "2024-04-24T15:54:14.400229Z",
     "iopub.status.idle": "2024-04-24T15:54:14.417790Z",
     "shell.execute_reply": "2024-04-24T15:54:14.417179Z"
    }
   },
   "outputs": [
    {
     "data": {
      "text/plain": [
       "\n",
       "            Xopt\n",
       "________________________________\n",
       "Version: 0+untagged.1.ge872ea5\n",
       "Data size: 0\n",
       "Config as YAML:\n",
       "dump_file: null\n",
       "evaluator:\n",
       "  function: __main__.evaluate\n",
       "  function_kwargs: {}\n",
       "  max_workers: 1\n",
       "  vectorized: false\n",
       "generator:\n",
       "  computation_time: null\n",
       "  fixed_features: null\n",
       "  gp_constructor:\n",
       "    covar_modules: {}\n",
       "    custom_noise_prior: null\n",
       "    mean_modules: {}\n",
       "    name: standard\n",
       "    trainable_mean_keys: []\n",
       "    transform_inputs: true\n",
       "    use_low_noise_prior: true\n",
       "  log_transform_acquisition_function: false\n",
       "  max_travel_distances:\n",
       "  - 0.25\n",
       "  - 0.25\n",
       "  model: null\n",
       "  n_candidates: 1\n",
       "  n_interpolate_points: null\n",
       "  n_monte_carlo_samples: 128\n",
       "  name: bayesian_exploration\n",
       "  numerical_optimizer:\n",
       "    max_iter: 2000\n",
       "    max_time: null\n",
       "    n_restarts: 20\n",
       "    name: LBFGS\n",
       "  supports_batch_generation: true\n",
       "  turbo_controller: null\n",
       "  use_cuda: false\n",
       "max_evaluations: null\n",
       "serialize_inline: false\n",
       "serialize_torch: false\n",
       "strict: true\n",
       "vocs:\n",
       "  constants:\n",
       "    a: dummy_constant\n",
       "  constraints:\n",
       "    c1:\n",
       "    - GREATER_THAN\n",
       "    - 0.0\n",
       "    c2:\n",
       "    - LESS_THAN\n",
       "    - 0.5\n",
       "  objectives: {}\n",
       "  observables:\n",
       "  - y1\n",
       "  variables:\n",
       "    x1:\n",
       "    - 0.0\n",
       "    - 3.14159\n",
       "    x2:\n",
       "    - 0.0\n",
       "    - 3.14159\n"
      ]
     },
     "execution_count": 3,
     "metadata": {},
     "output_type": "execute_result"
    }
   ],
   "source": [
    "generator = BayesianExplorationGenerator(vocs=vocs)\n",
    "generator.max_travel_distances = [0.25, 0.25]\n",
    "generator.n_monte_carlo_samples = NUM_MC_SAMPLES\n",
    "generator.numerical_optimizer.n_restarts = NUM_RESTARTS\n",
    "\n",
    "evaluator = Evaluator(function=evaluate)\n",
    "X = Xopt(generator=generator, evaluator=evaluator, vocs=vocs)\n",
    "X"
   ]
  },
  {
   "cell_type": "markdown",
   "metadata": {},
   "source": [
    "## Run exploration\n",
    "We start with evaluating 2 points that we know satisfy the constraints. We then run\n",
    "30 exploration steps."
   ]
  },
  {
   "cell_type": "code",
   "execution_count": 4,
   "metadata": {
    "ExecuteTime": {
     "end_time": "2023-06-14T15:37:25.638907100Z",
     "start_time": "2023-06-14T15:37:25.582541Z"
    },
    "execution": {
     "iopub.execute_input": "2024-04-24T15:54:14.449364Z",
     "iopub.status.busy": "2024-04-24T15:54:14.448770Z",
     "iopub.status.idle": "2024-04-24T15:54:14.461706Z",
     "shell.execute_reply": "2024-04-24T15:54:14.461157Z"
    }
   },
   "outputs": [
    {
     "data": {
      "text/html": [
       "<div>\n",
       "<style scoped>\n",
       "    .dataframe tbody tr th:only-of-type {\n",
       "        vertical-align: middle;\n",
       "    }\n",
       "\n",
       "    .dataframe tbody tr th {\n",
       "        vertical-align: top;\n",
       "    }\n",
       "\n",
       "    .dataframe thead th {\n",
       "        text-align: right;\n",
       "    }\n",
       "</style>\n",
       "<table border=\"1\" class=\"dataframe\">\n",
       "  <thead>\n",
       "    <tr style=\"text-align: right;\">\n",
       "      <th></th>\n",
       "      <th>x1</th>\n",
       "      <th>x2</th>\n",
       "      <th>a</th>\n",
       "      <th>y1</th>\n",
       "      <th>c1</th>\n",
       "      <th>c2</th>\n",
       "      <th>xopt_runtime</th>\n",
       "      <th>xopt_error</th>\n",
       "    </tr>\n",
       "  </thead>\n",
       "  <tbody>\n",
       "    <tr>\n",
       "      <th>0</th>\n",
       "      <td>1.00</td>\n",
       "      <td>0.70</td>\n",
       "      <td>dummy_constant</td>\n",
       "      <td>1.00</td>\n",
       "      <td>0.584045</td>\n",
       "      <td>0.290</td>\n",
       "      <td>0.000046</td>\n",
       "      <td>False</td>\n",
       "    </tr>\n",
       "    <tr>\n",
       "      <th>1</th>\n",
       "      <td>0.75</td>\n",
       "      <td>0.95</td>\n",
       "      <td>dummy_constant</td>\n",
       "      <td>0.75</td>\n",
       "      <td>0.494833</td>\n",
       "      <td>0.265</td>\n",
       "      <td>0.000010</td>\n",
       "      <td>False</td>\n",
       "    </tr>\n",
       "  </tbody>\n",
       "</table>\n",
       "</div>"
      ],
      "text/plain": [
       "     x1    x2               a    y1        c1     c2  xopt_runtime  xopt_error\n",
       "0  1.00  0.70  dummy_constant  1.00  0.584045  0.290      0.000046       False\n",
       "1  0.75  0.95  dummy_constant  0.75  0.494833  0.265      0.000010       False"
      ]
     },
     "execution_count": 4,
     "metadata": {},
     "output_type": "execute_result"
    }
   ],
   "source": [
    "X.evaluate_data(pd.DataFrame({\"x1\": [1.0, 0.75], \"x2\": [0.7, 0.95]}))"
   ]
  },
  {
   "cell_type": "code",
   "execution_count": 5,
   "metadata": {
    "ExecuteTime": {
     "end_time": "2023-06-14T15:42:05.755461900Z",
     "start_time": "2023-06-14T15:37:25.611873400Z"
    },
    "execution": {
     "iopub.execute_input": "2024-04-24T15:54:14.464310Z",
     "iopub.status.busy": "2024-04-24T15:54:14.463903Z",
     "iopub.status.idle": "2024-04-24T15:55:36.472266Z",
     "shell.execute_reply": "2024-04-24T15:55:36.471611Z"
    },
    "scrolled": false
   },
   "outputs": [
    {
     "name": "stdout",
     "output_type": "stream",
     "text": [
      "step 0\n"
     ]
    },
    {
     "name": "stdout",
     "output_type": "stream",
     "text": [
      "step 1\n"
     ]
    },
    {
     "name": "stdout",
     "output_type": "stream",
     "text": [
      "step 2\n"
     ]
    },
    {
     "name": "stdout",
     "output_type": "stream",
     "text": [
      "step 3\n"
     ]
    },
    {
     "name": "stdout",
     "output_type": "stream",
     "text": [
      "step 4\n"
     ]
    },
    {
     "name": "stdout",
     "output_type": "stream",
     "text": [
      "step 5\n"
     ]
    },
    {
     "name": "stdout",
     "output_type": "stream",
     "text": [
      "step 6\n"
     ]
    },
    {
     "name": "stdout",
     "output_type": "stream",
     "text": [
      "step 7\n"
     ]
    },
    {
     "name": "stdout",
     "output_type": "stream",
     "text": [
      "step 8\n"
     ]
    },
    {
     "name": "stdout",
     "output_type": "stream",
     "text": [
      "step 9\n"
     ]
    },
    {
     "name": "stdout",
     "output_type": "stream",
     "text": [
      "step 10\n"
     ]
    },
    {
     "name": "stdout",
     "output_type": "stream",
     "text": [
      "step 11\n"
     ]
    },
    {
     "name": "stdout",
     "output_type": "stream",
     "text": [
      "step 12\n"
     ]
    },
    {
     "name": "stdout",
     "output_type": "stream",
     "text": [
      "step 13\n"
     ]
    },
    {
     "name": "stdout",
     "output_type": "stream",
     "text": [
      "step 14\n"
     ]
    },
    {
     "name": "stdout",
     "output_type": "stream",
     "text": [
      "step 15\n"
     ]
    },
    {
     "name": "stdout",
     "output_type": "stream",
     "text": [
      "step 16\n"
     ]
    },
    {
     "name": "stdout",
     "output_type": "stream",
     "text": [
      "step 17\n"
     ]
    },
    {
     "name": "stdout",
     "output_type": "stream",
     "text": [
      "step 18\n"
     ]
    },
    {
     "name": "stdout",
     "output_type": "stream",
     "text": [
      "step 19\n"
     ]
    },
    {
     "name": "stdout",
     "output_type": "stream",
     "text": [
      "step 20\n"
     ]
    },
    {
     "name": "stdout",
     "output_type": "stream",
     "text": [
      "step 21\n"
     ]
    },
    {
     "name": "stdout",
     "output_type": "stream",
     "text": [
      "step 22\n"
     ]
    },
    {
     "name": "stdout",
     "output_type": "stream",
     "text": [
      "step 23\n"
     ]
    },
    {
     "name": "stdout",
     "output_type": "stream",
     "text": [
      "step 24\n"
     ]
    },
    {
     "name": "stdout",
     "output_type": "stream",
     "text": [
      "step 25\n"
     ]
    },
    {
     "name": "stdout",
     "output_type": "stream",
     "text": [
      "step 26\n"
     ]
    },
    {
     "name": "stdout",
     "output_type": "stream",
     "text": [
      "step 27\n"
     ]
    },
    {
     "name": "stdout",
     "output_type": "stream",
     "text": [
      "step 28\n"
     ]
    },
    {
     "name": "stdout",
     "output_type": "stream",
     "text": [
      "step 29\n"
     ]
    }
   ],
   "source": [
    "N_STEPS = 1 if SMOKE_TEST else 30\n",
    "for i in range(N_STEPS):\n",
    "    print(f\"step {i}\")\n",
    "    X.step()"
   ]
  },
  {
   "cell_type": "code",
   "execution_count": 6,
   "metadata": {
    "ExecuteTime": {
     "end_time": "2023-06-14T15:42:05.786611100Z",
     "start_time": "2023-06-14T15:42:05.773463300Z"
    },
    "execution": {
     "iopub.execute_input": "2024-04-24T15:55:36.475235Z",
     "iopub.status.busy": "2024-04-24T15:55:36.475028Z",
     "iopub.status.idle": "2024-04-24T15:55:36.486510Z",
     "shell.execute_reply": "2024-04-24T15:55:36.485942Z"
    }
   },
   "outputs": [
    {
     "data": {
      "text/html": [
       "<div>\n",
       "<style scoped>\n",
       "    .dataframe tbody tr th:only-of-type {\n",
       "        vertical-align: middle;\n",
       "    }\n",
       "\n",
       "    .dataframe tbody tr th {\n",
       "        vertical-align: top;\n",
       "    }\n",
       "\n",
       "    .dataframe thead th {\n",
       "        text-align: right;\n",
       "    }\n",
       "</style>\n",
       "<table border=\"1\" class=\"dataframe\">\n",
       "  <thead>\n",
       "    <tr style=\"text-align: right;\">\n",
       "      <th></th>\n",
       "      <th>x1</th>\n",
       "      <th>x2</th>\n",
       "      <th>a</th>\n",
       "      <th>y1</th>\n",
       "      <th>c1</th>\n",
       "      <th>c2</th>\n",
       "      <th>xopt_runtime</th>\n",
       "      <th>xopt_error</th>\n",
       "    </tr>\n",
       "  </thead>\n",
       "  <tbody>\n",
       "    <tr>\n",
       "      <th>0</th>\n",
       "      <td>1.000000</td>\n",
       "      <td>0.700000</td>\n",
       "      <td>dummy_constant</td>\n",
       "      <td>1.000000</td>\n",
       "      <td>0.584045</td>\n",
       "      <td>0.290000</td>\n",
       "      <td>0.000046</td>\n",
       "      <td>False</td>\n",
       "    </tr>\n",
       "    <tr>\n",
       "      <th>1</th>\n",
       "      <td>0.750000</td>\n",
       "      <td>0.950000</td>\n",
       "      <td>dummy_constant</td>\n",
       "      <td>0.750000</td>\n",
       "      <td>0.494833</td>\n",
       "      <td>0.265000</td>\n",
       "      <td>0.000010</td>\n",
       "      <td>False</td>\n",
       "    </tr>\n",
       "    <tr>\n",
       "      <th>2</th>\n",
       "      <td>1.535397</td>\n",
       "      <td>1.735397</td>\n",
       "      <td>dummy_constant</td>\n",
       "      <td>NaN</td>\n",
       "      <td>4.313110</td>\n",
       "      <td>2.598255</td>\n",
       "      <td>0.000035</td>\n",
       "      <td>False</td>\n",
       "    </tr>\n",
       "    <tr>\n",
       "      <th>3</th>\n",
       "      <td>2.320795</td>\n",
       "      <td>0.950000</td>\n",
       "      <td>dummy_constant</td>\n",
       "      <td>NaN</td>\n",
       "      <td>5.188811</td>\n",
       "      <td>3.517794</td>\n",
       "      <td>0.000030</td>\n",
       "      <td>False</td>\n",
       "    </tr>\n",
       "    <tr>\n",
       "      <th>4</th>\n",
       "      <td>1.844097</td>\n",
       "      <td>0.164602</td>\n",
       "      <td>dummy_constant</td>\n",
       "      <td>NaN</td>\n",
       "      <td>2.413196</td>\n",
       "      <td>1.919087</td>\n",
       "      <td>0.000030</td>\n",
       "      <td>False</td>\n",
       "    </tr>\n",
       "    <tr>\n",
       "      <th>5</th>\n",
       "      <td>1.058699</td>\n",
       "      <td>0.000632</td>\n",
       "      <td>dummy_constant</td>\n",
       "      <td>NaN</td>\n",
       "      <td>0.020849</td>\n",
       "      <td>0.561513</td>\n",
       "      <td>0.000029</td>\n",
       "      <td>False</td>\n",
       "    </tr>\n",
       "    <tr>\n",
       "      <th>6</th>\n",
       "      <td>0.273302</td>\n",
       "      <td>0.784079</td>\n",
       "      <td>dummy_constant</td>\n",
       "      <td>NaN</td>\n",
       "      <td>-0.371358</td>\n",
       "      <td>0.132093</td>\n",
       "      <td>0.000030</td>\n",
       "      <td>False</td>\n",
       "    </tr>\n",
       "    <tr>\n",
       "      <th>7</th>\n",
       "      <td>0.000000</td>\n",
       "      <td>1.537073</td>\n",
       "      <td>dummy_constant</td>\n",
       "      <td>NaN</td>\n",
       "      <td>1.262594</td>\n",
       "      <td>1.325521</td>\n",
       "      <td>0.000032</td>\n",
       "      <td>False</td>\n",
       "    </tr>\n",
       "    <tr>\n",
       "      <th>8</th>\n",
       "      <td>0.394421</td>\n",
       "      <td>1.060573</td>\n",
       "      <td>dummy_constant</td>\n",
       "      <td>0.394421</td>\n",
       "      <td>0.197094</td>\n",
       "      <td>0.325390</td>\n",
       "      <td>0.000031</td>\n",
       "      <td>False</td>\n",
       "    </tr>\n",
       "    <tr>\n",
       "      <th>9</th>\n",
       "      <td>1.040567</td>\n",
       "      <td>0.344307</td>\n",
       "      <td>dummy_constant</td>\n",
       "      <td>1.040567</td>\n",
       "      <td>0.162354</td>\n",
       "      <td>0.316453</td>\n",
       "      <td>0.000034</td>\n",
       "      <td>False</td>\n",
       "    </tr>\n",
       "    <tr>\n",
       "      <th>10</th>\n",
       "      <td>0.806050</td>\n",
       "      <td>0.677969</td>\n",
       "      <td>dummy_constant</td>\n",
       "      <td>0.806050</td>\n",
       "      <td>0.090148</td>\n",
       "      <td>0.125339</td>\n",
       "      <td>0.000029</td>\n",
       "      <td>False</td>\n",
       "    </tr>\n",
       "    <tr>\n",
       "      <th>11</th>\n",
       "      <td>0.163574</td>\n",
       "      <td>1.051744</td>\n",
       "      <td>dummy_constant</td>\n",
       "      <td>0.163574</td>\n",
       "      <td>0.211120</td>\n",
       "      <td>0.417604</td>\n",
       "      <td>0.000029</td>\n",
       "      <td>False</td>\n",
       "    </tr>\n",
       "    <tr>\n",
       "      <th>12</th>\n",
       "      <td>0.656393</td>\n",
       "      <td>1.143196</td>\n",
       "      <td>dummy_constant</td>\n",
       "      <td>0.656393</td>\n",
       "      <td>0.784407</td>\n",
       "      <td>0.438159</td>\n",
       "      <td>0.000029</td>\n",
       "      <td>False</td>\n",
       "    </tr>\n",
       "    <tr>\n",
       "      <th>13</th>\n",
       "      <td>1.165349</td>\n",
       "      <td>0.523367</td>\n",
       "      <td>dummy_constant</td>\n",
       "      <td>1.165349</td>\n",
       "      <td>0.542821</td>\n",
       "      <td>0.443236</td>\n",
       "      <td>0.000029</td>\n",
       "      <td>False</td>\n",
       "    </tr>\n",
       "    <tr>\n",
       "      <th>14</th>\n",
       "      <td>0.936269</td>\n",
       "      <td>1.000940</td>\n",
       "      <td>dummy_constant</td>\n",
       "      <td>0.936269</td>\n",
       "      <td>0.792401</td>\n",
       "      <td>0.441272</td>\n",
       "      <td>0.000029</td>\n",
       "      <td>False</td>\n",
       "    </tr>\n",
       "    <tr>\n",
       "      <th>15</th>\n",
       "      <td>1.106545</td>\n",
       "      <td>0.790348</td>\n",
       "      <td>dummy_constant</td>\n",
       "      <td>1.106545</td>\n",
       "      <td>0.936907</td>\n",
       "      <td>0.452199</td>\n",
       "      <td>0.000029</td>\n",
       "      <td>False</td>\n",
       "    </tr>\n",
       "    <tr>\n",
       "      <th>16</th>\n",
       "      <td>0.475115</td>\n",
       "      <td>1.180911</td>\n",
       "      <td>dummy_constant</td>\n",
       "      <td>0.475115</td>\n",
       "      <td>0.521611</td>\n",
       "      <td>0.464259</td>\n",
       "      <td>0.000030</td>\n",
       "      <td>False</td>\n",
       "    </tr>\n",
       "    <tr>\n",
       "      <th>17</th>\n",
       "      <td>0.049923</td>\n",
       "      <td>1.016000</td>\n",
       "      <td>dummy_constant</td>\n",
       "      <td>NaN</td>\n",
       "      <td>-0.035951</td>\n",
       "      <td>0.468825</td>\n",
       "      <td>0.000031</td>\n",
       "      <td>False</td>\n",
       "    </tr>\n",
       "    <tr>\n",
       "      <th>18</th>\n",
       "      <td>0.835321</td>\n",
       "      <td>1.101976</td>\n",
       "      <td>dummy_constant</td>\n",
       "      <td>0.835321</td>\n",
       "      <td>0.970031</td>\n",
       "      <td>0.474815</td>\n",
       "      <td>0.000031</td>\n",
       "      <td>False</td>\n",
       "    </tr>\n",
       "    <tr>\n",
       "      <th>19</th>\n",
       "      <td>1.157938</td>\n",
       "      <td>0.329901</td>\n",
       "      <td>dummy_constant</td>\n",
       "      <td>1.157938</td>\n",
       "      <td>0.476481</td>\n",
       "      <td>0.461816</td>\n",
       "      <td>0.000033</td>\n",
       "      <td>False</td>\n",
       "    </tr>\n",
       "    <tr>\n",
       "      <th>20</th>\n",
       "      <td>1.075290</td>\n",
       "      <td>0.119991</td>\n",
       "      <td>dummy_constant</td>\n",
       "      <td>1.075290</td>\n",
       "      <td>0.191227</td>\n",
       "      <td>0.475366</td>\n",
       "      <td>0.000030</td>\n",
       "      <td>False</td>\n",
       "    </tr>\n",
       "    <tr>\n",
       "      <th>21</th>\n",
       "      <td>1.136239</td>\n",
       "      <td>0.763336</td>\n",
       "      <td>dummy_constant</td>\n",
       "      <td>1.136239</td>\n",
       "      <td>0.973641</td>\n",
       "      <td>0.474146</td>\n",
       "      <td>0.000029</td>\n",
       "      <td>False</td>\n",
       "    </tr>\n",
       "    <tr>\n",
       "      <th>22</th>\n",
       "      <td>0.848271</td>\n",
       "      <td>0.620991</td>\n",
       "      <td>dummy_constant</td>\n",
       "      <td>0.848271</td>\n",
       "      <td>0.182571</td>\n",
       "      <td>0.135931</td>\n",
       "      <td>0.000028</td>\n",
       "      <td>False</td>\n",
       "    </tr>\n",
       "    <tr>\n",
       "      <th>23</th>\n",
       "      <td>0.376342</td>\n",
       "      <td>1.177392</td>\n",
       "      <td>dummy_constant</td>\n",
       "      <td>0.376342</td>\n",
       "      <td>0.504345</td>\n",
       "      <td>0.474151</td>\n",
       "      <td>0.000028</td>\n",
       "      <td>False</td>\n",
       "    </tr>\n",
       "    <tr>\n",
       "      <th>24</th>\n",
       "      <td>0.623019</td>\n",
       "      <td>0.852982</td>\n",
       "      <td>dummy_constant</td>\n",
       "      <td>0.623019</td>\n",
       "      <td>0.194196</td>\n",
       "      <td>0.139730</td>\n",
       "      <td>0.000030</td>\n",
       "      <td>False</td>\n",
       "    </tr>\n",
       "    <tr>\n",
       "      <th>25</th>\n",
       "      <td>0.096861</td>\n",
       "      <td>1.065375</td>\n",
       "      <td>dummy_constant</td>\n",
       "      <td>0.096861</td>\n",
       "      <td>0.132424</td>\n",
       "      <td>0.482171</td>\n",
       "      <td>0.000030</td>\n",
       "      <td>False</td>\n",
       "    </tr>\n",
       "    <tr>\n",
       "      <th>26</th>\n",
       "      <td>0.705744</td>\n",
       "      <td>1.163925</td>\n",
       "      <td>dummy_constant</td>\n",
       "      <td>0.705744</td>\n",
       "      <td>0.929049</td>\n",
       "      <td>0.483128</td>\n",
       "      <td>0.000030</td>\n",
       "      <td>False</td>\n",
       "    </tr>\n",
       "    <tr>\n",
       "      <th>27</th>\n",
       "      <td>0.948804</td>\n",
       "      <td>0.432164</td>\n",
       "      <td>dummy_constant</td>\n",
       "      <td>0.948804</td>\n",
       "      <td>0.002019</td>\n",
       "      <td>0.206026</td>\n",
       "      <td>0.000031</td>\n",
       "      <td>False</td>\n",
       "    </tr>\n",
       "    <tr>\n",
       "      <th>28</th>\n",
       "      <td>1.190549</td>\n",
       "      <td>0.442095</td>\n",
       "      <td>dummy_constant</td>\n",
       "      <td>1.190549</td>\n",
       "      <td>0.530000</td>\n",
       "      <td>0.480210</td>\n",
       "      <td>0.000032</td>\n",
       "      <td>False</td>\n",
       "    </tr>\n",
       "    <tr>\n",
       "      <th>29</th>\n",
       "      <td>1.038047</td>\n",
       "      <td>0.935278</td>\n",
       "      <td>dummy_constant</td>\n",
       "      <td>1.038047</td>\n",
       "      <td>0.884985</td>\n",
       "      <td>0.478962</td>\n",
       "      <td>0.000030</td>\n",
       "      <td>False</td>\n",
       "    </tr>\n",
       "    <tr>\n",
       "      <th>30</th>\n",
       "      <td>0.342505</td>\n",
       "      <td>1.175694</td>\n",
       "      <td>dummy_constant</td>\n",
       "      <td>0.342505</td>\n",
       "      <td>0.517152</td>\n",
       "      <td>0.481367</td>\n",
       "      <td>0.000030</td>\n",
       "      <td>False</td>\n",
       "    </tr>\n",
       "    <tr>\n",
       "      <th>31</th>\n",
       "      <td>0.594781</td>\n",
       "      <td>0.849895</td>\n",
       "      <td>dummy_constant</td>\n",
       "      <td>0.594781</td>\n",
       "      <td>0.170194</td>\n",
       "      <td>0.131410</td>\n",
       "      <td>0.000029</td>\n",
       "      <td>False</td>\n",
       "    </tr>\n",
       "  </tbody>\n",
       "</table>\n",
       "</div>"
      ],
      "text/plain": [
       "          x1        x2               a        y1        c1        c2  \\\n",
       "0   1.000000  0.700000  dummy_constant  1.000000  0.584045  0.290000   \n",
       "1   0.750000  0.950000  dummy_constant  0.750000  0.494833  0.265000   \n",
       "2   1.535397  1.735397  dummy_constant       NaN  4.313110  2.598255   \n",
       "3   2.320795  0.950000  dummy_constant       NaN  5.188811  3.517794   \n",
       "4   1.844097  0.164602  dummy_constant       NaN  2.413196  1.919087   \n",
       "5   1.058699  0.000632  dummy_constant       NaN  0.020849  0.561513   \n",
       "6   0.273302  0.784079  dummy_constant       NaN -0.371358  0.132093   \n",
       "7   0.000000  1.537073  dummy_constant       NaN  1.262594  1.325521   \n",
       "8   0.394421  1.060573  dummy_constant  0.394421  0.197094  0.325390   \n",
       "9   1.040567  0.344307  dummy_constant  1.040567  0.162354  0.316453   \n",
       "10  0.806050  0.677969  dummy_constant  0.806050  0.090148  0.125339   \n",
       "11  0.163574  1.051744  dummy_constant  0.163574  0.211120  0.417604   \n",
       "12  0.656393  1.143196  dummy_constant  0.656393  0.784407  0.438159   \n",
       "13  1.165349  0.523367  dummy_constant  1.165349  0.542821  0.443236   \n",
       "14  0.936269  1.000940  dummy_constant  0.936269  0.792401  0.441272   \n",
       "15  1.106545  0.790348  dummy_constant  1.106545  0.936907  0.452199   \n",
       "16  0.475115  1.180911  dummy_constant  0.475115  0.521611  0.464259   \n",
       "17  0.049923  1.016000  dummy_constant       NaN -0.035951  0.468825   \n",
       "18  0.835321  1.101976  dummy_constant  0.835321  0.970031  0.474815   \n",
       "19  1.157938  0.329901  dummy_constant  1.157938  0.476481  0.461816   \n",
       "20  1.075290  0.119991  dummy_constant  1.075290  0.191227  0.475366   \n",
       "21  1.136239  0.763336  dummy_constant  1.136239  0.973641  0.474146   \n",
       "22  0.848271  0.620991  dummy_constant  0.848271  0.182571  0.135931   \n",
       "23  0.376342  1.177392  dummy_constant  0.376342  0.504345  0.474151   \n",
       "24  0.623019  0.852982  dummy_constant  0.623019  0.194196  0.139730   \n",
       "25  0.096861  1.065375  dummy_constant  0.096861  0.132424  0.482171   \n",
       "26  0.705744  1.163925  dummy_constant  0.705744  0.929049  0.483128   \n",
       "27  0.948804  0.432164  dummy_constant  0.948804  0.002019  0.206026   \n",
       "28  1.190549  0.442095  dummy_constant  1.190549  0.530000  0.480210   \n",
       "29  1.038047  0.935278  dummy_constant  1.038047  0.884985  0.478962   \n",
       "30  0.342505  1.175694  dummy_constant  0.342505  0.517152  0.481367   \n",
       "31  0.594781  0.849895  dummy_constant  0.594781  0.170194  0.131410   \n",
       "\n",
       "    xopt_runtime  xopt_error  \n",
       "0       0.000046       False  \n",
       "1       0.000010       False  \n",
       "2       0.000035       False  \n",
       "3       0.000030       False  \n",
       "4       0.000030       False  \n",
       "5       0.000029       False  \n",
       "6       0.000030       False  \n",
       "7       0.000032       False  \n",
       "8       0.000031       False  \n",
       "9       0.000034       False  \n",
       "10      0.000029       False  \n",
       "11      0.000029       False  \n",
       "12      0.000029       False  \n",
       "13      0.000029       False  \n",
       "14      0.000029       False  \n",
       "15      0.000029       False  \n",
       "16      0.000030       False  \n",
       "17      0.000031       False  \n",
       "18      0.000031       False  \n",
       "19      0.000033       False  \n",
       "20      0.000030       False  \n",
       "21      0.000029       False  \n",
       "22      0.000028       False  \n",
       "23      0.000028       False  \n",
       "24      0.000030       False  \n",
       "25      0.000030       False  \n",
       "26      0.000030       False  \n",
       "27      0.000031       False  \n",
       "28      0.000032       False  \n",
       "29      0.000030       False  \n",
       "30      0.000030       False  \n",
       "31      0.000029       False  "
      ]
     },
     "execution_count": 6,
     "metadata": {},
     "output_type": "execute_result"
    }
   ],
   "source": [
    "# view the data\n",
    "X.data"
   ]
  },
  {
   "cell_type": "code",
   "execution_count": 7,
   "metadata": {
    "ExecuteTime": {
     "end_time": "2023-06-14T15:42:06.400652600Z",
     "start_time": "2023-06-14T15:42:05.787612700Z"
    },
    "execution": {
     "iopub.execute_input": "2024-04-24T15:55:36.488603Z",
     "iopub.status.busy": "2024-04-24T15:55:36.488419Z",
     "iopub.status.idle": "2024-04-24T15:55:36.860417Z",
     "shell.execute_reply": "2024-04-24T15:55:36.859770Z"
    }
   },
   "outputs": [
    {
     "data": {
      "image/png": "[encoded data removed]",
      "text/plain": [
       "<Figure size 640x480 with 1 Axes>"
      ]
     },
     "metadata": {},
     "output_type": "display_data"
    }
   ],
   "source": [
    "# plot results\n",
    "ax = X.data.plot(\"x1\", \"x2\")\n",
    "ax.set_aspect(\"equal\")"
   ]
  },
  {
   "cell_type": "code",
   "execution_count": 7,
   "metadata": {
    "ExecuteTime": {
     "end_time": "2023-06-14T15:42:06.419648600Z",
     "start_time": "2023-06-14T15:42:06.401622Z"
    }
   },
   "outputs": [],
   "source": []
  }
 ],
 "metadata": {
  "kernelspec": {
   "display_name": "Python 3 (ipykernel)",
   "language": "python",
   "name": "python3"
  },
  "language_info": {
   "codemirror_mode": {
    "name": "ipython",
    "version": 3
   },
   "file_extension": ".py",
   "mimetype": "text/x-python",
   "name": "python",
   "nbconvert_exporter": "python",
   "pygments_lexer": "ipython3",
   "version": "3.9.19"
  }
 },
 "nbformat": 4,
 "nbformat_minor": 4
}
