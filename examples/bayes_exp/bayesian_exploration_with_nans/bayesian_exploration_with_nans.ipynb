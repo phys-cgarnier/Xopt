{
 "cells": [
  {
   "cell_type": "markdown",
   "metadata": {},
   "source": [
    "# Bayesian Exploration with NaNs\n",
    "\n",
    "As violations of constraints can lead to invalid values of the objective, the evaluate function may simply return NaNs. We demonstrate below how we can still perform Bayesian Exploration in that case."
   ]
  },
  {
   "cell_type": "code",
   "execution_count": 1,
   "metadata": {
    "ExecuteTime": {
     "end_time": "2023-06-14T15:37:25.535638700Z",
     "start_time": "2023-06-14T15:37:22.379218300Z"
    },
    "execution": {
     "iopub.execute_input": "2024-04-23T15:20:17.943625Z",
     "iopub.status.busy": "2024-04-23T15:20:17.943448Z",
     "iopub.status.idle": "2024-04-23T15:20:20.053340Z",
     "shell.execute_reply": "2024-04-23T15:20:20.052746Z"
    }
   },
   "outputs": [],
   "source": [
    "# set values if testing\n",
    "import os\n",
    "SMOKE_TEST = os.environ.get(\"SMOKE_TEST\")\n",
    "NUM_MC_SAMPLES = 1 if SMOKE_TEST else 128\n",
    "NUM_RESTARTS = 1 if SMOKE_TEST else 20\n",
    "\n",
    "# Ignore all warnings\n",
    "import warnings\n",
    "warnings.filterwarnings(\"ignore\")\n",
    "\n",
    "import pandas as pd\n",
    "import torch\n",
    "import yaml\n",
    "from copy import deepcopy\n",
    "from xopt import Xopt, Evaluator\n",
    "from xopt.generators.bayesian import BayesianExplorationGenerator\n",
    "from xopt.resources.test_functions.tnk import evaluate_TNK, tnk_vocs\n",
    "\n",
    "vocs = deepcopy(tnk_vocs)\n",
    "vocs.objectives = {}\n",
    "vocs.observables = [\"y1\"]"
   ]
  },
  {
   "cell_type": "code",
   "execution_count": 2,
   "metadata": {
    "ExecuteTime": {
     "end_time": "2023-06-14T15:37:25.549637200Z",
     "start_time": "2023-06-14T15:37:25.539666500Z"
    },
    "execution": {
     "iopub.execute_input": "2024-04-23T15:20:20.055971Z",
     "iopub.status.busy": "2024-04-23T15:20:20.055713Z",
     "iopub.status.idle": "2024-04-23T15:20:20.059837Z",
     "shell.execute_reply": "2024-04-23T15:20:20.059294Z"
    }
   },
   "outputs": [],
   "source": [
    "# modify the evaluate function to return NaNs if constraints are violated\n",
    "def evaluate(input_dict):\n",
    "    output_dict = evaluate_TNK(input_dict)\n",
    "    del output_dict[\"y2\"]\n",
    "    for c in vocs.constraints.keys():\n",
    "        if vocs.constraints[c][0].upper() == \"GREATER_THAN\" and output_dict[c] <= vocs.constraints[c][1]:\n",
    "            output_dict[\"y1\"] = torch.nan\n",
    "        elif vocs.constraints[c][0].upper() == \"LESS_THAN\" and output_dict[c] >= vocs.constraints[c][1]:\n",
    "            output_dict[\"y1\"] = torch.nan\n",
    "    return output_dict"
   ]
  },
  {
   "cell_type": "code",
   "execution_count": 3,
   "metadata": {
    "ExecuteTime": {
     "end_time": "2023-06-14T15:37:25.580538800Z",
     "start_time": "2023-06-14T15:37:25.552636600Z"
    },
    "execution": {
     "iopub.execute_input": "2024-04-23T15:20:20.061970Z",
     "iopub.status.busy": "2024-04-23T15:20:20.061649Z",
     "iopub.status.idle": "2024-04-23T15:20:20.078077Z",
     "shell.execute_reply": "2024-04-23T15:20:20.077513Z"
    }
   },
   "outputs": [
    {
     "data": {
      "text/plain": [
       "\n",
       "            Xopt\n",
       "________________________________\n",
       "Version: 0+untagged.1.g0b64028\n",
       "Data size: 0\n",
       "Config as YAML:\n",
       "dump_file: null\n",
       "evaluator:\n",
       "  function: __main__.evaluate\n",
       "  function_kwargs: {}\n",
       "  max_workers: 1\n",
       "  vectorized: false\n",
       "generator:\n",
       "  computation_time: null\n",
       "  fixed_features: null\n",
       "  gp_constructor:\n",
       "    covar_modules: {}\n",
       "    custom_noise_prior: null\n",
       "    mean_modules: {}\n",
       "    name: standard\n",
       "    trainable_mean_keys: []\n",
       "    transform_inputs: true\n",
       "    use_low_noise_prior: true\n",
       "  log_transform_acquisition_function: false\n",
       "  max_travel_distances:\n",
       "  - 0.25\n",
       "  - 0.25\n",
       "  model: null\n",
       "  n_candidates: 1\n",
       "  n_interpolate_points: null\n",
       "  n_monte_carlo_samples: 128\n",
       "  name: bayesian_exploration\n",
       "  numerical_optimizer:\n",
       "    max_iter: 2000\n",
       "    max_time: null\n",
       "    n_restarts: 20\n",
       "    name: LBFGS\n",
       "  supports_batch_generation: true\n",
       "  turbo_controller: null\n",
       "  use_cuda: false\n",
       "max_evaluations: null\n",
       "serialize_inline: false\n",
       "serialize_torch: false\n",
       "strict: true\n",
       "vocs:\n",
       "  constants:\n",
       "    a: dummy_constant\n",
       "  constraints:\n",
       "    c1:\n",
       "    - GREATER_THAN\n",
       "    - 0.0\n",
       "    c2:\n",
       "    - LESS_THAN\n",
       "    - 0.5\n",
       "  objectives: {}\n",
       "  observables:\n",
       "  - y1\n",
       "  variables:\n",
       "    x1:\n",
       "    - 0.0\n",
       "    - 3.14159\n",
       "    x2:\n",
       "    - 0.0\n",
       "    - 3.14159\n"
      ]
     },
     "execution_count": 3,
     "metadata": {},
     "output_type": "execute_result"
    }
   ],
   "source": [
    "generator = BayesianExplorationGenerator(vocs=vocs)\n",
    "generator.max_travel_distances = [0.25, 0.25]\n",
    "generator.n_monte_carlo_samples = NUM_MC_SAMPLES\n",
    "generator.numerical_optimizer.n_restarts = NUM_RESTARTS\n",
    "\n",
    "evaluator = Evaluator(function=evaluate)\n",
    "X = Xopt(generator=generator, evaluator=evaluator, vocs=vocs)\n",
    "X"
   ]
  },
  {
   "cell_type": "markdown",
   "metadata": {},
   "source": [
    "## Run exploration\n",
    "We start with evaluating 2 points that we know satisfy the constraints. We then run\n",
    "30 exploration steps."
   ]
  },
  {
   "cell_type": "code",
   "execution_count": 4,
   "metadata": {
    "ExecuteTime": {
     "end_time": "2023-06-14T15:37:25.638907100Z",
     "start_time": "2023-06-14T15:37:25.582541Z"
    },
    "execution": {
     "iopub.execute_input": "2024-04-23T15:20:20.107245Z",
     "iopub.status.busy": "2024-04-23T15:20:20.106847Z",
     "iopub.status.idle": "2024-04-23T15:20:20.119478Z",
     "shell.execute_reply": "2024-04-23T15:20:20.118993Z"
    }
   },
   "outputs": [
    {
     "data": {
      "text/html": [
       "<div>\n",
       "<style scoped>\n",
       "    .dataframe tbody tr th:only-of-type {\n",
       "        vertical-align: middle;\n",
       "    }\n",
       "\n",
       "    .dataframe tbody tr th {\n",
       "        vertical-align: top;\n",
       "    }\n",
       "\n",
       "    .dataframe thead th {\n",
       "        text-align: right;\n",
       "    }\n",
       "</style>\n",
       "<table border=\"1\" class=\"dataframe\">\n",
       "  <thead>\n",
       "    <tr style=\"text-align: right;\">\n",
       "      <th></th>\n",
       "      <th>x1</th>\n",
       "      <th>x2</th>\n",
       "      <th>a</th>\n",
       "      <th>y1</th>\n",
       "      <th>c1</th>\n",
       "      <th>c2</th>\n",
       "      <th>xopt_runtime</th>\n",
       "      <th>xopt_error</th>\n",
       "    </tr>\n",
       "  </thead>\n",
       "  <tbody>\n",
       "    <tr>\n",
       "      <th>0</th>\n",
       "      <td>1.00</td>\n",
       "      <td>0.70</td>\n",
       "      <td>dummy_constant</td>\n",
       "      <td>1.00</td>\n",
       "      <td>0.584045</td>\n",
       "      <td>0.290</td>\n",
       "      <td>0.000054</td>\n",
       "      <td>False</td>\n",
       "    </tr>\n",
       "    <tr>\n",
       "      <th>1</th>\n",
       "      <td>0.75</td>\n",
       "      <td>0.95</td>\n",
       "      <td>dummy_constant</td>\n",
       "      <td>0.75</td>\n",
       "      <td>0.494833</td>\n",
       "      <td>0.265</td>\n",
       "      <td>0.000015</td>\n",
       "      <td>False</td>\n",
       "    </tr>\n",
       "  </tbody>\n",
       "</table>\n",
       "</div>"
      ],
      "text/plain": [
       "     x1    x2               a    y1        c1     c2  xopt_runtime  xopt_error\n",
       "0  1.00  0.70  dummy_constant  1.00  0.584045  0.290      0.000054       False\n",
       "1  0.75  0.95  dummy_constant  0.75  0.494833  0.265      0.000015       False"
      ]
     },
     "execution_count": 4,
     "metadata": {},
     "output_type": "execute_result"
    }
   ],
   "source": [
    "X.evaluate_data(pd.DataFrame({\"x1\": [1.0, 0.75], \"x2\": [0.7, 0.95]}))"
   ]
  },
  {
   "cell_type": "code",
   "execution_count": 5,
   "metadata": {
    "ExecuteTime": {
     "end_time": "2023-06-14T15:42:05.755461900Z",
     "start_time": "2023-06-14T15:37:25.611873400Z"
    },
    "execution": {
     "iopub.execute_input": "2024-04-23T15:20:20.121738Z",
     "iopub.status.busy": "2024-04-23T15:20:20.121404Z",
     "iopub.status.idle": "2024-04-23T15:21:36.150486Z",
     "shell.execute_reply": "2024-04-23T15:21:36.149920Z"
    },
    "scrolled": false
   },
   "outputs": [
    {
     "name": "stdout",
     "output_type": "stream",
     "text": [
      "step 0\n"
     ]
    },
    {
     "name": "stdout",
     "output_type": "stream",
     "text": [
      "step 1\n"
     ]
    },
    {
     "name": "stdout",
     "output_type": "stream",
     "text": [
      "step 2\n"
     ]
    },
    {
     "name": "stdout",
     "output_type": "stream",
     "text": [
      "step 3\n"
     ]
    },
    {
     "name": "stdout",
     "output_type": "stream",
     "text": [
      "step 4\n"
     ]
    },
    {
     "name": "stdout",
     "output_type": "stream",
     "text": [
      "step 5\n"
     ]
    },
    {
     "name": "stdout",
     "output_type": "stream",
     "text": [
      "step 6\n"
     ]
    },
    {
     "name": "stdout",
     "output_type": "stream",
     "text": [
      "step 7\n"
     ]
    },
    {
     "name": "stdout",
     "output_type": "stream",
     "text": [
      "step 8\n"
     ]
    },
    {
     "name": "stdout",
     "output_type": "stream",
     "text": [
      "step 9\n"
     ]
    },
    {
     "name": "stdout",
     "output_type": "stream",
     "text": [
      "step 10\n"
     ]
    },
    {
     "name": "stdout",
     "output_type": "stream",
     "text": [
      "step 11\n"
     ]
    },
    {
     "name": "stdout",
     "output_type": "stream",
     "text": [
      "step 12\n"
     ]
    },
    {
     "name": "stdout",
     "output_type": "stream",
     "text": [
      "step 13\n"
     ]
    },
    {
     "name": "stdout",
     "output_type": "stream",
     "text": [
      "step 14\n"
     ]
    },
    {
     "name": "stdout",
     "output_type": "stream",
     "text": [
      "step 15\n"
     ]
    },
    {
     "name": "stdout",
     "output_type": "stream",
     "text": [
      "step 16\n"
     ]
    },
    {
     "name": "stdout",
     "output_type": "stream",
     "text": [
      "step 17\n"
     ]
    },
    {
     "name": "stdout",
     "output_type": "stream",
     "text": [
      "step 18\n"
     ]
    },
    {
     "name": "stdout",
     "output_type": "stream",
     "text": [
      "step 19\n"
     ]
    },
    {
     "name": "stdout",
     "output_type": "stream",
     "text": [
      "step 20\n"
     ]
    },
    {
     "name": "stdout",
     "output_type": "stream",
     "text": [
      "step 21\n"
     ]
    },
    {
     "name": "stdout",
     "output_type": "stream",
     "text": [
      "step 22\n"
     ]
    },
    {
     "name": "stdout",
     "output_type": "stream",
     "text": [
      "step 23\n"
     ]
    },
    {
     "name": "stdout",
     "output_type": "stream",
     "text": [
      "step 24\n"
     ]
    },
    {
     "name": "stdout",
     "output_type": "stream",
     "text": [
      "step 25\n"
     ]
    },
    {
     "name": "stdout",
     "output_type": "stream",
     "text": [
      "step 26\n"
     ]
    },
    {
     "name": "stdout",
     "output_type": "stream",
     "text": [
      "step 27\n"
     ]
    },
    {
     "name": "stdout",
     "output_type": "stream",
     "text": [
      "step 28\n"
     ]
    },
    {
     "name": "stdout",
     "output_type": "stream",
     "text": [
      "step 29\n"
     ]
    }
   ],
   "source": [
    "N_STEPS = 1 if SMOKE_TEST else 30\n",
    "for i in range(N_STEPS):\n",
    "    print(f\"step {i}\")\n",
    "    X.step()"
   ]
  },
  {
   "cell_type": "code",
   "execution_count": 6,
   "metadata": {
    "ExecuteTime": {
     "end_time": "2023-06-14T15:42:05.786611100Z",
     "start_time": "2023-06-14T15:42:05.773463300Z"
    },
    "execution": {
     "iopub.execute_input": "2024-04-23T15:21:36.153397Z",
     "iopub.status.busy": "2024-04-23T15:21:36.152977Z",
     "iopub.status.idle": "2024-04-23T15:21:36.167709Z",
     "shell.execute_reply": "2024-04-23T15:21:36.167127Z"
    }
   },
   "outputs": [
    {
     "data": {
      "text/html": [
       "<div>\n",
       "<style scoped>\n",
       "    .dataframe tbody tr th:only-of-type {\n",
       "        vertical-align: middle;\n",
       "    }\n",
       "\n",
       "    .dataframe tbody tr th {\n",
       "        vertical-align: top;\n",
       "    }\n",
       "\n",
       "    .dataframe thead th {\n",
       "        text-align: right;\n",
       "    }\n",
       "</style>\n",
       "<table border=\"1\" class=\"dataframe\">\n",
       "  <thead>\n",
       "    <tr style=\"text-align: right;\">\n",
       "      <th></th>\n",
       "      <th>x1</th>\n",
       "      <th>x2</th>\n",
       "      <th>a</th>\n",
       "      <th>y1</th>\n",
       "      <th>c1</th>\n",
       "      <th>c2</th>\n",
       "      <th>xopt_runtime</th>\n",
       "      <th>xopt_error</th>\n",
       "    </tr>\n",
       "  </thead>\n",
       "  <tbody>\n",
       "    <tr>\n",
       "      <th>0</th>\n",
       "      <td>1.000000</td>\n",
       "      <td>0.700000</td>\n",
       "      <td>dummy_constant</td>\n",
       "      <td>1.000000</td>\n",
       "      <td>0.584045</td>\n",
       "      <td>0.290000</td>\n",
       "      <td>0.000054</td>\n",
       "      <td>False</td>\n",
       "    </tr>\n",
       "    <tr>\n",
       "      <th>1</th>\n",
       "      <td>0.750000</td>\n",
       "      <td>0.950000</td>\n",
       "      <td>dummy_constant</td>\n",
       "      <td>0.750000</td>\n",
       "      <td>0.494833</td>\n",
       "      <td>0.265000</td>\n",
       "      <td>0.000015</td>\n",
       "      <td>False</td>\n",
       "    </tr>\n",
       "    <tr>\n",
       "      <th>2</th>\n",
       "      <td>1.535397</td>\n",
       "      <td>1.735397</td>\n",
       "      <td>dummy_constant</td>\n",
       "      <td>NaN</td>\n",
       "      <td>4.313110</td>\n",
       "      <td>2.598255</td>\n",
       "      <td>0.000055</td>\n",
       "      <td>False</td>\n",
       "    </tr>\n",
       "    <tr>\n",
       "      <th>3</th>\n",
       "      <td>2.320795</td>\n",
       "      <td>0.950000</td>\n",
       "      <td>dummy_constant</td>\n",
       "      <td>NaN</td>\n",
       "      <td>5.188811</td>\n",
       "      <td>3.517794</td>\n",
       "      <td>0.000041</td>\n",
       "      <td>False</td>\n",
       "    </tr>\n",
       "    <tr>\n",
       "      <th>4</th>\n",
       "      <td>1.548245</td>\n",
       "      <td>0.164602</td>\n",
       "      <td>dummy_constant</td>\n",
       "      <td>NaN</td>\n",
       "      <td>1.436514</td>\n",
       "      <td>1.211310</td>\n",
       "      <td>0.000028</td>\n",
       "      <td>False</td>\n",
       "    </tr>\n",
       "    <tr>\n",
       "      <th>5</th>\n",
       "      <td>0.762848</td>\n",
       "      <td>0.000000</td>\n",
       "      <td>dummy_constant</td>\n",
       "      <td>NaN</td>\n",
       "      <td>-0.518063</td>\n",
       "      <td>0.319089</td>\n",
       "      <td>0.000032</td>\n",
       "      <td>False</td>\n",
       "    </tr>\n",
       "    <tr>\n",
       "      <th>6</th>\n",
       "      <td>0.000000</td>\n",
       "      <td>0.772497</td>\n",
       "      <td>dummy_constant</td>\n",
       "      <td>NaN</td>\n",
       "      <td>-0.503248</td>\n",
       "      <td>0.324255</td>\n",
       "      <td>0.000038</td>\n",
       "      <td>False</td>\n",
       "    </tr>\n",
       "    <tr>\n",
       "      <th>7</th>\n",
       "      <td>0.054485</td>\n",
       "      <td>1.557895</td>\n",
       "      <td>dummy_constant</td>\n",
       "      <td>NaN</td>\n",
       "      <td>1.345245</td>\n",
       "      <td>1.317626</td>\n",
       "      <td>0.000031</td>\n",
       "      <td>False</td>\n",
       "    </tr>\n",
       "    <tr>\n",
       "      <th>8</th>\n",
       "      <td>0.413207</td>\n",
       "      <td>1.031144</td>\n",
       "      <td>dummy_constant</td>\n",
       "      <td>0.413207</td>\n",
       "      <td>0.135705</td>\n",
       "      <td>0.289647</td>\n",
       "      <td>0.000030</td>\n",
       "      <td>False</td>\n",
       "    </tr>\n",
       "    <tr>\n",
       "      <th>9</th>\n",
       "      <td>1.064947</td>\n",
       "      <td>0.310328</td>\n",
       "      <td>dummy_constant</td>\n",
       "      <td>1.064947</td>\n",
       "      <td>0.247884</td>\n",
       "      <td>0.355141</td>\n",
       "      <td>0.000031</td>\n",
       "      <td>False</td>\n",
       "    </tr>\n",
       "    <tr>\n",
       "      <th>10</th>\n",
       "      <td>0.801970</td>\n",
       "      <td>0.691730</td>\n",
       "      <td>dummy_constant</td>\n",
       "      <td>0.801970</td>\n",
       "      <td>0.083434</td>\n",
       "      <td>0.127946</td>\n",
       "      <td>0.000029</td>\n",
       "      <td>False</td>\n",
       "    </tr>\n",
       "    <tr>\n",
       "      <th>11</th>\n",
       "      <td>0.643009</td>\n",
       "      <td>1.140118</td>\n",
       "      <td>dummy_constant</td>\n",
       "      <td>0.643009</td>\n",
       "      <td>0.748772</td>\n",
       "      <td>0.430203</td>\n",
       "      <td>0.000029</td>\n",
       "      <td>False</td>\n",
       "    </tr>\n",
       "    <tr>\n",
       "      <th>12</th>\n",
       "      <td>0.195950</td>\n",
       "      <td>1.074483</td>\n",
       "      <td>dummy_constant</td>\n",
       "      <td>0.195950</td>\n",
       "      <td>0.289665</td>\n",
       "      <td>0.422477</td>\n",
       "      <td>0.000030</td>\n",
       "      <td>False</td>\n",
       "    </tr>\n",
       "    <tr>\n",
       "      <th>13</th>\n",
       "      <td>0.981347</td>\n",
       "      <td>0.947006</td>\n",
       "      <td>dummy_constant</td>\n",
       "      <td>0.981347</td>\n",
       "      <td>0.763894</td>\n",
       "      <td>0.431509</td>\n",
       "      <td>0.000028</td>\n",
       "      <td>False</td>\n",
       "    </tr>\n",
       "    <tr>\n",
       "      <th>14</th>\n",
       "      <td>1.146685</td>\n",
       "      <td>0.632449</td>\n",
       "      <td>dummy_constant</td>\n",
       "      <td>1.146685</td>\n",
       "      <td>0.735773</td>\n",
       "      <td>0.435745</td>\n",
       "      <td>0.000032</td>\n",
       "      <td>False</td>\n",
       "    </tr>\n",
       "    <tr>\n",
       "      <th>15</th>\n",
       "      <td>1.075577</td>\n",
       "      <td>0.155500</td>\n",
       "      <td>dummy_constant</td>\n",
       "      <td>1.075577</td>\n",
       "      <td>0.247470</td>\n",
       "      <td>0.449969</td>\n",
       "      <td>0.000030</td>\n",
       "      <td>False</td>\n",
       "    </tr>\n",
       "    <tr>\n",
       "      <th>16</th>\n",
       "      <td>1.028608</td>\n",
       "      <td>0.936180</td>\n",
       "      <td>dummy_constant</td>\n",
       "      <td>1.028608</td>\n",
       "      <td>0.861444</td>\n",
       "      <td>0.469680</td>\n",
       "      <td>0.000031</td>\n",
       "      <td>False</td>\n",
       "    </tr>\n",
       "    <tr>\n",
       "      <th>17</th>\n",
       "      <td>0.607331</td>\n",
       "      <td>1.178382</td>\n",
       "      <td>dummy_constant</td>\n",
       "      <td>0.607331</td>\n",
       "      <td>0.733685</td>\n",
       "      <td>0.471723</td>\n",
       "      <td>0.000031</td>\n",
       "      <td>False</td>\n",
       "    </tr>\n",
       "    <tr>\n",
       "      <th>18</th>\n",
       "      <td>0.119440</td>\n",
       "      <td>1.068954</td>\n",
       "      <td>dummy_constant</td>\n",
       "      <td>0.119440</td>\n",
       "      <td>0.177734</td>\n",
       "      <td>0.468535</td>\n",
       "      <td>0.000031</td>\n",
       "      <td>False</td>\n",
       "    </tr>\n",
       "    <tr>\n",
       "      <th>19</th>\n",
       "      <td>0.611078</td>\n",
       "      <td>0.873363</td>\n",
       "      <td>dummy_constant</td>\n",
       "      <td>0.611078</td>\n",
       "      <td>0.230340</td>\n",
       "      <td>0.151739</td>\n",
       "      <td>0.000054</td>\n",
       "      <td>False</td>\n",
       "    </tr>\n",
       "    <tr>\n",
       "      <th>20</th>\n",
       "      <td>1.185114</td>\n",
       "      <td>0.555350</td>\n",
       "      <td>dummy_constant</td>\n",
       "      <td>1.185114</td>\n",
       "      <td>0.638277</td>\n",
       "      <td>0.472445</td>\n",
       "      <td>0.000030</td>\n",
       "      <td>False</td>\n",
       "    </tr>\n",
       "    <tr>\n",
       "      <th>21</th>\n",
       "      <td>1.044403</td>\n",
       "      <td>0.075397</td>\n",
       "      <td>dummy_constant</td>\n",
       "      <td>1.044403</td>\n",
       "      <td>0.055894</td>\n",
       "      <td>0.476662</td>\n",
       "      <td>0.000030</td>\n",
       "      <td>False</td>\n",
       "    </tr>\n",
       "    <tr>\n",
       "      <th>22</th>\n",
       "      <td>0.918087</td>\n",
       "      <td>0.494669</td>\n",
       "      <td>dummy_constant</td>\n",
       "      <td>0.918087</td>\n",
       "      <td>0.092911</td>\n",
       "      <td>0.174825</td>\n",
       "      <td>0.000035</td>\n",
       "      <td>False</td>\n",
       "    </tr>\n",
       "    <tr>\n",
       "      <th>23</th>\n",
       "      <td>0.422517</td>\n",
       "      <td>1.182931</td>\n",
       "      <td>dummy_constant</td>\n",
       "      <td>0.422517</td>\n",
       "      <td>0.507768</td>\n",
       "      <td>0.472398</td>\n",
       "      <td>0.000029</td>\n",
       "      <td>False</td>\n",
       "    </tr>\n",
       "    <tr>\n",
       "      <th>24</th>\n",
       "      <td>0.073247</td>\n",
       "      <td>1.044675</td>\n",
       "      <td>dummy_constant</td>\n",
       "      <td>0.073247</td>\n",
       "      <td>0.053144</td>\n",
       "      <td>0.478789</td>\n",
       "      <td>0.000030</td>\n",
       "      <td>False</td>\n",
       "    </tr>\n",
       "    <tr>\n",
       "      <th>25</th>\n",
       "      <td>0.841531</td>\n",
       "      <td>1.097744</td>\n",
       "      <td>dummy_constant</td>\n",
       "      <td>0.841531</td>\n",
       "      <td>0.963850</td>\n",
       "      <td>0.473942</td>\n",
       "      <td>0.000029</td>\n",
       "      <td>False</td>\n",
       "    </tr>\n",
       "    <tr>\n",
       "      <th>26</th>\n",
       "      <td>1.151136</td>\n",
       "      <td>0.732000</td>\n",
       "      <td>dummy_constant</td>\n",
       "      <td>1.151136</td>\n",
       "      <td>0.954440</td>\n",
       "      <td>0.477802</td>\n",
       "      <td>0.000028</td>\n",
       "      <td>False</td>\n",
       "    </tr>\n",
       "    <tr>\n",
       "      <th>27</th>\n",
       "      <td>0.576713</td>\n",
       "      <td>0.867978</td>\n",
       "      <td>dummy_constant</td>\n",
       "      <td>0.576713</td>\n",
       "      <td>0.185897</td>\n",
       "      <td>0.141292</td>\n",
       "      <td>0.000028</td>\n",
       "      <td>False</td>\n",
       "    </tr>\n",
       "    <tr>\n",
       "      <th>28</th>\n",
       "      <td>0.918035</td>\n",
       "      <td>0.474463</td>\n",
       "      <td>dummy_constant</td>\n",
       "      <td>0.918035</td>\n",
       "      <td>0.045912</td>\n",
       "      <td>0.175406</td>\n",
       "      <td>0.000028</td>\n",
       "      <td>False</td>\n",
       "    </tr>\n",
       "    <tr>\n",
       "      <th>29</th>\n",
       "      <td>1.054086</td>\n",
       "      <td>0.077998</td>\n",
       "      <td>dummy_constant</td>\n",
       "      <td>1.054086</td>\n",
       "      <td>0.079253</td>\n",
       "      <td>0.485098</td>\n",
       "      <td>0.000029</td>\n",
       "      <td>False</td>\n",
       "    </tr>\n",
       "    <tr>\n",
       "      <th>30</th>\n",
       "      <td>1.185828</td>\n",
       "      <td>0.417845</td>\n",
       "      <td>dummy_constant</td>\n",
       "      <td>1.185828</td>\n",
       "      <td>0.515743</td>\n",
       "      <td>0.477109</td>\n",
       "      <td>0.000028</td>\n",
       "      <td>False</td>\n",
       "    </tr>\n",
       "    <tr>\n",
       "      <th>31</th>\n",
       "      <td>0.428085</td>\n",
       "      <td>1.190993</td>\n",
       "      <td>dummy_constant</td>\n",
       "      <td>0.428085</td>\n",
       "      <td>0.529395</td>\n",
       "      <td>0.482643</td>\n",
       "      <td>0.000029</td>\n",
       "      <td>False</td>\n",
       "    </tr>\n",
       "  </tbody>\n",
       "</table>\n",
       "</div>"
      ],
      "text/plain": [
       "          x1        x2               a        y1        c1        c2  \\\n",
       "0   1.000000  0.700000  dummy_constant  1.000000  0.584045  0.290000   \n",
       "1   0.750000  0.950000  dummy_constant  0.750000  0.494833  0.265000   \n",
       "2   1.535397  1.735397  dummy_constant       NaN  4.313110  2.598255   \n",
       "3   2.320795  0.950000  dummy_constant       NaN  5.188811  3.517794   \n",
       "4   1.548245  0.164602  dummy_constant       NaN  1.436514  1.211310   \n",
       "5   0.762848  0.000000  dummy_constant       NaN -0.518063  0.319089   \n",
       "6   0.000000  0.772497  dummy_constant       NaN -0.503248  0.324255   \n",
       "7   0.054485  1.557895  dummy_constant       NaN  1.345245  1.317626   \n",
       "8   0.413207  1.031144  dummy_constant  0.413207  0.135705  0.289647   \n",
       "9   1.064947  0.310328  dummy_constant  1.064947  0.247884  0.355141   \n",
       "10  0.801970  0.691730  dummy_constant  0.801970  0.083434  0.127946   \n",
       "11  0.643009  1.140118  dummy_constant  0.643009  0.748772  0.430203   \n",
       "12  0.195950  1.074483  dummy_constant  0.195950  0.289665  0.422477   \n",
       "13  0.981347  0.947006  dummy_constant  0.981347  0.763894  0.431509   \n",
       "14  1.146685  0.632449  dummy_constant  1.146685  0.735773  0.435745   \n",
       "15  1.075577  0.155500  dummy_constant  1.075577  0.247470  0.449969   \n",
       "16  1.028608  0.936180  dummy_constant  1.028608  0.861444  0.469680   \n",
       "17  0.607331  1.178382  dummy_constant  0.607331  0.733685  0.471723   \n",
       "18  0.119440  1.068954  dummy_constant  0.119440  0.177734  0.468535   \n",
       "19  0.611078  0.873363  dummy_constant  0.611078  0.230340  0.151739   \n",
       "20  1.185114  0.555350  dummy_constant  1.185114  0.638277  0.472445   \n",
       "21  1.044403  0.075397  dummy_constant  1.044403  0.055894  0.476662   \n",
       "22  0.918087  0.494669  dummy_constant  0.918087  0.092911  0.174825   \n",
       "23  0.422517  1.182931  dummy_constant  0.422517  0.507768  0.472398   \n",
       "24  0.073247  1.044675  dummy_constant  0.073247  0.053144  0.478789   \n",
       "25  0.841531  1.097744  dummy_constant  0.841531  0.963850  0.473942   \n",
       "26  1.151136  0.732000  dummy_constant  1.151136  0.954440  0.477802   \n",
       "27  0.576713  0.867978  dummy_constant  0.576713  0.185897  0.141292   \n",
       "28  0.918035  0.474463  dummy_constant  0.918035  0.045912  0.175406   \n",
       "29  1.054086  0.077998  dummy_constant  1.054086  0.079253  0.485098   \n",
       "30  1.185828  0.417845  dummy_constant  1.185828  0.515743  0.477109   \n",
       "31  0.428085  1.190993  dummy_constant  0.428085  0.529395  0.482643   \n",
       "\n",
       "    xopt_runtime  xopt_error  \n",
       "0       0.000054       False  \n",
       "1       0.000015       False  \n",
       "2       0.000055       False  \n",
       "3       0.000041       False  \n",
       "4       0.000028       False  \n",
       "5       0.000032       False  \n",
       "6       0.000038       False  \n",
       "7       0.000031       False  \n",
       "8       0.000030       False  \n",
       "9       0.000031       False  \n",
       "10      0.000029       False  \n",
       "11      0.000029       False  \n",
       "12      0.000030       False  \n",
       "13      0.000028       False  \n",
       "14      0.000032       False  \n",
       "15      0.000030       False  \n",
       "16      0.000031       False  \n",
       "17      0.000031       False  \n",
       "18      0.000031       False  \n",
       "19      0.000054       False  \n",
       "20      0.000030       False  \n",
       "21      0.000030       False  \n",
       "22      0.000035       False  \n",
       "23      0.000029       False  \n",
       "24      0.000030       False  \n",
       "25      0.000029       False  \n",
       "26      0.000028       False  \n",
       "27      0.000028       False  \n",
       "28      0.000028       False  \n",
       "29      0.000029       False  \n",
       "30      0.000028       False  \n",
       "31      0.000029       False  "
      ]
     },
     "execution_count": 6,
     "metadata": {},
     "output_type": "execute_result"
    }
   ],
   "source": [
    "# view the data\n",
    "X.data"
   ]
  },
  {
   "cell_type": "code",
   "execution_count": 7,
   "metadata": {
    "ExecuteTime": {
     "end_time": "2023-06-14T15:42:06.400652600Z",
     "start_time": "2023-06-14T15:42:05.787612700Z"
    },
    "execution": {
     "iopub.execute_input": "2024-04-23T15:21:36.170085Z",
     "iopub.status.busy": "2024-04-23T15:21:36.169689Z",
     "iopub.status.idle": "2024-04-23T15:21:36.563083Z",
     "shell.execute_reply": "2024-04-23T15:21:36.562542Z"
    }
   },
   "outputs": [
    {
     "data": {
      "image/png": "[encoded data removed]",
      "text/plain": [
       "<Figure size 640x480 with 1 Axes>"
      ]
     },
     "metadata": {},
     "output_type": "display_data"
    }
   ],
   "source": [
    "# plot results\n",
    "ax = X.data.plot(\"x1\", \"x2\")\n",
    "ax.set_aspect(\"equal\")"
   ]
  },
  {
   "cell_type": "code",
   "execution_count": 7,
   "metadata": {
    "ExecuteTime": {
     "end_time": "2023-06-14T15:42:06.419648600Z",
     "start_time": "2023-06-14T15:42:06.401622Z"
    }
   },
   "outputs": [],
   "source": []
  }
 ],
 "metadata": {
  "kernelspec": {
   "display_name": "Python 3 (ipykernel)",
   "language": "python",
   "name": "python3"
  },
  "language_info": {
   "codemirror_mode": {
    "name": "ipython",
    "version": 3
   },
   "file_extension": ".py",
   "mimetype": "text/x-python",
   "name": "python",
   "nbconvert_exporter": "python",
   "pygments_lexer": "ipython3",
   "version": "3.9.19"
  }
 },
 "nbformat": 4,
 "nbformat_minor": 4
}
