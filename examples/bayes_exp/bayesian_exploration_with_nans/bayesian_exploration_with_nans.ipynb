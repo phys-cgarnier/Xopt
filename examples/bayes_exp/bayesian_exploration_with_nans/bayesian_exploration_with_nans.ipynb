{
 "cells": [
  {
   "cell_type": "markdown",
   "metadata": {},
   "source": [
    "# Bayesian Exploration with NaNs\n",
    "\n",
    "As violations of constraints can lead to invalid values of the objective, the evaluate function may simply return NaNs. We demonstrate below how we can still perform Bayesian Exploration in that case."
   ]
  },
  {
   "cell_type": "code",
   "execution_count": 1,
   "metadata": {
    "ExecuteTime": {
     "end_time": "2023-06-14T15:37:25.535638700Z",
     "start_time": "2023-06-14T15:37:22.379218300Z"
    },
    "execution": {
     "iopub.execute_input": "2024-01-11T17:38:12.587035Z",
     "iopub.status.busy": "2024-01-11T17:38:12.586862Z",
     "iopub.status.idle": "2024-01-11T17:38:14.655419Z",
     "shell.execute_reply": "2024-01-11T17:38:14.654804Z"
    }
   },
   "outputs": [],
   "source": [
    "# set values if testing\n",
    "import os\n",
    "SMOKE_TEST = os.environ.get(\"SMOKE_TEST\")\n",
    "NUM_MC_SAMPLES = 1 if SMOKE_TEST else 128\n",
    "NUM_RESTARTS = 1 if SMOKE_TEST else 20\n",
    "\n",
    "# Ignore all warnings\n",
    "import warnings\n",
    "warnings.filterwarnings(\"ignore\")\n",
    "\n",
    "import pandas as pd\n",
    "import torch\n",
    "import yaml\n",
    "from copy import deepcopy\n",
    "from xopt import Xopt, Evaluator\n",
    "from xopt.generators.bayesian import BayesianExplorationGenerator\n",
    "from xopt.resources.test_functions.tnk import evaluate_TNK, tnk_vocs\n",
    "\n",
    "vocs = deepcopy(tnk_vocs)\n",
    "vocs.objectives = {}\n",
    "vocs.observables = [\"y1\"]"
   ]
  },
  {
   "cell_type": "code",
   "execution_count": 2,
   "metadata": {
    "ExecuteTime": {
     "end_time": "2023-06-14T15:37:25.549637200Z",
     "start_time": "2023-06-14T15:37:25.539666500Z"
    },
    "execution": {
     "iopub.execute_input": "2024-01-11T17:38:14.658332Z",
     "iopub.status.busy": "2024-01-11T17:38:14.657862Z",
     "iopub.status.idle": "2024-01-11T17:38:14.661919Z",
     "shell.execute_reply": "2024-01-11T17:38:14.661432Z"
    }
   },
   "outputs": [],
   "source": [
    "# modify the evaluate function to return NaNs if constraints are violated\n",
    "def evaluate(input_dict):\n",
    "    output_dict = evaluate_TNK(input_dict)\n",
    "    del output_dict[\"y2\"]\n",
    "    for c in vocs.constraints.keys():\n",
    "        if vocs.constraints[c][0].upper() == \"GREATER_THAN\" and output_dict[c] <= vocs.constraints[c][1]:\n",
    "            output_dict[\"y1\"] = torch.nan\n",
    "        elif vocs.constraints[c][0].upper() == \"LESS_THAN\" and output_dict[c] >= vocs.constraints[c][1]:\n",
    "            output_dict[\"y1\"] = torch.nan\n",
    "    return output_dict"
   ]
  },
  {
   "cell_type": "code",
   "execution_count": 3,
   "metadata": {
    "ExecuteTime": {
     "end_time": "2023-06-14T15:37:25.580538800Z",
     "start_time": "2023-06-14T15:37:25.552636600Z"
    },
    "execution": {
     "iopub.execute_input": "2024-01-11T17:38:14.663810Z",
     "iopub.status.busy": "2024-01-11T17:38:14.663642Z",
     "iopub.status.idle": "2024-01-11T17:38:14.678297Z",
     "shell.execute_reply": "2024-01-11T17:38:14.677731Z"
    }
   },
   "outputs": [
    {
     "data": {
      "text/plain": [
       "\n",
       "            Xopt\n",
       "________________________________\n",
       "Version: 0+untagged.1.gfba3e71\n",
       "Data size: 0\n",
       "Config as YAML:\n",
       "dump_file: null\n",
       "evaluator:\n",
       "  function: __main__.evaluate\n",
       "  function_kwargs: {}\n",
       "  max_workers: 1\n",
       "  vectorized: false\n",
       "generator:\n",
       "  computation_time: null\n",
       "  fixed_features: null\n",
       "  gp_constructor:\n",
       "    covar_modules: {}\n",
       "    mean_modules: {}\n",
       "    name: standard\n",
       "    trainable_mean_keys: []\n",
       "    use_low_noise_prior: true\n",
       "  log_transform_acquisition_function: false\n",
       "  max_travel_distances:\n",
       "  - 0.25\n",
       "  - 0.25\n",
       "  model: null\n",
       "  n_candidates: 1\n",
       "  n_interpolate_points: null\n",
       "  n_monte_carlo_samples: 128\n",
       "  name: bayesian_exploration\n",
       "  numerical_optimizer:\n",
       "    max_iter: 2000\n",
       "    max_time: null\n",
       "    n_restarts: 20\n",
       "    name: LBFGS\n",
       "  supports_batch_generation: true\n",
       "  turbo_controller: null\n",
       "  use_cuda: false\n",
       "max_evaluations: null\n",
       "serialize_inline: false\n",
       "serialize_torch: false\n",
       "strict: true\n",
       "vocs:\n",
       "  constants:\n",
       "    a: dummy_constant\n",
       "  constraints:\n",
       "    c1:\n",
       "    - GREATER_THAN\n",
       "    - 0.0\n",
       "    c2:\n",
       "    - LESS_THAN\n",
       "    - 0.5\n",
       "  objectives: {}\n",
       "  observables:\n",
       "  - y1\n",
       "  variables:\n",
       "    x1:\n",
       "    - 0.0\n",
       "    - 3.14159\n",
       "    x2:\n",
       "    - 0.0\n",
       "    - 3.14159\n"
      ]
     },
     "execution_count": 3,
     "metadata": {},
     "output_type": "execute_result"
    }
   ],
   "source": [
    "generator = BayesianExplorationGenerator(vocs=vocs)\n",
    "generator.max_travel_distances = [0.25, 0.25]\n",
    "generator.n_monte_carlo_samples = NUM_MC_SAMPLES\n",
    "generator.numerical_optimizer.n_restarts = NUM_RESTARTS\n",
    "\n",
    "evaluator = Evaluator(function=evaluate)\n",
    "X = Xopt(generator=generator, evaluator=evaluator, vocs=vocs)\n",
    "X"
   ]
  },
  {
   "cell_type": "markdown",
   "metadata": {},
   "source": [
    "## Run exploration\n",
    "We start with evaluating 2 points that we know satisfy the constraints. We then run\n",
    "30 exploration steps."
   ]
  },
  {
   "cell_type": "code",
   "execution_count": 4,
   "metadata": {
    "ExecuteTime": {
     "end_time": "2023-06-14T15:37:25.638907100Z",
     "start_time": "2023-06-14T15:37:25.582541Z"
    },
    "execution": {
     "iopub.execute_input": "2024-01-11T17:38:14.707939Z",
     "iopub.status.busy": "2024-01-11T17:38:14.707644Z",
     "iopub.status.idle": "2024-01-11T17:38:14.719654Z",
     "shell.execute_reply": "2024-01-11T17:38:14.719128Z"
    }
   },
   "outputs": [
    {
     "data": {
      "text/html": [
       "<div>\n",
       "<style scoped>\n",
       "    .dataframe tbody tr th:only-of-type {\n",
       "        vertical-align: middle;\n",
       "    }\n",
       "\n",
       "    .dataframe tbody tr th {\n",
       "        vertical-align: top;\n",
       "    }\n",
       "\n",
       "    .dataframe thead th {\n",
       "        text-align: right;\n",
       "    }\n",
       "</style>\n",
       "<table border=\"1\" class=\"dataframe\">\n",
       "  <thead>\n",
       "    <tr style=\"text-align: right;\">\n",
       "      <th></th>\n",
       "      <th>x1</th>\n",
       "      <th>x2</th>\n",
       "      <th>a</th>\n",
       "      <th>y1</th>\n",
       "      <th>c1</th>\n",
       "      <th>c2</th>\n",
       "      <th>xopt_runtime</th>\n",
       "      <th>xopt_error</th>\n",
       "    </tr>\n",
       "  </thead>\n",
       "  <tbody>\n",
       "    <tr>\n",
       "      <th>0</th>\n",
       "      <td>1.00</td>\n",
       "      <td>0.70</td>\n",
       "      <td>dummy_constant</td>\n",
       "      <td>1.00</td>\n",
       "      <td>0.584045</td>\n",
       "      <td>0.290</td>\n",
       "      <td>0.000047</td>\n",
       "      <td>False</td>\n",
       "    </tr>\n",
       "    <tr>\n",
       "      <th>1</th>\n",
       "      <td>0.75</td>\n",
       "      <td>0.95</td>\n",
       "      <td>dummy_constant</td>\n",
       "      <td>0.75</td>\n",
       "      <td>0.494833</td>\n",
       "      <td>0.265</td>\n",
       "      <td>0.000020</td>\n",
       "      <td>False</td>\n",
       "    </tr>\n",
       "  </tbody>\n",
       "</table>\n",
       "</div>"
      ],
      "text/plain": [
       "     x1    x2               a    y1        c1     c2  xopt_runtime  xopt_error\n",
       "0  1.00  0.70  dummy_constant  1.00  0.584045  0.290      0.000047       False\n",
       "1  0.75  0.95  dummy_constant  0.75  0.494833  0.265      0.000020       False"
      ]
     },
     "execution_count": 4,
     "metadata": {},
     "output_type": "execute_result"
    }
   ],
   "source": [
    "X.evaluate_data(pd.DataFrame({\"x1\": [1.0, 0.75], \"x2\": [0.7, 0.95]}))"
   ]
  },
  {
   "cell_type": "code",
   "execution_count": 5,
   "metadata": {
    "ExecuteTime": {
     "end_time": "2023-06-14T15:42:05.755461900Z",
     "start_time": "2023-06-14T15:37:25.611873400Z"
    },
    "execution": {
     "iopub.execute_input": "2024-01-11T17:38:14.722170Z",
     "iopub.status.busy": "2024-01-11T17:38:14.721859Z",
     "iopub.status.idle": "2024-01-11T17:39:25.760183Z",
     "shell.execute_reply": "2024-01-11T17:39:25.759604Z"
    },
    "scrolled": false
   },
   "outputs": [
    {
     "name": "stdout",
     "output_type": "stream",
     "text": [
      "step 0\n"
     ]
    },
    {
     "name": "stdout",
     "output_type": "stream",
     "text": [
      "step 1\n"
     ]
    },
    {
     "name": "stdout",
     "output_type": "stream",
     "text": [
      "step 2\n"
     ]
    },
    {
     "name": "stdout",
     "output_type": "stream",
     "text": [
      "step 3\n"
     ]
    },
    {
     "name": "stdout",
     "output_type": "stream",
     "text": [
      "step 4\n"
     ]
    },
    {
     "name": "stdout",
     "output_type": "stream",
     "text": [
      "step 5\n"
     ]
    },
    {
     "name": "stdout",
     "output_type": "stream",
     "text": [
      "step 6\n"
     ]
    },
    {
     "name": "stdout",
     "output_type": "stream",
     "text": [
      "step 7\n"
     ]
    },
    {
     "name": "stdout",
     "output_type": "stream",
     "text": [
      "step 8\n"
     ]
    },
    {
     "name": "stdout",
     "output_type": "stream",
     "text": [
      "step 9\n"
     ]
    },
    {
     "name": "stdout",
     "output_type": "stream",
     "text": [
      "step 10\n"
     ]
    },
    {
     "name": "stdout",
     "output_type": "stream",
     "text": [
      "step 11\n"
     ]
    },
    {
     "name": "stdout",
     "output_type": "stream",
     "text": [
      "step 12\n"
     ]
    },
    {
     "name": "stdout",
     "output_type": "stream",
     "text": [
      "step 13\n"
     ]
    },
    {
     "name": "stdout",
     "output_type": "stream",
     "text": [
      "step 14\n"
     ]
    },
    {
     "name": "stdout",
     "output_type": "stream",
     "text": [
      "step 15\n"
     ]
    },
    {
     "name": "stdout",
     "output_type": "stream",
     "text": [
      "step 16\n"
     ]
    },
    {
     "name": "stdout",
     "output_type": "stream",
     "text": [
      "step 17\n"
     ]
    },
    {
     "name": "stdout",
     "output_type": "stream",
     "text": [
      "step 18\n"
     ]
    },
    {
     "name": "stdout",
     "output_type": "stream",
     "text": [
      "step 19\n"
     ]
    },
    {
     "name": "stdout",
     "output_type": "stream",
     "text": [
      "step 20\n"
     ]
    },
    {
     "name": "stdout",
     "output_type": "stream",
     "text": [
      "step 21\n"
     ]
    },
    {
     "name": "stdout",
     "output_type": "stream",
     "text": [
      "step 22\n"
     ]
    },
    {
     "name": "stdout",
     "output_type": "stream",
     "text": [
      "step 23\n"
     ]
    },
    {
     "name": "stdout",
     "output_type": "stream",
     "text": [
      "step 24\n"
     ]
    },
    {
     "name": "stdout",
     "output_type": "stream",
     "text": [
      "step 25\n"
     ]
    },
    {
     "name": "stdout",
     "output_type": "stream",
     "text": [
      "step 26\n"
     ]
    },
    {
     "name": "stdout",
     "output_type": "stream",
     "text": [
      "step 27\n"
     ]
    },
    {
     "name": "stdout",
     "output_type": "stream",
     "text": [
      "step 28\n"
     ]
    },
    {
     "name": "stdout",
     "output_type": "stream",
     "text": [
      "step 29\n"
     ]
    }
   ],
   "source": [
    "N_STEPS = 1 if SMOKE_TEST else 30\n",
    "for i in range(N_STEPS):\n",
    "    print(f\"step {i}\")\n",
    "    X.step()"
   ]
  },
  {
   "cell_type": "code",
   "execution_count": 6,
   "metadata": {
    "ExecuteTime": {
     "end_time": "2023-06-14T15:42:05.786611100Z",
     "start_time": "2023-06-14T15:42:05.773463300Z"
    },
    "execution": {
     "iopub.execute_input": "2024-01-11T17:39:25.763117Z",
     "iopub.status.busy": "2024-01-11T17:39:25.762688Z",
     "iopub.status.idle": "2024-01-11T17:39:25.777929Z",
     "shell.execute_reply": "2024-01-11T17:39:25.777306Z"
    }
   },
   "outputs": [
    {
     "data": {
      "text/html": [
       "<div>\n",
       "<style scoped>\n",
       "    .dataframe tbody tr th:only-of-type {\n",
       "        vertical-align: middle;\n",
       "    }\n",
       "\n",
       "    .dataframe tbody tr th {\n",
       "        vertical-align: top;\n",
       "    }\n",
       "\n",
       "    .dataframe thead th {\n",
       "        text-align: right;\n",
       "    }\n",
       "</style>\n",
       "<table border=\"1\" class=\"dataframe\">\n",
       "  <thead>\n",
       "    <tr style=\"text-align: right;\">\n",
       "      <th></th>\n",
       "      <th>x1</th>\n",
       "      <th>x2</th>\n",
       "      <th>a</th>\n",
       "      <th>y1</th>\n",
       "      <th>c1</th>\n",
       "      <th>c2</th>\n",
       "      <th>xopt_runtime</th>\n",
       "      <th>xopt_error</th>\n",
       "    </tr>\n",
       "  </thead>\n",
       "  <tbody>\n",
       "    <tr>\n",
       "      <th>0</th>\n",
       "      <td>1.000000</td>\n",
       "      <td>0.700000</td>\n",
       "      <td>dummy_constant</td>\n",
       "      <td>1.000000</td>\n",
       "      <td>0.584045</td>\n",
       "      <td>0.290000</td>\n",
       "      <td>0.000047</td>\n",
       "      <td>False</td>\n",
       "    </tr>\n",
       "    <tr>\n",
       "      <th>1</th>\n",
       "      <td>0.750000</td>\n",
       "      <td>0.950000</td>\n",
       "      <td>dummy_constant</td>\n",
       "      <td>0.750000</td>\n",
       "      <td>0.494833</td>\n",
       "      <td>0.265000</td>\n",
       "      <td>0.000020</td>\n",
       "      <td>False</td>\n",
       "    </tr>\n",
       "    <tr>\n",
       "      <th>2</th>\n",
       "      <td>1.535397</td>\n",
       "      <td>1.735397</td>\n",
       "      <td>dummy_constant</td>\n",
       "      <td>NaN</td>\n",
       "      <td>4.313110</td>\n",
       "      <td>2.598255</td>\n",
       "      <td>0.000029</td>\n",
       "      <td>False</td>\n",
       "    </tr>\n",
       "    <tr>\n",
       "      <th>3</th>\n",
       "      <td>2.320795</td>\n",
       "      <td>0.950000</td>\n",
       "      <td>dummy_constant</td>\n",
       "      <td>NaN</td>\n",
       "      <td>5.188811</td>\n",
       "      <td>3.517794</td>\n",
       "      <td>0.000037</td>\n",
       "      <td>False</td>\n",
       "    </tr>\n",
       "    <tr>\n",
       "      <th>4</th>\n",
       "      <td>1.656771</td>\n",
       "      <td>0.164602</td>\n",
       "      <td>dummy_constant</td>\n",
       "      <td>NaN</td>\n",
       "      <td>1.773346</td>\n",
       "      <td>1.450610</td>\n",
       "      <td>0.000036</td>\n",
       "      <td>False</td>\n",
       "    </tr>\n",
       "    <tr>\n",
       "      <th>5</th>\n",
       "      <td>0.871373</td>\n",
       "      <td>0.003159</td>\n",
       "      <td>dummy_constant</td>\n",
       "      <td>NaN</td>\n",
       "      <td>-0.340530</td>\n",
       "      <td>0.384770</td>\n",
       "      <td>0.000029</td>\n",
       "      <td>False</td>\n",
       "    </tr>\n",
       "    <tr>\n",
       "      <th>6</th>\n",
       "      <td>0.085976</td>\n",
       "      <td>0.761239</td>\n",
       "      <td>dummy_constant</td>\n",
       "      <td>NaN</td>\n",
       "      <td>-0.390458</td>\n",
       "      <td>0.239662</td>\n",
       "      <td>0.000030</td>\n",
       "      <td>False</td>\n",
       "    </tr>\n",
       "    <tr>\n",
       "      <th>7</th>\n",
       "      <td>0.000000</td>\n",
       "      <td>1.546636</td>\n",
       "      <td>dummy_constant</td>\n",
       "      <td>NaN</td>\n",
       "      <td>1.292083</td>\n",
       "      <td>1.345447</td>\n",
       "      <td>0.000031</td>\n",
       "      <td>False</td>\n",
       "    </tr>\n",
       "    <tr>\n",
       "      <th>8</th>\n",
       "      <td>0.407131</td>\n",
       "      <td>1.030333</td>\n",
       "      <td>dummy_constant</td>\n",
       "      <td>0.407131</td>\n",
       "      <td>0.130759</td>\n",
       "      <td>0.289878</td>\n",
       "      <td>0.000032</td>\n",
       "      <td>False</td>\n",
       "    </tr>\n",
       "    <tr>\n",
       "      <th>9</th>\n",
       "      <td>1.072651</td>\n",
       "      <td>0.330915</td>\n",
       "      <td>dummy_constant</td>\n",
       "      <td>1.072651</td>\n",
       "      <td>0.252549</td>\n",
       "      <td>0.356519</td>\n",
       "      <td>0.000030</td>\n",
       "      <td>False</td>\n",
       "    </tr>\n",
       "    <tr>\n",
       "      <th>10</th>\n",
       "      <td>0.805129</td>\n",
       "      <td>0.685825</td>\n",
       "      <td>dummy_constant</td>\n",
       "      <td>0.805129</td>\n",
       "      <td>0.089684</td>\n",
       "      <td>0.127634</td>\n",
       "      <td>0.000029</td>\n",
       "      <td>False</td>\n",
       "    </tr>\n",
       "    <tr>\n",
       "      <th>11</th>\n",
       "      <td>0.626577</td>\n",
       "      <td>1.143864</td>\n",
       "      <td>dummy_constant</td>\n",
       "      <td>0.626577</td>\n",
       "      <td>0.717362</td>\n",
       "      <td>0.430582</td>\n",
       "      <td>0.000030</td>\n",
       "      <td>False</td>\n",
       "    </tr>\n",
       "    <tr>\n",
       "      <th>12</th>\n",
       "      <td>0.179515</td>\n",
       "      <td>1.065088</td>\n",
       "      <td>dummy_constant</td>\n",
       "      <td>0.179515</td>\n",
       "      <td>0.255795</td>\n",
       "      <td>0.422034</td>\n",
       "      <td>0.000029</td>\n",
       "      <td>False</td>\n",
       "    </tr>\n",
       "    <tr>\n",
       "      <th>13</th>\n",
       "      <td>0.949702</td>\n",
       "      <td>0.977313</td>\n",
       "      <td>dummy_constant</td>\n",
       "      <td>0.949702</td>\n",
       "      <td>0.759691</td>\n",
       "      <td>0.430060</td>\n",
       "      <td>0.000028</td>\n",
       "      <td>False</td>\n",
       "    </tr>\n",
       "    <tr>\n",
       "      <th>14</th>\n",
       "      <td>1.142909</td>\n",
       "      <td>0.651993</td>\n",
       "      <td>dummy_constant</td>\n",
       "      <td>1.142909</td>\n",
       "      <td>0.773998</td>\n",
       "      <td>0.436433</td>\n",
       "      <td>0.000032</td>\n",
       "      <td>False</td>\n",
       "    </tr>\n",
       "    <tr>\n",
       "      <th>15</th>\n",
       "      <td>1.091742</td>\n",
       "      <td>0.172279</td>\n",
       "      <td>dummy_constant</td>\n",
       "      <td>1.091742</td>\n",
       "      <td>0.301944</td>\n",
       "      <td>0.457560</td>\n",
       "      <td>0.000030</td>\n",
       "      <td>False</td>\n",
       "    </tr>\n",
       "    <tr>\n",
       "      <th>16</th>\n",
       "      <td>1.142922</td>\n",
       "      <td>0.737358</td>\n",
       "      <td>dummy_constant</td>\n",
       "      <td>1.142922</td>\n",
       "      <td>0.946671</td>\n",
       "      <td>0.469687</td>\n",
       "      <td>0.000029</td>\n",
       "      <td>False</td>\n",
       "    </tr>\n",
       "    <tr>\n",
       "      <th>17</th>\n",
       "      <td>0.559321</td>\n",
       "      <td>1.182310</td>\n",
       "      <td>dummy_constant</td>\n",
       "      <td>0.559321</td>\n",
       "      <td>0.640087</td>\n",
       "      <td>0.469066</td>\n",
       "      <td>0.000028</td>\n",
       "      <td>False</td>\n",
       "    </tr>\n",
       "    <tr>\n",
       "      <th>18</th>\n",
       "      <td>0.053491</td>\n",
       "      <td>1.015598</td>\n",
       "      <td>dummy_constant</td>\n",
       "      <td>NaN</td>\n",
       "      <td>-0.032302</td>\n",
       "      <td>0.465212</td>\n",
       "      <td>0.000028</td>\n",
       "      <td>False</td>\n",
       "    </tr>\n",
       "    <tr>\n",
       "      <th>19</th>\n",
       "      <td>0.838650</td>\n",
       "      <td>0.637628</td>\n",
       "      <td>dummy_constant</td>\n",
       "      <td>0.838650</td>\n",
       "      <td>0.165920</td>\n",
       "      <td>0.133625</td>\n",
       "      <td>0.000029</td>\n",
       "      <td>False</td>\n",
       "    </tr>\n",
       "    <tr>\n",
       "      <th>20</th>\n",
       "      <td>0.923551</td>\n",
       "      <td>1.040926</td>\n",
       "      <td>dummy_constant</td>\n",
       "      <td>0.923551</td>\n",
       "      <td>0.878700</td>\n",
       "      <td>0.471996</td>\n",
       "      <td>0.000029</td>\n",
       "      <td>False</td>\n",
       "    </tr>\n",
       "    <tr>\n",
       "      <th>21</th>\n",
       "      <td>1.179416</td>\n",
       "      <td>0.422990</td>\n",
       "      <td>dummy_constant</td>\n",
       "      <td>1.179416</td>\n",
       "      <td>0.498396</td>\n",
       "      <td>0.467536</td>\n",
       "      <td>0.000029</td>\n",
       "      <td>False</td>\n",
       "    </tr>\n",
       "    <tr>\n",
       "      <th>22</th>\n",
       "      <td>0.572389</td>\n",
       "      <td>0.894662</td>\n",
       "      <td>dummy_constant</td>\n",
       "      <td>0.572389</td>\n",
       "      <td>0.223027</td>\n",
       "      <td>0.160998</td>\n",
       "      <td>0.000032</td>\n",
       "      <td>False</td>\n",
       "    </tr>\n",
       "    <tr>\n",
       "      <th>23</th>\n",
       "      <td>0.351637</td>\n",
       "      <td>1.168439</td>\n",
       "      <td>dummy_constant</td>\n",
       "      <td>0.351637</td>\n",
       "      <td>0.492418</td>\n",
       "      <td>0.468822</td>\n",
       "      <td>0.000031</td>\n",
       "      <td>False</td>\n",
       "    </tr>\n",
       "    <tr>\n",
       "      <th>24</th>\n",
       "      <td>0.074494</td>\n",
       "      <td>1.048640</td>\n",
       "      <td>dummy_constant</td>\n",
       "      <td>0.074494</td>\n",
       "      <td>0.062957</td>\n",
       "      <td>0.482061</td>\n",
       "      <td>0.000028</td>\n",
       "      <td>False</td>\n",
       "    </tr>\n",
       "    <tr>\n",
       "      <th>25</th>\n",
       "      <td>0.762091</td>\n",
       "      <td>1.139756</td>\n",
       "      <td>dummy_constant</td>\n",
       "      <td>0.762091</td>\n",
       "      <td>0.979825</td>\n",
       "      <td>0.477979</td>\n",
       "      <td>0.000042</td>\n",
       "      <td>False</td>\n",
       "    </tr>\n",
       "    <tr>\n",
       "      <th>26</th>\n",
       "      <td>1.099077</td>\n",
       "      <td>0.847166</td>\n",
       "      <td>dummy_constant</td>\n",
       "      <td>1.099077</td>\n",
       "      <td>0.972610</td>\n",
       "      <td>0.479418</td>\n",
       "      <td>0.000029</td>\n",
       "      <td>False</td>\n",
       "    </tr>\n",
       "    <tr>\n",
       "      <th>27</th>\n",
       "      <td>1.062825</td>\n",
       "      <td>0.097483</td>\n",
       "      <td>dummy_constant</td>\n",
       "      <td>1.062825</td>\n",
       "      <td>0.128384</td>\n",
       "      <td>0.478792</td>\n",
       "      <td>0.000028</td>\n",
       "      <td>False</td>\n",
       "    </tr>\n",
       "    <tr>\n",
       "      <th>28</th>\n",
       "      <td>1.054715</td>\n",
       "      <td>0.078912</td>\n",
       "      <td>dummy_constant</td>\n",
       "      <td>1.054715</td>\n",
       "      <td>0.081937</td>\n",
       "      <td>0.485024</td>\n",
       "      <td>0.000032</td>\n",
       "      <td>False</td>\n",
       "    </tr>\n",
       "    <tr>\n",
       "      <th>29</th>\n",
       "      <td>0.928594</td>\n",
       "      <td>0.454852</td>\n",
       "      <td>dummy_constant</td>\n",
       "      <td>0.928594</td>\n",
       "      <td>0.015523</td>\n",
       "      <td>0.185731</td>\n",
       "      <td>0.000028</td>\n",
       "      <td>False</td>\n",
       "    </tr>\n",
       "    <tr>\n",
       "      <th>30</th>\n",
       "      <td>0.579419</td>\n",
       "      <td>0.859231</td>\n",
       "      <td>dummy_constant</td>\n",
       "      <td>0.579419</td>\n",
       "      <td>0.173774</td>\n",
       "      <td>0.135355</td>\n",
       "      <td>0.000029</td>\n",
       "      <td>False</td>\n",
       "    </tr>\n",
       "    <tr>\n",
       "      <th>31</th>\n",
       "      <td>1.194354</td>\n",
       "      <td>0.492224</td>\n",
       "      <td>dummy_constant</td>\n",
       "      <td>1.194354</td>\n",
       "      <td>0.568806</td>\n",
       "      <td>0.482188</td>\n",
       "      <td>0.000029</td>\n",
       "      <td>False</td>\n",
       "    </tr>\n",
       "  </tbody>\n",
       "</table>\n",
       "</div>"
      ],
      "text/plain": [
       "          x1        x2               a        y1        c1        c2  \\\n",
       "0   1.000000  0.700000  dummy_constant  1.000000  0.584045  0.290000   \n",
       "1   0.750000  0.950000  dummy_constant  0.750000  0.494833  0.265000   \n",
       "2   1.535397  1.735397  dummy_constant       NaN  4.313110  2.598255   \n",
       "3   2.320795  0.950000  dummy_constant       NaN  5.188811  3.517794   \n",
       "4   1.656771  0.164602  dummy_constant       NaN  1.773346  1.450610   \n",
       "5   0.871373  0.003159  dummy_constant       NaN -0.340530  0.384770   \n",
       "6   0.085976  0.761239  dummy_constant       NaN -0.390458  0.239662   \n",
       "7   0.000000  1.546636  dummy_constant       NaN  1.292083  1.345447   \n",
       "8   0.407131  1.030333  dummy_constant  0.407131  0.130759  0.289878   \n",
       "9   1.072651  0.330915  dummy_constant  1.072651  0.252549  0.356519   \n",
       "10  0.805129  0.685825  dummy_constant  0.805129  0.089684  0.127634   \n",
       "11  0.626577  1.143864  dummy_constant  0.626577  0.717362  0.430582   \n",
       "12  0.179515  1.065088  dummy_constant  0.179515  0.255795  0.422034   \n",
       "13  0.949702  0.977313  dummy_constant  0.949702  0.759691  0.430060   \n",
       "14  1.142909  0.651993  dummy_constant  1.142909  0.773998  0.436433   \n",
       "15  1.091742  0.172279  dummy_constant  1.091742  0.301944  0.457560   \n",
       "16  1.142922  0.737358  dummy_constant  1.142922  0.946671  0.469687   \n",
       "17  0.559321  1.182310  dummy_constant  0.559321  0.640087  0.469066   \n",
       "18  0.053491  1.015598  dummy_constant       NaN -0.032302  0.465212   \n",
       "19  0.838650  0.637628  dummy_constant  0.838650  0.165920  0.133625   \n",
       "20  0.923551  1.040926  dummy_constant  0.923551  0.878700  0.471996   \n",
       "21  1.179416  0.422990  dummy_constant  1.179416  0.498396  0.467536   \n",
       "22  0.572389  0.894662  dummy_constant  0.572389  0.223027  0.160998   \n",
       "23  0.351637  1.168439  dummy_constant  0.351637  0.492418  0.468822   \n",
       "24  0.074494  1.048640  dummy_constant  0.074494  0.062957  0.482061   \n",
       "25  0.762091  1.139756  dummy_constant  0.762091  0.979825  0.477979   \n",
       "26  1.099077  0.847166  dummy_constant  1.099077  0.972610  0.479418   \n",
       "27  1.062825  0.097483  dummy_constant  1.062825  0.128384  0.478792   \n",
       "28  1.054715  0.078912  dummy_constant  1.054715  0.081937  0.485024   \n",
       "29  0.928594  0.454852  dummy_constant  0.928594  0.015523  0.185731   \n",
       "30  0.579419  0.859231  dummy_constant  0.579419  0.173774  0.135355   \n",
       "31  1.194354  0.492224  dummy_constant  1.194354  0.568806  0.482188   \n",
       "\n",
       "    xopt_runtime  xopt_error  \n",
       "0       0.000047       False  \n",
       "1       0.000020       False  \n",
       "2       0.000029       False  \n",
       "3       0.000037       False  \n",
       "4       0.000036       False  \n",
       "5       0.000029       False  \n",
       "6       0.000030       False  \n",
       "7       0.000031       False  \n",
       "8       0.000032       False  \n",
       "9       0.000030       False  \n",
       "10      0.000029       False  \n",
       "11      0.000030       False  \n",
       "12      0.000029       False  \n",
       "13      0.000028       False  \n",
       "14      0.000032       False  \n",
       "15      0.000030       False  \n",
       "16      0.000029       False  \n",
       "17      0.000028       False  \n",
       "18      0.000028       False  \n",
       "19      0.000029       False  \n",
       "20      0.000029       False  \n",
       "21      0.000029       False  \n",
       "22      0.000032       False  \n",
       "23      0.000031       False  \n",
       "24      0.000028       False  \n",
       "25      0.000042       False  \n",
       "26      0.000029       False  \n",
       "27      0.000028       False  \n",
       "28      0.000032       False  \n",
       "29      0.000028       False  \n",
       "30      0.000029       False  \n",
       "31      0.000029       False  "
      ]
     },
     "execution_count": 6,
     "metadata": {},
     "output_type": "execute_result"
    }
   ],
   "source": [
    "# view the data\n",
    "X.data"
   ]
  },
  {
   "cell_type": "code",
   "execution_count": 7,
   "metadata": {
    "ExecuteTime": {
     "end_time": "2023-06-14T15:42:06.400652600Z",
     "start_time": "2023-06-14T15:42:05.787612700Z"
    },
    "execution": {
     "iopub.execute_input": "2024-01-11T17:39:25.780356Z",
     "iopub.status.busy": "2024-01-11T17:39:25.779947Z",
     "iopub.status.idle": "2024-01-11T17:39:26.214064Z",
     "shell.execute_reply": "2024-01-11T17:39:26.213379Z"
    }
   },
   "outputs": [
    {
     "data": {
      "image/png": "[encoded data removed]",
      "text/plain": [
       "<Figure size 640x480 with 1 Axes>"
      ]
     },
     "metadata": {},
     "output_type": "display_data"
    }
   ],
   "source": [
    "# plot results\n",
    "ax = X.data.plot(\"x1\", \"x2\")\n",
    "ax.set_aspect(\"equal\")"
   ]
  },
  {
   "cell_type": "code",
   "execution_count": 7,
   "metadata": {
    "ExecuteTime": {
     "end_time": "2023-06-14T15:42:06.419648600Z",
     "start_time": "2023-06-14T15:42:06.401622Z"
    }
   },
   "outputs": [],
   "source": []
  }
 ],
 "metadata": {
  "kernelspec": {
   "display_name": "Python 3 (ipykernel)",
   "language": "python",
   "name": "python3"
  },
  "language_info": {
   "codemirror_mode": {
    "name": "ipython",
    "version": 3
   },
   "file_extension": ".py",
   "mimetype": "text/x-python",
   "name": "python",
   "nbconvert_exporter": "python",
   "pygments_lexer": "ipython3",
   "version": "3.9.18"
  }
 },
 "nbformat": 4,
 "nbformat_minor": 4
}
