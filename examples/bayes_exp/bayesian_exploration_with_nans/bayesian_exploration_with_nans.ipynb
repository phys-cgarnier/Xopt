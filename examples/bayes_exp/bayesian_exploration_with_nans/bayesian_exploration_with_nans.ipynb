{
 "cells": [
  {
   "cell_type": "markdown",
   "metadata": {},
   "source": [
    "# Bayesian Exploration with NaNs\n",
    "\n",
    "As violations of constraints can lead to invalid values of the objective, the evaluate function may simply return NaNs. We demonstrate below how we can still perform Bayesian Exploration in that case."
   ]
  },
  {
   "cell_type": "code",
   "execution_count": 1,
   "metadata": {
    "ExecuteTime": {
     "end_time": "2023-06-14T15:37:25.535638700Z",
     "start_time": "2023-06-14T15:37:22.379218300Z"
    },
    "execution": {
     "iopub.execute_input": "2024-04-24T14:55:40.031792Z",
     "iopub.status.busy": "2024-04-24T14:55:40.031613Z",
     "iopub.status.idle": "2024-04-24T14:55:42.203375Z",
     "shell.execute_reply": "2024-04-24T14:55:42.202783Z"
    }
   },
   "outputs": [],
   "source": [
    "# set values if testing\n",
    "import os\n",
    "SMOKE_TEST = os.environ.get(\"SMOKE_TEST\")\n",
    "NUM_MC_SAMPLES = 1 if SMOKE_TEST else 128\n",
    "NUM_RESTARTS = 1 if SMOKE_TEST else 20\n",
    "\n",
    "# Ignore all warnings\n",
    "import warnings\n",
    "warnings.filterwarnings(\"ignore\")\n",
    "\n",
    "import pandas as pd\n",
    "import torch\n",
    "import yaml\n",
    "from copy import deepcopy\n",
    "from xopt import Xopt, Evaluator\n",
    "from xopt.generators.bayesian import BayesianExplorationGenerator\n",
    "from xopt.resources.test_functions.tnk import evaluate_TNK, tnk_vocs\n",
    "\n",
    "vocs = deepcopy(tnk_vocs)\n",
    "vocs.objectives = {}\n",
    "vocs.observables = [\"y1\"]"
   ]
  },
  {
   "cell_type": "code",
   "execution_count": 2,
   "metadata": {
    "ExecuteTime": {
     "end_time": "2023-06-14T15:37:25.549637200Z",
     "start_time": "2023-06-14T15:37:25.539666500Z"
    },
    "execution": {
     "iopub.execute_input": "2024-04-24T14:55:42.206076Z",
     "iopub.status.busy": "2024-04-24T14:55:42.205788Z",
     "iopub.status.idle": "2024-04-24T14:55:42.209947Z",
     "shell.execute_reply": "2024-04-24T14:55:42.209482Z"
    }
   },
   "outputs": [],
   "source": [
    "# modify the evaluate function to return NaNs if constraints are violated\n",
    "def evaluate(input_dict):\n",
    "    output_dict = evaluate_TNK(input_dict)\n",
    "    del output_dict[\"y2\"]\n",
    "    for c in vocs.constraints.keys():\n",
    "        if vocs.constraints[c][0].upper() == \"GREATER_THAN\" and output_dict[c] <= vocs.constraints[c][1]:\n",
    "            output_dict[\"y1\"] = torch.nan\n",
    "        elif vocs.constraints[c][0].upper() == \"LESS_THAN\" and output_dict[c] >= vocs.constraints[c][1]:\n",
    "            output_dict[\"y1\"] = torch.nan\n",
    "    return output_dict"
   ]
  },
  {
   "cell_type": "code",
   "execution_count": 3,
   "metadata": {
    "ExecuteTime": {
     "end_time": "2023-06-14T15:37:25.580538800Z",
     "start_time": "2023-06-14T15:37:25.552636600Z"
    },
    "execution": {
     "iopub.execute_input": "2024-04-24T14:55:42.212162Z",
     "iopub.status.busy": "2024-04-24T14:55:42.211715Z",
     "iopub.status.idle": "2024-04-24T14:55:42.228790Z",
     "shell.execute_reply": "2024-04-24T14:55:42.228186Z"
    }
   },
   "outputs": [
    {
     "data": {
      "text/plain": [
       "\n",
       "            Xopt\n",
       "________________________________\n",
       "Version: 0+untagged.1.g76d4af6\n",
       "Data size: 0\n",
       "Config as YAML:\n",
       "dump_file: null\n",
       "evaluator:\n",
       "  function: __main__.evaluate\n",
       "  function_kwargs: {}\n",
       "  max_workers: 1\n",
       "  vectorized: false\n",
       "generator:\n",
       "  computation_time: null\n",
       "  fixed_features: null\n",
       "  gp_constructor:\n",
       "    covar_modules: {}\n",
       "    custom_noise_prior: null\n",
       "    mean_modules: {}\n",
       "    name: standard\n",
       "    trainable_mean_keys: []\n",
       "    transform_inputs: true\n",
       "    use_low_noise_prior: true\n",
       "  log_transform_acquisition_function: false\n",
       "  max_travel_distances:\n",
       "  - 0.25\n",
       "  - 0.25\n",
       "  model: null\n",
       "  n_candidates: 1\n",
       "  n_interpolate_points: null\n",
       "  n_monte_carlo_samples: 128\n",
       "  name: bayesian_exploration\n",
       "  numerical_optimizer:\n",
       "    max_iter: 2000\n",
       "    max_time: null\n",
       "    n_restarts: 20\n",
       "    name: LBFGS\n",
       "  supports_batch_generation: true\n",
       "  turbo_controller: null\n",
       "  use_cuda: false\n",
       "max_evaluations: null\n",
       "serialize_inline: false\n",
       "serialize_torch: false\n",
       "strict: true\n",
       "vocs:\n",
       "  constants:\n",
       "    a: dummy_constant\n",
       "  constraints:\n",
       "    c1:\n",
       "    - GREATER_THAN\n",
       "    - 0.0\n",
       "    c2:\n",
       "    - LESS_THAN\n",
       "    - 0.5\n",
       "  objectives: {}\n",
       "  observables:\n",
       "  - y1\n",
       "  variables:\n",
       "    x1:\n",
       "    - 0.0\n",
       "    - 3.14159\n",
       "    x2:\n",
       "    - 0.0\n",
       "    - 3.14159\n"
      ]
     },
     "execution_count": 3,
     "metadata": {},
     "output_type": "execute_result"
    }
   ],
   "source": [
    "generator = BayesianExplorationGenerator(vocs=vocs)\n",
    "generator.max_travel_distances = [0.25, 0.25]\n",
    "generator.n_monte_carlo_samples = NUM_MC_SAMPLES\n",
    "generator.numerical_optimizer.n_restarts = NUM_RESTARTS\n",
    "\n",
    "evaluator = Evaluator(function=evaluate)\n",
    "X = Xopt(generator=generator, evaluator=evaluator, vocs=vocs)\n",
    "X"
   ]
  },
  {
   "cell_type": "markdown",
   "metadata": {},
   "source": [
    "## Run exploration\n",
    "We start with evaluating 2 points that we know satisfy the constraints. We then run\n",
    "30 exploration steps."
   ]
  },
  {
   "cell_type": "code",
   "execution_count": 4,
   "metadata": {
    "ExecuteTime": {
     "end_time": "2023-06-14T15:37:25.638907100Z",
     "start_time": "2023-06-14T15:37:25.582541Z"
    },
    "execution": {
     "iopub.execute_input": "2024-04-24T14:55:42.258004Z",
     "iopub.status.busy": "2024-04-24T14:55:42.257577Z",
     "iopub.status.idle": "2024-04-24T14:55:42.270390Z",
     "shell.execute_reply": "2024-04-24T14:55:42.269860Z"
    }
   },
   "outputs": [
    {
     "data": {
      "text/html": [
       "<div>\n",
       "<style scoped>\n",
       "    .dataframe tbody tr th:only-of-type {\n",
       "        vertical-align: middle;\n",
       "    }\n",
       "\n",
       "    .dataframe tbody tr th {\n",
       "        vertical-align: top;\n",
       "    }\n",
       "\n",
       "    .dataframe thead th {\n",
       "        text-align: right;\n",
       "    }\n",
       "</style>\n",
       "<table border=\"1\" class=\"dataframe\">\n",
       "  <thead>\n",
       "    <tr style=\"text-align: right;\">\n",
       "      <th></th>\n",
       "      <th>x1</th>\n",
       "      <th>x2</th>\n",
       "      <th>a</th>\n",
       "      <th>y1</th>\n",
       "      <th>c1</th>\n",
       "      <th>c2</th>\n",
       "      <th>xopt_runtime</th>\n",
       "      <th>xopt_error</th>\n",
       "    </tr>\n",
       "  </thead>\n",
       "  <tbody>\n",
       "    <tr>\n",
       "      <th>0</th>\n",
       "      <td>1.00</td>\n",
       "      <td>0.70</td>\n",
       "      <td>dummy_constant</td>\n",
       "      <td>1.00</td>\n",
       "      <td>0.584045</td>\n",
       "      <td>0.290</td>\n",
       "      <td>0.000049</td>\n",
       "      <td>False</td>\n",
       "    </tr>\n",
       "    <tr>\n",
       "      <th>1</th>\n",
       "      <td>0.75</td>\n",
       "      <td>0.95</td>\n",
       "      <td>dummy_constant</td>\n",
       "      <td>0.75</td>\n",
       "      <td>0.494833</td>\n",
       "      <td>0.265</td>\n",
       "      <td>0.000011</td>\n",
       "      <td>False</td>\n",
       "    </tr>\n",
       "  </tbody>\n",
       "</table>\n",
       "</div>"
      ],
      "text/plain": [
       "     x1    x2               a    y1        c1     c2  xopt_runtime  xopt_error\n",
       "0  1.00  0.70  dummy_constant  1.00  0.584045  0.290      0.000049       False\n",
       "1  0.75  0.95  dummy_constant  0.75  0.494833  0.265      0.000011       False"
      ]
     },
     "execution_count": 4,
     "metadata": {},
     "output_type": "execute_result"
    }
   ],
   "source": [
    "X.evaluate_data(pd.DataFrame({\"x1\": [1.0, 0.75], \"x2\": [0.7, 0.95]}))"
   ]
  },
  {
   "cell_type": "code",
   "execution_count": 5,
   "metadata": {
    "ExecuteTime": {
     "end_time": "2023-06-14T15:42:05.755461900Z",
     "start_time": "2023-06-14T15:37:25.611873400Z"
    },
    "execution": {
     "iopub.execute_input": "2024-04-24T14:55:42.272554Z",
     "iopub.status.busy": "2024-04-24T14:55:42.272335Z",
     "iopub.status.idle": "2024-04-24T14:56:50.009846Z",
     "shell.execute_reply": "2024-04-24T14:56:50.009245Z"
    },
    "scrolled": false
   },
   "outputs": [
    {
     "name": "stdout",
     "output_type": "stream",
     "text": [
      "step 0\n"
     ]
    },
    {
     "name": "stdout",
     "output_type": "stream",
     "text": [
      "step 1\n"
     ]
    },
    {
     "name": "stdout",
     "output_type": "stream",
     "text": [
      "step 2\n"
     ]
    },
    {
     "name": "stdout",
     "output_type": "stream",
     "text": [
      "step 3\n"
     ]
    },
    {
     "name": "stdout",
     "output_type": "stream",
     "text": [
      "step 4\n"
     ]
    },
    {
     "name": "stdout",
     "output_type": "stream",
     "text": [
      "step 5\n"
     ]
    },
    {
     "name": "stdout",
     "output_type": "stream",
     "text": [
      "step 6\n"
     ]
    },
    {
     "name": "stdout",
     "output_type": "stream",
     "text": [
      "step 7\n"
     ]
    },
    {
     "name": "stdout",
     "output_type": "stream",
     "text": [
      "step 8\n"
     ]
    },
    {
     "name": "stdout",
     "output_type": "stream",
     "text": [
      "step 9\n"
     ]
    },
    {
     "name": "stdout",
     "output_type": "stream",
     "text": [
      "step 10\n"
     ]
    },
    {
     "name": "stdout",
     "output_type": "stream",
     "text": [
      "step 11\n"
     ]
    },
    {
     "name": "stdout",
     "output_type": "stream",
     "text": [
      "step 12\n"
     ]
    },
    {
     "name": "stdout",
     "output_type": "stream",
     "text": [
      "step 13\n"
     ]
    },
    {
     "name": "stdout",
     "output_type": "stream",
     "text": [
      "step 14\n"
     ]
    },
    {
     "name": "stdout",
     "output_type": "stream",
     "text": [
      "step 15\n"
     ]
    },
    {
     "name": "stdout",
     "output_type": "stream",
     "text": [
      "step 16\n"
     ]
    },
    {
     "name": "stdout",
     "output_type": "stream",
     "text": [
      "step 17\n"
     ]
    },
    {
     "name": "stdout",
     "output_type": "stream",
     "text": [
      "step 18\n"
     ]
    },
    {
     "name": "stdout",
     "output_type": "stream",
     "text": [
      "step 19\n"
     ]
    },
    {
     "name": "stdout",
     "output_type": "stream",
     "text": [
      "step 20\n"
     ]
    },
    {
     "name": "stdout",
     "output_type": "stream",
     "text": [
      "step 21\n"
     ]
    },
    {
     "name": "stdout",
     "output_type": "stream",
     "text": [
      "step 22\n"
     ]
    },
    {
     "name": "stdout",
     "output_type": "stream",
     "text": [
      "step 23\n"
     ]
    },
    {
     "name": "stdout",
     "output_type": "stream",
     "text": [
      "step 24\n"
     ]
    },
    {
     "name": "stdout",
     "output_type": "stream",
     "text": [
      "step 25\n"
     ]
    },
    {
     "name": "stdout",
     "output_type": "stream",
     "text": [
      "step 26\n"
     ]
    },
    {
     "name": "stdout",
     "output_type": "stream",
     "text": [
      "step 27\n"
     ]
    },
    {
     "name": "stdout",
     "output_type": "stream",
     "text": [
      "step 28\n"
     ]
    },
    {
     "name": "stdout",
     "output_type": "stream",
     "text": [
      "step 29\n"
     ]
    }
   ],
   "source": [
    "N_STEPS = 1 if SMOKE_TEST else 30\n",
    "for i in range(N_STEPS):\n",
    "    print(f\"step {i}\")\n",
    "    X.step()"
   ]
  },
  {
   "cell_type": "code",
   "execution_count": 6,
   "metadata": {
    "ExecuteTime": {
     "end_time": "2023-06-14T15:42:05.786611100Z",
     "start_time": "2023-06-14T15:42:05.773463300Z"
    },
    "execution": {
     "iopub.execute_input": "2024-04-24T14:56:50.012932Z",
     "iopub.status.busy": "2024-04-24T14:56:50.012477Z",
     "iopub.status.idle": "2024-04-24T14:56:50.028491Z",
     "shell.execute_reply": "2024-04-24T14:56:50.027864Z"
    }
   },
   "outputs": [
    {
     "data": {
      "text/html": [
       "<div>\n",
       "<style scoped>\n",
       "    .dataframe tbody tr th:only-of-type {\n",
       "        vertical-align: middle;\n",
       "    }\n",
       "\n",
       "    .dataframe tbody tr th {\n",
       "        vertical-align: top;\n",
       "    }\n",
       "\n",
       "    .dataframe thead th {\n",
       "        text-align: right;\n",
       "    }\n",
       "</style>\n",
       "<table border=\"1\" class=\"dataframe\">\n",
       "  <thead>\n",
       "    <tr style=\"text-align: right;\">\n",
       "      <th></th>\n",
       "      <th>x1</th>\n",
       "      <th>x2</th>\n",
       "      <th>a</th>\n",
       "      <th>y1</th>\n",
       "      <th>c1</th>\n",
       "      <th>c2</th>\n",
       "      <th>xopt_runtime</th>\n",
       "      <th>xopt_error</th>\n",
       "    </tr>\n",
       "  </thead>\n",
       "  <tbody>\n",
       "    <tr>\n",
       "      <th>0</th>\n",
       "      <td>1.000000</td>\n",
       "      <td>0.700000</td>\n",
       "      <td>dummy_constant</td>\n",
       "      <td>1.000000</td>\n",
       "      <td>0.584045</td>\n",
       "      <td>0.290000</td>\n",
       "      <td>0.000049</td>\n",
       "      <td>False</td>\n",
       "    </tr>\n",
       "    <tr>\n",
       "      <th>1</th>\n",
       "      <td>0.750000</td>\n",
       "      <td>0.950000</td>\n",
       "      <td>dummy_constant</td>\n",
       "      <td>0.750000</td>\n",
       "      <td>0.494833</td>\n",
       "      <td>0.265000</td>\n",
       "      <td>0.000011</td>\n",
       "      <td>False</td>\n",
       "    </tr>\n",
       "    <tr>\n",
       "      <th>2</th>\n",
       "      <td>1.535397</td>\n",
       "      <td>1.735397</td>\n",
       "      <td>dummy_constant</td>\n",
       "      <td>NaN</td>\n",
       "      <td>4.313110</td>\n",
       "      <td>2.598255</td>\n",
       "      <td>0.000030</td>\n",
       "      <td>False</td>\n",
       "    </tr>\n",
       "    <tr>\n",
       "      <th>3</th>\n",
       "      <td>2.320795</td>\n",
       "      <td>0.950000</td>\n",
       "      <td>dummy_constant</td>\n",
       "      <td>NaN</td>\n",
       "      <td>5.188811</td>\n",
       "      <td>3.517794</td>\n",
       "      <td>0.000030</td>\n",
       "      <td>False</td>\n",
       "    </tr>\n",
       "    <tr>\n",
       "      <th>4</th>\n",
       "      <td>1.545401</td>\n",
       "      <td>0.164602</td>\n",
       "      <td>dummy_constant</td>\n",
       "      <td>NaN</td>\n",
       "      <td>1.428022</td>\n",
       "      <td>1.205354</td>\n",
       "      <td>0.000032</td>\n",
       "      <td>False</td>\n",
       "    </tr>\n",
       "    <tr>\n",
       "      <th>5</th>\n",
       "      <td>0.760003</td>\n",
       "      <td>0.000000</td>\n",
       "      <td>dummy_constant</td>\n",
       "      <td>NaN</td>\n",
       "      <td>-0.522395</td>\n",
       "      <td>0.317602</td>\n",
       "      <td>0.000030</td>\n",
       "      <td>False</td>\n",
       "    </tr>\n",
       "    <tr>\n",
       "      <th>6</th>\n",
       "      <td>0.000000</td>\n",
       "      <td>0.775621</td>\n",
       "      <td>dummy_constant</td>\n",
       "      <td>NaN</td>\n",
       "      <td>-0.498411</td>\n",
       "      <td>0.325967</td>\n",
       "      <td>0.000029</td>\n",
       "      <td>False</td>\n",
       "    </tr>\n",
       "    <tr>\n",
       "      <th>7</th>\n",
       "      <td>0.034713</td>\n",
       "      <td>1.561019</td>\n",
       "      <td>dummy_constant</td>\n",
       "      <td>NaN</td>\n",
       "      <td>1.344246</td>\n",
       "      <td>1.342253</td>\n",
       "      <td>0.000030</td>\n",
       "      <td>False</td>\n",
       "    </tr>\n",
       "    <tr>\n",
       "      <th>8</th>\n",
       "      <td>0.420332</td>\n",
       "      <td>1.049879</td>\n",
       "      <td>dummy_constant</td>\n",
       "      <td>0.420332</td>\n",
       "      <td>0.180726</td>\n",
       "      <td>0.308714</td>\n",
       "      <td>0.000031</td>\n",
       "      <td>False</td>\n",
       "    </tr>\n",
       "    <tr>\n",
       "      <th>9</th>\n",
       "      <td>1.073059</td>\n",
       "      <td>0.304553</td>\n",
       "      <td>dummy_constant</td>\n",
       "      <td>1.073059</td>\n",
       "      <td>0.272581</td>\n",
       "      <td>0.366597</td>\n",
       "      <td>0.000031</td>\n",
       "      <td>False</td>\n",
       "    </tr>\n",
       "    <tr>\n",
       "      <th>10</th>\n",
       "      <td>0.793783</td>\n",
       "      <td>0.690715</td>\n",
       "      <td>dummy_constant</td>\n",
       "      <td>0.793783</td>\n",
       "      <td>0.062630</td>\n",
       "      <td>0.122680</td>\n",
       "      <td>0.000030</td>\n",
       "      <td>False</td>\n",
       "    </tr>\n",
       "    <tr>\n",
       "      <th>11</th>\n",
       "      <td>0.660223</td>\n",
       "      <td>1.136856</td>\n",
       "      <td>dummy_constant</td>\n",
       "      <td>0.660223</td>\n",
       "      <td>0.781815</td>\n",
       "      <td>0.431257</td>\n",
       "      <td>0.000029</td>\n",
       "      <td>False</td>\n",
       "    </tr>\n",
       "    <tr>\n",
       "      <th>12</th>\n",
       "      <td>0.197003</td>\n",
       "      <td>1.081611</td>\n",
       "      <td>dummy_constant</td>\n",
       "      <td>0.197003</td>\n",
       "      <td>0.305358</td>\n",
       "      <td>0.430079</td>\n",
       "      <td>0.000031</td>\n",
       "      <td>False</td>\n",
       "    </tr>\n",
       "    <tr>\n",
       "      <th>13</th>\n",
       "      <td>0.982400</td>\n",
       "      <td>0.381619</td>\n",
       "      <td>dummy_constant</td>\n",
       "      <td>0.982400</td>\n",
       "      <td>0.016976</td>\n",
       "      <td>0.246724</td>\n",
       "      <td>0.000030</td>\n",
       "      <td>False</td>\n",
       "    </tr>\n",
       "    <tr>\n",
       "      <th>14</th>\n",
       "      <td>1.073373</td>\n",
       "      <td>0.818135</td>\n",
       "      <td>dummy_constant</td>\n",
       "      <td>1.073373</td>\n",
       "      <td>0.875881</td>\n",
       "      <td>0.429967</td>\n",
       "      <td>0.000030</td>\n",
       "      <td>False</td>\n",
       "    </tr>\n",
       "    <tr>\n",
       "      <th>15</th>\n",
       "      <td>1.077212</td>\n",
       "      <td>0.142130</td>\n",
       "      <td>dummy_constant</td>\n",
       "      <td>1.077212</td>\n",
       "      <td>0.230980</td>\n",
       "      <td>0.461245</td>\n",
       "      <td>0.000031</td>\n",
       "      <td>False</td>\n",
       "    </tr>\n",
       "    <tr>\n",
       "      <th>16</th>\n",
       "      <td>1.151626</td>\n",
       "      <td>0.680508</td>\n",
       "      <td>dummy_constant</td>\n",
       "      <td>1.151626</td>\n",
       "      <td>0.852629</td>\n",
       "      <td>0.457200</td>\n",
       "      <td>0.000030</td>\n",
       "      <td>False</td>\n",
       "    </tr>\n",
       "    <tr>\n",
       "      <th>17</th>\n",
       "      <td>0.899551</td>\n",
       "      <td>1.047695</td>\n",
       "      <td>dummy_constant</td>\n",
       "      <td>0.899551</td>\n",
       "      <td>0.872014</td>\n",
       "      <td>0.459610</td>\n",
       "      <td>0.000031</td>\n",
       "      <td>False</td>\n",
       "    </tr>\n",
       "    <tr>\n",
       "      <th>18</th>\n",
       "      <td>0.528364</td>\n",
       "      <td>1.183566</td>\n",
       "      <td>dummy_constant</td>\n",
       "      <td>0.528364</td>\n",
       "      <td>0.589298</td>\n",
       "      <td>0.468067</td>\n",
       "      <td>0.000031</td>\n",
       "      <td>False</td>\n",
       "    </tr>\n",
       "    <tr>\n",
       "      <th>19</th>\n",
       "      <td>0.086794</td>\n",
       "      <td>1.045205</td>\n",
       "      <td>dummy_constant</td>\n",
       "      <td>0.086794</td>\n",
       "      <td>0.075712</td>\n",
       "      <td>0.467988</td>\n",
       "      <td>0.000030</td>\n",
       "      <td>False</td>\n",
       "    </tr>\n",
       "    <tr>\n",
       "      <th>20</th>\n",
       "      <td>0.623047</td>\n",
       "      <td>0.880817</td>\n",
       "      <td>dummy_constant</td>\n",
       "      <td>0.623047</td>\n",
       "      <td>0.255109</td>\n",
       "      <td>0.160162</td>\n",
       "      <td>0.000029</td>\n",
       "      <td>False</td>\n",
       "    </tr>\n",
       "    <tr>\n",
       "      <th>21</th>\n",
       "      <td>1.059646</td>\n",
       "      <td>0.095420</td>\n",
       "      <td>dummy_constant</td>\n",
       "      <td>1.059646</td>\n",
       "      <td>0.118605</td>\n",
       "      <td>0.476889</td>\n",
       "      <td>0.000028</td>\n",
       "      <td>False</td>\n",
       "    </tr>\n",
       "    <tr>\n",
       "      <th>22</th>\n",
       "      <td>1.186465</td>\n",
       "      <td>0.529325</td>\n",
       "      <td>dummy_constant</td>\n",
       "      <td>1.186465</td>\n",
       "      <td>0.597029</td>\n",
       "      <td>0.472094</td>\n",
       "      <td>0.000030</td>\n",
       "      <td>False</td>\n",
       "    </tr>\n",
       "    <tr>\n",
       "      <th>23</th>\n",
       "      <td>0.733439</td>\n",
       "      <td>0.752708</td>\n",
       "      <td>dummy_constant</td>\n",
       "      <td>0.733439</td>\n",
       "      <td>0.006647</td>\n",
       "      <td>0.118355</td>\n",
       "      <td>0.000032</td>\n",
       "      <td>False</td>\n",
       "    </tr>\n",
       "    <tr>\n",
       "      <th>24</th>\n",
       "      <td>0.969534</td>\n",
       "      <td>1.008020</td>\n",
       "      <td>dummy_constant</td>\n",
       "      <td>0.969534</td>\n",
       "      <td>0.860909</td>\n",
       "      <td>0.478547</td>\n",
       "      <td>0.000029</td>\n",
       "      <td>False</td>\n",
       "    </tr>\n",
       "    <tr>\n",
       "      <th>25</th>\n",
       "      <td>0.513709</td>\n",
       "      <td>1.192896</td>\n",
       "      <td>dummy_constant</td>\n",
       "      <td>0.513709</td>\n",
       "      <td>0.589374</td>\n",
       "      <td>0.480292</td>\n",
       "      <td>0.000031</td>\n",
       "      <td>False</td>\n",
       "    </tr>\n",
       "    <tr>\n",
       "      <th>26</th>\n",
       "      <td>0.076321</td>\n",
       "      <td>1.048792</td>\n",
       "      <td>dummy_constant</td>\n",
       "      <td>0.076321</td>\n",
       "      <td>0.066064</td>\n",
       "      <td>0.480677</td>\n",
       "      <td>0.000031</td>\n",
       "      <td>False</td>\n",
       "    </tr>\n",
       "    <tr>\n",
       "      <th>27</th>\n",
       "      <td>0.428253</td>\n",
       "      <td>0.962280</td>\n",
       "      <td>dummy_constant</td>\n",
       "      <td>0.428253</td>\n",
       "      <td>0.017927</td>\n",
       "      <td>0.218851</td>\n",
       "      <td>0.000030</td>\n",
       "      <td>False</td>\n",
       "    </tr>\n",
       "    <tr>\n",
       "      <th>28</th>\n",
       "      <td>0.804710</td>\n",
       "      <td>1.123016</td>\n",
       "      <td>dummy_constant</td>\n",
       "      <td>0.804710</td>\n",
       "      <td>0.995341</td>\n",
       "      <td>0.480997</td>\n",
       "      <td>0.000030</td>\n",
       "      <td>False</td>\n",
       "    </tr>\n",
       "    <tr>\n",
       "      <th>29</th>\n",
       "      <td>1.190279</td>\n",
       "      <td>0.574842</td>\n",
       "      <td>dummy_constant</td>\n",
       "      <td>1.190279</td>\n",
       "      <td>0.686261</td>\n",
       "      <td>0.482086</td>\n",
       "      <td>0.000031</td>\n",
       "      <td>False</td>\n",
       "    </tr>\n",
       "    <tr>\n",
       "      <th>30</th>\n",
       "      <td>1.052377</td>\n",
       "      <td>0.075553</td>\n",
       "      <td>dummy_constant</td>\n",
       "      <td>1.052377</td>\n",
       "      <td>0.072058</td>\n",
       "      <td>0.485276</td>\n",
       "      <td>0.000031</td>\n",
       "      <td>False</td>\n",
       "    </tr>\n",
       "    <tr>\n",
       "      <th>31</th>\n",
       "      <td>1.092628</td>\n",
       "      <td>0.860951</td>\n",
       "      <td>dummy_constant</td>\n",
       "      <td>1.092628</td>\n",
       "      <td>0.966324</td>\n",
       "      <td>0.481493</td>\n",
       "      <td>0.000030</td>\n",
       "      <td>False</td>\n",
       "    </tr>\n",
       "  </tbody>\n",
       "</table>\n",
       "</div>"
      ],
      "text/plain": [
       "          x1        x2               a        y1        c1        c2  \\\n",
       "0   1.000000  0.700000  dummy_constant  1.000000  0.584045  0.290000   \n",
       "1   0.750000  0.950000  dummy_constant  0.750000  0.494833  0.265000   \n",
       "2   1.535397  1.735397  dummy_constant       NaN  4.313110  2.598255   \n",
       "3   2.320795  0.950000  dummy_constant       NaN  5.188811  3.517794   \n",
       "4   1.545401  0.164602  dummy_constant       NaN  1.428022  1.205354   \n",
       "5   0.760003  0.000000  dummy_constant       NaN -0.522395  0.317602   \n",
       "6   0.000000  0.775621  dummy_constant       NaN -0.498411  0.325967   \n",
       "7   0.034713  1.561019  dummy_constant       NaN  1.344246  1.342253   \n",
       "8   0.420332  1.049879  dummy_constant  0.420332  0.180726  0.308714   \n",
       "9   1.073059  0.304553  dummy_constant  1.073059  0.272581  0.366597   \n",
       "10  0.793783  0.690715  dummy_constant  0.793783  0.062630  0.122680   \n",
       "11  0.660223  1.136856  dummy_constant  0.660223  0.781815  0.431257   \n",
       "12  0.197003  1.081611  dummy_constant  0.197003  0.305358  0.430079   \n",
       "13  0.982400  0.381619  dummy_constant  0.982400  0.016976  0.246724   \n",
       "14  1.073373  0.818135  dummy_constant  1.073373  0.875881  0.429967   \n",
       "15  1.077212  0.142130  dummy_constant  1.077212  0.230980  0.461245   \n",
       "16  1.151626  0.680508  dummy_constant  1.151626  0.852629  0.457200   \n",
       "17  0.899551  1.047695  dummy_constant  0.899551  0.872014  0.459610   \n",
       "18  0.528364  1.183566  dummy_constant  0.528364  0.589298  0.468067   \n",
       "19  0.086794  1.045205  dummy_constant  0.086794  0.075712  0.467988   \n",
       "20  0.623047  0.880817  dummy_constant  0.623047  0.255109  0.160162   \n",
       "21  1.059646  0.095420  dummy_constant  1.059646  0.118605  0.476889   \n",
       "22  1.186465  0.529325  dummy_constant  1.186465  0.597029  0.472094   \n",
       "23  0.733439  0.752708  dummy_constant  0.733439  0.006647  0.118355   \n",
       "24  0.969534  1.008020  dummy_constant  0.969534  0.860909  0.478547   \n",
       "25  0.513709  1.192896  dummy_constant  0.513709  0.589374  0.480292   \n",
       "26  0.076321  1.048792  dummy_constant  0.076321  0.066064  0.480677   \n",
       "27  0.428253  0.962280  dummy_constant  0.428253  0.017927  0.218851   \n",
       "28  0.804710  1.123016  dummy_constant  0.804710  0.995341  0.480997   \n",
       "29  1.190279  0.574842  dummy_constant  1.190279  0.686261  0.482086   \n",
       "30  1.052377  0.075553  dummy_constant  1.052377  0.072058  0.485276   \n",
       "31  1.092628  0.860951  dummy_constant  1.092628  0.966324  0.481493   \n",
       "\n",
       "    xopt_runtime  xopt_error  \n",
       "0       0.000049       False  \n",
       "1       0.000011       False  \n",
       "2       0.000030       False  \n",
       "3       0.000030       False  \n",
       "4       0.000032       False  \n",
       "5       0.000030       False  \n",
       "6       0.000029       False  \n",
       "7       0.000030       False  \n",
       "8       0.000031       False  \n",
       "9       0.000031       False  \n",
       "10      0.000030       False  \n",
       "11      0.000029       False  \n",
       "12      0.000031       False  \n",
       "13      0.000030       False  \n",
       "14      0.000030       False  \n",
       "15      0.000031       False  \n",
       "16      0.000030       False  \n",
       "17      0.000031       False  \n",
       "18      0.000031       False  \n",
       "19      0.000030       False  \n",
       "20      0.000029       False  \n",
       "21      0.000028       False  \n",
       "22      0.000030       False  \n",
       "23      0.000032       False  \n",
       "24      0.000029       False  \n",
       "25      0.000031       False  \n",
       "26      0.000031       False  \n",
       "27      0.000030       False  \n",
       "28      0.000030       False  \n",
       "29      0.000031       False  \n",
       "30      0.000031       False  \n",
       "31      0.000030       False  "
      ]
     },
     "execution_count": 6,
     "metadata": {},
     "output_type": "execute_result"
    }
   ],
   "source": [
    "# view the data\n",
    "X.data"
   ]
  },
  {
   "cell_type": "code",
   "execution_count": 7,
   "metadata": {
    "ExecuteTime": {
     "end_time": "2023-06-14T15:42:06.400652600Z",
     "start_time": "2023-06-14T15:42:05.787612700Z"
    },
    "execution": {
     "iopub.execute_input": "2024-04-24T14:56:50.030751Z",
     "iopub.status.busy": "2024-04-24T14:56:50.030541Z",
     "iopub.status.idle": "2024-04-24T14:56:50.409555Z",
     "shell.execute_reply": "2024-04-24T14:56:50.408985Z"
    }
   },
   "outputs": [
    {
     "data": {
      "image/png": "[encoded data removed]",
      "text/plain": [
       "<Figure size 640x480 with 1 Axes>"
      ]
     },
     "metadata": {},
     "output_type": "display_data"
    }
   ],
   "source": [
    "# plot results\n",
    "ax = X.data.plot(\"x1\", \"x2\")\n",
    "ax.set_aspect(\"equal\")"
   ]
  },
  {
   "cell_type": "code",
   "execution_count": 7,
   "metadata": {
    "ExecuteTime": {
     "end_time": "2023-06-14T15:42:06.419648600Z",
     "start_time": "2023-06-14T15:42:06.401622Z"
    }
   },
   "outputs": [],
   "source": []
  }
 ],
 "metadata": {
  "kernelspec": {
   "display_name": "Python 3 (ipykernel)",
   "language": "python",
   "name": "python3"
  },
  "language_info": {
   "codemirror_mode": {
    "name": "ipython",
    "version": 3
   },
   "file_extension": ".py",
   "mimetype": "text/x-python",
   "name": "python",
   "nbconvert_exporter": "python",
   "pygments_lexer": "ipython3",
   "version": "3.9.19"
  }
 },
 "nbformat": 4,
 "nbformat_minor": 4
}
