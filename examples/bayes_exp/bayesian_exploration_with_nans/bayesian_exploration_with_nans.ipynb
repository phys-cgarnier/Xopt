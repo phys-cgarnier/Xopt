{
 "cells": [
  {
   "cell_type": "markdown",
   "metadata": {},
   "source": [
    "# Bayesian Exploration with NaNs\n",
    "\n",
    "As violations of constraints can lead to invalid values of the objective, the evaluate function may simply return NaNs. We demonstrate below how we can still perform Bayesian Exploration in that case."
   ]
  },
  {
   "cell_type": "code",
   "execution_count": 1,
   "metadata": {
    "ExecuteTime": {
     "end_time": "2023-06-14T15:37:25.535638700Z",
     "start_time": "2023-06-14T15:37:22.379218300Z"
    },
    "execution": {
     "iopub.execute_input": "2024-02-20T22:14:59.147383Z",
     "iopub.status.busy": "2024-02-20T22:14:59.147210Z",
     "iopub.status.idle": "2024-02-20T22:15:01.270554Z",
     "shell.execute_reply": "2024-02-20T22:15:01.269873Z"
    }
   },
   "outputs": [],
   "source": [
    "# set values if testing\n",
    "import os\n",
    "SMOKE_TEST = os.environ.get(\"SMOKE_TEST\")\n",
    "NUM_MC_SAMPLES = 1 if SMOKE_TEST else 128\n",
    "NUM_RESTARTS = 1 if SMOKE_TEST else 20\n",
    "\n",
    "# Ignore all warnings\n",
    "import warnings\n",
    "warnings.filterwarnings(\"ignore\")\n",
    "\n",
    "import pandas as pd\n",
    "import torch\n",
    "import yaml\n",
    "from copy import deepcopy\n",
    "from xopt import Xopt, Evaluator\n",
    "from xopt.generators.bayesian import BayesianExplorationGenerator\n",
    "from xopt.resources.test_functions.tnk import evaluate_TNK, tnk_vocs\n",
    "\n",
    "vocs = deepcopy(tnk_vocs)\n",
    "vocs.objectives = {}\n",
    "vocs.observables = [\"y1\"]"
   ]
  },
  {
   "cell_type": "code",
   "execution_count": 2,
   "metadata": {
    "ExecuteTime": {
     "end_time": "2023-06-14T15:37:25.549637200Z",
     "start_time": "2023-06-14T15:37:25.539666500Z"
    },
    "execution": {
     "iopub.execute_input": "2024-02-20T22:15:01.273601Z",
     "iopub.status.busy": "2024-02-20T22:15:01.273284Z",
     "iopub.status.idle": "2024-02-20T22:15:01.277481Z",
     "shell.execute_reply": "2024-02-20T22:15:01.276990Z"
    }
   },
   "outputs": [],
   "source": [
    "# modify the evaluate function to return NaNs if constraints are violated\n",
    "def evaluate(input_dict):\n",
    "    output_dict = evaluate_TNK(input_dict)\n",
    "    del output_dict[\"y2\"]\n",
    "    for c in vocs.constraints.keys():\n",
    "        if vocs.constraints[c][0].upper() == \"GREATER_THAN\" and output_dict[c] <= vocs.constraints[c][1]:\n",
    "            output_dict[\"y1\"] = torch.nan\n",
    "        elif vocs.constraints[c][0].upper() == \"LESS_THAN\" and output_dict[c] >= vocs.constraints[c][1]:\n",
    "            output_dict[\"y1\"] = torch.nan\n",
    "    return output_dict"
   ]
  },
  {
   "cell_type": "code",
   "execution_count": 3,
   "metadata": {
    "ExecuteTime": {
     "end_time": "2023-06-14T15:37:25.580538800Z",
     "start_time": "2023-06-14T15:37:25.552636600Z"
    },
    "execution": {
     "iopub.execute_input": "2024-02-20T22:15:01.279496Z",
     "iopub.status.busy": "2024-02-20T22:15:01.279293Z",
     "iopub.status.idle": "2024-02-20T22:15:01.295623Z",
     "shell.execute_reply": "2024-02-20T22:15:01.295044Z"
    }
   },
   "outputs": [
    {
     "data": {
      "text/plain": [
       "\n",
       "            Xopt\n",
       "________________________________\n",
       "Version: 0+untagged.1.g8c3e749\n",
       "Data size: 0\n",
       "Config as YAML:\n",
       "dump_file: null\n",
       "evaluator:\n",
       "  function: __main__.evaluate\n",
       "  function_kwargs: {}\n",
       "  max_workers: 1\n",
       "  vectorized: false\n",
       "generator:\n",
       "  computation_time: null\n",
       "  fixed_features: null\n",
       "  gp_constructor:\n",
       "    covar_modules: {}\n",
       "    mean_modules: {}\n",
       "    name: standard\n",
       "    trainable_mean_keys: []\n",
       "    transform_inputs: true\n",
       "    use_low_noise_prior: true\n",
       "  log_transform_acquisition_function: false\n",
       "  max_travel_distances:\n",
       "  - 0.25\n",
       "  - 0.25\n",
       "  model: null\n",
       "  n_candidates: 1\n",
       "  n_interpolate_points: null\n",
       "  n_monte_carlo_samples: 128\n",
       "  name: bayesian_exploration\n",
       "  numerical_optimizer:\n",
       "    max_iter: 2000\n",
       "    max_time: null\n",
       "    n_restarts: 20\n",
       "    name: LBFGS\n",
       "  supports_batch_generation: true\n",
       "  turbo_controller: null\n",
       "  use_cuda: false\n",
       "max_evaluations: null\n",
       "serialize_inline: false\n",
       "serialize_torch: false\n",
       "strict: true\n",
       "vocs:\n",
       "  constants:\n",
       "    a: dummy_constant\n",
       "  constraints:\n",
       "    c1:\n",
       "    - GREATER_THAN\n",
       "    - 0.0\n",
       "    c2:\n",
       "    - LESS_THAN\n",
       "    - 0.5\n",
       "  objectives: {}\n",
       "  observables:\n",
       "  - y1\n",
       "  variables:\n",
       "    x1:\n",
       "    - 0.0\n",
       "    - 3.14159\n",
       "    x2:\n",
       "    - 0.0\n",
       "    - 3.14159\n"
      ]
     },
     "execution_count": 3,
     "metadata": {},
     "output_type": "execute_result"
    }
   ],
   "source": [
    "generator = BayesianExplorationGenerator(vocs=vocs)\n",
    "generator.max_travel_distances = [0.25, 0.25]\n",
    "generator.n_monte_carlo_samples = NUM_MC_SAMPLES\n",
    "generator.numerical_optimizer.n_restarts = NUM_RESTARTS\n",
    "\n",
    "evaluator = Evaluator(function=evaluate)\n",
    "X = Xopt(generator=generator, evaluator=evaluator, vocs=vocs)\n",
    "X"
   ]
  },
  {
   "cell_type": "markdown",
   "metadata": {},
   "source": [
    "## Run exploration\n",
    "We start with evaluating 2 points that we know satisfy the constraints. We then run\n",
    "30 exploration steps."
   ]
  },
  {
   "cell_type": "code",
   "execution_count": 4,
   "metadata": {
    "ExecuteTime": {
     "end_time": "2023-06-14T15:37:25.638907100Z",
     "start_time": "2023-06-14T15:37:25.582541Z"
    },
    "execution": {
     "iopub.execute_input": "2024-02-20T22:15:01.324505Z",
     "iopub.status.busy": "2024-02-20T22:15:01.324080Z",
     "iopub.status.idle": "2024-02-20T22:15:01.336413Z",
     "shell.execute_reply": "2024-02-20T22:15:01.335795Z"
    }
   },
   "outputs": [
    {
     "data": {
      "text/html": [
       "<div>\n",
       "<style scoped>\n",
       "    .dataframe tbody tr th:only-of-type {\n",
       "        vertical-align: middle;\n",
       "    }\n",
       "\n",
       "    .dataframe tbody tr th {\n",
       "        vertical-align: top;\n",
       "    }\n",
       "\n",
       "    .dataframe thead th {\n",
       "        text-align: right;\n",
       "    }\n",
       "</style>\n",
       "<table border=\"1\" class=\"dataframe\">\n",
       "  <thead>\n",
       "    <tr style=\"text-align: right;\">\n",
       "      <th></th>\n",
       "      <th>x1</th>\n",
       "      <th>x2</th>\n",
       "      <th>a</th>\n",
       "      <th>y1</th>\n",
       "      <th>c1</th>\n",
       "      <th>c2</th>\n",
       "      <th>xopt_runtime</th>\n",
       "      <th>xopt_error</th>\n",
       "    </tr>\n",
       "  </thead>\n",
       "  <tbody>\n",
       "    <tr>\n",
       "      <th>0</th>\n",
       "      <td>1.00</td>\n",
       "      <td>0.70</td>\n",
       "      <td>dummy_constant</td>\n",
       "      <td>1.00</td>\n",
       "      <td>0.584045</td>\n",
       "      <td>0.290</td>\n",
       "      <td>0.00004</td>\n",
       "      <td>False</td>\n",
       "    </tr>\n",
       "    <tr>\n",
       "      <th>1</th>\n",
       "      <td>0.75</td>\n",
       "      <td>0.95</td>\n",
       "      <td>dummy_constant</td>\n",
       "      <td>0.75</td>\n",
       "      <td>0.494833</td>\n",
       "      <td>0.265</td>\n",
       "      <td>0.00001</td>\n",
       "      <td>False</td>\n",
       "    </tr>\n",
       "  </tbody>\n",
       "</table>\n",
       "</div>"
      ],
      "text/plain": [
       "     x1    x2               a    y1        c1     c2  xopt_runtime  xopt_error\n",
       "0  1.00  0.70  dummy_constant  1.00  0.584045  0.290       0.00004       False\n",
       "1  0.75  0.95  dummy_constant  0.75  0.494833  0.265       0.00001       False"
      ]
     },
     "execution_count": 4,
     "metadata": {},
     "output_type": "execute_result"
    }
   ],
   "source": [
    "X.evaluate_data(pd.DataFrame({\"x1\": [1.0, 0.75], \"x2\": [0.7, 0.95]}))"
   ]
  },
  {
   "cell_type": "code",
   "execution_count": 5,
   "metadata": {
    "ExecuteTime": {
     "end_time": "2023-06-14T15:42:05.755461900Z",
     "start_time": "2023-06-14T15:37:25.611873400Z"
    },
    "execution": {
     "iopub.execute_input": "2024-02-20T22:15:01.338656Z",
     "iopub.status.busy": "2024-02-20T22:15:01.338244Z",
     "iopub.status.idle": "2024-02-20T22:16:20.220319Z",
     "shell.execute_reply": "2024-02-20T22:16:20.219716Z"
    },
    "scrolled": false
   },
   "outputs": [
    {
     "name": "stdout",
     "output_type": "stream",
     "text": [
      "step 0\n"
     ]
    },
    {
     "name": "stdout",
     "output_type": "stream",
     "text": [
      "step 1\n"
     ]
    },
    {
     "name": "stdout",
     "output_type": "stream",
     "text": [
      "step 2\n"
     ]
    },
    {
     "name": "stdout",
     "output_type": "stream",
     "text": [
      "step 3\n"
     ]
    },
    {
     "name": "stdout",
     "output_type": "stream",
     "text": [
      "step 4\n"
     ]
    },
    {
     "name": "stdout",
     "output_type": "stream",
     "text": [
      "step 5\n"
     ]
    },
    {
     "name": "stdout",
     "output_type": "stream",
     "text": [
      "step 6\n"
     ]
    },
    {
     "name": "stdout",
     "output_type": "stream",
     "text": [
      "step 7\n"
     ]
    },
    {
     "name": "stdout",
     "output_type": "stream",
     "text": [
      "step 8\n"
     ]
    },
    {
     "name": "stdout",
     "output_type": "stream",
     "text": [
      "step 9\n"
     ]
    },
    {
     "name": "stdout",
     "output_type": "stream",
     "text": [
      "step 10\n"
     ]
    },
    {
     "name": "stdout",
     "output_type": "stream",
     "text": [
      "step 11\n"
     ]
    },
    {
     "name": "stdout",
     "output_type": "stream",
     "text": [
      "step 12\n"
     ]
    },
    {
     "name": "stdout",
     "output_type": "stream",
     "text": [
      "step 13\n"
     ]
    },
    {
     "name": "stdout",
     "output_type": "stream",
     "text": [
      "step 14\n"
     ]
    },
    {
     "name": "stdout",
     "output_type": "stream",
     "text": [
      "step 15\n"
     ]
    },
    {
     "name": "stdout",
     "output_type": "stream",
     "text": [
      "step 16\n"
     ]
    },
    {
     "name": "stdout",
     "output_type": "stream",
     "text": [
      "step 17\n"
     ]
    },
    {
     "name": "stdout",
     "output_type": "stream",
     "text": [
      "step 18\n"
     ]
    },
    {
     "name": "stdout",
     "output_type": "stream",
     "text": [
      "step 19\n"
     ]
    },
    {
     "name": "stdout",
     "output_type": "stream",
     "text": [
      "step 20\n"
     ]
    },
    {
     "name": "stdout",
     "output_type": "stream",
     "text": [
      "step 21\n"
     ]
    },
    {
     "name": "stdout",
     "output_type": "stream",
     "text": [
      "step 22\n"
     ]
    },
    {
     "name": "stdout",
     "output_type": "stream",
     "text": [
      "step 23\n"
     ]
    },
    {
     "name": "stdout",
     "output_type": "stream",
     "text": [
      "step 24\n"
     ]
    },
    {
     "name": "stdout",
     "output_type": "stream",
     "text": [
      "step 25\n"
     ]
    },
    {
     "name": "stdout",
     "output_type": "stream",
     "text": [
      "step 26\n"
     ]
    },
    {
     "name": "stdout",
     "output_type": "stream",
     "text": [
      "step 27\n"
     ]
    },
    {
     "name": "stdout",
     "output_type": "stream",
     "text": [
      "step 28\n"
     ]
    },
    {
     "name": "stdout",
     "output_type": "stream",
     "text": [
      "step 29\n"
     ]
    }
   ],
   "source": [
    "N_STEPS = 1 if SMOKE_TEST else 30\n",
    "for i in range(N_STEPS):\n",
    "    print(f\"step {i}\")\n",
    "    X.step()"
   ]
  },
  {
   "cell_type": "code",
   "execution_count": 6,
   "metadata": {
    "ExecuteTime": {
     "end_time": "2023-06-14T15:42:05.786611100Z",
     "start_time": "2023-06-14T15:42:05.773463300Z"
    },
    "execution": {
     "iopub.execute_input": "2024-02-20T22:16:20.223285Z",
     "iopub.status.busy": "2024-02-20T22:16:20.222847Z",
     "iopub.status.idle": "2024-02-20T22:16:20.237789Z",
     "shell.execute_reply": "2024-02-20T22:16:20.237187Z"
    }
   },
   "outputs": [
    {
     "data": {
      "text/html": [
       "<div>\n",
       "<style scoped>\n",
       "    .dataframe tbody tr th:only-of-type {\n",
       "        vertical-align: middle;\n",
       "    }\n",
       "\n",
       "    .dataframe tbody tr th {\n",
       "        vertical-align: top;\n",
       "    }\n",
       "\n",
       "    .dataframe thead th {\n",
       "        text-align: right;\n",
       "    }\n",
       "</style>\n",
       "<table border=\"1\" class=\"dataframe\">\n",
       "  <thead>\n",
       "    <tr style=\"text-align: right;\">\n",
       "      <th></th>\n",
       "      <th>x1</th>\n",
       "      <th>x2</th>\n",
       "      <th>a</th>\n",
       "      <th>y1</th>\n",
       "      <th>c1</th>\n",
       "      <th>c2</th>\n",
       "      <th>xopt_runtime</th>\n",
       "      <th>xopt_error</th>\n",
       "    </tr>\n",
       "  </thead>\n",
       "  <tbody>\n",
       "    <tr>\n",
       "      <th>0</th>\n",
       "      <td>1.000000</td>\n",
       "      <td>0.700000</td>\n",
       "      <td>dummy_constant</td>\n",
       "      <td>1.000000</td>\n",
       "      <td>0.584045</td>\n",
       "      <td>0.290000</td>\n",
       "      <td>0.000040</td>\n",
       "      <td>False</td>\n",
       "    </tr>\n",
       "    <tr>\n",
       "      <th>1</th>\n",
       "      <td>0.750000</td>\n",
       "      <td>0.950000</td>\n",
       "      <td>dummy_constant</td>\n",
       "      <td>0.750000</td>\n",
       "      <td>0.494833</td>\n",
       "      <td>0.265000</td>\n",
       "      <td>0.000010</td>\n",
       "      <td>False</td>\n",
       "    </tr>\n",
       "    <tr>\n",
       "      <th>2</th>\n",
       "      <td>1.535397</td>\n",
       "      <td>1.735397</td>\n",
       "      <td>dummy_constant</td>\n",
       "      <td>NaN</td>\n",
       "      <td>4.313110</td>\n",
       "      <td>2.598255</td>\n",
       "      <td>0.000031</td>\n",
       "      <td>False</td>\n",
       "    </tr>\n",
       "    <tr>\n",
       "      <th>3</th>\n",
       "      <td>2.320795</td>\n",
       "      <td>0.950000</td>\n",
       "      <td>dummy_constant</td>\n",
       "      <td>NaN</td>\n",
       "      <td>5.188811</td>\n",
       "      <td>3.517794</td>\n",
       "      <td>0.000030</td>\n",
       "      <td>False</td>\n",
       "    </tr>\n",
       "    <tr>\n",
       "      <th>4</th>\n",
       "      <td>1.564933</td>\n",
       "      <td>0.164602</td>\n",
       "      <td>dummy_constant</td>\n",
       "      <td>NaN</td>\n",
       "      <td>1.486685</td>\n",
       "      <td>1.246575</td>\n",
       "      <td>0.000029</td>\n",
       "      <td>False</td>\n",
       "    </tr>\n",
       "    <tr>\n",
       "      <th>5</th>\n",
       "      <td>0.779536</td>\n",
       "      <td>0.000000</td>\n",
       "      <td>dummy_constant</td>\n",
       "      <td>NaN</td>\n",
       "      <td>-0.492324</td>\n",
       "      <td>0.328140</td>\n",
       "      <td>0.000029</td>\n",
       "      <td>False</td>\n",
       "    </tr>\n",
       "    <tr>\n",
       "      <th>6</th>\n",
       "      <td>0.000000</td>\n",
       "      <td>0.647735</td>\n",
       "      <td>dummy_constant</td>\n",
       "      <td>NaN</td>\n",
       "      <td>-0.680439</td>\n",
       "      <td>0.271826</td>\n",
       "      <td>0.000027</td>\n",
       "      <td>False</td>\n",
       "    </tr>\n",
       "    <tr>\n",
       "      <th>7</th>\n",
       "      <td>0.000000</td>\n",
       "      <td>1.430280</td>\n",
       "      <td>dummy_constant</td>\n",
       "      <td>NaN</td>\n",
       "      <td>0.945701</td>\n",
       "      <td>1.115421</td>\n",
       "      <td>0.000029</td>\n",
       "      <td>False</td>\n",
       "    </tr>\n",
       "    <tr>\n",
       "      <th>8</th>\n",
       "      <td>0.425607</td>\n",
       "      <td>1.035367</td>\n",
       "      <td>dummy_constant</td>\n",
       "      <td>0.425607</td>\n",
       "      <td>0.153219</td>\n",
       "      <td>0.292152</td>\n",
       "      <td>0.000028</td>\n",
       "      <td>False</td>\n",
       "    </tr>\n",
       "    <tr>\n",
       "      <th>9</th>\n",
       "      <td>1.062262</td>\n",
       "      <td>0.322390</td>\n",
       "      <td>dummy_constant</td>\n",
       "      <td>1.062262</td>\n",
       "      <td>0.232120</td>\n",
       "      <td>0.347684</td>\n",
       "      <td>0.000028</td>\n",
       "      <td>False</td>\n",
       "    </tr>\n",
       "    <tr>\n",
       "      <th>10</th>\n",
       "      <td>0.797878</td>\n",
       "      <td>0.697018</td>\n",
       "      <td>dummy_constant</td>\n",
       "      <td>0.797878</td>\n",
       "      <td>0.075125</td>\n",
       "      <td>0.127548</td>\n",
       "      <td>0.000027</td>\n",
       "      <td>False</td>\n",
       "    </tr>\n",
       "    <tr>\n",
       "      <th>11</th>\n",
       "      <td>0.628076</td>\n",
       "      <td>1.145457</td>\n",
       "      <td>dummy_constant</td>\n",
       "      <td>0.628076</td>\n",
       "      <td>0.723552</td>\n",
       "      <td>0.433018</td>\n",
       "      <td>0.000028</td>\n",
       "      <td>False</td>\n",
       "    </tr>\n",
       "    <tr>\n",
       "      <th>12</th>\n",
       "      <td>0.996127</td>\n",
       "      <td>0.927232</td>\n",
       "      <td>dummy_constant</td>\n",
       "      <td>0.996127</td>\n",
       "      <td>0.767994</td>\n",
       "      <td>0.428669</td>\n",
       "      <td>0.000028</td>\n",
       "      <td>False</td>\n",
       "    </tr>\n",
       "    <tr>\n",
       "      <th>13</th>\n",
       "      <td>0.230091</td>\n",
       "      <td>1.082866</td>\n",
       "      <td>dummy_constant</td>\n",
       "      <td>0.230091</td>\n",
       "      <td>0.323379</td>\n",
       "      <td>0.412584</td>\n",
       "      <td>0.000029</td>\n",
       "      <td>False</td>\n",
       "    </tr>\n",
       "    <tr>\n",
       "      <th>14</th>\n",
       "      <td>0.122410</td>\n",
       "      <td>1.058009</td>\n",
       "      <td>dummy_constant</td>\n",
       "      <td>0.122410</td>\n",
       "      <td>0.161251</td>\n",
       "      <td>0.453948</td>\n",
       "      <td>0.000029</td>\n",
       "      <td>False</td>\n",
       "    </tr>\n",
       "    <tr>\n",
       "      <th>15</th>\n",
       "      <td>0.661244</td>\n",
       "      <td>1.168141</td>\n",
       "      <td>dummy_constant</td>\n",
       "      <td>0.661244</td>\n",
       "      <td>0.839587</td>\n",
       "      <td>0.472412</td>\n",
       "      <td>0.000028</td>\n",
       "      <td>False</td>\n",
       "    </tr>\n",
       "    <tr>\n",
       "      <th>16</th>\n",
       "      <td>1.150666</td>\n",
       "      <td>0.616691</td>\n",
       "      <td>dummy_constant</td>\n",
       "      <td>1.150666</td>\n",
       "      <td>0.706119</td>\n",
       "      <td>0.436982</td>\n",
       "      <td>0.000027</td>\n",
       "      <td>False</td>\n",
       "    </tr>\n",
       "    <tr>\n",
       "      <th>17</th>\n",
       "      <td>1.070427</td>\n",
       "      <td>0.142569</td>\n",
       "      <td>dummy_constant</td>\n",
       "      <td>1.070427</td>\n",
       "      <td>0.218216</td>\n",
       "      <td>0.453144</td>\n",
       "      <td>0.000030</td>\n",
       "      <td>False</td>\n",
       "    </tr>\n",
       "    <tr>\n",
       "      <th>18</th>\n",
       "      <td>1.037928</td>\n",
       "      <td>0.927966</td>\n",
       "      <td>dummy_constant</td>\n",
       "      <td>1.037928</td>\n",
       "      <td>0.875787</td>\n",
       "      <td>0.472521</td>\n",
       "      <td>0.000029</td>\n",
       "      <td>False</td>\n",
       "    </tr>\n",
       "    <tr>\n",
       "      <th>19</th>\n",
       "      <td>1.186520</td>\n",
       "      <td>0.544178</td>\n",
       "      <td>dummy_constant</td>\n",
       "      <td>1.186520</td>\n",
       "      <td>0.621257</td>\n",
       "      <td>0.473262</td>\n",
       "      <td>0.000030</td>\n",
       "      <td>False</td>\n",
       "    </tr>\n",
       "    <tr>\n",
       "      <th>20</th>\n",
       "      <td>0.610594</td>\n",
       "      <td>0.865404</td>\n",
       "      <td>dummy_constant</td>\n",
       "      <td>0.610594</td>\n",
       "      <td>0.213606</td>\n",
       "      <td>0.145751</td>\n",
       "      <td>0.000028</td>\n",
       "      <td>False</td>\n",
       "    </tr>\n",
       "    <tr>\n",
       "      <th>21</th>\n",
       "      <td>1.061735</td>\n",
       "      <td>0.096001</td>\n",
       "      <td>dummy_constant</td>\n",
       "      <td>1.061735</td>\n",
       "      <td>0.123731</td>\n",
       "      <td>0.478762</td>\n",
       "      <td>0.000028</td>\n",
       "      <td>False</td>\n",
       "    </tr>\n",
       "    <tr>\n",
       "      <th>22</th>\n",
       "      <td>0.930822</td>\n",
       "      <td>0.501919</td>\n",
       "      <td>dummy_constant</td>\n",
       "      <td>0.930822</td>\n",
       "      <td>0.124199</td>\n",
       "      <td>0.185611</td>\n",
       "      <td>0.000027</td>\n",
       "      <td>False</td>\n",
       "    </tr>\n",
       "    <tr>\n",
       "      <th>23</th>\n",
       "      <td>0.442047</td>\n",
       "      <td>1.185903</td>\n",
       "      <td>dummy_constant</td>\n",
       "      <td>0.442047</td>\n",
       "      <td>0.517821</td>\n",
       "      <td>0.473821</td>\n",
       "      <td>0.000028</td>\n",
       "      <td>False</td>\n",
       "    </tr>\n",
       "    <tr>\n",
       "      <th>24</th>\n",
       "      <td>0.862531</td>\n",
       "      <td>1.086696</td>\n",
       "      <td>dummy_constant</td>\n",
       "      <td>0.862531</td>\n",
       "      <td>0.950691</td>\n",
       "      <td>0.475641</td>\n",
       "      <td>0.000028</td>\n",
       "      <td>False</td>\n",
       "    </tr>\n",
       "    <tr>\n",
       "      <th>25</th>\n",
       "      <td>1.152987</td>\n",
       "      <td>0.726501</td>\n",
       "      <td>dummy_constant</td>\n",
       "      <td>1.152987</td>\n",
       "      <td>0.948136</td>\n",
       "      <td>0.477694</td>\n",
       "      <td>0.000028</td>\n",
       "      <td>False</td>\n",
       "    </tr>\n",
       "    <tr>\n",
       "      <th>26</th>\n",
       "      <td>0.562626</td>\n",
       "      <td>0.880194</td>\n",
       "      <td>dummy_constant</td>\n",
       "      <td>0.562626</td>\n",
       "      <td>0.186061</td>\n",
       "      <td>0.148469</td>\n",
       "      <td>0.000029</td>\n",
       "      <td>False</td>\n",
       "    </tr>\n",
       "    <tr>\n",
       "      <th>27</th>\n",
       "      <td>0.069880</td>\n",
       "      <td>1.040175</td>\n",
       "      <td>dummy_constant</td>\n",
       "      <td>0.069880</td>\n",
       "      <td>0.039123</td>\n",
       "      <td>0.476792</td>\n",
       "      <td>0.000029</td>\n",
       "      <td>False</td>\n",
       "    </tr>\n",
       "    <tr>\n",
       "      <th>28</th>\n",
       "      <td>0.066928</td>\n",
       "      <td>1.044039</td>\n",
       "      <td>dummy_constant</td>\n",
       "      <td>0.066928</td>\n",
       "      <td>0.042524</td>\n",
       "      <td>0.483529</td>\n",
       "      <td>0.000028</td>\n",
       "      <td>False</td>\n",
       "    </tr>\n",
       "    <tr>\n",
       "      <th>29</th>\n",
       "      <td>0.461113</td>\n",
       "      <td>1.193594</td>\n",
       "      <td>dummy_constant</td>\n",
       "      <td>0.461113</td>\n",
       "      <td>0.544597</td>\n",
       "      <td>0.482584</td>\n",
       "      <td>0.000029</td>\n",
       "      <td>False</td>\n",
       "    </tr>\n",
       "    <tr>\n",
       "      <th>30</th>\n",
       "      <td>0.870622</td>\n",
       "      <td>0.558212</td>\n",
       "      <td>dummy_constant</td>\n",
       "      <td>0.870622</td>\n",
       "      <td>0.165042</td>\n",
       "      <td>0.140749</td>\n",
       "      <td>0.000028</td>\n",
       "      <td>False</td>\n",
       "    </tr>\n",
       "    <tr>\n",
       "      <th>31</th>\n",
       "      <td>1.183280</td>\n",
       "      <td>0.384104</td>\n",
       "      <td>dummy_constant</td>\n",
       "      <td>1.183280</td>\n",
       "      <td>0.517213</td>\n",
       "      <td>0.480303</td>\n",
       "      <td>0.000030</td>\n",
       "      <td>False</td>\n",
       "    </tr>\n",
       "  </tbody>\n",
       "</table>\n",
       "</div>"
      ],
      "text/plain": [
       "          x1        x2               a        y1        c1        c2  \\\n",
       "0   1.000000  0.700000  dummy_constant  1.000000  0.584045  0.290000   \n",
       "1   0.750000  0.950000  dummy_constant  0.750000  0.494833  0.265000   \n",
       "2   1.535397  1.735397  dummy_constant       NaN  4.313110  2.598255   \n",
       "3   2.320795  0.950000  dummy_constant       NaN  5.188811  3.517794   \n",
       "4   1.564933  0.164602  dummy_constant       NaN  1.486685  1.246575   \n",
       "5   0.779536  0.000000  dummy_constant       NaN -0.492324  0.328140   \n",
       "6   0.000000  0.647735  dummy_constant       NaN -0.680439  0.271826   \n",
       "7   0.000000  1.430280  dummy_constant       NaN  0.945701  1.115421   \n",
       "8   0.425607  1.035367  dummy_constant  0.425607  0.153219  0.292152   \n",
       "9   1.062262  0.322390  dummy_constant  1.062262  0.232120  0.347684   \n",
       "10  0.797878  0.697018  dummy_constant  0.797878  0.075125  0.127548   \n",
       "11  0.628076  1.145457  dummy_constant  0.628076  0.723552  0.433018   \n",
       "12  0.996127  0.927232  dummy_constant  0.996127  0.767994  0.428669   \n",
       "13  0.230091  1.082866  dummy_constant  0.230091  0.323379  0.412584   \n",
       "14  0.122410  1.058009  dummy_constant  0.122410  0.161251  0.453948   \n",
       "15  0.661244  1.168141  dummy_constant  0.661244  0.839587  0.472412   \n",
       "16  1.150666  0.616691  dummy_constant  1.150666  0.706119  0.436982   \n",
       "17  1.070427  0.142569  dummy_constant  1.070427  0.218216  0.453144   \n",
       "18  1.037928  0.927966  dummy_constant  1.037928  0.875787  0.472521   \n",
       "19  1.186520  0.544178  dummy_constant  1.186520  0.621257  0.473262   \n",
       "20  0.610594  0.865404  dummy_constant  0.610594  0.213606  0.145751   \n",
       "21  1.061735  0.096001  dummy_constant  1.061735  0.123731  0.478762   \n",
       "22  0.930822  0.501919  dummy_constant  0.930822  0.124199  0.185611   \n",
       "23  0.442047  1.185903  dummy_constant  0.442047  0.517821  0.473821   \n",
       "24  0.862531  1.086696  dummy_constant  0.862531  0.950691  0.475641   \n",
       "25  1.152987  0.726501  dummy_constant  1.152987  0.948136  0.477694   \n",
       "26  0.562626  0.880194  dummy_constant  0.562626  0.186061  0.148469   \n",
       "27  0.069880  1.040175  dummy_constant  0.069880  0.039123  0.476792   \n",
       "28  0.066928  1.044039  dummy_constant  0.066928  0.042524  0.483529   \n",
       "29  0.461113  1.193594  dummy_constant  0.461113  0.544597  0.482584   \n",
       "30  0.870622  0.558212  dummy_constant  0.870622  0.165042  0.140749   \n",
       "31  1.183280  0.384104  dummy_constant  1.183280  0.517213  0.480303   \n",
       "\n",
       "    xopt_runtime  xopt_error  \n",
       "0       0.000040       False  \n",
       "1       0.000010       False  \n",
       "2       0.000031       False  \n",
       "3       0.000030       False  \n",
       "4       0.000029       False  \n",
       "5       0.000029       False  \n",
       "6       0.000027       False  \n",
       "7       0.000029       False  \n",
       "8       0.000028       False  \n",
       "9       0.000028       False  \n",
       "10      0.000027       False  \n",
       "11      0.000028       False  \n",
       "12      0.000028       False  \n",
       "13      0.000029       False  \n",
       "14      0.000029       False  \n",
       "15      0.000028       False  \n",
       "16      0.000027       False  \n",
       "17      0.000030       False  \n",
       "18      0.000029       False  \n",
       "19      0.000030       False  \n",
       "20      0.000028       False  \n",
       "21      0.000028       False  \n",
       "22      0.000027       False  \n",
       "23      0.000028       False  \n",
       "24      0.000028       False  \n",
       "25      0.000028       False  \n",
       "26      0.000029       False  \n",
       "27      0.000029       False  \n",
       "28      0.000028       False  \n",
       "29      0.000029       False  \n",
       "30      0.000028       False  \n",
       "31      0.000030       False  "
      ]
     },
     "execution_count": 6,
     "metadata": {},
     "output_type": "execute_result"
    }
   ],
   "source": [
    "# view the data\n",
    "X.data"
   ]
  },
  {
   "cell_type": "code",
   "execution_count": 7,
   "metadata": {
    "ExecuteTime": {
     "end_time": "2023-06-14T15:42:06.400652600Z",
     "start_time": "2023-06-14T15:42:05.787612700Z"
    },
    "execution": {
     "iopub.execute_input": "2024-02-20T22:16:20.239942Z",
     "iopub.status.busy": "2024-02-20T22:16:20.239753Z",
     "iopub.status.idle": "2024-02-20T22:16:20.729845Z",
     "shell.execute_reply": "2024-02-20T22:16:20.729201Z"
    }
   },
   "outputs": [
    {
     "data": {
      "image/png": "[encoded data removed]",
      "text/plain": [
       "<Figure size 640x480 with 1 Axes>"
      ]
     },
     "metadata": {},
     "output_type": "display_data"
    }
   ],
   "source": [
    "# plot results\n",
    "ax = X.data.plot(\"x1\", \"x2\")\n",
    "ax.set_aspect(\"equal\")"
   ]
  },
  {
   "cell_type": "code",
   "execution_count": 7,
   "metadata": {
    "ExecuteTime": {
     "end_time": "2023-06-14T15:42:06.419648600Z",
     "start_time": "2023-06-14T15:42:06.401622Z"
    }
   },
   "outputs": [],
   "source": []
  }
 ],
 "metadata": {
  "kernelspec": {
   "display_name": "Python 3 (ipykernel)",
   "language": "python",
   "name": "python3"
  },
  "language_info": {
   "codemirror_mode": {
    "name": "ipython",
    "version": 3
   },
   "file_extension": ".py",
   "mimetype": "text/x-python",
   "name": "python",
   "nbconvert_exporter": "python",
   "pygments_lexer": "ipython3",
   "version": "3.9.18"
  }
 },
 "nbformat": 4,
 "nbformat_minor": 4
}
