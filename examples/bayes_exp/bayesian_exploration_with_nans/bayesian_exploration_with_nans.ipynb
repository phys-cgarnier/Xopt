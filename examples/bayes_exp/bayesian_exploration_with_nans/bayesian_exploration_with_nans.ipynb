{
 "cells": [
  {
   "cell_type": "markdown",
   "metadata": {},
   "source": [
    "# Bayesian Exploration with NaNs\n",
    "\n",
    "As violations of constraints can lead to invalid values of the objective, the evaluate function may simply return NaNs. We demonstrate below how we can still perform Bayesian Exploration in that case."
   ]
  },
  {
   "cell_type": "code",
   "execution_count": 1,
   "metadata": {
    "ExecuteTime": {
     "end_time": "2023-06-14T15:37:25.535638700Z",
     "start_time": "2023-06-14T15:37:22.379218300Z"
    },
    "execution": {
     "iopub.execute_input": "2024-04-15T18:58:26.763228Z",
     "iopub.status.busy": "2024-04-15T18:58:26.763055Z",
     "iopub.status.idle": "2024-04-15T18:58:28.891753Z",
     "shell.execute_reply": "2024-04-15T18:58:28.891123Z"
    }
   },
   "outputs": [],
   "source": [
    "# set values if testing\n",
    "import os\n",
    "SMOKE_TEST = os.environ.get(\"SMOKE_TEST\")\n",
    "NUM_MC_SAMPLES = 1 if SMOKE_TEST else 128\n",
    "NUM_RESTARTS = 1 if SMOKE_TEST else 20\n",
    "\n",
    "# Ignore all warnings\n",
    "import warnings\n",
    "warnings.filterwarnings(\"ignore\")\n",
    "\n",
    "import pandas as pd\n",
    "import torch\n",
    "import yaml\n",
    "from copy import deepcopy\n",
    "from xopt import Xopt, Evaluator\n",
    "from xopt.generators.bayesian import BayesianExplorationGenerator\n",
    "from xopt.resources.test_functions.tnk import evaluate_TNK, tnk_vocs\n",
    "\n",
    "vocs = deepcopy(tnk_vocs)\n",
    "vocs.objectives = {}\n",
    "vocs.observables = [\"y1\"]"
   ]
  },
  {
   "cell_type": "code",
   "execution_count": 2,
   "metadata": {
    "ExecuteTime": {
     "end_time": "2023-06-14T15:37:25.549637200Z",
     "start_time": "2023-06-14T15:37:25.539666500Z"
    },
    "execution": {
     "iopub.execute_input": "2024-04-15T18:58:28.894881Z",
     "iopub.status.busy": "2024-04-15T18:58:28.894301Z",
     "iopub.status.idle": "2024-04-15T18:58:28.898549Z",
     "shell.execute_reply": "2024-04-15T18:58:28.898106Z"
    }
   },
   "outputs": [],
   "source": [
    "# modify the evaluate function to return NaNs if constraints are violated\n",
    "def evaluate(input_dict):\n",
    "    output_dict = evaluate_TNK(input_dict)\n",
    "    del output_dict[\"y2\"]\n",
    "    for c in vocs.constraints.keys():\n",
    "        if vocs.constraints[c][0].upper() == \"GREATER_THAN\" and output_dict[c] <= vocs.constraints[c][1]:\n",
    "            output_dict[\"y1\"] = torch.nan\n",
    "        elif vocs.constraints[c][0].upper() == \"LESS_THAN\" and output_dict[c] >= vocs.constraints[c][1]:\n",
    "            output_dict[\"y1\"] = torch.nan\n",
    "    return output_dict"
   ]
  },
  {
   "cell_type": "code",
   "execution_count": 3,
   "metadata": {
    "ExecuteTime": {
     "end_time": "2023-06-14T15:37:25.580538800Z",
     "start_time": "2023-06-14T15:37:25.552636600Z"
    },
    "execution": {
     "iopub.execute_input": "2024-04-15T18:58:28.900629Z",
     "iopub.status.busy": "2024-04-15T18:58:28.900290Z",
     "iopub.status.idle": "2024-04-15T18:58:28.915999Z",
     "shell.execute_reply": "2024-04-15T18:58:28.915468Z"
    }
   },
   "outputs": [
    {
     "data": {
      "text/plain": [
       "\n",
       "            Xopt\n",
       "________________________________\n",
       "Version: 0+untagged.1.ga613b00\n",
       "Data size: 0\n",
       "Config as YAML:\n",
       "dump_file: null\n",
       "evaluator:\n",
       "  function: __main__.evaluate\n",
       "  function_kwargs: {}\n",
       "  max_workers: 1\n",
       "  vectorized: false\n",
       "generator:\n",
       "  computation_time: null\n",
       "  fixed_features: null\n",
       "  gp_constructor:\n",
       "    covar_modules: {}\n",
       "    custom_noise_prior: null\n",
       "    mean_modules: {}\n",
       "    name: standard\n",
       "    trainable_mean_keys: []\n",
       "    transform_inputs: true\n",
       "    use_low_noise_prior: true\n",
       "  log_transform_acquisition_function: false\n",
       "  max_travel_distances:\n",
       "  - 0.25\n",
       "  - 0.25\n",
       "  model: null\n",
       "  n_candidates: 1\n",
       "  n_interpolate_points: null\n",
       "  n_monte_carlo_samples: 128\n",
       "  name: bayesian_exploration\n",
       "  numerical_optimizer:\n",
       "    max_iter: 2000\n",
       "    max_time: null\n",
       "    n_restarts: 20\n",
       "    name: LBFGS\n",
       "  supports_batch_generation: true\n",
       "  turbo_controller: null\n",
       "  use_cuda: false\n",
       "max_evaluations: null\n",
       "serialize_inline: false\n",
       "serialize_torch: false\n",
       "strict: true\n",
       "vocs:\n",
       "  constants:\n",
       "    a: dummy_constant\n",
       "  constraints:\n",
       "    c1:\n",
       "    - GREATER_THAN\n",
       "    - 0.0\n",
       "    c2:\n",
       "    - LESS_THAN\n",
       "    - 0.5\n",
       "  objectives: {}\n",
       "  observables:\n",
       "  - y1\n",
       "  variables:\n",
       "    x1:\n",
       "    - 0.0\n",
       "    - 3.14159\n",
       "    x2:\n",
       "    - 0.0\n",
       "    - 3.14159\n"
      ]
     },
     "execution_count": 3,
     "metadata": {},
     "output_type": "execute_result"
    }
   ],
   "source": [
    "generator = BayesianExplorationGenerator(vocs=vocs)\n",
    "generator.max_travel_distances = [0.25, 0.25]\n",
    "generator.n_monte_carlo_samples = NUM_MC_SAMPLES\n",
    "generator.numerical_optimizer.n_restarts = NUM_RESTARTS\n",
    "\n",
    "evaluator = Evaluator(function=evaluate)\n",
    "X = Xopt(generator=generator, evaluator=evaluator, vocs=vocs)\n",
    "X"
   ]
  },
  {
   "cell_type": "markdown",
   "metadata": {},
   "source": [
    "## Run exploration\n",
    "We start with evaluating 2 points that we know satisfy the constraints. We then run\n",
    "30 exploration steps."
   ]
  },
  {
   "cell_type": "code",
   "execution_count": 4,
   "metadata": {
    "ExecuteTime": {
     "end_time": "2023-06-14T15:37:25.638907100Z",
     "start_time": "2023-06-14T15:37:25.582541Z"
    },
    "execution": {
     "iopub.execute_input": "2024-04-15T18:58:28.944789Z",
     "iopub.status.busy": "2024-04-15T18:58:28.944583Z",
     "iopub.status.idle": "2024-04-15T18:58:28.957071Z",
     "shell.execute_reply": "2024-04-15T18:58:28.956500Z"
    }
   },
   "outputs": [
    {
     "data": {
      "text/html": [
       "<div>\n",
       "<style scoped>\n",
       "    .dataframe tbody tr th:only-of-type {\n",
       "        vertical-align: middle;\n",
       "    }\n",
       "\n",
       "    .dataframe tbody tr th {\n",
       "        vertical-align: top;\n",
       "    }\n",
       "\n",
       "    .dataframe thead th {\n",
       "        text-align: right;\n",
       "    }\n",
       "</style>\n",
       "<table border=\"1\" class=\"dataframe\">\n",
       "  <thead>\n",
       "    <tr style=\"text-align: right;\">\n",
       "      <th></th>\n",
       "      <th>x1</th>\n",
       "      <th>x2</th>\n",
       "      <th>a</th>\n",
       "      <th>y1</th>\n",
       "      <th>c1</th>\n",
       "      <th>c2</th>\n",
       "      <th>xopt_runtime</th>\n",
       "      <th>xopt_error</th>\n",
       "    </tr>\n",
       "  </thead>\n",
       "  <tbody>\n",
       "    <tr>\n",
       "      <th>0</th>\n",
       "      <td>1.00</td>\n",
       "      <td>0.70</td>\n",
       "      <td>dummy_constant</td>\n",
       "      <td>1.00</td>\n",
       "      <td>0.584045</td>\n",
       "      <td>0.290</td>\n",
       "      <td>0.000060</td>\n",
       "      <td>False</td>\n",
       "    </tr>\n",
       "    <tr>\n",
       "      <th>1</th>\n",
       "      <td>0.75</td>\n",
       "      <td>0.95</td>\n",
       "      <td>dummy_constant</td>\n",
       "      <td>0.75</td>\n",
       "      <td>0.494833</td>\n",
       "      <td>0.265</td>\n",
       "      <td>0.000023</td>\n",
       "      <td>False</td>\n",
       "    </tr>\n",
       "  </tbody>\n",
       "</table>\n",
       "</div>"
      ],
      "text/plain": [
       "     x1    x2               a    y1        c1     c2  xopt_runtime  xopt_error\n",
       "0  1.00  0.70  dummy_constant  1.00  0.584045  0.290      0.000060       False\n",
       "1  0.75  0.95  dummy_constant  0.75  0.494833  0.265      0.000023       False"
      ]
     },
     "execution_count": 4,
     "metadata": {},
     "output_type": "execute_result"
    }
   ],
   "source": [
    "X.evaluate_data(pd.DataFrame({\"x1\": [1.0, 0.75], \"x2\": [0.7, 0.95]}))"
   ]
  },
  {
   "cell_type": "code",
   "execution_count": 5,
   "metadata": {
    "ExecuteTime": {
     "end_time": "2023-06-14T15:42:05.755461900Z",
     "start_time": "2023-06-14T15:37:25.611873400Z"
    },
    "execution": {
     "iopub.execute_input": "2024-04-15T18:58:28.959459Z",
     "iopub.status.busy": "2024-04-15T18:58:28.959044Z",
     "iopub.status.idle": "2024-04-15T18:59:39.663863Z",
     "shell.execute_reply": "2024-04-15T18:59:39.663274Z"
    },
    "scrolled": false
   },
   "outputs": [
    {
     "name": "stdout",
     "output_type": "stream",
     "text": [
      "step 0\n"
     ]
    },
    {
     "name": "stdout",
     "output_type": "stream",
     "text": [
      "step 1\n"
     ]
    },
    {
     "name": "stdout",
     "output_type": "stream",
     "text": [
      "step 2\n"
     ]
    },
    {
     "name": "stdout",
     "output_type": "stream",
     "text": [
      "step 3\n"
     ]
    },
    {
     "name": "stdout",
     "output_type": "stream",
     "text": [
      "step 4\n"
     ]
    },
    {
     "name": "stdout",
     "output_type": "stream",
     "text": [
      "step 5\n"
     ]
    },
    {
     "name": "stdout",
     "output_type": "stream",
     "text": [
      "step 6\n"
     ]
    },
    {
     "name": "stdout",
     "output_type": "stream",
     "text": [
      "step 7\n"
     ]
    },
    {
     "name": "stdout",
     "output_type": "stream",
     "text": [
      "step 8\n"
     ]
    },
    {
     "name": "stdout",
     "output_type": "stream",
     "text": [
      "step 9\n"
     ]
    },
    {
     "name": "stdout",
     "output_type": "stream",
     "text": [
      "step 10\n"
     ]
    },
    {
     "name": "stdout",
     "output_type": "stream",
     "text": [
      "step 11\n"
     ]
    },
    {
     "name": "stdout",
     "output_type": "stream",
     "text": [
      "step 12\n"
     ]
    },
    {
     "name": "stdout",
     "output_type": "stream",
     "text": [
      "step 13\n"
     ]
    },
    {
     "name": "stdout",
     "output_type": "stream",
     "text": [
      "step 14\n"
     ]
    },
    {
     "name": "stdout",
     "output_type": "stream",
     "text": [
      "step 15\n"
     ]
    },
    {
     "name": "stdout",
     "output_type": "stream",
     "text": [
      "step 16\n"
     ]
    },
    {
     "name": "stdout",
     "output_type": "stream",
     "text": [
      "step 17\n"
     ]
    },
    {
     "name": "stdout",
     "output_type": "stream",
     "text": [
      "step 18\n"
     ]
    },
    {
     "name": "stdout",
     "output_type": "stream",
     "text": [
      "step 19\n"
     ]
    },
    {
     "name": "stdout",
     "output_type": "stream",
     "text": [
      "step 20\n"
     ]
    },
    {
     "name": "stdout",
     "output_type": "stream",
     "text": [
      "step 21\n"
     ]
    },
    {
     "name": "stdout",
     "output_type": "stream",
     "text": [
      "step 22\n"
     ]
    },
    {
     "name": "stdout",
     "output_type": "stream",
     "text": [
      "step 23\n"
     ]
    },
    {
     "name": "stdout",
     "output_type": "stream",
     "text": [
      "step 24\n"
     ]
    },
    {
     "name": "stdout",
     "output_type": "stream",
     "text": [
      "step 25\n"
     ]
    },
    {
     "name": "stdout",
     "output_type": "stream",
     "text": [
      "step 26\n"
     ]
    },
    {
     "name": "stdout",
     "output_type": "stream",
     "text": [
      "step 27\n"
     ]
    },
    {
     "name": "stdout",
     "output_type": "stream",
     "text": [
      "step 28\n"
     ]
    },
    {
     "name": "stdout",
     "output_type": "stream",
     "text": [
      "step 29\n"
     ]
    }
   ],
   "source": [
    "N_STEPS = 1 if SMOKE_TEST else 30\n",
    "for i in range(N_STEPS):\n",
    "    print(f\"step {i}\")\n",
    "    X.step()"
   ]
  },
  {
   "cell_type": "code",
   "execution_count": 6,
   "metadata": {
    "ExecuteTime": {
     "end_time": "2023-06-14T15:42:05.786611100Z",
     "start_time": "2023-06-14T15:42:05.773463300Z"
    },
    "execution": {
     "iopub.execute_input": "2024-04-15T18:59:39.666897Z",
     "iopub.status.busy": "2024-04-15T18:59:39.666449Z",
     "iopub.status.idle": "2024-04-15T18:59:39.681304Z",
     "shell.execute_reply": "2024-04-15T18:59:39.680697Z"
    }
   },
   "outputs": [
    {
     "data": {
      "text/html": [
       "<div>\n",
       "<style scoped>\n",
       "    .dataframe tbody tr th:only-of-type {\n",
       "        vertical-align: middle;\n",
       "    }\n",
       "\n",
       "    .dataframe tbody tr th {\n",
       "        vertical-align: top;\n",
       "    }\n",
       "\n",
       "    .dataframe thead th {\n",
       "        text-align: right;\n",
       "    }\n",
       "</style>\n",
       "<table border=\"1\" class=\"dataframe\">\n",
       "  <thead>\n",
       "    <tr style=\"text-align: right;\">\n",
       "      <th></th>\n",
       "      <th>x1</th>\n",
       "      <th>x2</th>\n",
       "      <th>a</th>\n",
       "      <th>y1</th>\n",
       "      <th>c1</th>\n",
       "      <th>c2</th>\n",
       "      <th>xopt_runtime</th>\n",
       "      <th>xopt_error</th>\n",
       "    </tr>\n",
       "  </thead>\n",
       "  <tbody>\n",
       "    <tr>\n",
       "      <th>0</th>\n",
       "      <td>1.000000</td>\n",
       "      <td>0.700000</td>\n",
       "      <td>dummy_constant</td>\n",
       "      <td>1.000000</td>\n",
       "      <td>0.584045</td>\n",
       "      <td>0.290000</td>\n",
       "      <td>0.000060</td>\n",
       "      <td>False</td>\n",
       "    </tr>\n",
       "    <tr>\n",
       "      <th>1</th>\n",
       "      <td>0.750000</td>\n",
       "      <td>0.950000</td>\n",
       "      <td>dummy_constant</td>\n",
       "      <td>0.750000</td>\n",
       "      <td>0.494833</td>\n",
       "      <td>0.265000</td>\n",
       "      <td>0.000023</td>\n",
       "      <td>False</td>\n",
       "    </tr>\n",
       "    <tr>\n",
       "      <th>2</th>\n",
       "      <td>1.535397</td>\n",
       "      <td>1.735397</td>\n",
       "      <td>dummy_constant</td>\n",
       "      <td>NaN</td>\n",
       "      <td>4.313110</td>\n",
       "      <td>2.598255</td>\n",
       "      <td>0.000029</td>\n",
       "      <td>False</td>\n",
       "    </tr>\n",
       "    <tr>\n",
       "      <th>3</th>\n",
       "      <td>2.320795</td>\n",
       "      <td>0.950000</td>\n",
       "      <td>dummy_constant</td>\n",
       "      <td>NaN</td>\n",
       "      <td>5.188811</td>\n",
       "      <td>3.517794</td>\n",
       "      <td>0.000027</td>\n",
       "      <td>False</td>\n",
       "    </tr>\n",
       "    <tr>\n",
       "      <th>4</th>\n",
       "      <td>1.594764</td>\n",
       "      <td>0.164602</td>\n",
       "      <td>dummy_constant</td>\n",
       "      <td>NaN</td>\n",
       "      <td>1.577839</td>\n",
       "      <td>1.310999</td>\n",
       "      <td>0.000028</td>\n",
       "      <td>False</td>\n",
       "    </tr>\n",
       "    <tr>\n",
       "      <th>5</th>\n",
       "      <td>0.817468</td>\n",
       "      <td>0.004076</td>\n",
       "      <td>dummy_constant</td>\n",
       "      <td>NaN</td>\n",
       "      <td>-0.431412</td>\n",
       "      <td>0.346726</td>\n",
       "      <td>0.000029</td>\n",
       "      <td>False</td>\n",
       "    </tr>\n",
       "    <tr>\n",
       "      <th>6</th>\n",
       "      <td>0.032070</td>\n",
       "      <td>0.789474</td>\n",
       "      <td>dummy_constant</td>\n",
       "      <td>NaN</td>\n",
       "      <td>-0.455335</td>\n",
       "      <td>0.302754</td>\n",
       "      <td>0.000031</td>\n",
       "      <td>False</td>\n",
       "    </tr>\n",
       "    <tr>\n",
       "      <th>7</th>\n",
       "      <td>0.055999</td>\n",
       "      <td>1.534382</td>\n",
       "      <td>dummy_constant</td>\n",
       "      <td>NaN</td>\n",
       "      <td>1.274021</td>\n",
       "      <td>1.267084</td>\n",
       "      <td>0.000030</td>\n",
       "      <td>False</td>\n",
       "    </tr>\n",
       "    <tr>\n",
       "      <th>8</th>\n",
       "      <td>0.399012</td>\n",
       "      <td>1.055124</td>\n",
       "      <td>dummy_constant</td>\n",
       "      <td>0.399012</td>\n",
       "      <td>0.184667</td>\n",
       "      <td>0.318361</td>\n",
       "      <td>0.000027</td>\n",
       "      <td>False</td>\n",
       "    </tr>\n",
       "    <tr>\n",
       "      <th>9</th>\n",
       "      <td>1.055383</td>\n",
       "      <td>0.325077</td>\n",
       "      <td>dummy_constant</td>\n",
       "      <td>1.055383</td>\n",
       "      <td>0.212679</td>\n",
       "      <td>0.339049</td>\n",
       "      <td>0.000029</td>\n",
       "      <td>False</td>\n",
       "    </tr>\n",
       "    <tr>\n",
       "      <th>10</th>\n",
       "      <td>0.792728</td>\n",
       "      <td>0.697585</td>\n",
       "      <td>dummy_constant</td>\n",
       "      <td>0.792728</td>\n",
       "      <td>0.062711</td>\n",
       "      <td>0.124729</td>\n",
       "      <td>0.000029</td>\n",
       "      <td>False</td>\n",
       "    </tr>\n",
       "    <tr>\n",
       "      <th>11</th>\n",
       "      <td>0.655429</td>\n",
       "      <td>1.141263</td>\n",
       "      <td>dummy_constant</td>\n",
       "      <td>0.655429</td>\n",
       "      <td>0.778864</td>\n",
       "      <td>0.435377</td>\n",
       "      <td>0.000030</td>\n",
       "      <td>False</td>\n",
       "    </tr>\n",
       "    <tr>\n",
       "      <th>12</th>\n",
       "      <td>0.171802</td>\n",
       "      <td>1.068683</td>\n",
       "      <td>dummy_constant</td>\n",
       "      <td>0.171802</td>\n",
       "      <td>0.254625</td>\n",
       "      <td>0.431115</td>\n",
       "      <td>0.000032</td>\n",
       "      <td>False</td>\n",
       "    </tr>\n",
       "    <tr>\n",
       "      <th>13</th>\n",
       "      <td>0.957200</td>\n",
       "      <td>0.974590</td>\n",
       "      <td>dummy_constant</td>\n",
       "      <td>0.957200</td>\n",
       "      <td>0.767093</td>\n",
       "      <td>0.434267</td>\n",
       "      <td>0.000032</td>\n",
       "      <td>False</td>\n",
       "    </tr>\n",
       "    <tr>\n",
       "      <th>14</th>\n",
       "      <td>1.142999</td>\n",
       "      <td>0.647744</td>\n",
       "      <td>dummy_constant</td>\n",
       "      <td>1.142999</td>\n",
       "      <td>0.764526</td>\n",
       "      <td>0.435276</td>\n",
       "      <td>0.000030</td>\n",
       "      <td>False</td>\n",
       "    </tr>\n",
       "    <tr>\n",
       "      <th>15</th>\n",
       "      <td>1.082501</td>\n",
       "      <td>0.156751</td>\n",
       "      <td>dummy_constant</td>\n",
       "      <td>1.082501</td>\n",
       "      <td>0.263073</td>\n",
       "      <td>0.457127</td>\n",
       "      <td>0.000032</td>\n",
       "      <td>False</td>\n",
       "    </tr>\n",
       "    <tr>\n",
       "      <th>16</th>\n",
       "      <td>1.150558</td>\n",
       "      <td>0.717532</td>\n",
       "      <td>dummy_constant</td>\n",
       "      <td>1.150558</td>\n",
       "      <td>0.926255</td>\n",
       "      <td>0.470545</td>\n",
       "      <td>0.000032</td>\n",
       "      <td>False</td>\n",
       "    </tr>\n",
       "    <tr>\n",
       "      <th>17</th>\n",
       "      <td>0.555260</td>\n",
       "      <td>1.181806</td>\n",
       "      <td>dummy_constant</td>\n",
       "      <td>0.555260</td>\n",
       "      <td>0.631437</td>\n",
       "      <td>0.467914</td>\n",
       "      <td>0.000031</td>\n",
       "      <td>False</td>\n",
       "    </tr>\n",
       "    <tr>\n",
       "      <th>18</th>\n",
       "      <td>0.939417</td>\n",
       "      <td>1.028631</td>\n",
       "      <td>dummy_constant</td>\n",
       "      <td>0.939417</td>\n",
       "      <td>0.865723</td>\n",
       "      <td>0.472538</td>\n",
       "      <td>0.000031</td>\n",
       "      <td>False</td>\n",
       "    </tr>\n",
       "    <tr>\n",
       "      <th>19</th>\n",
       "      <td>0.154020</td>\n",
       "      <td>1.093935</td>\n",
       "      <td>dummy_constant</td>\n",
       "      <td>0.154020</td>\n",
       "      <td>0.282295</td>\n",
       "      <td>0.472461</td>\n",
       "      <td>0.000032</td>\n",
       "      <td>False</td>\n",
       "    </tr>\n",
       "    <tr>\n",
       "      <th>20</th>\n",
       "      <td>0.063035</td>\n",
       "      <td>1.032161</td>\n",
       "      <td>dummy_constant</td>\n",
       "      <td>0.063035</td>\n",
       "      <td>0.013290</td>\n",
       "      <td>0.474134</td>\n",
       "      <td>0.000033</td>\n",
       "      <td>False</td>\n",
       "    </tr>\n",
       "    <tr>\n",
       "      <th>21</th>\n",
       "      <td>0.593139</td>\n",
       "      <td>0.888365</td>\n",
       "      <td>dummy_constant</td>\n",
       "      <td>0.593139</td>\n",
       "      <td>0.241005</td>\n",
       "      <td>0.159502</td>\n",
       "      <td>0.000032</td>\n",
       "      <td>False</td>\n",
       "    </tr>\n",
       "    <tr>\n",
       "      <th>22</th>\n",
       "      <td>1.064967</td>\n",
       "      <td>0.102968</td>\n",
       "      <td>dummy_constant</td>\n",
       "      <td>1.064967</td>\n",
       "      <td>0.141897</td>\n",
       "      <td>0.476823</td>\n",
       "      <td>0.000044</td>\n",
       "      <td>False</td>\n",
       "    </tr>\n",
       "    <tr>\n",
       "      <th>23</th>\n",
       "      <td>0.920787</td>\n",
       "      <td>0.484974</td>\n",
       "      <td>dummy_constant</td>\n",
       "      <td>0.920787</td>\n",
       "      <td>0.073307</td>\n",
       "      <td>0.177288</td>\n",
       "      <td>0.000034</td>\n",
       "      <td>False</td>\n",
       "    </tr>\n",
       "    <tr>\n",
       "      <th>24</th>\n",
       "      <td>0.451640</td>\n",
       "      <td>1.188283</td>\n",
       "      <td>dummy_constant</td>\n",
       "      <td>0.451640</td>\n",
       "      <td>0.526918</td>\n",
       "      <td>0.476072</td>\n",
       "      <td>0.000030</td>\n",
       "      <td>False</td>\n",
       "    </tr>\n",
       "    <tr>\n",
       "      <th>25</th>\n",
       "      <td>1.185899</td>\n",
       "      <td>0.464461</td>\n",
       "      <td>dummy_constant</td>\n",
       "      <td>1.185899</td>\n",
       "      <td>0.526865</td>\n",
       "      <td>0.471721</td>\n",
       "      <td>0.000030</td>\n",
       "      <td>False</td>\n",
       "    </tr>\n",
       "    <tr>\n",
       "      <th>26</th>\n",
       "      <td>1.064026</td>\n",
       "      <td>0.899659</td>\n",
       "      <td>dummy_constant</td>\n",
       "      <td>1.064026</td>\n",
       "      <td>0.918288</td>\n",
       "      <td>0.477853</td>\n",
       "      <td>0.000033</td>\n",
       "      <td>False</td>\n",
       "    </tr>\n",
       "    <tr>\n",
       "      <th>27</th>\n",
       "      <td>0.545517</td>\n",
       "      <td>0.882071</td>\n",
       "      <td>dummy_constant</td>\n",
       "      <td>0.545517</td>\n",
       "      <td>0.160215</td>\n",
       "      <td>0.148050</td>\n",
       "      <td>0.000035</td>\n",
       "      <td>False</td>\n",
       "    </tr>\n",
       "    <tr>\n",
       "      <th>28</th>\n",
       "      <td>1.191898</td>\n",
       "      <td>0.454651</td>\n",
       "      <td>dummy_constant</td>\n",
       "      <td>1.191898</td>\n",
       "      <td>0.537396</td>\n",
       "      <td>0.480780</td>\n",
       "      <td>0.000033</td>\n",
       "      <td>False</td>\n",
       "    </tr>\n",
       "    <tr>\n",
       "      <th>29</th>\n",
       "      <td>0.769617</td>\n",
       "      <td>1.138001</td>\n",
       "      <td>dummy_constant</td>\n",
       "      <td>0.769617</td>\n",
       "      <td>0.986957</td>\n",
       "      <td>0.479738</td>\n",
       "      <td>0.000032</td>\n",
       "      <td>False</td>\n",
       "    </tr>\n",
       "    <tr>\n",
       "      <th>30</th>\n",
       "      <td>0.815049</td>\n",
       "      <td>0.655909</td>\n",
       "      <td>dummy_constant</td>\n",
       "      <td>0.815049</td>\n",
       "      <td>0.109812</td>\n",
       "      <td>0.123563</td>\n",
       "      <td>0.000037</td>\n",
       "      <td>False</td>\n",
       "    </tr>\n",
       "    <tr>\n",
       "      <th>31</th>\n",
       "      <td>1.052468</td>\n",
       "      <td>0.075990</td>\n",
       "      <td>dummy_constant</td>\n",
       "      <td>1.052468</td>\n",
       "      <td>0.072909</td>\n",
       "      <td>0.485005</td>\n",
       "      <td>0.000029</td>\n",
       "      <td>False</td>\n",
       "    </tr>\n",
       "  </tbody>\n",
       "</table>\n",
       "</div>"
      ],
      "text/plain": [
       "          x1        x2               a        y1        c1        c2  \\\n",
       "0   1.000000  0.700000  dummy_constant  1.000000  0.584045  0.290000   \n",
       "1   0.750000  0.950000  dummy_constant  0.750000  0.494833  0.265000   \n",
       "2   1.535397  1.735397  dummy_constant       NaN  4.313110  2.598255   \n",
       "3   2.320795  0.950000  dummy_constant       NaN  5.188811  3.517794   \n",
       "4   1.594764  0.164602  dummy_constant       NaN  1.577839  1.310999   \n",
       "5   0.817468  0.004076  dummy_constant       NaN -0.431412  0.346726   \n",
       "6   0.032070  0.789474  dummy_constant       NaN -0.455335  0.302754   \n",
       "7   0.055999  1.534382  dummy_constant       NaN  1.274021  1.267084   \n",
       "8   0.399012  1.055124  dummy_constant  0.399012  0.184667  0.318361   \n",
       "9   1.055383  0.325077  dummy_constant  1.055383  0.212679  0.339049   \n",
       "10  0.792728  0.697585  dummy_constant  0.792728  0.062711  0.124729   \n",
       "11  0.655429  1.141263  dummy_constant  0.655429  0.778864  0.435377   \n",
       "12  0.171802  1.068683  dummy_constant  0.171802  0.254625  0.431115   \n",
       "13  0.957200  0.974590  dummy_constant  0.957200  0.767093  0.434267   \n",
       "14  1.142999  0.647744  dummy_constant  1.142999  0.764526  0.435276   \n",
       "15  1.082501  0.156751  dummy_constant  1.082501  0.263073  0.457127   \n",
       "16  1.150558  0.717532  dummy_constant  1.150558  0.926255  0.470545   \n",
       "17  0.555260  1.181806  dummy_constant  0.555260  0.631437  0.467914   \n",
       "18  0.939417  1.028631  dummy_constant  0.939417  0.865723  0.472538   \n",
       "19  0.154020  1.093935  dummy_constant  0.154020  0.282295  0.472461   \n",
       "20  0.063035  1.032161  dummy_constant  0.063035  0.013290  0.474134   \n",
       "21  0.593139  0.888365  dummy_constant  0.593139  0.241005  0.159502   \n",
       "22  1.064967  0.102968  dummy_constant  1.064967  0.141897  0.476823   \n",
       "23  0.920787  0.484974  dummy_constant  0.920787  0.073307  0.177288   \n",
       "24  0.451640  1.188283  dummy_constant  0.451640  0.526918  0.476072   \n",
       "25  1.185899  0.464461  dummy_constant  1.185899  0.526865  0.471721   \n",
       "26  1.064026  0.899659  dummy_constant  1.064026  0.918288  0.477853   \n",
       "27  0.545517  0.882071  dummy_constant  0.545517  0.160215  0.148050   \n",
       "28  1.191898  0.454651  dummy_constant  1.191898  0.537396  0.480780   \n",
       "29  0.769617  1.138001  dummy_constant  0.769617  0.986957  0.479738   \n",
       "30  0.815049  0.655909  dummy_constant  0.815049  0.109812  0.123563   \n",
       "31  1.052468  0.075990  dummy_constant  1.052468  0.072909  0.485005   \n",
       "\n",
       "    xopt_runtime  xopt_error  \n",
       "0       0.000060       False  \n",
       "1       0.000023       False  \n",
       "2       0.000029       False  \n",
       "3       0.000027       False  \n",
       "4       0.000028       False  \n",
       "5       0.000029       False  \n",
       "6       0.000031       False  \n",
       "7       0.000030       False  \n",
       "8       0.000027       False  \n",
       "9       0.000029       False  \n",
       "10      0.000029       False  \n",
       "11      0.000030       False  \n",
       "12      0.000032       False  \n",
       "13      0.000032       False  \n",
       "14      0.000030       False  \n",
       "15      0.000032       False  \n",
       "16      0.000032       False  \n",
       "17      0.000031       False  \n",
       "18      0.000031       False  \n",
       "19      0.000032       False  \n",
       "20      0.000033       False  \n",
       "21      0.000032       False  \n",
       "22      0.000044       False  \n",
       "23      0.000034       False  \n",
       "24      0.000030       False  \n",
       "25      0.000030       False  \n",
       "26      0.000033       False  \n",
       "27      0.000035       False  \n",
       "28      0.000033       False  \n",
       "29      0.000032       False  \n",
       "30      0.000037       False  \n",
       "31      0.000029       False  "
      ]
     },
     "execution_count": 6,
     "metadata": {},
     "output_type": "execute_result"
    }
   ],
   "source": [
    "# view the data\n",
    "X.data"
   ]
  },
  {
   "cell_type": "code",
   "execution_count": 7,
   "metadata": {
    "ExecuteTime": {
     "end_time": "2023-06-14T15:42:06.400652600Z",
     "start_time": "2023-06-14T15:42:05.787612700Z"
    },
    "execution": {
     "iopub.execute_input": "2024-04-15T18:59:39.683785Z",
     "iopub.status.busy": "2024-04-15T18:59:39.683386Z",
     "iopub.status.idle": "2024-04-15T18:59:40.061870Z",
     "shell.execute_reply": "2024-04-15T18:59:40.061168Z"
    }
   },
   "outputs": [
    {
     "data": {
      "image/png": "[encoded data removed]",
      "text/plain": [
       "<Figure size 640x480 with 1 Axes>"
      ]
     },
     "metadata": {},
     "output_type": "display_data"
    }
   ],
   "source": [
    "# plot results\n",
    "ax = X.data.plot(\"x1\", \"x2\")\n",
    "ax.set_aspect(\"equal\")"
   ]
  },
  {
   "cell_type": "code",
   "execution_count": 7,
   "metadata": {
    "ExecuteTime": {
     "end_time": "2023-06-14T15:42:06.419648600Z",
     "start_time": "2023-06-14T15:42:06.401622Z"
    }
   },
   "outputs": [],
   "source": []
  }
 ],
 "metadata": {
  "kernelspec": {
   "display_name": "Python 3 (ipykernel)",
   "language": "python",
   "name": "python3"
  },
  "language_info": {
   "codemirror_mode": {
    "name": "ipython",
    "version": 3
   },
   "file_extension": ".py",
   "mimetype": "text/x-python",
   "name": "python",
   "nbconvert_exporter": "python",
   "pygments_lexer": "ipython3",
   "version": "3.9.19"
  }
 },
 "nbformat": 4,
 "nbformat_minor": 4
}
