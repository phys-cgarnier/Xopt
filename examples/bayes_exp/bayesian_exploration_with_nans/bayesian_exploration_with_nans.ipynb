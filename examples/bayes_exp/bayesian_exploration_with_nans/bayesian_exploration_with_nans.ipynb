{
 "cells": [
  {
   "cell_type": "markdown",
   "metadata": {},
   "source": [
    "# Bayesian Exploration with NaNs\n",
    "\n",
    "As violations of constraints can lead to invalid values of the objective, the evaluate function may simply return NaNs. We demonstrate below how we can still perform Bayesian Exploration in that case."
   ]
  },
  {
   "cell_type": "code",
   "execution_count": 1,
   "metadata": {
    "ExecuteTime": {
     "end_time": "2023-06-14T15:37:25.535638700Z",
     "start_time": "2023-06-14T15:37:22.379218300Z"
    },
    "execution": {
     "iopub.execute_input": "2024-01-30T19:17:28.028834Z",
     "iopub.status.busy": "2024-01-30T19:17:28.028652Z",
     "iopub.status.idle": "2024-01-30T19:17:30.238583Z",
     "shell.execute_reply": "2024-01-30T19:17:30.237957Z"
    }
   },
   "outputs": [],
   "source": [
    "# set values if testing\n",
    "import os\n",
    "SMOKE_TEST = os.environ.get(\"SMOKE_TEST\")\n",
    "NUM_MC_SAMPLES = 1 if SMOKE_TEST else 128\n",
    "NUM_RESTARTS = 1 if SMOKE_TEST else 20\n",
    "\n",
    "# Ignore all warnings\n",
    "import warnings\n",
    "warnings.filterwarnings(\"ignore\")\n",
    "\n",
    "import pandas as pd\n",
    "import torch\n",
    "import yaml\n",
    "from copy import deepcopy\n",
    "from xopt import Xopt, Evaluator\n",
    "from xopt.generators.bayesian import BayesianExplorationGenerator\n",
    "from xopt.resources.test_functions.tnk import evaluate_TNK, tnk_vocs\n",
    "\n",
    "vocs = deepcopy(tnk_vocs)\n",
    "vocs.objectives = {}\n",
    "vocs.observables = [\"y1\"]"
   ]
  },
  {
   "cell_type": "code",
   "execution_count": 2,
   "metadata": {
    "ExecuteTime": {
     "end_time": "2023-06-14T15:37:25.549637200Z",
     "start_time": "2023-06-14T15:37:25.539666500Z"
    },
    "execution": {
     "iopub.execute_input": "2024-01-30T19:17:30.241537Z",
     "iopub.status.busy": "2024-01-30T19:17:30.241218Z",
     "iopub.status.idle": "2024-01-30T19:17:30.245442Z",
     "shell.execute_reply": "2024-01-30T19:17:30.244971Z"
    }
   },
   "outputs": [],
   "source": [
    "# modify the evaluate function to return NaNs if constraints are violated\n",
    "def evaluate(input_dict):\n",
    "    output_dict = evaluate_TNK(input_dict)\n",
    "    del output_dict[\"y2\"]\n",
    "    for c in vocs.constraints.keys():\n",
    "        if vocs.constraints[c][0].upper() == \"GREATER_THAN\" and output_dict[c] <= vocs.constraints[c][1]:\n",
    "            output_dict[\"y1\"] = torch.nan\n",
    "        elif vocs.constraints[c][0].upper() == \"LESS_THAN\" and output_dict[c] >= vocs.constraints[c][1]:\n",
    "            output_dict[\"y1\"] = torch.nan\n",
    "    return output_dict"
   ]
  },
  {
   "cell_type": "code",
   "execution_count": 3,
   "metadata": {
    "ExecuteTime": {
     "end_time": "2023-06-14T15:37:25.580538800Z",
     "start_time": "2023-06-14T15:37:25.552636600Z"
    },
    "execution": {
     "iopub.execute_input": "2024-01-30T19:17:30.247597Z",
     "iopub.status.busy": "2024-01-30T19:17:30.247280Z",
     "iopub.status.idle": "2024-01-30T19:17:30.263021Z",
     "shell.execute_reply": "2024-01-30T19:17:30.262448Z"
    }
   },
   "outputs": [
    {
     "data": {
      "text/plain": [
       "\n",
       "            Xopt\n",
       "________________________________\n",
       "Version: 0+untagged.1.gdec6a48\n",
       "Data size: 0\n",
       "Config as YAML:\n",
       "dump_file: null\n",
       "evaluator:\n",
       "  function: __main__.evaluate\n",
       "  function_kwargs: {}\n",
       "  max_workers: 1\n",
       "  vectorized: false\n",
       "generator:\n",
       "  computation_time: null\n",
       "  fixed_features: null\n",
       "  gp_constructor:\n",
       "    covar_modules: {}\n",
       "    mean_modules: {}\n",
       "    name: standard\n",
       "    trainable_mean_keys: []\n",
       "    use_low_noise_prior: true\n",
       "  log_transform_acquisition_function: false\n",
       "  max_travel_distances:\n",
       "  - 0.25\n",
       "  - 0.25\n",
       "  model: null\n",
       "  n_candidates: 1\n",
       "  n_interpolate_points: null\n",
       "  n_monte_carlo_samples: 128\n",
       "  name: bayesian_exploration\n",
       "  numerical_optimizer:\n",
       "    max_iter: 2000\n",
       "    max_time: null\n",
       "    n_restarts: 20\n",
       "    name: LBFGS\n",
       "  supports_batch_generation: true\n",
       "  turbo_controller: null\n",
       "  use_cuda: false\n",
       "max_evaluations: null\n",
       "serialize_inline: false\n",
       "serialize_torch: false\n",
       "strict: true\n",
       "vocs:\n",
       "  constants:\n",
       "    a: dummy_constant\n",
       "  constraints:\n",
       "    c1:\n",
       "    - GREATER_THAN\n",
       "    - 0.0\n",
       "    c2:\n",
       "    - LESS_THAN\n",
       "    - 0.5\n",
       "  objectives: {}\n",
       "  observables:\n",
       "  - y1\n",
       "  variables:\n",
       "    x1:\n",
       "    - 0.0\n",
       "    - 3.14159\n",
       "    x2:\n",
       "    - 0.0\n",
       "    - 3.14159\n"
      ]
     },
     "execution_count": 3,
     "metadata": {},
     "output_type": "execute_result"
    }
   ],
   "source": [
    "generator = BayesianExplorationGenerator(vocs=vocs)\n",
    "generator.max_travel_distances = [0.25, 0.25]\n",
    "generator.n_monte_carlo_samples = NUM_MC_SAMPLES\n",
    "generator.numerical_optimizer.n_restarts = NUM_RESTARTS\n",
    "\n",
    "evaluator = Evaluator(function=evaluate)\n",
    "X = Xopt(generator=generator, evaluator=evaluator, vocs=vocs)\n",
    "X"
   ]
  },
  {
   "cell_type": "markdown",
   "metadata": {},
   "source": [
    "## Run exploration\n",
    "We start with evaluating 2 points that we know satisfy the constraints. We then run\n",
    "30 exploration steps."
   ]
  },
  {
   "cell_type": "code",
   "execution_count": 4,
   "metadata": {
    "ExecuteTime": {
     "end_time": "2023-06-14T15:37:25.638907100Z",
     "start_time": "2023-06-14T15:37:25.582541Z"
    },
    "execution": {
     "iopub.execute_input": "2024-01-30T19:17:30.293606Z",
     "iopub.status.busy": "2024-01-30T19:17:30.293164Z",
     "iopub.status.idle": "2024-01-30T19:17:30.305748Z",
     "shell.execute_reply": "2024-01-30T19:17:30.305219Z"
    }
   },
   "outputs": [
    {
     "data": {
      "text/html": [
       "<div>\n",
       "<style scoped>\n",
       "    .dataframe tbody tr th:only-of-type {\n",
       "        vertical-align: middle;\n",
       "    }\n",
       "\n",
       "    .dataframe tbody tr th {\n",
       "        vertical-align: top;\n",
       "    }\n",
       "\n",
       "    .dataframe thead th {\n",
       "        text-align: right;\n",
       "    }\n",
       "</style>\n",
       "<table border=\"1\" class=\"dataframe\">\n",
       "  <thead>\n",
       "    <tr style=\"text-align: right;\">\n",
       "      <th></th>\n",
       "      <th>x1</th>\n",
       "      <th>x2</th>\n",
       "      <th>a</th>\n",
       "      <th>y1</th>\n",
       "      <th>c1</th>\n",
       "      <th>c2</th>\n",
       "      <th>xopt_runtime</th>\n",
       "      <th>xopt_error</th>\n",
       "    </tr>\n",
       "  </thead>\n",
       "  <tbody>\n",
       "    <tr>\n",
       "      <th>0</th>\n",
       "      <td>1.00</td>\n",
       "      <td>0.70</td>\n",
       "      <td>dummy_constant</td>\n",
       "      <td>1.00</td>\n",
       "      <td>0.584045</td>\n",
       "      <td>0.290</td>\n",
       "      <td>0.000038</td>\n",
       "      <td>False</td>\n",
       "    </tr>\n",
       "    <tr>\n",
       "      <th>1</th>\n",
       "      <td>0.75</td>\n",
       "      <td>0.95</td>\n",
       "      <td>dummy_constant</td>\n",
       "      <td>0.75</td>\n",
       "      <td>0.494833</td>\n",
       "      <td>0.265</td>\n",
       "      <td>0.000010</td>\n",
       "      <td>False</td>\n",
       "    </tr>\n",
       "  </tbody>\n",
       "</table>\n",
       "</div>"
      ],
      "text/plain": [
       "     x1    x2               a    y1        c1     c2  xopt_runtime  xopt_error\n",
       "0  1.00  0.70  dummy_constant  1.00  0.584045  0.290      0.000038       False\n",
       "1  0.75  0.95  dummy_constant  0.75  0.494833  0.265      0.000010       False"
      ]
     },
     "execution_count": 4,
     "metadata": {},
     "output_type": "execute_result"
    }
   ],
   "source": [
    "X.evaluate_data(pd.DataFrame({\"x1\": [1.0, 0.75], \"x2\": [0.7, 0.95]}))"
   ]
  },
  {
   "cell_type": "code",
   "execution_count": 5,
   "metadata": {
    "ExecuteTime": {
     "end_time": "2023-06-14T15:42:05.755461900Z",
     "start_time": "2023-06-14T15:37:25.611873400Z"
    },
    "execution": {
     "iopub.execute_input": "2024-01-30T19:17:30.308120Z",
     "iopub.status.busy": "2024-01-30T19:17:30.307675Z",
     "iopub.status.idle": "2024-01-30T19:18:48.891966Z",
     "shell.execute_reply": "2024-01-30T19:18:48.891383Z"
    },
    "scrolled": false
   },
   "outputs": [
    {
     "name": "stdout",
     "output_type": "stream",
     "text": [
      "step 0\n"
     ]
    },
    {
     "name": "stdout",
     "output_type": "stream",
     "text": [
      "step 1\n"
     ]
    },
    {
     "name": "stdout",
     "output_type": "stream",
     "text": [
      "step 2\n"
     ]
    },
    {
     "name": "stdout",
     "output_type": "stream",
     "text": [
      "step 3\n"
     ]
    },
    {
     "name": "stdout",
     "output_type": "stream",
     "text": [
      "step 4\n"
     ]
    },
    {
     "name": "stdout",
     "output_type": "stream",
     "text": [
      "step 5\n"
     ]
    },
    {
     "name": "stdout",
     "output_type": "stream",
     "text": [
      "step 6\n"
     ]
    },
    {
     "name": "stdout",
     "output_type": "stream",
     "text": [
      "step 7\n"
     ]
    },
    {
     "name": "stdout",
     "output_type": "stream",
     "text": [
      "step 8\n"
     ]
    },
    {
     "name": "stdout",
     "output_type": "stream",
     "text": [
      "step 9\n"
     ]
    },
    {
     "name": "stdout",
     "output_type": "stream",
     "text": [
      "step 10\n"
     ]
    },
    {
     "name": "stdout",
     "output_type": "stream",
     "text": [
      "step 11\n"
     ]
    },
    {
     "name": "stdout",
     "output_type": "stream",
     "text": [
      "step 12\n"
     ]
    },
    {
     "name": "stdout",
     "output_type": "stream",
     "text": [
      "step 13\n"
     ]
    },
    {
     "name": "stdout",
     "output_type": "stream",
     "text": [
      "step 14\n"
     ]
    },
    {
     "name": "stdout",
     "output_type": "stream",
     "text": [
      "step 15\n"
     ]
    },
    {
     "name": "stdout",
     "output_type": "stream",
     "text": [
      "step 16\n"
     ]
    },
    {
     "name": "stdout",
     "output_type": "stream",
     "text": [
      "step 17\n"
     ]
    },
    {
     "name": "stdout",
     "output_type": "stream",
     "text": [
      "step 18\n"
     ]
    },
    {
     "name": "stdout",
     "output_type": "stream",
     "text": [
      "step 19\n"
     ]
    },
    {
     "name": "stdout",
     "output_type": "stream",
     "text": [
      "step 20\n"
     ]
    },
    {
     "name": "stdout",
     "output_type": "stream",
     "text": [
      "step 21\n"
     ]
    },
    {
     "name": "stdout",
     "output_type": "stream",
     "text": [
      "step 22\n"
     ]
    },
    {
     "name": "stdout",
     "output_type": "stream",
     "text": [
      "step 23\n"
     ]
    },
    {
     "name": "stdout",
     "output_type": "stream",
     "text": [
      "step 24\n"
     ]
    },
    {
     "name": "stdout",
     "output_type": "stream",
     "text": [
      "step 25\n"
     ]
    },
    {
     "name": "stdout",
     "output_type": "stream",
     "text": [
      "step 26\n"
     ]
    },
    {
     "name": "stdout",
     "output_type": "stream",
     "text": [
      "step 27\n"
     ]
    },
    {
     "name": "stdout",
     "output_type": "stream",
     "text": [
      "step 28\n"
     ]
    },
    {
     "name": "stdout",
     "output_type": "stream",
     "text": [
      "step 29\n"
     ]
    }
   ],
   "source": [
    "N_STEPS = 1 if SMOKE_TEST else 30\n",
    "for i in range(N_STEPS):\n",
    "    print(f\"step {i}\")\n",
    "    X.step()"
   ]
  },
  {
   "cell_type": "code",
   "execution_count": 6,
   "metadata": {
    "ExecuteTime": {
     "end_time": "2023-06-14T15:42:05.786611100Z",
     "start_time": "2023-06-14T15:42:05.773463300Z"
    },
    "execution": {
     "iopub.execute_input": "2024-01-30T19:18:48.894973Z",
     "iopub.status.busy": "2024-01-30T19:18:48.894532Z",
     "iopub.status.idle": "2024-01-30T19:18:48.909756Z",
     "shell.execute_reply": "2024-01-30T19:18:48.909092Z"
    }
   },
   "outputs": [
    {
     "data": {
      "text/html": [
       "<div>\n",
       "<style scoped>\n",
       "    .dataframe tbody tr th:only-of-type {\n",
       "        vertical-align: middle;\n",
       "    }\n",
       "\n",
       "    .dataframe tbody tr th {\n",
       "        vertical-align: top;\n",
       "    }\n",
       "\n",
       "    .dataframe thead th {\n",
       "        text-align: right;\n",
       "    }\n",
       "</style>\n",
       "<table border=\"1\" class=\"dataframe\">\n",
       "  <thead>\n",
       "    <tr style=\"text-align: right;\">\n",
       "      <th></th>\n",
       "      <th>x1</th>\n",
       "      <th>x2</th>\n",
       "      <th>a</th>\n",
       "      <th>y1</th>\n",
       "      <th>c1</th>\n",
       "      <th>c2</th>\n",
       "      <th>xopt_runtime</th>\n",
       "      <th>xopt_error</th>\n",
       "    </tr>\n",
       "  </thead>\n",
       "  <tbody>\n",
       "    <tr>\n",
       "      <th>0</th>\n",
       "      <td>1.000000</td>\n",
       "      <td>0.700000</td>\n",
       "      <td>dummy_constant</td>\n",
       "      <td>1.000000</td>\n",
       "      <td>0.584045</td>\n",
       "      <td>0.290000</td>\n",
       "      <td>0.000038</td>\n",
       "      <td>False</td>\n",
       "    </tr>\n",
       "    <tr>\n",
       "      <th>1</th>\n",
       "      <td>0.750000</td>\n",
       "      <td>0.950000</td>\n",
       "      <td>dummy_constant</td>\n",
       "      <td>0.750000</td>\n",
       "      <td>0.494833</td>\n",
       "      <td>0.265000</td>\n",
       "      <td>0.000010</td>\n",
       "      <td>False</td>\n",
       "    </tr>\n",
       "    <tr>\n",
       "      <th>2</th>\n",
       "      <td>1.535397</td>\n",
       "      <td>1.735397</td>\n",
       "      <td>dummy_constant</td>\n",
       "      <td>NaN</td>\n",
       "      <td>4.313110</td>\n",
       "      <td>2.598255</td>\n",
       "      <td>0.000031</td>\n",
       "      <td>False</td>\n",
       "    </tr>\n",
       "    <tr>\n",
       "      <th>3</th>\n",
       "      <td>2.320795</td>\n",
       "      <td>0.950000</td>\n",
       "      <td>dummy_constant</td>\n",
       "      <td>NaN</td>\n",
       "      <td>5.188811</td>\n",
       "      <td>3.517794</td>\n",
       "      <td>0.000033</td>\n",
       "      <td>False</td>\n",
       "    </tr>\n",
       "    <tr>\n",
       "      <th>4</th>\n",
       "      <td>1.552354</td>\n",
       "      <td>0.164602</td>\n",
       "      <td>dummy_constant</td>\n",
       "      <td>NaN</td>\n",
       "      <td>1.448811</td>\n",
       "      <td>1.219940</td>\n",
       "      <td>0.000032</td>\n",
       "      <td>False</td>\n",
       "    </tr>\n",
       "    <tr>\n",
       "      <th>5</th>\n",
       "      <td>0.766956</td>\n",
       "      <td>0.006447</td>\n",
       "      <td>dummy_constant</td>\n",
       "      <td>NaN</td>\n",
       "      <td>-0.510834</td>\n",
       "      <td>0.314860</td>\n",
       "      <td>0.000032</td>\n",
       "      <td>False</td>\n",
       "    </tr>\n",
       "    <tr>\n",
       "      <th>6</th>\n",
       "      <td>0.000000</td>\n",
       "      <td>0.751712</td>\n",
       "      <td>dummy_constant</td>\n",
       "      <td>NaN</td>\n",
       "      <td>-0.534929</td>\n",
       "      <td>0.313359</td>\n",
       "      <td>0.000033</td>\n",
       "      <td>False</td>\n",
       "    </tr>\n",
       "    <tr>\n",
       "      <th>7</th>\n",
       "      <td>0.005988</td>\n",
       "      <td>1.533952</td>\n",
       "      <td>dummy_constant</td>\n",
       "      <td>NaN</td>\n",
       "      <td>1.253241</td>\n",
       "      <td>1.313106</td>\n",
       "      <td>0.000031</td>\n",
       "      <td>False</td>\n",
       "    </tr>\n",
       "    <tr>\n",
       "      <th>8</th>\n",
       "      <td>0.418241</td>\n",
       "      <td>1.038435</td>\n",
       "      <td>dummy_constant</td>\n",
       "      <td>0.418241</td>\n",
       "      <td>0.154502</td>\n",
       "      <td>0.296596</td>\n",
       "      <td>0.000031</td>\n",
       "      <td>False</td>\n",
       "    </tr>\n",
       "    <tr>\n",
       "      <th>9</th>\n",
       "      <td>1.060464</td>\n",
       "      <td>0.315863</td>\n",
       "      <td>dummy_constant</td>\n",
       "      <td>1.060464</td>\n",
       "      <td>0.232404</td>\n",
       "      <td>0.348026</td>\n",
       "      <td>0.000030</td>\n",
       "      <td>False</td>\n",
       "    </tr>\n",
       "    <tr>\n",
       "      <th>10</th>\n",
       "      <td>0.797001</td>\n",
       "      <td>0.697151</td>\n",
       "      <td>dummy_constant</td>\n",
       "      <td>0.797001</td>\n",
       "      <td>0.073012</td>\n",
       "      <td>0.127078</td>\n",
       "      <td>0.000030</td>\n",
       "      <td>False</td>\n",
       "    </tr>\n",
       "    <tr>\n",
       "      <th>11</th>\n",
       "      <td>0.642504</td>\n",
       "      <td>1.142820</td>\n",
       "      <td>dummy_constant</td>\n",
       "      <td>0.642504</td>\n",
       "      <td>0.752267</td>\n",
       "      <td>0.433526</td>\n",
       "      <td>0.000030</td>\n",
       "      <td>False</td>\n",
       "    </tr>\n",
       "    <tr>\n",
       "      <th>12</th>\n",
       "      <td>0.201576</td>\n",
       "      <td>1.082826</td>\n",
       "      <td>dummy_constant</td>\n",
       "      <td>0.201576</td>\n",
       "      <td>0.311215</td>\n",
       "      <td>0.428743</td>\n",
       "      <td>0.000030</td>\n",
       "      <td>False</td>\n",
       "    </tr>\n",
       "    <tr>\n",
       "      <th>13</th>\n",
       "      <td>0.986974</td>\n",
       "      <td>0.938222</td>\n",
       "      <td>dummy_constant</td>\n",
       "      <td>0.986974</td>\n",
       "      <td>0.762471</td>\n",
       "      <td>0.429182</td>\n",
       "      <td>0.000032</td>\n",
       "      <td>False</td>\n",
       "    </tr>\n",
       "    <tr>\n",
       "      <th>14</th>\n",
       "      <td>1.147422</td>\n",
       "      <td>0.625263</td>\n",
       "      <td>dummy_constant</td>\n",
       "      <td>1.147422</td>\n",
       "      <td>0.720404</td>\n",
       "      <td>0.434846</td>\n",
       "      <td>0.000032</td>\n",
       "      <td>False</td>\n",
       "    </tr>\n",
       "    <tr>\n",
       "      <th>15</th>\n",
       "      <td>1.080627</td>\n",
       "      <td>0.158667</td>\n",
       "      <td>dummy_constant</td>\n",
       "      <td>1.080627</td>\n",
       "      <td>0.261951</td>\n",
       "      <td>0.453636</td>\n",
       "      <td>0.000030</td>\n",
       "      <td>False</td>\n",
       "    </tr>\n",
       "    <tr>\n",
       "      <th>16</th>\n",
       "      <td>1.020463</td>\n",
       "      <td>0.944064</td>\n",
       "      <td>dummy_constant</td>\n",
       "      <td>1.020463</td>\n",
       "      <td>0.851325</td>\n",
       "      <td>0.468075</td>\n",
       "      <td>0.000030</td>\n",
       "      <td>False</td>\n",
       "    </tr>\n",
       "    <tr>\n",
       "      <th>17</th>\n",
       "      <td>0.606200</td>\n",
       "      <td>1.178737</td>\n",
       "      <td>dummy_constant</td>\n",
       "      <td>0.606200</td>\n",
       "      <td>0.731783</td>\n",
       "      <td>0.471963</td>\n",
       "      <td>0.000031</td>\n",
       "      <td>False</td>\n",
       "    </tr>\n",
       "    <tr>\n",
       "      <th>18</th>\n",
       "      <td>1.182347</td>\n",
       "      <td>0.559504</td>\n",
       "      <td>dummy_constant</td>\n",
       "      <td>1.182347</td>\n",
       "      <td>0.640511</td>\n",
       "      <td>0.469139</td>\n",
       "      <td>0.000031</td>\n",
       "      <td>False</td>\n",
       "    </tr>\n",
       "    <tr>\n",
       "      <th>19</th>\n",
       "      <td>1.057759</td>\n",
       "      <td>0.093248</td>\n",
       "      <td>dummy_constant</td>\n",
       "      <td>1.057759</td>\n",
       "      <td>0.111229</td>\n",
       "      <td>0.476542</td>\n",
       "      <td>0.000031</td>\n",
       "      <td>False</td>\n",
       "    </tr>\n",
       "    <tr>\n",
       "      <th>20</th>\n",
       "      <td>0.608176</td>\n",
       "      <td>0.875046</td>\n",
       "      <td>dummy_constant</td>\n",
       "      <td>0.608176</td>\n",
       "      <td>0.231314</td>\n",
       "      <td>0.152362</td>\n",
       "      <td>0.000030</td>\n",
       "      <td>False</td>\n",
       "    </tr>\n",
       "    <tr>\n",
       "      <th>21</th>\n",
       "      <td>0.100783</td>\n",
       "      <td>1.054178</td>\n",
       "      <td>dummy_constant</td>\n",
       "      <td>0.100783</td>\n",
       "      <td>0.116873</td>\n",
       "      <td>0.466487</td>\n",
       "      <td>0.000029</td>\n",
       "      <td>False</td>\n",
       "    </tr>\n",
       "    <tr>\n",
       "      <th>22</th>\n",
       "      <td>0.886181</td>\n",
       "      <td>0.550644</td>\n",
       "      <td>dummy_constant</td>\n",
       "      <td>0.886181</td>\n",
       "      <td>0.174854</td>\n",
       "      <td>0.151700</td>\n",
       "      <td>0.000030</td>\n",
       "      <td>False</td>\n",
       "    </tr>\n",
       "    <tr>\n",
       "      <th>23</th>\n",
       "      <td>0.833008</td>\n",
       "      <td>1.101621</td>\n",
       "      <td>dummy_constant</td>\n",
       "      <td>0.833008</td>\n",
       "      <td>0.966920</td>\n",
       "      <td>0.472843</td>\n",
       "      <td>0.000031</td>\n",
       "      <td>False</td>\n",
       "    </tr>\n",
       "    <tr>\n",
       "      <th>24</th>\n",
       "      <td>0.073942</td>\n",
       "      <td>1.046183</td>\n",
       "      <td>dummy_constant</td>\n",
       "      <td>0.073942</td>\n",
       "      <td>0.057207</td>\n",
       "      <td>0.479841</td>\n",
       "      <td>0.000029</td>\n",
       "      <td>False</td>\n",
       "    </tr>\n",
       "    <tr>\n",
       "      <th>25</th>\n",
       "      <td>0.458119</td>\n",
       "      <td>0.933162</td>\n",
       "      <td>dummy_constant</td>\n",
       "      <td>0.458119</td>\n",
       "      <td>0.028215</td>\n",
       "      <td>0.189383</td>\n",
       "      <td>0.000032</td>\n",
       "      <td>False</td>\n",
       "    </tr>\n",
       "    <tr>\n",
       "      <th>26</th>\n",
       "      <td>0.413911</td>\n",
       "      <td>1.183713</td>\n",
       "      <td>dummy_constant</td>\n",
       "      <td>0.413911</td>\n",
       "      <td>0.510421</td>\n",
       "      <td>0.474875</td>\n",
       "      <td>0.000032</td>\n",
       "      <td>False</td>\n",
       "    </tr>\n",
       "    <tr>\n",
       "      <th>27</th>\n",
       "      <td>1.147276</td>\n",
       "      <td>0.742857</td>\n",
       "      <td>dummy_constant</td>\n",
       "      <td>1.147276</td>\n",
       "      <td>0.965423</td>\n",
       "      <td>0.477946</td>\n",
       "      <td>0.000031</td>\n",
       "      <td>False</td>\n",
       "    </tr>\n",
       "    <tr>\n",
       "      <th>28</th>\n",
       "      <td>1.183489</td>\n",
       "      <td>0.405942</td>\n",
       "      <td>dummy_constant</td>\n",
       "      <td>1.183489</td>\n",
       "      <td>0.511096</td>\n",
       "      <td>0.476004</td>\n",
       "      <td>0.000032</td>\n",
       "      <td>False</td>\n",
       "    </tr>\n",
       "    <tr>\n",
       "      <th>29</th>\n",
       "      <td>0.918130</td>\n",
       "      <td>0.484966</td>\n",
       "      <td>dummy_constant</td>\n",
       "      <td>0.918130</td>\n",
       "      <td>0.070303</td>\n",
       "      <td>0.175059</td>\n",
       "      <td>0.000032</td>\n",
       "      <td>False</td>\n",
       "    </tr>\n",
       "    <tr>\n",
       "      <th>30</th>\n",
       "      <td>1.053265</td>\n",
       "      <td>0.076973</td>\n",
       "      <td>dummy_constant</td>\n",
       "      <td>1.053265</td>\n",
       "      <td>0.076019</td>\n",
       "      <td>0.485054</td>\n",
       "      <td>0.000035</td>\n",
       "      <td>False</td>\n",
       "    </tr>\n",
       "    <tr>\n",
       "      <th>31</th>\n",
       "      <td>0.671681</td>\n",
       "      <td>0.783610</td>\n",
       "      <td>dummy_constant</td>\n",
       "      <td>0.671681</td>\n",
       "      <td>0.031603</td>\n",
       "      <td>0.109909</td>\n",
       "      <td>0.000032</td>\n",
       "      <td>False</td>\n",
       "    </tr>\n",
       "  </tbody>\n",
       "</table>\n",
       "</div>"
      ],
      "text/plain": [
       "          x1        x2               a        y1        c1        c2  \\\n",
       "0   1.000000  0.700000  dummy_constant  1.000000  0.584045  0.290000   \n",
       "1   0.750000  0.950000  dummy_constant  0.750000  0.494833  0.265000   \n",
       "2   1.535397  1.735397  dummy_constant       NaN  4.313110  2.598255   \n",
       "3   2.320795  0.950000  dummy_constant       NaN  5.188811  3.517794   \n",
       "4   1.552354  0.164602  dummy_constant       NaN  1.448811  1.219940   \n",
       "5   0.766956  0.006447  dummy_constant       NaN -0.510834  0.314860   \n",
       "6   0.000000  0.751712  dummy_constant       NaN -0.534929  0.313359   \n",
       "7   0.005988  1.533952  dummy_constant       NaN  1.253241  1.313106   \n",
       "8   0.418241  1.038435  dummy_constant  0.418241  0.154502  0.296596   \n",
       "9   1.060464  0.315863  dummy_constant  1.060464  0.232404  0.348026   \n",
       "10  0.797001  0.697151  dummy_constant  0.797001  0.073012  0.127078   \n",
       "11  0.642504  1.142820  dummy_constant  0.642504  0.752267  0.433526   \n",
       "12  0.201576  1.082826  dummy_constant  0.201576  0.311215  0.428743   \n",
       "13  0.986974  0.938222  dummy_constant  0.986974  0.762471  0.429182   \n",
       "14  1.147422  0.625263  dummy_constant  1.147422  0.720404  0.434846   \n",
       "15  1.080627  0.158667  dummy_constant  1.080627  0.261951  0.453636   \n",
       "16  1.020463  0.944064  dummy_constant  1.020463  0.851325  0.468075   \n",
       "17  0.606200  1.178737  dummy_constant  0.606200  0.731783  0.471963   \n",
       "18  1.182347  0.559504  dummy_constant  1.182347  0.640511  0.469139   \n",
       "19  1.057759  0.093248  dummy_constant  1.057759  0.111229  0.476542   \n",
       "20  0.608176  0.875046  dummy_constant  0.608176  0.231314  0.152362   \n",
       "21  0.100783  1.054178  dummy_constant  0.100783  0.116873  0.466487   \n",
       "22  0.886181  0.550644  dummy_constant  0.886181  0.174854  0.151700   \n",
       "23  0.833008  1.101621  dummy_constant  0.833008  0.966920  0.472843   \n",
       "24  0.073942  1.046183  dummy_constant  0.073942  0.057207  0.479841   \n",
       "25  0.458119  0.933162  dummy_constant  0.458119  0.028215  0.189383   \n",
       "26  0.413911  1.183713  dummy_constant  0.413911  0.510421  0.474875   \n",
       "27  1.147276  0.742857  dummy_constant  1.147276  0.965423  0.477946   \n",
       "28  1.183489  0.405942  dummy_constant  1.183489  0.511096  0.476004   \n",
       "29  0.918130  0.484966  dummy_constant  0.918130  0.070303  0.175059   \n",
       "30  1.053265  0.076973  dummy_constant  1.053265  0.076019  0.485054   \n",
       "31  0.671681  0.783610  dummy_constant  0.671681  0.031603  0.109909   \n",
       "\n",
       "    xopt_runtime  xopt_error  \n",
       "0       0.000038       False  \n",
       "1       0.000010       False  \n",
       "2       0.000031       False  \n",
       "3       0.000033       False  \n",
       "4       0.000032       False  \n",
       "5       0.000032       False  \n",
       "6       0.000033       False  \n",
       "7       0.000031       False  \n",
       "8       0.000031       False  \n",
       "9       0.000030       False  \n",
       "10      0.000030       False  \n",
       "11      0.000030       False  \n",
       "12      0.000030       False  \n",
       "13      0.000032       False  \n",
       "14      0.000032       False  \n",
       "15      0.000030       False  \n",
       "16      0.000030       False  \n",
       "17      0.000031       False  \n",
       "18      0.000031       False  \n",
       "19      0.000031       False  \n",
       "20      0.000030       False  \n",
       "21      0.000029       False  \n",
       "22      0.000030       False  \n",
       "23      0.000031       False  \n",
       "24      0.000029       False  \n",
       "25      0.000032       False  \n",
       "26      0.000032       False  \n",
       "27      0.000031       False  \n",
       "28      0.000032       False  \n",
       "29      0.000032       False  \n",
       "30      0.000035       False  \n",
       "31      0.000032       False  "
      ]
     },
     "execution_count": 6,
     "metadata": {},
     "output_type": "execute_result"
    }
   ],
   "source": [
    "# view the data\n",
    "X.data"
   ]
  },
  {
   "cell_type": "code",
   "execution_count": 7,
   "metadata": {
    "ExecuteTime": {
     "end_time": "2023-06-14T15:42:06.400652600Z",
     "start_time": "2023-06-14T15:42:05.787612700Z"
    },
    "execution": {
     "iopub.execute_input": "2024-01-30T19:18:48.912213Z",
     "iopub.status.busy": "2024-01-30T19:18:48.911806Z",
     "iopub.status.idle": "2024-01-30T19:18:49.300072Z",
     "shell.execute_reply": "2024-01-30T19:18:49.299410Z"
    }
   },
   "outputs": [
    {
     "data": {
      "image/png": "[encoded data removed]",
      "text/plain": [
       "<Figure size 640x480 with 1 Axes>"
      ]
     },
     "metadata": {},
     "output_type": "display_data"
    }
   ],
   "source": [
    "# plot results\n",
    "ax = X.data.plot(\"x1\", \"x2\")\n",
    "ax.set_aspect(\"equal\")"
   ]
  },
  {
   "cell_type": "code",
   "execution_count": 7,
   "metadata": {
    "ExecuteTime": {
     "end_time": "2023-06-14T15:42:06.419648600Z",
     "start_time": "2023-06-14T15:42:06.401622Z"
    }
   },
   "outputs": [],
   "source": []
  }
 ],
 "metadata": {
  "kernelspec": {
   "display_name": "Python 3 (ipykernel)",
   "language": "python",
   "name": "python3"
  },
  "language_info": {
   "codemirror_mode": {
    "name": "ipython",
    "version": 3
   },
   "file_extension": ".py",
   "mimetype": "text/x-python",
   "name": "python",
   "nbconvert_exporter": "python",
   "pygments_lexer": "ipython3",
   "version": "3.9.18"
  }
 },
 "nbformat": 4,
 "nbformat_minor": 4
}
