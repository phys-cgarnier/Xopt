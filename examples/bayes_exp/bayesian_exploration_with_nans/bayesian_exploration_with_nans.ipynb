{
 "cells": [
  {
   "cell_type": "markdown",
   "metadata": {},
   "source": [
    "# Bayesian Exploration with NaNs\n",
    "\n",
    "As violations of constraints can lead to invalid values of the objective, the evaluate function may simply return NaNs. We demonstrate below how we can still perform Bayesian Exploration in that case."
   ]
  },
  {
   "cell_type": "code",
   "execution_count": 1,
   "metadata": {
    "ExecuteTime": {
     "end_time": "2023-06-14T15:37:25.535638700Z",
     "start_time": "2023-06-14T15:37:22.379218300Z"
    },
    "execution": {
     "iopub.execute_input": "2024-03-20T15:33:09.329849Z",
     "iopub.status.busy": "2024-03-20T15:33:09.329420Z",
     "iopub.status.idle": "2024-03-20T15:33:11.644833Z",
     "shell.execute_reply": "2024-03-20T15:33:11.644187Z"
    }
   },
   "outputs": [],
   "source": [
    "# set values if testing\n",
    "import os\n",
    "SMOKE_TEST = os.environ.get(\"SMOKE_TEST\")\n",
    "NUM_MC_SAMPLES = 1 if SMOKE_TEST else 128\n",
    "NUM_RESTARTS = 1 if SMOKE_TEST else 20\n",
    "\n",
    "# Ignore all warnings\n",
    "import warnings\n",
    "warnings.filterwarnings(\"ignore\")\n",
    "\n",
    "import pandas as pd\n",
    "import torch\n",
    "import yaml\n",
    "from copy import deepcopy\n",
    "from xopt import Xopt, Evaluator\n",
    "from xopt.generators.bayesian import BayesianExplorationGenerator\n",
    "from xopt.resources.test_functions.tnk import evaluate_TNK, tnk_vocs\n",
    "\n",
    "vocs = deepcopy(tnk_vocs)\n",
    "vocs.objectives = {}\n",
    "vocs.observables = [\"y1\"]"
   ]
  },
  {
   "cell_type": "code",
   "execution_count": 2,
   "metadata": {
    "ExecuteTime": {
     "end_time": "2023-06-14T15:37:25.549637200Z",
     "start_time": "2023-06-14T15:37:25.539666500Z"
    },
    "execution": {
     "iopub.execute_input": "2024-03-20T15:33:11.648084Z",
     "iopub.status.busy": "2024-03-20T15:33:11.647589Z",
     "iopub.status.idle": "2024-03-20T15:33:11.651965Z",
     "shell.execute_reply": "2024-03-20T15:33:11.651475Z"
    }
   },
   "outputs": [],
   "source": [
    "# modify the evaluate function to return NaNs if constraints are violated\n",
    "def evaluate(input_dict):\n",
    "    output_dict = evaluate_TNK(input_dict)\n",
    "    del output_dict[\"y2\"]\n",
    "    for c in vocs.constraints.keys():\n",
    "        if vocs.constraints[c][0].upper() == \"GREATER_THAN\" and output_dict[c] <= vocs.constraints[c][1]:\n",
    "            output_dict[\"y1\"] = torch.nan\n",
    "        elif vocs.constraints[c][0].upper() == \"LESS_THAN\" and output_dict[c] >= vocs.constraints[c][1]:\n",
    "            output_dict[\"y1\"] = torch.nan\n",
    "    return output_dict"
   ]
  },
  {
   "cell_type": "code",
   "execution_count": 3,
   "metadata": {
    "ExecuteTime": {
     "end_time": "2023-06-14T15:37:25.580538800Z",
     "start_time": "2023-06-14T15:37:25.552636600Z"
    },
    "execution": {
     "iopub.execute_input": "2024-03-20T15:33:11.654022Z",
     "iopub.status.busy": "2024-03-20T15:33:11.653840Z",
     "iopub.status.idle": "2024-03-20T15:33:11.672751Z",
     "shell.execute_reply": "2024-03-20T15:33:11.672159Z"
    }
   },
   "outputs": [
    {
     "data": {
      "text/plain": [
       "\n",
       "            Xopt\n",
       "________________________________\n",
       "Version: 0+untagged.1.g8978f87\n",
       "Data size: 0\n",
       "Config as YAML:\n",
       "dump_file: null\n",
       "evaluator:\n",
       "  function: __main__.evaluate\n",
       "  function_kwargs: {}\n",
       "  max_workers: 1\n",
       "  vectorized: false\n",
       "generator:\n",
       "  computation_time: null\n",
       "  fixed_features: null\n",
       "  gp_constructor:\n",
       "    covar_modules: {}\n",
       "    custom_noise_prior: null\n",
       "    mean_modules: {}\n",
       "    name: standard\n",
       "    trainable_mean_keys: []\n",
       "    transform_inputs: true\n",
       "    use_low_noise_prior: true\n",
       "  log_transform_acquisition_function: false\n",
       "  max_travel_distances:\n",
       "  - 0.25\n",
       "  - 0.25\n",
       "  model: null\n",
       "  n_candidates: 1\n",
       "  n_interpolate_points: null\n",
       "  n_monte_carlo_samples: 128\n",
       "  name: bayesian_exploration\n",
       "  numerical_optimizer:\n",
       "    max_iter: 2000\n",
       "    max_time: null\n",
       "    n_restarts: 20\n",
       "    name: LBFGS\n",
       "  supports_batch_generation: true\n",
       "  turbo_controller: null\n",
       "  use_cuda: false\n",
       "max_evaluations: null\n",
       "serialize_inline: false\n",
       "serialize_torch: false\n",
       "strict: true\n",
       "vocs:\n",
       "  constants:\n",
       "    a: dummy_constant\n",
       "  constraints:\n",
       "    c1:\n",
       "    - GREATER_THAN\n",
       "    - 0.0\n",
       "    c2:\n",
       "    - LESS_THAN\n",
       "    - 0.5\n",
       "  objectives: {}\n",
       "  observables:\n",
       "  - y1\n",
       "  variables:\n",
       "    x1:\n",
       "    - 0.0\n",
       "    - 3.14159\n",
       "    x2:\n",
       "    - 0.0\n",
       "    - 3.14159\n"
      ]
     },
     "execution_count": 3,
     "metadata": {},
     "output_type": "execute_result"
    }
   ],
   "source": [
    "generator = BayesianExplorationGenerator(vocs=vocs)\n",
    "generator.max_travel_distances = [0.25, 0.25]\n",
    "generator.n_monte_carlo_samples = NUM_MC_SAMPLES\n",
    "generator.numerical_optimizer.n_restarts = NUM_RESTARTS\n",
    "\n",
    "evaluator = Evaluator(function=evaluate)\n",
    "X = Xopt(generator=generator, evaluator=evaluator, vocs=vocs)\n",
    "X"
   ]
  },
  {
   "cell_type": "markdown",
   "metadata": {},
   "source": [
    "## Run exploration\n",
    "We start with evaluating 2 points that we know satisfy the constraints. We then run\n",
    "30 exploration steps."
   ]
  },
  {
   "cell_type": "code",
   "execution_count": 4,
   "metadata": {
    "ExecuteTime": {
     "end_time": "2023-06-14T15:37:25.638907100Z",
     "start_time": "2023-06-14T15:37:25.582541Z"
    },
    "execution": {
     "iopub.execute_input": "2024-03-20T15:33:11.703979Z",
     "iopub.status.busy": "2024-03-20T15:33:11.703557Z",
     "iopub.status.idle": "2024-03-20T15:33:11.716668Z",
     "shell.execute_reply": "2024-03-20T15:33:11.716071Z"
    }
   },
   "outputs": [
    {
     "data": {
      "text/html": [
       "<div>\n",
       "<style scoped>\n",
       "    .dataframe tbody tr th:only-of-type {\n",
       "        vertical-align: middle;\n",
       "    }\n",
       "\n",
       "    .dataframe tbody tr th {\n",
       "        vertical-align: top;\n",
       "    }\n",
       "\n",
       "    .dataframe thead th {\n",
       "        text-align: right;\n",
       "    }\n",
       "</style>\n",
       "<table border=\"1\" class=\"dataframe\">\n",
       "  <thead>\n",
       "    <tr style=\"text-align: right;\">\n",
       "      <th></th>\n",
       "      <th>x1</th>\n",
       "      <th>x2</th>\n",
       "      <th>a</th>\n",
       "      <th>y1</th>\n",
       "      <th>c1</th>\n",
       "      <th>c2</th>\n",
       "      <th>xopt_runtime</th>\n",
       "      <th>xopt_error</th>\n",
       "    </tr>\n",
       "  </thead>\n",
       "  <tbody>\n",
       "    <tr>\n",
       "      <th>0</th>\n",
       "      <td>1.00</td>\n",
       "      <td>0.70</td>\n",
       "      <td>dummy_constant</td>\n",
       "      <td>1.00</td>\n",
       "      <td>0.584045</td>\n",
       "      <td>0.290</td>\n",
       "      <td>0.000054</td>\n",
       "      <td>False</td>\n",
       "    </tr>\n",
       "    <tr>\n",
       "      <th>1</th>\n",
       "      <td>0.75</td>\n",
       "      <td>0.95</td>\n",
       "      <td>dummy_constant</td>\n",
       "      <td>0.75</td>\n",
       "      <td>0.494833</td>\n",
       "      <td>0.265</td>\n",
       "      <td>0.000018</td>\n",
       "      <td>False</td>\n",
       "    </tr>\n",
       "  </tbody>\n",
       "</table>\n",
       "</div>"
      ],
      "text/plain": [
       "     x1    x2               a    y1        c1     c2  xopt_runtime  xopt_error\n",
       "0  1.00  0.70  dummy_constant  1.00  0.584045  0.290      0.000054       False\n",
       "1  0.75  0.95  dummy_constant  0.75  0.494833  0.265      0.000018       False"
      ]
     },
     "execution_count": 4,
     "metadata": {},
     "output_type": "execute_result"
    }
   ],
   "source": [
    "X.evaluate_data(pd.DataFrame({\"x1\": [1.0, 0.75], \"x2\": [0.7, 0.95]}))"
   ]
  },
  {
   "cell_type": "code",
   "execution_count": 5,
   "metadata": {
    "ExecuteTime": {
     "end_time": "2023-06-14T15:42:05.755461900Z",
     "start_time": "2023-06-14T15:37:25.611873400Z"
    },
    "execution": {
     "iopub.execute_input": "2024-03-20T15:33:11.718934Z",
     "iopub.status.busy": "2024-03-20T15:33:11.718579Z",
     "iopub.status.idle": "2024-03-20T15:34:26.764699Z",
     "shell.execute_reply": "2024-03-20T15:34:26.764134Z"
    },
    "scrolled": false
   },
   "outputs": [
    {
     "name": "stdout",
     "output_type": "stream",
     "text": [
      "step 0\n"
     ]
    },
    {
     "name": "stdout",
     "output_type": "stream",
     "text": [
      "step 1\n"
     ]
    },
    {
     "name": "stdout",
     "output_type": "stream",
     "text": [
      "step 2\n"
     ]
    },
    {
     "name": "stdout",
     "output_type": "stream",
     "text": [
      "step 3\n"
     ]
    },
    {
     "name": "stdout",
     "output_type": "stream",
     "text": [
      "step 4\n"
     ]
    },
    {
     "name": "stdout",
     "output_type": "stream",
     "text": [
      "step 5\n"
     ]
    },
    {
     "name": "stdout",
     "output_type": "stream",
     "text": [
      "step 6\n"
     ]
    },
    {
     "name": "stdout",
     "output_type": "stream",
     "text": [
      "step 7\n"
     ]
    },
    {
     "name": "stdout",
     "output_type": "stream",
     "text": [
      "step 8\n"
     ]
    },
    {
     "name": "stdout",
     "output_type": "stream",
     "text": [
      "step 9\n"
     ]
    },
    {
     "name": "stdout",
     "output_type": "stream",
     "text": [
      "step 10\n"
     ]
    },
    {
     "name": "stdout",
     "output_type": "stream",
     "text": [
      "step 11\n"
     ]
    },
    {
     "name": "stdout",
     "output_type": "stream",
     "text": [
      "step 12\n"
     ]
    },
    {
     "name": "stdout",
     "output_type": "stream",
     "text": [
      "step 13\n"
     ]
    },
    {
     "name": "stdout",
     "output_type": "stream",
     "text": [
      "step 14\n"
     ]
    },
    {
     "name": "stdout",
     "output_type": "stream",
     "text": [
      "step 15\n"
     ]
    },
    {
     "name": "stdout",
     "output_type": "stream",
     "text": [
      "step 16\n"
     ]
    },
    {
     "name": "stdout",
     "output_type": "stream",
     "text": [
      "step 17\n"
     ]
    },
    {
     "name": "stdout",
     "output_type": "stream",
     "text": [
      "step 18\n"
     ]
    },
    {
     "name": "stdout",
     "output_type": "stream",
     "text": [
      "step 19\n"
     ]
    },
    {
     "name": "stdout",
     "output_type": "stream",
     "text": [
      "step 20\n"
     ]
    },
    {
     "name": "stdout",
     "output_type": "stream",
     "text": [
      "step 21\n"
     ]
    },
    {
     "name": "stdout",
     "output_type": "stream",
     "text": [
      "step 22\n"
     ]
    },
    {
     "name": "stdout",
     "output_type": "stream",
     "text": [
      "step 23\n"
     ]
    },
    {
     "name": "stdout",
     "output_type": "stream",
     "text": [
      "step 24\n"
     ]
    },
    {
     "name": "stdout",
     "output_type": "stream",
     "text": [
      "step 25\n"
     ]
    },
    {
     "name": "stdout",
     "output_type": "stream",
     "text": [
      "step 26\n"
     ]
    },
    {
     "name": "stdout",
     "output_type": "stream",
     "text": [
      "step 27\n"
     ]
    },
    {
     "name": "stdout",
     "output_type": "stream",
     "text": [
      "step 28\n"
     ]
    },
    {
     "name": "stdout",
     "output_type": "stream",
     "text": [
      "step 29\n"
     ]
    }
   ],
   "source": [
    "N_STEPS = 1 if SMOKE_TEST else 30\n",
    "for i in range(N_STEPS):\n",
    "    print(f\"step {i}\")\n",
    "    X.step()"
   ]
  },
  {
   "cell_type": "code",
   "execution_count": 6,
   "metadata": {
    "ExecuteTime": {
     "end_time": "2023-06-14T15:42:05.786611100Z",
     "start_time": "2023-06-14T15:42:05.773463300Z"
    },
    "execution": {
     "iopub.execute_input": "2024-03-20T15:34:26.767345Z",
     "iopub.status.busy": "2024-03-20T15:34:26.767153Z",
     "iopub.status.idle": "2024-03-20T15:34:26.778620Z",
     "shell.execute_reply": "2024-03-20T15:34:26.778007Z"
    }
   },
   "outputs": [
    {
     "data": {
      "text/html": [
       "<div>\n",
       "<style scoped>\n",
       "    .dataframe tbody tr th:only-of-type {\n",
       "        vertical-align: middle;\n",
       "    }\n",
       "\n",
       "    .dataframe tbody tr th {\n",
       "        vertical-align: top;\n",
       "    }\n",
       "\n",
       "    .dataframe thead th {\n",
       "        text-align: right;\n",
       "    }\n",
       "</style>\n",
       "<table border=\"1\" class=\"dataframe\">\n",
       "  <thead>\n",
       "    <tr style=\"text-align: right;\">\n",
       "      <th></th>\n",
       "      <th>x1</th>\n",
       "      <th>x2</th>\n",
       "      <th>a</th>\n",
       "      <th>y1</th>\n",
       "      <th>c1</th>\n",
       "      <th>c2</th>\n",
       "      <th>xopt_runtime</th>\n",
       "      <th>xopt_error</th>\n",
       "    </tr>\n",
       "  </thead>\n",
       "  <tbody>\n",
       "    <tr>\n",
       "      <th>0</th>\n",
       "      <td>1.000000</td>\n",
       "      <td>0.700000</td>\n",
       "      <td>dummy_constant</td>\n",
       "      <td>1.000000</td>\n",
       "      <td>0.584045</td>\n",
       "      <td>0.290000</td>\n",
       "      <td>0.000054</td>\n",
       "      <td>False</td>\n",
       "    </tr>\n",
       "    <tr>\n",
       "      <th>1</th>\n",
       "      <td>0.750000</td>\n",
       "      <td>0.950000</td>\n",
       "      <td>dummy_constant</td>\n",
       "      <td>0.750000</td>\n",
       "      <td>0.494833</td>\n",
       "      <td>0.265000</td>\n",
       "      <td>0.000018</td>\n",
       "      <td>False</td>\n",
       "    </tr>\n",
       "    <tr>\n",
       "      <th>2</th>\n",
       "      <td>1.535397</td>\n",
       "      <td>1.735397</td>\n",
       "      <td>dummy_constant</td>\n",
       "      <td>NaN</td>\n",
       "      <td>4.313110</td>\n",
       "      <td>2.598255</td>\n",
       "      <td>0.000032</td>\n",
       "      <td>False</td>\n",
       "    </tr>\n",
       "    <tr>\n",
       "      <th>3</th>\n",
       "      <td>2.320795</td>\n",
       "      <td>0.950000</td>\n",
       "      <td>dummy_constant</td>\n",
       "      <td>NaN</td>\n",
       "      <td>5.188811</td>\n",
       "      <td>3.517794</td>\n",
       "      <td>0.000028</td>\n",
       "      <td>False</td>\n",
       "    </tr>\n",
       "    <tr>\n",
       "      <th>4</th>\n",
       "      <td>1.790046</td>\n",
       "      <td>0.164602</td>\n",
       "      <td>dummy_constant</td>\n",
       "      <td>NaN</td>\n",
       "      <td>2.221010</td>\n",
       "      <td>1.776709</td>\n",
       "      <td>0.000029</td>\n",
       "      <td>False</td>\n",
       "    </tr>\n",
       "    <tr>\n",
       "      <th>5</th>\n",
       "      <td>1.004648</td>\n",
       "      <td>0.000000</td>\n",
       "      <td>dummy_constant</td>\n",
       "      <td>NaN</td>\n",
       "      <td>-0.090682</td>\n",
       "      <td>0.504670</td>\n",
       "      <td>0.000027</td>\n",
       "      <td>False</td>\n",
       "    </tr>\n",
       "    <tr>\n",
       "      <th>6</th>\n",
       "      <td>0.219251</td>\n",
       "      <td>0.773192</td>\n",
       "      <td>dummy_constant</td>\n",
       "      <td>NaN</td>\n",
       "      <td>-0.325374</td>\n",
       "      <td>0.153454</td>\n",
       "      <td>0.000031</td>\n",
       "      <td>False</td>\n",
       "    </tr>\n",
       "    <tr>\n",
       "      <th>7</th>\n",
       "      <td>0.000000</td>\n",
       "      <td>1.558590</td>\n",
       "      <td>dummy_constant</td>\n",
       "      <td>NaN</td>\n",
       "      <td>1.329202</td>\n",
       "      <td>1.370612</td>\n",
       "      <td>0.000030</td>\n",
       "      <td>False</td>\n",
       "    </tr>\n",
       "    <tr>\n",
       "      <th>8</th>\n",
       "      <td>0.402725</td>\n",
       "      <td>1.060374</td>\n",
       "      <td>dummy_constant</td>\n",
       "      <td>0.402725</td>\n",
       "      <td>0.197684</td>\n",
       "      <td>0.323482</td>\n",
       "      <td>0.000034</td>\n",
       "      <td>False</td>\n",
       "    </tr>\n",
       "    <tr>\n",
       "      <th>9</th>\n",
       "      <td>1.055075</td>\n",
       "      <td>0.327093</td>\n",
       "      <td>dummy_constant</td>\n",
       "      <td>1.055075</td>\n",
       "      <td>0.210432</td>\n",
       "      <td>0.338005</td>\n",
       "      <td>0.000029</td>\n",
       "      <td>False</td>\n",
       "    </tr>\n",
       "    <tr>\n",
       "      <th>10</th>\n",
       "      <td>0.806596</td>\n",
       "      <td>0.664916</td>\n",
       "      <td>dummy_constant</td>\n",
       "      <td>0.806596</td>\n",
       "      <td>0.089209</td>\n",
       "      <td>0.121198</td>\n",
       "      <td>0.000029</td>\n",
       "      <td>False</td>\n",
       "    </tr>\n",
       "    <tr>\n",
       "      <th>11</th>\n",
       "      <td>0.136000</td>\n",
       "      <td>1.035106</td>\n",
       "      <td>dummy_constant</td>\n",
       "      <td>0.136000</td>\n",
       "      <td>0.139580</td>\n",
       "      <td>0.418835</td>\n",
       "      <td>0.000028</td>\n",
       "      <td>False</td>\n",
       "    </tr>\n",
       "    <tr>\n",
       "      <th>12</th>\n",
       "      <td>0.000000</td>\n",
       "      <td>0.943646</td>\n",
       "      <td>dummy_constant</td>\n",
       "      <td>NaN</td>\n",
       "      <td>-0.209532</td>\n",
       "      <td>0.446822</td>\n",
       "      <td>0.000030</td>\n",
       "      <td>False</td>\n",
       "    </tr>\n",
       "    <tr>\n",
       "      <th>13</th>\n",
       "      <td>0.785397</td>\n",
       "      <td>1.087733</td>\n",
       "      <td>dummy_constant</td>\n",
       "      <td>0.785397</td>\n",
       "      <td>0.883595</td>\n",
       "      <td>0.426882</td>\n",
       "      <td>0.000030</td>\n",
       "      <td>False</td>\n",
       "    </tr>\n",
       "    <tr>\n",
       "      <th>14</th>\n",
       "      <td>1.120771</td>\n",
       "      <td>0.723550</td>\n",
       "      <td>dummy_constant</td>\n",
       "      <td>1.120771</td>\n",
       "      <td>0.876480</td>\n",
       "      <td>0.435332</td>\n",
       "      <td>0.000031</td>\n",
       "      <td>False</td>\n",
       "    </tr>\n",
       "    <tr>\n",
       "      <th>15</th>\n",
       "      <td>0.504340</td>\n",
       "      <td>1.174372</td>\n",
       "      <td>dummy_constant</td>\n",
       "      <td>0.504340</td>\n",
       "      <td>0.535645</td>\n",
       "      <td>0.454797</td>\n",
       "      <td>0.000029</td>\n",
       "      <td>False</td>\n",
       "    </tr>\n",
       "    <tr>\n",
       "      <th>16</th>\n",
       "      <td>1.168071</td>\n",
       "      <td>0.388975</td>\n",
       "      <td>dummy_constant</td>\n",
       "      <td>1.168071</td>\n",
       "      <td>0.473921</td>\n",
       "      <td>0.458645</td>\n",
       "      <td>0.000028</td>\n",
       "      <td>False</td>\n",
       "    </tr>\n",
       "    <tr>\n",
       "      <th>17</th>\n",
       "      <td>1.001111</td>\n",
       "      <td>0.953995</td>\n",
       "      <td>dummy_constant</td>\n",
       "      <td>1.001111</td>\n",
       "      <td>0.819670</td>\n",
       "      <td>0.457224</td>\n",
       "      <td>0.000028</td>\n",
       "      <td>False</td>\n",
       "    </tr>\n",
       "    <tr>\n",
       "      <th>18</th>\n",
       "      <td>1.166144</td>\n",
       "      <td>0.663365</td>\n",
       "      <td>dummy_constant</td>\n",
       "      <td>1.166144</td>\n",
       "      <td>0.840836</td>\n",
       "      <td>0.470436</td>\n",
       "      <td>0.000032</td>\n",
       "      <td>False</td>\n",
       "    </tr>\n",
       "    <tr>\n",
       "      <th>19</th>\n",
       "      <td>0.620039</td>\n",
       "      <td>1.177578</td>\n",
       "      <td>dummy_constant</td>\n",
       "      <td>0.620039</td>\n",
       "      <td>0.761199</td>\n",
       "      <td>0.473521</td>\n",
       "      <td>0.000029</td>\n",
       "      <td>False</td>\n",
       "    </tr>\n",
       "    <tr>\n",
       "      <th>20</th>\n",
       "      <td>0.691274</td>\n",
       "      <td>0.790811</td>\n",
       "      <td>dummy_constant</td>\n",
       "      <td>0.691274</td>\n",
       "      <td>0.055487</td>\n",
       "      <td>0.121157</td>\n",
       "      <td>0.000029</td>\n",
       "      <td>False</td>\n",
       "    </tr>\n",
       "    <tr>\n",
       "      <th>21</th>\n",
       "      <td>1.081794</td>\n",
       "      <td>0.144118</td>\n",
       "      <td>dummy_constant</td>\n",
       "      <td>1.081794</td>\n",
       "      <td>0.243170</td>\n",
       "      <td>0.465137</td>\n",
       "      <td>0.000029</td>\n",
       "      <td>False</td>\n",
       "    </tr>\n",
       "    <tr>\n",
       "      <th>22</th>\n",
       "      <td>0.937853</td>\n",
       "      <td>0.469477</td>\n",
       "      <td>dummy_constant</td>\n",
       "      <td>0.937853</td>\n",
       "      <td>0.058462</td>\n",
       "      <td>0.192647</td>\n",
       "      <td>0.000048</td>\n",
       "      <td>False</td>\n",
       "    </tr>\n",
       "    <tr>\n",
       "      <th>23</th>\n",
       "      <td>0.159459</td>\n",
       "      <td>1.095667</td>\n",
       "      <td>dummy_constant</td>\n",
       "      <td>0.159459</td>\n",
       "      <td>0.293456</td>\n",
       "      <td>0.470787</td>\n",
       "      <td>0.000030</td>\n",
       "      <td>False</td>\n",
       "    </tr>\n",
       "    <tr>\n",
       "      <th>24</th>\n",
       "      <td>0.534480</td>\n",
       "      <td>0.906628</td>\n",
       "      <td>dummy_constant</td>\n",
       "      <td>0.534480</td>\n",
       "      <td>0.169657</td>\n",
       "      <td>0.166535</td>\n",
       "      <td>0.000029</td>\n",
       "      <td>False</td>\n",
       "    </tr>\n",
       "    <tr>\n",
       "      <th>25</th>\n",
       "      <td>0.965631</td>\n",
       "      <td>1.010766</td>\n",
       "      <td>dummy_constant</td>\n",
       "      <td>0.965631</td>\n",
       "      <td>0.860690</td>\n",
       "      <td>0.477694</td>\n",
       "      <td>0.000032</td>\n",
       "      <td>False</td>\n",
       "    </tr>\n",
       "    <tr>\n",
       "      <th>26</th>\n",
       "      <td>1.185489</td>\n",
       "      <td>0.402853</td>\n",
       "      <td>dummy_constant</td>\n",
       "      <td>1.185489</td>\n",
       "      <td>0.517221</td>\n",
       "      <td>0.479333</td>\n",
       "      <td>0.000031</td>\n",
       "      <td>False</td>\n",
       "    </tr>\n",
       "    <tr>\n",
       "      <th>27</th>\n",
       "      <td>1.129548</td>\n",
       "      <td>0.789320</td>\n",
       "      <td>dummy_constant</td>\n",
       "      <td>1.129548</td>\n",
       "      <td>0.993384</td>\n",
       "      <td>0.480037</td>\n",
       "      <td>0.000027</td>\n",
       "      <td>False</td>\n",
       "    </tr>\n",
       "    <tr>\n",
       "      <th>28</th>\n",
       "      <td>1.062919</td>\n",
       "      <td>0.092044</td>\n",
       "      <td>dummy_constant</td>\n",
       "      <td>1.062919</td>\n",
       "      <td>0.119508</td>\n",
       "      <td>0.483306</td>\n",
       "      <td>0.000029</td>\n",
       "      <td>False</td>\n",
       "    </tr>\n",
       "    <tr>\n",
       "      <th>29</th>\n",
       "      <td>0.901712</td>\n",
       "      <td>0.521032</td>\n",
       "      <td>dummy_constant</td>\n",
       "      <td>0.901712</td>\n",
       "      <td>0.135051</td>\n",
       "      <td>0.161815</td>\n",
       "      <td>0.000028</td>\n",
       "      <td>False</td>\n",
       "    </tr>\n",
       "    <tr>\n",
       "      <th>30</th>\n",
       "      <td>0.359272</td>\n",
       "      <td>1.177028</td>\n",
       "      <td>dummy_constant</td>\n",
       "      <td>0.359272</td>\n",
       "      <td>0.511705</td>\n",
       "      <td>0.478172</td>\n",
       "      <td>0.000029</td>\n",
       "      <td>False</td>\n",
       "    </tr>\n",
       "    <tr>\n",
       "      <th>31</th>\n",
       "      <td>0.576719</td>\n",
       "      <td>0.857147</td>\n",
       "      <td>dummy_constant</td>\n",
       "      <td>0.576719</td>\n",
       "      <td>0.167174</td>\n",
       "      <td>0.133440</td>\n",
       "      <td>0.000027</td>\n",
       "      <td>False</td>\n",
       "    </tr>\n",
       "  </tbody>\n",
       "</table>\n",
       "</div>"
      ],
      "text/plain": [
       "          x1        x2               a        y1        c1        c2  \\\n",
       "0   1.000000  0.700000  dummy_constant  1.000000  0.584045  0.290000   \n",
       "1   0.750000  0.950000  dummy_constant  0.750000  0.494833  0.265000   \n",
       "2   1.535397  1.735397  dummy_constant       NaN  4.313110  2.598255   \n",
       "3   2.320795  0.950000  dummy_constant       NaN  5.188811  3.517794   \n",
       "4   1.790046  0.164602  dummy_constant       NaN  2.221010  1.776709   \n",
       "5   1.004648  0.000000  dummy_constant       NaN -0.090682  0.504670   \n",
       "6   0.219251  0.773192  dummy_constant       NaN -0.325374  0.153454   \n",
       "7   0.000000  1.558590  dummy_constant       NaN  1.329202  1.370612   \n",
       "8   0.402725  1.060374  dummy_constant  0.402725  0.197684  0.323482   \n",
       "9   1.055075  0.327093  dummy_constant  1.055075  0.210432  0.338005   \n",
       "10  0.806596  0.664916  dummy_constant  0.806596  0.089209  0.121198   \n",
       "11  0.136000  1.035106  dummy_constant  0.136000  0.139580  0.418835   \n",
       "12  0.000000  0.943646  dummy_constant       NaN -0.209532  0.446822   \n",
       "13  0.785397  1.087733  dummy_constant  0.785397  0.883595  0.426882   \n",
       "14  1.120771  0.723550  dummy_constant  1.120771  0.876480  0.435332   \n",
       "15  0.504340  1.174372  dummy_constant  0.504340  0.535645  0.454797   \n",
       "16  1.168071  0.388975  dummy_constant  1.168071  0.473921  0.458645   \n",
       "17  1.001111  0.953995  dummy_constant  1.001111  0.819670  0.457224   \n",
       "18  1.166144  0.663365  dummy_constant  1.166144  0.840836  0.470436   \n",
       "19  0.620039  1.177578  dummy_constant  0.620039  0.761199  0.473521   \n",
       "20  0.691274  0.790811  dummy_constant  0.691274  0.055487  0.121157   \n",
       "21  1.081794  0.144118  dummy_constant  1.081794  0.243170  0.465137   \n",
       "22  0.937853  0.469477  dummy_constant  0.937853  0.058462  0.192647   \n",
       "23  0.159459  1.095667  dummy_constant  0.159459  0.293456  0.470787   \n",
       "24  0.534480  0.906628  dummy_constant  0.534480  0.169657  0.166535   \n",
       "25  0.965631  1.010766  dummy_constant  0.965631  0.860690  0.477694   \n",
       "26  1.185489  0.402853  dummy_constant  1.185489  0.517221  0.479333   \n",
       "27  1.129548  0.789320  dummy_constant  1.129548  0.993384  0.480037   \n",
       "28  1.062919  0.092044  dummy_constant  1.062919  0.119508  0.483306   \n",
       "29  0.901712  0.521032  dummy_constant  0.901712  0.135051  0.161815   \n",
       "30  0.359272  1.177028  dummy_constant  0.359272  0.511705  0.478172   \n",
       "31  0.576719  0.857147  dummy_constant  0.576719  0.167174  0.133440   \n",
       "\n",
       "    xopt_runtime  xopt_error  \n",
       "0       0.000054       False  \n",
       "1       0.000018       False  \n",
       "2       0.000032       False  \n",
       "3       0.000028       False  \n",
       "4       0.000029       False  \n",
       "5       0.000027       False  \n",
       "6       0.000031       False  \n",
       "7       0.000030       False  \n",
       "8       0.000034       False  \n",
       "9       0.000029       False  \n",
       "10      0.000029       False  \n",
       "11      0.000028       False  \n",
       "12      0.000030       False  \n",
       "13      0.000030       False  \n",
       "14      0.000031       False  \n",
       "15      0.000029       False  \n",
       "16      0.000028       False  \n",
       "17      0.000028       False  \n",
       "18      0.000032       False  \n",
       "19      0.000029       False  \n",
       "20      0.000029       False  \n",
       "21      0.000029       False  \n",
       "22      0.000048       False  \n",
       "23      0.000030       False  \n",
       "24      0.000029       False  \n",
       "25      0.000032       False  \n",
       "26      0.000031       False  \n",
       "27      0.000027       False  \n",
       "28      0.000029       False  \n",
       "29      0.000028       False  \n",
       "30      0.000029       False  \n",
       "31      0.000027       False  "
      ]
     },
     "execution_count": 6,
     "metadata": {},
     "output_type": "execute_result"
    }
   ],
   "source": [
    "# view the data\n",
    "X.data"
   ]
  },
  {
   "cell_type": "code",
   "execution_count": 7,
   "metadata": {
    "ExecuteTime": {
     "end_time": "2023-06-14T15:42:06.400652600Z",
     "start_time": "2023-06-14T15:42:05.787612700Z"
    },
    "execution": {
     "iopub.execute_input": "2024-03-20T15:34:26.780966Z",
     "iopub.status.busy": "2024-03-20T15:34:26.780576Z",
     "iopub.status.idle": "2024-03-20T15:34:27.175179Z",
     "shell.execute_reply": "2024-03-20T15:34:27.174578Z"
    }
   },
   "outputs": [
    {
     "data": {
      "image/png": "[encoded data removed]",
      "text/plain": [
       "<Figure size 640x480 with 1 Axes>"
      ]
     },
     "metadata": {},
     "output_type": "display_data"
    }
   ],
   "source": [
    "# plot results\n",
    "ax = X.data.plot(\"x1\", \"x2\")\n",
    "ax.set_aspect(\"equal\")"
   ]
  },
  {
   "cell_type": "code",
   "execution_count": 7,
   "metadata": {
    "ExecuteTime": {
     "end_time": "2023-06-14T15:42:06.419648600Z",
     "start_time": "2023-06-14T15:42:06.401622Z"
    }
   },
   "outputs": [],
   "source": []
  }
 ],
 "metadata": {
  "kernelspec": {
   "display_name": "Python 3 (ipykernel)",
   "language": "python",
   "name": "python3"
  },
  "language_info": {
   "codemirror_mode": {
    "name": "ipython",
    "version": 3
   },
   "file_extension": ".py",
   "mimetype": "text/x-python",
   "name": "python",
   "nbconvert_exporter": "python",
   "pygments_lexer": "ipython3",
   "version": "3.9.19"
  }
 },
 "nbformat": 4,
 "nbformat_minor": 4
}
