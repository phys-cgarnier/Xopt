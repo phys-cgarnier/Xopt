{
 "cells": [
  {
   "cell_type": "markdown",
   "metadata": {},
   "source": [
    "# Bayesian Exploration with NaNs\n",
    "\n",
    "As violations of constraints can lead to invalid values of the objective, the evaluate function may simply return NaNs. We demonstrate below how we can still perform Bayesian Exploration in that case."
   ]
  },
  {
   "cell_type": "code",
   "execution_count": 1,
   "metadata": {
    "ExecuteTime": {
     "end_time": "2023-06-14T15:37:25.535638700Z",
     "start_time": "2023-06-14T15:37:22.379218300Z"
    },
    "execution": {
     "iopub.execute_input": "2024-01-23T15:29:03.515366Z",
     "iopub.status.busy": "2024-01-23T15:29:03.515185Z",
     "iopub.status.idle": "2024-01-23T15:29:05.630502Z",
     "shell.execute_reply": "2024-01-23T15:29:05.629816Z"
    }
   },
   "outputs": [],
   "source": [
    "# set values if testing\n",
    "import os\n",
    "SMOKE_TEST = os.environ.get(\"SMOKE_TEST\")\n",
    "NUM_MC_SAMPLES = 1 if SMOKE_TEST else 128\n",
    "NUM_RESTARTS = 1 if SMOKE_TEST else 20\n",
    "\n",
    "# Ignore all warnings\n",
    "import warnings\n",
    "warnings.filterwarnings(\"ignore\")\n",
    "\n",
    "import pandas as pd\n",
    "import torch\n",
    "import yaml\n",
    "from copy import deepcopy\n",
    "from xopt import Xopt, Evaluator\n",
    "from xopt.generators.bayesian import BayesianExplorationGenerator\n",
    "from xopt.resources.test_functions.tnk import evaluate_TNK, tnk_vocs\n",
    "\n",
    "vocs = deepcopy(tnk_vocs)\n",
    "vocs.objectives = {}\n",
    "vocs.observables = [\"y1\"]"
   ]
  },
  {
   "cell_type": "code",
   "execution_count": 2,
   "metadata": {
    "ExecuteTime": {
     "end_time": "2023-06-14T15:37:25.549637200Z",
     "start_time": "2023-06-14T15:37:25.539666500Z"
    },
    "execution": {
     "iopub.execute_input": "2024-01-23T15:29:05.633788Z",
     "iopub.status.busy": "2024-01-23T15:29:05.633158Z",
     "iopub.status.idle": "2024-01-23T15:29:05.637492Z",
     "shell.execute_reply": "2024-01-23T15:29:05.636913Z"
    }
   },
   "outputs": [],
   "source": [
    "# modify the evaluate function to return NaNs if constraints are violated\n",
    "def evaluate(input_dict):\n",
    "    output_dict = evaluate_TNK(input_dict)\n",
    "    del output_dict[\"y2\"]\n",
    "    for c in vocs.constraints.keys():\n",
    "        if vocs.constraints[c][0].upper() == \"GREATER_THAN\" and output_dict[c] <= vocs.constraints[c][1]:\n",
    "            output_dict[\"y1\"] = torch.nan\n",
    "        elif vocs.constraints[c][0].upper() == \"LESS_THAN\" and output_dict[c] >= vocs.constraints[c][1]:\n",
    "            output_dict[\"y1\"] = torch.nan\n",
    "    return output_dict"
   ]
  },
  {
   "cell_type": "code",
   "execution_count": 3,
   "metadata": {
    "ExecuteTime": {
     "end_time": "2023-06-14T15:37:25.580538800Z",
     "start_time": "2023-06-14T15:37:25.552636600Z"
    },
    "execution": {
     "iopub.execute_input": "2024-01-23T15:29:05.639745Z",
     "iopub.status.busy": "2024-01-23T15:29:05.639393Z",
     "iopub.status.idle": "2024-01-23T15:29:05.653838Z",
     "shell.execute_reply": "2024-01-23T15:29:05.653256Z"
    }
   },
   "outputs": [
    {
     "data": {
      "text/plain": [
       "\n",
       "            Xopt\n",
       "________________________________\n",
       "Version: 0+untagged.1.gf180cd8\n",
       "Data size: 0\n",
       "Config as YAML:\n",
       "dump_file: null\n",
       "evaluator:\n",
       "  function: __main__.evaluate\n",
       "  function_kwargs: {}\n",
       "  max_workers: 1\n",
       "  vectorized: false\n",
       "generator:\n",
       "  computation_time: null\n",
       "  fixed_features: null\n",
       "  gp_constructor:\n",
       "    covar_modules: {}\n",
       "    mean_modules: {}\n",
       "    name: standard\n",
       "    trainable_mean_keys: []\n",
       "    use_low_noise_prior: true\n",
       "  log_transform_acquisition_function: false\n",
       "  max_travel_distances:\n",
       "  - 0.25\n",
       "  - 0.25\n",
       "  model: null\n",
       "  n_candidates: 1\n",
       "  n_interpolate_points: null\n",
       "  n_monte_carlo_samples: 128\n",
       "  name: bayesian_exploration\n",
       "  numerical_optimizer:\n",
       "    max_iter: 2000\n",
       "    max_time: null\n",
       "    n_restarts: 20\n",
       "    name: LBFGS\n",
       "  supports_batch_generation: true\n",
       "  turbo_controller: null\n",
       "  use_cuda: false\n",
       "max_evaluations: null\n",
       "serialize_inline: false\n",
       "serialize_torch: false\n",
       "strict: true\n",
       "vocs:\n",
       "  constants:\n",
       "    a: dummy_constant\n",
       "  constraints:\n",
       "    c1:\n",
       "    - GREATER_THAN\n",
       "    - 0.0\n",
       "    c2:\n",
       "    - LESS_THAN\n",
       "    - 0.5\n",
       "  objectives: {}\n",
       "  observables:\n",
       "  - y1\n",
       "  variables:\n",
       "    x1:\n",
       "    - 0.0\n",
       "    - 3.14159\n",
       "    x2:\n",
       "    - 0.0\n",
       "    - 3.14159\n"
      ]
     },
     "execution_count": 3,
     "metadata": {},
     "output_type": "execute_result"
    }
   ],
   "source": [
    "generator = BayesianExplorationGenerator(vocs=vocs)\n",
    "generator.max_travel_distances = [0.25, 0.25]\n",
    "generator.n_monte_carlo_samples = NUM_MC_SAMPLES\n",
    "generator.numerical_optimizer.n_restarts = NUM_RESTARTS\n",
    "\n",
    "evaluator = Evaluator(function=evaluate)\n",
    "X = Xopt(generator=generator, evaluator=evaluator, vocs=vocs)\n",
    "X"
   ]
  },
  {
   "cell_type": "markdown",
   "metadata": {},
   "source": [
    "## Run exploration\n",
    "We start with evaluating 2 points that we know satisfy the constraints. We then run\n",
    "30 exploration steps."
   ]
  },
  {
   "cell_type": "code",
   "execution_count": 4,
   "metadata": {
    "ExecuteTime": {
     "end_time": "2023-06-14T15:37:25.638907100Z",
     "start_time": "2023-06-14T15:37:25.582541Z"
    },
    "execution": {
     "iopub.execute_input": "2024-01-23T15:29:05.683384Z",
     "iopub.status.busy": "2024-01-23T15:29:05.683022Z",
     "iopub.status.idle": "2024-01-23T15:29:05.695238Z",
     "shell.execute_reply": "2024-01-23T15:29:05.694781Z"
    }
   },
   "outputs": [
    {
     "data": {
      "text/html": [
       "<div>\n",
       "<style scoped>\n",
       "    .dataframe tbody tr th:only-of-type {\n",
       "        vertical-align: middle;\n",
       "    }\n",
       "\n",
       "    .dataframe tbody tr th {\n",
       "        vertical-align: top;\n",
       "    }\n",
       "\n",
       "    .dataframe thead th {\n",
       "        text-align: right;\n",
       "    }\n",
       "</style>\n",
       "<table border=\"1\" class=\"dataframe\">\n",
       "  <thead>\n",
       "    <tr style=\"text-align: right;\">\n",
       "      <th></th>\n",
       "      <th>x1</th>\n",
       "      <th>x2</th>\n",
       "      <th>a</th>\n",
       "      <th>y1</th>\n",
       "      <th>c1</th>\n",
       "      <th>c2</th>\n",
       "      <th>xopt_runtime</th>\n",
       "      <th>xopt_error</th>\n",
       "    </tr>\n",
       "  </thead>\n",
       "  <tbody>\n",
       "    <tr>\n",
       "      <th>0</th>\n",
       "      <td>1.00</td>\n",
       "      <td>0.70</td>\n",
       "      <td>dummy_constant</td>\n",
       "      <td>1.00</td>\n",
       "      <td>0.584045</td>\n",
       "      <td>0.290</td>\n",
       "      <td>0.00004</td>\n",
       "      <td>False</td>\n",
       "    </tr>\n",
       "    <tr>\n",
       "      <th>1</th>\n",
       "      <td>0.75</td>\n",
       "      <td>0.95</td>\n",
       "      <td>dummy_constant</td>\n",
       "      <td>0.75</td>\n",
       "      <td>0.494833</td>\n",
       "      <td>0.265</td>\n",
       "      <td>0.00001</td>\n",
       "      <td>False</td>\n",
       "    </tr>\n",
       "  </tbody>\n",
       "</table>\n",
       "</div>"
      ],
      "text/plain": [
       "     x1    x2               a    y1        c1     c2  xopt_runtime  xopt_error\n",
       "0  1.00  0.70  dummy_constant  1.00  0.584045  0.290       0.00004       False\n",
       "1  0.75  0.95  dummy_constant  0.75  0.494833  0.265       0.00001       False"
      ]
     },
     "execution_count": 4,
     "metadata": {},
     "output_type": "execute_result"
    }
   ],
   "source": [
    "X.evaluate_data(pd.DataFrame({\"x1\": [1.0, 0.75], \"x2\": [0.7, 0.95]}))"
   ]
  },
  {
   "cell_type": "code",
   "execution_count": 5,
   "metadata": {
    "ExecuteTime": {
     "end_time": "2023-06-14T15:42:05.755461900Z",
     "start_time": "2023-06-14T15:37:25.611873400Z"
    },
    "execution": {
     "iopub.execute_input": "2024-01-23T15:29:05.697452Z",
     "iopub.status.busy": "2024-01-23T15:29:05.697013Z",
     "iopub.status.idle": "2024-01-23T15:30:28.515676Z",
     "shell.execute_reply": "2024-01-23T15:30:28.515022Z"
    },
    "scrolled": false
   },
   "outputs": [
    {
     "name": "stdout",
     "output_type": "stream",
     "text": [
      "step 0\n"
     ]
    },
    {
     "name": "stdout",
     "output_type": "stream",
     "text": [
      "step 1\n"
     ]
    },
    {
     "name": "stdout",
     "output_type": "stream",
     "text": [
      "step 2\n"
     ]
    },
    {
     "name": "stdout",
     "output_type": "stream",
     "text": [
      "step 3\n"
     ]
    },
    {
     "name": "stdout",
     "output_type": "stream",
     "text": [
      "step 4\n"
     ]
    },
    {
     "name": "stdout",
     "output_type": "stream",
     "text": [
      "step 5\n"
     ]
    },
    {
     "name": "stdout",
     "output_type": "stream",
     "text": [
      "step 6\n"
     ]
    },
    {
     "name": "stdout",
     "output_type": "stream",
     "text": [
      "step 7\n"
     ]
    },
    {
     "name": "stdout",
     "output_type": "stream",
     "text": [
      "step 8\n"
     ]
    },
    {
     "name": "stdout",
     "output_type": "stream",
     "text": [
      "step 9\n"
     ]
    },
    {
     "name": "stdout",
     "output_type": "stream",
     "text": [
      "step 10\n"
     ]
    },
    {
     "name": "stdout",
     "output_type": "stream",
     "text": [
      "step 11\n"
     ]
    },
    {
     "name": "stdout",
     "output_type": "stream",
     "text": [
      "step 12\n"
     ]
    },
    {
     "name": "stdout",
     "output_type": "stream",
     "text": [
      "step 13\n"
     ]
    },
    {
     "name": "stdout",
     "output_type": "stream",
     "text": [
      "step 14\n"
     ]
    },
    {
     "name": "stdout",
     "output_type": "stream",
     "text": [
      "step 15\n"
     ]
    },
    {
     "name": "stdout",
     "output_type": "stream",
     "text": [
      "step 16\n"
     ]
    },
    {
     "name": "stdout",
     "output_type": "stream",
     "text": [
      "step 17\n"
     ]
    },
    {
     "name": "stdout",
     "output_type": "stream",
     "text": [
      "step 18\n"
     ]
    },
    {
     "name": "stdout",
     "output_type": "stream",
     "text": [
      "step 19\n"
     ]
    },
    {
     "name": "stdout",
     "output_type": "stream",
     "text": [
      "step 20\n"
     ]
    },
    {
     "name": "stdout",
     "output_type": "stream",
     "text": [
      "step 21\n"
     ]
    },
    {
     "name": "stdout",
     "output_type": "stream",
     "text": [
      "step 22\n"
     ]
    },
    {
     "name": "stdout",
     "output_type": "stream",
     "text": [
      "step 23\n"
     ]
    },
    {
     "name": "stdout",
     "output_type": "stream",
     "text": [
      "step 24\n"
     ]
    },
    {
     "name": "stdout",
     "output_type": "stream",
     "text": [
      "step 25\n"
     ]
    },
    {
     "name": "stdout",
     "output_type": "stream",
     "text": [
      "step 26\n"
     ]
    },
    {
     "name": "stdout",
     "output_type": "stream",
     "text": [
      "step 27\n"
     ]
    },
    {
     "name": "stdout",
     "output_type": "stream",
     "text": [
      "step 28\n"
     ]
    },
    {
     "name": "stdout",
     "output_type": "stream",
     "text": [
      "step 29\n"
     ]
    }
   ],
   "source": [
    "N_STEPS = 1 if SMOKE_TEST else 30\n",
    "for i in range(N_STEPS):\n",
    "    print(f\"step {i}\")\n",
    "    X.step()"
   ]
  },
  {
   "cell_type": "code",
   "execution_count": 6,
   "metadata": {
    "ExecuteTime": {
     "end_time": "2023-06-14T15:42:05.786611100Z",
     "start_time": "2023-06-14T15:42:05.773463300Z"
    },
    "execution": {
     "iopub.execute_input": "2024-01-23T15:30:28.518643Z",
     "iopub.status.busy": "2024-01-23T15:30:28.518274Z",
     "iopub.status.idle": "2024-01-23T15:30:28.533133Z",
     "shell.execute_reply": "2024-01-23T15:30:28.532564Z"
    }
   },
   "outputs": [
    {
     "data": {
      "text/html": [
       "<div>\n",
       "<style scoped>\n",
       "    .dataframe tbody tr th:only-of-type {\n",
       "        vertical-align: middle;\n",
       "    }\n",
       "\n",
       "    .dataframe tbody tr th {\n",
       "        vertical-align: top;\n",
       "    }\n",
       "\n",
       "    .dataframe thead th {\n",
       "        text-align: right;\n",
       "    }\n",
       "</style>\n",
       "<table border=\"1\" class=\"dataframe\">\n",
       "  <thead>\n",
       "    <tr style=\"text-align: right;\">\n",
       "      <th></th>\n",
       "      <th>x1</th>\n",
       "      <th>x2</th>\n",
       "      <th>a</th>\n",
       "      <th>y1</th>\n",
       "      <th>c1</th>\n",
       "      <th>c2</th>\n",
       "      <th>xopt_runtime</th>\n",
       "      <th>xopt_error</th>\n",
       "    </tr>\n",
       "  </thead>\n",
       "  <tbody>\n",
       "    <tr>\n",
       "      <th>0</th>\n",
       "      <td>1.000000</td>\n",
       "      <td>0.700000</td>\n",
       "      <td>dummy_constant</td>\n",
       "      <td>1.000000</td>\n",
       "      <td>0.584045</td>\n",
       "      <td>0.290000</td>\n",
       "      <td>0.000040</td>\n",
       "      <td>False</td>\n",
       "    </tr>\n",
       "    <tr>\n",
       "      <th>1</th>\n",
       "      <td>0.750000</td>\n",
       "      <td>0.950000</td>\n",
       "      <td>dummy_constant</td>\n",
       "      <td>0.750000</td>\n",
       "      <td>0.494833</td>\n",
       "      <td>0.265000</td>\n",
       "      <td>0.000010</td>\n",
       "      <td>False</td>\n",
       "    </tr>\n",
       "    <tr>\n",
       "      <th>2</th>\n",
       "      <td>1.535397</td>\n",
       "      <td>1.735397</td>\n",
       "      <td>dummy_constant</td>\n",
       "      <td>NaN</td>\n",
       "      <td>4.313110</td>\n",
       "      <td>2.598255</td>\n",
       "      <td>0.000027</td>\n",
       "      <td>False</td>\n",
       "    </tr>\n",
       "    <tr>\n",
       "      <th>3</th>\n",
       "      <td>2.320795</td>\n",
       "      <td>0.950000</td>\n",
       "      <td>dummy_constant</td>\n",
       "      <td>NaN</td>\n",
       "      <td>5.188811</td>\n",
       "      <td>3.517794</td>\n",
       "      <td>0.000030</td>\n",
       "      <td>False</td>\n",
       "    </tr>\n",
       "    <tr>\n",
       "      <th>4</th>\n",
       "      <td>1.811066</td>\n",
       "      <td>0.164602</td>\n",
       "      <td>dummy_constant</td>\n",
       "      <td>NaN</td>\n",
       "      <td>2.295026</td>\n",
       "      <td>1.831386</td>\n",
       "      <td>0.000028</td>\n",
       "      <td>False</td>\n",
       "    </tr>\n",
       "    <tr>\n",
       "      <th>5</th>\n",
       "      <td>1.025669</td>\n",
       "      <td>0.000000</td>\n",
       "      <td>dummy_constant</td>\n",
       "      <td>NaN</td>\n",
       "      <td>-0.048003</td>\n",
       "      <td>0.526328</td>\n",
       "      <td>0.000028</td>\n",
       "      <td>False</td>\n",
       "    </tr>\n",
       "    <tr>\n",
       "      <th>6</th>\n",
       "      <td>0.240271</td>\n",
       "      <td>0.781632</td>\n",
       "      <td>dummy_constant</td>\n",
       "      <td>NaN</td>\n",
       "      <td>-0.337245</td>\n",
       "      <td>0.146776</td>\n",
       "      <td>0.000028</td>\n",
       "      <td>False</td>\n",
       "    </tr>\n",
       "    <tr>\n",
       "      <th>7</th>\n",
       "      <td>0.000000</td>\n",
       "      <td>1.567030</td>\n",
       "      <td>dummy_constant</td>\n",
       "      <td>NaN</td>\n",
       "      <td>1.355582</td>\n",
       "      <td>1.388552</td>\n",
       "      <td>0.000029</td>\n",
       "      <td>False</td>\n",
       "    </tr>\n",
       "    <tr>\n",
       "      <th>8</th>\n",
       "      <td>0.390193</td>\n",
       "      <td>1.045635</td>\n",
       "      <td>dummy_constant</td>\n",
       "      <td>0.390193</td>\n",
       "      <td>0.161339</td>\n",
       "      <td>0.309775</td>\n",
       "      <td>0.000028</td>\n",
       "      <td>False</td>\n",
       "    </tr>\n",
       "    <tr>\n",
       "      <th>9</th>\n",
       "      <td>1.055447</td>\n",
       "      <td>0.313597</td>\n",
       "      <td>dummy_constant</td>\n",
       "      <td>1.055447</td>\n",
       "      <td>0.221435</td>\n",
       "      <td>0.343268</td>\n",
       "      <td>0.000029</td>\n",
       "      <td>False</td>\n",
       "    </tr>\n",
       "    <tr>\n",
       "      <th>10</th>\n",
       "      <td>0.814001</td>\n",
       "      <td>0.658440</td>\n",
       "      <td>dummy_constant</td>\n",
       "      <td>0.814001</td>\n",
       "      <td>0.107451</td>\n",
       "      <td>0.123700</td>\n",
       "      <td>0.000028</td>\n",
       "      <td>False</td>\n",
       "    </tr>\n",
       "    <tr>\n",
       "      <th>11</th>\n",
       "      <td>0.146789</td>\n",
       "      <td>1.037311</td>\n",
       "      <td>dummy_constant</td>\n",
       "      <td>0.146789</td>\n",
       "      <td>0.160318</td>\n",
       "      <td>0.413461</td>\n",
       "      <td>0.000030</td>\n",
       "      <td>False</td>\n",
       "    </tr>\n",
       "    <tr>\n",
       "      <th>12</th>\n",
       "      <td>0.000000</td>\n",
       "      <td>0.946341</td>\n",
       "      <td>dummy_constant</td>\n",
       "      <td>NaN</td>\n",
       "      <td>-0.204438</td>\n",
       "      <td>0.449221</td>\n",
       "      <td>0.000029</td>\n",
       "      <td>False</td>\n",
       "    </tr>\n",
       "    <tr>\n",
       "      <th>13</th>\n",
       "      <td>0.755995</td>\n",
       "      <td>1.096546</td>\n",
       "      <td>dummy_constant</td>\n",
       "      <td>0.755995</td>\n",
       "      <td>0.871244</td>\n",
       "      <td>0.421401</td>\n",
       "      <td>0.000028</td>\n",
       "      <td>False</td>\n",
       "    </tr>\n",
       "    <tr>\n",
       "      <th>14</th>\n",
       "      <td>1.121265</td>\n",
       "      <td>0.722044</td>\n",
       "      <td>dummy_constant</td>\n",
       "      <td>1.121265</td>\n",
       "      <td>0.874935</td>\n",
       "      <td>0.435274</td>\n",
       "      <td>0.000028</td>\n",
       "      <td>False</td>\n",
       "    </tr>\n",
       "    <tr>\n",
       "      <th>15</th>\n",
       "      <td>0.496395</td>\n",
       "      <td>1.174157</td>\n",
       "      <td>dummy_constant</td>\n",
       "      <td>0.496395</td>\n",
       "      <td>0.525731</td>\n",
       "      <td>0.454501</td>\n",
       "      <td>0.000029</td>\n",
       "      <td>False</td>\n",
       "    </tr>\n",
       "    <tr>\n",
       "      <th>16</th>\n",
       "      <td>0.986401</td>\n",
       "      <td>0.964344</td>\n",
       "      <td>dummy_constant</td>\n",
       "      <td>0.986401</td>\n",
       "      <td>0.804578</td>\n",
       "      <td>0.452201</td>\n",
       "      <td>0.000028</td>\n",
       "      <td>False</td>\n",
       "    </tr>\n",
       "    <tr>\n",
       "      <th>17</th>\n",
       "      <td>1.172316</td>\n",
       "      <td>0.413045</td>\n",
       "      <td>dummy_constant</td>\n",
       "      <td>1.172316</td>\n",
       "      <td>0.479927</td>\n",
       "      <td>0.459569</td>\n",
       "      <td>0.000028</td>\n",
       "      <td>False</td>\n",
       "    </tr>\n",
       "    <tr>\n",
       "      <th>18</th>\n",
       "      <td>0.595113</td>\n",
       "      <td>1.182015</td>\n",
       "      <td>dummy_constant</td>\n",
       "      <td>0.595113</td>\n",
       "      <td>0.713187</td>\n",
       "      <td>0.474191</td>\n",
       "      <td>0.000029</td>\n",
       "      <td>False</td>\n",
       "    </tr>\n",
       "    <tr>\n",
       "      <th>19</th>\n",
       "      <td>1.155768</td>\n",
       "      <td>0.708325</td>\n",
       "      <td>dummy_constant</td>\n",
       "      <td>1.155768</td>\n",
       "      <td>0.918466</td>\n",
       "      <td>0.473431</td>\n",
       "      <td>0.000030</td>\n",
       "      <td>False</td>\n",
       "    </tr>\n",
       "    <tr>\n",
       "      <th>20</th>\n",
       "      <td>0.889554</td>\n",
       "      <td>0.544401</td>\n",
       "      <td>dummy_constant</td>\n",
       "      <td>0.889554</td>\n",
       "      <td>0.168025</td>\n",
       "      <td>0.153724</td>\n",
       "      <td>0.000030</td>\n",
       "      <td>False</td>\n",
       "    </tr>\n",
       "    <tr>\n",
       "      <th>21</th>\n",
       "      <td>1.081273</td>\n",
       "      <td>0.140915</td>\n",
       "      <td>dummy_constant</td>\n",
       "      <td>1.081273</td>\n",
       "      <td>0.237187</td>\n",
       "      <td>0.466820</td>\n",
       "      <td>0.000028</td>\n",
       "      <td>False</td>\n",
       "    </tr>\n",
       "    <tr>\n",
       "      <th>22</th>\n",
       "      <td>0.641795</td>\n",
       "      <td>0.824309</td>\n",
       "      <td>dummy_constant</td>\n",
       "      <td>0.641795</td>\n",
       "      <td>0.131322</td>\n",
       "      <td>0.125282</td>\n",
       "      <td>0.000030</td>\n",
       "      <td>False</td>\n",
       "    </tr>\n",
       "    <tr>\n",
       "      <th>23</th>\n",
       "      <td>0.243456</td>\n",
       "      <td>1.135186</td>\n",
       "      <td>dummy_constant</td>\n",
       "      <td>0.243456</td>\n",
       "      <td>0.445084</td>\n",
       "      <td>0.469276</td>\n",
       "      <td>0.000029</td>\n",
       "      <td>False</td>\n",
       "    </tr>\n",
       "    <tr>\n",
       "      <th>24</th>\n",
       "      <td>0.936135</td>\n",
       "      <td>1.034956</td>\n",
       "      <td>dummy_constant</td>\n",
       "      <td>0.936135</td>\n",
       "      <td>0.877918</td>\n",
       "      <td>0.476391</td>\n",
       "      <td>0.000027</td>\n",
       "      <td>False</td>\n",
       "    </tr>\n",
       "    <tr>\n",
       "      <th>25</th>\n",
       "      <td>1.184654</td>\n",
       "      <td>0.393987</td>\n",
       "      <td>dummy_constant</td>\n",
       "      <td>1.184654</td>\n",
       "      <td>0.517427</td>\n",
       "      <td>0.479991</td>\n",
       "      <td>0.000039</td>\n",
       "      <td>False</td>\n",
       "    </tr>\n",
       "    <tr>\n",
       "      <th>26</th>\n",
       "      <td>1.061108</td>\n",
       "      <td>0.089772</td>\n",
       "      <td>dummy_constant</td>\n",
       "      <td>1.061108</td>\n",
       "      <td>0.112148</td>\n",
       "      <td>0.483129</td>\n",
       "      <td>0.000029</td>\n",
       "      <td>False</td>\n",
       "    </tr>\n",
       "    <tr>\n",
       "      <th>27</th>\n",
       "      <td>0.925936</td>\n",
       "      <td>0.437951</td>\n",
       "      <td>dummy_constant</td>\n",
       "      <td>NaN</td>\n",
       "      <td>-0.021536</td>\n",
       "      <td>0.185271</td>\n",
       "      <td>0.000028</td>\n",
       "      <td>False</td>\n",
       "    </tr>\n",
       "    <tr>\n",
       "      <th>28</th>\n",
       "      <td>0.140538</td>\n",
       "      <td>1.091776</td>\n",
       "      <td>dummy_constant</td>\n",
       "      <td>0.140538</td>\n",
       "      <td>0.257684</td>\n",
       "      <td>0.479412</td>\n",
       "      <td>0.000028</td>\n",
       "      <td>False</td>\n",
       "    </tr>\n",
       "    <tr>\n",
       "      <th>29</th>\n",
       "      <td>0.569623</td>\n",
       "      <td>0.869133</td>\n",
       "      <td>dummy_constant</td>\n",
       "      <td>0.569623</td>\n",
       "      <td>0.178852</td>\n",
       "      <td>0.141107</td>\n",
       "      <td>0.000028</td>\n",
       "      <td>False</td>\n",
       "    </tr>\n",
       "    <tr>\n",
       "      <th>30</th>\n",
       "      <td>0.675620</td>\n",
       "      <td>1.172351</td>\n",
       "      <td>dummy_constant</td>\n",
       "      <td>0.675620</td>\n",
       "      <td>0.879767</td>\n",
       "      <td>0.482898</td>\n",
       "      <td>0.000028</td>\n",
       "      <td>False</td>\n",
       "    </tr>\n",
       "    <tr>\n",
       "      <th>31</th>\n",
       "      <td>1.102900</td>\n",
       "      <td>0.842360</td>\n",
       "      <td>dummy_constant</td>\n",
       "      <td>1.102900</td>\n",
       "      <td>0.979036</td>\n",
       "      <td>0.480699</td>\n",
       "      <td>0.000029</td>\n",
       "      <td>False</td>\n",
       "    </tr>\n",
       "  </tbody>\n",
       "</table>\n",
       "</div>"
      ],
      "text/plain": [
       "          x1        x2               a        y1        c1        c2  \\\n",
       "0   1.000000  0.700000  dummy_constant  1.000000  0.584045  0.290000   \n",
       "1   0.750000  0.950000  dummy_constant  0.750000  0.494833  0.265000   \n",
       "2   1.535397  1.735397  dummy_constant       NaN  4.313110  2.598255   \n",
       "3   2.320795  0.950000  dummy_constant       NaN  5.188811  3.517794   \n",
       "4   1.811066  0.164602  dummy_constant       NaN  2.295026  1.831386   \n",
       "5   1.025669  0.000000  dummy_constant       NaN -0.048003  0.526328   \n",
       "6   0.240271  0.781632  dummy_constant       NaN -0.337245  0.146776   \n",
       "7   0.000000  1.567030  dummy_constant       NaN  1.355582  1.388552   \n",
       "8   0.390193  1.045635  dummy_constant  0.390193  0.161339  0.309775   \n",
       "9   1.055447  0.313597  dummy_constant  1.055447  0.221435  0.343268   \n",
       "10  0.814001  0.658440  dummy_constant  0.814001  0.107451  0.123700   \n",
       "11  0.146789  1.037311  dummy_constant  0.146789  0.160318  0.413461   \n",
       "12  0.000000  0.946341  dummy_constant       NaN -0.204438  0.449221   \n",
       "13  0.755995  1.096546  dummy_constant  0.755995  0.871244  0.421401   \n",
       "14  1.121265  0.722044  dummy_constant  1.121265  0.874935  0.435274   \n",
       "15  0.496395  1.174157  dummy_constant  0.496395  0.525731  0.454501   \n",
       "16  0.986401  0.964344  dummy_constant  0.986401  0.804578  0.452201   \n",
       "17  1.172316  0.413045  dummy_constant  1.172316  0.479927  0.459569   \n",
       "18  0.595113  1.182015  dummy_constant  0.595113  0.713187  0.474191   \n",
       "19  1.155768  0.708325  dummy_constant  1.155768  0.918466  0.473431   \n",
       "20  0.889554  0.544401  dummy_constant  0.889554  0.168025  0.153724   \n",
       "21  1.081273  0.140915  dummy_constant  1.081273  0.237187  0.466820   \n",
       "22  0.641795  0.824309  dummy_constant  0.641795  0.131322  0.125282   \n",
       "23  0.243456  1.135186  dummy_constant  0.243456  0.445084  0.469276   \n",
       "24  0.936135  1.034956  dummy_constant  0.936135  0.877918  0.476391   \n",
       "25  1.184654  0.393987  dummy_constant  1.184654  0.517427  0.479991   \n",
       "26  1.061108  0.089772  dummy_constant  1.061108  0.112148  0.483129   \n",
       "27  0.925936  0.437951  dummy_constant       NaN -0.021536  0.185271   \n",
       "28  0.140538  1.091776  dummy_constant  0.140538  0.257684  0.479412   \n",
       "29  0.569623  0.869133  dummy_constant  0.569623  0.178852  0.141107   \n",
       "30  0.675620  1.172351  dummy_constant  0.675620  0.879767  0.482898   \n",
       "31  1.102900  0.842360  dummy_constant  1.102900  0.979036  0.480699   \n",
       "\n",
       "    xopt_runtime  xopt_error  \n",
       "0       0.000040       False  \n",
       "1       0.000010       False  \n",
       "2       0.000027       False  \n",
       "3       0.000030       False  \n",
       "4       0.000028       False  \n",
       "5       0.000028       False  \n",
       "6       0.000028       False  \n",
       "7       0.000029       False  \n",
       "8       0.000028       False  \n",
       "9       0.000029       False  \n",
       "10      0.000028       False  \n",
       "11      0.000030       False  \n",
       "12      0.000029       False  \n",
       "13      0.000028       False  \n",
       "14      0.000028       False  \n",
       "15      0.000029       False  \n",
       "16      0.000028       False  \n",
       "17      0.000028       False  \n",
       "18      0.000029       False  \n",
       "19      0.000030       False  \n",
       "20      0.000030       False  \n",
       "21      0.000028       False  \n",
       "22      0.000030       False  \n",
       "23      0.000029       False  \n",
       "24      0.000027       False  \n",
       "25      0.000039       False  \n",
       "26      0.000029       False  \n",
       "27      0.000028       False  \n",
       "28      0.000028       False  \n",
       "29      0.000028       False  \n",
       "30      0.000028       False  \n",
       "31      0.000029       False  "
      ]
     },
     "execution_count": 6,
     "metadata": {},
     "output_type": "execute_result"
    }
   ],
   "source": [
    "# view the data\n",
    "X.data"
   ]
  },
  {
   "cell_type": "code",
   "execution_count": 7,
   "metadata": {
    "ExecuteTime": {
     "end_time": "2023-06-14T15:42:06.400652600Z",
     "start_time": "2023-06-14T15:42:05.787612700Z"
    },
    "execution": {
     "iopub.execute_input": "2024-01-23T15:30:28.535434Z",
     "iopub.status.busy": "2024-01-23T15:30:28.535046Z",
     "iopub.status.idle": "2024-01-23T15:30:28.928174Z",
     "shell.execute_reply": "2024-01-23T15:30:28.927537Z"
    }
   },
   "outputs": [
    {
     "data": {
      "image/png": "[encoded data removed]",
      "text/plain": [
       "<Figure size 640x480 with 1 Axes>"
      ]
     },
     "metadata": {},
     "output_type": "display_data"
    }
   ],
   "source": [
    "# plot results\n",
    "ax = X.data.plot(\"x1\", \"x2\")\n",
    "ax.set_aspect(\"equal\")"
   ]
  },
  {
   "cell_type": "code",
   "execution_count": 7,
   "metadata": {
    "ExecuteTime": {
     "end_time": "2023-06-14T15:42:06.419648600Z",
     "start_time": "2023-06-14T15:42:06.401622Z"
    }
   },
   "outputs": [],
   "source": []
  }
 ],
 "metadata": {
  "kernelspec": {
   "display_name": "Python 3 (ipykernel)",
   "language": "python",
   "name": "python3"
  },
  "language_info": {
   "codemirror_mode": {
    "name": "ipython",
    "version": 3
   },
   "file_extension": ".py",
   "mimetype": "text/x-python",
   "name": "python",
   "nbconvert_exporter": "python",
   "pygments_lexer": "ipython3",
   "version": "3.9.18"
  }
 },
 "nbformat": 4,
 "nbformat_minor": 4
}
