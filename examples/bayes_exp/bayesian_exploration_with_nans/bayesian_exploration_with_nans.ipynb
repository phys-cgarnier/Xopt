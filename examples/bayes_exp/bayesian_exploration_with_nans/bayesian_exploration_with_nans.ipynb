{
 "cells": [
  {
   "cell_type": "markdown",
   "metadata": {},
   "source": [
    "# Bayesian Exploration with NaNs\n",
    "\n",
    "As violations of constraints can lead to invalid values of the objective, the evaluate function may simply return NaNs. We demonstrate below how we can still perform Bayesian Exploration in that case."
   ]
  },
  {
   "cell_type": "code",
   "execution_count": 1,
   "metadata": {
    "ExecuteTime": {
     "end_time": "2023-06-14T15:37:25.535638700Z",
     "start_time": "2023-06-14T15:37:22.379218300Z"
    },
    "execution": {
     "iopub.execute_input": "2024-02-23T22:07:51.462222Z",
     "iopub.status.busy": "2024-02-23T22:07:51.462048Z",
     "iopub.status.idle": "2024-02-23T22:07:53.544375Z",
     "shell.execute_reply": "2024-02-23T22:07:53.543706Z"
    }
   },
   "outputs": [],
   "source": [
    "# set values if testing\n",
    "import os\n",
    "SMOKE_TEST = os.environ.get(\"SMOKE_TEST\")\n",
    "NUM_MC_SAMPLES = 1 if SMOKE_TEST else 128\n",
    "NUM_RESTARTS = 1 if SMOKE_TEST else 20\n",
    "\n",
    "# Ignore all warnings\n",
    "import warnings\n",
    "warnings.filterwarnings(\"ignore\")\n",
    "\n",
    "import pandas as pd\n",
    "import torch\n",
    "import yaml\n",
    "from copy import deepcopy\n",
    "from xopt import Xopt, Evaluator\n",
    "from xopt.generators.bayesian import BayesianExplorationGenerator\n",
    "from xopt.resources.test_functions.tnk import evaluate_TNK, tnk_vocs\n",
    "\n",
    "vocs = deepcopy(tnk_vocs)\n",
    "vocs.objectives = {}\n",
    "vocs.observables = [\"y1\"]"
   ]
  },
  {
   "cell_type": "code",
   "execution_count": 2,
   "metadata": {
    "ExecuteTime": {
     "end_time": "2023-06-14T15:37:25.549637200Z",
     "start_time": "2023-06-14T15:37:25.539666500Z"
    },
    "execution": {
     "iopub.execute_input": "2024-02-23T22:07:53.547105Z",
     "iopub.status.busy": "2024-02-23T22:07:53.546837Z",
     "iopub.status.idle": "2024-02-23T22:07:53.551053Z",
     "shell.execute_reply": "2024-02-23T22:07:53.550527Z"
    }
   },
   "outputs": [],
   "source": [
    "# modify the evaluate function to return NaNs if constraints are violated\n",
    "def evaluate(input_dict):\n",
    "    output_dict = evaluate_TNK(input_dict)\n",
    "    del output_dict[\"y2\"]\n",
    "    for c in vocs.constraints.keys():\n",
    "        if vocs.constraints[c][0].upper() == \"GREATER_THAN\" and output_dict[c] <= vocs.constraints[c][1]:\n",
    "            output_dict[\"y1\"] = torch.nan\n",
    "        elif vocs.constraints[c][0].upper() == \"LESS_THAN\" and output_dict[c] >= vocs.constraints[c][1]:\n",
    "            output_dict[\"y1\"] = torch.nan\n",
    "    return output_dict"
   ]
  },
  {
   "cell_type": "code",
   "execution_count": 3,
   "metadata": {
    "ExecuteTime": {
     "end_time": "2023-06-14T15:37:25.580538800Z",
     "start_time": "2023-06-14T15:37:25.552636600Z"
    },
    "execution": {
     "iopub.execute_input": "2024-02-23T22:07:53.553148Z",
     "iopub.status.busy": "2024-02-23T22:07:53.552839Z",
     "iopub.status.idle": "2024-02-23T22:07:53.568938Z",
     "shell.execute_reply": "2024-02-23T22:07:53.568423Z"
    }
   },
   "outputs": [
    {
     "data": {
      "text/plain": [
       "\n",
       "            Xopt\n",
       "________________________________\n",
       "Version: 0+untagged.1.g7a7eff9\n",
       "Data size: 0\n",
       "Config as YAML:\n",
       "dump_file: null\n",
       "evaluator:\n",
       "  function: __main__.evaluate\n",
       "  function_kwargs: {}\n",
       "  max_workers: 1\n",
       "  vectorized: false\n",
       "generator:\n",
       "  computation_time: null\n",
       "  fixed_features: null\n",
       "  gp_constructor:\n",
       "    covar_modules: {}\n",
       "    mean_modules: {}\n",
       "    name: standard\n",
       "    trainable_mean_keys: []\n",
       "    transform_inputs: true\n",
       "    use_low_noise_prior: true\n",
       "  log_transform_acquisition_function: false\n",
       "  max_travel_distances:\n",
       "  - 0.25\n",
       "  - 0.25\n",
       "  model: null\n",
       "  n_candidates: 1\n",
       "  n_interpolate_points: null\n",
       "  n_monte_carlo_samples: 128\n",
       "  name: bayesian_exploration\n",
       "  numerical_optimizer:\n",
       "    max_iter: 2000\n",
       "    max_time: null\n",
       "    n_restarts: 20\n",
       "    name: LBFGS\n",
       "  supports_batch_generation: true\n",
       "  turbo_controller: null\n",
       "  use_cuda: false\n",
       "max_evaluations: null\n",
       "serialize_inline: false\n",
       "serialize_torch: false\n",
       "strict: true\n",
       "vocs:\n",
       "  constants:\n",
       "    a: dummy_constant\n",
       "  constraints:\n",
       "    c1:\n",
       "    - GREATER_THAN\n",
       "    - 0.0\n",
       "    c2:\n",
       "    - LESS_THAN\n",
       "    - 0.5\n",
       "  objectives: {}\n",
       "  observables:\n",
       "  - y1\n",
       "  variables:\n",
       "    x1:\n",
       "    - 0.0\n",
       "    - 3.14159\n",
       "    x2:\n",
       "    - 0.0\n",
       "    - 3.14159\n"
      ]
     },
     "execution_count": 3,
     "metadata": {},
     "output_type": "execute_result"
    }
   ],
   "source": [
    "generator = BayesianExplorationGenerator(vocs=vocs)\n",
    "generator.max_travel_distances = [0.25, 0.25]\n",
    "generator.n_monte_carlo_samples = NUM_MC_SAMPLES\n",
    "generator.numerical_optimizer.n_restarts = NUM_RESTARTS\n",
    "\n",
    "evaluator = Evaluator(function=evaluate)\n",
    "X = Xopt(generator=generator, evaluator=evaluator, vocs=vocs)\n",
    "X"
   ]
  },
  {
   "cell_type": "markdown",
   "metadata": {},
   "source": [
    "## Run exploration\n",
    "We start with evaluating 2 points that we know satisfy the constraints. We then run\n",
    "30 exploration steps."
   ]
  },
  {
   "cell_type": "code",
   "execution_count": 4,
   "metadata": {
    "ExecuteTime": {
     "end_time": "2023-06-14T15:37:25.638907100Z",
     "start_time": "2023-06-14T15:37:25.582541Z"
    },
    "execution": {
     "iopub.execute_input": "2024-02-23T22:07:53.597819Z",
     "iopub.status.busy": "2024-02-23T22:07:53.597318Z",
     "iopub.status.idle": "2024-02-23T22:07:53.610204Z",
     "shell.execute_reply": "2024-02-23T22:07:53.609655Z"
    }
   },
   "outputs": [
    {
     "data": {
      "text/html": [
       "<div>\n",
       "<style scoped>\n",
       "    .dataframe tbody tr th:only-of-type {\n",
       "        vertical-align: middle;\n",
       "    }\n",
       "\n",
       "    .dataframe tbody tr th {\n",
       "        vertical-align: top;\n",
       "    }\n",
       "\n",
       "    .dataframe thead th {\n",
       "        text-align: right;\n",
       "    }\n",
       "</style>\n",
       "<table border=\"1\" class=\"dataframe\">\n",
       "  <thead>\n",
       "    <tr style=\"text-align: right;\">\n",
       "      <th></th>\n",
       "      <th>x1</th>\n",
       "      <th>x2</th>\n",
       "      <th>a</th>\n",
       "      <th>y1</th>\n",
       "      <th>c1</th>\n",
       "      <th>c2</th>\n",
       "      <th>xopt_runtime</th>\n",
       "      <th>xopt_error</th>\n",
       "    </tr>\n",
       "  </thead>\n",
       "  <tbody>\n",
       "    <tr>\n",
       "      <th>0</th>\n",
       "      <td>1.00</td>\n",
       "      <td>0.70</td>\n",
       "      <td>dummy_constant</td>\n",
       "      <td>1.00</td>\n",
       "      <td>0.584045</td>\n",
       "      <td>0.290</td>\n",
       "      <td>0.000051</td>\n",
       "      <td>False</td>\n",
       "    </tr>\n",
       "    <tr>\n",
       "      <th>1</th>\n",
       "      <td>0.75</td>\n",
       "      <td>0.95</td>\n",
       "      <td>dummy_constant</td>\n",
       "      <td>0.75</td>\n",
       "      <td>0.494833</td>\n",
       "      <td>0.265</td>\n",
       "      <td>0.000016</td>\n",
       "      <td>False</td>\n",
       "    </tr>\n",
       "  </tbody>\n",
       "</table>\n",
       "</div>"
      ],
      "text/plain": [
       "     x1    x2               a    y1        c1     c2  xopt_runtime  xopt_error\n",
       "0  1.00  0.70  dummy_constant  1.00  0.584045  0.290      0.000051       False\n",
       "1  0.75  0.95  dummy_constant  0.75  0.494833  0.265      0.000016       False"
      ]
     },
     "execution_count": 4,
     "metadata": {},
     "output_type": "execute_result"
    }
   ],
   "source": [
    "X.evaluate_data(pd.DataFrame({\"x1\": [1.0, 0.75], \"x2\": [0.7, 0.95]}))"
   ]
  },
  {
   "cell_type": "code",
   "execution_count": 5,
   "metadata": {
    "ExecuteTime": {
     "end_time": "2023-06-14T15:42:05.755461900Z",
     "start_time": "2023-06-14T15:37:25.611873400Z"
    },
    "execution": {
     "iopub.execute_input": "2024-02-23T22:07:53.612375Z",
     "iopub.status.busy": "2024-02-23T22:07:53.612191Z",
     "iopub.status.idle": "2024-02-23T22:09:05.955336Z",
     "shell.execute_reply": "2024-02-23T22:09:05.954711Z"
    },
    "scrolled": false
   },
   "outputs": [
    {
     "name": "stdout",
     "output_type": "stream",
     "text": [
      "step 0\n"
     ]
    },
    {
     "name": "stdout",
     "output_type": "stream",
     "text": [
      "step 1\n"
     ]
    },
    {
     "name": "stdout",
     "output_type": "stream",
     "text": [
      "step 2\n"
     ]
    },
    {
     "name": "stdout",
     "output_type": "stream",
     "text": [
      "step 3\n"
     ]
    },
    {
     "name": "stdout",
     "output_type": "stream",
     "text": [
      "step 4\n"
     ]
    },
    {
     "name": "stdout",
     "output_type": "stream",
     "text": [
      "step 5\n"
     ]
    },
    {
     "name": "stdout",
     "output_type": "stream",
     "text": [
      "step 6\n"
     ]
    },
    {
     "name": "stdout",
     "output_type": "stream",
     "text": [
      "step 7\n"
     ]
    },
    {
     "name": "stdout",
     "output_type": "stream",
     "text": [
      "step 8\n"
     ]
    },
    {
     "name": "stdout",
     "output_type": "stream",
     "text": [
      "step 9\n"
     ]
    },
    {
     "name": "stdout",
     "output_type": "stream",
     "text": [
      "step 10\n"
     ]
    },
    {
     "name": "stdout",
     "output_type": "stream",
     "text": [
      "step 11\n"
     ]
    },
    {
     "name": "stdout",
     "output_type": "stream",
     "text": [
      "step 12\n"
     ]
    },
    {
     "name": "stdout",
     "output_type": "stream",
     "text": [
      "step 13\n"
     ]
    },
    {
     "name": "stdout",
     "output_type": "stream",
     "text": [
      "step 14\n"
     ]
    },
    {
     "name": "stdout",
     "output_type": "stream",
     "text": [
      "step 15\n"
     ]
    },
    {
     "name": "stdout",
     "output_type": "stream",
     "text": [
      "step 16\n"
     ]
    },
    {
     "name": "stdout",
     "output_type": "stream",
     "text": [
      "step 17\n"
     ]
    },
    {
     "name": "stdout",
     "output_type": "stream",
     "text": [
      "step 18\n"
     ]
    },
    {
     "name": "stdout",
     "output_type": "stream",
     "text": [
      "step 19\n"
     ]
    },
    {
     "name": "stdout",
     "output_type": "stream",
     "text": [
      "step 20\n"
     ]
    },
    {
     "name": "stdout",
     "output_type": "stream",
     "text": [
      "step 21\n"
     ]
    },
    {
     "name": "stdout",
     "output_type": "stream",
     "text": [
      "step 22\n"
     ]
    },
    {
     "name": "stdout",
     "output_type": "stream",
     "text": [
      "step 23\n"
     ]
    },
    {
     "name": "stdout",
     "output_type": "stream",
     "text": [
      "step 24\n"
     ]
    },
    {
     "name": "stdout",
     "output_type": "stream",
     "text": [
      "step 25\n"
     ]
    },
    {
     "name": "stdout",
     "output_type": "stream",
     "text": [
      "step 26\n"
     ]
    },
    {
     "name": "stdout",
     "output_type": "stream",
     "text": [
      "step 27\n"
     ]
    },
    {
     "name": "stdout",
     "output_type": "stream",
     "text": [
      "step 28\n"
     ]
    },
    {
     "name": "stdout",
     "output_type": "stream",
     "text": [
      "step 29\n"
     ]
    }
   ],
   "source": [
    "N_STEPS = 1 if SMOKE_TEST else 30\n",
    "for i in range(N_STEPS):\n",
    "    print(f\"step {i}\")\n",
    "    X.step()"
   ]
  },
  {
   "cell_type": "code",
   "execution_count": 6,
   "metadata": {
    "ExecuteTime": {
     "end_time": "2023-06-14T15:42:05.786611100Z",
     "start_time": "2023-06-14T15:42:05.773463300Z"
    },
    "execution": {
     "iopub.execute_input": "2024-02-23T22:09:05.958138Z",
     "iopub.status.busy": "2024-02-23T22:09:05.957766Z",
     "iopub.status.idle": "2024-02-23T22:09:05.969602Z",
     "shell.execute_reply": "2024-02-23T22:09:05.968948Z"
    }
   },
   "outputs": [
    {
     "data": {
      "text/html": [
       "<div>\n",
       "<style scoped>\n",
       "    .dataframe tbody tr th:only-of-type {\n",
       "        vertical-align: middle;\n",
       "    }\n",
       "\n",
       "    .dataframe tbody tr th {\n",
       "        vertical-align: top;\n",
       "    }\n",
       "\n",
       "    .dataframe thead th {\n",
       "        text-align: right;\n",
       "    }\n",
       "</style>\n",
       "<table border=\"1\" class=\"dataframe\">\n",
       "  <thead>\n",
       "    <tr style=\"text-align: right;\">\n",
       "      <th></th>\n",
       "      <th>x1</th>\n",
       "      <th>x2</th>\n",
       "      <th>a</th>\n",
       "      <th>y1</th>\n",
       "      <th>c1</th>\n",
       "      <th>c2</th>\n",
       "      <th>xopt_runtime</th>\n",
       "      <th>xopt_error</th>\n",
       "    </tr>\n",
       "  </thead>\n",
       "  <tbody>\n",
       "    <tr>\n",
       "      <th>0</th>\n",
       "      <td>1.000000</td>\n",
       "      <td>0.700000</td>\n",
       "      <td>dummy_constant</td>\n",
       "      <td>1.000000</td>\n",
       "      <td>0.584045</td>\n",
       "      <td>0.290000</td>\n",
       "      <td>0.000051</td>\n",
       "      <td>False</td>\n",
       "    </tr>\n",
       "    <tr>\n",
       "      <th>1</th>\n",
       "      <td>0.750000</td>\n",
       "      <td>0.950000</td>\n",
       "      <td>dummy_constant</td>\n",
       "      <td>0.750000</td>\n",
       "      <td>0.494833</td>\n",
       "      <td>0.265000</td>\n",
       "      <td>0.000016</td>\n",
       "      <td>False</td>\n",
       "    </tr>\n",
       "    <tr>\n",
       "      <th>2</th>\n",
       "      <td>1.535397</td>\n",
       "      <td>1.735397</td>\n",
       "      <td>dummy_constant</td>\n",
       "      <td>NaN</td>\n",
       "      <td>4.313110</td>\n",
       "      <td>2.598255</td>\n",
       "      <td>0.000024</td>\n",
       "      <td>False</td>\n",
       "    </tr>\n",
       "    <tr>\n",
       "      <th>3</th>\n",
       "      <td>2.320795</td>\n",
       "      <td>0.950000</td>\n",
       "      <td>dummy_constant</td>\n",
       "      <td>NaN</td>\n",
       "      <td>5.188811</td>\n",
       "      <td>3.517794</td>\n",
       "      <td>0.000027</td>\n",
       "      <td>False</td>\n",
       "    </tr>\n",
       "    <tr>\n",
       "      <th>4</th>\n",
       "      <td>1.566283</td>\n",
       "      <td>0.164602</td>\n",
       "      <td>dummy_constant</td>\n",
       "      <td>NaN</td>\n",
       "      <td>1.490770</td>\n",
       "      <td>1.249452</td>\n",
       "      <td>0.000027</td>\n",
       "      <td>False</td>\n",
       "    </tr>\n",
       "    <tr>\n",
       "      <th>5</th>\n",
       "      <td>0.780886</td>\n",
       "      <td>0.000000</td>\n",
       "      <td>dummy_constant</td>\n",
       "      <td>NaN</td>\n",
       "      <td>-0.490217</td>\n",
       "      <td>0.328897</td>\n",
       "      <td>0.000028</td>\n",
       "      <td>False</td>\n",
       "    </tr>\n",
       "    <tr>\n",
       "      <th>6</th>\n",
       "      <td>0.000000</td>\n",
       "      <td>0.778003</td>\n",
       "      <td>dummy_constant</td>\n",
       "      <td>NaN</td>\n",
       "      <td>-0.494711</td>\n",
       "      <td>0.327286</td>\n",
       "      <td>0.000027</td>\n",
       "      <td>False</td>\n",
       "    </tr>\n",
       "    <tr>\n",
       "      <th>7</th>\n",
       "      <td>0.047026</td>\n",
       "      <td>1.512956</td>\n",
       "      <td>dummy_constant</td>\n",
       "      <td>NaN</td>\n",
       "      <td>1.203354</td>\n",
       "      <td>1.231266</td>\n",
       "      <td>0.000028</td>\n",
       "      <td>False</td>\n",
       "    </tr>\n",
       "    <tr>\n",
       "      <th>8</th>\n",
       "      <td>0.409870</td>\n",
       "      <td>1.032124</td>\n",
       "      <td>dummy_constant</td>\n",
       "      <td>0.409870</td>\n",
       "      <td>0.136021</td>\n",
       "      <td>0.291280</td>\n",
       "      <td>0.000026</td>\n",
       "      <td>False</td>\n",
       "    </tr>\n",
       "    <tr>\n",
       "      <th>9</th>\n",
       "      <td>1.057960</td>\n",
       "      <td>0.309480</td>\n",
       "      <td>dummy_constant</td>\n",
       "      <td>1.057960</td>\n",
       "      <td>0.230892</td>\n",
       "      <td>0.347617</td>\n",
       "      <td>0.000028</td>\n",
       "      <td>False</td>\n",
       "    </tr>\n",
       "    <tr>\n",
       "      <th>10</th>\n",
       "      <td>0.720106</td>\n",
       "      <td>1.094878</td>\n",
       "      <td>dummy_constant</td>\n",
       "      <td>0.720106</td>\n",
       "      <td>0.816633</td>\n",
       "      <td>0.402326</td>\n",
       "      <td>0.000026</td>\n",
       "      <td>False</td>\n",
       "    </tr>\n",
       "    <tr>\n",
       "      <th>11</th>\n",
       "      <td>0.849474</td>\n",
       "      <td>0.634353</td>\n",
       "      <td>dummy_constant</td>\n",
       "      <td>0.849474</td>\n",
       "      <td>0.190904</td>\n",
       "      <td>0.140183</td>\n",
       "      <td>0.000027</td>\n",
       "      <td>False</td>\n",
       "    </tr>\n",
       "    <tr>\n",
       "      <th>12</th>\n",
       "      <td>1.075867</td>\n",
       "      <td>0.814162</td>\n",
       "      <td>dummy_constant</td>\n",
       "      <td>1.075867</td>\n",
       "      <td>0.879319</td>\n",
       "      <td>0.430321</td>\n",
       "      <td>0.000028</td>\n",
       "      <td>False</td>\n",
       "    </tr>\n",
       "    <tr>\n",
       "      <th>13</th>\n",
       "      <td>0.290470</td>\n",
       "      <td>1.128176</td>\n",
       "      <td>dummy_constant</td>\n",
       "      <td>0.290470</td>\n",
       "      <td>0.420069</td>\n",
       "      <td>0.438508</td>\n",
       "      <td>0.000028</td>\n",
       "      <td>False</td>\n",
       "    </tr>\n",
       "    <tr>\n",
       "      <th>14</th>\n",
       "      <td>0.145636</td>\n",
       "      <td>1.070197</td>\n",
       "      <td>dummy_constant</td>\n",
       "      <td>0.145636</td>\n",
       "      <td>0.222437</td>\n",
       "      <td>0.450699</td>\n",
       "      <td>0.000026</td>\n",
       "      <td>False</td>\n",
       "    </tr>\n",
       "    <tr>\n",
       "      <th>15</th>\n",
       "      <td>0.653910</td>\n",
       "      <td>1.164653</td>\n",
       "      <td>dummy_constant</td>\n",
       "      <td>0.653910</td>\n",
       "      <td>0.816576</td>\n",
       "      <td>0.465453</td>\n",
       "      <td>0.000027</td>\n",
       "      <td>False</td>\n",
       "    </tr>\n",
       "    <tr>\n",
       "      <th>16</th>\n",
       "      <td>1.167903</td>\n",
       "      <td>0.531030</td>\n",
       "      <td>dummy_constant</td>\n",
       "      <td>1.167903</td>\n",
       "      <td>0.560464</td>\n",
       "      <td>0.447058</td>\n",
       "      <td>0.000027</td>\n",
       "      <td>False</td>\n",
       "    </tr>\n",
       "    <tr>\n",
       "      <th>17</th>\n",
       "      <td>1.054851</td>\n",
       "      <td>0.103850</td>\n",
       "      <td>dummy_constant</td>\n",
       "      <td>1.054851</td>\n",
       "      <td>0.123429</td>\n",
       "      <td>0.464794</td>\n",
       "      <td>0.000027</td>\n",
       "      <td>False</td>\n",
       "    </tr>\n",
       "    <tr>\n",
       "      <th>18</th>\n",
       "      <td>0.633210</td>\n",
       "      <td>0.889247</td>\n",
       "      <td>dummy_constant</td>\n",
       "      <td>0.633210</td>\n",
       "      <td>0.280610</td>\n",
       "      <td>0.169258</td>\n",
       "      <td>0.000026</td>\n",
       "      <td>False</td>\n",
       "    </tr>\n",
       "    <tr>\n",
       "      <th>19</th>\n",
       "      <td>0.975702</td>\n",
       "      <td>0.987707</td>\n",
       "      <td>dummy_constant</td>\n",
       "      <td>0.975702</td>\n",
       "      <td>0.828039</td>\n",
       "      <td>0.464151</td>\n",
       "      <td>0.000027</td>\n",
       "      <td>False</td>\n",
       "    </tr>\n",
       "    <tr>\n",
       "      <th>20</th>\n",
       "      <td>0.519429</td>\n",
       "      <td>1.187784</td>\n",
       "      <td>dummy_constant</td>\n",
       "      <td>0.519429</td>\n",
       "      <td>0.585489</td>\n",
       "      <td>0.473424</td>\n",
       "      <td>0.000026</td>\n",
       "      <td>False</td>\n",
       "    </tr>\n",
       "    <tr>\n",
       "      <th>21</th>\n",
       "      <td>1.179909</td>\n",
       "      <td>0.606566</td>\n",
       "      <td>dummy_constant</td>\n",
       "      <td>1.179909</td>\n",
       "      <td>0.734744</td>\n",
       "      <td>0.473633</td>\n",
       "      <td>0.000027</td>\n",
       "      <td>False</td>\n",
       "    </tr>\n",
       "    <tr>\n",
       "      <th>22</th>\n",
       "      <td>0.745222</td>\n",
       "      <td>0.701767</td>\n",
       "      <td>dummy_constant</td>\n",
       "      <td>NaN</td>\n",
       "      <td>-0.040849</td>\n",
       "      <td>0.100844</td>\n",
       "      <td>0.000025</td>\n",
       "      <td>False</td>\n",
       "    </tr>\n",
       "    <tr>\n",
       "      <th>23</th>\n",
       "      <td>1.066948</td>\n",
       "      <td>0.102039</td>\n",
       "      <td>dummy_constant</td>\n",
       "      <td>1.066948</td>\n",
       "      <td>0.144266</td>\n",
       "      <td>0.479803</td>\n",
       "      <td>0.000028</td>\n",
       "      <td>False</td>\n",
       "    </tr>\n",
       "    <tr>\n",
       "      <th>24</th>\n",
       "      <td>1.073195</td>\n",
       "      <td>0.887436</td>\n",
       "      <td>dummy_constant</td>\n",
       "      <td>1.073195</td>\n",
       "      <td>0.933353</td>\n",
       "      <td>0.478659</td>\n",
       "      <td>0.000026</td>\n",
       "      <td>False</td>\n",
       "    </tr>\n",
       "    <tr>\n",
       "      <th>25</th>\n",
       "      <td>0.850698</td>\n",
       "      <td>1.095319</td>\n",
       "      <td>dummy_constant</td>\n",
       "      <td>0.850698</td>\n",
       "      <td>0.965094</td>\n",
       "      <td>0.477394</td>\n",
       "      <td>0.000027</td>\n",
       "      <td>False</td>\n",
       "    </tr>\n",
       "    <tr>\n",
       "      <th>26</th>\n",
       "      <td>0.084304</td>\n",
       "      <td>1.051202</td>\n",
       "      <td>dummy_constant</td>\n",
       "      <td>0.084304</td>\n",
       "      <td>0.083502</td>\n",
       "      <td>0.476628</td>\n",
       "      <td>0.000028</td>\n",
       "      <td>False</td>\n",
       "    </tr>\n",
       "    <tr>\n",
       "      <th>27</th>\n",
       "      <td>0.473880</td>\n",
       "      <td>0.937680</td>\n",
       "      <td>dummy_constant</td>\n",
       "      <td>0.473880</td>\n",
       "      <td>0.067928</td>\n",
       "      <td>0.192246</td>\n",
       "      <td>0.000028</td>\n",
       "      <td>False</td>\n",
       "    </tr>\n",
       "    <tr>\n",
       "      <th>28</th>\n",
       "      <td>0.075697</td>\n",
       "      <td>1.051035</td>\n",
       "      <td>dummy_constant</td>\n",
       "      <td>0.075697</td>\n",
       "      <td>0.069588</td>\n",
       "      <td>0.483672</td>\n",
       "      <td>0.000027</td>\n",
       "      <td>False</td>\n",
       "    </tr>\n",
       "    <tr>\n",
       "      <th>29</th>\n",
       "      <td>0.861094</td>\n",
       "      <td>0.578022</td>\n",
       "      <td>dummy_constant</td>\n",
       "      <td>0.861094</td>\n",
       "      <td>0.175535</td>\n",
       "      <td>0.136477</td>\n",
       "      <td>0.000026</td>\n",
       "      <td>False</td>\n",
       "    </tr>\n",
       "    <tr>\n",
       "      <th>30</th>\n",
       "      <td>1.184778</td>\n",
       "      <td>0.406375</td>\n",
       "      <td>dummy_constant</td>\n",
       "      <td>1.184778</td>\n",
       "      <td>0.514509</td>\n",
       "      <td>0.477686</td>\n",
       "      <td>0.000027</td>\n",
       "      <td>False</td>\n",
       "    </tr>\n",
       "    <tr>\n",
       "      <th>31</th>\n",
       "      <td>0.431923</td>\n",
       "      <td>1.191773</td>\n",
       "      <td>dummy_constant</td>\n",
       "      <td>0.431923</td>\n",
       "      <td>0.531702</td>\n",
       "      <td>0.483184</td>\n",
       "      <td>0.000027</td>\n",
       "      <td>False</td>\n",
       "    </tr>\n",
       "  </tbody>\n",
       "</table>\n",
       "</div>"
      ],
      "text/plain": [
       "          x1        x2               a        y1        c1        c2  \\\n",
       "0   1.000000  0.700000  dummy_constant  1.000000  0.584045  0.290000   \n",
       "1   0.750000  0.950000  dummy_constant  0.750000  0.494833  0.265000   \n",
       "2   1.535397  1.735397  dummy_constant       NaN  4.313110  2.598255   \n",
       "3   2.320795  0.950000  dummy_constant       NaN  5.188811  3.517794   \n",
       "4   1.566283  0.164602  dummy_constant       NaN  1.490770  1.249452   \n",
       "5   0.780886  0.000000  dummy_constant       NaN -0.490217  0.328897   \n",
       "6   0.000000  0.778003  dummy_constant       NaN -0.494711  0.327286   \n",
       "7   0.047026  1.512956  dummy_constant       NaN  1.203354  1.231266   \n",
       "8   0.409870  1.032124  dummy_constant  0.409870  0.136021  0.291280   \n",
       "9   1.057960  0.309480  dummy_constant  1.057960  0.230892  0.347617   \n",
       "10  0.720106  1.094878  dummy_constant  0.720106  0.816633  0.402326   \n",
       "11  0.849474  0.634353  dummy_constant  0.849474  0.190904  0.140183   \n",
       "12  1.075867  0.814162  dummy_constant  1.075867  0.879319  0.430321   \n",
       "13  0.290470  1.128176  dummy_constant  0.290470  0.420069  0.438508   \n",
       "14  0.145636  1.070197  dummy_constant  0.145636  0.222437  0.450699   \n",
       "15  0.653910  1.164653  dummy_constant  0.653910  0.816576  0.465453   \n",
       "16  1.167903  0.531030  dummy_constant  1.167903  0.560464  0.447058   \n",
       "17  1.054851  0.103850  dummy_constant  1.054851  0.123429  0.464794   \n",
       "18  0.633210  0.889247  dummy_constant  0.633210  0.280610  0.169258   \n",
       "19  0.975702  0.987707  dummy_constant  0.975702  0.828039  0.464151   \n",
       "20  0.519429  1.187784  dummy_constant  0.519429  0.585489  0.473424   \n",
       "21  1.179909  0.606566  dummy_constant  1.179909  0.734744  0.473633   \n",
       "22  0.745222  0.701767  dummy_constant       NaN -0.040849  0.100844   \n",
       "23  1.066948  0.102039  dummy_constant  1.066948  0.144266  0.479803   \n",
       "24  1.073195  0.887436  dummy_constant  1.073195  0.933353  0.478659   \n",
       "25  0.850698  1.095319  dummy_constant  0.850698  0.965094  0.477394   \n",
       "26  0.084304  1.051202  dummy_constant  0.084304  0.083502  0.476628   \n",
       "27  0.473880  0.937680  dummy_constant  0.473880  0.067928  0.192246   \n",
       "28  0.075697  1.051035  dummy_constant  0.075697  0.069588  0.483672   \n",
       "29  0.861094  0.578022  dummy_constant  0.861094  0.175535  0.136477   \n",
       "30  1.184778  0.406375  dummy_constant  1.184778  0.514509  0.477686   \n",
       "31  0.431923  1.191773  dummy_constant  0.431923  0.531702  0.483184   \n",
       "\n",
       "    xopt_runtime  xopt_error  \n",
       "0       0.000051       False  \n",
       "1       0.000016       False  \n",
       "2       0.000024       False  \n",
       "3       0.000027       False  \n",
       "4       0.000027       False  \n",
       "5       0.000028       False  \n",
       "6       0.000027       False  \n",
       "7       0.000028       False  \n",
       "8       0.000026       False  \n",
       "9       0.000028       False  \n",
       "10      0.000026       False  \n",
       "11      0.000027       False  \n",
       "12      0.000028       False  \n",
       "13      0.000028       False  \n",
       "14      0.000026       False  \n",
       "15      0.000027       False  \n",
       "16      0.000027       False  \n",
       "17      0.000027       False  \n",
       "18      0.000026       False  \n",
       "19      0.000027       False  \n",
       "20      0.000026       False  \n",
       "21      0.000027       False  \n",
       "22      0.000025       False  \n",
       "23      0.000028       False  \n",
       "24      0.000026       False  \n",
       "25      0.000027       False  \n",
       "26      0.000028       False  \n",
       "27      0.000028       False  \n",
       "28      0.000027       False  \n",
       "29      0.000026       False  \n",
       "30      0.000027       False  \n",
       "31      0.000027       False  "
      ]
     },
     "execution_count": 6,
     "metadata": {},
     "output_type": "execute_result"
    }
   ],
   "source": [
    "# view the data\n",
    "X.data"
   ]
  },
  {
   "cell_type": "code",
   "execution_count": 7,
   "metadata": {
    "ExecuteTime": {
     "end_time": "2023-06-14T15:42:06.400652600Z",
     "start_time": "2023-06-14T15:42:05.787612700Z"
    },
    "execution": {
     "iopub.execute_input": "2024-02-23T22:09:05.971887Z",
     "iopub.status.busy": "2024-02-23T22:09:05.971707Z",
     "iopub.status.idle": "2024-02-23T22:09:06.441327Z",
     "shell.execute_reply": "2024-02-23T22:09:06.440603Z"
    }
   },
   "outputs": [
    {
     "data": {
      "image/png": "[encoded data removed]",
      "text/plain": [
       "<Figure size 640x480 with 1 Axes>"
      ]
     },
     "metadata": {},
     "output_type": "display_data"
    }
   ],
   "source": [
    "# plot results\n",
    "ax = X.data.plot(\"x1\", \"x2\")\n",
    "ax.set_aspect(\"equal\")"
   ]
  },
  {
   "cell_type": "code",
   "execution_count": 7,
   "metadata": {
    "ExecuteTime": {
     "end_time": "2023-06-14T15:42:06.419648600Z",
     "start_time": "2023-06-14T15:42:06.401622Z"
    }
   },
   "outputs": [],
   "source": []
  }
 ],
 "metadata": {
  "kernelspec": {
   "display_name": "Python 3 (ipykernel)",
   "language": "python",
   "name": "python3"
  },
  "language_info": {
   "codemirror_mode": {
    "name": "ipython",
    "version": 3
   },
   "file_extension": ".py",
   "mimetype": "text/x-python",
   "name": "python",
   "nbconvert_exporter": "python",
   "pygments_lexer": "ipython3",
   "version": "3.9.18"
  }
 },
 "nbformat": 4,
 "nbformat_minor": 4
}
