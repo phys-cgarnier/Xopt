{
 "cells": [
  {
   "cell_type": "markdown",
   "metadata": {},
   "source": [
    "# Bayesian Exploration with NaNs\n",
    "\n",
    "As violations of constraints can lead to invalid values of the objective, the evaluate function may simply return NaNs. We demonstrate below how we can still perform Bayesian Exploration in that case."
   ]
  },
  {
   "cell_type": "code",
   "execution_count": 1,
   "metadata": {
    "ExecuteTime": {
     "end_time": "2023-06-14T15:37:25.535638700Z",
     "start_time": "2023-06-14T15:37:22.379218300Z"
    },
    "execution": {
     "iopub.execute_input": "2024-03-12T21:01:40.952316Z",
     "iopub.status.busy": "2024-03-12T21:01:40.952142Z",
     "iopub.status.idle": "2024-03-12T21:01:43.036200Z",
     "shell.execute_reply": "2024-03-12T21:01:43.035645Z"
    }
   },
   "outputs": [],
   "source": [
    "# set values if testing\n",
    "import os\n",
    "SMOKE_TEST = os.environ.get(\"SMOKE_TEST\")\n",
    "NUM_MC_SAMPLES = 1 if SMOKE_TEST else 128\n",
    "NUM_RESTARTS = 1 if SMOKE_TEST else 20\n",
    "\n",
    "# Ignore all warnings\n",
    "import warnings\n",
    "warnings.filterwarnings(\"ignore\")\n",
    "\n",
    "import pandas as pd\n",
    "import torch\n",
    "import yaml\n",
    "from copy import deepcopy\n",
    "from xopt import Xopt, Evaluator\n",
    "from xopt.generators.bayesian import BayesianExplorationGenerator\n",
    "from xopt.resources.test_functions.tnk import evaluate_TNK, tnk_vocs\n",
    "\n",
    "vocs = deepcopy(tnk_vocs)\n",
    "vocs.objectives = {}\n",
    "vocs.observables = [\"y1\"]"
   ]
  },
  {
   "cell_type": "code",
   "execution_count": 2,
   "metadata": {
    "ExecuteTime": {
     "end_time": "2023-06-14T15:37:25.549637200Z",
     "start_time": "2023-06-14T15:37:25.539666500Z"
    },
    "execution": {
     "iopub.execute_input": "2024-03-12T21:01:43.038851Z",
     "iopub.status.busy": "2024-03-12T21:01:43.038599Z",
     "iopub.status.idle": "2024-03-12T21:01:43.043014Z",
     "shell.execute_reply": "2024-03-12T21:01:43.042543Z"
    }
   },
   "outputs": [],
   "source": [
    "# modify the evaluate function to return NaNs if constraints are violated\n",
    "def evaluate(input_dict):\n",
    "    output_dict = evaluate_TNK(input_dict)\n",
    "    del output_dict[\"y2\"]\n",
    "    for c in vocs.constraints.keys():\n",
    "        if vocs.constraints[c][0].upper() == \"GREATER_THAN\" and output_dict[c] <= vocs.constraints[c][1]:\n",
    "            output_dict[\"y1\"] = torch.nan\n",
    "        elif vocs.constraints[c][0].upper() == \"LESS_THAN\" and output_dict[c] >= vocs.constraints[c][1]:\n",
    "            output_dict[\"y1\"] = torch.nan\n",
    "    return output_dict"
   ]
  },
  {
   "cell_type": "code",
   "execution_count": 3,
   "metadata": {
    "ExecuteTime": {
     "end_time": "2023-06-14T15:37:25.580538800Z",
     "start_time": "2023-06-14T15:37:25.552636600Z"
    },
    "execution": {
     "iopub.execute_input": "2024-03-12T21:01:43.044911Z",
     "iopub.status.busy": "2024-03-12T21:01:43.044738Z",
     "iopub.status.idle": "2024-03-12T21:01:43.062017Z",
     "shell.execute_reply": "2024-03-12T21:01:43.061468Z"
    }
   },
   "outputs": [
    {
     "data": {
      "text/plain": [
       "\n",
       "            Xopt\n",
       "________________________________\n",
       "Version: 0+untagged.1.gdd04b09\n",
       "Data size: 0\n",
       "Config as YAML:\n",
       "dump_file: null\n",
       "evaluator:\n",
       "  function: __main__.evaluate\n",
       "  function_kwargs: {}\n",
       "  max_workers: 1\n",
       "  vectorized: false\n",
       "generator:\n",
       "  computation_time: null\n",
       "  fixed_features: null\n",
       "  gp_constructor:\n",
       "    covar_modules: {}\n",
       "    mean_modules: {}\n",
       "    name: standard\n",
       "    trainable_mean_keys: []\n",
       "    transform_inputs: true\n",
       "    use_low_noise_prior: true\n",
       "  log_transform_acquisition_function: false\n",
       "  max_travel_distances:\n",
       "  - 0.25\n",
       "  - 0.25\n",
       "  model: null\n",
       "  n_candidates: 1\n",
       "  n_interpolate_points: null\n",
       "  n_monte_carlo_samples: 128\n",
       "  name: bayesian_exploration\n",
       "  numerical_optimizer:\n",
       "    max_iter: 2000\n",
       "    max_time: null\n",
       "    n_restarts: 20\n",
       "    name: LBFGS\n",
       "  supports_batch_generation: true\n",
       "  turbo_controller: null\n",
       "  use_cuda: false\n",
       "max_evaluations: null\n",
       "serialize_inline: false\n",
       "serialize_torch: false\n",
       "strict: true\n",
       "vocs:\n",
       "  constants:\n",
       "    a: dummy_constant\n",
       "  constraints:\n",
       "    c1:\n",
       "    - GREATER_THAN\n",
       "    - 0.0\n",
       "    c2:\n",
       "    - LESS_THAN\n",
       "    - 0.5\n",
       "  objectives: {}\n",
       "  observables:\n",
       "  - y1\n",
       "  variables:\n",
       "    x1:\n",
       "    - 0.0\n",
       "    - 3.14159\n",
       "    x2:\n",
       "    - 0.0\n",
       "    - 3.14159\n"
      ]
     },
     "execution_count": 3,
     "metadata": {},
     "output_type": "execute_result"
    }
   ],
   "source": [
    "generator = BayesianExplorationGenerator(vocs=vocs)\n",
    "generator.max_travel_distances = [0.25, 0.25]\n",
    "generator.n_monte_carlo_samples = NUM_MC_SAMPLES\n",
    "generator.numerical_optimizer.n_restarts = NUM_RESTARTS\n",
    "\n",
    "evaluator = Evaluator(function=evaluate)\n",
    "X = Xopt(generator=generator, evaluator=evaluator, vocs=vocs)\n",
    "X"
   ]
  },
  {
   "cell_type": "markdown",
   "metadata": {},
   "source": [
    "## Run exploration\n",
    "We start with evaluating 2 points that we know satisfy the constraints. We then run\n",
    "30 exploration steps."
   ]
  },
  {
   "cell_type": "code",
   "execution_count": 4,
   "metadata": {
    "ExecuteTime": {
     "end_time": "2023-06-14T15:37:25.638907100Z",
     "start_time": "2023-06-14T15:37:25.582541Z"
    },
    "execution": {
     "iopub.execute_input": "2024-03-12T21:01:43.091020Z",
     "iopub.status.busy": "2024-03-12T21:01:43.090644Z",
     "iopub.status.idle": "2024-03-12T21:01:43.102950Z",
     "shell.execute_reply": "2024-03-12T21:01:43.102429Z"
    }
   },
   "outputs": [
    {
     "data": {
      "text/html": [
       "<div>\n",
       "<style scoped>\n",
       "    .dataframe tbody tr th:only-of-type {\n",
       "        vertical-align: middle;\n",
       "    }\n",
       "\n",
       "    .dataframe tbody tr th {\n",
       "        vertical-align: top;\n",
       "    }\n",
       "\n",
       "    .dataframe thead th {\n",
       "        text-align: right;\n",
       "    }\n",
       "</style>\n",
       "<table border=\"1\" class=\"dataframe\">\n",
       "  <thead>\n",
       "    <tr style=\"text-align: right;\">\n",
       "      <th></th>\n",
       "      <th>x1</th>\n",
       "      <th>x2</th>\n",
       "      <th>a</th>\n",
       "      <th>y1</th>\n",
       "      <th>c1</th>\n",
       "      <th>c2</th>\n",
       "      <th>xopt_runtime</th>\n",
       "      <th>xopt_error</th>\n",
       "    </tr>\n",
       "  </thead>\n",
       "  <tbody>\n",
       "    <tr>\n",
       "      <th>0</th>\n",
       "      <td>1.00</td>\n",
       "      <td>0.70</td>\n",
       "      <td>dummy_constant</td>\n",
       "      <td>1.00</td>\n",
       "      <td>0.584045</td>\n",
       "      <td>0.290</td>\n",
       "      <td>0.000033</td>\n",
       "      <td>False</td>\n",
       "    </tr>\n",
       "    <tr>\n",
       "      <th>1</th>\n",
       "      <td>0.75</td>\n",
       "      <td>0.95</td>\n",
       "      <td>dummy_constant</td>\n",
       "      <td>0.75</td>\n",
       "      <td>0.494833</td>\n",
       "      <td>0.265</td>\n",
       "      <td>0.000010</td>\n",
       "      <td>False</td>\n",
       "    </tr>\n",
       "  </tbody>\n",
       "</table>\n",
       "</div>"
      ],
      "text/plain": [
       "     x1    x2               a    y1        c1     c2  xopt_runtime  xopt_error\n",
       "0  1.00  0.70  dummy_constant  1.00  0.584045  0.290      0.000033       False\n",
       "1  0.75  0.95  dummy_constant  0.75  0.494833  0.265      0.000010       False"
      ]
     },
     "execution_count": 4,
     "metadata": {},
     "output_type": "execute_result"
    }
   ],
   "source": [
    "X.evaluate_data(pd.DataFrame({\"x1\": [1.0, 0.75], \"x2\": [0.7, 0.95]}))"
   ]
  },
  {
   "cell_type": "code",
   "execution_count": 5,
   "metadata": {
    "ExecuteTime": {
     "end_time": "2023-06-14T15:42:05.755461900Z",
     "start_time": "2023-06-14T15:37:25.611873400Z"
    },
    "execution": {
     "iopub.execute_input": "2024-03-12T21:01:43.105232Z",
     "iopub.status.busy": "2024-03-12T21:01:43.104800Z",
     "iopub.status.idle": "2024-03-12T21:02:59.944083Z",
     "shell.execute_reply": "2024-03-12T21:02:59.943490Z"
    },
    "scrolled": false
   },
   "outputs": [
    {
     "name": "stdout",
     "output_type": "stream",
     "text": [
      "step 0\n"
     ]
    },
    {
     "name": "stdout",
     "output_type": "stream",
     "text": [
      "step 1\n"
     ]
    },
    {
     "name": "stdout",
     "output_type": "stream",
     "text": [
      "step 2\n"
     ]
    },
    {
     "name": "stdout",
     "output_type": "stream",
     "text": [
      "step 3\n"
     ]
    },
    {
     "name": "stdout",
     "output_type": "stream",
     "text": [
      "step 4\n"
     ]
    },
    {
     "name": "stdout",
     "output_type": "stream",
     "text": [
      "step 5\n"
     ]
    },
    {
     "name": "stdout",
     "output_type": "stream",
     "text": [
      "step 6\n"
     ]
    },
    {
     "name": "stdout",
     "output_type": "stream",
     "text": [
      "step 7\n"
     ]
    },
    {
     "name": "stdout",
     "output_type": "stream",
     "text": [
      "step 8\n"
     ]
    },
    {
     "name": "stdout",
     "output_type": "stream",
     "text": [
      "step 9\n"
     ]
    },
    {
     "name": "stdout",
     "output_type": "stream",
     "text": [
      "step 10\n"
     ]
    },
    {
     "name": "stdout",
     "output_type": "stream",
     "text": [
      "step 11\n"
     ]
    },
    {
     "name": "stdout",
     "output_type": "stream",
     "text": [
      "step 12\n"
     ]
    },
    {
     "name": "stdout",
     "output_type": "stream",
     "text": [
      "step 13\n"
     ]
    },
    {
     "name": "stdout",
     "output_type": "stream",
     "text": [
      "step 14\n"
     ]
    },
    {
     "name": "stdout",
     "output_type": "stream",
     "text": [
      "step 15\n"
     ]
    },
    {
     "name": "stdout",
     "output_type": "stream",
     "text": [
      "step 16\n"
     ]
    },
    {
     "name": "stdout",
     "output_type": "stream",
     "text": [
      "step 17\n"
     ]
    },
    {
     "name": "stdout",
     "output_type": "stream",
     "text": [
      "step 18\n"
     ]
    },
    {
     "name": "stdout",
     "output_type": "stream",
     "text": [
      "step 19\n"
     ]
    },
    {
     "name": "stdout",
     "output_type": "stream",
     "text": [
      "step 20\n"
     ]
    },
    {
     "name": "stdout",
     "output_type": "stream",
     "text": [
      "step 21\n"
     ]
    },
    {
     "name": "stdout",
     "output_type": "stream",
     "text": [
      "step 22\n"
     ]
    },
    {
     "name": "stdout",
     "output_type": "stream",
     "text": [
      "step 23\n"
     ]
    },
    {
     "name": "stdout",
     "output_type": "stream",
     "text": [
      "step 24\n"
     ]
    },
    {
     "name": "stdout",
     "output_type": "stream",
     "text": [
      "step 25\n"
     ]
    },
    {
     "name": "stdout",
     "output_type": "stream",
     "text": [
      "step 26\n"
     ]
    },
    {
     "name": "stdout",
     "output_type": "stream",
     "text": [
      "step 27\n"
     ]
    },
    {
     "name": "stdout",
     "output_type": "stream",
     "text": [
      "step 28\n"
     ]
    },
    {
     "name": "stdout",
     "output_type": "stream",
     "text": [
      "step 29\n"
     ]
    }
   ],
   "source": [
    "N_STEPS = 1 if SMOKE_TEST else 30\n",
    "for i in range(N_STEPS):\n",
    "    print(f\"step {i}\")\n",
    "    X.step()"
   ]
  },
  {
   "cell_type": "code",
   "execution_count": 6,
   "metadata": {
    "ExecuteTime": {
     "end_time": "2023-06-14T15:42:05.786611100Z",
     "start_time": "2023-06-14T15:42:05.773463300Z"
    },
    "execution": {
     "iopub.execute_input": "2024-03-12T21:02:59.947057Z",
     "iopub.status.busy": "2024-03-12T21:02:59.946618Z",
     "iopub.status.idle": "2024-03-12T21:02:59.961751Z",
     "shell.execute_reply": "2024-03-12T21:02:59.961087Z"
    }
   },
   "outputs": [
    {
     "data": {
      "text/html": [
       "<div>\n",
       "<style scoped>\n",
       "    .dataframe tbody tr th:only-of-type {\n",
       "        vertical-align: middle;\n",
       "    }\n",
       "\n",
       "    .dataframe tbody tr th {\n",
       "        vertical-align: top;\n",
       "    }\n",
       "\n",
       "    .dataframe thead th {\n",
       "        text-align: right;\n",
       "    }\n",
       "</style>\n",
       "<table border=\"1\" class=\"dataframe\">\n",
       "  <thead>\n",
       "    <tr style=\"text-align: right;\">\n",
       "      <th></th>\n",
       "      <th>x1</th>\n",
       "      <th>x2</th>\n",
       "      <th>a</th>\n",
       "      <th>y1</th>\n",
       "      <th>c1</th>\n",
       "      <th>c2</th>\n",
       "      <th>xopt_runtime</th>\n",
       "      <th>xopt_error</th>\n",
       "    </tr>\n",
       "  </thead>\n",
       "  <tbody>\n",
       "    <tr>\n",
       "      <th>0</th>\n",
       "      <td>1.000000</td>\n",
       "      <td>0.700000</td>\n",
       "      <td>dummy_constant</td>\n",
       "      <td>1.000000</td>\n",
       "      <td>0.584045</td>\n",
       "      <td>0.290000</td>\n",
       "      <td>0.000033</td>\n",
       "      <td>False</td>\n",
       "    </tr>\n",
       "    <tr>\n",
       "      <th>1</th>\n",
       "      <td>0.750000</td>\n",
       "      <td>0.950000</td>\n",
       "      <td>dummy_constant</td>\n",
       "      <td>0.750000</td>\n",
       "      <td>0.494833</td>\n",
       "      <td>0.265000</td>\n",
       "      <td>0.000010</td>\n",
       "      <td>False</td>\n",
       "    </tr>\n",
       "    <tr>\n",
       "      <th>2</th>\n",
       "      <td>1.535397</td>\n",
       "      <td>1.735397</td>\n",
       "      <td>dummy_constant</td>\n",
       "      <td>NaN</td>\n",
       "      <td>4.313110</td>\n",
       "      <td>2.598255</td>\n",
       "      <td>0.000026</td>\n",
       "      <td>False</td>\n",
       "    </tr>\n",
       "    <tr>\n",
       "      <th>3</th>\n",
       "      <td>2.320795</td>\n",
       "      <td>0.950000</td>\n",
       "      <td>dummy_constant</td>\n",
       "      <td>NaN</td>\n",
       "      <td>5.188811</td>\n",
       "      <td>3.517794</td>\n",
       "      <td>0.000028</td>\n",
       "      <td>False</td>\n",
       "    </tr>\n",
       "    <tr>\n",
       "      <th>4</th>\n",
       "      <td>1.581048</td>\n",
       "      <td>0.164602</td>\n",
       "      <td>dummy_constant</td>\n",
       "      <td>NaN</td>\n",
       "      <td>1.535694</td>\n",
       "      <td>1.281157</td>\n",
       "      <td>0.000028</td>\n",
       "      <td>False</td>\n",
       "    </tr>\n",
       "    <tr>\n",
       "      <th>5</th>\n",
       "      <td>0.795651</td>\n",
       "      <td>0.000000</td>\n",
       "      <td>dummy_constant</td>\n",
       "      <td>NaN</td>\n",
       "      <td>-0.466940</td>\n",
       "      <td>0.337409</td>\n",
       "      <td>0.000028</td>\n",
       "      <td>False</td>\n",
       "    </tr>\n",
       "    <tr>\n",
       "      <th>6</th>\n",
       "      <td>0.010253</td>\n",
       "      <td>0.772683</td>\n",
       "      <td>dummy_constant</td>\n",
       "      <td>NaN</td>\n",
       "      <td>-0.500611</td>\n",
       "      <td>0.314208</td>\n",
       "      <td>0.000027</td>\n",
       "      <td>False</td>\n",
       "    </tr>\n",
       "    <tr>\n",
       "      <th>7</th>\n",
       "      <td>0.002358</td>\n",
       "      <td>1.529998</td>\n",
       "      <td>dummy_constant</td>\n",
       "      <td>NaN</td>\n",
       "      <td>1.240930</td>\n",
       "      <td>1.308544</td>\n",
       "      <td>0.000027</td>\n",
       "      <td>False</td>\n",
       "    </tr>\n",
       "    <tr>\n",
       "      <th>8</th>\n",
       "      <td>0.421365</td>\n",
       "      <td>1.049826</td>\n",
       "      <td>dummy_constant</td>\n",
       "      <td>0.421365</td>\n",
       "      <td>0.181232</td>\n",
       "      <td>0.308492</td>\n",
       "      <td>0.000033</td>\n",
       "      <td>False</td>\n",
       "    </tr>\n",
       "    <tr>\n",
       "      <th>9</th>\n",
       "      <td>1.045769</td>\n",
       "      <td>0.330616</td>\n",
       "      <td>dummy_constant</td>\n",
       "      <td>1.045769</td>\n",
       "      <td>0.184363</td>\n",
       "      <td>0.326555</td>\n",
       "      <td>0.000029</td>\n",
       "      <td>False</td>\n",
       "    </tr>\n",
       "    <tr>\n",
       "      <th>10</th>\n",
       "      <td>0.789965</td>\n",
       "      <td>0.704791</td>\n",
       "      <td>dummy_constant</td>\n",
       "      <td>0.789965</td>\n",
       "      <td>0.059457</td>\n",
       "      <td>0.126019</td>\n",
       "      <td>0.000027</td>\n",
       "      <td>False</td>\n",
       "    </tr>\n",
       "    <tr>\n",
       "      <th>11</th>\n",
       "      <td>0.654893</td>\n",
       "      <td>1.140022</td>\n",
       "      <td>dummy_constant</td>\n",
       "      <td>0.654893</td>\n",
       "      <td>0.775495</td>\n",
       "      <td>0.433620</td>\n",
       "      <td>0.000027</td>\n",
       "      <td>False</td>\n",
       "    </tr>\n",
       "    <tr>\n",
       "      <th>12</th>\n",
       "      <td>0.199315</td>\n",
       "      <td>1.079451</td>\n",
       "      <td>dummy_constant</td>\n",
       "      <td>0.199315</td>\n",
       "      <td>0.302528</td>\n",
       "      <td>0.426175</td>\n",
       "      <td>0.000027</td>\n",
       "      <td>False</td>\n",
       "    </tr>\n",
       "    <tr>\n",
       "      <th>13</th>\n",
       "      <td>0.984713</td>\n",
       "      <td>0.940257</td>\n",
       "      <td>dummy_constant</td>\n",
       "      <td>0.984713</td>\n",
       "      <td>0.760489</td>\n",
       "      <td>0.428773</td>\n",
       "      <td>0.000027</td>\n",
       "      <td>False</td>\n",
       "    </tr>\n",
       "    <tr>\n",
       "      <th>14</th>\n",
       "      <td>1.147170</td>\n",
       "      <td>0.617961</td>\n",
       "      <td>dummy_constant</td>\n",
       "      <td>1.147170</td>\n",
       "      <td>0.703054</td>\n",
       "      <td>0.432743</td>\n",
       "      <td>0.000026</td>\n",
       "      <td>False</td>\n",
       "    </tr>\n",
       "    <tr>\n",
       "      <th>15</th>\n",
       "      <td>1.088636</td>\n",
       "      <td>0.170509</td>\n",
       "      <td>dummy_constant</td>\n",
       "      <td>1.088636</td>\n",
       "      <td>0.293461</td>\n",
       "      <td>0.455057</td>\n",
       "      <td>0.000026</td>\n",
       "      <td>False</td>\n",
       "    </tr>\n",
       "    <tr>\n",
       "      <th>16</th>\n",
       "      <td>1.060918</td>\n",
       "      <td>0.101334</td>\n",
       "      <td>dummy_constant</td>\n",
       "      <td>1.060918</td>\n",
       "      <td>0.131100</td>\n",
       "      <td>0.473564</td>\n",
       "      <td>0.000027</td>\n",
       "      <td>False</td>\n",
       "    </tr>\n",
       "    <tr>\n",
       "      <th>17</th>\n",
       "      <td>1.063169</td>\n",
       "      <td>0.886731</td>\n",
       "      <td>dummy_constant</td>\n",
       "      <td>1.063169</td>\n",
       "      <td>0.903959</td>\n",
       "      <td>0.466720</td>\n",
       "      <td>0.000027</td>\n",
       "      <td>False</td>\n",
       "    </tr>\n",
       "    <tr>\n",
       "      <th>18</th>\n",
       "      <td>0.613550</td>\n",
       "      <td>1.177832</td>\n",
       "      <td>dummy_constant</td>\n",
       "      <td>0.613550</td>\n",
       "      <td>0.746800</td>\n",
       "      <td>0.472351</td>\n",
       "      <td>0.000028</td>\n",
       "      <td>False</td>\n",
       "    </tr>\n",
       "    <tr>\n",
       "      <th>19</th>\n",
       "      <td>1.184864</td>\n",
       "      <td>0.534080</td>\n",
       "      <td>dummy_constant</td>\n",
       "      <td>1.184864</td>\n",
       "      <td>0.601027</td>\n",
       "      <td>0.470200</td>\n",
       "      <td>0.000026</td>\n",
       "      <td>False</td>\n",
       "    </tr>\n",
       "    <tr>\n",
       "      <th>20</th>\n",
       "      <td>0.597495</td>\n",
       "      <td>0.892692</td>\n",
       "      <td>dummy_constant</td>\n",
       "      <td>0.597495</td>\n",
       "      <td>0.253891</td>\n",
       "      <td>0.163712</td>\n",
       "      <td>0.000029</td>\n",
       "      <td>False</td>\n",
       "    </tr>\n",
       "    <tr>\n",
       "      <th>21</th>\n",
       "      <td>0.098186</td>\n",
       "      <td>1.051809</td>\n",
       "      <td>dummy_constant</td>\n",
       "      <td>0.098186</td>\n",
       "      <td>0.107800</td>\n",
       "      <td>0.465948</td>\n",
       "      <td>0.000028</td>\n",
       "      <td>False</td>\n",
       "    </tr>\n",
       "    <tr>\n",
       "      <th>22</th>\n",
       "      <td>0.870210</td>\n",
       "      <td>1.080213</td>\n",
       "      <td>dummy_constant</td>\n",
       "      <td>0.870210</td>\n",
       "      <td>0.938607</td>\n",
       "      <td>0.473703</td>\n",
       "      <td>0.000025</td>\n",
       "      <td>False</td>\n",
       "    </tr>\n",
       "    <tr>\n",
       "      <th>23</th>\n",
       "      <td>0.909168</td>\n",
       "      <td>0.539845</td>\n",
       "      <td>dummy_constant</td>\n",
       "      <td>0.909168</td>\n",
       "      <td>0.183907</td>\n",
       "      <td>0.169006</td>\n",
       "      <td>0.000027</td>\n",
       "      <td>False</td>\n",
       "    </tr>\n",
       "    <tr>\n",
       "      <th>24</th>\n",
       "      <td>0.401695</td>\n",
       "      <td>1.177323</td>\n",
       "      <td>dummy_constant</td>\n",
       "      <td>0.401695</td>\n",
       "      <td>0.495303</td>\n",
       "      <td>0.468430</td>\n",
       "      <td>0.000027</td>\n",
       "      <td>False</td>\n",
       "    </tr>\n",
       "    <tr>\n",
       "      <th>25</th>\n",
       "      <td>0.073263</td>\n",
       "      <td>1.045605</td>\n",
       "      <td>dummy_constant</td>\n",
       "      <td>0.073263</td>\n",
       "      <td>0.055022</td>\n",
       "      <td>0.479789</td>\n",
       "      <td>0.000026</td>\n",
       "      <td>False</td>\n",
       "    </tr>\n",
       "    <tr>\n",
       "      <th>26</th>\n",
       "      <td>0.567814</td>\n",
       "      <td>0.871300</td>\n",
       "      <td>dummy_constant</td>\n",
       "      <td>0.567814</td>\n",
       "      <td>0.179891</td>\n",
       "      <td>0.142462</td>\n",
       "      <td>0.000027</td>\n",
       "      <td>False</td>\n",
       "    </tr>\n",
       "    <tr>\n",
       "      <th>27</th>\n",
       "      <td>1.168312</td>\n",
       "      <td>0.681371</td>\n",
       "      <td>dummy_constant</td>\n",
       "      <td>1.168312</td>\n",
       "      <td>0.885165</td>\n",
       "      <td>0.479536</td>\n",
       "      <td>0.000026</td>\n",
       "      <td>False</td>\n",
       "    </tr>\n",
       "    <tr>\n",
       "      <th>28</th>\n",
       "      <td>0.921029</td>\n",
       "      <td>0.472064</td>\n",
       "      <td>dummy_constant</td>\n",
       "      <td>0.921029</td>\n",
       "      <td>0.043897</td>\n",
       "      <td>0.178046</td>\n",
       "      <td>0.000027</td>\n",
       "      <td>False</td>\n",
       "    </tr>\n",
       "    <tr>\n",
       "      <th>29</th>\n",
       "      <td>1.048178</td>\n",
       "      <td>0.072246</td>\n",
       "      <td>dummy_constant</td>\n",
       "      <td>1.048178</td>\n",
       "      <td>0.058632</td>\n",
       "      <td>0.483472</td>\n",
       "      <td>0.000026</td>\n",
       "      <td>False</td>\n",
       "    </tr>\n",
       "    <tr>\n",
       "      <th>30</th>\n",
       "      <td>1.184832</td>\n",
       "      <td>0.398119</td>\n",
       "      <td>dummy_constant</td>\n",
       "      <td>1.184832</td>\n",
       "      <td>0.516666</td>\n",
       "      <td>0.479375</td>\n",
       "      <td>0.000026</td>\n",
       "      <td>False</td>\n",
       "    </tr>\n",
       "    <tr>\n",
       "      <th>31</th>\n",
       "      <td>0.819995</td>\n",
       "      <td>1.117136</td>\n",
       "      <td>dummy_constant</td>\n",
       "      <td>0.819995</td>\n",
       "      <td>0.996461</td>\n",
       "      <td>0.483253</td>\n",
       "      <td>0.000027</td>\n",
       "      <td>False</td>\n",
       "    </tr>\n",
       "  </tbody>\n",
       "</table>\n",
       "</div>"
      ],
      "text/plain": [
       "          x1        x2               a        y1        c1        c2  \\\n",
       "0   1.000000  0.700000  dummy_constant  1.000000  0.584045  0.290000   \n",
       "1   0.750000  0.950000  dummy_constant  0.750000  0.494833  0.265000   \n",
       "2   1.535397  1.735397  dummy_constant       NaN  4.313110  2.598255   \n",
       "3   2.320795  0.950000  dummy_constant       NaN  5.188811  3.517794   \n",
       "4   1.581048  0.164602  dummy_constant       NaN  1.535694  1.281157   \n",
       "5   0.795651  0.000000  dummy_constant       NaN -0.466940  0.337409   \n",
       "6   0.010253  0.772683  dummy_constant       NaN -0.500611  0.314208   \n",
       "7   0.002358  1.529998  dummy_constant       NaN  1.240930  1.308544   \n",
       "8   0.421365  1.049826  dummy_constant  0.421365  0.181232  0.308492   \n",
       "9   1.045769  0.330616  dummy_constant  1.045769  0.184363  0.326555   \n",
       "10  0.789965  0.704791  dummy_constant  0.789965  0.059457  0.126019   \n",
       "11  0.654893  1.140022  dummy_constant  0.654893  0.775495  0.433620   \n",
       "12  0.199315  1.079451  dummy_constant  0.199315  0.302528  0.426175   \n",
       "13  0.984713  0.940257  dummy_constant  0.984713  0.760489  0.428773   \n",
       "14  1.147170  0.617961  dummy_constant  1.147170  0.703054  0.432743   \n",
       "15  1.088636  0.170509  dummy_constant  1.088636  0.293461  0.455057   \n",
       "16  1.060918  0.101334  dummy_constant  1.060918  0.131100  0.473564   \n",
       "17  1.063169  0.886731  dummy_constant  1.063169  0.903959  0.466720   \n",
       "18  0.613550  1.177832  dummy_constant  0.613550  0.746800  0.472351   \n",
       "19  1.184864  0.534080  dummy_constant  1.184864  0.601027  0.470200   \n",
       "20  0.597495  0.892692  dummy_constant  0.597495  0.253891  0.163712   \n",
       "21  0.098186  1.051809  dummy_constant  0.098186  0.107800  0.465948   \n",
       "22  0.870210  1.080213  dummy_constant  0.870210  0.938607  0.473703   \n",
       "23  0.909168  0.539845  dummy_constant  0.909168  0.183907  0.169006   \n",
       "24  0.401695  1.177323  dummy_constant  0.401695  0.495303  0.468430   \n",
       "25  0.073263  1.045605  dummy_constant  0.073263  0.055022  0.479789   \n",
       "26  0.567814  0.871300  dummy_constant  0.567814  0.179891  0.142462   \n",
       "27  1.168312  0.681371  dummy_constant  1.168312  0.885165  0.479536   \n",
       "28  0.921029  0.472064  dummy_constant  0.921029  0.043897  0.178046   \n",
       "29  1.048178  0.072246  dummy_constant  1.048178  0.058632  0.483472   \n",
       "30  1.184832  0.398119  dummy_constant  1.184832  0.516666  0.479375   \n",
       "31  0.819995  1.117136  dummy_constant  0.819995  0.996461  0.483253   \n",
       "\n",
       "    xopt_runtime  xopt_error  \n",
       "0       0.000033       False  \n",
       "1       0.000010       False  \n",
       "2       0.000026       False  \n",
       "3       0.000028       False  \n",
       "4       0.000028       False  \n",
       "5       0.000028       False  \n",
       "6       0.000027       False  \n",
       "7       0.000027       False  \n",
       "8       0.000033       False  \n",
       "9       0.000029       False  \n",
       "10      0.000027       False  \n",
       "11      0.000027       False  \n",
       "12      0.000027       False  \n",
       "13      0.000027       False  \n",
       "14      0.000026       False  \n",
       "15      0.000026       False  \n",
       "16      0.000027       False  \n",
       "17      0.000027       False  \n",
       "18      0.000028       False  \n",
       "19      0.000026       False  \n",
       "20      0.000029       False  \n",
       "21      0.000028       False  \n",
       "22      0.000025       False  \n",
       "23      0.000027       False  \n",
       "24      0.000027       False  \n",
       "25      0.000026       False  \n",
       "26      0.000027       False  \n",
       "27      0.000026       False  \n",
       "28      0.000027       False  \n",
       "29      0.000026       False  \n",
       "30      0.000026       False  \n",
       "31      0.000027       False  "
      ]
     },
     "execution_count": 6,
     "metadata": {},
     "output_type": "execute_result"
    }
   ],
   "source": [
    "# view the data\n",
    "X.data"
   ]
  },
  {
   "cell_type": "code",
   "execution_count": 7,
   "metadata": {
    "ExecuteTime": {
     "end_time": "2023-06-14T15:42:06.400652600Z",
     "start_time": "2023-06-14T15:42:05.787612700Z"
    },
    "execution": {
     "iopub.execute_input": "2024-03-12T21:02:59.964039Z",
     "iopub.status.busy": "2024-03-12T21:02:59.963851Z",
     "iopub.status.idle": "2024-03-12T21:03:00.437955Z",
     "shell.execute_reply": "2024-03-12T21:03:00.437320Z"
    }
   },
   "outputs": [
    {
     "data": {
      "image/png": "[encoded data removed]",
      "text/plain": [
       "<Figure size 640x480 with 1 Axes>"
      ]
     },
     "metadata": {},
     "output_type": "display_data"
    }
   ],
   "source": [
    "# plot results\n",
    "ax = X.data.plot(\"x1\", \"x2\")\n",
    "ax.set_aspect(\"equal\")"
   ]
  },
  {
   "cell_type": "code",
   "execution_count": 7,
   "metadata": {
    "ExecuteTime": {
     "end_time": "2023-06-14T15:42:06.419648600Z",
     "start_time": "2023-06-14T15:42:06.401622Z"
    }
   },
   "outputs": [],
   "source": []
  }
 ],
 "metadata": {
  "kernelspec": {
   "display_name": "Python 3 (ipykernel)",
   "language": "python",
   "name": "python3"
  },
  "language_info": {
   "codemirror_mode": {
    "name": "ipython",
    "version": 3
   },
   "file_extension": ".py",
   "mimetype": "text/x-python",
   "name": "python",
   "nbconvert_exporter": "python",
   "pygments_lexer": "ipython3",
   "version": "3.9.18"
  }
 },
 "nbformat": 4,
 "nbformat_minor": 4
}
