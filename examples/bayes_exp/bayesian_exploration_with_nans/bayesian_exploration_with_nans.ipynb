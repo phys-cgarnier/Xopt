{
 "cells": [
  {
   "cell_type": "markdown",
   "metadata": {},
   "source": [
    "# Bayesian Exploration with NaNs\n",
    "\n",
    "As violations of constraints can lead to invalid values of the objective, the evaluate function may simply return NaNs. We demonstrate below how we can still perform Bayesian Exploration in that case."
   ]
  },
  {
   "cell_type": "code",
   "execution_count": 1,
   "metadata": {
    "ExecuteTime": {
     "end_time": "2023-06-14T15:37:25.535638700Z",
     "start_time": "2023-06-14T15:37:22.379218300Z"
    },
    "execution": {
     "iopub.execute_input": "2024-01-25T21:42:05.961664Z",
     "iopub.status.busy": "2024-01-25T21:42:05.961487Z",
     "iopub.status.idle": "2024-01-25T21:42:08.035520Z",
     "shell.execute_reply": "2024-01-25T21:42:08.034909Z"
    }
   },
   "outputs": [],
   "source": [
    "# set values if testing\n",
    "import os\n",
    "SMOKE_TEST = os.environ.get(\"SMOKE_TEST\")\n",
    "NUM_MC_SAMPLES = 1 if SMOKE_TEST else 128\n",
    "NUM_RESTARTS = 1 if SMOKE_TEST else 20\n",
    "\n",
    "# Ignore all warnings\n",
    "import warnings\n",
    "warnings.filterwarnings(\"ignore\")\n",
    "\n",
    "import pandas as pd\n",
    "import torch\n",
    "import yaml\n",
    "from copy import deepcopy\n",
    "from xopt import Xopt, Evaluator\n",
    "from xopt.generators.bayesian import BayesianExplorationGenerator\n",
    "from xopt.resources.test_functions.tnk import evaluate_TNK, tnk_vocs\n",
    "\n",
    "vocs = deepcopy(tnk_vocs)\n",
    "vocs.objectives = {}\n",
    "vocs.observables = [\"y1\"]"
   ]
  },
  {
   "cell_type": "code",
   "execution_count": 2,
   "metadata": {
    "ExecuteTime": {
     "end_time": "2023-06-14T15:37:25.549637200Z",
     "start_time": "2023-06-14T15:37:25.539666500Z"
    },
    "execution": {
     "iopub.execute_input": "2024-01-25T21:42:08.038317Z",
     "iopub.status.busy": "2024-01-25T21:42:08.038051Z",
     "iopub.status.idle": "2024-01-25T21:42:08.042087Z",
     "shell.execute_reply": "2024-01-25T21:42:08.041586Z"
    }
   },
   "outputs": [],
   "source": [
    "# modify the evaluate function to return NaNs if constraints are violated\n",
    "def evaluate(input_dict):\n",
    "    output_dict = evaluate_TNK(input_dict)\n",
    "    del output_dict[\"y2\"]\n",
    "    for c in vocs.constraints.keys():\n",
    "        if vocs.constraints[c][0].upper() == \"GREATER_THAN\" and output_dict[c] <= vocs.constraints[c][1]:\n",
    "            output_dict[\"y1\"] = torch.nan\n",
    "        elif vocs.constraints[c][0].upper() == \"LESS_THAN\" and output_dict[c] >= vocs.constraints[c][1]:\n",
    "            output_dict[\"y1\"] = torch.nan\n",
    "    return output_dict"
   ]
  },
  {
   "cell_type": "code",
   "execution_count": 3,
   "metadata": {
    "ExecuteTime": {
     "end_time": "2023-06-14T15:37:25.580538800Z",
     "start_time": "2023-06-14T15:37:25.552636600Z"
    },
    "execution": {
     "iopub.execute_input": "2024-01-25T21:42:08.044194Z",
     "iopub.status.busy": "2024-01-25T21:42:08.043865Z",
     "iopub.status.idle": "2024-01-25T21:42:08.058329Z",
     "shell.execute_reply": "2024-01-25T21:42:08.057782Z"
    }
   },
   "outputs": [
    {
     "data": {
      "text/plain": [
       "\n",
       "            Xopt\n",
       "________________________________\n",
       "Version: 0+untagged.1.gfcbdd82\n",
       "Data size: 0\n",
       "Config as YAML:\n",
       "dump_file: null\n",
       "evaluator:\n",
       "  function: __main__.evaluate\n",
       "  function_kwargs: {}\n",
       "  max_workers: 1\n",
       "  vectorized: false\n",
       "generator:\n",
       "  computation_time: null\n",
       "  fixed_features: null\n",
       "  gp_constructor:\n",
       "    covar_modules: {}\n",
       "    mean_modules: {}\n",
       "    name: standard\n",
       "    trainable_mean_keys: []\n",
       "    use_low_noise_prior: true\n",
       "  log_transform_acquisition_function: false\n",
       "  max_travel_distances:\n",
       "  - 0.25\n",
       "  - 0.25\n",
       "  model: null\n",
       "  n_candidates: 1\n",
       "  n_interpolate_points: null\n",
       "  n_monte_carlo_samples: 128\n",
       "  name: bayesian_exploration\n",
       "  numerical_optimizer:\n",
       "    max_iter: 2000\n",
       "    max_time: null\n",
       "    n_restarts: 20\n",
       "    name: LBFGS\n",
       "  supports_batch_generation: true\n",
       "  turbo_controller: null\n",
       "  use_cuda: false\n",
       "max_evaluations: null\n",
       "serialize_inline: false\n",
       "serialize_torch: false\n",
       "strict: true\n",
       "vocs:\n",
       "  constants:\n",
       "    a: dummy_constant\n",
       "  constraints:\n",
       "    c1:\n",
       "    - GREATER_THAN\n",
       "    - 0.0\n",
       "    c2:\n",
       "    - LESS_THAN\n",
       "    - 0.5\n",
       "  objectives: {}\n",
       "  observables:\n",
       "  - y1\n",
       "  variables:\n",
       "    x1:\n",
       "    - 0.0\n",
       "    - 3.14159\n",
       "    x2:\n",
       "    - 0.0\n",
       "    - 3.14159\n"
      ]
     },
     "execution_count": 3,
     "metadata": {},
     "output_type": "execute_result"
    }
   ],
   "source": [
    "generator = BayesianExplorationGenerator(vocs=vocs)\n",
    "generator.max_travel_distances = [0.25, 0.25]\n",
    "generator.n_monte_carlo_samples = NUM_MC_SAMPLES\n",
    "generator.numerical_optimizer.n_restarts = NUM_RESTARTS\n",
    "\n",
    "evaluator = Evaluator(function=evaluate)\n",
    "X = Xopt(generator=generator, evaluator=evaluator, vocs=vocs)\n",
    "X"
   ]
  },
  {
   "cell_type": "markdown",
   "metadata": {},
   "source": [
    "## Run exploration\n",
    "We start with evaluating 2 points that we know satisfy the constraints. We then run\n",
    "30 exploration steps."
   ]
  },
  {
   "cell_type": "code",
   "execution_count": 4,
   "metadata": {
    "ExecuteTime": {
     "end_time": "2023-06-14T15:37:25.638907100Z",
     "start_time": "2023-06-14T15:37:25.582541Z"
    },
    "execution": {
     "iopub.execute_input": "2024-01-25T21:42:08.087990Z",
     "iopub.status.busy": "2024-01-25T21:42:08.087663Z",
     "iopub.status.idle": "2024-01-25T21:42:08.100523Z",
     "shell.execute_reply": "2024-01-25T21:42:08.099981Z"
    }
   },
   "outputs": [
    {
     "data": {
      "text/html": [
       "<div>\n",
       "<style scoped>\n",
       "    .dataframe tbody tr th:only-of-type {\n",
       "        vertical-align: middle;\n",
       "    }\n",
       "\n",
       "    .dataframe tbody tr th {\n",
       "        vertical-align: top;\n",
       "    }\n",
       "\n",
       "    .dataframe thead th {\n",
       "        text-align: right;\n",
       "    }\n",
       "</style>\n",
       "<table border=\"1\" class=\"dataframe\">\n",
       "  <thead>\n",
       "    <tr style=\"text-align: right;\">\n",
       "      <th></th>\n",
       "      <th>x1</th>\n",
       "      <th>x2</th>\n",
       "      <th>a</th>\n",
       "      <th>y1</th>\n",
       "      <th>c1</th>\n",
       "      <th>c2</th>\n",
       "      <th>xopt_runtime</th>\n",
       "      <th>xopt_error</th>\n",
       "    </tr>\n",
       "  </thead>\n",
       "  <tbody>\n",
       "    <tr>\n",
       "      <th>0</th>\n",
       "      <td>1.00</td>\n",
       "      <td>0.70</td>\n",
       "      <td>dummy_constant</td>\n",
       "      <td>1.00</td>\n",
       "      <td>0.584045</td>\n",
       "      <td>0.290</td>\n",
       "      <td>0.000050</td>\n",
       "      <td>False</td>\n",
       "    </tr>\n",
       "    <tr>\n",
       "      <th>1</th>\n",
       "      <td>0.75</td>\n",
       "      <td>0.95</td>\n",
       "      <td>dummy_constant</td>\n",
       "      <td>0.75</td>\n",
       "      <td>0.494833</td>\n",
       "      <td>0.265</td>\n",
       "      <td>0.000023</td>\n",
       "      <td>False</td>\n",
       "    </tr>\n",
       "  </tbody>\n",
       "</table>\n",
       "</div>"
      ],
      "text/plain": [
       "     x1    x2               a    y1        c1     c2  xopt_runtime  xopt_error\n",
       "0  1.00  0.70  dummy_constant  1.00  0.584045  0.290      0.000050       False\n",
       "1  0.75  0.95  dummy_constant  0.75  0.494833  0.265      0.000023       False"
      ]
     },
     "execution_count": 4,
     "metadata": {},
     "output_type": "execute_result"
    }
   ],
   "source": [
    "X.evaluate_data(pd.DataFrame({\"x1\": [1.0, 0.75], \"x2\": [0.7, 0.95]}))"
   ]
  },
  {
   "cell_type": "code",
   "execution_count": 5,
   "metadata": {
    "ExecuteTime": {
     "end_time": "2023-06-14T15:42:05.755461900Z",
     "start_time": "2023-06-14T15:37:25.611873400Z"
    },
    "execution": {
     "iopub.execute_input": "2024-01-25T21:42:08.102670Z",
     "iopub.status.busy": "2024-01-25T21:42:08.102357Z",
     "iopub.status.idle": "2024-01-25T21:43:21.498757Z",
     "shell.execute_reply": "2024-01-25T21:43:21.498179Z"
    },
    "scrolled": false
   },
   "outputs": [
    {
     "name": "stdout",
     "output_type": "stream",
     "text": [
      "step 0\n"
     ]
    },
    {
     "name": "stdout",
     "output_type": "stream",
     "text": [
      "step 1\n"
     ]
    },
    {
     "name": "stdout",
     "output_type": "stream",
     "text": [
      "step 2\n"
     ]
    },
    {
     "name": "stdout",
     "output_type": "stream",
     "text": [
      "step 3\n"
     ]
    },
    {
     "name": "stdout",
     "output_type": "stream",
     "text": [
      "step 4\n"
     ]
    },
    {
     "name": "stdout",
     "output_type": "stream",
     "text": [
      "step 5\n"
     ]
    },
    {
     "name": "stdout",
     "output_type": "stream",
     "text": [
      "step 6\n"
     ]
    },
    {
     "name": "stdout",
     "output_type": "stream",
     "text": [
      "step 7\n"
     ]
    },
    {
     "name": "stdout",
     "output_type": "stream",
     "text": [
      "step 8\n"
     ]
    },
    {
     "name": "stdout",
     "output_type": "stream",
     "text": [
      "step 9\n"
     ]
    },
    {
     "name": "stdout",
     "output_type": "stream",
     "text": [
      "step 10\n"
     ]
    },
    {
     "name": "stdout",
     "output_type": "stream",
     "text": [
      "step 11\n"
     ]
    },
    {
     "name": "stdout",
     "output_type": "stream",
     "text": [
      "step 12\n"
     ]
    },
    {
     "name": "stdout",
     "output_type": "stream",
     "text": [
      "step 13\n"
     ]
    },
    {
     "name": "stdout",
     "output_type": "stream",
     "text": [
      "step 14\n"
     ]
    },
    {
     "name": "stdout",
     "output_type": "stream",
     "text": [
      "step 15\n"
     ]
    },
    {
     "name": "stdout",
     "output_type": "stream",
     "text": [
      "step 16\n"
     ]
    },
    {
     "name": "stdout",
     "output_type": "stream",
     "text": [
      "step 17\n"
     ]
    },
    {
     "name": "stdout",
     "output_type": "stream",
     "text": [
      "step 18\n"
     ]
    },
    {
     "name": "stdout",
     "output_type": "stream",
     "text": [
      "step 19\n"
     ]
    },
    {
     "name": "stdout",
     "output_type": "stream",
     "text": [
      "step 20\n"
     ]
    },
    {
     "name": "stdout",
     "output_type": "stream",
     "text": [
      "step 21\n"
     ]
    },
    {
     "name": "stdout",
     "output_type": "stream",
     "text": [
      "step 22\n"
     ]
    },
    {
     "name": "stdout",
     "output_type": "stream",
     "text": [
      "step 23\n"
     ]
    },
    {
     "name": "stdout",
     "output_type": "stream",
     "text": [
      "step 24\n"
     ]
    },
    {
     "name": "stdout",
     "output_type": "stream",
     "text": [
      "step 25\n"
     ]
    },
    {
     "name": "stdout",
     "output_type": "stream",
     "text": [
      "step 26\n"
     ]
    },
    {
     "name": "stdout",
     "output_type": "stream",
     "text": [
      "step 27\n"
     ]
    },
    {
     "name": "stdout",
     "output_type": "stream",
     "text": [
      "step 28\n"
     ]
    },
    {
     "name": "stdout",
     "output_type": "stream",
     "text": [
      "step 29\n"
     ]
    }
   ],
   "source": [
    "N_STEPS = 1 if SMOKE_TEST else 30\n",
    "for i in range(N_STEPS):\n",
    "    print(f\"step {i}\")\n",
    "    X.step()"
   ]
  },
  {
   "cell_type": "code",
   "execution_count": 6,
   "metadata": {
    "ExecuteTime": {
     "end_time": "2023-06-14T15:42:05.786611100Z",
     "start_time": "2023-06-14T15:42:05.773463300Z"
    },
    "execution": {
     "iopub.execute_input": "2024-01-25T21:43:21.501730Z",
     "iopub.status.busy": "2024-01-25T21:43:21.501278Z",
     "iopub.status.idle": "2024-01-25T21:43:21.516138Z",
     "shell.execute_reply": "2024-01-25T21:43:21.515603Z"
    }
   },
   "outputs": [
    {
     "data": {
      "text/html": [
       "<div>\n",
       "<style scoped>\n",
       "    .dataframe tbody tr th:only-of-type {\n",
       "        vertical-align: middle;\n",
       "    }\n",
       "\n",
       "    .dataframe tbody tr th {\n",
       "        vertical-align: top;\n",
       "    }\n",
       "\n",
       "    .dataframe thead th {\n",
       "        text-align: right;\n",
       "    }\n",
       "</style>\n",
       "<table border=\"1\" class=\"dataframe\">\n",
       "  <thead>\n",
       "    <tr style=\"text-align: right;\">\n",
       "      <th></th>\n",
       "      <th>x1</th>\n",
       "      <th>x2</th>\n",
       "      <th>a</th>\n",
       "      <th>y1</th>\n",
       "      <th>c1</th>\n",
       "      <th>c2</th>\n",
       "      <th>xopt_runtime</th>\n",
       "      <th>xopt_error</th>\n",
       "    </tr>\n",
       "  </thead>\n",
       "  <tbody>\n",
       "    <tr>\n",
       "      <th>0</th>\n",
       "      <td>1.000000</td>\n",
       "      <td>0.700000</td>\n",
       "      <td>dummy_constant</td>\n",
       "      <td>1.000000</td>\n",
       "      <td>0.584045</td>\n",
       "      <td>0.290000</td>\n",
       "      <td>0.000050</td>\n",
       "      <td>False</td>\n",
       "    </tr>\n",
       "    <tr>\n",
       "      <th>1</th>\n",
       "      <td>0.750000</td>\n",
       "      <td>0.950000</td>\n",
       "      <td>dummy_constant</td>\n",
       "      <td>0.750000</td>\n",
       "      <td>0.494833</td>\n",
       "      <td>0.265000</td>\n",
       "      <td>0.000023</td>\n",
       "      <td>False</td>\n",
       "    </tr>\n",
       "    <tr>\n",
       "      <th>2</th>\n",
       "      <td>1.535397</td>\n",
       "      <td>1.735397</td>\n",
       "      <td>dummy_constant</td>\n",
       "      <td>NaN</td>\n",
       "      <td>4.313110</td>\n",
       "      <td>2.598255</td>\n",
       "      <td>0.000031</td>\n",
       "      <td>False</td>\n",
       "    </tr>\n",
       "    <tr>\n",
       "      <th>3</th>\n",
       "      <td>2.320795</td>\n",
       "      <td>0.950000</td>\n",
       "      <td>dummy_constant</td>\n",
       "      <td>NaN</td>\n",
       "      <td>5.188811</td>\n",
       "      <td>3.517794</td>\n",
       "      <td>0.000028</td>\n",
       "      <td>False</td>\n",
       "    </tr>\n",
       "    <tr>\n",
       "      <th>4</th>\n",
       "      <td>3.106192</td>\n",
       "      <td>0.164602</td>\n",
       "      <td>dummy_constant</td>\n",
       "      <td>NaN</td>\n",
       "      <td>8.609308</td>\n",
       "      <td>6.904731</td>\n",
       "      <td>0.000028</td>\n",
       "      <td>False</td>\n",
       "    </tr>\n",
       "    <tr>\n",
       "      <th>5</th>\n",
       "      <td>3.007515</td>\n",
       "      <td>0.630271</td>\n",
       "      <td>dummy_constant</td>\n",
       "      <td>NaN</td>\n",
       "      <td>8.541051</td>\n",
       "      <td>6.304601</td>\n",
       "      <td>0.000027</td>\n",
       "      <td>False</td>\n",
       "    </tr>\n",
       "    <tr>\n",
       "      <th>6</th>\n",
       "      <td>2.255491</td>\n",
       "      <td>0.881220</td>\n",
       "      <td>dummy_constant</td>\n",
       "      <td>NaN</td>\n",
       "      <td>4.768984</td>\n",
       "      <td>3.227077</td>\n",
       "      <td>0.000027</td>\n",
       "      <td>False</td>\n",
       "    </tr>\n",
       "    <tr>\n",
       "      <th>7</th>\n",
       "      <td>1.470093</td>\n",
       "      <td>0.095823</td>\n",
       "      <td>dummy_constant</td>\n",
       "      <td>NaN</td>\n",
       "      <td>1.119858</td>\n",
       "      <td>1.104441</td>\n",
       "      <td>0.000027</td>\n",
       "      <td>False</td>\n",
       "    </tr>\n",
       "    <tr>\n",
       "      <th>8</th>\n",
       "      <td>0.684696</td>\n",
       "      <td>0.000000</td>\n",
       "      <td>dummy_constant</td>\n",
       "      <td>NaN</td>\n",
       "      <td>-0.631191</td>\n",
       "      <td>0.284113</td>\n",
       "      <td>0.000026</td>\n",
       "      <td>False</td>\n",
       "    </tr>\n",
       "    <tr>\n",
       "      <th>9</th>\n",
       "      <td>0.000000</td>\n",
       "      <td>0.767053</td>\n",
       "      <td>dummy_constant</td>\n",
       "      <td>NaN</td>\n",
       "      <td>-0.511630</td>\n",
       "      <td>0.321317</td>\n",
       "      <td>0.000027</td>\n",
       "      <td>False</td>\n",
       "    </tr>\n",
       "    <tr>\n",
       "      <th>10</th>\n",
       "      <td>0.000000</td>\n",
       "      <td>1.552451</td>\n",
       "      <td>dummy_constant</td>\n",
       "      <td>NaN</td>\n",
       "      <td>1.310103</td>\n",
       "      <td>1.357652</td>\n",
       "      <td>0.000027</td>\n",
       "      <td>False</td>\n",
       "    </tr>\n",
       "    <tr>\n",
       "      <th>11</th>\n",
       "      <td>0.405883</td>\n",
       "      <td>1.061474</td>\n",
       "      <td>dummy_constant</td>\n",
       "      <td>0.405883</td>\n",
       "      <td>0.200978</td>\n",
       "      <td>0.324112</td>\n",
       "      <td>0.000027</td>\n",
       "      <td>False</td>\n",
       "    </tr>\n",
       "    <tr>\n",
       "      <th>12</th>\n",
       "      <td>1.058661</td>\n",
       "      <td>0.276077</td>\n",
       "      <td>dummy_constant</td>\n",
       "      <td>1.058661</td>\n",
       "      <td>0.255963</td>\n",
       "      <td>0.362244</td>\n",
       "      <td>0.000028</td>\n",
       "      <td>False</td>\n",
       "    </tr>\n",
       "    <tr>\n",
       "      <th>13</th>\n",
       "      <td>0.797582</td>\n",
       "      <td>0.674034</td>\n",
       "      <td>dummy_constant</td>\n",
       "      <td>0.797582</td>\n",
       "      <td>0.067595</td>\n",
       "      <td>0.118843</td>\n",
       "      <td>0.000026</td>\n",
       "      <td>False</td>\n",
       "    </tr>\n",
       "    <tr>\n",
       "      <th>14</th>\n",
       "      <td>1.154687</td>\n",
       "      <td>0.637293</td>\n",
       "      <td>dummy_constant</td>\n",
       "      <td>1.154687</td>\n",
       "      <td>0.760783</td>\n",
       "      <td>0.447464</td>\n",
       "      <td>0.000028</td>\n",
       "      <td>False</td>\n",
       "    </tr>\n",
       "    <tr>\n",
       "      <th>15</th>\n",
       "      <td>0.678387</td>\n",
       "      <td>1.124395</td>\n",
       "      <td>dummy_constant</td>\n",
       "      <td>0.678387</td>\n",
       "      <td>0.798394</td>\n",
       "      <td>0.421691</td>\n",
       "      <td>0.000026</td>\n",
       "      <td>False</td>\n",
       "    </tr>\n",
       "    <tr>\n",
       "      <th>16</th>\n",
       "      <td>0.968013</td>\n",
       "      <td>0.962313</td>\n",
       "      <td>dummy_constant</td>\n",
       "      <td>0.968013</td>\n",
       "      <td>0.763207</td>\n",
       "      <td>0.432770</td>\n",
       "      <td>0.000027</td>\n",
       "      <td>False</td>\n",
       "    </tr>\n",
       "    <tr>\n",
       "      <th>17</th>\n",
       "      <td>0.237374</td>\n",
       "      <td>1.092551</td>\n",
       "      <td>dummy_constant</td>\n",
       "      <td>0.237374</td>\n",
       "      <td>0.346079</td>\n",
       "      <td>0.420089</td>\n",
       "      <td>0.000027</td>\n",
       "      <td>False</td>\n",
       "    </tr>\n",
       "    <tr>\n",
       "      <th>18</th>\n",
       "      <td>0.149109</td>\n",
       "      <td>1.064850</td>\n",
       "      <td>dummy_constant</td>\n",
       "      <td>0.149109</td>\n",
       "      <td>0.217071</td>\n",
       "      <td>0.442180</td>\n",
       "      <td>0.000027</td>\n",
       "      <td>False</td>\n",
       "    </tr>\n",
       "    <tr>\n",
       "      <th>19</th>\n",
       "      <td>0.567375</td>\n",
       "      <td>1.169826</td>\n",
       "      <td>dummy_constant</td>\n",
       "      <td>0.567375</td>\n",
       "      <td>0.631600</td>\n",
       "      <td>0.453206</td>\n",
       "      <td>0.000028</td>\n",
       "      <td>False</td>\n",
       "    </tr>\n",
       "    <tr>\n",
       "      <th>20</th>\n",
       "      <td>1.175509</td>\n",
       "      <td>0.487518</td>\n",
       "      <td>dummy_constant</td>\n",
       "      <td>1.175509</td>\n",
       "      <td>0.519499</td>\n",
       "      <td>0.456469</td>\n",
       "      <td>0.000028</td>\n",
       "      <td>False</td>\n",
       "    </tr>\n",
       "    <tr>\n",
       "      <th>21</th>\n",
       "      <td>1.054006</td>\n",
       "      <td>0.129734</td>\n",
       "      <td>dummy_constant</td>\n",
       "      <td>1.054006</td>\n",
       "      <td>0.165661</td>\n",
       "      <td>0.444020</td>\n",
       "      <td>0.000027</td>\n",
       "      <td>False</td>\n",
       "    </tr>\n",
       "    <tr>\n",
       "      <th>22</th>\n",
       "      <td>1.034579</td>\n",
       "      <td>0.915131</td>\n",
       "      <td>dummy_constant</td>\n",
       "      <td>1.034579</td>\n",
       "      <td>0.852034</td>\n",
       "      <td>0.458109</td>\n",
       "      <td>0.000028</td>\n",
       "      <td>False</td>\n",
       "    </tr>\n",
       "    <tr>\n",
       "      <th>23</th>\n",
       "      <td>0.610975</td>\n",
       "      <td>0.864735</td>\n",
       "      <td>dummy_constant</td>\n",
       "      <td>0.610975</td>\n",
       "      <td>0.212493</td>\n",
       "      <td>0.145348</td>\n",
       "      <td>0.000027</td>\n",
       "      <td>False</td>\n",
       "    </tr>\n",
       "    <tr>\n",
       "      <th>24</th>\n",
       "      <td>1.047281</td>\n",
       "      <td>0.096229</td>\n",
       "      <td>dummy_constant</td>\n",
       "      <td>1.047281</td>\n",
       "      <td>0.095600</td>\n",
       "      <td>0.462548</td>\n",
       "      <td>0.000027</td>\n",
       "      <td>False</td>\n",
       "    </tr>\n",
       "    <tr>\n",
       "      <th>25</th>\n",
       "      <td>0.900263</td>\n",
       "      <td>0.507603</td>\n",
       "      <td>dummy_constant</td>\n",
       "      <td>0.900263</td>\n",
       "      <td>0.103409</td>\n",
       "      <td>0.160268</td>\n",
       "      <td>0.000028</td>\n",
       "      <td>False</td>\n",
       "    </tr>\n",
       "    <tr>\n",
       "      <th>26</th>\n",
       "      <td>0.114865</td>\n",
       "      <td>1.059155</td>\n",
       "      <td>dummy_constant</td>\n",
       "      <td>0.114865</td>\n",
       "      <td>0.150702</td>\n",
       "      <td>0.460983</td>\n",
       "      <td>0.000027</td>\n",
       "      <td>False</td>\n",
       "    </tr>\n",
       "    <tr>\n",
       "      <th>27</th>\n",
       "      <td>0.792351</td>\n",
       "      <td>1.115809</td>\n",
       "      <td>dummy_constant</td>\n",
       "      <td>0.792351</td>\n",
       "      <td>0.962680</td>\n",
       "      <td>0.464690</td>\n",
       "      <td>0.000027</td>\n",
       "      <td>False</td>\n",
       "    </tr>\n",
       "    <tr>\n",
       "      <th>28</th>\n",
       "      <td>0.453491</td>\n",
       "      <td>1.181289</td>\n",
       "      <td>dummy_constant</td>\n",
       "      <td>0.453491</td>\n",
       "      <td>0.509726</td>\n",
       "      <td>0.466318</td>\n",
       "      <td>0.000028</td>\n",
       "      <td>False</td>\n",
       "    </tr>\n",
       "    <tr>\n",
       "      <th>29</th>\n",
       "      <td>0.546072</td>\n",
       "      <td>0.884424</td>\n",
       "      <td>dummy_constant</td>\n",
       "      <td>0.546072</td>\n",
       "      <td>0.164344</td>\n",
       "      <td>0.149904</td>\n",
       "      <td>0.000027</td>\n",
       "      <td>False</td>\n",
       "    </tr>\n",
       "    <tr>\n",
       "      <th>30</th>\n",
       "      <td>1.158198</td>\n",
       "      <td>0.702328</td>\n",
       "      <td>dummy_constant</td>\n",
       "      <td>1.158198</td>\n",
       "      <td>0.910976</td>\n",
       "      <td>0.474161</td>\n",
       "      <td>0.000027</td>\n",
       "      <td>False</td>\n",
       "    </tr>\n",
       "    <tr>\n",
       "      <th>31</th>\n",
       "      <td>1.178617</td>\n",
       "      <td>0.422603</td>\n",
       "      <td>dummy_constant</td>\n",
       "      <td>1.178617</td>\n",
       "      <td>0.496270</td>\n",
       "      <td>0.466511</td>\n",
       "      <td>0.000028</td>\n",
       "      <td>False</td>\n",
       "    </tr>\n",
       "  </tbody>\n",
       "</table>\n",
       "</div>"
      ],
      "text/plain": [
       "          x1        x2               a        y1        c1        c2  \\\n",
       "0   1.000000  0.700000  dummy_constant  1.000000  0.584045  0.290000   \n",
       "1   0.750000  0.950000  dummy_constant  0.750000  0.494833  0.265000   \n",
       "2   1.535397  1.735397  dummy_constant       NaN  4.313110  2.598255   \n",
       "3   2.320795  0.950000  dummy_constant       NaN  5.188811  3.517794   \n",
       "4   3.106192  0.164602  dummy_constant       NaN  8.609308  6.904731   \n",
       "5   3.007515  0.630271  dummy_constant       NaN  8.541051  6.304601   \n",
       "6   2.255491  0.881220  dummy_constant       NaN  4.768984  3.227077   \n",
       "7   1.470093  0.095823  dummy_constant       NaN  1.119858  1.104441   \n",
       "8   0.684696  0.000000  dummy_constant       NaN -0.631191  0.284113   \n",
       "9   0.000000  0.767053  dummy_constant       NaN -0.511630  0.321317   \n",
       "10  0.000000  1.552451  dummy_constant       NaN  1.310103  1.357652   \n",
       "11  0.405883  1.061474  dummy_constant  0.405883  0.200978  0.324112   \n",
       "12  1.058661  0.276077  dummy_constant  1.058661  0.255963  0.362244   \n",
       "13  0.797582  0.674034  dummy_constant  0.797582  0.067595  0.118843   \n",
       "14  1.154687  0.637293  dummy_constant  1.154687  0.760783  0.447464   \n",
       "15  0.678387  1.124395  dummy_constant  0.678387  0.798394  0.421691   \n",
       "16  0.968013  0.962313  dummy_constant  0.968013  0.763207  0.432770   \n",
       "17  0.237374  1.092551  dummy_constant  0.237374  0.346079  0.420089   \n",
       "18  0.149109  1.064850  dummy_constant  0.149109  0.217071  0.442180   \n",
       "19  0.567375  1.169826  dummy_constant  0.567375  0.631600  0.453206   \n",
       "20  1.175509  0.487518  dummy_constant  1.175509  0.519499  0.456469   \n",
       "21  1.054006  0.129734  dummy_constant  1.054006  0.165661  0.444020   \n",
       "22  1.034579  0.915131  dummy_constant  1.034579  0.852034  0.458109   \n",
       "23  0.610975  0.864735  dummy_constant  0.610975  0.212493  0.145348   \n",
       "24  1.047281  0.096229  dummy_constant  1.047281  0.095600  0.462548   \n",
       "25  0.900263  0.507603  dummy_constant  0.900263  0.103409  0.160268   \n",
       "26  0.114865  1.059155  dummy_constant  0.114865  0.150702  0.460983   \n",
       "27  0.792351  1.115809  dummy_constant  0.792351  0.962680  0.464690   \n",
       "28  0.453491  1.181289  dummy_constant  0.453491  0.509726  0.466318   \n",
       "29  0.546072  0.884424  dummy_constant  0.546072  0.164344  0.149904   \n",
       "30  1.158198  0.702328  dummy_constant  1.158198  0.910976  0.474161   \n",
       "31  1.178617  0.422603  dummy_constant  1.178617  0.496270  0.466511   \n",
       "\n",
       "    xopt_runtime  xopt_error  \n",
       "0       0.000050       False  \n",
       "1       0.000023       False  \n",
       "2       0.000031       False  \n",
       "3       0.000028       False  \n",
       "4       0.000028       False  \n",
       "5       0.000027       False  \n",
       "6       0.000027       False  \n",
       "7       0.000027       False  \n",
       "8       0.000026       False  \n",
       "9       0.000027       False  \n",
       "10      0.000027       False  \n",
       "11      0.000027       False  \n",
       "12      0.000028       False  \n",
       "13      0.000026       False  \n",
       "14      0.000028       False  \n",
       "15      0.000026       False  \n",
       "16      0.000027       False  \n",
       "17      0.000027       False  \n",
       "18      0.000027       False  \n",
       "19      0.000028       False  \n",
       "20      0.000028       False  \n",
       "21      0.000027       False  \n",
       "22      0.000028       False  \n",
       "23      0.000027       False  \n",
       "24      0.000027       False  \n",
       "25      0.000028       False  \n",
       "26      0.000027       False  \n",
       "27      0.000027       False  \n",
       "28      0.000028       False  \n",
       "29      0.000027       False  \n",
       "30      0.000027       False  \n",
       "31      0.000028       False  "
      ]
     },
     "execution_count": 6,
     "metadata": {},
     "output_type": "execute_result"
    }
   ],
   "source": [
    "# view the data\n",
    "X.data"
   ]
  },
  {
   "cell_type": "code",
   "execution_count": 7,
   "metadata": {
    "ExecuteTime": {
     "end_time": "2023-06-14T15:42:06.400652600Z",
     "start_time": "2023-06-14T15:42:05.787612700Z"
    },
    "execution": {
     "iopub.execute_input": "2024-01-25T21:43:21.518432Z",
     "iopub.status.busy": "2024-01-25T21:43:21.518257Z",
     "iopub.status.idle": "2024-01-25T21:43:21.888624Z",
     "shell.execute_reply": "2024-01-25T21:43:21.888014Z"
    }
   },
   "outputs": [
    {
     "data": {
      "image/png": "[encoded data removed]",
      "text/plain": [
       "<Figure size 640x480 with 1 Axes>"
      ]
     },
     "metadata": {},
     "output_type": "display_data"
    }
   ],
   "source": [
    "# plot results\n",
    "ax = X.data.plot(\"x1\", \"x2\")\n",
    "ax.set_aspect(\"equal\")"
   ]
  },
  {
   "cell_type": "code",
   "execution_count": 7,
   "metadata": {
    "ExecuteTime": {
     "end_time": "2023-06-14T15:42:06.419648600Z",
     "start_time": "2023-06-14T15:42:06.401622Z"
    }
   },
   "outputs": [],
   "source": []
  }
 ],
 "metadata": {
  "kernelspec": {
   "display_name": "Python 3 (ipykernel)",
   "language": "python",
   "name": "python3"
  },
  "language_info": {
   "codemirror_mode": {
    "name": "ipython",
    "version": 3
   },
   "file_extension": ".py",
   "mimetype": "text/x-python",
   "name": "python",
   "nbconvert_exporter": "python",
   "pygments_lexer": "ipython3",
   "version": "3.9.18"
  }
 },
 "nbformat": 4,
 "nbformat_minor": 4
}
