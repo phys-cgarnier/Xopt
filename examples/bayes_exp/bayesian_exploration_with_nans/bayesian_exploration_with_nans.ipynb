{
 "cells": [
  {
   "cell_type": "markdown",
   "metadata": {},
   "source": [
    "# Bayesian Exploration with NaNs\n",
    "\n",
    "As violations of constraints can lead to invalid values of the objective, the evaluate function may simply return NaNs. We demonstrate below how we can still perform Bayesian Exploration in that case."
   ]
  },
  {
   "cell_type": "code",
   "execution_count": 1,
   "metadata": {
    "ExecuteTime": {
     "end_time": "2023-06-14T15:37:25.535638700Z",
     "start_time": "2023-06-14T15:37:22.379218300Z"
    },
    "execution": {
     "iopub.execute_input": "2024-01-31T17:14:46.144827Z",
     "iopub.status.busy": "2024-01-31T17:14:46.144647Z",
     "iopub.status.idle": "2024-01-31T17:14:48.307328Z",
     "shell.execute_reply": "2024-01-31T17:14:48.306607Z"
    }
   },
   "outputs": [],
   "source": [
    "# set values if testing\n",
    "import os\n",
    "SMOKE_TEST = os.environ.get(\"SMOKE_TEST\")\n",
    "NUM_MC_SAMPLES = 1 if SMOKE_TEST else 128\n",
    "NUM_RESTARTS = 1 if SMOKE_TEST else 20\n",
    "\n",
    "# Ignore all warnings\n",
    "import warnings\n",
    "warnings.filterwarnings(\"ignore\")\n",
    "\n",
    "import pandas as pd\n",
    "import torch\n",
    "import yaml\n",
    "from copy import deepcopy\n",
    "from xopt import Xopt, Evaluator\n",
    "from xopt.generators.bayesian import BayesianExplorationGenerator\n",
    "from xopt.resources.test_functions.tnk import evaluate_TNK, tnk_vocs\n",
    "\n",
    "vocs = deepcopy(tnk_vocs)\n",
    "vocs.objectives = {}\n",
    "vocs.observables = [\"y1\"]"
   ]
  },
  {
   "cell_type": "code",
   "execution_count": 2,
   "metadata": {
    "ExecuteTime": {
     "end_time": "2023-06-14T15:37:25.549637200Z",
     "start_time": "2023-06-14T15:37:25.539666500Z"
    },
    "execution": {
     "iopub.execute_input": "2024-01-31T17:14:48.310193Z",
     "iopub.status.busy": "2024-01-31T17:14:48.309921Z",
     "iopub.status.idle": "2024-01-31T17:14:48.314096Z",
     "shell.execute_reply": "2024-01-31T17:14:48.313545Z"
    }
   },
   "outputs": [],
   "source": [
    "# modify the evaluate function to return NaNs if constraints are violated\n",
    "def evaluate(input_dict):\n",
    "    output_dict = evaluate_TNK(input_dict)\n",
    "    del output_dict[\"y2\"]\n",
    "    for c in vocs.constraints.keys():\n",
    "        if vocs.constraints[c][0].upper() == \"GREATER_THAN\" and output_dict[c] <= vocs.constraints[c][1]:\n",
    "            output_dict[\"y1\"] = torch.nan\n",
    "        elif vocs.constraints[c][0].upper() == \"LESS_THAN\" and output_dict[c] >= vocs.constraints[c][1]:\n",
    "            output_dict[\"y1\"] = torch.nan\n",
    "    return output_dict"
   ]
  },
  {
   "cell_type": "code",
   "execution_count": 3,
   "metadata": {
    "ExecuteTime": {
     "end_time": "2023-06-14T15:37:25.580538800Z",
     "start_time": "2023-06-14T15:37:25.552636600Z"
    },
    "execution": {
     "iopub.execute_input": "2024-01-31T17:14:48.316215Z",
     "iopub.status.busy": "2024-01-31T17:14:48.315880Z",
     "iopub.status.idle": "2024-01-31T17:14:48.332711Z",
     "shell.execute_reply": "2024-01-31T17:14:48.332137Z"
    }
   },
   "outputs": [
    {
     "data": {
      "text/plain": [
       "\n",
       "            Xopt\n",
       "________________________________\n",
       "Version: 0+untagged.1.gf312347\n",
       "Data size: 0\n",
       "Config as YAML:\n",
       "dump_file: null\n",
       "evaluator:\n",
       "  function: __main__.evaluate\n",
       "  function_kwargs: {}\n",
       "  max_workers: 1\n",
       "  vectorized: false\n",
       "generator:\n",
       "  computation_time: null\n",
       "  fixed_features: null\n",
       "  gp_constructor:\n",
       "    covar_modules: {}\n",
       "    mean_modules: {}\n",
       "    name: standard\n",
       "    trainable_mean_keys: []\n",
       "    transform_inputs: true\n",
       "    use_low_noise_prior: true\n",
       "  log_transform_acquisition_function: false\n",
       "  max_travel_distances:\n",
       "  - 0.25\n",
       "  - 0.25\n",
       "  model: null\n",
       "  n_candidates: 1\n",
       "  n_interpolate_points: null\n",
       "  n_monte_carlo_samples: 128\n",
       "  name: bayesian_exploration\n",
       "  numerical_optimizer:\n",
       "    max_iter: 2000\n",
       "    max_time: null\n",
       "    n_restarts: 20\n",
       "    name: LBFGS\n",
       "  supports_batch_generation: true\n",
       "  turbo_controller: null\n",
       "  use_cuda: false\n",
       "max_evaluations: null\n",
       "serialize_inline: false\n",
       "serialize_torch: false\n",
       "strict: true\n",
       "vocs:\n",
       "  constants:\n",
       "    a: dummy_constant\n",
       "  constraints:\n",
       "    c1:\n",
       "    - GREATER_THAN\n",
       "    - 0.0\n",
       "    c2:\n",
       "    - LESS_THAN\n",
       "    - 0.5\n",
       "  objectives: {}\n",
       "  observables:\n",
       "  - y1\n",
       "  variables:\n",
       "    x1:\n",
       "    - 0.0\n",
       "    - 3.14159\n",
       "    x2:\n",
       "    - 0.0\n",
       "    - 3.14159\n"
      ]
     },
     "execution_count": 3,
     "metadata": {},
     "output_type": "execute_result"
    }
   ],
   "source": [
    "generator = BayesianExplorationGenerator(vocs=vocs)\n",
    "generator.max_travel_distances = [0.25, 0.25]\n",
    "generator.n_monte_carlo_samples = NUM_MC_SAMPLES\n",
    "generator.numerical_optimizer.n_restarts = NUM_RESTARTS\n",
    "\n",
    "evaluator = Evaluator(function=evaluate)\n",
    "X = Xopt(generator=generator, evaluator=evaluator, vocs=vocs)\n",
    "X"
   ]
  },
  {
   "cell_type": "markdown",
   "metadata": {},
   "source": [
    "## Run exploration\n",
    "We start with evaluating 2 points that we know satisfy the constraints. We then run\n",
    "30 exploration steps."
   ]
  },
  {
   "cell_type": "code",
   "execution_count": 4,
   "metadata": {
    "ExecuteTime": {
     "end_time": "2023-06-14T15:37:25.638907100Z",
     "start_time": "2023-06-14T15:37:25.582541Z"
    },
    "execution": {
     "iopub.execute_input": "2024-01-31T17:14:48.362243Z",
     "iopub.status.busy": "2024-01-31T17:14:48.361623Z",
     "iopub.status.idle": "2024-01-31T17:14:48.374754Z",
     "shell.execute_reply": "2024-01-31T17:14:48.374211Z"
    }
   },
   "outputs": [
    {
     "data": {
      "text/html": [
       "<div>\n",
       "<style scoped>\n",
       "    .dataframe tbody tr th:only-of-type {\n",
       "        vertical-align: middle;\n",
       "    }\n",
       "\n",
       "    .dataframe tbody tr th {\n",
       "        vertical-align: top;\n",
       "    }\n",
       "\n",
       "    .dataframe thead th {\n",
       "        text-align: right;\n",
       "    }\n",
       "</style>\n",
       "<table border=\"1\" class=\"dataframe\">\n",
       "  <thead>\n",
       "    <tr style=\"text-align: right;\">\n",
       "      <th></th>\n",
       "      <th>x1</th>\n",
       "      <th>x2</th>\n",
       "      <th>a</th>\n",
       "      <th>y1</th>\n",
       "      <th>c1</th>\n",
       "      <th>c2</th>\n",
       "      <th>xopt_runtime</th>\n",
       "      <th>xopt_error</th>\n",
       "    </tr>\n",
       "  </thead>\n",
       "  <tbody>\n",
       "    <tr>\n",
       "      <th>0</th>\n",
       "      <td>1.00</td>\n",
       "      <td>0.70</td>\n",
       "      <td>dummy_constant</td>\n",
       "      <td>1.00</td>\n",
       "      <td>0.584045</td>\n",
       "      <td>0.290</td>\n",
       "      <td>0.000041</td>\n",
       "      <td>False</td>\n",
       "    </tr>\n",
       "    <tr>\n",
       "      <th>1</th>\n",
       "      <td>0.75</td>\n",
       "      <td>0.95</td>\n",
       "      <td>dummy_constant</td>\n",
       "      <td>0.75</td>\n",
       "      <td>0.494833</td>\n",
       "      <td>0.265</td>\n",
       "      <td>0.000010</td>\n",
       "      <td>False</td>\n",
       "    </tr>\n",
       "  </tbody>\n",
       "</table>\n",
       "</div>"
      ],
      "text/plain": [
       "     x1    x2               a    y1        c1     c2  xopt_runtime  xopt_error\n",
       "0  1.00  0.70  dummy_constant  1.00  0.584045  0.290      0.000041       False\n",
       "1  0.75  0.95  dummy_constant  0.75  0.494833  0.265      0.000010       False"
      ]
     },
     "execution_count": 4,
     "metadata": {},
     "output_type": "execute_result"
    }
   ],
   "source": [
    "X.evaluate_data(pd.DataFrame({\"x1\": [1.0, 0.75], \"x2\": [0.7, 0.95]}))"
   ]
  },
  {
   "cell_type": "code",
   "execution_count": 5,
   "metadata": {
    "ExecuteTime": {
     "end_time": "2023-06-14T15:42:05.755461900Z",
     "start_time": "2023-06-14T15:37:25.611873400Z"
    },
    "execution": {
     "iopub.execute_input": "2024-01-31T17:14:48.377024Z",
     "iopub.status.busy": "2024-01-31T17:14:48.376695Z",
     "iopub.status.idle": "2024-01-31T17:16:24.711108Z",
     "shell.execute_reply": "2024-01-31T17:16:24.710460Z"
    },
    "scrolled": false
   },
   "outputs": [
    {
     "name": "stdout",
     "output_type": "stream",
     "text": [
      "step 0\n"
     ]
    },
    {
     "name": "stdout",
     "output_type": "stream",
     "text": [
      "step 1\n"
     ]
    },
    {
     "name": "stdout",
     "output_type": "stream",
     "text": [
      "step 2\n"
     ]
    },
    {
     "name": "stdout",
     "output_type": "stream",
     "text": [
      "step 3\n"
     ]
    },
    {
     "name": "stdout",
     "output_type": "stream",
     "text": [
      "step 4\n"
     ]
    },
    {
     "name": "stdout",
     "output_type": "stream",
     "text": [
      "step 5\n"
     ]
    },
    {
     "name": "stdout",
     "output_type": "stream",
     "text": [
      "step 6\n"
     ]
    },
    {
     "name": "stdout",
     "output_type": "stream",
     "text": [
      "step 7\n"
     ]
    },
    {
     "name": "stdout",
     "output_type": "stream",
     "text": [
      "step 8\n"
     ]
    },
    {
     "name": "stdout",
     "output_type": "stream",
     "text": [
      "step 9\n"
     ]
    },
    {
     "name": "stdout",
     "output_type": "stream",
     "text": [
      "step 10\n"
     ]
    },
    {
     "name": "stdout",
     "output_type": "stream",
     "text": [
      "step 11\n"
     ]
    },
    {
     "name": "stdout",
     "output_type": "stream",
     "text": [
      "step 12\n"
     ]
    },
    {
     "name": "stdout",
     "output_type": "stream",
     "text": [
      "step 13\n"
     ]
    },
    {
     "name": "stdout",
     "output_type": "stream",
     "text": [
      "step 14\n"
     ]
    },
    {
     "name": "stdout",
     "output_type": "stream",
     "text": [
      "step 15\n"
     ]
    },
    {
     "name": "stdout",
     "output_type": "stream",
     "text": [
      "step 16\n"
     ]
    },
    {
     "name": "stdout",
     "output_type": "stream",
     "text": [
      "step 17\n"
     ]
    },
    {
     "name": "stdout",
     "output_type": "stream",
     "text": [
      "step 18\n"
     ]
    },
    {
     "name": "stdout",
     "output_type": "stream",
     "text": [
      "step 19\n"
     ]
    },
    {
     "name": "stdout",
     "output_type": "stream",
     "text": [
      "step 20\n"
     ]
    },
    {
     "name": "stdout",
     "output_type": "stream",
     "text": [
      "step 21\n"
     ]
    },
    {
     "name": "stdout",
     "output_type": "stream",
     "text": [
      "step 22\n"
     ]
    },
    {
     "name": "stdout",
     "output_type": "stream",
     "text": [
      "step 23\n"
     ]
    },
    {
     "name": "stdout",
     "output_type": "stream",
     "text": [
      "step 24\n"
     ]
    },
    {
     "name": "stdout",
     "output_type": "stream",
     "text": [
      "step 25\n"
     ]
    },
    {
     "name": "stdout",
     "output_type": "stream",
     "text": [
      "step 26\n"
     ]
    },
    {
     "name": "stdout",
     "output_type": "stream",
     "text": [
      "step 27\n"
     ]
    },
    {
     "name": "stdout",
     "output_type": "stream",
     "text": [
      "step 28\n"
     ]
    },
    {
     "name": "stdout",
     "output_type": "stream",
     "text": [
      "step 29\n"
     ]
    }
   ],
   "source": [
    "N_STEPS = 1 if SMOKE_TEST else 30\n",
    "for i in range(N_STEPS):\n",
    "    print(f\"step {i}\")\n",
    "    X.step()"
   ]
  },
  {
   "cell_type": "code",
   "execution_count": 6,
   "metadata": {
    "ExecuteTime": {
     "end_time": "2023-06-14T15:42:05.786611100Z",
     "start_time": "2023-06-14T15:42:05.773463300Z"
    },
    "execution": {
     "iopub.execute_input": "2024-01-31T17:16:24.714210Z",
     "iopub.status.busy": "2024-01-31T17:16:24.713749Z",
     "iopub.status.idle": "2024-01-31T17:16:24.728904Z",
     "shell.execute_reply": "2024-01-31T17:16:24.728297Z"
    }
   },
   "outputs": [
    {
     "data": {
      "text/html": [
       "<div>\n",
       "<style scoped>\n",
       "    .dataframe tbody tr th:only-of-type {\n",
       "        vertical-align: middle;\n",
       "    }\n",
       "\n",
       "    .dataframe tbody tr th {\n",
       "        vertical-align: top;\n",
       "    }\n",
       "\n",
       "    .dataframe thead th {\n",
       "        text-align: right;\n",
       "    }\n",
       "</style>\n",
       "<table border=\"1\" class=\"dataframe\">\n",
       "  <thead>\n",
       "    <tr style=\"text-align: right;\">\n",
       "      <th></th>\n",
       "      <th>x1</th>\n",
       "      <th>x2</th>\n",
       "      <th>a</th>\n",
       "      <th>y1</th>\n",
       "      <th>c1</th>\n",
       "      <th>c2</th>\n",
       "      <th>xopt_runtime</th>\n",
       "      <th>xopt_error</th>\n",
       "    </tr>\n",
       "  </thead>\n",
       "  <tbody>\n",
       "    <tr>\n",
       "      <th>0</th>\n",
       "      <td>1.000000</td>\n",
       "      <td>0.700000</td>\n",
       "      <td>dummy_constant</td>\n",
       "      <td>1.000000</td>\n",
       "      <td>0.584045</td>\n",
       "      <td>0.290000</td>\n",
       "      <td>0.000041</td>\n",
       "      <td>False</td>\n",
       "    </tr>\n",
       "    <tr>\n",
       "      <th>1</th>\n",
       "      <td>0.750000</td>\n",
       "      <td>0.950000</td>\n",
       "      <td>dummy_constant</td>\n",
       "      <td>0.750000</td>\n",
       "      <td>0.494833</td>\n",
       "      <td>0.265000</td>\n",
       "      <td>0.000010</td>\n",
       "      <td>False</td>\n",
       "    </tr>\n",
       "    <tr>\n",
       "      <th>2</th>\n",
       "      <td>1.535397</td>\n",
       "      <td>1.735397</td>\n",
       "      <td>dummy_constant</td>\n",
       "      <td>NaN</td>\n",
       "      <td>4.313110</td>\n",
       "      <td>2.598255</td>\n",
       "      <td>0.000028</td>\n",
       "      <td>False</td>\n",
       "    </tr>\n",
       "    <tr>\n",
       "      <th>3</th>\n",
       "      <td>2.320795</td>\n",
       "      <td>0.955373</td>\n",
       "      <td>dummy_constant</td>\n",
       "      <td>NaN</td>\n",
       "      <td>5.198889</td>\n",
       "      <td>3.522659</td>\n",
       "      <td>0.000030</td>\n",
       "      <td>False</td>\n",
       "    </tr>\n",
       "    <tr>\n",
       "      <th>4</th>\n",
       "      <td>1.870017</td>\n",
       "      <td>0.169976</td>\n",
       "      <td>dummy_constant</td>\n",
       "      <td>NaN</td>\n",
       "      <td>2.513839</td>\n",
       "      <td>1.985863</td>\n",
       "      <td>0.000030</td>\n",
       "      <td>False</td>\n",
       "    </tr>\n",
       "    <tr>\n",
       "      <th>5</th>\n",
       "      <td>1.086955</td>\n",
       "      <td>0.017636</td>\n",
       "      <td>dummy_constant</td>\n",
       "      <td>NaN</td>\n",
       "      <td>0.085133</td>\n",
       "      <td>0.577192</td>\n",
       "      <td>0.000030</td>\n",
       "      <td>False</td>\n",
       "    </tr>\n",
       "    <tr>\n",
       "      <th>6</th>\n",
       "      <td>0.301558</td>\n",
       "      <td>0.799673</td>\n",
       "      <td>dummy_constant</td>\n",
       "      <td>NaN</td>\n",
       "      <td>-0.356695</td>\n",
       "      <td>0.129183</td>\n",
       "      <td>0.000031</td>\n",
       "      <td>False</td>\n",
       "    </tr>\n",
       "    <tr>\n",
       "      <th>7</th>\n",
       "      <td>0.022865</td>\n",
       "      <td>1.585070</td>\n",
       "      <td>dummy_constant</td>\n",
       "      <td>NaN</td>\n",
       "      <td>1.415622</td>\n",
       "      <td>1.405035</td>\n",
       "      <td>0.000028</td>\n",
       "      <td>False</td>\n",
       "    </tr>\n",
       "    <tr>\n",
       "      <th>8</th>\n",
       "      <td>0.395721</td>\n",
       "      <td>1.053289</td>\n",
       "      <td>dummy_constant</td>\n",
       "      <td>0.395721</td>\n",
       "      <td>0.179885</td>\n",
       "      <td>0.317003</td>\n",
       "      <td>0.000030</td>\n",
       "      <td>False</td>\n",
       "    </tr>\n",
       "    <tr>\n",
       "      <th>9</th>\n",
       "      <td>1.033553</td>\n",
       "      <td>0.346294</td>\n",
       "      <td>dummy_constant</td>\n",
       "      <td>1.033553</td>\n",
       "      <td>0.143724</td>\n",
       "      <td>0.308304</td>\n",
       "      <td>0.000030</td>\n",
       "      <td>False</td>\n",
       "    </tr>\n",
       "    <tr>\n",
       "      <th>10</th>\n",
       "      <td>0.809926</td>\n",
       "      <td>0.688178</td>\n",
       "      <td>dummy_constant</td>\n",
       "      <td>0.809926</td>\n",
       "      <td>0.102573</td>\n",
       "      <td>0.131465</td>\n",
       "      <td>0.000028</td>\n",
       "      <td>False</td>\n",
       "    </tr>\n",
       "    <tr>\n",
       "      <th>11</th>\n",
       "      <td>0.645117</td>\n",
       "      <td>1.141955</td>\n",
       "      <td>dummy_constant</td>\n",
       "      <td>0.645117</td>\n",
       "      <td>0.756741</td>\n",
       "      <td>0.433165</td>\n",
       "      <td>0.000030</td>\n",
       "      <td>False</td>\n",
       "    </tr>\n",
       "    <tr>\n",
       "      <th>12</th>\n",
       "      <td>0.184503</td>\n",
       "      <td>1.061931</td>\n",
       "      <td>dummy_constant</td>\n",
       "      <td>0.184503</td>\n",
       "      <td>0.254262</td>\n",
       "      <td>0.415305</td>\n",
       "      <td>0.000030</td>\n",
       "      <td>False</td>\n",
       "    </tr>\n",
       "    <tr>\n",
       "      <th>13</th>\n",
       "      <td>0.000000</td>\n",
       "      <td>0.911397</td>\n",
       "      <td>dummy_constant</td>\n",
       "      <td>NaN</td>\n",
       "      <td>-0.269356</td>\n",
       "      <td>0.419247</td>\n",
       "      <td>0.000030</td>\n",
       "      <td>False</td>\n",
       "    </tr>\n",
       "    <tr>\n",
       "      <th>14</th>\n",
       "      <td>0.785397</td>\n",
       "      <td>1.107531</td>\n",
       "      <td>dummy_constant</td>\n",
       "      <td>0.785397</td>\n",
       "      <td>0.933753</td>\n",
       "      <td>0.450546</td>\n",
       "      <td>0.000030</td>\n",
       "      <td>False</td>\n",
       "    </tr>\n",
       "    <tr>\n",
       "      <th>15</th>\n",
       "      <td>1.137136</td>\n",
       "      <td>0.674575</td>\n",
       "      <td>dummy_constant</td>\n",
       "      <td>1.137136</td>\n",
       "      <td>0.813522</td>\n",
       "      <td>0.436419</td>\n",
       "      <td>0.000031</td>\n",
       "      <td>False</td>\n",
       "    </tr>\n",
       "    <tr>\n",
       "      <th>16</th>\n",
       "      <td>1.163302</td>\n",
       "      <td>0.390716</td>\n",
       "      <td>dummy_constant</td>\n",
       "      <td>1.163302</td>\n",
       "      <td>0.460456</td>\n",
       "      <td>0.451913</td>\n",
       "      <td>0.000029</td>\n",
       "      <td>False</td>\n",
       "    </tr>\n",
       "    <tr>\n",
       "      <th>17</th>\n",
       "      <td>1.029530</td>\n",
       "      <td>0.917699</td>\n",
       "      <td>dummy_constant</td>\n",
       "      <td>1.029530</td>\n",
       "      <td>0.841353</td>\n",
       "      <td>0.454874</td>\n",
       "      <td>0.000030</td>\n",
       "      <td>False</td>\n",
       "    </tr>\n",
       "    <tr>\n",
       "      <th>18</th>\n",
       "      <td>0.419711</td>\n",
       "      <td>1.176634</td>\n",
       "      <td>dummy_constant</td>\n",
       "      <td>0.419711</td>\n",
       "      <td>0.491027</td>\n",
       "      <td>0.464280</td>\n",
       "      <td>0.000031</td>\n",
       "      <td>False</td>\n",
       "    </tr>\n",
       "    <tr>\n",
       "      <th>19</th>\n",
       "      <td>1.187293</td>\n",
       "      <td>0.537200</td>\n",
       "      <td>dummy_constant</td>\n",
       "      <td>1.187293</td>\n",
       "      <td>0.611227</td>\n",
       "      <td>0.473756</td>\n",
       "      <td>0.000028</td>\n",
       "      <td>False</td>\n",
       "    </tr>\n",
       "    <tr>\n",
       "      <th>20</th>\n",
       "      <td>1.079179</td>\n",
       "      <td>0.133108</td>\n",
       "      <td>dummy_constant</td>\n",
       "      <td>1.079179</td>\n",
       "      <td>0.220618</td>\n",
       "      <td>0.470058</td>\n",
       "      <td>0.000028</td>\n",
       "      <td>False</td>\n",
       "    </tr>\n",
       "    <tr>\n",
       "      <th>21</th>\n",
       "      <td>1.048459</td>\n",
       "      <td>0.918505</td>\n",
       "      <td>dummy_constant</td>\n",
       "      <td>1.048459</td>\n",
       "      <td>0.893644</td>\n",
       "      <td>0.475954</td>\n",
       "      <td>0.000029</td>\n",
       "      <td>False</td>\n",
       "    </tr>\n",
       "    <tr>\n",
       "      <th>22</th>\n",
       "      <td>0.872943</td>\n",
       "      <td>0.592611</td>\n",
       "      <td>dummy_constant</td>\n",
       "      <td>0.872943</td>\n",
       "      <td>0.212527</td>\n",
       "      <td>0.147664</td>\n",
       "      <td>0.000030</td>\n",
       "      <td>False</td>\n",
       "    </tr>\n",
       "    <tr>\n",
       "      <th>23</th>\n",
       "      <td>0.620564</td>\n",
       "      <td>1.181805</td>\n",
       "      <td>dummy_constant</td>\n",
       "      <td>0.620564</td>\n",
       "      <td>0.770031</td>\n",
       "      <td>0.479394</td>\n",
       "      <td>0.000029</td>\n",
       "      <td>False</td>\n",
       "    </tr>\n",
       "    <tr>\n",
       "      <th>24</th>\n",
       "      <td>0.102451</td>\n",
       "      <td>1.062674</td>\n",
       "      <td>dummy_constant</td>\n",
       "      <td>0.102451</td>\n",
       "      <td>0.136471</td>\n",
       "      <td>0.474648</td>\n",
       "      <td>0.000030</td>\n",
       "      <td>False</td>\n",
       "    </tr>\n",
       "    <tr>\n",
       "      <th>25</th>\n",
       "      <td>0.629099</td>\n",
       "      <td>0.843380</td>\n",
       "      <td>dummy_constant</td>\n",
       "      <td>0.629099</td>\n",
       "      <td>0.174583</td>\n",
       "      <td>0.134576</td>\n",
       "      <td>0.000030</td>\n",
       "      <td>False</td>\n",
       "    </tr>\n",
       "    <tr>\n",
       "      <th>26</th>\n",
       "      <td>1.054805</td>\n",
       "      <td>0.084442</td>\n",
       "      <td>dummy_constant</td>\n",
       "      <td>1.054805</td>\n",
       "      <td>0.090895</td>\n",
       "      <td>0.480497</td>\n",
       "      <td>0.000029</td>\n",
       "      <td>False</td>\n",
       "    </tr>\n",
       "    <tr>\n",
       "      <th>27</th>\n",
       "      <td>0.934528</td>\n",
       "      <td>0.437014</td>\n",
       "      <td>dummy_constant</td>\n",
       "      <td>NaN</td>\n",
       "      <td>-0.011151</td>\n",
       "      <td>0.192782</td>\n",
       "      <td>0.000028</td>\n",
       "      <td>False</td>\n",
       "    </tr>\n",
       "    <tr>\n",
       "      <th>28</th>\n",
       "      <td>1.181305</td>\n",
       "      <td>0.370286</td>\n",
       "      <td>dummy_constant</td>\n",
       "      <td>1.181305</td>\n",
       "      <td>0.517877</td>\n",
       "      <td>0.481002</td>\n",
       "      <td>0.000030</td>\n",
       "      <td>False</td>\n",
       "    </tr>\n",
       "    <tr>\n",
       "      <th>29</th>\n",
       "      <td>0.901594</td>\n",
       "      <td>1.064414</td>\n",
       "      <td>dummy_constant</td>\n",
       "      <td>0.901594</td>\n",
       "      <td>0.921231</td>\n",
       "      <td>0.479841</td>\n",
       "      <td>0.000029</td>\n",
       "      <td>False</td>\n",
       "    </tr>\n",
       "    <tr>\n",
       "      <th>30</th>\n",
       "      <td>0.305289</td>\n",
       "      <td>1.163867</td>\n",
       "      <td>dummy_constant</td>\n",
       "      <td>0.305289</td>\n",
       "      <td>0.504907</td>\n",
       "      <td>0.478632</td>\n",
       "      <td>0.000031</td>\n",
       "      <td>False</td>\n",
       "    </tr>\n",
       "    <tr>\n",
       "      <th>31</th>\n",
       "      <td>0.068824</td>\n",
       "      <td>1.046117</td>\n",
       "      <td>dummy_constant</td>\n",
       "      <td>0.068824</td>\n",
       "      <td>0.049438</td>\n",
       "      <td>0.484157</td>\n",
       "      <td>0.000033</td>\n",
       "      <td>False</td>\n",
       "    </tr>\n",
       "  </tbody>\n",
       "</table>\n",
       "</div>"
      ],
      "text/plain": [
       "          x1        x2               a        y1        c1        c2  \\\n",
       "0   1.000000  0.700000  dummy_constant  1.000000  0.584045  0.290000   \n",
       "1   0.750000  0.950000  dummy_constant  0.750000  0.494833  0.265000   \n",
       "2   1.535397  1.735397  dummy_constant       NaN  4.313110  2.598255   \n",
       "3   2.320795  0.955373  dummy_constant       NaN  5.198889  3.522659   \n",
       "4   1.870017  0.169976  dummy_constant       NaN  2.513839  1.985863   \n",
       "5   1.086955  0.017636  dummy_constant       NaN  0.085133  0.577192   \n",
       "6   0.301558  0.799673  dummy_constant       NaN -0.356695  0.129183   \n",
       "7   0.022865  1.585070  dummy_constant       NaN  1.415622  1.405035   \n",
       "8   0.395721  1.053289  dummy_constant  0.395721  0.179885  0.317003   \n",
       "9   1.033553  0.346294  dummy_constant  1.033553  0.143724  0.308304   \n",
       "10  0.809926  0.688178  dummy_constant  0.809926  0.102573  0.131465   \n",
       "11  0.645117  1.141955  dummy_constant  0.645117  0.756741  0.433165   \n",
       "12  0.184503  1.061931  dummy_constant  0.184503  0.254262  0.415305   \n",
       "13  0.000000  0.911397  dummy_constant       NaN -0.269356  0.419247   \n",
       "14  0.785397  1.107531  dummy_constant  0.785397  0.933753  0.450546   \n",
       "15  1.137136  0.674575  dummy_constant  1.137136  0.813522  0.436419   \n",
       "16  1.163302  0.390716  dummy_constant  1.163302  0.460456  0.451913   \n",
       "17  1.029530  0.917699  dummy_constant  1.029530  0.841353  0.454874   \n",
       "18  0.419711  1.176634  dummy_constant  0.419711  0.491027  0.464280   \n",
       "19  1.187293  0.537200  dummy_constant  1.187293  0.611227  0.473756   \n",
       "20  1.079179  0.133108  dummy_constant  1.079179  0.220618  0.470058   \n",
       "21  1.048459  0.918505  dummy_constant  1.048459  0.893644  0.475954   \n",
       "22  0.872943  0.592611  dummy_constant  0.872943  0.212527  0.147664   \n",
       "23  0.620564  1.181805  dummy_constant  0.620564  0.770031  0.479394   \n",
       "24  0.102451  1.062674  dummy_constant  0.102451  0.136471  0.474648   \n",
       "25  0.629099  0.843380  dummy_constant  0.629099  0.174583  0.134576   \n",
       "26  1.054805  0.084442  dummy_constant  1.054805  0.090895  0.480497   \n",
       "27  0.934528  0.437014  dummy_constant       NaN -0.011151  0.192782   \n",
       "28  1.181305  0.370286  dummy_constant  1.181305  0.517877  0.481002   \n",
       "29  0.901594  1.064414  dummy_constant  0.901594  0.921231  0.479841   \n",
       "30  0.305289  1.163867  dummy_constant  0.305289  0.504907  0.478632   \n",
       "31  0.068824  1.046117  dummy_constant  0.068824  0.049438  0.484157   \n",
       "\n",
       "    xopt_runtime  xopt_error  \n",
       "0       0.000041       False  \n",
       "1       0.000010       False  \n",
       "2       0.000028       False  \n",
       "3       0.000030       False  \n",
       "4       0.000030       False  \n",
       "5       0.000030       False  \n",
       "6       0.000031       False  \n",
       "7       0.000028       False  \n",
       "8       0.000030       False  \n",
       "9       0.000030       False  \n",
       "10      0.000028       False  \n",
       "11      0.000030       False  \n",
       "12      0.000030       False  \n",
       "13      0.000030       False  \n",
       "14      0.000030       False  \n",
       "15      0.000031       False  \n",
       "16      0.000029       False  \n",
       "17      0.000030       False  \n",
       "18      0.000031       False  \n",
       "19      0.000028       False  \n",
       "20      0.000028       False  \n",
       "21      0.000029       False  \n",
       "22      0.000030       False  \n",
       "23      0.000029       False  \n",
       "24      0.000030       False  \n",
       "25      0.000030       False  \n",
       "26      0.000029       False  \n",
       "27      0.000028       False  \n",
       "28      0.000030       False  \n",
       "29      0.000029       False  \n",
       "30      0.000031       False  \n",
       "31      0.000033       False  "
      ]
     },
     "execution_count": 6,
     "metadata": {},
     "output_type": "execute_result"
    }
   ],
   "source": [
    "# view the data\n",
    "X.data"
   ]
  },
  {
   "cell_type": "code",
   "execution_count": 7,
   "metadata": {
    "ExecuteTime": {
     "end_time": "2023-06-14T15:42:06.400652600Z",
     "start_time": "2023-06-14T15:42:05.787612700Z"
    },
    "execution": {
     "iopub.execute_input": "2024-01-31T17:16:24.731335Z",
     "iopub.status.busy": "2024-01-31T17:16:24.730912Z",
     "iopub.status.idle": "2024-01-31T17:16:25.146533Z",
     "shell.execute_reply": "2024-01-31T17:16:25.145938Z"
    }
   },
   "outputs": [
    {
     "data": {
      "image/png": "[encoded data removed]",
      "text/plain": [
       "<Figure size 640x480 with 1 Axes>"
      ]
     },
     "metadata": {},
     "output_type": "display_data"
    }
   ],
   "source": [
    "# plot results\n",
    "ax = X.data.plot(\"x1\", \"x2\")\n",
    "ax.set_aspect(\"equal\")"
   ]
  },
  {
   "cell_type": "code",
   "execution_count": 7,
   "metadata": {
    "ExecuteTime": {
     "end_time": "2023-06-14T15:42:06.419648600Z",
     "start_time": "2023-06-14T15:42:06.401622Z"
    }
   },
   "outputs": [],
   "source": []
  }
 ],
 "metadata": {
  "kernelspec": {
   "display_name": "Python 3 (ipykernel)",
   "language": "python",
   "name": "python3"
  },
  "language_info": {
   "codemirror_mode": {
    "name": "ipython",
    "version": 3
   },
   "file_extension": ".py",
   "mimetype": "text/x-python",
   "name": "python",
   "nbconvert_exporter": "python",
   "pygments_lexer": "ipython3",
   "version": "3.9.18"
  }
 },
 "nbformat": 4,
 "nbformat_minor": 4
}
