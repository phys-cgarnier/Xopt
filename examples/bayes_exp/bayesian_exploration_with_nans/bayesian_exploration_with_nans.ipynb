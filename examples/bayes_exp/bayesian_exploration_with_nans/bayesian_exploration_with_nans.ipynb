{
 "cells": [
  {
   "cell_type": "markdown",
   "metadata": {},
   "source": [
    "# Bayesian Exploration with NaNs\n",
    "\n",
    "As violations of constraints can lead to invalid values of the objective, the evaluate function may simply return NaNs. We demonstrate below how we can still perform Bayesian Exploration in that case."
   ]
  },
  {
   "cell_type": "code",
   "execution_count": 1,
   "metadata": {
    "ExecuteTime": {
     "end_time": "2023-06-14T15:37:25.535638700Z",
     "start_time": "2023-06-14T15:37:22.379218300Z"
    },
    "execution": {
     "iopub.execute_input": "2024-02-09T00:02:05.949050Z",
     "iopub.status.busy": "2024-02-09T00:02:05.948881Z",
     "iopub.status.idle": "2024-02-09T00:02:07.996952Z",
     "shell.execute_reply": "2024-02-09T00:02:07.996340Z"
    }
   },
   "outputs": [],
   "source": [
    "# set values if testing\n",
    "import os\n",
    "SMOKE_TEST = os.environ.get(\"SMOKE_TEST\")\n",
    "NUM_MC_SAMPLES = 1 if SMOKE_TEST else 128\n",
    "NUM_RESTARTS = 1 if SMOKE_TEST else 20\n",
    "\n",
    "# Ignore all warnings\n",
    "import warnings\n",
    "warnings.filterwarnings(\"ignore\")\n",
    "\n",
    "import pandas as pd\n",
    "import torch\n",
    "import yaml\n",
    "from copy import deepcopy\n",
    "from xopt import Xopt, Evaluator\n",
    "from xopt.generators.bayesian import BayesianExplorationGenerator\n",
    "from xopt.resources.test_functions.tnk import evaluate_TNK, tnk_vocs\n",
    "\n",
    "vocs = deepcopy(tnk_vocs)\n",
    "vocs.objectives = {}\n",
    "vocs.observables = [\"y1\"]"
   ]
  },
  {
   "cell_type": "code",
   "execution_count": 2,
   "metadata": {
    "ExecuteTime": {
     "end_time": "2023-06-14T15:37:25.549637200Z",
     "start_time": "2023-06-14T15:37:25.539666500Z"
    },
    "execution": {
     "iopub.execute_input": "2024-02-09T00:02:07.999903Z",
     "iopub.status.busy": "2024-02-09T00:02:07.999305Z",
     "iopub.status.idle": "2024-02-09T00:02:08.003543Z",
     "shell.execute_reply": "2024-02-09T00:02:08.003028Z"
    }
   },
   "outputs": [],
   "source": [
    "# modify the evaluate function to return NaNs if constraints are violated\n",
    "def evaluate(input_dict):\n",
    "    output_dict = evaluate_TNK(input_dict)\n",
    "    del output_dict[\"y2\"]\n",
    "    for c in vocs.constraints.keys():\n",
    "        if vocs.constraints[c][0].upper() == \"GREATER_THAN\" and output_dict[c] <= vocs.constraints[c][1]:\n",
    "            output_dict[\"y1\"] = torch.nan\n",
    "        elif vocs.constraints[c][0].upper() == \"LESS_THAN\" and output_dict[c] >= vocs.constraints[c][1]:\n",
    "            output_dict[\"y1\"] = torch.nan\n",
    "    return output_dict"
   ]
  },
  {
   "cell_type": "code",
   "execution_count": 3,
   "metadata": {
    "ExecuteTime": {
     "end_time": "2023-06-14T15:37:25.580538800Z",
     "start_time": "2023-06-14T15:37:25.552636600Z"
    },
    "execution": {
     "iopub.execute_input": "2024-02-09T00:02:08.005732Z",
     "iopub.status.busy": "2024-02-09T00:02:08.005315Z",
     "iopub.status.idle": "2024-02-09T00:02:08.020678Z",
     "shell.execute_reply": "2024-02-09T00:02:08.020135Z"
    }
   },
   "outputs": [
    {
     "data": {
      "text/plain": [
       "\n",
       "            Xopt\n",
       "________________________________\n",
       "Version: 0+untagged.1.g27fc0ce\n",
       "Data size: 0\n",
       "Config as YAML:\n",
       "dump_file: null\n",
       "evaluator:\n",
       "  function: __main__.evaluate\n",
       "  function_kwargs: {}\n",
       "  max_workers: 1\n",
       "  vectorized: false\n",
       "generator:\n",
       "  computation_time: null\n",
       "  fixed_features: null\n",
       "  gp_constructor:\n",
       "    covar_modules: {}\n",
       "    mean_modules: {}\n",
       "    name: standard\n",
       "    trainable_mean_keys: []\n",
       "    transform_inputs: true\n",
       "    use_low_noise_prior: true\n",
       "  log_transform_acquisition_function: false\n",
       "  max_travel_distances:\n",
       "  - 0.25\n",
       "  - 0.25\n",
       "  model: null\n",
       "  n_candidates: 1\n",
       "  n_interpolate_points: null\n",
       "  n_monte_carlo_samples: 128\n",
       "  name: bayesian_exploration\n",
       "  numerical_optimizer:\n",
       "    max_iter: 2000\n",
       "    max_time: null\n",
       "    n_restarts: 20\n",
       "    name: LBFGS\n",
       "  supports_batch_generation: true\n",
       "  turbo_controller: null\n",
       "  use_cuda: false\n",
       "max_evaluations: null\n",
       "serialize_inline: false\n",
       "serialize_torch: false\n",
       "strict: true\n",
       "vocs:\n",
       "  constants:\n",
       "    a: dummy_constant\n",
       "  constraints:\n",
       "    c1:\n",
       "    - GREATER_THAN\n",
       "    - 0.0\n",
       "    c2:\n",
       "    - LESS_THAN\n",
       "    - 0.5\n",
       "  objectives: {}\n",
       "  observables:\n",
       "  - y1\n",
       "  variables:\n",
       "    x1:\n",
       "    - 0.0\n",
       "    - 3.14159\n",
       "    x2:\n",
       "    - 0.0\n",
       "    - 3.14159\n"
      ]
     },
     "execution_count": 3,
     "metadata": {},
     "output_type": "execute_result"
    }
   ],
   "source": [
    "generator = BayesianExplorationGenerator(vocs=vocs)\n",
    "generator.max_travel_distances = [0.25, 0.25]\n",
    "generator.n_monte_carlo_samples = NUM_MC_SAMPLES\n",
    "generator.numerical_optimizer.n_restarts = NUM_RESTARTS\n",
    "\n",
    "evaluator = Evaluator(function=evaluate)\n",
    "X = Xopt(generator=generator, evaluator=evaluator, vocs=vocs)\n",
    "X"
   ]
  },
  {
   "cell_type": "markdown",
   "metadata": {},
   "source": [
    "## Run exploration\n",
    "We start with evaluating 2 points that we know satisfy the constraints. We then run\n",
    "30 exploration steps."
   ]
  },
  {
   "cell_type": "code",
   "execution_count": 4,
   "metadata": {
    "ExecuteTime": {
     "end_time": "2023-06-14T15:37:25.638907100Z",
     "start_time": "2023-06-14T15:37:25.582541Z"
    },
    "execution": {
     "iopub.execute_input": "2024-02-09T00:02:08.048822Z",
     "iopub.status.busy": "2024-02-09T00:02:08.048498Z",
     "iopub.status.idle": "2024-02-09T00:02:08.060647Z",
     "shell.execute_reply": "2024-02-09T00:02:08.060107Z"
    }
   },
   "outputs": [
    {
     "data": {
      "text/html": [
       "<div>\n",
       "<style scoped>\n",
       "    .dataframe tbody tr th:only-of-type {\n",
       "        vertical-align: middle;\n",
       "    }\n",
       "\n",
       "    .dataframe tbody tr th {\n",
       "        vertical-align: top;\n",
       "    }\n",
       "\n",
       "    .dataframe thead th {\n",
       "        text-align: right;\n",
       "    }\n",
       "</style>\n",
       "<table border=\"1\" class=\"dataframe\">\n",
       "  <thead>\n",
       "    <tr style=\"text-align: right;\">\n",
       "      <th></th>\n",
       "      <th>x1</th>\n",
       "      <th>x2</th>\n",
       "      <th>a</th>\n",
       "      <th>y1</th>\n",
       "      <th>c1</th>\n",
       "      <th>c2</th>\n",
       "      <th>xopt_runtime</th>\n",
       "      <th>xopt_error</th>\n",
       "    </tr>\n",
       "  </thead>\n",
       "  <tbody>\n",
       "    <tr>\n",
       "      <th>0</th>\n",
       "      <td>1.00</td>\n",
       "      <td>0.70</td>\n",
       "      <td>dummy_constant</td>\n",
       "      <td>1.00</td>\n",
       "      <td>0.584045</td>\n",
       "      <td>0.290</td>\n",
       "      <td>0.000038</td>\n",
       "      <td>False</td>\n",
       "    </tr>\n",
       "    <tr>\n",
       "      <th>1</th>\n",
       "      <td>0.75</td>\n",
       "      <td>0.95</td>\n",
       "      <td>dummy_constant</td>\n",
       "      <td>0.75</td>\n",
       "      <td>0.494833</td>\n",
       "      <td>0.265</td>\n",
       "      <td>0.000010</td>\n",
       "      <td>False</td>\n",
       "    </tr>\n",
       "  </tbody>\n",
       "</table>\n",
       "</div>"
      ],
      "text/plain": [
       "     x1    x2               a    y1        c1     c2  xopt_runtime  xopt_error\n",
       "0  1.00  0.70  dummy_constant  1.00  0.584045  0.290      0.000038       False\n",
       "1  0.75  0.95  dummy_constant  0.75  0.494833  0.265      0.000010       False"
      ]
     },
     "execution_count": 4,
     "metadata": {},
     "output_type": "execute_result"
    }
   ],
   "source": [
    "X.evaluate_data(pd.DataFrame({\"x1\": [1.0, 0.75], \"x2\": [0.7, 0.95]}))"
   ]
  },
  {
   "cell_type": "code",
   "execution_count": 5,
   "metadata": {
    "ExecuteTime": {
     "end_time": "2023-06-14T15:42:05.755461900Z",
     "start_time": "2023-06-14T15:37:25.611873400Z"
    },
    "execution": {
     "iopub.execute_input": "2024-02-09T00:02:08.062823Z",
     "iopub.status.busy": "2024-02-09T00:02:08.062470Z",
     "iopub.status.idle": "2024-02-09T00:03:23.192612Z",
     "shell.execute_reply": "2024-02-09T00:03:23.192045Z"
    },
    "scrolled": false
   },
   "outputs": [
    {
     "name": "stdout",
     "output_type": "stream",
     "text": [
      "step 0\n"
     ]
    },
    {
     "name": "stdout",
     "output_type": "stream",
     "text": [
      "step 1\n"
     ]
    },
    {
     "name": "stdout",
     "output_type": "stream",
     "text": [
      "step 2\n"
     ]
    },
    {
     "name": "stdout",
     "output_type": "stream",
     "text": [
      "step 3\n"
     ]
    },
    {
     "name": "stdout",
     "output_type": "stream",
     "text": [
      "step 4\n"
     ]
    },
    {
     "name": "stdout",
     "output_type": "stream",
     "text": [
      "step 5\n"
     ]
    },
    {
     "name": "stdout",
     "output_type": "stream",
     "text": [
      "step 6\n"
     ]
    },
    {
     "name": "stdout",
     "output_type": "stream",
     "text": [
      "step 7\n"
     ]
    },
    {
     "name": "stdout",
     "output_type": "stream",
     "text": [
      "step 8\n"
     ]
    },
    {
     "name": "stdout",
     "output_type": "stream",
     "text": [
      "step 9\n"
     ]
    },
    {
     "name": "stdout",
     "output_type": "stream",
     "text": [
      "step 10\n"
     ]
    },
    {
     "name": "stdout",
     "output_type": "stream",
     "text": [
      "step 11\n"
     ]
    },
    {
     "name": "stdout",
     "output_type": "stream",
     "text": [
      "step 12\n"
     ]
    },
    {
     "name": "stdout",
     "output_type": "stream",
     "text": [
      "step 13\n"
     ]
    },
    {
     "name": "stdout",
     "output_type": "stream",
     "text": [
      "step 14\n"
     ]
    },
    {
     "name": "stdout",
     "output_type": "stream",
     "text": [
      "step 15\n"
     ]
    },
    {
     "name": "stdout",
     "output_type": "stream",
     "text": [
      "step 16\n"
     ]
    },
    {
     "name": "stdout",
     "output_type": "stream",
     "text": [
      "step 17\n"
     ]
    },
    {
     "name": "stdout",
     "output_type": "stream",
     "text": [
      "step 18\n"
     ]
    },
    {
     "name": "stdout",
     "output_type": "stream",
     "text": [
      "step 19\n"
     ]
    },
    {
     "name": "stdout",
     "output_type": "stream",
     "text": [
      "step 20\n"
     ]
    },
    {
     "name": "stdout",
     "output_type": "stream",
     "text": [
      "step 21\n"
     ]
    },
    {
     "name": "stdout",
     "output_type": "stream",
     "text": [
      "step 22\n"
     ]
    },
    {
     "name": "stdout",
     "output_type": "stream",
     "text": [
      "step 23\n"
     ]
    },
    {
     "name": "stdout",
     "output_type": "stream",
     "text": [
      "step 24\n"
     ]
    },
    {
     "name": "stdout",
     "output_type": "stream",
     "text": [
      "step 25\n"
     ]
    },
    {
     "name": "stdout",
     "output_type": "stream",
     "text": [
      "step 26\n"
     ]
    },
    {
     "name": "stdout",
     "output_type": "stream",
     "text": [
      "step 27\n"
     ]
    },
    {
     "name": "stdout",
     "output_type": "stream",
     "text": [
      "step 28\n"
     ]
    },
    {
     "name": "stdout",
     "output_type": "stream",
     "text": [
      "step 29\n"
     ]
    }
   ],
   "source": [
    "N_STEPS = 1 if SMOKE_TEST else 30\n",
    "for i in range(N_STEPS):\n",
    "    print(f\"step {i}\")\n",
    "    X.step()"
   ]
  },
  {
   "cell_type": "code",
   "execution_count": 6,
   "metadata": {
    "ExecuteTime": {
     "end_time": "2023-06-14T15:42:05.786611100Z",
     "start_time": "2023-06-14T15:42:05.773463300Z"
    },
    "execution": {
     "iopub.execute_input": "2024-02-09T00:03:23.195145Z",
     "iopub.status.busy": "2024-02-09T00:03:23.194948Z",
     "iopub.status.idle": "2024-02-09T00:03:23.206326Z",
     "shell.execute_reply": "2024-02-09T00:03:23.205782Z"
    }
   },
   "outputs": [
    {
     "data": {
      "text/html": [
       "<div>\n",
       "<style scoped>\n",
       "    .dataframe tbody tr th:only-of-type {\n",
       "        vertical-align: middle;\n",
       "    }\n",
       "\n",
       "    .dataframe tbody tr th {\n",
       "        vertical-align: top;\n",
       "    }\n",
       "\n",
       "    .dataframe thead th {\n",
       "        text-align: right;\n",
       "    }\n",
       "</style>\n",
       "<table border=\"1\" class=\"dataframe\">\n",
       "  <thead>\n",
       "    <tr style=\"text-align: right;\">\n",
       "      <th></th>\n",
       "      <th>x1</th>\n",
       "      <th>x2</th>\n",
       "      <th>a</th>\n",
       "      <th>y1</th>\n",
       "      <th>c1</th>\n",
       "      <th>c2</th>\n",
       "      <th>xopt_runtime</th>\n",
       "      <th>xopt_error</th>\n",
       "    </tr>\n",
       "  </thead>\n",
       "  <tbody>\n",
       "    <tr>\n",
       "      <th>0</th>\n",
       "      <td>1.000000</td>\n",
       "      <td>0.700000</td>\n",
       "      <td>dummy_constant</td>\n",
       "      <td>1.000000</td>\n",
       "      <td>0.584045</td>\n",
       "      <td>0.290000</td>\n",
       "      <td>0.000038</td>\n",
       "      <td>False</td>\n",
       "    </tr>\n",
       "    <tr>\n",
       "      <th>1</th>\n",
       "      <td>0.750000</td>\n",
       "      <td>0.950000</td>\n",
       "      <td>dummy_constant</td>\n",
       "      <td>0.750000</td>\n",
       "      <td>0.494833</td>\n",
       "      <td>0.265000</td>\n",
       "      <td>0.000010</td>\n",
       "      <td>False</td>\n",
       "    </tr>\n",
       "    <tr>\n",
       "      <th>2</th>\n",
       "      <td>1.535397</td>\n",
       "      <td>1.735397</td>\n",
       "      <td>dummy_constant</td>\n",
       "      <td>NaN</td>\n",
       "      <td>4.313110</td>\n",
       "      <td>2.598255</td>\n",
       "      <td>0.000022</td>\n",
       "      <td>False</td>\n",
       "    </tr>\n",
       "    <tr>\n",
       "      <th>3</th>\n",
       "      <td>2.320795</td>\n",
       "      <td>0.950000</td>\n",
       "      <td>dummy_constant</td>\n",
       "      <td>NaN</td>\n",
       "      <td>5.188811</td>\n",
       "      <td>3.517794</td>\n",
       "      <td>0.000024</td>\n",
       "      <td>False</td>\n",
       "    </tr>\n",
       "    <tr>\n",
       "      <th>4</th>\n",
       "      <td>1.536142</td>\n",
       "      <td>0.164602</td>\n",
       "      <td>dummy_constant</td>\n",
       "      <td>NaN</td>\n",
       "      <td>1.400496</td>\n",
       "      <td>1.186081</td>\n",
       "      <td>0.000024</td>\n",
       "      <td>False</td>\n",
       "    </tr>\n",
       "    <tr>\n",
       "      <th>5</th>\n",
       "      <td>0.755935</td>\n",
       "      <td>0.000000</td>\n",
       "      <td>dummy_constant</td>\n",
       "      <td>NaN</td>\n",
       "      <td>-0.528562</td>\n",
       "      <td>0.315503</td>\n",
       "      <td>0.000025</td>\n",
       "      <td>False</td>\n",
       "    </tr>\n",
       "    <tr>\n",
       "      <th>6</th>\n",
       "      <td>0.000000</td>\n",
       "      <td>0.742250</td>\n",
       "      <td>dummy_constant</td>\n",
       "      <td>NaN</td>\n",
       "      <td>-0.549064</td>\n",
       "      <td>0.308685</td>\n",
       "      <td>0.000025</td>\n",
       "      <td>False</td>\n",
       "    </tr>\n",
       "    <tr>\n",
       "      <th>7</th>\n",
       "      <td>0.011960</td>\n",
       "      <td>1.510630</td>\n",
       "      <td>dummy_constant</td>\n",
       "      <td>NaN</td>\n",
       "      <td>1.182947</td>\n",
       "      <td>1.259555</td>\n",
       "      <td>0.000025</td>\n",
       "      <td>False</td>\n",
       "    </tr>\n",
       "    <tr>\n",
       "      <th>8</th>\n",
       "      <td>0.423137</td>\n",
       "      <td>1.049254</td>\n",
       "      <td>dummy_constant</td>\n",
       "      <td>0.423137</td>\n",
       "      <td>0.181102</td>\n",
       "      <td>0.307588</td>\n",
       "      <td>0.000025</td>\n",
       "      <td>False</td>\n",
       "    </tr>\n",
       "    <tr>\n",
       "      <th>9</th>\n",
       "      <td>1.056573</td>\n",
       "      <td>0.329004</td>\n",
       "      <td>dummy_constant</td>\n",
       "      <td>1.056573</td>\n",
       "      <td>0.212862</td>\n",
       "      <td>0.339013</td>\n",
       "      <td>0.000024</td>\n",
       "      <td>False</td>\n",
       "    </tr>\n",
       "    <tr>\n",
       "      <th>10</th>\n",
       "      <td>0.781404</td>\n",
       "      <td>0.712476</td>\n",
       "      <td>dummy_constant</td>\n",
       "      <td>0.781404</td>\n",
       "      <td>0.044215</td>\n",
       "      <td>0.124335</td>\n",
       "      <td>0.000025</td>\n",
       "      <td>False</td>\n",
       "    </tr>\n",
       "    <tr>\n",
       "      <th>11</th>\n",
       "      <td>0.649992</td>\n",
       "      <td>1.141257</td>\n",
       "      <td>dummy_constant</td>\n",
       "      <td>0.649992</td>\n",
       "      <td>0.766604</td>\n",
       "      <td>0.433708</td>\n",
       "      <td>0.000024</td>\n",
       "      <td>False</td>\n",
       "    </tr>\n",
       "    <tr>\n",
       "      <th>12</th>\n",
       "      <td>0.998802</td>\n",
       "      <td>0.928832</td>\n",
       "      <td>dummy_constant</td>\n",
       "      <td>0.998802</td>\n",
       "      <td>0.776716</td>\n",
       "      <td>0.432700</td>\n",
       "      <td>0.000023</td>\n",
       "      <td>False</td>\n",
       "    </tr>\n",
       "    <tr>\n",
       "      <th>13</th>\n",
       "      <td>0.235456</td>\n",
       "      <td>1.095248</td>\n",
       "      <td>dummy_constant</td>\n",
       "      <td>0.235456</td>\n",
       "      <td>0.351984</td>\n",
       "      <td>0.424303</td>\n",
       "      <td>0.000026</td>\n",
       "      <td>False</td>\n",
       "    </tr>\n",
       "    <tr>\n",
       "      <th>14</th>\n",
       "      <td>0.131934</td>\n",
       "      <td>1.068117</td>\n",
       "      <td>dummy_constant</td>\n",
       "      <td>0.131934</td>\n",
       "      <td>0.196813</td>\n",
       "      <td>0.458229</td>\n",
       "      <td>0.000026</td>\n",
       "      <td>False</td>\n",
       "    </tr>\n",
       "    <tr>\n",
       "      <th>15</th>\n",
       "      <td>0.671409</td>\n",
       "      <td>1.165812</td>\n",
       "      <td>dummy_constant</td>\n",
       "      <td>0.671409</td>\n",
       "      <td>0.858408</td>\n",
       "      <td>0.472686</td>\n",
       "      <td>0.000025</td>\n",
       "      <td>False</td>\n",
       "    </tr>\n",
       "    <tr>\n",
       "      <th>16</th>\n",
       "      <td>1.150370</td>\n",
       "      <td>0.618263</td>\n",
       "      <td>dummy_constant</td>\n",
       "      <td>1.150370</td>\n",
       "      <td>0.709249</td>\n",
       "      <td>0.436968</td>\n",
       "      <td>0.000026</td>\n",
       "      <td>False</td>\n",
       "    </tr>\n",
       "    <tr>\n",
       "      <th>17</th>\n",
       "      <td>1.080945</td>\n",
       "      <td>0.157844</td>\n",
       "      <td>dummy_constant</td>\n",
       "      <td>1.080945</td>\n",
       "      <td>0.261461</td>\n",
       "      <td>0.454568</td>\n",
       "      <td>0.000025</td>\n",
       "      <td>False</td>\n",
       "    </tr>\n",
       "    <tr>\n",
       "      <th>18</th>\n",
       "      <td>0.954067</td>\n",
       "      <td>0.466138</td>\n",
       "      <td>dummy_constant</td>\n",
       "      <td>0.954067</td>\n",
       "      <td>0.072519</td>\n",
       "      <td>0.207323</td>\n",
       "      <td>0.000025</td>\n",
       "      <td>False</td>\n",
       "    </tr>\n",
       "    <tr>\n",
       "      <th>19</th>\n",
       "      <td>1.054554</td>\n",
       "      <td>0.906236</td>\n",
       "      <td>dummy_constant</td>\n",
       "      <td>1.054554</td>\n",
       "      <td>0.897857</td>\n",
       "      <td>0.472558</td>\n",
       "      <td>0.000025</td>\n",
       "      <td>False</td>\n",
       "    </tr>\n",
       "    <tr>\n",
       "      <th>20</th>\n",
       "      <td>1.183717</td>\n",
       "      <td>0.564022</td>\n",
       "      <td>dummy_constant</td>\n",
       "      <td>1.183717</td>\n",
       "      <td>0.651920</td>\n",
       "      <td>0.471568</td>\n",
       "      <td>0.000025</td>\n",
       "      <td>False</td>\n",
       "    </tr>\n",
       "    <tr>\n",
       "      <th>21</th>\n",
       "      <td>0.558454</td>\n",
       "      <td>0.906498</td>\n",
       "      <td>dummy_constant</td>\n",
       "      <td>0.558454</td>\n",
       "      <td>0.216675</td>\n",
       "      <td>0.168658</td>\n",
       "      <td>0.000025</td>\n",
       "      <td>False</td>\n",
       "    </tr>\n",
       "    <tr>\n",
       "      <th>22</th>\n",
       "      <td>1.076805</td>\n",
       "      <td>0.121101</td>\n",
       "      <td>dummy_constant</td>\n",
       "      <td>1.076805</td>\n",
       "      <td>0.196102</td>\n",
       "      <td>0.476268</td>\n",
       "      <td>0.000027</td>\n",
       "      <td>False</td>\n",
       "    </tr>\n",
       "    <tr>\n",
       "      <th>23</th>\n",
       "      <td>1.042243</td>\n",
       "      <td>0.065510</td>\n",
       "      <td>dummy_constant</td>\n",
       "      <td>1.042243</td>\n",
       "      <td>0.036899</td>\n",
       "      <td>0.482808</td>\n",
       "      <td>0.000025</td>\n",
       "      <td>False</td>\n",
       "    </tr>\n",
       "    <tr>\n",
       "      <th>24</th>\n",
       "      <td>0.671556</td>\n",
       "      <td>0.807811</td>\n",
       "      <td>dummy_constant</td>\n",
       "      <td>0.671556</td>\n",
       "      <td>0.093435</td>\n",
       "      <td>0.124179</td>\n",
       "      <td>0.000026</td>\n",
       "      <td>False</td>\n",
       "    </tr>\n",
       "    <tr>\n",
       "      <th>25</th>\n",
       "      <td>0.875507</td>\n",
       "      <td>1.076447</td>\n",
       "      <td>dummy_constant</td>\n",
       "      <td>0.875507</td>\n",
       "      <td>0.932296</td>\n",
       "      <td>0.473297</td>\n",
       "      <td>0.000024</td>\n",
       "      <td>False</td>\n",
       "    </tr>\n",
       "    <tr>\n",
       "      <th>26</th>\n",
       "      <td>0.453905</td>\n",
       "      <td>1.185566</td>\n",
       "      <td>dummy_constant</td>\n",
       "      <td>0.453905</td>\n",
       "      <td>0.520820</td>\n",
       "      <td>0.472125</td>\n",
       "      <td>0.000025</td>\n",
       "      <td>False</td>\n",
       "    </tr>\n",
       "    <tr>\n",
       "      <th>27</th>\n",
       "      <td>0.074910</td>\n",
       "      <td>1.042431</td>\n",
       "      <td>dummy_constant</td>\n",
       "      <td>0.074910</td>\n",
       "      <td>0.051225</td>\n",
       "      <td>0.474933</td>\n",
       "      <td>0.000026</td>\n",
       "      <td>False</td>\n",
       "    </tr>\n",
       "    <tr>\n",
       "      <th>28</th>\n",
       "      <td>0.454616</td>\n",
       "      <td>1.193022</td>\n",
       "      <td>dummy_constant</td>\n",
       "      <td>0.454616</td>\n",
       "      <td>0.540282</td>\n",
       "      <td>0.482339</td>\n",
       "      <td>0.000025</td>\n",
       "      <td>False</td>\n",
       "    </tr>\n",
       "    <tr>\n",
       "      <th>29</th>\n",
       "      <td>1.187126</td>\n",
       "      <td>0.603722</td>\n",
       "      <td>dummy_constant</td>\n",
       "      <td>1.187126</td>\n",
       "      <td>0.741678</td>\n",
       "      <td>0.482900</td>\n",
       "      <td>0.000025</td>\n",
       "      <td>False</td>\n",
       "    </tr>\n",
       "    <tr>\n",
       "      <th>30</th>\n",
       "      <td>1.037896</td>\n",
       "      <td>0.055523</td>\n",
       "      <td>dummy_constant</td>\n",
       "      <td>1.037896</td>\n",
       "      <td>0.014697</td>\n",
       "      <td>0.486892</td>\n",
       "      <td>0.000024</td>\n",
       "      <td>False</td>\n",
       "    </tr>\n",
       "    <tr>\n",
       "      <th>31</th>\n",
       "      <td>0.896120</td>\n",
       "      <td>0.560118</td>\n",
       "      <td>dummy_constant</td>\n",
       "      <td>0.896120</td>\n",
       "      <td>0.205154</td>\n",
       "      <td>0.160525</td>\n",
       "      <td>0.000025</td>\n",
       "      <td>False</td>\n",
       "    </tr>\n",
       "  </tbody>\n",
       "</table>\n",
       "</div>"
      ],
      "text/plain": [
       "          x1        x2               a        y1        c1        c2  \\\n",
       "0   1.000000  0.700000  dummy_constant  1.000000  0.584045  0.290000   \n",
       "1   0.750000  0.950000  dummy_constant  0.750000  0.494833  0.265000   \n",
       "2   1.535397  1.735397  dummy_constant       NaN  4.313110  2.598255   \n",
       "3   2.320795  0.950000  dummy_constant       NaN  5.188811  3.517794   \n",
       "4   1.536142  0.164602  dummy_constant       NaN  1.400496  1.186081   \n",
       "5   0.755935  0.000000  dummy_constant       NaN -0.528562  0.315503   \n",
       "6   0.000000  0.742250  dummy_constant       NaN -0.549064  0.308685   \n",
       "7   0.011960  1.510630  dummy_constant       NaN  1.182947  1.259555   \n",
       "8   0.423137  1.049254  dummy_constant  0.423137  0.181102  0.307588   \n",
       "9   1.056573  0.329004  dummy_constant  1.056573  0.212862  0.339013   \n",
       "10  0.781404  0.712476  dummy_constant  0.781404  0.044215  0.124335   \n",
       "11  0.649992  1.141257  dummy_constant  0.649992  0.766604  0.433708   \n",
       "12  0.998802  0.928832  dummy_constant  0.998802  0.776716  0.432700   \n",
       "13  0.235456  1.095248  dummy_constant  0.235456  0.351984  0.424303   \n",
       "14  0.131934  1.068117  dummy_constant  0.131934  0.196813  0.458229   \n",
       "15  0.671409  1.165812  dummy_constant  0.671409  0.858408  0.472686   \n",
       "16  1.150370  0.618263  dummy_constant  1.150370  0.709249  0.436968   \n",
       "17  1.080945  0.157844  dummy_constant  1.080945  0.261461  0.454568   \n",
       "18  0.954067  0.466138  dummy_constant  0.954067  0.072519  0.207323   \n",
       "19  1.054554  0.906236  dummy_constant  1.054554  0.897857  0.472558   \n",
       "20  1.183717  0.564022  dummy_constant  1.183717  0.651920  0.471568   \n",
       "21  0.558454  0.906498  dummy_constant  0.558454  0.216675  0.168658   \n",
       "22  1.076805  0.121101  dummy_constant  1.076805  0.196102  0.476268   \n",
       "23  1.042243  0.065510  dummy_constant  1.042243  0.036899  0.482808   \n",
       "24  0.671556  0.807811  dummy_constant  0.671556  0.093435  0.124179   \n",
       "25  0.875507  1.076447  dummy_constant  0.875507  0.932296  0.473297   \n",
       "26  0.453905  1.185566  dummy_constant  0.453905  0.520820  0.472125   \n",
       "27  0.074910  1.042431  dummy_constant  0.074910  0.051225  0.474933   \n",
       "28  0.454616  1.193022  dummy_constant  0.454616  0.540282  0.482339   \n",
       "29  1.187126  0.603722  dummy_constant  1.187126  0.741678  0.482900   \n",
       "30  1.037896  0.055523  dummy_constant  1.037896  0.014697  0.486892   \n",
       "31  0.896120  0.560118  dummy_constant  0.896120  0.205154  0.160525   \n",
       "\n",
       "    xopt_runtime  xopt_error  \n",
       "0       0.000038       False  \n",
       "1       0.000010       False  \n",
       "2       0.000022       False  \n",
       "3       0.000024       False  \n",
       "4       0.000024       False  \n",
       "5       0.000025       False  \n",
       "6       0.000025       False  \n",
       "7       0.000025       False  \n",
       "8       0.000025       False  \n",
       "9       0.000024       False  \n",
       "10      0.000025       False  \n",
       "11      0.000024       False  \n",
       "12      0.000023       False  \n",
       "13      0.000026       False  \n",
       "14      0.000026       False  \n",
       "15      0.000025       False  \n",
       "16      0.000026       False  \n",
       "17      0.000025       False  \n",
       "18      0.000025       False  \n",
       "19      0.000025       False  \n",
       "20      0.000025       False  \n",
       "21      0.000025       False  \n",
       "22      0.000027       False  \n",
       "23      0.000025       False  \n",
       "24      0.000026       False  \n",
       "25      0.000024       False  \n",
       "26      0.000025       False  \n",
       "27      0.000026       False  \n",
       "28      0.000025       False  \n",
       "29      0.000025       False  \n",
       "30      0.000024       False  \n",
       "31      0.000025       False  "
      ]
     },
     "execution_count": 6,
     "metadata": {},
     "output_type": "execute_result"
    }
   ],
   "source": [
    "# view the data\n",
    "X.data"
   ]
  },
  {
   "cell_type": "code",
   "execution_count": 7,
   "metadata": {
    "ExecuteTime": {
     "end_time": "2023-06-14T15:42:06.400652600Z",
     "start_time": "2023-06-14T15:42:05.787612700Z"
    },
    "execution": {
     "iopub.execute_input": "2024-02-09T00:03:23.208645Z",
     "iopub.status.busy": "2024-02-09T00:03:23.208262Z",
     "iopub.status.idle": "2024-02-09T00:03:23.577592Z",
     "shell.execute_reply": "2024-02-09T00:03:23.577023Z"
    }
   },
   "outputs": [
    {
     "data": {
      "image/png": "[encoded data removed]",
      "text/plain": [
       "<Figure size 640x480 with 1 Axes>"
      ]
     },
     "metadata": {},
     "output_type": "display_data"
    }
   ],
   "source": [
    "# plot results\n",
    "ax = X.data.plot(\"x1\", \"x2\")\n",
    "ax.set_aspect(\"equal\")"
   ]
  },
  {
   "cell_type": "code",
   "execution_count": 7,
   "metadata": {
    "ExecuteTime": {
     "end_time": "2023-06-14T15:42:06.419648600Z",
     "start_time": "2023-06-14T15:42:06.401622Z"
    }
   },
   "outputs": [],
   "source": []
  }
 ],
 "metadata": {
  "kernelspec": {
   "display_name": "Python 3 (ipykernel)",
   "language": "python",
   "name": "python3"
  },
  "language_info": {
   "codemirror_mode": {
    "name": "ipython",
    "version": 3
   },
   "file_extension": ".py",
   "mimetype": "text/x-python",
   "name": "python",
   "nbconvert_exporter": "python",
   "pygments_lexer": "ipython3",
   "version": "3.9.18"
  }
 },
 "nbformat": 4,
 "nbformat_minor": 4
}
