{
 "cells": [
  {
   "cell_type": "markdown",
   "metadata": {},
   "source": [
    "# Bayesian Exploration with NaNs\n",
    "\n",
    "As violations of constraints can lead to invalid values of the objective, the evaluate function may simply return NaNs. We demonstrate below how we can still perform Bayesian Exploration in that case."
   ]
  },
  {
   "cell_type": "code",
   "execution_count": 1,
   "metadata": {
    "ExecuteTime": {
     "end_time": "2023-06-14T15:37:25.535638700Z",
     "start_time": "2023-06-14T15:37:22.379218300Z"
    },
    "execution": {
     "iopub.execute_input": "2024-02-01T04:05:06.443591Z",
     "iopub.status.busy": "2024-02-01T04:05:06.443414Z",
     "iopub.status.idle": "2024-02-01T04:05:08.621960Z",
     "shell.execute_reply": "2024-02-01T04:05:08.621343Z"
    }
   },
   "outputs": [],
   "source": [
    "# set values if testing\n",
    "import os\n",
    "SMOKE_TEST = os.environ.get(\"SMOKE_TEST\")\n",
    "NUM_MC_SAMPLES = 1 if SMOKE_TEST else 128\n",
    "NUM_RESTARTS = 1 if SMOKE_TEST else 20\n",
    "\n",
    "# Ignore all warnings\n",
    "import warnings\n",
    "warnings.filterwarnings(\"ignore\")\n",
    "\n",
    "import pandas as pd\n",
    "import torch\n",
    "import yaml\n",
    "from copy import deepcopy\n",
    "from xopt import Xopt, Evaluator\n",
    "from xopt.generators.bayesian import BayesianExplorationGenerator\n",
    "from xopt.resources.test_functions.tnk import evaluate_TNK, tnk_vocs\n",
    "\n",
    "vocs = deepcopy(tnk_vocs)\n",
    "vocs.objectives = {}\n",
    "vocs.observables = [\"y1\"]"
   ]
  },
  {
   "cell_type": "code",
   "execution_count": 2,
   "metadata": {
    "ExecuteTime": {
     "end_time": "2023-06-14T15:37:25.549637200Z",
     "start_time": "2023-06-14T15:37:25.539666500Z"
    },
    "execution": {
     "iopub.execute_input": "2024-02-01T04:05:08.624696Z",
     "iopub.status.busy": "2024-02-01T04:05:08.624437Z",
     "iopub.status.idle": "2024-02-01T04:05:08.628447Z",
     "shell.execute_reply": "2024-02-01T04:05:08.627988Z"
    }
   },
   "outputs": [],
   "source": [
    "# modify the evaluate function to return NaNs if constraints are violated\n",
    "def evaluate(input_dict):\n",
    "    output_dict = evaluate_TNK(input_dict)\n",
    "    del output_dict[\"y2\"]\n",
    "    for c in vocs.constraints.keys():\n",
    "        if vocs.constraints[c][0].upper() == \"GREATER_THAN\" and output_dict[c] <= vocs.constraints[c][1]:\n",
    "            output_dict[\"y1\"] = torch.nan\n",
    "        elif vocs.constraints[c][0].upper() == \"LESS_THAN\" and output_dict[c] >= vocs.constraints[c][1]:\n",
    "            output_dict[\"y1\"] = torch.nan\n",
    "    return output_dict"
   ]
  },
  {
   "cell_type": "code",
   "execution_count": 3,
   "metadata": {
    "ExecuteTime": {
     "end_time": "2023-06-14T15:37:25.580538800Z",
     "start_time": "2023-06-14T15:37:25.552636600Z"
    },
    "execution": {
     "iopub.execute_input": "2024-02-01T04:05:08.630578Z",
     "iopub.status.busy": "2024-02-01T04:05:08.630232Z",
     "iopub.status.idle": "2024-02-01T04:05:08.645352Z",
     "shell.execute_reply": "2024-02-01T04:05:08.644844Z"
    }
   },
   "outputs": [
    {
     "data": {
      "text/plain": [
       "\n",
       "            Xopt\n",
       "________________________________\n",
       "Version: 0+untagged.1.gb2f0be4\n",
       "Data size: 0\n",
       "Config as YAML:\n",
       "dump_file: null\n",
       "evaluator:\n",
       "  function: __main__.evaluate\n",
       "  function_kwargs: {}\n",
       "  max_workers: 1\n",
       "  vectorized: false\n",
       "generator:\n",
       "  computation_time: null\n",
       "  fixed_features: null\n",
       "  gp_constructor:\n",
       "    covar_modules: {}\n",
       "    mean_modules: {}\n",
       "    name: standard\n",
       "    trainable_mean_keys: []\n",
       "    transform_inputs: true\n",
       "    use_low_noise_prior: true\n",
       "  log_transform_acquisition_function: false\n",
       "  max_travel_distances:\n",
       "  - 0.25\n",
       "  - 0.25\n",
       "  model: null\n",
       "  n_candidates: 1\n",
       "  n_interpolate_points: null\n",
       "  n_monte_carlo_samples: 128\n",
       "  name: bayesian_exploration\n",
       "  numerical_optimizer:\n",
       "    max_iter: 2000\n",
       "    max_time: null\n",
       "    n_restarts: 20\n",
       "    name: LBFGS\n",
       "  supports_batch_generation: true\n",
       "  turbo_controller: null\n",
       "  use_cuda: false\n",
       "max_evaluations: null\n",
       "serialize_inline: false\n",
       "serialize_torch: false\n",
       "strict: true\n",
       "vocs:\n",
       "  constants:\n",
       "    a: dummy_constant\n",
       "  constraints:\n",
       "    c1:\n",
       "    - GREATER_THAN\n",
       "    - 0.0\n",
       "    c2:\n",
       "    - LESS_THAN\n",
       "    - 0.5\n",
       "  objectives: {}\n",
       "  observables:\n",
       "  - y1\n",
       "  variables:\n",
       "    x1:\n",
       "    - 0.0\n",
       "    - 3.14159\n",
       "    x2:\n",
       "    - 0.0\n",
       "    - 3.14159\n"
      ]
     },
     "execution_count": 3,
     "metadata": {},
     "output_type": "execute_result"
    }
   ],
   "source": [
    "generator = BayesianExplorationGenerator(vocs=vocs)\n",
    "generator.max_travel_distances = [0.25, 0.25]\n",
    "generator.n_monte_carlo_samples = NUM_MC_SAMPLES\n",
    "generator.numerical_optimizer.n_restarts = NUM_RESTARTS\n",
    "\n",
    "evaluator = Evaluator(function=evaluate)\n",
    "X = Xopt(generator=generator, evaluator=evaluator, vocs=vocs)\n",
    "X"
   ]
  },
  {
   "cell_type": "markdown",
   "metadata": {},
   "source": [
    "## Run exploration\n",
    "We start with evaluating 2 points that we know satisfy the constraints. We then run\n",
    "30 exploration steps."
   ]
  },
  {
   "cell_type": "code",
   "execution_count": 4,
   "metadata": {
    "ExecuteTime": {
     "end_time": "2023-06-14T15:37:25.638907100Z",
     "start_time": "2023-06-14T15:37:25.582541Z"
    },
    "execution": {
     "iopub.execute_input": "2024-02-01T04:05:08.674599Z",
     "iopub.status.busy": "2024-02-01T04:05:08.674207Z",
     "iopub.status.idle": "2024-02-01T04:05:08.686450Z",
     "shell.execute_reply": "2024-02-01T04:05:08.685914Z"
    }
   },
   "outputs": [
    {
     "data": {
      "text/html": [
       "<div>\n",
       "<style scoped>\n",
       "    .dataframe tbody tr th:only-of-type {\n",
       "        vertical-align: middle;\n",
       "    }\n",
       "\n",
       "    .dataframe tbody tr th {\n",
       "        vertical-align: top;\n",
       "    }\n",
       "\n",
       "    .dataframe thead th {\n",
       "        text-align: right;\n",
       "    }\n",
       "</style>\n",
       "<table border=\"1\" class=\"dataframe\">\n",
       "  <thead>\n",
       "    <tr style=\"text-align: right;\">\n",
       "      <th></th>\n",
       "      <th>x1</th>\n",
       "      <th>x2</th>\n",
       "      <th>a</th>\n",
       "      <th>y1</th>\n",
       "      <th>c1</th>\n",
       "      <th>c2</th>\n",
       "      <th>xopt_runtime</th>\n",
       "      <th>xopt_error</th>\n",
       "    </tr>\n",
       "  </thead>\n",
       "  <tbody>\n",
       "    <tr>\n",
       "      <th>0</th>\n",
       "      <td>1.00</td>\n",
       "      <td>0.70</td>\n",
       "      <td>dummy_constant</td>\n",
       "      <td>1.00</td>\n",
       "      <td>0.584045</td>\n",
       "      <td>0.290</td>\n",
       "      <td>0.000036</td>\n",
       "      <td>False</td>\n",
       "    </tr>\n",
       "    <tr>\n",
       "      <th>1</th>\n",
       "      <td>0.75</td>\n",
       "      <td>0.95</td>\n",
       "      <td>dummy_constant</td>\n",
       "      <td>0.75</td>\n",
       "      <td>0.494833</td>\n",
       "      <td>0.265</td>\n",
       "      <td>0.000010</td>\n",
       "      <td>False</td>\n",
       "    </tr>\n",
       "  </tbody>\n",
       "</table>\n",
       "</div>"
      ],
      "text/plain": [
       "     x1    x2               a    y1        c1     c2  xopt_runtime  xopt_error\n",
       "0  1.00  0.70  dummy_constant  1.00  0.584045  0.290      0.000036       False\n",
       "1  0.75  0.95  dummy_constant  0.75  0.494833  0.265      0.000010       False"
      ]
     },
     "execution_count": 4,
     "metadata": {},
     "output_type": "execute_result"
    }
   ],
   "source": [
    "X.evaluate_data(pd.DataFrame({\"x1\": [1.0, 0.75], \"x2\": [0.7, 0.95]}))"
   ]
  },
  {
   "cell_type": "code",
   "execution_count": 5,
   "metadata": {
    "ExecuteTime": {
     "end_time": "2023-06-14T15:42:05.755461900Z",
     "start_time": "2023-06-14T15:37:25.611873400Z"
    },
    "execution": {
     "iopub.execute_input": "2024-02-01T04:05:08.688359Z",
     "iopub.status.busy": "2024-02-01T04:05:08.688184Z",
     "iopub.status.idle": "2024-02-01T04:06:21.759120Z",
     "shell.execute_reply": "2024-02-01T04:06:21.758482Z"
    },
    "scrolled": false
   },
   "outputs": [
    {
     "name": "stdout",
     "output_type": "stream",
     "text": [
      "step 0\n"
     ]
    },
    {
     "name": "stdout",
     "output_type": "stream",
     "text": [
      "step 1\n"
     ]
    },
    {
     "name": "stdout",
     "output_type": "stream",
     "text": [
      "step 2\n"
     ]
    },
    {
     "name": "stdout",
     "output_type": "stream",
     "text": [
      "step 3\n"
     ]
    },
    {
     "name": "stdout",
     "output_type": "stream",
     "text": [
      "step 4\n"
     ]
    },
    {
     "name": "stdout",
     "output_type": "stream",
     "text": [
      "step 5\n"
     ]
    },
    {
     "name": "stdout",
     "output_type": "stream",
     "text": [
      "step 6\n"
     ]
    },
    {
     "name": "stdout",
     "output_type": "stream",
     "text": [
      "step 7\n"
     ]
    },
    {
     "name": "stdout",
     "output_type": "stream",
     "text": [
      "step 8\n"
     ]
    },
    {
     "name": "stdout",
     "output_type": "stream",
     "text": [
      "step 9\n"
     ]
    },
    {
     "name": "stdout",
     "output_type": "stream",
     "text": [
      "step 10\n"
     ]
    },
    {
     "name": "stdout",
     "output_type": "stream",
     "text": [
      "step 11\n"
     ]
    },
    {
     "name": "stdout",
     "output_type": "stream",
     "text": [
      "step 12\n"
     ]
    },
    {
     "name": "stdout",
     "output_type": "stream",
     "text": [
      "step 13\n"
     ]
    },
    {
     "name": "stdout",
     "output_type": "stream",
     "text": [
      "step 14\n"
     ]
    },
    {
     "name": "stdout",
     "output_type": "stream",
     "text": [
      "step 15\n"
     ]
    },
    {
     "name": "stdout",
     "output_type": "stream",
     "text": [
      "step 16\n"
     ]
    },
    {
     "name": "stdout",
     "output_type": "stream",
     "text": [
      "step 17\n"
     ]
    },
    {
     "name": "stdout",
     "output_type": "stream",
     "text": [
      "step 18\n"
     ]
    },
    {
     "name": "stdout",
     "output_type": "stream",
     "text": [
      "step 19\n"
     ]
    },
    {
     "name": "stdout",
     "output_type": "stream",
     "text": [
      "step 20\n"
     ]
    },
    {
     "name": "stdout",
     "output_type": "stream",
     "text": [
      "step 21\n"
     ]
    },
    {
     "name": "stdout",
     "output_type": "stream",
     "text": [
      "step 22\n"
     ]
    },
    {
     "name": "stdout",
     "output_type": "stream",
     "text": [
      "step 23\n"
     ]
    },
    {
     "name": "stdout",
     "output_type": "stream",
     "text": [
      "step 24\n"
     ]
    },
    {
     "name": "stdout",
     "output_type": "stream",
     "text": [
      "step 25\n"
     ]
    },
    {
     "name": "stdout",
     "output_type": "stream",
     "text": [
      "step 26\n"
     ]
    },
    {
     "name": "stdout",
     "output_type": "stream",
     "text": [
      "step 27\n"
     ]
    },
    {
     "name": "stdout",
     "output_type": "stream",
     "text": [
      "step 28\n"
     ]
    },
    {
     "name": "stdout",
     "output_type": "stream",
     "text": [
      "step 29\n"
     ]
    }
   ],
   "source": [
    "N_STEPS = 1 if SMOKE_TEST else 30\n",
    "for i in range(N_STEPS):\n",
    "    print(f\"step {i}\")\n",
    "    X.step()"
   ]
  },
  {
   "cell_type": "code",
   "execution_count": 6,
   "metadata": {
    "ExecuteTime": {
     "end_time": "2023-06-14T15:42:05.786611100Z",
     "start_time": "2023-06-14T15:42:05.773463300Z"
    },
    "execution": {
     "iopub.execute_input": "2024-02-01T04:06:21.762072Z",
     "iopub.status.busy": "2024-02-01T04:06:21.761857Z",
     "iopub.status.idle": "2024-02-01T04:06:21.774029Z",
     "shell.execute_reply": "2024-02-01T04:06:21.773461Z"
    }
   },
   "outputs": [
    {
     "data": {
      "text/html": [
       "<div>\n",
       "<style scoped>\n",
       "    .dataframe tbody tr th:only-of-type {\n",
       "        vertical-align: middle;\n",
       "    }\n",
       "\n",
       "    .dataframe tbody tr th {\n",
       "        vertical-align: top;\n",
       "    }\n",
       "\n",
       "    .dataframe thead th {\n",
       "        text-align: right;\n",
       "    }\n",
       "</style>\n",
       "<table border=\"1\" class=\"dataframe\">\n",
       "  <thead>\n",
       "    <tr style=\"text-align: right;\">\n",
       "      <th></th>\n",
       "      <th>x1</th>\n",
       "      <th>x2</th>\n",
       "      <th>a</th>\n",
       "      <th>y1</th>\n",
       "      <th>c1</th>\n",
       "      <th>c2</th>\n",
       "      <th>xopt_runtime</th>\n",
       "      <th>xopt_error</th>\n",
       "    </tr>\n",
       "  </thead>\n",
       "  <tbody>\n",
       "    <tr>\n",
       "      <th>0</th>\n",
       "      <td>1.000000</td>\n",
       "      <td>0.700000</td>\n",
       "      <td>dummy_constant</td>\n",
       "      <td>1.000000</td>\n",
       "      <td>0.584045</td>\n",
       "      <td>0.290000</td>\n",
       "      <td>0.000036</td>\n",
       "      <td>False</td>\n",
       "    </tr>\n",
       "    <tr>\n",
       "      <th>1</th>\n",
       "      <td>0.750000</td>\n",
       "      <td>0.950000</td>\n",
       "      <td>dummy_constant</td>\n",
       "      <td>0.750000</td>\n",
       "      <td>0.494833</td>\n",
       "      <td>0.265000</td>\n",
       "      <td>0.000010</td>\n",
       "      <td>False</td>\n",
       "    </tr>\n",
       "    <tr>\n",
       "      <th>2</th>\n",
       "      <td>1.535397</td>\n",
       "      <td>1.735397</td>\n",
       "      <td>dummy_constant</td>\n",
       "      <td>NaN</td>\n",
       "      <td>4.313110</td>\n",
       "      <td>2.598255</td>\n",
       "      <td>0.000027</td>\n",
       "      <td>False</td>\n",
       "    </tr>\n",
       "    <tr>\n",
       "      <th>3</th>\n",
       "      <td>2.320795</td>\n",
       "      <td>0.950000</td>\n",
       "      <td>dummy_constant</td>\n",
       "      <td>NaN</td>\n",
       "      <td>5.188811</td>\n",
       "      <td>3.517794</td>\n",
       "      <td>0.000027</td>\n",
       "      <td>False</td>\n",
       "    </tr>\n",
       "    <tr>\n",
       "      <th>4</th>\n",
       "      <td>1.536846</td>\n",
       "      <td>0.164602</td>\n",
       "      <td>dummy_constant</td>\n",
       "      <td>NaN</td>\n",
       "      <td>1.402583</td>\n",
       "      <td>1.187541</td>\n",
       "      <td>0.000028</td>\n",
       "      <td>False</td>\n",
       "    </tr>\n",
       "    <tr>\n",
       "      <th>5</th>\n",
       "      <td>0.751448</td>\n",
       "      <td>0.000000</td>\n",
       "      <td>dummy_constant</td>\n",
       "      <td>NaN</td>\n",
       "      <td>-0.535325</td>\n",
       "      <td>0.313226</td>\n",
       "      <td>0.000026</td>\n",
       "      <td>False</td>\n",
       "    </tr>\n",
       "    <tr>\n",
       "      <th>6</th>\n",
       "      <td>0.000000</td>\n",
       "      <td>0.709275</td>\n",
       "      <td>dummy_constant</td>\n",
       "      <td>NaN</td>\n",
       "      <td>-0.596929</td>\n",
       "      <td>0.293796</td>\n",
       "      <td>0.000027</td>\n",
       "      <td>False</td>\n",
       "    </tr>\n",
       "    <tr>\n",
       "      <th>7</th>\n",
       "      <td>0.000000</td>\n",
       "      <td>1.458026</td>\n",
       "      <td>dummy_constant</td>\n",
       "      <td>NaN</td>\n",
       "      <td>1.025839</td>\n",
       "      <td>1.167813</td>\n",
       "      <td>0.000027</td>\n",
       "      <td>False</td>\n",
       "    </tr>\n",
       "    <tr>\n",
       "      <th>8</th>\n",
       "      <td>0.407473</td>\n",
       "      <td>1.043813</td>\n",
       "      <td>dummy_constant</td>\n",
       "      <td>0.407473</td>\n",
       "      <td>0.160922</td>\n",
       "      <td>0.304294</td>\n",
       "      <td>0.000028</td>\n",
       "      <td>False</td>\n",
       "    </tr>\n",
       "    <tr>\n",
       "      <th>9</th>\n",
       "      <td>1.059850</td>\n",
       "      <td>0.285002</td>\n",
       "      <td>dummy_constant</td>\n",
       "      <td>1.059850</td>\n",
       "      <td>0.253264</td>\n",
       "      <td>0.359656</td>\n",
       "      <td>0.000027</td>\n",
       "      <td>False</td>\n",
       "    </tr>\n",
       "    <tr>\n",
       "      <th>10</th>\n",
       "      <td>0.802115</td>\n",
       "      <td>0.683300</td>\n",
       "      <td>dummy_constant</td>\n",
       "      <td>0.802115</td>\n",
       "      <td>0.081337</td>\n",
       "      <td>0.124873</td>\n",
       "      <td>0.000026</td>\n",
       "      <td>False</td>\n",
       "    </tr>\n",
       "    <tr>\n",
       "      <th>11</th>\n",
       "      <td>0.633119</td>\n",
       "      <td>1.144127</td>\n",
       "      <td>dummy_constant</td>\n",
       "      <td>0.633119</td>\n",
       "      <td>0.732934</td>\n",
       "      <td>0.432620</td>\n",
       "      <td>0.000027</td>\n",
       "      <td>False</td>\n",
       "    </tr>\n",
       "    <tr>\n",
       "      <th>12</th>\n",
       "      <td>0.993674</td>\n",
       "      <td>0.927564</td>\n",
       "      <td>dummy_constant</td>\n",
       "      <td>0.993674</td>\n",
       "      <td>0.762529</td>\n",
       "      <td>0.426525</td>\n",
       "      <td>0.000026</td>\n",
       "      <td>False</td>\n",
       "    </tr>\n",
       "    <tr>\n",
       "      <th>13</th>\n",
       "      <td>0.212055</td>\n",
       "      <td>1.080089</td>\n",
       "      <td>dummy_constant</td>\n",
       "      <td>0.212055</td>\n",
       "      <td>0.311481</td>\n",
       "      <td>0.419415</td>\n",
       "      <td>0.000027</td>\n",
       "      <td>False</td>\n",
       "    </tr>\n",
       "    <tr>\n",
       "      <th>14</th>\n",
       "      <td>0.651861</td>\n",
       "      <td>1.168468</td>\n",
       "      <td>dummy_constant</td>\n",
       "      <td>0.651861</td>\n",
       "      <td>0.818639</td>\n",
       "      <td>0.469911</td>\n",
       "      <td>0.000026</td>\n",
       "      <td>False</td>\n",
       "    </tr>\n",
       "    <tr>\n",
       "      <th>15</th>\n",
       "      <td>1.149363</td>\n",
       "      <td>0.602187</td>\n",
       "      <td>dummy_constant</td>\n",
       "      <td>1.149363</td>\n",
       "      <td>0.670478</td>\n",
       "      <td>0.432115</td>\n",
       "      <td>0.000028</td>\n",
       "      <td>False</td>\n",
       "    </tr>\n",
       "    <tr>\n",
       "      <th>16</th>\n",
       "      <td>1.078672</td>\n",
       "      <td>0.147882</td>\n",
       "      <td>dummy_constant</td>\n",
       "      <td>1.078672</td>\n",
       "      <td>0.242619</td>\n",
       "      <td>0.458849</td>\n",
       "      <td>0.000028</td>\n",
       "      <td>False</td>\n",
       "    </tr>\n",
       "    <tr>\n",
       "      <th>17</th>\n",
       "      <td>1.051403</td>\n",
       "      <td>0.084103</td>\n",
       "      <td>dummy_constant</td>\n",
       "      <td>1.051403</td>\n",
       "      <td>0.083576</td>\n",
       "      <td>0.477015</td>\n",
       "      <td>0.000029</td>\n",
       "      <td>False</td>\n",
       "    </tr>\n",
       "    <tr>\n",
       "      <th>18</th>\n",
       "      <td>1.076402</td>\n",
       "      <td>0.869501</td>\n",
       "      <td>dummy_constant</td>\n",
       "      <td>1.076402</td>\n",
       "      <td>0.927048</td>\n",
       "      <td>0.468770</td>\n",
       "      <td>0.000026</td>\n",
       "      <td>False</td>\n",
       "    </tr>\n",
       "    <tr>\n",
       "      <th>19</th>\n",
       "      <td>1.185590</td>\n",
       "      <td>0.512715</td>\n",
       "      <td>dummy_constant</td>\n",
       "      <td>1.185590</td>\n",
       "      <td>0.571548</td>\n",
       "      <td>0.470195</td>\n",
       "      <td>0.000028</td>\n",
       "      <td>False</td>\n",
       "    </tr>\n",
       "    <tr>\n",
       "      <th>20</th>\n",
       "      <td>0.611448</td>\n",
       "      <td>0.864193</td>\n",
       "      <td>dummy_constant</td>\n",
       "      <td>0.611448</td>\n",
       "      <td>0.211699</td>\n",
       "      <td>0.145057</td>\n",
       "      <td>0.000028</td>\n",
       "      <td>False</td>\n",
       "    </tr>\n",
       "    <tr>\n",
       "      <th>21</th>\n",
       "      <td>0.108347</td>\n",
       "      <td>1.052679</td>\n",
       "      <td>dummy_constant</td>\n",
       "      <td>0.108347</td>\n",
       "      <td>0.126888</td>\n",
       "      <td>0.458846</td>\n",
       "      <td>0.000027</td>\n",
       "      <td>False</td>\n",
       "    </tr>\n",
       "    <tr>\n",
       "      <th>22</th>\n",
       "      <td>0.884549</td>\n",
       "      <td>1.068529</td>\n",
       "      <td>dummy_constant</td>\n",
       "      <td>0.884549</td>\n",
       "      <td>0.917385</td>\n",
       "      <td>0.471104</td>\n",
       "      <td>0.000028</td>\n",
       "      <td>False</td>\n",
       "    </tr>\n",
       "    <tr>\n",
       "      <th>23</th>\n",
       "      <td>0.913579</td>\n",
       "      <td>0.497168</td>\n",
       "      <td>dummy_constant</td>\n",
       "      <td>0.913579</td>\n",
       "      <td>0.093780</td>\n",
       "      <td>0.171056</td>\n",
       "      <td>0.000028</td>\n",
       "      <td>False</td>\n",
       "    </tr>\n",
       "    <tr>\n",
       "      <th>24</th>\n",
       "      <td>0.463555</td>\n",
       "      <td>0.922033</td>\n",
       "      <td>dummy_constant</td>\n",
       "      <td>0.463555</td>\n",
       "      <td>0.026049</td>\n",
       "      <td>0.179440</td>\n",
       "      <td>0.000031</td>\n",
       "      <td>False</td>\n",
       "    </tr>\n",
       "    <tr>\n",
       "      <th>25</th>\n",
       "      <td>0.074446</td>\n",
       "      <td>1.044800</td>\n",
       "      <td>dummy_constant</td>\n",
       "      <td>0.074446</td>\n",
       "      <td>0.055219</td>\n",
       "      <td>0.477903</td>\n",
       "      <td>0.000028</td>\n",
       "      <td>False</td>\n",
       "    </tr>\n",
       "    <tr>\n",
       "      <th>26</th>\n",
       "      <td>0.436437</td>\n",
       "      <td>1.183896</td>\n",
       "      <td>dummy_constant</td>\n",
       "      <td>0.436437</td>\n",
       "      <td>0.511414</td>\n",
       "      <td>0.471754</td>\n",
       "      <td>0.000027</td>\n",
       "      <td>False</td>\n",
       "    </tr>\n",
       "    <tr>\n",
       "      <th>27</th>\n",
       "      <td>1.169302</td>\n",
       "      <td>0.679967</td>\n",
       "      <td>dummy_constant</td>\n",
       "      <td>1.169302</td>\n",
       "      <td>0.883878</td>\n",
       "      <td>0.480353</td>\n",
       "      <td>0.000028</td>\n",
       "      <td>False</td>\n",
       "    </tr>\n",
       "    <tr>\n",
       "      <th>28</th>\n",
       "      <td>0.857596</td>\n",
       "      <td>1.096587</td>\n",
       "      <td>dummy_constant</td>\n",
       "      <td>0.857596</td>\n",
       "      <td>0.974720</td>\n",
       "      <td>0.483791</td>\n",
       "      <td>0.000027</td>\n",
       "      <td>False</td>\n",
       "    </tr>\n",
       "    <tr>\n",
       "      <th>29</th>\n",
       "      <td>0.432987</td>\n",
       "      <td>1.191766</td>\n",
       "      <td>dummy_constant</td>\n",
       "      <td>0.432987</td>\n",
       "      <td>0.531777</td>\n",
       "      <td>0.483031</td>\n",
       "      <td>0.000027</td>\n",
       "      <td>False</td>\n",
       "    </tr>\n",
       "    <tr>\n",
       "      <th>30</th>\n",
       "      <td>0.790378</td>\n",
       "      <td>0.667848</td>\n",
       "      <td>dummy_constant</td>\n",
       "      <td>0.790378</td>\n",
       "      <td>0.047967</td>\n",
       "      <td>0.112492</td>\n",
       "      <td>0.000026</td>\n",
       "      <td>False</td>\n",
       "    </tr>\n",
       "    <tr>\n",
       "      <th>31</th>\n",
       "      <td>1.044576</td>\n",
       "      <td>0.065635</td>\n",
       "      <td>dummy_constant</td>\n",
       "      <td>1.044576</td>\n",
       "      <td>0.041755</td>\n",
       "      <td>0.485236</td>\n",
       "      <td>0.000029</td>\n",
       "      <td>False</td>\n",
       "    </tr>\n",
       "  </tbody>\n",
       "</table>\n",
       "</div>"
      ],
      "text/plain": [
       "          x1        x2               a        y1        c1        c2  \\\n",
       "0   1.000000  0.700000  dummy_constant  1.000000  0.584045  0.290000   \n",
       "1   0.750000  0.950000  dummy_constant  0.750000  0.494833  0.265000   \n",
       "2   1.535397  1.735397  dummy_constant       NaN  4.313110  2.598255   \n",
       "3   2.320795  0.950000  dummy_constant       NaN  5.188811  3.517794   \n",
       "4   1.536846  0.164602  dummy_constant       NaN  1.402583  1.187541   \n",
       "5   0.751448  0.000000  dummy_constant       NaN -0.535325  0.313226   \n",
       "6   0.000000  0.709275  dummy_constant       NaN -0.596929  0.293796   \n",
       "7   0.000000  1.458026  dummy_constant       NaN  1.025839  1.167813   \n",
       "8   0.407473  1.043813  dummy_constant  0.407473  0.160922  0.304294   \n",
       "9   1.059850  0.285002  dummy_constant  1.059850  0.253264  0.359656   \n",
       "10  0.802115  0.683300  dummy_constant  0.802115  0.081337  0.124873   \n",
       "11  0.633119  1.144127  dummy_constant  0.633119  0.732934  0.432620   \n",
       "12  0.993674  0.927564  dummy_constant  0.993674  0.762529  0.426525   \n",
       "13  0.212055  1.080089  dummy_constant  0.212055  0.311481  0.419415   \n",
       "14  0.651861  1.168468  dummy_constant  0.651861  0.818639  0.469911   \n",
       "15  1.149363  0.602187  dummy_constant  1.149363  0.670478  0.432115   \n",
       "16  1.078672  0.147882  dummy_constant  1.078672  0.242619  0.458849   \n",
       "17  1.051403  0.084103  dummy_constant  1.051403  0.083576  0.477015   \n",
       "18  1.076402  0.869501  dummy_constant  1.076402  0.927048  0.468770   \n",
       "19  1.185590  0.512715  dummy_constant  1.185590  0.571548  0.470195   \n",
       "20  0.611448  0.864193  dummy_constant  0.611448  0.211699  0.145057   \n",
       "21  0.108347  1.052679  dummy_constant  0.108347  0.126888  0.458846   \n",
       "22  0.884549  1.068529  dummy_constant  0.884549  0.917385  0.471104   \n",
       "23  0.913579  0.497168  dummy_constant  0.913579  0.093780  0.171056   \n",
       "24  0.463555  0.922033  dummy_constant  0.463555  0.026049  0.179440   \n",
       "25  0.074446  1.044800  dummy_constant  0.074446  0.055219  0.477903   \n",
       "26  0.436437  1.183896  dummy_constant  0.436437  0.511414  0.471754   \n",
       "27  1.169302  0.679967  dummy_constant  1.169302  0.883878  0.480353   \n",
       "28  0.857596  1.096587  dummy_constant  0.857596  0.974720  0.483791   \n",
       "29  0.432987  1.191766  dummy_constant  0.432987  0.531777  0.483031   \n",
       "30  0.790378  0.667848  dummy_constant  0.790378  0.047967  0.112492   \n",
       "31  1.044576  0.065635  dummy_constant  1.044576  0.041755  0.485236   \n",
       "\n",
       "    xopt_runtime  xopt_error  \n",
       "0       0.000036       False  \n",
       "1       0.000010       False  \n",
       "2       0.000027       False  \n",
       "3       0.000027       False  \n",
       "4       0.000028       False  \n",
       "5       0.000026       False  \n",
       "6       0.000027       False  \n",
       "7       0.000027       False  \n",
       "8       0.000028       False  \n",
       "9       0.000027       False  \n",
       "10      0.000026       False  \n",
       "11      0.000027       False  \n",
       "12      0.000026       False  \n",
       "13      0.000027       False  \n",
       "14      0.000026       False  \n",
       "15      0.000028       False  \n",
       "16      0.000028       False  \n",
       "17      0.000029       False  \n",
       "18      0.000026       False  \n",
       "19      0.000028       False  \n",
       "20      0.000028       False  \n",
       "21      0.000027       False  \n",
       "22      0.000028       False  \n",
       "23      0.000028       False  \n",
       "24      0.000031       False  \n",
       "25      0.000028       False  \n",
       "26      0.000027       False  \n",
       "27      0.000028       False  \n",
       "28      0.000027       False  \n",
       "29      0.000027       False  \n",
       "30      0.000026       False  \n",
       "31      0.000029       False  "
      ]
     },
     "execution_count": 6,
     "metadata": {},
     "output_type": "execute_result"
    }
   ],
   "source": [
    "# view the data\n",
    "X.data"
   ]
  },
  {
   "cell_type": "code",
   "execution_count": 7,
   "metadata": {
    "ExecuteTime": {
     "end_time": "2023-06-14T15:42:06.400652600Z",
     "start_time": "2023-06-14T15:42:05.787612700Z"
    },
    "execution": {
     "iopub.execute_input": "2024-02-01T04:06:21.776326Z",
     "iopub.status.busy": "2024-02-01T04:06:21.775905Z",
     "iopub.status.idle": "2024-02-01T04:06:22.183685Z",
     "shell.execute_reply": "2024-02-01T04:06:22.183096Z"
    }
   },
   "outputs": [
    {
     "data": {
      "image/png": "[encoded data removed]",
      "text/plain": [
       "<Figure size 640x480 with 1 Axes>"
      ]
     },
     "metadata": {},
     "output_type": "display_data"
    }
   ],
   "source": [
    "# plot results\n",
    "ax = X.data.plot(\"x1\", \"x2\")\n",
    "ax.set_aspect(\"equal\")"
   ]
  },
  {
   "cell_type": "code",
   "execution_count": 7,
   "metadata": {
    "ExecuteTime": {
     "end_time": "2023-06-14T15:42:06.419648600Z",
     "start_time": "2023-06-14T15:42:06.401622Z"
    }
   },
   "outputs": [],
   "source": []
  }
 ],
 "metadata": {
  "kernelspec": {
   "display_name": "Python 3 (ipykernel)",
   "language": "python",
   "name": "python3"
  },
  "language_info": {
   "codemirror_mode": {
    "name": "ipython",
    "version": 3
   },
   "file_extension": ".py",
   "mimetype": "text/x-python",
   "name": "python",
   "nbconvert_exporter": "python",
   "pygments_lexer": "ipython3",
   "version": "3.9.18"
  }
 },
 "nbformat": 4,
 "nbformat_minor": 4
}
