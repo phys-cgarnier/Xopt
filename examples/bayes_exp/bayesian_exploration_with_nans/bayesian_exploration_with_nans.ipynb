{
 "cells": [
  {
   "cell_type": "markdown",
   "metadata": {},
   "source": [
    "# Bayesian Exploration with NaNs\n",
    "\n",
    "As violations of constraints can lead to invalid values of the objective, the evaluate function may simply return NaNs. We demonstrate below how we can still perform Bayesian Exploration in that case."
   ]
  },
  {
   "cell_type": "code",
   "execution_count": 1,
   "metadata": {
    "ExecuteTime": {
     "end_time": "2023-06-14T15:37:25.535638700Z",
     "start_time": "2023-06-14T15:37:22.379218300Z"
    },
    "execution": {
     "iopub.execute_input": "2024-02-01T04:06:12.464548Z",
     "iopub.status.busy": "2024-02-01T04:06:12.464374Z",
     "iopub.status.idle": "2024-02-01T04:06:14.550618Z",
     "shell.execute_reply": "2024-02-01T04:06:14.550009Z"
    }
   },
   "outputs": [],
   "source": [
    "# set values if testing\n",
    "import os\n",
    "SMOKE_TEST = os.environ.get(\"SMOKE_TEST\")\n",
    "NUM_MC_SAMPLES = 1 if SMOKE_TEST else 128\n",
    "NUM_RESTARTS = 1 if SMOKE_TEST else 20\n",
    "\n",
    "# Ignore all warnings\n",
    "import warnings\n",
    "warnings.filterwarnings(\"ignore\")\n",
    "\n",
    "import pandas as pd\n",
    "import torch\n",
    "import yaml\n",
    "from copy import deepcopy\n",
    "from xopt import Xopt, Evaluator\n",
    "from xopt.generators.bayesian import BayesianExplorationGenerator\n",
    "from xopt.resources.test_functions.tnk import evaluate_TNK, tnk_vocs\n",
    "\n",
    "vocs = deepcopy(tnk_vocs)\n",
    "vocs.objectives = {}\n",
    "vocs.observables = [\"y1\"]"
   ]
  },
  {
   "cell_type": "code",
   "execution_count": 2,
   "metadata": {
    "ExecuteTime": {
     "end_time": "2023-06-14T15:37:25.549637200Z",
     "start_time": "2023-06-14T15:37:25.539666500Z"
    },
    "execution": {
     "iopub.execute_input": "2024-02-01T04:06:14.553309Z",
     "iopub.status.busy": "2024-02-01T04:06:14.553052Z",
     "iopub.status.idle": "2024-02-01T04:06:14.557164Z",
     "shell.execute_reply": "2024-02-01T04:06:14.556604Z"
    }
   },
   "outputs": [],
   "source": [
    "# modify the evaluate function to return NaNs if constraints are violated\n",
    "def evaluate(input_dict):\n",
    "    output_dict = evaluate_TNK(input_dict)\n",
    "    del output_dict[\"y2\"]\n",
    "    for c in vocs.constraints.keys():\n",
    "        if vocs.constraints[c][0].upper() == \"GREATER_THAN\" and output_dict[c] <= vocs.constraints[c][1]:\n",
    "            output_dict[\"y1\"] = torch.nan\n",
    "        elif vocs.constraints[c][0].upper() == \"LESS_THAN\" and output_dict[c] >= vocs.constraints[c][1]:\n",
    "            output_dict[\"y1\"] = torch.nan\n",
    "    return output_dict"
   ]
  },
  {
   "cell_type": "code",
   "execution_count": 3,
   "metadata": {
    "ExecuteTime": {
     "end_time": "2023-06-14T15:37:25.580538800Z",
     "start_time": "2023-06-14T15:37:25.552636600Z"
    },
    "execution": {
     "iopub.execute_input": "2024-02-01T04:06:14.559498Z",
     "iopub.status.busy": "2024-02-01T04:06:14.559076Z",
     "iopub.status.idle": "2024-02-01T04:06:14.574688Z",
     "shell.execute_reply": "2024-02-01T04:06:14.574131Z"
    }
   },
   "outputs": [
    {
     "data": {
      "text/plain": [
       "\n",
       "            Xopt\n",
       "________________________________\n",
       "Version: 0+untagged.1.g6cb0704\n",
       "Data size: 0\n",
       "Config as YAML:\n",
       "dump_file: null\n",
       "evaluator:\n",
       "  function: __main__.evaluate\n",
       "  function_kwargs: {}\n",
       "  max_workers: 1\n",
       "  vectorized: false\n",
       "generator:\n",
       "  computation_time: null\n",
       "  fixed_features: null\n",
       "  gp_constructor:\n",
       "    covar_modules: {}\n",
       "    mean_modules: {}\n",
       "    name: standard\n",
       "    trainable_mean_keys: []\n",
       "    transform_inputs: true\n",
       "    use_low_noise_prior: true\n",
       "  log_transform_acquisition_function: false\n",
       "  max_travel_distances:\n",
       "  - 0.25\n",
       "  - 0.25\n",
       "  model: null\n",
       "  n_candidates: 1\n",
       "  n_interpolate_points: null\n",
       "  n_monte_carlo_samples: 128\n",
       "  name: bayesian_exploration\n",
       "  numerical_optimizer:\n",
       "    max_iter: 2000\n",
       "    max_time: null\n",
       "    n_restarts: 20\n",
       "    name: LBFGS\n",
       "  supports_batch_generation: true\n",
       "  turbo_controller: null\n",
       "  use_cuda: false\n",
       "max_evaluations: null\n",
       "serialize_inline: false\n",
       "serialize_torch: false\n",
       "strict: true\n",
       "vocs:\n",
       "  constants:\n",
       "    a: dummy_constant\n",
       "  constraints:\n",
       "    c1:\n",
       "    - GREATER_THAN\n",
       "    - 0.0\n",
       "    c2:\n",
       "    - LESS_THAN\n",
       "    - 0.5\n",
       "  objectives: {}\n",
       "  observables:\n",
       "  - y1\n",
       "  variables:\n",
       "    x1:\n",
       "    - 0.0\n",
       "    - 3.14159\n",
       "    x2:\n",
       "    - 0.0\n",
       "    - 3.14159\n"
      ]
     },
     "execution_count": 3,
     "metadata": {},
     "output_type": "execute_result"
    }
   ],
   "source": [
    "generator = BayesianExplorationGenerator(vocs=vocs)\n",
    "generator.max_travel_distances = [0.25, 0.25]\n",
    "generator.n_monte_carlo_samples = NUM_MC_SAMPLES\n",
    "generator.numerical_optimizer.n_restarts = NUM_RESTARTS\n",
    "\n",
    "evaluator = Evaluator(function=evaluate)\n",
    "X = Xopt(generator=generator, evaluator=evaluator, vocs=vocs)\n",
    "X"
   ]
  },
  {
   "cell_type": "markdown",
   "metadata": {},
   "source": [
    "## Run exploration\n",
    "We start with evaluating 2 points that we know satisfy the constraints. We then run\n",
    "30 exploration steps."
   ]
  },
  {
   "cell_type": "code",
   "execution_count": 4,
   "metadata": {
    "ExecuteTime": {
     "end_time": "2023-06-14T15:37:25.638907100Z",
     "start_time": "2023-06-14T15:37:25.582541Z"
    },
    "execution": {
     "iopub.execute_input": "2024-02-01T04:06:14.603637Z",
     "iopub.status.busy": "2024-02-01T04:06:14.603256Z",
     "iopub.status.idle": "2024-02-01T04:06:14.615431Z",
     "shell.execute_reply": "2024-02-01T04:06:14.614866Z"
    }
   },
   "outputs": [
    {
     "data": {
      "text/html": [
       "<div>\n",
       "<style scoped>\n",
       "    .dataframe tbody tr th:only-of-type {\n",
       "        vertical-align: middle;\n",
       "    }\n",
       "\n",
       "    .dataframe tbody tr th {\n",
       "        vertical-align: top;\n",
       "    }\n",
       "\n",
       "    .dataframe thead th {\n",
       "        text-align: right;\n",
       "    }\n",
       "</style>\n",
       "<table border=\"1\" class=\"dataframe\">\n",
       "  <thead>\n",
       "    <tr style=\"text-align: right;\">\n",
       "      <th></th>\n",
       "      <th>x1</th>\n",
       "      <th>x2</th>\n",
       "      <th>a</th>\n",
       "      <th>y1</th>\n",
       "      <th>c1</th>\n",
       "      <th>c2</th>\n",
       "      <th>xopt_runtime</th>\n",
       "      <th>xopt_error</th>\n",
       "    </tr>\n",
       "  </thead>\n",
       "  <tbody>\n",
       "    <tr>\n",
       "      <th>0</th>\n",
       "      <td>1.00</td>\n",
       "      <td>0.70</td>\n",
       "      <td>dummy_constant</td>\n",
       "      <td>1.00</td>\n",
       "      <td>0.584045</td>\n",
       "      <td>0.290</td>\n",
       "      <td>0.000033</td>\n",
       "      <td>False</td>\n",
       "    </tr>\n",
       "    <tr>\n",
       "      <th>1</th>\n",
       "      <td>0.75</td>\n",
       "      <td>0.95</td>\n",
       "      <td>dummy_constant</td>\n",
       "      <td>0.75</td>\n",
       "      <td>0.494833</td>\n",
       "      <td>0.265</td>\n",
       "      <td>0.000010</td>\n",
       "      <td>False</td>\n",
       "    </tr>\n",
       "  </tbody>\n",
       "</table>\n",
       "</div>"
      ],
      "text/plain": [
       "     x1    x2               a    y1        c1     c2  xopt_runtime  xopt_error\n",
       "0  1.00  0.70  dummy_constant  1.00  0.584045  0.290      0.000033       False\n",
       "1  0.75  0.95  dummy_constant  0.75  0.494833  0.265      0.000010       False"
      ]
     },
     "execution_count": 4,
     "metadata": {},
     "output_type": "execute_result"
    }
   ],
   "source": [
    "X.evaluate_data(pd.DataFrame({\"x1\": [1.0, 0.75], \"x2\": [0.7, 0.95]}))"
   ]
  },
  {
   "cell_type": "code",
   "execution_count": 5,
   "metadata": {
    "ExecuteTime": {
     "end_time": "2023-06-14T15:42:05.755461900Z",
     "start_time": "2023-06-14T15:37:25.611873400Z"
    },
    "execution": {
     "iopub.execute_input": "2024-02-01T04:06:14.617589Z",
     "iopub.status.busy": "2024-02-01T04:06:14.617399Z",
     "iopub.status.idle": "2024-02-01T04:07:36.830457Z",
     "shell.execute_reply": "2024-02-01T04:07:36.829809Z"
    },
    "scrolled": false
   },
   "outputs": [
    {
     "name": "stdout",
     "output_type": "stream",
     "text": [
      "step 0\n"
     ]
    },
    {
     "name": "stdout",
     "output_type": "stream",
     "text": [
      "step 1\n"
     ]
    },
    {
     "name": "stdout",
     "output_type": "stream",
     "text": [
      "step 2\n"
     ]
    },
    {
     "name": "stdout",
     "output_type": "stream",
     "text": [
      "step 3\n"
     ]
    },
    {
     "name": "stdout",
     "output_type": "stream",
     "text": [
      "step 4\n"
     ]
    },
    {
     "name": "stdout",
     "output_type": "stream",
     "text": [
      "step 5\n"
     ]
    },
    {
     "name": "stdout",
     "output_type": "stream",
     "text": [
      "step 6\n"
     ]
    },
    {
     "name": "stdout",
     "output_type": "stream",
     "text": [
      "step 7\n"
     ]
    },
    {
     "name": "stdout",
     "output_type": "stream",
     "text": [
      "step 8\n"
     ]
    },
    {
     "name": "stdout",
     "output_type": "stream",
     "text": [
      "step 9\n"
     ]
    },
    {
     "name": "stdout",
     "output_type": "stream",
     "text": [
      "step 10\n"
     ]
    },
    {
     "name": "stdout",
     "output_type": "stream",
     "text": [
      "step 11\n"
     ]
    },
    {
     "name": "stdout",
     "output_type": "stream",
     "text": [
      "step 12\n"
     ]
    },
    {
     "name": "stdout",
     "output_type": "stream",
     "text": [
      "step 13\n"
     ]
    },
    {
     "name": "stdout",
     "output_type": "stream",
     "text": [
      "step 14\n"
     ]
    },
    {
     "name": "stdout",
     "output_type": "stream",
     "text": [
      "step 15\n"
     ]
    },
    {
     "name": "stdout",
     "output_type": "stream",
     "text": [
      "step 16\n"
     ]
    },
    {
     "name": "stdout",
     "output_type": "stream",
     "text": [
      "step 17\n"
     ]
    },
    {
     "name": "stdout",
     "output_type": "stream",
     "text": [
      "step 18\n"
     ]
    },
    {
     "name": "stdout",
     "output_type": "stream",
     "text": [
      "step 19\n"
     ]
    },
    {
     "name": "stdout",
     "output_type": "stream",
     "text": [
      "step 20\n"
     ]
    },
    {
     "name": "stdout",
     "output_type": "stream",
     "text": [
      "step 21\n"
     ]
    },
    {
     "name": "stdout",
     "output_type": "stream",
     "text": [
      "step 22\n"
     ]
    },
    {
     "name": "stdout",
     "output_type": "stream",
     "text": [
      "step 23\n"
     ]
    },
    {
     "name": "stdout",
     "output_type": "stream",
     "text": [
      "step 24\n"
     ]
    },
    {
     "name": "stdout",
     "output_type": "stream",
     "text": [
      "step 25\n"
     ]
    },
    {
     "name": "stdout",
     "output_type": "stream",
     "text": [
      "step 26\n"
     ]
    },
    {
     "name": "stdout",
     "output_type": "stream",
     "text": [
      "step 27\n"
     ]
    },
    {
     "name": "stdout",
     "output_type": "stream",
     "text": [
      "step 28\n"
     ]
    },
    {
     "name": "stdout",
     "output_type": "stream",
     "text": [
      "step 29\n"
     ]
    }
   ],
   "source": [
    "N_STEPS = 1 if SMOKE_TEST else 30\n",
    "for i in range(N_STEPS):\n",
    "    print(f\"step {i}\")\n",
    "    X.step()"
   ]
  },
  {
   "cell_type": "code",
   "execution_count": 6,
   "metadata": {
    "ExecuteTime": {
     "end_time": "2023-06-14T15:42:05.786611100Z",
     "start_time": "2023-06-14T15:42:05.773463300Z"
    },
    "execution": {
     "iopub.execute_input": "2024-02-01T04:07:36.833468Z",
     "iopub.status.busy": "2024-02-01T04:07:36.833016Z",
     "iopub.status.idle": "2024-02-01T04:07:36.847969Z",
     "shell.execute_reply": "2024-02-01T04:07:36.847371Z"
    }
   },
   "outputs": [
    {
     "data": {
      "text/html": [
       "<div>\n",
       "<style scoped>\n",
       "    .dataframe tbody tr th:only-of-type {\n",
       "        vertical-align: middle;\n",
       "    }\n",
       "\n",
       "    .dataframe tbody tr th {\n",
       "        vertical-align: top;\n",
       "    }\n",
       "\n",
       "    .dataframe thead th {\n",
       "        text-align: right;\n",
       "    }\n",
       "</style>\n",
       "<table border=\"1\" class=\"dataframe\">\n",
       "  <thead>\n",
       "    <tr style=\"text-align: right;\">\n",
       "      <th></th>\n",
       "      <th>x1</th>\n",
       "      <th>x2</th>\n",
       "      <th>a</th>\n",
       "      <th>y1</th>\n",
       "      <th>c1</th>\n",
       "      <th>c2</th>\n",
       "      <th>xopt_runtime</th>\n",
       "      <th>xopt_error</th>\n",
       "    </tr>\n",
       "  </thead>\n",
       "  <tbody>\n",
       "    <tr>\n",
       "      <th>0</th>\n",
       "      <td>1.000000</td>\n",
       "      <td>0.700000</td>\n",
       "      <td>dummy_constant</td>\n",
       "      <td>1.000000</td>\n",
       "      <td>0.584045</td>\n",
       "      <td>0.290000</td>\n",
       "      <td>0.000033</td>\n",
       "      <td>False</td>\n",
       "    </tr>\n",
       "    <tr>\n",
       "      <th>1</th>\n",
       "      <td>0.750000</td>\n",
       "      <td>0.950000</td>\n",
       "      <td>dummy_constant</td>\n",
       "      <td>0.750000</td>\n",
       "      <td>0.494833</td>\n",
       "      <td>0.265000</td>\n",
       "      <td>0.000010</td>\n",
       "      <td>False</td>\n",
       "    </tr>\n",
       "    <tr>\n",
       "      <th>2</th>\n",
       "      <td>1.535397</td>\n",
       "      <td>1.735397</td>\n",
       "      <td>dummy_constant</td>\n",
       "      <td>NaN</td>\n",
       "      <td>4.313110</td>\n",
       "      <td>2.598255</td>\n",
       "      <td>0.000026</td>\n",
       "      <td>False</td>\n",
       "    </tr>\n",
       "    <tr>\n",
       "      <th>3</th>\n",
       "      <td>2.320795</td>\n",
       "      <td>0.950000</td>\n",
       "      <td>dummy_constant</td>\n",
       "      <td>NaN</td>\n",
       "      <td>5.188811</td>\n",
       "      <td>3.517794</td>\n",
       "      <td>0.000028</td>\n",
       "      <td>False</td>\n",
       "    </tr>\n",
       "    <tr>\n",
       "      <th>4</th>\n",
       "      <td>1.544223</td>\n",
       "      <td>0.164602</td>\n",
       "      <td>dummy_constant</td>\n",
       "      <td>NaN</td>\n",
       "      <td>1.424510</td>\n",
       "      <td>1.202893</td>\n",
       "      <td>0.000028</td>\n",
       "      <td>False</td>\n",
       "    </tr>\n",
       "    <tr>\n",
       "      <th>5</th>\n",
       "      <td>0.758825</td>\n",
       "      <td>0.000000</td>\n",
       "      <td>dummy_constant</td>\n",
       "      <td>NaN</td>\n",
       "      <td>-0.524184</td>\n",
       "      <td>0.316991</td>\n",
       "      <td>0.000028</td>\n",
       "      <td>False</td>\n",
       "    </tr>\n",
       "    <tr>\n",
       "      <th>6</th>\n",
       "      <td>0.000000</td>\n",
       "      <td>0.785397</td>\n",
       "      <td>dummy_constant</td>\n",
       "      <td>NaN</td>\n",
       "      <td>-0.483151</td>\n",
       "      <td>0.331452</td>\n",
       "      <td>0.000027</td>\n",
       "      <td>False</td>\n",
       "    </tr>\n",
       "    <tr>\n",
       "      <th>7</th>\n",
       "      <td>0.000000</td>\n",
       "      <td>1.504177</td>\n",
       "      <td>dummy_constant</td>\n",
       "      <td>NaN</td>\n",
       "      <td>1.162548</td>\n",
       "      <td>1.258371</td>\n",
       "      <td>0.000028</td>\n",
       "      <td>False</td>\n",
       "    </tr>\n",
       "    <tr>\n",
       "      <th>8</th>\n",
       "      <td>0.406022</td>\n",
       "      <td>1.054623</td>\n",
       "      <td>dummy_constant</td>\n",
       "      <td>0.406022</td>\n",
       "      <td>0.185101</td>\n",
       "      <td>0.316439</td>\n",
       "      <td>0.000030</td>\n",
       "      <td>False</td>\n",
       "    </tr>\n",
       "    <tr>\n",
       "      <th>9</th>\n",
       "      <td>1.052152</td>\n",
       "      <td>0.321431</td>\n",
       "      <td>dummy_constant</td>\n",
       "      <td>1.052152</td>\n",
       "      <td>0.207191</td>\n",
       "      <td>0.336758</td>\n",
       "      <td>0.000028</td>\n",
       "      <td>False</td>\n",
       "    </tr>\n",
       "    <tr>\n",
       "      <th>10</th>\n",
       "      <td>0.785067</td>\n",
       "      <td>0.714231</td>\n",
       "      <td>dummy_constant</td>\n",
       "      <td>0.785067</td>\n",
       "      <td>0.053654</td>\n",
       "      <td>0.127158</td>\n",
       "      <td>0.000030</td>\n",
       "      <td>False</td>\n",
       "    </tr>\n",
       "    <tr>\n",
       "      <th>11</th>\n",
       "      <td>0.648393</td>\n",
       "      <td>1.143727</td>\n",
       "      <td>dummy_constant</td>\n",
       "      <td>0.648393</td>\n",
       "      <td>0.767261</td>\n",
       "      <td>0.436404</td>\n",
       "      <td>0.000028</td>\n",
       "      <td>False</td>\n",
       "    </tr>\n",
       "    <tr>\n",
       "      <th>12</th>\n",
       "      <td>0.176726</td>\n",
       "      <td>1.073864</td>\n",
       "      <td>dummy_constant</td>\n",
       "      <td>0.176726</td>\n",
       "      <td>0.270603</td>\n",
       "      <td>0.433826</td>\n",
       "      <td>0.000027</td>\n",
       "      <td>False</td>\n",
       "    </tr>\n",
       "    <tr>\n",
       "      <th>13</th>\n",
       "      <td>0.962124</td>\n",
       "      <td>0.966407</td>\n",
       "      <td>dummy_constant</td>\n",
       "      <td>0.962124</td>\n",
       "      <td>0.759687</td>\n",
       "      <td>0.431094</td>\n",
       "      <td>0.000028</td>\n",
       "      <td>False</td>\n",
       "    </tr>\n",
       "    <tr>\n",
       "      <th>14</th>\n",
       "      <td>1.092624</td>\n",
       "      <td>0.181009</td>\n",
       "      <td>dummy_constant</td>\n",
       "      <td>1.092624</td>\n",
       "      <td>0.313631</td>\n",
       "      <td>0.452959</td>\n",
       "      <td>0.000029</td>\n",
       "      <td>False</td>\n",
       "    </tr>\n",
       "    <tr>\n",
       "      <th>15</th>\n",
       "      <td>1.143186</td>\n",
       "      <td>0.654083</td>\n",
       "      <td>dummy_constant</td>\n",
       "      <td>1.143186</td>\n",
       "      <td>0.779197</td>\n",
       "      <td>0.437430</td>\n",
       "      <td>0.000029</td>\n",
       "      <td>False</td>\n",
       "    </tr>\n",
       "    <tr>\n",
       "      <th>16</th>\n",
       "      <td>0.592988</td>\n",
       "      <td>1.180700</td>\n",
       "      <td>dummy_constant</td>\n",
       "      <td>0.592988</td>\n",
       "      <td>0.706097</td>\n",
       "      <td>0.471999</td>\n",
       "      <td>0.000027</td>\n",
       "      <td>False</td>\n",
       "    </tr>\n",
       "    <tr>\n",
       "      <th>17</th>\n",
       "      <td>0.095362</td>\n",
       "      <td>1.051312</td>\n",
       "      <td>dummy_constant</td>\n",
       "      <td>0.095362</td>\n",
       "      <td>0.102040</td>\n",
       "      <td>0.467677</td>\n",
       "      <td>0.000029</td>\n",
       "      <td>False</td>\n",
       "    </tr>\n",
       "    <tr>\n",
       "      <th>18</th>\n",
       "      <td>0.880760</td>\n",
       "      <td>1.070219</td>\n",
       "      <td>dummy_constant</td>\n",
       "      <td>0.880760</td>\n",
       "      <td>0.918918</td>\n",
       "      <td>0.470128</td>\n",
       "      <td>0.000027</td>\n",
       "      <td>False</td>\n",
       "    </tr>\n",
       "    <tr>\n",
       "      <th>19</th>\n",
       "      <td>0.588429</td>\n",
       "      <td>0.896224</td>\n",
       "      <td>dummy_constant</td>\n",
       "      <td>0.588429</td>\n",
       "      <td>0.248634</td>\n",
       "      <td>0.164813</td>\n",
       "      <td>0.000028</td>\n",
       "      <td>False</td>\n",
       "    </tr>\n",
       "    <tr>\n",
       "      <th>20</th>\n",
       "      <td>1.067817</td>\n",
       "      <td>0.110827</td>\n",
       "      <td>dummy_constant</td>\n",
       "      <td>1.067817</td>\n",
       "      <td>0.160895</td>\n",
       "      <td>0.473872</td>\n",
       "      <td>0.000028</td>\n",
       "      <td>False</td>\n",
       "    </tr>\n",
       "    <tr>\n",
       "      <th>21</th>\n",
       "      <td>1.173589</td>\n",
       "      <td>0.630793</td>\n",
       "      <td>dummy_constant</td>\n",
       "      <td>1.173589</td>\n",
       "      <td>0.778912</td>\n",
       "      <td>0.470828</td>\n",
       "      <td>0.000028</td>\n",
       "      <td>False</td>\n",
       "    </tr>\n",
       "    <tr>\n",
       "      <th>22</th>\n",
       "      <td>0.924794</td>\n",
       "      <td>0.493733</td>\n",
       "      <td>dummy_constant</td>\n",
       "      <td>0.924794</td>\n",
       "      <td>0.098235</td>\n",
       "      <td>0.180489</td>\n",
       "      <td>0.000029</td>\n",
       "      <td>False</td>\n",
       "    </tr>\n",
       "    <tr>\n",
       "      <th>23</th>\n",
       "      <td>0.404232</td>\n",
       "      <td>1.180031</td>\n",
       "      <td>dummy_constant</td>\n",
       "      <td>0.404232</td>\n",
       "      <td>0.502071</td>\n",
       "      <td>0.471613</td>\n",
       "      <td>0.000029</td>\n",
       "      <td>False</td>\n",
       "    </tr>\n",
       "    <tr>\n",
       "      <th>24</th>\n",
       "      <td>1.069606</td>\n",
       "      <td>0.886746</td>\n",
       "      <td>dummy_constant</td>\n",
       "      <td>1.069606</td>\n",
       "      <td>0.922423</td>\n",
       "      <td>0.474023</td>\n",
       "      <td>0.000027</td>\n",
       "      <td>False</td>\n",
       "    </tr>\n",
       "    <tr>\n",
       "      <th>25</th>\n",
       "      <td>0.542650</td>\n",
       "      <td>0.890091</td>\n",
       "      <td>dummy_constant</td>\n",
       "      <td>0.542650</td>\n",
       "      <td>0.165426</td>\n",
       "      <td>0.153990</td>\n",
       "      <td>0.000027</td>\n",
       "      <td>False</td>\n",
       "    </tr>\n",
       "    <tr>\n",
       "      <th>26</th>\n",
       "      <td>1.189409</td>\n",
       "      <td>0.462479</td>\n",
       "      <td>dummy_constant</td>\n",
       "      <td>1.189409</td>\n",
       "      <td>0.534633</td>\n",
       "      <td>0.476692</td>\n",
       "      <td>0.000027</td>\n",
       "      <td>False</td>\n",
       "    </tr>\n",
       "    <tr>\n",
       "      <th>27</th>\n",
       "      <td>1.043929</td>\n",
       "      <td>0.067015</td>\n",
       "      <td>dummy_constant</td>\n",
       "      <td>1.043929</td>\n",
       "      <td>0.042429</td>\n",
       "      <td>0.483334</td>\n",
       "      <td>0.000028</td>\n",
       "      <td>False</td>\n",
       "    </tr>\n",
       "    <tr>\n",
       "      <th>28</th>\n",
       "      <td>1.047552</td>\n",
       "      <td>0.067758</td>\n",
       "      <td>dummy_constant</td>\n",
       "      <td>1.047552</td>\n",
       "      <td>0.050773</td>\n",
       "      <td>0.486646</td>\n",
       "      <td>0.000027</td>\n",
       "      <td>False</td>\n",
       "    </tr>\n",
       "    <tr>\n",
       "      <th>29</th>\n",
       "      <td>0.827316</td>\n",
       "      <td>0.623477</td>\n",
       "      <td>dummy_constant</td>\n",
       "      <td>0.827316</td>\n",
       "      <td>0.134694</td>\n",
       "      <td>0.122383</td>\n",
       "      <td>0.000029</td>\n",
       "      <td>False</td>\n",
       "    </tr>\n",
       "    <tr>\n",
       "      <th>30</th>\n",
       "      <td>0.073216</td>\n",
       "      <td>1.046942</td>\n",
       "      <td>dummy_constant</td>\n",
       "      <td>0.073216</td>\n",
       "      <td>0.057619</td>\n",
       "      <td>0.481290</td>\n",
       "      <td>0.000029</td>\n",
       "      <td>False</td>\n",
       "    </tr>\n",
       "    <tr>\n",
       "      <th>31</th>\n",
       "      <td>0.766909</td>\n",
       "      <td>1.142181</td>\n",
       "      <td>dummy_constant</td>\n",
       "      <td>0.766909</td>\n",
       "      <td>0.992662</td>\n",
       "      <td>0.483637</td>\n",
       "      <td>0.000030</td>\n",
       "      <td>False</td>\n",
       "    </tr>\n",
       "  </tbody>\n",
       "</table>\n",
       "</div>"
      ],
      "text/plain": [
       "          x1        x2               a        y1        c1        c2  \\\n",
       "0   1.000000  0.700000  dummy_constant  1.000000  0.584045  0.290000   \n",
       "1   0.750000  0.950000  dummy_constant  0.750000  0.494833  0.265000   \n",
       "2   1.535397  1.735397  dummy_constant       NaN  4.313110  2.598255   \n",
       "3   2.320795  0.950000  dummy_constant       NaN  5.188811  3.517794   \n",
       "4   1.544223  0.164602  dummy_constant       NaN  1.424510  1.202893   \n",
       "5   0.758825  0.000000  dummy_constant       NaN -0.524184  0.316991   \n",
       "6   0.000000  0.785397  dummy_constant       NaN -0.483151  0.331452   \n",
       "7   0.000000  1.504177  dummy_constant       NaN  1.162548  1.258371   \n",
       "8   0.406022  1.054623  dummy_constant  0.406022  0.185101  0.316439   \n",
       "9   1.052152  0.321431  dummy_constant  1.052152  0.207191  0.336758   \n",
       "10  0.785067  0.714231  dummy_constant  0.785067  0.053654  0.127158   \n",
       "11  0.648393  1.143727  dummy_constant  0.648393  0.767261  0.436404   \n",
       "12  0.176726  1.073864  dummy_constant  0.176726  0.270603  0.433826   \n",
       "13  0.962124  0.966407  dummy_constant  0.962124  0.759687  0.431094   \n",
       "14  1.092624  0.181009  dummy_constant  1.092624  0.313631  0.452959   \n",
       "15  1.143186  0.654083  dummy_constant  1.143186  0.779197  0.437430   \n",
       "16  0.592988  1.180700  dummy_constant  0.592988  0.706097  0.471999   \n",
       "17  0.095362  1.051312  dummy_constant  0.095362  0.102040  0.467677   \n",
       "18  0.880760  1.070219  dummy_constant  0.880760  0.918918  0.470128   \n",
       "19  0.588429  0.896224  dummy_constant  0.588429  0.248634  0.164813   \n",
       "20  1.067817  0.110827  dummy_constant  1.067817  0.160895  0.473872   \n",
       "21  1.173589  0.630793  dummy_constant  1.173589  0.778912  0.470828   \n",
       "22  0.924794  0.493733  dummy_constant  0.924794  0.098235  0.180489   \n",
       "23  0.404232  1.180031  dummy_constant  0.404232  0.502071  0.471613   \n",
       "24  1.069606  0.886746  dummy_constant  1.069606  0.922423  0.474023   \n",
       "25  0.542650  0.890091  dummy_constant  0.542650  0.165426  0.153990   \n",
       "26  1.189409  0.462479  dummy_constant  1.189409  0.534633  0.476692   \n",
       "27  1.043929  0.067015  dummy_constant  1.043929  0.042429  0.483334   \n",
       "28  1.047552  0.067758  dummy_constant  1.047552  0.050773  0.486646   \n",
       "29  0.827316  0.623477  dummy_constant  0.827316  0.134694  0.122383   \n",
       "30  0.073216  1.046942  dummy_constant  0.073216  0.057619  0.481290   \n",
       "31  0.766909  1.142181  dummy_constant  0.766909  0.992662  0.483637   \n",
       "\n",
       "    xopt_runtime  xopt_error  \n",
       "0       0.000033       False  \n",
       "1       0.000010       False  \n",
       "2       0.000026       False  \n",
       "3       0.000028       False  \n",
       "4       0.000028       False  \n",
       "5       0.000028       False  \n",
       "6       0.000027       False  \n",
       "7       0.000028       False  \n",
       "8       0.000030       False  \n",
       "9       0.000028       False  \n",
       "10      0.000030       False  \n",
       "11      0.000028       False  \n",
       "12      0.000027       False  \n",
       "13      0.000028       False  \n",
       "14      0.000029       False  \n",
       "15      0.000029       False  \n",
       "16      0.000027       False  \n",
       "17      0.000029       False  \n",
       "18      0.000027       False  \n",
       "19      0.000028       False  \n",
       "20      0.000028       False  \n",
       "21      0.000028       False  \n",
       "22      0.000029       False  \n",
       "23      0.000029       False  \n",
       "24      0.000027       False  \n",
       "25      0.000027       False  \n",
       "26      0.000027       False  \n",
       "27      0.000028       False  \n",
       "28      0.000027       False  \n",
       "29      0.000029       False  \n",
       "30      0.000029       False  \n",
       "31      0.000030       False  "
      ]
     },
     "execution_count": 6,
     "metadata": {},
     "output_type": "execute_result"
    }
   ],
   "source": [
    "# view the data\n",
    "X.data"
   ]
  },
  {
   "cell_type": "code",
   "execution_count": 7,
   "metadata": {
    "ExecuteTime": {
     "end_time": "2023-06-14T15:42:06.400652600Z",
     "start_time": "2023-06-14T15:42:05.787612700Z"
    },
    "execution": {
     "iopub.execute_input": "2024-02-01T04:07:36.850211Z",
     "iopub.status.busy": "2024-02-01T04:07:36.850024Z",
     "iopub.status.idle": "2024-02-01T04:07:37.321886Z",
     "shell.execute_reply": "2024-02-01T04:07:37.321252Z"
    }
   },
   "outputs": [
    {
     "data": {
      "image/png": "[encoded data removed]",
      "text/plain": [
       "<Figure size 640x480 with 1 Axes>"
      ]
     },
     "metadata": {},
     "output_type": "display_data"
    }
   ],
   "source": [
    "# plot results\n",
    "ax = X.data.plot(\"x1\", \"x2\")\n",
    "ax.set_aspect(\"equal\")"
   ]
  },
  {
   "cell_type": "code",
   "execution_count": 7,
   "metadata": {
    "ExecuteTime": {
     "end_time": "2023-06-14T15:42:06.419648600Z",
     "start_time": "2023-06-14T15:42:06.401622Z"
    }
   },
   "outputs": [],
   "source": []
  }
 ],
 "metadata": {
  "kernelspec": {
   "display_name": "Python 3 (ipykernel)",
   "language": "python",
   "name": "python3"
  },
  "language_info": {
   "codemirror_mode": {
    "name": "ipython",
    "version": 3
   },
   "file_extension": ".py",
   "mimetype": "text/x-python",
   "name": "python",
   "nbconvert_exporter": "python",
   "pygments_lexer": "ipython3",
   "version": "3.9.18"
  }
 },
 "nbformat": 4,
 "nbformat_minor": 4
}
