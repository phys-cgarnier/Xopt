{
 "cells": [
  {
   "cell_type": "markdown",
   "metadata": {},
   "source": [
    "# Bayesian Exploration with NaNs\n",
    "\n",
    "As violations of constraints can lead to invalid values of the objective, the evaluate function may simply return NaNs. We demonstrate below how we can still perform Bayesian Exploration in that case."
   ]
  },
  {
   "cell_type": "code",
   "execution_count": 1,
   "metadata": {
    "ExecuteTime": {
     "end_time": "2023-06-14T15:37:25.535638700Z",
     "start_time": "2023-06-14T15:37:22.379218300Z"
    },
    "execution": {
     "iopub.execute_input": "2024-01-29T21:00:23.476589Z",
     "iopub.status.busy": "2024-01-29T21:00:23.476414Z",
     "iopub.status.idle": "2024-01-29T21:00:25.555291Z",
     "shell.execute_reply": "2024-01-29T21:00:25.554680Z"
    }
   },
   "outputs": [],
   "source": [
    "# set values if testing\n",
    "import os\n",
    "SMOKE_TEST = os.environ.get(\"SMOKE_TEST\")\n",
    "NUM_MC_SAMPLES = 1 if SMOKE_TEST else 128\n",
    "NUM_RESTARTS = 1 if SMOKE_TEST else 20\n",
    "\n",
    "# Ignore all warnings\n",
    "import warnings\n",
    "warnings.filterwarnings(\"ignore\")\n",
    "\n",
    "import pandas as pd\n",
    "import torch\n",
    "import yaml\n",
    "from copy import deepcopy\n",
    "from xopt import Xopt, Evaluator\n",
    "from xopt.generators.bayesian import BayesianExplorationGenerator\n",
    "from xopt.resources.test_functions.tnk import evaluate_TNK, tnk_vocs\n",
    "\n",
    "vocs = deepcopy(tnk_vocs)\n",
    "vocs.objectives = {}\n",
    "vocs.observables = [\"y1\"]"
   ]
  },
  {
   "cell_type": "code",
   "execution_count": 2,
   "metadata": {
    "ExecuteTime": {
     "end_time": "2023-06-14T15:37:25.549637200Z",
     "start_time": "2023-06-14T15:37:25.539666500Z"
    },
    "execution": {
     "iopub.execute_input": "2024-01-29T21:00:25.558154Z",
     "iopub.status.busy": "2024-01-29T21:00:25.557671Z",
     "iopub.status.idle": "2024-01-29T21:00:25.561712Z",
     "shell.execute_reply": "2024-01-29T21:00:25.561242Z"
    }
   },
   "outputs": [],
   "source": [
    "# modify the evaluate function to return NaNs if constraints are violated\n",
    "def evaluate(input_dict):\n",
    "    output_dict = evaluate_TNK(input_dict)\n",
    "    del output_dict[\"y2\"]\n",
    "    for c in vocs.constraints.keys():\n",
    "        if vocs.constraints[c][0].upper() == \"GREATER_THAN\" and output_dict[c] <= vocs.constraints[c][1]:\n",
    "            output_dict[\"y1\"] = torch.nan\n",
    "        elif vocs.constraints[c][0].upper() == \"LESS_THAN\" and output_dict[c] >= vocs.constraints[c][1]:\n",
    "            output_dict[\"y1\"] = torch.nan\n",
    "    return output_dict"
   ]
  },
  {
   "cell_type": "code",
   "execution_count": 3,
   "metadata": {
    "ExecuteTime": {
     "end_time": "2023-06-14T15:37:25.580538800Z",
     "start_time": "2023-06-14T15:37:25.552636600Z"
    },
    "execution": {
     "iopub.execute_input": "2024-01-29T21:00:25.563913Z",
     "iopub.status.busy": "2024-01-29T21:00:25.563575Z",
     "iopub.status.idle": "2024-01-29T21:00:25.579620Z",
     "shell.execute_reply": "2024-01-29T21:00:25.579066Z"
    }
   },
   "outputs": [
    {
     "data": {
      "text/plain": [
       "\n",
       "            Xopt\n",
       "________________________________\n",
       "Version: 0+untagged.1.g794a67b\n",
       "Data size: 0\n",
       "Config as YAML:\n",
       "dump_file: null\n",
       "evaluator:\n",
       "  function: __main__.evaluate\n",
       "  function_kwargs: {}\n",
       "  max_workers: 1\n",
       "  vectorized: false\n",
       "generator:\n",
       "  computation_time: null\n",
       "  fixed_features: null\n",
       "  gp_constructor:\n",
       "    covar_modules: {}\n",
       "    mean_modules: {}\n",
       "    name: standard\n",
       "    trainable_mean_keys: []\n",
       "    use_low_noise_prior: true\n",
       "  log_transform_acquisition_function: false\n",
       "  max_travel_distances:\n",
       "  - 0.25\n",
       "  - 0.25\n",
       "  model: null\n",
       "  n_candidates: 1\n",
       "  n_interpolate_points: null\n",
       "  n_monte_carlo_samples: 128\n",
       "  name: bayesian_exploration\n",
       "  numerical_optimizer:\n",
       "    max_iter: 2000\n",
       "    max_time: null\n",
       "    n_restarts: 20\n",
       "    name: LBFGS\n",
       "  supports_batch_generation: true\n",
       "  turbo_controller: null\n",
       "  use_cuda: false\n",
       "max_evaluations: null\n",
       "serialize_inline: false\n",
       "serialize_torch: false\n",
       "strict: true\n",
       "vocs:\n",
       "  constants:\n",
       "    a: dummy_constant\n",
       "  constraints:\n",
       "    c1:\n",
       "    - GREATER_THAN\n",
       "    - 0.0\n",
       "    c2:\n",
       "    - LESS_THAN\n",
       "    - 0.5\n",
       "  objectives: {}\n",
       "  observables:\n",
       "  - y1\n",
       "  variables:\n",
       "    x1:\n",
       "    - 0.0\n",
       "    - 3.14159\n",
       "    x2:\n",
       "    - 0.0\n",
       "    - 3.14159\n"
      ]
     },
     "execution_count": 3,
     "metadata": {},
     "output_type": "execute_result"
    }
   ],
   "source": [
    "generator = BayesianExplorationGenerator(vocs=vocs)\n",
    "generator.max_travel_distances = [0.25, 0.25]\n",
    "generator.n_monte_carlo_samples = NUM_MC_SAMPLES\n",
    "generator.numerical_optimizer.n_restarts = NUM_RESTARTS\n",
    "\n",
    "evaluator = Evaluator(function=evaluate)\n",
    "X = Xopt(generator=generator, evaluator=evaluator, vocs=vocs)\n",
    "X"
   ]
  },
  {
   "cell_type": "markdown",
   "metadata": {},
   "source": [
    "## Run exploration\n",
    "We start with evaluating 2 points that we know satisfy the constraints. We then run\n",
    "30 exploration steps."
   ]
  },
  {
   "cell_type": "code",
   "execution_count": 4,
   "metadata": {
    "ExecuteTime": {
     "end_time": "2023-06-14T15:37:25.638907100Z",
     "start_time": "2023-06-14T15:37:25.582541Z"
    },
    "execution": {
     "iopub.execute_input": "2024-01-29T21:00:25.608173Z",
     "iopub.status.busy": "2024-01-29T21:00:25.607986Z",
     "iopub.status.idle": "2024-01-29T21:00:25.620155Z",
     "shell.execute_reply": "2024-01-29T21:00:25.619670Z"
    }
   },
   "outputs": [
    {
     "data": {
      "text/html": [
       "<div>\n",
       "<style scoped>\n",
       "    .dataframe tbody tr th:only-of-type {\n",
       "        vertical-align: middle;\n",
       "    }\n",
       "\n",
       "    .dataframe tbody tr th {\n",
       "        vertical-align: top;\n",
       "    }\n",
       "\n",
       "    .dataframe thead th {\n",
       "        text-align: right;\n",
       "    }\n",
       "</style>\n",
       "<table border=\"1\" class=\"dataframe\">\n",
       "  <thead>\n",
       "    <tr style=\"text-align: right;\">\n",
       "      <th></th>\n",
       "      <th>x1</th>\n",
       "      <th>x2</th>\n",
       "      <th>a</th>\n",
       "      <th>y1</th>\n",
       "      <th>c1</th>\n",
       "      <th>c2</th>\n",
       "      <th>xopt_runtime</th>\n",
       "      <th>xopt_error</th>\n",
       "    </tr>\n",
       "  </thead>\n",
       "  <tbody>\n",
       "    <tr>\n",
       "      <th>0</th>\n",
       "      <td>1.00</td>\n",
       "      <td>0.70</td>\n",
       "      <td>dummy_constant</td>\n",
       "      <td>1.00</td>\n",
       "      <td>0.584045</td>\n",
       "      <td>0.290</td>\n",
       "      <td>0.000039</td>\n",
       "      <td>False</td>\n",
       "    </tr>\n",
       "    <tr>\n",
       "      <th>1</th>\n",
       "      <td>0.75</td>\n",
       "      <td>0.95</td>\n",
       "      <td>dummy_constant</td>\n",
       "      <td>0.75</td>\n",
       "      <td>0.494833</td>\n",
       "      <td>0.265</td>\n",
       "      <td>0.000010</td>\n",
       "      <td>False</td>\n",
       "    </tr>\n",
       "  </tbody>\n",
       "</table>\n",
       "</div>"
      ],
      "text/plain": [
       "     x1    x2               a    y1        c1     c2  xopt_runtime  xopt_error\n",
       "0  1.00  0.70  dummy_constant  1.00  0.584045  0.290      0.000039       False\n",
       "1  0.75  0.95  dummy_constant  0.75  0.494833  0.265      0.000010       False"
      ]
     },
     "execution_count": 4,
     "metadata": {},
     "output_type": "execute_result"
    }
   ],
   "source": [
    "X.evaluate_data(pd.DataFrame({\"x1\": [1.0, 0.75], \"x2\": [0.7, 0.95]}))"
   ]
  },
  {
   "cell_type": "code",
   "execution_count": 5,
   "metadata": {
    "ExecuteTime": {
     "end_time": "2023-06-14T15:42:05.755461900Z",
     "start_time": "2023-06-14T15:37:25.611873400Z"
    },
    "execution": {
     "iopub.execute_input": "2024-01-29T21:00:25.622125Z",
     "iopub.status.busy": "2024-01-29T21:00:25.621947Z",
     "iopub.status.idle": "2024-01-29T21:01:49.222181Z",
     "shell.execute_reply": "2024-01-29T21:01:49.221521Z"
    },
    "scrolled": false
   },
   "outputs": [
    {
     "name": "stdout",
     "output_type": "stream",
     "text": [
      "step 0\n"
     ]
    },
    {
     "name": "stdout",
     "output_type": "stream",
     "text": [
      "step 1\n"
     ]
    },
    {
     "name": "stdout",
     "output_type": "stream",
     "text": [
      "step 2\n"
     ]
    },
    {
     "name": "stdout",
     "output_type": "stream",
     "text": [
      "step 3\n"
     ]
    },
    {
     "name": "stdout",
     "output_type": "stream",
     "text": [
      "step 4\n"
     ]
    },
    {
     "name": "stdout",
     "output_type": "stream",
     "text": [
      "step 5\n"
     ]
    },
    {
     "name": "stdout",
     "output_type": "stream",
     "text": [
      "step 6\n"
     ]
    },
    {
     "name": "stdout",
     "output_type": "stream",
     "text": [
      "step 7\n"
     ]
    },
    {
     "name": "stdout",
     "output_type": "stream",
     "text": [
      "step 8\n"
     ]
    },
    {
     "name": "stdout",
     "output_type": "stream",
     "text": [
      "step 9\n"
     ]
    },
    {
     "name": "stdout",
     "output_type": "stream",
     "text": [
      "step 10\n"
     ]
    },
    {
     "name": "stdout",
     "output_type": "stream",
     "text": [
      "step 11\n"
     ]
    },
    {
     "name": "stdout",
     "output_type": "stream",
     "text": [
      "step 12\n"
     ]
    },
    {
     "name": "stdout",
     "output_type": "stream",
     "text": [
      "step 13\n"
     ]
    },
    {
     "name": "stdout",
     "output_type": "stream",
     "text": [
      "step 14\n"
     ]
    },
    {
     "name": "stdout",
     "output_type": "stream",
     "text": [
      "step 15\n"
     ]
    },
    {
     "name": "stdout",
     "output_type": "stream",
     "text": [
      "step 16\n"
     ]
    },
    {
     "name": "stdout",
     "output_type": "stream",
     "text": [
      "step 17\n"
     ]
    },
    {
     "name": "stdout",
     "output_type": "stream",
     "text": [
      "step 18\n"
     ]
    },
    {
     "name": "stdout",
     "output_type": "stream",
     "text": [
      "step 19\n"
     ]
    },
    {
     "name": "stdout",
     "output_type": "stream",
     "text": [
      "step 20\n"
     ]
    },
    {
     "name": "stdout",
     "output_type": "stream",
     "text": [
      "step 21\n"
     ]
    },
    {
     "name": "stdout",
     "output_type": "stream",
     "text": [
      "step 22\n"
     ]
    },
    {
     "name": "stdout",
     "output_type": "stream",
     "text": [
      "step 23\n"
     ]
    },
    {
     "name": "stdout",
     "output_type": "stream",
     "text": [
      "step 24\n"
     ]
    },
    {
     "name": "stdout",
     "output_type": "stream",
     "text": [
      "step 25\n"
     ]
    },
    {
     "name": "stdout",
     "output_type": "stream",
     "text": [
      "step 26\n"
     ]
    },
    {
     "name": "stdout",
     "output_type": "stream",
     "text": [
      "step 27\n"
     ]
    },
    {
     "name": "stdout",
     "output_type": "stream",
     "text": [
      "step 28\n"
     ]
    },
    {
     "name": "stdout",
     "output_type": "stream",
     "text": [
      "step 29\n"
     ]
    }
   ],
   "source": [
    "N_STEPS = 1 if SMOKE_TEST else 30\n",
    "for i in range(N_STEPS):\n",
    "    print(f\"step {i}\")\n",
    "    X.step()"
   ]
  },
  {
   "cell_type": "code",
   "execution_count": 6,
   "metadata": {
    "ExecuteTime": {
     "end_time": "2023-06-14T15:42:05.786611100Z",
     "start_time": "2023-06-14T15:42:05.773463300Z"
    },
    "execution": {
     "iopub.execute_input": "2024-01-29T21:01:49.225255Z",
     "iopub.status.busy": "2024-01-29T21:01:49.224831Z",
     "iopub.status.idle": "2024-01-29T21:01:49.237274Z",
     "shell.execute_reply": "2024-01-29T21:01:49.236576Z"
    }
   },
   "outputs": [
    {
     "data": {
      "text/html": [
       "<div>\n",
       "<style scoped>\n",
       "    .dataframe tbody tr th:only-of-type {\n",
       "        vertical-align: middle;\n",
       "    }\n",
       "\n",
       "    .dataframe tbody tr th {\n",
       "        vertical-align: top;\n",
       "    }\n",
       "\n",
       "    .dataframe thead th {\n",
       "        text-align: right;\n",
       "    }\n",
       "</style>\n",
       "<table border=\"1\" class=\"dataframe\">\n",
       "  <thead>\n",
       "    <tr style=\"text-align: right;\">\n",
       "      <th></th>\n",
       "      <th>x1</th>\n",
       "      <th>x2</th>\n",
       "      <th>a</th>\n",
       "      <th>y1</th>\n",
       "      <th>c1</th>\n",
       "      <th>c2</th>\n",
       "      <th>xopt_runtime</th>\n",
       "      <th>xopt_error</th>\n",
       "    </tr>\n",
       "  </thead>\n",
       "  <tbody>\n",
       "    <tr>\n",
       "      <th>0</th>\n",
       "      <td>1.000000</td>\n",
       "      <td>0.700000</td>\n",
       "      <td>dummy_constant</td>\n",
       "      <td>1.000000</td>\n",
       "      <td>0.584045</td>\n",
       "      <td>0.290000</td>\n",
       "      <td>0.000039</td>\n",
       "      <td>False</td>\n",
       "    </tr>\n",
       "    <tr>\n",
       "      <th>1</th>\n",
       "      <td>0.750000</td>\n",
       "      <td>0.950000</td>\n",
       "      <td>dummy_constant</td>\n",
       "      <td>0.750000</td>\n",
       "      <td>0.494833</td>\n",
       "      <td>0.265000</td>\n",
       "      <td>0.000010</td>\n",
       "      <td>False</td>\n",
       "    </tr>\n",
       "    <tr>\n",
       "      <th>2</th>\n",
       "      <td>1.535397</td>\n",
       "      <td>1.735397</td>\n",
       "      <td>dummy_constant</td>\n",
       "      <td>NaN</td>\n",
       "      <td>4.313110</td>\n",
       "      <td>2.598255</td>\n",
       "      <td>0.000026</td>\n",
       "      <td>False</td>\n",
       "    </tr>\n",
       "    <tr>\n",
       "      <th>3</th>\n",
       "      <td>2.320795</td>\n",
       "      <td>0.950000</td>\n",
       "      <td>dummy_constant</td>\n",
       "      <td>NaN</td>\n",
       "      <td>5.188811</td>\n",
       "      <td>3.517794</td>\n",
       "      <td>0.000027</td>\n",
       "      <td>False</td>\n",
       "    </tr>\n",
       "    <tr>\n",
       "      <th>4</th>\n",
       "      <td>1.772149</td>\n",
       "      <td>0.164602</td>\n",
       "      <td>dummy_constant</td>\n",
       "      <td>NaN</td>\n",
       "      <td>2.158726</td>\n",
       "      <td>1.730855</td>\n",
       "      <td>0.000029</td>\n",
       "      <td>False</td>\n",
       "    </tr>\n",
       "    <tr>\n",
       "      <th>5</th>\n",
       "      <td>0.986752</td>\n",
       "      <td>0.004277</td>\n",
       "      <td>dummy_constant</td>\n",
       "      <td>NaN</td>\n",
       "      <td>-0.126063</td>\n",
       "      <td>0.482668</td>\n",
       "      <td>0.000029</td>\n",
       "      <td>False</td>\n",
       "    </tr>\n",
       "    <tr>\n",
       "      <th>6</th>\n",
       "      <td>0.201354</td>\n",
       "      <td>0.779663</td>\n",
       "      <td>dummy_constant</td>\n",
       "      <td>NaN</td>\n",
       "      <td>-0.289592</td>\n",
       "      <td>0.167401</td>\n",
       "      <td>0.000026</td>\n",
       "      <td>False</td>\n",
       "    </tr>\n",
       "    <tr>\n",
       "      <th>7</th>\n",
       "      <td>0.000000</td>\n",
       "      <td>1.545907</td>\n",
       "      <td>dummy_constant</td>\n",
       "      <td>NaN</td>\n",
       "      <td>1.289828</td>\n",
       "      <td>1.343921</td>\n",
       "      <td>0.000028</td>\n",
       "      <td>False</td>\n",
       "    </tr>\n",
       "    <tr>\n",
       "      <th>8</th>\n",
       "      <td>0.387066</td>\n",
       "      <td>1.048273</td>\n",
       "      <td>dummy_constant</td>\n",
       "      <td>0.387066</td>\n",
       "      <td>0.167529</td>\n",
       "      <td>0.313357</td>\n",
       "      <td>0.000027</td>\n",
       "      <td>False</td>\n",
       "    </tr>\n",
       "    <tr>\n",
       "      <th>9</th>\n",
       "      <td>1.061779</td>\n",
       "      <td>0.334728</td>\n",
       "      <td>dummy_constant</td>\n",
       "      <td>1.061779</td>\n",
       "      <td>0.222120</td>\n",
       "      <td>0.342910</td>\n",
       "      <td>0.000027</td>\n",
       "      <td>False</td>\n",
       "    </tr>\n",
       "    <tr>\n",
       "      <th>10</th>\n",
       "      <td>0.809866</td>\n",
       "      <td>0.673727</td>\n",
       "      <td>dummy_constant</td>\n",
       "      <td>0.809866</td>\n",
       "      <td>0.099143</td>\n",
       "      <td>0.126198</td>\n",
       "      <td>0.000027</td>\n",
       "      <td>False</td>\n",
       "    </tr>\n",
       "    <tr>\n",
       "      <th>11</th>\n",
       "      <td>0.083918</td>\n",
       "      <td>0.998958</td>\n",
       "      <td>dummy_constant</td>\n",
       "      <td>NaN</td>\n",
       "      <td>-0.017823</td>\n",
       "      <td>0.422084</td>\n",
       "      <td>0.000028</td>\n",
       "      <td>False</td>\n",
       "    </tr>\n",
       "    <tr>\n",
       "      <th>12</th>\n",
       "      <td>0.652377</td>\n",
       "      <td>1.141131</td>\n",
       "      <td>dummy_constant</td>\n",
       "      <td>0.652377</td>\n",
       "      <td>0.771772</td>\n",
       "      <td>0.434268</td>\n",
       "      <td>0.000027</td>\n",
       "      <td>False</td>\n",
       "    </tr>\n",
       "    <tr>\n",
       "      <th>13</th>\n",
       "      <td>0.993303</td>\n",
       "      <td>0.934750</td>\n",
       "      <td>dummy_constant</td>\n",
       "      <td>0.993303</td>\n",
       "      <td>0.771977</td>\n",
       "      <td>0.432356</td>\n",
       "      <td>0.000026</td>\n",
       "      <td>False</td>\n",
       "    </tr>\n",
       "    <tr>\n",
       "      <th>14</th>\n",
       "      <td>1.162107</td>\n",
       "      <td>0.558597</td>\n",
       "      <td>dummy_constant</td>\n",
       "      <td>1.162107</td>\n",
       "      <td>0.599267</td>\n",
       "      <td>0.441819</td>\n",
       "      <td>0.000027</td>\n",
       "      <td>False</td>\n",
       "    </tr>\n",
       "    <tr>\n",
       "      <th>15</th>\n",
       "      <td>0.393672</td>\n",
       "      <td>1.168209</td>\n",
       "      <td>dummy_constant</td>\n",
       "      <td>0.393672</td>\n",
       "      <td>0.472788</td>\n",
       "      <td>0.457809</td>\n",
       "      <td>0.000027</td>\n",
       "      <td>False</td>\n",
       "    </tr>\n",
       "    <tr>\n",
       "      <th>16</th>\n",
       "      <td>1.104098</td>\n",
       "      <td>0.819765</td>\n",
       "      <td>dummy_constant</td>\n",
       "      <td>1.104098</td>\n",
       "      <td>0.961153</td>\n",
       "      <td>0.467184</td>\n",
       "      <td>0.000026</td>\n",
       "      <td>False</td>\n",
       "    </tr>\n",
       "    <tr>\n",
       "      <th>17</th>\n",
       "      <td>1.129435</td>\n",
       "      <td>0.248238</td>\n",
       "      <td>dummy_constant</td>\n",
       "      <td>1.129435</td>\n",
       "      <td>0.432169</td>\n",
       "      <td>0.459573</td>\n",
       "      <td>0.000026</td>\n",
       "      <td>False</td>\n",
       "    </tr>\n",
       "    <tr>\n",
       "      <th>18</th>\n",
       "      <td>0.925382</td>\n",
       "      <td>1.033635</td>\n",
       "      <td>dummy_constant</td>\n",
       "      <td>0.925382</td>\n",
       "      <td>0.861268</td>\n",
       "      <td>0.465716</td>\n",
       "      <td>0.000027</td>\n",
       "      <td>False</td>\n",
       "    </tr>\n",
       "    <tr>\n",
       "      <th>19</th>\n",
       "      <td>0.139984</td>\n",
       "      <td>1.083129</td>\n",
       "      <td>dummy_constant</td>\n",
       "      <td>0.139984</td>\n",
       "      <td>0.239442</td>\n",
       "      <td>0.469651</td>\n",
       "      <td>0.000028</td>\n",
       "      <td>False</td>\n",
       "    </tr>\n",
       "    <tr>\n",
       "      <th>20</th>\n",
       "      <td>0.631764</td>\n",
       "      <td>1.176787</td>\n",
       "      <td>dummy_constant</td>\n",
       "      <td>0.631764</td>\n",
       "      <td>0.786867</td>\n",
       "      <td>0.475403</td>\n",
       "      <td>0.000028</td>\n",
       "      <td>False</td>\n",
       "    </tr>\n",
       "    <tr>\n",
       "      <th>21</th>\n",
       "      <td>1.186439</td>\n",
       "      <td>0.566190</td>\n",
       "      <td>dummy_constant</td>\n",
       "      <td>1.186439</td>\n",
       "      <td>0.661531</td>\n",
       "      <td>0.475580</td>\n",
       "      <td>0.000028</td>\n",
       "      <td>False</td>\n",
       "    </tr>\n",
       "    <tr>\n",
       "      <th>22</th>\n",
       "      <td>0.656245</td>\n",
       "      <td>0.821309</td>\n",
       "      <td>dummy_constant</td>\n",
       "      <td>0.656245</td>\n",
       "      <td>0.125979</td>\n",
       "      <td>0.127652</td>\n",
       "      <td>0.000027</td>\n",
       "      <td>False</td>\n",
       "    </tr>\n",
       "    <tr>\n",
       "      <th>23</th>\n",
       "      <td>0.057414</td>\n",
       "      <td>1.032549</td>\n",
       "      <td>dummy_constant</td>\n",
       "      <td>0.057414</td>\n",
       "      <td>0.006416</td>\n",
       "      <td>0.479490</td>\n",
       "      <td>0.000027</td>\n",
       "      <td>False</td>\n",
       "    </tr>\n",
       "    <tr>\n",
       "      <th>24</th>\n",
       "      <td>0.842812</td>\n",
       "      <td>0.602615</td>\n",
       "      <td>dummy_constant</td>\n",
       "      <td>0.842812</td>\n",
       "      <td>0.160906</td>\n",
       "      <td>0.128050</td>\n",
       "      <td>0.000026</td>\n",
       "      <td>False</td>\n",
       "    </tr>\n",
       "    <tr>\n",
       "      <th>25</th>\n",
       "      <td>1.062831</td>\n",
       "      <td>0.098998</td>\n",
       "      <td>dummy_constant</td>\n",
       "      <td>1.062831</td>\n",
       "      <td>0.130944</td>\n",
       "      <td>0.477581</td>\n",
       "      <td>0.000027</td>\n",
       "      <td>False</td>\n",
       "    </tr>\n",
       "    <tr>\n",
       "      <th>26</th>\n",
       "      <td>0.940286</td>\n",
       "      <td>0.408052</td>\n",
       "      <td>dummy_constant</td>\n",
       "      <td>NaN</td>\n",
       "      <td>-0.045790</td>\n",
       "      <td>0.202306</td>\n",
       "      <td>0.000027</td>\n",
       "      <td>False</td>\n",
       "    </tr>\n",
       "    <tr>\n",
       "      <th>27</th>\n",
       "      <td>0.813503</td>\n",
       "      <td>1.118917</td>\n",
       "      <td>dummy_constant</td>\n",
       "      <td>0.813503</td>\n",
       "      <td>0.994355</td>\n",
       "      <td>0.481343</td>\n",
       "      <td>0.000026</td>\n",
       "      <td>False</td>\n",
       "    </tr>\n",
       "    <tr>\n",
       "      <th>28</th>\n",
       "      <td>0.521673</td>\n",
       "      <td>0.899882</td>\n",
       "      <td>dummy_constant</td>\n",
       "      <td>0.521673</td>\n",
       "      <td>0.134363</td>\n",
       "      <td>0.160375</td>\n",
       "      <td>0.000029</td>\n",
       "      <td>False</td>\n",
       "    </tr>\n",
       "    <tr>\n",
       "      <th>29</th>\n",
       "      <td>0.368143</td>\n",
       "      <td>1.179441</td>\n",
       "      <td>dummy_constant</td>\n",
       "      <td>0.368143</td>\n",
       "      <td>0.513802</td>\n",
       "      <td>0.479026</td>\n",
       "      <td>0.000027</td>\n",
       "      <td>False</td>\n",
       "    </tr>\n",
       "    <tr>\n",
       "      <th>30</th>\n",
       "      <td>1.131733</td>\n",
       "      <td>0.786723</td>\n",
       "      <td>dummy_constant</td>\n",
       "      <td>1.131733</td>\n",
       "      <td>0.995444</td>\n",
       "      <td>0.481297</td>\n",
       "      <td>0.000026</td>\n",
       "      <td>False</td>\n",
       "    </tr>\n",
       "    <tr>\n",
       "      <th>31</th>\n",
       "      <td>1.173640</td>\n",
       "      <td>0.329981</td>\n",
       "      <td>dummy_constant</td>\n",
       "      <td>1.173640</td>\n",
       "      <td>0.518443</td>\n",
       "      <td>0.482698</td>\n",
       "      <td>0.000032</td>\n",
       "      <td>False</td>\n",
       "    </tr>\n",
       "  </tbody>\n",
       "</table>\n",
       "</div>"
      ],
      "text/plain": [
       "          x1        x2               a        y1        c1        c2  \\\n",
       "0   1.000000  0.700000  dummy_constant  1.000000  0.584045  0.290000   \n",
       "1   0.750000  0.950000  dummy_constant  0.750000  0.494833  0.265000   \n",
       "2   1.535397  1.735397  dummy_constant       NaN  4.313110  2.598255   \n",
       "3   2.320795  0.950000  dummy_constant       NaN  5.188811  3.517794   \n",
       "4   1.772149  0.164602  dummy_constant       NaN  2.158726  1.730855   \n",
       "5   0.986752  0.004277  dummy_constant       NaN -0.126063  0.482668   \n",
       "6   0.201354  0.779663  dummy_constant       NaN -0.289592  0.167401   \n",
       "7   0.000000  1.545907  dummy_constant       NaN  1.289828  1.343921   \n",
       "8   0.387066  1.048273  dummy_constant  0.387066  0.167529  0.313357   \n",
       "9   1.061779  0.334728  dummy_constant  1.061779  0.222120  0.342910   \n",
       "10  0.809866  0.673727  dummy_constant  0.809866  0.099143  0.126198   \n",
       "11  0.083918  0.998958  dummy_constant       NaN -0.017823  0.422084   \n",
       "12  0.652377  1.141131  dummy_constant  0.652377  0.771772  0.434268   \n",
       "13  0.993303  0.934750  dummy_constant  0.993303  0.771977  0.432356   \n",
       "14  1.162107  0.558597  dummy_constant  1.162107  0.599267  0.441819   \n",
       "15  0.393672  1.168209  dummy_constant  0.393672  0.472788  0.457809   \n",
       "16  1.104098  0.819765  dummy_constant  1.104098  0.961153  0.467184   \n",
       "17  1.129435  0.248238  dummy_constant  1.129435  0.432169  0.459573   \n",
       "18  0.925382  1.033635  dummy_constant  0.925382  0.861268  0.465716   \n",
       "19  0.139984  1.083129  dummy_constant  0.139984  0.239442  0.469651   \n",
       "20  0.631764  1.176787  dummy_constant  0.631764  0.786867  0.475403   \n",
       "21  1.186439  0.566190  dummy_constant  1.186439  0.661531  0.475580   \n",
       "22  0.656245  0.821309  dummy_constant  0.656245  0.125979  0.127652   \n",
       "23  0.057414  1.032549  dummy_constant  0.057414  0.006416  0.479490   \n",
       "24  0.842812  0.602615  dummy_constant  0.842812  0.160906  0.128050   \n",
       "25  1.062831  0.098998  dummy_constant  1.062831  0.130944  0.477581   \n",
       "26  0.940286  0.408052  dummy_constant       NaN -0.045790  0.202306   \n",
       "27  0.813503  1.118917  dummy_constant  0.813503  0.994355  0.481343   \n",
       "28  0.521673  0.899882  dummy_constant  0.521673  0.134363  0.160375   \n",
       "29  0.368143  1.179441  dummy_constant  0.368143  0.513802  0.479026   \n",
       "30  1.131733  0.786723  dummy_constant  1.131733  0.995444  0.481297   \n",
       "31  1.173640  0.329981  dummy_constant  1.173640  0.518443  0.482698   \n",
       "\n",
       "    xopt_runtime  xopt_error  \n",
       "0       0.000039       False  \n",
       "1       0.000010       False  \n",
       "2       0.000026       False  \n",
       "3       0.000027       False  \n",
       "4       0.000029       False  \n",
       "5       0.000029       False  \n",
       "6       0.000026       False  \n",
       "7       0.000028       False  \n",
       "8       0.000027       False  \n",
       "9       0.000027       False  \n",
       "10      0.000027       False  \n",
       "11      0.000028       False  \n",
       "12      0.000027       False  \n",
       "13      0.000026       False  \n",
       "14      0.000027       False  \n",
       "15      0.000027       False  \n",
       "16      0.000026       False  \n",
       "17      0.000026       False  \n",
       "18      0.000027       False  \n",
       "19      0.000028       False  \n",
       "20      0.000028       False  \n",
       "21      0.000028       False  \n",
       "22      0.000027       False  \n",
       "23      0.000027       False  \n",
       "24      0.000026       False  \n",
       "25      0.000027       False  \n",
       "26      0.000027       False  \n",
       "27      0.000026       False  \n",
       "28      0.000029       False  \n",
       "29      0.000027       False  \n",
       "30      0.000026       False  \n",
       "31      0.000032       False  "
      ]
     },
     "execution_count": 6,
     "metadata": {},
     "output_type": "execute_result"
    }
   ],
   "source": [
    "# view the data\n",
    "X.data"
   ]
  },
  {
   "cell_type": "code",
   "execution_count": 7,
   "metadata": {
    "ExecuteTime": {
     "end_time": "2023-06-14T15:42:06.400652600Z",
     "start_time": "2023-06-14T15:42:05.787612700Z"
    },
    "execution": {
     "iopub.execute_input": "2024-01-29T21:01:49.240041Z",
     "iopub.status.busy": "2024-01-29T21:01:49.239409Z",
     "iopub.status.idle": "2024-01-29T21:01:49.723331Z",
     "shell.execute_reply": "2024-01-29T21:01:49.722691Z"
    }
   },
   "outputs": [
    {
     "data": {
      "image/png": "[encoded data removed]",
      "text/plain": [
       "<Figure size 640x480 with 1 Axes>"
      ]
     },
     "metadata": {},
     "output_type": "display_data"
    }
   ],
   "source": [
    "# plot results\n",
    "ax = X.data.plot(\"x1\", \"x2\")\n",
    "ax.set_aspect(\"equal\")"
   ]
  },
  {
   "cell_type": "code",
   "execution_count": 7,
   "metadata": {
    "ExecuteTime": {
     "end_time": "2023-06-14T15:42:06.419648600Z",
     "start_time": "2023-06-14T15:42:06.401622Z"
    }
   },
   "outputs": [],
   "source": []
  }
 ],
 "metadata": {
  "kernelspec": {
   "display_name": "Python 3 (ipykernel)",
   "language": "python",
   "name": "python3"
  },
  "language_info": {
   "codemirror_mode": {
    "name": "ipython",
    "version": 3
   },
   "file_extension": ".py",
   "mimetype": "text/x-python",
   "name": "python",
   "nbconvert_exporter": "python",
   "pygments_lexer": "ipython3",
   "version": "3.9.18"
  }
 },
 "nbformat": 4,
 "nbformat_minor": 4
}
