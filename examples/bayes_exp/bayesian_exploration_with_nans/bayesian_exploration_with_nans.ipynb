{
 "cells": [
  {
   "cell_type": "markdown",
   "metadata": {},
   "source": [
    "# Bayesian Exploration with NaNs\n",
    "\n",
    "As violations of constraints can lead to invalid values of the objective, the evaluate function may simply return NaNs. We demonstrate below how we can still perform Bayesian Exploration in that case."
   ]
  },
  {
   "cell_type": "code",
   "execution_count": 1,
   "metadata": {
    "ExecuteTime": {
     "end_time": "2023-06-14T15:37:25.535638700Z",
     "start_time": "2023-06-14T15:37:22.379218300Z"
    },
    "execution": {
     "iopub.execute_input": "2024-08-08T16:25:24.319090Z",
     "iopub.status.busy": "2024-08-08T16:25:24.318664Z",
     "iopub.status.idle": "2024-08-08T16:25:26.327546Z",
     "shell.execute_reply": "2024-08-08T16:25:26.326851Z"
    }
   },
   "outputs": [],
   "source": [
    "# set values if testing\n",
    "import os\n",
    "SMOKE_TEST = os.environ.get(\"SMOKE_TEST\")\n",
    "NUM_MC_SAMPLES = 1 if SMOKE_TEST else 128\n",
    "NUM_RESTARTS = 1 if SMOKE_TEST else 20\n",
    "\n",
    "# Ignore all warnings\n",
    "import warnings\n",
    "warnings.filterwarnings(\"ignore\")\n",
    "\n",
    "import pandas as pd\n",
    "import torch\n",
    "import yaml\n",
    "from copy import deepcopy\n",
    "from xopt import Xopt, Evaluator\n",
    "from xopt.generators.bayesian import BayesianExplorationGenerator\n",
    "from xopt.resources.test_functions.tnk import evaluate_TNK, tnk_vocs\n",
    "\n",
    "vocs = deepcopy(tnk_vocs)\n",
    "vocs.objectives = {}\n",
    "vocs.observables = [\"y1\"]"
   ]
  },
  {
   "cell_type": "code",
   "execution_count": 2,
   "metadata": {
    "ExecuteTime": {
     "end_time": "2023-06-14T15:37:25.549637200Z",
     "start_time": "2023-06-14T15:37:25.539666500Z"
    },
    "execution": {
     "iopub.execute_input": "2024-08-08T16:25:26.330851Z",
     "iopub.status.busy": "2024-08-08T16:25:26.330352Z",
     "iopub.status.idle": "2024-08-08T16:25:26.334505Z",
     "shell.execute_reply": "2024-08-08T16:25:26.333920Z"
    }
   },
   "outputs": [],
   "source": [
    "# modify the evaluate function to return NaNs if constraints are violated\n",
    "def evaluate(input_dict):\n",
    "    output_dict = evaluate_TNK(input_dict)\n",
    "    del output_dict[\"y2\"]\n",
    "    for c in vocs.constraints.keys():\n",
    "        if vocs.constraints[c][0].upper() == \"GREATER_THAN\" and output_dict[c] <= vocs.constraints[c][1]:\n",
    "            output_dict[\"y1\"] = torch.nan\n",
    "        elif vocs.constraints[c][0].upper() == \"LESS_THAN\" and output_dict[c] >= vocs.constraints[c][1]:\n",
    "            output_dict[\"y1\"] = torch.nan\n",
    "    return output_dict"
   ]
  },
  {
   "cell_type": "code",
   "execution_count": 3,
   "metadata": {
    "ExecuteTime": {
     "end_time": "2023-06-14T15:37:25.580538800Z",
     "start_time": "2023-06-14T15:37:25.552636600Z"
    },
    "execution": {
     "iopub.execute_input": "2024-08-08T16:25:26.336496Z",
     "iopub.status.busy": "2024-08-08T16:25:26.336325Z",
     "iopub.status.idle": "2024-08-08T16:25:26.353157Z",
     "shell.execute_reply": "2024-08-08T16:25:26.352571Z"
    }
   },
   "outputs": [
    {
     "data": {
      "text/plain": [
       "\n",
       "            Xopt\n",
       "________________________________\n",
       "Version: 0+untagged.1.g9e8cf43\n",
       "Data size: 0\n",
       "Config as YAML:\n",
       "dump_file: null\n",
       "evaluator:\n",
       "  function: __main__.evaluate\n",
       "  function_kwargs: {}\n",
       "  max_workers: 1\n",
       "  vectorized: false\n",
       "generator:\n",
       "  computation_time: null\n",
       "  custom_objective: null\n",
       "  fixed_features: null\n",
       "  gp_constructor:\n",
       "    covar_modules: {}\n",
       "    custom_noise_prior: null\n",
       "    mean_modules: {}\n",
       "    name: standard\n",
       "    trainable_mean_keys: []\n",
       "    transform_inputs: true\n",
       "    use_low_noise_prior: true\n",
       "  log_transform_acquisition_function: false\n",
       "  max_travel_distances:\n",
       "  - 0.25\n",
       "  - 0.25\n",
       "  model: null\n",
       "  n_candidates: 1\n",
       "  n_interpolate_points: null\n",
       "  n_monte_carlo_samples: 128\n",
       "  name: bayesian_exploration\n",
       "  numerical_optimizer:\n",
       "    max_iter: 2000\n",
       "    max_time: null\n",
       "    n_restarts: 20\n",
       "    name: LBFGS\n",
       "  supports_batch_generation: true\n",
       "  turbo_controller: null\n",
       "  use_cuda: false\n",
       "max_evaluations: null\n",
       "serialize_inline: false\n",
       "serialize_torch: false\n",
       "strict: true\n",
       "vocs:\n",
       "  constants:\n",
       "    a: dummy_constant\n",
       "  constraints:\n",
       "    c1:\n",
       "    - GREATER_THAN\n",
       "    - 0.0\n",
       "    c2:\n",
       "    - LESS_THAN\n",
       "    - 0.5\n",
       "  objectives: {}\n",
       "  observables:\n",
       "  - y1\n",
       "  variables:\n",
       "    x1:\n",
       "    - 0.0\n",
       "    - 3.14159\n",
       "    x2:\n",
       "    - 0.0\n",
       "    - 3.14159\n"
      ]
     },
     "execution_count": 3,
     "metadata": {},
     "output_type": "execute_result"
    }
   ],
   "source": [
    "generator = BayesianExplorationGenerator(vocs=vocs)\n",
    "generator.max_travel_distances = [0.25, 0.25]\n",
    "generator.n_monte_carlo_samples = NUM_MC_SAMPLES\n",
    "generator.numerical_optimizer.n_restarts = NUM_RESTARTS\n",
    "\n",
    "evaluator = Evaluator(function=evaluate)\n",
    "X = Xopt(generator=generator, evaluator=evaluator, vocs=vocs)\n",
    "X"
   ]
  },
  {
   "cell_type": "markdown",
   "metadata": {},
   "source": [
    "## Run exploration\n",
    "We start with evaluating 2 points that we know satisfy the constraints. We then run\n",
    "30 exploration steps."
   ]
  },
  {
   "cell_type": "code",
   "execution_count": 4,
   "metadata": {
    "ExecuteTime": {
     "end_time": "2023-06-14T15:37:25.638907100Z",
     "start_time": "2023-06-14T15:37:25.582541Z"
    },
    "execution": {
     "iopub.execute_input": "2024-08-08T16:25:26.382556Z",
     "iopub.status.busy": "2024-08-08T16:25:26.382329Z",
     "iopub.status.idle": "2024-08-08T16:25:26.395284Z",
     "shell.execute_reply": "2024-08-08T16:25:26.394788Z"
    }
   },
   "outputs": [
    {
     "data": {
      "text/html": [
       "<div>\n",
       "<style scoped>\n",
       "    .dataframe tbody tr th:only-of-type {\n",
       "        vertical-align: middle;\n",
       "    }\n",
       "\n",
       "    .dataframe tbody tr th {\n",
       "        vertical-align: top;\n",
       "    }\n",
       "\n",
       "    .dataframe thead th {\n",
       "        text-align: right;\n",
       "    }\n",
       "</style>\n",
       "<table border=\"1\" class=\"dataframe\">\n",
       "  <thead>\n",
       "    <tr style=\"text-align: right;\">\n",
       "      <th></th>\n",
       "      <th>x1</th>\n",
       "      <th>x2</th>\n",
       "      <th>a</th>\n",
       "      <th>y1</th>\n",
       "      <th>c1</th>\n",
       "      <th>c2</th>\n",
       "      <th>xopt_runtime</th>\n",
       "      <th>xopt_error</th>\n",
       "    </tr>\n",
       "  </thead>\n",
       "  <tbody>\n",
       "    <tr>\n",
       "      <th>0</th>\n",
       "      <td>1.00</td>\n",
       "      <td>0.70</td>\n",
       "      <td>dummy_constant</td>\n",
       "      <td>1.00</td>\n",
       "      <td>0.584045</td>\n",
       "      <td>0.290</td>\n",
       "      <td>0.000050</td>\n",
       "      <td>False</td>\n",
       "    </tr>\n",
       "    <tr>\n",
       "      <th>1</th>\n",
       "      <td>0.75</td>\n",
       "      <td>0.95</td>\n",
       "      <td>dummy_constant</td>\n",
       "      <td>0.75</td>\n",
       "      <td>0.494833</td>\n",
       "      <td>0.265</td>\n",
       "      <td>0.000015</td>\n",
       "      <td>False</td>\n",
       "    </tr>\n",
       "  </tbody>\n",
       "</table>\n",
       "</div>"
      ],
      "text/plain": [
       "     x1    x2               a    y1        c1     c2  xopt_runtime  xopt_error\n",
       "0  1.00  0.70  dummy_constant  1.00  0.584045  0.290      0.000050       False\n",
       "1  0.75  0.95  dummy_constant  0.75  0.494833  0.265      0.000015       False"
      ]
     },
     "execution_count": 4,
     "metadata": {},
     "output_type": "execute_result"
    }
   ],
   "source": [
    "X.evaluate_data(pd.DataFrame({\"x1\": [1.0, 0.75], \"x2\": [0.7, 0.95]}))"
   ]
  },
  {
   "cell_type": "code",
   "execution_count": 5,
   "metadata": {
    "ExecuteTime": {
     "end_time": "2023-06-14T15:42:05.755461900Z",
     "start_time": "2023-06-14T15:37:25.611873400Z"
    },
    "execution": {
     "iopub.execute_input": "2024-08-08T16:25:26.397415Z",
     "iopub.status.busy": "2024-08-08T16:25:26.397231Z",
     "iopub.status.idle": "2024-08-08T16:26:51.753092Z",
     "shell.execute_reply": "2024-08-08T16:26:51.752522Z"
    },
    "scrolled": false
   },
   "outputs": [
    {
     "name": "stdout",
     "output_type": "stream",
     "text": [
      "step 0\n"
     ]
    },
    {
     "name": "stdout",
     "output_type": "stream",
     "text": [
      "step 1\n"
     ]
    },
    {
     "name": "stdout",
     "output_type": "stream",
     "text": [
      "step 2\n"
     ]
    },
    {
     "name": "stdout",
     "output_type": "stream",
     "text": [
      "step 3\n"
     ]
    },
    {
     "name": "stdout",
     "output_type": "stream",
     "text": [
      "step 4\n"
     ]
    },
    {
     "name": "stdout",
     "output_type": "stream",
     "text": [
      "step 5\n"
     ]
    },
    {
     "name": "stdout",
     "output_type": "stream",
     "text": [
      "step 6\n"
     ]
    },
    {
     "name": "stdout",
     "output_type": "stream",
     "text": [
      "step 7\n"
     ]
    },
    {
     "name": "stdout",
     "output_type": "stream",
     "text": [
      "step 8\n"
     ]
    },
    {
     "name": "stdout",
     "output_type": "stream",
     "text": [
      "step 9\n"
     ]
    },
    {
     "name": "stdout",
     "output_type": "stream",
     "text": [
      "step 10\n"
     ]
    },
    {
     "name": "stdout",
     "output_type": "stream",
     "text": [
      "step 11\n"
     ]
    },
    {
     "name": "stdout",
     "output_type": "stream",
     "text": [
      "step 12\n"
     ]
    },
    {
     "name": "stdout",
     "output_type": "stream",
     "text": [
      "step 13\n"
     ]
    },
    {
     "name": "stdout",
     "output_type": "stream",
     "text": [
      "step 14\n"
     ]
    },
    {
     "name": "stdout",
     "output_type": "stream",
     "text": [
      "step 15\n"
     ]
    },
    {
     "name": "stdout",
     "output_type": "stream",
     "text": [
      "step 16\n"
     ]
    },
    {
     "name": "stdout",
     "output_type": "stream",
     "text": [
      "step 17\n"
     ]
    },
    {
     "name": "stdout",
     "output_type": "stream",
     "text": [
      "step 18\n"
     ]
    },
    {
     "name": "stdout",
     "output_type": "stream",
     "text": [
      "step 19\n"
     ]
    },
    {
     "name": "stdout",
     "output_type": "stream",
     "text": [
      "step 20\n"
     ]
    },
    {
     "name": "stdout",
     "output_type": "stream",
     "text": [
      "step 21\n"
     ]
    },
    {
     "name": "stdout",
     "output_type": "stream",
     "text": [
      "step 22\n"
     ]
    },
    {
     "name": "stdout",
     "output_type": "stream",
     "text": [
      "step 23\n"
     ]
    },
    {
     "name": "stdout",
     "output_type": "stream",
     "text": [
      "step 24\n"
     ]
    },
    {
     "name": "stdout",
     "output_type": "stream",
     "text": [
      "step 25\n"
     ]
    },
    {
     "name": "stdout",
     "output_type": "stream",
     "text": [
      "step 26\n"
     ]
    },
    {
     "name": "stdout",
     "output_type": "stream",
     "text": [
      "step 27\n"
     ]
    },
    {
     "name": "stdout",
     "output_type": "stream",
     "text": [
      "step 28\n"
     ]
    },
    {
     "name": "stdout",
     "output_type": "stream",
     "text": [
      "step 29\n"
     ]
    }
   ],
   "source": [
    "N_STEPS = 1 if SMOKE_TEST else 30\n",
    "for i in range(N_STEPS):\n",
    "    print(f\"step {i}\")\n",
    "    X.step()"
   ]
  },
  {
   "cell_type": "code",
   "execution_count": 6,
   "metadata": {
    "ExecuteTime": {
     "end_time": "2023-06-14T15:42:05.786611100Z",
     "start_time": "2023-06-14T15:42:05.773463300Z"
    },
    "execution": {
     "iopub.execute_input": "2024-08-08T16:26:51.756054Z",
     "iopub.status.busy": "2024-08-08T16:26:51.755532Z",
     "iopub.status.idle": "2024-08-08T16:26:51.770414Z",
     "shell.execute_reply": "2024-08-08T16:26:51.769836Z"
    }
   },
   "outputs": [
    {
     "data": {
      "text/html": [
       "<div>\n",
       "<style scoped>\n",
       "    .dataframe tbody tr th:only-of-type {\n",
       "        vertical-align: middle;\n",
       "    }\n",
       "\n",
       "    .dataframe tbody tr th {\n",
       "        vertical-align: top;\n",
       "    }\n",
       "\n",
       "    .dataframe thead th {\n",
       "        text-align: right;\n",
       "    }\n",
       "</style>\n",
       "<table border=\"1\" class=\"dataframe\">\n",
       "  <thead>\n",
       "    <tr style=\"text-align: right;\">\n",
       "      <th></th>\n",
       "      <th>x1</th>\n",
       "      <th>x2</th>\n",
       "      <th>a</th>\n",
       "      <th>y1</th>\n",
       "      <th>c1</th>\n",
       "      <th>c2</th>\n",
       "      <th>xopt_runtime</th>\n",
       "      <th>xopt_error</th>\n",
       "    </tr>\n",
       "  </thead>\n",
       "  <tbody>\n",
       "    <tr>\n",
       "      <th>0</th>\n",
       "      <td>1.000000</td>\n",
       "      <td>0.700000</td>\n",
       "      <td>dummy_constant</td>\n",
       "      <td>1.000000</td>\n",
       "      <td>0.584045</td>\n",
       "      <td>0.290000</td>\n",
       "      <td>0.000050</td>\n",
       "      <td>False</td>\n",
       "    </tr>\n",
       "    <tr>\n",
       "      <th>1</th>\n",
       "      <td>0.750000</td>\n",
       "      <td>0.950000</td>\n",
       "      <td>dummy_constant</td>\n",
       "      <td>0.750000</td>\n",
       "      <td>0.494833</td>\n",
       "      <td>0.265000</td>\n",
       "      <td>0.000015</td>\n",
       "      <td>False</td>\n",
       "    </tr>\n",
       "    <tr>\n",
       "      <th>2</th>\n",
       "      <td>1.535397</td>\n",
       "      <td>1.735397</td>\n",
       "      <td>dummy_constant</td>\n",
       "      <td>NaN</td>\n",
       "      <td>4.313110</td>\n",
       "      <td>2.598255</td>\n",
       "      <td>0.000030</td>\n",
       "      <td>False</td>\n",
       "    </tr>\n",
       "    <tr>\n",
       "      <th>3</th>\n",
       "      <td>2.320795</td>\n",
       "      <td>0.958775</td>\n",
       "      <td>dummy_constant</td>\n",
       "      <td>NaN</td>\n",
       "      <td>5.205350</td>\n",
       "      <td>3.525769</td>\n",
       "      <td>0.000035</td>\n",
       "      <td>False</td>\n",
       "    </tr>\n",
       "    <tr>\n",
       "      <th>4</th>\n",
       "      <td>1.722044</td>\n",
       "      <td>0.276959</td>\n",
       "      <td>dummy_constant</td>\n",
       "      <td>NaN</td>\n",
       "      <td>2.125229</td>\n",
       "      <td>1.543140</td>\n",
       "      <td>0.000030</td>\n",
       "      <td>False</td>\n",
       "    </tr>\n",
       "    <tr>\n",
       "      <th>5</th>\n",
       "      <td>0.987354</td>\n",
       "      <td>0.023440</td>\n",
       "      <td>dummy_constant</td>\n",
       "      <td>NaN</td>\n",
       "      <td>-0.117457</td>\n",
       "      <td>0.464623</td>\n",
       "      <td>0.000030</td>\n",
       "      <td>False</td>\n",
       "    </tr>\n",
       "    <tr>\n",
       "      <th>6</th>\n",
       "      <td>1.061273</td>\n",
       "      <td>0.265960</td>\n",
       "      <td>dummy_constant</td>\n",
       "      <td>1.061273</td>\n",
       "      <td>0.267619</td>\n",
       "      <td>0.369802</td>\n",
       "      <td>0.000027</td>\n",
       "      <td>False</td>\n",
       "    </tr>\n",
       "    <tr>\n",
       "      <th>7</th>\n",
       "      <td>0.405592</td>\n",
       "      <td>0.967118</td>\n",
       "      <td>dummy_constant</td>\n",
       "      <td>0.405592</td>\n",
       "      <td>0.000071</td>\n",
       "      <td>0.227112</td>\n",
       "      <td>0.000029</td>\n",
       "      <td>False</td>\n",
       "    </tr>\n",
       "    <tr>\n",
       "      <th>8</th>\n",
       "      <td>0.033804</td>\n",
       "      <td>1.555538</td>\n",
       "      <td>dummy_constant</td>\n",
       "      <td>NaN</td>\n",
       "      <td>1.326823</td>\n",
       "      <td>1.331498</td>\n",
       "      <td>0.000028</td>\n",
       "      <td>False</td>\n",
       "    </tr>\n",
       "    <tr>\n",
       "      <th>9</th>\n",
       "      <td>0.249027</td>\n",
       "      <td>1.076246</td>\n",
       "      <td>dummy_constant</td>\n",
       "      <td>0.249027</td>\n",
       "      <td>0.308244</td>\n",
       "      <td>0.395047</td>\n",
       "      <td>0.000028</td>\n",
       "      <td>False</td>\n",
       "    </tr>\n",
       "    <tr>\n",
       "      <th>10</th>\n",
       "      <td>0.000184</td>\n",
       "      <td>0.935203</td>\n",
       "      <td>dummy_constant</td>\n",
       "      <td>NaN</td>\n",
       "      <td>-0.225395</td>\n",
       "      <td>0.439217</td>\n",
       "      <td>0.000028</td>\n",
       "      <td>False</td>\n",
       "    </tr>\n",
       "    <tr>\n",
       "      <th>11</th>\n",
       "      <td>0.078504</td>\n",
       "      <td>1.035965</td>\n",
       "      <td>dummy_constant</td>\n",
       "      <td>0.078504</td>\n",
       "      <td>0.044099</td>\n",
       "      <td>0.464917</td>\n",
       "      <td>0.000028</td>\n",
       "      <td>False</td>\n",
       "    </tr>\n",
       "    <tr>\n",
       "      <th>12</th>\n",
       "      <td>0.863902</td>\n",
       "      <td>0.626685</td>\n",
       "      <td>dummy_constant</td>\n",
       "      <td>0.863902</td>\n",
       "      <td>0.220652</td>\n",
       "      <td>0.148474</td>\n",
       "      <td>0.000029</td>\n",
       "      <td>False</td>\n",
       "    </tr>\n",
       "    <tr>\n",
       "      <th>13</th>\n",
       "      <td>1.174518</td>\n",
       "      <td>0.459331</td>\n",
       "      <td>dummy_constant</td>\n",
       "      <td>1.174518</td>\n",
       "      <td>0.495507</td>\n",
       "      <td>0.456629</td>\n",
       "      <td>0.000030</td>\n",
       "      <td>False</td>\n",
       "    </tr>\n",
       "    <tr>\n",
       "      <th>14</th>\n",
       "      <td>0.541495</td>\n",
       "      <td>1.161343</td>\n",
       "      <td>dummy_constant</td>\n",
       "      <td>0.541495</td>\n",
       "      <td>0.565296</td>\n",
       "      <td>0.439097</td>\n",
       "      <td>0.000028</td>\n",
       "      <td>False</td>\n",
       "    </tr>\n",
       "    <tr>\n",
       "      <th>15</th>\n",
       "      <td>0.968547</td>\n",
       "      <td>0.965318</td>\n",
       "      <td>dummy_constant</td>\n",
       "      <td>0.968547</td>\n",
       "      <td>0.769958</td>\n",
       "      <td>0.436057</td>\n",
       "      <td>0.000029</td>\n",
       "      <td>False</td>\n",
       "    </tr>\n",
       "    <tr>\n",
       "      <th>16</th>\n",
       "      <td>0.773260</td>\n",
       "      <td>1.127716</td>\n",
       "      <td>dummy_constant</td>\n",
       "      <td>0.773260</td>\n",
       "      <td>0.967836</td>\n",
       "      <td>0.468699</td>\n",
       "      <td>0.000028</td>\n",
       "      <td>False</td>\n",
       "    </tr>\n",
       "    <tr>\n",
       "      <th>17</th>\n",
       "      <td>1.129409</td>\n",
       "      <td>0.757174</td>\n",
       "      <td>dummy_constant</td>\n",
       "      <td>1.129409</td>\n",
       "      <td>0.948845</td>\n",
       "      <td>0.462293</td>\n",
       "      <td>0.000028</td>\n",
       "      <td>False</td>\n",
       "    </tr>\n",
       "    <tr>\n",
       "      <th>18</th>\n",
       "      <td>1.060202</td>\n",
       "      <td>0.094737</td>\n",
       "      <td>dummy_constant</td>\n",
       "      <td>1.060202</td>\n",
       "      <td>0.118568</td>\n",
       "      <td>0.478064</td>\n",
       "      <td>0.000027</td>\n",
       "      <td>False</td>\n",
       "    </tr>\n",
       "    <tr>\n",
       "      <th>19</th>\n",
       "      <td>0.625151</td>\n",
       "      <td>0.846108</td>\n",
       "      <td>dummy_constant</td>\n",
       "      <td>0.625151</td>\n",
       "      <td>0.179436</td>\n",
       "      <td>0.135453</td>\n",
       "      <td>0.000028</td>\n",
       "      <td>False</td>\n",
       "    </tr>\n",
       "    <tr>\n",
       "      <th>20</th>\n",
       "      <td>0.308783</td>\n",
       "      <td>1.162711</td>\n",
       "      <td>dummy_constant</td>\n",
       "      <td>0.308783</td>\n",
       "      <td>0.500286</td>\n",
       "      <td>0.475749</td>\n",
       "      <td>0.000027</td>\n",
       "      <td>False</td>\n",
       "    </tr>\n",
       "    <tr>\n",
       "      <th>21</th>\n",
       "      <td>0.962023</td>\n",
       "      <td>0.397220</td>\n",
       "      <td>dummy_constant</td>\n",
       "      <td>NaN</td>\n",
       "      <td>-0.016711</td>\n",
       "      <td>0.224029</td>\n",
       "      <td>0.000028</td>\n",
       "      <td>False</td>\n",
       "    </tr>\n",
       "    <tr>\n",
       "      <th>22</th>\n",
       "      <td>0.961836</td>\n",
       "      <td>0.410358</td>\n",
       "      <td>dummy_constant</td>\n",
       "      <td>NaN</td>\n",
       "      <td>-0.005054</td>\n",
       "      <td>0.221328</td>\n",
       "      <td>0.000029</td>\n",
       "      <td>False</td>\n",
       "    </tr>\n",
       "    <tr>\n",
       "      <th>23</th>\n",
       "      <td>0.970165</td>\n",
       "      <td>0.407355</td>\n",
       "      <td>dummy_constant</td>\n",
       "      <td>0.970165</td>\n",
       "      <td>0.007455</td>\n",
       "      <td>0.229638</td>\n",
       "      <td>0.000030</td>\n",
       "      <td>False</td>\n",
       "    </tr>\n",
       "    <tr>\n",
       "      <th>24</th>\n",
       "      <td>1.168074</td>\n",
       "      <td>0.308222</td>\n",
       "      <td>dummy_constant</td>\n",
       "      <td>1.168074</td>\n",
       "      <td>0.514579</td>\n",
       "      <td>0.483102</td>\n",
       "      <td>0.000029</td>\n",
       "      <td>False</td>\n",
       "    </tr>\n",
       "    <tr>\n",
       "      <th>25</th>\n",
       "      <td>0.382677</td>\n",
       "      <td>0.966324</td>\n",
       "      <td>dummy_constant</td>\n",
       "      <td>NaN</td>\n",
       "      <td>-0.016663</td>\n",
       "      <td>0.231223</td>\n",
       "      <td>0.000029</td>\n",
       "      <td>False</td>\n",
       "    </tr>\n",
       "    <tr>\n",
       "      <th>26</th>\n",
       "      <td>1.162093</td>\n",
       "      <td>0.705678</td>\n",
       "      <td>dummy_constant</td>\n",
       "      <td>1.162093</td>\n",
       "      <td>0.925370</td>\n",
       "      <td>0.480671</td>\n",
       "      <td>0.000027</td>\n",
       "      <td>False</td>\n",
       "    </tr>\n",
       "    <tr>\n",
       "      <th>27</th>\n",
       "      <td>0.510887</td>\n",
       "      <td>1.193838</td>\n",
       "      <td>dummy_constant</td>\n",
       "      <td>0.510887</td>\n",
       "      <td>0.587989</td>\n",
       "      <td>0.481530</td>\n",
       "      <td>0.000027</td>\n",
       "      <td>False</td>\n",
       "    </tr>\n",
       "    <tr>\n",
       "      <th>28</th>\n",
       "      <td>0.277614</td>\n",
       "      <td>1.008067</td>\n",
       "      <td>dummy_constant</td>\n",
       "      <td>0.277614</td>\n",
       "      <td>0.133377</td>\n",
       "      <td>0.307588</td>\n",
       "      <td>0.000030</td>\n",
       "      <td>False</td>\n",
       "    </tr>\n",
       "    <tr>\n",
       "      <th>29</th>\n",
       "      <td>0.949825</td>\n",
       "      <td>1.027582</td>\n",
       "      <td>dummy_constant</td>\n",
       "      <td>0.949825</td>\n",
       "      <td>0.877220</td>\n",
       "      <td>0.480685</td>\n",
       "      <td>0.000028</td>\n",
       "      <td>False</td>\n",
       "    </tr>\n",
       "    <tr>\n",
       "      <th>30</th>\n",
       "      <td>0.183781</td>\n",
       "      <td>1.120049</td>\n",
       "      <td>dummy_constant</td>\n",
       "      <td>0.183781</td>\n",
       "      <td>0.374085</td>\n",
       "      <td>0.484455</td>\n",
       "      <td>0.000029</td>\n",
       "      <td>False</td>\n",
       "    </tr>\n",
       "    <tr>\n",
       "      <th>31</th>\n",
       "      <td>0.754527</td>\n",
       "      <td>0.724474</td>\n",
       "      <td>dummy_constant</td>\n",
       "      <td>NaN</td>\n",
       "      <td>-0.000589</td>\n",
       "      <td>0.115173</td>\n",
       "      <td>0.000028</td>\n",
       "      <td>False</td>\n",
       "    </tr>\n",
       "  </tbody>\n",
       "</table>\n",
       "</div>"
      ],
      "text/plain": [
       "          x1        x2               a        y1        c1        c2  \\\n",
       "0   1.000000  0.700000  dummy_constant  1.000000  0.584045  0.290000   \n",
       "1   0.750000  0.950000  dummy_constant  0.750000  0.494833  0.265000   \n",
       "2   1.535397  1.735397  dummy_constant       NaN  4.313110  2.598255   \n",
       "3   2.320795  0.958775  dummy_constant       NaN  5.205350  3.525769   \n",
       "4   1.722044  0.276959  dummy_constant       NaN  2.125229  1.543140   \n",
       "5   0.987354  0.023440  dummy_constant       NaN -0.117457  0.464623   \n",
       "6   1.061273  0.265960  dummy_constant  1.061273  0.267619  0.369802   \n",
       "7   0.405592  0.967118  dummy_constant  0.405592  0.000071  0.227112   \n",
       "8   0.033804  1.555538  dummy_constant       NaN  1.326823  1.331498   \n",
       "9   0.249027  1.076246  dummy_constant  0.249027  0.308244  0.395047   \n",
       "10  0.000184  0.935203  dummy_constant       NaN -0.225395  0.439217   \n",
       "11  0.078504  1.035965  dummy_constant  0.078504  0.044099  0.464917   \n",
       "12  0.863902  0.626685  dummy_constant  0.863902  0.220652  0.148474   \n",
       "13  1.174518  0.459331  dummy_constant  1.174518  0.495507  0.456629   \n",
       "14  0.541495  1.161343  dummy_constant  0.541495  0.565296  0.439097   \n",
       "15  0.968547  0.965318  dummy_constant  0.968547  0.769958  0.436057   \n",
       "16  0.773260  1.127716  dummy_constant  0.773260  0.967836  0.468699   \n",
       "17  1.129409  0.757174  dummy_constant  1.129409  0.948845  0.462293   \n",
       "18  1.060202  0.094737  dummy_constant  1.060202  0.118568  0.478064   \n",
       "19  0.625151  0.846108  dummy_constant  0.625151  0.179436  0.135453   \n",
       "20  0.308783  1.162711  dummy_constant  0.308783  0.500286  0.475749   \n",
       "21  0.962023  0.397220  dummy_constant       NaN -0.016711  0.224029   \n",
       "22  0.961836  0.410358  dummy_constant       NaN -0.005054  0.221328   \n",
       "23  0.970165  0.407355  dummy_constant  0.970165  0.007455  0.229638   \n",
       "24  1.168074  0.308222  dummy_constant  1.168074  0.514579  0.483102   \n",
       "25  0.382677  0.966324  dummy_constant       NaN -0.016663  0.231223   \n",
       "26  1.162093  0.705678  dummy_constant  1.162093  0.925370  0.480671   \n",
       "27  0.510887  1.193838  dummy_constant  0.510887  0.587989  0.481530   \n",
       "28  0.277614  1.008067  dummy_constant  0.277614  0.133377  0.307588   \n",
       "29  0.949825  1.027582  dummy_constant  0.949825  0.877220  0.480685   \n",
       "30  0.183781  1.120049  dummy_constant  0.183781  0.374085  0.484455   \n",
       "31  0.754527  0.724474  dummy_constant       NaN -0.000589  0.115173   \n",
       "\n",
       "    xopt_runtime  xopt_error  \n",
       "0       0.000050       False  \n",
       "1       0.000015       False  \n",
       "2       0.000030       False  \n",
       "3       0.000035       False  \n",
       "4       0.000030       False  \n",
       "5       0.000030       False  \n",
       "6       0.000027       False  \n",
       "7       0.000029       False  \n",
       "8       0.000028       False  \n",
       "9       0.000028       False  \n",
       "10      0.000028       False  \n",
       "11      0.000028       False  \n",
       "12      0.000029       False  \n",
       "13      0.000030       False  \n",
       "14      0.000028       False  \n",
       "15      0.000029       False  \n",
       "16      0.000028       False  \n",
       "17      0.000028       False  \n",
       "18      0.000027       False  \n",
       "19      0.000028       False  \n",
       "20      0.000027       False  \n",
       "21      0.000028       False  \n",
       "22      0.000029       False  \n",
       "23      0.000030       False  \n",
       "24      0.000029       False  \n",
       "25      0.000029       False  \n",
       "26      0.000027       False  \n",
       "27      0.000027       False  \n",
       "28      0.000030       False  \n",
       "29      0.000028       False  \n",
       "30      0.000029       False  \n",
       "31      0.000028       False  "
      ]
     },
     "execution_count": 6,
     "metadata": {},
     "output_type": "execute_result"
    }
   ],
   "source": [
    "# view the data\n",
    "X.data"
   ]
  },
  {
   "cell_type": "code",
   "execution_count": 7,
   "metadata": {
    "ExecuteTime": {
     "end_time": "2023-06-14T15:42:06.400652600Z",
     "start_time": "2023-06-14T15:42:05.787612700Z"
    },
    "execution": {
     "iopub.execute_input": "2024-08-08T16:26:51.772666Z",
     "iopub.status.busy": "2024-08-08T16:26:51.772483Z",
     "iopub.status.idle": "2024-08-08T16:26:52.137583Z",
     "shell.execute_reply": "2024-08-08T16:26:52.136964Z"
    }
   },
   "outputs": [
    {
     "data": {
      "image/png": "[encoded data removed]",
      "text/plain": [
       "<Figure size 640x480 with 1 Axes>"
      ]
     },
     "metadata": {},
     "output_type": "display_data"
    }
   ],
   "source": [
    "# plot results\n",
    "ax = X.data.plot(\"x1\", \"x2\")\n",
    "ax.set_aspect(\"equal\")"
   ]
  },
  {
   "cell_type": "code",
   "execution_count": 7,
   "metadata": {
    "ExecuteTime": {
     "end_time": "2023-06-14T15:42:06.419648600Z",
     "start_time": "2023-06-14T15:42:06.401622Z"
    }
   },
   "outputs": [],
   "source": []
  }
 ],
 "metadata": {
  "kernelspec": {
   "display_name": "Python 3 (ipykernel)",
   "language": "python",
   "name": "python3"
  },
  "language_info": {
   "codemirror_mode": {
    "name": "ipython",
    "version": 3
   },
   "file_extension": ".py",
   "mimetype": "text/x-python",
   "name": "python",
   "nbconvert_exporter": "python",
   "pygments_lexer": "ipython3",
   "version": "3.9.19"
  }
 },
 "nbformat": 4,
 "nbformat_minor": 4
}
