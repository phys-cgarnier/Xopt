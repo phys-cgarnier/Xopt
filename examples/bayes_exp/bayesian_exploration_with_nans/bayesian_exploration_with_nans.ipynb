{
 "cells": [
  {
   "cell_type": "markdown",
   "metadata": {},
   "source": [
    "# Bayesian Exploration with NaNs\n",
    "\n",
    "As violations of constraints can lead to invalid values of the objective, the evaluate function may simply return NaNs. We demonstrate below how we can still perform Bayesian Exploration in that case."
   ]
  },
  {
   "cell_type": "code",
   "execution_count": 1,
   "metadata": {
    "ExecuteTime": {
     "end_time": "2023-06-14T15:37:25.535638700Z",
     "start_time": "2023-06-14T15:37:22.379218300Z"
    },
    "execution": {
     "iopub.execute_input": "2024-01-25T21:44:30.717382Z",
     "iopub.status.busy": "2024-01-25T21:44:30.717200Z",
     "iopub.status.idle": "2024-01-25T21:44:32.860926Z",
     "shell.execute_reply": "2024-01-25T21:44:32.860306Z"
    }
   },
   "outputs": [],
   "source": [
    "# set values if testing\n",
    "import os\n",
    "SMOKE_TEST = os.environ.get(\"SMOKE_TEST\")\n",
    "NUM_MC_SAMPLES = 1 if SMOKE_TEST else 128\n",
    "NUM_RESTARTS = 1 if SMOKE_TEST else 20\n",
    "\n",
    "# Ignore all warnings\n",
    "import warnings\n",
    "warnings.filterwarnings(\"ignore\")\n",
    "\n",
    "import pandas as pd\n",
    "import torch\n",
    "import yaml\n",
    "from copy import deepcopy\n",
    "from xopt import Xopt, Evaluator\n",
    "from xopt.generators.bayesian import BayesianExplorationGenerator\n",
    "from xopt.resources.test_functions.tnk import evaluate_TNK, tnk_vocs\n",
    "\n",
    "vocs = deepcopy(tnk_vocs)\n",
    "vocs.objectives = {}\n",
    "vocs.observables = [\"y1\"]"
   ]
  },
  {
   "cell_type": "code",
   "execution_count": 2,
   "metadata": {
    "ExecuteTime": {
     "end_time": "2023-06-14T15:37:25.549637200Z",
     "start_time": "2023-06-14T15:37:25.539666500Z"
    },
    "execution": {
     "iopub.execute_input": "2024-01-25T21:44:32.863650Z",
     "iopub.status.busy": "2024-01-25T21:44:32.863386Z",
     "iopub.status.idle": "2024-01-25T21:44:32.867620Z",
     "shell.execute_reply": "2024-01-25T21:44:32.867159Z"
    }
   },
   "outputs": [],
   "source": [
    "# modify the evaluate function to return NaNs if constraints are violated\n",
    "def evaluate(input_dict):\n",
    "    output_dict = evaluate_TNK(input_dict)\n",
    "    del output_dict[\"y2\"]\n",
    "    for c in vocs.constraints.keys():\n",
    "        if vocs.constraints[c][0].upper() == \"GREATER_THAN\" and output_dict[c] <= vocs.constraints[c][1]:\n",
    "            output_dict[\"y1\"] = torch.nan\n",
    "        elif vocs.constraints[c][0].upper() == \"LESS_THAN\" and output_dict[c] >= vocs.constraints[c][1]:\n",
    "            output_dict[\"y1\"] = torch.nan\n",
    "    return output_dict"
   ]
  },
  {
   "cell_type": "code",
   "execution_count": 3,
   "metadata": {
    "ExecuteTime": {
     "end_time": "2023-06-14T15:37:25.580538800Z",
     "start_time": "2023-06-14T15:37:25.552636600Z"
    },
    "execution": {
     "iopub.execute_input": "2024-01-25T21:44:32.869737Z",
     "iopub.status.busy": "2024-01-25T21:44:32.869390Z",
     "iopub.status.idle": "2024-01-25T21:44:32.883835Z",
     "shell.execute_reply": "2024-01-25T21:44:32.883320Z"
    }
   },
   "outputs": [
    {
     "data": {
      "text/plain": [
       "\n",
       "            Xopt\n",
       "________________________________\n",
       "Version: 0+untagged.1.g26406b0\n",
       "Data size: 0\n",
       "Config as YAML:\n",
       "dump_file: null\n",
       "evaluator:\n",
       "  function: __main__.evaluate\n",
       "  function_kwargs: {}\n",
       "  max_workers: 1\n",
       "  vectorized: false\n",
       "generator:\n",
       "  computation_time: null\n",
       "  fixed_features: null\n",
       "  gp_constructor:\n",
       "    covar_modules: {}\n",
       "    mean_modules: {}\n",
       "    name: standard\n",
       "    trainable_mean_keys: []\n",
       "    use_low_noise_prior: true\n",
       "  log_transform_acquisition_function: false\n",
       "  max_travel_distances:\n",
       "  - 0.25\n",
       "  - 0.25\n",
       "  model: null\n",
       "  n_candidates: 1\n",
       "  n_interpolate_points: null\n",
       "  n_monte_carlo_samples: 128\n",
       "  name: bayesian_exploration\n",
       "  numerical_optimizer:\n",
       "    max_iter: 2000\n",
       "    max_time: null\n",
       "    n_restarts: 20\n",
       "    name: LBFGS\n",
       "  supports_batch_generation: true\n",
       "  turbo_controller: null\n",
       "  use_cuda: false\n",
       "max_evaluations: null\n",
       "serialize_inline: false\n",
       "serialize_torch: false\n",
       "strict: true\n",
       "vocs:\n",
       "  constants:\n",
       "    a: dummy_constant\n",
       "  constraints:\n",
       "    c1:\n",
       "    - GREATER_THAN\n",
       "    - 0.0\n",
       "    c2:\n",
       "    - LESS_THAN\n",
       "    - 0.5\n",
       "  objectives: {}\n",
       "  observables:\n",
       "  - y1\n",
       "  variables:\n",
       "    x1:\n",
       "    - 0.0\n",
       "    - 3.14159\n",
       "    x2:\n",
       "    - 0.0\n",
       "    - 3.14159\n"
      ]
     },
     "execution_count": 3,
     "metadata": {},
     "output_type": "execute_result"
    }
   ],
   "source": [
    "generator = BayesianExplorationGenerator(vocs=vocs)\n",
    "generator.max_travel_distances = [0.25, 0.25]\n",
    "generator.n_monte_carlo_samples = NUM_MC_SAMPLES\n",
    "generator.numerical_optimizer.n_restarts = NUM_RESTARTS\n",
    "\n",
    "evaluator = Evaluator(function=evaluate)\n",
    "X = Xopt(generator=generator, evaluator=evaluator, vocs=vocs)\n",
    "X"
   ]
  },
  {
   "cell_type": "markdown",
   "metadata": {},
   "source": [
    "## Run exploration\n",
    "We start with evaluating 2 points that we know satisfy the constraints. We then run\n",
    "30 exploration steps."
   ]
  },
  {
   "cell_type": "code",
   "execution_count": 4,
   "metadata": {
    "ExecuteTime": {
     "end_time": "2023-06-14T15:37:25.638907100Z",
     "start_time": "2023-06-14T15:37:25.582541Z"
    },
    "execution": {
     "iopub.execute_input": "2024-01-25T21:44:32.913923Z",
     "iopub.status.busy": "2024-01-25T21:44:32.913445Z",
     "iopub.status.idle": "2024-01-25T21:44:32.926196Z",
     "shell.execute_reply": "2024-01-25T21:44:32.925659Z"
    }
   },
   "outputs": [
    {
     "data": {
      "text/html": [
       "<div>\n",
       "<style scoped>\n",
       "    .dataframe tbody tr th:only-of-type {\n",
       "        vertical-align: middle;\n",
       "    }\n",
       "\n",
       "    .dataframe tbody tr th {\n",
       "        vertical-align: top;\n",
       "    }\n",
       "\n",
       "    .dataframe thead th {\n",
       "        text-align: right;\n",
       "    }\n",
       "</style>\n",
       "<table border=\"1\" class=\"dataframe\">\n",
       "  <thead>\n",
       "    <tr style=\"text-align: right;\">\n",
       "      <th></th>\n",
       "      <th>x1</th>\n",
       "      <th>x2</th>\n",
       "      <th>a</th>\n",
       "      <th>y1</th>\n",
       "      <th>c1</th>\n",
       "      <th>c2</th>\n",
       "      <th>xopt_runtime</th>\n",
       "      <th>xopt_error</th>\n",
       "    </tr>\n",
       "  </thead>\n",
       "  <tbody>\n",
       "    <tr>\n",
       "      <th>0</th>\n",
       "      <td>1.00</td>\n",
       "      <td>0.70</td>\n",
       "      <td>dummy_constant</td>\n",
       "      <td>1.00</td>\n",
       "      <td>0.584045</td>\n",
       "      <td>0.290</td>\n",
       "      <td>0.000061</td>\n",
       "      <td>False</td>\n",
       "    </tr>\n",
       "    <tr>\n",
       "      <th>1</th>\n",
       "      <td>0.75</td>\n",
       "      <td>0.95</td>\n",
       "      <td>dummy_constant</td>\n",
       "      <td>0.75</td>\n",
       "      <td>0.494833</td>\n",
       "      <td>0.265</td>\n",
       "      <td>0.000019</td>\n",
       "      <td>False</td>\n",
       "    </tr>\n",
       "  </tbody>\n",
       "</table>\n",
       "</div>"
      ],
      "text/plain": [
       "     x1    x2               a    y1        c1     c2  xopt_runtime  xopt_error\n",
       "0  1.00  0.70  dummy_constant  1.00  0.584045  0.290      0.000061       False\n",
       "1  0.75  0.95  dummy_constant  0.75  0.494833  0.265      0.000019       False"
      ]
     },
     "execution_count": 4,
     "metadata": {},
     "output_type": "execute_result"
    }
   ],
   "source": [
    "X.evaluate_data(pd.DataFrame({\"x1\": [1.0, 0.75], \"x2\": [0.7, 0.95]}))"
   ]
  },
  {
   "cell_type": "code",
   "execution_count": 5,
   "metadata": {
    "ExecuteTime": {
     "end_time": "2023-06-14T15:42:05.755461900Z",
     "start_time": "2023-06-14T15:37:25.611873400Z"
    },
    "execution": {
     "iopub.execute_input": "2024-01-25T21:44:32.928660Z",
     "iopub.status.busy": "2024-01-25T21:44:32.928248Z",
     "iopub.status.idle": "2024-01-25T21:45:48.605231Z",
     "shell.execute_reply": "2024-01-25T21:45:48.604569Z"
    },
    "scrolled": false
   },
   "outputs": [
    {
     "name": "stdout",
     "output_type": "stream",
     "text": [
      "step 0\n"
     ]
    },
    {
     "name": "stdout",
     "output_type": "stream",
     "text": [
      "step 1\n"
     ]
    },
    {
     "name": "stdout",
     "output_type": "stream",
     "text": [
      "step 2\n"
     ]
    },
    {
     "name": "stdout",
     "output_type": "stream",
     "text": [
      "step 3\n"
     ]
    },
    {
     "name": "stdout",
     "output_type": "stream",
     "text": [
      "step 4\n"
     ]
    },
    {
     "name": "stdout",
     "output_type": "stream",
     "text": [
      "step 5\n"
     ]
    },
    {
     "name": "stdout",
     "output_type": "stream",
     "text": [
      "step 6\n"
     ]
    },
    {
     "name": "stdout",
     "output_type": "stream",
     "text": [
      "step 7\n"
     ]
    },
    {
     "name": "stdout",
     "output_type": "stream",
     "text": [
      "step 8\n"
     ]
    },
    {
     "name": "stdout",
     "output_type": "stream",
     "text": [
      "step 9\n"
     ]
    },
    {
     "name": "stdout",
     "output_type": "stream",
     "text": [
      "step 10\n"
     ]
    },
    {
     "name": "stdout",
     "output_type": "stream",
     "text": [
      "step 11\n"
     ]
    },
    {
     "name": "stdout",
     "output_type": "stream",
     "text": [
      "step 12\n"
     ]
    },
    {
     "name": "stdout",
     "output_type": "stream",
     "text": [
      "step 13\n"
     ]
    },
    {
     "name": "stdout",
     "output_type": "stream",
     "text": [
      "step 14\n"
     ]
    },
    {
     "name": "stdout",
     "output_type": "stream",
     "text": [
      "step 15\n"
     ]
    },
    {
     "name": "stdout",
     "output_type": "stream",
     "text": [
      "step 16\n"
     ]
    },
    {
     "name": "stdout",
     "output_type": "stream",
     "text": [
      "step 17\n"
     ]
    },
    {
     "name": "stdout",
     "output_type": "stream",
     "text": [
      "step 18\n"
     ]
    },
    {
     "name": "stdout",
     "output_type": "stream",
     "text": [
      "step 19\n"
     ]
    },
    {
     "name": "stdout",
     "output_type": "stream",
     "text": [
      "step 20\n"
     ]
    },
    {
     "name": "stdout",
     "output_type": "stream",
     "text": [
      "step 21\n"
     ]
    },
    {
     "name": "stdout",
     "output_type": "stream",
     "text": [
      "step 22\n"
     ]
    },
    {
     "name": "stdout",
     "output_type": "stream",
     "text": [
      "step 23\n"
     ]
    },
    {
     "name": "stdout",
     "output_type": "stream",
     "text": [
      "step 24\n"
     ]
    },
    {
     "name": "stdout",
     "output_type": "stream",
     "text": [
      "step 25\n"
     ]
    },
    {
     "name": "stdout",
     "output_type": "stream",
     "text": [
      "step 26\n"
     ]
    },
    {
     "name": "stdout",
     "output_type": "stream",
     "text": [
      "step 27\n"
     ]
    },
    {
     "name": "stdout",
     "output_type": "stream",
     "text": [
      "step 28\n"
     ]
    },
    {
     "name": "stdout",
     "output_type": "stream",
     "text": [
      "step 29\n"
     ]
    }
   ],
   "source": [
    "N_STEPS = 1 if SMOKE_TEST else 30\n",
    "for i in range(N_STEPS):\n",
    "    print(f\"step {i}\")\n",
    "    X.step()"
   ]
  },
  {
   "cell_type": "code",
   "execution_count": 6,
   "metadata": {
    "ExecuteTime": {
     "end_time": "2023-06-14T15:42:05.786611100Z",
     "start_time": "2023-06-14T15:42:05.773463300Z"
    },
    "execution": {
     "iopub.execute_input": "2024-01-25T21:45:48.608170Z",
     "iopub.status.busy": "2024-01-25T21:45:48.607754Z",
     "iopub.status.idle": "2024-01-25T21:45:48.623210Z",
     "shell.execute_reply": "2024-01-25T21:45:48.622513Z"
    }
   },
   "outputs": [
    {
     "data": {
      "text/html": [
       "<div>\n",
       "<style scoped>\n",
       "    .dataframe tbody tr th:only-of-type {\n",
       "        vertical-align: middle;\n",
       "    }\n",
       "\n",
       "    .dataframe tbody tr th {\n",
       "        vertical-align: top;\n",
       "    }\n",
       "\n",
       "    .dataframe thead th {\n",
       "        text-align: right;\n",
       "    }\n",
       "</style>\n",
       "<table border=\"1\" class=\"dataframe\">\n",
       "  <thead>\n",
       "    <tr style=\"text-align: right;\">\n",
       "      <th></th>\n",
       "      <th>x1</th>\n",
       "      <th>x2</th>\n",
       "      <th>a</th>\n",
       "      <th>y1</th>\n",
       "      <th>c1</th>\n",
       "      <th>c2</th>\n",
       "      <th>xopt_runtime</th>\n",
       "      <th>xopt_error</th>\n",
       "    </tr>\n",
       "  </thead>\n",
       "  <tbody>\n",
       "    <tr>\n",
       "      <th>0</th>\n",
       "      <td>1.000000</td>\n",
       "      <td>0.700000</td>\n",
       "      <td>dummy_constant</td>\n",
       "      <td>1.000000</td>\n",
       "      <td>0.584045</td>\n",
       "      <td>0.290000</td>\n",
       "      <td>0.000061</td>\n",
       "      <td>False</td>\n",
       "    </tr>\n",
       "    <tr>\n",
       "      <th>1</th>\n",
       "      <td>0.750000</td>\n",
       "      <td>0.950000</td>\n",
       "      <td>dummy_constant</td>\n",
       "      <td>0.750000</td>\n",
       "      <td>0.494833</td>\n",
       "      <td>0.265000</td>\n",
       "      <td>0.000019</td>\n",
       "      <td>False</td>\n",
       "    </tr>\n",
       "    <tr>\n",
       "      <th>2</th>\n",
       "      <td>1.535397</td>\n",
       "      <td>1.735397</td>\n",
       "      <td>dummy_constant</td>\n",
       "      <td>NaN</td>\n",
       "      <td>4.313110</td>\n",
       "      <td>2.598255</td>\n",
       "      <td>0.000030</td>\n",
       "      <td>False</td>\n",
       "    </tr>\n",
       "    <tr>\n",
       "      <th>3</th>\n",
       "      <td>2.320795</td>\n",
       "      <td>0.950000</td>\n",
       "      <td>dummy_constant</td>\n",
       "      <td>NaN</td>\n",
       "      <td>5.188811</td>\n",
       "      <td>3.517794</td>\n",
       "      <td>0.000042</td>\n",
       "      <td>False</td>\n",
       "    </tr>\n",
       "    <tr>\n",
       "      <th>4</th>\n",
       "      <td>1.536047</td>\n",
       "      <td>0.164602</td>\n",
       "      <td>dummy_constant</td>\n",
       "      <td>NaN</td>\n",
       "      <td>1.400215</td>\n",
       "      <td>1.185885</td>\n",
       "      <td>0.000027</td>\n",
       "      <td>False</td>\n",
       "    </tr>\n",
       "    <tr>\n",
       "      <th>5</th>\n",
       "      <td>0.750649</td>\n",
       "      <td>0.000000</td>\n",
       "      <td>dummy_constant</td>\n",
       "      <td>NaN</td>\n",
       "      <td>-0.536525</td>\n",
       "      <td>0.312825</td>\n",
       "      <td>0.000027</td>\n",
       "      <td>False</td>\n",
       "    </tr>\n",
       "    <tr>\n",
       "      <th>6</th>\n",
       "      <td>0.000000</td>\n",
       "      <td>0.479741</td>\n",
       "      <td>dummy_constant</td>\n",
       "      <td>NaN</td>\n",
       "      <td>-0.869848</td>\n",
       "      <td>0.250410</td>\n",
       "      <td>0.000027</td>\n",
       "      <td>False</td>\n",
       "    </tr>\n",
       "    <tr>\n",
       "      <th>7</th>\n",
       "      <td>0.000000</td>\n",
       "      <td>1.265139</td>\n",
       "      <td>dummy_constant</td>\n",
       "      <td>NaN</td>\n",
       "      <td>0.500576</td>\n",
       "      <td>0.835437</td>\n",
       "      <td>0.000030</td>\n",
       "      <td>False</td>\n",
       "    </tr>\n",
       "    <tr>\n",
       "      <th>8</th>\n",
       "      <td>0.422124</td>\n",
       "      <td>1.031108</td>\n",
       "      <td>dummy_constant</td>\n",
       "      <td>0.422124</td>\n",
       "      <td>0.141591</td>\n",
       "      <td>0.288141</td>\n",
       "      <td>0.000031</td>\n",
       "      <td>False</td>\n",
       "    </tr>\n",
       "    <tr>\n",
       "      <th>9</th>\n",
       "      <td>1.062429</td>\n",
       "      <td>0.295945</td>\n",
       "      <td>dummy_constant</td>\n",
       "      <td>1.062429</td>\n",
       "      <td>0.252100</td>\n",
       "      <td>0.357965</td>\n",
       "      <td>0.000030</td>\n",
       "      <td>False</td>\n",
       "    </tr>\n",
       "    <tr>\n",
       "      <th>10</th>\n",
       "      <td>0.796298</td>\n",
       "      <td>0.690190</td>\n",
       "      <td>dummy_constant</td>\n",
       "      <td>0.796298</td>\n",
       "      <td>0.068708</td>\n",
       "      <td>0.123965</td>\n",
       "      <td>0.000029</td>\n",
       "      <td>False</td>\n",
       "    </tr>\n",
       "    <tr>\n",
       "      <th>11</th>\n",
       "      <td>0.587631</td>\n",
       "      <td>1.161487</td>\n",
       "      <td>dummy_constant</td>\n",
       "      <td>0.587631</td>\n",
       "      <td>0.659144</td>\n",
       "      <td>0.445244</td>\n",
       "      <td>0.000030</td>\n",
       "      <td>False</td>\n",
       "    </tr>\n",
       "    <tr>\n",
       "      <th>12</th>\n",
       "      <td>0.985512</td>\n",
       "      <td>0.937862</td>\n",
       "      <td>dummy_constant</td>\n",
       "      <td>0.985512</td>\n",
       "      <td>0.758570</td>\n",
       "      <td>0.427445</td>\n",
       "      <td>0.000029</td>\n",
       "      <td>False</td>\n",
       "    </tr>\n",
       "    <tr>\n",
       "      <th>13</th>\n",
       "      <td>1.148893</td>\n",
       "      <td>0.611562</td>\n",
       "      <td>dummy_constant</td>\n",
       "      <td>1.148893</td>\n",
       "      <td>0.691216</td>\n",
       "      <td>0.433508</td>\n",
       "      <td>0.000029</td>\n",
       "      <td>False</td>\n",
       "    </tr>\n",
       "    <tr>\n",
       "      <th>14</th>\n",
       "      <td>1.067579</td>\n",
       "      <td>0.138013</td>\n",
       "      <td>dummy_constant</td>\n",
       "      <td>1.067579</td>\n",
       "      <td>0.205500</td>\n",
       "      <td>0.453180</td>\n",
       "      <td>0.000031</td>\n",
       "      <td>False</td>\n",
       "    </tr>\n",
       "    <tr>\n",
       "      <th>15</th>\n",
       "      <td>1.170332</td>\n",
       "      <td>0.646691</td>\n",
       "      <td>dummy_constant</td>\n",
       "      <td>1.170332</td>\n",
       "      <td>0.810008</td>\n",
       "      <td>0.470864</td>\n",
       "      <td>0.000031</td>\n",
       "      <td>False</td>\n",
       "    </tr>\n",
       "    <tr>\n",
       "      <th>16</th>\n",
       "      <td>0.384935</td>\n",
       "      <td>1.019858</td>\n",
       "      <td>dummy_constant</td>\n",
       "      <td>0.384935</td>\n",
       "      <td>0.100946</td>\n",
       "      <td>0.283493</td>\n",
       "      <td>0.000031</td>\n",
       "      <td>False</td>\n",
       "    </tr>\n",
       "    <tr>\n",
       "      <th>17</th>\n",
       "      <td>0.173471</td>\n",
       "      <td>1.079032</td>\n",
       "      <td>dummy_constant</td>\n",
       "      <td>0.173471</td>\n",
       "      <td>0.277431</td>\n",
       "      <td>0.441899</td>\n",
       "      <td>0.000030</td>\n",
       "      <td>False</td>\n",
       "    </tr>\n",
       "    <tr>\n",
       "      <th>18</th>\n",
       "      <td>0.678165</td>\n",
       "      <td>1.163744</td>\n",
       "      <td>dummy_constant</td>\n",
       "      <td>0.678165</td>\n",
       "      <td>0.869691</td>\n",
       "      <td>0.472298</td>\n",
       "      <td>0.000032</td>\n",
       "      <td>False</td>\n",
       "    </tr>\n",
       "    <tr>\n",
       "      <th>19</th>\n",
       "      <td>0.097191</td>\n",
       "      <td>1.049453</td>\n",
       "      <td>dummy_constant</td>\n",
       "      <td>0.097191</td>\n",
       "      <td>0.101486</td>\n",
       "      <td>0.464153</td>\n",
       "      <td>0.000031</td>\n",
       "      <td>False</td>\n",
       "    </tr>\n",
       "    <tr>\n",
       "      <th>20</th>\n",
       "      <td>0.438353</td>\n",
       "      <td>1.184609</td>\n",
       "      <td>dummy_constant</td>\n",
       "      <td>0.438353</td>\n",
       "      <td>0.513634</td>\n",
       "      <td>0.472490</td>\n",
       "      <td>0.000031</td>\n",
       "      <td>False</td>\n",
       "    </tr>\n",
       "    <tr>\n",
       "      <th>21</th>\n",
       "      <td>0.970369</td>\n",
       "      <td>1.002661</td>\n",
       "      <td>dummy_constant</td>\n",
       "      <td>0.970369</td>\n",
       "      <td>0.850354</td>\n",
       "      <td>0.473915</td>\n",
       "      <td>0.000029</td>\n",
       "      <td>False</td>\n",
       "    </tr>\n",
       "    <tr>\n",
       "      <th>22</th>\n",
       "      <td>0.675073</td>\n",
       "      <td>0.825970</td>\n",
       "      <td>dummy_constant</td>\n",
       "      <td>0.675073</td>\n",
       "      <td>0.141177</td>\n",
       "      <td>0.136907</td>\n",
       "      <td>0.000031</td>\n",
       "      <td>False</td>\n",
       "    </tr>\n",
       "    <tr>\n",
       "      <th>23</th>\n",
       "      <td>0.933012</td>\n",
       "      <td>0.447788</td>\n",
       "      <td>dummy_constant</td>\n",
       "      <td>0.933012</td>\n",
       "      <td>0.007027</td>\n",
       "      <td>0.190226</td>\n",
       "      <td>0.000029</td>\n",
       "      <td>False</td>\n",
       "    </tr>\n",
       "    <tr>\n",
       "      <th>24</th>\n",
       "      <td>1.047373</td>\n",
       "      <td>0.075641</td>\n",
       "      <td>dummy_constant</td>\n",
       "      <td>1.047373</td>\n",
       "      <td>0.062184</td>\n",
       "      <td>0.479697</td>\n",
       "      <td>0.000031</td>\n",
       "      <td>False</td>\n",
       "    </tr>\n",
       "    <tr>\n",
       "      <th>25</th>\n",
       "      <td>1.185850</td>\n",
       "      <td>0.451278</td>\n",
       "      <td>dummy_constant</td>\n",
       "      <td>1.185850</td>\n",
       "      <td>0.520514</td>\n",
       "      <td>0.472763</td>\n",
       "      <td>0.000032</td>\n",
       "      <td>False</td>\n",
       "    </tr>\n",
       "    <tr>\n",
       "      <th>26</th>\n",
       "      <td>1.050818</td>\n",
       "      <td>0.073256</td>\n",
       "      <td>dummy_constant</td>\n",
       "      <td>1.050818</td>\n",
       "      <td>0.065442</td>\n",
       "      <td>0.485510</td>\n",
       "      <td>0.000032</td>\n",
       "      <td>False</td>\n",
       "    </tr>\n",
       "    <tr>\n",
       "      <th>27</th>\n",
       "      <td>1.090978</td>\n",
       "      <td>0.858654</td>\n",
       "      <td>dummy_constant</td>\n",
       "      <td>1.090978</td>\n",
       "      <td>0.959627</td>\n",
       "      <td>0.477888</td>\n",
       "      <td>0.000032</td>\n",
       "      <td>False</td>\n",
       "    </tr>\n",
       "    <tr>\n",
       "      <th>28</th>\n",
       "      <td>0.595111</td>\n",
       "      <td>0.873117</td>\n",
       "      <td>dummy_constant</td>\n",
       "      <td>0.595111</td>\n",
       "      <td>0.215406</td>\n",
       "      <td>0.148263</td>\n",
       "      <td>0.000031</td>\n",
       "      <td>False</td>\n",
       "    </tr>\n",
       "    <tr>\n",
       "      <th>29</th>\n",
       "      <td>0.069381</td>\n",
       "      <td>1.043789</td>\n",
       "      <td>dummy_constant</td>\n",
       "      <td>0.069381</td>\n",
       "      <td>0.045592</td>\n",
       "      <td>0.481139</td>\n",
       "      <td>0.000031</td>\n",
       "      <td>False</td>\n",
       "    </tr>\n",
       "    <tr>\n",
       "      <th>30</th>\n",
       "      <td>0.793091</td>\n",
       "      <td>1.129099</td>\n",
       "      <td>dummy_constant</td>\n",
       "      <td>0.793091</td>\n",
       "      <td>0.996993</td>\n",
       "      <td>0.481668</td>\n",
       "      <td>0.000030</td>\n",
       "      <td>False</td>\n",
       "    </tr>\n",
       "    <tr>\n",
       "      <th>31</th>\n",
       "      <td>0.882624</td>\n",
       "      <td>0.565907</td>\n",
       "      <td>dummy_constant</td>\n",
       "      <td>0.882624</td>\n",
       "      <td>0.194734</td>\n",
       "      <td>0.150745</td>\n",
       "      <td>0.000032</td>\n",
       "      <td>False</td>\n",
       "    </tr>\n",
       "  </tbody>\n",
       "</table>\n",
       "</div>"
      ],
      "text/plain": [
       "          x1        x2               a        y1        c1        c2  \\\n",
       "0   1.000000  0.700000  dummy_constant  1.000000  0.584045  0.290000   \n",
       "1   0.750000  0.950000  dummy_constant  0.750000  0.494833  0.265000   \n",
       "2   1.535397  1.735397  dummy_constant       NaN  4.313110  2.598255   \n",
       "3   2.320795  0.950000  dummy_constant       NaN  5.188811  3.517794   \n",
       "4   1.536047  0.164602  dummy_constant       NaN  1.400215  1.185885   \n",
       "5   0.750649  0.000000  dummy_constant       NaN -0.536525  0.312825   \n",
       "6   0.000000  0.479741  dummy_constant       NaN -0.869848  0.250410   \n",
       "7   0.000000  1.265139  dummy_constant       NaN  0.500576  0.835437   \n",
       "8   0.422124  1.031108  dummy_constant  0.422124  0.141591  0.288141   \n",
       "9   1.062429  0.295945  dummy_constant  1.062429  0.252100  0.357965   \n",
       "10  0.796298  0.690190  dummy_constant  0.796298  0.068708  0.123965   \n",
       "11  0.587631  1.161487  dummy_constant  0.587631  0.659144  0.445244   \n",
       "12  0.985512  0.937862  dummy_constant  0.985512  0.758570  0.427445   \n",
       "13  1.148893  0.611562  dummy_constant  1.148893  0.691216  0.433508   \n",
       "14  1.067579  0.138013  dummy_constant  1.067579  0.205500  0.453180   \n",
       "15  1.170332  0.646691  dummy_constant  1.170332  0.810008  0.470864   \n",
       "16  0.384935  1.019858  dummy_constant  0.384935  0.100946  0.283493   \n",
       "17  0.173471  1.079032  dummy_constant  0.173471  0.277431  0.441899   \n",
       "18  0.678165  1.163744  dummy_constant  0.678165  0.869691  0.472298   \n",
       "19  0.097191  1.049453  dummy_constant  0.097191  0.101486  0.464153   \n",
       "20  0.438353  1.184609  dummy_constant  0.438353  0.513634  0.472490   \n",
       "21  0.970369  1.002661  dummy_constant  0.970369  0.850354  0.473915   \n",
       "22  0.675073  0.825970  dummy_constant  0.675073  0.141177  0.136907   \n",
       "23  0.933012  0.447788  dummy_constant  0.933012  0.007027  0.190226   \n",
       "24  1.047373  0.075641  dummy_constant  1.047373  0.062184  0.479697   \n",
       "25  1.185850  0.451278  dummy_constant  1.185850  0.520514  0.472763   \n",
       "26  1.050818  0.073256  dummy_constant  1.050818  0.065442  0.485510   \n",
       "27  1.090978  0.858654  dummy_constant  1.090978  0.959627  0.477888   \n",
       "28  0.595111  0.873117  dummy_constant  0.595111  0.215406  0.148263   \n",
       "29  0.069381  1.043789  dummy_constant  0.069381  0.045592  0.481139   \n",
       "30  0.793091  1.129099  dummy_constant  0.793091  0.996993  0.481668   \n",
       "31  0.882624  0.565907  dummy_constant  0.882624  0.194734  0.150745   \n",
       "\n",
       "    xopt_runtime  xopt_error  \n",
       "0       0.000061       False  \n",
       "1       0.000019       False  \n",
       "2       0.000030       False  \n",
       "3       0.000042       False  \n",
       "4       0.000027       False  \n",
       "5       0.000027       False  \n",
       "6       0.000027       False  \n",
       "7       0.000030       False  \n",
       "8       0.000031       False  \n",
       "9       0.000030       False  \n",
       "10      0.000029       False  \n",
       "11      0.000030       False  \n",
       "12      0.000029       False  \n",
       "13      0.000029       False  \n",
       "14      0.000031       False  \n",
       "15      0.000031       False  \n",
       "16      0.000031       False  \n",
       "17      0.000030       False  \n",
       "18      0.000032       False  \n",
       "19      0.000031       False  \n",
       "20      0.000031       False  \n",
       "21      0.000029       False  \n",
       "22      0.000031       False  \n",
       "23      0.000029       False  \n",
       "24      0.000031       False  \n",
       "25      0.000032       False  \n",
       "26      0.000032       False  \n",
       "27      0.000032       False  \n",
       "28      0.000031       False  \n",
       "29      0.000031       False  \n",
       "30      0.000030       False  \n",
       "31      0.000032       False  "
      ]
     },
     "execution_count": 6,
     "metadata": {},
     "output_type": "execute_result"
    }
   ],
   "source": [
    "# view the data\n",
    "X.data"
   ]
  },
  {
   "cell_type": "code",
   "execution_count": 7,
   "metadata": {
    "ExecuteTime": {
     "end_time": "2023-06-14T15:42:06.400652600Z",
     "start_time": "2023-06-14T15:42:05.787612700Z"
    },
    "execution": {
     "iopub.execute_input": "2024-01-25T21:45:48.625766Z",
     "iopub.status.busy": "2024-01-25T21:45:48.625357Z",
     "iopub.status.idle": "2024-01-25T21:45:49.026303Z",
     "shell.execute_reply": "2024-01-25T21:45:49.025657Z"
    }
   },
   "outputs": [
    {
     "data": {
      "image/png": "[encoded data removed]",
      "text/plain": [
       "<Figure size 640x480 with 1 Axes>"
      ]
     },
     "metadata": {},
     "output_type": "display_data"
    }
   ],
   "source": [
    "# plot results\n",
    "ax = X.data.plot(\"x1\", \"x2\")\n",
    "ax.set_aspect(\"equal\")"
   ]
  },
  {
   "cell_type": "code",
   "execution_count": 7,
   "metadata": {
    "ExecuteTime": {
     "end_time": "2023-06-14T15:42:06.419648600Z",
     "start_time": "2023-06-14T15:42:06.401622Z"
    }
   },
   "outputs": [],
   "source": []
  }
 ],
 "metadata": {
  "kernelspec": {
   "display_name": "Python 3 (ipykernel)",
   "language": "python",
   "name": "python3"
  },
  "language_info": {
   "codemirror_mode": {
    "name": "ipython",
    "version": 3
   },
   "file_extension": ".py",
   "mimetype": "text/x-python",
   "name": "python",
   "nbconvert_exporter": "python",
   "pygments_lexer": "ipython3",
   "version": "3.9.18"
  }
 },
 "nbformat": 4,
 "nbformat_minor": 4
}
