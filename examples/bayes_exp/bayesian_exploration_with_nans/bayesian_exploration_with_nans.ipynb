{
 "cells": [
  {
   "cell_type": "markdown",
   "metadata": {},
   "source": [
    "# Bayesian Exploration with NaNs\n",
    "\n",
    "As violations of constraints can lead to invalid values of the objective, the evaluate function may simply return NaNs. We demonstrate below how we can still perform Bayesian Exploration in that case."
   ]
  },
  {
   "cell_type": "code",
   "execution_count": 1,
   "metadata": {
    "ExecuteTime": {
     "end_time": "2023-06-14T15:37:25.535638700Z",
     "start_time": "2023-06-14T15:37:22.379218300Z"
    },
    "execution": {
     "iopub.execute_input": "2024-01-30T21:48:01.953906Z",
     "iopub.status.busy": "2024-01-30T21:48:01.953734Z",
     "iopub.status.idle": "2024-01-30T21:48:04.040864Z",
     "shell.execute_reply": "2024-01-30T21:48:04.040248Z"
    }
   },
   "outputs": [],
   "source": [
    "# set values if testing\n",
    "import os\n",
    "SMOKE_TEST = os.environ.get(\"SMOKE_TEST\")\n",
    "NUM_MC_SAMPLES = 1 if SMOKE_TEST else 128\n",
    "NUM_RESTARTS = 1 if SMOKE_TEST else 20\n",
    "\n",
    "# Ignore all warnings\n",
    "import warnings\n",
    "warnings.filterwarnings(\"ignore\")\n",
    "\n",
    "import pandas as pd\n",
    "import torch\n",
    "import yaml\n",
    "from copy import deepcopy\n",
    "from xopt import Xopt, Evaluator\n",
    "from xopt.generators.bayesian import BayesianExplorationGenerator\n",
    "from xopt.resources.test_functions.tnk import evaluate_TNK, tnk_vocs\n",
    "\n",
    "vocs = deepcopy(tnk_vocs)\n",
    "vocs.objectives = {}\n",
    "vocs.observables = [\"y1\"]"
   ]
  },
  {
   "cell_type": "code",
   "execution_count": 2,
   "metadata": {
    "ExecuteTime": {
     "end_time": "2023-06-14T15:37:25.549637200Z",
     "start_time": "2023-06-14T15:37:25.539666500Z"
    },
    "execution": {
     "iopub.execute_input": "2024-01-30T21:48:04.043831Z",
     "iopub.status.busy": "2024-01-30T21:48:04.043400Z",
     "iopub.status.idle": "2024-01-30T21:48:04.047410Z",
     "shell.execute_reply": "2024-01-30T21:48:04.046900Z"
    }
   },
   "outputs": [],
   "source": [
    "# modify the evaluate function to return NaNs if constraints are violated\n",
    "def evaluate(input_dict):\n",
    "    output_dict = evaluate_TNK(input_dict)\n",
    "    del output_dict[\"y2\"]\n",
    "    for c in vocs.constraints.keys():\n",
    "        if vocs.constraints[c][0].upper() == \"GREATER_THAN\" and output_dict[c] <= vocs.constraints[c][1]:\n",
    "            output_dict[\"y1\"] = torch.nan\n",
    "        elif vocs.constraints[c][0].upper() == \"LESS_THAN\" and output_dict[c] >= vocs.constraints[c][1]:\n",
    "            output_dict[\"y1\"] = torch.nan\n",
    "    return output_dict"
   ]
  },
  {
   "cell_type": "code",
   "execution_count": 3,
   "metadata": {
    "ExecuteTime": {
     "end_time": "2023-06-14T15:37:25.580538800Z",
     "start_time": "2023-06-14T15:37:25.552636600Z"
    },
    "execution": {
     "iopub.execute_input": "2024-01-30T21:48:04.049745Z",
     "iopub.status.busy": "2024-01-30T21:48:04.049374Z",
     "iopub.status.idle": "2024-01-30T21:48:04.065475Z",
     "shell.execute_reply": "2024-01-30T21:48:04.064881Z"
    }
   },
   "outputs": [
    {
     "data": {
      "text/plain": [
       "\n",
       "            Xopt\n",
       "________________________________\n",
       "Version: 0+untagged.1.gbadf216\n",
       "Data size: 0\n",
       "Config as YAML:\n",
       "dump_file: null\n",
       "evaluator:\n",
       "  function: __main__.evaluate\n",
       "  function_kwargs: {}\n",
       "  max_workers: 1\n",
       "  vectorized: false\n",
       "generator:\n",
       "  computation_time: null\n",
       "  fixed_features: null\n",
       "  gp_constructor:\n",
       "    covar_modules: {}\n",
       "    mean_modules: {}\n",
       "    name: standard\n",
       "    trainable_mean_keys: []\n",
       "    use_low_noise_prior: true\n",
       "  log_transform_acquisition_function: false\n",
       "  max_travel_distances:\n",
       "  - 0.25\n",
       "  - 0.25\n",
       "  model: null\n",
       "  n_candidates: 1\n",
       "  n_interpolate_points: null\n",
       "  n_monte_carlo_samples: 128\n",
       "  name: bayesian_exploration\n",
       "  numerical_optimizer:\n",
       "    max_iter: 2000\n",
       "    max_time: null\n",
       "    n_restarts: 20\n",
       "    name: LBFGS\n",
       "  supports_batch_generation: true\n",
       "  turbo_controller: null\n",
       "  use_cuda: false\n",
       "max_evaluations: null\n",
       "serialize_inline: false\n",
       "serialize_torch: false\n",
       "strict: true\n",
       "vocs:\n",
       "  constants:\n",
       "    a: dummy_constant\n",
       "  constraints:\n",
       "    c1:\n",
       "    - GREATER_THAN\n",
       "    - 0.0\n",
       "    c2:\n",
       "    - LESS_THAN\n",
       "    - 0.5\n",
       "  objectives: {}\n",
       "  observables:\n",
       "  - y1\n",
       "  variables:\n",
       "    x1:\n",
       "    - 0.0\n",
       "    - 3.14159\n",
       "    x2:\n",
       "    - 0.0\n",
       "    - 3.14159\n"
      ]
     },
     "execution_count": 3,
     "metadata": {},
     "output_type": "execute_result"
    }
   ],
   "source": [
    "generator = BayesianExplorationGenerator(vocs=vocs)\n",
    "generator.max_travel_distances = [0.25, 0.25]\n",
    "generator.n_monte_carlo_samples = NUM_MC_SAMPLES\n",
    "generator.numerical_optimizer.n_restarts = NUM_RESTARTS\n",
    "\n",
    "evaluator = Evaluator(function=evaluate)\n",
    "X = Xopt(generator=generator, evaluator=evaluator, vocs=vocs)\n",
    "X"
   ]
  },
  {
   "cell_type": "markdown",
   "metadata": {},
   "source": [
    "## Run exploration\n",
    "We start with evaluating 2 points that we know satisfy the constraints. We then run\n",
    "30 exploration steps."
   ]
  },
  {
   "cell_type": "code",
   "execution_count": 4,
   "metadata": {
    "ExecuteTime": {
     "end_time": "2023-06-14T15:37:25.638907100Z",
     "start_time": "2023-06-14T15:37:25.582541Z"
    },
    "execution": {
     "iopub.execute_input": "2024-01-30T21:48:04.093652Z",
     "iopub.status.busy": "2024-01-30T21:48:04.093423Z",
     "iopub.status.idle": "2024-01-30T21:48:04.106209Z",
     "shell.execute_reply": "2024-01-30T21:48:04.105644Z"
    }
   },
   "outputs": [
    {
     "data": {
      "text/html": [
       "<div>\n",
       "<style scoped>\n",
       "    .dataframe tbody tr th:only-of-type {\n",
       "        vertical-align: middle;\n",
       "    }\n",
       "\n",
       "    .dataframe tbody tr th {\n",
       "        vertical-align: top;\n",
       "    }\n",
       "\n",
       "    .dataframe thead th {\n",
       "        text-align: right;\n",
       "    }\n",
       "</style>\n",
       "<table border=\"1\" class=\"dataframe\">\n",
       "  <thead>\n",
       "    <tr style=\"text-align: right;\">\n",
       "      <th></th>\n",
       "      <th>x1</th>\n",
       "      <th>x2</th>\n",
       "      <th>a</th>\n",
       "      <th>y1</th>\n",
       "      <th>c1</th>\n",
       "      <th>c2</th>\n",
       "      <th>xopt_runtime</th>\n",
       "      <th>xopt_error</th>\n",
       "    </tr>\n",
       "  </thead>\n",
       "  <tbody>\n",
       "    <tr>\n",
       "      <th>0</th>\n",
       "      <td>1.00</td>\n",
       "      <td>0.70</td>\n",
       "      <td>dummy_constant</td>\n",
       "      <td>1.00</td>\n",
       "      <td>0.584045</td>\n",
       "      <td>0.290</td>\n",
       "      <td>0.000049</td>\n",
       "      <td>False</td>\n",
       "    </tr>\n",
       "    <tr>\n",
       "      <th>1</th>\n",
       "      <td>0.75</td>\n",
       "      <td>0.95</td>\n",
       "      <td>dummy_constant</td>\n",
       "      <td>0.75</td>\n",
       "      <td>0.494833</td>\n",
       "      <td>0.265</td>\n",
       "      <td>0.000016</td>\n",
       "      <td>False</td>\n",
       "    </tr>\n",
       "  </tbody>\n",
       "</table>\n",
       "</div>"
      ],
      "text/plain": [
       "     x1    x2               a    y1        c1     c2  xopt_runtime  xopt_error\n",
       "0  1.00  0.70  dummy_constant  1.00  0.584045  0.290      0.000049       False\n",
       "1  0.75  0.95  dummy_constant  0.75  0.494833  0.265      0.000016       False"
      ]
     },
     "execution_count": 4,
     "metadata": {},
     "output_type": "execute_result"
    }
   ],
   "source": [
    "X.evaluate_data(pd.DataFrame({\"x1\": [1.0, 0.75], \"x2\": [0.7, 0.95]}))"
   ]
  },
  {
   "cell_type": "code",
   "execution_count": 5,
   "metadata": {
    "ExecuteTime": {
     "end_time": "2023-06-14T15:42:05.755461900Z",
     "start_time": "2023-06-14T15:37:25.611873400Z"
    },
    "execution": {
     "iopub.execute_input": "2024-01-30T21:48:04.108485Z",
     "iopub.status.busy": "2024-01-30T21:48:04.108060Z",
     "iopub.status.idle": "2024-01-30T21:49:20.541767Z",
     "shell.execute_reply": "2024-01-30T21:49:20.541107Z"
    },
    "scrolled": false
   },
   "outputs": [
    {
     "name": "stdout",
     "output_type": "stream",
     "text": [
      "step 0\n"
     ]
    },
    {
     "name": "stdout",
     "output_type": "stream",
     "text": [
      "step 1\n"
     ]
    },
    {
     "name": "stdout",
     "output_type": "stream",
     "text": [
      "step 2\n"
     ]
    },
    {
     "name": "stdout",
     "output_type": "stream",
     "text": [
      "step 3\n"
     ]
    },
    {
     "name": "stdout",
     "output_type": "stream",
     "text": [
      "step 4\n"
     ]
    },
    {
     "name": "stdout",
     "output_type": "stream",
     "text": [
      "step 5\n"
     ]
    },
    {
     "name": "stdout",
     "output_type": "stream",
     "text": [
      "step 6\n"
     ]
    },
    {
     "name": "stdout",
     "output_type": "stream",
     "text": [
      "step 7\n"
     ]
    },
    {
     "name": "stdout",
     "output_type": "stream",
     "text": [
      "step 8\n"
     ]
    },
    {
     "name": "stdout",
     "output_type": "stream",
     "text": [
      "step 9\n"
     ]
    },
    {
     "name": "stdout",
     "output_type": "stream",
     "text": [
      "step 10\n"
     ]
    },
    {
     "name": "stdout",
     "output_type": "stream",
     "text": [
      "step 11\n"
     ]
    },
    {
     "name": "stdout",
     "output_type": "stream",
     "text": [
      "step 12\n"
     ]
    },
    {
     "name": "stdout",
     "output_type": "stream",
     "text": [
      "step 13\n"
     ]
    },
    {
     "name": "stdout",
     "output_type": "stream",
     "text": [
      "step 14\n"
     ]
    },
    {
     "name": "stdout",
     "output_type": "stream",
     "text": [
      "step 15\n"
     ]
    },
    {
     "name": "stdout",
     "output_type": "stream",
     "text": [
      "step 16\n"
     ]
    },
    {
     "name": "stdout",
     "output_type": "stream",
     "text": [
      "step 17\n"
     ]
    },
    {
     "name": "stdout",
     "output_type": "stream",
     "text": [
      "step 18\n"
     ]
    },
    {
     "name": "stdout",
     "output_type": "stream",
     "text": [
      "step 19\n"
     ]
    },
    {
     "name": "stdout",
     "output_type": "stream",
     "text": [
      "step 20\n"
     ]
    },
    {
     "name": "stdout",
     "output_type": "stream",
     "text": [
      "step 21\n"
     ]
    },
    {
     "name": "stdout",
     "output_type": "stream",
     "text": [
      "step 22\n"
     ]
    },
    {
     "name": "stdout",
     "output_type": "stream",
     "text": [
      "step 23\n"
     ]
    },
    {
     "name": "stdout",
     "output_type": "stream",
     "text": [
      "step 24\n"
     ]
    },
    {
     "name": "stdout",
     "output_type": "stream",
     "text": [
      "step 25\n"
     ]
    },
    {
     "name": "stdout",
     "output_type": "stream",
     "text": [
      "step 26\n"
     ]
    },
    {
     "name": "stdout",
     "output_type": "stream",
     "text": [
      "step 27\n"
     ]
    },
    {
     "name": "stdout",
     "output_type": "stream",
     "text": [
      "step 28\n"
     ]
    },
    {
     "name": "stdout",
     "output_type": "stream",
     "text": [
      "step 29\n"
     ]
    }
   ],
   "source": [
    "N_STEPS = 1 if SMOKE_TEST else 30\n",
    "for i in range(N_STEPS):\n",
    "    print(f\"step {i}\")\n",
    "    X.step()"
   ]
  },
  {
   "cell_type": "code",
   "execution_count": 6,
   "metadata": {
    "ExecuteTime": {
     "end_time": "2023-06-14T15:42:05.786611100Z",
     "start_time": "2023-06-14T15:42:05.773463300Z"
    },
    "execution": {
     "iopub.execute_input": "2024-01-30T21:49:20.544632Z",
     "iopub.status.busy": "2024-01-30T21:49:20.544428Z",
     "iopub.status.idle": "2024-01-30T21:49:20.555813Z",
     "shell.execute_reply": "2024-01-30T21:49:20.555219Z"
    }
   },
   "outputs": [
    {
     "data": {
      "text/html": [
       "<div>\n",
       "<style scoped>\n",
       "    .dataframe tbody tr th:only-of-type {\n",
       "        vertical-align: middle;\n",
       "    }\n",
       "\n",
       "    .dataframe tbody tr th {\n",
       "        vertical-align: top;\n",
       "    }\n",
       "\n",
       "    .dataframe thead th {\n",
       "        text-align: right;\n",
       "    }\n",
       "</style>\n",
       "<table border=\"1\" class=\"dataframe\">\n",
       "  <thead>\n",
       "    <tr style=\"text-align: right;\">\n",
       "      <th></th>\n",
       "      <th>x1</th>\n",
       "      <th>x2</th>\n",
       "      <th>a</th>\n",
       "      <th>y1</th>\n",
       "      <th>c1</th>\n",
       "      <th>c2</th>\n",
       "      <th>xopt_runtime</th>\n",
       "      <th>xopt_error</th>\n",
       "    </tr>\n",
       "  </thead>\n",
       "  <tbody>\n",
       "    <tr>\n",
       "      <th>0</th>\n",
       "      <td>1.000000</td>\n",
       "      <td>0.700000</td>\n",
       "      <td>dummy_constant</td>\n",
       "      <td>1.000000</td>\n",
       "      <td>0.584045</td>\n",
       "      <td>0.290000</td>\n",
       "      <td>0.000049</td>\n",
       "      <td>False</td>\n",
       "    </tr>\n",
       "    <tr>\n",
       "      <th>1</th>\n",
       "      <td>0.750000</td>\n",
       "      <td>0.950000</td>\n",
       "      <td>dummy_constant</td>\n",
       "      <td>0.750000</td>\n",
       "      <td>0.494833</td>\n",
       "      <td>0.265000</td>\n",
       "      <td>0.000016</td>\n",
       "      <td>False</td>\n",
       "    </tr>\n",
       "    <tr>\n",
       "      <th>2</th>\n",
       "      <td>1.535397</td>\n",
       "      <td>1.735397</td>\n",
       "      <td>dummy_constant</td>\n",
       "      <td>NaN</td>\n",
       "      <td>4.313110</td>\n",
       "      <td>2.598255</td>\n",
       "      <td>0.000022</td>\n",
       "      <td>False</td>\n",
       "    </tr>\n",
       "    <tr>\n",
       "      <th>3</th>\n",
       "      <td>2.320795</td>\n",
       "      <td>0.950000</td>\n",
       "      <td>dummy_constant</td>\n",
       "      <td>NaN</td>\n",
       "      <td>5.188811</td>\n",
       "      <td>3.517794</td>\n",
       "      <td>0.000027</td>\n",
       "      <td>False</td>\n",
       "    </tr>\n",
       "    <tr>\n",
       "      <th>4</th>\n",
       "      <td>1.571775</td>\n",
       "      <td>0.164602</td>\n",
       "      <td>dummy_constant</td>\n",
       "      <td>NaN</td>\n",
       "      <td>1.507425</td>\n",
       "      <td>1.261193</td>\n",
       "      <td>0.000027</td>\n",
       "      <td>False</td>\n",
       "    </tr>\n",
       "    <tr>\n",
       "      <th>5</th>\n",
       "      <td>0.790211</td>\n",
       "      <td>0.000000</td>\n",
       "      <td>dummy_constant</td>\n",
       "      <td>NaN</td>\n",
       "      <td>-0.475566</td>\n",
       "      <td>0.334223</td>\n",
       "      <td>0.000028</td>\n",
       "      <td>False</td>\n",
       "    </tr>\n",
       "    <tr>\n",
       "      <th>6</th>\n",
       "      <td>0.004814</td>\n",
       "      <td>0.785397</td>\n",
       "      <td>dummy_constant</td>\n",
       "      <td>NaN</td>\n",
       "      <td>-0.482647</td>\n",
       "      <td>0.326661</td>\n",
       "      <td>0.000026</td>\n",
       "      <td>False</td>\n",
       "    </tr>\n",
       "    <tr>\n",
       "      <th>7</th>\n",
       "      <td>0.000000</td>\n",
       "      <td>1.570795</td>\n",
       "      <td>dummy_constant</td>\n",
       "      <td>NaN</td>\n",
       "      <td>1.367397</td>\n",
       "      <td>1.396602</td>\n",
       "      <td>0.000027</td>\n",
       "      <td>False</td>\n",
       "    </tr>\n",
       "    <tr>\n",
       "      <th>8</th>\n",
       "      <td>0.408945</td>\n",
       "      <td>1.047525</td>\n",
       "      <td>dummy_constant</td>\n",
       "      <td>0.408945</td>\n",
       "      <td>0.169877</td>\n",
       "      <td>0.308074</td>\n",
       "      <td>0.000027</td>\n",
       "      <td>False</td>\n",
       "    </tr>\n",
       "    <tr>\n",
       "      <th>9</th>\n",
       "      <td>1.068704</td>\n",
       "      <td>0.313482</td>\n",
       "      <td>dummy_constant</td>\n",
       "      <td>1.068704</td>\n",
       "      <td>0.255065</td>\n",
       "      <td>0.358214</td>\n",
       "      <td>0.000027</td>\n",
       "      <td>False</td>\n",
       "    </tr>\n",
       "    <tr>\n",
       "      <th>10</th>\n",
       "      <td>0.799473</td>\n",
       "      <td>0.693854</td>\n",
       "      <td>dummy_constant</td>\n",
       "      <td>0.799473</td>\n",
       "      <td>0.077902</td>\n",
       "      <td>0.127263</td>\n",
       "      <td>0.000026</td>\n",
       "      <td>False</td>\n",
       "    </tr>\n",
       "    <tr>\n",
       "      <th>11</th>\n",
       "      <td>0.651018</td>\n",
       "      <td>1.141887</td>\n",
       "      <td>dummy_constant</td>\n",
       "      <td>0.651018</td>\n",
       "      <td>0.770020</td>\n",
       "      <td>0.434826</td>\n",
       "      <td>0.000026</td>\n",
       "      <td>False</td>\n",
       "    </tr>\n",
       "    <tr>\n",
       "      <th>12</th>\n",
       "      <td>0.929568</td>\n",
       "      <td>0.461144</td>\n",
       "      <td>dummy_constant</td>\n",
       "      <td>0.929568</td>\n",
       "      <td>0.030058</td>\n",
       "      <td>0.186039</td>\n",
       "      <td>0.000027</td>\n",
       "      <td>False</td>\n",
       "    </tr>\n",
       "    <tr>\n",
       "      <th>13</th>\n",
       "      <td>0.998595</td>\n",
       "      <td>0.928720</td>\n",
       "      <td>dummy_constant</td>\n",
       "      <td>0.998595</td>\n",
       "      <td>0.776057</td>\n",
       "      <td>0.432398</td>\n",
       "      <td>0.000027</td>\n",
       "      <td>False</td>\n",
       "    </tr>\n",
       "    <tr>\n",
       "      <th>14</th>\n",
       "      <td>0.219647</td>\n",
       "      <td>1.084843</td>\n",
       "      <td>dummy_constant</td>\n",
       "      <td>0.219647</td>\n",
       "      <td>0.324978</td>\n",
       "      <td>0.420639</td>\n",
       "      <td>0.000027</td>\n",
       "      <td>False</td>\n",
       "    </tr>\n",
       "    <tr>\n",
       "      <th>15</th>\n",
       "      <td>0.659047</td>\n",
       "      <td>1.168258</td>\n",
       "      <td>dummy_constant</td>\n",
       "      <td>0.659047</td>\n",
       "      <td>0.834775</td>\n",
       "      <td>0.471865</td>\n",
       "      <td>0.000026</td>\n",
       "      <td>False</td>\n",
       "    </tr>\n",
       "    <tr>\n",
       "      <th>16</th>\n",
       "      <td>1.144384</td>\n",
       "      <td>0.648714</td>\n",
       "      <td>dummy_constant</td>\n",
       "      <td>1.144384</td>\n",
       "      <td>0.769133</td>\n",
       "      <td>0.437347</td>\n",
       "      <td>0.000049</td>\n",
       "      <td>False</td>\n",
       "    </tr>\n",
       "    <tr>\n",
       "      <th>17</th>\n",
       "      <td>1.077073</td>\n",
       "      <td>0.142183</td>\n",
       "      <td>dummy_constant</td>\n",
       "      <td>1.077073</td>\n",
       "      <td>0.230786</td>\n",
       "      <td>0.461046</td>\n",
       "      <td>0.000027</td>\n",
       "      <td>False</td>\n",
       "    </tr>\n",
       "    <tr>\n",
       "      <th>18</th>\n",
       "      <td>1.177865</td>\n",
       "      <td>0.615085</td>\n",
       "      <td>dummy_constant</td>\n",
       "      <td>1.177865</td>\n",
       "      <td>0.750361</td>\n",
       "      <td>0.472746</td>\n",
       "      <td>0.000026</td>\n",
       "      <td>False</td>\n",
       "    </tr>\n",
       "    <tr>\n",
       "      <th>19</th>\n",
       "      <td>0.979398</td>\n",
       "      <td>0.991225</td>\n",
       "      <td>dummy_constant</td>\n",
       "      <td>0.979398</td>\n",
       "      <td>0.842208</td>\n",
       "      <td>0.471124</td>\n",
       "      <td>0.000027</td>\n",
       "      <td>False</td>\n",
       "    </tr>\n",
       "    <tr>\n",
       "      <th>20</th>\n",
       "      <td>0.194000</td>\n",
       "      <td>1.112393</td>\n",
       "      <td>dummy_constant</td>\n",
       "      <td>0.194000</td>\n",
       "      <td>0.367958</td>\n",
       "      <td>0.468661</td>\n",
       "      <td>0.000027</td>\n",
       "      <td>False</td>\n",
       "    </tr>\n",
       "    <tr>\n",
       "      <th>21</th>\n",
       "      <td>0.562561</td>\n",
       "      <td>0.901182</td>\n",
       "      <td>dummy_constant</td>\n",
       "      <td>0.562561</td>\n",
       "      <td>0.216560</td>\n",
       "      <td>0.164860</td>\n",
       "      <td>0.000027</td>\n",
       "      <td>False</td>\n",
       "    </tr>\n",
       "    <tr>\n",
       "      <th>22</th>\n",
       "      <td>1.070151</td>\n",
       "      <td>0.115784</td>\n",
       "      <td>dummy_constant</td>\n",
       "      <td>1.070151</td>\n",
       "      <td>0.173928</td>\n",
       "      <td>0.472694</td>\n",
       "      <td>0.000026</td>\n",
       "      <td>False</td>\n",
       "    </tr>\n",
       "    <tr>\n",
       "      <th>23</th>\n",
       "      <td>1.189014</td>\n",
       "      <td>0.460838</td>\n",
       "      <td>dummy_constant</td>\n",
       "      <td>1.189014</td>\n",
       "      <td>0.532789</td>\n",
       "      <td>0.476274</td>\n",
       "      <td>0.000027</td>\n",
       "      <td>False</td>\n",
       "    </tr>\n",
       "    <tr>\n",
       "      <th>24</th>\n",
       "      <td>0.489385</td>\n",
       "      <td>1.188135</td>\n",
       "      <td>dummy_constant</td>\n",
       "      <td>0.489385</td>\n",
       "      <td>0.551214</td>\n",
       "      <td>0.473643</td>\n",
       "      <td>0.000028</td>\n",
       "      <td>False</td>\n",
       "    </tr>\n",
       "    <tr>\n",
       "      <th>25</th>\n",
       "      <td>0.077506</td>\n",
       "      <td>1.037747</td>\n",
       "      <td>dummy_constant</td>\n",
       "      <td>0.077506</td>\n",
       "      <td>0.046017</td>\n",
       "      <td>0.467673</td>\n",
       "      <td>0.000026</td>\n",
       "      <td>False</td>\n",
       "    </tr>\n",
       "    <tr>\n",
       "      <th>26</th>\n",
       "      <td>0.862903</td>\n",
       "      <td>1.090090</td>\n",
       "      <td>dummy_constant</td>\n",
       "      <td>0.862903</td>\n",
       "      <td>0.960738</td>\n",
       "      <td>0.479905</td>\n",
       "      <td>0.000027</td>\n",
       "      <td>False</td>\n",
       "    </tr>\n",
       "    <tr>\n",
       "      <th>27</th>\n",
       "      <td>0.643413</td>\n",
       "      <td>0.825099</td>\n",
       "      <td>dummy_constant</td>\n",
       "      <td>0.643413</td>\n",
       "      <td>0.133595</td>\n",
       "      <td>0.126257</td>\n",
       "      <td>0.000028</td>\n",
       "      <td>False</td>\n",
       "    </tr>\n",
       "    <tr>\n",
       "      <th>28</th>\n",
       "      <td>0.437380</td>\n",
       "      <td>1.190748</td>\n",
       "      <td>dummy_constant</td>\n",
       "      <td>0.437380</td>\n",
       "      <td>0.529629</td>\n",
       "      <td>0.481054</td>\n",
       "      <td>0.000027</td>\n",
       "      <td>False</td>\n",
       "    </tr>\n",
       "    <tr>\n",
       "      <th>29</th>\n",
       "      <td>0.061563</td>\n",
       "      <td>1.038892</td>\n",
       "      <td>dummy_constant</td>\n",
       "      <td>0.061563</td>\n",
       "      <td>0.024676</td>\n",
       "      <td>0.482631</td>\n",
       "      <td>0.000026</td>\n",
       "      <td>False</td>\n",
       "    </tr>\n",
       "    <tr>\n",
       "      <th>30</th>\n",
       "      <td>0.846030</td>\n",
       "      <td>0.608351</td>\n",
       "      <td>dummy_constant</td>\n",
       "      <td>0.846030</td>\n",
       "      <td>0.171124</td>\n",
       "      <td>0.131477</td>\n",
       "      <td>0.000026</td>\n",
       "      <td>False</td>\n",
       "    </tr>\n",
       "    <tr>\n",
       "      <th>31</th>\n",
       "      <td>1.042536</td>\n",
       "      <td>0.063551</td>\n",
       "      <td>dummy_constant</td>\n",
       "      <td>1.042536</td>\n",
       "      <td>0.034730</td>\n",
       "      <td>0.484833</td>\n",
       "      <td>0.000027</td>\n",
       "      <td>False</td>\n",
       "    </tr>\n",
       "  </tbody>\n",
       "</table>\n",
       "</div>"
      ],
      "text/plain": [
       "          x1        x2               a        y1        c1        c2  \\\n",
       "0   1.000000  0.700000  dummy_constant  1.000000  0.584045  0.290000   \n",
       "1   0.750000  0.950000  dummy_constant  0.750000  0.494833  0.265000   \n",
       "2   1.535397  1.735397  dummy_constant       NaN  4.313110  2.598255   \n",
       "3   2.320795  0.950000  dummy_constant       NaN  5.188811  3.517794   \n",
       "4   1.571775  0.164602  dummy_constant       NaN  1.507425  1.261193   \n",
       "5   0.790211  0.000000  dummy_constant       NaN -0.475566  0.334223   \n",
       "6   0.004814  0.785397  dummy_constant       NaN -0.482647  0.326661   \n",
       "7   0.000000  1.570795  dummy_constant       NaN  1.367397  1.396602   \n",
       "8   0.408945  1.047525  dummy_constant  0.408945  0.169877  0.308074   \n",
       "9   1.068704  0.313482  dummy_constant  1.068704  0.255065  0.358214   \n",
       "10  0.799473  0.693854  dummy_constant  0.799473  0.077902  0.127263   \n",
       "11  0.651018  1.141887  dummy_constant  0.651018  0.770020  0.434826   \n",
       "12  0.929568  0.461144  dummy_constant  0.929568  0.030058  0.186039   \n",
       "13  0.998595  0.928720  dummy_constant  0.998595  0.776057  0.432398   \n",
       "14  0.219647  1.084843  dummy_constant  0.219647  0.324978  0.420639   \n",
       "15  0.659047  1.168258  dummy_constant  0.659047  0.834775  0.471865   \n",
       "16  1.144384  0.648714  dummy_constant  1.144384  0.769133  0.437347   \n",
       "17  1.077073  0.142183  dummy_constant  1.077073  0.230786  0.461046   \n",
       "18  1.177865  0.615085  dummy_constant  1.177865  0.750361  0.472746   \n",
       "19  0.979398  0.991225  dummy_constant  0.979398  0.842208  0.471124   \n",
       "20  0.194000  1.112393  dummy_constant  0.194000  0.367958  0.468661   \n",
       "21  0.562561  0.901182  dummy_constant  0.562561  0.216560  0.164860   \n",
       "22  1.070151  0.115784  dummy_constant  1.070151  0.173928  0.472694   \n",
       "23  1.189014  0.460838  dummy_constant  1.189014  0.532789  0.476274   \n",
       "24  0.489385  1.188135  dummy_constant  0.489385  0.551214  0.473643   \n",
       "25  0.077506  1.037747  dummy_constant  0.077506  0.046017  0.467673   \n",
       "26  0.862903  1.090090  dummy_constant  0.862903  0.960738  0.479905   \n",
       "27  0.643413  0.825099  dummy_constant  0.643413  0.133595  0.126257   \n",
       "28  0.437380  1.190748  dummy_constant  0.437380  0.529629  0.481054   \n",
       "29  0.061563  1.038892  dummy_constant  0.061563  0.024676  0.482631   \n",
       "30  0.846030  0.608351  dummy_constant  0.846030  0.171124  0.131477   \n",
       "31  1.042536  0.063551  dummy_constant  1.042536  0.034730  0.484833   \n",
       "\n",
       "    xopt_runtime  xopt_error  \n",
       "0       0.000049       False  \n",
       "1       0.000016       False  \n",
       "2       0.000022       False  \n",
       "3       0.000027       False  \n",
       "4       0.000027       False  \n",
       "5       0.000028       False  \n",
       "6       0.000026       False  \n",
       "7       0.000027       False  \n",
       "8       0.000027       False  \n",
       "9       0.000027       False  \n",
       "10      0.000026       False  \n",
       "11      0.000026       False  \n",
       "12      0.000027       False  \n",
       "13      0.000027       False  \n",
       "14      0.000027       False  \n",
       "15      0.000026       False  \n",
       "16      0.000049       False  \n",
       "17      0.000027       False  \n",
       "18      0.000026       False  \n",
       "19      0.000027       False  \n",
       "20      0.000027       False  \n",
       "21      0.000027       False  \n",
       "22      0.000026       False  \n",
       "23      0.000027       False  \n",
       "24      0.000028       False  \n",
       "25      0.000026       False  \n",
       "26      0.000027       False  \n",
       "27      0.000028       False  \n",
       "28      0.000027       False  \n",
       "29      0.000026       False  \n",
       "30      0.000026       False  \n",
       "31      0.000027       False  "
      ]
     },
     "execution_count": 6,
     "metadata": {},
     "output_type": "execute_result"
    }
   ],
   "source": [
    "# view the data\n",
    "X.data"
   ]
  },
  {
   "cell_type": "code",
   "execution_count": 7,
   "metadata": {
    "ExecuteTime": {
     "end_time": "2023-06-14T15:42:06.400652600Z",
     "start_time": "2023-06-14T15:42:05.787612700Z"
    },
    "execution": {
     "iopub.execute_input": "2024-01-30T21:49:20.558076Z",
     "iopub.status.busy": "2024-01-30T21:49:20.557893Z",
     "iopub.status.idle": "2024-01-30T21:49:20.922701Z",
     "shell.execute_reply": "2024-01-30T21:49:20.922100Z"
    }
   },
   "outputs": [
    {
     "data": {
      "image/png": "[encoded data removed]",
      "text/plain": [
       "<Figure size 640x480 with 1 Axes>"
      ]
     },
     "metadata": {},
     "output_type": "display_data"
    }
   ],
   "source": [
    "# plot results\n",
    "ax = X.data.plot(\"x1\", \"x2\")\n",
    "ax.set_aspect(\"equal\")"
   ]
  },
  {
   "cell_type": "code",
   "execution_count": 7,
   "metadata": {
    "ExecuteTime": {
     "end_time": "2023-06-14T15:42:06.419648600Z",
     "start_time": "2023-06-14T15:42:06.401622Z"
    }
   },
   "outputs": [],
   "source": []
  }
 ],
 "metadata": {
  "kernelspec": {
   "display_name": "Python 3 (ipykernel)",
   "language": "python",
   "name": "python3"
  },
  "language_info": {
   "codemirror_mode": {
    "name": "ipython",
    "version": 3
   },
   "file_extension": ".py",
   "mimetype": "text/x-python",
   "name": "python",
   "nbconvert_exporter": "python",
   "pygments_lexer": "ipython3",
   "version": "3.9.18"
  }
 },
 "nbformat": 4,
 "nbformat_minor": 4
}
