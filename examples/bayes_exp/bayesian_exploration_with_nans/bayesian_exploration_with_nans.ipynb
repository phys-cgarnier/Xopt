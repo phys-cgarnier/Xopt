{
 "cells": [
  {
   "cell_type": "markdown",
   "metadata": {},
   "source": [
    "# Bayesian Exploration with NaNs\n",
    "\n",
    "As violations of constraints can lead to invalid values of the objective, the evaluate function may simply return NaNs. We demonstrate below how we can still perform Bayesian Exploration in that case."
   ]
  },
  {
   "cell_type": "code",
   "execution_count": 1,
   "metadata": {
    "ExecuteTime": {
     "end_time": "2023-06-14T15:37:25.535638700Z",
     "start_time": "2023-06-14T15:37:22.379218300Z"
    },
    "execution": {
     "iopub.execute_input": "2024-04-15T17:43:08.590308Z",
     "iopub.status.busy": "2024-04-15T17:43:08.590129Z",
     "iopub.status.idle": "2024-04-15T17:43:10.858805Z",
     "shell.execute_reply": "2024-04-15T17:43:10.858199Z"
    }
   },
   "outputs": [],
   "source": [
    "# set values if testing\n",
    "import os\n",
    "SMOKE_TEST = os.environ.get(\"SMOKE_TEST\")\n",
    "NUM_MC_SAMPLES = 1 if SMOKE_TEST else 128\n",
    "NUM_RESTARTS = 1 if SMOKE_TEST else 20\n",
    "\n",
    "# Ignore all warnings\n",
    "import warnings\n",
    "warnings.filterwarnings(\"ignore\")\n",
    "\n",
    "import pandas as pd\n",
    "import torch\n",
    "import yaml\n",
    "from copy import deepcopy\n",
    "from xopt import Xopt, Evaluator\n",
    "from xopt.generators.bayesian import BayesianExplorationGenerator\n",
    "from xopt.resources.test_functions.tnk import evaluate_TNK, tnk_vocs\n",
    "\n",
    "vocs = deepcopy(tnk_vocs)\n",
    "vocs.objectives = {}\n",
    "vocs.observables = [\"y1\"]"
   ]
  },
  {
   "cell_type": "code",
   "execution_count": 2,
   "metadata": {
    "ExecuteTime": {
     "end_time": "2023-06-14T15:37:25.549637200Z",
     "start_time": "2023-06-14T15:37:25.539666500Z"
    },
    "execution": {
     "iopub.execute_input": "2024-04-15T17:43:10.861686Z",
     "iopub.status.busy": "2024-04-15T17:43:10.861218Z",
     "iopub.status.idle": "2024-04-15T17:43:10.865306Z",
     "shell.execute_reply": "2024-04-15T17:43:10.864827Z"
    }
   },
   "outputs": [],
   "source": [
    "# modify the evaluate function to return NaNs if constraints are violated\n",
    "def evaluate(input_dict):\n",
    "    output_dict = evaluate_TNK(input_dict)\n",
    "    del output_dict[\"y2\"]\n",
    "    for c in vocs.constraints.keys():\n",
    "        if vocs.constraints[c][0].upper() == \"GREATER_THAN\" and output_dict[c] <= vocs.constraints[c][1]:\n",
    "            output_dict[\"y1\"] = torch.nan\n",
    "        elif vocs.constraints[c][0].upper() == \"LESS_THAN\" and output_dict[c] >= vocs.constraints[c][1]:\n",
    "            output_dict[\"y1\"] = torch.nan\n",
    "    return output_dict"
   ]
  },
  {
   "cell_type": "code",
   "execution_count": 3,
   "metadata": {
    "ExecuteTime": {
     "end_time": "2023-06-14T15:37:25.580538800Z",
     "start_time": "2023-06-14T15:37:25.552636600Z"
    },
    "execution": {
     "iopub.execute_input": "2024-04-15T17:43:10.867301Z",
     "iopub.status.busy": "2024-04-15T17:43:10.867121Z",
     "iopub.status.idle": "2024-04-15T17:43:10.883293Z",
     "shell.execute_reply": "2024-04-15T17:43:10.882712Z"
    }
   },
   "outputs": [
    {
     "data": {
      "text/plain": [
       "\n",
       "            Xopt\n",
       "________________________________\n",
       "Version: 0+untagged.1.gcd2278f\n",
       "Data size: 0\n",
       "Config as YAML:\n",
       "dump_file: null\n",
       "evaluator:\n",
       "  function: __main__.evaluate\n",
       "  function_kwargs: {}\n",
       "  max_workers: 1\n",
       "  vectorized: false\n",
       "generator:\n",
       "  computation_time: null\n",
       "  fixed_features: null\n",
       "  gp_constructor:\n",
       "    covar_modules: {}\n",
       "    custom_noise_prior: null\n",
       "    mean_modules: {}\n",
       "    name: standard\n",
       "    trainable_mean_keys: []\n",
       "    transform_inputs: true\n",
       "    use_low_noise_prior: true\n",
       "  log_transform_acquisition_function: false\n",
       "  max_travel_distances:\n",
       "  - 0.25\n",
       "  - 0.25\n",
       "  model: null\n",
       "  n_candidates: 1\n",
       "  n_interpolate_points: null\n",
       "  n_monte_carlo_samples: 128\n",
       "  name: bayesian_exploration\n",
       "  numerical_optimizer:\n",
       "    max_iter: 2000\n",
       "    max_time: null\n",
       "    n_restarts: 20\n",
       "    name: LBFGS\n",
       "  supports_batch_generation: true\n",
       "  turbo_controller: null\n",
       "  use_cuda: false\n",
       "max_evaluations: null\n",
       "serialize_inline: false\n",
       "serialize_torch: false\n",
       "strict: true\n",
       "vocs:\n",
       "  constants:\n",
       "    a: dummy_constant\n",
       "  constraints:\n",
       "    c1:\n",
       "    - GREATER_THAN\n",
       "    - 0.0\n",
       "    c2:\n",
       "    - LESS_THAN\n",
       "    - 0.5\n",
       "  objectives: {}\n",
       "  observables:\n",
       "  - y1\n",
       "  variables:\n",
       "    x1:\n",
       "    - 0.0\n",
       "    - 3.14159\n",
       "    x2:\n",
       "    - 0.0\n",
       "    - 3.14159\n"
      ]
     },
     "execution_count": 3,
     "metadata": {},
     "output_type": "execute_result"
    }
   ],
   "source": [
    "generator = BayesianExplorationGenerator(vocs=vocs)\n",
    "generator.max_travel_distances = [0.25, 0.25]\n",
    "generator.n_monte_carlo_samples = NUM_MC_SAMPLES\n",
    "generator.numerical_optimizer.n_restarts = NUM_RESTARTS\n",
    "\n",
    "evaluator = Evaluator(function=evaluate)\n",
    "X = Xopt(generator=generator, evaluator=evaluator, vocs=vocs)\n",
    "X"
   ]
  },
  {
   "cell_type": "markdown",
   "metadata": {},
   "source": [
    "## Run exploration\n",
    "We start with evaluating 2 points that we know satisfy the constraints. We then run\n",
    "30 exploration steps."
   ]
  },
  {
   "cell_type": "code",
   "execution_count": 4,
   "metadata": {
    "ExecuteTime": {
     "end_time": "2023-06-14T15:37:25.638907100Z",
     "start_time": "2023-06-14T15:37:25.582541Z"
    },
    "execution": {
     "iopub.execute_input": "2024-04-15T17:43:10.913113Z",
     "iopub.status.busy": "2024-04-15T17:43:10.912628Z",
     "iopub.status.idle": "2024-04-15T17:43:10.925481Z",
     "shell.execute_reply": "2024-04-15T17:43:10.924893Z"
    }
   },
   "outputs": [
    {
     "data": {
      "text/html": [
       "<div>\n",
       "<style scoped>\n",
       "    .dataframe tbody tr th:only-of-type {\n",
       "        vertical-align: middle;\n",
       "    }\n",
       "\n",
       "    .dataframe tbody tr th {\n",
       "        vertical-align: top;\n",
       "    }\n",
       "\n",
       "    .dataframe thead th {\n",
       "        text-align: right;\n",
       "    }\n",
       "</style>\n",
       "<table border=\"1\" class=\"dataframe\">\n",
       "  <thead>\n",
       "    <tr style=\"text-align: right;\">\n",
       "      <th></th>\n",
       "      <th>x1</th>\n",
       "      <th>x2</th>\n",
       "      <th>a</th>\n",
       "      <th>y1</th>\n",
       "      <th>c1</th>\n",
       "      <th>c2</th>\n",
       "      <th>xopt_runtime</th>\n",
       "      <th>xopt_error</th>\n",
       "    </tr>\n",
       "  </thead>\n",
       "  <tbody>\n",
       "    <tr>\n",
       "      <th>0</th>\n",
       "      <td>1.00</td>\n",
       "      <td>0.70</td>\n",
       "      <td>dummy_constant</td>\n",
       "      <td>1.00</td>\n",
       "      <td>0.584045</td>\n",
       "      <td>0.290</td>\n",
       "      <td>0.000054</td>\n",
       "      <td>False</td>\n",
       "    </tr>\n",
       "    <tr>\n",
       "      <th>1</th>\n",
       "      <td>0.75</td>\n",
       "      <td>0.95</td>\n",
       "      <td>dummy_constant</td>\n",
       "      <td>0.75</td>\n",
       "      <td>0.494833</td>\n",
       "      <td>0.265</td>\n",
       "      <td>0.000016</td>\n",
       "      <td>False</td>\n",
       "    </tr>\n",
       "  </tbody>\n",
       "</table>\n",
       "</div>"
      ],
      "text/plain": [
       "     x1    x2               a    y1        c1     c2  xopt_runtime  xopt_error\n",
       "0  1.00  0.70  dummy_constant  1.00  0.584045  0.290      0.000054       False\n",
       "1  0.75  0.95  dummy_constant  0.75  0.494833  0.265      0.000016       False"
      ]
     },
     "execution_count": 4,
     "metadata": {},
     "output_type": "execute_result"
    }
   ],
   "source": [
    "X.evaluate_data(pd.DataFrame({\"x1\": [1.0, 0.75], \"x2\": [0.7, 0.95]}))"
   ]
  },
  {
   "cell_type": "code",
   "execution_count": 5,
   "metadata": {
    "ExecuteTime": {
     "end_time": "2023-06-14T15:42:05.755461900Z",
     "start_time": "2023-06-14T15:37:25.611873400Z"
    },
    "execution": {
     "iopub.execute_input": "2024-04-15T17:43:10.927909Z",
     "iopub.status.busy": "2024-04-15T17:43:10.927480Z",
     "iopub.status.idle": "2024-04-15T17:44:26.526087Z",
     "shell.execute_reply": "2024-04-15T17:44:26.525475Z"
    },
    "scrolled": false
   },
   "outputs": [
    {
     "name": "stdout",
     "output_type": "stream",
     "text": [
      "step 0\n"
     ]
    },
    {
     "name": "stdout",
     "output_type": "stream",
     "text": [
      "step 1\n"
     ]
    },
    {
     "name": "stdout",
     "output_type": "stream",
     "text": [
      "step 2\n"
     ]
    },
    {
     "name": "stdout",
     "output_type": "stream",
     "text": [
      "step 3\n"
     ]
    },
    {
     "name": "stdout",
     "output_type": "stream",
     "text": [
      "step 4\n"
     ]
    },
    {
     "name": "stdout",
     "output_type": "stream",
     "text": [
      "step 5\n"
     ]
    },
    {
     "name": "stdout",
     "output_type": "stream",
     "text": [
      "step 6\n"
     ]
    },
    {
     "name": "stdout",
     "output_type": "stream",
     "text": [
      "step 7\n"
     ]
    },
    {
     "name": "stdout",
     "output_type": "stream",
     "text": [
      "step 8\n"
     ]
    },
    {
     "name": "stdout",
     "output_type": "stream",
     "text": [
      "step 9\n"
     ]
    },
    {
     "name": "stdout",
     "output_type": "stream",
     "text": [
      "step 10\n"
     ]
    },
    {
     "name": "stdout",
     "output_type": "stream",
     "text": [
      "step 11\n"
     ]
    },
    {
     "name": "stdout",
     "output_type": "stream",
     "text": [
      "step 12\n"
     ]
    },
    {
     "name": "stdout",
     "output_type": "stream",
     "text": [
      "step 13\n"
     ]
    },
    {
     "name": "stdout",
     "output_type": "stream",
     "text": [
      "step 14\n"
     ]
    },
    {
     "name": "stdout",
     "output_type": "stream",
     "text": [
      "step 15\n"
     ]
    },
    {
     "name": "stdout",
     "output_type": "stream",
     "text": [
      "step 16\n"
     ]
    },
    {
     "name": "stdout",
     "output_type": "stream",
     "text": [
      "step 17\n"
     ]
    },
    {
     "name": "stdout",
     "output_type": "stream",
     "text": [
      "step 18\n"
     ]
    },
    {
     "name": "stdout",
     "output_type": "stream",
     "text": [
      "step 19\n"
     ]
    },
    {
     "name": "stdout",
     "output_type": "stream",
     "text": [
      "step 20\n"
     ]
    },
    {
     "name": "stdout",
     "output_type": "stream",
     "text": [
      "step 21\n"
     ]
    },
    {
     "name": "stdout",
     "output_type": "stream",
     "text": [
      "step 22\n"
     ]
    },
    {
     "name": "stdout",
     "output_type": "stream",
     "text": [
      "step 23\n"
     ]
    },
    {
     "name": "stdout",
     "output_type": "stream",
     "text": [
      "step 24\n"
     ]
    },
    {
     "name": "stdout",
     "output_type": "stream",
     "text": [
      "step 25\n"
     ]
    },
    {
     "name": "stdout",
     "output_type": "stream",
     "text": [
      "step 26\n"
     ]
    },
    {
     "name": "stdout",
     "output_type": "stream",
     "text": [
      "step 27\n"
     ]
    },
    {
     "name": "stdout",
     "output_type": "stream",
     "text": [
      "step 28\n"
     ]
    },
    {
     "name": "stdout",
     "output_type": "stream",
     "text": [
      "step 29\n"
     ]
    }
   ],
   "source": [
    "N_STEPS = 1 if SMOKE_TEST else 30\n",
    "for i in range(N_STEPS):\n",
    "    print(f\"step {i}\")\n",
    "    X.step()"
   ]
  },
  {
   "cell_type": "code",
   "execution_count": 6,
   "metadata": {
    "ExecuteTime": {
     "end_time": "2023-06-14T15:42:05.786611100Z",
     "start_time": "2023-06-14T15:42:05.773463300Z"
    },
    "execution": {
     "iopub.execute_input": "2024-04-15T17:44:26.529140Z",
     "iopub.status.busy": "2024-04-15T17:44:26.528718Z",
     "iopub.status.idle": "2024-04-15T17:44:26.541474Z",
     "shell.execute_reply": "2024-04-15T17:44:26.540761Z"
    }
   },
   "outputs": [
    {
     "data": {
      "text/html": [
       "<div>\n",
       "<style scoped>\n",
       "    .dataframe tbody tr th:only-of-type {\n",
       "        vertical-align: middle;\n",
       "    }\n",
       "\n",
       "    .dataframe tbody tr th {\n",
       "        vertical-align: top;\n",
       "    }\n",
       "\n",
       "    .dataframe thead th {\n",
       "        text-align: right;\n",
       "    }\n",
       "</style>\n",
       "<table border=\"1\" class=\"dataframe\">\n",
       "  <thead>\n",
       "    <tr style=\"text-align: right;\">\n",
       "      <th></th>\n",
       "      <th>x1</th>\n",
       "      <th>x2</th>\n",
       "      <th>a</th>\n",
       "      <th>y1</th>\n",
       "      <th>c1</th>\n",
       "      <th>c2</th>\n",
       "      <th>xopt_runtime</th>\n",
       "      <th>xopt_error</th>\n",
       "    </tr>\n",
       "  </thead>\n",
       "  <tbody>\n",
       "    <tr>\n",
       "      <th>0</th>\n",
       "      <td>1.000000</td>\n",
       "      <td>0.700000</td>\n",
       "      <td>dummy_constant</td>\n",
       "      <td>1.000000</td>\n",
       "      <td>0.584045</td>\n",
       "      <td>0.290000</td>\n",
       "      <td>0.000054</td>\n",
       "      <td>False</td>\n",
       "    </tr>\n",
       "    <tr>\n",
       "      <th>1</th>\n",
       "      <td>0.750000</td>\n",
       "      <td>0.950000</td>\n",
       "      <td>dummy_constant</td>\n",
       "      <td>0.750000</td>\n",
       "      <td>0.494833</td>\n",
       "      <td>0.265000</td>\n",
       "      <td>0.000016</td>\n",
       "      <td>False</td>\n",
       "    </tr>\n",
       "    <tr>\n",
       "      <th>2</th>\n",
       "      <td>1.535397</td>\n",
       "      <td>1.735397</td>\n",
       "      <td>dummy_constant</td>\n",
       "      <td>NaN</td>\n",
       "      <td>4.313110</td>\n",
       "      <td>2.598255</td>\n",
       "      <td>0.000030</td>\n",
       "      <td>False</td>\n",
       "    </tr>\n",
       "    <tr>\n",
       "      <th>3</th>\n",
       "      <td>2.320795</td>\n",
       "      <td>0.950000</td>\n",
       "      <td>dummy_constant</td>\n",
       "      <td>NaN</td>\n",
       "      <td>5.188811</td>\n",
       "      <td>3.517794</td>\n",
       "      <td>0.000032</td>\n",
       "      <td>False</td>\n",
       "    </tr>\n",
       "    <tr>\n",
       "      <th>4</th>\n",
       "      <td>1.535397</td>\n",
       "      <td>0.164602</td>\n",
       "      <td>dummy_constant</td>\n",
       "      <td>NaN</td>\n",
       "      <td>1.398292</td>\n",
       "      <td>1.184539</td>\n",
       "      <td>0.000031</td>\n",
       "      <td>False</td>\n",
       "    </tr>\n",
       "    <tr>\n",
       "      <th>5</th>\n",
       "      <td>0.750000</td>\n",
       "      <td>0.000000</td>\n",
       "      <td>dummy_constant</td>\n",
       "      <td>NaN</td>\n",
       "      <td>-0.537500</td>\n",
       "      <td>0.312500</td>\n",
       "      <td>0.000030</td>\n",
       "      <td>False</td>\n",
       "    </tr>\n",
       "    <tr>\n",
       "      <th>6</th>\n",
       "      <td>0.000000</td>\n",
       "      <td>0.758508</td>\n",
       "      <td>dummy_constant</td>\n",
       "      <td>NaN</td>\n",
       "      <td>-0.524666</td>\n",
       "      <td>0.316826</td>\n",
       "      <td>0.000033</td>\n",
       "      <td>False</td>\n",
       "    </tr>\n",
       "    <tr>\n",
       "      <th>7</th>\n",
       "      <td>0.000000</td>\n",
       "      <td>1.535824</td>\n",
       "      <td>dummy_constant</td>\n",
       "      <td>NaN</td>\n",
       "      <td>1.258754</td>\n",
       "      <td>1.322930</td>\n",
       "      <td>0.000031</td>\n",
       "      <td>False</td>\n",
       "    </tr>\n",
       "    <tr>\n",
       "      <th>8</th>\n",
       "      <td>0.425974</td>\n",
       "      <td>1.041804</td>\n",
       "      <td>dummy_constant</td>\n",
       "      <td>0.425974</td>\n",
       "      <td>0.167074</td>\n",
       "      <td>0.299031</td>\n",
       "      <td>0.000032</td>\n",
       "      <td>False</td>\n",
       "    </tr>\n",
       "    <tr>\n",
       "      <th>9</th>\n",
       "      <td>1.063640</td>\n",
       "      <td>0.289245</td>\n",
       "      <td>dummy_constant</td>\n",
       "      <td>1.063640</td>\n",
       "      <td>0.259754</td>\n",
       "      <td>0.362107</td>\n",
       "      <td>0.000035</td>\n",
       "      <td>False</td>\n",
       "    </tr>\n",
       "    <tr>\n",
       "      <th>10</th>\n",
       "      <td>0.803772</td>\n",
       "      <td>0.686393</td>\n",
       "      <td>dummy_constant</td>\n",
       "      <td>0.803772</td>\n",
       "      <td>0.086385</td>\n",
       "      <td>0.127020</td>\n",
       "      <td>0.000032</td>\n",
       "      <td>False</td>\n",
       "    </tr>\n",
       "    <tr>\n",
       "      <th>11</th>\n",
       "      <td>0.648704</td>\n",
       "      <td>1.139836</td>\n",
       "      <td>dummy_constant</td>\n",
       "      <td>0.648704</td>\n",
       "      <td>0.761228</td>\n",
       "      <td>0.431502</td>\n",
       "      <td>0.000031</td>\n",
       "      <td>False</td>\n",
       "    </tr>\n",
       "    <tr>\n",
       "      <th>12</th>\n",
       "      <td>0.199124</td>\n",
       "      <td>1.077267</td>\n",
       "      <td>dummy_constant</td>\n",
       "      <td>0.199124</td>\n",
       "      <td>0.297807</td>\n",
       "      <td>0.423764</td>\n",
       "      <td>0.000031</td>\n",
       "      <td>False</td>\n",
       "    </tr>\n",
       "    <tr>\n",
       "      <th>13</th>\n",
       "      <td>0.984522</td>\n",
       "      <td>0.944582</td>\n",
       "      <td>dummy_constant</td>\n",
       "      <td>0.984522</td>\n",
       "      <td>0.766954</td>\n",
       "      <td>0.432415</td>\n",
       "      <td>0.000031</td>\n",
       "      <td>False</td>\n",
       "    </tr>\n",
       "    <tr>\n",
       "      <th>14</th>\n",
       "      <td>1.146217</td>\n",
       "      <td>0.618890</td>\n",
       "      <td>dummy_constant</td>\n",
       "      <td>1.146217</td>\n",
       "      <td>0.703575</td>\n",
       "      <td>0.431731</td>\n",
       "      <td>0.000031</td>\n",
       "      <td>False</td>\n",
       "    </tr>\n",
       "    <tr>\n",
       "      <th>15</th>\n",
       "      <td>1.066483</td>\n",
       "      <td>0.132382</td>\n",
       "      <td>dummy_constant</td>\n",
       "      <td>1.066483</td>\n",
       "      <td>0.194328</td>\n",
       "      <td>0.456046</td>\n",
       "      <td>0.000030</td>\n",
       "      <td>False</td>\n",
       "    </tr>\n",
       "    <tr>\n",
       "      <th>16</th>\n",
       "      <td>1.043482</td>\n",
       "      <td>0.917780</td>\n",
       "      <td>dummy_constant</td>\n",
       "      <td>1.043482</td>\n",
       "      <td>0.879187</td>\n",
       "      <td>0.469913</td>\n",
       "      <td>0.000031</td>\n",
       "      <td>False</td>\n",
       "    </tr>\n",
       "    <tr>\n",
       "      <th>17</th>\n",
       "      <td>0.599885</td>\n",
       "      <td>1.179522</td>\n",
       "      <td>dummy_constant</td>\n",
       "      <td>0.599885</td>\n",
       "      <td>0.719096</td>\n",
       "      <td>0.471727</td>\n",
       "      <td>0.000032</td>\n",
       "      <td>False</td>\n",
       "    </tr>\n",
       "    <tr>\n",
       "      <th>18</th>\n",
       "      <td>0.092902</td>\n",
       "      <td>1.046334</td>\n",
       "      <td>dummy_constant</td>\n",
       "      <td>0.092902</td>\n",
       "      <td>0.088116</td>\n",
       "      <td>0.464209</td>\n",
       "      <td>0.000032</td>\n",
       "      <td>False</td>\n",
       "    </tr>\n",
       "    <tr>\n",
       "      <th>19</th>\n",
       "      <td>0.604747</td>\n",
       "      <td>0.873810</td>\n",
       "      <td>dummy_constant</td>\n",
       "      <td>0.604747</td>\n",
       "      <td>0.225863</td>\n",
       "      <td>0.150706</td>\n",
       "      <td>0.000029</td>\n",
       "      <td>False</td>\n",
       "    </tr>\n",
       "    <tr>\n",
       "      <th>20</th>\n",
       "      <td>1.052788</td>\n",
       "      <td>0.088412</td>\n",
       "      <td>dummy_constant</td>\n",
       "      <td>1.052788</td>\n",
       "      <td>0.093354</td>\n",
       "      <td>0.474979</td>\n",
       "      <td>0.000032</td>\n",
       "      <td>False</td>\n",
       "    </tr>\n",
       "    <tr>\n",
       "      <th>21</th>\n",
       "      <td>1.183836</td>\n",
       "      <td>0.530648</td>\n",
       "      <td>dummy_constant</td>\n",
       "      <td>1.183836</td>\n",
       "      <td>0.593410</td>\n",
       "      <td>0.468571</td>\n",
       "      <td>0.000037</td>\n",
       "      <td>False</td>\n",
       "    </tr>\n",
       "    <tr>\n",
       "      <th>22</th>\n",
       "      <td>0.914347</td>\n",
       "      <td>0.494899</td>\n",
       "      <td>dummy_constant</td>\n",
       "      <td>0.914347</td>\n",
       "      <td>0.089320</td>\n",
       "      <td>0.171710</td>\n",
       "      <td>0.000033</td>\n",
       "      <td>False</td>\n",
       "    </tr>\n",
       "    <tr>\n",
       "      <th>23</th>\n",
       "      <td>0.393013</td>\n",
       "      <td>1.177864</td>\n",
       "      <td>dummy_constant</td>\n",
       "      <td>0.393013</td>\n",
       "      <td>0.499191</td>\n",
       "      <td>0.470945</td>\n",
       "      <td>0.000033</td>\n",
       "      <td>False</td>\n",
       "    </tr>\n",
       "    <tr>\n",
       "      <th>24</th>\n",
       "      <td>0.841355</td>\n",
       "      <td>1.099229</td>\n",
       "      <td>dummy_constant</td>\n",
       "      <td>0.841355</td>\n",
       "      <td>0.967851</td>\n",
       "      <td>0.475599</td>\n",
       "      <td>0.000030</td>\n",
       "      <td>False</td>\n",
       "    </tr>\n",
       "    <tr>\n",
       "      <th>25</th>\n",
       "      <td>1.155276</td>\n",
       "      <td>0.718606</td>\n",
       "      <td>dummy_constant</td>\n",
       "      <td>1.155276</td>\n",
       "      <td>0.937764</td>\n",
       "      <td>0.477176</td>\n",
       "      <td>0.000039</td>\n",
       "      <td>False</td>\n",
       "    </tr>\n",
       "    <tr>\n",
       "      <th>26</th>\n",
       "      <td>0.569316</td>\n",
       "      <td>0.863425</td>\n",
       "      <td>dummy_constant</td>\n",
       "      <td>0.569316</td>\n",
       "      <td>0.169145</td>\n",
       "      <td>0.136882</td>\n",
       "      <td>0.000031</td>\n",
       "      <td>False</td>\n",
       "    </tr>\n",
       "    <tr>\n",
       "      <th>27</th>\n",
       "      <td>0.440021</td>\n",
       "      <td>1.192145</td>\n",
       "      <td>dummy_constant</td>\n",
       "      <td>0.440021</td>\n",
       "      <td>0.533779</td>\n",
       "      <td>0.482663</td>\n",
       "      <td>0.000030</td>\n",
       "      <td>False</td>\n",
       "    </tr>\n",
       "    <tr>\n",
       "      <th>28</th>\n",
       "      <td>0.069077</td>\n",
       "      <td>1.043954</td>\n",
       "      <td>dummy_constant</td>\n",
       "      <td>0.069077</td>\n",
       "      <td>0.045477</td>\n",
       "      <td>0.481581</td>\n",
       "      <td>0.000030</td>\n",
       "      <td>False</td>\n",
       "    </tr>\n",
       "    <tr>\n",
       "      <th>29</th>\n",
       "      <td>0.854474</td>\n",
       "      <td>1.097111</td>\n",
       "      <td>dummy_constant</td>\n",
       "      <td>0.854474</td>\n",
       "      <td>0.973485</td>\n",
       "      <td>0.482194</td>\n",
       "      <td>0.000029</td>\n",
       "      <td>False</td>\n",
       "    </tr>\n",
       "    <tr>\n",
       "      <th>30</th>\n",
       "      <td>1.183972</td>\n",
       "      <td>0.394904</td>\n",
       "      <td>dummy_constant</td>\n",
       "      <td>1.183972</td>\n",
       "      <td>0.515270</td>\n",
       "      <td>0.478863</td>\n",
       "      <td>0.000029</td>\n",
       "      <td>False</td>\n",
       "    </tr>\n",
       "    <tr>\n",
       "      <th>31</th>\n",
       "      <td>1.046000</td>\n",
       "      <td>0.066116</td>\n",
       "      <td>dummy_constant</td>\n",
       "      <td>1.046000</td>\n",
       "      <td>0.045300</td>\n",
       "      <td>0.486372</td>\n",
       "      <td>0.000032</td>\n",
       "      <td>False</td>\n",
       "    </tr>\n",
       "  </tbody>\n",
       "</table>\n",
       "</div>"
      ],
      "text/plain": [
       "          x1        x2               a        y1        c1        c2  \\\n",
       "0   1.000000  0.700000  dummy_constant  1.000000  0.584045  0.290000   \n",
       "1   0.750000  0.950000  dummy_constant  0.750000  0.494833  0.265000   \n",
       "2   1.535397  1.735397  dummy_constant       NaN  4.313110  2.598255   \n",
       "3   2.320795  0.950000  dummy_constant       NaN  5.188811  3.517794   \n",
       "4   1.535397  0.164602  dummy_constant       NaN  1.398292  1.184539   \n",
       "5   0.750000  0.000000  dummy_constant       NaN -0.537500  0.312500   \n",
       "6   0.000000  0.758508  dummy_constant       NaN -0.524666  0.316826   \n",
       "7   0.000000  1.535824  dummy_constant       NaN  1.258754  1.322930   \n",
       "8   0.425974  1.041804  dummy_constant  0.425974  0.167074  0.299031   \n",
       "9   1.063640  0.289245  dummy_constant  1.063640  0.259754  0.362107   \n",
       "10  0.803772  0.686393  dummy_constant  0.803772  0.086385  0.127020   \n",
       "11  0.648704  1.139836  dummy_constant  0.648704  0.761228  0.431502   \n",
       "12  0.199124  1.077267  dummy_constant  0.199124  0.297807  0.423764   \n",
       "13  0.984522  0.944582  dummy_constant  0.984522  0.766954  0.432415   \n",
       "14  1.146217  0.618890  dummy_constant  1.146217  0.703575  0.431731   \n",
       "15  1.066483  0.132382  dummy_constant  1.066483  0.194328  0.456046   \n",
       "16  1.043482  0.917780  dummy_constant  1.043482  0.879187  0.469913   \n",
       "17  0.599885  1.179522  dummy_constant  0.599885  0.719096  0.471727   \n",
       "18  0.092902  1.046334  dummy_constant  0.092902  0.088116  0.464209   \n",
       "19  0.604747  0.873810  dummy_constant  0.604747  0.225863  0.150706   \n",
       "20  1.052788  0.088412  dummy_constant  1.052788  0.093354  0.474979   \n",
       "21  1.183836  0.530648  dummy_constant  1.183836  0.593410  0.468571   \n",
       "22  0.914347  0.494899  dummy_constant  0.914347  0.089320  0.171710   \n",
       "23  0.393013  1.177864  dummy_constant  0.393013  0.499191  0.470945   \n",
       "24  0.841355  1.099229  dummy_constant  0.841355  0.967851  0.475599   \n",
       "25  1.155276  0.718606  dummy_constant  1.155276  0.937764  0.477176   \n",
       "26  0.569316  0.863425  dummy_constant  0.569316  0.169145  0.136882   \n",
       "27  0.440021  1.192145  dummy_constant  0.440021  0.533779  0.482663   \n",
       "28  0.069077  1.043954  dummy_constant  0.069077  0.045477  0.481581   \n",
       "29  0.854474  1.097111  dummy_constant  0.854474  0.973485  0.482194   \n",
       "30  1.183972  0.394904  dummy_constant  1.183972  0.515270  0.478863   \n",
       "31  1.046000  0.066116  dummy_constant  1.046000  0.045300  0.486372   \n",
       "\n",
       "    xopt_runtime  xopt_error  \n",
       "0       0.000054       False  \n",
       "1       0.000016       False  \n",
       "2       0.000030       False  \n",
       "3       0.000032       False  \n",
       "4       0.000031       False  \n",
       "5       0.000030       False  \n",
       "6       0.000033       False  \n",
       "7       0.000031       False  \n",
       "8       0.000032       False  \n",
       "9       0.000035       False  \n",
       "10      0.000032       False  \n",
       "11      0.000031       False  \n",
       "12      0.000031       False  \n",
       "13      0.000031       False  \n",
       "14      0.000031       False  \n",
       "15      0.000030       False  \n",
       "16      0.000031       False  \n",
       "17      0.000032       False  \n",
       "18      0.000032       False  \n",
       "19      0.000029       False  \n",
       "20      0.000032       False  \n",
       "21      0.000037       False  \n",
       "22      0.000033       False  \n",
       "23      0.000033       False  \n",
       "24      0.000030       False  \n",
       "25      0.000039       False  \n",
       "26      0.000031       False  \n",
       "27      0.000030       False  \n",
       "28      0.000030       False  \n",
       "29      0.000029       False  \n",
       "30      0.000029       False  \n",
       "31      0.000032       False  "
      ]
     },
     "execution_count": 6,
     "metadata": {},
     "output_type": "execute_result"
    }
   ],
   "source": [
    "# view the data\n",
    "X.data"
   ]
  },
  {
   "cell_type": "code",
   "execution_count": 7,
   "metadata": {
    "ExecuteTime": {
     "end_time": "2023-06-14T15:42:06.400652600Z",
     "start_time": "2023-06-14T15:42:05.787612700Z"
    },
    "execution": {
     "iopub.execute_input": "2024-04-15T17:44:26.544124Z",
     "iopub.status.busy": "2024-04-15T17:44:26.543698Z",
     "iopub.status.idle": "2024-04-15T17:44:26.957907Z",
     "shell.execute_reply": "2024-04-15T17:44:26.957247Z"
    }
   },
   "outputs": [
    {
     "data": {
      "image/png": "[encoded data removed]",
      "text/plain": [
       "<Figure size 640x480 with 1 Axes>"
      ]
     },
     "metadata": {},
     "output_type": "display_data"
    }
   ],
   "source": [
    "# plot results\n",
    "ax = X.data.plot(\"x1\", \"x2\")\n",
    "ax.set_aspect(\"equal\")"
   ]
  },
  {
   "cell_type": "code",
   "execution_count": 7,
   "metadata": {
    "ExecuteTime": {
     "end_time": "2023-06-14T15:42:06.419648600Z",
     "start_time": "2023-06-14T15:42:06.401622Z"
    }
   },
   "outputs": [],
   "source": []
  }
 ],
 "metadata": {
  "kernelspec": {
   "display_name": "Python 3 (ipykernel)",
   "language": "python",
   "name": "python3"
  },
  "language_info": {
   "codemirror_mode": {
    "name": "ipython",
    "version": 3
   },
   "file_extension": ".py",
   "mimetype": "text/x-python",
   "name": "python",
   "nbconvert_exporter": "python",
   "pygments_lexer": "ipython3",
   "version": "3.9.19"
  }
 },
 "nbformat": 4,
 "nbformat_minor": 4
}
