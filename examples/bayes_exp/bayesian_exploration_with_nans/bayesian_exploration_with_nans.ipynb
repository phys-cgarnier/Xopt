{
 "cells": [
  {
   "cell_type": "markdown",
   "metadata": {},
   "source": [
    "# Bayesian Exploration with NaNs\n",
    "\n",
    "As violations of constraints can lead to invalid values of the objective, the evaluate function may simply return NaNs. We demonstrate below how we can still perform Bayesian Exploration in that case."
   ]
  },
  {
   "cell_type": "code",
   "execution_count": 1,
   "metadata": {
    "ExecuteTime": {
     "end_time": "2023-06-14T15:37:25.535638700Z",
     "start_time": "2023-06-14T15:37:22.379218300Z"
    },
    "execution": {
     "iopub.execute_input": "2024-08-20T19:38:18.161912Z",
     "iopub.status.busy": "2024-08-20T19:38:18.161733Z",
     "iopub.status.idle": "2024-08-20T19:38:20.075633Z",
     "shell.execute_reply": "2024-08-20T19:38:20.074998Z"
    }
   },
   "outputs": [],
   "source": [
    "# set values if testing\n",
    "import os\n",
    "SMOKE_TEST = os.environ.get(\"SMOKE_TEST\")\n",
    "NUM_MC_SAMPLES = 1 if SMOKE_TEST else 128\n",
    "NUM_RESTARTS = 1 if SMOKE_TEST else 20\n",
    "\n",
    "# Ignore all warnings\n",
    "import warnings\n",
    "warnings.filterwarnings(\"ignore\")\n",
    "\n",
    "import pandas as pd\n",
    "import torch\n",
    "import yaml\n",
    "from copy import deepcopy\n",
    "from xopt import Xopt, Evaluator\n",
    "from xopt.generators.bayesian import BayesianExplorationGenerator\n",
    "from xopt.resources.test_functions.tnk import evaluate_TNK, tnk_vocs\n",
    "\n",
    "vocs = deepcopy(tnk_vocs)\n",
    "vocs.objectives = {}\n",
    "vocs.observables = [\"y1\"]"
   ]
  },
  {
   "cell_type": "code",
   "execution_count": 2,
   "metadata": {
    "ExecuteTime": {
     "end_time": "2023-06-14T15:37:25.549637200Z",
     "start_time": "2023-06-14T15:37:25.539666500Z"
    },
    "execution": {
     "iopub.execute_input": "2024-08-20T19:38:20.078276Z",
     "iopub.status.busy": "2024-08-20T19:38:20.078017Z",
     "iopub.status.idle": "2024-08-20T19:38:20.082182Z",
     "shell.execute_reply": "2024-08-20T19:38:20.081628Z"
    }
   },
   "outputs": [],
   "source": [
    "# modify the evaluate function to return NaNs if constraints are violated\n",
    "def evaluate(input_dict):\n",
    "    output_dict = evaluate_TNK(input_dict)\n",
    "    del output_dict[\"y2\"]\n",
    "    for c in vocs.constraints.keys():\n",
    "        if vocs.constraints[c][0].upper() == \"GREATER_THAN\" and output_dict[c] <= vocs.constraints[c][1]:\n",
    "            output_dict[\"y1\"] = torch.nan\n",
    "        elif vocs.constraints[c][0].upper() == \"LESS_THAN\" and output_dict[c] >= vocs.constraints[c][1]:\n",
    "            output_dict[\"y1\"] = torch.nan\n",
    "    return output_dict"
   ]
  },
  {
   "cell_type": "code",
   "execution_count": 3,
   "metadata": {
    "ExecuteTime": {
     "end_time": "2023-06-14T15:37:25.580538800Z",
     "start_time": "2023-06-14T15:37:25.552636600Z"
    },
    "execution": {
     "iopub.execute_input": "2024-08-20T19:38:20.084337Z",
     "iopub.status.busy": "2024-08-20T19:38:20.084022Z",
     "iopub.status.idle": "2024-08-20T19:38:20.100103Z",
     "shell.execute_reply": "2024-08-20T19:38:20.099557Z"
    }
   },
   "outputs": [
    {
     "data": {
      "text/plain": [
       "\n",
       "            Xopt\n",
       "________________________________\n",
       "Version: 0+untagged.1.gac5c9b5\n",
       "Data size: 0\n",
       "Config as YAML:\n",
       "dump_file: null\n",
       "evaluator:\n",
       "  function: __main__.evaluate\n",
       "  function_kwargs: {}\n",
       "  max_workers: 1\n",
       "  vectorized: false\n",
       "generator:\n",
       "  computation_time: null\n",
       "  custom_objective: null\n",
       "  fixed_features: null\n",
       "  gp_constructor:\n",
       "    covar_modules: {}\n",
       "    custom_noise_prior: null\n",
       "    mean_modules: {}\n",
       "    name: standard\n",
       "    trainable_mean_keys: []\n",
       "    transform_inputs: true\n",
       "    use_low_noise_prior: true\n",
       "  log_transform_acquisition_function: false\n",
       "  max_travel_distances:\n",
       "  - 0.25\n",
       "  - 0.25\n",
       "  model: null\n",
       "  n_candidates: 1\n",
       "  n_interpolate_points: null\n",
       "  n_monte_carlo_samples: 128\n",
       "  name: bayesian_exploration\n",
       "  numerical_optimizer:\n",
       "    max_iter: 2000\n",
       "    max_time: null\n",
       "    n_restarts: 20\n",
       "    name: LBFGS\n",
       "  supports_batch_generation: true\n",
       "  turbo_controller: null\n",
       "  use_cuda: false\n",
       "max_evaluations: null\n",
       "serialize_inline: false\n",
       "serialize_torch: false\n",
       "strict: true\n",
       "vocs:\n",
       "  constants:\n",
       "    a: dummy_constant\n",
       "  constraints:\n",
       "    c1:\n",
       "    - GREATER_THAN\n",
       "    - 0.0\n",
       "    c2:\n",
       "    - LESS_THAN\n",
       "    - 0.5\n",
       "  objectives: {}\n",
       "  observables:\n",
       "  - y1\n",
       "  variables:\n",
       "    x1:\n",
       "    - 0.0\n",
       "    - 3.14159\n",
       "    x2:\n",
       "    - 0.0\n",
       "    - 3.14159\n"
      ]
     },
     "execution_count": 3,
     "metadata": {},
     "output_type": "execute_result"
    }
   ],
   "source": [
    "generator = BayesianExplorationGenerator(vocs=vocs)\n",
    "generator.max_travel_distances = [0.25, 0.25]\n",
    "generator.n_monte_carlo_samples = NUM_MC_SAMPLES\n",
    "generator.numerical_optimizer.n_restarts = NUM_RESTARTS\n",
    "\n",
    "evaluator = Evaluator(function=evaluate)\n",
    "X = Xopt(generator=generator, evaluator=evaluator, vocs=vocs)\n",
    "X"
   ]
  },
  {
   "cell_type": "markdown",
   "metadata": {},
   "source": [
    "## Run exploration\n",
    "We start with evaluating 2 points that we know satisfy the constraints. We then run\n",
    "30 exploration steps."
   ]
  },
  {
   "cell_type": "code",
   "execution_count": 4,
   "metadata": {
    "ExecuteTime": {
     "end_time": "2023-06-14T15:37:25.638907100Z",
     "start_time": "2023-06-14T15:37:25.582541Z"
    },
    "execution": {
     "iopub.execute_input": "2024-08-20T19:38:20.129471Z",
     "iopub.status.busy": "2024-08-20T19:38:20.129277Z",
     "iopub.status.idle": "2024-08-20T19:38:20.141615Z",
     "shell.execute_reply": "2024-08-20T19:38:20.141072Z"
    }
   },
   "outputs": [
    {
     "data": {
      "text/html": [
       "<div>\n",
       "<style scoped>\n",
       "    .dataframe tbody tr th:only-of-type {\n",
       "        vertical-align: middle;\n",
       "    }\n",
       "\n",
       "    .dataframe tbody tr th {\n",
       "        vertical-align: top;\n",
       "    }\n",
       "\n",
       "    .dataframe thead th {\n",
       "        text-align: right;\n",
       "    }\n",
       "</style>\n",
       "<table border=\"1\" class=\"dataframe\">\n",
       "  <thead>\n",
       "    <tr style=\"text-align: right;\">\n",
       "      <th></th>\n",
       "      <th>x1</th>\n",
       "      <th>x2</th>\n",
       "      <th>a</th>\n",
       "      <th>y1</th>\n",
       "      <th>c1</th>\n",
       "      <th>c2</th>\n",
       "      <th>xopt_runtime</th>\n",
       "      <th>xopt_error</th>\n",
       "    </tr>\n",
       "  </thead>\n",
       "  <tbody>\n",
       "    <tr>\n",
       "      <th>0</th>\n",
       "      <td>1.00</td>\n",
       "      <td>0.70</td>\n",
       "      <td>dummy_constant</td>\n",
       "      <td>1.00</td>\n",
       "      <td>0.584045</td>\n",
       "      <td>0.290</td>\n",
       "      <td>0.000046</td>\n",
       "      <td>False</td>\n",
       "    </tr>\n",
       "    <tr>\n",
       "      <th>1</th>\n",
       "      <td>0.75</td>\n",
       "      <td>0.95</td>\n",
       "      <td>dummy_constant</td>\n",
       "      <td>0.75</td>\n",
       "      <td>0.494833</td>\n",
       "      <td>0.265</td>\n",
       "      <td>0.000015</td>\n",
       "      <td>False</td>\n",
       "    </tr>\n",
       "  </tbody>\n",
       "</table>\n",
       "</div>"
      ],
      "text/plain": [
       "     x1    x2               a    y1        c1     c2  xopt_runtime  xopt_error\n",
       "0  1.00  0.70  dummy_constant  1.00  0.584045  0.290      0.000046       False\n",
       "1  0.75  0.95  dummy_constant  0.75  0.494833  0.265      0.000015       False"
      ]
     },
     "execution_count": 4,
     "metadata": {},
     "output_type": "execute_result"
    }
   ],
   "source": [
    "X.evaluate_data(pd.DataFrame({\"x1\": [1.0, 0.75], \"x2\": [0.7, 0.95]}))"
   ]
  },
  {
   "cell_type": "code",
   "execution_count": 5,
   "metadata": {
    "ExecuteTime": {
     "end_time": "2023-06-14T15:42:05.755461900Z",
     "start_time": "2023-06-14T15:37:25.611873400Z"
    },
    "execution": {
     "iopub.execute_input": "2024-08-20T19:38:20.143769Z",
     "iopub.status.busy": "2024-08-20T19:38:20.143425Z",
     "iopub.status.idle": "2024-08-20T19:39:54.419019Z",
     "shell.execute_reply": "2024-08-20T19:39:54.418440Z"
    },
    "scrolled": false
   },
   "outputs": [
    {
     "name": "stdout",
     "output_type": "stream",
     "text": [
      "step 0\n"
     ]
    },
    {
     "name": "stdout",
     "output_type": "stream",
     "text": [
      "step 1\n"
     ]
    },
    {
     "name": "stdout",
     "output_type": "stream",
     "text": [
      "step 2\n"
     ]
    },
    {
     "name": "stdout",
     "output_type": "stream",
     "text": [
      "step 3\n"
     ]
    },
    {
     "name": "stdout",
     "output_type": "stream",
     "text": [
      "step 4\n"
     ]
    },
    {
     "name": "stdout",
     "output_type": "stream",
     "text": [
      "step 5\n"
     ]
    },
    {
     "name": "stdout",
     "output_type": "stream",
     "text": [
      "step 6\n"
     ]
    },
    {
     "name": "stdout",
     "output_type": "stream",
     "text": [
      "step 7\n"
     ]
    },
    {
     "name": "stdout",
     "output_type": "stream",
     "text": [
      "step 8\n"
     ]
    },
    {
     "name": "stdout",
     "output_type": "stream",
     "text": [
      "step 9\n"
     ]
    },
    {
     "name": "stdout",
     "output_type": "stream",
     "text": [
      "step 10\n"
     ]
    },
    {
     "name": "stdout",
     "output_type": "stream",
     "text": [
      "step 11\n"
     ]
    },
    {
     "name": "stdout",
     "output_type": "stream",
     "text": [
      "step 12\n"
     ]
    },
    {
     "name": "stdout",
     "output_type": "stream",
     "text": [
      "step 13\n"
     ]
    },
    {
     "name": "stdout",
     "output_type": "stream",
     "text": [
      "step 14\n"
     ]
    },
    {
     "name": "stdout",
     "output_type": "stream",
     "text": [
      "step 15\n"
     ]
    },
    {
     "name": "stdout",
     "output_type": "stream",
     "text": [
      "step 16\n"
     ]
    },
    {
     "name": "stdout",
     "output_type": "stream",
     "text": [
      "step 17\n"
     ]
    },
    {
     "name": "stdout",
     "output_type": "stream",
     "text": [
      "step 18\n"
     ]
    },
    {
     "name": "stdout",
     "output_type": "stream",
     "text": [
      "step 19\n"
     ]
    },
    {
     "name": "stdout",
     "output_type": "stream",
     "text": [
      "step 20\n"
     ]
    },
    {
     "name": "stdout",
     "output_type": "stream",
     "text": [
      "step 21\n"
     ]
    },
    {
     "name": "stdout",
     "output_type": "stream",
     "text": [
      "step 22\n"
     ]
    },
    {
     "name": "stdout",
     "output_type": "stream",
     "text": [
      "step 23\n"
     ]
    },
    {
     "name": "stdout",
     "output_type": "stream",
     "text": [
      "step 24\n"
     ]
    },
    {
     "name": "stdout",
     "output_type": "stream",
     "text": [
      "step 25\n"
     ]
    },
    {
     "name": "stdout",
     "output_type": "stream",
     "text": [
      "step 26\n"
     ]
    },
    {
     "name": "stdout",
     "output_type": "stream",
     "text": [
      "step 27\n"
     ]
    },
    {
     "name": "stdout",
     "output_type": "stream",
     "text": [
      "step 28\n"
     ]
    },
    {
     "name": "stdout",
     "output_type": "stream",
     "text": [
      "step 29\n"
     ]
    }
   ],
   "source": [
    "N_STEPS = 1 if SMOKE_TEST else 30\n",
    "for i in range(N_STEPS):\n",
    "    print(f\"step {i}\")\n",
    "    X.step()"
   ]
  },
  {
   "cell_type": "code",
   "execution_count": 6,
   "metadata": {
    "ExecuteTime": {
     "end_time": "2023-06-14T15:42:05.786611100Z",
     "start_time": "2023-06-14T15:42:05.773463300Z"
    },
    "execution": {
     "iopub.execute_input": "2024-08-20T19:39:54.422022Z",
     "iopub.status.busy": "2024-08-20T19:39:54.421731Z",
     "iopub.status.idle": "2024-08-20T19:39:54.433323Z",
     "shell.execute_reply": "2024-08-20T19:39:54.432740Z"
    }
   },
   "outputs": [
    {
     "data": {
      "text/html": [
       "<div>\n",
       "<style scoped>\n",
       "    .dataframe tbody tr th:only-of-type {\n",
       "        vertical-align: middle;\n",
       "    }\n",
       "\n",
       "    .dataframe tbody tr th {\n",
       "        vertical-align: top;\n",
       "    }\n",
       "\n",
       "    .dataframe thead th {\n",
       "        text-align: right;\n",
       "    }\n",
       "</style>\n",
       "<table border=\"1\" class=\"dataframe\">\n",
       "  <thead>\n",
       "    <tr style=\"text-align: right;\">\n",
       "      <th></th>\n",
       "      <th>x1</th>\n",
       "      <th>x2</th>\n",
       "      <th>a</th>\n",
       "      <th>y1</th>\n",
       "      <th>c1</th>\n",
       "      <th>c2</th>\n",
       "      <th>xopt_runtime</th>\n",
       "      <th>xopt_error</th>\n",
       "    </tr>\n",
       "  </thead>\n",
       "  <tbody>\n",
       "    <tr>\n",
       "      <th>0</th>\n",
       "      <td>1.000000</td>\n",
       "      <td>0.700000</td>\n",
       "      <td>dummy_constant</td>\n",
       "      <td>1.000000</td>\n",
       "      <td>0.584045</td>\n",
       "      <td>0.290000</td>\n",
       "      <td>0.000046</td>\n",
       "      <td>False</td>\n",
       "    </tr>\n",
       "    <tr>\n",
       "      <th>1</th>\n",
       "      <td>0.750000</td>\n",
       "      <td>0.950000</td>\n",
       "      <td>dummy_constant</td>\n",
       "      <td>0.750000</td>\n",
       "      <td>0.494833</td>\n",
       "      <td>0.265000</td>\n",
       "      <td>0.000015</td>\n",
       "      <td>False</td>\n",
       "    </tr>\n",
       "    <tr>\n",
       "      <th>2</th>\n",
       "      <td>1.535397</td>\n",
       "      <td>1.735397</td>\n",
       "      <td>dummy_constant</td>\n",
       "      <td>NaN</td>\n",
       "      <td>4.313110</td>\n",
       "      <td>2.598255</td>\n",
       "      <td>0.000027</td>\n",
       "      <td>False</td>\n",
       "    </tr>\n",
       "    <tr>\n",
       "      <th>3</th>\n",
       "      <td>2.320795</td>\n",
       "      <td>0.984632</td>\n",
       "      <td>dummy_constant</td>\n",
       "      <td>NaN</td>\n",
       "      <td>5.256523</td>\n",
       "      <td>3.550162</td>\n",
       "      <td>0.000034</td>\n",
       "      <td>False</td>\n",
       "    </tr>\n",
       "    <tr>\n",
       "      <th>4</th>\n",
       "      <td>1.535737</td>\n",
       "      <td>0.199234</td>\n",
       "      <td>dummy_constant</td>\n",
       "      <td>NaN</td>\n",
       "      <td>1.445543</td>\n",
       "      <td>1.163211</td>\n",
       "      <td>0.000029</td>\n",
       "      <td>False</td>\n",
       "    </tr>\n",
       "    <tr>\n",
       "      <th>5</th>\n",
       "      <td>1.140051</td>\n",
       "      <td>0.249297</td>\n",
       "      <td>dummy_constant</td>\n",
       "      <td>1.140051</td>\n",
       "      <td>0.457311</td>\n",
       "      <td>0.472517</td>\n",
       "      <td>0.000028</td>\n",
       "      <td>False</td>\n",
       "    </tr>\n",
       "    <tr>\n",
       "      <th>6</th>\n",
       "      <td>0.354653</td>\n",
       "      <td>0.041806</td>\n",
       "      <td>dummy_constant</td>\n",
       "      <td>NaN</td>\n",
       "      <td>-0.842293</td>\n",
       "      <td>0.231068</td>\n",
       "      <td>0.000030</td>\n",
       "      <td>False</td>\n",
       "    </tr>\n",
       "    <tr>\n",
       "      <th>7</th>\n",
       "      <td>0.989819</td>\n",
       "      <td>0.231788</td>\n",
       "      <td>dummy_constant</td>\n",
       "      <td>0.989819</td>\n",
       "      <td>0.119297</td>\n",
       "      <td>0.311860</td>\n",
       "      <td>0.000027</td>\n",
       "      <td>False</td>\n",
       "    </tr>\n",
       "    <tr>\n",
       "      <th>8</th>\n",
       "      <td>0.467158</td>\n",
       "      <td>1.017186</td>\n",
       "      <td>dummy_constant</td>\n",
       "      <td>0.467158</td>\n",
       "      <td>0.170672</td>\n",
       "      <td>0.268560</td>\n",
       "      <td>0.000028</td>\n",
       "      <td>False</td>\n",
       "    </tr>\n",
       "    <tr>\n",
       "      <th>9</th>\n",
       "      <td>0.249883</td>\n",
       "      <td>1.129061</td>\n",
       "      <td>dummy_constant</td>\n",
       "      <td>0.249883</td>\n",
       "      <td>0.431384</td>\n",
       "      <td>0.458276</td>\n",
       "      <td>0.000027</td>\n",
       "      <td>False</td>\n",
       "    </tr>\n",
       "    <tr>\n",
       "      <th>10</th>\n",
       "      <td>0.120508</td>\n",
       "      <td>1.045477</td>\n",
       "      <td>dummy_constant</td>\n",
       "      <td>0.120508</td>\n",
       "      <td>0.133769</td>\n",
       "      <td>0.441560</td>\n",
       "      <td>0.000027</td>\n",
       "      <td>False</td>\n",
       "    </tr>\n",
       "    <tr>\n",
       "      <th>11</th>\n",
       "      <td>0.905905</td>\n",
       "      <td>1.002126</td>\n",
       "      <td>dummy_constant</td>\n",
       "      <td>0.905905</td>\n",
       "      <td>0.755695</td>\n",
       "      <td>0.416890</td>\n",
       "      <td>0.000027</td>\n",
       "      <td>False</td>\n",
       "    </tr>\n",
       "    <tr>\n",
       "      <th>12</th>\n",
       "      <td>0.588574</td>\n",
       "      <td>1.166358</td>\n",
       "      <td>dummy_constant</td>\n",
       "      <td>0.588574</td>\n",
       "      <td>0.670041</td>\n",
       "      <td>0.451878</td>\n",
       "      <td>0.000027</td>\n",
       "      <td>False</td>\n",
       "    </tr>\n",
       "    <tr>\n",
       "      <th>13</th>\n",
       "      <td>1.138232</td>\n",
       "      <td>0.681686</td>\n",
       "      <td>dummy_constant</td>\n",
       "      <td>1.138232</td>\n",
       "      <td>0.830579</td>\n",
       "      <td>0.440349</td>\n",
       "      <td>0.000025</td>\n",
       "      <td>False</td>\n",
       "    </tr>\n",
       "    <tr>\n",
       "      <th>14</th>\n",
       "      <td>0.812783</td>\n",
       "      <td>0.646032</td>\n",
       "      <td>dummy_constant</td>\n",
       "      <td>0.812783</td>\n",
       "      <td>0.102732</td>\n",
       "      <td>0.119158</td>\n",
       "      <td>0.000027</td>\n",
       "      <td>False</td>\n",
       "    </tr>\n",
       "    <tr>\n",
       "      <th>15</th>\n",
       "      <td>0.033418</td>\n",
       "      <td>1.012472</td>\n",
       "      <td>dummy_constant</td>\n",
       "      <td>NaN</td>\n",
       "      <td>-0.060169</td>\n",
       "      <td>0.480326</td>\n",
       "      <td>0.000027</td>\n",
       "      <td>False</td>\n",
       "    </tr>\n",
       "    <tr>\n",
       "      <th>16</th>\n",
       "      <td>0.594095</td>\n",
       "      <td>0.883714</td>\n",
       "      <td>dummy_constant</td>\n",
       "      <td>0.594095</td>\n",
       "      <td>0.233797</td>\n",
       "      <td>0.156090</td>\n",
       "      <td>0.000028</td>\n",
       "      <td>False</td>\n",
       "    </tr>\n",
       "    <tr>\n",
       "      <th>17</th>\n",
       "      <td>1.034582</td>\n",
       "      <td>0.098317</td>\n",
       "      <td>dummy_constant</td>\n",
       "      <td>1.034582</td>\n",
       "      <td>0.074543</td>\n",
       "      <td>0.447127</td>\n",
       "      <td>0.000028</td>\n",
       "      <td>False</td>\n",
       "    </tr>\n",
       "    <tr>\n",
       "      <th>18</th>\n",
       "      <td>1.188857</td>\n",
       "      <td>0.513038</td>\n",
       "      <td>dummy_constant</td>\n",
       "      <td>1.188857</td>\n",
       "      <td>0.579342</td>\n",
       "      <td>0.474695</td>\n",
       "      <td>0.000027</td>\n",
       "      <td>False</td>\n",
       "    </tr>\n",
       "    <tr>\n",
       "      <th>19</th>\n",
       "      <td>0.403460</td>\n",
       "      <td>0.948452</td>\n",
       "      <td>dummy_constant</td>\n",
       "      <td>NaN</td>\n",
       "      <td>-0.036506</td>\n",
       "      <td>0.210429</td>\n",
       "      <td>0.000028</td>\n",
       "      <td>False</td>\n",
       "    </tr>\n",
       "    <tr>\n",
       "      <th>20</th>\n",
       "      <td>0.055367</td>\n",
       "      <td>1.039185</td>\n",
       "      <td>dummy_constant</td>\n",
       "      <td>0.055367</td>\n",
       "      <td>0.017096</td>\n",
       "      <td>0.488419</td>\n",
       "      <td>0.000028</td>\n",
       "      <td>False</td>\n",
       "    </tr>\n",
       "    <tr>\n",
       "      <th>21</th>\n",
       "      <td>0.307568</td>\n",
       "      <td>0.992955</td>\n",
       "      <td>dummy_constant</td>\n",
       "      <td>0.307568</td>\n",
       "      <td>0.071206</td>\n",
       "      <td>0.280035</td>\n",
       "      <td>0.000028</td>\n",
       "      <td>False</td>\n",
       "    </tr>\n",
       "    <tr>\n",
       "      <th>22</th>\n",
       "      <td>1.041991</td>\n",
       "      <td>0.921776</td>\n",
       "      <td>dummy_constant</td>\n",
       "      <td>1.041991</td>\n",
       "      <td>0.879569</td>\n",
       "      <td>0.471650</td>\n",
       "      <td>0.000027</td>\n",
       "      <td>False</td>\n",
       "    </tr>\n",
       "    <tr>\n",
       "      <th>23</th>\n",
       "      <td>0.392021</td>\n",
       "      <td>1.185057</td>\n",
       "      <td>dummy_constant</td>\n",
       "      <td>0.392021</td>\n",
       "      <td>0.519176</td>\n",
       "      <td>0.480963</td>\n",
       "      <td>0.000027</td>\n",
       "      <td>False</td>\n",
       "    </tr>\n",
       "    <tr>\n",
       "      <th>24</th>\n",
       "      <td>0.943951</td>\n",
       "      <td>0.426481</td>\n",
       "      <td>dummy_constant</td>\n",
       "      <td>NaN</td>\n",
       "      <td>-0.014516</td>\n",
       "      <td>0.202498</td>\n",
       "      <td>0.000028</td>\n",
       "      <td>False</td>\n",
       "    </tr>\n",
       "    <tr>\n",
       "      <th>25</th>\n",
       "      <td>0.765549</td>\n",
       "      <td>1.137096</td>\n",
       "      <td>dummy_constant</td>\n",
       "      <td>0.765549</td>\n",
       "      <td>0.978896</td>\n",
       "      <td>0.476408</td>\n",
       "      <td>0.000026</td>\n",
       "      <td>False</td>\n",
       "    </tr>\n",
       "    <tr>\n",
       "      <th>26</th>\n",
       "      <td>0.963553</td>\n",
       "      <td>0.435792</td>\n",
       "      <td>dummy_constant</td>\n",
       "      <td>0.963553</td>\n",
       "      <td>0.031208</td>\n",
       "      <td>0.219004</td>\n",
       "      <td>0.000026</td>\n",
       "      <td>False</td>\n",
       "    </tr>\n",
       "    <tr>\n",
       "      <th>27</th>\n",
       "      <td>1.017542</td>\n",
       "      <td>0.037045</td>\n",
       "      <td>dummy_constant</td>\n",
       "      <td>NaN</td>\n",
       "      <td>-0.046759</td>\n",
       "      <td>0.482177</td>\n",
       "      <td>0.000029</td>\n",
       "      <td>False</td>\n",
       "    </tr>\n",
       "    <tr>\n",
       "      <th>28</th>\n",
       "      <td>1.141234</td>\n",
       "      <td>0.764910</td>\n",
       "      <td>dummy_constant</td>\n",
       "      <td>1.141234</td>\n",
       "      <td>0.987477</td>\n",
       "      <td>0.481359</td>\n",
       "      <td>0.000029</td>\n",
       "      <td>False</td>\n",
       "    </tr>\n",
       "    <tr>\n",
       "      <th>29</th>\n",
       "      <td>0.681145</td>\n",
       "      <td>0.794594</td>\n",
       "      <td>dummy_constant</td>\n",
       "      <td>0.681145</td>\n",
       "      <td>0.061687</td>\n",
       "      <td>0.119599</td>\n",
       "      <td>0.000027</td>\n",
       "      <td>False</td>\n",
       "    </tr>\n",
       "    <tr>\n",
       "      <th>30</th>\n",
       "      <td>1.164679</td>\n",
       "      <td>0.289992</td>\n",
       "      <td>dummy_constant</td>\n",
       "      <td>1.164679</td>\n",
       "      <td>0.512861</td>\n",
       "      <td>0.485902</td>\n",
       "      <td>0.000027</td>\n",
       "      <td>False</td>\n",
       "    </tr>\n",
       "    <tr>\n",
       "      <th>31</th>\n",
       "      <td>1.044303</td>\n",
       "      <td>0.061759</td>\n",
       "      <td>dummy_constant</td>\n",
       "      <td>1.044303</td>\n",
       "      <td>0.035819</td>\n",
       "      <td>0.488320</td>\n",
       "      <td>0.000030</td>\n",
       "      <td>False</td>\n",
       "    </tr>\n",
       "  </tbody>\n",
       "</table>\n",
       "</div>"
      ],
      "text/plain": [
       "          x1        x2               a        y1        c1        c2  \\\n",
       "0   1.000000  0.700000  dummy_constant  1.000000  0.584045  0.290000   \n",
       "1   0.750000  0.950000  dummy_constant  0.750000  0.494833  0.265000   \n",
       "2   1.535397  1.735397  dummy_constant       NaN  4.313110  2.598255   \n",
       "3   2.320795  0.984632  dummy_constant       NaN  5.256523  3.550162   \n",
       "4   1.535737  0.199234  dummy_constant       NaN  1.445543  1.163211   \n",
       "5   1.140051  0.249297  dummy_constant  1.140051  0.457311  0.472517   \n",
       "6   0.354653  0.041806  dummy_constant       NaN -0.842293  0.231068   \n",
       "7   0.989819  0.231788  dummy_constant  0.989819  0.119297  0.311860   \n",
       "8   0.467158  1.017186  dummy_constant  0.467158  0.170672  0.268560   \n",
       "9   0.249883  1.129061  dummy_constant  0.249883  0.431384  0.458276   \n",
       "10  0.120508  1.045477  dummy_constant  0.120508  0.133769  0.441560   \n",
       "11  0.905905  1.002126  dummy_constant  0.905905  0.755695  0.416890   \n",
       "12  0.588574  1.166358  dummy_constant  0.588574  0.670041  0.451878   \n",
       "13  1.138232  0.681686  dummy_constant  1.138232  0.830579  0.440349   \n",
       "14  0.812783  0.646032  dummy_constant  0.812783  0.102732  0.119158   \n",
       "15  0.033418  1.012472  dummy_constant       NaN -0.060169  0.480326   \n",
       "16  0.594095  0.883714  dummy_constant  0.594095  0.233797  0.156090   \n",
       "17  1.034582  0.098317  dummy_constant  1.034582  0.074543  0.447127   \n",
       "18  1.188857  0.513038  dummy_constant  1.188857  0.579342  0.474695   \n",
       "19  0.403460  0.948452  dummy_constant       NaN -0.036506  0.210429   \n",
       "20  0.055367  1.039185  dummy_constant  0.055367  0.017096  0.488419   \n",
       "21  0.307568  0.992955  dummy_constant  0.307568  0.071206  0.280035   \n",
       "22  1.041991  0.921776  dummy_constant  1.041991  0.879569  0.471650   \n",
       "23  0.392021  1.185057  dummy_constant  0.392021  0.519176  0.480963   \n",
       "24  0.943951  0.426481  dummy_constant       NaN -0.014516  0.202498   \n",
       "25  0.765549  1.137096  dummy_constant  0.765549  0.978896  0.476408   \n",
       "26  0.963553  0.435792  dummy_constant  0.963553  0.031208  0.219004   \n",
       "27  1.017542  0.037045  dummy_constant       NaN -0.046759  0.482177   \n",
       "28  1.141234  0.764910  dummy_constant  1.141234  0.987477  0.481359   \n",
       "29  0.681145  0.794594  dummy_constant  0.681145  0.061687  0.119599   \n",
       "30  1.164679  0.289992  dummy_constant  1.164679  0.512861  0.485902   \n",
       "31  1.044303  0.061759  dummy_constant  1.044303  0.035819  0.488320   \n",
       "\n",
       "    xopt_runtime  xopt_error  \n",
       "0       0.000046       False  \n",
       "1       0.000015       False  \n",
       "2       0.000027       False  \n",
       "3       0.000034       False  \n",
       "4       0.000029       False  \n",
       "5       0.000028       False  \n",
       "6       0.000030       False  \n",
       "7       0.000027       False  \n",
       "8       0.000028       False  \n",
       "9       0.000027       False  \n",
       "10      0.000027       False  \n",
       "11      0.000027       False  \n",
       "12      0.000027       False  \n",
       "13      0.000025       False  \n",
       "14      0.000027       False  \n",
       "15      0.000027       False  \n",
       "16      0.000028       False  \n",
       "17      0.000028       False  \n",
       "18      0.000027       False  \n",
       "19      0.000028       False  \n",
       "20      0.000028       False  \n",
       "21      0.000028       False  \n",
       "22      0.000027       False  \n",
       "23      0.000027       False  \n",
       "24      0.000028       False  \n",
       "25      0.000026       False  \n",
       "26      0.000026       False  \n",
       "27      0.000029       False  \n",
       "28      0.000029       False  \n",
       "29      0.000027       False  \n",
       "30      0.000027       False  \n",
       "31      0.000030       False  "
      ]
     },
     "execution_count": 6,
     "metadata": {},
     "output_type": "execute_result"
    }
   ],
   "source": [
    "# view the data\n",
    "X.data"
   ]
  },
  {
   "cell_type": "code",
   "execution_count": 7,
   "metadata": {
    "ExecuteTime": {
     "end_time": "2023-06-14T15:42:06.400652600Z",
     "start_time": "2023-06-14T15:42:05.787612700Z"
    },
    "execution": {
     "iopub.execute_input": "2024-08-20T19:39:54.435462Z",
     "iopub.status.busy": "2024-08-20T19:39:54.435274Z",
     "iopub.status.idle": "2024-08-20T19:39:54.810756Z",
     "shell.execute_reply": "2024-08-20T19:39:54.810171Z"
    }
   },
   "outputs": [
    {
     "data": {
      "image/png": "[encoded data removed]",
      "text/plain": [
       "<Figure size 640x480 with 1 Axes>"
      ]
     },
     "metadata": {},
     "output_type": "display_data"
    }
   ],
   "source": [
    "# plot results\n",
    "ax = X.data.plot(\"x1\", \"x2\")\n",
    "ax.set_aspect(\"equal\")"
   ]
  },
  {
   "cell_type": "code",
   "execution_count": 7,
   "metadata": {
    "ExecuteTime": {
     "end_time": "2023-06-14T15:42:06.419648600Z",
     "start_time": "2023-06-14T15:42:06.401622Z"
    }
   },
   "outputs": [],
   "source": []
  }
 ],
 "metadata": {
  "kernelspec": {
   "display_name": "Python 3 (ipykernel)",
   "language": "python",
   "name": "python3"
  },
  "language_info": {
   "codemirror_mode": {
    "name": "ipython",
    "version": 3
   },
   "file_extension": ".py",
   "mimetype": "text/x-python",
   "name": "python",
   "nbconvert_exporter": "python",
   "pygments_lexer": "ipython3",
   "version": "3.9.19"
  }
 },
 "nbformat": 4,
 "nbformat_minor": 4
}
