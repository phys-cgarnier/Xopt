{
 "cells": [
  {
   "cell_type": "markdown",
   "metadata": {
    "collapsed": false
   },
   "source": [
    "# Bayesian Exploration\n",
    "Here we demonstrate the use of Bayesian Exploration to characterize an unknown\n",
    "function in the presence of constraints (see [here](https://www.nature.com/articles/s41467-021-25757-3)).\n",
    "The function we wish to explore is the first objective of the TNK test problem."
   ]
  },
  {
   "cell_type": "markdown",
   "metadata": {
    "collapsed": false
   },
   "source": [
    "## Specifiying generator options\n",
    "We start with the generator defaults and modify as needed for conservative\n",
    "exploration, which should prevent any constraint violations."
   ]
  },
  {
   "cell_type": "code",
   "execution_count": 1,
   "metadata": {
    "collapsed": false,
    "execution": {
     "iopub.execute_input": "2023-04-11T17:27:00.336311Z",
     "iopub.status.busy": "2023-04-11T17:27:00.335853Z",
     "iopub.status.idle": "2023-04-11T17:27:03.717127Z",
     "shell.execute_reply": "2023-04-11T17:27:03.716160Z"
    }
   },
   "outputs": [
    {
     "name": "stdout",
     "output_type": "stream",
     "text": [
      "acq:\n",
      "  monte_carlo_samples: 128\n",
      "  proximal_lengthscales: null\n",
      "  use_transformed_proximal_weights: true\n",
      "model:\n",
      "  covar_modules: {}\n",
      "  custom_constructor: null\n",
      "  mean_modules: {}\n",
      "  name: standard\n",
      "  use_low_noise_prior: true\n",
      "n_initial: 3\n",
      "optim:\n",
      "  max_travel_distances:\n",
      "  - 0.25\n",
      "  - 0.25\n",
      "  num_restarts: 20\n",
      "  raw_samples: 20\n",
      "  sequential: true\n",
      "  use_turbo: false\n",
      "use_cuda: false\n",
      "\n"
     ]
    }
   ],
   "source": [
    "# Ignore all warnings\n",
    "import warnings\n",
    "warnings.filterwarnings(\"ignore\")\n",
    "\n",
    "import pandas as pd\n",
    "import torch\n",
    "import yaml\n",
    "from copy import deepcopy\n",
    "from xopt import Xopt, Evaluator\n",
    "from xopt.generators.bayesian import BayesianExplorationGenerator\n",
    "from xopt.resources.test_functions.tnk import evaluate_TNK, tnk_vocs\n",
    "\n",
    "vocs = deepcopy(tnk_vocs)\n",
    "\n",
    "# can only explore one objective\n",
    "del vocs.objectives[\"y2\"]\n",
    "\n",
    "generator_options = BayesianExplorationGenerator.default_options()\n",
    "generator_options.optim.num_restarts = 20\n",
    "generator_options.optim.raw_samples = 20\n",
    "generator_options.optim.max_travel_distances = [0.25, 0.25]\n",
    "\n",
    "evaluator = Evaluator(function=evaluate_TNK)\n",
    "generator = BayesianExplorationGenerator(vocs, generator_options)\n",
    "\n",
    "print(yaml.dump(generator.options.dict()))"
   ]
  },
  {
   "cell_type": "markdown",
   "metadata": {
    "collapsed": false
   },
   "source": [
    "## Run exploration\n",
    "We start with evaluating 2 points that we know satisfy the constraints. We then run\n",
    "30 exploration steps."
   ]
  },
  {
   "cell_type": "code",
   "execution_count": 2,
   "metadata": {
    "collapsed": false,
    "execution": {
     "iopub.execute_input": "2023-04-11T17:27:03.779172Z",
     "iopub.status.busy": "2023-04-11T17:27:03.778131Z",
     "iopub.status.idle": "2023-04-11T17:27:03.804086Z",
     "shell.execute_reply": "2023-04-11T17:27:03.803302Z"
    }
   },
   "outputs": [
    {
     "data": {
      "text/html": [
       "<div>\n",
       "<style scoped>\n",
       "    .dataframe tbody tr th:only-of-type {\n",
       "        vertical-align: middle;\n",
       "    }\n",
       "\n",
       "    .dataframe tbody tr th {\n",
       "        vertical-align: top;\n",
       "    }\n",
       "\n",
       "    .dataframe thead th {\n",
       "        text-align: right;\n",
       "    }\n",
       "</style>\n",
       "<table border=\"1\" class=\"dataframe\">\n",
       "  <thead>\n",
       "    <tr style=\"text-align: right;\">\n",
       "      <th></th>\n",
       "      <th>x1</th>\n",
       "      <th>x2</th>\n",
       "      <th>y1</th>\n",
       "      <th>y2</th>\n",
       "      <th>c1</th>\n",
       "      <th>c2</th>\n",
       "      <th>some_array</th>\n",
       "      <th>xopt_runtime</th>\n",
       "      <th>xopt_error</th>\n",
       "    </tr>\n",
       "  </thead>\n",
       "  <tbody>\n",
       "    <tr>\n",
       "      <th>1</th>\n",
       "      <td>1.00</td>\n",
       "      <td>0.70</td>\n",
       "      <td>1.00</td>\n",
       "      <td>0.70</td>\n",
       "      <td>0.584045</td>\n",
       "      <td>0.290</td>\n",
       "      <td>[1, 2, 3]</td>\n",
       "      <td>0.000047</td>\n",
       "      <td>False</td>\n",
       "    </tr>\n",
       "    <tr>\n",
       "      <th>2</th>\n",
       "      <td>0.75</td>\n",
       "      <td>0.95</td>\n",
       "      <td>0.75</td>\n",
       "      <td>0.95</td>\n",
       "      <td>0.494833</td>\n",
       "      <td>0.265</td>\n",
       "      <td>[1, 2, 3]</td>\n",
       "      <td>0.000016</td>\n",
       "      <td>False</td>\n",
       "    </tr>\n",
       "  </tbody>\n",
       "</table>\n",
       "</div>"
      ],
      "text/plain": [
       "     x1    x2    y1    y2        c1     c2 some_array  xopt_runtime   \n",
       "1  1.00  0.70  1.00  0.70  0.584045  0.290  [1, 2, 3]      0.000047  \\\n",
       "2  0.75  0.95  0.75  0.95  0.494833  0.265  [1, 2, 3]      0.000016   \n",
       "\n",
       "   xopt_error  \n",
       "1       False  \n",
       "2       False  "
      ]
     },
     "execution_count": 2,
     "metadata": {},
     "output_type": "execute_result"
    }
   ],
   "source": [
    "X = Xopt(generator=generator, evaluator=evaluator, vocs=vocs)\n",
    "X.evaluate_data(pd.DataFrame({\"x1\":[1.0, 0.75],\"x2\":[0.7, 0.95]}))"
   ]
  },
  {
   "cell_type": "code",
   "execution_count": 3,
   "metadata": {
    "collapsed": false,
    "execution": {
     "iopub.execute_input": "2023-04-11T17:27:03.808272Z",
     "iopub.status.busy": "2023-04-11T17:27:03.807781Z",
     "iopub.status.idle": "2023-04-11T17:27:48.522385Z",
     "shell.execute_reply": "2023-04-11T17:27:48.521402Z"
    }
   },
   "outputs": [
    {
     "name": "stdout",
     "output_type": "stream",
     "text": [
      "step 0\n",
      "step 1\n",
      "step 2\n",
      "step 3\n",
      "step 4\n",
      "step 5\n",
      "step 6\n",
      "step 7\n",
      "step 8\n",
      "step 9\n"
     ]
    }
   ],
   "source": [
    "for i in range(10):\n",
    "    print(f\"step {i}\")\n",
    "    X.step()"
   ]
  },
  {
   "cell_type": "code",
   "execution_count": 4,
   "metadata": {
    "collapsed": false,
    "execution": {
     "iopub.execute_input": "2023-04-11T17:27:48.527070Z",
     "iopub.status.busy": "2023-04-11T17:27:48.526651Z",
     "iopub.status.idle": "2023-04-11T17:27:48.546486Z",
     "shell.execute_reply": "2023-04-11T17:27:48.545679Z"
    }
   },
   "outputs": [
    {
     "data": {
      "text/html": [
       "<div>\n",
       "<style scoped>\n",
       "    .dataframe tbody tr th:only-of-type {\n",
       "        vertical-align: middle;\n",
       "    }\n",
       "\n",
       "    .dataframe tbody tr th {\n",
       "        vertical-align: top;\n",
       "    }\n",
       "\n",
       "    .dataframe thead th {\n",
       "        text-align: right;\n",
       "    }\n",
       "</style>\n",
       "<table border=\"1\" class=\"dataframe\">\n",
       "  <thead>\n",
       "    <tr style=\"text-align: right;\">\n",
       "      <th></th>\n",
       "      <th>x1</th>\n",
       "      <th>x2</th>\n",
       "      <th>y1</th>\n",
       "      <th>y2</th>\n",
       "      <th>c1</th>\n",
       "      <th>c2</th>\n",
       "      <th>some_array</th>\n",
       "      <th>xopt_runtime</th>\n",
       "      <th>xopt_error</th>\n",
       "      <th>a</th>\n",
       "    </tr>\n",
       "  </thead>\n",
       "  <tbody>\n",
       "    <tr>\n",
       "      <th>1</th>\n",
       "      <td>1.000000</td>\n",
       "      <td>0.700000</td>\n",
       "      <td>1.000000</td>\n",
       "      <td>0.700000</td>\n",
       "      <td>0.584045</td>\n",
       "      <td>0.290000</td>\n",
       "      <td>[1, 2, 3]</td>\n",
       "      <td>0.000047</td>\n",
       "      <td>False</td>\n",
       "      <td>NaN</td>\n",
       "    </tr>\n",
       "    <tr>\n",
       "      <th>2</th>\n",
       "      <td>0.750000</td>\n",
       "      <td>0.950000</td>\n",
       "      <td>0.750000</td>\n",
       "      <td>0.950000</td>\n",
       "      <td>0.494833</td>\n",
       "      <td>0.265000</td>\n",
       "      <td>[1, 2, 3]</td>\n",
       "      <td>0.000016</td>\n",
       "      <td>False</td>\n",
       "      <td>NaN</td>\n",
       "    </tr>\n",
       "    <tr>\n",
       "      <th>3</th>\n",
       "      <td>1.535397</td>\n",
       "      <td>1.735397</td>\n",
       "      <td>1.535397</td>\n",
       "      <td>1.735397</td>\n",
       "      <td>4.313110</td>\n",
       "      <td>2.598255</td>\n",
       "      <td>[1, 2, 3]</td>\n",
       "      <td>0.000044</td>\n",
       "      <td>False</td>\n",
       "      <td>dummy_constant</td>\n",
       "    </tr>\n",
       "    <tr>\n",
       "      <th>4</th>\n",
       "      <td>1.160740</td>\n",
       "      <td>1.355496</td>\n",
       "      <td>1.160740</td>\n",
       "      <td>1.355496</td>\n",
       "      <td>2.151824</td>\n",
       "      <td>1.168452</td>\n",
       "      <td>[1, 2, 3]</td>\n",
       "      <td>0.000043</td>\n",
       "      <td>False</td>\n",
       "      <td>dummy_constant</td>\n",
       "    </tr>\n",
       "    <tr>\n",
       "      <th>5</th>\n",
       "      <td>0.595360</td>\n",
       "      <td>0.954833</td>\n",
       "      <td>0.595360</td>\n",
       "      <td>0.954833</td>\n",
       "      <td>0.353715</td>\n",
       "      <td>0.215967</td>\n",
       "      <td>[1, 2, 3]</td>\n",
       "      <td>0.000044</td>\n",
       "      <td>False</td>\n",
       "      <td>dummy_constant</td>\n",
       "    </tr>\n",
       "    <tr>\n",
       "      <th>6</th>\n",
       "      <td>0.388940</td>\n",
       "      <td>1.044364</td>\n",
       "      <td>0.388940</td>\n",
       "      <td>1.044364</td>\n",
       "      <td>0.158274</td>\n",
       "      <td>0.308666</td>\n",
       "      <td>[1, 2, 3]</td>\n",
       "      <td>0.000046</td>\n",
       "      <td>False</td>\n",
       "      <td>dummy_constant</td>\n",
       "    </tr>\n",
       "    <tr>\n",
       "      <th>7</th>\n",
       "      <td>0.002769</td>\n",
       "      <td>0.258966</td>\n",
       "      <td>0.002769</td>\n",
       "      <td>0.258966</td>\n",
       "      <td>-1.031469</td>\n",
       "      <td>0.305336</td>\n",
       "      <td>[1, 2, 3]</td>\n",
       "      <td>0.000044</td>\n",
       "      <td>False</td>\n",
       "      <td>dummy_constant</td>\n",
       "    </tr>\n",
       "    <tr>\n",
       "      <th>8</th>\n",
       "      <td>0.784033</td>\n",
       "      <td>0.673080</td>\n",
       "      <td>0.784033</td>\n",
       "      <td>0.673080</td>\n",
       "      <td>0.033004</td>\n",
       "      <td>0.110632</td>\n",
       "      <td>[1, 2, 3]</td>\n",
       "      <td>0.000046</td>\n",
       "      <td>False</td>\n",
       "      <td>dummy_constant</td>\n",
       "    </tr>\n",
       "    <tr>\n",
       "      <th>9</th>\n",
       "      <td>1.045657</td>\n",
       "      <td>0.432953</td>\n",
       "      <td>1.045657</td>\n",
       "      <td>0.432953</td>\n",
       "      <td>0.180847</td>\n",
       "      <td>0.302237</td>\n",
       "      <td>[1, 2, 3]</td>\n",
       "      <td>0.000056</td>\n",
       "      <td>False</td>\n",
       "      <td>dummy_constant</td>\n",
       "    </tr>\n",
       "    <tr>\n",
       "      <th>10</th>\n",
       "      <td>1.143862</td>\n",
       "      <td>0.529199</td>\n",
       "      <td>1.143862</td>\n",
       "      <td>0.529199</td>\n",
       "      <td>0.508856</td>\n",
       "      <td>0.415411</td>\n",
       "      <td>[1, 2, 3]</td>\n",
       "      <td>0.000045</td>\n",
       "      <td>False</td>\n",
       "      <td>dummy_constant</td>\n",
       "    </tr>\n",
       "    <tr>\n",
       "      <th>11</th>\n",
       "      <td>0.566766</td>\n",
       "      <td>1.135479</td>\n",
       "      <td>0.566766</td>\n",
       "      <td>1.135479</td>\n",
       "      <td>0.567346</td>\n",
       "      <td>0.408291</td>\n",
       "      <td>[1, 2, 3]</td>\n",
       "      <td>0.000077</td>\n",
       "      <td>False</td>\n",
       "      <td>dummy_constant</td>\n",
       "    </tr>\n",
       "    <tr>\n",
       "      <th>12</th>\n",
       "      <td>0.348598</td>\n",
       "      <td>1.141995</td>\n",
       "      <td>0.348598</td>\n",
       "      <td>1.141995</td>\n",
       "      <td>0.422882</td>\n",
       "      <td>0.435081</td>\n",
       "      <td>[1, 2, 3]</td>\n",
       "      <td>0.000042</td>\n",
       "      <td>False</td>\n",
       "      <td>dummy_constant</td>\n",
       "    </tr>\n",
       "  </tbody>\n",
       "</table>\n",
       "</div>"
      ],
      "text/plain": [
       "          x1        x2        y1        y2        c1        c2 some_array   \n",
       "1   1.000000  0.700000  1.000000  0.700000  0.584045  0.290000  [1, 2, 3]  \\\n",
       "2   0.750000  0.950000  0.750000  0.950000  0.494833  0.265000  [1, 2, 3]   \n",
       "3   1.535397  1.735397  1.535397  1.735397  4.313110  2.598255  [1, 2, 3]   \n",
       "4   1.160740  1.355496  1.160740  1.355496  2.151824  1.168452  [1, 2, 3]   \n",
       "5   0.595360  0.954833  0.595360  0.954833  0.353715  0.215967  [1, 2, 3]   \n",
       "6   0.388940  1.044364  0.388940  1.044364  0.158274  0.308666  [1, 2, 3]   \n",
       "7   0.002769  0.258966  0.002769  0.258966 -1.031469  0.305336  [1, 2, 3]   \n",
       "8   0.784033  0.673080  0.784033  0.673080  0.033004  0.110632  [1, 2, 3]   \n",
       "9   1.045657  0.432953  1.045657  0.432953  0.180847  0.302237  [1, 2, 3]   \n",
       "10  1.143862  0.529199  1.143862  0.529199  0.508856  0.415411  [1, 2, 3]   \n",
       "11  0.566766  1.135479  0.566766  1.135479  0.567346  0.408291  [1, 2, 3]   \n",
       "12  0.348598  1.141995  0.348598  1.141995  0.422882  0.435081  [1, 2, 3]   \n",
       "\n",
       "    xopt_runtime  xopt_error               a  \n",
       "1       0.000047       False             NaN  \n",
       "2       0.000016       False             NaN  \n",
       "3       0.000044       False  dummy_constant  \n",
       "4       0.000043       False  dummy_constant  \n",
       "5       0.000044       False  dummy_constant  \n",
       "6       0.000046       False  dummy_constant  \n",
       "7       0.000044       False  dummy_constant  \n",
       "8       0.000046       False  dummy_constant  \n",
       "9       0.000056       False  dummy_constant  \n",
       "10      0.000045       False  dummy_constant  \n",
       "11      0.000077       False  dummy_constant  \n",
       "12      0.000042       False  dummy_constant  "
      ]
     },
     "execution_count": 4,
     "metadata": {},
     "output_type": "execute_result"
    }
   ],
   "source": [
    "# view the data\n",
    "X.data"
   ]
  },
  {
   "cell_type": "code",
   "execution_count": 5,
   "metadata": {
    "collapsed": false,
    "execution": {
     "iopub.execute_input": "2023-04-11T17:27:48.550084Z",
     "iopub.status.busy": "2023-04-11T17:27:48.549829Z",
     "iopub.status.idle": "2023-04-11T17:27:48.858381Z",
     "shell.execute_reply": "2023-04-11T17:27:48.857359Z"
    }
   },
   "outputs": [
    {
     "data": {
      "image/png": "[encoded data removed]",
      "text/plain": [
       "<Figure size 640x480 with 1 Axes>"
      ]
     },
     "metadata": {},
     "output_type": "display_data"
    }
   ],
   "source": [
    "# plot results\n",
    "ax = X.data.plot(\"x1\", \"x2\")\n",
    "ax.set_aspect(\"equal\")"
   ]
  },
  {
   "cell_type": "markdown",
   "metadata": {
    "collapsed": false
   },
   "source": [
    "## Introspect models\n",
    "During exploration we generate Gaussian Process models of each objective and\n",
    "constraint. We demonstrate how they are viewed below."
   ]
  },
  {
   "cell_type": "code",
   "execution_count": 6,
   "metadata": {
    "collapsed": false,
    "execution": {
     "iopub.execute_input": "2023-04-11T17:27:48.862364Z",
     "iopub.status.busy": "2023-04-11T17:27:48.861840Z",
     "iopub.status.idle": "2023-04-11T17:27:51.200392Z",
     "shell.execute_reply": "2023-04-11T17:27:51.199250Z"
    }
   },
   "outputs": [
    {
     "data": {
      "image/png": "[encoded data removed]",
      "text/plain": [
       "<Figure size 640x480 with 2 Axes>"
      ]
     },
     "metadata": {},
     "output_type": "display_data"
    },
    {
     "data": {
      "image/png": "[encoded data removed]",
      "text/plain": [
       "<Figure size 640x480 with 2 Axes>"
      ]
     },
     "metadata": {},
     "output_type": "display_data"
    },
    {
     "data": {
      "image/png": "[encoded data removed]",
      "text/plain": [
       "<Figure size 640x480 with 2 Axes>"
      ]
     },
     "metadata": {},
     "output_type": "display_data"
    }
   ],
   "source": [
    "from matplotlib import pyplot as plt  # plot model predictions\n",
    "\n",
    "data = X.data\n",
    "\n",
    "bounds = generator.vocs.bounds\n",
    "model = generator.train_model(generator.data)\n",
    "\n",
    "# create mesh\n",
    "n = 50\n",
    "x = torch.linspace(*bounds.T[0], n)\n",
    "y = torch.linspace(*bounds.T[1], n)\n",
    "xx, yy = torch.meshgrid(x, y)\n",
    "pts = torch.hstack([ele.reshape(-1, 1) for ele in (xx, yy)]).double()\n",
    "\n",
    "outputs = generator.vocs.output_names\n",
    "with torch.no_grad():\n",
    "    post = model.posterior(pts)\n",
    "\n",
    "    for i in range(len(vocs.output_names)):\n",
    "        mean = post.mean[...,i]\n",
    "        fig, ax = plt.subplots()\n",
    "        ax.plot(*data[[\"x1\", \"x2\"]].to_numpy().T, \"+C1\")\n",
    "        c = ax.pcolor(\n",
    "            xx, yy, mean.squeeze().reshape(n, n),\n",
    "            cmap=\"seismic\",\n",
    "            vmin=-10.0,\n",
    "            vmax=10.0)\n",
    "        fig.colorbar(c)\n",
    "        ax.set_title(f\"Posterior mean: {outputs[i]}\")"
   ]
  },
  {
   "cell_type": "markdown",
   "metadata": {
    "collapsed": false
   },
   "source": [
    "## View acquisition function and feasibility prediction"
   ]
  },
  {
   "cell_type": "code",
   "execution_count": 7,
   "metadata": {
    "collapsed": false,
    "execution": {
     "iopub.execute_input": "2023-04-11T17:27:51.204633Z",
     "iopub.status.busy": "2023-04-11T17:27:51.204304Z",
     "iopub.status.idle": "2023-04-11T17:27:52.393263Z",
     "shell.execute_reply": "2023-04-11T17:27:52.392262Z"
    }
   },
   "outputs": [
    {
     "data": {
      "image/png": "[encoded data removed]",
      "text/plain": [
       "<Figure size 640x480 with 2 Axes>"
      ]
     },
     "metadata": {},
     "output_type": "display_data"
    },
    {
     "data": {
      "image/png": "[encoded data removed]",
      "text/plain": [
       "<Figure size 640x480 with 2 Axes>"
      ]
     },
     "metadata": {},
     "output_type": "display_data"
    }
   ],
   "source": [
    "from xopt.generators.bayesian.objectives import feasibility\n",
    "\n",
    "acq_func = generator.get_acquisition(model)\n",
    "with torch.no_grad():\n",
    "    acq_pts = pts.unsqueeze(1)\n",
    "    acq = acq_func(acq_pts)\n",
    "\n",
    "    fig, ax = plt.subplots()\n",
    "    c = ax.pcolor(xx, yy, acq.reshape(n, n))\n",
    "    ax.plot(*data[[\"x1\", \"x2\"]].to_numpy().T, \"+C3\")\n",
    "\n",
    "    fig.colorbar(c)\n",
    "    ax.set_title(\"Acquisition function\")\n",
    "\n",
    "    feas = feasibility(pts.unsqueeze(1), model, generator.sampler, vocs).flatten()\n",
    "\n",
    "    fig2, ax2 = plt.subplots()\n",
    "    c = ax2.pcolor(xx, yy, feas.reshape(n, n))\n",
    "    ax2.plot(*data[[\"x1\", \"x2\"]].to_numpy().T, \"+C3\")\n",
    "\n",
    "    fig2.colorbar(c)\n",
    "    ax2.set_title(\"Feasible Region\")"
   ]
  },
  {
   "cell_type": "markdown",
   "metadata": {
    "collapsed": false
   },
   "source": [
    "## Generator model hyperparameters"
   ]
  },
  {
   "cell_type": "code",
   "execution_count": 8,
   "metadata": {
    "collapsed": false,
    "execution": {
     "iopub.execute_input": "2023-04-11T17:27:52.397736Z",
     "iopub.status.busy": "2023-04-11T17:27:52.397058Z",
     "iopub.status.idle": "2023-04-11T17:27:52.408974Z",
     "shell.execute_reply": "2023-04-11T17:27:52.408074Z"
    }
   },
   "outputs": [
    {
     "name": "stdout",
     "output_type": "stream",
     "text": [
      "models.0.likelihood.noise_covar.raw_noise:Parameter containing:\n",
      "tensor([-22.6765], dtype=torch.float64, requires_grad=True)\n",
      "models.0.mean_module.raw_constant:Parameter containing:\n",
      "tensor(0.0887, dtype=torch.float64, requires_grad=True)\n",
      "models.0.covar_module.raw_outputscale:Parameter containing:\n",
      "tensor(3.3959, dtype=torch.float64, requires_grad=True)\n",
      "models.0.covar_module.base_kernel.raw_lengthscale:Parameter containing:\n",
      "tensor([[0.0805, 0.9808]], dtype=torch.float64, requires_grad=True)\n",
      "models.1.mean_module.raw_constant:Parameter containing:\n",
      "tensor(-0.7614, dtype=torch.float64, requires_grad=True)\n",
      "models.1.covar_module.raw_outputscale:Parameter containing:\n",
      "tensor(2.6602, dtype=torch.float64, requires_grad=True)\n",
      "models.1.covar_module.base_kernel.raw_lengthscale:Parameter containing:\n",
      "tensor([[-1.0609, -0.8075]], dtype=torch.float64, requires_grad=True)\n",
      "models.2.mean_module.raw_constant:Parameter containing:\n",
      "tensor(3.3477, dtype=torch.float64, requires_grad=True)\n",
      "models.2.covar_module.raw_outputscale:Parameter containing:\n",
      "tensor(5.2824, dtype=torch.float64, requires_grad=True)\n",
      "models.2.covar_module.base_kernel.raw_lengthscale:Parameter containing:\n",
      "tensor([[ 0.0279, -0.0388]], dtype=torch.float64, requires_grad=True)\n"
     ]
    },
    {
     "data": {
      "text/plain": [
       "tensor([[0.7072, 0.6740]], dtype=torch.float64, grad_fn=<SoftplusBackward0>)"
      ]
     },
     "execution_count": 8,
     "metadata": {},
     "output_type": "execute_result"
    }
   ],
   "source": [
    "# print generator model hyperparameters\n",
    "for name, val in X.generator.model.named_parameters():\n",
    "    print(f\"{name}:{val}\")\n",
    "\n",
    "X.generator.model.models[2].covar_module.base_kernel.lengthscale"
   ]
  },
  {
   "cell_type": "markdown",
   "metadata": {
    "collapsed": false
   },
   "source": [
    "## Examine the number of constraint violations\n",
    "Using the convience function provided by the vocs object we can evaluate which\n",
    "samples violate either or both of our constraints."
   ]
  },
  {
   "cell_type": "code",
   "execution_count": 9,
   "metadata": {
    "collapsed": false,
    "execution": {
     "iopub.execute_input": "2023-04-11T17:27:52.413367Z",
     "iopub.status.busy": "2023-04-11T17:27:52.412824Z",
     "iopub.status.idle": "2023-04-11T17:27:52.428436Z",
     "shell.execute_reply": "2023-04-11T17:27:52.427440Z"
    }
   },
   "outputs": [
    {
     "data": {
      "text/html": [
       "<div>\n",
       "<style scoped>\n",
       "    .dataframe tbody tr th:only-of-type {\n",
       "        vertical-align: middle;\n",
       "    }\n",
       "\n",
       "    .dataframe tbody tr th {\n",
       "        vertical-align: top;\n",
       "    }\n",
       "\n",
       "    .dataframe thead th {\n",
       "        text-align: right;\n",
       "    }\n",
       "</style>\n",
       "<table border=\"1\" class=\"dataframe\">\n",
       "  <thead>\n",
       "    <tr style=\"text-align: right;\">\n",
       "      <th></th>\n",
       "      <th>feasible_c1</th>\n",
       "      <th>feasible_c2</th>\n",
       "      <th>feasible</th>\n",
       "    </tr>\n",
       "  </thead>\n",
       "  <tbody>\n",
       "    <tr>\n",
       "      <th>1</th>\n",
       "      <td>True</td>\n",
       "      <td>True</td>\n",
       "      <td>True</td>\n",
       "    </tr>\n",
       "    <tr>\n",
       "      <th>2</th>\n",
       "      <td>True</td>\n",
       "      <td>True</td>\n",
       "      <td>True</td>\n",
       "    </tr>\n",
       "    <tr>\n",
       "      <th>3</th>\n",
       "      <td>True</td>\n",
       "      <td>False</td>\n",
       "      <td>False</td>\n",
       "    </tr>\n",
       "    <tr>\n",
       "      <th>4</th>\n",
       "      <td>True</td>\n",
       "      <td>False</td>\n",
       "      <td>False</td>\n",
       "    </tr>\n",
       "    <tr>\n",
       "      <th>5</th>\n",
       "      <td>True</td>\n",
       "      <td>True</td>\n",
       "      <td>True</td>\n",
       "    </tr>\n",
       "    <tr>\n",
       "      <th>6</th>\n",
       "      <td>True</td>\n",
       "      <td>True</td>\n",
       "      <td>True</td>\n",
       "    </tr>\n",
       "    <tr>\n",
       "      <th>7</th>\n",
       "      <td>False</td>\n",
       "      <td>True</td>\n",
       "      <td>False</td>\n",
       "    </tr>\n",
       "    <tr>\n",
       "      <th>8</th>\n",
       "      <td>True</td>\n",
       "      <td>True</td>\n",
       "      <td>True</td>\n",
       "    </tr>\n",
       "    <tr>\n",
       "      <th>9</th>\n",
       "      <td>True</td>\n",
       "      <td>True</td>\n",
       "      <td>True</td>\n",
       "    </tr>\n",
       "    <tr>\n",
       "      <th>10</th>\n",
       "      <td>True</td>\n",
       "      <td>True</td>\n",
       "      <td>True</td>\n",
       "    </tr>\n",
       "    <tr>\n",
       "      <th>11</th>\n",
       "      <td>True</td>\n",
       "      <td>True</td>\n",
       "      <td>True</td>\n",
       "    </tr>\n",
       "    <tr>\n",
       "      <th>12</th>\n",
       "      <td>True</td>\n",
       "      <td>True</td>\n",
       "      <td>True</td>\n",
       "    </tr>\n",
       "  </tbody>\n",
       "</table>\n",
       "</div>"
      ],
      "text/plain": [
       "    feasible_c1  feasible_c2  feasible\n",
       "1          True         True      True\n",
       "2          True         True      True\n",
       "3          True        False     False\n",
       "4          True        False     False\n",
       "5          True         True      True\n",
       "6          True         True      True\n",
       "7         False         True     False\n",
       "8          True         True      True\n",
       "9          True         True      True\n",
       "10         True         True      True\n",
       "11         True         True      True\n",
       "12         True         True      True"
      ]
     },
     "execution_count": 9,
     "metadata": {},
     "output_type": "execute_result"
    }
   ],
   "source": [
    "X.vocs.feasibility_data(X.data)"
   ]
  },
  {
   "cell_type": "code",
   "execution_count": 10,
   "metadata": {
    "collapsed": false,
    "execution": {
     "iopub.execute_input": "2023-04-11T17:27:52.442943Z",
     "iopub.status.busy": "2023-04-11T17:27:52.442545Z",
     "iopub.status.idle": "2023-04-11T17:27:58.116987Z",
     "shell.execute_reply": "2023-04-11T17:27:58.116054Z"
    }
   },
   "outputs": [
    {
     "data": {
      "text/html": [
       "<div>\n",
       "<style scoped>\n",
       "    .dataframe tbody tr th:only-of-type {\n",
       "        vertical-align: middle;\n",
       "    }\n",
       "\n",
       "    .dataframe tbody tr th {\n",
       "        vertical-align: top;\n",
       "    }\n",
       "\n",
       "    .dataframe thead th {\n",
       "        text-align: right;\n",
       "    }\n",
       "</style>\n",
       "<table border=\"1\" class=\"dataframe\">\n",
       "  <thead>\n",
       "    <tr style=\"text-align: right;\">\n",
       "      <th></th>\n",
       "      <th>x1</th>\n",
       "      <th>x2</th>\n",
       "      <th>a</th>\n",
       "    </tr>\n",
       "  </thead>\n",
       "  <tbody>\n",
       "    <tr>\n",
       "      <th>0</th>\n",
       "      <td>0.230217</td>\n",
       "      <td>1.11462</td>\n",
       "      <td>dummy_constant</td>\n",
       "    </tr>\n",
       "  </tbody>\n",
       "</table>\n",
       "</div>"
      ],
      "text/plain": [
       "         x1       x2               a\n",
       "0  0.230217  1.11462  dummy_constant"
      ]
     },
     "execution_count": 10,
     "metadata": {},
     "output_type": "execute_result"
    }
   ],
   "source": [
    "# generate next point\n",
    "X.generator.generate(1)"
   ]
  },
  {
   "cell_type": "code",
   "execution_count": 10,
   "metadata": {
    "collapsed": false
   },
   "outputs": [],
   "source": []
  }
 ],
 "metadata": {
  "kernelspec": {
   "display_name": "Python 3 (ipykernel)",
   "language": "python",
   "name": "python3"
  },
  "language_info": {
   "codemirror_mode": {
    "name": "ipython",
    "version": 3
   },
   "file_extension": ".py",
   "mimetype": "text/x-python",
   "name": "python",
   "nbconvert_exporter": "python",
   "pygments_lexer": "ipython3",
   "version": "3.9.16"
  }
 },
 "nbformat": 4,
 "nbformat_minor": 4
}
