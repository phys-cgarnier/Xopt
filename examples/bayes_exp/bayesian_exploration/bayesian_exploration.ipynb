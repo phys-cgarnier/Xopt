{
 "cells": [
  {
   "cell_type": "markdown",
   "metadata": {
    "collapsed": false,
    "pycharm": {
     "name": "#%% md\n"
    }
   },
   "source": [
    "# Bayesian Exploration\n",
    "Here we demonstrate the use of Bayesian Exploration to characterize an unknown\n",
    "function in the presence of constraints (see [here](https://www.nature.com/articles/s41467-021-25757-3)).\n",
    "The function we wish to explore is the first objective of the TNK test problem."
   ]
  },
  {
   "cell_type": "markdown",
   "metadata": {
    "collapsed": false,
    "pycharm": {
     "name": "#%% md\n"
    }
   },
   "source": [
    "## Specifiying generator options\n",
    "We start with the generator defaults and modify as needed for conservative\n",
    "exploration, which should prevent any constraint violations."
   ]
  },
  {
   "cell_type": "code",
   "execution_count": 1,
   "metadata": {
    "collapsed": false,
    "execution": {
     "iopub.execute_input": "2022-08-15T16:53:48.739266Z",
     "iopub.status.busy": "2022-08-15T16:53:48.738818Z",
     "iopub.status.idle": "2022-08-15T16:53:50.042859Z",
     "shell.execute_reply": "2022-08-15T16:53:50.042195Z"
    },
    "pycharm": {
     "name": "#%%\n"
    }
   },
   "outputs": [
    {
     "name": "stdout",
     "output_type": "stream",
     "text": [
      "acq:\n",
      "  monte_carlo_samples: 128\n",
      "  proximal_lengthscales:\n",
      "  - 0.5\n",
      "  - 0.5\n",
      "  use_transformed_proximal_weights: true\n",
      "model:\n",
      "  use_conservative_prior_lengthscale: true\n",
      "  use_conservative_prior_mean: true\n",
      "  use_low_noise_prior: true\n",
      "n_initial: 3\n",
      "optim:\n",
      "  max_travel_distances: null\n",
      "  num_restarts: 1\n",
      "  raw_samples: 100\n",
      "  sequential: true\n",
      "  use_nearby_initial_points: true\n",
      "\n"
     ]
    },
    {
     "name": "stderr",
     "output_type": "stream",
     "text": [
      "/tmp/ipykernel_3044/312721142.py:22: DeprecationWarning: `copy_on_model_validation` should be a string: 'deep', 'shallow' or 'none'\n",
      "  evaluator = Evaluator(function=evaluate_TNK)\n"
     ]
    }
   ],
   "source": [
    "import pandas as pd\n",
    "import torch\n",
    "import yaml\n",
    "from copy import deepcopy\n",
    "from xopt import Xopt, Evaluator\n",
    "from xopt.generators.bayesian import BayesianExplorationGenerator\n",
    "from xopt.resources.test_functions.tnk import evaluate_TNK, tnk_vocs\n",
    "\n",
    "vocs = deepcopy(tnk_vocs)\n",
    "\n",
    "# can only explore one objective\n",
    "del vocs.objectives[\"y2\"]\n",
    "\n",
    "generator_options = BayesianExplorationGenerator.default_options()\n",
    "generator_options.optim.num_restarts = 1\n",
    "generator_options.optim.raw_samples = 100\n",
    "generator_options.model.use_conservative_prior_mean = True\n",
    "generator_options.model.use_conservative_prior_lengthscale = True\n",
    "generator_options.model.use_low_noise_prior = True\n",
    "generator_options.acq.proximal_lengthscales = [0.5, 0.5]\n",
    "\n",
    "evaluator = Evaluator(function=evaluate_TNK)\n",
    "generator = BayesianExplorationGenerator(vocs, generator_options)\n",
    "\n",
    "print(yaml.dump(generator.options.dict()))"
   ]
  },
  {
   "cell_type": "markdown",
   "metadata": {
    "collapsed": false,
    "pycharm": {
     "name": "#%% md\n"
    }
   },
   "source": [
    "## Run exploration\n",
    "We start with evaluating 2 points that we know satisfy the constraints. We then run\n",
    "30 exploration steps."
   ]
  },
  {
   "cell_type": "code",
   "execution_count": 2,
   "metadata": {
    "collapsed": false,
    "execution": {
     "iopub.execute_input": "2022-08-15T16:53:50.083499Z",
     "iopub.status.busy": "2022-08-15T16:53:50.082871Z",
     "iopub.status.idle": "2022-08-15T16:56:04.719673Z",
     "shell.execute_reply": "2022-08-15T16:56:04.719031Z"
    },
    "pycharm": {
     "name": "#%%\n"
    }
   },
   "outputs": [
    {
     "name": "stdout",
     "output_type": "stream",
     "text": [
      "step 0\n",
      "step 1\n",
      "step 2\n",
      "step 3\n",
      "step 4\n",
      "step 5\n",
      "step 6\n",
      "step 7\n",
      "step 8\n",
      "step 9\n",
      "step 10\n",
      "step 11\n"
     ]
    },
    {
     "name": "stderr",
     "output_type": "stream",
     "text": [
      "/usr/share/miniconda/envs/xopt-dev/lib/python3.9/site-packages/botorch/optim/optimize.py:287: RuntimeWarning: Optimization failed in `gen_candidates_scipy` with the following warning(s):\n",
      "[OptimizationWarning('Optimization failed within `scipy.optimize.minimize` with status 2.'), OptimizationWarning('Optimization failed within `scipy.optimize.minimize` with status 2.')]\n",
      "Because you specified `batch_initial_conditions`, optimization will not be retried with new initial conditions and will proceed with the current solution. Suggested remediation: Try again with different `batch_initial_conditions`, or don't provide `batch_initial_conditions.`\n",
      "  warnings.warn(first_warn_msg, RuntimeWarning)\n"
     ]
    },
    {
     "name": "stdout",
     "output_type": "stream",
     "text": [
      "step 12\n",
      "step 13\n",
      "step 14\n",
      "step 15\n",
      "step 16\n",
      "step 17\n",
      "step 18\n",
      "step 19\n",
      "step 20\n",
      "step 21\n",
      "step 22\n",
      "step 23\n"
     ]
    },
    {
     "name": "stderr",
     "output_type": "stream",
     "text": [
      "/usr/share/miniconda/envs/xopt-dev/lib/python3.9/site-packages/botorch/optim/optimize.py:287: RuntimeWarning: Optimization failed in `gen_candidates_scipy` with the following warning(s):\n",
      "[OptimizationWarning('Optimization failed within `scipy.optimize.minimize` with status 2.')]\n",
      "Because you specified `batch_initial_conditions`, optimization will not be retried with new initial conditions and will proceed with the current solution. Suggested remediation: Try again with different `batch_initial_conditions`, or don't provide `batch_initial_conditions.`\n",
      "  warnings.warn(first_warn_msg, RuntimeWarning)\n"
     ]
    },
    {
     "name": "stdout",
     "output_type": "stream",
     "text": [
      "step 24\n",
      "step 25\n",
      "step 26\n",
      "step 27\n",
      "step 28\n",
      "step 29\n"
     ]
    }
   ],
   "source": [
    "X = Xopt(generator=generator, evaluator=evaluator, vocs=vocs)\n",
    "X.submit_data(pd.DataFrame({\"x1\":[1.0, 0.75],\"x2\":[0.75, 1.0]}))\n",
    "\n",
    "for i in range(30):\n",
    "    print(f\"step {i}\")\n",
    "    X.step()"
   ]
  },
  {
   "cell_type": "code",
   "execution_count": 3,
   "metadata": {
    "collapsed": false,
    "execution": {
     "iopub.execute_input": "2022-08-15T16:56:04.724053Z",
     "iopub.status.busy": "2022-08-15T16:56:04.723625Z",
     "iopub.status.idle": "2022-08-15T16:56:04.754378Z",
     "shell.execute_reply": "2022-08-15T16:56:04.753851Z"
    },
    "pycharm": {
     "name": "#%%\n"
    }
   },
   "outputs": [
    {
     "data": {
      "text/html": [
       "<div>\n",
       "<style scoped>\n",
       "    .dataframe tbody tr th:only-of-type {\n",
       "        vertical-align: middle;\n",
       "    }\n",
       "\n",
       "    .dataframe tbody tr th {\n",
       "        vertical-align: top;\n",
       "    }\n",
       "\n",
       "    .dataframe thead th {\n",
       "        text-align: right;\n",
       "    }\n",
       "</style>\n",
       "<table border=\"1\" class=\"dataframe\">\n",
       "  <thead>\n",
       "    <tr style=\"text-align: right;\">\n",
       "      <th></th>\n",
       "      <th>x1</th>\n",
       "      <th>x2</th>\n",
       "      <th>y1</th>\n",
       "      <th>y2</th>\n",
       "      <th>c1</th>\n",
       "      <th>c2</th>\n",
       "      <th>some_array</th>\n",
       "      <th>xopt_error</th>\n",
       "      <th>xopt_error_str</th>\n",
       "      <th>a</th>\n",
       "    </tr>\n",
       "  </thead>\n",
       "  <tbody>\n",
       "    <tr>\n",
       "      <th>1</th>\n",
       "      <td>1.000000</td>\n",
       "      <td>0.750000</td>\n",
       "      <td>1.000000</td>\n",
       "      <td>0.750000</td>\n",
       "      <td>0.626888</td>\n",
       "      <td>0.312500</td>\n",
       "      <td>[1, 2, 3]</td>\n",
       "      <td>False</td>\n",
       "      <td></td>\n",
       "      <td>NaN</td>\n",
       "    </tr>\n",
       "    <tr>\n",
       "      <th>2</th>\n",
       "      <td>0.750000</td>\n",
       "      <td>1.000000</td>\n",
       "      <td>0.750000</td>\n",
       "      <td>1.000000</td>\n",
       "      <td>0.626888</td>\n",
       "      <td>0.312500</td>\n",
       "      <td>[1, 2, 3]</td>\n",
       "      <td>False</td>\n",
       "      <td></td>\n",
       "      <td>NaN</td>\n",
       "    </tr>\n",
       "    <tr>\n",
       "      <th>3</th>\n",
       "      <td>0.977236</td>\n",
       "      <td>0.915758</td>\n",
       "      <td>0.977236</td>\n",
       "      <td>0.915758</td>\n",
       "      <td>0.706793</td>\n",
       "      <td>0.400609</td>\n",
       "      <td>[1, 2, 3]</td>\n",
       "      <td>False</td>\n",
       "      <td></td>\n",
       "      <td>dummy_constant</td>\n",
       "    </tr>\n",
       "    <tr>\n",
       "      <th>4</th>\n",
       "      <td>0.879252</td>\n",
       "      <td>0.855617</td>\n",
       "      <td>0.879252</td>\n",
       "      <td>0.855617</td>\n",
       "      <td>0.407530</td>\n",
       "      <td>0.270295</td>\n",
       "      <td>[1, 2, 3]</td>\n",
       "      <td>False</td>\n",
       "      <td></td>\n",
       "      <td>dummy_constant</td>\n",
       "    </tr>\n",
       "    <tr>\n",
       "      <th>5</th>\n",
       "      <td>0.108454</td>\n",
       "      <td>0.042571</td>\n",
       "      <td>0.108454</td>\n",
       "      <td>0.042571</td>\n",
       "      <td>-1.082003</td>\n",
       "      <td>0.362550</td>\n",
       "      <td>[1, 2, 3]</td>\n",
       "      <td>False</td>\n",
       "      <td></td>\n",
       "      <td>dummy_constant</td>\n",
       "    </tr>\n",
       "    <tr>\n",
       "      <th>6</th>\n",
       "      <td>0.673280</td>\n",
       "      <td>0.306354</td>\n",
       "      <td>0.673280</td>\n",
       "      <td>0.306354</td>\n",
       "      <td>-0.538140</td>\n",
       "      <td>0.067525</td>\n",
       "      <td>[1, 2, 3]</td>\n",
       "      <td>False</td>\n",
       "      <td></td>\n",
       "      <td>dummy_constant</td>\n",
       "    </tr>\n",
       "    <tr>\n",
       "      <th>7</th>\n",
       "      <td>0.980291</td>\n",
       "      <td>0.918383</td>\n",
       "      <td>0.980291</td>\n",
       "      <td>0.918383</td>\n",
       "      <td>0.717692</td>\n",
       "      <td>0.405724</td>\n",
       "      <td>[1, 2, 3]</td>\n",
       "      <td>False</td>\n",
       "      <td></td>\n",
       "      <td>dummy_constant</td>\n",
       "    </tr>\n",
       "    <tr>\n",
       "      <th>8</th>\n",
       "      <td>0.806476</td>\n",
       "      <td>1.010870</td>\n",
       "      <td>0.806476</td>\n",
       "      <td>1.010870</td>\n",
       "      <td>0.694198</td>\n",
       "      <td>0.354915</td>\n",
       "      <td>[1, 2, 3]</td>\n",
       "      <td>False</td>\n",
       "      <td></td>\n",
       "      <td>dummy_constant</td>\n",
       "    </tr>\n",
       "    <tr>\n",
       "      <th>9</th>\n",
       "      <td>0.816535</td>\n",
       "      <td>0.846114</td>\n",
       "      <td>0.816535</td>\n",
       "      <td>0.846114</td>\n",
       "      <td>0.286662</td>\n",
       "      <td>0.219990</td>\n",
       "      <td>[1, 2, 3]</td>\n",
       "      <td>False</td>\n",
       "      <td></td>\n",
       "      <td>dummy_constant</td>\n",
       "    </tr>\n",
       "    <tr>\n",
       "      <th>10</th>\n",
       "      <td>0.686945</td>\n",
       "      <td>0.867927</td>\n",
       "      <td>0.686945</td>\n",
       "      <td>0.867927</td>\n",
       "      <td>0.253134</td>\n",
       "      <td>0.170319</td>\n",
       "      <td>[1, 2, 3]</td>\n",
       "      <td>False</td>\n",
       "      <td></td>\n",
       "      <td>dummy_constant</td>\n",
       "    </tr>\n",
       "    <tr>\n",
       "      <th>11</th>\n",
       "      <td>0.668695</td>\n",
       "      <td>0.872473</td>\n",
       "      <td>0.668695</td>\n",
       "      <td>0.872473</td>\n",
       "      <td>0.259138</td>\n",
       "      <td>0.167194</td>\n",
       "      <td>[1, 2, 3]</td>\n",
       "      <td>False</td>\n",
       "      <td></td>\n",
       "      <td>dummy_constant</td>\n",
       "    </tr>\n",
       "    <tr>\n",
       "      <th>12</th>\n",
       "      <td>0.943260</td>\n",
       "      <td>0.723483</td>\n",
       "      <td>0.943260</td>\n",
       "      <td>0.723483</td>\n",
       "      <td>0.463450</td>\n",
       "      <td>0.246424</td>\n",
       "      <td>[1, 2, 3]</td>\n",
       "      <td>False</td>\n",
       "      <td></td>\n",
       "      <td>dummy_constant</td>\n",
       "    </tr>\n",
       "    <tr>\n",
       "      <th>13</th>\n",
       "      <td>0.818857</td>\n",
       "      <td>1.016574</td>\n",
       "      <td>0.818857</td>\n",
       "      <td>1.016574</td>\n",
       "      <td>0.718511</td>\n",
       "      <td>0.368518</td>\n",
       "      <td>[1, 2, 3]</td>\n",
       "      <td>False</td>\n",
       "      <td></td>\n",
       "      <td>dummy_constant</td>\n",
       "    </tr>\n",
       "    <tr>\n",
       "      <th>14</th>\n",
       "      <td>0.618713</td>\n",
       "      <td>0.892047</td>\n",
       "      <td>0.618713</td>\n",
       "      <td>0.892047</td>\n",
       "      <td>0.274720</td>\n",
       "      <td>0.167794</td>\n",
       "      <td>[1, 2, 3]</td>\n",
       "      <td>False</td>\n",
       "      <td></td>\n",
       "      <td>dummy_constant</td>\n",
       "    </tr>\n",
       "    <tr>\n",
       "      <th>15</th>\n",
       "      <td>0.575839</td>\n",
       "      <td>0.907705</td>\n",
       "      <td>0.575839</td>\n",
       "      <td>0.907705</td>\n",
       "      <td>0.248400</td>\n",
       "      <td>0.171975</td>\n",
       "      <td>[1, 2, 3]</td>\n",
       "      <td>False</td>\n",
       "      <td></td>\n",
       "      <td>dummy_constant</td>\n",
       "    </tr>\n",
       "    <tr>\n",
       "      <th>16</th>\n",
       "      <td>1.074597</td>\n",
       "      <td>0.762002</td>\n",
       "      <td>1.074597</td>\n",
       "      <td>0.762002</td>\n",
       "      <td>0.825700</td>\n",
       "      <td>0.398806</td>\n",
       "      <td>[1, 2, 3]</td>\n",
       "      <td>False</td>\n",
       "      <td></td>\n",
       "      <td>dummy_constant</td>\n",
       "    </tr>\n",
       "    <tr>\n",
       "      <th>17</th>\n",
       "      <td>0.924464</td>\n",
       "      <td>0.693712</td>\n",
       "      <td>0.924464</td>\n",
       "      <td>0.693712</td>\n",
       "      <td>0.399949</td>\n",
       "      <td>0.217694</td>\n",
       "      <td>[1, 2, 3]</td>\n",
       "      <td>False</td>\n",
       "      <td></td>\n",
       "      <td>dummy_constant</td>\n",
       "    </tr>\n",
       "    <tr>\n",
       "      <th>18</th>\n",
       "      <td>0.850900</td>\n",
       "      <td>0.603723</td>\n",
       "      <td>0.850900</td>\n",
       "      <td>0.603723</td>\n",
       "      <td>0.178620</td>\n",
       "      <td>0.133889</td>\n",
       "      <td>[1, 2, 3]</td>\n",
       "      <td>False</td>\n",
       "      <td></td>\n",
       "      <td>dummy_constant</td>\n",
       "    </tr>\n",
       "    <tr>\n",
       "      <th>19</th>\n",
       "      <td>0.529923</td>\n",
       "      <td>0.924746</td>\n",
       "      <td>0.529923</td>\n",
       "      <td>0.924746</td>\n",
       "      <td>0.181430</td>\n",
       "      <td>0.181305</td>\n",
       "      <td>[1, 2, 3]</td>\n",
       "      <td>False</td>\n",
       "      <td></td>\n",
       "      <td>dummy_constant</td>\n",
       "    </tr>\n",
       "    <tr>\n",
       "      <th>20</th>\n",
       "      <td>0.484005</td>\n",
       "      <td>0.947875</td>\n",
       "      <td>0.484005</td>\n",
       "      <td>0.947875</td>\n",
       "      <td>0.103152</td>\n",
       "      <td>0.200847</td>\n",
       "      <td>[1, 2, 3]</td>\n",
       "      <td>False</td>\n",
       "      <td></td>\n",
       "      <td>dummy_constant</td>\n",
       "    </tr>\n",
       "    <tr>\n",
       "      <th>21</th>\n",
       "      <td>1.091928</td>\n",
       "      <td>0.762826</td>\n",
       "      <td>1.091928</td>\n",
       "      <td>0.762826</td>\n",
       "      <td>0.868755</td>\n",
       "      <td>0.419457</td>\n",
       "      <td>[1, 2, 3]</td>\n",
       "      <td>False</td>\n",
       "      <td></td>\n",
       "      <td>dummy_constant</td>\n",
       "    </tr>\n",
       "    <tr>\n",
       "      <th>22</th>\n",
       "      <td>0.918505</td>\n",
       "      <td>0.602277</td>\n",
       "      <td>0.918505</td>\n",
       "      <td>0.602277</td>\n",
       "      <td>0.305429</td>\n",
       "      <td>0.185607</td>\n",
       "      <td>[1, 2, 3]</td>\n",
       "      <td>False</td>\n",
       "      <td></td>\n",
       "      <td>dummy_constant</td>\n",
       "    </tr>\n",
       "    <tr>\n",
       "      <th>23</th>\n",
       "      <td>0.589993</td>\n",
       "      <td>1.018656</td>\n",
       "      <td>0.589993</td>\n",
       "      <td>1.018656</td>\n",
       "      <td>0.437648</td>\n",
       "      <td>0.277103</td>\n",
       "      <td>[1, 2, 3]</td>\n",
       "      <td>False</td>\n",
       "      <td></td>\n",
       "      <td>dummy_constant</td>\n",
       "    </tr>\n",
       "    <tr>\n",
       "      <th>24</th>\n",
       "      <td>1.004083</td>\n",
       "      <td>0.573202</td>\n",
       "      <td>1.004083</td>\n",
       "      <td>0.573202</td>\n",
       "      <td>0.379846</td>\n",
       "      <td>0.259458</td>\n",
       "      <td>[1, 2, 3]</td>\n",
       "      <td>False</td>\n",
       "      <td></td>\n",
       "      <td>dummy_constant</td>\n",
       "    </tr>\n",
       "    <tr>\n",
       "      <th>25</th>\n",
       "      <td>1.059425</td>\n",
       "      <td>0.546770</td>\n",
       "      <td>1.059425</td>\n",
       "      <td>0.546770</td>\n",
       "      <td>0.398457</td>\n",
       "      <td>0.315144</td>\n",
       "      <td>[1, 2, 3]</td>\n",
       "      <td>False</td>\n",
       "      <td></td>\n",
       "      <td>dummy_constant</td>\n",
       "    </tr>\n",
       "    <tr>\n",
       "      <th>26</th>\n",
       "      <td>1.140786</td>\n",
       "      <td>0.541030</td>\n",
       "      <td>1.140786</td>\n",
       "      <td>0.541030</td>\n",
       "      <td>0.524602</td>\n",
       "      <td>0.412290</td>\n",
       "      <td>[1, 2, 3]</td>\n",
       "      <td>False</td>\n",
       "      <td></td>\n",
       "      <td>dummy_constant</td>\n",
       "    </tr>\n",
       "    <tr>\n",
       "      <th>27</th>\n",
       "      <td>0.525713</td>\n",
       "      <td>1.047515</td>\n",
       "      <td>0.525713</td>\n",
       "      <td>1.047515</td>\n",
       "      <td>0.333643</td>\n",
       "      <td>0.300434</td>\n",
       "      <td>[1, 2, 3]</td>\n",
       "      <td>False</td>\n",
       "      <td></td>\n",
       "      <td>dummy_constant</td>\n",
       "    </tr>\n",
       "    <tr>\n",
       "      <th>28</th>\n",
       "      <td>0.463792</td>\n",
       "      <td>1.061703</td>\n",
       "      <td>0.463792</td>\n",
       "      <td>1.061703</td>\n",
       "      <td>0.246977</td>\n",
       "      <td>0.316822</td>\n",
       "      <td>[1, 2, 3]</td>\n",
       "      <td>False</td>\n",
       "      <td></td>\n",
       "      <td>dummy_constant</td>\n",
       "    </tr>\n",
       "    <tr>\n",
       "      <th>29</th>\n",
       "      <td>0.406715</td>\n",
       "      <td>1.067161</td>\n",
       "      <td>0.406715</td>\n",
       "      <td>1.067161</td>\n",
       "      <td>0.214520</td>\n",
       "      <td>0.330373</td>\n",
       "      <td>[1, 2, 3]</td>\n",
       "      <td>False</td>\n",
       "      <td></td>\n",
       "      <td>dummy_constant</td>\n",
       "    </tr>\n",
       "    <tr>\n",
       "      <th>30</th>\n",
       "      <td>0.345133</td>\n",
       "      <td>1.069930</td>\n",
       "      <td>0.345133</td>\n",
       "      <td>1.069930</td>\n",
       "      <td>0.236211</td>\n",
       "      <td>0.348804</td>\n",
       "      <td>[1, 2, 3]</td>\n",
       "      <td>False</td>\n",
       "      <td></td>\n",
       "      <td>dummy_constant</td>\n",
       "    </tr>\n",
       "    <tr>\n",
       "      <th>31</th>\n",
       "      <td>0.187601</td>\n",
       "      <td>1.016705</td>\n",
       "      <td>0.187601</td>\n",
       "      <td>1.016705</td>\n",
       "      <td>0.166427</td>\n",
       "      <td>0.364578</td>\n",
       "      <td>[1, 2, 3]</td>\n",
       "      <td>False</td>\n",
       "      <td></td>\n",
       "      <td>dummy_constant</td>\n",
       "    </tr>\n",
       "    <tr>\n",
       "      <th>32</th>\n",
       "      <td>0.150762</td>\n",
       "      <td>1.010266</td>\n",
       "      <td>0.150762</td>\n",
       "      <td>1.010266</td>\n",
       "      <td>0.115061</td>\n",
       "      <td>0.382339</td>\n",
       "      <td>[1, 2, 3]</td>\n",
       "      <td>False</td>\n",
       "      <td></td>\n",
       "      <td>dummy_constant</td>\n",
       "    </tr>\n",
       "  </tbody>\n",
       "</table>\n",
       "</div>"
      ],
      "text/plain": [
       "          x1        x2        y1        y2        c1        c2 some_array  \\\n",
       "1   1.000000  0.750000  1.000000  0.750000  0.626888  0.312500  [1, 2, 3]   \n",
       "2   0.750000  1.000000  0.750000  1.000000  0.626888  0.312500  [1, 2, 3]   \n",
       "3   0.977236  0.915758  0.977236  0.915758  0.706793  0.400609  [1, 2, 3]   \n",
       "4   0.879252  0.855617  0.879252  0.855617  0.407530  0.270295  [1, 2, 3]   \n",
       "5   0.108454  0.042571  0.108454  0.042571 -1.082003  0.362550  [1, 2, 3]   \n",
       "6   0.673280  0.306354  0.673280  0.306354 -0.538140  0.067525  [1, 2, 3]   \n",
       "7   0.980291  0.918383  0.980291  0.918383  0.717692  0.405724  [1, 2, 3]   \n",
       "8   0.806476  1.010870  0.806476  1.010870  0.694198  0.354915  [1, 2, 3]   \n",
       "9   0.816535  0.846114  0.816535  0.846114  0.286662  0.219990  [1, 2, 3]   \n",
       "10  0.686945  0.867927  0.686945  0.867927  0.253134  0.170319  [1, 2, 3]   \n",
       "11  0.668695  0.872473  0.668695  0.872473  0.259138  0.167194  [1, 2, 3]   \n",
       "12  0.943260  0.723483  0.943260  0.723483  0.463450  0.246424  [1, 2, 3]   \n",
       "13  0.818857  1.016574  0.818857  1.016574  0.718511  0.368518  [1, 2, 3]   \n",
       "14  0.618713  0.892047  0.618713  0.892047  0.274720  0.167794  [1, 2, 3]   \n",
       "15  0.575839  0.907705  0.575839  0.907705  0.248400  0.171975  [1, 2, 3]   \n",
       "16  1.074597  0.762002  1.074597  0.762002  0.825700  0.398806  [1, 2, 3]   \n",
       "17  0.924464  0.693712  0.924464  0.693712  0.399949  0.217694  [1, 2, 3]   \n",
       "18  0.850900  0.603723  0.850900  0.603723  0.178620  0.133889  [1, 2, 3]   \n",
       "19  0.529923  0.924746  0.529923  0.924746  0.181430  0.181305  [1, 2, 3]   \n",
       "20  0.484005  0.947875  0.484005  0.947875  0.103152  0.200847  [1, 2, 3]   \n",
       "21  1.091928  0.762826  1.091928  0.762826  0.868755  0.419457  [1, 2, 3]   \n",
       "22  0.918505  0.602277  0.918505  0.602277  0.305429  0.185607  [1, 2, 3]   \n",
       "23  0.589993  1.018656  0.589993  1.018656  0.437648  0.277103  [1, 2, 3]   \n",
       "24  1.004083  0.573202  1.004083  0.573202  0.379846  0.259458  [1, 2, 3]   \n",
       "25  1.059425  0.546770  1.059425  0.546770  0.398457  0.315144  [1, 2, 3]   \n",
       "26  1.140786  0.541030  1.140786  0.541030  0.524602  0.412290  [1, 2, 3]   \n",
       "27  0.525713  1.047515  0.525713  1.047515  0.333643  0.300434  [1, 2, 3]   \n",
       "28  0.463792  1.061703  0.463792  1.061703  0.246977  0.316822  [1, 2, 3]   \n",
       "29  0.406715  1.067161  0.406715  1.067161  0.214520  0.330373  [1, 2, 3]   \n",
       "30  0.345133  1.069930  0.345133  1.069930  0.236211  0.348804  [1, 2, 3]   \n",
       "31  0.187601  1.016705  0.187601  1.016705  0.166427  0.364578  [1, 2, 3]   \n",
       "32  0.150762  1.010266  0.150762  1.010266  0.115061  0.382339  [1, 2, 3]   \n",
       "\n",
       "    xopt_error xopt_error_str               a  \n",
       "1        False                            NaN  \n",
       "2        False                            NaN  \n",
       "3        False                 dummy_constant  \n",
       "4        False                 dummy_constant  \n",
       "5        False                 dummy_constant  \n",
       "6        False                 dummy_constant  \n",
       "7        False                 dummy_constant  \n",
       "8        False                 dummy_constant  \n",
       "9        False                 dummy_constant  \n",
       "10       False                 dummy_constant  \n",
       "11       False                 dummy_constant  \n",
       "12       False                 dummy_constant  \n",
       "13       False                 dummy_constant  \n",
       "14       False                 dummy_constant  \n",
       "15       False                 dummy_constant  \n",
       "16       False                 dummy_constant  \n",
       "17       False                 dummy_constant  \n",
       "18       False                 dummy_constant  \n",
       "19       False                 dummy_constant  \n",
       "20       False                 dummy_constant  \n",
       "21       False                 dummy_constant  \n",
       "22       False                 dummy_constant  \n",
       "23       False                 dummy_constant  \n",
       "24       False                 dummy_constant  \n",
       "25       False                 dummy_constant  \n",
       "26       False                 dummy_constant  \n",
       "27       False                 dummy_constant  \n",
       "28       False                 dummy_constant  \n",
       "29       False                 dummy_constant  \n",
       "30       False                 dummy_constant  \n",
       "31       False                 dummy_constant  \n",
       "32       False                 dummy_constant  "
      ]
     },
     "execution_count": 3,
     "metadata": {},
     "output_type": "execute_result"
    }
   ],
   "source": [
    "# view the data\n",
    "X.data"
   ]
  },
  {
   "cell_type": "code",
   "execution_count": 4,
   "metadata": {
    "collapsed": false,
    "execution": {
     "iopub.execute_input": "2022-08-15T16:56:04.757958Z",
     "iopub.status.busy": "2022-08-15T16:56:04.757559Z",
     "iopub.status.idle": "2022-08-15T16:56:05.476878Z",
     "shell.execute_reply": "2022-08-15T16:56:05.476285Z"
    },
    "pycharm": {
     "name": "#%%\n"
    }
   },
   "outputs": [
    {
     "data": {
      "image/png": "[encoded data removed]",
      "text/plain": [
       "<Figure size 432x288 with 1 Axes>"
      ]
     },
     "metadata": {
      "needs_background": "light"
     },
     "output_type": "display_data"
    }
   ],
   "source": [
    "# plot results\n",
    "ax = X.data.plot(\"x1\", \"x2\")\n",
    "ax.set_aspect(\"equal\")"
   ]
  },
  {
   "cell_type": "markdown",
   "metadata": {
    "collapsed": false,
    "pycharm": {
     "name": "#%% md\n"
    }
   },
   "source": [
    "## Introspect models\n",
    "During exploration we generate Gaussian Process models of each objective and\n",
    "constraint. We demonstrate how they are viewed below."
   ]
  },
  {
   "cell_type": "code",
   "execution_count": 5,
   "metadata": {
    "collapsed": false,
    "execution": {
     "iopub.execute_input": "2022-08-15T16:56:05.481990Z",
     "iopub.status.busy": "2022-08-15T16:56:05.480553Z",
     "iopub.status.idle": "2022-08-15T16:56:08.743917Z",
     "shell.execute_reply": "2022-08-15T16:56:08.743100Z"
    },
    "pycharm": {
     "name": "#%%\n"
    }
   },
   "outputs": [
    {
     "name": "stderr",
     "output_type": "stream",
     "text": [
      "/usr/share/miniconda/envs/xopt-dev/lib/python3.9/site-packages/torch/functional.py:478: UserWarning: torch.meshgrid: in an upcoming release, it will be required to pass the indexing argument. (Triggered internally at  /home/conda/feedstock_root/build_artifacts/pytorch-recipe_1660136119739/work/aten/src/ATen/native/TensorShape.cpp:2894.)\n",
      "  return _VF.meshgrid(tensors, **kwargs)  # type: ignore[attr-defined]\n"
     ]
    },
    {
     "data": {
      "image/png": "[encoded data removed]",
      "text/plain": [
       "<Figure size 432x288 with 2 Axes>"
      ]
     },
     "metadata": {
      "needs_background": "light"
     },
     "output_type": "display_data"
    },
    {
     "data": {
      "image/png": "[encoded data removed]",
      "text/plain": [
       "<Figure size 432x288 with 2 Axes>"
      ]
     },
     "metadata": {
      "needs_background": "light"
     },
     "output_type": "display_data"
    },
    {
     "data": {
      "image/png": "[encoded data removed]",
      "text/plain": [
       "<Figure size 432x288 with 2 Axes>"
      ]
     },
     "metadata": {
      "needs_background": "light"
     },
     "output_type": "display_data"
    },
    {
     "data": {
      "image/png": "[encoded data removed]",
      "text/plain": [
       "<Figure size 432x288 with 2 Axes>"
      ]
     },
     "metadata": {
      "needs_background": "light"
     },
     "output_type": "display_data"
    },
    {
     "data": {
      "image/png": "[encoded data removed]",
      "text/plain": [
       "<Figure size 432x288 with 2 Axes>"
      ]
     },
     "metadata": {
      "needs_background": "light"
     },
     "output_type": "display_data"
    },
    {
     "data": {
      "image/png": "[encoded data removed]",
      "text/plain": [
       "<Figure size 432x288 with 2 Axes>"
      ]
     },
     "metadata": {
      "needs_background": "light"
     },
     "output_type": "display_data"
    }
   ],
   "source": [
    "from matplotlib import pyplot as plt  # plot model predictions\n",
    "\n",
    "data = X.data\n",
    "\n",
    "bounds = generator.vocs.bounds\n",
    "model = generator.train_model(generator.data)\n",
    "\n",
    "# create mesh\n",
    "n = 200\n",
    "x = torch.linspace(*bounds.T[0], n)\n",
    "y = torch.linspace(*bounds.T[1], n)\n",
    "xx, yy = torch.meshgrid(x, y)\n",
    "pts = torch.hstack([ele.reshape(-1, 1) for ele in (xx, yy)]).double()\n",
    "\n",
    "outputs = generator.vocs.output_names\n",
    "with torch.no_grad():\n",
    "    post = model.posterior(pts)\n",
    "\n",
    "    mean = post.mean\n",
    "    std = torch.sqrt(post.variance)\n",
    "\n",
    "    for i in range(mean.shape[-1]):\n",
    "        fig, ax = plt.subplots()\n",
    "        ax.plot(*data[[\"x1\", \"x2\"]].to_numpy().T, \"+C1\")\n",
    "        c = ax.pcolor(xx, yy, mean[:, i].reshape(n, n), cmap=\"seismic\",vmin=-10.0,\n",
    "                      vmax=10.0)\n",
    "        fig.colorbar(c)\n",
    "        ax.set_title(f\"Posterior mean: {outputs[i]}\")\n",
    "\n",
    "        fig2, ax2 = plt.subplots()\n",
    "        ax2.plot(*data[[\"x1\", \"x2\"]].to_numpy().T, \"+C1\")\n",
    "        c = ax2.pcolor(xx, yy, std[:, i].reshape(n, n))\n",
    "        fig2.colorbar(c)\n",
    "        ax2.set_title(f\"Posterior std: {outputs[i]}\")"
   ]
  },
  {
   "cell_type": "markdown",
   "metadata": {
    "collapsed": false,
    "pycharm": {
     "name": "#%% md\n"
    }
   },
   "source": [
    "## View acquisition function and feasibility prediction"
   ]
  },
  {
   "cell_type": "code",
   "execution_count": 6,
   "metadata": {
    "collapsed": false,
    "execution": {
     "iopub.execute_input": "2022-08-15T16:56:08.747716Z",
     "iopub.status.busy": "2022-08-15T16:56:08.747080Z",
     "iopub.status.idle": "2022-08-15T16:56:11.746685Z",
     "shell.execute_reply": "2022-08-15T16:56:11.745875Z"
    },
    "pycharm": {
     "name": "#%%\n"
    }
   },
   "outputs": [
    {
     "data": {
      "image/png": "[encoded data removed]",
      "text/plain": [
       "<Figure size 432x288 with 2 Axes>"
      ]
     },
     "metadata": {
      "needs_background": "light"
     },
     "output_type": "display_data"
    },
    {
     "data": {
      "image/png": "[encoded data removed]",
      "text/plain": [
       "<Figure size 432x288 with 2 Axes>"
      ]
     },
     "metadata": {
      "needs_background": "light"
     },
     "output_type": "display_data"
    }
   ],
   "source": [
    "from xopt.generators.bayesian.utils import feasibility\n",
    "\n",
    "acq_func = generator.get_acquisition(model)\n",
    "with torch.no_grad():\n",
    "    acq_pts = pts.unsqueeze(1)\n",
    "    acq = acq_func(acq_pts)\n",
    "\n",
    "    fig, ax = plt.subplots()\n",
    "    c = ax.pcolor(xx, yy, acq.reshape(n, n))\n",
    "    ax.plot(*data[[\"x1\", \"x2\"]].to_numpy().T, \"+C3\")\n",
    "\n",
    "    fig.colorbar(c)\n",
    "    ax.set_title(\"Acquisition function\")\n",
    "\n",
    "    feas = feasibility(pts.unsqueeze(1), model, generator.sampler, vocs).flatten()\n",
    "\n",
    "    fig2, ax2 = plt.subplots()\n",
    "    c = ax2.pcolor(xx, yy, feas.reshape(n, n))\n",
    "    ax2.plot(*data[[\"x1\", \"x2\"]].to_numpy().T, \"+C3\")\n",
    "\n",
    "    fig2.colorbar(c)\n",
    "    ax2.set_title(\"Feasible Region\")"
   ]
  },
  {
   "cell_type": "markdown",
   "metadata": {
    "collapsed": false,
    "pycharm": {
     "name": "#%% md\n"
    }
   },
   "source": [
    "## Generator model hyperparameters"
   ]
  },
  {
   "cell_type": "code",
   "execution_count": 7,
   "metadata": {
    "collapsed": false,
    "execution": {
     "iopub.execute_input": "2022-08-15T16:56:11.750088Z",
     "iopub.status.busy": "2022-08-15T16:56:11.749700Z",
     "iopub.status.idle": "2022-08-15T16:56:11.758224Z",
     "shell.execute_reply": "2022-08-15T16:56:11.757603Z"
    },
    "pycharm": {
     "name": "#%%\n"
    }
   },
   "outputs": [
    {
     "name": "stdout",
     "output_type": "stream",
     "text": [
      "models.0.likelihood.noise_covar.raw_noise:Parameter containing:\n",
      "tensor([-25.8390], dtype=torch.float64, requires_grad=True)\n",
      "models.0.mean_module.raw_constant:-0.287018422176419\n",
      "models.0.covar_module.raw_outputscale:6.272262410324552\n",
      "models.0.covar_module.base_kernel.raw_lengthscale:Parameter containing:\n",
      "tensor([[0.2162, 1.1289]], dtype=torch.float64, requires_grad=True)\n",
      "models.1.likelihood.noise_covar.raw_noise:Parameter containing:\n",
      "tensor([-22.6283], dtype=torch.float64, requires_grad=True)\n",
      "models.1.mean_module.raw_constant:5.0\n",
      "models.1.covar_module.raw_outputscale:2.205442677225911\n",
      "models.1.covar_module.base_kernel.raw_lengthscale:Parameter containing:\n",
      "tensor([[-0.9810, -1.3574]], dtype=torch.float64, requires_grad=True)\n",
      "models.2.likelihood.noise_covar.raw_noise:Parameter containing:\n",
      "tensor([-25.5876], dtype=torch.float64, requires_grad=True)\n",
      "models.2.mean_module.raw_constant:5.0\n",
      "models.2.covar_module.raw_outputscale:1.7978818246934303\n",
      "models.2.covar_module.base_kernel.raw_lengthscale:Parameter containing:\n",
      "tensor([[-0.8724, -1.2693]], dtype=torch.float64, requires_grad=True)\n"
     ]
    },
    {
     "data": {
      "text/plain": [
       "tensor([[0.3492, 0.2477]], dtype=torch.float64, grad_fn=<SoftplusBackward0>)"
      ]
     },
     "execution_count": 7,
     "metadata": {},
     "output_type": "execute_result"
    }
   ],
   "source": [
    "# print generator model hyperparameters\n",
    "for name, val in X.generator.model.named_parameters():\n",
    "    print(f\"{name}:{val}\")\n",
    "\n",
    "X.generator.model.models[2].covar_module.base_kernel.lengthscale"
   ]
  },
  {
   "cell_type": "markdown",
   "metadata": {
    "collapsed": false,
    "pycharm": {
     "name": "#%% md\n"
    }
   },
   "source": [
    "## Examine the number of constraint violations\n",
    "Using the convience function provided by the vocs object we can evaluate which\n",
    "samples violate either or both of our constraints."
   ]
  },
  {
   "cell_type": "code",
   "execution_count": 8,
   "metadata": {
    "collapsed": false,
    "execution": {
     "iopub.execute_input": "2022-08-15T16:56:11.761159Z",
     "iopub.status.busy": "2022-08-15T16:56:11.760931Z",
     "iopub.status.idle": "2022-08-15T16:56:11.773101Z",
     "shell.execute_reply": "2022-08-15T16:56:11.772465Z"
    },
    "pycharm": {
     "name": "#%%\n"
    }
   },
   "outputs": [
    {
     "data": {
      "text/html": [
       "<div>\n",
       "<style scoped>\n",
       "    .dataframe tbody tr th:only-of-type {\n",
       "        vertical-align: middle;\n",
       "    }\n",
       "\n",
       "    .dataframe tbody tr th {\n",
       "        vertical-align: top;\n",
       "    }\n",
       "\n",
       "    .dataframe thead th {\n",
       "        text-align: right;\n",
       "    }\n",
       "</style>\n",
       "<table border=\"1\" class=\"dataframe\">\n",
       "  <thead>\n",
       "    <tr style=\"text-align: right;\">\n",
       "      <th></th>\n",
       "      <th>feasible_c1</th>\n",
       "      <th>feasible_c2</th>\n",
       "      <th>feasible</th>\n",
       "    </tr>\n",
       "  </thead>\n",
       "  <tbody>\n",
       "    <tr>\n",
       "      <th>1</th>\n",
       "      <td>True</td>\n",
       "      <td>True</td>\n",
       "      <td>True</td>\n",
       "    </tr>\n",
       "    <tr>\n",
       "      <th>2</th>\n",
       "      <td>True</td>\n",
       "      <td>True</td>\n",
       "      <td>True</td>\n",
       "    </tr>\n",
       "    <tr>\n",
       "      <th>3</th>\n",
       "      <td>True</td>\n",
       "      <td>True</td>\n",
       "      <td>True</td>\n",
       "    </tr>\n",
       "    <tr>\n",
       "      <th>4</th>\n",
       "      <td>True</td>\n",
       "      <td>True</td>\n",
       "      <td>True</td>\n",
       "    </tr>\n",
       "    <tr>\n",
       "      <th>5</th>\n",
       "      <td>False</td>\n",
       "      <td>True</td>\n",
       "      <td>False</td>\n",
       "    </tr>\n",
       "    <tr>\n",
       "      <th>6</th>\n",
       "      <td>False</td>\n",
       "      <td>True</td>\n",
       "      <td>False</td>\n",
       "    </tr>\n",
       "    <tr>\n",
       "      <th>7</th>\n",
       "      <td>True</td>\n",
       "      <td>True</td>\n",
       "      <td>True</td>\n",
       "    </tr>\n",
       "    <tr>\n",
       "      <th>8</th>\n",
       "      <td>True</td>\n",
       "      <td>True</td>\n",
       "      <td>True</td>\n",
       "    </tr>\n",
       "    <tr>\n",
       "      <th>9</th>\n",
       "      <td>True</td>\n",
       "      <td>True</td>\n",
       "      <td>True</td>\n",
       "    </tr>\n",
       "    <tr>\n",
       "      <th>10</th>\n",
       "      <td>True</td>\n",
       "      <td>True</td>\n",
       "      <td>True</td>\n",
       "    </tr>\n",
       "    <tr>\n",
       "      <th>11</th>\n",
       "      <td>True</td>\n",
       "      <td>True</td>\n",
       "      <td>True</td>\n",
       "    </tr>\n",
       "    <tr>\n",
       "      <th>12</th>\n",
       "      <td>True</td>\n",
       "      <td>True</td>\n",
       "      <td>True</td>\n",
       "    </tr>\n",
       "    <tr>\n",
       "      <th>13</th>\n",
       "      <td>True</td>\n",
       "      <td>True</td>\n",
       "      <td>True</td>\n",
       "    </tr>\n",
       "    <tr>\n",
       "      <th>14</th>\n",
       "      <td>True</td>\n",
       "      <td>True</td>\n",
       "      <td>True</td>\n",
       "    </tr>\n",
       "    <tr>\n",
       "      <th>15</th>\n",
       "      <td>True</td>\n",
       "      <td>True</td>\n",
       "      <td>True</td>\n",
       "    </tr>\n",
       "    <tr>\n",
       "      <th>16</th>\n",
       "      <td>True</td>\n",
       "      <td>True</td>\n",
       "      <td>True</td>\n",
       "    </tr>\n",
       "    <tr>\n",
       "      <th>17</th>\n",
       "      <td>True</td>\n",
       "      <td>True</td>\n",
       "      <td>True</td>\n",
       "    </tr>\n",
       "    <tr>\n",
       "      <th>18</th>\n",
       "      <td>True</td>\n",
       "      <td>True</td>\n",
       "      <td>True</td>\n",
       "    </tr>\n",
       "    <tr>\n",
       "      <th>19</th>\n",
       "      <td>True</td>\n",
       "      <td>True</td>\n",
       "      <td>True</td>\n",
       "    </tr>\n",
       "    <tr>\n",
       "      <th>20</th>\n",
       "      <td>True</td>\n",
       "      <td>True</td>\n",
       "      <td>True</td>\n",
       "    </tr>\n",
       "    <tr>\n",
       "      <th>21</th>\n",
       "      <td>True</td>\n",
       "      <td>True</td>\n",
       "      <td>True</td>\n",
       "    </tr>\n",
       "    <tr>\n",
       "      <th>22</th>\n",
       "      <td>True</td>\n",
       "      <td>True</td>\n",
       "      <td>True</td>\n",
       "    </tr>\n",
       "    <tr>\n",
       "      <th>23</th>\n",
       "      <td>True</td>\n",
       "      <td>True</td>\n",
       "      <td>True</td>\n",
       "    </tr>\n",
       "    <tr>\n",
       "      <th>24</th>\n",
       "      <td>True</td>\n",
       "      <td>True</td>\n",
       "      <td>True</td>\n",
       "    </tr>\n",
       "    <tr>\n",
       "      <th>25</th>\n",
       "      <td>True</td>\n",
       "      <td>True</td>\n",
       "      <td>True</td>\n",
       "    </tr>\n",
       "    <tr>\n",
       "      <th>26</th>\n",
       "      <td>True</td>\n",
       "      <td>True</td>\n",
       "      <td>True</td>\n",
       "    </tr>\n",
       "    <tr>\n",
       "      <th>27</th>\n",
       "      <td>True</td>\n",
       "      <td>True</td>\n",
       "      <td>True</td>\n",
       "    </tr>\n",
       "    <tr>\n",
       "      <th>28</th>\n",
       "      <td>True</td>\n",
       "      <td>True</td>\n",
       "      <td>True</td>\n",
       "    </tr>\n",
       "    <tr>\n",
       "      <th>29</th>\n",
       "      <td>True</td>\n",
       "      <td>True</td>\n",
       "      <td>True</td>\n",
       "    </tr>\n",
       "    <tr>\n",
       "      <th>30</th>\n",
       "      <td>True</td>\n",
       "      <td>True</td>\n",
       "      <td>True</td>\n",
       "    </tr>\n",
       "    <tr>\n",
       "      <th>31</th>\n",
       "      <td>True</td>\n",
       "      <td>True</td>\n",
       "      <td>True</td>\n",
       "    </tr>\n",
       "    <tr>\n",
       "      <th>32</th>\n",
       "      <td>True</td>\n",
       "      <td>True</td>\n",
       "      <td>True</td>\n",
       "    </tr>\n",
       "  </tbody>\n",
       "</table>\n",
       "</div>"
      ],
      "text/plain": [
       "    feasible_c1  feasible_c2  feasible\n",
       "1          True         True      True\n",
       "2          True         True      True\n",
       "3          True         True      True\n",
       "4          True         True      True\n",
       "5         False         True     False\n",
       "6         False         True     False\n",
       "7          True         True      True\n",
       "8          True         True      True\n",
       "9          True         True      True\n",
       "10         True         True      True\n",
       "11         True         True      True\n",
       "12         True         True      True\n",
       "13         True         True      True\n",
       "14         True         True      True\n",
       "15         True         True      True\n",
       "16         True         True      True\n",
       "17         True         True      True\n",
       "18         True         True      True\n",
       "19         True         True      True\n",
       "20         True         True      True\n",
       "21         True         True      True\n",
       "22         True         True      True\n",
       "23         True         True      True\n",
       "24         True         True      True\n",
       "25         True         True      True\n",
       "26         True         True      True\n",
       "27         True         True      True\n",
       "28         True         True      True\n",
       "29         True         True      True\n",
       "30         True         True      True\n",
       "31         True         True      True\n",
       "32         True         True      True"
      ]
     },
     "execution_count": 8,
     "metadata": {},
     "output_type": "execute_result"
    }
   ],
   "source": [
    "X.vocs.feasibility_data(X.data)"
   ]
  }
 ],
 "metadata": {
  "kernelspec": {
   "display_name": "Python 3 (ipykernel)",
   "language": "python",
   "name": "python3"
  },
  "language_info": {
   "codemirror_mode": {
    "name": "ipython",
    "version": 3
   },
   "file_extension": ".py",
   "mimetype": "text/x-python",
   "name": "python",
   "nbconvert_exporter": "python",
   "pygments_lexer": "ipython3",
   "version": "3.9.13"
  }
 },
 "nbformat": 4,
 "nbformat_minor": 4
}
