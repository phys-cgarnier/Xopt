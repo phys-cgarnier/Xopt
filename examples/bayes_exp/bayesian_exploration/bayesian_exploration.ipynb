{
 "cells": [
  {
   "cell_type": "markdown",
   "metadata": {
    "collapsed": false
   },
   "source": [
    "# Bayesian Exploration\n",
    "Here we demonstrate the use of Bayesian Exploration to characterize an unknown\n",
    "function in the presence of constraints (see [here](https://www.nature.com/articles/s41467-021-25757-3)).\n",
    "The function we wish to explore is the first objective of the TNK test problem."
   ]
  },
  {
   "cell_type": "markdown",
   "metadata": {
    "collapsed": false
   },
   "source": [
    "## Specifiying generator options\n",
    "We start with the generator defaults and modify as needed for conservative\n",
    "exploration, which should prevent any constraint violations."
   ]
  },
  {
   "cell_type": "code",
   "execution_count": 1,
   "metadata": {
    "collapsed": false,
    "execution": {
     "iopub.execute_input": "2023-05-01T19:52:51.661291Z",
     "iopub.status.busy": "2023-05-01T19:52:51.661010Z",
     "iopub.status.idle": "2023-05-01T19:52:54.151383Z",
     "shell.execute_reply": "2023-05-01T19:52:54.149771Z"
    }
   },
   "outputs": [
    {
     "name": "stdout",
     "output_type": "stream",
     "text": [
      "acq:\n",
      "  monte_carlo_samples: 128\n",
      "  proximal_lengthscales: null\n",
      "  use_transformed_proximal_weights: true\n",
      "model:\n",
      "  covar_modules: {}\n",
      "  custom_constructor: null\n",
      "  mean_modules: {}\n",
      "  name: standard\n",
      "  use_low_noise_prior: true\n",
      "n_initial: 3\n",
      "optim:\n",
      "  max_travel_distances:\n",
      "  - 0.25\n",
      "  - 0.25\n",
      "  num_restarts: 20\n",
      "  raw_samples: 20\n",
      "  sequential: true\n",
      "  use_turbo: false\n",
      "use_cuda: false\n",
      "\n"
     ]
    }
   ],
   "source": [
    "# Ignore all warnings\n",
    "import warnings\n",
    "warnings.filterwarnings(\"ignore\")\n",
    "\n",
    "import pandas as pd\n",
    "import torch\n",
    "import yaml\n",
    "from copy import deepcopy\n",
    "from xopt import Xopt, Evaluator\n",
    "from xopt.generators.bayesian import BayesianExplorationGenerator\n",
    "from xopt.resources.test_functions.tnk import evaluate_TNK, tnk_vocs\n",
    "\n",
    "vocs = deepcopy(tnk_vocs)\n",
    "\n",
    "# can only explore one objective\n",
    "del vocs.objectives[\"y2\"]\n",
    "\n",
    "generator_options = BayesianExplorationGenerator.default_options()\n",
    "generator_options.optim.num_restarts = 20\n",
    "generator_options.optim.raw_samples = 20\n",
    "generator_options.optim.max_travel_distances = [0.25, 0.25]\n",
    "\n",
    "evaluator = Evaluator(function=evaluate_TNK)\n",
    "generator = BayesianExplorationGenerator(vocs, generator_options)\n",
    "\n",
    "print(yaml.dump(generator.options.dict()))"
   ]
  },
  {
   "cell_type": "markdown",
   "metadata": {
    "collapsed": false
   },
   "source": [
    "## Run exploration\n",
    "We start with evaluating 2 points that we know satisfy the constraints. We then run\n",
    "30 exploration steps."
   ]
  },
  {
   "cell_type": "code",
   "execution_count": 2,
   "metadata": {
    "collapsed": false,
    "execution": {
     "iopub.execute_input": "2023-05-01T19:52:54.197383Z",
     "iopub.status.busy": "2023-05-01T19:52:54.196617Z",
     "iopub.status.idle": "2023-05-01T19:52:54.219581Z",
     "shell.execute_reply": "2023-05-01T19:52:54.218933Z"
    }
   },
   "outputs": [
    {
     "data": {
      "text/html": [
       "<div>\n",
       "<style scoped>\n",
       "    .dataframe tbody tr th:only-of-type {\n",
       "        vertical-align: middle;\n",
       "    }\n",
       "\n",
       "    .dataframe tbody tr th {\n",
       "        vertical-align: top;\n",
       "    }\n",
       "\n",
       "    .dataframe thead th {\n",
       "        text-align: right;\n",
       "    }\n",
       "</style>\n",
       "<table border=\"1\" class=\"dataframe\">\n",
       "  <thead>\n",
       "    <tr style=\"text-align: right;\">\n",
       "      <th></th>\n",
       "      <th>x1</th>\n",
       "      <th>x2</th>\n",
       "      <th>y1</th>\n",
       "      <th>y2</th>\n",
       "      <th>c1</th>\n",
       "      <th>c2</th>\n",
       "      <th>some_array</th>\n",
       "      <th>xopt_runtime</th>\n",
       "      <th>xopt_error</th>\n",
       "    </tr>\n",
       "  </thead>\n",
       "  <tbody>\n",
       "    <tr>\n",
       "      <th>1</th>\n",
       "      <td>1.00</td>\n",
       "      <td>0.70</td>\n",
       "      <td>1.00</td>\n",
       "      <td>0.70</td>\n",
       "      <td>0.584045</td>\n",
       "      <td>0.290</td>\n",
       "      <td>[1, 2, 3]</td>\n",
       "      <td>0.000056</td>\n",
       "      <td>False</td>\n",
       "    </tr>\n",
       "    <tr>\n",
       "      <th>2</th>\n",
       "      <td>0.75</td>\n",
       "      <td>0.95</td>\n",
       "      <td>0.75</td>\n",
       "      <td>0.95</td>\n",
       "      <td>0.494833</td>\n",
       "      <td>0.265</td>\n",
       "      <td>[1, 2, 3]</td>\n",
       "      <td>0.000013</td>\n",
       "      <td>False</td>\n",
       "    </tr>\n",
       "  </tbody>\n",
       "</table>\n",
       "</div>"
      ],
      "text/plain": [
       "     x1    x2    y1    y2        c1     c2 some_array  xopt_runtime   \n",
       "1  1.00  0.70  1.00  0.70  0.584045  0.290  [1, 2, 3]      0.000056  \\\n",
       "2  0.75  0.95  0.75  0.95  0.494833  0.265  [1, 2, 3]      0.000013   \n",
       "\n",
       "   xopt_error  \n",
       "1       False  \n",
       "2       False  "
      ]
     },
     "execution_count": 2,
     "metadata": {},
     "output_type": "execute_result"
    }
   ],
   "source": [
    "X = Xopt(generator=generator, evaluator=evaluator, vocs=vocs)\n",
    "X.evaluate_data(pd.DataFrame({\"x1\":[1.0, 0.75],\"x2\":[0.7, 0.95]}))"
   ]
  },
  {
   "cell_type": "code",
   "execution_count": 3,
   "metadata": {
    "collapsed": false,
    "execution": {
     "iopub.execute_input": "2023-05-01T19:52:54.222895Z",
     "iopub.status.busy": "2023-05-01T19:52:54.222381Z",
     "iopub.status.idle": "2023-05-01T19:53:32.413557Z",
     "shell.execute_reply": "2023-05-01T19:53:32.412843Z"
    }
   },
   "outputs": [
    {
     "name": "stdout",
     "output_type": "stream",
     "text": [
      "step 0\n",
      "step 1\n",
      "step 2\n",
      "step 3\n",
      "step 4\n",
      "step 5\n",
      "step 6\n",
      "step 7\n",
      "step 8\n",
      "step 9\n"
     ]
    }
   ],
   "source": [
    "for i in range(10):\n",
    "    print(f\"step {i}\")\n",
    "    X.step()"
   ]
  },
  {
   "cell_type": "code",
   "execution_count": 4,
   "metadata": {
    "collapsed": false,
    "execution": {
     "iopub.execute_input": "2023-05-01T19:53:32.418812Z",
     "iopub.status.busy": "2023-05-01T19:53:32.417433Z",
     "iopub.status.idle": "2023-05-01T19:53:32.437812Z",
     "shell.execute_reply": "2023-05-01T19:53:32.437178Z"
    }
   },
   "outputs": [
    {
     "data": {
      "text/html": [
       "<div>\n",
       "<style scoped>\n",
       "    .dataframe tbody tr th:only-of-type {\n",
       "        vertical-align: middle;\n",
       "    }\n",
       "\n",
       "    .dataframe tbody tr th {\n",
       "        vertical-align: top;\n",
       "    }\n",
       "\n",
       "    .dataframe thead th {\n",
       "        text-align: right;\n",
       "    }\n",
       "</style>\n",
       "<table border=\"1\" class=\"dataframe\">\n",
       "  <thead>\n",
       "    <tr style=\"text-align: right;\">\n",
       "      <th></th>\n",
       "      <th>x1</th>\n",
       "      <th>x2</th>\n",
       "      <th>y1</th>\n",
       "      <th>y2</th>\n",
       "      <th>c1</th>\n",
       "      <th>c2</th>\n",
       "      <th>some_array</th>\n",
       "      <th>xopt_runtime</th>\n",
       "      <th>xopt_error</th>\n",
       "      <th>a</th>\n",
       "    </tr>\n",
       "  </thead>\n",
       "  <tbody>\n",
       "    <tr>\n",
       "      <th>1</th>\n",
       "      <td>1.000000</td>\n",
       "      <td>0.700000</td>\n",
       "      <td>1.000000</td>\n",
       "      <td>0.700000</td>\n",
       "      <td>0.584045</td>\n",
       "      <td>0.290000</td>\n",
       "      <td>[1, 2, 3]</td>\n",
       "      <td>0.000056</td>\n",
       "      <td>False</td>\n",
       "      <td>NaN</td>\n",
       "    </tr>\n",
       "    <tr>\n",
       "      <th>2</th>\n",
       "      <td>0.750000</td>\n",
       "      <td>0.950000</td>\n",
       "      <td>0.750000</td>\n",
       "      <td>0.950000</td>\n",
       "      <td>0.494833</td>\n",
       "      <td>0.265000</td>\n",
       "      <td>[1, 2, 3]</td>\n",
       "      <td>0.000013</td>\n",
       "      <td>False</td>\n",
       "      <td>NaN</td>\n",
       "    </tr>\n",
       "    <tr>\n",
       "      <th>3</th>\n",
       "      <td>1.535397</td>\n",
       "      <td>1.735397</td>\n",
       "      <td>1.535397</td>\n",
       "      <td>1.735397</td>\n",
       "      <td>4.313110</td>\n",
       "      <td>2.598255</td>\n",
       "      <td>[1, 2, 3]</td>\n",
       "      <td>0.000044</td>\n",
       "      <td>False</td>\n",
       "      <td>dummy_constant</td>\n",
       "    </tr>\n",
       "    <tr>\n",
       "      <th>4</th>\n",
       "      <td>0.832440</td>\n",
       "      <td>0.950000</td>\n",
       "      <td>0.832440</td>\n",
       "      <td>0.950000</td>\n",
       "      <td>0.546025</td>\n",
       "      <td>0.313017</td>\n",
       "      <td>[1, 2, 3]</td>\n",
       "      <td>0.000042</td>\n",
       "      <td>False</td>\n",
       "      <td>dummy_constant</td>\n",
       "    </tr>\n",
       "    <tr>\n",
       "      <th>5</th>\n",
       "      <td>0.048228</td>\n",
       "      <td>0.832000</td>\n",
       "      <td>0.048228</td>\n",
       "      <td>0.832000</td>\n",
       "      <td>-0.365519</td>\n",
       "      <td>0.314322</td>\n",
       "      <td>[1, 2, 3]</td>\n",
       "      <td>0.000039</td>\n",
       "      <td>False</td>\n",
       "      <td>dummy_constant</td>\n",
       "    </tr>\n",
       "    <tr>\n",
       "      <th>6</th>\n",
       "      <td>0.786511</td>\n",
       "      <td>0.601136</td>\n",
       "      <td>0.786511</td>\n",
       "      <td>0.601136</td>\n",
       "      <td>0.032578</td>\n",
       "      <td>0.092317</td>\n",
       "      <td>[1, 2, 3]</td>\n",
       "      <td>0.000042</td>\n",
       "      <td>False</td>\n",
       "      <td>dummy_constant</td>\n",
       "    </tr>\n",
       "    <tr>\n",
       "      <th>7</th>\n",
       "      <td>0.484700</td>\n",
       "      <td>1.014958</td>\n",
       "      <td>0.484700</td>\n",
       "      <td>1.014958</td>\n",
       "      <td>0.198725</td>\n",
       "      <td>0.265415</td>\n",
       "      <td>[1, 2, 3]</td>\n",
       "      <td>0.000043</td>\n",
       "      <td>False</td>\n",
       "      <td>dummy_constant</td>\n",
       "    </tr>\n",
       "    <tr>\n",
       "      <th>8</th>\n",
       "      <td>1.035105</td>\n",
       "      <td>0.465091</td>\n",
       "      <td>1.035105</td>\n",
       "      <td>0.465091</td>\n",
       "      <td>0.198750</td>\n",
       "      <td>0.287556</td>\n",
       "      <td>[1, 2, 3]</td>\n",
       "      <td>0.000045</td>\n",
       "      <td>False</td>\n",
       "      <td>dummy_constant</td>\n",
       "    </tr>\n",
       "    <tr>\n",
       "      <th>9</th>\n",
       "      <td>1.143056</td>\n",
       "      <td>0.528882</td>\n",
       "      <td>1.143056</td>\n",
       "      <td>0.528882</td>\n",
       "      <td>0.506716</td>\n",
       "      <td>0.414355</td>\n",
       "      <td>[1, 2, 3]</td>\n",
       "      <td>0.000044</td>\n",
       "      <td>False</td>\n",
       "      <td>dummy_constant</td>\n",
       "    </tr>\n",
       "    <tr>\n",
       "      <th>10</th>\n",
       "      <td>0.664119</td>\n",
       "      <td>1.107022</td>\n",
       "      <td>0.664119</td>\n",
       "      <td>1.107022</td>\n",
       "      <td>0.737710</td>\n",
       "      <td>0.395411</td>\n",
       "      <td>[1, 2, 3]</td>\n",
       "      <td>0.000043</td>\n",
       "      <td>False</td>\n",
       "      <td>dummy_constant</td>\n",
       "    </tr>\n",
       "    <tr>\n",
       "      <th>11</th>\n",
       "      <td>0.411608</td>\n",
       "      <td>1.140337</td>\n",
       "      <td>0.411608</td>\n",
       "      <td>1.140337</td>\n",
       "      <td>0.395998</td>\n",
       "      <td>0.417845</td>\n",
       "      <td>[1, 2, 3]</td>\n",
       "      <td>0.000043</td>\n",
       "      <td>False</td>\n",
       "      <td>dummy_constant</td>\n",
       "    </tr>\n",
       "    <tr>\n",
       "      <th>12</th>\n",
       "      <td>1.030267</td>\n",
       "      <td>0.881957</td>\n",
       "      <td>1.030267</td>\n",
       "      <td>0.881957</td>\n",
       "      <td>0.806673</td>\n",
       "      <td>0.427074</td>\n",
       "      <td>[1, 2, 3]</td>\n",
       "      <td>0.000043</td>\n",
       "      <td>False</td>\n",
       "      <td>dummy_constant</td>\n",
       "    </tr>\n",
       "  </tbody>\n",
       "</table>\n",
       "</div>"
      ],
      "text/plain": [
       "          x1        x2        y1        y2        c1        c2 some_array   \n",
       "1   1.000000  0.700000  1.000000  0.700000  0.584045  0.290000  [1, 2, 3]  \\\n",
       "2   0.750000  0.950000  0.750000  0.950000  0.494833  0.265000  [1, 2, 3]   \n",
       "3   1.535397  1.735397  1.535397  1.735397  4.313110  2.598255  [1, 2, 3]   \n",
       "4   0.832440  0.950000  0.832440  0.950000  0.546025  0.313017  [1, 2, 3]   \n",
       "5   0.048228  0.832000  0.048228  0.832000 -0.365519  0.314322  [1, 2, 3]   \n",
       "6   0.786511  0.601136  0.786511  0.601136  0.032578  0.092317  [1, 2, 3]   \n",
       "7   0.484700  1.014958  0.484700  1.014958  0.198725  0.265415  [1, 2, 3]   \n",
       "8   1.035105  0.465091  1.035105  0.465091  0.198750  0.287556  [1, 2, 3]   \n",
       "9   1.143056  0.528882  1.143056  0.528882  0.506716  0.414355  [1, 2, 3]   \n",
       "10  0.664119  1.107022  0.664119  1.107022  0.737710  0.395411  [1, 2, 3]   \n",
       "11  0.411608  1.140337  0.411608  1.140337  0.395998  0.417845  [1, 2, 3]   \n",
       "12  1.030267  0.881957  1.030267  0.881957  0.806673  0.427074  [1, 2, 3]   \n",
       "\n",
       "    xopt_runtime  xopt_error               a  \n",
       "1       0.000056       False             NaN  \n",
       "2       0.000013       False             NaN  \n",
       "3       0.000044       False  dummy_constant  \n",
       "4       0.000042       False  dummy_constant  \n",
       "5       0.000039       False  dummy_constant  \n",
       "6       0.000042       False  dummy_constant  \n",
       "7       0.000043       False  dummy_constant  \n",
       "8       0.000045       False  dummy_constant  \n",
       "9       0.000044       False  dummy_constant  \n",
       "10      0.000043       False  dummy_constant  \n",
       "11      0.000043       False  dummy_constant  \n",
       "12      0.000043       False  dummy_constant  "
      ]
     },
     "execution_count": 4,
     "metadata": {},
     "output_type": "execute_result"
    }
   ],
   "source": [
    "# view the data\n",
    "X.data"
   ]
  },
  {
   "cell_type": "code",
   "execution_count": 5,
   "metadata": {
    "collapsed": false,
    "execution": {
     "iopub.execute_input": "2023-05-01T19:53:32.442857Z",
     "iopub.status.busy": "2023-05-01T19:53:32.441553Z",
     "iopub.status.idle": "2023-05-01T19:53:33.151085Z",
     "shell.execute_reply": "2023-05-01T19:53:33.150415Z"
    }
   },
   "outputs": [
    {
     "data": {
      "image/png": "[encoded data removed]",
      "text/plain": [
       "<Figure size 640x480 with 1 Axes>"
      ]
     },
     "metadata": {},
     "output_type": "display_data"
    }
   ],
   "source": [
    "# plot results\n",
    "ax = X.data.plot(\"x1\", \"x2\")\n",
    "ax.set_aspect(\"equal\")"
   ]
  },
  {
   "cell_type": "markdown",
   "metadata": {
    "collapsed": false
   },
   "source": [
    "## Introspect models\n",
    "During exploration we generate Gaussian Process models of each objective and\n",
    "constraint. We demonstrate how they are viewed below."
   ]
  },
  {
   "cell_type": "code",
   "execution_count": 6,
   "metadata": {
    "collapsed": false,
    "execution": {
     "iopub.execute_input": "2023-05-01T19:53:33.156339Z",
     "iopub.status.busy": "2023-05-01T19:53:33.155487Z",
     "iopub.status.idle": "2023-05-01T19:53:34.895889Z",
     "shell.execute_reply": "2023-05-01T19:53:34.894789Z"
    }
   },
   "outputs": [
    {
     "data": {
      "image/png": "[encoded data removed]",
      "text/plain": [
       "<Figure size 640x480 with 2 Axes>"
      ]
     },
     "metadata": {},
     "output_type": "display_data"
    },
    {
     "data": {
      "image/png": "[encoded data removed]",
      "text/plain": [
       "<Figure size 640x480 with 2 Axes>"
      ]
     },
     "metadata": {},
     "output_type": "display_data"
    },
    {
     "data": {
      "image/png": "[encoded data removed]",
      "text/plain": [
       "<Figure size 640x480 with 2 Axes>"
      ]
     },
     "metadata": {},
     "output_type": "display_data"
    }
   ],
   "source": [
    "from matplotlib import pyplot as plt  # plot model predictions\n",
    "\n",
    "data = X.data\n",
    "\n",
    "bounds = generator.vocs.bounds\n",
    "model = generator.train_model(generator.data)\n",
    "\n",
    "# create mesh\n",
    "n = 50\n",
    "x = torch.linspace(*bounds.T[0], n)\n",
    "y = torch.linspace(*bounds.T[1], n)\n",
    "xx, yy = torch.meshgrid(x, y)\n",
    "pts = torch.hstack([ele.reshape(-1, 1) for ele in (xx, yy)]).double()\n",
    "\n",
    "outputs = generator.vocs.output_names\n",
    "with torch.no_grad():\n",
    "    post = model.posterior(pts)\n",
    "\n",
    "    for i in range(len(vocs.output_names)):\n",
    "        mean = post.mean[...,i]\n",
    "        fig, ax = plt.subplots()\n",
    "        ax.plot(*data[[\"x1\", \"x2\"]].to_numpy().T, \"+C1\")\n",
    "        c = ax.pcolor(\n",
    "            xx, yy, mean.squeeze().reshape(n, n),\n",
    "            cmap=\"seismic\",\n",
    "            vmin=-10.0,\n",
    "            vmax=10.0)\n",
    "        fig.colorbar(c)\n",
    "        ax.set_title(f\"Posterior mean: {outputs[i]}\")"
   ]
  },
  {
   "cell_type": "markdown",
   "metadata": {
    "collapsed": false
   },
   "source": [
    "## View acquisition function and feasibility prediction"
   ]
  },
  {
   "cell_type": "code",
   "execution_count": 7,
   "metadata": {
    "collapsed": false,
    "execution": {
     "iopub.execute_input": "2023-05-01T19:53:34.900344Z",
     "iopub.status.busy": "2023-05-01T19:53:34.899794Z",
     "iopub.status.idle": "2023-05-01T19:53:35.850519Z",
     "shell.execute_reply": "2023-05-01T19:53:35.849689Z"
    }
   },
   "outputs": [
    {
     "data": {
      "image/png": "[encoded data removed]",
      "text/plain": [
       "<Figure size 640x480 with 2 Axes>"
      ]
     },
     "metadata": {},
     "output_type": "display_data"
    },
    {
     "data": {
      "image/png": "[encoded data removed]",
      "text/plain": [
       "<Figure size 640x480 with 2 Axes>"
      ]
     },
     "metadata": {},
     "output_type": "display_data"
    }
   ],
   "source": [
    "from xopt.generators.bayesian.objectives import feasibility\n",
    "\n",
    "acq_func = generator.get_acquisition(model)\n",
    "with torch.no_grad():\n",
    "    acq_pts = pts.unsqueeze(1)\n",
    "    acq = acq_func(acq_pts)\n",
    "\n",
    "    fig, ax = plt.subplots()\n",
    "    c = ax.pcolor(xx, yy, acq.reshape(n, n))\n",
    "    ax.plot(*data[[\"x1\", \"x2\"]].to_numpy().T, \"+C3\")\n",
    "\n",
    "    fig.colorbar(c)\n",
    "    ax.set_title(\"Acquisition function\")\n",
    "\n",
    "    feas = feasibility(pts.unsqueeze(1), model, generator.sampler, vocs).flatten()\n",
    "\n",
    "    fig2, ax2 = plt.subplots()\n",
    "    c = ax2.pcolor(xx, yy, feas.reshape(n, n))\n",
    "    ax2.plot(*data[[\"x1\", \"x2\"]].to_numpy().T, \"+C3\")\n",
    "\n",
    "    fig2.colorbar(c)\n",
    "    ax2.set_title(\"Feasible Region\")"
   ]
  },
  {
   "cell_type": "markdown",
   "metadata": {
    "collapsed": false
   },
   "source": [
    "## Generator model hyperparameters"
   ]
  },
  {
   "cell_type": "code",
   "execution_count": 8,
   "metadata": {
    "collapsed": false,
    "execution": {
     "iopub.execute_input": "2023-05-01T19:53:35.854835Z",
     "iopub.status.busy": "2023-05-01T19:53:35.854148Z",
     "iopub.status.idle": "2023-05-01T19:53:35.868133Z",
     "shell.execute_reply": "2023-05-01T19:53:35.867432Z"
    }
   },
   "outputs": [
    {
     "name": "stdout",
     "output_type": "stream",
     "text": [
      "models.0.likelihood.noise_covar.raw_noise:Parameter containing:\n",
      "tensor([-25.5517], dtype=torch.float64, requires_grad=True)\n",
      "models.0.mean_module.raw_constant:Parameter containing:\n",
      "tensor(0.0434, dtype=torch.float64, requires_grad=True)\n",
      "models.0.covar_module.raw_outputscale:Parameter containing:\n",
      "tensor(4.0236, dtype=torch.float64, requires_grad=True)\n",
      "models.0.covar_module.base_kernel.raw_lengthscale:Parameter containing:\n",
      "tensor([[0.0651, 0.8535]], dtype=torch.float64, requires_grad=True)\n",
      "models.1.mean_module.raw_constant:Parameter containing:\n",
      "tensor(-0.9017, dtype=torch.float64, requires_grad=True)\n",
      "models.1.covar_module.raw_outputscale:Parameter containing:\n",
      "tensor(3.3373, dtype=torch.float64, requires_grad=True)\n",
      "models.1.covar_module.base_kernel.raw_lengthscale:Parameter containing:\n",
      "tensor([[-0.8780, -0.8271]], dtype=torch.float64, requires_grad=True)\n",
      "models.2.mean_module.raw_constant:Parameter containing:\n",
      "tensor(3.0945, dtype=torch.float64, requires_grad=True)\n",
      "models.2.covar_module.raw_outputscale:Parameter containing:\n",
      "tensor(4.9544, dtype=torch.float64, requires_grad=True)\n",
      "models.2.covar_module.base_kernel.raw_lengthscale:Parameter containing:\n",
      "tensor([[ 0.0302, -0.0723]], dtype=torch.float64, requires_grad=True)\n"
     ]
    },
    {
     "data": {
      "text/plain": [
       "tensor([[0.7084, 0.6577]], dtype=torch.float64, grad_fn=<SoftplusBackward0>)"
      ]
     },
     "execution_count": 8,
     "metadata": {},
     "output_type": "execute_result"
    }
   ],
   "source": [
    "# print generator model hyperparameters\n",
    "for name, val in X.generator.model.named_parameters():\n",
    "    print(f\"{name}:{val}\")\n",
    "\n",
    "X.generator.model.models[2].covar_module.base_kernel.lengthscale"
   ]
  },
  {
   "cell_type": "markdown",
   "metadata": {
    "collapsed": false
   },
   "source": [
    "## Examine the number of constraint violations\n",
    "Using the convience function provided by the vocs object we can evaluate which\n",
    "samples violate either or both of our constraints."
   ]
  },
  {
   "cell_type": "code",
   "execution_count": 9,
   "metadata": {
    "collapsed": false,
    "execution": {
     "iopub.execute_input": "2023-05-01T19:53:35.872217Z",
     "iopub.status.busy": "2023-05-01T19:53:35.871601Z",
     "iopub.status.idle": "2023-05-01T19:53:35.887268Z",
     "shell.execute_reply": "2023-05-01T19:53:35.886590Z"
    }
   },
   "outputs": [
    {
     "data": {
      "text/html": [
       "<div>\n",
       "<style scoped>\n",
       "    .dataframe tbody tr th:only-of-type {\n",
       "        vertical-align: middle;\n",
       "    }\n",
       "\n",
       "    .dataframe tbody tr th {\n",
       "        vertical-align: top;\n",
       "    }\n",
       "\n",
       "    .dataframe thead th {\n",
       "        text-align: right;\n",
       "    }\n",
       "</style>\n",
       "<table border=\"1\" class=\"dataframe\">\n",
       "  <thead>\n",
       "    <tr style=\"text-align: right;\">\n",
       "      <th></th>\n",
       "      <th>feasible_c1</th>\n",
       "      <th>feasible_c2</th>\n",
       "      <th>feasible</th>\n",
       "    </tr>\n",
       "  </thead>\n",
       "  <tbody>\n",
       "    <tr>\n",
       "      <th>1</th>\n",
       "      <td>True</td>\n",
       "      <td>True</td>\n",
       "      <td>True</td>\n",
       "    </tr>\n",
       "    <tr>\n",
       "      <th>2</th>\n",
       "      <td>True</td>\n",
       "      <td>True</td>\n",
       "      <td>True</td>\n",
       "    </tr>\n",
       "    <tr>\n",
       "      <th>3</th>\n",
       "      <td>True</td>\n",
       "      <td>False</td>\n",
       "      <td>False</td>\n",
       "    </tr>\n",
       "    <tr>\n",
       "      <th>4</th>\n",
       "      <td>True</td>\n",
       "      <td>True</td>\n",
       "      <td>True</td>\n",
       "    </tr>\n",
       "    <tr>\n",
       "      <th>5</th>\n",
       "      <td>False</td>\n",
       "      <td>True</td>\n",
       "      <td>False</td>\n",
       "    </tr>\n",
       "    <tr>\n",
       "      <th>6</th>\n",
       "      <td>True</td>\n",
       "      <td>True</td>\n",
       "      <td>True</td>\n",
       "    </tr>\n",
       "    <tr>\n",
       "      <th>7</th>\n",
       "      <td>True</td>\n",
       "      <td>True</td>\n",
       "      <td>True</td>\n",
       "    </tr>\n",
       "    <tr>\n",
       "      <th>8</th>\n",
       "      <td>True</td>\n",
       "      <td>True</td>\n",
       "      <td>True</td>\n",
       "    </tr>\n",
       "    <tr>\n",
       "      <th>9</th>\n",
       "      <td>True</td>\n",
       "      <td>True</td>\n",
       "      <td>True</td>\n",
       "    </tr>\n",
       "    <tr>\n",
       "      <th>10</th>\n",
       "      <td>True</td>\n",
       "      <td>True</td>\n",
       "      <td>True</td>\n",
       "    </tr>\n",
       "    <tr>\n",
       "      <th>11</th>\n",
       "      <td>True</td>\n",
       "      <td>True</td>\n",
       "      <td>True</td>\n",
       "    </tr>\n",
       "    <tr>\n",
       "      <th>12</th>\n",
       "      <td>True</td>\n",
       "      <td>True</td>\n",
       "      <td>True</td>\n",
       "    </tr>\n",
       "  </tbody>\n",
       "</table>\n",
       "</div>"
      ],
      "text/plain": [
       "    feasible_c1  feasible_c2  feasible\n",
       "1          True         True      True\n",
       "2          True         True      True\n",
       "3          True        False     False\n",
       "4          True         True      True\n",
       "5         False         True     False\n",
       "6          True         True      True\n",
       "7          True         True      True\n",
       "8          True         True      True\n",
       "9          True         True      True\n",
       "10         True         True      True\n",
       "11         True         True      True\n",
       "12         True         True      True"
      ]
     },
     "execution_count": 9,
     "metadata": {},
     "output_type": "execute_result"
    }
   ],
   "source": [
    "X.vocs.feasibility_data(X.data)"
   ]
  },
  {
   "cell_type": "code",
   "execution_count": 10,
   "metadata": {
    "collapsed": false,
    "execution": {
     "iopub.execute_input": "2023-05-01T19:53:35.890660Z",
     "iopub.status.busy": "2023-05-01T19:53:35.890398Z",
     "iopub.status.idle": "2023-05-01T19:53:38.452991Z",
     "shell.execute_reply": "2023-05-01T19:53:38.452333Z"
    }
   },
   "outputs": [
    {
     "data": {
      "text/html": [
       "<div>\n",
       "<style scoped>\n",
       "    .dataframe tbody tr th:only-of-type {\n",
       "        vertical-align: middle;\n",
       "    }\n",
       "\n",
       "    .dataframe tbody tr th {\n",
       "        vertical-align: top;\n",
       "    }\n",
       "\n",
       "    .dataframe thead th {\n",
       "        text-align: right;\n",
       "    }\n",
       "</style>\n",
       "<table border=\"1\" class=\"dataframe\">\n",
       "  <thead>\n",
       "    <tr style=\"text-align: right;\">\n",
       "      <th></th>\n",
       "      <th>x1</th>\n",
       "      <th>x2</th>\n",
       "      <th>a</th>\n",
       "    </tr>\n",
       "  </thead>\n",
       "  <tbody>\n",
       "    <tr>\n",
       "      <th>0</th>\n",
       "      <td>1.165223</td>\n",
       "      <td>0.403477</td>\n",
       "      <td>dummy_constant</td>\n",
       "    </tr>\n",
       "  </tbody>\n",
       "</table>\n",
       "</div>"
      ],
      "text/plain": [
       "         x1        x2               a\n",
       "0  1.165223  0.403477  dummy_constant"
      ]
     },
     "execution_count": 10,
     "metadata": {},
     "output_type": "execute_result"
    }
   ],
   "source": [
    "# generate next point\n",
    "X.generator.generate(1)"
   ]
  },
  {
   "cell_type": "code",
   "execution_count": 10,
   "metadata": {
    "collapsed": false
   },
   "outputs": [],
   "source": []
  }
 ],
 "metadata": {
  "kernelspec": {
   "display_name": "Python 3 (ipykernel)",
   "language": "python",
   "name": "python3"
  },
  "language_info": {
   "codemirror_mode": {
    "name": "ipython",
    "version": 3
   },
   "file_extension": ".py",
   "mimetype": "text/x-python",
   "name": "python",
   "nbconvert_exporter": "python",
   "pygments_lexer": "ipython3",
   "version": "3.9.16"
  }
 },
 "nbformat": 4,
 "nbformat_minor": 4
}
