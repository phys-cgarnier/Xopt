{
 "cells": [
  {
   "cell_type": "markdown",
   "id": "e34be21c-2948-40b4-b248-08c07b768f4c",
   "metadata": {
    "pycharm": {
     "name": "#%% md\n"
    }
   },
   "source": [
    "# Logging example"
   ]
  },
  {
   "cell_type": "code",
   "execution_count": 1,
   "id": "341ef631-01e9-403e-b83c-ddd57758b659",
   "metadata": {
    "execution": {
     "iopub.execute_input": "2023-05-30T05:57:17.063569Z",
     "iopub.status.busy": "2023-05-30T05:57:17.063060Z",
     "iopub.status.idle": "2023-05-30T05:57:18.373891Z",
     "shell.execute_reply": "2023-05-30T05:57:18.373235Z"
    },
    "pycharm": {
     "is_executing": true,
     "name": "#%%\n"
    }
   },
   "outputs": [],
   "source": [
    "from xopt.log import configure_logger"
   ]
  },
  {
   "cell_type": "code",
   "execution_count": 2,
   "id": "f064e8f5-78c8-44ba-a9ad-af6de9a9f81c",
   "metadata": {
    "execution": {
     "iopub.execute_input": "2023-05-30T05:57:18.377865Z",
     "iopub.status.busy": "2023-05-30T05:57:18.377288Z",
     "iopub.status.idle": "2023-05-30T05:57:18.386061Z",
     "shell.execute_reply": "2023-05-30T05:57:18.385513Z"
    },
    "pycharm": {
     "name": "#%%\n"
    }
   },
   "outputs": [
    {
     "data": {
      "text/plain": [
       "'__main__'"
      ]
     },
     "execution_count": 2,
     "metadata": {},
     "output_type": "execute_result"
    }
   ],
   "source": [
    "# Notebook names are this:\n",
    "__name__"
   ]
  },
  {
   "cell_type": "code",
   "execution_count": 3,
   "id": "7ffd874c-95e6-4b36-b953-cae1a8305a3e",
   "metadata": {
    "execution": {
     "iopub.execute_input": "2023-05-30T05:57:18.389081Z",
     "iopub.status.busy": "2023-05-30T05:57:18.388774Z",
     "iopub.status.idle": "2023-05-30T05:57:18.392732Z",
     "shell.execute_reply": "2023-05-30T05:57:18.392201Z"
    },
    "pycharm": {
     "name": "#%%\n"
    }
   },
   "outputs": [],
   "source": [
    "# Put this in the top of any .py file or notebook\n",
    "import logging\n",
    "\n",
    "logger = logging.getLogger(__name__)"
   ]
  },
  {
   "cell_type": "code",
   "execution_count": 4,
   "id": "7c66b6ae-3302-444f-858c-b74d23cd9887",
   "metadata": {
    "execution": {
     "iopub.execute_input": "2023-05-30T05:57:18.395281Z",
     "iopub.status.busy": "2023-05-30T05:57:18.395079Z",
     "iopub.status.idle": "2023-05-30T05:57:18.398957Z",
     "shell.execute_reply": "2023-05-30T05:57:18.398427Z"
    },
    "pycharm": {
     "name": "#%%\n"
    }
   },
   "outputs": [],
   "source": [
    "# Put this at the top-level application. For texting, just use the notebook name.\n",
    "configure_logger(logger_name=__name__, file=\"log.txt\", level=\"INFO\")"
   ]
  },
  {
   "cell_type": "code",
   "execution_count": 5,
   "id": "36d17c5c-8544-431e-a4e1-9d433b3b9f18",
   "metadata": {
    "execution": {
     "iopub.execute_input": "2023-05-30T05:57:18.401463Z",
     "iopub.status.busy": "2023-05-30T05:57:18.401138Z",
     "iopub.status.idle": "2023-05-30T05:57:18.404346Z",
     "shell.execute_reply": "2023-05-30T05:57:18.403740Z"
    },
    "pycharm": {
     "name": "#%%\n"
    }
   },
   "outputs": [],
   "source": [
    "logger.debug(\"some debug message\")  # This will write to log.txt\n",
    "logger.info(\"some info message\")"
   ]
  },
  {
   "cell_type": "code",
   "execution_count": 6,
   "id": "194c4e57-d89e-4772-afe0-e09920422070",
   "metadata": {
    "execution": {
     "iopub.execute_input": "2023-05-30T05:57:18.407112Z",
     "iopub.status.busy": "2023-05-30T05:57:18.406637Z",
     "iopub.status.idle": "2023-05-30T05:57:18.561670Z",
     "shell.execute_reply": "2023-05-30T05:57:18.560859Z"
    },
    "pycharm": {
     "name": "#%%\n"
    }
   },
   "outputs": [
    {
     "name": "stdout",
     "output_type": "stream",
     "text": [
      "2023-05-30T05:57:18+0000 - __main__ - INFO - some info message\r\n"
     ]
    }
   ],
   "source": [
    "!cat log.txt"
   ]
  },
  {
   "cell_type": "code",
   "execution_count": 7,
   "id": "027258a3-2a85-4d19-ba1b-6b0ffc36f4fb",
   "metadata": {
    "execution": {
     "iopub.execute_input": "2023-05-30T05:57:18.565657Z",
     "iopub.status.busy": "2023-05-30T05:57:18.565033Z",
     "iopub.status.idle": "2023-05-30T05:57:18.569535Z",
     "shell.execute_reply": "2023-05-30T05:57:18.568876Z"
    },
    "pycharm": {
     "name": "#%%\n"
    }
   },
   "outputs": [],
   "source": [
    "# Change level to debug\n",
    "configure_logger(logger_name=__name__, file=\"log.txt\", level=\"DEBUG\")"
   ]
  },
  {
   "cell_type": "code",
   "execution_count": 8,
   "id": "dee5097d-046c-4282-b4c9-bad375c4f86e",
   "metadata": {
    "execution": {
     "iopub.execute_input": "2023-05-30T05:57:18.572256Z",
     "iopub.status.busy": "2023-05-30T05:57:18.572032Z",
     "iopub.status.idle": "2023-05-30T05:57:18.576230Z",
     "shell.execute_reply": "2023-05-30T05:57:18.575684Z"
    },
    "pycharm": {
     "name": "#%%\n"
    }
   },
   "outputs": [],
   "source": [
    "logger.debug(\"another debug message\")\n",
    "logger.info(\"another info message\")"
   ]
  },
  {
   "cell_type": "code",
   "execution_count": 9,
   "id": "d5806766-0ba2-4ef8-802d-db03b9e449a8",
   "metadata": {
    "execution": {
     "iopub.execute_input": "2023-05-30T05:57:18.579135Z",
     "iopub.status.busy": "2023-05-30T05:57:18.578694Z",
     "iopub.status.idle": "2023-05-30T05:57:18.733955Z",
     "shell.execute_reply": "2023-05-30T05:57:18.733155Z"
    },
    "pycharm": {
     "name": "#%%\n"
    }
   },
   "outputs": [
    {
     "name": "stdout",
     "output_type": "stream",
     "text": [
      "2023-05-30T05:57:18+0000 - __main__ - INFO - some info message\r\n",
      "2023-05-30T05:57:18+0000 - __main__ - DEBUG - another debug message\r\n",
      "2023-05-30T05:57:18+0000 - __main__ - INFO - another info message\r\n"
     ]
    }
   ],
   "source": [
    "!cat log.txt # Now we see debug messages"
   ]
  },
  {
   "cell_type": "code",
   "execution_count": 10,
   "id": "60da3411-8e5c-4b53-bb27-fb523c1d6b51",
   "metadata": {
    "execution": {
     "iopub.execute_input": "2023-05-30T05:57:18.737756Z",
     "iopub.status.busy": "2023-05-30T05:57:18.737245Z",
     "iopub.status.idle": "2023-05-30T05:57:18.742328Z",
     "shell.execute_reply": "2023-05-30T05:57:18.741757Z"
    },
    "pycharm": {
     "name": "#%%\n"
    }
   },
   "outputs": [],
   "source": [
    "# With no file=, the default will go to stdout (here)\n",
    "configure_logger(logger_name=__name__, level=\"INFO\")"
   ]
  },
  {
   "cell_type": "code",
   "execution_count": 11,
   "id": "e494afd8-bbe4-4c84-b2b8-aa5eb970f0fc",
   "metadata": {
    "execution": {
     "iopub.execute_input": "2023-05-30T05:57:18.745086Z",
     "iopub.status.busy": "2023-05-30T05:57:18.744566Z",
     "iopub.status.idle": "2023-05-30T05:57:18.748288Z",
     "shell.execute_reply": "2023-05-30T05:57:18.747707Z"
    },
    "pycharm": {
     "name": "#%%\n"
    }
   },
   "outputs": [
    {
     "name": "stdout",
     "output_type": "stream",
     "text": [
      "yet another info message\n"
     ]
    }
   ],
   "source": [
    "logger.debug(\"yet another debug message\")\n",
    "logger.info(\"yet another info message\")"
   ]
  },
  {
   "cell_type": "code",
   "execution_count": 12,
   "id": "77980290-10ff-486b-af42-4dd7e0182726",
   "metadata": {
    "execution": {
     "iopub.execute_input": "2023-05-30T05:57:18.751525Z",
     "iopub.status.busy": "2023-05-30T05:57:18.751190Z",
     "iopub.status.idle": "2023-05-30T05:57:18.905401Z",
     "shell.execute_reply": "2023-05-30T05:57:18.904589Z"
    },
    "pycharm": {
     "name": "#%%\n"
    }
   },
   "outputs": [
    {
     "name": "stdout",
     "output_type": "stream",
     "text": [
      "2023-05-30T05:57:18+0000 - __main__ - INFO - some info message\r\n",
      "2023-05-30T05:57:18+0000 - __main__ - DEBUG - another debug message\r\n",
      "2023-05-30T05:57:18+0000 - __main__ - INFO - another info message\r\n"
     ]
    }
   ],
   "source": [
    "!cat log.txt # Notice this function onlu"
   ]
  },
  {
   "cell_type": "code",
   "execution_count": 13,
   "id": "0a0656fd-e127-42c6-8ed7-829887704df2",
   "metadata": {
    "execution": {
     "iopub.execute_input": "2023-05-30T05:57:18.908758Z",
     "iopub.status.busy": "2023-05-30T05:57:18.908353Z",
     "iopub.status.idle": "2023-05-30T05:57:18.915057Z",
     "shell.execute_reply": "2023-05-30T05:57:18.914504Z"
    },
    "pycharm": {
     "name": "#%%\n"
    }
   },
   "outputs": [
    {
     "data": {
      "text/plain": [
       "[<StreamHandler stdout (INFO)>]"
      ]
     },
     "execution_count": 13,
     "metadata": {},
     "output_type": "execute_result"
    }
   ],
   "source": [
    "# configure_logger only manages one handler. For more, look at the xopt.log code\n",
    "logger.handlers"
   ]
  },
  {
   "cell_type": "markdown",
   "id": "78c11ab8-0395-41b7-a159-c43d69ed2a75",
   "metadata": {
    "pycharm": {
     "name": "#%% md\n"
    }
   },
   "source": [
    "## Adding logging to .py files\n",
    "\n",
    "Importing .py files outside of a package have named based on their filename. "
   ]
  },
  {
   "cell_type": "code",
   "execution_count": 14,
   "id": "d97837ec-f439-4d4f-95d9-408b335c5290",
   "metadata": {
    "execution": {
     "iopub.execute_input": "2023-05-30T05:57:18.917738Z",
     "iopub.status.busy": "2023-05-30T05:57:18.917389Z",
     "iopub.status.idle": "2023-05-30T05:57:18.921310Z",
     "shell.execute_reply": "2023-05-30T05:57:18.920716Z"
    },
    "pycharm": {
     "name": "#%%\n"
    }
   },
   "outputs": [],
   "source": [
    "TEXT = \"\"\"\n",
    "\n",
    "import logging\n",
    "logger = logging.getLogger(__name__)\n",
    "\n",
    "\n",
    "def f():\n",
    "    print('__name__ =', __name__)\n",
    "    logger.info('this is f')\n",
    "\"\"\"\n",
    "with open(\"myf.py\", \"w\") as f:\n",
    "    f.write(TEXT)"
   ]
  },
  {
   "cell_type": "code",
   "execution_count": 15,
   "id": "5da10a07-7ff7-4fad-aa5e-5ada8bbad62c",
   "metadata": {
    "execution": {
     "iopub.execute_input": "2023-05-30T05:57:18.924093Z",
     "iopub.status.busy": "2023-05-30T05:57:18.923886Z",
     "iopub.status.idle": "2023-05-30T05:57:18.927930Z",
     "shell.execute_reply": "2023-05-30T05:57:18.927366Z"
    },
    "pycharm": {
     "name": "#%%\n"
    }
   },
   "outputs": [],
   "source": [
    "from myf import f"
   ]
  },
  {
   "cell_type": "code",
   "execution_count": 16,
   "id": "2df790c1-e939-4199-baa8-68775b37e13a",
   "metadata": {
    "execution": {
     "iopub.execute_input": "2023-05-30T05:57:18.930530Z",
     "iopub.status.busy": "2023-05-30T05:57:18.930196Z",
     "iopub.status.idle": "2023-05-30T05:57:18.933440Z",
     "shell.execute_reply": "2023-05-30T05:57:18.932977Z"
    },
    "pycharm": {
     "name": "#%%\n"
    }
   },
   "outputs": [
    {
     "name": "stdout",
     "output_type": "stream",
     "text": [
      "__name__ = myf\n"
     ]
    }
   ],
   "source": [
    "f()  # Notice no logger message."
   ]
  },
  {
   "cell_type": "code",
   "execution_count": 17,
   "id": "afc09138-b5f3-44be-8fab-d10cfbc69e11",
   "metadata": {
    "execution": {
     "iopub.execute_input": "2023-05-30T05:57:18.936031Z",
     "iopub.status.busy": "2023-05-30T05:57:18.935512Z",
     "iopub.status.idle": "2023-05-30T05:57:18.939945Z",
     "shell.execute_reply": "2023-05-30T05:57:18.939356Z"
    },
    "pycharm": {
     "name": "#%%\n"
    }
   },
   "outputs": [],
   "source": [
    "configure_logger(logger_name=\"myf\", level=\"INFO\")"
   ]
  },
  {
   "cell_type": "code",
   "execution_count": 18,
   "id": "fac264a8-d3ac-4b9e-acca-65fda1d6e8d9",
   "metadata": {
    "execution": {
     "iopub.execute_input": "2023-05-30T05:57:18.942883Z",
     "iopub.status.busy": "2023-05-30T05:57:18.942425Z",
     "iopub.status.idle": "2023-05-30T05:57:18.946018Z",
     "shell.execute_reply": "2023-05-30T05:57:18.945409Z"
    },
    "pycharm": {
     "name": "#%%\n"
    }
   },
   "outputs": [
    {
     "name": "stdout",
     "output_type": "stream",
     "text": [
      "__name__ = myf\n",
      "this is f\n"
     ]
    }
   ],
   "source": [
    "f()  # Now we see the logger message."
   ]
  },
  {
   "cell_type": "markdown",
   "id": "3114d7b0-9d57-4d33-8946-c31859ec1250",
   "metadata": {
    "pycharm": {
     "name": "#%% md\n"
    }
   },
   "source": [
    "## Cleanup"
   ]
  },
  {
   "cell_type": "code",
   "execution_count": 19,
   "id": "a69bcef7-4658-4177-aeb3-14704f0bcda7",
   "metadata": {
    "execution": {
     "iopub.execute_input": "2023-05-30T05:57:18.948861Z",
     "iopub.status.busy": "2023-05-30T05:57:18.948357Z",
     "iopub.status.idle": "2023-05-30T05:57:19.252533Z",
     "shell.execute_reply": "2023-05-30T05:57:19.251615Z"
    },
    "pycharm": {
     "name": "#%%\n"
    }
   },
   "outputs": [],
   "source": [
    "!rm log.txt\n",
    "!rm myf.py"
   ]
  }
 ],
 "metadata": {
  "kernelspec": {
   "display_name": "Python 3 (ipykernel)",
   "language": "python",
   "name": "python3"
  },
  "language_info": {
   "codemirror_mode": {
    "name": "ipython",
    "version": 3
   },
   "file_extension": ".py",
   "mimetype": "text/x-python",
   "name": "python",
   "nbconvert_exporter": "python",
   "pygments_lexer": "ipython3",
   "version": "3.9.16"
  }
 },
 "nbformat": 4,
 "nbformat_minor": 5
}
