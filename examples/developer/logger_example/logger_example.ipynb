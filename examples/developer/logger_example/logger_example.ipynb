{
 "cells": [
  {
   "cell_type": "markdown",
   "id": "e34be21c-2948-40b4-b248-08c07b768f4c",
   "metadata": {
    "pycharm": {
     "name": "#%% md\n"
    }
   },
   "source": [
    "# Logging example"
   ]
  },
  {
   "cell_type": "code",
   "execution_count": 1,
   "id": "341ef631-01e9-403e-b83c-ddd57758b659",
   "metadata": {
    "execution": {
     "iopub.execute_input": "2023-05-01T19:44:52.496517Z",
     "iopub.status.busy": "2023-05-01T19:44:52.496029Z",
     "iopub.status.idle": "2023-05-01T19:44:54.907905Z",
     "shell.execute_reply": "2023-05-01T19:44:54.907114Z"
    },
    "pycharm": {
     "is_executing": true,
     "name": "#%%\n"
    }
   },
   "outputs": [],
   "source": [
    "from xopt.log import configure_logger"
   ]
  },
  {
   "cell_type": "code",
   "execution_count": 2,
   "id": "f064e8f5-78c8-44ba-a9ad-af6de9a9f81c",
   "metadata": {
    "execution": {
     "iopub.execute_input": "2023-05-01T19:44:54.911943Z",
     "iopub.status.busy": "2023-05-01T19:44:54.911361Z",
     "iopub.status.idle": "2023-05-01T19:44:54.919767Z",
     "shell.execute_reply": "2023-05-01T19:44:54.919079Z"
    },
    "pycharm": {
     "name": "#%%\n"
    }
   },
   "outputs": [
    {
     "data": {
      "text/plain": [
       "'__main__'"
      ]
     },
     "execution_count": 2,
     "metadata": {},
     "output_type": "execute_result"
    }
   ],
   "source": [
    "# Notebook names are this:\n",
    "__name__"
   ]
  },
  {
   "cell_type": "code",
   "execution_count": 3,
   "id": "7ffd874c-95e6-4b36-b953-cae1a8305a3e",
   "metadata": {
    "execution": {
     "iopub.execute_input": "2023-05-01T19:44:54.923702Z",
     "iopub.status.busy": "2023-05-01T19:44:54.923318Z",
     "iopub.status.idle": "2023-05-01T19:44:54.926656Z",
     "shell.execute_reply": "2023-05-01T19:44:54.925988Z"
    },
    "pycharm": {
     "name": "#%%\n"
    }
   },
   "outputs": [],
   "source": [
    "# Put this in the top of any .py file or notebook\n",
    "import logging\n",
    "\n",
    "logger = logging.getLogger(__name__)"
   ]
  },
  {
   "cell_type": "code",
   "execution_count": 4,
   "id": "7c66b6ae-3302-444f-858c-b74d23cd9887",
   "metadata": {
    "execution": {
     "iopub.execute_input": "2023-05-01T19:44:54.929848Z",
     "iopub.status.busy": "2023-05-01T19:44:54.929462Z",
     "iopub.status.idle": "2023-05-01T19:44:54.933258Z",
     "shell.execute_reply": "2023-05-01T19:44:54.932536Z"
    },
    "pycharm": {
     "name": "#%%\n"
    }
   },
   "outputs": [],
   "source": [
    "# Put this at the top-level application. For texting, just use the notebook name.\n",
    "configure_logger(logger_name=__name__, file=\"log.txt\", level=\"INFO\")"
   ]
  },
  {
   "cell_type": "code",
   "execution_count": 5,
   "id": "36d17c5c-8544-431e-a4e1-9d433b3b9f18",
   "metadata": {
    "execution": {
     "iopub.execute_input": "2023-05-01T19:44:54.936637Z",
     "iopub.status.busy": "2023-05-01T19:44:54.936155Z",
     "iopub.status.idle": "2023-05-01T19:44:54.939741Z",
     "shell.execute_reply": "2023-05-01T19:44:54.939069Z"
    },
    "pycharm": {
     "name": "#%%\n"
    }
   },
   "outputs": [],
   "source": [
    "logger.debug(\"some debug message\")  # This will write to log.txt\n",
    "logger.info(\"some info message\")"
   ]
  },
  {
   "cell_type": "code",
   "execution_count": 6,
   "id": "194c4e57-d89e-4772-afe0-e09920422070",
   "metadata": {
    "execution": {
     "iopub.execute_input": "2023-05-01T19:44:54.942867Z",
     "iopub.status.busy": "2023-05-01T19:44:54.942302Z",
     "iopub.status.idle": "2023-05-01T19:44:55.106843Z",
     "shell.execute_reply": "2023-05-01T19:44:55.105117Z"
    },
    "pycharm": {
     "name": "#%%\n"
    }
   },
   "outputs": [
    {
     "name": "stdout",
     "output_type": "stream",
     "text": [
      "2023-05-01T19:44:54+0000 - __main__ - INFO - some info message\r\n"
     ]
    }
   ],
   "source": [
    "!cat log.txt"
   ]
  },
  {
   "cell_type": "code",
   "execution_count": 7,
   "id": "027258a3-2a85-4d19-ba1b-6b0ffc36f4fb",
   "metadata": {
    "execution": {
     "iopub.execute_input": "2023-05-01T19:44:55.111719Z",
     "iopub.status.busy": "2023-05-01T19:44:55.110924Z",
     "iopub.status.idle": "2023-05-01T19:44:55.115974Z",
     "shell.execute_reply": "2023-05-01T19:44:55.115307Z"
    },
    "pycharm": {
     "name": "#%%\n"
    }
   },
   "outputs": [],
   "source": [
    "# Change level to debug\n",
    "configure_logger(logger_name=__name__, file=\"log.txt\", level=\"DEBUG\")"
   ]
  },
  {
   "cell_type": "code",
   "execution_count": 8,
   "id": "dee5097d-046c-4282-b4c9-bad375c4f86e",
   "metadata": {
    "execution": {
     "iopub.execute_input": "2023-05-01T19:44:55.119683Z",
     "iopub.status.busy": "2023-05-01T19:44:55.119205Z",
     "iopub.status.idle": "2023-05-01T19:44:55.123261Z",
     "shell.execute_reply": "2023-05-01T19:44:55.122423Z"
    },
    "pycharm": {
     "name": "#%%\n"
    }
   },
   "outputs": [],
   "source": [
    "logger.debug(\"another debug message\")\n",
    "logger.info(\"another info message\")"
   ]
  },
  {
   "cell_type": "code",
   "execution_count": 9,
   "id": "d5806766-0ba2-4ef8-802d-db03b9e449a8",
   "metadata": {
    "execution": {
     "iopub.execute_input": "2023-05-01T19:44:55.126812Z",
     "iopub.status.busy": "2023-05-01T19:44:55.126344Z",
     "iopub.status.idle": "2023-05-01T19:44:55.289052Z",
     "shell.execute_reply": "2023-05-01T19:44:55.287873Z"
    },
    "pycharm": {
     "name": "#%%\n"
    }
   },
   "outputs": [
    {
     "name": "stdout",
     "output_type": "stream",
     "text": [
      "2023-05-01T19:44:54+0000 - __main__ - INFO - some info message\r\n",
      "2023-05-01T19:44:55+0000 - __main__ - DEBUG - another debug message\r\n",
      "2023-05-01T19:44:55+0000 - __main__ - INFO - another info message\r\n"
     ]
    }
   ],
   "source": [
    "!cat log.txt # Now we see debug messages"
   ]
  },
  {
   "cell_type": "code",
   "execution_count": 10,
   "id": "60da3411-8e5c-4b53-bb27-fb523c1d6b51",
   "metadata": {
    "execution": {
     "iopub.execute_input": "2023-05-01T19:44:55.294077Z",
     "iopub.status.busy": "2023-05-01T19:44:55.293478Z",
     "iopub.status.idle": "2023-05-01T19:44:55.299691Z",
     "shell.execute_reply": "2023-05-01T19:44:55.299009Z"
    },
    "pycharm": {
     "name": "#%%\n"
    }
   },
   "outputs": [],
   "source": [
    "# With no file=, the default will go to stdout (here)\n",
    "configure_logger(logger_name=__name__, level=\"INFO\")"
   ]
  },
  {
   "cell_type": "code",
   "execution_count": 11,
   "id": "e494afd8-bbe4-4c84-b2b8-aa5eb970f0fc",
   "metadata": {
    "execution": {
     "iopub.execute_input": "2023-05-01T19:44:55.302955Z",
     "iopub.status.busy": "2023-05-01T19:44:55.302703Z",
     "iopub.status.idle": "2023-05-01T19:44:55.306837Z",
     "shell.execute_reply": "2023-05-01T19:44:55.306229Z"
    },
    "pycharm": {
     "name": "#%%\n"
    }
   },
   "outputs": [
    {
     "name": "stdout",
     "output_type": "stream",
     "text": [
      "yet another info message\n"
     ]
    }
   ],
   "source": [
    "logger.debug(\"yet another debug message\")\n",
    "logger.info(\"yet another info message\")"
   ]
  },
  {
   "cell_type": "code",
   "execution_count": 12,
   "id": "77980290-10ff-486b-af42-4dd7e0182726",
   "metadata": {
    "execution": {
     "iopub.execute_input": "2023-05-01T19:44:55.310626Z",
     "iopub.status.busy": "2023-05-01T19:44:55.310171Z",
     "iopub.status.idle": "2023-05-01T19:44:55.473851Z",
     "shell.execute_reply": "2023-05-01T19:44:55.472515Z"
    },
    "pycharm": {
     "name": "#%%\n"
    }
   },
   "outputs": [
    {
     "name": "stdout",
     "output_type": "stream",
     "text": [
      "2023-05-01T19:44:54+0000 - __main__ - INFO - some info message\r\n",
      "2023-05-01T19:44:55+0000 - __main__ - DEBUG - another debug message\r\n",
      "2023-05-01T19:44:55+0000 - __main__ - INFO - another info message\r\n"
     ]
    }
   ],
   "source": [
    "!cat log.txt # Notice this function onlu"
   ]
  },
  {
   "cell_type": "code",
   "execution_count": 13,
   "id": "0a0656fd-e127-42c6-8ed7-829887704df2",
   "metadata": {
    "execution": {
     "iopub.execute_input": "2023-05-01T19:44:55.479458Z",
     "iopub.status.busy": "2023-05-01T19:44:55.478713Z",
     "iopub.status.idle": "2023-05-01T19:44:55.485221Z",
     "shell.execute_reply": "2023-05-01T19:44:55.484613Z"
    },
    "pycharm": {
     "name": "#%%\n"
    }
   },
   "outputs": [
    {
     "data": {
      "text/plain": [
       "[<StreamHandler stdout (INFO)>]"
      ]
     },
     "execution_count": 13,
     "metadata": {},
     "output_type": "execute_result"
    }
   ],
   "source": [
    "# configure_logger only manages one handler. For more, look at the xopt.log code\n",
    "logger.handlers"
   ]
  },
  {
   "cell_type": "markdown",
   "id": "78c11ab8-0395-41b7-a159-c43d69ed2a75",
   "metadata": {
    "pycharm": {
     "name": "#%% md\n"
    }
   },
   "source": [
    "## Adding logging to .py files\n",
    "\n",
    "Importing .py files outside of a package have named based on their filename. "
   ]
  },
  {
   "cell_type": "code",
   "execution_count": 14,
   "id": "d97837ec-f439-4d4f-95d9-408b335c5290",
   "metadata": {
    "execution": {
     "iopub.execute_input": "2023-05-01T19:44:55.488960Z",
     "iopub.status.busy": "2023-05-01T19:44:55.488545Z",
     "iopub.status.idle": "2023-05-01T19:44:55.494334Z",
     "shell.execute_reply": "2023-05-01T19:44:55.493730Z"
    },
    "pycharm": {
     "name": "#%%\n"
    }
   },
   "outputs": [],
   "source": [
    "TEXT = \"\"\"\n",
    "\n",
    "import logging\n",
    "logger = logging.getLogger(__name__)\n",
    "\n",
    "\n",
    "def f():\n",
    "    print('__name__ =', __name__)\n",
    "    logger.info('this is f')\n",
    "\"\"\"\n",
    "with open(\"myf.py\", \"w\") as f:\n",
    "    f.write(TEXT)"
   ]
  },
  {
   "cell_type": "code",
   "execution_count": 15,
   "id": "5da10a07-7ff7-4fad-aa5e-5ada8bbad62c",
   "metadata": {
    "execution": {
     "iopub.execute_input": "2023-05-01T19:44:55.498044Z",
     "iopub.status.busy": "2023-05-01T19:44:55.497488Z",
     "iopub.status.idle": "2023-05-01T19:44:55.503059Z",
     "shell.execute_reply": "2023-05-01T19:44:55.502460Z"
    },
    "pycharm": {
     "name": "#%%\n"
    }
   },
   "outputs": [],
   "source": [
    "from myf import f"
   ]
  },
  {
   "cell_type": "code",
   "execution_count": 16,
   "id": "2df790c1-e939-4199-baa8-68775b37e13a",
   "metadata": {
    "execution": {
     "iopub.execute_input": "2023-05-01T19:44:55.506558Z",
     "iopub.status.busy": "2023-05-01T19:44:55.506090Z",
     "iopub.status.idle": "2023-05-01T19:44:55.511717Z",
     "shell.execute_reply": "2023-05-01T19:44:55.510988Z"
    },
    "pycharm": {
     "name": "#%%\n"
    }
   },
   "outputs": [
    {
     "name": "stdout",
     "output_type": "stream",
     "text": [
      "__name__ = myf\n"
     ]
    }
   ],
   "source": [
    "f()  # Notice no logger message."
   ]
  },
  {
   "cell_type": "code",
   "execution_count": 17,
   "id": "afc09138-b5f3-44be-8fab-d10cfbc69e11",
   "metadata": {
    "execution": {
     "iopub.execute_input": "2023-05-01T19:44:55.515058Z",
     "iopub.status.busy": "2023-05-01T19:44:55.514580Z",
     "iopub.status.idle": "2023-05-01T19:44:55.519543Z",
     "shell.execute_reply": "2023-05-01T19:44:55.518895Z"
    },
    "pycharm": {
     "name": "#%%\n"
    }
   },
   "outputs": [],
   "source": [
    "configure_logger(logger_name=\"myf\", level=\"INFO\")"
   ]
  },
  {
   "cell_type": "code",
   "execution_count": 18,
   "id": "fac264a8-d3ac-4b9e-acca-65fda1d6e8d9",
   "metadata": {
    "execution": {
     "iopub.execute_input": "2023-05-01T19:44:55.522890Z",
     "iopub.status.busy": "2023-05-01T19:44:55.522420Z",
     "iopub.status.idle": "2023-05-01T19:44:55.528256Z",
     "shell.execute_reply": "2023-05-01T19:44:55.527617Z"
    },
    "pycharm": {
     "name": "#%%\n"
    }
   },
   "outputs": [
    {
     "name": "stdout",
     "output_type": "stream",
     "text": [
      "__name__ = myf\n",
      "this is f\n"
     ]
    }
   ],
   "source": [
    "f()  # Now we see the logger message."
   ]
  },
  {
   "cell_type": "markdown",
   "id": "3114d7b0-9d57-4d33-8946-c31859ec1250",
   "metadata": {
    "pycharm": {
     "name": "#%% md\n"
    }
   },
   "source": [
    "## Cleanup"
   ]
  },
  {
   "cell_type": "code",
   "execution_count": 19,
   "id": "a69bcef7-4658-4177-aeb3-14704f0bcda7",
   "metadata": {
    "execution": {
     "iopub.execute_input": "2023-05-01T19:44:55.531672Z",
     "iopub.status.busy": "2023-05-01T19:44:55.531283Z",
     "iopub.status.idle": "2023-05-01T19:44:55.859250Z",
     "shell.execute_reply": "2023-05-01T19:44:55.858076Z"
    },
    "pycharm": {
     "name": "#%%\n"
    }
   },
   "outputs": [],
   "source": [
    "!rm log.txt\n",
    "!rm myf.py"
   ]
  }
 ],
 "metadata": {
  "kernelspec": {
   "display_name": "Python 3 (ipykernel)",
   "language": "python",
   "name": "python3"
  },
  "language_info": {
   "codemirror_mode": {
    "name": "ipython",
    "version": 3
   },
   "file_extension": ".py",
   "mimetype": "text/x-python",
   "name": "python",
   "nbconvert_exporter": "python",
   "pygments_lexer": "ipython3",
   "version": "3.9.16"
  }
 },
 "nbformat": 4,
 "nbformat_minor": 5
}
