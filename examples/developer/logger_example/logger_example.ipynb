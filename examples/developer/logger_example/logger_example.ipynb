{
 "cells": [
  {
   "cell_type": "markdown",
   "id": "e34be21c-2948-40b4-b248-08c07b768f4c",
   "metadata": {
    "pycharm": {
     "name": "#%% md\n"
    }
   },
   "source": [
    "# Logging example"
   ]
  },
  {
   "cell_type": "code",
   "execution_count": 1,
   "id": "341ef631-01e9-403e-b83c-ddd57758b659",
   "metadata": {
    "execution": {
     "iopub.execute_input": "2022-08-04T16:44:25.176762Z",
     "iopub.status.busy": "2022-08-04T16:44:25.176320Z",
     "iopub.status.idle": "2022-08-04T16:44:26.393533Z",
     "shell.execute_reply": "2022-08-04T16:44:26.392835Z"
    },
    "pycharm": {
     "is_executing": true,
     "name": "#%%\n"
    }
   },
   "outputs": [],
   "source": [
    "from xopt.log import configure_logger"
   ]
  },
  {
   "cell_type": "code",
   "execution_count": 2,
   "id": "f064e8f5-78c8-44ba-a9ad-af6de9a9f81c",
   "metadata": {
    "execution": {
     "iopub.execute_input": "2022-08-04T16:44:26.397829Z",
     "iopub.status.busy": "2022-08-04T16:44:26.397373Z",
     "iopub.status.idle": "2022-08-04T16:44:26.408663Z",
     "shell.execute_reply": "2022-08-04T16:44:26.408126Z"
    },
    "pycharm": {
     "name": "#%%\n"
    }
   },
   "outputs": [
    {
     "data": {
      "text/plain": [
       "'__main__'"
      ]
     },
     "execution_count": 2,
     "metadata": {},
     "output_type": "execute_result"
    }
   ],
   "source": [
    "# Notebook names are this:\n",
    "__name__"
   ]
  },
  {
   "cell_type": "code",
   "execution_count": 3,
   "id": "7ffd874c-95e6-4b36-b953-cae1a8305a3e",
   "metadata": {
    "execution": {
     "iopub.execute_input": "2022-08-04T16:44:26.411860Z",
     "iopub.status.busy": "2022-08-04T16:44:26.411351Z",
     "iopub.status.idle": "2022-08-04T16:44:26.415369Z",
     "shell.execute_reply": "2022-08-04T16:44:26.414833Z"
    },
    "pycharm": {
     "name": "#%%\n"
    }
   },
   "outputs": [],
   "source": [
    "# Put this in the top of any .py file or notebook\n",
    "import logging\n",
    "\n",
    "logger = logging.getLogger(__name__)"
   ]
  },
  {
   "cell_type": "code",
   "execution_count": 4,
   "id": "7c66b6ae-3302-444f-858c-b74d23cd9887",
   "metadata": {
    "execution": {
     "iopub.execute_input": "2022-08-04T16:44:26.418286Z",
     "iopub.status.busy": "2022-08-04T16:44:26.417971Z",
     "iopub.status.idle": "2022-08-04T16:44:26.422352Z",
     "shell.execute_reply": "2022-08-04T16:44:26.421802Z"
    },
    "pycharm": {
     "name": "#%%\n"
    }
   },
   "outputs": [],
   "source": [
    "# Put this at the top-level application. For texting, just use the notebook name.\n",
    "configure_logger(logger_name=__name__, file=\"log.txt\", level=\"INFO\")"
   ]
  },
  {
   "cell_type": "code",
   "execution_count": 5,
   "id": "36d17c5c-8544-431e-a4e1-9d433b3b9f18",
   "metadata": {
    "execution": {
     "iopub.execute_input": "2022-08-04T16:44:26.424913Z",
     "iopub.status.busy": "2022-08-04T16:44:26.424701Z",
     "iopub.status.idle": "2022-08-04T16:44:26.428782Z",
     "shell.execute_reply": "2022-08-04T16:44:26.428256Z"
    },
    "pycharm": {
     "name": "#%%\n"
    }
   },
   "outputs": [],
   "source": [
    "logger.debug(\"some debug message\")  # This will write to log.txt\n",
    "logger.info(\"some info message\")"
   ]
  },
  {
   "cell_type": "code",
   "execution_count": 6,
   "id": "194c4e57-d89e-4772-afe0-e09920422070",
   "metadata": {
    "execution": {
     "iopub.execute_input": "2022-08-04T16:44:26.431925Z",
     "iopub.status.busy": "2022-08-04T16:44:26.431398Z",
     "iopub.status.idle": "2022-08-04T16:44:26.585531Z",
     "shell.execute_reply": "2022-08-04T16:44:26.584734Z"
    },
    "pycharm": {
     "name": "#%%\n"
    }
   },
   "outputs": [
    {
     "name": "stdout",
     "output_type": "stream",
     "text": [
      "2022-08-04T16:44:26+0000 - __main__ - INFO - some info message\r\n"
     ]
    }
   ],
   "source": [
    "!cat log.txt"
   ]
  },
  {
   "cell_type": "code",
   "execution_count": 7,
   "id": "027258a3-2a85-4d19-ba1b-6b0ffc36f4fb",
   "metadata": {
    "execution": {
     "iopub.execute_input": "2022-08-04T16:44:26.589200Z",
     "iopub.status.busy": "2022-08-04T16:44:26.588674Z",
     "iopub.status.idle": "2022-08-04T16:44:26.593986Z",
     "shell.execute_reply": "2022-08-04T16:44:26.593386Z"
    },
    "pycharm": {
     "name": "#%%\n"
    }
   },
   "outputs": [],
   "source": [
    "# Change level to debug\n",
    "configure_logger(logger_name=__name__, file=\"log.txt\", level=\"DEBUG\")"
   ]
  },
  {
   "cell_type": "code",
   "execution_count": 8,
   "id": "dee5097d-046c-4282-b4c9-bad375c4f86e",
   "metadata": {
    "execution": {
     "iopub.execute_input": "2022-08-04T16:44:26.596764Z",
     "iopub.status.busy": "2022-08-04T16:44:26.596353Z",
     "iopub.status.idle": "2022-08-04T16:44:26.599912Z",
     "shell.execute_reply": "2022-08-04T16:44:26.599281Z"
    },
    "pycharm": {
     "name": "#%%\n"
    }
   },
   "outputs": [],
   "source": [
    "logger.debug(\"another debug message\")\n",
    "logger.info(\"another info message\")"
   ]
  },
  {
   "cell_type": "code",
   "execution_count": 9,
   "id": "d5806766-0ba2-4ef8-802d-db03b9e449a8",
   "metadata": {
    "execution": {
     "iopub.execute_input": "2022-08-04T16:44:26.602758Z",
     "iopub.status.busy": "2022-08-04T16:44:26.602351Z",
     "iopub.status.idle": "2022-08-04T16:44:26.753969Z",
     "shell.execute_reply": "2022-08-04T16:44:26.753151Z"
    },
    "pycharm": {
     "name": "#%%\n"
    }
   },
   "outputs": [
    {
     "name": "stdout",
     "output_type": "stream",
     "text": [
      "2022-08-04T16:44:26+0000 - __main__ - INFO - some info message\r\n",
      "2022-08-04T16:44:26+0000 - __main__ - DEBUG - another debug message\r\n",
      "2022-08-04T16:44:26+0000 - __main__ - INFO - another info message\r\n"
     ]
    }
   ],
   "source": [
    "!cat log.txt # Now we see debug messages"
   ]
  },
  {
   "cell_type": "code",
   "execution_count": 10,
   "id": "60da3411-8e5c-4b53-bb27-fb523c1d6b51",
   "metadata": {
    "execution": {
     "iopub.execute_input": "2022-08-04T16:44:26.757642Z",
     "iopub.status.busy": "2022-08-04T16:44:26.757364Z",
     "iopub.status.idle": "2022-08-04T16:44:26.762427Z",
     "shell.execute_reply": "2022-08-04T16:44:26.761788Z"
    },
    "pycharm": {
     "name": "#%%\n"
    }
   },
   "outputs": [],
   "source": [
    "# With no file=, the default will go to stdout (here)\n",
    "configure_logger(logger_name=__name__, level=\"INFO\")"
   ]
  },
  {
   "cell_type": "code",
   "execution_count": 11,
   "id": "e494afd8-bbe4-4c84-b2b8-aa5eb970f0fc",
   "metadata": {
    "execution": {
     "iopub.execute_input": "2022-08-04T16:44:26.765089Z",
     "iopub.status.busy": "2022-08-04T16:44:26.764875Z",
     "iopub.status.idle": "2022-08-04T16:44:26.768411Z",
     "shell.execute_reply": "2022-08-04T16:44:26.767805Z"
    },
    "pycharm": {
     "name": "#%%\n"
    }
   },
   "outputs": [
    {
     "name": "stdout",
     "output_type": "stream",
     "text": [
      "yet another info message\n"
     ]
    }
   ],
   "source": [
    "logger.debug(\"yet another debug message\")\n",
    "logger.info(\"yet another info message\")"
   ]
  },
  {
   "cell_type": "code",
   "execution_count": 12,
   "id": "77980290-10ff-486b-af42-4dd7e0182726",
   "metadata": {
    "execution": {
     "iopub.execute_input": "2022-08-04T16:44:26.772136Z",
     "iopub.status.busy": "2022-08-04T16:44:26.771569Z",
     "iopub.status.idle": "2022-08-04T16:44:26.924539Z",
     "shell.execute_reply": "2022-08-04T16:44:26.923171Z"
    },
    "pycharm": {
     "name": "#%%\n"
    }
   },
   "outputs": [
    {
     "name": "stdout",
     "output_type": "stream",
     "text": [
      "2022-08-04T16:44:26+0000 - __main__ - INFO - some info message\r\n",
      "2022-08-04T16:44:26+0000 - __main__ - DEBUG - another debug message\r\n",
      "2022-08-04T16:44:26+0000 - __main__ - INFO - another info message\r\n"
     ]
    }
   ],
   "source": [
    "!cat log.txt # Notice this function onlu"
   ]
  },
  {
   "cell_type": "code",
   "execution_count": 13,
   "id": "0a0656fd-e127-42c6-8ed7-829887704df2",
   "metadata": {
    "execution": {
     "iopub.execute_input": "2022-08-04T16:44:26.928824Z",
     "iopub.status.busy": "2022-08-04T16:44:26.928319Z",
     "iopub.status.idle": "2022-08-04T16:44:26.932847Z",
     "shell.execute_reply": "2022-08-04T16:44:26.932368Z"
    },
    "pycharm": {
     "name": "#%%\n"
    }
   },
   "outputs": [
    {
     "data": {
      "text/plain": [
       "[<StreamHandler stdout (INFO)>]"
      ]
     },
     "execution_count": 13,
     "metadata": {},
     "output_type": "execute_result"
    }
   ],
   "source": [
    "# configure_logger only manages one handler. For more, look at the xopt.log code\n",
    "logger.handlers"
   ]
  },
  {
   "cell_type": "markdown",
   "id": "78c11ab8-0395-41b7-a159-c43d69ed2a75",
   "metadata": {
    "pycharm": {
     "name": "#%% md\n"
    }
   },
   "source": [
    "## Adding logging to .py files\n",
    "\n",
    "Importing .py files outside of a package have named based on their filename. "
   ]
  },
  {
   "cell_type": "code",
   "execution_count": 14,
   "id": "d97837ec-f439-4d4f-95d9-408b335c5290",
   "metadata": {
    "execution": {
     "iopub.execute_input": "2022-08-04T16:44:26.936084Z",
     "iopub.status.busy": "2022-08-04T16:44:26.935547Z",
     "iopub.status.idle": "2022-08-04T16:44:26.939481Z",
     "shell.execute_reply": "2022-08-04T16:44:26.938897Z"
    },
    "pycharm": {
     "name": "#%%\n"
    }
   },
   "outputs": [],
   "source": [
    "TEXT = \"\"\"\n",
    "\n",
    "import logging\n",
    "logger = logging.getLogger(__name__)\n",
    "\n",
    "\n",
    "def f():\n",
    "    print('__name__ =', __name__)\n",
    "    logger.info('this is f')\n",
    "\"\"\"\n",
    "with open(\"myf.py\", \"w\") as f:\n",
    "    f.write(TEXT)"
   ]
  },
  {
   "cell_type": "code",
   "execution_count": 15,
   "id": "5da10a07-7ff7-4fad-aa5e-5ada8bbad62c",
   "metadata": {
    "execution": {
     "iopub.execute_input": "2022-08-04T16:44:26.942376Z",
     "iopub.status.busy": "2022-08-04T16:44:26.942037Z",
     "iopub.status.idle": "2022-08-04T16:44:26.946511Z",
     "shell.execute_reply": "2022-08-04T16:44:26.945941Z"
    },
    "pycharm": {
     "name": "#%%\n"
    }
   },
   "outputs": [],
   "source": [
    "from myf import f"
   ]
  },
  {
   "cell_type": "code",
   "execution_count": 16,
   "id": "2df790c1-e939-4199-baa8-68775b37e13a",
   "metadata": {
    "execution": {
     "iopub.execute_input": "2022-08-04T16:44:26.949110Z",
     "iopub.status.busy": "2022-08-04T16:44:26.948898Z",
     "iopub.status.idle": "2022-08-04T16:44:26.952033Z",
     "shell.execute_reply": "2022-08-04T16:44:26.951416Z"
    },
    "pycharm": {
     "name": "#%%\n"
    }
   },
   "outputs": [
    {
     "name": "stdout",
     "output_type": "stream",
     "text": [
      "__name__ = myf\n"
     ]
    }
   ],
   "source": [
    "f()  # Notice no logger message."
   ]
  },
  {
   "cell_type": "code",
   "execution_count": 17,
   "id": "afc09138-b5f3-44be-8fab-d10cfbc69e11",
   "metadata": {
    "execution": {
     "iopub.execute_input": "2022-08-04T16:44:26.955677Z",
     "iopub.status.busy": "2022-08-04T16:44:26.955257Z",
     "iopub.status.idle": "2022-08-04T16:44:26.958368Z",
     "shell.execute_reply": "2022-08-04T16:44:26.957855Z"
    },
    "pycharm": {
     "name": "#%%\n"
    }
   },
   "outputs": [],
   "source": [
    "configure_logger(logger_name=\"myf\", level=\"INFO\")"
   ]
  },
  {
   "cell_type": "code",
   "execution_count": 18,
   "id": "fac264a8-d3ac-4b9e-acca-65fda1d6e8d9",
   "metadata": {
    "execution": {
     "iopub.execute_input": "2022-08-04T16:44:26.961189Z",
     "iopub.status.busy": "2022-08-04T16:44:26.960784Z",
     "iopub.status.idle": "2022-08-04T16:44:26.964155Z",
     "shell.execute_reply": "2022-08-04T16:44:26.963659Z"
    },
    "pycharm": {
     "name": "#%%\n"
    }
   },
   "outputs": [
    {
     "name": "stdout",
     "output_type": "stream",
     "text": [
      "__name__ = myf\n",
      "this is f\n"
     ]
    }
   ],
   "source": [
    "f()  # Now we see the logger message."
   ]
  },
  {
   "cell_type": "markdown",
   "id": "3114d7b0-9d57-4d33-8946-c31859ec1250",
   "metadata": {
    "pycharm": {
     "name": "#%% md\n"
    }
   },
   "source": [
    "## Cleanup"
   ]
  },
  {
   "cell_type": "code",
   "execution_count": 19,
   "id": "a69bcef7-4658-4177-aeb3-14704f0bcda7",
   "metadata": {
    "execution": {
     "iopub.execute_input": "2022-08-04T16:44:26.967054Z",
     "iopub.status.busy": "2022-08-04T16:44:26.966647Z",
     "iopub.status.idle": "2022-08-04T16:44:27.268249Z",
     "shell.execute_reply": "2022-08-04T16:44:27.267051Z"
    },
    "pycharm": {
     "name": "#%%\n"
    }
   },
   "outputs": [],
   "source": [
    "!rm log.txt\n",
    "!rm myf.py"
   ]
  }
 ],
 "metadata": {
  "kernelspec": {
   "display_name": "Python 3 (ipykernel)",
   "language": "python",
   "name": "python3"
  },
  "language_info": {
   "codemirror_mode": {
    "name": "ipython",
    "version": 3
   },
   "file_extension": ".py",
   "mimetype": "text/x-python",
   "name": "python",
   "nbconvert_exporter": "python",
   "pygments_lexer": "ipython3",
   "version": "3.9.13"
  }
 },
 "nbformat": 4,
 "nbformat_minor": 5
}
