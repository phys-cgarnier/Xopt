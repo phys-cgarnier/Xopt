{
 "cells": [
  {
   "cell_type": "markdown",
   "id": "e34be21c-2948-40b4-b248-08c07b768f4c",
   "metadata": {
    "pycharm": {
     "name": "#%% md\n"
    }
   },
   "source": [
    "# Logging example"
   ]
  },
  {
   "cell_type": "code",
   "execution_count": 1,
   "id": "341ef631-01e9-403e-b83c-ddd57758b659",
   "metadata": {
    "execution": {
     "iopub.execute_input": "2022-09-22T16:51:46.272712Z",
     "iopub.status.busy": "2022-09-22T16:51:46.272327Z",
     "iopub.status.idle": "2022-09-22T16:51:47.437725Z",
     "shell.execute_reply": "2022-09-22T16:51:47.437122Z"
    },
    "pycharm": {
     "is_executing": true,
     "name": "#%%\n"
    }
   },
   "outputs": [],
   "source": [
    "from xopt.log import configure_logger"
   ]
  },
  {
   "cell_type": "code",
   "execution_count": 2,
   "id": "f064e8f5-78c8-44ba-a9ad-af6de9a9f81c",
   "metadata": {
    "execution": {
     "iopub.execute_input": "2022-09-22T16:51:47.441805Z",
     "iopub.status.busy": "2022-09-22T16:51:47.441213Z",
     "iopub.status.idle": "2022-09-22T16:51:47.449559Z",
     "shell.execute_reply": "2022-09-22T16:51:47.449126Z"
    },
    "pycharm": {
     "name": "#%%\n"
    }
   },
   "outputs": [
    {
     "data": {
      "text/plain": [
       "'__main__'"
      ]
     },
     "execution_count": 2,
     "metadata": {},
     "output_type": "execute_result"
    }
   ],
   "source": [
    "# Notebook names are this:\n",
    "__name__"
   ]
  },
  {
   "cell_type": "code",
   "execution_count": 3,
   "id": "7ffd874c-95e6-4b36-b953-cae1a8305a3e",
   "metadata": {
    "execution": {
     "iopub.execute_input": "2022-09-22T16:51:47.452526Z",
     "iopub.status.busy": "2022-09-22T16:51:47.452323Z",
     "iopub.status.idle": "2022-09-22T16:51:47.455055Z",
     "shell.execute_reply": "2022-09-22T16:51:47.454497Z"
    },
    "pycharm": {
     "name": "#%%\n"
    }
   },
   "outputs": [],
   "source": [
    "# Put this in the top of any .py file or notebook\n",
    "import logging\n",
    "\n",
    "logger = logging.getLogger(__name__)"
   ]
  },
  {
   "cell_type": "code",
   "execution_count": 4,
   "id": "7c66b6ae-3302-444f-858c-b74d23cd9887",
   "metadata": {
    "execution": {
     "iopub.execute_input": "2022-09-22T16:51:47.457775Z",
     "iopub.status.busy": "2022-09-22T16:51:47.457573Z",
     "iopub.status.idle": "2022-09-22T16:51:47.460679Z",
     "shell.execute_reply": "2022-09-22T16:51:47.460131Z"
    },
    "pycharm": {
     "name": "#%%\n"
    }
   },
   "outputs": [],
   "source": [
    "# Put this at the top-level application. For texting, just use the notebook name.\n",
    "configure_logger(logger_name=__name__, file=\"log.txt\", level=\"INFO\")"
   ]
  },
  {
   "cell_type": "code",
   "execution_count": 5,
   "id": "36d17c5c-8544-431e-a4e1-9d433b3b9f18",
   "metadata": {
    "execution": {
     "iopub.execute_input": "2022-09-22T16:51:47.463232Z",
     "iopub.status.busy": "2022-09-22T16:51:47.463031Z",
     "iopub.status.idle": "2022-09-22T16:51:47.465959Z",
     "shell.execute_reply": "2022-09-22T16:51:47.465413Z"
    },
    "pycharm": {
     "name": "#%%\n"
    }
   },
   "outputs": [],
   "source": [
    "logger.debug(\"some debug message\")  # This will write to log.txt\n",
    "logger.info(\"some info message\")"
   ]
  },
  {
   "cell_type": "code",
   "execution_count": 6,
   "id": "194c4e57-d89e-4772-afe0-e09920422070",
   "metadata": {
    "execution": {
     "iopub.execute_input": "2022-09-22T16:51:47.468523Z",
     "iopub.status.busy": "2022-09-22T16:51:47.468334Z",
     "iopub.status.idle": "2022-09-22T16:51:47.623947Z",
     "shell.execute_reply": "2022-09-22T16:51:47.623153Z"
    },
    "pycharm": {
     "name": "#%%\n"
    }
   },
   "outputs": [
    {
     "name": "stdout",
     "output_type": "stream",
     "text": [
      "2022-09-22T16:51:47+0000 - __main__ - INFO - some info message\r\n"
     ]
    }
   ],
   "source": [
    "!cat log.txt"
   ]
  },
  {
   "cell_type": "code",
   "execution_count": 7,
   "id": "027258a3-2a85-4d19-ba1b-6b0ffc36f4fb",
   "metadata": {
    "execution": {
     "iopub.execute_input": "2022-09-22T16:51:47.627756Z",
     "iopub.status.busy": "2022-09-22T16:51:47.627372Z",
     "iopub.status.idle": "2022-09-22T16:51:47.632286Z",
     "shell.execute_reply": "2022-09-22T16:51:47.631704Z"
    },
    "pycharm": {
     "name": "#%%\n"
    }
   },
   "outputs": [],
   "source": [
    "# Change level to debug\n",
    "configure_logger(logger_name=__name__, file=\"log.txt\", level=\"DEBUG\")"
   ]
  },
  {
   "cell_type": "code",
   "execution_count": 8,
   "id": "dee5097d-046c-4282-b4c9-bad375c4f86e",
   "metadata": {
    "execution": {
     "iopub.execute_input": "2022-09-22T16:51:47.635191Z",
     "iopub.status.busy": "2022-09-22T16:51:47.634885Z",
     "iopub.status.idle": "2022-09-22T16:51:47.639225Z",
     "shell.execute_reply": "2022-09-22T16:51:47.638690Z"
    },
    "pycharm": {
     "name": "#%%\n"
    }
   },
   "outputs": [],
   "source": [
    "logger.debug(\"another debug message\")\n",
    "logger.info(\"another info message\")"
   ]
  },
  {
   "cell_type": "code",
   "execution_count": 9,
   "id": "d5806766-0ba2-4ef8-802d-db03b9e449a8",
   "metadata": {
    "execution": {
     "iopub.execute_input": "2022-09-22T16:51:47.642152Z",
     "iopub.status.busy": "2022-09-22T16:51:47.641846Z",
     "iopub.status.idle": "2022-09-22T16:51:47.795887Z",
     "shell.execute_reply": "2022-09-22T16:51:47.795100Z"
    },
    "pycharm": {
     "name": "#%%\n"
    }
   },
   "outputs": [
    {
     "name": "stdout",
     "output_type": "stream",
     "text": [
      "2022-09-22T16:51:47+0000 - __main__ - INFO - some info message\r\n",
      "2022-09-22T16:51:47+0000 - __main__ - DEBUG - another debug message\r\n",
      "2022-09-22T16:51:47+0000 - __main__ - INFO - another info message\r\n"
     ]
    }
   ],
   "source": [
    "!cat log.txt # Now we see debug messages"
   ]
  },
  {
   "cell_type": "code",
   "execution_count": 10,
   "id": "60da3411-8e5c-4b53-bb27-fb523c1d6b51",
   "metadata": {
    "execution": {
     "iopub.execute_input": "2022-09-22T16:51:47.799155Z",
     "iopub.status.busy": "2022-09-22T16:51:47.798920Z",
     "iopub.status.idle": "2022-09-22T16:51:47.803598Z",
     "shell.execute_reply": "2022-09-22T16:51:47.803051Z"
    },
    "pycharm": {
     "name": "#%%\n"
    }
   },
   "outputs": [],
   "source": [
    "# With no file=, the default will go to stdout (here)\n",
    "configure_logger(logger_name=__name__, level=\"INFO\")"
   ]
  },
  {
   "cell_type": "code",
   "execution_count": 11,
   "id": "e494afd8-bbe4-4c84-b2b8-aa5eb970f0fc",
   "metadata": {
    "execution": {
     "iopub.execute_input": "2022-09-22T16:51:47.806246Z",
     "iopub.status.busy": "2022-09-22T16:51:47.805780Z",
     "iopub.status.idle": "2022-09-22T16:51:47.810921Z",
     "shell.execute_reply": "2022-09-22T16:51:47.810413Z"
    },
    "pycharm": {
     "name": "#%%\n"
    }
   },
   "outputs": [
    {
     "name": "stdout",
     "output_type": "stream",
     "text": [
      "yet another info message\n"
     ]
    }
   ],
   "source": [
    "logger.debug(\"yet another debug message\")\n",
    "logger.info(\"yet another info message\")"
   ]
  },
  {
   "cell_type": "code",
   "execution_count": 12,
   "id": "77980290-10ff-486b-af42-4dd7e0182726",
   "metadata": {
    "execution": {
     "iopub.execute_input": "2022-09-22T16:51:47.813655Z",
     "iopub.status.busy": "2022-09-22T16:51:47.813138Z",
     "iopub.status.idle": "2022-09-22T16:51:47.967044Z",
     "shell.execute_reply": "2022-09-22T16:51:47.966068Z"
    },
    "pycharm": {
     "name": "#%%\n"
    }
   },
   "outputs": [
    {
     "name": "stdout",
     "output_type": "stream",
     "text": [
      "2022-09-22T16:51:47+0000 - __main__ - INFO - some info message\r\n",
      "2022-09-22T16:51:47+0000 - __main__ - DEBUG - another debug message\r\n",
      "2022-09-22T16:51:47+0000 - __main__ - INFO - another info message\r\n"
     ]
    }
   ],
   "source": [
    "!cat log.txt # Notice this function onlu"
   ]
  },
  {
   "cell_type": "code",
   "execution_count": 13,
   "id": "0a0656fd-e127-42c6-8ed7-829887704df2",
   "metadata": {
    "execution": {
     "iopub.execute_input": "2022-09-22T16:51:47.971275Z",
     "iopub.status.busy": "2022-09-22T16:51:47.970692Z",
     "iopub.status.idle": "2022-09-22T16:51:47.977199Z",
     "shell.execute_reply": "2022-09-22T16:51:47.976598Z"
    },
    "pycharm": {
     "name": "#%%\n"
    }
   },
   "outputs": [
    {
     "data": {
      "text/plain": [
       "[<StreamHandler stdout (INFO)>]"
      ]
     },
     "execution_count": 13,
     "metadata": {},
     "output_type": "execute_result"
    }
   ],
   "source": [
    "# configure_logger only manages one handler. For more, look at the xopt.log code\n",
    "logger.handlers"
   ]
  },
  {
   "cell_type": "markdown",
   "id": "78c11ab8-0395-41b7-a159-c43d69ed2a75",
   "metadata": {
    "pycharm": {
     "name": "#%% md\n"
    }
   },
   "source": [
    "## Adding logging to .py files\n",
    "\n",
    "Importing .py files outside of a package have named based on their filename. "
   ]
  },
  {
   "cell_type": "code",
   "execution_count": 14,
   "id": "d97837ec-f439-4d4f-95d9-408b335c5290",
   "metadata": {
    "execution": {
     "iopub.execute_input": "2022-09-22T16:51:47.979961Z",
     "iopub.status.busy": "2022-09-22T16:51:47.979751Z",
     "iopub.status.idle": "2022-09-22T16:51:47.984111Z",
     "shell.execute_reply": "2022-09-22T16:51:47.983574Z"
    },
    "pycharm": {
     "name": "#%%\n"
    }
   },
   "outputs": [],
   "source": [
    "TEXT = \"\"\"\n",
    "\n",
    "import logging\n",
    "logger = logging.getLogger(__name__)\n",
    "\n",
    "\n",
    "def f():\n",
    "    print('__name__ =', __name__)\n",
    "    logger.info('this is f')\n",
    "\"\"\"\n",
    "with open(\"myf.py\", \"w\") as f:\n",
    "    f.write(TEXT)"
   ]
  },
  {
   "cell_type": "code",
   "execution_count": 15,
   "id": "5da10a07-7ff7-4fad-aa5e-5ada8bbad62c",
   "metadata": {
    "execution": {
     "iopub.execute_input": "2022-09-22T16:51:47.986549Z",
     "iopub.status.busy": "2022-09-22T16:51:47.986344Z",
     "iopub.status.idle": "2022-09-22T16:51:47.990334Z",
     "shell.execute_reply": "2022-09-22T16:51:47.989810Z"
    },
    "pycharm": {
     "name": "#%%\n"
    }
   },
   "outputs": [],
   "source": [
    "from myf import f"
   ]
  },
  {
   "cell_type": "code",
   "execution_count": 16,
   "id": "2df790c1-e939-4199-baa8-68775b37e13a",
   "metadata": {
    "execution": {
     "iopub.execute_input": "2022-09-22T16:51:47.992887Z",
     "iopub.status.busy": "2022-09-22T16:51:47.992693Z",
     "iopub.status.idle": "2022-09-22T16:51:47.995660Z",
     "shell.execute_reply": "2022-09-22T16:51:47.995087Z"
    },
    "pycharm": {
     "name": "#%%\n"
    }
   },
   "outputs": [
    {
     "name": "stdout",
     "output_type": "stream",
     "text": [
      "__name__ = myf\n"
     ]
    }
   ],
   "source": [
    "f()  # Notice no logger message."
   ]
  },
  {
   "cell_type": "code",
   "execution_count": 17,
   "id": "afc09138-b5f3-44be-8fab-d10cfbc69e11",
   "metadata": {
    "execution": {
     "iopub.execute_input": "2022-09-22T16:51:47.998896Z",
     "iopub.status.busy": "2022-09-22T16:51:47.998702Z",
     "iopub.status.idle": "2022-09-22T16:51:48.002575Z",
     "shell.execute_reply": "2022-09-22T16:51:48.002029Z"
    },
    "pycharm": {
     "name": "#%%\n"
    }
   },
   "outputs": [],
   "source": [
    "configure_logger(logger_name=\"myf\", level=\"INFO\")"
   ]
  },
  {
   "cell_type": "code",
   "execution_count": 18,
   "id": "fac264a8-d3ac-4b9e-acca-65fda1d6e8d9",
   "metadata": {
    "execution": {
     "iopub.execute_input": "2022-09-22T16:51:48.005380Z",
     "iopub.status.busy": "2022-09-22T16:51:48.005072Z",
     "iopub.status.idle": "2022-09-22T16:51:48.009209Z",
     "shell.execute_reply": "2022-09-22T16:51:48.008607Z"
    },
    "pycharm": {
     "name": "#%%\n"
    }
   },
   "outputs": [
    {
     "name": "stdout",
     "output_type": "stream",
     "text": [
      "__name__ = myf\n",
      "this is f\n"
     ]
    }
   ],
   "source": [
    "f()  # Now we see the logger message."
   ]
  },
  {
   "cell_type": "markdown",
   "id": "3114d7b0-9d57-4d33-8946-c31859ec1250",
   "metadata": {
    "pycharm": {
     "name": "#%% md\n"
    }
   },
   "source": [
    "## Cleanup"
   ]
  },
  {
   "cell_type": "code",
   "execution_count": 19,
   "id": "a69bcef7-4658-4177-aeb3-14704f0bcda7",
   "metadata": {
    "execution": {
     "iopub.execute_input": "2022-09-22T16:51:48.011705Z",
     "iopub.status.busy": "2022-09-22T16:51:48.011512Z",
     "iopub.status.idle": "2022-09-22T16:51:48.314158Z",
     "shell.execute_reply": "2022-09-22T16:51:48.313274Z"
    },
    "pycharm": {
     "name": "#%%\n"
    }
   },
   "outputs": [],
   "source": [
    "!rm log.txt\n",
    "!rm myf.py"
   ]
  }
 ],
 "metadata": {
  "kernelspec": {
   "display_name": "Python 3 (ipykernel)",
   "language": "python",
   "name": "python3"
  },
  "language_info": {
   "codemirror_mode": {
    "name": "ipython",
    "version": 3
   },
   "file_extension": ".py",
   "mimetype": "text/x-python",
   "name": "python",
   "nbconvert_exporter": "python",
   "pygments_lexer": "ipython3",
   "version": "3.9.13"
  }
 },
 "nbformat": 4,
 "nbformat_minor": 5
}
