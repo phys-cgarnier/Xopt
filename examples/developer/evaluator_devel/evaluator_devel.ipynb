{
 "cells": [
  {
   "cell_type": "markdown",
   "metadata": {},
   "source": [
    "## Init methods"
   ]
  },
  {
   "cell_type": "code",
   "execution_count": 1,
   "metadata": {
    "execution": {
     "iopub.execute_input": "2022-10-02T01:56:56.998611Z",
     "iopub.status.busy": "2022-10-02T01:56:56.998287Z",
     "iopub.status.idle": "2022-10-02T01:56:57.035997Z",
     "shell.execute_reply": "2022-10-02T01:56:57.034635Z"
    }
   },
   "outputs": [],
   "source": [
    "from pydantic import BaseModel, BaseSettings, root_validator, validator\n",
    "\n",
    "class Config(BaseSettings):\n",
    "    option1: str\n",
    "    option2: int\n",
    "\n",
    "\n",
    "class Evaluator(BaseModel):\n",
    "\n",
    "    config: Config\n",
    "\n",
    "    @root_validator(pre=True)\n",
    "    def validate_config(cls, values):\n",
    "\n",
    "        # check if config is instance of Config\n",
    "        if values.get(\"config\"):\n",
    "            return values\n",
    "\n",
    "        else: \n",
    "            return {\"config\": Config(**values)}\n",
    "\n",
    "\n",
    "    "
   ]
  },
  {
   "cell_type": "code",
   "execution_count": 2,
   "metadata": {
    "execution": {
     "iopub.execute_input": "2022-10-02T01:56:57.039758Z",
     "iopub.status.busy": "2022-10-02T01:56:57.039312Z",
     "iopub.status.idle": "2022-10-02T01:56:57.048305Z",
     "shell.execute_reply": "2022-10-02T01:56:57.047704Z"
    }
   },
   "outputs": [
    {
     "data": {
      "text/plain": [
       "Evaluator(config=Config(option1='hi', option2=3))"
      ]
     },
     "execution_count": 2,
     "metadata": {},
     "output_type": "execute_result"
    }
   ],
   "source": [
    "evaluator = Evaluator(option1=\"hi\", option2=3)\n",
    "evaluator"
   ]
  },
  {
   "cell_type": "code",
   "execution_count": 3,
   "metadata": {
    "execution": {
     "iopub.execute_input": "2022-10-02T01:56:57.089226Z",
     "iopub.status.busy": "2022-10-02T01:56:57.088357Z",
     "iopub.status.idle": "2022-10-02T01:56:57.093882Z",
     "shell.execute_reply": "2022-10-02T01:56:57.093245Z"
    }
   },
   "outputs": [
    {
     "data": {
      "text/plain": [
       "Config(option1='hi', option2=3)"
      ]
     },
     "execution_count": 3,
     "metadata": {},
     "output_type": "execute_result"
    }
   ],
   "source": [
    "config = Config(option1=\"hi\", option2=3)\n",
    "config"
   ]
  },
  {
   "cell_type": "code",
   "execution_count": 4,
   "metadata": {
    "execution": {
     "iopub.execute_input": "2022-10-02T01:56:57.096518Z",
     "iopub.status.busy": "2022-10-02T01:56:57.096310Z",
     "iopub.status.idle": "2022-10-02T01:56:57.100039Z",
     "shell.execute_reply": "2022-10-02T01:56:57.099596Z"
    }
   },
   "outputs": [
    {
     "data": {
      "text/plain": [
       "Evaluator(config=Config(option1='hi', option2=3))"
      ]
     },
     "execution_count": 4,
     "metadata": {},
     "output_type": "execute_result"
    }
   ],
   "source": [
    "evaluator_from_config = Evaluator(config=config)\n",
    "evaluator_from_config"
   ]
  },
  {
   "cell_type": "markdown",
   "metadata": {},
   "source": [
    "# JSON encoding and decoding callable functions"
   ]
  },
  {
   "cell_type": "code",
   "execution_count": 5,
   "metadata": {
    "execution": {
     "iopub.execute_input": "2022-10-02T01:56:57.102909Z",
     "iopub.status.busy": "2022-10-02T01:56:57.102507Z",
     "iopub.status.idle": "2022-10-02T01:56:58.346662Z",
     "shell.execute_reply": "2022-10-02T01:56:58.345932Z"
    }
   },
   "outputs": [],
   "source": [
    "import json\n",
    "from typing import Callable\n",
    "from types import FunctionType, MethodType\n",
    "\n",
    "from pydantic import Extra\n",
    "\n",
    "from xopt.utils import get_function "
   ]
  },
  {
   "cell_type": "code",
   "execution_count": 6,
   "metadata": {
    "execution": {
     "iopub.execute_input": "2022-10-02T01:56:58.351153Z",
     "iopub.status.busy": "2022-10-02T01:56:58.350666Z",
     "iopub.status.idle": "2022-10-02T01:56:58.357942Z",
     "shell.execute_reply": "2022-10-02T01:56:58.356531Z"
    }
   },
   "outputs": [],
   "source": [
    "JSON_ENCODERS = {\n",
    "    FunctionType: lambda x: f\"{x.__module__}.{x.__qualname__}\",\n",
    "    Callable: lambda x: f\"{x.__module__}.{type(x).__qualname__}\",\n",
    "}\n",
    "\n",
    "from typing import Any, Callable, Dict, Generic, Iterable, Optional, TypeVar, Tuple\n",
    "ObjType = TypeVar(\"ObjType\")\n",
    "JSON_ENCODERS = {\n",
    "    # function/method type distinguished for class members and not recognized as callables\n",
    "    FunctionType: lambda x: f\"{x.__module__}.{x.__qualname__}\",\n",
    "    MethodType: lambda x: f\"{x.__module__}.{x.__qualname__}\",\n",
    "    Callable: lambda x: f\"{x.__module__}.{type(x).__qualname__}\",\n",
    "    type: lambda x: f\"{x.__module__}.{x.__name__}\",\n",
    "    # for encoding instances of the ObjType}\n",
    "    ObjType: lambda x: f\"{x.__module__}.{x.__class__.__qualname__}\",\n",
    "}\n"
   ]
  },
  {
   "cell_type": "code",
   "execution_count": 7,
   "metadata": {
    "execution": {
     "iopub.execute_input": "2022-10-02T01:56:58.361122Z",
     "iopub.status.busy": "2022-10-02T01:56:58.360734Z",
     "iopub.status.idle": "2022-10-02T01:56:58.366527Z",
     "shell.execute_reply": "2022-10-02T01:56:58.365999Z"
    }
   },
   "outputs": [],
   "source": [
    "\n",
    "class CallableModel(BaseModel):\n",
    "    callable: Callable\n",
    "\n",
    "    class Config:\n",
    "        arbitrary_types_allowed = True\n",
    "        json_encoders = JSON_ENCODERS\n",
    "        extra = 'forbid'\n",
    "\n",
    "    @root_validator(pre=True)\n",
    "    def validate_all(cls, values):\n",
    "\n",
    "        callable = values.pop(\"callable\")\n",
    "        if not isinstance(\n",
    "            callable,\n",
    "            (\n",
    "                str,\n",
    "                Callable,\n",
    "            ),\n",
    "        ):\n",
    "            raise ValueError(\n",
    "                \"Callable must be object or a string. Provided %s\", type(callable)\n",
    "            )\n",
    "\n",
    "        values[\"callable\"] = get_function(callable)\n",
    "\n",
    "\n",
    "\n",
    "        return values"
   ]
  },
  {
   "cell_type": "code",
   "execution_count": 8,
   "metadata": {
    "execution": {
     "iopub.execute_input": "2022-10-02T01:56:58.369888Z",
     "iopub.status.busy": "2022-10-02T01:56:58.369459Z",
     "iopub.status.idle": "2022-10-02T01:56:58.373395Z",
     "shell.execute_reply": "2022-10-02T01:56:58.372848Z"
    }
   },
   "outputs": [],
   "source": [
    "def f(x):\n",
    "    return 2*x"
   ]
  },
  {
   "cell_type": "code",
   "execution_count": 9,
   "metadata": {
    "execution": {
     "iopub.execute_input": "2022-10-02T01:56:58.376616Z",
     "iopub.status.busy": "2022-10-02T01:56:58.376233Z",
     "iopub.status.idle": "2022-10-02T01:56:58.382173Z",
     "shell.execute_reply": "2022-10-02T01:56:58.381634Z"
    }
   },
   "outputs": [
    {
     "data": {
      "text/plain": [
       "6"
      ]
     },
     "execution_count": 9,
     "metadata": {},
     "output_type": "execute_result"
    }
   ],
   "source": [
    "m = CallableModel(callable=f)\n",
    "m.callable(3)"
   ]
  },
  {
   "cell_type": "code",
   "execution_count": 10,
   "metadata": {
    "execution": {
     "iopub.execute_input": "2022-10-02T01:56:58.386012Z",
     "iopub.status.busy": "2022-10-02T01:56:58.384787Z",
     "iopub.status.idle": "2022-10-02T01:56:58.391374Z",
     "shell.execute_reply": "2022-10-02T01:56:58.390669Z"
    }
   },
   "outputs": [
    {
     "data": {
      "text/plain": [
       "'{\"callable\": \"__main__.f\"}'"
      ]
     },
     "execution_count": 10,
     "metadata": {},
     "output_type": "execute_result"
    }
   ],
   "source": [
    "m.json()"
   ]
  },
  {
   "cell_type": "code",
   "execution_count": 11,
   "metadata": {
    "execution": {
     "iopub.execute_input": "2022-10-02T01:56:58.394257Z",
     "iopub.status.busy": "2022-10-02T01:56:58.393917Z",
     "iopub.status.idle": "2022-10-02T01:56:58.400420Z",
     "shell.execute_reply": "2022-10-02T01:56:58.399702Z"
    }
   },
   "outputs": [
    {
     "data": {
      "text/plain": [
       "690"
      ]
     },
     "execution_count": 11,
     "metadata": {},
     "output_type": "execute_result"
    }
   ],
   "source": [
    "m2 = CallableModel(**json.loads(m.json()))\n",
    "m2.callable(345)"
   ]
  },
  {
   "cell_type": "code",
   "execution_count": 12,
   "metadata": {
    "execution": {
     "iopub.execute_input": "2022-10-02T01:56:58.404259Z",
     "iopub.status.busy": "2022-10-02T01:56:58.403050Z",
     "iopub.status.idle": "2022-10-02T01:56:58.410285Z",
     "shell.execute_reply": "2022-10-02T01:56:58.409030Z"
    }
   },
   "outputs": [
    {
     "data": {
      "text/plain": [
       "True"
      ]
     },
     "execution_count": 12,
     "metadata": {},
     "output_type": "execute_result"
    }
   ],
   "source": [
    "def f():\n",
    "    pass\n",
    "\n",
    "# or this\n",
    "f = lambda x: 2*x\n",
    "\n",
    "type(f) is FunctionType"
   ]
  },
  {
   "cell_type": "markdown",
   "metadata": {},
   "source": [
    "# Evaluator"
   ]
  },
  {
   "cell_type": "code",
   "execution_count": 13,
   "metadata": {
    "execution": {
     "iopub.execute_input": "2022-10-02T01:56:58.413219Z",
     "iopub.status.busy": "2022-10-02T01:56:58.412993Z",
     "iopub.status.idle": "2022-10-02T01:56:58.417247Z",
     "shell.execute_reply": "2022-10-02T01:56:58.416707Z"
    }
   },
   "outputs": [],
   "source": [
    "import json\n",
    "from typing import Callable\n",
    "from types import FunctionType, MethodType\n",
    "\n",
    "from pydantic import Extra, Field\n",
    "\n",
    "from xopt.pydantic import NormalExecutor\n",
    "from xopt.utils import get_function, get_function_defaults"
   ]
  },
  {
   "cell_type": "code",
   "execution_count": 14,
   "metadata": {
    "execution": {
     "iopub.execute_input": "2022-10-02T01:56:58.420333Z",
     "iopub.status.busy": "2022-10-02T01:56:58.419839Z",
     "iopub.status.idle": "2022-10-02T01:56:58.440517Z",
     "shell.execute_reply": "2022-10-02T01:56:58.439488Z"
    }
   },
   "outputs": [
    {
     "data": {
      "text/plain": [
       "'{\"function\": \"__main__.g\", \"max_workers\": 2, \"function_kwargs\": {\"b\": 3}}'"
      ]
     },
     "execution_count": 14,
     "metadata": {},
     "output_type": "execute_result"
    }
   ],
   "source": [
    "from concurrent.futures import ProcessPoolExecutor\n",
    "from xopt.evaluator import DummyExecutor\n",
    "\n",
    "JSON_ENCODERS = {\n",
    "    FunctionType: lambda x: f\"{x.__module__}.{x.__qualname__}\",\n",
    "    Callable: lambda x: f\"{x.__module__}.{type(x).__qualname__}\",\n",
    "}\n",
    "\n",
    "class Evaluator(BaseModel):\n",
    "    function: Callable\n",
    "    max_workers: int = 1\n",
    "    executor: NormalExecutor = Field(exclude=True)\n",
    "    function_kwargs: dict = {}\n",
    "    \n",
    "\n",
    "    class Config:\n",
    "        arbitrary_types_allowed = True\n",
    "        # validate_assignment = True # Broken in 1.9.0. Trying to fix in https://github.com/samuelcolvin/pydantic/pull/4194\n",
    "        json_encoders = JSON_ENCODERS\n",
    "        extra = 'forbid'\n",
    "\n",
    "    @root_validator(pre=True)\n",
    "    def validate_all(cls, values):\n",
    "   \n",
    "        f = get_function(values[\"function\"])\n",
    "        kwargs = values.get(\"function_kwargs\", {})\n",
    "        kwargs = {**get_function_defaults(f), **kwargs}\n",
    "        values[\"function\"] = f\n",
    "        values[\"function_kwargs\"] = kwargs\n",
    "\n",
    "        max_workers = values.pop(\"max_workers\", 1)\n",
    "\n",
    "        executor = values.pop(\"executor\", None)\n",
    "        if not executor:\n",
    "            if max_workers > 1:\n",
    "                executor = ProcessPoolExecutor(max_workers=max_workers)\n",
    "            else: \n",
    "                executor = DummyExecutor()\n",
    "\n",
    "        # Cast as a NormalExecutor\n",
    "        values[\"executor\"] =  NormalExecutor[type(executor)](executor=executor)\n",
    "        values[\"max_workers\"] = max_workers\n",
    "        \n",
    "        return values    \n",
    "\n",
    "\n",
    "\n",
    "def g(a, b=2):\n",
    "    return a*b\n",
    "\n",
    "ev = Evaluator(function=g, function_kwargs={'b':3}, max_workers=2, executor=None)\n",
    "ev.executor = None\n",
    "ev.json()"
   ]
  },
  {
   "cell_type": "code",
   "execution_count": 15,
   "metadata": {
    "execution": {
     "iopub.execute_input": "2022-10-02T01:56:58.443708Z",
     "iopub.status.busy": "2022-10-02T01:56:58.443292Z",
     "iopub.status.idle": "2022-10-02T01:56:58.447197Z",
     "shell.execute_reply": "2022-10-02T01:56:58.446676Z"
    }
   },
   "outputs": [],
   "source": [
    "ev.executor "
   ]
  },
  {
   "cell_type": "code",
   "execution_count": 16,
   "metadata": {
    "execution": {
     "iopub.execute_input": "2022-10-02T01:56:58.451014Z",
     "iopub.status.busy": "2022-10-02T01:56:58.449797Z",
     "iopub.status.idle": "2022-10-02T01:56:58.453981Z",
     "shell.execute_reply": "2022-10-02T01:56:58.453467Z"
    }
   },
   "outputs": [],
   "source": [
    "ev.max_workers = 1\n",
    "ev.executor=None"
   ]
  },
  {
   "cell_type": "code",
   "execution_count": 17,
   "metadata": {
    "execution": {
     "iopub.execute_input": "2022-10-02T01:56:58.456942Z",
     "iopub.status.busy": "2022-10-02T01:56:58.456525Z",
     "iopub.status.idle": "2022-10-02T01:56:58.462260Z",
     "shell.execute_reply": "2022-10-02T01:56:58.461742Z"
    }
   },
   "outputs": [
    {
     "data": {
      "text/plain": [
       "'{\"function\": \"__main__.g\", \"max_workers\": 1, \"function_kwargs\": {\"b\": 3}}'"
      ]
     },
     "execution_count": 17,
     "metadata": {},
     "output_type": "execute_result"
    }
   ],
   "source": [
    "ev.json()"
   ]
  },
  {
   "cell_type": "markdown",
   "metadata": {},
   "source": [
    "# Executors"
   ]
  },
  {
   "cell_type": "code",
   "execution_count": 18,
   "metadata": {
    "execution": {
     "iopub.execute_input": "2022-10-02T01:56:58.466197Z",
     "iopub.status.busy": "2022-10-02T01:56:58.464949Z",
     "iopub.status.idle": "2022-10-02T01:56:58.469142Z",
     "shell.execute_reply": "2022-10-02T01:56:58.468625Z"
    }
   },
   "outputs": [],
   "source": [
    "from concurrent.futures import ThreadPoolExecutor"
   ]
  },
  {
   "cell_type": "code",
   "execution_count": 19,
   "metadata": {
    "execution": {
     "iopub.execute_input": "2022-10-02T01:56:58.472367Z",
     "iopub.status.busy": "2022-10-02T01:56:58.471907Z",
     "iopub.status.idle": "2022-10-02T01:56:58.477074Z",
     "shell.execute_reply": "2022-10-02T01:56:58.476545Z"
    }
   },
   "outputs": [
    {
     "name": "stdout",
     "output_type": "stream",
     "text": [
      "<class 'concurrent.futures.thread.ThreadPoolExecutor'>\n"
     ]
    }
   ],
   "source": [
    "with ThreadPoolExecutor() as executor:\n",
    "    #print(dir(executor))\n",
    "    print(type(executor))"
   ]
  },
  {
   "cell_type": "code",
   "execution_count": 20,
   "metadata": {
    "execution": {
     "iopub.execute_input": "2022-10-02T01:56:58.480213Z",
     "iopub.status.busy": "2022-10-02T01:56:58.479707Z",
     "iopub.status.idle": "2022-10-02T01:56:58.483618Z",
     "shell.execute_reply": "2022-10-02T01:56:58.483081Z"
    }
   },
   "outputs": [],
   "source": [
    "from xopt.pydantic import NormalExecutor"
   ]
  },
  {
   "cell_type": "code",
   "execution_count": 21,
   "metadata": {
    "execution": {
     "iopub.execute_input": "2022-10-02T01:56:58.486596Z",
     "iopub.status.busy": "2022-10-02T01:56:58.486184Z",
     "iopub.status.idle": "2022-10-02T01:56:58.492487Z",
     "shell.execute_reply": "2022-10-02T01:56:58.491945Z"
    }
   },
   "outputs": [
    {
     "data": {
      "text/plain": [
       "concurrent.futures.thread.ThreadPoolExecutor"
      ]
     },
     "execution_count": 21,
     "metadata": {},
     "output_type": "execute_result"
    }
   ],
   "source": [
    "type(executor)"
   ]
  },
  {
   "cell_type": "code",
   "execution_count": 22,
   "metadata": {
    "execution": {
     "iopub.execute_input": "2022-10-02T01:56:58.495425Z",
     "iopub.status.busy": "2022-10-02T01:56:58.494921Z",
     "iopub.status.idle": "2022-10-02T01:56:58.505921Z",
     "shell.execute_reply": "2022-10-02T01:56:58.505391Z"
    }
   },
   "outputs": [
    {
     "data": {
      "text/plain": [
       "NormalExecutor[ThreadPoolExecutor](loader=ObjLoader[ThreadPoolExecutor](object=None, loader=CallableModel(callable=<class 'concurrent.futures.thread.ThreadPoolExecutor'>, signature=Kwargs_ThreadPoolExecutor(args=[], max_workers=None, initializer=None, initargs=None, kwarg_order=['max_workers', 'thread_name_prefix', 'initializer', 'initargs'], thread_name_prefix='')), object_type=<class 'concurrent.futures.thread.ThreadPoolExecutor'>), executor_type=<class 'concurrent.futures.thread.ThreadPoolExecutor'>, submit_callable='submit', map_callable='map', shutdown_callable='shutdown', executor=<concurrent.futures.thread.ThreadPoolExecutor object at 0x7f3ba8289d60>)"
      ]
     },
     "execution_count": 22,
     "metadata": {},
     "output_type": "execute_result"
    }
   ],
   "source": [
    "NormalExecutor[type(executor)](executor=executor)"
   ]
  }
 ],
 "metadata": {
  "interpreter": {
   "hash": "72034539424920dfb606fe3b820b3f27dca0cbf1c69938110810ec4641e275b1"
  },
  "kernelspec": {
   "display_name": "Python 3.9.12 ('xopt-dev')",
   "language": "python",
   "name": "python3"
  },
  "language_info": {
   "codemirror_mode": {
    "name": "ipython",
    "version": 3
   },
   "file_extension": ".py",
   "mimetype": "text/x-python",
   "name": "python",
   "nbconvert_exporter": "python",
   "pygments_lexer": "ipython3",
   "version": "3.9.13"
  }
 },
 "nbformat": 4,
 "nbformat_minor": 2
}
