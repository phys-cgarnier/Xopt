{
 "cells": [
  {
   "cell_type": "markdown",
   "metadata": {},
   "source": [
    "# Pydantic-based executors\n",
    "The [PEP-3184](https://peps.python.org/pep-3148/) executor standard allows us to create an interface for executor objects and provide intelligent context for their execution. Pydantic validators allow the dynamic validation of executor initialization and execution based on signature inspection.\n",
    "\n",
    "Before you start, make sure you're using Pydantic >= 1.9.0. 1.8 has all sorts of bugs with json encoder propagation. "
   ]
  },
  {
   "cell_type": "code",
   "execution_count": 1,
   "metadata": {
    "execution": {
     "iopub.execute_input": "2023-03-29T17:18:47.030672Z",
     "iopub.status.busy": "2023-03-29T17:18:47.030216Z",
     "iopub.status.idle": "2023-03-29T17:18:49.317530Z",
     "shell.execute_reply": "2023-03-29T17:18:49.316928Z"
    }
   },
   "outputs": [],
   "source": [
    "# imports\n",
    "import contextlib\n",
    "import copy\n",
    "import json\n",
    "import pickle\n",
    "import inspect\n",
    "import logging\n",
    "from concurrent.futures import Future, ThreadPoolExecutor\n",
    "from typing import Any, Callable, Dict, Generic, Iterable, Optional, TypeVar, Tuple\n",
    "from types import FunctionType, MethodType\n",
    "from pydantic import BaseModel, Field, root_validator, validate_arguments, validator, ValidationError, Extra\n",
    "from pydantic.generics import GenericModel\n",
    "\n",
    "\n",
    "\n",
    "from xopt.pydantic import validate_and_compose_signature\n",
    "\n",
    "\n",
    "logger = logging.getLogger(\"__name__\")\n",
    "\n",
    "# Print code\n",
    "from IPython.display import display, Markdown\n",
    "def sdisplay(obj):\n",
    "    spec = inspect.getsource(obj)\n",
    "    display(Markdown(f\"```python \\n {spec} \\n ```\"))\n"
   ]
  },
  {
   "cell_type": "markdown",
   "metadata": {},
   "source": [
    "## GENERICS\n",
    "\n",
    "Because the executor classes take many forms, we'll be making use of Pydantic's generic class composition for executor type interpolation. We are able to do this by creating a placeholder TypeVar. Here, this is names ObjType, because the executor classes make use of a generalizable loading approach that could be extented to objects generally."
   ]
  },
  {
   "cell_type": "code",
   "execution_count": 2,
   "metadata": {
    "execution": {
     "iopub.execute_input": "2023-03-29T17:18:49.320593Z",
     "iopub.status.busy": "2023-03-29T17:18:49.320122Z",
     "iopub.status.idle": "2023-03-29T17:18:49.323836Z",
     "shell.execute_reply": "2023-03-29T17:18:49.323299Z"
    }
   },
   "outputs": [],
   "source": [
    "ObjType = TypeVar(\"ObjType\")"
   ]
  },
  {
   "cell_type": "markdown",
   "metadata": {},
   "source": [
    "## JSON Encoders\n",
    "\n",
    "Pydantic does not propogate JSON encoders to child classes, so we'll define a set of common encoders:"
   ]
  },
  {
   "cell_type": "code",
   "execution_count": 3,
   "metadata": {
    "execution": {
     "iopub.execute_input": "2023-03-29T17:18:49.326201Z",
     "iopub.status.busy": "2023-03-29T17:18:49.325887Z",
     "iopub.status.idle": "2023-03-29T17:18:49.330608Z",
     "shell.execute_reply": "2023-03-29T17:18:49.329776Z"
    }
   },
   "outputs": [],
   "source": [
    "JSON_ENCODERS = {\n",
    "    # function/method type distinguished for class members and not recognized as callables\n",
    "    FunctionType: lambda x: f\"{x.__module__}.{x.__qualname__}\",\n",
    "    MethodType: lambda x: f\"{x.__module__}.{x.__qualname__}\",\n",
    "    Callable: lambda x: f\"{x.__module__}.{type(x).__qualname__}\",\n",
    "    type: lambda x: f\"{x.__module__}.{x.__name__}\",\n",
    "    # for encoding instances of the ObjType}\n",
    "    ObjType: lambda x: f\"{x.__module__}.{x.__class__.__qualname__}\",\n",
    "}"
   ]
  },
  {
   "cell_type": "markdown",
   "metadata": {},
   "source": [
    "## Utility functions for validating signatures and getting callables from strings\n",
    "\n",
    "Central to generalizablity between executors is the ability to validate signatures args/kwargs against the executor class. "
   ]
  },
  {
   "cell_type": "code",
   "execution_count": 4,
   "metadata": {
    "execution": {
     "iopub.execute_input": "2023-03-29T17:18:49.333283Z",
     "iopub.status.busy": "2023-03-29T17:18:49.332839Z",
     "iopub.status.idle": "2023-03-29T17:18:49.335596Z",
     "shell.execute_reply": "2023-03-29T17:18:49.335027Z"
    }
   },
   "outputs": [],
   "source": [
    "from xopt.pydantic import get_callable_from_string\n",
    "\n",
    "#sdisplay(get_callable_from_string)"
   ]
  },
  {
   "cell_type": "code",
   "execution_count": 5,
   "metadata": {
    "execution": {
     "iopub.execute_input": "2023-03-29T17:18:49.337889Z",
     "iopub.status.busy": "2023-03-29T17:18:49.337586Z",
     "iopub.status.idle": "2023-03-29T17:18:49.344493Z",
     "shell.execute_reply": "2023-03-29T17:18:49.343934Z"
    }
   },
   "outputs": [
    {
     "data": {
      "text/plain": [
       "Kwargs_test_fn(args=[], m=<class 'inspect._empty'>, kwarg_order=['x', 'y', 'm'], x=2, y=5)"
      ]
     },
     "execution_count": 5,
     "metadata": {},
     "output_type": "execute_result"
    }
   ],
   "source": [
    "def test_fn(x, y=4, *args, m, **kwargs):\n",
    "    return x\n",
    "\n",
    "validate_and_compose_signature(test_fn, y=5, x=2, hi=4)"
   ]
  },
  {
   "cell_type": "markdown",
   "metadata": {},
   "source": [
    "## Representing callables as Pydantic models\n",
    "Representing callables as pydantic models allows us to take advantage of both pydantic serialization to json and pydantic's validation hooks for the kwarg validation upon creation, with possibility of delaying load. Here `CallableModel`, we can provide initialization kwargs for a to-be-instantiated-later object and reap the benefit of additional kwarg validation. "
   ]
  },
  {
   "cell_type": "code",
   "execution_count": 6,
   "metadata": {
    "execution": {
     "iopub.execute_input": "2023-03-29T17:18:49.383000Z",
     "iopub.status.busy": "2023-03-29T17:18:49.382590Z",
     "iopub.status.idle": "2023-03-29T17:18:49.385348Z",
     "shell.execute_reply": "2023-03-29T17:18:49.384905Z"
    }
   },
   "outputs": [],
   "source": [
    "from xopt.pydantic import CallableModel"
   ]
  },
  {
   "cell_type": "markdown",
   "metadata": {},
   "source": [
    "Let's test the callables on example function and class:"
   ]
  },
  {
   "cell_type": "code",
   "execution_count": 7,
   "metadata": {
    "execution": {
     "iopub.execute_input": "2023-03-29T17:18:49.387442Z",
     "iopub.status.busy": "2023-03-29T17:18:49.387037Z",
     "iopub.status.idle": "2023-03-29T17:18:49.390584Z",
     "shell.execute_reply": "2023-03-29T17:18:49.390029Z"
    }
   },
   "outputs": [],
   "source": [
    "def test_function(x: int, y: int = 5):\n",
    "    return x + y\n",
    "\n",
    "\n",
    "class TestClass:\n",
    "    def __init__(self, x, y):\n",
    "        self.x = x\n",
    "        self.y = y"
   ]
  },
  {
   "cell_type": "code",
   "execution_count": 8,
   "metadata": {
    "execution": {
     "iopub.execute_input": "2023-03-29T17:18:49.392890Z",
     "iopub.status.busy": "2023-03-29T17:18:49.392380Z",
     "iopub.status.idle": "2023-03-29T17:18:49.397283Z",
     "shell.execute_reply": "2023-03-29T17:18:49.396709Z"
    }
   },
   "outputs": [
    {
     "data": {
      "text/plain": [
       "Kwargs_test_function(args=[], kwarg_order=['x', 'y'], x=1, y=3)"
      ]
     },
     "execution_count": 8,
     "metadata": {},
     "output_type": "execute_result"
    }
   ],
   "source": [
    "fn = CallableModel(callable=test_function, kwargs={\"x\":1, \"y\":3})\n",
    "\n",
    "fn.signature"
   ]
  },
  {
   "cell_type": "code",
   "execution_count": 9,
   "metadata": {
    "execution": {
     "iopub.execute_input": "2023-03-29T17:18:49.399587Z",
     "iopub.status.busy": "2023-03-29T17:18:49.399108Z",
     "iopub.status.idle": "2023-03-29T17:18:49.404270Z",
     "shell.execute_reply": "2023-03-29T17:18:49.403696Z"
    }
   },
   "outputs": [
    {
     "data": {
      "text/plain": [
       "Kwargs_test_function(args=[], kwarg_order=['x', 'y'], x=1, y=3)"
      ]
     },
     "execution_count": 9,
     "metadata": {},
     "output_type": "execute_result"
    }
   ],
   "source": [
    "fn = CallableModel(callable=test_function, args=(1,3,))\n",
    "\n",
    "fn.signature"
   ]
  },
  {
   "cell_type": "code",
   "execution_count": 10,
   "metadata": {
    "execution": {
     "iopub.execute_input": "2023-03-29T17:18:49.406566Z",
     "iopub.status.busy": "2023-03-29T17:18:49.406067Z",
     "iopub.status.idle": "2023-03-29T17:18:49.410895Z",
     "shell.execute_reply": "2023-03-29T17:18:49.410345Z"
    }
   },
   "outputs": [
    {
     "data": {
      "text/plain": [
       "Kwargs_test_function(args=[], kwarg_order=['x', 'y'], x=1, y=3)"
      ]
     },
     "execution_count": 10,
     "metadata": {},
     "output_type": "execute_result"
    }
   ],
   "source": [
    "fn = CallableModel(callable=test_function, args=(1,), kwargs={\"y\":3})\n",
    "\n",
    "fn.signature"
   ]
  },
  {
   "cell_type": "markdown",
   "metadata": {},
   "source": [
    "Schema shows us the generated model:"
   ]
  },
  {
   "cell_type": "code",
   "execution_count": 11,
   "metadata": {
    "execution": {
     "iopub.execute_input": "2023-03-29T17:18:49.413385Z",
     "iopub.status.busy": "2023-03-29T17:18:49.412910Z",
     "iopub.status.idle": "2023-03-29T17:18:49.419566Z",
     "shell.execute_reply": "2023-03-29T17:18:49.419002Z"
    }
   },
   "outputs": [
    {
     "data": {
      "text/plain": [
       "{'title': 'Kwargs_test_function',\n",
       " 'type': 'object',\n",
       " 'properties': {'args': {'title': 'Args',\n",
       "   'default': [],\n",
       "   'type': 'array',\n",
       "   'items': {}},\n",
       "  'kwarg_order': {'title': 'Kwarg Order',\n",
       "   'default': ['x', 'y'],\n",
       "   'type': 'array',\n",
       "   'items': {}},\n",
       "  'x': {'title': 'X', 'default': 1, 'type': 'integer'},\n",
       "  'y': {'title': 'Y', 'default': 3, 'type': 'integer'}}}"
      ]
     },
     "execution_count": 11,
     "metadata": {},
     "output_type": "execute_result"
    }
   ],
   "source": [
    "fn.signature.schema()"
   ]
  },
  {
   "cell_type": "code",
   "execution_count": 12,
   "metadata": {
    "execution": {
     "iopub.execute_input": "2023-03-29T17:18:49.422159Z",
     "iopub.status.busy": "2023-03-29T17:18:49.421719Z",
     "iopub.status.idle": "2023-03-29T17:18:49.427207Z",
     "shell.execute_reply": "2023-03-29T17:18:49.426301Z"
    }
   },
   "outputs": [
    {
     "data": {
      "text/plain": [
       "{'callable': <function __main__.test_function(x: int, y: int = 5)>,\n",
       " 'signature': {'args': [], 'x': 1, 'y': 3}}"
      ]
     },
     "execution_count": 12,
     "metadata": {},
     "output_type": "execute_result"
    }
   ],
   "source": [
    "# dict rep\n",
    "fn_dict = fn.dict()\n",
    "fn_dict"
   ]
  },
  {
   "cell_type": "code",
   "execution_count": 13,
   "metadata": {
    "execution": {
     "iopub.execute_input": "2023-03-29T17:18:49.429719Z",
     "iopub.status.busy": "2023-03-29T17:18:49.429305Z",
     "iopub.status.idle": "2023-03-29T17:18:49.435129Z",
     "shell.execute_reply": "2023-03-29T17:18:49.434630Z"
    }
   },
   "outputs": [
    {
     "data": {
      "text/plain": [
       "4"
      ]
     },
     "execution_count": 13,
     "metadata": {},
     "output_type": "execute_result"
    }
   ],
   "source": [
    "# load from dict\n",
    "fn_from_dict = CallableModel(**fn.dict()) \n",
    "fn_from_dict()"
   ]
  },
  {
   "cell_type": "code",
   "execution_count": 14,
   "metadata": {
    "execution": {
     "iopub.execute_input": "2023-03-29T17:18:49.438132Z",
     "iopub.status.busy": "2023-03-29T17:18:49.437224Z",
     "iopub.status.idle": "2023-03-29T17:18:49.442665Z",
     "shell.execute_reply": "2023-03-29T17:18:49.441853Z"
    }
   },
   "outputs": [
    {
     "data": {
      "text/plain": [
       "'{\"callable\": \"__main__.test_function\", \"signature\": {\"args\": [], \"x\": 1, \"y\": 3}}'"
      ]
     },
     "execution_count": 14,
     "metadata": {},
     "output_type": "execute_result"
    }
   ],
   "source": [
    "# json representation\n",
    "fn.json() "
   ]
  },
  {
   "cell_type": "code",
   "execution_count": 15,
   "metadata": {
    "execution": {
     "iopub.execute_input": "2023-03-29T17:18:49.445000Z",
     "iopub.status.busy": "2023-03-29T17:18:49.444515Z",
     "iopub.status.idle": "2023-03-29T17:18:49.451325Z",
     "shell.execute_reply": "2023-03-29T17:18:49.450315Z"
    }
   },
   "outputs": [
    {
     "data": {
      "text/plain": [
       "4"
      ]
     },
     "execution_count": 15,
     "metadata": {},
     "output_type": "execute_result"
    }
   ],
   "source": [
    "# callable from json\n",
    "fn_from_json = CallableModel.parse_raw(fn.json())\n",
    "fn_from_json()"
   ]
  },
  {
   "cell_type": "markdown",
   "metadata": {},
   "source": [
    "# With Classes"
   ]
  },
  {
   "cell_type": "code",
   "execution_count": 16,
   "metadata": {
    "execution": {
     "iopub.execute_input": "2023-03-29T17:18:49.453947Z",
     "iopub.status.busy": "2023-03-29T17:18:49.453521Z",
     "iopub.status.idle": "2023-03-29T17:18:49.458621Z",
     "shell.execute_reply": "2023-03-29T17:18:49.457782Z"
    }
   },
   "outputs": [],
   "source": [
    "# Class kwargs passed after\n",
    "parameterized_class = CallableModel(callable=TestClass, kwargs={\"x\":1, \"y\":3})\n",
    "test_class_obj = parameterized_class()\n",
    "assert isinstance(test_class_obj, (TestClass,))"
   ]
  },
  {
   "cell_type": "code",
   "execution_count": 17,
   "metadata": {
    "execution": {
     "iopub.execute_input": "2023-03-29T17:18:49.461055Z",
     "iopub.status.busy": "2023-03-29T17:18:49.460637Z",
     "iopub.status.idle": "2023-03-29T17:18:49.466419Z",
     "shell.execute_reply": "2023-03-29T17:18:49.465360Z"
    }
   },
   "outputs": [
    {
     "data": {
      "text/plain": [
       "{'callable': __main__.TestClass, 'signature': {'args': [], 'x': 1, 'y': 3}}"
      ]
     },
     "execution_count": 17,
     "metadata": {},
     "output_type": "execute_result"
    }
   ],
   "source": [
    "# dict rep\n",
    "parameterized_class_dict = parameterized_class.dict()\n",
    "parameterized_class_dict"
   ]
  },
  {
   "cell_type": "code",
   "execution_count": 18,
   "metadata": {
    "execution": {
     "iopub.execute_input": "2023-03-29T17:18:49.468995Z",
     "iopub.status.busy": "2023-03-29T17:18:49.468585Z",
     "iopub.status.idle": "2023-03-29T17:18:49.473313Z",
     "shell.execute_reply": "2023-03-29T17:18:49.472758Z"
    }
   },
   "outputs": [
    {
     "data": {
      "text/plain": [
       "CallableModel(callable=<class '__main__.TestClass'>, signature=Kwargs_TestClass(args=[], kwarg_order=['x', 'y'], x=1, y=3))"
      ]
     },
     "execution_count": 18,
     "metadata": {},
     "output_type": "execute_result"
    }
   ],
   "source": [
    "# from dict\n",
    "parameterized_class_from_dict = CallableModel(**parameterized_class_dict)\n",
    "parameterized_class_from_dict"
   ]
  },
  {
   "cell_type": "code",
   "execution_count": 19,
   "metadata": {
    "execution": {
     "iopub.execute_input": "2023-03-29T17:18:49.476357Z",
     "iopub.status.busy": "2023-03-29T17:18:49.475442Z",
     "iopub.status.idle": "2023-03-29T17:18:49.479668Z",
     "shell.execute_reply": "2023-03-29T17:18:49.478751Z"
    }
   },
   "outputs": [],
   "source": [
    "parameterized_class_from_dict_obj = parameterized_class_from_dict()\n",
    "assert isinstance(parameterized_class_from_dict_obj, (TestClass,))"
   ]
  },
  {
   "cell_type": "code",
   "execution_count": 20,
   "metadata": {
    "execution": {
     "iopub.execute_input": "2023-03-29T17:18:49.482202Z",
     "iopub.status.busy": "2023-03-29T17:18:49.481778Z",
     "iopub.status.idle": "2023-03-29T17:18:49.487246Z",
     "shell.execute_reply": "2023-03-29T17:18:49.486409Z"
    }
   },
   "outputs": [
    {
     "data": {
      "text/plain": [
       "'{\"callable\": \"__main__.TestClass\", \"signature\": {\"args\": [], \"x\": 1, \"y\": 3}}'"
      ]
     },
     "execution_count": 20,
     "metadata": {},
     "output_type": "execute_result"
    }
   ],
   "source": [
    "#json \n",
    "parameterized_class_json = parameterized_class.json()\n",
    "parameterized_class_json"
   ]
  },
  {
   "cell_type": "code",
   "execution_count": 21,
   "metadata": {
    "execution": {
     "iopub.execute_input": "2023-03-29T17:18:49.489722Z",
     "iopub.status.busy": "2023-03-29T17:18:49.489307Z",
     "iopub.status.idle": "2023-03-29T17:18:49.493948Z",
     "shell.execute_reply": "2023-03-29T17:18:49.493420Z"
    }
   },
   "outputs": [],
   "source": [
    "parameterized_class_from_json = CallableModel.parse_raw(parameterized_class_json)\n",
    "test_class_obj = parameterized_class_from_json()\n",
    "assert isinstance(test_class_obj, (TestClass,))"
   ]
  },
  {
   "cell_type": "markdown",
   "metadata": {},
   "source": [
    "We can use the callables to construct a dynamic object loader. The generic type allows us to use this same method for any executor. The syntax: `ObjLoader[ThreadPoolExecutor]` composes a new class entirely, this one specific to the `ThreadPoolExecutor`. "
   ]
  },
  {
   "cell_type": "code",
   "execution_count": 22,
   "metadata": {
    "execution": {
     "iopub.execute_input": "2023-03-29T17:18:49.497079Z",
     "iopub.status.busy": "2023-03-29T17:18:49.496141Z",
     "iopub.status.idle": "2023-03-29T17:18:49.499780Z",
     "shell.execute_reply": "2023-03-29T17:18:49.499247Z"
    }
   },
   "outputs": [],
   "source": [
    "from xopt.pydantic import ObjLoader"
   ]
  },
  {
   "cell_type": "markdown",
   "metadata": {},
   "source": [
    "Let's test object loader on our `TestClass`:"
   ]
  },
  {
   "cell_type": "code",
   "execution_count": 23,
   "metadata": {
    "execution": {
     "iopub.execute_input": "2023-03-29T17:18:49.502328Z",
     "iopub.status.busy": "2023-03-29T17:18:49.501915Z",
     "iopub.status.idle": "2023-03-29T17:18:49.509605Z",
     "shell.execute_reply": "2023-03-29T17:18:49.509052Z"
    }
   },
   "outputs": [
    {
     "data": {
      "text/plain": [
       "<__main__.TestClass at 0x7f8c33def430>"
      ]
     },
     "execution_count": 23,
     "metadata": {},
     "output_type": "execute_result"
    }
   ],
   "source": [
    "# create type\n",
    "TestClassLoader = ObjLoader[TestClass]\n",
    "\n",
    "obj_loader = TestClassLoader(kwargs={\"x\":1, \"y\":3})\n",
    "loaded = obj_loader.load()\n",
    "loaded"
   ]
  },
  {
   "cell_type": "markdown",
   "metadata": {},
   "source": [
    "Can do this for a generic object like `ThreadPoolExecutor`:"
   ]
  },
  {
   "cell_type": "code",
   "execution_count": 24,
   "metadata": {
    "execution": {
     "iopub.execute_input": "2023-03-29T17:18:49.512648Z",
     "iopub.status.busy": "2023-03-29T17:18:49.511748Z",
     "iopub.status.idle": "2023-03-29T17:18:49.520860Z",
     "shell.execute_reply": "2023-03-29T17:18:49.519954Z"
    }
   },
   "outputs": [],
   "source": [
    "# create Type\n",
    "TPELoader = ObjLoader[ThreadPoolExecutor]\n",
    "\n",
    "tpe_loader = TPELoader(kwargs={\"max_workers\":1})\n",
    "tpe = tpe_loader.load()\n",
    "tpe\n",
    "tpe_loader_json  = tpe_loader.json()\n",
    "tpe_loader_json\n",
    "tpe_loader_from_json = TPELoader.parse_raw(tpe_loader_json)\n",
    "\n",
    "\n",
    "# shutdown tpe\n",
    "tpe.shutdown()\n"
   ]
  },
  {
   "cell_type": "markdown",
   "metadata": {},
   "source": [
    "## Executors\n",
    "The previous classes were an attempt to demonstrate generic utility. The Executors to follow will build off of those common utilities to parameterize generic executors complying with the pep-3148 standard (the callables have been typified in case of deviation). Likewise, the following BaseExecutor outlines common executor fields and methods."
   ]
  },
  {
   "cell_type": "code",
   "execution_count": 25,
   "metadata": {
    "execution": {
     "iopub.execute_input": "2023-03-29T17:18:49.523442Z",
     "iopub.status.busy": "2023-03-29T17:18:49.523033Z",
     "iopub.status.idle": "2023-03-29T17:18:49.527022Z",
     "shell.execute_reply": "2023-03-29T17:18:49.526077Z"
    }
   },
   "outputs": [],
   "source": [
    "from xopt.pydantic import BaseExecutor, NormalExecutor"
   ]
  },
  {
   "cell_type": "markdown",
   "metadata": {},
   "source": [
    "## Normal, ContextExecutor\n",
    "Now, we subclass base to create two executors: `NormalExecutor`, and `ContextExecutor`. In the case that the user would like to create a persistent executor passed to the Evaluator, they would use the NormalExecutor. The ContextExecutor provides a context manager to dynamically create executor instances during execution."
   ]
  },
  {
   "cell_type": "markdown",
   "metadata": {},
   "source": [
    "Create some NormalExecutors: (must manually shutdown)"
   ]
  },
  {
   "cell_type": "code",
   "execution_count": 26,
   "metadata": {
    "execution": {
     "iopub.execute_input": "2023-03-29T17:18:49.529606Z",
     "iopub.status.busy": "2023-03-29T17:18:49.529207Z",
     "iopub.status.idle": "2023-03-29T17:18:49.540597Z",
     "shell.execute_reply": "2023-03-29T17:18:49.539698Z"
    }
   },
   "outputs": [
    {
     "data": {
      "text/plain": [
       "<Future at 0x7f8c33db1f40 state=finished returned int>"
      ]
     },
     "execution_count": 26,
     "metadata": {},
     "output_type": "execute_result"
    }
   ],
   "source": [
    "# ThreadPool\n",
    "# create type\n",
    "NormTPExecutor = NormalExecutor[ThreadPoolExecutor]\n",
    "\n",
    "tpe_exec = NormTPExecutor(kwargs={\"max_workers\":1})\n",
    "# submit\n",
    "tpe_exec.submit(fn=test_function, x=1, y=8)"
   ]
  },
  {
   "cell_type": "code",
   "execution_count": 27,
   "metadata": {
    "execution": {
     "iopub.execute_input": "2023-03-29T17:18:49.543134Z",
     "iopub.status.busy": "2023-03-29T17:18:49.542721Z",
     "iopub.status.idle": "2023-03-29T17:18:49.548380Z",
     "shell.execute_reply": "2023-03-29T17:18:49.547543Z"
    }
   },
   "outputs": [
    {
     "data": {
      "text/plain": [
       "<generator object Executor.map.<locals>.result_iterator at 0x7f8c33db0900>"
      ]
     },
     "execution_count": 27,
     "metadata": {},
     "output_type": "execute_result"
    }
   ],
   "source": [
    "# map\n",
    "tpe_exec.map(test_function, ((1, 4), (3, 4)))"
   ]
  },
  {
   "cell_type": "code",
   "execution_count": 28,
   "metadata": {
    "execution": {
     "iopub.execute_input": "2023-03-29T17:18:49.550861Z",
     "iopub.status.busy": "2023-03-29T17:18:49.550439Z",
     "iopub.status.idle": "2023-03-29T17:18:49.554498Z",
     "shell.execute_reply": "2023-03-29T17:18:49.553557Z"
    }
   },
   "outputs": [],
   "source": [
    "tpe_exec.shutdown()"
   ]
  },
  {
   "cell_type": "code",
   "execution_count": 29,
   "metadata": {
    "execution": {
     "iopub.execute_input": "2023-03-29T17:18:49.557545Z",
     "iopub.status.busy": "2023-03-29T17:18:49.556637Z",
     "iopub.status.idle": "2023-03-29T17:18:51.207292Z",
     "shell.execute_reply": "2023-03-29T17:18:51.206725Z"
    }
   },
   "outputs": [
    {
     "data": {
      "text/plain": [
       "<Future at 0x7f8c30a4edc0 state=pending>"
      ]
     },
     "execution_count": 29,
     "metadata": {},
     "output_type": "execute_result"
    }
   ],
   "source": [
    "# Dask\n",
    "from distributed import Client\n",
    "from distributed.cfexecutor import ClientExecutor\n",
    "\n",
    "# Using an existing executor\n",
    "client = Client(silence_logs=logging.ERROR)\n",
    "executor = client.get_executor()\n",
    "\n",
    "# create type\n",
    "NormalDaskExecutor =  NormalExecutor[type(executor)]\n",
    "\n",
    "dask_executor = NormalDaskExecutor(executor=executor)\n",
    "dask_executor.submit(fn=test_function, x=1, y=8)"
   ]
  },
  {
   "cell_type": "code",
   "execution_count": 30,
   "metadata": {
    "execution": {
     "iopub.execute_input": "2023-03-29T17:18:51.211825Z",
     "iopub.status.busy": "2023-03-29T17:18:51.210910Z",
     "iopub.status.idle": "2023-03-29T17:18:51.218727Z",
     "shell.execute_reply": "2023-03-29T17:18:51.218203Z"
    }
   },
   "outputs": [
    {
     "data": {
      "text/plain": [
       "'{\"loader\": {\"object\": null, \"loader\": {\"callable\": \"distributed.cfexecutor.ClientExecutor\", \"signature\": {\"args\": [], \"client\": \"inspect._empty\"}}, \"object_type\": \"distributed.cfexecutor.ClientExecutor\"}, \"submit_callable\": \"submit\", \"map_callable\": \"map\", \"shutdown_callable\": \"shutdown\", \"executor\": \"distributed.cfexecutor.ClientExecutor\"}'"
      ]
     },
     "execution_count": 30,
     "metadata": {},
     "output_type": "execute_result"
    }
   ],
   "source": [
    "dask_executor_json = dask_executor.json()\n",
    "dask_executor_json"
   ]
  },
  {
   "cell_type": "code",
   "execution_count": 31,
   "metadata": {
    "execution": {
     "iopub.execute_input": "2023-03-29T17:18:51.221487Z",
     "iopub.status.busy": "2023-03-29T17:18:51.221158Z",
     "iopub.status.idle": "2023-03-29T17:18:51.227564Z",
     "shell.execute_reply": "2023-03-29T17:18:51.226569Z"
    }
   },
   "outputs": [],
   "source": [
    "dask_executor.shutdown()"
   ]
  },
  {
   "cell_type": "code",
   "execution_count": 32,
   "metadata": {
    "execution": {
     "iopub.execute_input": "2023-03-29T17:18:51.229994Z",
     "iopub.status.busy": "2023-03-29T17:18:51.229547Z",
     "iopub.status.idle": "2023-03-29T17:18:51.233336Z",
     "shell.execute_reply": "2023-03-29T17:18:51.232268Z"
    }
   },
   "outputs": [],
   "source": [
    "# this raises error because client not passed...\n",
    "# dask_executor_from_json = NormalDaskExecutor.parse_raw(dask_executor_json)"
   ]
  },
  {
   "cell_type": "markdown",
   "metadata": {},
   "source": [
    "Context managers handle shutdown for us:"
   ]
  },
  {
   "cell_type": "code",
   "execution_count": 33,
   "metadata": {
    "execution": {
     "iopub.execute_input": "2023-03-29T17:18:51.236177Z",
     "iopub.status.busy": "2023-03-29T17:18:51.235392Z",
     "iopub.status.idle": "2023-03-29T17:18:51.244784Z",
     "shell.execute_reply": "2023-03-29T17:18:51.244211Z"
    }
   },
   "outputs": [],
   "source": [
    "# ContexExecutor with context handling on submission and no executor persistence\n",
    "class ContextExecutor(\n",
    "    BaseExecutor[ObjType],\n",
    "    Generic[ObjType],\n",
    "    arbitrary_types_allowed=True,\n",
    "    json_encoders=JSON_ENCODERS,\n",
    "):\n",
    "    @contextlib.contextmanager\n",
    "    def context(self):\n",
    "\n",
    "        try:\n",
    "            self.executor = self.loader.load()\n",
    "            yield self.executor\n",
    "\n",
    "        finally:\n",
    "            self.shutdown()\n",
    "            self.executor = None\n",
    "\n",
    "    def submit(self, fn, **kwargs) -> Future:\n",
    "        with self.context() as ctxt:\n",
    "            submit_fn = getattr(ctxt, self.submit_callable)\n",
    "            return submit_fn(fn, **kwargs)\n",
    "        \n",
    "    def map(self, fn, iter: Iterable) -> Iterable[Future]:\n",
    "        with self.context() as ctxt:\n",
    "            map_fn = getattr(ctxt, self.map_callable)\n",
    "            return map_fn(fn, iter)\n"
   ]
  },
  {
   "cell_type": "markdown",
   "metadata": {},
   "source": [
    "Create some ContextExecutors"
   ]
  },
  {
   "cell_type": "code",
   "execution_count": 34,
   "metadata": {
    "execution": {
     "iopub.execute_input": "2023-03-29T17:18:51.246976Z",
     "iopub.status.busy": "2023-03-29T17:18:51.246655Z",
     "iopub.status.idle": "2023-03-29T17:18:51.259551Z",
     "shell.execute_reply": "2023-03-29T17:18:51.258970Z"
    }
   },
   "outputs": [
    {
     "data": {
      "text/plain": [
       "<Future at 0x7f8c308ac250 state=finished returned int>"
      ]
     },
     "execution_count": 34,
     "metadata": {},
     "output_type": "execute_result"
    }
   ],
   "source": [
    "# ThreadPoolExecutor\n",
    "# create type\n",
    "\n",
    "ContextTPExecutor = ContextExecutor[ThreadPoolExecutor]\n",
    "\n",
    "context_exec = ContextTPExecutor(kwargs={\"max_workers\":1})\n",
    "context_exec.submit(fn=test_function, x=1, y=8)"
   ]
  },
  {
   "cell_type": "code",
   "execution_count": 35,
   "metadata": {
    "execution": {
     "iopub.execute_input": "2023-03-29T17:18:51.261765Z",
     "iopub.status.busy": "2023-03-29T17:18:51.261460Z",
     "iopub.status.idle": "2023-03-29T17:18:51.267404Z",
     "shell.execute_reply": "2023-03-29T17:18:51.266542Z"
    }
   },
   "outputs": [
    {
     "data": {
      "text/plain": [
       "<generator object Executor.map.<locals>.result_iterator at 0x7f8c308b2120>"
      ]
     },
     "execution_count": 35,
     "metadata": {},
     "output_type": "execute_result"
    }
   ],
   "source": [
    "context_exec.map(test_function, ((1, 4), (3, 4)))"
   ]
  },
  {
   "cell_type": "code",
   "execution_count": 36,
   "metadata": {
    "execution": {
     "iopub.execute_input": "2023-03-29T17:18:51.269954Z",
     "iopub.status.busy": "2023-03-29T17:18:51.269523Z",
     "iopub.status.idle": "2023-03-29T17:18:51.275141Z",
     "shell.execute_reply": "2023-03-29T17:18:51.274621Z"
    }
   },
   "outputs": [
    {
     "data": {
      "text/plain": [
       "'{\"loader\": {\"object\": null, \"loader\": {\"callable\": \"concurrent.futures.thread.ThreadPoolExecutor\", \"signature\": {\"args\": [], \"initializer\": null, \"initargs\": null, \"max_workers\": 1, \"thread_name_prefix\": \"\"}}, \"object_type\": \"concurrent.futures.thread.ThreadPoolExecutor\"}, \"submit_callable\": \"submit\", \"map_callable\": \"map\", \"shutdown_callable\": \"shutdown\", \"executor\": null}'"
      ]
     },
     "execution_count": 36,
     "metadata": {},
     "output_type": "execute_result"
    }
   ],
   "source": [
    "context_exec_json = context_exec.json()\n",
    "context_exec_json"
   ]
  },
  {
   "cell_type": "code",
   "execution_count": 37,
   "metadata": {
    "execution": {
     "iopub.execute_input": "2023-03-29T17:18:51.277650Z",
     "iopub.status.busy": "2023-03-29T17:18:51.277214Z",
     "iopub.status.idle": "2023-03-29T17:18:51.284274Z",
     "shell.execute_reply": "2023-03-29T17:18:51.283689Z"
    }
   },
   "outputs": [
    {
     "data": {
      "text/plain": [
       "<Future at 0x7f8c308ac940 state=finished returned int>"
      ]
     },
     "execution_count": 37,
     "metadata": {},
     "output_type": "execute_result"
    }
   ],
   "source": [
    "context_exec_from_json = ContextTPExecutor.parse_raw(\n",
    "        context_exec_json\n",
    "    )\n",
    "context_exec_from_json.submit(fn=test_function, x=1, y=8)"
   ]
  },
  {
   "cell_type": "code",
   "execution_count": 38,
   "metadata": {
    "execution": {
     "iopub.execute_input": "2023-03-29T17:18:51.286837Z",
     "iopub.status.busy": "2023-03-29T17:18:51.286358Z",
     "iopub.status.idle": "2023-03-29T17:18:51.292063Z",
     "shell.execute_reply": "2023-03-29T17:18:51.291552Z"
    }
   },
   "outputs": [
    {
     "data": {
      "text/plain": [
       "<generator object Executor.map.<locals>.result_iterator at 0x7f8c308b25f0>"
      ]
     },
     "execution_count": 38,
     "metadata": {},
     "output_type": "execute_result"
    }
   ],
   "source": [
    "context_exec_from_json.map(test_function, ((1, 4), (3, 4)))"
   ]
  },
  {
   "cell_type": "markdown",
   "metadata": {},
   "source": [
    "Some executors are generated with Clients that manage sessions:\n",
    "** will require gathering results before shutdown..."
   ]
  },
  {
   "cell_type": "code",
   "execution_count": 39,
   "metadata": {
    "execution": {
     "iopub.execute_input": "2023-03-29T17:18:51.294693Z",
     "iopub.status.busy": "2023-03-29T17:18:51.294232Z",
     "iopub.status.idle": "2023-03-29T17:18:51.301718Z",
     "shell.execute_reply": "2023-03-29T17:18:51.301137Z"
    }
   },
   "outputs": [
    {
     "name": "stdout",
     "output_type": "stream",
     "text": [
      "callable: __main__.evaluate\n",
      "signature:\n",
      "  args: []\n",
      "  inputs: inspect._empty\n",
      "  y: 100\n",
      "\n"
     ]
    }
   ],
   "source": [
    "import yaml\n",
    "\n",
    "def evaluate(inputs, y=5, z=None):\n",
    "    return {'result': inputs['x'] + y }\n",
    "\n",
    "fn = CallableModel(callable=evaluate, kwargs={\"y\":100})\n",
    "fn_json = fn.json(exclude_none=True)\n",
    "\n",
    "\n",
    "print(yaml.dump(yaml.safe_load(fn_json)))"
   ]
  },
  {
   "cell_type": "code",
   "execution_count": 40,
   "metadata": {
    "execution": {
     "iopub.execute_input": "2023-03-29T17:18:51.304106Z",
     "iopub.status.busy": "2023-03-29T17:18:51.303866Z",
     "iopub.status.idle": "2023-03-29T17:18:51.310418Z",
     "shell.execute_reply": "2023-03-29T17:18:51.309390Z"
    }
   },
   "outputs": [
    {
     "data": {
      "text/plain": [
       "CallableModel(callable=<function evaluate at 0x7f8c308fd700>, signature=Kwargs_evaluate(args=[], z=None, kwarg_order=['inputs', 'y', 'z'], inputs='inspect._empty', y=100))"
      ]
     },
     "execution_count": 40,
     "metadata": {},
     "output_type": "execute_result"
    }
   ],
   "source": [
    "fn_from_json = CallableModel.parse_raw(fn_json)\n",
    "fn_from_json"
   ]
  },
  {
   "cell_type": "code",
   "execution_count": 41,
   "metadata": {
    "execution": {
     "iopub.execute_input": "2023-03-29T17:18:51.312810Z",
     "iopub.status.busy": "2023-03-29T17:18:51.312319Z",
     "iopub.status.idle": "2023-03-29T17:18:51.316436Z",
     "shell.execute_reply": "2023-03-29T17:18:51.315814Z"
    }
   },
   "outputs": [
    {
     "data": {
      "text/plain": [
       "{'result': 105}"
      ]
     },
     "execution_count": 41,
     "metadata": {},
     "output_type": "execute_result"
    }
   ],
   "source": [
    "fn_from_json({\"x\":5}, z=2)"
   ]
  }
 ],
 "metadata": {
  "interpreter": {
   "hash": "72034539424920dfb606fe3b820b3f27dca0cbf1c69938110810ec4641e275b1"
  },
  "kernelspec": {
   "display_name": "Python 3 (ipykernel)",
   "language": "python",
   "name": "python3"
  },
  "language_info": {
   "codemirror_mode": {
    "name": "ipython",
    "version": 3
   },
   "file_extension": ".py",
   "mimetype": "text/x-python",
   "name": "python",
   "nbconvert_exporter": "python",
   "pygments_lexer": "ipython3",
   "version": "3.9.16"
  }
 },
 "nbformat": 4,
 "nbformat_minor": 2
}
