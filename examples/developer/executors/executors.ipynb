{
 "cells": [
  {
   "cell_type": "markdown",
   "metadata": {},
   "source": [
    "# Pydantic-based executors\n",
    "The [PEP-3184](https://peps.python.org/pep-3148/) executor standard allows us to create an interface for executor objects and provide intelligent context for their execution. Pydantic validators allow the dynamic validation of executor initialization and execution based on signature inspection.\n",
    "\n",
    "Before you start, make sure you're using Pydantic >= 1.9.0. 1.8 has all sorts of bugs with json encoder propagation. "
   ]
  },
  {
   "cell_type": "code",
   "execution_count": 1,
   "metadata": {
    "execution": {
     "iopub.execute_input": "2023-04-19T16:47:55.593136Z",
     "iopub.status.busy": "2023-04-19T16:47:55.592682Z",
     "iopub.status.idle": "2023-04-19T16:47:58.675848Z",
     "shell.execute_reply": "2023-04-19T16:47:58.674995Z"
    }
   },
   "outputs": [],
   "source": [
    "# imports\n",
    "import contextlib\n",
    "import copy\n",
    "import json\n",
    "import pickle\n",
    "import inspect\n",
    "import logging\n",
    "from concurrent.futures import Future, ThreadPoolExecutor\n",
    "from typing import Any, Callable, Dict, Generic, Iterable, Optional, TypeVar, Tuple\n",
    "from types import FunctionType, MethodType\n",
    "from pydantic import BaseModel, Field, root_validator, validate_arguments, validator, ValidationError, Extra\n",
    "from pydantic.generics import GenericModel\n",
    "\n",
    "\n",
    "\n",
    "from xopt.pydantic import validate_and_compose_signature\n",
    "\n",
    "\n",
    "logger = logging.getLogger(\"__name__\")\n",
    "\n",
    "# Print code\n",
    "from IPython.display import display, Markdown\n",
    "def sdisplay(obj):\n",
    "    spec = inspect.getsource(obj)\n",
    "    display(Markdown(f\"```python \\n {spec} \\n ```\"))\n"
   ]
  },
  {
   "cell_type": "markdown",
   "metadata": {},
   "source": [
    "## GENERICS\n",
    "\n",
    "Because the executor classes take many forms, we'll be making use of Pydantic's generic class composition for executor type interpolation. We are able to do this by creating a placeholder TypeVar. Here, this is names ObjType, because the executor classes make use of a generalizable loading approach that could be extented to objects generally."
   ]
  },
  {
   "cell_type": "code",
   "execution_count": 2,
   "metadata": {
    "execution": {
     "iopub.execute_input": "2023-04-19T16:47:58.680745Z",
     "iopub.status.busy": "2023-04-19T16:47:58.680164Z",
     "iopub.status.idle": "2023-04-19T16:47:58.683733Z",
     "shell.execute_reply": "2023-04-19T16:47:58.683177Z"
    }
   },
   "outputs": [],
   "source": [
    "ObjType = TypeVar(\"ObjType\")"
   ]
  },
  {
   "cell_type": "markdown",
   "metadata": {},
   "source": [
    "## JSON Encoders\n",
    "\n",
    "Pydantic does not propogate JSON encoders to child classes, so we'll define a set of common encoders:"
   ]
  },
  {
   "cell_type": "code",
   "execution_count": 3,
   "metadata": {
    "execution": {
     "iopub.execute_input": "2023-04-19T16:47:58.687101Z",
     "iopub.status.busy": "2023-04-19T16:47:58.686630Z",
     "iopub.status.idle": "2023-04-19T16:47:58.691210Z",
     "shell.execute_reply": "2023-04-19T16:47:58.690464Z"
    }
   },
   "outputs": [],
   "source": [
    "JSON_ENCODERS = {\n",
    "    # function/method type distinguished for class members and not recognized as callables\n",
    "    FunctionType: lambda x: f\"{x.__module__}.{x.__qualname__}\",\n",
    "    MethodType: lambda x: f\"{x.__module__}.{x.__qualname__}\",\n",
    "    Callable: lambda x: f\"{x.__module__}.{type(x).__qualname__}\",\n",
    "    type: lambda x: f\"{x.__module__}.{x.__name__}\",\n",
    "    # for encoding instances of the ObjType}\n",
    "    ObjType: lambda x: f\"{x.__module__}.{x.__class__.__qualname__}\",\n",
    "}"
   ]
  },
  {
   "cell_type": "markdown",
   "metadata": {},
   "source": [
    "## Utility functions for validating signatures and getting callables from strings\n",
    "\n",
    "Central to generalizablity between executors is the ability to validate signatures args/kwargs against the executor class. "
   ]
  },
  {
   "cell_type": "code",
   "execution_count": 4,
   "metadata": {
    "execution": {
     "iopub.execute_input": "2023-04-19T16:47:58.694834Z",
     "iopub.status.busy": "2023-04-19T16:47:58.694582Z",
     "iopub.status.idle": "2023-04-19T16:47:58.697911Z",
     "shell.execute_reply": "2023-04-19T16:47:58.697244Z"
    }
   },
   "outputs": [],
   "source": [
    "from xopt.pydantic import get_callable_from_string\n",
    "\n",
    "#sdisplay(get_callable_from_string)"
   ]
  },
  {
   "cell_type": "code",
   "execution_count": 5,
   "metadata": {
    "execution": {
     "iopub.execute_input": "2023-04-19T16:47:58.701122Z",
     "iopub.status.busy": "2023-04-19T16:47:58.700647Z",
     "iopub.status.idle": "2023-04-19T16:47:58.709154Z",
     "shell.execute_reply": "2023-04-19T16:47:58.708414Z"
    }
   },
   "outputs": [
    {
     "data": {
      "text/plain": [
       "Kwargs_test_fn(args=[], m=<class 'inspect._empty'>, kwarg_order=['x', 'y', 'm'], x=2, y=5)"
      ]
     },
     "execution_count": 5,
     "metadata": {},
     "output_type": "execute_result"
    }
   ],
   "source": [
    "def test_fn(x, y=4, *args, m, **kwargs):\n",
    "    return x\n",
    "\n",
    "validate_and_compose_signature(test_fn, y=5, x=2, hi=4)"
   ]
  },
  {
   "cell_type": "markdown",
   "metadata": {},
   "source": [
    "## Representing callables as Pydantic models\n",
    "Representing callables as pydantic models allows us to take advantage of both pydantic serialization to json and pydantic's validation hooks for the kwarg validation upon creation, with possibility of delaying load. Here `CallableModel`, we can provide initialization kwargs for a to-be-instantiated-later object and reap the benefit of additional kwarg validation. "
   ]
  },
  {
   "cell_type": "code",
   "execution_count": 6,
   "metadata": {
    "execution": {
     "iopub.execute_input": "2023-04-19T16:47:58.758956Z",
     "iopub.status.busy": "2023-04-19T16:47:58.757915Z",
     "iopub.status.idle": "2023-04-19T16:47:58.763429Z",
     "shell.execute_reply": "2023-04-19T16:47:58.762653Z"
    }
   },
   "outputs": [],
   "source": [
    "from xopt.pydantic import CallableModel"
   ]
  },
  {
   "cell_type": "markdown",
   "metadata": {},
   "source": [
    "Let's test the callables on example function and class:"
   ]
  },
  {
   "cell_type": "code",
   "execution_count": 7,
   "metadata": {
    "execution": {
     "iopub.execute_input": "2023-04-19T16:47:58.767365Z",
     "iopub.status.busy": "2023-04-19T16:47:58.766394Z",
     "iopub.status.idle": "2023-04-19T16:47:58.771312Z",
     "shell.execute_reply": "2023-04-19T16:47:58.770630Z"
    }
   },
   "outputs": [],
   "source": [
    "def test_function(x: int, y: int = 5):\n",
    "    return x + y\n",
    "\n",
    "\n",
    "class TestClass:\n",
    "    def __init__(self, x, y):\n",
    "        self.x = x\n",
    "        self.y = y"
   ]
  },
  {
   "cell_type": "code",
   "execution_count": 8,
   "metadata": {
    "execution": {
     "iopub.execute_input": "2023-04-19T16:47:58.774996Z",
     "iopub.status.busy": "2023-04-19T16:47:58.774387Z",
     "iopub.status.idle": "2023-04-19T16:47:58.780470Z",
     "shell.execute_reply": "2023-04-19T16:47:58.779920Z"
    }
   },
   "outputs": [
    {
     "data": {
      "text/plain": [
       "Kwargs_test_function(args=[], kwarg_order=['x', 'y'], x=1, y=3)"
      ]
     },
     "execution_count": 8,
     "metadata": {},
     "output_type": "execute_result"
    }
   ],
   "source": [
    "fn = CallableModel(callable=test_function, kwargs={\"x\":1, \"y\":3})\n",
    "\n",
    "fn.signature"
   ]
  },
  {
   "cell_type": "code",
   "execution_count": 9,
   "metadata": {
    "execution": {
     "iopub.execute_input": "2023-04-19T16:47:58.783966Z",
     "iopub.status.busy": "2023-04-19T16:47:58.783362Z",
     "iopub.status.idle": "2023-04-19T16:47:58.789284Z",
     "shell.execute_reply": "2023-04-19T16:47:58.788681Z"
    }
   },
   "outputs": [
    {
     "data": {
      "text/plain": [
       "Kwargs_test_function(args=[], kwarg_order=['x', 'y'], x=1, y=3)"
      ]
     },
     "execution_count": 9,
     "metadata": {},
     "output_type": "execute_result"
    }
   ],
   "source": [
    "fn = CallableModel(callable=test_function, args=(1,3,))\n",
    "\n",
    "fn.signature"
   ]
  },
  {
   "cell_type": "code",
   "execution_count": 10,
   "metadata": {
    "execution": {
     "iopub.execute_input": "2023-04-19T16:47:58.792690Z",
     "iopub.status.busy": "2023-04-19T16:47:58.792021Z",
     "iopub.status.idle": "2023-04-19T16:47:58.798198Z",
     "shell.execute_reply": "2023-04-19T16:47:58.797530Z"
    }
   },
   "outputs": [
    {
     "data": {
      "text/plain": [
       "Kwargs_test_function(args=[], kwarg_order=['x', 'y'], x=1, y=3)"
      ]
     },
     "execution_count": 10,
     "metadata": {},
     "output_type": "execute_result"
    }
   ],
   "source": [
    "fn = CallableModel(callable=test_function, args=(1,), kwargs={\"y\":3})\n",
    "\n",
    "fn.signature"
   ]
  },
  {
   "cell_type": "markdown",
   "metadata": {},
   "source": [
    "Schema shows us the generated model:"
   ]
  },
  {
   "cell_type": "code",
   "execution_count": 11,
   "metadata": {
    "execution": {
     "iopub.execute_input": "2023-04-19T16:47:58.801629Z",
     "iopub.status.busy": "2023-04-19T16:47:58.800916Z",
     "iopub.status.idle": "2023-04-19T16:47:58.807925Z",
     "shell.execute_reply": "2023-04-19T16:47:58.807374Z"
    }
   },
   "outputs": [
    {
     "data": {
      "text/plain": [
       "{'title': 'Kwargs_test_function',\n",
       " 'type': 'object',\n",
       " 'properties': {'args': {'title': 'Args',\n",
       "   'default': [],\n",
       "   'type': 'array',\n",
       "   'items': {}},\n",
       "  'kwarg_order': {'title': 'Kwarg Order',\n",
       "   'default': ['x', 'y'],\n",
       "   'type': 'array',\n",
       "   'items': {}},\n",
       "  'x': {'title': 'X', 'default': 1, 'type': 'integer'},\n",
       "  'y': {'title': 'Y', 'default': 3, 'type': 'integer'}}}"
      ]
     },
     "execution_count": 11,
     "metadata": {},
     "output_type": "execute_result"
    }
   ],
   "source": [
    "fn.signature.schema()"
   ]
  },
  {
   "cell_type": "code",
   "execution_count": 12,
   "metadata": {
    "execution": {
     "iopub.execute_input": "2023-04-19T16:47:58.811214Z",
     "iopub.status.busy": "2023-04-19T16:47:58.810614Z",
     "iopub.status.idle": "2023-04-19T16:47:58.816861Z",
     "shell.execute_reply": "2023-04-19T16:47:58.816124Z"
    }
   },
   "outputs": [
    {
     "data": {
      "text/plain": [
       "{'callable': <function __main__.test_function(x: int, y: int = 5)>,\n",
       " 'signature': {'args': [], 'x': 1, 'y': 3}}"
      ]
     },
     "execution_count": 12,
     "metadata": {},
     "output_type": "execute_result"
    }
   ],
   "source": [
    "# dict rep\n",
    "fn_dict = fn.dict()\n",
    "fn_dict"
   ]
  },
  {
   "cell_type": "code",
   "execution_count": 13,
   "metadata": {
    "execution": {
     "iopub.execute_input": "2023-04-19T16:47:58.819984Z",
     "iopub.status.busy": "2023-04-19T16:47:58.819415Z",
     "iopub.status.idle": "2023-04-19T16:47:58.825549Z",
     "shell.execute_reply": "2023-04-19T16:47:58.824833Z"
    }
   },
   "outputs": [
    {
     "data": {
      "text/plain": [
       "4"
      ]
     },
     "execution_count": 13,
     "metadata": {},
     "output_type": "execute_result"
    }
   ],
   "source": [
    "# load from dict\n",
    "fn_from_dict = CallableModel(**fn.dict()) \n",
    "fn_from_dict()"
   ]
  },
  {
   "cell_type": "code",
   "execution_count": 14,
   "metadata": {
    "execution": {
     "iopub.execute_input": "2023-04-19T16:47:58.829632Z",
     "iopub.status.busy": "2023-04-19T16:47:58.829150Z",
     "iopub.status.idle": "2023-04-19T16:47:58.834007Z",
     "shell.execute_reply": "2023-04-19T16:47:58.833295Z"
    }
   },
   "outputs": [
    {
     "data": {
      "text/plain": [
       "'{\"callable\":\"__main__.test_function\",\"signature\":{\"args\":[],\"x\":1,\"y\":3}}'"
      ]
     },
     "execution_count": 14,
     "metadata": {},
     "output_type": "execute_result"
    }
   ],
   "source": [
    "# json representation\n",
    "fn.json() "
   ]
  },
  {
   "cell_type": "code",
   "execution_count": 15,
   "metadata": {
    "execution": {
     "iopub.execute_input": "2023-04-19T16:47:58.838161Z",
     "iopub.status.busy": "2023-04-19T16:47:58.837685Z",
     "iopub.status.idle": "2023-04-19T16:47:58.844563Z",
     "shell.execute_reply": "2023-04-19T16:47:58.843788Z"
    }
   },
   "outputs": [
    {
     "data": {
      "text/plain": [
       "4"
      ]
     },
     "execution_count": 15,
     "metadata": {},
     "output_type": "execute_result"
    }
   ],
   "source": [
    "# callable from json\n",
    "fn_from_json = CallableModel.parse_raw(fn.json())\n",
    "fn_from_json()"
   ]
  },
  {
   "cell_type": "markdown",
   "metadata": {},
   "source": [
    "# With Classes"
   ]
  },
  {
   "cell_type": "code",
   "execution_count": 16,
   "metadata": {
    "execution": {
     "iopub.execute_input": "2023-04-19T16:47:58.848088Z",
     "iopub.status.busy": "2023-04-19T16:47:58.847610Z",
     "iopub.status.idle": "2023-04-19T16:47:58.852922Z",
     "shell.execute_reply": "2023-04-19T16:47:58.852293Z"
    }
   },
   "outputs": [],
   "source": [
    "# Class kwargs passed after\n",
    "parameterized_class = CallableModel(callable=TestClass, kwargs={\"x\":1, \"y\":3})\n",
    "test_class_obj = parameterized_class()\n",
    "assert isinstance(test_class_obj, (TestClass,))"
   ]
  },
  {
   "cell_type": "code",
   "execution_count": 17,
   "metadata": {
    "execution": {
     "iopub.execute_input": "2023-04-19T16:47:58.855945Z",
     "iopub.status.busy": "2023-04-19T16:47:58.855358Z",
     "iopub.status.idle": "2023-04-19T16:47:58.859941Z",
     "shell.execute_reply": "2023-04-19T16:47:58.859402Z"
    }
   },
   "outputs": [
    {
     "data": {
      "text/plain": [
       "{'callable': __main__.TestClass, 'signature': {'args': [], 'x': 1, 'y': 3}}"
      ]
     },
     "execution_count": 17,
     "metadata": {},
     "output_type": "execute_result"
    }
   ],
   "source": [
    "# dict rep\n",
    "parameterized_class_dict = parameterized_class.dict()\n",
    "parameterized_class_dict"
   ]
  },
  {
   "cell_type": "code",
   "execution_count": 18,
   "metadata": {
    "execution": {
     "iopub.execute_input": "2023-04-19T16:47:58.863294Z",
     "iopub.status.busy": "2023-04-19T16:47:58.862698Z",
     "iopub.status.idle": "2023-04-19T16:47:58.870852Z",
     "shell.execute_reply": "2023-04-19T16:47:58.870188Z"
    }
   },
   "outputs": [
    {
     "data": {
      "text/plain": [
       "CallableModel(callable=<class '__main__.TestClass'>, signature=Kwargs_TestClass(args=[], kwarg_order=['x', 'y'], x=1, y=3))"
      ]
     },
     "execution_count": 18,
     "metadata": {},
     "output_type": "execute_result"
    }
   ],
   "source": [
    "# from dict\n",
    "parameterized_class_from_dict = CallableModel(**parameterized_class_dict)\n",
    "parameterized_class_from_dict"
   ]
  },
  {
   "cell_type": "code",
   "execution_count": 19,
   "metadata": {
    "execution": {
     "iopub.execute_input": "2023-04-19T16:47:58.874776Z",
     "iopub.status.busy": "2023-04-19T16:47:58.874019Z",
     "iopub.status.idle": "2023-04-19T16:47:58.878570Z",
     "shell.execute_reply": "2023-04-19T16:47:58.877658Z"
    }
   },
   "outputs": [],
   "source": [
    "parameterized_class_from_dict_obj = parameterized_class_from_dict()\n",
    "assert isinstance(parameterized_class_from_dict_obj, (TestClass,))"
   ]
  },
  {
   "cell_type": "code",
   "execution_count": 20,
   "metadata": {
    "execution": {
     "iopub.execute_input": "2023-04-19T16:47:58.883217Z",
     "iopub.status.busy": "2023-04-19T16:47:58.881968Z",
     "iopub.status.idle": "2023-04-19T16:47:58.888592Z",
     "shell.execute_reply": "2023-04-19T16:47:58.887854Z"
    }
   },
   "outputs": [
    {
     "data": {
      "text/plain": [
       "'{\"callable\":\"__main__.TestClass\",\"signature\":{\"args\":[],\"x\":1,\"y\":3}}'"
      ]
     },
     "execution_count": 20,
     "metadata": {},
     "output_type": "execute_result"
    }
   ],
   "source": [
    "#json \n",
    "parameterized_class_json = parameterized_class.json()\n",
    "parameterized_class_json"
   ]
  },
  {
   "cell_type": "code",
   "execution_count": 21,
   "metadata": {
    "execution": {
     "iopub.execute_input": "2023-04-19T16:47:58.892116Z",
     "iopub.status.busy": "2023-04-19T16:47:58.891520Z",
     "iopub.status.idle": "2023-04-19T16:47:58.898028Z",
     "shell.execute_reply": "2023-04-19T16:47:58.897140Z"
    }
   },
   "outputs": [],
   "source": [
    "parameterized_class_from_json = CallableModel.parse_raw(parameterized_class_json)\n",
    "test_class_obj = parameterized_class_from_json()\n",
    "assert isinstance(test_class_obj, (TestClass,))"
   ]
  },
  {
   "cell_type": "markdown",
   "metadata": {},
   "source": [
    "We can use the callables to construct a dynamic object loader. The generic type allows us to use this same method for any executor. The syntax: `ObjLoader[ThreadPoolExecutor]` composes a new class entirely, this one specific to the `ThreadPoolExecutor`. "
   ]
  },
  {
   "cell_type": "code",
   "execution_count": 22,
   "metadata": {
    "execution": {
     "iopub.execute_input": "2023-04-19T16:47:58.901655Z",
     "iopub.status.busy": "2023-04-19T16:47:58.901251Z",
     "iopub.status.idle": "2023-04-19T16:47:58.905846Z",
     "shell.execute_reply": "2023-04-19T16:47:58.905203Z"
    }
   },
   "outputs": [],
   "source": [
    "from xopt.pydantic import ObjLoader"
   ]
  },
  {
   "cell_type": "markdown",
   "metadata": {},
   "source": [
    "Let's test object loader on our `TestClass`:"
   ]
  },
  {
   "cell_type": "code",
   "execution_count": 23,
   "metadata": {
    "execution": {
     "iopub.execute_input": "2023-04-19T16:47:58.909185Z",
     "iopub.status.busy": "2023-04-19T16:47:58.908764Z",
     "iopub.status.idle": "2023-04-19T16:47:58.918879Z",
     "shell.execute_reply": "2023-04-19T16:47:58.918025Z"
    }
   },
   "outputs": [
    {
     "data": {
      "text/plain": [
       "<__main__.TestClass at 0x7f77123687c0>"
      ]
     },
     "execution_count": 23,
     "metadata": {},
     "output_type": "execute_result"
    }
   ],
   "source": [
    "# create type\n",
    "TestClassLoader = ObjLoader[TestClass]\n",
    "\n",
    "obj_loader = TestClassLoader(kwargs={\"x\":1, \"y\":3})\n",
    "loaded = obj_loader.load()\n",
    "loaded"
   ]
  },
  {
   "cell_type": "markdown",
   "metadata": {},
   "source": [
    "Can do this for a generic object like `ThreadPoolExecutor`:"
   ]
  },
  {
   "cell_type": "code",
   "execution_count": 24,
   "metadata": {
    "execution": {
     "iopub.execute_input": "2023-04-19T16:47:58.922583Z",
     "iopub.status.busy": "2023-04-19T16:47:58.921880Z",
     "iopub.status.idle": "2023-04-19T16:47:58.933203Z",
     "shell.execute_reply": "2023-04-19T16:47:58.932549Z"
    }
   },
   "outputs": [],
   "source": [
    "# create Type\n",
    "TPELoader = ObjLoader[ThreadPoolExecutor]\n",
    "\n",
    "tpe_loader = TPELoader(kwargs={\"max_workers\":1})\n",
    "tpe = tpe_loader.load()\n",
    "tpe\n",
    "tpe_loader_json  = tpe_loader.json()\n",
    "tpe_loader_json\n",
    "tpe_loader_from_json = TPELoader.parse_raw(tpe_loader_json)\n",
    "\n",
    "\n",
    "# shutdown tpe\n",
    "tpe.shutdown()\n"
   ]
  },
  {
   "cell_type": "markdown",
   "metadata": {},
   "source": [
    "## Executors\n",
    "The previous classes were an attempt to demonstrate generic utility. The Executors to follow will build off of those common utilities to parameterize generic executors complying with the pep-3148 standard (the callables have been typified in case of deviation). Likewise, the following BaseExecutor outlines common executor fields and methods."
   ]
  },
  {
   "cell_type": "code",
   "execution_count": 25,
   "metadata": {
    "execution": {
     "iopub.execute_input": "2023-04-19T16:47:58.936629Z",
     "iopub.status.busy": "2023-04-19T16:47:58.936258Z",
     "iopub.status.idle": "2023-04-19T16:47:58.940679Z",
     "shell.execute_reply": "2023-04-19T16:47:58.940054Z"
    }
   },
   "outputs": [],
   "source": [
    "from xopt.pydantic import BaseExecutor, NormalExecutor"
   ]
  },
  {
   "cell_type": "markdown",
   "metadata": {},
   "source": [
    "## Normal, ContextExecutor\n",
    "Now, we subclass base to create two executors: `NormalExecutor`, and `ContextExecutor`. In the case that the user would like to create a persistent executor passed to the Evaluator, they would use the NormalExecutor. The ContextExecutor provides a context manager to dynamically create executor instances during execution."
   ]
  },
  {
   "cell_type": "markdown",
   "metadata": {},
   "source": [
    "Create some NormalExecutors: (must manually shutdown)"
   ]
  },
  {
   "cell_type": "code",
   "execution_count": 26,
   "metadata": {
    "execution": {
     "iopub.execute_input": "2023-04-19T16:47:58.944261Z",
     "iopub.status.busy": "2023-04-19T16:47:58.943839Z",
     "iopub.status.idle": "2023-04-19T16:47:58.958396Z",
     "shell.execute_reply": "2023-04-19T16:47:58.957767Z"
    }
   },
   "outputs": [
    {
     "data": {
      "text/plain": [
       "<Future at 0x7f7712308ac0 state=finished returned int>"
      ]
     },
     "execution_count": 26,
     "metadata": {},
     "output_type": "execute_result"
    }
   ],
   "source": [
    "# ThreadPool\n",
    "# create type\n",
    "NormTPExecutor = NormalExecutor[ThreadPoolExecutor]\n",
    "\n",
    "tpe_exec = NormTPExecutor(kwargs={\"max_workers\":1})\n",
    "# submit\n",
    "tpe_exec.submit(fn=test_function, x=1, y=8)"
   ]
  },
  {
   "cell_type": "code",
   "execution_count": 27,
   "metadata": {
    "execution": {
     "iopub.execute_input": "2023-04-19T16:47:58.961643Z",
     "iopub.status.busy": "2023-04-19T16:47:58.961349Z",
     "iopub.status.idle": "2023-04-19T16:47:58.968335Z",
     "shell.execute_reply": "2023-04-19T16:47:58.967680Z"
    }
   },
   "outputs": [
    {
     "data": {
      "text/plain": [
       "<generator object Executor.map.<locals>.result_iterator at 0x7f7712328120>"
      ]
     },
     "execution_count": 27,
     "metadata": {},
     "output_type": "execute_result"
    }
   ],
   "source": [
    "# map\n",
    "tpe_exec.map(test_function, ((1, 4), (3, 4)))"
   ]
  },
  {
   "cell_type": "code",
   "execution_count": 28,
   "metadata": {
    "execution": {
     "iopub.execute_input": "2023-04-19T16:47:58.971385Z",
     "iopub.status.busy": "2023-04-19T16:47:58.971139Z",
     "iopub.status.idle": "2023-04-19T16:47:58.975750Z",
     "shell.execute_reply": "2023-04-19T16:47:58.975092Z"
    }
   },
   "outputs": [],
   "source": [
    "tpe_exec.shutdown()"
   ]
  },
  {
   "cell_type": "code",
   "execution_count": 29,
   "metadata": {
    "execution": {
     "iopub.execute_input": "2023-04-19T16:47:58.978781Z",
     "iopub.status.busy": "2023-04-19T16:47:58.978542Z",
     "iopub.status.idle": "2023-04-19T16:48:00.948347Z",
     "shell.execute_reply": "2023-04-19T16:48:00.944497Z"
    }
   },
   "outputs": [
    {
     "data": {
      "text/plain": [
       "<Future at 0x7f7712338220 state=pending>"
      ]
     },
     "execution_count": 29,
     "metadata": {},
     "output_type": "execute_result"
    }
   ],
   "source": [
    "# Dask\n",
    "from distributed import Client\n",
    "from distributed.cfexecutor import ClientExecutor\n",
    "\n",
    "# Using an existing executor\n",
    "client = Client(silence_logs=logging.ERROR)\n",
    "executor = client.get_executor()\n",
    "\n",
    "# create type\n",
    "NormalDaskExecutor =  NormalExecutor[type(executor)]\n",
    "\n",
    "dask_executor = NormalDaskExecutor(executor=executor)\n",
    "dask_executor.submit(fn=test_function, x=1, y=8)"
   ]
  },
  {
   "cell_type": "code",
   "execution_count": 30,
   "metadata": {
    "execution": {
     "iopub.execute_input": "2023-04-19T16:48:00.954045Z",
     "iopub.status.busy": "2023-04-19T16:48:00.953458Z",
     "iopub.status.idle": "2023-04-19T16:48:00.959088Z",
     "shell.execute_reply": "2023-04-19T16:48:00.958344Z"
    }
   },
   "outputs": [
    {
     "data": {
      "text/plain": [
       "'{\"loader\":{\"object\":null,\"loader\":{\"callable\":\"distributed.cfexecutor.ClientExecutor\",\"signature\":{\"args\":[],\"client\":\"inspect._empty\"}},\"object_type\":\"distributed.cfexecutor.ClientExecutor\"},\"submit_callable\":\"submit\",\"map_callable\":\"map\",\"shutdown_callable\":\"shutdown\",\"executor\":\"distributed.cfexecutor.ClientExecutor\"}'"
      ]
     },
     "execution_count": 30,
     "metadata": {},
     "output_type": "execute_result"
    }
   ],
   "source": [
    "dask_executor_json = dask_executor.json()\n",
    "dask_executor_json"
   ]
  },
  {
   "cell_type": "code",
   "execution_count": 31,
   "metadata": {
    "execution": {
     "iopub.execute_input": "2023-04-19T16:48:00.963314Z",
     "iopub.status.busy": "2023-04-19T16:48:00.962835Z",
     "iopub.status.idle": "2023-04-19T16:48:00.970609Z",
     "shell.execute_reply": "2023-04-19T16:48:00.969909Z"
    }
   },
   "outputs": [],
   "source": [
    "dask_executor.shutdown()"
   ]
  },
  {
   "cell_type": "code",
   "execution_count": 32,
   "metadata": {
    "execution": {
     "iopub.execute_input": "2023-04-19T16:48:00.973983Z",
     "iopub.status.busy": "2023-04-19T16:48:00.973497Z",
     "iopub.status.idle": "2023-04-19T16:48:00.976721Z",
     "shell.execute_reply": "2023-04-19T16:48:00.976108Z"
    }
   },
   "outputs": [],
   "source": [
    "# this raises error because client not passed...\n",
    "# dask_executor_from_json = NormalDaskExecutor.parse_raw(dask_executor_json)"
   ]
  },
  {
   "cell_type": "markdown",
   "metadata": {},
   "source": [
    "Context managers handle shutdown for us:"
   ]
  },
  {
   "cell_type": "code",
   "execution_count": 33,
   "metadata": {
    "execution": {
     "iopub.execute_input": "2023-04-19T16:48:00.979982Z",
     "iopub.status.busy": "2023-04-19T16:48:00.979507Z",
     "iopub.status.idle": "2023-04-19T16:48:00.992517Z",
     "shell.execute_reply": "2023-04-19T16:48:00.991777Z"
    }
   },
   "outputs": [],
   "source": [
    "# ContexExecutor with context handling on submission and no executor persistence\n",
    "class ContextExecutor(\n",
    "    BaseExecutor[ObjType],\n",
    "    Generic[ObjType],\n",
    "    arbitrary_types_allowed=True,\n",
    "    json_encoders=JSON_ENCODERS,\n",
    "):\n",
    "    @contextlib.contextmanager\n",
    "    def context(self):\n",
    "\n",
    "        try:\n",
    "            self.executor = self.loader.load()\n",
    "            yield self.executor\n",
    "\n",
    "        finally:\n",
    "            self.shutdown()\n",
    "            self.executor = None\n",
    "\n",
    "    def submit(self, fn, **kwargs) -> Future:\n",
    "        with self.context() as ctxt:\n",
    "            submit_fn = getattr(ctxt, self.submit_callable)\n",
    "            return submit_fn(fn, **kwargs)\n",
    "        \n",
    "    def map(self, fn, iter: Iterable) -> Iterable[Future]:\n",
    "        with self.context() as ctxt:\n",
    "            map_fn = getattr(ctxt, self.map_callable)\n",
    "            return map_fn(fn, iter)\n"
   ]
  },
  {
   "cell_type": "markdown",
   "metadata": {},
   "source": [
    "Create some ContextExecutors"
   ]
  },
  {
   "cell_type": "code",
   "execution_count": 34,
   "metadata": {
    "execution": {
     "iopub.execute_input": "2023-04-19T16:48:00.996380Z",
     "iopub.status.busy": "2023-04-19T16:48:00.995864Z",
     "iopub.status.idle": "2023-04-19T16:48:01.012204Z",
     "shell.execute_reply": "2023-04-19T16:48:01.011531Z"
    }
   },
   "outputs": [
    {
     "data": {
      "text/plain": [
       "<Future at 0x7f7708aaa250 state=finished returned int>"
      ]
     },
     "execution_count": 34,
     "metadata": {},
     "output_type": "execute_result"
    }
   ],
   "source": [
    "# ThreadPoolExecutor\n",
    "# create type\n",
    "\n",
    "ContextTPExecutor = ContextExecutor[ThreadPoolExecutor]\n",
    "\n",
    "context_exec = ContextTPExecutor(kwargs={\"max_workers\":1})\n",
    "context_exec.submit(fn=test_function, x=1, y=8)"
   ]
  },
  {
   "cell_type": "code",
   "execution_count": 35,
   "metadata": {
    "execution": {
     "iopub.execute_input": "2023-04-19T16:48:01.016018Z",
     "iopub.status.busy": "2023-04-19T16:48:01.015434Z",
     "iopub.status.idle": "2023-04-19T16:48:01.022331Z",
     "shell.execute_reply": "2023-04-19T16:48:01.021632Z"
    }
   },
   "outputs": [
    {
     "data": {
      "text/plain": [
       "<generator object Executor.map.<locals>.result_iterator at 0x7f7708ac7f20>"
      ]
     },
     "execution_count": 35,
     "metadata": {},
     "output_type": "execute_result"
    }
   ],
   "source": [
    "context_exec.map(test_function, ((1, 4), (3, 4)))"
   ]
  },
  {
   "cell_type": "code",
   "execution_count": 36,
   "metadata": {
    "execution": {
     "iopub.execute_input": "2023-04-19T16:48:01.026436Z",
     "iopub.status.busy": "2023-04-19T16:48:01.026004Z",
     "iopub.status.idle": "2023-04-19T16:48:01.031028Z",
     "shell.execute_reply": "2023-04-19T16:48:01.030163Z"
    }
   },
   "outputs": [
    {
     "data": {
      "text/plain": [
       "'{\"loader\":{\"object\":null,\"loader\":{\"callable\":\"concurrent.futures.thread.ThreadPoolExecutor\",\"signature\":{\"args\":[],\"initializer\":null,\"initargs\":null,\"max_workers\":1,\"thread_name_prefix\":\"\"}},\"object_type\":\"concurrent.futures.thread.ThreadPoolExecutor\"},\"submit_callable\":\"submit\",\"map_callable\":\"map\",\"shutdown_callable\":\"shutdown\",\"executor\":null}'"
      ]
     },
     "execution_count": 36,
     "metadata": {},
     "output_type": "execute_result"
    }
   ],
   "source": [
    "context_exec_json = context_exec.json()\n",
    "context_exec_json"
   ]
  },
  {
   "cell_type": "code",
   "execution_count": 37,
   "metadata": {
    "execution": {
     "iopub.execute_input": "2023-04-19T16:48:01.034665Z",
     "iopub.status.busy": "2023-04-19T16:48:01.034409Z",
     "iopub.status.idle": "2023-04-19T16:48:01.044369Z",
     "shell.execute_reply": "2023-04-19T16:48:01.043652Z"
    }
   },
   "outputs": [
    {
     "data": {
      "text/plain": [
       "<Future at 0x7f7708ab10d0 state=finished returned int>"
      ]
     },
     "execution_count": 37,
     "metadata": {},
     "output_type": "execute_result"
    }
   ],
   "source": [
    "context_exec_from_json = ContextTPExecutor.parse_raw(\n",
    "        context_exec_json\n",
    "    )\n",
    "context_exec_from_json.submit(fn=test_function, x=1, y=8)"
   ]
  },
  {
   "cell_type": "code",
   "execution_count": 38,
   "metadata": {
    "execution": {
     "iopub.execute_input": "2023-04-19T16:48:01.047958Z",
     "iopub.status.busy": "2023-04-19T16:48:01.047468Z",
     "iopub.status.idle": "2023-04-19T16:48:01.054568Z",
     "shell.execute_reply": "2023-04-19T16:48:01.053808Z"
    }
   },
   "outputs": [
    {
     "data": {
      "text/plain": [
       "<generator object Executor.map.<locals>.result_iterator at 0x7f7708a989e0>"
      ]
     },
     "execution_count": 38,
     "metadata": {},
     "output_type": "execute_result"
    }
   ],
   "source": [
    "context_exec_from_json.map(test_function, ((1, 4), (3, 4)))"
   ]
  },
  {
   "cell_type": "markdown",
   "metadata": {},
   "source": [
    "Some executors are generated with Clients that manage sessions:\n",
    "** will require gathering results before shutdown..."
   ]
  },
  {
   "cell_type": "code",
   "execution_count": 39,
   "metadata": {
    "execution": {
     "iopub.execute_input": "2023-04-19T16:48:01.058287Z",
     "iopub.status.busy": "2023-04-19T16:48:01.057809Z",
     "iopub.status.idle": "2023-04-19T16:48:01.066664Z",
     "shell.execute_reply": "2023-04-19T16:48:01.065632Z"
    }
   },
   "outputs": [
    {
     "name": "stdout",
     "output_type": "stream",
     "text": [
      "callable: __main__.evaluate\n",
      "signature:\n",
      "  args: []\n",
      "  inputs: inspect._empty\n",
      "  y: 100\n",
      "\n"
     ]
    }
   ],
   "source": [
    "import yaml\n",
    "\n",
    "def evaluate(inputs, y=5, z=None):\n",
    "    return {'result': inputs['x'] + y }\n",
    "\n",
    "fn = CallableModel(callable=evaluate, kwargs={\"y\":100})\n",
    "fn_json = fn.json(exclude_none=True)\n",
    "\n",
    "\n",
    "print(yaml.dump(yaml.safe_load(fn_json)))"
   ]
  },
  {
   "cell_type": "code",
   "execution_count": 40,
   "metadata": {
    "execution": {
     "iopub.execute_input": "2023-04-19T16:48:01.070678Z",
     "iopub.status.busy": "2023-04-19T16:48:01.070044Z",
     "iopub.status.idle": "2023-04-19T16:48:01.078085Z",
     "shell.execute_reply": "2023-04-19T16:48:01.077313Z"
    }
   },
   "outputs": [
    {
     "data": {
      "text/plain": [
       "CallableModel(callable=<function evaluate at 0x7f7708abeca0>, signature=Kwargs_evaluate(args=[], z=None, kwarg_order=['inputs', 'y', 'z'], inputs='inspect._empty', y=100))"
      ]
     },
     "execution_count": 40,
     "metadata": {},
     "output_type": "execute_result"
    }
   ],
   "source": [
    "fn_from_json = CallableModel.parse_raw(fn_json)\n",
    "fn_from_json"
   ]
  },
  {
   "cell_type": "code",
   "execution_count": 41,
   "metadata": {
    "execution": {
     "iopub.execute_input": "2023-04-19T16:48:01.081759Z",
     "iopub.status.busy": "2023-04-19T16:48:01.081276Z",
     "iopub.status.idle": "2023-04-19T16:48:01.087217Z",
     "shell.execute_reply": "2023-04-19T16:48:01.086405Z"
    }
   },
   "outputs": [
    {
     "data": {
      "text/plain": [
       "{'result': 105}"
      ]
     },
     "execution_count": 41,
     "metadata": {},
     "output_type": "execute_result"
    }
   ],
   "source": [
    "fn_from_json({\"x\":5}, z=2)"
   ]
  }
 ],
 "metadata": {
  "interpreter": {
   "hash": "72034539424920dfb606fe3b820b3f27dca0cbf1c69938110810ec4641e275b1"
  },
  "kernelspec": {
   "display_name": "Python 3 (ipykernel)",
   "language": "python",
   "name": "python3"
  },
  "language_info": {
   "codemirror_mode": {
    "name": "ipython",
    "version": 3
   },
   "file_extension": ".py",
   "mimetype": "text/x-python",
   "name": "python",
   "nbconvert_exporter": "python",
   "pygments_lexer": "ipython3",
   "version": "3.9.16"
  }
 },
 "nbformat": 4,
 "nbformat_minor": 2
}
