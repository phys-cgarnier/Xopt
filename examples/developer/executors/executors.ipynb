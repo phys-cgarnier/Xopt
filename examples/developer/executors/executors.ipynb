{
 "cells": [
  {
   "cell_type": "markdown",
   "metadata": {},
   "source": [
    "# Pydantic-based executors\n",
    "The [PEP-3184](https://peps.python.org/pep-3148/) executor standard allows us to create an interface for executor objects and provide intelligent context for their execution. Pydantic validators allow the dynamic validation of executor initialization and execution based on signature inspection.\n",
    "\n",
    "Before you start, make sure you're using Pydantic >= 1.9.0. 1.8 has all sorts of bugs with json encoder propagation. "
   ]
  },
  {
   "cell_type": "code",
   "execution_count": 1,
   "metadata": {
    "execution": {
     "iopub.execute_input": "2022-08-05T17:52:41.622725Z",
     "iopub.status.busy": "2022-08-05T17:52:41.622465Z",
     "iopub.status.idle": "2022-08-05T17:52:42.725788Z",
     "shell.execute_reply": "2022-08-05T17:52:42.725197Z"
    }
   },
   "outputs": [],
   "source": [
    "# imports\n",
    "import contextlib\n",
    "import copy\n",
    "import json\n",
    "import pickle\n",
    "import inspect\n",
    "import logging\n",
    "from concurrent.futures import Future, ThreadPoolExecutor\n",
    "from typing import Any, Callable, Dict, Generic, Iterable, Optional, TypeVar, Tuple\n",
    "from types import FunctionType, MethodType\n",
    "from pydantic import BaseModel, Field, root_validator, validate_arguments, validator, ValidationError, Extra\n",
    "from pydantic.generics import GenericModel\n",
    "\n",
    "\n",
    "\n",
    "from xopt.pydantic import validate_and_compose_signature\n",
    "\n",
    "\n",
    "logger = logging.getLogger(\"__name__\")\n",
    "\n",
    "# Print code\n",
    "from IPython.display import display, Markdown\n",
    "def sdisplay(obj):\n",
    "    spec = inspect.getsource(obj)\n",
    "    display(Markdown(f\"```python \\n {spec} \\n ```\"))\n"
   ]
  },
  {
   "cell_type": "markdown",
   "metadata": {},
   "source": [
    "## GENERICS\n",
    "\n",
    "Because the executor classes take many forms, we'll be making use of Pydantic's generic class composition for executor type interpolation. We are able to do this by creating a placeholder TypeVar. Here, this is names ObjType, because the executor classes make use of a generalizable loading approach that could be extented to objects generally."
   ]
  },
  {
   "cell_type": "code",
   "execution_count": 2,
   "metadata": {
    "execution": {
     "iopub.execute_input": "2022-08-05T17:52:42.729317Z",
     "iopub.status.busy": "2022-08-05T17:52:42.729040Z",
     "iopub.status.idle": "2022-08-05T17:52:42.733152Z",
     "shell.execute_reply": "2022-08-05T17:52:42.732638Z"
    }
   },
   "outputs": [],
   "source": [
    "ObjType = TypeVar(\"ObjType\")"
   ]
  },
  {
   "cell_type": "markdown",
   "metadata": {},
   "source": [
    "## JSON Encoders\n",
    "\n",
    "Pydantic does not propogate JSON encoders to child classes, so we'll define a set of common encoders:"
   ]
  },
  {
   "cell_type": "code",
   "execution_count": 3,
   "metadata": {
    "execution": {
     "iopub.execute_input": "2022-08-05T17:52:42.736011Z",
     "iopub.status.busy": "2022-08-05T17:52:42.735603Z",
     "iopub.status.idle": "2022-08-05T17:52:42.739289Z",
     "shell.execute_reply": "2022-08-05T17:52:42.738732Z"
    }
   },
   "outputs": [],
   "source": [
    "JSON_ENCODERS = {\n",
    "    # function/method type distinguished for class members and not recognized as callables\n",
    "    FunctionType: lambda x: f\"{x.__module__}.{x.__qualname__}\",\n",
    "    MethodType: lambda x: f\"{x.__module__}.{x.__qualname__}\",\n",
    "    Callable: lambda x: f\"{x.__module__}.{type(x).__qualname__}\",\n",
    "    type: lambda x: f\"{x.__module__}.{x.__name__}\",\n",
    "    # for encoding instances of the ObjType}\n",
    "    ObjType: lambda x: f\"{x.__module__}.{x.__class__.__qualname__}\",\n",
    "}"
   ]
  },
  {
   "cell_type": "markdown",
   "metadata": {},
   "source": [
    "## Utility functions for validating signatures and getting callables from strings\n",
    "\n",
    "Central to generalizablity between executors is the ability to validate signatures args/kwargs against the executor class. "
   ]
  },
  {
   "cell_type": "code",
   "execution_count": 4,
   "metadata": {
    "execution": {
     "iopub.execute_input": "2022-08-05T17:52:42.742165Z",
     "iopub.status.busy": "2022-08-05T17:52:42.741851Z",
     "iopub.status.idle": "2022-08-05T17:52:42.744583Z",
     "shell.execute_reply": "2022-08-05T17:52:42.744058Z"
    }
   },
   "outputs": [],
   "source": [
    "from xopt.pydantic import get_callable_from_string\n",
    "\n",
    "#sdisplay(get_callable_from_string)"
   ]
  },
  {
   "cell_type": "code",
   "execution_count": 5,
   "metadata": {
    "execution": {
     "iopub.execute_input": "2022-08-05T17:52:42.747112Z",
     "iopub.status.busy": "2022-08-05T17:52:42.746915Z",
     "iopub.status.idle": "2022-08-05T17:52:42.756009Z",
     "shell.execute_reply": "2022-08-05T17:52:42.755453Z"
    }
   },
   "outputs": [
    {
     "data": {
      "text/plain": [
       "Kwargs_test_fn(args=[], m=<class 'inspect._empty'>, kwarg_order=['x', 'y', 'm'], x=2, y=5)"
      ]
     },
     "execution_count": 5,
     "metadata": {},
     "output_type": "execute_result"
    }
   ],
   "source": [
    "def test_fn(x, y=4, *args, m, **kwargs):\n",
    "    return x\n",
    "\n",
    "validate_and_compose_signature(test_fn, y=5, x=2, hi=4)"
   ]
  },
  {
   "cell_type": "markdown",
   "metadata": {},
   "source": [
    "## Representing callables as Pydantic models\n",
    "Representing callables as pydantic models allows us to take advantage of both pydantic serialization to json and pydantic's validation hooks for the kwarg validation upon creation, with possibility of delaying load. Here `CallableModel`, we can provide initialization kwargs for a to-be-instantiated-later object and reap the benefit of additional kwarg validation. "
   ]
  },
  {
   "cell_type": "code",
   "execution_count": 6,
   "metadata": {
    "execution": {
     "iopub.execute_input": "2022-08-05T17:52:42.794637Z",
     "iopub.status.busy": "2022-08-05T17:52:42.794025Z",
     "iopub.status.idle": "2022-08-05T17:52:42.797244Z",
     "shell.execute_reply": "2022-08-05T17:52:42.796651Z"
    }
   },
   "outputs": [],
   "source": [
    "from xopt.pydantic import CallableModel"
   ]
  },
  {
   "cell_type": "markdown",
   "metadata": {},
   "source": [
    "Let's test the callables on example function and class:"
   ]
  },
  {
   "cell_type": "code",
   "execution_count": 7,
   "metadata": {
    "execution": {
     "iopub.execute_input": "2022-08-05T17:52:42.799782Z",
     "iopub.status.busy": "2022-08-05T17:52:42.799584Z",
     "iopub.status.idle": "2022-08-05T17:52:42.802935Z",
     "shell.execute_reply": "2022-08-05T17:52:42.802355Z"
    }
   },
   "outputs": [],
   "source": [
    "def test_function(x: int, y: int = 5):\n",
    "    return x + y\n",
    "\n",
    "\n",
    "class TestClass:\n",
    "    def __init__(self, x, y):\n",
    "        self.x = x\n",
    "        self.y = y"
   ]
  },
  {
   "cell_type": "code",
   "execution_count": 8,
   "metadata": {
    "execution": {
     "iopub.execute_input": "2022-08-05T17:52:42.805367Z",
     "iopub.status.busy": "2022-08-05T17:52:42.805164Z",
     "iopub.status.idle": "2022-08-05T17:52:42.809835Z",
     "shell.execute_reply": "2022-08-05T17:52:42.809397Z"
    }
   },
   "outputs": [
    {
     "data": {
      "text/plain": [
       "Kwargs_test_function(args=[], kwarg_order=['x', 'y'], x=1, y=3)"
      ]
     },
     "execution_count": 8,
     "metadata": {},
     "output_type": "execute_result"
    }
   ],
   "source": [
    "fn = CallableModel(callable=test_function, kwargs={\"x\":1, \"y\":3})\n",
    "\n",
    "fn.signature"
   ]
  },
  {
   "cell_type": "code",
   "execution_count": 9,
   "metadata": {
    "execution": {
     "iopub.execute_input": "2022-08-05T17:52:42.812246Z",
     "iopub.status.busy": "2022-08-05T17:52:42.812049Z",
     "iopub.status.idle": "2022-08-05T17:52:42.816678Z",
     "shell.execute_reply": "2022-08-05T17:52:42.816259Z"
    }
   },
   "outputs": [
    {
     "data": {
      "text/plain": [
       "Kwargs_test_function(args=[], kwarg_order=['x', 'y'], x=1, y=3)"
      ]
     },
     "execution_count": 9,
     "metadata": {},
     "output_type": "execute_result"
    }
   ],
   "source": [
    "fn = CallableModel(callable=test_function, args=(1,3,))\n",
    "\n",
    "fn.signature"
   ]
  },
  {
   "cell_type": "code",
   "execution_count": 10,
   "metadata": {
    "execution": {
     "iopub.execute_input": "2022-08-05T17:52:42.819115Z",
     "iopub.status.busy": "2022-08-05T17:52:42.818922Z",
     "iopub.status.idle": "2022-08-05T17:52:42.823415Z",
     "shell.execute_reply": "2022-08-05T17:52:42.822996Z"
    }
   },
   "outputs": [
    {
     "data": {
      "text/plain": [
       "Kwargs_test_function(args=[], kwarg_order=['x', 'y'], x=1, y=3)"
      ]
     },
     "execution_count": 10,
     "metadata": {},
     "output_type": "execute_result"
    }
   ],
   "source": [
    "fn = CallableModel(callable=test_function, args=(1,), kwargs={\"y\":3})\n",
    "\n",
    "fn.signature"
   ]
  },
  {
   "cell_type": "markdown",
   "metadata": {},
   "source": [
    "Schema shows us the generated model:"
   ]
  },
  {
   "cell_type": "code",
   "execution_count": 11,
   "metadata": {
    "execution": {
     "iopub.execute_input": "2022-08-05T17:52:42.825923Z",
     "iopub.status.busy": "2022-08-05T17:52:42.825727Z",
     "iopub.status.idle": "2022-08-05T17:52:42.831451Z",
     "shell.execute_reply": "2022-08-05T17:52:42.831027Z"
    }
   },
   "outputs": [
    {
     "data": {
      "text/plain": [
       "{'title': 'Kwargs_test_function',\n",
       " 'type': 'object',\n",
       " 'properties': {'args': {'title': 'Args',\n",
       "   'default': [],\n",
       "   'type': 'array',\n",
       "   'items': {}},\n",
       "  'kwarg_order': {'title': 'Kwarg Order',\n",
       "   'default': ['x', 'y'],\n",
       "   'type': 'array',\n",
       "   'items': {}},\n",
       "  'x': {'title': 'X', 'default': 1, 'type': 'integer'},\n",
       "  'y': {'title': 'Y', 'default': 3, 'type': 'integer'}}}"
      ]
     },
     "execution_count": 11,
     "metadata": {},
     "output_type": "execute_result"
    }
   ],
   "source": [
    "fn.signature.schema()"
   ]
  },
  {
   "cell_type": "code",
   "execution_count": 12,
   "metadata": {
    "execution": {
     "iopub.execute_input": "2022-08-05T17:52:42.833789Z",
     "iopub.status.busy": "2022-08-05T17:52:42.833593Z",
     "iopub.status.idle": "2022-08-05T17:52:42.837255Z",
     "shell.execute_reply": "2022-08-05T17:52:42.836823Z"
    }
   },
   "outputs": [
    {
     "data": {
      "text/plain": [
       "{'callable': <function __main__.test_function(x: int, y: int = 5)>,\n",
       " 'signature': {'args': [], 'x': 1, 'y': 3}}"
      ]
     },
     "execution_count": 12,
     "metadata": {},
     "output_type": "execute_result"
    }
   ],
   "source": [
    "# dict rep\n",
    "fn_dict = fn.dict()\n",
    "fn_dict"
   ]
  },
  {
   "cell_type": "code",
   "execution_count": 13,
   "metadata": {
    "execution": {
     "iopub.execute_input": "2022-08-05T17:52:42.839712Z",
     "iopub.status.busy": "2022-08-05T17:52:42.839515Z",
     "iopub.status.idle": "2022-08-05T17:52:42.844215Z",
     "shell.execute_reply": "2022-08-05T17:52:42.843768Z"
    }
   },
   "outputs": [
    {
     "data": {
      "text/plain": [
       "4"
      ]
     },
     "execution_count": 13,
     "metadata": {},
     "output_type": "execute_result"
    }
   ],
   "source": [
    "# load from dict\n",
    "fn_from_dict = CallableModel(**fn.dict()) \n",
    "fn_from_dict()"
   ]
  },
  {
   "cell_type": "code",
   "execution_count": 14,
   "metadata": {
    "execution": {
     "iopub.execute_input": "2022-08-05T17:52:42.846502Z",
     "iopub.status.busy": "2022-08-05T17:52:42.846304Z",
     "iopub.status.idle": "2022-08-05T17:52:42.849890Z",
     "shell.execute_reply": "2022-08-05T17:52:42.849366Z"
    }
   },
   "outputs": [
    {
     "data": {
      "text/plain": [
       "'{\"callable\": \"__main__.test_function\", \"signature\": {\"args\": [], \"x\": 1, \"y\": 3}}'"
      ]
     },
     "execution_count": 14,
     "metadata": {},
     "output_type": "execute_result"
    }
   ],
   "source": [
    "# json representation\n",
    "fn.json() "
   ]
  },
  {
   "cell_type": "code",
   "execution_count": 15,
   "metadata": {
    "execution": {
     "iopub.execute_input": "2022-08-05T17:52:42.852984Z",
     "iopub.status.busy": "2022-08-05T17:52:42.852786Z",
     "iopub.status.idle": "2022-08-05T17:52:42.857401Z",
     "shell.execute_reply": "2022-08-05T17:52:42.856862Z"
    }
   },
   "outputs": [
    {
     "data": {
      "text/plain": [
       "4"
      ]
     },
     "execution_count": 15,
     "metadata": {},
     "output_type": "execute_result"
    }
   ],
   "source": [
    "# callable from json\n",
    "fn_from_json = CallableModel.parse_raw(fn.json())\n",
    "fn_from_json()"
   ]
  },
  {
   "cell_type": "markdown",
   "metadata": {},
   "source": [
    "# With Classes"
   ]
  },
  {
   "cell_type": "code",
   "execution_count": 16,
   "metadata": {
    "execution": {
     "iopub.execute_input": "2022-08-05T17:52:42.860554Z",
     "iopub.status.busy": "2022-08-05T17:52:42.860360Z",
     "iopub.status.idle": "2022-08-05T17:52:42.864224Z",
     "shell.execute_reply": "2022-08-05T17:52:42.863649Z"
    }
   },
   "outputs": [],
   "source": [
    "# Class kwargs passed after\n",
    "parameterized_class = CallableModel(callable=TestClass, kwargs={\"x\":1, \"y\":3})\n",
    "test_class_obj = parameterized_class()\n",
    "assert isinstance(test_class_obj, (TestClass,))"
   ]
  },
  {
   "cell_type": "code",
   "execution_count": 17,
   "metadata": {
    "execution": {
     "iopub.execute_input": "2022-08-05T17:52:42.866846Z",
     "iopub.status.busy": "2022-08-05T17:52:42.866648Z",
     "iopub.status.idle": "2022-08-05T17:52:42.870548Z",
     "shell.execute_reply": "2022-08-05T17:52:42.869997Z"
    }
   },
   "outputs": [
    {
     "data": {
      "text/plain": [
       "{'callable': __main__.TestClass, 'signature': {'args': [], 'x': 1, 'y': 3}}"
      ]
     },
     "execution_count": 17,
     "metadata": {},
     "output_type": "execute_result"
    }
   ],
   "source": [
    "# dict rep\n",
    "parameterized_class_dict = parameterized_class.dict()\n",
    "parameterized_class_dict"
   ]
  },
  {
   "cell_type": "code",
   "execution_count": 18,
   "metadata": {
    "execution": {
     "iopub.execute_input": "2022-08-05T17:52:42.874162Z",
     "iopub.status.busy": "2022-08-05T17:52:42.873957Z",
     "iopub.status.idle": "2022-08-05T17:52:42.878490Z",
     "shell.execute_reply": "2022-08-05T17:52:42.877944Z"
    }
   },
   "outputs": [
    {
     "data": {
      "text/plain": [
       "CallableModel(callable=<class '__main__.TestClass'>, signature=Kwargs_TestClass(args=[], kwarg_order=['x', 'y'], x=1, y=3))"
      ]
     },
     "execution_count": 18,
     "metadata": {},
     "output_type": "execute_result"
    }
   ],
   "source": [
    "# from dict\n",
    "parameterized_class_from_dict = CallableModel(**parameterized_class_dict)\n",
    "parameterized_class_from_dict"
   ]
  },
  {
   "cell_type": "code",
   "execution_count": 19,
   "metadata": {
    "execution": {
     "iopub.execute_input": "2022-08-05T17:52:42.881569Z",
     "iopub.status.busy": "2022-08-05T17:52:42.881369Z",
     "iopub.status.idle": "2022-08-05T17:52:42.884243Z",
     "shell.execute_reply": "2022-08-05T17:52:42.883685Z"
    }
   },
   "outputs": [],
   "source": [
    "parameterized_class_from_dict_obj = parameterized_class_from_dict()\n",
    "assert isinstance(parameterized_class_from_dict_obj, (TestClass,))"
   ]
  },
  {
   "cell_type": "code",
   "execution_count": 20,
   "metadata": {
    "execution": {
     "iopub.execute_input": "2022-08-05T17:52:42.886823Z",
     "iopub.status.busy": "2022-08-05T17:52:42.886629Z",
     "iopub.status.idle": "2022-08-05T17:52:42.890320Z",
     "shell.execute_reply": "2022-08-05T17:52:42.889766Z"
    }
   },
   "outputs": [
    {
     "data": {
      "text/plain": [
       "'{\"callable\": \"__main__.TestClass\", \"signature\": {\"args\": [], \"x\": 1, \"y\": 3}}'"
      ]
     },
     "execution_count": 20,
     "metadata": {},
     "output_type": "execute_result"
    }
   ],
   "source": [
    "#json \n",
    "parameterized_class_json = parameterized_class.json()\n",
    "parameterized_class_json"
   ]
  },
  {
   "cell_type": "code",
   "execution_count": 21,
   "metadata": {
    "execution": {
     "iopub.execute_input": "2022-08-05T17:52:42.893379Z",
     "iopub.status.busy": "2022-08-05T17:52:42.893172Z",
     "iopub.status.idle": "2022-08-05T17:52:42.897025Z",
     "shell.execute_reply": "2022-08-05T17:52:42.896453Z"
    }
   },
   "outputs": [],
   "source": [
    "parameterized_class_from_json = CallableModel.parse_raw(parameterized_class_json)\n",
    "test_class_obj = parameterized_class_from_json()\n",
    "assert isinstance(test_class_obj, (TestClass,))"
   ]
  },
  {
   "cell_type": "markdown",
   "metadata": {},
   "source": [
    "We can use the callables to construct a dynamic object loader. The generic type allows us to use this same method for any executor. The syntax: `ObjLoader[ThreadPoolExecutor]` composes a new class entirely, this one specific to the `ThreadPoolExecutor`. "
   ]
  },
  {
   "cell_type": "code",
   "execution_count": 22,
   "metadata": {
    "execution": {
     "iopub.execute_input": "2022-08-05T17:52:42.899642Z",
     "iopub.status.busy": "2022-08-05T17:52:42.899443Z",
     "iopub.status.idle": "2022-08-05T17:52:42.902099Z",
     "shell.execute_reply": "2022-08-05T17:52:42.901524Z"
    }
   },
   "outputs": [],
   "source": [
    "from xopt.pydantic import ObjLoader"
   ]
  },
  {
   "cell_type": "markdown",
   "metadata": {},
   "source": [
    "Let's test object loader on our `TestClass`:"
   ]
  },
  {
   "cell_type": "code",
   "execution_count": 23,
   "metadata": {
    "execution": {
     "iopub.execute_input": "2022-08-05T17:52:42.904648Z",
     "iopub.status.busy": "2022-08-05T17:52:42.904450Z",
     "iopub.status.idle": "2022-08-05T17:52:42.910662Z",
     "shell.execute_reply": "2022-08-05T17:52:42.910071Z"
    }
   },
   "outputs": [
    {
     "data": {
      "text/plain": [
       "<__main__.TestClass at 0x7f04bcf6ec40>"
      ]
     },
     "execution_count": 23,
     "metadata": {},
     "output_type": "execute_result"
    }
   ],
   "source": [
    "# create type\n",
    "TestClassLoader = ObjLoader[TestClass]\n",
    "\n",
    "obj_loader = TestClassLoader(kwargs={\"x\":1, \"y\":3})\n",
    "loaded = obj_loader.load()\n",
    "loaded"
   ]
  },
  {
   "cell_type": "markdown",
   "metadata": {},
   "source": [
    "Can do this for a generic object like `ThreadPoolExecutor`:"
   ]
  },
  {
   "cell_type": "code",
   "execution_count": 24,
   "metadata": {
    "execution": {
     "iopub.execute_input": "2022-08-05T17:52:42.913785Z",
     "iopub.status.busy": "2022-08-05T17:52:42.913590Z",
     "iopub.status.idle": "2022-08-05T17:52:42.921270Z",
     "shell.execute_reply": "2022-08-05T17:52:42.920712Z"
    }
   },
   "outputs": [],
   "source": [
    "# create Type\n",
    "TPELoader = ObjLoader[ThreadPoolExecutor]\n",
    "\n",
    "tpe_loader = TPELoader(kwargs={\"max_workers\":1})\n",
    "tpe = tpe_loader.load()\n",
    "tpe\n",
    "tpe_loader_json  = tpe_loader.json()\n",
    "tpe_loader_json\n",
    "tpe_loader_from_json = TPELoader.parse_raw(tpe_loader_json)\n",
    "\n",
    "\n",
    "# shutdown tpe\n",
    "tpe.shutdown()\n"
   ]
  },
  {
   "cell_type": "markdown",
   "metadata": {},
   "source": [
    "## Executors\n",
    "The previous classes were an attempt to demonstrate generic utility. The Executors to follow will build off of those common utilities to parameterize generic executors complying with the pep-3148 standard (the callables have been typified in case of deviation). Likewise, the following BaseExecutor outlines common executor fields and methods."
   ]
  },
  {
   "cell_type": "code",
   "execution_count": 25,
   "metadata": {
    "execution": {
     "iopub.execute_input": "2022-08-05T17:52:42.923792Z",
     "iopub.status.busy": "2022-08-05T17:52:42.923586Z",
     "iopub.status.idle": "2022-08-05T17:52:42.926283Z",
     "shell.execute_reply": "2022-08-05T17:52:42.925726Z"
    }
   },
   "outputs": [],
   "source": [
    "from xopt.pydantic import BaseExecutor, NormalExecutor"
   ]
  },
  {
   "cell_type": "markdown",
   "metadata": {},
   "source": [
    "## Normal, ContextExecutor\n",
    "Now, we subclass base to create two executors: `NormalExecutor`, and `ContextExecutor`. In the case that the user would like to create a persistent executor passed to the Evaluator, they would use the NormalExecutor. The ContextExecutor provides a context manager to dynamically create executor instances during execution."
   ]
  },
  {
   "cell_type": "markdown",
   "metadata": {},
   "source": [
    "Create some NormalExecutors: (must manually shutdown)"
   ]
  },
  {
   "cell_type": "code",
   "execution_count": 26,
   "metadata": {
    "execution": {
     "iopub.execute_input": "2022-08-05T17:52:42.929055Z",
     "iopub.status.busy": "2022-08-05T17:52:42.928857Z",
     "iopub.status.idle": "2022-08-05T17:52:42.939402Z",
     "shell.execute_reply": "2022-08-05T17:52:42.938817Z"
    }
   },
   "outputs": [
    {
     "data": {
      "text/plain": [
       "<Future at 0x7f04b4edb9a0 state=finished returned int>"
      ]
     },
     "execution_count": 26,
     "metadata": {},
     "output_type": "execute_result"
    }
   ],
   "source": [
    "# ThreadPool\n",
    "# create type\n",
    "NormTPExecutor = NormalExecutor[ThreadPoolExecutor]\n",
    "\n",
    "tpe_exec = NormTPExecutor(kwargs={\"max_workers\":1})\n",
    "# submit\n",
    "tpe_exec.submit(fn=test_function, x=1, y=8)"
   ]
  },
  {
   "cell_type": "code",
   "execution_count": 27,
   "metadata": {
    "execution": {
     "iopub.execute_input": "2022-08-05T17:52:42.941763Z",
     "iopub.status.busy": "2022-08-05T17:52:42.941563Z",
     "iopub.status.idle": "2022-08-05T17:52:42.945163Z",
     "shell.execute_reply": "2022-08-05T17:52:42.944745Z"
    }
   },
   "outputs": [
    {
     "data": {
      "text/plain": [
       "<generator object Executor.map.<locals>.result_iterator at 0x7f04b4ed59e0>"
      ]
     },
     "execution_count": 27,
     "metadata": {},
     "output_type": "execute_result"
    }
   ],
   "source": [
    "# map\n",
    "tpe_exec.map(test_function, ((1, 4), (3, 4)))"
   ]
  },
  {
   "cell_type": "code",
   "execution_count": 28,
   "metadata": {
    "execution": {
     "iopub.execute_input": "2022-08-05T17:52:42.947565Z",
     "iopub.status.busy": "2022-08-05T17:52:42.947364Z",
     "iopub.status.idle": "2022-08-05T17:52:42.949979Z",
     "shell.execute_reply": "2022-08-05T17:52:42.949410Z"
    }
   },
   "outputs": [],
   "source": [
    "tpe_exec.shutdown()"
   ]
  },
  {
   "cell_type": "code",
   "execution_count": 29,
   "metadata": {
    "execution": {
     "iopub.execute_input": "2022-08-05T17:52:42.952460Z",
     "iopub.status.busy": "2022-08-05T17:52:42.952254Z",
     "iopub.status.idle": "2022-08-05T17:52:44.646740Z",
     "shell.execute_reply": "2022-08-05T17:52:44.646195Z"
    }
   },
   "outputs": [
    {
     "data": {
      "text/plain": [
       "<Future at 0x7f0468ab87c0 state=pending>"
      ]
     },
     "execution_count": 29,
     "metadata": {},
     "output_type": "execute_result"
    }
   ],
   "source": [
    "# Dask\n",
    "from distributed import Client\n",
    "from distributed.cfexecutor import ClientExecutor\n",
    "\n",
    "# Using an existing executor\n",
    "client = Client(silence_logs=logging.ERROR)\n",
    "executor = client.get_executor()\n",
    "\n",
    "# create type\n",
    "NormalDaskExecutor =  NormalExecutor[type(executor)]\n",
    "\n",
    "dask_executor = NormalDaskExecutor(executor=executor)\n",
    "dask_executor.submit(fn=test_function, x=1, y=8)"
   ]
  },
  {
   "cell_type": "code",
   "execution_count": 30,
   "metadata": {
    "execution": {
     "iopub.execute_input": "2022-08-05T17:52:44.649793Z",
     "iopub.status.busy": "2022-08-05T17:52:44.649243Z",
     "iopub.status.idle": "2022-08-05T17:52:44.656328Z",
     "shell.execute_reply": "2022-08-05T17:52:44.655820Z"
    }
   },
   "outputs": [
    {
     "data": {
      "text/plain": [
       "'{\"loader\": {\"object\": null, \"loader\": {\"callable\": \"distributed.cfexecutor.ClientExecutor\", \"signature\": {\"args\": [], \"client\": \"inspect._empty\"}}, \"object_type\": \"distributed.cfexecutor.ClientExecutor\"}, \"submit_callable\": \"submit\", \"map_callable\": \"map\", \"shutdown_callable\": \"shutdown\", \"executor\": \"distributed.cfexecutor.ClientExecutor\"}'"
      ]
     },
     "execution_count": 30,
     "metadata": {},
     "output_type": "execute_result"
    }
   ],
   "source": [
    "dask_executor_json = dask_executor.json()\n",
    "dask_executor_json"
   ]
  },
  {
   "cell_type": "code",
   "execution_count": 31,
   "metadata": {
    "execution": {
     "iopub.execute_input": "2022-08-05T17:52:44.659639Z",
     "iopub.status.busy": "2022-08-05T17:52:44.659234Z",
     "iopub.status.idle": "2022-08-05T17:52:44.664546Z",
     "shell.execute_reply": "2022-08-05T17:52:44.664036Z"
    }
   },
   "outputs": [],
   "source": [
    "dask_executor.shutdown()"
   ]
  },
  {
   "cell_type": "code",
   "execution_count": 32,
   "metadata": {
    "execution": {
     "iopub.execute_input": "2022-08-05T17:52:44.667354Z",
     "iopub.status.busy": "2022-08-05T17:52:44.666959Z",
     "iopub.status.idle": "2022-08-05T17:52:44.669566Z",
     "shell.execute_reply": "2022-08-05T17:52:44.669016Z"
    }
   },
   "outputs": [],
   "source": [
    "# this raises error because client not passed...\n",
    "# dask_executor_from_json = NormalDaskExecutor.parse_raw(dask_executor_json)"
   ]
  },
  {
   "cell_type": "markdown",
   "metadata": {},
   "source": [
    "Context managers handle shutdown for us:"
   ]
  },
  {
   "cell_type": "code",
   "execution_count": 33,
   "metadata": {
    "execution": {
     "iopub.execute_input": "2022-08-05T17:52:44.672309Z",
     "iopub.status.busy": "2022-08-05T17:52:44.672115Z",
     "iopub.status.idle": "2022-08-05T17:52:44.682022Z",
     "shell.execute_reply": "2022-08-05T17:52:44.681458Z"
    }
   },
   "outputs": [],
   "source": [
    "# ContexExecutor with context handling on submission and no executor persistence\n",
    "class ContextExecutor(\n",
    "    BaseExecutor[ObjType],\n",
    "    Generic[ObjType],\n",
    "    arbitrary_types_allowed=True,\n",
    "    json_encoders=JSON_ENCODERS,\n",
    "):\n",
    "    @contextlib.contextmanager\n",
    "    def context(self):\n",
    "\n",
    "        try:\n",
    "            self.executor = self.loader.load()\n",
    "            yield self.executor\n",
    "\n",
    "        finally:\n",
    "            self.shutdown()\n",
    "            self.executor = None\n",
    "\n",
    "    def submit(self, fn, **kwargs) -> Future:\n",
    "        with self.context() as ctxt:\n",
    "            submit_fn = getattr(ctxt, self.submit_callable)\n",
    "            return submit_fn(fn, **kwargs)\n",
    "        \n",
    "    def map(self, fn, iter: Iterable) -> Iterable[Future]:\n",
    "        with self.context() as ctxt:\n",
    "            map_fn = getattr(ctxt, self.map_callable)\n",
    "            return map_fn(fn, iter)\n"
   ]
  },
  {
   "cell_type": "markdown",
   "metadata": {},
   "source": [
    "Create some ContextExecutors"
   ]
  },
  {
   "cell_type": "code",
   "execution_count": 34,
   "metadata": {
    "execution": {
     "iopub.execute_input": "2022-08-05T17:52:44.685385Z",
     "iopub.status.busy": "2022-08-05T17:52:44.684887Z",
     "iopub.status.idle": "2022-08-05T17:52:44.697640Z",
     "shell.execute_reply": "2022-08-05T17:52:44.697114Z"
    }
   },
   "outputs": [
    {
     "data": {
      "text/plain": [
       "<Future at 0x7f0468a0f220 state=finished returned int>"
      ]
     },
     "execution_count": 34,
     "metadata": {},
     "output_type": "execute_result"
    }
   ],
   "source": [
    "# ThreadPoolExecutor\n",
    "# create type\n",
    "\n",
    "ContextTPExecutor = ContextExecutor[ThreadPoolExecutor]\n",
    "\n",
    "context_exec = ContextTPExecutor(kwargs={\"max_workers\":1})\n",
    "context_exec.submit(fn=test_function, x=1, y=8)"
   ]
  },
  {
   "cell_type": "code",
   "execution_count": 35,
   "metadata": {
    "execution": {
     "iopub.execute_input": "2022-08-05T17:52:44.701608Z",
     "iopub.status.busy": "2022-08-05T17:52:44.700413Z",
     "iopub.status.idle": "2022-08-05T17:52:44.705845Z",
     "shell.execute_reply": "2022-08-05T17:52:44.705288Z"
    }
   },
   "outputs": [
    {
     "data": {
      "text/plain": [
       "<generator object Executor.map.<locals>.result_iterator at 0x7f04689dccf0>"
      ]
     },
     "execution_count": 35,
     "metadata": {},
     "output_type": "execute_result"
    }
   ],
   "source": [
    "context_exec.map(test_function, ((1, 4), (3, 4)))"
   ]
  },
  {
   "cell_type": "code",
   "execution_count": 36,
   "metadata": {
    "execution": {
     "iopub.execute_input": "2022-08-05T17:52:44.708428Z",
     "iopub.status.busy": "2022-08-05T17:52:44.708219Z",
     "iopub.status.idle": "2022-08-05T17:52:44.712576Z",
     "shell.execute_reply": "2022-08-05T17:52:44.712037Z"
    }
   },
   "outputs": [
    {
     "data": {
      "text/plain": [
       "'{\"loader\": {\"object\": null, \"loader\": {\"callable\": \"concurrent.futures.thread.ThreadPoolExecutor\", \"signature\": {\"args\": [], \"initializer\": null, \"initargs\": null, \"max_workers\": 1, \"thread_name_prefix\": \"\"}}, \"object_type\": \"concurrent.futures.thread.ThreadPoolExecutor\"}, \"submit_callable\": \"submit\", \"map_callable\": \"map\", \"shutdown_callable\": \"shutdown\", \"executor\": null}'"
      ]
     },
     "execution_count": 36,
     "metadata": {},
     "output_type": "execute_result"
    }
   ],
   "source": [
    "context_exec_json = context_exec.json()\n",
    "context_exec_json"
   ]
  },
  {
   "cell_type": "code",
   "execution_count": 37,
   "metadata": {
    "execution": {
     "iopub.execute_input": "2022-08-05T17:52:44.715034Z",
     "iopub.status.busy": "2022-08-05T17:52:44.714839Z",
     "iopub.status.idle": "2022-08-05T17:52:44.721322Z",
     "shell.execute_reply": "2022-08-05T17:52:44.720760Z"
    }
   },
   "outputs": [
    {
     "data": {
      "text/plain": [
       "<Future at 0x7f0468a0f940 state=finished returned int>"
      ]
     },
     "execution_count": 37,
     "metadata": {},
     "output_type": "execute_result"
    }
   ],
   "source": [
    "context_exec_from_json = ContextTPExecutor.parse_raw(\n",
    "        context_exec_json\n",
    "    )\n",
    "context_exec_from_json.submit(fn=test_function, x=1, y=8)"
   ]
  },
  {
   "cell_type": "code",
   "execution_count": 38,
   "metadata": {
    "execution": {
     "iopub.execute_input": "2022-08-05T17:52:44.724083Z",
     "iopub.status.busy": "2022-08-05T17:52:44.723592Z",
     "iopub.status.idle": "2022-08-05T17:52:44.728979Z",
     "shell.execute_reply": "2022-08-05T17:52:44.728479Z"
    }
   },
   "outputs": [
    {
     "data": {
      "text/plain": [
       "<generator object Executor.map.<locals>.result_iterator at 0x7f04689fc890>"
      ]
     },
     "execution_count": 38,
     "metadata": {},
     "output_type": "execute_result"
    }
   ],
   "source": [
    "context_exec_from_json.map(test_function, ((1, 4), (3, 4)))"
   ]
  },
  {
   "cell_type": "markdown",
   "metadata": {},
   "source": [
    "Some executors are generated with Clients that manage sessions:\n",
    "** will require gathering results before shutdown..."
   ]
  },
  {
   "cell_type": "code",
   "execution_count": 39,
   "metadata": {
    "execution": {
     "iopub.execute_input": "2022-08-05T17:52:44.732034Z",
     "iopub.status.busy": "2022-08-05T17:52:44.731504Z",
     "iopub.status.idle": "2022-08-05T17:52:44.739717Z",
     "shell.execute_reply": "2022-08-05T17:52:44.739188Z"
    }
   },
   "outputs": [
    {
     "name": "stdout",
     "output_type": "stream",
     "text": [
      "callable: __main__.evaluate\n",
      "signature:\n",
      "  args: []\n",
      "  inputs: inspect._empty\n",
      "  y: 100\n",
      "\n"
     ]
    }
   ],
   "source": [
    "import yaml\n",
    "\n",
    "def evaluate(inputs, y=5, z=None):\n",
    "    return {'result': inputs['x'] + y }\n",
    "\n",
    "fn = CallableModel(callable=evaluate, kwargs={\"y\":100})\n",
    "fn_json = fn.json(exclude_none=True)\n",
    "\n",
    "\n",
    "print(yaml.dump(yaml.safe_load(fn_json)))"
   ]
  },
  {
   "cell_type": "code",
   "execution_count": 40,
   "metadata": {
    "execution": {
     "iopub.execute_input": "2022-08-05T17:52:44.742521Z",
     "iopub.status.busy": "2022-08-05T17:52:44.741989Z",
     "iopub.status.idle": "2022-08-05T17:52:44.747554Z",
     "shell.execute_reply": "2022-08-05T17:52:44.746971Z"
    }
   },
   "outputs": [
    {
     "data": {
      "text/plain": [
       "CallableModel(callable=<function evaluate at 0x7f04689db4c0>, signature=Kwargs_evaluate(args=[], z=None, kwarg_order=['inputs', 'y', 'z'], inputs='inspect._empty', y=100))"
      ]
     },
     "execution_count": 40,
     "metadata": {},
     "output_type": "execute_result"
    }
   ],
   "source": [
    "fn_from_json = CallableModel.parse_raw(fn_json)\n",
    "fn_from_json"
   ]
  },
  {
   "cell_type": "code",
   "execution_count": 41,
   "metadata": {
    "execution": {
     "iopub.execute_input": "2022-08-05T17:52:44.750087Z",
     "iopub.status.busy": "2022-08-05T17:52:44.749889Z",
     "iopub.status.idle": "2022-08-05T17:52:44.753767Z",
     "shell.execute_reply": "2022-08-05T17:52:44.753239Z"
    }
   },
   "outputs": [
    {
     "data": {
      "text/plain": [
       "{'result': 105}"
      ]
     },
     "execution_count": 41,
     "metadata": {},
     "output_type": "execute_result"
    }
   ],
   "source": [
    "fn_from_json({\"x\":5}, z=2)"
   ]
  }
 ],
 "metadata": {
  "interpreter": {
   "hash": "72034539424920dfb606fe3b820b3f27dca0cbf1c69938110810ec4641e275b1"
  },
  "kernelspec": {
   "display_name": "Python 3 (ipykernel)",
   "language": "python",
   "name": "python3"
  },
  "language_info": {
   "codemirror_mode": {
    "name": "ipython",
    "version": 3
   },
   "file_extension": ".py",
   "mimetype": "text/x-python",
   "name": "python",
   "nbconvert_exporter": "python",
   "pygments_lexer": "ipython3",
   "version": "3.9.13"
  }
 },
 "nbformat": 4,
 "nbformat_minor": 2
}
