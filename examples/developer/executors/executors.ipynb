{
 "cells": [
  {
   "cell_type": "markdown",
   "metadata": {},
   "source": [
    "# Pydantic-based executors\n",
    "The [PEP-3184](https://peps.python.org/pep-3148/) executor standard allows us to create an interface for executor objects and provide intelligent context for their execution. Pydantic validators allow the dynamic validation of executor initialization and execution based on signature inspection.\n",
    "\n",
    "Before you start, make sure you're using Pydantic >= 1.9.0. 1.8 has all sorts of bugs with json encoder propagation. "
   ]
  },
  {
   "cell_type": "code",
   "execution_count": 1,
   "metadata": {
    "execution": {
     "iopub.execute_input": "2022-09-30T15:28:01.920625Z",
     "iopub.status.busy": "2022-09-30T15:28:01.920334Z",
     "iopub.status.idle": "2022-09-30T15:28:03.147814Z",
     "shell.execute_reply": "2022-09-30T15:28:03.146723Z"
    }
   },
   "outputs": [],
   "source": [
    "# imports\n",
    "import contextlib\n",
    "import copy\n",
    "import json\n",
    "import pickle\n",
    "import inspect\n",
    "import logging\n",
    "from concurrent.futures import Future, ThreadPoolExecutor\n",
    "from typing import Any, Callable, Dict, Generic, Iterable, Optional, TypeVar, Tuple\n",
    "from types import FunctionType, MethodType\n",
    "from pydantic import BaseModel, Field, root_validator, validate_arguments, validator, ValidationError, Extra\n",
    "from pydantic.generics import GenericModel\n",
    "\n",
    "\n",
    "\n",
    "from xopt.pydantic import validate_and_compose_signature\n",
    "\n",
    "\n",
    "logger = logging.getLogger(\"__name__\")\n",
    "\n",
    "# Print code\n",
    "from IPython.display import display, Markdown\n",
    "def sdisplay(obj):\n",
    "    spec = inspect.getsource(obj)\n",
    "    display(Markdown(f\"```python \\n {spec} \\n ```\"))\n"
   ]
  },
  {
   "cell_type": "markdown",
   "metadata": {},
   "source": [
    "## GENERICS\n",
    "\n",
    "Because the executor classes take many forms, we'll be making use of Pydantic's generic class composition for executor type interpolation. We are able to do this by creating a placeholder TypeVar. Here, this is names ObjType, because the executor classes make use of a generalizable loading approach that could be extented to objects generally."
   ]
  },
  {
   "cell_type": "code",
   "execution_count": 2,
   "metadata": {
    "execution": {
     "iopub.execute_input": "2022-09-30T15:28:03.151841Z",
     "iopub.status.busy": "2022-09-30T15:28:03.151333Z",
     "iopub.status.idle": "2022-09-30T15:28:03.156078Z",
     "shell.execute_reply": "2022-09-30T15:28:03.155539Z"
    }
   },
   "outputs": [],
   "source": [
    "ObjType = TypeVar(\"ObjType\")"
   ]
  },
  {
   "cell_type": "markdown",
   "metadata": {},
   "source": [
    "## JSON Encoders\n",
    "\n",
    "Pydantic does not propogate JSON encoders to child classes, so we'll define a set of common encoders:"
   ]
  },
  {
   "cell_type": "code",
   "execution_count": 3,
   "metadata": {
    "execution": {
     "iopub.execute_input": "2022-09-30T15:28:03.158838Z",
     "iopub.status.busy": "2022-09-30T15:28:03.158629Z",
     "iopub.status.idle": "2022-09-30T15:28:03.162236Z",
     "shell.execute_reply": "2022-09-30T15:28:03.161622Z"
    }
   },
   "outputs": [],
   "source": [
    "JSON_ENCODERS = {\n",
    "    # function/method type distinguished for class members and not recognized as callables\n",
    "    FunctionType: lambda x: f\"{x.__module__}.{x.__qualname__}\",\n",
    "    MethodType: lambda x: f\"{x.__module__}.{x.__qualname__}\",\n",
    "    Callable: lambda x: f\"{x.__module__}.{type(x).__qualname__}\",\n",
    "    type: lambda x: f\"{x.__module__}.{x.__name__}\",\n",
    "    # for encoding instances of the ObjType}\n",
    "    ObjType: lambda x: f\"{x.__module__}.{x.__class__.__qualname__}\",\n",
    "}"
   ]
  },
  {
   "cell_type": "markdown",
   "metadata": {},
   "source": [
    "## Utility functions for validating signatures and getting callables from strings\n",
    "\n",
    "Central to generalizablity between executors is the ability to validate signatures args/kwargs against the executor class. "
   ]
  },
  {
   "cell_type": "code",
   "execution_count": 4,
   "metadata": {
    "execution": {
     "iopub.execute_input": "2022-09-30T15:28:03.165248Z",
     "iopub.status.busy": "2022-09-30T15:28:03.165042Z",
     "iopub.status.idle": "2022-09-30T15:28:03.167693Z",
     "shell.execute_reply": "2022-09-30T15:28:03.167062Z"
    }
   },
   "outputs": [],
   "source": [
    "from xopt.pydantic import get_callable_from_string\n",
    "\n",
    "#sdisplay(get_callable_from_string)"
   ]
  },
  {
   "cell_type": "code",
   "execution_count": 5,
   "metadata": {
    "execution": {
     "iopub.execute_input": "2022-09-30T15:28:03.170436Z",
     "iopub.status.busy": "2022-09-30T15:28:03.170230Z",
     "iopub.status.idle": "2022-09-30T15:28:03.179669Z",
     "shell.execute_reply": "2022-09-30T15:28:03.179033Z"
    }
   },
   "outputs": [
    {
     "data": {
      "text/plain": [
       "Kwargs_test_fn(args=[], m=<class 'inspect._empty'>, kwarg_order=['x', 'y', 'm'], x=2, y=5)"
      ]
     },
     "execution_count": 5,
     "metadata": {},
     "output_type": "execute_result"
    }
   ],
   "source": [
    "def test_fn(x, y=4, *args, m, **kwargs):\n",
    "    return x\n",
    "\n",
    "validate_and_compose_signature(test_fn, y=5, x=2, hi=4)"
   ]
  },
  {
   "cell_type": "markdown",
   "metadata": {},
   "source": [
    "## Representing callables as Pydantic models\n",
    "Representing callables as pydantic models allows us to take advantage of both pydantic serialization to json and pydantic's validation hooks for the kwarg validation upon creation, with possibility of delaying load. Here `CallableModel`, we can provide initialization kwargs for a to-be-instantiated-later object and reap the benefit of additional kwarg validation. "
   ]
  },
  {
   "cell_type": "code",
   "execution_count": 6,
   "metadata": {
    "execution": {
     "iopub.execute_input": "2022-09-30T15:28:03.218243Z",
     "iopub.status.busy": "2022-09-30T15:28:03.217777Z",
     "iopub.status.idle": "2022-09-30T15:28:03.221188Z",
     "shell.execute_reply": "2022-09-30T15:28:03.220475Z"
    }
   },
   "outputs": [],
   "source": [
    "from xopt.pydantic import CallableModel"
   ]
  },
  {
   "cell_type": "markdown",
   "metadata": {},
   "source": [
    "Let's test the callables on example function and class:"
   ]
  },
  {
   "cell_type": "code",
   "execution_count": 7,
   "metadata": {
    "execution": {
     "iopub.execute_input": "2022-09-30T15:28:03.224318Z",
     "iopub.status.busy": "2022-09-30T15:28:03.223739Z",
     "iopub.status.idle": "2022-09-30T15:28:03.227414Z",
     "shell.execute_reply": "2022-09-30T15:28:03.226836Z"
    }
   },
   "outputs": [],
   "source": [
    "def test_function(x: int, y: int = 5):\n",
    "    return x + y\n",
    "\n",
    "\n",
    "class TestClass:\n",
    "    def __init__(self, x, y):\n",
    "        self.x = x\n",
    "        self.y = y"
   ]
  },
  {
   "cell_type": "code",
   "execution_count": 8,
   "metadata": {
    "execution": {
     "iopub.execute_input": "2022-09-30T15:28:03.230280Z",
     "iopub.status.busy": "2022-09-30T15:28:03.229755Z",
     "iopub.status.idle": "2022-09-30T15:28:03.234790Z",
     "shell.execute_reply": "2022-09-30T15:28:03.234205Z"
    }
   },
   "outputs": [
    {
     "data": {
      "text/plain": [
       "Kwargs_test_function(args=[], kwarg_order=['x', 'y'], x=1, y=3)"
      ]
     },
     "execution_count": 8,
     "metadata": {},
     "output_type": "execute_result"
    }
   ],
   "source": [
    "fn = CallableModel(callable=test_function, kwargs={\"x\":1, \"y\":3})\n",
    "\n",
    "fn.signature"
   ]
  },
  {
   "cell_type": "code",
   "execution_count": 9,
   "metadata": {
    "execution": {
     "iopub.execute_input": "2022-09-30T15:28:03.237327Z",
     "iopub.status.busy": "2022-09-30T15:28:03.237118Z",
     "iopub.status.idle": "2022-09-30T15:28:03.241655Z",
     "shell.execute_reply": "2022-09-30T15:28:03.241210Z"
    }
   },
   "outputs": [
    {
     "data": {
      "text/plain": [
       "Kwargs_test_function(args=[], kwarg_order=['x', 'y'], x=1, y=3)"
      ]
     },
     "execution_count": 9,
     "metadata": {},
     "output_type": "execute_result"
    }
   ],
   "source": [
    "fn = CallableModel(callable=test_function, args=(1,3,))\n",
    "\n",
    "fn.signature"
   ]
  },
  {
   "cell_type": "code",
   "execution_count": 10,
   "metadata": {
    "execution": {
     "iopub.execute_input": "2022-09-30T15:28:03.244191Z",
     "iopub.status.busy": "2022-09-30T15:28:03.243983Z",
     "iopub.status.idle": "2022-09-30T15:28:03.248613Z",
     "shell.execute_reply": "2022-09-30T15:28:03.248168Z"
    }
   },
   "outputs": [
    {
     "data": {
      "text/plain": [
       "Kwargs_test_function(args=[], kwarg_order=['x', 'y'], x=1, y=3)"
      ]
     },
     "execution_count": 10,
     "metadata": {},
     "output_type": "execute_result"
    }
   ],
   "source": [
    "fn = CallableModel(callable=test_function, args=(1,), kwargs={\"y\":3})\n",
    "\n",
    "fn.signature"
   ]
  },
  {
   "cell_type": "markdown",
   "metadata": {},
   "source": [
    "Schema shows us the generated model:"
   ]
  },
  {
   "cell_type": "code",
   "execution_count": 11,
   "metadata": {
    "execution": {
     "iopub.execute_input": "2022-09-30T15:28:03.251276Z",
     "iopub.status.busy": "2022-09-30T15:28:03.251068Z",
     "iopub.status.idle": "2022-09-30T15:28:03.256438Z",
     "shell.execute_reply": "2022-09-30T15:28:03.255991Z"
    }
   },
   "outputs": [
    {
     "data": {
      "text/plain": [
       "{'title': 'Kwargs_test_function',\n",
       " 'type': 'object',\n",
       " 'properties': {'args': {'title': 'Args',\n",
       "   'default': [],\n",
       "   'type': 'array',\n",
       "   'items': {}},\n",
       "  'kwarg_order': {'title': 'Kwarg Order',\n",
       "   'default': ['x', 'y'],\n",
       "   'type': 'array',\n",
       "   'items': {}},\n",
       "  'x': {'title': 'X', 'default': 1, 'type': 'integer'},\n",
       "  'y': {'title': 'Y', 'default': 3, 'type': 'integer'}}}"
      ]
     },
     "execution_count": 11,
     "metadata": {},
     "output_type": "execute_result"
    }
   ],
   "source": [
    "fn.signature.schema()"
   ]
  },
  {
   "cell_type": "code",
   "execution_count": 12,
   "metadata": {
    "execution": {
     "iopub.execute_input": "2022-09-30T15:28:03.258820Z",
     "iopub.status.busy": "2022-09-30T15:28:03.258614Z",
     "iopub.status.idle": "2022-09-30T15:28:03.262622Z",
     "shell.execute_reply": "2022-09-30T15:28:03.262029Z"
    }
   },
   "outputs": [
    {
     "data": {
      "text/plain": [
       "{'callable': <function __main__.test_function(x: int, y: int = 5)>,\n",
       " 'signature': {'args': [], 'x': 1, 'y': 3}}"
      ]
     },
     "execution_count": 12,
     "metadata": {},
     "output_type": "execute_result"
    }
   ],
   "source": [
    "# dict rep\n",
    "fn_dict = fn.dict()\n",
    "fn_dict"
   ]
  },
  {
   "cell_type": "code",
   "execution_count": 13,
   "metadata": {
    "execution": {
     "iopub.execute_input": "2022-09-30T15:28:03.265407Z",
     "iopub.status.busy": "2022-09-30T15:28:03.265199Z",
     "iopub.status.idle": "2022-09-30T15:28:03.269619Z",
     "shell.execute_reply": "2022-09-30T15:28:03.269169Z"
    }
   },
   "outputs": [
    {
     "data": {
      "text/plain": [
       "4"
      ]
     },
     "execution_count": 13,
     "metadata": {},
     "output_type": "execute_result"
    }
   ],
   "source": [
    "# load from dict\n",
    "fn_from_dict = CallableModel(**fn.dict()) \n",
    "fn_from_dict()"
   ]
  },
  {
   "cell_type": "code",
   "execution_count": 14,
   "metadata": {
    "execution": {
     "iopub.execute_input": "2022-09-30T15:28:03.272150Z",
     "iopub.status.busy": "2022-09-30T15:28:03.271942Z",
     "iopub.status.idle": "2022-09-30T15:28:03.275407Z",
     "shell.execute_reply": "2022-09-30T15:28:03.274960Z"
    }
   },
   "outputs": [
    {
     "data": {
      "text/plain": [
       "'{\"callable\": \"__main__.test_function\", \"signature\": {\"args\": [], \"x\": 1, \"y\": 3}}'"
      ]
     },
     "execution_count": 14,
     "metadata": {},
     "output_type": "execute_result"
    }
   ],
   "source": [
    "# json representation\n",
    "fn.json() "
   ]
  },
  {
   "cell_type": "code",
   "execution_count": 15,
   "metadata": {
    "execution": {
     "iopub.execute_input": "2022-09-30T15:28:03.277944Z",
     "iopub.status.busy": "2022-09-30T15:28:03.277737Z",
     "iopub.status.idle": "2022-09-30T15:28:03.282427Z",
     "shell.execute_reply": "2022-09-30T15:28:03.281973Z"
    }
   },
   "outputs": [
    {
     "data": {
      "text/plain": [
       "4"
      ]
     },
     "execution_count": 15,
     "metadata": {},
     "output_type": "execute_result"
    }
   ],
   "source": [
    "# callable from json\n",
    "fn_from_json = CallableModel.parse_raw(fn.json())\n",
    "fn_from_json()"
   ]
  },
  {
   "cell_type": "markdown",
   "metadata": {},
   "source": [
    "# With Classes"
   ]
  },
  {
   "cell_type": "code",
   "execution_count": 16,
   "metadata": {
    "execution": {
     "iopub.execute_input": "2022-09-30T15:28:03.285042Z",
     "iopub.status.busy": "2022-09-30T15:28:03.284835Z",
     "iopub.status.idle": "2022-09-30T15:28:03.288779Z",
     "shell.execute_reply": "2022-09-30T15:28:03.288273Z"
    }
   },
   "outputs": [],
   "source": [
    "# Class kwargs passed after\n",
    "parameterized_class = CallableModel(callable=TestClass, kwargs={\"x\":1, \"y\":3})\n",
    "test_class_obj = parameterized_class()\n",
    "assert isinstance(test_class_obj, (TestClass,))"
   ]
  },
  {
   "cell_type": "code",
   "execution_count": 17,
   "metadata": {
    "execution": {
     "iopub.execute_input": "2022-09-30T15:28:03.291356Z",
     "iopub.status.busy": "2022-09-30T15:28:03.291150Z",
     "iopub.status.idle": "2022-09-30T15:28:03.294985Z",
     "shell.execute_reply": "2022-09-30T15:28:03.294494Z"
    }
   },
   "outputs": [
    {
     "data": {
      "text/plain": [
       "{'callable': __main__.TestClass, 'signature': {'args': [], 'x': 1, 'y': 3}}"
      ]
     },
     "execution_count": 17,
     "metadata": {},
     "output_type": "execute_result"
    }
   ],
   "source": [
    "# dict rep\n",
    "parameterized_class_dict = parameterized_class.dict()\n",
    "parameterized_class_dict"
   ]
  },
  {
   "cell_type": "code",
   "execution_count": 18,
   "metadata": {
    "execution": {
     "iopub.execute_input": "2022-09-30T15:28:03.298144Z",
     "iopub.status.busy": "2022-09-30T15:28:03.297937Z",
     "iopub.status.idle": "2022-09-30T15:28:03.302410Z",
     "shell.execute_reply": "2022-09-30T15:28:03.301799Z"
    }
   },
   "outputs": [
    {
     "data": {
      "text/plain": [
       "CallableModel(callable=<class '__main__.TestClass'>, signature=Kwargs_TestClass(args=[], kwarg_order=['x', 'y'], x=1, y=3))"
      ]
     },
     "execution_count": 18,
     "metadata": {},
     "output_type": "execute_result"
    }
   ],
   "source": [
    "# from dict\n",
    "parameterized_class_from_dict = CallableModel(**parameterized_class_dict)\n",
    "parameterized_class_from_dict"
   ]
  },
  {
   "cell_type": "code",
   "execution_count": 19,
   "metadata": {
    "execution": {
     "iopub.execute_input": "2022-09-30T15:28:03.305671Z",
     "iopub.status.busy": "2022-09-30T15:28:03.305465Z",
     "iopub.status.idle": "2022-09-30T15:28:03.308211Z",
     "shell.execute_reply": "2022-09-30T15:28:03.307728Z"
    }
   },
   "outputs": [],
   "source": [
    "parameterized_class_from_dict_obj = parameterized_class_from_dict()\n",
    "assert isinstance(parameterized_class_from_dict_obj, (TestClass,))"
   ]
  },
  {
   "cell_type": "code",
   "execution_count": 20,
   "metadata": {
    "execution": {
     "iopub.execute_input": "2022-09-30T15:28:03.310728Z",
     "iopub.status.busy": "2022-09-30T15:28:03.310520Z",
     "iopub.status.idle": "2022-09-30T15:28:03.314223Z",
     "shell.execute_reply": "2022-09-30T15:28:03.313768Z"
    }
   },
   "outputs": [
    {
     "data": {
      "text/plain": [
       "'{\"callable\": \"__main__.TestClass\", \"signature\": {\"args\": [], \"x\": 1, \"y\": 3}}'"
      ]
     },
     "execution_count": 20,
     "metadata": {},
     "output_type": "execute_result"
    }
   ],
   "source": [
    "#json \n",
    "parameterized_class_json = parameterized_class.json()\n",
    "parameterized_class_json"
   ]
  },
  {
   "cell_type": "code",
   "execution_count": 21,
   "metadata": {
    "execution": {
     "iopub.execute_input": "2022-09-30T15:28:03.316683Z",
     "iopub.status.busy": "2022-09-30T15:28:03.316474Z",
     "iopub.status.idle": "2022-09-30T15:28:03.320225Z",
     "shell.execute_reply": "2022-09-30T15:28:03.319766Z"
    }
   },
   "outputs": [],
   "source": [
    "parameterized_class_from_json = CallableModel.parse_raw(parameterized_class_json)\n",
    "test_class_obj = parameterized_class_from_json()\n",
    "assert isinstance(test_class_obj, (TestClass,))"
   ]
  },
  {
   "cell_type": "markdown",
   "metadata": {},
   "source": [
    "We can use the callables to construct a dynamic object loader. The generic type allows us to use this same method for any executor. The syntax: `ObjLoader[ThreadPoolExecutor]` composes a new class entirely, this one specific to the `ThreadPoolExecutor`. "
   ]
  },
  {
   "cell_type": "code",
   "execution_count": 22,
   "metadata": {
    "execution": {
     "iopub.execute_input": "2022-09-30T15:28:03.322879Z",
     "iopub.status.busy": "2022-09-30T15:28:03.322667Z",
     "iopub.status.idle": "2022-09-30T15:28:03.325408Z",
     "shell.execute_reply": "2022-09-30T15:28:03.324794Z"
    }
   },
   "outputs": [],
   "source": [
    "from xopt.pydantic import ObjLoader"
   ]
  },
  {
   "cell_type": "markdown",
   "metadata": {},
   "source": [
    "Let's test object loader on our `TestClass`:"
   ]
  },
  {
   "cell_type": "code",
   "execution_count": 23,
   "metadata": {
    "execution": {
     "iopub.execute_input": "2022-09-30T15:28:03.328161Z",
     "iopub.status.busy": "2022-09-30T15:28:03.327953Z",
     "iopub.status.idle": "2022-09-30T15:28:03.334197Z",
     "shell.execute_reply": "2022-09-30T15:28:03.333589Z"
    }
   },
   "outputs": [
    {
     "data": {
      "text/plain": [
       "<__main__.TestClass at 0x7f71742dc1c0>"
      ]
     },
     "execution_count": 23,
     "metadata": {},
     "output_type": "execute_result"
    }
   ],
   "source": [
    "# create type\n",
    "TestClassLoader = ObjLoader[TestClass]\n",
    "\n",
    "obj_loader = TestClassLoader(kwargs={\"x\":1, \"y\":3})\n",
    "loaded = obj_loader.load()\n",
    "loaded"
   ]
  },
  {
   "cell_type": "markdown",
   "metadata": {},
   "source": [
    "Can do this for a generic object like `ThreadPoolExecutor`:"
   ]
  },
  {
   "cell_type": "code",
   "execution_count": 24,
   "metadata": {
    "execution": {
     "iopub.execute_input": "2022-09-30T15:28:03.337577Z",
     "iopub.status.busy": "2022-09-30T15:28:03.337369Z",
     "iopub.status.idle": "2022-09-30T15:28:03.345041Z",
     "shell.execute_reply": "2022-09-30T15:28:03.344434Z"
    }
   },
   "outputs": [],
   "source": [
    "# create Type\n",
    "TPELoader = ObjLoader[ThreadPoolExecutor]\n",
    "\n",
    "tpe_loader = TPELoader(kwargs={\"max_workers\":1})\n",
    "tpe = tpe_loader.load()\n",
    "tpe\n",
    "tpe_loader_json  = tpe_loader.json()\n",
    "tpe_loader_json\n",
    "tpe_loader_from_json = TPELoader.parse_raw(tpe_loader_json)\n",
    "\n",
    "\n",
    "# shutdown tpe\n",
    "tpe.shutdown()\n"
   ]
  },
  {
   "cell_type": "markdown",
   "metadata": {},
   "source": [
    "## Executors\n",
    "The previous classes were an attempt to demonstrate generic utility. The Executors to follow will build off of those common utilities to parameterize generic executors complying with the pep-3148 standard (the callables have been typified in case of deviation). Likewise, the following BaseExecutor outlines common executor fields and methods."
   ]
  },
  {
   "cell_type": "code",
   "execution_count": 25,
   "metadata": {
    "execution": {
     "iopub.execute_input": "2022-09-30T15:28:03.347657Z",
     "iopub.status.busy": "2022-09-30T15:28:03.347430Z",
     "iopub.status.idle": "2022-09-30T15:28:03.350203Z",
     "shell.execute_reply": "2022-09-30T15:28:03.349599Z"
    }
   },
   "outputs": [],
   "source": [
    "from xopt.pydantic import BaseExecutor, NormalExecutor"
   ]
  },
  {
   "cell_type": "markdown",
   "metadata": {},
   "source": [
    "## Normal, ContextExecutor\n",
    "Now, we subclass base to create two executors: `NormalExecutor`, and `ContextExecutor`. In the case that the user would like to create a persistent executor passed to the Evaluator, they would use the NormalExecutor. The ContextExecutor provides a context manager to dynamically create executor instances during execution."
   ]
  },
  {
   "cell_type": "markdown",
   "metadata": {},
   "source": [
    "Create some NormalExecutors: (must manually shutdown)"
   ]
  },
  {
   "cell_type": "code",
   "execution_count": 26,
   "metadata": {
    "execution": {
     "iopub.execute_input": "2022-09-30T15:28:03.353064Z",
     "iopub.status.busy": "2022-09-30T15:28:03.352856Z",
     "iopub.status.idle": "2022-09-30T15:28:03.363007Z",
     "shell.execute_reply": "2022-09-30T15:28:03.362425Z"
    }
   },
   "outputs": [
    {
     "data": {
      "text/plain": [
       "<Future at 0x7f71742f1640 state=finished returned int>"
      ]
     },
     "execution_count": 26,
     "metadata": {},
     "output_type": "execute_result"
    }
   ],
   "source": [
    "# ThreadPool\n",
    "# create type\n",
    "NormTPExecutor = NormalExecutor[ThreadPoolExecutor]\n",
    "\n",
    "tpe_exec = NormTPExecutor(kwargs={\"max_workers\":1})\n",
    "# submit\n",
    "tpe_exec.submit(fn=test_function, x=1, y=8)"
   ]
  },
  {
   "cell_type": "code",
   "execution_count": 27,
   "metadata": {
    "execution": {
     "iopub.execute_input": "2022-09-30T15:28:03.365490Z",
     "iopub.status.busy": "2022-09-30T15:28:03.365280Z",
     "iopub.status.idle": "2022-09-30T15:28:03.370330Z",
     "shell.execute_reply": "2022-09-30T15:28:03.369741Z"
    }
   },
   "outputs": [
    {
     "data": {
      "text/plain": [
       "<generator object Executor.map.<locals>.result_iterator at 0x7f7174309120>"
      ]
     },
     "execution_count": 27,
     "metadata": {},
     "output_type": "execute_result"
    }
   ],
   "source": [
    "# map\n",
    "tpe_exec.map(test_function, ((1, 4), (3, 4)))"
   ]
  },
  {
   "cell_type": "code",
   "execution_count": 28,
   "metadata": {
    "execution": {
     "iopub.execute_input": "2022-09-30T15:28:03.372959Z",
     "iopub.status.busy": "2022-09-30T15:28:03.372754Z",
     "iopub.status.idle": "2022-09-30T15:28:03.375495Z",
     "shell.execute_reply": "2022-09-30T15:28:03.374989Z"
    }
   },
   "outputs": [],
   "source": [
    "tpe_exec.shutdown()"
   ]
  },
  {
   "cell_type": "code",
   "execution_count": 29,
   "metadata": {
    "execution": {
     "iopub.execute_input": "2022-09-30T15:28:03.378085Z",
     "iopub.status.busy": "2022-09-30T15:28:03.377878Z",
     "iopub.status.idle": "2022-09-30T15:28:05.124139Z",
     "shell.execute_reply": "2022-09-30T15:28:05.121920Z"
    }
   },
   "outputs": [
    {
     "data": {
      "text/plain": [
       "<Future at 0x7f7128d70fa0 state=pending>"
      ]
     },
     "execution_count": 29,
     "metadata": {},
     "output_type": "execute_result"
    }
   ],
   "source": [
    "# Dask\n",
    "from distributed import Client\n",
    "from distributed.cfexecutor import ClientExecutor\n",
    "\n",
    "# Using an existing executor\n",
    "client = Client(silence_logs=logging.ERROR)\n",
    "executor = client.get_executor()\n",
    "\n",
    "# create type\n",
    "NormalDaskExecutor =  NormalExecutor[type(executor)]\n",
    "\n",
    "dask_executor = NormalDaskExecutor(executor=executor)\n",
    "dask_executor.submit(fn=test_function, x=1, y=8)"
   ]
  },
  {
   "cell_type": "code",
   "execution_count": 30,
   "metadata": {
    "execution": {
     "iopub.execute_input": "2022-09-30T15:28:05.130407Z",
     "iopub.status.busy": "2022-09-30T15:28:05.128268Z",
     "iopub.status.idle": "2022-09-30T15:28:05.136727Z",
     "shell.execute_reply": "2022-09-30T15:28:05.136176Z"
    }
   },
   "outputs": [
    {
     "data": {
      "text/plain": [
       "'{\"loader\": {\"object\": null, \"loader\": {\"callable\": \"distributed.cfexecutor.ClientExecutor\", \"signature\": {\"args\": [], \"client\": \"inspect._empty\"}}, \"object_type\": \"distributed.cfexecutor.ClientExecutor\"}, \"submit_callable\": \"submit\", \"map_callable\": \"map\", \"shutdown_callable\": \"shutdown\", \"executor\": \"distributed.cfexecutor.ClientExecutor\"}'"
      ]
     },
     "execution_count": 30,
     "metadata": {},
     "output_type": "execute_result"
    }
   ],
   "source": [
    "dask_executor_json = dask_executor.json()\n",
    "dask_executor_json"
   ]
  },
  {
   "cell_type": "code",
   "execution_count": 31,
   "metadata": {
    "execution": {
     "iopub.execute_input": "2022-09-30T15:28:05.139883Z",
     "iopub.status.busy": "2022-09-30T15:28:05.139413Z",
     "iopub.status.idle": "2022-09-30T15:28:05.145968Z",
     "shell.execute_reply": "2022-09-30T15:28:05.145342Z"
    }
   },
   "outputs": [],
   "source": [
    "dask_executor.shutdown()"
   ]
  },
  {
   "cell_type": "code",
   "execution_count": 32,
   "metadata": {
    "execution": {
     "iopub.execute_input": "2022-09-30T15:28:05.148781Z",
     "iopub.status.busy": "2022-09-30T15:28:05.148420Z",
     "iopub.status.idle": "2022-09-30T15:28:05.151265Z",
     "shell.execute_reply": "2022-09-30T15:28:05.150354Z"
    }
   },
   "outputs": [],
   "source": [
    "# this raises error because client not passed...\n",
    "# dask_executor_from_json = NormalDaskExecutor.parse_raw(dask_executor_json)"
   ]
  },
  {
   "cell_type": "markdown",
   "metadata": {},
   "source": [
    "Context managers handle shutdown for us:"
   ]
  },
  {
   "cell_type": "code",
   "execution_count": 33,
   "metadata": {
    "execution": {
     "iopub.execute_input": "2022-09-30T15:28:05.154726Z",
     "iopub.status.busy": "2022-09-30T15:28:05.154338Z",
     "iopub.status.idle": "2022-09-30T15:28:05.165702Z",
     "shell.execute_reply": "2022-09-30T15:28:05.165123Z"
    }
   },
   "outputs": [],
   "source": [
    "# ContexExecutor with context handling on submission and no executor persistence\n",
    "class ContextExecutor(\n",
    "    BaseExecutor[ObjType],\n",
    "    Generic[ObjType],\n",
    "    arbitrary_types_allowed=True,\n",
    "    json_encoders=JSON_ENCODERS,\n",
    "):\n",
    "    @contextlib.contextmanager\n",
    "    def context(self):\n",
    "\n",
    "        try:\n",
    "            self.executor = self.loader.load()\n",
    "            yield self.executor\n",
    "\n",
    "        finally:\n",
    "            self.shutdown()\n",
    "            self.executor = None\n",
    "\n",
    "    def submit(self, fn, **kwargs) -> Future:\n",
    "        with self.context() as ctxt:\n",
    "            submit_fn = getattr(ctxt, self.submit_callable)\n",
    "            return submit_fn(fn, **kwargs)\n",
    "        \n",
    "    def map(self, fn, iter: Iterable) -> Iterable[Future]:\n",
    "        with self.context() as ctxt:\n",
    "            map_fn = getattr(ctxt, self.map_callable)\n",
    "            return map_fn(fn, iter)\n"
   ]
  },
  {
   "cell_type": "markdown",
   "metadata": {},
   "source": [
    "Create some ContextExecutors"
   ]
  },
  {
   "cell_type": "code",
   "execution_count": 34,
   "metadata": {
    "execution": {
     "iopub.execute_input": "2022-09-30T15:28:05.168842Z",
     "iopub.status.busy": "2022-09-30T15:28:05.168430Z",
     "iopub.status.idle": "2022-09-30T15:28:05.183029Z",
     "shell.execute_reply": "2022-09-30T15:28:05.182478Z"
    }
   },
   "outputs": [
    {
     "data": {
      "text/plain": [
       "<Future at 0x7f7128c64520 state=finished returned int>"
      ]
     },
     "execution_count": 34,
     "metadata": {},
     "output_type": "execute_result"
    }
   ],
   "source": [
    "# ThreadPoolExecutor\n",
    "# create type\n",
    "\n",
    "ContextTPExecutor = ContextExecutor[ThreadPoolExecutor]\n",
    "\n",
    "context_exec = ContextTPExecutor(kwargs={\"max_workers\":1})\n",
    "context_exec.submit(fn=test_function, x=1, y=8)"
   ]
  },
  {
   "cell_type": "code",
   "execution_count": 35,
   "metadata": {
    "execution": {
     "iopub.execute_input": "2022-09-30T15:28:05.186398Z",
     "iopub.status.busy": "2022-09-30T15:28:05.186024Z",
     "iopub.status.idle": "2022-09-30T15:28:05.192742Z",
     "shell.execute_reply": "2022-09-30T15:28:05.192238Z"
    }
   },
   "outputs": [
    {
     "data": {
      "text/plain": [
       "<generator object Executor.map.<locals>.result_iterator at 0x7f7128cb4eb0>"
      ]
     },
     "execution_count": 35,
     "metadata": {},
     "output_type": "execute_result"
    }
   ],
   "source": [
    "context_exec.map(test_function, ((1, 4), (3, 4)))"
   ]
  },
  {
   "cell_type": "code",
   "execution_count": 36,
   "metadata": {
    "execution": {
     "iopub.execute_input": "2022-09-30T15:28:05.196028Z",
     "iopub.status.busy": "2022-09-30T15:28:05.195631Z",
     "iopub.status.idle": "2022-09-30T15:28:05.201670Z",
     "shell.execute_reply": "2022-09-30T15:28:05.201062Z"
    }
   },
   "outputs": [
    {
     "data": {
      "text/plain": [
       "'{\"loader\": {\"object\": null, \"loader\": {\"callable\": \"concurrent.futures.thread.ThreadPoolExecutor\", \"signature\": {\"args\": [], \"initializer\": null, \"initargs\": null, \"max_workers\": 1, \"thread_name_prefix\": \"\"}}, \"object_type\": \"concurrent.futures.thread.ThreadPoolExecutor\"}, \"submit_callable\": \"submit\", \"map_callable\": \"map\", \"shutdown_callable\": \"shutdown\", \"executor\": null}'"
      ]
     },
     "execution_count": 36,
     "metadata": {},
     "output_type": "execute_result"
    }
   ],
   "source": [
    "context_exec_json = context_exec.json()\n",
    "context_exec_json"
   ]
  },
  {
   "cell_type": "code",
   "execution_count": 37,
   "metadata": {
    "execution": {
     "iopub.execute_input": "2022-09-30T15:28:05.204817Z",
     "iopub.status.busy": "2022-09-30T15:28:05.204358Z",
     "iopub.status.idle": "2022-09-30T15:28:05.212508Z",
     "shell.execute_reply": "2022-09-30T15:28:05.211917Z"
    }
   },
   "outputs": [
    {
     "data": {
      "text/plain": [
       "<Future at 0x7f7128c6f2e0 state=finished returned int>"
      ]
     },
     "execution_count": 37,
     "metadata": {},
     "output_type": "execute_result"
    }
   ],
   "source": [
    "context_exec_from_json = ContextTPExecutor.parse_raw(\n",
    "        context_exec_json\n",
    "    )\n",
    "context_exec_from_json.submit(fn=test_function, x=1, y=8)"
   ]
  },
  {
   "cell_type": "code",
   "execution_count": 38,
   "metadata": {
    "execution": {
     "iopub.execute_input": "2022-09-30T15:28:05.215177Z",
     "iopub.status.busy": "2022-09-30T15:28:05.214950Z",
     "iopub.status.idle": "2022-09-30T15:28:05.221350Z",
     "shell.execute_reply": "2022-09-30T15:28:05.220765Z"
    }
   },
   "outputs": [
    {
     "data": {
      "text/plain": [
       "<generator object Executor.map.<locals>.result_iterator at 0x7f7128c58580>"
      ]
     },
     "execution_count": 38,
     "metadata": {},
     "output_type": "execute_result"
    }
   ],
   "source": [
    "context_exec_from_json.map(test_function, ((1, 4), (3, 4)))"
   ]
  },
  {
   "cell_type": "markdown",
   "metadata": {},
   "source": [
    "Some executors are generated with Clients that manage sessions:\n",
    "** will require gathering results before shutdown..."
   ]
  },
  {
   "cell_type": "code",
   "execution_count": 39,
   "metadata": {
    "execution": {
     "iopub.execute_input": "2022-09-30T15:28:05.225488Z",
     "iopub.status.busy": "2022-09-30T15:28:05.224301Z",
     "iopub.status.idle": "2022-09-30T15:28:05.232718Z",
     "shell.execute_reply": "2022-09-30T15:28:05.232159Z"
    }
   },
   "outputs": [
    {
     "name": "stdout",
     "output_type": "stream",
     "text": [
      "callable: __main__.evaluate\n",
      "signature:\n",
      "  args: []\n",
      "  inputs: inspect._empty\n",
      "  y: 100\n",
      "\n"
     ]
    }
   ],
   "source": [
    "import yaml\n",
    "\n",
    "def evaluate(inputs, y=5, z=None):\n",
    "    return {'result': inputs['x'] + y }\n",
    "\n",
    "fn = CallableModel(callable=evaluate, kwargs={\"y\":100})\n",
    "fn_json = fn.json(exclude_none=True)\n",
    "\n",
    "\n",
    "print(yaml.dump(yaml.safe_load(fn_json)))"
   ]
  },
  {
   "cell_type": "code",
   "execution_count": 40,
   "metadata": {
    "execution": {
     "iopub.execute_input": "2022-09-30T15:28:05.235751Z",
     "iopub.status.busy": "2022-09-30T15:28:05.235421Z",
     "iopub.status.idle": "2022-09-30T15:28:05.242144Z",
     "shell.execute_reply": "2022-09-30T15:28:05.241616Z"
    }
   },
   "outputs": [
    {
     "data": {
      "text/plain": [
       "CallableModel(callable=<function evaluate at 0x7f7128e38b80>, signature=Kwargs_evaluate(args=[], z=None, kwarg_order=['inputs', 'y', 'z'], inputs='inspect._empty', y=100))"
      ]
     },
     "execution_count": 40,
     "metadata": {},
     "output_type": "execute_result"
    }
   ],
   "source": [
    "fn_from_json = CallableModel.parse_raw(fn_json)\n",
    "fn_from_json"
   ]
  },
  {
   "cell_type": "code",
   "execution_count": 41,
   "metadata": {
    "execution": {
     "iopub.execute_input": "2022-09-30T15:28:05.244806Z",
     "iopub.status.busy": "2022-09-30T15:28:05.244594Z",
     "iopub.status.idle": "2022-09-30T15:28:05.250799Z",
     "shell.execute_reply": "2022-09-30T15:28:05.249974Z"
    }
   },
   "outputs": [
    {
     "data": {
      "text/plain": [
       "{'result': 105}"
      ]
     },
     "execution_count": 41,
     "metadata": {},
     "output_type": "execute_result"
    }
   ],
   "source": [
    "fn_from_json({\"x\":5}, z=2)"
   ]
  }
 ],
 "metadata": {
  "interpreter": {
   "hash": "72034539424920dfb606fe3b820b3f27dca0cbf1c69938110810ec4641e275b1"
  },
  "kernelspec": {
   "display_name": "Python 3 (ipykernel)",
   "language": "python",
   "name": "python3"
  },
  "language_info": {
   "codemirror_mode": {
    "name": "ipython",
    "version": 3
   },
   "file_extension": ".py",
   "mimetype": "text/x-python",
   "name": "python",
   "nbconvert_exporter": "python",
   "pygments_lexer": "ipython3",
   "version": "3.9.13"
  }
 },
 "nbformat": 4,
 "nbformat_minor": 2
}
