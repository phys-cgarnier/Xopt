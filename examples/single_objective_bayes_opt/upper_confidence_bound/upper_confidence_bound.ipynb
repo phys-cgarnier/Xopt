{
 "cells": [
  {
   "cell_type": "markdown",
   "metadata": {},
   "source": [
    "# Upper Confidence Bound BO\n"
   ]
  },
  {
   "cell_type": "code",
   "execution_count": 1,
   "metadata": {
    "execution": {
     "iopub.execute_input": "2022-07-02T04:15:03.843712Z",
     "iopub.status.busy": "2022-07-02T04:15:03.843424Z",
     "iopub.status.idle": "2022-07-02T04:15:04.772187Z",
     "shell.execute_reply": "2022-07-02T04:15:04.771689Z"
    }
   },
   "outputs": [],
   "source": [
    "# Ignore all warnings\n",
    "import warnings\n",
    "warnings.filterwarnings(\"ignore\")\n",
    "\n",
    "import torch\n",
    "\n",
    "\n",
    "import matplotlib.pyplot as plt\n",
    "from xopt import Xopt"
   ]
  },
  {
   "cell_type": "markdown",
   "metadata": {},
   "source": [
    "The `Xopt` object can be instantiated from a JSON or YAML file, or a dict, with the proper structure.\n",
    "\n",
    "Here we will make one"
   ]
  },
  {
   "cell_type": "code",
   "execution_count": 2,
   "metadata": {
    "execution": {
     "iopub.execute_input": "2022-07-02T04:15:04.790446Z",
     "iopub.status.busy": "2022-07-02T04:15:04.790318Z",
     "iopub.status.idle": "2022-07-02T04:15:04.793274Z",
     "shell.execute_reply": "2022-07-02T04:15:04.793009Z"
    }
   },
   "outputs": [],
   "source": [
    "# Make a proper input file.\n",
    "YAML = \"\"\"\n",
    "generator:\n",
    "  name: upper_confidence_bound\n",
    "  beta: 0.1\n",
    "\n",
    "evaluator:\n",
    "  function: xopt.resources.test_functions.sinusoid_1d.evaluate_sinusoid\n",
    "\n",
    "vocs:\n",
    "  variables:\n",
    "    x1: [0, 6.28]\n",
    "  objectives:\n",
    "    y1: 'MINIMIZE'\n",
    "\"\"\""
   ]
  },
  {
   "cell_type": "code",
   "execution_count": 3,
   "metadata": {
    "execution": {
     "iopub.execute_input": "2022-07-02T04:15:04.794759Z",
     "iopub.status.busy": "2022-07-02T04:15:04.794652Z",
     "iopub.status.idle": "2022-07-02T04:15:04.805490Z",
     "shell.execute_reply": "2022-07-02T04:15:04.805237Z"
    }
   },
   "outputs": [
    {
     "data": {
      "text/plain": "\n            Xopt\n________________________________\nVersion: 1.4.0+6.g2a95b36.dirty\nData size: 0\nConfig as YAML:\nxopt: {asynch: false, strict: false, dump_file: dump.yaml, max_evaluations: null}\ngenerator:\n  name: upper_confidence_bound\n  supports_batch_generation: true\n  optimization_options: {raw_samples: 20, num_restarts: 20, sequential: true, max_travel_distances: null,\n    use_turbo: false}\n  model: null\n  turbo_state: null\n  use_cuda: false\n  gp_constructor:\n    name: standard\n    use_low_noise_prior: true\n    covar_modules: {}\n    mean_modules: {}\n    dtype: torch.float64\n    device: cpu\n  acquisition_options: {proximal_lengthscales: null, use_transformed_proximal_weights: true,\n    monte_carlo_samples: 128}\n  beta: 0.1\nevaluator:\n  function: xopt.resources.test_functions.sinusoid_1d.evaluate_sinusoid\n  max_workers: 1\n  function_kwargs: {}\n  vectorized: false\nvocs:\n  variables:\n    x1: [0.0, 6.28]\n  constraints: {}\n  objectives: {y1: MINIMIZE}\n  constants: {}\n  linked_variables: {}\n"
     },
     "execution_count": 3,
     "metadata": {},
     "output_type": "execute_result"
    }
   ],
   "source": [
    "X = Xopt.from_yaml(YAML)\n",
    "X"
   ]
  },
  {
   "cell_type": "markdown",
   "metadata": {},
   "source": [
    "## Run Optimization"
   ]
  },
  {
   "cell_type": "code",
   "execution_count": 4,
   "metadata": {
    "execution": {
     "iopub.execute_input": "2022-07-02T04:15:04.806997Z",
     "iopub.status.busy": "2022-07-02T04:15:04.806907Z",
     "iopub.status.idle": "2022-07-02T04:15:07.873006Z",
     "shell.execute_reply": "2022-07-02T04:15:07.872662Z"
    }
   },
   "outputs": [
    {
     "name": "stdout",
     "output_type": "stream",
     "text": [
      "0\n",
      "1\n",
      "2\n",
      "3\n",
      "4\n"
     ]
    }
   ],
   "source": [
    "X.random_evaluate(3)\n",
    "for i in range(5):\n",
    "    print(i)\n",
    "    X.step()"
   ]
  },
  {
   "cell_type": "markdown",
   "metadata": {
    "collapsed": false
   },
   "source": [
    "## View output data"
   ]
  },
  {
   "cell_type": "code",
   "execution_count": 5,
   "metadata": {
    "collapsed": false,
    "execution": {
     "iopub.execute_input": "2022-07-02T04:15:07.875181Z",
     "iopub.status.busy": "2022-07-02T04:15:07.874844Z",
     "iopub.status.idle": "2022-07-02T04:15:07.879906Z",
     "shell.execute_reply": "2022-07-02T04:15:07.879654Z"
    }
   },
   "outputs": [
    {
     "data": {
      "text/plain": "         x1        y1         c1  xopt_runtime  xopt_error\n1  5.405175 -0.769470 -17.058018      0.000015       False\n2  1.265036  0.953618   0.575416      0.000003       False\n3  2.083095  0.871620   0.119024      0.000003       False\n4  6.280000 -0.003185  -9.554148      0.000014       False\n5  4.836178 -0.992348 -18.775998      0.000009       False\n6  4.723140 -0.999942 -18.502253      0.000010       False\n7  4.709551 -0.999996 -18.500157      0.000011       False\n8  4.713565 -0.999999 -18.500027      0.000009       False",
      "text/html": "<div>\n<style scoped>\n    .dataframe tbody tr th:only-of-type {\n        vertical-align: middle;\n    }\n\n    .dataframe tbody tr th {\n        vertical-align: top;\n    }\n\n    .dataframe thead th {\n        text-align: right;\n    }\n</style>\n<table border=\"1\" class=\"dataframe\">\n  <thead>\n    <tr style=\"text-align: right;\">\n      <th></th>\n      <th>x1</th>\n      <th>y1</th>\n      <th>c1</th>\n      <th>xopt_runtime</th>\n      <th>xopt_error</th>\n    </tr>\n  </thead>\n  <tbody>\n    <tr>\n      <th>1</th>\n      <td>5.405175</td>\n      <td>-0.769470</td>\n      <td>-17.058018</td>\n      <td>0.000015</td>\n      <td>False</td>\n    </tr>\n    <tr>\n      <th>2</th>\n      <td>1.265036</td>\n      <td>0.953618</td>\n      <td>0.575416</td>\n      <td>0.000003</td>\n      <td>False</td>\n    </tr>\n    <tr>\n      <th>3</th>\n      <td>2.083095</td>\n      <td>0.871620</td>\n      <td>0.119024</td>\n      <td>0.000003</td>\n      <td>False</td>\n    </tr>\n    <tr>\n      <th>4</th>\n      <td>6.280000</td>\n      <td>-0.003185</td>\n      <td>-9.554148</td>\n      <td>0.000014</td>\n      <td>False</td>\n    </tr>\n    <tr>\n      <th>5</th>\n      <td>4.836178</td>\n      <td>-0.992348</td>\n      <td>-18.775998</td>\n      <td>0.000009</td>\n      <td>False</td>\n    </tr>\n    <tr>\n      <th>6</th>\n      <td>4.723140</td>\n      <td>-0.999942</td>\n      <td>-18.502253</td>\n      <td>0.000010</td>\n      <td>False</td>\n    </tr>\n    <tr>\n      <th>7</th>\n      <td>4.709551</td>\n      <td>-0.999996</td>\n      <td>-18.500157</td>\n      <td>0.000011</td>\n      <td>False</td>\n    </tr>\n    <tr>\n      <th>8</th>\n      <td>4.713565</td>\n      <td>-0.999999</td>\n      <td>-18.500027</td>\n      <td>0.000009</td>\n      <td>False</td>\n    </tr>\n  </tbody>\n</table>\n</div>"
     },
     "execution_count": 5,
     "metadata": {},
     "output_type": "execute_result"
    }
   ],
   "source": [
    "X.data"
   ]
  },
  {
   "cell_type": "markdown",
   "metadata": {
    "collapsed": false
   },
   "source": [
    "## Visualize model used by upper confidence bound\n",
    "Models are kept in a list, in this case that list has one element, the model\n",
    "created for the objective `y1`.\n"
   ]
  },
  {
   "cell_type": "code",
   "execution_count": 6,
   "metadata": {
    "collapsed": false,
    "execution": {
     "iopub.execute_input": "2022-07-02T04:15:07.881446Z",
     "iopub.status.busy": "2022-07-02T04:15:07.881359Z",
     "iopub.status.idle": "2022-07-02T04:15:07.936006Z",
     "shell.execute_reply": "2022-07-02T04:15:07.935717Z"
    }
   },
   "outputs": [
    {
     "data": {
      "text/plain": "Text(0, 0.5, 'y1')"
     },
     "execution_count": 6,
     "metadata": {},
     "output_type": "execute_result"
    },
    {
     "data": {
      "text/plain": "<Figure size 640x480 with 1 Axes>",
      "image/png": "[encoded data removed]"
     },
     "metadata": {},
     "output_type": "display_data"
    }
   ],
   "source": [
    "model = X.generator.model\n",
    "bounds = X.vocs.bounds\n",
    "\n",
    "test_x = torch.linspace(*bounds.flatten(), 100).double()\n",
    "\n",
    "train_x = torch.tensor(X.data[\"x1\"].to_numpy())\n",
    "train_y = torch.tensor(X.data[\"y1\"].to_numpy())\n",
    "\n",
    "fig, ax = plt.subplots()\n",
    "with torch.no_grad():\n",
    "    post = model.models[0].posterior(test_x.reshape(-1,1,1))\n",
    "    mean = post.mean.flatten()\n",
    "    std = post.variance.sqrt().flatten()\n",
    "\n",
    "    lower = mean - std\n",
    "    upper = mean + std\n",
    "\n",
    "ax.plot(test_x, mean)\n",
    "ax.fill_between(test_x, lower, upper, alpha=0.5)\n",
    "ax.plot(\n",
    "    train_x.flatten(),\n",
    "    train_y.flatten(),\n",
    "    \"+\"\n",
    ")\n",
    "ax.set_xlabel(\"x1\")\n",
    "ax.set_ylabel(\"y1\")\n"
   ]
  },
  {
   "cell_type": "code",
   "execution_count": 7,
   "metadata": {
    "collapsed": false,
    "execution": {
     "iopub.execute_input": "2022-07-02T04:15:07.937539Z",
     "iopub.status.busy": "2022-07-02T04:15:07.937432Z",
     "iopub.status.idle": "2022-07-02T04:15:08.202741Z",
     "shell.execute_reply": "2022-07-02T04:15:08.202032Z"
    }
   },
   "outputs": [
    {
     "name": "stderr",
     "output_type": "stream",
     "text": [
      "'rm' is not recognized as an internal or external command,\n",
      "operable program or batch file.\n"
     ]
    }
   ],
   "source": [
    "# Cleanup\n",
    "!rm dump.yaml"
   ]
  },
  {
   "cell_type": "code",
   "execution_count": 7,
   "outputs": [],
   "source": [],
   "metadata": {
    "collapsed": false
   }
  }
 ],
 "metadata": {
  "kernelspec": {
   "display_name": "Python 3 (ipykernel)",
   "language": "python",
   "name": "python3"
  },
  "language_info": {
   "codemirror_mode": {
    "name": "ipython",
    "version": 3
   },
   "file_extension": ".py",
   "mimetype": "text/x-python",
   "name": "python",
   "nbconvert_exporter": "python",
   "pygments_lexer": "ipython3",
   "version": "3.9.13"
  }
 },
 "nbformat": 4,
 "nbformat_minor": 4
}
