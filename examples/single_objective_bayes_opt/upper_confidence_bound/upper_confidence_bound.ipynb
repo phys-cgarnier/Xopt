{
 "cells": [
  {
   "cell_type": "markdown",
   "metadata": {},
   "source": [
    "# Upper Confidence Bound BO\n"
   ]
  },
  {
   "cell_type": "code",
   "execution_count": 1,
   "metadata": {
    "execution": {
     "iopub.execute_input": "2023-10-20T15:47:30.077304Z",
     "iopub.status.busy": "2023-10-20T15:47:30.076807Z",
     "iopub.status.idle": "2023-10-20T15:47:32.629956Z",
     "shell.execute_reply": "2023-10-20T15:47:32.629195Z"
    }
   },
   "outputs": [],
   "source": [
    "# Ignore all warnings\n",
    "import warnings\n",
    "warnings.filterwarnings(\"ignore\")\n",
    "\n",
    "import torch\n",
    "\n",
    "\n",
    "import matplotlib.pyplot as plt\n",
    "from xopt import Xopt"
   ]
  },
  {
   "cell_type": "markdown",
   "metadata": {},
   "source": [
    "The `Xopt` object can be instantiated from a JSON or YAML file, or a dict, with the proper structure.\n",
    "\n",
    "Here we will make one"
   ]
  },
  {
   "cell_type": "code",
   "execution_count": 2,
   "metadata": {
    "execution": {
     "iopub.execute_input": "2023-10-20T15:47:32.634400Z",
     "iopub.status.busy": "2023-10-20T15:47:32.632990Z",
     "iopub.status.idle": "2023-10-20T15:47:32.638091Z",
     "shell.execute_reply": "2023-10-20T15:47:32.637556Z"
    }
   },
   "outputs": [],
   "source": [
    "# Make a proper input file.\n",
    "YAML = \"\"\"\n",
    "generator:\n",
    "  name: upper_confidence_bound\n",
    "  beta: 0.1\n",
    "\n",
    "evaluator:\n",
    "  function: xopt.resources.test_functions.sinusoid_1d.evaluate_sinusoid\n",
    "\n",
    "vocs:\n",
    "  variables:\n",
    "    x1: [0, 6.28]\n",
    "  objectives:\n",
    "    y1: 'MINIMIZE'\n",
    "\"\"\""
   ]
  },
  {
   "cell_type": "code",
   "execution_count": 3,
   "metadata": {
    "execution": {
     "iopub.execute_input": "2023-10-20T15:47:32.640882Z",
     "iopub.status.busy": "2023-10-20T15:47:32.640356Z",
     "iopub.status.idle": "2023-10-20T15:47:32.663970Z",
     "shell.execute_reply": "2023-10-20T15:47:32.663477Z"
    }
   },
   "outputs": [
    {
     "data": {
      "text/plain": [
       "\n",
       "            Xopt\n",
       "________________________________\n",
       "Version: 0+untagged.1.gf3dd3ce\n",
       "Data size: 0\n",
       "Config as YAML:\n",
       "dump_file: null\n",
       "evaluator:\n",
       "  function: xopt.resources.test_functions.sinusoid_1d.evaluate_sinusoid\n",
       "  function_kwargs: {}\n",
       "  max_workers: 1\n",
       "  vectorized: false\n",
       "generator:\n",
       "  beta: 0.1\n",
       "  computation_time: null\n",
       "  fixed_features: null\n",
       "  gp_constructor:\n",
       "    covar_modules: {}\n",
       "    mean_modules: {}\n",
       "    name: standard\n",
       "    trainable_mean_keys: []\n",
       "    use_low_noise_prior: true\n",
       "  max_travel_distances: null\n",
       "  model: null\n",
       "  n_candidates: 1\n",
       "  n_monte_carlo_samples: 128\n",
       "  name: upper_confidence_bound\n",
       "  numerical_optimizer:\n",
       "    max_iter: 2000\n",
       "    n_restarts: 20\n",
       "    name: LBFGS\n",
       "  turbo_controller: null\n",
       "  use_cuda: false\n",
       "max_evaluations: null\n",
       "serialize_inline: false\n",
       "serialize_torch: false\n",
       "strict: true\n",
       "vocs:\n",
       "  constants: {}\n",
       "  constraints: {}\n",
       "  objectives:\n",
       "    y1: MINIMIZE\n",
       "  observables: []\n",
       "  variables:\n",
       "    x1:\n",
       "    - 0.0\n",
       "    - 6.28\n"
      ]
     },
     "execution_count": 3,
     "metadata": {},
     "output_type": "execute_result"
    }
   ],
   "source": [
    "X = Xopt.from_yaml(YAML)\n",
    "X"
   ]
  },
  {
   "cell_type": "markdown",
   "metadata": {},
   "source": [
    "## Run Optimization"
   ]
  },
  {
   "cell_type": "code",
   "execution_count": 4,
   "metadata": {
    "execution": {
     "iopub.execute_input": "2023-10-20T15:47:32.697847Z",
     "iopub.status.busy": "2023-10-20T15:47:32.697337Z",
     "iopub.status.idle": "2023-10-20T15:47:33.469160Z",
     "shell.execute_reply": "2023-10-20T15:47:33.468650Z"
    }
   },
   "outputs": [
    {
     "name": "stdout",
     "output_type": "stream",
     "text": [
      "0\n",
      "1\n",
      "2\n",
      "3\n",
      "4\n"
     ]
    }
   ],
   "source": [
    "X.random_evaluate(3)\n",
    "for i in range(5):\n",
    "    print(i)\n",
    "    X.step()"
   ]
  },
  {
   "cell_type": "markdown",
   "metadata": {
    "collapsed": false
   },
   "source": [
    "## View output data"
   ]
  },
  {
   "cell_type": "code",
   "execution_count": 5,
   "metadata": {
    "collapsed": false,
    "execution": {
     "iopub.execute_input": "2023-10-20T15:47:33.472983Z",
     "iopub.status.busy": "2023-10-20T15:47:33.471671Z",
     "iopub.status.idle": "2023-10-20T15:47:33.483674Z",
     "shell.execute_reply": "2023-10-20T15:47:33.483183Z"
    }
   },
   "outputs": [
    {
     "data": {
      "text/html": [
       "<div>\n",
       "<style scoped>\n",
       "    .dataframe tbody tr th:only-of-type {\n",
       "        vertical-align: middle;\n",
       "    }\n",
       "\n",
       "    .dataframe tbody tr th {\n",
       "        vertical-align: top;\n",
       "    }\n",
       "\n",
       "    .dataframe thead th {\n",
       "        text-align: right;\n",
       "    }\n",
       "</style>\n",
       "<table border=\"1\" class=\"dataframe\">\n",
       "  <thead>\n",
       "    <tr style=\"text-align: right;\">\n",
       "      <th></th>\n",
       "      <th>x1</th>\n",
       "      <th>y1</th>\n",
       "      <th>c1</th>\n",
       "      <th>xopt_runtime</th>\n",
       "      <th>xopt_error</th>\n",
       "    </tr>\n",
       "  </thead>\n",
       "  <tbody>\n",
       "    <tr>\n",
       "      <th>0</th>\n",
       "      <td>5.949846</td>\n",
       "      <td>-0.327201</td>\n",
       "      <td>-13.495062</td>\n",
       "      <td>0.000025</td>\n",
       "      <td>False</td>\n",
       "    </tr>\n",
       "    <tr>\n",
       "      <th>1</th>\n",
       "      <td>1.695637</td>\n",
       "      <td>0.992217</td>\n",
       "      <td>-0.219676</td>\n",
       "      <td>0.000009</td>\n",
       "      <td>False</td>\n",
       "    </tr>\n",
       "    <tr>\n",
       "      <th>2</th>\n",
       "      <td>1.761614</td>\n",
       "      <td>0.981850</td>\n",
       "      <td>0.085581</td>\n",
       "      <td>0.000005</td>\n",
       "      <td>False</td>\n",
       "    </tr>\n",
       "    <tr>\n",
       "      <th>3</th>\n",
       "      <td>6.280000</td>\n",
       "      <td>-0.003185</td>\n",
       "      <td>-9.554148</td>\n",
       "      <td>0.000015</td>\n",
       "      <td>False</td>\n",
       "    </tr>\n",
       "    <tr>\n",
       "      <th>4</th>\n",
       "      <td>5.054555</td>\n",
       "      <td>-0.942030</td>\n",
       "      <td>-19.654418</td>\n",
       "      <td>0.000014</td>\n",
       "      <td>False</td>\n",
       "    </tr>\n",
       "    <tr>\n",
       "      <th>5</th>\n",
       "      <td>4.741172</td>\n",
       "      <td>-0.999586</td>\n",
       "      <td>-18.516087</td>\n",
       "      <td>0.000013</td>\n",
       "      <td>False</td>\n",
       "    </tr>\n",
       "    <tr>\n",
       "      <th>6</th>\n",
       "      <td>4.705926</td>\n",
       "      <td>-0.999979</td>\n",
       "      <td>-18.500814</td>\n",
       "      <td>0.000015</td>\n",
       "      <td>False</td>\n",
       "    </tr>\n",
       "    <tr>\n",
       "      <th>7</th>\n",
       "      <td>4.711926</td>\n",
       "      <td>-1.000000</td>\n",
       "      <td>-18.500004</td>\n",
       "      <td>0.000014</td>\n",
       "      <td>False</td>\n",
       "    </tr>\n",
       "  </tbody>\n",
       "</table>\n",
       "</div>"
      ],
      "text/plain": [
       "         x1        y1         c1  xopt_runtime  xopt_error\n",
       "0  5.949846 -0.327201 -13.495062      0.000025       False\n",
       "1  1.695637  0.992217  -0.219676      0.000009       False\n",
       "2  1.761614  0.981850   0.085581      0.000005       False\n",
       "3  6.280000 -0.003185  -9.554148      0.000015       False\n",
       "4  5.054555 -0.942030 -19.654418      0.000014       False\n",
       "5  4.741172 -0.999586 -18.516087      0.000013       False\n",
       "6  4.705926 -0.999979 -18.500814      0.000015       False\n",
       "7  4.711926 -1.000000 -18.500004      0.000014       False"
      ]
     },
     "execution_count": 5,
     "metadata": {},
     "output_type": "execute_result"
    }
   ],
   "source": [
    "X.data"
   ]
  },
  {
   "cell_type": "markdown",
   "metadata": {
    "collapsed": false
   },
   "source": [
    "## Visualize model used by upper confidence bound\n",
    "Models are kept in a list, in this case that list has one element, the model\n",
    "created for the objective `y1`.\n"
   ]
  },
  {
   "cell_type": "code",
   "execution_count": 6,
   "metadata": {
    "collapsed": false,
    "execution": {
     "iopub.execute_input": "2023-10-20T15:47:33.487683Z",
     "iopub.status.busy": "2023-10-20T15:47:33.486600Z",
     "iopub.status.idle": "2023-10-20T15:47:33.637404Z",
     "shell.execute_reply": "2023-10-20T15:47:33.636864Z"
    }
   },
   "outputs": [
    {
     "data": {
      "text/plain": [
       "Text(0, 0.5, 'y1')"
      ]
     },
     "execution_count": 6,
     "metadata": {},
     "output_type": "execute_result"
    },
    {
     "data": {
      "image/png": "[encoded data removed]",
      "text/plain": [
       "<Figure size 640x480 with 1 Axes>"
      ]
     },
     "metadata": {},
     "output_type": "display_data"
    }
   ],
   "source": [
    "model = X.generator.model\n",
    "bounds = X.vocs.bounds\n",
    "\n",
    "test_x = torch.linspace(*bounds.flatten(), 100).double()\n",
    "\n",
    "train_x = torch.tensor(X.data[\"x1\"].to_numpy())\n",
    "train_y = torch.tensor(X.data[\"y1\"].to_numpy())\n",
    "\n",
    "fig, ax = plt.subplots()\n",
    "with torch.no_grad():\n",
    "    post = model.models[0].posterior(test_x.reshape(-1,1,1))\n",
    "    mean = post.mean.flatten()\n",
    "    std = post.variance.sqrt().flatten()\n",
    "\n",
    "    lower = mean - std\n",
    "    upper = mean + std\n",
    "\n",
    "ax.plot(test_x, mean)\n",
    "ax.fill_between(test_x, lower, upper, alpha=0.5)\n",
    "ax.plot(\n",
    "    train_x.flatten(),\n",
    "    train_y.flatten(),\n",
    "    \"+\"\n",
    ")\n",
    "ax.set_xlabel(\"x1\")\n",
    "ax.set_ylabel(\"y1\")\n"
   ]
  },
  {
   "cell_type": "code",
   "execution_count": 7,
   "metadata": {
    "collapsed": false,
    "execution": {
     "iopub.execute_input": "2023-10-20T15:47:33.641599Z",
     "iopub.status.busy": "2023-10-20T15:47:33.640512Z",
     "iopub.status.idle": "2023-10-20T15:47:33.805072Z",
     "shell.execute_reply": "2023-10-20T15:47:33.804278Z"
    }
   },
   "outputs": [
    {
     "name": "stdout",
     "output_type": "stream",
     "text": [
      "rm: cannot remove 'dump.yaml': No such file or directory\r\n"
     ]
    }
   ],
   "source": [
    "# Cleanup\n",
    "!rm dump.yaml"
   ]
  },
  {
   "cell_type": "code",
   "execution_count": 7,
   "metadata": {
    "collapsed": false
   },
   "outputs": [],
   "source": []
  }
 ],
 "metadata": {
  "kernelspec": {
   "display_name": "Python 3 (ipykernel)",
   "language": "python",
   "name": "python3"
  },
  "language_info": {
   "codemirror_mode": {
    "name": "ipython",
    "version": 3
   },
   "file_extension": ".py",
   "mimetype": "text/x-python",
   "name": "python",
   "nbconvert_exporter": "python",
   "pygments_lexer": "ipython3",
   "version": "3.9.18"
  }
 },
 "nbformat": 4,
 "nbformat_minor": 4
}
