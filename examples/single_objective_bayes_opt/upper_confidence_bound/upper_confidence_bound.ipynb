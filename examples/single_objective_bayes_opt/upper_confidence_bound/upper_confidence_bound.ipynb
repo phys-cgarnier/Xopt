{
 "cells": [
  {
   "cell_type": "markdown",
   "metadata": {},
   "source": [
    "# Upper Confidence Bound BO\n"
   ]
  },
  {
   "cell_type": "code",
   "execution_count": 1,
   "metadata": {
    "execution": {
     "iopub.execute_input": "2023-06-30T20:02:48.997868Z",
     "iopub.status.busy": "2023-06-30T20:02:48.997084Z",
     "iopub.status.idle": "2023-06-30T20:02:51.480046Z",
     "shell.execute_reply": "2023-06-30T20:02:51.478975Z"
    }
   },
   "outputs": [],
   "source": [
    "# Ignore all warnings\n",
    "import warnings\n",
    "warnings.filterwarnings(\"ignore\")\n",
    "\n",
    "import torch\n",
    "import yaml\n",
    "\n",
    "import matplotlib.pyplot as plt\n",
    "from xopt import Xopt"
   ]
  },
  {
   "cell_type": "markdown",
   "metadata": {},
   "source": [
    "The `Xopt` object can be instantiated from a JSON or YAML file, or a dict, with the proper structure.\n",
    "\n",
    "Here we will make one"
   ]
  },
  {
   "cell_type": "code",
   "execution_count": 2,
   "metadata": {
    "execution": {
     "iopub.execute_input": "2023-06-30T20:02:51.484808Z",
     "iopub.status.busy": "2023-06-30T20:02:51.484369Z",
     "iopub.status.idle": "2023-06-30T20:02:51.493060Z",
     "shell.execute_reply": "2023-06-30T20:02:51.491966Z"
    }
   },
   "outputs": [],
   "source": [
    "# Make a proper input file.\n",
    "YAML = \"\"\"\n",
    "xopt: \n",
    "    dump_file: dump.yaml\n",
    "generator:\n",
    "  name: upper_confidence_bound\n",
    "  beta: 0.1\n",
    "\n",
    "evaluator:\n",
    "  function: xopt.resources.test_functions.sinusoid_1d.evaluate_sinusoid\n",
    "\n",
    "vocs:\n",
    "  variables:\n",
    "    x1: [0, 6.28]\n",
    "  objectives:\n",
    "    y1: 'MINIMIZE'\n",
    "\"\"\"\n",
    "config = yaml.safe_load(YAML)"
   ]
  },
  {
   "cell_type": "code",
   "execution_count": 3,
   "metadata": {
    "execution": {
     "iopub.execute_input": "2023-06-30T20:02:51.496523Z",
     "iopub.status.busy": "2023-06-30T20:02:51.496227Z",
     "iopub.status.idle": "2023-06-30T20:02:51.520901Z",
     "shell.execute_reply": "2023-06-30T20:02:51.519996Z"
    }
   },
   "outputs": [
    {
     "data": {
      "text/plain": [
       "\n",
       "            Xopt\n",
       "________________________________\n",
       "Version: 0+untagged.1.gaab7e5e\n",
       "Data size: 0\n",
       "Config as YAML:\n",
       "xopt: {asynch: false, strict: true, dump_file: dump.yaml, max_evaluations: null}\n",
       "generator:\n",
       "  name: upper_confidence_bound\n",
       "  model: null\n",
       "  turbo_controller: null\n",
       "  use_cuda: false\n",
       "  model_constructor:\n",
       "    name: standard\n",
       "    use_low_noise_prior: true\n",
       "    covar_modules: {}\n",
       "    mean_modules: {}\n",
       "    trainable_mean_keys: []\n",
       "  numerical_optimizer: {name: LBFGS, n_raw_samples: 20, n_restarts: 20, max_iter: 2000}\n",
       "  max_travel_distances: null\n",
       "  n_monte_carlo_samples: 128\n",
       "  beta: 0.1\n",
       "evaluator:\n",
       "  function: xopt.resources.test_functions.sinusoid_1d.evaluate_sinusoid\n",
       "  max_workers: 1\n",
       "  function_kwargs: {}\n",
       "  vectorized: false\n",
       "vocs:\n",
       "  variables:\n",
       "    x1: [0.0, 6.28]\n",
       "  constraints: {}\n",
       "  objectives: {y1: MINIMIZE}\n",
       "  constants: {}\n",
       "  observables: []\n"
      ]
     },
     "execution_count": 3,
     "metadata": {},
     "output_type": "execute_result"
    }
   ],
   "source": [
    "X = Xopt(config=config)\n",
    "X"
   ]
  },
  {
   "cell_type": "markdown",
   "metadata": {},
   "source": [
    "## Run Optimization"
   ]
  },
  {
   "cell_type": "code",
   "execution_count": 4,
   "metadata": {
    "execution": {
     "iopub.execute_input": "2023-06-30T20:02:51.573318Z",
     "iopub.status.busy": "2023-06-30T20:02:51.572345Z",
     "iopub.status.idle": "2023-06-30T20:02:52.965152Z",
     "shell.execute_reply": "2023-06-30T20:02:52.964271Z"
    }
   },
   "outputs": [
    {
     "name": "stdout",
     "output_type": "stream",
     "text": [
      "0\n",
      "1\n",
      "2\n",
      "3\n",
      "4\n"
     ]
    }
   ],
   "source": [
    "X.random_evaluate(3)\n",
    "for i in range(5):\n",
    "    print(i)\n",
    "    X.step()"
   ]
  },
  {
   "cell_type": "markdown",
   "metadata": {
    "collapsed": false
   },
   "source": [
    "## View output data"
   ]
  },
  {
   "cell_type": "code",
   "execution_count": 5,
   "metadata": {
    "collapsed": false,
    "execution": {
     "iopub.execute_input": "2023-06-30T20:02:52.969894Z",
     "iopub.status.busy": "2023-06-30T20:02:52.969536Z",
     "iopub.status.idle": "2023-06-30T20:02:52.985008Z",
     "shell.execute_reply": "2023-06-30T20:02:52.984146Z"
    }
   },
   "outputs": [
    {
     "data": {
      "text/html": [
       "<div>\n",
       "<style scoped>\n",
       "    .dataframe tbody tr th:only-of-type {\n",
       "        vertical-align: middle;\n",
       "    }\n",
       "\n",
       "    .dataframe tbody tr th {\n",
       "        vertical-align: top;\n",
       "    }\n",
       "\n",
       "    .dataframe thead th {\n",
       "        text-align: right;\n",
       "    }\n",
       "</style>\n",
       "<table border=\"1\" class=\"dataframe\">\n",
       "  <thead>\n",
       "    <tr style=\"text-align: right;\">\n",
       "      <th></th>\n",
       "      <th>x1</th>\n",
       "      <th>y1</th>\n",
       "      <th>c1</th>\n",
       "      <th>xopt_runtime</th>\n",
       "      <th>xopt_error</th>\n",
       "    </tr>\n",
       "  </thead>\n",
       "  <tbody>\n",
       "    <tr>\n",
       "      <th>1</th>\n",
       "      <td>5.534124</td>\n",
       "      <td>-0.680952</td>\n",
       "      <td>-15.447239</td>\n",
       "      <td>0.000033</td>\n",
       "      <td>False</td>\n",
       "    </tr>\n",
       "    <tr>\n",
       "      <th>2</th>\n",
       "      <td>0.997597</td>\n",
       "      <td>0.840170</td>\n",
       "      <td>-0.454084</td>\n",
       "      <td>0.000006</td>\n",
       "      <td>False</td>\n",
       "    </tr>\n",
       "    <tr>\n",
       "      <th>3</th>\n",
       "      <td>4.570486</td>\n",
       "      <td>-0.989949</td>\n",
       "      <td>-18.853576</td>\n",
       "      <td>0.000011</td>\n",
       "      <td>False</td>\n",
       "    </tr>\n",
       "    <tr>\n",
       "      <th>4</th>\n",
       "      <td>4.240366</td>\n",
       "      <td>-0.890650</td>\n",
       "      <td>-19.393320</td>\n",
       "      <td>0.000019</td>\n",
       "      <td>False</td>\n",
       "    </tr>\n",
       "    <tr>\n",
       "      <th>5</th>\n",
       "      <td>4.718340</td>\n",
       "      <td>-0.999982</td>\n",
       "      <td>-18.500690</td>\n",
       "      <td>0.000028</td>\n",
       "      <td>False</td>\n",
       "    </tr>\n",
       "    <tr>\n",
       "      <th>6</th>\n",
       "      <td>4.712465</td>\n",
       "      <td>-1.000000</td>\n",
       "      <td>-18.500000</td>\n",
       "      <td>0.000019</td>\n",
       "      <td>False</td>\n",
       "    </tr>\n",
       "    <tr>\n",
       "      <th>7</th>\n",
       "      <td>4.710368</td>\n",
       "      <td>-0.999998</td>\n",
       "      <td>-18.500080</td>\n",
       "      <td>0.000019</td>\n",
       "      <td>False</td>\n",
       "    </tr>\n",
       "    <tr>\n",
       "      <th>8</th>\n",
       "      <td>4.709235</td>\n",
       "      <td>-0.999995</td>\n",
       "      <td>-18.500194</td>\n",
       "      <td>0.000019</td>\n",
       "      <td>False</td>\n",
       "    </tr>\n",
       "  </tbody>\n",
       "</table>\n",
       "</div>"
      ],
      "text/plain": [
       "         x1        y1         c1  xopt_runtime  xopt_error\n",
       "1  5.534124 -0.680952 -15.447239      0.000033       False\n",
       "2  0.997597  0.840170  -0.454084      0.000006       False\n",
       "3  4.570486 -0.989949 -18.853576      0.000011       False\n",
       "4  4.240366 -0.890650 -19.393320      0.000019       False\n",
       "5  4.718340 -0.999982 -18.500690      0.000028       False\n",
       "6  4.712465 -1.000000 -18.500000      0.000019       False\n",
       "7  4.710368 -0.999998 -18.500080      0.000019       False\n",
       "8  4.709235 -0.999995 -18.500194      0.000019       False"
      ]
     },
     "execution_count": 5,
     "metadata": {},
     "output_type": "execute_result"
    }
   ],
   "source": [
    "X.data"
   ]
  },
  {
   "cell_type": "markdown",
   "metadata": {
    "collapsed": false
   },
   "source": [
    "## Visualize model used by upper confidence bound\n",
    "Models are kept in a list, in this case that list has one element, the model\n",
    "created for the objective `y1`.\n"
   ]
  },
  {
   "cell_type": "code",
   "execution_count": 6,
   "metadata": {
    "collapsed": false,
    "execution": {
     "iopub.execute_input": "2023-06-30T20:02:52.989277Z",
     "iopub.status.busy": "2023-06-30T20:02:52.988981Z",
     "iopub.status.idle": "2023-06-30T20:02:53.238532Z",
     "shell.execute_reply": "2023-06-30T20:02:53.237576Z"
    }
   },
   "outputs": [
    {
     "data": {
      "text/plain": [
       "Text(0, 0.5, 'y1')"
      ]
     },
     "execution_count": 6,
     "metadata": {},
     "output_type": "execute_result"
    },
    {
     "data": {
      "image/png": "[encoded data removed]",
      "text/plain": [
       "<Figure size 640x480 with 1 Axes>"
      ]
     },
     "metadata": {},
     "output_type": "display_data"
    }
   ],
   "source": [
    "model = X.generator.model\n",
    "bounds = X.vocs.bounds\n",
    "\n",
    "test_x = torch.linspace(*bounds.flatten(), 100).double()\n",
    "\n",
    "train_x = torch.tensor(X.data[\"x1\"].to_numpy())\n",
    "train_y = torch.tensor(X.data[\"y1\"].to_numpy())\n",
    "\n",
    "fig, ax = plt.subplots()\n",
    "with torch.no_grad():\n",
    "    post = model.models[0].posterior(test_x.reshape(-1,1,1))\n",
    "    mean = post.mean.flatten()\n",
    "    std = post.variance.sqrt().flatten()\n",
    "\n",
    "    lower = mean - std\n",
    "    upper = mean + std\n",
    "\n",
    "ax.plot(test_x, mean)\n",
    "ax.fill_between(test_x, lower, upper, alpha=0.5)\n",
    "ax.plot(\n",
    "    train_x.flatten(),\n",
    "    train_y.flatten(),\n",
    "    \"+\"\n",
    ")\n",
    "ax.set_xlabel(\"x1\")\n",
    "ax.set_ylabel(\"y1\")\n"
   ]
  },
  {
   "cell_type": "code",
   "execution_count": 7,
   "metadata": {
    "collapsed": false,
    "execution": {
     "iopub.execute_input": "2023-06-30T20:02:53.242560Z",
     "iopub.status.busy": "2023-06-30T20:02:53.242266Z",
     "iopub.status.idle": "2023-06-30T20:02:53.406371Z",
     "shell.execute_reply": "2023-06-30T20:02:53.404829Z"
    }
   },
   "outputs": [],
   "source": [
    "# Cleanup\n",
    "!rm dump.yaml"
   ]
  },
  {
   "cell_type": "code",
   "execution_count": 7,
   "metadata": {
    "collapsed": false
   },
   "outputs": [],
   "source": []
  }
 ],
 "metadata": {
  "kernelspec": {
   "display_name": "Python 3 (ipykernel)",
   "language": "python",
   "name": "python3"
  },
  "language_info": {
   "codemirror_mode": {
    "name": "ipython",
    "version": 3
   },
   "file_extension": ".py",
   "mimetype": "text/x-python",
   "name": "python",
   "nbconvert_exporter": "python",
   "pygments_lexer": "ipython3",
   "version": "3.9.16"
  }
 },
 "nbformat": 4,
 "nbformat_minor": 4
}
