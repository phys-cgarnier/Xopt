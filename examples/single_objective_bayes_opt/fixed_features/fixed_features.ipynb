{
 "cells": [
  {
   "cell_type": "markdown",
   "metadata": {
    "collapsed": false
   },
   "source": [
    "# Bayesian optimization with fixed features\n",
    "In some contexts a variable/feature needs to be fixed during optimization. However, we\n",
    "can leverage previous measurements near the fixed variable value to potentially\n",
    "jump-start optimization using observed model covariances established by the GP kernel\n",
    ". In this example, we start with a number of random observations in 2D input space\n",
    "and then proceed with BO at a fixed value for one of the variables. This notebook\n",
    "uses the 2D Rosenbrock test function as an example."
   ]
  },
  {
   "cell_type": "code",
   "execution_count": 1,
   "metadata": {
    "ExecuteTime": {
     "end_time": "2023-07-20T15:54:49.093290800Z",
     "start_time": "2023-07-20T15:54:46.105584900Z"
    },
    "collapsed": false,
    "execution": {
     "iopub.execute_input": "2024-01-29T21:02:38.981889Z",
     "iopub.status.busy": "2024-01-29T21:02:38.981478Z",
     "iopub.status.idle": "2024-01-29T21:02:41.088179Z",
     "shell.execute_reply": "2024-01-29T21:02:41.087496Z"
    }
   },
   "outputs": [
    {
     "data": {
      "text/plain": [
       "\n",
       "            Xopt\n",
       "________________________________\n",
       "Version: 0+untagged.1.g794a67b\n",
       "Data size: 0\n",
       "Config as YAML:\n",
       "dump_file: null\n",
       "evaluator:\n",
       "  function: xopt.resources.test_functions.rosenbrock.evaluate_rosenbrock\n",
       "  function_kwargs:\n",
       "    dummy: 1\n",
       "    label: y\n",
       "  max_workers: 1\n",
       "  vectorized: false\n",
       "generator:\n",
       "  beta: 2.0\n",
       "  computation_time: null\n",
       "  fixed_features:\n",
       "    x0: -1.0\n",
       "  gp_constructor:\n",
       "    covar_modules: {}\n",
       "    mean_modules: {}\n",
       "    name: standard\n",
       "    trainable_mean_keys: []\n",
       "    use_low_noise_prior: true\n",
       "  log_transform_acquisition_function: false\n",
       "  max_travel_distances: null\n",
       "  model: null\n",
       "  n_candidates: 1\n",
       "  n_interpolate_points: null\n",
       "  n_monte_carlo_samples: 128\n",
       "  name: upper_confidence_bound\n",
       "  numerical_optimizer:\n",
       "    max_iter: 2000\n",
       "    max_time: null\n",
       "    n_restarts: 20\n",
       "    name: LBFGS\n",
       "  supports_batch_generation: true\n",
       "  turbo_controller: null\n",
       "  use_cuda: false\n",
       "max_evaluations: null\n",
       "serialize_inline: false\n",
       "serialize_torch: false\n",
       "strict: true\n",
       "vocs:\n",
       "  constants: {}\n",
       "  constraints: {}\n",
       "  objectives:\n",
       "    y: MINIMIZE\n",
       "  observables: []\n",
       "  variables:\n",
       "    x0:\n",
       "    - -2.0\n",
       "    - 2.0\n",
       "    x1:\n",
       "    - -2.0\n",
       "    - 2.0\n"
      ]
     },
     "execution_count": 1,
     "metadata": {},
     "output_type": "execute_result"
    }
   ],
   "source": [
    "# set values if testing\n",
    "import os\n",
    "SMOKE_TEST = os.environ.get(\"SMOKE_TEST\")\n",
    "NUM_MC_SAMPLES = 1 if SMOKE_TEST else 128\n",
    "NUM_RESTARTS = 1 if SMOKE_TEST else 20\n",
    "\n",
    "# Ignore all warnings\n",
    "import warnings\n",
    "warnings.filterwarnings(\"ignore\")\n",
    "\n",
    "from xopt import Xopt, Evaluator\n",
    "from xopt.generators.bayesian import UpperConfidenceBoundGenerator\n",
    "from xopt.resources.test_functions.rosenbrock import evaluate_rosenbrock,make_rosenbrock_vocs\n",
    "\n",
    "# make rosenbrock function vocs in 2D\n",
    "vocs = make_rosenbrock_vocs(2)\n",
    "\n",
    "# define a fixed value for the BO generator\n",
    "fixed_features = {\"x0\":-1.0}\n",
    "generator = UpperConfidenceBoundGenerator(\n",
    "    vocs=vocs, fixed_features=fixed_features\n",
    ")\n",
    "generator.numerical_optimizer.n_restarts = NUM_RESTARTS\n",
    "generator.n_monte_carlo_samples = NUM_MC_SAMPLES\n",
    "\n",
    "evaluator = Evaluator(function=evaluate_rosenbrock)\n",
    "\n",
    "X = Xopt(generator=generator, evaluator=evaluator, vocs=vocs)\n",
    "X"
   ]
  },
  {
   "cell_type": "markdown",
   "metadata": {
    "collapsed": false
   },
   "source": [
    "## Generate some initial random samples in 2D space"
   ]
  },
  {
   "cell_type": "code",
   "execution_count": 2,
   "metadata": {
    "ExecuteTime": {
     "end_time": "2023-07-20T15:54:49.152269Z",
     "start_time": "2023-07-20T15:54:49.095269600Z"
    },
    "collapsed": false,
    "execution": {
     "iopub.execute_input": "2024-01-29T21:02:41.119097Z",
     "iopub.status.busy": "2024-01-29T21:02:41.118782Z",
     "iopub.status.idle": "2024-01-29T21:02:41.131179Z",
     "shell.execute_reply": "2024-01-29T21:02:41.130653Z"
    }
   },
   "outputs": [
    {
     "data": {
      "text/html": [
       "<div>\n",
       "<style scoped>\n",
       "    .dataframe tbody tr th:only-of-type {\n",
       "        vertical-align: middle;\n",
       "    }\n",
       "\n",
       "    .dataframe tbody tr th {\n",
       "        vertical-align: top;\n",
       "    }\n",
       "\n",
       "    .dataframe thead th {\n",
       "        text-align: right;\n",
       "    }\n",
       "</style>\n",
       "<table border=\"1\" class=\"dataframe\">\n",
       "  <thead>\n",
       "    <tr style=\"text-align: right;\">\n",
       "      <th></th>\n",
       "      <th>x0</th>\n",
       "      <th>x1</th>\n",
       "      <th>y</th>\n",
       "      <th>xopt_runtime</th>\n",
       "      <th>xopt_error</th>\n",
       "    </tr>\n",
       "  </thead>\n",
       "  <tbody>\n",
       "    <tr>\n",
       "      <th>0</th>\n",
       "      <td>-1.259702</td>\n",
       "      <td>1.293165</td>\n",
       "      <td>13.731226</td>\n",
       "      <td>0.000012</td>\n",
       "      <td>False</td>\n",
       "    </tr>\n",
       "    <tr>\n",
       "      <th>1</th>\n",
       "      <td>1.085382</td>\n",
       "      <td>0.998910</td>\n",
       "      <td>3.216546</td>\n",
       "      <td>0.000004</td>\n",
       "      <td>False</td>\n",
       "    </tr>\n",
       "    <tr>\n",
       "      <th>2</th>\n",
       "      <td>1.244155</td>\n",
       "      <td>0.372514</td>\n",
       "      <td>138.218280</td>\n",
       "      <td>0.000003</td>\n",
       "      <td>False</td>\n",
       "    </tr>\n",
       "    <tr>\n",
       "      <th>3</th>\n",
       "      <td>0.083930</td>\n",
       "      <td>1.875227</td>\n",
       "      <td>349.849918</td>\n",
       "      <td>0.000003</td>\n",
       "      <td>False</td>\n",
       "    </tr>\n",
       "    <tr>\n",
       "      <th>4</th>\n",
       "      <td>0.682518</td>\n",
       "      <td>-0.066147</td>\n",
       "      <td>28.400816</td>\n",
       "      <td>0.000002</td>\n",
       "      <td>False</td>\n",
       "    </tr>\n",
       "    <tr>\n",
       "      <th>5</th>\n",
       "      <td>-1.562172</td>\n",
       "      <td>-1.336534</td>\n",
       "      <td>1433.074558</td>\n",
       "      <td>0.000002</td>\n",
       "      <td>False</td>\n",
       "    </tr>\n",
       "    <tr>\n",
       "      <th>6</th>\n",
       "      <td>0.804961</td>\n",
       "      <td>-0.508180</td>\n",
       "      <td>133.704513</td>\n",
       "      <td>0.000003</td>\n",
       "      <td>False</td>\n",
       "    </tr>\n",
       "    <tr>\n",
       "      <th>7</th>\n",
       "      <td>-0.697548</td>\n",
       "      <td>-0.960033</td>\n",
       "      <td>212.148663</td>\n",
       "      <td>0.000002</td>\n",
       "      <td>False</td>\n",
       "    </tr>\n",
       "    <tr>\n",
       "      <th>8</th>\n",
       "      <td>-0.618162</td>\n",
       "      <td>-0.672290</td>\n",
       "      <td>113.797434</td>\n",
       "      <td>0.000002</td>\n",
       "      <td>False</td>\n",
       "    </tr>\n",
       "    <tr>\n",
       "      <th>9</th>\n",
       "      <td>1.849120</td>\n",
       "      <td>1.291117</td>\n",
       "      <td>453.614502</td>\n",
       "      <td>0.000002</td>\n",
       "      <td>False</td>\n",
       "    </tr>\n",
       "  </tbody>\n",
       "</table>\n",
       "</div>"
      ],
      "text/plain": [
       "         x0        x1            y  xopt_runtime  xopt_error\n",
       "0 -1.259702  1.293165    13.731226      0.000012       False\n",
       "1  1.085382  0.998910     3.216546      0.000004       False\n",
       "2  1.244155  0.372514   138.218280      0.000003       False\n",
       "3  0.083930  1.875227   349.849918      0.000003       False\n",
       "4  0.682518 -0.066147    28.400816      0.000002       False\n",
       "5 -1.562172 -1.336534  1433.074558      0.000002       False\n",
       "6  0.804961 -0.508180   133.704513      0.000003       False\n",
       "7 -0.697548 -0.960033   212.148663      0.000002       False\n",
       "8 -0.618162 -0.672290   113.797434      0.000002       False\n",
       "9  1.849120  1.291117   453.614502      0.000002       False"
      ]
     },
     "execution_count": 2,
     "metadata": {},
     "output_type": "execute_result"
    }
   ],
   "source": [
    "X.random_evaluate(10)"
   ]
  },
  {
   "cell_type": "markdown",
   "metadata": {
    "collapsed": false
   },
   "source": [
    "## Run BO steps with fixed features"
   ]
  },
  {
   "cell_type": "code",
   "execution_count": 3,
   "metadata": {
    "ExecuteTime": {
     "end_time": "2023-07-20T15:54:50.297115900Z",
     "start_time": "2023-07-20T15:54:49.111268800Z"
    },
    "collapsed": false,
    "execution": {
     "iopub.execute_input": "2024-01-29T21:02:41.133536Z",
     "iopub.status.busy": "2024-01-29T21:02:41.133195Z",
     "iopub.status.idle": "2024-01-29T21:02:41.759411Z",
     "shell.execute_reply": "2024-01-29T21:02:41.758829Z"
    }
   },
   "outputs": [],
   "source": [
    "for i in range(5):\n",
    "    X.step()"
   ]
  },
  {
   "cell_type": "code",
   "execution_count": 4,
   "metadata": {
    "ExecuteTime": {
     "end_time": "2023-07-20T15:54:50.313116800Z",
     "start_time": "2023-07-20T15:54:50.298116300Z"
    },
    "collapsed": false,
    "execution": {
     "iopub.execute_input": "2024-01-29T21:02:41.762291Z",
     "iopub.status.busy": "2024-01-29T21:02:41.761868Z",
     "iopub.status.idle": "2024-01-29T21:02:41.771283Z",
     "shell.execute_reply": "2024-01-29T21:02:41.770726Z"
    }
   },
   "outputs": [
    {
     "data": {
      "text/html": [
       "<div>\n",
       "<style scoped>\n",
       "    .dataframe tbody tr th:only-of-type {\n",
       "        vertical-align: middle;\n",
       "    }\n",
       "\n",
       "    .dataframe tbody tr th {\n",
       "        vertical-align: top;\n",
       "    }\n",
       "\n",
       "    .dataframe thead th {\n",
       "        text-align: right;\n",
       "    }\n",
       "</style>\n",
       "<table border=\"1\" class=\"dataframe\">\n",
       "  <thead>\n",
       "    <tr style=\"text-align: right;\">\n",
       "      <th></th>\n",
       "      <th>x0</th>\n",
       "      <th>x1</th>\n",
       "      <th>y</th>\n",
       "      <th>xopt_runtime</th>\n",
       "      <th>xopt_error</th>\n",
       "    </tr>\n",
       "  </thead>\n",
       "  <tbody>\n",
       "    <tr>\n",
       "      <th>0</th>\n",
       "      <td>-1.259702</td>\n",
       "      <td>1.293165</td>\n",
       "      <td>13.731226</td>\n",
       "      <td>0.000012</td>\n",
       "      <td>False</td>\n",
       "    </tr>\n",
       "    <tr>\n",
       "      <th>1</th>\n",
       "      <td>1.085382</td>\n",
       "      <td>0.998910</td>\n",
       "      <td>3.216546</td>\n",
       "      <td>0.000004</td>\n",
       "      <td>False</td>\n",
       "    </tr>\n",
       "    <tr>\n",
       "      <th>2</th>\n",
       "      <td>1.244155</td>\n",
       "      <td>0.372514</td>\n",
       "      <td>138.218280</td>\n",
       "      <td>0.000003</td>\n",
       "      <td>False</td>\n",
       "    </tr>\n",
       "    <tr>\n",
       "      <th>3</th>\n",
       "      <td>0.083930</td>\n",
       "      <td>1.875227</td>\n",
       "      <td>349.849918</td>\n",
       "      <td>0.000003</td>\n",
       "      <td>False</td>\n",
       "    </tr>\n",
       "    <tr>\n",
       "      <th>4</th>\n",
       "      <td>0.682518</td>\n",
       "      <td>-0.066147</td>\n",
       "      <td>28.400816</td>\n",
       "      <td>0.000002</td>\n",
       "      <td>False</td>\n",
       "    </tr>\n",
       "    <tr>\n",
       "      <th>5</th>\n",
       "      <td>-1.562172</td>\n",
       "      <td>-1.336534</td>\n",
       "      <td>1433.074558</td>\n",
       "      <td>0.000002</td>\n",
       "      <td>False</td>\n",
       "    </tr>\n",
       "    <tr>\n",
       "      <th>6</th>\n",
       "      <td>0.804961</td>\n",
       "      <td>-0.508180</td>\n",
       "      <td>133.704513</td>\n",
       "      <td>0.000003</td>\n",
       "      <td>False</td>\n",
       "    </tr>\n",
       "    <tr>\n",
       "      <th>7</th>\n",
       "      <td>-0.697548</td>\n",
       "      <td>-0.960033</td>\n",
       "      <td>212.148663</td>\n",
       "      <td>0.000002</td>\n",
       "      <td>False</td>\n",
       "    </tr>\n",
       "    <tr>\n",
       "      <th>8</th>\n",
       "      <td>-0.618162</td>\n",
       "      <td>-0.672290</td>\n",
       "      <td>113.797434</td>\n",
       "      <td>0.000002</td>\n",
       "      <td>False</td>\n",
       "    </tr>\n",
       "    <tr>\n",
       "      <th>9</th>\n",
       "      <td>1.849120</td>\n",
       "      <td>1.291117</td>\n",
       "      <td>453.614502</td>\n",
       "      <td>0.000002</td>\n",
       "      <td>False</td>\n",
       "    </tr>\n",
       "    <tr>\n",
       "      <th>10</th>\n",
       "      <td>-1.000000</td>\n",
       "      <td>2.000000</td>\n",
       "      <td>104.000000</td>\n",
       "      <td>0.000009</td>\n",
       "      <td>False</td>\n",
       "    </tr>\n",
       "    <tr>\n",
       "      <th>11</th>\n",
       "      <td>-1.000000</td>\n",
       "      <td>0.919817</td>\n",
       "      <td>4.642929</td>\n",
       "      <td>0.000007</td>\n",
       "      <td>False</td>\n",
       "    </tr>\n",
       "    <tr>\n",
       "      <th>12</th>\n",
       "      <td>-1.000000</td>\n",
       "      <td>1.338106</td>\n",
       "      <td>15.431580</td>\n",
       "      <td>0.000010</td>\n",
       "      <td>False</td>\n",
       "    </tr>\n",
       "    <tr>\n",
       "      <th>13</th>\n",
       "      <td>-1.000000</td>\n",
       "      <td>1.073411</td>\n",
       "      <td>4.538924</td>\n",
       "      <td>0.000008</td>\n",
       "      <td>False</td>\n",
       "    </tr>\n",
       "    <tr>\n",
       "      <th>14</th>\n",
       "      <td>-1.000000</td>\n",
       "      <td>1.045595</td>\n",
       "      <td>4.207888</td>\n",
       "      <td>0.000007</td>\n",
       "      <td>False</td>\n",
       "    </tr>\n",
       "  </tbody>\n",
       "</table>\n",
       "</div>"
      ],
      "text/plain": [
       "          x0        x1            y  xopt_runtime  xopt_error\n",
       "0  -1.259702  1.293165    13.731226      0.000012       False\n",
       "1   1.085382  0.998910     3.216546      0.000004       False\n",
       "2   1.244155  0.372514   138.218280      0.000003       False\n",
       "3   0.083930  1.875227   349.849918      0.000003       False\n",
       "4   0.682518 -0.066147    28.400816      0.000002       False\n",
       "5  -1.562172 -1.336534  1433.074558      0.000002       False\n",
       "6   0.804961 -0.508180   133.704513      0.000003       False\n",
       "7  -0.697548 -0.960033   212.148663      0.000002       False\n",
       "8  -0.618162 -0.672290   113.797434      0.000002       False\n",
       "9   1.849120  1.291117   453.614502      0.000002       False\n",
       "10 -1.000000  2.000000   104.000000      0.000009       False\n",
       "11 -1.000000  0.919817     4.642929      0.000007       False\n",
       "12 -1.000000  1.338106    15.431580      0.000010       False\n",
       "13 -1.000000  1.073411     4.538924      0.000008       False\n",
       "14 -1.000000  1.045595     4.207888      0.000007       False"
      ]
     },
     "execution_count": 4,
     "metadata": {},
     "output_type": "execute_result"
    }
   ],
   "source": [
    "X.data"
   ]
  },
  {
   "cell_type": "markdown",
   "metadata": {
    "collapsed": false
   },
   "source": [
    "## Visualize model and evaluations\n",
    "Note that for the BO samples, they all are on the line $x_0=-1$"
   ]
  },
  {
   "cell_type": "code",
   "execution_count": 5,
   "metadata": {
    "ExecuteTime": {
     "end_time": "2023-07-20T15:54:51.452829500Z",
     "start_time": "2023-07-20T15:54:50.313116800Z"
    },
    "collapsed": false,
    "execution": {
     "iopub.execute_input": "2024-01-29T21:02:41.773590Z",
     "iopub.status.busy": "2024-01-29T21:02:41.773412Z",
     "iopub.status.idle": "2024-01-29T21:02:42.435432Z",
     "shell.execute_reply": "2024-01-29T21:02:42.434839Z"
    }
   },
   "outputs": [
    {
     "data": {
      "image/png": "[encoded data removed]",
      "text/plain": [
       "<Figure size 640x480 with 2 Axes>"
      ]
     },
     "metadata": {},
     "output_type": "display_data"
    }
   ],
   "source": [
    "from matplotlib import pyplot as plt  # plot model predictions\n",
    "import torch\n",
    "data = X.data\n",
    "\n",
    "bounds = X.generator.vocs.bounds\n",
    "model = X.generator.train_model(generator.data)\n",
    "\n",
    "# create mesh\n",
    "n = 100\n",
    "x = torch.linspace(*bounds.T[0], n)\n",
    "y = torch.linspace(*bounds.T[1], n)\n",
    "xx, yy = torch.meshgrid(x, y)\n",
    "pts = torch.hstack([ele.reshape(-1, 1) for ele in (xx, yy)]).double()\n",
    "\n",
    "xx,yy = xx.numpy(), yy.numpy()\n",
    "\n",
    "outputs = generator.vocs.output_names\n",
    "with torch.no_grad():\n",
    "    post = model.posterior(pts)\n",
    "\n",
    "    for i in range(len(vocs.output_names)):\n",
    "        mean = post.mean[...,i]\n",
    "        fig, ax = plt.subplots()\n",
    "        ax.plot(*data[[\"x0\", \"x1\"]].to_numpy()[:10].T, \"+C1\",\n",
    "                label=\"random samples\",\n",
    "                zorder=10\n",
    "                )\n",
    "        ax.plot(*data[[\"x0\", \"x1\"]].to_numpy()[10:].T, \"+C3\",\n",
    "                label=\"GP samples\",\n",
    "                zorder=10)\n",
    "\n",
    "\n",
    "        c = ax.pcolor(\n",
    "            xx, yy, mean.squeeze().reshape(n, n)\n",
    "        )\n",
    "        fig.colorbar(c)\n",
    "        ax.set_title(f\"Posterior mean: {outputs[i]}\")\n",
    "        ax.axvline(-1.0,ls=\"--\")\n",
    "        ax.set_xlabel(\"x0\")\n",
    "        ax.set_ylabel(\"x1\")\n",
    "        ax.legend()"
   ]
  },
  {
   "cell_type": "code",
   "execution_count": 5,
   "metadata": {
    "ExecuteTime": {
     "end_time": "2023-07-20T15:54:51.469290700Z",
     "start_time": "2023-07-20T15:54:51.454828700Z"
    },
    "collapsed": false
   },
   "outputs": [],
   "source": []
  }
 ],
 "metadata": {
  "kernelspec": {
   "display_name": "Python 3",
   "language": "python",
   "name": "python3"
  },
  "language_info": {
   "codemirror_mode": {
    "name": "ipython",
    "version": 3
   },
   "file_extension": ".py",
   "mimetype": "text/x-python",
   "name": "python",
   "nbconvert_exporter": "python",
   "pygments_lexer": "ipython3",
   "version": "3.9.18"
  }
 },
 "nbformat": 4,
 "nbformat_minor": 0
}
