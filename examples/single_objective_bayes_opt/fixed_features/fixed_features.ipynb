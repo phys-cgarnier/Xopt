{
 "cells": [
  {
   "cell_type": "markdown",
   "metadata": {
    "collapsed": false
   },
   "source": [
    "# Bayesian optimization with fixed features\n",
    "In some contexts a variable/feature needs to be fixed during optimization. However, we\n",
    "can leverage previous measurements near the fixed variable value to potentially\n",
    "jump-start optimization using observed model covariances established by the GP kernel\n",
    ". In this example, we start with a number of random observations in 2D input space\n",
    "and then proceed with BO at a fixed value for one of the variables. This notebook\n",
    "uses the 2D Rosenbrock test function as an example."
   ]
  },
  {
   "cell_type": "code",
   "execution_count": 1,
   "metadata": {
    "ExecuteTime": {
     "end_time": "2023-07-20T15:54:49.093290800Z",
     "start_time": "2023-07-20T15:54:46.105584900Z"
    },
    "collapsed": false,
    "execution": {
     "iopub.execute_input": "2023-07-27T16:41:35.404193Z",
     "iopub.status.busy": "2023-07-27T16:41:35.403915Z",
     "iopub.status.idle": "2023-07-27T16:41:37.863460Z",
     "shell.execute_reply": "2023-07-27T16:41:37.862663Z"
    }
   },
   "outputs": [
    {
     "data": {
      "text/plain": [
       "\n",
       "            Xopt\n",
       "________________________________\n",
       "Version: 0+untagged.1.g5bf8d78\n",
       "Data size: 0\n",
       "Config as YAML:\n",
       "xopt: {asynch: false, strict: true, dump_file: null, max_evaluations: null}\n",
       "generator:\n",
       "  name: upper_confidence_bound\n",
       "  model: null\n",
       "  turbo_controller: null\n",
       "  use_cuda: false\n",
       "  model_constructor:\n",
       "    name: standard\n",
       "    use_low_noise_prior: true\n",
       "    covar_modules: {}\n",
       "    mean_modules: {}\n",
       "    trainable_mean_keys: []\n",
       "  numerical_optimizer: {name: LBFGS, n_raw_samples: 20, n_restarts: 20, max_iter: 2000}\n",
       "  max_travel_distances: null\n",
       "  fixed_features: {x0: -1.0}\n",
       "  n_monte_carlo_samples: 128\n",
       "  beta: 2.0\n",
       "evaluator:\n",
       "  function: xopt.resources.test_functions.rosenbrock.evaluate_rosenbrock\n",
       "  max_workers: 1\n",
       "  function_kwargs: {label: y, dummy: 1}\n",
       "  vectorized: false\n",
       "vocs:\n",
       "  variables:\n",
       "    x0: [-2.0, 2.0]\n",
       "    x1: [-2.0, 2.0]\n",
       "  constraints: {}\n",
       "  objectives: {y: MINIMIZE}\n",
       "  constants: {}\n",
       "  observables: []\n"
      ]
     },
     "execution_count": 1,
     "metadata": {},
     "output_type": "execute_result"
    }
   ],
   "source": [
    "# set values if testing\n",
    "import os\n",
    "SMOKE_TEST = os.environ.get(\"SMOKE_TEST\")\n",
    "NUM_MC_SAMPLES = 1 if SMOKE_TEST else 128\n",
    "NUM_RESTARTS = 1 if SMOKE_TEST else 20\n",
    "\n",
    "# Ignore all warnings\n",
    "import warnings\n",
    "warnings.filterwarnings(\"ignore\")\n",
    "\n",
    "from xopt import Xopt, Evaluator\n",
    "from xopt.generators.bayesian import UpperConfidenceBoundGenerator\n",
    "from xopt.resources.test_functions.rosenbrock import evaluate_rosenbrock,make_rosenbrock_vocs\n",
    "\n",
    "# make rosenbrock function vocs in 2D\n",
    "vocs = make_rosenbrock_vocs(2)\n",
    "\n",
    "# define a fixed value for the BO generator\n",
    "fixed_features = {\"x0\":-1.0}\n",
    "generator = UpperConfidenceBoundGenerator(\n",
    "    vocs=vocs, fixed_features=fixed_features\n",
    ")\n",
    "generator.numerical_optimizer.n_restarts = NUM_RESTARTS\n",
    "generator.n_monte_carlo_samples = NUM_MC_SAMPLES\n",
    "\n",
    "evaluator = Evaluator(function=evaluate_rosenbrock)\n",
    "\n",
    "X = Xopt(generator=generator, evaluator=evaluator, vocs=vocs)\n",
    "X"
   ]
  },
  {
   "cell_type": "markdown",
   "metadata": {
    "collapsed": false
   },
   "source": [
    "## Generate some initial random samples in 2D space"
   ]
  },
  {
   "cell_type": "code",
   "execution_count": 2,
   "metadata": {
    "ExecuteTime": {
     "end_time": "2023-07-20T15:54:49.152269Z",
     "start_time": "2023-07-20T15:54:49.095269600Z"
    },
    "collapsed": false,
    "execution": {
     "iopub.execute_input": "2023-07-27T16:41:37.909411Z",
     "iopub.status.busy": "2023-07-27T16:41:37.908437Z",
     "iopub.status.idle": "2023-07-27T16:41:37.932798Z",
     "shell.execute_reply": "2023-07-27T16:41:37.931942Z"
    }
   },
   "outputs": [
    {
     "data": {
      "text/html": [
       "<div>\n",
       "<style scoped>\n",
       "    .dataframe tbody tr th:only-of-type {\n",
       "        vertical-align: middle;\n",
       "    }\n",
       "\n",
       "    .dataframe tbody tr th {\n",
       "        vertical-align: top;\n",
       "    }\n",
       "\n",
       "    .dataframe thead th {\n",
       "        text-align: right;\n",
       "    }\n",
       "</style>\n",
       "<table border=\"1\" class=\"dataframe\">\n",
       "  <thead>\n",
       "    <tr style=\"text-align: right;\">\n",
       "      <th></th>\n",
       "      <th>x0</th>\n",
       "      <th>x1</th>\n",
       "      <th>y</th>\n",
       "      <th>xopt_runtime</th>\n",
       "      <th>xopt_error</th>\n",
       "    </tr>\n",
       "  </thead>\n",
       "  <tbody>\n",
       "    <tr>\n",
       "      <th>1</th>\n",
       "      <td>0.224837</td>\n",
       "      <td>-0.081608</td>\n",
       "      <td>2.347505</td>\n",
       "      <td>0.000018</td>\n",
       "      <td>False</td>\n",
       "    </tr>\n",
       "    <tr>\n",
       "      <th>2</th>\n",
       "      <td>1.737696</td>\n",
       "      <td>1.249449</td>\n",
       "      <td>313.882851</td>\n",
       "      <td>0.000008</td>\n",
       "      <td>False</td>\n",
       "    </tr>\n",
       "    <tr>\n",
       "      <th>3</th>\n",
       "      <td>1.448899</td>\n",
       "      <td>0.556606</td>\n",
       "      <td>238.194286</td>\n",
       "      <td>0.000003</td>\n",
       "      <td>False</td>\n",
       "    </tr>\n",
       "    <tr>\n",
       "      <th>4</th>\n",
       "      <td>0.895649</td>\n",
       "      <td>-1.932282</td>\n",
       "      <td>747.742994</td>\n",
       "      <td>0.000003</td>\n",
       "      <td>False</td>\n",
       "    </tr>\n",
       "    <tr>\n",
       "      <th>5</th>\n",
       "      <td>-1.370085</td>\n",
       "      <td>1.520070</td>\n",
       "      <td>18.366689</td>\n",
       "      <td>0.000003</td>\n",
       "      <td>False</td>\n",
       "    </tr>\n",
       "    <tr>\n",
       "      <th>6</th>\n",
       "      <td>-0.375175</td>\n",
       "      <td>-0.783861</td>\n",
       "      <td>87.382817</td>\n",
       "      <td>0.000003</td>\n",
       "      <td>False</td>\n",
       "    </tr>\n",
       "    <tr>\n",
       "      <th>7</th>\n",
       "      <td>-1.735929</td>\n",
       "      <td>-0.747799</td>\n",
       "      <td>1422.183270</td>\n",
       "      <td>0.000003</td>\n",
       "      <td>False</td>\n",
       "    </tr>\n",
       "    <tr>\n",
       "      <th>8</th>\n",
       "      <td>1.794082</td>\n",
       "      <td>-1.115658</td>\n",
       "      <td>1879.322161</td>\n",
       "      <td>0.000003</td>\n",
       "      <td>False</td>\n",
       "    </tr>\n",
       "    <tr>\n",
       "      <th>9</th>\n",
       "      <td>-1.345740</td>\n",
       "      <td>-1.654790</td>\n",
       "      <td>1206.684524</td>\n",
       "      <td>0.000003</td>\n",
       "      <td>False</td>\n",
       "    </tr>\n",
       "    <tr>\n",
       "      <th>10</th>\n",
       "      <td>0.144985</td>\n",
       "      <td>1.825636</td>\n",
       "      <td>326.394525</td>\n",
       "      <td>0.000003</td>\n",
       "      <td>False</td>\n",
       "    </tr>\n",
       "  </tbody>\n",
       "</table>\n",
       "</div>"
      ],
      "text/plain": [
       "          x0        x1            y  xopt_runtime  xopt_error\n",
       "1   0.224837 -0.081608     2.347505      0.000018       False\n",
       "2   1.737696  1.249449   313.882851      0.000008       False\n",
       "3   1.448899  0.556606   238.194286      0.000003       False\n",
       "4   0.895649 -1.932282   747.742994      0.000003       False\n",
       "5  -1.370085  1.520070    18.366689      0.000003       False\n",
       "6  -0.375175 -0.783861    87.382817      0.000003       False\n",
       "7  -1.735929 -0.747799  1422.183270      0.000003       False\n",
       "8   1.794082 -1.115658  1879.322161      0.000003       False\n",
       "9  -1.345740 -1.654790  1206.684524      0.000003       False\n",
       "10  0.144985  1.825636   326.394525      0.000003       False"
      ]
     },
     "execution_count": 2,
     "metadata": {},
     "output_type": "execute_result"
    }
   ],
   "source": [
    "X.random_evaluate(10)"
   ]
  },
  {
   "cell_type": "markdown",
   "metadata": {
    "collapsed": false
   },
   "source": [
    "## Run BO steps with fixed features"
   ]
  },
  {
   "cell_type": "code",
   "execution_count": 3,
   "metadata": {
    "ExecuteTime": {
     "end_time": "2023-07-20T15:54:50.297115900Z",
     "start_time": "2023-07-20T15:54:49.111268800Z"
    },
    "collapsed": false,
    "execution": {
     "iopub.execute_input": "2023-07-27T16:41:37.936261Z",
     "iopub.status.busy": "2023-07-27T16:41:37.935868Z",
     "iopub.status.idle": "2023-07-27T16:41:39.275551Z",
     "shell.execute_reply": "2023-07-27T16:41:39.274687Z"
    }
   },
   "outputs": [],
   "source": [
    "for i in range(5):\n",
    "    X.step()"
   ]
  },
  {
   "cell_type": "code",
   "execution_count": 4,
   "metadata": {
    "ExecuteTime": {
     "end_time": "2023-07-20T15:54:50.313116800Z",
     "start_time": "2023-07-20T15:54:50.298116300Z"
    },
    "collapsed": false,
    "execution": {
     "iopub.execute_input": "2023-07-27T16:41:39.280183Z",
     "iopub.status.busy": "2023-07-27T16:41:39.279314Z",
     "iopub.status.idle": "2023-07-27T16:41:39.291757Z",
     "shell.execute_reply": "2023-07-27T16:41:39.290951Z"
    }
   },
   "outputs": [
    {
     "data": {
      "text/html": [
       "<div>\n",
       "<style scoped>\n",
       "    .dataframe tbody tr th:only-of-type {\n",
       "        vertical-align: middle;\n",
       "    }\n",
       "\n",
       "    .dataframe tbody tr th {\n",
       "        vertical-align: top;\n",
       "    }\n",
       "\n",
       "    .dataframe thead th {\n",
       "        text-align: right;\n",
       "    }\n",
       "</style>\n",
       "<table border=\"1\" class=\"dataframe\">\n",
       "  <thead>\n",
       "    <tr style=\"text-align: right;\">\n",
       "      <th></th>\n",
       "      <th>x0</th>\n",
       "      <th>x1</th>\n",
       "      <th>y</th>\n",
       "      <th>xopt_runtime</th>\n",
       "      <th>xopt_error</th>\n",
       "    </tr>\n",
       "  </thead>\n",
       "  <tbody>\n",
       "    <tr>\n",
       "      <th>1</th>\n",
       "      <td>0.224837</td>\n",
       "      <td>-0.081608</td>\n",
       "      <td>2.347505</td>\n",
       "      <td>0.000018</td>\n",
       "      <td>False</td>\n",
       "    </tr>\n",
       "    <tr>\n",
       "      <th>2</th>\n",
       "      <td>1.737696</td>\n",
       "      <td>1.249449</td>\n",
       "      <td>313.882851</td>\n",
       "      <td>0.000008</td>\n",
       "      <td>False</td>\n",
       "    </tr>\n",
       "    <tr>\n",
       "      <th>3</th>\n",
       "      <td>1.448899</td>\n",
       "      <td>0.556606</td>\n",
       "      <td>238.194286</td>\n",
       "      <td>0.000003</td>\n",
       "      <td>False</td>\n",
       "    </tr>\n",
       "    <tr>\n",
       "      <th>4</th>\n",
       "      <td>0.895649</td>\n",
       "      <td>-1.932282</td>\n",
       "      <td>747.742994</td>\n",
       "      <td>0.000003</td>\n",
       "      <td>False</td>\n",
       "    </tr>\n",
       "    <tr>\n",
       "      <th>5</th>\n",
       "      <td>-1.370085</td>\n",
       "      <td>1.520070</td>\n",
       "      <td>18.366689</td>\n",
       "      <td>0.000003</td>\n",
       "      <td>False</td>\n",
       "    </tr>\n",
       "    <tr>\n",
       "      <th>6</th>\n",
       "      <td>-0.375175</td>\n",
       "      <td>-0.783861</td>\n",
       "      <td>87.382817</td>\n",
       "      <td>0.000003</td>\n",
       "      <td>False</td>\n",
       "    </tr>\n",
       "    <tr>\n",
       "      <th>7</th>\n",
       "      <td>-1.735929</td>\n",
       "      <td>-0.747799</td>\n",
       "      <td>1422.183270</td>\n",
       "      <td>0.000003</td>\n",
       "      <td>False</td>\n",
       "    </tr>\n",
       "    <tr>\n",
       "      <th>8</th>\n",
       "      <td>1.794082</td>\n",
       "      <td>-1.115658</td>\n",
       "      <td>1879.322161</td>\n",
       "      <td>0.000003</td>\n",
       "      <td>False</td>\n",
       "    </tr>\n",
       "    <tr>\n",
       "      <th>9</th>\n",
       "      <td>-1.345740</td>\n",
       "      <td>-1.654790</td>\n",
       "      <td>1206.684524</td>\n",
       "      <td>0.000003</td>\n",
       "      <td>False</td>\n",
       "    </tr>\n",
       "    <tr>\n",
       "      <th>10</th>\n",
       "      <td>0.144985</td>\n",
       "      <td>1.825636</td>\n",
       "      <td>326.394525</td>\n",
       "      <td>0.000003</td>\n",
       "      <td>False</td>\n",
       "    </tr>\n",
       "    <tr>\n",
       "      <th>11</th>\n",
       "      <td>-1.000000</td>\n",
       "      <td>2.000000</td>\n",
       "      <td>104.000000</td>\n",
       "      <td>0.000014</td>\n",
       "      <td>False</td>\n",
       "    </tr>\n",
       "    <tr>\n",
       "      <th>12</th>\n",
       "      <td>-1.000000</td>\n",
       "      <td>0.898179</td>\n",
       "      <td>5.036756</td>\n",
       "      <td>0.000032</td>\n",
       "      <td>False</td>\n",
       "    </tr>\n",
       "    <tr>\n",
       "      <th>13</th>\n",
       "      <td>-1.000000</td>\n",
       "      <td>1.392565</td>\n",
       "      <td>19.410743</td>\n",
       "      <td>0.000016</td>\n",
       "      <td>False</td>\n",
       "    </tr>\n",
       "    <tr>\n",
       "      <th>14</th>\n",
       "      <td>-1.000000</td>\n",
       "      <td>0.457706</td>\n",
       "      <td>33.408317</td>\n",
       "      <td>0.000014</td>\n",
       "      <td>False</td>\n",
       "    </tr>\n",
       "    <tr>\n",
       "      <th>15</th>\n",
       "      <td>-1.000000</td>\n",
       "      <td>1.061053</td>\n",
       "      <td>4.372743</td>\n",
       "      <td>0.000017</td>\n",
       "      <td>False</td>\n",
       "    </tr>\n",
       "  </tbody>\n",
       "</table>\n",
       "</div>"
      ],
      "text/plain": [
       "          x0        x1            y  xopt_runtime  xopt_error\n",
       "1   0.224837 -0.081608     2.347505      0.000018       False\n",
       "2   1.737696  1.249449   313.882851      0.000008       False\n",
       "3   1.448899  0.556606   238.194286      0.000003       False\n",
       "4   0.895649 -1.932282   747.742994      0.000003       False\n",
       "5  -1.370085  1.520070    18.366689      0.000003       False\n",
       "6  -0.375175 -0.783861    87.382817      0.000003       False\n",
       "7  -1.735929 -0.747799  1422.183270      0.000003       False\n",
       "8   1.794082 -1.115658  1879.322161      0.000003       False\n",
       "9  -1.345740 -1.654790  1206.684524      0.000003       False\n",
       "10  0.144985  1.825636   326.394525      0.000003       False\n",
       "11 -1.000000  2.000000   104.000000      0.000014       False\n",
       "12 -1.000000  0.898179     5.036756      0.000032       False\n",
       "13 -1.000000  1.392565    19.410743      0.000016       False\n",
       "14 -1.000000  0.457706    33.408317      0.000014       False\n",
       "15 -1.000000  1.061053     4.372743      0.000017       False"
      ]
     },
     "execution_count": 4,
     "metadata": {},
     "output_type": "execute_result"
    }
   ],
   "source": [
    "X.data"
   ]
  },
  {
   "cell_type": "markdown",
   "metadata": {
    "collapsed": false
   },
   "source": [
    "## Visualize model and evaluations\n",
    "Note that for the BO samples, they all are on the line $x_0=-1$"
   ]
  },
  {
   "cell_type": "code",
   "execution_count": 5,
   "metadata": {
    "ExecuteTime": {
     "end_time": "2023-07-20T15:54:51.452829500Z",
     "start_time": "2023-07-20T15:54:50.313116800Z"
    },
    "collapsed": false,
    "execution": {
     "iopub.execute_input": "2023-07-27T16:41:39.294896Z",
     "iopub.status.busy": "2023-07-27T16:41:39.294442Z",
     "iopub.status.idle": "2023-07-27T16:41:40.546173Z",
     "shell.execute_reply": "2023-07-27T16:41:40.545094Z"
    }
   },
   "outputs": [
    {
     "data": {
      "image/png": "[encoded data removed]",
      "text/plain": [
       "<Figure size 640x480 with 2 Axes>"
      ]
     },
     "metadata": {},
     "output_type": "display_data"
    }
   ],
   "source": [
    "from matplotlib import pyplot as plt  # plot model predictions\n",
    "import torch\n",
    "data = X.data\n",
    "\n",
    "bounds = generator.vocs.bounds\n",
    "model = generator.train_model(generator.data)\n",
    "\n",
    "# create mesh\n",
    "n = 100\n",
    "x = torch.linspace(*bounds.T[0], n)\n",
    "y = torch.linspace(*bounds.T[1], n)\n",
    "xx, yy = torch.meshgrid(x, y)\n",
    "pts = torch.hstack([ele.reshape(-1, 1) for ele in (xx, yy)]).double()\n",
    "\n",
    "outputs = generator.vocs.output_names\n",
    "with torch.no_grad():\n",
    "    post = model.posterior(pts)\n",
    "\n",
    "    for i in range(len(vocs.output_names)):\n",
    "        mean = post.mean[...,i]\n",
    "        fig, ax = plt.subplots()\n",
    "        ax.plot(*data[[\"x0\", \"x1\"]].to_numpy()[:10].T, \"+C1\",\n",
    "                label=\"random samples\",\n",
    "                zorder=10\n",
    "                )\n",
    "        ax.plot(*data[[\"x0\", \"x1\"]].to_numpy()[10:].T, \"+C3\",\n",
    "                label=\"GP samples\",\n",
    "                zorder=10)\n",
    "\n",
    "\n",
    "        c = ax.pcolor(\n",
    "            xx, yy, mean.squeeze().reshape(n, n)\n",
    "        )\n",
    "        fig.colorbar(c)\n",
    "        ax.set_title(f\"Posterior mean: {outputs[i]}\")\n",
    "        ax.axvline(-1.0,ls=\"--\")\n",
    "        ax.set_xlabel(\"x0\")\n",
    "        ax.set_ylabel(\"x1\")\n",
    "        ax.legend()"
   ]
  },
  {
   "cell_type": "code",
   "execution_count": 5,
   "metadata": {
    "ExecuteTime": {
     "end_time": "2023-07-20T15:54:51.469290700Z",
     "start_time": "2023-07-20T15:54:51.454828700Z"
    },
    "collapsed": false
   },
   "outputs": [],
   "source": []
  }
 ],
 "metadata": {
  "kernelspec": {
   "display_name": "Python 3",
   "language": "python",
   "name": "python3"
  },
  "language_info": {
   "codemirror_mode": {
    "name": "ipython",
    "version": 3
   },
   "file_extension": ".py",
   "mimetype": "text/x-python",
   "name": "python",
   "nbconvert_exporter": "python",
   "pygments_lexer": "ipython3",
   "version": "3.9.16"
  }
 },
 "nbformat": 4,
 "nbformat_minor": 0
}
