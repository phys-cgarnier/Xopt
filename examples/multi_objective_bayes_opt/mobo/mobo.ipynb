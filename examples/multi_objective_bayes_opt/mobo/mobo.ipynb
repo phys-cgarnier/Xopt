{
 "cells": [
  {
   "cell_type": "markdown",
   "metadata": {},
   "source": [
    "\n",
    "# Multi-objective Bayesian Optimization\n",
    "\n",
    "\n",
    "TNK function\n",
    "$n=2$ variables:\n",
    "$x_i \\in [0, \\pi], i=1,2$\n",
    "\n",
    "Objectives:\n",
    "- $f_i(x) = x_i$\n",
    "\n",
    "Constraints:\n",
    "- $g_1(x) = -x_1^2 -x_2^2 + 1 + 0.1 \\cos\\left(16 \\arctan \\frac{x_1}{x_2}\\right) \\le 0$\n",
    "- $g_2(x) = (x_1 - 1/2)^2 + (x_2-1/2)^2 \\le 0.5$"
   ]
  },
  {
   "cell_type": "code",
   "execution_count": 1,
   "metadata": {
    "collapsed": false,
    "execution": {
     "iopub.execute_input": "2024-02-08T23:55:38.506091Z",
     "iopub.status.busy": "2024-02-08T23:55:38.505922Z",
     "iopub.status.idle": "2024-02-08T23:55:40.564051Z",
     "shell.execute_reply": "2024-02-08T23:55:40.563424Z"
    }
   },
   "outputs": [
    {
     "name": "stdout",
     "output_type": "stream",
     "text": [
      "{'variables': {'x1': [0.0, 3.14159], 'x2': [0.0, 3.14159]}, 'constraints': {'c1': ['GREATER_THAN', 0.0], 'c2': ['LESS_THAN', 0.5]}, 'objectives': {'y1': 'MINIMIZE', 'y2': 'MINIMIZE'}, 'constants': {'a': 'dummy_constant'}, 'observables': []}\n"
     ]
    }
   ],
   "source": [
    "# set values if testing\n",
    "import os\n",
    "SMOKE_TEST = os.environ.get(\"SMOKE_TEST\")\n",
    "N_MC_SAMPLES = 1 if SMOKE_TEST else 128\n",
    "NUM_RESTARTS = 1 if SMOKE_TEST else 20\n",
    "N_STEPS = 1 if SMOKE_TEST else 30\n",
    "\n",
    "# Ignore all warnings\n",
    "import warnings\n",
    "warnings.filterwarnings(\"ignore\")\n",
    "\n",
    "\n",
    "import pandas as pd\n",
    "import numpy as np\n",
    "import torch\n",
    "\n",
    "from xopt import Xopt, Evaluator\n",
    "from xopt.generators.bayesian import MOBOGenerator\n",
    "from xopt.resources.test_functions.tnk import evaluate_TNK, tnk_vocs\n",
    "\n",
    "\n",
    "evaluator = Evaluator(function=evaluate_TNK)\n",
    "print(tnk_vocs.dict())"
   ]
  },
  {
   "cell_type": "code",
   "execution_count": 2,
   "metadata": {
    "collapsed": false,
    "execution": {
     "iopub.execute_input": "2024-02-08T23:55:40.592613Z",
     "iopub.status.busy": "2024-02-08T23:55:40.592152Z",
     "iopub.status.idle": "2024-02-08T23:56:21.701945Z",
     "shell.execute_reply": "2024-02-08T23:56:21.701332Z"
    }
   },
   "outputs": [
    {
     "name": "stdout",
     "output_type": "stream",
     "text": [
      "0\n"
     ]
    },
    {
     "name": "stdout",
     "output_type": "stream",
     "text": [
      "1\n"
     ]
    },
    {
     "name": "stdout",
     "output_type": "stream",
     "text": [
      "2\n"
     ]
    },
    {
     "name": "stdout",
     "output_type": "stream",
     "text": [
      "3\n"
     ]
    },
    {
     "name": "stdout",
     "output_type": "stream",
     "text": [
      "4\n"
     ]
    },
    {
     "name": "stdout",
     "output_type": "stream",
     "text": [
      "5\n"
     ]
    },
    {
     "name": "stdout",
     "output_type": "stream",
     "text": [
      "6\n"
     ]
    },
    {
     "name": "stdout",
     "output_type": "stream",
     "text": [
      "7\n"
     ]
    },
    {
     "name": "stdout",
     "output_type": "stream",
     "text": [
      "8\n"
     ]
    },
    {
     "name": "stdout",
     "output_type": "stream",
     "text": [
      "9\n"
     ]
    },
    {
     "name": "stdout",
     "output_type": "stream",
     "text": [
      "10\n"
     ]
    },
    {
     "name": "stdout",
     "output_type": "stream",
     "text": [
      "11\n"
     ]
    },
    {
     "name": "stdout",
     "output_type": "stream",
     "text": [
      "12\n"
     ]
    },
    {
     "name": "stdout",
     "output_type": "stream",
     "text": [
      "13\n"
     ]
    },
    {
     "name": "stdout",
     "output_type": "stream",
     "text": [
      "14\n"
     ]
    },
    {
     "name": "stdout",
     "output_type": "stream",
     "text": [
      "15\n"
     ]
    },
    {
     "name": "stdout",
     "output_type": "stream",
     "text": [
      "16\n"
     ]
    },
    {
     "name": "stdout",
     "output_type": "stream",
     "text": [
      "17\n"
     ]
    },
    {
     "name": "stdout",
     "output_type": "stream",
     "text": [
      "18\n"
     ]
    },
    {
     "name": "stdout",
     "output_type": "stream",
     "text": [
      "19\n"
     ]
    },
    {
     "name": "stdout",
     "output_type": "stream",
     "text": [
      "20\n"
     ]
    },
    {
     "name": "stdout",
     "output_type": "stream",
     "text": [
      "21\n"
     ]
    },
    {
     "name": "stdout",
     "output_type": "stream",
     "text": [
      "22\n"
     ]
    },
    {
     "name": "stdout",
     "output_type": "stream",
     "text": [
      "23\n"
     ]
    },
    {
     "name": "stdout",
     "output_type": "stream",
     "text": [
      "24\n"
     ]
    },
    {
     "name": "stdout",
     "output_type": "stream",
     "text": [
      "25\n"
     ]
    },
    {
     "name": "stdout",
     "output_type": "stream",
     "text": [
      "26\n"
     ]
    },
    {
     "name": "stdout",
     "output_type": "stream",
     "text": [
      "27\n"
     ]
    },
    {
     "name": "stdout",
     "output_type": "stream",
     "text": [
      "28\n"
     ]
    },
    {
     "name": "stdout",
     "output_type": "stream",
     "text": [
      "29\n"
     ]
    }
   ],
   "source": [
    "generator = MOBOGenerator(vocs=tnk_vocs, reference_point = {\"y1\":1.5,\"y2\":1.5})\n",
    "generator.n_monte_carlo_samples = N_MC_SAMPLES\n",
    "generator.numerical_optimizer.n_restarts = NUM_RESTARTS\n",
    "\n",
    "X = Xopt(generator=generator, evaluator=evaluator, vocs=tnk_vocs)\n",
    "X.evaluate_data(pd.DataFrame({\"x1\":[1.0, 0.75],\"x2\":[0.75, 1.0]}))\n",
    "\n",
    "for i in range(N_STEPS):\n",
    "    print(i)\n",
    "    X.step()"
   ]
  },
  {
   "cell_type": "code",
   "execution_count": 3,
   "metadata": {
    "collapsed": false,
    "execution": {
     "iopub.execute_input": "2024-02-08T23:56:21.704910Z",
     "iopub.status.busy": "2024-02-08T23:56:21.704479Z",
     "iopub.status.idle": "2024-02-08T23:56:21.722195Z",
     "shell.execute_reply": "2024-02-08T23:56:21.721656Z"
    }
   },
   "outputs": [
    {
     "data": {
      "text/html": [
       "<div>\n",
       "<style scoped>\n",
       "    .dataframe tbody tr th:only-of-type {\n",
       "        vertical-align: middle;\n",
       "    }\n",
       "\n",
       "    .dataframe tbody tr th {\n",
       "        vertical-align: top;\n",
       "    }\n",
       "\n",
       "    .dataframe thead th {\n",
       "        text-align: right;\n",
       "    }\n",
       "</style>\n",
       "<table border=\"1\" class=\"dataframe\">\n",
       "  <thead>\n",
       "    <tr style=\"text-align: right;\">\n",
       "      <th></th>\n",
       "      <th>x1</th>\n",
       "      <th>x2</th>\n",
       "      <th>a</th>\n",
       "      <th>y1</th>\n",
       "      <th>y2</th>\n",
       "      <th>c1</th>\n",
       "      <th>c2</th>\n",
       "      <th>xopt_runtime</th>\n",
       "      <th>xopt_error</th>\n",
       "    </tr>\n",
       "  </thead>\n",
       "  <tbody>\n",
       "    <tr>\n",
       "      <th>0</th>\n",
       "      <td>1.000000</td>\n",
       "      <td>0.750000</td>\n",
       "      <td>dummy_constant</td>\n",
       "      <td>1.000000</td>\n",
       "      <td>0.750000</td>\n",
       "      <td>0.626888</td>\n",
       "      <td>0.312500</td>\n",
       "      <td>0.000047</td>\n",
       "      <td>False</td>\n",
       "    </tr>\n",
       "    <tr>\n",
       "      <th>1</th>\n",
       "      <td>0.750000</td>\n",
       "      <td>1.000000</td>\n",
       "      <td>dummy_constant</td>\n",
       "      <td>0.750000</td>\n",
       "      <td>1.000000</td>\n",
       "      <td>0.626888</td>\n",
       "      <td>0.312500</td>\n",
       "      <td>0.000011</td>\n",
       "      <td>False</td>\n",
       "    </tr>\n",
       "    <tr>\n",
       "      <th>2</th>\n",
       "      <td>2.844671</td>\n",
       "      <td>0.000000</td>\n",
       "      <td>dummy_constant</td>\n",
       "      <td>2.844671</td>\n",
       "      <td>0.000000</td>\n",
       "      <td>6.992154</td>\n",
       "      <td>5.747483</td>\n",
       "      <td>0.000019</td>\n",
       "      <td>False</td>\n",
       "    </tr>\n",
       "    <tr>\n",
       "      <th>3</th>\n",
       "      <td>1.161222</td>\n",
       "      <td>2.754252</td>\n",
       "      <td>dummy_constant</td>\n",
       "      <td>1.161222</td>\n",
       "      <td>2.754252</td>\n",
       "      <td>7.834849</td>\n",
       "      <td>5.518867</td>\n",
       "      <td>0.000020</td>\n",
       "      <td>False</td>\n",
       "    </tr>\n",
       "    <tr>\n",
       "      <th>4</th>\n",
       "      <td>0.193455</td>\n",
       "      <td>0.239726</td>\n",
       "      <td>dummy_constant</td>\n",
       "      <td>0.193455</td>\n",
       "      <td>0.239726</td>\n",
       "      <td>-0.891964</td>\n",
       "      <td>0.161713</td>\n",
       "      <td>0.000023</td>\n",
       "      <td>False</td>\n",
       "    </tr>\n",
       "    <tr>\n",
       "      <th>5</th>\n",
       "      <td>0.000000</td>\n",
       "      <td>0.440129</td>\n",
       "      <td>dummy_constant</td>\n",
       "      <td>0.000000</td>\n",
       "      <td>0.440129</td>\n",
       "      <td>-0.906287</td>\n",
       "      <td>0.253585</td>\n",
       "      <td>0.000024</td>\n",
       "      <td>False</td>\n",
       "    </tr>\n",
       "    <tr>\n",
       "      <th>6</th>\n",
       "      <td>0.511675</td>\n",
       "      <td>0.000000</td>\n",
       "      <td>dummy_constant</td>\n",
       "      <td>0.511675</td>\n",
       "      <td>0.000000</td>\n",
       "      <td>-0.838188</td>\n",
       "      <td>0.250136</td>\n",
       "      <td>0.000022</td>\n",
       "      <td>False</td>\n",
       "    </tr>\n",
       "    <tr>\n",
       "      <th>7</th>\n",
       "      <td>0.988082</td>\n",
       "      <td>0.217829</td>\n",
       "      <td>dummy_constant</td>\n",
       "      <td>0.988082</td>\n",
       "      <td>0.217829</td>\n",
       "      <td>0.118353</td>\n",
       "      <td>0.317844</td>\n",
       "      <td>0.000022</td>\n",
       "      <td>False</td>\n",
       "    </tr>\n",
       "    <tr>\n",
       "      <th>8</th>\n",
       "      <td>0.050081</td>\n",
       "      <td>0.966333</td>\n",
       "      <td>dummy_constant</td>\n",
       "      <td>0.050081</td>\n",
       "      <td>0.966333</td>\n",
       "      <td>-0.131294</td>\n",
       "      <td>0.419893</td>\n",
       "      <td>0.000022</td>\n",
       "      <td>False</td>\n",
       "    </tr>\n",
       "    <tr>\n",
       "      <th>9</th>\n",
       "      <td>0.142560</td>\n",
       "      <td>1.028281</td>\n",
       "      <td>dummy_constant</td>\n",
       "      <td>0.142560</td>\n",
       "      <td>1.028281</td>\n",
       "      <td>0.136873</td>\n",
       "      <td>0.406844</td>\n",
       "      <td>0.000023</td>\n",
       "      <td>False</td>\n",
       "    </tr>\n",
       "    <tr>\n",
       "      <th>10</th>\n",
       "      <td>0.483533</td>\n",
       "      <td>0.780585</td>\n",
       "      <td>dummy_constant</td>\n",
       "      <td>0.483533</td>\n",
       "      <td>0.780585</td>\n",
       "      <td>-0.071694</td>\n",
       "      <td>0.078999</td>\n",
       "      <td>0.000022</td>\n",
       "      <td>False</td>\n",
       "    </tr>\n",
       "    <tr>\n",
       "      <th>11</th>\n",
       "      <td>0.525746</td>\n",
       "      <td>0.835750</td>\n",
       "      <td>dummy_constant</td>\n",
       "      <td>0.525746</td>\n",
       "      <td>0.835750</td>\n",
       "      <td>0.065344</td>\n",
       "      <td>0.113391</td>\n",
       "      <td>0.000023</td>\n",
       "      <td>False</td>\n",
       "    </tr>\n",
       "    <tr>\n",
       "      <th>12</th>\n",
       "      <td>0.069088</td>\n",
       "      <td>1.022621</td>\n",
       "      <td>dummy_constant</td>\n",
       "      <td>0.069088</td>\n",
       "      <td>1.022621</td>\n",
       "      <td>0.003333</td>\n",
       "      <td>0.458818</td>\n",
       "      <td>0.000030</td>\n",
       "      <td>False</td>\n",
       "    </tr>\n",
       "    <tr>\n",
       "      <th>13</th>\n",
       "      <td>0.297830</td>\n",
       "      <td>0.920992</td>\n",
       "      <td>dummy_constant</td>\n",
       "      <td>0.297830</td>\n",
       "      <td>0.920992</td>\n",
       "      <td>-0.091844</td>\n",
       "      <td>0.218107</td>\n",
       "      <td>0.000023</td>\n",
       "      <td>False</td>\n",
       "    </tr>\n",
       "    <tr>\n",
       "      <th>14</th>\n",
       "      <td>0.798016</td>\n",
       "      <td>0.597631</td>\n",
       "      <td>dummy_constant</td>\n",
       "      <td>0.798016</td>\n",
       "      <td>0.597631</td>\n",
       "      <td>0.059242</td>\n",
       "      <td>0.098346</td>\n",
       "      <td>0.000022</td>\n",
       "      <td>False</td>\n",
       "    </tr>\n",
       "    <tr>\n",
       "      <th>15</th>\n",
       "      <td>1.011688</td>\n",
       "      <td>0.080947</td>\n",
       "      <td>dummy_constant</td>\n",
       "      <td>1.011688</td>\n",
       "      <td>0.080947</td>\n",
       "      <td>0.001150</td>\n",
       "      <td>0.437430</td>\n",
       "      <td>0.000025</td>\n",
       "      <td>False</td>\n",
       "    </tr>\n",
       "    <tr>\n",
       "      <th>16</th>\n",
       "      <td>0.365330</td>\n",
       "      <td>0.926872</td>\n",
       "      <td>dummy_constant</td>\n",
       "      <td>0.365330</td>\n",
       "      <td>0.926872</td>\n",
       "      <td>-0.103661</td>\n",
       "      <td>0.200355</td>\n",
       "      <td>0.000026</td>\n",
       "      <td>False</td>\n",
       "    </tr>\n",
       "    <tr>\n",
       "      <th>17</th>\n",
       "      <td>0.656258</td>\n",
       "      <td>0.736563</td>\n",
       "      <td>dummy_constant</td>\n",
       "      <td>0.656258</td>\n",
       "      <td>0.736563</td>\n",
       "      <td>-0.087266</td>\n",
       "      <td>0.080378</td>\n",
       "      <td>0.000026</td>\n",
       "      <td>False</td>\n",
       "    </tr>\n",
       "    <tr>\n",
       "      <th>18</th>\n",
       "      <td>0.488336</td>\n",
       "      <td>0.891636</td>\n",
       "      <td>dummy_constant</td>\n",
       "      <td>0.488336</td>\n",
       "      <td>0.891636</td>\n",
       "      <td>0.049719</td>\n",
       "      <td>0.153515</td>\n",
       "      <td>0.000027</td>\n",
       "      <td>False</td>\n",
       "    </tr>\n",
       "    <tr>\n",
       "      <th>19</th>\n",
       "      <td>1.040948</td>\n",
       "      <td>0.075138</td>\n",
       "      <td>dummy_constant</td>\n",
       "      <td>1.040948</td>\n",
       "      <td>0.075138</td>\n",
       "      <td>0.048635</td>\n",
       "      <td>0.473133</td>\n",
       "      <td>0.000024</td>\n",
       "      <td>False</td>\n",
       "    </tr>\n",
       "    <tr>\n",
       "      <th>20</th>\n",
       "      <td>0.901755</td>\n",
       "      <td>0.402527</td>\n",
       "      <td>dummy_constant</td>\n",
       "      <td>0.901755</td>\n",
       "      <td>0.402527</td>\n",
       "      <td>-0.115528</td>\n",
       "      <td>0.170908</td>\n",
       "      <td>0.000026</td>\n",
       "      <td>False</td>\n",
       "    </tr>\n",
       "    <tr>\n",
       "      <th>21</th>\n",
       "      <td>0.764885</td>\n",
       "      <td>0.701686</td>\n",
       "      <td>dummy_constant</td>\n",
       "      <td>0.764885</td>\n",
       "      <td>0.701686</td>\n",
       "      <td>0.000228</td>\n",
       "      <td>0.110841</td>\n",
       "      <td>0.000025</td>\n",
       "      <td>False</td>\n",
       "    </tr>\n",
       "    <tr>\n",
       "      <th>22</th>\n",
       "      <td>1.028655</td>\n",
       "      <td>0.039478</td>\n",
       "      <td>dummy_constant</td>\n",
       "      <td>1.028655</td>\n",
       "      <td>0.039478</td>\n",
       "      <td>-0.022059</td>\n",
       "      <td>0.491557</td>\n",
       "      <td>0.000048</td>\n",
       "      <td>False</td>\n",
       "    </tr>\n",
       "    <tr>\n",
       "      <th>23</th>\n",
       "      <td>0.888164</td>\n",
       "      <td>0.517837</td>\n",
       "      <td>dummy_constant</td>\n",
       "      <td>0.888164</td>\n",
       "      <td>0.517837</td>\n",
       "      <td>0.112771</td>\n",
       "      <td>0.150989</td>\n",
       "      <td>0.000026</td>\n",
       "      <td>False</td>\n",
       "    </tr>\n",
       "    <tr>\n",
       "      <th>24</th>\n",
       "      <td>0.181266</td>\n",
       "      <td>1.186399</td>\n",
       "      <td>dummy_constant</td>\n",
       "      <td>0.181266</td>\n",
       "      <td>1.186399</td>\n",
       "      <td>0.515858</td>\n",
       "      <td>0.572735</td>\n",
       "      <td>0.000027</td>\n",
       "      <td>False</td>\n",
       "    </tr>\n",
       "    <tr>\n",
       "      <th>25</th>\n",
       "      <td>0.466469</td>\n",
       "      <td>0.755006</td>\n",
       "      <td>dummy_constant</td>\n",
       "      <td>0.466469</td>\n",
       "      <td>0.755006</td>\n",
       "      <td>-0.128177</td>\n",
       "      <td>0.066152</td>\n",
       "      <td>0.000025</td>\n",
       "      <td>False</td>\n",
       "    </tr>\n",
       "    <tr>\n",
       "      <th>26</th>\n",
       "      <td>0.055008</td>\n",
       "      <td>1.043757</td>\n",
       "      <td>dummy_constant</td>\n",
       "      <td>0.055008</td>\n",
       "      <td>1.043757</td>\n",
       "      <td>0.025891</td>\n",
       "      <td>0.493689</td>\n",
       "      <td>0.000026</td>\n",
       "      <td>False</td>\n",
       "    </tr>\n",
       "    <tr>\n",
       "      <th>27</th>\n",
       "      <td>1.104717</td>\n",
       "      <td>0.087388</td>\n",
       "      <td>dummy_constant</td>\n",
       "      <td>1.104717</td>\n",
       "      <td>0.087388</td>\n",
       "      <td>0.197744</td>\n",
       "      <td>0.535931</td>\n",
       "      <td>0.000025</td>\n",
       "      <td>False</td>\n",
       "    </tr>\n",
       "    <tr>\n",
       "      <th>28</th>\n",
       "      <td>0.496844</td>\n",
       "      <td>0.894033</td>\n",
       "      <td>dummy_constant</td>\n",
       "      <td>0.496844</td>\n",
       "      <td>0.894033</td>\n",
       "      <td>0.072028</td>\n",
       "      <td>0.155272</td>\n",
       "      <td>0.000025</td>\n",
       "      <td>False</td>\n",
       "    </tr>\n",
       "    <tr>\n",
       "      <th>29</th>\n",
       "      <td>0.028602</td>\n",
       "      <td>1.026244</td>\n",
       "      <td>dummy_constant</td>\n",
       "      <td>0.028602</td>\n",
       "      <td>1.026244</td>\n",
       "      <td>-0.036231</td>\n",
       "      <td>0.499149</td>\n",
       "      <td>0.000025</td>\n",
       "      <td>False</td>\n",
       "    </tr>\n",
       "    <tr>\n",
       "      <th>30</th>\n",
       "      <td>1.470440</td>\n",
       "      <td>0.260359</td>\n",
       "      <td>dummy_constant</td>\n",
       "      <td>1.470440</td>\n",
       "      <td>0.260359</td>\n",
       "      <td>1.324334</td>\n",
       "      <td>0.999182</td>\n",
       "      <td>0.000026</td>\n",
       "      <td>False</td>\n",
       "    </tr>\n",
       "    <tr>\n",
       "      <th>31</th>\n",
       "      <td>0.647912</td>\n",
       "      <td>0.510417</td>\n",
       "      <td>dummy_constant</td>\n",
       "      <td>0.647912</td>\n",
       "      <td>0.510417</td>\n",
       "      <td>-0.288268</td>\n",
       "      <td>0.021987</td>\n",
       "      <td>0.000026</td>\n",
       "      <td>False</td>\n",
       "    </tr>\n",
       "  </tbody>\n",
       "</table>\n",
       "</div>"
      ],
      "text/plain": [
       "          x1        x2               a        y1        y2        c1  \\\n",
       "0   1.000000  0.750000  dummy_constant  1.000000  0.750000  0.626888   \n",
       "1   0.750000  1.000000  dummy_constant  0.750000  1.000000  0.626888   \n",
       "2   2.844671  0.000000  dummy_constant  2.844671  0.000000  6.992154   \n",
       "3   1.161222  2.754252  dummy_constant  1.161222  2.754252  7.834849   \n",
       "4   0.193455  0.239726  dummy_constant  0.193455  0.239726 -0.891964   \n",
       "5   0.000000  0.440129  dummy_constant  0.000000  0.440129 -0.906287   \n",
       "6   0.511675  0.000000  dummy_constant  0.511675  0.000000 -0.838188   \n",
       "7   0.988082  0.217829  dummy_constant  0.988082  0.217829  0.118353   \n",
       "8   0.050081  0.966333  dummy_constant  0.050081  0.966333 -0.131294   \n",
       "9   0.142560  1.028281  dummy_constant  0.142560  1.028281  0.136873   \n",
       "10  0.483533  0.780585  dummy_constant  0.483533  0.780585 -0.071694   \n",
       "11  0.525746  0.835750  dummy_constant  0.525746  0.835750  0.065344   \n",
       "12  0.069088  1.022621  dummy_constant  0.069088  1.022621  0.003333   \n",
       "13  0.297830  0.920992  dummy_constant  0.297830  0.920992 -0.091844   \n",
       "14  0.798016  0.597631  dummy_constant  0.798016  0.597631  0.059242   \n",
       "15  1.011688  0.080947  dummy_constant  1.011688  0.080947  0.001150   \n",
       "16  0.365330  0.926872  dummy_constant  0.365330  0.926872 -0.103661   \n",
       "17  0.656258  0.736563  dummy_constant  0.656258  0.736563 -0.087266   \n",
       "18  0.488336  0.891636  dummy_constant  0.488336  0.891636  0.049719   \n",
       "19  1.040948  0.075138  dummy_constant  1.040948  0.075138  0.048635   \n",
       "20  0.901755  0.402527  dummy_constant  0.901755  0.402527 -0.115528   \n",
       "21  0.764885  0.701686  dummy_constant  0.764885  0.701686  0.000228   \n",
       "22  1.028655  0.039478  dummy_constant  1.028655  0.039478 -0.022059   \n",
       "23  0.888164  0.517837  dummy_constant  0.888164  0.517837  0.112771   \n",
       "24  0.181266  1.186399  dummy_constant  0.181266  1.186399  0.515858   \n",
       "25  0.466469  0.755006  dummy_constant  0.466469  0.755006 -0.128177   \n",
       "26  0.055008  1.043757  dummy_constant  0.055008  1.043757  0.025891   \n",
       "27  1.104717  0.087388  dummy_constant  1.104717  0.087388  0.197744   \n",
       "28  0.496844  0.894033  dummy_constant  0.496844  0.894033  0.072028   \n",
       "29  0.028602  1.026244  dummy_constant  0.028602  1.026244 -0.036231   \n",
       "30  1.470440  0.260359  dummy_constant  1.470440  0.260359  1.324334   \n",
       "31  0.647912  0.510417  dummy_constant  0.647912  0.510417 -0.288268   \n",
       "\n",
       "          c2  xopt_runtime  xopt_error  \n",
       "0   0.312500      0.000047       False  \n",
       "1   0.312500      0.000011       False  \n",
       "2   5.747483      0.000019       False  \n",
       "3   5.518867      0.000020       False  \n",
       "4   0.161713      0.000023       False  \n",
       "5   0.253585      0.000024       False  \n",
       "6   0.250136      0.000022       False  \n",
       "7   0.317844      0.000022       False  \n",
       "8   0.419893      0.000022       False  \n",
       "9   0.406844      0.000023       False  \n",
       "10  0.078999      0.000022       False  \n",
       "11  0.113391      0.000023       False  \n",
       "12  0.458818      0.000030       False  \n",
       "13  0.218107      0.000023       False  \n",
       "14  0.098346      0.000022       False  \n",
       "15  0.437430      0.000025       False  \n",
       "16  0.200355      0.000026       False  \n",
       "17  0.080378      0.000026       False  \n",
       "18  0.153515      0.000027       False  \n",
       "19  0.473133      0.000024       False  \n",
       "20  0.170908      0.000026       False  \n",
       "21  0.110841      0.000025       False  \n",
       "22  0.491557      0.000048       False  \n",
       "23  0.150989      0.000026       False  \n",
       "24  0.572735      0.000027       False  \n",
       "25  0.066152      0.000025       False  \n",
       "26  0.493689      0.000026       False  \n",
       "27  0.535931      0.000025       False  \n",
       "28  0.155272      0.000025       False  \n",
       "29  0.499149      0.000025       False  \n",
       "30  0.999182      0.000026       False  \n",
       "31  0.021987      0.000026       False  "
      ]
     },
     "execution_count": 3,
     "metadata": {},
     "output_type": "execute_result"
    }
   ],
   "source": [
    "X.generator.data"
   ]
  },
  {
   "cell_type": "markdown",
   "metadata": {
    "collapsed": false
   },
   "source": [
    "## plot results\n"
   ]
  },
  {
   "cell_type": "code",
   "execution_count": 4,
   "metadata": {
    "collapsed": false,
    "execution": {
     "iopub.execute_input": "2024-02-08T23:56:21.724656Z",
     "iopub.status.busy": "2024-02-08T23:56:21.724264Z",
     "iopub.status.idle": "2024-02-08T23:56:22.081258Z",
     "shell.execute_reply": "2024-02-08T23:56:22.080683Z"
    }
   },
   "outputs": [
    {
     "data": {
      "image/png": "[encoded data removed]",
      "text/plain": [
       "<Figure size 640x480 with 1 Axes>"
      ]
     },
     "metadata": {},
     "output_type": "display_data"
    }
   ],
   "source": [
    "import matplotlib.pyplot as plt\n",
    "\n",
    "fig, ax = plt.subplots()\n",
    "\n",
    "theta = np.linspace(0, np.pi / 2)\n",
    "r = np.sqrt(1 + 0.1 * np.cos(16 * theta))\n",
    "x_1 = r * np.sin(theta)\n",
    "x_2_lower = r * np.cos(theta)\n",
    "x_2_upper = (0.5 - (x_1 - 0.5) ** 2) ** 0.5 + 0.5\n",
    "\n",
    "z = np.zeros_like(x_1)\n",
    "\n",
    "# ax2.plot(x_1, x_2_lower,'r')\n",
    "ax.fill_between(x_1, z, x_2_lower, fc=\"white\")\n",
    "circle = plt.Circle(\n",
    "    (0.5, 0.5), 0.5 ** 0.5, color=\"r\", alpha=0.25, zorder=0, label=\"Valid Region\"\n",
    ")\n",
    "ax.add_patch(circle)\n",
    "history = pd.concat(\n",
    "    [X.data, tnk_vocs.feasibility_data(X.data)], axis=1, ignore_index=False\n",
    ")\n",
    "\n",
    "\n",
    "ax.plot(*history[[\"x1\", \"x2\"]][history[\"feasible\"]].to_numpy().T, \".C1\")\n",
    "ax.plot(*history[[\"x1\", \"x2\"]][~history[\"feasible\"]].to_numpy().T, \".C2\")\n",
    "\n",
    "ax.set_xlim(0, 3.14)\n",
    "ax.set_ylim(0, 3.14)\n",
    "ax.set_xlabel(\"x1\")\n",
    "ax.set_ylabel(\"x2\")\n",
    "ax.set_aspect(\"equal\")"
   ]
  },
  {
   "cell_type": "markdown",
   "metadata": {
    "collapsed": false
   },
   "source": [
    "### Plot path through input space"
   ]
  },
  {
   "cell_type": "code",
   "execution_count": 5,
   "metadata": {
    "collapsed": false,
    "execution": {
     "iopub.execute_input": "2024-02-08T23:56:22.083784Z",
     "iopub.status.busy": "2024-02-08T23:56:22.083535Z",
     "iopub.status.idle": "2024-02-08T23:56:22.312307Z",
     "shell.execute_reply": "2024-02-08T23:56:22.311690Z"
    }
   },
   "outputs": [
    {
     "data": {
      "image/png": "[encoded data removed]",
      "text/plain": [
       "<Figure size 640x480 with 1 Axes>"
      ]
     },
     "metadata": {},
     "output_type": "display_data"
    }
   ],
   "source": [
    "ax = history.plot(\"x1\", \"x2\")\n",
    "ax.set_ylim(0, 3.14)\n",
    "ax.set_xlim(0, 3.14)\n",
    "ax.set_aspect(\"equal\")"
   ]
  },
  {
   "cell_type": "code",
   "execution_count": 6,
   "metadata": {
    "collapsed": false,
    "execution": {
     "iopub.execute_input": "2024-02-08T23:56:22.314737Z",
     "iopub.status.busy": "2024-02-08T23:56:22.314541Z",
     "iopub.status.idle": "2024-02-08T23:56:37.380352Z",
     "shell.execute_reply": "2024-02-08T23:56:37.379724Z"
    }
   },
   "outputs": [
    {
     "name": "stdout",
     "output_type": "stream",
     "text": [
      "[[0.86625814 0.26890632]]\n"
     ]
    },
    {
     "data": {
      "text/plain": [
       "[<matplotlib.lines.Line2D at 0x7f4044ff41c0>]"
      ]
     },
     "execution_count": 6,
     "metadata": {},
     "output_type": "execute_result"
    },
    {
     "data": {
      "image/png": "[encoded data removed]",
      "text/plain": [
       "<Figure size 640x480 with 2 Axes>"
      ]
     },
     "metadata": {},
     "output_type": "display_data"
    },
    {
     "data": {
      "image/png": "[encoded data removed]",
      "text/plain": [
       "<Figure size 640x480 with 2 Axes>"
      ]
     },
     "metadata": {},
     "output_type": "display_data"
    }
   ],
   "source": [
    "# plot the acquisition function\n",
    "from xopt.generators.bayesian.objectives import feasibility\n",
    "\n",
    "bounds = X.generator.vocs.bounds\n",
    "model = X.generator.model\n",
    "\n",
    "# create mesh\n",
    "n = 200\n",
    "x = torch.linspace(*bounds.T[0], n)\n",
    "y = torch.linspace(*bounds.T[1], n)\n",
    "xx, yy = torch.meshgrid(x, y)\n",
    "pts = torch.hstack([ele.reshape(-1, 1) for ele in (xx, yy)]).double()\n",
    "\n",
    "xx, yy = xx.numpy(), yy.numpy()\n",
    "\n",
    "acq_func = X.generator.get_acquisition(model)\n",
    "with torch.no_grad():\n",
    "    acq_pts = pts.unsqueeze(1)\n",
    "    acq = acq_func(acq_pts)\n",
    "\n",
    "    fig, ax = plt.subplots()\n",
    "    c = ax.pcolor(xx, yy, acq.reshape(n, n), cmap=\"Blues\")\n",
    "    fig.colorbar(c)\n",
    "    ax.set_title(\"Acquisition function\")\n",
    "\n",
    "    ax.plot(*history[[\"x1\", \"x2\"]][history[\"feasible\"]].to_numpy().T, \".C1\")\n",
    "    ax.plot(*history[[\"x1\", \"x2\"]][~history[\"feasible\"]].to_numpy().T, \".C2\")\n",
    "\n",
    "    ax.plot(*history[[\"x1\", \"x2\"]].to_numpy()[-1].T, \"+\")\n",
    "\n",
    "    feas = feasibility(pts.unsqueeze(1), model, tnk_vocs).flatten()\n",
    "\n",
    "    fig2, ax2 = plt.subplots()\n",
    "    c = ax2.pcolor(xx, yy, feas.reshape(n, n))\n",
    "    fig2.colorbar(c)\n",
    "    ax2.set_title(\"Feasible Region\")\n",
    "\n",
    "candidate = pd.DataFrame(X.generator.generate(1), index=[0])\n",
    "print(candidate[[\"x1\", \"x2\"]].to_numpy())\n",
    "ax.plot(*candidate[[\"x1\", \"x2\"]].to_numpy()[0], \"o\")"
   ]
  },
  {
   "cell_type": "code",
   "execution_count": 7,
   "metadata": {
    "collapsed": false,
    "execution": {
     "iopub.execute_input": "2024-02-08T23:56:37.382818Z",
     "iopub.status.busy": "2024-02-08T23:56:37.382458Z",
     "iopub.status.idle": "2024-02-08T23:56:37.810403Z",
     "shell.execute_reply": "2024-02-08T23:56:37.809852Z"
    }
   },
   "outputs": [
    {
     "name": "stdout",
     "output_type": "stream",
     "text": [
      "CPU times: user 828 ms, sys: 16 ms, total: 844 ms\n",
      "Wall time: 423 ms\n"
     ]
    }
   ],
   "source": [
    "%%time\n",
    "candidate = X.generator.generate(1)"
   ]
  }
 ],
 "metadata": {
  "interpreter": {
   "hash": "72034539424920dfb606fe3b820b3f27dca0cbf1c69938110810ec4641e275b1"
  },
  "kernelspec": {
   "display_name": "Python 3 (ipykernel)",
   "language": "python",
   "name": "python3"
  },
  "language_info": {
   "codemirror_mode": {
    "name": "ipython",
    "version": 3
   },
   "file_extension": ".py",
   "mimetype": "text/x-python",
   "name": "python",
   "nbconvert_exporter": "python",
   "pygments_lexer": "ipython3",
   "version": "3.9.18"
  }
 },
 "nbformat": 4,
 "nbformat_minor": 4
}
