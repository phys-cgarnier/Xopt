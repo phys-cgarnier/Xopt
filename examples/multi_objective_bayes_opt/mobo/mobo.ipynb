{
 "cells": [
  {
   "cell_type": "markdown",
   "metadata": {},
   "source": [
    "\n",
    "# Multi-objective Bayesian Optimization\n",
    "\n",
    "\n",
    "TNK function\n",
    "$n=2$ variables:\n",
    "$x_i \\in [0, \\pi], i=1,2$\n",
    "\n",
    "Objectives:\n",
    "- $f_i(x) = x_i$\n",
    "\n",
    "Constraints:\n",
    "- $g_1(x) = -x_1^2 -x_2^2 + 1 + 0.1 \\cos\\left(16 \\arctan \\frac{x_1}{x_2}\\right) \\le 0$\n",
    "- $g_2(x) = (x_1 - 1/2)^2 + (x_2-1/2)^2 \\le 0.5$"
   ]
  },
  {
   "cell_type": "code",
   "execution_count": 1,
   "metadata": {
    "collapsed": false,
    "execution": {
     "iopub.execute_input": "2024-03-12T21:03:03.082518Z",
     "iopub.status.busy": "2024-03-12T21:03:03.082092Z",
     "iopub.status.idle": "2024-03-12T21:03:05.172426Z",
     "shell.execute_reply": "2024-03-12T21:03:05.171746Z"
    }
   },
   "outputs": [
    {
     "name": "stdout",
     "output_type": "stream",
     "text": [
      "{'variables': {'x1': [0.0, 3.14159], 'x2': [0.0, 3.14159]}, 'constraints': {'c1': ['GREATER_THAN', 0.0], 'c2': ['LESS_THAN', 0.5]}, 'objectives': {'y1': 'MINIMIZE', 'y2': 'MINIMIZE'}, 'constants': {'a': 'dummy_constant'}, 'observables': []}\n"
     ]
    }
   ],
   "source": [
    "# set values if testing\n",
    "import os\n",
    "SMOKE_TEST = os.environ.get(\"SMOKE_TEST\")\n",
    "N_MC_SAMPLES = 1 if SMOKE_TEST else 128\n",
    "NUM_RESTARTS = 1 if SMOKE_TEST else 20\n",
    "N_STEPS = 1 if SMOKE_TEST else 30\n",
    "\n",
    "# Ignore all warnings\n",
    "import warnings\n",
    "warnings.filterwarnings(\"ignore\")\n",
    "\n",
    "\n",
    "import pandas as pd\n",
    "import numpy as np\n",
    "import torch\n",
    "\n",
    "from xopt import Xopt, Evaluator\n",
    "from xopt.generators.bayesian import MOBOGenerator\n",
    "from xopt.resources.test_functions.tnk import evaluate_TNK, tnk_vocs\n",
    "\n",
    "\n",
    "evaluator = Evaluator(function=evaluate_TNK)\n",
    "print(tnk_vocs.dict())"
   ]
  },
  {
   "cell_type": "code",
   "execution_count": 2,
   "metadata": {
    "collapsed": false,
    "execution": {
     "iopub.execute_input": "2024-03-12T21:03:05.201898Z",
     "iopub.status.busy": "2024-03-12T21:03:05.201616Z",
     "iopub.status.idle": "2024-03-12T21:03:41.125968Z",
     "shell.execute_reply": "2024-03-12T21:03:41.125332Z"
    }
   },
   "outputs": [
    {
     "name": "stdout",
     "output_type": "stream",
     "text": [
      "0\n"
     ]
    },
    {
     "name": "stdout",
     "output_type": "stream",
     "text": [
      "1\n"
     ]
    },
    {
     "name": "stdout",
     "output_type": "stream",
     "text": [
      "2\n"
     ]
    },
    {
     "name": "stdout",
     "output_type": "stream",
     "text": [
      "3\n"
     ]
    },
    {
     "name": "stdout",
     "output_type": "stream",
     "text": [
      "4\n"
     ]
    },
    {
     "name": "stdout",
     "output_type": "stream",
     "text": [
      "5\n"
     ]
    },
    {
     "name": "stdout",
     "output_type": "stream",
     "text": [
      "6\n"
     ]
    },
    {
     "name": "stdout",
     "output_type": "stream",
     "text": [
      "7\n"
     ]
    },
    {
     "name": "stdout",
     "output_type": "stream",
     "text": [
      "8\n"
     ]
    },
    {
     "name": "stdout",
     "output_type": "stream",
     "text": [
      "9\n"
     ]
    },
    {
     "name": "stdout",
     "output_type": "stream",
     "text": [
      "10\n"
     ]
    },
    {
     "name": "stdout",
     "output_type": "stream",
     "text": [
      "11\n"
     ]
    },
    {
     "name": "stdout",
     "output_type": "stream",
     "text": [
      "12\n"
     ]
    },
    {
     "name": "stdout",
     "output_type": "stream",
     "text": [
      "13\n"
     ]
    },
    {
     "name": "stdout",
     "output_type": "stream",
     "text": [
      "14\n"
     ]
    },
    {
     "name": "stdout",
     "output_type": "stream",
     "text": [
      "15\n"
     ]
    },
    {
     "name": "stdout",
     "output_type": "stream",
     "text": [
      "16\n"
     ]
    },
    {
     "name": "stdout",
     "output_type": "stream",
     "text": [
      "17\n"
     ]
    },
    {
     "name": "stdout",
     "output_type": "stream",
     "text": [
      "18\n"
     ]
    },
    {
     "name": "stdout",
     "output_type": "stream",
     "text": [
      "19\n"
     ]
    },
    {
     "name": "stdout",
     "output_type": "stream",
     "text": [
      "20\n"
     ]
    },
    {
     "name": "stdout",
     "output_type": "stream",
     "text": [
      "21\n"
     ]
    },
    {
     "name": "stdout",
     "output_type": "stream",
     "text": [
      "22\n"
     ]
    },
    {
     "name": "stdout",
     "output_type": "stream",
     "text": [
      "23\n"
     ]
    },
    {
     "name": "stdout",
     "output_type": "stream",
     "text": [
      "24\n"
     ]
    },
    {
     "name": "stdout",
     "output_type": "stream",
     "text": [
      "25\n"
     ]
    },
    {
     "name": "stdout",
     "output_type": "stream",
     "text": [
      "26\n"
     ]
    },
    {
     "name": "stdout",
     "output_type": "stream",
     "text": [
      "27\n"
     ]
    },
    {
     "name": "stdout",
     "output_type": "stream",
     "text": [
      "28\n"
     ]
    },
    {
     "name": "stdout",
     "output_type": "stream",
     "text": [
      "29\n"
     ]
    }
   ],
   "source": [
    "generator = MOBOGenerator(vocs=tnk_vocs, reference_point = {\"y1\":1.5,\"y2\":1.5})\n",
    "generator.n_monte_carlo_samples = N_MC_SAMPLES\n",
    "generator.numerical_optimizer.n_restarts = NUM_RESTARTS\n",
    "\n",
    "X = Xopt(generator=generator, evaluator=evaluator, vocs=tnk_vocs)\n",
    "X.evaluate_data(pd.DataFrame({\"x1\":[1.0, 0.75],\"x2\":[0.75, 1.0]}))\n",
    "\n",
    "for i in range(N_STEPS):\n",
    "    print(i)\n",
    "    X.step()"
   ]
  },
  {
   "cell_type": "code",
   "execution_count": 3,
   "metadata": {
    "collapsed": false,
    "execution": {
     "iopub.execute_input": "2024-03-12T21:03:41.128930Z",
     "iopub.status.busy": "2024-03-12T21:03:41.128702Z",
     "iopub.status.idle": "2024-03-12T21:03:41.143389Z",
     "shell.execute_reply": "2024-03-12T21:03:41.142879Z"
    }
   },
   "outputs": [
    {
     "data": {
      "text/html": [
       "<div>\n",
       "<style scoped>\n",
       "    .dataframe tbody tr th:only-of-type {\n",
       "        vertical-align: middle;\n",
       "    }\n",
       "\n",
       "    .dataframe tbody tr th {\n",
       "        vertical-align: top;\n",
       "    }\n",
       "\n",
       "    .dataframe thead th {\n",
       "        text-align: right;\n",
       "    }\n",
       "</style>\n",
       "<table border=\"1\" class=\"dataframe\">\n",
       "  <thead>\n",
       "    <tr style=\"text-align: right;\">\n",
       "      <th></th>\n",
       "      <th>x1</th>\n",
       "      <th>x2</th>\n",
       "      <th>a</th>\n",
       "      <th>y1</th>\n",
       "      <th>y2</th>\n",
       "      <th>c1</th>\n",
       "      <th>c2</th>\n",
       "      <th>xopt_runtime</th>\n",
       "      <th>xopt_error</th>\n",
       "    </tr>\n",
       "  </thead>\n",
       "  <tbody>\n",
       "    <tr>\n",
       "      <th>0</th>\n",
       "      <td>1.000000</td>\n",
       "      <td>0.750000</td>\n",
       "      <td>dummy_constant</td>\n",
       "      <td>1.000000</td>\n",
       "      <td>0.750000</td>\n",
       "      <td>0.626888</td>\n",
       "      <td>0.312500</td>\n",
       "      <td>0.000033</td>\n",
       "      <td>False</td>\n",
       "    </tr>\n",
       "    <tr>\n",
       "      <th>1</th>\n",
       "      <td>0.750000</td>\n",
       "      <td>1.000000</td>\n",
       "      <td>dummy_constant</td>\n",
       "      <td>0.750000</td>\n",
       "      <td>1.000000</td>\n",
       "      <td>0.626888</td>\n",
       "      <td>0.312500</td>\n",
       "      <td>0.000008</td>\n",
       "      <td>False</td>\n",
       "    </tr>\n",
       "    <tr>\n",
       "      <th>2</th>\n",
       "      <td>2.937289</td>\n",
       "      <td>0.000000</td>\n",
       "      <td>dummy_constant</td>\n",
       "      <td>2.937289</td>\n",
       "      <td>0.000000</td>\n",
       "      <td>7.527668</td>\n",
       "      <td>6.190379</td>\n",
       "      <td>0.000025</td>\n",
       "      <td>False</td>\n",
       "    </tr>\n",
       "    <tr>\n",
       "      <th>3</th>\n",
       "      <td>0.000000</td>\n",
       "      <td>0.000000</td>\n",
       "      <td>dummy_constant</td>\n",
       "      <td>0.000000</td>\n",
       "      <td>0.000000</td>\n",
       "      <td>-1.100000</td>\n",
       "      <td>0.500000</td>\n",
       "      <td>0.000022</td>\n",
       "      <td>False</td>\n",
       "    </tr>\n",
       "    <tr>\n",
       "      <th>4</th>\n",
       "      <td>0.418089</td>\n",
       "      <td>0.000000</td>\n",
       "      <td>dummy_constant</td>\n",
       "      <td>0.418089</td>\n",
       "      <td>0.000000</td>\n",
       "      <td>-0.925202</td>\n",
       "      <td>0.256709</td>\n",
       "      <td>0.000023</td>\n",
       "      <td>False</td>\n",
       "    </tr>\n",
       "    <tr>\n",
       "      <th>5</th>\n",
       "      <td>0.000000</td>\n",
       "      <td>2.836496</td>\n",
       "      <td>dummy_constant</td>\n",
       "      <td>0.000000</td>\n",
       "      <td>2.836496</td>\n",
       "      <td>6.945710</td>\n",
       "      <td>5.709214</td>\n",
       "      <td>0.000022</td>\n",
       "      <td>False</td>\n",
       "    </tr>\n",
       "    <tr>\n",
       "      <th>6</th>\n",
       "      <td>0.000000</td>\n",
       "      <td>0.568568</td>\n",
       "      <td>dummy_constant</td>\n",
       "      <td>0.000000</td>\n",
       "      <td>0.568568</td>\n",
       "      <td>-0.776730</td>\n",
       "      <td>0.254702</td>\n",
       "      <td>0.000023</td>\n",
       "      <td>False</td>\n",
       "    </tr>\n",
       "    <tr>\n",
       "      <th>7</th>\n",
       "      <td>0.242867</td>\n",
       "      <td>0.926033</td>\n",
       "      <td>dummy_constant</td>\n",
       "      <td>0.242867</td>\n",
       "      <td>0.926033</td>\n",
       "      <td>-0.026311</td>\n",
       "      <td>0.247621</td>\n",
       "      <td>0.000023</td>\n",
       "      <td>False</td>\n",
       "    </tr>\n",
       "    <tr>\n",
       "      <th>8</th>\n",
       "      <td>0.230163</td>\n",
       "      <td>0.973078</td>\n",
       "      <td>dummy_constant</td>\n",
       "      <td>0.230163</td>\n",
       "      <td>0.973078</td>\n",
       "      <td>0.083796</td>\n",
       "      <td>0.296615</td>\n",
       "      <td>0.000022</td>\n",
       "      <td>False</td>\n",
       "    </tr>\n",
       "    <tr>\n",
       "      <th>9</th>\n",
       "      <td>0.944226</td>\n",
       "      <td>0.267720</td>\n",
       "      <td>dummy_constant</td>\n",
       "      <td>0.944226</td>\n",
       "      <td>0.267720</td>\n",
       "      <td>-0.007989</td>\n",
       "      <td>0.251291</td>\n",
       "      <td>0.000022</td>\n",
       "      <td>False</td>\n",
       "    </tr>\n",
       "    <tr>\n",
       "      <th>10</th>\n",
       "      <td>1.022349</td>\n",
       "      <td>0.132197</td>\n",
       "      <td>dummy_constant</td>\n",
       "      <td>1.022349</td>\n",
       "      <td>0.132197</td>\n",
       "      <td>0.109445</td>\n",
       "      <td>0.408128</td>\n",
       "      <td>0.000023</td>\n",
       "      <td>False</td>\n",
       "    </tr>\n",
       "    <tr>\n",
       "      <th>11</th>\n",
       "      <td>0.783819</td>\n",
       "      <td>0.703682</td>\n",
       "      <td>dummy_constant</td>\n",
       "      <td>0.783819</td>\n",
       "      <td>0.703682</td>\n",
       "      <td>0.044383</td>\n",
       "      <td>0.122039</td>\n",
       "      <td>0.000025</td>\n",
       "      <td>False</td>\n",
       "    </tr>\n",
       "    <tr>\n",
       "      <th>12</th>\n",
       "      <td>0.058661</td>\n",
       "      <td>0.989245</td>\n",
       "      <td>dummy_constant</td>\n",
       "      <td>0.058661</td>\n",
       "      <td>0.989245</td>\n",
       "      <td>-0.076312</td>\n",
       "      <td>0.434141</td>\n",
       "      <td>0.000024</td>\n",
       "      <td>False</td>\n",
       "    </tr>\n",
       "    <tr>\n",
       "      <th>13</th>\n",
       "      <td>0.954502</td>\n",
       "      <td>0.337554</td>\n",
       "      <td>dummy_constant</td>\n",
       "      <td>0.954502</td>\n",
       "      <td>0.337554</td>\n",
       "      <td>-0.041394</td>\n",
       "      <td>0.232961</td>\n",
       "      <td>0.000024</td>\n",
       "      <td>False</td>\n",
       "    </tr>\n",
       "    <tr>\n",
       "      <th>14</th>\n",
       "      <td>0.495149</td>\n",
       "      <td>1.209208</td>\n",
       "      <td>dummy_constant</td>\n",
       "      <td>0.495149</td>\n",
       "      <td>1.209208</td>\n",
       "      <td>0.607566</td>\n",
       "      <td>0.502999</td>\n",
       "      <td>0.000024</td>\n",
       "      <td>False</td>\n",
       "    </tr>\n",
       "    <tr>\n",
       "      <th>15</th>\n",
       "      <td>0.895118</td>\n",
       "      <td>0.555795</td>\n",
       "      <td>dummy_constant</td>\n",
       "      <td>0.895118</td>\n",
       "      <td>0.555795</td>\n",
       "      <td>0.196210</td>\n",
       "      <td>0.159231</td>\n",
       "      <td>0.000024</td>\n",
       "      <td>False</td>\n",
       "    </tr>\n",
       "    <tr>\n",
       "      <th>16</th>\n",
       "      <td>0.899940</td>\n",
       "      <td>0.086359</td>\n",
       "      <td>dummy_constant</td>\n",
       "      <td>0.899940</td>\n",
       "      <td>0.086359</td>\n",
       "      <td>-0.186661</td>\n",
       "      <td>0.331051</td>\n",
       "      <td>0.000024</td>\n",
       "      <td>False</td>\n",
       "    </tr>\n",
       "    <tr>\n",
       "      <th>17</th>\n",
       "      <td>0.375048</td>\n",
       "      <td>0.948008</td>\n",
       "      <td>dummy_constant</td>\n",
       "      <td>0.375048</td>\n",
       "      <td>0.948008</td>\n",
       "      <td>-0.057371</td>\n",
       "      <td>0.216324</td>\n",
       "      <td>0.000024</td>\n",
       "      <td>False</td>\n",
       "    </tr>\n",
       "    <tr>\n",
       "      <th>18</th>\n",
       "      <td>0.391791</td>\n",
       "      <td>1.224699</td>\n",
       "      <td>dummy_constant</td>\n",
       "      <td>0.391791</td>\n",
       "      <td>1.224699</td>\n",
       "      <td>0.629470</td>\n",
       "      <td>0.536898</td>\n",
       "      <td>0.000024</td>\n",
       "      <td>False</td>\n",
       "    </tr>\n",
       "    <tr>\n",
       "      <th>19</th>\n",
       "      <td>0.091119</td>\n",
       "      <td>1.043216</td>\n",
       "      <td>dummy_constant</td>\n",
       "      <td>0.091119</td>\n",
       "      <td>1.043216</td>\n",
       "      <td>0.079011</td>\n",
       "      <td>0.462267</td>\n",
       "      <td>0.000031</td>\n",
       "      <td>False</td>\n",
       "    </tr>\n",
       "    <tr>\n",
       "      <th>20</th>\n",
       "      <td>1.218377</td>\n",
       "      <td>0.221869</td>\n",
       "      <td>dummy_constant</td>\n",
       "      <td>1.218377</td>\n",
       "      <td>0.221869</td>\n",
       "      <td>0.630319</td>\n",
       "      <td>0.593422</td>\n",
       "      <td>0.000023</td>\n",
       "      <td>False</td>\n",
       "    </tr>\n",
       "    <tr>\n",
       "      <th>21</th>\n",
       "      <td>0.174445</td>\n",
       "      <td>0.919846</td>\n",
       "      <td>dummy_constant</td>\n",
       "      <td>0.174445</td>\n",
       "      <td>0.919846</td>\n",
       "      <td>-0.024471</td>\n",
       "      <td>0.282257</td>\n",
       "      <td>0.000024</td>\n",
       "      <td>False</td>\n",
       "    </tr>\n",
       "    <tr>\n",
       "      <th>22</th>\n",
       "      <td>1.001252</td>\n",
       "      <td>0.036900</td>\n",
       "      <td>dummy_constant</td>\n",
       "      <td>1.001252</td>\n",
       "      <td>0.036900</td>\n",
       "      <td>-0.079260</td>\n",
       "      <td>0.465715</td>\n",
       "      <td>0.000024</td>\n",
       "      <td>False</td>\n",
       "    </tr>\n",
       "    <tr>\n",
       "      <th>23</th>\n",
       "      <td>0.026579</td>\n",
       "      <td>1.191595</td>\n",
       "      <td>dummy_constant</td>\n",
       "      <td>0.026579</td>\n",
       "      <td>1.191595</td>\n",
       "      <td>0.326904</td>\n",
       "      <td>0.702431</td>\n",
       "      <td>0.000024</td>\n",
       "      <td>False</td>\n",
       "    </tr>\n",
       "    <tr>\n",
       "      <th>24</th>\n",
       "      <td>0.039359</td>\n",
       "      <td>1.024645</td>\n",
       "      <td>dummy_constant</td>\n",
       "      <td>0.039359</td>\n",
       "      <td>1.024645</td>\n",
       "      <td>-0.030271</td>\n",
       "      <td>0.487443</td>\n",
       "      <td>0.000024</td>\n",
       "      <td>False</td>\n",
       "    </tr>\n",
       "    <tr>\n",
       "      <th>25</th>\n",
       "      <td>0.044425</td>\n",
       "      <td>1.130886</td>\n",
       "      <td>dummy_constant</td>\n",
       "      <td>0.044425</td>\n",
       "      <td>1.130886</td>\n",
       "      <td>0.199970</td>\n",
       "      <td>0.605566</td>\n",
       "      <td>0.000025</td>\n",
       "      <td>False</td>\n",
       "    </tr>\n",
       "    <tr>\n",
       "      <th>26</th>\n",
       "      <td>0.725448</td>\n",
       "      <td>0.369067</td>\n",
       "      <td>dummy_constant</td>\n",
       "      <td>0.725448</td>\n",
       "      <td>0.369067</td>\n",
       "      <td>-0.369359</td>\n",
       "      <td>0.067970</td>\n",
       "      <td>0.000025</td>\n",
       "      <td>False</td>\n",
       "    </tr>\n",
       "    <tr>\n",
       "      <th>27</th>\n",
       "      <td>0.632250</td>\n",
       "      <td>0.820451</td>\n",
       "      <td>dummy_constant</td>\n",
       "      <td>0.632250</td>\n",
       "      <td>0.820451</td>\n",
       "      <td>0.119993</td>\n",
       "      <td>0.120179</td>\n",
       "      <td>0.000025</td>\n",
       "      <td>False</td>\n",
       "    </tr>\n",
       "    <tr>\n",
       "      <th>28</th>\n",
       "      <td>0.994113</td>\n",
       "      <td>0.253063</td>\n",
       "      <td>dummy_constant</td>\n",
       "      <td>0.994113</td>\n",
       "      <td>0.253063</td>\n",
       "      <td>0.118549</td>\n",
       "      <td>0.305125</td>\n",
       "      <td>0.000025</td>\n",
       "      <td>False</td>\n",
       "    </tr>\n",
       "    <tr>\n",
       "      <th>29</th>\n",
       "      <td>0.574649</td>\n",
       "      <td>0.661109</td>\n",
       "      <td>dummy_constant</td>\n",
       "      <td>0.574649</td>\n",
       "      <td>0.661109</td>\n",
       "      <td>-0.276495</td>\n",
       "      <td>0.031529</td>\n",
       "      <td>0.000026</td>\n",
       "      <td>False</td>\n",
       "    </tr>\n",
       "    <tr>\n",
       "      <th>30</th>\n",
       "      <td>0.376058</td>\n",
       "      <td>0.407794</td>\n",
       "      <td>dummy_constant</td>\n",
       "      <td>0.376058</td>\n",
       "      <td>0.407794</td>\n",
       "      <td>-0.772048</td>\n",
       "      <td>0.023864</td>\n",
       "      <td>0.000024</td>\n",
       "      <td>False</td>\n",
       "    </tr>\n",
       "    <tr>\n",
       "      <th>31</th>\n",
       "      <td>0.821186</td>\n",
       "      <td>0.596818</td>\n",
       "      <td>dummy_constant</td>\n",
       "      <td>0.821186</td>\n",
       "      <td>0.596818</td>\n",
       "      <td>0.111296</td>\n",
       "      <td>0.112534</td>\n",
       "      <td>0.000026</td>\n",
       "      <td>False</td>\n",
       "    </tr>\n",
       "  </tbody>\n",
       "</table>\n",
       "</div>"
      ],
      "text/plain": [
       "          x1        x2               a        y1        y2        c1  \\\n",
       "0   1.000000  0.750000  dummy_constant  1.000000  0.750000  0.626888   \n",
       "1   0.750000  1.000000  dummy_constant  0.750000  1.000000  0.626888   \n",
       "2   2.937289  0.000000  dummy_constant  2.937289  0.000000  7.527668   \n",
       "3   0.000000  0.000000  dummy_constant  0.000000  0.000000 -1.100000   \n",
       "4   0.418089  0.000000  dummy_constant  0.418089  0.000000 -0.925202   \n",
       "5   0.000000  2.836496  dummy_constant  0.000000  2.836496  6.945710   \n",
       "6   0.000000  0.568568  dummy_constant  0.000000  0.568568 -0.776730   \n",
       "7   0.242867  0.926033  dummy_constant  0.242867  0.926033 -0.026311   \n",
       "8   0.230163  0.973078  dummy_constant  0.230163  0.973078  0.083796   \n",
       "9   0.944226  0.267720  dummy_constant  0.944226  0.267720 -0.007989   \n",
       "10  1.022349  0.132197  dummy_constant  1.022349  0.132197  0.109445   \n",
       "11  0.783819  0.703682  dummy_constant  0.783819  0.703682  0.044383   \n",
       "12  0.058661  0.989245  dummy_constant  0.058661  0.989245 -0.076312   \n",
       "13  0.954502  0.337554  dummy_constant  0.954502  0.337554 -0.041394   \n",
       "14  0.495149  1.209208  dummy_constant  0.495149  1.209208  0.607566   \n",
       "15  0.895118  0.555795  dummy_constant  0.895118  0.555795  0.196210   \n",
       "16  0.899940  0.086359  dummy_constant  0.899940  0.086359 -0.186661   \n",
       "17  0.375048  0.948008  dummy_constant  0.375048  0.948008 -0.057371   \n",
       "18  0.391791  1.224699  dummy_constant  0.391791  1.224699  0.629470   \n",
       "19  0.091119  1.043216  dummy_constant  0.091119  1.043216  0.079011   \n",
       "20  1.218377  0.221869  dummy_constant  1.218377  0.221869  0.630319   \n",
       "21  0.174445  0.919846  dummy_constant  0.174445  0.919846 -0.024471   \n",
       "22  1.001252  0.036900  dummy_constant  1.001252  0.036900 -0.079260   \n",
       "23  0.026579  1.191595  dummy_constant  0.026579  1.191595  0.326904   \n",
       "24  0.039359  1.024645  dummy_constant  0.039359  1.024645 -0.030271   \n",
       "25  0.044425  1.130886  dummy_constant  0.044425  1.130886  0.199970   \n",
       "26  0.725448  0.369067  dummy_constant  0.725448  0.369067 -0.369359   \n",
       "27  0.632250  0.820451  dummy_constant  0.632250  0.820451  0.119993   \n",
       "28  0.994113  0.253063  dummy_constant  0.994113  0.253063  0.118549   \n",
       "29  0.574649  0.661109  dummy_constant  0.574649  0.661109 -0.276495   \n",
       "30  0.376058  0.407794  dummy_constant  0.376058  0.407794 -0.772048   \n",
       "31  0.821186  0.596818  dummy_constant  0.821186  0.596818  0.111296   \n",
       "\n",
       "          c2  xopt_runtime  xopt_error  \n",
       "0   0.312500      0.000033       False  \n",
       "1   0.312500      0.000008       False  \n",
       "2   6.190379      0.000025       False  \n",
       "3   0.500000      0.000022       False  \n",
       "4   0.256709      0.000023       False  \n",
       "5   5.709214      0.000022       False  \n",
       "6   0.254702      0.000023       False  \n",
       "7   0.247621      0.000023       False  \n",
       "8   0.296615      0.000022       False  \n",
       "9   0.251291      0.000022       False  \n",
       "10  0.408128      0.000023       False  \n",
       "11  0.122039      0.000025       False  \n",
       "12  0.434141      0.000024       False  \n",
       "13  0.232961      0.000024       False  \n",
       "14  0.502999      0.000024       False  \n",
       "15  0.159231      0.000024       False  \n",
       "16  0.331051      0.000024       False  \n",
       "17  0.216324      0.000024       False  \n",
       "18  0.536898      0.000024       False  \n",
       "19  0.462267      0.000031       False  \n",
       "20  0.593422      0.000023       False  \n",
       "21  0.282257      0.000024       False  \n",
       "22  0.465715      0.000024       False  \n",
       "23  0.702431      0.000024       False  \n",
       "24  0.487443      0.000024       False  \n",
       "25  0.605566      0.000025       False  \n",
       "26  0.067970      0.000025       False  \n",
       "27  0.120179      0.000025       False  \n",
       "28  0.305125      0.000025       False  \n",
       "29  0.031529      0.000026       False  \n",
       "30  0.023864      0.000024       False  \n",
       "31  0.112534      0.000026       False  "
      ]
     },
     "execution_count": 3,
     "metadata": {},
     "output_type": "execute_result"
    }
   ],
   "source": [
    "X.generator.data"
   ]
  },
  {
   "cell_type": "markdown",
   "metadata": {
    "collapsed": false
   },
   "source": [
    "## plot results\n"
   ]
  },
  {
   "cell_type": "code",
   "execution_count": 4,
   "metadata": {
    "collapsed": false,
    "execution": {
     "iopub.execute_input": "2024-03-12T21:03:41.145824Z",
     "iopub.status.busy": "2024-03-12T21:03:41.145435Z",
     "iopub.status.idle": "2024-03-12T21:03:41.605092Z",
     "shell.execute_reply": "2024-03-12T21:03:41.604455Z"
    }
   },
   "outputs": [
    {
     "data": {
      "image/png": "[encoded data removed]",
      "text/plain": [
       "<Figure size 640x480 with 1 Axes>"
      ]
     },
     "metadata": {},
     "output_type": "display_data"
    }
   ],
   "source": [
    "import matplotlib.pyplot as plt\n",
    "\n",
    "fig, ax = plt.subplots()\n",
    "\n",
    "theta = np.linspace(0, np.pi / 2)\n",
    "r = np.sqrt(1 + 0.1 * np.cos(16 * theta))\n",
    "x_1 = r * np.sin(theta)\n",
    "x_2_lower = r * np.cos(theta)\n",
    "x_2_upper = (0.5 - (x_1 - 0.5) ** 2) ** 0.5 + 0.5\n",
    "\n",
    "z = np.zeros_like(x_1)\n",
    "\n",
    "# ax2.plot(x_1, x_2_lower,'r')\n",
    "ax.fill_between(x_1, z, x_2_lower, fc=\"white\")\n",
    "circle = plt.Circle(\n",
    "    (0.5, 0.5), 0.5 ** 0.5, color=\"r\", alpha=0.25, zorder=0, label=\"Valid Region\"\n",
    ")\n",
    "ax.add_patch(circle)\n",
    "history = pd.concat(\n",
    "    [X.data, tnk_vocs.feasibility_data(X.data)], axis=1, ignore_index=False\n",
    ")\n",
    "\n",
    "\n",
    "ax.plot(*history[[\"x1\", \"x2\"]][history[\"feasible\"]].to_numpy().T, \".C1\")\n",
    "ax.plot(*history[[\"x1\", \"x2\"]][~history[\"feasible\"]].to_numpy().T, \".C2\")\n",
    "\n",
    "ax.set_xlim(0, 3.14)\n",
    "ax.set_ylim(0, 3.14)\n",
    "ax.set_xlabel(\"x1\")\n",
    "ax.set_ylabel(\"x2\")\n",
    "ax.set_aspect(\"equal\")"
   ]
  },
  {
   "cell_type": "markdown",
   "metadata": {
    "collapsed": false
   },
   "source": [
    "### Plot path through input space"
   ]
  },
  {
   "cell_type": "code",
   "execution_count": 5,
   "metadata": {
    "collapsed": false,
    "execution": {
     "iopub.execute_input": "2024-03-12T21:03:41.607595Z",
     "iopub.status.busy": "2024-03-12T21:03:41.607324Z",
     "iopub.status.idle": "2024-03-12T21:03:41.725580Z",
     "shell.execute_reply": "2024-03-12T21:03:41.724937Z"
    }
   },
   "outputs": [
    {
     "data": {
      "image/png": "[encoded data removed]",
      "text/plain": [
       "<Figure size 640x480 with 1 Axes>"
      ]
     },
     "metadata": {},
     "output_type": "display_data"
    }
   ],
   "source": [
    "ax = history.plot(\"x1\", \"x2\")\n",
    "ax.set_ylim(0, 3.14)\n",
    "ax.set_xlim(0, 3.14)\n",
    "ax.set_aspect(\"equal\")"
   ]
  },
  {
   "cell_type": "code",
   "execution_count": 6,
   "metadata": {
    "collapsed": false,
    "execution": {
     "iopub.execute_input": "2024-03-12T21:03:41.727748Z",
     "iopub.status.busy": "2024-03-12T21:03:41.727552Z",
     "iopub.status.idle": "2024-03-12T21:03:53.959816Z",
     "shell.execute_reply": "2024-03-12T21:03:53.959273Z"
    }
   },
   "outputs": [
    {
     "name": "stdout",
     "output_type": "stream",
     "text": [
      "[[0.50557886 0.87462758]]\n"
     ]
    },
    {
     "data": {
      "text/plain": [
       "[<matplotlib.lines.Line2D at 0x7b08f1683a30>]"
      ]
     },
     "execution_count": 6,
     "metadata": {},
     "output_type": "execute_result"
    },
    {
     "data": {
      "image/png": "[encoded data removed]",
      "text/plain": [
       "<Figure size 640x480 with 2 Axes>"
      ]
     },
     "metadata": {},
     "output_type": "display_data"
    },
    {
     "data": {
      "image/png": "[encoded data removed]",
      "text/plain": [
       "<Figure size 640x480 with 2 Axes>"
      ]
     },
     "metadata": {},
     "output_type": "display_data"
    }
   ],
   "source": [
    "# plot the acquisition function\n",
    "from xopt.generators.bayesian.objectives import feasibility\n",
    "\n",
    "bounds = X.generator.vocs.bounds\n",
    "model = X.generator.model\n",
    "\n",
    "# create mesh\n",
    "n = 200\n",
    "x = torch.linspace(*bounds.T[0], n)\n",
    "y = torch.linspace(*bounds.T[1], n)\n",
    "xx, yy = torch.meshgrid(x, y)\n",
    "pts = torch.hstack([ele.reshape(-1, 1) for ele in (xx, yy)]).double()\n",
    "\n",
    "xx, yy = xx.numpy(), yy.numpy()\n",
    "\n",
    "acq_func = X.generator.get_acquisition(model)\n",
    "with torch.no_grad():\n",
    "    acq_pts = pts.unsqueeze(1)\n",
    "    acq = acq_func(acq_pts)\n",
    "\n",
    "    fig, ax = plt.subplots()\n",
    "    c = ax.pcolor(xx, yy, acq.reshape(n, n), cmap=\"Blues\")\n",
    "    fig.colorbar(c)\n",
    "    ax.set_title(\"Acquisition function\")\n",
    "\n",
    "    ax.plot(*history[[\"x1\", \"x2\"]][history[\"feasible\"]].to_numpy().T, \".C1\")\n",
    "    ax.plot(*history[[\"x1\", \"x2\"]][~history[\"feasible\"]].to_numpy().T, \".C2\")\n",
    "\n",
    "    ax.plot(*history[[\"x1\", \"x2\"]].to_numpy()[-1].T, \"+\")\n",
    "\n",
    "    feas = feasibility(pts.unsqueeze(1), model, tnk_vocs).flatten()\n",
    "\n",
    "    fig2, ax2 = plt.subplots()\n",
    "    c = ax2.pcolor(xx, yy, feas.reshape(n, n))\n",
    "    fig2.colorbar(c)\n",
    "    ax2.set_title(\"Feasible Region\")\n",
    "\n",
    "candidate = pd.DataFrame(X.generator.generate(1), index=[0])\n",
    "print(candidate[[\"x1\", \"x2\"]].to_numpy())\n",
    "ax.plot(*candidate[[\"x1\", \"x2\"]].to_numpy()[0], \"o\")"
   ]
  },
  {
   "cell_type": "code",
   "execution_count": 7,
   "metadata": {
    "collapsed": false,
    "execution": {
     "iopub.execute_input": "2024-03-12T21:03:53.962237Z",
     "iopub.status.busy": "2024-03-12T21:03:53.961867Z",
     "iopub.status.idle": "2024-03-12T21:03:54.712707Z",
     "shell.execute_reply": "2024-03-12T21:03:54.712052Z"
    }
   },
   "outputs": [
    {
     "name": "stdout",
     "output_type": "stream",
     "text": [
      "CPU times: user 1.47 s, sys: 20 ms, total: 1.49 s\n",
      "Wall time: 747 ms\n"
     ]
    }
   ],
   "source": [
    "%%time\n",
    "candidate = X.generator.generate(1)"
   ]
  }
 ],
 "metadata": {
  "interpreter": {
   "hash": "72034539424920dfb606fe3b820b3f27dca0cbf1c69938110810ec4641e275b1"
  },
  "kernelspec": {
   "display_name": "Python 3 (ipykernel)",
   "language": "python",
   "name": "python3"
  },
  "language_info": {
   "codemirror_mode": {
    "name": "ipython",
    "version": 3
   },
   "file_extension": ".py",
   "mimetype": "text/x-python",
   "name": "python",
   "nbconvert_exporter": "python",
   "pygments_lexer": "ipython3",
   "version": "3.9.18"
  }
 },
 "nbformat": 4,
 "nbformat_minor": 4
}
