{
 "cells": [
  {
   "cell_type": "markdown",
   "metadata": {},
   "source": [
    "\n",
    "# Multi-objective Bayesian Optimization\n",
    "\n",
    "\n",
    "TNK function\n",
    "$n=2$ variables:\n",
    "$x_i \\in [0, \\pi], i=1,2$\n",
    "\n",
    "Objectives:\n",
    "- $f_i(x) = x_i$\n",
    "\n",
    "Constraints:\n",
    "- $g_1(x) = -x_1^2 -x_2^2 + 1 + 0.1 \\cos\\left(16 \\arctan \\frac{x_1}{x_2}\\right) \\le 0$\n",
    "- $g_2(x) = (x_1 - 1/2)^2 + (x_2-1/2)^2 \\le 0.5$"
   ]
  },
  {
   "cell_type": "code",
   "execution_count": 1,
   "metadata": {
    "collapsed": false,
    "execution": {
     "iopub.execute_input": "2024-04-24T14:46:12.705094Z",
     "iopub.status.busy": "2024-04-24T14:46:12.704671Z",
     "iopub.status.idle": "2024-04-24T14:46:14.816684Z",
     "shell.execute_reply": "2024-04-24T14:46:14.816006Z"
    }
   },
   "outputs": [
    {
     "name": "stdout",
     "output_type": "stream",
     "text": [
      "{'variables': {'x1': [0.0, 3.14159], 'x2': [0.0, 3.14159]}, 'constraints': {'c1': ['GREATER_THAN', 0.0], 'c2': ['LESS_THAN', 0.5]}, 'objectives': {'y1': 'MINIMIZE', 'y2': 'MINIMIZE'}, 'constants': {'a': 'dummy_constant'}, 'observables': []}\n"
     ]
    }
   ],
   "source": [
    "# set values if testing\n",
    "import os\n",
    "SMOKE_TEST = os.environ.get(\"SMOKE_TEST\")\n",
    "N_MC_SAMPLES = 1 if SMOKE_TEST else 128\n",
    "NUM_RESTARTS = 1 if SMOKE_TEST else 20\n",
    "N_STEPS = 1 if SMOKE_TEST else 30\n",
    "\n",
    "# Ignore all warnings\n",
    "import warnings\n",
    "warnings.filterwarnings(\"ignore\")\n",
    "\n",
    "\n",
    "import pandas as pd\n",
    "import numpy as np\n",
    "import torch\n",
    "\n",
    "from xopt import Xopt, Evaluator\n",
    "from xopt.generators.bayesian import MOBOGenerator\n",
    "from xopt.resources.test_functions.tnk import evaluate_TNK, tnk_vocs\n",
    "\n",
    "\n",
    "evaluator = Evaluator(function=evaluate_TNK)\n",
    "print(tnk_vocs.dict())"
   ]
  },
  {
   "cell_type": "code",
   "execution_count": 2,
   "metadata": {
    "collapsed": false,
    "execution": {
     "iopub.execute_input": "2024-04-24T14:46:14.846639Z",
     "iopub.status.busy": "2024-04-24T14:46:14.846106Z",
     "iopub.status.idle": "2024-04-24T14:46:53.336143Z",
     "shell.execute_reply": "2024-04-24T14:46:53.335554Z"
    }
   },
   "outputs": [
    {
     "name": "stdout",
     "output_type": "stream",
     "text": [
      "0\n"
     ]
    },
    {
     "name": "stdout",
     "output_type": "stream",
     "text": [
      "1\n"
     ]
    },
    {
     "name": "stdout",
     "output_type": "stream",
     "text": [
      "2\n"
     ]
    },
    {
     "name": "stdout",
     "output_type": "stream",
     "text": [
      "3\n"
     ]
    },
    {
     "name": "stdout",
     "output_type": "stream",
     "text": [
      "4\n"
     ]
    },
    {
     "name": "stdout",
     "output_type": "stream",
     "text": [
      "5\n"
     ]
    },
    {
     "name": "stdout",
     "output_type": "stream",
     "text": [
      "6\n"
     ]
    },
    {
     "name": "stdout",
     "output_type": "stream",
     "text": [
      "7\n"
     ]
    },
    {
     "name": "stdout",
     "output_type": "stream",
     "text": [
      "8\n"
     ]
    },
    {
     "name": "stdout",
     "output_type": "stream",
     "text": [
      "9\n"
     ]
    },
    {
     "name": "stdout",
     "output_type": "stream",
     "text": [
      "10\n"
     ]
    },
    {
     "name": "stdout",
     "output_type": "stream",
     "text": [
      "11\n"
     ]
    },
    {
     "name": "stdout",
     "output_type": "stream",
     "text": [
      "12\n"
     ]
    },
    {
     "name": "stdout",
     "output_type": "stream",
     "text": [
      "13\n"
     ]
    },
    {
     "name": "stdout",
     "output_type": "stream",
     "text": [
      "14\n"
     ]
    },
    {
     "name": "stdout",
     "output_type": "stream",
     "text": [
      "15\n"
     ]
    },
    {
     "name": "stdout",
     "output_type": "stream",
     "text": [
      "16\n"
     ]
    },
    {
     "name": "stdout",
     "output_type": "stream",
     "text": [
      "17\n"
     ]
    },
    {
     "name": "stdout",
     "output_type": "stream",
     "text": [
      "18\n"
     ]
    },
    {
     "name": "stdout",
     "output_type": "stream",
     "text": [
      "19\n"
     ]
    },
    {
     "name": "stdout",
     "output_type": "stream",
     "text": [
      "20\n"
     ]
    },
    {
     "name": "stdout",
     "output_type": "stream",
     "text": [
      "21\n"
     ]
    },
    {
     "name": "stdout",
     "output_type": "stream",
     "text": [
      "22\n"
     ]
    },
    {
     "name": "stdout",
     "output_type": "stream",
     "text": [
      "23\n"
     ]
    },
    {
     "name": "stdout",
     "output_type": "stream",
     "text": [
      "24\n"
     ]
    },
    {
     "name": "stdout",
     "output_type": "stream",
     "text": [
      "25\n"
     ]
    },
    {
     "name": "stdout",
     "output_type": "stream",
     "text": [
      "26\n"
     ]
    },
    {
     "name": "stdout",
     "output_type": "stream",
     "text": [
      "27\n"
     ]
    },
    {
     "name": "stdout",
     "output_type": "stream",
     "text": [
      "28\n"
     ]
    },
    {
     "name": "stdout",
     "output_type": "stream",
     "text": [
      "29\n"
     ]
    }
   ],
   "source": [
    "generator = MOBOGenerator(vocs=tnk_vocs, reference_point = {\"y1\":1.5,\"y2\":1.5})\n",
    "generator.n_monte_carlo_samples = N_MC_SAMPLES\n",
    "generator.numerical_optimizer.n_restarts = NUM_RESTARTS\n",
    "\n",
    "X = Xopt(generator=generator, evaluator=evaluator, vocs=tnk_vocs)\n",
    "X.evaluate_data(pd.DataFrame({\"x1\":[1.0, 0.75],\"x2\":[0.75, 1.0]}))\n",
    "\n",
    "for i in range(N_STEPS):\n",
    "    print(i)\n",
    "    X.step()"
   ]
  },
  {
   "cell_type": "code",
   "execution_count": 3,
   "metadata": {
    "collapsed": false,
    "execution": {
     "iopub.execute_input": "2024-04-24T14:46:53.338960Z",
     "iopub.status.busy": "2024-04-24T14:46:53.338741Z",
     "iopub.status.idle": "2024-04-24T14:46:53.355589Z",
     "shell.execute_reply": "2024-04-24T14:46:53.355049Z"
    }
   },
   "outputs": [
    {
     "data": {
      "text/html": [
       "<div>\n",
       "<style scoped>\n",
       "    .dataframe tbody tr th:only-of-type {\n",
       "        vertical-align: middle;\n",
       "    }\n",
       "\n",
       "    .dataframe tbody tr th {\n",
       "        vertical-align: top;\n",
       "    }\n",
       "\n",
       "    .dataframe thead th {\n",
       "        text-align: right;\n",
       "    }\n",
       "</style>\n",
       "<table border=\"1\" class=\"dataframe\">\n",
       "  <thead>\n",
       "    <tr style=\"text-align: right;\">\n",
       "      <th></th>\n",
       "      <th>x1</th>\n",
       "      <th>x2</th>\n",
       "      <th>a</th>\n",
       "      <th>y1</th>\n",
       "      <th>y2</th>\n",
       "      <th>c1</th>\n",
       "      <th>c2</th>\n",
       "      <th>xopt_runtime</th>\n",
       "      <th>xopt_error</th>\n",
       "    </tr>\n",
       "  </thead>\n",
       "  <tbody>\n",
       "    <tr>\n",
       "      <th>0</th>\n",
       "      <td>1.000000</td>\n",
       "      <td>0.750000</td>\n",
       "      <td>dummy_constant</td>\n",
       "      <td>1.000000</td>\n",
       "      <td>0.750000</td>\n",
       "      <td>0.626888</td>\n",
       "      <td>0.312500</td>\n",
       "      <td>0.000036</td>\n",
       "      <td>False</td>\n",
       "    </tr>\n",
       "    <tr>\n",
       "      <th>1</th>\n",
       "      <td>0.750000</td>\n",
       "      <td>1.000000</td>\n",
       "      <td>dummy_constant</td>\n",
       "      <td>0.750000</td>\n",
       "      <td>1.000000</td>\n",
       "      <td>0.626888</td>\n",
       "      <td>0.312500</td>\n",
       "      <td>0.000007</td>\n",
       "      <td>False</td>\n",
       "    </tr>\n",
       "    <tr>\n",
       "      <th>2</th>\n",
       "      <td>0.000000</td>\n",
       "      <td>2.087741</td>\n",
       "      <td>dummy_constant</td>\n",
       "      <td>0.000000</td>\n",
       "      <td>2.087741</td>\n",
       "      <td>3.258662</td>\n",
       "      <td>2.770921</td>\n",
       "      <td>0.000024</td>\n",
       "      <td>False</td>\n",
       "    </tr>\n",
       "    <tr>\n",
       "      <th>3</th>\n",
       "      <td>2.492712</td>\n",
       "      <td>1.456227</td>\n",
       "      <td>dummy_constant</td>\n",
       "      <td>2.492712</td>\n",
       "      <td>1.456227</td>\n",
       "      <td>7.391125</td>\n",
       "      <td>4.885271</td>\n",
       "      <td>0.000026</td>\n",
       "      <td>False</td>\n",
       "    </tr>\n",
       "    <tr>\n",
       "      <th>4</th>\n",
       "      <td>0.414982</td>\n",
       "      <td>0.219311</td>\n",
       "      <td>dummy_constant</td>\n",
       "      <td>0.414982</td>\n",
       "      <td>0.219311</td>\n",
       "      <td>-0.787205</td>\n",
       "      <td>0.086014</td>\n",
       "      <td>0.000026</td>\n",
       "      <td>False</td>\n",
       "    </tr>\n",
       "    <tr>\n",
       "      <th>5</th>\n",
       "      <td>0.120252</td>\n",
       "      <td>0.158723</td>\n",
       "      <td>dummy_constant</td>\n",
       "      <td>0.120252</td>\n",
       "      <td>0.158723</td>\n",
       "      <td>-0.902099</td>\n",
       "      <td>0.260679</td>\n",
       "      <td>0.000027</td>\n",
       "      <td>False</td>\n",
       "    </tr>\n",
       "    <tr>\n",
       "      <th>6</th>\n",
       "      <td>0.000000</td>\n",
       "      <td>0.583360</td>\n",
       "      <td>dummy_constant</td>\n",
       "      <td>0.000000</td>\n",
       "      <td>0.583360</td>\n",
       "      <td>-0.759691</td>\n",
       "      <td>0.256949</td>\n",
       "      <td>0.000027</td>\n",
       "      <td>False</td>\n",
       "    </tr>\n",
       "    <tr>\n",
       "      <th>7</th>\n",
       "      <td>0.428560</td>\n",
       "      <td>1.021542</td>\n",
       "      <td>dummy_constant</td>\n",
       "      <td>0.428560</td>\n",
       "      <td>1.021542</td>\n",
       "      <td>0.127475</td>\n",
       "      <td>0.277110</td>\n",
       "      <td>0.000026</td>\n",
       "      <td>False</td>\n",
       "    </tr>\n",
       "    <tr>\n",
       "      <th>8</th>\n",
       "      <td>0.851483</td>\n",
       "      <td>0.000000</td>\n",
       "      <td>dummy_constant</td>\n",
       "      <td>0.851483</td>\n",
       "      <td>0.000000</td>\n",
       "      <td>-0.374976</td>\n",
       "      <td>0.373541</td>\n",
       "      <td>0.000027</td>\n",
       "      <td>False</td>\n",
       "    </tr>\n",
       "    <tr>\n",
       "      <th>9</th>\n",
       "      <td>1.050817</td>\n",
       "      <td>0.373551</td>\n",
       "      <td>dummy_constant</td>\n",
       "      <td>1.050817</td>\n",
       "      <td>0.373551</td>\n",
       "      <td>0.175412</td>\n",
       "      <td>0.319389</td>\n",
       "      <td>0.000027</td>\n",
       "      <td>False</td>\n",
       "    </tr>\n",
       "    <tr>\n",
       "      <th>10</th>\n",
       "      <td>1.072111</td>\n",
       "      <td>0.198580</td>\n",
       "      <td>dummy_constant</td>\n",
       "      <td>1.072111</td>\n",
       "      <td>0.198580</td>\n",
       "      <td>0.286633</td>\n",
       "      <td>0.418165</td>\n",
       "      <td>0.000027</td>\n",
       "      <td>False</td>\n",
       "    </tr>\n",
       "    <tr>\n",
       "      <th>11</th>\n",
       "      <td>1.025525</td>\n",
       "      <td>0.063085</td>\n",
       "      <td>dummy_constant</td>\n",
       "      <td>1.025525</td>\n",
       "      <td>0.063085</td>\n",
       "      <td>0.000229</td>\n",
       "      <td>0.467071</td>\n",
       "      <td>0.000026</td>\n",
       "      <td>False</td>\n",
       "    </tr>\n",
       "    <tr>\n",
       "      <th>12</th>\n",
       "      <td>0.845341</td>\n",
       "      <td>0.302243</td>\n",
       "      <td>dummy_constant</td>\n",
       "      <td>0.845341</td>\n",
       "      <td>0.302243</td>\n",
       "      <td>-0.264490</td>\n",
       "      <td>0.158369</td>\n",
       "      <td>0.000028</td>\n",
       "      <td>False</td>\n",
       "    </tr>\n",
       "    <tr>\n",
       "      <th>13</th>\n",
       "      <td>0.765633</td>\n",
       "      <td>0.757987</td>\n",
       "      <td>dummy_constant</td>\n",
       "      <td>0.765633</td>\n",
       "      <td>0.757987</td>\n",
       "      <td>0.061061</td>\n",
       "      <td>0.137118</td>\n",
       "      <td>0.000027</td>\n",
       "      <td>False</td>\n",
       "    </tr>\n",
       "    <tr>\n",
       "      <th>14</th>\n",
       "      <td>0.581229</td>\n",
       "      <td>0.914401</td>\n",
       "      <td>dummy_constant</td>\n",
       "      <td>0.581229</td>\n",
       "      <td>0.914401</td>\n",
       "      <td>0.267356</td>\n",
       "      <td>0.178327</td>\n",
       "      <td>0.000026</td>\n",
       "      <td>False</td>\n",
       "    </tr>\n",
       "    <tr>\n",
       "      <th>15</th>\n",
       "      <td>0.884411</td>\n",
       "      <td>0.217924</td>\n",
       "      <td>dummy_constant</td>\n",
       "      <td>0.884411</td>\n",
       "      <td>0.217924</td>\n",
       "      <td>-0.095404</td>\n",
       "      <td>0.227338</td>\n",
       "      <td>0.000028</td>\n",
       "      <td>False</td>\n",
       "    </tr>\n",
       "    <tr>\n",
       "      <th>16</th>\n",
       "      <td>1.057895</td>\n",
       "      <td>0.089112</td>\n",
       "      <td>dummy_constant</td>\n",
       "      <td>1.057895</td>\n",
       "      <td>0.089112</td>\n",
       "      <td>0.104654</td>\n",
       "      <td>0.480076</td>\n",
       "      <td>0.000027</td>\n",
       "      <td>False</td>\n",
       "    </tr>\n",
       "    <tr>\n",
       "      <th>17</th>\n",
       "      <td>0.198019</td>\n",
       "      <td>1.076452</td>\n",
       "      <td>dummy_constant</td>\n",
       "      <td>0.198019</td>\n",
       "      <td>1.076452</td>\n",
       "      <td>0.295308</td>\n",
       "      <td>0.423489</td>\n",
       "      <td>0.000026</td>\n",
       "      <td>False</td>\n",
       "    </tr>\n",
       "    <tr>\n",
       "      <th>18</th>\n",
       "      <td>0.930989</td>\n",
       "      <td>0.486233</td>\n",
       "      <td>dummy_constant</td>\n",
       "      <td>0.930989</td>\n",
       "      <td>0.486233</td>\n",
       "      <td>0.087919</td>\n",
       "      <td>0.185941</td>\n",
       "      <td>0.000027</td>\n",
       "      <td>False</td>\n",
       "    </tr>\n",
       "    <tr>\n",
       "      <th>19</th>\n",
       "      <td>0.509769</td>\n",
       "      <td>0.903080</td>\n",
       "      <td>dummy_constant</td>\n",
       "      <td>0.509769</td>\n",
       "      <td>0.903080</td>\n",
       "      <td>0.111417</td>\n",
       "      <td>0.162569</td>\n",
       "      <td>0.000027</td>\n",
       "      <td>False</td>\n",
       "    </tr>\n",
       "    <tr>\n",
       "      <th>20</th>\n",
       "      <td>0.794440</td>\n",
       "      <td>0.396014</td>\n",
       "      <td>dummy_constant</td>\n",
       "      <td>0.794440</td>\n",
       "      <td>0.396014</td>\n",
       "      <td>-0.255991</td>\n",
       "      <td>0.097508</td>\n",
       "      <td>0.000027</td>\n",
       "      <td>False</td>\n",
       "    </tr>\n",
       "    <tr>\n",
       "      <th>21</th>\n",
       "      <td>0.185022</td>\n",
       "      <td>0.381750</td>\n",
       "      <td>dummy_constant</td>\n",
       "      <td>0.185022</td>\n",
       "      <td>0.381750</td>\n",
       "      <td>-0.879197</td>\n",
       "      <td>0.113194</td>\n",
       "      <td>0.000027</td>\n",
       "      <td>False</td>\n",
       "    </tr>\n",
       "    <tr>\n",
       "      <th>22</th>\n",
       "      <td>0.484600</td>\n",
       "      <td>0.885131</td>\n",
       "      <td>dummy_constant</td>\n",
       "      <td>0.484600</td>\n",
       "      <td>0.885131</td>\n",
       "      <td>0.034289</td>\n",
       "      <td>0.148563</td>\n",
       "      <td>0.000026</td>\n",
       "      <td>False</td>\n",
       "    </tr>\n",
       "    <tr>\n",
       "      <th>23</th>\n",
       "      <td>0.064796</td>\n",
       "      <td>1.028208</td>\n",
       "      <td>dummy_constant</td>\n",
       "      <td>0.064796</td>\n",
       "      <td>1.028208</td>\n",
       "      <td>0.007967</td>\n",
       "      <td>0.468406</td>\n",
       "      <td>0.000027</td>\n",
       "      <td>False</td>\n",
       "    </tr>\n",
       "    <tr>\n",
       "      <th>24</th>\n",
       "      <td>0.982751</td>\n",
       "      <td>0.279316</td>\n",
       "      <td>dummy_constant</td>\n",
       "      <td>0.982751</td>\n",
       "      <td>0.279316</td>\n",
       "      <td>0.071619</td>\n",
       "      <td>0.281750</td>\n",
       "      <td>0.000026</td>\n",
       "      <td>False</td>\n",
       "    </tr>\n",
       "    <tr>\n",
       "      <th>25</th>\n",
       "      <td>1.449786</td>\n",
       "      <td>0.105481</td>\n",
       "      <td>dummy_constant</td>\n",
       "      <td>1.449786</td>\n",
       "      <td>0.105481</td>\n",
       "      <td>1.073259</td>\n",
       "      <td>1.057738</td>\n",
       "      <td>0.000025</td>\n",
       "      <td>False</td>\n",
       "    </tr>\n",
       "    <tr>\n",
       "      <th>26</th>\n",
       "      <td>0.644471</td>\n",
       "      <td>0.808172</td>\n",
       "      <td>dummy_constant</td>\n",
       "      <td>0.644471</td>\n",
       "      <td>0.808172</td>\n",
       "      <td>0.090765</td>\n",
       "      <td>0.115842</td>\n",
       "      <td>0.000026</td>\n",
       "      <td>False</td>\n",
       "    </tr>\n",
       "    <tr>\n",
       "      <th>27</th>\n",
       "      <td>0.836990</td>\n",
       "      <td>0.615990</td>\n",
       "      <td>dummy_constant</td>\n",
       "      <td>0.836990</td>\n",
       "      <td>0.615990</td>\n",
       "      <td>0.154746</td>\n",
       "      <td>0.127016</td>\n",
       "      <td>0.000026</td>\n",
       "      <td>False</td>\n",
       "    </tr>\n",
       "    <tr>\n",
       "      <th>28</th>\n",
       "      <td>1.299736</td>\n",
       "      <td>0.071469</td>\n",
       "      <td>dummy_constant</td>\n",
       "      <td>1.299736</td>\n",
       "      <td>0.071469</td>\n",
       "      <td>0.630621</td>\n",
       "      <td>0.823216</td>\n",
       "      <td>0.000025</td>\n",
       "      <td>False</td>\n",
       "    </tr>\n",
       "    <tr>\n",
       "      <th>29</th>\n",
       "      <td>0.468675</td>\n",
       "      <td>0.755265</td>\n",
       "      <td>dummy_constant</td>\n",
       "      <td>0.468675</td>\n",
       "      <td>0.755265</td>\n",
       "      <td>-0.124074</td>\n",
       "      <td>0.066141</td>\n",
       "      <td>0.000027</td>\n",
       "      <td>False</td>\n",
       "    </tr>\n",
       "    <tr>\n",
       "      <th>30</th>\n",
       "      <td>0.218307</td>\n",
       "      <td>2.499945</td>\n",
       "      <td>dummy_constant</td>\n",
       "      <td>0.218307</td>\n",
       "      <td>2.499945</td>\n",
       "      <td>5.279761</td>\n",
       "      <td>4.079130</td>\n",
       "      <td>0.000028</td>\n",
       "      <td>False</td>\n",
       "    </tr>\n",
       "    <tr>\n",
       "      <th>31</th>\n",
       "      <td>0.652479</td>\n",
       "      <td>0.656506</td>\n",
       "      <td>dummy_constant</td>\n",
       "      <td>0.652479</td>\n",
       "      <td>0.656506</td>\n",
       "      <td>-0.243149</td>\n",
       "      <td>0.047744</td>\n",
       "      <td>0.000027</td>\n",
       "      <td>False</td>\n",
       "    </tr>\n",
       "  </tbody>\n",
       "</table>\n",
       "</div>"
      ],
      "text/plain": [
       "          x1        x2               a        y1        y2        c1  \\\n",
       "0   1.000000  0.750000  dummy_constant  1.000000  0.750000  0.626888   \n",
       "1   0.750000  1.000000  dummy_constant  0.750000  1.000000  0.626888   \n",
       "2   0.000000  2.087741  dummy_constant  0.000000  2.087741  3.258662   \n",
       "3   2.492712  1.456227  dummy_constant  2.492712  1.456227  7.391125   \n",
       "4   0.414982  0.219311  dummy_constant  0.414982  0.219311 -0.787205   \n",
       "5   0.120252  0.158723  dummy_constant  0.120252  0.158723 -0.902099   \n",
       "6   0.000000  0.583360  dummy_constant  0.000000  0.583360 -0.759691   \n",
       "7   0.428560  1.021542  dummy_constant  0.428560  1.021542  0.127475   \n",
       "8   0.851483  0.000000  dummy_constant  0.851483  0.000000 -0.374976   \n",
       "9   1.050817  0.373551  dummy_constant  1.050817  0.373551  0.175412   \n",
       "10  1.072111  0.198580  dummy_constant  1.072111  0.198580  0.286633   \n",
       "11  1.025525  0.063085  dummy_constant  1.025525  0.063085  0.000229   \n",
       "12  0.845341  0.302243  dummy_constant  0.845341  0.302243 -0.264490   \n",
       "13  0.765633  0.757987  dummy_constant  0.765633  0.757987  0.061061   \n",
       "14  0.581229  0.914401  dummy_constant  0.581229  0.914401  0.267356   \n",
       "15  0.884411  0.217924  dummy_constant  0.884411  0.217924 -0.095404   \n",
       "16  1.057895  0.089112  dummy_constant  1.057895  0.089112  0.104654   \n",
       "17  0.198019  1.076452  dummy_constant  0.198019  1.076452  0.295308   \n",
       "18  0.930989  0.486233  dummy_constant  0.930989  0.486233  0.087919   \n",
       "19  0.509769  0.903080  dummy_constant  0.509769  0.903080  0.111417   \n",
       "20  0.794440  0.396014  dummy_constant  0.794440  0.396014 -0.255991   \n",
       "21  0.185022  0.381750  dummy_constant  0.185022  0.381750 -0.879197   \n",
       "22  0.484600  0.885131  dummy_constant  0.484600  0.885131  0.034289   \n",
       "23  0.064796  1.028208  dummy_constant  0.064796  1.028208  0.007967   \n",
       "24  0.982751  0.279316  dummy_constant  0.982751  0.279316  0.071619   \n",
       "25  1.449786  0.105481  dummy_constant  1.449786  0.105481  1.073259   \n",
       "26  0.644471  0.808172  dummy_constant  0.644471  0.808172  0.090765   \n",
       "27  0.836990  0.615990  dummy_constant  0.836990  0.615990  0.154746   \n",
       "28  1.299736  0.071469  dummy_constant  1.299736  0.071469  0.630621   \n",
       "29  0.468675  0.755265  dummy_constant  0.468675  0.755265 -0.124074   \n",
       "30  0.218307  2.499945  dummy_constant  0.218307  2.499945  5.279761   \n",
       "31  0.652479  0.656506  dummy_constant  0.652479  0.656506 -0.243149   \n",
       "\n",
       "          c2  xopt_runtime  xopt_error  \n",
       "0   0.312500      0.000036       False  \n",
       "1   0.312500      0.000007       False  \n",
       "2   2.770921      0.000024       False  \n",
       "3   4.885271      0.000026       False  \n",
       "4   0.086014      0.000026       False  \n",
       "5   0.260679      0.000027       False  \n",
       "6   0.256949      0.000027       False  \n",
       "7   0.277110      0.000026       False  \n",
       "8   0.373541      0.000027       False  \n",
       "9   0.319389      0.000027       False  \n",
       "10  0.418165      0.000027       False  \n",
       "11  0.467071      0.000026       False  \n",
       "12  0.158369      0.000028       False  \n",
       "13  0.137118      0.000027       False  \n",
       "14  0.178327      0.000026       False  \n",
       "15  0.227338      0.000028       False  \n",
       "16  0.480076      0.000027       False  \n",
       "17  0.423489      0.000026       False  \n",
       "18  0.185941      0.000027       False  \n",
       "19  0.162569      0.000027       False  \n",
       "20  0.097508      0.000027       False  \n",
       "21  0.113194      0.000027       False  \n",
       "22  0.148563      0.000026       False  \n",
       "23  0.468406      0.000027       False  \n",
       "24  0.281750      0.000026       False  \n",
       "25  1.057738      0.000025       False  \n",
       "26  0.115842      0.000026       False  \n",
       "27  0.127016      0.000026       False  \n",
       "28  0.823216      0.000025       False  \n",
       "29  0.066141      0.000027       False  \n",
       "30  4.079130      0.000028       False  \n",
       "31  0.047744      0.000027       False  "
      ]
     },
     "execution_count": 3,
     "metadata": {},
     "output_type": "execute_result"
    }
   ],
   "source": [
    "X.generator.data"
   ]
  },
  {
   "cell_type": "markdown",
   "metadata": {
    "collapsed": false
   },
   "source": [
    "## plot results\n"
   ]
  },
  {
   "cell_type": "code",
   "execution_count": 4,
   "metadata": {
    "collapsed": false,
    "execution": {
     "iopub.execute_input": "2024-04-24T14:46:53.357966Z",
     "iopub.status.busy": "2024-04-24T14:46:53.357763Z",
     "iopub.status.idle": "2024-04-24T14:46:53.722916Z",
     "shell.execute_reply": "2024-04-24T14:46:53.722279Z"
    }
   },
   "outputs": [
    {
     "data": {
      "image/png": "[encoded data removed]",
      "text/plain": [
       "<Figure size 640x480 with 1 Axes>"
      ]
     },
     "metadata": {},
     "output_type": "display_data"
    }
   ],
   "source": [
    "import matplotlib.pyplot as plt\n",
    "\n",
    "fig, ax = plt.subplots()\n",
    "\n",
    "theta = np.linspace(0, np.pi / 2)\n",
    "r = np.sqrt(1 + 0.1 * np.cos(16 * theta))\n",
    "x_1 = r * np.sin(theta)\n",
    "x_2_lower = r * np.cos(theta)\n",
    "x_2_upper = (0.5 - (x_1 - 0.5) ** 2) ** 0.5 + 0.5\n",
    "\n",
    "z = np.zeros_like(x_1)\n",
    "\n",
    "# ax2.plot(x_1, x_2_lower,'r')\n",
    "ax.fill_between(x_1, z, x_2_lower, fc=\"white\")\n",
    "circle = plt.Circle(\n",
    "    (0.5, 0.5), 0.5 ** 0.5, color=\"r\", alpha=0.25, zorder=0, label=\"Valid Region\"\n",
    ")\n",
    "ax.add_patch(circle)\n",
    "history = pd.concat(\n",
    "    [X.data, tnk_vocs.feasibility_data(X.data)], axis=1, ignore_index=False\n",
    ")\n",
    "\n",
    "\n",
    "ax.plot(*history[[\"x1\", \"x2\"]][history[\"feasible\"]].to_numpy().T, \".C1\")\n",
    "ax.plot(*history[[\"x1\", \"x2\"]][~history[\"feasible\"]].to_numpy().T, \".C2\")\n",
    "\n",
    "ax.set_xlim(0, 3.14)\n",
    "ax.set_ylim(0, 3.14)\n",
    "ax.set_xlabel(\"x1\")\n",
    "ax.set_ylabel(\"x2\")\n",
    "ax.set_aspect(\"equal\")"
   ]
  },
  {
   "cell_type": "markdown",
   "metadata": {
    "collapsed": false
   },
   "source": [
    "### Plot path through input space"
   ]
  },
  {
   "cell_type": "code",
   "execution_count": 5,
   "metadata": {
    "collapsed": false,
    "execution": {
     "iopub.execute_input": "2024-04-24T14:46:53.725921Z",
     "iopub.status.busy": "2024-04-24T14:46:53.725290Z",
     "iopub.status.idle": "2024-04-24T14:46:53.970020Z",
     "shell.execute_reply": "2024-04-24T14:46:53.969350Z"
    }
   },
   "outputs": [
    {
     "data": {
      "image/png": "[encoded data removed]",
      "text/plain": [
       "<Figure size 640x480 with 1 Axes>"
      ]
     },
     "metadata": {},
     "output_type": "display_data"
    }
   ],
   "source": [
    "ax = history.plot(\"x1\", \"x2\")\n",
    "ax.set_ylim(0, 3.14)\n",
    "ax.set_xlim(0, 3.14)\n",
    "ax.set_aspect(\"equal\")"
   ]
  },
  {
   "cell_type": "code",
   "execution_count": 6,
   "metadata": {
    "collapsed": false,
    "execution": {
     "iopub.execute_input": "2024-04-24T14:46:53.972573Z",
     "iopub.status.busy": "2024-04-24T14:46:53.972323Z",
     "iopub.status.idle": "2024-04-24T14:47:05.155629Z",
     "shell.execute_reply": "2024-04-24T14:47:05.154993Z"
    }
   },
   "outputs": [
    {
     "name": "stdout",
     "output_type": "stream",
     "text": [
      "[[0.73309459 0.71046109]]\n"
     ]
    },
    {
     "data": {
      "text/plain": [
       "[<matplotlib.lines.Line2D at 0x7f625852d6a0>]"
      ]
     },
     "execution_count": 6,
     "metadata": {},
     "output_type": "execute_result"
    },
    {
     "data": {
      "image/png": "[encoded data removed]",
      "text/plain": [
       "<Figure size 640x480 with 2 Axes>"
      ]
     },
     "metadata": {},
     "output_type": "display_data"
    },
    {
     "data": {
      "image/png": "[encoded data removed]",
      "text/plain": [
       "<Figure size 640x480 with 2 Axes>"
      ]
     },
     "metadata": {},
     "output_type": "display_data"
    }
   ],
   "source": [
    "# plot the acquisition function\n",
    "from xopt.generators.bayesian.objectives import feasibility\n",
    "\n",
    "bounds = X.generator.vocs.bounds\n",
    "model = X.generator.model\n",
    "\n",
    "# create mesh\n",
    "n = 200\n",
    "x = torch.linspace(*bounds.T[0], n)\n",
    "y = torch.linspace(*bounds.T[1], n)\n",
    "xx, yy = torch.meshgrid(x, y)\n",
    "pts = torch.hstack([ele.reshape(-1, 1) for ele in (xx, yy)]).double()\n",
    "\n",
    "xx, yy = xx.numpy(), yy.numpy()\n",
    "\n",
    "acq_func = X.generator.get_acquisition(model)\n",
    "with torch.no_grad():\n",
    "    acq_pts = pts.unsqueeze(1)\n",
    "    acq = acq_func(acq_pts)\n",
    "\n",
    "    fig, ax = plt.subplots()\n",
    "    c = ax.pcolor(xx, yy, acq.reshape(n, n), cmap=\"Blues\")\n",
    "    fig.colorbar(c)\n",
    "    ax.set_title(\"Acquisition function\")\n",
    "\n",
    "    ax.plot(*history[[\"x1\", \"x2\"]][history[\"feasible\"]].to_numpy().T, \".C1\")\n",
    "    ax.plot(*history[[\"x1\", \"x2\"]][~history[\"feasible\"]].to_numpy().T, \".C2\")\n",
    "\n",
    "    ax.plot(*history[[\"x1\", \"x2\"]].to_numpy()[-1].T, \"+\")\n",
    "\n",
    "    feas = feasibility(pts.unsqueeze(1), model, tnk_vocs).flatten()\n",
    "\n",
    "    fig2, ax2 = plt.subplots()\n",
    "    c = ax2.pcolor(xx, yy, feas.reshape(n, n))\n",
    "    fig2.colorbar(c)\n",
    "    ax2.set_title(\"Feasible Region\")\n",
    "\n",
    "candidate = pd.DataFrame(X.generator.generate(1), index=[0])\n",
    "print(candidate[[\"x1\", \"x2\"]].to_numpy())\n",
    "ax.plot(*candidate[[\"x1\", \"x2\"]].to_numpy()[0], \"o\")"
   ]
  },
  {
   "cell_type": "code",
   "execution_count": 7,
   "metadata": {
    "collapsed": false,
    "execution": {
     "iopub.execute_input": "2024-04-24T14:47:05.158287Z",
     "iopub.status.busy": "2024-04-24T14:47:05.157909Z",
     "iopub.status.idle": "2024-04-24T14:47:05.860937Z",
     "shell.execute_reply": "2024-04-24T14:47:05.860271Z"
    }
   },
   "outputs": [
    {
     "name": "stdout",
     "output_type": "stream",
     "text": [
      "CPU times: user 1.36 s, sys: 35.9 ms, total: 1.39 s\n",
      "Wall time: 699 ms\n"
     ]
    }
   ],
   "source": [
    "%%time\n",
    "candidate = X.generator.generate(1)"
   ]
  }
 ],
 "metadata": {
  "interpreter": {
   "hash": "72034539424920dfb606fe3b820b3f27dca0cbf1c69938110810ec4641e275b1"
  },
  "kernelspec": {
   "display_name": "Python 3 (ipykernel)",
   "language": "python",
   "name": "python3"
  },
  "language_info": {
   "codemirror_mode": {
    "name": "ipython",
    "version": 3
   },
   "file_extension": ".py",
   "mimetype": "text/x-python",
   "name": "python",
   "nbconvert_exporter": "python",
   "pygments_lexer": "ipython3",
   "version": "3.9.19"
  }
 },
 "nbformat": 4,
 "nbformat_minor": 4
}
