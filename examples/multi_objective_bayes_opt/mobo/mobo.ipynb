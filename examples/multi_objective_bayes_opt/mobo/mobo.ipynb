{
 "cells": [
  {
   "cell_type": "markdown",
   "metadata": {},
   "source": [
    "\n",
    "# Multi-objective Bayesian Optimization\n",
    "\n",
    "\n",
    "TNK function\n",
    "$n=2$ variables:\n",
    "$x_i \\in [0, \\pi], i=1,2$\n",
    "\n",
    "Objectives:\n",
    "- $f_i(x) = x_i$\n",
    "\n",
    "Constraints:\n",
    "- $g_1(x) = -x_1^2 -x_2^2 + 1 + 0.1 \\cos\\left(16 \\arctan \\frac{x_1}{x_2}\\right) \\le 0$\n",
    "- $g_2(x) = (x_1 - 1/2)^2 + (x_2-1/2)^2 \\le 0.5$"
   ]
  },
  {
   "cell_type": "code",
   "execution_count": 1,
   "metadata": {
    "collapsed": false,
    "execution": {
     "iopub.execute_input": "2024-08-20T19:29:36.613032Z",
     "iopub.status.busy": "2024-08-20T19:29:36.612861Z",
     "iopub.status.idle": "2024-08-20T19:29:38.531615Z",
     "shell.execute_reply": "2024-08-20T19:29:38.530970Z"
    }
   },
   "outputs": [
    {
     "name": "stdout",
     "output_type": "stream",
     "text": [
      "{'variables': {'x1': [0.0, 3.14159], 'x2': [0.0, 3.14159]}, 'constraints': {'c1': ['GREATER_THAN', 0.0], 'c2': ['LESS_THAN', 0.5]}, 'objectives': {'y1': 'MINIMIZE', 'y2': 'MINIMIZE'}, 'constants': {'a': 'dummy_constant'}, 'observables': []}\n"
     ]
    }
   ],
   "source": [
    "# set values if testing\n",
    "import os\n",
    "SMOKE_TEST = os.environ.get(\"SMOKE_TEST\")\n",
    "N_MC_SAMPLES = 1 if SMOKE_TEST else 128\n",
    "NUM_RESTARTS = 1 if SMOKE_TEST else 20\n",
    "N_STEPS = 1 if SMOKE_TEST else 30\n",
    "\n",
    "# Ignore all warnings\n",
    "import warnings\n",
    "warnings.filterwarnings(\"ignore\")\n",
    "\n",
    "\n",
    "import pandas as pd\n",
    "import numpy as np\n",
    "import torch\n",
    "\n",
    "from xopt import Xopt, Evaluator\n",
    "from xopt.generators.bayesian import MOBOGenerator\n",
    "from xopt.resources.test_functions.tnk import evaluate_TNK, tnk_vocs\n",
    "\n",
    "\n",
    "evaluator = Evaluator(function=evaluate_TNK)\n",
    "print(tnk_vocs.dict())"
   ]
  },
  {
   "cell_type": "code",
   "execution_count": 2,
   "metadata": {
    "collapsed": false,
    "execution": {
     "iopub.execute_input": "2024-08-20T19:29:38.560715Z",
     "iopub.status.busy": "2024-08-20T19:29:38.560446Z",
     "iopub.status.idle": "2024-08-20T19:30:34.974864Z",
     "shell.execute_reply": "2024-08-20T19:30:34.974284Z"
    }
   },
   "outputs": [
    {
     "name": "stdout",
     "output_type": "stream",
     "text": [
      "0\n"
     ]
    },
    {
     "name": "stdout",
     "output_type": "stream",
     "text": [
      "1\n"
     ]
    },
    {
     "name": "stdout",
     "output_type": "stream",
     "text": [
      "2\n"
     ]
    },
    {
     "name": "stdout",
     "output_type": "stream",
     "text": [
      "3\n"
     ]
    },
    {
     "name": "stdout",
     "output_type": "stream",
     "text": [
      "4\n"
     ]
    },
    {
     "name": "stdout",
     "output_type": "stream",
     "text": [
      "5\n"
     ]
    },
    {
     "name": "stdout",
     "output_type": "stream",
     "text": [
      "6\n"
     ]
    },
    {
     "name": "stdout",
     "output_type": "stream",
     "text": [
      "7\n"
     ]
    },
    {
     "name": "stdout",
     "output_type": "stream",
     "text": [
      "8\n"
     ]
    },
    {
     "name": "stdout",
     "output_type": "stream",
     "text": [
      "9\n"
     ]
    },
    {
     "name": "stdout",
     "output_type": "stream",
     "text": [
      "10\n"
     ]
    },
    {
     "name": "stdout",
     "output_type": "stream",
     "text": [
      "11\n"
     ]
    },
    {
     "name": "stdout",
     "output_type": "stream",
     "text": [
      "12\n"
     ]
    },
    {
     "name": "stdout",
     "output_type": "stream",
     "text": [
      "13\n"
     ]
    },
    {
     "name": "stdout",
     "output_type": "stream",
     "text": [
      "14\n"
     ]
    },
    {
     "name": "stdout",
     "output_type": "stream",
     "text": [
      "15\n"
     ]
    },
    {
     "name": "stdout",
     "output_type": "stream",
     "text": [
      "16\n"
     ]
    },
    {
     "name": "stdout",
     "output_type": "stream",
     "text": [
      "17\n"
     ]
    },
    {
     "name": "stdout",
     "output_type": "stream",
     "text": [
      "18\n"
     ]
    },
    {
     "name": "stdout",
     "output_type": "stream",
     "text": [
      "19\n"
     ]
    },
    {
     "name": "stdout",
     "output_type": "stream",
     "text": [
      "20\n"
     ]
    },
    {
     "name": "stdout",
     "output_type": "stream",
     "text": [
      "21\n"
     ]
    },
    {
     "name": "stdout",
     "output_type": "stream",
     "text": [
      "22\n"
     ]
    },
    {
     "name": "stdout",
     "output_type": "stream",
     "text": [
      "23\n"
     ]
    },
    {
     "name": "stdout",
     "output_type": "stream",
     "text": [
      "24\n"
     ]
    },
    {
     "name": "stdout",
     "output_type": "stream",
     "text": [
      "25\n"
     ]
    },
    {
     "name": "stdout",
     "output_type": "stream",
     "text": [
      "26\n"
     ]
    },
    {
     "name": "stdout",
     "output_type": "stream",
     "text": [
      "27\n"
     ]
    },
    {
     "name": "stdout",
     "output_type": "stream",
     "text": [
      "28\n"
     ]
    },
    {
     "name": "stdout",
     "output_type": "stream",
     "text": [
      "29\n"
     ]
    }
   ],
   "source": [
    "generator = MOBOGenerator(vocs=tnk_vocs, reference_point = {\"y1\":1.5,\"y2\":1.5})\n",
    "generator.n_monte_carlo_samples = N_MC_SAMPLES\n",
    "generator.numerical_optimizer.n_restarts = NUM_RESTARTS\n",
    "\n",
    "X = Xopt(generator=generator, evaluator=evaluator, vocs=tnk_vocs)\n",
    "X.evaluate_data(pd.DataFrame({\"x1\":[1.0, 0.75],\"x2\":[0.75, 1.0]}))\n",
    "\n",
    "for i in range(N_STEPS):\n",
    "    print(i)\n",
    "    X.step()"
   ]
  },
  {
   "cell_type": "code",
   "execution_count": 3,
   "metadata": {
    "collapsed": false,
    "execution": {
     "iopub.execute_input": "2024-08-20T19:30:34.977597Z",
     "iopub.status.busy": "2024-08-20T19:30:34.977318Z",
     "iopub.status.idle": "2024-08-20T19:30:34.992948Z",
     "shell.execute_reply": "2024-08-20T19:30:34.992356Z"
    }
   },
   "outputs": [
    {
     "data": {
      "text/html": [
       "<div>\n",
       "<style scoped>\n",
       "    .dataframe tbody tr th:only-of-type {\n",
       "        vertical-align: middle;\n",
       "    }\n",
       "\n",
       "    .dataframe tbody tr th {\n",
       "        vertical-align: top;\n",
       "    }\n",
       "\n",
       "    .dataframe thead th {\n",
       "        text-align: right;\n",
       "    }\n",
       "</style>\n",
       "<table border=\"1\" class=\"dataframe\">\n",
       "  <thead>\n",
       "    <tr style=\"text-align: right;\">\n",
       "      <th></th>\n",
       "      <th>x1</th>\n",
       "      <th>x2</th>\n",
       "      <th>a</th>\n",
       "      <th>y1</th>\n",
       "      <th>y2</th>\n",
       "      <th>c1</th>\n",
       "      <th>c2</th>\n",
       "      <th>xopt_runtime</th>\n",
       "      <th>xopt_error</th>\n",
       "    </tr>\n",
       "  </thead>\n",
       "  <tbody>\n",
       "    <tr>\n",
       "      <th>0</th>\n",
       "      <td>1.000000</td>\n",
       "      <td>0.750000</td>\n",
       "      <td>dummy_constant</td>\n",
       "      <td>1.000000</td>\n",
       "      <td>0.750000</td>\n",
       "      <td>0.626888</td>\n",
       "      <td>0.312500</td>\n",
       "      <td>0.000032</td>\n",
       "      <td>False</td>\n",
       "    </tr>\n",
       "    <tr>\n",
       "      <th>1</th>\n",
       "      <td>0.750000</td>\n",
       "      <td>1.000000</td>\n",
       "      <td>dummy_constant</td>\n",
       "      <td>0.750000</td>\n",
       "      <td>1.000000</td>\n",
       "      <td>0.626888</td>\n",
       "      <td>0.312500</td>\n",
       "      <td>0.000009</td>\n",
       "      <td>False</td>\n",
       "    </tr>\n",
       "    <tr>\n",
       "      <th>2</th>\n",
       "      <td>0.000000</td>\n",
       "      <td>3.141590</td>\n",
       "      <td>dummy_constant</td>\n",
       "      <td>0.000000</td>\n",
       "      <td>3.141590</td>\n",
       "      <td>8.769588</td>\n",
       "      <td>7.227998</td>\n",
       "      <td>0.000021</td>\n",
       "      <td>False</td>\n",
       "    </tr>\n",
       "    <tr>\n",
       "      <th>3</th>\n",
       "      <td>0.000000</td>\n",
       "      <td>0.000000</td>\n",
       "      <td>dummy_constant</td>\n",
       "      <td>0.000000</td>\n",
       "      <td>0.000000</td>\n",
       "      <td>-1.100000</td>\n",
       "      <td>0.500000</td>\n",
       "      <td>0.000021</td>\n",
       "      <td>False</td>\n",
       "    </tr>\n",
       "    <tr>\n",
       "      <th>4</th>\n",
       "      <td>0.000000</td>\n",
       "      <td>0.587213</td>\n",
       "      <td>dummy_constant</td>\n",
       "      <td>0.000000</td>\n",
       "      <td>0.587213</td>\n",
       "      <td>-0.755181</td>\n",
       "      <td>0.257606</td>\n",
       "      <td>0.000022</td>\n",
       "      <td>False</td>\n",
       "    </tr>\n",
       "    <tr>\n",
       "      <th>5</th>\n",
       "      <td>0.324988</td>\n",
       "      <td>0.000000</td>\n",
       "      <td>dummy_constant</td>\n",
       "      <td>0.324988</td>\n",
       "      <td>0.000000</td>\n",
       "      <td>-0.994383</td>\n",
       "      <td>0.280629</td>\n",
       "      <td>0.000026</td>\n",
       "      <td>False</td>\n",
       "    </tr>\n",
       "    <tr>\n",
       "      <th>6</th>\n",
       "      <td>0.426031</td>\n",
       "      <td>0.958613</td>\n",
       "      <td>dummy_constant</td>\n",
       "      <td>0.426031</td>\n",
       "      <td>0.958613</td>\n",
       "      <td>0.008655</td>\n",
       "      <td>0.215798</td>\n",
       "      <td>0.000025</td>\n",
       "      <td>False</td>\n",
       "    </tr>\n",
       "    <tr>\n",
       "      <th>7</th>\n",
       "      <td>0.972198</td>\n",
       "      <td>0.446782</td>\n",
       "      <td>dummy_constant</td>\n",
       "      <td>0.972198</td>\n",
       "      <td>0.446782</td>\n",
       "      <td>0.062772</td>\n",
       "      <td>0.225803</td>\n",
       "      <td>0.000025</td>\n",
       "      <td>False</td>\n",
       "    </tr>\n",
       "    <tr>\n",
       "      <th>8</th>\n",
       "      <td>0.297788</td>\n",
       "      <td>1.031168</td>\n",
       "      <td>dummy_constant</td>\n",
       "      <td>0.297788</td>\n",
       "      <td>1.031168</td>\n",
       "      <td>0.173239</td>\n",
       "      <td>0.323029</td>\n",
       "      <td>0.000026</td>\n",
       "      <td>False</td>\n",
       "    </tr>\n",
       "    <tr>\n",
       "      <th>9</th>\n",
       "      <td>0.000000</td>\n",
       "      <td>0.975866</td>\n",
       "      <td>dummy_constant</td>\n",
       "      <td>0.000000</td>\n",
       "      <td>0.975866</td>\n",
       "      <td>-0.147685</td>\n",
       "      <td>0.476449</td>\n",
       "      <td>0.000024</td>\n",
       "      <td>False</td>\n",
       "    </tr>\n",
       "    <tr>\n",
       "      <th>10</th>\n",
       "      <td>1.074935</td>\n",
       "      <td>0.279397</td>\n",
       "      <td>dummy_constant</td>\n",
       "      <td>1.074935</td>\n",
       "      <td>0.279397</td>\n",
       "      <td>0.293564</td>\n",
       "      <td>0.379216</td>\n",
       "      <td>0.000026</td>\n",
       "      <td>False</td>\n",
       "    </tr>\n",
       "    <tr>\n",
       "      <th>11</th>\n",
       "      <td>0.966184</td>\n",
       "      <td>0.000000</td>\n",
       "      <td>dummy_constant</td>\n",
       "      <td>0.966184</td>\n",
       "      <td>0.000000</td>\n",
       "      <td>-0.166488</td>\n",
       "      <td>0.467328</td>\n",
       "      <td>0.000026</td>\n",
       "      <td>False</td>\n",
       "    </tr>\n",
       "    <tr>\n",
       "      <th>12</th>\n",
       "      <td>0.764746</td>\n",
       "      <td>0.779177</td>\n",
       "      <td>dummy_constant</td>\n",
       "      <td>0.764746</td>\n",
       "      <td>0.779177</td>\n",
       "      <td>0.093069</td>\n",
       "      <td>0.148030</td>\n",
       "      <td>0.000025</td>\n",
       "      <td>False</td>\n",
       "    </tr>\n",
       "    <tr>\n",
       "      <th>13</th>\n",
       "      <td>1.039478</td>\n",
       "      <td>0.079186</td>\n",
       "      <td>dummy_constant</td>\n",
       "      <td>1.039478</td>\n",
       "      <td>0.079186</td>\n",
       "      <td>0.052092</td>\n",
       "      <td>0.468120</td>\n",
       "      <td>0.000026</td>\n",
       "      <td>False</td>\n",
       "    </tr>\n",
       "    <tr>\n",
       "      <th>14</th>\n",
       "      <td>0.870410</td>\n",
       "      <td>0.628847</td>\n",
       "      <td>dummy_constant</td>\n",
       "      <td>0.870410</td>\n",
       "      <td>0.628847</td>\n",
       "      <td>0.236399</td>\n",
       "      <td>0.153805</td>\n",
       "      <td>0.000025</td>\n",
       "      <td>False</td>\n",
       "    </tr>\n",
       "    <tr>\n",
       "      <th>15</th>\n",
       "      <td>0.111888</td>\n",
       "      <td>1.055594</td>\n",
       "      <td>dummy_constant</td>\n",
       "      <td>0.111888</td>\n",
       "      <td>1.055594</td>\n",
       "      <td>0.138651</td>\n",
       "      <td>0.459315</td>\n",
       "      <td>0.000025</td>\n",
       "      <td>False</td>\n",
       "    </tr>\n",
       "    <tr>\n",
       "      <th>16</th>\n",
       "      <td>1.472831</td>\n",
       "      <td>0.075071</td>\n",
       "      <td>dummy_constant</td>\n",
       "      <td>1.472831</td>\n",
       "      <td>0.075071</td>\n",
       "      <td>1.106268</td>\n",
       "      <td>1.126966</td>\n",
       "      <td>0.000026</td>\n",
       "      <td>False</td>\n",
       "    </tr>\n",
       "    <tr>\n",
       "      <th>17</th>\n",
       "      <td>0.051036</td>\n",
       "      <td>1.029109</td>\n",
       "      <td>dummy_constant</td>\n",
       "      <td>0.051036</td>\n",
       "      <td>1.029109</td>\n",
       "      <td>-0.008514</td>\n",
       "      <td>0.481524</td>\n",
       "      <td>0.000028</td>\n",
       "      <td>False</td>\n",
       "    </tr>\n",
       "    <tr>\n",
       "      <th>18</th>\n",
       "      <td>0.111825</td>\n",
       "      <td>0.924205</td>\n",
       "      <td>dummy_constant</td>\n",
       "      <td>0.111825</td>\n",
       "      <td>0.924205</td>\n",
       "      <td>-0.098508</td>\n",
       "      <td>0.330630</td>\n",
       "      <td>0.000025</td>\n",
       "      <td>False</td>\n",
       "    </tr>\n",
       "    <tr>\n",
       "      <th>19</th>\n",
       "      <td>0.629034</td>\n",
       "      <td>0.839758</td>\n",
       "      <td>dummy_constant</td>\n",
       "      <td>0.629034</td>\n",
       "      <td>0.839758</td>\n",
       "      <td>0.165994</td>\n",
       "      <td>0.132085</td>\n",
       "      <td>0.000027</td>\n",
       "      <td>False</td>\n",
       "    </tr>\n",
       "    <tr>\n",
       "      <th>20</th>\n",
       "      <td>0.165795</td>\n",
       "      <td>0.947881</td>\n",
       "      <td>dummy_constant</td>\n",
       "      <td>0.165795</td>\n",
       "      <td>0.947881</td>\n",
       "      <td>0.019161</td>\n",
       "      <td>0.312290</td>\n",
       "      <td>0.000026</td>\n",
       "      <td>False</td>\n",
       "    </tr>\n",
       "    <tr>\n",
       "      <th>21</th>\n",
       "      <td>0.232979</td>\n",
       "      <td>0.986453</td>\n",
       "      <td>dummy_constant</td>\n",
       "      <td>0.232979</td>\n",
       "      <td>0.986453</td>\n",
       "      <td>0.111598</td>\n",
       "      <td>0.307936</td>\n",
       "      <td>0.000081</td>\n",
       "      <td>False</td>\n",
       "    </tr>\n",
       "    <tr>\n",
       "      <th>22</th>\n",
       "      <td>1.065475</td>\n",
       "      <td>0.106563</td>\n",
       "      <td>dummy_constant</td>\n",
       "      <td>1.065475</td>\n",
       "      <td>0.106563</td>\n",
       "      <td>0.149005</td>\n",
       "      <td>0.474554</td>\n",
       "      <td>0.000026</td>\n",
       "      <td>False</td>\n",
       "    </tr>\n",
       "    <tr>\n",
       "      <th>23</th>\n",
       "      <td>0.821376</td>\n",
       "      <td>0.268307</td>\n",
       "      <td>dummy_constant</td>\n",
       "      <td>0.821376</td>\n",
       "      <td>0.268307</td>\n",
       "      <td>-0.286634</td>\n",
       "      <td>0.156964</td>\n",
       "      <td>0.000024</td>\n",
       "      <td>False</td>\n",
       "    </tr>\n",
       "    <tr>\n",
       "      <th>24</th>\n",
       "      <td>0.950085</td>\n",
       "      <td>0.368933</td>\n",
       "      <td>dummy_constant</td>\n",
       "      <td>0.950085</td>\n",
       "      <td>0.368933</td>\n",
       "      <td>-0.054926</td>\n",
       "      <td>0.219755</td>\n",
       "      <td>0.000028</td>\n",
       "      <td>False</td>\n",
       "    </tr>\n",
       "    <tr>\n",
       "      <th>25</th>\n",
       "      <td>0.564810</td>\n",
       "      <td>0.404684</td>\n",
       "      <td>dummy_constant</td>\n",
       "      <td>0.564810</td>\n",
       "      <td>0.404684</td>\n",
       "      <td>-0.430569</td>\n",
       "      <td>0.013285</td>\n",
       "      <td>0.000027</td>\n",
       "      <td>False</td>\n",
       "    </tr>\n",
       "    <tr>\n",
       "      <th>26</th>\n",
       "      <td>0.487437</td>\n",
       "      <td>0.887747</td>\n",
       "      <td>dummy_constant</td>\n",
       "      <td>0.487437</td>\n",
       "      <td>0.887747</td>\n",
       "      <td>0.043603</td>\n",
       "      <td>0.150506</td>\n",
       "      <td>0.000027</td>\n",
       "      <td>False</td>\n",
       "    </tr>\n",
       "    <tr>\n",
       "      <th>27</th>\n",
       "      <td>0.770987</td>\n",
       "      <td>0.662001</td>\n",
       "      <td>dummy_constant</td>\n",
       "      <td>0.770987</td>\n",
       "      <td>0.662001</td>\n",
       "      <td>-0.002211</td>\n",
       "      <td>0.099678</td>\n",
       "      <td>0.000024</td>\n",
       "      <td>False</td>\n",
       "    </tr>\n",
       "    <tr>\n",
       "      <th>28</th>\n",
       "      <td>0.426243</td>\n",
       "      <td>0.815263</td>\n",
       "      <td>dummy_constant</td>\n",
       "      <td>0.426243</td>\n",
       "      <td>0.815263</td>\n",
       "      <td>-0.168220</td>\n",
       "      <td>0.104831</td>\n",
       "      <td>0.000026</td>\n",
       "      <td>False</td>\n",
       "    </tr>\n",
       "    <tr>\n",
       "      <th>29</th>\n",
       "      <td>0.998417</td>\n",
       "      <td>0.245490</td>\n",
       "      <td>dummy_constant</td>\n",
       "      <td>0.998417</td>\n",
       "      <td>0.245490</td>\n",
       "      <td>0.132549</td>\n",
       "      <td>0.313195</td>\n",
       "      <td>0.000025</td>\n",
       "      <td>False</td>\n",
       "    </tr>\n",
       "    <tr>\n",
       "      <th>30</th>\n",
       "      <td>0.372358</td>\n",
       "      <td>0.865367</td>\n",
       "      <td>dummy_constant</td>\n",
       "      <td>0.372358</td>\n",
       "      <td>0.865367</td>\n",
       "      <td>-0.210117</td>\n",
       "      <td>0.149786</td>\n",
       "      <td>0.000026</td>\n",
       "      <td>False</td>\n",
       "    </tr>\n",
       "    <tr>\n",
       "      <th>31</th>\n",
       "      <td>0.752166</td>\n",
       "      <td>0.297879</td>\n",
       "      <td>dummy_constant</td>\n",
       "      <td>0.752166</td>\n",
       "      <td>0.297879</td>\n",
       "      <td>-0.442407</td>\n",
       "      <td>0.104440</td>\n",
       "      <td>0.000027</td>\n",
       "      <td>False</td>\n",
       "    </tr>\n",
       "  </tbody>\n",
       "</table>\n",
       "</div>"
      ],
      "text/plain": [
       "          x1        x2               a        y1        y2        c1  \\\n",
       "0   1.000000  0.750000  dummy_constant  1.000000  0.750000  0.626888   \n",
       "1   0.750000  1.000000  dummy_constant  0.750000  1.000000  0.626888   \n",
       "2   0.000000  3.141590  dummy_constant  0.000000  3.141590  8.769588   \n",
       "3   0.000000  0.000000  dummy_constant  0.000000  0.000000 -1.100000   \n",
       "4   0.000000  0.587213  dummy_constant  0.000000  0.587213 -0.755181   \n",
       "5   0.324988  0.000000  dummy_constant  0.324988  0.000000 -0.994383   \n",
       "6   0.426031  0.958613  dummy_constant  0.426031  0.958613  0.008655   \n",
       "7   0.972198  0.446782  dummy_constant  0.972198  0.446782  0.062772   \n",
       "8   0.297788  1.031168  dummy_constant  0.297788  1.031168  0.173239   \n",
       "9   0.000000  0.975866  dummy_constant  0.000000  0.975866 -0.147685   \n",
       "10  1.074935  0.279397  dummy_constant  1.074935  0.279397  0.293564   \n",
       "11  0.966184  0.000000  dummy_constant  0.966184  0.000000 -0.166488   \n",
       "12  0.764746  0.779177  dummy_constant  0.764746  0.779177  0.093069   \n",
       "13  1.039478  0.079186  dummy_constant  1.039478  0.079186  0.052092   \n",
       "14  0.870410  0.628847  dummy_constant  0.870410  0.628847  0.236399   \n",
       "15  0.111888  1.055594  dummy_constant  0.111888  1.055594  0.138651   \n",
       "16  1.472831  0.075071  dummy_constant  1.472831  0.075071  1.106268   \n",
       "17  0.051036  1.029109  dummy_constant  0.051036  1.029109 -0.008514   \n",
       "18  0.111825  0.924205  dummy_constant  0.111825  0.924205 -0.098508   \n",
       "19  0.629034  0.839758  dummy_constant  0.629034  0.839758  0.165994   \n",
       "20  0.165795  0.947881  dummy_constant  0.165795  0.947881  0.019161   \n",
       "21  0.232979  0.986453  dummy_constant  0.232979  0.986453  0.111598   \n",
       "22  1.065475  0.106563  dummy_constant  1.065475  0.106563  0.149005   \n",
       "23  0.821376  0.268307  dummy_constant  0.821376  0.268307 -0.286634   \n",
       "24  0.950085  0.368933  dummy_constant  0.950085  0.368933 -0.054926   \n",
       "25  0.564810  0.404684  dummy_constant  0.564810  0.404684 -0.430569   \n",
       "26  0.487437  0.887747  dummy_constant  0.487437  0.887747  0.043603   \n",
       "27  0.770987  0.662001  dummy_constant  0.770987  0.662001 -0.002211   \n",
       "28  0.426243  0.815263  dummy_constant  0.426243  0.815263 -0.168220   \n",
       "29  0.998417  0.245490  dummy_constant  0.998417  0.245490  0.132549   \n",
       "30  0.372358  0.865367  dummy_constant  0.372358  0.865367 -0.210117   \n",
       "31  0.752166  0.297879  dummy_constant  0.752166  0.297879 -0.442407   \n",
       "\n",
       "          c2  xopt_runtime  xopt_error  \n",
       "0   0.312500      0.000032       False  \n",
       "1   0.312500      0.000009       False  \n",
       "2   7.227998      0.000021       False  \n",
       "3   0.500000      0.000021       False  \n",
       "4   0.257606      0.000022       False  \n",
       "5   0.280629      0.000026       False  \n",
       "6   0.215798      0.000025       False  \n",
       "7   0.225803      0.000025       False  \n",
       "8   0.323029      0.000026       False  \n",
       "9   0.476449      0.000024       False  \n",
       "10  0.379216      0.000026       False  \n",
       "11  0.467328      0.000026       False  \n",
       "12  0.148030      0.000025       False  \n",
       "13  0.468120      0.000026       False  \n",
       "14  0.153805      0.000025       False  \n",
       "15  0.459315      0.000025       False  \n",
       "16  1.126966      0.000026       False  \n",
       "17  0.481524      0.000028       False  \n",
       "18  0.330630      0.000025       False  \n",
       "19  0.132085      0.000027       False  \n",
       "20  0.312290      0.000026       False  \n",
       "21  0.307936      0.000081       False  \n",
       "22  0.474554      0.000026       False  \n",
       "23  0.156964      0.000024       False  \n",
       "24  0.219755      0.000028       False  \n",
       "25  0.013285      0.000027       False  \n",
       "26  0.150506      0.000027       False  \n",
       "27  0.099678      0.000024       False  \n",
       "28  0.104831      0.000026       False  \n",
       "29  0.313195      0.000025       False  \n",
       "30  0.149786      0.000026       False  \n",
       "31  0.104440      0.000027       False  "
      ]
     },
     "execution_count": 3,
     "metadata": {},
     "output_type": "execute_result"
    }
   ],
   "source": [
    "X.generator.data"
   ]
  },
  {
   "cell_type": "markdown",
   "metadata": {
    "collapsed": false
   },
   "source": [
    "## plot results\n"
   ]
  },
  {
   "cell_type": "code",
   "execution_count": 4,
   "metadata": {
    "collapsed": false,
    "execution": {
     "iopub.execute_input": "2024-08-20T19:30:34.995283Z",
     "iopub.status.busy": "2024-08-20T19:30:34.995066Z",
     "iopub.status.idle": "2024-08-20T19:30:35.391771Z",
     "shell.execute_reply": "2024-08-20T19:30:35.391095Z"
    }
   },
   "outputs": [
    {
     "data": {
      "image/png": "[encoded data removed]",
      "text/plain": [
       "<Figure size 640x480 with 1 Axes>"
      ]
     },
     "metadata": {},
     "output_type": "display_data"
    }
   ],
   "source": [
    "import matplotlib.pyplot as plt\n",
    "\n",
    "fig, ax = plt.subplots()\n",
    "\n",
    "theta = np.linspace(0, np.pi / 2)\n",
    "r = np.sqrt(1 + 0.1 * np.cos(16 * theta))\n",
    "x_1 = r * np.sin(theta)\n",
    "x_2_lower = r * np.cos(theta)\n",
    "x_2_upper = (0.5 - (x_1 - 0.5) ** 2) ** 0.5 + 0.5\n",
    "\n",
    "z = np.zeros_like(x_1)\n",
    "\n",
    "# ax2.plot(x_1, x_2_lower,'r')\n",
    "ax.fill_between(x_1, z, x_2_lower, fc=\"white\")\n",
    "circle = plt.Circle(\n",
    "    (0.5, 0.5), 0.5 ** 0.5, color=\"r\", alpha=0.25, zorder=0, label=\"Valid Region\"\n",
    ")\n",
    "ax.add_patch(circle)\n",
    "history = pd.concat(\n",
    "    [X.data, tnk_vocs.feasibility_data(X.data)], axis=1, ignore_index=False\n",
    ")\n",
    "\n",
    "\n",
    "ax.plot(*history[[\"x1\", \"x2\"]][history[\"feasible\"]].to_numpy().T, \".C1\")\n",
    "ax.plot(*history[[\"x1\", \"x2\"]][~history[\"feasible\"]].to_numpy().T, \".C2\")\n",
    "\n",
    "ax.set_xlim(0, 3.14)\n",
    "ax.set_ylim(0, 3.14)\n",
    "ax.set_xlabel(\"x1\")\n",
    "ax.set_ylabel(\"x2\")\n",
    "ax.set_aspect(\"equal\")"
   ]
  },
  {
   "cell_type": "markdown",
   "metadata": {
    "collapsed": false
   },
   "source": [
    "### Plot path through input space"
   ]
  },
  {
   "cell_type": "code",
   "execution_count": 5,
   "metadata": {
    "collapsed": false,
    "execution": {
     "iopub.execute_input": "2024-08-20T19:30:35.394384Z",
     "iopub.status.busy": "2024-08-20T19:30:35.393903Z",
     "iopub.status.idle": "2024-08-20T19:30:35.620870Z",
     "shell.execute_reply": "2024-08-20T19:30:35.620272Z"
    }
   },
   "outputs": [
    {
     "data": {
      "image/png": "[encoded data removed]",
      "text/plain": [
       "<Figure size 640x480 with 1 Axes>"
      ]
     },
     "metadata": {},
     "output_type": "display_data"
    }
   ],
   "source": [
    "ax = history.plot(\"x1\", \"x2\")\n",
    "ax.set_ylim(0, 3.14)\n",
    "ax.set_xlim(0, 3.14)\n",
    "ax.set_aspect(\"equal\")"
   ]
  },
  {
   "cell_type": "code",
   "execution_count": 6,
   "metadata": {
    "collapsed": false,
    "execution": {
     "iopub.execute_input": "2024-08-20T19:30:35.623488Z",
     "iopub.status.busy": "2024-08-20T19:30:35.623094Z",
     "iopub.status.idle": "2024-08-20T19:30:49.063891Z",
     "shell.execute_reply": "2024-08-20T19:30:49.063258Z"
    }
   },
   "outputs": [
    {
     "name": "stdout",
     "output_type": "stream",
     "text": [
      "[[0.24380788 0.78741962]]\n"
     ]
    },
    {
     "data": {
      "text/plain": [
       "[<matplotlib.lines.Line2D at 0x7f883bb8e280>]"
      ]
     },
     "execution_count": 6,
     "metadata": {},
     "output_type": "execute_result"
    },
    {
     "data": {
      "image/png": "[encoded data removed]",
      "text/plain": [
       "<Figure size 640x480 with 2 Axes>"
      ]
     },
     "metadata": {},
     "output_type": "display_data"
    },
    {
     "data": {
      "image/png": "[encoded data removed]",
      "text/plain": [
       "<Figure size 640x480 with 2 Axes>"
      ]
     },
     "metadata": {},
     "output_type": "display_data"
    }
   ],
   "source": [
    "# plot the acquisition function\n",
    "from xopt.generators.bayesian.objectives import feasibility\n",
    "\n",
    "bounds = X.generator.vocs.bounds\n",
    "model = X.generator.model\n",
    "\n",
    "# create mesh\n",
    "n = 200\n",
    "x = torch.linspace(*bounds.T[0], n)\n",
    "y = torch.linspace(*bounds.T[1], n)\n",
    "xx, yy = torch.meshgrid(x, y)\n",
    "pts = torch.hstack([ele.reshape(-1, 1) for ele in (xx, yy)]).double()\n",
    "\n",
    "xx, yy = xx.numpy(), yy.numpy()\n",
    "\n",
    "acq_func = X.generator.get_acquisition(model)\n",
    "with torch.no_grad():\n",
    "    acq_pts = pts.unsqueeze(1)\n",
    "    acq = acq_func(acq_pts)\n",
    "\n",
    "    fig, ax = plt.subplots()\n",
    "    c = ax.pcolor(xx, yy, acq.reshape(n, n), cmap=\"Blues\")\n",
    "    fig.colorbar(c)\n",
    "    ax.set_title(\"Acquisition function\")\n",
    "\n",
    "    ax.plot(*history[[\"x1\", \"x2\"]][history[\"feasible\"]].to_numpy().T, \".C1\")\n",
    "    ax.plot(*history[[\"x1\", \"x2\"]][~history[\"feasible\"]].to_numpy().T, \".C2\")\n",
    "\n",
    "    ax.plot(*history[[\"x1\", \"x2\"]].to_numpy()[-1].T, \"+\")\n",
    "\n",
    "    feas = feasibility(pts.unsqueeze(1), model, tnk_vocs).flatten()\n",
    "\n",
    "    fig2, ax2 = plt.subplots()\n",
    "    c = ax2.pcolor(xx, yy, feas.reshape(n, n))\n",
    "    fig2.colorbar(c)\n",
    "    ax2.set_title(\"Feasible Region\")\n",
    "\n",
    "candidate = pd.DataFrame(X.generator.generate(1), index=[0])\n",
    "print(candidate[[\"x1\", \"x2\"]].to_numpy())\n",
    "ax.plot(*candidate[[\"x1\", \"x2\"]].to_numpy()[0], \"o\")"
   ]
  },
  {
   "cell_type": "code",
   "execution_count": 7,
   "metadata": {
    "collapsed": false,
    "execution": {
     "iopub.execute_input": "2024-08-20T19:30:49.066579Z",
     "iopub.status.busy": "2024-08-20T19:30:49.066326Z",
     "iopub.status.idle": "2024-08-20T19:30:49.921563Z",
     "shell.execute_reply": "2024-08-20T19:30:49.920968Z"
    }
   },
   "outputs": [
    {
     "name": "stdout",
     "output_type": "stream",
     "text": [
      "CPU times: user 1.65 s, sys: 48 ms, total: 1.7 s\n",
      "Wall time: 851 ms\n"
     ]
    }
   ],
   "source": [
    "%%time\n",
    "candidate = X.generator.generate(1)"
   ]
  }
 ],
 "metadata": {
  "interpreter": {
   "hash": "72034539424920dfb606fe3b820b3f27dca0cbf1c69938110810ec4641e275b1"
  },
  "kernelspec": {
   "display_name": "Python 3 (ipykernel)",
   "language": "python",
   "name": "python3"
  },
  "language_info": {
   "codemirror_mode": {
    "name": "ipython",
    "version": 3
   },
   "file_extension": ".py",
   "mimetype": "text/x-python",
   "name": "python",
   "nbconvert_exporter": "python",
   "pygments_lexer": "ipython3",
   "version": "3.9.19"
  }
 },
 "nbformat": 4,
 "nbformat_minor": 4
}
