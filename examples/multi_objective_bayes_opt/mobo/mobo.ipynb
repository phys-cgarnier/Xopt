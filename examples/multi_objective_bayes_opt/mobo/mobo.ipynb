{
 "cells": [
  {
   "cell_type": "markdown",
   "metadata": {},
   "source": [
    "\n",
    "# Multi-objective Bayesian Optimization\n",
    "\n",
    "\n",
    "TNK function\n",
    "$n=2$ variables:\n",
    "$x_i \\in [0, \\pi], i=1,2$\n",
    "\n",
    "Objectives:\n",
    "- $f_i(x) = x_i$\n",
    "\n",
    "Constraints:\n",
    "- $g_1(x) = -x_1^2 -x_2^2 + 1 + 0.1 \\cos\\left(16 \\arctan \\frac{x_1}{x_2}\\right) \\le 0$\n",
    "- $g_2(x) = (x_1 - 1/2)^2 + (x_2-1/2)^2 \\le 0.5$"
   ]
  },
  {
   "cell_type": "code",
   "execution_count": 1,
   "metadata": {
    "collapsed": false,
    "execution": {
     "iopub.execute_input": "2024-04-15T18:54:37.121042Z",
     "iopub.status.busy": "2024-04-15T18:54:37.120865Z",
     "iopub.status.idle": "2024-04-15T18:54:39.166933Z",
     "shell.execute_reply": "2024-04-15T18:54:39.166252Z"
    }
   },
   "outputs": [
    {
     "name": "stdout",
     "output_type": "stream",
     "text": [
      "{'variables': {'x1': [0.0, 3.14159], 'x2': [0.0, 3.14159]}, 'constraints': {'c1': ['GREATER_THAN', 0.0], 'c2': ['LESS_THAN', 0.5]}, 'objectives': {'y1': 'MINIMIZE', 'y2': 'MINIMIZE'}, 'constants': {'a': 'dummy_constant'}, 'observables': []}\n"
     ]
    }
   ],
   "source": [
    "# set values if testing\n",
    "import os\n",
    "SMOKE_TEST = os.environ.get(\"SMOKE_TEST\")\n",
    "N_MC_SAMPLES = 1 if SMOKE_TEST else 128\n",
    "NUM_RESTARTS = 1 if SMOKE_TEST else 20\n",
    "N_STEPS = 1 if SMOKE_TEST else 30\n",
    "\n",
    "# Ignore all warnings\n",
    "import warnings\n",
    "warnings.filterwarnings(\"ignore\")\n",
    "\n",
    "\n",
    "import pandas as pd\n",
    "import numpy as np\n",
    "import torch\n",
    "\n",
    "from xopt import Xopt, Evaluator\n",
    "from xopt.generators.bayesian import MOBOGenerator\n",
    "from xopt.resources.test_functions.tnk import evaluate_TNK, tnk_vocs\n",
    "\n",
    "\n",
    "evaluator = Evaluator(function=evaluate_TNK)\n",
    "print(tnk_vocs.dict())"
   ]
  },
  {
   "cell_type": "code",
   "execution_count": 2,
   "metadata": {
    "collapsed": false,
    "execution": {
     "iopub.execute_input": "2024-04-15T18:54:39.195974Z",
     "iopub.status.busy": "2024-04-15T18:54:39.195694Z",
     "iopub.status.idle": "2024-04-15T18:55:21.610006Z",
     "shell.execute_reply": "2024-04-15T18:55:21.609323Z"
    }
   },
   "outputs": [
    {
     "name": "stdout",
     "output_type": "stream",
     "text": [
      "0\n"
     ]
    },
    {
     "name": "stdout",
     "output_type": "stream",
     "text": [
      "1\n"
     ]
    },
    {
     "name": "stdout",
     "output_type": "stream",
     "text": [
      "2\n"
     ]
    },
    {
     "name": "stdout",
     "output_type": "stream",
     "text": [
      "3\n"
     ]
    },
    {
     "name": "stdout",
     "output_type": "stream",
     "text": [
      "4\n"
     ]
    },
    {
     "name": "stdout",
     "output_type": "stream",
     "text": [
      "5\n"
     ]
    },
    {
     "name": "stdout",
     "output_type": "stream",
     "text": [
      "6\n"
     ]
    },
    {
     "name": "stdout",
     "output_type": "stream",
     "text": [
      "7\n"
     ]
    },
    {
     "name": "stdout",
     "output_type": "stream",
     "text": [
      "8\n"
     ]
    },
    {
     "name": "stdout",
     "output_type": "stream",
     "text": [
      "9\n"
     ]
    },
    {
     "name": "stdout",
     "output_type": "stream",
     "text": [
      "10\n"
     ]
    },
    {
     "name": "stdout",
     "output_type": "stream",
     "text": [
      "11\n"
     ]
    },
    {
     "name": "stdout",
     "output_type": "stream",
     "text": [
      "12\n"
     ]
    },
    {
     "name": "stdout",
     "output_type": "stream",
     "text": [
      "13\n"
     ]
    },
    {
     "name": "stdout",
     "output_type": "stream",
     "text": [
      "14\n"
     ]
    },
    {
     "name": "stdout",
     "output_type": "stream",
     "text": [
      "15\n"
     ]
    },
    {
     "name": "stdout",
     "output_type": "stream",
     "text": [
      "16\n"
     ]
    },
    {
     "name": "stdout",
     "output_type": "stream",
     "text": [
      "17\n"
     ]
    },
    {
     "name": "stdout",
     "output_type": "stream",
     "text": [
      "18\n"
     ]
    },
    {
     "name": "stdout",
     "output_type": "stream",
     "text": [
      "19\n"
     ]
    },
    {
     "name": "stdout",
     "output_type": "stream",
     "text": [
      "20\n"
     ]
    },
    {
     "name": "stdout",
     "output_type": "stream",
     "text": [
      "21\n"
     ]
    },
    {
     "name": "stdout",
     "output_type": "stream",
     "text": [
      "22\n"
     ]
    },
    {
     "name": "stdout",
     "output_type": "stream",
     "text": [
      "23\n"
     ]
    },
    {
     "name": "stdout",
     "output_type": "stream",
     "text": [
      "24\n"
     ]
    },
    {
     "name": "stdout",
     "output_type": "stream",
     "text": [
      "25\n"
     ]
    },
    {
     "name": "stdout",
     "output_type": "stream",
     "text": [
      "26\n"
     ]
    },
    {
     "name": "stdout",
     "output_type": "stream",
     "text": [
      "27\n"
     ]
    },
    {
     "name": "stdout",
     "output_type": "stream",
     "text": [
      "28\n"
     ]
    },
    {
     "name": "stdout",
     "output_type": "stream",
     "text": [
      "29\n"
     ]
    }
   ],
   "source": [
    "generator = MOBOGenerator(vocs=tnk_vocs, reference_point = {\"y1\":1.5,\"y2\":1.5})\n",
    "generator.n_monte_carlo_samples = N_MC_SAMPLES\n",
    "generator.numerical_optimizer.n_restarts = NUM_RESTARTS\n",
    "\n",
    "X = Xopt(generator=generator, evaluator=evaluator, vocs=tnk_vocs)\n",
    "X.evaluate_data(pd.DataFrame({\"x1\":[1.0, 0.75],\"x2\":[0.75, 1.0]}))\n",
    "\n",
    "for i in range(N_STEPS):\n",
    "    print(i)\n",
    "    X.step()"
   ]
  },
  {
   "cell_type": "code",
   "execution_count": 3,
   "metadata": {
    "collapsed": false,
    "execution": {
     "iopub.execute_input": "2024-04-15T18:55:21.613258Z",
     "iopub.status.busy": "2024-04-15T18:55:21.612681Z",
     "iopub.status.idle": "2024-04-15T18:55:21.632044Z",
     "shell.execute_reply": "2024-04-15T18:55:21.631424Z"
    }
   },
   "outputs": [
    {
     "data": {
      "text/html": [
       "<div>\n",
       "<style scoped>\n",
       "    .dataframe tbody tr th:only-of-type {\n",
       "        vertical-align: middle;\n",
       "    }\n",
       "\n",
       "    .dataframe tbody tr th {\n",
       "        vertical-align: top;\n",
       "    }\n",
       "\n",
       "    .dataframe thead th {\n",
       "        text-align: right;\n",
       "    }\n",
       "</style>\n",
       "<table border=\"1\" class=\"dataframe\">\n",
       "  <thead>\n",
       "    <tr style=\"text-align: right;\">\n",
       "      <th></th>\n",
       "      <th>x1</th>\n",
       "      <th>x2</th>\n",
       "      <th>a</th>\n",
       "      <th>y1</th>\n",
       "      <th>y2</th>\n",
       "      <th>c1</th>\n",
       "      <th>c2</th>\n",
       "      <th>xopt_runtime</th>\n",
       "      <th>xopt_error</th>\n",
       "    </tr>\n",
       "  </thead>\n",
       "  <tbody>\n",
       "    <tr>\n",
       "      <th>0</th>\n",
       "      <td>1.000000</td>\n",
       "      <td>0.750000</td>\n",
       "      <td>dummy_constant</td>\n",
       "      <td>1.000000</td>\n",
       "      <td>0.750000</td>\n",
       "      <td>0.626888</td>\n",
       "      <td>0.312500</td>\n",
       "      <td>0.000040</td>\n",
       "      <td>False</td>\n",
       "    </tr>\n",
       "    <tr>\n",
       "      <th>1</th>\n",
       "      <td>0.750000</td>\n",
       "      <td>1.000000</td>\n",
       "      <td>dummy_constant</td>\n",
       "      <td>0.750000</td>\n",
       "      <td>1.000000</td>\n",
       "      <td>0.626888</td>\n",
       "      <td>0.312500</td>\n",
       "      <td>0.000010</td>\n",
       "      <td>False</td>\n",
       "    </tr>\n",
       "    <tr>\n",
       "      <th>2</th>\n",
       "      <td>0.000000</td>\n",
       "      <td>2.167254</td>\n",
       "      <td>dummy_constant</td>\n",
       "      <td>0.000000</td>\n",
       "      <td>2.167254</td>\n",
       "      <td>3.596988</td>\n",
       "      <td>3.029735</td>\n",
       "      <td>0.000024</td>\n",
       "      <td>False</td>\n",
       "    </tr>\n",
       "    <tr>\n",
       "      <th>3</th>\n",
       "      <td>3.141590</td>\n",
       "      <td>2.120631</td>\n",
       "      <td>dummy_constant</td>\n",
       "      <td>3.141590</td>\n",
       "      <td>2.120631</td>\n",
       "      <td>13.466378</td>\n",
       "      <td>9.604441</td>\n",
       "      <td>0.000025</td>\n",
       "      <td>False</td>\n",
       "    </tr>\n",
       "    <tr>\n",
       "      <th>4</th>\n",
       "      <td>0.234958</td>\n",
       "      <td>0.263843</td>\n",
       "      <td>dummy_constant</td>\n",
       "      <td>0.234958</td>\n",
       "      <td>0.263843</td>\n",
       "      <td>-0.935325</td>\n",
       "      <td>0.126018</td>\n",
       "      <td>0.000025</td>\n",
       "      <td>False</td>\n",
       "    </tr>\n",
       "    <tr>\n",
       "      <th>5</th>\n",
       "      <td>0.038608</td>\n",
       "      <td>0.193944</td>\n",
       "      <td>dummy_constant</td>\n",
       "      <td>0.038608</td>\n",
       "      <td>0.193944</td>\n",
       "      <td>-0.860896</td>\n",
       "      <td>0.306553</td>\n",
       "      <td>0.000025</td>\n",
       "      <td>False</td>\n",
       "    </tr>\n",
       "    <tr>\n",
       "      <th>6</th>\n",
       "      <td>0.000000</td>\n",
       "      <td>0.001870</td>\n",
       "      <td>dummy_constant</td>\n",
       "      <td>0.000000</td>\n",
       "      <td>0.001870</td>\n",
       "      <td>-1.099997</td>\n",
       "      <td>0.498133</td>\n",
       "      <td>0.000027</td>\n",
       "      <td>False</td>\n",
       "    </tr>\n",
       "    <tr>\n",
       "      <th>7</th>\n",
       "      <td>0.001095</td>\n",
       "      <td>0.686417</td>\n",
       "      <td>dummy_constant</td>\n",
       "      <td>0.001095</td>\n",
       "      <td>0.686417</td>\n",
       "      <td>-0.628798</td>\n",
       "      <td>0.283657</td>\n",
       "      <td>0.000024</td>\n",
       "      <td>False</td>\n",
       "    </tr>\n",
       "    <tr>\n",
       "      <th>8</th>\n",
       "      <td>0.517838</td>\n",
       "      <td>1.020575</td>\n",
       "      <td>dummy_constant</td>\n",
       "      <td>0.517838</td>\n",
       "      <td>1.020575</td>\n",
       "      <td>0.276269</td>\n",
       "      <td>0.271317</td>\n",
       "      <td>0.000026</td>\n",
       "      <td>False</td>\n",
       "    </tr>\n",
       "    <tr>\n",
       "      <th>9</th>\n",
       "      <td>0.351623</td>\n",
       "      <td>1.063417</td>\n",
       "      <td>dummy_constant</td>\n",
       "      <td>0.351623</td>\n",
       "      <td>1.063417</td>\n",
       "      <td>0.215828</td>\n",
       "      <td>0.339454</td>\n",
       "      <td>0.000026</td>\n",
       "      <td>False</td>\n",
       "    </tr>\n",
       "    <tr>\n",
       "      <th>10</th>\n",
       "      <td>1.009106</td>\n",
       "      <td>0.512107</td>\n",
       "      <td>dummy_constant</td>\n",
       "      <td>1.009106</td>\n",
       "      <td>0.512107</td>\n",
       "      <td>0.247193</td>\n",
       "      <td>0.259336</td>\n",
       "      <td>0.000026</td>\n",
       "      <td>False</td>\n",
       "    </tr>\n",
       "    <tr>\n",
       "      <th>11</th>\n",
       "      <td>0.779955</td>\n",
       "      <td>0.763080</td>\n",
       "      <td>dummy_constant</td>\n",
       "      <td>0.779955</td>\n",
       "      <td>0.763080</td>\n",
       "      <td>0.092147</td>\n",
       "      <td>0.147586</td>\n",
       "      <td>0.000025</td>\n",
       "      <td>False</td>\n",
       "    </tr>\n",
       "    <tr>\n",
       "      <th>12</th>\n",
       "      <td>1.054519</td>\n",
       "      <td>0.313683</td>\n",
       "      <td>dummy_constant</td>\n",
       "      <td>1.054519</td>\n",
       "      <td>0.313683</td>\n",
       "      <td>0.219028</td>\n",
       "      <td>0.342206</td>\n",
       "      <td>0.000026</td>\n",
       "      <td>False</td>\n",
       "    </tr>\n",
       "    <tr>\n",
       "      <th>13</th>\n",
       "      <td>0.586250</td>\n",
       "      <td>0.904436</td>\n",
       "      <td>dummy_constant</td>\n",
       "      <td>0.586250</td>\n",
       "      <td>0.904436</td>\n",
       "      <td>0.259216</td>\n",
       "      <td>0.171008</td>\n",
       "      <td>0.000028</td>\n",
       "      <td>False</td>\n",
       "    </tr>\n",
       "    <tr>\n",
       "      <th>14</th>\n",
       "      <td>0.189124</td>\n",
       "      <td>1.070418</td>\n",
       "      <td>dummy_constant</td>\n",
       "      <td>0.189124</td>\n",
       "      <td>1.070418</td>\n",
       "      <td>0.275720</td>\n",
       "      <td>0.422021</td>\n",
       "      <td>0.000027</td>\n",
       "      <td>False</td>\n",
       "    </tr>\n",
       "    <tr>\n",
       "      <th>15</th>\n",
       "      <td>0.691993</td>\n",
       "      <td>0.000000</td>\n",
       "      <td>dummy_constant</td>\n",
       "      <td>0.691993</td>\n",
       "      <td>0.000000</td>\n",
       "      <td>-0.621146</td>\n",
       "      <td>0.286861</td>\n",
       "      <td>0.000026</td>\n",
       "      <td>False</td>\n",
       "    </tr>\n",
       "    <tr>\n",
       "      <th>16</th>\n",
       "      <td>0.936596</td>\n",
       "      <td>0.479328</td>\n",
       "      <td>dummy_constant</td>\n",
       "      <td>0.936596</td>\n",
       "      <td>0.479328</td>\n",
       "      <td>0.078795</td>\n",
       "      <td>0.191043</td>\n",
       "      <td>0.000027</td>\n",
       "      <td>False</td>\n",
       "    </tr>\n",
       "    <tr>\n",
       "      <th>17</th>\n",
       "      <td>0.059737</td>\n",
       "      <td>1.010866</td>\n",
       "      <td>dummy_constant</td>\n",
       "      <td>0.059737</td>\n",
       "      <td>1.010866</td>\n",
       "      <td>-0.033202</td>\n",
       "      <td>0.454816</td>\n",
       "      <td>0.000026</td>\n",
       "      <td>False</td>\n",
       "    </tr>\n",
       "    <tr>\n",
       "      <th>18</th>\n",
       "      <td>1.029451</td>\n",
       "      <td>0.091955</td>\n",
       "      <td>dummy_constant</td>\n",
       "      <td>1.029451</td>\n",
       "      <td>0.091955</td>\n",
       "      <td>0.053738</td>\n",
       "      <td>0.446819</td>\n",
       "      <td>0.000027</td>\n",
       "      <td>False</td>\n",
       "    </tr>\n",
       "    <tr>\n",
       "      <th>19</th>\n",
       "      <td>0.998393</td>\n",
       "      <td>0.024354</td>\n",
       "      <td>dummy_constant</td>\n",
       "      <td>0.998393</td>\n",
       "      <td>0.024354</td>\n",
       "      <td>-0.095102</td>\n",
       "      <td>0.474634</td>\n",
       "      <td>0.000026</td>\n",
       "      <td>False</td>\n",
       "    </tr>\n",
       "    <tr>\n",
       "      <th>20</th>\n",
       "      <td>1.047804</td>\n",
       "      <td>0.073467</td>\n",
       "      <td>dummy_constant</td>\n",
       "      <td>1.047804</td>\n",
       "      <td>0.073467</td>\n",
       "      <td>0.059724</td>\n",
       "      <td>0.482020</td>\n",
       "      <td>0.000026</td>\n",
       "      <td>False</td>\n",
       "    </tr>\n",
       "    <tr>\n",
       "      <th>21</th>\n",
       "      <td>0.373281</td>\n",
       "      <td>0.955101</td>\n",
       "      <td>dummy_constant</td>\n",
       "      <td>0.373281</td>\n",
       "      <td>0.955101</td>\n",
       "      <td>-0.043304</td>\n",
       "      <td>0.223175</td>\n",
       "      <td>0.000027</td>\n",
       "      <td>False</td>\n",
       "    </tr>\n",
       "    <tr>\n",
       "      <th>22</th>\n",
       "      <td>1.052910</td>\n",
       "      <td>0.106081</td>\n",
       "      <td>dummy_constant</td>\n",
       "      <td>1.052910</td>\n",
       "      <td>0.106081</td>\n",
       "      <td>0.123451</td>\n",
       "      <td>0.460882</td>\n",
       "      <td>0.000028</td>\n",
       "      <td>False</td>\n",
       "    </tr>\n",
       "    <tr>\n",
       "      <th>23</th>\n",
       "      <td>0.056799</td>\n",
       "      <td>1.035086</td>\n",
       "      <td>dummy_constant</td>\n",
       "      <td>0.056799</td>\n",
       "      <td>1.035086</td>\n",
       "      <td>0.010691</td>\n",
       "      <td>0.482744</td>\n",
       "      <td>0.000027</td>\n",
       "      <td>False</td>\n",
       "    </tr>\n",
       "    <tr>\n",
       "      <th>24</th>\n",
       "      <td>0.851840</td>\n",
       "      <td>0.202091</td>\n",
       "      <td>dummy_constant</td>\n",
       "      <td>0.851840</td>\n",
       "      <td>0.202091</td>\n",
       "      <td>-0.150175</td>\n",
       "      <td>0.212542</td>\n",
       "      <td>0.000035</td>\n",
       "      <td>False</td>\n",
       "    </tr>\n",
       "    <tr>\n",
       "      <th>25</th>\n",
       "      <td>0.843919</td>\n",
       "      <td>0.612542</td>\n",
       "      <td>dummy_constant</td>\n",
       "      <td>0.843919</td>\n",
       "      <td>0.612542</td>\n",
       "      <td>0.168745</td>\n",
       "      <td>0.130946</td>\n",
       "      <td>0.000027</td>\n",
       "      <td>False</td>\n",
       "    </tr>\n",
       "    <tr>\n",
       "      <th>26</th>\n",
       "      <td>0.663636</td>\n",
       "      <td>0.793631</td>\n",
       "      <td>dummy_constant</td>\n",
       "      <td>0.663636</td>\n",
       "      <td>0.793631</td>\n",
       "      <td>0.055587</td>\n",
       "      <td>0.112996</td>\n",
       "      <td>0.000027</td>\n",
       "      <td>False</td>\n",
       "    </tr>\n",
       "    <tr>\n",
       "      <th>27</th>\n",
       "      <td>0.533071</td>\n",
       "      <td>0.885113</td>\n",
       "      <td>dummy_constant</td>\n",
       "      <td>0.533071</td>\n",
       "      <td>0.885113</td>\n",
       "      <td>0.140660</td>\n",
       "      <td>0.149406</td>\n",
       "      <td>0.000027</td>\n",
       "      <td>False</td>\n",
       "    </tr>\n",
       "    <tr>\n",
       "      <th>28</th>\n",
       "      <td>0.833937</td>\n",
       "      <td>0.271705</td>\n",
       "      <td>dummy_constant</td>\n",
       "      <td>0.833937</td>\n",
       "      <td>0.271705</td>\n",
       "      <td>-0.262850</td>\n",
       "      <td>0.163632</td>\n",
       "      <td>0.000027</td>\n",
       "      <td>False</td>\n",
       "    </tr>\n",
       "    <tr>\n",
       "      <th>29</th>\n",
       "      <td>1.209473</td>\n",
       "      <td>0.103294</td>\n",
       "      <td>dummy_constant</td>\n",
       "      <td>1.209473</td>\n",
       "      <td>0.103294</td>\n",
       "      <td>0.452879</td>\n",
       "      <td>0.660728</td>\n",
       "      <td>0.000027</td>\n",
       "      <td>False</td>\n",
       "    </tr>\n",
       "    <tr>\n",
       "      <th>30</th>\n",
       "      <td>0.032097</td>\n",
       "      <td>0.892773</td>\n",
       "      <td>dummy_constant</td>\n",
       "      <td>0.032097</td>\n",
       "      <td>0.892773</td>\n",
       "      <td>-0.285847</td>\n",
       "      <td>0.373204</td>\n",
       "      <td>0.000027</td>\n",
       "      <td>False</td>\n",
       "    </tr>\n",
       "    <tr>\n",
       "      <th>31</th>\n",
       "      <td>0.881152</td>\n",
       "      <td>0.516411</td>\n",
       "      <td>dummy_constant</td>\n",
       "      <td>0.881152</td>\n",
       "      <td>0.516411</td>\n",
       "      <td>0.101843</td>\n",
       "      <td>0.145546</td>\n",
       "      <td>0.000027</td>\n",
       "      <td>False</td>\n",
       "    </tr>\n",
       "  </tbody>\n",
       "</table>\n",
       "</div>"
      ],
      "text/plain": [
       "          x1        x2               a        y1        y2         c1  \\\n",
       "0   1.000000  0.750000  dummy_constant  1.000000  0.750000   0.626888   \n",
       "1   0.750000  1.000000  dummy_constant  0.750000  1.000000   0.626888   \n",
       "2   0.000000  2.167254  dummy_constant  0.000000  2.167254   3.596988   \n",
       "3   3.141590  2.120631  dummy_constant  3.141590  2.120631  13.466378   \n",
       "4   0.234958  0.263843  dummy_constant  0.234958  0.263843  -0.935325   \n",
       "5   0.038608  0.193944  dummy_constant  0.038608  0.193944  -0.860896   \n",
       "6   0.000000  0.001870  dummy_constant  0.000000  0.001870  -1.099997   \n",
       "7   0.001095  0.686417  dummy_constant  0.001095  0.686417  -0.628798   \n",
       "8   0.517838  1.020575  dummy_constant  0.517838  1.020575   0.276269   \n",
       "9   0.351623  1.063417  dummy_constant  0.351623  1.063417   0.215828   \n",
       "10  1.009106  0.512107  dummy_constant  1.009106  0.512107   0.247193   \n",
       "11  0.779955  0.763080  dummy_constant  0.779955  0.763080   0.092147   \n",
       "12  1.054519  0.313683  dummy_constant  1.054519  0.313683   0.219028   \n",
       "13  0.586250  0.904436  dummy_constant  0.586250  0.904436   0.259216   \n",
       "14  0.189124  1.070418  dummy_constant  0.189124  1.070418   0.275720   \n",
       "15  0.691993  0.000000  dummy_constant  0.691993  0.000000  -0.621146   \n",
       "16  0.936596  0.479328  dummy_constant  0.936596  0.479328   0.078795   \n",
       "17  0.059737  1.010866  dummy_constant  0.059737  1.010866  -0.033202   \n",
       "18  1.029451  0.091955  dummy_constant  1.029451  0.091955   0.053738   \n",
       "19  0.998393  0.024354  dummy_constant  0.998393  0.024354  -0.095102   \n",
       "20  1.047804  0.073467  dummy_constant  1.047804  0.073467   0.059724   \n",
       "21  0.373281  0.955101  dummy_constant  0.373281  0.955101  -0.043304   \n",
       "22  1.052910  0.106081  dummy_constant  1.052910  0.106081   0.123451   \n",
       "23  0.056799  1.035086  dummy_constant  0.056799  1.035086   0.010691   \n",
       "24  0.851840  0.202091  dummy_constant  0.851840  0.202091  -0.150175   \n",
       "25  0.843919  0.612542  dummy_constant  0.843919  0.612542   0.168745   \n",
       "26  0.663636  0.793631  dummy_constant  0.663636  0.793631   0.055587   \n",
       "27  0.533071  0.885113  dummy_constant  0.533071  0.885113   0.140660   \n",
       "28  0.833937  0.271705  dummy_constant  0.833937  0.271705  -0.262850   \n",
       "29  1.209473  0.103294  dummy_constant  1.209473  0.103294   0.452879   \n",
       "30  0.032097  0.892773  dummy_constant  0.032097  0.892773  -0.285847   \n",
       "31  0.881152  0.516411  dummy_constant  0.881152  0.516411   0.101843   \n",
       "\n",
       "          c2  xopt_runtime  xopt_error  \n",
       "0   0.312500      0.000040       False  \n",
       "1   0.312500      0.000010       False  \n",
       "2   3.029735      0.000024       False  \n",
       "3   9.604441      0.000025       False  \n",
       "4   0.126018      0.000025       False  \n",
       "5   0.306553      0.000025       False  \n",
       "6   0.498133      0.000027       False  \n",
       "7   0.283657      0.000024       False  \n",
       "8   0.271317      0.000026       False  \n",
       "9   0.339454      0.000026       False  \n",
       "10  0.259336      0.000026       False  \n",
       "11  0.147586      0.000025       False  \n",
       "12  0.342206      0.000026       False  \n",
       "13  0.171008      0.000028       False  \n",
       "14  0.422021      0.000027       False  \n",
       "15  0.286861      0.000026       False  \n",
       "16  0.191043      0.000027       False  \n",
       "17  0.454816      0.000026       False  \n",
       "18  0.446819      0.000027       False  \n",
       "19  0.474634      0.000026       False  \n",
       "20  0.482020      0.000026       False  \n",
       "21  0.223175      0.000027       False  \n",
       "22  0.460882      0.000028       False  \n",
       "23  0.482744      0.000027       False  \n",
       "24  0.212542      0.000035       False  \n",
       "25  0.130946      0.000027       False  \n",
       "26  0.112996      0.000027       False  \n",
       "27  0.149406      0.000027       False  \n",
       "28  0.163632      0.000027       False  \n",
       "29  0.660728      0.000027       False  \n",
       "30  0.373204      0.000027       False  \n",
       "31  0.145546      0.000027       False  "
      ]
     },
     "execution_count": 3,
     "metadata": {},
     "output_type": "execute_result"
    }
   ],
   "source": [
    "X.generator.data"
   ]
  },
  {
   "cell_type": "markdown",
   "metadata": {
    "collapsed": false
   },
   "source": [
    "## plot results\n"
   ]
  },
  {
   "cell_type": "code",
   "execution_count": 4,
   "metadata": {
    "collapsed": false,
    "execution": {
     "iopub.execute_input": "2024-04-15T18:55:21.634476Z",
     "iopub.status.busy": "2024-04-15T18:55:21.634090Z",
     "iopub.status.idle": "2024-04-15T18:55:22.129053Z",
     "shell.execute_reply": "2024-04-15T18:55:22.128473Z"
    }
   },
   "outputs": [
    {
     "data": {
      "image/png": "[encoded data removed]",
      "text/plain": [
       "<Figure size 640x480 with 1 Axes>"
      ]
     },
     "metadata": {},
     "output_type": "display_data"
    }
   ],
   "source": [
    "import matplotlib.pyplot as plt\n",
    "\n",
    "fig, ax = plt.subplots()\n",
    "\n",
    "theta = np.linspace(0, np.pi / 2)\n",
    "r = np.sqrt(1 + 0.1 * np.cos(16 * theta))\n",
    "x_1 = r * np.sin(theta)\n",
    "x_2_lower = r * np.cos(theta)\n",
    "x_2_upper = (0.5 - (x_1 - 0.5) ** 2) ** 0.5 + 0.5\n",
    "\n",
    "z = np.zeros_like(x_1)\n",
    "\n",
    "# ax2.plot(x_1, x_2_lower,'r')\n",
    "ax.fill_between(x_1, z, x_2_lower, fc=\"white\")\n",
    "circle = plt.Circle(\n",
    "    (0.5, 0.5), 0.5 ** 0.5, color=\"r\", alpha=0.25, zorder=0, label=\"Valid Region\"\n",
    ")\n",
    "ax.add_patch(circle)\n",
    "history = pd.concat(\n",
    "    [X.data, tnk_vocs.feasibility_data(X.data)], axis=1, ignore_index=False\n",
    ")\n",
    "\n",
    "\n",
    "ax.plot(*history[[\"x1\", \"x2\"]][history[\"feasible\"]].to_numpy().T, \".C1\")\n",
    "ax.plot(*history[[\"x1\", \"x2\"]][~history[\"feasible\"]].to_numpy().T, \".C2\")\n",
    "\n",
    "ax.set_xlim(0, 3.14)\n",
    "ax.set_ylim(0, 3.14)\n",
    "ax.set_xlabel(\"x1\")\n",
    "ax.set_ylabel(\"x2\")\n",
    "ax.set_aspect(\"equal\")"
   ]
  },
  {
   "cell_type": "markdown",
   "metadata": {
    "collapsed": false
   },
   "source": [
    "### Plot path through input space"
   ]
  },
  {
   "cell_type": "code",
   "execution_count": 5,
   "metadata": {
    "collapsed": false,
    "execution": {
     "iopub.execute_input": "2024-04-15T18:55:22.131702Z",
     "iopub.status.busy": "2024-04-15T18:55:22.131443Z",
     "iopub.status.idle": "2024-04-15T18:55:22.250674Z",
     "shell.execute_reply": "2024-04-15T18:55:22.250043Z"
    }
   },
   "outputs": [
    {
     "data": {
      "image/png": "[encoded data removed]",
      "text/plain": [
       "<Figure size 640x480 with 1 Axes>"
      ]
     },
     "metadata": {},
     "output_type": "display_data"
    }
   ],
   "source": [
    "ax = history.plot(\"x1\", \"x2\")\n",
    "ax.set_ylim(0, 3.14)\n",
    "ax.set_xlim(0, 3.14)\n",
    "ax.set_aspect(\"equal\")"
   ]
  },
  {
   "cell_type": "code",
   "execution_count": 6,
   "metadata": {
    "collapsed": false,
    "execution": {
     "iopub.execute_input": "2024-04-15T18:55:22.252874Z",
     "iopub.status.busy": "2024-04-15T18:55:22.252682Z",
     "iopub.status.idle": "2024-04-15T18:55:36.641553Z",
     "shell.execute_reply": "2024-04-15T18:55:36.640964Z"
    }
   },
   "outputs": [
    {
     "name": "stdout",
     "output_type": "stream",
     "text": [
      "[[0.58556223 0.83109551]]\n"
     ]
    },
    {
     "data": {
      "text/plain": [
       "[<matplotlib.lines.Line2D at 0x7f41fc47e5e0>]"
      ]
     },
     "execution_count": 6,
     "metadata": {},
     "output_type": "execute_result"
    },
    {
     "data": {
      "image/png": "[encoded data removed]",
      "text/plain": [
       "<Figure size 640x480 with 2 Axes>"
      ]
     },
     "metadata": {},
     "output_type": "display_data"
    },
    {
     "data": {
      "image/png": "[encoded data removed]",
      "text/plain": [
       "<Figure size 640x480 with 2 Axes>"
      ]
     },
     "metadata": {},
     "output_type": "display_data"
    }
   ],
   "source": [
    "# plot the acquisition function\n",
    "from xopt.generators.bayesian.objectives import feasibility\n",
    "\n",
    "bounds = X.generator.vocs.bounds\n",
    "model = X.generator.model\n",
    "\n",
    "# create mesh\n",
    "n = 200\n",
    "x = torch.linspace(*bounds.T[0], n)\n",
    "y = torch.linspace(*bounds.T[1], n)\n",
    "xx, yy = torch.meshgrid(x, y)\n",
    "pts = torch.hstack([ele.reshape(-1, 1) for ele in (xx, yy)]).double()\n",
    "\n",
    "xx, yy = xx.numpy(), yy.numpy()\n",
    "\n",
    "acq_func = X.generator.get_acquisition(model)\n",
    "with torch.no_grad():\n",
    "    acq_pts = pts.unsqueeze(1)\n",
    "    acq = acq_func(acq_pts)\n",
    "\n",
    "    fig, ax = plt.subplots()\n",
    "    c = ax.pcolor(xx, yy, acq.reshape(n, n), cmap=\"Blues\")\n",
    "    fig.colorbar(c)\n",
    "    ax.set_title(\"Acquisition function\")\n",
    "\n",
    "    ax.plot(*history[[\"x1\", \"x2\"]][history[\"feasible\"]].to_numpy().T, \".C1\")\n",
    "    ax.plot(*history[[\"x1\", \"x2\"]][~history[\"feasible\"]].to_numpy().T, \".C2\")\n",
    "\n",
    "    ax.plot(*history[[\"x1\", \"x2\"]].to_numpy()[-1].T, \"+\")\n",
    "\n",
    "    feas = feasibility(pts.unsqueeze(1), model, tnk_vocs).flatten()\n",
    "\n",
    "    fig2, ax2 = plt.subplots()\n",
    "    c = ax2.pcolor(xx, yy, feas.reshape(n, n))\n",
    "    fig2.colorbar(c)\n",
    "    ax2.set_title(\"Feasible Region\")\n",
    "\n",
    "candidate = pd.DataFrame(X.generator.generate(1), index=[0])\n",
    "print(candidate[[\"x1\", \"x2\"]].to_numpy())\n",
    "ax.plot(*candidate[[\"x1\", \"x2\"]].to_numpy()[0], \"o\")"
   ]
  },
  {
   "cell_type": "code",
   "execution_count": 7,
   "metadata": {
    "collapsed": false,
    "execution": {
     "iopub.execute_input": "2024-04-15T18:55:36.643856Z",
     "iopub.status.busy": "2024-04-15T18:55:36.643664Z",
     "iopub.status.idle": "2024-04-15T18:55:37.066127Z",
     "shell.execute_reply": "2024-04-15T18:55:37.065459Z"
    }
   },
   "outputs": [
    {
     "name": "stdout",
     "output_type": "stream",
     "text": [
      "CPU times: user 823 ms, sys: 11.4 ms, total: 834 ms\n",
      "Wall time: 419 ms\n"
     ]
    }
   ],
   "source": [
    "%%time\n",
    "candidate = X.generator.generate(1)"
   ]
  }
 ],
 "metadata": {
  "interpreter": {
   "hash": "72034539424920dfb606fe3b820b3f27dca0cbf1c69938110810ec4641e275b1"
  },
  "kernelspec": {
   "display_name": "Python 3 (ipykernel)",
   "language": "python",
   "name": "python3"
  },
  "language_info": {
   "codemirror_mode": {
    "name": "ipython",
    "version": 3
   },
   "file_extension": ".py",
   "mimetype": "text/x-python",
   "name": "python",
   "nbconvert_exporter": "python",
   "pygments_lexer": "ipython3",
   "version": "3.9.19"
  }
 },
 "nbformat": 4,
 "nbformat_minor": 4
}
