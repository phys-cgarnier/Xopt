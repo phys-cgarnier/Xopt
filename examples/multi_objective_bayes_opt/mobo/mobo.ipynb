{
 "cells": [
  {
   "cell_type": "markdown",
   "metadata": {},
   "source": [
    "\n",
    "# Multi-objective Bayesian Optimization\n",
    "\n",
    "\n",
    "TNK function\n",
    "$n=2$ variables:\n",
    "$x_i \\in [0, \\pi], i=1,2$\n",
    "\n",
    "Objectives:\n",
    "- $f_i(x) = x_i$\n",
    "\n",
    "Constraints:\n",
    "- $g_1(x) = -x_1^2 -x_2^2 + 1 + 0.1 \\cos\\left(16 \\arctan \\frac{x_1}{x_2}\\right) \\le 0$\n",
    "- $g_2(x) = (x_1 - 1/2)^2 + (x_2-1/2)^2 \\le 0.5$"
   ]
  },
  {
   "cell_type": "code",
   "execution_count": 1,
   "metadata": {
    "collapsed": false,
    "execution": {
     "iopub.execute_input": "2024-01-29T20:55:35.402917Z",
     "iopub.status.busy": "2024-01-29T20:55:35.402745Z",
     "iopub.status.idle": "2024-01-29T20:55:37.489706Z",
     "shell.execute_reply": "2024-01-29T20:55:37.489105Z"
    }
   },
   "outputs": [
    {
     "name": "stdout",
     "output_type": "stream",
     "text": [
      "{'variables': {'x1': [0.0, 3.14159], 'x2': [0.0, 3.14159]}, 'constraints': {'c1': ['GREATER_THAN', 0.0], 'c2': ['LESS_THAN', 0.5]}, 'objectives': {'y1': 'MINIMIZE', 'y2': 'MINIMIZE'}, 'constants': {'a': 'dummy_constant'}, 'observables': []}\n"
     ]
    }
   ],
   "source": [
    "# set values if testing\n",
    "import os\n",
    "SMOKE_TEST = os.environ.get(\"SMOKE_TEST\")\n",
    "N_MC_SAMPLES = 1 if SMOKE_TEST else 128\n",
    "NUM_RESTARTS = 1 if SMOKE_TEST else 20\n",
    "N_STEPS = 1 if SMOKE_TEST else 30\n",
    "\n",
    "# Ignore all warnings\n",
    "import warnings\n",
    "warnings.filterwarnings(\"ignore\")\n",
    "\n",
    "\n",
    "import pandas as pd\n",
    "import numpy as np\n",
    "import torch\n",
    "\n",
    "from xopt import Xopt, Evaluator\n",
    "from xopt.generators.bayesian import MOBOGenerator\n",
    "from xopt.resources.test_functions.tnk import evaluate_TNK, tnk_vocs\n",
    "\n",
    "\n",
    "evaluator = Evaluator(function=evaluate_TNK)\n",
    "print(tnk_vocs.dict())"
   ]
  },
  {
   "cell_type": "code",
   "execution_count": 2,
   "metadata": {
    "collapsed": false,
    "execution": {
     "iopub.execute_input": "2024-01-29T20:55:37.518241Z",
     "iopub.status.busy": "2024-01-29T20:55:37.517926Z",
     "iopub.status.idle": "2024-01-29T20:56:28.549912Z",
     "shell.execute_reply": "2024-01-29T20:56:28.549243Z"
    }
   },
   "outputs": [
    {
     "name": "stdout",
     "output_type": "stream",
     "text": [
      "0\n"
     ]
    },
    {
     "name": "stdout",
     "output_type": "stream",
     "text": [
      "1\n"
     ]
    },
    {
     "name": "stdout",
     "output_type": "stream",
     "text": [
      "2\n"
     ]
    },
    {
     "name": "stdout",
     "output_type": "stream",
     "text": [
      "3\n"
     ]
    },
    {
     "name": "stdout",
     "output_type": "stream",
     "text": [
      "4\n"
     ]
    },
    {
     "name": "stdout",
     "output_type": "stream",
     "text": [
      "5\n"
     ]
    },
    {
     "name": "stdout",
     "output_type": "stream",
     "text": [
      "6\n"
     ]
    },
    {
     "name": "stdout",
     "output_type": "stream",
     "text": [
      "7\n"
     ]
    },
    {
     "name": "stdout",
     "output_type": "stream",
     "text": [
      "8\n"
     ]
    },
    {
     "name": "stdout",
     "output_type": "stream",
     "text": [
      "9\n"
     ]
    },
    {
     "name": "stdout",
     "output_type": "stream",
     "text": [
      "10\n"
     ]
    },
    {
     "name": "stdout",
     "output_type": "stream",
     "text": [
      "11\n"
     ]
    },
    {
     "name": "stdout",
     "output_type": "stream",
     "text": [
      "12\n"
     ]
    },
    {
     "name": "stdout",
     "output_type": "stream",
     "text": [
      "13\n"
     ]
    },
    {
     "name": "stdout",
     "output_type": "stream",
     "text": [
      "14\n"
     ]
    },
    {
     "name": "stdout",
     "output_type": "stream",
     "text": [
      "15\n"
     ]
    },
    {
     "name": "stdout",
     "output_type": "stream",
     "text": [
      "16\n"
     ]
    },
    {
     "name": "stdout",
     "output_type": "stream",
     "text": [
      "17\n"
     ]
    },
    {
     "name": "stdout",
     "output_type": "stream",
     "text": [
      "18\n"
     ]
    },
    {
     "name": "stdout",
     "output_type": "stream",
     "text": [
      "19\n"
     ]
    },
    {
     "name": "stdout",
     "output_type": "stream",
     "text": [
      "20\n"
     ]
    },
    {
     "name": "stdout",
     "output_type": "stream",
     "text": [
      "21\n"
     ]
    },
    {
     "name": "stdout",
     "output_type": "stream",
     "text": [
      "22\n"
     ]
    },
    {
     "name": "stdout",
     "output_type": "stream",
     "text": [
      "23\n"
     ]
    },
    {
     "name": "stdout",
     "output_type": "stream",
     "text": [
      "24\n"
     ]
    },
    {
     "name": "stdout",
     "output_type": "stream",
     "text": [
      "25\n"
     ]
    },
    {
     "name": "stdout",
     "output_type": "stream",
     "text": [
      "26\n"
     ]
    },
    {
     "name": "stdout",
     "output_type": "stream",
     "text": [
      "27\n"
     ]
    },
    {
     "name": "stdout",
     "output_type": "stream",
     "text": [
      "28\n"
     ]
    },
    {
     "name": "stdout",
     "output_type": "stream",
     "text": [
      "29\n"
     ]
    }
   ],
   "source": [
    "generator = MOBOGenerator(vocs=tnk_vocs, reference_point = {\"y1\":1.5,\"y2\":1.5})\n",
    "generator.n_monte_carlo_samples = N_MC_SAMPLES\n",
    "generator.numerical_optimizer.n_restarts = NUM_RESTARTS\n",
    "\n",
    "X = Xopt(generator=generator, evaluator=evaluator, vocs=tnk_vocs)\n",
    "X.evaluate_data(pd.DataFrame({\"x1\":[1.0, 0.75],\"x2\":[0.75, 1.0]}))\n",
    "\n",
    "for i in range(N_STEPS):\n",
    "    print(i)\n",
    "    X.step()"
   ]
  },
  {
   "cell_type": "code",
   "execution_count": 3,
   "metadata": {
    "collapsed": false,
    "execution": {
     "iopub.execute_input": "2024-01-29T20:56:28.552984Z",
     "iopub.status.busy": "2024-01-29T20:56:28.552733Z",
     "iopub.status.idle": "2024-01-29T20:56:28.568425Z",
     "shell.execute_reply": "2024-01-29T20:56:28.567827Z"
    }
   },
   "outputs": [
    {
     "data": {
      "text/html": [
       "<div>\n",
       "<style scoped>\n",
       "    .dataframe tbody tr th:only-of-type {\n",
       "        vertical-align: middle;\n",
       "    }\n",
       "\n",
       "    .dataframe tbody tr th {\n",
       "        vertical-align: top;\n",
       "    }\n",
       "\n",
       "    .dataframe thead th {\n",
       "        text-align: right;\n",
       "    }\n",
       "</style>\n",
       "<table border=\"1\" class=\"dataframe\">\n",
       "  <thead>\n",
       "    <tr style=\"text-align: right;\">\n",
       "      <th></th>\n",
       "      <th>x1</th>\n",
       "      <th>x2</th>\n",
       "      <th>a</th>\n",
       "      <th>y1</th>\n",
       "      <th>y2</th>\n",
       "      <th>c1</th>\n",
       "      <th>c2</th>\n",
       "      <th>xopt_runtime</th>\n",
       "      <th>xopt_error</th>\n",
       "    </tr>\n",
       "  </thead>\n",
       "  <tbody>\n",
       "    <tr>\n",
       "      <th>0</th>\n",
       "      <td>1.000000</td>\n",
       "      <td>0.750000</td>\n",
       "      <td>dummy_constant</td>\n",
       "      <td>1.000000</td>\n",
       "      <td>0.750000</td>\n",
       "      <td>0.626888</td>\n",
       "      <td>0.312500</td>\n",
       "      <td>0.000033</td>\n",
       "      <td>False</td>\n",
       "    </tr>\n",
       "    <tr>\n",
       "      <th>1</th>\n",
       "      <td>0.750000</td>\n",
       "      <td>1.000000</td>\n",
       "      <td>dummy_constant</td>\n",
       "      <td>0.750000</td>\n",
       "      <td>1.000000</td>\n",
       "      <td>0.626888</td>\n",
       "      <td>0.312500</td>\n",
       "      <td>0.000007</td>\n",
       "      <td>False</td>\n",
       "    </tr>\n",
       "    <tr>\n",
       "      <th>2</th>\n",
       "      <td>0.000000</td>\n",
       "      <td>3.141590</td>\n",
       "      <td>dummy_constant</td>\n",
       "      <td>0.000000</td>\n",
       "      <td>3.141590</td>\n",
       "      <td>8.769588</td>\n",
       "      <td>7.227998</td>\n",
       "      <td>0.000022</td>\n",
       "      <td>False</td>\n",
       "    </tr>\n",
       "    <tr>\n",
       "      <th>3</th>\n",
       "      <td>0.000000</td>\n",
       "      <td>0.000000</td>\n",
       "      <td>dummy_constant</td>\n",
       "      <td>0.000000</td>\n",
       "      <td>0.000000</td>\n",
       "      <td>-1.100000</td>\n",
       "      <td>0.500000</td>\n",
       "      <td>0.000022</td>\n",
       "      <td>False</td>\n",
       "    </tr>\n",
       "    <tr>\n",
       "      <th>4</th>\n",
       "      <td>0.564985</td>\n",
       "      <td>0.000000</td>\n",
       "      <td>dummy_constant</td>\n",
       "      <td>0.564985</td>\n",
       "      <td>0.000000</td>\n",
       "      <td>-0.780792</td>\n",
       "      <td>0.254223</td>\n",
       "      <td>0.000022</td>\n",
       "      <td>False</td>\n",
       "    </tr>\n",
       "    <tr>\n",
       "      <th>5</th>\n",
       "      <td>0.182076</td>\n",
       "      <td>0.551524</td>\n",
       "      <td>dummy_constant</td>\n",
       "      <td>0.182076</td>\n",
       "      <td>0.551524</td>\n",
       "      <td>-0.700640</td>\n",
       "      <td>0.103730</td>\n",
       "      <td>0.000024</td>\n",
       "      <td>False</td>\n",
       "    </tr>\n",
       "    <tr>\n",
       "      <th>6</th>\n",
       "      <td>0.422178</td>\n",
       "      <td>0.935280</td>\n",
       "      <td>dummy_constant</td>\n",
       "      <td>0.422178</td>\n",
       "      <td>0.935280</td>\n",
       "      <td>-0.034729</td>\n",
       "      <td>0.195525</td>\n",
       "      <td>0.000034</td>\n",
       "      <td>False</td>\n",
       "    </tr>\n",
       "    <tr>\n",
       "      <th>7</th>\n",
       "      <td>0.379617</td>\n",
       "      <td>1.011737</td>\n",
       "      <td>dummy_constant</td>\n",
       "      <td>0.379617</td>\n",
       "      <td>1.011737</td>\n",
       "      <td>0.081942</td>\n",
       "      <td>0.276366</td>\n",
       "      <td>0.000024</td>\n",
       "      <td>False</td>\n",
       "    </tr>\n",
       "    <tr>\n",
       "      <th>8</th>\n",
       "      <td>0.979441</td>\n",
       "      <td>0.472735</td>\n",
       "      <td>dummy_constant</td>\n",
       "      <td>0.979441</td>\n",
       "      <td>0.472735</td>\n",
       "      <td>0.121539</td>\n",
       "      <td>0.230607</td>\n",
       "      <td>0.000024</td>\n",
       "      <td>False</td>\n",
       "    </tr>\n",
       "    <tr>\n",
       "      <th>9</th>\n",
       "      <td>1.074959</td>\n",
       "      <td>0.000000</td>\n",
       "      <td>dummy_constant</td>\n",
       "      <td>1.074959</td>\n",
       "      <td>0.000000</td>\n",
       "      <td>0.055538</td>\n",
       "      <td>0.580578</td>\n",
       "      <td>0.000023</td>\n",
       "      <td>False</td>\n",
       "    </tr>\n",
       "    <tr>\n",
       "      <th>10</th>\n",
       "      <td>3.141590</td>\n",
       "      <td>0.000000</td>\n",
       "      <td>dummy_constant</td>\n",
       "      <td>3.141590</td>\n",
       "      <td>0.000000</td>\n",
       "      <td>8.769588</td>\n",
       "      <td>7.227998</td>\n",
       "      <td>0.000021</td>\n",
       "      <td>False</td>\n",
       "    </tr>\n",
       "    <tr>\n",
       "      <th>11</th>\n",
       "      <td>0.739188</td>\n",
       "      <td>0.751091</td>\n",
       "      <td>dummy_constant</td>\n",
       "      <td>0.739188</td>\n",
       "      <td>0.751091</td>\n",
       "      <td>0.011352</td>\n",
       "      <td>0.120258</td>\n",
       "      <td>0.000024</td>\n",
       "      <td>False</td>\n",
       "    </tr>\n",
       "    <tr>\n",
       "      <th>12</th>\n",
       "      <td>0.581455</td>\n",
       "      <td>0.894298</td>\n",
       "      <td>dummy_constant</td>\n",
       "      <td>0.581455</td>\n",
       "      <td>0.894298</td>\n",
       "      <td>0.235850</td>\n",
       "      <td>0.162106</td>\n",
       "      <td>0.000024</td>\n",
       "      <td>False</td>\n",
       "    </tr>\n",
       "    <tr>\n",
       "      <th>13</th>\n",
       "      <td>1.054226</td>\n",
       "      <td>0.120551</td>\n",
       "      <td>dummy_constant</td>\n",
       "      <td>1.054226</td>\n",
       "      <td>0.120551</td>\n",
       "      <td>0.150751</td>\n",
       "      <td>0.451148</td>\n",
       "      <td>0.000023</td>\n",
       "      <td>False</td>\n",
       "    </tr>\n",
       "    <tr>\n",
       "      <th>14</th>\n",
       "      <td>0.205898</td>\n",
       "      <td>1.067710</td>\n",
       "      <td>dummy_constant</td>\n",
       "      <td>0.205898</td>\n",
       "      <td>1.067710</td>\n",
       "      <td>0.281962</td>\n",
       "      <td>0.408791</td>\n",
       "      <td>0.000025</td>\n",
       "      <td>False</td>\n",
       "    </tr>\n",
       "    <tr>\n",
       "      <th>15</th>\n",
       "      <td>0.368131</td>\n",
       "      <td>0.795061</td>\n",
       "      <td>dummy_constant</td>\n",
       "      <td>0.368131</td>\n",
       "      <td>0.795061</td>\n",
       "      <td>-0.311668</td>\n",
       "      <td>0.104450</td>\n",
       "      <td>0.000024</td>\n",
       "      <td>False</td>\n",
       "    </tr>\n",
       "    <tr>\n",
       "      <th>16</th>\n",
       "      <td>0.875894</td>\n",
       "      <td>0.589715</td>\n",
       "      <td>dummy_constant</td>\n",
       "      <td>0.875894</td>\n",
       "      <td>0.589715</td>\n",
       "      <td>0.214796</td>\n",
       "      <td>0.149345</td>\n",
       "      <td>0.000022</td>\n",
       "      <td>False</td>\n",
       "    </tr>\n",
       "    <tr>\n",
       "      <th>17</th>\n",
       "      <td>0.633558</td>\n",
       "      <td>0.811953</td>\n",
       "      <td>dummy_constant</td>\n",
       "      <td>0.633558</td>\n",
       "      <td>0.811953</td>\n",
       "      <td>0.099042</td>\n",
       "      <td>0.115153</td>\n",
       "      <td>0.000025</td>\n",
       "      <td>False</td>\n",
       "    </tr>\n",
       "    <tr>\n",
       "      <th>18</th>\n",
       "      <td>0.837747</td>\n",
       "      <td>0.549487</td>\n",
       "      <td>dummy_constant</td>\n",
       "      <td>0.837747</td>\n",
       "      <td>0.549487</td>\n",
       "      <td>0.102826</td>\n",
       "      <td>0.116522</td>\n",
       "      <td>0.000023</td>\n",
       "      <td>False</td>\n",
       "    </tr>\n",
       "    <tr>\n",
       "      <th>19</th>\n",
       "      <td>0.942248</td>\n",
       "      <td>0.248922</td>\n",
       "      <td>dummy_constant</td>\n",
       "      <td>0.942248</td>\n",
       "      <td>0.248922</td>\n",
       "      <td>0.004590</td>\n",
       "      <td>0.258623</td>\n",
       "      <td>0.000025</td>\n",
       "      <td>False</td>\n",
       "    </tr>\n",
       "    <tr>\n",
       "      <th>20</th>\n",
       "      <td>0.528121</td>\n",
       "      <td>0.880660</td>\n",
       "      <td>dummy_constant</td>\n",
       "      <td>0.528121</td>\n",
       "      <td>0.880660</td>\n",
       "      <td>0.125442</td>\n",
       "      <td>0.145693</td>\n",
       "      <td>0.000025</td>\n",
       "      <td>False</td>\n",
       "    </tr>\n",
       "    <tr>\n",
       "      <th>21</th>\n",
       "      <td>0.022780</td>\n",
       "      <td>1.232120</td>\n",
       "      <td>dummy_constant</td>\n",
       "      <td>0.022780</td>\n",
       "      <td>1.232120</td>\n",
       "      <td>0.422981</td>\n",
       "      <td>0.763738</td>\n",
       "      <td>0.000025</td>\n",
       "      <td>False</td>\n",
       "    </tr>\n",
       "    <tr>\n",
       "      <th>22</th>\n",
       "      <td>0.250379</td>\n",
       "      <td>1.000102</td>\n",
       "      <td>dummy_constant</td>\n",
       "      <td>0.250379</td>\n",
       "      <td>1.000102</td>\n",
       "      <td>0.133746</td>\n",
       "      <td>0.312412</td>\n",
       "      <td>0.000026</td>\n",
       "      <td>False</td>\n",
       "    </tr>\n",
       "    <tr>\n",
       "      <th>23</th>\n",
       "      <td>0.320837</td>\n",
       "      <td>0.965387</td>\n",
       "      <td>dummy_constant</td>\n",
       "      <td>0.320837</td>\n",
       "      <td>0.965387</td>\n",
       "      <td>-0.005989</td>\n",
       "      <td>0.248684</td>\n",
       "      <td>0.000026</td>\n",
       "      <td>False</td>\n",
       "    </tr>\n",
       "    <tr>\n",
       "      <th>24</th>\n",
       "      <td>0.591635</td>\n",
       "      <td>0.388526</td>\n",
       "      <td>dummy_constant</td>\n",
       "      <td>0.591635</td>\n",
       "      <td>0.388526</td>\n",
       "      <td>-0.399829</td>\n",
       "      <td>0.020823</td>\n",
       "      <td>0.000060</td>\n",
       "      <td>False</td>\n",
       "    </tr>\n",
       "    <tr>\n",
       "      <th>25</th>\n",
       "      <td>0.093571</td>\n",
       "      <td>1.058083</td>\n",
       "      <td>dummy_constant</td>\n",
       "      <td>0.093571</td>\n",
       "      <td>1.058083</td>\n",
       "      <td>0.112410</td>\n",
       "      <td>0.476641</td>\n",
       "      <td>0.000025</td>\n",
       "      <td>False</td>\n",
       "    </tr>\n",
       "    <tr>\n",
       "      <th>26</th>\n",
       "      <td>0.949895</td>\n",
       "      <td>0.335129</td>\n",
       "      <td>dummy_constant</td>\n",
       "      <td>0.949895</td>\n",
       "      <td>0.335129</td>\n",
       "      <td>-0.050903</td>\n",
       "      <td>0.229588</td>\n",
       "      <td>0.000025</td>\n",
       "      <td>False</td>\n",
       "    </tr>\n",
       "    <tr>\n",
       "      <th>27</th>\n",
       "      <td>1.183868</td>\n",
       "      <td>0.253944</td>\n",
       "      <td>dummy_constant</td>\n",
       "      <td>1.183868</td>\n",
       "      <td>0.253944</td>\n",
       "      <td>0.563183</td>\n",
       "      <td>0.528219</td>\n",
       "      <td>0.000028</td>\n",
       "      <td>False</td>\n",
       "    </tr>\n",
       "    <tr>\n",
       "      <th>28</th>\n",
       "      <td>1.036608</td>\n",
       "      <td>0.061547</td>\n",
       "      <td>dummy_constant</td>\n",
       "      <td>1.036608</td>\n",
       "      <td>0.061547</td>\n",
       "      <td>0.020084</td>\n",
       "      <td>0.480189</td>\n",
       "      <td>0.000026</td>\n",
       "      <td>False</td>\n",
       "    </tr>\n",
       "    <tr>\n",
       "      <th>29</th>\n",
       "      <td>0.075908</td>\n",
       "      <td>0.046564</td>\n",
       "      <td>dummy_constant</td>\n",
       "      <td>0.075908</td>\n",
       "      <td>0.046564</td>\n",
       "      <td>-0.910744</td>\n",
       "      <td>0.385459</td>\n",
       "      <td>0.000025</td>\n",
       "      <td>False</td>\n",
       "    </tr>\n",
       "    <tr>\n",
       "      <th>30</th>\n",
       "      <td>0.761060</td>\n",
       "      <td>0.653303</td>\n",
       "      <td>dummy_constant</td>\n",
       "      <td>0.761060</td>\n",
       "      <td>0.653303</td>\n",
       "      <td>-0.028662</td>\n",
       "      <td>0.091654</td>\n",
       "      <td>0.000026</td>\n",
       "      <td>False</td>\n",
       "    </tr>\n",
       "    <tr>\n",
       "      <th>31</th>\n",
       "      <td>0.118389</td>\n",
       "      <td>1.022710</td>\n",
       "      <td>dummy_constant</td>\n",
       "      <td>0.118389</td>\n",
       "      <td>1.022710</td>\n",
       "      <td>0.086927</td>\n",
       "      <td>0.418853</td>\n",
       "      <td>0.000051</td>\n",
       "      <td>False</td>\n",
       "    </tr>\n",
       "  </tbody>\n",
       "</table>\n",
       "</div>"
      ],
      "text/plain": [
       "          x1        x2               a        y1        y2        c1  \\\n",
       "0   1.000000  0.750000  dummy_constant  1.000000  0.750000  0.626888   \n",
       "1   0.750000  1.000000  dummy_constant  0.750000  1.000000  0.626888   \n",
       "2   0.000000  3.141590  dummy_constant  0.000000  3.141590  8.769588   \n",
       "3   0.000000  0.000000  dummy_constant  0.000000  0.000000 -1.100000   \n",
       "4   0.564985  0.000000  dummy_constant  0.564985  0.000000 -0.780792   \n",
       "5   0.182076  0.551524  dummy_constant  0.182076  0.551524 -0.700640   \n",
       "6   0.422178  0.935280  dummy_constant  0.422178  0.935280 -0.034729   \n",
       "7   0.379617  1.011737  dummy_constant  0.379617  1.011737  0.081942   \n",
       "8   0.979441  0.472735  dummy_constant  0.979441  0.472735  0.121539   \n",
       "9   1.074959  0.000000  dummy_constant  1.074959  0.000000  0.055538   \n",
       "10  3.141590  0.000000  dummy_constant  3.141590  0.000000  8.769588   \n",
       "11  0.739188  0.751091  dummy_constant  0.739188  0.751091  0.011352   \n",
       "12  0.581455  0.894298  dummy_constant  0.581455  0.894298  0.235850   \n",
       "13  1.054226  0.120551  dummy_constant  1.054226  0.120551  0.150751   \n",
       "14  0.205898  1.067710  dummy_constant  0.205898  1.067710  0.281962   \n",
       "15  0.368131  0.795061  dummy_constant  0.368131  0.795061 -0.311668   \n",
       "16  0.875894  0.589715  dummy_constant  0.875894  0.589715  0.214796   \n",
       "17  0.633558  0.811953  dummy_constant  0.633558  0.811953  0.099042   \n",
       "18  0.837747  0.549487  dummy_constant  0.837747  0.549487  0.102826   \n",
       "19  0.942248  0.248922  dummy_constant  0.942248  0.248922  0.004590   \n",
       "20  0.528121  0.880660  dummy_constant  0.528121  0.880660  0.125442   \n",
       "21  0.022780  1.232120  dummy_constant  0.022780  1.232120  0.422981   \n",
       "22  0.250379  1.000102  dummy_constant  0.250379  1.000102  0.133746   \n",
       "23  0.320837  0.965387  dummy_constant  0.320837  0.965387 -0.005989   \n",
       "24  0.591635  0.388526  dummy_constant  0.591635  0.388526 -0.399829   \n",
       "25  0.093571  1.058083  dummy_constant  0.093571  1.058083  0.112410   \n",
       "26  0.949895  0.335129  dummy_constant  0.949895  0.335129 -0.050903   \n",
       "27  1.183868  0.253944  dummy_constant  1.183868  0.253944  0.563183   \n",
       "28  1.036608  0.061547  dummy_constant  1.036608  0.061547  0.020084   \n",
       "29  0.075908  0.046564  dummy_constant  0.075908  0.046564 -0.910744   \n",
       "30  0.761060  0.653303  dummy_constant  0.761060  0.653303 -0.028662   \n",
       "31  0.118389  1.022710  dummy_constant  0.118389  1.022710  0.086927   \n",
       "\n",
       "          c2  xopt_runtime  xopt_error  \n",
       "0   0.312500      0.000033       False  \n",
       "1   0.312500      0.000007       False  \n",
       "2   7.227998      0.000022       False  \n",
       "3   0.500000      0.000022       False  \n",
       "4   0.254223      0.000022       False  \n",
       "5   0.103730      0.000024       False  \n",
       "6   0.195525      0.000034       False  \n",
       "7   0.276366      0.000024       False  \n",
       "8   0.230607      0.000024       False  \n",
       "9   0.580578      0.000023       False  \n",
       "10  7.227998      0.000021       False  \n",
       "11  0.120258      0.000024       False  \n",
       "12  0.162106      0.000024       False  \n",
       "13  0.451148      0.000023       False  \n",
       "14  0.408791      0.000025       False  \n",
       "15  0.104450      0.000024       False  \n",
       "16  0.149345      0.000022       False  \n",
       "17  0.115153      0.000025       False  \n",
       "18  0.116522      0.000023       False  \n",
       "19  0.258623      0.000025       False  \n",
       "20  0.145693      0.000025       False  \n",
       "21  0.763738      0.000025       False  \n",
       "22  0.312412      0.000026       False  \n",
       "23  0.248684      0.000026       False  \n",
       "24  0.020823      0.000060       False  \n",
       "25  0.476641      0.000025       False  \n",
       "26  0.229588      0.000025       False  \n",
       "27  0.528219      0.000028       False  \n",
       "28  0.480189      0.000026       False  \n",
       "29  0.385459      0.000025       False  \n",
       "30  0.091654      0.000026       False  \n",
       "31  0.418853      0.000051       False  "
      ]
     },
     "execution_count": 3,
     "metadata": {},
     "output_type": "execute_result"
    }
   ],
   "source": [
    "X.generator.data"
   ]
  },
  {
   "cell_type": "markdown",
   "metadata": {
    "collapsed": false
   },
   "source": [
    "## plot results\n"
   ]
  },
  {
   "cell_type": "code",
   "execution_count": 4,
   "metadata": {
    "collapsed": false,
    "execution": {
     "iopub.execute_input": "2024-01-29T20:56:28.570890Z",
     "iopub.status.busy": "2024-01-29T20:56:28.570466Z",
     "iopub.status.idle": "2024-01-29T20:56:28.923419Z",
     "shell.execute_reply": "2024-01-29T20:56:28.922782Z"
    }
   },
   "outputs": [
    {
     "data": {
      "image/png": "[encoded data removed]",
      "text/plain": [
       "<Figure size 640x480 with 1 Axes>"
      ]
     },
     "metadata": {},
     "output_type": "display_data"
    }
   ],
   "source": [
    "import matplotlib.pyplot as plt\n",
    "\n",
    "fig, ax = plt.subplots()\n",
    "\n",
    "theta = np.linspace(0, np.pi / 2)\n",
    "r = np.sqrt(1 + 0.1 * np.cos(16 * theta))\n",
    "x_1 = r * np.sin(theta)\n",
    "x_2_lower = r * np.cos(theta)\n",
    "x_2_upper = (0.5 - (x_1 - 0.5) ** 2) ** 0.5 + 0.5\n",
    "\n",
    "z = np.zeros_like(x_1)\n",
    "\n",
    "# ax2.plot(x_1, x_2_lower,'r')\n",
    "ax.fill_between(x_1, z, x_2_lower, fc=\"white\")\n",
    "circle = plt.Circle(\n",
    "    (0.5, 0.5), 0.5 ** 0.5, color=\"r\", alpha=0.25, zorder=0, label=\"Valid Region\"\n",
    ")\n",
    "ax.add_patch(circle)\n",
    "history = pd.concat(\n",
    "    [X.data, tnk_vocs.feasibility_data(X.data)], axis=1, ignore_index=False\n",
    ")\n",
    "\n",
    "\n",
    "ax.plot(*history[[\"x1\", \"x2\"]][history[\"feasible\"]].to_numpy().T, \".C1\")\n",
    "ax.plot(*history[[\"x1\", \"x2\"]][~history[\"feasible\"]].to_numpy().T, \".C2\")\n",
    "\n",
    "ax.set_xlim(0, 3.14)\n",
    "ax.set_ylim(0, 3.14)\n",
    "ax.set_xlabel(\"x1\")\n",
    "ax.set_ylabel(\"x2\")\n",
    "ax.set_aspect(\"equal\")"
   ]
  },
  {
   "cell_type": "markdown",
   "metadata": {
    "collapsed": false
   },
   "source": [
    "### Plot path through input space"
   ]
  },
  {
   "cell_type": "code",
   "execution_count": 5,
   "metadata": {
    "collapsed": false,
    "execution": {
     "iopub.execute_input": "2024-01-29T20:56:28.925730Z",
     "iopub.status.busy": "2024-01-29T20:56:28.925482Z",
     "iopub.status.idle": "2024-01-29T20:56:29.153359Z",
     "shell.execute_reply": "2024-01-29T20:56:29.152711Z"
    }
   },
   "outputs": [
    {
     "data": {
      "image/png": "[encoded data removed]",
      "text/plain": [
       "<Figure size 640x480 with 1 Axes>"
      ]
     },
     "metadata": {},
     "output_type": "display_data"
    }
   ],
   "source": [
    "ax = history.plot(\"x1\", \"x2\")\n",
    "ax.set_ylim(0, 3.14)\n",
    "ax.set_xlim(0, 3.14)\n",
    "ax.set_aspect(\"equal\")"
   ]
  },
  {
   "cell_type": "code",
   "execution_count": 6,
   "metadata": {
    "collapsed": false,
    "execution": {
     "iopub.execute_input": "2024-01-29T20:56:29.155899Z",
     "iopub.status.busy": "2024-01-29T20:56:29.155521Z",
     "iopub.status.idle": "2024-01-29T20:56:44.323826Z",
     "shell.execute_reply": "2024-01-29T20:56:44.323173Z"
    }
   },
   "outputs": [
    {
     "name": "stdout",
     "output_type": "stream",
     "text": [
      "[[0.27448712 0.75237231]]\n"
     ]
    },
    {
     "data": {
      "text/plain": [
       "[<matplotlib.lines.Line2D at 0x7f9a30e501f0>]"
      ]
     },
     "execution_count": 6,
     "metadata": {},
     "output_type": "execute_result"
    },
    {
     "data": {
      "image/png": "[encoded data removed]",
      "text/plain": [
       "<Figure size 640x480 with 2 Axes>"
      ]
     },
     "metadata": {},
     "output_type": "display_data"
    },
    {
     "data": {
      "image/png": "[encoded data removed]",
      "text/plain": [
       "<Figure size 640x480 with 2 Axes>"
      ]
     },
     "metadata": {},
     "output_type": "display_data"
    }
   ],
   "source": [
    "# plot the acquisition function\n",
    "from xopt.generators.bayesian.objectives import feasibility\n",
    "\n",
    "bounds = X.generator.vocs.bounds\n",
    "model = X.generator.model\n",
    "\n",
    "# create mesh\n",
    "n = 200\n",
    "x = torch.linspace(*bounds.T[0], n)\n",
    "y = torch.linspace(*bounds.T[1], n)\n",
    "xx, yy = torch.meshgrid(x, y)\n",
    "pts = torch.hstack([ele.reshape(-1, 1) for ele in (xx, yy)]).double()\n",
    "\n",
    "xx, yy = xx.numpy(), yy.numpy()\n",
    "\n",
    "acq_func = X.generator.get_acquisition(model)\n",
    "with torch.no_grad():\n",
    "    acq_pts = pts.unsqueeze(1)\n",
    "    acq = acq_func(acq_pts)\n",
    "\n",
    "    fig, ax = plt.subplots()\n",
    "    c = ax.pcolor(xx, yy, acq.reshape(n, n), cmap=\"Blues\")\n",
    "    fig.colorbar(c)\n",
    "    ax.set_title(\"Acquisition function\")\n",
    "\n",
    "    ax.plot(*history[[\"x1\", \"x2\"]][history[\"feasible\"]].to_numpy().T, \".C1\")\n",
    "    ax.plot(*history[[\"x1\", \"x2\"]][~history[\"feasible\"]].to_numpy().T, \".C2\")\n",
    "\n",
    "    ax.plot(*history[[\"x1\", \"x2\"]].to_numpy()[-1].T, \"+\")\n",
    "\n",
    "    feas = feasibility(pts.unsqueeze(1), model, tnk_vocs).flatten()\n",
    "\n",
    "    fig2, ax2 = plt.subplots()\n",
    "    c = ax2.pcolor(xx, yy, feas.reshape(n, n))\n",
    "    fig2.colorbar(c)\n",
    "    ax2.set_title(\"Feasible Region\")\n",
    "\n",
    "candidate = pd.DataFrame(X.generator.generate(1), index=[0])\n",
    "print(candidate[[\"x1\", \"x2\"]].to_numpy())\n",
    "ax.plot(*candidate[[\"x1\", \"x2\"]].to_numpy()[0], \"o\")"
   ]
  },
  {
   "cell_type": "code",
   "execution_count": 7,
   "metadata": {
    "collapsed": false,
    "execution": {
     "iopub.execute_input": "2024-01-29T20:56:44.326390Z",
     "iopub.status.busy": "2024-01-29T20:56:44.325999Z",
     "iopub.status.idle": "2024-01-29T20:56:45.127063Z",
     "shell.execute_reply": "2024-01-29T20:56:45.126396Z"
    }
   },
   "outputs": [
    {
     "name": "stdout",
     "output_type": "stream",
     "text": [
      "CPU times: user 1.55 s, sys: 39.9 ms, total: 1.59 s\n",
      "Wall time: 797 ms\n"
     ]
    }
   ],
   "source": [
    "%%time\n",
    "candidate = X.generator.generate(1)"
   ]
  }
 ],
 "metadata": {
  "interpreter": {
   "hash": "72034539424920dfb606fe3b820b3f27dca0cbf1c69938110810ec4641e275b1"
  },
  "kernelspec": {
   "display_name": "Python 3 (ipykernel)",
   "language": "python",
   "name": "python3"
  },
  "language_info": {
   "codemirror_mode": {
    "name": "ipython",
    "version": 3
   },
   "file_extension": ".py",
   "mimetype": "text/x-python",
   "name": "python",
   "nbconvert_exporter": "python",
   "pygments_lexer": "ipython3",
   "version": "3.9.18"
  }
 },
 "nbformat": 4,
 "nbformat_minor": 4
}
