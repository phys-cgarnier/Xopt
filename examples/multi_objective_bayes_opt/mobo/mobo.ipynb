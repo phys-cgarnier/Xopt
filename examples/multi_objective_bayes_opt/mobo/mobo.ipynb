{
 "cells": [
  {
   "cell_type": "markdown",
   "metadata": {},
   "source": [
    "\n",
    "# Multi-objective Bayesian Optimization\n",
    "\n",
    "\n",
    "TNK function\n",
    "$n=2$ variables:\n",
    "$x_i \\in [0, \\pi], i=1,2$\n",
    "\n",
    "Objectives:\n",
    "- $f_i(x) = x_i$\n",
    "\n",
    "Constraints:\n",
    "- $g_1(x) = -x_1^2 -x_2^2 + 1 + 0.1 \\cos\\left(16 \\arctan \\frac{x_1}{x_2}\\right) \\le 0$\n",
    "- $g_2(x) = (x_1 - 1/2)^2 + (x_2-1/2)^2 \\le 0.5$"
   ]
  },
  {
   "cell_type": "code",
   "execution_count": 1,
   "metadata": {
    "collapsed": false,
    "execution": {
     "iopub.execute_input": "2024-08-08T16:17:06.408729Z",
     "iopub.status.busy": "2024-08-08T16:17:06.408553Z",
     "iopub.status.idle": "2024-08-08T16:17:08.518434Z",
     "shell.execute_reply": "2024-08-08T16:17:08.517775Z"
    }
   },
   "outputs": [
    {
     "name": "stdout",
     "output_type": "stream",
     "text": [
      "{'variables': {'x1': [0.0, 3.14159], 'x2': [0.0, 3.14159]}, 'constraints': {'c1': ['GREATER_THAN', 0.0], 'c2': ['LESS_THAN', 0.5]}, 'objectives': {'y1': 'MINIMIZE', 'y2': 'MINIMIZE'}, 'constants': {'a': 'dummy_constant'}, 'observables': []}\n"
     ]
    }
   ],
   "source": [
    "# set values if testing\n",
    "import os\n",
    "SMOKE_TEST = os.environ.get(\"SMOKE_TEST\")\n",
    "N_MC_SAMPLES = 1 if SMOKE_TEST else 128\n",
    "NUM_RESTARTS = 1 if SMOKE_TEST else 20\n",
    "N_STEPS = 1 if SMOKE_TEST else 30\n",
    "\n",
    "# Ignore all warnings\n",
    "import warnings\n",
    "warnings.filterwarnings(\"ignore\")\n",
    "\n",
    "\n",
    "import pandas as pd\n",
    "import numpy as np\n",
    "import torch\n",
    "\n",
    "from xopt import Xopt, Evaluator\n",
    "from xopt.generators.bayesian import MOBOGenerator\n",
    "from xopt.resources.test_functions.tnk import evaluate_TNK, tnk_vocs\n",
    "\n",
    "\n",
    "evaluator = Evaluator(function=evaluate_TNK)\n",
    "print(tnk_vocs.dict())"
   ]
  },
  {
   "cell_type": "code",
   "execution_count": 2,
   "metadata": {
    "collapsed": false,
    "execution": {
     "iopub.execute_input": "2024-08-08T16:17:08.549089Z",
     "iopub.status.busy": "2024-08-08T16:17:08.548444Z",
     "iopub.status.idle": "2024-08-08T16:17:50.117076Z",
     "shell.execute_reply": "2024-08-08T16:17:50.116478Z"
    }
   },
   "outputs": [
    {
     "name": "stdout",
     "output_type": "stream",
     "text": [
      "0\n"
     ]
    },
    {
     "name": "stdout",
     "output_type": "stream",
     "text": [
      "1\n"
     ]
    },
    {
     "name": "stdout",
     "output_type": "stream",
     "text": [
      "2\n"
     ]
    },
    {
     "name": "stdout",
     "output_type": "stream",
     "text": [
      "3\n"
     ]
    },
    {
     "name": "stdout",
     "output_type": "stream",
     "text": [
      "4\n"
     ]
    },
    {
     "name": "stdout",
     "output_type": "stream",
     "text": [
      "5\n"
     ]
    },
    {
     "name": "stdout",
     "output_type": "stream",
     "text": [
      "6\n"
     ]
    },
    {
     "name": "stdout",
     "output_type": "stream",
     "text": [
      "7\n"
     ]
    },
    {
     "name": "stdout",
     "output_type": "stream",
     "text": [
      "8\n"
     ]
    },
    {
     "name": "stdout",
     "output_type": "stream",
     "text": [
      "9\n"
     ]
    },
    {
     "name": "stdout",
     "output_type": "stream",
     "text": [
      "10\n"
     ]
    },
    {
     "name": "stdout",
     "output_type": "stream",
     "text": [
      "11\n"
     ]
    },
    {
     "name": "stdout",
     "output_type": "stream",
     "text": [
      "12\n"
     ]
    },
    {
     "name": "stdout",
     "output_type": "stream",
     "text": [
      "13\n"
     ]
    },
    {
     "name": "stdout",
     "output_type": "stream",
     "text": [
      "14\n"
     ]
    },
    {
     "name": "stdout",
     "output_type": "stream",
     "text": [
      "15\n"
     ]
    },
    {
     "name": "stdout",
     "output_type": "stream",
     "text": [
      "16\n"
     ]
    },
    {
     "name": "stdout",
     "output_type": "stream",
     "text": [
      "17\n"
     ]
    },
    {
     "name": "stdout",
     "output_type": "stream",
     "text": [
      "18\n"
     ]
    },
    {
     "name": "stdout",
     "output_type": "stream",
     "text": [
      "19\n"
     ]
    },
    {
     "name": "stdout",
     "output_type": "stream",
     "text": [
      "20\n"
     ]
    },
    {
     "name": "stdout",
     "output_type": "stream",
     "text": [
      "21\n"
     ]
    },
    {
     "name": "stdout",
     "output_type": "stream",
     "text": [
      "22\n"
     ]
    },
    {
     "name": "stdout",
     "output_type": "stream",
     "text": [
      "23\n"
     ]
    },
    {
     "name": "stdout",
     "output_type": "stream",
     "text": [
      "24\n"
     ]
    },
    {
     "name": "stdout",
     "output_type": "stream",
     "text": [
      "25\n"
     ]
    },
    {
     "name": "stdout",
     "output_type": "stream",
     "text": [
      "26\n"
     ]
    },
    {
     "name": "stdout",
     "output_type": "stream",
     "text": [
      "27\n"
     ]
    },
    {
     "name": "stdout",
     "output_type": "stream",
     "text": [
      "28\n"
     ]
    },
    {
     "name": "stdout",
     "output_type": "stream",
     "text": [
      "29\n"
     ]
    }
   ],
   "source": [
    "generator = MOBOGenerator(vocs=tnk_vocs, reference_point = {\"y1\":1.5,\"y2\":1.5})\n",
    "generator.n_monte_carlo_samples = N_MC_SAMPLES\n",
    "generator.numerical_optimizer.n_restarts = NUM_RESTARTS\n",
    "\n",
    "X = Xopt(generator=generator, evaluator=evaluator, vocs=tnk_vocs)\n",
    "X.evaluate_data(pd.DataFrame({\"x1\":[1.0, 0.75],\"x2\":[0.75, 1.0]}))\n",
    "\n",
    "for i in range(N_STEPS):\n",
    "    print(i)\n",
    "    X.step()"
   ]
  },
  {
   "cell_type": "code",
   "execution_count": 3,
   "metadata": {
    "collapsed": false,
    "execution": {
     "iopub.execute_input": "2024-08-08T16:17:50.120276Z",
     "iopub.status.busy": "2024-08-08T16:17:50.119705Z",
     "iopub.status.idle": "2024-08-08T16:17:50.135581Z",
     "shell.execute_reply": "2024-08-08T16:17:50.134999Z"
    }
   },
   "outputs": [
    {
     "data": {
      "text/html": [
       "<div>\n",
       "<style scoped>\n",
       "    .dataframe tbody tr th:only-of-type {\n",
       "        vertical-align: middle;\n",
       "    }\n",
       "\n",
       "    .dataframe tbody tr th {\n",
       "        vertical-align: top;\n",
       "    }\n",
       "\n",
       "    .dataframe thead th {\n",
       "        text-align: right;\n",
       "    }\n",
       "</style>\n",
       "<table border=\"1\" class=\"dataframe\">\n",
       "  <thead>\n",
       "    <tr style=\"text-align: right;\">\n",
       "      <th></th>\n",
       "      <th>x1</th>\n",
       "      <th>x2</th>\n",
       "      <th>a</th>\n",
       "      <th>y1</th>\n",
       "      <th>y2</th>\n",
       "      <th>c1</th>\n",
       "      <th>c2</th>\n",
       "      <th>xopt_runtime</th>\n",
       "      <th>xopt_error</th>\n",
       "    </tr>\n",
       "  </thead>\n",
       "  <tbody>\n",
       "    <tr>\n",
       "      <th>0</th>\n",
       "      <td>1.000000</td>\n",
       "      <td>0.750000</td>\n",
       "      <td>dummy_constant</td>\n",
       "      <td>1.000000</td>\n",
       "      <td>0.750000</td>\n",
       "      <td>0.626888</td>\n",
       "      <td>0.312500</td>\n",
       "      <td>0.000032</td>\n",
       "      <td>False</td>\n",
       "    </tr>\n",
       "    <tr>\n",
       "      <th>1</th>\n",
       "      <td>0.750000</td>\n",
       "      <td>1.000000</td>\n",
       "      <td>dummy_constant</td>\n",
       "      <td>0.750000</td>\n",
       "      <td>1.000000</td>\n",
       "      <td>0.626888</td>\n",
       "      <td>0.312500</td>\n",
       "      <td>0.000008</td>\n",
       "      <td>False</td>\n",
       "    </tr>\n",
       "    <tr>\n",
       "      <th>2</th>\n",
       "      <td>0.000000</td>\n",
       "      <td>3.141590</td>\n",
       "      <td>dummy_constant</td>\n",
       "      <td>0.000000</td>\n",
       "      <td>3.141590</td>\n",
       "      <td>8.769588</td>\n",
       "      <td>7.227998</td>\n",
       "      <td>0.000029</td>\n",
       "      <td>False</td>\n",
       "    </tr>\n",
       "    <tr>\n",
       "      <th>3</th>\n",
       "      <td>2.935455</td>\n",
       "      <td>0.959465</td>\n",
       "      <td>dummy_constant</td>\n",
       "      <td>2.935455</td>\n",
       "      <td>0.959465</td>\n",
       "      <td>8.503920</td>\n",
       "      <td>6.142550</td>\n",
       "      <td>0.000029</td>\n",
       "      <td>False</td>\n",
       "    </tr>\n",
       "    <tr>\n",
       "      <th>4</th>\n",
       "      <td>0.343008</td>\n",
       "      <td>0.253760</td>\n",
       "      <td>dummy_constant</td>\n",
       "      <td>0.343008</td>\n",
       "      <td>0.253760</td>\n",
       "      <td>-0.745907</td>\n",
       "      <td>0.085281</td>\n",
       "      <td>0.000027</td>\n",
       "      <td>False</td>\n",
       "    </tr>\n",
       "    <tr>\n",
       "      <th>5</th>\n",
       "      <td>0.000000</td>\n",
       "      <td>0.003049</td>\n",
       "      <td>dummy_constant</td>\n",
       "      <td>0.000000</td>\n",
       "      <td>0.003049</td>\n",
       "      <td>-1.099991</td>\n",
       "      <td>0.496960</td>\n",
       "      <td>0.000028</td>\n",
       "      <td>False</td>\n",
       "    </tr>\n",
       "    <tr>\n",
       "      <th>6</th>\n",
       "      <td>0.000000</td>\n",
       "      <td>0.635789</td>\n",
       "      <td>dummy_constant</td>\n",
       "      <td>0.000000</td>\n",
       "      <td>0.635789</td>\n",
       "      <td>-0.695773</td>\n",
       "      <td>0.268439</td>\n",
       "      <td>0.000028</td>\n",
       "      <td>False</td>\n",
       "    </tr>\n",
       "    <tr>\n",
       "      <th>7</th>\n",
       "      <td>0.623512</td>\n",
       "      <td>0.000000</td>\n",
       "      <td>dummy_constant</td>\n",
       "      <td>0.623512</td>\n",
       "      <td>0.000000</td>\n",
       "      <td>-0.711232</td>\n",
       "      <td>0.265255</td>\n",
       "      <td>0.000027</td>\n",
       "      <td>False</td>\n",
       "    </tr>\n",
       "    <tr>\n",
       "      <th>8</th>\n",
       "      <td>0.383672</td>\n",
       "      <td>0.948300</td>\n",
       "      <td>dummy_constant</td>\n",
       "      <td>0.383672</td>\n",
       "      <td>0.948300</td>\n",
       "      <td>-0.052655</td>\n",
       "      <td>0.214505</td>\n",
       "      <td>0.000027</td>\n",
       "      <td>False</td>\n",
       "    </tr>\n",
       "    <tr>\n",
       "      <th>9</th>\n",
       "      <td>1.000653</td>\n",
       "      <td>0.352884</td>\n",
       "      <td>dummy_constant</td>\n",
       "      <td>1.000653</td>\n",
       "      <td>0.352884</td>\n",
       "      <td>0.060483</td>\n",
       "      <td>0.272297</td>\n",
       "      <td>0.000027</td>\n",
       "      <td>False</td>\n",
       "    </tr>\n",
       "    <tr>\n",
       "      <th>10</th>\n",
       "      <td>0.434303</td>\n",
       "      <td>0.983920</td>\n",
       "      <td>dummy_constant</td>\n",
       "      <td>0.434303</td>\n",
       "      <td>0.983920</td>\n",
       "      <td>0.063402</td>\n",
       "      <td>0.238495</td>\n",
       "      <td>0.000027</td>\n",
       "      <td>False</td>\n",
       "    </tr>\n",
       "    <tr>\n",
       "      <th>11</th>\n",
       "      <td>0.772940</td>\n",
       "      <td>0.696663</td>\n",
       "      <td>dummy_constant</td>\n",
       "      <td>0.772940</td>\n",
       "      <td>0.696663</td>\n",
       "      <td>0.015265</td>\n",
       "      <td>0.113172</td>\n",
       "      <td>0.000028</td>\n",
       "      <td>False</td>\n",
       "    </tr>\n",
       "    <tr>\n",
       "      <th>12</th>\n",
       "      <td>0.022604</td>\n",
       "      <td>1.021777</td>\n",
       "      <td>dummy_constant</td>\n",
       "      <td>0.022604</td>\n",
       "      <td>1.021777</td>\n",
       "      <td>-0.049265</td>\n",
       "      <td>0.500158</td>\n",
       "      <td>0.000028</td>\n",
       "      <td>False</td>\n",
       "    </tr>\n",
       "    <tr>\n",
       "      <th>13</th>\n",
       "      <td>0.131436</td>\n",
       "      <td>1.056123</td>\n",
       "      <td>dummy_constant</td>\n",
       "      <td>0.131436</td>\n",
       "      <td>1.056123</td>\n",
       "      <td>0.172554</td>\n",
       "      <td>0.445112</td>\n",
       "      <td>0.000026</td>\n",
       "      <td>False</td>\n",
       "    </tr>\n",
       "    <tr>\n",
       "      <th>14</th>\n",
       "      <td>1.050996</td>\n",
       "      <td>0.123802</td>\n",
       "      <td>dummy_constant</td>\n",
       "      <td>1.050996</td>\n",
       "      <td>0.123802</td>\n",
       "      <td>0.149976</td>\n",
       "      <td>0.445122</td>\n",
       "      <td>0.000029</td>\n",
       "      <td>False</td>\n",
       "    </tr>\n",
       "    <tr>\n",
       "      <th>15</th>\n",
       "      <td>0.704588</td>\n",
       "      <td>0.819331</td>\n",
       "      <td>dummy_constant</td>\n",
       "      <td>0.704588</td>\n",
       "      <td>0.819331</td>\n",
       "      <td>0.131739</td>\n",
       "      <td>0.143828</td>\n",
       "      <td>0.000028</td>\n",
       "      <td>False</td>\n",
       "    </tr>\n",
       "    <tr>\n",
       "      <th>16</th>\n",
       "      <td>0.570317</td>\n",
       "      <td>0.895863</td>\n",
       "      <td>dummy_constant</td>\n",
       "      <td>0.570317</td>\n",
       "      <td>0.895863</td>\n",
       "      <td>0.221621</td>\n",
       "      <td>0.161652</td>\n",
       "      <td>0.000028</td>\n",
       "      <td>False</td>\n",
       "    </tr>\n",
       "    <tr>\n",
       "      <th>17</th>\n",
       "      <td>1.010280</td>\n",
       "      <td>0.031792</td>\n",
       "      <td>dummy_constant</td>\n",
       "      <td>1.010280</td>\n",
       "      <td>0.031792</td>\n",
       "      <td>-0.065922</td>\n",
       "      <td>0.479605</td>\n",
       "      <td>0.000027</td>\n",
       "      <td>False</td>\n",
       "    </tr>\n",
       "    <tr>\n",
       "      <th>18</th>\n",
       "      <td>0.237622</td>\n",
       "      <td>1.007806</td>\n",
       "      <td>dummy_constant</td>\n",
       "      <td>0.237622</td>\n",
       "      <td>1.007806</td>\n",
       "      <td>0.156690</td>\n",
       "      <td>0.326709</td>\n",
       "      <td>0.000027</td>\n",
       "      <td>False</td>\n",
       "    </tr>\n",
       "    <tr>\n",
       "      <th>19</th>\n",
       "      <td>1.401964</td>\n",
       "      <td>0.047668</td>\n",
       "      <td>dummy_constant</td>\n",
       "      <td>1.401964</td>\n",
       "      <td>0.047668</td>\n",
       "      <td>0.882202</td>\n",
       "      <td>1.018144</td>\n",
       "      <td>0.000025</td>\n",
       "      <td>False</td>\n",
       "    </tr>\n",
       "    <tr>\n",
       "      <th>20</th>\n",
       "      <td>0.173329</td>\n",
       "      <td>0.997242</td>\n",
       "      <td>dummy_constant</td>\n",
       "      <td>0.173329</td>\n",
       "      <td>0.997242</td>\n",
       "      <td>0.117095</td>\n",
       "      <td>0.353964</td>\n",
       "      <td>0.000027</td>\n",
       "      <td>False</td>\n",
       "    </tr>\n",
       "    <tr>\n",
       "      <th>21</th>\n",
       "      <td>0.883117</td>\n",
       "      <td>0.571017</td>\n",
       "      <td>dummy_constant</td>\n",
       "      <td>0.883117</td>\n",
       "      <td>0.571017</td>\n",
       "      <td>0.203063</td>\n",
       "      <td>0.151822</td>\n",
       "      <td>0.000027</td>\n",
       "      <td>False</td>\n",
       "    </tr>\n",
       "    <tr>\n",
       "      <th>22</th>\n",
       "      <td>0.546696</td>\n",
       "      <td>0.373520</td>\n",
       "      <td>dummy_constant</td>\n",
       "      <td>0.546696</td>\n",
       "      <td>0.373520</td>\n",
       "      <td>-0.462970</td>\n",
       "      <td>0.018178</td>\n",
       "      <td>0.000027</td>\n",
       "      <td>False</td>\n",
       "    </tr>\n",
       "    <tr>\n",
       "      <th>23</th>\n",
       "      <td>1.043997</td>\n",
       "      <td>0.070116</td>\n",
       "      <td>dummy_constant</td>\n",
       "      <td>1.043997</td>\n",
       "      <td>0.070116</td>\n",
       "      <td>0.047094</td>\n",
       "      <td>0.480733</td>\n",
       "      <td>0.000027</td>\n",
       "      <td>False</td>\n",
       "    </tr>\n",
       "    <tr>\n",
       "      <th>24</th>\n",
       "      <td>0.642041</td>\n",
       "      <td>0.791914</td>\n",
       "      <td>dummy_constant</td>\n",
       "      <td>0.642041</td>\n",
       "      <td>0.791914</td>\n",
       "      <td>0.048874</td>\n",
       "      <td>0.105389</td>\n",
       "      <td>0.000026</td>\n",
       "      <td>False</td>\n",
       "    </tr>\n",
       "    <tr>\n",
       "      <th>25</th>\n",
       "      <td>0.408819</td>\n",
       "      <td>0.635789</td>\n",
       "      <td>dummy_constant</td>\n",
       "      <td>0.408819</td>\n",
       "      <td>0.635789</td>\n",
       "      <td>-0.332580</td>\n",
       "      <td>0.026753</td>\n",
       "      <td>0.000028</td>\n",
       "      <td>False</td>\n",
       "    </tr>\n",
       "    <tr>\n",
       "      <th>26</th>\n",
       "      <td>0.786119</td>\n",
       "      <td>0.069813</td>\n",
       "      <td>dummy_constant</td>\n",
       "      <td>0.786119</td>\n",
       "      <td>0.069813</td>\n",
       "      <td>-0.392444</td>\n",
       "      <td>0.266925</td>\n",
       "      <td>0.000026</td>\n",
       "      <td>False</td>\n",
       "    </tr>\n",
       "    <tr>\n",
       "      <th>27</th>\n",
       "      <td>0.708484</td>\n",
       "      <td>0.092331</td>\n",
       "      <td>dummy_constant</td>\n",
       "      <td>0.708484</td>\n",
       "      <td>0.092331</td>\n",
       "      <td>-0.441349</td>\n",
       "      <td>0.209660</td>\n",
       "      <td>0.000029</td>\n",
       "      <td>False</td>\n",
       "    </tr>\n",
       "    <tr>\n",
       "      <th>28</th>\n",
       "      <td>0.051356</td>\n",
       "      <td>0.486166</td>\n",
       "      <td>dummy_constant</td>\n",
       "      <td>0.051356</td>\n",
       "      <td>0.486166</td>\n",
       "      <td>-0.749718</td>\n",
       "      <td>0.201473</td>\n",
       "      <td>0.000026</td>\n",
       "      <td>False</td>\n",
       "    </tr>\n",
       "    <tr>\n",
       "      <th>29</th>\n",
       "      <td>0.142974</td>\n",
       "      <td>0.053470</td>\n",
       "      <td>dummy_constant</td>\n",
       "      <td>0.142974</td>\n",
       "      <td>0.053470</td>\n",
       "      <td>-1.061580</td>\n",
       "      <td>0.326856</td>\n",
       "      <td>0.000028</td>\n",
       "      <td>False</td>\n",
       "    </tr>\n",
       "    <tr>\n",
       "      <th>30</th>\n",
       "      <td>0.410506</td>\n",
       "      <td>0.773170</td>\n",
       "      <td>dummy_constant</td>\n",
       "      <td>0.410506</td>\n",
       "      <td>0.773170</td>\n",
       "      <td>-0.238144</td>\n",
       "      <td>0.082631</td>\n",
       "      <td>0.000029</td>\n",
       "      <td>False</td>\n",
       "    </tr>\n",
       "    <tr>\n",
       "      <th>31</th>\n",
       "      <td>0.807393</td>\n",
       "      <td>0.588590</td>\n",
       "      <td>dummy_constant</td>\n",
       "      <td>0.807393</td>\n",
       "      <td>0.588590</td>\n",
       "      <td>0.077685</td>\n",
       "      <td>0.102338</td>\n",
       "      <td>0.000026</td>\n",
       "      <td>False</td>\n",
       "    </tr>\n",
       "  </tbody>\n",
       "</table>\n",
       "</div>"
      ],
      "text/plain": [
       "          x1        x2               a        y1        y2        c1  \\\n",
       "0   1.000000  0.750000  dummy_constant  1.000000  0.750000  0.626888   \n",
       "1   0.750000  1.000000  dummy_constant  0.750000  1.000000  0.626888   \n",
       "2   0.000000  3.141590  dummy_constant  0.000000  3.141590  8.769588   \n",
       "3   2.935455  0.959465  dummy_constant  2.935455  0.959465  8.503920   \n",
       "4   0.343008  0.253760  dummy_constant  0.343008  0.253760 -0.745907   \n",
       "5   0.000000  0.003049  dummy_constant  0.000000  0.003049 -1.099991   \n",
       "6   0.000000  0.635789  dummy_constant  0.000000  0.635789 -0.695773   \n",
       "7   0.623512  0.000000  dummy_constant  0.623512  0.000000 -0.711232   \n",
       "8   0.383672  0.948300  dummy_constant  0.383672  0.948300 -0.052655   \n",
       "9   1.000653  0.352884  dummy_constant  1.000653  0.352884  0.060483   \n",
       "10  0.434303  0.983920  dummy_constant  0.434303  0.983920  0.063402   \n",
       "11  0.772940  0.696663  dummy_constant  0.772940  0.696663  0.015265   \n",
       "12  0.022604  1.021777  dummy_constant  0.022604  1.021777 -0.049265   \n",
       "13  0.131436  1.056123  dummy_constant  0.131436  1.056123  0.172554   \n",
       "14  1.050996  0.123802  dummy_constant  1.050996  0.123802  0.149976   \n",
       "15  0.704588  0.819331  dummy_constant  0.704588  0.819331  0.131739   \n",
       "16  0.570317  0.895863  dummy_constant  0.570317  0.895863  0.221621   \n",
       "17  1.010280  0.031792  dummy_constant  1.010280  0.031792 -0.065922   \n",
       "18  0.237622  1.007806  dummy_constant  0.237622  1.007806  0.156690   \n",
       "19  1.401964  0.047668  dummy_constant  1.401964  0.047668  0.882202   \n",
       "20  0.173329  0.997242  dummy_constant  0.173329  0.997242  0.117095   \n",
       "21  0.883117  0.571017  dummy_constant  0.883117  0.571017  0.203063   \n",
       "22  0.546696  0.373520  dummy_constant  0.546696  0.373520 -0.462970   \n",
       "23  1.043997  0.070116  dummy_constant  1.043997  0.070116  0.047094   \n",
       "24  0.642041  0.791914  dummy_constant  0.642041  0.791914  0.048874   \n",
       "25  0.408819  0.635789  dummy_constant  0.408819  0.635789 -0.332580   \n",
       "26  0.786119  0.069813  dummy_constant  0.786119  0.069813 -0.392444   \n",
       "27  0.708484  0.092331  dummy_constant  0.708484  0.092331 -0.441349   \n",
       "28  0.051356  0.486166  dummy_constant  0.051356  0.486166 -0.749718   \n",
       "29  0.142974  0.053470  dummy_constant  0.142974  0.053470 -1.061580   \n",
       "30  0.410506  0.773170  dummy_constant  0.410506  0.773170 -0.238144   \n",
       "31  0.807393  0.588590  dummy_constant  0.807393  0.588590  0.077685   \n",
       "\n",
       "          c2  xopt_runtime  xopt_error  \n",
       "0   0.312500      0.000032       False  \n",
       "1   0.312500      0.000008       False  \n",
       "2   7.227998      0.000029       False  \n",
       "3   6.142550      0.000029       False  \n",
       "4   0.085281      0.000027       False  \n",
       "5   0.496960      0.000028       False  \n",
       "6   0.268439      0.000028       False  \n",
       "7   0.265255      0.000027       False  \n",
       "8   0.214505      0.000027       False  \n",
       "9   0.272297      0.000027       False  \n",
       "10  0.238495      0.000027       False  \n",
       "11  0.113172      0.000028       False  \n",
       "12  0.500158      0.000028       False  \n",
       "13  0.445112      0.000026       False  \n",
       "14  0.445122      0.000029       False  \n",
       "15  0.143828      0.000028       False  \n",
       "16  0.161652      0.000028       False  \n",
       "17  0.479605      0.000027       False  \n",
       "18  0.326709      0.000027       False  \n",
       "19  1.018144      0.000025       False  \n",
       "20  0.353964      0.000027       False  \n",
       "21  0.151822      0.000027       False  \n",
       "22  0.018178      0.000027       False  \n",
       "23  0.480733      0.000027       False  \n",
       "24  0.105389      0.000026       False  \n",
       "25  0.026753      0.000028       False  \n",
       "26  0.266925      0.000026       False  \n",
       "27  0.209660      0.000029       False  \n",
       "28  0.201473      0.000026       False  \n",
       "29  0.326856      0.000028       False  \n",
       "30  0.082631      0.000029       False  \n",
       "31  0.102338      0.000026       False  "
      ]
     },
     "execution_count": 3,
     "metadata": {},
     "output_type": "execute_result"
    }
   ],
   "source": [
    "X.generator.data"
   ]
  },
  {
   "cell_type": "markdown",
   "metadata": {
    "collapsed": false
   },
   "source": [
    "## plot results\n"
   ]
  },
  {
   "cell_type": "code",
   "execution_count": 4,
   "metadata": {
    "collapsed": false,
    "execution": {
     "iopub.execute_input": "2024-08-08T16:17:50.138026Z",
     "iopub.status.busy": "2024-08-08T16:17:50.137834Z",
     "iopub.status.idle": "2024-08-08T16:17:50.646738Z",
     "shell.execute_reply": "2024-08-08T16:17:50.646135Z"
    }
   },
   "outputs": [
    {
     "data": {
      "image/png": "[encoded data removed]",
      "text/plain": [
       "<Figure size 640x480 with 1 Axes>"
      ]
     },
     "metadata": {},
     "output_type": "display_data"
    }
   ],
   "source": [
    "import matplotlib.pyplot as plt\n",
    "\n",
    "fig, ax = plt.subplots()\n",
    "\n",
    "theta = np.linspace(0, np.pi / 2)\n",
    "r = np.sqrt(1 + 0.1 * np.cos(16 * theta))\n",
    "x_1 = r * np.sin(theta)\n",
    "x_2_lower = r * np.cos(theta)\n",
    "x_2_upper = (0.5 - (x_1 - 0.5) ** 2) ** 0.5 + 0.5\n",
    "\n",
    "z = np.zeros_like(x_1)\n",
    "\n",
    "# ax2.plot(x_1, x_2_lower,'r')\n",
    "ax.fill_between(x_1, z, x_2_lower, fc=\"white\")\n",
    "circle = plt.Circle(\n",
    "    (0.5, 0.5), 0.5 ** 0.5, color=\"r\", alpha=0.25, zorder=0, label=\"Valid Region\"\n",
    ")\n",
    "ax.add_patch(circle)\n",
    "history = pd.concat(\n",
    "    [X.data, tnk_vocs.feasibility_data(X.data)], axis=1, ignore_index=False\n",
    ")\n",
    "\n",
    "\n",
    "ax.plot(*history[[\"x1\", \"x2\"]][history[\"feasible\"]].to_numpy().T, \".C1\")\n",
    "ax.plot(*history[[\"x1\", \"x2\"]][~history[\"feasible\"]].to_numpy().T, \".C2\")\n",
    "\n",
    "ax.set_xlim(0, 3.14)\n",
    "ax.set_ylim(0, 3.14)\n",
    "ax.set_xlabel(\"x1\")\n",
    "ax.set_ylabel(\"x2\")\n",
    "ax.set_aspect(\"equal\")"
   ]
  },
  {
   "cell_type": "markdown",
   "metadata": {
    "collapsed": false
   },
   "source": [
    "### Plot path through input space"
   ]
  },
  {
   "cell_type": "code",
   "execution_count": 5,
   "metadata": {
    "collapsed": false,
    "execution": {
     "iopub.execute_input": "2024-08-08T16:17:50.649416Z",
     "iopub.status.busy": "2024-08-08T16:17:50.648881Z",
     "iopub.status.idle": "2024-08-08T16:17:50.756081Z",
     "shell.execute_reply": "2024-08-08T16:17:50.755467Z"
    }
   },
   "outputs": [
    {
     "data": {
      "image/png": "[encoded data removed]",
      "text/plain": [
       "<Figure size 640x480 with 1 Axes>"
      ]
     },
     "metadata": {},
     "output_type": "display_data"
    }
   ],
   "source": [
    "ax = history.plot(\"x1\", \"x2\")\n",
    "ax.set_ylim(0, 3.14)\n",
    "ax.set_xlim(0, 3.14)\n",
    "ax.set_aspect(\"equal\")"
   ]
  },
  {
   "cell_type": "code",
   "execution_count": 6,
   "metadata": {
    "collapsed": false,
    "execution": {
     "iopub.execute_input": "2024-08-08T16:17:50.758695Z",
     "iopub.status.busy": "2024-08-08T16:17:50.758141Z",
     "iopub.status.idle": "2024-08-08T16:18:03.333382Z",
     "shell.execute_reply": "2024-08-08T16:18:03.332773Z"
    }
   },
   "outputs": [
    {
     "name": "stdout",
     "output_type": "stream",
     "text": [
      "[[0.1616102  0.25707657]]\n"
     ]
    },
    {
     "data": {
      "text/plain": [
       "[<matplotlib.lines.Line2D at 0x7f3c68135700>]"
      ]
     },
     "execution_count": 6,
     "metadata": {},
     "output_type": "execute_result"
    },
    {
     "data": {
      "image/png": "[encoded data removed]",
      "text/plain": [
       "<Figure size 640x480 with 2 Axes>"
      ]
     },
     "metadata": {},
     "output_type": "display_data"
    },
    {
     "data": {
      "image/png": "[encoded data removed]",
      "text/plain": [
       "<Figure size 640x480 with 2 Axes>"
      ]
     },
     "metadata": {},
     "output_type": "display_data"
    }
   ],
   "source": [
    "# plot the acquisition function\n",
    "from xopt.generators.bayesian.objectives import feasibility\n",
    "\n",
    "bounds = X.generator.vocs.bounds\n",
    "model = X.generator.model\n",
    "\n",
    "# create mesh\n",
    "n = 200\n",
    "x = torch.linspace(*bounds.T[0], n)\n",
    "y = torch.linspace(*bounds.T[1], n)\n",
    "xx, yy = torch.meshgrid(x, y)\n",
    "pts = torch.hstack([ele.reshape(-1, 1) for ele in (xx, yy)]).double()\n",
    "\n",
    "xx, yy = xx.numpy(), yy.numpy()\n",
    "\n",
    "acq_func = X.generator.get_acquisition(model)\n",
    "with torch.no_grad():\n",
    "    acq_pts = pts.unsqueeze(1)\n",
    "    acq = acq_func(acq_pts)\n",
    "\n",
    "    fig, ax = plt.subplots()\n",
    "    c = ax.pcolor(xx, yy, acq.reshape(n, n), cmap=\"Blues\")\n",
    "    fig.colorbar(c)\n",
    "    ax.set_title(\"Acquisition function\")\n",
    "\n",
    "    ax.plot(*history[[\"x1\", \"x2\"]][history[\"feasible\"]].to_numpy().T, \".C1\")\n",
    "    ax.plot(*history[[\"x1\", \"x2\"]][~history[\"feasible\"]].to_numpy().T, \".C2\")\n",
    "\n",
    "    ax.plot(*history[[\"x1\", \"x2\"]].to_numpy()[-1].T, \"+\")\n",
    "\n",
    "    feas = feasibility(pts.unsqueeze(1), model, tnk_vocs).flatten()\n",
    "\n",
    "    fig2, ax2 = plt.subplots()\n",
    "    c = ax2.pcolor(xx, yy, feas.reshape(n, n))\n",
    "    fig2.colorbar(c)\n",
    "    ax2.set_title(\"Feasible Region\")\n",
    "\n",
    "candidate = pd.DataFrame(X.generator.generate(1), index=[0])\n",
    "print(candidate[[\"x1\", \"x2\"]].to_numpy())\n",
    "ax.plot(*candidate[[\"x1\", \"x2\"]].to_numpy()[0], \"o\")"
   ]
  },
  {
   "cell_type": "code",
   "execution_count": 7,
   "metadata": {
    "collapsed": false,
    "execution": {
     "iopub.execute_input": "2024-08-08T16:18:03.335689Z",
     "iopub.status.busy": "2024-08-08T16:18:03.335478Z",
     "iopub.status.idle": "2024-08-08T16:18:03.803824Z",
     "shell.execute_reply": "2024-08-08T16:18:03.803168Z"
    }
   },
   "outputs": [
    {
     "name": "stdout",
     "output_type": "stream",
     "text": [
      "CPU times: user 894 ms, sys: 32.2 ms, total: 926 ms\n",
      "Wall time: 465 ms\n"
     ]
    }
   ],
   "source": [
    "%%time\n",
    "candidate = X.generator.generate(1)"
   ]
  }
 ],
 "metadata": {
  "interpreter": {
   "hash": "72034539424920dfb606fe3b820b3f27dca0cbf1c69938110810ec4641e275b1"
  },
  "kernelspec": {
   "display_name": "Python 3 (ipykernel)",
   "language": "python",
   "name": "python3"
  },
  "language_info": {
   "codemirror_mode": {
    "name": "ipython",
    "version": 3
   },
   "file_extension": ".py",
   "mimetype": "text/x-python",
   "name": "python",
   "nbconvert_exporter": "python",
   "pygments_lexer": "ipython3",
   "version": "3.9.19"
  }
 },
 "nbformat": 4,
 "nbformat_minor": 4
}
