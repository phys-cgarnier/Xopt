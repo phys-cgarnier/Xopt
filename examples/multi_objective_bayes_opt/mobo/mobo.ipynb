{
 "cells": [
  {
   "cell_type": "markdown",
   "metadata": {},
   "source": [
    "\n",
    "# Multi-objective Bayesian Optimization\n",
    "\n",
    "\n",
    "TNK function\n",
    "$n=2$ variables:\n",
    "$x_i \\in [0, \\pi], i=1,2$\n",
    "\n",
    "Objectives:\n",
    "- $f_i(x) = x_i$\n",
    "\n",
    "Constraints:\n",
    "- $g_1(x) = -x_1^2 -x_2^2 + 1 + 0.1 \\cos\\left(16 \\arctan \\frac{x_1}{x_2}\\right) \\le 0$\n",
    "- $g_2(x) = (x_1 - 1/2)^2 + (x_2-1/2)^2 \\le 0.5$"
   ]
  },
  {
   "cell_type": "code",
   "execution_count": 1,
   "metadata": {
    "collapsed": false,
    "execution": {
     "iopub.execute_input": "2024-02-20T22:10:38.760841Z",
     "iopub.status.busy": "2024-02-20T22:10:38.760659Z",
     "iopub.status.idle": "2024-02-20T22:10:40.864908Z",
     "shell.execute_reply": "2024-02-20T22:10:40.864269Z"
    }
   },
   "outputs": [
    {
     "name": "stdout",
     "output_type": "stream",
     "text": [
      "{'variables': {'x1': [0.0, 3.14159], 'x2': [0.0, 3.14159]}, 'constraints': {'c1': ['GREATER_THAN', 0.0], 'c2': ['LESS_THAN', 0.5]}, 'objectives': {'y1': 'MINIMIZE', 'y2': 'MINIMIZE'}, 'constants': {'a': 'dummy_constant'}, 'observables': []}\n"
     ]
    }
   ],
   "source": [
    "# set values if testing\n",
    "import os\n",
    "SMOKE_TEST = os.environ.get(\"SMOKE_TEST\")\n",
    "N_MC_SAMPLES = 1 if SMOKE_TEST else 128\n",
    "NUM_RESTARTS = 1 if SMOKE_TEST else 20\n",
    "N_STEPS = 1 if SMOKE_TEST else 30\n",
    "\n",
    "# Ignore all warnings\n",
    "import warnings\n",
    "warnings.filterwarnings(\"ignore\")\n",
    "\n",
    "\n",
    "import pandas as pd\n",
    "import numpy as np\n",
    "import torch\n",
    "\n",
    "from xopt import Xopt, Evaluator\n",
    "from xopt.generators.bayesian import MOBOGenerator\n",
    "from xopt.resources.test_functions.tnk import evaluate_TNK, tnk_vocs\n",
    "\n",
    "\n",
    "evaluator = Evaluator(function=evaluate_TNK)\n",
    "print(tnk_vocs.dict())"
   ]
  },
  {
   "cell_type": "code",
   "execution_count": 2,
   "metadata": {
    "collapsed": false,
    "execution": {
     "iopub.execute_input": "2024-02-20T22:10:40.893530Z",
     "iopub.status.busy": "2024-02-20T22:10:40.893239Z",
     "iopub.status.idle": "2024-02-20T22:11:33.425361Z",
     "shell.execute_reply": "2024-02-20T22:11:33.424783Z"
    }
   },
   "outputs": [
    {
     "name": "stdout",
     "output_type": "stream",
     "text": [
      "0\n"
     ]
    },
    {
     "name": "stdout",
     "output_type": "stream",
     "text": [
      "1\n"
     ]
    },
    {
     "name": "stdout",
     "output_type": "stream",
     "text": [
      "2\n"
     ]
    },
    {
     "name": "stdout",
     "output_type": "stream",
     "text": [
      "3\n"
     ]
    },
    {
     "name": "stdout",
     "output_type": "stream",
     "text": [
      "4\n"
     ]
    },
    {
     "name": "stdout",
     "output_type": "stream",
     "text": [
      "5\n"
     ]
    },
    {
     "name": "stdout",
     "output_type": "stream",
     "text": [
      "6\n"
     ]
    },
    {
     "name": "stdout",
     "output_type": "stream",
     "text": [
      "7\n"
     ]
    },
    {
     "name": "stdout",
     "output_type": "stream",
     "text": [
      "8\n"
     ]
    },
    {
     "name": "stdout",
     "output_type": "stream",
     "text": [
      "9\n"
     ]
    },
    {
     "name": "stdout",
     "output_type": "stream",
     "text": [
      "10\n"
     ]
    },
    {
     "name": "stdout",
     "output_type": "stream",
     "text": [
      "11\n"
     ]
    },
    {
     "name": "stdout",
     "output_type": "stream",
     "text": [
      "12\n"
     ]
    },
    {
     "name": "stdout",
     "output_type": "stream",
     "text": [
      "13\n"
     ]
    },
    {
     "name": "stdout",
     "output_type": "stream",
     "text": [
      "14\n"
     ]
    },
    {
     "name": "stdout",
     "output_type": "stream",
     "text": [
      "15\n"
     ]
    },
    {
     "name": "stdout",
     "output_type": "stream",
     "text": [
      "16\n"
     ]
    },
    {
     "name": "stdout",
     "output_type": "stream",
     "text": [
      "17\n"
     ]
    },
    {
     "name": "stdout",
     "output_type": "stream",
     "text": [
      "18\n"
     ]
    },
    {
     "name": "stdout",
     "output_type": "stream",
     "text": [
      "19\n"
     ]
    },
    {
     "name": "stdout",
     "output_type": "stream",
     "text": [
      "20\n"
     ]
    },
    {
     "name": "stdout",
     "output_type": "stream",
     "text": [
      "21\n"
     ]
    },
    {
     "name": "stdout",
     "output_type": "stream",
     "text": [
      "22\n"
     ]
    },
    {
     "name": "stdout",
     "output_type": "stream",
     "text": [
      "23\n"
     ]
    },
    {
     "name": "stdout",
     "output_type": "stream",
     "text": [
      "24\n"
     ]
    },
    {
     "name": "stdout",
     "output_type": "stream",
     "text": [
      "25\n"
     ]
    },
    {
     "name": "stdout",
     "output_type": "stream",
     "text": [
      "26\n"
     ]
    },
    {
     "name": "stdout",
     "output_type": "stream",
     "text": [
      "27\n"
     ]
    },
    {
     "name": "stdout",
     "output_type": "stream",
     "text": [
      "28\n"
     ]
    },
    {
     "name": "stdout",
     "output_type": "stream",
     "text": [
      "29\n"
     ]
    }
   ],
   "source": [
    "generator = MOBOGenerator(vocs=tnk_vocs, reference_point = {\"y1\":1.5,\"y2\":1.5})\n",
    "generator.n_monte_carlo_samples = N_MC_SAMPLES\n",
    "generator.numerical_optimizer.n_restarts = NUM_RESTARTS\n",
    "\n",
    "X = Xopt(generator=generator, evaluator=evaluator, vocs=tnk_vocs)\n",
    "X.evaluate_data(pd.DataFrame({\"x1\":[1.0, 0.75],\"x2\":[0.75, 1.0]}))\n",
    "\n",
    "for i in range(N_STEPS):\n",
    "    print(i)\n",
    "    X.step()"
   ]
  },
  {
   "cell_type": "code",
   "execution_count": 3,
   "metadata": {
    "collapsed": false,
    "execution": {
     "iopub.execute_input": "2024-02-20T22:11:33.428256Z",
     "iopub.status.busy": "2024-02-20T22:11:33.427841Z",
     "iopub.status.idle": "2024-02-20T22:11:33.448781Z",
     "shell.execute_reply": "2024-02-20T22:11:33.448222Z"
    }
   },
   "outputs": [
    {
     "data": {
      "text/html": [
       "<div>\n",
       "<style scoped>\n",
       "    .dataframe tbody tr th:only-of-type {\n",
       "        vertical-align: middle;\n",
       "    }\n",
       "\n",
       "    .dataframe tbody tr th {\n",
       "        vertical-align: top;\n",
       "    }\n",
       "\n",
       "    .dataframe thead th {\n",
       "        text-align: right;\n",
       "    }\n",
       "</style>\n",
       "<table border=\"1\" class=\"dataframe\">\n",
       "  <thead>\n",
       "    <tr style=\"text-align: right;\">\n",
       "      <th></th>\n",
       "      <th>x1</th>\n",
       "      <th>x2</th>\n",
       "      <th>a</th>\n",
       "      <th>y1</th>\n",
       "      <th>y2</th>\n",
       "      <th>c1</th>\n",
       "      <th>c2</th>\n",
       "      <th>xopt_runtime</th>\n",
       "      <th>xopt_error</th>\n",
       "    </tr>\n",
       "  </thead>\n",
       "  <tbody>\n",
       "    <tr>\n",
       "      <th>0</th>\n",
       "      <td>1.000000</td>\n",
       "      <td>0.750000</td>\n",
       "      <td>dummy_constant</td>\n",
       "      <td>1.000000</td>\n",
       "      <td>0.750000</td>\n",
       "      <td>0.626888</td>\n",
       "      <td>0.312500</td>\n",
       "      <td>0.000047</td>\n",
       "      <td>False</td>\n",
       "    </tr>\n",
       "    <tr>\n",
       "      <th>1</th>\n",
       "      <td>0.750000</td>\n",
       "      <td>1.000000</td>\n",
       "      <td>dummy_constant</td>\n",
       "      <td>0.750000</td>\n",
       "      <td>1.000000</td>\n",
       "      <td>0.626888</td>\n",
       "      <td>0.312500</td>\n",
       "      <td>0.000012</td>\n",
       "      <td>False</td>\n",
       "    </tr>\n",
       "    <tr>\n",
       "      <th>2</th>\n",
       "      <td>1.880546</td>\n",
       "      <td>2.644147</td>\n",
       "      <td>dummy_constant</td>\n",
       "      <td>1.880546</td>\n",
       "      <td>2.644147</td>\n",
       "      <td>9.617281</td>\n",
       "      <td>6.503276</td>\n",
       "      <td>0.000023</td>\n",
       "      <td>False</td>\n",
       "    </tr>\n",
       "    <tr>\n",
       "      <th>3</th>\n",
       "      <td>0.228781</td>\n",
       "      <td>0.425826</td>\n",
       "      <td>dummy_constant</td>\n",
       "      <td>0.228781</td>\n",
       "      <td>0.425826</td>\n",
       "      <td>-0.762910</td>\n",
       "      <td>0.079061</td>\n",
       "      <td>0.000025</td>\n",
       "      <td>False</td>\n",
       "    </tr>\n",
       "    <tr>\n",
       "      <th>4</th>\n",
       "      <td>0.161071</td>\n",
       "      <td>0.088233</td>\n",
       "      <td>dummy_constant</td>\n",
       "      <td>0.161071</td>\n",
       "      <td>0.088233</td>\n",
       "      <td>-0.949914</td>\n",
       "      <td>0.284425</td>\n",
       "      <td>0.000023</td>\n",
       "      <td>False</td>\n",
       "    </tr>\n",
       "    <tr>\n",
       "      <th>5</th>\n",
       "      <td>0.530406</td>\n",
       "      <td>0.000000</td>\n",
       "      <td>dummy_constant</td>\n",
       "      <td>0.530406</td>\n",
       "      <td>0.000000</td>\n",
       "      <td>-0.818669</td>\n",
       "      <td>0.250925</td>\n",
       "      <td>0.000025</td>\n",
       "      <td>False</td>\n",
       "    </tr>\n",
       "    <tr>\n",
       "      <th>6</th>\n",
       "      <td>0.000000</td>\n",
       "      <td>0.721754</td>\n",
       "      <td>dummy_constant</td>\n",
       "      <td>0.000000</td>\n",
       "      <td>0.721754</td>\n",
       "      <td>-0.579071</td>\n",
       "      <td>0.299175</td>\n",
       "      <td>0.000022</td>\n",
       "      <td>False</td>\n",
       "    </tr>\n",
       "    <tr>\n",
       "      <th>7</th>\n",
       "      <td>0.423424</td>\n",
       "      <td>1.000061</td>\n",
       "      <td>dummy_constant</td>\n",
       "      <td>0.423424</td>\n",
       "      <td>1.000061</td>\n",
       "      <td>0.080191</td>\n",
       "      <td>0.255925</td>\n",
       "      <td>0.000025</td>\n",
       "      <td>False</td>\n",
       "    </tr>\n",
       "    <tr>\n",
       "      <th>8</th>\n",
       "      <td>1.044402</td>\n",
       "      <td>0.324053</td>\n",
       "      <td>dummy_constant</td>\n",
       "      <td>1.044402</td>\n",
       "      <td>0.324053</td>\n",
       "      <td>0.185669</td>\n",
       "      <td>0.327330</td>\n",
       "      <td>0.000025</td>\n",
       "      <td>False</td>\n",
       "    </tr>\n",
       "    <tr>\n",
       "      <th>9</th>\n",
       "      <td>0.783936</td>\n",
       "      <td>0.704622</td>\n",
       "      <td>dummy_constant</td>\n",
       "      <td>0.783936</td>\n",
       "      <td>0.704622</td>\n",
       "      <td>0.045178</td>\n",
       "      <td>0.122490</td>\n",
       "      <td>0.000024</td>\n",
       "      <td>False</td>\n",
       "    </tr>\n",
       "    <tr>\n",
       "      <th>10</th>\n",
       "      <td>1.051754</td>\n",
       "      <td>0.119994</td>\n",
       "      <td>dummy_constant</td>\n",
       "      <td>1.051754</td>\n",
       "      <td>0.119994</td>\n",
       "      <td>0.145013</td>\n",
       "      <td>0.448837</td>\n",
       "      <td>0.000024</td>\n",
       "      <td>False</td>\n",
       "    </tr>\n",
       "    <tr>\n",
       "      <th>11</th>\n",
       "      <td>0.201702</td>\n",
       "      <td>1.086300</td>\n",
       "      <td>dummy_constant</td>\n",
       "      <td>0.201702</td>\n",
       "      <td>1.086300</td>\n",
       "      <td>0.318654</td>\n",
       "      <td>0.432730</td>\n",
       "      <td>0.000023</td>\n",
       "      <td>False</td>\n",
       "    </tr>\n",
       "    <tr>\n",
       "      <th>12</th>\n",
       "      <td>0.041736</td>\n",
       "      <td>1.015432</td>\n",
       "      <td>dummy_constant</td>\n",
       "      <td>0.041736</td>\n",
       "      <td>1.015432</td>\n",
       "      <td>-0.046323</td>\n",
       "      <td>0.475676</td>\n",
       "      <td>0.000024</td>\n",
       "      <td>False</td>\n",
       "    </tr>\n",
       "    <tr>\n",
       "      <th>13</th>\n",
       "      <td>1.014199</td>\n",
       "      <td>0.044739</td>\n",
       "      <td>dummy_constant</td>\n",
       "      <td>1.014199</td>\n",
       "      <td>0.044739</td>\n",
       "      <td>-0.045537</td>\n",
       "      <td>0.471663</td>\n",
       "      <td>0.000025</td>\n",
       "      <td>False</td>\n",
       "    </tr>\n",
       "    <tr>\n",
       "      <th>14</th>\n",
       "      <td>0.940419</td>\n",
       "      <td>0.070998</td>\n",
       "      <td>dummy_constant</td>\n",
       "      <td>0.940419</td>\n",
       "      <td>0.070998</td>\n",
       "      <td>-0.146279</td>\n",
       "      <td>0.378012</td>\n",
       "      <td>0.000025</td>\n",
       "      <td>False</td>\n",
       "    </tr>\n",
       "    <tr>\n",
       "      <th>15</th>\n",
       "      <td>0.635280</td>\n",
       "      <td>0.857717</td>\n",
       "      <td>dummy_constant</td>\n",
       "      <td>0.635280</td>\n",
       "      <td>0.857717</td>\n",
       "      <td>0.210686</td>\n",
       "      <td>0.146262</td>\n",
       "      <td>0.000024</td>\n",
       "      <td>False</td>\n",
       "    </tr>\n",
       "    <tr>\n",
       "      <th>16</th>\n",
       "      <td>0.915842</td>\n",
       "      <td>0.491328</td>\n",
       "      <td>dummy_constant</td>\n",
       "      <td>0.915842</td>\n",
       "      <td>0.491328</td>\n",
       "      <td>0.082615</td>\n",
       "      <td>0.173000</td>\n",
       "      <td>0.000026</td>\n",
       "      <td>False</td>\n",
       "    </tr>\n",
       "    <tr>\n",
       "      <th>17</th>\n",
       "      <td>1.150067</td>\n",
       "      <td>0.074101</td>\n",
       "      <td>dummy_constant</td>\n",
       "      <td>1.150067</td>\n",
       "      <td>0.074101</td>\n",
       "      <td>0.276618</td>\n",
       "      <td>0.603977</td>\n",
       "      <td>0.000024</td>\n",
       "      <td>False</td>\n",
       "    </tr>\n",
       "    <tr>\n",
       "      <th>18</th>\n",
       "      <td>0.686964</td>\n",
       "      <td>0.657869</td>\n",
       "      <td>dummy_constant</td>\n",
       "      <td>0.686964</td>\n",
       "      <td>0.657869</td>\n",
       "      <td>-0.189359</td>\n",
       "      <td>0.059878</td>\n",
       "      <td>0.000027</td>\n",
       "      <td>False</td>\n",
       "    </tr>\n",
       "    <tr>\n",
       "      <th>19</th>\n",
       "      <td>0.089723</td>\n",
       "      <td>1.314598</td>\n",
       "      <td>dummy_constant</td>\n",
       "      <td>0.089723</td>\n",
       "      <td>1.314598</td>\n",
       "      <td>0.690000</td>\n",
       "      <td>0.831897</td>\n",
       "      <td>0.000024</td>\n",
       "      <td>False</td>\n",
       "    </tr>\n",
       "    <tr>\n",
       "      <th>20</th>\n",
       "      <td>0.056752</td>\n",
       "      <td>1.033804</td>\n",
       "      <td>dummy_constant</td>\n",
       "      <td>0.056752</td>\n",
       "      <td>1.033804</td>\n",
       "      <td>0.008060</td>\n",
       "      <td>0.481416</td>\n",
       "      <td>0.000026</td>\n",
       "      <td>False</td>\n",
       "    </tr>\n",
       "    <tr>\n",
       "      <th>21</th>\n",
       "      <td>0.869133</td>\n",
       "      <td>0.369854</td>\n",
       "      <td>dummy_constant</td>\n",
       "      <td>0.869133</td>\n",
       "      <td>0.369854</td>\n",
       "      <td>-0.206630</td>\n",
       "      <td>0.153198</td>\n",
       "      <td>0.000025</td>\n",
       "      <td>False</td>\n",
       "    </tr>\n",
       "    <tr>\n",
       "      <th>22</th>\n",
       "      <td>0.986168</td>\n",
       "      <td>0.305183</td>\n",
       "      <td>dummy_constant</td>\n",
       "      <td>0.986168</td>\n",
       "      <td>0.305183</td>\n",
       "      <td>0.056728</td>\n",
       "      <td>0.274313</td>\n",
       "      <td>0.000024</td>\n",
       "      <td>False</td>\n",
       "    </tr>\n",
       "    <tr>\n",
       "      <th>23</th>\n",
       "      <td>0.075218</td>\n",
       "      <td>1.048696</td>\n",
       "      <td>dummy_constant</td>\n",
       "      <td>0.075218</td>\n",
       "      <td>1.048696</td>\n",
       "      <td>0.064175</td>\n",
       "      <td>0.481507</td>\n",
       "      <td>0.000030</td>\n",
       "      <td>False</td>\n",
       "    </tr>\n",
       "    <tr>\n",
       "      <th>24</th>\n",
       "      <td>0.489583</td>\n",
       "      <td>0.915910</td>\n",
       "      <td>dummy_constant</td>\n",
       "      <td>0.489583</td>\n",
       "      <td>0.915910</td>\n",
       "      <td>0.078608</td>\n",
       "      <td>0.173089</td>\n",
       "      <td>0.000027</td>\n",
       "      <td>False</td>\n",
       "    </tr>\n",
       "    <tr>\n",
       "      <th>25</th>\n",
       "      <td>0.048750</td>\n",
       "      <td>0.714552</td>\n",
       "      <td>dummy_constant</td>\n",
       "      <td>0.048750</td>\n",
       "      <td>0.714552</td>\n",
       "      <td>-0.533295</td>\n",
       "      <td>0.249659</td>\n",
       "      <td>0.000025</td>\n",
       "      <td>False</td>\n",
       "    </tr>\n",
       "    <tr>\n",
       "      <th>26</th>\n",
       "      <td>0.877670</td>\n",
       "      <td>0.275584</td>\n",
       "      <td>dummy_constant</td>\n",
       "      <td>0.877670</td>\n",
       "      <td>0.275584</td>\n",
       "      <td>-0.169241</td>\n",
       "      <td>0.192997</td>\n",
       "      <td>0.000025</td>\n",
       "      <td>False</td>\n",
       "    </tr>\n",
       "    <tr>\n",
       "      <th>27</th>\n",
       "      <td>0.681168</td>\n",
       "      <td>0.779197</td>\n",
       "      <td>dummy_constant</td>\n",
       "      <td>0.681168</td>\n",
       "      <td>0.779197</td>\n",
       "      <td>0.023337</td>\n",
       "      <td>0.110773</td>\n",
       "      <td>0.000026</td>\n",
       "      <td>False</td>\n",
       "    </tr>\n",
       "    <tr>\n",
       "      <th>28</th>\n",
       "      <td>1.078139</td>\n",
       "      <td>0.029405</td>\n",
       "      <td>dummy_constant</td>\n",
       "      <td>1.078139</td>\n",
       "      <td>0.029405</td>\n",
       "      <td>0.072614</td>\n",
       "      <td>0.555704</td>\n",
       "      <td>0.000027</td>\n",
       "      <td>False</td>\n",
       "    </tr>\n",
       "    <tr>\n",
       "      <th>29</th>\n",
       "      <td>0.277329</td>\n",
       "      <td>0.891662</td>\n",
       "      <td>dummy_constant</td>\n",
       "      <td>0.277329</td>\n",
       "      <td>0.891662</td>\n",
       "      <td>-0.139229</td>\n",
       "      <td>0.202982</td>\n",
       "      <td>0.000026</td>\n",
       "      <td>False</td>\n",
       "    </tr>\n",
       "    <tr>\n",
       "      <th>30</th>\n",
       "      <td>0.845419</td>\n",
       "      <td>0.605794</td>\n",
       "      <td>dummy_constant</td>\n",
       "      <td>0.845419</td>\n",
       "      <td>0.605794</td>\n",
       "      <td>0.168337</td>\n",
       "      <td>0.130507</td>\n",
       "      <td>0.000025</td>\n",
       "      <td>False</td>\n",
       "    </tr>\n",
       "    <tr>\n",
       "      <th>31</th>\n",
       "      <td>0.911366</td>\n",
       "      <td>0.441896</td>\n",
       "      <td>dummy_constant</td>\n",
       "      <td>0.911366</td>\n",
       "      <td>0.441896</td>\n",
       "      <td>-0.033089</td>\n",
       "      <td>0.172598</td>\n",
       "      <td>0.000026</td>\n",
       "      <td>False</td>\n",
       "    </tr>\n",
       "  </tbody>\n",
       "</table>\n",
       "</div>"
      ],
      "text/plain": [
       "          x1        x2               a        y1        y2        c1  \\\n",
       "0   1.000000  0.750000  dummy_constant  1.000000  0.750000  0.626888   \n",
       "1   0.750000  1.000000  dummy_constant  0.750000  1.000000  0.626888   \n",
       "2   1.880546  2.644147  dummy_constant  1.880546  2.644147  9.617281   \n",
       "3   0.228781  0.425826  dummy_constant  0.228781  0.425826 -0.762910   \n",
       "4   0.161071  0.088233  dummy_constant  0.161071  0.088233 -0.949914   \n",
       "5   0.530406  0.000000  dummy_constant  0.530406  0.000000 -0.818669   \n",
       "6   0.000000  0.721754  dummy_constant  0.000000  0.721754 -0.579071   \n",
       "7   0.423424  1.000061  dummy_constant  0.423424  1.000061  0.080191   \n",
       "8   1.044402  0.324053  dummy_constant  1.044402  0.324053  0.185669   \n",
       "9   0.783936  0.704622  dummy_constant  0.783936  0.704622  0.045178   \n",
       "10  1.051754  0.119994  dummy_constant  1.051754  0.119994  0.145013   \n",
       "11  0.201702  1.086300  dummy_constant  0.201702  1.086300  0.318654   \n",
       "12  0.041736  1.015432  dummy_constant  0.041736  1.015432 -0.046323   \n",
       "13  1.014199  0.044739  dummy_constant  1.014199  0.044739 -0.045537   \n",
       "14  0.940419  0.070998  dummy_constant  0.940419  0.070998 -0.146279   \n",
       "15  0.635280  0.857717  dummy_constant  0.635280  0.857717  0.210686   \n",
       "16  0.915842  0.491328  dummy_constant  0.915842  0.491328  0.082615   \n",
       "17  1.150067  0.074101  dummy_constant  1.150067  0.074101  0.276618   \n",
       "18  0.686964  0.657869  dummy_constant  0.686964  0.657869 -0.189359   \n",
       "19  0.089723  1.314598  dummy_constant  0.089723  1.314598  0.690000   \n",
       "20  0.056752  1.033804  dummy_constant  0.056752  1.033804  0.008060   \n",
       "21  0.869133  0.369854  dummy_constant  0.869133  0.369854 -0.206630   \n",
       "22  0.986168  0.305183  dummy_constant  0.986168  0.305183  0.056728   \n",
       "23  0.075218  1.048696  dummy_constant  0.075218  1.048696  0.064175   \n",
       "24  0.489583  0.915910  dummy_constant  0.489583  0.915910  0.078608   \n",
       "25  0.048750  0.714552  dummy_constant  0.048750  0.714552 -0.533295   \n",
       "26  0.877670  0.275584  dummy_constant  0.877670  0.275584 -0.169241   \n",
       "27  0.681168  0.779197  dummy_constant  0.681168  0.779197  0.023337   \n",
       "28  1.078139  0.029405  dummy_constant  1.078139  0.029405  0.072614   \n",
       "29  0.277329  0.891662  dummy_constant  0.277329  0.891662 -0.139229   \n",
       "30  0.845419  0.605794  dummy_constant  0.845419  0.605794  0.168337   \n",
       "31  0.911366  0.441896  dummy_constant  0.911366  0.441896 -0.033089   \n",
       "\n",
       "          c2  xopt_runtime  xopt_error  \n",
       "0   0.312500      0.000047       False  \n",
       "1   0.312500      0.000012       False  \n",
       "2   6.503276      0.000023       False  \n",
       "3   0.079061      0.000025       False  \n",
       "4   0.284425      0.000023       False  \n",
       "5   0.250925      0.000025       False  \n",
       "6   0.299175      0.000022       False  \n",
       "7   0.255925      0.000025       False  \n",
       "8   0.327330      0.000025       False  \n",
       "9   0.122490      0.000024       False  \n",
       "10  0.448837      0.000024       False  \n",
       "11  0.432730      0.000023       False  \n",
       "12  0.475676      0.000024       False  \n",
       "13  0.471663      0.000025       False  \n",
       "14  0.378012      0.000025       False  \n",
       "15  0.146262      0.000024       False  \n",
       "16  0.173000      0.000026       False  \n",
       "17  0.603977      0.000024       False  \n",
       "18  0.059878      0.000027       False  \n",
       "19  0.831897      0.000024       False  \n",
       "20  0.481416      0.000026       False  \n",
       "21  0.153198      0.000025       False  \n",
       "22  0.274313      0.000024       False  \n",
       "23  0.481507      0.000030       False  \n",
       "24  0.173089      0.000027       False  \n",
       "25  0.249659      0.000025       False  \n",
       "26  0.192997      0.000025       False  \n",
       "27  0.110773      0.000026       False  \n",
       "28  0.555704      0.000027       False  \n",
       "29  0.202982      0.000026       False  \n",
       "30  0.130507      0.000025       False  \n",
       "31  0.172598      0.000026       False  "
      ]
     },
     "execution_count": 3,
     "metadata": {},
     "output_type": "execute_result"
    }
   ],
   "source": [
    "X.generator.data"
   ]
  },
  {
   "cell_type": "markdown",
   "metadata": {
    "collapsed": false
   },
   "source": [
    "## plot results\n"
   ]
  },
  {
   "cell_type": "code",
   "execution_count": 4,
   "metadata": {
    "collapsed": false,
    "execution": {
     "iopub.execute_input": "2024-02-20T22:11:33.451187Z",
     "iopub.status.busy": "2024-02-20T22:11:33.450785Z",
     "iopub.status.idle": "2024-02-20T22:11:33.947711Z",
     "shell.execute_reply": "2024-02-20T22:11:33.947025Z"
    }
   },
   "outputs": [
    {
     "data": {
      "image/png": "[encoded data removed]",
      "text/plain": [
       "<Figure size 640x480 with 1 Axes>"
      ]
     },
     "metadata": {},
     "output_type": "display_data"
    }
   ],
   "source": [
    "import matplotlib.pyplot as plt\n",
    "\n",
    "fig, ax = plt.subplots()\n",
    "\n",
    "theta = np.linspace(0, np.pi / 2)\n",
    "r = np.sqrt(1 + 0.1 * np.cos(16 * theta))\n",
    "x_1 = r * np.sin(theta)\n",
    "x_2_lower = r * np.cos(theta)\n",
    "x_2_upper = (0.5 - (x_1 - 0.5) ** 2) ** 0.5 + 0.5\n",
    "\n",
    "z = np.zeros_like(x_1)\n",
    "\n",
    "# ax2.plot(x_1, x_2_lower,'r')\n",
    "ax.fill_between(x_1, z, x_2_lower, fc=\"white\")\n",
    "circle = plt.Circle(\n",
    "    (0.5, 0.5), 0.5 ** 0.5, color=\"r\", alpha=0.25, zorder=0, label=\"Valid Region\"\n",
    ")\n",
    "ax.add_patch(circle)\n",
    "history = pd.concat(\n",
    "    [X.data, tnk_vocs.feasibility_data(X.data)], axis=1, ignore_index=False\n",
    ")\n",
    "\n",
    "\n",
    "ax.plot(*history[[\"x1\", \"x2\"]][history[\"feasible\"]].to_numpy().T, \".C1\")\n",
    "ax.plot(*history[[\"x1\", \"x2\"]][~history[\"feasible\"]].to_numpy().T, \".C2\")\n",
    "\n",
    "ax.set_xlim(0, 3.14)\n",
    "ax.set_ylim(0, 3.14)\n",
    "ax.set_xlabel(\"x1\")\n",
    "ax.set_ylabel(\"x2\")\n",
    "ax.set_aspect(\"equal\")"
   ]
  },
  {
   "cell_type": "markdown",
   "metadata": {
    "collapsed": false
   },
   "source": [
    "### Plot path through input space"
   ]
  },
  {
   "cell_type": "code",
   "execution_count": 5,
   "metadata": {
    "collapsed": false,
    "execution": {
     "iopub.execute_input": "2024-02-20T22:11:33.950264Z",
     "iopub.status.busy": "2024-02-20T22:11:33.949902Z",
     "iopub.status.idle": "2024-02-20T22:11:34.068101Z",
     "shell.execute_reply": "2024-02-20T22:11:34.067484Z"
    }
   },
   "outputs": [
    {
     "data": {
      "image/png": "[encoded data removed]",
      "text/plain": [
       "<Figure size 640x480 with 1 Axes>"
      ]
     },
     "metadata": {},
     "output_type": "display_data"
    }
   ],
   "source": [
    "ax = history.plot(\"x1\", \"x2\")\n",
    "ax.set_ylim(0, 3.14)\n",
    "ax.set_xlim(0, 3.14)\n",
    "ax.set_aspect(\"equal\")"
   ]
  },
  {
   "cell_type": "code",
   "execution_count": 6,
   "metadata": {
    "collapsed": false,
    "execution": {
     "iopub.execute_input": "2024-02-20T22:11:34.070637Z",
     "iopub.status.busy": "2024-02-20T22:11:34.070272Z",
     "iopub.status.idle": "2024-02-20T22:11:46.369753Z",
     "shell.execute_reply": "2024-02-20T22:11:46.369153Z"
    }
   },
   "outputs": [
    {
     "name": "stdout",
     "output_type": "stream",
     "text": [
      "[[0.6088974  0.67050296]]\n"
     ]
    },
    {
     "data": {
      "text/plain": [
       "[<matplotlib.lines.Line2D at 0x7f12840edbe0>]"
      ]
     },
     "execution_count": 6,
     "metadata": {},
     "output_type": "execute_result"
    },
    {
     "data": {
      "image/png": "[encoded data removed]",
      "text/plain": [
       "<Figure size 640x480 with 2 Axes>"
      ]
     },
     "metadata": {},
     "output_type": "display_data"
    },
    {
     "data": {
      "image/png": "[encoded data removed]",
      "text/plain": [
       "<Figure size 640x480 with 2 Axes>"
      ]
     },
     "metadata": {},
     "output_type": "display_data"
    }
   ],
   "source": [
    "# plot the acquisition function\n",
    "from xopt.generators.bayesian.objectives import feasibility\n",
    "\n",
    "bounds = X.generator.vocs.bounds\n",
    "model = X.generator.model\n",
    "\n",
    "# create mesh\n",
    "n = 200\n",
    "x = torch.linspace(*bounds.T[0], n)\n",
    "y = torch.linspace(*bounds.T[1], n)\n",
    "xx, yy = torch.meshgrid(x, y)\n",
    "pts = torch.hstack([ele.reshape(-1, 1) for ele in (xx, yy)]).double()\n",
    "\n",
    "xx, yy = xx.numpy(), yy.numpy()\n",
    "\n",
    "acq_func = X.generator.get_acquisition(model)\n",
    "with torch.no_grad():\n",
    "    acq_pts = pts.unsqueeze(1)\n",
    "    acq = acq_func(acq_pts)\n",
    "\n",
    "    fig, ax = plt.subplots()\n",
    "    c = ax.pcolor(xx, yy, acq.reshape(n, n), cmap=\"Blues\")\n",
    "    fig.colorbar(c)\n",
    "    ax.set_title(\"Acquisition function\")\n",
    "\n",
    "    ax.plot(*history[[\"x1\", \"x2\"]][history[\"feasible\"]].to_numpy().T, \".C1\")\n",
    "    ax.plot(*history[[\"x1\", \"x2\"]][~history[\"feasible\"]].to_numpy().T, \".C2\")\n",
    "\n",
    "    ax.plot(*history[[\"x1\", \"x2\"]].to_numpy()[-1].T, \"+\")\n",
    "\n",
    "    feas = feasibility(pts.unsqueeze(1), model, tnk_vocs).flatten()\n",
    "\n",
    "    fig2, ax2 = plt.subplots()\n",
    "    c = ax2.pcolor(xx, yy, feas.reshape(n, n))\n",
    "    fig2.colorbar(c)\n",
    "    ax2.set_title(\"Feasible Region\")\n",
    "\n",
    "candidate = pd.DataFrame(X.generator.generate(1), index=[0])\n",
    "print(candidate[[\"x1\", \"x2\"]].to_numpy())\n",
    "ax.plot(*candidate[[\"x1\", \"x2\"]].to_numpy()[0], \"o\")"
   ]
  },
  {
   "cell_type": "code",
   "execution_count": 7,
   "metadata": {
    "collapsed": false,
    "execution": {
     "iopub.execute_input": "2024-02-20T22:11:46.372123Z",
     "iopub.status.busy": "2024-02-20T22:11:46.371798Z",
     "iopub.status.idle": "2024-02-20T22:11:46.756408Z",
     "shell.execute_reply": "2024-02-20T22:11:46.755807Z"
    }
   },
   "outputs": [
    {
     "name": "stdout",
     "output_type": "stream",
     "text": [
      "CPU times: user 748 ms, sys: 8.02 ms, total: 756 ms\n",
      "Wall time: 380 ms\n"
     ]
    }
   ],
   "source": [
    "%%time\n",
    "candidate = X.generator.generate(1)"
   ]
  }
 ],
 "metadata": {
  "interpreter": {
   "hash": "72034539424920dfb606fe3b820b3f27dca0cbf1c69938110810ec4641e275b1"
  },
  "kernelspec": {
   "display_name": "Python 3 (ipykernel)",
   "language": "python",
   "name": "python3"
  },
  "language_info": {
   "codemirror_mode": {
    "name": "ipython",
    "version": 3
   },
   "file_extension": ".py",
   "mimetype": "text/x-python",
   "name": "python",
   "nbconvert_exporter": "python",
   "pygments_lexer": "ipython3",
   "version": "3.9.18"
  }
 },
 "nbformat": 4,
 "nbformat_minor": 4
}
