{
 "cells": [
  {
   "cell_type": "markdown",
   "metadata": {},
   "source": [
    "\n",
    "# Multi-objective Bayesian Optimization\n",
    "\n",
    "\n",
    "TNK function\n",
    "$n=2$ variables:\n",
    "$x_i \\in [0, \\pi], i=1,2$\n",
    "\n",
    "Objectives:\n",
    "- $f_i(x) = x_i$\n",
    "\n",
    "Constraints:\n",
    "- $g_1(x) = -x_1^2 -x_2^2 + 1 + 0.1 \\cos\\left(16 \\arctan \\frac{x_1}{x_2}\\right) \\le 0$\n",
    "- $g_2(x) = (x_1 - 1/2)^2 + (x_2-1/2)^2 \\le 0.5$"
   ]
  },
  {
   "cell_type": "code",
   "execution_count": 1,
   "metadata": {
    "collapsed": false,
    "execution": {
     "iopub.execute_input": "2024-04-23T15:09:27.938117Z",
     "iopub.status.busy": "2024-04-23T15:09:27.937940Z",
     "iopub.status.idle": "2024-04-23T15:09:30.048905Z",
     "shell.execute_reply": "2024-04-23T15:09:30.048308Z"
    }
   },
   "outputs": [
    {
     "name": "stdout",
     "output_type": "stream",
     "text": [
      "{'variables': {'x1': [0.0, 3.14159], 'x2': [0.0, 3.14159]}, 'constraints': {'c1': ['GREATER_THAN', 0.0], 'c2': ['LESS_THAN', 0.5]}, 'objectives': {'y1': 'MINIMIZE', 'y2': 'MINIMIZE'}, 'constants': {'a': 'dummy_constant'}, 'observables': []}\n"
     ]
    }
   ],
   "source": [
    "# set values if testing\n",
    "import os\n",
    "SMOKE_TEST = os.environ.get(\"SMOKE_TEST\")\n",
    "N_MC_SAMPLES = 1 if SMOKE_TEST else 128\n",
    "NUM_RESTARTS = 1 if SMOKE_TEST else 20\n",
    "N_STEPS = 1 if SMOKE_TEST else 30\n",
    "\n",
    "# Ignore all warnings\n",
    "import warnings\n",
    "warnings.filterwarnings(\"ignore\")\n",
    "\n",
    "\n",
    "import pandas as pd\n",
    "import numpy as np\n",
    "import torch\n",
    "\n",
    "from xopt import Xopt, Evaluator\n",
    "from xopt.generators.bayesian import MOBOGenerator\n",
    "from xopt.resources.test_functions.tnk import evaluate_TNK, tnk_vocs\n",
    "\n",
    "\n",
    "evaluator = Evaluator(function=evaluate_TNK)\n",
    "print(tnk_vocs.dict())"
   ]
  },
  {
   "cell_type": "code",
   "execution_count": 2,
   "metadata": {
    "collapsed": false,
    "execution": {
     "iopub.execute_input": "2024-04-23T15:09:30.078710Z",
     "iopub.status.busy": "2024-04-23T15:09:30.078188Z",
     "iopub.status.idle": "2024-04-23T15:10:16.332911Z",
     "shell.execute_reply": "2024-04-23T15:10:16.332276Z"
    }
   },
   "outputs": [
    {
     "name": "stdout",
     "output_type": "stream",
     "text": [
      "0\n"
     ]
    },
    {
     "name": "stdout",
     "output_type": "stream",
     "text": [
      "1\n"
     ]
    },
    {
     "name": "stdout",
     "output_type": "stream",
     "text": [
      "2\n"
     ]
    },
    {
     "name": "stdout",
     "output_type": "stream",
     "text": [
      "3\n"
     ]
    },
    {
     "name": "stdout",
     "output_type": "stream",
     "text": [
      "4\n"
     ]
    },
    {
     "name": "stdout",
     "output_type": "stream",
     "text": [
      "5\n"
     ]
    },
    {
     "name": "stdout",
     "output_type": "stream",
     "text": [
      "6\n"
     ]
    },
    {
     "name": "stdout",
     "output_type": "stream",
     "text": [
      "7\n"
     ]
    },
    {
     "name": "stdout",
     "output_type": "stream",
     "text": [
      "8\n"
     ]
    },
    {
     "name": "stdout",
     "output_type": "stream",
     "text": [
      "9\n"
     ]
    },
    {
     "name": "stdout",
     "output_type": "stream",
     "text": [
      "10\n"
     ]
    },
    {
     "name": "stdout",
     "output_type": "stream",
     "text": [
      "11\n"
     ]
    },
    {
     "name": "stdout",
     "output_type": "stream",
     "text": [
      "12\n"
     ]
    },
    {
     "name": "stdout",
     "output_type": "stream",
     "text": [
      "13\n"
     ]
    },
    {
     "name": "stdout",
     "output_type": "stream",
     "text": [
      "14\n"
     ]
    },
    {
     "name": "stdout",
     "output_type": "stream",
     "text": [
      "15\n"
     ]
    },
    {
     "name": "stdout",
     "output_type": "stream",
     "text": [
      "16\n"
     ]
    },
    {
     "name": "stdout",
     "output_type": "stream",
     "text": [
      "17\n"
     ]
    },
    {
     "name": "stdout",
     "output_type": "stream",
     "text": [
      "18\n"
     ]
    },
    {
     "name": "stdout",
     "output_type": "stream",
     "text": [
      "19\n"
     ]
    },
    {
     "name": "stdout",
     "output_type": "stream",
     "text": [
      "20\n"
     ]
    },
    {
     "name": "stdout",
     "output_type": "stream",
     "text": [
      "21\n"
     ]
    },
    {
     "name": "stdout",
     "output_type": "stream",
     "text": [
      "22\n"
     ]
    },
    {
     "name": "stdout",
     "output_type": "stream",
     "text": [
      "23\n"
     ]
    },
    {
     "name": "stdout",
     "output_type": "stream",
     "text": [
      "24\n"
     ]
    },
    {
     "name": "stdout",
     "output_type": "stream",
     "text": [
      "25\n"
     ]
    },
    {
     "name": "stdout",
     "output_type": "stream",
     "text": [
      "26\n"
     ]
    },
    {
     "name": "stdout",
     "output_type": "stream",
     "text": [
      "27\n"
     ]
    },
    {
     "name": "stdout",
     "output_type": "stream",
     "text": [
      "28\n"
     ]
    },
    {
     "name": "stdout",
     "output_type": "stream",
     "text": [
      "29\n"
     ]
    }
   ],
   "source": [
    "generator = MOBOGenerator(vocs=tnk_vocs, reference_point = {\"y1\":1.5,\"y2\":1.5})\n",
    "generator.n_monte_carlo_samples = N_MC_SAMPLES\n",
    "generator.numerical_optimizer.n_restarts = NUM_RESTARTS\n",
    "\n",
    "X = Xopt(generator=generator, evaluator=evaluator, vocs=tnk_vocs)\n",
    "X.evaluate_data(pd.DataFrame({\"x1\":[1.0, 0.75],\"x2\":[0.75, 1.0]}))\n",
    "\n",
    "for i in range(N_STEPS):\n",
    "    print(i)\n",
    "    X.step()"
   ]
  },
  {
   "cell_type": "code",
   "execution_count": 3,
   "metadata": {
    "collapsed": false,
    "execution": {
     "iopub.execute_input": "2024-04-23T15:10:16.335995Z",
     "iopub.status.busy": "2024-04-23T15:10:16.335536Z",
     "iopub.status.idle": "2024-04-23T15:10:16.350565Z",
     "shell.execute_reply": "2024-04-23T15:10:16.349967Z"
    }
   },
   "outputs": [
    {
     "data": {
      "text/html": [
       "<div>\n",
       "<style scoped>\n",
       "    .dataframe tbody tr th:only-of-type {\n",
       "        vertical-align: middle;\n",
       "    }\n",
       "\n",
       "    .dataframe tbody tr th {\n",
       "        vertical-align: top;\n",
       "    }\n",
       "\n",
       "    .dataframe thead th {\n",
       "        text-align: right;\n",
       "    }\n",
       "</style>\n",
       "<table border=\"1\" class=\"dataframe\">\n",
       "  <thead>\n",
       "    <tr style=\"text-align: right;\">\n",
       "      <th></th>\n",
       "      <th>x1</th>\n",
       "      <th>x2</th>\n",
       "      <th>a</th>\n",
       "      <th>y1</th>\n",
       "      <th>y2</th>\n",
       "      <th>c1</th>\n",
       "      <th>c2</th>\n",
       "      <th>xopt_runtime</th>\n",
       "      <th>xopt_error</th>\n",
       "    </tr>\n",
       "  </thead>\n",
       "  <tbody>\n",
       "    <tr>\n",
       "      <th>0</th>\n",
       "      <td>1.000000</td>\n",
       "      <td>0.750000</td>\n",
       "      <td>dummy_constant</td>\n",
       "      <td>1.000000</td>\n",
       "      <td>0.750000</td>\n",
       "      <td>0.626888</td>\n",
       "      <td>0.312500</td>\n",
       "      <td>0.000053</td>\n",
       "      <td>False</td>\n",
       "    </tr>\n",
       "    <tr>\n",
       "      <th>1</th>\n",
       "      <td>0.750000</td>\n",
       "      <td>1.000000</td>\n",
       "      <td>dummy_constant</td>\n",
       "      <td>0.750000</td>\n",
       "      <td>1.000000</td>\n",
       "      <td>0.626888</td>\n",
       "      <td>0.312500</td>\n",
       "      <td>0.000018</td>\n",
       "      <td>False</td>\n",
       "    </tr>\n",
       "    <tr>\n",
       "      <th>2</th>\n",
       "      <td>2.376431</td>\n",
       "      <td>0.000000</td>\n",
       "      <td>dummy_constant</td>\n",
       "      <td>2.376431</td>\n",
       "      <td>0.000000</td>\n",
       "      <td>4.547427</td>\n",
       "      <td>3.770995</td>\n",
       "      <td>0.000025</td>\n",
       "      <td>False</td>\n",
       "    </tr>\n",
       "    <tr>\n",
       "      <th>3</th>\n",
       "      <td>0.000000</td>\n",
       "      <td>0.000000</td>\n",
       "      <td>dummy_constant</td>\n",
       "      <td>0.000000</td>\n",
       "      <td>0.000000</td>\n",
       "      <td>-1.100000</td>\n",
       "      <td>0.500000</td>\n",
       "      <td>0.000025</td>\n",
       "      <td>False</td>\n",
       "    </tr>\n",
       "    <tr>\n",
       "      <th>4</th>\n",
       "      <td>0.476345</td>\n",
       "      <td>0.045593</td>\n",
       "      <td>dummy_constant</td>\n",
       "      <td>0.476345</td>\n",
       "      <td>0.045593</td>\n",
       "      <td>-0.775418</td>\n",
       "      <td>0.207045</td>\n",
       "      <td>0.000026</td>\n",
       "      <td>False</td>\n",
       "    </tr>\n",
       "    <tr>\n",
       "      <th>5</th>\n",
       "      <td>0.000000</td>\n",
       "      <td>0.700595</td>\n",
       "      <td>dummy_constant</td>\n",
       "      <td>0.000000</td>\n",
       "      <td>0.700595</td>\n",
       "      <td>-0.609166</td>\n",
       "      <td>0.290238</td>\n",
       "      <td>0.000025</td>\n",
       "      <td>False</td>\n",
       "    </tr>\n",
       "    <tr>\n",
       "      <th>6</th>\n",
       "      <td>0.855541</td>\n",
       "      <td>0.044814</td>\n",
       "      <td>dummy_constant</td>\n",
       "      <td>0.855541</td>\n",
       "      <td>0.044814</td>\n",
       "      <td>-0.332985</td>\n",
       "      <td>0.333604</td>\n",
       "      <td>0.000025</td>\n",
       "      <td>False</td>\n",
       "    </tr>\n",
       "    <tr>\n",
       "      <th>7</th>\n",
       "      <td>1.015538</td>\n",
       "      <td>0.294310</td>\n",
       "      <td>dummy_constant</td>\n",
       "      <td>1.015538</td>\n",
       "      <td>0.294310</td>\n",
       "      <td>0.137716</td>\n",
       "      <td>0.308087</td>\n",
       "      <td>0.000025</td>\n",
       "      <td>False</td>\n",
       "    </tr>\n",
       "    <tr>\n",
       "      <th>8</th>\n",
       "      <td>0.406408</td>\n",
       "      <td>0.931331</td>\n",
       "      <td>dummy_constant</td>\n",
       "      <td>0.406408</td>\n",
       "      <td>0.931331</td>\n",
       "      <td>-0.062982</td>\n",
       "      <td>0.194806</td>\n",
       "      <td>0.000026</td>\n",
       "      <td>False</td>\n",
       "    </tr>\n",
       "    <tr>\n",
       "      <th>9</th>\n",
       "      <td>0.453101</td>\n",
       "      <td>0.955292</td>\n",
       "      <td>dummy_constant</td>\n",
       "      <td>0.453101</td>\n",
       "      <td>0.955292</td>\n",
       "      <td>0.048423</td>\n",
       "      <td>0.209490</td>\n",
       "      <td>0.000026</td>\n",
       "      <td>False</td>\n",
       "    </tr>\n",
       "    <tr>\n",
       "      <th>10</th>\n",
       "      <td>0.000000</td>\n",
       "      <td>3.141590</td>\n",
       "      <td>dummy_constant</td>\n",
       "      <td>0.000000</td>\n",
       "      <td>3.141590</td>\n",
       "      <td>8.769588</td>\n",
       "      <td>7.227998</td>\n",
       "      <td>0.000025</td>\n",
       "      <td>False</td>\n",
       "    </tr>\n",
       "    <tr>\n",
       "      <th>11</th>\n",
       "      <td>0.000000</td>\n",
       "      <td>1.066268</td>\n",
       "      <td>dummy_constant</td>\n",
       "      <td>0.000000</td>\n",
       "      <td>1.066268</td>\n",
       "      <td>0.036927</td>\n",
       "      <td>0.570659</td>\n",
       "      <td>0.000027</td>\n",
       "      <td>False</td>\n",
       "    </tr>\n",
       "    <tr>\n",
       "      <th>12</th>\n",
       "      <td>0.177885</td>\n",
       "      <td>1.070175</td>\n",
       "      <td>dummy_constant</td>\n",
       "      <td>0.177885</td>\n",
       "      <td>1.070175</td>\n",
       "      <td>0.264380</td>\n",
       "      <td>0.428858</td>\n",
       "      <td>0.000026</td>\n",
       "      <td>False</td>\n",
       "    </tr>\n",
       "    <tr>\n",
       "      <th>13</th>\n",
       "      <td>1.263156</td>\n",
       "      <td>0.077257</td>\n",
       "      <td>dummy_constant</td>\n",
       "      <td>1.263156</td>\n",
       "      <td>0.077257</td>\n",
       "      <td>0.545610</td>\n",
       "      <td>0.761118</td>\n",
       "      <td>0.000025</td>\n",
       "      <td>False</td>\n",
       "    </tr>\n",
       "    <tr>\n",
       "      <th>14</th>\n",
       "      <td>0.516105</td>\n",
       "      <td>0.781090</td>\n",
       "      <td>dummy_constant</td>\n",
       "      <td>0.516105</td>\n",
       "      <td>0.781090</td>\n",
       "      <td>-0.023873</td>\n",
       "      <td>0.079271</td>\n",
       "      <td>0.000025</td>\n",
       "      <td>False</td>\n",
       "    </tr>\n",
       "    <tr>\n",
       "      <th>15</th>\n",
       "      <td>1.049175</td>\n",
       "      <td>0.090110</td>\n",
       "      <td>dummy_constant</td>\n",
       "      <td>1.049175</td>\n",
       "      <td>0.090110</td>\n",
       "      <td>0.089024</td>\n",
       "      <td>0.469602</td>\n",
       "      <td>0.000027</td>\n",
       "      <td>False</td>\n",
       "    </tr>\n",
       "    <tr>\n",
       "      <th>16</th>\n",
       "      <td>0.772568</td>\n",
       "      <td>0.664622</td>\n",
       "      <td>dummy_constant</td>\n",
       "      <td>0.772568</td>\n",
       "      <td>0.664622</td>\n",
       "      <td>0.002301</td>\n",
       "      <td>0.101394</td>\n",
       "      <td>0.000025</td>\n",
       "      <td>False</td>\n",
       "    </tr>\n",
       "    <tr>\n",
       "      <th>17</th>\n",
       "      <td>0.906972</td>\n",
       "      <td>0.472895</td>\n",
       "      <td>dummy_constant</td>\n",
       "      <td>0.906972</td>\n",
       "      <td>0.472895</td>\n",
       "      <td>0.029897</td>\n",
       "      <td>0.166361</td>\n",
       "      <td>0.000026</td>\n",
       "      <td>False</td>\n",
       "    </tr>\n",
       "    <tr>\n",
       "      <th>18</th>\n",
       "      <td>0.064402</td>\n",
       "      <td>0.887250</td>\n",
       "      <td>dummy_constant</td>\n",
       "      <td>0.064402</td>\n",
       "      <td>0.887250</td>\n",
       "      <td>-0.248634</td>\n",
       "      <td>0.339708</td>\n",
       "      <td>0.000027</td>\n",
       "      <td>False</td>\n",
       "    </tr>\n",
       "    <tr>\n",
       "      <th>19</th>\n",
       "      <td>0.635070</td>\n",
       "      <td>0.809949</td>\n",
       "      <td>dummy_constant</td>\n",
       "      <td>0.635070</td>\n",
       "      <td>0.809949</td>\n",
       "      <td>0.094202</td>\n",
       "      <td>0.114312</td>\n",
       "      <td>0.000026</td>\n",
       "      <td>False</td>\n",
       "    </tr>\n",
       "    <tr>\n",
       "      <th>20</th>\n",
       "      <td>0.754099</td>\n",
       "      <td>0.647184</td>\n",
       "      <td>dummy_constant</td>\n",
       "      <td>0.754099</td>\n",
       "      <td>0.647184</td>\n",
       "      <td>-0.047001</td>\n",
       "      <td>0.086229</td>\n",
       "      <td>0.000028</td>\n",
       "      <td>False</td>\n",
       "    </tr>\n",
       "    <tr>\n",
       "      <th>21</th>\n",
       "      <td>0.528099</td>\n",
       "      <td>0.722950</td>\n",
       "      <td>dummy_constant</td>\n",
       "      <td>0.528099</td>\n",
       "      <td>0.722950</td>\n",
       "      <td>-0.120038</td>\n",
       "      <td>0.050496</td>\n",
       "      <td>0.000026</td>\n",
       "      <td>False</td>\n",
       "    </tr>\n",
       "    <tr>\n",
       "      <th>22</th>\n",
       "      <td>0.653515</td>\n",
       "      <td>0.017054</td>\n",
       "      <td>dummy_constant</td>\n",
       "      <td>0.653515</td>\n",
       "      <td>0.017054</td>\n",
       "      <td>-0.664040</td>\n",
       "      <td>0.256804</td>\n",
       "      <td>0.000028</td>\n",
       "      <td>False</td>\n",
       "    </tr>\n",
       "    <tr>\n",
       "      <th>23</th>\n",
       "      <td>0.068763</td>\n",
       "      <td>1.043212</td>\n",
       "      <td>dummy_constant</td>\n",
       "      <td>0.068763</td>\n",
       "      <td>1.043212</td>\n",
       "      <td>0.043534</td>\n",
       "      <td>0.481045</td>\n",
       "      <td>0.000027</td>\n",
       "      <td>False</td>\n",
       "    </tr>\n",
       "    <tr>\n",
       "      <th>24</th>\n",
       "      <td>0.684356</td>\n",
       "      <td>0.737006</td>\n",
       "      <td>dummy_constant</td>\n",
       "      <td>0.684356</td>\n",
       "      <td>0.737006</td>\n",
       "      <td>-0.071440</td>\n",
       "      <td>0.090159</td>\n",
       "      <td>0.000030</td>\n",
       "      <td>False</td>\n",
       "    </tr>\n",
       "    <tr>\n",
       "      <th>25</th>\n",
       "      <td>0.533511</td>\n",
       "      <td>0.876533</td>\n",
       "      <td>dummy_constant</td>\n",
       "      <td>0.533511</td>\n",
       "      <td>0.876533</td>\n",
       "      <td>0.130916</td>\n",
       "      <td>0.142900</td>\n",
       "      <td>0.000026</td>\n",
       "      <td>False</td>\n",
       "    </tr>\n",
       "    <tr>\n",
       "      <th>26</th>\n",
       "      <td>0.752707</td>\n",
       "      <td>0.322566</td>\n",
       "      <td>dummy_constant</td>\n",
       "      <td>0.752707</td>\n",
       "      <td>0.322566</td>\n",
       "      <td>-0.427494</td>\n",
       "      <td>0.095344</td>\n",
       "      <td>0.000027</td>\n",
       "      <td>False</td>\n",
       "    </tr>\n",
       "    <tr>\n",
       "      <th>27</th>\n",
       "      <td>0.026423</td>\n",
       "      <td>1.084212</td>\n",
       "      <td>dummy_constant</td>\n",
       "      <td>0.026423</td>\n",
       "      <td>1.084212</td>\n",
       "      <td>0.083717</td>\n",
       "      <td>0.565579</td>\n",
       "      <td>0.000028</td>\n",
       "      <td>False</td>\n",
       "    </tr>\n",
       "    <tr>\n",
       "      <th>28</th>\n",
       "      <td>0.861019</td>\n",
       "      <td>0.576705</td>\n",
       "      <td>dummy_constant</td>\n",
       "      <td>0.861019</td>\n",
       "      <td>0.576705</td>\n",
       "      <td>0.173926</td>\n",
       "      <td>0.136218</td>\n",
       "      <td>0.000027</td>\n",
       "      <td>False</td>\n",
       "    </tr>\n",
       "    <tr>\n",
       "      <th>29</th>\n",
       "      <td>0.516603</td>\n",
       "      <td>0.080148</td>\n",
       "      <td>dummy_constant</td>\n",
       "      <td>0.516603</td>\n",
       "      <td>0.080148</td>\n",
       "      <td>-0.648872</td>\n",
       "      <td>0.176551</td>\n",
       "      <td>0.000026</td>\n",
       "      <td>False</td>\n",
       "    </tr>\n",
       "    <tr>\n",
       "      <th>30</th>\n",
       "      <td>0.233354</td>\n",
       "      <td>0.989556</td>\n",
       "      <td>dummy_constant</td>\n",
       "      <td>0.233354</td>\n",
       "      <td>0.989556</td>\n",
       "      <td>0.118199</td>\n",
       "      <td>0.310765</td>\n",
       "      <td>0.000025</td>\n",
       "      <td>False</td>\n",
       "    </tr>\n",
       "    <tr>\n",
       "      <th>31</th>\n",
       "      <td>0.191857</td>\n",
       "      <td>0.048425</td>\n",
       "      <td>dummy_constant</td>\n",
       "      <td>0.191857</td>\n",
       "      <td>0.048425</td>\n",
       "      <td>-0.892201</td>\n",
       "      <td>0.298872</td>\n",
       "      <td>0.000025</td>\n",
       "      <td>False</td>\n",
       "    </tr>\n",
       "  </tbody>\n",
       "</table>\n",
       "</div>"
      ],
      "text/plain": [
       "          x1        x2               a        y1        y2        c1  \\\n",
       "0   1.000000  0.750000  dummy_constant  1.000000  0.750000  0.626888   \n",
       "1   0.750000  1.000000  dummy_constant  0.750000  1.000000  0.626888   \n",
       "2   2.376431  0.000000  dummy_constant  2.376431  0.000000  4.547427   \n",
       "3   0.000000  0.000000  dummy_constant  0.000000  0.000000 -1.100000   \n",
       "4   0.476345  0.045593  dummy_constant  0.476345  0.045593 -0.775418   \n",
       "5   0.000000  0.700595  dummy_constant  0.000000  0.700595 -0.609166   \n",
       "6   0.855541  0.044814  dummy_constant  0.855541  0.044814 -0.332985   \n",
       "7   1.015538  0.294310  dummy_constant  1.015538  0.294310  0.137716   \n",
       "8   0.406408  0.931331  dummy_constant  0.406408  0.931331 -0.062982   \n",
       "9   0.453101  0.955292  dummy_constant  0.453101  0.955292  0.048423   \n",
       "10  0.000000  3.141590  dummy_constant  0.000000  3.141590  8.769588   \n",
       "11  0.000000  1.066268  dummy_constant  0.000000  1.066268  0.036927   \n",
       "12  0.177885  1.070175  dummy_constant  0.177885  1.070175  0.264380   \n",
       "13  1.263156  0.077257  dummy_constant  1.263156  0.077257  0.545610   \n",
       "14  0.516105  0.781090  dummy_constant  0.516105  0.781090 -0.023873   \n",
       "15  1.049175  0.090110  dummy_constant  1.049175  0.090110  0.089024   \n",
       "16  0.772568  0.664622  dummy_constant  0.772568  0.664622  0.002301   \n",
       "17  0.906972  0.472895  dummy_constant  0.906972  0.472895  0.029897   \n",
       "18  0.064402  0.887250  dummy_constant  0.064402  0.887250 -0.248634   \n",
       "19  0.635070  0.809949  dummy_constant  0.635070  0.809949  0.094202   \n",
       "20  0.754099  0.647184  dummy_constant  0.754099  0.647184 -0.047001   \n",
       "21  0.528099  0.722950  dummy_constant  0.528099  0.722950 -0.120038   \n",
       "22  0.653515  0.017054  dummy_constant  0.653515  0.017054 -0.664040   \n",
       "23  0.068763  1.043212  dummy_constant  0.068763  1.043212  0.043534   \n",
       "24  0.684356  0.737006  dummy_constant  0.684356  0.737006 -0.071440   \n",
       "25  0.533511  0.876533  dummy_constant  0.533511  0.876533  0.130916   \n",
       "26  0.752707  0.322566  dummy_constant  0.752707  0.322566 -0.427494   \n",
       "27  0.026423  1.084212  dummy_constant  0.026423  1.084212  0.083717   \n",
       "28  0.861019  0.576705  dummy_constant  0.861019  0.576705  0.173926   \n",
       "29  0.516603  0.080148  dummy_constant  0.516603  0.080148 -0.648872   \n",
       "30  0.233354  0.989556  dummy_constant  0.233354  0.989556  0.118199   \n",
       "31  0.191857  0.048425  dummy_constant  0.191857  0.048425 -0.892201   \n",
       "\n",
       "          c2  xopt_runtime  xopt_error  \n",
       "0   0.312500      0.000053       False  \n",
       "1   0.312500      0.000018       False  \n",
       "2   3.770995      0.000025       False  \n",
       "3   0.500000      0.000025       False  \n",
       "4   0.207045      0.000026       False  \n",
       "5   0.290238      0.000025       False  \n",
       "6   0.333604      0.000025       False  \n",
       "7   0.308087      0.000025       False  \n",
       "8   0.194806      0.000026       False  \n",
       "9   0.209490      0.000026       False  \n",
       "10  7.227998      0.000025       False  \n",
       "11  0.570659      0.000027       False  \n",
       "12  0.428858      0.000026       False  \n",
       "13  0.761118      0.000025       False  \n",
       "14  0.079271      0.000025       False  \n",
       "15  0.469602      0.000027       False  \n",
       "16  0.101394      0.000025       False  \n",
       "17  0.166361      0.000026       False  \n",
       "18  0.339708      0.000027       False  \n",
       "19  0.114312      0.000026       False  \n",
       "20  0.086229      0.000028       False  \n",
       "21  0.050496      0.000026       False  \n",
       "22  0.256804      0.000028       False  \n",
       "23  0.481045      0.000027       False  \n",
       "24  0.090159      0.000030       False  \n",
       "25  0.142900      0.000026       False  \n",
       "26  0.095344      0.000027       False  \n",
       "27  0.565579      0.000028       False  \n",
       "28  0.136218      0.000027       False  \n",
       "29  0.176551      0.000026       False  \n",
       "30  0.310765      0.000025       False  \n",
       "31  0.298872      0.000025       False  "
      ]
     },
     "execution_count": 3,
     "metadata": {},
     "output_type": "execute_result"
    }
   ],
   "source": [
    "X.generator.data"
   ]
  },
  {
   "cell_type": "markdown",
   "metadata": {
    "collapsed": false
   },
   "source": [
    "## plot results\n"
   ]
  },
  {
   "cell_type": "code",
   "execution_count": 4,
   "metadata": {
    "collapsed": false,
    "execution": {
     "iopub.execute_input": "2024-04-23T15:10:16.353156Z",
     "iopub.status.busy": "2024-04-23T15:10:16.352725Z",
     "iopub.status.idle": "2024-04-23T15:10:16.711864Z",
     "shell.execute_reply": "2024-04-23T15:10:16.711281Z"
    }
   },
   "outputs": [
    {
     "data": {
      "image/png": "[encoded data removed]",
      "text/plain": [
       "<Figure size 640x480 with 1 Axes>"
      ]
     },
     "metadata": {},
     "output_type": "display_data"
    }
   ],
   "source": [
    "import matplotlib.pyplot as plt\n",
    "\n",
    "fig, ax = plt.subplots()\n",
    "\n",
    "theta = np.linspace(0, np.pi / 2)\n",
    "r = np.sqrt(1 + 0.1 * np.cos(16 * theta))\n",
    "x_1 = r * np.sin(theta)\n",
    "x_2_lower = r * np.cos(theta)\n",
    "x_2_upper = (0.5 - (x_1 - 0.5) ** 2) ** 0.5 + 0.5\n",
    "\n",
    "z = np.zeros_like(x_1)\n",
    "\n",
    "# ax2.plot(x_1, x_2_lower,'r')\n",
    "ax.fill_between(x_1, z, x_2_lower, fc=\"white\")\n",
    "circle = plt.Circle(\n",
    "    (0.5, 0.5), 0.5 ** 0.5, color=\"r\", alpha=0.25, zorder=0, label=\"Valid Region\"\n",
    ")\n",
    "ax.add_patch(circle)\n",
    "history = pd.concat(\n",
    "    [X.data, tnk_vocs.feasibility_data(X.data)], axis=1, ignore_index=False\n",
    ")\n",
    "\n",
    "\n",
    "ax.plot(*history[[\"x1\", \"x2\"]][history[\"feasible\"]].to_numpy().T, \".C1\")\n",
    "ax.plot(*history[[\"x1\", \"x2\"]][~history[\"feasible\"]].to_numpy().T, \".C2\")\n",
    "\n",
    "ax.set_xlim(0, 3.14)\n",
    "ax.set_ylim(0, 3.14)\n",
    "ax.set_xlabel(\"x1\")\n",
    "ax.set_ylabel(\"x2\")\n",
    "ax.set_aspect(\"equal\")"
   ]
  },
  {
   "cell_type": "markdown",
   "metadata": {
    "collapsed": false
   },
   "source": [
    "### Plot path through input space"
   ]
  },
  {
   "cell_type": "code",
   "execution_count": 5,
   "metadata": {
    "collapsed": false,
    "execution": {
     "iopub.execute_input": "2024-04-23T15:10:16.714777Z",
     "iopub.status.busy": "2024-04-23T15:10:16.714131Z",
     "iopub.status.idle": "2024-04-23T15:10:16.967431Z",
     "shell.execute_reply": "2024-04-23T15:10:16.966809Z"
    }
   },
   "outputs": [
    {
     "data": {
      "image/png": "[encoded data removed]",
      "text/plain": [
       "<Figure size 640x480 with 1 Axes>"
      ]
     },
     "metadata": {},
     "output_type": "display_data"
    }
   ],
   "source": [
    "ax = history.plot(\"x1\", \"x2\")\n",
    "ax.set_ylim(0, 3.14)\n",
    "ax.set_xlim(0, 3.14)\n",
    "ax.set_aspect(\"equal\")"
   ]
  },
  {
   "cell_type": "code",
   "execution_count": 6,
   "metadata": {
    "collapsed": false,
    "execution": {
     "iopub.execute_input": "2024-04-23T15:10:16.969658Z",
     "iopub.status.busy": "2024-04-23T15:10:16.969473Z",
     "iopub.status.idle": "2024-04-23T15:10:28.870677Z",
     "shell.execute_reply": "2024-04-23T15:10:28.870084Z"
    }
   },
   "outputs": [
    {
     "name": "stdout",
     "output_type": "stream",
     "text": [
      "[[0.6748124  0.17607823]]\n"
     ]
    },
    {
     "data": {
      "text/plain": [
       "[<matplotlib.lines.Line2D at 0x7f27b444c2b0>]"
      ]
     },
     "execution_count": 6,
     "metadata": {},
     "output_type": "execute_result"
    },
    {
     "data": {
      "image/png": "[encoded data removed]",
      "text/plain": [
       "<Figure size 640x480 with 2 Axes>"
      ]
     },
     "metadata": {},
     "output_type": "display_data"
    },
    {
     "data": {
      "image/png": "[encoded data removed]",
      "text/plain": [
       "<Figure size 640x480 with 2 Axes>"
      ]
     },
     "metadata": {},
     "output_type": "display_data"
    }
   ],
   "source": [
    "# plot the acquisition function\n",
    "from xopt.generators.bayesian.objectives import feasibility\n",
    "\n",
    "bounds = X.generator.vocs.bounds\n",
    "model = X.generator.model\n",
    "\n",
    "# create mesh\n",
    "n = 200\n",
    "x = torch.linspace(*bounds.T[0], n)\n",
    "y = torch.linspace(*bounds.T[1], n)\n",
    "xx, yy = torch.meshgrid(x, y)\n",
    "pts = torch.hstack([ele.reshape(-1, 1) for ele in (xx, yy)]).double()\n",
    "\n",
    "xx, yy = xx.numpy(), yy.numpy()\n",
    "\n",
    "acq_func = X.generator.get_acquisition(model)\n",
    "with torch.no_grad():\n",
    "    acq_pts = pts.unsqueeze(1)\n",
    "    acq = acq_func(acq_pts)\n",
    "\n",
    "    fig, ax = plt.subplots()\n",
    "    c = ax.pcolor(xx, yy, acq.reshape(n, n), cmap=\"Blues\")\n",
    "    fig.colorbar(c)\n",
    "    ax.set_title(\"Acquisition function\")\n",
    "\n",
    "    ax.plot(*history[[\"x1\", \"x2\"]][history[\"feasible\"]].to_numpy().T, \".C1\")\n",
    "    ax.plot(*history[[\"x1\", \"x2\"]][~history[\"feasible\"]].to_numpy().T, \".C2\")\n",
    "\n",
    "    ax.plot(*history[[\"x1\", \"x2\"]].to_numpy()[-1].T, \"+\")\n",
    "\n",
    "    feas = feasibility(pts.unsqueeze(1), model, tnk_vocs).flatten()\n",
    "\n",
    "    fig2, ax2 = plt.subplots()\n",
    "    c = ax2.pcolor(xx, yy, feas.reshape(n, n))\n",
    "    fig2.colorbar(c)\n",
    "    ax2.set_title(\"Feasible Region\")\n",
    "\n",
    "candidate = pd.DataFrame(X.generator.generate(1), index=[0])\n",
    "print(candidate[[\"x1\", \"x2\"]].to_numpy())\n",
    "ax.plot(*candidate[[\"x1\", \"x2\"]].to_numpy()[0], \"o\")"
   ]
  },
  {
   "cell_type": "code",
   "execution_count": 7,
   "metadata": {
    "collapsed": false,
    "execution": {
     "iopub.execute_input": "2024-04-23T15:10:28.873136Z",
     "iopub.status.busy": "2024-04-23T15:10:28.872940Z",
     "iopub.status.idle": "2024-04-23T15:10:29.282463Z",
     "shell.execute_reply": "2024-04-23T15:10:29.281831Z"
    }
   },
   "outputs": [
    {
     "name": "stdout",
     "output_type": "stream",
     "text": [
      "CPU times: user 800 ms, sys: 8 ms, total: 808 ms\n",
      "Wall time: 406 ms\n"
     ]
    }
   ],
   "source": [
    "%%time\n",
    "candidate = X.generator.generate(1)"
   ]
  }
 ],
 "metadata": {
  "interpreter": {
   "hash": "72034539424920dfb606fe3b820b3f27dca0cbf1c69938110810ec4641e275b1"
  },
  "kernelspec": {
   "display_name": "Python 3 (ipykernel)",
   "language": "python",
   "name": "python3"
  },
  "language_info": {
   "codemirror_mode": {
    "name": "ipython",
    "version": 3
   },
   "file_extension": ".py",
   "mimetype": "text/x-python",
   "name": "python",
   "nbconvert_exporter": "python",
   "pygments_lexer": "ipython3",
   "version": "3.9.19"
  }
 },
 "nbformat": 4,
 "nbformat_minor": 4
}
