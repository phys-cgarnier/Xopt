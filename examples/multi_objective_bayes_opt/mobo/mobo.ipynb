{
 "cells": [
  {
   "cell_type": "markdown",
   "metadata": {},
   "source": [
    "\n",
    "# Multi-objective Bayesian Optimization\n",
    "\n",
    "\n",
    "TNK function\n",
    "$n=2$ variables:\n",
    "$x_i \\in [0, \\pi], i=1,2$\n",
    "\n",
    "Objectives:\n",
    "- $f_i(x) = x_i$\n",
    "\n",
    "Constraints:\n",
    "- $g_1(x) = -x_1^2 -x_2^2 + 1 + 0.1 \\cos\\left(16 \\arctan \\frac{x_1}{x_2}\\right) \\le 0$\n",
    "- $g_2(x) = (x_1 - 1/2)^2 + (x_2-1/2)^2 \\le 0.5$"
   ]
  },
  {
   "cell_type": "code",
   "execution_count": 1,
   "metadata": {
    "collapsed": false,
    "execution": {
     "iopub.execute_input": "2024-02-23T22:03:48.260438Z",
     "iopub.status.busy": "2024-02-23T22:03:48.260007Z",
     "iopub.status.idle": "2024-02-23T22:03:50.528038Z",
     "shell.execute_reply": "2024-02-23T22:03:50.527355Z"
    }
   },
   "outputs": [
    {
     "name": "stdout",
     "output_type": "stream",
     "text": [
      "{'variables': {'x1': [0.0, 3.14159], 'x2': [0.0, 3.14159]}, 'constraints': {'c1': ['GREATER_THAN', 0.0], 'c2': ['LESS_THAN', 0.5]}, 'objectives': {'y1': 'MINIMIZE', 'y2': 'MINIMIZE'}, 'constants': {'a': 'dummy_constant'}, 'observables': []}\n"
     ]
    }
   ],
   "source": [
    "# set values if testing\n",
    "import os\n",
    "SMOKE_TEST = os.environ.get(\"SMOKE_TEST\")\n",
    "N_MC_SAMPLES = 1 if SMOKE_TEST else 128\n",
    "NUM_RESTARTS = 1 if SMOKE_TEST else 20\n",
    "N_STEPS = 1 if SMOKE_TEST else 30\n",
    "\n",
    "# Ignore all warnings\n",
    "import warnings\n",
    "warnings.filterwarnings(\"ignore\")\n",
    "\n",
    "\n",
    "import pandas as pd\n",
    "import numpy as np\n",
    "import torch\n",
    "\n",
    "from xopt import Xopt, Evaluator\n",
    "from xopt.generators.bayesian import MOBOGenerator\n",
    "from xopt.resources.test_functions.tnk import evaluate_TNK, tnk_vocs\n",
    "\n",
    "\n",
    "evaluator = Evaluator(function=evaluate_TNK)\n",
    "print(tnk_vocs.dict())"
   ]
  },
  {
   "cell_type": "code",
   "execution_count": 2,
   "metadata": {
    "collapsed": false,
    "execution": {
     "iopub.execute_input": "2024-02-23T22:03:50.559268Z",
     "iopub.status.busy": "2024-02-23T22:03:50.558727Z",
     "iopub.status.idle": "2024-02-23T22:04:28.001654Z",
     "shell.execute_reply": "2024-02-23T22:04:28.001090Z"
    }
   },
   "outputs": [
    {
     "name": "stdout",
     "output_type": "stream",
     "text": [
      "0\n"
     ]
    },
    {
     "name": "stdout",
     "output_type": "stream",
     "text": [
      "1\n"
     ]
    },
    {
     "name": "stdout",
     "output_type": "stream",
     "text": [
      "2\n"
     ]
    },
    {
     "name": "stdout",
     "output_type": "stream",
     "text": [
      "3\n"
     ]
    },
    {
     "name": "stdout",
     "output_type": "stream",
     "text": [
      "4\n"
     ]
    },
    {
     "name": "stdout",
     "output_type": "stream",
     "text": [
      "5\n"
     ]
    },
    {
     "name": "stdout",
     "output_type": "stream",
     "text": [
      "6\n"
     ]
    },
    {
     "name": "stdout",
     "output_type": "stream",
     "text": [
      "7\n"
     ]
    },
    {
     "name": "stdout",
     "output_type": "stream",
     "text": [
      "8\n"
     ]
    },
    {
     "name": "stdout",
     "output_type": "stream",
     "text": [
      "9\n"
     ]
    },
    {
     "name": "stdout",
     "output_type": "stream",
     "text": [
      "10\n"
     ]
    },
    {
     "name": "stdout",
     "output_type": "stream",
     "text": [
      "11\n"
     ]
    },
    {
     "name": "stdout",
     "output_type": "stream",
     "text": [
      "12\n"
     ]
    },
    {
     "name": "stdout",
     "output_type": "stream",
     "text": [
      "13\n"
     ]
    },
    {
     "name": "stdout",
     "output_type": "stream",
     "text": [
      "14\n"
     ]
    },
    {
     "name": "stdout",
     "output_type": "stream",
     "text": [
      "15\n"
     ]
    },
    {
     "name": "stdout",
     "output_type": "stream",
     "text": [
      "16\n"
     ]
    },
    {
     "name": "stdout",
     "output_type": "stream",
     "text": [
      "17\n"
     ]
    },
    {
     "name": "stdout",
     "output_type": "stream",
     "text": [
      "18\n"
     ]
    },
    {
     "name": "stdout",
     "output_type": "stream",
     "text": [
      "19\n"
     ]
    },
    {
     "name": "stdout",
     "output_type": "stream",
     "text": [
      "20\n"
     ]
    },
    {
     "name": "stdout",
     "output_type": "stream",
     "text": [
      "21\n"
     ]
    },
    {
     "name": "stdout",
     "output_type": "stream",
     "text": [
      "22\n"
     ]
    },
    {
     "name": "stdout",
     "output_type": "stream",
     "text": [
      "23\n"
     ]
    },
    {
     "name": "stdout",
     "output_type": "stream",
     "text": [
      "24\n"
     ]
    },
    {
     "name": "stdout",
     "output_type": "stream",
     "text": [
      "25\n"
     ]
    },
    {
     "name": "stdout",
     "output_type": "stream",
     "text": [
      "26\n"
     ]
    },
    {
     "name": "stdout",
     "output_type": "stream",
     "text": [
      "27\n"
     ]
    },
    {
     "name": "stdout",
     "output_type": "stream",
     "text": [
      "28\n"
     ]
    },
    {
     "name": "stdout",
     "output_type": "stream",
     "text": [
      "29\n"
     ]
    }
   ],
   "source": [
    "generator = MOBOGenerator(vocs=tnk_vocs, reference_point = {\"y1\":1.5,\"y2\":1.5})\n",
    "generator.n_monte_carlo_samples = N_MC_SAMPLES\n",
    "generator.numerical_optimizer.n_restarts = NUM_RESTARTS\n",
    "\n",
    "X = Xopt(generator=generator, evaluator=evaluator, vocs=tnk_vocs)\n",
    "X.evaluate_data(pd.DataFrame({\"x1\":[1.0, 0.75],\"x2\":[0.75, 1.0]}))\n",
    "\n",
    "for i in range(N_STEPS):\n",
    "    print(i)\n",
    "    X.step()"
   ]
  },
  {
   "cell_type": "code",
   "execution_count": 3,
   "metadata": {
    "collapsed": false,
    "execution": {
     "iopub.execute_input": "2024-02-23T22:04:28.004482Z",
     "iopub.status.busy": "2024-02-23T22:04:28.004292Z",
     "iopub.status.idle": "2024-02-23T22:04:28.019594Z",
     "shell.execute_reply": "2024-02-23T22:04:28.018996Z"
    }
   },
   "outputs": [
    {
     "data": {
      "text/html": [
       "<div>\n",
       "<style scoped>\n",
       "    .dataframe tbody tr th:only-of-type {\n",
       "        vertical-align: middle;\n",
       "    }\n",
       "\n",
       "    .dataframe tbody tr th {\n",
       "        vertical-align: top;\n",
       "    }\n",
       "\n",
       "    .dataframe thead th {\n",
       "        text-align: right;\n",
       "    }\n",
       "</style>\n",
       "<table border=\"1\" class=\"dataframe\">\n",
       "  <thead>\n",
       "    <tr style=\"text-align: right;\">\n",
       "      <th></th>\n",
       "      <th>x1</th>\n",
       "      <th>x2</th>\n",
       "      <th>a</th>\n",
       "      <th>y1</th>\n",
       "      <th>y2</th>\n",
       "      <th>c1</th>\n",
       "      <th>c2</th>\n",
       "      <th>xopt_runtime</th>\n",
       "      <th>xopt_error</th>\n",
       "    </tr>\n",
       "  </thead>\n",
       "  <tbody>\n",
       "    <tr>\n",
       "      <th>0</th>\n",
       "      <td>1.000000</td>\n",
       "      <td>0.750000</td>\n",
       "      <td>dummy_constant</td>\n",
       "      <td>1.000000</td>\n",
       "      <td>0.750000</td>\n",
       "      <td>0.626888</td>\n",
       "      <td>0.312500</td>\n",
       "      <td>0.000050</td>\n",
       "      <td>False</td>\n",
       "    </tr>\n",
       "    <tr>\n",
       "      <th>1</th>\n",
       "      <td>0.750000</td>\n",
       "      <td>1.000000</td>\n",
       "      <td>dummy_constant</td>\n",
       "      <td>0.750000</td>\n",
       "      <td>1.000000</td>\n",
       "      <td>0.626888</td>\n",
       "      <td>0.312500</td>\n",
       "      <td>0.000012</td>\n",
       "      <td>False</td>\n",
       "    </tr>\n",
       "    <tr>\n",
       "      <th>2</th>\n",
       "      <td>1.362365</td>\n",
       "      <td>2.476605</td>\n",
       "      <td>dummy_constant</td>\n",
       "      <td>1.362365</td>\n",
       "      <td>2.476605</td>\n",
       "      <td>7.008757</td>\n",
       "      <td>4.650639</td>\n",
       "      <td>0.000026</td>\n",
       "      <td>False</td>\n",
       "    </tr>\n",
       "    <tr>\n",
       "      <th>3</th>\n",
       "      <td>0.113292</td>\n",
       "      <td>0.337958</td>\n",
       "      <td>dummy_constant</td>\n",
       "      <td>0.113292</td>\n",
       "      <td>0.337958</td>\n",
       "      <td>-0.917598</td>\n",
       "      <td>0.175801</td>\n",
       "      <td>0.000024</td>\n",
       "      <td>False</td>\n",
       "    </tr>\n",
       "    <tr>\n",
       "      <th>4</th>\n",
       "      <td>0.123120</td>\n",
       "      <td>0.000000</td>\n",
       "      <td>dummy_constant</td>\n",
       "      <td>0.123120</td>\n",
       "      <td>0.000000</td>\n",
       "      <td>-1.084842</td>\n",
       "      <td>0.392039</td>\n",
       "      <td>0.000024</td>\n",
       "      <td>False</td>\n",
       "    </tr>\n",
       "    <tr>\n",
       "      <th>5</th>\n",
       "      <td>0.718207</td>\n",
       "      <td>0.000000</td>\n",
       "      <td>dummy_constant</td>\n",
       "      <td>0.718207</td>\n",
       "      <td>0.000000</td>\n",
       "      <td>-0.584178</td>\n",
       "      <td>0.297614</td>\n",
       "      <td>0.000023</td>\n",
       "      <td>False</td>\n",
       "    </tr>\n",
       "    <tr>\n",
       "      <th>6</th>\n",
       "      <td>0.995446</td>\n",
       "      <td>0.422276</td>\n",
       "      <td>dummy_constant</td>\n",
       "      <td>0.995446</td>\n",
       "      <td>0.422276</td>\n",
       "      <td>0.070153</td>\n",
       "      <td>0.251508</td>\n",
       "      <td>0.000026</td>\n",
       "      <td>False</td>\n",
       "    </tr>\n",
       "    <tr>\n",
       "      <th>7</th>\n",
       "      <td>0.506089</td>\n",
       "      <td>0.993146</td>\n",
       "      <td>dummy_constant</td>\n",
       "      <td>0.506089</td>\n",
       "      <td>0.993146</td>\n",
       "      <td>0.211631</td>\n",
       "      <td>0.243230</td>\n",
       "      <td>0.000025</td>\n",
       "      <td>False</td>\n",
       "    </tr>\n",
       "    <tr>\n",
       "      <th>8</th>\n",
       "      <td>0.000000</td>\n",
       "      <td>0.931858</td>\n",
       "      <td>dummy_constant</td>\n",
       "      <td>0.000000</td>\n",
       "      <td>0.931858</td>\n",
       "      <td>-0.231641</td>\n",
       "      <td>0.436501</td>\n",
       "      <td>0.000026</td>\n",
       "      <td>False</td>\n",
       "    </tr>\n",
       "    <tr>\n",
       "      <th>9</th>\n",
       "      <td>0.722141</td>\n",
       "      <td>0.751122</td>\n",
       "      <td>dummy_constant</td>\n",
       "      <td>0.722141</td>\n",
       "      <td>0.751122</td>\n",
       "      <td>-0.009417</td>\n",
       "      <td>0.112409</td>\n",
       "      <td>0.000025</td>\n",
       "      <td>False</td>\n",
       "    </tr>\n",
       "    <tr>\n",
       "      <th>10</th>\n",
       "      <td>1.095773</td>\n",
       "      <td>0.175526</td>\n",
       "      <td>dummy_constant</td>\n",
       "      <td>1.095773</td>\n",
       "      <td>0.175526</td>\n",
       "      <td>0.314048</td>\n",
       "      <td>0.460229</td>\n",
       "      <td>0.000025</td>\n",
       "      <td>False</td>\n",
       "    </tr>\n",
       "    <tr>\n",
       "      <th>11</th>\n",
       "      <td>3.141590</td>\n",
       "      <td>0.000000</td>\n",
       "      <td>dummy_constant</td>\n",
       "      <td>3.141590</td>\n",
       "      <td>0.000000</td>\n",
       "      <td>8.769588</td>\n",
       "      <td>7.227998</td>\n",
       "      <td>0.000025</td>\n",
       "      <td>False</td>\n",
       "    </tr>\n",
       "    <tr>\n",
       "      <th>12</th>\n",
       "      <td>0.211834</td>\n",
       "      <td>1.068776</td>\n",
       "      <td>dummy_constant</td>\n",
       "      <td>0.211834</td>\n",
       "      <td>1.068776</td>\n",
       "      <td>0.287150</td>\n",
       "      <td>0.406546</td>\n",
       "      <td>0.000027</td>\n",
       "      <td>False</td>\n",
       "    </tr>\n",
       "    <tr>\n",
       "      <th>13</th>\n",
       "      <td>0.801966</td>\n",
       "      <td>0.740405</td>\n",
       "      <td>dummy_constant</td>\n",
       "      <td>0.801966</td>\n",
       "      <td>0.740405</td>\n",
       "      <td>0.111036</td>\n",
       "      <td>0.148978</td>\n",
       "      <td>0.000026</td>\n",
       "      <td>False</td>\n",
       "    </tr>\n",
       "    <tr>\n",
       "      <th>14</th>\n",
       "      <td>0.075189</td>\n",
       "      <td>1.024490</td>\n",
       "      <td>dummy_constant</td>\n",
       "      <td>0.075189</td>\n",
       "      <td>1.024490</td>\n",
       "      <td>0.016418</td>\n",
       "      <td>0.455555</td>\n",
       "      <td>0.000027</td>\n",
       "      <td>False</td>\n",
       "    </tr>\n",
       "    <tr>\n",
       "      <th>15</th>\n",
       "      <td>1.011921</td>\n",
       "      <td>0.053864</td>\n",
       "      <td>dummy_constant</td>\n",
       "      <td>1.011921</td>\n",
       "      <td>0.053864</td>\n",
       "      <td>-0.039047</td>\n",
       "      <td>0.461101</td>\n",
       "      <td>0.000025</td>\n",
       "      <td>False</td>\n",
       "    </tr>\n",
       "    <tr>\n",
       "      <th>16</th>\n",
       "      <td>0.556669</td>\n",
       "      <td>0.893046</td>\n",
       "      <td>dummy_constant</td>\n",
       "      <td>0.556669</td>\n",
       "      <td>0.893046</td>\n",
       "      <td>0.194865</td>\n",
       "      <td>0.157696</td>\n",
       "      <td>0.000025</td>\n",
       "      <td>False</td>\n",
       "    </tr>\n",
       "    <tr>\n",
       "      <th>17</th>\n",
       "      <td>0.612523</td>\n",
       "      <td>0.829876</td>\n",
       "      <td>dummy_constant</td>\n",
       "      <td>0.612523</td>\n",
       "      <td>0.829876</td>\n",
       "      <td>0.137145</td>\n",
       "      <td>0.121480</td>\n",
       "      <td>0.000027</td>\n",
       "      <td>False</td>\n",
       "    </tr>\n",
       "    <tr>\n",
       "      <th>18</th>\n",
       "      <td>0.930908</td>\n",
       "      <td>0.396366</td>\n",
       "      <td>dummy_constant</td>\n",
       "      <td>0.930908</td>\n",
       "      <td>0.396366</td>\n",
       "      <td>-0.075069</td>\n",
       "      <td>0.196421</td>\n",
       "      <td>0.000022</td>\n",
       "      <td>False</td>\n",
       "    </tr>\n",
       "    <tr>\n",
       "      <th>19</th>\n",
       "      <td>0.291384</td>\n",
       "      <td>0.940055</td>\n",
       "      <td>dummy_constant</td>\n",
       "      <td>0.291384</td>\n",
       "      <td>0.940055</td>\n",
       "      <td>-0.041055</td>\n",
       "      <td>0.237169</td>\n",
       "      <td>0.000026</td>\n",
       "      <td>False</td>\n",
       "    </tr>\n",
       "    <tr>\n",
       "      <th>20</th>\n",
       "      <td>0.159615</td>\n",
       "      <td>1.463505</td>\n",
       "      <td>dummy_constant</td>\n",
       "      <td>0.159615</td>\n",
       "      <td>1.463505</td>\n",
       "      <td>1.183980</td>\n",
       "      <td>1.044204</td>\n",
       "      <td>0.000024</td>\n",
       "      <td>False</td>\n",
       "    </tr>\n",
       "    <tr>\n",
       "      <th>21</th>\n",
       "      <td>0.237733</td>\n",
       "      <td>0.824769</td>\n",
       "      <td>dummy_constant</td>\n",
       "      <td>0.237733</td>\n",
       "      <td>0.824769</td>\n",
       "      <td>-0.241197</td>\n",
       "      <td>0.174259</td>\n",
       "      <td>0.000025</td>\n",
       "      <td>False</td>\n",
       "    </tr>\n",
       "    <tr>\n",
       "      <th>22</th>\n",
       "      <td>0.022904</td>\n",
       "      <td>1.201526</td>\n",
       "      <td>dummy_constant</td>\n",
       "      <td>0.022904</td>\n",
       "      <td>1.201526</td>\n",
       "      <td>0.348805</td>\n",
       "      <td>0.719759</td>\n",
       "      <td>0.000025</td>\n",
       "      <td>False</td>\n",
       "    </tr>\n",
       "    <tr>\n",
       "      <th>23</th>\n",
       "      <td>1.174700</td>\n",
       "      <td>0.077295</td>\n",
       "      <td>dummy_constant</td>\n",
       "      <td>1.174700</td>\n",
       "      <td>0.077295</td>\n",
       "      <td>0.336249</td>\n",
       "      <td>0.633900</td>\n",
       "      <td>0.000025</td>\n",
       "      <td>False</td>\n",
       "    </tr>\n",
       "    <tr>\n",
       "      <th>24</th>\n",
       "      <td>0.068155</td>\n",
       "      <td>1.049268</td>\n",
       "      <td>dummy_constant</td>\n",
       "      <td>0.068155</td>\n",
       "      <td>1.049268</td>\n",
       "      <td>0.054798</td>\n",
       "      <td>0.488185</td>\n",
       "      <td>0.000026</td>\n",
       "      <td>False</td>\n",
       "    </tr>\n",
       "    <tr>\n",
       "      <th>25</th>\n",
       "      <td>0.085706</td>\n",
       "      <td>1.233066</td>\n",
       "      <td>dummy_constant</td>\n",
       "      <td>0.085706</td>\n",
       "      <td>1.233066</td>\n",
       "      <td>0.483358</td>\n",
       "      <td>0.709025</td>\n",
       "      <td>0.000024</td>\n",
       "      <td>False</td>\n",
       "    </tr>\n",
       "    <tr>\n",
       "      <th>26</th>\n",
       "      <td>0.029283</td>\n",
       "      <td>0.841682</td>\n",
       "      <td>dummy_constant</td>\n",
       "      <td>0.029283</td>\n",
       "      <td>0.841682</td>\n",
       "      <td>-0.375628</td>\n",
       "      <td>0.338321</td>\n",
       "      <td>0.000025</td>\n",
       "      <td>False</td>\n",
       "    </tr>\n",
       "    <tr>\n",
       "      <th>27</th>\n",
       "      <td>1.048151</td>\n",
       "      <td>0.075063</td>\n",
       "      <td>dummy_constant</td>\n",
       "      <td>1.048151</td>\n",
       "      <td>0.075063</td>\n",
       "      <td>0.062849</td>\n",
       "      <td>0.481040</td>\n",
       "      <td>0.000026</td>\n",
       "      <td>False</td>\n",
       "    </tr>\n",
       "    <tr>\n",
       "      <th>28</th>\n",
       "      <td>0.396976</td>\n",
       "      <td>0.920010</td>\n",
       "      <td>dummy_constant</td>\n",
       "      <td>0.396976</td>\n",
       "      <td>0.920010</td>\n",
       "      <td>-0.093256</td>\n",
       "      <td>0.187022</td>\n",
       "      <td>0.000026</td>\n",
       "      <td>False</td>\n",
       "    </tr>\n",
       "    <tr>\n",
       "      <th>29</th>\n",
       "      <td>0.499089</td>\n",
       "      <td>0.881570</td>\n",
       "      <td>dummy_constant</td>\n",
       "      <td>0.499089</td>\n",
       "      <td>0.881570</td>\n",
       "      <td>0.064124</td>\n",
       "      <td>0.145597</td>\n",
       "      <td>0.000026</td>\n",
       "      <td>False</td>\n",
       "    </tr>\n",
       "    <tr>\n",
       "      <th>30</th>\n",
       "      <td>0.121597</td>\n",
       "      <td>0.662786</td>\n",
       "      <td>dummy_constant</td>\n",
       "      <td>0.121597</td>\n",
       "      <td>0.662786</td>\n",
       "      <td>-0.448758</td>\n",
       "      <td>0.169688</td>\n",
       "      <td>0.000026</td>\n",
       "      <td>False</td>\n",
       "    </tr>\n",
       "    <tr>\n",
       "      <th>31</th>\n",
       "      <td>0.875884</td>\n",
       "      <td>0.589234</td>\n",
       "      <td>dummy_constant</td>\n",
       "      <td>0.875884</td>\n",
       "      <td>0.589234</td>\n",
       "      <td>0.214243</td>\n",
       "      <td>0.149251</td>\n",
       "      <td>0.000027</td>\n",
       "      <td>False</td>\n",
       "    </tr>\n",
       "  </tbody>\n",
       "</table>\n",
       "</div>"
      ],
      "text/plain": [
       "          x1        x2               a        y1        y2        c1  \\\n",
       "0   1.000000  0.750000  dummy_constant  1.000000  0.750000  0.626888   \n",
       "1   0.750000  1.000000  dummy_constant  0.750000  1.000000  0.626888   \n",
       "2   1.362365  2.476605  dummy_constant  1.362365  2.476605  7.008757   \n",
       "3   0.113292  0.337958  dummy_constant  0.113292  0.337958 -0.917598   \n",
       "4   0.123120  0.000000  dummy_constant  0.123120  0.000000 -1.084842   \n",
       "5   0.718207  0.000000  dummy_constant  0.718207  0.000000 -0.584178   \n",
       "6   0.995446  0.422276  dummy_constant  0.995446  0.422276  0.070153   \n",
       "7   0.506089  0.993146  dummy_constant  0.506089  0.993146  0.211631   \n",
       "8   0.000000  0.931858  dummy_constant  0.000000  0.931858 -0.231641   \n",
       "9   0.722141  0.751122  dummy_constant  0.722141  0.751122 -0.009417   \n",
       "10  1.095773  0.175526  dummy_constant  1.095773  0.175526  0.314048   \n",
       "11  3.141590  0.000000  dummy_constant  3.141590  0.000000  8.769588   \n",
       "12  0.211834  1.068776  dummy_constant  0.211834  1.068776  0.287150   \n",
       "13  0.801966  0.740405  dummy_constant  0.801966  0.740405  0.111036   \n",
       "14  0.075189  1.024490  dummy_constant  0.075189  1.024490  0.016418   \n",
       "15  1.011921  0.053864  dummy_constant  1.011921  0.053864 -0.039047   \n",
       "16  0.556669  0.893046  dummy_constant  0.556669  0.893046  0.194865   \n",
       "17  0.612523  0.829876  dummy_constant  0.612523  0.829876  0.137145   \n",
       "18  0.930908  0.396366  dummy_constant  0.930908  0.396366 -0.075069   \n",
       "19  0.291384  0.940055  dummy_constant  0.291384  0.940055 -0.041055   \n",
       "20  0.159615  1.463505  dummy_constant  0.159615  1.463505  1.183980   \n",
       "21  0.237733  0.824769  dummy_constant  0.237733  0.824769 -0.241197   \n",
       "22  0.022904  1.201526  dummy_constant  0.022904  1.201526  0.348805   \n",
       "23  1.174700  0.077295  dummy_constant  1.174700  0.077295  0.336249   \n",
       "24  0.068155  1.049268  dummy_constant  0.068155  1.049268  0.054798   \n",
       "25  0.085706  1.233066  dummy_constant  0.085706  1.233066  0.483358   \n",
       "26  0.029283  0.841682  dummy_constant  0.029283  0.841682 -0.375628   \n",
       "27  1.048151  0.075063  dummy_constant  1.048151  0.075063  0.062849   \n",
       "28  0.396976  0.920010  dummy_constant  0.396976  0.920010 -0.093256   \n",
       "29  0.499089  0.881570  dummy_constant  0.499089  0.881570  0.064124   \n",
       "30  0.121597  0.662786  dummy_constant  0.121597  0.662786 -0.448758   \n",
       "31  0.875884  0.589234  dummy_constant  0.875884  0.589234  0.214243   \n",
       "\n",
       "          c2  xopt_runtime  xopt_error  \n",
       "0   0.312500      0.000050       False  \n",
       "1   0.312500      0.000012       False  \n",
       "2   4.650639      0.000026       False  \n",
       "3   0.175801      0.000024       False  \n",
       "4   0.392039      0.000024       False  \n",
       "5   0.297614      0.000023       False  \n",
       "6   0.251508      0.000026       False  \n",
       "7   0.243230      0.000025       False  \n",
       "8   0.436501      0.000026       False  \n",
       "9   0.112409      0.000025       False  \n",
       "10  0.460229      0.000025       False  \n",
       "11  7.227998      0.000025       False  \n",
       "12  0.406546      0.000027       False  \n",
       "13  0.148978      0.000026       False  \n",
       "14  0.455555      0.000027       False  \n",
       "15  0.461101      0.000025       False  \n",
       "16  0.157696      0.000025       False  \n",
       "17  0.121480      0.000027       False  \n",
       "18  0.196421      0.000022       False  \n",
       "19  0.237169      0.000026       False  \n",
       "20  1.044204      0.000024       False  \n",
       "21  0.174259      0.000025       False  \n",
       "22  0.719759      0.000025       False  \n",
       "23  0.633900      0.000025       False  \n",
       "24  0.488185      0.000026       False  \n",
       "25  0.709025      0.000024       False  \n",
       "26  0.338321      0.000025       False  \n",
       "27  0.481040      0.000026       False  \n",
       "28  0.187022      0.000026       False  \n",
       "29  0.145597      0.000026       False  \n",
       "30  0.169688      0.000026       False  \n",
       "31  0.149251      0.000027       False  "
      ]
     },
     "execution_count": 3,
     "metadata": {},
     "output_type": "execute_result"
    }
   ],
   "source": [
    "X.generator.data"
   ]
  },
  {
   "cell_type": "markdown",
   "metadata": {
    "collapsed": false
   },
   "source": [
    "## plot results\n"
   ]
  },
  {
   "cell_type": "code",
   "execution_count": 4,
   "metadata": {
    "collapsed": false,
    "execution": {
     "iopub.execute_input": "2024-02-23T22:04:28.022076Z",
     "iopub.status.busy": "2024-02-23T22:04:28.021678Z",
     "iopub.status.idle": "2024-02-23T22:04:28.549913Z",
     "shell.execute_reply": "2024-02-23T22:04:28.549315Z"
    }
   },
   "outputs": [
    {
     "data": {
      "image/png": "[encoded data removed]",
      "text/plain": [
       "<Figure size 640x480 with 1 Axes>"
      ]
     },
     "metadata": {},
     "output_type": "display_data"
    }
   ],
   "source": [
    "import matplotlib.pyplot as plt\n",
    "\n",
    "fig, ax = plt.subplots()\n",
    "\n",
    "theta = np.linspace(0, np.pi / 2)\n",
    "r = np.sqrt(1 + 0.1 * np.cos(16 * theta))\n",
    "x_1 = r * np.sin(theta)\n",
    "x_2_lower = r * np.cos(theta)\n",
    "x_2_upper = (0.5 - (x_1 - 0.5) ** 2) ** 0.5 + 0.5\n",
    "\n",
    "z = np.zeros_like(x_1)\n",
    "\n",
    "# ax2.plot(x_1, x_2_lower,'r')\n",
    "ax.fill_between(x_1, z, x_2_lower, fc=\"white\")\n",
    "circle = plt.Circle(\n",
    "    (0.5, 0.5), 0.5 ** 0.5, color=\"r\", alpha=0.25, zorder=0, label=\"Valid Region\"\n",
    ")\n",
    "ax.add_patch(circle)\n",
    "history = pd.concat(\n",
    "    [X.data, tnk_vocs.feasibility_data(X.data)], axis=1, ignore_index=False\n",
    ")\n",
    "\n",
    "\n",
    "ax.plot(*history[[\"x1\", \"x2\"]][history[\"feasible\"]].to_numpy().T, \".C1\")\n",
    "ax.plot(*history[[\"x1\", \"x2\"]][~history[\"feasible\"]].to_numpy().T, \".C2\")\n",
    "\n",
    "ax.set_xlim(0, 3.14)\n",
    "ax.set_ylim(0, 3.14)\n",
    "ax.set_xlabel(\"x1\")\n",
    "ax.set_ylabel(\"x2\")\n",
    "ax.set_aspect(\"equal\")"
   ]
  },
  {
   "cell_type": "markdown",
   "metadata": {
    "collapsed": false
   },
   "source": [
    "### Plot path through input space"
   ]
  },
  {
   "cell_type": "code",
   "execution_count": 5,
   "metadata": {
    "collapsed": false,
    "execution": {
     "iopub.execute_input": "2024-02-23T22:04:28.552360Z",
     "iopub.status.busy": "2024-02-23T22:04:28.552071Z",
     "iopub.status.idle": "2024-02-23T22:04:28.671477Z",
     "shell.execute_reply": "2024-02-23T22:04:28.670848Z"
    }
   },
   "outputs": [
    {
     "data": {
      "image/png": "[encoded data removed]",
      "text/plain": [
       "<Figure size 640x480 with 1 Axes>"
      ]
     },
     "metadata": {},
     "output_type": "display_data"
    }
   ],
   "source": [
    "ax = history.plot(\"x1\", \"x2\")\n",
    "ax.set_ylim(0, 3.14)\n",
    "ax.set_xlim(0, 3.14)\n",
    "ax.set_aspect(\"equal\")"
   ]
  },
  {
   "cell_type": "code",
   "execution_count": 6,
   "metadata": {
    "collapsed": false,
    "execution": {
     "iopub.execute_input": "2024-02-23T22:04:28.673736Z",
     "iopub.status.busy": "2024-02-23T22:04:28.673534Z",
     "iopub.status.idle": "2024-02-23T22:04:41.258705Z",
     "shell.execute_reply": "2024-02-23T22:04:41.258091Z"
    }
   },
   "outputs": [
    {
     "name": "stdout",
     "output_type": "stream",
     "text": [
      "[[0.52849092 0.7910534 ]]\n"
     ]
    },
    {
     "data": {
      "text/plain": [
       "[<matplotlib.lines.Line2D at 0x7f3ae1e96580>]"
      ]
     },
     "execution_count": 6,
     "metadata": {},
     "output_type": "execute_result"
    },
    {
     "data": {
      "image/png": "[encoded data removed]",
      "text/plain": [
       "<Figure size 640x480 with 2 Axes>"
      ]
     },
     "metadata": {},
     "output_type": "display_data"
    },
    {
     "data": {
      "image/png": "[encoded data removed]",
      "text/plain": [
       "<Figure size 640x480 with 2 Axes>"
      ]
     },
     "metadata": {},
     "output_type": "display_data"
    }
   ],
   "source": [
    "# plot the acquisition function\n",
    "from xopt.generators.bayesian.objectives import feasibility\n",
    "\n",
    "bounds = X.generator.vocs.bounds\n",
    "model = X.generator.model\n",
    "\n",
    "# create mesh\n",
    "n = 200\n",
    "x = torch.linspace(*bounds.T[0], n)\n",
    "y = torch.linspace(*bounds.T[1], n)\n",
    "xx, yy = torch.meshgrid(x, y)\n",
    "pts = torch.hstack([ele.reshape(-1, 1) for ele in (xx, yy)]).double()\n",
    "\n",
    "xx, yy = xx.numpy(), yy.numpy()\n",
    "\n",
    "acq_func = X.generator.get_acquisition(model)\n",
    "with torch.no_grad():\n",
    "    acq_pts = pts.unsqueeze(1)\n",
    "    acq = acq_func(acq_pts)\n",
    "\n",
    "    fig, ax = plt.subplots()\n",
    "    c = ax.pcolor(xx, yy, acq.reshape(n, n), cmap=\"Blues\")\n",
    "    fig.colorbar(c)\n",
    "    ax.set_title(\"Acquisition function\")\n",
    "\n",
    "    ax.plot(*history[[\"x1\", \"x2\"]][history[\"feasible\"]].to_numpy().T, \".C1\")\n",
    "    ax.plot(*history[[\"x1\", \"x2\"]][~history[\"feasible\"]].to_numpy().T, \".C2\")\n",
    "\n",
    "    ax.plot(*history[[\"x1\", \"x2\"]].to_numpy()[-1].T, \"+\")\n",
    "\n",
    "    feas = feasibility(pts.unsqueeze(1), model, tnk_vocs).flatten()\n",
    "\n",
    "    fig2, ax2 = plt.subplots()\n",
    "    c = ax2.pcolor(xx, yy, feas.reshape(n, n))\n",
    "    fig2.colorbar(c)\n",
    "    ax2.set_title(\"Feasible Region\")\n",
    "\n",
    "candidate = pd.DataFrame(X.generator.generate(1), index=[0])\n",
    "print(candidate[[\"x1\", \"x2\"]].to_numpy())\n",
    "ax.plot(*candidate[[\"x1\", \"x2\"]].to_numpy()[0], \"o\")"
   ]
  },
  {
   "cell_type": "code",
   "execution_count": 7,
   "metadata": {
    "collapsed": false,
    "execution": {
     "iopub.execute_input": "2024-02-23T22:04:41.261154Z",
     "iopub.status.busy": "2024-02-23T22:04:41.260780Z",
     "iopub.status.idle": "2024-02-23T22:04:42.293757Z",
     "shell.execute_reply": "2024-02-23T22:04:42.293079Z"
    }
   },
   "outputs": [
    {
     "name": "stdout",
     "output_type": "stream",
     "text": [
      "CPU times: user 2 s, sys: 55.5 ms, total: 2.06 s\n",
      "Wall time: 1.03 s\n"
     ]
    }
   ],
   "source": [
    "%%time\n",
    "candidate = X.generator.generate(1)"
   ]
  }
 ],
 "metadata": {
  "interpreter": {
   "hash": "72034539424920dfb606fe3b820b3f27dca0cbf1c69938110810ec4641e275b1"
  },
  "kernelspec": {
   "display_name": "Python 3 (ipykernel)",
   "language": "python",
   "name": "python3"
  },
  "language_info": {
   "codemirror_mode": {
    "name": "ipython",
    "version": 3
   },
   "file_extension": ".py",
   "mimetype": "text/x-python",
   "name": "python",
   "nbconvert_exporter": "python",
   "pygments_lexer": "ipython3",
   "version": "3.9.18"
  }
 },
 "nbformat": 4,
 "nbformat_minor": 4
}
