{
 "cells": [
  {
   "cell_type": "markdown",
   "metadata": {},
   "source": [
    "\n",
    "# Multi-objective Bayesian Optimization\n",
    "\n",
    "\n",
    "TNK function\n",
    "$n=2$ variables:\n",
    "$x_i \\in [0, \\pi], i=1,2$\n",
    "\n",
    "Objectives:\n",
    "- $f_i(x) = x_i$\n",
    "\n",
    "Constraints:\n",
    "- $g_1(x) = -x_1^2 -x_2^2 + 1 + 0.1 \\cos\\left(16 \\arctan \\frac{x_1}{x_2}\\right) \\le 0$\n",
    "- $g_2(x) = (x_1 - 1/2)^2 + (x_2-1/2)^2 \\le 0.5$"
   ]
  },
  {
   "cell_type": "code",
   "execution_count": 1,
   "metadata": {
    "collapsed": false,
    "execution": {
     "iopub.execute_input": "2024-01-23T15:27:07.630946Z",
     "iopub.status.busy": "2024-01-23T15:27:07.630526Z",
     "iopub.status.idle": "2024-01-23T15:27:09.735259Z",
     "shell.execute_reply": "2024-01-23T15:27:09.734634Z"
    }
   },
   "outputs": [
    {
     "name": "stdout",
     "output_type": "stream",
     "text": [
      "{'variables': {'x1': [0.0, 3.14159], 'x2': [0.0, 3.14159]}, 'constraints': {'c1': ['GREATER_THAN', 0.0], 'c2': ['LESS_THAN', 0.5]}, 'objectives': {'y1': 'MINIMIZE', 'y2': 'MINIMIZE'}, 'constants': {'a': 'dummy_constant'}, 'observables': []}\n"
     ]
    }
   ],
   "source": [
    "# set values if testing\n",
    "import os\n",
    "SMOKE_TEST = os.environ.get(\"SMOKE_TEST\")\n",
    "N_MC_SAMPLES = 1 if SMOKE_TEST else 128\n",
    "NUM_RESTARTS = 1 if SMOKE_TEST else 20\n",
    "N_STEPS = 1 if SMOKE_TEST else 30\n",
    "\n",
    "# Ignore all warnings\n",
    "import warnings\n",
    "warnings.filterwarnings(\"ignore\")\n",
    "\n",
    "\n",
    "import pandas as pd\n",
    "import numpy as np\n",
    "import torch\n",
    "\n",
    "from xopt import Xopt, Evaluator\n",
    "from xopt.generators.bayesian import MOBOGenerator\n",
    "from xopt.resources.test_functions.tnk import evaluate_TNK, tnk_vocs\n",
    "\n",
    "\n",
    "evaluator = Evaluator(function=evaluate_TNK)\n",
    "print(tnk_vocs.dict())"
   ]
  },
  {
   "cell_type": "code",
   "execution_count": 2,
   "metadata": {
    "collapsed": false,
    "execution": {
     "iopub.execute_input": "2024-01-23T15:27:09.764369Z",
     "iopub.status.busy": "2024-01-23T15:27:09.763899Z",
     "iopub.status.idle": "2024-01-23T15:27:40.431826Z",
     "shell.execute_reply": "2024-01-23T15:27:40.431263Z"
    }
   },
   "outputs": [
    {
     "name": "stdout",
     "output_type": "stream",
     "text": [
      "0\n"
     ]
    },
    {
     "name": "stdout",
     "output_type": "stream",
     "text": [
      "1\n"
     ]
    },
    {
     "name": "stdout",
     "output_type": "stream",
     "text": [
      "2\n"
     ]
    },
    {
     "name": "stdout",
     "output_type": "stream",
     "text": [
      "3\n"
     ]
    },
    {
     "name": "stdout",
     "output_type": "stream",
     "text": [
      "4\n"
     ]
    },
    {
     "name": "stdout",
     "output_type": "stream",
     "text": [
      "5\n"
     ]
    },
    {
     "name": "stdout",
     "output_type": "stream",
     "text": [
      "6\n"
     ]
    },
    {
     "name": "stdout",
     "output_type": "stream",
     "text": [
      "7\n"
     ]
    },
    {
     "name": "stdout",
     "output_type": "stream",
     "text": [
      "8\n"
     ]
    },
    {
     "name": "stdout",
     "output_type": "stream",
     "text": [
      "9\n"
     ]
    },
    {
     "name": "stdout",
     "output_type": "stream",
     "text": [
      "10\n"
     ]
    },
    {
     "name": "stdout",
     "output_type": "stream",
     "text": [
      "11\n"
     ]
    },
    {
     "name": "stdout",
     "output_type": "stream",
     "text": [
      "12\n"
     ]
    },
    {
     "name": "stdout",
     "output_type": "stream",
     "text": [
      "13\n"
     ]
    },
    {
     "name": "stdout",
     "output_type": "stream",
     "text": [
      "14\n"
     ]
    },
    {
     "name": "stdout",
     "output_type": "stream",
     "text": [
      "15\n"
     ]
    },
    {
     "name": "stdout",
     "output_type": "stream",
     "text": [
      "16\n"
     ]
    },
    {
     "name": "stdout",
     "output_type": "stream",
     "text": [
      "17\n"
     ]
    },
    {
     "name": "stdout",
     "output_type": "stream",
     "text": [
      "18\n"
     ]
    },
    {
     "name": "stdout",
     "output_type": "stream",
     "text": [
      "19\n"
     ]
    },
    {
     "name": "stdout",
     "output_type": "stream",
     "text": [
      "20\n"
     ]
    },
    {
     "name": "stdout",
     "output_type": "stream",
     "text": [
      "21\n"
     ]
    },
    {
     "name": "stdout",
     "output_type": "stream",
     "text": [
      "22\n"
     ]
    },
    {
     "name": "stdout",
     "output_type": "stream",
     "text": [
      "23\n"
     ]
    },
    {
     "name": "stdout",
     "output_type": "stream",
     "text": [
      "24\n"
     ]
    },
    {
     "name": "stdout",
     "output_type": "stream",
     "text": [
      "25\n"
     ]
    },
    {
     "name": "stdout",
     "output_type": "stream",
     "text": [
      "26\n"
     ]
    },
    {
     "name": "stdout",
     "output_type": "stream",
     "text": [
      "27\n"
     ]
    },
    {
     "name": "stdout",
     "output_type": "stream",
     "text": [
      "28\n"
     ]
    },
    {
     "name": "stdout",
     "output_type": "stream",
     "text": [
      "29\n"
     ]
    }
   ],
   "source": [
    "generator = MOBOGenerator(vocs=tnk_vocs, reference_point = {\"y1\":1.5,\"y2\":1.5})\n",
    "generator.n_monte_carlo_samples = N_MC_SAMPLES\n",
    "generator.numerical_optimizer.n_restarts = NUM_RESTARTS\n",
    "\n",
    "X = Xopt(generator=generator, evaluator=evaluator, vocs=tnk_vocs)\n",
    "X.evaluate_data(pd.DataFrame({\"x1\":[1.0, 0.75],\"x2\":[0.75, 1.0]}))\n",
    "\n",
    "for i in range(N_STEPS):\n",
    "    print(i)\n",
    "    X.step()"
   ]
  },
  {
   "cell_type": "code",
   "execution_count": 3,
   "metadata": {
    "collapsed": false,
    "execution": {
     "iopub.execute_input": "2024-01-23T15:27:40.434795Z",
     "iopub.status.busy": "2024-01-23T15:27:40.434354Z",
     "iopub.status.idle": "2024-01-23T15:27:40.449069Z",
     "shell.execute_reply": "2024-01-23T15:27:40.448548Z"
    }
   },
   "outputs": [
    {
     "data": {
      "text/html": [
       "<div>\n",
       "<style scoped>\n",
       "    .dataframe tbody tr th:only-of-type {\n",
       "        vertical-align: middle;\n",
       "    }\n",
       "\n",
       "    .dataframe tbody tr th {\n",
       "        vertical-align: top;\n",
       "    }\n",
       "\n",
       "    .dataframe thead th {\n",
       "        text-align: right;\n",
       "    }\n",
       "</style>\n",
       "<table border=\"1\" class=\"dataframe\">\n",
       "  <thead>\n",
       "    <tr style=\"text-align: right;\">\n",
       "      <th></th>\n",
       "      <th>x1</th>\n",
       "      <th>x2</th>\n",
       "      <th>a</th>\n",
       "      <th>y1</th>\n",
       "      <th>y2</th>\n",
       "      <th>c1</th>\n",
       "      <th>c2</th>\n",
       "      <th>xopt_runtime</th>\n",
       "      <th>xopt_error</th>\n",
       "    </tr>\n",
       "  </thead>\n",
       "  <tbody>\n",
       "    <tr>\n",
       "      <th>0</th>\n",
       "      <td>1.000000</td>\n",
       "      <td>0.750000</td>\n",
       "      <td>dummy_constant</td>\n",
       "      <td>1.000000</td>\n",
       "      <td>0.750000</td>\n",
       "      <td>0.626888</td>\n",
       "      <td>0.312500</td>\n",
       "      <td>0.000052</td>\n",
       "      <td>False</td>\n",
       "    </tr>\n",
       "    <tr>\n",
       "      <th>1</th>\n",
       "      <td>0.750000</td>\n",
       "      <td>1.000000</td>\n",
       "      <td>dummy_constant</td>\n",
       "      <td>0.750000</td>\n",
       "      <td>1.000000</td>\n",
       "      <td>0.626888</td>\n",
       "      <td>0.312500</td>\n",
       "      <td>0.000015</td>\n",
       "      <td>False</td>\n",
       "    </tr>\n",
       "    <tr>\n",
       "      <th>2</th>\n",
       "      <td>2.348629</td>\n",
       "      <td>0.000000</td>\n",
       "      <td>dummy_constant</td>\n",
       "      <td>2.348629</td>\n",
       "      <td>0.000000</td>\n",
       "      <td>4.416057</td>\n",
       "      <td>3.667428</td>\n",
       "      <td>0.000023</td>\n",
       "      <td>False</td>\n",
       "    </tr>\n",
       "    <tr>\n",
       "      <th>3</th>\n",
       "      <td>1.520068</td>\n",
       "      <td>3.141590</td>\n",
       "      <td>dummy_constant</td>\n",
       "      <td>1.520068</td>\n",
       "      <td>3.141590</td>\n",
       "      <td>11.120186</td>\n",
       "      <td>8.018537</td>\n",
       "      <td>0.000024</td>\n",
       "      <td>False</td>\n",
       "    </tr>\n",
       "    <tr>\n",
       "      <th>4</th>\n",
       "      <td>0.311763</td>\n",
       "      <td>0.496776</td>\n",
       "      <td>dummy_constant</td>\n",
       "      <td>0.311763</td>\n",
       "      <td>0.496776</td>\n",
       "      <td>-0.566306</td>\n",
       "      <td>0.035443</td>\n",
       "      <td>0.000023</td>\n",
       "      <td>False</td>\n",
       "    </tr>\n",
       "    <tr>\n",
       "      <th>5</th>\n",
       "      <td>0.174249</td>\n",
       "      <td>0.200028</td>\n",
       "      <td>dummy_constant</td>\n",
       "      <td>0.174249</td>\n",
       "      <td>0.200028</td>\n",
       "      <td>-0.974963</td>\n",
       "      <td>0.196097</td>\n",
       "      <td>0.000024</td>\n",
       "      <td>False</td>\n",
       "    </tr>\n",
       "    <tr>\n",
       "      <th>6</th>\n",
       "      <td>0.217191</td>\n",
       "      <td>0.787154</td>\n",
       "      <td>dummy_constant</td>\n",
       "      <td>0.217191</td>\n",
       "      <td>0.787154</td>\n",
       "      <td>-0.293828</td>\n",
       "      <td>0.162438</td>\n",
       "      <td>0.000024</td>\n",
       "      <td>False</td>\n",
       "    </tr>\n",
       "    <tr>\n",
       "      <th>7</th>\n",
       "      <td>0.615104</td>\n",
       "      <td>0.000000</td>\n",
       "      <td>dummy_constant</td>\n",
       "      <td>0.615104</td>\n",
       "      <td>0.000000</td>\n",
       "      <td>-0.721648</td>\n",
       "      <td>0.263249</td>\n",
       "      <td>0.000024</td>\n",
       "      <td>False</td>\n",
       "    </tr>\n",
       "    <tr>\n",
       "      <th>8</th>\n",
       "      <td>0.319148</td>\n",
       "      <td>1.021443</td>\n",
       "      <td>dummy_constant</td>\n",
       "      <td>0.319148</td>\n",
       "      <td>1.021443</td>\n",
       "      <td>0.131938</td>\n",
       "      <td>0.304610</td>\n",
       "      <td>0.000026</td>\n",
       "      <td>False</td>\n",
       "    </tr>\n",
       "    <tr>\n",
       "      <th>9</th>\n",
       "      <td>0.989538</td>\n",
       "      <td>0.423948</td>\n",
       "      <td>dummy_constant</td>\n",
       "      <td>0.989538</td>\n",
       "      <td>0.423948</td>\n",
       "      <td>0.060776</td>\n",
       "      <td>0.245431</td>\n",
       "      <td>0.000024</td>\n",
       "      <td>False</td>\n",
       "    </tr>\n",
       "    <tr>\n",
       "      <th>10</th>\n",
       "      <td>0.652099</td>\n",
       "      <td>0.781319</td>\n",
       "      <td>dummy_constant</td>\n",
       "      <td>0.652099</td>\n",
       "      <td>0.781319</td>\n",
       "      <td>0.022498</td>\n",
       "      <td>0.102274</td>\n",
       "      <td>0.000023</td>\n",
       "      <td>False</td>\n",
       "    </tr>\n",
       "    <tr>\n",
       "      <th>11</th>\n",
       "      <td>0.338885</td>\n",
       "      <td>1.190329</td>\n",
       "      <td>dummy_constant</td>\n",
       "      <td>0.338885</td>\n",
       "      <td>1.190329</td>\n",
       "      <td>0.558844</td>\n",
       "      <td>0.502512</td>\n",
       "      <td>0.000025</td>\n",
       "      <td>False</td>\n",
       "    </tr>\n",
       "    <tr>\n",
       "      <th>12</th>\n",
       "      <td>0.842281</td>\n",
       "      <td>0.629932</td>\n",
       "      <td>dummy_constant</td>\n",
       "      <td>0.842281</td>\n",
       "      <td>0.629932</td>\n",
       "      <td>0.172281</td>\n",
       "      <td>0.134039</td>\n",
       "      <td>0.000024</td>\n",
       "      <td>False</td>\n",
       "    </tr>\n",
       "    <tr>\n",
       "      <th>13</th>\n",
       "      <td>0.889680</td>\n",
       "      <td>0.509518</td>\n",
       "      <td>dummy_constant</td>\n",
       "      <td>0.889680</td>\n",
       "      <td>0.509518</td>\n",
       "      <td>0.096220</td>\n",
       "      <td>0.151941</td>\n",
       "      <td>0.000025</td>\n",
       "      <td>False</td>\n",
       "    </tr>\n",
       "    <tr>\n",
       "      <th>14</th>\n",
       "      <td>0.288135</td>\n",
       "      <td>1.330704</td>\n",
       "      <td>dummy_constant</td>\n",
       "      <td>0.288135</td>\n",
       "      <td>1.330704</td>\n",
       "      <td>0.950168</td>\n",
       "      <td>0.734956</td>\n",
       "      <td>0.000024</td>\n",
       "      <td>False</td>\n",
       "    </tr>\n",
       "    <tr>\n",
       "      <th>15</th>\n",
       "      <td>0.363176</td>\n",
       "      <td>0.252208</td>\n",
       "      <td>dummy_constant</td>\n",
       "      <td>0.363176</td>\n",
       "      <td>0.252208</td>\n",
       "      <td>-0.708587</td>\n",
       "      <td>0.080122</td>\n",
       "      <td>0.000024</td>\n",
       "      <td>False</td>\n",
       "    </tr>\n",
       "    <tr>\n",
       "      <th>16</th>\n",
       "      <td>0.774330</td>\n",
       "      <td>0.610002</td>\n",
       "      <td>dummy_constant</td>\n",
       "      <td>0.774330</td>\n",
       "      <td>0.610002</td>\n",
       "      <td>0.003113</td>\n",
       "      <td>0.087358</td>\n",
       "      <td>0.000025</td>\n",
       "      <td>False</td>\n",
       "    </tr>\n",
       "    <tr>\n",
       "      <th>17</th>\n",
       "      <td>0.163050</td>\n",
       "      <td>0.876318</td>\n",
       "      <td>dummy_constant</td>\n",
       "      <td>0.163050</td>\n",
       "      <td>0.876318</td>\n",
       "      <td>-0.107440</td>\n",
       "      <td>0.255150</td>\n",
       "      <td>0.000025</td>\n",
       "      <td>False</td>\n",
       "    </tr>\n",
       "    <tr>\n",
       "      <th>18</th>\n",
       "      <td>0.027070</td>\n",
       "      <td>0.963792</td>\n",
       "      <td>dummy_constant</td>\n",
       "      <td>0.027070</td>\n",
       "      <td>0.963792</td>\n",
       "      <td>-0.160449</td>\n",
       "      <td>0.438765</td>\n",
       "      <td>0.000026</td>\n",
       "      <td>False</td>\n",
       "    </tr>\n",
       "    <tr>\n",
       "      <th>19</th>\n",
       "      <td>0.092187</td>\n",
       "      <td>1.045406</td>\n",
       "      <td>dummy_constant</td>\n",
       "      <td>0.092187</td>\n",
       "      <td>1.045406</td>\n",
       "      <td>0.085093</td>\n",
       "      <td>0.463779</td>\n",
       "      <td>0.000026</td>\n",
       "      <td>False</td>\n",
       "    </tr>\n",
       "    <tr>\n",
       "      <th>20</th>\n",
       "      <td>1.087456</td>\n",
       "      <td>0.235589</td>\n",
       "      <td>dummy_constant</td>\n",
       "      <td>1.087456</td>\n",
       "      <td>0.235589</td>\n",
       "      <td>0.334389</td>\n",
       "      <td>0.415018</td>\n",
       "      <td>0.000032</td>\n",
       "      <td>False</td>\n",
       "    </tr>\n",
       "    <tr>\n",
       "      <th>21</th>\n",
       "      <td>0.775472</td>\n",
       "      <td>0.077394</td>\n",
       "      <td>dummy_constant</td>\n",
       "      <td>0.775472</td>\n",
       "      <td>0.077394</td>\n",
       "      <td>-0.390575</td>\n",
       "      <td>0.254480</td>\n",
       "      <td>0.000025</td>\n",
       "      <td>False</td>\n",
       "    </tr>\n",
       "    <tr>\n",
       "      <th>22</th>\n",
       "      <td>0.659340</td>\n",
       "      <td>0.607816</td>\n",
       "      <td>dummy_constant</td>\n",
       "      <td>0.659340</td>\n",
       "      <td>0.607816</td>\n",
       "      <td>-0.275427</td>\n",
       "      <td>0.037013</td>\n",
       "      <td>0.000025</td>\n",
       "      <td>False</td>\n",
       "    </tr>\n",
       "    <tr>\n",
       "      <th>23</th>\n",
       "      <td>0.165851</td>\n",
       "      <td>0.644569</td>\n",
       "      <td>dummy_constant</td>\n",
       "      <td>0.165851</td>\n",
       "      <td>0.644569</td>\n",
       "      <td>-0.493918</td>\n",
       "      <td>0.132556</td>\n",
       "      <td>0.000025</td>\n",
       "      <td>False</td>\n",
       "    </tr>\n",
       "    <tr>\n",
       "      <th>24</th>\n",
       "      <td>0.746736</td>\n",
       "      <td>0.704793</td>\n",
       "      <td>dummy_constant</td>\n",
       "      <td>0.746736</td>\n",
       "      <td>0.704793</td>\n",
       "      <td>-0.035159</td>\n",
       "      <td>0.102819</td>\n",
       "      <td>0.000026</td>\n",
       "      <td>False</td>\n",
       "    </tr>\n",
       "    <tr>\n",
       "      <th>25</th>\n",
       "      <td>1.412935</td>\n",
       "      <td>0.177032</td>\n",
       "      <td>dummy_constant</td>\n",
       "      <td>1.412935</td>\n",
       "      <td>0.177032</td>\n",
       "      <td>1.068821</td>\n",
       "      <td>0.937758</td>\n",
       "      <td>0.000027</td>\n",
       "      <td>False</td>\n",
       "    </tr>\n",
       "    <tr>\n",
       "      <th>26</th>\n",
       "      <td>0.610601</td>\n",
       "      <td>0.322307</td>\n",
       "      <td>dummy_constant</td>\n",
       "      <td>0.610601</td>\n",
       "      <td>0.322307</td>\n",
       "      <td>-0.531585</td>\n",
       "      <td>0.043807</td>\n",
       "      <td>0.000027</td>\n",
       "      <td>False</td>\n",
       "    </tr>\n",
       "    <tr>\n",
       "      <th>27</th>\n",
       "      <td>0.859080</td>\n",
       "      <td>0.324132</td>\n",
       "      <td>dummy_constant</td>\n",
       "      <td>0.859080</td>\n",
       "      <td>0.324132</td>\n",
       "      <td>-0.244166</td>\n",
       "      <td>0.159868</td>\n",
       "      <td>0.000026</td>\n",
       "      <td>False</td>\n",
       "    </tr>\n",
       "    <tr>\n",
       "      <th>28</th>\n",
       "      <td>0.069705</td>\n",
       "      <td>0.870324</td>\n",
       "      <td>dummy_constant</td>\n",
       "      <td>0.069705</td>\n",
       "      <td>0.870324</td>\n",
       "      <td>-0.266471</td>\n",
       "      <td>0.322293</td>\n",
       "      <td>0.000025</td>\n",
       "      <td>False</td>\n",
       "    </tr>\n",
       "    <tr>\n",
       "      <th>29</th>\n",
       "      <td>0.893472</td>\n",
       "      <td>0.292776</td>\n",
       "      <td>dummy_constant</td>\n",
       "      <td>0.893472</td>\n",
       "      <td>0.292776</td>\n",
       "      <td>-0.150667</td>\n",
       "      <td>0.197762</td>\n",
       "      <td>0.000026</td>\n",
       "      <td>False</td>\n",
       "    </tr>\n",
       "    <tr>\n",
       "      <th>30</th>\n",
       "      <td>0.563296</td>\n",
       "      <td>0.698321</td>\n",
       "      <td>dummy_constant</td>\n",
       "      <td>0.563296</td>\n",
       "      <td>0.698321</td>\n",
       "      <td>-0.181575</td>\n",
       "      <td>0.043338</td>\n",
       "      <td>0.000026</td>\n",
       "      <td>False</td>\n",
       "    </tr>\n",
       "    <tr>\n",
       "      <th>31</th>\n",
       "      <td>0.431007</td>\n",
       "      <td>0.922444</td>\n",
       "      <td>dummy_constant</td>\n",
       "      <td>0.431007</td>\n",
       "      <td>0.922444</td>\n",
       "      <td>-0.039138</td>\n",
       "      <td>0.183219</td>\n",
       "      <td>0.000026</td>\n",
       "      <td>False</td>\n",
       "    </tr>\n",
       "  </tbody>\n",
       "</table>\n",
       "</div>"
      ],
      "text/plain": [
       "          x1        x2               a        y1        y2         c1  \\\n",
       "0   1.000000  0.750000  dummy_constant  1.000000  0.750000   0.626888   \n",
       "1   0.750000  1.000000  dummy_constant  0.750000  1.000000   0.626888   \n",
       "2   2.348629  0.000000  dummy_constant  2.348629  0.000000   4.416057   \n",
       "3   1.520068  3.141590  dummy_constant  1.520068  3.141590  11.120186   \n",
       "4   0.311763  0.496776  dummy_constant  0.311763  0.496776  -0.566306   \n",
       "5   0.174249  0.200028  dummy_constant  0.174249  0.200028  -0.974963   \n",
       "6   0.217191  0.787154  dummy_constant  0.217191  0.787154  -0.293828   \n",
       "7   0.615104  0.000000  dummy_constant  0.615104  0.000000  -0.721648   \n",
       "8   0.319148  1.021443  dummy_constant  0.319148  1.021443   0.131938   \n",
       "9   0.989538  0.423948  dummy_constant  0.989538  0.423948   0.060776   \n",
       "10  0.652099  0.781319  dummy_constant  0.652099  0.781319   0.022498   \n",
       "11  0.338885  1.190329  dummy_constant  0.338885  1.190329   0.558844   \n",
       "12  0.842281  0.629932  dummy_constant  0.842281  0.629932   0.172281   \n",
       "13  0.889680  0.509518  dummy_constant  0.889680  0.509518   0.096220   \n",
       "14  0.288135  1.330704  dummy_constant  0.288135  1.330704   0.950168   \n",
       "15  0.363176  0.252208  dummy_constant  0.363176  0.252208  -0.708587   \n",
       "16  0.774330  0.610002  dummy_constant  0.774330  0.610002   0.003113   \n",
       "17  0.163050  0.876318  dummy_constant  0.163050  0.876318  -0.107440   \n",
       "18  0.027070  0.963792  dummy_constant  0.027070  0.963792  -0.160449   \n",
       "19  0.092187  1.045406  dummy_constant  0.092187  1.045406   0.085093   \n",
       "20  1.087456  0.235589  dummy_constant  1.087456  0.235589   0.334389   \n",
       "21  0.775472  0.077394  dummy_constant  0.775472  0.077394  -0.390575   \n",
       "22  0.659340  0.607816  dummy_constant  0.659340  0.607816  -0.275427   \n",
       "23  0.165851  0.644569  dummy_constant  0.165851  0.644569  -0.493918   \n",
       "24  0.746736  0.704793  dummy_constant  0.746736  0.704793  -0.035159   \n",
       "25  1.412935  0.177032  dummy_constant  1.412935  0.177032   1.068821   \n",
       "26  0.610601  0.322307  dummy_constant  0.610601  0.322307  -0.531585   \n",
       "27  0.859080  0.324132  dummy_constant  0.859080  0.324132  -0.244166   \n",
       "28  0.069705  0.870324  dummy_constant  0.069705  0.870324  -0.266471   \n",
       "29  0.893472  0.292776  dummy_constant  0.893472  0.292776  -0.150667   \n",
       "30  0.563296  0.698321  dummy_constant  0.563296  0.698321  -0.181575   \n",
       "31  0.431007  0.922444  dummy_constant  0.431007  0.922444  -0.039138   \n",
       "\n",
       "          c2  xopt_runtime  xopt_error  \n",
       "0   0.312500      0.000052       False  \n",
       "1   0.312500      0.000015       False  \n",
       "2   3.667428      0.000023       False  \n",
       "3   8.018537      0.000024       False  \n",
       "4   0.035443      0.000023       False  \n",
       "5   0.196097      0.000024       False  \n",
       "6   0.162438      0.000024       False  \n",
       "7   0.263249      0.000024       False  \n",
       "8   0.304610      0.000026       False  \n",
       "9   0.245431      0.000024       False  \n",
       "10  0.102274      0.000023       False  \n",
       "11  0.502512      0.000025       False  \n",
       "12  0.134039      0.000024       False  \n",
       "13  0.151941      0.000025       False  \n",
       "14  0.734956      0.000024       False  \n",
       "15  0.080122      0.000024       False  \n",
       "16  0.087358      0.000025       False  \n",
       "17  0.255150      0.000025       False  \n",
       "18  0.438765      0.000026       False  \n",
       "19  0.463779      0.000026       False  \n",
       "20  0.415018      0.000032       False  \n",
       "21  0.254480      0.000025       False  \n",
       "22  0.037013      0.000025       False  \n",
       "23  0.132556      0.000025       False  \n",
       "24  0.102819      0.000026       False  \n",
       "25  0.937758      0.000027       False  \n",
       "26  0.043807      0.000027       False  \n",
       "27  0.159868      0.000026       False  \n",
       "28  0.322293      0.000025       False  \n",
       "29  0.197762      0.000026       False  \n",
       "30  0.043338      0.000026       False  \n",
       "31  0.183219      0.000026       False  "
      ]
     },
     "execution_count": 3,
     "metadata": {},
     "output_type": "execute_result"
    }
   ],
   "source": [
    "X.generator.data"
   ]
  },
  {
   "cell_type": "markdown",
   "metadata": {
    "collapsed": false
   },
   "source": [
    "## plot results\n"
   ]
  },
  {
   "cell_type": "code",
   "execution_count": 4,
   "metadata": {
    "collapsed": false,
    "execution": {
     "iopub.execute_input": "2024-01-23T15:27:40.451395Z",
     "iopub.status.busy": "2024-01-23T15:27:40.451219Z",
     "iopub.status.idle": "2024-01-23T15:27:40.927382Z",
     "shell.execute_reply": "2024-01-23T15:27:40.926761Z"
    }
   },
   "outputs": [
    {
     "data": {
      "image/png": "[encoded data removed]",
      "text/plain": [
       "<Figure size 640x480 with 1 Axes>"
      ]
     },
     "metadata": {},
     "output_type": "display_data"
    }
   ],
   "source": [
    "import matplotlib.pyplot as plt\n",
    "\n",
    "fig, ax = plt.subplots()\n",
    "\n",
    "theta = np.linspace(0, np.pi / 2)\n",
    "r = np.sqrt(1 + 0.1 * np.cos(16 * theta))\n",
    "x_1 = r * np.sin(theta)\n",
    "x_2_lower = r * np.cos(theta)\n",
    "x_2_upper = (0.5 - (x_1 - 0.5) ** 2) ** 0.5 + 0.5\n",
    "\n",
    "z = np.zeros_like(x_1)\n",
    "\n",
    "# ax2.plot(x_1, x_2_lower,'r')\n",
    "ax.fill_between(x_1, z, x_2_lower, fc=\"white\")\n",
    "circle = plt.Circle(\n",
    "    (0.5, 0.5), 0.5 ** 0.5, color=\"r\", alpha=0.25, zorder=0, label=\"Valid Region\"\n",
    ")\n",
    "ax.add_patch(circle)\n",
    "history = pd.concat(\n",
    "    [X.data, tnk_vocs.feasibility_data(X.data)], axis=1, ignore_index=False\n",
    ")\n",
    "\n",
    "\n",
    "ax.plot(*history[[\"x1\", \"x2\"]][history[\"feasible\"]].to_numpy().T, \".C1\")\n",
    "ax.plot(*history[[\"x1\", \"x2\"]][~history[\"feasible\"]].to_numpy().T, \".C2\")\n",
    "\n",
    "ax.set_xlim(0, 3.14)\n",
    "ax.set_ylim(0, 3.14)\n",
    "ax.set_xlabel(\"x1\")\n",
    "ax.set_ylabel(\"x2\")\n",
    "ax.set_aspect(\"equal\")"
   ]
  },
  {
   "cell_type": "markdown",
   "metadata": {
    "collapsed": false
   },
   "source": [
    "### Plot path through input space"
   ]
  },
  {
   "cell_type": "code",
   "execution_count": 5,
   "metadata": {
    "collapsed": false,
    "execution": {
     "iopub.execute_input": "2024-01-23T15:27:40.929795Z",
     "iopub.status.busy": "2024-01-23T15:27:40.929518Z",
     "iopub.status.idle": "2024-01-23T15:27:41.048197Z",
     "shell.execute_reply": "2024-01-23T15:27:41.047563Z"
    }
   },
   "outputs": [
    {
     "data": {
      "image/png": "[encoded data removed]",
      "text/plain": [
       "<Figure size 640x480 with 1 Axes>"
      ]
     },
     "metadata": {},
     "output_type": "display_data"
    }
   ],
   "source": [
    "ax = history.plot(\"x1\", \"x2\")\n",
    "ax.set_ylim(0, 3.14)\n",
    "ax.set_xlim(0, 3.14)\n",
    "ax.set_aspect(\"equal\")"
   ]
  },
  {
   "cell_type": "code",
   "execution_count": 6,
   "metadata": {
    "collapsed": false,
    "execution": {
     "iopub.execute_input": "2024-01-23T15:27:41.050383Z",
     "iopub.status.busy": "2024-01-23T15:27:41.050201Z",
     "iopub.status.idle": "2024-01-23T15:27:50.849991Z",
     "shell.execute_reply": "2024-01-23T15:27:50.849343Z"
    }
   },
   "outputs": [
    {
     "name": "stdout",
     "output_type": "stream",
     "text": [
      "[[0.27374163 1.28923261]]\n"
     ]
    },
    {
     "data": {
      "text/plain": [
       "[<matplotlib.lines.Line2D at 0x7fdb38ac24f0>]"
      ]
     },
     "execution_count": 6,
     "metadata": {},
     "output_type": "execute_result"
    },
    {
     "data": {
      "image/png": "[encoded data removed]",
      "text/plain": [
       "<Figure size 640x480 with 2 Axes>"
      ]
     },
     "metadata": {},
     "output_type": "display_data"
    },
    {
     "data": {
      "image/png": "[encoded data removed]",
      "text/plain": [
       "<Figure size 640x480 with 2 Axes>"
      ]
     },
     "metadata": {},
     "output_type": "display_data"
    }
   ],
   "source": [
    "# plot the acquisition function\n",
    "from xopt.generators.bayesian.objectives import feasibility\n",
    "\n",
    "bounds = X.generator.vocs.bounds\n",
    "model = X.generator.model\n",
    "\n",
    "# create mesh\n",
    "n = 200\n",
    "x = torch.linspace(*bounds.T[0], n)\n",
    "y = torch.linspace(*bounds.T[1], n)\n",
    "xx, yy = torch.meshgrid(x, y)\n",
    "pts = torch.hstack([ele.reshape(-1, 1) for ele in (xx, yy)]).double()\n",
    "\n",
    "xx, yy = xx.numpy(), yy.numpy()\n",
    "\n",
    "acq_func = X.generator.get_acquisition(model)\n",
    "with torch.no_grad():\n",
    "    acq_pts = pts.unsqueeze(1)\n",
    "    acq = acq_func(acq_pts)\n",
    "\n",
    "    fig, ax = plt.subplots()\n",
    "    c = ax.pcolor(xx, yy, acq.reshape(n, n), cmap=\"Blues\")\n",
    "    fig.colorbar(c)\n",
    "    ax.set_title(\"Acquisition function\")\n",
    "\n",
    "    ax.plot(*history[[\"x1\", \"x2\"]][history[\"feasible\"]].to_numpy().T, \".C1\")\n",
    "    ax.plot(*history[[\"x1\", \"x2\"]][~history[\"feasible\"]].to_numpy().T, \".C2\")\n",
    "\n",
    "    ax.plot(*history[[\"x1\", \"x2\"]].to_numpy()[-1].T, \"+\")\n",
    "\n",
    "    feas = feasibility(pts.unsqueeze(1), model, tnk_vocs).flatten()\n",
    "\n",
    "    fig2, ax2 = plt.subplots()\n",
    "    c = ax2.pcolor(xx, yy, feas.reshape(n, n))\n",
    "    fig2.colorbar(c)\n",
    "    ax2.set_title(\"Feasible Region\")\n",
    "\n",
    "candidate = pd.DataFrame(X.generator.generate(1), index=[0])\n",
    "print(candidate[[\"x1\", \"x2\"]].to_numpy())\n",
    "ax.plot(*candidate[[\"x1\", \"x2\"]].to_numpy()[0], \"o\")"
   ]
  },
  {
   "cell_type": "code",
   "execution_count": 7,
   "metadata": {
    "collapsed": false,
    "execution": {
     "iopub.execute_input": "2024-01-23T15:27:50.852153Z",
     "iopub.status.busy": "2024-01-23T15:27:50.851975Z",
     "iopub.status.idle": "2024-01-23T15:27:51.506563Z",
     "shell.execute_reply": "2024-01-23T15:27:51.506009Z"
    }
   },
   "outputs": [
    {
     "name": "stdout",
     "output_type": "stream",
     "text": [
      "CPU times: user 1.25 s, sys: 51.8 ms, total: 1.3 s\n",
      "Wall time: 651 ms\n"
     ]
    }
   ],
   "source": [
    "%%time\n",
    "candidate = X.generator.generate(1)"
   ]
  }
 ],
 "metadata": {
  "interpreter": {
   "hash": "72034539424920dfb606fe3b820b3f27dca0cbf1c69938110810ec4641e275b1"
  },
  "kernelspec": {
   "display_name": "Python 3 (ipykernel)",
   "language": "python",
   "name": "python3"
  },
  "language_info": {
   "codemirror_mode": {
    "name": "ipython",
    "version": 3
   },
   "file_extension": ".py",
   "mimetype": "text/x-python",
   "name": "python",
   "nbconvert_exporter": "python",
   "pygments_lexer": "ipython3",
   "version": "3.9.18"
  }
 },
 "nbformat": 4,
 "nbformat_minor": 4
}
