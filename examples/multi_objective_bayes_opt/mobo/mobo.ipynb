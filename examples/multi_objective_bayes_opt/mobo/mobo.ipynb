{
 "cells": [
  {
   "cell_type": "markdown",
   "metadata": {},
   "source": [
    "\n",
    "# Multi-objective Bayesian Optimization\n",
    "\n",
    "\n",
    "TNK function\n",
    "$n=2$ variables:\n",
    "$x_i \\in [0, \\pi], i=1,2$\n",
    "\n",
    "Objectives:\n",
    "- $f_i(x) = x_i$\n",
    "\n",
    "Constraints:\n",
    "- $g_1(x) = -x_1^2 -x_2^2 + 1 + 0.1 \\cos\\left(16 \\arctan \\frac{x_1}{x_2}\\right) \\le 0$\n",
    "- $g_2(x) = (x_1 - 1/2)^2 + (x_2-1/2)^2 \\le 0.5$"
   ]
  },
  {
   "cell_type": "code",
   "execution_count": 1,
   "metadata": {
    "collapsed": false,
    "execution": {
     "iopub.execute_input": "2024-02-01T03:59:49.951241Z",
     "iopub.status.busy": "2024-02-01T03:59:49.951072Z",
     "iopub.status.idle": "2024-02-01T03:59:52.040899Z",
     "shell.execute_reply": "2024-02-01T03:59:52.040258Z"
    }
   },
   "outputs": [
    {
     "name": "stdout",
     "output_type": "stream",
     "text": [
      "{'variables': {'x1': [0.0, 3.14159], 'x2': [0.0, 3.14159]}, 'constraints': {'c1': ['GREATER_THAN', 0.0], 'c2': ['LESS_THAN', 0.5]}, 'objectives': {'y1': 'MINIMIZE', 'y2': 'MINIMIZE'}, 'constants': {'a': 'dummy_constant'}, 'observables': []}\n"
     ]
    }
   ],
   "source": [
    "# set values if testing\n",
    "import os\n",
    "SMOKE_TEST = os.environ.get(\"SMOKE_TEST\")\n",
    "N_MC_SAMPLES = 1 if SMOKE_TEST else 128\n",
    "NUM_RESTARTS = 1 if SMOKE_TEST else 20\n",
    "N_STEPS = 1 if SMOKE_TEST else 30\n",
    "\n",
    "# Ignore all warnings\n",
    "import warnings\n",
    "warnings.filterwarnings(\"ignore\")\n",
    "\n",
    "\n",
    "import pandas as pd\n",
    "import numpy as np\n",
    "import torch\n",
    "\n",
    "from xopt import Xopt, Evaluator\n",
    "from xopt.generators.bayesian import MOBOGenerator\n",
    "from xopt.resources.test_functions.tnk import evaluate_TNK, tnk_vocs\n",
    "\n",
    "\n",
    "evaluator = Evaluator(function=evaluate_TNK)\n",
    "print(tnk_vocs.dict())"
   ]
  },
  {
   "cell_type": "code",
   "execution_count": 2,
   "metadata": {
    "collapsed": false,
    "execution": {
     "iopub.execute_input": "2024-02-01T03:59:52.070143Z",
     "iopub.status.busy": "2024-02-01T03:59:52.069642Z",
     "iopub.status.idle": "2024-02-01T04:00:32.860937Z",
     "shell.execute_reply": "2024-02-01T04:00:32.860363Z"
    }
   },
   "outputs": [
    {
     "name": "stdout",
     "output_type": "stream",
     "text": [
      "0\n"
     ]
    },
    {
     "name": "stdout",
     "output_type": "stream",
     "text": [
      "1\n"
     ]
    },
    {
     "name": "stdout",
     "output_type": "stream",
     "text": [
      "2\n"
     ]
    },
    {
     "name": "stdout",
     "output_type": "stream",
     "text": [
      "3\n"
     ]
    },
    {
     "name": "stdout",
     "output_type": "stream",
     "text": [
      "4\n"
     ]
    },
    {
     "name": "stdout",
     "output_type": "stream",
     "text": [
      "5\n"
     ]
    },
    {
     "name": "stdout",
     "output_type": "stream",
     "text": [
      "6\n"
     ]
    },
    {
     "name": "stdout",
     "output_type": "stream",
     "text": [
      "7\n"
     ]
    },
    {
     "name": "stdout",
     "output_type": "stream",
     "text": [
      "8\n"
     ]
    },
    {
     "name": "stdout",
     "output_type": "stream",
     "text": [
      "9\n"
     ]
    },
    {
     "name": "stdout",
     "output_type": "stream",
     "text": [
      "10\n"
     ]
    },
    {
     "name": "stdout",
     "output_type": "stream",
     "text": [
      "11\n"
     ]
    },
    {
     "name": "stdout",
     "output_type": "stream",
     "text": [
      "12\n"
     ]
    },
    {
     "name": "stdout",
     "output_type": "stream",
     "text": [
      "13\n"
     ]
    },
    {
     "name": "stdout",
     "output_type": "stream",
     "text": [
      "14\n"
     ]
    },
    {
     "name": "stdout",
     "output_type": "stream",
     "text": [
      "15\n"
     ]
    },
    {
     "name": "stdout",
     "output_type": "stream",
     "text": [
      "16\n"
     ]
    },
    {
     "name": "stdout",
     "output_type": "stream",
     "text": [
      "17\n"
     ]
    },
    {
     "name": "stdout",
     "output_type": "stream",
     "text": [
      "18\n"
     ]
    },
    {
     "name": "stdout",
     "output_type": "stream",
     "text": [
      "19\n"
     ]
    },
    {
     "name": "stdout",
     "output_type": "stream",
     "text": [
      "20\n"
     ]
    },
    {
     "name": "stdout",
     "output_type": "stream",
     "text": [
      "21\n"
     ]
    },
    {
     "name": "stdout",
     "output_type": "stream",
     "text": [
      "22\n"
     ]
    },
    {
     "name": "stdout",
     "output_type": "stream",
     "text": [
      "23\n"
     ]
    },
    {
     "name": "stdout",
     "output_type": "stream",
     "text": [
      "24\n"
     ]
    },
    {
     "name": "stdout",
     "output_type": "stream",
     "text": [
      "25\n"
     ]
    },
    {
     "name": "stdout",
     "output_type": "stream",
     "text": [
      "26\n"
     ]
    },
    {
     "name": "stdout",
     "output_type": "stream",
     "text": [
      "27\n"
     ]
    },
    {
     "name": "stdout",
     "output_type": "stream",
     "text": [
      "28\n"
     ]
    },
    {
     "name": "stdout",
     "output_type": "stream",
     "text": [
      "29\n"
     ]
    }
   ],
   "source": [
    "generator = MOBOGenerator(vocs=tnk_vocs, reference_point = {\"y1\":1.5,\"y2\":1.5})\n",
    "generator.n_monte_carlo_samples = N_MC_SAMPLES\n",
    "generator.numerical_optimizer.n_restarts = NUM_RESTARTS\n",
    "\n",
    "X = Xopt(generator=generator, evaluator=evaluator, vocs=tnk_vocs)\n",
    "X.evaluate_data(pd.DataFrame({\"x1\":[1.0, 0.75],\"x2\":[0.75, 1.0]}))\n",
    "\n",
    "for i in range(N_STEPS):\n",
    "    print(i)\n",
    "    X.step()"
   ]
  },
  {
   "cell_type": "code",
   "execution_count": 3,
   "metadata": {
    "collapsed": false,
    "execution": {
     "iopub.execute_input": "2024-02-01T04:00:32.863569Z",
     "iopub.status.busy": "2024-02-01T04:00:32.863377Z",
     "iopub.status.idle": "2024-02-01T04:00:32.878663Z",
     "shell.execute_reply": "2024-02-01T04:00:32.878097Z"
    }
   },
   "outputs": [
    {
     "data": {
      "text/html": [
       "<div>\n",
       "<style scoped>\n",
       "    .dataframe tbody tr th:only-of-type {\n",
       "        vertical-align: middle;\n",
       "    }\n",
       "\n",
       "    .dataframe tbody tr th {\n",
       "        vertical-align: top;\n",
       "    }\n",
       "\n",
       "    .dataframe thead th {\n",
       "        text-align: right;\n",
       "    }\n",
       "</style>\n",
       "<table border=\"1\" class=\"dataframe\">\n",
       "  <thead>\n",
       "    <tr style=\"text-align: right;\">\n",
       "      <th></th>\n",
       "      <th>x1</th>\n",
       "      <th>x2</th>\n",
       "      <th>a</th>\n",
       "      <th>y1</th>\n",
       "      <th>y2</th>\n",
       "      <th>c1</th>\n",
       "      <th>c2</th>\n",
       "      <th>xopt_runtime</th>\n",
       "      <th>xopt_error</th>\n",
       "    </tr>\n",
       "  </thead>\n",
       "  <tbody>\n",
       "    <tr>\n",
       "      <th>0</th>\n",
       "      <td>1.000000</td>\n",
       "      <td>0.750000</td>\n",
       "      <td>dummy_constant</td>\n",
       "      <td>1.000000</td>\n",
       "      <td>0.750000</td>\n",
       "      <td>0.626888</td>\n",
       "      <td>0.312500</td>\n",
       "      <td>0.000044</td>\n",
       "      <td>False</td>\n",
       "    </tr>\n",
       "    <tr>\n",
       "      <th>1</th>\n",
       "      <td>0.750000</td>\n",
       "      <td>1.000000</td>\n",
       "      <td>dummy_constant</td>\n",
       "      <td>0.750000</td>\n",
       "      <td>1.000000</td>\n",
       "      <td>0.626888</td>\n",
       "      <td>0.312500</td>\n",
       "      <td>0.000009</td>\n",
       "      <td>False</td>\n",
       "    </tr>\n",
       "    <tr>\n",
       "      <th>2</th>\n",
       "      <td>2.660531</td>\n",
       "      <td>0.000000</td>\n",
       "      <td>dummy_constant</td>\n",
       "      <td>2.660531</td>\n",
       "      <td>0.000000</td>\n",
       "      <td>5.978427</td>\n",
       "      <td>4.917896</td>\n",
       "      <td>0.000024</td>\n",
       "      <td>False</td>\n",
       "    </tr>\n",
       "    <tr>\n",
       "      <th>3</th>\n",
       "      <td>0.000000</td>\n",
       "      <td>0.000000</td>\n",
       "      <td>dummy_constant</td>\n",
       "      <td>0.000000</td>\n",
       "      <td>0.000000</td>\n",
       "      <td>-1.100000</td>\n",
       "      <td>0.500000</td>\n",
       "      <td>0.000023</td>\n",
       "      <td>False</td>\n",
       "    </tr>\n",
       "    <tr>\n",
       "      <th>4</th>\n",
       "      <td>0.633698</td>\n",
       "      <td>0.016342</td>\n",
       "      <td>dummy_constant</td>\n",
       "      <td>0.633698</td>\n",
       "      <td>0.016342</td>\n",
       "      <td>-0.689771</td>\n",
       "      <td>0.251800</td>\n",
       "      <td>0.000024</td>\n",
       "      <td>False</td>\n",
       "    </tr>\n",
       "    <tr>\n",
       "      <th>5</th>\n",
       "      <td>0.000000</td>\n",
       "      <td>0.511896</td>\n",
       "      <td>dummy_constant</td>\n",
       "      <td>0.000000</td>\n",
       "      <td>0.511896</td>\n",
       "      <td>-0.837963</td>\n",
       "      <td>0.250142</td>\n",
       "      <td>0.000024</td>\n",
       "      <td>False</td>\n",
       "    </tr>\n",
       "    <tr>\n",
       "      <th>6</th>\n",
       "      <td>0.947661</td>\n",
       "      <td>0.474765</td>\n",
       "      <td>dummy_constant</td>\n",
       "      <td>0.947661</td>\n",
       "      <td>0.474765</td>\n",
       "      <td>0.082415</td>\n",
       "      <td>0.201037</td>\n",
       "      <td>0.000024</td>\n",
       "      <td>False</td>\n",
       "    </tr>\n",
       "    <tr>\n",
       "      <th>7</th>\n",
       "      <td>0.467311</td>\n",
       "      <td>0.987655</td>\n",
       "      <td>dummy_constant</td>\n",
       "      <td>0.467311</td>\n",
       "      <td>0.987655</td>\n",
       "      <td>0.123305</td>\n",
       "      <td>0.238876</td>\n",
       "      <td>0.000023</td>\n",
       "      <td>False</td>\n",
       "    </tr>\n",
       "    <tr>\n",
       "      <th>8</th>\n",
       "      <td>0.000000</td>\n",
       "      <td>3.141590</td>\n",
       "      <td>dummy_constant</td>\n",
       "      <td>0.000000</td>\n",
       "      <td>3.141590</td>\n",
       "      <td>8.769588</td>\n",
       "      <td>7.227998</td>\n",
       "      <td>0.000025</td>\n",
       "      <td>False</td>\n",
       "    </tr>\n",
       "    <tr>\n",
       "      <th>9</th>\n",
       "      <td>0.000000</td>\n",
       "      <td>0.904086</td>\n",
       "      <td>dummy_constant</td>\n",
       "      <td>0.000000</td>\n",
       "      <td>0.904086</td>\n",
       "      <td>-0.282628</td>\n",
       "      <td>0.413286</td>\n",
       "      <td>0.000024</td>\n",
       "      <td>False</td>\n",
       "    </tr>\n",
       "    <tr>\n",
       "      <th>10</th>\n",
       "      <td>0.162719</td>\n",
       "      <td>1.058284</td>\n",
       "      <td>dummy_constant</td>\n",
       "      <td>0.162719</td>\n",
       "      <td>1.058284</td>\n",
       "      <td>0.222889</td>\n",
       "      <td>0.425440</td>\n",
       "      <td>0.000024</td>\n",
       "      <td>False</td>\n",
       "    </tr>\n",
       "    <tr>\n",
       "      <th>11</th>\n",
       "      <td>0.060294</td>\n",
       "      <td>1.015842</td>\n",
       "      <td>dummy_constant</td>\n",
       "      <td>0.060294</td>\n",
       "      <td>1.015842</td>\n",
       "      <td>-0.022716</td>\n",
       "      <td>0.459434</td>\n",
       "      <td>0.000023</td>\n",
       "      <td>False</td>\n",
       "    </tr>\n",
       "    <tr>\n",
       "      <th>12</th>\n",
       "      <td>0.989755</td>\n",
       "      <td>0.228830</td>\n",
       "      <td>dummy_constant</td>\n",
       "      <td>0.989755</td>\n",
       "      <td>0.228830</td>\n",
       "      <td>0.120037</td>\n",
       "      <td>0.313394</td>\n",
       "      <td>0.000024</td>\n",
       "      <td>False</td>\n",
       "    </tr>\n",
       "    <tr>\n",
       "      <th>13</th>\n",
       "      <td>0.203723</td>\n",
       "      <td>0.834007</td>\n",
       "      <td>dummy_constant</td>\n",
       "      <td>0.203723</td>\n",
       "      <td>0.834007</td>\n",
       "      <td>-0.185911</td>\n",
       "      <td>0.199341</td>\n",
       "      <td>0.000024</td>\n",
       "      <td>False</td>\n",
       "    </tr>\n",
       "    <tr>\n",
       "      <th>14</th>\n",
       "      <td>0.692676</td>\n",
       "      <td>0.812521</td>\n",
       "      <td>dummy_constant</td>\n",
       "      <td>0.692676</td>\n",
       "      <td>0.812521</td>\n",
       "      <td>0.110481</td>\n",
       "      <td>0.134793</td>\n",
       "      <td>0.000025</td>\n",
       "      <td>False</td>\n",
       "    </tr>\n",
       "    <tr>\n",
       "      <th>15</th>\n",
       "      <td>1.006704</td>\n",
       "      <td>0.071885</td>\n",
       "      <td>dummy_constant</td>\n",
       "      <td>1.006704</td>\n",
       "      <td>0.071885</td>\n",
       "      <td>-0.023088</td>\n",
       "      <td>0.440031</td>\n",
       "      <td>0.000024</td>\n",
       "      <td>False</td>\n",
       "    </tr>\n",
       "    <tr>\n",
       "      <th>16</th>\n",
       "      <td>1.348995</td>\n",
       "      <td>0.199047</td>\n",
       "      <td>dummy_constant</td>\n",
       "      <td>1.348995</td>\n",
       "      <td>0.199047</td>\n",
       "      <td>0.929245</td>\n",
       "      <td>0.811365</td>\n",
       "      <td>0.000025</td>\n",
       "      <td>False</td>\n",
       "    </tr>\n",
       "    <tr>\n",
       "      <th>17</th>\n",
       "      <td>1.520781</td>\n",
       "      <td>0.186034</td>\n",
       "      <td>dummy_constant</td>\n",
       "      <td>1.520781</td>\n",
       "      <td>0.186034</td>\n",
       "      <td>1.384177</td>\n",
       "      <td>1.140569</td>\n",
       "      <td>0.000024</td>\n",
       "      <td>False</td>\n",
       "    </tr>\n",
       "    <tr>\n",
       "      <th>18</th>\n",
       "      <td>1.345402</td>\n",
       "      <td>0.463680</td>\n",
       "      <td>dummy_constant</td>\n",
       "      <td>1.345402</td>\n",
       "      <td>0.463680</td>\n",
       "      <td>0.968815</td>\n",
       "      <td>0.716023</td>\n",
       "      <td>0.000024</td>\n",
       "      <td>False</td>\n",
       "    </tr>\n",
       "    <tr>\n",
       "      <th>19</th>\n",
       "      <td>0.145166</td>\n",
       "      <td>0.996315</td>\n",
       "      <td>dummy_constant</td>\n",
       "      <td>0.145166</td>\n",
       "      <td>0.996315</td>\n",
       "      <td>0.081453</td>\n",
       "      <td>0.372236</td>\n",
       "      <td>0.000024</td>\n",
       "      <td>False</td>\n",
       "    </tr>\n",
       "    <tr>\n",
       "      <th>20</th>\n",
       "      <td>1.051727</td>\n",
       "      <td>0.096487</td>\n",
       "      <td>dummy_constant</td>\n",
       "      <td>1.051727</td>\n",
       "      <td>0.096487</td>\n",
       "      <td>0.104757</td>\n",
       "      <td>0.467226</td>\n",
       "      <td>0.000025</td>\n",
       "      <td>False</td>\n",
       "    </tr>\n",
       "    <tr>\n",
       "      <th>21</th>\n",
       "      <td>1.021714</td>\n",
       "      <td>0.032510</td>\n",
       "      <td>dummy_constant</td>\n",
       "      <td>1.021714</td>\n",
       "      <td>0.032510</td>\n",
       "      <td>-0.042371</td>\n",
       "      <td>0.490732</td>\n",
       "      <td>0.000025</td>\n",
       "      <td>False</td>\n",
       "    </tr>\n",
       "    <tr>\n",
       "      <th>22</th>\n",
       "      <td>0.793209</td>\n",
       "      <td>0.657360</td>\n",
       "      <td>dummy_constant</td>\n",
       "      <td>0.793209</td>\n",
       "      <td>0.657360</td>\n",
       "      <td>0.053639</td>\n",
       "      <td>0.110734</td>\n",
       "      <td>0.000026</td>\n",
       "      <td>False</td>\n",
       "    </tr>\n",
       "    <tr>\n",
       "      <th>23</th>\n",
       "      <td>0.078953</td>\n",
       "      <td>0.866246</td>\n",
       "      <td>dummy_constant</td>\n",
       "      <td>0.078953</td>\n",
       "      <td>0.866246</td>\n",
       "      <td>-0.255008</td>\n",
       "      <td>0.311416</td>\n",
       "      <td>0.000026</td>\n",
       "      <td>False</td>\n",
       "    </tr>\n",
       "    <tr>\n",
       "      <th>24</th>\n",
       "      <td>0.882012</td>\n",
       "      <td>0.533138</td>\n",
       "      <td>dummy_constant</td>\n",
       "      <td>0.882012</td>\n",
       "      <td>0.533138</td>\n",
       "      <td>0.136983</td>\n",
       "      <td>0.147031</td>\n",
       "      <td>0.000026</td>\n",
       "      <td>False</td>\n",
       "    </tr>\n",
       "    <tr>\n",
       "      <th>25</th>\n",
       "      <td>0.228617</td>\n",
       "      <td>0.384729</td>\n",
       "      <td>dummy_constant</td>\n",
       "      <td>0.228617</td>\n",
       "      <td>0.384729</td>\n",
       "      <td>-0.733431</td>\n",
       "      <td>0.086936</td>\n",
       "      <td>0.000025</td>\n",
       "      <td>False</td>\n",
       "    </tr>\n",
       "    <tr>\n",
       "      <th>26</th>\n",
       "      <td>0.418179</td>\n",
       "      <td>0.177908</td>\n",
       "      <td>dummy_constant</td>\n",
       "      <td>0.418179</td>\n",
       "      <td>0.177908</td>\n",
       "      <td>-0.892312</td>\n",
       "      <td>0.110438</td>\n",
       "      <td>0.000024</td>\n",
       "      <td>False</td>\n",
       "    </tr>\n",
       "    <tr>\n",
       "      <th>27</th>\n",
       "      <td>0.109902</td>\n",
       "      <td>0.916768</td>\n",
       "      <td>dummy_constant</td>\n",
       "      <td>0.109902</td>\n",
       "      <td>0.916768</td>\n",
       "      <td>-0.114282</td>\n",
       "      <td>0.325872</td>\n",
       "      <td>0.000026</td>\n",
       "      <td>False</td>\n",
       "    </tr>\n",
       "    <tr>\n",
       "      <th>28</th>\n",
       "      <td>0.116589</td>\n",
       "      <td>0.551007</td>\n",
       "      <td>dummy_constant</td>\n",
       "      <td>0.116589</td>\n",
       "      <td>0.551007</td>\n",
       "      <td>-0.584687</td>\n",
       "      <td>0.149606</td>\n",
       "      <td>0.000027</td>\n",
       "      <td>False</td>\n",
       "    </tr>\n",
       "    <tr>\n",
       "      <th>29</th>\n",
       "      <td>0.266934</td>\n",
       "      <td>0.950621</td>\n",
       "      <td>dummy_constant</td>\n",
       "      <td>0.266934</td>\n",
       "      <td>0.950621</td>\n",
       "      <td>0.007563</td>\n",
       "      <td>0.257379</td>\n",
       "      <td>0.000026</td>\n",
       "      <td>False</td>\n",
       "    </tr>\n",
       "    <tr>\n",
       "      <th>30</th>\n",
       "      <td>0.739042</td>\n",
       "      <td>0.380752</td>\n",
       "      <td>dummy_constant</td>\n",
       "      <td>0.739042</td>\n",
       "      <td>0.380752</td>\n",
       "      <td>-0.332836</td>\n",
       "      <td>0.071361</td>\n",
       "      <td>0.000026</td>\n",
       "      <td>False</td>\n",
       "    </tr>\n",
       "    <tr>\n",
       "      <th>31</th>\n",
       "      <td>0.673387</td>\n",
       "      <td>0.039567</td>\n",
       "      <td>dummy_constant</td>\n",
       "      <td>0.673387</td>\n",
       "      <td>0.039567</td>\n",
       "      <td>-0.604038</td>\n",
       "      <td>0.242061</td>\n",
       "      <td>0.000026</td>\n",
       "      <td>False</td>\n",
       "    </tr>\n",
       "  </tbody>\n",
       "</table>\n",
       "</div>"
      ],
      "text/plain": [
       "          x1        x2               a        y1        y2        c1  \\\n",
       "0   1.000000  0.750000  dummy_constant  1.000000  0.750000  0.626888   \n",
       "1   0.750000  1.000000  dummy_constant  0.750000  1.000000  0.626888   \n",
       "2   2.660531  0.000000  dummy_constant  2.660531  0.000000  5.978427   \n",
       "3   0.000000  0.000000  dummy_constant  0.000000  0.000000 -1.100000   \n",
       "4   0.633698  0.016342  dummy_constant  0.633698  0.016342 -0.689771   \n",
       "5   0.000000  0.511896  dummy_constant  0.000000  0.511896 -0.837963   \n",
       "6   0.947661  0.474765  dummy_constant  0.947661  0.474765  0.082415   \n",
       "7   0.467311  0.987655  dummy_constant  0.467311  0.987655  0.123305   \n",
       "8   0.000000  3.141590  dummy_constant  0.000000  3.141590  8.769588   \n",
       "9   0.000000  0.904086  dummy_constant  0.000000  0.904086 -0.282628   \n",
       "10  0.162719  1.058284  dummy_constant  0.162719  1.058284  0.222889   \n",
       "11  0.060294  1.015842  dummy_constant  0.060294  1.015842 -0.022716   \n",
       "12  0.989755  0.228830  dummy_constant  0.989755  0.228830  0.120037   \n",
       "13  0.203723  0.834007  dummy_constant  0.203723  0.834007 -0.185911   \n",
       "14  0.692676  0.812521  dummy_constant  0.692676  0.812521  0.110481   \n",
       "15  1.006704  0.071885  dummy_constant  1.006704  0.071885 -0.023088   \n",
       "16  1.348995  0.199047  dummy_constant  1.348995  0.199047  0.929245   \n",
       "17  1.520781  0.186034  dummy_constant  1.520781  0.186034  1.384177   \n",
       "18  1.345402  0.463680  dummy_constant  1.345402  0.463680  0.968815   \n",
       "19  0.145166  0.996315  dummy_constant  0.145166  0.996315  0.081453   \n",
       "20  1.051727  0.096487  dummy_constant  1.051727  0.096487  0.104757   \n",
       "21  1.021714  0.032510  dummy_constant  1.021714  0.032510 -0.042371   \n",
       "22  0.793209  0.657360  dummy_constant  0.793209  0.657360  0.053639   \n",
       "23  0.078953  0.866246  dummy_constant  0.078953  0.866246 -0.255008   \n",
       "24  0.882012  0.533138  dummy_constant  0.882012  0.533138  0.136983   \n",
       "25  0.228617  0.384729  dummy_constant  0.228617  0.384729 -0.733431   \n",
       "26  0.418179  0.177908  dummy_constant  0.418179  0.177908 -0.892312   \n",
       "27  0.109902  0.916768  dummy_constant  0.109902  0.916768 -0.114282   \n",
       "28  0.116589  0.551007  dummy_constant  0.116589  0.551007 -0.584687   \n",
       "29  0.266934  0.950621  dummy_constant  0.266934  0.950621  0.007563   \n",
       "30  0.739042  0.380752  dummy_constant  0.739042  0.380752 -0.332836   \n",
       "31  0.673387  0.039567  dummy_constant  0.673387  0.039567 -0.604038   \n",
       "\n",
       "          c2  xopt_runtime  xopt_error  \n",
       "0   0.312500      0.000044       False  \n",
       "1   0.312500      0.000009       False  \n",
       "2   4.917896      0.000024       False  \n",
       "3   0.500000      0.000023       False  \n",
       "4   0.251800      0.000024       False  \n",
       "5   0.250142      0.000024       False  \n",
       "6   0.201037      0.000024       False  \n",
       "7   0.238876      0.000023       False  \n",
       "8   7.227998      0.000025       False  \n",
       "9   0.413286      0.000024       False  \n",
       "10  0.425440      0.000024       False  \n",
       "11  0.459434      0.000023       False  \n",
       "12  0.313394      0.000024       False  \n",
       "13  0.199341      0.000024       False  \n",
       "14  0.134793      0.000025       False  \n",
       "15  0.440031      0.000024       False  \n",
       "16  0.811365      0.000025       False  \n",
       "17  1.140569      0.000024       False  \n",
       "18  0.716023      0.000024       False  \n",
       "19  0.372236      0.000024       False  \n",
       "20  0.467226      0.000025       False  \n",
       "21  0.490732      0.000025       False  \n",
       "22  0.110734      0.000026       False  \n",
       "23  0.311416      0.000026       False  \n",
       "24  0.147031      0.000026       False  \n",
       "25  0.086936      0.000025       False  \n",
       "26  0.110438      0.000024       False  \n",
       "27  0.325872      0.000026       False  \n",
       "28  0.149606      0.000027       False  \n",
       "29  0.257379      0.000026       False  \n",
       "30  0.071361      0.000026       False  \n",
       "31  0.242061      0.000026       False  "
      ]
     },
     "execution_count": 3,
     "metadata": {},
     "output_type": "execute_result"
    }
   ],
   "source": [
    "X.generator.data"
   ]
  },
  {
   "cell_type": "markdown",
   "metadata": {
    "collapsed": false
   },
   "source": [
    "## plot results\n"
   ]
  },
  {
   "cell_type": "code",
   "execution_count": 4,
   "metadata": {
    "collapsed": false,
    "execution": {
     "iopub.execute_input": "2024-02-01T04:00:32.881053Z",
     "iopub.status.busy": "2024-02-01T04:00:32.880672Z",
     "iopub.status.idle": "2024-02-01T04:00:33.235915Z",
     "shell.execute_reply": "2024-02-01T04:00:33.235275Z"
    }
   },
   "outputs": [
    {
     "data": {
      "image/png": "[encoded data removed]",
      "text/plain": [
       "<Figure size 640x480 with 1 Axes>"
      ]
     },
     "metadata": {},
     "output_type": "display_data"
    }
   ],
   "source": [
    "import matplotlib.pyplot as plt\n",
    "\n",
    "fig, ax = plt.subplots()\n",
    "\n",
    "theta = np.linspace(0, np.pi / 2)\n",
    "r = np.sqrt(1 + 0.1 * np.cos(16 * theta))\n",
    "x_1 = r * np.sin(theta)\n",
    "x_2_lower = r * np.cos(theta)\n",
    "x_2_upper = (0.5 - (x_1 - 0.5) ** 2) ** 0.5 + 0.5\n",
    "\n",
    "z = np.zeros_like(x_1)\n",
    "\n",
    "# ax2.plot(x_1, x_2_lower,'r')\n",
    "ax.fill_between(x_1, z, x_2_lower, fc=\"white\")\n",
    "circle = plt.Circle(\n",
    "    (0.5, 0.5), 0.5 ** 0.5, color=\"r\", alpha=0.25, zorder=0, label=\"Valid Region\"\n",
    ")\n",
    "ax.add_patch(circle)\n",
    "history = pd.concat(\n",
    "    [X.data, tnk_vocs.feasibility_data(X.data)], axis=1, ignore_index=False\n",
    ")\n",
    "\n",
    "\n",
    "ax.plot(*history[[\"x1\", \"x2\"]][history[\"feasible\"]].to_numpy().T, \".C1\")\n",
    "ax.plot(*history[[\"x1\", \"x2\"]][~history[\"feasible\"]].to_numpy().T, \".C2\")\n",
    "\n",
    "ax.set_xlim(0, 3.14)\n",
    "ax.set_ylim(0, 3.14)\n",
    "ax.set_xlabel(\"x1\")\n",
    "ax.set_ylabel(\"x2\")\n",
    "ax.set_aspect(\"equal\")"
   ]
  },
  {
   "cell_type": "markdown",
   "metadata": {
    "collapsed": false
   },
   "source": [
    "### Plot path through input space"
   ]
  },
  {
   "cell_type": "code",
   "execution_count": 5,
   "metadata": {
    "collapsed": false,
    "execution": {
     "iopub.execute_input": "2024-02-01T04:00:33.238424Z",
     "iopub.status.busy": "2024-02-01T04:00:33.237978Z",
     "iopub.status.idle": "2024-02-01T04:00:33.470152Z",
     "shell.execute_reply": "2024-02-01T04:00:33.469492Z"
    }
   },
   "outputs": [
    {
     "data": {
      "image/png": "[encoded data removed]",
      "text/plain": [
       "<Figure size 640x480 with 1 Axes>"
      ]
     },
     "metadata": {},
     "output_type": "display_data"
    }
   ],
   "source": [
    "ax = history.plot(\"x1\", \"x2\")\n",
    "ax.set_ylim(0, 3.14)\n",
    "ax.set_xlim(0, 3.14)\n",
    "ax.set_aspect(\"equal\")"
   ]
  },
  {
   "cell_type": "code",
   "execution_count": 6,
   "metadata": {
    "collapsed": false,
    "execution": {
     "iopub.execute_input": "2024-02-01T04:00:33.472541Z",
     "iopub.status.busy": "2024-02-01T04:00:33.472339Z",
     "iopub.status.idle": "2024-02-01T04:00:44.599281Z",
     "shell.execute_reply": "2024-02-01T04:00:44.598643Z"
    }
   },
   "outputs": [
    {
     "name": "stdout",
     "output_type": "stream",
     "text": [
      "[[0.57896389 0.87413245]]\n"
     ]
    },
    {
     "data": {
      "text/plain": [
       "[<matplotlib.lines.Line2D at 0x7f5148e387c0>]"
      ]
     },
     "execution_count": 6,
     "metadata": {},
     "output_type": "execute_result"
    },
    {
     "data": {
      "image/png": "[encoded data removed]",
      "text/plain": [
       "<Figure size 640x480 with 2 Axes>"
      ]
     },
     "metadata": {},
     "output_type": "display_data"
    },
    {
     "data": {
      "image/png": "[encoded data removed]",
      "text/plain": [
       "<Figure size 640x480 with 2 Axes>"
      ]
     },
     "metadata": {},
     "output_type": "display_data"
    }
   ],
   "source": [
    "# plot the acquisition function\n",
    "from xopt.generators.bayesian.objectives import feasibility\n",
    "\n",
    "bounds = X.generator.vocs.bounds\n",
    "model = X.generator.model\n",
    "\n",
    "# create mesh\n",
    "n = 200\n",
    "x = torch.linspace(*bounds.T[0], n)\n",
    "y = torch.linspace(*bounds.T[1], n)\n",
    "xx, yy = torch.meshgrid(x, y)\n",
    "pts = torch.hstack([ele.reshape(-1, 1) for ele in (xx, yy)]).double()\n",
    "\n",
    "xx, yy = xx.numpy(), yy.numpy()\n",
    "\n",
    "acq_func = X.generator.get_acquisition(model)\n",
    "with torch.no_grad():\n",
    "    acq_pts = pts.unsqueeze(1)\n",
    "    acq = acq_func(acq_pts)\n",
    "\n",
    "    fig, ax = plt.subplots()\n",
    "    c = ax.pcolor(xx, yy, acq.reshape(n, n), cmap=\"Blues\")\n",
    "    fig.colorbar(c)\n",
    "    ax.set_title(\"Acquisition function\")\n",
    "\n",
    "    ax.plot(*history[[\"x1\", \"x2\"]][history[\"feasible\"]].to_numpy().T, \".C1\")\n",
    "    ax.plot(*history[[\"x1\", \"x2\"]][~history[\"feasible\"]].to_numpy().T, \".C2\")\n",
    "\n",
    "    ax.plot(*history[[\"x1\", \"x2\"]].to_numpy()[-1].T, \"+\")\n",
    "\n",
    "    feas = feasibility(pts.unsqueeze(1), model, tnk_vocs).flatten()\n",
    "\n",
    "    fig2, ax2 = plt.subplots()\n",
    "    c = ax2.pcolor(xx, yy, feas.reshape(n, n))\n",
    "    fig2.colorbar(c)\n",
    "    ax2.set_title(\"Feasible Region\")\n",
    "\n",
    "candidate = pd.DataFrame(X.generator.generate(1), index=[0])\n",
    "print(candidate[[\"x1\", \"x2\"]].to_numpy())\n",
    "ax.plot(*candidate[[\"x1\", \"x2\"]].to_numpy()[0], \"o\")"
   ]
  },
  {
   "cell_type": "code",
   "execution_count": 7,
   "metadata": {
    "collapsed": false,
    "execution": {
     "iopub.execute_input": "2024-02-01T04:00:44.601634Z",
     "iopub.status.busy": "2024-02-01T04:00:44.601433Z",
     "iopub.status.idle": "2024-02-01T04:00:45.224916Z",
     "shell.execute_reply": "2024-02-01T04:00:45.224292Z"
    }
   },
   "outputs": [
    {
     "name": "stdout",
     "output_type": "stream",
     "text": [
      "CPU times: user 1.22 s, sys: 20 ms, total: 1.24 s\n",
      "Wall time: 620 ms\n"
     ]
    }
   ],
   "source": [
    "%%time\n",
    "candidate = X.generator.generate(1)"
   ]
  }
 ],
 "metadata": {
  "interpreter": {
   "hash": "72034539424920dfb606fe3b820b3f27dca0cbf1c69938110810ec4641e275b1"
  },
  "kernelspec": {
   "display_name": "Python 3 (ipykernel)",
   "language": "python",
   "name": "python3"
  },
  "language_info": {
   "codemirror_mode": {
    "name": "ipython",
    "version": 3
   },
   "file_extension": ".py",
   "mimetype": "text/x-python",
   "name": "python",
   "nbconvert_exporter": "python",
   "pygments_lexer": "ipython3",
   "version": "3.9.18"
  }
 },
 "nbformat": 4,
 "nbformat_minor": 4
}
