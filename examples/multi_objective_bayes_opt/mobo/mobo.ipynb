{
 "cells": [
  {
   "cell_type": "markdown",
   "metadata": {},
   "source": [
    "\n",
    "# Multi-objective Bayesian Optimization\n",
    "\n",
    "\n",
    "TNK function\n",
    "$n=2$ variables:\n",
    "$x_i \\in [0, \\pi], i=1,2$\n",
    "\n",
    "Objectives:\n",
    "- $f_i(x) = x_i$\n",
    "\n",
    "Constraints:\n",
    "- $g_1(x) = -x_1^2 -x_2^2 + 1 + 0.1 \\cos\\left(16 \\arctan \\frac{x_1}{x_2}\\right) \\le 0$\n",
    "- $g_2(x) = (x_1 - 1/2)^2 + (x_2-1/2)^2 \\le 0.5$"
   ]
  },
  {
   "cell_type": "code",
   "execution_count": 1,
   "metadata": {
    "collapsed": false,
    "execution": {
     "iopub.execute_input": "2024-01-25T21:39:53.085631Z",
     "iopub.status.busy": "2024-01-25T21:39:53.085459Z",
     "iopub.status.idle": "2024-01-25T21:39:55.174088Z",
     "shell.execute_reply": "2024-01-25T21:39:55.173433Z"
    }
   },
   "outputs": [
    {
     "name": "stdout",
     "output_type": "stream",
     "text": [
      "{'variables': {'x1': [0.0, 3.14159], 'x2': [0.0, 3.14159]}, 'constraints': {'c1': ['GREATER_THAN', 0.0], 'c2': ['LESS_THAN', 0.5]}, 'objectives': {'y1': 'MINIMIZE', 'y2': 'MINIMIZE'}, 'constants': {'a': 'dummy_constant'}, 'observables': []}\n"
     ]
    }
   ],
   "source": [
    "# set values if testing\n",
    "import os\n",
    "SMOKE_TEST = os.environ.get(\"SMOKE_TEST\")\n",
    "N_MC_SAMPLES = 1 if SMOKE_TEST else 128\n",
    "NUM_RESTARTS = 1 if SMOKE_TEST else 20\n",
    "N_STEPS = 1 if SMOKE_TEST else 30\n",
    "\n",
    "# Ignore all warnings\n",
    "import warnings\n",
    "warnings.filterwarnings(\"ignore\")\n",
    "\n",
    "\n",
    "import pandas as pd\n",
    "import numpy as np\n",
    "import torch\n",
    "\n",
    "from xopt import Xopt, Evaluator\n",
    "from xopt.generators.bayesian import MOBOGenerator\n",
    "from xopt.resources.test_functions.tnk import evaluate_TNK, tnk_vocs\n",
    "\n",
    "\n",
    "evaluator = Evaluator(function=evaluate_TNK)\n",
    "print(tnk_vocs.dict())"
   ]
  },
  {
   "cell_type": "code",
   "execution_count": 2,
   "metadata": {
    "collapsed": false,
    "execution": {
     "iopub.execute_input": "2024-01-25T21:39:55.203311Z",
     "iopub.status.busy": "2024-01-25T21:39:55.202791Z",
     "iopub.status.idle": "2024-01-25T21:40:47.228556Z",
     "shell.execute_reply": "2024-01-25T21:40:47.227924Z"
    }
   },
   "outputs": [
    {
     "name": "stdout",
     "output_type": "stream",
     "text": [
      "0\n"
     ]
    },
    {
     "name": "stdout",
     "output_type": "stream",
     "text": [
      "1\n"
     ]
    },
    {
     "name": "stdout",
     "output_type": "stream",
     "text": [
      "2\n"
     ]
    },
    {
     "name": "stdout",
     "output_type": "stream",
     "text": [
      "3\n"
     ]
    },
    {
     "name": "stdout",
     "output_type": "stream",
     "text": [
      "4\n"
     ]
    },
    {
     "name": "stdout",
     "output_type": "stream",
     "text": [
      "5\n"
     ]
    },
    {
     "name": "stdout",
     "output_type": "stream",
     "text": [
      "6\n"
     ]
    },
    {
     "name": "stdout",
     "output_type": "stream",
     "text": [
      "7\n"
     ]
    },
    {
     "name": "stdout",
     "output_type": "stream",
     "text": [
      "8\n"
     ]
    },
    {
     "name": "stdout",
     "output_type": "stream",
     "text": [
      "9\n"
     ]
    },
    {
     "name": "stdout",
     "output_type": "stream",
     "text": [
      "10\n"
     ]
    },
    {
     "name": "stdout",
     "output_type": "stream",
     "text": [
      "11\n"
     ]
    },
    {
     "name": "stdout",
     "output_type": "stream",
     "text": [
      "12\n"
     ]
    },
    {
     "name": "stdout",
     "output_type": "stream",
     "text": [
      "13\n"
     ]
    },
    {
     "name": "stdout",
     "output_type": "stream",
     "text": [
      "14\n"
     ]
    },
    {
     "name": "stdout",
     "output_type": "stream",
     "text": [
      "15\n"
     ]
    },
    {
     "name": "stdout",
     "output_type": "stream",
     "text": [
      "16\n"
     ]
    },
    {
     "name": "stdout",
     "output_type": "stream",
     "text": [
      "17\n"
     ]
    },
    {
     "name": "stdout",
     "output_type": "stream",
     "text": [
      "18\n"
     ]
    },
    {
     "name": "stdout",
     "output_type": "stream",
     "text": [
      "19\n"
     ]
    },
    {
     "name": "stdout",
     "output_type": "stream",
     "text": [
      "20\n"
     ]
    },
    {
     "name": "stdout",
     "output_type": "stream",
     "text": [
      "21\n"
     ]
    },
    {
     "name": "stdout",
     "output_type": "stream",
     "text": [
      "22\n"
     ]
    },
    {
     "name": "stdout",
     "output_type": "stream",
     "text": [
      "23\n"
     ]
    },
    {
     "name": "stdout",
     "output_type": "stream",
     "text": [
      "24\n"
     ]
    },
    {
     "name": "stdout",
     "output_type": "stream",
     "text": [
      "25\n"
     ]
    },
    {
     "name": "stdout",
     "output_type": "stream",
     "text": [
      "26\n"
     ]
    },
    {
     "name": "stdout",
     "output_type": "stream",
     "text": [
      "27\n"
     ]
    },
    {
     "name": "stdout",
     "output_type": "stream",
     "text": [
      "28\n"
     ]
    },
    {
     "name": "stdout",
     "output_type": "stream",
     "text": [
      "29\n"
     ]
    }
   ],
   "source": [
    "generator = MOBOGenerator(vocs=tnk_vocs, reference_point = {\"y1\":1.5,\"y2\":1.5})\n",
    "generator.n_monte_carlo_samples = N_MC_SAMPLES\n",
    "generator.numerical_optimizer.n_restarts = NUM_RESTARTS\n",
    "\n",
    "X = Xopt(generator=generator, evaluator=evaluator, vocs=tnk_vocs)\n",
    "X.evaluate_data(pd.DataFrame({\"x1\":[1.0, 0.75],\"x2\":[0.75, 1.0]}))\n",
    "\n",
    "for i in range(N_STEPS):\n",
    "    print(i)\n",
    "    X.step()"
   ]
  },
  {
   "cell_type": "code",
   "execution_count": 3,
   "metadata": {
    "collapsed": false,
    "execution": {
     "iopub.execute_input": "2024-01-25T21:40:47.231484Z",
     "iopub.status.busy": "2024-01-25T21:40:47.231010Z",
     "iopub.status.idle": "2024-01-25T21:40:47.250116Z",
     "shell.execute_reply": "2024-01-25T21:40:47.249580Z"
    }
   },
   "outputs": [
    {
     "data": {
      "text/html": [
       "<div>\n",
       "<style scoped>\n",
       "    .dataframe tbody tr th:only-of-type {\n",
       "        vertical-align: middle;\n",
       "    }\n",
       "\n",
       "    .dataframe tbody tr th {\n",
       "        vertical-align: top;\n",
       "    }\n",
       "\n",
       "    .dataframe thead th {\n",
       "        text-align: right;\n",
       "    }\n",
       "</style>\n",
       "<table border=\"1\" class=\"dataframe\">\n",
       "  <thead>\n",
       "    <tr style=\"text-align: right;\">\n",
       "      <th></th>\n",
       "      <th>x1</th>\n",
       "      <th>x2</th>\n",
       "      <th>a</th>\n",
       "      <th>y1</th>\n",
       "      <th>y2</th>\n",
       "      <th>c1</th>\n",
       "      <th>c2</th>\n",
       "      <th>xopt_runtime</th>\n",
       "      <th>xopt_error</th>\n",
       "    </tr>\n",
       "  </thead>\n",
       "  <tbody>\n",
       "    <tr>\n",
       "      <th>0</th>\n",
       "      <td>1.000000</td>\n",
       "      <td>0.750000</td>\n",
       "      <td>dummy_constant</td>\n",
       "      <td>1.000000</td>\n",
       "      <td>0.750000</td>\n",
       "      <td>0.626888</td>\n",
       "      <td>0.312500</td>\n",
       "      <td>0.000038</td>\n",
       "      <td>False</td>\n",
       "    </tr>\n",
       "    <tr>\n",
       "      <th>1</th>\n",
       "      <td>0.750000</td>\n",
       "      <td>1.000000</td>\n",
       "      <td>dummy_constant</td>\n",
       "      <td>0.750000</td>\n",
       "      <td>1.000000</td>\n",
       "      <td>0.626888</td>\n",
       "      <td>0.312500</td>\n",
       "      <td>0.000008</td>\n",
       "      <td>False</td>\n",
       "    </tr>\n",
       "    <tr>\n",
       "      <th>2</th>\n",
       "      <td>1.966756</td>\n",
       "      <td>3.141590</td>\n",
       "      <td>dummy_constant</td>\n",
       "      <td>1.966756</td>\n",
       "      <td>3.141590</td>\n",
       "      <td>12.826636</td>\n",
       "      <td>9.129371</td>\n",
       "      <td>0.000025</td>\n",
       "      <td>False</td>\n",
       "    </tr>\n",
       "    <tr>\n",
       "      <th>3</th>\n",
       "      <td>0.262588</td>\n",
       "      <td>0.433180</td>\n",
       "      <td>dummy_constant</td>\n",
       "      <td>0.262588</td>\n",
       "      <td>0.433180</td>\n",
       "      <td>-0.667273</td>\n",
       "      <td>0.060829</td>\n",
       "      <td>0.000024</td>\n",
       "      <td>False</td>\n",
       "    </tr>\n",
       "    <tr>\n",
       "      <th>4</th>\n",
       "      <td>0.260699</td>\n",
       "      <td>0.000000</td>\n",
       "      <td>dummy_constant</td>\n",
       "      <td>0.260699</td>\n",
       "      <td>0.000000</td>\n",
       "      <td>-1.032036</td>\n",
       "      <td>0.307265</td>\n",
       "      <td>0.000024</td>\n",
       "      <td>False</td>\n",
       "    </tr>\n",
       "    <tr>\n",
       "      <th>5</th>\n",
       "      <td>0.048356</td>\n",
       "      <td>0.083442</td>\n",
       "      <td>dummy_constant</td>\n",
       "      <td>0.048356</td>\n",
       "      <td>0.083442</td>\n",
       "      <td>-0.938469</td>\n",
       "      <td>0.377503</td>\n",
       "      <td>0.000025</td>\n",
       "      <td>False</td>\n",
       "    </tr>\n",
       "    <tr>\n",
       "      <th>6</th>\n",
       "      <td>0.000000</td>\n",
       "      <td>0.643153</td>\n",
       "      <td>dummy_constant</td>\n",
       "      <td>0.000000</td>\n",
       "      <td>0.643153</td>\n",
       "      <td>-0.686355</td>\n",
       "      <td>0.270493</td>\n",
       "      <td>0.000025</td>\n",
       "      <td>False</td>\n",
       "    </tr>\n",
       "    <tr>\n",
       "      <th>7</th>\n",
       "      <td>0.365830</td>\n",
       "      <td>0.997393</td>\n",
       "      <td>dummy_constant</td>\n",
       "      <td>0.365830</td>\n",
       "      <td>0.997393</td>\n",
       "      <td>0.049525</td>\n",
       "      <td>0.265401</td>\n",
       "      <td>0.000023</td>\n",
       "      <td>False</td>\n",
       "    </tr>\n",
       "    <tr>\n",
       "      <th>8</th>\n",
       "      <td>0.907816</td>\n",
       "      <td>0.533088</td>\n",
       "      <td>dummy_constant</td>\n",
       "      <td>0.907816</td>\n",
       "      <td>0.533088</td>\n",
       "      <td>0.168155</td>\n",
       "      <td>0.167409</td>\n",
       "      <td>0.000023</td>\n",
       "      <td>False</td>\n",
       "    </tr>\n",
       "    <tr>\n",
       "      <th>9</th>\n",
       "      <td>1.018457</td>\n",
       "      <td>0.354474</td>\n",
       "      <td>dummy_constant</td>\n",
       "      <td>1.018457</td>\n",
       "      <td>0.354474</td>\n",
       "      <td>0.102659</td>\n",
       "      <td>0.289976</td>\n",
       "      <td>0.000024</td>\n",
       "      <td>False</td>\n",
       "    </tr>\n",
       "    <tr>\n",
       "      <th>10</th>\n",
       "      <td>0.634659</td>\n",
       "      <td>0.782333</td>\n",
       "      <td>dummy_constant</td>\n",
       "      <td>0.634659</td>\n",
       "      <td>0.782333</td>\n",
       "      <td>0.023890</td>\n",
       "      <td>0.097845</td>\n",
       "      <td>0.000024</td>\n",
       "      <td>False</td>\n",
       "    </tr>\n",
       "    <tr>\n",
       "      <th>11</th>\n",
       "      <td>0.199671</td>\n",
       "      <td>1.096283</td>\n",
       "      <td>dummy_constant</td>\n",
       "      <td>0.199671</td>\n",
       "      <td>1.096283</td>\n",
       "      <td>0.338369</td>\n",
       "      <td>0.445751</td>\n",
       "      <td>0.000026</td>\n",
       "      <td>False</td>\n",
       "    </tr>\n",
       "    <tr>\n",
       "      <th>12</th>\n",
       "      <td>0.000063</td>\n",
       "      <td>1.019837</td>\n",
       "      <td>dummy_constant</td>\n",
       "      <td>0.000063</td>\n",
       "      <td>1.019837</td>\n",
       "      <td>-0.059933</td>\n",
       "      <td>0.520167</td>\n",
       "      <td>0.000026</td>\n",
       "      <td>False</td>\n",
       "    </tr>\n",
       "    <tr>\n",
       "      <th>13</th>\n",
       "      <td>0.759856</td>\n",
       "      <td>0.644549</td>\n",
       "      <td>dummy_constant</td>\n",
       "      <td>0.759856</td>\n",
       "      <td>0.644549</td>\n",
       "      <td>-0.032891</td>\n",
       "      <td>0.088419</td>\n",
       "      <td>0.000026</td>\n",
       "      <td>False</td>\n",
       "    </tr>\n",
       "    <tr>\n",
       "      <th>14</th>\n",
       "      <td>0.581249</td>\n",
       "      <td>0.869780</td>\n",
       "      <td>dummy_constant</td>\n",
       "      <td>0.581249</td>\n",
       "      <td>0.869780</td>\n",
       "      <td>0.194367</td>\n",
       "      <td>0.143339</td>\n",
       "      <td>0.000025</td>\n",
       "      <td>False</td>\n",
       "    </tr>\n",
       "    <tr>\n",
       "      <th>15</th>\n",
       "      <td>1.049302</td>\n",
       "      <td>0.223478</td>\n",
       "      <td>dummy_constant</td>\n",
       "      <td>1.049302</td>\n",
       "      <td>0.223478</td>\n",
       "      <td>0.248656</td>\n",
       "      <td>0.378197</td>\n",
       "      <td>0.000024</td>\n",
       "      <td>False</td>\n",
       "    </tr>\n",
       "    <tr>\n",
       "      <th>16</th>\n",
       "      <td>0.963745</td>\n",
       "      <td>0.270135</td>\n",
       "      <td>dummy_constant</td>\n",
       "      <td>0.963745</td>\n",
       "      <td>0.270135</td>\n",
       "      <td>0.035112</td>\n",
       "      <td>0.267898</td>\n",
       "      <td>0.000025</td>\n",
       "      <td>False</td>\n",
       "    </tr>\n",
       "    <tr>\n",
       "      <th>17</th>\n",
       "      <td>1.022457</td>\n",
       "      <td>0.089414</td>\n",
       "      <td>dummy_constant</td>\n",
       "      <td>1.022457</td>\n",
       "      <td>0.089414</td>\n",
       "      <td>0.035989</td>\n",
       "      <td>0.441542</td>\n",
       "      <td>0.000028</td>\n",
       "      <td>False</td>\n",
       "    </tr>\n",
       "    <tr>\n",
       "      <th>18</th>\n",
       "      <td>0.447920</td>\n",
       "      <td>0.916892</td>\n",
       "      <td>dummy_constant</td>\n",
       "      <td>0.447920</td>\n",
       "      <td>0.916892</td>\n",
       "      <td>-0.013750</td>\n",
       "      <td>0.176511</td>\n",
       "      <td>0.000026</td>\n",
       "      <td>False</td>\n",
       "    </tr>\n",
       "    <tr>\n",
       "      <th>19</th>\n",
       "      <td>0.816569</td>\n",
       "      <td>0.608420</td>\n",
       "      <td>dummy_constant</td>\n",
       "      <td>0.816569</td>\n",
       "      <td>0.608420</td>\n",
       "      <td>0.105118</td>\n",
       "      <td>0.111971</td>\n",
       "      <td>0.000026</td>\n",
       "      <td>False</td>\n",
       "    </tr>\n",
       "    <tr>\n",
       "      <th>20</th>\n",
       "      <td>0.136014</td>\n",
       "      <td>0.634003</td>\n",
       "      <td>dummy_constant</td>\n",
       "      <td>0.136014</td>\n",
       "      <td>0.634003</td>\n",
       "      <td>-0.482398</td>\n",
       "      <td>0.150443</td>\n",
       "      <td>0.000025</td>\n",
       "      <td>False</td>\n",
       "    </tr>\n",
       "    <tr>\n",
       "      <th>21</th>\n",
       "      <td>0.085267</td>\n",
       "      <td>1.142260</td>\n",
       "      <td>dummy_constant</td>\n",
       "      <td>0.085267</td>\n",
       "      <td>1.142260</td>\n",
       "      <td>0.275062</td>\n",
       "      <td>0.584501</td>\n",
       "      <td>0.000027</td>\n",
       "      <td>False</td>\n",
       "    </tr>\n",
       "    <tr>\n",
       "      <th>22</th>\n",
       "      <td>0.712268</td>\n",
       "      <td>0.729328</td>\n",
       "      <td>dummy_constant</td>\n",
       "      <td>0.712268</td>\n",
       "      <td>0.729328</td>\n",
       "      <td>-0.058968</td>\n",
       "      <td>0.097649</td>\n",
       "      <td>0.000026</td>\n",
       "      <td>False</td>\n",
       "    </tr>\n",
       "    <tr>\n",
       "      <th>23</th>\n",
       "      <td>1.010752</td>\n",
       "      <td>0.015747</td>\n",
       "      <td>dummy_constant</td>\n",
       "      <td>1.010752</td>\n",
       "      <td>0.015747</td>\n",
       "      <td>-0.075042</td>\n",
       "      <td>0.495368</td>\n",
       "      <td>0.000026</td>\n",
       "      <td>False</td>\n",
       "    </tr>\n",
       "    <tr>\n",
       "      <th>24</th>\n",
       "      <td>1.049122</td>\n",
       "      <td>0.074796</td>\n",
       "      <td>dummy_constant</td>\n",
       "      <td>1.049122</td>\n",
       "      <td>0.074796</td>\n",
       "      <td>0.064380</td>\n",
       "      <td>0.482333</td>\n",
       "      <td>0.000025</td>\n",
       "      <td>False</td>\n",
       "    </tr>\n",
       "    <tr>\n",
       "      <th>25</th>\n",
       "      <td>0.015078</td>\n",
       "      <td>0.493010</td>\n",
       "      <td>dummy_constant</td>\n",
       "      <td>0.015078</td>\n",
       "      <td>0.493010</td>\n",
       "      <td>-0.844986</td>\n",
       "      <td>0.235198</td>\n",
       "      <td>0.000026</td>\n",
       "      <td>False</td>\n",
       "    </tr>\n",
       "    <tr>\n",
       "      <th>26</th>\n",
       "      <td>0.346873</td>\n",
       "      <td>0.830700</td>\n",
       "      <td>dummy_constant</td>\n",
       "      <td>0.346873</td>\n",
       "      <td>0.830700</td>\n",
       "      <td>-0.289511</td>\n",
       "      <td>0.132811</td>\n",
       "      <td>0.000026</td>\n",
       "      <td>False</td>\n",
       "    </tr>\n",
       "    <tr>\n",
       "      <th>27</th>\n",
       "      <td>0.752572</td>\n",
       "      <td>0.328783</td>\n",
       "      <td>dummy_constant</td>\n",
       "      <td>0.752572</td>\n",
       "      <td>0.328783</td>\n",
       "      <td>-0.420860</td>\n",
       "      <td>0.093108</td>\n",
       "      <td>0.000027</td>\n",
       "      <td>False</td>\n",
       "    </tr>\n",
       "    <tr>\n",
       "      <th>28</th>\n",
       "      <td>1.053939</td>\n",
       "      <td>0.087245</td>\n",
       "      <td>dummy_constant</td>\n",
       "      <td>1.053939</td>\n",
       "      <td>0.087245</td>\n",
       "      <td>0.093724</td>\n",
       "      <td>0.477215</td>\n",
       "      <td>0.000025</td>\n",
       "      <td>False</td>\n",
       "    </tr>\n",
       "    <tr>\n",
       "      <th>29</th>\n",
       "      <td>0.517440</td>\n",
       "      <td>0.893809</td>\n",
       "      <td>dummy_constant</td>\n",
       "      <td>0.517440</td>\n",
       "      <td>0.893809</td>\n",
       "      <td>0.118257</td>\n",
       "      <td>0.155390</td>\n",
       "      <td>0.000026</td>\n",
       "      <td>False</td>\n",
       "    </tr>\n",
       "    <tr>\n",
       "      <th>30</th>\n",
       "      <td>1.534059</td>\n",
       "      <td>0.169033</td>\n",
       "      <td>dummy_constant</td>\n",
       "      <td>1.534059</td>\n",
       "      <td>0.169033</td>\n",
       "      <td>1.400315</td>\n",
       "      <td>1.178818</td>\n",
       "      <td>0.000027</td>\n",
       "      <td>False</td>\n",
       "    </tr>\n",
       "    <tr>\n",
       "      <th>31</th>\n",
       "      <td>0.906861</td>\n",
       "      <td>0.048208</td>\n",
       "      <td>dummy_constant</td>\n",
       "      <td>0.906861</td>\n",
       "      <td>0.048208</td>\n",
       "      <td>-0.241296</td>\n",
       "      <td>0.369652</td>\n",
       "      <td>0.000025</td>\n",
       "      <td>False</td>\n",
       "    </tr>\n",
       "  </tbody>\n",
       "</table>\n",
       "</div>"
      ],
      "text/plain": [
       "          x1        x2               a        y1        y2         c1  \\\n",
       "0   1.000000  0.750000  dummy_constant  1.000000  0.750000   0.626888   \n",
       "1   0.750000  1.000000  dummy_constant  0.750000  1.000000   0.626888   \n",
       "2   1.966756  3.141590  dummy_constant  1.966756  3.141590  12.826636   \n",
       "3   0.262588  0.433180  dummy_constant  0.262588  0.433180  -0.667273   \n",
       "4   0.260699  0.000000  dummy_constant  0.260699  0.000000  -1.032036   \n",
       "5   0.048356  0.083442  dummy_constant  0.048356  0.083442  -0.938469   \n",
       "6   0.000000  0.643153  dummy_constant  0.000000  0.643153  -0.686355   \n",
       "7   0.365830  0.997393  dummy_constant  0.365830  0.997393   0.049525   \n",
       "8   0.907816  0.533088  dummy_constant  0.907816  0.533088   0.168155   \n",
       "9   1.018457  0.354474  dummy_constant  1.018457  0.354474   0.102659   \n",
       "10  0.634659  0.782333  dummy_constant  0.634659  0.782333   0.023890   \n",
       "11  0.199671  1.096283  dummy_constant  0.199671  1.096283   0.338369   \n",
       "12  0.000063  1.019837  dummy_constant  0.000063  1.019837  -0.059933   \n",
       "13  0.759856  0.644549  dummy_constant  0.759856  0.644549  -0.032891   \n",
       "14  0.581249  0.869780  dummy_constant  0.581249  0.869780   0.194367   \n",
       "15  1.049302  0.223478  dummy_constant  1.049302  0.223478   0.248656   \n",
       "16  0.963745  0.270135  dummy_constant  0.963745  0.270135   0.035112   \n",
       "17  1.022457  0.089414  dummy_constant  1.022457  0.089414   0.035989   \n",
       "18  0.447920  0.916892  dummy_constant  0.447920  0.916892  -0.013750   \n",
       "19  0.816569  0.608420  dummy_constant  0.816569  0.608420   0.105118   \n",
       "20  0.136014  0.634003  dummy_constant  0.136014  0.634003  -0.482398   \n",
       "21  0.085267  1.142260  dummy_constant  0.085267  1.142260   0.275062   \n",
       "22  0.712268  0.729328  dummy_constant  0.712268  0.729328  -0.058968   \n",
       "23  1.010752  0.015747  dummy_constant  1.010752  0.015747  -0.075042   \n",
       "24  1.049122  0.074796  dummy_constant  1.049122  0.074796   0.064380   \n",
       "25  0.015078  0.493010  dummy_constant  0.015078  0.493010  -0.844986   \n",
       "26  0.346873  0.830700  dummy_constant  0.346873  0.830700  -0.289511   \n",
       "27  0.752572  0.328783  dummy_constant  0.752572  0.328783  -0.420860   \n",
       "28  1.053939  0.087245  dummy_constant  1.053939  0.087245   0.093724   \n",
       "29  0.517440  0.893809  dummy_constant  0.517440  0.893809   0.118257   \n",
       "30  1.534059  0.169033  dummy_constant  1.534059  0.169033   1.400315   \n",
       "31  0.906861  0.048208  dummy_constant  0.906861  0.048208  -0.241296   \n",
       "\n",
       "          c2  xopt_runtime  xopt_error  \n",
       "0   0.312500      0.000038       False  \n",
       "1   0.312500      0.000008       False  \n",
       "2   9.129371      0.000025       False  \n",
       "3   0.060829      0.000024       False  \n",
       "4   0.307265      0.000024       False  \n",
       "5   0.377503      0.000025       False  \n",
       "6   0.270493      0.000025       False  \n",
       "7   0.265401      0.000023       False  \n",
       "8   0.167409      0.000023       False  \n",
       "9   0.289976      0.000024       False  \n",
       "10  0.097845      0.000024       False  \n",
       "11  0.445751      0.000026       False  \n",
       "12  0.520167      0.000026       False  \n",
       "13  0.088419      0.000026       False  \n",
       "14  0.143339      0.000025       False  \n",
       "15  0.378197      0.000024       False  \n",
       "16  0.267898      0.000025       False  \n",
       "17  0.441542      0.000028       False  \n",
       "18  0.176511      0.000026       False  \n",
       "19  0.111971      0.000026       False  \n",
       "20  0.150443      0.000025       False  \n",
       "21  0.584501      0.000027       False  \n",
       "22  0.097649      0.000026       False  \n",
       "23  0.495368      0.000026       False  \n",
       "24  0.482333      0.000025       False  \n",
       "25  0.235198      0.000026       False  \n",
       "26  0.132811      0.000026       False  \n",
       "27  0.093108      0.000027       False  \n",
       "28  0.477215      0.000025       False  \n",
       "29  0.155390      0.000026       False  \n",
       "30  1.178818      0.000027       False  \n",
       "31  0.369652      0.000025       False  "
      ]
     },
     "execution_count": 3,
     "metadata": {},
     "output_type": "execute_result"
    }
   ],
   "source": [
    "X.generator.data"
   ]
  },
  {
   "cell_type": "markdown",
   "metadata": {
    "collapsed": false
   },
   "source": [
    "## plot results\n"
   ]
  },
  {
   "cell_type": "code",
   "execution_count": 4,
   "metadata": {
    "collapsed": false,
    "execution": {
     "iopub.execute_input": "2024-01-25T21:40:47.252411Z",
     "iopub.status.busy": "2024-01-25T21:40:47.252233Z",
     "iopub.status.idle": "2024-01-25T21:40:47.712598Z",
     "shell.execute_reply": "2024-01-25T21:40:47.711991Z"
    }
   },
   "outputs": [
    {
     "data": {
      "image/png": "[encoded data removed]",
      "text/plain": [
       "<Figure size 640x480 with 1 Axes>"
      ]
     },
     "metadata": {},
     "output_type": "display_data"
    }
   ],
   "source": [
    "import matplotlib.pyplot as plt\n",
    "\n",
    "fig, ax = plt.subplots()\n",
    "\n",
    "theta = np.linspace(0, np.pi / 2)\n",
    "r = np.sqrt(1 + 0.1 * np.cos(16 * theta))\n",
    "x_1 = r * np.sin(theta)\n",
    "x_2_lower = r * np.cos(theta)\n",
    "x_2_upper = (0.5 - (x_1 - 0.5) ** 2) ** 0.5 + 0.5\n",
    "\n",
    "z = np.zeros_like(x_1)\n",
    "\n",
    "# ax2.plot(x_1, x_2_lower,'r')\n",
    "ax.fill_between(x_1, z, x_2_lower, fc=\"white\")\n",
    "circle = plt.Circle(\n",
    "    (0.5, 0.5), 0.5 ** 0.5, color=\"r\", alpha=0.25, zorder=0, label=\"Valid Region\"\n",
    ")\n",
    "ax.add_patch(circle)\n",
    "history = pd.concat(\n",
    "    [X.data, tnk_vocs.feasibility_data(X.data)], axis=1, ignore_index=False\n",
    ")\n",
    "\n",
    "\n",
    "ax.plot(*history[[\"x1\", \"x2\"]][history[\"feasible\"]].to_numpy().T, \".C1\")\n",
    "ax.plot(*history[[\"x1\", \"x2\"]][~history[\"feasible\"]].to_numpy().T, \".C2\")\n",
    "\n",
    "ax.set_xlim(0, 3.14)\n",
    "ax.set_ylim(0, 3.14)\n",
    "ax.set_xlabel(\"x1\")\n",
    "ax.set_ylabel(\"x2\")\n",
    "ax.set_aspect(\"equal\")"
   ]
  },
  {
   "cell_type": "markdown",
   "metadata": {
    "collapsed": false
   },
   "source": [
    "### Plot path through input space"
   ]
  },
  {
   "cell_type": "code",
   "execution_count": 5,
   "metadata": {
    "collapsed": false,
    "execution": {
     "iopub.execute_input": "2024-01-25T21:40:47.715341Z",
     "iopub.status.busy": "2024-01-25T21:40:47.714830Z",
     "iopub.status.idle": "2024-01-25T21:40:47.835583Z",
     "shell.execute_reply": "2024-01-25T21:40:47.835010Z"
    }
   },
   "outputs": [
    {
     "data": {
      "image/png": "[encoded data removed]",
      "text/plain": [
       "<Figure size 640x480 with 1 Axes>"
      ]
     },
     "metadata": {},
     "output_type": "display_data"
    }
   ],
   "source": [
    "ax = history.plot(\"x1\", \"x2\")\n",
    "ax.set_ylim(0, 3.14)\n",
    "ax.set_xlim(0, 3.14)\n",
    "ax.set_aspect(\"equal\")"
   ]
  },
  {
   "cell_type": "code",
   "execution_count": 6,
   "metadata": {
    "collapsed": false,
    "execution": {
     "iopub.execute_input": "2024-01-25T21:40:47.837742Z",
     "iopub.status.busy": "2024-01-25T21:40:47.837553Z",
     "iopub.status.idle": "2024-01-25T21:41:02.955623Z",
     "shell.execute_reply": "2024-01-25T21:41:02.954993Z"
    }
   },
   "outputs": [
    {
     "name": "stdout",
     "output_type": "stream",
     "text": [
      "[[0.70896107 0.6167352 ]]\n"
     ]
    },
    {
     "data": {
      "text/plain": [
       "[<matplotlib.lines.Line2D at 0x7fddcfccd7f0>]"
      ]
     },
     "execution_count": 6,
     "metadata": {},
     "output_type": "execute_result"
    },
    {
     "data": {
      "image/png": "[encoded data removed]",
      "text/plain": [
       "<Figure size 640x480 with 2 Axes>"
      ]
     },
     "metadata": {},
     "output_type": "display_data"
    },
    {
     "data": {
      "image/png": "[encoded data removed]",
      "text/plain": [
       "<Figure size 640x480 with 2 Axes>"
      ]
     },
     "metadata": {},
     "output_type": "display_data"
    }
   ],
   "source": [
    "# plot the acquisition function\n",
    "from xopt.generators.bayesian.objectives import feasibility\n",
    "\n",
    "bounds = X.generator.vocs.bounds\n",
    "model = X.generator.model\n",
    "\n",
    "# create mesh\n",
    "n = 200\n",
    "x = torch.linspace(*bounds.T[0], n)\n",
    "y = torch.linspace(*bounds.T[1], n)\n",
    "xx, yy = torch.meshgrid(x, y)\n",
    "pts = torch.hstack([ele.reshape(-1, 1) for ele in (xx, yy)]).double()\n",
    "\n",
    "xx, yy = xx.numpy(), yy.numpy()\n",
    "\n",
    "acq_func = X.generator.get_acquisition(model)\n",
    "with torch.no_grad():\n",
    "    acq_pts = pts.unsqueeze(1)\n",
    "    acq = acq_func(acq_pts)\n",
    "\n",
    "    fig, ax = plt.subplots()\n",
    "    c = ax.pcolor(xx, yy, acq.reshape(n, n), cmap=\"Blues\")\n",
    "    fig.colorbar(c)\n",
    "    ax.set_title(\"Acquisition function\")\n",
    "\n",
    "    ax.plot(*history[[\"x1\", \"x2\"]][history[\"feasible\"]].to_numpy().T, \".C1\")\n",
    "    ax.plot(*history[[\"x1\", \"x2\"]][~history[\"feasible\"]].to_numpy().T, \".C2\")\n",
    "\n",
    "    ax.plot(*history[[\"x1\", \"x2\"]].to_numpy()[-1].T, \"+\")\n",
    "\n",
    "    feas = feasibility(pts.unsqueeze(1), model, tnk_vocs).flatten()\n",
    "\n",
    "    fig2, ax2 = plt.subplots()\n",
    "    c = ax2.pcolor(xx, yy, feas.reshape(n, n))\n",
    "    fig2.colorbar(c)\n",
    "    ax2.set_title(\"Feasible Region\")\n",
    "\n",
    "candidate = pd.DataFrame(X.generator.generate(1), index=[0])\n",
    "print(candidate[[\"x1\", \"x2\"]].to_numpy())\n",
    "ax.plot(*candidate[[\"x1\", \"x2\"]].to_numpy()[0], \"o\")"
   ]
  },
  {
   "cell_type": "code",
   "execution_count": 7,
   "metadata": {
    "collapsed": false,
    "execution": {
     "iopub.execute_input": "2024-01-25T21:41:02.958105Z",
     "iopub.status.busy": "2024-01-25T21:41:02.957758Z",
     "iopub.status.idle": "2024-01-25T21:41:03.381189Z",
     "shell.execute_reply": "2024-01-25T21:41:03.380581Z"
    }
   },
   "outputs": [
    {
     "name": "stdout",
     "output_type": "stream",
     "text": [
      "CPU times: user 812 ms, sys: 24 ms, total: 836 ms\n",
      "Wall time: 420 ms\n"
     ]
    }
   ],
   "source": [
    "%%time\n",
    "candidate = X.generator.generate(1)"
   ]
  }
 ],
 "metadata": {
  "interpreter": {
   "hash": "72034539424920dfb606fe3b820b3f27dca0cbf1c69938110810ec4641e275b1"
  },
  "kernelspec": {
   "display_name": "Python 3 (ipykernel)",
   "language": "python",
   "name": "python3"
  },
  "language_info": {
   "codemirror_mode": {
    "name": "ipython",
    "version": 3
   },
   "file_extension": ".py",
   "mimetype": "text/x-python",
   "name": "python",
   "nbconvert_exporter": "python",
   "pygments_lexer": "ipython3",
   "version": "3.9.18"
  }
 },
 "nbformat": 4,
 "nbformat_minor": 4
}
