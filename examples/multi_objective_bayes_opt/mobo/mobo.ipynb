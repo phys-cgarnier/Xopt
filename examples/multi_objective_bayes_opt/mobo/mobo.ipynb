{
 "cells": [
  {
   "cell_type": "markdown",
   "metadata": {},
   "source": [
    "\n",
    "# Multi-objective Bayesian Optimization\n",
    "\n",
    "\n",
    "TNK function\n",
    "$n=2$ variables:\n",
    "$x_i \\in [0, \\pi], i=1,2$\n",
    "\n",
    "Objectives:\n",
    "- $f_i(x) = x_i$\n",
    "\n",
    "Constraints:\n",
    "- $g_1(x) = -x_1^2 -x_2^2 + 1 + 0.1 \\cos\\left(16 \\arctan \\frac{x_1}{x_2}\\right) \\le 0$\n",
    "- $g_2(x) = (x_1 - 1/2)^2 + (x_2-1/2)^2 \\le 0.5$"
   ]
  },
  {
   "cell_type": "code",
   "execution_count": 1,
   "metadata": {
    "collapsed": false,
    "execution": {
     "iopub.execute_input": "2024-04-24T15:44:36.645747Z",
     "iopub.status.busy": "2024-04-24T15:44:36.645556Z",
     "iopub.status.idle": "2024-04-24T15:44:38.878841Z",
     "shell.execute_reply": "2024-04-24T15:44:38.878165Z"
    }
   },
   "outputs": [
    {
     "name": "stdout",
     "output_type": "stream",
     "text": [
      "{'variables': {'x1': [0.0, 3.14159], 'x2': [0.0, 3.14159]}, 'constraints': {'c1': ['GREATER_THAN', 0.0], 'c2': ['LESS_THAN', 0.5]}, 'objectives': {'y1': 'MINIMIZE', 'y2': 'MINIMIZE'}, 'constants': {'a': 'dummy_constant'}, 'observables': []}\n"
     ]
    }
   ],
   "source": [
    "# set values if testing\n",
    "import os\n",
    "SMOKE_TEST = os.environ.get(\"SMOKE_TEST\")\n",
    "N_MC_SAMPLES = 1 if SMOKE_TEST else 128\n",
    "NUM_RESTARTS = 1 if SMOKE_TEST else 20\n",
    "N_STEPS = 1 if SMOKE_TEST else 30\n",
    "\n",
    "# Ignore all warnings\n",
    "import warnings\n",
    "warnings.filterwarnings(\"ignore\")\n",
    "\n",
    "\n",
    "import pandas as pd\n",
    "import numpy as np\n",
    "import torch\n",
    "\n",
    "from xopt import Xopt, Evaluator\n",
    "from xopt.generators.bayesian import MOBOGenerator\n",
    "from xopt.resources.test_functions.tnk import evaluate_TNK, tnk_vocs\n",
    "\n",
    "\n",
    "evaluator = Evaluator(function=evaluate_TNK)\n",
    "print(tnk_vocs.dict())"
   ]
  },
  {
   "cell_type": "code",
   "execution_count": 2,
   "metadata": {
    "collapsed": false,
    "execution": {
     "iopub.execute_input": "2024-04-24T15:44:38.909303Z",
     "iopub.status.busy": "2024-04-24T15:44:38.908748Z",
     "iopub.status.idle": "2024-04-24T15:45:22.297799Z",
     "shell.execute_reply": "2024-04-24T15:45:22.297122Z"
    }
   },
   "outputs": [
    {
     "name": "stdout",
     "output_type": "stream",
     "text": [
      "0\n"
     ]
    },
    {
     "name": "stdout",
     "output_type": "stream",
     "text": [
      "1\n"
     ]
    },
    {
     "name": "stdout",
     "output_type": "stream",
     "text": [
      "2\n"
     ]
    },
    {
     "name": "stdout",
     "output_type": "stream",
     "text": [
      "3\n"
     ]
    },
    {
     "name": "stdout",
     "output_type": "stream",
     "text": [
      "4\n"
     ]
    },
    {
     "name": "stdout",
     "output_type": "stream",
     "text": [
      "5\n"
     ]
    },
    {
     "name": "stdout",
     "output_type": "stream",
     "text": [
      "6\n"
     ]
    },
    {
     "name": "stdout",
     "output_type": "stream",
     "text": [
      "7\n"
     ]
    },
    {
     "name": "stdout",
     "output_type": "stream",
     "text": [
      "8\n"
     ]
    },
    {
     "name": "stdout",
     "output_type": "stream",
     "text": [
      "9\n"
     ]
    },
    {
     "name": "stdout",
     "output_type": "stream",
     "text": [
      "10\n"
     ]
    },
    {
     "name": "stdout",
     "output_type": "stream",
     "text": [
      "11\n"
     ]
    },
    {
     "name": "stdout",
     "output_type": "stream",
     "text": [
      "12\n"
     ]
    },
    {
     "name": "stdout",
     "output_type": "stream",
     "text": [
      "13\n"
     ]
    },
    {
     "name": "stdout",
     "output_type": "stream",
     "text": [
      "14\n"
     ]
    },
    {
     "name": "stdout",
     "output_type": "stream",
     "text": [
      "15\n"
     ]
    },
    {
     "name": "stdout",
     "output_type": "stream",
     "text": [
      "16\n"
     ]
    },
    {
     "name": "stdout",
     "output_type": "stream",
     "text": [
      "17\n"
     ]
    },
    {
     "name": "stdout",
     "output_type": "stream",
     "text": [
      "18\n"
     ]
    },
    {
     "name": "stdout",
     "output_type": "stream",
     "text": [
      "19\n"
     ]
    },
    {
     "name": "stdout",
     "output_type": "stream",
     "text": [
      "20\n"
     ]
    },
    {
     "name": "stdout",
     "output_type": "stream",
     "text": [
      "21\n"
     ]
    },
    {
     "name": "stdout",
     "output_type": "stream",
     "text": [
      "22\n"
     ]
    },
    {
     "name": "stdout",
     "output_type": "stream",
     "text": [
      "23\n"
     ]
    },
    {
     "name": "stdout",
     "output_type": "stream",
     "text": [
      "24\n"
     ]
    },
    {
     "name": "stdout",
     "output_type": "stream",
     "text": [
      "25\n"
     ]
    },
    {
     "name": "stdout",
     "output_type": "stream",
     "text": [
      "26\n"
     ]
    },
    {
     "name": "stdout",
     "output_type": "stream",
     "text": [
      "27\n"
     ]
    },
    {
     "name": "stdout",
     "output_type": "stream",
     "text": [
      "28\n"
     ]
    },
    {
     "name": "stdout",
     "output_type": "stream",
     "text": [
      "29\n"
     ]
    }
   ],
   "source": [
    "generator = MOBOGenerator(vocs=tnk_vocs, reference_point = {\"y1\":1.5,\"y2\":1.5})\n",
    "generator.n_monte_carlo_samples = N_MC_SAMPLES\n",
    "generator.numerical_optimizer.n_restarts = NUM_RESTARTS\n",
    "\n",
    "X = Xopt(generator=generator, evaluator=evaluator, vocs=tnk_vocs)\n",
    "X.evaluate_data(pd.DataFrame({\"x1\":[1.0, 0.75],\"x2\":[0.75, 1.0]}))\n",
    "\n",
    "for i in range(N_STEPS):\n",
    "    print(i)\n",
    "    X.step()"
   ]
  },
  {
   "cell_type": "code",
   "execution_count": 3,
   "metadata": {
    "collapsed": false,
    "execution": {
     "iopub.execute_input": "2024-04-24T15:45:22.301219Z",
     "iopub.status.busy": "2024-04-24T15:45:22.300658Z",
     "iopub.status.idle": "2024-04-24T15:45:22.320017Z",
     "shell.execute_reply": "2024-04-24T15:45:22.319463Z"
    }
   },
   "outputs": [
    {
     "data": {
      "text/html": [
       "<div>\n",
       "<style scoped>\n",
       "    .dataframe tbody tr th:only-of-type {\n",
       "        vertical-align: middle;\n",
       "    }\n",
       "\n",
       "    .dataframe tbody tr th {\n",
       "        vertical-align: top;\n",
       "    }\n",
       "\n",
       "    .dataframe thead th {\n",
       "        text-align: right;\n",
       "    }\n",
       "</style>\n",
       "<table border=\"1\" class=\"dataframe\">\n",
       "  <thead>\n",
       "    <tr style=\"text-align: right;\">\n",
       "      <th></th>\n",
       "      <th>x1</th>\n",
       "      <th>x2</th>\n",
       "      <th>a</th>\n",
       "      <th>y1</th>\n",
       "      <th>y2</th>\n",
       "      <th>c1</th>\n",
       "      <th>c2</th>\n",
       "      <th>xopt_runtime</th>\n",
       "      <th>xopt_error</th>\n",
       "    </tr>\n",
       "  </thead>\n",
       "  <tbody>\n",
       "    <tr>\n",
       "      <th>0</th>\n",
       "      <td>1.000000</td>\n",
       "      <td>0.750000</td>\n",
       "      <td>dummy_constant</td>\n",
       "      <td>1.000000</td>\n",
       "      <td>0.750000</td>\n",
       "      <td>0.626888</td>\n",
       "      <td>0.312500</td>\n",
       "      <td>0.000037</td>\n",
       "      <td>False</td>\n",
       "    </tr>\n",
       "    <tr>\n",
       "      <th>1</th>\n",
       "      <td>0.750000</td>\n",
       "      <td>1.000000</td>\n",
       "      <td>dummy_constant</td>\n",
       "      <td>0.750000</td>\n",
       "      <td>1.000000</td>\n",
       "      <td>0.626888</td>\n",
       "      <td>0.312500</td>\n",
       "      <td>0.000007</td>\n",
       "      <td>False</td>\n",
       "    </tr>\n",
       "    <tr>\n",
       "      <th>2</th>\n",
       "      <td>2.506948</td>\n",
       "      <td>1.171228</td>\n",
       "      <td>dummy_constant</td>\n",
       "      <td>2.506948</td>\n",
       "      <td>1.171228</td>\n",
       "      <td>6.580710</td>\n",
       "      <td>4.478386</td>\n",
       "      <td>0.000027</td>\n",
       "      <td>False</td>\n",
       "    </tr>\n",
       "    <tr>\n",
       "      <th>3</th>\n",
       "      <td>0.375852</td>\n",
       "      <td>0.146844</td>\n",
       "      <td>dummy_constant</td>\n",
       "      <td>0.375852</td>\n",
       "      <td>0.146844</td>\n",
       "      <td>-0.931975</td>\n",
       "      <td>0.140132</td>\n",
       "      <td>0.000026</td>\n",
       "      <td>False</td>\n",
       "    </tr>\n",
       "    <tr>\n",
       "      <th>4</th>\n",
       "      <td>0.045862</td>\n",
       "      <td>0.053405</td>\n",
       "      <td>dummy_constant</td>\n",
       "      <td>0.045862</td>\n",
       "      <td>0.053405</td>\n",
       "      <td>-1.030033</td>\n",
       "      <td>0.405689</td>\n",
       "      <td>0.000027</td>\n",
       "      <td>False</td>\n",
       "    </tr>\n",
       "    <tr>\n",
       "      <th>5</th>\n",
       "      <td>0.000000</td>\n",
       "      <td>0.446234</td>\n",
       "      <td>dummy_constant</td>\n",
       "      <td>0.000000</td>\n",
       "      <td>0.446234</td>\n",
       "      <td>-0.900875</td>\n",
       "      <td>0.252891</td>\n",
       "      <td>0.000026</td>\n",
       "      <td>False</td>\n",
       "    </tr>\n",
       "    <tr>\n",
       "      <th>6</th>\n",
       "      <td>0.012219</td>\n",
       "      <td>0.939585</td>\n",
       "      <td>dummy_constant</td>\n",
       "      <td>0.012219</td>\n",
       "      <td>0.939585</td>\n",
       "      <td>-0.214875</td>\n",
       "      <td>0.431165</td>\n",
       "      <td>0.000028</td>\n",
       "      <td>False</td>\n",
       "    </tr>\n",
       "    <tr>\n",
       "      <th>7</th>\n",
       "      <td>0.215979</td>\n",
       "      <td>1.048498</td>\n",
       "      <td>dummy_constant</td>\n",
       "      <td>0.215979</td>\n",
       "      <td>1.048498</td>\n",
       "      <td>0.245404</td>\n",
       "      <td>0.381518</td>\n",
       "      <td>0.000028</td>\n",
       "      <td>False</td>\n",
       "    </tr>\n",
       "    <tr>\n",
       "      <th>8</th>\n",
       "      <td>1.009845</td>\n",
       "      <td>0.347483</td>\n",
       "      <td>dummy_constant</td>\n",
       "      <td>1.009845</td>\n",
       "      <td>0.347483</td>\n",
       "      <td>0.084887</td>\n",
       "      <td>0.283203</td>\n",
       "      <td>0.000039</td>\n",
       "      <td>False</td>\n",
       "    </tr>\n",
       "    <tr>\n",
       "      <th>9</th>\n",
       "      <td>0.570812</td>\n",
       "      <td>0.835164</td>\n",
       "      <td>dummy_constant</td>\n",
       "      <td>0.570812</td>\n",
       "      <td>0.835164</td>\n",
       "      <td>0.121917</td>\n",
       "      <td>0.117349</td>\n",
       "      <td>0.000033</td>\n",
       "      <td>False</td>\n",
       "    </tr>\n",
       "    <tr>\n",
       "      <th>10</th>\n",
       "      <td>0.082674</td>\n",
       "      <td>1.028339</td>\n",
       "      <td>dummy_constant</td>\n",
       "      <td>0.082674</td>\n",
       "      <td>1.028339</td>\n",
       "      <td>0.035987</td>\n",
       "      <td>0.453303</td>\n",
       "      <td>0.000027</td>\n",
       "      <td>False</td>\n",
       "    </tr>\n",
       "    <tr>\n",
       "      <th>11</th>\n",
       "      <td>0.815941</td>\n",
       "      <td>0.649928</td>\n",
       "      <td>dummy_constant</td>\n",
       "      <td>0.815941</td>\n",
       "      <td>0.649928</td>\n",
       "      <td>0.111309</td>\n",
       "      <td>0.122297</td>\n",
       "      <td>0.000027</td>\n",
       "      <td>False</td>\n",
       "    </tr>\n",
       "    <tr>\n",
       "      <th>12</th>\n",
       "      <td>0.012334</td>\n",
       "      <td>0.856008</td>\n",
       "      <td>dummy_constant</td>\n",
       "      <td>0.012334</td>\n",
       "      <td>0.856008</td>\n",
       "      <td>-0.364453</td>\n",
       "      <td>0.364559</td>\n",
       "      <td>0.000027</td>\n",
       "      <td>False</td>\n",
       "    </tr>\n",
       "    <tr>\n",
       "      <th>13</th>\n",
       "      <td>0.300986</td>\n",
       "      <td>0.915768</td>\n",
       "      <td>dummy_constant</td>\n",
       "      <td>0.300986</td>\n",
       "      <td>0.915768</td>\n",
       "      <td>-0.106786</td>\n",
       "      <td>0.212470</td>\n",
       "      <td>0.000029</td>\n",
       "      <td>False</td>\n",
       "    </tr>\n",
       "    <tr>\n",
       "      <th>14</th>\n",
       "      <td>0.208836</td>\n",
       "      <td>3.018894</td>\n",
       "      <td>dummy_constant</td>\n",
       "      <td>0.208836</td>\n",
       "      <td>3.018894</td>\n",
       "      <td>8.112425</td>\n",
       "      <td>6.429603</td>\n",
       "      <td>0.000026</td>\n",
       "      <td>False</td>\n",
       "    </tr>\n",
       "    <tr>\n",
       "      <th>15</th>\n",
       "      <td>0.909644</td>\n",
       "      <td>0.485959</td>\n",
       "      <td>dummy_constant</td>\n",
       "      <td>0.909644</td>\n",
       "      <td>0.485959</td>\n",
       "      <td>0.063257</td>\n",
       "      <td>0.168005</td>\n",
       "      <td>0.000028</td>\n",
       "      <td>False</td>\n",
       "    </tr>\n",
       "    <tr>\n",
       "      <th>16</th>\n",
       "      <td>1.066541</td>\n",
       "      <td>0.221608</td>\n",
       "      <td>dummy_constant</td>\n",
       "      <td>1.066541</td>\n",
       "      <td>0.221608</td>\n",
       "      <td>0.285693</td>\n",
       "      <td>0.398471</td>\n",
       "      <td>0.000028</td>\n",
       "      <td>False</td>\n",
       "    </tr>\n",
       "    <tr>\n",
       "      <th>17</th>\n",
       "      <td>0.570435</td>\n",
       "      <td>0.179447</td>\n",
       "      <td>dummy_constant</td>\n",
       "      <td>0.570435</td>\n",
       "      <td>0.179447</td>\n",
       "      <td>-0.658735</td>\n",
       "      <td>0.107715</td>\n",
       "      <td>0.000027</td>\n",
       "      <td>False</td>\n",
       "    </tr>\n",
       "    <tr>\n",
       "      <th>18</th>\n",
       "      <td>0.983754</td>\n",
       "      <td>0.041109</td>\n",
       "      <td>dummy_constant</td>\n",
       "      <td>0.983754</td>\n",
       "      <td>0.041109</td>\n",
       "      <td>-0.109031</td>\n",
       "      <td>0.444599</td>\n",
       "      <td>0.000026</td>\n",
       "      <td>False</td>\n",
       "    </tr>\n",
       "    <tr>\n",
       "      <th>19</th>\n",
       "      <td>0.374073</td>\n",
       "      <td>0.937420</td>\n",
       "      <td>dummy_constant</td>\n",
       "      <td>0.374073</td>\n",
       "      <td>0.937420</td>\n",
       "      <td>-0.079153</td>\n",
       "      <td>0.207194</td>\n",
       "      <td>0.000028</td>\n",
       "      <td>False</td>\n",
       "    </tr>\n",
       "    <tr>\n",
       "      <th>20</th>\n",
       "      <td>0.848629</td>\n",
       "      <td>0.551869</td>\n",
       "      <td>dummy_constant</td>\n",
       "      <td>0.848629</td>\n",
       "      <td>0.551869</td>\n",
       "      <td>0.122751</td>\n",
       "      <td>0.124233</td>\n",
       "      <td>0.000027</td>\n",
       "      <td>False</td>\n",
       "    </tr>\n",
       "    <tr>\n",
       "      <th>21</th>\n",
       "      <td>0.089847</td>\n",
       "      <td>0.861583</td>\n",
       "      <td>dummy_constant</td>\n",
       "      <td>0.089847</td>\n",
       "      <td>0.861583</td>\n",
       "      <td>-0.240446</td>\n",
       "      <td>0.298968</td>\n",
       "      <td>0.000026</td>\n",
       "      <td>False</td>\n",
       "    </tr>\n",
       "    <tr>\n",
       "      <th>22</th>\n",
       "      <td>0.689340</td>\n",
       "      <td>0.744406</td>\n",
       "      <td>dummy_constant</td>\n",
       "      <td>0.689340</td>\n",
       "      <td>0.744406</td>\n",
       "      <td>-0.052392</td>\n",
       "      <td>0.095584</td>\n",
       "      <td>0.000025</td>\n",
       "      <td>False</td>\n",
       "    </tr>\n",
       "    <tr>\n",
       "      <th>23</th>\n",
       "      <td>0.514071</td>\n",
       "      <td>0.538306</td>\n",
       "      <td>dummy_constant</td>\n",
       "      <td>0.514071</td>\n",
       "      <td>0.538306</td>\n",
       "      <td>-0.539247</td>\n",
       "      <td>0.001665</td>\n",
       "      <td>0.000029</td>\n",
       "      <td>False</td>\n",
       "    </tr>\n",
       "    <tr>\n",
       "      <th>24</th>\n",
       "      <td>0.327539</td>\n",
       "      <td>0.436737</td>\n",
       "      <td>dummy_constant</td>\n",
       "      <td>0.327539</td>\n",
       "      <td>0.436737</td>\n",
       "      <td>-0.637567</td>\n",
       "      <td>0.033745</td>\n",
       "      <td>0.000028</td>\n",
       "      <td>False</td>\n",
       "    </tr>\n",
       "    <tr>\n",
       "      <th>25</th>\n",
       "      <td>0.764351</td>\n",
       "      <td>0.541962</td>\n",
       "      <td>dummy_constant</td>\n",
       "      <td>0.764351</td>\n",
       "      <td>0.541962</td>\n",
       "      <td>-0.031723</td>\n",
       "      <td>0.071642</td>\n",
       "      <td>0.000028</td>\n",
       "      <td>False</td>\n",
       "    </tr>\n",
       "    <tr>\n",
       "      <th>26</th>\n",
       "      <td>1.038403</td>\n",
       "      <td>0.072073</td>\n",
       "      <td>dummy_constant</td>\n",
       "      <td>1.038403</td>\n",
       "      <td>0.072073</td>\n",
       "      <td>0.038896</td>\n",
       "      <td>0.473000</td>\n",
       "      <td>0.000027</td>\n",
       "      <td>False</td>\n",
       "    </tr>\n",
       "    <tr>\n",
       "      <th>27</th>\n",
       "      <td>0.350563</td>\n",
       "      <td>0.796910</td>\n",
       "      <td>dummy_constant</td>\n",
       "      <td>0.350563</td>\n",
       "      <td>0.796910</td>\n",
       "      <td>-0.336058</td>\n",
       "      <td>0.110487</td>\n",
       "      <td>0.000027</td>\n",
       "      <td>False</td>\n",
       "    </tr>\n",
       "    <tr>\n",
       "      <th>28</th>\n",
       "      <td>1.338238</td>\n",
       "      <td>0.015799</td>\n",
       "      <td>dummy_constant</td>\n",
       "      <td>1.338238</td>\n",
       "      <td>0.015799</td>\n",
       "      <td>0.692909</td>\n",
       "      <td>0.937093</td>\n",
       "      <td>0.000025</td>\n",
       "      <td>False</td>\n",
       "    </tr>\n",
       "    <tr>\n",
       "      <th>29</th>\n",
       "      <td>0.085330</td>\n",
       "      <td>3.133850</td>\n",
       "      <td>dummy_constant</td>\n",
       "      <td>0.085330</td>\n",
       "      <td>3.133850</td>\n",
       "      <td>8.737635</td>\n",
       "      <td>7.109118</td>\n",
       "      <td>0.000028</td>\n",
       "      <td>False</td>\n",
       "    </tr>\n",
       "    <tr>\n",
       "      <th>30</th>\n",
       "      <td>0.046127</td>\n",
       "      <td>0.776113</td>\n",
       "      <td>dummy_constant</td>\n",
       "      <td>0.046127</td>\n",
       "      <td>0.776113</td>\n",
       "      <td>-0.453706</td>\n",
       "      <td>0.282239</td>\n",
       "      <td>0.000029</td>\n",
       "      <td>False</td>\n",
       "    </tr>\n",
       "    <tr>\n",
       "      <th>31</th>\n",
       "      <td>0.492104</td>\n",
       "      <td>0.901035</td>\n",
       "      <td>dummy_constant</td>\n",
       "      <td>0.492104</td>\n",
       "      <td>0.901035</td>\n",
       "      <td>0.068400</td>\n",
       "      <td>0.160891</td>\n",
       "      <td>0.000027</td>\n",
       "      <td>False</td>\n",
       "    </tr>\n",
       "  </tbody>\n",
       "</table>\n",
       "</div>"
      ],
      "text/plain": [
       "          x1        x2               a        y1        y2        c1  \\\n",
       "0   1.000000  0.750000  dummy_constant  1.000000  0.750000  0.626888   \n",
       "1   0.750000  1.000000  dummy_constant  0.750000  1.000000  0.626888   \n",
       "2   2.506948  1.171228  dummy_constant  2.506948  1.171228  6.580710   \n",
       "3   0.375852  0.146844  dummy_constant  0.375852  0.146844 -0.931975   \n",
       "4   0.045862  0.053405  dummy_constant  0.045862  0.053405 -1.030033   \n",
       "5   0.000000  0.446234  dummy_constant  0.000000  0.446234 -0.900875   \n",
       "6   0.012219  0.939585  dummy_constant  0.012219  0.939585 -0.214875   \n",
       "7   0.215979  1.048498  dummy_constant  0.215979  1.048498  0.245404   \n",
       "8   1.009845  0.347483  dummy_constant  1.009845  0.347483  0.084887   \n",
       "9   0.570812  0.835164  dummy_constant  0.570812  0.835164  0.121917   \n",
       "10  0.082674  1.028339  dummy_constant  0.082674  1.028339  0.035987   \n",
       "11  0.815941  0.649928  dummy_constant  0.815941  0.649928  0.111309   \n",
       "12  0.012334  0.856008  dummy_constant  0.012334  0.856008 -0.364453   \n",
       "13  0.300986  0.915768  dummy_constant  0.300986  0.915768 -0.106786   \n",
       "14  0.208836  3.018894  dummy_constant  0.208836  3.018894  8.112425   \n",
       "15  0.909644  0.485959  dummy_constant  0.909644  0.485959  0.063257   \n",
       "16  1.066541  0.221608  dummy_constant  1.066541  0.221608  0.285693   \n",
       "17  0.570435  0.179447  dummy_constant  0.570435  0.179447 -0.658735   \n",
       "18  0.983754  0.041109  dummy_constant  0.983754  0.041109 -0.109031   \n",
       "19  0.374073  0.937420  dummy_constant  0.374073  0.937420 -0.079153   \n",
       "20  0.848629  0.551869  dummy_constant  0.848629  0.551869  0.122751   \n",
       "21  0.089847  0.861583  dummy_constant  0.089847  0.861583 -0.240446   \n",
       "22  0.689340  0.744406  dummy_constant  0.689340  0.744406 -0.052392   \n",
       "23  0.514071  0.538306  dummy_constant  0.514071  0.538306 -0.539247   \n",
       "24  0.327539  0.436737  dummy_constant  0.327539  0.436737 -0.637567   \n",
       "25  0.764351  0.541962  dummy_constant  0.764351  0.541962 -0.031723   \n",
       "26  1.038403  0.072073  dummy_constant  1.038403  0.072073  0.038896   \n",
       "27  0.350563  0.796910  dummy_constant  0.350563  0.796910 -0.336058   \n",
       "28  1.338238  0.015799  dummy_constant  1.338238  0.015799  0.692909   \n",
       "29  0.085330  3.133850  dummy_constant  0.085330  3.133850  8.737635   \n",
       "30  0.046127  0.776113  dummy_constant  0.046127  0.776113 -0.453706   \n",
       "31  0.492104  0.901035  dummy_constant  0.492104  0.901035  0.068400   \n",
       "\n",
       "          c2  xopt_runtime  xopt_error  \n",
       "0   0.312500      0.000037       False  \n",
       "1   0.312500      0.000007       False  \n",
       "2   4.478386      0.000027       False  \n",
       "3   0.140132      0.000026       False  \n",
       "4   0.405689      0.000027       False  \n",
       "5   0.252891      0.000026       False  \n",
       "6   0.431165      0.000028       False  \n",
       "7   0.381518      0.000028       False  \n",
       "8   0.283203      0.000039       False  \n",
       "9   0.117349      0.000033       False  \n",
       "10  0.453303      0.000027       False  \n",
       "11  0.122297      0.000027       False  \n",
       "12  0.364559      0.000027       False  \n",
       "13  0.212470      0.000029       False  \n",
       "14  6.429603      0.000026       False  \n",
       "15  0.168005      0.000028       False  \n",
       "16  0.398471      0.000028       False  \n",
       "17  0.107715      0.000027       False  \n",
       "18  0.444599      0.000026       False  \n",
       "19  0.207194      0.000028       False  \n",
       "20  0.124233      0.000027       False  \n",
       "21  0.298968      0.000026       False  \n",
       "22  0.095584      0.000025       False  \n",
       "23  0.001665      0.000029       False  \n",
       "24  0.033745      0.000028       False  \n",
       "25  0.071642      0.000028       False  \n",
       "26  0.473000      0.000027       False  \n",
       "27  0.110487      0.000027       False  \n",
       "28  0.937093      0.000025       False  \n",
       "29  7.109118      0.000028       False  \n",
       "30  0.282239      0.000029       False  \n",
       "31  0.160891      0.000027       False  "
      ]
     },
     "execution_count": 3,
     "metadata": {},
     "output_type": "execute_result"
    }
   ],
   "source": [
    "X.generator.data"
   ]
  },
  {
   "cell_type": "markdown",
   "metadata": {
    "collapsed": false
   },
   "source": [
    "## plot results\n"
   ]
  },
  {
   "cell_type": "code",
   "execution_count": 4,
   "metadata": {
    "collapsed": false,
    "execution": {
     "iopub.execute_input": "2024-04-24T15:45:22.322505Z",
     "iopub.status.busy": "2024-04-24T15:45:22.322107Z",
     "iopub.status.idle": "2024-04-24T15:45:22.684131Z",
     "shell.execute_reply": "2024-04-24T15:45:22.683482Z"
    }
   },
   "outputs": [
    {
     "data": {
      "image/png": "[encoded data removed]",
      "text/plain": [
       "<Figure size 640x480 with 1 Axes>"
      ]
     },
     "metadata": {},
     "output_type": "display_data"
    }
   ],
   "source": [
    "import matplotlib.pyplot as plt\n",
    "\n",
    "fig, ax = plt.subplots()\n",
    "\n",
    "theta = np.linspace(0, np.pi / 2)\n",
    "r = np.sqrt(1 + 0.1 * np.cos(16 * theta))\n",
    "x_1 = r * np.sin(theta)\n",
    "x_2_lower = r * np.cos(theta)\n",
    "x_2_upper = (0.5 - (x_1 - 0.5) ** 2) ** 0.5 + 0.5\n",
    "\n",
    "z = np.zeros_like(x_1)\n",
    "\n",
    "# ax2.plot(x_1, x_2_lower,'r')\n",
    "ax.fill_between(x_1, z, x_2_lower, fc=\"white\")\n",
    "circle = plt.Circle(\n",
    "    (0.5, 0.5), 0.5 ** 0.5, color=\"r\", alpha=0.25, zorder=0, label=\"Valid Region\"\n",
    ")\n",
    "ax.add_patch(circle)\n",
    "history = pd.concat(\n",
    "    [X.data, tnk_vocs.feasibility_data(X.data)], axis=1, ignore_index=False\n",
    ")\n",
    "\n",
    "\n",
    "ax.plot(*history[[\"x1\", \"x2\"]][history[\"feasible\"]].to_numpy().T, \".C1\")\n",
    "ax.plot(*history[[\"x1\", \"x2\"]][~history[\"feasible\"]].to_numpy().T, \".C2\")\n",
    "\n",
    "ax.set_xlim(0, 3.14)\n",
    "ax.set_ylim(0, 3.14)\n",
    "ax.set_xlabel(\"x1\")\n",
    "ax.set_ylabel(\"x2\")\n",
    "ax.set_aspect(\"equal\")"
   ]
  },
  {
   "cell_type": "markdown",
   "metadata": {
    "collapsed": false
   },
   "source": [
    "### Plot path through input space"
   ]
  },
  {
   "cell_type": "code",
   "execution_count": 5,
   "metadata": {
    "collapsed": false,
    "execution": {
     "iopub.execute_input": "2024-04-24T15:45:22.686655Z",
     "iopub.status.busy": "2024-04-24T15:45:22.686363Z",
     "iopub.status.idle": "2024-04-24T15:45:22.947827Z",
     "shell.execute_reply": "2024-04-24T15:45:22.947191Z"
    }
   },
   "outputs": [
    {
     "data": {
      "image/png": "[encoded data removed]",
      "text/plain": [
       "<Figure size 640x480 with 1 Axes>"
      ]
     },
     "metadata": {},
     "output_type": "display_data"
    }
   ],
   "source": [
    "ax = history.plot(\"x1\", \"x2\")\n",
    "ax.set_ylim(0, 3.14)\n",
    "ax.set_xlim(0, 3.14)\n",
    "ax.set_aspect(\"equal\")"
   ]
  },
  {
   "cell_type": "code",
   "execution_count": 6,
   "metadata": {
    "collapsed": false,
    "execution": {
     "iopub.execute_input": "2024-04-24T15:45:22.950375Z",
     "iopub.status.busy": "2024-04-24T15:45:22.950008Z",
     "iopub.status.idle": "2024-04-24T15:45:35.566208Z",
     "shell.execute_reply": "2024-04-24T15:45:35.565477Z"
    }
   },
   "outputs": [
    {
     "name": "stdout",
     "output_type": "stream",
     "text": [
      "[[1.0521425  0.08859294]]\n"
     ]
    },
    {
     "data": {
      "text/plain": [
       "[<matplotlib.lines.Line2D at 0x7f29504f6df0>]"
      ]
     },
     "execution_count": 6,
     "metadata": {},
     "output_type": "execute_result"
    },
    {
     "data": {
      "image/png": "[encoded data removed]",
      "text/plain": [
       "<Figure size 640x480 with 2 Axes>"
      ]
     },
     "metadata": {},
     "output_type": "display_data"
    },
    {
     "data": {
      "image/png": "[encoded data removed]",
      "text/plain": [
       "<Figure size 640x480 with 2 Axes>"
      ]
     },
     "metadata": {},
     "output_type": "display_data"
    }
   ],
   "source": [
    "# plot the acquisition function\n",
    "from xopt.generators.bayesian.objectives import feasibility\n",
    "\n",
    "bounds = X.generator.vocs.bounds\n",
    "model = X.generator.model\n",
    "\n",
    "# create mesh\n",
    "n = 200\n",
    "x = torch.linspace(*bounds.T[0], n)\n",
    "y = torch.linspace(*bounds.T[1], n)\n",
    "xx, yy = torch.meshgrid(x, y)\n",
    "pts = torch.hstack([ele.reshape(-1, 1) for ele in (xx, yy)]).double()\n",
    "\n",
    "xx, yy = xx.numpy(), yy.numpy()\n",
    "\n",
    "acq_func = X.generator.get_acquisition(model)\n",
    "with torch.no_grad():\n",
    "    acq_pts = pts.unsqueeze(1)\n",
    "    acq = acq_func(acq_pts)\n",
    "\n",
    "    fig, ax = plt.subplots()\n",
    "    c = ax.pcolor(xx, yy, acq.reshape(n, n), cmap=\"Blues\")\n",
    "    fig.colorbar(c)\n",
    "    ax.set_title(\"Acquisition function\")\n",
    "\n",
    "    ax.plot(*history[[\"x1\", \"x2\"]][history[\"feasible\"]].to_numpy().T, \".C1\")\n",
    "    ax.plot(*history[[\"x1\", \"x2\"]][~history[\"feasible\"]].to_numpy().T, \".C2\")\n",
    "\n",
    "    ax.plot(*history[[\"x1\", \"x2\"]].to_numpy()[-1].T, \"+\")\n",
    "\n",
    "    feas = feasibility(pts.unsqueeze(1), model, tnk_vocs).flatten()\n",
    "\n",
    "    fig2, ax2 = plt.subplots()\n",
    "    c = ax2.pcolor(xx, yy, feas.reshape(n, n))\n",
    "    fig2.colorbar(c)\n",
    "    ax2.set_title(\"Feasible Region\")\n",
    "\n",
    "candidate = pd.DataFrame(X.generator.generate(1), index=[0])\n",
    "print(candidate[[\"x1\", \"x2\"]].to_numpy())\n",
    "ax.plot(*candidate[[\"x1\", \"x2\"]].to_numpy()[0], \"o\")"
   ]
  },
  {
   "cell_type": "code",
   "execution_count": 7,
   "metadata": {
    "collapsed": false,
    "execution": {
     "iopub.execute_input": "2024-04-24T15:45:35.568696Z",
     "iopub.status.busy": "2024-04-24T15:45:35.568486Z",
     "iopub.status.idle": "2024-04-24T15:45:35.993938Z",
     "shell.execute_reply": "2024-04-24T15:45:35.993239Z"
    }
   },
   "outputs": [
    {
     "name": "stdout",
     "output_type": "stream",
     "text": [
      "CPU times: user 804 ms, sys: 35.7 ms, total: 840 ms\n",
      "Wall time: 421 ms\n"
     ]
    }
   ],
   "source": [
    "%%time\n",
    "candidate = X.generator.generate(1)"
   ]
  }
 ],
 "metadata": {
  "interpreter": {
   "hash": "72034539424920dfb606fe3b820b3f27dca0cbf1c69938110810ec4641e275b1"
  },
  "kernelspec": {
   "display_name": "Python 3 (ipykernel)",
   "language": "python",
   "name": "python3"
  },
  "language_info": {
   "codemirror_mode": {
    "name": "ipython",
    "version": 3
   },
   "file_extension": ".py",
   "mimetype": "text/x-python",
   "name": "python",
   "nbconvert_exporter": "python",
   "pygments_lexer": "ipython3",
   "version": "3.9.19"
  }
 },
 "nbformat": 4,
 "nbformat_minor": 4
}
