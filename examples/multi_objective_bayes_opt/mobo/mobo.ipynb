{
 "cells": [
  {
   "cell_type": "markdown",
   "metadata": {},
   "source": [
    "\n",
    "# Multi-objective Bayesian Optimization\n",
    "\n",
    "\n",
    "TNK function\n",
    "$n=2$ variables:\n",
    "$x_i \\in [0, \\pi], i=1,2$\n",
    "\n",
    "Objectives:\n",
    "- $f_i(x) = x_i$\n",
    "\n",
    "Constraints:\n",
    "- $g_1(x) = -x_1^2 -x_2^2 + 1 + 0.1 \\cos\\left(16 \\arctan \\frac{x_1}{x_2}\\right) \\le 0$\n",
    "- $g_2(x) = (x_1 - 1/2)^2 + (x_2-1/2)^2 \\le 0.5$"
   ]
  },
  {
   "cell_type": "code",
   "execution_count": 1,
   "metadata": {
    "collapsed": false,
    "execution": {
     "iopub.execute_input": "2024-01-25T21:38:02.827247Z",
     "iopub.status.busy": "2024-01-25T21:38:02.827076Z",
     "iopub.status.idle": "2024-01-25T21:38:04.878067Z",
     "shell.execute_reply": "2024-01-25T21:38:04.877418Z"
    }
   },
   "outputs": [
    {
     "name": "stdout",
     "output_type": "stream",
     "text": [
      "{'variables': {'x1': [0.0, 3.14159], 'x2': [0.0, 3.14159]}, 'constraints': {'c1': ['GREATER_THAN', 0.0], 'c2': ['LESS_THAN', 0.5]}, 'objectives': {'y1': 'MINIMIZE', 'y2': 'MINIMIZE'}, 'constants': {'a': 'dummy_constant'}, 'observables': []}\n"
     ]
    }
   ],
   "source": [
    "# set values if testing\n",
    "import os\n",
    "SMOKE_TEST = os.environ.get(\"SMOKE_TEST\")\n",
    "N_MC_SAMPLES = 1 if SMOKE_TEST else 128\n",
    "NUM_RESTARTS = 1 if SMOKE_TEST else 20\n",
    "N_STEPS = 1 if SMOKE_TEST else 30\n",
    "\n",
    "# Ignore all warnings\n",
    "import warnings\n",
    "warnings.filterwarnings(\"ignore\")\n",
    "\n",
    "\n",
    "import pandas as pd\n",
    "import numpy as np\n",
    "import torch\n",
    "\n",
    "from xopt import Xopt, Evaluator\n",
    "from xopt.generators.bayesian import MOBOGenerator\n",
    "from xopt.resources.test_functions.tnk import evaluate_TNK, tnk_vocs\n",
    "\n",
    "\n",
    "evaluator = Evaluator(function=evaluate_TNK)\n",
    "print(tnk_vocs.dict())"
   ]
  },
  {
   "cell_type": "code",
   "execution_count": 2,
   "metadata": {
    "collapsed": false,
    "execution": {
     "iopub.execute_input": "2024-01-25T21:38:04.906456Z",
     "iopub.status.busy": "2024-01-25T21:38:04.905997Z",
     "iopub.status.idle": "2024-01-25T21:38:37.509466Z",
     "shell.execute_reply": "2024-01-25T21:38:37.508868Z"
    }
   },
   "outputs": [
    {
     "name": "stdout",
     "output_type": "stream",
     "text": [
      "0\n"
     ]
    },
    {
     "name": "stdout",
     "output_type": "stream",
     "text": [
      "1\n"
     ]
    },
    {
     "name": "stdout",
     "output_type": "stream",
     "text": [
      "2\n"
     ]
    },
    {
     "name": "stdout",
     "output_type": "stream",
     "text": [
      "3\n"
     ]
    },
    {
     "name": "stdout",
     "output_type": "stream",
     "text": [
      "4\n"
     ]
    },
    {
     "name": "stdout",
     "output_type": "stream",
     "text": [
      "5\n"
     ]
    },
    {
     "name": "stdout",
     "output_type": "stream",
     "text": [
      "6\n"
     ]
    },
    {
     "name": "stdout",
     "output_type": "stream",
     "text": [
      "7\n"
     ]
    },
    {
     "name": "stdout",
     "output_type": "stream",
     "text": [
      "8\n"
     ]
    },
    {
     "name": "stdout",
     "output_type": "stream",
     "text": [
      "9\n"
     ]
    },
    {
     "name": "stdout",
     "output_type": "stream",
     "text": [
      "10\n"
     ]
    },
    {
     "name": "stdout",
     "output_type": "stream",
     "text": [
      "11\n"
     ]
    },
    {
     "name": "stdout",
     "output_type": "stream",
     "text": [
      "12\n"
     ]
    },
    {
     "name": "stdout",
     "output_type": "stream",
     "text": [
      "13\n"
     ]
    },
    {
     "name": "stdout",
     "output_type": "stream",
     "text": [
      "14\n"
     ]
    },
    {
     "name": "stdout",
     "output_type": "stream",
     "text": [
      "15\n"
     ]
    },
    {
     "name": "stdout",
     "output_type": "stream",
     "text": [
      "16\n"
     ]
    },
    {
     "name": "stdout",
     "output_type": "stream",
     "text": [
      "17\n"
     ]
    },
    {
     "name": "stdout",
     "output_type": "stream",
     "text": [
      "18\n"
     ]
    },
    {
     "name": "stdout",
     "output_type": "stream",
     "text": [
      "19\n"
     ]
    },
    {
     "name": "stdout",
     "output_type": "stream",
     "text": [
      "20\n"
     ]
    },
    {
     "name": "stdout",
     "output_type": "stream",
     "text": [
      "21\n"
     ]
    },
    {
     "name": "stdout",
     "output_type": "stream",
     "text": [
      "22\n"
     ]
    },
    {
     "name": "stdout",
     "output_type": "stream",
     "text": [
      "23\n"
     ]
    },
    {
     "name": "stdout",
     "output_type": "stream",
     "text": [
      "24\n"
     ]
    },
    {
     "name": "stdout",
     "output_type": "stream",
     "text": [
      "25\n"
     ]
    },
    {
     "name": "stdout",
     "output_type": "stream",
     "text": [
      "26\n"
     ]
    },
    {
     "name": "stdout",
     "output_type": "stream",
     "text": [
      "27\n"
     ]
    },
    {
     "name": "stdout",
     "output_type": "stream",
     "text": [
      "28\n"
     ]
    },
    {
     "name": "stdout",
     "output_type": "stream",
     "text": [
      "29\n"
     ]
    }
   ],
   "source": [
    "generator = MOBOGenerator(vocs=tnk_vocs, reference_point = {\"y1\":1.5,\"y2\":1.5})\n",
    "generator.n_monte_carlo_samples = N_MC_SAMPLES\n",
    "generator.numerical_optimizer.n_restarts = NUM_RESTARTS\n",
    "\n",
    "X = Xopt(generator=generator, evaluator=evaluator, vocs=tnk_vocs)\n",
    "X.evaluate_data(pd.DataFrame({\"x1\":[1.0, 0.75],\"x2\":[0.75, 1.0]}))\n",
    "\n",
    "for i in range(N_STEPS):\n",
    "    print(i)\n",
    "    X.step()"
   ]
  },
  {
   "cell_type": "code",
   "execution_count": 3,
   "metadata": {
    "collapsed": false,
    "execution": {
     "iopub.execute_input": "2024-01-25T21:38:37.512358Z",
     "iopub.status.busy": "2024-01-25T21:38:37.511947Z",
     "iopub.status.idle": "2024-01-25T21:38:37.532101Z",
     "shell.execute_reply": "2024-01-25T21:38:37.531557Z"
    }
   },
   "outputs": [
    {
     "data": {
      "text/html": [
       "<div>\n",
       "<style scoped>\n",
       "    .dataframe tbody tr th:only-of-type {\n",
       "        vertical-align: middle;\n",
       "    }\n",
       "\n",
       "    .dataframe tbody tr th {\n",
       "        vertical-align: top;\n",
       "    }\n",
       "\n",
       "    .dataframe thead th {\n",
       "        text-align: right;\n",
       "    }\n",
       "</style>\n",
       "<table border=\"1\" class=\"dataframe\">\n",
       "  <thead>\n",
       "    <tr style=\"text-align: right;\">\n",
       "      <th></th>\n",
       "      <th>x1</th>\n",
       "      <th>x2</th>\n",
       "      <th>a</th>\n",
       "      <th>y1</th>\n",
       "      <th>y2</th>\n",
       "      <th>c1</th>\n",
       "      <th>c2</th>\n",
       "      <th>xopt_runtime</th>\n",
       "      <th>xopt_error</th>\n",
       "    </tr>\n",
       "  </thead>\n",
       "  <tbody>\n",
       "    <tr>\n",
       "      <th>0</th>\n",
       "      <td>1.000000</td>\n",
       "      <td>0.750000</td>\n",
       "      <td>dummy_constant</td>\n",
       "      <td>1.000000</td>\n",
       "      <td>0.750000</td>\n",
       "      <td>0.626888</td>\n",
       "      <td>0.312500</td>\n",
       "      <td>0.000036</td>\n",
       "      <td>False</td>\n",
       "    </tr>\n",
       "    <tr>\n",
       "      <th>1</th>\n",
       "      <td>0.750000</td>\n",
       "      <td>1.000000</td>\n",
       "      <td>dummy_constant</td>\n",
       "      <td>0.750000</td>\n",
       "      <td>1.000000</td>\n",
       "      <td>0.626888</td>\n",
       "      <td>0.312500</td>\n",
       "      <td>0.000008</td>\n",
       "      <td>False</td>\n",
       "    </tr>\n",
       "    <tr>\n",
       "      <th>2</th>\n",
       "      <td>0.000000</td>\n",
       "      <td>2.756306</td>\n",
       "      <td>dummy_constant</td>\n",
       "      <td>0.000000</td>\n",
       "      <td>2.756306</td>\n",
       "      <td>6.497224</td>\n",
       "      <td>5.340918</td>\n",
       "      <td>0.000021</td>\n",
       "      <td>False</td>\n",
       "    </tr>\n",
       "    <tr>\n",
       "      <th>3</th>\n",
       "      <td>0.000000</td>\n",
       "      <td>0.000000</td>\n",
       "      <td>dummy_constant</td>\n",
       "      <td>0.000000</td>\n",
       "      <td>0.000000</td>\n",
       "      <td>-1.100000</td>\n",
       "      <td>0.500000</td>\n",
       "      <td>0.000021</td>\n",
       "      <td>False</td>\n",
       "    </tr>\n",
       "    <tr>\n",
       "      <th>4</th>\n",
       "      <td>0.000000</td>\n",
       "      <td>0.838820</td>\n",
       "      <td>dummy_constant</td>\n",
       "      <td>0.000000</td>\n",
       "      <td>0.838820</td>\n",
       "      <td>-0.396382</td>\n",
       "      <td>0.364799</td>\n",
       "      <td>0.000023</td>\n",
       "      <td>False</td>\n",
       "    </tr>\n",
       "    <tr>\n",
       "      <th>5</th>\n",
       "      <td>3.141590</td>\n",
       "      <td>0.000000</td>\n",
       "      <td>dummy_constant</td>\n",
       "      <td>3.141590</td>\n",
       "      <td>0.000000</td>\n",
       "      <td>8.769588</td>\n",
       "      <td>7.227998</td>\n",
       "      <td>0.000023</td>\n",
       "      <td>False</td>\n",
       "    </tr>\n",
       "    <tr>\n",
       "      <th>6</th>\n",
       "      <td>0.787751</td>\n",
       "      <td>0.000000</td>\n",
       "      <td>dummy_constant</td>\n",
       "      <td>0.787751</td>\n",
       "      <td>0.000000</td>\n",
       "      <td>-0.479449</td>\n",
       "      <td>0.332800</td>\n",
       "      <td>0.000023</td>\n",
       "      <td>False</td>\n",
       "    </tr>\n",
       "    <tr>\n",
       "      <th>7</th>\n",
       "      <td>0.977966</td>\n",
       "      <td>0.303147</td>\n",
       "      <td>dummy_constant</td>\n",
       "      <td>0.977966</td>\n",
       "      <td>0.303147</td>\n",
       "      <td>0.038634</td>\n",
       "      <td>0.267203</td>\n",
       "      <td>0.000023</td>\n",
       "      <td>False</td>\n",
       "    </tr>\n",
       "    <tr>\n",
       "      <th>8</th>\n",
       "      <td>0.358225</td>\n",
       "      <td>1.014666</td>\n",
       "      <td>dummy_constant</td>\n",
       "      <td>0.358225</td>\n",
       "      <td>1.014666</td>\n",
       "      <td>0.092100</td>\n",
       "      <td>0.284981</td>\n",
       "      <td>0.000026</td>\n",
       "      <td>False</td>\n",
       "    </tr>\n",
       "    <tr>\n",
       "      <th>9</th>\n",
       "      <td>0.158868</td>\n",
       "      <td>1.039661</td>\n",
       "      <td>dummy_constant</td>\n",
       "      <td>0.158868</td>\n",
       "      <td>1.039661</td>\n",
       "      <td>0.181615</td>\n",
       "      <td>0.407605</td>\n",
       "      <td>0.000023</td>\n",
       "      <td>False</td>\n",
       "    </tr>\n",
       "    <tr>\n",
       "      <th>10</th>\n",
       "      <td>0.974101</td>\n",
       "      <td>0.062623</td>\n",
       "      <td>dummy_constant</td>\n",
       "      <td>0.974101</td>\n",
       "      <td>0.062623</td>\n",
       "      <td>-0.098926</td>\n",
       "      <td>0.416071</td>\n",
       "      <td>0.000025</td>\n",
       "      <td>False</td>\n",
       "    </tr>\n",
       "    <tr>\n",
       "      <th>11</th>\n",
       "      <td>1.032352</td>\n",
       "      <td>0.104264</td>\n",
       "      <td>dummy_constant</td>\n",
       "      <td>1.032352</td>\n",
       "      <td>0.104264</td>\n",
       "      <td>0.080590</td>\n",
       "      <td>0.440005</td>\n",
       "      <td>0.000024</td>\n",
       "      <td>False</td>\n",
       "    </tr>\n",
       "    <tr>\n",
       "      <th>12</th>\n",
       "      <td>0.784032</td>\n",
       "      <td>0.768413</td>\n",
       "      <td>dummy_constant</td>\n",
       "      <td>0.784032</td>\n",
       "      <td>0.768413</td>\n",
       "      <td>0.106459</td>\n",
       "      <td>0.152720</td>\n",
       "      <td>0.000022</td>\n",
       "      <td>False</td>\n",
       "    </tr>\n",
       "    <tr>\n",
       "      <th>13</th>\n",
       "      <td>1.019905</td>\n",
       "      <td>0.046852</td>\n",
       "      <td>dummy_constant</td>\n",
       "      <td>1.019905</td>\n",
       "      <td>0.046852</td>\n",
       "      <td>-0.031817</td>\n",
       "      <td>0.475644</td>\n",
       "      <td>0.000023</td>\n",
       "      <td>False</td>\n",
       "    </tr>\n",
       "    <tr>\n",
       "      <th>14</th>\n",
       "      <td>0.999736</td>\n",
       "      <td>0.180515</td>\n",
       "      <td>dummy_constant</td>\n",
       "      <td>0.999736</td>\n",
       "      <td>0.180515</td>\n",
       "      <td>0.128069</td>\n",
       "      <td>0.351806</td>\n",
       "      <td>0.000024</td>\n",
       "      <td>False</td>\n",
       "    </tr>\n",
       "    <tr>\n",
       "      <th>15</th>\n",
       "      <td>0.100806</td>\n",
       "      <td>1.282079</td>\n",
       "      <td>dummy_constant</td>\n",
       "      <td>0.100806</td>\n",
       "      <td>1.282079</td>\n",
       "      <td>0.622873</td>\n",
       "      <td>0.771003</td>\n",
       "      <td>0.000024</td>\n",
       "      <td>False</td>\n",
       "    </tr>\n",
       "    <tr>\n",
       "      <th>16</th>\n",
       "      <td>0.438340</td>\n",
       "      <td>0.817528</td>\n",
       "      <td>dummy_constant</td>\n",
       "      <td>0.438340</td>\n",
       "      <td>0.817528</td>\n",
       "      <td>-0.137434</td>\n",
       "      <td>0.104626</td>\n",
       "      <td>0.000025</td>\n",
       "      <td>False</td>\n",
       "    </tr>\n",
       "    <tr>\n",
       "      <th>17</th>\n",
       "      <td>0.557358</td>\n",
       "      <td>0.883319</td>\n",
       "      <td>dummy_constant</td>\n",
       "      <td>0.557358</td>\n",
       "      <td>0.883319</td>\n",
       "      <td>0.182269</td>\n",
       "      <td>0.150224</td>\n",
       "      <td>0.000025</td>\n",
       "      <td>False</td>\n",
       "    </tr>\n",
       "    <tr>\n",
       "      <th>18</th>\n",
       "      <td>0.250624</td>\n",
       "      <td>0.914332</td>\n",
       "      <td>dummy_constant</td>\n",
       "      <td>0.250624</td>\n",
       "      <td>0.914332</td>\n",
       "      <td>-0.059332</td>\n",
       "      <td>0.233859</td>\n",
       "      <td>0.000025</td>\n",
       "      <td>False</td>\n",
       "    </tr>\n",
       "    <tr>\n",
       "      <th>19</th>\n",
       "      <td>0.075434</td>\n",
       "      <td>0.867351</td>\n",
       "      <td>dummy_constant</td>\n",
       "      <td>0.075434</td>\n",
       "      <td>0.867351</td>\n",
       "      <td>-0.260187</td>\n",
       "      <td>0.315203</td>\n",
       "      <td>0.000023</td>\n",
       "      <td>False</td>\n",
       "    </tr>\n",
       "    <tr>\n",
       "      <th>20</th>\n",
       "      <td>0.860927</td>\n",
       "      <td>0.595579</td>\n",
       "      <td>dummy_constant</td>\n",
       "      <td>0.860927</td>\n",
       "      <td>0.595579</td>\n",
       "      <td>0.192592</td>\n",
       "      <td>0.139404</td>\n",
       "      <td>0.000026</td>\n",
       "      <td>False</td>\n",
       "    </tr>\n",
       "    <tr>\n",
       "      <th>21</th>\n",
       "      <td>0.308099</td>\n",
       "      <td>0.958159</td>\n",
       "      <td>dummy_constant</td>\n",
       "      <td>0.308099</td>\n",
       "      <td>0.958159</td>\n",
       "      <td>-0.013234</td>\n",
       "      <td>0.246736</td>\n",
       "      <td>0.000026</td>\n",
       "      <td>False</td>\n",
       "    </tr>\n",
       "    <tr>\n",
       "      <th>22</th>\n",
       "      <td>0.476313</td>\n",
       "      <td>0.789821</td>\n",
       "      <td>dummy_constant</td>\n",
       "      <td>0.476313</td>\n",
       "      <td>0.789821</td>\n",
       "      <td>-0.075601</td>\n",
       "      <td>0.084557</td>\n",
       "      <td>0.000023</td>\n",
       "      <td>False</td>\n",
       "    </tr>\n",
       "    <tr>\n",
       "      <th>23</th>\n",
       "      <td>0.449308</td>\n",
       "      <td>0.900141</td>\n",
       "      <td>dummy_constant</td>\n",
       "      <td>0.449308</td>\n",
       "      <td>0.900141</td>\n",
       "      <td>-0.031047</td>\n",
       "      <td>0.162682</td>\n",
       "      <td>0.000024</td>\n",
       "      <td>False</td>\n",
       "    </tr>\n",
       "    <tr>\n",
       "      <th>24</th>\n",
       "      <td>0.689510</td>\n",
       "      <td>0.731327</td>\n",
       "      <td>dummy_constant</td>\n",
       "      <td>0.689510</td>\n",
       "      <td>0.731327</td>\n",
       "      <td>-0.078858</td>\n",
       "      <td>0.089427</td>\n",
       "      <td>0.000023</td>\n",
       "      <td>False</td>\n",
       "    </tr>\n",
       "    <tr>\n",
       "      <th>25</th>\n",
       "      <td>0.060711</td>\n",
       "      <td>1.040962</td>\n",
       "      <td>dummy_constant</td>\n",
       "      <td>0.060711</td>\n",
       "      <td>1.040962</td>\n",
       "      <td>0.027673</td>\n",
       "      <td>0.485615</td>\n",
       "      <td>0.000025</td>\n",
       "      <td>False</td>\n",
       "    </tr>\n",
       "    <tr>\n",
       "      <th>26</th>\n",
       "      <td>0.608782</td>\n",
       "      <td>0.809885</td>\n",
       "      <td>dummy_constant</td>\n",
       "      <td>0.608782</td>\n",
       "      <td>0.809885</td>\n",
       "      <td>0.089584</td>\n",
       "      <td>0.107862</td>\n",
       "      <td>0.000024</td>\n",
       "      <td>False</td>\n",
       "    </tr>\n",
       "    <tr>\n",
       "      <th>27</th>\n",
       "      <td>0.386548</td>\n",
       "      <td>0.939343</td>\n",
       "      <td>dummy_constant</td>\n",
       "      <td>0.386548</td>\n",
       "      <td>0.939343</td>\n",
       "      <td>-0.068148</td>\n",
       "      <td>0.205893</td>\n",
       "      <td>0.000023</td>\n",
       "      <td>False</td>\n",
       "    </tr>\n",
       "    <tr>\n",
       "      <th>28</th>\n",
       "      <td>0.091314</td>\n",
       "      <td>1.060790</td>\n",
       "      <td>dummy_constant</td>\n",
       "      <td>0.091314</td>\n",
       "      <td>1.060790</td>\n",
       "      <td>0.114053</td>\n",
       "      <td>0.481509</td>\n",
       "      <td>0.000025</td>\n",
       "      <td>False</td>\n",
       "    </tr>\n",
       "    <tr>\n",
       "      <th>29</th>\n",
       "      <td>1.428324</td>\n",
       "      <td>0.012906</td>\n",
       "      <td>dummy_constant</td>\n",
       "      <td>1.428324</td>\n",
       "      <td>0.012906</td>\n",
       "      <td>0.941319</td>\n",
       "      <td>1.099045</td>\n",
       "      <td>0.000025</td>\n",
       "      <td>False</td>\n",
       "    </tr>\n",
       "    <tr>\n",
       "      <th>30</th>\n",
       "      <td>1.186242</td>\n",
       "      <td>0.145657</td>\n",
       "      <td>dummy_constant</td>\n",
       "      <td>1.186242</td>\n",
       "      <td>0.145657</td>\n",
       "      <td>0.465851</td>\n",
       "      <td>0.596487</td>\n",
       "      <td>0.000025</td>\n",
       "      <td>False</td>\n",
       "    </tr>\n",
       "    <tr>\n",
       "      <th>31</th>\n",
       "      <td>1.018592</td>\n",
       "      <td>0.016047</td>\n",
       "      <td>dummy_constant</td>\n",
       "      <td>1.018592</td>\n",
       "      <td>0.016047</td>\n",
       "      <td>-0.059054</td>\n",
       "      <td>0.503148</td>\n",
       "      <td>0.000024</td>\n",
       "      <td>False</td>\n",
       "    </tr>\n",
       "  </tbody>\n",
       "</table>\n",
       "</div>"
      ],
      "text/plain": [
       "          x1        x2               a        y1        y2        c1  \\\n",
       "0   1.000000  0.750000  dummy_constant  1.000000  0.750000  0.626888   \n",
       "1   0.750000  1.000000  dummy_constant  0.750000  1.000000  0.626888   \n",
       "2   0.000000  2.756306  dummy_constant  0.000000  2.756306  6.497224   \n",
       "3   0.000000  0.000000  dummy_constant  0.000000  0.000000 -1.100000   \n",
       "4   0.000000  0.838820  dummy_constant  0.000000  0.838820 -0.396382   \n",
       "5   3.141590  0.000000  dummy_constant  3.141590  0.000000  8.769588   \n",
       "6   0.787751  0.000000  dummy_constant  0.787751  0.000000 -0.479449   \n",
       "7   0.977966  0.303147  dummy_constant  0.977966  0.303147  0.038634   \n",
       "8   0.358225  1.014666  dummy_constant  0.358225  1.014666  0.092100   \n",
       "9   0.158868  1.039661  dummy_constant  0.158868  1.039661  0.181615   \n",
       "10  0.974101  0.062623  dummy_constant  0.974101  0.062623 -0.098926   \n",
       "11  1.032352  0.104264  dummy_constant  1.032352  0.104264  0.080590   \n",
       "12  0.784032  0.768413  dummy_constant  0.784032  0.768413  0.106459   \n",
       "13  1.019905  0.046852  dummy_constant  1.019905  0.046852 -0.031817   \n",
       "14  0.999736  0.180515  dummy_constant  0.999736  0.180515  0.128069   \n",
       "15  0.100806  1.282079  dummy_constant  0.100806  1.282079  0.622873   \n",
       "16  0.438340  0.817528  dummy_constant  0.438340  0.817528 -0.137434   \n",
       "17  0.557358  0.883319  dummy_constant  0.557358  0.883319  0.182269   \n",
       "18  0.250624  0.914332  dummy_constant  0.250624  0.914332 -0.059332   \n",
       "19  0.075434  0.867351  dummy_constant  0.075434  0.867351 -0.260187   \n",
       "20  0.860927  0.595579  dummy_constant  0.860927  0.595579  0.192592   \n",
       "21  0.308099  0.958159  dummy_constant  0.308099  0.958159 -0.013234   \n",
       "22  0.476313  0.789821  dummy_constant  0.476313  0.789821 -0.075601   \n",
       "23  0.449308  0.900141  dummy_constant  0.449308  0.900141 -0.031047   \n",
       "24  0.689510  0.731327  dummy_constant  0.689510  0.731327 -0.078858   \n",
       "25  0.060711  1.040962  dummy_constant  0.060711  1.040962  0.027673   \n",
       "26  0.608782  0.809885  dummy_constant  0.608782  0.809885  0.089584   \n",
       "27  0.386548  0.939343  dummy_constant  0.386548  0.939343 -0.068148   \n",
       "28  0.091314  1.060790  dummy_constant  0.091314  1.060790  0.114053   \n",
       "29  1.428324  0.012906  dummy_constant  1.428324  0.012906  0.941319   \n",
       "30  1.186242  0.145657  dummy_constant  1.186242  0.145657  0.465851   \n",
       "31  1.018592  0.016047  dummy_constant  1.018592  0.016047 -0.059054   \n",
       "\n",
       "          c2  xopt_runtime  xopt_error  \n",
       "0   0.312500      0.000036       False  \n",
       "1   0.312500      0.000008       False  \n",
       "2   5.340918      0.000021       False  \n",
       "3   0.500000      0.000021       False  \n",
       "4   0.364799      0.000023       False  \n",
       "5   7.227998      0.000023       False  \n",
       "6   0.332800      0.000023       False  \n",
       "7   0.267203      0.000023       False  \n",
       "8   0.284981      0.000026       False  \n",
       "9   0.407605      0.000023       False  \n",
       "10  0.416071      0.000025       False  \n",
       "11  0.440005      0.000024       False  \n",
       "12  0.152720      0.000022       False  \n",
       "13  0.475644      0.000023       False  \n",
       "14  0.351806      0.000024       False  \n",
       "15  0.771003      0.000024       False  \n",
       "16  0.104626      0.000025       False  \n",
       "17  0.150224      0.000025       False  \n",
       "18  0.233859      0.000025       False  \n",
       "19  0.315203      0.000023       False  \n",
       "20  0.139404      0.000026       False  \n",
       "21  0.246736      0.000026       False  \n",
       "22  0.084557      0.000023       False  \n",
       "23  0.162682      0.000024       False  \n",
       "24  0.089427      0.000023       False  \n",
       "25  0.485615      0.000025       False  \n",
       "26  0.107862      0.000024       False  \n",
       "27  0.205893      0.000023       False  \n",
       "28  0.481509      0.000025       False  \n",
       "29  1.099045      0.000025       False  \n",
       "30  0.596487      0.000025       False  \n",
       "31  0.503148      0.000024       False  "
      ]
     },
     "execution_count": 3,
     "metadata": {},
     "output_type": "execute_result"
    }
   ],
   "source": [
    "X.generator.data"
   ]
  },
  {
   "cell_type": "markdown",
   "metadata": {
    "collapsed": false
   },
   "source": [
    "## plot results\n"
   ]
  },
  {
   "cell_type": "code",
   "execution_count": 4,
   "metadata": {
    "collapsed": false,
    "execution": {
     "iopub.execute_input": "2024-01-25T21:38:37.534618Z",
     "iopub.status.busy": "2024-01-25T21:38:37.534240Z",
     "iopub.status.idle": "2024-01-25T21:38:38.031484Z",
     "shell.execute_reply": "2024-01-25T21:38:38.030844Z"
    }
   },
   "outputs": [
    {
     "data": {
      "image/png": "[encoded data removed]",
      "text/plain": [
       "<Figure size 640x480 with 1 Axes>"
      ]
     },
     "metadata": {},
     "output_type": "display_data"
    }
   ],
   "source": [
    "import matplotlib.pyplot as plt\n",
    "\n",
    "fig, ax = plt.subplots()\n",
    "\n",
    "theta = np.linspace(0, np.pi / 2)\n",
    "r = np.sqrt(1 + 0.1 * np.cos(16 * theta))\n",
    "x_1 = r * np.sin(theta)\n",
    "x_2_lower = r * np.cos(theta)\n",
    "x_2_upper = (0.5 - (x_1 - 0.5) ** 2) ** 0.5 + 0.5\n",
    "\n",
    "z = np.zeros_like(x_1)\n",
    "\n",
    "# ax2.plot(x_1, x_2_lower,'r')\n",
    "ax.fill_between(x_1, z, x_2_lower, fc=\"white\")\n",
    "circle = plt.Circle(\n",
    "    (0.5, 0.5), 0.5 ** 0.5, color=\"r\", alpha=0.25, zorder=0, label=\"Valid Region\"\n",
    ")\n",
    "ax.add_patch(circle)\n",
    "history = pd.concat(\n",
    "    [X.data, tnk_vocs.feasibility_data(X.data)], axis=1, ignore_index=False\n",
    ")\n",
    "\n",
    "\n",
    "ax.plot(*history[[\"x1\", \"x2\"]][history[\"feasible\"]].to_numpy().T, \".C1\")\n",
    "ax.plot(*history[[\"x1\", \"x2\"]][~history[\"feasible\"]].to_numpy().T, \".C2\")\n",
    "\n",
    "ax.set_xlim(0, 3.14)\n",
    "ax.set_ylim(0, 3.14)\n",
    "ax.set_xlabel(\"x1\")\n",
    "ax.set_ylabel(\"x2\")\n",
    "ax.set_aspect(\"equal\")"
   ]
  },
  {
   "cell_type": "markdown",
   "metadata": {
    "collapsed": false
   },
   "source": [
    "### Plot path through input space"
   ]
  },
  {
   "cell_type": "code",
   "execution_count": 5,
   "metadata": {
    "collapsed": false,
    "execution": {
     "iopub.execute_input": "2024-01-25T21:38:38.033995Z",
     "iopub.status.busy": "2024-01-25T21:38:38.033574Z",
     "iopub.status.idle": "2024-01-25T21:38:38.153157Z",
     "shell.execute_reply": "2024-01-25T21:38:38.152607Z"
    }
   },
   "outputs": [
    {
     "data": {
      "image/png": "[encoded data removed]",
      "text/plain": [
       "<Figure size 640x480 with 1 Axes>"
      ]
     },
     "metadata": {},
     "output_type": "display_data"
    }
   ],
   "source": [
    "ax = history.plot(\"x1\", \"x2\")\n",
    "ax.set_ylim(0, 3.14)\n",
    "ax.set_xlim(0, 3.14)\n",
    "ax.set_aspect(\"equal\")"
   ]
  },
  {
   "cell_type": "code",
   "execution_count": 6,
   "metadata": {
    "collapsed": false,
    "execution": {
     "iopub.execute_input": "2024-01-25T21:38:38.155697Z",
     "iopub.status.busy": "2024-01-25T21:38:38.155325Z",
     "iopub.status.idle": "2024-01-25T21:38:52.110857Z",
     "shell.execute_reply": "2024-01-25T21:38:52.110259Z"
    }
   },
   "outputs": [
    {
     "name": "stdout",
     "output_type": "stream",
     "text": [
      "[[0.90577015 0.4391608 ]]\n"
     ]
    },
    {
     "data": {
      "text/plain": [
       "[<matplotlib.lines.Line2D at 0x7fd39b11d6a0>]"
      ]
     },
     "execution_count": 6,
     "metadata": {},
     "output_type": "execute_result"
    },
    {
     "data": {
      "image/png": "[encoded data removed]",
      "text/plain": [
       "<Figure size 640x480 with 2 Axes>"
      ]
     },
     "metadata": {},
     "output_type": "display_data"
    },
    {
     "data": {
      "image/png": "[encoded data removed]",
      "text/plain": [
       "<Figure size 640x480 with 2 Axes>"
      ]
     },
     "metadata": {},
     "output_type": "display_data"
    }
   ],
   "source": [
    "# plot the acquisition function\n",
    "from xopt.generators.bayesian.objectives import feasibility\n",
    "\n",
    "bounds = X.generator.vocs.bounds\n",
    "model = X.generator.model\n",
    "\n",
    "# create mesh\n",
    "n = 200\n",
    "x = torch.linspace(*bounds.T[0], n)\n",
    "y = torch.linspace(*bounds.T[1], n)\n",
    "xx, yy = torch.meshgrid(x, y)\n",
    "pts = torch.hstack([ele.reshape(-1, 1) for ele in (xx, yy)]).double()\n",
    "\n",
    "xx, yy = xx.numpy(), yy.numpy()\n",
    "\n",
    "acq_func = X.generator.get_acquisition(model)\n",
    "with torch.no_grad():\n",
    "    acq_pts = pts.unsqueeze(1)\n",
    "    acq = acq_func(acq_pts)\n",
    "\n",
    "    fig, ax = plt.subplots()\n",
    "    c = ax.pcolor(xx, yy, acq.reshape(n, n), cmap=\"Blues\")\n",
    "    fig.colorbar(c)\n",
    "    ax.set_title(\"Acquisition function\")\n",
    "\n",
    "    ax.plot(*history[[\"x1\", \"x2\"]][history[\"feasible\"]].to_numpy().T, \".C1\")\n",
    "    ax.plot(*history[[\"x1\", \"x2\"]][~history[\"feasible\"]].to_numpy().T, \".C2\")\n",
    "\n",
    "    ax.plot(*history[[\"x1\", \"x2\"]].to_numpy()[-1].T, \"+\")\n",
    "\n",
    "    feas = feasibility(pts.unsqueeze(1), model, tnk_vocs).flatten()\n",
    "\n",
    "    fig2, ax2 = plt.subplots()\n",
    "    c = ax2.pcolor(xx, yy, feas.reshape(n, n))\n",
    "    fig2.colorbar(c)\n",
    "    ax2.set_title(\"Feasible Region\")\n",
    "\n",
    "candidate = pd.DataFrame(X.generator.generate(1), index=[0])\n",
    "print(candidate[[\"x1\", \"x2\"]].to_numpy())\n",
    "ax.plot(*candidate[[\"x1\", \"x2\"]].to_numpy()[0], \"o\")"
   ]
  },
  {
   "cell_type": "code",
   "execution_count": 7,
   "metadata": {
    "collapsed": false,
    "execution": {
     "iopub.execute_input": "2024-01-25T21:38:52.113303Z",
     "iopub.status.busy": "2024-01-25T21:38:52.113076Z",
     "iopub.status.idle": "2024-01-25T21:38:52.503275Z",
     "shell.execute_reply": "2024-01-25T21:38:52.502643Z"
    }
   },
   "outputs": [
    {
     "name": "stdout",
     "output_type": "stream",
     "text": [
      "CPU times: user 753 ms, sys: 16.7 ms, total: 770 ms\n",
      "Wall time: 386 ms\n"
     ]
    }
   ],
   "source": [
    "%%time\n",
    "candidate = X.generator.generate(1)"
   ]
  }
 ],
 "metadata": {
  "interpreter": {
   "hash": "72034539424920dfb606fe3b820b3f27dca0cbf1c69938110810ec4641e275b1"
  },
  "kernelspec": {
   "display_name": "Python 3 (ipykernel)",
   "language": "python",
   "name": "python3"
  },
  "language_info": {
   "codemirror_mode": {
    "name": "ipython",
    "version": 3
   },
   "file_extension": ".py",
   "mimetype": "text/x-python",
   "name": "python",
   "nbconvert_exporter": "python",
   "pygments_lexer": "ipython3",
   "version": "3.9.18"
  }
 },
 "nbformat": 4,
 "nbformat_minor": 4
}
