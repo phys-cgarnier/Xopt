{
 "cells": [
  {
   "cell_type": "markdown",
   "metadata": {},
   "source": [
    "\n",
    "# Multi-objective Bayesian Optimization\n",
    "\n",
    "\n",
    "TNK function\n",
    "$n=2$ variables:\n",
    "$x_i \\in [0, \\pi], i=1,2$\n",
    "\n",
    "Objectives:\n",
    "- $f_i(x) = x_i$\n",
    "\n",
    "Constraints:\n",
    "- $g_1(x) = -x_1^2 -x_2^2 + 1 + 0.1 \\cos\\left(16 \\arctan \\frac{x_1}{x_2}\\right) \\le 0$\n",
    "- $g_2(x) = (x_1 - 1/2)^2 + (x_2-1/2)^2 \\le 0.5$"
   ]
  },
  {
   "cell_type": "code",
   "execution_count": 1,
   "metadata": {
    "collapsed": false,
    "execution": {
     "iopub.execute_input": "2024-01-11T17:36:24.816827Z",
     "iopub.status.busy": "2024-01-11T17:36:24.816653Z",
     "iopub.status.idle": "2024-01-11T17:36:26.912372Z",
     "shell.execute_reply": "2024-01-11T17:36:26.911701Z"
    }
   },
   "outputs": [
    {
     "name": "stdout",
     "output_type": "stream",
     "text": [
      "{'variables': {'x1': [0.0, 3.14159], 'x2': [0.0, 3.14159]}, 'constraints': {'c1': ['GREATER_THAN', 0.0], 'c2': ['LESS_THAN', 0.5]}, 'objectives': {'y1': 'MINIMIZE', 'y2': 'MINIMIZE'}, 'constants': {'a': 'dummy_constant'}, 'observables': []}\n"
     ]
    }
   ],
   "source": [
    "# set values if testing\n",
    "import os\n",
    "SMOKE_TEST = os.environ.get(\"SMOKE_TEST\")\n",
    "N_MC_SAMPLES = 1 if SMOKE_TEST else 128\n",
    "NUM_RESTARTS = 1 if SMOKE_TEST else 20\n",
    "N_STEPS = 1 if SMOKE_TEST else 30\n",
    "\n",
    "# Ignore all warnings\n",
    "import warnings\n",
    "warnings.filterwarnings(\"ignore\")\n",
    "\n",
    "\n",
    "import pandas as pd\n",
    "import numpy as np\n",
    "import torch\n",
    "\n",
    "from xopt import Xopt, Evaluator\n",
    "from xopt.generators.bayesian import MOBOGenerator\n",
    "from xopt.resources.test_functions.tnk import evaluate_TNK, tnk_vocs\n",
    "\n",
    "\n",
    "evaluator = Evaluator(function=evaluate_TNK)\n",
    "print(tnk_vocs.dict())"
   ]
  },
  {
   "cell_type": "code",
   "execution_count": 2,
   "metadata": {
    "collapsed": false,
    "execution": {
     "iopub.execute_input": "2024-01-11T17:36:26.942464Z",
     "iopub.status.busy": "2024-01-11T17:36:26.941983Z",
     "iopub.status.idle": "2024-01-11T17:37:05.388391Z",
     "shell.execute_reply": "2024-01-11T17:37:05.387775Z"
    }
   },
   "outputs": [
    {
     "name": "stdout",
     "output_type": "stream",
     "text": [
      "0\n"
     ]
    },
    {
     "name": "stdout",
     "output_type": "stream",
     "text": [
      "1\n"
     ]
    },
    {
     "name": "stdout",
     "output_type": "stream",
     "text": [
      "2\n"
     ]
    },
    {
     "name": "stdout",
     "output_type": "stream",
     "text": [
      "3\n"
     ]
    },
    {
     "name": "stdout",
     "output_type": "stream",
     "text": [
      "4\n"
     ]
    },
    {
     "name": "stdout",
     "output_type": "stream",
     "text": [
      "5\n"
     ]
    },
    {
     "name": "stdout",
     "output_type": "stream",
     "text": [
      "6\n"
     ]
    },
    {
     "name": "stdout",
     "output_type": "stream",
     "text": [
      "7\n"
     ]
    },
    {
     "name": "stdout",
     "output_type": "stream",
     "text": [
      "8\n"
     ]
    },
    {
     "name": "stdout",
     "output_type": "stream",
     "text": [
      "9\n"
     ]
    },
    {
     "name": "stdout",
     "output_type": "stream",
     "text": [
      "10\n"
     ]
    },
    {
     "name": "stdout",
     "output_type": "stream",
     "text": [
      "11\n"
     ]
    },
    {
     "name": "stdout",
     "output_type": "stream",
     "text": [
      "12\n"
     ]
    },
    {
     "name": "stdout",
     "output_type": "stream",
     "text": [
      "13\n"
     ]
    },
    {
     "name": "stdout",
     "output_type": "stream",
     "text": [
      "14\n"
     ]
    },
    {
     "name": "stdout",
     "output_type": "stream",
     "text": [
      "15\n"
     ]
    },
    {
     "name": "stdout",
     "output_type": "stream",
     "text": [
      "16\n"
     ]
    },
    {
     "name": "stdout",
     "output_type": "stream",
     "text": [
      "17\n"
     ]
    },
    {
     "name": "stdout",
     "output_type": "stream",
     "text": [
      "18\n"
     ]
    },
    {
     "name": "stdout",
     "output_type": "stream",
     "text": [
      "19\n"
     ]
    },
    {
     "name": "stdout",
     "output_type": "stream",
     "text": [
      "20\n"
     ]
    },
    {
     "name": "stdout",
     "output_type": "stream",
     "text": [
      "21\n"
     ]
    },
    {
     "name": "stdout",
     "output_type": "stream",
     "text": [
      "22\n"
     ]
    },
    {
     "name": "stdout",
     "output_type": "stream",
     "text": [
      "23\n"
     ]
    },
    {
     "name": "stdout",
     "output_type": "stream",
     "text": [
      "24\n"
     ]
    },
    {
     "name": "stdout",
     "output_type": "stream",
     "text": [
      "25\n"
     ]
    },
    {
     "name": "stdout",
     "output_type": "stream",
     "text": [
      "26\n"
     ]
    },
    {
     "name": "stdout",
     "output_type": "stream",
     "text": [
      "27\n"
     ]
    },
    {
     "name": "stdout",
     "output_type": "stream",
     "text": [
      "28\n"
     ]
    },
    {
     "name": "stdout",
     "output_type": "stream",
     "text": [
      "29\n"
     ]
    }
   ],
   "source": [
    "generator = MOBOGenerator(vocs=tnk_vocs, reference_point = {\"y1\":1.5,\"y2\":1.5})\n",
    "generator.n_monte_carlo_samples = N_MC_SAMPLES\n",
    "generator.numerical_optimizer.n_restarts = NUM_RESTARTS\n",
    "\n",
    "X = Xopt(generator=generator, evaluator=evaluator, vocs=tnk_vocs)\n",
    "X.evaluate_data(pd.DataFrame({\"x1\":[1.0, 0.75],\"x2\":[0.75, 1.0]}))\n",
    "\n",
    "for i in range(N_STEPS):\n",
    "    print(i)\n",
    "    X.step()"
   ]
  },
  {
   "cell_type": "code",
   "execution_count": 3,
   "metadata": {
    "collapsed": false,
    "execution": {
     "iopub.execute_input": "2024-01-11T17:37:05.391593Z",
     "iopub.status.busy": "2024-01-11T17:37:05.391083Z",
     "iopub.status.idle": "2024-01-11T17:37:05.405895Z",
     "shell.execute_reply": "2024-01-11T17:37:05.405354Z"
    }
   },
   "outputs": [
    {
     "data": {
      "text/html": [
       "<div>\n",
       "<style scoped>\n",
       "    .dataframe tbody tr th:only-of-type {\n",
       "        vertical-align: middle;\n",
       "    }\n",
       "\n",
       "    .dataframe tbody tr th {\n",
       "        vertical-align: top;\n",
       "    }\n",
       "\n",
       "    .dataframe thead th {\n",
       "        text-align: right;\n",
       "    }\n",
       "</style>\n",
       "<table border=\"1\" class=\"dataframe\">\n",
       "  <thead>\n",
       "    <tr style=\"text-align: right;\">\n",
       "      <th></th>\n",
       "      <th>x1</th>\n",
       "      <th>x2</th>\n",
       "      <th>a</th>\n",
       "      <th>y1</th>\n",
       "      <th>y2</th>\n",
       "      <th>c1</th>\n",
       "      <th>c2</th>\n",
       "      <th>xopt_runtime</th>\n",
       "      <th>xopt_error</th>\n",
       "    </tr>\n",
       "  </thead>\n",
       "  <tbody>\n",
       "    <tr>\n",
       "      <th>0</th>\n",
       "      <td>1.000000</td>\n",
       "      <td>0.750000</td>\n",
       "      <td>dummy_constant</td>\n",
       "      <td>1.000000</td>\n",
       "      <td>0.750000</td>\n",
       "      <td>0.626888</td>\n",
       "      <td>0.312500</td>\n",
       "      <td>0.000034</td>\n",
       "      <td>False</td>\n",
       "    </tr>\n",
       "    <tr>\n",
       "      <th>1</th>\n",
       "      <td>0.750000</td>\n",
       "      <td>1.000000</td>\n",
       "      <td>dummy_constant</td>\n",
       "      <td>0.750000</td>\n",
       "      <td>1.000000</td>\n",
       "      <td>0.626888</td>\n",
       "      <td>0.312500</td>\n",
       "      <td>0.000008</td>\n",
       "      <td>False</td>\n",
       "    </tr>\n",
       "    <tr>\n",
       "      <th>2</th>\n",
       "      <td>3.141590</td>\n",
       "      <td>1.490326</td>\n",
       "      <td>dummy_constant</td>\n",
       "      <td>3.141590</td>\n",
       "      <td>1.490326</td>\n",
       "      <td>11.021274</td>\n",
       "      <td>7.958743</td>\n",
       "      <td>0.000024</td>\n",
       "      <td>False</td>\n",
       "    </tr>\n",
       "    <tr>\n",
       "      <th>3</th>\n",
       "      <td>0.321598</td>\n",
       "      <td>0.000000</td>\n",
       "      <td>dummy_constant</td>\n",
       "      <td>0.321598</td>\n",
       "      <td>0.000000</td>\n",
       "      <td>-0.996575</td>\n",
       "      <td>0.281827</td>\n",
       "      <td>0.000028</td>\n",
       "      <td>False</td>\n",
       "    </tr>\n",
       "    <tr>\n",
       "      <th>4</th>\n",
       "      <td>0.151688</td>\n",
       "      <td>0.287671</td>\n",
       "      <td>dummy_constant</td>\n",
       "      <td>0.151688</td>\n",
       "      <td>0.287671</td>\n",
       "      <td>-0.903228</td>\n",
       "      <td>0.166405</td>\n",
       "      <td>0.000024</td>\n",
       "      <td>False</td>\n",
       "    </tr>\n",
       "    <tr>\n",
       "      <th>5</th>\n",
       "      <td>0.052182</td>\n",
       "      <td>0.830159</td>\n",
       "      <td>dummy_constant</td>\n",
       "      <td>0.052182</td>\n",
       "      <td>0.830159</td>\n",
       "      <td>-0.361774</td>\n",
       "      <td>0.309546</td>\n",
       "      <td>0.000023</td>\n",
       "      <td>False</td>\n",
       "    </tr>\n",
       "    <tr>\n",
       "      <th>6</th>\n",
       "      <td>0.000000</td>\n",
       "      <td>0.000000</td>\n",
       "      <td>dummy_constant</td>\n",
       "      <td>0.000000</td>\n",
       "      <td>0.000000</td>\n",
       "      <td>-1.100000</td>\n",
       "      <td>0.500000</td>\n",
       "      <td>0.000024</td>\n",
       "      <td>False</td>\n",
       "    </tr>\n",
       "    <tr>\n",
       "      <th>7</th>\n",
       "      <td>0.331994</td>\n",
       "      <td>1.054524</td>\n",
       "      <td>dummy_constant</td>\n",
       "      <td>0.331994</td>\n",
       "      <td>1.054524</td>\n",
       "      <td>0.205551</td>\n",
       "      <td>0.335723</td>\n",
       "      <td>0.000025</td>\n",
       "      <td>False</td>\n",
       "    </tr>\n",
       "    <tr>\n",
       "      <th>8</th>\n",
       "      <td>0.976041</td>\n",
       "      <td>0.489404</td>\n",
       "      <td>dummy_constant</td>\n",
       "      <td>0.976041</td>\n",
       "      <td>0.489404</td>\n",
       "      <td>0.151627</td>\n",
       "      <td>0.226727</td>\n",
       "      <td>0.000025</td>\n",
       "      <td>False</td>\n",
       "    </tr>\n",
       "    <tr>\n",
       "      <th>9</th>\n",
       "      <td>1.042520</td>\n",
       "      <td>0.272221</td>\n",
       "      <td>dummy_constant</td>\n",
       "      <td>1.042520</td>\n",
       "      <td>0.272221</td>\n",
       "      <td>0.219521</td>\n",
       "      <td>0.346211</td>\n",
       "      <td>0.000025</td>\n",
       "      <td>False</td>\n",
       "    </tr>\n",
       "    <tr>\n",
       "      <th>10</th>\n",
       "      <td>0.174936</td>\n",
       "      <td>1.049405</td>\n",
       "      <td>dummy_constant</td>\n",
       "      <td>0.174936</td>\n",
       "      <td>1.049405</td>\n",
       "      <td>0.219674</td>\n",
       "      <td>0.407513</td>\n",
       "      <td>0.000041</td>\n",
       "      <td>False</td>\n",
       "    </tr>\n",
       "    <tr>\n",
       "      <th>11</th>\n",
       "      <td>0.216778</td>\n",
       "      <td>0.683606</td>\n",
       "      <td>dummy_constant</td>\n",
       "      <td>0.216778</td>\n",
       "      <td>0.683606</td>\n",
       "      <td>-0.505643</td>\n",
       "      <td>0.113926</td>\n",
       "      <td>0.000026</td>\n",
       "      <td>False</td>\n",
       "    </tr>\n",
       "    <tr>\n",
       "      <th>12</th>\n",
       "      <td>0.639030</td>\n",
       "      <td>0.841351</td>\n",
       "      <td>dummy_constant</td>\n",
       "      <td>0.639030</td>\n",
       "      <td>0.841351</td>\n",
       "      <td>0.172895</td>\n",
       "      <td>0.135850</td>\n",
       "      <td>0.000029</td>\n",
       "      <td>False</td>\n",
       "    </tr>\n",
       "    <tr>\n",
       "      <th>13</th>\n",
       "      <td>0.077204</td>\n",
       "      <td>1.520328</td>\n",
       "      <td>dummy_constant</td>\n",
       "      <td>0.077204</td>\n",
       "      <td>1.520328</td>\n",
       "      <td>1.248539</td>\n",
       "      <td>1.219827</td>\n",
       "      <td>0.000049</td>\n",
       "      <td>False</td>\n",
       "    </tr>\n",
       "    <tr>\n",
       "      <th>14</th>\n",
       "      <td>1.025595</td>\n",
       "      <td>0.094201</td>\n",
       "      <td>dummy_constant</td>\n",
       "      <td>1.025595</td>\n",
       "      <td>0.094201</td>\n",
       "      <td>0.050209</td>\n",
       "      <td>0.440923</td>\n",
       "      <td>0.000026</td>\n",
       "      <td>False</td>\n",
       "    </tr>\n",
       "    <tr>\n",
       "      <th>15</th>\n",
       "      <td>0.877088</td>\n",
       "      <td>0.133743</td>\n",
       "      <td>dummy_constant</td>\n",
       "      <td>0.877088</td>\n",
       "      <td>0.133743</td>\n",
       "      <td>-0.137681</td>\n",
       "      <td>0.276340</td>\n",
       "      <td>0.000025</td>\n",
       "      <td>False</td>\n",
       "    </tr>\n",
       "    <tr>\n",
       "      <th>16</th>\n",
       "      <td>0.303351</td>\n",
       "      <td>0.875069</td>\n",
       "      <td>dummy_constant</td>\n",
       "      <td>0.303351</td>\n",
       "      <td>0.875069</td>\n",
       "      <td>-0.200884</td>\n",
       "      <td>0.179347</td>\n",
       "      <td>0.000025</td>\n",
       "      <td>False</td>\n",
       "    </tr>\n",
       "    <tr>\n",
       "      <th>17</th>\n",
       "      <td>0.809461</td>\n",
       "      <td>0.203214</td>\n",
       "      <td>dummy_constant</td>\n",
       "      <td>0.809461</td>\n",
       "      <td>0.203214</td>\n",
       "      <td>-0.233367</td>\n",
       "      <td>0.183848</td>\n",
       "      <td>0.000024</td>\n",
       "      <td>False</td>\n",
       "    </tr>\n",
       "    <tr>\n",
       "      <th>18</th>\n",
       "      <td>0.816323</td>\n",
       "      <td>0.625262</td>\n",
       "      <td>dummy_constant</td>\n",
       "      <td>0.816323</td>\n",
       "      <td>0.625262</td>\n",
       "      <td>0.108533</td>\n",
       "      <td>0.115751</td>\n",
       "      <td>0.000024</td>\n",
       "      <td>False</td>\n",
       "    </tr>\n",
       "    <tr>\n",
       "      <th>19</th>\n",
       "      <td>0.276338</td>\n",
       "      <td>0.779154</td>\n",
       "      <td>dummy_constant</td>\n",
       "      <td>0.276338</td>\n",
       "      <td>0.779154</td>\n",
       "      <td>-0.384043</td>\n",
       "      <td>0.127952</td>\n",
       "      <td>0.000023</td>\n",
       "      <td>False</td>\n",
       "    </tr>\n",
       "    <tr>\n",
       "      <th>20</th>\n",
       "      <td>0.042997</td>\n",
       "      <td>1.143018</td>\n",
       "      <td>dummy_constant</td>\n",
       "      <td>0.042997</td>\n",
       "      <td>1.143018</td>\n",
       "      <td>0.225896</td>\n",
       "      <td>0.622324</td>\n",
       "      <td>0.000024</td>\n",
       "      <td>False</td>\n",
       "    </tr>\n",
       "    <tr>\n",
       "      <th>21</th>\n",
       "      <td>0.367195</td>\n",
       "      <td>0.887307</td>\n",
       "      <td>dummy_constant</td>\n",
       "      <td>0.367195</td>\n",
       "      <td>0.887307</td>\n",
       "      <td>-0.177852</td>\n",
       "      <td>0.167644</td>\n",
       "      <td>0.000026</td>\n",
       "      <td>False</td>\n",
       "    </tr>\n",
       "    <tr>\n",
       "      <th>22</th>\n",
       "      <td>0.485062</td>\n",
       "      <td>0.454894</td>\n",
       "      <td>dummy_constant</td>\n",
       "      <td>0.485062</td>\n",
       "      <td>0.454894</td>\n",
       "      <td>-0.644897</td>\n",
       "      <td>0.002258</td>\n",
       "      <td>0.000027</td>\n",
       "      <td>False</td>\n",
       "    </tr>\n",
       "    <tr>\n",
       "      <th>23</th>\n",
       "      <td>0.936610</td>\n",
       "      <td>0.349585</td>\n",
       "      <td>dummy_constant</td>\n",
       "      <td>0.936610</td>\n",
       "      <td>0.349585</td>\n",
       "      <td>-0.084877</td>\n",
       "      <td>0.213253</td>\n",
       "      <td>0.000026</td>\n",
       "      <td>False</td>\n",
       "    </tr>\n",
       "    <tr>\n",
       "      <th>24</th>\n",
       "      <td>0.574591</td>\n",
       "      <td>0.495305</td>\n",
       "      <td>dummy_constant</td>\n",
       "      <td>0.574591</td>\n",
       "      <td>0.495305</td>\n",
       "      <td>-0.462284</td>\n",
       "      <td>0.005586</td>\n",
       "      <td>0.000025</td>\n",
       "      <td>False</td>\n",
       "    </tr>\n",
       "    <tr>\n",
       "      <th>25</th>\n",
       "      <td>1.154808</td>\n",
       "      <td>0.008771</td>\n",
       "      <td>dummy_constant</td>\n",
       "      <td>1.154808</td>\n",
       "      <td>0.008771</td>\n",
       "      <td>0.234396</td>\n",
       "      <td>0.670079</td>\n",
       "      <td>0.000027</td>\n",
       "      <td>False</td>\n",
       "    </tr>\n",
       "    <tr>\n",
       "      <th>26</th>\n",
       "      <td>0.383390</td>\n",
       "      <td>0.955884</td>\n",
       "      <td>dummy_constant</td>\n",
       "      <td>0.383390</td>\n",
       "      <td>0.955884</td>\n",
       "      <td>-0.037680</td>\n",
       "      <td>0.221428</td>\n",
       "      <td>0.000025</td>\n",
       "      <td>False</td>\n",
       "    </tr>\n",
       "    <tr>\n",
       "      <th>27</th>\n",
       "      <td>0.082841</td>\n",
       "      <td>0.947129</td>\n",
       "      <td>dummy_constant</td>\n",
       "      <td>0.082841</td>\n",
       "      <td>0.947129</td>\n",
       "      <td>-0.113484</td>\n",
       "      <td>0.373946</td>\n",
       "      <td>0.000031</td>\n",
       "      <td>False</td>\n",
       "    </tr>\n",
       "    <tr>\n",
       "      <th>28</th>\n",
       "      <td>0.987374</td>\n",
       "      <td>0.213208</td>\n",
       "      <td>dummy_constant</td>\n",
       "      <td>0.987374</td>\n",
       "      <td>0.213208</td>\n",
       "      <td>0.116976</td>\n",
       "      <td>0.319783</td>\n",
       "      <td>0.000025</td>\n",
       "      <td>False</td>\n",
       "    </tr>\n",
       "    <tr>\n",
       "      <th>29</th>\n",
       "      <td>0.596731</td>\n",
       "      <td>0.431711</td>\n",
       "      <td>dummy_constant</td>\n",
       "      <td>0.596731</td>\n",
       "      <td>0.431711</td>\n",
       "      <td>-0.374779</td>\n",
       "      <td>0.014020</td>\n",
       "      <td>0.000026</td>\n",
       "      <td>False</td>\n",
       "    </tr>\n",
       "    <tr>\n",
       "      <th>30</th>\n",
       "      <td>0.643876</td>\n",
       "      <td>0.671421</td>\n",
       "      <td>dummy_constant</td>\n",
       "      <td>0.643876</td>\n",
       "      <td>0.671421</td>\n",
       "      <td>-0.229058</td>\n",
       "      <td>0.050085</td>\n",
       "      <td>0.000026</td>\n",
       "      <td>False</td>\n",
       "    </tr>\n",
       "    <tr>\n",
       "      <th>31</th>\n",
       "      <td>1.044501</td>\n",
       "      <td>0.061881</td>\n",
       "      <td>dummy_constant</td>\n",
       "      <td>1.044501</td>\n",
       "      <td>0.061881</td>\n",
       "      <td>0.036385</td>\n",
       "      <td>0.488430</td>\n",
       "      <td>0.000024</td>\n",
       "      <td>False</td>\n",
       "    </tr>\n",
       "  </tbody>\n",
       "</table>\n",
       "</div>"
      ],
      "text/plain": [
       "          x1        x2               a        y1        y2         c1  \\\n",
       "0   1.000000  0.750000  dummy_constant  1.000000  0.750000   0.626888   \n",
       "1   0.750000  1.000000  dummy_constant  0.750000  1.000000   0.626888   \n",
       "2   3.141590  1.490326  dummy_constant  3.141590  1.490326  11.021274   \n",
       "3   0.321598  0.000000  dummy_constant  0.321598  0.000000  -0.996575   \n",
       "4   0.151688  0.287671  dummy_constant  0.151688  0.287671  -0.903228   \n",
       "5   0.052182  0.830159  dummy_constant  0.052182  0.830159  -0.361774   \n",
       "6   0.000000  0.000000  dummy_constant  0.000000  0.000000  -1.100000   \n",
       "7   0.331994  1.054524  dummy_constant  0.331994  1.054524   0.205551   \n",
       "8   0.976041  0.489404  dummy_constant  0.976041  0.489404   0.151627   \n",
       "9   1.042520  0.272221  dummy_constant  1.042520  0.272221   0.219521   \n",
       "10  0.174936  1.049405  dummy_constant  0.174936  1.049405   0.219674   \n",
       "11  0.216778  0.683606  dummy_constant  0.216778  0.683606  -0.505643   \n",
       "12  0.639030  0.841351  dummy_constant  0.639030  0.841351   0.172895   \n",
       "13  0.077204  1.520328  dummy_constant  0.077204  1.520328   1.248539   \n",
       "14  1.025595  0.094201  dummy_constant  1.025595  0.094201   0.050209   \n",
       "15  0.877088  0.133743  dummy_constant  0.877088  0.133743  -0.137681   \n",
       "16  0.303351  0.875069  dummy_constant  0.303351  0.875069  -0.200884   \n",
       "17  0.809461  0.203214  dummy_constant  0.809461  0.203214  -0.233367   \n",
       "18  0.816323  0.625262  dummy_constant  0.816323  0.625262   0.108533   \n",
       "19  0.276338  0.779154  dummy_constant  0.276338  0.779154  -0.384043   \n",
       "20  0.042997  1.143018  dummy_constant  0.042997  1.143018   0.225896   \n",
       "21  0.367195  0.887307  dummy_constant  0.367195  0.887307  -0.177852   \n",
       "22  0.485062  0.454894  dummy_constant  0.485062  0.454894  -0.644897   \n",
       "23  0.936610  0.349585  dummy_constant  0.936610  0.349585  -0.084877   \n",
       "24  0.574591  0.495305  dummy_constant  0.574591  0.495305  -0.462284   \n",
       "25  1.154808  0.008771  dummy_constant  1.154808  0.008771   0.234396   \n",
       "26  0.383390  0.955884  dummy_constant  0.383390  0.955884  -0.037680   \n",
       "27  0.082841  0.947129  dummy_constant  0.082841  0.947129  -0.113484   \n",
       "28  0.987374  0.213208  dummy_constant  0.987374  0.213208   0.116976   \n",
       "29  0.596731  0.431711  dummy_constant  0.596731  0.431711  -0.374779   \n",
       "30  0.643876  0.671421  dummy_constant  0.643876  0.671421  -0.229058   \n",
       "31  1.044501  0.061881  dummy_constant  1.044501  0.061881   0.036385   \n",
       "\n",
       "          c2  xopt_runtime  xopt_error  \n",
       "0   0.312500      0.000034       False  \n",
       "1   0.312500      0.000008       False  \n",
       "2   7.958743      0.000024       False  \n",
       "3   0.281827      0.000028       False  \n",
       "4   0.166405      0.000024       False  \n",
       "5   0.309546      0.000023       False  \n",
       "6   0.500000      0.000024       False  \n",
       "7   0.335723      0.000025       False  \n",
       "8   0.226727      0.000025       False  \n",
       "9   0.346211      0.000025       False  \n",
       "10  0.407513      0.000041       False  \n",
       "11  0.113926      0.000026       False  \n",
       "12  0.135850      0.000029       False  \n",
       "13  1.219827      0.000049       False  \n",
       "14  0.440923      0.000026       False  \n",
       "15  0.276340      0.000025       False  \n",
       "16  0.179347      0.000025       False  \n",
       "17  0.183848      0.000024       False  \n",
       "18  0.115751      0.000024       False  \n",
       "19  0.127952      0.000023       False  \n",
       "20  0.622324      0.000024       False  \n",
       "21  0.167644      0.000026       False  \n",
       "22  0.002258      0.000027       False  \n",
       "23  0.213253      0.000026       False  \n",
       "24  0.005586      0.000025       False  \n",
       "25  0.670079      0.000027       False  \n",
       "26  0.221428      0.000025       False  \n",
       "27  0.373946      0.000031       False  \n",
       "28  0.319783      0.000025       False  \n",
       "29  0.014020      0.000026       False  \n",
       "30  0.050085      0.000026       False  \n",
       "31  0.488430      0.000024       False  "
      ]
     },
     "execution_count": 3,
     "metadata": {},
     "output_type": "execute_result"
    }
   ],
   "source": [
    "X.generator.data"
   ]
  },
  {
   "cell_type": "markdown",
   "metadata": {
    "collapsed": false
   },
   "source": [
    "## plot results\n"
   ]
  },
  {
   "cell_type": "code",
   "execution_count": 4,
   "metadata": {
    "collapsed": false,
    "execution": {
     "iopub.execute_input": "2024-01-11T17:37:05.408748Z",
     "iopub.status.busy": "2024-01-11T17:37:05.408203Z",
     "iopub.status.idle": "2024-01-11T17:37:05.903146Z",
     "shell.execute_reply": "2024-01-11T17:37:05.902557Z"
    }
   },
   "outputs": [
    {
     "data": {
      "image/png": "[encoded data removed]",
      "text/plain": [
       "<Figure size 640x480 with 1 Axes>"
      ]
     },
     "metadata": {},
     "output_type": "display_data"
    }
   ],
   "source": [
    "import matplotlib.pyplot as plt\n",
    "\n",
    "fig, ax = plt.subplots()\n",
    "\n",
    "theta = np.linspace(0, np.pi / 2)\n",
    "r = np.sqrt(1 + 0.1 * np.cos(16 * theta))\n",
    "x_1 = r * np.sin(theta)\n",
    "x_2_lower = r * np.cos(theta)\n",
    "x_2_upper = (0.5 - (x_1 - 0.5) ** 2) ** 0.5 + 0.5\n",
    "\n",
    "z = np.zeros_like(x_1)\n",
    "\n",
    "# ax2.plot(x_1, x_2_lower,'r')\n",
    "ax.fill_between(x_1, z, x_2_lower, fc=\"white\")\n",
    "circle = plt.Circle(\n",
    "    (0.5, 0.5), 0.5 ** 0.5, color=\"r\", alpha=0.25, zorder=0, label=\"Valid Region\"\n",
    ")\n",
    "ax.add_patch(circle)\n",
    "history = pd.concat(\n",
    "    [X.data, tnk_vocs.feasibility_data(X.data)], axis=1, ignore_index=False\n",
    ")\n",
    "\n",
    "\n",
    "ax.plot(*history[[\"x1\", \"x2\"]][history[\"feasible\"]].to_numpy().T, \".C1\")\n",
    "ax.plot(*history[[\"x1\", \"x2\"]][~history[\"feasible\"]].to_numpy().T, \".C2\")\n",
    "\n",
    "ax.set_xlim(0, 3.14)\n",
    "ax.set_ylim(0, 3.14)\n",
    "ax.set_xlabel(\"x1\")\n",
    "ax.set_ylabel(\"x2\")\n",
    "ax.set_aspect(\"equal\")"
   ]
  },
  {
   "cell_type": "markdown",
   "metadata": {
    "collapsed": false
   },
   "source": [
    "### Plot path through input space"
   ]
  },
  {
   "cell_type": "code",
   "execution_count": 5,
   "metadata": {
    "collapsed": false,
    "execution": {
     "iopub.execute_input": "2024-01-11T17:37:05.905772Z",
     "iopub.status.busy": "2024-01-11T17:37:05.905353Z",
     "iopub.status.idle": "2024-01-11T17:37:06.046545Z",
     "shell.execute_reply": "2024-01-11T17:37:06.045961Z"
    }
   },
   "outputs": [
    {
     "data": {
      "image/png": "[encoded data removed]",
      "text/plain": [
       "<Figure size 640x480 with 1 Axes>"
      ]
     },
     "metadata": {},
     "output_type": "display_data"
    }
   ],
   "source": [
    "ax = history.plot(\"x1\", \"x2\")\n",
    "ax.set_ylim(0, 3.14)\n",
    "ax.set_xlim(0, 3.14)\n",
    "ax.set_aspect(\"equal\")"
   ]
  },
  {
   "cell_type": "code",
   "execution_count": 6,
   "metadata": {
    "collapsed": false,
    "execution": {
     "iopub.execute_input": "2024-01-11T17:37:06.048703Z",
     "iopub.status.busy": "2024-01-11T17:37:06.048521Z",
     "iopub.status.idle": "2024-01-11T17:37:15.164948Z",
     "shell.execute_reply": "2024-01-11T17:37:15.164277Z"
    }
   },
   "outputs": [
    {
     "name": "stdout",
     "output_type": "stream",
     "text": [
      "[[0.63297871 0.5643187 ]]\n"
     ]
    },
    {
     "data": {
      "text/plain": [
       "[<matplotlib.lines.Line2D at 0x7fc45e1f1ee0>]"
      ]
     },
     "execution_count": 6,
     "metadata": {},
     "output_type": "execute_result"
    },
    {
     "data": {
      "image/png": "[encoded data removed]",
      "text/plain": [
       "<Figure size 640x480 with 2 Axes>"
      ]
     },
     "metadata": {},
     "output_type": "display_data"
    },
    {
     "data": {
      "image/png": "[encoded data removed]",
      "text/plain": [
       "<Figure size 640x480 with 2 Axes>"
      ]
     },
     "metadata": {},
     "output_type": "display_data"
    }
   ],
   "source": [
    "# plot the acquisition function\n",
    "from xopt.generators.bayesian.objectives import feasibility\n",
    "\n",
    "bounds = X.generator.vocs.bounds\n",
    "model = X.generator.model\n",
    "\n",
    "# create mesh\n",
    "n = 200\n",
    "x = torch.linspace(*bounds.T[0], n)\n",
    "y = torch.linspace(*bounds.T[1], n)\n",
    "xx, yy = torch.meshgrid(x, y)\n",
    "pts = torch.hstack([ele.reshape(-1, 1) for ele in (xx, yy)]).double()\n",
    "\n",
    "xx, yy = xx.numpy(), yy.numpy()\n",
    "\n",
    "acq_func = X.generator.get_acquisition(model)\n",
    "with torch.no_grad():\n",
    "    acq_pts = pts.unsqueeze(1)\n",
    "    acq = acq_func(acq_pts)\n",
    "\n",
    "    fig, ax = plt.subplots()\n",
    "    c = ax.pcolor(xx, yy, acq.reshape(n, n), cmap=\"Blues\")\n",
    "    fig.colorbar(c)\n",
    "    ax.set_title(\"Acquisition function\")\n",
    "\n",
    "    ax.plot(*history[[\"x1\", \"x2\"]][history[\"feasible\"]].to_numpy().T, \".C1\")\n",
    "    ax.plot(*history[[\"x1\", \"x2\"]][~history[\"feasible\"]].to_numpy().T, \".C2\")\n",
    "\n",
    "    ax.plot(*history[[\"x1\", \"x2\"]].to_numpy()[-1].T, \"+\")\n",
    "\n",
    "    feas = feasibility(pts.unsqueeze(1), model, tnk_vocs).flatten()\n",
    "\n",
    "    fig2, ax2 = plt.subplots()\n",
    "    c = ax2.pcolor(xx, yy, feas.reshape(n, n))\n",
    "    fig2.colorbar(c)\n",
    "    ax2.set_title(\"Feasible Region\")\n",
    "\n",
    "candidate = pd.DataFrame(X.generator.generate(1), index=[0])\n",
    "print(candidate[[\"x1\", \"x2\"]].to_numpy())\n",
    "ax.plot(*candidate[[\"x1\", \"x2\"]].to_numpy()[0], \"o\")"
   ]
  },
  {
   "cell_type": "code",
   "execution_count": 7,
   "metadata": {
    "collapsed": false,
    "execution": {
     "iopub.execute_input": "2024-01-11T17:37:15.167119Z",
     "iopub.status.busy": "2024-01-11T17:37:15.166932Z",
     "iopub.status.idle": "2024-01-11T17:37:15.562112Z",
     "shell.execute_reply": "2024-01-11T17:37:15.561508Z"
    }
   },
   "outputs": [
    {
     "name": "stdout",
     "output_type": "stream",
     "text": [
      "CPU times: user 752 ms, sys: 28 ms, total: 780 ms\n",
      "Wall time: 391 ms\n"
     ]
    }
   ],
   "source": [
    "%%time\n",
    "candidate = X.generator.generate(1)"
   ]
  }
 ],
 "metadata": {
  "interpreter": {
   "hash": "72034539424920dfb606fe3b820b3f27dca0cbf1c69938110810ec4641e275b1"
  },
  "kernelspec": {
   "display_name": "Python 3 (ipykernel)",
   "language": "python",
   "name": "python3"
  },
  "language_info": {
   "codemirror_mode": {
    "name": "ipython",
    "version": 3
   },
   "file_extension": ".py",
   "mimetype": "text/x-python",
   "name": "python",
   "nbconvert_exporter": "python",
   "pygments_lexer": "ipython3",
   "version": "3.9.18"
  }
 },
 "nbformat": 4,
 "nbformat_minor": 4
}
