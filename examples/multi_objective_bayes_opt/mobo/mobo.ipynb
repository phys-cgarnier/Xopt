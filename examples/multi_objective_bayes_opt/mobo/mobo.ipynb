{
 "cells": [
  {
   "cell_type": "markdown",
   "metadata": {},
   "source": [
    "\n",
    "# Multi-objective Bayesian Optimization\n",
    "\n",
    "\n",
    "TNK function\n",
    "$n=2$ variables:\n",
    "$x_i \\in [0, \\pi], i=1,2$\n",
    "\n",
    "Objectives:\n",
    "- $f_i(x) = x_i$\n",
    "\n",
    "Constraints:\n",
    "- $g_1(x) = -x_1^2 -x_2^2 + 1 + 0.1 \\cos\\left(16 \\arctan \\frac{x_1}{x_2}\\right) \\le 0$\n",
    "- $g_2(x) = (x_1 - 1/2)^2 + (x_2-1/2)^2 \\le 0.5$"
   ]
  },
  {
   "cell_type": "code",
   "execution_count": 1,
   "metadata": {
    "collapsed": false,
    "execution": {
     "iopub.execute_input": "2024-01-30T19:12:03.971740Z",
     "iopub.status.busy": "2024-01-30T19:12:03.971551Z",
     "iopub.status.idle": "2024-01-30T19:12:06.271359Z",
     "shell.execute_reply": "2024-01-30T19:12:06.270617Z"
    }
   },
   "outputs": [
    {
     "name": "stdout",
     "output_type": "stream",
     "text": [
      "{'variables': {'x1': [0.0, 3.14159], 'x2': [0.0, 3.14159]}, 'constraints': {'c1': ['GREATER_THAN', 0.0], 'c2': ['LESS_THAN', 0.5]}, 'objectives': {'y1': 'MINIMIZE', 'y2': 'MINIMIZE'}, 'constants': {'a': 'dummy_constant'}, 'observables': []}\n"
     ]
    }
   ],
   "source": [
    "# set values if testing\n",
    "import os\n",
    "SMOKE_TEST = os.environ.get(\"SMOKE_TEST\")\n",
    "N_MC_SAMPLES = 1 if SMOKE_TEST else 128\n",
    "NUM_RESTARTS = 1 if SMOKE_TEST else 20\n",
    "N_STEPS = 1 if SMOKE_TEST else 30\n",
    "\n",
    "# Ignore all warnings\n",
    "import warnings\n",
    "warnings.filterwarnings(\"ignore\")\n",
    "\n",
    "\n",
    "import pandas as pd\n",
    "import numpy as np\n",
    "import torch\n",
    "\n",
    "from xopt import Xopt, Evaluator\n",
    "from xopt.generators.bayesian import MOBOGenerator\n",
    "from xopt.resources.test_functions.tnk import evaluate_TNK, tnk_vocs\n",
    "\n",
    "\n",
    "evaluator = Evaluator(function=evaluate_TNK)\n",
    "print(tnk_vocs.dict())"
   ]
  },
  {
   "cell_type": "code",
   "execution_count": 2,
   "metadata": {
    "collapsed": false,
    "execution": {
     "iopub.execute_input": "2024-01-30T19:12:06.302108Z",
     "iopub.status.busy": "2024-01-30T19:12:06.301508Z",
     "iopub.status.idle": "2024-01-30T19:12:48.658393Z",
     "shell.execute_reply": "2024-01-30T19:12:48.657787Z"
    }
   },
   "outputs": [
    {
     "name": "stdout",
     "output_type": "stream",
     "text": [
      "0\n"
     ]
    },
    {
     "name": "stdout",
     "output_type": "stream",
     "text": [
      "1\n"
     ]
    },
    {
     "name": "stdout",
     "output_type": "stream",
     "text": [
      "2\n"
     ]
    },
    {
     "name": "stdout",
     "output_type": "stream",
     "text": [
      "3\n"
     ]
    },
    {
     "name": "stdout",
     "output_type": "stream",
     "text": [
      "4\n"
     ]
    },
    {
     "name": "stdout",
     "output_type": "stream",
     "text": [
      "5\n"
     ]
    },
    {
     "name": "stdout",
     "output_type": "stream",
     "text": [
      "6\n"
     ]
    },
    {
     "name": "stdout",
     "output_type": "stream",
     "text": [
      "7\n"
     ]
    },
    {
     "name": "stdout",
     "output_type": "stream",
     "text": [
      "8\n"
     ]
    },
    {
     "name": "stdout",
     "output_type": "stream",
     "text": [
      "9\n"
     ]
    },
    {
     "name": "stdout",
     "output_type": "stream",
     "text": [
      "10\n"
     ]
    },
    {
     "name": "stdout",
     "output_type": "stream",
     "text": [
      "11\n"
     ]
    },
    {
     "name": "stdout",
     "output_type": "stream",
     "text": [
      "12\n"
     ]
    },
    {
     "name": "stdout",
     "output_type": "stream",
     "text": [
      "13\n"
     ]
    },
    {
     "name": "stdout",
     "output_type": "stream",
     "text": [
      "14\n"
     ]
    },
    {
     "name": "stdout",
     "output_type": "stream",
     "text": [
      "15\n"
     ]
    },
    {
     "name": "stdout",
     "output_type": "stream",
     "text": [
      "16\n"
     ]
    },
    {
     "name": "stdout",
     "output_type": "stream",
     "text": [
      "17\n"
     ]
    },
    {
     "name": "stdout",
     "output_type": "stream",
     "text": [
      "18\n"
     ]
    },
    {
     "name": "stdout",
     "output_type": "stream",
     "text": [
      "19\n"
     ]
    },
    {
     "name": "stdout",
     "output_type": "stream",
     "text": [
      "20\n"
     ]
    },
    {
     "name": "stdout",
     "output_type": "stream",
     "text": [
      "21\n"
     ]
    },
    {
     "name": "stdout",
     "output_type": "stream",
     "text": [
      "22\n"
     ]
    },
    {
     "name": "stdout",
     "output_type": "stream",
     "text": [
      "23\n"
     ]
    },
    {
     "name": "stdout",
     "output_type": "stream",
     "text": [
      "24\n"
     ]
    },
    {
     "name": "stdout",
     "output_type": "stream",
     "text": [
      "25\n"
     ]
    },
    {
     "name": "stdout",
     "output_type": "stream",
     "text": [
      "26\n"
     ]
    },
    {
     "name": "stdout",
     "output_type": "stream",
     "text": [
      "27\n"
     ]
    },
    {
     "name": "stdout",
     "output_type": "stream",
     "text": [
      "28\n"
     ]
    },
    {
     "name": "stdout",
     "output_type": "stream",
     "text": [
      "29\n"
     ]
    }
   ],
   "source": [
    "generator = MOBOGenerator(vocs=tnk_vocs, reference_point = {\"y1\":1.5,\"y2\":1.5})\n",
    "generator.n_monte_carlo_samples = N_MC_SAMPLES\n",
    "generator.numerical_optimizer.n_restarts = NUM_RESTARTS\n",
    "\n",
    "X = Xopt(generator=generator, evaluator=evaluator, vocs=tnk_vocs)\n",
    "X.evaluate_data(pd.DataFrame({\"x1\":[1.0, 0.75],\"x2\":[0.75, 1.0]}))\n",
    "\n",
    "for i in range(N_STEPS):\n",
    "    print(i)\n",
    "    X.step()"
   ]
  },
  {
   "cell_type": "code",
   "execution_count": 3,
   "metadata": {
    "collapsed": false,
    "execution": {
     "iopub.execute_input": "2024-01-30T19:12:48.661398Z",
     "iopub.status.busy": "2024-01-30T19:12:48.660952Z",
     "iopub.status.idle": "2024-01-30T19:12:48.681499Z",
     "shell.execute_reply": "2024-01-30T19:12:48.680829Z"
    }
   },
   "outputs": [
    {
     "data": {
      "text/html": [
       "<div>\n",
       "<style scoped>\n",
       "    .dataframe tbody tr th:only-of-type {\n",
       "        vertical-align: middle;\n",
       "    }\n",
       "\n",
       "    .dataframe tbody tr th {\n",
       "        vertical-align: top;\n",
       "    }\n",
       "\n",
       "    .dataframe thead th {\n",
       "        text-align: right;\n",
       "    }\n",
       "</style>\n",
       "<table border=\"1\" class=\"dataframe\">\n",
       "  <thead>\n",
       "    <tr style=\"text-align: right;\">\n",
       "      <th></th>\n",
       "      <th>x1</th>\n",
       "      <th>x2</th>\n",
       "      <th>a</th>\n",
       "      <th>y1</th>\n",
       "      <th>y2</th>\n",
       "      <th>c1</th>\n",
       "      <th>c2</th>\n",
       "      <th>xopt_runtime</th>\n",
       "      <th>xopt_error</th>\n",
       "    </tr>\n",
       "  </thead>\n",
       "  <tbody>\n",
       "    <tr>\n",
       "      <th>0</th>\n",
       "      <td>1.000000</td>\n",
       "      <td>0.750000</td>\n",
       "      <td>dummy_constant</td>\n",
       "      <td>1.000000</td>\n",
       "      <td>0.750000</td>\n",
       "      <td>0.626888</td>\n",
       "      <td>0.312500</td>\n",
       "      <td>0.000053</td>\n",
       "      <td>False</td>\n",
       "    </tr>\n",
       "    <tr>\n",
       "      <th>1</th>\n",
       "      <td>0.750000</td>\n",
       "      <td>1.000000</td>\n",
       "      <td>dummy_constant</td>\n",
       "      <td>0.750000</td>\n",
       "      <td>1.000000</td>\n",
       "      <td>0.626888</td>\n",
       "      <td>0.312500</td>\n",
       "      <td>0.000015</td>\n",
       "      <td>False</td>\n",
       "    </tr>\n",
       "    <tr>\n",
       "      <th>2</th>\n",
       "      <td>0.000000</td>\n",
       "      <td>2.602471</td>\n",
       "      <td>dummy_constant</td>\n",
       "      <td>0.000000</td>\n",
       "      <td>2.602471</td>\n",
       "      <td>5.672856</td>\n",
       "      <td>4.670385</td>\n",
       "      <td>0.000027</td>\n",
       "      <td>False</td>\n",
       "    </tr>\n",
       "    <tr>\n",
       "      <th>3</th>\n",
       "      <td>0.000000</td>\n",
       "      <td>0.000000</td>\n",
       "      <td>dummy_constant</td>\n",
       "      <td>0.000000</td>\n",
       "      <td>0.000000</td>\n",
       "      <td>-1.100000</td>\n",
       "      <td>0.500000</td>\n",
       "      <td>0.000028</td>\n",
       "      <td>False</td>\n",
       "    </tr>\n",
       "    <tr>\n",
       "      <th>4</th>\n",
       "      <td>0.000000</td>\n",
       "      <td>0.555638</td>\n",
       "      <td>dummy_constant</td>\n",
       "      <td>0.000000</td>\n",
       "      <td>0.555638</td>\n",
       "      <td>-0.791267</td>\n",
       "      <td>0.253096</td>\n",
       "      <td>0.000025</td>\n",
       "      <td>False</td>\n",
       "    </tr>\n",
       "    <tr>\n",
       "      <th>5</th>\n",
       "      <td>0.302345</td>\n",
       "      <td>0.924240</td>\n",
       "      <td>dummy_constant</td>\n",
       "      <td>0.302345</td>\n",
       "      <td>0.924240</td>\n",
       "      <td>-0.088292</td>\n",
       "      <td>0.219047</td>\n",
       "      <td>0.000028</td>\n",
       "      <td>False</td>\n",
       "    </tr>\n",
       "    <tr>\n",
       "      <th>6</th>\n",
       "      <td>0.365699</td>\n",
       "      <td>0.976484</td>\n",
       "      <td>dummy_constant</td>\n",
       "      <td>0.365699</td>\n",
       "      <td>0.976484</td>\n",
       "      <td>0.001993</td>\n",
       "      <td>0.245074</td>\n",
       "      <td>0.000026</td>\n",
       "      <td>False</td>\n",
       "    </tr>\n",
       "    <tr>\n",
       "      <th>7</th>\n",
       "      <td>0.810985</td>\n",
       "      <td>0.421129</td>\n",
       "      <td>dummy_constant</td>\n",
       "      <td>0.810985</td>\n",
       "      <td>0.421129</td>\n",
       "      <td>-0.183911</td>\n",
       "      <td>0.102933</td>\n",
       "      <td>0.000028</td>\n",
       "      <td>False</td>\n",
       "    </tr>\n",
       "    <tr>\n",
       "      <th>8</th>\n",
       "      <td>0.914870</td>\n",
       "      <td>0.485426</td>\n",
       "      <td>dummy_constant</td>\n",
       "      <td>0.914870</td>\n",
       "      <td>0.485426</td>\n",
       "      <td>0.067747</td>\n",
       "      <td>0.172329</td>\n",
       "      <td>0.000026</td>\n",
       "      <td>False</td>\n",
       "    </tr>\n",
       "    <tr>\n",
       "      <th>9</th>\n",
       "      <td>3.141590</td>\n",
       "      <td>0.000000</td>\n",
       "      <td>dummy_constant</td>\n",
       "      <td>3.141590</td>\n",
       "      <td>0.000000</td>\n",
       "      <td>8.769588</td>\n",
       "      <td>7.227998</td>\n",
       "      <td>0.000028</td>\n",
       "      <td>False</td>\n",
       "    </tr>\n",
       "    <tr>\n",
       "      <th>10</th>\n",
       "      <td>0.982887</td>\n",
       "      <td>0.277886</td>\n",
       "      <td>dummy_constant</td>\n",
       "      <td>0.982887</td>\n",
       "      <td>0.277886</td>\n",
       "      <td>0.073209</td>\n",
       "      <td>0.282515</td>\n",
       "      <td>0.000030</td>\n",
       "      <td>False</td>\n",
       "    </tr>\n",
       "    <tr>\n",
       "      <th>11</th>\n",
       "      <td>1.001475</td>\n",
       "      <td>0.087409</td>\n",
       "      <td>dummy_constant</td>\n",
       "      <td>1.001475</td>\n",
       "      <td>0.087409</td>\n",
       "      <td>-0.007097</td>\n",
       "      <td>0.421709</td>\n",
       "      <td>0.000029</td>\n",
       "      <td>False</td>\n",
       "    </tr>\n",
       "    <tr>\n",
       "      <th>12</th>\n",
       "      <td>0.056205</td>\n",
       "      <td>1.397789</td>\n",
       "      <td>dummy_constant</td>\n",
       "      <td>0.056205</td>\n",
       "      <td>1.397789</td>\n",
       "      <td>0.876945</td>\n",
       "      <td>1.002980</td>\n",
       "      <td>0.000028</td>\n",
       "      <td>False</td>\n",
       "    </tr>\n",
       "    <tr>\n",
       "      <th>13</th>\n",
       "      <td>0.158101</td>\n",
       "      <td>1.071970</td>\n",
       "      <td>dummy_constant</td>\n",
       "      <td>0.158101</td>\n",
       "      <td>1.071970</td>\n",
       "      <td>0.243879</td>\n",
       "      <td>0.444044</td>\n",
       "      <td>0.000028</td>\n",
       "      <td>False</td>\n",
       "    </tr>\n",
       "    <tr>\n",
       "      <th>14</th>\n",
       "      <td>0.628481</td>\n",
       "      <td>0.664859</td>\n",
       "      <td>dummy_constant</td>\n",
       "      <td>0.628481</td>\n",
       "      <td>0.664859</td>\n",
       "      <td>-0.253023</td>\n",
       "      <td>0.043686</td>\n",
       "      <td>0.000028</td>\n",
       "      <td>False</td>\n",
       "    </tr>\n",
       "    <tr>\n",
       "      <th>15</th>\n",
       "      <td>0.709530</td>\n",
       "      <td>0.777304</td>\n",
       "      <td>dummy_constant</td>\n",
       "      <td>0.709530</td>\n",
       "      <td>0.777304</td>\n",
       "      <td>0.033038</td>\n",
       "      <td>0.120800</td>\n",
       "      <td>0.000027</td>\n",
       "      <td>False</td>\n",
       "    </tr>\n",
       "    <tr>\n",
       "      <th>16</th>\n",
       "      <td>0.491924</td>\n",
       "      <td>0.741462</td>\n",
       "      <td>dummy_constant</td>\n",
       "      <td>0.491924</td>\n",
       "      <td>0.741462</td>\n",
       "      <td>-0.108383</td>\n",
       "      <td>0.058369</td>\n",
       "      <td>0.000029</td>\n",
       "      <td>False</td>\n",
       "    </tr>\n",
       "    <tr>\n",
       "      <th>17</th>\n",
       "      <td>0.050667</td>\n",
       "      <td>1.011900</td>\n",
       "      <td>dummy_constant</td>\n",
       "      <td>0.050667</td>\n",
       "      <td>1.011900</td>\n",
       "      <td>-0.043128</td>\n",
       "      <td>0.463942</td>\n",
       "      <td>0.000027</td>\n",
       "      <td>False</td>\n",
       "    </tr>\n",
       "    <tr>\n",
       "      <th>18</th>\n",
       "      <td>1.042860</td>\n",
       "      <td>0.098895</td>\n",
       "      <td>dummy_constant</td>\n",
       "      <td>1.042860</td>\n",
       "      <td>0.098895</td>\n",
       "      <td>0.091537</td>\n",
       "      <td>0.455582</td>\n",
       "      <td>0.000028</td>\n",
       "      <td>False</td>\n",
       "    </tr>\n",
       "    <tr>\n",
       "      <th>19</th>\n",
       "      <td>0.072444</td>\n",
       "      <td>1.323942</td>\n",
       "      <td>dummy_constant</td>\n",
       "      <td>0.072444</td>\n",
       "      <td>1.323942</td>\n",
       "      <td>0.693941</td>\n",
       "      <td>0.861685</td>\n",
       "      <td>0.000026</td>\n",
       "      <td>False</td>\n",
       "    </tr>\n",
       "    <tr>\n",
       "      <th>20</th>\n",
       "      <td>0.517807</td>\n",
       "      <td>0.544581</td>\n",
       "      <td>dummy_constant</td>\n",
       "      <td>0.517807</td>\n",
       "      <td>0.544581</td>\n",
       "      <td>-0.527290</td>\n",
       "      <td>0.002305</td>\n",
       "      <td>0.000028</td>\n",
       "      <td>False</td>\n",
       "    </tr>\n",
       "    <tr>\n",
       "      <th>21</th>\n",
       "      <td>0.534594</td>\n",
       "      <td>0.878901</td>\n",
       "      <td>dummy_constant</td>\n",
       "      <td>0.534594</td>\n",
       "      <td>0.878901</td>\n",
       "      <td>0.135933</td>\n",
       "      <td>0.144763</td>\n",
       "      <td>0.000026</td>\n",
       "      <td>False</td>\n",
       "    </tr>\n",
       "    <tr>\n",
       "      <th>22</th>\n",
       "      <td>0.844406</td>\n",
       "      <td>0.347211</td>\n",
       "      <td>dummy_constant</td>\n",
       "      <td>0.844406</td>\n",
       "      <td>0.347211</td>\n",
       "      <td>-0.266338</td>\n",
       "      <td>0.141960</td>\n",
       "      <td>0.000029</td>\n",
       "      <td>False</td>\n",
       "    </tr>\n",
       "    <tr>\n",
       "      <th>23</th>\n",
       "      <td>1.322427</td>\n",
       "      <td>0.059685</td>\n",
       "      <td>dummy_constant</td>\n",
       "      <td>1.322427</td>\n",
       "      <td>0.059685</td>\n",
       "      <td>0.677304</td>\n",
       "      <td>0.870264</td>\n",
       "      <td>0.000028</td>\n",
       "      <td>False</td>\n",
       "    </tr>\n",
       "    <tr>\n",
       "      <th>24</th>\n",
       "      <td>0.000000</td>\n",
       "      <td>0.944288</td>\n",
       "      <td>dummy_constant</td>\n",
       "      <td>0.000000</td>\n",
       "      <td>0.944288</td>\n",
       "      <td>-0.208320</td>\n",
       "      <td>0.447392</td>\n",
       "      <td>0.000027</td>\n",
       "      <td>False</td>\n",
       "    </tr>\n",
       "    <tr>\n",
       "      <th>25</th>\n",
       "      <td>2.636045</td>\n",
       "      <td>0.804017</td>\n",
       "      <td>dummy_constant</td>\n",
       "      <td>2.636045</td>\n",
       "      <td>0.804017</td>\n",
       "      <td>6.592742</td>\n",
       "      <td>4.655114</td>\n",
       "      <td>0.000028</td>\n",
       "      <td>False</td>\n",
       "    </tr>\n",
       "    <tr>\n",
       "      <th>26</th>\n",
       "      <td>0.582771</td>\n",
       "      <td>0.146100</td>\n",
       "      <td>dummy_constant</td>\n",
       "      <td>0.582771</td>\n",
       "      <td>0.146100</td>\n",
       "      <td>-0.568548</td>\n",
       "      <td>0.132096</td>\n",
       "      <td>0.000027</td>\n",
       "      <td>False</td>\n",
       "    </tr>\n",
       "    <tr>\n",
       "      <th>27</th>\n",
       "      <td>1.291797</td>\n",
       "      <td>0.216121</td>\n",
       "      <td>dummy_constant</td>\n",
       "      <td>1.291797</td>\n",
       "      <td>0.216121</td>\n",
       "      <td>0.803714</td>\n",
       "      <td>0.707530</td>\n",
       "      <td>0.000029</td>\n",
       "      <td>False</td>\n",
       "    </tr>\n",
       "    <tr>\n",
       "      <th>28</th>\n",
       "      <td>0.742319</td>\n",
       "      <td>0.604919</td>\n",
       "      <td>dummy_constant</td>\n",
       "      <td>0.742319</td>\n",
       "      <td>0.604919</td>\n",
       "      <td>-0.077502</td>\n",
       "      <td>0.069727</td>\n",
       "      <td>0.000028</td>\n",
       "      <td>False</td>\n",
       "    </tr>\n",
       "    <tr>\n",
       "      <th>29</th>\n",
       "      <td>0.187906</td>\n",
       "      <td>1.009217</td>\n",
       "      <td>dummy_constant</td>\n",
       "      <td>0.187906</td>\n",
       "      <td>1.009217</td>\n",
       "      <td>0.151907</td>\n",
       "      <td>0.356705</td>\n",
       "      <td>0.000026</td>\n",
       "      <td>False</td>\n",
       "    </tr>\n",
       "    <tr>\n",
       "      <th>30</th>\n",
       "      <td>0.607274</td>\n",
       "      <td>0.814245</td>\n",
       "      <td>dummy_constant</td>\n",
       "      <td>0.607274</td>\n",
       "      <td>0.814245</td>\n",
       "      <td>0.099391</td>\n",
       "      <td>0.110258</td>\n",
       "      <td>0.000026</td>\n",
       "      <td>False</td>\n",
       "    </tr>\n",
       "    <tr>\n",
       "      <th>31</th>\n",
       "      <td>0.798044</td>\n",
       "      <td>0.640918</td>\n",
       "      <td>dummy_constant</td>\n",
       "      <td>0.798044</td>\n",
       "      <td>0.640918</td>\n",
       "      <td>0.064509</td>\n",
       "      <td>0.108688</td>\n",
       "      <td>0.000028</td>\n",
       "      <td>False</td>\n",
       "    </tr>\n",
       "  </tbody>\n",
       "</table>\n",
       "</div>"
      ],
      "text/plain": [
       "          x1        x2               a        y1        y2        c1  \\\n",
       "0   1.000000  0.750000  dummy_constant  1.000000  0.750000  0.626888   \n",
       "1   0.750000  1.000000  dummy_constant  0.750000  1.000000  0.626888   \n",
       "2   0.000000  2.602471  dummy_constant  0.000000  2.602471  5.672856   \n",
       "3   0.000000  0.000000  dummy_constant  0.000000  0.000000 -1.100000   \n",
       "4   0.000000  0.555638  dummy_constant  0.000000  0.555638 -0.791267   \n",
       "5   0.302345  0.924240  dummy_constant  0.302345  0.924240 -0.088292   \n",
       "6   0.365699  0.976484  dummy_constant  0.365699  0.976484  0.001993   \n",
       "7   0.810985  0.421129  dummy_constant  0.810985  0.421129 -0.183911   \n",
       "8   0.914870  0.485426  dummy_constant  0.914870  0.485426  0.067747   \n",
       "9   3.141590  0.000000  dummy_constant  3.141590  0.000000  8.769588   \n",
       "10  0.982887  0.277886  dummy_constant  0.982887  0.277886  0.073209   \n",
       "11  1.001475  0.087409  dummy_constant  1.001475  0.087409 -0.007097   \n",
       "12  0.056205  1.397789  dummy_constant  0.056205  1.397789  0.876945   \n",
       "13  0.158101  1.071970  dummy_constant  0.158101  1.071970  0.243879   \n",
       "14  0.628481  0.664859  dummy_constant  0.628481  0.664859 -0.253023   \n",
       "15  0.709530  0.777304  dummy_constant  0.709530  0.777304  0.033038   \n",
       "16  0.491924  0.741462  dummy_constant  0.491924  0.741462 -0.108383   \n",
       "17  0.050667  1.011900  dummy_constant  0.050667  1.011900 -0.043128   \n",
       "18  1.042860  0.098895  dummy_constant  1.042860  0.098895  0.091537   \n",
       "19  0.072444  1.323942  dummy_constant  0.072444  1.323942  0.693941   \n",
       "20  0.517807  0.544581  dummy_constant  0.517807  0.544581 -0.527290   \n",
       "21  0.534594  0.878901  dummy_constant  0.534594  0.878901  0.135933   \n",
       "22  0.844406  0.347211  dummy_constant  0.844406  0.347211 -0.266338   \n",
       "23  1.322427  0.059685  dummy_constant  1.322427  0.059685  0.677304   \n",
       "24  0.000000  0.944288  dummy_constant  0.000000  0.944288 -0.208320   \n",
       "25  2.636045  0.804017  dummy_constant  2.636045  0.804017  6.592742   \n",
       "26  0.582771  0.146100  dummy_constant  0.582771  0.146100 -0.568548   \n",
       "27  1.291797  0.216121  dummy_constant  1.291797  0.216121  0.803714   \n",
       "28  0.742319  0.604919  dummy_constant  0.742319  0.604919 -0.077502   \n",
       "29  0.187906  1.009217  dummy_constant  0.187906  1.009217  0.151907   \n",
       "30  0.607274  0.814245  dummy_constant  0.607274  0.814245  0.099391   \n",
       "31  0.798044  0.640918  dummy_constant  0.798044  0.640918  0.064509   \n",
       "\n",
       "          c2  xopt_runtime  xopt_error  \n",
       "0   0.312500      0.000053       False  \n",
       "1   0.312500      0.000015       False  \n",
       "2   4.670385      0.000027       False  \n",
       "3   0.500000      0.000028       False  \n",
       "4   0.253096      0.000025       False  \n",
       "5   0.219047      0.000028       False  \n",
       "6   0.245074      0.000026       False  \n",
       "7   0.102933      0.000028       False  \n",
       "8   0.172329      0.000026       False  \n",
       "9   7.227998      0.000028       False  \n",
       "10  0.282515      0.000030       False  \n",
       "11  0.421709      0.000029       False  \n",
       "12  1.002980      0.000028       False  \n",
       "13  0.444044      0.000028       False  \n",
       "14  0.043686      0.000028       False  \n",
       "15  0.120800      0.000027       False  \n",
       "16  0.058369      0.000029       False  \n",
       "17  0.463942      0.000027       False  \n",
       "18  0.455582      0.000028       False  \n",
       "19  0.861685      0.000026       False  \n",
       "20  0.002305      0.000028       False  \n",
       "21  0.144763      0.000026       False  \n",
       "22  0.141960      0.000029       False  \n",
       "23  0.870264      0.000028       False  \n",
       "24  0.447392      0.000027       False  \n",
       "25  4.655114      0.000028       False  \n",
       "26  0.132096      0.000027       False  \n",
       "27  0.707530      0.000029       False  \n",
       "28  0.069727      0.000028       False  \n",
       "29  0.356705      0.000026       False  \n",
       "30  0.110258      0.000026       False  \n",
       "31  0.108688      0.000028       False  "
      ]
     },
     "execution_count": 3,
     "metadata": {},
     "output_type": "execute_result"
    }
   ],
   "source": [
    "X.generator.data"
   ]
  },
  {
   "cell_type": "markdown",
   "metadata": {
    "collapsed": false
   },
   "source": [
    "## plot results\n"
   ]
  },
  {
   "cell_type": "code",
   "execution_count": 4,
   "metadata": {
    "collapsed": false,
    "execution": {
     "iopub.execute_input": "2024-01-30T19:12:48.684079Z",
     "iopub.status.busy": "2024-01-30T19:12:48.683874Z",
     "iopub.status.idle": "2024-01-30T19:12:49.200041Z",
     "shell.execute_reply": "2024-01-30T19:12:49.199415Z"
    }
   },
   "outputs": [
    {
     "data": {
      "image/png": "[encoded data removed]",
      "text/plain": [
       "<Figure size 640x480 with 1 Axes>"
      ]
     },
     "metadata": {},
     "output_type": "display_data"
    }
   ],
   "source": [
    "import matplotlib.pyplot as plt\n",
    "\n",
    "fig, ax = plt.subplots()\n",
    "\n",
    "theta = np.linspace(0, np.pi / 2)\n",
    "r = np.sqrt(1 + 0.1 * np.cos(16 * theta))\n",
    "x_1 = r * np.sin(theta)\n",
    "x_2_lower = r * np.cos(theta)\n",
    "x_2_upper = (0.5 - (x_1 - 0.5) ** 2) ** 0.5 + 0.5\n",
    "\n",
    "z = np.zeros_like(x_1)\n",
    "\n",
    "# ax2.plot(x_1, x_2_lower,'r')\n",
    "ax.fill_between(x_1, z, x_2_lower, fc=\"white\")\n",
    "circle = plt.Circle(\n",
    "    (0.5, 0.5), 0.5 ** 0.5, color=\"r\", alpha=0.25, zorder=0, label=\"Valid Region\"\n",
    ")\n",
    "ax.add_patch(circle)\n",
    "history = pd.concat(\n",
    "    [X.data, tnk_vocs.feasibility_data(X.data)], axis=1, ignore_index=False\n",
    ")\n",
    "\n",
    "\n",
    "ax.plot(*history[[\"x1\", \"x2\"]][history[\"feasible\"]].to_numpy().T, \".C1\")\n",
    "ax.plot(*history[[\"x1\", \"x2\"]][~history[\"feasible\"]].to_numpy().T, \".C2\")\n",
    "\n",
    "ax.set_xlim(0, 3.14)\n",
    "ax.set_ylim(0, 3.14)\n",
    "ax.set_xlabel(\"x1\")\n",
    "ax.set_ylabel(\"x2\")\n",
    "ax.set_aspect(\"equal\")"
   ]
  },
  {
   "cell_type": "markdown",
   "metadata": {
    "collapsed": false
   },
   "source": [
    "### Plot path through input space"
   ]
  },
  {
   "cell_type": "code",
   "execution_count": 5,
   "metadata": {
    "collapsed": false,
    "execution": {
     "iopub.execute_input": "2024-01-30T19:12:49.202445Z",
     "iopub.status.busy": "2024-01-30T19:12:49.202152Z",
     "iopub.status.idle": "2024-01-30T19:12:49.329171Z",
     "shell.execute_reply": "2024-01-30T19:12:49.328533Z"
    }
   },
   "outputs": [
    {
     "data": {
      "image/png": "[encoded data removed]",
      "text/plain": [
       "<Figure size 640x480 with 1 Axes>"
      ]
     },
     "metadata": {},
     "output_type": "display_data"
    }
   ],
   "source": [
    "ax = history.plot(\"x1\", \"x2\")\n",
    "ax.set_ylim(0, 3.14)\n",
    "ax.set_xlim(0, 3.14)\n",
    "ax.set_aspect(\"equal\")"
   ]
  },
  {
   "cell_type": "code",
   "execution_count": 6,
   "metadata": {
    "collapsed": false,
    "execution": {
     "iopub.execute_input": "2024-01-30T19:12:49.331644Z",
     "iopub.status.busy": "2024-01-30T19:12:49.331414Z",
     "iopub.status.idle": "2024-01-30T19:13:01.617132Z",
     "shell.execute_reply": "2024-01-30T19:13:01.616431Z"
    }
   },
   "outputs": [
    {
     "name": "stdout",
     "output_type": "stream",
     "text": [
      "[[0.72533042 0.22909638]]\n"
     ]
    },
    {
     "data": {
      "text/plain": [
       "[<matplotlib.lines.Line2D at 0x7fa298460b20>]"
      ]
     },
     "execution_count": 6,
     "metadata": {},
     "output_type": "execute_result"
    },
    {
     "data": {
      "image/png": "[encoded data removed]",
      "text/plain": [
       "<Figure size 640x480 with 2 Axes>"
      ]
     },
     "metadata": {},
     "output_type": "display_data"
    },
    {
     "data": {
      "image/png": "[encoded data removed]",
      "text/plain": [
       "<Figure size 640x480 with 2 Axes>"
      ]
     },
     "metadata": {},
     "output_type": "display_data"
    }
   ],
   "source": [
    "# plot the acquisition function\n",
    "from xopt.generators.bayesian.objectives import feasibility\n",
    "\n",
    "bounds = X.generator.vocs.bounds\n",
    "model = X.generator.model\n",
    "\n",
    "# create mesh\n",
    "n = 200\n",
    "x = torch.linspace(*bounds.T[0], n)\n",
    "y = torch.linspace(*bounds.T[1], n)\n",
    "xx, yy = torch.meshgrid(x, y)\n",
    "pts = torch.hstack([ele.reshape(-1, 1) for ele in (xx, yy)]).double()\n",
    "\n",
    "xx, yy = xx.numpy(), yy.numpy()\n",
    "\n",
    "acq_func = X.generator.get_acquisition(model)\n",
    "with torch.no_grad():\n",
    "    acq_pts = pts.unsqueeze(1)\n",
    "    acq = acq_func(acq_pts)\n",
    "\n",
    "    fig, ax = plt.subplots()\n",
    "    c = ax.pcolor(xx, yy, acq.reshape(n, n), cmap=\"Blues\")\n",
    "    fig.colorbar(c)\n",
    "    ax.set_title(\"Acquisition function\")\n",
    "\n",
    "    ax.plot(*history[[\"x1\", \"x2\"]][history[\"feasible\"]].to_numpy().T, \".C1\")\n",
    "    ax.plot(*history[[\"x1\", \"x2\"]][~history[\"feasible\"]].to_numpy().T, \".C2\")\n",
    "\n",
    "    ax.plot(*history[[\"x1\", \"x2\"]].to_numpy()[-1].T, \"+\")\n",
    "\n",
    "    feas = feasibility(pts.unsqueeze(1), model, tnk_vocs).flatten()\n",
    "\n",
    "    fig2, ax2 = plt.subplots()\n",
    "    c = ax2.pcolor(xx, yy, feas.reshape(n, n))\n",
    "    fig2.colorbar(c)\n",
    "    ax2.set_title(\"Feasible Region\")\n",
    "\n",
    "candidate = pd.DataFrame(X.generator.generate(1), index=[0])\n",
    "print(candidate[[\"x1\", \"x2\"]].to_numpy())\n",
    "ax.plot(*candidate[[\"x1\", \"x2\"]].to_numpy()[0], \"o\")"
   ]
  },
  {
   "cell_type": "code",
   "execution_count": 7,
   "metadata": {
    "collapsed": false,
    "execution": {
     "iopub.execute_input": "2024-01-30T19:13:01.619523Z",
     "iopub.status.busy": "2024-01-30T19:13:01.619144Z",
     "iopub.status.idle": "2024-01-30T19:13:02.062199Z",
     "shell.execute_reply": "2024-01-30T19:13:02.061567Z"
    }
   },
   "outputs": [
    {
     "name": "stdout",
     "output_type": "stream",
     "text": [
      "CPU times: user 847 ms, sys: 27.9 ms, total: 875 ms\n",
      "Wall time: 439 ms\n"
     ]
    }
   ],
   "source": [
    "%%time\n",
    "candidate = X.generator.generate(1)"
   ]
  }
 ],
 "metadata": {
  "interpreter": {
   "hash": "72034539424920dfb606fe3b820b3f27dca0cbf1c69938110810ec4641e275b1"
  },
  "kernelspec": {
   "display_name": "Python 3 (ipykernel)",
   "language": "python",
   "name": "python3"
  },
  "language_info": {
   "codemirror_mode": {
    "name": "ipython",
    "version": 3
   },
   "file_extension": ".py",
   "mimetype": "text/x-python",
   "name": "python",
   "nbconvert_exporter": "python",
   "pygments_lexer": "ipython3",
   "version": "3.9.18"
  }
 },
 "nbformat": 4,
 "nbformat_minor": 4
}
