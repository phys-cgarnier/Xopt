{
 "cells": [
  {
   "cell_type": "markdown",
   "metadata": {},
   "source": [
    "\n",
    "# Multi-objective Bayesian Optimization\n",
    "\n",
    "\n",
    "TNK function\n",
    "$n=2$ variables:\n",
    "$x_i \\in [0, \\pi], i=1,2$\n",
    "\n",
    "Objectives:\n",
    "- $f_i(x) = x_i$\n",
    "\n",
    "Constraints:\n",
    "- $g_1(x) = -x_1^2 -x_2^2 + 1 + 0.1 \\cos\\left(16 \\arctan \\frac{x_1}{x_2}\\right) \\le 0$\n",
    "- $g_2(x) = (x_1 - 1/2)^2 + (x_2-1/2)^2 \\le 0.5$"
   ]
  },
  {
   "cell_type": "code",
   "execution_count": 1,
   "metadata": {
    "collapsed": false,
    "execution": {
     "iopub.execute_input": "2024-03-20T15:34:29.852306Z",
     "iopub.status.busy": "2024-03-20T15:34:29.852127Z",
     "iopub.status.idle": "2024-03-20T15:34:32.199444Z",
     "shell.execute_reply": "2024-03-20T15:34:32.198741Z"
    }
   },
   "outputs": [
    {
     "name": "stdout",
     "output_type": "stream",
     "text": [
      "{'variables': {'x1': [0.0, 3.14159], 'x2': [0.0, 3.14159]}, 'constraints': {'c1': ['GREATER_THAN', 0.0], 'c2': ['LESS_THAN', 0.5]}, 'objectives': {'y1': 'MINIMIZE', 'y2': 'MINIMIZE'}, 'constants': {'a': 'dummy_constant'}, 'observables': []}\n"
     ]
    }
   ],
   "source": [
    "# set values if testing\n",
    "import os\n",
    "SMOKE_TEST = os.environ.get(\"SMOKE_TEST\")\n",
    "N_MC_SAMPLES = 1 if SMOKE_TEST else 128\n",
    "NUM_RESTARTS = 1 if SMOKE_TEST else 20\n",
    "N_STEPS = 1 if SMOKE_TEST else 30\n",
    "\n",
    "# Ignore all warnings\n",
    "import warnings\n",
    "warnings.filterwarnings(\"ignore\")\n",
    "\n",
    "\n",
    "import pandas as pd\n",
    "import numpy as np\n",
    "import torch\n",
    "\n",
    "from xopt import Xopt, Evaluator\n",
    "from xopt.generators.bayesian import MOBOGenerator\n",
    "from xopt.resources.test_functions.tnk import evaluate_TNK, tnk_vocs\n",
    "\n",
    "\n",
    "evaluator = Evaluator(function=evaluate_TNK)\n",
    "print(tnk_vocs.dict())"
   ]
  },
  {
   "cell_type": "code",
   "execution_count": 2,
   "metadata": {
    "collapsed": false,
    "execution": {
     "iopub.execute_input": "2024-03-20T15:34:32.230583Z",
     "iopub.status.busy": "2024-03-20T15:34:32.230173Z",
     "iopub.status.idle": "2024-03-20T15:35:10.349711Z",
     "shell.execute_reply": "2024-03-20T15:35:10.349146Z"
    }
   },
   "outputs": [
    {
     "name": "stdout",
     "output_type": "stream",
     "text": [
      "0\n"
     ]
    },
    {
     "name": "stdout",
     "output_type": "stream",
     "text": [
      "1\n"
     ]
    },
    {
     "name": "stdout",
     "output_type": "stream",
     "text": [
      "2\n"
     ]
    },
    {
     "name": "stdout",
     "output_type": "stream",
     "text": [
      "3\n"
     ]
    },
    {
     "name": "stdout",
     "output_type": "stream",
     "text": [
      "4\n"
     ]
    },
    {
     "name": "stdout",
     "output_type": "stream",
     "text": [
      "5\n"
     ]
    },
    {
     "name": "stdout",
     "output_type": "stream",
     "text": [
      "6\n"
     ]
    },
    {
     "name": "stdout",
     "output_type": "stream",
     "text": [
      "7\n"
     ]
    },
    {
     "name": "stdout",
     "output_type": "stream",
     "text": [
      "8\n"
     ]
    },
    {
     "name": "stdout",
     "output_type": "stream",
     "text": [
      "9\n"
     ]
    },
    {
     "name": "stdout",
     "output_type": "stream",
     "text": [
      "10\n"
     ]
    },
    {
     "name": "stdout",
     "output_type": "stream",
     "text": [
      "11\n"
     ]
    },
    {
     "name": "stdout",
     "output_type": "stream",
     "text": [
      "12\n"
     ]
    },
    {
     "name": "stdout",
     "output_type": "stream",
     "text": [
      "13\n"
     ]
    },
    {
     "name": "stdout",
     "output_type": "stream",
     "text": [
      "14\n"
     ]
    },
    {
     "name": "stdout",
     "output_type": "stream",
     "text": [
      "15\n"
     ]
    },
    {
     "name": "stdout",
     "output_type": "stream",
     "text": [
      "16\n"
     ]
    },
    {
     "name": "stdout",
     "output_type": "stream",
     "text": [
      "17\n"
     ]
    },
    {
     "name": "stdout",
     "output_type": "stream",
     "text": [
      "18\n"
     ]
    },
    {
     "name": "stdout",
     "output_type": "stream",
     "text": [
      "19\n"
     ]
    },
    {
     "name": "stdout",
     "output_type": "stream",
     "text": [
      "20\n"
     ]
    },
    {
     "name": "stdout",
     "output_type": "stream",
     "text": [
      "21\n"
     ]
    },
    {
     "name": "stdout",
     "output_type": "stream",
     "text": [
      "22\n"
     ]
    },
    {
     "name": "stdout",
     "output_type": "stream",
     "text": [
      "23\n"
     ]
    },
    {
     "name": "stdout",
     "output_type": "stream",
     "text": [
      "24\n"
     ]
    },
    {
     "name": "stdout",
     "output_type": "stream",
     "text": [
      "25\n"
     ]
    },
    {
     "name": "stdout",
     "output_type": "stream",
     "text": [
      "26\n"
     ]
    },
    {
     "name": "stdout",
     "output_type": "stream",
     "text": [
      "27\n"
     ]
    },
    {
     "name": "stdout",
     "output_type": "stream",
     "text": [
      "28\n"
     ]
    },
    {
     "name": "stdout",
     "output_type": "stream",
     "text": [
      "29\n"
     ]
    }
   ],
   "source": [
    "generator = MOBOGenerator(vocs=tnk_vocs, reference_point = {\"y1\":1.5,\"y2\":1.5})\n",
    "generator.n_monte_carlo_samples = N_MC_SAMPLES\n",
    "generator.numerical_optimizer.n_restarts = NUM_RESTARTS\n",
    "\n",
    "X = Xopt(generator=generator, evaluator=evaluator, vocs=tnk_vocs)\n",
    "X.evaluate_data(pd.DataFrame({\"x1\":[1.0, 0.75],\"x2\":[0.75, 1.0]}))\n",
    "\n",
    "for i in range(N_STEPS):\n",
    "    print(i)\n",
    "    X.step()"
   ]
  },
  {
   "cell_type": "code",
   "execution_count": 3,
   "metadata": {
    "collapsed": false,
    "execution": {
     "iopub.execute_input": "2024-03-20T15:35:10.352550Z",
     "iopub.status.busy": "2024-03-20T15:35:10.352360Z",
     "iopub.status.idle": "2024-03-20T15:35:10.368617Z",
     "shell.execute_reply": "2024-03-20T15:35:10.368116Z"
    }
   },
   "outputs": [
    {
     "data": {
      "text/html": [
       "<div>\n",
       "<style scoped>\n",
       "    .dataframe tbody tr th:only-of-type {\n",
       "        vertical-align: middle;\n",
       "    }\n",
       "\n",
       "    .dataframe tbody tr th {\n",
       "        vertical-align: top;\n",
       "    }\n",
       "\n",
       "    .dataframe thead th {\n",
       "        text-align: right;\n",
       "    }\n",
       "</style>\n",
       "<table border=\"1\" class=\"dataframe\">\n",
       "  <thead>\n",
       "    <tr style=\"text-align: right;\">\n",
       "      <th></th>\n",
       "      <th>x1</th>\n",
       "      <th>x2</th>\n",
       "      <th>a</th>\n",
       "      <th>y1</th>\n",
       "      <th>y2</th>\n",
       "      <th>c1</th>\n",
       "      <th>c2</th>\n",
       "      <th>xopt_runtime</th>\n",
       "      <th>xopt_error</th>\n",
       "    </tr>\n",
       "  </thead>\n",
       "  <tbody>\n",
       "    <tr>\n",
       "      <th>0</th>\n",
       "      <td>1.000000</td>\n",
       "      <td>0.750000</td>\n",
       "      <td>dummy_constant</td>\n",
       "      <td>1.000000</td>\n",
       "      <td>0.750000</td>\n",
       "      <td>0.626888</td>\n",
       "      <td>0.312500</td>\n",
       "      <td>0.000036</td>\n",
       "      <td>False</td>\n",
       "    </tr>\n",
       "    <tr>\n",
       "      <th>1</th>\n",
       "      <td>0.750000</td>\n",
       "      <td>1.000000</td>\n",
       "      <td>dummy_constant</td>\n",
       "      <td>0.750000</td>\n",
       "      <td>1.000000</td>\n",
       "      <td>0.626888</td>\n",
       "      <td>0.312500</td>\n",
       "      <td>0.000009</td>\n",
       "      <td>False</td>\n",
       "    </tr>\n",
       "    <tr>\n",
       "      <th>2</th>\n",
       "      <td>1.829865</td>\n",
       "      <td>2.266647</td>\n",
       "      <td>dummy_constant</td>\n",
       "      <td>1.829865</td>\n",
       "      <td>2.266647</td>\n",
       "      <td>7.498931</td>\n",
       "      <td>4.889581</td>\n",
       "      <td>0.000025</td>\n",
       "      <td>False</td>\n",
       "    </tr>\n",
       "    <tr>\n",
       "      <th>3</th>\n",
       "      <td>0.221933</td>\n",
       "      <td>0.351296</td>\n",
       "      <td>dummy_constant</td>\n",
       "      <td>0.221933</td>\n",
       "      <td>0.351296</td>\n",
       "      <td>-0.735613</td>\n",
       "      <td>0.099434</td>\n",
       "      <td>0.000054</td>\n",
       "      <td>False</td>\n",
       "    </tr>\n",
       "    <tr>\n",
       "      <th>4</th>\n",
       "      <td>0.073731</td>\n",
       "      <td>0.000303</td>\n",
       "      <td>dummy_constant</td>\n",
       "      <td>0.073731</td>\n",
       "      <td>0.000303</td>\n",
       "      <td>-1.094348</td>\n",
       "      <td>0.431403</td>\n",
       "      <td>0.000034</td>\n",
       "      <td>False</td>\n",
       "    </tr>\n",
       "    <tr>\n",
       "      <th>5</th>\n",
       "      <td>0.000000</td>\n",
       "      <td>0.634294</td>\n",
       "      <td>dummy_constant</td>\n",
       "      <td>0.000000</td>\n",
       "      <td>0.634294</td>\n",
       "      <td>-0.697671</td>\n",
       "      <td>0.268035</td>\n",
       "      <td>0.000024</td>\n",
       "      <td>False</td>\n",
       "    </tr>\n",
       "    <tr>\n",
       "      <th>6</th>\n",
       "      <td>0.777872</td>\n",
       "      <td>0.000000</td>\n",
       "      <td>dummy_constant</td>\n",
       "      <td>0.777872</td>\n",
       "      <td>0.000000</td>\n",
       "      <td>-0.494916</td>\n",
       "      <td>0.327213</td>\n",
       "      <td>0.000025</td>\n",
       "      <td>False</td>\n",
       "    </tr>\n",
       "    <tr>\n",
       "      <th>7</th>\n",
       "      <td>1.013304</td>\n",
       "      <td>0.324833</td>\n",
       "      <td>dummy_constant</td>\n",
       "      <td>1.013304</td>\n",
       "      <td>0.324833</td>\n",
       "      <td>0.107453</td>\n",
       "      <td>0.294164</td>\n",
       "      <td>0.000026</td>\n",
       "      <td>False</td>\n",
       "    </tr>\n",
       "    <tr>\n",
       "      <th>8</th>\n",
       "      <td>0.479756</td>\n",
       "      <td>0.978458</td>\n",
       "      <td>dummy_constant</td>\n",
       "      <td>0.479756</td>\n",
       "      <td>0.978458</td>\n",
       "      <td>0.134426</td>\n",
       "      <td>0.229332</td>\n",
       "      <td>0.000024</td>\n",
       "      <td>False</td>\n",
       "    </tr>\n",
       "    <tr>\n",
       "      <th>9</th>\n",
       "      <td>0.000000</td>\n",
       "      <td>1.117188</td>\n",
       "      <td>dummy_constant</td>\n",
       "      <td>0.000000</td>\n",
       "      <td>1.117188</td>\n",
       "      <td>0.148110</td>\n",
       "      <td>0.630922</td>\n",
       "      <td>0.000025</td>\n",
       "      <td>False</td>\n",
       "    </tr>\n",
       "    <tr>\n",
       "      <th>10</th>\n",
       "      <td>0.153117</td>\n",
       "      <td>1.066872</td>\n",
       "      <td>dummy_constant</td>\n",
       "      <td>0.153117</td>\n",
       "      <td>1.066872</td>\n",
       "      <td>0.226839</td>\n",
       "      <td>0.441671</td>\n",
       "      <td>0.000026</td>\n",
       "      <td>False</td>\n",
       "    </tr>\n",
       "    <tr>\n",
       "      <th>11</th>\n",
       "      <td>0.754879</td>\n",
       "      <td>0.713173</td>\n",
       "      <td>dummy_constant</td>\n",
       "      <td>0.754879</td>\n",
       "      <td>0.713173</td>\n",
       "      <td>-0.011394</td>\n",
       "      <td>0.110406</td>\n",
       "      <td>0.000029</td>\n",
       "      <td>False</td>\n",
       "    </tr>\n",
       "    <tr>\n",
       "      <th>12</th>\n",
       "      <td>0.871181</td>\n",
       "      <td>0.625792</td>\n",
       "      <td>dummy_constant</td>\n",
       "      <td>0.871181</td>\n",
       "      <td>0.625792</td>\n",
       "      <td>0.236244</td>\n",
       "      <td>0.153599</td>\n",
       "      <td>0.000026</td>\n",
       "      <td>False</td>\n",
       "    </tr>\n",
       "    <tr>\n",
       "      <th>13</th>\n",
       "      <td>0.914822</td>\n",
       "      <td>0.478160</td>\n",
       "      <td>dummy_constant</td>\n",
       "      <td>0.914822</td>\n",
       "      <td>0.478160</td>\n",
       "      <td>0.050796</td>\n",
       "      <td>0.172554</td>\n",
       "      <td>0.000027</td>\n",
       "      <td>False</td>\n",
       "    </tr>\n",
       "    <tr>\n",
       "      <th>14</th>\n",
       "      <td>1.396421</td>\n",
       "      <td>0.355238</td>\n",
       "      <td>dummy_constant</td>\n",
       "      <td>1.396421</td>\n",
       "      <td>0.355238</td>\n",
       "      <td>1.142624</td>\n",
       "      <td>0.824527</td>\n",
       "      <td>0.000027</td>\n",
       "      <td>False</td>\n",
       "    </tr>\n",
       "    <tr>\n",
       "      <th>15</th>\n",
       "      <td>1.073573</td>\n",
       "      <td>0.142540</td>\n",
       "      <td>dummy_constant</td>\n",
       "      <td>1.073573</td>\n",
       "      <td>0.142540</td>\n",
       "      <td>0.224392</td>\n",
       "      <td>0.456763</td>\n",
       "      <td>0.000026</td>\n",
       "      <td>False</td>\n",
       "    </tr>\n",
       "    <tr>\n",
       "      <th>16</th>\n",
       "      <td>0.069288</td>\n",
       "      <td>1.037283</td>\n",
       "      <td>dummy_constant</td>\n",
       "      <td>0.069288</td>\n",
       "      <td>1.037283</td>\n",
       "      <td>0.032498</td>\n",
       "      <td>0.474186</td>\n",
       "      <td>0.000025</td>\n",
       "      <td>False</td>\n",
       "    </tr>\n",
       "    <tr>\n",
       "      <th>17</th>\n",
       "      <td>0.268184</td>\n",
       "      <td>0.728069</td>\n",
       "      <td>dummy_constant</td>\n",
       "      <td>0.268184</td>\n",
       "      <td>0.728069</td>\n",
       "      <td>-0.478421</td>\n",
       "      <td>0.105754</td>\n",
       "      <td>0.000026</td>\n",
       "      <td>False</td>\n",
       "    </tr>\n",
       "    <tr>\n",
       "      <th>18</th>\n",
       "      <td>0.036506</td>\n",
       "      <td>1.102207</td>\n",
       "      <td>dummy_constant</td>\n",
       "      <td>0.036506</td>\n",
       "      <td>1.102207</td>\n",
       "      <td>0.129899</td>\n",
       "      <td>0.577480</td>\n",
       "      <td>0.000027</td>\n",
       "      <td>False</td>\n",
       "    </tr>\n",
       "    <tr>\n",
       "      <th>19</th>\n",
       "      <td>0.430497</td>\n",
       "      <td>0.882673</td>\n",
       "      <td>dummy_constant</td>\n",
       "      <td>0.430497</td>\n",
       "      <td>0.882673</td>\n",
       "      <td>-0.091494</td>\n",
       "      <td>0.151270</td>\n",
       "      <td>0.000027</td>\n",
       "      <td>False</td>\n",
       "    </tr>\n",
       "    <tr>\n",
       "      <th>20</th>\n",
       "      <td>0.814430</td>\n",
       "      <td>0.639309</td>\n",
       "      <td>dummy_constant</td>\n",
       "      <td>0.814430</td>\n",
       "      <td>0.639309</td>\n",
       "      <td>0.106055</td>\n",
       "      <td>0.118273</td>\n",
       "      <td>0.000025</td>\n",
       "      <td>False</td>\n",
       "    </tr>\n",
       "    <tr>\n",
       "      <th>21</th>\n",
       "      <td>0.808441</td>\n",
       "      <td>0.036185</td>\n",
       "      <td>dummy_constant</td>\n",
       "      <td>0.808441</td>\n",
       "      <td>0.036185</td>\n",
       "      <td>-0.420580</td>\n",
       "      <td>0.310261</td>\n",
       "      <td>0.000036</td>\n",
       "      <td>False</td>\n",
       "    </tr>\n",
       "    <tr>\n",
       "      <th>22</th>\n",
       "      <td>1.029530</td>\n",
       "      <td>0.057334</td>\n",
       "      <td>dummy_constant</td>\n",
       "      <td>1.029530</td>\n",
       "      <td>0.057334</td>\n",
       "      <td>0.000287</td>\n",
       "      <td>0.476356</td>\n",
       "      <td>0.000027</td>\n",
       "      <td>False</td>\n",
       "    </tr>\n",
       "    <tr>\n",
       "      <th>23</th>\n",
       "      <td>0.586866</td>\n",
       "      <td>0.868210</td>\n",
       "      <td>dummy_constant</td>\n",
       "      <td>0.586866</td>\n",
       "      <td>0.868210</td>\n",
       "      <td>0.197833</td>\n",
       "      <td>0.143124</td>\n",
       "      <td>0.000026</td>\n",
       "      <td>False</td>\n",
       "    </tr>\n",
       "    <tr>\n",
       "      <th>24</th>\n",
       "      <td>0.921213</td>\n",
       "      <td>0.002874</td>\n",
       "      <td>dummy_constant</td>\n",
       "      <td>0.921213</td>\n",
       "      <td>0.002874</td>\n",
       "      <td>-0.251233</td>\n",
       "      <td>0.424554</td>\n",
       "      <td>0.000025</td>\n",
       "      <td>False</td>\n",
       "    </tr>\n",
       "    <tr>\n",
       "      <th>25</th>\n",
       "      <td>1.121913</td>\n",
       "      <td>0.663340</td>\n",
       "      <td>dummy_constant</td>\n",
       "      <td>1.121913</td>\n",
       "      <td>0.663340</td>\n",
       "      <td>0.762323</td>\n",
       "      <td>0.413456</td>\n",
       "      <td>0.000028</td>\n",
       "      <td>False</td>\n",
       "    </tr>\n",
       "    <tr>\n",
       "      <th>26</th>\n",
       "      <td>0.651803</td>\n",
       "      <td>0.782125</td>\n",
       "      <td>dummy_constant</td>\n",
       "      <td>0.651803</td>\n",
       "      <td>0.782125</td>\n",
       "      <td>0.024534</td>\n",
       "      <td>0.102639</td>\n",
       "      <td>0.000026</td>\n",
       "      <td>False</td>\n",
       "    </tr>\n",
       "    <tr>\n",
       "      <th>27</th>\n",
       "      <td>1.344543</td>\n",
       "      <td>0.061278</td>\n",
       "      <td>dummy_constant</td>\n",
       "      <td>1.344543</td>\n",
       "      <td>0.061278</td>\n",
       "      <td>0.736946</td>\n",
       "      <td>0.905729</td>\n",
       "      <td>0.000026</td>\n",
       "      <td>False</td>\n",
       "    </tr>\n",
       "    <tr>\n",
       "      <th>28</th>\n",
       "      <td>0.999299</td>\n",
       "      <td>0.017871</td>\n",
       "      <td>dummy_constant</td>\n",
       "      <td>0.999299</td>\n",
       "      <td>0.017871</td>\n",
       "      <td>-0.097018</td>\n",
       "      <td>0.481747</td>\n",
       "      <td>0.000025</td>\n",
       "      <td>False</td>\n",
       "    </tr>\n",
       "    <tr>\n",
       "      <th>29</th>\n",
       "      <td>0.564468</td>\n",
       "      <td>0.333088</td>\n",
       "      <td>dummy_constant</td>\n",
       "      <td>0.564468</td>\n",
       "      <td>0.333088</td>\n",
       "      <td>-0.507888</td>\n",
       "      <td>0.032016</td>\n",
       "      <td>0.000026</td>\n",
       "      <td>False</td>\n",
       "    </tr>\n",
       "    <tr>\n",
       "      <th>30</th>\n",
       "      <td>0.957577</td>\n",
       "      <td>0.328464</td>\n",
       "      <td>dummy_constant</td>\n",
       "      <td>0.957577</td>\n",
       "      <td>0.328464</td>\n",
       "      <td>-0.029511</td>\n",
       "      <td>0.238801</td>\n",
       "      <td>0.000025</td>\n",
       "      <td>False</td>\n",
       "    </tr>\n",
       "    <tr>\n",
       "      <th>31</th>\n",
       "      <td>0.383217</td>\n",
       "      <td>0.951607</td>\n",
       "      <td>dummy_constant</td>\n",
       "      <td>0.383217</td>\n",
       "      <td>0.951607</td>\n",
       "      <td>-0.046346</td>\n",
       "      <td>0.217587</td>\n",
       "      <td>0.000027</td>\n",
       "      <td>False</td>\n",
       "    </tr>\n",
       "  </tbody>\n",
       "</table>\n",
       "</div>"
      ],
      "text/plain": [
       "          x1        x2               a        y1        y2        c1  \\\n",
       "0   1.000000  0.750000  dummy_constant  1.000000  0.750000  0.626888   \n",
       "1   0.750000  1.000000  dummy_constant  0.750000  1.000000  0.626888   \n",
       "2   1.829865  2.266647  dummy_constant  1.829865  2.266647  7.498931   \n",
       "3   0.221933  0.351296  dummy_constant  0.221933  0.351296 -0.735613   \n",
       "4   0.073731  0.000303  dummy_constant  0.073731  0.000303 -1.094348   \n",
       "5   0.000000  0.634294  dummy_constant  0.000000  0.634294 -0.697671   \n",
       "6   0.777872  0.000000  dummy_constant  0.777872  0.000000 -0.494916   \n",
       "7   1.013304  0.324833  dummy_constant  1.013304  0.324833  0.107453   \n",
       "8   0.479756  0.978458  dummy_constant  0.479756  0.978458  0.134426   \n",
       "9   0.000000  1.117188  dummy_constant  0.000000  1.117188  0.148110   \n",
       "10  0.153117  1.066872  dummy_constant  0.153117  1.066872  0.226839   \n",
       "11  0.754879  0.713173  dummy_constant  0.754879  0.713173 -0.011394   \n",
       "12  0.871181  0.625792  dummy_constant  0.871181  0.625792  0.236244   \n",
       "13  0.914822  0.478160  dummy_constant  0.914822  0.478160  0.050796   \n",
       "14  1.396421  0.355238  dummy_constant  1.396421  0.355238  1.142624   \n",
       "15  1.073573  0.142540  dummy_constant  1.073573  0.142540  0.224392   \n",
       "16  0.069288  1.037283  dummy_constant  0.069288  1.037283  0.032498   \n",
       "17  0.268184  0.728069  dummy_constant  0.268184  0.728069 -0.478421   \n",
       "18  0.036506  1.102207  dummy_constant  0.036506  1.102207  0.129899   \n",
       "19  0.430497  0.882673  dummy_constant  0.430497  0.882673 -0.091494   \n",
       "20  0.814430  0.639309  dummy_constant  0.814430  0.639309  0.106055   \n",
       "21  0.808441  0.036185  dummy_constant  0.808441  0.036185 -0.420580   \n",
       "22  1.029530  0.057334  dummy_constant  1.029530  0.057334  0.000287   \n",
       "23  0.586866  0.868210  dummy_constant  0.586866  0.868210  0.197833   \n",
       "24  0.921213  0.002874  dummy_constant  0.921213  0.002874 -0.251233   \n",
       "25  1.121913  0.663340  dummy_constant  1.121913  0.663340  0.762323   \n",
       "26  0.651803  0.782125  dummy_constant  0.651803  0.782125  0.024534   \n",
       "27  1.344543  0.061278  dummy_constant  1.344543  0.061278  0.736946   \n",
       "28  0.999299  0.017871  dummy_constant  0.999299  0.017871 -0.097018   \n",
       "29  0.564468  0.333088  dummy_constant  0.564468  0.333088 -0.507888   \n",
       "30  0.957577  0.328464  dummy_constant  0.957577  0.328464 -0.029511   \n",
       "31  0.383217  0.951607  dummy_constant  0.383217  0.951607 -0.046346   \n",
       "\n",
       "          c2  xopt_runtime  xopt_error  \n",
       "0   0.312500      0.000036       False  \n",
       "1   0.312500      0.000009       False  \n",
       "2   4.889581      0.000025       False  \n",
       "3   0.099434      0.000054       False  \n",
       "4   0.431403      0.000034       False  \n",
       "5   0.268035      0.000024       False  \n",
       "6   0.327213      0.000025       False  \n",
       "7   0.294164      0.000026       False  \n",
       "8   0.229332      0.000024       False  \n",
       "9   0.630922      0.000025       False  \n",
       "10  0.441671      0.000026       False  \n",
       "11  0.110406      0.000029       False  \n",
       "12  0.153599      0.000026       False  \n",
       "13  0.172554      0.000027       False  \n",
       "14  0.824527      0.000027       False  \n",
       "15  0.456763      0.000026       False  \n",
       "16  0.474186      0.000025       False  \n",
       "17  0.105754      0.000026       False  \n",
       "18  0.577480      0.000027       False  \n",
       "19  0.151270      0.000027       False  \n",
       "20  0.118273      0.000025       False  \n",
       "21  0.310261      0.000036       False  \n",
       "22  0.476356      0.000027       False  \n",
       "23  0.143124      0.000026       False  \n",
       "24  0.424554      0.000025       False  \n",
       "25  0.413456      0.000028       False  \n",
       "26  0.102639      0.000026       False  \n",
       "27  0.905729      0.000026       False  \n",
       "28  0.481747      0.000025       False  \n",
       "29  0.032016      0.000026       False  \n",
       "30  0.238801      0.000025       False  \n",
       "31  0.217587      0.000027       False  "
      ]
     },
     "execution_count": 3,
     "metadata": {},
     "output_type": "execute_result"
    }
   ],
   "source": [
    "X.generator.data"
   ]
  },
  {
   "cell_type": "markdown",
   "metadata": {
    "collapsed": false
   },
   "source": [
    "## plot results\n"
   ]
  },
  {
   "cell_type": "code",
   "execution_count": 4,
   "metadata": {
    "collapsed": false,
    "execution": {
     "iopub.execute_input": "2024-03-20T15:35:10.370918Z",
     "iopub.status.busy": "2024-03-20T15:35:10.370732Z",
     "iopub.status.idle": "2024-03-20T15:35:10.856457Z",
     "shell.execute_reply": "2024-03-20T15:35:10.855815Z"
    }
   },
   "outputs": [
    {
     "data": {
      "image/png": "[encoded data removed]",
      "text/plain": [
       "<Figure size 640x480 with 1 Axes>"
      ]
     },
     "metadata": {},
     "output_type": "display_data"
    }
   ],
   "source": [
    "import matplotlib.pyplot as plt\n",
    "\n",
    "fig, ax = plt.subplots()\n",
    "\n",
    "theta = np.linspace(0, np.pi / 2)\n",
    "r = np.sqrt(1 + 0.1 * np.cos(16 * theta))\n",
    "x_1 = r * np.sin(theta)\n",
    "x_2_lower = r * np.cos(theta)\n",
    "x_2_upper = (0.5 - (x_1 - 0.5) ** 2) ** 0.5 + 0.5\n",
    "\n",
    "z = np.zeros_like(x_1)\n",
    "\n",
    "# ax2.plot(x_1, x_2_lower,'r')\n",
    "ax.fill_between(x_1, z, x_2_lower, fc=\"white\")\n",
    "circle = plt.Circle(\n",
    "    (0.5, 0.5), 0.5 ** 0.5, color=\"r\", alpha=0.25, zorder=0, label=\"Valid Region\"\n",
    ")\n",
    "ax.add_patch(circle)\n",
    "history = pd.concat(\n",
    "    [X.data, tnk_vocs.feasibility_data(X.data)], axis=1, ignore_index=False\n",
    ")\n",
    "\n",
    "\n",
    "ax.plot(*history[[\"x1\", \"x2\"]][history[\"feasible\"]].to_numpy().T, \".C1\")\n",
    "ax.plot(*history[[\"x1\", \"x2\"]][~history[\"feasible\"]].to_numpy().T, \".C2\")\n",
    "\n",
    "ax.set_xlim(0, 3.14)\n",
    "ax.set_ylim(0, 3.14)\n",
    "ax.set_xlabel(\"x1\")\n",
    "ax.set_ylabel(\"x2\")\n",
    "ax.set_aspect(\"equal\")"
   ]
  },
  {
   "cell_type": "markdown",
   "metadata": {
    "collapsed": false
   },
   "source": [
    "### Plot path through input space"
   ]
  },
  {
   "cell_type": "code",
   "execution_count": 5,
   "metadata": {
    "collapsed": false,
    "execution": {
     "iopub.execute_input": "2024-03-20T15:35:10.858940Z",
     "iopub.status.busy": "2024-03-20T15:35:10.858675Z",
     "iopub.status.idle": "2024-03-20T15:35:10.995187Z",
     "shell.execute_reply": "2024-03-20T15:35:10.994547Z"
    }
   },
   "outputs": [
    {
     "data": {
      "image/png": "[encoded data removed]",
      "text/plain": [
       "<Figure size 640x480 with 1 Axes>"
      ]
     },
     "metadata": {},
     "output_type": "display_data"
    }
   ],
   "source": [
    "ax = history.plot(\"x1\", \"x2\")\n",
    "ax.set_ylim(0, 3.14)\n",
    "ax.set_xlim(0, 3.14)\n",
    "ax.set_aspect(\"equal\")"
   ]
  },
  {
   "cell_type": "code",
   "execution_count": 6,
   "metadata": {
    "collapsed": false,
    "execution": {
     "iopub.execute_input": "2024-03-20T15:35:10.997816Z",
     "iopub.status.busy": "2024-03-20T15:35:10.997358Z",
     "iopub.status.idle": "2024-03-20T15:35:22.560728Z",
     "shell.execute_reply": "2024-03-20T15:35:22.560124Z"
    }
   },
   "outputs": [
    {
     "name": "stdout",
     "output_type": "stream",
     "text": [
      "[[0.22466855 0.88464932]]\n"
     ]
    },
    {
     "data": {
      "text/plain": [
       "[<matplotlib.lines.Line2D at 0x7f5a9bf450a0>]"
      ]
     },
     "execution_count": 6,
     "metadata": {},
     "output_type": "execute_result"
    },
    {
     "data": {
      "image/png": "[encoded data removed]",
      "text/plain": [
       "<Figure size 640x480 with 2 Axes>"
      ]
     },
     "metadata": {},
     "output_type": "display_data"
    },
    {
     "data": {
      "image/png": "[encoded data removed]",
      "text/plain": [
       "<Figure size 640x480 with 2 Axes>"
      ]
     },
     "metadata": {},
     "output_type": "display_data"
    }
   ],
   "source": [
    "# plot the acquisition function\n",
    "from xopt.generators.bayesian.objectives import feasibility\n",
    "\n",
    "bounds = X.generator.vocs.bounds\n",
    "model = X.generator.model\n",
    "\n",
    "# create mesh\n",
    "n = 200\n",
    "x = torch.linspace(*bounds.T[0], n)\n",
    "y = torch.linspace(*bounds.T[1], n)\n",
    "xx, yy = torch.meshgrid(x, y)\n",
    "pts = torch.hstack([ele.reshape(-1, 1) for ele in (xx, yy)]).double()\n",
    "\n",
    "xx, yy = xx.numpy(), yy.numpy()\n",
    "\n",
    "acq_func = X.generator.get_acquisition(model)\n",
    "with torch.no_grad():\n",
    "    acq_pts = pts.unsqueeze(1)\n",
    "    acq = acq_func(acq_pts)\n",
    "\n",
    "    fig, ax = plt.subplots()\n",
    "    c = ax.pcolor(xx, yy, acq.reshape(n, n), cmap=\"Blues\")\n",
    "    fig.colorbar(c)\n",
    "    ax.set_title(\"Acquisition function\")\n",
    "\n",
    "    ax.plot(*history[[\"x1\", \"x2\"]][history[\"feasible\"]].to_numpy().T, \".C1\")\n",
    "    ax.plot(*history[[\"x1\", \"x2\"]][~history[\"feasible\"]].to_numpy().T, \".C2\")\n",
    "\n",
    "    ax.plot(*history[[\"x1\", \"x2\"]].to_numpy()[-1].T, \"+\")\n",
    "\n",
    "    feas = feasibility(pts.unsqueeze(1), model, tnk_vocs).flatten()\n",
    "\n",
    "    fig2, ax2 = plt.subplots()\n",
    "    c = ax2.pcolor(xx, yy, feas.reshape(n, n))\n",
    "    fig2.colorbar(c)\n",
    "    ax2.set_title(\"Feasible Region\")\n",
    "\n",
    "candidate = pd.DataFrame(X.generator.generate(1), index=[0])\n",
    "print(candidate[[\"x1\", \"x2\"]].to_numpy())\n",
    "ax.plot(*candidate[[\"x1\", \"x2\"]].to_numpy()[0], \"o\")"
   ]
  },
  {
   "cell_type": "code",
   "execution_count": 7,
   "metadata": {
    "collapsed": false,
    "execution": {
     "iopub.execute_input": "2024-03-20T15:35:22.562993Z",
     "iopub.status.busy": "2024-03-20T15:35:22.562811Z",
     "iopub.status.idle": "2024-03-20T15:35:22.988618Z",
     "shell.execute_reply": "2024-03-20T15:35:22.988029Z"
    }
   },
   "outputs": [
    {
     "name": "stdout",
     "output_type": "stream",
     "text": [
      "CPU times: user 813 ms, sys: 28.1 ms, total: 841 ms\n",
      "Wall time: 422 ms\n"
     ]
    }
   ],
   "source": [
    "%%time\n",
    "candidate = X.generator.generate(1)"
   ]
  }
 ],
 "metadata": {
  "interpreter": {
   "hash": "72034539424920dfb606fe3b820b3f27dca0cbf1c69938110810ec4641e275b1"
  },
  "kernelspec": {
   "display_name": "Python 3 (ipykernel)",
   "language": "python",
   "name": "python3"
  },
  "language_info": {
   "codemirror_mode": {
    "name": "ipython",
    "version": 3
   },
   "file_extension": ".py",
   "mimetype": "text/x-python",
   "name": "python",
   "nbconvert_exporter": "python",
   "pygments_lexer": "ipython3",
   "version": "3.9.19"
  }
 },
 "nbformat": 4,
 "nbformat_minor": 4
}
