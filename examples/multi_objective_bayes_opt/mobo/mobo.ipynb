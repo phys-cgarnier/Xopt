{
 "cells": [
  {
   "cell_type": "markdown",
   "metadata": {},
   "source": [
    "\n",
    "# Multi-objective Bayesian Optimization\n",
    "\n",
    "\n",
    "TNK function\n",
    "$n=2$ variables:\n",
    "$x_i \\in [0, \\pi], i=1,2$\n",
    "\n",
    "Objectives:\n",
    "- $f_i(x) = x_i$\n",
    "\n",
    "Constraints:\n",
    "- $g_1(x) = -x_1^2 -x_2^2 + 1 + 0.1 \\cos\\left(16 \\arctan \\frac{x_1}{x_2}\\right) \\le 0$\n",
    "- $g_2(x) = (x_1 - 1/2)^2 + (x_2-1/2)^2 \\le 0.5$"
   ]
  },
  {
   "cell_type": "code",
   "execution_count": 1,
   "metadata": {
    "collapsed": false,
    "execution": {
     "iopub.execute_input": "2024-04-15T17:39:01.425700Z",
     "iopub.status.busy": "2024-04-15T17:39:01.425528Z",
     "iopub.status.idle": "2024-04-15T17:39:03.612005Z",
     "shell.execute_reply": "2024-04-15T17:39:03.611378Z"
    }
   },
   "outputs": [
    {
     "name": "stdout",
     "output_type": "stream",
     "text": [
      "{'variables': {'x1': [0.0, 3.14159], 'x2': [0.0, 3.14159]}, 'constraints': {'c1': ['GREATER_THAN', 0.0], 'c2': ['LESS_THAN', 0.5]}, 'objectives': {'y1': 'MINIMIZE', 'y2': 'MINIMIZE'}, 'constants': {'a': 'dummy_constant'}, 'observables': []}\n"
     ]
    }
   ],
   "source": [
    "# set values if testing\n",
    "import os\n",
    "SMOKE_TEST = os.environ.get(\"SMOKE_TEST\")\n",
    "N_MC_SAMPLES = 1 if SMOKE_TEST else 128\n",
    "NUM_RESTARTS = 1 if SMOKE_TEST else 20\n",
    "N_STEPS = 1 if SMOKE_TEST else 30\n",
    "\n",
    "# Ignore all warnings\n",
    "import warnings\n",
    "warnings.filterwarnings(\"ignore\")\n",
    "\n",
    "\n",
    "import pandas as pd\n",
    "import numpy as np\n",
    "import torch\n",
    "\n",
    "from xopt import Xopt, Evaluator\n",
    "from xopt.generators.bayesian import MOBOGenerator\n",
    "from xopt.resources.test_functions.tnk import evaluate_TNK, tnk_vocs\n",
    "\n",
    "\n",
    "evaluator = Evaluator(function=evaluate_TNK)\n",
    "print(tnk_vocs.dict())"
   ]
  },
  {
   "cell_type": "code",
   "execution_count": 2,
   "metadata": {
    "collapsed": false,
    "execution": {
     "iopub.execute_input": "2024-04-15T17:39:03.641960Z",
     "iopub.status.busy": "2024-04-15T17:39:03.641430Z",
     "iopub.status.idle": "2024-04-15T17:40:15.779804Z",
     "shell.execute_reply": "2024-04-15T17:40:15.779241Z"
    }
   },
   "outputs": [
    {
     "name": "stdout",
     "output_type": "stream",
     "text": [
      "0\n"
     ]
    },
    {
     "name": "stdout",
     "output_type": "stream",
     "text": [
      "1\n"
     ]
    },
    {
     "name": "stdout",
     "output_type": "stream",
     "text": [
      "2\n"
     ]
    },
    {
     "name": "stdout",
     "output_type": "stream",
     "text": [
      "3\n"
     ]
    },
    {
     "name": "stdout",
     "output_type": "stream",
     "text": [
      "4\n"
     ]
    },
    {
     "name": "stdout",
     "output_type": "stream",
     "text": [
      "5\n"
     ]
    },
    {
     "name": "stdout",
     "output_type": "stream",
     "text": [
      "6\n"
     ]
    },
    {
     "name": "stdout",
     "output_type": "stream",
     "text": [
      "7\n"
     ]
    },
    {
     "name": "stdout",
     "output_type": "stream",
     "text": [
      "8\n"
     ]
    },
    {
     "name": "stdout",
     "output_type": "stream",
     "text": [
      "9\n"
     ]
    },
    {
     "name": "stdout",
     "output_type": "stream",
     "text": [
      "10\n"
     ]
    },
    {
     "name": "stdout",
     "output_type": "stream",
     "text": [
      "11\n"
     ]
    },
    {
     "name": "stdout",
     "output_type": "stream",
     "text": [
      "12\n"
     ]
    },
    {
     "name": "stdout",
     "output_type": "stream",
     "text": [
      "13\n"
     ]
    },
    {
     "name": "stdout",
     "output_type": "stream",
     "text": [
      "14\n"
     ]
    },
    {
     "name": "stdout",
     "output_type": "stream",
     "text": [
      "15\n"
     ]
    },
    {
     "name": "stdout",
     "output_type": "stream",
     "text": [
      "16\n"
     ]
    },
    {
     "name": "stdout",
     "output_type": "stream",
     "text": [
      "17\n"
     ]
    },
    {
     "name": "stdout",
     "output_type": "stream",
     "text": [
      "18\n"
     ]
    },
    {
     "name": "stdout",
     "output_type": "stream",
     "text": [
      "19\n"
     ]
    },
    {
     "name": "stdout",
     "output_type": "stream",
     "text": [
      "20\n"
     ]
    },
    {
     "name": "stdout",
     "output_type": "stream",
     "text": [
      "21\n"
     ]
    },
    {
     "name": "stdout",
     "output_type": "stream",
     "text": [
      "22\n"
     ]
    },
    {
     "name": "stdout",
     "output_type": "stream",
     "text": [
      "23\n"
     ]
    },
    {
     "name": "stdout",
     "output_type": "stream",
     "text": [
      "24\n"
     ]
    },
    {
     "name": "stdout",
     "output_type": "stream",
     "text": [
      "25\n"
     ]
    },
    {
     "name": "stdout",
     "output_type": "stream",
     "text": [
      "26\n"
     ]
    },
    {
     "name": "stdout",
     "output_type": "stream",
     "text": [
      "27\n"
     ]
    },
    {
     "name": "stdout",
     "output_type": "stream",
     "text": [
      "28\n"
     ]
    },
    {
     "name": "stdout",
     "output_type": "stream",
     "text": [
      "29\n"
     ]
    }
   ],
   "source": [
    "generator = MOBOGenerator(vocs=tnk_vocs, reference_point = {\"y1\":1.5,\"y2\":1.5})\n",
    "generator.n_monte_carlo_samples = N_MC_SAMPLES\n",
    "generator.numerical_optimizer.n_restarts = NUM_RESTARTS\n",
    "\n",
    "X = Xopt(generator=generator, evaluator=evaluator, vocs=tnk_vocs)\n",
    "X.evaluate_data(pd.DataFrame({\"x1\":[1.0, 0.75],\"x2\":[0.75, 1.0]}))\n",
    "\n",
    "for i in range(N_STEPS):\n",
    "    print(i)\n",
    "    X.step()"
   ]
  },
  {
   "cell_type": "code",
   "execution_count": 3,
   "metadata": {
    "collapsed": false,
    "execution": {
     "iopub.execute_input": "2024-04-15T17:40:15.782610Z",
     "iopub.status.busy": "2024-04-15T17:40:15.782312Z",
     "iopub.status.idle": "2024-04-15T17:40:15.801920Z",
     "shell.execute_reply": "2024-04-15T17:40:15.801293Z"
    }
   },
   "outputs": [
    {
     "data": {
      "text/html": [
       "<div>\n",
       "<style scoped>\n",
       "    .dataframe tbody tr th:only-of-type {\n",
       "        vertical-align: middle;\n",
       "    }\n",
       "\n",
       "    .dataframe tbody tr th {\n",
       "        vertical-align: top;\n",
       "    }\n",
       "\n",
       "    .dataframe thead th {\n",
       "        text-align: right;\n",
       "    }\n",
       "</style>\n",
       "<table border=\"1\" class=\"dataframe\">\n",
       "  <thead>\n",
       "    <tr style=\"text-align: right;\">\n",
       "      <th></th>\n",
       "      <th>x1</th>\n",
       "      <th>x2</th>\n",
       "      <th>a</th>\n",
       "      <th>y1</th>\n",
       "      <th>y2</th>\n",
       "      <th>c1</th>\n",
       "      <th>c2</th>\n",
       "      <th>xopt_runtime</th>\n",
       "      <th>xopt_error</th>\n",
       "    </tr>\n",
       "  </thead>\n",
       "  <tbody>\n",
       "    <tr>\n",
       "      <th>0</th>\n",
       "      <td>1.000000</td>\n",
       "      <td>0.750000</td>\n",
       "      <td>dummy_constant</td>\n",
       "      <td>1.000000</td>\n",
       "      <td>0.750000</td>\n",
       "      <td>0.626888</td>\n",
       "      <td>0.312500</td>\n",
       "      <td>0.000033</td>\n",
       "      <td>False</td>\n",
       "    </tr>\n",
       "    <tr>\n",
       "      <th>1</th>\n",
       "      <td>0.750000</td>\n",
       "      <td>1.000000</td>\n",
       "      <td>dummy_constant</td>\n",
       "      <td>0.750000</td>\n",
       "      <td>1.000000</td>\n",
       "      <td>0.626888</td>\n",
       "      <td>0.312500</td>\n",
       "      <td>0.000007</td>\n",
       "      <td>False</td>\n",
       "    </tr>\n",
       "    <tr>\n",
       "      <th>2</th>\n",
       "      <td>3.141590</td>\n",
       "      <td>3.141590</td>\n",
       "      <td>dummy_constant</td>\n",
       "      <td>3.141590</td>\n",
       "      <td>3.141590</td>\n",
       "      <td>18.639175</td>\n",
       "      <td>13.955995</td>\n",
       "      <td>0.000025</td>\n",
       "      <td>False</td>\n",
       "    </tr>\n",
       "    <tr>\n",
       "      <th>3</th>\n",
       "      <td>0.333064</td>\n",
       "      <td>0.270921</td>\n",
       "      <td>dummy_constant</td>\n",
       "      <td>0.333064</td>\n",
       "      <td>0.270921</td>\n",
       "      <td>-0.808711</td>\n",
       "      <td>0.080345</td>\n",
       "      <td>0.000025</td>\n",
       "      <td>False</td>\n",
       "    </tr>\n",
       "    <tr>\n",
       "      <th>4</th>\n",
       "      <td>0.116847</td>\n",
       "      <td>0.215092</td>\n",
       "      <td>dummy_constant</td>\n",
       "      <td>0.116847</td>\n",
       "      <td>0.215092</td>\n",
       "      <td>-0.929276</td>\n",
       "      <td>0.227979</td>\n",
       "      <td>0.000025</td>\n",
       "      <td>False</td>\n",
       "    </tr>\n",
       "    <tr>\n",
       "      <th>5</th>\n",
       "      <td>0.347677</td>\n",
       "      <td>0.029083</td>\n",
       "      <td>dummy_constant</td>\n",
       "      <td>0.347677</td>\n",
       "      <td>0.029083</td>\n",
       "      <td>-0.901609</td>\n",
       "      <td>0.244965</td>\n",
       "      <td>0.000045</td>\n",
       "      <td>False</td>\n",
       "    </tr>\n",
       "    <tr>\n",
       "      <th>6</th>\n",
       "      <td>0.000000</td>\n",
       "      <td>0.577361</td>\n",
       "      <td>dummy_constant</td>\n",
       "      <td>0.000000</td>\n",
       "      <td>0.577361</td>\n",
       "      <td>-0.766654</td>\n",
       "      <td>0.255985</td>\n",
       "      <td>0.000027</td>\n",
       "      <td>False</td>\n",
       "    </tr>\n",
       "    <tr>\n",
       "      <th>7</th>\n",
       "      <td>0.422800</td>\n",
       "      <td>1.004667</td>\n",
       "      <td>dummy_constant</td>\n",
       "      <td>0.422800</td>\n",
       "      <td>1.004667</td>\n",
       "      <td>0.088521</td>\n",
       "      <td>0.260648</td>\n",
       "      <td>0.000028</td>\n",
       "      <td>False</td>\n",
       "    </tr>\n",
       "    <tr>\n",
       "      <th>8</th>\n",
       "      <td>0.978106</td>\n",
       "      <td>0.500297</td>\n",
       "      <td>dummy_constant</td>\n",
       "      <td>0.978106</td>\n",
       "      <td>0.500297</td>\n",
       "      <td>0.178473</td>\n",
       "      <td>0.228585</td>\n",
       "      <td>0.000026</td>\n",
       "      <td>False</td>\n",
       "    </tr>\n",
       "    <tr>\n",
       "      <th>9</th>\n",
       "      <td>0.720245</td>\n",
       "      <td>0.790801</td>\n",
       "      <td>dummy_constant</td>\n",
       "      <td>0.720245</td>\n",
       "      <td>0.790801</td>\n",
       "      <td>0.070715</td>\n",
       "      <td>0.133073</td>\n",
       "      <td>0.000029</td>\n",
       "      <td>False</td>\n",
       "    </tr>\n",
       "    <tr>\n",
       "      <th>10</th>\n",
       "      <td>1.028606</td>\n",
       "      <td>0.261173</td>\n",
       "      <td>dummy_constant</td>\n",
       "      <td>1.028606</td>\n",
       "      <td>0.261173</td>\n",
       "      <td>0.193220</td>\n",
       "      <td>0.336463</td>\n",
       "      <td>0.000027</td>\n",
       "      <td>False</td>\n",
       "    </tr>\n",
       "    <tr>\n",
       "      <th>11</th>\n",
       "      <td>0.993232</td>\n",
       "      <td>0.074265</td>\n",
       "      <td>dummy_constant</td>\n",
       "      <td>0.993232</td>\n",
       "      <td>0.074265</td>\n",
       "      <td>-0.044758</td>\n",
       "      <td>0.424529</td>\n",
       "      <td>0.000027</td>\n",
       "      <td>False</td>\n",
       "    </tr>\n",
       "    <tr>\n",
       "      <th>12</th>\n",
       "      <td>0.178216</td>\n",
       "      <td>1.101736</td>\n",
       "      <td>dummy_constant</td>\n",
       "      <td>0.178216</td>\n",
       "      <td>1.101736</td>\n",
       "      <td>0.329465</td>\n",
       "      <td>0.465631</td>\n",
       "      <td>0.000028</td>\n",
       "      <td>False</td>\n",
       "    </tr>\n",
       "    <tr>\n",
       "      <th>13</th>\n",
       "      <td>1.033767</td>\n",
       "      <td>0.113691</td>\n",
       "      <td>dummy_constant</td>\n",
       "      <td>1.033767</td>\n",
       "      <td>0.113691</td>\n",
       "      <td>0.099679</td>\n",
       "      <td>0.434142</td>\n",
       "      <td>0.000029</td>\n",
       "      <td>False</td>\n",
       "    </tr>\n",
       "    <tr>\n",
       "      <th>14</th>\n",
       "      <td>0.877069</td>\n",
       "      <td>0.586262</td>\n",
       "      <td>dummy_constant</td>\n",
       "      <td>0.877069</td>\n",
       "      <td>0.586262</td>\n",
       "      <td>0.212953</td>\n",
       "      <td>0.149622</td>\n",
       "      <td>0.000028</td>\n",
       "      <td>False</td>\n",
       "    </tr>\n",
       "    <tr>\n",
       "      <th>15</th>\n",
       "      <td>0.930493</td>\n",
       "      <td>0.370353</td>\n",
       "      <td>dummy_constant</td>\n",
       "      <td>0.930493</td>\n",
       "      <td>0.370353</td>\n",
       "      <td>-0.094557</td>\n",
       "      <td>0.202133</td>\n",
       "      <td>0.000027</td>\n",
       "      <td>False</td>\n",
       "    </tr>\n",
       "    <tr>\n",
       "      <th>16</th>\n",
       "      <td>0.087995</td>\n",
       "      <td>1.024228</td>\n",
       "      <td>dummy_constant</td>\n",
       "      <td>0.087995</td>\n",
       "      <td>1.024228</td>\n",
       "      <td>0.036963</td>\n",
       "      <td>0.444562</td>\n",
       "      <td>0.000029</td>\n",
       "      <td>False</td>\n",
       "    </tr>\n",
       "    <tr>\n",
       "      <th>17</th>\n",
       "      <td>0.998132</td>\n",
       "      <td>0.218850</td>\n",
       "      <td>dummy_constant</td>\n",
       "      <td>0.998132</td>\n",
       "      <td>0.218850</td>\n",
       "      <td>0.139338</td>\n",
       "      <td>0.327181</td>\n",
       "      <td>0.000026</td>\n",
       "      <td>False</td>\n",
       "    </tr>\n",
       "    <tr>\n",
       "      <th>18</th>\n",
       "      <td>0.198681</td>\n",
       "      <td>1.483265</td>\n",
       "      <td>dummy_constant</td>\n",
       "      <td>0.198681</td>\n",
       "      <td>1.483265</td>\n",
       "      <td>1.292641</td>\n",
       "      <td>1.057603</td>\n",
       "      <td>0.000032</td>\n",
       "      <td>False</td>\n",
       "    </tr>\n",
       "    <tr>\n",
       "      <th>19</th>\n",
       "      <td>0.563205</td>\n",
       "      <td>0.889948</td>\n",
       "      <td>dummy_constant</td>\n",
       "      <td>0.563205</td>\n",
       "      <td>0.889948</td>\n",
       "      <td>0.201424</td>\n",
       "      <td>0.156055</td>\n",
       "      <td>0.000027</td>\n",
       "      <td>False</td>\n",
       "    </tr>\n",
       "    <tr>\n",
       "      <th>20</th>\n",
       "      <td>0.343093</td>\n",
       "      <td>0.620170</td>\n",
       "      <td>dummy_constant</td>\n",
       "      <td>0.343093</td>\n",
       "      <td>0.620170</td>\n",
       "      <td>-0.474774</td>\n",
       "      <td>0.039061</td>\n",
       "      <td>0.000027</td>\n",
       "      <td>False</td>\n",
       "    </tr>\n",
       "    <tr>\n",
       "      <th>21</th>\n",
       "      <td>0.024439</td>\n",
       "      <td>0.999436</td>\n",
       "      <td>dummy_constant</td>\n",
       "      <td>0.024439</td>\n",
       "      <td>0.999436</td>\n",
       "      <td>-0.092977</td>\n",
       "      <td>0.475595</td>\n",
       "      <td>0.000027</td>\n",
       "      <td>False</td>\n",
       "    </tr>\n",
       "    <tr>\n",
       "      <th>22</th>\n",
       "      <td>1.015225</td>\n",
       "      <td>0.030724</td>\n",
       "      <td>dummy_constant</td>\n",
       "      <td>1.015225</td>\n",
       "      <td>0.030724</td>\n",
       "      <td>-0.056886</td>\n",
       "      <td>0.485676</td>\n",
       "      <td>0.000027</td>\n",
       "      <td>False</td>\n",
       "    </tr>\n",
       "    <tr>\n",
       "      <th>23</th>\n",
       "      <td>0.071704</td>\n",
       "      <td>1.458288</td>\n",
       "      <td>dummy_constant</td>\n",
       "      <td>0.071704</td>\n",
       "      <td>1.458288</td>\n",
       "      <td>1.061085</td>\n",
       "      <td>1.101754</td>\n",
       "      <td>0.000026</td>\n",
       "      <td>False</td>\n",
       "    </tr>\n",
       "    <tr>\n",
       "      <th>24</th>\n",
       "      <td>0.667356</td>\n",
       "      <td>0.507617</td>\n",
       "      <td>dummy_constant</td>\n",
       "      <td>0.667356</td>\n",
       "      <td>0.507617</td>\n",
       "      <td>-0.241228</td>\n",
       "      <td>0.028066</td>\n",
       "      <td>0.000025</td>\n",
       "      <td>False</td>\n",
       "    </tr>\n",
       "    <tr>\n",
       "      <th>25</th>\n",
       "      <td>0.960099</td>\n",
       "      <td>0.307672</td>\n",
       "      <td>dummy_constant</td>\n",
       "      <td>0.960099</td>\n",
       "      <td>0.307672</td>\n",
       "      <td>-0.008242</td>\n",
       "      <td>0.248681</td>\n",
       "      <td>0.000025</td>\n",
       "      <td>False</td>\n",
       "    </tr>\n",
       "    <tr>\n",
       "      <th>26</th>\n",
       "      <td>0.769889</td>\n",
       "      <td>0.655952</td>\n",
       "      <td>dummy_constant</td>\n",
       "      <td>0.769889</td>\n",
       "      <td>0.655952</td>\n",
       "      <td>-0.006070</td>\n",
       "      <td>0.097161</td>\n",
       "      <td>0.000027</td>\n",
       "      <td>False</td>\n",
       "    </tr>\n",
       "    <tr>\n",
       "      <th>27</th>\n",
       "      <td>1.038648</td>\n",
       "      <td>0.054314</td>\n",
       "      <td>dummy_constant</td>\n",
       "      <td>1.038648</td>\n",
       "      <td>0.054314</td>\n",
       "      <td>0.014690</td>\n",
       "      <td>0.488777</td>\n",
       "      <td>0.000026</td>\n",
       "      <td>False</td>\n",
       "    </tr>\n",
       "    <tr>\n",
       "      <th>28</th>\n",
       "      <td>0.195399</td>\n",
       "      <td>0.400127</td>\n",
       "      <td>dummy_constant</td>\n",
       "      <td>0.195399</td>\n",
       "      <td>0.400127</td>\n",
       "      <td>-0.856980</td>\n",
       "      <td>0.102756</td>\n",
       "      <td>0.000027</td>\n",
       "      <td>False</td>\n",
       "    </tr>\n",
       "    <tr>\n",
       "      <th>29</th>\n",
       "      <td>0.342902</td>\n",
       "      <td>0.958856</td>\n",
       "      <td>dummy_constant</td>\n",
       "      <td>0.342902</td>\n",
       "      <td>0.958856</td>\n",
       "      <td>-0.033533</td>\n",
       "      <td>0.235229</td>\n",
       "      <td>0.000026</td>\n",
       "      <td>False</td>\n",
       "    </tr>\n",
       "    <tr>\n",
       "      <th>30</th>\n",
       "      <td>0.229137</td>\n",
       "      <td>1.261198</td>\n",
       "      <td>dummy_constant</td>\n",
       "      <td>0.229137</td>\n",
       "      <td>1.261198</td>\n",
       "      <td>0.739606</td>\n",
       "      <td>0.652789</td>\n",
       "      <td>0.000027</td>\n",
       "      <td>False</td>\n",
       "    </tr>\n",
       "    <tr>\n",
       "      <th>31</th>\n",
       "      <td>0.891746</td>\n",
       "      <td>0.494138</td>\n",
       "      <td>dummy_constant</td>\n",
       "      <td>0.891746</td>\n",
       "      <td>0.494138</td>\n",
       "      <td>0.063356</td>\n",
       "      <td>0.153499</td>\n",
       "      <td>0.000027</td>\n",
       "      <td>False</td>\n",
       "    </tr>\n",
       "  </tbody>\n",
       "</table>\n",
       "</div>"
      ],
      "text/plain": [
       "          x1        x2               a        y1        y2         c1  \\\n",
       "0   1.000000  0.750000  dummy_constant  1.000000  0.750000   0.626888   \n",
       "1   0.750000  1.000000  dummy_constant  0.750000  1.000000   0.626888   \n",
       "2   3.141590  3.141590  dummy_constant  3.141590  3.141590  18.639175   \n",
       "3   0.333064  0.270921  dummy_constant  0.333064  0.270921  -0.808711   \n",
       "4   0.116847  0.215092  dummy_constant  0.116847  0.215092  -0.929276   \n",
       "5   0.347677  0.029083  dummy_constant  0.347677  0.029083  -0.901609   \n",
       "6   0.000000  0.577361  dummy_constant  0.000000  0.577361  -0.766654   \n",
       "7   0.422800  1.004667  dummy_constant  0.422800  1.004667   0.088521   \n",
       "8   0.978106  0.500297  dummy_constant  0.978106  0.500297   0.178473   \n",
       "9   0.720245  0.790801  dummy_constant  0.720245  0.790801   0.070715   \n",
       "10  1.028606  0.261173  dummy_constant  1.028606  0.261173   0.193220   \n",
       "11  0.993232  0.074265  dummy_constant  0.993232  0.074265  -0.044758   \n",
       "12  0.178216  1.101736  dummy_constant  0.178216  1.101736   0.329465   \n",
       "13  1.033767  0.113691  dummy_constant  1.033767  0.113691   0.099679   \n",
       "14  0.877069  0.586262  dummy_constant  0.877069  0.586262   0.212953   \n",
       "15  0.930493  0.370353  dummy_constant  0.930493  0.370353  -0.094557   \n",
       "16  0.087995  1.024228  dummy_constant  0.087995  1.024228   0.036963   \n",
       "17  0.998132  0.218850  dummy_constant  0.998132  0.218850   0.139338   \n",
       "18  0.198681  1.483265  dummy_constant  0.198681  1.483265   1.292641   \n",
       "19  0.563205  0.889948  dummy_constant  0.563205  0.889948   0.201424   \n",
       "20  0.343093  0.620170  dummy_constant  0.343093  0.620170  -0.474774   \n",
       "21  0.024439  0.999436  dummy_constant  0.024439  0.999436  -0.092977   \n",
       "22  1.015225  0.030724  dummy_constant  1.015225  0.030724  -0.056886   \n",
       "23  0.071704  1.458288  dummy_constant  0.071704  1.458288   1.061085   \n",
       "24  0.667356  0.507617  dummy_constant  0.667356  0.507617  -0.241228   \n",
       "25  0.960099  0.307672  dummy_constant  0.960099  0.307672  -0.008242   \n",
       "26  0.769889  0.655952  dummy_constant  0.769889  0.655952  -0.006070   \n",
       "27  1.038648  0.054314  dummy_constant  1.038648  0.054314   0.014690   \n",
       "28  0.195399  0.400127  dummy_constant  0.195399  0.400127  -0.856980   \n",
       "29  0.342902  0.958856  dummy_constant  0.342902  0.958856  -0.033533   \n",
       "30  0.229137  1.261198  dummy_constant  0.229137  1.261198   0.739606   \n",
       "31  0.891746  0.494138  dummy_constant  0.891746  0.494138   0.063356   \n",
       "\n",
       "           c2  xopt_runtime  xopt_error  \n",
       "0    0.312500      0.000033       False  \n",
       "1    0.312500      0.000007       False  \n",
       "2   13.955995      0.000025       False  \n",
       "3    0.080345      0.000025       False  \n",
       "4    0.227979      0.000025       False  \n",
       "5    0.244965      0.000045       False  \n",
       "6    0.255985      0.000027       False  \n",
       "7    0.260648      0.000028       False  \n",
       "8    0.228585      0.000026       False  \n",
       "9    0.133073      0.000029       False  \n",
       "10   0.336463      0.000027       False  \n",
       "11   0.424529      0.000027       False  \n",
       "12   0.465631      0.000028       False  \n",
       "13   0.434142      0.000029       False  \n",
       "14   0.149622      0.000028       False  \n",
       "15   0.202133      0.000027       False  \n",
       "16   0.444562      0.000029       False  \n",
       "17   0.327181      0.000026       False  \n",
       "18   1.057603      0.000032       False  \n",
       "19   0.156055      0.000027       False  \n",
       "20   0.039061      0.000027       False  \n",
       "21   0.475595      0.000027       False  \n",
       "22   0.485676      0.000027       False  \n",
       "23   1.101754      0.000026       False  \n",
       "24   0.028066      0.000025       False  \n",
       "25   0.248681      0.000025       False  \n",
       "26   0.097161      0.000027       False  \n",
       "27   0.488777      0.000026       False  \n",
       "28   0.102756      0.000027       False  \n",
       "29   0.235229      0.000026       False  \n",
       "30   0.652789      0.000027       False  \n",
       "31   0.153499      0.000027       False  "
      ]
     },
     "execution_count": 3,
     "metadata": {},
     "output_type": "execute_result"
    }
   ],
   "source": [
    "X.generator.data"
   ]
  },
  {
   "cell_type": "markdown",
   "metadata": {
    "collapsed": false
   },
   "source": [
    "## plot results\n"
   ]
  },
  {
   "cell_type": "code",
   "execution_count": 4,
   "metadata": {
    "collapsed": false,
    "execution": {
     "iopub.execute_input": "2024-04-15T17:40:15.804507Z",
     "iopub.status.busy": "2024-04-15T17:40:15.804108Z",
     "iopub.status.idle": "2024-04-15T17:40:16.204251Z",
     "shell.execute_reply": "2024-04-15T17:40:16.203595Z"
    }
   },
   "outputs": [
    {
     "data": {
      "image/png": "[encoded data removed]",
      "text/plain": [
       "<Figure size 640x480 with 1 Axes>"
      ]
     },
     "metadata": {},
     "output_type": "display_data"
    }
   ],
   "source": [
    "import matplotlib.pyplot as plt\n",
    "\n",
    "fig, ax = plt.subplots()\n",
    "\n",
    "theta = np.linspace(0, np.pi / 2)\n",
    "r = np.sqrt(1 + 0.1 * np.cos(16 * theta))\n",
    "x_1 = r * np.sin(theta)\n",
    "x_2_lower = r * np.cos(theta)\n",
    "x_2_upper = (0.5 - (x_1 - 0.5) ** 2) ** 0.5 + 0.5\n",
    "\n",
    "z = np.zeros_like(x_1)\n",
    "\n",
    "# ax2.plot(x_1, x_2_lower,'r')\n",
    "ax.fill_between(x_1, z, x_2_lower, fc=\"white\")\n",
    "circle = plt.Circle(\n",
    "    (0.5, 0.5), 0.5 ** 0.5, color=\"r\", alpha=0.25, zorder=0, label=\"Valid Region\"\n",
    ")\n",
    "ax.add_patch(circle)\n",
    "history = pd.concat(\n",
    "    [X.data, tnk_vocs.feasibility_data(X.data)], axis=1, ignore_index=False\n",
    ")\n",
    "\n",
    "\n",
    "ax.plot(*history[[\"x1\", \"x2\"]][history[\"feasible\"]].to_numpy().T, \".C1\")\n",
    "ax.plot(*history[[\"x1\", \"x2\"]][~history[\"feasible\"]].to_numpy().T, \".C2\")\n",
    "\n",
    "ax.set_xlim(0, 3.14)\n",
    "ax.set_ylim(0, 3.14)\n",
    "ax.set_xlabel(\"x1\")\n",
    "ax.set_ylabel(\"x2\")\n",
    "ax.set_aspect(\"equal\")"
   ]
  },
  {
   "cell_type": "markdown",
   "metadata": {
    "collapsed": false
   },
   "source": [
    "### Plot path through input space"
   ]
  },
  {
   "cell_type": "code",
   "execution_count": 5,
   "metadata": {
    "collapsed": false,
    "execution": {
     "iopub.execute_input": "2024-04-15T17:40:16.206636Z",
     "iopub.status.busy": "2024-04-15T17:40:16.206320Z",
     "iopub.status.idle": "2024-04-15T17:40:16.459068Z",
     "shell.execute_reply": "2024-04-15T17:40:16.458435Z"
    }
   },
   "outputs": [
    {
     "data": {
      "image/png": "[encoded data removed]",
      "text/plain": [
       "<Figure size 640x480 with 1 Axes>"
      ]
     },
     "metadata": {},
     "output_type": "display_data"
    }
   ],
   "source": [
    "ax = history.plot(\"x1\", \"x2\")\n",
    "ax.set_ylim(0, 3.14)\n",
    "ax.set_xlim(0, 3.14)\n",
    "ax.set_aspect(\"equal\")"
   ]
  },
  {
   "cell_type": "code",
   "execution_count": 6,
   "metadata": {
    "collapsed": false,
    "execution": {
     "iopub.execute_input": "2024-04-15T17:40:16.461435Z",
     "iopub.status.busy": "2024-04-15T17:40:16.461258Z",
     "iopub.status.idle": "2024-04-15T17:40:31.096608Z",
     "shell.execute_reply": "2024-04-15T17:40:31.096007Z"
    }
   },
   "outputs": [
    {
     "name": "stdout",
     "output_type": "stream",
     "text": [
      "[[1.18094833 0.07296839]]\n"
     ]
    },
    {
     "data": {
      "text/plain": [
       "[<matplotlib.lines.Line2D at 0x7fc2d0de92e0>]"
      ]
     },
     "execution_count": 6,
     "metadata": {},
     "output_type": "execute_result"
    },
    {
     "data": {
      "image/png": "[encoded data removed]",
      "text/plain": [
       "<Figure size 640x480 with 2 Axes>"
      ]
     },
     "metadata": {},
     "output_type": "display_data"
    },
    {
     "data": {
      "image/png": "[encoded data removed]",
      "text/plain": [
       "<Figure size 640x480 with 2 Axes>"
      ]
     },
     "metadata": {},
     "output_type": "display_data"
    }
   ],
   "source": [
    "# plot the acquisition function\n",
    "from xopt.generators.bayesian.objectives import feasibility\n",
    "\n",
    "bounds = X.generator.vocs.bounds\n",
    "model = X.generator.model\n",
    "\n",
    "# create mesh\n",
    "n = 200\n",
    "x = torch.linspace(*bounds.T[0], n)\n",
    "y = torch.linspace(*bounds.T[1], n)\n",
    "xx, yy = torch.meshgrid(x, y)\n",
    "pts = torch.hstack([ele.reshape(-1, 1) for ele in (xx, yy)]).double()\n",
    "\n",
    "xx, yy = xx.numpy(), yy.numpy()\n",
    "\n",
    "acq_func = X.generator.get_acquisition(model)\n",
    "with torch.no_grad():\n",
    "    acq_pts = pts.unsqueeze(1)\n",
    "    acq = acq_func(acq_pts)\n",
    "\n",
    "    fig, ax = plt.subplots()\n",
    "    c = ax.pcolor(xx, yy, acq.reshape(n, n), cmap=\"Blues\")\n",
    "    fig.colorbar(c)\n",
    "    ax.set_title(\"Acquisition function\")\n",
    "\n",
    "    ax.plot(*history[[\"x1\", \"x2\"]][history[\"feasible\"]].to_numpy().T, \".C1\")\n",
    "    ax.plot(*history[[\"x1\", \"x2\"]][~history[\"feasible\"]].to_numpy().T, \".C2\")\n",
    "\n",
    "    ax.plot(*history[[\"x1\", \"x2\"]].to_numpy()[-1].T, \"+\")\n",
    "\n",
    "    feas = feasibility(pts.unsqueeze(1), model, tnk_vocs).flatten()\n",
    "\n",
    "    fig2, ax2 = plt.subplots()\n",
    "    c = ax2.pcolor(xx, yy, feas.reshape(n, n))\n",
    "    fig2.colorbar(c)\n",
    "    ax2.set_title(\"Feasible Region\")\n",
    "\n",
    "candidate = pd.DataFrame(X.generator.generate(1), index=[0])\n",
    "print(candidate[[\"x1\", \"x2\"]].to_numpy())\n",
    "ax.plot(*candidate[[\"x1\", \"x2\"]].to_numpy()[0], \"o\")"
   ]
  },
  {
   "cell_type": "code",
   "execution_count": 7,
   "metadata": {
    "collapsed": false,
    "execution": {
     "iopub.execute_input": "2024-04-15T17:40:31.098864Z",
     "iopub.status.busy": "2024-04-15T17:40:31.098685Z",
     "iopub.status.idle": "2024-04-15T17:40:31.915635Z",
     "shell.execute_reply": "2024-04-15T17:40:31.915027Z"
    }
   },
   "outputs": [
    {
     "name": "stdout",
     "output_type": "stream",
     "text": [
      "CPU times: user 1.6 s, sys: 20.3 ms, total: 1.62 s\n",
      "Wall time: 813 ms\n"
     ]
    }
   ],
   "source": [
    "%%time\n",
    "candidate = X.generator.generate(1)"
   ]
  }
 ],
 "metadata": {
  "interpreter": {
   "hash": "72034539424920dfb606fe3b820b3f27dca0cbf1c69938110810ec4641e275b1"
  },
  "kernelspec": {
   "display_name": "Python 3 (ipykernel)",
   "language": "python",
   "name": "python3"
  },
  "language_info": {
   "codemirror_mode": {
    "name": "ipython",
    "version": 3
   },
   "file_extension": ".py",
   "mimetype": "text/x-python",
   "name": "python",
   "nbconvert_exporter": "python",
   "pygments_lexer": "ipython3",
   "version": "3.9.19"
  }
 },
 "nbformat": 4,
 "nbformat_minor": 4
}
