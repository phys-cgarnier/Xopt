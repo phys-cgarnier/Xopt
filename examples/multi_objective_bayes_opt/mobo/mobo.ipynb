{
 "cells": [
  {
   "cell_type": "markdown",
   "metadata": {},
   "source": [
    "\n",
    "# Multi-objective Bayesian Optimization\n",
    "\n",
    "\n",
    "TNK function\n",
    "$n=2$ variables:\n",
    "$x_i \\in [0, \\pi], i=1,2$\n",
    "\n",
    "Objectives:\n",
    "- $f_i(x) = x_i$\n",
    "\n",
    "Constraints:\n",
    "- $g_1(x) = -x_1^2 -x_2^2 + 1 + 0.1 \\cos\\left(16 \\arctan \\frac{x_1}{x_2}\\right) \\le 0$\n",
    "- $g_2(x) = (x_1 - 1/2)^2 + (x_2-1/2)^2 \\le 0.5$"
   ]
  },
  {
   "cell_type": "code",
   "execution_count": 1,
   "metadata": {
    "collapsed": false,
    "execution": {
     "iopub.execute_input": "2024-04-03T04:00:05.676955Z",
     "iopub.status.busy": "2024-04-03T04:00:05.676761Z",
     "iopub.status.idle": "2024-04-03T04:00:07.862444Z",
     "shell.execute_reply": "2024-04-03T04:00:07.861769Z"
    }
   },
   "outputs": [
    {
     "name": "stdout",
     "output_type": "stream",
     "text": [
      "{'variables': {'x1': [0.0, 3.14159], 'x2': [0.0, 3.14159]}, 'constraints': {'c1': ['GREATER_THAN', 0.0], 'c2': ['LESS_THAN', 0.5]}, 'objectives': {'y1': 'MINIMIZE', 'y2': 'MINIMIZE'}, 'constants': {'a': 'dummy_constant'}, 'observables': []}\n"
     ]
    }
   ],
   "source": [
    "# set values if testing\n",
    "import os\n",
    "SMOKE_TEST = os.environ.get(\"SMOKE_TEST\")\n",
    "N_MC_SAMPLES = 1 if SMOKE_TEST else 128\n",
    "NUM_RESTARTS = 1 if SMOKE_TEST else 20\n",
    "N_STEPS = 1 if SMOKE_TEST else 30\n",
    "\n",
    "# Ignore all warnings\n",
    "import warnings\n",
    "warnings.filterwarnings(\"ignore\")\n",
    "\n",
    "\n",
    "import pandas as pd\n",
    "import numpy as np\n",
    "import torch\n",
    "\n",
    "from xopt import Xopt, Evaluator\n",
    "from xopt.generators.bayesian import MOBOGenerator\n",
    "from xopt.resources.test_functions.tnk import evaluate_TNK, tnk_vocs\n",
    "\n",
    "\n",
    "evaluator = Evaluator(function=evaluate_TNK)\n",
    "print(tnk_vocs.dict())"
   ]
  },
  {
   "cell_type": "code",
   "execution_count": 2,
   "metadata": {
    "collapsed": false,
    "execution": {
     "iopub.execute_input": "2024-04-03T04:00:07.891252Z",
     "iopub.status.busy": "2024-04-03T04:00:07.890742Z",
     "iopub.status.idle": "2024-04-03T04:01:02.382043Z",
     "shell.execute_reply": "2024-04-03T04:01:02.381397Z"
    }
   },
   "outputs": [
    {
     "name": "stdout",
     "output_type": "stream",
     "text": [
      "0\n"
     ]
    },
    {
     "name": "stdout",
     "output_type": "stream",
     "text": [
      "1\n"
     ]
    },
    {
     "name": "stdout",
     "output_type": "stream",
     "text": [
      "2\n"
     ]
    },
    {
     "name": "stdout",
     "output_type": "stream",
     "text": [
      "3\n"
     ]
    },
    {
     "name": "stdout",
     "output_type": "stream",
     "text": [
      "4\n"
     ]
    },
    {
     "name": "stdout",
     "output_type": "stream",
     "text": [
      "5\n"
     ]
    },
    {
     "name": "stdout",
     "output_type": "stream",
     "text": [
      "6\n"
     ]
    },
    {
     "name": "stdout",
     "output_type": "stream",
     "text": [
      "7\n"
     ]
    },
    {
     "name": "stdout",
     "output_type": "stream",
     "text": [
      "8\n"
     ]
    },
    {
     "name": "stdout",
     "output_type": "stream",
     "text": [
      "9\n"
     ]
    },
    {
     "name": "stdout",
     "output_type": "stream",
     "text": [
      "10\n"
     ]
    },
    {
     "name": "stdout",
     "output_type": "stream",
     "text": [
      "11\n"
     ]
    },
    {
     "name": "stdout",
     "output_type": "stream",
     "text": [
      "12\n"
     ]
    },
    {
     "name": "stdout",
     "output_type": "stream",
     "text": [
      "13\n"
     ]
    },
    {
     "name": "stdout",
     "output_type": "stream",
     "text": [
      "14\n"
     ]
    },
    {
     "name": "stdout",
     "output_type": "stream",
     "text": [
      "15\n"
     ]
    },
    {
     "name": "stdout",
     "output_type": "stream",
     "text": [
      "16\n"
     ]
    },
    {
     "name": "stdout",
     "output_type": "stream",
     "text": [
      "17\n"
     ]
    },
    {
     "name": "stdout",
     "output_type": "stream",
     "text": [
      "18\n"
     ]
    },
    {
     "name": "stdout",
     "output_type": "stream",
     "text": [
      "19\n"
     ]
    },
    {
     "name": "stdout",
     "output_type": "stream",
     "text": [
      "20\n"
     ]
    },
    {
     "name": "stdout",
     "output_type": "stream",
     "text": [
      "21\n"
     ]
    },
    {
     "name": "stdout",
     "output_type": "stream",
     "text": [
      "22\n"
     ]
    },
    {
     "name": "stdout",
     "output_type": "stream",
     "text": [
      "23\n"
     ]
    },
    {
     "name": "stdout",
     "output_type": "stream",
     "text": [
      "24\n"
     ]
    },
    {
     "name": "stdout",
     "output_type": "stream",
     "text": [
      "25\n"
     ]
    },
    {
     "name": "stdout",
     "output_type": "stream",
     "text": [
      "26\n"
     ]
    },
    {
     "name": "stdout",
     "output_type": "stream",
     "text": [
      "27\n"
     ]
    },
    {
     "name": "stdout",
     "output_type": "stream",
     "text": [
      "28\n"
     ]
    },
    {
     "name": "stdout",
     "output_type": "stream",
     "text": [
      "29\n"
     ]
    }
   ],
   "source": [
    "generator = MOBOGenerator(vocs=tnk_vocs, reference_point = {\"y1\":1.5,\"y2\":1.5})\n",
    "generator.n_monte_carlo_samples = N_MC_SAMPLES\n",
    "generator.numerical_optimizer.n_restarts = NUM_RESTARTS\n",
    "\n",
    "X = Xopt(generator=generator, evaluator=evaluator, vocs=tnk_vocs)\n",
    "X.evaluate_data(pd.DataFrame({\"x1\":[1.0, 0.75],\"x2\":[0.75, 1.0]}))\n",
    "\n",
    "for i in range(N_STEPS):\n",
    "    print(i)\n",
    "    X.step()"
   ]
  },
  {
   "cell_type": "code",
   "execution_count": 3,
   "metadata": {
    "collapsed": false,
    "execution": {
     "iopub.execute_input": "2024-04-03T04:01:02.384870Z",
     "iopub.status.busy": "2024-04-03T04:01:02.384415Z",
     "iopub.status.idle": "2024-04-03T04:01:02.402857Z",
     "shell.execute_reply": "2024-04-03T04:01:02.402279Z"
    }
   },
   "outputs": [
    {
     "data": {
      "text/html": [
       "<div>\n",
       "<style scoped>\n",
       "    .dataframe tbody tr th:only-of-type {\n",
       "        vertical-align: middle;\n",
       "    }\n",
       "\n",
       "    .dataframe tbody tr th {\n",
       "        vertical-align: top;\n",
       "    }\n",
       "\n",
       "    .dataframe thead th {\n",
       "        text-align: right;\n",
       "    }\n",
       "</style>\n",
       "<table border=\"1\" class=\"dataframe\">\n",
       "  <thead>\n",
       "    <tr style=\"text-align: right;\">\n",
       "      <th></th>\n",
       "      <th>x1</th>\n",
       "      <th>x2</th>\n",
       "      <th>a</th>\n",
       "      <th>y1</th>\n",
       "      <th>y2</th>\n",
       "      <th>c1</th>\n",
       "      <th>c2</th>\n",
       "      <th>xopt_runtime</th>\n",
       "      <th>xopt_error</th>\n",
       "    </tr>\n",
       "  </thead>\n",
       "  <tbody>\n",
       "    <tr>\n",
       "      <th>0</th>\n",
       "      <td>1.000000</td>\n",
       "      <td>0.750000</td>\n",
       "      <td>dummy_constant</td>\n",
       "      <td>1.000000</td>\n",
       "      <td>0.750000</td>\n",
       "      <td>0.626888</td>\n",
       "      <td>0.312500</td>\n",
       "      <td>0.000037</td>\n",
       "      <td>False</td>\n",
       "    </tr>\n",
       "    <tr>\n",
       "      <th>1</th>\n",
       "      <td>0.750000</td>\n",
       "      <td>1.000000</td>\n",
       "      <td>dummy_constant</td>\n",
       "      <td>0.750000</td>\n",
       "      <td>1.000000</td>\n",
       "      <td>0.626888</td>\n",
       "      <td>0.312500</td>\n",
       "      <td>0.000008</td>\n",
       "      <td>False</td>\n",
       "    </tr>\n",
       "    <tr>\n",
       "      <th>2</th>\n",
       "      <td>0.000000</td>\n",
       "      <td>2.592003</td>\n",
       "      <td>dummy_constant</td>\n",
       "      <td>0.000000</td>\n",
       "      <td>2.592003</td>\n",
       "      <td>5.618482</td>\n",
       "      <td>4.626478</td>\n",
       "      <td>0.000027</td>\n",
       "      <td>False</td>\n",
       "    </tr>\n",
       "    <tr>\n",
       "      <th>3</th>\n",
       "      <td>0.000000</td>\n",
       "      <td>0.000000</td>\n",
       "      <td>dummy_constant</td>\n",
       "      <td>0.000000</td>\n",
       "      <td>0.000000</td>\n",
       "      <td>-1.100000</td>\n",
       "      <td>0.500000</td>\n",
       "      <td>0.000022</td>\n",
       "      <td>False</td>\n",
       "    </tr>\n",
       "    <tr>\n",
       "      <th>4</th>\n",
       "      <td>0.000000</td>\n",
       "      <td>0.452659</td>\n",
       "      <td>dummy_constant</td>\n",
       "      <td>0.000000</td>\n",
       "      <td>0.452659</td>\n",
       "      <td>-0.895099</td>\n",
       "      <td>0.252241</td>\n",
       "      <td>0.000024</td>\n",
       "      <td>False</td>\n",
       "    </tr>\n",
       "    <tr>\n",
       "      <th>5</th>\n",
       "      <td>0.677691</td>\n",
       "      <td>0.000000</td>\n",
       "      <td>dummy_constant</td>\n",
       "      <td>0.677691</td>\n",
       "      <td>0.000000</td>\n",
       "      <td>-0.640735</td>\n",
       "      <td>0.281574</td>\n",
       "      <td>0.000023</td>\n",
       "      <td>False</td>\n",
       "    </tr>\n",
       "    <tr>\n",
       "      <th>6</th>\n",
       "      <td>0.212131</td>\n",
       "      <td>0.897643</td>\n",
       "      <td>dummy_constant</td>\n",
       "      <td>0.212131</td>\n",
       "      <td>0.897643</td>\n",
       "      <td>-0.065123</td>\n",
       "      <td>0.240989</td>\n",
       "      <td>0.000023</td>\n",
       "      <td>False</td>\n",
       "    </tr>\n",
       "    <tr>\n",
       "      <th>7</th>\n",
       "      <td>0.195381</td>\n",
       "      <td>0.967625</td>\n",
       "      <td>dummy_constant</td>\n",
       "      <td>0.195381</td>\n",
       "      <td>0.967625</td>\n",
       "      <td>0.074366</td>\n",
       "      <td>0.311466</td>\n",
       "      <td>0.000025</td>\n",
       "      <td>False</td>\n",
       "    </tr>\n",
       "    <tr>\n",
       "      <th>8</th>\n",
       "      <td>3.141590</td>\n",
       "      <td>0.000000</td>\n",
       "      <td>dummy_constant</td>\n",
       "      <td>3.141590</td>\n",
       "      <td>0.000000</td>\n",
       "      <td>8.769588</td>\n",
       "      <td>7.227998</td>\n",
       "      <td>0.000024</td>\n",
       "      <td>False</td>\n",
       "    </tr>\n",
       "    <tr>\n",
       "      <th>9</th>\n",
       "      <td>0.973472</td>\n",
       "      <td>0.423607</td>\n",
       "      <td>dummy_constant</td>\n",
       "      <td>0.973472</td>\n",
       "      <td>0.423607</td>\n",
       "      <td>0.031091</td>\n",
       "      <td>0.230012</td>\n",
       "      <td>0.000023</td>\n",
       "      <td>False</td>\n",
       "    </tr>\n",
       "    <tr>\n",
       "      <th>10</th>\n",
       "      <td>0.722604</td>\n",
       "      <td>0.794231</td>\n",
       "      <td>dummy_constant</td>\n",
       "      <td>0.722604</td>\n",
       "      <td>0.794231</td>\n",
       "      <td>0.080132</td>\n",
       "      <td>0.136125</td>\n",
       "      <td>0.000023</td>\n",
       "      <td>False</td>\n",
       "    </tr>\n",
       "    <tr>\n",
       "      <th>11</th>\n",
       "      <td>1.044868</td>\n",
       "      <td>0.226768</td>\n",
       "      <td>dummy_constant</td>\n",
       "      <td>1.044868</td>\n",
       "      <td>0.226768</td>\n",
       "      <td>0.239337</td>\n",
       "      <td>0.371537</td>\n",
       "      <td>0.000023</td>\n",
       "      <td>False</td>\n",
       "    </tr>\n",
       "    <tr>\n",
       "      <th>12</th>\n",
       "      <td>0.965028</td>\n",
       "      <td>0.001251</td>\n",
       "      <td>dummy_constant</td>\n",
       "      <td>0.965028</td>\n",
       "      <td>0.001251</td>\n",
       "      <td>-0.168698</td>\n",
       "      <td>0.465001</td>\n",
       "      <td>0.000025</td>\n",
       "      <td>False</td>\n",
       "    </tr>\n",
       "    <tr>\n",
       "      <th>13</th>\n",
       "      <td>0.393657</td>\n",
       "      <td>0.925233</td>\n",
       "      <td>dummy_constant</td>\n",
       "      <td>0.393657</td>\n",
       "      <td>0.925233</td>\n",
       "      <td>-0.087808</td>\n",
       "      <td>0.192132</td>\n",
       "      <td>0.000024</td>\n",
       "      <td>False</td>\n",
       "    </tr>\n",
       "    <tr>\n",
       "      <th>14</th>\n",
       "      <td>1.027685</td>\n",
       "      <td>0.060093</td>\n",
       "      <td>dummy_constant</td>\n",
       "      <td>1.027685</td>\n",
       "      <td>0.060093</td>\n",
       "      <td>0.000329</td>\n",
       "      <td>0.471970</td>\n",
       "      <td>0.000024</td>\n",
       "      <td>False</td>\n",
       "    </tr>\n",
       "    <tr>\n",
       "      <th>15</th>\n",
       "      <td>0.035999</td>\n",
       "      <td>0.962941</td>\n",
       "      <td>dummy_constant</td>\n",
       "      <td>0.035999</td>\n",
       "      <td>0.962941</td>\n",
       "      <td>-0.154102</td>\n",
       "      <td>0.429612</td>\n",
       "      <td>0.000023</td>\n",
       "      <td>False</td>\n",
       "    </tr>\n",
       "    <tr>\n",
       "      <th>16</th>\n",
       "      <td>0.085443</td>\n",
       "      <td>1.028238</td>\n",
       "      <td>dummy_constant</td>\n",
       "      <td>0.085443</td>\n",
       "      <td>1.028238</td>\n",
       "      <td>0.040387</td>\n",
       "      <td>0.450893</td>\n",
       "      <td>0.000026</td>\n",
       "      <td>False</td>\n",
       "    </tr>\n",
       "    <tr>\n",
       "      <th>17</th>\n",
       "      <td>0.856447</td>\n",
       "      <td>0.633862</td>\n",
       "      <td>dummy_constant</td>\n",
       "      <td>0.856447</td>\n",
       "      <td>0.633862</td>\n",
       "      <td>0.207111</td>\n",
       "      <td>0.144973</td>\n",
       "      <td>0.000025</td>\n",
       "      <td>False</td>\n",
       "    </tr>\n",
       "    <tr>\n",
       "      <th>18</th>\n",
       "      <td>0.122781</td>\n",
       "      <td>1.310233</td>\n",
       "      <td>dummy_constant</td>\n",
       "      <td>0.122781</td>\n",
       "      <td>1.310233</td>\n",
       "      <td>0.724212</td>\n",
       "      <td>0.798772</td>\n",
       "      <td>0.000024</td>\n",
       "      <td>False</td>\n",
       "    </tr>\n",
       "    <tr>\n",
       "      <th>19</th>\n",
       "      <td>0.099966</td>\n",
       "      <td>1.062078</td>\n",
       "      <td>dummy_constant</td>\n",
       "      <td>0.099966</td>\n",
       "      <td>1.062078</td>\n",
       "      <td>0.131085</td>\n",
       "      <td>0.475959</td>\n",
       "      <td>0.000026</td>\n",
       "      <td>False</td>\n",
       "    </tr>\n",
       "    <tr>\n",
       "      <th>20</th>\n",
       "      <td>0.466327</td>\n",
       "      <td>0.475940</td>\n",
       "      <td>dummy_constant</td>\n",
       "      <td>0.466327</td>\n",
       "      <td>0.475940</td>\n",
       "      <td>-0.654691</td>\n",
       "      <td>0.001713</td>\n",
       "      <td>0.000025</td>\n",
       "      <td>False</td>\n",
       "    </tr>\n",
       "    <tr>\n",
       "      <th>21</th>\n",
       "      <td>1.050746</td>\n",
       "      <td>0.083761</td>\n",
       "      <td>dummy_constant</td>\n",
       "      <td>1.050746</td>\n",
       "      <td>0.083761</td>\n",
       "      <td>0.081719</td>\n",
       "      <td>0.476577</td>\n",
       "      <td>0.000025</td>\n",
       "      <td>False</td>\n",
       "    </tr>\n",
       "    <tr>\n",
       "      <th>22</th>\n",
       "      <td>0.036562</td>\n",
       "      <td>0.888846</td>\n",
       "      <td>dummy_constant</td>\n",
       "      <td>0.036562</td>\n",
       "      <td>0.888846</td>\n",
       "      <td>-0.287752</td>\n",
       "      <td>0.365975</td>\n",
       "      <td>0.000025</td>\n",
       "      <td>False</td>\n",
       "    </tr>\n",
       "    <tr>\n",
       "      <th>23</th>\n",
       "      <td>1.312115</td>\n",
       "      <td>0.220760</td>\n",
       "      <td>dummy_constant</td>\n",
       "      <td>1.312115</td>\n",
       "      <td>0.220760</td>\n",
       "      <td>0.859328</td>\n",
       "      <td>0.737506</td>\n",
       "      <td>0.000024</td>\n",
       "      <td>False</td>\n",
       "    </tr>\n",
       "    <tr>\n",
       "      <th>24</th>\n",
       "      <td>0.632083</td>\n",
       "      <td>0.446972</td>\n",
       "      <td>dummy_constant</td>\n",
       "      <td>0.632083</td>\n",
       "      <td>0.446972</td>\n",
       "      <td>-0.309511</td>\n",
       "      <td>0.020258</td>\n",
       "      <td>0.000024</td>\n",
       "      <td>False</td>\n",
       "    </tr>\n",
       "    <tr>\n",
       "      <th>25</th>\n",
       "      <td>0.661745</td>\n",
       "      <td>0.617217</td>\n",
       "      <td>dummy_constant</td>\n",
       "      <td>0.661745</td>\n",
       "      <td>0.617217</td>\n",
       "      <td>-0.266029</td>\n",
       "      <td>0.039901</td>\n",
       "      <td>0.000050</td>\n",
       "      <td>False</td>\n",
       "    </tr>\n",
       "    <tr>\n",
       "      <th>26</th>\n",
       "      <td>0.204296</td>\n",
       "      <td>0.462194</td>\n",
       "      <td>dummy_constant</td>\n",
       "      <td>0.204296</td>\n",
       "      <td>0.462194</td>\n",
       "      <td>-0.837658</td>\n",
       "      <td>0.088870</td>\n",
       "      <td>0.000024</td>\n",
       "      <td>False</td>\n",
       "    </tr>\n",
       "    <tr>\n",
       "      <th>27</th>\n",
       "      <td>0.556461</td>\n",
       "      <td>0.874434</td>\n",
       "      <td>dummy_constant</td>\n",
       "      <td>0.556461</td>\n",
       "      <td>0.874434</td>\n",
       "      <td>0.167976</td>\n",
       "      <td>0.143389</td>\n",
       "      <td>0.000025</td>\n",
       "      <td>False</td>\n",
       "    </tr>\n",
       "    <tr>\n",
       "      <th>28</th>\n",
       "      <td>1.333764</td>\n",
       "      <td>0.591745</td>\n",
       "      <td>dummy_constant</td>\n",
       "      <td>1.333764</td>\n",
       "      <td>0.591745</td>\n",
       "      <td>1.036904</td>\n",
       "      <td>0.703579</td>\n",
       "      <td>0.000025</td>\n",
       "      <td>False</td>\n",
       "    </tr>\n",
       "    <tr>\n",
       "      <th>29</th>\n",
       "      <td>0.464024</td>\n",
       "      <td>0.490368</td>\n",
       "      <td>dummy_constant</td>\n",
       "      <td>0.464024</td>\n",
       "      <td>0.490368</td>\n",
       "      <td>-0.634630</td>\n",
       "      <td>0.001387</td>\n",
       "      <td>0.000024</td>\n",
       "      <td>False</td>\n",
       "    </tr>\n",
       "    <tr>\n",
       "      <th>30</th>\n",
       "      <td>0.758443</td>\n",
       "      <td>0.687441</td>\n",
       "      <td>dummy_constant</td>\n",
       "      <td>0.758443</td>\n",
       "      <td>0.687441</td>\n",
       "      <td>-0.022922</td>\n",
       "      <td>0.101927</td>\n",
       "      <td>0.000025</td>\n",
       "      <td>False</td>\n",
       "    </tr>\n",
       "    <tr>\n",
       "      <th>31</th>\n",
       "      <td>0.902195</td>\n",
       "      <td>0.495189</td>\n",
       "      <td>dummy_constant</td>\n",
       "      <td>0.902195</td>\n",
       "      <td>0.495189</td>\n",
       "      <td>0.076839</td>\n",
       "      <td>0.161784</td>\n",
       "      <td>0.000026</td>\n",
       "      <td>False</td>\n",
       "    </tr>\n",
       "  </tbody>\n",
       "</table>\n",
       "</div>"
      ],
      "text/plain": [
       "          x1        x2               a        y1        y2        c1  \\\n",
       "0   1.000000  0.750000  dummy_constant  1.000000  0.750000  0.626888   \n",
       "1   0.750000  1.000000  dummy_constant  0.750000  1.000000  0.626888   \n",
       "2   0.000000  2.592003  dummy_constant  0.000000  2.592003  5.618482   \n",
       "3   0.000000  0.000000  dummy_constant  0.000000  0.000000 -1.100000   \n",
       "4   0.000000  0.452659  dummy_constant  0.000000  0.452659 -0.895099   \n",
       "5   0.677691  0.000000  dummy_constant  0.677691  0.000000 -0.640735   \n",
       "6   0.212131  0.897643  dummy_constant  0.212131  0.897643 -0.065123   \n",
       "7   0.195381  0.967625  dummy_constant  0.195381  0.967625  0.074366   \n",
       "8   3.141590  0.000000  dummy_constant  3.141590  0.000000  8.769588   \n",
       "9   0.973472  0.423607  dummy_constant  0.973472  0.423607  0.031091   \n",
       "10  0.722604  0.794231  dummy_constant  0.722604  0.794231  0.080132   \n",
       "11  1.044868  0.226768  dummy_constant  1.044868  0.226768  0.239337   \n",
       "12  0.965028  0.001251  dummy_constant  0.965028  0.001251 -0.168698   \n",
       "13  0.393657  0.925233  dummy_constant  0.393657  0.925233 -0.087808   \n",
       "14  1.027685  0.060093  dummy_constant  1.027685  0.060093  0.000329   \n",
       "15  0.035999  0.962941  dummy_constant  0.035999  0.962941 -0.154102   \n",
       "16  0.085443  1.028238  dummy_constant  0.085443  1.028238  0.040387   \n",
       "17  0.856447  0.633862  dummy_constant  0.856447  0.633862  0.207111   \n",
       "18  0.122781  1.310233  dummy_constant  0.122781  1.310233  0.724212   \n",
       "19  0.099966  1.062078  dummy_constant  0.099966  1.062078  0.131085   \n",
       "20  0.466327  0.475940  dummy_constant  0.466327  0.475940 -0.654691   \n",
       "21  1.050746  0.083761  dummy_constant  1.050746  0.083761  0.081719   \n",
       "22  0.036562  0.888846  dummy_constant  0.036562  0.888846 -0.287752   \n",
       "23  1.312115  0.220760  dummy_constant  1.312115  0.220760  0.859328   \n",
       "24  0.632083  0.446972  dummy_constant  0.632083  0.446972 -0.309511   \n",
       "25  0.661745  0.617217  dummy_constant  0.661745  0.617217 -0.266029   \n",
       "26  0.204296  0.462194  dummy_constant  0.204296  0.462194 -0.837658   \n",
       "27  0.556461  0.874434  dummy_constant  0.556461  0.874434  0.167976   \n",
       "28  1.333764  0.591745  dummy_constant  1.333764  0.591745  1.036904   \n",
       "29  0.464024  0.490368  dummy_constant  0.464024  0.490368 -0.634630   \n",
       "30  0.758443  0.687441  dummy_constant  0.758443  0.687441 -0.022922   \n",
       "31  0.902195  0.495189  dummy_constant  0.902195  0.495189  0.076839   \n",
       "\n",
       "          c2  xopt_runtime  xopt_error  \n",
       "0   0.312500      0.000037       False  \n",
       "1   0.312500      0.000008       False  \n",
       "2   4.626478      0.000027       False  \n",
       "3   0.500000      0.000022       False  \n",
       "4   0.252241      0.000024       False  \n",
       "5   0.281574      0.000023       False  \n",
       "6   0.240989      0.000023       False  \n",
       "7   0.311466      0.000025       False  \n",
       "8   7.227998      0.000024       False  \n",
       "9   0.230012      0.000023       False  \n",
       "10  0.136125      0.000023       False  \n",
       "11  0.371537      0.000023       False  \n",
       "12  0.465001      0.000025       False  \n",
       "13  0.192132      0.000024       False  \n",
       "14  0.471970      0.000024       False  \n",
       "15  0.429612      0.000023       False  \n",
       "16  0.450893      0.000026       False  \n",
       "17  0.144973      0.000025       False  \n",
       "18  0.798772      0.000024       False  \n",
       "19  0.475959      0.000026       False  \n",
       "20  0.001713      0.000025       False  \n",
       "21  0.476577      0.000025       False  \n",
       "22  0.365975      0.000025       False  \n",
       "23  0.737506      0.000024       False  \n",
       "24  0.020258      0.000024       False  \n",
       "25  0.039901      0.000050       False  \n",
       "26  0.088870      0.000024       False  \n",
       "27  0.143389      0.000025       False  \n",
       "28  0.703579      0.000025       False  \n",
       "29  0.001387      0.000024       False  \n",
       "30  0.101927      0.000025       False  \n",
       "31  0.161784      0.000026       False  "
      ]
     },
     "execution_count": 3,
     "metadata": {},
     "output_type": "execute_result"
    }
   ],
   "source": [
    "X.generator.data"
   ]
  },
  {
   "cell_type": "markdown",
   "metadata": {
    "collapsed": false
   },
   "source": [
    "## plot results\n"
   ]
  },
  {
   "cell_type": "code",
   "execution_count": 4,
   "metadata": {
    "collapsed": false,
    "execution": {
     "iopub.execute_input": "2024-04-03T04:01:02.405308Z",
     "iopub.status.busy": "2024-04-03T04:01:02.404962Z",
     "iopub.status.idle": "2024-04-03T04:01:02.869832Z",
     "shell.execute_reply": "2024-04-03T04:01:02.869221Z"
    }
   },
   "outputs": [
    {
     "data": {
      "image/png": "[encoded data removed]",
      "text/plain": [
       "<Figure size 640x480 with 1 Axes>"
      ]
     },
     "metadata": {},
     "output_type": "display_data"
    }
   ],
   "source": [
    "import matplotlib.pyplot as plt\n",
    "\n",
    "fig, ax = plt.subplots()\n",
    "\n",
    "theta = np.linspace(0, np.pi / 2)\n",
    "r = np.sqrt(1 + 0.1 * np.cos(16 * theta))\n",
    "x_1 = r * np.sin(theta)\n",
    "x_2_lower = r * np.cos(theta)\n",
    "x_2_upper = (0.5 - (x_1 - 0.5) ** 2) ** 0.5 + 0.5\n",
    "\n",
    "z = np.zeros_like(x_1)\n",
    "\n",
    "# ax2.plot(x_1, x_2_lower,'r')\n",
    "ax.fill_between(x_1, z, x_2_lower, fc=\"white\")\n",
    "circle = plt.Circle(\n",
    "    (0.5, 0.5), 0.5 ** 0.5, color=\"r\", alpha=0.25, zorder=0, label=\"Valid Region\"\n",
    ")\n",
    "ax.add_patch(circle)\n",
    "history = pd.concat(\n",
    "    [X.data, tnk_vocs.feasibility_data(X.data)], axis=1, ignore_index=False\n",
    ")\n",
    "\n",
    "\n",
    "ax.plot(*history[[\"x1\", \"x2\"]][history[\"feasible\"]].to_numpy().T, \".C1\")\n",
    "ax.plot(*history[[\"x1\", \"x2\"]][~history[\"feasible\"]].to_numpy().T, \".C2\")\n",
    "\n",
    "ax.set_xlim(0, 3.14)\n",
    "ax.set_ylim(0, 3.14)\n",
    "ax.set_xlabel(\"x1\")\n",
    "ax.set_ylabel(\"x2\")\n",
    "ax.set_aspect(\"equal\")"
   ]
  },
  {
   "cell_type": "markdown",
   "metadata": {
    "collapsed": false
   },
   "source": [
    "### Plot path through input space"
   ]
  },
  {
   "cell_type": "code",
   "execution_count": 5,
   "metadata": {
    "collapsed": false,
    "execution": {
     "iopub.execute_input": "2024-04-03T04:01:02.872209Z",
     "iopub.status.busy": "2024-04-03T04:01:02.871974Z",
     "iopub.status.idle": "2024-04-03T04:01:02.990292Z",
     "shell.execute_reply": "2024-04-03T04:01:02.989656Z"
    }
   },
   "outputs": [
    {
     "data": {
      "image/png": "[encoded data removed]",
      "text/plain": [
       "<Figure size 640x480 with 1 Axes>"
      ]
     },
     "metadata": {},
     "output_type": "display_data"
    }
   ],
   "source": [
    "ax = history.plot(\"x1\", \"x2\")\n",
    "ax.set_ylim(0, 3.14)\n",
    "ax.set_xlim(0, 3.14)\n",
    "ax.set_aspect(\"equal\")"
   ]
  },
  {
   "cell_type": "code",
   "execution_count": 6,
   "metadata": {
    "collapsed": false,
    "execution": {
     "iopub.execute_input": "2024-04-03T04:01:02.992608Z",
     "iopub.status.busy": "2024-04-03T04:01:02.992422Z",
     "iopub.status.idle": "2024-04-03T04:01:14.045097Z",
     "shell.execute_reply": "2024-04-03T04:01:14.044473Z"
    }
   },
   "outputs": [
    {
     "name": "stdout",
     "output_type": "stream",
     "text": [
      "[[0.73492075 0.59036248]]\n"
     ]
    },
    {
     "data": {
      "text/plain": [
       "[<matplotlib.lines.Line2D at 0x7ff2c9b34ac0>]"
      ]
     },
     "execution_count": 6,
     "metadata": {},
     "output_type": "execute_result"
    },
    {
     "data": {
      "image/png": "[encoded data removed]",
      "text/plain": [
       "<Figure size 640x480 with 2 Axes>"
      ]
     },
     "metadata": {},
     "output_type": "display_data"
    },
    {
     "data": {
      "image/png": "[encoded data removed]",
      "text/plain": [
       "<Figure size 640x480 with 2 Axes>"
      ]
     },
     "metadata": {},
     "output_type": "display_data"
    }
   ],
   "source": [
    "# plot the acquisition function\n",
    "from xopt.generators.bayesian.objectives import feasibility\n",
    "\n",
    "bounds = X.generator.vocs.bounds\n",
    "model = X.generator.model\n",
    "\n",
    "# create mesh\n",
    "n = 200\n",
    "x = torch.linspace(*bounds.T[0], n)\n",
    "y = torch.linspace(*bounds.T[1], n)\n",
    "xx, yy = torch.meshgrid(x, y)\n",
    "pts = torch.hstack([ele.reshape(-1, 1) for ele in (xx, yy)]).double()\n",
    "\n",
    "xx, yy = xx.numpy(), yy.numpy()\n",
    "\n",
    "acq_func = X.generator.get_acquisition(model)\n",
    "with torch.no_grad():\n",
    "    acq_pts = pts.unsqueeze(1)\n",
    "    acq = acq_func(acq_pts)\n",
    "\n",
    "    fig, ax = plt.subplots()\n",
    "    c = ax.pcolor(xx, yy, acq.reshape(n, n), cmap=\"Blues\")\n",
    "    fig.colorbar(c)\n",
    "    ax.set_title(\"Acquisition function\")\n",
    "\n",
    "    ax.plot(*history[[\"x1\", \"x2\"]][history[\"feasible\"]].to_numpy().T, \".C1\")\n",
    "    ax.plot(*history[[\"x1\", \"x2\"]][~history[\"feasible\"]].to_numpy().T, \".C2\")\n",
    "\n",
    "    ax.plot(*history[[\"x1\", \"x2\"]].to_numpy()[-1].T, \"+\")\n",
    "\n",
    "    feas = feasibility(pts.unsqueeze(1), model, tnk_vocs).flatten()\n",
    "\n",
    "    fig2, ax2 = plt.subplots()\n",
    "    c = ax2.pcolor(xx, yy, feas.reshape(n, n))\n",
    "    fig2.colorbar(c)\n",
    "    ax2.set_title(\"Feasible Region\")\n",
    "\n",
    "candidate = pd.DataFrame(X.generator.generate(1), index=[0])\n",
    "print(candidate[[\"x1\", \"x2\"]].to_numpy())\n",
    "ax.plot(*candidate[[\"x1\", \"x2\"]].to_numpy()[0], \"o\")"
   ]
  },
  {
   "cell_type": "code",
   "execution_count": 7,
   "metadata": {
    "collapsed": false,
    "execution": {
     "iopub.execute_input": "2024-04-03T04:01:14.047371Z",
     "iopub.status.busy": "2024-04-03T04:01:14.047167Z",
     "iopub.status.idle": "2024-04-03T04:01:14.447104Z",
     "shell.execute_reply": "2024-04-03T04:01:14.446393Z"
    }
   },
   "outputs": [
    {
     "name": "stdout",
     "output_type": "stream",
     "text": [
      "CPU times: user 752 ms, sys: 36 ms, total: 788 ms\n",
      "Wall time: 396 ms\n"
     ]
    }
   ],
   "source": [
    "%%time\n",
    "candidate = X.generator.generate(1)"
   ]
  }
 ],
 "metadata": {
  "interpreter": {
   "hash": "72034539424920dfb606fe3b820b3f27dca0cbf1c69938110810ec4641e275b1"
  },
  "kernelspec": {
   "display_name": "Python 3 (ipykernel)",
   "language": "python",
   "name": "python3"
  },
  "language_info": {
   "codemirror_mode": {
    "name": "ipython",
    "version": 3
   },
   "file_extension": ".py",
   "mimetype": "text/x-python",
   "name": "python",
   "nbconvert_exporter": "python",
   "pygments_lexer": "ipython3",
   "version": "3.9.19"
  }
 },
 "nbformat": 4,
 "nbformat_minor": 4
}
