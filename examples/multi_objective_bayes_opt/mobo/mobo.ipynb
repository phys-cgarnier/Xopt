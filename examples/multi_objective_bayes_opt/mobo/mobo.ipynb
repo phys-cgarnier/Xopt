{
 "cells": [
  {
   "cell_type": "markdown",
   "metadata": {},
   "source": [
    "\n",
    "# Multi-objective Bayesian Optimization\n",
    "\n",
    "\n",
    "TNK function\n",
    "$n=2$ variables:\n",
    "$x_i \\in [0, \\pi], i=1,2$\n",
    "\n",
    "Objectives:\n",
    "- $f_i(x) = x_i$\n",
    "\n",
    "Constraints:\n",
    "- $g_1(x) = -x_1^2 -x_2^2 + 1 + 0.1 \\cos\\left(16 \\arctan \\frac{x_1}{x_2}\\right) \\le 0$\n",
    "- $g_2(x) = (x_1 - 1/2)^2 + (x_2-1/2)^2 \\le 0.5$"
   ]
  },
  {
   "cell_type": "code",
   "execution_count": 1,
   "metadata": {
    "collapsed": false,
    "execution": {
     "iopub.execute_input": "2024-01-30T21:44:04.542986Z",
     "iopub.status.busy": "2024-01-30T21:44:04.542562Z",
     "iopub.status.idle": "2024-01-30T21:44:06.629430Z",
     "shell.execute_reply": "2024-01-30T21:44:06.628771Z"
    }
   },
   "outputs": [
    {
     "name": "stdout",
     "output_type": "stream",
     "text": [
      "{'variables': {'x1': [0.0, 3.14159], 'x2': [0.0, 3.14159]}, 'constraints': {'c1': ['GREATER_THAN', 0.0], 'c2': ['LESS_THAN', 0.5]}, 'objectives': {'y1': 'MINIMIZE', 'y2': 'MINIMIZE'}, 'constants': {'a': 'dummy_constant'}, 'observables': []}\n"
     ]
    }
   ],
   "source": [
    "# set values if testing\n",
    "import os\n",
    "SMOKE_TEST = os.environ.get(\"SMOKE_TEST\")\n",
    "N_MC_SAMPLES = 1 if SMOKE_TEST else 128\n",
    "NUM_RESTARTS = 1 if SMOKE_TEST else 20\n",
    "N_STEPS = 1 if SMOKE_TEST else 30\n",
    "\n",
    "# Ignore all warnings\n",
    "import warnings\n",
    "warnings.filterwarnings(\"ignore\")\n",
    "\n",
    "\n",
    "import pandas as pd\n",
    "import numpy as np\n",
    "import torch\n",
    "\n",
    "from xopt import Xopt, Evaluator\n",
    "from xopt.generators.bayesian import MOBOGenerator\n",
    "from xopt.resources.test_functions.tnk import evaluate_TNK, tnk_vocs\n",
    "\n",
    "\n",
    "evaluator = Evaluator(function=evaluate_TNK)\n",
    "print(tnk_vocs.dict())"
   ]
  },
  {
   "cell_type": "code",
   "execution_count": 2,
   "metadata": {
    "collapsed": false,
    "execution": {
     "iopub.execute_input": "2024-01-30T21:44:06.658667Z",
     "iopub.status.busy": "2024-01-30T21:44:06.658399Z",
     "iopub.status.idle": "2024-01-30T21:44:40.110070Z",
     "shell.execute_reply": "2024-01-30T21:44:40.109400Z"
    }
   },
   "outputs": [
    {
     "name": "stdout",
     "output_type": "stream",
     "text": [
      "0\n"
     ]
    },
    {
     "name": "stdout",
     "output_type": "stream",
     "text": [
      "1\n"
     ]
    },
    {
     "name": "stdout",
     "output_type": "stream",
     "text": [
      "2\n"
     ]
    },
    {
     "name": "stdout",
     "output_type": "stream",
     "text": [
      "3\n"
     ]
    },
    {
     "name": "stdout",
     "output_type": "stream",
     "text": [
      "4\n"
     ]
    },
    {
     "name": "stdout",
     "output_type": "stream",
     "text": [
      "5\n"
     ]
    },
    {
     "name": "stdout",
     "output_type": "stream",
     "text": [
      "6\n"
     ]
    },
    {
     "name": "stdout",
     "output_type": "stream",
     "text": [
      "7\n"
     ]
    },
    {
     "name": "stdout",
     "output_type": "stream",
     "text": [
      "8\n"
     ]
    },
    {
     "name": "stdout",
     "output_type": "stream",
     "text": [
      "9\n"
     ]
    },
    {
     "name": "stdout",
     "output_type": "stream",
     "text": [
      "10\n"
     ]
    },
    {
     "name": "stdout",
     "output_type": "stream",
     "text": [
      "11\n"
     ]
    },
    {
     "name": "stdout",
     "output_type": "stream",
     "text": [
      "12\n"
     ]
    },
    {
     "name": "stdout",
     "output_type": "stream",
     "text": [
      "13\n"
     ]
    },
    {
     "name": "stdout",
     "output_type": "stream",
     "text": [
      "14\n"
     ]
    },
    {
     "name": "stdout",
     "output_type": "stream",
     "text": [
      "15\n"
     ]
    },
    {
     "name": "stdout",
     "output_type": "stream",
     "text": [
      "16\n"
     ]
    },
    {
     "name": "stdout",
     "output_type": "stream",
     "text": [
      "17\n"
     ]
    },
    {
     "name": "stdout",
     "output_type": "stream",
     "text": [
      "18\n"
     ]
    },
    {
     "name": "stdout",
     "output_type": "stream",
     "text": [
      "19\n"
     ]
    },
    {
     "name": "stdout",
     "output_type": "stream",
     "text": [
      "20\n"
     ]
    },
    {
     "name": "stdout",
     "output_type": "stream",
     "text": [
      "21\n"
     ]
    },
    {
     "name": "stdout",
     "output_type": "stream",
     "text": [
      "22\n"
     ]
    },
    {
     "name": "stdout",
     "output_type": "stream",
     "text": [
      "23\n"
     ]
    },
    {
     "name": "stdout",
     "output_type": "stream",
     "text": [
      "24\n"
     ]
    },
    {
     "name": "stdout",
     "output_type": "stream",
     "text": [
      "25\n"
     ]
    },
    {
     "name": "stdout",
     "output_type": "stream",
     "text": [
      "26\n"
     ]
    },
    {
     "name": "stdout",
     "output_type": "stream",
     "text": [
      "27\n"
     ]
    },
    {
     "name": "stdout",
     "output_type": "stream",
     "text": [
      "28\n"
     ]
    },
    {
     "name": "stdout",
     "output_type": "stream",
     "text": [
      "29\n"
     ]
    }
   ],
   "source": [
    "generator = MOBOGenerator(vocs=tnk_vocs, reference_point = {\"y1\":1.5,\"y2\":1.5})\n",
    "generator.n_monte_carlo_samples = N_MC_SAMPLES\n",
    "generator.numerical_optimizer.n_restarts = NUM_RESTARTS\n",
    "\n",
    "X = Xopt(generator=generator, evaluator=evaluator, vocs=tnk_vocs)\n",
    "X.evaluate_data(pd.DataFrame({\"x1\":[1.0, 0.75],\"x2\":[0.75, 1.0]}))\n",
    "\n",
    "for i in range(N_STEPS):\n",
    "    print(i)\n",
    "    X.step()"
   ]
  },
  {
   "cell_type": "code",
   "execution_count": 3,
   "metadata": {
    "collapsed": false,
    "execution": {
     "iopub.execute_input": "2024-01-30T21:44:40.112880Z",
     "iopub.status.busy": "2024-01-30T21:44:40.112515Z",
     "iopub.status.idle": "2024-01-30T21:44:40.127859Z",
     "shell.execute_reply": "2024-01-30T21:44:40.127305Z"
    }
   },
   "outputs": [
    {
     "data": {
      "text/html": [
       "<div>\n",
       "<style scoped>\n",
       "    .dataframe tbody tr th:only-of-type {\n",
       "        vertical-align: middle;\n",
       "    }\n",
       "\n",
       "    .dataframe tbody tr th {\n",
       "        vertical-align: top;\n",
       "    }\n",
       "\n",
       "    .dataframe thead th {\n",
       "        text-align: right;\n",
       "    }\n",
       "</style>\n",
       "<table border=\"1\" class=\"dataframe\">\n",
       "  <thead>\n",
       "    <tr style=\"text-align: right;\">\n",
       "      <th></th>\n",
       "      <th>x1</th>\n",
       "      <th>x2</th>\n",
       "      <th>a</th>\n",
       "      <th>y1</th>\n",
       "      <th>y2</th>\n",
       "      <th>c1</th>\n",
       "      <th>c2</th>\n",
       "      <th>xopt_runtime</th>\n",
       "      <th>xopt_error</th>\n",
       "    </tr>\n",
       "  </thead>\n",
       "  <tbody>\n",
       "    <tr>\n",
       "      <th>0</th>\n",
       "      <td>1.000000</td>\n",
       "      <td>0.750000</td>\n",
       "      <td>dummy_constant</td>\n",
       "      <td>1.000000</td>\n",
       "      <td>0.750000</td>\n",
       "      <td>0.626888</td>\n",
       "      <td>0.312500</td>\n",
       "      <td>0.000043</td>\n",
       "      <td>False</td>\n",
       "    </tr>\n",
       "    <tr>\n",
       "      <th>1</th>\n",
       "      <td>0.750000</td>\n",
       "      <td>1.000000</td>\n",
       "      <td>dummy_constant</td>\n",
       "      <td>0.750000</td>\n",
       "      <td>1.000000</td>\n",
       "      <td>0.626888</td>\n",
       "      <td>0.312500</td>\n",
       "      <td>0.000012</td>\n",
       "      <td>False</td>\n",
       "    </tr>\n",
       "    <tr>\n",
       "      <th>2</th>\n",
       "      <td>1.829984</td>\n",
       "      <td>1.750049</td>\n",
       "      <td>dummy_constant</td>\n",
       "      <td>1.829984</td>\n",
       "      <td>1.750049</td>\n",
       "      <td>5.317824</td>\n",
       "      <td>3.331480</td>\n",
       "      <td>0.000022</td>\n",
       "      <td>False</td>\n",
       "    </tr>\n",
       "    <tr>\n",
       "      <th>3</th>\n",
       "      <td>0.375253</td>\n",
       "      <td>0.346535</td>\n",
       "      <td>dummy_constant</td>\n",
       "      <td>0.375253</td>\n",
       "      <td>0.346535</td>\n",
       "      <td>-0.819530</td>\n",
       "      <td>0.039113</td>\n",
       "      <td>0.000022</td>\n",
       "      <td>False</td>\n",
       "    </tr>\n",
       "    <tr>\n",
       "      <th>4</th>\n",
       "      <td>0.103883</td>\n",
       "      <td>0.000000</td>\n",
       "      <td>dummy_constant</td>\n",
       "      <td>0.103883</td>\n",
       "      <td>0.000000</td>\n",
       "      <td>-1.089208</td>\n",
       "      <td>0.406909</td>\n",
       "      <td>0.000023</td>\n",
       "      <td>False</td>\n",
       "    </tr>\n",
       "    <tr>\n",
       "      <th>5</th>\n",
       "      <td>0.000000</td>\n",
       "      <td>0.648508</td>\n",
       "      <td>dummy_constant</td>\n",
       "      <td>0.000000</td>\n",
       "      <td>0.648508</td>\n",
       "      <td>-0.679438</td>\n",
       "      <td>0.272055</td>\n",
       "      <td>0.000023</td>\n",
       "      <td>False</td>\n",
       "    </tr>\n",
       "    <tr>\n",
       "      <th>6</th>\n",
       "      <td>0.555931</td>\n",
       "      <td>0.932235</td>\n",
       "      <td>dummy_constant</td>\n",
       "      <td>0.555931</td>\n",
       "      <td>0.932235</td>\n",
       "      <td>0.246259</td>\n",
       "      <td>0.189955</td>\n",
       "      <td>0.000023</td>\n",
       "      <td>False</td>\n",
       "    </tr>\n",
       "    <tr>\n",
       "      <th>7</th>\n",
       "      <td>1.015643</td>\n",
       "      <td>0.479977</td>\n",
       "      <td>dummy_constant</td>\n",
       "      <td>1.015643</td>\n",
       "      <td>0.479977</td>\n",
       "      <td>0.190848</td>\n",
       "      <td>0.266289</td>\n",
       "      <td>0.000022</td>\n",
       "      <td>False</td>\n",
       "    </tr>\n",
       "    <tr>\n",
       "      <th>8</th>\n",
       "      <td>0.251140</td>\n",
       "      <td>1.030108</td>\n",
       "      <td>dummy_constant</td>\n",
       "      <td>0.251140</td>\n",
       "      <td>1.030108</td>\n",
       "      <td>0.201664</td>\n",
       "      <td>0.342946</td>\n",
       "      <td>0.000023</td>\n",
       "      <td>False</td>\n",
       "    </tr>\n",
       "    <tr>\n",
       "      <th>9</th>\n",
       "      <td>0.101475</td>\n",
       "      <td>1.021123</td>\n",
       "      <td>dummy_constant</td>\n",
       "      <td>0.101475</td>\n",
       "      <td>1.021123</td>\n",
       "      <td>0.054390</td>\n",
       "      <td>0.430391</td>\n",
       "      <td>0.000024</td>\n",
       "      <td>False</td>\n",
       "    </tr>\n",
       "    <tr>\n",
       "      <th>10</th>\n",
       "      <td>1.179710</td>\n",
       "      <td>0.107869</td>\n",
       "      <td>dummy_constant</td>\n",
       "      <td>1.179710</td>\n",
       "      <td>0.107869</td>\n",
       "      <td>0.392187</td>\n",
       "      <td>0.615772</td>\n",
       "      <td>0.000044</td>\n",
       "      <td>False</td>\n",
       "    </tr>\n",
       "    <tr>\n",
       "      <th>11</th>\n",
       "      <td>1.072800</td>\n",
       "      <td>0.168525</td>\n",
       "      <td>dummy_constant</td>\n",
       "      <td>1.072800</td>\n",
       "      <td>0.168525</td>\n",
       "      <td>0.258998</td>\n",
       "      <td>0.437975</td>\n",
       "      <td>0.000023</td>\n",
       "      <td>False</td>\n",
       "    </tr>\n",
       "    <tr>\n",
       "      <th>12</th>\n",
       "      <td>0.778195</td>\n",
       "      <td>0.694685</td>\n",
       "      <td>dummy_constant</td>\n",
       "      <td>0.778195</td>\n",
       "      <td>0.694685</td>\n",
       "      <td>0.026500</td>\n",
       "      <td>0.115295</td>\n",
       "      <td>0.000024</td>\n",
       "      <td>False</td>\n",
       "    </tr>\n",
       "    <tr>\n",
       "      <th>13</th>\n",
       "      <td>0.119326</td>\n",
       "      <td>0.660569</td>\n",
       "      <td>dummy_constant</td>\n",
       "      <td>0.119326</td>\n",
       "      <td>0.660569</td>\n",
       "      <td>-0.453365</td>\n",
       "      <td>0.170695</td>\n",
       "      <td>0.000023</td>\n",
       "      <td>False</td>\n",
       "    </tr>\n",
       "    <tr>\n",
       "      <th>14</th>\n",
       "      <td>0.979054</td>\n",
       "      <td>0.311088</td>\n",
       "      <td>dummy_constant</td>\n",
       "      <td>0.979054</td>\n",
       "      <td>0.311088</td>\n",
       "      <td>0.034468</td>\n",
       "      <td>0.265181</td>\n",
       "      <td>0.000024</td>\n",
       "      <td>False</td>\n",
       "    </tr>\n",
       "    <tr>\n",
       "      <th>15</th>\n",
       "      <td>0.890459</td>\n",
       "      <td>0.558639</td>\n",
       "      <td>dummy_constant</td>\n",
       "      <td>0.890459</td>\n",
       "      <td>0.558639</td>\n",
       "      <td>0.194597</td>\n",
       "      <td>0.155897</td>\n",
       "      <td>0.000022</td>\n",
       "      <td>False</td>\n",
       "    </tr>\n",
       "    <tr>\n",
       "      <th>16</th>\n",
       "      <td>0.602546</td>\n",
       "      <td>0.821534</td>\n",
       "      <td>dummy_constant</td>\n",
       "      <td>0.602546</td>\n",
       "      <td>0.821534</td>\n",
       "      <td>0.114445</td>\n",
       "      <td>0.113900</td>\n",
       "      <td>0.000025</td>\n",
       "      <td>False</td>\n",
       "    </tr>\n",
       "    <tr>\n",
       "      <th>17</th>\n",
       "      <td>0.943414</td>\n",
       "      <td>1.617909</td>\n",
       "      <td>dummy_constant</td>\n",
       "      <td>0.943414</td>\n",
       "      <td>1.617909</td>\n",
       "      <td>2.563504</td>\n",
       "      <td>1.446337</td>\n",
       "      <td>0.000023</td>\n",
       "      <td>False</td>\n",
       "    </tr>\n",
       "    <tr>\n",
       "      <th>18</th>\n",
       "      <td>0.340560</td>\n",
       "      <td>0.914325</td>\n",
       "      <td>dummy_constant</td>\n",
       "      <td>0.340560</td>\n",
       "      <td>0.914325</td>\n",
       "      <td>-0.131764</td>\n",
       "      <td>0.197087</td>\n",
       "      <td>0.000024</td>\n",
       "      <td>False</td>\n",
       "    </tr>\n",
       "    <tr>\n",
       "      <th>19</th>\n",
       "      <td>0.038598</td>\n",
       "      <td>1.025074</td>\n",
       "      <td>dummy_constant</td>\n",
       "      <td>0.038598</td>\n",
       "      <td>1.025074</td>\n",
       "      <td>-0.030145</td>\n",
       "      <td>0.488594</td>\n",
       "      <td>0.000024</td>\n",
       "      <td>False</td>\n",
       "    </tr>\n",
       "    <tr>\n",
       "      <th>20</th>\n",
       "      <td>1.221049</td>\n",
       "      <td>0.140207</td>\n",
       "      <td>dummy_constant</td>\n",
       "      <td>1.221049</td>\n",
       "      <td>0.140207</td>\n",
       "      <td>0.536171</td>\n",
       "      <td>0.649363</td>\n",
       "      <td>0.000024</td>\n",
       "      <td>False</td>\n",
       "    </tr>\n",
       "    <tr>\n",
       "      <th>21</th>\n",
       "      <td>0.541256</td>\n",
       "      <td>0.475771</td>\n",
       "      <td>dummy_constant</td>\n",
       "      <td>0.541256</td>\n",
       "      <td>0.475771</td>\n",
       "      <td>-0.532269</td>\n",
       "      <td>0.002289</td>\n",
       "      <td>0.000024</td>\n",
       "      <td>False</td>\n",
       "    </tr>\n",
       "    <tr>\n",
       "      <th>22</th>\n",
       "      <td>1.018993</td>\n",
       "      <td>0.047510</td>\n",
       "      <td>dummy_constant</td>\n",
       "      <td>1.018993</td>\n",
       "      <td>0.047510</td>\n",
       "      <td>-0.032875</td>\n",
       "      <td>0.474101</td>\n",
       "      <td>0.000030</td>\n",
       "      <td>False</td>\n",
       "    </tr>\n",
       "    <tr>\n",
       "      <th>23</th>\n",
       "      <td>0.726247</td>\n",
       "      <td>0.183708</td>\n",
       "      <td>dummy_constant</td>\n",
       "      <td>0.726247</td>\n",
       "      <td>0.183708</td>\n",
       "      <td>-0.370780</td>\n",
       "      <td>0.151228</td>\n",
       "      <td>0.000024</td>\n",
       "      <td>False</td>\n",
       "    </tr>\n",
       "    <tr>\n",
       "      <th>24</th>\n",
       "      <td>0.300364</td>\n",
       "      <td>0.497265</td>\n",
       "      <td>dummy_constant</td>\n",
       "      <td>0.300364</td>\n",
       "      <td>0.497265</td>\n",
       "      <td>-0.588039</td>\n",
       "      <td>0.039862</td>\n",
       "      <td>0.000024</td>\n",
       "      <td>False</td>\n",
       "    </tr>\n",
       "    <tr>\n",
       "      <th>25</th>\n",
       "      <td>0.144063</td>\n",
       "      <td>0.916831</td>\n",
       "      <td>dummy_constant</td>\n",
       "      <td>0.144063</td>\n",
       "      <td>0.916831</td>\n",
       "      <td>-0.058930</td>\n",
       "      <td>0.300440</td>\n",
       "      <td>0.000025</td>\n",
       "      <td>False</td>\n",
       "    </tr>\n",
       "    <tr>\n",
       "      <th>26</th>\n",
       "      <td>0.229266</td>\n",
       "      <td>0.980606</td>\n",
       "      <td>dummy_constant</td>\n",
       "      <td>0.229266</td>\n",
       "      <td>0.980606</td>\n",
       "      <td>0.100270</td>\n",
       "      <td>0.304279</td>\n",
       "      <td>0.000025</td>\n",
       "      <td>False</td>\n",
       "    </tr>\n",
       "    <tr>\n",
       "      <th>27</th>\n",
       "      <td>1.228119</td>\n",
       "      <td>0.162011</td>\n",
       "      <td>dummy_constant</td>\n",
       "      <td>1.228119</td>\n",
       "      <td>0.162011</td>\n",
       "      <td>0.584884</td>\n",
       "      <td>0.644393</td>\n",
       "      <td>0.000024</td>\n",
       "      <td>False</td>\n",
       "    </tr>\n",
       "    <tr>\n",
       "      <th>28</th>\n",
       "      <td>1.041206</td>\n",
       "      <td>0.055223</td>\n",
       "      <td>dummy_constant</td>\n",
       "      <td>1.041206</td>\n",
       "      <td>0.055223</td>\n",
       "      <td>0.020997</td>\n",
       "      <td>0.490730</td>\n",
       "      <td>0.000026</td>\n",
       "      <td>False</td>\n",
       "    </tr>\n",
       "    <tr>\n",
       "      <th>29</th>\n",
       "      <td>0.580519</td>\n",
       "      <td>0.179574</td>\n",
       "      <td>dummy_constant</td>\n",
       "      <td>0.580519</td>\n",
       "      <td>0.179574</td>\n",
       "      <td>-0.639498</td>\n",
       "      <td>0.109156</td>\n",
       "      <td>0.000024</td>\n",
       "      <td>False</td>\n",
       "    </tr>\n",
       "    <tr>\n",
       "      <th>30</th>\n",
       "      <td>1.153183</td>\n",
       "      <td>0.098004</td>\n",
       "      <td>dummy_constant</td>\n",
       "      <td>1.153183</td>\n",
       "      <td>0.098004</td>\n",
       "      <td>0.318170</td>\n",
       "      <td>0.588248</td>\n",
       "      <td>0.000024</td>\n",
       "      <td>False</td>\n",
       "    </tr>\n",
       "    <tr>\n",
       "      <th>31</th>\n",
       "      <td>2.006572</td>\n",
       "      <td>1.137440</td>\n",
       "      <td>dummy_constant</td>\n",
       "      <td>2.006572</td>\n",
       "      <td>1.137440</td>\n",
       "      <td>4.358776</td>\n",
       "      <td>2.676088</td>\n",
       "      <td>0.000025</td>\n",
       "      <td>False</td>\n",
       "    </tr>\n",
       "  </tbody>\n",
       "</table>\n",
       "</div>"
      ],
      "text/plain": [
       "          x1        x2               a        y1        y2        c1  \\\n",
       "0   1.000000  0.750000  dummy_constant  1.000000  0.750000  0.626888   \n",
       "1   0.750000  1.000000  dummy_constant  0.750000  1.000000  0.626888   \n",
       "2   1.829984  1.750049  dummy_constant  1.829984  1.750049  5.317824   \n",
       "3   0.375253  0.346535  dummy_constant  0.375253  0.346535 -0.819530   \n",
       "4   0.103883  0.000000  dummy_constant  0.103883  0.000000 -1.089208   \n",
       "5   0.000000  0.648508  dummy_constant  0.000000  0.648508 -0.679438   \n",
       "6   0.555931  0.932235  dummy_constant  0.555931  0.932235  0.246259   \n",
       "7   1.015643  0.479977  dummy_constant  1.015643  0.479977  0.190848   \n",
       "8   0.251140  1.030108  dummy_constant  0.251140  1.030108  0.201664   \n",
       "9   0.101475  1.021123  dummy_constant  0.101475  1.021123  0.054390   \n",
       "10  1.179710  0.107869  dummy_constant  1.179710  0.107869  0.392187   \n",
       "11  1.072800  0.168525  dummy_constant  1.072800  0.168525  0.258998   \n",
       "12  0.778195  0.694685  dummy_constant  0.778195  0.694685  0.026500   \n",
       "13  0.119326  0.660569  dummy_constant  0.119326  0.660569 -0.453365   \n",
       "14  0.979054  0.311088  dummy_constant  0.979054  0.311088  0.034468   \n",
       "15  0.890459  0.558639  dummy_constant  0.890459  0.558639  0.194597   \n",
       "16  0.602546  0.821534  dummy_constant  0.602546  0.821534  0.114445   \n",
       "17  0.943414  1.617909  dummy_constant  0.943414  1.617909  2.563504   \n",
       "18  0.340560  0.914325  dummy_constant  0.340560  0.914325 -0.131764   \n",
       "19  0.038598  1.025074  dummy_constant  0.038598  1.025074 -0.030145   \n",
       "20  1.221049  0.140207  dummy_constant  1.221049  0.140207  0.536171   \n",
       "21  0.541256  0.475771  dummy_constant  0.541256  0.475771 -0.532269   \n",
       "22  1.018993  0.047510  dummy_constant  1.018993  0.047510 -0.032875   \n",
       "23  0.726247  0.183708  dummy_constant  0.726247  0.183708 -0.370780   \n",
       "24  0.300364  0.497265  dummy_constant  0.300364  0.497265 -0.588039   \n",
       "25  0.144063  0.916831  dummy_constant  0.144063  0.916831 -0.058930   \n",
       "26  0.229266  0.980606  dummy_constant  0.229266  0.980606  0.100270   \n",
       "27  1.228119  0.162011  dummy_constant  1.228119  0.162011  0.584884   \n",
       "28  1.041206  0.055223  dummy_constant  1.041206  0.055223  0.020997   \n",
       "29  0.580519  0.179574  dummy_constant  0.580519  0.179574 -0.639498   \n",
       "30  1.153183  0.098004  dummy_constant  1.153183  0.098004  0.318170   \n",
       "31  2.006572  1.137440  dummy_constant  2.006572  1.137440  4.358776   \n",
       "\n",
       "          c2  xopt_runtime  xopt_error  \n",
       "0   0.312500      0.000043       False  \n",
       "1   0.312500      0.000012       False  \n",
       "2   3.331480      0.000022       False  \n",
       "3   0.039113      0.000022       False  \n",
       "4   0.406909      0.000023       False  \n",
       "5   0.272055      0.000023       False  \n",
       "6   0.189955      0.000023       False  \n",
       "7   0.266289      0.000022       False  \n",
       "8   0.342946      0.000023       False  \n",
       "9   0.430391      0.000024       False  \n",
       "10  0.615772      0.000044       False  \n",
       "11  0.437975      0.000023       False  \n",
       "12  0.115295      0.000024       False  \n",
       "13  0.170695      0.000023       False  \n",
       "14  0.265181      0.000024       False  \n",
       "15  0.155897      0.000022       False  \n",
       "16  0.113900      0.000025       False  \n",
       "17  1.446337      0.000023       False  \n",
       "18  0.197087      0.000024       False  \n",
       "19  0.488594      0.000024       False  \n",
       "20  0.649363      0.000024       False  \n",
       "21  0.002289      0.000024       False  \n",
       "22  0.474101      0.000030       False  \n",
       "23  0.151228      0.000024       False  \n",
       "24  0.039862      0.000024       False  \n",
       "25  0.300440      0.000025       False  \n",
       "26  0.304279      0.000025       False  \n",
       "27  0.644393      0.000024       False  \n",
       "28  0.490730      0.000026       False  \n",
       "29  0.109156      0.000024       False  \n",
       "30  0.588248      0.000024       False  \n",
       "31  2.676088      0.000025       False  "
      ]
     },
     "execution_count": 3,
     "metadata": {},
     "output_type": "execute_result"
    }
   ],
   "source": [
    "X.generator.data"
   ]
  },
  {
   "cell_type": "markdown",
   "metadata": {
    "collapsed": false
   },
   "source": [
    "## plot results\n"
   ]
  },
  {
   "cell_type": "code",
   "execution_count": 4,
   "metadata": {
    "collapsed": false,
    "execution": {
     "iopub.execute_input": "2024-01-30T21:44:40.130301Z",
     "iopub.status.busy": "2024-01-30T21:44:40.129911Z",
     "iopub.status.idle": "2024-01-30T21:44:40.597242Z",
     "shell.execute_reply": "2024-01-30T21:44:40.596688Z"
    }
   },
   "outputs": [
    {
     "data": {
      "image/png": "[encoded data removed]",
      "text/plain": [
       "<Figure size 640x480 with 1 Axes>"
      ]
     },
     "metadata": {},
     "output_type": "display_data"
    }
   ],
   "source": [
    "import matplotlib.pyplot as plt\n",
    "\n",
    "fig, ax = plt.subplots()\n",
    "\n",
    "theta = np.linspace(0, np.pi / 2)\n",
    "r = np.sqrt(1 + 0.1 * np.cos(16 * theta))\n",
    "x_1 = r * np.sin(theta)\n",
    "x_2_lower = r * np.cos(theta)\n",
    "x_2_upper = (0.5 - (x_1 - 0.5) ** 2) ** 0.5 + 0.5\n",
    "\n",
    "z = np.zeros_like(x_1)\n",
    "\n",
    "# ax2.plot(x_1, x_2_lower,'r')\n",
    "ax.fill_between(x_1, z, x_2_lower, fc=\"white\")\n",
    "circle = plt.Circle(\n",
    "    (0.5, 0.5), 0.5 ** 0.5, color=\"r\", alpha=0.25, zorder=0, label=\"Valid Region\"\n",
    ")\n",
    "ax.add_patch(circle)\n",
    "history = pd.concat(\n",
    "    [X.data, tnk_vocs.feasibility_data(X.data)], axis=1, ignore_index=False\n",
    ")\n",
    "\n",
    "\n",
    "ax.plot(*history[[\"x1\", \"x2\"]][history[\"feasible\"]].to_numpy().T, \".C1\")\n",
    "ax.plot(*history[[\"x1\", \"x2\"]][~history[\"feasible\"]].to_numpy().T, \".C2\")\n",
    "\n",
    "ax.set_xlim(0, 3.14)\n",
    "ax.set_ylim(0, 3.14)\n",
    "ax.set_xlabel(\"x1\")\n",
    "ax.set_ylabel(\"x2\")\n",
    "ax.set_aspect(\"equal\")"
   ]
  },
  {
   "cell_type": "markdown",
   "metadata": {
    "collapsed": false
   },
   "source": [
    "### Plot path through input space"
   ]
  },
  {
   "cell_type": "code",
   "execution_count": 5,
   "metadata": {
    "collapsed": false,
    "execution": {
     "iopub.execute_input": "2024-01-30T21:44:40.599857Z",
     "iopub.status.busy": "2024-01-30T21:44:40.599397Z",
     "iopub.status.idle": "2024-01-30T21:44:40.719645Z",
     "shell.execute_reply": "2024-01-30T21:44:40.719124Z"
    }
   },
   "outputs": [
    {
     "data": {
      "image/png": "[encoded data removed]",
      "text/plain": [
       "<Figure size 640x480 with 1 Axes>"
      ]
     },
     "metadata": {},
     "output_type": "display_data"
    }
   ],
   "source": [
    "ax = history.plot(\"x1\", \"x2\")\n",
    "ax.set_ylim(0, 3.14)\n",
    "ax.set_xlim(0, 3.14)\n",
    "ax.set_aspect(\"equal\")"
   ]
  },
  {
   "cell_type": "code",
   "execution_count": 6,
   "metadata": {
    "collapsed": false,
    "execution": {
     "iopub.execute_input": "2024-01-30T21:44:40.721935Z",
     "iopub.status.busy": "2024-01-30T21:44:40.721600Z",
     "iopub.status.idle": "2024-01-30T21:44:51.778708Z",
     "shell.execute_reply": "2024-01-30T21:44:51.778192Z"
    }
   },
   "outputs": [
    {
     "name": "stdout",
     "output_type": "stream",
     "text": [
      "[[0.46651695 0.87699564]]\n"
     ]
    },
    {
     "data": {
      "text/plain": [
       "[<matplotlib.lines.Line2D at 0x7fe4bd717d60>]"
      ]
     },
     "execution_count": 6,
     "metadata": {},
     "output_type": "execute_result"
    },
    {
     "data": {
      "image/png": "[encoded data removed]",
      "text/plain": [
       "<Figure size 640x480 with 2 Axes>"
      ]
     },
     "metadata": {},
     "output_type": "display_data"
    },
    {
     "data": {
      "image/png": "[encoded data removed]",
      "text/plain": [
       "<Figure size 640x480 with 2 Axes>"
      ]
     },
     "metadata": {},
     "output_type": "display_data"
    }
   ],
   "source": [
    "# plot the acquisition function\n",
    "from xopt.generators.bayesian.objectives import feasibility\n",
    "\n",
    "bounds = X.generator.vocs.bounds\n",
    "model = X.generator.model\n",
    "\n",
    "# create mesh\n",
    "n = 200\n",
    "x = torch.linspace(*bounds.T[0], n)\n",
    "y = torch.linspace(*bounds.T[1], n)\n",
    "xx, yy = torch.meshgrid(x, y)\n",
    "pts = torch.hstack([ele.reshape(-1, 1) for ele in (xx, yy)]).double()\n",
    "\n",
    "xx, yy = xx.numpy(), yy.numpy()\n",
    "\n",
    "acq_func = X.generator.get_acquisition(model)\n",
    "with torch.no_grad():\n",
    "    acq_pts = pts.unsqueeze(1)\n",
    "    acq = acq_func(acq_pts)\n",
    "\n",
    "    fig, ax = plt.subplots()\n",
    "    c = ax.pcolor(xx, yy, acq.reshape(n, n), cmap=\"Blues\")\n",
    "    fig.colorbar(c)\n",
    "    ax.set_title(\"Acquisition function\")\n",
    "\n",
    "    ax.plot(*history[[\"x1\", \"x2\"]][history[\"feasible\"]].to_numpy().T, \".C1\")\n",
    "    ax.plot(*history[[\"x1\", \"x2\"]][~history[\"feasible\"]].to_numpy().T, \".C2\")\n",
    "\n",
    "    ax.plot(*history[[\"x1\", \"x2\"]].to_numpy()[-1].T, \"+\")\n",
    "\n",
    "    feas = feasibility(pts.unsqueeze(1), model, tnk_vocs).flatten()\n",
    "\n",
    "    fig2, ax2 = plt.subplots()\n",
    "    c = ax2.pcolor(xx, yy, feas.reshape(n, n))\n",
    "    fig2.colorbar(c)\n",
    "    ax2.set_title(\"Feasible Region\")\n",
    "\n",
    "candidate = pd.DataFrame(X.generator.generate(1), index=[0])\n",
    "print(candidate[[\"x1\", \"x2\"]].to_numpy())\n",
    "ax.plot(*candidate[[\"x1\", \"x2\"]].to_numpy()[0], \"o\")"
   ]
  },
  {
   "cell_type": "code",
   "execution_count": 7,
   "metadata": {
    "collapsed": false,
    "execution": {
     "iopub.execute_input": "2024-01-30T21:44:51.780873Z",
     "iopub.status.busy": "2024-01-30T21:44:51.780674Z",
     "iopub.status.idle": "2024-01-30T21:44:52.382732Z",
     "shell.execute_reply": "2024-01-30T21:44:52.382107Z"
    }
   },
   "outputs": [
    {
     "name": "stdout",
     "output_type": "stream",
     "text": [
      "CPU times: user 1.16 s, sys: 36.1 ms, total: 1.19 s\n",
      "Wall time: 598 ms\n"
     ]
    }
   ],
   "source": [
    "%%time\n",
    "candidate = X.generator.generate(1)"
   ]
  }
 ],
 "metadata": {
  "interpreter": {
   "hash": "72034539424920dfb606fe3b820b3f27dca0cbf1c69938110810ec4641e275b1"
  },
  "kernelspec": {
   "display_name": "Python 3 (ipykernel)",
   "language": "python",
   "name": "python3"
  },
  "language_info": {
   "codemirror_mode": {
    "name": "ipython",
    "version": 3
   },
   "file_extension": ".py",
   "mimetype": "text/x-python",
   "name": "python",
   "nbconvert_exporter": "python",
   "pygments_lexer": "ipython3",
   "version": "3.9.18"
  }
 },
 "nbformat": 4,
 "nbformat_minor": 4
}
