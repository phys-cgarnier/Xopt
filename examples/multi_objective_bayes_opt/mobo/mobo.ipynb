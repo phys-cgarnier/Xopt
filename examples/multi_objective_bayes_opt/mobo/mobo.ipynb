{
 "cells": [
  {
   "cell_type": "markdown",
   "metadata": {},
   "source": [
    "\n",
    "# Multi-objective Bayesian Optimization\n",
    "\n",
    "\n",
    "TNK function\n",
    "$n=2$ variables:\n",
    "$x_i \\in [0, \\pi], i=1,2$\n",
    "\n",
    "Objectives:\n",
    "- $f_i(x) = x_i$\n",
    "\n",
    "Constraints:\n",
    "- $g_1(x) = -x_1^2 -x_2^2 + 1 + 0.1 \\cos\\left(16 \\arctan \\frac{x_1}{x_2}\\right) \\le 0$\n",
    "- $g_2(x) = (x_1 - 1/2)^2 + (x_2-1/2)^2 \\le 0.5$"
   ]
  },
  {
   "cell_type": "code",
   "execution_count": 1,
   "metadata": {
    "collapsed": false,
    "execution": {
     "iopub.execute_input": "2024-07-31T03:29:50.315073Z",
     "iopub.status.busy": "2024-07-31T03:29:50.314897Z",
     "iopub.status.idle": "2024-07-31T03:29:52.270408Z",
     "shell.execute_reply": "2024-07-31T03:29:52.269783Z"
    }
   },
   "outputs": [
    {
     "name": "stdout",
     "output_type": "stream",
     "text": [
      "{'variables': {'x1': [0.0, 3.14159], 'x2': [0.0, 3.14159]}, 'constraints': {'c1': ['GREATER_THAN', 0.0], 'c2': ['LESS_THAN', 0.5]}, 'objectives': {'y1': 'MINIMIZE', 'y2': 'MINIMIZE'}, 'constants': {'a': 'dummy_constant'}, 'observables': []}\n"
     ]
    }
   ],
   "source": [
    "# set values if testing\n",
    "import os\n",
    "SMOKE_TEST = os.environ.get(\"SMOKE_TEST\")\n",
    "N_MC_SAMPLES = 1 if SMOKE_TEST else 128\n",
    "NUM_RESTARTS = 1 if SMOKE_TEST else 20\n",
    "N_STEPS = 1 if SMOKE_TEST else 30\n",
    "\n",
    "# Ignore all warnings\n",
    "import warnings\n",
    "warnings.filterwarnings(\"ignore\")\n",
    "\n",
    "\n",
    "import pandas as pd\n",
    "import numpy as np\n",
    "import torch\n",
    "\n",
    "from xopt import Xopt, Evaluator\n",
    "from xopt.generators.bayesian import MOBOGenerator\n",
    "from xopt.resources.test_functions.tnk import evaluate_TNK, tnk_vocs\n",
    "\n",
    "\n",
    "evaluator = Evaluator(function=evaluate_TNK)\n",
    "print(tnk_vocs.dict())"
   ]
  },
  {
   "cell_type": "code",
   "execution_count": 2,
   "metadata": {
    "collapsed": false,
    "execution": {
     "iopub.execute_input": "2024-07-31T03:29:52.299472Z",
     "iopub.status.busy": "2024-07-31T03:29:52.298970Z",
     "iopub.status.idle": "2024-07-31T03:30:20.531765Z",
     "shell.execute_reply": "2024-07-31T03:30:20.531079Z"
    }
   },
   "outputs": [
    {
     "name": "stdout",
     "output_type": "stream",
     "text": [
      "0\n"
     ]
    },
    {
     "name": "stdout",
     "output_type": "stream",
     "text": [
      "1\n"
     ]
    },
    {
     "name": "stdout",
     "output_type": "stream",
     "text": [
      "2\n"
     ]
    },
    {
     "name": "stdout",
     "output_type": "stream",
     "text": [
      "3\n"
     ]
    },
    {
     "name": "stdout",
     "output_type": "stream",
     "text": [
      "4\n"
     ]
    },
    {
     "name": "stdout",
     "output_type": "stream",
     "text": [
      "5\n"
     ]
    },
    {
     "name": "stdout",
     "output_type": "stream",
     "text": [
      "6\n"
     ]
    },
    {
     "name": "stdout",
     "output_type": "stream",
     "text": [
      "7\n"
     ]
    },
    {
     "name": "stdout",
     "output_type": "stream",
     "text": [
      "8\n"
     ]
    },
    {
     "name": "stdout",
     "output_type": "stream",
     "text": [
      "9\n"
     ]
    },
    {
     "name": "stdout",
     "output_type": "stream",
     "text": [
      "10\n"
     ]
    },
    {
     "name": "stdout",
     "output_type": "stream",
     "text": [
      "11\n"
     ]
    },
    {
     "name": "stdout",
     "output_type": "stream",
     "text": [
      "12\n"
     ]
    },
    {
     "name": "stdout",
     "output_type": "stream",
     "text": [
      "13\n"
     ]
    },
    {
     "name": "stdout",
     "output_type": "stream",
     "text": [
      "14\n"
     ]
    },
    {
     "name": "stdout",
     "output_type": "stream",
     "text": [
      "15\n"
     ]
    },
    {
     "name": "stdout",
     "output_type": "stream",
     "text": [
      "16\n"
     ]
    },
    {
     "name": "stdout",
     "output_type": "stream",
     "text": [
      "17\n"
     ]
    },
    {
     "name": "stdout",
     "output_type": "stream",
     "text": [
      "18\n"
     ]
    },
    {
     "name": "stdout",
     "output_type": "stream",
     "text": [
      "19\n"
     ]
    },
    {
     "name": "stdout",
     "output_type": "stream",
     "text": [
      "20\n"
     ]
    },
    {
     "name": "stdout",
     "output_type": "stream",
     "text": [
      "21\n"
     ]
    },
    {
     "name": "stdout",
     "output_type": "stream",
     "text": [
      "22\n"
     ]
    },
    {
     "name": "stdout",
     "output_type": "stream",
     "text": [
      "23\n"
     ]
    },
    {
     "name": "stdout",
     "output_type": "stream",
     "text": [
      "24\n"
     ]
    },
    {
     "name": "stdout",
     "output_type": "stream",
     "text": [
      "25\n"
     ]
    },
    {
     "name": "stdout",
     "output_type": "stream",
     "text": [
      "26\n"
     ]
    },
    {
     "name": "stdout",
     "output_type": "stream",
     "text": [
      "27\n"
     ]
    },
    {
     "name": "stdout",
     "output_type": "stream",
     "text": [
      "28\n"
     ]
    },
    {
     "name": "stdout",
     "output_type": "stream",
     "text": [
      "29\n"
     ]
    }
   ],
   "source": [
    "generator = MOBOGenerator(vocs=tnk_vocs, reference_point = {\"y1\":1.5,\"y2\":1.5})\n",
    "generator.n_monte_carlo_samples = N_MC_SAMPLES\n",
    "generator.numerical_optimizer.n_restarts = NUM_RESTARTS\n",
    "\n",
    "X = Xopt(generator=generator, evaluator=evaluator, vocs=tnk_vocs)\n",
    "X.evaluate_data(pd.DataFrame({\"x1\":[1.0, 0.75],\"x2\":[0.75, 1.0]}))\n",
    "\n",
    "for i in range(N_STEPS):\n",
    "    print(i)\n",
    "    X.step()"
   ]
  },
  {
   "cell_type": "code",
   "execution_count": 3,
   "metadata": {
    "collapsed": false,
    "execution": {
     "iopub.execute_input": "2024-07-31T03:30:20.534761Z",
     "iopub.status.busy": "2024-07-31T03:30:20.534235Z",
     "iopub.status.idle": "2024-07-31T03:30:20.553427Z",
     "shell.execute_reply": "2024-07-31T03:30:20.552846Z"
    }
   },
   "outputs": [
    {
     "data": {
      "text/html": [
       "<div>\n",
       "<style scoped>\n",
       "    .dataframe tbody tr th:only-of-type {\n",
       "        vertical-align: middle;\n",
       "    }\n",
       "\n",
       "    .dataframe tbody tr th {\n",
       "        vertical-align: top;\n",
       "    }\n",
       "\n",
       "    .dataframe thead th {\n",
       "        text-align: right;\n",
       "    }\n",
       "</style>\n",
       "<table border=\"1\" class=\"dataframe\">\n",
       "  <thead>\n",
       "    <tr style=\"text-align: right;\">\n",
       "      <th></th>\n",
       "      <th>x1</th>\n",
       "      <th>x2</th>\n",
       "      <th>a</th>\n",
       "      <th>y1</th>\n",
       "      <th>y2</th>\n",
       "      <th>c1</th>\n",
       "      <th>c2</th>\n",
       "      <th>xopt_runtime</th>\n",
       "      <th>xopt_error</th>\n",
       "    </tr>\n",
       "  </thead>\n",
       "  <tbody>\n",
       "    <tr>\n",
       "      <th>0</th>\n",
       "      <td>1.000000</td>\n",
       "      <td>0.750000</td>\n",
       "      <td>dummy_constant</td>\n",
       "      <td>1.000000</td>\n",
       "      <td>0.750000</td>\n",
       "      <td>0.626888</td>\n",
       "      <td>0.312500</td>\n",
       "      <td>0.000032</td>\n",
       "      <td>False</td>\n",
       "    </tr>\n",
       "    <tr>\n",
       "      <th>1</th>\n",
       "      <td>0.750000</td>\n",
       "      <td>1.000000</td>\n",
       "      <td>dummy_constant</td>\n",
       "      <td>0.750000</td>\n",
       "      <td>1.000000</td>\n",
       "      <td>0.626888</td>\n",
       "      <td>0.312500</td>\n",
       "      <td>0.000007</td>\n",
       "      <td>False</td>\n",
       "    </tr>\n",
       "    <tr>\n",
       "      <th>2</th>\n",
       "      <td>2.156135</td>\n",
       "      <td>0.000000</td>\n",
       "      <td>dummy_constant</td>\n",
       "      <td>2.156135</td>\n",
       "      <td>0.000000</td>\n",
       "      <td>3.548919</td>\n",
       "      <td>2.992784</td>\n",
       "      <td>0.000023</td>\n",
       "      <td>False</td>\n",
       "    </tr>\n",
       "    <tr>\n",
       "      <th>3</th>\n",
       "      <td>0.000000</td>\n",
       "      <td>0.000000</td>\n",
       "      <td>dummy_constant</td>\n",
       "      <td>0.000000</td>\n",
       "      <td>0.000000</td>\n",
       "      <td>-1.100000</td>\n",
       "      <td>0.500000</td>\n",
       "      <td>0.000022</td>\n",
       "      <td>False</td>\n",
       "    </tr>\n",
       "    <tr>\n",
       "      <th>4</th>\n",
       "      <td>0.599612</td>\n",
       "      <td>0.000000</td>\n",
       "      <td>dummy_constant</td>\n",
       "      <td>0.599612</td>\n",
       "      <td>0.000000</td>\n",
       "      <td>-0.740465</td>\n",
       "      <td>0.259923</td>\n",
       "      <td>0.000023</td>\n",
       "      <td>False</td>\n",
       "    </tr>\n",
       "    <tr>\n",
       "      <th>5</th>\n",
       "      <td>0.938625</td>\n",
       "      <td>0.358471</td>\n",
       "      <td>dummy_constant</td>\n",
       "      <td>0.938625</td>\n",
       "      <td>0.358471</td>\n",
       "      <td>-0.080693</td>\n",
       "      <td>0.212423</td>\n",
       "      <td>0.000025</td>\n",
       "      <td>False</td>\n",
       "    </tr>\n",
       "    <tr>\n",
       "      <th>6</th>\n",
       "      <td>0.000000</td>\n",
       "      <td>3.141590</td>\n",
       "      <td>dummy_constant</td>\n",
       "      <td>0.000000</td>\n",
       "      <td>3.141590</td>\n",
       "      <td>8.769588</td>\n",
       "      <td>7.227998</td>\n",
       "      <td>0.000025</td>\n",
       "      <td>False</td>\n",
       "    </tr>\n",
       "    <tr>\n",
       "      <th>7</th>\n",
       "      <td>1.013309</td>\n",
       "      <td>0.353763</td>\n",
       "      <td>dummy_constant</td>\n",
       "      <td>1.013309</td>\n",
       "      <td>0.353763</td>\n",
       "      <td>0.090488</td>\n",
       "      <td>0.284871</td>\n",
       "      <td>0.000025</td>\n",
       "      <td>False</td>\n",
       "    </tr>\n",
       "    <tr>\n",
       "      <th>8</th>\n",
       "      <td>0.801048</td>\n",
       "      <td>0.757431</td>\n",
       "      <td>dummy_constant</td>\n",
       "      <td>0.801048</td>\n",
       "      <td>0.757431</td>\n",
       "      <td>0.125234</td>\n",
       "      <td>0.156900</td>\n",
       "      <td>0.000024</td>\n",
       "      <td>False</td>\n",
       "    </tr>\n",
       "    <tr>\n",
       "      <th>9</th>\n",
       "      <td>0.000043</td>\n",
       "      <td>0.941719</td>\n",
       "      <td>dummy_constant</td>\n",
       "      <td>0.000043</td>\n",
       "      <td>0.941719</td>\n",
       "      <td>-0.213165</td>\n",
       "      <td>0.445073</td>\n",
       "      <td>0.000024</td>\n",
       "      <td>False</td>\n",
       "    </tr>\n",
       "    <tr>\n",
       "      <th>10</th>\n",
       "      <td>0.292332</td>\n",
       "      <td>1.046557</td>\n",
       "      <td>dummy_constant</td>\n",
       "      <td>0.292332</td>\n",
       "      <td>1.046557</td>\n",
       "      <td>0.215427</td>\n",
       "      <td>0.341851</td>\n",
       "      <td>0.000025</td>\n",
       "      <td>False</td>\n",
       "    </tr>\n",
       "    <tr>\n",
       "      <th>11</th>\n",
       "      <td>0.078825</td>\n",
       "      <td>1.021344</td>\n",
       "      <td>dummy_constant</td>\n",
       "      <td>0.078825</td>\n",
       "      <td>1.021344</td>\n",
       "      <td>0.016159</td>\n",
       "      <td>0.449187</td>\n",
       "      <td>0.000024</td>\n",
       "      <td>False</td>\n",
       "    </tr>\n",
       "    <tr>\n",
       "      <th>12</th>\n",
       "      <td>0.577465</td>\n",
       "      <td>0.905066</td>\n",
       "      <td>dummy_constant</td>\n",
       "      <td>0.577465</td>\n",
       "      <td>0.905066</td>\n",
       "      <td>0.246949</td>\n",
       "      <td>0.170079</td>\n",
       "      <td>0.000024</td>\n",
       "      <td>False</td>\n",
       "    </tr>\n",
       "    <tr>\n",
       "      <th>13</th>\n",
       "      <td>0.897911</td>\n",
       "      <td>0.575702</td>\n",
       "      <td>dummy_constant</td>\n",
       "      <td>0.897911</td>\n",
       "      <td>0.575702</td>\n",
       "      <td>0.233131</td>\n",
       "      <td>0.164064</td>\n",
       "      <td>0.000024</td>\n",
       "      <td>False</td>\n",
       "    </tr>\n",
       "    <tr>\n",
       "      <th>14</th>\n",
       "      <td>0.385166</td>\n",
       "      <td>0.958263</td>\n",
       "      <td>dummy_constant</td>\n",
       "      <td>0.385166</td>\n",
       "      <td>0.958263</td>\n",
       "      <td>-0.031966</td>\n",
       "      <td>0.223192</td>\n",
       "      <td>0.000027</td>\n",
       "      <td>False</td>\n",
       "    </tr>\n",
       "    <tr>\n",
       "      <th>15</th>\n",
       "      <td>1.049846</td>\n",
       "      <td>0.179192</td>\n",
       "      <td>dummy_constant</td>\n",
       "      <td>1.049846</td>\n",
       "      <td>0.179192</td>\n",
       "      <td>0.224902</td>\n",
       "      <td>0.405249</td>\n",
       "      <td>0.000035</td>\n",
       "      <td>False</td>\n",
       "    </tr>\n",
       "    <tr>\n",
       "      <th>16</th>\n",
       "      <td>0.117856</td>\n",
       "      <td>1.059061</td>\n",
       "      <td>dummy_constant</td>\n",
       "      <td>0.117856</td>\n",
       "      <td>1.059061</td>\n",
       "      <td>0.155607</td>\n",
       "      <td>0.458584</td>\n",
       "      <td>0.000027</td>\n",
       "      <td>False</td>\n",
       "    </tr>\n",
       "    <tr>\n",
       "      <th>17</th>\n",
       "      <td>0.669634</td>\n",
       "      <td>0.801542</td>\n",
       "      <td>dummy_constant</td>\n",
       "      <td>0.669634</td>\n",
       "      <td>0.801542</td>\n",
       "      <td>0.076921</td>\n",
       "      <td>0.119703</td>\n",
       "      <td>0.000037</td>\n",
       "      <td>False</td>\n",
       "    </tr>\n",
       "    <tr>\n",
       "      <th>18</th>\n",
       "      <td>0.526061</td>\n",
       "      <td>0.546898</td>\n",
       "      <td>dummy_constant</td>\n",
       "      <td>0.526061</td>\n",
       "      <td>0.546898</td>\n",
       "      <td>-0.519376</td>\n",
       "      <td>0.002879</td>\n",
       "      <td>0.000025</td>\n",
       "      <td>False</td>\n",
       "    </tr>\n",
       "    <tr>\n",
       "      <th>19</th>\n",
       "      <td>1.002187</td>\n",
       "      <td>0.048295</td>\n",
       "      <td>dummy_constant</td>\n",
       "      <td>1.002187</td>\n",
       "      <td>0.048295</td>\n",
       "      <td>-0.065051</td>\n",
       "      <td>0.456229</td>\n",
       "      <td>0.000027</td>\n",
       "      <td>False</td>\n",
       "    </tr>\n",
       "    <tr>\n",
       "      <th>20</th>\n",
       "      <td>0.119949</td>\n",
       "      <td>1.405011</td>\n",
       "      <td>dummy_constant</td>\n",
       "      <td>0.119949</td>\n",
       "      <td>1.405011</td>\n",
       "      <td>0.967779</td>\n",
       "      <td>0.963483</td>\n",
       "      <td>0.000025</td>\n",
       "      <td>False</td>\n",
       "    </tr>\n",
       "    <tr>\n",
       "      <th>21</th>\n",
       "      <td>0.037232</td>\n",
       "      <td>0.417435</td>\n",
       "      <td>dummy_constant</td>\n",
       "      <td>0.037232</td>\n",
       "      <td>0.417435</td>\n",
       "      <td>-0.839055</td>\n",
       "      <td>0.220971</td>\n",
       "      <td>0.000026</td>\n",
       "      <td>False</td>\n",
       "    </tr>\n",
       "    <tr>\n",
       "      <th>22</th>\n",
       "      <td>0.889486</td>\n",
       "      <td>0.095849</td>\n",
       "      <td>dummy_constant</td>\n",
       "      <td>0.889486</td>\n",
       "      <td>0.095849</td>\n",
       "      <td>-0.185011</td>\n",
       "      <td>0.315037</td>\n",
       "      <td>0.000026</td>\n",
       "      <td>False</td>\n",
       "    </tr>\n",
       "    <tr>\n",
       "      <th>23</th>\n",
       "      <td>0.750126</td>\n",
       "      <td>0.598187</td>\n",
       "      <td>dummy_constant</td>\n",
       "      <td>0.750126</td>\n",
       "      <td>0.598187</td>\n",
       "      <td>-0.057208</td>\n",
       "      <td>0.072204</td>\n",
       "      <td>0.000026</td>\n",
       "      <td>False</td>\n",
       "    </tr>\n",
       "    <tr>\n",
       "      <th>24</th>\n",
       "      <td>0.773782</td>\n",
       "      <td>0.664658</td>\n",
       "      <td>dummy_constant</td>\n",
       "      <td>0.773782</td>\n",
       "      <td>0.664658</td>\n",
       "      <td>0.005347</td>\n",
       "      <td>0.102069</td>\n",
       "      <td>0.000027</td>\n",
       "      <td>False</td>\n",
       "    </tr>\n",
       "    <tr>\n",
       "      <th>25</th>\n",
       "      <td>0.146277</td>\n",
       "      <td>0.378834</td>\n",
       "      <td>dummy_constant</td>\n",
       "      <td>0.146277</td>\n",
       "      <td>0.378834</td>\n",
       "      <td>-0.927678</td>\n",
       "      <td>0.139801</td>\n",
       "      <td>0.000027</td>\n",
       "      <td>False</td>\n",
       "    </tr>\n",
       "    <tr>\n",
       "      <th>26</th>\n",
       "      <td>0.917223</td>\n",
       "      <td>0.242507</td>\n",
       "      <td>dummy_constant</td>\n",
       "      <td>0.917223</td>\n",
       "      <td>0.242507</td>\n",
       "      <td>-0.045363</td>\n",
       "      <td>0.240378</td>\n",
       "      <td>0.000027</td>\n",
       "      <td>False</td>\n",
       "    </tr>\n",
       "    <tr>\n",
       "      <th>27</th>\n",
       "      <td>0.586084</td>\n",
       "      <td>0.730231</td>\n",
       "      <td>dummy_constant</td>\n",
       "      <td>0.586084</td>\n",
       "      <td>0.730231</td>\n",
       "      <td>-0.105919</td>\n",
       "      <td>0.060417</td>\n",
       "      <td>0.000026</td>\n",
       "      <td>False</td>\n",
       "    </tr>\n",
       "    <tr>\n",
       "      <th>28</th>\n",
       "      <td>1.202488</td>\n",
       "      <td>0.471831</td>\n",
       "      <td>dummy_constant</td>\n",
       "      <td>1.202488</td>\n",
       "      <td>0.471831</td>\n",
       "      <td>0.573083</td>\n",
       "      <td>0.494283</td>\n",
       "      <td>0.000026</td>\n",
       "      <td>False</td>\n",
       "    </tr>\n",
       "    <tr>\n",
       "      <th>29</th>\n",
       "      <td>0.589600</td>\n",
       "      <td>0.372600</td>\n",
       "      <td>dummy_constant</td>\n",
       "      <td>0.589600</td>\n",
       "      <td>0.372600</td>\n",
       "      <td>-0.421726</td>\n",
       "      <td>0.024259</td>\n",
       "      <td>0.000026</td>\n",
       "      <td>False</td>\n",
       "    </tr>\n",
       "    <tr>\n",
       "      <th>30</th>\n",
       "      <td>0.870309</td>\n",
       "      <td>0.517023</td>\n",
       "      <td>dummy_constant</td>\n",
       "      <td>0.870309</td>\n",
       "      <td>0.517023</td>\n",
       "      <td>0.090897</td>\n",
       "      <td>0.137419</td>\n",
       "      <td>0.000027</td>\n",
       "      <td>False</td>\n",
       "    </tr>\n",
       "    <tr>\n",
       "      <th>31</th>\n",
       "      <td>0.395850</td>\n",
       "      <td>0.712916</td>\n",
       "      <td>dummy_constant</td>\n",
       "      <td>0.395850</td>\n",
       "      <td>0.712916</td>\n",
       "      <td>-0.309741</td>\n",
       "      <td>0.056180</td>\n",
       "      <td>0.000026</td>\n",
       "      <td>False</td>\n",
       "    </tr>\n",
       "  </tbody>\n",
       "</table>\n",
       "</div>"
      ],
      "text/plain": [
       "          x1        x2               a        y1        y2        c1  \\\n",
       "0   1.000000  0.750000  dummy_constant  1.000000  0.750000  0.626888   \n",
       "1   0.750000  1.000000  dummy_constant  0.750000  1.000000  0.626888   \n",
       "2   2.156135  0.000000  dummy_constant  2.156135  0.000000  3.548919   \n",
       "3   0.000000  0.000000  dummy_constant  0.000000  0.000000 -1.100000   \n",
       "4   0.599612  0.000000  dummy_constant  0.599612  0.000000 -0.740465   \n",
       "5   0.938625  0.358471  dummy_constant  0.938625  0.358471 -0.080693   \n",
       "6   0.000000  3.141590  dummy_constant  0.000000  3.141590  8.769588   \n",
       "7   1.013309  0.353763  dummy_constant  1.013309  0.353763  0.090488   \n",
       "8   0.801048  0.757431  dummy_constant  0.801048  0.757431  0.125234   \n",
       "9   0.000043  0.941719  dummy_constant  0.000043  0.941719 -0.213165   \n",
       "10  0.292332  1.046557  dummy_constant  0.292332  1.046557  0.215427   \n",
       "11  0.078825  1.021344  dummy_constant  0.078825  1.021344  0.016159   \n",
       "12  0.577465  0.905066  dummy_constant  0.577465  0.905066  0.246949   \n",
       "13  0.897911  0.575702  dummy_constant  0.897911  0.575702  0.233131   \n",
       "14  0.385166  0.958263  dummy_constant  0.385166  0.958263 -0.031966   \n",
       "15  1.049846  0.179192  dummy_constant  1.049846  0.179192  0.224902   \n",
       "16  0.117856  1.059061  dummy_constant  0.117856  1.059061  0.155607   \n",
       "17  0.669634  0.801542  dummy_constant  0.669634  0.801542  0.076921   \n",
       "18  0.526061  0.546898  dummy_constant  0.526061  0.546898 -0.519376   \n",
       "19  1.002187  0.048295  dummy_constant  1.002187  0.048295 -0.065051   \n",
       "20  0.119949  1.405011  dummy_constant  0.119949  1.405011  0.967779   \n",
       "21  0.037232  0.417435  dummy_constant  0.037232  0.417435 -0.839055   \n",
       "22  0.889486  0.095849  dummy_constant  0.889486  0.095849 -0.185011   \n",
       "23  0.750126  0.598187  dummy_constant  0.750126  0.598187 -0.057208   \n",
       "24  0.773782  0.664658  dummy_constant  0.773782  0.664658  0.005347   \n",
       "25  0.146277  0.378834  dummy_constant  0.146277  0.378834 -0.927678   \n",
       "26  0.917223  0.242507  dummy_constant  0.917223  0.242507 -0.045363   \n",
       "27  0.586084  0.730231  dummy_constant  0.586084  0.730231 -0.105919   \n",
       "28  1.202488  0.471831  dummy_constant  1.202488  0.471831  0.573083   \n",
       "29  0.589600  0.372600  dummy_constant  0.589600  0.372600 -0.421726   \n",
       "30  0.870309  0.517023  dummy_constant  0.870309  0.517023  0.090897   \n",
       "31  0.395850  0.712916  dummy_constant  0.395850  0.712916 -0.309741   \n",
       "\n",
       "          c2  xopt_runtime  xopt_error  \n",
       "0   0.312500      0.000032       False  \n",
       "1   0.312500      0.000007       False  \n",
       "2   2.992784      0.000023       False  \n",
       "3   0.500000      0.000022       False  \n",
       "4   0.259923      0.000023       False  \n",
       "5   0.212423      0.000025       False  \n",
       "6   7.227998      0.000025       False  \n",
       "7   0.284871      0.000025       False  \n",
       "8   0.156900      0.000024       False  \n",
       "9   0.445073      0.000024       False  \n",
       "10  0.341851      0.000025       False  \n",
       "11  0.449187      0.000024       False  \n",
       "12  0.170079      0.000024       False  \n",
       "13  0.164064      0.000024       False  \n",
       "14  0.223192      0.000027       False  \n",
       "15  0.405249      0.000035       False  \n",
       "16  0.458584      0.000027       False  \n",
       "17  0.119703      0.000037       False  \n",
       "18  0.002879      0.000025       False  \n",
       "19  0.456229      0.000027       False  \n",
       "20  0.963483      0.000025       False  \n",
       "21  0.220971      0.000026       False  \n",
       "22  0.315037      0.000026       False  \n",
       "23  0.072204      0.000026       False  \n",
       "24  0.102069      0.000027       False  \n",
       "25  0.139801      0.000027       False  \n",
       "26  0.240378      0.000027       False  \n",
       "27  0.060417      0.000026       False  \n",
       "28  0.494283      0.000026       False  \n",
       "29  0.024259      0.000026       False  \n",
       "30  0.137419      0.000027       False  \n",
       "31  0.056180      0.000026       False  "
      ]
     },
     "execution_count": 3,
     "metadata": {},
     "output_type": "execute_result"
    }
   ],
   "source": [
    "X.generator.data"
   ]
  },
  {
   "cell_type": "markdown",
   "metadata": {
    "collapsed": false
   },
   "source": [
    "## plot results\n"
   ]
  },
  {
   "cell_type": "code",
   "execution_count": 4,
   "metadata": {
    "collapsed": false,
    "execution": {
     "iopub.execute_input": "2024-07-31T03:30:20.555908Z",
     "iopub.status.busy": "2024-07-31T03:30:20.555465Z",
     "iopub.status.idle": "2024-07-31T03:30:21.038677Z",
     "shell.execute_reply": "2024-07-31T03:30:21.038030Z"
    }
   },
   "outputs": [
    {
     "data": {
      "image/png": "[encoded data removed]",
      "text/plain": [
       "<Figure size 640x480 with 1 Axes>"
      ]
     },
     "metadata": {},
     "output_type": "display_data"
    }
   ],
   "source": [
    "import matplotlib.pyplot as plt\n",
    "\n",
    "fig, ax = plt.subplots()\n",
    "\n",
    "theta = np.linspace(0, np.pi / 2)\n",
    "r = np.sqrt(1 + 0.1 * np.cos(16 * theta))\n",
    "x_1 = r * np.sin(theta)\n",
    "x_2_lower = r * np.cos(theta)\n",
    "x_2_upper = (0.5 - (x_1 - 0.5) ** 2) ** 0.5 + 0.5\n",
    "\n",
    "z = np.zeros_like(x_1)\n",
    "\n",
    "# ax2.plot(x_1, x_2_lower,'r')\n",
    "ax.fill_between(x_1, z, x_2_lower, fc=\"white\")\n",
    "circle = plt.Circle(\n",
    "    (0.5, 0.5), 0.5 ** 0.5, color=\"r\", alpha=0.25, zorder=0, label=\"Valid Region\"\n",
    ")\n",
    "ax.add_patch(circle)\n",
    "history = pd.concat(\n",
    "    [X.data, tnk_vocs.feasibility_data(X.data)], axis=1, ignore_index=False\n",
    ")\n",
    "\n",
    "\n",
    "ax.plot(*history[[\"x1\", \"x2\"]][history[\"feasible\"]].to_numpy().T, \".C1\")\n",
    "ax.plot(*history[[\"x1\", \"x2\"]][~history[\"feasible\"]].to_numpy().T, \".C2\")\n",
    "\n",
    "ax.set_xlim(0, 3.14)\n",
    "ax.set_ylim(0, 3.14)\n",
    "ax.set_xlabel(\"x1\")\n",
    "ax.set_ylabel(\"x2\")\n",
    "ax.set_aspect(\"equal\")"
   ]
  },
  {
   "cell_type": "markdown",
   "metadata": {
    "collapsed": false
   },
   "source": [
    "### Plot path through input space"
   ]
  },
  {
   "cell_type": "code",
   "execution_count": 5,
   "metadata": {
    "collapsed": false,
    "execution": {
     "iopub.execute_input": "2024-07-31T03:30:21.041261Z",
     "iopub.status.busy": "2024-07-31T03:30:21.040822Z",
     "iopub.status.idle": "2024-07-31T03:30:21.142653Z",
     "shell.execute_reply": "2024-07-31T03:30:21.142120Z"
    }
   },
   "outputs": [
    {
     "data": {
      "image/png": "[encoded data removed]",
      "text/plain": [
       "<Figure size 640x480 with 1 Axes>"
      ]
     },
     "metadata": {},
     "output_type": "display_data"
    }
   ],
   "source": [
    "ax = history.plot(\"x1\", \"x2\")\n",
    "ax.set_ylim(0, 3.14)\n",
    "ax.set_xlim(0, 3.14)\n",
    "ax.set_aspect(\"equal\")"
   ]
  },
  {
   "cell_type": "code",
   "execution_count": 6,
   "metadata": {
    "collapsed": false,
    "execution": {
     "iopub.execute_input": "2024-07-31T03:30:21.145159Z",
     "iopub.status.busy": "2024-07-31T03:30:21.144594Z",
     "iopub.status.idle": "2024-07-31T03:30:33.363643Z",
     "shell.execute_reply": "2024-07-31T03:30:33.363050Z"
    }
   },
   "outputs": [
    {
     "name": "stdout",
     "output_type": "stream",
     "text": [
      "[[0.53265336 0.86423044]]\n"
     ]
    },
    {
     "data": {
      "text/plain": [
       "[<matplotlib.lines.Line2D at 0x7f2635aab070>]"
      ]
     },
     "execution_count": 6,
     "metadata": {},
     "output_type": "execute_result"
    },
    {
     "data": {
      "image/png": "[encoded data removed]",
      "text/plain": [
       "<Figure size 640x480 with 2 Axes>"
      ]
     },
     "metadata": {},
     "output_type": "display_data"
    },
    {
     "data": {
      "image/png": "[encoded data removed]",
      "text/plain": [
       "<Figure size 640x480 with 2 Axes>"
      ]
     },
     "metadata": {},
     "output_type": "display_data"
    }
   ],
   "source": [
    "# plot the acquisition function\n",
    "from xopt.generators.bayesian.objectives import feasibility\n",
    "\n",
    "bounds = X.generator.vocs.bounds\n",
    "model = X.generator.model\n",
    "\n",
    "# create mesh\n",
    "n = 200\n",
    "x = torch.linspace(*bounds.T[0], n)\n",
    "y = torch.linspace(*bounds.T[1], n)\n",
    "xx, yy = torch.meshgrid(x, y)\n",
    "pts = torch.hstack([ele.reshape(-1, 1) for ele in (xx, yy)]).double()\n",
    "\n",
    "xx, yy = xx.numpy(), yy.numpy()\n",
    "\n",
    "acq_func = X.generator.get_acquisition(model)\n",
    "with torch.no_grad():\n",
    "    acq_pts = pts.unsqueeze(1)\n",
    "    acq = acq_func(acq_pts)\n",
    "\n",
    "    fig, ax = plt.subplots()\n",
    "    c = ax.pcolor(xx, yy, acq.reshape(n, n), cmap=\"Blues\")\n",
    "    fig.colorbar(c)\n",
    "    ax.set_title(\"Acquisition function\")\n",
    "\n",
    "    ax.plot(*history[[\"x1\", \"x2\"]][history[\"feasible\"]].to_numpy().T, \".C1\")\n",
    "    ax.plot(*history[[\"x1\", \"x2\"]][~history[\"feasible\"]].to_numpy().T, \".C2\")\n",
    "\n",
    "    ax.plot(*history[[\"x1\", \"x2\"]].to_numpy()[-1].T, \"+\")\n",
    "\n",
    "    feas = feasibility(pts.unsqueeze(1), model, tnk_vocs).flatten()\n",
    "\n",
    "    fig2, ax2 = plt.subplots()\n",
    "    c = ax2.pcolor(xx, yy, feas.reshape(n, n))\n",
    "    fig2.colorbar(c)\n",
    "    ax2.set_title(\"Feasible Region\")\n",
    "\n",
    "candidate = pd.DataFrame(X.generator.generate(1), index=[0])\n",
    "print(candidate[[\"x1\", \"x2\"]].to_numpy())\n",
    "ax.plot(*candidate[[\"x1\", \"x2\"]].to_numpy()[0], \"o\")"
   ]
  },
  {
   "cell_type": "code",
   "execution_count": 7,
   "metadata": {
    "collapsed": false,
    "execution": {
     "iopub.execute_input": "2024-07-31T03:30:33.365989Z",
     "iopub.status.busy": "2024-07-31T03:30:33.365796Z",
     "iopub.status.idle": "2024-07-31T03:30:34.561294Z",
     "shell.execute_reply": "2024-07-31T03:30:34.560679Z"
    }
   },
   "outputs": [
    {
     "name": "stdout",
     "output_type": "stream",
     "text": [
      "CPU times: user 2.33 s, sys: 52.1 ms, total: 2.38 s\n",
      "Wall time: 1.19 s\n"
     ]
    }
   ],
   "source": [
    "%%time\n",
    "candidate = X.generator.generate(1)"
   ]
  }
 ],
 "metadata": {
  "interpreter": {
   "hash": "72034539424920dfb606fe3b820b3f27dca0cbf1c69938110810ec4641e275b1"
  },
  "kernelspec": {
   "display_name": "Python 3 (ipykernel)",
   "language": "python",
   "name": "python3"
  },
  "language_info": {
   "codemirror_mode": {
    "name": "ipython",
    "version": 3
   },
   "file_extension": ".py",
   "mimetype": "text/x-python",
   "name": "python",
   "nbconvert_exporter": "python",
   "pygments_lexer": "ipython3",
   "version": "3.9.19"
  }
 },
 "nbformat": 4,
 "nbformat_minor": 4
}
