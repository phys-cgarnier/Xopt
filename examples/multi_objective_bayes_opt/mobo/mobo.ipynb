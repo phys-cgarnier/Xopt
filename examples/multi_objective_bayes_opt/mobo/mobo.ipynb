{
 "cells": [
  {
   "cell_type": "markdown",
   "metadata": {},
   "source": [
    "\n",
    "# Multi-objective Bayesian Optimization\n",
    "\n",
    "\n",
    "TNK function\n",
    "$n=2$ variables:\n",
    "$x_i \\in [0, \\pi], i=1,2$\n",
    "\n",
    "Objectives:\n",
    "- $f_i(x) = x_i$\n",
    "\n",
    "Constraints:\n",
    "- $g_1(x) = -x_1^2 -x_2^2 + 1 + 0.1 \\cos\\left(16 \\arctan \\frac{x_1}{x_2}\\right) \\le 0$\n",
    "- $g_2(x) = (x_1 - 1/2)^2 + (x_2-1/2)^2 \\le 0.5$"
   ]
  },
  {
   "cell_type": "code",
   "execution_count": 1,
   "metadata": {
    "collapsed": false,
    "execution": {
     "iopub.execute_input": "2024-01-31T17:09:15.923506Z",
     "iopub.status.busy": "2024-01-31T17:09:15.923331Z",
     "iopub.status.idle": "2024-01-31T17:09:18.028433Z",
     "shell.execute_reply": "2024-01-31T17:09:18.027797Z"
    }
   },
   "outputs": [
    {
     "name": "stdout",
     "output_type": "stream",
     "text": [
      "{'variables': {'x1': [0.0, 3.14159], 'x2': [0.0, 3.14159]}, 'constraints': {'c1': ['GREATER_THAN', 0.0], 'c2': ['LESS_THAN', 0.5]}, 'objectives': {'y1': 'MINIMIZE', 'y2': 'MINIMIZE'}, 'constants': {'a': 'dummy_constant'}, 'observables': []}\n"
     ]
    }
   ],
   "source": [
    "# set values if testing\n",
    "import os\n",
    "SMOKE_TEST = os.environ.get(\"SMOKE_TEST\")\n",
    "N_MC_SAMPLES = 1 if SMOKE_TEST else 128\n",
    "NUM_RESTARTS = 1 if SMOKE_TEST else 20\n",
    "N_STEPS = 1 if SMOKE_TEST else 30\n",
    "\n",
    "# Ignore all warnings\n",
    "import warnings\n",
    "warnings.filterwarnings(\"ignore\")\n",
    "\n",
    "\n",
    "import pandas as pd\n",
    "import numpy as np\n",
    "import torch\n",
    "\n",
    "from xopt import Xopt, Evaluator\n",
    "from xopt.generators.bayesian import MOBOGenerator\n",
    "from xopt.resources.test_functions.tnk import evaluate_TNK, tnk_vocs\n",
    "\n",
    "\n",
    "evaluator = Evaluator(function=evaluate_TNK)\n",
    "print(tnk_vocs.dict())"
   ]
  },
  {
   "cell_type": "code",
   "execution_count": 2,
   "metadata": {
    "collapsed": false,
    "execution": {
     "iopub.execute_input": "2024-01-31T17:09:18.057353Z",
     "iopub.status.busy": "2024-01-31T17:09:18.056872Z",
     "iopub.status.idle": "2024-01-31T17:10:07.522511Z",
     "shell.execute_reply": "2024-01-31T17:10:07.521863Z"
    }
   },
   "outputs": [
    {
     "name": "stdout",
     "output_type": "stream",
     "text": [
      "0\n"
     ]
    },
    {
     "name": "stdout",
     "output_type": "stream",
     "text": [
      "1\n"
     ]
    },
    {
     "name": "stdout",
     "output_type": "stream",
     "text": [
      "2\n"
     ]
    },
    {
     "name": "stdout",
     "output_type": "stream",
     "text": [
      "3\n"
     ]
    },
    {
     "name": "stdout",
     "output_type": "stream",
     "text": [
      "4\n"
     ]
    },
    {
     "name": "stdout",
     "output_type": "stream",
     "text": [
      "5\n"
     ]
    },
    {
     "name": "stdout",
     "output_type": "stream",
     "text": [
      "6\n"
     ]
    },
    {
     "name": "stdout",
     "output_type": "stream",
     "text": [
      "7\n"
     ]
    },
    {
     "name": "stdout",
     "output_type": "stream",
     "text": [
      "8\n"
     ]
    },
    {
     "name": "stdout",
     "output_type": "stream",
     "text": [
      "9\n"
     ]
    },
    {
     "name": "stdout",
     "output_type": "stream",
     "text": [
      "10\n"
     ]
    },
    {
     "name": "stdout",
     "output_type": "stream",
     "text": [
      "11\n"
     ]
    },
    {
     "name": "stdout",
     "output_type": "stream",
     "text": [
      "12\n"
     ]
    },
    {
     "name": "stdout",
     "output_type": "stream",
     "text": [
      "13\n"
     ]
    },
    {
     "name": "stdout",
     "output_type": "stream",
     "text": [
      "14\n"
     ]
    },
    {
     "name": "stdout",
     "output_type": "stream",
     "text": [
      "15\n"
     ]
    },
    {
     "name": "stdout",
     "output_type": "stream",
     "text": [
      "16\n"
     ]
    },
    {
     "name": "stdout",
     "output_type": "stream",
     "text": [
      "17\n"
     ]
    },
    {
     "name": "stdout",
     "output_type": "stream",
     "text": [
      "18\n"
     ]
    },
    {
     "name": "stdout",
     "output_type": "stream",
     "text": [
      "19\n"
     ]
    },
    {
     "name": "stdout",
     "output_type": "stream",
     "text": [
      "20\n"
     ]
    },
    {
     "name": "stdout",
     "output_type": "stream",
     "text": [
      "21\n"
     ]
    },
    {
     "name": "stdout",
     "output_type": "stream",
     "text": [
      "22\n"
     ]
    },
    {
     "name": "stdout",
     "output_type": "stream",
     "text": [
      "23\n"
     ]
    },
    {
     "name": "stdout",
     "output_type": "stream",
     "text": [
      "24\n"
     ]
    },
    {
     "name": "stdout",
     "output_type": "stream",
     "text": [
      "25\n"
     ]
    },
    {
     "name": "stdout",
     "output_type": "stream",
     "text": [
      "26\n"
     ]
    },
    {
     "name": "stdout",
     "output_type": "stream",
     "text": [
      "27\n"
     ]
    },
    {
     "name": "stdout",
     "output_type": "stream",
     "text": [
      "28\n"
     ]
    },
    {
     "name": "stdout",
     "output_type": "stream",
     "text": [
      "29\n"
     ]
    }
   ],
   "source": [
    "generator = MOBOGenerator(vocs=tnk_vocs, reference_point = {\"y1\":1.5,\"y2\":1.5})\n",
    "generator.n_monte_carlo_samples = N_MC_SAMPLES\n",
    "generator.numerical_optimizer.n_restarts = NUM_RESTARTS\n",
    "\n",
    "X = Xopt(generator=generator, evaluator=evaluator, vocs=tnk_vocs)\n",
    "X.evaluate_data(pd.DataFrame({\"x1\":[1.0, 0.75],\"x2\":[0.75, 1.0]}))\n",
    "\n",
    "for i in range(N_STEPS):\n",
    "    print(i)\n",
    "    X.step()"
   ]
  },
  {
   "cell_type": "code",
   "execution_count": 3,
   "metadata": {
    "collapsed": false,
    "execution": {
     "iopub.execute_input": "2024-01-31T17:10:07.525347Z",
     "iopub.status.busy": "2024-01-31T17:10:07.525159Z",
     "iopub.status.idle": "2024-01-31T17:10:07.540397Z",
     "shell.execute_reply": "2024-01-31T17:10:07.539860Z"
    }
   },
   "outputs": [
    {
     "data": {
      "text/html": [
       "<div>\n",
       "<style scoped>\n",
       "    .dataframe tbody tr th:only-of-type {\n",
       "        vertical-align: middle;\n",
       "    }\n",
       "\n",
       "    .dataframe tbody tr th {\n",
       "        vertical-align: top;\n",
       "    }\n",
       "\n",
       "    .dataframe thead th {\n",
       "        text-align: right;\n",
       "    }\n",
       "</style>\n",
       "<table border=\"1\" class=\"dataframe\">\n",
       "  <thead>\n",
       "    <tr style=\"text-align: right;\">\n",
       "      <th></th>\n",
       "      <th>x1</th>\n",
       "      <th>x2</th>\n",
       "      <th>a</th>\n",
       "      <th>y1</th>\n",
       "      <th>y2</th>\n",
       "      <th>c1</th>\n",
       "      <th>c2</th>\n",
       "      <th>xopt_runtime</th>\n",
       "      <th>xopt_error</th>\n",
       "    </tr>\n",
       "  </thead>\n",
       "  <tbody>\n",
       "    <tr>\n",
       "      <th>0</th>\n",
       "      <td>1.000000</td>\n",
       "      <td>0.750000</td>\n",
       "      <td>dummy_constant</td>\n",
       "      <td>1.000000</td>\n",
       "      <td>0.750000</td>\n",
       "      <td>0.626888</td>\n",
       "      <td>0.312500</td>\n",
       "      <td>0.000044</td>\n",
       "      <td>False</td>\n",
       "    </tr>\n",
       "    <tr>\n",
       "      <th>1</th>\n",
       "      <td>0.750000</td>\n",
       "      <td>1.000000</td>\n",
       "      <td>dummy_constant</td>\n",
       "      <td>0.750000</td>\n",
       "      <td>1.000000</td>\n",
       "      <td>0.626888</td>\n",
       "      <td>0.312500</td>\n",
       "      <td>0.000014</td>\n",
       "      <td>False</td>\n",
       "    </tr>\n",
       "    <tr>\n",
       "      <th>2</th>\n",
       "      <td>2.596479</td>\n",
       "      <td>0.000000</td>\n",
       "      <td>dummy_constant</td>\n",
       "      <td>2.596479</td>\n",
       "      <td>0.000000</td>\n",
       "      <td>5.641702</td>\n",
       "      <td>4.645223</td>\n",
       "      <td>0.000023</td>\n",
       "      <td>False</td>\n",
       "    </tr>\n",
       "    <tr>\n",
       "      <th>3</th>\n",
       "      <td>0.000000</td>\n",
       "      <td>0.000000</td>\n",
       "      <td>dummy_constant</td>\n",
       "      <td>0.000000</td>\n",
       "      <td>0.000000</td>\n",
       "      <td>-1.100000</td>\n",
       "      <td>0.500000</td>\n",
       "      <td>0.000023</td>\n",
       "      <td>False</td>\n",
       "    </tr>\n",
       "    <tr>\n",
       "      <th>4</th>\n",
       "      <td>0.598009</td>\n",
       "      <td>0.009097</td>\n",
       "      <td>dummy_constant</td>\n",
       "      <td>0.598009</td>\n",
       "      <td>0.009097</td>\n",
       "      <td>-0.739355</td>\n",
       "      <td>0.250592</td>\n",
       "      <td>0.000025</td>\n",
       "      <td>False</td>\n",
       "    </tr>\n",
       "    <tr>\n",
       "      <th>5</th>\n",
       "      <td>0.000000</td>\n",
       "      <td>0.377096</td>\n",
       "      <td>dummy_constant</td>\n",
       "      <td>0.000000</td>\n",
       "      <td>0.377096</td>\n",
       "      <td>-0.957799</td>\n",
       "      <td>0.265105</td>\n",
       "      <td>0.000024</td>\n",
       "      <td>False</td>\n",
       "    </tr>\n",
       "    <tr>\n",
       "      <th>6</th>\n",
       "      <td>0.973054</td>\n",
       "      <td>0.380728</td>\n",
       "      <td>dummy_constant</td>\n",
       "      <td>0.973054</td>\n",
       "      <td>0.380728</td>\n",
       "      <td>-0.003266</td>\n",
       "      <td>0.238006</td>\n",
       "      <td>0.000024</td>\n",
       "      <td>False</td>\n",
       "    </tr>\n",
       "    <tr>\n",
       "      <th>7</th>\n",
       "      <td>0.378311</td>\n",
       "      <td>0.948880</td>\n",
       "      <td>dummy_constant</td>\n",
       "      <td>0.378311</td>\n",
       "      <td>0.948880</td>\n",
       "      <td>-0.054245</td>\n",
       "      <td>0.216301</td>\n",
       "      <td>0.000024</td>\n",
       "      <td>False</td>\n",
       "    </tr>\n",
       "    <tr>\n",
       "      <th>8</th>\n",
       "      <td>0.422119</td>\n",
       "      <td>0.977695</td>\n",
       "      <td>dummy_constant</td>\n",
       "      <td>0.422119</td>\n",
       "      <td>0.977695</td>\n",
       "      <td>0.036891</td>\n",
       "      <td>0.234258</td>\n",
       "      <td>0.000025</td>\n",
       "      <td>False</td>\n",
       "    </tr>\n",
       "    <tr>\n",
       "      <th>9</th>\n",
       "      <td>1.054452</td>\n",
       "      <td>0.325924</td>\n",
       "      <td>dummy_constant</td>\n",
       "      <td>1.054452</td>\n",
       "      <td>0.325924</td>\n",
       "      <td>0.209699</td>\n",
       "      <td>0.337719</td>\n",
       "      <td>0.000025</td>\n",
       "      <td>False</td>\n",
       "    </tr>\n",
       "    <tr>\n",
       "      <th>10</th>\n",
       "      <td>0.000000</td>\n",
       "      <td>1.122325</td>\n",
       "      <td>dummy_constant</td>\n",
       "      <td>0.000000</td>\n",
       "      <td>1.122325</td>\n",
       "      <td>0.159614</td>\n",
       "      <td>0.637289</td>\n",
       "      <td>0.000024</td>\n",
       "      <td>False</td>\n",
       "    </tr>\n",
       "    <tr>\n",
       "      <th>11</th>\n",
       "      <td>0.994596</td>\n",
       "      <td>0.007019</td>\n",
       "      <td>dummy_constant</td>\n",
       "      <td>0.994596</td>\n",
       "      <td>0.007019</td>\n",
       "      <td>-0.110092</td>\n",
       "      <td>0.487656</td>\n",
       "      <td>0.000025</td>\n",
       "      <td>False</td>\n",
       "    </tr>\n",
       "    <tr>\n",
       "      <th>12</th>\n",
       "      <td>0.132361</td>\n",
       "      <td>1.066206</td>\n",
       "      <td>dummy_constant</td>\n",
       "      <td>0.132361</td>\n",
       "      <td>1.066206</td>\n",
       "      <td>0.193751</td>\n",
       "      <td>0.455748</td>\n",
       "      <td>0.000027</td>\n",
       "      <td>False</td>\n",
       "    </tr>\n",
       "    <tr>\n",
       "      <th>13</th>\n",
       "      <td>0.757900</td>\n",
       "      <td>0.780451</td>\n",
       "      <td>dummy_constant</td>\n",
       "      <td>0.757900</td>\n",
       "      <td>0.780451</td>\n",
       "      <td>0.086253</td>\n",
       "      <td>0.145165</td>\n",
       "      <td>0.000030</td>\n",
       "      <td>False</td>\n",
       "    </tr>\n",
       "    <tr>\n",
       "      <th>14</th>\n",
       "      <td>0.000000</td>\n",
       "      <td>3.141590</td>\n",
       "      <td>dummy_constant</td>\n",
       "      <td>0.000000</td>\n",
       "      <td>3.141590</td>\n",
       "      <td>8.769588</td>\n",
       "      <td>7.227998</td>\n",
       "      <td>0.000024</td>\n",
       "      <td>False</td>\n",
       "    </tr>\n",
       "    <tr>\n",
       "      <th>15</th>\n",
       "      <td>0.340546</td>\n",
       "      <td>2.300234</td>\n",
       "      <td>dummy_constant</td>\n",
       "      <td>0.340546</td>\n",
       "      <td>2.300234</td>\n",
       "      <td>4.477441</td>\n",
       "      <td>3.266269</td>\n",
       "      <td>0.000027</td>\n",
       "      <td>False</td>\n",
       "    </tr>\n",
       "    <tr>\n",
       "      <th>16</th>\n",
       "      <td>0.597636</td>\n",
       "      <td>0.886547</td>\n",
       "      <td>dummy_constant</td>\n",
       "      <td>0.597636</td>\n",
       "      <td>0.886547</td>\n",
       "      <td>0.242920</td>\n",
       "      <td>0.158952</td>\n",
       "      <td>0.000025</td>\n",
       "      <td>False</td>\n",
       "    </tr>\n",
       "    <tr>\n",
       "      <th>17</th>\n",
       "      <td>0.868890</td>\n",
       "      <td>0.609804</td>\n",
       "      <td>dummy_constant</td>\n",
       "      <td>0.868890</td>\n",
       "      <td>0.609804</td>\n",
       "      <td>0.220194</td>\n",
       "      <td>0.148137</td>\n",
       "      <td>0.000026</td>\n",
       "      <td>False</td>\n",
       "    </tr>\n",
       "    <tr>\n",
       "      <th>18</th>\n",
       "      <td>0.072948</td>\n",
       "      <td>1.038706</td>\n",
       "      <td>dummy_constant</td>\n",
       "      <td>0.072948</td>\n",
       "      <td>1.038706</td>\n",
       "      <td>0.040828</td>\n",
       "      <td>0.472578</td>\n",
       "      <td>0.000025</td>\n",
       "      <td>False</td>\n",
       "    </tr>\n",
       "    <tr>\n",
       "      <th>19</th>\n",
       "      <td>0.145497</td>\n",
       "      <td>0.933901</td>\n",
       "      <td>dummy_constant</td>\n",
       "      <td>0.145497</td>\n",
       "      <td>0.933901</td>\n",
       "      <td>-0.028200</td>\n",
       "      <td>0.313942</td>\n",
       "      <td>0.000025</td>\n",
       "      <td>False</td>\n",
       "    </tr>\n",
       "    <tr>\n",
       "      <th>20</th>\n",
       "      <td>1.061285</td>\n",
       "      <td>0.122708</td>\n",
       "      <td>dummy_constant</td>\n",
       "      <td>1.061285</td>\n",
       "      <td>0.122708</td>\n",
       "      <td>0.168150</td>\n",
       "      <td>0.457390</td>\n",
       "      <td>0.000027</td>\n",
       "      <td>False</td>\n",
       "    </tr>\n",
       "    <tr>\n",
       "      <th>21</th>\n",
       "      <td>0.907868</td>\n",
       "      <td>0.486632</td>\n",
       "      <td>dummy_constant</td>\n",
       "      <td>0.907868</td>\n",
       "      <td>0.486632</td>\n",
       "      <td>0.062907</td>\n",
       "      <td>0.166535</td>\n",
       "      <td>0.000027</td>\n",
       "      <td>False</td>\n",
       "    </tr>\n",
       "    <tr>\n",
       "      <th>22</th>\n",
       "      <td>0.082829</td>\n",
       "      <td>0.928223</td>\n",
       "      <td>dummy_constant</td>\n",
       "      <td>0.082829</td>\n",
       "      <td>0.928223</td>\n",
       "      <td>-0.146171</td>\n",
       "      <td>0.357407</td>\n",
       "      <td>0.000027</td>\n",
       "      <td>False</td>\n",
       "    </tr>\n",
       "    <tr>\n",
       "      <th>23</th>\n",
       "      <td>0.091280</td>\n",
       "      <td>1.008772</td>\n",
       "      <td>dummy_constant</td>\n",
       "      <td>0.091280</td>\n",
       "      <td>1.008772</td>\n",
       "      <td>0.013292</td>\n",
       "      <td>0.425901</td>\n",
       "      <td>0.000025</td>\n",
       "      <td>False</td>\n",
       "    </tr>\n",
       "    <tr>\n",
       "      <th>24</th>\n",
       "      <td>1.619869</td>\n",
       "      <td>0.823949</td>\n",
       "      <td>dummy_constant</td>\n",
       "      <td>1.619869</td>\n",
       "      <td>0.823949</td>\n",
       "      <td>2.270914</td>\n",
       "      <td>1.359051</td>\n",
       "      <td>0.000026</td>\n",
       "      <td>False</td>\n",
       "    </tr>\n",
       "    <tr>\n",
       "      <th>25</th>\n",
       "      <td>0.625661</td>\n",
       "      <td>0.141501</td>\n",
       "      <td>dummy_constant</td>\n",
       "      <td>0.625661</td>\n",
       "      <td>0.141501</td>\n",
       "      <td>-0.497100</td>\n",
       "      <td>0.144312</td>\n",
       "      <td>0.000026</td>\n",
       "      <td>False</td>\n",
       "    </tr>\n",
       "    <tr>\n",
       "      <th>26</th>\n",
       "      <td>0.419991</td>\n",
       "      <td>0.411382</td>\n",
       "      <td>dummy_constant</td>\n",
       "      <td>0.419991</td>\n",
       "      <td>0.411382</td>\n",
       "      <td>-0.753003</td>\n",
       "      <td>0.014255</td>\n",
       "      <td>0.000025</td>\n",
       "      <td>False</td>\n",
       "    </tr>\n",
       "    <tr>\n",
       "      <th>27</th>\n",
       "      <td>0.646587</td>\n",
       "      <td>0.789902</td>\n",
       "      <td>dummy_constant</td>\n",
       "      <td>0.646587</td>\n",
       "      <td>0.789902</td>\n",
       "      <td>0.044042</td>\n",
       "      <td>0.105531</td>\n",
       "      <td>0.000030</td>\n",
       "      <td>False</td>\n",
       "    </tr>\n",
       "    <tr>\n",
       "      <th>28</th>\n",
       "      <td>1.636832</td>\n",
       "      <td>2.259329</td>\n",
       "      <td>dummy_constant</td>\n",
       "      <td>1.636832</td>\n",
       "      <td>2.259329</td>\n",
       "      <td>6.865943</td>\n",
       "      <td>4.387626</td>\n",
       "      <td>0.000026</td>\n",
       "      <td>False</td>\n",
       "    </tr>\n",
       "    <tr>\n",
       "      <th>29</th>\n",
       "      <td>0.836621</td>\n",
       "      <td>0.439274</td>\n",
       "      <td>dummy_constant</td>\n",
       "      <td>0.836621</td>\n",
       "      <td>0.439274</td>\n",
       "      <td>-0.118887</td>\n",
       "      <td>0.117002</td>\n",
       "      <td>0.000026</td>\n",
       "      <td>False</td>\n",
       "    </tr>\n",
       "    <tr>\n",
       "      <th>30</th>\n",
       "      <td>0.772712</td>\n",
       "      <td>0.663553</td>\n",
       "      <td>dummy_constant</td>\n",
       "      <td>0.772712</td>\n",
       "      <td>0.663553</td>\n",
       "      <td>0.002431</td>\n",
       "      <td>0.101122</td>\n",
       "      <td>0.000025</td>\n",
       "      <td>False</td>\n",
       "    </tr>\n",
       "    <tr>\n",
       "      <th>31</th>\n",
       "      <td>0.069408</td>\n",
       "      <td>0.804077</td>\n",
       "      <td>dummy_constant</td>\n",
       "      <td>0.069408</td>\n",
       "      <td>0.804077</td>\n",
       "      <td>-0.367831</td>\n",
       "      <td>0.277872</td>\n",
       "      <td>0.000025</td>\n",
       "      <td>False</td>\n",
       "    </tr>\n",
       "  </tbody>\n",
       "</table>\n",
       "</div>"
      ],
      "text/plain": [
       "          x1        x2               a        y1        y2        c1  \\\n",
       "0   1.000000  0.750000  dummy_constant  1.000000  0.750000  0.626888   \n",
       "1   0.750000  1.000000  dummy_constant  0.750000  1.000000  0.626888   \n",
       "2   2.596479  0.000000  dummy_constant  2.596479  0.000000  5.641702   \n",
       "3   0.000000  0.000000  dummy_constant  0.000000  0.000000 -1.100000   \n",
       "4   0.598009  0.009097  dummy_constant  0.598009  0.009097 -0.739355   \n",
       "5   0.000000  0.377096  dummy_constant  0.000000  0.377096 -0.957799   \n",
       "6   0.973054  0.380728  dummy_constant  0.973054  0.380728 -0.003266   \n",
       "7   0.378311  0.948880  dummy_constant  0.378311  0.948880 -0.054245   \n",
       "8   0.422119  0.977695  dummy_constant  0.422119  0.977695  0.036891   \n",
       "9   1.054452  0.325924  dummy_constant  1.054452  0.325924  0.209699   \n",
       "10  0.000000  1.122325  dummy_constant  0.000000  1.122325  0.159614   \n",
       "11  0.994596  0.007019  dummy_constant  0.994596  0.007019 -0.110092   \n",
       "12  0.132361  1.066206  dummy_constant  0.132361  1.066206  0.193751   \n",
       "13  0.757900  0.780451  dummy_constant  0.757900  0.780451  0.086253   \n",
       "14  0.000000  3.141590  dummy_constant  0.000000  3.141590  8.769588   \n",
       "15  0.340546  2.300234  dummy_constant  0.340546  2.300234  4.477441   \n",
       "16  0.597636  0.886547  dummy_constant  0.597636  0.886547  0.242920   \n",
       "17  0.868890  0.609804  dummy_constant  0.868890  0.609804  0.220194   \n",
       "18  0.072948  1.038706  dummy_constant  0.072948  1.038706  0.040828   \n",
       "19  0.145497  0.933901  dummy_constant  0.145497  0.933901 -0.028200   \n",
       "20  1.061285  0.122708  dummy_constant  1.061285  0.122708  0.168150   \n",
       "21  0.907868  0.486632  dummy_constant  0.907868  0.486632  0.062907   \n",
       "22  0.082829  0.928223  dummy_constant  0.082829  0.928223 -0.146171   \n",
       "23  0.091280  1.008772  dummy_constant  0.091280  1.008772  0.013292   \n",
       "24  1.619869  0.823949  dummy_constant  1.619869  0.823949  2.270914   \n",
       "25  0.625661  0.141501  dummy_constant  0.625661  0.141501 -0.497100   \n",
       "26  0.419991  0.411382  dummy_constant  0.419991  0.411382 -0.753003   \n",
       "27  0.646587  0.789902  dummy_constant  0.646587  0.789902  0.044042   \n",
       "28  1.636832  2.259329  dummy_constant  1.636832  2.259329  6.865943   \n",
       "29  0.836621  0.439274  dummy_constant  0.836621  0.439274 -0.118887   \n",
       "30  0.772712  0.663553  dummy_constant  0.772712  0.663553  0.002431   \n",
       "31  0.069408  0.804077  dummy_constant  0.069408  0.804077 -0.367831   \n",
       "\n",
       "          c2  xopt_runtime  xopt_error  \n",
       "0   0.312500      0.000044       False  \n",
       "1   0.312500      0.000014       False  \n",
       "2   4.645223      0.000023       False  \n",
       "3   0.500000      0.000023       False  \n",
       "4   0.250592      0.000025       False  \n",
       "5   0.265105      0.000024       False  \n",
       "6   0.238006      0.000024       False  \n",
       "7   0.216301      0.000024       False  \n",
       "8   0.234258      0.000025       False  \n",
       "9   0.337719      0.000025       False  \n",
       "10  0.637289      0.000024       False  \n",
       "11  0.487656      0.000025       False  \n",
       "12  0.455748      0.000027       False  \n",
       "13  0.145165      0.000030       False  \n",
       "14  7.227998      0.000024       False  \n",
       "15  3.266269      0.000027       False  \n",
       "16  0.158952      0.000025       False  \n",
       "17  0.148137      0.000026       False  \n",
       "18  0.472578      0.000025       False  \n",
       "19  0.313942      0.000025       False  \n",
       "20  0.457390      0.000027       False  \n",
       "21  0.166535      0.000027       False  \n",
       "22  0.357407      0.000027       False  \n",
       "23  0.425901      0.000025       False  \n",
       "24  1.359051      0.000026       False  \n",
       "25  0.144312      0.000026       False  \n",
       "26  0.014255      0.000025       False  \n",
       "27  0.105531      0.000030       False  \n",
       "28  4.387626      0.000026       False  \n",
       "29  0.117002      0.000026       False  \n",
       "30  0.101122      0.000025       False  \n",
       "31  0.277872      0.000025       False  "
      ]
     },
     "execution_count": 3,
     "metadata": {},
     "output_type": "execute_result"
    }
   ],
   "source": [
    "X.generator.data"
   ]
  },
  {
   "cell_type": "markdown",
   "metadata": {
    "collapsed": false
   },
   "source": [
    "## plot results\n"
   ]
  },
  {
   "cell_type": "code",
   "execution_count": 4,
   "metadata": {
    "collapsed": false,
    "execution": {
     "iopub.execute_input": "2024-01-31T17:10:07.542825Z",
     "iopub.status.busy": "2024-01-31T17:10:07.542607Z",
     "iopub.status.idle": "2024-01-31T17:10:08.027694Z",
     "shell.execute_reply": "2024-01-31T17:10:08.027024Z"
    }
   },
   "outputs": [
    {
     "data": {
      "image/png": "[encoded data removed]",
      "text/plain": [
       "<Figure size 640x480 with 1 Axes>"
      ]
     },
     "metadata": {},
     "output_type": "display_data"
    }
   ],
   "source": [
    "import matplotlib.pyplot as plt\n",
    "\n",
    "fig, ax = plt.subplots()\n",
    "\n",
    "theta = np.linspace(0, np.pi / 2)\n",
    "r = np.sqrt(1 + 0.1 * np.cos(16 * theta))\n",
    "x_1 = r * np.sin(theta)\n",
    "x_2_lower = r * np.cos(theta)\n",
    "x_2_upper = (0.5 - (x_1 - 0.5) ** 2) ** 0.5 + 0.5\n",
    "\n",
    "z = np.zeros_like(x_1)\n",
    "\n",
    "# ax2.plot(x_1, x_2_lower,'r')\n",
    "ax.fill_between(x_1, z, x_2_lower, fc=\"white\")\n",
    "circle = plt.Circle(\n",
    "    (0.5, 0.5), 0.5 ** 0.5, color=\"r\", alpha=0.25, zorder=0, label=\"Valid Region\"\n",
    ")\n",
    "ax.add_patch(circle)\n",
    "history = pd.concat(\n",
    "    [X.data, tnk_vocs.feasibility_data(X.data)], axis=1, ignore_index=False\n",
    ")\n",
    "\n",
    "\n",
    "ax.plot(*history[[\"x1\", \"x2\"]][history[\"feasible\"]].to_numpy().T, \".C1\")\n",
    "ax.plot(*history[[\"x1\", \"x2\"]][~history[\"feasible\"]].to_numpy().T, \".C2\")\n",
    "\n",
    "ax.set_xlim(0, 3.14)\n",
    "ax.set_ylim(0, 3.14)\n",
    "ax.set_xlabel(\"x1\")\n",
    "ax.set_ylabel(\"x2\")\n",
    "ax.set_aspect(\"equal\")"
   ]
  },
  {
   "cell_type": "markdown",
   "metadata": {
    "collapsed": false
   },
   "source": [
    "### Plot path through input space"
   ]
  },
  {
   "cell_type": "code",
   "execution_count": 5,
   "metadata": {
    "collapsed": false,
    "execution": {
     "iopub.execute_input": "2024-01-31T17:10:08.030081Z",
     "iopub.status.busy": "2024-01-31T17:10:08.029814Z",
     "iopub.status.idle": "2024-01-31T17:10:08.147905Z",
     "shell.execute_reply": "2024-01-31T17:10:08.147324Z"
    }
   },
   "outputs": [
    {
     "data": {
      "image/png": "[encoded data removed]",
      "text/plain": [
       "<Figure size 640x480 with 1 Axes>"
      ]
     },
     "metadata": {},
     "output_type": "display_data"
    }
   ],
   "source": [
    "ax = history.plot(\"x1\", \"x2\")\n",
    "ax.set_ylim(0, 3.14)\n",
    "ax.set_xlim(0, 3.14)\n",
    "ax.set_aspect(\"equal\")"
   ]
  },
  {
   "cell_type": "code",
   "execution_count": 6,
   "metadata": {
    "collapsed": false,
    "execution": {
     "iopub.execute_input": "2024-01-31T17:10:08.150282Z",
     "iopub.status.busy": "2024-01-31T17:10:08.149912Z",
     "iopub.status.idle": "2024-01-31T17:10:20.767158Z",
     "shell.execute_reply": "2024-01-31T17:10:20.766484Z"
    }
   },
   "outputs": [
    {
     "name": "stdout",
     "output_type": "stream",
     "text": [
      "[[0.68277044 0.03635988]]\n"
     ]
    },
    {
     "data": {
      "text/plain": [
       "[<matplotlib.lines.Line2D at 0x7f73c0635fd0>]"
      ]
     },
     "execution_count": 6,
     "metadata": {},
     "output_type": "execute_result"
    },
    {
     "data": {
      "image/png": "[encoded data removed]",
      "text/plain": [
       "<Figure size 640x480 with 2 Axes>"
      ]
     },
     "metadata": {},
     "output_type": "display_data"
    },
    {
     "data": {
      "image/png": "[encoded data removed]",
      "text/plain": [
       "<Figure size 640x480 with 2 Axes>"
      ]
     },
     "metadata": {},
     "output_type": "display_data"
    }
   ],
   "source": [
    "# plot the acquisition function\n",
    "from xopt.generators.bayesian.objectives import feasibility\n",
    "\n",
    "bounds = X.generator.vocs.bounds\n",
    "model = X.generator.model\n",
    "\n",
    "# create mesh\n",
    "n = 200\n",
    "x = torch.linspace(*bounds.T[0], n)\n",
    "y = torch.linspace(*bounds.T[1], n)\n",
    "xx, yy = torch.meshgrid(x, y)\n",
    "pts = torch.hstack([ele.reshape(-1, 1) for ele in (xx, yy)]).double()\n",
    "\n",
    "xx, yy = xx.numpy(), yy.numpy()\n",
    "\n",
    "acq_func = X.generator.get_acquisition(model)\n",
    "with torch.no_grad():\n",
    "    acq_pts = pts.unsqueeze(1)\n",
    "    acq = acq_func(acq_pts)\n",
    "\n",
    "    fig, ax = plt.subplots()\n",
    "    c = ax.pcolor(xx, yy, acq.reshape(n, n), cmap=\"Blues\")\n",
    "    fig.colorbar(c)\n",
    "    ax.set_title(\"Acquisition function\")\n",
    "\n",
    "    ax.plot(*history[[\"x1\", \"x2\"]][history[\"feasible\"]].to_numpy().T, \".C1\")\n",
    "    ax.plot(*history[[\"x1\", \"x2\"]][~history[\"feasible\"]].to_numpy().T, \".C2\")\n",
    "\n",
    "    ax.plot(*history[[\"x1\", \"x2\"]].to_numpy()[-1].T, \"+\")\n",
    "\n",
    "    feas = feasibility(pts.unsqueeze(1), model, tnk_vocs).flatten()\n",
    "\n",
    "    fig2, ax2 = plt.subplots()\n",
    "    c = ax2.pcolor(xx, yy, feas.reshape(n, n))\n",
    "    fig2.colorbar(c)\n",
    "    ax2.set_title(\"Feasible Region\")\n",
    "\n",
    "candidate = pd.DataFrame(X.generator.generate(1), index=[0])\n",
    "print(candidate[[\"x1\", \"x2\"]].to_numpy())\n",
    "ax.plot(*candidate[[\"x1\", \"x2\"]].to_numpy()[0], \"o\")"
   ]
  },
  {
   "cell_type": "code",
   "execution_count": 7,
   "metadata": {
    "collapsed": false,
    "execution": {
     "iopub.execute_input": "2024-01-31T17:10:20.769654Z",
     "iopub.status.busy": "2024-01-31T17:10:20.769447Z",
     "iopub.status.idle": "2024-01-31T17:10:21.400503Z",
     "shell.execute_reply": "2024-01-31T17:10:21.399876Z"
    }
   },
   "outputs": [
    {
     "name": "stdout",
     "output_type": "stream",
     "text": [
      "CPU times: user 1.22 s, sys: 27.9 ms, total: 1.25 s\n",
      "Wall time: 627 ms\n"
     ]
    }
   ],
   "source": [
    "%%time\n",
    "candidate = X.generator.generate(1)"
   ]
  }
 ],
 "metadata": {
  "interpreter": {
   "hash": "72034539424920dfb606fe3b820b3f27dca0cbf1c69938110810ec4641e275b1"
  },
  "kernelspec": {
   "display_name": "Python 3 (ipykernel)",
   "language": "python",
   "name": "python3"
  },
  "language_info": {
   "codemirror_mode": {
    "name": "ipython",
    "version": 3
   },
   "file_extension": ".py",
   "mimetype": "text/x-python",
   "name": "python",
   "nbconvert_exporter": "python",
   "pygments_lexer": "ipython3",
   "version": "3.9.18"
  }
 },
 "nbformat": 4,
 "nbformat_minor": 4
}
