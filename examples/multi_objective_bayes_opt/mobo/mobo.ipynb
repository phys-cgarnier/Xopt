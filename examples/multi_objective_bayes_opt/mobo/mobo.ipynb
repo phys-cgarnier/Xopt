{
 "cells": [
  {
   "cell_type": "markdown",
   "metadata": {},
   "source": [
    "\n",
    "# Multi-objective Bayesian Optimization\n",
    "\n",
    "\n",
    "TNK function\n",
    "$n=2$ variables:\n",
    "$x_i \\in [0, \\pi], i=1,2$\n",
    "\n",
    "Objectives:\n",
    "- $f_i(x) = x_i$\n",
    "\n",
    "Constraints:\n",
    "- $g_1(x) = -x_1^2 -x_2^2 + 1 + 0.1 \\cos\\left(16 \\arctan \\frac{x_1}{x_2}\\right) \\le 0$\n",
    "- $g_2(x) = (x_1 - 1/2)^2 + (x_2-1/2)^2 \\le 0.5$"
   ]
  },
  {
   "cell_type": "code",
   "execution_count": 1,
   "metadata": {
    "collapsed": false,
    "execution": {
     "iopub.execute_input": "2024-02-01T04:00:44.499473Z",
     "iopub.status.busy": "2024-02-01T04:00:44.499301Z",
     "iopub.status.idle": "2024-02-01T04:00:46.591667Z",
     "shell.execute_reply": "2024-02-01T04:00:46.590999Z"
    }
   },
   "outputs": [
    {
     "name": "stdout",
     "output_type": "stream",
     "text": [
      "{'variables': {'x1': [0.0, 3.14159], 'x2': [0.0, 3.14159]}, 'constraints': {'c1': ['GREATER_THAN', 0.0], 'c2': ['LESS_THAN', 0.5]}, 'objectives': {'y1': 'MINIMIZE', 'y2': 'MINIMIZE'}, 'constants': {'a': 'dummy_constant'}, 'observables': []}\n"
     ]
    }
   ],
   "source": [
    "# set values if testing\n",
    "import os\n",
    "SMOKE_TEST = os.environ.get(\"SMOKE_TEST\")\n",
    "N_MC_SAMPLES = 1 if SMOKE_TEST else 128\n",
    "NUM_RESTARTS = 1 if SMOKE_TEST else 20\n",
    "N_STEPS = 1 if SMOKE_TEST else 30\n",
    "\n",
    "# Ignore all warnings\n",
    "import warnings\n",
    "warnings.filterwarnings(\"ignore\")\n",
    "\n",
    "\n",
    "import pandas as pd\n",
    "import numpy as np\n",
    "import torch\n",
    "\n",
    "from xopt import Xopt, Evaluator\n",
    "from xopt.generators.bayesian import MOBOGenerator\n",
    "from xopt.resources.test_functions.tnk import evaluate_TNK, tnk_vocs\n",
    "\n",
    "\n",
    "evaluator = Evaluator(function=evaluate_TNK)\n",
    "print(tnk_vocs.dict())"
   ]
  },
  {
   "cell_type": "code",
   "execution_count": 2,
   "metadata": {
    "collapsed": false,
    "execution": {
     "iopub.execute_input": "2024-02-01T04:00:46.621903Z",
     "iopub.status.busy": "2024-02-01T04:00:46.621267Z",
     "iopub.status.idle": "2024-02-01T04:01:39.307588Z",
     "shell.execute_reply": "2024-02-01T04:01:39.307028Z"
    }
   },
   "outputs": [
    {
     "name": "stdout",
     "output_type": "stream",
     "text": [
      "0\n"
     ]
    },
    {
     "name": "stdout",
     "output_type": "stream",
     "text": [
      "1\n"
     ]
    },
    {
     "name": "stdout",
     "output_type": "stream",
     "text": [
      "2\n"
     ]
    },
    {
     "name": "stdout",
     "output_type": "stream",
     "text": [
      "3\n"
     ]
    },
    {
     "name": "stdout",
     "output_type": "stream",
     "text": [
      "4\n"
     ]
    },
    {
     "name": "stdout",
     "output_type": "stream",
     "text": [
      "5\n"
     ]
    },
    {
     "name": "stdout",
     "output_type": "stream",
     "text": [
      "6\n"
     ]
    },
    {
     "name": "stdout",
     "output_type": "stream",
     "text": [
      "7\n"
     ]
    },
    {
     "name": "stdout",
     "output_type": "stream",
     "text": [
      "8\n"
     ]
    },
    {
     "name": "stdout",
     "output_type": "stream",
     "text": [
      "9\n"
     ]
    },
    {
     "name": "stdout",
     "output_type": "stream",
     "text": [
      "10\n"
     ]
    },
    {
     "name": "stdout",
     "output_type": "stream",
     "text": [
      "11\n"
     ]
    },
    {
     "name": "stdout",
     "output_type": "stream",
     "text": [
      "12\n"
     ]
    },
    {
     "name": "stdout",
     "output_type": "stream",
     "text": [
      "13\n"
     ]
    },
    {
     "name": "stdout",
     "output_type": "stream",
     "text": [
      "14\n"
     ]
    },
    {
     "name": "stdout",
     "output_type": "stream",
     "text": [
      "15\n"
     ]
    },
    {
     "name": "stdout",
     "output_type": "stream",
     "text": [
      "16\n"
     ]
    },
    {
     "name": "stdout",
     "output_type": "stream",
     "text": [
      "17\n"
     ]
    },
    {
     "name": "stdout",
     "output_type": "stream",
     "text": [
      "18\n"
     ]
    },
    {
     "name": "stdout",
     "output_type": "stream",
     "text": [
      "19\n"
     ]
    },
    {
     "name": "stdout",
     "output_type": "stream",
     "text": [
      "20\n"
     ]
    },
    {
     "name": "stdout",
     "output_type": "stream",
     "text": [
      "21\n"
     ]
    },
    {
     "name": "stdout",
     "output_type": "stream",
     "text": [
      "22\n"
     ]
    },
    {
     "name": "stdout",
     "output_type": "stream",
     "text": [
      "23\n"
     ]
    },
    {
     "name": "stdout",
     "output_type": "stream",
     "text": [
      "24\n"
     ]
    },
    {
     "name": "stdout",
     "output_type": "stream",
     "text": [
      "25\n"
     ]
    },
    {
     "name": "stdout",
     "output_type": "stream",
     "text": [
      "26\n"
     ]
    },
    {
     "name": "stdout",
     "output_type": "stream",
     "text": [
      "27\n"
     ]
    },
    {
     "name": "stdout",
     "output_type": "stream",
     "text": [
      "28\n"
     ]
    },
    {
     "name": "stdout",
     "output_type": "stream",
     "text": [
      "29\n"
     ]
    }
   ],
   "source": [
    "generator = MOBOGenerator(vocs=tnk_vocs, reference_point = {\"y1\":1.5,\"y2\":1.5})\n",
    "generator.n_monte_carlo_samples = N_MC_SAMPLES\n",
    "generator.numerical_optimizer.n_restarts = NUM_RESTARTS\n",
    "\n",
    "X = Xopt(generator=generator, evaluator=evaluator, vocs=tnk_vocs)\n",
    "X.evaluate_data(pd.DataFrame({\"x1\":[1.0, 0.75],\"x2\":[0.75, 1.0]}))\n",
    "\n",
    "for i in range(N_STEPS):\n",
    "    print(i)\n",
    "    X.step()"
   ]
  },
  {
   "cell_type": "code",
   "execution_count": 3,
   "metadata": {
    "collapsed": false,
    "execution": {
     "iopub.execute_input": "2024-02-01T04:01:39.310502Z",
     "iopub.status.busy": "2024-02-01T04:01:39.310089Z",
     "iopub.status.idle": "2024-02-01T04:01:39.329349Z",
     "shell.execute_reply": "2024-02-01T04:01:39.328800Z"
    }
   },
   "outputs": [
    {
     "data": {
      "text/html": [
       "<div>\n",
       "<style scoped>\n",
       "    .dataframe tbody tr th:only-of-type {\n",
       "        vertical-align: middle;\n",
       "    }\n",
       "\n",
       "    .dataframe tbody tr th {\n",
       "        vertical-align: top;\n",
       "    }\n",
       "\n",
       "    .dataframe thead th {\n",
       "        text-align: right;\n",
       "    }\n",
       "</style>\n",
       "<table border=\"1\" class=\"dataframe\">\n",
       "  <thead>\n",
       "    <tr style=\"text-align: right;\">\n",
       "      <th></th>\n",
       "      <th>x1</th>\n",
       "      <th>x2</th>\n",
       "      <th>a</th>\n",
       "      <th>y1</th>\n",
       "      <th>y2</th>\n",
       "      <th>c1</th>\n",
       "      <th>c2</th>\n",
       "      <th>xopt_runtime</th>\n",
       "      <th>xopt_error</th>\n",
       "    </tr>\n",
       "  </thead>\n",
       "  <tbody>\n",
       "    <tr>\n",
       "      <th>0</th>\n",
       "      <td>1.000000</td>\n",
       "      <td>0.750000</td>\n",
       "      <td>dummy_constant</td>\n",
       "      <td>1.000000</td>\n",
       "      <td>0.750000</td>\n",
       "      <td>0.626888</td>\n",
       "      <td>0.312500</td>\n",
       "      <td>0.000035</td>\n",
       "      <td>False</td>\n",
       "    </tr>\n",
       "    <tr>\n",
       "      <th>1</th>\n",
       "      <td>0.750000</td>\n",
       "      <td>1.000000</td>\n",
       "      <td>dummy_constant</td>\n",
       "      <td>0.750000</td>\n",
       "      <td>1.000000</td>\n",
       "      <td>0.626888</td>\n",
       "      <td>0.312500</td>\n",
       "      <td>0.000008</td>\n",
       "      <td>False</td>\n",
       "    </tr>\n",
       "    <tr>\n",
       "      <th>2</th>\n",
       "      <td>3.141590</td>\n",
       "      <td>3.141590</td>\n",
       "      <td>dummy_constant</td>\n",
       "      <td>3.141590</td>\n",
       "      <td>3.141590</td>\n",
       "      <td>18.639175</td>\n",
       "      <td>13.955995</td>\n",
       "      <td>0.000022</td>\n",
       "      <td>False</td>\n",
       "    </tr>\n",
       "    <tr>\n",
       "      <th>3</th>\n",
       "      <td>0.347893</td>\n",
       "      <td>0.397377</td>\n",
       "      <td>dummy_constant</td>\n",
       "      <td>0.347893</td>\n",
       "      <td>0.397377</td>\n",
       "      <td>-0.769879</td>\n",
       "      <td>0.033668</td>\n",
       "      <td>0.000023</td>\n",
       "      <td>False</td>\n",
       "    </tr>\n",
       "    <tr>\n",
       "      <th>4</th>\n",
       "      <td>0.194129</td>\n",
       "      <td>0.217850</td>\n",
       "      <td>dummy_constant</td>\n",
       "      <td>0.194129</td>\n",
       "      <td>0.217850</td>\n",
       "      <td>-0.975420</td>\n",
       "      <td>0.173166</td>\n",
       "      <td>0.000023</td>\n",
       "      <td>False</td>\n",
       "    </tr>\n",
       "    <tr>\n",
       "      <th>5</th>\n",
       "      <td>0.224349</td>\n",
       "      <td>0.000000</td>\n",
       "      <td>dummy_constant</td>\n",
       "      <td>0.224349</td>\n",
       "      <td>0.000000</td>\n",
       "      <td>-1.049668</td>\n",
       "      <td>0.325984</td>\n",
       "      <td>0.000023</td>\n",
       "      <td>False</td>\n",
       "    </tr>\n",
       "    <tr>\n",
       "      <th>6</th>\n",
       "      <td>0.000000</td>\n",
       "      <td>0.691263</td>\n",
       "      <td>dummy_constant</td>\n",
       "      <td>0.000000</td>\n",
       "      <td>0.691263</td>\n",
       "      <td>-0.622155</td>\n",
       "      <td>0.286582</td>\n",
       "      <td>0.000023</td>\n",
       "      <td>False</td>\n",
       "    </tr>\n",
       "    <tr>\n",
       "      <th>7</th>\n",
       "      <td>0.980033</td>\n",
       "      <td>0.000000</td>\n",
       "      <td>dummy_constant</td>\n",
       "      <td>0.980033</td>\n",
       "      <td>0.000000</td>\n",
       "      <td>-0.139535</td>\n",
       "      <td>0.480432</td>\n",
       "      <td>0.000024</td>\n",
       "      <td>False</td>\n",
       "    </tr>\n",
       "    <tr>\n",
       "      <th>8</th>\n",
       "      <td>1.056217</td>\n",
       "      <td>0.179662</td>\n",
       "      <td>dummy_constant</td>\n",
       "      <td>1.056217</td>\n",
       "      <td>0.179662</td>\n",
       "      <td>0.238100</td>\n",
       "      <td>0.411994</td>\n",
       "      <td>0.000025</td>\n",
       "      <td>False</td>\n",
       "    </tr>\n",
       "    <tr>\n",
       "      <th>9</th>\n",
       "      <td>0.309676</td>\n",
       "      <td>1.062890</td>\n",
       "      <td>dummy_constant</td>\n",
       "      <td>0.309676</td>\n",
       "      <td>1.062890</td>\n",
       "      <td>0.243173</td>\n",
       "      <td>0.353068</td>\n",
       "      <td>0.000024</td>\n",
       "      <td>False</td>\n",
       "    </tr>\n",
       "    <tr>\n",
       "      <th>10</th>\n",
       "      <td>0.821951</td>\n",
       "      <td>0.609892</td>\n",
       "      <td>dummy_constant</td>\n",
       "      <td>0.821951</td>\n",
       "      <td>0.609892</td>\n",
       "      <td>0.118024</td>\n",
       "      <td>0.115729</td>\n",
       "      <td>0.000025</td>\n",
       "      <td>False</td>\n",
       "    </tr>\n",
       "    <tr>\n",
       "      <th>11</th>\n",
       "      <td>0.554643</td>\n",
       "      <td>0.867982</td>\n",
       "      <td>dummy_constant</td>\n",
       "      <td>0.554643</td>\n",
       "      <td>0.867982</td>\n",
       "      <td>0.155720</td>\n",
       "      <td>0.138397</td>\n",
       "      <td>0.000024</td>\n",
       "      <td>False</td>\n",
       "    </tr>\n",
       "    <tr>\n",
       "      <th>12</th>\n",
       "      <td>1.024301</td>\n",
       "      <td>0.077045</td>\n",
       "      <td>dummy_constant</td>\n",
       "      <td>1.024301</td>\n",
       "      <td>0.077045</td>\n",
       "      <td>0.019006</td>\n",
       "      <td>0.453782</td>\n",
       "      <td>0.000026</td>\n",
       "      <td>False</td>\n",
       "    </tr>\n",
       "    <tr>\n",
       "      <th>13</th>\n",
       "      <td>0.660784</td>\n",
       "      <td>0.736078</td>\n",
       "      <td>dummy_constant</td>\n",
       "      <td>0.660784</td>\n",
       "      <td>0.736078</td>\n",
       "      <td>-0.086676</td>\n",
       "      <td>0.081584</td>\n",
       "      <td>0.000026</td>\n",
       "      <td>False</td>\n",
       "    </tr>\n",
       "    <tr>\n",
       "      <th>14</th>\n",
       "      <td>0.000000</td>\n",
       "      <td>1.080113</td>\n",
       "      <td>dummy_constant</td>\n",
       "      <td>0.000000</td>\n",
       "      <td>1.080113</td>\n",
       "      <td>0.066645</td>\n",
       "      <td>0.586532</td>\n",
       "      <td>0.000023</td>\n",
       "      <td>False</td>\n",
       "    </tr>\n",
       "    <tr>\n",
       "      <th>15</th>\n",
       "      <td>0.941188</td>\n",
       "      <td>0.354745</td>\n",
       "      <td>dummy_constant</td>\n",
       "      <td>0.941188</td>\n",
       "      <td>0.354745</td>\n",
       "      <td>-0.075298</td>\n",
       "      <td>0.215746</td>\n",
       "      <td>0.000024</td>\n",
       "      <td>False</td>\n",
       "    </tr>\n",
       "    <tr>\n",
       "      <th>16</th>\n",
       "      <td>0.900010</td>\n",
       "      <td>0.515815</td>\n",
       "      <td>dummy_constant</td>\n",
       "      <td>0.900010</td>\n",
       "      <td>0.515815</td>\n",
       "      <td>0.121618</td>\n",
       "      <td>0.160258</td>\n",
       "      <td>0.000025</td>\n",
       "      <td>False</td>\n",
       "    </tr>\n",
       "    <tr>\n",
       "      <th>17</th>\n",
       "      <td>0.652554</td>\n",
       "      <td>0.785307</td>\n",
       "      <td>dummy_constant</td>\n",
       "      <td>0.652554</td>\n",
       "      <td>0.785307</td>\n",
       "      <td>0.032775</td>\n",
       "      <td>0.104673</td>\n",
       "      <td>0.000027</td>\n",
       "      <td>False</td>\n",
       "    </tr>\n",
       "    <tr>\n",
       "      <th>18</th>\n",
       "      <td>0.061455</td>\n",
       "      <td>0.887772</td>\n",
       "      <td>dummy_constant</td>\n",
       "      <td>0.061455</td>\n",
       "      <td>0.887772</td>\n",
       "      <td>-0.252925</td>\n",
       "      <td>0.342689</td>\n",
       "      <td>0.000024</td>\n",
       "      <td>False</td>\n",
       "    </tr>\n",
       "    <tr>\n",
       "      <th>19</th>\n",
       "      <td>0.104203</td>\n",
       "      <td>1.046372</td>\n",
       "      <td>dummy_constant</td>\n",
       "      <td>0.104203</td>\n",
       "      <td>1.046372</td>\n",
       "      <td>0.107486</td>\n",
       "      <td>0.455177</td>\n",
       "      <td>0.000026</td>\n",
       "      <td>False</td>\n",
       "    </tr>\n",
       "    <tr>\n",
       "      <th>20</th>\n",
       "      <td>0.114790</td>\n",
       "      <td>1.156147</td>\n",
       "      <td>dummy_constant</td>\n",
       "      <td>0.114790</td>\n",
       "      <td>1.156147</td>\n",
       "      <td>0.351114</td>\n",
       "      <td>0.578916</td>\n",
       "      <td>0.000026</td>\n",
       "      <td>False</td>\n",
       "    </tr>\n",
       "    <tr>\n",
       "      <th>21</th>\n",
       "      <td>0.018513</td>\n",
       "      <td>1.218277</td>\n",
       "      <td>dummy_constant</td>\n",
       "      <td>0.018513</td>\n",
       "      <td>1.218277</td>\n",
       "      <td>0.387483</td>\n",
       "      <td>0.747752</td>\n",
       "      <td>0.000026</td>\n",
       "      <td>False</td>\n",
       "    </tr>\n",
       "    <tr>\n",
       "      <th>22</th>\n",
       "      <td>0.303244</td>\n",
       "      <td>0.958589</td>\n",
       "      <td>dummy_constant</td>\n",
       "      <td>0.303244</td>\n",
       "      <td>0.958589</td>\n",
       "      <td>-0.008012</td>\n",
       "      <td>0.249016</td>\n",
       "      <td>0.000023</td>\n",
       "      <td>False</td>\n",
       "    </tr>\n",
       "    <tr>\n",
       "      <th>23</th>\n",
       "      <td>0.744338</td>\n",
       "      <td>0.693900</td>\n",
       "      <td>dummy_constant</td>\n",
       "      <td>0.744338</td>\n",
       "      <td>0.693900</td>\n",
       "      <td>-0.049142</td>\n",
       "      <td>0.097298</td>\n",
       "      <td>0.000027</td>\n",
       "      <td>False</td>\n",
       "    </tr>\n",
       "    <tr>\n",
       "      <th>24</th>\n",
       "      <td>0.222135</td>\n",
       "      <td>0.807125</td>\n",
       "      <td>dummy_constant</td>\n",
       "      <td>0.222135</td>\n",
       "      <td>0.807125</td>\n",
       "      <td>-0.258859</td>\n",
       "      <td>0.171535</td>\n",
       "      <td>0.000026</td>\n",
       "      <td>False</td>\n",
       "    </tr>\n",
       "    <tr>\n",
       "      <th>25</th>\n",
       "      <td>1.742372</td>\n",
       "      <td>1.028506</td>\n",
       "      <td>dummy_constant</td>\n",
       "      <td>1.742372</td>\n",
       "      <td>1.028506</td>\n",
       "      <td>3.156408</td>\n",
       "      <td>1.822806</td>\n",
       "      <td>0.000026</td>\n",
       "      <td>False</td>\n",
       "    </tr>\n",
       "    <tr>\n",
       "      <th>26</th>\n",
       "      <td>0.499052</td>\n",
       "      <td>1.325096</td>\n",
       "      <td>dummy_constant</td>\n",
       "      <td>0.499052</td>\n",
       "      <td>1.325096</td>\n",
       "      <td>0.918161</td>\n",
       "      <td>0.680785</td>\n",
       "      <td>0.000025</td>\n",
       "      <td>False</td>\n",
       "    </tr>\n",
       "    <tr>\n",
       "      <th>27</th>\n",
       "      <td>0.065545</td>\n",
       "      <td>0.834188</td>\n",
       "      <td>dummy_constant</td>\n",
       "      <td>0.065545</td>\n",
       "      <td>0.834188</td>\n",
       "      <td>-0.330931</td>\n",
       "      <td>0.300433</td>\n",
       "      <td>0.000025</td>\n",
       "      <td>False</td>\n",
       "    </tr>\n",
       "    <tr>\n",
       "      <th>28</th>\n",
       "      <td>0.600826</td>\n",
       "      <td>0.007007</td>\n",
       "      <td>dummy_constant</td>\n",
       "      <td>0.600826</td>\n",
       "      <td>0.007007</td>\n",
       "      <td>-0.737224</td>\n",
       "      <td>0.253208</td>\n",
       "      <td>0.000025</td>\n",
       "      <td>False</td>\n",
       "    </tr>\n",
       "    <tr>\n",
       "      <th>29</th>\n",
       "      <td>0.783741</td>\n",
       "      <td>0.657998</td>\n",
       "      <td>dummy_constant</td>\n",
       "      <td>0.783741</td>\n",
       "      <td>0.657998</td>\n",
       "      <td>0.029420</td>\n",
       "      <td>0.105472</td>\n",
       "      <td>0.000026</td>\n",
       "      <td>False</td>\n",
       "    </tr>\n",
       "    <tr>\n",
       "      <th>30</th>\n",
       "      <td>0.057819</td>\n",
       "      <td>1.371901</td>\n",
       "      <td>dummy_constant</td>\n",
       "      <td>0.057819</td>\n",
       "      <td>1.371901</td>\n",
       "      <td>0.807318</td>\n",
       "      <td>0.955736</td>\n",
       "      <td>0.000025</td>\n",
       "      <td>False</td>\n",
       "    </tr>\n",
       "    <tr>\n",
       "      <th>31</th>\n",
       "      <td>0.516701</td>\n",
       "      <td>0.377368</td>\n",
       "      <td>dummy_constant</td>\n",
       "      <td>0.516701</td>\n",
       "      <td>0.377368</td>\n",
       "      <td>-0.512109</td>\n",
       "      <td>0.015318</td>\n",
       "      <td>0.000026</td>\n",
       "      <td>False</td>\n",
       "    </tr>\n",
       "  </tbody>\n",
       "</table>\n",
       "</div>"
      ],
      "text/plain": [
       "          x1        x2               a        y1        y2         c1  \\\n",
       "0   1.000000  0.750000  dummy_constant  1.000000  0.750000   0.626888   \n",
       "1   0.750000  1.000000  dummy_constant  0.750000  1.000000   0.626888   \n",
       "2   3.141590  3.141590  dummy_constant  3.141590  3.141590  18.639175   \n",
       "3   0.347893  0.397377  dummy_constant  0.347893  0.397377  -0.769879   \n",
       "4   0.194129  0.217850  dummy_constant  0.194129  0.217850  -0.975420   \n",
       "5   0.224349  0.000000  dummy_constant  0.224349  0.000000  -1.049668   \n",
       "6   0.000000  0.691263  dummy_constant  0.000000  0.691263  -0.622155   \n",
       "7   0.980033  0.000000  dummy_constant  0.980033  0.000000  -0.139535   \n",
       "8   1.056217  0.179662  dummy_constant  1.056217  0.179662   0.238100   \n",
       "9   0.309676  1.062890  dummy_constant  0.309676  1.062890   0.243173   \n",
       "10  0.821951  0.609892  dummy_constant  0.821951  0.609892   0.118024   \n",
       "11  0.554643  0.867982  dummy_constant  0.554643  0.867982   0.155720   \n",
       "12  1.024301  0.077045  dummy_constant  1.024301  0.077045   0.019006   \n",
       "13  0.660784  0.736078  dummy_constant  0.660784  0.736078  -0.086676   \n",
       "14  0.000000  1.080113  dummy_constant  0.000000  1.080113   0.066645   \n",
       "15  0.941188  0.354745  dummy_constant  0.941188  0.354745  -0.075298   \n",
       "16  0.900010  0.515815  dummy_constant  0.900010  0.515815   0.121618   \n",
       "17  0.652554  0.785307  dummy_constant  0.652554  0.785307   0.032775   \n",
       "18  0.061455  0.887772  dummy_constant  0.061455  0.887772  -0.252925   \n",
       "19  0.104203  1.046372  dummy_constant  0.104203  1.046372   0.107486   \n",
       "20  0.114790  1.156147  dummy_constant  0.114790  1.156147   0.351114   \n",
       "21  0.018513  1.218277  dummy_constant  0.018513  1.218277   0.387483   \n",
       "22  0.303244  0.958589  dummy_constant  0.303244  0.958589  -0.008012   \n",
       "23  0.744338  0.693900  dummy_constant  0.744338  0.693900  -0.049142   \n",
       "24  0.222135  0.807125  dummy_constant  0.222135  0.807125  -0.258859   \n",
       "25  1.742372  1.028506  dummy_constant  1.742372  1.028506   3.156408   \n",
       "26  0.499052  1.325096  dummy_constant  0.499052  1.325096   0.918161   \n",
       "27  0.065545  0.834188  dummy_constant  0.065545  0.834188  -0.330931   \n",
       "28  0.600826  0.007007  dummy_constant  0.600826  0.007007  -0.737224   \n",
       "29  0.783741  0.657998  dummy_constant  0.783741  0.657998   0.029420   \n",
       "30  0.057819  1.371901  dummy_constant  0.057819  1.371901   0.807318   \n",
       "31  0.516701  0.377368  dummy_constant  0.516701  0.377368  -0.512109   \n",
       "\n",
       "           c2  xopt_runtime  xopt_error  \n",
       "0    0.312500      0.000035       False  \n",
       "1    0.312500      0.000008       False  \n",
       "2   13.955995      0.000022       False  \n",
       "3    0.033668      0.000023       False  \n",
       "4    0.173166      0.000023       False  \n",
       "5    0.325984      0.000023       False  \n",
       "6    0.286582      0.000023       False  \n",
       "7    0.480432      0.000024       False  \n",
       "8    0.411994      0.000025       False  \n",
       "9    0.353068      0.000024       False  \n",
       "10   0.115729      0.000025       False  \n",
       "11   0.138397      0.000024       False  \n",
       "12   0.453782      0.000026       False  \n",
       "13   0.081584      0.000026       False  \n",
       "14   0.586532      0.000023       False  \n",
       "15   0.215746      0.000024       False  \n",
       "16   0.160258      0.000025       False  \n",
       "17   0.104673      0.000027       False  \n",
       "18   0.342689      0.000024       False  \n",
       "19   0.455177      0.000026       False  \n",
       "20   0.578916      0.000026       False  \n",
       "21   0.747752      0.000026       False  \n",
       "22   0.249016      0.000023       False  \n",
       "23   0.097298      0.000027       False  \n",
       "24   0.171535      0.000026       False  \n",
       "25   1.822806      0.000026       False  \n",
       "26   0.680785      0.000025       False  \n",
       "27   0.300433      0.000025       False  \n",
       "28   0.253208      0.000025       False  \n",
       "29   0.105472      0.000026       False  \n",
       "30   0.955736      0.000025       False  \n",
       "31   0.015318      0.000026       False  "
      ]
     },
     "execution_count": 3,
     "metadata": {},
     "output_type": "execute_result"
    }
   ],
   "source": [
    "X.generator.data"
   ]
  },
  {
   "cell_type": "markdown",
   "metadata": {
    "collapsed": false
   },
   "source": [
    "## plot results\n"
   ]
  },
  {
   "cell_type": "code",
   "execution_count": 4,
   "metadata": {
    "collapsed": false,
    "execution": {
     "iopub.execute_input": "2024-02-01T04:01:39.331829Z",
     "iopub.status.busy": "2024-02-01T04:01:39.331331Z",
     "iopub.status.idle": "2024-02-01T04:01:39.691922Z",
     "shell.execute_reply": "2024-02-01T04:01:39.691325Z"
    }
   },
   "outputs": [
    {
     "data": {
      "image/png": "[encoded data removed]",
      "text/plain": [
       "<Figure size 640x480 with 1 Axes>"
      ]
     },
     "metadata": {},
     "output_type": "display_data"
    }
   ],
   "source": [
    "import matplotlib.pyplot as plt\n",
    "\n",
    "fig, ax = plt.subplots()\n",
    "\n",
    "theta = np.linspace(0, np.pi / 2)\n",
    "r = np.sqrt(1 + 0.1 * np.cos(16 * theta))\n",
    "x_1 = r * np.sin(theta)\n",
    "x_2_lower = r * np.cos(theta)\n",
    "x_2_upper = (0.5 - (x_1 - 0.5) ** 2) ** 0.5 + 0.5\n",
    "\n",
    "z = np.zeros_like(x_1)\n",
    "\n",
    "# ax2.plot(x_1, x_2_lower,'r')\n",
    "ax.fill_between(x_1, z, x_2_lower, fc=\"white\")\n",
    "circle = plt.Circle(\n",
    "    (0.5, 0.5), 0.5 ** 0.5, color=\"r\", alpha=0.25, zorder=0, label=\"Valid Region\"\n",
    ")\n",
    "ax.add_patch(circle)\n",
    "history = pd.concat(\n",
    "    [X.data, tnk_vocs.feasibility_data(X.data)], axis=1, ignore_index=False\n",
    ")\n",
    "\n",
    "\n",
    "ax.plot(*history[[\"x1\", \"x2\"]][history[\"feasible\"]].to_numpy().T, \".C1\")\n",
    "ax.plot(*history[[\"x1\", \"x2\"]][~history[\"feasible\"]].to_numpy().T, \".C2\")\n",
    "\n",
    "ax.set_xlim(0, 3.14)\n",
    "ax.set_ylim(0, 3.14)\n",
    "ax.set_xlabel(\"x1\")\n",
    "ax.set_ylabel(\"x2\")\n",
    "ax.set_aspect(\"equal\")"
   ]
  },
  {
   "cell_type": "markdown",
   "metadata": {
    "collapsed": false
   },
   "source": [
    "### Plot path through input space"
   ]
  },
  {
   "cell_type": "code",
   "execution_count": 5,
   "metadata": {
    "collapsed": false,
    "execution": {
     "iopub.execute_input": "2024-02-01T04:01:39.694439Z",
     "iopub.status.busy": "2024-02-01T04:01:39.694163Z",
     "iopub.status.idle": "2024-02-01T04:01:39.932111Z",
     "shell.execute_reply": "2024-02-01T04:01:39.931433Z"
    }
   },
   "outputs": [
    {
     "data": {
      "image/png": "[encoded data removed]",
      "text/plain": [
       "<Figure size 640x480 with 1 Axes>"
      ]
     },
     "metadata": {},
     "output_type": "display_data"
    }
   ],
   "source": [
    "ax = history.plot(\"x1\", \"x2\")\n",
    "ax.set_ylim(0, 3.14)\n",
    "ax.set_xlim(0, 3.14)\n",
    "ax.set_aspect(\"equal\")"
   ]
  },
  {
   "cell_type": "code",
   "execution_count": 6,
   "metadata": {
    "collapsed": false,
    "execution": {
     "iopub.execute_input": "2024-02-01T04:01:39.934602Z",
     "iopub.status.busy": "2024-02-01T04:01:39.934236Z",
     "iopub.status.idle": "2024-02-01T04:01:52.007815Z",
     "shell.execute_reply": "2024-02-01T04:01:52.007190Z"
    }
   },
   "outputs": [
    {
     "name": "stdout",
     "output_type": "stream",
     "text": [
      "[[0.42897666 0.90291369]]\n"
     ]
    },
    {
     "data": {
      "text/plain": [
       "[<matplotlib.lines.Line2D at 0x7f41184a4f10>]"
      ]
     },
     "execution_count": 6,
     "metadata": {},
     "output_type": "execute_result"
    },
    {
     "data": {
      "image/png": "[encoded data removed]",
      "text/plain": [
       "<Figure size 640x480 with 2 Axes>"
      ]
     },
     "metadata": {},
     "output_type": "display_data"
    },
    {
     "data": {
      "image/png": "[encoded data removed]",
      "text/plain": [
       "<Figure size 640x480 with 2 Axes>"
      ]
     },
     "metadata": {},
     "output_type": "display_data"
    }
   ],
   "source": [
    "# plot the acquisition function\n",
    "from xopt.generators.bayesian.objectives import feasibility\n",
    "\n",
    "bounds = X.generator.vocs.bounds\n",
    "model = X.generator.model\n",
    "\n",
    "# create mesh\n",
    "n = 200\n",
    "x = torch.linspace(*bounds.T[0], n)\n",
    "y = torch.linspace(*bounds.T[1], n)\n",
    "xx, yy = torch.meshgrid(x, y)\n",
    "pts = torch.hstack([ele.reshape(-1, 1) for ele in (xx, yy)]).double()\n",
    "\n",
    "xx, yy = xx.numpy(), yy.numpy()\n",
    "\n",
    "acq_func = X.generator.get_acquisition(model)\n",
    "with torch.no_grad():\n",
    "    acq_pts = pts.unsqueeze(1)\n",
    "    acq = acq_func(acq_pts)\n",
    "\n",
    "    fig, ax = plt.subplots()\n",
    "    c = ax.pcolor(xx, yy, acq.reshape(n, n), cmap=\"Blues\")\n",
    "    fig.colorbar(c)\n",
    "    ax.set_title(\"Acquisition function\")\n",
    "\n",
    "    ax.plot(*history[[\"x1\", \"x2\"]][history[\"feasible\"]].to_numpy().T, \".C1\")\n",
    "    ax.plot(*history[[\"x1\", \"x2\"]][~history[\"feasible\"]].to_numpy().T, \".C2\")\n",
    "\n",
    "    ax.plot(*history[[\"x1\", \"x2\"]].to_numpy()[-1].T, \"+\")\n",
    "\n",
    "    feas = feasibility(pts.unsqueeze(1), model, tnk_vocs).flatten()\n",
    "\n",
    "    fig2, ax2 = plt.subplots()\n",
    "    c = ax2.pcolor(xx, yy, feas.reshape(n, n))\n",
    "    fig2.colorbar(c)\n",
    "    ax2.set_title(\"Feasible Region\")\n",
    "\n",
    "candidate = pd.DataFrame(X.generator.generate(1), index=[0])\n",
    "print(candidate[[\"x1\", \"x2\"]].to_numpy())\n",
    "ax.plot(*candidate[[\"x1\", \"x2\"]].to_numpy()[0], \"o\")"
   ]
  },
  {
   "cell_type": "code",
   "execution_count": 7,
   "metadata": {
    "collapsed": false,
    "execution": {
     "iopub.execute_input": "2024-02-01T04:01:52.010280Z",
     "iopub.status.busy": "2024-02-01T04:01:52.009902Z",
     "iopub.status.idle": "2024-02-01T04:01:52.800346Z",
     "shell.execute_reply": "2024-02-01T04:01:52.799732Z"
    }
   },
   "outputs": [
    {
     "name": "stdout",
     "output_type": "stream",
     "text": [
      "CPU times: user 1.55 s, sys: 23.9 ms, total: 1.57 s\n",
      "Wall time: 787 ms\n"
     ]
    }
   ],
   "source": [
    "%%time\n",
    "candidate = X.generator.generate(1)"
   ]
  }
 ],
 "metadata": {
  "interpreter": {
   "hash": "72034539424920dfb606fe3b820b3f27dca0cbf1c69938110810ec4641e275b1"
  },
  "kernelspec": {
   "display_name": "Python 3 (ipykernel)",
   "language": "python",
   "name": "python3"
  },
  "language_info": {
   "codemirror_mode": {
    "name": "ipython",
    "version": 3
   },
   "file_extension": ".py",
   "mimetype": "text/x-python",
   "name": "python",
   "nbconvert_exporter": "python",
   "pygments_lexer": "ipython3",
   "version": "3.9.18"
  }
 },
 "nbformat": 4,
 "nbformat_minor": 4
}
