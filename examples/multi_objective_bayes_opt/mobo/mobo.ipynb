{
 "cells": [
  {
   "cell_type": "markdown",
   "metadata": {},
   "source": [
    "\n",
    "# Multi-objective Bayesian Optimization\n",
    "\n",
    "\n",
    "TNK function\n",
    "$n=2$ variables:\n",
    "$x_i \\in [0, \\pi], i=1,2$\n",
    "\n",
    "Objectives:\n",
    "- $f_i(x) = x_i$\n",
    "\n",
    "Constraints:\n",
    "- $g_1(x) = -x_1^2 -x_2^2 + 1 + 0.1 \\cos\\left(16 \\arctan \\frac{x_1}{x_2}\\right) \\le 0$\n",
    "- $g_2(x) = (x_1 - 1/2)^2 + (x_2-1/2)^2 \\le 0.5$"
   ]
  },
  {
   "cell_type": "code",
   "execution_count": 1,
   "metadata": {
    "collapsed": false,
    "execution": {
     "iopub.execute_input": "2024-08-20T19:36:08.926399Z",
     "iopub.status.busy": "2024-08-20T19:36:08.926216Z",
     "iopub.status.idle": "2024-08-20T19:36:10.937508Z",
     "shell.execute_reply": "2024-08-20T19:36:10.936849Z"
    }
   },
   "outputs": [
    {
     "name": "stdout",
     "output_type": "stream",
     "text": [
      "{'variables': {'x1': [0.0, 3.14159], 'x2': [0.0, 3.14159]}, 'constraints': {'c1': ['GREATER_THAN', 0.0], 'c2': ['LESS_THAN', 0.5]}, 'objectives': {'y1': 'MINIMIZE', 'y2': 'MINIMIZE'}, 'constants': {'a': 'dummy_constant'}, 'observables': []}\n"
     ]
    }
   ],
   "source": [
    "# set values if testing\n",
    "import os\n",
    "SMOKE_TEST = os.environ.get(\"SMOKE_TEST\")\n",
    "N_MC_SAMPLES = 1 if SMOKE_TEST else 128\n",
    "NUM_RESTARTS = 1 if SMOKE_TEST else 20\n",
    "N_STEPS = 1 if SMOKE_TEST else 30\n",
    "\n",
    "# Ignore all warnings\n",
    "import warnings\n",
    "warnings.filterwarnings(\"ignore\")\n",
    "\n",
    "\n",
    "import pandas as pd\n",
    "import numpy as np\n",
    "import torch\n",
    "\n",
    "from xopt import Xopt, Evaluator\n",
    "from xopt.generators.bayesian import MOBOGenerator\n",
    "from xopt.resources.test_functions.tnk import evaluate_TNK, tnk_vocs\n",
    "\n",
    "\n",
    "evaluator = Evaluator(function=evaluate_TNK)\n",
    "print(tnk_vocs.dict())"
   ]
  },
  {
   "cell_type": "code",
   "execution_count": 2,
   "metadata": {
    "collapsed": false,
    "execution": {
     "iopub.execute_input": "2024-08-20T19:36:10.967161Z",
     "iopub.status.busy": "2024-08-20T19:36:10.966542Z",
     "iopub.status.idle": "2024-08-20T19:36:54.933609Z",
     "shell.execute_reply": "2024-08-20T19:36:54.933026Z"
    }
   },
   "outputs": [
    {
     "name": "stdout",
     "output_type": "stream",
     "text": [
      "0\n"
     ]
    },
    {
     "name": "stdout",
     "output_type": "stream",
     "text": [
      "1\n"
     ]
    },
    {
     "name": "stdout",
     "output_type": "stream",
     "text": [
      "2\n"
     ]
    },
    {
     "name": "stdout",
     "output_type": "stream",
     "text": [
      "3\n"
     ]
    },
    {
     "name": "stdout",
     "output_type": "stream",
     "text": [
      "4\n"
     ]
    },
    {
     "name": "stdout",
     "output_type": "stream",
     "text": [
      "5\n"
     ]
    },
    {
     "name": "stdout",
     "output_type": "stream",
     "text": [
      "6\n"
     ]
    },
    {
     "name": "stdout",
     "output_type": "stream",
     "text": [
      "7\n"
     ]
    },
    {
     "name": "stdout",
     "output_type": "stream",
     "text": [
      "8\n"
     ]
    },
    {
     "name": "stdout",
     "output_type": "stream",
     "text": [
      "9\n"
     ]
    },
    {
     "name": "stdout",
     "output_type": "stream",
     "text": [
      "10\n"
     ]
    },
    {
     "name": "stdout",
     "output_type": "stream",
     "text": [
      "11\n"
     ]
    },
    {
     "name": "stdout",
     "output_type": "stream",
     "text": [
      "12\n"
     ]
    },
    {
     "name": "stdout",
     "output_type": "stream",
     "text": [
      "13\n"
     ]
    },
    {
     "name": "stdout",
     "output_type": "stream",
     "text": [
      "14\n"
     ]
    },
    {
     "name": "stdout",
     "output_type": "stream",
     "text": [
      "15\n"
     ]
    },
    {
     "name": "stdout",
     "output_type": "stream",
     "text": [
      "16\n"
     ]
    },
    {
     "name": "stdout",
     "output_type": "stream",
     "text": [
      "17\n"
     ]
    },
    {
     "name": "stdout",
     "output_type": "stream",
     "text": [
      "18\n"
     ]
    },
    {
     "name": "stdout",
     "output_type": "stream",
     "text": [
      "19\n"
     ]
    },
    {
     "name": "stdout",
     "output_type": "stream",
     "text": [
      "20\n"
     ]
    },
    {
     "name": "stdout",
     "output_type": "stream",
     "text": [
      "21\n"
     ]
    },
    {
     "name": "stdout",
     "output_type": "stream",
     "text": [
      "22\n"
     ]
    },
    {
     "name": "stdout",
     "output_type": "stream",
     "text": [
      "23\n"
     ]
    },
    {
     "name": "stdout",
     "output_type": "stream",
     "text": [
      "24\n"
     ]
    },
    {
     "name": "stdout",
     "output_type": "stream",
     "text": [
      "25\n"
     ]
    },
    {
     "name": "stdout",
     "output_type": "stream",
     "text": [
      "26\n"
     ]
    },
    {
     "name": "stdout",
     "output_type": "stream",
     "text": [
      "27\n"
     ]
    },
    {
     "name": "stdout",
     "output_type": "stream",
     "text": [
      "28\n"
     ]
    },
    {
     "name": "stdout",
     "output_type": "stream",
     "text": [
      "29\n"
     ]
    }
   ],
   "source": [
    "generator = MOBOGenerator(vocs=tnk_vocs, reference_point = {\"y1\":1.5,\"y2\":1.5})\n",
    "generator.n_monte_carlo_samples = N_MC_SAMPLES\n",
    "generator.numerical_optimizer.n_restarts = NUM_RESTARTS\n",
    "\n",
    "X = Xopt(generator=generator, evaluator=evaluator, vocs=tnk_vocs)\n",
    "X.evaluate_data(pd.DataFrame({\"x1\":[1.0, 0.75],\"x2\":[0.75, 1.0]}))\n",
    "\n",
    "for i in range(N_STEPS):\n",
    "    print(i)\n",
    "    X.step()"
   ]
  },
  {
   "cell_type": "code",
   "execution_count": 3,
   "metadata": {
    "collapsed": false,
    "execution": {
     "iopub.execute_input": "2024-08-20T19:36:54.936577Z",
     "iopub.status.busy": "2024-08-20T19:36:54.936086Z",
     "iopub.status.idle": "2024-08-20T19:36:54.956857Z",
     "shell.execute_reply": "2024-08-20T19:36:54.956227Z"
    }
   },
   "outputs": [
    {
     "data": {
      "text/html": [
       "<div>\n",
       "<style scoped>\n",
       "    .dataframe tbody tr th:only-of-type {\n",
       "        vertical-align: middle;\n",
       "    }\n",
       "\n",
       "    .dataframe tbody tr th {\n",
       "        vertical-align: top;\n",
       "    }\n",
       "\n",
       "    .dataframe thead th {\n",
       "        text-align: right;\n",
       "    }\n",
       "</style>\n",
       "<table border=\"1\" class=\"dataframe\">\n",
       "  <thead>\n",
       "    <tr style=\"text-align: right;\">\n",
       "      <th></th>\n",
       "      <th>x1</th>\n",
       "      <th>x2</th>\n",
       "      <th>a</th>\n",
       "      <th>y1</th>\n",
       "      <th>y2</th>\n",
       "      <th>c1</th>\n",
       "      <th>c2</th>\n",
       "      <th>xopt_runtime</th>\n",
       "      <th>xopt_error</th>\n",
       "    </tr>\n",
       "  </thead>\n",
       "  <tbody>\n",
       "    <tr>\n",
       "      <th>0</th>\n",
       "      <td>1.000000</td>\n",
       "      <td>0.750000</td>\n",
       "      <td>dummy_constant</td>\n",
       "      <td>1.000000</td>\n",
       "      <td>0.750000</td>\n",
       "      <td>0.626888</td>\n",
       "      <td>0.312500</td>\n",
       "      <td>0.000048</td>\n",
       "      <td>False</td>\n",
       "    </tr>\n",
       "    <tr>\n",
       "      <th>1</th>\n",
       "      <td>0.750000</td>\n",
       "      <td>1.000000</td>\n",
       "      <td>dummy_constant</td>\n",
       "      <td>0.750000</td>\n",
       "      <td>1.000000</td>\n",
       "      <td>0.626888</td>\n",
       "      <td>0.312500</td>\n",
       "      <td>0.000020</td>\n",
       "      <td>False</td>\n",
       "    </tr>\n",
       "    <tr>\n",
       "      <th>2</th>\n",
       "      <td>2.681568</td>\n",
       "      <td>0.000000</td>\n",
       "      <td>dummy_constant</td>\n",
       "      <td>2.681568</td>\n",
       "      <td>0.000000</td>\n",
       "      <td>6.090809</td>\n",
       "      <td>5.009241</td>\n",
       "      <td>0.000025</td>\n",
       "      <td>False</td>\n",
       "    </tr>\n",
       "    <tr>\n",
       "      <th>3</th>\n",
       "      <td>0.000000</td>\n",
       "      <td>0.000000</td>\n",
       "      <td>dummy_constant</td>\n",
       "      <td>0.000000</td>\n",
       "      <td>0.000000</td>\n",
       "      <td>-1.100000</td>\n",
       "      <td>0.500000</td>\n",
       "      <td>0.000023</td>\n",
       "      <td>False</td>\n",
       "    </tr>\n",
       "    <tr>\n",
       "      <th>4</th>\n",
       "      <td>0.567075</td>\n",
       "      <td>0.027784</td>\n",
       "      <td>dummy_constant</td>\n",
       "      <td>0.567075</td>\n",
       "      <td>0.027784</td>\n",
       "      <td>-0.748513</td>\n",
       "      <td>0.227487</td>\n",
       "      <td>0.000024</td>\n",
       "      <td>False</td>\n",
       "    </tr>\n",
       "    <tr>\n",
       "      <th>5</th>\n",
       "      <td>0.000000</td>\n",
       "      <td>0.371289</td>\n",
       "      <td>dummy_constant</td>\n",
       "      <td>0.000000</td>\n",
       "      <td>0.371289</td>\n",
       "      <td>-0.962145</td>\n",
       "      <td>0.266567</td>\n",
       "      <td>0.000025</td>\n",
       "      <td>False</td>\n",
       "    </tr>\n",
       "    <tr>\n",
       "      <th>6</th>\n",
       "      <td>0.964289</td>\n",
       "      <td>0.335228</td>\n",
       "      <td>dummy_constant</td>\n",
       "      <td>0.964289</td>\n",
       "      <td>0.335228</td>\n",
       "      <td>-0.017552</td>\n",
       "      <td>0.242714</td>\n",
       "      <td>0.000025</td>\n",
       "      <td>False</td>\n",
       "    </tr>\n",
       "    <tr>\n",
       "      <th>7</th>\n",
       "      <td>1.021391</td>\n",
       "      <td>0.321234</td>\n",
       "      <td>dummy_constant</td>\n",
       "      <td>1.021391</td>\n",
       "      <td>0.321234</td>\n",
       "      <td>0.130204</td>\n",
       "      <td>0.303806</td>\n",
       "      <td>0.000025</td>\n",
       "      <td>False</td>\n",
       "    </tr>\n",
       "    <tr>\n",
       "      <th>8</th>\n",
       "      <td>0.410611</td>\n",
       "      <td>1.006561</td>\n",
       "      <td>dummy_constant</td>\n",
       "      <td>0.410611</td>\n",
       "      <td>1.006561</td>\n",
       "      <td>0.082136</td>\n",
       "      <td>0.264595</td>\n",
       "      <td>0.000024</td>\n",
       "      <td>False</td>\n",
       "    </tr>\n",
       "    <tr>\n",
       "      <th>9</th>\n",
       "      <td>0.054925</td>\n",
       "      <td>1.113822</td>\n",
       "      <td>dummy_constant</td>\n",
       "      <td>0.054925</td>\n",
       "      <td>1.113822</td>\n",
       "      <td>0.173115</td>\n",
       "      <td>0.574869</td>\n",
       "      <td>0.000025</td>\n",
       "      <td>False</td>\n",
       "    </tr>\n",
       "    <tr>\n",
       "      <th>10</th>\n",
       "      <td>0.747683</td>\n",
       "      <td>0.778653</td>\n",
       "      <td>dummy_constant</td>\n",
       "      <td>0.747683</td>\n",
       "      <td>0.778653</td>\n",
       "      <td>0.070553</td>\n",
       "      <td>0.138994</td>\n",
       "      <td>0.000025</td>\n",
       "      <td>False</td>\n",
       "    </tr>\n",
       "    <tr>\n",
       "      <th>11</th>\n",
       "      <td>0.000000</td>\n",
       "      <td>3.141590</td>\n",
       "      <td>dummy_constant</td>\n",
       "      <td>0.000000</td>\n",
       "      <td>3.141590</td>\n",
       "      <td>8.769588</td>\n",
       "      <td>7.227998</td>\n",
       "      <td>0.000024</td>\n",
       "      <td>False</td>\n",
       "    </tr>\n",
       "    <tr>\n",
       "      <th>12</th>\n",
       "      <td>0.134985</td>\n",
       "      <td>1.061667</td>\n",
       "      <td>dummy_constant</td>\n",
       "      <td>0.134985</td>\n",
       "      <td>1.061667</td>\n",
       "      <td>0.189094</td>\n",
       "      <td>0.448706</td>\n",
       "      <td>0.000025</td>\n",
       "      <td>False</td>\n",
       "    </tr>\n",
       "    <tr>\n",
       "      <th>13</th>\n",
       "      <td>0.853209</td>\n",
       "      <td>0.063160</td>\n",
       "      <td>dummy_constant</td>\n",
       "      <td>0.853209</td>\n",
       "      <td>0.063160</td>\n",
       "      <td>-0.305928</td>\n",
       "      <td>0.315586</td>\n",
       "      <td>0.000024</td>\n",
       "      <td>False</td>\n",
       "    </tr>\n",
       "    <tr>\n",
       "      <th>14</th>\n",
       "      <td>0.577560</td>\n",
       "      <td>0.899561</td>\n",
       "      <td>dummy_constant</td>\n",
       "      <td>0.577560</td>\n",
       "      <td>0.899561</td>\n",
       "      <td>0.238538</td>\n",
       "      <td>0.165665</td>\n",
       "      <td>0.000024</td>\n",
       "      <td>False</td>\n",
       "    </tr>\n",
       "    <tr>\n",
       "      <th>15</th>\n",
       "      <td>0.061250</td>\n",
       "      <td>1.035371</td>\n",
       "      <td>dummy_constant</td>\n",
       "      <td>0.061250</td>\n",
       "      <td>1.035371</td>\n",
       "      <td>0.017204</td>\n",
       "      <td>0.479124</td>\n",
       "      <td>0.000025</td>\n",
       "      <td>False</td>\n",
       "    </tr>\n",
       "    <tr>\n",
       "      <th>16</th>\n",
       "      <td>0.866986</td>\n",
       "      <td>0.598603</td>\n",
       "      <td>dummy_constant</td>\n",
       "      <td>0.866986</td>\n",
       "      <td>0.598603</td>\n",
       "      <td>0.207034</td>\n",
       "      <td>0.144401</td>\n",
       "      <td>0.000024</td>\n",
       "      <td>False</td>\n",
       "    </tr>\n",
       "    <tr>\n",
       "      <th>17</th>\n",
       "      <td>0.637908</td>\n",
       "      <td>0.800923</td>\n",
       "      <td>dummy_constant</td>\n",
       "      <td>0.637908</td>\n",
       "      <td>0.800923</td>\n",
       "      <td>0.071617</td>\n",
       "      <td>0.109573</td>\n",
       "      <td>0.000025</td>\n",
       "      <td>False</td>\n",
       "    </tr>\n",
       "    <tr>\n",
       "      <th>18</th>\n",
       "      <td>0.525750</td>\n",
       "      <td>0.493787</td>\n",
       "      <td>dummy_constant</td>\n",
       "      <td>0.525750</td>\n",
       "      <td>0.493787</td>\n",
       "      <td>-0.567451</td>\n",
       "      <td>0.000702</td>\n",
       "      <td>0.000024</td>\n",
       "      <td>False</td>\n",
       "    </tr>\n",
       "    <tr>\n",
       "      <th>19</th>\n",
       "      <td>0.377159</td>\n",
       "      <td>0.957717</td>\n",
       "      <td>dummy_constant</td>\n",
       "      <td>0.377159</td>\n",
       "      <td>0.957717</td>\n",
       "      <td>-0.036617</td>\n",
       "      <td>0.224595</td>\n",
       "      <td>0.000025</td>\n",
       "      <td>False</td>\n",
       "    </tr>\n",
       "    <tr>\n",
       "      <th>20</th>\n",
       "      <td>0.903529</td>\n",
       "      <td>0.467096</td>\n",
       "      <td>dummy_constant</td>\n",
       "      <td>0.903529</td>\n",
       "      <td>0.467096</td>\n",
       "      <td>0.012730</td>\n",
       "      <td>0.163918</td>\n",
       "      <td>0.000025</td>\n",
       "      <td>False</td>\n",
       "    </tr>\n",
       "    <tr>\n",
       "      <th>21</th>\n",
       "      <td>1.040707</td>\n",
       "      <td>0.108652</td>\n",
       "      <td>dummy_constant</td>\n",
       "      <td>1.040707</td>\n",
       "      <td>0.108652</td>\n",
       "      <td>0.104224</td>\n",
       "      <td>0.445517</td>\n",
       "      <td>0.000025</td>\n",
       "      <td>False</td>\n",
       "    </tr>\n",
       "    <tr>\n",
       "      <th>22</th>\n",
       "      <td>0.773008</td>\n",
       "      <td>0.667323</td>\n",
       "      <td>dummy_constant</td>\n",
       "      <td>0.773008</td>\n",
       "      <td>0.667323</td>\n",
       "      <td>0.004021</td>\n",
       "      <td>0.102530</td>\n",
       "      <td>0.000024</td>\n",
       "      <td>False</td>\n",
       "    </tr>\n",
       "    <tr>\n",
       "      <th>23</th>\n",
       "      <td>0.489401</td>\n",
       "      <td>0.919456</td>\n",
       "      <td>dummy_constant</td>\n",
       "      <td>0.489401</td>\n",
       "      <td>0.919456</td>\n",
       "      <td>0.082124</td>\n",
       "      <td>0.176055</td>\n",
       "      <td>0.000025</td>\n",
       "      <td>False</td>\n",
       "    </tr>\n",
       "    <tr>\n",
       "      <th>24</th>\n",
       "      <td>0.422291</td>\n",
       "      <td>0.830213</td>\n",
       "      <td>dummy_constant</td>\n",
       "      <td>0.422291</td>\n",
       "      <td>0.830213</td>\n",
       "      <td>-0.164371</td>\n",
       "      <td>0.115079</td>\n",
       "      <td>0.000025</td>\n",
       "      <td>False</td>\n",
       "    </tr>\n",
       "    <tr>\n",
       "      <th>25</th>\n",
       "      <td>0.885697</td>\n",
       "      <td>0.299380</td>\n",
       "      <td>dummy_constant</td>\n",
       "      <td>0.885697</td>\n",
       "      <td>0.299380</td>\n",
       "      <td>-0.174114</td>\n",
       "      <td>0.189011</td>\n",
       "      <td>0.000024</td>\n",
       "      <td>False</td>\n",
       "    </tr>\n",
       "    <tr>\n",
       "      <th>26</th>\n",
       "      <td>1.395892</td>\n",
       "      <td>0.298503</td>\n",
       "      <td>dummy_constant</td>\n",
       "      <td>1.395892</td>\n",
       "      <td>0.298503</td>\n",
       "      <td>1.135004</td>\n",
       "      <td>0.843223</td>\n",
       "      <td>0.000026</td>\n",
       "      <td>False</td>\n",
       "    </tr>\n",
       "    <tr>\n",
       "      <th>27</th>\n",
       "      <td>0.244630</td>\n",
       "      <td>1.005893</td>\n",
       "      <td>dummy_constant</td>\n",
       "      <td>0.244630</td>\n",
       "      <td>1.005893</td>\n",
       "      <td>0.149708</td>\n",
       "      <td>0.321142</td>\n",
       "      <td>0.000026</td>\n",
       "      <td>False</td>\n",
       "    </tr>\n",
       "    <tr>\n",
       "      <th>28</th>\n",
       "      <td>0.280028</td>\n",
       "      <td>0.888020</td>\n",
       "      <td>dummy_constant</td>\n",
       "      <td>0.280028</td>\n",
       "      <td>0.888020</td>\n",
       "      <td>-0.150429</td>\n",
       "      <td>0.198947</td>\n",
       "      <td>0.000027</td>\n",
       "      <td>False</td>\n",
       "    </tr>\n",
       "    <tr>\n",
       "      <th>29</th>\n",
       "      <td>1.250441</td>\n",
       "      <td>0.076203</td>\n",
       "      <td>dummy_constant</td>\n",
       "      <td>1.250441</td>\n",
       "      <td>0.076203</td>\n",
       "      <td>0.513197</td>\n",
       "      <td>0.742766</td>\n",
       "      <td>0.000024</td>\n",
       "      <td>False</td>\n",
       "    </tr>\n",
       "    <tr>\n",
       "      <th>30</th>\n",
       "      <td>1.034038</td>\n",
       "      <td>0.053313</td>\n",
       "      <td>dummy_constant</td>\n",
       "      <td>1.034038</td>\n",
       "      <td>0.053313</td>\n",
       "      <td>0.004162</td>\n",
       "      <td>0.484726</td>\n",
       "      <td>0.000025</td>\n",
       "      <td>False</td>\n",
       "    </tr>\n",
       "    <tr>\n",
       "      <th>31</th>\n",
       "      <td>0.423054</td>\n",
       "      <td>0.925360</td>\n",
       "      <td>dummy_constant</td>\n",
       "      <td>0.423054</td>\n",
       "      <td>0.925360</td>\n",
       "      <td>-0.048505</td>\n",
       "      <td>0.186852</td>\n",
       "      <td>0.000026</td>\n",
       "      <td>False</td>\n",
       "    </tr>\n",
       "  </tbody>\n",
       "</table>\n",
       "</div>"
      ],
      "text/plain": [
       "          x1        x2               a        y1        y2        c1  \\\n",
       "0   1.000000  0.750000  dummy_constant  1.000000  0.750000  0.626888   \n",
       "1   0.750000  1.000000  dummy_constant  0.750000  1.000000  0.626888   \n",
       "2   2.681568  0.000000  dummy_constant  2.681568  0.000000  6.090809   \n",
       "3   0.000000  0.000000  dummy_constant  0.000000  0.000000 -1.100000   \n",
       "4   0.567075  0.027784  dummy_constant  0.567075  0.027784 -0.748513   \n",
       "5   0.000000  0.371289  dummy_constant  0.000000  0.371289 -0.962145   \n",
       "6   0.964289  0.335228  dummy_constant  0.964289  0.335228 -0.017552   \n",
       "7   1.021391  0.321234  dummy_constant  1.021391  0.321234  0.130204   \n",
       "8   0.410611  1.006561  dummy_constant  0.410611  1.006561  0.082136   \n",
       "9   0.054925  1.113822  dummy_constant  0.054925  1.113822  0.173115   \n",
       "10  0.747683  0.778653  dummy_constant  0.747683  0.778653  0.070553   \n",
       "11  0.000000  3.141590  dummy_constant  0.000000  3.141590  8.769588   \n",
       "12  0.134985  1.061667  dummy_constant  0.134985  1.061667  0.189094   \n",
       "13  0.853209  0.063160  dummy_constant  0.853209  0.063160 -0.305928   \n",
       "14  0.577560  0.899561  dummy_constant  0.577560  0.899561  0.238538   \n",
       "15  0.061250  1.035371  dummy_constant  0.061250  1.035371  0.017204   \n",
       "16  0.866986  0.598603  dummy_constant  0.866986  0.598603  0.207034   \n",
       "17  0.637908  0.800923  dummy_constant  0.637908  0.800923  0.071617   \n",
       "18  0.525750  0.493787  dummy_constant  0.525750  0.493787 -0.567451   \n",
       "19  0.377159  0.957717  dummy_constant  0.377159  0.957717 -0.036617   \n",
       "20  0.903529  0.467096  dummy_constant  0.903529  0.467096  0.012730   \n",
       "21  1.040707  0.108652  dummy_constant  1.040707  0.108652  0.104224   \n",
       "22  0.773008  0.667323  dummy_constant  0.773008  0.667323  0.004021   \n",
       "23  0.489401  0.919456  dummy_constant  0.489401  0.919456  0.082124   \n",
       "24  0.422291  0.830213  dummy_constant  0.422291  0.830213 -0.164371   \n",
       "25  0.885697  0.299380  dummy_constant  0.885697  0.299380 -0.174114   \n",
       "26  1.395892  0.298503  dummy_constant  1.395892  0.298503  1.135004   \n",
       "27  0.244630  1.005893  dummy_constant  0.244630  1.005893  0.149708   \n",
       "28  0.280028  0.888020  dummy_constant  0.280028  0.888020 -0.150429   \n",
       "29  1.250441  0.076203  dummy_constant  1.250441  0.076203  0.513197   \n",
       "30  1.034038  0.053313  dummy_constant  1.034038  0.053313  0.004162   \n",
       "31  0.423054  0.925360  dummy_constant  0.423054  0.925360 -0.048505   \n",
       "\n",
       "          c2  xopt_runtime  xopt_error  \n",
       "0   0.312500      0.000048       False  \n",
       "1   0.312500      0.000020       False  \n",
       "2   5.009241      0.000025       False  \n",
       "3   0.500000      0.000023       False  \n",
       "4   0.227487      0.000024       False  \n",
       "5   0.266567      0.000025       False  \n",
       "6   0.242714      0.000025       False  \n",
       "7   0.303806      0.000025       False  \n",
       "8   0.264595      0.000024       False  \n",
       "9   0.574869      0.000025       False  \n",
       "10  0.138994      0.000025       False  \n",
       "11  7.227998      0.000024       False  \n",
       "12  0.448706      0.000025       False  \n",
       "13  0.315586      0.000024       False  \n",
       "14  0.165665      0.000024       False  \n",
       "15  0.479124      0.000025       False  \n",
       "16  0.144401      0.000024       False  \n",
       "17  0.109573      0.000025       False  \n",
       "18  0.000702      0.000024       False  \n",
       "19  0.224595      0.000025       False  \n",
       "20  0.163918      0.000025       False  \n",
       "21  0.445517      0.000025       False  \n",
       "22  0.102530      0.000024       False  \n",
       "23  0.176055      0.000025       False  \n",
       "24  0.115079      0.000025       False  \n",
       "25  0.189011      0.000024       False  \n",
       "26  0.843223      0.000026       False  \n",
       "27  0.321142      0.000026       False  \n",
       "28  0.198947      0.000027       False  \n",
       "29  0.742766      0.000024       False  \n",
       "30  0.484726      0.000025       False  \n",
       "31  0.186852      0.000026       False  "
      ]
     },
     "execution_count": 3,
     "metadata": {},
     "output_type": "execute_result"
    }
   ],
   "source": [
    "X.generator.data"
   ]
  },
  {
   "cell_type": "markdown",
   "metadata": {
    "collapsed": false
   },
   "source": [
    "## plot results\n"
   ]
  },
  {
   "cell_type": "code",
   "execution_count": 4,
   "metadata": {
    "collapsed": false,
    "execution": {
     "iopub.execute_input": "2024-08-20T19:36:54.959348Z",
     "iopub.status.busy": "2024-08-20T19:36:54.959161Z",
     "iopub.status.idle": "2024-08-20T19:36:55.326086Z",
     "shell.execute_reply": "2024-08-20T19:36:55.325436Z"
    }
   },
   "outputs": [
    {
     "data": {
      "image/png": "[encoded data removed]",
      "text/plain": [
       "<Figure size 640x480 with 1 Axes>"
      ]
     },
     "metadata": {},
     "output_type": "display_data"
    }
   ],
   "source": [
    "import matplotlib.pyplot as plt\n",
    "\n",
    "fig, ax = plt.subplots()\n",
    "\n",
    "theta = np.linspace(0, np.pi / 2)\n",
    "r = np.sqrt(1 + 0.1 * np.cos(16 * theta))\n",
    "x_1 = r * np.sin(theta)\n",
    "x_2_lower = r * np.cos(theta)\n",
    "x_2_upper = (0.5 - (x_1 - 0.5) ** 2) ** 0.5 + 0.5\n",
    "\n",
    "z = np.zeros_like(x_1)\n",
    "\n",
    "# ax2.plot(x_1, x_2_lower,'r')\n",
    "ax.fill_between(x_1, z, x_2_lower, fc=\"white\")\n",
    "circle = plt.Circle(\n",
    "    (0.5, 0.5), 0.5 ** 0.5, color=\"r\", alpha=0.25, zorder=0, label=\"Valid Region\"\n",
    ")\n",
    "ax.add_patch(circle)\n",
    "history = pd.concat(\n",
    "    [X.data, tnk_vocs.feasibility_data(X.data)], axis=1, ignore_index=False\n",
    ")\n",
    "\n",
    "\n",
    "ax.plot(*history[[\"x1\", \"x2\"]][history[\"feasible\"]].to_numpy().T, \".C1\")\n",
    "ax.plot(*history[[\"x1\", \"x2\"]][~history[\"feasible\"]].to_numpy().T, \".C2\")\n",
    "\n",
    "ax.set_xlim(0, 3.14)\n",
    "ax.set_ylim(0, 3.14)\n",
    "ax.set_xlabel(\"x1\")\n",
    "ax.set_ylabel(\"x2\")\n",
    "ax.set_aspect(\"equal\")"
   ]
  },
  {
   "cell_type": "markdown",
   "metadata": {
    "collapsed": false
   },
   "source": [
    "### Plot path through input space"
   ]
  },
  {
   "cell_type": "code",
   "execution_count": 5,
   "metadata": {
    "collapsed": false,
    "execution": {
     "iopub.execute_input": "2024-08-20T19:36:55.328761Z",
     "iopub.status.busy": "2024-08-20T19:36:55.328275Z",
     "iopub.status.idle": "2024-08-20T19:36:55.559636Z",
     "shell.execute_reply": "2024-08-20T19:36:55.559010Z"
    }
   },
   "outputs": [
    {
     "data": {
      "image/png": "[encoded data removed]",
      "text/plain": [
       "<Figure size 640x480 with 1 Axes>"
      ]
     },
     "metadata": {},
     "output_type": "display_data"
    }
   ],
   "source": [
    "ax = history.plot(\"x1\", \"x2\")\n",
    "ax.set_ylim(0, 3.14)\n",
    "ax.set_xlim(0, 3.14)\n",
    "ax.set_aspect(\"equal\")"
   ]
  },
  {
   "cell_type": "code",
   "execution_count": 6,
   "metadata": {
    "collapsed": false,
    "execution": {
     "iopub.execute_input": "2024-08-20T19:36:55.562033Z",
     "iopub.status.busy": "2024-08-20T19:36:55.561728Z",
     "iopub.status.idle": "2024-08-20T19:37:08.599696Z",
     "shell.execute_reply": "2024-08-20T19:37:08.599037Z"
    }
   },
   "outputs": [
    {
     "name": "stdout",
     "output_type": "stream",
     "text": [
      "[[0.54687593 0.86105863]]\n"
     ]
    },
    {
     "data": {
      "text/plain": [
       "[<matplotlib.lines.Line2D at 0x7fa6c00ef7f0>]"
      ]
     },
     "execution_count": 6,
     "metadata": {},
     "output_type": "execute_result"
    },
    {
     "data": {
      "image/png": "[encoded data removed]",
      "text/plain": [
       "<Figure size 640x480 with 2 Axes>"
      ]
     },
     "metadata": {},
     "output_type": "display_data"
    },
    {
     "data": {
      "image/png": "[encoded data removed]",
      "text/plain": [
       "<Figure size 640x480 with 2 Axes>"
      ]
     },
     "metadata": {},
     "output_type": "display_data"
    }
   ],
   "source": [
    "# plot the acquisition function\n",
    "from xopt.generators.bayesian.objectives import feasibility\n",
    "\n",
    "bounds = X.generator.vocs.bounds\n",
    "model = X.generator.model\n",
    "\n",
    "# create mesh\n",
    "n = 200\n",
    "x = torch.linspace(*bounds.T[0], n)\n",
    "y = torch.linspace(*bounds.T[1], n)\n",
    "xx, yy = torch.meshgrid(x, y)\n",
    "pts = torch.hstack([ele.reshape(-1, 1) for ele in (xx, yy)]).double()\n",
    "\n",
    "xx, yy = xx.numpy(), yy.numpy()\n",
    "\n",
    "acq_func = X.generator.get_acquisition(model)\n",
    "with torch.no_grad():\n",
    "    acq_pts = pts.unsqueeze(1)\n",
    "    acq = acq_func(acq_pts)\n",
    "\n",
    "    fig, ax = plt.subplots()\n",
    "    c = ax.pcolor(xx, yy, acq.reshape(n, n), cmap=\"Blues\")\n",
    "    fig.colorbar(c)\n",
    "    ax.set_title(\"Acquisition function\")\n",
    "\n",
    "    ax.plot(*history[[\"x1\", \"x2\"]][history[\"feasible\"]].to_numpy().T, \".C1\")\n",
    "    ax.plot(*history[[\"x1\", \"x2\"]][~history[\"feasible\"]].to_numpy().T, \".C2\")\n",
    "\n",
    "    ax.plot(*history[[\"x1\", \"x2\"]].to_numpy()[-1].T, \"+\")\n",
    "\n",
    "    feas = feasibility(pts.unsqueeze(1), model, tnk_vocs).flatten()\n",
    "\n",
    "    fig2, ax2 = plt.subplots()\n",
    "    c = ax2.pcolor(xx, yy, feas.reshape(n, n))\n",
    "    fig2.colorbar(c)\n",
    "    ax2.set_title(\"Feasible Region\")\n",
    "\n",
    "candidate = pd.DataFrame(X.generator.generate(1), index=[0])\n",
    "print(candidate[[\"x1\", \"x2\"]].to_numpy())\n",
    "ax.plot(*candidate[[\"x1\", \"x2\"]].to_numpy()[0], \"o\")"
   ]
  },
  {
   "cell_type": "code",
   "execution_count": 7,
   "metadata": {
    "collapsed": false,
    "execution": {
     "iopub.execute_input": "2024-08-20T19:37:08.602043Z",
     "iopub.status.busy": "2024-08-20T19:37:08.601664Z",
     "iopub.status.idle": "2024-08-20T19:37:09.483964Z",
     "shell.execute_reply": "2024-08-20T19:37:09.483300Z"
    }
   },
   "outputs": [
    {
     "name": "stdout",
     "output_type": "stream",
     "text": [
      "CPU times: user 1.74 s, sys: 15.8 ms, total: 1.75 s\n",
      "Wall time: 878 ms\n"
     ]
    }
   ],
   "source": [
    "%%time\n",
    "candidate = X.generator.generate(1)"
   ]
  }
 ],
 "metadata": {
  "interpreter": {
   "hash": "72034539424920dfb606fe3b820b3f27dca0cbf1c69938110810ec4641e275b1"
  },
  "kernelspec": {
   "display_name": "Python 3 (ipykernel)",
   "language": "python",
   "name": "python3"
  },
  "language_info": {
   "codemirror_mode": {
    "name": "ipython",
    "version": 3
   },
   "file_extension": ".py",
   "mimetype": "text/x-python",
   "name": "python",
   "nbconvert_exporter": "python",
   "pygments_lexer": "ipython3",
   "version": "3.9.19"
  }
 },
 "nbformat": 4,
 "nbformat_minor": 4
}
