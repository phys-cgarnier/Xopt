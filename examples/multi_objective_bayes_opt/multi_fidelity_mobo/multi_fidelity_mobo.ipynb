{
 "cells": [
  {
   "cell_type": "markdown",
   "metadata": {},
   "source": [
    "# Multi-fidelity Multi-objective Bayesian Optimization\n",
    "\n",
    "Here we attempt to solve for the constrained Pareto front of the TNK multi-objective\n",
    "optimization problem using Multi-Fidelity Multi-Objective Bayesian optimization. For\n",
    "simplicity we assume that the objective and constraint functions at lower fidelities is\n",
    "exactly equal to the functions at higher fidelities (this is obviously not a\n",
    "requirement, although for the best results lower fidelity calculations should\n",
    "correlate with higher fidelity ones). The algorithm should learn this relationship\n",
    "and use information gathered at lower fidelities to gather samples to improve the\n",
    "hypervolume of the Pareto front at the maximum fidelity.\n",
    "\n",
    "TNK function\n",
    "$n=2$ variables:\n",
    "$x_i \\in [0, \\pi], i=1,2$\n",
    "\n",
    "Objectives:\n",
    "- $f_i(x) = x_i$\n",
    "\n",
    "Constraints:\n",
    "- $g_1(x) = -x_1^2 -x_2^2 + 1 + 0.1 \\cos\\left(16 \\arctan \\frac{x_1}{x_2}\\right) \\le 0$\n",
    "- $g_2(x) = (x_1 - 1/2)^2 + (x_2-1/2)^2 \\le 0.5$"
   ]
  },
  {
   "cell_type": "code",
   "execution_count": 1,
   "metadata": {
    "ExecuteTime": {
     "end_time": "2023-09-08T19:59:39.796072500Z",
     "start_time": "2023-09-08T19:59:36.907807600Z"
    },
    "collapsed": false,
    "execution": {
     "iopub.execute_input": "2023-09-08T22:01:45.935870Z",
     "iopub.status.busy": "2023-09-08T22:01:45.935422Z",
     "iopub.status.idle": "2023-09-08T22:01:48.168331Z",
     "shell.execute_reply": "2023-09-08T22:01:48.166763Z"
    }
   },
   "outputs": [
    {
     "name": "stdout",
     "output_type": "stream",
     "text": [
      "{'variables': {'x1': [0.0, 3.14159], 'x2': [0.0, 3.14159]}, 'constraints': {'c1': ['GREATER_THAN', 0.0], 'c2': ['LESS_THAN', 0.5]}, 'objectives': {'y1': 'MINIMIZE', 'y2': 'MINIMIZE'}, 'constants': {'a': 'dummy_constant'}, 'observables': []}\n"
     ]
    }
   ],
   "source": [
    "# set values if testing\n",
    "import os\n",
    "SMOKE_TEST = os.environ.get(\"SMOKE_TEST\")\n",
    "N_MC_SAMPLES = 1 if SMOKE_TEST else 128\n",
    "NUM_RESTARTS = 1 if SMOKE_TEST else 20\n",
    "BUDGET = 0.02 if SMOKE_TEST else 10\n",
    "\n",
    "# Ignore all warnings\n",
    "import warnings\n",
    "warnings.filterwarnings(\"ignore\")\n",
    "\n",
    "import pandas as pd\n",
    "import numpy as np\n",
    "import torch\n",
    "\n",
    "from xopt import Xopt, Evaluator\n",
    "from xopt.generators.bayesian import MultiFidelityGenerator\n",
    "from xopt.resources.test_functions.tnk import evaluate_TNK, tnk_vocs\n",
    "\n",
    "evaluator = Evaluator(function=evaluate_TNK)\n",
    "print(tnk_vocs.dict())"
   ]
  },
  {
   "cell_type": "markdown",
   "metadata": {
    "collapsed": false
   },
   "source": [
    "## Set up the Multi-Fidelity Multi-objective optimization algorithm\n",
    "Here we create the Multi-Fidelity generator object which can solve both single and\n",
    "multi-objective optimization problems depending on the number of objectives in VOCS.\n",
    "We specify a cost function as a function of fidelity parameter $s=[0,1]$ as $C(s) =\n",
    "s^{3.5}$ as an example from a real life multi-fidelity simulation problem."
   ]
  },
  {
   "cell_type": "code",
   "execution_count": 2,
   "metadata": {
    "ExecuteTime": {
     "end_time": "2023-09-08T19:59:39.845072400Z",
     "start_time": "2023-09-08T19:59:39.800072500Z"
    },
    "collapsed": false,
    "execution": {
     "iopub.execute_input": "2023-09-08T22:01:48.208673Z",
     "iopub.status.busy": "2023-09-08T22:01:48.207944Z",
     "iopub.status.idle": "2023-09-08T22:01:48.230442Z",
     "shell.execute_reply": "2023-09-08T22:01:48.229734Z"
    }
   },
   "outputs": [
    {
     "data": {
      "text/plain": [
       "\n",
       "            Xopt\n",
       "________________________________\n",
       "Version: 0+untagged.1.gc8a1007\n",
       "Data size: 2\n",
       "Config as YAML:\n",
       "dump_file: null\n",
       "evaluator:\n",
       "  function: !!python/name:xopt.resources.test_functions.tnk.evaluate_TNK ''\n",
       "  function_kwargs:\n",
       "    raise_probability: 0\n",
       "    random_sleep: 0\n",
       "    sleep: 0\n",
       "  max_workers: 1\n",
       "  vectorized: false\n",
       "generator:\n",
       "  computation_time: null\n",
       "  cost_function: !!python/name:__main__.%3Clambda%3E ''\n",
       "  fidelity_parameter: s\n",
       "  fixed_features: null\n",
       "  max_travel_distances: null\n",
       "  model: null\n",
       "  model_constructor:\n",
       "    covar_modules: {}\n",
       "    mean_modules: {}\n",
       "    name: standard\n",
       "    trainable_mean_keys: []\n",
       "    use_low_noise_prior: true\n",
       "  n_candidates: 1\n",
       "  n_monte_carlo_samples: 128\n",
       "  name: multi_fidelity\n",
       "  numerical_optimizer:\n",
       "    max_iter: 2000\n",
       "    n_raw_samples: 20\n",
       "    n_restarts: 20\n",
       "    name: LBFGS\n",
       "  reference_point:\n",
       "    s: 0.0\n",
       "    y1: 1.5\n",
       "    y2: 1.5\n",
       "  turbo_controller: null\n",
       "  use_cuda: false\n",
       "max_evaluations: null\n",
       "serialize_torch: false\n",
       "strict: true\n",
       "vocs:\n",
       "  constants:\n",
       "    a: dummy_constant\n",
       "  constraints: {}\n",
       "  objectives:\n",
       "    s: MAXIMIZE\n",
       "    y1: MINIMIZE\n",
       "    y2: MINIMIZE\n",
       "  observables: []\n",
       "  variables:\n",
       "    s:\n",
       "    - 0\n",
       "    - 1\n",
       "    x1:\n",
       "    - 0.0\n",
       "    - 3.14159\n",
       "    x2:\n",
       "    - 0.0\n",
       "    - 3.14159\n"
      ]
     },
     "execution_count": 2,
     "metadata": {},
     "output_type": "execute_result"
    }
   ],
   "source": [
    "from copy import deepcopy\n",
    "my_vocs = deepcopy(tnk_vocs)\n",
    "my_vocs.constraints = {}\n",
    "generator = MultiFidelityGenerator(vocs=my_vocs, reference_point = {\"y1\":1.5,\"y2\":1.5})\n",
    "\n",
    "# set cost function according to approximate scaling of laser plasma accelerator\n",
    "# problem, see https://journals.aps.org/prresearch/abstract/10.1103/PhysRevResearch.5.013063\n",
    "generator.cost_function = lambda s: s**3.5\n",
    "generator.numerical_optimizer.n_restarts = NUM_RESTARTS\n",
    "generator.n_monte_carlo_samples = N_MC_SAMPLES\n",
    "\n",
    "X = Xopt(generator=generator, evaluator=evaluator, vocs=my_vocs)\n",
    "\n",
    "# evaluate at some explicit initial points\n",
    "X.evaluate_data(pd.DataFrame({\"x1\":[1.0, 0.75],\"x2\":[0.75, 1.0],\"s\":[0.0,0.1]}))\n",
    "\n",
    "X"
   ]
  },
  {
   "cell_type": "markdown",
   "metadata": {
    "collapsed": false
   },
   "source": [
    "## Run optimization routine\n",
    "Instead of ending the optimization routine after an explict number of samples we end\n",
    "optimization once a given optimization budget has been exceeded. WARNING: This will\n",
    "slightly exceed the given budget"
   ]
  },
  {
   "cell_type": "code",
   "execution_count": 3,
   "metadata": {
    "ExecuteTime": {
     "end_time": "2023-09-08T19:59:45.303092700Z",
     "start_time": "2023-09-08T19:59:39.840073900Z"
    },
    "collapsed": false,
    "execution": {
     "iopub.execute_input": "2023-09-08T22:01:48.233866Z",
     "iopub.status.busy": "2023-09-08T22:01:48.233501Z",
     "iopub.status.idle": "2023-09-08T22:03:48.811834Z",
     "shell.execute_reply": "2023-09-08T22:03:48.811176Z"
    }
   },
   "outputs": [
    {
     "name": "stdout",
     "output_type": "stream",
     "text": [
      "n_samples: 3 budget used: 0.005679 hypervolume: 0.0375\n",
      "n_samples: 4 budget used: 0.01568 hypervolume: 0.532\n",
      "n_samples: 5 budget used: 0.01683 hypervolume: 0.5705\n",
      "n_samples: 6 budget used: 0.03869 hypervolume: 0.7548\n",
      "n_samples: 7 budget used: 0.09573 hypervolume: 0.9927\n",
      "n_samples: 8 budget used: 0.213 hypervolume: 1.22\n",
      "n_samples: 9 budget used: 0.223 hypervolume: 1.22\n",
      "n_samples: 10 budget used: 0.4946 hypervolume: 1.55\n",
      "n_samples: 11 budget used: 0.9899 hypervolume: 1.841\n",
      "n_samples: 12 budget used: 1.953 hypervolume: 2.226\n",
      "n_samples: 13 budget used: 1.963 hypervolume: 2.226\n",
      "n_samples: 14 budget used: 2.963 hypervolume: 2.242\n",
      "n_samples: 15 budget used: 3.963 hypervolume: 2.247\n",
      "n_samples: 16 budget used: 4.963 hypervolume: 2.247\n",
      "n_samples: 17 budget used: 5.963 hypervolume: 2.249\n",
      "n_samples: 18 budget used: 6.963 hypervolume: 2.249\n",
      "n_samples: 19 budget used: 7.963 hypervolume: 2.249\n",
      "n_samples: 20 budget used: 8.963 hypervolume: 2.249\n",
      "n_samples: 21 budget used: 9.003 hypervolume: 2.249\n",
      "n_samples: 22 budget used: 9.089 hypervolume: 2.249\n",
      "n_samples: 23 budget used: 9.131 hypervolume: 2.249\n",
      "n_samples: 24 budget used: 9.233 hypervolume: 2.249\n",
      "n_samples: 25 budget used: 9.627 hypervolume: 2.249\n",
      "n_samples: 26 budget used: 10.0 hypervolume: 2.249\n"
     ]
    }
   ],
   "source": [
    "budget = BUDGET\n",
    "while X.generator.calculate_total_cost() < budget:\n",
    "    X.step()\n",
    "    print(f\"n_samples: {len(X.data)} \"\n",
    "          f\"budget used: {X.generator.calculate_total_cost():.4} \"\n",
    "          f\"hypervolume: {X.generator.calculate_hypervolume():.4}\")"
   ]
  },
  {
   "cell_type": "markdown",
   "metadata": {
    "collapsed": false
   },
   "source": [
    "## Show results"
   ]
  },
  {
   "cell_type": "code",
   "execution_count": 4,
   "metadata": {
    "ExecuteTime": {
     "end_time": "2023-09-08T19:59:45.325092300Z",
     "start_time": "2023-09-08T19:59:45.303092700Z"
    },
    "collapsed": false,
    "execution": {
     "iopub.execute_input": "2023-09-08T22:03:48.815250Z",
     "iopub.status.busy": "2023-09-08T22:03:48.814631Z",
     "iopub.status.idle": "2023-09-08T22:03:48.832181Z",
     "shell.execute_reply": "2023-09-08T22:03:48.831394Z"
    }
   },
   "outputs": [
    {
     "data": {
      "text/html": [
       "<div>\n",
       "<style scoped>\n",
       "    .dataframe tbody tr th:only-of-type {\n",
       "        vertical-align: middle;\n",
       "    }\n",
       "\n",
       "    .dataframe tbody tr th {\n",
       "        vertical-align: top;\n",
       "    }\n",
       "\n",
       "    .dataframe thead th {\n",
       "        text-align: right;\n",
       "    }\n",
       "</style>\n",
       "<table border=\"1\" class=\"dataframe\">\n",
       "  <thead>\n",
       "    <tr style=\"text-align: right;\">\n",
       "      <th></th>\n",
       "      <th>x1</th>\n",
       "      <th>x2</th>\n",
       "      <th>s</th>\n",
       "      <th>y1</th>\n",
       "      <th>y2</th>\n",
       "      <th>c1</th>\n",
       "      <th>c2</th>\n",
       "      <th>xopt_runtime</th>\n",
       "      <th>xopt_error</th>\n",
       "    </tr>\n",
       "  </thead>\n",
       "  <tbody>\n",
       "    <tr>\n",
       "      <th>0</th>\n",
       "      <td>1.000000</td>\n",
       "      <td>0.750000</td>\n",
       "      <td>0.000000</td>\n",
       "      <td>1.000000</td>\n",
       "      <td>0.750000</td>\n",
       "      <td>0.626888</td>\n",
       "      <td>0.312500</td>\n",
       "      <td>0.000051</td>\n",
       "      <td>False</td>\n",
       "    </tr>\n",
       "    <tr>\n",
       "      <th>1</th>\n",
       "      <td>0.750000</td>\n",
       "      <td>1.000000</td>\n",
       "      <td>0.100000</td>\n",
       "      <td>0.750000</td>\n",
       "      <td>1.000000</td>\n",
       "      <td>0.626888</td>\n",
       "      <td>0.312500</td>\n",
       "      <td>0.000009</td>\n",
       "      <td>False</td>\n",
       "    </tr>\n",
       "    <tr>\n",
       "      <th>3</th>\n",
       "      <td>0.377491</td>\n",
       "      <td>2.083910</td>\n",
       "      <td>0.224525</td>\n",
       "      <td>0.377491</td>\n",
       "      <td>2.083910</td>\n",
       "      <td>3.581440</td>\n",
       "      <td>2.523779</td>\n",
       "      <td>0.000036</td>\n",
       "      <td>False</td>\n",
       "    </tr>\n",
       "    <tr>\n",
       "      <th>4</th>\n",
       "      <td>0.000000</td>\n",
       "      <td>0.178035</td>\n",
       "      <td>0.268270</td>\n",
       "      <td>0.000000</td>\n",
       "      <td>0.178035</td>\n",
       "      <td>-1.068304</td>\n",
       "      <td>0.353661</td>\n",
       "      <td>0.000047</td>\n",
       "      <td>False</td>\n",
       "    </tr>\n",
       "    <tr>\n",
       "      <th>5</th>\n",
       "      <td>0.000000</td>\n",
       "      <td>0.000000</td>\n",
       "      <td>0.144478</td>\n",
       "      <td>0.000000</td>\n",
       "      <td>0.000000</td>\n",
       "      <td>-1.100000</td>\n",
       "      <td>0.500000</td>\n",
       "      <td>0.000035</td>\n",
       "      <td>False</td>\n",
       "    </tr>\n",
       "    <tr>\n",
       "      <th>6</th>\n",
       "      <td>0.000000</td>\n",
       "      <td>0.000000</td>\n",
       "      <td>0.335448</td>\n",
       "      <td>0.000000</td>\n",
       "      <td>0.000000</td>\n",
       "      <td>-1.100000</td>\n",
       "      <td>0.500000</td>\n",
       "      <td>0.000035</td>\n",
       "      <td>False</td>\n",
       "    </tr>\n",
       "    <tr>\n",
       "      <th>7</th>\n",
       "      <td>0.000000</td>\n",
       "      <td>0.000000</td>\n",
       "      <td>0.441186</td>\n",
       "      <td>0.000000</td>\n",
       "      <td>0.000000</td>\n",
       "      <td>-1.100000</td>\n",
       "      <td>0.500000</td>\n",
       "      <td>0.000036</td>\n",
       "      <td>False</td>\n",
       "    </tr>\n",
       "    <tr>\n",
       "      <th>8</th>\n",
       "      <td>0.000000</td>\n",
       "      <td>0.000000</td>\n",
       "      <td>0.542120</td>\n",
       "      <td>0.000000</td>\n",
       "      <td>0.000000</td>\n",
       "      <td>-1.100000</td>\n",
       "      <td>0.500000</td>\n",
       "      <td>0.000036</td>\n",
       "      <td>False</td>\n",
       "    </tr>\n",
       "    <tr>\n",
       "      <th>9</th>\n",
       "      <td>0.268728</td>\n",
       "      <td>0.000000</td>\n",
       "      <td>0.268270</td>\n",
       "      <td>0.268728</td>\n",
       "      <td>0.000000</td>\n",
       "      <td>-1.027785</td>\n",
       "      <td>0.303487</td>\n",
       "      <td>0.000038</td>\n",
       "      <td>False</td>\n",
       "    </tr>\n",
       "    <tr>\n",
       "      <th>10</th>\n",
       "      <td>0.000000</td>\n",
       "      <td>0.000000</td>\n",
       "      <td>0.689073</td>\n",
       "      <td>0.000000</td>\n",
       "      <td>0.000000</td>\n",
       "      <td>-1.100000</td>\n",
       "      <td>0.500000</td>\n",
       "      <td>0.000037</td>\n",
       "      <td>False</td>\n",
       "    </tr>\n",
       "    <tr>\n",
       "      <th>11</th>\n",
       "      <td>0.000000</td>\n",
       "      <td>0.000000</td>\n",
       "      <td>0.818112</td>\n",
       "      <td>0.000000</td>\n",
       "      <td>0.000000</td>\n",
       "      <td>-1.100000</td>\n",
       "      <td>0.500000</td>\n",
       "      <td>0.000036</td>\n",
       "      <td>False</td>\n",
       "    </tr>\n",
       "    <tr>\n",
       "      <th>12</th>\n",
       "      <td>0.000000</td>\n",
       "      <td>0.000000</td>\n",
       "      <td>0.989415</td>\n",
       "      <td>0.000000</td>\n",
       "      <td>0.000000</td>\n",
       "      <td>-1.100000</td>\n",
       "      <td>0.500000</td>\n",
       "      <td>0.000032</td>\n",
       "      <td>False</td>\n",
       "    </tr>\n",
       "    <tr>\n",
       "      <th>13</th>\n",
       "      <td>3.141590</td>\n",
       "      <td>0.000000</td>\n",
       "      <td>0.268270</td>\n",
       "      <td>3.141590</td>\n",
       "      <td>0.000000</td>\n",
       "      <td>8.769588</td>\n",
       "      <td>7.227998</td>\n",
       "      <td>0.000036</td>\n",
       "      <td>False</td>\n",
       "    </tr>\n",
       "    <tr>\n",
       "      <th>14</th>\n",
       "      <td>0.520759</td>\n",
       "      <td>0.000000</td>\n",
       "      <td>1.000000</td>\n",
       "      <td>0.520759</td>\n",
       "      <td>0.000000</td>\n",
       "      <td>-0.828810</td>\n",
       "      <td>0.250431</td>\n",
       "      <td>0.000033</td>\n",
       "      <td>False</td>\n",
       "    </tr>\n",
       "    <tr>\n",
       "      <th>15</th>\n",
       "      <td>0.000000</td>\n",
       "      <td>0.560733</td>\n",
       "      <td>1.000000</td>\n",
       "      <td>0.000000</td>\n",
       "      <td>0.560733</td>\n",
       "      <td>-0.785578</td>\n",
       "      <td>0.253689</td>\n",
       "      <td>0.000038</td>\n",
       "      <td>False</td>\n",
       "    </tr>\n",
       "    <tr>\n",
       "      <th>16</th>\n",
       "      <td>1.033681</td>\n",
       "      <td>0.000000</td>\n",
       "      <td>1.000000</td>\n",
       "      <td>1.033681</td>\n",
       "      <td>0.000000</td>\n",
       "      <td>-0.031503</td>\n",
       "      <td>0.534816</td>\n",
       "      <td>0.000036</td>\n",
       "      <td>False</td>\n",
       "    </tr>\n",
       "    <tr>\n",
       "      <th>17</th>\n",
       "      <td>0.000000</td>\n",
       "      <td>0.247818</td>\n",
       "      <td>1.000000</td>\n",
       "      <td>0.000000</td>\n",
       "      <td>0.247818</td>\n",
       "      <td>-1.038586</td>\n",
       "      <td>0.313596</td>\n",
       "      <td>0.000036</td>\n",
       "      <td>False</td>\n",
       "    </tr>\n",
       "    <tr>\n",
       "      <th>18</th>\n",
       "      <td>0.620798</td>\n",
       "      <td>0.520150</td>\n",
       "      <td>1.000000</td>\n",
       "      <td>0.620798</td>\n",
       "      <td>0.520150</td>\n",
       "      <td>-0.360282</td>\n",
       "      <td>0.014998</td>\n",
       "      <td>0.000035</td>\n",
       "      <td>False</td>\n",
       "    </tr>\n",
       "    <tr>\n",
       "      <th>19</th>\n",
       "      <td>0.000000</td>\n",
       "      <td>1.095895</td>\n",
       "      <td>1.000000</td>\n",
       "      <td>0.000000</td>\n",
       "      <td>1.095895</td>\n",
       "      <td>0.100986</td>\n",
       "      <td>0.605091</td>\n",
       "      <td>0.000036</td>\n",
       "      <td>False</td>\n",
       "    </tr>\n",
       "    <tr>\n",
       "      <th>20</th>\n",
       "      <td>0.747719</td>\n",
       "      <td>1.077946</td>\n",
       "      <td>1.000000</td>\n",
       "      <td>0.747719</td>\n",
       "      <td>1.077946</td>\n",
       "      <td>0.817198</td>\n",
       "      <td>0.395386</td>\n",
       "      <td>0.000035</td>\n",
       "      <td>False</td>\n",
       "    </tr>\n",
       "    <tr>\n",
       "      <th>21</th>\n",
       "      <td>2.263984</td>\n",
       "      <td>2.001098</td>\n",
       "      <td>0.396966</td>\n",
       "      <td>2.263984</td>\n",
       "      <td>2.001098</td>\n",
       "      <td>8.074728</td>\n",
       "      <td>5.364936</td>\n",
       "      <td>0.000036</td>\n",
       "      <td>False</td>\n",
       "    </tr>\n",
       "    <tr>\n",
       "      <th>22</th>\n",
       "      <td>0.000000</td>\n",
       "      <td>0.731142</td>\n",
       "      <td>0.496061</td>\n",
       "      <td>0.000000</td>\n",
       "      <td>0.731142</td>\n",
       "      <td>-0.565431</td>\n",
       "      <td>0.303427</td>\n",
       "      <td>0.000033</td>\n",
       "      <td>False</td>\n",
       "    </tr>\n",
       "    <tr>\n",
       "      <th>23</th>\n",
       "      <td>2.170420</td>\n",
       "      <td>0.034444</td>\n",
       "      <td>0.403826</td>\n",
       "      <td>2.170420</td>\n",
       "      <td>0.034444</td>\n",
       "      <td>3.615117</td>\n",
       "      <td>3.007046</td>\n",
       "      <td>0.000036</td>\n",
       "      <td>False</td>\n",
       "    </tr>\n",
       "    <tr>\n",
       "      <th>24</th>\n",
       "      <td>0.659804</td>\n",
       "      <td>0.000000</td>\n",
       "      <td>0.521282</td>\n",
       "      <td>0.659804</td>\n",
       "      <td>0.000000</td>\n",
       "      <td>-0.664658</td>\n",
       "      <td>0.275537</td>\n",
       "      <td>0.000042</td>\n",
       "      <td>False</td>\n",
       "    </tr>\n",
       "    <tr>\n",
       "      <th>25</th>\n",
       "      <td>0.576714</td>\n",
       "      <td>0.000000</td>\n",
       "      <td>0.766472</td>\n",
       "      <td>0.576714</td>\n",
       "      <td>0.000000</td>\n",
       "      <td>-0.767401</td>\n",
       "      <td>0.255885</td>\n",
       "      <td>0.000036</td>\n",
       "      <td>False</td>\n",
       "    </tr>\n",
       "    <tr>\n",
       "      <th>26</th>\n",
       "      <td>2.344750</td>\n",
       "      <td>3.100888</td>\n",
       "      <td>0.756560</td>\n",
       "      <td>2.344750</td>\n",
       "      <td>3.100888</td>\n",
       "      <td>14.172817</td>\n",
       "      <td>10.167722</td>\n",
       "      <td>0.000038</td>\n",
       "      <td>False</td>\n",
       "    </tr>\n",
       "  </tbody>\n",
       "</table>\n",
       "</div>"
      ],
      "text/plain": [
       "          x1        x2         s        y1        y2         c1         c2  \\\n",
       "0   1.000000  0.750000  0.000000  1.000000  0.750000   0.626888   0.312500   \n",
       "1   0.750000  1.000000  0.100000  0.750000  1.000000   0.626888   0.312500   \n",
       "3   0.377491  2.083910  0.224525  0.377491  2.083910   3.581440   2.523779   \n",
       "4   0.000000  0.178035  0.268270  0.000000  0.178035  -1.068304   0.353661   \n",
       "5   0.000000  0.000000  0.144478  0.000000  0.000000  -1.100000   0.500000   \n",
       "6   0.000000  0.000000  0.335448  0.000000  0.000000  -1.100000   0.500000   \n",
       "7   0.000000  0.000000  0.441186  0.000000  0.000000  -1.100000   0.500000   \n",
       "8   0.000000  0.000000  0.542120  0.000000  0.000000  -1.100000   0.500000   \n",
       "9   0.268728  0.000000  0.268270  0.268728  0.000000  -1.027785   0.303487   \n",
       "10  0.000000  0.000000  0.689073  0.000000  0.000000  -1.100000   0.500000   \n",
       "11  0.000000  0.000000  0.818112  0.000000  0.000000  -1.100000   0.500000   \n",
       "12  0.000000  0.000000  0.989415  0.000000  0.000000  -1.100000   0.500000   \n",
       "13  3.141590  0.000000  0.268270  3.141590  0.000000   8.769588   7.227998   \n",
       "14  0.520759  0.000000  1.000000  0.520759  0.000000  -0.828810   0.250431   \n",
       "15  0.000000  0.560733  1.000000  0.000000  0.560733  -0.785578   0.253689   \n",
       "16  1.033681  0.000000  1.000000  1.033681  0.000000  -0.031503   0.534816   \n",
       "17  0.000000  0.247818  1.000000  0.000000  0.247818  -1.038586   0.313596   \n",
       "18  0.620798  0.520150  1.000000  0.620798  0.520150  -0.360282   0.014998   \n",
       "19  0.000000  1.095895  1.000000  0.000000  1.095895   0.100986   0.605091   \n",
       "20  0.747719  1.077946  1.000000  0.747719  1.077946   0.817198   0.395386   \n",
       "21  2.263984  2.001098  0.396966  2.263984  2.001098   8.074728   5.364936   \n",
       "22  0.000000  0.731142  0.496061  0.000000  0.731142  -0.565431   0.303427   \n",
       "23  2.170420  0.034444  0.403826  2.170420  0.034444   3.615117   3.007046   \n",
       "24  0.659804  0.000000  0.521282  0.659804  0.000000  -0.664658   0.275537   \n",
       "25  0.576714  0.000000  0.766472  0.576714  0.000000  -0.767401   0.255885   \n",
       "26  2.344750  3.100888  0.756560  2.344750  3.100888  14.172817  10.167722   \n",
       "\n",
       "    xopt_runtime  xopt_error  \n",
       "0       0.000051       False  \n",
       "1       0.000009       False  \n",
       "3       0.000036       False  \n",
       "4       0.000047       False  \n",
       "5       0.000035       False  \n",
       "6       0.000035       False  \n",
       "7       0.000036       False  \n",
       "8       0.000036       False  \n",
       "9       0.000038       False  \n",
       "10      0.000037       False  \n",
       "11      0.000036       False  \n",
       "12      0.000032       False  \n",
       "13      0.000036       False  \n",
       "14      0.000033       False  \n",
       "15      0.000038       False  \n",
       "16      0.000036       False  \n",
       "17      0.000036       False  \n",
       "18      0.000035       False  \n",
       "19      0.000036       False  \n",
       "20      0.000035       False  \n",
       "21      0.000036       False  \n",
       "22      0.000033       False  \n",
       "23      0.000036       False  \n",
       "24      0.000042       False  \n",
       "25      0.000036       False  \n",
       "26      0.000038       False  "
      ]
     },
     "execution_count": 4,
     "metadata": {},
     "output_type": "execute_result"
    }
   ],
   "source": [
    "X.data"
   ]
  },
  {
   "cell_type": "markdown",
   "metadata": {
    "collapsed": false
   },
   "source": [
    "## Plot results\n",
    "Here we plot the resulting observations in input space, colored by feasibility\n",
    "(neglecting the fact that\n",
    "these data points are at varying fidelities).\n"
   ]
  },
  {
   "cell_type": "code",
   "execution_count": 5,
   "metadata": {
    "ExecuteTime": {
     "end_time": "2023-09-08T19:59:45.932093Z",
     "start_time": "2023-09-08T19:59:45.321092700Z"
    },
    "collapsed": false,
    "execution": {
     "iopub.execute_input": "2023-09-08T22:03:48.835132Z",
     "iopub.status.busy": "2023-09-08T22:03:48.834694Z",
     "iopub.status.idle": "2023-09-08T22:03:49.469459Z",
     "shell.execute_reply": "2023-09-08T22:03:49.468767Z"
    }
   },
   "outputs": [
    {
     "data": {
      "image/png": "[encoded data removed]",
      "text/plain": [
       "<Figure size 640x480 with 1 Axes>"
      ]
     },
     "metadata": {},
     "output_type": "display_data"
    }
   ],
   "source": [
    "import matplotlib.pyplot as plt\n",
    "\n",
    "fig, ax = plt.subplots()\n",
    "\n",
    "theta = np.linspace(0, np.pi / 2)\n",
    "r = np.sqrt(1 + 0.1 * np.cos(16 * theta))\n",
    "x_1 = r * np.sin(theta)\n",
    "x_2_lower = r * np.cos(theta)\n",
    "x_2_upper = (0.5 - (x_1 - 0.5) ** 2) ** 0.5 + 0.5\n",
    "\n",
    "z = np.zeros_like(x_1)\n",
    "\n",
    "# ax2.plot(x_1, x_2_lower,'r')\n",
    "ax.fill_between(x_1, z, x_2_lower, fc=\"white\")\n",
    "circle = plt.Circle(\n",
    "    (0.5, 0.5), 0.5 ** 0.5, color=\"r\", alpha=0.25, zorder=0, label=\"Valid Region\"\n",
    ")\n",
    "ax.add_patch(circle)\n",
    "history = pd.concat(\n",
    "    [X.data, tnk_vocs.feasibility_data(X.data)], axis=1, ignore_index=False\n",
    ")\n",
    "\n",
    "ax.plot(*history[[\"x1\", \"x2\"]][history[\"feasible\"]].to_numpy().T, \".C1\")\n",
    "ax.plot(*history[[\"x1\", \"x2\"]][~history[\"feasible\"]].to_numpy().T, \".C2\")\n",
    "\n",
    "ax.set_xlim(0, 3.14)\n",
    "ax.set_ylim(0, 3.14)\n",
    "ax.set_xlabel(\"x1\")\n",
    "ax.set_ylabel(\"x2\")\n",
    "ax.set_aspect(\"equal\")"
   ]
  },
  {
   "cell_type": "markdown",
   "metadata": {
    "collapsed": false
   },
   "source": [
    "### Plot path through input space"
   ]
  },
  {
   "cell_type": "code",
   "execution_count": 6,
   "metadata": {
    "ExecuteTime": {
     "end_time": "2023-09-08T19:59:46.382093Z",
     "start_time": "2023-09-08T19:59:45.934112600Z"
    },
    "collapsed": false,
    "execution": {
     "iopub.execute_input": "2023-09-08T22:03:49.472681Z",
     "iopub.status.busy": "2023-09-08T22:03:49.472115Z",
     "iopub.status.idle": "2023-09-08T22:03:49.943778Z",
     "shell.execute_reply": "2023-09-08T22:03:49.943007Z"
    }
   },
   "outputs": [
    {
     "data": {
      "image/png": "[encoded data removed]",
      "text/plain": [
       "<Figure size 640x480 with 4 Axes>"
      ]
     },
     "metadata": {},
     "output_type": "display_data"
    }
   ],
   "source": [
    "ax = history.hist([\"x1\", \"x2\", \"s\"],bins=20)"
   ]
  },
  {
   "cell_type": "code",
   "execution_count": 7,
   "metadata": {
    "ExecuteTime": {
     "end_time": "2023-09-08T19:59:46.562092700Z",
     "start_time": "2023-09-08T19:59:46.384096200Z"
    },
    "collapsed": false,
    "execution": {
     "iopub.execute_input": "2023-09-08T22:03:49.947085Z",
     "iopub.status.busy": "2023-09-08T22:03:49.946648Z",
     "iopub.status.idle": "2023-09-08T22:03:50.133106Z",
     "shell.execute_reply": "2023-09-08T22:03:50.132415Z"
    }
   },
   "outputs": [
    {
     "data": {
      "text/plain": [
       "<Axes: >"
      ]
     },
     "execution_count": 7,
     "metadata": {},
     "output_type": "execute_result"
    },
    {
     "data": {
      "image/png": "[encoded data removed]",
      "text/plain": [
       "<Figure size 640x480 with 1 Axes>"
      ]
     },
     "metadata": {},
     "output_type": "display_data"
    }
   ],
   "source": [
    "history.plot(y=[\"x1\", \"x2\", \"s\"])"
   ]
  },
  {
   "cell_type": "markdown",
   "metadata": {
    "collapsed": false
   },
   "source": [
    "## Plot the acqusisition function\n",
    "Here we plot the acquisition function at a small set of fidelities $[0, 0.5, 1.0]$."
   ]
  },
  {
   "cell_type": "code",
   "execution_count": 8,
   "metadata": {
    "ExecuteTime": {
     "end_time": "2023-09-08T19:59:53.148604700Z",
     "start_time": "2023-09-08T19:59:46.569094700Z"
    },
    "collapsed": false,
    "execution": {
     "iopub.execute_input": "2023-09-08T22:03:50.136468Z",
     "iopub.status.busy": "2023-09-08T22:03:50.136021Z",
     "iopub.status.idle": "2023-09-08T22:04:09.157586Z",
     "shell.execute_reply": "2023-09-08T22:04:09.156782Z"
    }
   },
   "outputs": [
    {
     "name": "stdout",
     "output_type": "stream",
     "text": [
      "[[1.15195906 0.        ]]\n"
     ]
    },
    {
     "data": {
      "text/plain": [
       "[<matplotlib.lines.Line2D at 0x7fc8eaa13550>]"
      ]
     },
     "execution_count": 8,
     "metadata": {},
     "output_type": "execute_result"
    },
    {
     "data": {
      "image/png": "[encoded data removed]",
      "text/plain": [
       "<Figure size 640x480 with 2 Axes>"
      ]
     },
     "metadata": {},
     "output_type": "display_data"
    },
    {
     "data": {
      "image/png": "[encoded data removed]",
      "text/plain": [
       "<Figure size 640x480 with 2 Axes>"
      ]
     },
     "metadata": {},
     "output_type": "display_data"
    },
    {
     "data": {
      "image/png": "[encoded data removed]",
      "text/plain": [
       "<Figure size 640x480 with 2 Axes>"
      ]
     },
     "metadata": {},
     "output_type": "display_data"
    }
   ],
   "source": [
    "# plot the acquisition function\n",
    "\n",
    "bounds = X.generator.vocs.bounds\n",
    "model = X.generator.model\n",
    "\n",
    "# create mesh over non-fidelity parameters\n",
    "n = 50\n",
    "x = torch.linspace(*bounds.T[1], n)\n",
    "y = torch.linspace(*bounds.T[2], n)\n",
    "xx, yy = torch.meshgrid(x, y)\n",
    "\n",
    "# plot function(s) at a single fidelity parameter\n",
    "fidelities = [0.0, 0.5, 1.0]\n",
    "for fidelity in fidelities:\n",
    "    pts = torch.hstack([ele.reshape(-1, 1) for ele in (xx, yy)]).double()\n",
    "    pts = torch.cat((torch.ones(pts.shape[0],1)*fidelity, pts), dim=-1)\n",
    "\n",
    "    acq_func = X.generator.get_acquisition(model)\n",
    "    with torch.no_grad():\n",
    "        acq_pts = pts.unsqueeze(1)\n",
    "        acq = acq_func(acq_pts)\n",
    "\n",
    "        fig, ax = plt.subplots()\n",
    "        c = ax.pcolor(xx, yy, acq.reshape(n, n), cmap=\"Blues\")\n",
    "        fig.colorbar(c)\n",
    "        ax.set_title(f\"Acquisition function - s: {fidelity}\")\n",
    "\n",
    "        ax.plot(*history[[\"x1\", \"x2\"]][history[\"feasible\"]].to_numpy().T, \".C1\")\n",
    "        ax.plot(*history[[\"x1\", \"x2\"]][~history[\"feasible\"]].to_numpy().T, \".C2\")\n",
    "\n",
    "        ax.plot(*history[[\"x1\", \"x2\"]].to_numpy()[-1].T, \"+\")\n",
    "\n",
    "\n",
    "candidate = pd.DataFrame(X.generator.generate(1), index=[0])\n",
    "print(candidate[[\"x1\", \"x2\"]].to_numpy())\n",
    "ax.plot(*candidate[[\"x1\", \"x2\"]].to_numpy()[0], \"o\")"
   ]
  },
  {
   "cell_type": "code",
   "execution_count": 9,
   "metadata": {
    "ExecuteTime": {
     "end_time": "2023-09-08T19:59:53.163603900Z",
     "start_time": "2023-09-08T19:59:53.149603900Z"
    },
    "collapsed": false,
    "execution": {
     "iopub.execute_input": "2023-09-08T22:04:09.161150Z",
     "iopub.status.busy": "2023-09-08T22:04:09.160745Z",
     "iopub.status.idle": "2023-09-08T22:04:09.167265Z",
     "shell.execute_reply": "2023-09-08T22:04:09.166606Z"
    }
   },
   "outputs": [
    {
     "data": {
      "text/plain": [
       "[('likelihood.noise_covar.raw_noise',\n",
       "  Parameter containing:\n",
       "  tensor([-25.3363], dtype=torch.float64, requires_grad=True)),\n",
       " ('mean_module.raw_constant',\n",
       "  Parameter containing:\n",
       "  tensor(-0.2140, dtype=torch.float64, requires_grad=True)),\n",
       " ('covar_module.raw_outputscale',\n",
       "  Parameter containing:\n",
       "  tensor(-0.0552, dtype=torch.float64, requires_grad=True)),\n",
       " ('covar_module.base_kernel.raw_lengthscale',\n",
       "  Parameter containing:\n",
       "  tensor([[0.4825, 1.7575, 1.4630]], dtype=torch.float64, requires_grad=True))]"
      ]
     },
     "execution_count": 9,
     "metadata": {},
     "output_type": "execute_result"
    }
   ],
   "source": [
    "# examine lengthscale of the first objective\n",
    "list(model.models[0].named_parameters())"
   ]
  }
 ],
 "metadata": {
  "interpreter": {
   "hash": "72034539424920dfb606fe3b820b3f27dca0cbf1c69938110810ec4641e275b1"
  },
  "kernelspec": {
   "display_name": "Python 3 (ipykernel)",
   "language": "python",
   "name": "python3"
  },
  "language_info": {
   "codemirror_mode": {
    "name": "ipython",
    "version": 3
   },
   "file_extension": ".py",
   "mimetype": "text/x-python",
   "name": "python",
   "nbconvert_exporter": "python",
   "pygments_lexer": "ipython3",
   "version": "3.9.18"
  }
 },
 "nbformat": 4,
 "nbformat_minor": 4
}
