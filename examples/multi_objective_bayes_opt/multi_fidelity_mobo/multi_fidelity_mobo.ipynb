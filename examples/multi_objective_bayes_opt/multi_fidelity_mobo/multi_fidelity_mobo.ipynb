{
 "cells": [
  {
   "cell_type": "markdown",
   "metadata": {},
   "source": [
    "# Multi-fidelity Multi-objective Bayesian Optimization\n",
    "\n",
    "Here we attempt to solve for the constrained Pareto front of the TNK multi-objective\n",
    "optimization problem using Multi-Fidelity Multi-Objective Bayesian optimization. For\n",
    "simplicity we assume that the objective and constraint functions at lower fidelities is\n",
    "exactly equal to the functions at higher fidelities (this is obviously not a\n",
    "requirement, although for the best results lower fidelity calculations should\n",
    "correlate with higher fidelity ones). The algorithm should learn this relationship\n",
    "and use information gathered at lower fidelities to gather samples to improve the\n",
    "hypervolume of the Pareto front at the maximum fidelity.\n",
    "\n",
    "TNK function\n",
    "$n=2$ variables:\n",
    "$x_i \\in [0, \\pi], i=1,2$\n",
    "\n",
    "Objectives:\n",
    "- $f_i(x) = x_i$\n",
    "\n",
    "Constraints:\n",
    "- $g_1(x) = -x_1^2 -x_2^2 + 1 + 0.1 \\cos\\left(16 \\arctan \\frac{x_1}{x_2}\\right) \\le 0$\n",
    "- $g_2(x) = (x_1 - 1/2)^2 + (x_2-1/2)^2 \\le 0.5$"
   ]
  },
  {
   "cell_type": "code",
   "execution_count": 1,
   "metadata": {
    "ExecuteTime": {
     "end_time": "2023-09-20T14:37:08.616050600Z",
     "start_time": "2023-09-20T14:37:04.101720300Z"
    },
    "collapsed": false,
    "execution": {
     "iopub.execute_input": "2023-11-08T17:24:45.765590Z",
     "iopub.status.busy": "2023-11-08T17:24:45.765118Z",
     "iopub.status.idle": "2023-11-08T17:24:49.186259Z",
     "shell.execute_reply": "2023-11-08T17:24:49.185526Z"
    }
   },
   "outputs": [
    {
     "name": "stdout",
     "output_type": "stream",
     "text": [
      "{'variables': {'x1': [0.0, 3.14159], 'x2': [0.0, 3.14159]}, 'constraints': {'c1': ['GREATER_THAN', 0.0], 'c2': ['LESS_THAN', 0.5]}, 'objectives': {'y1': 'MINIMIZE', 'y2': 'MINIMIZE'}, 'constants': {'a': 'dummy_constant'}, 'observables': []}\n"
     ]
    }
   ],
   "source": [
    "# set values if testing\n",
    "import os\n",
    "SMOKE_TEST = os.environ.get(\"SMOKE_TEST\")\n",
    "N_MC_SAMPLES = 1 if SMOKE_TEST else 128\n",
    "NUM_RESTARTS = 1 if SMOKE_TEST else 20\n",
    "BUDGET = 0.02 if SMOKE_TEST else 10\n",
    "\n",
    "# Ignore all warnings\n",
    "import warnings\n",
    "warnings.filterwarnings(\"ignore\")\n",
    "\n",
    "import pandas as pd\n",
    "import numpy as np\n",
    "import torch\n",
    "\n",
    "from xopt import Xopt, Evaluator\n",
    "from xopt.generators.bayesian import MultiFidelityGenerator\n",
    "from xopt.resources.test_functions.tnk import evaluate_TNK, tnk_vocs\n",
    "\n",
    "evaluator = Evaluator(function=evaluate_TNK)\n",
    "print(tnk_vocs.dict())"
   ]
  },
  {
   "cell_type": "markdown",
   "metadata": {
    "collapsed": false
   },
   "source": [
    "## Set up the Multi-Fidelity Multi-objective optimization algorithm\n",
    "Here we create the Multi-Fidelity generator object which can solve both single and\n",
    "multi-objective optimization problems depending on the number of objectives in VOCS.\n",
    "We specify a cost function as a function of fidelity parameter $s=[0,1]$ as $C(s) =\n",
    "s^{3.5}$ as an example from a real life multi-fidelity simulation problem."
   ]
  },
  {
   "cell_type": "code",
   "execution_count": 2,
   "metadata": {
    "ExecuteTime": {
     "end_time": "2023-09-20T14:37:08.660042Z",
     "start_time": "2023-09-20T14:37:08.617041800Z"
    },
    "collapsed": false,
    "execution": {
     "iopub.execute_input": "2023-11-08T17:24:49.226228Z",
     "iopub.status.busy": "2023-11-08T17:24:49.225544Z",
     "iopub.status.idle": "2023-11-08T17:24:49.246404Z",
     "shell.execute_reply": "2023-11-08T17:24:49.245602Z"
    }
   },
   "outputs": [
    {
     "data": {
      "text/plain": [
       "\n",
       "            Xopt\n",
       "________________________________\n",
       "Version: 0+untagged.1.ga84bd29\n",
       "Data size: 2\n",
       "Config as YAML:\n",
       "dump_file: null\n",
       "evaluator:\n",
       "  function: xopt.resources.test_functions.tnk.evaluate_TNK\n",
       "  function_kwargs:\n",
       "    raise_probability: 0\n",
       "    random_sleep: 0\n",
       "    sleep: 0\n",
       "  max_workers: 1\n",
       "  vectorized: false\n",
       "generator:\n",
       "  computation_time: null\n",
       "  fixed_features: null\n",
       "  gp_constructor:\n",
       "    covar_modules: {}\n",
       "    mean_modules: {}\n",
       "    name: standard\n",
       "    trainable_mean_keys: []\n",
       "    use_low_noise_prior: true\n",
       "  log_transform_acquisition_function: false\n",
       "  max_travel_distances: null\n",
       "  model: null\n",
       "  n_candidates: 1\n",
       "  n_monte_carlo_samples: 128\n",
       "  name: multi_fidelity\n",
       "  numerical_optimizer:\n",
       "    max_iter: 2000\n",
       "    n_restarts: 20\n",
       "    name: LBFGS\n",
       "  reference_point:\n",
       "    s: 0.0\n",
       "    y1: 1.5\n",
       "    y2: 1.5\n",
       "  supports_batch_generation: true\n",
       "  supports_multi_objective: true\n",
       "  turbo_controller: null\n",
       "  use_cuda: false\n",
       "max_evaluations: null\n",
       "serialize_inline: false\n",
       "serialize_torch: false\n",
       "strict: true\n",
       "vocs:\n",
       "  constants:\n",
       "    a: dummy_constant\n",
       "  constraints: {}\n",
       "  objectives:\n",
       "    s: MAXIMIZE\n",
       "    y1: MINIMIZE\n",
       "    y2: MINIMIZE\n",
       "  observables: []\n",
       "  variables:\n",
       "    s:\n",
       "    - 0\n",
       "    - 1\n",
       "    x1:\n",
       "    - 0.0\n",
       "    - 3.14159\n",
       "    x2:\n",
       "    - 0.0\n",
       "    - 3.14159\n"
      ]
     },
     "execution_count": 2,
     "metadata": {},
     "output_type": "execute_result"
    }
   ],
   "source": [
    "from copy import deepcopy\n",
    "my_vocs = deepcopy(tnk_vocs)\n",
    "my_vocs.constraints = {}\n",
    "generator = MultiFidelityGenerator(vocs=my_vocs, reference_point = {\"y1\":1.5,\"y2\":1.5})\n",
    "\n",
    "# set cost function according to approximate scaling of laser plasma accelerator\n",
    "# problem, see https://journals.aps.org/prresearch/abstract/10.1103/PhysRevResearch.5.013063\n",
    "generator.cost_function = lambda s: s**3.5\n",
    "generator.numerical_optimizer.n_restarts = NUM_RESTARTS\n",
    "generator.n_monte_carlo_samples = N_MC_SAMPLES\n",
    "\n",
    "X = Xopt(generator=generator, evaluator=evaluator, vocs=my_vocs)\n",
    "\n",
    "# evaluate at some explicit initial points\n",
    "X.evaluate_data(pd.DataFrame({\"x1\":[1.0, 0.75],\"x2\":[0.75, 1.0],\"s\":[0.0,0.1]}))\n",
    "\n",
    "X"
   ]
  },
  {
   "cell_type": "markdown",
   "metadata": {
    "collapsed": false
   },
   "source": [
    "## Run optimization routine\n",
    "Instead of ending the optimization routine after an explict number of samples we end\n",
    "optimization once a given optimization budget has been exceeded. WARNING: This will\n",
    "slightly exceed the given budget"
   ]
  },
  {
   "cell_type": "code",
   "execution_count": 3,
   "metadata": {
    "ExecuteTime": {
     "end_time": "2023-09-20T14:37:14.657062800Z",
     "start_time": "2023-09-20T14:37:08.648042200Z"
    },
    "collapsed": false,
    "execution": {
     "iopub.execute_input": "2023-11-08T17:24:49.249997Z",
     "iopub.status.busy": "2023-11-08T17:24:49.249317Z",
     "iopub.status.idle": "2023-11-08T17:27:14.539845Z",
     "shell.execute_reply": "2023-11-08T17:27:14.538933Z"
    }
   },
   "outputs": [
    {
     "name": "stdout",
     "output_type": "stream",
     "text": [
      "n_samples: 3 budget used: 0.009743 hypervolume: 0.0375\n",
      "n_samples: 4 budget used: 0.01973 hypervolume: 0.5562\n",
      "n_samples: 5 budget used: 0.0458 hypervolume: 0.7936\n",
      "n_samples: 6 budget used: 0.09875 hypervolume: 0.9513\n",
      "n_samples: 7 budget used: 0.1086 hypervolume: 0.9513\n",
      "n_samples: 8 budget used: 0.1225 hypervolume: 0.9513\n",
      "n_samples: 9 budget used: 0.2383 hypervolume: 1.215\n",
      "n_samples: 10 budget used: 0.4846 hypervolume: 1.508\n",
      "n_samples: 11 budget used: 0.9963 hypervolume: 1.858\n",
      "n_samples: 12 budget used: 1.996 hypervolume: 2.25\n",
      "n_samples: 13 budget used: 2.996 hypervolume: 2.25\n",
      "n_samples: 14 budget used: 3.996 hypervolume: 2.25\n",
      "n_samples: 15 budget used: 4.042 hypervolume: 2.25\n",
      "n_samples: 16 budget used: 4.503 hypervolume: 2.25\n",
      "n_samples: 17 budget used: 5.503 hypervolume: 2.25\n",
      "n_samples: 18 budget used: 6.503 hypervolume: 2.25\n",
      "n_samples: 19 budget used: 6.508 hypervolume: 2.25\n",
      "n_samples: 20 budget used: 7.508 hypervolume: 2.25\n",
      "n_samples: 21 budget used: 7.621 hypervolume: 2.25\n",
      "n_samples: 22 budget used: 8.018 hypervolume: 2.25\n",
      "n_samples: 23 budget used: 8.024 hypervolume: 2.25\n",
      "n_samples: 24 budget used: 8.063 hypervolume: 2.25\n",
      "n_samples: 25 budget used: 8.207 hypervolume: 2.25\n",
      "n_samples: 26 budget used: 8.566 hypervolume: 2.25\n",
      "n_samples: 27 budget used: 9.152 hypervolume: 2.25\n",
      "n_samples: 28 budget used: 9.973 hypervolume: 2.25\n",
      "n_samples: 29 budget used: 9.973 hypervolume: 2.25\n",
      "n_samples: 30 budget used: 10.33 hypervolume: 2.25\n"
     ]
    }
   ],
   "source": [
    "budget = BUDGET\n",
    "while X.generator.calculate_total_cost() < budget:\n",
    "    X.step()\n",
    "    print(f\"n_samples: {len(X.data)} \"\n",
    "          f\"budget used: {X.generator.calculate_total_cost():.4} \"\n",
    "          f\"hypervolume: {X.generator.calculate_hypervolume():.4}\")"
   ]
  },
  {
   "cell_type": "markdown",
   "metadata": {
    "collapsed": false
   },
   "source": [
    "## Show results"
   ]
  },
  {
   "cell_type": "code",
   "execution_count": 4,
   "metadata": {
    "ExecuteTime": {
     "end_time": "2023-09-20T14:37:14.684015600Z",
     "start_time": "2023-09-20T14:37:14.647063400Z"
    },
    "collapsed": false,
    "execution": {
     "iopub.execute_input": "2023-11-08T17:27:14.545713Z",
     "iopub.status.busy": "2023-11-08T17:27:14.544390Z",
     "iopub.status.idle": "2023-11-08T17:27:14.567520Z",
     "shell.execute_reply": "2023-11-08T17:27:14.566610Z"
    }
   },
   "outputs": [
    {
     "data": {
      "text/html": [
       "<div>\n",
       "<style scoped>\n",
       "    .dataframe tbody tr th:only-of-type {\n",
       "        vertical-align: middle;\n",
       "    }\n",
       "\n",
       "    .dataframe tbody tr th {\n",
       "        vertical-align: top;\n",
       "    }\n",
       "\n",
       "    .dataframe thead th {\n",
       "        text-align: right;\n",
       "    }\n",
       "</style>\n",
       "<table border=\"1\" class=\"dataframe\">\n",
       "  <thead>\n",
       "    <tr style=\"text-align: right;\">\n",
       "      <th></th>\n",
       "      <th>x1</th>\n",
       "      <th>x2</th>\n",
       "      <th>s</th>\n",
       "      <th>y1</th>\n",
       "      <th>y2</th>\n",
       "      <th>c1</th>\n",
       "      <th>c2</th>\n",
       "      <th>xopt_runtime</th>\n",
       "      <th>xopt_error</th>\n",
       "    </tr>\n",
       "  </thead>\n",
       "  <tbody>\n",
       "    <tr>\n",
       "      <th>0</th>\n",
       "      <td>1.000000</td>\n",
       "      <td>0.750000</td>\n",
       "      <td>0.000000</td>\n",
       "      <td>1.000000</td>\n",
       "      <td>0.750000</td>\n",
       "      <td>0.626888</td>\n",
       "      <td>0.312500</td>\n",
       "      <td>0.000043</td>\n",
       "      <td>False</td>\n",
       "    </tr>\n",
       "    <tr>\n",
       "      <th>1</th>\n",
       "      <td>0.750000</td>\n",
       "      <td>1.000000</td>\n",
       "      <td>0.100000</td>\n",
       "      <td>0.750000</td>\n",
       "      <td>1.000000</td>\n",
       "      <td>0.626888</td>\n",
       "      <td>0.312500</td>\n",
       "      <td>0.000010</td>\n",
       "      <td>False</td>\n",
       "    </tr>\n",
       "    <tr>\n",
       "      <th>2</th>\n",
       "      <td>0.316928</td>\n",
       "      <td>1.842885</td>\n",
       "      <td>0.263780</td>\n",
       "      <td>0.316928</td>\n",
       "      <td>1.842885</td>\n",
       "      <td>2.588112</td>\n",
       "      <td>1.836855</td>\n",
       "      <td>0.000041</td>\n",
       "      <td>False</td>\n",
       "    </tr>\n",
       "    <tr>\n",
       "      <th>3</th>\n",
       "      <td>0.000000</td>\n",
       "      <td>0.117463</td>\n",
       "      <td>0.268188</td>\n",
       "      <td>0.000000</td>\n",
       "      <td>0.117463</td>\n",
       "      <td>-1.086203</td>\n",
       "      <td>0.396335</td>\n",
       "      <td>0.000051</td>\n",
       "      <td>False</td>\n",
       "    </tr>\n",
       "    <tr>\n",
       "      <th>4</th>\n",
       "      <td>0.000000</td>\n",
       "      <td>0.000000</td>\n",
       "      <td>0.352730</td>\n",
       "      <td>0.000000</td>\n",
       "      <td>0.000000</td>\n",
       "      <td>-1.100000</td>\n",
       "      <td>0.500000</td>\n",
       "      <td>0.000033</td>\n",
       "      <td>False</td>\n",
       "    </tr>\n",
       "    <tr>\n",
       "      <th>5</th>\n",
       "      <td>0.000000</td>\n",
       "      <td>0.172452</td>\n",
       "      <td>0.431918</td>\n",
       "      <td>0.000000</td>\n",
       "      <td>0.172452</td>\n",
       "      <td>-1.070260</td>\n",
       "      <td>0.357288</td>\n",
       "      <td>0.000043</td>\n",
       "      <td>False</td>\n",
       "    </tr>\n",
       "    <tr>\n",
       "      <th>6</th>\n",
       "      <td>3.141590</td>\n",
       "      <td>0.000000</td>\n",
       "      <td>0.267411</td>\n",
       "      <td>3.141590</td>\n",
       "      <td>0.000000</td>\n",
       "      <td>8.769588</td>\n",
       "      <td>7.227998</td>\n",
       "      <td>0.000044</td>\n",
       "      <td>False</td>\n",
       "    </tr>\n",
       "    <tr>\n",
       "      <th>7</th>\n",
       "      <td>0.430817</td>\n",
       "      <td>0.000000</td>\n",
       "      <td>0.294194</td>\n",
       "      <td>0.430817</td>\n",
       "      <td>0.000000</td>\n",
       "      <td>-0.914396</td>\n",
       "      <td>0.254786</td>\n",
       "      <td>0.000043</td>\n",
       "      <td>False</td>\n",
       "    </tr>\n",
       "    <tr>\n",
       "      <th>8</th>\n",
       "      <td>0.000000</td>\n",
       "      <td>0.000000</td>\n",
       "      <td>0.540221</td>\n",
       "      <td>0.000000</td>\n",
       "      <td>0.000000</td>\n",
       "      <td>-1.100000</td>\n",
       "      <td>0.500000</td>\n",
       "      <td>0.000052</td>\n",
       "      <td>False</td>\n",
       "    </tr>\n",
       "    <tr>\n",
       "      <th>9</th>\n",
       "      <td>0.000000</td>\n",
       "      <td>0.000000</td>\n",
       "      <td>0.670091</td>\n",
       "      <td>0.000000</td>\n",
       "      <td>0.000000</td>\n",
       "      <td>-1.100000</td>\n",
       "      <td>0.500000</td>\n",
       "      <td>0.000038</td>\n",
       "      <td>False</td>\n",
       "    </tr>\n",
       "    <tr>\n",
       "      <th>10</th>\n",
       "      <td>0.000000</td>\n",
       "      <td>0.000000</td>\n",
       "      <td>0.825759</td>\n",
       "      <td>0.000000</td>\n",
       "      <td>0.000000</td>\n",
       "      <td>-1.100000</td>\n",
       "      <td>0.500000</td>\n",
       "      <td>0.000038</td>\n",
       "      <td>False</td>\n",
       "    </tr>\n",
       "    <tr>\n",
       "      <th>11</th>\n",
       "      <td>0.000000</td>\n",
       "      <td>0.000000</td>\n",
       "      <td>1.000000</td>\n",
       "      <td>0.000000</td>\n",
       "      <td>0.000000</td>\n",
       "      <td>-1.100000</td>\n",
       "      <td>0.500000</td>\n",
       "      <td>0.000035</td>\n",
       "      <td>False</td>\n",
       "    </tr>\n",
       "    <tr>\n",
       "      <th>12</th>\n",
       "      <td>0.544913</td>\n",
       "      <td>0.000000</td>\n",
       "      <td>1.000000</td>\n",
       "      <td>0.544913</td>\n",
       "      <td>0.000000</td>\n",
       "      <td>-0.803070</td>\n",
       "      <td>0.252017</td>\n",
       "      <td>0.000035</td>\n",
       "      <td>False</td>\n",
       "    </tr>\n",
       "    <tr>\n",
       "      <th>13</th>\n",
       "      <td>0.000000</td>\n",
       "      <td>0.566432</td>\n",
       "      <td>1.000000</td>\n",
       "      <td>0.000000</td>\n",
       "      <td>0.566432</td>\n",
       "      <td>-0.779155</td>\n",
       "      <td>0.254413</td>\n",
       "      <td>0.000037</td>\n",
       "      <td>False</td>\n",
       "    </tr>\n",
       "    <tr>\n",
       "      <th>14</th>\n",
       "      <td>0.925637</td>\n",
       "      <td>0.000000</td>\n",
       "      <td>0.412858</td>\n",
       "      <td>0.925637</td>\n",
       "      <td>0.000000</td>\n",
       "      <td>-0.243195</td>\n",
       "      <td>0.431167</td>\n",
       "      <td>0.000055</td>\n",
       "      <td>False</td>\n",
       "    </tr>\n",
       "    <tr>\n",
       "      <th>15</th>\n",
       "      <td>0.000000</td>\n",
       "      <td>3.141590</td>\n",
       "      <td>0.801604</td>\n",
       "      <td>0.000000</td>\n",
       "      <td>3.141590</td>\n",
       "      <td>8.769588</td>\n",
       "      <td>7.227998</td>\n",
       "      <td>0.000036</td>\n",
       "      <td>False</td>\n",
       "    </tr>\n",
       "    <tr>\n",
       "      <th>16</th>\n",
       "      <td>0.291323</td>\n",
       "      <td>0.301584</td>\n",
       "      <td>1.000000</td>\n",
       "      <td>0.291323</td>\n",
       "      <td>0.301584</td>\n",
       "      <td>-0.920369</td>\n",
       "      <td>0.082915</td>\n",
       "      <td>0.000055</td>\n",
       "      <td>False</td>\n",
       "    </tr>\n",
       "    <tr>\n",
       "      <th>17</th>\n",
       "      <td>0.000000</td>\n",
       "      <td>1.070978</td>\n",
       "      <td>1.000000</td>\n",
       "      <td>0.000000</td>\n",
       "      <td>1.070978</td>\n",
       "      <td>0.046994</td>\n",
       "      <td>0.576016</td>\n",
       "      <td>0.000035</td>\n",
       "      <td>False</td>\n",
       "    </tr>\n",
       "    <tr>\n",
       "      <th>18</th>\n",
       "      <td>1.035568</td>\n",
       "      <td>1.380913</td>\n",
       "      <td>0.223212</td>\n",
       "      <td>1.035568</td>\n",
       "      <td>1.380913</td>\n",
       "      <td>2.043774</td>\n",
       "      <td>1.062840</td>\n",
       "      <td>0.000055</td>\n",
       "      <td>False</td>\n",
       "    </tr>\n",
       "    <tr>\n",
       "      <th>19</th>\n",
       "      <td>1.135409</td>\n",
       "      <td>0.000000</td>\n",
       "      <td>1.000000</td>\n",
       "      <td>1.135409</td>\n",
       "      <td>0.000000</td>\n",
       "      <td>0.189155</td>\n",
       "      <td>0.653745</td>\n",
       "      <td>0.000039</td>\n",
       "      <td>False</td>\n",
       "    </tr>\n",
       "    <tr>\n",
       "      <th>20</th>\n",
       "      <td>0.000000</td>\n",
       "      <td>0.786706</td>\n",
       "      <td>0.536761</td>\n",
       "      <td>0.000000</td>\n",
       "      <td>0.786706</td>\n",
       "      <td>-0.481093</td>\n",
       "      <td>0.332200</td>\n",
       "      <td>0.000039</td>\n",
       "      <td>False</td>\n",
       "    </tr>\n",
       "    <tr>\n",
       "      <th>21</th>\n",
       "      <td>3.127010</td>\n",
       "      <td>1.387308</td>\n",
       "      <td>0.767683</td>\n",
       "      <td>3.127010</td>\n",
       "      <td>1.387308</td>\n",
       "      <td>10.610626</td>\n",
       "      <td>7.688499</td>\n",
       "      <td>0.000043</td>\n",
       "      <td>False</td>\n",
       "    </tr>\n",
       "    <tr>\n",
       "      <th>22</th>\n",
       "      <td>0.320706</td>\n",
       "      <td>1.421478</td>\n",
       "      <td>0.238678</td>\n",
       "      <td>0.320706</td>\n",
       "      <td>1.421478</td>\n",
       "      <td>1.215213</td>\n",
       "      <td>0.881269</td>\n",
       "      <td>0.000036</td>\n",
       "      <td>False</td>\n",
       "    </tr>\n",
       "    <tr>\n",
       "      <th>23</th>\n",
       "      <td>1.793868</td>\n",
       "      <td>0.988730</td>\n",
       "      <td>0.394148</td>\n",
       "      <td>1.793868</td>\n",
       "      <td>0.988730</td>\n",
       "      <td>3.215995</td>\n",
       "      <td>1.912952</td>\n",
       "      <td>0.000033</td>\n",
       "      <td>False</td>\n",
       "    </tr>\n",
       "    <tr>\n",
       "      <th>24</th>\n",
       "      <td>0.239638</td>\n",
       "      <td>0.016008</td>\n",
       "      <td>0.575589</td>\n",
       "      <td>0.239638</td>\n",
       "      <td>0.016008</td>\n",
       "      <td>-0.990575</td>\n",
       "      <td>0.302037</td>\n",
       "      <td>0.000035</td>\n",
       "      <td>False</td>\n",
       "    </tr>\n",
       "    <tr>\n",
       "      <th>25</th>\n",
       "      <td>0.000000</td>\n",
       "      <td>0.907621</td>\n",
       "      <td>0.745880</td>\n",
       "      <td>0.000000</td>\n",
       "      <td>0.907621</td>\n",
       "      <td>-0.276225</td>\n",
       "      <td>0.416155</td>\n",
       "      <td>0.000037</td>\n",
       "      <td>False</td>\n",
       "    </tr>\n",
       "    <tr>\n",
       "      <th>26</th>\n",
       "      <td>2.222347</td>\n",
       "      <td>2.459333</td>\n",
       "      <td>0.858332</td>\n",
       "      <td>2.222347</td>\n",
       "      <td>2.459333</td>\n",
       "      <td>9.918137</td>\n",
       "      <td>6.805463</td>\n",
       "      <td>0.000072</td>\n",
       "      <td>False</td>\n",
       "    </tr>\n",
       "    <tr>\n",
       "      <th>27</th>\n",
       "      <td>0.077654</td>\n",
       "      <td>0.315179</td>\n",
       "      <td>0.945229</td>\n",
       "      <td>0.077654</td>\n",
       "      <td>0.315179</td>\n",
       "      <td>-0.819684</td>\n",
       "      <td>0.212535</td>\n",
       "      <td>0.000039</td>\n",
       "      <td>False</td>\n",
       "    </tr>\n",
       "    <tr>\n",
       "      <th>28</th>\n",
       "      <td>0.000000</td>\n",
       "      <td>0.000000</td>\n",
       "      <td>0.108651</td>\n",
       "      <td>0.000000</td>\n",
       "      <td>0.000000</td>\n",
       "      <td>-1.100000</td>\n",
       "      <td>0.500000</td>\n",
       "      <td>0.000035</td>\n",
       "      <td>False</td>\n",
       "    </tr>\n",
       "    <tr>\n",
       "      <th>29</th>\n",
       "      <td>0.000000</td>\n",
       "      <td>0.000000</td>\n",
       "      <td>0.745892</td>\n",
       "      <td>0.000000</td>\n",
       "      <td>0.000000</td>\n",
       "      <td>-1.100000</td>\n",
       "      <td>0.500000</td>\n",
       "      <td>0.000037</td>\n",
       "      <td>False</td>\n",
       "    </tr>\n",
       "  </tbody>\n",
       "</table>\n",
       "</div>"
      ],
      "text/plain": [
       "          x1        x2         s        y1        y2         c1        c2  \\\n",
       "0   1.000000  0.750000  0.000000  1.000000  0.750000   0.626888  0.312500   \n",
       "1   0.750000  1.000000  0.100000  0.750000  1.000000   0.626888  0.312500   \n",
       "2   0.316928  1.842885  0.263780  0.316928  1.842885   2.588112  1.836855   \n",
       "3   0.000000  0.117463  0.268188  0.000000  0.117463  -1.086203  0.396335   \n",
       "4   0.000000  0.000000  0.352730  0.000000  0.000000  -1.100000  0.500000   \n",
       "5   0.000000  0.172452  0.431918  0.000000  0.172452  -1.070260  0.357288   \n",
       "6   3.141590  0.000000  0.267411  3.141590  0.000000   8.769588  7.227998   \n",
       "7   0.430817  0.000000  0.294194  0.430817  0.000000  -0.914396  0.254786   \n",
       "8   0.000000  0.000000  0.540221  0.000000  0.000000  -1.100000  0.500000   \n",
       "9   0.000000  0.000000  0.670091  0.000000  0.000000  -1.100000  0.500000   \n",
       "10  0.000000  0.000000  0.825759  0.000000  0.000000  -1.100000  0.500000   \n",
       "11  0.000000  0.000000  1.000000  0.000000  0.000000  -1.100000  0.500000   \n",
       "12  0.544913  0.000000  1.000000  0.544913  0.000000  -0.803070  0.252017   \n",
       "13  0.000000  0.566432  1.000000  0.000000  0.566432  -0.779155  0.254413   \n",
       "14  0.925637  0.000000  0.412858  0.925637  0.000000  -0.243195  0.431167   \n",
       "15  0.000000  3.141590  0.801604  0.000000  3.141590   8.769588  7.227998   \n",
       "16  0.291323  0.301584  1.000000  0.291323  0.301584  -0.920369  0.082915   \n",
       "17  0.000000  1.070978  1.000000  0.000000  1.070978   0.046994  0.576016   \n",
       "18  1.035568  1.380913  0.223212  1.035568  1.380913   2.043774  1.062840   \n",
       "19  1.135409  0.000000  1.000000  1.135409  0.000000   0.189155  0.653745   \n",
       "20  0.000000  0.786706  0.536761  0.000000  0.786706  -0.481093  0.332200   \n",
       "21  3.127010  1.387308  0.767683  3.127010  1.387308  10.610626  7.688499   \n",
       "22  0.320706  1.421478  0.238678  0.320706  1.421478   1.215213  0.881269   \n",
       "23  1.793868  0.988730  0.394148  1.793868  0.988730   3.215995  1.912952   \n",
       "24  0.239638  0.016008  0.575589  0.239638  0.016008  -0.990575  0.302037   \n",
       "25  0.000000  0.907621  0.745880  0.000000  0.907621  -0.276225  0.416155   \n",
       "26  2.222347  2.459333  0.858332  2.222347  2.459333   9.918137  6.805463   \n",
       "27  0.077654  0.315179  0.945229  0.077654  0.315179  -0.819684  0.212535   \n",
       "28  0.000000  0.000000  0.108651  0.000000  0.000000  -1.100000  0.500000   \n",
       "29  0.000000  0.000000  0.745892  0.000000  0.000000  -1.100000  0.500000   \n",
       "\n",
       "    xopt_runtime  xopt_error  \n",
       "0       0.000043       False  \n",
       "1       0.000010       False  \n",
       "2       0.000041       False  \n",
       "3       0.000051       False  \n",
       "4       0.000033       False  \n",
       "5       0.000043       False  \n",
       "6       0.000044       False  \n",
       "7       0.000043       False  \n",
       "8       0.000052       False  \n",
       "9       0.000038       False  \n",
       "10      0.000038       False  \n",
       "11      0.000035       False  \n",
       "12      0.000035       False  \n",
       "13      0.000037       False  \n",
       "14      0.000055       False  \n",
       "15      0.000036       False  \n",
       "16      0.000055       False  \n",
       "17      0.000035       False  \n",
       "18      0.000055       False  \n",
       "19      0.000039       False  \n",
       "20      0.000039       False  \n",
       "21      0.000043       False  \n",
       "22      0.000036       False  \n",
       "23      0.000033       False  \n",
       "24      0.000035       False  \n",
       "25      0.000037       False  \n",
       "26      0.000072       False  \n",
       "27      0.000039       False  \n",
       "28      0.000035       False  \n",
       "29      0.000037       False  "
      ]
     },
     "execution_count": 4,
     "metadata": {},
     "output_type": "execute_result"
    }
   ],
   "source": [
    "X.data"
   ]
  },
  {
   "cell_type": "markdown",
   "metadata": {
    "collapsed": false
   },
   "source": [
    "## Plot results\n",
    "Here we plot the resulting observations in input space, colored by feasibility\n",
    "(neglecting the fact that\n",
    "these data points are at varying fidelities).\n"
   ]
  },
  {
   "cell_type": "code",
   "execution_count": 5,
   "metadata": {
    "ExecuteTime": {
     "end_time": "2023-09-20T14:37:15.292777300Z",
     "start_time": "2023-09-20T14:37:14.679967200Z"
    },
    "collapsed": false,
    "execution": {
     "iopub.execute_input": "2023-11-08T17:27:14.572485Z",
     "iopub.status.busy": "2023-11-08T17:27:14.571328Z",
     "iopub.status.idle": "2023-11-08T17:27:15.356885Z",
     "shell.execute_reply": "2023-11-08T17:27:15.356112Z"
    }
   },
   "outputs": [
    {
     "data": {
      "image/png": "[encoded data removed]",
      "text/plain": [
       "<Figure size 640x480 with 1 Axes>"
      ]
     },
     "metadata": {},
     "output_type": "display_data"
    }
   ],
   "source": [
    "import matplotlib.pyplot as plt\n",
    "\n",
    "fig, ax = plt.subplots()\n",
    "\n",
    "theta = np.linspace(0, np.pi / 2)\n",
    "r = np.sqrt(1 + 0.1 * np.cos(16 * theta))\n",
    "x_1 = r * np.sin(theta)\n",
    "x_2_lower = r * np.cos(theta)\n",
    "x_2_upper = (0.5 - (x_1 - 0.5) ** 2) ** 0.5 + 0.5\n",
    "\n",
    "z = np.zeros_like(x_1)\n",
    "\n",
    "# ax2.plot(x_1, x_2_lower,'r')\n",
    "ax.fill_between(x_1, z, x_2_lower, fc=\"white\")\n",
    "circle = plt.Circle(\n",
    "    (0.5, 0.5), 0.5 ** 0.5, color=\"r\", alpha=0.25, zorder=0, label=\"Valid Region\"\n",
    ")\n",
    "ax.add_patch(circle)\n",
    "history = pd.concat(\n",
    "    [X.data, tnk_vocs.feasibility_data(X.data)], axis=1, ignore_index=False\n",
    ")\n",
    "\n",
    "ax.plot(*history[[\"x1\", \"x2\"]][history[\"feasible\"]].to_numpy().T, \".C1\")\n",
    "ax.plot(*history[[\"x1\", \"x2\"]][~history[\"feasible\"]].to_numpy().T, \".C2\")\n",
    "\n",
    "ax.set_xlim(0, 3.14)\n",
    "ax.set_ylim(0, 3.14)\n",
    "ax.set_xlabel(\"x1\")\n",
    "ax.set_ylabel(\"x2\")\n",
    "ax.set_aspect(\"equal\")"
   ]
  },
  {
   "cell_type": "markdown",
   "metadata": {
    "collapsed": false
   },
   "source": [
    "### Plot path through input space"
   ]
  },
  {
   "cell_type": "code",
   "execution_count": 6,
   "metadata": {
    "ExecuteTime": {
     "end_time": "2023-09-20T14:37:15.607777300Z",
     "start_time": "2023-09-20T14:37:15.288777300Z"
    },
    "collapsed": false,
    "execution": {
     "iopub.execute_input": "2023-11-08T17:27:15.360503Z",
     "iopub.status.busy": "2023-11-08T17:27:15.359949Z",
     "iopub.status.idle": "2023-11-08T17:27:16.050679Z",
     "shell.execute_reply": "2023-11-08T17:27:16.049661Z"
    }
   },
   "outputs": [
    {
     "data": {
      "image/png": "[encoded data removed]",
      "text/plain": [
       "<Figure size 640x480 with 4 Axes>"
      ]
     },
     "metadata": {},
     "output_type": "display_data"
    }
   ],
   "source": [
    "ax = history.hist([\"x1\", \"x2\", \"s\"],bins=20)"
   ]
  },
  {
   "cell_type": "code",
   "execution_count": 7,
   "metadata": {
    "ExecuteTime": {
     "end_time": "2023-09-20T14:37:15.768777Z",
     "start_time": "2023-09-20T14:37:15.606777300Z"
    },
    "collapsed": false,
    "execution": {
     "iopub.execute_input": "2023-11-08T17:27:16.055669Z",
     "iopub.status.busy": "2023-11-08T17:27:16.055333Z",
     "iopub.status.idle": "2023-11-08T17:27:16.342268Z",
     "shell.execute_reply": "2023-11-08T17:27:16.341408Z"
    }
   },
   "outputs": [
    {
     "data": {
      "text/plain": [
       "<Axes: >"
      ]
     },
     "execution_count": 7,
     "metadata": {},
     "output_type": "execute_result"
    },
    {
     "data": {
      "image/png": "[encoded data removed]",
      "text/plain": [
       "<Figure size 640x480 with 1 Axes>"
      ]
     },
     "metadata": {},
     "output_type": "display_data"
    }
   ],
   "source": [
    "history.plot(y=[\"x1\", \"x2\", \"s\"])"
   ]
  },
  {
   "cell_type": "markdown",
   "metadata": {
    "collapsed": false
   },
   "source": [
    "## Plot the acqusisition function\n",
    "Here we plot the acquisition function at a small set of fidelities $[0, 0.5, 1.0]$."
   ]
  },
  {
   "cell_type": "code",
   "execution_count": 8,
   "metadata": {
    "ExecuteTime": {
     "end_time": "2023-09-20T14:37:45.334189800Z",
     "start_time": "2023-09-20T14:37:41.203201700Z"
    },
    "collapsed": false,
    "execution": {
     "iopub.execute_input": "2023-11-08T17:27:16.346737Z",
     "iopub.status.busy": "2023-11-08T17:27:16.346452Z",
     "iopub.status.idle": "2023-11-08T17:27:38.530681Z",
     "shell.execute_reply": "2023-11-08T17:27:38.529685Z"
    }
   },
   "outputs": [
    {
     "name": "stdout",
     "output_type": "stream",
     "text": [
      "[[0.49440213 2.86997994]]\n"
     ]
    },
    {
     "data": {
      "text/plain": [
       "[<matplotlib.lines.Line2D at 0x7f75720b88e0>]"
      ]
     },
     "execution_count": 8,
     "metadata": {},
     "output_type": "execute_result"
    },
    {
     "data": {
      "image/png": "[encoded data removed]",
      "text/plain": [
       "<Figure size 640x480 with 2 Axes>"
      ]
     },
     "metadata": {},
     "output_type": "display_data"
    },
    {
     "data": {
      "image/png": "[encoded data removed]",
      "text/plain": [
       "<Figure size 640x480 with 2 Axes>"
      ]
     },
     "metadata": {},
     "output_type": "display_data"
    },
    {
     "data": {
      "image/png": "[encoded data removed]",
      "text/plain": [
       "<Figure size 640x480 with 2 Axes>"
      ]
     },
     "metadata": {},
     "output_type": "display_data"
    }
   ],
   "source": [
    "# plot the acquisition function\n",
    "\n",
    "bounds = X.generator.vocs.bounds\n",
    "model = X.generator.model\n",
    "\n",
    "# create mesh over non-fidelity parameters\n",
    "n = 50\n",
    "x = torch.linspace(*bounds.T[1], n)\n",
    "y = torch.linspace(*bounds.T[2], n)\n",
    "xx, yy = torch.meshgrid(x, y)\n",
    "\n",
    "# plot function(s) at a single fidelity parameter\n",
    "fidelities = [0.0, 0.5, 1.0]\n",
    "for fidelity in fidelities:\n",
    "    pts = torch.hstack([ele.reshape(-1, 1) for ele in (xx, yy)]).double()\n",
    "    pts = torch.cat((torch.ones(pts.shape[0],1)*fidelity, pts), dim=-1)\n",
    "\n",
    "    acq_func = X.generator.get_acquisition(model)\n",
    "    with torch.no_grad():\n",
    "        acq_pts = pts.unsqueeze(1)\n",
    "        acq = acq_func(acq_pts)\n",
    "\n",
    "        fig, ax = plt.subplots()\n",
    "\n",
    "        xxn, yyn = xx.numpy(), yy.numpy()\n",
    "\n",
    "        c = ax.pcolor(xxn, yyn, acq.reshape(n, n), cmap=\"Blues\")\n",
    "        fig.colorbar(c)\n",
    "        ax.set_title(f\"Acquisition function - s: {fidelity}\")\n",
    "\n",
    "        ax.plot(*history[[\"x1\", \"x2\"]][history[\"feasible\"]].to_numpy().T, \".C1\")\n",
    "        ax.plot(*history[[\"x1\", \"x2\"]][~history[\"feasible\"]].to_numpy().T, \".C2\")\n",
    "\n",
    "        ax.plot(*history[[\"x1\", \"x2\"]].to_numpy()[-1].T, \"+\")\n",
    "\n",
    "\n",
    "candidate = pd.DataFrame(X.generator.generate(1), index=[0])\n",
    "print(candidate[[\"x1\", \"x2\"]].to_numpy())\n",
    "ax.plot(*candidate[[\"x1\", \"x2\"]].to_numpy()[0], \"o\")"
   ]
  },
  {
   "cell_type": "code",
   "execution_count": 9,
   "metadata": {
    "ExecuteTime": {
     "start_time": "2023-09-20T14:37:17.294215100Z"
    },
    "collapsed": false,
    "execution": {
     "iopub.execute_input": "2023-11-08T17:27:38.535897Z",
     "iopub.status.busy": "2023-11-08T17:27:38.535040Z",
     "iopub.status.idle": "2023-11-08T17:27:38.546392Z",
     "shell.execute_reply": "2023-11-08T17:27:38.545533Z"
    }
   },
   "outputs": [
    {
     "data": {
      "text/plain": [
       "[('likelihood.noise_covar.raw_noise',\n",
       "  Parameter containing:\n",
       "  tensor([-26.5609], dtype=torch.float64, requires_grad=True)),\n",
       " ('mean_module.raw_constant',\n",
       "  Parameter containing:\n",
       "  tensor(-0.0805, dtype=torch.float64, requires_grad=True)),\n",
       " ('covar_module.raw_outputscale',\n",
       "  Parameter containing:\n",
       "  tensor(0.1253, dtype=torch.float64, requires_grad=True)),\n",
       " ('covar_module.base_kernel.raw_lengthscale',\n",
       "  Parameter containing:\n",
       "  tensor([[0.6699, 1.8818, 1.8790]], dtype=torch.float64, requires_grad=True))]"
      ]
     },
     "execution_count": 9,
     "metadata": {},
     "output_type": "execute_result"
    }
   ],
   "source": [
    "# examine lengthscale of the first objective\n",
    "list(model.models[0].named_parameters())"
   ]
  }
 ],
 "metadata": {
  "interpreter": {
   "hash": "72034539424920dfb606fe3b820b3f27dca0cbf1c69938110810ec4641e275b1"
  },
  "kernelspec": {
   "display_name": "Python 3 (ipykernel)",
   "language": "python",
   "name": "python3"
  },
  "language_info": {
   "codemirror_mode": {
    "name": "ipython",
    "version": 3
   },
   "file_extension": ".py",
   "mimetype": "text/x-python",
   "name": "python",
   "nbconvert_exporter": "python",
   "pygments_lexer": "ipython3",
   "version": "3.9.18"
  }
 },
 "nbformat": 4,
 "nbformat_minor": 4
}
