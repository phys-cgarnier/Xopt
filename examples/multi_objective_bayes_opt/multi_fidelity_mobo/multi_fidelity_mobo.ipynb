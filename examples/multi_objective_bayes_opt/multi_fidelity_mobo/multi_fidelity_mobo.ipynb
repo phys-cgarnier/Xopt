{
 "cells": [
  {
   "cell_type": "markdown",
   "metadata": {},
   "source": [
    "# Multi-fidelity Multi-objective Bayesian Optimization\n",
    "\n",
    "Here we attempt to solve for the constrained Pareto front of the TNK multi-objective\n",
    "optimization problem using Multi-Fidelity Multi-Objective Bayesian optimization. For\n",
    "simplicity we assume that the objective and constraint functions at lower fidelities is\n",
    "exactly equal to the functions at higher fidelities (this is obviously not a\n",
    "requirement, although for the best results lower fidelity calculations should\n",
    "correlate with higher fidelity ones). The algorithm should learn this relationship\n",
    "and use information gathered at lower fidelities to gather samples to improve the\n",
    "hypervolume of the Pareto front at the maximum fidelity.\n",
    "\n",
    "TNK function\n",
    "$n=2$ variables:\n",
    "$x_i \\in [0, \\pi], i=1,2$\n",
    "\n",
    "Objectives:\n",
    "- $f_i(x) = x_i$\n",
    "\n",
    "Constraints:\n",
    "- $g_1(x) = -x_1^2 -x_2^2 + 1 + 0.1 \\cos\\left(16 \\arctan \\frac{x_1}{x_2}\\right) \\le 0$\n",
    "- $g_2(x) = (x_1 - 1/2)^2 + (x_2-1/2)^2 \\le 0.5$"
   ]
  },
  {
   "cell_type": "code",
   "execution_count": 1,
   "metadata": {
    "collapsed": false,
    "execution": {
     "iopub.execute_input": "2023-04-19T16:56:36.395057Z",
     "iopub.status.busy": "2023-04-19T16:56:36.394757Z",
     "iopub.status.idle": "2023-04-19T16:56:39.617271Z",
     "shell.execute_reply": "2023-04-19T16:56:39.616161Z"
    }
   },
   "outputs": [
    {
     "name": "stdout",
     "output_type": "stream",
     "text": [
      "{'variables': {'x1': [0.0, 3.14159], 'x2': [0.0, 3.14159]}, 'constraints': {'c1': ['GREATER_THAN', 0.0], 'c2': ['LESS_THAN', 0.5]}, 'objectives': {'y1': 'MINIMIZE', 'y2': 'MINIMIZE'}, 'constants': {'a': 'dummy_constant'}, 'linked_variables': {}}\n"
     ]
    }
   ],
   "source": [
    "%reset -f\n",
    "\n",
    "# Ignore all warnings\n",
    "import warnings\n",
    "warnings.filterwarnings(\"ignore\")\n",
    "\n",
    "import pandas as pd\n",
    "import numpy as np\n",
    "import torch\n",
    "\n",
    "from xopt import Xopt, Evaluator\n",
    "from xopt.generators.bayesian import MultiFidelityGenerator\n",
    "from xopt.resources.test_functions.tnk import evaluate_TNK, tnk_vocs\n",
    "\n",
    "evaluator = Evaluator(function=evaluate_TNK)\n",
    "print(tnk_vocs.dict())"
   ]
  },
  {
   "cell_type": "markdown",
   "metadata": {
    "collapsed": false
   },
   "source": [
    "## Set up the Multi-Fidelity Multi-objective optimization algorithm\n",
    "Here we create the Multi-Fidelity generator object which can solve both single and\n",
    "multi-objective optimization problems depending on the number of objectives in VOCS.\n",
    "We specify a cost function as a function of fidelity parameter $s=[0,1]$ as $C(s) =\n",
    "s^{3.5}$ as an example from a real life multi-fidelity simulation problem."
   ]
  },
  {
   "cell_type": "code",
   "execution_count": 2,
   "metadata": {
    "collapsed": false,
    "execution": {
     "iopub.execute_input": "2023-04-19T16:56:39.667193Z",
     "iopub.status.busy": "2023-04-19T16:56:39.666189Z",
     "iopub.status.idle": "2023-04-19T16:56:39.688340Z",
     "shell.execute_reply": "2023-04-19T16:56:39.687554Z"
    }
   },
   "outputs": [
    {
     "data": {
      "text/plain": [
       "{'optim': {'num_restarts': 8,\n",
       "  'raw_samples': 512,\n",
       "  'sequential': True,\n",
       "  'max_travel_distances': None,\n",
       "  'use_turbo': False},\n",
       " 'acq': {'proximal_lengthscales': None,\n",
       "  'use_transformed_proximal_weights': True,\n",
       "  'monte_carlo_samples': 128,\n",
       "  'cost_function': <function __main__.<lambda>(s)>,\n",
       "  'reference_point': {'y1': 1.5, 'y2': 1.5}},\n",
       " 'model': {'name': 'standard',\n",
       "  'custom_constructor': None,\n",
       "  'use_low_noise_prior': True,\n",
       "  'covar_modules': {},\n",
       "  'mean_modules': {},\n",
       "  'fidelity_parameter': 's'},\n",
       " 'n_initial': 3,\n",
       " 'use_cuda': False}"
      ]
     },
     "execution_count": 2,
     "metadata": {},
     "output_type": "execute_result"
    }
   ],
   "source": [
    "options = MultiFidelityGenerator.default_options()\n",
    "options.acq.reference_point = {\"y1\":1.5,\"y2\":1.5}\n",
    "\n",
    "# set cost function according to approximate scaling of laser plasma accelerator\n",
    "# problem, see https://journals.aps.org/prresearch/abstract/10.1103/PhysRevResearch.5.013063\n",
    "options.acq.cost_function = lambda s: s**3.5\n",
    "options.optim.num_restarts = 8\n",
    "options.optim.raw_samples = 512\n",
    "\n",
    "generator = MultiFidelityGenerator(tnk_vocs, options)\n",
    "X = Xopt(generator=generator, evaluator=evaluator, vocs=tnk_vocs)\n",
    "\n",
    "# evaluate at some explicit initial points\n",
    "X.evaluate_data(pd.DataFrame({\"x1\":[1.0, 0.75],\"x2\":[0.75, 1.0],\"s\":[0.0,0.1]}))\n",
    "\n",
    "X.generator.options.dict()"
   ]
  },
  {
   "cell_type": "markdown",
   "metadata": {
    "collapsed": false
   },
   "source": [
    "## Run optimization routine\n",
    "Instead of ending the optimization routine after an explict number of samples we end\n",
    "optimization once a given optimization budget has been exceeded. WARNING: This will\n",
    "slightly exceed the given budget"
   ]
  },
  {
   "cell_type": "code",
   "execution_count": 3,
   "metadata": {
    "collapsed": false,
    "execution": {
     "iopub.execute_input": "2023-04-19T16:56:39.692574Z",
     "iopub.status.busy": "2023-04-19T16:56:39.692043Z",
     "iopub.status.idle": "2023-04-19T17:01:27.476847Z",
     "shell.execute_reply": "2023-04-19T17:01:27.476224Z"
    }
   },
   "outputs": [
    {
     "name": "stdout",
     "output_type": "stream",
     "text": [
      "n_samples: 3 budget used: 0.009293 hypervolume: 0.0375\n",
      "n_samples: 4 budget used: 0.01115 hypervolume: 0.0375\n",
      "n_samples: 5 budget used: 0.0181 hypervolume: 0.0375\n",
      "n_samples: 6 budget used: 0.0281 hypervolume: 0.0375\n",
      "n_samples: 7 budget used: 0.0381 hypervolume: 0.1502\n",
      "n_samples: 8 budget used: 0.06593 hypervolume: 0.1502\n",
      "n_samples: 9 budget used: 0.08262 hypervolume: 0.2287\n",
      "n_samples: 10 budget used: 0.1079 hypervolume: 0.2836\n",
      "n_samples: 11 budget used: 0.1506 hypervolume: 0.3438\n",
      "n_samples: 12 budget used: 0.2178 hypervolume: 0.3967\n",
      "n_samples: 13 budget used: 0.3021 hypervolume: 0.431\n",
      "n_samples: 14 budget used: 0.4521 hypervolume: 0.5075\n",
      "n_samples: 15 budget used: 0.4782 hypervolume: 0.5075\n",
      "n_samples: 16 budget used: 0.7361 hypervolume: 0.5744\n",
      "n_samples: 17 budget used: 0.7501 hypervolume: 0.61\n",
      "n_samples: 18 budget used: 1.12 hypervolume: 0.6845\n",
      "n_samples: 19 budget used: 1.659 hypervolume: 0.7846\n",
      "n_samples: 20 budget used: 2.467 hypervolume: 0.7846\n",
      "n_samples: 21 budget used: 3.164 hypervolume: 0.7846\n",
      "n_samples: 22 budget used: 3.834 hypervolume: 0.8498\n",
      "n_samples: 23 budget used: 4.743 hypervolume: 0.8975\n",
      "n_samples: 24 budget used: 5.743 hypervolume: 0.9853\n",
      "n_samples: 25 budget used: 5.749 hypervolume: 0.9853\n",
      "n_samples: 26 budget used: 5.776 hypervolume: 1.005\n",
      "n_samples: 27 budget used: 5.87 hypervolume: 1.039\n",
      "n_samples: 28 budget used: 5.88 hypervolume: 1.039\n",
      "n_samples: 29 budget used: 6.88 hypervolume: 1.068\n",
      "n_samples: 30 budget used: 7.191 hypervolume: 1.084\n",
      "n_samples: 31 budget used: 7.642 hypervolume: 1.111\n",
      "n_samples: 32 budget used: 8.642 hypervolume: 1.111\n",
      "n_samples: 33 budget used: 9.642 hypervolume: 1.111\n",
      "n_samples: 34 budget used: 10.44 hypervolume: 1.111\n"
     ]
    }
   ],
   "source": [
    "budget = 10\n",
    "while X.generator.calculate_total_cost() < budget:\n",
    "    X.step()\n",
    "    print(f\"n_samples: {len(X.data)} \"\n",
    "          f\"budget used: {X.generator.calculate_total_cost():.4} \"\n",
    "          f\"hypervolume: {X.generator.calculate_hypervolume():.4}\")"
   ]
  },
  {
   "cell_type": "markdown",
   "metadata": {
    "collapsed": false
   },
   "source": [
    "## Show results"
   ]
  },
  {
   "cell_type": "code",
   "execution_count": 4,
   "metadata": {
    "collapsed": false,
    "execution": {
     "iopub.execute_input": "2023-04-19T17:01:27.480457Z",
     "iopub.status.busy": "2023-04-19T17:01:27.479577Z",
     "iopub.status.idle": "2023-04-19T17:01:27.508869Z",
     "shell.execute_reply": "2023-04-19T17:01:27.508238Z"
    }
   },
   "outputs": [
    {
     "data": {
      "text/html": [
       "<div>\n",
       "<style scoped>\n",
       "    .dataframe tbody tr th:only-of-type {\n",
       "        vertical-align: middle;\n",
       "    }\n",
       "\n",
       "    .dataframe tbody tr th {\n",
       "        vertical-align: top;\n",
       "    }\n",
       "\n",
       "    .dataframe thead th {\n",
       "        text-align: right;\n",
       "    }\n",
       "</style>\n",
       "<table border=\"1\" class=\"dataframe\">\n",
       "  <thead>\n",
       "    <tr style=\"text-align: right;\">\n",
       "      <th></th>\n",
       "      <th>x1</th>\n",
       "      <th>x2</th>\n",
       "      <th>s</th>\n",
       "      <th>y1</th>\n",
       "      <th>y2</th>\n",
       "      <th>c1</th>\n",
       "      <th>c2</th>\n",
       "      <th>some_array</th>\n",
       "      <th>xopt_runtime</th>\n",
       "      <th>xopt_error</th>\n",
       "      <th>a</th>\n",
       "    </tr>\n",
       "  </thead>\n",
       "  <tbody>\n",
       "    <tr>\n",
       "      <th>1</th>\n",
       "      <td>1.000000</td>\n",
       "      <td>0.750000</td>\n",
       "      <td>0.000000</td>\n",
       "      <td>1.000000</td>\n",
       "      <td>0.750000</td>\n",
       "      <td>0.626888</td>\n",
       "      <td>0.312500</td>\n",
       "      <td>[1, 2, 3]</td>\n",
       "      <td>0.000059</td>\n",
       "      <td>False</td>\n",
       "      <td>NaN</td>\n",
       "    </tr>\n",
       "    <tr>\n",
       "      <th>2</th>\n",
       "      <td>0.750000</td>\n",
       "      <td>1.000000</td>\n",
       "      <td>0.100000</td>\n",
       "      <td>0.750000</td>\n",
       "      <td>1.000000</td>\n",
       "      <td>0.626888</td>\n",
       "      <td>0.312500</td>\n",
       "      <td>[1, 2, 3]</td>\n",
       "      <td>0.000012</td>\n",
       "      <td>False</td>\n",
       "      <td>NaN</td>\n",
       "    </tr>\n",
       "    <tr>\n",
       "      <th>3</th>\n",
       "      <td>0.117211</td>\n",
       "      <td>1.409357</td>\n",
       "      <td>0.260126</td>\n",
       "      <td>0.117211</td>\n",
       "      <td>1.409357</td>\n",
       "      <td>0.975944</td>\n",
       "      <td>0.973458</td>\n",
       "      <td>[1, 2, 3]</td>\n",
       "      <td>0.000040</td>\n",
       "      <td>False</td>\n",
       "      <td>dummy_constant</td>\n",
       "    </tr>\n",
       "    <tr>\n",
       "      <th>4</th>\n",
       "      <td>1.196595</td>\n",
       "      <td>1.681207</td>\n",
       "      <td>0.165721</td>\n",
       "      <td>1.196595</td>\n",
       "      <td>1.681207</td>\n",
       "      <td>3.347349</td>\n",
       "      <td>1.880494</td>\n",
       "      <td>[1, 2, 3]</td>\n",
       "      <td>0.000041</td>\n",
       "      <td>False</td>\n",
       "      <td>dummy_constant</td>\n",
       "    </tr>\n",
       "    <tr>\n",
       "      <th>5</th>\n",
       "      <td>0.223782</td>\n",
       "      <td>0.709246</td>\n",
       "      <td>0.241772</td>\n",
       "      <td>0.223782</td>\n",
       "      <td>0.709246</td>\n",
       "      <td>-0.464574</td>\n",
       "      <td>0.120081</td>\n",
       "      <td>[1, 2, 3]</td>\n",
       "      <td>0.000042</td>\n",
       "      <td>False</td>\n",
       "      <td>dummy_constant</td>\n",
       "    </tr>\n",
       "    <tr>\n",
       "      <th>6</th>\n",
       "      <td>0.359479</td>\n",
       "      <td>0.944211</td>\n",
       "      <td>0.268270</td>\n",
       "      <td>0.359479</td>\n",
       "      <td>0.944211</td>\n",
       "      <td>-0.068722</td>\n",
       "      <td>0.217070</td>\n",
       "      <td>[1, 2, 3]</td>\n",
       "      <td>0.000041</td>\n",
       "      <td>False</td>\n",
       "      <td>dummy_constant</td>\n",
       "    </tr>\n",
       "    <tr>\n",
       "      <th>7</th>\n",
       "      <td>0.375628</td>\n",
       "      <td>1.002523</td>\n",
       "      <td>0.268270</td>\n",
       "      <td>0.375628</td>\n",
       "      <td>1.002523</td>\n",
       "      <td>0.060755</td>\n",
       "      <td>0.267997</td>\n",
       "      <td>[1, 2, 3]</td>\n",
       "      <td>0.000042</td>\n",
       "      <td>False</td>\n",
       "      <td>dummy_constant</td>\n",
       "    </tr>\n",
       "    <tr>\n",
       "      <th>8</th>\n",
       "      <td>0.845204</td>\n",
       "      <td>0.312995</td>\n",
       "      <td>0.359420</td>\n",
       "      <td>0.845204</td>\n",
       "      <td>0.312995</td>\n",
       "      <td>-0.269709</td>\n",
       "      <td>0.154136</td>\n",
       "      <td>[1, 2, 3]</td>\n",
       "      <td>0.000044</td>\n",
       "      <td>False</td>\n",
       "      <td>dummy_constant</td>\n",
       "    </tr>\n",
       "    <tr>\n",
       "      <th>9</th>\n",
       "      <td>1.125715</td>\n",
       "      <td>0.394562</td>\n",
       "      <td>0.310557</td>\n",
       "      <td>1.125715</td>\n",
       "      <td>0.394562</td>\n",
       "      <td>0.359916</td>\n",
       "      <td>0.402637</td>\n",
       "      <td>[1, 2, 3]</td>\n",
       "      <td>0.000042</td>\n",
       "      <td>False</td>\n",
       "      <td>dummy_constant</td>\n",
       "    </tr>\n",
       "    <tr>\n",
       "      <th>10</th>\n",
       "      <td>1.009209</td>\n",
       "      <td>0.340863</td>\n",
       "      <td>0.349751</td>\n",
       "      <td>1.009209</td>\n",
       "      <td>0.340863</td>\n",
       "      <td>0.086821</td>\n",
       "      <td>0.284619</td>\n",
       "      <td>[1, 2, 3]</td>\n",
       "      <td>0.000042</td>\n",
       "      <td>False</td>\n",
       "      <td>dummy_constant</td>\n",
       "    </tr>\n",
       "    <tr>\n",
       "      <th>11</th>\n",
       "      <td>0.707073</td>\n",
       "      <td>0.831267</td>\n",
       "      <td>0.406194</td>\n",
       "      <td>0.707073</td>\n",
       "      <td>0.831267</td>\n",
       "      <td>0.163143</td>\n",
       "      <td>0.152617</td>\n",
       "      <td>[1, 2, 3]</td>\n",
       "      <td>0.000041</td>\n",
       "      <td>False</td>\n",
       "      <td>dummy_constant</td>\n",
       "    </tr>\n",
       "    <tr>\n",
       "      <th>12</th>\n",
       "      <td>0.907283</td>\n",
       "      <td>0.530832</td>\n",
       "      <td>0.462191</td>\n",
       "      <td>0.907283</td>\n",
       "      <td>0.530832</td>\n",
       "      <td>0.162725</td>\n",
       "      <td>0.166830</td>\n",
       "      <td>[1, 2, 3]</td>\n",
       "      <td>0.000075</td>\n",
       "      <td>False</td>\n",
       "      <td>dummy_constant</td>\n",
       "    </tr>\n",
       "    <tr>\n",
       "      <th>13</th>\n",
       "      <td>0.790763</td>\n",
       "      <td>0.631382</td>\n",
       "      <td>0.493287</td>\n",
       "      <td>0.790763</td>\n",
       "      <td>0.631382</td>\n",
       "      <td>0.045273</td>\n",
       "      <td>0.101804</td>\n",
       "      <td>[1, 2, 3]</td>\n",
       "      <td>0.000040</td>\n",
       "      <td>False</td>\n",
       "      <td>dummy_constant</td>\n",
       "    </tr>\n",
       "    <tr>\n",
       "      <th>14</th>\n",
       "      <td>0.982027</td>\n",
       "      <td>0.321366</td>\n",
       "      <td>0.581610</td>\n",
       "      <td>0.982027</td>\n",
       "      <td>0.321366</td>\n",
       "      <td>0.033568</td>\n",
       "      <td>0.264260</td>\n",
       "      <td>[1, 2, 3]</td>\n",
       "      <td>0.000040</td>\n",
       "      <td>False</td>\n",
       "      <td>dummy_constant</td>\n",
       "    </tr>\n",
       "    <tr>\n",
       "      <th>15</th>\n",
       "      <td>0.000000</td>\n",
       "      <td>0.971537</td>\n",
       "      <td>0.353000</td>\n",
       "      <td>0.000000</td>\n",
       "      <td>0.971537</td>\n",
       "      <td>-0.156117</td>\n",
       "      <td>0.472347</td>\n",
       "      <td>[1, 2, 3]</td>\n",
       "      <td>0.000042</td>\n",
       "      <td>False</td>\n",
       "      <td>dummy_constant</td>\n",
       "    </tr>\n",
       "    <tr>\n",
       "      <th>16</th>\n",
       "      <td>0.854024</td>\n",
       "      <td>0.607104</td>\n",
       "      <td>0.678964</td>\n",
       "      <td>0.854024</td>\n",
       "      <td>0.607104</td>\n",
       "      <td>0.187403</td>\n",
       "      <td>0.136804</td>\n",
       "      <td>[1, 2, 3]</td>\n",
       "      <td>0.000040</td>\n",
       "      <td>False</td>\n",
       "      <td>dummy_constant</td>\n",
       "    </tr>\n",
       "    <tr>\n",
       "      <th>17</th>\n",
       "      <td>0.132390</td>\n",
       "      <td>1.058466</td>\n",
       "      <td>0.295035</td>\n",
       "      <td>0.132390</td>\n",
       "      <td>1.058466</td>\n",
       "      <td>0.178664</td>\n",
       "      <td>0.447022</td>\n",
       "      <td>[1, 2, 3]</td>\n",
       "      <td>0.000041</td>\n",
       "      <td>False</td>\n",
       "      <td>dummy_constant</td>\n",
       "    </tr>\n",
       "    <tr>\n",
       "      <th>18</th>\n",
       "      <td>0.624291</td>\n",
       "      <td>0.942505</td>\n",
       "      <td>0.752539</td>\n",
       "      <td>0.624291</td>\n",
       "      <td>0.942505</td>\n",
       "      <td>0.377848</td>\n",
       "      <td>0.211259</td>\n",
       "      <td>[1, 2, 3]</td>\n",
       "      <td>0.000041</td>\n",
       "      <td>False</td>\n",
       "      <td>dummy_constant</td>\n",
       "    </tr>\n",
       "    <tr>\n",
       "      <th>19</th>\n",
       "      <td>0.379554</td>\n",
       "      <td>1.020321</td>\n",
       "      <td>0.838276</td>\n",
       "      <td>0.379554</td>\n",
       "      <td>1.020321</td>\n",
       "      <td>0.101748</td>\n",
       "      <td>0.285241</td>\n",
       "      <td>[1, 2, 3]</td>\n",
       "      <td>0.000040</td>\n",
       "      <td>False</td>\n",
       "      <td>dummy_constant</td>\n",
       "    </tr>\n",
       "    <tr>\n",
       "      <th>20</th>\n",
       "      <td>0.680448</td>\n",
       "      <td>0.700460</td>\n",
       "      <td>0.940750</td>\n",
       "      <td>0.680448</td>\n",
       "      <td>0.700460</td>\n",
       "      <td>-0.143670</td>\n",
       "      <td>0.072746</td>\n",
       "      <td>[1, 2, 3]</td>\n",
       "      <td>0.000039</td>\n",
       "      <td>False</td>\n",
       "      <td>dummy_constant</td>\n",
       "    </tr>\n",
       "    <tr>\n",
       "      <th>21</th>\n",
       "      <td>0.717581</td>\n",
       "      <td>0.749295</td>\n",
       "      <td>0.901955</td>\n",
       "      <td>0.717581</td>\n",
       "      <td>0.749295</td>\n",
       "      <td>-0.017713</td>\n",
       "      <td>0.109489</td>\n",
       "      <td>[1, 2, 3]</td>\n",
       "      <td>0.000038</td>\n",
       "      <td>False</td>\n",
       "      <td>dummy_constant</td>\n",
       "    </tr>\n",
       "    <tr>\n",
       "      <th>22</th>\n",
       "      <td>0.724089</td>\n",
       "      <td>0.763340</td>\n",
       "      <td>0.892028</td>\n",
       "      <td>0.724089</td>\n",
       "      <td>0.763340</td>\n",
       "      <td>0.015770</td>\n",
       "      <td>0.119564</td>\n",
       "      <td>[1, 2, 3]</td>\n",
       "      <td>0.000043</td>\n",
       "      <td>False</td>\n",
       "      <td>dummy_constant</td>\n",
       "    </tr>\n",
       "    <tr>\n",
       "      <th>23</th>\n",
       "      <td>0.546497</td>\n",
       "      <td>0.980796</td>\n",
       "      <td>0.973144</td>\n",
       "      <td>0.546497</td>\n",
       "      <td>0.980796</td>\n",
       "      <td>0.288223</td>\n",
       "      <td>0.233327</td>\n",
       "      <td>[1, 2, 3]</td>\n",
       "      <td>0.000040</td>\n",
       "      <td>False</td>\n",
       "      <td>dummy_constant</td>\n",
       "    </tr>\n",
       "    <tr>\n",
       "      <th>24</th>\n",
       "      <td>0.185790</td>\n",
       "      <td>1.040890</td>\n",
       "      <td>1.000000</td>\n",
       "      <td>0.185790</td>\n",
       "      <td>1.040890</td>\n",
       "      <td>0.213034</td>\n",
       "      <td>0.391290</td>\n",
       "      <td>[1, 2, 3]</td>\n",
       "      <td>0.000040</td>\n",
       "      <td>False</td>\n",
       "      <td>dummy_constant</td>\n",
       "    </tr>\n",
       "    <tr>\n",
       "      <th>25</th>\n",
       "      <td>0.000000</td>\n",
       "      <td>0.952398</td>\n",
       "      <td>0.227261</td>\n",
       "      <td>0.000000</td>\n",
       "      <td>0.952398</td>\n",
       "      <td>-0.192938</td>\n",
       "      <td>0.454664</td>\n",
       "      <td>[1, 2, 3]</td>\n",
       "      <td>0.000040</td>\n",
       "      <td>False</td>\n",
       "      <td>dummy_constant</td>\n",
       "    </tr>\n",
       "    <tr>\n",
       "      <th>26</th>\n",
       "      <td>1.101238</td>\n",
       "      <td>0.183601</td>\n",
       "      <td>0.359187</td>\n",
       "      <td>1.101238</td>\n",
       "      <td>0.183601</td>\n",
       "      <td>0.334272</td>\n",
       "      <td>0.461595</td>\n",
       "      <td>[1, 2, 3]</td>\n",
       "      <td>0.000044</td>\n",
       "      <td>False</td>\n",
       "      <td>dummy_constant</td>\n",
       "    </tr>\n",
       "    <tr>\n",
       "      <th>27</th>\n",
       "      <td>1.047936</td>\n",
       "      <td>0.088863</td>\n",
       "      <td>0.508317</td>\n",
       "      <td>1.047936</td>\n",
       "      <td>0.088863</td>\n",
       "      <td>0.084510</td>\n",
       "      <td>0.469267</td>\n",
       "      <td>[1, 2, 3]</td>\n",
       "      <td>0.000039</td>\n",
       "      <td>False</td>\n",
       "      <td>dummy_constant</td>\n",
       "    </tr>\n",
       "    <tr>\n",
       "      <th>28</th>\n",
       "      <td>0.880554</td>\n",
       "      <td>0.000000</td>\n",
       "      <td>0.268291</td>\n",
       "      <td>0.880554</td>\n",
       "      <td>0.000000</td>\n",
       "      <td>-0.324625</td>\n",
       "      <td>0.394821</td>\n",
       "      <td>[1, 2, 3]</td>\n",
       "      <td>0.000039</td>\n",
       "      <td>False</td>\n",
       "      <td>dummy_constant</td>\n",
       "    </tr>\n",
       "    <tr>\n",
       "      <th>29</th>\n",
       "      <td>0.570030</td>\n",
       "      <td>0.847307</td>\n",
       "      <td>1.000000</td>\n",
       "      <td>0.570030</td>\n",
       "      <td>0.847307</td>\n",
       "      <td>0.142736</td>\n",
       "      <td>0.125526</td>\n",
       "      <td>[1, 2, 3]</td>\n",
       "      <td>0.000040</td>\n",
       "      <td>False</td>\n",
       "      <td>dummy_constant</td>\n",
       "    </tr>\n",
       "    <tr>\n",
       "      <th>30</th>\n",
       "      <td>1.135995</td>\n",
       "      <td>0.332597</td>\n",
       "      <td>0.716037</td>\n",
       "      <td>1.135995</td>\n",
       "      <td>0.332597</td>\n",
       "      <td>0.416571</td>\n",
       "      <td>0.432514</td>\n",
       "      <td>[1, 2, 3]</td>\n",
       "      <td>0.000039</td>\n",
       "      <td>False</td>\n",
       "      <td>dummy_constant</td>\n",
       "    </tr>\n",
       "    <tr>\n",
       "      <th>31</th>\n",
       "      <td>1.113303</td>\n",
       "      <td>0.215980</td>\n",
       "      <td>0.796677</td>\n",
       "      <td>1.113303</td>\n",
       "      <td>0.215980</td>\n",
       "      <td>0.385805</td>\n",
       "      <td>0.456808</td>\n",
       "      <td>[1, 2, 3]</td>\n",
       "      <td>0.000039</td>\n",
       "      <td>False</td>\n",
       "      <td>dummy_constant</td>\n",
       "    </tr>\n",
       "    <tr>\n",
       "      <th>32</th>\n",
       "      <td>0.382793</td>\n",
       "      <td>0.751956</td>\n",
       "      <td>1.000000</td>\n",
       "      <td>0.382793</td>\n",
       "      <td>0.751956</td>\n",
       "      <td>-0.319491</td>\n",
       "      <td>0.077219</td>\n",
       "      <td>[1, 2, 3]</td>\n",
       "      <td>0.000041</td>\n",
       "      <td>False</td>\n",
       "      <td>dummy_constant</td>\n",
       "    </tr>\n",
       "    <tr>\n",
       "      <th>33</th>\n",
       "      <td>0.916273</td>\n",
       "      <td>0.000000</td>\n",
       "      <td>1.000000</td>\n",
       "      <td>0.916273</td>\n",
       "      <td>0.000000</td>\n",
       "      <td>-0.260444</td>\n",
       "      <td>0.423283</td>\n",
       "      <td>[1, 2, 3]</td>\n",
       "      <td>0.000042</td>\n",
       "      <td>False</td>\n",
       "      <td>dummy_constant</td>\n",
       "    </tr>\n",
       "    <tr>\n",
       "      <th>34</th>\n",
       "      <td>1.017779</td>\n",
       "      <td>0.034639</td>\n",
       "      <td>0.938197</td>\n",
       "      <td>1.017779</td>\n",
       "      <td>0.034639</td>\n",
       "      <td>-0.048474</td>\n",
       "      <td>0.484655</td>\n",
       "      <td>[1, 2, 3]</td>\n",
       "      <td>0.000039</td>\n",
       "      <td>False</td>\n",
       "      <td>dummy_constant</td>\n",
       "    </tr>\n",
       "  </tbody>\n",
       "</table>\n",
       "</div>"
      ],
      "text/plain": [
       "          x1        x2         s        y1        y2        c1        c2   \n",
       "1   1.000000  0.750000  0.000000  1.000000  0.750000  0.626888  0.312500  \\\n",
       "2   0.750000  1.000000  0.100000  0.750000  1.000000  0.626888  0.312500   \n",
       "3   0.117211  1.409357  0.260126  0.117211  1.409357  0.975944  0.973458   \n",
       "4   1.196595  1.681207  0.165721  1.196595  1.681207  3.347349  1.880494   \n",
       "5   0.223782  0.709246  0.241772  0.223782  0.709246 -0.464574  0.120081   \n",
       "6   0.359479  0.944211  0.268270  0.359479  0.944211 -0.068722  0.217070   \n",
       "7   0.375628  1.002523  0.268270  0.375628  1.002523  0.060755  0.267997   \n",
       "8   0.845204  0.312995  0.359420  0.845204  0.312995 -0.269709  0.154136   \n",
       "9   1.125715  0.394562  0.310557  1.125715  0.394562  0.359916  0.402637   \n",
       "10  1.009209  0.340863  0.349751  1.009209  0.340863  0.086821  0.284619   \n",
       "11  0.707073  0.831267  0.406194  0.707073  0.831267  0.163143  0.152617   \n",
       "12  0.907283  0.530832  0.462191  0.907283  0.530832  0.162725  0.166830   \n",
       "13  0.790763  0.631382  0.493287  0.790763  0.631382  0.045273  0.101804   \n",
       "14  0.982027  0.321366  0.581610  0.982027  0.321366  0.033568  0.264260   \n",
       "15  0.000000  0.971537  0.353000  0.000000  0.971537 -0.156117  0.472347   \n",
       "16  0.854024  0.607104  0.678964  0.854024  0.607104  0.187403  0.136804   \n",
       "17  0.132390  1.058466  0.295035  0.132390  1.058466  0.178664  0.447022   \n",
       "18  0.624291  0.942505  0.752539  0.624291  0.942505  0.377848  0.211259   \n",
       "19  0.379554  1.020321  0.838276  0.379554  1.020321  0.101748  0.285241   \n",
       "20  0.680448  0.700460  0.940750  0.680448  0.700460 -0.143670  0.072746   \n",
       "21  0.717581  0.749295  0.901955  0.717581  0.749295 -0.017713  0.109489   \n",
       "22  0.724089  0.763340  0.892028  0.724089  0.763340  0.015770  0.119564   \n",
       "23  0.546497  0.980796  0.973144  0.546497  0.980796  0.288223  0.233327   \n",
       "24  0.185790  1.040890  1.000000  0.185790  1.040890  0.213034  0.391290   \n",
       "25  0.000000  0.952398  0.227261  0.000000  0.952398 -0.192938  0.454664   \n",
       "26  1.101238  0.183601  0.359187  1.101238  0.183601  0.334272  0.461595   \n",
       "27  1.047936  0.088863  0.508317  1.047936  0.088863  0.084510  0.469267   \n",
       "28  0.880554  0.000000  0.268291  0.880554  0.000000 -0.324625  0.394821   \n",
       "29  0.570030  0.847307  1.000000  0.570030  0.847307  0.142736  0.125526   \n",
       "30  1.135995  0.332597  0.716037  1.135995  0.332597  0.416571  0.432514   \n",
       "31  1.113303  0.215980  0.796677  1.113303  0.215980  0.385805  0.456808   \n",
       "32  0.382793  0.751956  1.000000  0.382793  0.751956 -0.319491  0.077219   \n",
       "33  0.916273  0.000000  1.000000  0.916273  0.000000 -0.260444  0.423283   \n",
       "34  1.017779  0.034639  0.938197  1.017779  0.034639 -0.048474  0.484655   \n",
       "\n",
       "   some_array  xopt_runtime  xopt_error               a  \n",
       "1   [1, 2, 3]      0.000059       False             NaN  \n",
       "2   [1, 2, 3]      0.000012       False             NaN  \n",
       "3   [1, 2, 3]      0.000040       False  dummy_constant  \n",
       "4   [1, 2, 3]      0.000041       False  dummy_constant  \n",
       "5   [1, 2, 3]      0.000042       False  dummy_constant  \n",
       "6   [1, 2, 3]      0.000041       False  dummy_constant  \n",
       "7   [1, 2, 3]      0.000042       False  dummy_constant  \n",
       "8   [1, 2, 3]      0.000044       False  dummy_constant  \n",
       "9   [1, 2, 3]      0.000042       False  dummy_constant  \n",
       "10  [1, 2, 3]      0.000042       False  dummy_constant  \n",
       "11  [1, 2, 3]      0.000041       False  dummy_constant  \n",
       "12  [1, 2, 3]      0.000075       False  dummy_constant  \n",
       "13  [1, 2, 3]      0.000040       False  dummy_constant  \n",
       "14  [1, 2, 3]      0.000040       False  dummy_constant  \n",
       "15  [1, 2, 3]      0.000042       False  dummy_constant  \n",
       "16  [1, 2, 3]      0.000040       False  dummy_constant  \n",
       "17  [1, 2, 3]      0.000041       False  dummy_constant  \n",
       "18  [1, 2, 3]      0.000041       False  dummy_constant  \n",
       "19  [1, 2, 3]      0.000040       False  dummy_constant  \n",
       "20  [1, 2, 3]      0.000039       False  dummy_constant  \n",
       "21  [1, 2, 3]      0.000038       False  dummy_constant  \n",
       "22  [1, 2, 3]      0.000043       False  dummy_constant  \n",
       "23  [1, 2, 3]      0.000040       False  dummy_constant  \n",
       "24  [1, 2, 3]      0.000040       False  dummy_constant  \n",
       "25  [1, 2, 3]      0.000040       False  dummy_constant  \n",
       "26  [1, 2, 3]      0.000044       False  dummy_constant  \n",
       "27  [1, 2, 3]      0.000039       False  dummy_constant  \n",
       "28  [1, 2, 3]      0.000039       False  dummy_constant  \n",
       "29  [1, 2, 3]      0.000040       False  dummy_constant  \n",
       "30  [1, 2, 3]      0.000039       False  dummy_constant  \n",
       "31  [1, 2, 3]      0.000039       False  dummy_constant  \n",
       "32  [1, 2, 3]      0.000041       False  dummy_constant  \n",
       "33  [1, 2, 3]      0.000042       False  dummy_constant  \n",
       "34  [1, 2, 3]      0.000039       False  dummy_constant  "
      ]
     },
     "execution_count": 4,
     "metadata": {},
     "output_type": "execute_result"
    }
   ],
   "source": [
    "X.data"
   ]
  },
  {
   "cell_type": "markdown",
   "metadata": {
    "collapsed": false
   },
   "source": [
    "## Plot results\n",
    "Here we plot the resulting observations in input space, colored by feasibility\n",
    "(neglecting the fact that\n",
    "these data points are at varying fidelities).\n"
   ]
  },
  {
   "cell_type": "code",
   "execution_count": 5,
   "metadata": {
    "collapsed": false,
    "execution": {
     "iopub.execute_input": "2023-04-19T17:01:27.513548Z",
     "iopub.status.busy": "2023-04-19T17:01:27.512970Z",
     "iopub.status.idle": "2023-04-19T17:01:27.712987Z",
     "shell.execute_reply": "2023-04-19T17:01:27.711977Z"
    }
   },
   "outputs": [
    {
     "data": {
      "image/png": "[encoded data removed]",
      "text/plain": [
       "<Figure size 640x480 with 1 Axes>"
      ]
     },
     "metadata": {},
     "output_type": "display_data"
    }
   ],
   "source": [
    "import matplotlib.pyplot as plt\n",
    "\n",
    "fig, ax = plt.subplots()\n",
    "\n",
    "theta = np.linspace(0, np.pi / 2)\n",
    "r = np.sqrt(1 + 0.1 * np.cos(16 * theta))\n",
    "x_1 = r * np.sin(theta)\n",
    "x_2_lower = r * np.cos(theta)\n",
    "x_2_upper = (0.5 - (x_1 - 0.5) ** 2) ** 0.5 + 0.5\n",
    "\n",
    "z = np.zeros_like(x_1)\n",
    "\n",
    "# ax2.plot(x_1, x_2_lower,'r')\n",
    "ax.fill_between(x_1, z, x_2_lower, fc=\"white\")\n",
    "circle = plt.Circle(\n",
    "    (0.5, 0.5), 0.5 ** 0.5, color=\"r\", alpha=0.25, zorder=0, label=\"Valid Region\"\n",
    ")\n",
    "ax.add_patch(circle)\n",
    "history = pd.concat(\n",
    "    [X.data, tnk_vocs.feasibility_data(X.data)], axis=1, ignore_index=False\n",
    ")\n",
    "\n",
    "ax.plot(*history[[\"x1\", \"x2\"]][history[\"feasible\"]].to_numpy().T, \".C1\")\n",
    "ax.plot(*history[[\"x1\", \"x2\"]][~history[\"feasible\"]].to_numpy().T, \".C2\")\n",
    "\n",
    "ax.set_xlim(0, 3.14)\n",
    "ax.set_ylim(0, 3.14)\n",
    "ax.set_xlabel(\"x1\")\n",
    "ax.set_ylabel(\"x2\")\n",
    "ax.set_aspect(\"equal\")"
   ]
  },
  {
   "cell_type": "markdown",
   "metadata": {
    "collapsed": false
   },
   "source": [
    "### Plot path through input space"
   ]
  },
  {
   "cell_type": "code",
   "execution_count": 6,
   "metadata": {
    "collapsed": false,
    "execution": {
     "iopub.execute_input": "2023-04-19T17:01:27.717782Z",
     "iopub.status.busy": "2023-04-19T17:01:27.717353Z",
     "iopub.status.idle": "2023-04-19T17:01:28.293979Z",
     "shell.execute_reply": "2023-04-19T17:01:28.292913Z"
    }
   },
   "outputs": [
    {
     "data": {
      "image/png": "[encoded data removed]",
      "text/plain": [
       "<Figure size 640x480 with 4 Axes>"
      ]
     },
     "metadata": {},
     "output_type": "display_data"
    }
   ],
   "source": [
    "ax = history.hist([\"x1\", \"x2\", \"s\"],bins=20)"
   ]
  },
  {
   "cell_type": "code",
   "execution_count": 7,
   "metadata": {
    "collapsed": false,
    "execution": {
     "iopub.execute_input": "2023-04-19T17:01:28.297838Z",
     "iopub.status.busy": "2023-04-19T17:01:28.297327Z",
     "iopub.status.idle": "2023-04-19T17:01:28.538286Z",
     "shell.execute_reply": "2023-04-19T17:01:28.537515Z"
    }
   },
   "outputs": [
    {
     "data": {
      "text/plain": [
       "<Axes: >"
      ]
     },
     "execution_count": 7,
     "metadata": {},
     "output_type": "execute_result"
    },
    {
     "data": {
      "image/png": "[encoded data removed]",
      "text/plain": [
       "<Figure size 640x480 with 1 Axes>"
      ]
     },
     "metadata": {},
     "output_type": "display_data"
    }
   ],
   "source": [
    "history.plot(y=[\"x1\", \"x2\", \"s\"])"
   ]
  },
  {
   "cell_type": "markdown",
   "metadata": {
    "collapsed": false
   },
   "source": [
    "## Plot the acqusisition function\n",
    "Here we plot the acquisition function at a small set of fidelities $[0, 0.5, 1.0]$."
   ]
  },
  {
   "cell_type": "code",
   "execution_count": 8,
   "metadata": {
    "collapsed": false,
    "execution": {
     "iopub.execute_input": "2023-04-19T17:01:28.542365Z",
     "iopub.status.busy": "2023-04-19T17:01:28.541836Z",
     "iopub.status.idle": "2023-04-19T17:02:15.004718Z",
     "shell.execute_reply": "2023-04-19T17:02:15.003289Z"
    }
   },
   "outputs": [
    {
     "name": "stdout",
     "output_type": "stream",
     "text": [
      "[[1.05172457 0.08111208]]\n"
     ]
    },
    {
     "data": {
      "text/plain": [
       "[<matplotlib.lines.Line2D at 0x7fccf00cabb0>]"
      ]
     },
     "execution_count": 8,
     "metadata": {},
     "output_type": "execute_result"
    },
    {
     "data": {
      "image/png": "[encoded data removed]",
      "text/plain": [
       "<Figure size 640x480 with 2 Axes>"
      ]
     },
     "metadata": {},
     "output_type": "display_data"
    },
    {
     "data": {
      "image/png": "[encoded data removed]",
      "text/plain": [
       "<Figure size 640x480 with 2 Axes>"
      ]
     },
     "metadata": {},
     "output_type": "display_data"
    },
    {
     "data": {
      "image/png": "[encoded data removed]",
      "text/plain": [
       "<Figure size 640x480 with 2 Axes>"
      ]
     },
     "metadata": {},
     "output_type": "display_data"
    }
   ],
   "source": [
    "# plot the acquisition function\n",
    "from xopt.generators.bayesian.objectives import feasibility\n",
    "\n",
    "bounds = generator.vocs.bounds\n",
    "model = generator.model\n",
    "\n",
    "# create mesh over non-fidelity parameters\n",
    "n = 100\n",
    "x = torch.linspace(*bounds.T[1], n)\n",
    "y = torch.linspace(*bounds.T[2], n)\n",
    "xx, yy = torch.meshgrid(x, y)\n",
    "\n",
    "# plot function(s) at a single fidelity parameter\n",
    "fidelities = [0.0, 0.5, 1.0]\n",
    "for fidelity in fidelities:\n",
    "    pts = torch.hstack([ele.reshape(-1, 1) for ele in (xx, yy)]).double()\n",
    "    pts = torch.cat((torch.ones(pts.shape[0],1)*fidelity, pts), dim=-1)\n",
    "\n",
    "    acq_func = generator.get_acquisition(model)\n",
    "    with torch.no_grad():\n",
    "        acq_pts = pts.unsqueeze(1)\n",
    "        acq = acq_func(acq_pts)\n",
    "\n",
    "        fig, ax = plt.subplots()\n",
    "        c = ax.pcolor(xx, yy, acq.reshape(n, n), cmap=\"Blues\")\n",
    "        fig.colorbar(c)\n",
    "        ax.set_title(f\"Acquisition function - s: {fidelity}\")\n",
    "\n",
    "        ax.plot(*history[[\"x1\", \"x2\"]][history[\"feasible\"]].to_numpy().T, \".C1\")\n",
    "        ax.plot(*history[[\"x1\", \"x2\"]][~history[\"feasible\"]].to_numpy().T, \".C2\")\n",
    "\n",
    "        ax.plot(*history[[\"x1\", \"x2\"]].to_numpy()[-1].T, \"+\")\n",
    "\n",
    "\n",
    "candidate = generator.generate(1)\n",
    "print(candidate[[\"x1\", \"x2\"]].to_numpy())\n",
    "ax.plot(*candidate[[\"x1\", \"x2\"]].to_numpy()[0], \"o\")"
   ]
  },
  {
   "cell_type": "code",
   "execution_count": 9,
   "metadata": {
    "collapsed": false,
    "execution": {
     "iopub.execute_input": "2023-04-19T17:02:15.010640Z",
     "iopub.status.busy": "2023-04-19T17:02:15.010074Z",
     "iopub.status.idle": "2023-04-19T17:02:15.016981Z",
     "shell.execute_reply": "2023-04-19T17:02:15.016244Z"
    }
   },
   "outputs": [
    {
     "data": {
      "text/plain": [
       "[('likelihood.noise_covar.raw_noise',\n",
       "  Parameter containing:\n",
       "  tensor([-26.8007], dtype=torch.float64, requires_grad=True)),\n",
       " ('mean_module.raw_constant',\n",
       "  Parameter containing:\n",
       "  tensor(-0.0586, dtype=torch.float64, requires_grad=True)),\n",
       " ('covar_module.raw_outputscale',\n",
       "  Parameter containing:\n",
       "  tensor(0.6305, dtype=torch.float64, requires_grad=True)),\n",
       " ('covar_module.base_kernel.raw_lengthscale',\n",
       "  Parameter containing:\n",
       "  tensor([[0.8154, 1.4270, 1.5814]], dtype=torch.float64, requires_grad=True))]"
      ]
     },
     "execution_count": 9,
     "metadata": {},
     "output_type": "execute_result"
    }
   ],
   "source": [
    "# examine lengthscale of the first objective\n",
    "list(model.models[0].named_parameters())"
   ]
  },
  {
   "cell_type": "code",
   "execution_count": 10,
   "metadata": {
    "collapsed": false,
    "execution": {
     "iopub.execute_input": "2023-04-19T17:02:15.020172Z",
     "iopub.status.busy": "2023-04-19T17:02:15.019691Z",
     "iopub.status.idle": "2023-04-19T17:02:15.054557Z",
     "shell.execute_reply": "2023-04-19T17:02:15.053836Z"
    }
   },
   "outputs": [],
   "source": [
    "# dump results to fiel\n",
    "X.options.dump_file = \"results.yaml\"\n",
    "X.dump_state()"
   ]
  },
  {
   "cell_type": "code",
   "execution_count": 12,
   "metadata": {
    "collapsed": false
   },
   "outputs": [],
   "source": []
  }
 ],
 "metadata": {
  "interpreter": {
   "hash": "72034539424920dfb606fe3b820b3f27dca0cbf1c69938110810ec4641e275b1"
  },
  "kernelspec": {
   "display_name": "Python 3 (ipykernel)",
   "language": "python",
   "name": "python3"
  },
  "language_info": {
   "codemirror_mode": {
    "name": "ipython",
    "version": 3
   },
   "file_extension": ".py",
   "mimetype": "text/x-python",
   "name": "python",
   "nbconvert_exporter": "python",
   "pygments_lexer": "ipython3",
   "version": "3.9.16"
  }
 },
 "nbformat": 4,
 "nbformat_minor": 4
}
