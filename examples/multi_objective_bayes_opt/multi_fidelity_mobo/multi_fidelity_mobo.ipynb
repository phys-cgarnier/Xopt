{
 "cells": [
  {
   "cell_type": "markdown",
   "metadata": {},
   "source": [
    "# Multi-fidelity Multi-objective Bayesian Optimization\n",
    "\n",
    "Here we attempt to solve for the constrained Pareto front of the TNK multi-objective\n",
    "optimization problem using Multi-Fidelity Multi-Objective Bayesian optimization. For\n",
    "simplicity we assume that the objective and constraint functions at lower fidelities is\n",
    "exactly equal to the functions at higher fidelities (this is obviously not a\n",
    "requirement, although for the best results lower fidelity calculations should\n",
    "correlate with higher fidelity ones). The algorithm should learn this relationship\n",
    "and use information gathered at lower fidelities to gather samples to improve the\n",
    "hypervolume of the Pareto front at the maximum fidelity.\n",
    "\n",
    "TNK function\n",
    "$n=2$ variables:\n",
    "$x_i \\in [0, \\pi], i=1,2$\n",
    "\n",
    "Objectives:\n",
    "- $f_i(x) = x_i$\n",
    "\n",
    "Constraints:\n",
    "- $g_1(x) = -x_1^2 -x_2^2 + 1 + 0.1 \\cos\\left(16 \\arctan \\frac{x_1}{x_2}\\right) \\le 0$\n",
    "- $g_2(x) = (x_1 - 1/2)^2 + (x_2-1/2)^2 \\le 0.5$"
   ]
  },
  {
   "cell_type": "code",
   "execution_count": 1,
   "metadata": {
    "ExecuteTime": {
     "end_time": "2023-09-20T14:37:08.616050600Z",
     "start_time": "2023-09-20T14:37:04.101720300Z"
    },
    "collapsed": false,
    "execution": {
     "iopub.execute_input": "2024-07-31T03:31:42.969788Z",
     "iopub.status.busy": "2024-07-31T03:31:42.969614Z",
     "iopub.status.idle": "2024-07-31T03:31:44.899150Z",
     "shell.execute_reply": "2024-07-31T03:31:44.898482Z"
    }
   },
   "outputs": [
    {
     "name": "stdout",
     "output_type": "stream",
     "text": [
      "{'variables': {'x1': [0.0, 3.14159], 'x2': [0.0, 3.14159]}, 'constraints': {'c1': ['GREATER_THAN', 0.0], 'c2': ['LESS_THAN', 0.5]}, 'objectives': {'y1': 'MINIMIZE', 'y2': 'MINIMIZE'}, 'constants': {'a': 'dummy_constant'}, 'observables': []}\n"
     ]
    }
   ],
   "source": [
    "# set values if testing\n",
    "import os\n",
    "SMOKE_TEST = os.environ.get(\"SMOKE_TEST\")\n",
    "N_MC_SAMPLES = 1 if SMOKE_TEST else 128\n",
    "NUM_RESTARTS = 1 if SMOKE_TEST else 20\n",
    "BUDGET = 0.02 if SMOKE_TEST else 10\n",
    "\n",
    "# Ignore all warnings\n",
    "import warnings\n",
    "warnings.filterwarnings(\"ignore\")\n",
    "\n",
    "import pandas as pd\n",
    "import numpy as np\n",
    "import torch\n",
    "\n",
    "from xopt import Xopt, Evaluator\n",
    "from xopt.generators.bayesian import MultiFidelityGenerator\n",
    "from xopt.resources.test_functions.tnk import evaluate_TNK, tnk_vocs\n",
    "\n",
    "evaluator = Evaluator(function=evaluate_TNK)\n",
    "print(tnk_vocs.dict())"
   ]
  },
  {
   "cell_type": "markdown",
   "metadata": {
    "collapsed": false
   },
   "source": [
    "## Set up the Multi-Fidelity Multi-objective optimization algorithm\n",
    "Here we create the Multi-Fidelity generator object which can solve both single and\n",
    "multi-objective optimization problems depending on the number of objectives in VOCS.\n",
    "We specify a cost function as a function of fidelity parameter $s=[0,1]$ as $C(s) =\n",
    "s^{3.5}$ as an example from a real life multi-fidelity simulation problem."
   ]
  },
  {
   "cell_type": "code",
   "execution_count": 2,
   "metadata": {
    "ExecuteTime": {
     "end_time": "2023-09-20T14:37:08.660042Z",
     "start_time": "2023-09-20T14:37:08.617041800Z"
    },
    "collapsed": false,
    "execution": {
     "iopub.execute_input": "2024-07-31T03:31:44.929013Z",
     "iopub.status.busy": "2024-07-31T03:31:44.928736Z",
     "iopub.status.idle": "2024-07-31T03:31:44.944879Z",
     "shell.execute_reply": "2024-07-31T03:31:44.944352Z"
    }
   },
   "outputs": [
    {
     "data": {
      "text/plain": [
       "\n",
       "            Xopt\n",
       "________________________________\n",
       "Version: 0+untagged.1.g2e9a465\n",
       "Data size: 2\n",
       "Config as YAML:\n",
       "dump_file: null\n",
       "evaluator:\n",
       "  function: xopt.resources.test_functions.tnk.evaluate_TNK\n",
       "  function_kwargs:\n",
       "    raise_probability: 0\n",
       "    random_sleep: 0\n",
       "    sleep: 0\n",
       "  max_workers: 1\n",
       "  vectorized: false\n",
       "generator:\n",
       "  computation_time: null\n",
       "  custom_objective: null\n",
       "  fixed_features: null\n",
       "  gp_constructor:\n",
       "    covar_modules: {}\n",
       "    custom_noise_prior: null\n",
       "    mean_modules: {}\n",
       "    name: standard\n",
       "    trainable_mean_keys: []\n",
       "    transform_inputs: true\n",
       "    use_low_noise_prior: true\n",
       "  log_transform_acquisition_function: false\n",
       "  max_travel_distances: null\n",
       "  model: null\n",
       "  n_candidates: 1\n",
       "  n_interpolate_points: null\n",
       "  n_monte_carlo_samples: 128\n",
       "  name: multi_fidelity\n",
       "  numerical_optimizer:\n",
       "    max_iter: 2000\n",
       "    max_time: null\n",
       "    n_restarts: 20\n",
       "    name: LBFGS\n",
       "  reference_point:\n",
       "    s: 0.0\n",
       "    y1: 1.5\n",
       "    y2: 1.5\n",
       "  supports_batch_generation: true\n",
       "  supports_multi_objective: true\n",
       "  turbo_controller: null\n",
       "  use_cuda: false\n",
       "max_evaluations: null\n",
       "serialize_inline: false\n",
       "serialize_torch: false\n",
       "strict: true\n",
       "vocs:\n",
       "  constants:\n",
       "    a: dummy_constant\n",
       "  constraints: {}\n",
       "  objectives:\n",
       "    s: MAXIMIZE\n",
       "    y1: MINIMIZE\n",
       "    y2: MINIMIZE\n",
       "  observables: []\n",
       "  variables:\n",
       "    s:\n",
       "    - 0\n",
       "    - 1\n",
       "    x1:\n",
       "    - 0.0\n",
       "    - 3.14159\n",
       "    x2:\n",
       "    - 0.0\n",
       "    - 3.14159\n"
      ]
     },
     "execution_count": 2,
     "metadata": {},
     "output_type": "execute_result"
    }
   ],
   "source": [
    "from copy import deepcopy\n",
    "my_vocs = deepcopy(tnk_vocs)\n",
    "my_vocs.constraints = {}\n",
    "generator = MultiFidelityGenerator(vocs=my_vocs, reference_point = {\"y1\":1.5,\"y2\":1.5})\n",
    "\n",
    "# set cost function according to approximate scaling of laser plasma accelerator\n",
    "# problem, see https://journals.aps.org/prresearch/abstract/10.1103/PhysRevResearch.5.013063\n",
    "generator.cost_function = lambda s: s**3.5\n",
    "generator.numerical_optimizer.n_restarts = NUM_RESTARTS\n",
    "generator.n_monte_carlo_samples = N_MC_SAMPLES\n",
    "\n",
    "X = Xopt(generator=generator, evaluator=evaluator, vocs=my_vocs)\n",
    "\n",
    "# evaluate at some explicit initial points\n",
    "X.evaluate_data(pd.DataFrame({\"x1\":[1.0, 0.75],\"x2\":[0.75, 1.0],\"s\":[0.0,0.1]}))\n",
    "\n",
    "X"
   ]
  },
  {
   "cell_type": "markdown",
   "metadata": {
    "collapsed": false
   },
   "source": [
    "## Run optimization routine\n",
    "Instead of ending the optimization routine after an explict number of samples we end\n",
    "optimization once a given optimization budget has been exceeded. WARNING: This will\n",
    "slightly exceed the given budget"
   ]
  },
  {
   "cell_type": "code",
   "execution_count": 3,
   "metadata": {
    "ExecuteTime": {
     "end_time": "2023-09-20T14:37:14.657062800Z",
     "start_time": "2023-09-20T14:37:08.648042200Z"
    },
    "collapsed": false,
    "execution": {
     "iopub.execute_input": "2024-07-31T03:31:44.947034Z",
     "iopub.status.busy": "2024-07-31T03:31:44.946724Z",
     "iopub.status.idle": "2024-07-31T03:32:38.779563Z",
     "shell.execute_reply": "2024-07-31T03:32:38.778942Z"
    }
   },
   "outputs": [
    {
     "name": "stdout",
     "output_type": "stream",
     "text": [
      "n_samples: 3 budget used: 0.009122 hypervolume: 0.0375\n"
     ]
    },
    {
     "name": "stdout",
     "output_type": "stream",
     "text": [
      "n_samples: 4 budget used: 0.0152 hypervolume: 0.0375\n"
     ]
    },
    {
     "name": "stdout",
     "output_type": "stream",
     "text": [
      "n_samples: 5 budget used: 0.0252 hypervolume: 0.4036\n"
     ]
    },
    {
     "name": "stdout",
     "output_type": "stream",
     "text": [
      "n_samples: 6 budget used: 0.02522 hypervolume: 0.4161\n"
     ]
    },
    {
     "name": "stdout",
     "output_type": "stream",
     "text": [
      "n_samples: 7 budget used: 0.02579 hypervolume: 0.4161\n"
     ]
    },
    {
     "name": "stdout",
     "output_type": "stream",
     "text": [
      "n_samples: 8 budget used: 0.02579 hypervolume: 0.4161\n"
     ]
    },
    {
     "name": "stdout",
     "output_type": "stream",
     "text": [
      "n_samples: 9 budget used: 0.02781 hypervolume: 0.5302\n"
     ]
    },
    {
     "name": "stdout",
     "output_type": "stream",
     "text": [
      "n_samples: 10 budget used: 0.07892 hypervolume: 0.962\n"
     ]
    },
    {
     "name": "stdout",
     "output_type": "stream",
     "text": [
      "n_samples: 11 budget used: 0.3203 hypervolume: 1.499\n"
     ]
    },
    {
     "name": "stdout",
     "output_type": "stream",
     "text": [
      "n_samples: 12 budget used: 1.053 hypervolume: 2.059\n"
     ]
    },
    {
     "name": "stdout",
     "output_type": "stream",
     "text": [
      "n_samples: 13 budget used: 1.174 hypervolume: 2.059\n"
     ]
    },
    {
     "name": "stdout",
     "output_type": "stream",
     "text": [
      "n_samples: 14 budget used: 1.243 hypervolume: 2.059\n"
     ]
    },
    {
     "name": "stdout",
     "output_type": "stream",
     "text": [
      "n_samples: 15 budget used: 1.254 hypervolume: 2.059\n"
     ]
    },
    {
     "name": "stdout",
     "output_type": "stream",
     "text": [
      "n_samples: 16 budget used: 1.254 hypervolume: 2.059\n"
     ]
    },
    {
     "name": "stdout",
     "output_type": "stream",
     "text": [
      "n_samples: 17 budget used: 1.923 hypervolume: 2.059\n"
     ]
    },
    {
     "name": "stdout",
     "output_type": "stream",
     "text": [
      "n_samples: 18 budget used: 1.937 hypervolume: 2.059\n"
     ]
    },
    {
     "name": "stdout",
     "output_type": "stream",
     "text": [
      "n_samples: 19 budget used: 2.937 hypervolume: 2.25\n"
     ]
    },
    {
     "name": "stdout",
     "output_type": "stream",
     "text": [
      "n_samples: 20 budget used: 3.189 hypervolume: 2.25\n"
     ]
    },
    {
     "name": "stdout",
     "output_type": "stream",
     "text": [
      "n_samples: 21 budget used: 4.189 hypervolume: 2.25\n"
     ]
    },
    {
     "name": "stdout",
     "output_type": "stream",
     "text": [
      "n_samples: 22 budget used: 4.815 hypervolume: 2.25\n"
     ]
    },
    {
     "name": "stdout",
     "output_type": "stream",
     "text": [
      "n_samples: 23 budget used: 4.855 hypervolume: 2.25\n"
     ]
    },
    {
     "name": "stdout",
     "output_type": "stream",
     "text": [
      "n_samples: 24 budget used: 5.855 hypervolume: 2.25\n"
     ]
    },
    {
     "name": "stdout",
     "output_type": "stream",
     "text": [
      "n_samples: 25 budget used: 5.855 hypervolume: 2.25\n"
     ]
    },
    {
     "name": "stdout",
     "output_type": "stream",
     "text": [
      "n_samples: 26 budget used: 5.875 hypervolume: 2.25\n"
     ]
    },
    {
     "name": "stdout",
     "output_type": "stream",
     "text": [
      "n_samples: 27 budget used: 6.749 hypervolume: 2.25\n"
     ]
    },
    {
     "name": "stdout",
     "output_type": "stream",
     "text": [
      "n_samples: 28 budget used: 6.978 hypervolume: 2.25\n"
     ]
    },
    {
     "name": "stdout",
     "output_type": "stream",
     "text": [
      "n_samples: 29 budget used: 6.983 hypervolume: 2.25\n"
     ]
    },
    {
     "name": "stdout",
     "output_type": "stream",
     "text": [
      "n_samples: 30 budget used: 7.217 hypervolume: 2.25\n"
     ]
    },
    {
     "name": "stdout",
     "output_type": "stream",
     "text": [
      "n_samples: 31 budget used: 7.218 hypervolume: 2.25\n"
     ]
    },
    {
     "name": "stdout",
     "output_type": "stream",
     "text": [
      "n_samples: 32 budget used: 8.218 hypervolume: 2.25\n"
     ]
    },
    {
     "name": "stdout",
     "output_type": "stream",
     "text": [
      "n_samples: 33 budget used: 9.186 hypervolume: 2.25\n"
     ]
    },
    {
     "name": "stdout",
     "output_type": "stream",
     "text": [
      "n_samples: 34 budget used: 9.188 hypervolume: 2.25\n"
     ]
    },
    {
     "name": "stdout",
     "output_type": "stream",
     "text": [
      "n_samples: 35 budget used: 9.499 hypervolume: 2.25\n"
     ]
    },
    {
     "name": "stdout",
     "output_type": "stream",
     "text": [
      "n_samples: 36 budget used: 9.653 hypervolume: 2.25\n"
     ]
    },
    {
     "name": "stdout",
     "output_type": "stream",
     "text": [
      "n_samples: 37 budget used: 9.697 hypervolume: 2.25\n"
     ]
    },
    {
     "name": "stdout",
     "output_type": "stream",
     "text": [
      "n_samples: 38 budget used: 9.699 hypervolume: 2.25\n"
     ]
    },
    {
     "name": "stdout",
     "output_type": "stream",
     "text": [
      "n_samples: 39 budget used: 9.704 hypervolume: 2.25\n"
     ]
    },
    {
     "name": "stdout",
     "output_type": "stream",
     "text": [
      "n_samples: 40 budget used: 9.709 hypervolume: 2.25\n"
     ]
    },
    {
     "name": "stdout",
     "output_type": "stream",
     "text": [
      "n_samples: 41 budget used: 10.12 hypervolume: 2.25\n"
     ]
    }
   ],
   "source": [
    "budget = BUDGET\n",
    "while X.generator.calculate_total_cost() < budget:\n",
    "    X.step()\n",
    "    print(f\"n_samples: {len(X.data)} \"\n",
    "          f\"budget used: {X.generator.calculate_total_cost():.4} \"\n",
    "          f\"hypervolume: {X.generator.calculate_hypervolume():.4}\")"
   ]
  },
  {
   "cell_type": "markdown",
   "metadata": {
    "collapsed": false
   },
   "source": [
    "## Show results"
   ]
  },
  {
   "cell_type": "code",
   "execution_count": 4,
   "metadata": {
    "ExecuteTime": {
     "end_time": "2023-09-20T14:37:14.684015600Z",
     "start_time": "2023-09-20T14:37:14.647063400Z"
    },
    "collapsed": false,
    "execution": {
     "iopub.execute_input": "2024-07-31T03:32:38.782753Z",
     "iopub.status.busy": "2024-07-31T03:32:38.782448Z",
     "iopub.status.idle": "2024-07-31T03:32:38.803243Z",
     "shell.execute_reply": "2024-07-31T03:32:38.802599Z"
    }
   },
   "outputs": [
    {
     "data": {
      "text/html": [
       "<div>\n",
       "<style scoped>\n",
       "    .dataframe tbody tr th:only-of-type {\n",
       "        vertical-align: middle;\n",
       "    }\n",
       "\n",
       "    .dataframe tbody tr th {\n",
       "        vertical-align: top;\n",
       "    }\n",
       "\n",
       "    .dataframe thead th {\n",
       "        text-align: right;\n",
       "    }\n",
       "</style>\n",
       "<table border=\"1\" class=\"dataframe\">\n",
       "  <thead>\n",
       "    <tr style=\"text-align: right;\">\n",
       "      <th></th>\n",
       "      <th>x1</th>\n",
       "      <th>x2</th>\n",
       "      <th>s</th>\n",
       "      <th>a</th>\n",
       "      <th>y1</th>\n",
       "      <th>y2</th>\n",
       "      <th>c1</th>\n",
       "      <th>c2</th>\n",
       "      <th>xopt_runtime</th>\n",
       "      <th>xopt_error</th>\n",
       "    </tr>\n",
       "  </thead>\n",
       "  <tbody>\n",
       "    <tr>\n",
       "      <th>0</th>\n",
       "      <td>1.000000</td>\n",
       "      <td>0.750000</td>\n",
       "      <td>0.000000</td>\n",
       "      <td>dummy_constant</td>\n",
       "      <td>1.000000</td>\n",
       "      <td>0.750000</td>\n",
       "      <td>0.626888</td>\n",
       "      <td>0.312500</td>\n",
       "      <td>0.000041</td>\n",
       "      <td>False</td>\n",
       "    </tr>\n",
       "    <tr>\n",
       "      <th>1</th>\n",
       "      <td>0.750000</td>\n",
       "      <td>1.000000</td>\n",
       "      <td>0.100000</td>\n",
       "      <td>dummy_constant</td>\n",
       "      <td>0.750000</td>\n",
       "      <td>1.000000</td>\n",
       "      <td>0.626888</td>\n",
       "      <td>0.312500</td>\n",
       "      <td>0.000018</td>\n",
       "      <td>False</td>\n",
       "    </tr>\n",
       "    <tr>\n",
       "      <th>2</th>\n",
       "      <td>0.000000</td>\n",
       "      <td>2.271957</td>\n",
       "      <td>0.258699</td>\n",
       "      <td>dummy_constant</td>\n",
       "      <td>0.000000</td>\n",
       "      <td>2.271957</td>\n",
       "      <td>4.061786</td>\n",
       "      <td>3.389830</td>\n",
       "      <td>0.000023</td>\n",
       "      <td>False</td>\n",
       "    </tr>\n",
       "    <tr>\n",
       "      <th>3</th>\n",
       "      <td>1.923706</td>\n",
       "      <td>3.128161</td>\n",
       "      <td>0.232666</td>\n",
       "      <td>dummy_constant</td>\n",
       "      <td>1.923706</td>\n",
       "      <td>3.128161</td>\n",
       "      <td>12.568388</td>\n",
       "      <td>8.934168</td>\n",
       "      <td>0.000022</td>\n",
       "      <td>False</td>\n",
       "    </tr>\n",
       "    <tr>\n",
       "      <th>4</th>\n",
       "      <td>0.000000</td>\n",
       "      <td>0.497109</td>\n",
       "      <td>0.268270</td>\n",
       "      <td>dummy_constant</td>\n",
       "      <td>0.000000</td>\n",
       "      <td>0.497109</td>\n",
       "      <td>-0.852883</td>\n",
       "      <td>0.250008</td>\n",
       "      <td>0.000021</td>\n",
       "      <td>False</td>\n",
       "    </tr>\n",
       "    <tr>\n",
       "      <th>5</th>\n",
       "      <td>0.000000</td>\n",
       "      <td>0.312835</td>\n",
       "      <td>0.045472</td>\n",
       "      <td>dummy_constant</td>\n",
       "      <td>0.000000</td>\n",
       "      <td>0.312835</td>\n",
       "      <td>-1.002134</td>\n",
       "      <td>0.285031</td>\n",
       "      <td>0.000023</td>\n",
       "      <td>False</td>\n",
       "    </tr>\n",
       "    <tr>\n",
       "      <th>6</th>\n",
       "      <td>0.000000</td>\n",
       "      <td>0.818865</td>\n",
       "      <td>0.118385</td>\n",
       "      <td>dummy_constant</td>\n",
       "      <td>0.000000</td>\n",
       "      <td>0.818865</td>\n",
       "      <td>-0.429460</td>\n",
       "      <td>0.351675</td>\n",
       "      <td>0.000022</td>\n",
       "      <td>False</td>\n",
       "    </tr>\n",
       "    <tr>\n",
       "      <th>7</th>\n",
       "      <td>0.000000</td>\n",
       "      <td>0.000000</td>\n",
       "      <td>0.000000</td>\n",
       "      <td>dummy_constant</td>\n",
       "      <td>0.000000</td>\n",
       "      <td>0.000000</td>\n",
       "      <td>-1.100000</td>\n",
       "      <td>0.500000</td>\n",
       "      <td>0.000023</td>\n",
       "      <td>False</td>\n",
       "    </tr>\n",
       "    <tr>\n",
       "      <th>8</th>\n",
       "      <td>0.000000</td>\n",
       "      <td>0.000000</td>\n",
       "      <td>0.169856</td>\n",
       "      <td>dummy_constant</td>\n",
       "      <td>0.000000</td>\n",
       "      <td>0.000000</td>\n",
       "      <td>-1.100000</td>\n",
       "      <td>0.500000</td>\n",
       "      <td>0.000024</td>\n",
       "      <td>False</td>\n",
       "    </tr>\n",
       "    <tr>\n",
       "      <th>9</th>\n",
       "      <td>0.000000</td>\n",
       "      <td>0.000000</td>\n",
       "      <td>0.427566</td>\n",
       "      <td>dummy_constant</td>\n",
       "      <td>0.000000</td>\n",
       "      <td>0.000000</td>\n",
       "      <td>-1.100000</td>\n",
       "      <td>0.500000</td>\n",
       "      <td>0.000023</td>\n",
       "      <td>False</td>\n",
       "    </tr>\n",
       "    <tr>\n",
       "      <th>10</th>\n",
       "      <td>0.000000</td>\n",
       "      <td>0.000000</td>\n",
       "      <td>0.666222</td>\n",
       "      <td>dummy_constant</td>\n",
       "      <td>0.000000</td>\n",
       "      <td>0.000000</td>\n",
       "      <td>-1.100000</td>\n",
       "      <td>0.500000</td>\n",
       "      <td>0.000024</td>\n",
       "      <td>False</td>\n",
       "    </tr>\n",
       "    <tr>\n",
       "      <th>11</th>\n",
       "      <td>0.000000</td>\n",
       "      <td>0.000000</td>\n",
       "      <td>0.915063</td>\n",
       "      <td>dummy_constant</td>\n",
       "      <td>0.000000</td>\n",
       "      <td>0.000000</td>\n",
       "      <td>-1.100000</td>\n",
       "      <td>0.500000</td>\n",
       "      <td>0.000025</td>\n",
       "      <td>False</td>\n",
       "    </tr>\n",
       "    <tr>\n",
       "      <th>12</th>\n",
       "      <td>0.000000</td>\n",
       "      <td>0.834958</td>\n",
       "      <td>0.547070</td>\n",
       "      <td>dummy_constant</td>\n",
       "      <td>0.000000</td>\n",
       "      <td>0.834958</td>\n",
       "      <td>-0.402845</td>\n",
       "      <td>0.362197</td>\n",
       "      <td>0.000025</td>\n",
       "      <td>False</td>\n",
       "    </tr>\n",
       "    <tr>\n",
       "      <th>13</th>\n",
       "      <td>0.154675</td>\n",
       "      <td>0.000000</td>\n",
       "      <td>0.465934</td>\n",
       "      <td>dummy_constant</td>\n",
       "      <td>0.154675</td>\n",
       "      <td>0.000000</td>\n",
       "      <td>-1.076076</td>\n",
       "      <td>0.369249</td>\n",
       "      <td>0.000024</td>\n",
       "      <td>False</td>\n",
       "    </tr>\n",
       "    <tr>\n",
       "      <th>14</th>\n",
       "      <td>3.141590</td>\n",
       "      <td>0.000000</td>\n",
       "      <td>0.269342</td>\n",
       "      <td>dummy_constant</td>\n",
       "      <td>3.141590</td>\n",
       "      <td>0.000000</td>\n",
       "      <td>8.769588</td>\n",
       "      <td>7.227998</td>\n",
       "      <td>0.000024</td>\n",
       "      <td>False</td>\n",
       "    </tr>\n",
       "    <tr>\n",
       "      <th>15</th>\n",
       "      <td>0.812397</td>\n",
       "      <td>0.083940</td>\n",
       "      <td>0.086077</td>\n",
       "      <td>dummy_constant</td>\n",
       "      <td>0.812397</td>\n",
       "      <td>0.083940</td>\n",
       "      <td>-0.325318</td>\n",
       "      <td>0.270697</td>\n",
       "      <td>0.000027</td>\n",
       "      <td>False</td>\n",
       "    </tr>\n",
       "    <tr>\n",
       "      <th>16</th>\n",
       "      <td>0.000000</td>\n",
       "      <td>0.677494</td>\n",
       "      <td>0.891608</td>\n",
       "      <td>dummy_constant</td>\n",
       "      <td>0.000000</td>\n",
       "      <td>0.677494</td>\n",
       "      <td>-0.641002</td>\n",
       "      <td>0.281504</td>\n",
       "      <td>0.000023</td>\n",
       "      <td>False</td>\n",
       "    </tr>\n",
       "    <tr>\n",
       "      <th>17</th>\n",
       "      <td>0.372258</td>\n",
       "      <td>1.908354</td>\n",
       "      <td>0.297767</td>\n",
       "      <td>dummy_constant</td>\n",
       "      <td>0.372258</td>\n",
       "      <td>1.908354</td>\n",
       "      <td>2.880216</td>\n",
       "      <td>1.999780</td>\n",
       "      <td>0.000024</td>\n",
       "      <td>False</td>\n",
       "    </tr>\n",
       "    <tr>\n",
       "      <th>18</th>\n",
       "      <td>0.000000</td>\n",
       "      <td>0.000000</td>\n",
       "      <td>1.000000</td>\n",
       "      <td>dummy_constant</td>\n",
       "      <td>0.000000</td>\n",
       "      <td>0.000000</td>\n",
       "      <td>-1.100000</td>\n",
       "      <td>0.500000</td>\n",
       "      <td>0.000024</td>\n",
       "      <td>False</td>\n",
       "    </tr>\n",
       "    <tr>\n",
       "      <th>19</th>\n",
       "      <td>2.491313</td>\n",
       "      <td>2.279725</td>\n",
       "      <td>0.674268</td>\n",
       "      <td>dummy_constant</td>\n",
       "      <td>2.491313</td>\n",
       "      <td>2.279725</td>\n",
       "      <td>10.327890</td>\n",
       "      <td>7.132746</td>\n",
       "      <td>0.000025</td>\n",
       "      <td>False</td>\n",
       "    </tr>\n",
       "    <tr>\n",
       "      <th>20</th>\n",
       "      <td>0.000000</td>\n",
       "      <td>1.133754</td>\n",
       "      <td>1.000000</td>\n",
       "      <td>dummy_constant</td>\n",
       "      <td>0.000000</td>\n",
       "      <td>1.133754</td>\n",
       "      <td>0.185397</td>\n",
       "      <td>0.651644</td>\n",
       "      <td>0.000025</td>\n",
       "      <td>False</td>\n",
       "    </tr>\n",
       "    <tr>\n",
       "      <th>21</th>\n",
       "      <td>2.787574</td>\n",
       "      <td>2.311484</td>\n",
       "      <td>0.874667</td>\n",
       "      <td>dummy_constant</td>\n",
       "      <td>2.787574</td>\n",
       "      <td>2.311484</td>\n",
       "      <td>12.105413</td>\n",
       "      <td>8.514469</td>\n",
       "      <td>0.000024</td>\n",
       "      <td>False</td>\n",
       "    </tr>\n",
       "    <tr>\n",
       "      <th>22</th>\n",
       "      <td>0.327414</td>\n",
       "      <td>0.909396</td>\n",
       "      <td>0.397759</td>\n",
       "      <td>dummy_constant</td>\n",
       "      <td>0.327414</td>\n",
       "      <td>0.909396</td>\n",
       "      <td>-0.138709</td>\n",
       "      <td>0.197391</td>\n",
       "      <td>0.000026</td>\n",
       "      <td>False</td>\n",
       "    </tr>\n",
       "    <tr>\n",
       "      <th>23</th>\n",
       "      <td>0.000000</td>\n",
       "      <td>0.411110</td>\n",
       "      <td>1.000000</td>\n",
       "      <td>dummy_constant</td>\n",
       "      <td>0.000000</td>\n",
       "      <td>0.411110</td>\n",
       "      <td>-0.930989</td>\n",
       "      <td>0.257901</td>\n",
       "      <td>0.000025</td>\n",
       "      <td>False</td>\n",
       "    </tr>\n",
       "    <tr>\n",
       "      <th>24</th>\n",
       "      <td>0.451505</td>\n",
       "      <td>0.275806</td>\n",
       "      <td>0.100509</td>\n",
       "      <td>dummy_constant</td>\n",
       "      <td>0.451505</td>\n",
       "      <td>0.275806</td>\n",
       "      <td>-0.640522</td>\n",
       "      <td>0.052615</td>\n",
       "      <td>0.000026</td>\n",
       "      <td>False</td>\n",
       "    </tr>\n",
       "    <tr>\n",
       "      <th>25</th>\n",
       "      <td>2.451704</td>\n",
       "      <td>2.045919</td>\n",
       "      <td>0.326469</td>\n",
       "      <td>dummy_constant</td>\n",
       "      <td>2.451704</td>\n",
       "      <td>2.045919</td>\n",
       "      <td>9.183559</td>\n",
       "      <td>6.199013</td>\n",
       "      <td>0.000025</td>\n",
       "      <td>False</td>\n",
       "    </tr>\n",
       "    <tr>\n",
       "      <th>26</th>\n",
       "      <td>1.161688</td>\n",
       "      <td>1.253124</td>\n",
       "      <td>0.962435</td>\n",
       "      <td>dummy_constant</td>\n",
       "      <td>1.161688</td>\n",
       "      <td>1.253124</td>\n",
       "      <td>1.837618</td>\n",
       "      <td>1.005026</td>\n",
       "      <td>0.000025</td>\n",
       "      <td>False</td>\n",
       "    </tr>\n",
       "    <tr>\n",
       "      <th>27</th>\n",
       "      <td>1.538048</td>\n",
       "      <td>1.783985</td>\n",
       "      <td>0.655716</td>\n",
       "      <td>dummy_constant</td>\n",
       "      <td>1.538048</td>\n",
       "      <td>1.783985</td>\n",
       "      <td>4.510318</td>\n",
       "      <td>2.726160</td>\n",
       "      <td>0.000024</td>\n",
       "      <td>False</td>\n",
       "    </tr>\n",
       "    <tr>\n",
       "      <th>28</th>\n",
       "      <td>2.566232</td>\n",
       "      <td>2.908553</td>\n",
       "      <td>0.227854</td>\n",
       "      <td>dummy_constant</td>\n",
       "      <td>2.566232</td>\n",
       "      <td>2.908553</td>\n",
       "      <td>13.991122</td>\n",
       "      <td>10.070441</td>\n",
       "      <td>0.000026</td>\n",
       "      <td>False</td>\n",
       "    </tr>\n",
       "    <tr>\n",
       "      <th>29</th>\n",
       "      <td>3.140251</td>\n",
       "      <td>2.022711</td>\n",
       "      <td>0.660168</td>\n",
       "      <td>dummy_constant</td>\n",
       "      <td>3.140251</td>\n",
       "      <td>2.022711</td>\n",
       "      <td>13.048940</td>\n",
       "      <td>9.289575</td>\n",
       "      <td>0.000025</td>\n",
       "      <td>False</td>\n",
       "    </tr>\n",
       "    <tr>\n",
       "      <th>30</th>\n",
       "      <td>2.236483</td>\n",
       "      <td>2.110095</td>\n",
       "      <td>0.119959</td>\n",
       "      <td>dummy_constant</td>\n",
       "      <td>2.236483</td>\n",
       "      <td>2.110095</td>\n",
       "      <td>8.364979</td>\n",
       "      <td>5.607778</td>\n",
       "      <td>0.000024</td>\n",
       "      <td>False</td>\n",
       "    </tr>\n",
       "    <tr>\n",
       "      <th>31</th>\n",
       "      <td>0.673057</td>\n",
       "      <td>0.146553</td>\n",
       "      <td>0.999972</td>\n",
       "      <td>dummy_constant</td>\n",
       "      <td>0.673057</td>\n",
       "      <td>0.146553</td>\n",
       "      <td>-0.429656</td>\n",
       "      <td>0.154873</td>\n",
       "      <td>0.000024</td>\n",
       "      <td>False</td>\n",
       "    </tr>\n",
       "    <tr>\n",
       "      <th>32</th>\n",
       "      <td>1.535084</td>\n",
       "      <td>0.465561</td>\n",
       "      <td>0.990808</td>\n",
       "      <td>dummy_constant</td>\n",
       "      <td>1.535084</td>\n",
       "      <td>0.465561</td>\n",
       "      <td>1.573329</td>\n",
       "      <td>1.072586</td>\n",
       "      <td>0.000024</td>\n",
       "      <td>False</td>\n",
       "    </tr>\n",
       "    <tr>\n",
       "      <th>33</th>\n",
       "      <td>0.149480</td>\n",
       "      <td>2.129282</td>\n",
       "      <td>0.169836</td>\n",
       "      <td>dummy_constant</td>\n",
       "      <td>0.149480</td>\n",
       "      <td>2.129282</td>\n",
       "      <td>3.512744</td>\n",
       "      <td>2.777425</td>\n",
       "      <td>0.000024</td>\n",
       "      <td>False</td>\n",
       "    </tr>\n",
       "    <tr>\n",
       "      <th>34</th>\n",
       "      <td>3.028790</td>\n",
       "      <td>0.000318</td>\n",
       "      <td>0.716393</td>\n",
       "      <td>dummy_constant</td>\n",
       "      <td>3.028790</td>\n",
       "      <td>0.000318</td>\n",
       "      <td>8.073572</td>\n",
       "      <td>6.644463</td>\n",
       "      <td>0.000025</td>\n",
       "      <td>False</td>\n",
       "    </tr>\n",
       "    <tr>\n",
       "      <th>35</th>\n",
       "      <td>0.931637</td>\n",
       "      <td>2.116446</td>\n",
       "      <td>0.586117</td>\n",
       "      <td>dummy_constant</td>\n",
       "      <td>0.931637</td>\n",
       "      <td>2.116446</td>\n",
       "      <td>4.253405</td>\n",
       "      <td>2.799208</td>\n",
       "      <td>0.000024</td>\n",
       "      <td>False</td>\n",
       "    </tr>\n",
       "    <tr>\n",
       "      <th>36</th>\n",
       "      <td>2.638247</td>\n",
       "      <td>2.148411</td>\n",
       "      <td>0.408633</td>\n",
       "      <td>dummy_constant</td>\n",
       "      <td>2.638247</td>\n",
       "      <td>2.148411</td>\n",
       "      <td>10.582098</td>\n",
       "      <td>7.289358</td>\n",
       "      <td>0.000025</td>\n",
       "      <td>False</td>\n",
       "    </tr>\n",
       "    <tr>\n",
       "      <th>37</th>\n",
       "      <td>0.288426</td>\n",
       "      <td>1.471227</td>\n",
       "      <td>0.170935</td>\n",
       "      <td>dummy_constant</td>\n",
       "      <td>0.288426</td>\n",
       "      <td>1.471227</td>\n",
       "      <td>1.347601</td>\n",
       "      <td>0.988045</td>\n",
       "      <td>0.000026</td>\n",
       "      <td>False</td>\n",
       "    </tr>\n",
       "    <tr>\n",
       "      <th>38</th>\n",
       "      <td>2.584376</td>\n",
       "      <td>1.727354</td>\n",
       "      <td>0.223287</td>\n",
       "      <td>dummy_constant</td>\n",
       "      <td>2.584376</td>\n",
       "      <td>1.727354</td>\n",
       "      <td>8.762751</td>\n",
       "      <td>5.851021</td>\n",
       "      <td>0.000025</td>\n",
       "      <td>False</td>\n",
       "    </tr>\n",
       "    <tr>\n",
       "      <th>39</th>\n",
       "      <td>0.755343</td>\n",
       "      <td>0.061868</td>\n",
       "      <td>0.216850</td>\n",
       "      <td>dummy_constant</td>\n",
       "      <td>0.755343</td>\n",
       "      <td>0.061868</td>\n",
       "      <td>-0.451647</td>\n",
       "      <td>0.257160</td>\n",
       "      <td>0.000024</td>\n",
       "      <td>False</td>\n",
       "    </tr>\n",
       "    <tr>\n",
       "      <th>40</th>\n",
       "      <td>0.517364</td>\n",
       "      <td>0.840858</td>\n",
       "      <td>0.778256</td>\n",
       "      <td>dummy_constant</td>\n",
       "      <td>0.517364</td>\n",
       "      <td>0.840858</td>\n",
       "      <td>0.057270</td>\n",
       "      <td>0.116486</td>\n",
       "      <td>0.000032</td>\n",
       "      <td>False</td>\n",
       "    </tr>\n",
       "  </tbody>\n",
       "</table>\n",
       "</div>"
      ],
      "text/plain": [
       "          x1        x2         s               a        y1        y2  \\\n",
       "0   1.000000  0.750000  0.000000  dummy_constant  1.000000  0.750000   \n",
       "1   0.750000  1.000000  0.100000  dummy_constant  0.750000  1.000000   \n",
       "2   0.000000  2.271957  0.258699  dummy_constant  0.000000  2.271957   \n",
       "3   1.923706  3.128161  0.232666  dummy_constant  1.923706  3.128161   \n",
       "4   0.000000  0.497109  0.268270  dummy_constant  0.000000  0.497109   \n",
       "5   0.000000  0.312835  0.045472  dummy_constant  0.000000  0.312835   \n",
       "6   0.000000  0.818865  0.118385  dummy_constant  0.000000  0.818865   \n",
       "7   0.000000  0.000000  0.000000  dummy_constant  0.000000  0.000000   \n",
       "8   0.000000  0.000000  0.169856  dummy_constant  0.000000  0.000000   \n",
       "9   0.000000  0.000000  0.427566  dummy_constant  0.000000  0.000000   \n",
       "10  0.000000  0.000000  0.666222  dummy_constant  0.000000  0.000000   \n",
       "11  0.000000  0.000000  0.915063  dummy_constant  0.000000  0.000000   \n",
       "12  0.000000  0.834958  0.547070  dummy_constant  0.000000  0.834958   \n",
       "13  0.154675  0.000000  0.465934  dummy_constant  0.154675  0.000000   \n",
       "14  3.141590  0.000000  0.269342  dummy_constant  3.141590  0.000000   \n",
       "15  0.812397  0.083940  0.086077  dummy_constant  0.812397  0.083940   \n",
       "16  0.000000  0.677494  0.891608  dummy_constant  0.000000  0.677494   \n",
       "17  0.372258  1.908354  0.297767  dummy_constant  0.372258  1.908354   \n",
       "18  0.000000  0.000000  1.000000  dummy_constant  0.000000  0.000000   \n",
       "19  2.491313  2.279725  0.674268  dummy_constant  2.491313  2.279725   \n",
       "20  0.000000  1.133754  1.000000  dummy_constant  0.000000  1.133754   \n",
       "21  2.787574  2.311484  0.874667  dummy_constant  2.787574  2.311484   \n",
       "22  0.327414  0.909396  0.397759  dummy_constant  0.327414  0.909396   \n",
       "23  0.000000  0.411110  1.000000  dummy_constant  0.000000  0.411110   \n",
       "24  0.451505  0.275806  0.100509  dummy_constant  0.451505  0.275806   \n",
       "25  2.451704  2.045919  0.326469  dummy_constant  2.451704  2.045919   \n",
       "26  1.161688  1.253124  0.962435  dummy_constant  1.161688  1.253124   \n",
       "27  1.538048  1.783985  0.655716  dummy_constant  1.538048  1.783985   \n",
       "28  2.566232  2.908553  0.227854  dummy_constant  2.566232  2.908553   \n",
       "29  3.140251  2.022711  0.660168  dummy_constant  3.140251  2.022711   \n",
       "30  2.236483  2.110095  0.119959  dummy_constant  2.236483  2.110095   \n",
       "31  0.673057  0.146553  0.999972  dummy_constant  0.673057  0.146553   \n",
       "32  1.535084  0.465561  0.990808  dummy_constant  1.535084  0.465561   \n",
       "33  0.149480  2.129282  0.169836  dummy_constant  0.149480  2.129282   \n",
       "34  3.028790  0.000318  0.716393  dummy_constant  3.028790  0.000318   \n",
       "35  0.931637  2.116446  0.586117  dummy_constant  0.931637  2.116446   \n",
       "36  2.638247  2.148411  0.408633  dummy_constant  2.638247  2.148411   \n",
       "37  0.288426  1.471227  0.170935  dummy_constant  0.288426  1.471227   \n",
       "38  2.584376  1.727354  0.223287  dummy_constant  2.584376  1.727354   \n",
       "39  0.755343  0.061868  0.216850  dummy_constant  0.755343  0.061868   \n",
       "40  0.517364  0.840858  0.778256  dummy_constant  0.517364  0.840858   \n",
       "\n",
       "           c1         c2  xopt_runtime  xopt_error  \n",
       "0    0.626888   0.312500      0.000041       False  \n",
       "1    0.626888   0.312500      0.000018       False  \n",
       "2    4.061786   3.389830      0.000023       False  \n",
       "3   12.568388   8.934168      0.000022       False  \n",
       "4   -0.852883   0.250008      0.000021       False  \n",
       "5   -1.002134   0.285031      0.000023       False  \n",
       "6   -0.429460   0.351675      0.000022       False  \n",
       "7   -1.100000   0.500000      0.000023       False  \n",
       "8   -1.100000   0.500000      0.000024       False  \n",
       "9   -1.100000   0.500000      0.000023       False  \n",
       "10  -1.100000   0.500000      0.000024       False  \n",
       "11  -1.100000   0.500000      0.000025       False  \n",
       "12  -0.402845   0.362197      0.000025       False  \n",
       "13  -1.076076   0.369249      0.000024       False  \n",
       "14   8.769588   7.227998      0.000024       False  \n",
       "15  -0.325318   0.270697      0.000027       False  \n",
       "16  -0.641002   0.281504      0.000023       False  \n",
       "17   2.880216   1.999780      0.000024       False  \n",
       "18  -1.100000   0.500000      0.000024       False  \n",
       "19  10.327890   7.132746      0.000025       False  \n",
       "20   0.185397   0.651644      0.000025       False  \n",
       "21  12.105413   8.514469      0.000024       False  \n",
       "22  -0.138709   0.197391      0.000026       False  \n",
       "23  -0.930989   0.257901      0.000025       False  \n",
       "24  -0.640522   0.052615      0.000026       False  \n",
       "25   9.183559   6.199013      0.000025       False  \n",
       "26   1.837618   1.005026      0.000025       False  \n",
       "27   4.510318   2.726160      0.000024       False  \n",
       "28  13.991122  10.070441      0.000026       False  \n",
       "29  13.048940   9.289575      0.000025       False  \n",
       "30   8.364979   5.607778      0.000024       False  \n",
       "31  -0.429656   0.154873      0.000024       False  \n",
       "32   1.573329   1.072586      0.000024       False  \n",
       "33   3.512744   2.777425      0.000024       False  \n",
       "34   8.073572   6.644463      0.000025       False  \n",
       "35   4.253405   2.799208      0.000024       False  \n",
       "36  10.582098   7.289358      0.000025       False  \n",
       "37   1.347601   0.988045      0.000026       False  \n",
       "38   8.762751   5.851021      0.000025       False  \n",
       "39  -0.451647   0.257160      0.000024       False  \n",
       "40   0.057270   0.116486      0.000032       False  "
      ]
     },
     "execution_count": 4,
     "metadata": {},
     "output_type": "execute_result"
    }
   ],
   "source": [
    "X.data"
   ]
  },
  {
   "cell_type": "markdown",
   "metadata": {
    "collapsed": false
   },
   "source": [
    "## Plot results\n",
    "Here we plot the resulting observations in input space, colored by feasibility\n",
    "(neglecting the fact that\n",
    "these data points are at varying fidelities).\n"
   ]
  },
  {
   "cell_type": "code",
   "execution_count": 5,
   "metadata": {
    "ExecuteTime": {
     "end_time": "2023-09-20T14:37:15.292777300Z",
     "start_time": "2023-09-20T14:37:14.679967200Z"
    },
    "collapsed": false,
    "execution": {
     "iopub.execute_input": "2024-07-31T03:32:38.805879Z",
     "iopub.status.busy": "2024-07-31T03:32:38.805419Z",
     "iopub.status.idle": "2024-07-31T03:32:39.154647Z",
     "shell.execute_reply": "2024-07-31T03:32:39.154040Z"
    }
   },
   "outputs": [
    {
     "data": {
      "image/png": "[encoded data removed]",
      "text/plain": [
       "<Figure size 640x480 with 1 Axes>"
      ]
     },
     "metadata": {},
     "output_type": "display_data"
    }
   ],
   "source": [
    "import matplotlib.pyplot as plt\n",
    "\n",
    "fig, ax = plt.subplots()\n",
    "\n",
    "theta = np.linspace(0, np.pi / 2)\n",
    "r = np.sqrt(1 + 0.1 * np.cos(16 * theta))\n",
    "x_1 = r * np.sin(theta)\n",
    "x_2_lower = r * np.cos(theta)\n",
    "x_2_upper = (0.5 - (x_1 - 0.5) ** 2) ** 0.5 + 0.5\n",
    "\n",
    "z = np.zeros_like(x_1)\n",
    "\n",
    "# ax2.plot(x_1, x_2_lower,'r')\n",
    "ax.fill_between(x_1, z, x_2_lower, fc=\"white\")\n",
    "circle = plt.Circle(\n",
    "    (0.5, 0.5), 0.5 ** 0.5, color=\"r\", alpha=0.25, zorder=0, label=\"Valid Region\"\n",
    ")\n",
    "ax.add_patch(circle)\n",
    "history = pd.concat(\n",
    "    [X.data, tnk_vocs.feasibility_data(X.data)], axis=1, ignore_index=False\n",
    ")\n",
    "\n",
    "ax.plot(*history[[\"x1\", \"x2\"]][history[\"feasible\"]].to_numpy().T, \".C1\")\n",
    "ax.plot(*history[[\"x1\", \"x2\"]][~history[\"feasible\"]].to_numpy().T, \".C2\")\n",
    "\n",
    "ax.set_xlim(0, 3.14)\n",
    "ax.set_ylim(0, 3.14)\n",
    "ax.set_xlabel(\"x1\")\n",
    "ax.set_ylabel(\"x2\")\n",
    "ax.set_aspect(\"equal\")"
   ]
  },
  {
   "cell_type": "markdown",
   "metadata": {
    "collapsed": false
   },
   "source": [
    "### Plot path through input space"
   ]
  },
  {
   "cell_type": "code",
   "execution_count": 6,
   "metadata": {
    "ExecuteTime": {
     "end_time": "2023-09-20T14:37:15.607777300Z",
     "start_time": "2023-09-20T14:37:15.288777300Z"
    },
    "collapsed": false,
    "execution": {
     "iopub.execute_input": "2024-07-31T03:32:39.157147Z",
     "iopub.status.busy": "2024-07-31T03:32:39.156884Z",
     "iopub.status.idle": "2024-07-31T03:32:39.434174Z",
     "shell.execute_reply": "2024-07-31T03:32:39.433571Z"
    }
   },
   "outputs": [
    {
     "data": {
      "image/png": "[encoded data removed]",
      "text/plain": [
       "<Figure size 640x480 with 4 Axes>"
      ]
     },
     "metadata": {},
     "output_type": "display_data"
    }
   ],
   "source": [
    "ax = history.hist([\"x1\", \"x2\", \"s\"],bins=20)"
   ]
  },
  {
   "cell_type": "code",
   "execution_count": 7,
   "metadata": {
    "ExecuteTime": {
     "end_time": "2023-09-20T14:37:15.768777Z",
     "start_time": "2023-09-20T14:37:15.606777300Z"
    },
    "collapsed": false,
    "execution": {
     "iopub.execute_input": "2024-07-31T03:32:39.436452Z",
     "iopub.status.busy": "2024-07-31T03:32:39.436259Z",
     "iopub.status.idle": "2024-07-31T03:32:39.687053Z",
     "shell.execute_reply": "2024-07-31T03:32:39.686430Z"
    }
   },
   "outputs": [
    {
     "data": {
      "text/plain": [
       "<Axes: >"
      ]
     },
     "execution_count": 7,
     "metadata": {},
     "output_type": "execute_result"
    },
    {
     "data": {
      "image/png": "[encoded data removed]",
      "text/plain": [
       "<Figure size 640x480 with 1 Axes>"
      ]
     },
     "metadata": {},
     "output_type": "display_data"
    }
   ],
   "source": [
    "history.plot(y=[\"x1\", \"x2\", \"s\"])"
   ]
  },
  {
   "cell_type": "markdown",
   "metadata": {
    "collapsed": false
   },
   "source": [
    "## Plot the acqusisition function\n",
    "Here we plot the acquisition function at a small set of fidelities $[0, 0.5, 1.0]$."
   ]
  },
  {
   "cell_type": "code",
   "execution_count": 8,
   "metadata": {
    "ExecuteTime": {
     "end_time": "2023-09-20T14:37:45.334189800Z",
     "start_time": "2023-09-20T14:37:41.203201700Z"
    },
    "collapsed": false,
    "execution": {
     "iopub.execute_input": "2024-07-31T03:32:39.689690Z",
     "iopub.status.busy": "2024-07-31T03:32:39.689299Z",
     "iopub.status.idle": "2024-07-31T03:32:45.452114Z",
     "shell.execute_reply": "2024-07-31T03:32:45.451588Z"
    }
   },
   "outputs": [
    {
     "name": "stdout",
     "output_type": "stream",
     "text": [
      "[[0.46210772 1.16136891]]\n"
     ]
    },
    {
     "data": {
      "text/plain": [
       "[<matplotlib.lines.Line2D at 0x7fd6187911f0>]"
      ]
     },
     "execution_count": 8,
     "metadata": {},
     "output_type": "execute_result"
    },
    {
     "data": {
      "image/png": "[encoded data removed]",
      "text/plain": [
       "<Figure size 640x480 with 2 Axes>"
      ]
     },
     "metadata": {},
     "output_type": "display_data"
    },
    {
     "data": {
      "image/png": "[encoded data removed]",
      "text/plain": [
       "<Figure size 640x480 with 2 Axes>"
      ]
     },
     "metadata": {},
     "output_type": "display_data"
    },
    {
     "data": {
      "image/png": "[encoded data removed]",
      "text/plain": [
       "<Figure size 640x480 with 2 Axes>"
      ]
     },
     "metadata": {},
     "output_type": "display_data"
    }
   ],
   "source": [
    "# plot the acquisition function\n",
    "\n",
    "bounds = X.generator.vocs.bounds\n",
    "model = X.generator.model\n",
    "\n",
    "# create mesh over non-fidelity parameters\n",
    "n = 50\n",
    "x = torch.linspace(*bounds.T[1], n)\n",
    "y = torch.linspace(*bounds.T[2], n)\n",
    "xx, yy = torch.meshgrid(x, y)\n",
    "\n",
    "# plot function(s) at a single fidelity parameter\n",
    "fidelities = [0.0, 0.5, 1.0]\n",
    "for fidelity in fidelities:\n",
    "    pts = torch.hstack([ele.reshape(-1, 1) for ele in (xx, yy)]).double()\n",
    "    pts = torch.cat((torch.ones(pts.shape[0],1)*fidelity, pts), dim=-1)\n",
    "\n",
    "    acq_func = X.generator.get_acquisition(model)\n",
    "    with torch.no_grad():\n",
    "        acq_pts = pts.unsqueeze(1)\n",
    "        acq = acq_func(acq_pts)\n",
    "\n",
    "        fig, ax = plt.subplots()\n",
    "\n",
    "        xxn, yyn = xx.numpy(), yy.numpy()\n",
    "\n",
    "        c = ax.pcolor(xxn, yyn, acq.reshape(n, n), cmap=\"Blues\")\n",
    "        fig.colorbar(c)\n",
    "        ax.set_title(f\"Acquisition function - s: {fidelity}\")\n",
    "\n",
    "        ax.plot(*history[[\"x1\", \"x2\"]][history[\"feasible\"]].to_numpy().T, \".C1\")\n",
    "        ax.plot(*history[[\"x1\", \"x2\"]][~history[\"feasible\"]].to_numpy().T, \".C2\")\n",
    "\n",
    "        ax.plot(*history[[\"x1\", \"x2\"]].to_numpy()[-1].T, \"+\")\n",
    "\n",
    "\n",
    "candidate = pd.DataFrame(X.generator.generate(1), index=[0])\n",
    "print(candidate[[\"x1\", \"x2\"]].to_numpy())\n",
    "ax.plot(*candidate[[\"x1\", \"x2\"]].to_numpy()[0], \"o\")"
   ]
  },
  {
   "cell_type": "code",
   "execution_count": 9,
   "metadata": {
    "ExecuteTime": {
     "start_time": "2023-09-20T14:37:17.294215100Z"
    },
    "collapsed": false,
    "execution": {
     "iopub.execute_input": "2024-07-31T03:32:45.454259Z",
     "iopub.status.busy": "2024-07-31T03:32:45.454076Z",
     "iopub.status.idle": "2024-07-31T03:32:45.459584Z",
     "shell.execute_reply": "2024-07-31T03:32:45.459116Z"
    }
   },
   "outputs": [
    {
     "data": {
      "text/plain": [
       "[('likelihood.noise_covar.raw_noise',\n",
       "  Parameter containing:\n",
       "  tensor([-26.8265], dtype=torch.float64, requires_grad=True)),\n",
       " ('mean_module.raw_constant',\n",
       "  Parameter containing:\n",
       "  tensor(0.1247, dtype=torch.float64, requires_grad=True)),\n",
       " ('covar_module.raw_outputscale',\n",
       "  Parameter containing:\n",
       "  tensor(-0.0596, dtype=torch.float64, requires_grad=True)),\n",
       " ('covar_module.base_kernel.raw_lengthscale',\n",
       "  Parameter containing:\n",
       "  tensor([[0.7803, 2.6383, 2.6271]], dtype=torch.float64, requires_grad=True))]"
      ]
     },
     "execution_count": 9,
     "metadata": {},
     "output_type": "execute_result"
    }
   ],
   "source": [
    "# examine lengthscale of the first objective\n",
    "list(model.models[0].named_parameters())"
   ]
  }
 ],
 "metadata": {
  "interpreter": {
   "hash": "72034539424920dfb606fe3b820b3f27dca0cbf1c69938110810ec4641e275b1"
  },
  "kernelspec": {
   "display_name": "Python 3 (ipykernel)",
   "language": "python",
   "name": "python3"
  },
  "language_info": {
   "codemirror_mode": {
    "name": "ipython",
    "version": 3
   },
   "file_extension": ".py",
   "mimetype": "text/x-python",
   "name": "python",
   "nbconvert_exporter": "python",
   "pygments_lexer": "ipython3",
   "version": "3.9.19"
  }
 },
 "nbformat": 4,
 "nbformat_minor": 4
}
