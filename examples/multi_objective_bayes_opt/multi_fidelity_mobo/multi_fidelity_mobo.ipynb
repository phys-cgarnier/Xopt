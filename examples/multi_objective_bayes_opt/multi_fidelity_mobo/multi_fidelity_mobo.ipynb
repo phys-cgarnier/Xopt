{
 "cells": [
  {
   "cell_type": "markdown",
   "metadata": {},
   "source": [
    "# Multi-fidelity Multi-objective Bayesian Optimization\n",
    "\n",
    "Here we attempt to solve for the constrained Pareto front of the TNK multi-objective\n",
    "optimization problem using Multi-Fidelity Multi-Objective Bayesian optimization. For\n",
    "simplicity we assume that the objective and constraint functions at lower fidelities is\n",
    "exactly equal to the functions at higher fidelities (this is obviously not a\n",
    "requirement, although for the best results lower fidelity calculations should\n",
    "correlate with higher fidelity ones). The algorithm should learn this relationship\n",
    "and use information gathered at lower fidelities to gather samples to improve the\n",
    "hypervolume of the Pareto front at the maximum fidelity.\n",
    "\n",
    "TNK function\n",
    "$n=2$ variables:\n",
    "$x_i \\in [0, \\pi], i=1,2$\n",
    "\n",
    "Objectives:\n",
    "- $f_i(x) = x_i$\n",
    "\n",
    "Constraints:\n",
    "- $g_1(x) = -x_1^2 -x_2^2 + 1 + 0.1 \\cos\\left(16 \\arctan \\frac{x_1}{x_2}\\right) \\le 0$\n",
    "- $g_2(x) = (x_1 - 1/2)^2 + (x_2-1/2)^2 \\le 0.5$"
   ]
  },
  {
   "cell_type": "code",
   "execution_count": 1,
   "metadata": {
    "ExecuteTime": {
     "end_time": "2023-09-20T14:37:08.616050600Z",
     "start_time": "2023-09-20T14:37:04.101720300Z"
    },
    "collapsed": false,
    "execution": {
     "iopub.execute_input": "2024-08-20T19:38:30.352847Z",
     "iopub.status.busy": "2024-08-20T19:38:30.352667Z",
     "iopub.status.idle": "2024-08-20T19:38:32.303973Z",
     "shell.execute_reply": "2024-08-20T19:38:32.303233Z"
    }
   },
   "outputs": [
    {
     "name": "stdout",
     "output_type": "stream",
     "text": [
      "{'variables': {'x1': [0.0, 3.14159], 'x2': [0.0, 3.14159]}, 'constraints': {'c1': ['GREATER_THAN', 0.0], 'c2': ['LESS_THAN', 0.5]}, 'objectives': {'y1': 'MINIMIZE', 'y2': 'MINIMIZE'}, 'constants': {'a': 'dummy_constant'}, 'observables': []}\n"
     ]
    }
   ],
   "source": [
    "# set values if testing\n",
    "import os\n",
    "SMOKE_TEST = os.environ.get(\"SMOKE_TEST\")\n",
    "N_MC_SAMPLES = 1 if SMOKE_TEST else 128\n",
    "NUM_RESTARTS = 1 if SMOKE_TEST else 20\n",
    "BUDGET = 0.02 if SMOKE_TEST else 10\n",
    "\n",
    "# Ignore all warnings\n",
    "import warnings\n",
    "warnings.filterwarnings(\"ignore\")\n",
    "\n",
    "import pandas as pd\n",
    "import numpy as np\n",
    "import torch\n",
    "\n",
    "from xopt import Xopt, Evaluator\n",
    "from xopt.generators.bayesian import MultiFidelityGenerator\n",
    "from xopt.resources.test_functions.tnk import evaluate_TNK, tnk_vocs\n",
    "\n",
    "evaluator = Evaluator(function=evaluate_TNK)\n",
    "print(tnk_vocs.dict())"
   ]
  },
  {
   "cell_type": "markdown",
   "metadata": {
    "collapsed": false
   },
   "source": [
    "## Set up the Multi-Fidelity Multi-objective optimization algorithm\n",
    "Here we create the Multi-Fidelity generator object which can solve both single and\n",
    "multi-objective optimization problems depending on the number of objectives in VOCS.\n",
    "We specify a cost function as a function of fidelity parameter $s=[0,1]$ as $C(s) =\n",
    "s^{3.5}$ as an example from a real life multi-fidelity simulation problem."
   ]
  },
  {
   "cell_type": "code",
   "execution_count": 2,
   "metadata": {
    "ExecuteTime": {
     "end_time": "2023-09-20T14:37:08.660042Z",
     "start_time": "2023-09-20T14:37:08.617041800Z"
    },
    "collapsed": false,
    "execution": {
     "iopub.execute_input": "2024-08-20T19:38:32.334036Z",
     "iopub.status.busy": "2024-08-20T19:38:32.333497Z",
     "iopub.status.idle": "2024-08-20T19:38:32.350067Z",
     "shell.execute_reply": "2024-08-20T19:38:32.349487Z"
    }
   },
   "outputs": [
    {
     "data": {
      "text/plain": [
       "\n",
       "            Xopt\n",
       "________________________________\n",
       "Version: 0+untagged.1.g9e8cf43\n",
       "Data size: 2\n",
       "Config as YAML:\n",
       "dump_file: null\n",
       "evaluator:\n",
       "  function: xopt.resources.test_functions.tnk.evaluate_TNK\n",
       "  function_kwargs:\n",
       "    raise_probability: 0\n",
       "    random_sleep: 0\n",
       "    sleep: 0\n",
       "  max_workers: 1\n",
       "  vectorized: false\n",
       "generator:\n",
       "  computation_time: null\n",
       "  custom_objective: null\n",
       "  fixed_features: null\n",
       "  gp_constructor:\n",
       "    covar_modules: {}\n",
       "    custom_noise_prior: null\n",
       "    mean_modules: {}\n",
       "    name: standard\n",
       "    trainable_mean_keys: []\n",
       "    transform_inputs: true\n",
       "    use_low_noise_prior: true\n",
       "  log_transform_acquisition_function: false\n",
       "  max_travel_distances: null\n",
       "  model: null\n",
       "  n_candidates: 1\n",
       "  n_interpolate_points: null\n",
       "  n_monte_carlo_samples: 128\n",
       "  name: multi_fidelity\n",
       "  numerical_optimizer:\n",
       "    max_iter: 2000\n",
       "    max_time: null\n",
       "    n_restarts: 20\n",
       "    name: LBFGS\n",
       "  reference_point:\n",
       "    s: 0.0\n",
       "    y1: 1.5\n",
       "    y2: 1.5\n",
       "  supports_batch_generation: true\n",
       "  supports_multi_objective: true\n",
       "  turbo_controller: null\n",
       "  use_cuda: false\n",
       "max_evaluations: null\n",
       "serialize_inline: false\n",
       "serialize_torch: false\n",
       "strict: true\n",
       "vocs:\n",
       "  constants:\n",
       "    a: dummy_constant\n",
       "  constraints: {}\n",
       "  objectives:\n",
       "    s: MAXIMIZE\n",
       "    y1: MINIMIZE\n",
       "    y2: MINIMIZE\n",
       "  observables: []\n",
       "  variables:\n",
       "    s:\n",
       "    - 0\n",
       "    - 1\n",
       "    x1:\n",
       "    - 0.0\n",
       "    - 3.14159\n",
       "    x2:\n",
       "    - 0.0\n",
       "    - 3.14159\n"
      ]
     },
     "execution_count": 2,
     "metadata": {},
     "output_type": "execute_result"
    }
   ],
   "source": [
    "from copy import deepcopy\n",
    "my_vocs = deepcopy(tnk_vocs)\n",
    "my_vocs.constraints = {}\n",
    "generator = MultiFidelityGenerator(vocs=my_vocs, reference_point = {\"y1\":1.5,\"y2\":1.5})\n",
    "\n",
    "# set cost function according to approximate scaling of laser plasma accelerator\n",
    "# problem, see https://journals.aps.org/prresearch/abstract/10.1103/PhysRevResearch.5.013063\n",
    "generator.cost_function = lambda s: s**3.5\n",
    "generator.numerical_optimizer.n_restarts = NUM_RESTARTS\n",
    "generator.n_monte_carlo_samples = N_MC_SAMPLES\n",
    "\n",
    "X = Xopt(generator=generator, evaluator=evaluator, vocs=my_vocs)\n",
    "\n",
    "# evaluate at some explicit initial points\n",
    "X.evaluate_data(pd.DataFrame({\"x1\":[1.0, 0.75],\"x2\":[0.75, 1.0],\"s\":[0.0,0.1]}))\n",
    "\n",
    "X"
   ]
  },
  {
   "cell_type": "markdown",
   "metadata": {
    "collapsed": false
   },
   "source": [
    "## Run optimization routine\n",
    "Instead of ending the optimization routine after an explict number of samples we end\n",
    "optimization once a given optimization budget has been exceeded. WARNING: This will\n",
    "slightly exceed the given budget"
   ]
  },
  {
   "cell_type": "code",
   "execution_count": 3,
   "metadata": {
    "ExecuteTime": {
     "end_time": "2023-09-20T14:37:14.657062800Z",
     "start_time": "2023-09-20T14:37:08.648042200Z"
    },
    "collapsed": false,
    "execution": {
     "iopub.execute_input": "2024-08-20T19:38:32.352330Z",
     "iopub.status.busy": "2024-08-20T19:38:32.351997Z",
     "iopub.status.idle": "2024-08-20T19:39:37.496870Z",
     "shell.execute_reply": "2024-08-20T19:39:37.496256Z"
    }
   },
   "outputs": [
    {
     "name": "stdout",
     "output_type": "stream",
     "text": [
      "n_samples: 3 budget used: 0.00885 hypervolume: 0.0375\n"
     ]
    },
    {
     "name": "stdout",
     "output_type": "stream",
     "text": [
      "n_samples: 4 budget used: 0.01712 hypervolume: 0.0375\n"
     ]
    },
    {
     "name": "stdout",
     "output_type": "stream",
     "text": [
      "n_samples: 5 budget used: 0.01712 hypervolume: 0.0375\n"
     ]
    },
    {
     "name": "stdout",
     "output_type": "stream",
     "text": [
      "n_samples: 6 budget used: 0.01909 hypervolume: 0.3735\n"
     ]
    },
    {
     "name": "stdout",
     "output_type": "stream",
     "text": [
      "n_samples: 7 budget used: 0.02808 hypervolume: 0.5077\n"
     ]
    },
    {
     "name": "stdout",
     "output_type": "stream",
     "text": [
      "n_samples: 8 budget used: 0.02889 hypervolume: 0.5077\n"
     ]
    },
    {
     "name": "stdout",
     "output_type": "stream",
     "text": [
      "n_samples: 9 budget used: 0.02889 hypervolume: 0.5077\n"
     ]
    },
    {
     "name": "stdout",
     "output_type": "stream",
     "text": [
      "n_samples: 10 budget used: 0.09781 hypervolume: 1.048\n"
     ]
    },
    {
     "name": "stdout",
     "output_type": "stream",
     "text": [
      "n_samples: 11 budget used: 0.2251 hypervolume: 1.176\n"
     ]
    },
    {
     "name": "stdout",
     "output_type": "stream",
     "text": [
      "n_samples: 12 budget used: 0.2538 hypervolume: 1.176\n"
     ]
    },
    {
     "name": "stdout",
     "output_type": "stream",
     "text": [
      "n_samples: 13 budget used: 0.6436 hypervolume: 1.719\n"
     ]
    },
    {
     "name": "stdout",
     "output_type": "stream",
     "text": [
      "n_samples: 14 budget used: 1.644 hypervolume: 2.099\n"
     ]
    },
    {
     "name": "stdout",
     "output_type": "stream",
     "text": [
      "n_samples: 15 budget used: 1.989 hypervolume: 2.099\n"
     ]
    },
    {
     "name": "stdout",
     "output_type": "stream",
     "text": [
      "n_samples: 16 budget used: 1.989 hypervolume: 2.099\n"
     ]
    },
    {
     "name": "stdout",
     "output_type": "stream",
     "text": [
      "n_samples: 17 budget used: 2.027 hypervolume: 2.099\n"
     ]
    },
    {
     "name": "stdout",
     "output_type": "stream",
     "text": [
      "n_samples: 18 budget used: 2.537 hypervolume: 2.099\n"
     ]
    },
    {
     "name": "stdout",
     "output_type": "stream",
     "text": [
      "n_samples: 19 budget used: 3.537 hypervolume: 2.16\n"
     ]
    },
    {
     "name": "stdout",
     "output_type": "stream",
     "text": [
      "n_samples: 20 budget used: 3.549 hypervolume: 2.16\n"
     ]
    },
    {
     "name": "stdout",
     "output_type": "stream",
     "text": [
      "n_samples: 21 budget used: 3.813 hypervolume: 2.16\n"
     ]
    },
    {
     "name": "stdout",
     "output_type": "stream",
     "text": [
      "n_samples: 22 budget used: 3.813 hypervolume: 2.16\n"
     ]
    },
    {
     "name": "stdout",
     "output_type": "stream",
     "text": [
      "n_samples: 23 budget used: 4.061 hypervolume: 2.16\n"
     ]
    },
    {
     "name": "stdout",
     "output_type": "stream",
     "text": [
      "n_samples: 24 budget used: 4.241 hypervolume: 2.16\n"
     ]
    },
    {
     "name": "stdout",
     "output_type": "stream",
     "text": [
      "n_samples: 25 budget used: 4.341 hypervolume: 2.16\n"
     ]
    },
    {
     "name": "stdout",
     "output_type": "stream",
     "text": [
      "n_samples: 26 budget used: 4.341 hypervolume: 2.16\n"
     ]
    },
    {
     "name": "stdout",
     "output_type": "stream",
     "text": [
      "n_samples: 27 budget used: 4.813 hypervolume: 2.16\n"
     ]
    },
    {
     "name": "stdout",
     "output_type": "stream",
     "text": [
      "n_samples: 28 budget used: 5.402 hypervolume: 2.16\n"
     ]
    },
    {
     "name": "stdout",
     "output_type": "stream",
     "text": [
      "n_samples: 29 budget used: 5.412 hypervolume: 2.16\n"
     ]
    },
    {
     "name": "stdout",
     "output_type": "stream",
     "text": [
      "n_samples: 30 budget used: 5.431 hypervolume: 2.16\n"
     ]
    },
    {
     "name": "stdout",
     "output_type": "stream",
     "text": [
      "n_samples: 31 budget used: 5.601 hypervolume: 2.16\n"
     ]
    },
    {
     "name": "stdout",
     "output_type": "stream",
     "text": [
      "n_samples: 32 budget used: 5.932 hypervolume: 2.16\n"
     ]
    },
    {
     "name": "stdout",
     "output_type": "stream",
     "text": [
      "n_samples: 33 budget used: 6.088 hypervolume: 2.16\n"
     ]
    },
    {
     "name": "stdout",
     "output_type": "stream",
     "text": [
      "n_samples: 34 budget used: 6.088 hypervolume: 2.16\n"
     ]
    },
    {
     "name": "stdout",
     "output_type": "stream",
     "text": [
      "n_samples: 35 budget used: 7.087 hypervolume: 2.16\n"
     ]
    },
    {
     "name": "stdout",
     "output_type": "stream",
     "text": [
      "n_samples: 36 budget used: 7.107 hypervolume: 2.16\n"
     ]
    },
    {
     "name": "stdout",
     "output_type": "stream",
     "text": [
      "n_samples: 37 budget used: 7.141 hypervolume: 2.16\n"
     ]
    },
    {
     "name": "stdout",
     "output_type": "stream",
     "text": [
      "n_samples: 38 budget used: 7.202 hypervolume: 2.16\n"
     ]
    },
    {
     "name": "stdout",
     "output_type": "stream",
     "text": [
      "n_samples: 39 budget used: 7.202 hypervolume: 2.16\n"
     ]
    },
    {
     "name": "stdout",
     "output_type": "stream",
     "text": [
      "n_samples: 40 budget used: 7.204 hypervolume: 2.16\n"
     ]
    },
    {
     "name": "stdout",
     "output_type": "stream",
     "text": [
      "n_samples: 41 budget used: 7.407 hypervolume: 2.16\n"
     ]
    },
    {
     "name": "stdout",
     "output_type": "stream",
     "text": [
      "n_samples: 42 budget used: 7.637 hypervolume: 2.16\n"
     ]
    },
    {
     "name": "stdout",
     "output_type": "stream",
     "text": [
      "n_samples: 43 budget used: 8.093 hypervolume: 2.16\n"
     ]
    },
    {
     "name": "stdout",
     "output_type": "stream",
     "text": [
      "n_samples: 44 budget used: 8.094 hypervolume: 2.16\n"
     ]
    },
    {
     "name": "stdout",
     "output_type": "stream",
     "text": [
      "n_samples: 45 budget used: 8.647 hypervolume: 2.16\n"
     ]
    },
    {
     "name": "stdout",
     "output_type": "stream",
     "text": [
      "n_samples: 46 budget used: 8.757 hypervolume: 2.16\n"
     ]
    },
    {
     "name": "stdout",
     "output_type": "stream",
     "text": [
      "n_samples: 47 budget used: 9.146 hypervolume: 2.16\n"
     ]
    },
    {
     "name": "stdout",
     "output_type": "stream",
     "text": [
      "n_samples: 48 budget used: 9.284 hypervolume: 2.16\n"
     ]
    },
    {
     "name": "stdout",
     "output_type": "stream",
     "text": [
      "n_samples: 49 budget used: 10.22 hypervolume: 2.16\n"
     ]
    }
   ],
   "source": [
    "budget = BUDGET\n",
    "while X.generator.calculate_total_cost() < budget:\n",
    "    X.step()\n",
    "    print(f\"n_samples: {len(X.data)} \"\n",
    "          f\"budget used: {X.generator.calculate_total_cost():.4} \"\n",
    "          f\"hypervolume: {X.generator.calculate_hypervolume():.4}\")"
   ]
  },
  {
   "cell_type": "markdown",
   "metadata": {
    "collapsed": false
   },
   "source": [
    "## Show results"
   ]
  },
  {
   "cell_type": "code",
   "execution_count": 4,
   "metadata": {
    "ExecuteTime": {
     "end_time": "2023-09-20T14:37:14.684015600Z",
     "start_time": "2023-09-20T14:37:14.647063400Z"
    },
    "collapsed": false,
    "execution": {
     "iopub.execute_input": "2024-08-20T19:39:37.499542Z",
     "iopub.status.busy": "2024-08-20T19:39:37.499265Z",
     "iopub.status.idle": "2024-08-20T19:39:37.518701Z",
     "shell.execute_reply": "2024-08-20T19:39:37.518189Z"
    }
   },
   "outputs": [
    {
     "data": {
      "text/html": [
       "<div>\n",
       "<style scoped>\n",
       "    .dataframe tbody tr th:only-of-type {\n",
       "        vertical-align: middle;\n",
       "    }\n",
       "\n",
       "    .dataframe tbody tr th {\n",
       "        vertical-align: top;\n",
       "    }\n",
       "\n",
       "    .dataframe thead th {\n",
       "        text-align: right;\n",
       "    }\n",
       "</style>\n",
       "<table border=\"1\" class=\"dataframe\">\n",
       "  <thead>\n",
       "    <tr style=\"text-align: right;\">\n",
       "      <th></th>\n",
       "      <th>x1</th>\n",
       "      <th>x2</th>\n",
       "      <th>s</th>\n",
       "      <th>a</th>\n",
       "      <th>y1</th>\n",
       "      <th>y2</th>\n",
       "      <th>c1</th>\n",
       "      <th>c2</th>\n",
       "      <th>xopt_runtime</th>\n",
       "      <th>xopt_error</th>\n",
       "    </tr>\n",
       "  </thead>\n",
       "  <tbody>\n",
       "    <tr>\n",
       "      <th>0</th>\n",
       "      <td>1.000000</td>\n",
       "      <td>0.750000</td>\n",
       "      <td>0.000000</td>\n",
       "      <td>dummy_constant</td>\n",
       "      <td>1.000000</td>\n",
       "      <td>0.750000</td>\n",
       "      <td>0.626888</td>\n",
       "      <td>0.312500</td>\n",
       "      <td>0.000035</td>\n",
       "      <td>False</td>\n",
       "    </tr>\n",
       "    <tr>\n",
       "      <th>1</th>\n",
       "      <td>0.750000</td>\n",
       "      <td>1.000000</td>\n",
       "      <td>0.100000</td>\n",
       "      <td>dummy_constant</td>\n",
       "      <td>0.750000</td>\n",
       "      <td>1.000000</td>\n",
       "      <td>0.626888</td>\n",
       "      <td>0.312500</td>\n",
       "      <td>0.000007</td>\n",
       "      <td>False</td>\n",
       "    </tr>\n",
       "    <tr>\n",
       "      <th>2</th>\n",
       "      <td>0.291351</td>\n",
       "      <td>2.669497</td>\n",
       "      <td>0.256390</td>\n",
       "      <td>dummy_constant</td>\n",
       "      <td>0.291351</td>\n",
       "      <td>2.669497</td>\n",
       "      <td>6.227876</td>\n",
       "      <td>4.750251</td>\n",
       "      <td>0.000032</td>\n",
       "      <td>False</td>\n",
       "    </tr>\n",
       "    <tr>\n",
       "      <th>3</th>\n",
       "      <td>3.141590</td>\n",
       "      <td>2.940111</td>\n",
       "      <td>0.254082</td>\n",
       "      <td>dummy_constant</td>\n",
       "      <td>3.141590</td>\n",
       "      <td>2.940111</td>\n",
       "      <td>17.427550</td>\n",
       "      <td>12.932137</td>\n",
       "      <td>0.000025</td>\n",
       "      <td>False</td>\n",
       "    </tr>\n",
       "    <tr>\n",
       "      <th>4</th>\n",
       "      <td>0.000000</td>\n",
       "      <td>0.378876</td>\n",
       "      <td>0.000000</td>\n",
       "      <td>dummy_constant</td>\n",
       "      <td>0.000000</td>\n",
       "      <td>0.378876</td>\n",
       "      <td>-0.956453</td>\n",
       "      <td>0.264671</td>\n",
       "      <td>0.000025</td>\n",
       "      <td>False</td>\n",
       "    </tr>\n",
       "    <tr>\n",
       "      <th>5</th>\n",
       "      <td>0.000000</td>\n",
       "      <td>0.023470</td>\n",
       "      <td>0.168624</td>\n",
       "      <td>dummy_constant</td>\n",
       "      <td>0.000000</td>\n",
       "      <td>0.023470</td>\n",
       "      <td>-1.099449</td>\n",
       "      <td>0.477081</td>\n",
       "      <td>0.000025</td>\n",
       "      <td>False</td>\n",
       "    </tr>\n",
       "    <tr>\n",
       "      <th>6</th>\n",
       "      <td>0.000000</td>\n",
       "      <td>0.523091</td>\n",
       "      <td>0.260237</td>\n",
       "      <td>dummy_constant</td>\n",
       "      <td>0.000000</td>\n",
       "      <td>0.523091</td>\n",
       "      <td>-0.826376</td>\n",
       "      <td>0.250533</td>\n",
       "      <td>0.000025</td>\n",
       "      <td>False</td>\n",
       "    </tr>\n",
       "    <tr>\n",
       "      <th>7</th>\n",
       "      <td>0.000000</td>\n",
       "      <td>0.476136</td>\n",
       "      <td>0.130737</td>\n",
       "      <td>dummy_constant</td>\n",
       "      <td>0.000000</td>\n",
       "      <td>0.476136</td>\n",
       "      <td>-0.873295</td>\n",
       "      <td>0.250570</td>\n",
       "      <td>0.000025</td>\n",
       "      <td>False</td>\n",
       "    </tr>\n",
       "    <tr>\n",
       "      <th>8</th>\n",
       "      <td>0.000000</td>\n",
       "      <td>0.000000</td>\n",
       "      <td>0.000000</td>\n",
       "      <td>dummy_constant</td>\n",
       "      <td>0.000000</td>\n",
       "      <td>0.000000</td>\n",
       "      <td>-1.100000</td>\n",
       "      <td>0.500000</td>\n",
       "      <td>0.000026</td>\n",
       "      <td>False</td>\n",
       "    </tr>\n",
       "    <tr>\n",
       "      <th>9</th>\n",
       "      <td>0.000000</td>\n",
       "      <td>0.000000</td>\n",
       "      <td>0.465701</td>\n",
       "      <td>dummy_constant</td>\n",
       "      <td>0.000000</td>\n",
       "      <td>0.000000</td>\n",
       "      <td>-1.100000</td>\n",
       "      <td>0.500000</td>\n",
       "      <td>0.000025</td>\n",
       "      <td>False</td>\n",
       "    </tr>\n",
       "    <tr>\n",
       "      <th>10</th>\n",
       "      <td>0.000000</td>\n",
       "      <td>0.540251</td>\n",
       "      <td>0.554962</td>\n",
       "      <td>dummy_constant</td>\n",
       "      <td>0.000000</td>\n",
       "      <td>0.540251</td>\n",
       "      <td>-0.808129</td>\n",
       "      <td>0.251620</td>\n",
       "      <td>0.000024</td>\n",
       "      <td>False</td>\n",
       "    </tr>\n",
       "    <tr>\n",
       "      <th>11</th>\n",
       "      <td>0.230324</td>\n",
       "      <td>0.000000</td>\n",
       "      <td>0.362303</td>\n",
       "      <td>dummy_constant</td>\n",
       "      <td>0.230324</td>\n",
       "      <td>0.000000</td>\n",
       "      <td>-1.046951</td>\n",
       "      <td>0.322725</td>\n",
       "      <td>0.000025</td>\n",
       "      <td>False</td>\n",
       "    </tr>\n",
       "    <tr>\n",
       "      <th>12</th>\n",
       "      <td>0.000000</td>\n",
       "      <td>0.000000</td>\n",
       "      <td>0.764055</td>\n",
       "      <td>dummy_constant</td>\n",
       "      <td>0.000000</td>\n",
       "      <td>0.000000</td>\n",
       "      <td>-1.100000</td>\n",
       "      <td>0.500000</td>\n",
       "      <td>0.000024</td>\n",
       "      <td>False</td>\n",
       "    </tr>\n",
       "    <tr>\n",
       "      <th>13</th>\n",
       "      <td>0.000000</td>\n",
       "      <td>0.427334</td>\n",
       "      <td>1.000000</td>\n",
       "      <td>dummy_constant</td>\n",
       "      <td>0.000000</td>\n",
       "      <td>0.427334</td>\n",
       "      <td>-0.917385</td>\n",
       "      <td>0.255280</td>\n",
       "      <td>0.000025</td>\n",
       "      <td>False</td>\n",
       "    </tr>\n",
       "    <tr>\n",
       "      <th>14</th>\n",
       "      <td>0.000000</td>\n",
       "      <td>0.348981</td>\n",
       "      <td>0.737978</td>\n",
       "      <td>dummy_constant</td>\n",
       "      <td>0.000000</td>\n",
       "      <td>0.348981</td>\n",
       "      <td>-0.978212</td>\n",
       "      <td>0.272807</td>\n",
       "      <td>0.000025</td>\n",
       "      <td>False</td>\n",
       "    </tr>\n",
       "    <tr>\n",
       "      <th>15</th>\n",
       "      <td>0.000000</td>\n",
       "      <td>1.015379</td>\n",
       "      <td>0.000000</td>\n",
       "      <td>dummy_constant</td>\n",
       "      <td>0.000000</td>\n",
       "      <td>1.015379</td>\n",
       "      <td>-0.069005</td>\n",
       "      <td>0.515616</td>\n",
       "      <td>0.000022</td>\n",
       "      <td>False</td>\n",
       "    </tr>\n",
       "    <tr>\n",
       "      <th>16</th>\n",
       "      <td>0.000000</td>\n",
       "      <td>1.109821</td>\n",
       "      <td>0.391638</td>\n",
       "      <td>dummy_constant</td>\n",
       "      <td>0.000000</td>\n",
       "      <td>1.109821</td>\n",
       "      <td>0.131703</td>\n",
       "      <td>0.621882</td>\n",
       "      <td>0.000026</td>\n",
       "      <td>False</td>\n",
       "    </tr>\n",
       "    <tr>\n",
       "      <th>17</th>\n",
       "      <td>0.000000</td>\n",
       "      <td>1.007694</td>\n",
       "      <td>0.825252</td>\n",
       "      <td>dummy_constant</td>\n",
       "      <td>0.000000</td>\n",
       "      <td>1.007694</td>\n",
       "      <td>-0.084552</td>\n",
       "      <td>0.507754</td>\n",
       "      <td>0.000026</td>\n",
       "      <td>False</td>\n",
       "    </tr>\n",
       "    <tr>\n",
       "      <th>18</th>\n",
       "      <td>0.889835</td>\n",
       "      <td>0.000000</td>\n",
       "      <td>1.000000</td>\n",
       "      <td>dummy_constant</td>\n",
       "      <td>0.889835</td>\n",
       "      <td>0.000000</td>\n",
       "      <td>-0.308193</td>\n",
       "      <td>0.401972</td>\n",
       "      <td>0.000026</td>\n",
       "      <td>False</td>\n",
       "    </tr>\n",
       "    <tr>\n",
       "      <th>19</th>\n",
       "      <td>0.917738</td>\n",
       "      <td>0.861221</td>\n",
       "      <td>0.281457</td>\n",
       "      <td>dummy_constant</td>\n",
       "      <td>0.917738</td>\n",
       "      <td>0.861221</td>\n",
       "      <td>0.496580</td>\n",
       "      <td>0.304986</td>\n",
       "      <td>0.000025</td>\n",
       "      <td>False</td>\n",
       "    </tr>\n",
       "    <tr>\n",
       "      <th>20</th>\n",
       "      <td>1.043407</td>\n",
       "      <td>2.707708</td>\n",
       "      <td>0.683611</td>\n",
       "      <td>dummy_constant</td>\n",
       "      <td>1.043407</td>\n",
       "      <td>2.707708</td>\n",
       "      <td>7.328207</td>\n",
       "      <td>5.169267</td>\n",
       "      <td>0.000027</td>\n",
       "      <td>False</td>\n",
       "    </tr>\n",
       "    <tr>\n",
       "      <th>21</th>\n",
       "      <td>0.000000</td>\n",
       "      <td>0.000000</td>\n",
       "      <td>0.066998</td>\n",
       "      <td>dummy_constant</td>\n",
       "      <td>0.000000</td>\n",
       "      <td>0.000000</td>\n",
       "      <td>-1.100000</td>\n",
       "      <td>0.500000</td>\n",
       "      <td>0.000026</td>\n",
       "      <td>False</td>\n",
       "    </tr>\n",
       "    <tr>\n",
       "      <th>22</th>\n",
       "      <td>3.062312</td>\n",
       "      <td>2.440463</td>\n",
       "      <td>0.671633</td>\n",
       "      <td>dummy_constant</td>\n",
       "      <td>3.062312</td>\n",
       "      <td>2.440463</td>\n",
       "      <td>14.356377</td>\n",
       "      <td>10.330837</td>\n",
       "      <td>0.000026</td>\n",
       "      <td>False</td>\n",
       "    </tr>\n",
       "    <tr>\n",
       "      <th>23</th>\n",
       "      <td>1.068759</td>\n",
       "      <td>0.990173</td>\n",
       "      <td>0.612617</td>\n",
       "      <td>dummy_constant</td>\n",
       "      <td>1.068759</td>\n",
       "      <td>0.990173</td>\n",
       "      <td>1.040745</td>\n",
       "      <td>0.563756</td>\n",
       "      <td>0.000026</td>\n",
       "      <td>False</td>\n",
       "    </tr>\n",
       "    <tr>\n",
       "      <th>24</th>\n",
       "      <td>1.651907</td>\n",
       "      <td>1.841677</td>\n",
       "      <td>0.517446</td>\n",
       "      <td>dummy_constant</td>\n",
       "      <td>1.651907</td>\n",
       "      <td>1.841677</td>\n",
       "      <td>5.055953</td>\n",
       "      <td>3.126985</td>\n",
       "      <td>0.000025</td>\n",
       "      <td>False</td>\n",
       "    </tr>\n",
       "    <tr>\n",
       "      <th>25</th>\n",
       "      <td>2.200628</td>\n",
       "      <td>0.725723</td>\n",
       "      <td>0.025323</td>\n",
       "      <td>dummy_constant</td>\n",
       "      <td>2.200628</td>\n",
       "      <td>0.725723</td>\n",
       "      <td>4.331937</td>\n",
       "      <td>2.943086</td>\n",
       "      <td>0.000026</td>\n",
       "      <td>False</td>\n",
       "    </tr>\n",
       "    <tr>\n",
       "      <th>26</th>\n",
       "      <td>1.410694</td>\n",
       "      <td>2.811563</td>\n",
       "      <td>0.806980</td>\n",
       "      <td>dummy_constant</td>\n",
       "      <td>1.410694</td>\n",
       "      <td>2.811563</td>\n",
       "      <td>8.854783</td>\n",
       "      <td>6.172686</td>\n",
       "      <td>0.000025</td>\n",
       "      <td>False</td>\n",
       "    </tr>\n",
       "    <tr>\n",
       "      <th>27</th>\n",
       "      <td>0.558137</td>\n",
       "      <td>2.900474</td>\n",
       "      <td>0.859406</td>\n",
       "      <td>dummy_constant</td>\n",
       "      <td>0.558137</td>\n",
       "      <td>2.900474</td>\n",
       "      <td>7.823767</td>\n",
       "      <td>5.765654</td>\n",
       "      <td>0.000026</td>\n",
       "      <td>False</td>\n",
       "    </tr>\n",
       "    <tr>\n",
       "      <th>28</th>\n",
       "      <td>0.546905</td>\n",
       "      <td>1.714227</td>\n",
       "      <td>0.272442</td>\n",
       "      <td>dummy_constant</td>\n",
       "      <td>0.546905</td>\n",
       "      <td>1.714227</td>\n",
       "      <td>2.214987</td>\n",
       "      <td>1.476546</td>\n",
       "      <td>0.000027</td>\n",
       "      <td>False</td>\n",
       "    </tr>\n",
       "    <tr>\n",
       "      <th>29</th>\n",
       "      <td>1.020880</td>\n",
       "      <td>0.128113</td>\n",
       "      <td>0.320512</td>\n",
       "      <td>dummy_constant</td>\n",
       "      <td>1.020880</td>\n",
       "      <td>0.128113</td>\n",
       "      <td>0.099990</td>\n",
       "      <td>0.409615</td>\n",
       "      <td>0.000027</td>\n",
       "      <td>False</td>\n",
       "    </tr>\n",
       "    <tr>\n",
       "      <th>30</th>\n",
       "      <td>1.017243</td>\n",
       "      <td>1.007014</td>\n",
       "      <td>0.603222</td>\n",
       "      <td>dummy_constant</td>\n",
       "      <td>1.017243</td>\n",
       "      <td>1.007014</td>\n",
       "      <td>0.949187</td>\n",
       "      <td>0.524604</td>\n",
       "      <td>0.000027</td>\n",
       "      <td>False</td>\n",
       "    </tr>\n",
       "    <tr>\n",
       "      <th>31</th>\n",
       "      <td>1.797166</td>\n",
       "      <td>0.455725</td>\n",
       "      <td>0.729019</td>\n",
       "      <td>dummy_constant</td>\n",
       "      <td>1.797166</td>\n",
       "      <td>0.455725</td>\n",
       "      <td>2.504835</td>\n",
       "      <td>1.684599</td>\n",
       "      <td>0.000026</td>\n",
       "      <td>False</td>\n",
       "    </tr>\n",
       "    <tr>\n",
       "      <th>32</th>\n",
       "      <td>2.357980</td>\n",
       "      <td>2.585103</td>\n",
       "      <td>0.587577</td>\n",
       "      <td>dummy_constant</td>\n",
       "      <td>2.357980</td>\n",
       "      <td>2.585103</td>\n",
       "      <td>11.168620</td>\n",
       "      <td>7.799744</td>\n",
       "      <td>0.000026</td>\n",
       "      <td>False</td>\n",
       "    </tr>\n",
       "    <tr>\n",
       "      <th>33</th>\n",
       "      <td>0.481049</td>\n",
       "      <td>2.654244</td>\n",
       "      <td>0.114274</td>\n",
       "      <td>dummy_constant</td>\n",
       "      <td>0.481049</td>\n",
       "      <td>2.654244</td>\n",
       "      <td>6.372718</td>\n",
       "      <td>4.641127</td>\n",
       "      <td>0.000025</td>\n",
       "      <td>False</td>\n",
       "    </tr>\n",
       "    <tr>\n",
       "      <th>34</th>\n",
       "      <td>1.298698</td>\n",
       "      <td>0.792932</td>\n",
       "      <td>0.999597</td>\n",
       "      <td>dummy_constant</td>\n",
       "      <td>1.298698</td>\n",
       "      <td>0.792932</td>\n",
       "      <td>1.394698</td>\n",
       "      <td>0.723727</td>\n",
       "      <td>0.000025</td>\n",
       "      <td>False</td>\n",
       "    </tr>\n",
       "    <tr>\n",
       "      <th>35</th>\n",
       "      <td>3.101279</td>\n",
       "      <td>2.339515</td>\n",
       "      <td>0.330815</td>\n",
       "      <td>dummy_constant</td>\n",
       "      <td>3.101279</td>\n",
       "      <td>2.339515</td>\n",
       "      <td>14.152168</td>\n",
       "      <td>10.150467</td>\n",
       "      <td>0.000025</td>\n",
       "      <td>False</td>\n",
       "    </tr>\n",
       "    <tr>\n",
       "      <th>36</th>\n",
       "      <td>1.852718</td>\n",
       "      <td>0.725955</td>\n",
       "      <td>0.378348</td>\n",
       "      <td>dummy_constant</td>\n",
       "      <td>1.852718</td>\n",
       "      <td>0.725955</td>\n",
       "      <td>2.864283</td>\n",
       "      <td>1.880902</td>\n",
       "      <td>0.000024</td>\n",
       "      <td>False</td>\n",
       "    </tr>\n",
       "    <tr>\n",
       "      <th>37</th>\n",
       "      <td>3.128993</td>\n",
       "      <td>2.477240</td>\n",
       "      <td>0.449553</td>\n",
       "      <td>dummy_constant</td>\n",
       "      <td>3.128993</td>\n",
       "      <td>2.477240</td>\n",
       "      <td>14.955042</td>\n",
       "      <td>10.821080</td>\n",
       "      <td>0.000026</td>\n",
       "      <td>False</td>\n",
       "    </tr>\n",
       "    <tr>\n",
       "      <th>38</th>\n",
       "      <td>2.973313</td>\n",
       "      <td>0.259153</td>\n",
       "      <td>0.011587</td>\n",
       "      <td>dummy_constant</td>\n",
       "      <td>2.973313</td>\n",
       "      <td>0.259153</td>\n",
       "      <td>7.889873</td>\n",
       "      <td>6.175286</td>\n",
       "      <td>0.000024</td>\n",
       "      <td>False</td>\n",
       "    </tr>\n",
       "    <tr>\n",
       "      <th>39</th>\n",
       "      <td>0.936994</td>\n",
       "      <td>1.469067</td>\n",
       "      <td>0.178980</td>\n",
       "      <td>dummy_constant</td>\n",
       "      <td>0.936994</td>\n",
       "      <td>1.469067</td>\n",
       "      <td>2.130372</td>\n",
       "      <td>1.130055</td>\n",
       "      <td>0.000027</td>\n",
       "      <td>False</td>\n",
       "    </tr>\n",
       "    <tr>\n",
       "      <th>40</th>\n",
       "      <td>3.043961</td>\n",
       "      <td>0.487026</td>\n",
       "      <td>0.633570</td>\n",
       "      <td>dummy_constant</td>\n",
       "      <td>3.043961</td>\n",
       "      <td>0.487026</td>\n",
       "      <td>8.585250</td>\n",
       "      <td>6.471908</td>\n",
       "      <td>0.000026</td>\n",
       "      <td>False</td>\n",
       "    </tr>\n",
       "    <tr>\n",
       "      <th>41</th>\n",
       "      <td>2.928838</td>\n",
       "      <td>0.106025</td>\n",
       "      <td>0.657568</td>\n",
       "      <td>dummy_constant</td>\n",
       "      <td>2.928838</td>\n",
       "      <td>0.106025</td>\n",
       "      <td>7.505632</td>\n",
       "      <td>6.054472</td>\n",
       "      <td>0.000026</td>\n",
       "      <td>False</td>\n",
       "    </tr>\n",
       "    <tr>\n",
       "      <th>42</th>\n",
       "      <td>1.941585</td>\n",
       "      <td>1.806154</td>\n",
       "      <td>0.799101</td>\n",
       "      <td>dummy_constant</td>\n",
       "      <td>1.941585</td>\n",
       "      <td>1.806154</td>\n",
       "      <td>5.948184</td>\n",
       "      <td>3.784204</td>\n",
       "      <td>0.000026</td>\n",
       "      <td>False</td>\n",
       "    </tr>\n",
       "    <tr>\n",
       "      <th>43</th>\n",
       "      <td>0.565712</td>\n",
       "      <td>0.846829</td>\n",
       "      <td>0.122004</td>\n",
       "      <td>dummy_constant</td>\n",
       "      <td>0.565712</td>\n",
       "      <td>0.846829</td>\n",
       "      <td>0.137150</td>\n",
       "      <td>0.124609</td>\n",
       "      <td>0.000026</td>\n",
       "      <td>False</td>\n",
       "    </tr>\n",
       "    <tr>\n",
       "      <th>44</th>\n",
       "      <td>1.788466</td>\n",
       "      <td>0.834492</td>\n",
       "      <td>0.844461</td>\n",
       "      <td>dummy_constant</td>\n",
       "      <td>1.788466</td>\n",
       "      <td>0.834492</td>\n",
       "      <td>2.818627</td>\n",
       "      <td>1.772029</td>\n",
       "      <td>0.000024</td>\n",
       "      <td>False</td>\n",
       "    </tr>\n",
       "    <tr>\n",
       "      <th>45</th>\n",
       "      <td>1.285217</td>\n",
       "      <td>0.316506</td>\n",
       "      <td>0.532536</td>\n",
       "      <td>dummy_constant</td>\n",
       "      <td>1.285217</td>\n",
       "      <td>0.316506</td>\n",
       "      <td>0.827020</td>\n",
       "      <td>0.650235</td>\n",
       "      <td>0.000026</td>\n",
       "      <td>False</td>\n",
       "    </tr>\n",
       "    <tr>\n",
       "      <th>46</th>\n",
       "      <td>0.012314</td>\n",
       "      <td>0.736053</td>\n",
       "      <td>0.763049</td>\n",
       "      <td>dummy_constant</td>\n",
       "      <td>0.012314</td>\n",
       "      <td>0.736053</td>\n",
       "      <td>-0.554514</td>\n",
       "      <td>0.293558</td>\n",
       "      <td>0.000026</td>\n",
       "      <td>False</td>\n",
       "    </tr>\n",
       "    <tr>\n",
       "      <th>47</th>\n",
       "      <td>2.338230</td>\n",
       "      <td>1.797446</td>\n",
       "      <td>0.568466</td>\n",
       "      <td>dummy_constant</td>\n",
       "      <td>2.338230</td>\n",
       "      <td>1.797446</td>\n",
       "      <td>7.746913</td>\n",
       "      <td>5.062456</td>\n",
       "      <td>0.000025</td>\n",
       "      <td>False</td>\n",
       "    </tr>\n",
       "    <tr>\n",
       "      <th>48</th>\n",
       "      <td>1.987346</td>\n",
       "      <td>0.252712</td>\n",
       "      <td>0.979805</td>\n",
       "      <td>dummy_constant</td>\n",
       "      <td>1.987346</td>\n",
       "      <td>0.252712</td>\n",
       "      <td>3.057164</td>\n",
       "      <td>2.273348</td>\n",
       "      <td>0.000025</td>\n",
       "      <td>False</td>\n",
       "    </tr>\n",
       "  </tbody>\n",
       "</table>\n",
       "</div>"
      ],
      "text/plain": [
       "          x1        x2         s               a        y1        y2  \\\n",
       "0   1.000000  0.750000  0.000000  dummy_constant  1.000000  0.750000   \n",
       "1   0.750000  1.000000  0.100000  dummy_constant  0.750000  1.000000   \n",
       "2   0.291351  2.669497  0.256390  dummy_constant  0.291351  2.669497   \n",
       "3   3.141590  2.940111  0.254082  dummy_constant  3.141590  2.940111   \n",
       "4   0.000000  0.378876  0.000000  dummy_constant  0.000000  0.378876   \n",
       "5   0.000000  0.023470  0.168624  dummy_constant  0.000000  0.023470   \n",
       "6   0.000000  0.523091  0.260237  dummy_constant  0.000000  0.523091   \n",
       "7   0.000000  0.476136  0.130737  dummy_constant  0.000000  0.476136   \n",
       "8   0.000000  0.000000  0.000000  dummy_constant  0.000000  0.000000   \n",
       "9   0.000000  0.000000  0.465701  dummy_constant  0.000000  0.000000   \n",
       "10  0.000000  0.540251  0.554962  dummy_constant  0.000000  0.540251   \n",
       "11  0.230324  0.000000  0.362303  dummy_constant  0.230324  0.000000   \n",
       "12  0.000000  0.000000  0.764055  dummy_constant  0.000000  0.000000   \n",
       "13  0.000000  0.427334  1.000000  dummy_constant  0.000000  0.427334   \n",
       "14  0.000000  0.348981  0.737978  dummy_constant  0.000000  0.348981   \n",
       "15  0.000000  1.015379  0.000000  dummy_constant  0.000000  1.015379   \n",
       "16  0.000000  1.109821  0.391638  dummy_constant  0.000000  1.109821   \n",
       "17  0.000000  1.007694  0.825252  dummy_constant  0.000000  1.007694   \n",
       "18  0.889835  0.000000  1.000000  dummy_constant  0.889835  0.000000   \n",
       "19  0.917738  0.861221  0.281457  dummy_constant  0.917738  0.861221   \n",
       "20  1.043407  2.707708  0.683611  dummy_constant  1.043407  2.707708   \n",
       "21  0.000000  0.000000  0.066998  dummy_constant  0.000000  0.000000   \n",
       "22  3.062312  2.440463  0.671633  dummy_constant  3.062312  2.440463   \n",
       "23  1.068759  0.990173  0.612617  dummy_constant  1.068759  0.990173   \n",
       "24  1.651907  1.841677  0.517446  dummy_constant  1.651907  1.841677   \n",
       "25  2.200628  0.725723  0.025323  dummy_constant  2.200628  0.725723   \n",
       "26  1.410694  2.811563  0.806980  dummy_constant  1.410694  2.811563   \n",
       "27  0.558137  2.900474  0.859406  dummy_constant  0.558137  2.900474   \n",
       "28  0.546905  1.714227  0.272442  dummy_constant  0.546905  1.714227   \n",
       "29  1.020880  0.128113  0.320512  dummy_constant  1.020880  0.128113   \n",
       "30  1.017243  1.007014  0.603222  dummy_constant  1.017243  1.007014   \n",
       "31  1.797166  0.455725  0.729019  dummy_constant  1.797166  0.455725   \n",
       "32  2.357980  2.585103  0.587577  dummy_constant  2.357980  2.585103   \n",
       "33  0.481049  2.654244  0.114274  dummy_constant  0.481049  2.654244   \n",
       "34  1.298698  0.792932  0.999597  dummy_constant  1.298698  0.792932   \n",
       "35  3.101279  2.339515  0.330815  dummy_constant  3.101279  2.339515   \n",
       "36  1.852718  0.725955  0.378348  dummy_constant  1.852718  0.725955   \n",
       "37  3.128993  2.477240  0.449553  dummy_constant  3.128993  2.477240   \n",
       "38  2.973313  0.259153  0.011587  dummy_constant  2.973313  0.259153   \n",
       "39  0.936994  1.469067  0.178980  dummy_constant  0.936994  1.469067   \n",
       "40  3.043961  0.487026  0.633570  dummy_constant  3.043961  0.487026   \n",
       "41  2.928838  0.106025  0.657568  dummy_constant  2.928838  0.106025   \n",
       "42  1.941585  1.806154  0.799101  dummy_constant  1.941585  1.806154   \n",
       "43  0.565712  0.846829  0.122004  dummy_constant  0.565712  0.846829   \n",
       "44  1.788466  0.834492  0.844461  dummy_constant  1.788466  0.834492   \n",
       "45  1.285217  0.316506  0.532536  dummy_constant  1.285217  0.316506   \n",
       "46  0.012314  0.736053  0.763049  dummy_constant  0.012314  0.736053   \n",
       "47  2.338230  1.797446  0.568466  dummy_constant  2.338230  1.797446   \n",
       "48  1.987346  0.252712  0.979805  dummy_constant  1.987346  0.252712   \n",
       "\n",
       "           c1         c2  xopt_runtime  xopt_error  \n",
       "0    0.626888   0.312500      0.000035       False  \n",
       "1    0.626888   0.312500      0.000007       False  \n",
       "2    6.227876   4.750251      0.000032       False  \n",
       "3   17.427550  12.932137      0.000025       False  \n",
       "4   -0.956453   0.264671      0.000025       False  \n",
       "5   -1.099449   0.477081      0.000025       False  \n",
       "6   -0.826376   0.250533      0.000025       False  \n",
       "7   -0.873295   0.250570      0.000025       False  \n",
       "8   -1.100000   0.500000      0.000026       False  \n",
       "9   -1.100000   0.500000      0.000025       False  \n",
       "10  -0.808129   0.251620      0.000024       False  \n",
       "11  -1.046951   0.322725      0.000025       False  \n",
       "12  -1.100000   0.500000      0.000024       False  \n",
       "13  -0.917385   0.255280      0.000025       False  \n",
       "14  -0.978212   0.272807      0.000025       False  \n",
       "15  -0.069005   0.515616      0.000022       False  \n",
       "16   0.131703   0.621882      0.000026       False  \n",
       "17  -0.084552   0.507754      0.000026       False  \n",
       "18  -0.308193   0.401972      0.000026       False  \n",
       "19   0.496580   0.304986      0.000025       False  \n",
       "20   7.328207   5.169267      0.000027       False  \n",
       "21  -1.100000   0.500000      0.000026       False  \n",
       "22  14.356377  10.330837      0.000026       False  \n",
       "23   1.040745   0.563756      0.000026       False  \n",
       "24   5.055953   3.126985      0.000025       False  \n",
       "25   4.331937   2.943086      0.000026       False  \n",
       "26   8.854783   6.172686      0.000025       False  \n",
       "27   7.823767   5.765654      0.000026       False  \n",
       "28   2.214987   1.476546      0.000027       False  \n",
       "29   0.099990   0.409615      0.000027       False  \n",
       "30   0.949187   0.524604      0.000027       False  \n",
       "31   2.504835   1.684599      0.000026       False  \n",
       "32  11.168620   7.799744      0.000026       False  \n",
       "33   6.372718   4.641127      0.000025       False  \n",
       "34   1.394698   0.723727      0.000025       False  \n",
       "35  14.152168  10.150467      0.000025       False  \n",
       "36   2.864283   1.880902      0.000024       False  \n",
       "37  14.955042  10.821080      0.000026       False  \n",
       "38   7.889873   6.175286      0.000024       False  \n",
       "39   2.130372   1.130055      0.000027       False  \n",
       "40   8.585250   6.471908      0.000026       False  \n",
       "41   7.505632   6.054472      0.000026       False  \n",
       "42   5.948184   3.784204      0.000026       False  \n",
       "43   0.137150   0.124609      0.000026       False  \n",
       "44   2.818627   1.772029      0.000024       False  \n",
       "45   0.827020   0.650235      0.000026       False  \n",
       "46  -0.554514   0.293558      0.000026       False  \n",
       "47   7.746913   5.062456      0.000025       False  \n",
       "48   3.057164   2.273348      0.000025       False  "
      ]
     },
     "execution_count": 4,
     "metadata": {},
     "output_type": "execute_result"
    }
   ],
   "source": [
    "X.data"
   ]
  },
  {
   "cell_type": "markdown",
   "metadata": {
    "collapsed": false
   },
   "source": [
    "## Plot results\n",
    "Here we plot the resulting observations in input space, colored by feasibility\n",
    "(neglecting the fact that\n",
    "these data points are at varying fidelities).\n"
   ]
  },
  {
   "cell_type": "code",
   "execution_count": 5,
   "metadata": {
    "ExecuteTime": {
     "end_time": "2023-09-20T14:37:15.292777300Z",
     "start_time": "2023-09-20T14:37:14.679967200Z"
    },
    "collapsed": false,
    "execution": {
     "iopub.execute_input": "2024-08-20T19:39:37.521056Z",
     "iopub.status.busy": "2024-08-20T19:39:37.520859Z",
     "iopub.status.idle": "2024-08-20T19:39:37.877666Z",
     "shell.execute_reply": "2024-08-20T19:39:37.877082Z"
    }
   },
   "outputs": [
    {
     "data": {
      "image/png": "[encoded data removed]",
      "text/plain": [
       "<Figure size 640x480 with 1 Axes>"
      ]
     },
     "metadata": {},
     "output_type": "display_data"
    }
   ],
   "source": [
    "import matplotlib.pyplot as plt\n",
    "\n",
    "fig, ax = plt.subplots()\n",
    "\n",
    "theta = np.linspace(0, np.pi / 2)\n",
    "r = np.sqrt(1 + 0.1 * np.cos(16 * theta))\n",
    "x_1 = r * np.sin(theta)\n",
    "x_2_lower = r * np.cos(theta)\n",
    "x_2_upper = (0.5 - (x_1 - 0.5) ** 2) ** 0.5 + 0.5\n",
    "\n",
    "z = np.zeros_like(x_1)\n",
    "\n",
    "# ax2.plot(x_1, x_2_lower,'r')\n",
    "ax.fill_between(x_1, z, x_2_lower, fc=\"white\")\n",
    "circle = plt.Circle(\n",
    "    (0.5, 0.5), 0.5 ** 0.5, color=\"r\", alpha=0.25, zorder=0, label=\"Valid Region\"\n",
    ")\n",
    "ax.add_patch(circle)\n",
    "history = pd.concat(\n",
    "    [X.data, tnk_vocs.feasibility_data(X.data)], axis=1, ignore_index=False\n",
    ")\n",
    "\n",
    "ax.plot(*history[[\"x1\", \"x2\"]][history[\"feasible\"]].to_numpy().T, \".C1\")\n",
    "ax.plot(*history[[\"x1\", \"x2\"]][~history[\"feasible\"]].to_numpy().T, \".C2\")\n",
    "\n",
    "ax.set_xlim(0, 3.14)\n",
    "ax.set_ylim(0, 3.14)\n",
    "ax.set_xlabel(\"x1\")\n",
    "ax.set_ylabel(\"x2\")\n",
    "ax.set_aspect(\"equal\")"
   ]
  },
  {
   "cell_type": "markdown",
   "metadata": {
    "collapsed": false
   },
   "source": [
    "### Plot path through input space"
   ]
  },
  {
   "cell_type": "code",
   "execution_count": 6,
   "metadata": {
    "ExecuteTime": {
     "end_time": "2023-09-20T14:37:15.607777300Z",
     "start_time": "2023-09-20T14:37:15.288777300Z"
    },
    "collapsed": false,
    "execution": {
     "iopub.execute_input": "2024-08-20T19:39:37.880329Z",
     "iopub.status.busy": "2024-08-20T19:39:37.879865Z",
     "iopub.status.idle": "2024-08-20T19:39:38.296022Z",
     "shell.execute_reply": "2024-08-20T19:39:38.295351Z"
    }
   },
   "outputs": [
    {
     "data": {
      "image/png": "[encoded data removed]",
      "text/plain": [
       "<Figure size 640x480 with 4 Axes>"
      ]
     },
     "metadata": {},
     "output_type": "display_data"
    }
   ],
   "source": [
    "ax = history.hist([\"x1\", \"x2\", \"s\"],bins=20)"
   ]
  },
  {
   "cell_type": "code",
   "execution_count": 7,
   "metadata": {
    "ExecuteTime": {
     "end_time": "2023-09-20T14:37:15.768777Z",
     "start_time": "2023-09-20T14:37:15.606777300Z"
    },
    "collapsed": false,
    "execution": {
     "iopub.execute_input": "2024-08-20T19:39:38.298506Z",
     "iopub.status.busy": "2024-08-20T19:39:38.298139Z",
     "iopub.status.idle": "2024-08-20T19:39:38.417311Z",
     "shell.execute_reply": "2024-08-20T19:39:38.416708Z"
    }
   },
   "outputs": [
    {
     "data": {
      "text/plain": [
       "<Axes: >"
      ]
     },
     "execution_count": 7,
     "metadata": {},
     "output_type": "execute_result"
    },
    {
     "data": {
      "image/png": "[encoded data removed]",
      "text/plain": [
       "<Figure size 640x480 with 1 Axes>"
      ]
     },
     "metadata": {},
     "output_type": "display_data"
    }
   ],
   "source": [
    "history.plot(y=[\"x1\", \"x2\", \"s\"])"
   ]
  },
  {
   "cell_type": "markdown",
   "metadata": {
    "collapsed": false
   },
   "source": [
    "## Plot the acqusisition function\n",
    "Here we plot the acquisition function at a small set of fidelities $[0, 0.5, 1.0]$."
   ]
  },
  {
   "cell_type": "code",
   "execution_count": 8,
   "metadata": {
    "ExecuteTime": {
     "end_time": "2023-09-20T14:37:45.334189800Z",
     "start_time": "2023-09-20T14:37:41.203201700Z"
    },
    "collapsed": false,
    "execution": {
     "iopub.execute_input": "2024-08-20T19:39:38.419858Z",
     "iopub.status.busy": "2024-08-20T19:39:38.419404Z",
     "iopub.status.idle": "2024-08-20T19:39:44.276705Z",
     "shell.execute_reply": "2024-08-20T19:39:44.276089Z"
    }
   },
   "outputs": [
    {
     "name": "stdout",
     "output_type": "stream",
     "text": [
      "[[0.6299628  0.57376418]]\n"
     ]
    },
    {
     "data": {
      "text/plain": [
       "[<matplotlib.lines.Line2D at 0x7ff4d48cd4f0>]"
      ]
     },
     "execution_count": 8,
     "metadata": {},
     "output_type": "execute_result"
    },
    {
     "data": {
      "image/png": "[encoded data removed]",
      "text/plain": [
       "<Figure size 640x480 with 2 Axes>"
      ]
     },
     "metadata": {},
     "output_type": "display_data"
    },
    {
     "data": {
      "image/png": "[encoded data removed]",
      "text/plain": [
       "<Figure size 640x480 with 2 Axes>"
      ]
     },
     "metadata": {},
     "output_type": "display_data"
    },
    {
     "data": {
      "image/png": "[encoded data removed]",
      "text/plain": [
       "<Figure size 640x480 with 2 Axes>"
      ]
     },
     "metadata": {},
     "output_type": "display_data"
    }
   ],
   "source": [
    "# plot the acquisition function\n",
    "\n",
    "bounds = X.generator.vocs.bounds\n",
    "model = X.generator.model\n",
    "\n",
    "# create mesh over non-fidelity parameters\n",
    "n = 50\n",
    "x = torch.linspace(*bounds.T[1], n)\n",
    "y = torch.linspace(*bounds.T[2], n)\n",
    "xx, yy = torch.meshgrid(x, y)\n",
    "\n",
    "# plot function(s) at a single fidelity parameter\n",
    "fidelities = [0.0, 0.5, 1.0]\n",
    "for fidelity in fidelities:\n",
    "    pts = torch.hstack([ele.reshape(-1, 1) for ele in (xx, yy)]).double()\n",
    "    pts = torch.cat((torch.ones(pts.shape[0],1)*fidelity, pts), dim=-1)\n",
    "\n",
    "    acq_func = X.generator.get_acquisition(model)\n",
    "    with torch.no_grad():\n",
    "        acq_pts = pts.unsqueeze(1)\n",
    "        acq = acq_func(acq_pts)\n",
    "\n",
    "        fig, ax = plt.subplots()\n",
    "\n",
    "        xxn, yyn = xx.numpy(), yy.numpy()\n",
    "\n",
    "        c = ax.pcolor(xxn, yyn, acq.reshape(n, n), cmap=\"Blues\")\n",
    "        fig.colorbar(c)\n",
    "        ax.set_title(f\"Acquisition function - s: {fidelity}\")\n",
    "\n",
    "        ax.plot(*history[[\"x1\", \"x2\"]][history[\"feasible\"]].to_numpy().T, \".C1\")\n",
    "        ax.plot(*history[[\"x1\", \"x2\"]][~history[\"feasible\"]].to_numpy().T, \".C2\")\n",
    "\n",
    "        ax.plot(*history[[\"x1\", \"x2\"]].to_numpy()[-1].T, \"+\")\n",
    "\n",
    "\n",
    "candidate = pd.DataFrame(X.generator.generate(1), index=[0])\n",
    "print(candidate[[\"x1\", \"x2\"]].to_numpy())\n",
    "ax.plot(*candidate[[\"x1\", \"x2\"]].to_numpy()[0], \"o\")"
   ]
  },
  {
   "cell_type": "code",
   "execution_count": 9,
   "metadata": {
    "ExecuteTime": {
     "start_time": "2023-09-20T14:37:17.294215100Z"
    },
    "collapsed": false,
    "execution": {
     "iopub.execute_input": "2024-08-20T19:39:44.279051Z",
     "iopub.status.busy": "2024-08-20T19:39:44.278745Z",
     "iopub.status.idle": "2024-08-20T19:39:44.284129Z",
     "shell.execute_reply": "2024-08-20T19:39:44.283584Z"
    }
   },
   "outputs": [
    {
     "data": {
      "text/plain": [
       "[('likelihood.noise_covar.raw_noise',\n",
       "  Parameter containing:\n",
       "  tensor([-27.1871], dtype=torch.float64, requires_grad=True)),\n",
       " ('mean_module.raw_constant',\n",
       "  Parameter containing:\n",
       "  tensor(0.0083, dtype=torch.float64, requires_grad=True)),\n",
       " ('covar_module.raw_outputscale',\n",
       "  Parameter containing:\n",
       "  tensor(0.1611, dtype=torch.float64, requires_grad=True)),\n",
       " ('covar_module.base_kernel.raw_lengthscale',\n",
       "  Parameter containing:\n",
       "  tensor([[0.8816, 2.8852, 2.9703]], dtype=torch.float64, requires_grad=True))]"
      ]
     },
     "execution_count": 9,
     "metadata": {},
     "output_type": "execute_result"
    }
   ],
   "source": [
    "# examine lengthscale of the first objective\n",
    "list(model.models[0].named_parameters())"
   ]
  }
 ],
 "metadata": {
  "interpreter": {
   "hash": "72034539424920dfb606fe3b820b3f27dca0cbf1c69938110810ec4641e275b1"
  },
  "kernelspec": {
   "display_name": "Python 3 (ipykernel)",
   "language": "python",
   "name": "python3"
  },
  "language_info": {
   "codemirror_mode": {
    "name": "ipython",
    "version": 3
   },
   "file_extension": ".py",
   "mimetype": "text/x-python",
   "name": "python",
   "nbconvert_exporter": "python",
   "pygments_lexer": "ipython3",
   "version": "3.9.19"
  }
 },
 "nbformat": 4,
 "nbformat_minor": 4
}
