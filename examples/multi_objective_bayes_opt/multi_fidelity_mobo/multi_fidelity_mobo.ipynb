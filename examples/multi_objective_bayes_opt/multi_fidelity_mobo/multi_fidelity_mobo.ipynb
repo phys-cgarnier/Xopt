{
 "cells": [
  {
   "cell_type": "markdown",
   "metadata": {},
   "source": [
    "# Multi-fidelity Multi-objective Bayesian Optimization\n",
    "\n",
    "Here we attempt to solve for the constrained Pareto front of the TNK multi-objective\n",
    "optimization problem using Multi-Fidelity Multi-Objective Bayesian optimization. For\n",
    "simplicity we assume that the objective and constraint functions at lower fidelities is\n",
    "exactly equal to the functions at higher fidelities (this is obviously not a\n",
    "requirement, although for the best results lower fidelity calculations should\n",
    "correlate with higher fidelity ones). The algorithm should learn this relationship\n",
    "and use information gathered at lower fidelities to gather samples to improve the\n",
    "hypervolume of the Pareto front at the maximum fidelity.\n",
    "\n",
    "TNK function\n",
    "$n=2$ variables:\n",
    "$x_i \\in [0, \\pi], i=1,2$\n",
    "\n",
    "Objectives:\n",
    "- $f_i(x) = x_i$\n",
    "\n",
    "Constraints:\n",
    "- $g_1(x) = -x_1^2 -x_2^2 + 1 + 0.1 \\cos\\left(16 \\arctan \\frac{x_1}{x_2}\\right) \\le 0$\n",
    "- $g_2(x) = (x_1 - 1/2)^2 + (x_2-1/2)^2 \\le 0.5$"
   ]
  },
  {
   "cell_type": "code",
   "execution_count": 1,
   "metadata": {
    "ExecuteTime": {
     "end_time": "2023-09-20T14:37:08.616050600Z",
     "start_time": "2023-09-20T14:37:04.101720300Z"
    },
    "collapsed": false,
    "execution": {
     "iopub.execute_input": "2024-02-23T22:02:05.060630Z",
     "iopub.status.busy": "2024-02-23T22:02:05.060457Z",
     "iopub.status.idle": "2024-02-23T22:02:07.169819Z",
     "shell.execute_reply": "2024-02-23T22:02:07.169142Z"
    }
   },
   "outputs": [
    {
     "name": "stdout",
     "output_type": "stream",
     "text": [
      "{'variables': {'x1': [0.0, 3.14159], 'x2': [0.0, 3.14159]}, 'constraints': {'c1': ['GREATER_THAN', 0.0], 'c2': ['LESS_THAN', 0.5]}, 'objectives': {'y1': 'MINIMIZE', 'y2': 'MINIMIZE'}, 'constants': {'a': 'dummy_constant'}, 'observables': []}\n"
     ]
    }
   ],
   "source": [
    "# set values if testing\n",
    "import os\n",
    "SMOKE_TEST = os.environ.get(\"SMOKE_TEST\")\n",
    "N_MC_SAMPLES = 1 if SMOKE_TEST else 128\n",
    "NUM_RESTARTS = 1 if SMOKE_TEST else 20\n",
    "BUDGET = 0.02 if SMOKE_TEST else 10\n",
    "\n",
    "# Ignore all warnings\n",
    "import warnings\n",
    "warnings.filterwarnings(\"ignore\")\n",
    "\n",
    "import pandas as pd\n",
    "import numpy as np\n",
    "import torch\n",
    "\n",
    "from xopt import Xopt, Evaluator\n",
    "from xopt.generators.bayesian import MultiFidelityGenerator\n",
    "from xopt.resources.test_functions.tnk import evaluate_TNK, tnk_vocs\n",
    "\n",
    "evaluator = Evaluator(function=evaluate_TNK)\n",
    "print(tnk_vocs.dict())"
   ]
  },
  {
   "cell_type": "markdown",
   "metadata": {
    "collapsed": false
   },
   "source": [
    "## Set up the Multi-Fidelity Multi-objective optimization algorithm\n",
    "Here we create the Multi-Fidelity generator object which can solve both single and\n",
    "multi-objective optimization problems depending on the number of objectives in VOCS.\n",
    "We specify a cost function as a function of fidelity parameter $s=[0,1]$ as $C(s) =\n",
    "s^{3.5}$ as an example from a real life multi-fidelity simulation problem."
   ]
  },
  {
   "cell_type": "code",
   "execution_count": 2,
   "metadata": {
    "ExecuteTime": {
     "end_time": "2023-09-20T14:37:08.660042Z",
     "start_time": "2023-09-20T14:37:08.617041800Z"
    },
    "collapsed": false,
    "execution": {
     "iopub.execute_input": "2024-02-23T22:02:07.199181Z",
     "iopub.status.busy": "2024-02-23T22:02:07.198884Z",
     "iopub.status.idle": "2024-02-23T22:02:07.216076Z",
     "shell.execute_reply": "2024-02-23T22:02:07.215532Z"
    }
   },
   "outputs": [
    {
     "data": {
      "text/plain": [
       "\n",
       "            Xopt\n",
       "________________________________\n",
       "Version: 0+untagged.1.g7a7eff9\n",
       "Data size: 2\n",
       "Config as YAML:\n",
       "dump_file: null\n",
       "evaluator:\n",
       "  function: xopt.resources.test_functions.tnk.evaluate_TNK\n",
       "  function_kwargs:\n",
       "    raise_probability: 0\n",
       "    random_sleep: 0\n",
       "    sleep: 0\n",
       "  max_workers: 1\n",
       "  vectorized: false\n",
       "generator:\n",
       "  computation_time: null\n",
       "  fixed_features: null\n",
       "  gp_constructor:\n",
       "    covar_modules: {}\n",
       "    mean_modules: {}\n",
       "    name: standard\n",
       "    trainable_mean_keys: []\n",
       "    transform_inputs: true\n",
       "    use_low_noise_prior: true\n",
       "  log_transform_acquisition_function: false\n",
       "  max_travel_distances: null\n",
       "  model: null\n",
       "  n_candidates: 1\n",
       "  n_interpolate_points: null\n",
       "  n_monte_carlo_samples: 128\n",
       "  name: multi_fidelity\n",
       "  numerical_optimizer:\n",
       "    max_iter: 2000\n",
       "    max_time: null\n",
       "    n_restarts: 20\n",
       "    name: LBFGS\n",
       "  reference_point:\n",
       "    s: 0.0\n",
       "    y1: 1.5\n",
       "    y2: 1.5\n",
       "  supports_batch_generation: true\n",
       "  supports_multi_objective: true\n",
       "  turbo_controller: null\n",
       "  use_cuda: false\n",
       "max_evaluations: null\n",
       "serialize_inline: false\n",
       "serialize_torch: false\n",
       "strict: true\n",
       "vocs:\n",
       "  constants:\n",
       "    a: dummy_constant\n",
       "  constraints: {}\n",
       "  objectives:\n",
       "    s: MAXIMIZE\n",
       "    y1: MINIMIZE\n",
       "    y2: MINIMIZE\n",
       "  observables: []\n",
       "  variables:\n",
       "    s:\n",
       "    - 0\n",
       "    - 1\n",
       "    x1:\n",
       "    - 0.0\n",
       "    - 3.14159\n",
       "    x2:\n",
       "    - 0.0\n",
       "    - 3.14159\n"
      ]
     },
     "execution_count": 2,
     "metadata": {},
     "output_type": "execute_result"
    }
   ],
   "source": [
    "from copy import deepcopy\n",
    "my_vocs = deepcopy(tnk_vocs)\n",
    "my_vocs.constraints = {}\n",
    "generator = MultiFidelityGenerator(vocs=my_vocs, reference_point = {\"y1\":1.5,\"y2\":1.5})\n",
    "\n",
    "# set cost function according to approximate scaling of laser plasma accelerator\n",
    "# problem, see https://journals.aps.org/prresearch/abstract/10.1103/PhysRevResearch.5.013063\n",
    "generator.cost_function = lambda s: s**3.5\n",
    "generator.numerical_optimizer.n_restarts = NUM_RESTARTS\n",
    "generator.n_monte_carlo_samples = N_MC_SAMPLES\n",
    "\n",
    "X = Xopt(generator=generator, evaluator=evaluator, vocs=my_vocs)\n",
    "\n",
    "# evaluate at some explicit initial points\n",
    "X.evaluate_data(pd.DataFrame({\"x1\":[1.0, 0.75],\"x2\":[0.75, 1.0],\"s\":[0.0,0.1]}))\n",
    "\n",
    "X"
   ]
  },
  {
   "cell_type": "markdown",
   "metadata": {
    "collapsed": false
   },
   "source": [
    "## Run optimization routine\n",
    "Instead of ending the optimization routine after an explict number of samples we end\n",
    "optimization once a given optimization budget has been exceeded. WARNING: This will\n",
    "slightly exceed the given budget"
   ]
  },
  {
   "cell_type": "code",
   "execution_count": 3,
   "metadata": {
    "ExecuteTime": {
     "end_time": "2023-09-20T14:37:14.657062800Z",
     "start_time": "2023-09-20T14:37:08.648042200Z"
    },
    "collapsed": false,
    "execution": {
     "iopub.execute_input": "2024-02-23T22:02:07.218462Z",
     "iopub.status.busy": "2024-02-23T22:02:07.218038Z",
     "iopub.status.idle": "2024-02-23T22:03:34.916857Z",
     "shell.execute_reply": "2024-02-23T22:03:34.916226Z"
    }
   },
   "outputs": [
    {
     "name": "stdout",
     "output_type": "stream",
     "text": [
      "n_samples: 3 budget used: 0.006531 hypervolume: 0.0375\n"
     ]
    },
    {
     "name": "stdout",
     "output_type": "stream",
     "text": [
      "n_samples: 4 budget used: 0.01653 hypervolume: 0.5723\n"
     ]
    },
    {
     "name": "stdout",
     "output_type": "stream",
     "text": [
      "n_samples: 5 budget used: 0.04188 hypervolume: 0.7874\n"
     ]
    },
    {
     "name": "stdout",
     "output_type": "stream",
     "text": [
      "n_samples: 6 budget used: 0.09459 hypervolume: 0.9705\n"
     ]
    },
    {
     "name": "stdout",
     "output_type": "stream",
     "text": [
      "n_samples: 7 budget used: 0.211 hypervolume: 1.217\n"
     ]
    },
    {
     "name": "stdout",
     "output_type": "stream",
     "text": [
      "n_samples: 8 budget used: 0.221 hypervolume: 1.217\n"
     ]
    },
    {
     "name": "stdout",
     "output_type": "stream",
     "text": [
      "n_samples: 9 budget used: 0.4893 hypervolume: 1.545\n"
     ]
    },
    {
     "name": "stdout",
     "output_type": "stream",
     "text": [
      "n_samples: 10 budget used: 1.024 hypervolume: 1.882\n"
     ]
    },
    {
     "name": "stdout",
     "output_type": "stream",
     "text": [
      "n_samples: 11 budget used: 2.024 hypervolume: 2.25\n"
     ]
    },
    {
     "name": "stdout",
     "output_type": "stream",
     "text": [
      "n_samples: 12 budget used: 3.024 hypervolume: 2.25\n"
     ]
    },
    {
     "name": "stdout",
     "output_type": "stream",
     "text": [
      "n_samples: 13 budget used: 4.024 hypervolume: 2.25\n"
     ]
    },
    {
     "name": "stdout",
     "output_type": "stream",
     "text": [
      "n_samples: 14 budget used: 4.053 hypervolume: 2.25\n"
     ]
    },
    {
     "name": "stdout",
     "output_type": "stream",
     "text": [
      "n_samples: 15 budget used: 4.097 hypervolume: 2.25\n"
     ]
    },
    {
     "name": "stdout",
     "output_type": "stream",
     "text": [
      "n_samples: 16 budget used: 5.097 hypervolume: 2.25\n"
     ]
    },
    {
     "name": "stdout",
     "output_type": "stream",
     "text": [
      "n_samples: 17 budget used: 6.097 hypervolume: 2.25\n"
     ]
    },
    {
     "name": "stdout",
     "output_type": "stream",
     "text": [
      "n_samples: 18 budget used: 7.097 hypervolume: 2.25\n"
     ]
    },
    {
     "name": "stdout",
     "output_type": "stream",
     "text": [
      "n_samples: 19 budget used: 8.097 hypervolume: 2.25\n"
     ]
    },
    {
     "name": "stdout",
     "output_type": "stream",
     "text": [
      "n_samples: 20 budget used: 8.316 hypervolume: 2.25\n"
     ]
    },
    {
     "name": "stdout",
     "output_type": "stream",
     "text": [
      "n_samples: 21 budget used: 8.522 hypervolume: 2.25\n"
     ]
    },
    {
     "name": "stdout",
     "output_type": "stream",
     "text": [
      "n_samples: 22 budget used: 8.539 hypervolume: 2.25\n"
     ]
    },
    {
     "name": "stdout",
     "output_type": "stream",
     "text": [
      "n_samples: 23 budget used: 9.022 hypervolume: 2.25\n"
     ]
    },
    {
     "name": "stdout",
     "output_type": "stream",
     "text": [
      "n_samples: 24 budget used: 9.258 hypervolume: 2.25\n"
     ]
    },
    {
     "name": "stdout",
     "output_type": "stream",
     "text": [
      "n_samples: 25 budget used: 9.258 hypervolume: 2.25\n"
     ]
    },
    {
     "name": "stdout",
     "output_type": "stream",
     "text": [
      "n_samples: 26 budget used: 9.276 hypervolume: 2.25\n"
     ]
    },
    {
     "name": "stdout",
     "output_type": "stream",
     "text": [
      "n_samples: 27 budget used: 9.314 hypervolume: 2.25\n"
     ]
    },
    {
     "name": "stdout",
     "output_type": "stream",
     "text": [
      "n_samples: 28 budget used: 9.314 hypervolume: 2.25\n"
     ]
    },
    {
     "name": "stdout",
     "output_type": "stream",
     "text": [
      "n_samples: 29 budget used: 9.315 hypervolume: 2.25\n"
     ]
    },
    {
     "name": "stdout",
     "output_type": "stream",
     "text": [
      "n_samples: 30 budget used: 9.517 hypervolume: 2.25\n"
     ]
    },
    {
     "name": "stdout",
     "output_type": "stream",
     "text": [
      "n_samples: 31 budget used: 9.586 hypervolume: 2.25\n"
     ]
    },
    {
     "name": "stdout",
     "output_type": "stream",
     "text": [
      "n_samples: 32 budget used: 9.791 hypervolume: 2.25\n"
     ]
    },
    {
     "name": "stdout",
     "output_type": "stream",
     "text": [
      "n_samples: 33 budget used: 9.803 hypervolume: 2.25\n"
     ]
    },
    {
     "name": "stdout",
     "output_type": "stream",
     "text": [
      "n_samples: 34 budget used: 9.813 hypervolume: 2.25\n"
     ]
    },
    {
     "name": "stdout",
     "output_type": "stream",
     "text": [
      "n_samples: 35 budget used: 10.29 hypervolume: 2.25\n"
     ]
    }
   ],
   "source": [
    "budget = BUDGET\n",
    "while X.generator.calculate_total_cost() < budget:\n",
    "    X.step()\n",
    "    print(f\"n_samples: {len(X.data)} \"\n",
    "          f\"budget used: {X.generator.calculate_total_cost():.4} \"\n",
    "          f\"hypervolume: {X.generator.calculate_hypervolume():.4}\")"
   ]
  },
  {
   "cell_type": "markdown",
   "metadata": {
    "collapsed": false
   },
   "source": [
    "## Show results"
   ]
  },
  {
   "cell_type": "code",
   "execution_count": 4,
   "metadata": {
    "ExecuteTime": {
     "end_time": "2023-09-20T14:37:14.684015600Z",
     "start_time": "2023-09-20T14:37:14.647063400Z"
    },
    "collapsed": false,
    "execution": {
     "iopub.execute_input": "2024-02-23T22:03:34.919550Z",
     "iopub.status.busy": "2024-02-23T22:03:34.919133Z",
     "iopub.status.idle": "2024-02-23T22:03:34.937708Z",
     "shell.execute_reply": "2024-02-23T22:03:34.937118Z"
    }
   },
   "outputs": [
    {
     "data": {
      "text/html": [
       "<div>\n",
       "<style scoped>\n",
       "    .dataframe tbody tr th:only-of-type {\n",
       "        vertical-align: middle;\n",
       "    }\n",
       "\n",
       "    .dataframe tbody tr th {\n",
       "        vertical-align: top;\n",
       "    }\n",
       "\n",
       "    .dataframe thead th {\n",
       "        text-align: right;\n",
       "    }\n",
       "</style>\n",
       "<table border=\"1\" class=\"dataframe\">\n",
       "  <thead>\n",
       "    <tr style=\"text-align: right;\">\n",
       "      <th></th>\n",
       "      <th>x1</th>\n",
       "      <th>x2</th>\n",
       "      <th>s</th>\n",
       "      <th>a</th>\n",
       "      <th>y1</th>\n",
       "      <th>y2</th>\n",
       "      <th>c1</th>\n",
       "      <th>c2</th>\n",
       "      <th>xopt_runtime</th>\n",
       "      <th>xopt_error</th>\n",
       "    </tr>\n",
       "  </thead>\n",
       "  <tbody>\n",
       "    <tr>\n",
       "      <th>0</th>\n",
       "      <td>1.000000</td>\n",
       "      <td>0.750000</td>\n",
       "      <td>0.000000</td>\n",
       "      <td>dummy_constant</td>\n",
       "      <td>1.000000</td>\n",
       "      <td>0.750000</td>\n",
       "      <td>0.626888</td>\n",
       "      <td>0.312500</td>\n",
       "      <td>0.000034</td>\n",
       "      <td>False</td>\n",
       "    </tr>\n",
       "    <tr>\n",
       "      <th>1</th>\n",
       "      <td>0.750000</td>\n",
       "      <td>1.000000</td>\n",
       "      <td>0.100000</td>\n",
       "      <td>dummy_constant</td>\n",
       "      <td>0.750000</td>\n",
       "      <td>1.000000</td>\n",
       "      <td>0.626888</td>\n",
       "      <td>0.312500</td>\n",
       "      <td>0.000007</td>\n",
       "      <td>False</td>\n",
       "    </tr>\n",
       "    <tr>\n",
       "      <th>2</th>\n",
       "      <td>0.343820</td>\n",
       "      <td>1.733162</td>\n",
       "      <td>0.234178</td>\n",
       "      <td>dummy_constant</td>\n",
       "      <td>0.343820</td>\n",
       "      <td>1.733162</td>\n",
       "      <td>2.222058</td>\n",
       "      <td>1.545080</td>\n",
       "      <td>0.000025</td>\n",
       "      <td>False</td>\n",
       "    </tr>\n",
       "    <tr>\n",
       "      <th>3</th>\n",
       "      <td>0.000000</td>\n",
       "      <td>0.077833</td>\n",
       "      <td>0.268270</td>\n",
       "      <td>dummy_constant</td>\n",
       "      <td>0.000000</td>\n",
       "      <td>0.077833</td>\n",
       "      <td>-1.093942</td>\n",
       "      <td>0.428225</td>\n",
       "      <td>0.000025</td>\n",
       "      <td>False</td>\n",
       "    </tr>\n",
       "    <tr>\n",
       "      <th>4</th>\n",
       "      <td>0.000000</td>\n",
       "      <td>0.000000</td>\n",
       "      <td>0.349937</td>\n",
       "      <td>dummy_constant</td>\n",
       "      <td>0.000000</td>\n",
       "      <td>0.000000</td>\n",
       "      <td>-1.100000</td>\n",
       "      <td>0.500000</td>\n",
       "      <td>0.000024</td>\n",
       "      <td>False</td>\n",
       "    </tr>\n",
       "    <tr>\n",
       "      <th>5</th>\n",
       "      <td>0.000000</td>\n",
       "      <td>0.000000</td>\n",
       "      <td>0.431336</td>\n",
       "      <td>dummy_constant</td>\n",
       "      <td>0.000000</td>\n",
       "      <td>0.000000</td>\n",
       "      <td>-1.100000</td>\n",
       "      <td>0.500000</td>\n",
       "      <td>0.000024</td>\n",
       "      <td>False</td>\n",
       "    </tr>\n",
       "    <tr>\n",
       "      <th>6</th>\n",
       "      <td>0.000000</td>\n",
       "      <td>0.000000</td>\n",
       "      <td>0.540967</td>\n",
       "      <td>dummy_constant</td>\n",
       "      <td>0.000000</td>\n",
       "      <td>0.000000</td>\n",
       "      <td>-1.100000</td>\n",
       "      <td>0.500000</td>\n",
       "      <td>0.000023</td>\n",
       "      <td>False</td>\n",
       "    </tr>\n",
       "    <tr>\n",
       "      <th>7</th>\n",
       "      <td>3.141590</td>\n",
       "      <td>0.000000</td>\n",
       "      <td>0.268270</td>\n",
       "      <td>dummy_constant</td>\n",
       "      <td>3.141590</td>\n",
       "      <td>0.000000</td>\n",
       "      <td>8.769588</td>\n",
       "      <td>7.227998</td>\n",
       "      <td>0.000025</td>\n",
       "      <td>False</td>\n",
       "    </tr>\n",
       "    <tr>\n",
       "      <th>8</th>\n",
       "      <td>0.000000</td>\n",
       "      <td>0.000000</td>\n",
       "      <td>0.686629</td>\n",
       "      <td>dummy_constant</td>\n",
       "      <td>0.000000</td>\n",
       "      <td>0.000000</td>\n",
       "      <td>-1.100000</td>\n",
       "      <td>0.500000</td>\n",
       "      <td>0.000024</td>\n",
       "      <td>False</td>\n",
       "    </tr>\n",
       "    <tr>\n",
       "      <th>9</th>\n",
       "      <td>0.000000</td>\n",
       "      <td>0.000000</td>\n",
       "      <td>0.836362</td>\n",
       "      <td>dummy_constant</td>\n",
       "      <td>0.000000</td>\n",
       "      <td>0.000000</td>\n",
       "      <td>-1.100000</td>\n",
       "      <td>0.500000</td>\n",
       "      <td>0.000024</td>\n",
       "      <td>False</td>\n",
       "    </tr>\n",
       "    <tr>\n",
       "      <th>10</th>\n",
       "      <td>0.000000</td>\n",
       "      <td>0.000000</td>\n",
       "      <td>1.000000</td>\n",
       "      <td>dummy_constant</td>\n",
       "      <td>0.000000</td>\n",
       "      <td>0.000000</td>\n",
       "      <td>-1.100000</td>\n",
       "      <td>0.500000</td>\n",
       "      <td>0.000026</td>\n",
       "      <td>False</td>\n",
       "    </tr>\n",
       "    <tr>\n",
       "      <th>11</th>\n",
       "      <td>0.000000</td>\n",
       "      <td>0.514968</td>\n",
       "      <td>1.000000</td>\n",
       "      <td>dummy_constant</td>\n",
       "      <td>0.000000</td>\n",
       "      <td>0.514968</td>\n",
       "      <td>-0.834808</td>\n",
       "      <td>0.250224</td>\n",
       "      <td>0.000023</td>\n",
       "      <td>False</td>\n",
       "    </tr>\n",
       "    <tr>\n",
       "      <th>12</th>\n",
       "      <td>0.489695</td>\n",
       "      <td>0.000000</td>\n",
       "      <td>1.000000</td>\n",
       "      <td>dummy_constant</td>\n",
       "      <td>0.489695</td>\n",
       "      <td>0.000000</td>\n",
       "      <td>-0.860199</td>\n",
       "      <td>0.250106</td>\n",
       "      <td>0.000026</td>\n",
       "      <td>False</td>\n",
       "    </tr>\n",
       "    <tr>\n",
       "      <th>13</th>\n",
       "      <td>0.000000</td>\n",
       "      <td>0.543494</td>\n",
       "      <td>0.361513</td>\n",
       "      <td>dummy_constant</td>\n",
       "      <td>0.000000</td>\n",
       "      <td>0.543494</td>\n",
       "      <td>-0.804615</td>\n",
       "      <td>0.251892</td>\n",
       "      <td>0.000025</td>\n",
       "      <td>False</td>\n",
       "    </tr>\n",
       "    <tr>\n",
       "      <th>14</th>\n",
       "      <td>0.538918</td>\n",
       "      <td>0.000000</td>\n",
       "      <td>0.409269</td>\n",
       "      <td>dummy_constant</td>\n",
       "      <td>0.538918</td>\n",
       "      <td>0.000000</td>\n",
       "      <td>-0.809568</td>\n",
       "      <td>0.251515</td>\n",
       "      <td>0.000027</td>\n",
       "      <td>False</td>\n",
       "    </tr>\n",
       "    <tr>\n",
       "      <th>15</th>\n",
       "      <td>1.011301</td>\n",
       "      <td>0.000000</td>\n",
       "      <td>1.000000</td>\n",
       "      <td>dummy_constant</td>\n",
       "      <td>1.011301</td>\n",
       "      <td>0.000000</td>\n",
       "      <td>-0.077271</td>\n",
       "      <td>0.511429</td>\n",
       "      <td>0.000026</td>\n",
       "      <td>False</td>\n",
       "    </tr>\n",
       "    <tr>\n",
       "      <th>16</th>\n",
       "      <td>0.000000</td>\n",
       "      <td>0.240184</td>\n",
       "      <td>1.000000</td>\n",
       "      <td>dummy_constant</td>\n",
       "      <td>0.000000</td>\n",
       "      <td>0.240184</td>\n",
       "      <td>-1.042312</td>\n",
       "      <td>0.317504</td>\n",
       "      <td>0.000024</td>\n",
       "      <td>False</td>\n",
       "    </tr>\n",
       "    <tr>\n",
       "      <th>17</th>\n",
       "      <td>0.000000</td>\n",
       "      <td>3.141590</td>\n",
       "      <td>1.000000</td>\n",
       "      <td>dummy_constant</td>\n",
       "      <td>0.000000</td>\n",
       "      <td>3.141590</td>\n",
       "      <td>8.769588</td>\n",
       "      <td>7.227998</td>\n",
       "      <td>0.000026</td>\n",
       "      <td>False</td>\n",
       "    </tr>\n",
       "    <tr>\n",
       "      <th>18</th>\n",
       "      <td>0.688207</td>\n",
       "      <td>0.776052</td>\n",
       "      <td>1.000000</td>\n",
       "      <td>dummy_constant</td>\n",
       "      <td>0.688207</td>\n",
       "      <td>0.776052</td>\n",
       "      <td>0.018430</td>\n",
       "      <td>0.111626</td>\n",
       "      <td>0.000027</td>\n",
       "      <td>False</td>\n",
       "    </tr>\n",
       "    <tr>\n",
       "      <th>19</th>\n",
       "      <td>1.381731</td>\n",
       "      <td>1.538617</td>\n",
       "      <td>0.648267</td>\n",
       "      <td>dummy_constant</td>\n",
       "      <td>1.381731</td>\n",
       "      <td>1.538617</td>\n",
       "      <td>3.211182</td>\n",
       "      <td>1.856175</td>\n",
       "      <td>0.000027</td>\n",
       "      <td>False</td>\n",
       "    </tr>\n",
       "    <tr>\n",
       "      <th>20</th>\n",
       "      <td>0.858784</td>\n",
       "      <td>0.000000</td>\n",
       "      <td>0.636468</td>\n",
       "      <td>dummy_constant</td>\n",
       "      <td>0.858784</td>\n",
       "      <td>0.000000</td>\n",
       "      <td>-0.362489</td>\n",
       "      <td>0.378726</td>\n",
       "      <td>0.000025</td>\n",
       "      <td>False</td>\n",
       "    </tr>\n",
       "    <tr>\n",
       "      <th>21</th>\n",
       "      <td>1.105453</td>\n",
       "      <td>0.000000</td>\n",
       "      <td>0.316778</td>\n",
       "      <td>dummy_constant</td>\n",
       "      <td>1.105453</td>\n",
       "      <td>0.000000</td>\n",
       "      <td>0.122027</td>\n",
       "      <td>0.616574</td>\n",
       "      <td>0.000025</td>\n",
       "      <td>False</td>\n",
       "    </tr>\n",
       "    <tr>\n",
       "      <th>22</th>\n",
       "      <td>2.009357</td>\n",
       "      <td>1.652572</td>\n",
       "      <td>0.812205</td>\n",
       "      <td>dummy_constant</td>\n",
       "      <td>2.009357</td>\n",
       "      <td>1.652572</td>\n",
       "      <td>5.766828</td>\n",
       "      <td>3.606580</td>\n",
       "      <td>0.000026</td>\n",
       "      <td>False</td>\n",
       "    </tr>\n",
       "    <tr>\n",
       "      <th>23</th>\n",
       "      <td>0.000000</td>\n",
       "      <td>0.855070</td>\n",
       "      <td>0.661901</td>\n",
       "      <td>dummy_constant</td>\n",
       "      <td>0.000000</td>\n",
       "      <td>0.855070</td>\n",
       "      <td>-0.368855</td>\n",
       "      <td>0.376075</td>\n",
       "      <td>0.000024</td>\n",
       "      <td>False</td>\n",
       "    </tr>\n",
       "    <tr>\n",
       "      <th>24</th>\n",
       "      <td>1.963257</td>\n",
       "      <td>1.260135</td>\n",
       "      <td>0.014067</td>\n",
       "      <td>dummy_constant</td>\n",
       "      <td>1.963257</td>\n",
       "      <td>1.260135</td>\n",
       "      <td>4.538010</td>\n",
       "      <td>2.718928</td>\n",
       "      <td>0.000026</td>\n",
       "      <td>False</td>\n",
       "    </tr>\n",
       "    <tr>\n",
       "      <th>25</th>\n",
       "      <td>2.050407</td>\n",
       "      <td>0.973183</td>\n",
       "      <td>0.314366</td>\n",
       "      <td>dummy_constant</td>\n",
       "      <td>2.050407</td>\n",
       "      <td>0.973183</td>\n",
       "      <td>4.082098</td>\n",
       "      <td>2.627664</td>\n",
       "      <td>0.000025</td>\n",
       "      <td>False</td>\n",
       "    </tr>\n",
       "    <tr>\n",
       "      <th>26</th>\n",
       "      <td>0.762199</td>\n",
       "      <td>2.530715</td>\n",
       "      <td>0.394688</td>\n",
       "      <td>dummy_constant</td>\n",
       "      <td>0.762199</td>\n",
       "      <td>2.530715</td>\n",
       "      <td>5.988642</td>\n",
       "      <td>4.192551</td>\n",
       "      <td>0.000025</td>\n",
       "      <td>False</td>\n",
       "    </tr>\n",
       "    <tr>\n",
       "      <th>27</th>\n",
       "      <td>1.723203</td>\n",
       "      <td>2.284853</td>\n",
       "      <td>0.007387</td>\n",
       "      <td>dummy_constant</td>\n",
       "      <td>1.723203</td>\n",
       "      <td>2.284853</td>\n",
       "      <td>7.251040</td>\n",
       "      <td>4.681926</td>\n",
       "      <td>0.000026</td>\n",
       "      <td>False</td>\n",
       "    </tr>\n",
       "    <tr>\n",
       "      <th>28</th>\n",
       "      <td>0.480892</td>\n",
       "      <td>0.652474</td>\n",
       "      <td>0.142364</td>\n",
       "      <td>dummy_constant</td>\n",
       "      <td>0.480892</td>\n",
       "      <td>0.652474</td>\n",
       "      <td>-0.269011</td>\n",
       "      <td>0.023613</td>\n",
       "      <td>0.000027</td>\n",
       "      <td>False</td>\n",
       "    </tr>\n",
       "    <tr>\n",
       "      <th>29</th>\n",
       "      <td>2.669072</td>\n",
       "      <td>0.141036</td>\n",
       "      <td>0.632432</td>\n",
       "      <td>dummy_constant</td>\n",
       "      <td>2.669072</td>\n",
       "      <td>0.141036</td>\n",
       "      <td>6.077439</td>\n",
       "      <td>4.833729</td>\n",
       "      <td>0.000027</td>\n",
       "      <td>False</td>\n",
       "    </tr>\n",
       "    <tr>\n",
       "      <th>30</th>\n",
       "      <td>1.857334</td>\n",
       "      <td>1.042791</td>\n",
       "      <td>0.465798</td>\n",
       "      <td>dummy_constant</td>\n",
       "      <td>1.857334</td>\n",
       "      <td>1.042791</td>\n",
       "      <td>3.569643</td>\n",
       "      <td>2.136979</td>\n",
       "      <td>0.000025</td>\n",
       "      <td>False</td>\n",
       "    </tr>\n",
       "    <tr>\n",
       "      <th>31</th>\n",
       "      <td>0.320982</td>\n",
       "      <td>0.809365</td>\n",
       "      <td>0.635984</td>\n",
       "      <td>dummy_constant</td>\n",
       "      <td>0.320982</td>\n",
       "      <td>0.809365</td>\n",
       "      <td>-0.338980</td>\n",
       "      <td>0.127754</td>\n",
       "      <td>0.000027</td>\n",
       "      <td>False</td>\n",
       "    </tr>\n",
       "    <tr>\n",
       "      <th>32</th>\n",
       "      <td>0.090912</td>\n",
       "      <td>1.302402</td>\n",
       "      <td>0.282886</td>\n",
       "      <td>dummy_constant</td>\n",
       "      <td>0.090912</td>\n",
       "      <td>1.302402</td>\n",
       "      <td>0.660501</td>\n",
       "      <td>0.811201</td>\n",
       "      <td>0.000024</td>\n",
       "      <td>False</td>\n",
       "    </tr>\n",
       "    <tr>\n",
       "      <th>33</th>\n",
       "      <td>2.907054</td>\n",
       "      <td>0.156523</td>\n",
       "      <td>0.272324</td>\n",
       "      <td>dummy_constant</td>\n",
       "      <td>2.907054</td>\n",
       "      <td>0.156523</td>\n",
       "      <td>7.410270</td>\n",
       "      <td>5.911888</td>\n",
       "      <td>0.000024</td>\n",
       "      <td>False</td>\n",
       "    </tr>\n",
       "    <tr>\n",
       "      <th>34</th>\n",
       "      <td>0.185640</td>\n",
       "      <td>2.013705</td>\n",
       "      <td>0.810636</td>\n",
       "      <td>dummy_constant</td>\n",
       "      <td>0.185640</td>\n",
       "      <td>2.013705</td>\n",
       "      <td>3.079491</td>\n",
       "      <td>2.390124</td>\n",
       "      <td>0.000027</td>\n",
       "      <td>False</td>\n",
       "    </tr>\n",
       "  </tbody>\n",
       "</table>\n",
       "</div>"
      ],
      "text/plain": [
       "          x1        x2         s               a        y1        y2  \\\n",
       "0   1.000000  0.750000  0.000000  dummy_constant  1.000000  0.750000   \n",
       "1   0.750000  1.000000  0.100000  dummy_constant  0.750000  1.000000   \n",
       "2   0.343820  1.733162  0.234178  dummy_constant  0.343820  1.733162   \n",
       "3   0.000000  0.077833  0.268270  dummy_constant  0.000000  0.077833   \n",
       "4   0.000000  0.000000  0.349937  dummy_constant  0.000000  0.000000   \n",
       "5   0.000000  0.000000  0.431336  dummy_constant  0.000000  0.000000   \n",
       "6   0.000000  0.000000  0.540967  dummy_constant  0.000000  0.000000   \n",
       "7   3.141590  0.000000  0.268270  dummy_constant  3.141590  0.000000   \n",
       "8   0.000000  0.000000  0.686629  dummy_constant  0.000000  0.000000   \n",
       "9   0.000000  0.000000  0.836362  dummy_constant  0.000000  0.000000   \n",
       "10  0.000000  0.000000  1.000000  dummy_constant  0.000000  0.000000   \n",
       "11  0.000000  0.514968  1.000000  dummy_constant  0.000000  0.514968   \n",
       "12  0.489695  0.000000  1.000000  dummy_constant  0.489695  0.000000   \n",
       "13  0.000000  0.543494  0.361513  dummy_constant  0.000000  0.543494   \n",
       "14  0.538918  0.000000  0.409269  dummy_constant  0.538918  0.000000   \n",
       "15  1.011301  0.000000  1.000000  dummy_constant  1.011301  0.000000   \n",
       "16  0.000000  0.240184  1.000000  dummy_constant  0.000000  0.240184   \n",
       "17  0.000000  3.141590  1.000000  dummy_constant  0.000000  3.141590   \n",
       "18  0.688207  0.776052  1.000000  dummy_constant  0.688207  0.776052   \n",
       "19  1.381731  1.538617  0.648267  dummy_constant  1.381731  1.538617   \n",
       "20  0.858784  0.000000  0.636468  dummy_constant  0.858784  0.000000   \n",
       "21  1.105453  0.000000  0.316778  dummy_constant  1.105453  0.000000   \n",
       "22  2.009357  1.652572  0.812205  dummy_constant  2.009357  1.652572   \n",
       "23  0.000000  0.855070  0.661901  dummy_constant  0.000000  0.855070   \n",
       "24  1.963257  1.260135  0.014067  dummy_constant  1.963257  1.260135   \n",
       "25  2.050407  0.973183  0.314366  dummy_constant  2.050407  0.973183   \n",
       "26  0.762199  2.530715  0.394688  dummy_constant  0.762199  2.530715   \n",
       "27  1.723203  2.284853  0.007387  dummy_constant  1.723203  2.284853   \n",
       "28  0.480892  0.652474  0.142364  dummy_constant  0.480892  0.652474   \n",
       "29  2.669072  0.141036  0.632432  dummy_constant  2.669072  0.141036   \n",
       "30  1.857334  1.042791  0.465798  dummy_constant  1.857334  1.042791   \n",
       "31  0.320982  0.809365  0.635984  dummy_constant  0.320982  0.809365   \n",
       "32  0.090912  1.302402  0.282886  dummy_constant  0.090912  1.302402   \n",
       "33  2.907054  0.156523  0.272324  dummy_constant  2.907054  0.156523   \n",
       "34  0.185640  2.013705  0.810636  dummy_constant  0.185640  2.013705   \n",
       "\n",
       "          c1        c2  xopt_runtime  xopt_error  \n",
       "0   0.626888  0.312500      0.000034       False  \n",
       "1   0.626888  0.312500      0.000007       False  \n",
       "2   2.222058  1.545080      0.000025       False  \n",
       "3  -1.093942  0.428225      0.000025       False  \n",
       "4  -1.100000  0.500000      0.000024       False  \n",
       "5  -1.100000  0.500000      0.000024       False  \n",
       "6  -1.100000  0.500000      0.000023       False  \n",
       "7   8.769588  7.227998      0.000025       False  \n",
       "8  -1.100000  0.500000      0.000024       False  \n",
       "9  -1.100000  0.500000      0.000024       False  \n",
       "10 -1.100000  0.500000      0.000026       False  \n",
       "11 -0.834808  0.250224      0.000023       False  \n",
       "12 -0.860199  0.250106      0.000026       False  \n",
       "13 -0.804615  0.251892      0.000025       False  \n",
       "14 -0.809568  0.251515      0.000027       False  \n",
       "15 -0.077271  0.511429      0.000026       False  \n",
       "16 -1.042312  0.317504      0.000024       False  \n",
       "17  8.769588  7.227998      0.000026       False  \n",
       "18  0.018430  0.111626      0.000027       False  \n",
       "19  3.211182  1.856175      0.000027       False  \n",
       "20 -0.362489  0.378726      0.000025       False  \n",
       "21  0.122027  0.616574      0.000025       False  \n",
       "22  5.766828  3.606580      0.000026       False  \n",
       "23 -0.368855  0.376075      0.000024       False  \n",
       "24  4.538010  2.718928      0.000026       False  \n",
       "25  4.082098  2.627664      0.000025       False  \n",
       "26  5.988642  4.192551      0.000025       False  \n",
       "27  7.251040  4.681926      0.000026       False  \n",
       "28 -0.269011  0.023613      0.000027       False  \n",
       "29  6.077439  4.833729      0.000027       False  \n",
       "30  3.569643  2.136979      0.000025       False  \n",
       "31 -0.338980  0.127754      0.000027       False  \n",
       "32  0.660501  0.811201      0.000024       False  \n",
       "33  7.410270  5.911888      0.000024       False  \n",
       "34  3.079491  2.390124      0.000027       False  "
      ]
     },
     "execution_count": 4,
     "metadata": {},
     "output_type": "execute_result"
    }
   ],
   "source": [
    "X.data"
   ]
  },
  {
   "cell_type": "markdown",
   "metadata": {
    "collapsed": false
   },
   "source": [
    "## Plot results\n",
    "Here we plot the resulting observations in input space, colored by feasibility\n",
    "(neglecting the fact that\n",
    "these data points are at varying fidelities).\n"
   ]
  },
  {
   "cell_type": "code",
   "execution_count": 5,
   "metadata": {
    "ExecuteTime": {
     "end_time": "2023-09-20T14:37:15.292777300Z",
     "start_time": "2023-09-20T14:37:14.679967200Z"
    },
    "collapsed": false,
    "execution": {
     "iopub.execute_input": "2024-02-23T22:03:34.940251Z",
     "iopub.status.busy": "2024-02-23T22:03:34.940054Z",
     "iopub.status.idle": "2024-02-23T22:03:35.300958Z",
     "shell.execute_reply": "2024-02-23T22:03:35.300368Z"
    }
   },
   "outputs": [
    {
     "data": {
      "image/png": "[encoded data removed]",
      "text/plain": [
       "<Figure size 640x480 with 1 Axes>"
      ]
     },
     "metadata": {},
     "output_type": "display_data"
    }
   ],
   "source": [
    "import matplotlib.pyplot as plt\n",
    "\n",
    "fig, ax = plt.subplots()\n",
    "\n",
    "theta = np.linspace(0, np.pi / 2)\n",
    "r = np.sqrt(1 + 0.1 * np.cos(16 * theta))\n",
    "x_1 = r * np.sin(theta)\n",
    "x_2_lower = r * np.cos(theta)\n",
    "x_2_upper = (0.5 - (x_1 - 0.5) ** 2) ** 0.5 + 0.5\n",
    "\n",
    "z = np.zeros_like(x_1)\n",
    "\n",
    "# ax2.plot(x_1, x_2_lower,'r')\n",
    "ax.fill_between(x_1, z, x_2_lower, fc=\"white\")\n",
    "circle = plt.Circle(\n",
    "    (0.5, 0.5), 0.5 ** 0.5, color=\"r\", alpha=0.25, zorder=0, label=\"Valid Region\"\n",
    ")\n",
    "ax.add_patch(circle)\n",
    "history = pd.concat(\n",
    "    [X.data, tnk_vocs.feasibility_data(X.data)], axis=1, ignore_index=False\n",
    ")\n",
    "\n",
    "ax.plot(*history[[\"x1\", \"x2\"]][history[\"feasible\"]].to_numpy().T, \".C1\")\n",
    "ax.plot(*history[[\"x1\", \"x2\"]][~history[\"feasible\"]].to_numpy().T, \".C2\")\n",
    "\n",
    "ax.set_xlim(0, 3.14)\n",
    "ax.set_ylim(0, 3.14)\n",
    "ax.set_xlabel(\"x1\")\n",
    "ax.set_ylabel(\"x2\")\n",
    "ax.set_aspect(\"equal\")"
   ]
  },
  {
   "cell_type": "markdown",
   "metadata": {
    "collapsed": false
   },
   "source": [
    "### Plot path through input space"
   ]
  },
  {
   "cell_type": "code",
   "execution_count": 6,
   "metadata": {
    "ExecuteTime": {
     "end_time": "2023-09-20T14:37:15.607777300Z",
     "start_time": "2023-09-20T14:37:15.288777300Z"
    },
    "collapsed": false,
    "execution": {
     "iopub.execute_input": "2024-02-23T22:03:35.303559Z",
     "iopub.status.busy": "2024-02-23T22:03:35.303030Z",
     "iopub.status.idle": "2024-02-23T22:03:35.631919Z",
     "shell.execute_reply": "2024-02-23T22:03:35.631340Z"
    }
   },
   "outputs": [
    {
     "data": {
      "image/png": "[encoded data removed]",
      "text/plain": [
       "<Figure size 640x480 with 4 Axes>"
      ]
     },
     "metadata": {},
     "output_type": "display_data"
    }
   ],
   "source": [
    "ax = history.hist([\"x1\", \"x2\", \"s\"],bins=20)"
   ]
  },
  {
   "cell_type": "code",
   "execution_count": 7,
   "metadata": {
    "ExecuteTime": {
     "end_time": "2023-09-20T14:37:15.768777Z",
     "start_time": "2023-09-20T14:37:15.606777300Z"
    },
    "collapsed": false,
    "execution": {
     "iopub.execute_input": "2024-02-23T22:03:35.634176Z",
     "iopub.status.busy": "2024-02-23T22:03:35.633982Z",
     "iopub.status.idle": "2024-02-23T22:03:35.779516Z",
     "shell.execute_reply": "2024-02-23T22:03:35.778920Z"
    }
   },
   "outputs": [
    {
     "data": {
      "text/plain": [
       "<Axes: >"
      ]
     },
     "execution_count": 7,
     "metadata": {},
     "output_type": "execute_result"
    },
    {
     "data": {
      "image/png": "[encoded data removed]",
      "text/plain": [
       "<Figure size 640x480 with 1 Axes>"
      ]
     },
     "metadata": {},
     "output_type": "display_data"
    }
   ],
   "source": [
    "history.plot(y=[\"x1\", \"x2\", \"s\"])"
   ]
  },
  {
   "cell_type": "markdown",
   "metadata": {
    "collapsed": false
   },
   "source": [
    "## Plot the acqusisition function\n",
    "Here we plot the acquisition function at a small set of fidelities $[0, 0.5, 1.0]$."
   ]
  },
  {
   "cell_type": "code",
   "execution_count": 8,
   "metadata": {
    "ExecuteTime": {
     "end_time": "2023-09-20T14:37:45.334189800Z",
     "start_time": "2023-09-20T14:37:41.203201700Z"
    },
    "collapsed": false,
    "execution": {
     "iopub.execute_input": "2024-02-23T22:03:35.782102Z",
     "iopub.status.busy": "2024-02-23T22:03:35.781756Z",
     "iopub.status.idle": "2024-02-23T22:03:45.527990Z",
     "shell.execute_reply": "2024-02-23T22:03:45.527351Z"
    }
   },
   "outputs": [
    {
     "name": "stdout",
     "output_type": "stream",
     "text": [
      "[[2.6783825  0.40776384]]\n"
     ]
    },
    {
     "data": {
      "text/plain": [
       "[<matplotlib.lines.Line2D at 0x7f91f176f070>]"
      ]
     },
     "execution_count": 8,
     "metadata": {},
     "output_type": "execute_result"
    },
    {
     "data": {
      "image/png": "[encoded data removed]",
      "text/plain": [
       "<Figure size 640x480 with 2 Axes>"
      ]
     },
     "metadata": {},
     "output_type": "display_data"
    },
    {
     "data": {
      "image/png": "[encoded data removed]",
      "text/plain": [
       "<Figure size 640x480 with 2 Axes>"
      ]
     },
     "metadata": {},
     "output_type": "display_data"
    },
    {
     "data": {
      "image/png": "[encoded data removed]",
      "text/plain": [
       "<Figure size 640x480 with 2 Axes>"
      ]
     },
     "metadata": {},
     "output_type": "display_data"
    }
   ],
   "source": [
    "# plot the acquisition function\n",
    "\n",
    "bounds = X.generator.vocs.bounds\n",
    "model = X.generator.model\n",
    "\n",
    "# create mesh over non-fidelity parameters\n",
    "n = 50\n",
    "x = torch.linspace(*bounds.T[1], n)\n",
    "y = torch.linspace(*bounds.T[2], n)\n",
    "xx, yy = torch.meshgrid(x, y)\n",
    "\n",
    "# plot function(s) at a single fidelity parameter\n",
    "fidelities = [0.0, 0.5, 1.0]\n",
    "for fidelity in fidelities:\n",
    "    pts = torch.hstack([ele.reshape(-1, 1) for ele in (xx, yy)]).double()\n",
    "    pts = torch.cat((torch.ones(pts.shape[0],1)*fidelity, pts), dim=-1)\n",
    "\n",
    "    acq_func = X.generator.get_acquisition(model)\n",
    "    with torch.no_grad():\n",
    "        acq_pts = pts.unsqueeze(1)\n",
    "        acq = acq_func(acq_pts)\n",
    "\n",
    "        fig, ax = plt.subplots()\n",
    "\n",
    "        xxn, yyn = xx.numpy(), yy.numpy()\n",
    "\n",
    "        c = ax.pcolor(xxn, yyn, acq.reshape(n, n), cmap=\"Blues\")\n",
    "        fig.colorbar(c)\n",
    "        ax.set_title(f\"Acquisition function - s: {fidelity}\")\n",
    "\n",
    "        ax.plot(*history[[\"x1\", \"x2\"]][history[\"feasible\"]].to_numpy().T, \".C1\")\n",
    "        ax.plot(*history[[\"x1\", \"x2\"]][~history[\"feasible\"]].to_numpy().T, \".C2\")\n",
    "\n",
    "        ax.plot(*history[[\"x1\", \"x2\"]].to_numpy()[-1].T, \"+\")\n",
    "\n",
    "\n",
    "candidate = pd.DataFrame(X.generator.generate(1), index=[0])\n",
    "print(candidate[[\"x1\", \"x2\"]].to_numpy())\n",
    "ax.plot(*candidate[[\"x1\", \"x2\"]].to_numpy()[0], \"o\")"
   ]
  },
  {
   "cell_type": "code",
   "execution_count": 9,
   "metadata": {
    "ExecuteTime": {
     "start_time": "2023-09-20T14:37:17.294215100Z"
    },
    "collapsed": false,
    "execution": {
     "iopub.execute_input": "2024-02-23T22:03:45.530483Z",
     "iopub.status.busy": "2024-02-23T22:03:45.530053Z",
     "iopub.status.idle": "2024-02-23T22:03:45.535520Z",
     "shell.execute_reply": "2024-02-23T22:03:45.535060Z"
    }
   },
   "outputs": [
    {
     "data": {
      "text/plain": [
       "[('likelihood.noise_covar.raw_noise',\n",
       "  Parameter containing:\n",
       "  tensor([-26.2393], dtype=torch.float64, requires_grad=True)),\n",
       " ('mean_module.raw_constant',\n",
       "  Parameter containing:\n",
       "  tensor(0.0133, dtype=torch.float64, requires_grad=True)),\n",
       " ('covar_module.raw_outputscale',\n",
       "  Parameter containing:\n",
       "  tensor(0.1265, dtype=torch.float64, requires_grad=True)),\n",
       " ('covar_module.base_kernel.raw_lengthscale',\n",
       "  Parameter containing:\n",
       "  tensor([[0.7620, 2.1937, 2.2436]], dtype=torch.float64, requires_grad=True))]"
      ]
     },
     "execution_count": 9,
     "metadata": {},
     "output_type": "execute_result"
    }
   ],
   "source": [
    "# examine lengthscale of the first objective\n",
    "list(model.models[0].named_parameters())"
   ]
  }
 ],
 "metadata": {
  "interpreter": {
   "hash": "72034539424920dfb606fe3b820b3f27dca0cbf1c69938110810ec4641e275b1"
  },
  "kernelspec": {
   "display_name": "Python 3 (ipykernel)",
   "language": "python",
   "name": "python3"
  },
  "language_info": {
   "codemirror_mode": {
    "name": "ipython",
    "version": 3
   },
   "file_extension": ".py",
   "mimetype": "text/x-python",
   "name": "python",
   "nbconvert_exporter": "python",
   "pygments_lexer": "ipython3",
   "version": "3.9.18"
  }
 },
 "nbformat": 4,
 "nbformat_minor": 4
}
