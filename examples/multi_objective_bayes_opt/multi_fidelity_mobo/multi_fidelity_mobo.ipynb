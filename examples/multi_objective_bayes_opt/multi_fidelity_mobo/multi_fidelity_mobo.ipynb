{
 "cells": [
  {
   "cell_type": "markdown",
   "metadata": {},
   "source": [
    "# Multi-fidelity Multi-objective Bayesian Optimization\n",
    "\n",
    "Here we attempt to solve for the constrained Pareto front of the TNK multi-objective\n",
    "optimization problem using Multi-Fidelity Multi-Objective Bayesian optimization. For\n",
    "simplicity we assume that the objective and constraint functions at lower fidelities is\n",
    "exactly equal to the functions at higher fidelities (this is obviously not a\n",
    "requirement, although for the best results lower fidelity calculations should\n",
    "correlate with higher fidelity ones). The algorithm should learn this relationship\n",
    "and use information gathered at lower fidelities to gather samples to improve the\n",
    "hypervolume of the Pareto front at the maximum fidelity.\n",
    "\n",
    "TNK function\n",
    "$n=2$ variables:\n",
    "$x_i \\in [0, \\pi], i=1,2$\n",
    "\n",
    "Objectives:\n",
    "- $f_i(x) = x_i$\n",
    "\n",
    "Constraints:\n",
    "- $g_1(x) = -x_1^2 -x_2^2 + 1 + 0.1 \\cos\\left(16 \\arctan \\frac{x_1}{x_2}\\right) \\le 0$\n",
    "- $g_2(x) = (x_1 - 1/2)^2 + (x_2-1/2)^2 \\le 0.5$"
   ]
  },
  {
   "cell_type": "code",
   "execution_count": 1,
   "metadata": {
    "ExecuteTime": {
     "end_time": "2023-09-20T14:37:08.616050600Z",
     "start_time": "2023-09-20T14:37:04.101720300Z"
    },
    "collapsed": false,
    "execution": {
     "iopub.execute_input": "2023-10-27T19:46:32.759794Z",
     "iopub.status.busy": "2023-10-27T19:46:32.759259Z",
     "iopub.status.idle": "2023-10-27T19:46:35.269824Z",
     "shell.execute_reply": "2023-10-27T19:46:35.269093Z"
    }
   },
   "outputs": [
    {
     "name": "stdout",
     "output_type": "stream",
     "text": [
      "{'variables': {'x1': [0.0, 3.14159], 'x2': [0.0, 3.14159]}, 'constraints': {'c1': ['GREATER_THAN', 0.0], 'c2': ['LESS_THAN', 0.5]}, 'objectives': {'y1': 'MINIMIZE', 'y2': 'MINIMIZE'}, 'constants': {'a': 'dummy_constant'}, 'observables': []}\n"
     ]
    }
   ],
   "source": [
    "# set values if testing\n",
    "import os\n",
    "SMOKE_TEST = os.environ.get(\"SMOKE_TEST\")\n",
    "N_MC_SAMPLES = 1 if SMOKE_TEST else 128\n",
    "NUM_RESTARTS = 1 if SMOKE_TEST else 20\n",
    "BUDGET = 0.02 if SMOKE_TEST else 10\n",
    "\n",
    "# Ignore all warnings\n",
    "import warnings\n",
    "warnings.filterwarnings(\"ignore\")\n",
    "\n",
    "import pandas as pd\n",
    "import numpy as np\n",
    "import torch\n",
    "\n",
    "from xopt import Xopt, Evaluator\n",
    "from xopt.generators.bayesian import MultiFidelityGenerator\n",
    "from xopt.resources.test_functions.tnk import evaluate_TNK, tnk_vocs\n",
    "\n",
    "evaluator = Evaluator(function=evaluate_TNK)\n",
    "print(tnk_vocs.dict())"
   ]
  },
  {
   "cell_type": "markdown",
   "metadata": {
    "collapsed": false
   },
   "source": [
    "## Set up the Multi-Fidelity Multi-objective optimization algorithm\n",
    "Here we create the Multi-Fidelity generator object which can solve both single and\n",
    "multi-objective optimization problems depending on the number of objectives in VOCS.\n",
    "We specify a cost function as a function of fidelity parameter $s=[0,1]$ as $C(s) =\n",
    "s^{3.5}$ as an example from a real life multi-fidelity simulation problem."
   ]
  },
  {
   "cell_type": "code",
   "execution_count": 2,
   "metadata": {
    "ExecuteTime": {
     "end_time": "2023-09-20T14:37:08.660042Z",
     "start_time": "2023-09-20T14:37:08.617041800Z"
    },
    "collapsed": false,
    "execution": {
     "iopub.execute_input": "2023-10-27T19:46:35.307736Z",
     "iopub.status.busy": "2023-10-27T19:46:35.307021Z",
     "iopub.status.idle": "2023-10-27T19:46:35.328464Z",
     "shell.execute_reply": "2023-10-27T19:46:35.327894Z"
    }
   },
   "outputs": [
    {
     "data": {
      "text/plain": [
       "\n",
       "            Xopt\n",
       "________________________________\n",
       "Version: 0+untagged.1.g4e79982\n",
       "Data size: 2\n",
       "Config as YAML:\n",
       "dump_file: null\n",
       "evaluator:\n",
       "  function: xopt.resources.test_functions.tnk.evaluate_TNK\n",
       "  function_kwargs:\n",
       "    raise_probability: 0\n",
       "    random_sleep: 0\n",
       "    sleep: 0\n",
       "  max_workers: 1\n",
       "  vectorized: false\n",
       "generator:\n",
       "  computation_time: null\n",
       "  fixed_features: null\n",
       "  gp_constructor:\n",
       "    covar_modules: {}\n",
       "    mean_modules: {}\n",
       "    name: standard\n",
       "    trainable_mean_keys: []\n",
       "    use_low_noise_prior: true\n",
       "  max_travel_distances: null\n",
       "  model: null\n",
       "  n_candidates: 1\n",
       "  n_monte_carlo_samples: 128\n",
       "  name: multi_fidelity\n",
       "  numerical_optimizer:\n",
       "    max_iter: 2000\n",
       "    n_restarts: 20\n",
       "    name: LBFGS\n",
       "  reference_point:\n",
       "    s: 0.0\n",
       "    y1: 1.5\n",
       "    y2: 1.5\n",
       "  supports_batch_generation: true\n",
       "  supports_multi_objective: true\n",
       "  turbo_controller: null\n",
       "  use_cuda: false\n",
       "max_evaluations: null\n",
       "serialize_inline: false\n",
       "serialize_torch: false\n",
       "strict: true\n",
       "vocs:\n",
       "  constants:\n",
       "    a: dummy_constant\n",
       "  constraints: {}\n",
       "  objectives:\n",
       "    s: MAXIMIZE\n",
       "    y1: MINIMIZE\n",
       "    y2: MINIMIZE\n",
       "  observables: []\n",
       "  variables:\n",
       "    s:\n",
       "    - 0\n",
       "    - 1\n",
       "    x1:\n",
       "    - 0.0\n",
       "    - 3.14159\n",
       "    x2:\n",
       "    - 0.0\n",
       "    - 3.14159\n"
      ]
     },
     "execution_count": 2,
     "metadata": {},
     "output_type": "execute_result"
    }
   ],
   "source": [
    "from copy import deepcopy\n",
    "my_vocs = deepcopy(tnk_vocs)\n",
    "my_vocs.constraints = {}\n",
    "generator = MultiFidelityGenerator(vocs=my_vocs, reference_point = {\"y1\":1.5,\"y2\":1.5})\n",
    "\n",
    "# set cost function according to approximate scaling of laser plasma accelerator\n",
    "# problem, see https://journals.aps.org/prresearch/abstract/10.1103/PhysRevResearch.5.013063\n",
    "generator.cost_function = lambda s: s**3.5\n",
    "generator.numerical_optimizer.n_restarts = NUM_RESTARTS\n",
    "generator.n_monte_carlo_samples = N_MC_SAMPLES\n",
    "\n",
    "X = Xopt(generator=generator, evaluator=evaluator, vocs=my_vocs)\n",
    "\n",
    "# evaluate at some explicit initial points\n",
    "X.evaluate_data(pd.DataFrame({\"x1\":[1.0, 0.75],\"x2\":[0.75, 1.0],\"s\":[0.0,0.1]}))\n",
    "\n",
    "X"
   ]
  },
  {
   "cell_type": "markdown",
   "metadata": {
    "collapsed": false
   },
   "source": [
    "## Run optimization routine\n",
    "Instead of ending the optimization routine after an explict number of samples we end\n",
    "optimization once a given optimization budget has been exceeded. WARNING: This will\n",
    "slightly exceed the given budget"
   ]
  },
  {
   "cell_type": "code",
   "execution_count": 3,
   "metadata": {
    "ExecuteTime": {
     "end_time": "2023-09-20T14:37:14.657062800Z",
     "start_time": "2023-09-20T14:37:08.648042200Z"
    },
    "collapsed": false,
    "execution": {
     "iopub.execute_input": "2023-10-27T19:46:35.331622Z",
     "iopub.status.busy": "2023-10-27T19:46:35.331073Z",
     "iopub.status.idle": "2023-10-27T19:48:14.915969Z",
     "shell.execute_reply": "2023-10-27T19:48:14.915395Z"
    }
   },
   "outputs": [
    {
     "name": "stdout",
     "output_type": "stream",
     "text": [
      "n_samples: 3 budget used: 0.0103 hypervolume: 0.0375\n",
      "n_samples: 4 budget used: 0.01568 hypervolume: 0.0375\n",
      "n_samples: 5 budget used: 0.02566 hypervolume: 0.2638\n",
      "n_samples: 6 budget used: 0.03566 hypervolume: 0.5693\n",
      "n_samples: 7 budget used: 0.06386 hypervolume: 0.8117\n",
      "n_samples: 8 budget used: 0.1162 hypervolume: 0.9368\n",
      "n_samples: 9 budget used: 0.2106 hypervolume: 1.146\n",
      "n_samples: 10 budget used: 0.3885 hypervolume: 1.374\n",
      "n_samples: 11 budget used: 0.7571 hypervolume: 1.692\n",
      "n_samples: 12 budget used: 1.511 hypervolume: 2.076\n",
      "n_samples: 13 budget used: 2.511 hypervolume: 2.25\n",
      "n_samples: 14 budget used: 3.511 hypervolume: 2.25\n",
      "n_samples: 15 budget used: 3.521 hypervolume: 2.25\n",
      "n_samples: 16 budget used: 4.521 hypervolume: 2.25\n",
      "n_samples: 17 budget used: 5.521 hypervolume: 2.25\n",
      "n_samples: 18 budget used: 5.583 hypervolume: 2.25\n",
      "n_samples: 19 budget used: 5.8 hypervolume: 2.25\n",
      "n_samples: 20 budget used: 5.8 hypervolume: 2.25\n",
      "n_samples: 21 budget used: 6.8 hypervolume: 2.25\n",
      "n_samples: 22 budget used: 6.997 hypervolume: 2.25\n",
      "n_samples: 23 budget used: 7.997 hypervolume: 2.25\n",
      "n_samples: 24 budget used: 8.003 hypervolume: 2.25\n",
      "n_samples: 25 budget used: 8.266 hypervolume: 2.25\n",
      "n_samples: 26 budget used: 8.276 hypervolume: 2.25\n",
      "n_samples: 27 budget used: 8.587 hypervolume: 2.25\n",
      "n_samples: 28 budget used: 8.824 hypervolume: 2.25\n",
      "n_samples: 29 budget used: 9.824 hypervolume: 2.25\n",
      "n_samples: 30 budget used: 9.827 hypervolume: 2.25\n",
      "n_samples: 31 budget used: 10.07 hypervolume: 2.25\n"
     ]
    }
   ],
   "source": [
    "budget = BUDGET\n",
    "while X.generator.calculate_total_cost() < budget:\n",
    "    X.step()\n",
    "    print(f\"n_samples: {len(X.data)} \"\n",
    "          f\"budget used: {X.generator.calculate_total_cost():.4} \"\n",
    "          f\"hypervolume: {X.generator.calculate_hypervolume():.4}\")"
   ]
  },
  {
   "cell_type": "markdown",
   "metadata": {
    "collapsed": false
   },
   "source": [
    "## Show results"
   ]
  },
  {
   "cell_type": "code",
   "execution_count": 4,
   "metadata": {
    "ExecuteTime": {
     "end_time": "2023-09-20T14:37:14.684015600Z",
     "start_time": "2023-09-20T14:37:14.647063400Z"
    },
    "collapsed": false,
    "execution": {
     "iopub.execute_input": "2023-10-27T19:48:14.919135Z",
     "iopub.status.busy": "2023-10-27T19:48:14.918688Z",
     "iopub.status.idle": "2023-10-27T19:48:14.935060Z",
     "shell.execute_reply": "2023-10-27T19:48:14.934532Z"
    }
   },
   "outputs": [
    {
     "data": {
      "text/html": [
       "<div>\n",
       "<style scoped>\n",
       "    .dataframe tbody tr th:only-of-type {\n",
       "        vertical-align: middle;\n",
       "    }\n",
       "\n",
       "    .dataframe tbody tr th {\n",
       "        vertical-align: top;\n",
       "    }\n",
       "\n",
       "    .dataframe thead th {\n",
       "        text-align: right;\n",
       "    }\n",
       "</style>\n",
       "<table border=\"1\" class=\"dataframe\">\n",
       "  <thead>\n",
       "    <tr style=\"text-align: right;\">\n",
       "      <th></th>\n",
       "      <th>x1</th>\n",
       "      <th>x2</th>\n",
       "      <th>s</th>\n",
       "      <th>y1</th>\n",
       "      <th>y2</th>\n",
       "      <th>c1</th>\n",
       "      <th>c2</th>\n",
       "      <th>xopt_runtime</th>\n",
       "      <th>xopt_error</th>\n",
       "    </tr>\n",
       "  </thead>\n",
       "  <tbody>\n",
       "    <tr>\n",
       "      <th>0</th>\n",
       "      <td>1.000000</td>\n",
       "      <td>0.750000</td>\n",
       "      <td>0.000000</td>\n",
       "      <td>1.000000</td>\n",
       "      <td>0.750000</td>\n",
       "      <td>0.626888</td>\n",
       "      <td>0.312500</td>\n",
       "      <td>0.000078</td>\n",
       "      <td>False</td>\n",
       "    </tr>\n",
       "    <tr>\n",
       "      <th>1</th>\n",
       "      <td>0.750000</td>\n",
       "      <td>1.000000</td>\n",
       "      <td>0.100000</td>\n",
       "      <td>0.750000</td>\n",
       "      <td>1.000000</td>\n",
       "      <td>0.626888</td>\n",
       "      <td>0.312500</td>\n",
       "      <td>0.000009</td>\n",
       "      <td>False</td>\n",
       "    </tr>\n",
       "    <tr>\n",
       "      <th>2</th>\n",
       "      <td>0.214087</td>\n",
       "      <td>1.504448</td>\n",
       "      <td>0.268182</td>\n",
       "      <td>0.214087</td>\n",
       "      <td>1.504448</td>\n",
       "      <td>1.372916</td>\n",
       "      <td>1.090662</td>\n",
       "      <td>0.000034</td>\n",
       "      <td>False</td>\n",
       "    </tr>\n",
       "    <tr>\n",
       "      <th>3</th>\n",
       "      <td>1.249864</td>\n",
       "      <td>3.069745</td>\n",
       "      <td>0.224633</td>\n",
       "      <td>1.249864</td>\n",
       "      <td>3.069745</td>\n",
       "      <td>9.885959</td>\n",
       "      <td>7.165884</td>\n",
       "      <td>0.000033</td>\n",
       "      <td>False</td>\n",
       "    </tr>\n",
       "    <tr>\n",
       "      <th>4</th>\n",
       "      <td>0.000000</td>\n",
       "      <td>0.844063</td>\n",
       "      <td>0.268114</td>\n",
       "      <td>0.000000</td>\n",
       "      <td>0.844063</td>\n",
       "      <td>-0.387558</td>\n",
       "      <td>0.368379</td>\n",
       "      <td>0.000035</td>\n",
       "      <td>False</td>\n",
       "    </tr>\n",
       "    <tr>\n",
       "      <th>5</th>\n",
       "      <td>0.000000</td>\n",
       "      <td>0.085270</td>\n",
       "      <td>0.268269</td>\n",
       "      <td>0.000000</td>\n",
       "      <td>0.085270</td>\n",
       "      <td>-1.092729</td>\n",
       "      <td>0.422001</td>\n",
       "      <td>0.000033</td>\n",
       "      <td>False</td>\n",
       "    </tr>\n",
       "    <tr>\n",
       "      <th>6</th>\n",
       "      <td>0.000000</td>\n",
       "      <td>0.000000</td>\n",
       "      <td>0.360761</td>\n",
       "      <td>0.000000</td>\n",
       "      <td>0.000000</td>\n",
       "      <td>-1.100000</td>\n",
       "      <td>0.500000</td>\n",
       "      <td>0.000033</td>\n",
       "      <td>False</td>\n",
       "    </tr>\n",
       "    <tr>\n",
       "      <th>7</th>\n",
       "      <td>0.302109</td>\n",
       "      <td>0.000000</td>\n",
       "      <td>0.430373</td>\n",
       "      <td>0.302109</td>\n",
       "      <td>0.000000</td>\n",
       "      <td>-1.008730</td>\n",
       "      <td>0.289161</td>\n",
       "      <td>0.000033</td>\n",
       "      <td>False</td>\n",
       "    </tr>\n",
       "    <tr>\n",
       "      <th>8</th>\n",
       "      <td>0.000000</td>\n",
       "      <td>0.000000</td>\n",
       "      <td>0.509526</td>\n",
       "      <td>0.000000</td>\n",
       "      <td>0.000000</td>\n",
       "      <td>-1.100000</td>\n",
       "      <td>0.500000</td>\n",
       "      <td>0.000053</td>\n",
       "      <td>False</td>\n",
       "    </tr>\n",
       "    <tr>\n",
       "      <th>9</th>\n",
       "      <td>0.000000</td>\n",
       "      <td>0.000000</td>\n",
       "      <td>0.610615</td>\n",
       "      <td>0.000000</td>\n",
       "      <td>0.000000</td>\n",
       "      <td>-1.100000</td>\n",
       "      <td>0.500000</td>\n",
       "      <td>0.000033</td>\n",
       "      <td>False</td>\n",
       "    </tr>\n",
       "    <tr>\n",
       "      <th>10</th>\n",
       "      <td>0.000000</td>\n",
       "      <td>0.000000</td>\n",
       "      <td>0.751937</td>\n",
       "      <td>0.000000</td>\n",
       "      <td>0.000000</td>\n",
       "      <td>-1.100000</td>\n",
       "      <td>0.500000</td>\n",
       "      <td>0.000031</td>\n",
       "      <td>False</td>\n",
       "    </tr>\n",
       "    <tr>\n",
       "      <th>11</th>\n",
       "      <td>0.000000</td>\n",
       "      <td>0.000000</td>\n",
       "      <td>0.922544</td>\n",
       "      <td>0.000000</td>\n",
       "      <td>0.000000</td>\n",
       "      <td>-1.100000</td>\n",
       "      <td>0.500000</td>\n",
       "      <td>0.000033</td>\n",
       "      <td>False</td>\n",
       "    </tr>\n",
       "    <tr>\n",
       "      <th>12</th>\n",
       "      <td>0.000000</td>\n",
       "      <td>0.000000</td>\n",
       "      <td>1.000000</td>\n",
       "      <td>0.000000</td>\n",
       "      <td>0.000000</td>\n",
       "      <td>-1.100000</td>\n",
       "      <td>0.500000</td>\n",
       "      <td>0.000031</td>\n",
       "      <td>False</td>\n",
       "    </tr>\n",
       "    <tr>\n",
       "      <th>13</th>\n",
       "      <td>0.588211</td>\n",
       "      <td>0.000000</td>\n",
       "      <td>1.000000</td>\n",
       "      <td>0.588211</td>\n",
       "      <td>0.000000</td>\n",
       "      <td>-0.754008</td>\n",
       "      <td>0.257781</td>\n",
       "      <td>0.000038</td>\n",
       "      <td>False</td>\n",
       "    </tr>\n",
       "    <tr>\n",
       "      <th>14</th>\n",
       "      <td>3.141590</td>\n",
       "      <td>0.000000</td>\n",
       "      <td>0.268270</td>\n",
       "      <td>3.141590</td>\n",
       "      <td>0.000000</td>\n",
       "      <td>8.769588</td>\n",
       "      <td>7.227998</td>\n",
       "      <td>0.000034</td>\n",
       "      <td>False</td>\n",
       "    </tr>\n",
       "    <tr>\n",
       "      <th>15</th>\n",
       "      <td>0.000000</td>\n",
       "      <td>0.615968</td>\n",
       "      <td>1.000000</td>\n",
       "      <td>0.000000</td>\n",
       "      <td>0.615968</td>\n",
       "      <td>-0.720584</td>\n",
       "      <td>0.263449</td>\n",
       "      <td>0.000032</td>\n",
       "      <td>False</td>\n",
       "    </tr>\n",
       "    <tr>\n",
       "      <th>16</th>\n",
       "      <td>0.266791</td>\n",
       "      <td>0.274675</td>\n",
       "      <td>1.000000</td>\n",
       "      <td>0.266791</td>\n",
       "      <td>0.274675</td>\n",
       "      <td>-0.950674</td>\n",
       "      <td>0.105158</td>\n",
       "      <td>0.000034</td>\n",
       "      <td>False</td>\n",
       "    </tr>\n",
       "    <tr>\n",
       "      <th>17</th>\n",
       "      <td>0.643697</td>\n",
       "      <td>2.840187</td>\n",
       "      <td>0.451504</td>\n",
       "      <td>0.643697</td>\n",
       "      <td>2.840187</td>\n",
       "      <td>7.572135</td>\n",
       "      <td>5.497122</td>\n",
       "      <td>0.000032</td>\n",
       "      <td>False</td>\n",
       "    </tr>\n",
       "    <tr>\n",
       "      <th>18</th>\n",
       "      <td>0.899828</td>\n",
       "      <td>0.000000</td>\n",
       "      <td>0.645828</td>\n",
       "      <td>0.899828</td>\n",
       "      <td>0.000000</td>\n",
       "      <td>-0.290309</td>\n",
       "      <td>0.409863</td>\n",
       "      <td>0.000033</td>\n",
       "      <td>False</td>\n",
       "    </tr>\n",
       "    <tr>\n",
       "      <th>19</th>\n",
       "      <td>2.294002</td>\n",
       "      <td>1.257534</td>\n",
       "      <td>0.086067</td>\n",
       "      <td>2.294002</td>\n",
       "      <td>1.257534</td>\n",
       "      <td>5.860673</td>\n",
       "      <td>3.792300</td>\n",
       "      <td>0.000035</td>\n",
       "      <td>False</td>\n",
       "    </tr>\n",
       "    <tr>\n",
       "      <th>20</th>\n",
       "      <td>0.257812</td>\n",
       "      <td>0.000000</td>\n",
       "      <td>1.000000</td>\n",
       "      <td>0.257812</td>\n",
       "      <td>0.000000</td>\n",
       "      <td>-1.033533</td>\n",
       "      <td>0.308655</td>\n",
       "      <td>0.000033</td>\n",
       "      <td>False</td>\n",
       "    </tr>\n",
       "    <tr>\n",
       "      <th>21</th>\n",
       "      <td>0.000000</td>\n",
       "      <td>0.626710</td>\n",
       "      <td>0.629168</td>\n",
       "      <td>0.000000</td>\n",
       "      <td>0.626710</td>\n",
       "      <td>-0.707235</td>\n",
       "      <td>0.266055</td>\n",
       "      <td>0.000032</td>\n",
       "      <td>False</td>\n",
       "    </tr>\n",
       "    <tr>\n",
       "      <th>22</th>\n",
       "      <td>0.000000</td>\n",
       "      <td>1.177038</td>\n",
       "      <td>1.000000</td>\n",
       "      <td>0.000000</td>\n",
       "      <td>1.177038</td>\n",
       "      <td>0.285418</td>\n",
       "      <td>0.708380</td>\n",
       "      <td>0.000034</td>\n",
       "      <td>False</td>\n",
       "    </tr>\n",
       "    <tr>\n",
       "      <th>23</th>\n",
       "      <td>1.742312</td>\n",
       "      <td>0.752101</td>\n",
       "      <td>0.225758</td>\n",
       "      <td>1.742312</td>\n",
       "      <td>0.752101</td>\n",
       "      <td>2.504100</td>\n",
       "      <td>1.606894</td>\n",
       "      <td>0.000032</td>\n",
       "      <td>False</td>\n",
       "    </tr>\n",
       "    <tr>\n",
       "      <th>24</th>\n",
       "      <td>2.176004</td>\n",
       "      <td>1.537390</td>\n",
       "      <td>0.682909</td>\n",
       "      <td>2.176004</td>\n",
       "      <td>1.537390</td>\n",
       "      <td>6.190007</td>\n",
       "      <td>3.885168</td>\n",
       "      <td>0.000032</td>\n",
       "      <td>False</td>\n",
       "    </tr>\n",
       "    <tr>\n",
       "      <th>25</th>\n",
       "      <td>1.409737</td>\n",
       "      <td>2.588972</td>\n",
       "      <td>0.266379</td>\n",
       "      <td>1.409737</td>\n",
       "      <td>2.588972</td>\n",
       "      <td>7.702503</td>\n",
       "      <td>5.191426</td>\n",
       "      <td>0.000033</td>\n",
       "      <td>False</td>\n",
       "    </tr>\n",
       "    <tr>\n",
       "      <th>26</th>\n",
       "      <td>1.044114</td>\n",
       "      <td>1.985241</td>\n",
       "      <td>0.716448</td>\n",
       "      <td>1.044114</td>\n",
       "      <td>1.985241</td>\n",
       "      <td>4.020670</td>\n",
       "      <td>2.502001</td>\n",
       "      <td>0.000033</td>\n",
       "      <td>False</td>\n",
       "    </tr>\n",
       "    <tr>\n",
       "      <th>27</th>\n",
       "      <td>1.819001</td>\n",
       "      <td>2.577972</td>\n",
       "      <td>0.662790</td>\n",
       "      <td>1.819001</td>\n",
       "      <td>2.577972</td>\n",
       "      <td>9.046545</td>\n",
       "      <td>6.057731</td>\n",
       "      <td>0.000033</td>\n",
       "      <td>False</td>\n",
       "    </tr>\n",
       "    <tr>\n",
       "      <th>28</th>\n",
       "      <td>1.133596</td>\n",
       "      <td>0.000000</td>\n",
       "      <td>1.000000</td>\n",
       "      <td>1.133596</td>\n",
       "      <td>0.000000</td>\n",
       "      <td>0.185040</td>\n",
       "      <td>0.651444</td>\n",
       "      <td>0.000034</td>\n",
       "      <td>False</td>\n",
       "    </tr>\n",
       "    <tr>\n",
       "      <th>29</th>\n",
       "      <td>0.432448</td>\n",
       "      <td>0.695457</td>\n",
       "      <td>0.191298</td>\n",
       "      <td>0.432448</td>\n",
       "      <td>0.695457</td>\n",
       "      <td>-0.242737</td>\n",
       "      <td>0.042767</td>\n",
       "      <td>0.000033</td>\n",
       "      <td>False</td>\n",
       "    </tr>\n",
       "    <tr>\n",
       "      <th>30</th>\n",
       "      <td>2.613527</td>\n",
       "      <td>3.043752</td>\n",
       "      <td>0.667359</td>\n",
       "      <td>2.613527</td>\n",
       "      <td>3.043752</td>\n",
       "      <td>15.060062</td>\n",
       "      <td>10.937670</td>\n",
       "      <td>0.000033</td>\n",
       "      <td>False</td>\n",
       "    </tr>\n",
       "  </tbody>\n",
       "</table>\n",
       "</div>"
      ],
      "text/plain": [
       "          x1        x2         s        y1        y2         c1         c2  \\\n",
       "0   1.000000  0.750000  0.000000  1.000000  0.750000   0.626888   0.312500   \n",
       "1   0.750000  1.000000  0.100000  0.750000  1.000000   0.626888   0.312500   \n",
       "2   0.214087  1.504448  0.268182  0.214087  1.504448   1.372916   1.090662   \n",
       "3   1.249864  3.069745  0.224633  1.249864  3.069745   9.885959   7.165884   \n",
       "4   0.000000  0.844063  0.268114  0.000000  0.844063  -0.387558   0.368379   \n",
       "5   0.000000  0.085270  0.268269  0.000000  0.085270  -1.092729   0.422001   \n",
       "6   0.000000  0.000000  0.360761  0.000000  0.000000  -1.100000   0.500000   \n",
       "7   0.302109  0.000000  0.430373  0.302109  0.000000  -1.008730   0.289161   \n",
       "8   0.000000  0.000000  0.509526  0.000000  0.000000  -1.100000   0.500000   \n",
       "9   0.000000  0.000000  0.610615  0.000000  0.000000  -1.100000   0.500000   \n",
       "10  0.000000  0.000000  0.751937  0.000000  0.000000  -1.100000   0.500000   \n",
       "11  0.000000  0.000000  0.922544  0.000000  0.000000  -1.100000   0.500000   \n",
       "12  0.000000  0.000000  1.000000  0.000000  0.000000  -1.100000   0.500000   \n",
       "13  0.588211  0.000000  1.000000  0.588211  0.000000  -0.754008   0.257781   \n",
       "14  3.141590  0.000000  0.268270  3.141590  0.000000   8.769588   7.227998   \n",
       "15  0.000000  0.615968  1.000000  0.000000  0.615968  -0.720584   0.263449   \n",
       "16  0.266791  0.274675  1.000000  0.266791  0.274675  -0.950674   0.105158   \n",
       "17  0.643697  2.840187  0.451504  0.643697  2.840187   7.572135   5.497122   \n",
       "18  0.899828  0.000000  0.645828  0.899828  0.000000  -0.290309   0.409863   \n",
       "19  2.294002  1.257534  0.086067  2.294002  1.257534   5.860673   3.792300   \n",
       "20  0.257812  0.000000  1.000000  0.257812  0.000000  -1.033533   0.308655   \n",
       "21  0.000000  0.626710  0.629168  0.000000  0.626710  -0.707235   0.266055   \n",
       "22  0.000000  1.177038  1.000000  0.000000  1.177038   0.285418   0.708380   \n",
       "23  1.742312  0.752101  0.225758  1.742312  0.752101   2.504100   1.606894   \n",
       "24  2.176004  1.537390  0.682909  2.176004  1.537390   6.190007   3.885168   \n",
       "25  1.409737  2.588972  0.266379  1.409737  2.588972   7.702503   5.191426   \n",
       "26  1.044114  1.985241  0.716448  1.044114  1.985241   4.020670   2.502001   \n",
       "27  1.819001  2.577972  0.662790  1.819001  2.577972   9.046545   6.057731   \n",
       "28  1.133596  0.000000  1.000000  1.133596  0.000000   0.185040   0.651444   \n",
       "29  0.432448  0.695457  0.191298  0.432448  0.695457  -0.242737   0.042767   \n",
       "30  2.613527  3.043752  0.667359  2.613527  3.043752  15.060062  10.937670   \n",
       "\n",
       "    xopt_runtime  xopt_error  \n",
       "0       0.000078       False  \n",
       "1       0.000009       False  \n",
       "2       0.000034       False  \n",
       "3       0.000033       False  \n",
       "4       0.000035       False  \n",
       "5       0.000033       False  \n",
       "6       0.000033       False  \n",
       "7       0.000033       False  \n",
       "8       0.000053       False  \n",
       "9       0.000033       False  \n",
       "10      0.000031       False  \n",
       "11      0.000033       False  \n",
       "12      0.000031       False  \n",
       "13      0.000038       False  \n",
       "14      0.000034       False  \n",
       "15      0.000032       False  \n",
       "16      0.000034       False  \n",
       "17      0.000032       False  \n",
       "18      0.000033       False  \n",
       "19      0.000035       False  \n",
       "20      0.000033       False  \n",
       "21      0.000032       False  \n",
       "22      0.000034       False  \n",
       "23      0.000032       False  \n",
       "24      0.000032       False  \n",
       "25      0.000033       False  \n",
       "26      0.000033       False  \n",
       "27      0.000033       False  \n",
       "28      0.000034       False  \n",
       "29      0.000033       False  \n",
       "30      0.000033       False  "
      ]
     },
     "execution_count": 4,
     "metadata": {},
     "output_type": "execute_result"
    }
   ],
   "source": [
    "X.data"
   ]
  },
  {
   "cell_type": "markdown",
   "metadata": {
    "collapsed": false
   },
   "source": [
    "## Plot results\n",
    "Here we plot the resulting observations in input space, colored by feasibility\n",
    "(neglecting the fact that\n",
    "these data points are at varying fidelities).\n"
   ]
  },
  {
   "cell_type": "code",
   "execution_count": 5,
   "metadata": {
    "ExecuteTime": {
     "end_time": "2023-09-20T14:37:15.292777300Z",
     "start_time": "2023-09-20T14:37:14.679967200Z"
    },
    "collapsed": false,
    "execution": {
     "iopub.execute_input": "2023-10-27T19:48:14.938115Z",
     "iopub.status.busy": "2023-10-27T19:48:14.937678Z",
     "iopub.status.idle": "2023-10-27T19:48:15.411036Z",
     "shell.execute_reply": "2023-10-27T19:48:15.410448Z"
    }
   },
   "outputs": [
    {
     "data": {
      "image/png": "[encoded data removed]",
      "text/plain": [
       "<Figure size 640x480 with 1 Axes>"
      ]
     },
     "metadata": {},
     "output_type": "display_data"
    }
   ],
   "source": [
    "import matplotlib.pyplot as plt\n",
    "\n",
    "fig, ax = plt.subplots()\n",
    "\n",
    "theta = np.linspace(0, np.pi / 2)\n",
    "r = np.sqrt(1 + 0.1 * np.cos(16 * theta))\n",
    "x_1 = r * np.sin(theta)\n",
    "x_2_lower = r * np.cos(theta)\n",
    "x_2_upper = (0.5 - (x_1 - 0.5) ** 2) ** 0.5 + 0.5\n",
    "\n",
    "z = np.zeros_like(x_1)\n",
    "\n",
    "# ax2.plot(x_1, x_2_lower,'r')\n",
    "ax.fill_between(x_1, z, x_2_lower, fc=\"white\")\n",
    "circle = plt.Circle(\n",
    "    (0.5, 0.5), 0.5 ** 0.5, color=\"r\", alpha=0.25, zorder=0, label=\"Valid Region\"\n",
    ")\n",
    "ax.add_patch(circle)\n",
    "history = pd.concat(\n",
    "    [X.data, tnk_vocs.feasibility_data(X.data)], axis=1, ignore_index=False\n",
    ")\n",
    "\n",
    "ax.plot(*history[[\"x1\", \"x2\"]][history[\"feasible\"]].to_numpy().T, \".C1\")\n",
    "ax.plot(*history[[\"x1\", \"x2\"]][~history[\"feasible\"]].to_numpy().T, \".C2\")\n",
    "\n",
    "ax.set_xlim(0, 3.14)\n",
    "ax.set_ylim(0, 3.14)\n",
    "ax.set_xlabel(\"x1\")\n",
    "ax.set_ylabel(\"x2\")\n",
    "ax.set_aspect(\"equal\")"
   ]
  },
  {
   "cell_type": "markdown",
   "metadata": {
    "collapsed": false
   },
   "source": [
    "### Plot path through input space"
   ]
  },
  {
   "cell_type": "code",
   "execution_count": 6,
   "metadata": {
    "ExecuteTime": {
     "end_time": "2023-09-20T14:37:15.607777300Z",
     "start_time": "2023-09-20T14:37:15.288777300Z"
    },
    "collapsed": false,
    "execution": {
     "iopub.execute_input": "2023-10-27T19:48:15.414355Z",
     "iopub.status.busy": "2023-10-27T19:48:15.413772Z",
     "iopub.status.idle": "2023-10-27T19:48:15.849907Z",
     "shell.execute_reply": "2023-10-27T19:48:15.849156Z"
    }
   },
   "outputs": [
    {
     "data": {
      "image/png": "[encoded data removed]",
      "text/plain": [
       "<Figure size 640x480 with 4 Axes>"
      ]
     },
     "metadata": {},
     "output_type": "display_data"
    }
   ],
   "source": [
    "ax = history.hist([\"x1\", \"x2\", \"s\"],bins=20)"
   ]
  },
  {
   "cell_type": "code",
   "execution_count": 7,
   "metadata": {
    "ExecuteTime": {
     "end_time": "2023-09-20T14:37:15.768777Z",
     "start_time": "2023-09-20T14:37:15.606777300Z"
    },
    "collapsed": false,
    "execution": {
     "iopub.execute_input": "2023-10-27T19:48:15.852940Z",
     "iopub.status.busy": "2023-10-27T19:48:15.852700Z",
     "iopub.status.idle": "2023-10-27T19:48:16.041701Z",
     "shell.execute_reply": "2023-10-27T19:48:16.041115Z"
    }
   },
   "outputs": [
    {
     "data": {
      "text/plain": [
       "<Axes: >"
      ]
     },
     "execution_count": 7,
     "metadata": {},
     "output_type": "execute_result"
    },
    {
     "data": {
      "image/png": "[encoded data removed]",
      "text/plain": [
       "<Figure size 640x480 with 1 Axes>"
      ]
     },
     "metadata": {},
     "output_type": "display_data"
    }
   ],
   "source": [
    "history.plot(y=[\"x1\", \"x2\", \"s\"])"
   ]
  },
  {
   "cell_type": "markdown",
   "metadata": {
    "collapsed": false
   },
   "source": [
    "## Plot the acqusisition function\n",
    "Here we plot the acquisition function at a small set of fidelities $[0, 0.5, 1.0]$."
   ]
  },
  {
   "cell_type": "code",
   "execution_count": 8,
   "metadata": {
    "ExecuteTime": {
     "end_time": "2023-09-20T14:37:45.334189800Z",
     "start_time": "2023-09-20T14:37:41.203201700Z"
    },
    "collapsed": false,
    "execution": {
     "iopub.execute_input": "2023-10-27T19:48:16.045592Z",
     "iopub.status.busy": "2023-10-27T19:48:16.045362Z",
     "iopub.status.idle": "2023-10-27T19:48:32.909799Z",
     "shell.execute_reply": "2023-10-27T19:48:32.909091Z"
    }
   },
   "outputs": [
    {
     "name": "stdout",
     "output_type": "stream",
     "text": [
      "[[0.89419569 0.        ]]\n"
     ]
    },
    {
     "data": {
      "text/plain": [
       "[<matplotlib.lines.Line2D at 0x7f8358067f70>]"
      ]
     },
     "execution_count": 8,
     "metadata": {},
     "output_type": "execute_result"
    },
    {
     "data": {
      "image/png": "[encoded data removed]",
      "text/plain": [
       "<Figure size 640x480 with 2 Axes>"
      ]
     },
     "metadata": {},
     "output_type": "display_data"
    },
    {
     "data": {
      "image/png": "[encoded data removed]",
      "text/plain": [
       "<Figure size 640x480 with 2 Axes>"
      ]
     },
     "metadata": {},
     "output_type": "display_data"
    },
    {
     "data": {
      "image/png": "[encoded data removed]",
      "text/plain": [
       "<Figure size 640x480 with 2 Axes>"
      ]
     },
     "metadata": {},
     "output_type": "display_data"
    }
   ],
   "source": [
    "# plot the acquisition function\n",
    "\n",
    "bounds = X.generator.vocs.bounds\n",
    "model = X.generator.model\n",
    "\n",
    "# create mesh over non-fidelity parameters\n",
    "n = 50\n",
    "x = torch.linspace(*bounds.T[1], n)\n",
    "y = torch.linspace(*bounds.T[2], n)\n",
    "xx, yy = torch.meshgrid(x, y)\n",
    "\n",
    "# plot function(s) at a single fidelity parameter\n",
    "fidelities = [0.0, 0.5, 1.0]\n",
    "for fidelity in fidelities:\n",
    "    pts = torch.hstack([ele.reshape(-1, 1) for ele in (xx, yy)]).double()\n",
    "    pts = torch.cat((torch.ones(pts.shape[0],1)*fidelity, pts), dim=-1)\n",
    "\n",
    "    acq_func = X.generator.get_acquisition(model)\n",
    "    with torch.no_grad():\n",
    "        acq_pts = pts.unsqueeze(1)\n",
    "        acq = acq_func(acq_pts)\n",
    "\n",
    "        fig, ax = plt.subplots()\n",
    "\n",
    "        xxn, yyn = xx.numpy(), yy.numpy()\n",
    "\n",
    "        c = ax.pcolor(xxn, yyn, acq.reshape(n, n), cmap=\"Blues\")\n",
    "        fig.colorbar(c)\n",
    "        ax.set_title(f\"Acquisition function - s: {fidelity}\")\n",
    "\n",
    "        ax.plot(*history[[\"x1\", \"x2\"]][history[\"feasible\"]].to_numpy().T, \".C1\")\n",
    "        ax.plot(*history[[\"x1\", \"x2\"]][~history[\"feasible\"]].to_numpy().T, \".C2\")\n",
    "\n",
    "        ax.plot(*history[[\"x1\", \"x2\"]].to_numpy()[-1].T, \"+\")\n",
    "\n",
    "\n",
    "candidate = pd.DataFrame(X.generator.generate(1), index=[0])\n",
    "print(candidate[[\"x1\", \"x2\"]].to_numpy())\n",
    "ax.plot(*candidate[[\"x1\", \"x2\"]].to_numpy()[0], \"o\")"
   ]
  },
  {
   "cell_type": "code",
   "execution_count": 9,
   "metadata": {
    "ExecuteTime": {
     "start_time": "2023-09-20T14:37:17.294215100Z"
    },
    "collapsed": false,
    "execution": {
     "iopub.execute_input": "2023-10-27T19:48:32.913329Z",
     "iopub.status.busy": "2023-10-27T19:48:32.912694Z",
     "iopub.status.idle": "2023-10-27T19:48:32.919999Z",
     "shell.execute_reply": "2023-10-27T19:48:32.919457Z"
    }
   },
   "outputs": [
    {
     "data": {
      "text/plain": [
       "[('likelihood.noise_covar.raw_noise',\n",
       "  Parameter containing:\n",
       "  tensor([-25.0446], dtype=torch.float64, requires_grad=True)),\n",
       " ('mean_module.raw_constant',\n",
       "  Parameter containing:\n",
       "  tensor(-0.1277, dtype=torch.float64, requires_grad=True)),\n",
       " ('covar_module.raw_outputscale',\n",
       "  Parameter containing:\n",
       "  tensor(-0.0668, dtype=torch.float64, requires_grad=True)),\n",
       " ('covar_module.base_kernel.raw_lengthscale',\n",
       "  Parameter containing:\n",
       "  tensor([[0.5814, 1.9480, 2.1580]], dtype=torch.float64, requires_grad=True))]"
      ]
     },
     "execution_count": 9,
     "metadata": {},
     "output_type": "execute_result"
    }
   ],
   "source": [
    "# examine lengthscale of the first objective\n",
    "list(model.models[0].named_parameters())"
   ]
  }
 ],
 "metadata": {
  "interpreter": {
   "hash": "72034539424920dfb606fe3b820b3f27dca0cbf1c69938110810ec4641e275b1"
  },
  "kernelspec": {
   "display_name": "Python 3 (ipykernel)",
   "language": "python",
   "name": "python3"
  },
  "language_info": {
   "codemirror_mode": {
    "name": "ipython",
    "version": 3
   },
   "file_extension": ".py",
   "mimetype": "text/x-python",
   "name": "python",
   "nbconvert_exporter": "python",
   "pygments_lexer": "ipython3",
   "version": "3.9.18"
  }
 },
 "nbformat": 4,
 "nbformat_minor": 4
}
