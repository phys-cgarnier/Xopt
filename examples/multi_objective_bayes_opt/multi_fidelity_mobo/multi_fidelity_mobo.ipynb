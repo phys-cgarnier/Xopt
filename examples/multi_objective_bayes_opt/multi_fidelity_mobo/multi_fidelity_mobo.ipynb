{
 "cells": [
  {
   "cell_type": "markdown",
   "metadata": {},
   "source": [
    "# Multi-fidelity Multi-objective Bayesian Optimization\n",
    "\n",
    "Here we attempt to solve for the constrained Pareto front of the TNK multi-objective\n",
    "optimization problem using Multi-Fidelity Multi-Objective Bayesian optimization. For\n",
    "simplicity we assume that the objective and constraint functions at lower fidelities is\n",
    "exactly equal to the functions at higher fidelities (this is obviously not a\n",
    "requirement, although for the best results lower fidelity calculations should\n",
    "correlate with higher fidelity ones). The algorithm should learn this relationship\n",
    "and use information gathered at lower fidelities to gather samples to improve the\n",
    "hypervolume of the Pareto front at the maximum fidelity.\n",
    "\n",
    "TNK function\n",
    "$n=2$ variables:\n",
    "$x_i \\in [0, \\pi], i=1,2$\n",
    "\n",
    "Objectives:\n",
    "- $f_i(x) = x_i$\n",
    "\n",
    "Constraints:\n",
    "- $g_1(x) = -x_1^2 -x_2^2 + 1 + 0.1 \\cos\\left(16 \\arctan \\frac{x_1}{x_2}\\right) \\le 0$\n",
    "- $g_2(x) = (x_1 - 1/2)^2 + (x_2-1/2)^2 \\le 0.5$"
   ]
  },
  {
   "cell_type": "code",
   "execution_count": 1,
   "metadata": {
    "collapsed": false,
    "execution": {
     "iopub.execute_input": "2023-07-27T16:34:07.976923Z",
     "iopub.status.busy": "2023-07-27T16:34:07.976440Z",
     "iopub.status.idle": "2023-07-27T16:34:11.281684Z",
     "shell.execute_reply": "2023-07-27T16:34:11.280567Z"
    }
   },
   "outputs": [
    {
     "name": "stdout",
     "output_type": "stream",
     "text": [
      "{'variables': {'x1': [0.0, 3.14159], 'x2': [0.0, 3.14159]}, 'constraints': {'c1': ['GREATER_THAN', 0.0], 'c2': ['LESS_THAN', 0.5]}, 'objectives': {'y1': 'MINIMIZE', 'y2': 'MINIMIZE'}, 'constants': {'a': 'dummy_constant'}, 'observables': []}\n"
     ]
    }
   ],
   "source": [
    "# set values if testing\n",
    "import os\n",
    "SMOKE_TEST = os.environ.get(\"SMOKE_TEST\")\n",
    "N_MC_SAMPLES = 1 if SMOKE_TEST else 128\n",
    "NUM_RESTARTS = 1 if SMOKE_TEST else 20\n",
    "BUDGET = 0.02 if SMOKE_TEST else 10\n",
    "\n",
    "# Ignore all warnings\n",
    "import warnings\n",
    "warnings.filterwarnings(\"ignore\")\n",
    "\n",
    "import pandas as pd\n",
    "import numpy as np\n",
    "import torch\n",
    "\n",
    "from xopt import Xopt, Evaluator\n",
    "from xopt.generators.bayesian import MultiFidelityGenerator\n",
    "from xopt.resources.test_functions.tnk import evaluate_TNK, tnk_vocs\n",
    "\n",
    "evaluator = Evaluator(function=evaluate_TNK)\n",
    "print(tnk_vocs.dict())"
   ]
  },
  {
   "cell_type": "markdown",
   "metadata": {
    "collapsed": false
   },
   "source": [
    "## Set up the Multi-Fidelity Multi-objective optimization algorithm\n",
    "Here we create the Multi-Fidelity generator object which can solve both single and\n",
    "multi-objective optimization problems depending on the number of objectives in VOCS.\n",
    "We specify a cost function as a function of fidelity parameter $s=[0,1]$ as $C(s) =\n",
    "s^{3.5}$ as an example from a real life multi-fidelity simulation problem."
   ]
  },
  {
   "cell_type": "code",
   "execution_count": 2,
   "metadata": {
    "collapsed": false,
    "execution": {
     "iopub.execute_input": "2023-07-27T16:34:11.328870Z",
     "iopub.status.busy": "2023-07-27T16:34:11.327670Z",
     "iopub.status.idle": "2023-07-27T16:34:11.362280Z",
     "shell.execute_reply": "2023-07-27T16:34:11.361084Z"
    }
   },
   "outputs": [
    {
     "data": {
      "text/plain": [
       "\n",
       "            Xopt\n",
       "________________________________\n",
       "Version: 0+untagged.1.g5bf8d78\n",
       "Data size: 2\n",
       "Config as YAML:\n",
       "xopt: {asynch: false, strict: true, dump_file: null, max_evaluations: null}\n",
       "generator:\n",
       "  name: multi_fidelity\n",
       "  model: null\n",
       "  turbo_controller: null\n",
       "  use_cuda: false\n",
       "  model_constructor:\n",
       "    name: standard\n",
       "    use_low_noise_prior: true\n",
       "    covar_modules: {}\n",
       "    mean_modules: {}\n",
       "    trainable_mean_keys: []\n",
       "  numerical_optimizer: {name: LBFGS, n_raw_samples: 20, n_restarts: 20, max_iter: 2000}\n",
       "  max_travel_distances: null\n",
       "  fixed_features: null\n",
       "  n_monte_carlo_samples: 128\n",
       "  reference_point: {y1: 1.5, y2: 1.5, s: 0.0}\n",
       "  fidelity_parameter: s\n",
       "  cost_function: __main__.<lambda>\n",
       "evaluator:\n",
       "  function: xopt.resources.test_functions.tnk.evaluate_TNK\n",
       "  max_workers: 1\n",
       "  function_kwargs: {sleep: 0, random_sleep: 0, raise_probability: 0}\n",
       "  vectorized: false\n",
       "vocs:\n",
       "  variables:\n",
       "    x1: [0.0, 3.14159]\n",
       "    x2: [0.0, 3.14159]\n",
       "    s: [0, 1]\n",
       "  constraints: {}\n",
       "  objectives: {y1: MINIMIZE, y2: MINIMIZE, s: MAXIMIZE}\n",
       "  constants: {a: dummy_constant}\n",
       "  observables: []\n"
      ]
     },
     "execution_count": 2,
     "metadata": {},
     "output_type": "execute_result"
    }
   ],
   "source": [
    "from copy import deepcopy\n",
    "my_vocs = deepcopy(tnk_vocs)\n",
    "my_vocs.constraints = {}\n",
    "generator = MultiFidelityGenerator(vocs=my_vocs, reference_point = {\"y1\":1.5,\"y2\":1.5})\n",
    "\n",
    "# set cost function according to approximate scaling of laser plasma accelerator\n",
    "# problem, see https://journals.aps.org/prresearch/abstract/10.1103/PhysRevResearch.5.013063\n",
    "generator.cost_function = lambda s: s**3.5\n",
    "generator.numerical_optimizer.n_restarts = NUM_RESTARTS\n",
    "generator.n_monte_carlo_samples = N_MC_SAMPLES\n",
    "\n",
    "X = Xopt(generator=generator, evaluator=evaluator, vocs=my_vocs)\n",
    "\n",
    "# evaluate at some explicit initial points\n",
    "X.evaluate_data(pd.DataFrame({\"x1\":[1.0, 0.75],\"x2\":[0.75, 1.0],\"s\":[0.0,0.1]}))\n",
    "\n",
    "X"
   ]
  },
  {
   "cell_type": "markdown",
   "metadata": {
    "collapsed": false
   },
   "source": [
    "## Run optimization routine\n",
    "Instead of ending the optimization routine after an explict number of samples we end\n",
    "optimization once a given optimization budget has been exceeded. WARNING: This will\n",
    "slightly exceed the given budget"
   ]
  },
  {
   "cell_type": "code",
   "execution_count": 3,
   "metadata": {
    "collapsed": false,
    "execution": {
     "iopub.execute_input": "2023-07-27T16:34:11.366880Z",
     "iopub.status.busy": "2023-07-27T16:34:11.366610Z",
     "iopub.status.idle": "2023-07-27T16:36:44.459049Z",
     "shell.execute_reply": "2023-07-27T16:36:44.458301Z"
    }
   },
   "outputs": [
    {
     "name": "stdout",
     "output_type": "stream",
     "text": [
      "n_samples: 3 budget used: 0.007599 hypervolume: 0.0375\n",
      "n_samples: 4 budget used: 0.0176 hypervolume: 0.5268\n",
      "n_samples: 5 budget used: 0.01898 hypervolume: 0.5705\n",
      "n_samples: 6 budget used: 0.04019 hypervolume: 0.7483\n",
      "n_samples: 7 budget used: 0.09641 hypervolume: 0.9886\n",
      "n_samples: 8 budget used: 0.2062 hypervolume: 1.197\n",
      "n_samples: 9 budget used: 0.2164 hypervolume: 1.197\n",
      "n_samples: 10 budget used: 0.4559 hypervolume: 1.496\n",
      "n_samples: 11 budget used: 0.9937 hypervolume: 1.885\n",
      "n_samples: 12 budget used: 1.994 hypervolume: 2.25\n",
      "n_samples: 13 budget used: 2.994 hypervolume: 2.25\n",
      "n_samples: 14 budget used: 3.994 hypervolume: 2.25\n",
      "n_samples: 15 budget used: 4.04 hypervolume: 2.25\n",
      "n_samples: 16 budget used: 4.086 hypervolume: 2.25\n",
      "n_samples: 17 budget used: 5.086 hypervolume: 2.25\n",
      "n_samples: 18 budget used: 6.086 hypervolume: 2.25\n",
      "n_samples: 19 budget used: 6.418 hypervolume: 2.25\n",
      "n_samples: 20 budget used: 6.633 hypervolume: 2.25\n",
      "n_samples: 21 budget used: 6.633 hypervolume: 2.25\n",
      "n_samples: 22 budget used: 6.638 hypervolume: 2.25\n",
      "n_samples: 23 budget used: 7.467 hypervolume: 2.25\n",
      "n_samples: 24 budget used: 7.467 hypervolume: 2.25\n",
      "n_samples: 25 budget used: 8.242 hypervolume: 2.25\n",
      "n_samples: 26 budget used: 8.247 hypervolume: 2.25\n",
      "n_samples: 27 budget used: 9.247 hypervolume: 2.25\n",
      "n_samples: 28 budget used: 9.271 hypervolume: 2.25\n",
      "n_samples: 29 budget used: 9.343 hypervolume: 2.25\n",
      "n_samples: 30 budget used: 10.34 hypervolume: 2.25\n"
     ]
    }
   ],
   "source": [
    "budget = BUDGET\n",
    "while X.generator.calculate_total_cost() < budget:\n",
    "    X.step()\n",
    "    print(f\"n_samples: {len(X.data)} \"\n",
    "          f\"budget used: {X.generator.calculate_total_cost():.4} \"\n",
    "          f\"hypervolume: {X.generator.calculate_hypervolume():.4}\")"
   ]
  },
  {
   "cell_type": "markdown",
   "metadata": {
    "collapsed": false
   },
   "source": [
    "## Show results"
   ]
  },
  {
   "cell_type": "code",
   "execution_count": 4,
   "metadata": {
    "collapsed": false,
    "execution": {
     "iopub.execute_input": "2023-07-27T16:36:44.463683Z",
     "iopub.status.busy": "2023-07-27T16:36:44.462135Z",
     "iopub.status.idle": "2023-07-27T16:36:44.494991Z",
     "shell.execute_reply": "2023-07-27T16:36:44.493999Z"
    }
   },
   "outputs": [
    {
     "data": {
      "text/html": [
       "<div>\n",
       "<style scoped>\n",
       "    .dataframe tbody tr th:only-of-type {\n",
       "        vertical-align: middle;\n",
       "    }\n",
       "\n",
       "    .dataframe tbody tr th {\n",
       "        vertical-align: top;\n",
       "    }\n",
       "\n",
       "    .dataframe thead th {\n",
       "        text-align: right;\n",
       "    }\n",
       "</style>\n",
       "<table border=\"1\" class=\"dataframe\">\n",
       "  <thead>\n",
       "    <tr style=\"text-align: right;\">\n",
       "      <th></th>\n",
       "      <th>x1</th>\n",
       "      <th>x2</th>\n",
       "      <th>s</th>\n",
       "      <th>y1</th>\n",
       "      <th>y2</th>\n",
       "      <th>c1</th>\n",
       "      <th>c2</th>\n",
       "      <th>some_array</th>\n",
       "      <th>xopt_runtime</th>\n",
       "      <th>xopt_error</th>\n",
       "      <th>a</th>\n",
       "    </tr>\n",
       "  </thead>\n",
       "  <tbody>\n",
       "    <tr>\n",
       "      <th>1</th>\n",
       "      <td>1.000000</td>\n",
       "      <td>0.750000</td>\n",
       "      <td>0.000000</td>\n",
       "      <td>1.000000</td>\n",
       "      <td>0.750000</td>\n",
       "      <td>0.626888</td>\n",
       "      <td>0.312500</td>\n",
       "      <td>[1, 2, 3]</td>\n",
       "      <td>0.000077</td>\n",
       "      <td>False</td>\n",
       "      <td>NaN</td>\n",
       "    </tr>\n",
       "    <tr>\n",
       "      <th>2</th>\n",
       "      <td>0.750000</td>\n",
       "      <td>1.000000</td>\n",
       "      <td>0.100000</td>\n",
       "      <td>0.750000</td>\n",
       "      <td>1.000000</td>\n",
       "      <td>0.626888</td>\n",
       "      <td>0.312500</td>\n",
       "      <td>[1, 2, 3]</td>\n",
       "      <td>0.000030</td>\n",
       "      <td>False</td>\n",
       "      <td>NaN</td>\n",
       "    </tr>\n",
       "    <tr>\n",
       "      <th>3</th>\n",
       "      <td>0.607328</td>\n",
       "      <td>2.267304</td>\n",
       "      <td>0.245031</td>\n",
       "      <td>0.607328</td>\n",
       "      <td>2.267304</td>\n",
       "      <td>4.559627</td>\n",
       "      <td>3.134884</td>\n",
       "      <td>[1, 2, 3]</td>\n",
       "      <td>0.000036</td>\n",
       "      <td>False</td>\n",
       "      <td>dummy_constant</td>\n",
       "    </tr>\n",
       "    <tr>\n",
       "      <th>4</th>\n",
       "      <td>0.096844</td>\n",
       "      <td>0.100400</td>\n",
       "      <td>0.268269</td>\n",
       "      <td>0.096844</td>\n",
       "      <td>0.100400</td>\n",
       "      <td>-1.076411</td>\n",
       "      <td>0.322215</td>\n",
       "      <td>[1, 2, 3]</td>\n",
       "      <td>0.000040</td>\n",
       "      <td>False</td>\n",
       "      <td>dummy_constant</td>\n",
       "    </tr>\n",
       "    <tr>\n",
       "      <th>5</th>\n",
       "      <td>0.000000</td>\n",
       "      <td>0.000000</td>\n",
       "      <td>0.152425</td>\n",
       "      <td>0.000000</td>\n",
       "      <td>0.000000</td>\n",
       "      <td>-1.100000</td>\n",
       "      <td>0.500000</td>\n",
       "      <td>[1, 2, 3]</td>\n",
       "      <td>0.000032</td>\n",
       "      <td>False</td>\n",
       "      <td>dummy_constant</td>\n",
       "    </tr>\n",
       "    <tr>\n",
       "      <th>6</th>\n",
       "      <td>0.000000</td>\n",
       "      <td>0.000000</td>\n",
       "      <td>0.332558</td>\n",
       "      <td>0.000000</td>\n",
       "      <td>0.000000</td>\n",
       "      <td>-1.100000</td>\n",
       "      <td>0.500000</td>\n",
       "      <td>[1, 2, 3]</td>\n",
       "      <td>0.000037</td>\n",
       "      <td>False</td>\n",
       "      <td>dummy_constant</td>\n",
       "    </tr>\n",
       "    <tr>\n",
       "      <th>7</th>\n",
       "      <td>0.000000</td>\n",
       "      <td>0.000000</td>\n",
       "      <td>0.439358</td>\n",
       "      <td>0.000000</td>\n",
       "      <td>0.000000</td>\n",
       "      <td>-1.100000</td>\n",
       "      <td>0.500000</td>\n",
       "      <td>[1, 2, 3]</td>\n",
       "      <td>0.000039</td>\n",
       "      <td>False</td>\n",
       "      <td>dummy_constant</td>\n",
       "    </tr>\n",
       "    <tr>\n",
       "      <th>8</th>\n",
       "      <td>0.000000</td>\n",
       "      <td>0.000000</td>\n",
       "      <td>0.532026</td>\n",
       "      <td>0.000000</td>\n",
       "      <td>0.000000</td>\n",
       "      <td>-1.100000</td>\n",
       "      <td>0.500000</td>\n",
       "      <td>[1, 2, 3]</td>\n",
       "      <td>0.000038</td>\n",
       "      <td>False</td>\n",
       "      <td>dummy_constant</td>\n",
       "    </tr>\n",
       "    <tr>\n",
       "      <th>9</th>\n",
       "      <td>3.141590</td>\n",
       "      <td>0.000000</td>\n",
       "      <td>0.269221</td>\n",
       "      <td>3.141590</td>\n",
       "      <td>0.000000</td>\n",
       "      <td>8.769588</td>\n",
       "      <td>7.227998</td>\n",
       "      <td>[1, 2, 3]</td>\n",
       "      <td>0.000057</td>\n",
       "      <td>False</td>\n",
       "      <td>dummy_constant</td>\n",
       "    </tr>\n",
       "    <tr>\n",
       "      <th>10</th>\n",
       "      <td>0.000000</td>\n",
       "      <td>0.000000</td>\n",
       "      <td>0.664775</td>\n",
       "      <td>0.000000</td>\n",
       "      <td>0.000000</td>\n",
       "      <td>-1.100000</td>\n",
       "      <td>0.500000</td>\n",
       "      <td>[1, 2, 3]</td>\n",
       "      <td>0.000038</td>\n",
       "      <td>False</td>\n",
       "      <td>dummy_constant</td>\n",
       "    </tr>\n",
       "    <tr>\n",
       "      <th>11</th>\n",
       "      <td>0.000000</td>\n",
       "      <td>0.000000</td>\n",
       "      <td>0.837573</td>\n",
       "      <td>0.000000</td>\n",
       "      <td>0.000000</td>\n",
       "      <td>-1.100000</td>\n",
       "      <td>0.500000</td>\n",
       "      <td>[1, 2, 3]</td>\n",
       "      <td>0.000056</td>\n",
       "      <td>False</td>\n",
       "      <td>dummy_constant</td>\n",
       "    </tr>\n",
       "    <tr>\n",
       "      <th>12</th>\n",
       "      <td>0.000000</td>\n",
       "      <td>0.000000</td>\n",
       "      <td>1.000000</td>\n",
       "      <td>0.000000</td>\n",
       "      <td>0.000000</td>\n",
       "      <td>-1.100000</td>\n",
       "      <td>0.500000</td>\n",
       "      <td>[1, 2, 3]</td>\n",
       "      <td>0.000039</td>\n",
       "      <td>False</td>\n",
       "      <td>dummy_constant</td>\n",
       "    </tr>\n",
       "    <tr>\n",
       "      <th>13</th>\n",
       "      <td>0.536031</td>\n",
       "      <td>0.000000</td>\n",
       "      <td>1.000000</td>\n",
       "      <td>0.536031</td>\n",
       "      <td>0.000000</td>\n",
       "      <td>-0.812671</td>\n",
       "      <td>0.251298</td>\n",
       "      <td>[1, 2, 3]</td>\n",
       "      <td>0.000065</td>\n",
       "      <td>False</td>\n",
       "      <td>dummy_constant</td>\n",
       "    </tr>\n",
       "    <tr>\n",
       "      <th>14</th>\n",
       "      <td>0.000000</td>\n",
       "      <td>0.541145</td>\n",
       "      <td>1.000000</td>\n",
       "      <td>0.000000</td>\n",
       "      <td>0.541145</td>\n",
       "      <td>-0.807162</td>\n",
       "      <td>0.251693</td>\n",
       "      <td>[1, 2, 3]</td>\n",
       "      <td>0.000054</td>\n",
       "      <td>False</td>\n",
       "      <td>dummy_constant</td>\n",
       "    </tr>\n",
       "    <tr>\n",
       "      <th>15</th>\n",
       "      <td>0.000000</td>\n",
       "      <td>0.572732</td>\n",
       "      <td>0.416461</td>\n",
       "      <td>0.000000</td>\n",
       "      <td>0.572732</td>\n",
       "      <td>-0.771978</td>\n",
       "      <td>0.255290</td>\n",
       "      <td>[1, 2, 3]</td>\n",
       "      <td>0.000037</td>\n",
       "      <td>False</td>\n",
       "      <td>dummy_constant</td>\n",
       "    </tr>\n",
       "    <tr>\n",
       "      <th>16</th>\n",
       "      <td>0.680609</td>\n",
       "      <td>0.000000</td>\n",
       "      <td>0.414330</td>\n",
       "      <td>0.680609</td>\n",
       "      <td>0.000000</td>\n",
       "      <td>-0.636772</td>\n",
       "      <td>0.282620</td>\n",
       "      <td>[1, 2, 3]</td>\n",
       "      <td>0.000039</td>\n",
       "      <td>False</td>\n",
       "      <td>dummy_constant</td>\n",
       "    </tr>\n",
       "    <tr>\n",
       "      <th>17</th>\n",
       "      <td>0.242196</td>\n",
       "      <td>0.244809</td>\n",
       "      <td>1.000000</td>\n",
       "      <td>0.242196</td>\n",
       "      <td>0.244809</td>\n",
       "      <td>-0.981041</td>\n",
       "      <td>0.131585</td>\n",
       "      <td>[1, 2, 3]</td>\n",
       "      <td>0.000042</td>\n",
       "      <td>False</td>\n",
       "      <td>dummy_constant</td>\n",
       "    </tr>\n",
       "    <tr>\n",
       "      <th>18</th>\n",
       "      <td>1.088138</td>\n",
       "      <td>0.000000</td>\n",
       "      <td>1.000000</td>\n",
       "      <td>1.088138</td>\n",
       "      <td>0.000000</td>\n",
       "      <td>0.084044</td>\n",
       "      <td>0.595906</td>\n",
       "      <td>[1, 2, 3]</td>\n",
       "      <td>0.000041</td>\n",
       "      <td>False</td>\n",
       "      <td>dummy_constant</td>\n",
       "    </tr>\n",
       "    <tr>\n",
       "      <th>19</th>\n",
       "      <td>0.000000</td>\n",
       "      <td>0.939344</td>\n",
       "      <td>0.729641</td>\n",
       "      <td>0.000000</td>\n",
       "      <td>0.939344</td>\n",
       "      <td>-0.217632</td>\n",
       "      <td>0.443024</td>\n",
       "      <td>[1, 2, 3]</td>\n",
       "      <td>0.000038</td>\n",
       "      <td>False</td>\n",
       "      <td>dummy_constant</td>\n",
       "    </tr>\n",
       "    <tr>\n",
       "      <th>20</th>\n",
       "      <td>0.931586</td>\n",
       "      <td>0.000000</td>\n",
       "      <td>0.644333</td>\n",
       "      <td>0.931586</td>\n",
       "      <td>0.000000</td>\n",
       "      <td>-0.232148</td>\n",
       "      <td>0.436266</td>\n",
       "      <td>[1, 2, 3]</td>\n",
       "      <td>0.000037</td>\n",
       "      <td>False</td>\n",
       "      <td>dummy_constant</td>\n",
       "    </tr>\n",
       "    <tr>\n",
       "      <th>21</th>\n",
       "      <td>0.000000</td>\n",
       "      <td>0.000000</td>\n",
       "      <td>0.051675</td>\n",
       "      <td>0.000000</td>\n",
       "      <td>0.000000</td>\n",
       "      <td>-1.100000</td>\n",
       "      <td>0.500000</td>\n",
       "      <td>[1, 2, 3]</td>\n",
       "      <td>0.000058</td>\n",
       "      <td>False</td>\n",
       "      <td>dummy_constant</td>\n",
       "    </tr>\n",
       "    <tr>\n",
       "      <th>22</th>\n",
       "      <td>1.607493</td>\n",
       "      <td>1.630443</td>\n",
       "      <td>0.219234</td>\n",
       "      <td>1.607493</td>\n",
       "      <td>1.630443</td>\n",
       "      <td>4.143021</td>\n",
       "      <td>2.504442</td>\n",
       "      <td>[1, 2, 3]</td>\n",
       "      <td>0.000071</td>\n",
       "      <td>False</td>\n",
       "      <td>dummy_constant</td>\n",
       "    </tr>\n",
       "    <tr>\n",
       "      <th>23</th>\n",
       "      <td>1.726123</td>\n",
       "      <td>1.117419</td>\n",
       "      <td>0.947940</td>\n",
       "      <td>1.726123</td>\n",
       "      <td>1.117419</td>\n",
       "      <td>3.325437</td>\n",
       "      <td>1.884585</td>\n",
       "      <td>[1, 2, 3]</td>\n",
       "      <td>0.000047</td>\n",
       "      <td>False</td>\n",
       "      <td>dummy_constant</td>\n",
       "    </tr>\n",
       "    <tr>\n",
       "      <th>24</th>\n",
       "      <td>1.028593</td>\n",
       "      <td>1.859861</td>\n",
       "      <td>0.053541</td>\n",
       "      <td>1.028593</td>\n",
       "      <td>1.859861</td>\n",
       "      <td>3.539777</td>\n",
       "      <td>2.128632</td>\n",
       "      <td>[1, 2, 3]</td>\n",
       "      <td>0.000038</td>\n",
       "      <td>False</td>\n",
       "      <td>dummy_constant</td>\n",
       "    </tr>\n",
       "    <tr>\n",
       "      <th>25</th>\n",
       "      <td>2.590069</td>\n",
       "      <td>2.153482</td>\n",
       "      <td>0.929718</td>\n",
       "      <td>2.590069</td>\n",
       "      <td>2.153482</td>\n",
       "      <td>10.335726</td>\n",
       "      <td>7.102390</td>\n",
       "      <td>[1, 2, 3]</td>\n",
       "      <td>0.000056</td>\n",
       "      <td>False</td>\n",
       "      <td>dummy_constant</td>\n",
       "    </tr>\n",
       "    <tr>\n",
       "      <th>26</th>\n",
       "      <td>0.000000</td>\n",
       "      <td>0.877358</td>\n",
       "      <td>0.216924</td>\n",
       "      <td>0.000000</td>\n",
       "      <td>0.877358</td>\n",
       "      <td>-0.330242</td>\n",
       "      <td>0.392399</td>\n",
       "      <td>[1, 2, 3]</td>\n",
       "      <td>0.000037</td>\n",
       "      <td>False</td>\n",
       "      <td>dummy_constant</td>\n",
       "    </tr>\n",
       "    <tr>\n",
       "      <th>27</th>\n",
       "      <td>0.616167</td>\n",
       "      <td>0.486231</td>\n",
       "      <td>1.000000</td>\n",
       "      <td>0.616167</td>\n",
       "      <td>0.486231</td>\n",
       "      <td>-0.353755</td>\n",
       "      <td>0.013684</td>\n",
       "      <td>[1, 2, 3]</td>\n",
       "      <td>0.000045</td>\n",
       "      <td>False</td>\n",
       "      <td>dummy_constant</td>\n",
       "    </tr>\n",
       "    <tr>\n",
       "      <th>28</th>\n",
       "      <td>0.083284</td>\n",
       "      <td>1.952613</td>\n",
       "      <td>0.344850</td>\n",
       "      <td>0.083284</td>\n",
       "      <td>1.952613</td>\n",
       "      <td>2.742004</td>\n",
       "      <td>2.283737</td>\n",
       "      <td>[1, 2, 3]</td>\n",
       "      <td>0.000040</td>\n",
       "      <td>False</td>\n",
       "      <td>dummy_constant</td>\n",
       "    </tr>\n",
       "    <tr>\n",
       "      <th>29</th>\n",
       "      <td>1.737970</td>\n",
       "      <td>1.966700</td>\n",
       "      <td>0.471885</td>\n",
       "      <td>1.737970</td>\n",
       "      <td>1.966700</td>\n",
       "      <td>5.833295</td>\n",
       "      <td>3.683778</td>\n",
       "      <td>[1, 2, 3]</td>\n",
       "      <td>0.000055</td>\n",
       "      <td>False</td>\n",
       "      <td>dummy_constant</td>\n",
       "    </tr>\n",
       "    <tr>\n",
       "      <th>30</th>\n",
       "      <td>0.000000</td>\n",
       "      <td>1.124473</td>\n",
       "      <td>1.000000</td>\n",
       "      <td>0.000000</td>\n",
       "      <td>1.124473</td>\n",
       "      <td>0.164439</td>\n",
       "      <td>0.639966</td>\n",
       "      <td>[1, 2, 3]</td>\n",
       "      <td>0.000041</td>\n",
       "      <td>False</td>\n",
       "      <td>dummy_constant</td>\n",
       "    </tr>\n",
       "  </tbody>\n",
       "</table>\n",
       "</div>"
      ],
      "text/plain": [
       "          x1        x2         s        y1        y2         c1        c2  \\\n",
       "1   1.000000  0.750000  0.000000  1.000000  0.750000   0.626888  0.312500   \n",
       "2   0.750000  1.000000  0.100000  0.750000  1.000000   0.626888  0.312500   \n",
       "3   0.607328  2.267304  0.245031  0.607328  2.267304   4.559627  3.134884   \n",
       "4   0.096844  0.100400  0.268269  0.096844  0.100400  -1.076411  0.322215   \n",
       "5   0.000000  0.000000  0.152425  0.000000  0.000000  -1.100000  0.500000   \n",
       "6   0.000000  0.000000  0.332558  0.000000  0.000000  -1.100000  0.500000   \n",
       "7   0.000000  0.000000  0.439358  0.000000  0.000000  -1.100000  0.500000   \n",
       "8   0.000000  0.000000  0.532026  0.000000  0.000000  -1.100000  0.500000   \n",
       "9   3.141590  0.000000  0.269221  3.141590  0.000000   8.769588  7.227998   \n",
       "10  0.000000  0.000000  0.664775  0.000000  0.000000  -1.100000  0.500000   \n",
       "11  0.000000  0.000000  0.837573  0.000000  0.000000  -1.100000  0.500000   \n",
       "12  0.000000  0.000000  1.000000  0.000000  0.000000  -1.100000  0.500000   \n",
       "13  0.536031  0.000000  1.000000  0.536031  0.000000  -0.812671  0.251298   \n",
       "14  0.000000  0.541145  1.000000  0.000000  0.541145  -0.807162  0.251693   \n",
       "15  0.000000  0.572732  0.416461  0.000000  0.572732  -0.771978  0.255290   \n",
       "16  0.680609  0.000000  0.414330  0.680609  0.000000  -0.636772  0.282620   \n",
       "17  0.242196  0.244809  1.000000  0.242196  0.244809  -0.981041  0.131585   \n",
       "18  1.088138  0.000000  1.000000  1.088138  0.000000   0.084044  0.595906   \n",
       "19  0.000000  0.939344  0.729641  0.000000  0.939344  -0.217632  0.443024   \n",
       "20  0.931586  0.000000  0.644333  0.931586  0.000000  -0.232148  0.436266   \n",
       "21  0.000000  0.000000  0.051675  0.000000  0.000000  -1.100000  0.500000   \n",
       "22  1.607493  1.630443  0.219234  1.607493  1.630443   4.143021  2.504442   \n",
       "23  1.726123  1.117419  0.947940  1.726123  1.117419   3.325437  1.884585   \n",
       "24  1.028593  1.859861  0.053541  1.028593  1.859861   3.539777  2.128632   \n",
       "25  2.590069  2.153482  0.929718  2.590069  2.153482  10.335726  7.102390   \n",
       "26  0.000000  0.877358  0.216924  0.000000  0.877358  -0.330242  0.392399   \n",
       "27  0.616167  0.486231  1.000000  0.616167  0.486231  -0.353755  0.013684   \n",
       "28  0.083284  1.952613  0.344850  0.083284  1.952613   2.742004  2.283737   \n",
       "29  1.737970  1.966700  0.471885  1.737970  1.966700   5.833295  3.683778   \n",
       "30  0.000000  1.124473  1.000000  0.000000  1.124473   0.164439  0.639966   \n",
       "\n",
       "   some_array  xopt_runtime  xopt_error               a  \n",
       "1   [1, 2, 3]      0.000077       False             NaN  \n",
       "2   [1, 2, 3]      0.000030       False             NaN  \n",
       "3   [1, 2, 3]      0.000036       False  dummy_constant  \n",
       "4   [1, 2, 3]      0.000040       False  dummy_constant  \n",
       "5   [1, 2, 3]      0.000032       False  dummy_constant  \n",
       "6   [1, 2, 3]      0.000037       False  dummy_constant  \n",
       "7   [1, 2, 3]      0.000039       False  dummy_constant  \n",
       "8   [1, 2, 3]      0.000038       False  dummy_constant  \n",
       "9   [1, 2, 3]      0.000057       False  dummy_constant  \n",
       "10  [1, 2, 3]      0.000038       False  dummy_constant  \n",
       "11  [1, 2, 3]      0.000056       False  dummy_constant  \n",
       "12  [1, 2, 3]      0.000039       False  dummy_constant  \n",
       "13  [1, 2, 3]      0.000065       False  dummy_constant  \n",
       "14  [1, 2, 3]      0.000054       False  dummy_constant  \n",
       "15  [1, 2, 3]      0.000037       False  dummy_constant  \n",
       "16  [1, 2, 3]      0.000039       False  dummy_constant  \n",
       "17  [1, 2, 3]      0.000042       False  dummy_constant  \n",
       "18  [1, 2, 3]      0.000041       False  dummy_constant  \n",
       "19  [1, 2, 3]      0.000038       False  dummy_constant  \n",
       "20  [1, 2, 3]      0.000037       False  dummy_constant  \n",
       "21  [1, 2, 3]      0.000058       False  dummy_constant  \n",
       "22  [1, 2, 3]      0.000071       False  dummy_constant  \n",
       "23  [1, 2, 3]      0.000047       False  dummy_constant  \n",
       "24  [1, 2, 3]      0.000038       False  dummy_constant  \n",
       "25  [1, 2, 3]      0.000056       False  dummy_constant  \n",
       "26  [1, 2, 3]      0.000037       False  dummy_constant  \n",
       "27  [1, 2, 3]      0.000045       False  dummy_constant  \n",
       "28  [1, 2, 3]      0.000040       False  dummy_constant  \n",
       "29  [1, 2, 3]      0.000055       False  dummy_constant  \n",
       "30  [1, 2, 3]      0.000041       False  dummy_constant  "
      ]
     },
     "execution_count": 4,
     "metadata": {},
     "output_type": "execute_result"
    }
   ],
   "source": [
    "X.data"
   ]
  },
  {
   "cell_type": "markdown",
   "metadata": {
    "collapsed": false
   },
   "source": [
    "## Plot results\n",
    "Here we plot the resulting observations in input space, colored by feasibility\n",
    "(neglecting the fact that\n",
    "these data points are at varying fidelities).\n"
   ]
  },
  {
   "cell_type": "code",
   "execution_count": 5,
   "metadata": {
    "collapsed": false,
    "execution": {
     "iopub.execute_input": "2023-07-27T16:36:44.500764Z",
     "iopub.status.busy": "2023-07-27T16:36:44.499338Z",
     "iopub.status.idle": "2023-07-27T16:36:45.331554Z",
     "shell.execute_reply": "2023-07-27T16:36:45.330430Z"
    }
   },
   "outputs": [
    {
     "data": {
      "image/png": "[encoded data removed]",
      "text/plain": [
       "<Figure size 640x480 with 1 Axes>"
      ]
     },
     "metadata": {},
     "output_type": "display_data"
    }
   ],
   "source": [
    "import matplotlib.pyplot as plt\n",
    "\n",
    "fig, ax = plt.subplots()\n",
    "\n",
    "theta = np.linspace(0, np.pi / 2)\n",
    "r = np.sqrt(1 + 0.1 * np.cos(16 * theta))\n",
    "x_1 = r * np.sin(theta)\n",
    "x_2_lower = r * np.cos(theta)\n",
    "x_2_upper = (0.5 - (x_1 - 0.5) ** 2) ** 0.5 + 0.5\n",
    "\n",
    "z = np.zeros_like(x_1)\n",
    "\n",
    "# ax2.plot(x_1, x_2_lower,'r')\n",
    "ax.fill_between(x_1, z, x_2_lower, fc=\"white\")\n",
    "circle = plt.Circle(\n",
    "    (0.5, 0.5), 0.5 ** 0.5, color=\"r\", alpha=0.25, zorder=0, label=\"Valid Region\"\n",
    ")\n",
    "ax.add_patch(circle)\n",
    "history = pd.concat(\n",
    "    [X.data, tnk_vocs.feasibility_data(X.data)], axis=1, ignore_index=False\n",
    ")\n",
    "\n",
    "ax.plot(*history[[\"x1\", \"x2\"]][history[\"feasible\"]].to_numpy().T, \".C1\")\n",
    "ax.plot(*history[[\"x1\", \"x2\"]][~history[\"feasible\"]].to_numpy().T, \".C2\")\n",
    "\n",
    "ax.set_xlim(0, 3.14)\n",
    "ax.set_ylim(0, 3.14)\n",
    "ax.set_xlabel(\"x1\")\n",
    "ax.set_ylabel(\"x2\")\n",
    "ax.set_aspect(\"equal\")"
   ]
  },
  {
   "cell_type": "markdown",
   "metadata": {
    "collapsed": false
   },
   "source": [
    "### Plot path through input space"
   ]
  },
  {
   "cell_type": "code",
   "execution_count": 6,
   "metadata": {
    "collapsed": false,
    "execution": {
     "iopub.execute_input": "2023-07-27T16:36:45.336060Z",
     "iopub.status.busy": "2023-07-27T16:36:45.335025Z",
     "iopub.status.idle": "2023-07-27T16:36:46.031450Z",
     "shell.execute_reply": "2023-07-27T16:36:46.030575Z"
    }
   },
   "outputs": [
    {
     "data": {
      "image/png": "[encoded data removed]",
      "text/plain": [
       "<Figure size 640x480 with 4 Axes>"
      ]
     },
     "metadata": {},
     "output_type": "display_data"
    }
   ],
   "source": [
    "ax = history.hist([\"x1\", \"x2\", \"s\"],bins=20)"
   ]
  },
  {
   "cell_type": "code",
   "execution_count": 7,
   "metadata": {
    "collapsed": false,
    "execution": {
     "iopub.execute_input": "2023-07-27T16:36:46.035581Z",
     "iopub.status.busy": "2023-07-27T16:36:46.034899Z",
     "iopub.status.idle": "2023-07-27T16:36:46.314819Z",
     "shell.execute_reply": "2023-07-27T16:36:46.313864Z"
    }
   },
   "outputs": [
    {
     "data": {
      "text/plain": [
       "<Axes: >"
      ]
     },
     "execution_count": 7,
     "metadata": {},
     "output_type": "execute_result"
    },
    {
     "data": {
      "image/png": "[encoded data removed]",
      "text/plain": [
       "<Figure size 640x480 with 1 Axes>"
      ]
     },
     "metadata": {},
     "output_type": "display_data"
    }
   ],
   "source": [
    "history.plot(y=[\"x1\", \"x2\", \"s\"])"
   ]
  },
  {
   "cell_type": "markdown",
   "metadata": {
    "collapsed": false
   },
   "source": [
    "## Plot the acqusisition function\n",
    "Here we plot the acquisition function at a small set of fidelities $[0, 0.5, 1.0]$."
   ]
  },
  {
   "cell_type": "code",
   "execution_count": 8,
   "metadata": {
    "collapsed": false,
    "execution": {
     "iopub.execute_input": "2023-07-27T16:36:46.318492Z",
     "iopub.status.busy": "2023-07-27T16:36:46.318150Z",
     "iopub.status.idle": "2023-07-27T16:37:20.118979Z",
     "shell.execute_reply": "2023-07-27T16:37:20.118149Z"
    }
   },
   "outputs": [
    {
     "name": "stdout",
     "output_type": "stream",
     "text": [
      "[[2.47602285 2.10449908]]\n"
     ]
    },
    {
     "data": {
      "text/plain": [
       "[<matplotlib.lines.Line2D at 0x7fb93d374940>]"
      ]
     },
     "execution_count": 8,
     "metadata": {},
     "output_type": "execute_result"
    },
    {
     "data": {
      "image/png": "[encoded data removed]",
      "text/plain": [
       "<Figure size 640x480 with 2 Axes>"
      ]
     },
     "metadata": {},
     "output_type": "display_data"
    },
    {
     "data": {
      "image/png": "[encoded data removed]",
      "text/plain": [
       "<Figure size 640x480 with 2 Axes>"
      ]
     },
     "metadata": {},
     "output_type": "display_data"
    },
    {
     "data": {
      "image/png": "[encoded data removed]",
      "text/plain": [
       "<Figure size 640x480 with 2 Axes>"
      ]
     },
     "metadata": {},
     "output_type": "display_data"
    }
   ],
   "source": [
    "# plot the acquisition function\n",
    "from xopt.generators.bayesian.objectives import feasibility\n",
    "\n",
    "bounds = generator.vocs.bounds\n",
    "model = generator.model\n",
    "\n",
    "# create mesh over non-fidelity parameters\n",
    "n = 100\n",
    "x = torch.linspace(*bounds.T[1], n)\n",
    "y = torch.linspace(*bounds.T[2], n)\n",
    "xx, yy = torch.meshgrid(x, y)\n",
    "\n",
    "# plot function(s) at a single fidelity parameter\n",
    "fidelities = [0.0, 0.5, 1.0]\n",
    "for fidelity in fidelities:\n",
    "    pts = torch.hstack([ele.reshape(-1, 1) for ele in (xx, yy)]).double()\n",
    "    pts = torch.cat((torch.ones(pts.shape[0],1)*fidelity, pts), dim=-1)\n",
    "\n",
    "    acq_func = generator.get_acquisition(model)\n",
    "    with torch.no_grad():\n",
    "        acq_pts = pts.unsqueeze(1)\n",
    "        acq = acq_func(acq_pts)\n",
    "\n",
    "        fig, ax = plt.subplots()\n",
    "        c = ax.pcolor(xx, yy, acq.reshape(n, n), cmap=\"Blues\")\n",
    "        fig.colorbar(c)\n",
    "        ax.set_title(f\"Acquisition function - s: {fidelity}\")\n",
    "\n",
    "        ax.plot(*history[[\"x1\", \"x2\"]][history[\"feasible\"]].to_numpy().T, \".C1\")\n",
    "        ax.plot(*history[[\"x1\", \"x2\"]][~history[\"feasible\"]].to_numpy().T, \".C2\")\n",
    "\n",
    "        ax.plot(*history[[\"x1\", \"x2\"]].to_numpy()[-1].T, \"+\")\n",
    "\n",
    "\n",
    "candidate = generator.generate(1)\n",
    "print(candidate[[\"x1\", \"x2\"]].to_numpy())\n",
    "ax.plot(*candidate[[\"x1\", \"x2\"]].to_numpy()[0], \"o\")"
   ]
  },
  {
   "cell_type": "code",
   "execution_count": 9,
   "metadata": {
    "collapsed": false,
    "execution": {
     "iopub.execute_input": "2023-07-27T16:37:20.123349Z",
     "iopub.status.busy": "2023-07-27T16:37:20.122954Z",
     "iopub.status.idle": "2023-07-27T16:37:20.130389Z",
     "shell.execute_reply": "2023-07-27T16:37:20.129549Z"
    }
   },
   "outputs": [
    {
     "data": {
      "text/plain": [
       "[('likelihood.noise_covar.raw_noise',\n",
       "  Parameter containing:\n",
       "  tensor([-24.4788], dtype=torch.float64, requires_grad=True)),\n",
       " ('mean_module.raw_constant',\n",
       "  Parameter containing:\n",
       "  tensor(-0.0304, dtype=torch.float64, requires_grad=True)),\n",
       " ('covar_module.raw_outputscale',\n",
       "  Parameter containing:\n",
       "  tensor(0.0267, dtype=torch.float64, requires_grad=True)),\n",
       " ('covar_module.base_kernel.raw_lengthscale',\n",
       "  Parameter containing:\n",
       "  tensor([[0.7096, 1.9595, 1.9385]], dtype=torch.float64, requires_grad=True))]"
      ]
     },
     "execution_count": 9,
     "metadata": {},
     "output_type": "execute_result"
    }
   ],
   "source": [
    "# examine lengthscale of the first objective\n",
    "list(model.models[0].named_parameters())"
   ]
  },
  {
   "cell_type": "code",
   "execution_count": 10,
   "metadata": {
    "collapsed": false,
    "execution": {
     "iopub.execute_input": "2023-07-27T16:37:20.134260Z",
     "iopub.status.busy": "2023-07-27T16:37:20.133807Z",
     "iopub.status.idle": "2023-07-27T16:37:20.175286Z",
     "shell.execute_reply": "2023-07-27T16:37:20.174460Z"
    }
   },
   "outputs": [],
   "source": [
    "# dump results to file\n",
    "X.options.dump_file = \"results.yaml\"\n",
    "X.dump_state()"
   ]
  },
  {
   "cell_type": "code",
   "execution_count": 10,
   "metadata": {
    "collapsed": false
   },
   "outputs": [],
   "source": []
  }
 ],
 "metadata": {
  "interpreter": {
   "hash": "72034539424920dfb606fe3b820b3f27dca0cbf1c69938110810ec4641e275b1"
  },
  "kernelspec": {
   "display_name": "Python 3 (ipykernel)",
   "language": "python",
   "name": "python3"
  },
  "language_info": {
   "codemirror_mode": {
    "name": "ipython",
    "version": 3
   },
   "file_extension": ".py",
   "mimetype": "text/x-python",
   "name": "python",
   "nbconvert_exporter": "python",
   "pygments_lexer": "ipython3",
   "version": "3.9.16"
  }
 },
 "nbformat": 4,
 "nbformat_minor": 4
}
