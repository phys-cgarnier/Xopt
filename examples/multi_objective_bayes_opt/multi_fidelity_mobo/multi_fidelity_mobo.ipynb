{
 "cells": [
  {
   "cell_type": "markdown",
   "metadata": {},
   "source": [
    "# Multi-fidelity Multi-objective Bayesian Optimization\n",
    "\n",
    "Here we attempt to solve for the constrained Pareto front of the TNK multi-objective\n",
    "optimization problem using Multi-Fidelity Multi-Objective Bayesian optimization. For\n",
    "simplicity we assume that the objective and constraint functions at lower fidelities is\n",
    "exactly equal to the functions at higher fidelities (this is obviously not a\n",
    "requirement, although for the best results lower fidelity calculations should\n",
    "correlate with higher fidelity ones). The algorithm should learn this relationship\n",
    "and use information gathered at lower fidelities to gather samples to improve the\n",
    "hypervolume of the Pareto front at the maximum fidelity.\n",
    "\n",
    "TNK function\n",
    "$n=2$ variables:\n",
    "$x_i \\in [0, \\pi], i=1,2$\n",
    "\n",
    "Objectives:\n",
    "- $f_i(x) = x_i$\n",
    "\n",
    "Constraints:\n",
    "- $g_1(x) = -x_1^2 -x_2^2 + 1 + 0.1 \\cos\\left(16 \\arctan \\frac{x_1}{x_2}\\right) \\le 0$\n",
    "- $g_2(x) = (x_1 - 1/2)^2 + (x_2-1/2)^2 \\le 0.5$"
   ]
  },
  {
   "cell_type": "code",
   "execution_count": 1,
   "metadata": {
    "ExecuteTime": {
     "end_time": "2023-09-20T14:37:08.616050600Z",
     "start_time": "2023-09-20T14:37:04.101720300Z"
    },
    "collapsed": false,
    "execution": {
     "iopub.execute_input": "2024-08-08T16:19:12.369057Z",
     "iopub.status.busy": "2024-08-08T16:19:12.368643Z",
     "iopub.status.idle": "2024-08-08T16:19:14.334986Z",
     "shell.execute_reply": "2024-08-08T16:19:14.334327Z"
    }
   },
   "outputs": [
    {
     "name": "stdout",
     "output_type": "stream",
     "text": [
      "{'variables': {'x1': [0.0, 3.14159], 'x2': [0.0, 3.14159]}, 'constraints': {'c1': ['GREATER_THAN', 0.0], 'c2': ['LESS_THAN', 0.5]}, 'objectives': {'y1': 'MINIMIZE', 'y2': 'MINIMIZE'}, 'constants': {'a': 'dummy_constant'}, 'observables': []}\n"
     ]
    }
   ],
   "source": [
    "# set values if testing\n",
    "import os\n",
    "SMOKE_TEST = os.environ.get(\"SMOKE_TEST\")\n",
    "N_MC_SAMPLES = 1 if SMOKE_TEST else 128\n",
    "NUM_RESTARTS = 1 if SMOKE_TEST else 20\n",
    "BUDGET = 0.02 if SMOKE_TEST else 10\n",
    "\n",
    "# Ignore all warnings\n",
    "import warnings\n",
    "warnings.filterwarnings(\"ignore\")\n",
    "\n",
    "import pandas as pd\n",
    "import numpy as np\n",
    "import torch\n",
    "\n",
    "from xopt import Xopt, Evaluator\n",
    "from xopt.generators.bayesian import MultiFidelityGenerator\n",
    "from xopt.resources.test_functions.tnk import evaluate_TNK, tnk_vocs\n",
    "\n",
    "evaluator = Evaluator(function=evaluate_TNK)\n",
    "print(tnk_vocs.dict())"
   ]
  },
  {
   "cell_type": "markdown",
   "metadata": {
    "collapsed": false
   },
   "source": [
    "## Set up the Multi-Fidelity Multi-objective optimization algorithm\n",
    "Here we create the Multi-Fidelity generator object which can solve both single and\n",
    "multi-objective optimization problems depending on the number of objectives in VOCS.\n",
    "We specify a cost function as a function of fidelity parameter $s=[0,1]$ as $C(s) =\n",
    "s^{3.5}$ as an example from a real life multi-fidelity simulation problem."
   ]
  },
  {
   "cell_type": "code",
   "execution_count": 2,
   "metadata": {
    "ExecuteTime": {
     "end_time": "2023-09-20T14:37:08.660042Z",
     "start_time": "2023-09-20T14:37:08.617041800Z"
    },
    "collapsed": false,
    "execution": {
     "iopub.execute_input": "2024-08-08T16:19:14.365144Z",
     "iopub.status.busy": "2024-08-08T16:19:14.364653Z",
     "iopub.status.idle": "2024-08-08T16:19:14.380913Z",
     "shell.execute_reply": "2024-08-08T16:19:14.380341Z"
    }
   },
   "outputs": [
    {
     "data": {
      "text/plain": [
       "\n",
       "            Xopt\n",
       "________________________________\n",
       "Version: 0+untagged.1.g9e8cf43\n",
       "Data size: 2\n",
       "Config as YAML:\n",
       "dump_file: null\n",
       "evaluator:\n",
       "  function: xopt.resources.test_functions.tnk.evaluate_TNK\n",
       "  function_kwargs:\n",
       "    raise_probability: 0\n",
       "    random_sleep: 0\n",
       "    sleep: 0\n",
       "  max_workers: 1\n",
       "  vectorized: false\n",
       "generator:\n",
       "  computation_time: null\n",
       "  custom_objective: null\n",
       "  fixed_features: null\n",
       "  gp_constructor:\n",
       "    covar_modules: {}\n",
       "    custom_noise_prior: null\n",
       "    mean_modules: {}\n",
       "    name: standard\n",
       "    trainable_mean_keys: []\n",
       "    transform_inputs: true\n",
       "    use_low_noise_prior: true\n",
       "  log_transform_acquisition_function: false\n",
       "  max_travel_distances: null\n",
       "  model: null\n",
       "  n_candidates: 1\n",
       "  n_interpolate_points: null\n",
       "  n_monte_carlo_samples: 128\n",
       "  name: multi_fidelity\n",
       "  numerical_optimizer:\n",
       "    max_iter: 2000\n",
       "    max_time: null\n",
       "    n_restarts: 20\n",
       "    name: LBFGS\n",
       "  reference_point:\n",
       "    s: 0.0\n",
       "    y1: 1.5\n",
       "    y2: 1.5\n",
       "  supports_batch_generation: true\n",
       "  supports_multi_objective: true\n",
       "  turbo_controller: null\n",
       "  use_cuda: false\n",
       "max_evaluations: null\n",
       "serialize_inline: false\n",
       "serialize_torch: false\n",
       "strict: true\n",
       "vocs:\n",
       "  constants:\n",
       "    a: dummy_constant\n",
       "  constraints: {}\n",
       "  objectives:\n",
       "    s: MAXIMIZE\n",
       "    y1: MINIMIZE\n",
       "    y2: MINIMIZE\n",
       "  observables: []\n",
       "  variables:\n",
       "    s:\n",
       "    - 0\n",
       "    - 1\n",
       "    x1:\n",
       "    - 0.0\n",
       "    - 3.14159\n",
       "    x2:\n",
       "    - 0.0\n",
       "    - 3.14159\n"
      ]
     },
     "execution_count": 2,
     "metadata": {},
     "output_type": "execute_result"
    }
   ],
   "source": [
    "from copy import deepcopy\n",
    "my_vocs = deepcopy(tnk_vocs)\n",
    "my_vocs.constraints = {}\n",
    "generator = MultiFidelityGenerator(vocs=my_vocs, reference_point = {\"y1\":1.5,\"y2\":1.5})\n",
    "\n",
    "# set cost function according to approximate scaling of laser plasma accelerator\n",
    "# problem, see https://journals.aps.org/prresearch/abstract/10.1103/PhysRevResearch.5.013063\n",
    "generator.cost_function = lambda s: s**3.5\n",
    "generator.numerical_optimizer.n_restarts = NUM_RESTARTS\n",
    "generator.n_monte_carlo_samples = N_MC_SAMPLES\n",
    "\n",
    "X = Xopt(generator=generator, evaluator=evaluator, vocs=my_vocs)\n",
    "\n",
    "# evaluate at some explicit initial points\n",
    "X.evaluate_data(pd.DataFrame({\"x1\":[1.0, 0.75],\"x2\":[0.75, 1.0],\"s\":[0.0,0.1]}))\n",
    "\n",
    "X"
   ]
  },
  {
   "cell_type": "markdown",
   "metadata": {
    "collapsed": false
   },
   "source": [
    "## Run optimization routine\n",
    "Instead of ending the optimization routine after an explict number of samples we end\n",
    "optimization once a given optimization budget has been exceeded. WARNING: This will\n",
    "slightly exceed the given budget"
   ]
  },
  {
   "cell_type": "code",
   "execution_count": 3,
   "metadata": {
    "ExecuteTime": {
     "end_time": "2023-09-20T14:37:14.657062800Z",
     "start_time": "2023-09-20T14:37:08.648042200Z"
    },
    "collapsed": false,
    "execution": {
     "iopub.execute_input": "2024-08-08T16:19:14.383139Z",
     "iopub.status.busy": "2024-08-08T16:19:14.382799Z",
     "iopub.status.idle": "2024-08-08T16:20:01.478645Z",
     "shell.execute_reply": "2024-08-08T16:20:01.478058Z"
    }
   },
   "outputs": [
    {
     "name": "stdout",
     "output_type": "stream",
     "text": [
      "n_samples: 3 budget used: 0.009132 hypervolume: 0.0375\n"
     ]
    },
    {
     "name": "stdout",
     "output_type": "stream",
     "text": [
      "n_samples: 4 budget used: 0.01913 hypervolume: 0.0375\n"
     ]
    },
    {
     "name": "stdout",
     "output_type": "stream",
     "text": [
      "n_samples: 5 budget used: 0.01913 hypervolume: 0.04527\n"
     ]
    },
    {
     "name": "stdout",
     "output_type": "stream",
     "text": [
      "n_samples: 6 budget used: 0.0229 hypervolume: 0.4261\n"
     ]
    },
    {
     "name": "stdout",
     "output_type": "stream",
     "text": [
      "n_samples: 7 budget used: 0.03147 hypervolume: 0.4993\n"
     ]
    },
    {
     "name": "stdout",
     "output_type": "stream",
     "text": [
      "n_samples: 8 budget used: 0.03228 hypervolume: 0.4993\n"
     ]
    },
    {
     "name": "stdout",
     "output_type": "stream",
     "text": [
      "n_samples: 9 budget used: 0.07613 hypervolume: 0.9208\n"
     ]
    },
    {
     "name": "stdout",
     "output_type": "stream",
     "text": [
      "n_samples: 10 budget used: 0.07613 hypervolume: 0.9208\n"
     ]
    },
    {
     "name": "stdout",
     "output_type": "stream",
     "text": [
      "n_samples: 11 budget used: 0.2082 hypervolume: 1.147\n"
     ]
    },
    {
     "name": "stdout",
     "output_type": "stream",
     "text": [
      "n_samples: 12 budget used: 0.5089 hypervolume: 1.596\n"
     ]
    },
    {
     "name": "stdout",
     "output_type": "stream",
     "text": [
      "n_samples: 13 budget used: 0.535 hypervolume: 1.596\n"
     ]
    },
    {
     "name": "stdout",
     "output_type": "stream",
     "text": [
      "n_samples: 14 budget used: 0.5833 hypervolume: 1.596\n"
     ]
    },
    {
     "name": "stdout",
     "output_type": "stream",
     "text": [
      "n_samples: 15 budget used: 1.583 hypervolume: 2.25\n"
     ]
    },
    {
     "name": "stdout",
     "output_type": "stream",
     "text": [
      "n_samples: 16 budget used: 1.675 hypervolume: 2.25\n"
     ]
    },
    {
     "name": "stdout",
     "output_type": "stream",
     "text": [
      "n_samples: 17 budget used: 2.39 hypervolume: 2.25\n"
     ]
    },
    {
     "name": "stdout",
     "output_type": "stream",
     "text": [
      "n_samples: 18 budget used: 3.092 hypervolume: 2.25\n"
     ]
    },
    {
     "name": "stdout",
     "output_type": "stream",
     "text": [
      "n_samples: 19 budget used: 3.961 hypervolume: 2.25\n"
     ]
    },
    {
     "name": "stdout",
     "output_type": "stream",
     "text": [
      "n_samples: 20 budget used: 4.092 hypervolume: 2.25\n"
     ]
    },
    {
     "name": "stdout",
     "output_type": "stream",
     "text": [
      "n_samples: 21 budget used: 4.292 hypervolume: 2.25\n"
     ]
    },
    {
     "name": "stdout",
     "output_type": "stream",
     "text": [
      "n_samples: 22 budget used: 5.069 hypervolume: 2.25\n"
     ]
    },
    {
     "name": "stdout",
     "output_type": "stream",
     "text": [
      "n_samples: 23 budget used: 5.107 hypervolume: 2.25\n"
     ]
    },
    {
     "name": "stdout",
     "output_type": "stream",
     "text": [
      "n_samples: 24 budget used: 5.155 hypervolume: 2.25\n"
     ]
    },
    {
     "name": "stdout",
     "output_type": "stream",
     "text": [
      "n_samples: 25 budget used: 5.278 hypervolume: 2.25\n"
     ]
    },
    {
     "name": "stdout",
     "output_type": "stream",
     "text": [
      "n_samples: 26 budget used: 5.646 hypervolume: 2.25\n"
     ]
    },
    {
     "name": "stdout",
     "output_type": "stream",
     "text": [
      "n_samples: 27 budget used: 6.646 hypervolume: 2.25\n"
     ]
    },
    {
     "name": "stdout",
     "output_type": "stream",
     "text": [
      "n_samples: 28 budget used: 6.649 hypervolume: 2.25\n"
     ]
    },
    {
     "name": "stdout",
     "output_type": "stream",
     "text": [
      "n_samples: 29 budget used: 6.701 hypervolume: 2.25\n"
     ]
    },
    {
     "name": "stdout",
     "output_type": "stream",
     "text": [
      "n_samples: 30 budget used: 7.547 hypervolume: 2.25\n"
     ]
    },
    {
     "name": "stdout",
     "output_type": "stream",
     "text": [
      "n_samples: 31 budget used: 8.547 hypervolume: 2.25\n"
     ]
    },
    {
     "name": "stdout",
     "output_type": "stream",
     "text": [
      "n_samples: 32 budget used: 8.587 hypervolume: 2.25\n"
     ]
    },
    {
     "name": "stdout",
     "output_type": "stream",
     "text": [
      "n_samples: 33 budget used: 9.58 hypervolume: 2.25\n"
     ]
    },
    {
     "name": "stdout",
     "output_type": "stream",
     "text": [
      "n_samples: 34 budget used: 10.23 hypervolume: 2.25\n"
     ]
    }
   ],
   "source": [
    "budget = BUDGET\n",
    "while X.generator.calculate_total_cost() < budget:\n",
    "    X.step()\n",
    "    print(f\"n_samples: {len(X.data)} \"\n",
    "          f\"budget used: {X.generator.calculate_total_cost():.4} \"\n",
    "          f\"hypervolume: {X.generator.calculate_hypervolume():.4}\")"
   ]
  },
  {
   "cell_type": "markdown",
   "metadata": {
    "collapsed": false
   },
   "source": [
    "## Show results"
   ]
  },
  {
   "cell_type": "code",
   "execution_count": 4,
   "metadata": {
    "ExecuteTime": {
     "end_time": "2023-09-20T14:37:14.684015600Z",
     "start_time": "2023-09-20T14:37:14.647063400Z"
    },
    "collapsed": false,
    "execution": {
     "iopub.execute_input": "2024-08-08T16:20:01.481422Z",
     "iopub.status.busy": "2024-08-08T16:20:01.480859Z",
     "iopub.status.idle": "2024-08-08T16:20:01.494758Z",
     "shell.execute_reply": "2024-08-08T16:20:01.494232Z"
    }
   },
   "outputs": [
    {
     "data": {
      "text/html": [
       "<div>\n",
       "<style scoped>\n",
       "    .dataframe tbody tr th:only-of-type {\n",
       "        vertical-align: middle;\n",
       "    }\n",
       "\n",
       "    .dataframe tbody tr th {\n",
       "        vertical-align: top;\n",
       "    }\n",
       "\n",
       "    .dataframe thead th {\n",
       "        text-align: right;\n",
       "    }\n",
       "</style>\n",
       "<table border=\"1\" class=\"dataframe\">\n",
       "  <thead>\n",
       "    <tr style=\"text-align: right;\">\n",
       "      <th></th>\n",
       "      <th>x1</th>\n",
       "      <th>x2</th>\n",
       "      <th>s</th>\n",
       "      <th>a</th>\n",
       "      <th>y1</th>\n",
       "      <th>y2</th>\n",
       "      <th>c1</th>\n",
       "      <th>c2</th>\n",
       "      <th>xopt_runtime</th>\n",
       "      <th>xopt_error</th>\n",
       "    </tr>\n",
       "  </thead>\n",
       "  <tbody>\n",
       "    <tr>\n",
       "      <th>0</th>\n",
       "      <td>1.000000</td>\n",
       "      <td>0.750000</td>\n",
       "      <td>0.000000</td>\n",
       "      <td>dummy_constant</td>\n",
       "      <td>1.000000</td>\n",
       "      <td>0.750000</td>\n",
       "      <td>0.626888</td>\n",
       "      <td>0.312500</td>\n",
       "      <td>0.000028</td>\n",
       "      <td>False</td>\n",
       "    </tr>\n",
       "    <tr>\n",
       "      <th>1</th>\n",
       "      <td>0.750000</td>\n",
       "      <td>1.000000</td>\n",
       "      <td>0.100000</td>\n",
       "      <td>dummy_constant</td>\n",
       "      <td>0.750000</td>\n",
       "      <td>1.000000</td>\n",
       "      <td>0.626888</td>\n",
       "      <td>0.312500</td>\n",
       "      <td>0.000007</td>\n",
       "      <td>False</td>\n",
       "    </tr>\n",
       "    <tr>\n",
       "      <th>2</th>\n",
       "      <td>0.000547</td>\n",
       "      <td>2.568682</td>\n",
       "      <td>0.258780</td>\n",
       "      <td>dummy_constant</td>\n",
       "      <td>0.000547</td>\n",
       "      <td>2.568682</td>\n",
       "      <td>5.498129</td>\n",
       "      <td>4.528899</td>\n",
       "      <td>0.000024</td>\n",
       "      <td>False</td>\n",
       "    </tr>\n",
       "    <tr>\n",
       "      <th>3</th>\n",
       "      <td>3.095681</td>\n",
       "      <td>3.141590</td>\n",
       "      <td>0.268243</td>\n",
       "      <td>dummy_constant</td>\n",
       "      <td>3.095681</td>\n",
       "      <td>3.141590</td>\n",
       "      <td>18.353523</td>\n",
       "      <td>13.715559</td>\n",
       "      <td>0.000023</td>\n",
       "      <td>False</td>\n",
       "    </tr>\n",
       "    <tr>\n",
       "      <th>4</th>\n",
       "      <td>0.000000</td>\n",
       "      <td>0.410823</td>\n",
       "      <td>0.006177</td>\n",
       "      <td>dummy_constant</td>\n",
       "      <td>0.000000</td>\n",
       "      <td>0.410823</td>\n",
       "      <td>-0.931224</td>\n",
       "      <td>0.257952</td>\n",
       "      <td>0.000024</td>\n",
       "      <td>False</td>\n",
       "    </tr>\n",
       "    <tr>\n",
       "      <th>5</th>\n",
       "      <td>0.000000</td>\n",
       "      <td>0.100833</td>\n",
       "      <td>0.203049</td>\n",
       "      <td>dummy_constant</td>\n",
       "      <td>0.000000</td>\n",
       "      <td>0.100833</td>\n",
       "      <td>-1.089833</td>\n",
       "      <td>0.409334</td>\n",
       "      <td>0.000035</td>\n",
       "      <td>False</td>\n",
       "    </tr>\n",
       "    <tr>\n",
       "      <th>6</th>\n",
       "      <td>0.000000</td>\n",
       "      <td>0.590816</td>\n",
       "      <td>0.256696</td>\n",
       "      <td>dummy_constant</td>\n",
       "      <td>0.000000</td>\n",
       "      <td>0.590816</td>\n",
       "      <td>-0.750936</td>\n",
       "      <td>0.258248</td>\n",
       "      <td>0.000024</td>\n",
       "      <td>False</td>\n",
       "    </tr>\n",
       "    <tr>\n",
       "      <th>7</th>\n",
       "      <td>0.000000</td>\n",
       "      <td>0.501526</td>\n",
       "      <td>0.130639</td>\n",
       "      <td>dummy_constant</td>\n",
       "      <td>0.000000</td>\n",
       "      <td>0.501526</td>\n",
       "      <td>-0.848472</td>\n",
       "      <td>0.250002</td>\n",
       "      <td>0.000026</td>\n",
       "      <td>False</td>\n",
       "    </tr>\n",
       "    <tr>\n",
       "      <th>8</th>\n",
       "      <td>0.000000</td>\n",
       "      <td>0.000000</td>\n",
       "      <td>0.409252</td>\n",
       "      <td>dummy_constant</td>\n",
       "      <td>0.000000</td>\n",
       "      <td>0.000000</td>\n",
       "      <td>-1.100000</td>\n",
       "      <td>0.500000</td>\n",
       "      <td>0.000024</td>\n",
       "      <td>False</td>\n",
       "    </tr>\n",
       "    <tr>\n",
       "      <th>9</th>\n",
       "      <td>0.000000</td>\n",
       "      <td>0.000000</td>\n",
       "      <td>0.000000</td>\n",
       "      <td>dummy_constant</td>\n",
       "      <td>0.000000</td>\n",
       "      <td>0.000000</td>\n",
       "      <td>-1.100000</td>\n",
       "      <td>0.500000</td>\n",
       "      <td>0.000024</td>\n",
       "      <td>False</td>\n",
       "    </tr>\n",
       "    <tr>\n",
       "      <th>10</th>\n",
       "      <td>0.000000</td>\n",
       "      <td>0.505454</td>\n",
       "      <td>0.560752</td>\n",
       "      <td>dummy_constant</td>\n",
       "      <td>0.000000</td>\n",
       "      <td>0.505454</td>\n",
       "      <td>-0.844516</td>\n",
       "      <td>0.250030</td>\n",
       "      <td>0.000025</td>\n",
       "      <td>False</td>\n",
       "    </tr>\n",
       "    <tr>\n",
       "      <th>11</th>\n",
       "      <td>0.000000</td>\n",
       "      <td>0.000000</td>\n",
       "      <td>0.709431</td>\n",
       "      <td>dummy_constant</td>\n",
       "      <td>0.000000</td>\n",
       "      <td>0.000000</td>\n",
       "      <td>-1.100000</td>\n",
       "      <td>0.500000</td>\n",
       "      <td>0.000025</td>\n",
       "      <td>False</td>\n",
       "    </tr>\n",
       "    <tr>\n",
       "      <th>12</th>\n",
       "      <td>0.224266</td>\n",
       "      <td>0.000000</td>\n",
       "      <td>0.353001</td>\n",
       "      <td>dummy_constant</td>\n",
       "      <td>0.224266</td>\n",
       "      <td>0.000000</td>\n",
       "      <td>-1.049705</td>\n",
       "      <td>0.326029</td>\n",
       "      <td>0.000026</td>\n",
       "      <td>False</td>\n",
       "    </tr>\n",
       "    <tr>\n",
       "      <th>13</th>\n",
       "      <td>1.026330</td>\n",
       "      <td>2.280959</td>\n",
       "      <td>0.420730</td>\n",
       "      <td>dummy_constant</td>\n",
       "      <td>1.026330</td>\n",
       "      <td>2.280959</td>\n",
       "      <td>5.167514</td>\n",
       "      <td>3.448837</td>\n",
       "      <td>0.000026</td>\n",
       "      <td>False</td>\n",
       "    </tr>\n",
       "    <tr>\n",
       "      <th>14</th>\n",
       "      <td>0.000000</td>\n",
       "      <td>0.000000</td>\n",
       "      <td>1.000000</td>\n",
       "      <td>dummy_constant</td>\n",
       "      <td>0.000000</td>\n",
       "      <td>0.000000</td>\n",
       "      <td>-1.100000</td>\n",
       "      <td>0.500000</td>\n",
       "      <td>0.000026</td>\n",
       "      <td>False</td>\n",
       "    </tr>\n",
       "    <tr>\n",
       "      <th>15</th>\n",
       "      <td>1.139686</td>\n",
       "      <td>1.606249</td>\n",
       "      <td>0.505536</td>\n",
       "      <td>dummy_constant</td>\n",
       "      <td>1.139686</td>\n",
       "      <td>1.606249</td>\n",
       "      <td>2.969020</td>\n",
       "      <td>1.632986</td>\n",
       "      <td>0.000026</td>\n",
       "      <td>False</td>\n",
       "    </tr>\n",
       "    <tr>\n",
       "      <th>16</th>\n",
       "      <td>0.000000</td>\n",
       "      <td>0.799343</td>\n",
       "      <td>0.908400</td>\n",
       "      <td>dummy_constant</td>\n",
       "      <td>0.000000</td>\n",
       "      <td>0.799343</td>\n",
       "      <td>-0.461051</td>\n",
       "      <td>0.339606</td>\n",
       "      <td>0.000024</td>\n",
       "      <td>False</td>\n",
       "    </tr>\n",
       "    <tr>\n",
       "      <th>17</th>\n",
       "      <td>2.177938</td>\n",
       "      <td>3.039900</td>\n",
       "      <td>0.903988</td>\n",
       "      <td>dummy_constant</td>\n",
       "      <td>2.177938</td>\n",
       "      <td>3.039900</td>\n",
       "      <td>13.071082</td>\n",
       "      <td>9.266568</td>\n",
       "      <td>0.000024</td>\n",
       "      <td>False</td>\n",
       "    </tr>\n",
       "    <tr>\n",
       "      <th>18</th>\n",
       "      <td>1.018881</td>\n",
       "      <td>0.758619</td>\n",
       "      <td>0.960657</td>\n",
       "      <td>dummy_constant</td>\n",
       "      <td>1.018881</td>\n",
       "      <td>0.758619</td>\n",
       "      <td>0.682180</td>\n",
       "      <td>0.336122</td>\n",
       "      <td>0.000025</td>\n",
       "      <td>False</td>\n",
       "    </tr>\n",
       "    <tr>\n",
       "      <th>19</th>\n",
       "      <td>1.426136</td>\n",
       "      <td>1.325319</td>\n",
       "      <td>0.559348</td>\n",
       "      <td>dummy_constant</td>\n",
       "      <td>1.426136</td>\n",
       "      <td>1.325319</td>\n",
       "      <td>2.707018</td>\n",
       "      <td>1.538879</td>\n",
       "      <td>0.000027</td>\n",
       "      <td>False</td>\n",
       "    </tr>\n",
       "    <tr>\n",
       "      <th>20</th>\n",
       "      <td>0.136124</td>\n",
       "      <td>1.126273</td>\n",
       "      <td>0.631316</td>\n",
       "      <td>dummy_constant</td>\n",
       "      <td>0.136124</td>\n",
       "      <td>1.126273</td>\n",
       "      <td>0.321656</td>\n",
       "      <td>0.524624</td>\n",
       "      <td>0.000025</td>\n",
       "      <td>False</td>\n",
       "    </tr>\n",
       "    <tr>\n",
       "      <th>21</th>\n",
       "      <td>1.597400</td>\n",
       "      <td>1.954714</td>\n",
       "      <td>0.930625</td>\n",
       "      <td>dummy_constant</td>\n",
       "      <td>1.597400</td>\n",
       "      <td>1.954714</td>\n",
       "      <td>5.375920</td>\n",
       "      <td>3.320479</td>\n",
       "      <td>0.000025</td>\n",
       "      <td>False</td>\n",
       "    </tr>\n",
       "    <tr>\n",
       "      <th>22</th>\n",
       "      <td>2.954822</td>\n",
       "      <td>1.427469</td>\n",
       "      <td>0.392090</td>\n",
       "      <td>dummy_constant</td>\n",
       "      <td>2.954822</td>\n",
       "      <td>1.427469</td>\n",
       "      <td>9.707849</td>\n",
       "      <td>6.886349</td>\n",
       "      <td>0.000026</td>\n",
       "      <td>False</td>\n",
       "    </tr>\n",
       "    <tr>\n",
       "      <th>23</th>\n",
       "      <td>0.497454</td>\n",
       "      <td>0.428360</td>\n",
       "      <td>0.420836</td>\n",
       "      <td>dummy_constant</td>\n",
       "      <td>0.497454</td>\n",
       "      <td>0.428360</td>\n",
       "      <td>-0.606038</td>\n",
       "      <td>0.005139</td>\n",
       "      <td>0.000026</td>\n",
       "      <td>False</td>\n",
       "    </tr>\n",
       "    <tr>\n",
       "      <th>24</th>\n",
       "      <td>0.104055</td>\n",
       "      <td>0.351260</td>\n",
       "      <td>0.549489</td>\n",
       "      <td>dummy_constant</td>\n",
       "      <td>0.104055</td>\n",
       "      <td>0.351260</td>\n",
       "      <td>-0.855365</td>\n",
       "      <td>0.178896</td>\n",
       "      <td>0.000026</td>\n",
       "      <td>False</td>\n",
       "    </tr>\n",
       "    <tr>\n",
       "      <th>25</th>\n",
       "      <td>2.009677</td>\n",
       "      <td>1.796060</td>\n",
       "      <td>0.751141</td>\n",
       "      <td>dummy_constant</td>\n",
       "      <td>2.009677</td>\n",
       "      <td>1.796060</td>\n",
       "      <td>6.202249</td>\n",
       "      <td>3.958897</td>\n",
       "      <td>0.000024</td>\n",
       "      <td>False</td>\n",
       "    </tr>\n",
       "    <tr>\n",
       "      <th>26</th>\n",
       "      <td>0.000000</td>\n",
       "      <td>0.331229</td>\n",
       "      <td>1.000000</td>\n",
       "      <td>dummy_constant</td>\n",
       "      <td>0.000000</td>\n",
       "      <td>0.331229</td>\n",
       "      <td>-0.990287</td>\n",
       "      <td>0.278484</td>\n",
       "      <td>0.000026</td>\n",
       "      <td>False</td>\n",
       "    </tr>\n",
       "    <tr>\n",
       "      <th>27</th>\n",
       "      <td>3.079473</td>\n",
       "      <td>0.719160</td>\n",
       "      <td>0.188587</td>\n",
       "      <td>dummy_constant</td>\n",
       "      <td>3.079473</td>\n",
       "      <td>0.719160</td>\n",
       "      <td>9.086667</td>\n",
       "      <td>6.701711</td>\n",
       "      <td>0.000026</td>\n",
       "      <td>False</td>\n",
       "    </tr>\n",
       "    <tr>\n",
       "      <th>28</th>\n",
       "      <td>0.124480</td>\n",
       "      <td>0.696845</td>\n",
       "      <td>0.429786</td>\n",
       "      <td>dummy_constant</td>\n",
       "      <td>0.124480</td>\n",
       "      <td>0.696845</td>\n",
       "      <td>-0.403779</td>\n",
       "      <td>0.179763</td>\n",
       "      <td>0.000025</td>\n",
       "      <td>False</td>\n",
       "    </tr>\n",
       "    <tr>\n",
       "      <th>29</th>\n",
       "      <td>0.904130</td>\n",
       "      <td>1.172754</td>\n",
       "      <td>0.953523</td>\n",
       "      <td>dummy_constant</td>\n",
       "      <td>0.904130</td>\n",
       "      <td>1.172754</td>\n",
       "      <td>1.239619</td>\n",
       "      <td>0.615918</td>\n",
       "      <td>0.000026</td>\n",
       "      <td>False</td>\n",
       "    </tr>\n",
       "    <tr>\n",
       "      <th>30</th>\n",
       "      <td>0.000000</td>\n",
       "      <td>1.135659</td>\n",
       "      <td>1.000000</td>\n",
       "      <td>dummy_constant</td>\n",
       "      <td>0.000000</td>\n",
       "      <td>1.135659</td>\n",
       "      <td>0.189720</td>\n",
       "      <td>0.654062</td>\n",
       "      <td>0.000026</td>\n",
       "      <td>False</td>\n",
       "    </tr>\n",
       "    <tr>\n",
       "      <th>31</th>\n",
       "      <td>2.528590</td>\n",
       "      <td>0.510877</td>\n",
       "      <td>0.397108</td>\n",
       "      <td>dummy_constant</td>\n",
       "      <td>2.528590</td>\n",
       "      <td>0.510877</td>\n",
       "      <td>5.754645</td>\n",
       "      <td>4.115294</td>\n",
       "      <td>0.000025</td>\n",
       "      <td>False</td>\n",
       "    </tr>\n",
       "    <tr>\n",
       "      <th>32</th>\n",
       "      <td>2.423089</td>\n",
       "      <td>1.564437</td>\n",
       "      <td>0.998232</td>\n",
       "      <td>dummy_constant</td>\n",
       "      <td>2.423089</td>\n",
       "      <td>1.564437</td>\n",
       "      <td>7.415666</td>\n",
       "      <td>4.831297</td>\n",
       "      <td>0.000024</td>\n",
       "      <td>False</td>\n",
       "    </tr>\n",
       "    <tr>\n",
       "      <th>33</th>\n",
       "      <td>2.853527</td>\n",
       "      <td>0.660597</td>\n",
       "      <td>0.883964</td>\n",
       "      <td>dummy_constant</td>\n",
       "      <td>2.853527</td>\n",
       "      <td>0.660597</td>\n",
       "      <td>7.666841</td>\n",
       "      <td>5.564879</td>\n",
       "      <td>0.000025</td>\n",
       "      <td>False</td>\n",
       "    </tr>\n",
       "  </tbody>\n",
       "</table>\n",
       "</div>"
      ],
      "text/plain": [
       "          x1        x2         s               a        y1        y2  \\\n",
       "0   1.000000  0.750000  0.000000  dummy_constant  1.000000  0.750000   \n",
       "1   0.750000  1.000000  0.100000  dummy_constant  0.750000  1.000000   \n",
       "2   0.000547  2.568682  0.258780  dummy_constant  0.000547  2.568682   \n",
       "3   3.095681  3.141590  0.268243  dummy_constant  3.095681  3.141590   \n",
       "4   0.000000  0.410823  0.006177  dummy_constant  0.000000  0.410823   \n",
       "5   0.000000  0.100833  0.203049  dummy_constant  0.000000  0.100833   \n",
       "6   0.000000  0.590816  0.256696  dummy_constant  0.000000  0.590816   \n",
       "7   0.000000  0.501526  0.130639  dummy_constant  0.000000  0.501526   \n",
       "8   0.000000  0.000000  0.409252  dummy_constant  0.000000  0.000000   \n",
       "9   0.000000  0.000000  0.000000  dummy_constant  0.000000  0.000000   \n",
       "10  0.000000  0.505454  0.560752  dummy_constant  0.000000  0.505454   \n",
       "11  0.000000  0.000000  0.709431  dummy_constant  0.000000  0.000000   \n",
       "12  0.224266  0.000000  0.353001  dummy_constant  0.224266  0.000000   \n",
       "13  1.026330  2.280959  0.420730  dummy_constant  1.026330  2.280959   \n",
       "14  0.000000  0.000000  1.000000  dummy_constant  0.000000  0.000000   \n",
       "15  1.139686  1.606249  0.505536  dummy_constant  1.139686  1.606249   \n",
       "16  0.000000  0.799343  0.908400  dummy_constant  0.000000  0.799343   \n",
       "17  2.177938  3.039900  0.903988  dummy_constant  2.177938  3.039900   \n",
       "18  1.018881  0.758619  0.960657  dummy_constant  1.018881  0.758619   \n",
       "19  1.426136  1.325319  0.559348  dummy_constant  1.426136  1.325319   \n",
       "20  0.136124  1.126273  0.631316  dummy_constant  0.136124  1.126273   \n",
       "21  1.597400  1.954714  0.930625  dummy_constant  1.597400  1.954714   \n",
       "22  2.954822  1.427469  0.392090  dummy_constant  2.954822  1.427469   \n",
       "23  0.497454  0.428360  0.420836  dummy_constant  0.497454  0.428360   \n",
       "24  0.104055  0.351260  0.549489  dummy_constant  0.104055  0.351260   \n",
       "25  2.009677  1.796060  0.751141  dummy_constant  2.009677  1.796060   \n",
       "26  0.000000  0.331229  1.000000  dummy_constant  0.000000  0.331229   \n",
       "27  3.079473  0.719160  0.188587  dummy_constant  3.079473  0.719160   \n",
       "28  0.124480  0.696845  0.429786  dummy_constant  0.124480  0.696845   \n",
       "29  0.904130  1.172754  0.953523  dummy_constant  0.904130  1.172754   \n",
       "30  0.000000  1.135659  1.000000  dummy_constant  0.000000  1.135659   \n",
       "31  2.528590  0.510877  0.397108  dummy_constant  2.528590  0.510877   \n",
       "32  2.423089  1.564437  0.998232  dummy_constant  2.423089  1.564437   \n",
       "33  2.853527  0.660597  0.883964  dummy_constant  2.853527  0.660597   \n",
       "\n",
       "           c1         c2  xopt_runtime  xopt_error  \n",
       "0    0.626888   0.312500      0.000028       False  \n",
       "1    0.626888   0.312500      0.000007       False  \n",
       "2    5.498129   4.528899      0.000024       False  \n",
       "3   18.353523  13.715559      0.000023       False  \n",
       "4   -0.931224   0.257952      0.000024       False  \n",
       "5   -1.089833   0.409334      0.000035       False  \n",
       "6   -0.750936   0.258248      0.000024       False  \n",
       "7   -0.848472   0.250002      0.000026       False  \n",
       "8   -1.100000   0.500000      0.000024       False  \n",
       "9   -1.100000   0.500000      0.000024       False  \n",
       "10  -0.844516   0.250030      0.000025       False  \n",
       "11  -1.100000   0.500000      0.000025       False  \n",
       "12  -1.049705   0.326029      0.000026       False  \n",
       "13   5.167514   3.448837      0.000026       False  \n",
       "14  -1.100000   0.500000      0.000026       False  \n",
       "15   2.969020   1.632986      0.000026       False  \n",
       "16  -0.461051   0.339606      0.000024       False  \n",
       "17  13.071082   9.266568      0.000024       False  \n",
       "18   0.682180   0.336122      0.000025       False  \n",
       "19   2.707018   1.538879      0.000027       False  \n",
       "20   0.321656   0.524624      0.000025       False  \n",
       "21   5.375920   3.320479      0.000025       False  \n",
       "22   9.707849   6.886349      0.000026       False  \n",
       "23  -0.606038   0.005139      0.000026       False  \n",
       "24  -0.855365   0.178896      0.000026       False  \n",
       "25   6.202249   3.958897      0.000024       False  \n",
       "26  -0.990287   0.278484      0.000026       False  \n",
       "27   9.086667   6.701711      0.000026       False  \n",
       "28  -0.403779   0.179763      0.000025       False  \n",
       "29   1.239619   0.615918      0.000026       False  \n",
       "30   0.189720   0.654062      0.000026       False  \n",
       "31   5.754645   4.115294      0.000025       False  \n",
       "32   7.415666   4.831297      0.000024       False  \n",
       "33   7.666841   5.564879      0.000025       False  "
      ]
     },
     "execution_count": 4,
     "metadata": {},
     "output_type": "execute_result"
    }
   ],
   "source": [
    "X.data"
   ]
  },
  {
   "cell_type": "markdown",
   "metadata": {
    "collapsed": false
   },
   "source": [
    "## Plot results\n",
    "Here we plot the resulting observations in input space, colored by feasibility\n",
    "(neglecting the fact that\n",
    "these data points are at varying fidelities).\n"
   ]
  },
  {
   "cell_type": "code",
   "execution_count": 5,
   "metadata": {
    "ExecuteTime": {
     "end_time": "2023-09-20T14:37:15.292777300Z",
     "start_time": "2023-09-20T14:37:14.679967200Z"
    },
    "collapsed": false,
    "execution": {
     "iopub.execute_input": "2024-08-08T16:20:01.497224Z",
     "iopub.status.busy": "2024-08-08T16:20:01.496890Z",
     "iopub.status.idle": "2024-08-08T16:20:01.843490Z",
     "shell.execute_reply": "2024-08-08T16:20:01.842926Z"
    }
   },
   "outputs": [
    {
     "data": {
      "image/png": "[encoded data removed]",
      "text/plain": [
       "<Figure size 640x480 with 1 Axes>"
      ]
     },
     "metadata": {},
     "output_type": "display_data"
    }
   ],
   "source": [
    "import matplotlib.pyplot as plt\n",
    "\n",
    "fig, ax = plt.subplots()\n",
    "\n",
    "theta = np.linspace(0, np.pi / 2)\n",
    "r = np.sqrt(1 + 0.1 * np.cos(16 * theta))\n",
    "x_1 = r * np.sin(theta)\n",
    "x_2_lower = r * np.cos(theta)\n",
    "x_2_upper = (0.5 - (x_1 - 0.5) ** 2) ** 0.5 + 0.5\n",
    "\n",
    "z = np.zeros_like(x_1)\n",
    "\n",
    "# ax2.plot(x_1, x_2_lower,'r')\n",
    "ax.fill_between(x_1, z, x_2_lower, fc=\"white\")\n",
    "circle = plt.Circle(\n",
    "    (0.5, 0.5), 0.5 ** 0.5, color=\"r\", alpha=0.25, zorder=0, label=\"Valid Region\"\n",
    ")\n",
    "ax.add_patch(circle)\n",
    "history = pd.concat(\n",
    "    [X.data, tnk_vocs.feasibility_data(X.data)], axis=1, ignore_index=False\n",
    ")\n",
    "\n",
    "ax.plot(*history[[\"x1\", \"x2\"]][history[\"feasible\"]].to_numpy().T, \".C1\")\n",
    "ax.plot(*history[[\"x1\", \"x2\"]][~history[\"feasible\"]].to_numpy().T, \".C2\")\n",
    "\n",
    "ax.set_xlim(0, 3.14)\n",
    "ax.set_ylim(0, 3.14)\n",
    "ax.set_xlabel(\"x1\")\n",
    "ax.set_ylabel(\"x2\")\n",
    "ax.set_aspect(\"equal\")"
   ]
  },
  {
   "cell_type": "markdown",
   "metadata": {
    "collapsed": false
   },
   "source": [
    "### Plot path through input space"
   ]
  },
  {
   "cell_type": "code",
   "execution_count": 6,
   "metadata": {
    "ExecuteTime": {
     "end_time": "2023-09-20T14:37:15.607777300Z",
     "start_time": "2023-09-20T14:37:15.288777300Z"
    },
    "collapsed": false,
    "execution": {
     "iopub.execute_input": "2024-08-08T16:20:01.845996Z",
     "iopub.status.busy": "2024-08-08T16:20:01.845579Z",
     "iopub.status.idle": "2024-08-08T16:20:02.126479Z",
     "shell.execute_reply": "2024-08-08T16:20:02.125868Z"
    }
   },
   "outputs": [
    {
     "data": {
      "image/png": "[encoded data removed]",
      "text/plain": [
       "<Figure size 640x480 with 4 Axes>"
      ]
     },
     "metadata": {},
     "output_type": "display_data"
    }
   ],
   "source": [
    "ax = history.hist([\"x1\", \"x2\", \"s\"],bins=20)"
   ]
  },
  {
   "cell_type": "code",
   "execution_count": 7,
   "metadata": {
    "ExecuteTime": {
     "end_time": "2023-09-20T14:37:15.768777Z",
     "start_time": "2023-09-20T14:37:15.606777300Z"
    },
    "collapsed": false,
    "execution": {
     "iopub.execute_input": "2024-08-08T16:20:02.128684Z",
     "iopub.status.busy": "2024-08-08T16:20:02.128512Z",
     "iopub.status.idle": "2024-08-08T16:20:02.255430Z",
     "shell.execute_reply": "2024-08-08T16:20:02.254806Z"
    }
   },
   "outputs": [
    {
     "data": {
      "text/plain": [
       "<Axes: >"
      ]
     },
     "execution_count": 7,
     "metadata": {},
     "output_type": "execute_result"
    },
    {
     "data": {
      "image/png": "[encoded data removed]",
      "text/plain": [
       "<Figure size 640x480 with 1 Axes>"
      ]
     },
     "metadata": {},
     "output_type": "display_data"
    }
   ],
   "source": [
    "history.plot(y=[\"x1\", \"x2\", \"s\"])"
   ]
  },
  {
   "cell_type": "markdown",
   "metadata": {
    "collapsed": false
   },
   "source": [
    "## Plot the acqusisition function\n",
    "Here we plot the acquisition function at a small set of fidelities $[0, 0.5, 1.0]$."
   ]
  },
  {
   "cell_type": "code",
   "execution_count": 8,
   "metadata": {
    "ExecuteTime": {
     "end_time": "2023-09-20T14:37:45.334189800Z",
     "start_time": "2023-09-20T14:37:41.203201700Z"
    },
    "collapsed": false,
    "execution": {
     "iopub.execute_input": "2024-08-08T16:20:02.257895Z",
     "iopub.status.busy": "2024-08-08T16:20:02.257531Z",
     "iopub.status.idle": "2024-08-08T16:20:07.558548Z",
     "shell.execute_reply": "2024-08-08T16:20:07.557957Z"
    }
   },
   "outputs": [
    {
     "name": "stdout",
     "output_type": "stream",
     "text": [
      "[[3.10397061 1.55824874]]\n"
     ]
    },
    {
     "data": {
      "text/plain": [
       "[<matplotlib.lines.Line2D at 0x7fafd87d0b50>]"
      ]
     },
     "execution_count": 8,
     "metadata": {},
     "output_type": "execute_result"
    },
    {
     "data": {
      "image/png": "[encoded data removed]",
      "text/plain": [
       "<Figure size 640x480 with 2 Axes>"
      ]
     },
     "metadata": {},
     "output_type": "display_data"
    },
    {
     "data": {
      "image/png": "[encoded data removed]",
      "text/plain": [
       "<Figure size 640x480 with 2 Axes>"
      ]
     },
     "metadata": {},
     "output_type": "display_data"
    },
    {
     "data": {
      "image/png": "[encoded data removed]",
      "text/plain": [
       "<Figure size 640x480 with 2 Axes>"
      ]
     },
     "metadata": {},
     "output_type": "display_data"
    }
   ],
   "source": [
    "# plot the acquisition function\n",
    "\n",
    "bounds = X.generator.vocs.bounds\n",
    "model = X.generator.model\n",
    "\n",
    "# create mesh over non-fidelity parameters\n",
    "n = 50\n",
    "x = torch.linspace(*bounds.T[1], n)\n",
    "y = torch.linspace(*bounds.T[2], n)\n",
    "xx, yy = torch.meshgrid(x, y)\n",
    "\n",
    "# plot function(s) at a single fidelity parameter\n",
    "fidelities = [0.0, 0.5, 1.0]\n",
    "for fidelity in fidelities:\n",
    "    pts = torch.hstack([ele.reshape(-1, 1) for ele in (xx, yy)]).double()\n",
    "    pts = torch.cat((torch.ones(pts.shape[0],1)*fidelity, pts), dim=-1)\n",
    "\n",
    "    acq_func = X.generator.get_acquisition(model)\n",
    "    with torch.no_grad():\n",
    "        acq_pts = pts.unsqueeze(1)\n",
    "        acq = acq_func(acq_pts)\n",
    "\n",
    "        fig, ax = plt.subplots()\n",
    "\n",
    "        xxn, yyn = xx.numpy(), yy.numpy()\n",
    "\n",
    "        c = ax.pcolor(xxn, yyn, acq.reshape(n, n), cmap=\"Blues\")\n",
    "        fig.colorbar(c)\n",
    "        ax.set_title(f\"Acquisition function - s: {fidelity}\")\n",
    "\n",
    "        ax.plot(*history[[\"x1\", \"x2\"]][history[\"feasible\"]].to_numpy().T, \".C1\")\n",
    "        ax.plot(*history[[\"x1\", \"x2\"]][~history[\"feasible\"]].to_numpy().T, \".C2\")\n",
    "\n",
    "        ax.plot(*history[[\"x1\", \"x2\"]].to_numpy()[-1].T, \"+\")\n",
    "\n",
    "\n",
    "candidate = pd.DataFrame(X.generator.generate(1), index=[0])\n",
    "print(candidate[[\"x1\", \"x2\"]].to_numpy())\n",
    "ax.plot(*candidate[[\"x1\", \"x2\"]].to_numpy()[0], \"o\")"
   ]
  },
  {
   "cell_type": "code",
   "execution_count": 9,
   "metadata": {
    "ExecuteTime": {
     "start_time": "2023-09-20T14:37:17.294215100Z"
    },
    "collapsed": false,
    "execution": {
     "iopub.execute_input": "2024-08-08T16:20:07.560817Z",
     "iopub.status.busy": "2024-08-08T16:20:07.560618Z",
     "iopub.status.idle": "2024-08-08T16:20:07.565994Z",
     "shell.execute_reply": "2024-08-08T16:20:07.565419Z"
    }
   },
   "outputs": [
    {
     "data": {
      "text/plain": [
       "[('likelihood.noise_covar.raw_noise',\n",
       "  Parameter containing:\n",
       "  tensor([-26.0058], dtype=torch.float64, requires_grad=True)),\n",
       " ('mean_module.raw_constant',\n",
       "  Parameter containing:\n",
       "  tensor(-0.0004, dtype=torch.float64, requires_grad=True)),\n",
       " ('covar_module.raw_outputscale',\n",
       "  Parameter containing:\n",
       "  tensor(0.0414, dtype=torch.float64, requires_grad=True)),\n",
       " ('covar_module.base_kernel.raw_lengthscale',\n",
       "  Parameter containing:\n",
       "  tensor([[0.6783, 2.2434, 2.3555]], dtype=torch.float64, requires_grad=True))]"
      ]
     },
     "execution_count": 9,
     "metadata": {},
     "output_type": "execute_result"
    }
   ],
   "source": [
    "# examine lengthscale of the first objective\n",
    "list(model.models[0].named_parameters())"
   ]
  }
 ],
 "metadata": {
  "interpreter": {
   "hash": "72034539424920dfb606fe3b820b3f27dca0cbf1c69938110810ec4641e275b1"
  },
  "kernelspec": {
   "display_name": "Python 3 (ipykernel)",
   "language": "python",
   "name": "python3"
  },
  "language_info": {
   "codemirror_mode": {
    "name": "ipython",
    "version": 3
   },
   "file_extension": ".py",
   "mimetype": "text/x-python",
   "name": "python",
   "nbconvert_exporter": "python",
   "pygments_lexer": "ipython3",
   "version": "3.9.19"
  }
 },
 "nbformat": 4,
 "nbformat_minor": 4
}
