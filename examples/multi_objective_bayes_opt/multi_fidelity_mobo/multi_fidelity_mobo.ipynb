{
 "cells": [
  {
   "cell_type": "markdown",
   "metadata": {},
   "source": [
    "# Multi-fidelity Multi-objective Bayesian Optimization\n",
    "\n",
    "Here we attempt to solve for the constrained Pareto front of the TNK multi-objective\n",
    "optimization problem using Multi-Fidelity Multi-Objective Bayesian optimization. For\n",
    "simplicity we assume that the objective and constraint functions at lower fidelities is\n",
    "exactly equal to the functions at higher fidelities (this is obviously not a\n",
    "requirement, although for the best results lower fidelity calculations should\n",
    "correlate with higher fidelity ones). The algorithm should learn this relationship\n",
    "and use information gathered at lower fidelities to gather samples to improve the\n",
    "hypervolume of the Pareto front at the maximum fidelity.\n",
    "\n",
    "TNK function\n",
    "$n=2$ variables:\n",
    "$x_i \\in [0, \\pi], i=1,2$\n",
    "\n",
    "Objectives:\n",
    "- $f_i(x) = x_i$\n",
    "\n",
    "Constraints:\n",
    "- $g_1(x) = -x_1^2 -x_2^2 + 1 + 0.1 \\cos\\left(16 \\arctan \\frac{x_1}{x_2}\\right) \\le 0$\n",
    "- $g_2(x) = (x_1 - 1/2)^2 + (x_2-1/2)^2 \\le 0.5$"
   ]
  },
  {
   "cell_type": "code",
   "execution_count": 1,
   "metadata": {
    "collapsed": false,
    "execution": {
     "iopub.execute_input": "2023-08-13T00:20:59.090372Z",
     "iopub.status.busy": "2023-08-13T00:20:59.090086Z",
     "iopub.status.idle": "2023-08-13T00:21:01.998461Z",
     "shell.execute_reply": "2023-08-13T00:21:01.993939Z"
    }
   },
   "outputs": [
    {
     "name": "stdout",
     "output_type": "stream",
     "text": [
      "{'variables': {'x1': [0.0, 3.14159], 'x2': [0.0, 3.14159]}, 'constraints': {'c1': ['GREATER_THAN', 0.0], 'c2': ['LESS_THAN', 0.5]}, 'objectives': {'y1': 'MINIMIZE', 'y2': 'MINIMIZE'}, 'constants': {'a': 'dummy_constant'}, 'observables': []}\n"
     ]
    }
   ],
   "source": [
    "# set values if testing\n",
    "import os\n",
    "SMOKE_TEST = os.environ.get(\"SMOKE_TEST\")\n",
    "N_MC_SAMPLES = 1 if SMOKE_TEST else 128\n",
    "NUM_RESTARTS = 1 if SMOKE_TEST else 20\n",
    "BUDGET = 0.02 if SMOKE_TEST else 10\n",
    "\n",
    "# Ignore all warnings\n",
    "import warnings\n",
    "warnings.filterwarnings(\"ignore\")\n",
    "\n",
    "import pandas as pd\n",
    "import numpy as np\n",
    "import torch\n",
    "\n",
    "from xopt import Xopt, Evaluator\n",
    "from xopt.generators.bayesian import MultiFidelityGenerator\n",
    "from xopt.resources.test_functions.tnk import evaluate_TNK, tnk_vocs\n",
    "\n",
    "evaluator = Evaluator(function=evaluate_TNK)\n",
    "print(tnk_vocs.dict())"
   ]
  },
  {
   "cell_type": "markdown",
   "metadata": {
    "collapsed": false
   },
   "source": [
    "## Set up the Multi-Fidelity Multi-objective optimization algorithm\n",
    "Here we create the Multi-Fidelity generator object which can solve both single and\n",
    "multi-objective optimization problems depending on the number of objectives in VOCS.\n",
    "We specify a cost function as a function of fidelity parameter $s=[0,1]$ as $C(s) =\n",
    "s^{3.5}$ as an example from a real life multi-fidelity simulation problem."
   ]
  },
  {
   "cell_type": "code",
   "execution_count": 2,
   "metadata": {
    "collapsed": false,
    "execution": {
     "iopub.execute_input": "2023-08-13T00:21:02.052915Z",
     "iopub.status.busy": "2023-08-13T00:21:02.051679Z",
     "iopub.status.idle": "2023-08-13T00:21:02.081101Z",
     "shell.execute_reply": "2023-08-13T00:21:02.080344Z"
    }
   },
   "outputs": [
    {
     "data": {
      "text/plain": [
       "\n",
       "            Xopt\n",
       "________________________________\n",
       "Version: 0+untagged.1.g53057de\n",
       "Data size: 2\n",
       "Config as YAML:\n",
       "xopt: {asynch: false, strict: true, dump_file: null, max_evaluations: null}\n",
       "generator:\n",
       "  name: multi_fidelity\n",
       "  model: null\n",
       "  turbo_controller: null\n",
       "  use_cuda: false\n",
       "  model_constructor:\n",
       "    name: standard\n",
       "    use_low_noise_prior: true\n",
       "    covar_modules: {}\n",
       "    mean_modules: {}\n",
       "    trainable_mean_keys: []\n",
       "  numerical_optimizer: {name: LBFGS, n_raw_samples: 20, n_restarts: 20, max_iter: 2000}\n",
       "  max_travel_distances: null\n",
       "  fixed_features: null\n",
       "  n_monte_carlo_samples: 128\n",
       "  reference_point: {y1: 1.5, y2: 1.5, s: 0.0}\n",
       "  fidelity_parameter: s\n",
       "  cost_function: __main__.<lambda>\n",
       "evaluator:\n",
       "  function: xopt.resources.test_functions.tnk.evaluate_TNK\n",
       "  max_workers: 1\n",
       "  function_kwargs: {sleep: 0, random_sleep: 0, raise_probability: 0}\n",
       "  vectorized: false\n",
       "vocs:\n",
       "  variables:\n",
       "    x1: [0.0, 3.14159]\n",
       "    x2: [0.0, 3.14159]\n",
       "    s: [0, 1]\n",
       "  constraints: {}\n",
       "  objectives: {y1: MINIMIZE, y2: MINIMIZE, s: MAXIMIZE}\n",
       "  constants: {a: dummy_constant}\n",
       "  observables: []\n"
      ]
     },
     "execution_count": 2,
     "metadata": {},
     "output_type": "execute_result"
    }
   ],
   "source": [
    "from copy import deepcopy\n",
    "my_vocs = deepcopy(tnk_vocs)\n",
    "my_vocs.constraints = {}\n",
    "generator = MultiFidelityGenerator(vocs=my_vocs, reference_point = {\"y1\":1.5,\"y2\":1.5})\n",
    "\n",
    "# set cost function according to approximate scaling of laser plasma accelerator\n",
    "# problem, see https://journals.aps.org/prresearch/abstract/10.1103/PhysRevResearch.5.013063\n",
    "generator.cost_function = lambda s: s**3.5\n",
    "generator.numerical_optimizer.n_restarts = NUM_RESTARTS\n",
    "generator.n_monte_carlo_samples = N_MC_SAMPLES\n",
    "\n",
    "X = Xopt(generator=generator, evaluator=evaluator, vocs=my_vocs)\n",
    "\n",
    "# evaluate at some explicit initial points\n",
    "X.evaluate_data(pd.DataFrame({\"x1\":[1.0, 0.75],\"x2\":[0.75, 1.0],\"s\":[0.0,0.1]}))\n",
    "\n",
    "X"
   ]
  },
  {
   "cell_type": "markdown",
   "metadata": {
    "collapsed": false
   },
   "source": [
    "## Run optimization routine\n",
    "Instead of ending the optimization routine after an explict number of samples we end\n",
    "optimization once a given optimization budget has been exceeded. WARNING: This will\n",
    "slightly exceed the given budget"
   ]
  },
  {
   "cell_type": "code",
   "execution_count": 3,
   "metadata": {
    "collapsed": false,
    "execution": {
     "iopub.execute_input": "2023-08-13T00:21:02.085565Z",
     "iopub.status.busy": "2023-08-13T00:21:02.085123Z",
     "iopub.status.idle": "2023-08-13T00:23:47.012568Z",
     "shell.execute_reply": "2023-08-13T00:23:47.011710Z"
    }
   },
   "outputs": [
    {
     "name": "stdout",
     "output_type": "stream",
     "text": [
      "n_samples: 3 budget used: 0.003604 hypervolume: 0.0375\n",
      "n_samples: 4 budget used: 0.01331 hypervolume: 0.369\n",
      "n_samples: 5 budget used: 0.02331 hypervolume: 0.6036\n",
      "n_samples: 6 budget used: 0.05082 hypervolume: 0.8059\n",
      "n_samples: 7 budget used: 0.0984 hypervolume: 0.9146\n",
      "n_samples: 8 budget used: 0.1799 hypervolume: 1.099\n",
      "n_samples: 9 budget used: 0.3487 hypervolume: 1.354\n",
      "n_samples: 10 budget used: 0.6902 hypervolume: 1.655\n",
      "n_samples: 11 budget used: 1.357 hypervolume: 2.004\n",
      "n_samples: 12 budget used: 2.357 hypervolume: 2.25\n",
      "n_samples: 13 budget used: 3.357 hypervolume: 2.25\n",
      "n_samples: 14 budget used: 3.373 hypervolume: 2.25\n",
      "n_samples: 15 budget used: 3.975 hypervolume: 2.25\n",
      "n_samples: 16 budget used: 4.975 hypervolume: 2.25\n",
      "n_samples: 17 budget used: 5.975 hypervolume: 2.25\n",
      "n_samples: 18 budget used: 6.097 hypervolume: 2.25\n",
      "n_samples: 19 budget used: 7.097 hypervolume: 2.25\n",
      "n_samples: 20 budget used: 8.097 hypervolume: 2.25\n",
      "n_samples: 21 budget used: 8.865 hypervolume: 2.25\n",
      "n_samples: 22 budget used: 8.979 hypervolume: 2.25\n",
      "n_samples: 23 budget used: 8.979 hypervolume: 2.25\n",
      "n_samples: 24 budget used: 9.014 hypervolume: 2.25\n",
      "n_samples: 25 budget used: 9.091 hypervolume: 2.25\n",
      "n_samples: 26 budget used: 9.947 hypervolume: 2.25\n",
      "n_samples: 27 budget used: 9.961 hypervolume: 2.25\n",
      "n_samples: 28 budget used: 9.993 hypervolume: 2.25\n",
      "n_samples: 29 budget used: 10.0 hypervolume: 2.25\n"
     ]
    }
   ],
   "source": [
    "budget = BUDGET\n",
    "while X.generator.calculate_total_cost() < budget:\n",
    "    X.step()\n",
    "    print(f\"n_samples: {len(X.data)} \"\n",
    "          f\"budget used: {X.generator.calculate_total_cost():.4} \"\n",
    "          f\"hypervolume: {X.generator.calculate_hypervolume():.4}\")"
   ]
  },
  {
   "cell_type": "markdown",
   "metadata": {
    "collapsed": false
   },
   "source": [
    "## Show results"
   ]
  },
  {
   "cell_type": "code",
   "execution_count": 4,
   "metadata": {
    "collapsed": false,
    "execution": {
     "iopub.execute_input": "2023-08-13T00:23:47.018972Z",
     "iopub.status.busy": "2023-08-13T00:23:47.016946Z",
     "iopub.status.idle": "2023-08-13T00:23:47.045555Z",
     "shell.execute_reply": "2023-08-13T00:23:47.044483Z"
    }
   },
   "outputs": [
    {
     "data": {
      "text/html": [
       "<div>\n",
       "<style scoped>\n",
       "    .dataframe tbody tr th:only-of-type {\n",
       "        vertical-align: middle;\n",
       "    }\n",
       "\n",
       "    .dataframe tbody tr th {\n",
       "        vertical-align: top;\n",
       "    }\n",
       "\n",
       "    .dataframe thead th {\n",
       "        text-align: right;\n",
       "    }\n",
       "</style>\n",
       "<table border=\"1\" class=\"dataframe\">\n",
       "  <thead>\n",
       "    <tr style=\"text-align: right;\">\n",
       "      <th></th>\n",
       "      <th>x1</th>\n",
       "      <th>x2</th>\n",
       "      <th>s</th>\n",
       "      <th>a</th>\n",
       "      <th>y1</th>\n",
       "      <th>y2</th>\n",
       "      <th>c1</th>\n",
       "      <th>c2</th>\n",
       "      <th>xopt_runtime</th>\n",
       "      <th>xopt_error</th>\n",
       "    </tr>\n",
       "  </thead>\n",
       "  <tbody>\n",
       "    <tr>\n",
       "      <th>1</th>\n",
       "      <td>1.000000</td>\n",
       "      <td>0.750000</td>\n",
       "      <td>0.000000</td>\n",
       "      <td>dummy_constant</td>\n",
       "      <td>1.000000</td>\n",
       "      <td>0.750000</td>\n",
       "      <td>0.626888</td>\n",
       "      <td>0.312500</td>\n",
       "      <td>0.000058</td>\n",
       "      <td>False</td>\n",
       "    </tr>\n",
       "    <tr>\n",
       "      <th>2</th>\n",
       "      <td>0.750000</td>\n",
       "      <td>1.000000</td>\n",
       "      <td>0.100000</td>\n",
       "      <td>dummy_constant</td>\n",
       "      <td>0.750000</td>\n",
       "      <td>1.000000</td>\n",
       "      <td>0.626888</td>\n",
       "      <td>0.312500</td>\n",
       "      <td>0.000013</td>\n",
       "      <td>False</td>\n",
       "    </tr>\n",
       "    <tr>\n",
       "      <th>3</th>\n",
       "      <td>0.345655</td>\n",
       "      <td>2.089366</td>\n",
       "      <td>0.195231</td>\n",
       "      <td>dummy_constant</td>\n",
       "      <td>0.345655</td>\n",
       "      <td>2.089366</td>\n",
       "      <td>3.571791</td>\n",
       "      <td>2.549908</td>\n",
       "      <td>0.000043</td>\n",
       "      <td>False</td>\n",
       "    </tr>\n",
       "    <tr>\n",
       "      <th>4</th>\n",
       "      <td>0.000309</td>\n",
       "      <td>0.574992</td>\n",
       "      <td>0.266000</td>\n",
       "      <td>dummy_constant</td>\n",
       "      <td>0.000309</td>\n",
       "      <td>0.574992</td>\n",
       "      <td>-0.769380</td>\n",
       "      <td>0.255315</td>\n",
       "      <td>0.000042</td>\n",
       "      <td>False</td>\n",
       "    </tr>\n",
       "    <tr>\n",
       "      <th>5</th>\n",
       "      <td>0.000000</td>\n",
       "      <td>0.000000</td>\n",
       "      <td>0.268270</td>\n",
       "      <td>dummy_constant</td>\n",
       "      <td>0.000000</td>\n",
       "      <td>0.000000</td>\n",
       "      <td>-1.100000</td>\n",
       "      <td>0.500000</td>\n",
       "      <td>0.000042</td>\n",
       "      <td>False</td>\n",
       "    </tr>\n",
       "    <tr>\n",
       "      <th>6</th>\n",
       "      <td>0.000000</td>\n",
       "      <td>0.000000</td>\n",
       "      <td>0.358194</td>\n",
       "      <td>dummy_constant</td>\n",
       "      <td>0.000000</td>\n",
       "      <td>0.000000</td>\n",
       "      <td>-1.100000</td>\n",
       "      <td>0.500000</td>\n",
       "      <td>0.000057</td>\n",
       "      <td>False</td>\n",
       "    </tr>\n",
       "    <tr>\n",
       "      <th>7</th>\n",
       "      <td>0.307295</td>\n",
       "      <td>0.000000</td>\n",
       "      <td>0.418917</td>\n",
       "      <td>dummy_constant</td>\n",
       "      <td>0.307295</td>\n",
       "      <td>0.000000</td>\n",
       "      <td>-1.005570</td>\n",
       "      <td>0.287135</td>\n",
       "      <td>0.000041</td>\n",
       "      <td>False</td>\n",
       "    </tr>\n",
       "    <tr>\n",
       "      <th>8</th>\n",
       "      <td>0.000000</td>\n",
       "      <td>0.000000</td>\n",
       "      <td>0.488461</td>\n",
       "      <td>dummy_constant</td>\n",
       "      <td>0.000000</td>\n",
       "      <td>0.000000</td>\n",
       "      <td>-1.100000</td>\n",
       "      <td>0.500000</td>\n",
       "      <td>0.000043</td>\n",
       "      <td>False</td>\n",
       "    </tr>\n",
       "    <tr>\n",
       "      <th>9</th>\n",
       "      <td>0.000000</td>\n",
       "      <td>0.000000</td>\n",
       "      <td>0.601596</td>\n",
       "      <td>dummy_constant</td>\n",
       "      <td>0.000000</td>\n",
       "      <td>0.000000</td>\n",
       "      <td>-1.100000</td>\n",
       "      <td>0.500000</td>\n",
       "      <td>0.000043</td>\n",
       "      <td>False</td>\n",
       "    </tr>\n",
       "    <tr>\n",
       "      <th>10</th>\n",
       "      <td>0.000000</td>\n",
       "      <td>0.000000</td>\n",
       "      <td>0.735659</td>\n",
       "      <td>dummy_constant</td>\n",
       "      <td>0.000000</td>\n",
       "      <td>0.000000</td>\n",
       "      <td>-1.100000</td>\n",
       "      <td>0.500000</td>\n",
       "      <td>0.000041</td>\n",
       "      <td>False</td>\n",
       "    </tr>\n",
       "    <tr>\n",
       "      <th>11</th>\n",
       "      <td>0.000000</td>\n",
       "      <td>0.000000</td>\n",
       "      <td>0.890708</td>\n",
       "      <td>dummy_constant</td>\n",
       "      <td>0.000000</td>\n",
       "      <td>0.000000</td>\n",
       "      <td>-1.100000</td>\n",
       "      <td>0.500000</td>\n",
       "      <td>0.000042</td>\n",
       "      <td>False</td>\n",
       "    </tr>\n",
       "    <tr>\n",
       "      <th>12</th>\n",
       "      <td>0.000000</td>\n",
       "      <td>0.000000</td>\n",
       "      <td>1.000000</td>\n",
       "      <td>dummy_constant</td>\n",
       "      <td>0.000000</td>\n",
       "      <td>0.000000</td>\n",
       "      <td>-1.100000</td>\n",
       "      <td>0.500000</td>\n",
       "      <td>0.000041</td>\n",
       "      <td>False</td>\n",
       "    </tr>\n",
       "    <tr>\n",
       "      <th>13</th>\n",
       "      <td>0.502369</td>\n",
       "      <td>0.000000</td>\n",
       "      <td>1.000000</td>\n",
       "      <td>dummy_constant</td>\n",
       "      <td>0.502369</td>\n",
       "      <td>0.000000</td>\n",
       "      <td>-0.847625</td>\n",
       "      <td>0.250006</td>\n",
       "      <td>0.000045</td>\n",
       "      <td>False</td>\n",
       "    </tr>\n",
       "    <tr>\n",
       "      <th>14</th>\n",
       "      <td>3.141590</td>\n",
       "      <td>0.000000</td>\n",
       "      <td>0.303701</td>\n",
       "      <td>dummy_constant</td>\n",
       "      <td>3.141590</td>\n",
       "      <td>0.000000</td>\n",
       "      <td>8.769588</td>\n",
       "      <td>7.227998</td>\n",
       "      <td>0.000045</td>\n",
       "      <td>False</td>\n",
       "    </tr>\n",
       "    <tr>\n",
       "      <th>15</th>\n",
       "      <td>0.000000</td>\n",
       "      <td>3.141590</td>\n",
       "      <td>0.865205</td>\n",
       "      <td>dummy_constant</td>\n",
       "      <td>0.000000</td>\n",
       "      <td>3.141590</td>\n",
       "      <td>8.769588</td>\n",
       "      <td>7.227998</td>\n",
       "      <td>0.000152</td>\n",
       "      <td>False</td>\n",
       "    </tr>\n",
       "    <tr>\n",
       "      <th>16</th>\n",
       "      <td>0.000000</td>\n",
       "      <td>0.632731</td>\n",
       "      <td>1.000000</td>\n",
       "      <td>dummy_constant</td>\n",
       "      <td>0.000000</td>\n",
       "      <td>0.632731</td>\n",
       "      <td>-0.699652</td>\n",
       "      <td>0.267617</td>\n",
       "      <td>0.000047</td>\n",
       "      <td>False</td>\n",
       "    </tr>\n",
       "    <tr>\n",
       "      <th>17</th>\n",
       "      <td>1.028491</td>\n",
       "      <td>0.000000</td>\n",
       "      <td>1.000000</td>\n",
       "      <td>dummy_constant</td>\n",
       "      <td>1.028491</td>\n",
       "      <td>0.000000</td>\n",
       "      <td>-0.042207</td>\n",
       "      <td>0.529302</td>\n",
       "      <td>0.000044</td>\n",
       "      <td>False</td>\n",
       "    </tr>\n",
       "    <tr>\n",
       "      <th>18</th>\n",
       "      <td>0.000000</td>\n",
       "      <td>0.608757</td>\n",
       "      <td>0.548329</td>\n",
       "      <td>dummy_constant</td>\n",
       "      <td>0.000000</td>\n",
       "      <td>0.608757</td>\n",
       "      <td>-0.729415</td>\n",
       "      <td>0.261828</td>\n",
       "      <td>0.000061</td>\n",
       "      <td>False</td>\n",
       "    </tr>\n",
       "    <tr>\n",
       "      <th>19</th>\n",
       "      <td>0.000000</td>\n",
       "      <td>1.059112</td>\n",
       "      <td>1.000000</td>\n",
       "      <td>dummy_constant</td>\n",
       "      <td>0.000000</td>\n",
       "      <td>1.059112</td>\n",
       "      <td>0.021719</td>\n",
       "      <td>0.562606</td>\n",
       "      <td>0.000042</td>\n",
       "      <td>False</td>\n",
       "    </tr>\n",
       "    <tr>\n",
       "      <th>20</th>\n",
       "      <td>0.710593</td>\n",
       "      <td>0.000000</td>\n",
       "      <td>1.000000</td>\n",
       "      <td>dummy_constant</td>\n",
       "      <td>0.710593</td>\n",
       "      <td>0.000000</td>\n",
       "      <td>-0.595057</td>\n",
       "      <td>0.294349</td>\n",
       "      <td>0.000042</td>\n",
       "      <td>False</td>\n",
       "    </tr>\n",
       "    <tr>\n",
       "      <th>21</th>\n",
       "      <td>1.585252</td>\n",
       "      <td>0.128367</td>\n",
       "      <td>0.927370</td>\n",
       "      <td>dummy_constant</td>\n",
       "      <td>1.585252</td>\n",
       "      <td>0.128367</td>\n",
       "      <td>1.502058</td>\n",
       "      <td>1.315884</td>\n",
       "      <td>0.000042</td>\n",
       "      <td>False</td>\n",
       "    </tr>\n",
       "    <tr>\n",
       "      <th>22</th>\n",
       "      <td>0.081693</td>\n",
       "      <td>1.473249</td>\n",
       "      <td>0.537384</td>\n",
       "      <td>dummy_constant</td>\n",
       "      <td>0.081693</td>\n",
       "      <td>1.473249</td>\n",
       "      <td>1.113910</td>\n",
       "      <td>1.122195</td>\n",
       "      <td>0.000045</td>\n",
       "      <td>False</td>\n",
       "    </tr>\n",
       "    <tr>\n",
       "      <th>23</th>\n",
       "      <td>0.000000</td>\n",
       "      <td>0.000000</td>\n",
       "      <td>0.087076</td>\n",
       "      <td>dummy_constant</td>\n",
       "      <td>0.000000</td>\n",
       "      <td>0.000000</td>\n",
       "      <td>-1.100000</td>\n",
       "      <td>0.500000</td>\n",
       "      <td>0.000043</td>\n",
       "      <td>False</td>\n",
       "    </tr>\n",
       "    <tr>\n",
       "      <th>24</th>\n",
       "      <td>1.818505</td>\n",
       "      <td>0.293090</td>\n",
       "      <td>0.383508</td>\n",
       "      <td>dummy_constant</td>\n",
       "      <td>1.818505</td>\n",
       "      <td>0.293090</td>\n",
       "      <td>2.476242</td>\n",
       "      <td>1.781268</td>\n",
       "      <td>0.000043</td>\n",
       "      <td>False</td>\n",
       "    </tr>\n",
       "    <tr>\n",
       "      <th>25</th>\n",
       "      <td>0.546833</td>\n",
       "      <td>2.716210</td>\n",
       "      <td>0.480219</td>\n",
       "      <td>dummy_constant</td>\n",
       "      <td>0.546833</td>\n",
       "      <td>2.716210</td>\n",
       "      <td>6.776756</td>\n",
       "      <td>4.913781</td>\n",
       "      <td>0.000042</td>\n",
       "      <td>False</td>\n",
       "    </tr>\n",
       "    <tr>\n",
       "      <th>26</th>\n",
       "      <td>1.087195</td>\n",
       "      <td>1.614305</td>\n",
       "      <td>0.956490</td>\n",
       "      <td>dummy_constant</td>\n",
       "      <td>1.087195</td>\n",
       "      <td>1.614305</td>\n",
       "      <td>2.887805</td>\n",
       "      <td>1.586475</td>\n",
       "      <td>0.000059</td>\n",
       "      <td>False</td>\n",
       "    </tr>\n",
       "    <tr>\n",
       "      <th>27</th>\n",
       "      <td>0.751251</td>\n",
       "      <td>1.426890</td>\n",
       "      <td>0.294951</td>\n",
       "      <td>dummy_constant</td>\n",
       "      <td>0.751251</td>\n",
       "      <td>1.426890</td>\n",
       "      <td>1.590401</td>\n",
       "      <td>0.922252</td>\n",
       "      <td>0.000055</td>\n",
       "      <td>False</td>\n",
       "    </tr>\n",
       "    <tr>\n",
       "      <th>28</th>\n",
       "      <td>1.456098</td>\n",
       "      <td>0.049882</td>\n",
       "      <td>0.375223</td>\n",
       "      <td>dummy_constant</td>\n",
       "      <td>1.456098</td>\n",
       "      <td>0.049882</td>\n",
       "      <td>1.037348</td>\n",
       "      <td>1.116730</td>\n",
       "      <td>0.000043</td>\n",
       "      <td>False</td>\n",
       "    </tr>\n",
       "    <tr>\n",
       "      <th>29</th>\n",
       "      <td>0.425068</td>\n",
       "      <td>0.573593</td>\n",
       "      <td>0.254812</td>\n",
       "      <td>dummy_constant</td>\n",
       "      <td>0.425068</td>\n",
       "      <td>0.573593</td>\n",
       "      <td>-0.419169</td>\n",
       "      <td>0.011031</td>\n",
       "      <td>0.000043</td>\n",
       "      <td>False</td>\n",
       "    </tr>\n",
       "  </tbody>\n",
       "</table>\n",
       "</div>"
      ],
      "text/plain": [
       "          x1        x2         s               a        y1        y2  \\\n",
       "1   1.000000  0.750000  0.000000  dummy_constant  1.000000  0.750000   \n",
       "2   0.750000  1.000000  0.100000  dummy_constant  0.750000  1.000000   \n",
       "3   0.345655  2.089366  0.195231  dummy_constant  0.345655  2.089366   \n",
       "4   0.000309  0.574992  0.266000  dummy_constant  0.000309  0.574992   \n",
       "5   0.000000  0.000000  0.268270  dummy_constant  0.000000  0.000000   \n",
       "6   0.000000  0.000000  0.358194  dummy_constant  0.000000  0.000000   \n",
       "7   0.307295  0.000000  0.418917  dummy_constant  0.307295  0.000000   \n",
       "8   0.000000  0.000000  0.488461  dummy_constant  0.000000  0.000000   \n",
       "9   0.000000  0.000000  0.601596  dummy_constant  0.000000  0.000000   \n",
       "10  0.000000  0.000000  0.735659  dummy_constant  0.000000  0.000000   \n",
       "11  0.000000  0.000000  0.890708  dummy_constant  0.000000  0.000000   \n",
       "12  0.000000  0.000000  1.000000  dummy_constant  0.000000  0.000000   \n",
       "13  0.502369  0.000000  1.000000  dummy_constant  0.502369  0.000000   \n",
       "14  3.141590  0.000000  0.303701  dummy_constant  3.141590  0.000000   \n",
       "15  0.000000  3.141590  0.865205  dummy_constant  0.000000  3.141590   \n",
       "16  0.000000  0.632731  1.000000  dummy_constant  0.000000  0.632731   \n",
       "17  1.028491  0.000000  1.000000  dummy_constant  1.028491  0.000000   \n",
       "18  0.000000  0.608757  0.548329  dummy_constant  0.000000  0.608757   \n",
       "19  0.000000  1.059112  1.000000  dummy_constant  0.000000  1.059112   \n",
       "20  0.710593  0.000000  1.000000  dummy_constant  0.710593  0.000000   \n",
       "21  1.585252  0.128367  0.927370  dummy_constant  1.585252  0.128367   \n",
       "22  0.081693  1.473249  0.537384  dummy_constant  0.081693  1.473249   \n",
       "23  0.000000  0.000000  0.087076  dummy_constant  0.000000  0.000000   \n",
       "24  1.818505  0.293090  0.383508  dummy_constant  1.818505  0.293090   \n",
       "25  0.546833  2.716210  0.480219  dummy_constant  0.546833  2.716210   \n",
       "26  1.087195  1.614305  0.956490  dummy_constant  1.087195  1.614305   \n",
       "27  0.751251  1.426890  0.294951  dummy_constant  0.751251  1.426890   \n",
       "28  1.456098  0.049882  0.375223  dummy_constant  1.456098  0.049882   \n",
       "29  0.425068  0.573593  0.254812  dummy_constant  0.425068  0.573593   \n",
       "\n",
       "          c1        c2  xopt_runtime  xopt_error  \n",
       "1   0.626888  0.312500      0.000058       False  \n",
       "2   0.626888  0.312500      0.000013       False  \n",
       "3   3.571791  2.549908      0.000043       False  \n",
       "4  -0.769380  0.255315      0.000042       False  \n",
       "5  -1.100000  0.500000      0.000042       False  \n",
       "6  -1.100000  0.500000      0.000057       False  \n",
       "7  -1.005570  0.287135      0.000041       False  \n",
       "8  -1.100000  0.500000      0.000043       False  \n",
       "9  -1.100000  0.500000      0.000043       False  \n",
       "10 -1.100000  0.500000      0.000041       False  \n",
       "11 -1.100000  0.500000      0.000042       False  \n",
       "12 -1.100000  0.500000      0.000041       False  \n",
       "13 -0.847625  0.250006      0.000045       False  \n",
       "14  8.769588  7.227998      0.000045       False  \n",
       "15  8.769588  7.227998      0.000152       False  \n",
       "16 -0.699652  0.267617      0.000047       False  \n",
       "17 -0.042207  0.529302      0.000044       False  \n",
       "18 -0.729415  0.261828      0.000061       False  \n",
       "19  0.021719  0.562606      0.000042       False  \n",
       "20 -0.595057  0.294349      0.000042       False  \n",
       "21  1.502058  1.315884      0.000042       False  \n",
       "22  1.113910  1.122195      0.000045       False  \n",
       "23 -1.100000  0.500000      0.000043       False  \n",
       "24  2.476242  1.781268      0.000043       False  \n",
       "25  6.776756  4.913781      0.000042       False  \n",
       "26  2.887805  1.586475      0.000059       False  \n",
       "27  1.590401  0.922252      0.000055       False  \n",
       "28  1.037348  1.116730      0.000043       False  \n",
       "29 -0.419169  0.011031      0.000043       False  "
      ]
     },
     "execution_count": 4,
     "metadata": {},
     "output_type": "execute_result"
    }
   ],
   "source": [
    "X.data"
   ]
  },
  {
   "cell_type": "markdown",
   "metadata": {
    "collapsed": false
   },
   "source": [
    "## Plot results\n",
    "Here we plot the resulting observations in input space, colored by feasibility\n",
    "(neglecting the fact that\n",
    "these data points are at varying fidelities).\n"
   ]
  },
  {
   "cell_type": "code",
   "execution_count": 5,
   "metadata": {
    "collapsed": false,
    "execution": {
     "iopub.execute_input": "2023-08-13T00:23:47.051233Z",
     "iopub.status.busy": "2023-08-13T00:23:47.049475Z",
     "iopub.status.idle": "2023-08-13T00:23:47.919864Z",
     "shell.execute_reply": "2023-08-13T00:23:47.918955Z"
    }
   },
   "outputs": [
    {
     "data": {
      "image/png": "[encoded data removed]",
      "text/plain": [
       "<Figure size 640x480 with 1 Axes>"
      ]
     },
     "metadata": {},
     "output_type": "display_data"
    }
   ],
   "source": [
    "import matplotlib.pyplot as plt\n",
    "\n",
    "fig, ax = plt.subplots()\n",
    "\n",
    "theta = np.linspace(0, np.pi / 2)\n",
    "r = np.sqrt(1 + 0.1 * np.cos(16 * theta))\n",
    "x_1 = r * np.sin(theta)\n",
    "x_2_lower = r * np.cos(theta)\n",
    "x_2_upper = (0.5 - (x_1 - 0.5) ** 2) ** 0.5 + 0.5\n",
    "\n",
    "z = np.zeros_like(x_1)\n",
    "\n",
    "# ax2.plot(x_1, x_2_lower,'r')\n",
    "ax.fill_between(x_1, z, x_2_lower, fc=\"white\")\n",
    "circle = plt.Circle(\n",
    "    (0.5, 0.5), 0.5 ** 0.5, color=\"r\", alpha=0.25, zorder=0, label=\"Valid Region\"\n",
    ")\n",
    "ax.add_patch(circle)\n",
    "history = pd.concat(\n",
    "    [X.data, tnk_vocs.feasibility_data(X.data)], axis=1, ignore_index=False\n",
    ")\n",
    "\n",
    "ax.plot(*history[[\"x1\", \"x2\"]][history[\"feasible\"]].to_numpy().T, \".C1\")\n",
    "ax.plot(*history[[\"x1\", \"x2\"]][~history[\"feasible\"]].to_numpy().T, \".C2\")\n",
    "\n",
    "ax.set_xlim(0, 3.14)\n",
    "ax.set_ylim(0, 3.14)\n",
    "ax.set_xlabel(\"x1\")\n",
    "ax.set_ylabel(\"x2\")\n",
    "ax.set_aspect(\"equal\")"
   ]
  },
  {
   "cell_type": "markdown",
   "metadata": {
    "collapsed": false
   },
   "source": [
    "### Plot path through input space"
   ]
  },
  {
   "cell_type": "code",
   "execution_count": 6,
   "metadata": {
    "collapsed": false,
    "execution": {
     "iopub.execute_input": "2023-08-13T00:23:47.924375Z",
     "iopub.status.busy": "2023-08-13T00:23:47.923441Z",
     "iopub.status.idle": "2023-08-13T00:23:48.683768Z",
     "shell.execute_reply": "2023-08-13T00:23:48.682926Z"
    }
   },
   "outputs": [
    {
     "data": {
      "image/png": "[encoded data removed]",
      "text/plain": [
       "<Figure size 640x480 with 4 Axes>"
      ]
     },
     "metadata": {},
     "output_type": "display_data"
    }
   ],
   "source": [
    "ax = history.hist([\"x1\", \"x2\", \"s\"],bins=20)"
   ]
  },
  {
   "cell_type": "code",
   "execution_count": 7,
   "metadata": {
    "collapsed": false,
    "execution": {
     "iopub.execute_input": "2023-08-13T00:23:48.688061Z",
     "iopub.status.busy": "2023-08-13T00:23:48.687787Z",
     "iopub.status.idle": "2023-08-13T00:23:48.977377Z",
     "shell.execute_reply": "2023-08-13T00:23:48.976403Z"
    }
   },
   "outputs": [
    {
     "data": {
      "text/plain": [
       "<Axes: >"
      ]
     },
     "execution_count": 7,
     "metadata": {},
     "output_type": "execute_result"
    },
    {
     "data": {
      "image/png": "[encoded data removed]",
      "text/plain": [
       "<Figure size 640x480 with 1 Axes>"
      ]
     },
     "metadata": {},
     "output_type": "display_data"
    }
   ],
   "source": [
    "history.plot(y=[\"x1\", \"x2\", \"s\"])"
   ]
  },
  {
   "cell_type": "markdown",
   "metadata": {
    "collapsed": false
   },
   "source": [
    "## Plot the acqusisition function\n",
    "Here we plot the acquisition function at a small set of fidelities $[0, 0.5, 1.0]$."
   ]
  },
  {
   "cell_type": "code",
   "execution_count": 8,
   "metadata": {
    "collapsed": false,
    "execution": {
     "iopub.execute_input": "2023-08-13T00:23:48.982332Z",
     "iopub.status.busy": "2023-08-13T00:23:48.981561Z",
     "iopub.status.idle": "2023-08-13T00:24:21.488012Z",
     "shell.execute_reply": "2023-08-13T00:24:21.486923Z"
    }
   },
   "outputs": [
    {
     "name": "stdout",
     "output_type": "stream",
     "text": [
      "[[2.92823633 2.73418175]]\n"
     ]
    },
    {
     "data": {
      "text/plain": [
       "[<matplotlib.lines.Line2D at 0x7f6ecbcefd30>]"
      ]
     },
     "execution_count": 8,
     "metadata": {},
     "output_type": "execute_result"
    },
    {
     "data": {
      "image/png": "[encoded data removed]",
      "text/plain": [
       "<Figure size 640x480 with 2 Axes>"
      ]
     },
     "metadata": {},
     "output_type": "display_data"
    },
    {
     "data": {
      "image/png": "[encoded data removed]",
      "text/plain": [
       "<Figure size 640x480 with 2 Axes>"
      ]
     },
     "metadata": {},
     "output_type": "display_data"
    },
    {
     "data": {
      "image/png": "[encoded data removed]",
      "text/plain": [
       "<Figure size 640x480 with 2 Axes>"
      ]
     },
     "metadata": {},
     "output_type": "display_data"
    }
   ],
   "source": [
    "# plot the acquisition function\n",
    "from xopt.generators.bayesian.objectives import feasibility\n",
    "\n",
    "bounds = generator.vocs.bounds\n",
    "model = generator.model\n",
    "\n",
    "# create mesh over non-fidelity parameters\n",
    "n = 100\n",
    "x = torch.linspace(*bounds.T[1], n)\n",
    "y = torch.linspace(*bounds.T[2], n)\n",
    "xx, yy = torch.meshgrid(x, y)\n",
    "\n",
    "# plot function(s) at a single fidelity parameter\n",
    "fidelities = [0.0, 0.5, 1.0]\n",
    "for fidelity in fidelities:\n",
    "    pts = torch.hstack([ele.reshape(-1, 1) for ele in (xx, yy)]).double()\n",
    "    pts = torch.cat((torch.ones(pts.shape[0],1)*fidelity, pts), dim=-1)\n",
    "\n",
    "    acq_func = generator.get_acquisition(model)\n",
    "    with torch.no_grad():\n",
    "        acq_pts = pts.unsqueeze(1)\n",
    "        acq = acq_func(acq_pts)\n",
    "\n",
    "        fig, ax = plt.subplots()\n",
    "        c = ax.pcolor(xx, yy, acq.reshape(n, n), cmap=\"Blues\")\n",
    "        fig.colorbar(c)\n",
    "        ax.set_title(f\"Acquisition function - s: {fidelity}\")\n",
    "\n",
    "        ax.plot(*history[[\"x1\", \"x2\"]][history[\"feasible\"]].to_numpy().T, \".C1\")\n",
    "        ax.plot(*history[[\"x1\", \"x2\"]][~history[\"feasible\"]].to_numpy().T, \".C2\")\n",
    "\n",
    "        ax.plot(*history[[\"x1\", \"x2\"]].to_numpy()[-1].T, \"+\")\n",
    "\n",
    "\n",
    "candidate = generator.generate(1)\n",
    "print(candidate[[\"x1\", \"x2\"]].to_numpy())\n",
    "ax.plot(*candidate[[\"x1\", \"x2\"]].to_numpy()[0], \"o\")"
   ]
  },
  {
   "cell_type": "code",
   "execution_count": 9,
   "metadata": {
    "collapsed": false,
    "execution": {
     "iopub.execute_input": "2023-08-13T00:24:21.492290Z",
     "iopub.status.busy": "2023-08-13T00:24:21.491801Z",
     "iopub.status.idle": "2023-08-13T00:24:21.513877Z",
     "shell.execute_reply": "2023-08-13T00:24:21.512580Z"
    }
   },
   "outputs": [
    {
     "data": {
      "text/plain": [
       "[('likelihood.noise_covar.raw_noise',\n",
       "  Parameter containing:\n",
       "  tensor([-25.4714], dtype=torch.float64, requires_grad=True)),\n",
       " ('mean_module.raw_constant',\n",
       "  Parameter containing:\n",
       "  tensor(-0.1751, dtype=torch.float64, requires_grad=True)),\n",
       " ('covar_module.raw_outputscale',\n",
       "  Parameter containing:\n",
       "  tensor(-0.0353, dtype=torch.float64, requires_grad=True)),\n",
       " ('covar_module.base_kernel.raw_lengthscale',\n",
       "  Parameter containing:\n",
       "  tensor([[0.5573, 1.7784, 1.9972]], dtype=torch.float64, requires_grad=True))]"
      ]
     },
     "execution_count": 9,
     "metadata": {},
     "output_type": "execute_result"
    }
   ],
   "source": [
    "# examine lengthscale of the first objective\n",
    "list(model.models[0].named_parameters())"
   ]
  },
  {
   "cell_type": "code",
   "execution_count": 10,
   "metadata": {
    "collapsed": false,
    "execution": {
     "iopub.execute_input": "2023-08-13T00:24:21.517752Z",
     "iopub.status.busy": "2023-08-13T00:24:21.517448Z",
     "iopub.status.idle": "2023-08-13T00:24:21.563707Z",
     "shell.execute_reply": "2023-08-13T00:24:21.562716Z"
    }
   },
   "outputs": [],
   "source": [
    "# dump results to file\n",
    "X.options.dump_file = \"results.yaml\"\n",
    "X.dump_state()"
   ]
  },
  {
   "cell_type": "code",
   "execution_count": 10,
   "metadata": {
    "collapsed": false
   },
   "outputs": [],
   "source": []
  }
 ],
 "metadata": {
  "interpreter": {
   "hash": "72034539424920dfb606fe3b820b3f27dca0cbf1c69938110810ec4641e275b1"
  },
  "kernelspec": {
   "display_name": "Python 3 (ipykernel)",
   "language": "python",
   "name": "python3"
  },
  "language_info": {
   "codemirror_mode": {
    "name": "ipython",
    "version": 3
   },
   "file_extension": ".py",
   "mimetype": "text/x-python",
   "name": "python",
   "nbconvert_exporter": "python",
   "pygments_lexer": "ipython3",
   "version": "3.9.17"
  }
 },
 "nbformat": 4,
 "nbformat_minor": 4
}
