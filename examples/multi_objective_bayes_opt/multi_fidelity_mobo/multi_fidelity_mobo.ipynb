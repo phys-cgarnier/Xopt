{
 "cells": [
  {
   "cell_type": "markdown",
   "metadata": {},
   "source": [
    "# Multi-fidelity Multi-objective Bayesian Optimization\n",
    "\n",
    "Here we attempt to solve for the constrained Pareto front of the TNK multi-objective\n",
    "optimization problem using Multi-Fidelity Multi-Objective Bayesian optimization. For\n",
    "simplicity we assume that the objective and constraint functions at lower fidelities is\n",
    "exactly equal to the functions at higher fidelities (this is obviously not a\n",
    "requirement, although for the best results lower fidelity calculations should\n",
    "correlate with higher fidelity ones). The algorithm should learn this relationship\n",
    "and use information gathered at lower fidelities to gather samples to improve the\n",
    "hypervolume of the Pareto front at the maximum fidelity.\n",
    "\n",
    "TNK function\n",
    "$n=2$ variables:\n",
    "$x_i \\in [0, \\pi], i=1,2$\n",
    "\n",
    "Objectives:\n",
    "- $f_i(x) = x_i$\n",
    "\n",
    "Constraints:\n",
    "- $g_1(x) = -x_1^2 -x_2^2 + 1 + 0.1 \\cos\\left(16 \\arctan \\frac{x_1}{x_2}\\right) \\le 0$\n",
    "- $g_2(x) = (x_1 - 1/2)^2 + (x_2-1/2)^2 \\le 0.5$"
   ]
  },
  {
   "cell_type": "code",
   "execution_count": 1,
   "metadata": {
    "collapsed": false,
    "execution": {
     "iopub.execute_input": "2023-06-30T02:16:47.850105Z",
     "iopub.status.busy": "2023-06-30T02:16:47.849845Z",
     "iopub.status.idle": "2023-06-30T02:16:50.249977Z",
     "shell.execute_reply": "2023-06-30T02:16:50.249176Z"
    }
   },
   "outputs": [
    {
     "name": "stdout",
     "output_type": "stream",
     "text": [
      "{'variables': {'x1': [0.0, 3.14159], 'x2': [0.0, 3.14159]}, 'constraints': {'c1': ['GREATER_THAN', 0.0], 'c2': ['LESS_THAN', 0.5]}, 'objectives': {'y1': 'MINIMIZE', 'y2': 'MINIMIZE'}, 'constants': {'a': 'dummy_constant'}, 'observables': []}\n"
     ]
    }
   ],
   "source": [
    "# set values if testing\n",
    "import os\n",
    "SMOKE_TEST = os.environ.get(\"SMOKE_TEST\")\n",
    "N_MC_SAMPLES = 1 if SMOKE_TEST else 128\n",
    "NUM_RESTARTS = 1 if SMOKE_TEST else 20\n",
    "BUDGET = 0.02 if SMOKE_TEST else 10\n",
    "\n",
    "# Ignore all warnings\n",
    "import warnings\n",
    "warnings.filterwarnings(\"ignore\")\n",
    "\n",
    "import pandas as pd\n",
    "import numpy as np\n",
    "import torch\n",
    "\n",
    "from xopt import Xopt, Evaluator\n",
    "from xopt.generators.bayesian import MultiFidelityGenerator\n",
    "from xopt.resources.test_functions.tnk import evaluate_TNK, tnk_vocs\n",
    "\n",
    "evaluator = Evaluator(function=evaluate_TNK)\n",
    "print(tnk_vocs.dict())"
   ]
  },
  {
   "cell_type": "markdown",
   "metadata": {
    "collapsed": false
   },
   "source": [
    "## Set up the Multi-Fidelity Multi-objective optimization algorithm\n",
    "Here we create the Multi-Fidelity generator object which can solve both single and\n",
    "multi-objective optimization problems depending on the number of objectives in VOCS.\n",
    "We specify a cost function as a function of fidelity parameter $s=[0,1]$ as $C(s) =\n",
    "s^{3.5}$ as an example from a real life multi-fidelity simulation problem."
   ]
  },
  {
   "cell_type": "code",
   "execution_count": 2,
   "metadata": {
    "collapsed": false,
    "execution": {
     "iopub.execute_input": "2023-06-30T02:16:50.289543Z",
     "iopub.status.busy": "2023-06-30T02:16:50.288691Z",
     "iopub.status.idle": "2023-06-30T02:16:50.311179Z",
     "shell.execute_reply": "2023-06-30T02:16:50.310648Z"
    }
   },
   "outputs": [
    {
     "data": {
      "text/plain": [
       "\n",
       "            Xopt\n",
       "________________________________\n",
       "Version: 0+untagged.1.gec8863e\n",
       "Data size: 2\n",
       "Config as YAML:\n",
       "xopt: {asynch: false, strict: false, dump_file: null, max_evaluations: null}\n",
       "generator:\n",
       "  name: multi_fidelity\n",
       "  model: null\n",
       "  turbo_controller: null\n",
       "  use_cuda: false\n",
       "  model_constructor:\n",
       "    name: standard\n",
       "    use_low_noise_prior: true\n",
       "    covar_modules: {}\n",
       "    mean_modules: {}\n",
       "    trainable_mean_keys: []\n",
       "  numerical_optimizer: {name: LBFGS, n_raw_samples: 20, n_restarts: 20, max_iter: 2000}\n",
       "  max_travel_distances: null\n",
       "  n_monte_carlo_samples: 128\n",
       "  reference_point: {y1: 1.5, y2: 1.5, s: 0.0}\n",
       "  fidelity_parameter: s\n",
       "  cost_function: __main__.<lambda>\n",
       "evaluator:\n",
       "  function: xopt.resources.test_functions.tnk.evaluate_TNK\n",
       "  max_workers: 1\n",
       "  function_kwargs: {sleep: 0, random_sleep: 0, raise_probability: 0}\n",
       "  vectorized: false\n",
       "vocs:\n",
       "  variables:\n",
       "    x1: [0.0, 3.14159]\n",
       "    x2: [0.0, 3.14159]\n",
       "    s: [0, 1]\n",
       "  constraints: {}\n",
       "  objectives: {y1: MINIMIZE, y2: MINIMIZE, s: MAXIMIZE}\n",
       "  constants: {a: dummy_constant}\n",
       "  observables: []\n"
      ]
     },
     "execution_count": 2,
     "metadata": {},
     "output_type": "execute_result"
    }
   ],
   "source": [
    "from copy import deepcopy\n",
    "my_vocs = deepcopy(tnk_vocs)\n",
    "my_vocs.constraints = {}\n",
    "generator = MultiFidelityGenerator(vocs=my_vocs, reference_point = {\"y1\":1.5,\"y2\":1.5})\n",
    "\n",
    "# set cost function according to approximate scaling of laser plasma accelerator\n",
    "# problem, see https://journals.aps.org/prresearch/abstract/10.1103/PhysRevResearch.5.013063\n",
    "generator.cost_function = lambda s: s**3.5\n",
    "generator.numerical_optimizer.n_restarts = NUM_RESTARTS\n",
    "generator.n_monte_carlo_samples = N_MC_SAMPLES\n",
    "\n",
    "X = Xopt(generator=generator, evaluator=evaluator, vocs=my_vocs)\n",
    "\n",
    "# evaluate at some explicit initial points\n",
    "X.evaluate_data(pd.DataFrame({\"x1\":[1.0, 0.75],\"x2\":[0.75, 1.0],\"s\":[0.0,0.1]}))\n",
    "\n",
    "X"
   ]
  },
  {
   "cell_type": "markdown",
   "metadata": {
    "collapsed": false
   },
   "source": [
    "## Run optimization routine\n",
    "Instead of ending the optimization routine after an explict number of samples we end\n",
    "optimization once a given optimization budget has been exceeded. WARNING: This will\n",
    "slightly exceed the given budget"
   ]
  },
  {
   "cell_type": "code",
   "execution_count": 3,
   "metadata": {
    "collapsed": false,
    "execution": {
     "iopub.execute_input": "2023-06-30T02:16:50.314110Z",
     "iopub.status.busy": "2023-06-30T02:16:50.313667Z",
     "iopub.status.idle": "2023-06-30T02:18:40.267988Z",
     "shell.execute_reply": "2023-06-30T02:18:40.267403Z"
    }
   },
   "outputs": [
    {
     "name": "stdout",
     "output_type": "stream",
     "text": [
      "n_samples: 3 budget used: 0.01034 hypervolume: 0.04498\n",
      "n_samples: 4 budget used: 0.0114 hypervolume: 0.04498\n",
      "n_samples: 5 budget used: 0.0214 hypervolume: 0.278\n",
      "n_samples: 6 budget used: 0.03146 hypervolume: 0.5672\n",
      "n_samples: 7 budget used: 0.05762 hypervolume: 0.7945\n",
      "n_samples: 8 budget used: 0.1043 hypervolume: 0.9102\n",
      "n_samples: 9 budget used: 0.1143 hypervolume: 0.9102\n",
      "n_samples: 10 budget used: 0.2024 hypervolume: 1.124\n",
      "n_samples: 11 budget used: 0.3927 hypervolume: 1.4\n",
      "n_samples: 12 budget used: 0.8066 hypervolume: 1.749\n",
      "n_samples: 13 budget used: 1.678 hypervolume: 2.163\n",
      "n_samples: 14 budget used: 2.678 hypervolume: 2.219\n",
      "n_samples: 15 budget used: 3.678 hypervolume: 2.239\n",
      "n_samples: 16 budget used: 3.77 hypervolume: 2.239\n",
      "n_samples: 17 budget used: 3.898 hypervolume: 2.239\n",
      "n_samples: 18 budget used: 4.898 hypervolume: 2.25\n",
      "n_samples: 19 budget used: 4.964 hypervolume: 2.25\n",
      "n_samples: 20 budget used: 5.964 hypervolume: 2.25\n",
      "n_samples: 21 budget used: 6.964 hypervolume: 2.25\n",
      "n_samples: 22 budget used: 7.964 hypervolume: 2.25\n",
      "n_samples: 23 budget used: 7.968 hypervolume: 2.25\n",
      "n_samples: 24 budget used: 7.991 hypervolume: 2.25\n",
      "n_samples: 25 budget used: 8.0 hypervolume: 2.25\n",
      "n_samples: 26 budget used: 8.849 hypervolume: 2.25\n",
      "n_samples: 27 budget used: 9.662 hypervolume: 2.25\n",
      "n_samples: 28 budget used: 9.662 hypervolume: 2.25\n",
      "n_samples: 29 budget used: 9.932 hypervolume: 2.25\n",
      "n_samples: 30 budget used: 9.939 hypervolume: 2.25\n",
      "n_samples: 31 budget used: 10.05 hypervolume: 2.25\n"
     ]
    }
   ],
   "source": [
    "budget = BUDGET\n",
    "while X.generator.calculate_total_cost() < budget:\n",
    "    X.step()\n",
    "    print(f\"n_samples: {len(X.data)} \"\n",
    "          f\"budget used: {X.generator.calculate_total_cost():.4} \"\n",
    "          f\"hypervolume: {X.generator.calculate_hypervolume():.4}\")"
   ]
  },
  {
   "cell_type": "markdown",
   "metadata": {
    "collapsed": false
   },
   "source": [
    "## Show results"
   ]
  },
  {
   "cell_type": "code",
   "execution_count": 4,
   "metadata": {
    "collapsed": false,
    "execution": {
     "iopub.execute_input": "2023-06-30T02:18:40.271986Z",
     "iopub.status.busy": "2023-06-30T02:18:40.271494Z",
     "iopub.status.idle": "2023-06-30T02:18:40.298156Z",
     "shell.execute_reply": "2023-06-30T02:18:40.297627Z"
    }
   },
   "outputs": [
    {
     "data": {
      "text/html": [
       "<div>\n",
       "<style scoped>\n",
       "    .dataframe tbody tr th:only-of-type {\n",
       "        vertical-align: middle;\n",
       "    }\n",
       "\n",
       "    .dataframe tbody tr th {\n",
       "        vertical-align: top;\n",
       "    }\n",
       "\n",
       "    .dataframe thead th {\n",
       "        text-align: right;\n",
       "    }\n",
       "</style>\n",
       "<table border=\"1\" class=\"dataframe\">\n",
       "  <thead>\n",
       "    <tr style=\"text-align: right;\">\n",
       "      <th></th>\n",
       "      <th>x1</th>\n",
       "      <th>x2</th>\n",
       "      <th>s</th>\n",
       "      <th>y1</th>\n",
       "      <th>y2</th>\n",
       "      <th>c1</th>\n",
       "      <th>c2</th>\n",
       "      <th>some_array</th>\n",
       "      <th>xopt_runtime</th>\n",
       "      <th>xopt_error</th>\n",
       "      <th>a</th>\n",
       "    </tr>\n",
       "  </thead>\n",
       "  <tbody>\n",
       "    <tr>\n",
       "      <th>1</th>\n",
       "      <td>1.000000</td>\n",
       "      <td>0.750000</td>\n",
       "      <td>0.000000</td>\n",
       "      <td>1.000000</td>\n",
       "      <td>0.750000</td>\n",
       "      <td>0.626888</td>\n",
       "      <td>0.312500</td>\n",
       "      <td>[1, 2, 3]</td>\n",
       "      <td>0.000048</td>\n",
       "      <td>False</td>\n",
       "      <td>NaN</td>\n",
       "    </tr>\n",
       "    <tr>\n",
       "      <th>2</th>\n",
       "      <td>0.750000</td>\n",
       "      <td>1.000000</td>\n",
       "      <td>0.100000</td>\n",
       "      <td>0.750000</td>\n",
       "      <td>1.000000</td>\n",
       "      <td>0.626888</td>\n",
       "      <td>0.312500</td>\n",
       "      <td>[1, 2, 3]</td>\n",
       "      <td>0.000011</td>\n",
       "      <td>False</td>\n",
       "      <td>NaN</td>\n",
       "    </tr>\n",
       "    <tr>\n",
       "      <th>3</th>\n",
       "      <td>0.215439</td>\n",
       "      <td>1.472264</td>\n",
       "      <td>0.268420</td>\n",
       "      <td>0.215439</td>\n",
       "      <td>1.472264</td>\n",
       "      <td>1.282432</td>\n",
       "      <td>1.026273</td>\n",
       "      <td>[1, 2, 3]</td>\n",
       "      <td>0.000037</td>\n",
       "      <td>False</td>\n",
       "      <td>dummy_constant</td>\n",
       "    </tr>\n",
       "    <tr>\n",
       "      <th>4</th>\n",
       "      <td>0.399186</td>\n",
       "      <td>2.911031</td>\n",
       "      <td>0.141286</td>\n",
       "      <td>0.399186</td>\n",
       "      <td>2.911031</td>\n",
       "      <td>7.690711</td>\n",
       "      <td>5.823234</td>\n",
       "      <td>[1, 2, 3]</td>\n",
       "      <td>0.000040</td>\n",
       "      <td>False</td>\n",
       "      <td>dummy_constant</td>\n",
       "    </tr>\n",
       "    <tr>\n",
       "      <th>5</th>\n",
       "      <td>0.000000</td>\n",
       "      <td>0.809157</td>\n",
       "      <td>0.268270</td>\n",
       "      <td>0.000000</td>\n",
       "      <td>0.809157</td>\n",
       "      <td>-0.445265</td>\n",
       "      <td>0.345578</td>\n",
       "      <td>[1, 2, 3]</td>\n",
       "      <td>0.000040</td>\n",
       "      <td>False</td>\n",
       "      <td>dummy_constant</td>\n",
       "    </tr>\n",
       "    <tr>\n",
       "      <th>6</th>\n",
       "      <td>0.000000</td>\n",
       "      <td>0.092780</td>\n",
       "      <td>0.268727</td>\n",
       "      <td>0.000000</td>\n",
       "      <td>0.092780</td>\n",
       "      <td>-1.091392</td>\n",
       "      <td>0.415828</td>\n",
       "      <td>[1, 2, 3]</td>\n",
       "      <td>0.000036</td>\n",
       "      <td>False</td>\n",
       "      <td>dummy_constant</td>\n",
       "    </tr>\n",
       "    <tr>\n",
       "      <th>7</th>\n",
       "      <td>0.000000</td>\n",
       "      <td>0.000000</td>\n",
       "      <td>0.353111</td>\n",
       "      <td>0.000000</td>\n",
       "      <td>0.000000</td>\n",
       "      <td>-1.100000</td>\n",
       "      <td>0.500000</td>\n",
       "      <td>[1, 2, 3]</td>\n",
       "      <td>0.000039</td>\n",
       "      <td>False</td>\n",
       "      <td>dummy_constant</td>\n",
       "    </tr>\n",
       "    <tr>\n",
       "      <th>8</th>\n",
       "      <td>0.283958</td>\n",
       "      <td>0.000000</td>\n",
       "      <td>0.416517</td>\n",
       "      <td>0.283958</td>\n",
       "      <td>0.000000</td>\n",
       "      <td>-1.019368</td>\n",
       "      <td>0.296674</td>\n",
       "      <td>[1, 2, 3]</td>\n",
       "      <td>0.000040</td>\n",
       "      <td>False</td>\n",
       "      <td>dummy_constant</td>\n",
       "    </tr>\n",
       "    <tr>\n",
       "      <th>9</th>\n",
       "      <td>3.140453</td>\n",
       "      <td>0.000000</td>\n",
       "      <td>0.268270</td>\n",
       "      <td>3.140453</td>\n",
       "      <td>0.000000</td>\n",
       "      <td>8.762442</td>\n",
       "      <td>7.221990</td>\n",
       "      <td>[1, 2, 3]</td>\n",
       "      <td>0.000037</td>\n",
       "      <td>False</td>\n",
       "      <td>dummy_constant</td>\n",
       "    </tr>\n",
       "    <tr>\n",
       "      <th>10</th>\n",
       "      <td>0.000000</td>\n",
       "      <td>0.000000</td>\n",
       "      <td>0.499687</td>\n",
       "      <td>0.000000</td>\n",
       "      <td>0.000000</td>\n",
       "      <td>-1.100000</td>\n",
       "      <td>0.500000</td>\n",
       "      <td>[1, 2, 3]</td>\n",
       "      <td>0.000040</td>\n",
       "      <td>False</td>\n",
       "      <td>dummy_constant</td>\n",
       "    </tr>\n",
       "    <tr>\n",
       "      <th>11</th>\n",
       "      <td>0.000000</td>\n",
       "      <td>0.000000</td>\n",
       "      <td>0.622444</td>\n",
       "      <td>0.000000</td>\n",
       "      <td>0.000000</td>\n",
       "      <td>-1.100000</td>\n",
       "      <td>0.500000</td>\n",
       "      <td>[1, 2, 3]</td>\n",
       "      <td>0.000040</td>\n",
       "      <td>False</td>\n",
       "      <td>dummy_constant</td>\n",
       "    </tr>\n",
       "    <tr>\n",
       "      <th>12</th>\n",
       "      <td>0.000000</td>\n",
       "      <td>0.000000</td>\n",
       "      <td>0.777226</td>\n",
       "      <td>0.000000</td>\n",
       "      <td>0.000000</td>\n",
       "      <td>-1.100000</td>\n",
       "      <td>0.500000</td>\n",
       "      <td>[1, 2, 3]</td>\n",
       "      <td>0.000040</td>\n",
       "      <td>False</td>\n",
       "      <td>dummy_constant</td>\n",
       "    </tr>\n",
       "    <tr>\n",
       "      <th>13</th>\n",
       "      <td>0.000000</td>\n",
       "      <td>0.000000</td>\n",
       "      <td>0.961353</td>\n",
       "      <td>0.000000</td>\n",
       "      <td>0.000000</td>\n",
       "      <td>-1.100000</td>\n",
       "      <td>0.500000</td>\n",
       "      <td>[1, 2, 3]</td>\n",
       "      <td>0.000039</td>\n",
       "      <td>False</td>\n",
       "      <td>dummy_constant</td>\n",
       "    </tr>\n",
       "    <tr>\n",
       "      <th>14</th>\n",
       "      <td>0.000000</td>\n",
       "      <td>0.532698</td>\n",
       "      <td>1.000000</td>\n",
       "      <td>0.000000</td>\n",
       "      <td>0.532698</td>\n",
       "      <td>-0.816232</td>\n",
       "      <td>0.251069</td>\n",
       "      <td>[1, 2, 3]</td>\n",
       "      <td>0.000038</td>\n",
       "      <td>False</td>\n",
       "      <td>dummy_constant</td>\n",
       "    </tr>\n",
       "    <tr>\n",
       "      <th>15</th>\n",
       "      <td>0.519467</td>\n",
       "      <td>0.000000</td>\n",
       "      <td>1.000000</td>\n",
       "      <td>0.519467</td>\n",
       "      <td>0.000000</td>\n",
       "      <td>-0.830155</td>\n",
       "      <td>0.250379</td>\n",
       "      <td>[1, 2, 3]</td>\n",
       "      <td>0.000039</td>\n",
       "      <td>False</td>\n",
       "      <td>dummy_constant</td>\n",
       "    </tr>\n",
       "    <tr>\n",
       "      <th>16</th>\n",
       "      <td>0.000000</td>\n",
       "      <td>0.484618</td>\n",
       "      <td>0.505587</td>\n",
       "      <td>0.000000</td>\n",
       "      <td>0.484618</td>\n",
       "      <td>-0.865146</td>\n",
       "      <td>0.250237</td>\n",
       "      <td>[1, 2, 3]</td>\n",
       "      <td>0.000042</td>\n",
       "      <td>False</td>\n",
       "      <td>dummy_constant</td>\n",
       "    </tr>\n",
       "    <tr>\n",
       "      <th>17</th>\n",
       "      <td>0.900601</td>\n",
       "      <td>0.000000</td>\n",
       "      <td>0.556434</td>\n",
       "      <td>0.900601</td>\n",
       "      <td>0.000000</td>\n",
       "      <td>-0.288919</td>\n",
       "      <td>0.410481</td>\n",
       "      <td>[1, 2, 3]</td>\n",
       "      <td>0.000040</td>\n",
       "      <td>False</td>\n",
       "      <td>dummy_constant</td>\n",
       "    </tr>\n",
       "    <tr>\n",
       "      <th>18</th>\n",
       "      <td>0.000000</td>\n",
       "      <td>0.000000</td>\n",
       "      <td>1.000000</td>\n",
       "      <td>0.000000</td>\n",
       "      <td>0.000000</td>\n",
       "      <td>-1.100000</td>\n",
       "      <td>0.500000</td>\n",
       "      <td>[1, 2, 3]</td>\n",
       "      <td>0.000041</td>\n",
       "      <td>False</td>\n",
       "      <td>dummy_constant</td>\n",
       "    </tr>\n",
       "    <tr>\n",
       "      <th>19</th>\n",
       "      <td>2.977769</td>\n",
       "      <td>1.272948</td>\n",
       "      <td>0.460238</td>\n",
       "      <td>2.977769</td>\n",
       "      <td>1.272948</td>\n",
       "      <td>9.389126</td>\n",
       "      <td>6.736787</td>\n",
       "      <td>[1, 2, 3]</td>\n",
       "      <td>0.000039</td>\n",
       "      <td>False</td>\n",
       "      <td>dummy_constant</td>\n",
       "    </tr>\n",
       "    <tr>\n",
       "      <th>20</th>\n",
       "      <td>0.307589</td>\n",
       "      <td>0.319884</td>\n",
       "      <td>1.000000</td>\n",
       "      <td>0.307589</td>\n",
       "      <td>0.319884</td>\n",
       "      <td>-0.898189</td>\n",
       "      <td>0.069464</td>\n",
       "      <td>[1, 2, 3]</td>\n",
       "      <td>0.000064</td>\n",
       "      <td>False</td>\n",
       "      <td>dummy_constant</td>\n",
       "    </tr>\n",
       "    <tr>\n",
       "      <th>21</th>\n",
       "      <td>0.000000</td>\n",
       "      <td>1.117495</td>\n",
       "      <td>1.000000</td>\n",
       "      <td>0.000000</td>\n",
       "      <td>1.117495</td>\n",
       "      <td>0.148796</td>\n",
       "      <td>0.631300</td>\n",
       "      <td>[1, 2, 3]</td>\n",
       "      <td>0.000040</td>\n",
       "      <td>False</td>\n",
       "      <td>dummy_constant</td>\n",
       "    </tr>\n",
       "    <tr>\n",
       "      <th>22</th>\n",
       "      <td>1.133128</td>\n",
       "      <td>0.000000</td>\n",
       "      <td>1.000000</td>\n",
       "      <td>1.133128</td>\n",
       "      <td>0.000000</td>\n",
       "      <td>0.183980</td>\n",
       "      <td>0.650851</td>\n",
       "      <td>[1, 2, 3]</td>\n",
       "      <td>0.000041</td>\n",
       "      <td>False</td>\n",
       "      <td>dummy_constant</td>\n",
       "    </tr>\n",
       "    <tr>\n",
       "      <th>23</th>\n",
       "      <td>2.723703</td>\n",
       "      <td>1.492472</td>\n",
       "      <td>0.194917</td>\n",
       "      <td>2.723703</td>\n",
       "      <td>1.492472</td>\n",
       "      <td>8.662597</td>\n",
       "      <td>5.929858</td>\n",
       "      <td>[1, 2, 3]</td>\n",
       "      <td>0.000041</td>\n",
       "      <td>False</td>\n",
       "      <td>dummy_constant</td>\n",
       "    </tr>\n",
       "    <tr>\n",
       "      <th>24</th>\n",
       "      <td>2.976194</td>\n",
       "      <td>0.670924</td>\n",
       "      <td>0.340490</td>\n",
       "      <td>2.976194</td>\n",
       "      <td>0.670924</td>\n",
       "      <td>8.399743</td>\n",
       "      <td>6.160754</td>\n",
       "      <td>[1, 2, 3]</td>\n",
       "      <td>0.000041</td>\n",
       "      <td>False</td>\n",
       "      <td>dummy_constant</td>\n",
       "    </tr>\n",
       "    <tr>\n",
       "      <th>25</th>\n",
       "      <td>0.854149</td>\n",
       "      <td>0.000000</td>\n",
       "      <td>0.263056</td>\n",
       "      <td>0.854149</td>\n",
       "      <td>0.000000</td>\n",
       "      <td>-0.370430</td>\n",
       "      <td>0.375421</td>\n",
       "      <td>[1, 2, 3]</td>\n",
       "      <td>0.000041</td>\n",
       "      <td>False</td>\n",
       "      <td>dummy_constant</td>\n",
       "    </tr>\n",
       "    <tr>\n",
       "      <th>26</th>\n",
       "      <td>1.926431</td>\n",
       "      <td>0.333354</td>\n",
       "      <td>0.954464</td>\n",
       "      <td>1.926431</td>\n",
       "      <td>0.333354</td>\n",
       "      <td>2.914363</td>\n",
       "      <td>2.062475</td>\n",
       "      <td>[1, 2, 3]</td>\n",
       "      <td>0.000041</td>\n",
       "      <td>False</td>\n",
       "      <td>dummy_constant</td>\n",
       "    </tr>\n",
       "    <tr>\n",
       "      <th>27</th>\n",
       "      <td>0.164881</td>\n",
       "      <td>0.118438</td>\n",
       "      <td>0.942297</td>\n",
       "      <td>0.164881</td>\n",
       "      <td>0.118438</td>\n",
       "      <td>-0.873116</td>\n",
       "      <td>0.257894</td>\n",
       "      <td>[1, 2, 3]</td>\n",
       "      <td>0.000041</td>\n",
       "      <td>False</td>\n",
       "      <td>dummy_constant</td>\n",
       "    </tr>\n",
       "    <tr>\n",
       "      <th>28</th>\n",
       "      <td>3.122533</td>\n",
       "      <td>1.009247</td>\n",
       "      <td>0.073618</td>\n",
       "      <td>3.122533</td>\n",
       "      <td>1.009247</td>\n",
       "      <td>9.740249</td>\n",
       "      <td>7.137013</td>\n",
       "      <td>[1, 2, 3]</td>\n",
       "      <td>0.000040</td>\n",
       "      <td>False</td>\n",
       "      <td>dummy_constant</td>\n",
       "    </tr>\n",
       "    <tr>\n",
       "      <th>29</th>\n",
       "      <td>1.631240</td>\n",
       "      <td>0.145665</td>\n",
       "      <td>0.688215</td>\n",
       "      <td>1.631240</td>\n",
       "      <td>0.145665</td>\n",
       "      <td>1.667631</td>\n",
       "      <td>1.405258</td>\n",
       "      <td>[1, 2, 3]</td>\n",
       "      <td>0.000041</td>\n",
       "      <td>False</td>\n",
       "      <td>dummy_constant</td>\n",
       "    </tr>\n",
       "    <tr>\n",
       "      <th>30</th>\n",
       "      <td>1.954394</td>\n",
       "      <td>2.579675</td>\n",
       "      <td>0.241212</td>\n",
       "      <td>1.954394</td>\n",
       "      <td>2.579675</td>\n",
       "      <td>9.532636</td>\n",
       "      <td>6.440310</td>\n",
       "      <td>[1, 2, 3]</td>\n",
       "      <td>0.000041</td>\n",
       "      <td>False</td>\n",
       "      <td>dummy_constant</td>\n",
       "    </tr>\n",
       "    <tr>\n",
       "      <th>31</th>\n",
       "      <td>1.335671</td>\n",
       "      <td>2.578614</td>\n",
       "      <td>0.530520</td>\n",
       "      <td>1.335671</td>\n",
       "      <td>2.578614</td>\n",
       "      <td>7.412699</td>\n",
       "      <td>5.018980</td>\n",
       "      <td>[1, 2, 3]</td>\n",
       "      <td>0.000039</td>\n",
       "      <td>False</td>\n",
       "      <td>dummy_constant</td>\n",
       "    </tr>\n",
       "  </tbody>\n",
       "</table>\n",
       "</div>"
      ],
      "text/plain": [
       "          x1        x2         s        y1        y2        c1        c2  \\\n",
       "1   1.000000  0.750000  0.000000  1.000000  0.750000  0.626888  0.312500   \n",
       "2   0.750000  1.000000  0.100000  0.750000  1.000000  0.626888  0.312500   \n",
       "3   0.215439  1.472264  0.268420  0.215439  1.472264  1.282432  1.026273   \n",
       "4   0.399186  2.911031  0.141286  0.399186  2.911031  7.690711  5.823234   \n",
       "5   0.000000  0.809157  0.268270  0.000000  0.809157 -0.445265  0.345578   \n",
       "6   0.000000  0.092780  0.268727  0.000000  0.092780 -1.091392  0.415828   \n",
       "7   0.000000  0.000000  0.353111  0.000000  0.000000 -1.100000  0.500000   \n",
       "8   0.283958  0.000000  0.416517  0.283958  0.000000 -1.019368  0.296674   \n",
       "9   3.140453  0.000000  0.268270  3.140453  0.000000  8.762442  7.221990   \n",
       "10  0.000000  0.000000  0.499687  0.000000  0.000000 -1.100000  0.500000   \n",
       "11  0.000000  0.000000  0.622444  0.000000  0.000000 -1.100000  0.500000   \n",
       "12  0.000000  0.000000  0.777226  0.000000  0.000000 -1.100000  0.500000   \n",
       "13  0.000000  0.000000  0.961353  0.000000  0.000000 -1.100000  0.500000   \n",
       "14  0.000000  0.532698  1.000000  0.000000  0.532698 -0.816232  0.251069   \n",
       "15  0.519467  0.000000  1.000000  0.519467  0.000000 -0.830155  0.250379   \n",
       "16  0.000000  0.484618  0.505587  0.000000  0.484618 -0.865146  0.250237   \n",
       "17  0.900601  0.000000  0.556434  0.900601  0.000000 -0.288919  0.410481   \n",
       "18  0.000000  0.000000  1.000000  0.000000  0.000000 -1.100000  0.500000   \n",
       "19  2.977769  1.272948  0.460238  2.977769  1.272948  9.389126  6.736787   \n",
       "20  0.307589  0.319884  1.000000  0.307589  0.319884 -0.898189  0.069464   \n",
       "21  0.000000  1.117495  1.000000  0.000000  1.117495  0.148796  0.631300   \n",
       "22  1.133128  0.000000  1.000000  1.133128  0.000000  0.183980  0.650851   \n",
       "23  2.723703  1.492472  0.194917  2.723703  1.492472  8.662597  5.929858   \n",
       "24  2.976194  0.670924  0.340490  2.976194  0.670924  8.399743  6.160754   \n",
       "25  0.854149  0.000000  0.263056  0.854149  0.000000 -0.370430  0.375421   \n",
       "26  1.926431  0.333354  0.954464  1.926431  0.333354  2.914363  2.062475   \n",
       "27  0.164881  0.118438  0.942297  0.164881  0.118438 -0.873116  0.257894   \n",
       "28  3.122533  1.009247  0.073618  3.122533  1.009247  9.740249  7.137013   \n",
       "29  1.631240  0.145665  0.688215  1.631240  0.145665  1.667631  1.405258   \n",
       "30  1.954394  2.579675  0.241212  1.954394  2.579675  9.532636  6.440310   \n",
       "31  1.335671  2.578614  0.530520  1.335671  2.578614  7.412699  5.018980   \n",
       "\n",
       "   some_array  xopt_runtime  xopt_error               a  \n",
       "1   [1, 2, 3]      0.000048       False             NaN  \n",
       "2   [1, 2, 3]      0.000011       False             NaN  \n",
       "3   [1, 2, 3]      0.000037       False  dummy_constant  \n",
       "4   [1, 2, 3]      0.000040       False  dummy_constant  \n",
       "5   [1, 2, 3]      0.000040       False  dummy_constant  \n",
       "6   [1, 2, 3]      0.000036       False  dummy_constant  \n",
       "7   [1, 2, 3]      0.000039       False  dummy_constant  \n",
       "8   [1, 2, 3]      0.000040       False  dummy_constant  \n",
       "9   [1, 2, 3]      0.000037       False  dummy_constant  \n",
       "10  [1, 2, 3]      0.000040       False  dummy_constant  \n",
       "11  [1, 2, 3]      0.000040       False  dummy_constant  \n",
       "12  [1, 2, 3]      0.000040       False  dummy_constant  \n",
       "13  [1, 2, 3]      0.000039       False  dummy_constant  \n",
       "14  [1, 2, 3]      0.000038       False  dummy_constant  \n",
       "15  [1, 2, 3]      0.000039       False  dummy_constant  \n",
       "16  [1, 2, 3]      0.000042       False  dummy_constant  \n",
       "17  [1, 2, 3]      0.000040       False  dummy_constant  \n",
       "18  [1, 2, 3]      0.000041       False  dummy_constant  \n",
       "19  [1, 2, 3]      0.000039       False  dummy_constant  \n",
       "20  [1, 2, 3]      0.000064       False  dummy_constant  \n",
       "21  [1, 2, 3]      0.000040       False  dummy_constant  \n",
       "22  [1, 2, 3]      0.000041       False  dummy_constant  \n",
       "23  [1, 2, 3]      0.000041       False  dummy_constant  \n",
       "24  [1, 2, 3]      0.000041       False  dummy_constant  \n",
       "25  [1, 2, 3]      0.000041       False  dummy_constant  \n",
       "26  [1, 2, 3]      0.000041       False  dummy_constant  \n",
       "27  [1, 2, 3]      0.000041       False  dummy_constant  \n",
       "28  [1, 2, 3]      0.000040       False  dummy_constant  \n",
       "29  [1, 2, 3]      0.000041       False  dummy_constant  \n",
       "30  [1, 2, 3]      0.000041       False  dummy_constant  \n",
       "31  [1, 2, 3]      0.000039       False  dummy_constant  "
      ]
     },
     "execution_count": 4,
     "metadata": {},
     "output_type": "execute_result"
    }
   ],
   "source": [
    "X.data"
   ]
  },
  {
   "cell_type": "markdown",
   "metadata": {
    "collapsed": false
   },
   "source": [
    "## Plot results\n",
    "Here we plot the resulting observations in input space, colored by feasibility\n",
    "(neglecting the fact that\n",
    "these data points are at varying fidelities).\n"
   ]
  },
  {
   "cell_type": "code",
   "execution_count": 5,
   "metadata": {
    "collapsed": false,
    "execution": {
     "iopub.execute_input": "2023-06-30T02:18:40.302553Z",
     "iopub.status.busy": "2023-06-30T02:18:40.301248Z",
     "iopub.status.idle": "2023-06-30T02:18:40.794444Z",
     "shell.execute_reply": "2023-06-30T02:18:40.793745Z"
    }
   },
   "outputs": [
    {
     "data": {
      "image/png": "[encoded data removed]",
      "text/plain": [
       "<Figure size 640x480 with 1 Axes>"
      ]
     },
     "metadata": {},
     "output_type": "display_data"
    }
   ],
   "source": [
    "import matplotlib.pyplot as plt\n",
    "\n",
    "fig, ax = plt.subplots()\n",
    "\n",
    "theta = np.linspace(0, np.pi / 2)\n",
    "r = np.sqrt(1 + 0.1 * np.cos(16 * theta))\n",
    "x_1 = r * np.sin(theta)\n",
    "x_2_lower = r * np.cos(theta)\n",
    "x_2_upper = (0.5 - (x_1 - 0.5) ** 2) ** 0.5 + 0.5\n",
    "\n",
    "z = np.zeros_like(x_1)\n",
    "\n",
    "# ax2.plot(x_1, x_2_lower,'r')\n",
    "ax.fill_between(x_1, z, x_2_lower, fc=\"white\")\n",
    "circle = plt.Circle(\n",
    "    (0.5, 0.5), 0.5 ** 0.5, color=\"r\", alpha=0.25, zorder=0, label=\"Valid Region\"\n",
    ")\n",
    "ax.add_patch(circle)\n",
    "history = pd.concat(\n",
    "    [X.data, tnk_vocs.feasibility_data(X.data)], axis=1, ignore_index=False\n",
    ")\n",
    "\n",
    "ax.plot(*history[[\"x1\", \"x2\"]][history[\"feasible\"]].to_numpy().T, \".C1\")\n",
    "ax.plot(*history[[\"x1\", \"x2\"]][~history[\"feasible\"]].to_numpy().T, \".C2\")\n",
    "\n",
    "ax.set_xlim(0, 3.14)\n",
    "ax.set_ylim(0, 3.14)\n",
    "ax.set_xlabel(\"x1\")\n",
    "ax.set_ylabel(\"x2\")\n",
    "ax.set_aspect(\"equal\")"
   ]
  },
  {
   "cell_type": "markdown",
   "metadata": {
    "collapsed": false
   },
   "source": [
    "### Plot path through input space"
   ]
  },
  {
   "cell_type": "code",
   "execution_count": 6,
   "metadata": {
    "collapsed": false,
    "execution": {
     "iopub.execute_input": "2023-06-30T02:18:40.798074Z",
     "iopub.status.busy": "2023-06-30T02:18:40.797429Z",
     "iopub.status.idle": "2023-06-30T02:18:41.294041Z",
     "shell.execute_reply": "2023-06-30T02:18:41.293284Z"
    }
   },
   "outputs": [
    {
     "data": {
      "image/png": "[encoded data removed]",
      "text/plain": [
       "<Figure size 640x480 with 4 Axes>"
      ]
     },
     "metadata": {},
     "output_type": "display_data"
    }
   ],
   "source": [
    "ax = history.hist([\"x1\", \"x2\", \"s\"],bins=20)"
   ]
  },
  {
   "cell_type": "code",
   "execution_count": 7,
   "metadata": {
    "collapsed": false,
    "execution": {
     "iopub.execute_input": "2023-06-30T02:18:41.297539Z",
     "iopub.status.busy": "2023-06-30T02:18:41.297041Z",
     "iopub.status.idle": "2023-06-30T02:18:41.505551Z",
     "shell.execute_reply": "2023-06-30T02:18:41.504328Z"
    }
   },
   "outputs": [
    {
     "data": {
      "text/plain": [
       "<Axes: >"
      ]
     },
     "execution_count": 7,
     "metadata": {},
     "output_type": "execute_result"
    },
    {
     "data": {
      "image/png": "[encoded data removed]",
      "text/plain": [
       "<Figure size 640x480 with 1 Axes>"
      ]
     },
     "metadata": {},
     "output_type": "display_data"
    }
   ],
   "source": [
    "history.plot(y=[\"x1\", \"x2\", \"s\"])"
   ]
  },
  {
   "cell_type": "markdown",
   "metadata": {
    "collapsed": false
   },
   "source": [
    "## Plot the acqusisition function\n",
    "Here we plot the acquisition function at a small set of fidelities $[0, 0.5, 1.0]$."
   ]
  },
  {
   "cell_type": "code",
   "execution_count": 8,
   "metadata": {
    "collapsed": false,
    "execution": {
     "iopub.execute_input": "2023-06-30T02:18:41.509284Z",
     "iopub.status.busy": "2023-06-30T02:18:41.508724Z",
     "iopub.status.idle": "2023-06-30T02:19:06.734806Z",
     "shell.execute_reply": "2023-06-30T02:19:06.732543Z"
    }
   },
   "outputs": [
    {
     "name": "stdout",
     "output_type": "stream",
     "text": [
      "[[2.93638747 2.18543916]]\n"
     ]
    },
    {
     "data": {
      "text/plain": [
       "[<matplotlib.lines.Line2D at 0x7fe2304799a0>]"
      ]
     },
     "execution_count": 8,
     "metadata": {},
     "output_type": "execute_result"
    },
    {
     "data": {
      "image/png": "[encoded data removed]",
      "text/plain": [
       "<Figure size 640x480 with 2 Axes>"
      ]
     },
     "metadata": {},
     "output_type": "display_data"
    },
    {
     "data": {
      "image/png": "[encoded data removed]",
      "text/plain": [
       "<Figure size 640x480 with 2 Axes>"
      ]
     },
     "metadata": {},
     "output_type": "display_data"
    },
    {
     "data": {
      "image/png": "[encoded data removed]",
      "text/plain": [
       "<Figure size 640x480 with 2 Axes>"
      ]
     },
     "metadata": {},
     "output_type": "display_data"
    }
   ],
   "source": [
    "# plot the acquisition function\n",
    "from xopt.generators.bayesian.objectives import feasibility\n",
    "\n",
    "bounds = generator.vocs.bounds\n",
    "model = generator.model\n",
    "\n",
    "# create mesh over non-fidelity parameters\n",
    "n = 100\n",
    "x = torch.linspace(*bounds.T[1], n)\n",
    "y = torch.linspace(*bounds.T[2], n)\n",
    "xx, yy = torch.meshgrid(x, y)\n",
    "\n",
    "# plot function(s) at a single fidelity parameter\n",
    "fidelities = [0.0, 0.5, 1.0]\n",
    "for fidelity in fidelities:\n",
    "    pts = torch.hstack([ele.reshape(-1, 1) for ele in (xx, yy)]).double()\n",
    "    pts = torch.cat((torch.ones(pts.shape[0],1)*fidelity, pts), dim=-1)\n",
    "\n",
    "    acq_func = generator.get_acquisition(model)\n",
    "    with torch.no_grad():\n",
    "        acq_pts = pts.unsqueeze(1)\n",
    "        acq = acq_func(acq_pts)\n",
    "\n",
    "        fig, ax = plt.subplots()\n",
    "        c = ax.pcolor(xx, yy, acq.reshape(n, n), cmap=\"Blues\")\n",
    "        fig.colorbar(c)\n",
    "        ax.set_title(f\"Acquisition function - s: {fidelity}\")\n",
    "\n",
    "        ax.plot(*history[[\"x1\", \"x2\"]][history[\"feasible\"]].to_numpy().T, \".C1\")\n",
    "        ax.plot(*history[[\"x1\", \"x2\"]][~history[\"feasible\"]].to_numpy().T, \".C2\")\n",
    "\n",
    "        ax.plot(*history[[\"x1\", \"x2\"]].to_numpy()[-1].T, \"+\")\n",
    "\n",
    "\n",
    "candidate = generator.generate(1)\n",
    "print(candidate[[\"x1\", \"x2\"]].to_numpy())\n",
    "ax.plot(*candidate[[\"x1\", \"x2\"]].to_numpy()[0], \"o\")"
   ]
  },
  {
   "cell_type": "code",
   "execution_count": 9,
   "metadata": {
    "collapsed": false,
    "execution": {
     "iopub.execute_input": "2023-06-30T02:19:06.748067Z",
     "iopub.status.busy": "2023-06-30T02:19:06.747607Z",
     "iopub.status.idle": "2023-06-30T02:19:06.757870Z",
     "shell.execute_reply": "2023-06-30T02:19:06.757192Z"
    }
   },
   "outputs": [
    {
     "data": {
      "text/plain": [
       "[('likelihood.noise_covar.raw_noise',\n",
       "  Parameter containing:\n",
       "  tensor([-22.3317], dtype=torch.float64, requires_grad=True)),\n",
       " ('mean_module.raw_constant',\n",
       "  Parameter containing:\n",
       "  tensor(-0.1166, dtype=torch.float64, requires_grad=True)),\n",
       " ('covar_module.raw_outputscale',\n",
       "  Parameter containing:\n",
       "  tensor(-0.0486, dtype=torch.float64, requires_grad=True)),\n",
       " ('covar_module.base_kernel.raw_lengthscale',\n",
       "  Parameter containing:\n",
       "  tensor([[0.6367, 2.0964, 1.9226]], dtype=torch.float64, requires_grad=True))]"
      ]
     },
     "execution_count": 9,
     "metadata": {},
     "output_type": "execute_result"
    }
   ],
   "source": [
    "# examine lengthscale of the first objective\n",
    "list(model.models[0].named_parameters())"
   ]
  },
  {
   "cell_type": "code",
   "execution_count": 10,
   "metadata": {
    "collapsed": false,
    "execution": {
     "iopub.execute_input": "2023-06-30T02:19:06.761777Z",
     "iopub.status.busy": "2023-06-30T02:19:06.761351Z",
     "iopub.status.idle": "2023-06-30T02:19:06.808723Z",
     "shell.execute_reply": "2023-06-30T02:19:06.808071Z"
    }
   },
   "outputs": [],
   "source": [
    "# dump results to file\n",
    "X.options.dump_file = \"results.yaml\"\n",
    "X.dump_state()"
   ]
  },
  {
   "cell_type": "code",
   "execution_count": 10,
   "metadata": {
    "collapsed": false
   },
   "outputs": [],
   "source": []
  }
 ],
 "metadata": {
  "interpreter": {
   "hash": "72034539424920dfb606fe3b820b3f27dca0cbf1c69938110810ec4641e275b1"
  },
  "kernelspec": {
   "display_name": "Python 3 (ipykernel)",
   "language": "python",
   "name": "python3"
  },
  "language_info": {
   "codemirror_mode": {
    "name": "ipython",
    "version": 3
   },
   "file_extension": ".py",
   "mimetype": "text/x-python",
   "name": "python",
   "nbconvert_exporter": "python",
   "pygments_lexer": "ipython3",
   "version": "3.9.16"
  }
 },
 "nbformat": 4,
 "nbformat_minor": 4
}
