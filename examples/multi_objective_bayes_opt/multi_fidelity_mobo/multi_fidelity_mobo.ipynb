{
 "cells": [
  {
   "cell_type": "markdown",
   "metadata": {},
   "source": [
    "# Multi-fidelity Multi-objective Bayesian Optimization\n",
    "\n",
    "Here we attempt to solve for the constrained Pareto front of the TNK multi-objective\n",
    "optimization problem using Multi-Fidelity Multi-Objective Bayesian optimization. For\n",
    "simplicity we assume that the objective and constraint functions at lower fidelities is\n",
    "exactly equal to the functions at higher fidelities (this is obviously not a\n",
    "requirement, although for the best results lower fidelity calculations should\n",
    "correlate with higher fidelity ones). The algorithm should learn this relationship\n",
    "and use information gathered at lower fidelities to gather samples to improve the\n",
    "hypervolume of the Pareto front at the maximum fidelity.\n",
    "\n",
    "TNK function\n",
    "$n=2$ variables:\n",
    "$x_i \\in [0, \\pi], i=1,2$\n",
    "\n",
    "Objectives:\n",
    "- $f_i(x) = x_i$\n",
    "\n",
    "Constraints:\n",
    "- $g_1(x) = -x_1^2 -x_2^2 + 1 + 0.1 \\cos\\left(16 \\arctan \\frac{x_1}{x_2}\\right) \\le 0$\n",
    "- $g_2(x) = (x_1 - 1/2)^2 + (x_2-1/2)^2 \\le 0.5$"
   ]
  },
  {
   "cell_type": "code",
   "execution_count": 1,
   "metadata": {
    "ExecuteTime": {
     "end_time": "2023-09-20T14:37:08.616050600Z",
     "start_time": "2023-09-20T14:37:04.101720300Z"
    },
    "collapsed": false,
    "execution": {
     "iopub.execute_input": "2023-10-20T15:36:06.366940Z",
     "iopub.status.busy": "2023-10-20T15:36:06.366414Z",
     "iopub.status.idle": "2023-10-20T15:36:08.821605Z",
     "shell.execute_reply": "2023-10-20T15:36:08.820740Z"
    }
   },
   "outputs": [
    {
     "name": "stdout",
     "output_type": "stream",
     "text": [
      "{'variables': {'x1': [0.0, 3.14159], 'x2': [0.0, 3.14159]}, 'constraints': {'c1': ['GREATER_THAN', 0.0], 'c2': ['LESS_THAN', 0.5]}, 'objectives': {'y1': 'MINIMIZE', 'y2': 'MINIMIZE'}, 'constants': {'a': 'dummy_constant'}, 'observables': []}\n"
     ]
    }
   ],
   "source": [
    "# set values if testing\n",
    "import os\n",
    "SMOKE_TEST = os.environ.get(\"SMOKE_TEST\")\n",
    "N_MC_SAMPLES = 1 if SMOKE_TEST else 128\n",
    "NUM_RESTARTS = 1 if SMOKE_TEST else 20\n",
    "BUDGET = 0.02 if SMOKE_TEST else 10\n",
    "\n",
    "# Ignore all warnings\n",
    "import warnings\n",
    "warnings.filterwarnings(\"ignore\")\n",
    "\n",
    "import pandas as pd\n",
    "import numpy as np\n",
    "import torch\n",
    "\n",
    "from xopt import Xopt, Evaluator\n",
    "from xopt.generators.bayesian import MultiFidelityGenerator\n",
    "from xopt.resources.test_functions.tnk import evaluate_TNK, tnk_vocs\n",
    "\n",
    "evaluator = Evaluator(function=evaluate_TNK)\n",
    "print(tnk_vocs.dict())"
   ]
  },
  {
   "cell_type": "markdown",
   "metadata": {
    "collapsed": false
   },
   "source": [
    "## Set up the Multi-Fidelity Multi-objective optimization algorithm\n",
    "Here we create the Multi-Fidelity generator object which can solve both single and\n",
    "multi-objective optimization problems depending on the number of objectives in VOCS.\n",
    "We specify a cost function as a function of fidelity parameter $s=[0,1]$ as $C(s) =\n",
    "s^{3.5}$ as an example from a real life multi-fidelity simulation problem."
   ]
  },
  {
   "cell_type": "code",
   "execution_count": 2,
   "metadata": {
    "ExecuteTime": {
     "end_time": "2023-09-20T14:37:08.660042Z",
     "start_time": "2023-09-20T14:37:08.617041800Z"
    },
    "collapsed": false,
    "execution": {
     "iopub.execute_input": "2023-10-20T15:36:08.859093Z",
     "iopub.status.busy": "2023-10-20T15:36:08.858471Z",
     "iopub.status.idle": "2023-10-20T15:36:08.878688Z",
     "shell.execute_reply": "2023-10-20T15:36:08.878189Z"
    }
   },
   "outputs": [
    {
     "data": {
      "text/plain": [
       "\n",
       "            Xopt\n",
       "________________________________\n",
       "Version: 0+untagged.1.gf3dd3ce\n",
       "Data size: 2\n",
       "Config as YAML:\n",
       "dump_file: null\n",
       "evaluator:\n",
       "  function: xopt.resources.test_functions.tnk.evaluate_TNK\n",
       "  function_kwargs:\n",
       "    raise_probability: 0\n",
       "    random_sleep: 0\n",
       "    sleep: 0\n",
       "  max_workers: 1\n",
       "  vectorized: false\n",
       "generator:\n",
       "  computation_time: null\n",
       "  cost_function: __main__.<lambda>\n",
       "  fidelity_parameter: s\n",
       "  fixed_features: null\n",
       "  gp_constructor:\n",
       "    covar_modules: {}\n",
       "    mean_modules: {}\n",
       "    name: standard\n",
       "    trainable_mean_keys: []\n",
       "    use_low_noise_prior: true\n",
       "  max_travel_distances: null\n",
       "  model: null\n",
       "  n_candidates: 1\n",
       "  n_monte_carlo_samples: 128\n",
       "  name: multi_fidelity\n",
       "  numerical_optimizer:\n",
       "    max_iter: 2000\n",
       "    n_restarts: 20\n",
       "    name: LBFGS\n",
       "  reference_point:\n",
       "    s: 0.0\n",
       "    y1: 1.5\n",
       "    y2: 1.5\n",
       "  turbo_controller: null\n",
       "  use_cuda: false\n",
       "max_evaluations: null\n",
       "serialize_inline: false\n",
       "serialize_torch: false\n",
       "strict: true\n",
       "vocs:\n",
       "  constants:\n",
       "    a: dummy_constant\n",
       "  constraints: {}\n",
       "  objectives:\n",
       "    s: MAXIMIZE\n",
       "    y1: MINIMIZE\n",
       "    y2: MINIMIZE\n",
       "  observables: []\n",
       "  variables:\n",
       "    s:\n",
       "    - 0\n",
       "    - 1\n",
       "    x1:\n",
       "    - 0.0\n",
       "    - 3.14159\n",
       "    x2:\n",
       "    - 0.0\n",
       "    - 3.14159\n"
      ]
     },
     "execution_count": 2,
     "metadata": {},
     "output_type": "execute_result"
    }
   ],
   "source": [
    "from copy import deepcopy\n",
    "my_vocs = deepcopy(tnk_vocs)\n",
    "my_vocs.constraints = {}\n",
    "generator = MultiFidelityGenerator(vocs=my_vocs, reference_point = {\"y1\":1.5,\"y2\":1.5})\n",
    "\n",
    "# set cost function according to approximate scaling of laser plasma accelerator\n",
    "# problem, see https://journals.aps.org/prresearch/abstract/10.1103/PhysRevResearch.5.013063\n",
    "generator.cost_function = lambda s: s**3.5\n",
    "generator.numerical_optimizer.n_restarts = NUM_RESTARTS\n",
    "generator.n_monte_carlo_samples = N_MC_SAMPLES\n",
    "\n",
    "X = Xopt(generator=generator, evaluator=evaluator, vocs=my_vocs)\n",
    "\n",
    "# evaluate at some explicit initial points\n",
    "X.evaluate_data(pd.DataFrame({\"x1\":[1.0, 0.75],\"x2\":[0.75, 1.0],\"s\":[0.0,0.1]}))\n",
    "\n",
    "X"
   ]
  },
  {
   "cell_type": "markdown",
   "metadata": {
    "collapsed": false
   },
   "source": [
    "## Run optimization routine\n",
    "Instead of ending the optimization routine after an explict number of samples we end\n",
    "optimization once a given optimization budget has been exceeded. WARNING: This will\n",
    "slightly exceed the given budget"
   ]
  },
  {
   "cell_type": "code",
   "execution_count": 3,
   "metadata": {
    "ExecuteTime": {
     "end_time": "2023-09-20T14:37:14.657062800Z",
     "start_time": "2023-09-20T14:37:08.648042200Z"
    },
    "collapsed": false,
    "execution": {
     "iopub.execute_input": "2023-10-20T15:36:08.881519Z",
     "iopub.status.busy": "2023-10-20T15:36:08.880945Z",
     "iopub.status.idle": "2023-10-20T15:37:33.934605Z",
     "shell.execute_reply": "2023-10-20T15:37:33.934060Z"
    }
   },
   "outputs": [
    {
     "name": "stdout",
     "output_type": "stream",
     "text": [
      "n_samples: 3 budget used: 0.009679 hypervolume: 0.0375\n",
      "n_samples: 4 budget used: 0.01968 hypervolume: 0.4597\n",
      "n_samples: 5 budget used: 0.0313 hypervolume: 0.63\n",
      "n_samples: 6 budget used: 0.06232 hypervolume: 0.8341\n",
      "n_samples: 7 budget used: 0.1175 hypervolume: 0.9527\n",
      "n_samples: 8 budget used: 0.2153 hypervolume: 1.158\n",
      "n_samples: 9 budget used: 0.2255 hypervolume: 1.158\n",
      "n_samples: 10 budget used: 0.4487 hypervolume: 1.466\n",
      "n_samples: 11 budget used: 0.9328 hypervolume: 1.829\n",
      "n_samples: 12 budget used: 1.909 hypervolume: 2.235\n",
      "n_samples: 13 budget used: 2.909 hypervolume: 2.244\n",
      "n_samples: 14 budget used: 3.909 hypervolume: 2.248\n",
      "n_samples: 15 budget used: 4.909 hypervolume: 2.248\n",
      "n_samples: 16 budget used: 5.811 hypervolume: 2.248\n",
      "n_samples: 17 budget used: 6.811 hypervolume: 2.248\n",
      "n_samples: 18 budget used: 6.923 hypervolume: 2.248\n",
      "n_samples: 19 budget used: 7.923 hypervolume: 2.25\n",
      "n_samples: 20 budget used: 7.947 hypervolume: 2.25\n",
      "n_samples: 21 budget used: 7.948 hypervolume: 2.25\n",
      "n_samples: 22 budget used: 8.458 hypervolume: 2.25\n",
      "n_samples: 23 budget used: 8.68 hypervolume: 2.25\n",
      "n_samples: 24 budget used: 8.692 hypervolume: 2.25\n",
      "n_samples: 25 budget used: 9.692 hypervolume: 2.25\n",
      "n_samples: 26 budget used: 10.62 hypervolume: 2.25\n"
     ]
    }
   ],
   "source": [
    "budget = BUDGET\n",
    "while X.generator.calculate_total_cost() < budget:\n",
    "    X.step()\n",
    "    print(f\"n_samples: {len(X.data)} \"\n",
    "          f\"budget used: {X.generator.calculate_total_cost():.4} \"\n",
    "          f\"hypervolume: {X.generator.calculate_hypervolume():.4}\")"
   ]
  },
  {
   "cell_type": "markdown",
   "metadata": {
    "collapsed": false
   },
   "source": [
    "## Show results"
   ]
  },
  {
   "cell_type": "code",
   "execution_count": 4,
   "metadata": {
    "ExecuteTime": {
     "end_time": "2023-09-20T14:37:14.684015600Z",
     "start_time": "2023-09-20T14:37:14.647063400Z"
    },
    "collapsed": false,
    "execution": {
     "iopub.execute_input": "2023-10-20T15:37:33.938988Z",
     "iopub.status.busy": "2023-10-20T15:37:33.937861Z",
     "iopub.status.idle": "2023-10-20T15:37:33.960971Z",
     "shell.execute_reply": "2023-10-20T15:37:33.960498Z"
    }
   },
   "outputs": [
    {
     "data": {
      "text/html": [
       "<div>\n",
       "<style scoped>\n",
       "    .dataframe tbody tr th:only-of-type {\n",
       "        vertical-align: middle;\n",
       "    }\n",
       "\n",
       "    .dataframe tbody tr th {\n",
       "        vertical-align: top;\n",
       "    }\n",
       "\n",
       "    .dataframe thead th {\n",
       "        text-align: right;\n",
       "    }\n",
       "</style>\n",
       "<table border=\"1\" class=\"dataframe\">\n",
       "  <thead>\n",
       "    <tr style=\"text-align: right;\">\n",
       "      <th></th>\n",
       "      <th>x1</th>\n",
       "      <th>x2</th>\n",
       "      <th>s</th>\n",
       "      <th>y1</th>\n",
       "      <th>y2</th>\n",
       "      <th>c1</th>\n",
       "      <th>c2</th>\n",
       "      <th>xopt_runtime</th>\n",
       "      <th>xopt_error</th>\n",
       "    </tr>\n",
       "  </thead>\n",
       "  <tbody>\n",
       "    <tr>\n",
       "      <th>0</th>\n",
       "      <td>1.000000</td>\n",
       "      <td>0.750000</td>\n",
       "      <td>0.000000</td>\n",
       "      <td>1.000000</td>\n",
       "      <td>0.750000</td>\n",
       "      <td>0.626888</td>\n",
       "      <td>0.312500</td>\n",
       "      <td>0.000049</td>\n",
       "      <td>False</td>\n",
       "    </tr>\n",
       "    <tr>\n",
       "      <th>1</th>\n",
       "      <td>0.750000</td>\n",
       "      <td>1.000000</td>\n",
       "      <td>0.100000</td>\n",
       "      <td>0.750000</td>\n",
       "      <td>1.000000</td>\n",
       "      <td>0.626888</td>\n",
       "      <td>0.312500</td>\n",
       "      <td>0.000009</td>\n",
       "      <td>False</td>\n",
       "    </tr>\n",
       "    <tr>\n",
       "      <th>2</th>\n",
       "      <td>0.320351</td>\n",
       "      <td>2.139750</td>\n",
       "      <td>0.263266</td>\n",
       "      <td>0.320351</td>\n",
       "      <td>2.139750</td>\n",
       "      <td>3.753374</td>\n",
       "      <td>2.721054</td>\n",
       "      <td>0.000030</td>\n",
       "      <td>False</td>\n",
       "    </tr>\n",
       "    <tr>\n",
       "      <th>3</th>\n",
       "      <td>0.000000</td>\n",
       "      <td>0.357652</td>\n",
       "      <td>0.268254</td>\n",
       "      <td>0.000000</td>\n",
       "      <td>0.357652</td>\n",
       "      <td>-0.972085</td>\n",
       "      <td>0.270263</td>\n",
       "      <td>0.000404</td>\n",
       "      <td>False</td>\n",
       "    </tr>\n",
       "    <tr>\n",
       "      <th>4</th>\n",
       "      <td>0.000000</td>\n",
       "      <td>0.000000</td>\n",
       "      <td>0.280018</td>\n",
       "      <td>0.000000</td>\n",
       "      <td>0.000000</td>\n",
       "      <td>-1.100000</td>\n",
       "      <td>0.500000</td>\n",
       "      <td>0.000029</td>\n",
       "      <td>False</td>\n",
       "    </tr>\n",
       "    <tr>\n",
       "      <th>5</th>\n",
       "      <td>0.000000</td>\n",
       "      <td>0.000000</td>\n",
       "      <td>0.370726</td>\n",
       "      <td>0.000000</td>\n",
       "      <td>0.000000</td>\n",
       "      <td>-1.100000</td>\n",
       "      <td>0.500000</td>\n",
       "      <td>0.000032</td>\n",
       "      <td>False</td>\n",
       "    </tr>\n",
       "    <tr>\n",
       "      <th>6</th>\n",
       "      <td>0.307906</td>\n",
       "      <td>0.000000</td>\n",
       "      <td>0.437014</td>\n",
       "      <td>0.307906</td>\n",
       "      <td>0.000000</td>\n",
       "      <td>-1.005194</td>\n",
       "      <td>0.286900</td>\n",
       "      <td>0.000032</td>\n",
       "      <td>False</td>\n",
       "    </tr>\n",
       "    <tr>\n",
       "      <th>7</th>\n",
       "      <td>0.000000</td>\n",
       "      <td>0.000000</td>\n",
       "      <td>0.514739</td>\n",
       "      <td>0.000000</td>\n",
       "      <td>0.000000</td>\n",
       "      <td>-1.100000</td>\n",
       "      <td>0.500000</td>\n",
       "      <td>0.000029</td>\n",
       "      <td>False</td>\n",
       "    </tr>\n",
       "    <tr>\n",
       "      <th>8</th>\n",
       "      <td>3.141590</td>\n",
       "      <td>0.000000</td>\n",
       "      <td>0.269245</td>\n",
       "      <td>3.141590</td>\n",
       "      <td>0.000000</td>\n",
       "      <td>8.769588</td>\n",
       "      <td>7.227998</td>\n",
       "      <td>0.000031</td>\n",
       "      <td>False</td>\n",
       "    </tr>\n",
       "    <tr>\n",
       "      <th>9</th>\n",
       "      <td>0.000000</td>\n",
       "      <td>0.000000</td>\n",
       "      <td>0.651530</td>\n",
       "      <td>0.000000</td>\n",
       "      <td>0.000000</td>\n",
       "      <td>-1.100000</td>\n",
       "      <td>0.500000</td>\n",
       "      <td>0.000032</td>\n",
       "      <td>False</td>\n",
       "    </tr>\n",
       "    <tr>\n",
       "      <th>10</th>\n",
       "      <td>0.000000</td>\n",
       "      <td>0.000000</td>\n",
       "      <td>0.812776</td>\n",
       "      <td>0.000000</td>\n",
       "      <td>0.000000</td>\n",
       "      <td>-1.100000</td>\n",
       "      <td>0.500000</td>\n",
       "      <td>0.000030</td>\n",
       "      <td>False</td>\n",
       "    </tr>\n",
       "    <tr>\n",
       "      <th>11</th>\n",
       "      <td>0.000000</td>\n",
       "      <td>0.000000</td>\n",
       "      <td>0.993194</td>\n",
       "      <td>0.000000</td>\n",
       "      <td>0.000000</td>\n",
       "      <td>-1.100000</td>\n",
       "      <td>0.500000</td>\n",
       "      <td>0.000030</td>\n",
       "      <td>False</td>\n",
       "    </tr>\n",
       "    <tr>\n",
       "      <th>12</th>\n",
       "      <td>0.544865</td>\n",
       "      <td>0.000000</td>\n",
       "      <td>1.000000</td>\n",
       "      <td>0.544865</td>\n",
       "      <td>0.000000</td>\n",
       "      <td>-0.803122</td>\n",
       "      <td>0.252013</td>\n",
       "      <td>0.000028</td>\n",
       "      <td>False</td>\n",
       "    </tr>\n",
       "    <tr>\n",
       "      <th>13</th>\n",
       "      <td>0.000000</td>\n",
       "      <td>0.575054</td>\n",
       "      <td>1.000000</td>\n",
       "      <td>0.000000</td>\n",
       "      <td>0.575054</td>\n",
       "      <td>-0.769313</td>\n",
       "      <td>0.255633</td>\n",
       "      <td>0.000030</td>\n",
       "      <td>False</td>\n",
       "    </tr>\n",
       "    <tr>\n",
       "      <th>14</th>\n",
       "      <td>1.048303</td>\n",
       "      <td>0.000000</td>\n",
       "      <td>1.000000</td>\n",
       "      <td>1.048303</td>\n",
       "      <td>0.000000</td>\n",
       "      <td>-0.001062</td>\n",
       "      <td>0.550636</td>\n",
       "      <td>0.000030</td>\n",
       "      <td>False</td>\n",
       "    </tr>\n",
       "    <tr>\n",
       "      <th>15</th>\n",
       "      <td>0.000000</td>\n",
       "      <td>3.141590</td>\n",
       "      <td>0.970834</td>\n",
       "      <td>0.000000</td>\n",
       "      <td>3.141590</td>\n",
       "      <td>8.769588</td>\n",
       "      <td>7.227998</td>\n",
       "      <td>0.000032</td>\n",
       "      <td>False</td>\n",
       "    </tr>\n",
       "    <tr>\n",
       "      <th>16</th>\n",
       "      <td>0.686283</td>\n",
       "      <td>0.671518</td>\n",
       "      <td>1.000000</td>\n",
       "      <td>0.686283</td>\n",
       "      <td>0.671518</td>\n",
       "      <td>-0.176569</td>\n",
       "      <td>0.064120</td>\n",
       "      <td>0.000029</td>\n",
       "      <td>False</td>\n",
       "    </tr>\n",
       "    <tr>\n",
       "      <th>17</th>\n",
       "      <td>0.000000</td>\n",
       "      <td>0.723050</td>\n",
       "      <td>0.535604</td>\n",
       "      <td>0.000000</td>\n",
       "      <td>0.723050</td>\n",
       "      <td>-0.577199</td>\n",
       "      <td>0.299751</td>\n",
       "      <td>0.000030</td>\n",
       "      <td>False</td>\n",
       "    </tr>\n",
       "    <tr>\n",
       "      <th>18</th>\n",
       "      <td>0.000000</td>\n",
       "      <td>0.000000</td>\n",
       "      <td>1.000000</td>\n",
       "      <td>0.000000</td>\n",
       "      <td>0.000000</td>\n",
       "      <td>-1.100000</td>\n",
       "      <td>0.500000</td>\n",
       "      <td>0.000031</td>\n",
       "      <td>False</td>\n",
       "    </tr>\n",
       "    <tr>\n",
       "      <th>19</th>\n",
       "      <td>2.796766</td>\n",
       "      <td>0.254643</td>\n",
       "      <td>0.345422</td>\n",
       "      <td>2.796766</td>\n",
       "      <td>0.254643</td>\n",
       "      <td>6.874971</td>\n",
       "      <td>5.335335</td>\n",
       "      <td>0.000032</td>\n",
       "      <td>False</td>\n",
       "    </tr>\n",
       "    <tr>\n",
       "      <th>20</th>\n",
       "      <td>0.000000</td>\n",
       "      <td>0.000000</td>\n",
       "      <td>0.088512</td>\n",
       "      <td>0.000000</td>\n",
       "      <td>0.000000</td>\n",
       "      <td>-1.100000</td>\n",
       "      <td>0.500000</td>\n",
       "      <td>0.000029</td>\n",
       "      <td>False</td>\n",
       "    </tr>\n",
       "    <tr>\n",
       "      <th>21</th>\n",
       "      <td>2.529554</td>\n",
       "      <td>0.904096</td>\n",
       "      <td>0.825356</td>\n",
       "      <td>2.529554</td>\n",
       "      <td>0.904096</td>\n",
       "      <td>6.145718</td>\n",
       "      <td>4.282384</td>\n",
       "      <td>0.000029</td>\n",
       "      <td>False</td>\n",
       "    </tr>\n",
       "    <tr>\n",
       "      <th>22</th>\n",
       "      <td>2.196647</td>\n",
       "      <td>2.263595</td>\n",
       "      <td>0.649776</td>\n",
       "      <td>2.196647</td>\n",
       "      <td>2.263595</td>\n",
       "      <td>8.851990</td>\n",
       "      <td>5.988878</td>\n",
       "      <td>0.000030</td>\n",
       "      <td>False</td>\n",
       "    </tr>\n",
       "    <tr>\n",
       "      <th>23</th>\n",
       "      <td>0.796277</td>\n",
       "      <td>0.000000</td>\n",
       "      <td>0.285505</td>\n",
       "      <td>0.796277</td>\n",
       "      <td>0.000000</td>\n",
       "      <td>-0.465943</td>\n",
       "      <td>0.337780</td>\n",
       "      <td>0.000030</td>\n",
       "      <td>False</td>\n",
       "    </tr>\n",
       "    <tr>\n",
       "      <th>24</th>\n",
       "      <td>0.000000</td>\n",
       "      <td>1.072336</td>\n",
       "      <td>1.000000</td>\n",
       "      <td>0.000000</td>\n",
       "      <td>1.072336</td>\n",
       "      <td>0.049905</td>\n",
       "      <td>0.577569</td>\n",
       "      <td>0.000031</td>\n",
       "      <td>False</td>\n",
       "    </tr>\n",
       "    <tr>\n",
       "      <th>25</th>\n",
       "      <td>2.444446</td>\n",
       "      <td>1.311437</td>\n",
       "      <td>0.978547</td>\n",
       "      <td>2.444446</td>\n",
       "      <td>1.311437</td>\n",
       "      <td>6.697650</td>\n",
       "      <td>4.439299</td>\n",
       "      <td>0.000030</td>\n",
       "      <td>False</td>\n",
       "    </tr>\n",
       "  </tbody>\n",
       "</table>\n",
       "</div>"
      ],
      "text/plain": [
       "          x1        x2         s        y1        y2        c1        c2  \\\n",
       "0   1.000000  0.750000  0.000000  1.000000  0.750000  0.626888  0.312500   \n",
       "1   0.750000  1.000000  0.100000  0.750000  1.000000  0.626888  0.312500   \n",
       "2   0.320351  2.139750  0.263266  0.320351  2.139750  3.753374  2.721054   \n",
       "3   0.000000  0.357652  0.268254  0.000000  0.357652 -0.972085  0.270263   \n",
       "4   0.000000  0.000000  0.280018  0.000000  0.000000 -1.100000  0.500000   \n",
       "5   0.000000  0.000000  0.370726  0.000000  0.000000 -1.100000  0.500000   \n",
       "6   0.307906  0.000000  0.437014  0.307906  0.000000 -1.005194  0.286900   \n",
       "7   0.000000  0.000000  0.514739  0.000000  0.000000 -1.100000  0.500000   \n",
       "8   3.141590  0.000000  0.269245  3.141590  0.000000  8.769588  7.227998   \n",
       "9   0.000000  0.000000  0.651530  0.000000  0.000000 -1.100000  0.500000   \n",
       "10  0.000000  0.000000  0.812776  0.000000  0.000000 -1.100000  0.500000   \n",
       "11  0.000000  0.000000  0.993194  0.000000  0.000000 -1.100000  0.500000   \n",
       "12  0.544865  0.000000  1.000000  0.544865  0.000000 -0.803122  0.252013   \n",
       "13  0.000000  0.575054  1.000000  0.000000  0.575054 -0.769313  0.255633   \n",
       "14  1.048303  0.000000  1.000000  1.048303  0.000000 -0.001062  0.550636   \n",
       "15  0.000000  3.141590  0.970834  0.000000  3.141590  8.769588  7.227998   \n",
       "16  0.686283  0.671518  1.000000  0.686283  0.671518 -0.176569  0.064120   \n",
       "17  0.000000  0.723050  0.535604  0.000000  0.723050 -0.577199  0.299751   \n",
       "18  0.000000  0.000000  1.000000  0.000000  0.000000 -1.100000  0.500000   \n",
       "19  2.796766  0.254643  0.345422  2.796766  0.254643  6.874971  5.335335   \n",
       "20  0.000000  0.000000  0.088512  0.000000  0.000000 -1.100000  0.500000   \n",
       "21  2.529554  0.904096  0.825356  2.529554  0.904096  6.145718  4.282384   \n",
       "22  2.196647  2.263595  0.649776  2.196647  2.263595  8.851990  5.988878   \n",
       "23  0.796277  0.000000  0.285505  0.796277  0.000000 -0.465943  0.337780   \n",
       "24  0.000000  1.072336  1.000000  0.000000  1.072336  0.049905  0.577569   \n",
       "25  2.444446  1.311437  0.978547  2.444446  1.311437  6.697650  4.439299   \n",
       "\n",
       "    xopt_runtime  xopt_error  \n",
       "0       0.000049       False  \n",
       "1       0.000009       False  \n",
       "2       0.000030       False  \n",
       "3       0.000404       False  \n",
       "4       0.000029       False  \n",
       "5       0.000032       False  \n",
       "6       0.000032       False  \n",
       "7       0.000029       False  \n",
       "8       0.000031       False  \n",
       "9       0.000032       False  \n",
       "10      0.000030       False  \n",
       "11      0.000030       False  \n",
       "12      0.000028       False  \n",
       "13      0.000030       False  \n",
       "14      0.000030       False  \n",
       "15      0.000032       False  \n",
       "16      0.000029       False  \n",
       "17      0.000030       False  \n",
       "18      0.000031       False  \n",
       "19      0.000032       False  \n",
       "20      0.000029       False  \n",
       "21      0.000029       False  \n",
       "22      0.000030       False  \n",
       "23      0.000030       False  \n",
       "24      0.000031       False  \n",
       "25      0.000030       False  "
      ]
     },
     "execution_count": 4,
     "metadata": {},
     "output_type": "execute_result"
    }
   ],
   "source": [
    "X.data"
   ]
  },
  {
   "cell_type": "markdown",
   "metadata": {
    "collapsed": false
   },
   "source": [
    "## Plot results\n",
    "Here we plot the resulting observations in input space, colored by feasibility\n",
    "(neglecting the fact that\n",
    "these data points are at varying fidelities).\n"
   ]
  },
  {
   "cell_type": "code",
   "execution_count": 5,
   "metadata": {
    "ExecuteTime": {
     "end_time": "2023-09-20T14:37:15.292777300Z",
     "start_time": "2023-09-20T14:37:14.679967200Z"
    },
    "collapsed": false,
    "execution": {
     "iopub.execute_input": "2023-10-20T15:37:33.965107Z",
     "iopub.status.busy": "2023-10-20T15:37:33.964038Z",
     "iopub.status.idle": "2023-10-20T15:37:34.496512Z",
     "shell.execute_reply": "2023-10-20T15:37:34.495927Z"
    }
   },
   "outputs": [
    {
     "data": {
      "image/png": "[encoded data removed]",
      "text/plain": [
       "<Figure size 640x480 with 1 Axes>"
      ]
     },
     "metadata": {},
     "output_type": "display_data"
    }
   ],
   "source": [
    "import matplotlib.pyplot as plt\n",
    "\n",
    "fig, ax = plt.subplots()\n",
    "\n",
    "theta = np.linspace(0, np.pi / 2)\n",
    "r = np.sqrt(1 + 0.1 * np.cos(16 * theta))\n",
    "x_1 = r * np.sin(theta)\n",
    "x_2_lower = r * np.cos(theta)\n",
    "x_2_upper = (0.5 - (x_1 - 0.5) ** 2) ** 0.5 + 0.5\n",
    "\n",
    "z = np.zeros_like(x_1)\n",
    "\n",
    "# ax2.plot(x_1, x_2_lower,'r')\n",
    "ax.fill_between(x_1, z, x_2_lower, fc=\"white\")\n",
    "circle = plt.Circle(\n",
    "    (0.5, 0.5), 0.5 ** 0.5, color=\"r\", alpha=0.25, zorder=0, label=\"Valid Region\"\n",
    ")\n",
    "ax.add_patch(circle)\n",
    "history = pd.concat(\n",
    "    [X.data, tnk_vocs.feasibility_data(X.data)], axis=1, ignore_index=False\n",
    ")\n",
    "\n",
    "ax.plot(*history[[\"x1\", \"x2\"]][history[\"feasible\"]].to_numpy().T, \".C1\")\n",
    "ax.plot(*history[[\"x1\", \"x2\"]][~history[\"feasible\"]].to_numpy().T, \".C2\")\n",
    "\n",
    "ax.set_xlim(0, 3.14)\n",
    "ax.set_ylim(0, 3.14)\n",
    "ax.set_xlabel(\"x1\")\n",
    "ax.set_ylabel(\"x2\")\n",
    "ax.set_aspect(\"equal\")"
   ]
  },
  {
   "cell_type": "markdown",
   "metadata": {
    "collapsed": false
   },
   "source": [
    "### Plot path through input space"
   ]
  },
  {
   "cell_type": "code",
   "execution_count": 6,
   "metadata": {
    "ExecuteTime": {
     "end_time": "2023-09-20T14:37:15.607777300Z",
     "start_time": "2023-09-20T14:37:15.288777300Z"
    },
    "collapsed": false,
    "execution": {
     "iopub.execute_input": "2023-10-20T15:37:34.499562Z",
     "iopub.status.busy": "2023-10-20T15:37:34.499252Z",
     "iopub.status.idle": "2023-10-20T15:37:34.886527Z",
     "shell.execute_reply": "2023-10-20T15:37:34.885937Z"
    }
   },
   "outputs": [
    {
     "data": {
      "image/png": "[encoded data removed]",
      "text/plain": [
       "<Figure size 640x480 with 4 Axes>"
      ]
     },
     "metadata": {},
     "output_type": "display_data"
    }
   ],
   "source": [
    "ax = history.hist([\"x1\", \"x2\", \"s\"],bins=20)"
   ]
  },
  {
   "cell_type": "code",
   "execution_count": 7,
   "metadata": {
    "ExecuteTime": {
     "end_time": "2023-09-20T14:37:15.768777Z",
     "start_time": "2023-09-20T14:37:15.606777300Z"
    },
    "collapsed": false,
    "execution": {
     "iopub.execute_input": "2023-10-20T15:37:34.889765Z",
     "iopub.status.busy": "2023-10-20T15:37:34.889217Z",
     "iopub.status.idle": "2023-10-20T15:37:35.048153Z",
     "shell.execute_reply": "2023-10-20T15:37:35.047522Z"
    }
   },
   "outputs": [
    {
     "data": {
      "text/plain": [
       "<Axes: >"
      ]
     },
     "execution_count": 7,
     "metadata": {},
     "output_type": "execute_result"
    },
    {
     "data": {
      "image/png": "[encoded data removed]",
      "text/plain": [
       "<Figure size 640x480 with 1 Axes>"
      ]
     },
     "metadata": {},
     "output_type": "display_data"
    }
   ],
   "source": [
    "history.plot(y=[\"x1\", \"x2\", \"s\"])"
   ]
  },
  {
   "cell_type": "markdown",
   "metadata": {
    "collapsed": false
   },
   "source": [
    "## Plot the acqusisition function\n",
    "Here we plot the acquisition function at a small set of fidelities $[0, 0.5, 1.0]$."
   ]
  },
  {
   "cell_type": "code",
   "execution_count": 8,
   "metadata": {
    "ExecuteTime": {
     "end_time": "2023-09-20T14:37:45.334189800Z",
     "start_time": "2023-09-20T14:37:41.203201700Z"
    },
    "collapsed": false,
    "execution": {
     "iopub.execute_input": "2023-10-20T15:37:35.050975Z",
     "iopub.status.busy": "2023-10-20T15:37:35.050769Z",
     "iopub.status.idle": "2023-10-20T15:37:47.754209Z",
     "shell.execute_reply": "2023-10-20T15:37:47.753641Z"
    }
   },
   "outputs": [
    {
     "name": "stdout",
     "output_type": "stream",
     "text": [
      "[[1.47302899 1.20225905]]\n"
     ]
    },
    {
     "data": {
      "text/plain": [
       "[<matplotlib.lines.Line2D at 0x7fccf023c640>]"
      ]
     },
     "execution_count": 8,
     "metadata": {},
     "output_type": "execute_result"
    },
    {
     "data": {
      "image/png": "[encoded data removed]",
      "text/plain": [
       "<Figure size 640x480 with 2 Axes>"
      ]
     },
     "metadata": {},
     "output_type": "display_data"
    },
    {
     "data": {
      "image/png": "[encoded data removed]",
      "text/plain": [
       "<Figure size 640x480 with 2 Axes>"
      ]
     },
     "metadata": {},
     "output_type": "display_data"
    },
    {
     "data": {
      "image/png": "[encoded data removed]",
      "text/plain": [
       "<Figure size 640x480 with 2 Axes>"
      ]
     },
     "metadata": {},
     "output_type": "display_data"
    }
   ],
   "source": [
    "# plot the acquisition function\n",
    "\n",
    "bounds = X.generator.vocs.bounds\n",
    "model = X.generator.model\n",
    "\n",
    "# create mesh over non-fidelity parameters\n",
    "n = 50\n",
    "x = torch.linspace(*bounds.T[1], n)\n",
    "y = torch.linspace(*bounds.T[2], n)\n",
    "xx, yy = torch.meshgrid(x, y)\n",
    "\n",
    "# plot function(s) at a single fidelity parameter\n",
    "fidelities = [0.0, 0.5, 1.0]\n",
    "for fidelity in fidelities:\n",
    "    pts = torch.hstack([ele.reshape(-1, 1) for ele in (xx, yy)]).double()\n",
    "    pts = torch.cat((torch.ones(pts.shape[0],1)*fidelity, pts), dim=-1)\n",
    "\n",
    "    acq_func = X.generator.get_acquisition(model)\n",
    "    with torch.no_grad():\n",
    "        acq_pts = pts.unsqueeze(1)\n",
    "        acq = acq_func(acq_pts)\n",
    "\n",
    "        fig, ax = plt.subplots()\n",
    "\n",
    "        xxn, yyn = xx.numpy(), yy.numpy()\n",
    "\n",
    "        c = ax.pcolor(xxn, yyn, acq.reshape(n, n), cmap=\"Blues\")\n",
    "        fig.colorbar(c)\n",
    "        ax.set_title(f\"Acquisition function - s: {fidelity}\")\n",
    "\n",
    "        ax.plot(*history[[\"x1\", \"x2\"]][history[\"feasible\"]].to_numpy().T, \".C1\")\n",
    "        ax.plot(*history[[\"x1\", \"x2\"]][~history[\"feasible\"]].to_numpy().T, \".C2\")\n",
    "\n",
    "        ax.plot(*history[[\"x1\", \"x2\"]].to_numpy()[-1].T, \"+\")\n",
    "\n",
    "\n",
    "candidate = pd.DataFrame(X.generator.generate(1), index=[0])\n",
    "print(candidate[[\"x1\", \"x2\"]].to_numpy())\n",
    "ax.plot(*candidate[[\"x1\", \"x2\"]].to_numpy()[0], \"o\")"
   ]
  },
  {
   "cell_type": "code",
   "execution_count": 9,
   "metadata": {
    "ExecuteTime": {
     "start_time": "2023-09-20T14:37:17.294215100Z"
    },
    "collapsed": false,
    "execution": {
     "iopub.execute_input": "2023-10-20T15:37:47.757234Z",
     "iopub.status.busy": "2023-10-20T15:37:47.756808Z",
     "iopub.status.idle": "2023-10-20T15:37:47.764631Z",
     "shell.execute_reply": "2023-10-20T15:37:47.764122Z"
    }
   },
   "outputs": [
    {
     "data": {
      "text/plain": [
       "[('likelihood.noise_covar.raw_noise',\n",
       "  Parameter containing:\n",
       "  tensor([-23.4578], dtype=torch.float64, requires_grad=True)),\n",
       " ('mean_module.raw_constant',\n",
       "  Parameter containing:\n",
       "  tensor(-0.1399, dtype=torch.float64, requires_grad=True)),\n",
       " ('covar_module.raw_outputscale',\n",
       "  Parameter containing:\n",
       "  tensor(-0.1432, dtype=torch.float64, requires_grad=True)),\n",
       " ('covar_module.base_kernel.raw_lengthscale',\n",
       "  Parameter containing:\n",
       "  tensor([[0.4284, 1.6755, 1.7155]], dtype=torch.float64, requires_grad=True))]"
      ]
     },
     "execution_count": 9,
     "metadata": {},
     "output_type": "execute_result"
    }
   ],
   "source": [
    "# examine lengthscale of the first objective\n",
    "list(model.models[0].named_parameters())"
   ]
  }
 ],
 "metadata": {
  "interpreter": {
   "hash": "72034539424920dfb606fe3b820b3f27dca0cbf1c69938110810ec4641e275b1"
  },
  "kernelspec": {
   "display_name": "Python 3 (ipykernel)",
   "language": "python",
   "name": "python3"
  },
  "language_info": {
   "codemirror_mode": {
    "name": "ipython",
    "version": 3
   },
   "file_extension": ".py",
   "mimetype": "text/x-python",
   "name": "python",
   "nbconvert_exporter": "python",
   "pygments_lexer": "ipython3",
   "version": "3.9.18"
  }
 },
 "nbformat": 4,
 "nbformat_minor": 4
}
