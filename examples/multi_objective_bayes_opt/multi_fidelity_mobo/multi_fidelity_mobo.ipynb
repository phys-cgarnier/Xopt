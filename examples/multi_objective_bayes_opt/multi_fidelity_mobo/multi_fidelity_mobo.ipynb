{
 "cells": [
  {
   "cell_type": "markdown",
   "metadata": {},
   "source": [
    "# Multi-fidelity Multi-objective Bayesian Optimization\n",
    "\n",
    "Here we attempt to solve for the constrained Pareto front of the TNK multi-objective\n",
    "optimization problem using Multi-Fidelity Multi-Objective Bayesian optimization. For\n",
    "simplicity we assume that the objective and constraint functions at lower fidelities is\n",
    "exactly equal to the functions at higher fidelities (this is obviously not a\n",
    "requirement, although for the best results lower fidelity calculations should\n",
    "correlate with higher fidelity ones). The algorithm should learn this relationship\n",
    "and use information gathered at lower fidelities to gather samples to improve the\n",
    "hypervolume of the Pareto front at the maximum fidelity.\n",
    "\n",
    "TNK function\n",
    "$n=2$ variables:\n",
    "$x_i \\in [0, \\pi], i=1,2$\n",
    "\n",
    "Objectives:\n",
    "- $f_i(x) = x_i$\n",
    "\n",
    "Constraints:\n",
    "- $g_1(x) = -x_1^2 -x_2^2 + 1 + 0.1 \\cos\\left(16 \\arctan \\frac{x_1}{x_2}\\right) \\le 0$\n",
    "- $g_2(x) = (x_1 - 1/2)^2 + (x_2-1/2)^2 \\le 0.5$"
   ]
  },
  {
   "cell_type": "code",
   "execution_count": 1,
   "metadata": {
    "ExecuteTime": {
     "end_time": "2023-09-08T19:59:39.796072500Z",
     "start_time": "2023-09-08T19:59:36.907807600Z"
    },
    "collapsed": false,
    "execution": {
     "iopub.execute_input": "2023-09-14T16:14:11.344947Z",
     "iopub.status.busy": "2023-09-14T16:14:11.344736Z",
     "iopub.status.idle": "2023-09-14T16:14:13.440926Z",
     "shell.execute_reply": "2023-09-14T16:14:13.440157Z"
    }
   },
   "outputs": [
    {
     "name": "stdout",
     "output_type": "stream",
     "text": [
      "{'variables': {'x1': [0.0, 3.14159], 'x2': [0.0, 3.14159]}, 'constraints': {'c1': ['GREATER_THAN', 0.0], 'c2': ['LESS_THAN', 0.5]}, 'objectives': {'y1': 'MINIMIZE', 'y2': 'MINIMIZE'}, 'constants': {'a': 'dummy_constant'}, 'observables': []}\n"
     ]
    }
   ],
   "source": [
    "# set values if testing\n",
    "import os\n",
    "SMOKE_TEST = os.environ.get(\"SMOKE_TEST\")\n",
    "N_MC_SAMPLES = 1 if SMOKE_TEST else 128\n",
    "NUM_RESTARTS = 1 if SMOKE_TEST else 20\n",
    "BUDGET = 0.02 if SMOKE_TEST else 10\n",
    "\n",
    "# Ignore all warnings\n",
    "import warnings\n",
    "warnings.filterwarnings(\"ignore\")\n",
    "\n",
    "import pandas as pd\n",
    "import numpy as np\n",
    "import torch\n",
    "\n",
    "from xopt import Xopt, Evaluator\n",
    "from xopt.generators.bayesian import MultiFidelityGenerator\n",
    "from xopt.resources.test_functions.tnk import evaluate_TNK, tnk_vocs\n",
    "\n",
    "evaluator = Evaluator(function=evaluate_TNK)\n",
    "print(tnk_vocs.dict())"
   ]
  },
  {
   "cell_type": "markdown",
   "metadata": {
    "collapsed": false
   },
   "source": [
    "## Set up the Multi-Fidelity Multi-objective optimization algorithm\n",
    "Here we create the Multi-Fidelity generator object which can solve both single and\n",
    "multi-objective optimization problems depending on the number of objectives in VOCS.\n",
    "We specify a cost function as a function of fidelity parameter $s=[0,1]$ as $C(s) =\n",
    "s^{3.5}$ as an example from a real life multi-fidelity simulation problem."
   ]
  },
  {
   "cell_type": "code",
   "execution_count": 2,
   "metadata": {
    "ExecuteTime": {
     "end_time": "2023-09-08T19:59:39.845072400Z",
     "start_time": "2023-09-08T19:59:39.800072500Z"
    },
    "collapsed": false,
    "execution": {
     "iopub.execute_input": "2023-09-14T16:14:13.478572Z",
     "iopub.status.busy": "2023-09-14T16:14:13.477954Z",
     "iopub.status.idle": "2023-09-14T16:14:13.500739Z",
     "shell.execute_reply": "2023-09-14T16:14:13.500157Z"
    }
   },
   "outputs": [
    {
     "data": {
      "text/plain": [
       "\n",
       "            Xopt\n",
       "________________________________\n",
       "Version: 0+untagged.1.gaed4298\n",
       "Data size: 2\n",
       "Config as YAML:\n",
       "dump_file: null\n",
       "evaluator:\n",
       "  function: xopt.resources.test_functions.tnk.evaluate_TNK\n",
       "  function_kwargs:\n",
       "    raise_probability: 0\n",
       "    random_sleep: 0\n",
       "    sleep: 0\n",
       "  max_workers: 1\n",
       "  vectorized: false\n",
       "generator:\n",
       "  computation_time: null\n",
       "  cost_function: __main__.<lambda>\n",
       "  fidelity_parameter: s\n",
       "  fixed_features: null\n",
       "  max_travel_distances: null\n",
       "  model: null\n",
       "  model_constructor:\n",
       "    covar_modules: {}\n",
       "    mean_modules: {}\n",
       "    name: standard\n",
       "    trainable_mean_keys: []\n",
       "    use_low_noise_prior: true\n",
       "  n_candidates: 1\n",
       "  n_monte_carlo_samples: 128\n",
       "  name: multi_fidelity\n",
       "  numerical_optimizer:\n",
       "    max_iter: 2000\n",
       "    n_raw_samples: 20\n",
       "    n_restarts: 20\n",
       "    name: LBFGS\n",
       "  reference_point:\n",
       "    s: 0.0\n",
       "    y1: 1.5\n",
       "    y2: 1.5\n",
       "  turbo_controller: null\n",
       "  use_cuda: false\n",
       "max_evaluations: null\n",
       "serialize_torch: false\n",
       "strict: true\n",
       "vocs:\n",
       "  constants:\n",
       "    a: dummy_constant\n",
       "  constraints: {}\n",
       "  objectives:\n",
       "    s: MAXIMIZE\n",
       "    y1: MINIMIZE\n",
       "    y2: MINIMIZE\n",
       "  observables: []\n",
       "  variables:\n",
       "    s:\n",
       "    - 0\n",
       "    - 1\n",
       "    x1:\n",
       "    - 0.0\n",
       "    - 3.14159\n",
       "    x2:\n",
       "    - 0.0\n",
       "    - 3.14159\n"
      ]
     },
     "execution_count": 2,
     "metadata": {},
     "output_type": "execute_result"
    }
   ],
   "source": [
    "from copy import deepcopy\n",
    "my_vocs = deepcopy(tnk_vocs)\n",
    "my_vocs.constraints = {}\n",
    "generator = MultiFidelityGenerator(vocs=my_vocs, reference_point = {\"y1\":1.5,\"y2\":1.5})\n",
    "\n",
    "# set cost function according to approximate scaling of laser plasma accelerator\n",
    "# problem, see https://journals.aps.org/prresearch/abstract/10.1103/PhysRevResearch.5.013063\n",
    "generator.cost_function = lambda s: s**3.5\n",
    "generator.numerical_optimizer.n_restarts = NUM_RESTARTS\n",
    "generator.n_monte_carlo_samples = N_MC_SAMPLES\n",
    "\n",
    "X = Xopt(generator=generator, evaluator=evaluator, vocs=my_vocs)\n",
    "\n",
    "# evaluate at some explicit initial points\n",
    "X.evaluate_data(pd.DataFrame({\"x1\":[1.0, 0.75],\"x2\":[0.75, 1.0],\"s\":[0.0,0.1]}))\n",
    "\n",
    "X"
   ]
  },
  {
   "cell_type": "markdown",
   "metadata": {
    "collapsed": false
   },
   "source": [
    "## Run optimization routine\n",
    "Instead of ending the optimization routine after an explict number of samples we end\n",
    "optimization once a given optimization budget has been exceeded. WARNING: This will\n",
    "slightly exceed the given budget"
   ]
  },
  {
   "cell_type": "code",
   "execution_count": 3,
   "metadata": {
    "ExecuteTime": {
     "end_time": "2023-09-08T19:59:45.303092700Z",
     "start_time": "2023-09-08T19:59:39.840073900Z"
    },
    "collapsed": false,
    "execution": {
     "iopub.execute_input": "2023-09-14T16:14:13.503792Z",
     "iopub.status.busy": "2023-09-14T16:14:13.503343Z",
     "iopub.status.idle": "2023-09-14T16:15:43.250879Z",
     "shell.execute_reply": "2023-09-14T16:15:43.250339Z"
    }
   },
   "outputs": [
    {
     "name": "stdout",
     "output_type": "stream",
     "text": [
      "n_samples: 3 budget used: 0.009805 hypervolume: 0.03944\n",
      "n_samples: 4 budget used: 0.01041 hypervolume: 0.03944\n",
      "n_samples: 5 budget used: 0.02041 hypervolume: 0.233\n",
      "n_samples: 6 budget used: 0.03041 hypervolume: 0.5346\n",
      "n_samples: 7 budget used: 0.04875 hypervolume: 0.6718\n",
      "n_samples: 8 budget used: 0.08858 hypervolume: 0.8958\n",
      "n_samples: 9 budget used: 0.1764 hypervolume: 1.123\n",
      "n_samples: 10 budget used: 0.3516 hypervolume: 1.368\n",
      "n_samples: 11 budget used: 0.7529 hypervolume: 1.733\n",
      "n_samples: 12 budget used: 1.543 hypervolume: 2.104\n",
      "n_samples: 13 budget used: 2.543 hypervolume: 2.25\n",
      "n_samples: 14 budget used: 2.553 hypervolume: 2.25\n",
      "n_samples: 15 budget used: 3.553 hypervolume: 2.25\n",
      "n_samples: 16 budget used: 3.644 hypervolume: 2.25\n",
      "n_samples: 17 budget used: 4.644 hypervolume: 2.25\n",
      "n_samples: 18 budget used: 4.788 hypervolume: 2.25\n",
      "n_samples: 19 budget used: 5.788 hypervolume: 2.25\n",
      "n_samples: 20 budget used: 6.788 hypervolume: 2.25\n",
      "n_samples: 21 budget used: 6.788 hypervolume: 2.25\n",
      "n_samples: 22 budget used: 7.788 hypervolume: 2.25\n",
      "n_samples: 23 budget used: 8.426 hypervolume: 2.25\n",
      "n_samples: 24 budget used: 8.461 hypervolume: 2.25\n",
      "n_samples: 25 budget used: 8.462 hypervolume: 2.25\n",
      "n_samples: 26 budget used: 8.801 hypervolume: 2.25\n",
      "n_samples: 27 budget used: 9.764 hypervolume: 2.25\n",
      "n_samples: 28 budget used: 10.76 hypervolume: 2.25\n"
     ]
    }
   ],
   "source": [
    "budget = BUDGET\n",
    "while X.generator.calculate_total_cost() < budget:\n",
    "    X.step()\n",
    "    print(f\"n_samples: {len(X.data)} \"\n",
    "          f\"budget used: {X.generator.calculate_total_cost():.4} \"\n",
    "          f\"hypervolume: {X.generator.calculate_hypervolume():.4}\")"
   ]
  },
  {
   "cell_type": "markdown",
   "metadata": {
    "collapsed": false
   },
   "source": [
    "## Show results"
   ]
  },
  {
   "cell_type": "code",
   "execution_count": 4,
   "metadata": {
    "ExecuteTime": {
     "end_time": "2023-09-08T19:59:45.325092300Z",
     "start_time": "2023-09-08T19:59:45.303092700Z"
    },
    "collapsed": false,
    "execution": {
     "iopub.execute_input": "2023-09-14T16:15:43.254664Z",
     "iopub.status.busy": "2023-09-14T16:15:43.254147Z",
     "iopub.status.idle": "2023-09-14T16:15:43.273264Z",
     "shell.execute_reply": "2023-09-14T16:15:43.272741Z"
    }
   },
   "outputs": [
    {
     "data": {
      "text/html": [
       "<div>\n",
       "<style scoped>\n",
       "    .dataframe tbody tr th:only-of-type {\n",
       "        vertical-align: middle;\n",
       "    }\n",
       "\n",
       "    .dataframe tbody tr th {\n",
       "        vertical-align: top;\n",
       "    }\n",
       "\n",
       "    .dataframe thead th {\n",
       "        text-align: right;\n",
       "    }\n",
       "</style>\n",
       "<table border=\"1\" class=\"dataframe\">\n",
       "  <thead>\n",
       "    <tr style=\"text-align: right;\">\n",
       "      <th></th>\n",
       "      <th>x1</th>\n",
       "      <th>x2</th>\n",
       "      <th>s</th>\n",
       "      <th>y1</th>\n",
       "      <th>y2</th>\n",
       "      <th>c1</th>\n",
       "      <th>c2</th>\n",
       "      <th>xopt_runtime</th>\n",
       "      <th>xopt_error</th>\n",
       "    </tr>\n",
       "  </thead>\n",
       "  <tbody>\n",
       "    <tr>\n",
       "      <th>0</th>\n",
       "      <td>1.000000</td>\n",
       "      <td>0.750000</td>\n",
       "      <td>0.000000</td>\n",
       "      <td>1.000000</td>\n",
       "      <td>0.750000</td>\n",
       "      <td>0.626888</td>\n",
       "      <td>0.312500</td>\n",
       "      <td>0.000047</td>\n",
       "      <td>False</td>\n",
       "    </tr>\n",
       "    <tr>\n",
       "      <th>1</th>\n",
       "      <td>0.750000</td>\n",
       "      <td>1.000000</td>\n",
       "      <td>0.100000</td>\n",
       "      <td>0.750000</td>\n",
       "      <td>1.000000</td>\n",
       "      <td>0.626888</td>\n",
       "      <td>0.312500</td>\n",
       "      <td>0.000009</td>\n",
       "      <td>False</td>\n",
       "    </tr>\n",
       "    <tr>\n",
       "      <th>3</th>\n",
       "      <td>0.429964</td>\n",
       "      <td>1.490687</td>\n",
       "      <td>0.264277</td>\n",
       "      <td>0.429964</td>\n",
       "      <td>1.490687</td>\n",
       "      <td>1.428782</td>\n",
       "      <td>0.986366</td>\n",
       "      <td>0.000033</td>\n",
       "      <td>False</td>\n",
       "    </tr>\n",
       "    <tr>\n",
       "      <th>4</th>\n",
       "      <td>1.074396</td>\n",
       "      <td>3.087450</td>\n",
       "      <td>0.120587</td>\n",
       "      <td>1.074396</td>\n",
       "      <td>3.087450</td>\n",
       "      <td>9.626498</td>\n",
       "      <td>7.024828</td>\n",
       "      <td>0.000032</td>\n",
       "      <td>False</td>\n",
       "    </tr>\n",
       "    <tr>\n",
       "      <th>5</th>\n",
       "      <td>0.000000</td>\n",
       "      <td>0.920871</td>\n",
       "      <td>0.268269</td>\n",
       "      <td>0.000000</td>\n",
       "      <td>0.920871</td>\n",
       "      <td>-0.251996</td>\n",
       "      <td>0.427133</td>\n",
       "      <td>0.000041</td>\n",
       "      <td>False</td>\n",
       "    </tr>\n",
       "    <tr>\n",
       "      <th>6</th>\n",
       "      <td>0.000000</td>\n",
       "      <td>0.171417</td>\n",
       "      <td>0.268215</td>\n",
       "      <td>0.000000</td>\n",
       "      <td>0.171417</td>\n",
       "      <td>-1.070616</td>\n",
       "      <td>0.357967</td>\n",
       "      <td>0.000032</td>\n",
       "      <td>False</td>\n",
       "    </tr>\n",
       "    <tr>\n",
       "      <th>7</th>\n",
       "      <td>0.377022</td>\n",
       "      <td>0.000000</td>\n",
       "      <td>0.319066</td>\n",
       "      <td>0.377022</td>\n",
       "      <td>0.000000</td>\n",
       "      <td>-0.957854</td>\n",
       "      <td>0.265123</td>\n",
       "      <td>0.000036</td>\n",
       "      <td>False</td>\n",
       "    </tr>\n",
       "    <tr>\n",
       "      <th>8</th>\n",
       "      <td>0.000000</td>\n",
       "      <td>0.000000</td>\n",
       "      <td>0.398150</td>\n",
       "      <td>0.000000</td>\n",
       "      <td>0.000000</td>\n",
       "      <td>-1.100000</td>\n",
       "      <td>0.500000</td>\n",
       "      <td>0.000033</td>\n",
       "      <td>False</td>\n",
       "    </tr>\n",
       "    <tr>\n",
       "      <th>9</th>\n",
       "      <td>0.000000</td>\n",
       "      <td>0.000000</td>\n",
       "      <td>0.499125</td>\n",
       "      <td>0.000000</td>\n",
       "      <td>0.000000</td>\n",
       "      <td>-1.100000</td>\n",
       "      <td>0.500000</td>\n",
       "      <td>0.000033</td>\n",
       "      <td>False</td>\n",
       "    </tr>\n",
       "    <tr>\n",
       "      <th>10</th>\n",
       "      <td>0.000000</td>\n",
       "      <td>0.000000</td>\n",
       "      <td>0.607948</td>\n",
       "      <td>0.000000</td>\n",
       "      <td>0.000000</td>\n",
       "      <td>-1.100000</td>\n",
       "      <td>0.500000</td>\n",
       "      <td>0.000035</td>\n",
       "      <td>False</td>\n",
       "    </tr>\n",
       "    <tr>\n",
       "      <th>11</th>\n",
       "      <td>0.000000</td>\n",
       "      <td>0.000000</td>\n",
       "      <td>0.770375</td>\n",
       "      <td>0.000000</td>\n",
       "      <td>0.000000</td>\n",
       "      <td>-1.100000</td>\n",
       "      <td>0.500000</td>\n",
       "      <td>0.000033</td>\n",
       "      <td>False</td>\n",
       "    </tr>\n",
       "    <tr>\n",
       "      <th>12</th>\n",
       "      <td>0.000000</td>\n",
       "      <td>0.000000</td>\n",
       "      <td>0.935004</td>\n",
       "      <td>0.000000</td>\n",
       "      <td>0.000000</td>\n",
       "      <td>-1.100000</td>\n",
       "      <td>0.500000</td>\n",
       "      <td>0.000034</td>\n",
       "      <td>False</td>\n",
       "    </tr>\n",
       "    <tr>\n",
       "      <th>13</th>\n",
       "      <td>0.000000</td>\n",
       "      <td>0.000000</td>\n",
       "      <td>1.000000</td>\n",
       "      <td>0.000000</td>\n",
       "      <td>0.000000</td>\n",
       "      <td>-1.100000</td>\n",
       "      <td>0.500000</td>\n",
       "      <td>0.000033</td>\n",
       "      <td>False</td>\n",
       "    </tr>\n",
       "    <tr>\n",
       "      <th>14</th>\n",
       "      <td>3.141590</td>\n",
       "      <td>0.000000</td>\n",
       "      <td>0.268271</td>\n",
       "      <td>3.141590</td>\n",
       "      <td>0.000000</td>\n",
       "      <td>8.769588</td>\n",
       "      <td>7.227998</td>\n",
       "      <td>0.000032</td>\n",
       "      <td>False</td>\n",
       "    </tr>\n",
       "    <tr>\n",
       "      <th>15</th>\n",
       "      <td>0.597144</td>\n",
       "      <td>0.000000</td>\n",
       "      <td>1.000000</td>\n",
       "      <td>0.597144</td>\n",
       "      <td>0.000000</td>\n",
       "      <td>-0.743419</td>\n",
       "      <td>0.259437</td>\n",
       "      <td>0.000033</td>\n",
       "      <td>False</td>\n",
       "    </tr>\n",
       "    <tr>\n",
       "      <th>16</th>\n",
       "      <td>0.729620</td>\n",
       "      <td>0.000000</td>\n",
       "      <td>0.504188</td>\n",
       "      <td>0.729620</td>\n",
       "      <td>0.000000</td>\n",
       "      <td>-0.567655</td>\n",
       "      <td>0.302725</td>\n",
       "      <td>0.000034</td>\n",
       "      <td>False</td>\n",
       "    </tr>\n",
       "    <tr>\n",
       "      <th>17</th>\n",
       "      <td>0.000000</td>\n",
       "      <td>0.625212</td>\n",
       "      <td>1.000000</td>\n",
       "      <td>0.000000</td>\n",
       "      <td>0.625212</td>\n",
       "      <td>-0.709109</td>\n",
       "      <td>0.265678</td>\n",
       "      <td>0.000036</td>\n",
       "      <td>False</td>\n",
       "    </tr>\n",
       "    <tr>\n",
       "      <th>18</th>\n",
       "      <td>0.000000</td>\n",
       "      <td>0.474484</td>\n",
       "      <td>0.574336</td>\n",
       "      <td>0.000000</td>\n",
       "      <td>0.474484</td>\n",
       "      <td>-0.874865</td>\n",
       "      <td>0.250651</td>\n",
       "      <td>0.000034</td>\n",
       "      <td>False</td>\n",
       "    </tr>\n",
       "    <tr>\n",
       "      <th>19</th>\n",
       "      <td>0.278015</td>\n",
       "      <td>0.000000</td>\n",
       "      <td>1.000000</td>\n",
       "      <td>0.278015</td>\n",
       "      <td>0.000000</td>\n",
       "      <td>-1.022708</td>\n",
       "      <td>0.299277</td>\n",
       "      <td>0.000036</td>\n",
       "      <td>False</td>\n",
       "    </tr>\n",
       "    <tr>\n",
       "      <th>20</th>\n",
       "      <td>1.122845</td>\n",
       "      <td>0.000000</td>\n",
       "      <td>1.000000</td>\n",
       "      <td>1.122845</td>\n",
       "      <td>0.000000</td>\n",
       "      <td>0.160781</td>\n",
       "      <td>0.637936</td>\n",
       "      <td>0.000033</td>\n",
       "      <td>False</td>\n",
       "    </tr>\n",
       "    <tr>\n",
       "      <th>21</th>\n",
       "      <td>2.511755</td>\n",
       "      <td>0.948686</td>\n",
       "      <td>0.061000</td>\n",
       "      <td>2.511755</td>\n",
       "      <td>0.948686</td>\n",
       "      <td>6.121402</td>\n",
       "      <td>4.248477</td>\n",
       "      <td>0.000032</td>\n",
       "      <td>False</td>\n",
       "    </tr>\n",
       "    <tr>\n",
       "      <th>22</th>\n",
       "      <td>0.521243</td>\n",
       "      <td>0.418378</td>\n",
       "      <td>1.000000</td>\n",
       "      <td>0.521243</td>\n",
       "      <td>0.418378</td>\n",
       "      <td>-0.535966</td>\n",
       "      <td>0.007113</td>\n",
       "      <td>0.000032</td>\n",
       "      <td>False</td>\n",
       "    </tr>\n",
       "    <tr>\n",
       "      <th>23</th>\n",
       "      <td>0.756563</td>\n",
       "      <td>2.709586</td>\n",
       "      <td>0.879325</td>\n",
       "      <td>0.756563</td>\n",
       "      <td>2.709586</td>\n",
       "      <td>6.949082</td>\n",
       "      <td>4.948093</td>\n",
       "      <td>0.000034</td>\n",
       "      <td>False</td>\n",
       "    </tr>\n",
       "    <tr>\n",
       "      <th>24</th>\n",
       "      <td>0.812791</td>\n",
       "      <td>1.633366</td>\n",
       "      <td>0.385602</td>\n",
       "      <td>0.812791</td>\n",
       "      <td>1.633366</td>\n",
       "      <td>2.283570</td>\n",
       "      <td>1.382358</td>\n",
       "      <td>0.000033</td>\n",
       "      <td>False</td>\n",
       "    </tr>\n",
       "    <tr>\n",
       "      <th>25</th>\n",
       "      <td>0.000000</td>\n",
       "      <td>0.000000</td>\n",
       "      <td>0.117586</td>\n",
       "      <td>0.000000</td>\n",
       "      <td>0.000000</td>\n",
       "      <td>-1.100000</td>\n",
       "      <td>0.500000</td>\n",
       "      <td>0.000032</td>\n",
       "      <td>False</td>\n",
       "    </tr>\n",
       "    <tr>\n",
       "      <th>26</th>\n",
       "      <td>0.007858</td>\n",
       "      <td>2.084249</td>\n",
       "      <td>0.734261</td>\n",
       "      <td>0.007858</td>\n",
       "      <td>2.084249</td>\n",
       "      <td>3.244337</td>\n",
       "      <td>2.752048</td>\n",
       "      <td>0.000036</td>\n",
       "      <td>False</td>\n",
       "    </tr>\n",
       "    <tr>\n",
       "      <th>27</th>\n",
       "      <td>1.214846</td>\n",
       "      <td>3.009343</td>\n",
       "      <td>0.989192</td>\n",
       "      <td>1.214846</td>\n",
       "      <td>3.009343</td>\n",
       "      <td>9.433031</td>\n",
       "      <td>6.807805</td>\n",
       "      <td>0.000032</td>\n",
       "      <td>False</td>\n",
       "    </tr>\n",
       "    <tr>\n",
       "      <th>28</th>\n",
       "      <td>0.854411</td>\n",
       "      <td>0.000000</td>\n",
       "      <td>1.000000</td>\n",
       "      <td>0.854411</td>\n",
       "      <td>0.000000</td>\n",
       "      <td>-0.369982</td>\n",
       "      <td>0.375607</td>\n",
       "      <td>0.000033</td>\n",
       "      <td>False</td>\n",
       "    </tr>\n",
       "  </tbody>\n",
       "</table>\n",
       "</div>"
      ],
      "text/plain": [
       "          x1        x2         s        y1        y2        c1        c2  \\\n",
       "0   1.000000  0.750000  0.000000  1.000000  0.750000  0.626888  0.312500   \n",
       "1   0.750000  1.000000  0.100000  0.750000  1.000000  0.626888  0.312500   \n",
       "3   0.429964  1.490687  0.264277  0.429964  1.490687  1.428782  0.986366   \n",
       "4   1.074396  3.087450  0.120587  1.074396  3.087450  9.626498  7.024828   \n",
       "5   0.000000  0.920871  0.268269  0.000000  0.920871 -0.251996  0.427133   \n",
       "6   0.000000  0.171417  0.268215  0.000000  0.171417 -1.070616  0.357967   \n",
       "7   0.377022  0.000000  0.319066  0.377022  0.000000 -0.957854  0.265123   \n",
       "8   0.000000  0.000000  0.398150  0.000000  0.000000 -1.100000  0.500000   \n",
       "9   0.000000  0.000000  0.499125  0.000000  0.000000 -1.100000  0.500000   \n",
       "10  0.000000  0.000000  0.607948  0.000000  0.000000 -1.100000  0.500000   \n",
       "11  0.000000  0.000000  0.770375  0.000000  0.000000 -1.100000  0.500000   \n",
       "12  0.000000  0.000000  0.935004  0.000000  0.000000 -1.100000  0.500000   \n",
       "13  0.000000  0.000000  1.000000  0.000000  0.000000 -1.100000  0.500000   \n",
       "14  3.141590  0.000000  0.268271  3.141590  0.000000  8.769588  7.227998   \n",
       "15  0.597144  0.000000  1.000000  0.597144  0.000000 -0.743419  0.259437   \n",
       "16  0.729620  0.000000  0.504188  0.729620  0.000000 -0.567655  0.302725   \n",
       "17  0.000000  0.625212  1.000000  0.000000  0.625212 -0.709109  0.265678   \n",
       "18  0.000000  0.474484  0.574336  0.000000  0.474484 -0.874865  0.250651   \n",
       "19  0.278015  0.000000  1.000000  0.278015  0.000000 -1.022708  0.299277   \n",
       "20  1.122845  0.000000  1.000000  1.122845  0.000000  0.160781  0.637936   \n",
       "21  2.511755  0.948686  0.061000  2.511755  0.948686  6.121402  4.248477   \n",
       "22  0.521243  0.418378  1.000000  0.521243  0.418378 -0.535966  0.007113   \n",
       "23  0.756563  2.709586  0.879325  0.756563  2.709586  6.949082  4.948093   \n",
       "24  0.812791  1.633366  0.385602  0.812791  1.633366  2.283570  1.382358   \n",
       "25  0.000000  0.000000  0.117586  0.000000  0.000000 -1.100000  0.500000   \n",
       "26  0.007858  2.084249  0.734261  0.007858  2.084249  3.244337  2.752048   \n",
       "27  1.214846  3.009343  0.989192  1.214846  3.009343  9.433031  6.807805   \n",
       "28  0.854411  0.000000  1.000000  0.854411  0.000000 -0.369982  0.375607   \n",
       "\n",
       "    xopt_runtime  xopt_error  \n",
       "0       0.000047       False  \n",
       "1       0.000009       False  \n",
       "3       0.000033       False  \n",
       "4       0.000032       False  \n",
       "5       0.000041       False  \n",
       "6       0.000032       False  \n",
       "7       0.000036       False  \n",
       "8       0.000033       False  \n",
       "9       0.000033       False  \n",
       "10      0.000035       False  \n",
       "11      0.000033       False  \n",
       "12      0.000034       False  \n",
       "13      0.000033       False  \n",
       "14      0.000032       False  \n",
       "15      0.000033       False  \n",
       "16      0.000034       False  \n",
       "17      0.000036       False  \n",
       "18      0.000034       False  \n",
       "19      0.000036       False  \n",
       "20      0.000033       False  \n",
       "21      0.000032       False  \n",
       "22      0.000032       False  \n",
       "23      0.000034       False  \n",
       "24      0.000033       False  \n",
       "25      0.000032       False  \n",
       "26      0.000036       False  \n",
       "27      0.000032       False  \n",
       "28      0.000033       False  "
      ]
     },
     "execution_count": 4,
     "metadata": {},
     "output_type": "execute_result"
    }
   ],
   "source": [
    "X.data"
   ]
  },
  {
   "cell_type": "markdown",
   "metadata": {
    "collapsed": false
   },
   "source": [
    "## Plot results\n",
    "Here we plot the resulting observations in input space, colored by feasibility\n",
    "(neglecting the fact that\n",
    "these data points are at varying fidelities).\n"
   ]
  },
  {
   "cell_type": "code",
   "execution_count": 5,
   "metadata": {
    "ExecuteTime": {
     "end_time": "2023-09-08T19:59:45.932093Z",
     "start_time": "2023-09-08T19:59:45.321092700Z"
    },
    "collapsed": false,
    "execution": {
     "iopub.execute_input": "2023-09-14T16:15:43.276746Z",
     "iopub.status.busy": "2023-09-14T16:15:43.276341Z",
     "iopub.status.idle": "2023-09-14T16:15:43.846913Z",
     "shell.execute_reply": "2023-09-14T16:15:43.846378Z"
    }
   },
   "outputs": [
    {
     "data": {
      "image/png": "[encoded data removed]",
      "text/plain": [
       "<Figure size 640x480 with 1 Axes>"
      ]
     },
     "metadata": {},
     "output_type": "display_data"
    }
   ],
   "source": [
    "import matplotlib.pyplot as plt\n",
    "\n",
    "fig, ax = plt.subplots()\n",
    "\n",
    "theta = np.linspace(0, np.pi / 2)\n",
    "r = np.sqrt(1 + 0.1 * np.cos(16 * theta))\n",
    "x_1 = r * np.sin(theta)\n",
    "x_2_lower = r * np.cos(theta)\n",
    "x_2_upper = (0.5 - (x_1 - 0.5) ** 2) ** 0.5 + 0.5\n",
    "\n",
    "z = np.zeros_like(x_1)\n",
    "\n",
    "# ax2.plot(x_1, x_2_lower,'r')\n",
    "ax.fill_between(x_1, z, x_2_lower, fc=\"white\")\n",
    "circle = plt.Circle(\n",
    "    (0.5, 0.5), 0.5 ** 0.5, color=\"r\", alpha=0.25, zorder=0, label=\"Valid Region\"\n",
    ")\n",
    "ax.add_patch(circle)\n",
    "history = pd.concat(\n",
    "    [X.data, tnk_vocs.feasibility_data(X.data)], axis=1, ignore_index=False\n",
    ")\n",
    "\n",
    "ax.plot(*history[[\"x1\", \"x2\"]][history[\"feasible\"]].to_numpy().T, \".C1\")\n",
    "ax.plot(*history[[\"x1\", \"x2\"]][~history[\"feasible\"]].to_numpy().T, \".C2\")\n",
    "\n",
    "ax.set_xlim(0, 3.14)\n",
    "ax.set_ylim(0, 3.14)\n",
    "ax.set_xlabel(\"x1\")\n",
    "ax.set_ylabel(\"x2\")\n",
    "ax.set_aspect(\"equal\")"
   ]
  },
  {
   "cell_type": "markdown",
   "metadata": {
    "collapsed": false
   },
   "source": [
    "### Plot path through input space"
   ]
  },
  {
   "cell_type": "code",
   "execution_count": 6,
   "metadata": {
    "ExecuteTime": {
     "end_time": "2023-09-08T19:59:46.382093Z",
     "start_time": "2023-09-08T19:59:45.934112600Z"
    },
    "collapsed": false,
    "execution": {
     "iopub.execute_input": "2023-09-14T16:15:43.850016Z",
     "iopub.status.busy": "2023-09-14T16:15:43.849482Z",
     "iopub.status.idle": "2023-09-14T16:15:44.297885Z",
     "shell.execute_reply": "2023-09-14T16:15:44.297243Z"
    }
   },
   "outputs": [
    {
     "data": {
      "image/png": "[encoded data removed]",
      "text/plain": [
       "<Figure size 640x480 with 4 Axes>"
      ]
     },
     "metadata": {},
     "output_type": "display_data"
    }
   ],
   "source": [
    "ax = history.hist([\"x1\", \"x2\", \"s\"],bins=20)"
   ]
  },
  {
   "cell_type": "code",
   "execution_count": 7,
   "metadata": {
    "ExecuteTime": {
     "end_time": "2023-09-08T19:59:46.562092700Z",
     "start_time": "2023-09-08T19:59:46.384096200Z"
    },
    "collapsed": false,
    "execution": {
     "iopub.execute_input": "2023-09-14T16:15:44.301148Z",
     "iopub.status.busy": "2023-09-14T16:15:44.300550Z",
     "iopub.status.idle": "2023-09-14T16:15:44.482024Z",
     "shell.execute_reply": "2023-09-14T16:15:44.481375Z"
    }
   },
   "outputs": [
    {
     "data": {
      "text/plain": [
       "<Axes: >"
      ]
     },
     "execution_count": 7,
     "metadata": {},
     "output_type": "execute_result"
    },
    {
     "data": {
      "image/png": "[encoded data removed]",
      "text/plain": [
       "<Figure size 640x480 with 1 Axes>"
      ]
     },
     "metadata": {},
     "output_type": "display_data"
    }
   ],
   "source": [
    "history.plot(y=[\"x1\", \"x2\", \"s\"])"
   ]
  },
  {
   "cell_type": "markdown",
   "metadata": {
    "collapsed": false
   },
   "source": [
    "## Plot the acqusisition function\n",
    "Here we plot the acquisition function at a small set of fidelities $[0, 0.5, 1.0]$."
   ]
  },
  {
   "cell_type": "code",
   "execution_count": 8,
   "metadata": {
    "ExecuteTime": {
     "end_time": "2023-09-08T19:59:53.148604700Z",
     "start_time": "2023-09-08T19:59:46.569094700Z"
    },
    "collapsed": false,
    "execution": {
     "iopub.execute_input": "2023-09-14T16:15:44.485362Z",
     "iopub.status.busy": "2023-09-14T16:15:44.484884Z",
     "iopub.status.idle": "2023-09-14T16:15:58.571093Z",
     "shell.execute_reply": "2023-09-14T16:15:58.570372Z"
    }
   },
   "outputs": [
    {
     "name": "stdout",
     "output_type": "stream",
     "text": [
      "[[0.41469021 0.1740154 ]]\n"
     ]
    },
    {
     "data": {
      "text/plain": [
       "[<matplotlib.lines.Line2D at 0x7f134a3c7a60>]"
      ]
     },
     "execution_count": 8,
     "metadata": {},
     "output_type": "execute_result"
    },
    {
     "data": {
      "image/png": "[encoded data removed]",
      "text/plain": [
       "<Figure size 640x480 with 2 Axes>"
      ]
     },
     "metadata": {},
     "output_type": "display_data"
    },
    {
     "data": {
      "image/png": "[encoded data removed]",
      "text/plain": [
       "<Figure size 640x480 with 2 Axes>"
      ]
     },
     "metadata": {},
     "output_type": "display_data"
    },
    {
     "data": {
      "image/png": "[encoded data removed]",
      "text/plain": [
       "<Figure size 640x480 with 2 Axes>"
      ]
     },
     "metadata": {},
     "output_type": "display_data"
    }
   ],
   "source": [
    "# plot the acquisition function\n",
    "\n",
    "bounds = X.generator.vocs.bounds\n",
    "model = X.generator.model\n",
    "\n",
    "# create mesh over non-fidelity parameters\n",
    "n = 50\n",
    "x = torch.linspace(*bounds.T[1], n)\n",
    "y = torch.linspace(*bounds.T[2], n)\n",
    "xx, yy = torch.meshgrid(x, y)\n",
    "\n",
    "# plot function(s) at a single fidelity parameter\n",
    "fidelities = [0.0, 0.5, 1.0]\n",
    "for fidelity in fidelities:\n",
    "    pts = torch.hstack([ele.reshape(-1, 1) for ele in (xx, yy)]).double()\n",
    "    pts = torch.cat((torch.ones(pts.shape[0],1)*fidelity, pts), dim=-1)\n",
    "\n",
    "    acq_func = X.generator.get_acquisition(model)\n",
    "    with torch.no_grad():\n",
    "        acq_pts = pts.unsqueeze(1)\n",
    "        acq = acq_func(acq_pts)\n",
    "\n",
    "        fig, ax = plt.subplots()\n",
    "        c = ax.pcolor(xx, yy, acq.reshape(n, n), cmap=\"Blues\")\n",
    "        fig.colorbar(c)\n",
    "        ax.set_title(f\"Acquisition function - s: {fidelity}\")\n",
    "\n",
    "        ax.plot(*history[[\"x1\", \"x2\"]][history[\"feasible\"]].to_numpy().T, \".C1\")\n",
    "        ax.plot(*history[[\"x1\", \"x2\"]][~history[\"feasible\"]].to_numpy().T, \".C2\")\n",
    "\n",
    "        ax.plot(*history[[\"x1\", \"x2\"]].to_numpy()[-1].T, \"+\")\n",
    "\n",
    "\n",
    "candidate = pd.DataFrame(X.generator.generate(1), index=[0])\n",
    "print(candidate[[\"x1\", \"x2\"]].to_numpy())\n",
    "ax.plot(*candidate[[\"x1\", \"x2\"]].to_numpy()[0], \"o\")"
   ]
  },
  {
   "cell_type": "code",
   "execution_count": 9,
   "metadata": {
    "ExecuteTime": {
     "end_time": "2023-09-08T19:59:53.163603900Z",
     "start_time": "2023-09-08T19:59:53.149603900Z"
    },
    "collapsed": false,
    "execution": {
     "iopub.execute_input": "2023-09-14T16:15:58.574486Z",
     "iopub.status.busy": "2023-09-14T16:15:58.573909Z",
     "iopub.status.idle": "2023-09-14T16:15:58.581182Z",
     "shell.execute_reply": "2023-09-14T16:15:58.580610Z"
    }
   },
   "outputs": [
    {
     "data": {
      "text/plain": [
       "[('likelihood.noise_covar.raw_noise',\n",
       "  Parameter containing:\n",
       "  tensor([-24.7295], dtype=torch.float64, requires_grad=True)),\n",
       " ('mean_module.raw_constant',\n",
       "  Parameter containing:\n",
       "  tensor(-0.0440, dtype=torch.float64, requires_grad=True)),\n",
       " ('covar_module.raw_outputscale',\n",
       "  Parameter containing:\n",
       "  tensor(0.0117, dtype=torch.float64, requires_grad=True)),\n",
       " ('covar_module.base_kernel.raw_lengthscale',\n",
       "  Parameter containing:\n",
       "  tensor([[0.6356, 1.7089, 1.9256]], dtype=torch.float64, requires_grad=True))]"
      ]
     },
     "execution_count": 9,
     "metadata": {},
     "output_type": "execute_result"
    }
   ],
   "source": [
    "# examine lengthscale of the first objective\n",
    "list(model.models[0].named_parameters())"
   ]
  }
 ],
 "metadata": {
  "interpreter": {
   "hash": "72034539424920dfb606fe3b820b3f27dca0cbf1c69938110810ec4641e275b1"
  },
  "kernelspec": {
   "display_name": "Python 3 (ipykernel)",
   "language": "python",
   "name": "python3"
  },
  "language_info": {
   "codemirror_mode": {
    "name": "ipython",
    "version": 3
   },
   "file_extension": ".py",
   "mimetype": "text/x-python",
   "name": "python",
   "nbconvert_exporter": "python",
   "pygments_lexer": "ipython3",
   "version": "3.9.18"
  }
 },
 "nbformat": 4,
 "nbformat_minor": 4
}
