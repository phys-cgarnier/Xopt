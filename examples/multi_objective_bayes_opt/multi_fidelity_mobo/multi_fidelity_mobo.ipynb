{
 "cells": [
  {
   "cell_type": "markdown",
   "metadata": {},
   "source": [
    "# Multi-fidelity Multi-objective Bayesian Optimization\n",
    "\n",
    "Here we attempt to solve for the constrained Pareto front of the TNK multi-objective\n",
    "optimization problem using Multi-Fidelity Multi-Objective Bayesian optimization. For\n",
    "simplicity we assume that the objective and constraint functions at lower fidelities is\n",
    "exactly equal to the functions at higher fidelities (this is obviously not a\n",
    "requirement, although for the best results lower fidelity calculations should\n",
    "correlate with higher fidelity ones). The algorithm should learn this relationship\n",
    "and use information gathered at lower fidelities to gather samples to improve the\n",
    "hypervolume of the Pareto front at the maximum fidelity.\n",
    "\n",
    "TNK function\n",
    "$n=2$ variables:\n",
    "$x_i \\in [0, \\pi], i=1,2$\n",
    "\n",
    "Objectives:\n",
    "- $f_i(x) = x_i$\n",
    "\n",
    "Constraints:\n",
    "- $g_1(x) = -x_1^2 -x_2^2 + 1 + 0.1 \\cos\\left(16 \\arctan \\frac{x_1}{x_2}\\right) \\le 0$\n",
    "- $g_2(x) = (x_1 - 1/2)^2 + (x_2-1/2)^2 \\le 0.5$"
   ]
  },
  {
   "cell_type": "code",
   "execution_count": 1,
   "metadata": {
    "collapsed": false,
    "execution": {
     "iopub.execute_input": "2023-06-30T19:53:20.304262Z",
     "iopub.status.busy": "2023-06-30T19:53:20.303951Z",
     "iopub.status.idle": "2023-06-30T19:53:22.992717Z",
     "shell.execute_reply": "2023-06-30T19:53:22.988916Z"
    }
   },
   "outputs": [
    {
     "name": "stdout",
     "output_type": "stream",
     "text": [
      "{'variables': {'x1': [0.0, 3.14159], 'x2': [0.0, 3.14159]}, 'constraints': {'c1': ['GREATER_THAN', 0.0], 'c2': ['LESS_THAN', 0.5]}, 'objectives': {'y1': 'MINIMIZE', 'y2': 'MINIMIZE'}, 'constants': {'a': 'dummy_constant'}, 'observables': []}\n"
     ]
    }
   ],
   "source": [
    "# set values if testing\n",
    "import os\n",
    "SMOKE_TEST = os.environ.get(\"SMOKE_TEST\")\n",
    "N_MC_SAMPLES = 1 if SMOKE_TEST else 128\n",
    "NUM_RESTARTS = 1 if SMOKE_TEST else 20\n",
    "BUDGET = 0.02 if SMOKE_TEST else 10\n",
    "\n",
    "# Ignore all warnings\n",
    "import warnings\n",
    "warnings.filterwarnings(\"ignore\")\n",
    "\n",
    "import pandas as pd\n",
    "import numpy as np\n",
    "import torch\n",
    "\n",
    "from xopt import Xopt, Evaluator\n",
    "from xopt.generators.bayesian import MultiFidelityGenerator\n",
    "from xopt.resources.test_functions.tnk import evaluate_TNK, tnk_vocs\n",
    "\n",
    "evaluator = Evaluator(function=evaluate_TNK)\n",
    "print(tnk_vocs.dict())"
   ]
  },
  {
   "cell_type": "markdown",
   "metadata": {
    "collapsed": false
   },
   "source": [
    "## Set up the Multi-Fidelity Multi-objective optimization algorithm\n",
    "Here we create the Multi-Fidelity generator object which can solve both single and\n",
    "multi-objective optimization problems depending on the number of objectives in VOCS.\n",
    "We specify a cost function as a function of fidelity parameter $s=[0,1]$ as $C(s) =\n",
    "s^{3.5}$ as an example from a real life multi-fidelity simulation problem."
   ]
  },
  {
   "cell_type": "code",
   "execution_count": 2,
   "metadata": {
    "collapsed": false,
    "execution": {
     "iopub.execute_input": "2023-06-30T19:53:23.048238Z",
     "iopub.status.busy": "2023-06-30T19:53:23.047175Z",
     "iopub.status.idle": "2023-06-30T19:53:23.086778Z",
     "shell.execute_reply": "2023-06-30T19:53:23.085768Z"
    }
   },
   "outputs": [
    {
     "data": {
      "text/plain": [
       "\n",
       "            Xopt\n",
       "________________________________\n",
       "Version: 0+untagged.1.gaab7e5e\n",
       "Data size: 2\n",
       "Config as YAML:\n",
       "xopt: {asynch: false, strict: true, dump_file: null, max_evaluations: null}\n",
       "generator:\n",
       "  name: multi_fidelity\n",
       "  model: null\n",
       "  turbo_controller: null\n",
       "  use_cuda: false\n",
       "  model_constructor:\n",
       "    name: standard\n",
       "    use_low_noise_prior: true\n",
       "    covar_modules: {}\n",
       "    mean_modules: {}\n",
       "    trainable_mean_keys: []\n",
       "  numerical_optimizer: {name: LBFGS, n_raw_samples: 20, n_restarts: 20, max_iter: 2000}\n",
       "  max_travel_distances: null\n",
       "  n_monte_carlo_samples: 128\n",
       "  reference_point: {y1: 1.5, y2: 1.5, s: 0.0}\n",
       "  fidelity_parameter: s\n",
       "  cost_function: __main__.<lambda>\n",
       "evaluator:\n",
       "  function: xopt.resources.test_functions.tnk.evaluate_TNK\n",
       "  max_workers: 1\n",
       "  function_kwargs: {sleep: 0, random_sleep: 0, raise_probability: 0}\n",
       "  vectorized: false\n",
       "vocs:\n",
       "  variables:\n",
       "    x1: [0.0, 3.14159]\n",
       "    x2: [0.0, 3.14159]\n",
       "    s: [0, 1]\n",
       "  constraints: {}\n",
       "  objectives: {y1: MINIMIZE, y2: MINIMIZE, s: MAXIMIZE}\n",
       "  constants: {a: dummy_constant}\n",
       "  observables: []\n"
      ]
     },
     "execution_count": 2,
     "metadata": {},
     "output_type": "execute_result"
    }
   ],
   "source": [
    "from copy import deepcopy\n",
    "my_vocs = deepcopy(tnk_vocs)\n",
    "my_vocs.constraints = {}\n",
    "generator = MultiFidelityGenerator(vocs=my_vocs, reference_point = {\"y1\":1.5,\"y2\":1.5})\n",
    "\n",
    "# set cost function according to approximate scaling of laser plasma accelerator\n",
    "# problem, see https://journals.aps.org/prresearch/abstract/10.1103/PhysRevResearch.5.013063\n",
    "generator.cost_function = lambda s: s**3.5\n",
    "generator.numerical_optimizer.n_restarts = NUM_RESTARTS\n",
    "generator.n_monte_carlo_samples = N_MC_SAMPLES\n",
    "\n",
    "X = Xopt(generator=generator, evaluator=evaluator, vocs=my_vocs)\n",
    "\n",
    "# evaluate at some explicit initial points\n",
    "X.evaluate_data(pd.DataFrame({\"x1\":[1.0, 0.75],\"x2\":[0.75, 1.0],\"s\":[0.0,0.1]}))\n",
    "\n",
    "X"
   ]
  },
  {
   "cell_type": "markdown",
   "metadata": {
    "collapsed": false
   },
   "source": [
    "## Run optimization routine\n",
    "Instead of ending the optimization routine after an explict number of samples we end\n",
    "optimization once a given optimization budget has been exceeded. WARNING: This will\n",
    "slightly exceed the given budget"
   ]
  },
  {
   "cell_type": "code",
   "execution_count": 3,
   "metadata": {
    "collapsed": false,
    "execution": {
     "iopub.execute_input": "2023-06-30T19:53:23.092405Z",
     "iopub.status.busy": "2023-06-30T19:53:23.092013Z",
     "iopub.status.idle": "2023-06-30T19:55:28.373358Z",
     "shell.execute_reply": "2023-06-30T19:55:28.372605Z"
    }
   },
   "outputs": [
    {
     "name": "stdout",
     "output_type": "stream",
     "text": [
      "n_samples: 3 budget used: 0.007971 hypervolume: 0.0375\n",
      "n_samples: 4 budget used: 0.01794 hypervolume: 0.3956\n",
      "n_samples: 5 budget used: 0.02796 hypervolume: 0.604\n",
      "n_samples: 6 budget used: 0.05772 hypervolume: 0.8243\n",
      "n_samples: 7 budget used: 0.1204 hypervolume: 1.02\n",
      "n_samples: 8 budget used: 0.2644 hypervolume: 1.294\n",
      "n_samples: 9 budget used: 0.539 hypervolume: 1.555\n",
      "n_samples: 10 budget used: 1.071 hypervolume: 1.879\n",
      "n_samples: 11 budget used: 2.033 hypervolume: 2.195\n",
      "n_samples: 12 budget used: 2.043 hypervolume: 2.195\n",
      "n_samples: 13 budget used: 3.043 hypervolume: 2.25\n",
      "n_samples: 14 budget used: 4.043 hypervolume: 2.25\n",
      "n_samples: 15 budget used: 5.043 hypervolume: 2.25\n",
      "n_samples: 16 budget used: 6.043 hypervolume: 2.25\n",
      "n_samples: 17 budget used: 6.086 hypervolume: 2.25\n",
      "n_samples: 18 budget used: 7.086 hypervolume: 2.25\n",
      "n_samples: 19 budget used: 8.086 hypervolume: 2.25\n",
      "n_samples: 20 budget used: 8.163 hypervolume: 2.25\n",
      "n_samples: 21 budget used: 8.172 hypervolume: 2.25\n",
      "n_samples: 22 budget used: 9.123 hypervolume: 2.25\n",
      "n_samples: 23 budget used: 9.136 hypervolume: 2.25\n",
      "n_samples: 24 budget used: 9.192 hypervolume: 2.25\n",
      "n_samples: 25 budget used: 9.193 hypervolume: 2.25\n",
      "n_samples: 26 budget used: 9.91 hypervolume: 2.25\n",
      "n_samples: 27 budget used: 10.81 hypervolume: 2.25\n"
     ]
    }
   ],
   "source": [
    "budget = BUDGET\n",
    "while X.generator.calculate_total_cost() < budget:\n",
    "    X.step()\n",
    "    print(f\"n_samples: {len(X.data)} \"\n",
    "          f\"budget used: {X.generator.calculate_total_cost():.4} \"\n",
    "          f\"hypervolume: {X.generator.calculate_hypervolume():.4}\")"
   ]
  },
  {
   "cell_type": "markdown",
   "metadata": {
    "collapsed": false
   },
   "source": [
    "## Show results"
   ]
  },
  {
   "cell_type": "code",
   "execution_count": 4,
   "metadata": {
    "collapsed": false,
    "execution": {
     "iopub.execute_input": "2023-06-30T19:55:28.378673Z",
     "iopub.status.busy": "2023-06-30T19:55:28.377324Z",
     "iopub.status.idle": "2023-06-30T19:55:28.411698Z",
     "shell.execute_reply": "2023-06-30T19:55:28.410966Z"
    }
   },
   "outputs": [
    {
     "data": {
      "text/html": [
       "<div>\n",
       "<style scoped>\n",
       "    .dataframe tbody tr th:only-of-type {\n",
       "        vertical-align: middle;\n",
       "    }\n",
       "\n",
       "    .dataframe tbody tr th {\n",
       "        vertical-align: top;\n",
       "    }\n",
       "\n",
       "    .dataframe thead th {\n",
       "        text-align: right;\n",
       "    }\n",
       "</style>\n",
       "<table border=\"1\" class=\"dataframe\">\n",
       "  <thead>\n",
       "    <tr style=\"text-align: right;\">\n",
       "      <th></th>\n",
       "      <th>x1</th>\n",
       "      <th>x2</th>\n",
       "      <th>s</th>\n",
       "      <th>y1</th>\n",
       "      <th>y2</th>\n",
       "      <th>c1</th>\n",
       "      <th>c2</th>\n",
       "      <th>some_array</th>\n",
       "      <th>xopt_runtime</th>\n",
       "      <th>xopt_error</th>\n",
       "      <th>a</th>\n",
       "    </tr>\n",
       "  </thead>\n",
       "  <tbody>\n",
       "    <tr>\n",
       "      <th>1</th>\n",
       "      <td>1.000000</td>\n",
       "      <td>0.750000</td>\n",
       "      <td>0.000000</td>\n",
       "      <td>1.000000</td>\n",
       "      <td>0.750000</td>\n",
       "      <td>0.626888</td>\n",
       "      <td>0.312500</td>\n",
       "      <td>[1, 2, 3]</td>\n",
       "      <td>0.000064</td>\n",
       "      <td>False</td>\n",
       "      <td>NaN</td>\n",
       "    </tr>\n",
       "    <tr>\n",
       "      <th>2</th>\n",
       "      <td>0.750000</td>\n",
       "      <td>1.000000</td>\n",
       "      <td>0.100000</td>\n",
       "      <td>0.750000</td>\n",
       "      <td>1.000000</td>\n",
       "      <td>0.626888</td>\n",
       "      <td>0.312500</td>\n",
       "      <td>[1, 2, 3]</td>\n",
       "      <td>0.000014</td>\n",
       "      <td>False</td>\n",
       "      <td>NaN</td>\n",
       "    </tr>\n",
       "    <tr>\n",
       "      <th>3</th>\n",
       "      <td>0.537677</td>\n",
       "      <td>1.926290</td>\n",
       "      <td>0.248548</td>\n",
       "      <td>0.537677</td>\n",
       "      <td>1.926290</td>\n",
       "      <td>3.034658</td>\n",
       "      <td>2.035723</td>\n",
       "      <td>[1, 2, 3]</td>\n",
       "      <td>0.000053</td>\n",
       "      <td>False</td>\n",
       "      <td>dummy_constant</td>\n",
       "    </tr>\n",
       "    <tr>\n",
       "      <th>4</th>\n",
       "      <td>0.364557</td>\n",
       "      <td>0.200100</td>\n",
       "      <td>0.268030</td>\n",
       "      <td>0.364557</td>\n",
       "      <td>0.200100</td>\n",
       "      <td>-0.809371</td>\n",
       "      <td>0.108285</td>\n",
       "      <td>[1, 2, 3]</td>\n",
       "      <td>0.000082</td>\n",
       "      <td>False</td>\n",
       "      <td>dummy_constant</td>\n",
       "    </tr>\n",
       "    <tr>\n",
       "      <th>5</th>\n",
       "      <td>0.000000</td>\n",
       "      <td>0.000000</td>\n",
       "      <td>0.268428</td>\n",
       "      <td>0.000000</td>\n",
       "      <td>0.000000</td>\n",
       "      <td>-1.100000</td>\n",
       "      <td>0.500000</td>\n",
       "      <td>[1, 2, 3]</td>\n",
       "      <td>0.000045</td>\n",
       "      <td>False</td>\n",
       "      <td>dummy_constant</td>\n",
       "    </tr>\n",
       "    <tr>\n",
       "      <th>6</th>\n",
       "      <td>0.000000</td>\n",
       "      <td>0.000000</td>\n",
       "      <td>0.366342</td>\n",
       "      <td>0.000000</td>\n",
       "      <td>0.000000</td>\n",
       "      <td>-1.100000</td>\n",
       "      <td>0.500000</td>\n",
       "      <td>[1, 2, 3]</td>\n",
       "      <td>0.000047</td>\n",
       "      <td>False</td>\n",
       "      <td>dummy_constant</td>\n",
       "    </tr>\n",
       "    <tr>\n",
       "      <th>7</th>\n",
       "      <td>0.000000</td>\n",
       "      <td>0.000000</td>\n",
       "      <td>0.453170</td>\n",
       "      <td>0.000000</td>\n",
       "      <td>0.000000</td>\n",
       "      <td>-1.100000</td>\n",
       "      <td>0.500000</td>\n",
       "      <td>[1, 2, 3]</td>\n",
       "      <td>0.000044</td>\n",
       "      <td>False</td>\n",
       "      <td>dummy_constant</td>\n",
       "    </tr>\n",
       "    <tr>\n",
       "      <th>8</th>\n",
       "      <td>0.000000</td>\n",
       "      <td>0.000000</td>\n",
       "      <td>0.574913</td>\n",
       "      <td>0.000000</td>\n",
       "      <td>0.000000</td>\n",
       "      <td>-1.100000</td>\n",
       "      <td>0.500000</td>\n",
       "      <td>[1, 2, 3]</td>\n",
       "      <td>0.000046</td>\n",
       "      <td>False</td>\n",
       "      <td>dummy_constant</td>\n",
       "    </tr>\n",
       "    <tr>\n",
       "      <th>9</th>\n",
       "      <td>0.000000</td>\n",
       "      <td>0.000000</td>\n",
       "      <td>0.691214</td>\n",
       "      <td>0.000000</td>\n",
       "      <td>0.000000</td>\n",
       "      <td>-1.100000</td>\n",
       "      <td>0.500000</td>\n",
       "      <td>[1, 2, 3]</td>\n",
       "      <td>0.000046</td>\n",
       "      <td>False</td>\n",
       "      <td>dummy_constant</td>\n",
       "    </tr>\n",
       "    <tr>\n",
       "      <th>10</th>\n",
       "      <td>0.000000</td>\n",
       "      <td>0.000000</td>\n",
       "      <td>0.835015</td>\n",
       "      <td>0.000000</td>\n",
       "      <td>0.000000</td>\n",
       "      <td>-1.100000</td>\n",
       "      <td>0.500000</td>\n",
       "      <td>[1, 2, 3]</td>\n",
       "      <td>0.000047</td>\n",
       "      <td>False</td>\n",
       "      <td>dummy_constant</td>\n",
       "    </tr>\n",
       "    <tr>\n",
       "      <th>11</th>\n",
       "      <td>0.000000</td>\n",
       "      <td>0.129260</td>\n",
       "      <td>0.988954</td>\n",
       "      <td>0.000000</td>\n",
       "      <td>0.129260</td>\n",
       "      <td>-1.083292</td>\n",
       "      <td>0.387448</td>\n",
       "      <td>[1, 2, 3]</td>\n",
       "      <td>0.000044</td>\n",
       "      <td>False</td>\n",
       "      <td>dummy_constant</td>\n",
       "    </tr>\n",
       "    <tr>\n",
       "      <th>12</th>\n",
       "      <td>3.141590</td>\n",
       "      <td>0.000000</td>\n",
       "      <td>0.272479</td>\n",
       "      <td>3.141590</td>\n",
       "      <td>0.000000</td>\n",
       "      <td>8.769588</td>\n",
       "      <td>7.227998</td>\n",
       "      <td>[1, 2, 3]</td>\n",
       "      <td>0.000048</td>\n",
       "      <td>False</td>\n",
       "      <td>dummy_constant</td>\n",
       "    </tr>\n",
       "    <tr>\n",
       "      <th>13</th>\n",
       "      <td>0.000000</td>\n",
       "      <td>0.000000</td>\n",
       "      <td>1.000000</td>\n",
       "      <td>0.000000</td>\n",
       "      <td>0.000000</td>\n",
       "      <td>-1.100000</td>\n",
       "      <td>0.500000</td>\n",
       "      <td>[1, 2, 3]</td>\n",
       "      <td>0.000045</td>\n",
       "      <td>False</td>\n",
       "      <td>dummy_constant</td>\n",
       "    </tr>\n",
       "    <tr>\n",
       "      <th>14</th>\n",
       "      <td>0.546682</td>\n",
       "      <td>0.000000</td>\n",
       "      <td>1.000000</td>\n",
       "      <td>0.546682</td>\n",
       "      <td>0.000000</td>\n",
       "      <td>-0.801139</td>\n",
       "      <td>0.252179</td>\n",
       "      <td>[1, 2, 3]</td>\n",
       "      <td>0.000077</td>\n",
       "      <td>False</td>\n",
       "      <td>dummy_constant</td>\n",
       "    </tr>\n",
       "    <tr>\n",
       "      <th>15</th>\n",
       "      <td>0.000000</td>\n",
       "      <td>0.820417</td>\n",
       "      <td>1.000000</td>\n",
       "      <td>0.000000</td>\n",
       "      <td>0.820417</td>\n",
       "      <td>-0.426916</td>\n",
       "      <td>0.352667</td>\n",
       "      <td>[1, 2, 3]</td>\n",
       "      <td>0.000044</td>\n",
       "      <td>False</td>\n",
       "      <td>dummy_constant</td>\n",
       "    </tr>\n",
       "    <tr>\n",
       "      <th>16</th>\n",
       "      <td>0.283888</td>\n",
       "      <td>0.357424</td>\n",
       "      <td>1.000000</td>\n",
       "      <td>0.283888</td>\n",
       "      <td>0.357424</td>\n",
       "      <td>-0.766348</td>\n",
       "      <td>0.067032</td>\n",
       "      <td>[1, 2, 3]</td>\n",
       "      <td>0.000044</td>\n",
       "      <td>False</td>\n",
       "      <td>dummy_constant</td>\n",
       "    </tr>\n",
       "    <tr>\n",
       "      <th>17</th>\n",
       "      <td>0.000000</td>\n",
       "      <td>0.611964</td>\n",
       "      <td>0.404611</td>\n",
       "      <td>0.000000</td>\n",
       "      <td>0.611964</td>\n",
       "      <td>-0.725500</td>\n",
       "      <td>0.262536</td>\n",
       "      <td>[1, 2, 3]</td>\n",
       "      <td>0.000046</td>\n",
       "      <td>False</td>\n",
       "      <td>dummy_constant</td>\n",
       "    </tr>\n",
       "    <tr>\n",
       "      <th>18</th>\n",
       "      <td>1.063318</td>\n",
       "      <td>0.000000</td>\n",
       "      <td>1.000000</td>\n",
       "      <td>1.063318</td>\n",
       "      <td>0.000000</td>\n",
       "      <td>0.030645</td>\n",
       "      <td>0.567327</td>\n",
       "      <td>[1, 2, 3]</td>\n",
       "      <td>0.000124</td>\n",
       "      <td>False</td>\n",
       "      <td>dummy_constant</td>\n",
       "    </tr>\n",
       "    <tr>\n",
       "      <th>19</th>\n",
       "      <td>0.000000</td>\n",
       "      <td>3.141590</td>\n",
       "      <td>1.000000</td>\n",
       "      <td>0.000000</td>\n",
       "      <td>3.141590</td>\n",
       "      <td>8.769588</td>\n",
       "      <td>7.227998</td>\n",
       "      <td>[1, 2, 3]</td>\n",
       "      <td>0.000050</td>\n",
       "      <td>False</td>\n",
       "      <td>dummy_constant</td>\n",
       "    </tr>\n",
       "    <tr>\n",
       "      <th>20</th>\n",
       "      <td>1.637183</td>\n",
       "      <td>2.242817</td>\n",
       "      <td>0.481024</td>\n",
       "      <td>1.637183</td>\n",
       "      <td>2.242817</td>\n",
       "      <td>6.789344</td>\n",
       "      <td>4.330598</td>\n",
       "      <td>[1, 2, 3]</td>\n",
       "      <td>0.000058</td>\n",
       "      <td>False</td>\n",
       "      <td>dummy_constant</td>\n",
       "    </tr>\n",
       "    <tr>\n",
       "      <th>21</th>\n",
       "      <td>2.578200</td>\n",
       "      <td>1.831228</td>\n",
       "      <td>0.259505</td>\n",
       "      <td>2.578200</td>\n",
       "      <td>1.831228</td>\n",
       "      <td>9.090267</td>\n",
       "      <td>6.091084</td>\n",
       "      <td>[1, 2, 3]</td>\n",
       "      <td>0.000043</td>\n",
       "      <td>False</td>\n",
       "      <td>dummy_constant</td>\n",
       "    </tr>\n",
       "    <tr>\n",
       "      <th>22</th>\n",
       "      <td>0.790571</td>\n",
       "      <td>0.339679</td>\n",
       "      <td>0.985934</td>\n",
       "      <td>0.790571</td>\n",
       "      <td>0.339679</td>\n",
       "      <td>-0.357422</td>\n",
       "      <td>0.110135</td>\n",
       "      <td>[1, 2, 3]</td>\n",
       "      <td>0.000042</td>\n",
       "      <td>False</td>\n",
       "      <td>dummy_constant</td>\n",
       "    </tr>\n",
       "    <tr>\n",
       "      <th>23</th>\n",
       "      <td>2.085895</td>\n",
       "      <td>2.670736</td>\n",
       "      <td>0.286406</td>\n",
       "      <td>2.085895</td>\n",
       "      <td>2.670736</td>\n",
       "      <td>10.521495</td>\n",
       "      <td>7.227158</td>\n",
       "      <td>[1, 2, 3]</td>\n",
       "      <td>0.000043</td>\n",
       "      <td>False</td>\n",
       "      <td>dummy_constant</td>\n",
       "    </tr>\n",
       "    <tr>\n",
       "      <th>24</th>\n",
       "      <td>2.119699</td>\n",
       "      <td>0.917944</td>\n",
       "      <td>0.440004</td>\n",
       "      <td>2.119699</td>\n",
       "      <td>0.917944</td>\n",
       "      <td>4.238991</td>\n",
       "      <td>2.798101</td>\n",
       "      <td>[1, 2, 3]</td>\n",
       "      <td>0.000044</td>\n",
       "      <td>False</td>\n",
       "      <td>dummy_constant</td>\n",
       "    </tr>\n",
       "    <tr>\n",
       "      <th>25</th>\n",
       "      <td>0.303764</td>\n",
       "      <td>0.655944</td>\n",
       "      <td>0.100507</td>\n",
       "      <td>0.303764</td>\n",
       "      <td>0.655944</td>\n",
       "      <td>-0.556718</td>\n",
       "      <td>0.062827</td>\n",
       "      <td>[1, 2, 3]</td>\n",
       "      <td>0.000044</td>\n",
       "      <td>False</td>\n",
       "      <td>dummy_constant</td>\n",
       "    </tr>\n",
       "    <tr>\n",
       "      <th>26</th>\n",
       "      <td>2.062920</td>\n",
       "      <td>1.799727</td>\n",
       "      <td>0.909269</td>\n",
       "      <td>2.062920</td>\n",
       "      <td>1.799727</td>\n",
       "      <td>6.448278</td>\n",
       "      <td>4.132010</td>\n",
       "      <td>[1, 2, 3]</td>\n",
       "      <td>0.000041</td>\n",
       "      <td>False</td>\n",
       "      <td>dummy_constant</td>\n",
       "    </tr>\n",
       "    <tr>\n",
       "      <th>27</th>\n",
       "      <td>2.396389</td>\n",
       "      <td>0.782916</td>\n",
       "      <td>0.970282</td>\n",
       "      <td>2.396389</td>\n",
       "      <td>0.782916</td>\n",
       "      <td>5.322288</td>\n",
       "      <td>3.676332</td>\n",
       "      <td>[1, 2, 3]</td>\n",
       "      <td>0.000042</td>\n",
       "      <td>False</td>\n",
       "      <td>dummy_constant</td>\n",
       "    </tr>\n",
       "  </tbody>\n",
       "</table>\n",
       "</div>"
      ],
      "text/plain": [
       "          x1        x2         s        y1        y2         c1        c2  \\\n",
       "1   1.000000  0.750000  0.000000  1.000000  0.750000   0.626888  0.312500   \n",
       "2   0.750000  1.000000  0.100000  0.750000  1.000000   0.626888  0.312500   \n",
       "3   0.537677  1.926290  0.248548  0.537677  1.926290   3.034658  2.035723   \n",
       "4   0.364557  0.200100  0.268030  0.364557  0.200100  -0.809371  0.108285   \n",
       "5   0.000000  0.000000  0.268428  0.000000  0.000000  -1.100000  0.500000   \n",
       "6   0.000000  0.000000  0.366342  0.000000  0.000000  -1.100000  0.500000   \n",
       "7   0.000000  0.000000  0.453170  0.000000  0.000000  -1.100000  0.500000   \n",
       "8   0.000000  0.000000  0.574913  0.000000  0.000000  -1.100000  0.500000   \n",
       "9   0.000000  0.000000  0.691214  0.000000  0.000000  -1.100000  0.500000   \n",
       "10  0.000000  0.000000  0.835015  0.000000  0.000000  -1.100000  0.500000   \n",
       "11  0.000000  0.129260  0.988954  0.000000  0.129260  -1.083292  0.387448   \n",
       "12  3.141590  0.000000  0.272479  3.141590  0.000000   8.769588  7.227998   \n",
       "13  0.000000  0.000000  1.000000  0.000000  0.000000  -1.100000  0.500000   \n",
       "14  0.546682  0.000000  1.000000  0.546682  0.000000  -0.801139  0.252179   \n",
       "15  0.000000  0.820417  1.000000  0.000000  0.820417  -0.426916  0.352667   \n",
       "16  0.283888  0.357424  1.000000  0.283888  0.357424  -0.766348  0.067032   \n",
       "17  0.000000  0.611964  0.404611  0.000000  0.611964  -0.725500  0.262536   \n",
       "18  1.063318  0.000000  1.000000  1.063318  0.000000   0.030645  0.567327   \n",
       "19  0.000000  3.141590  1.000000  0.000000  3.141590   8.769588  7.227998   \n",
       "20  1.637183  2.242817  0.481024  1.637183  2.242817   6.789344  4.330598   \n",
       "21  2.578200  1.831228  0.259505  2.578200  1.831228   9.090267  6.091084   \n",
       "22  0.790571  0.339679  0.985934  0.790571  0.339679  -0.357422  0.110135   \n",
       "23  2.085895  2.670736  0.286406  2.085895  2.670736  10.521495  7.227158   \n",
       "24  2.119699  0.917944  0.440004  2.119699  0.917944   4.238991  2.798101   \n",
       "25  0.303764  0.655944  0.100507  0.303764  0.655944  -0.556718  0.062827   \n",
       "26  2.062920  1.799727  0.909269  2.062920  1.799727   6.448278  4.132010   \n",
       "27  2.396389  0.782916  0.970282  2.396389  0.782916   5.322288  3.676332   \n",
       "\n",
       "   some_array  xopt_runtime  xopt_error               a  \n",
       "1   [1, 2, 3]      0.000064       False             NaN  \n",
       "2   [1, 2, 3]      0.000014       False             NaN  \n",
       "3   [1, 2, 3]      0.000053       False  dummy_constant  \n",
       "4   [1, 2, 3]      0.000082       False  dummy_constant  \n",
       "5   [1, 2, 3]      0.000045       False  dummy_constant  \n",
       "6   [1, 2, 3]      0.000047       False  dummy_constant  \n",
       "7   [1, 2, 3]      0.000044       False  dummy_constant  \n",
       "8   [1, 2, 3]      0.000046       False  dummy_constant  \n",
       "9   [1, 2, 3]      0.000046       False  dummy_constant  \n",
       "10  [1, 2, 3]      0.000047       False  dummy_constant  \n",
       "11  [1, 2, 3]      0.000044       False  dummy_constant  \n",
       "12  [1, 2, 3]      0.000048       False  dummy_constant  \n",
       "13  [1, 2, 3]      0.000045       False  dummy_constant  \n",
       "14  [1, 2, 3]      0.000077       False  dummy_constant  \n",
       "15  [1, 2, 3]      0.000044       False  dummy_constant  \n",
       "16  [1, 2, 3]      0.000044       False  dummy_constant  \n",
       "17  [1, 2, 3]      0.000046       False  dummy_constant  \n",
       "18  [1, 2, 3]      0.000124       False  dummy_constant  \n",
       "19  [1, 2, 3]      0.000050       False  dummy_constant  \n",
       "20  [1, 2, 3]      0.000058       False  dummy_constant  \n",
       "21  [1, 2, 3]      0.000043       False  dummy_constant  \n",
       "22  [1, 2, 3]      0.000042       False  dummy_constant  \n",
       "23  [1, 2, 3]      0.000043       False  dummy_constant  \n",
       "24  [1, 2, 3]      0.000044       False  dummy_constant  \n",
       "25  [1, 2, 3]      0.000044       False  dummy_constant  \n",
       "26  [1, 2, 3]      0.000041       False  dummy_constant  \n",
       "27  [1, 2, 3]      0.000042       False  dummy_constant  "
      ]
     },
     "execution_count": 4,
     "metadata": {},
     "output_type": "execute_result"
    }
   ],
   "source": [
    "X.data"
   ]
  },
  {
   "cell_type": "markdown",
   "metadata": {
    "collapsed": false
   },
   "source": [
    "## Plot results\n",
    "Here we plot the resulting observations in input space, colored by feasibility\n",
    "(neglecting the fact that\n",
    "these data points are at varying fidelities).\n"
   ]
  },
  {
   "cell_type": "code",
   "execution_count": 5,
   "metadata": {
    "collapsed": false,
    "execution": {
     "iopub.execute_input": "2023-06-30T19:55:28.417179Z",
     "iopub.status.busy": "2023-06-30T19:55:28.415850Z",
     "iopub.status.idle": "2023-06-30T19:55:29.266209Z",
     "shell.execute_reply": "2023-06-30T19:55:29.265240Z"
    }
   },
   "outputs": [
    {
     "data": {
      "image/png": "[encoded data removed]",
      "text/plain": [
       "<Figure size 640x480 with 1 Axes>"
      ]
     },
     "metadata": {},
     "output_type": "display_data"
    }
   ],
   "source": [
    "import matplotlib.pyplot as plt\n",
    "\n",
    "fig, ax = plt.subplots()\n",
    "\n",
    "theta = np.linspace(0, np.pi / 2)\n",
    "r = np.sqrt(1 + 0.1 * np.cos(16 * theta))\n",
    "x_1 = r * np.sin(theta)\n",
    "x_2_lower = r * np.cos(theta)\n",
    "x_2_upper = (0.5 - (x_1 - 0.5) ** 2) ** 0.5 + 0.5\n",
    "\n",
    "z = np.zeros_like(x_1)\n",
    "\n",
    "# ax2.plot(x_1, x_2_lower,'r')\n",
    "ax.fill_between(x_1, z, x_2_lower, fc=\"white\")\n",
    "circle = plt.Circle(\n",
    "    (0.5, 0.5), 0.5 ** 0.5, color=\"r\", alpha=0.25, zorder=0, label=\"Valid Region\"\n",
    ")\n",
    "ax.add_patch(circle)\n",
    "history = pd.concat(\n",
    "    [X.data, tnk_vocs.feasibility_data(X.data)], axis=1, ignore_index=False\n",
    ")\n",
    "\n",
    "ax.plot(*history[[\"x1\", \"x2\"]][history[\"feasible\"]].to_numpy().T, \".C1\")\n",
    "ax.plot(*history[[\"x1\", \"x2\"]][~history[\"feasible\"]].to_numpy().T, \".C2\")\n",
    "\n",
    "ax.set_xlim(0, 3.14)\n",
    "ax.set_ylim(0, 3.14)\n",
    "ax.set_xlabel(\"x1\")\n",
    "ax.set_ylabel(\"x2\")\n",
    "ax.set_aspect(\"equal\")"
   ]
  },
  {
   "cell_type": "markdown",
   "metadata": {
    "collapsed": false
   },
   "source": [
    "### Plot path through input space"
   ]
  },
  {
   "cell_type": "code",
   "execution_count": 6,
   "metadata": {
    "collapsed": false,
    "execution": {
     "iopub.execute_input": "2023-06-30T19:55:29.270224Z",
     "iopub.status.busy": "2023-06-30T19:55:29.269824Z",
     "iopub.status.idle": "2023-06-30T19:55:30.142071Z",
     "shell.execute_reply": "2023-06-30T19:55:30.141055Z"
    }
   },
   "outputs": [
    {
     "data": {
      "image/png": "[encoded data removed]",
      "text/plain": [
       "<Figure size 640x480 with 4 Axes>"
      ]
     },
     "metadata": {},
     "output_type": "display_data"
    }
   ],
   "source": [
    "ax = history.hist([\"x1\", \"x2\", \"s\"],bins=20)"
   ]
  },
  {
   "cell_type": "code",
   "execution_count": 7,
   "metadata": {
    "collapsed": false,
    "execution": {
     "iopub.execute_input": "2023-06-30T19:55:30.145766Z",
     "iopub.status.busy": "2023-06-30T19:55:30.145239Z",
     "iopub.status.idle": "2023-06-30T19:55:30.442152Z",
     "shell.execute_reply": "2023-06-30T19:55:30.441184Z"
    }
   },
   "outputs": [
    {
     "data": {
      "text/plain": [
       "<Axes: >"
      ]
     },
     "execution_count": 7,
     "metadata": {},
     "output_type": "execute_result"
    },
    {
     "data": {
      "image/png": "[encoded data removed]",
      "text/plain": [
       "<Figure size 640x480 with 1 Axes>"
      ]
     },
     "metadata": {},
     "output_type": "display_data"
    }
   ],
   "source": [
    "history.plot(y=[\"x1\", \"x2\", \"s\"])"
   ]
  },
  {
   "cell_type": "markdown",
   "metadata": {
    "collapsed": false
   },
   "source": [
    "## Plot the acqusisition function\n",
    "Here we plot the acquisition function at a small set of fidelities $[0, 0.5, 1.0]$."
   ]
  },
  {
   "cell_type": "code",
   "execution_count": 8,
   "metadata": {
    "collapsed": false,
    "execution": {
     "iopub.execute_input": "2023-06-30T19:55:30.446249Z",
     "iopub.status.busy": "2023-06-30T19:55:30.445953Z",
     "iopub.status.idle": "2023-06-30T19:55:54.734114Z",
     "shell.execute_reply": "2023-06-30T19:55:54.733242Z"
    }
   },
   "outputs": [
    {
     "name": "stdout",
     "output_type": "stream",
     "text": [
      "[[0.71440231 0.64101589]]\n"
     ]
    },
    {
     "data": {
      "text/plain": [
       "[<matplotlib.lines.Line2D at 0x7f95395a5a30>]"
      ]
     },
     "execution_count": 8,
     "metadata": {},
     "output_type": "execute_result"
    },
    {
     "data": {
      "image/png": "[encoded data removed]",
      "text/plain": [
       "<Figure size 640x480 with 2 Axes>"
      ]
     },
     "metadata": {},
     "output_type": "display_data"
    },
    {
     "data": {
      "image/png": "[encoded data removed]",
      "text/plain": [
       "<Figure size 640x480 with 2 Axes>"
      ]
     },
     "metadata": {},
     "output_type": "display_data"
    },
    {
     "data": {
      "image/png": "[encoded data removed]",
      "text/plain": [
       "<Figure size 640x480 with 2 Axes>"
      ]
     },
     "metadata": {},
     "output_type": "display_data"
    }
   ],
   "source": [
    "# plot the acquisition function\n",
    "from xopt.generators.bayesian.objectives import feasibility\n",
    "\n",
    "bounds = generator.vocs.bounds\n",
    "model = generator.model\n",
    "\n",
    "# create mesh over non-fidelity parameters\n",
    "n = 100\n",
    "x = torch.linspace(*bounds.T[1], n)\n",
    "y = torch.linspace(*bounds.T[2], n)\n",
    "xx, yy = torch.meshgrid(x, y)\n",
    "\n",
    "# plot function(s) at a single fidelity parameter\n",
    "fidelities = [0.0, 0.5, 1.0]\n",
    "for fidelity in fidelities:\n",
    "    pts = torch.hstack([ele.reshape(-1, 1) for ele in (xx, yy)]).double()\n",
    "    pts = torch.cat((torch.ones(pts.shape[0],1)*fidelity, pts), dim=-1)\n",
    "\n",
    "    acq_func = generator.get_acquisition(model)\n",
    "    with torch.no_grad():\n",
    "        acq_pts = pts.unsqueeze(1)\n",
    "        acq = acq_func(acq_pts)\n",
    "\n",
    "        fig, ax = plt.subplots()\n",
    "        c = ax.pcolor(xx, yy, acq.reshape(n, n), cmap=\"Blues\")\n",
    "        fig.colorbar(c)\n",
    "        ax.set_title(f\"Acquisition function - s: {fidelity}\")\n",
    "\n",
    "        ax.plot(*history[[\"x1\", \"x2\"]][history[\"feasible\"]].to_numpy().T, \".C1\")\n",
    "        ax.plot(*history[[\"x1\", \"x2\"]][~history[\"feasible\"]].to_numpy().T, \".C2\")\n",
    "\n",
    "        ax.plot(*history[[\"x1\", \"x2\"]].to_numpy()[-1].T, \"+\")\n",
    "\n",
    "\n",
    "candidate = generator.generate(1)\n",
    "print(candidate[[\"x1\", \"x2\"]].to_numpy())\n",
    "ax.plot(*candidate[[\"x1\", \"x2\"]].to_numpy()[0], \"o\")"
   ]
  },
  {
   "cell_type": "code",
   "execution_count": 9,
   "metadata": {
    "collapsed": false,
    "execution": {
     "iopub.execute_input": "2023-06-30T19:55:54.738095Z",
     "iopub.status.busy": "2023-06-30T19:55:54.737587Z",
     "iopub.status.idle": "2023-06-30T19:55:54.749331Z",
     "shell.execute_reply": "2023-06-30T19:55:54.748407Z"
    }
   },
   "outputs": [
    {
     "data": {
      "text/plain": [
       "[('likelihood.noise_covar.raw_noise',\n",
       "  Parameter containing:\n",
       "  tensor([-24.0188], dtype=torch.float64, requires_grad=True)),\n",
       " ('mean_module.raw_constant',\n",
       "  Parameter containing:\n",
       "  tensor(-0.0605, dtype=torch.float64, requires_grad=True)),\n",
       " ('covar_module.raw_outputscale',\n",
       "  Parameter containing:\n",
       "  tensor(-0.1748, dtype=torch.float64, requires_grad=True)),\n",
       " ('covar_module.base_kernel.raw_lengthscale',\n",
       "  Parameter containing:\n",
       "  tensor([[0.4360, 1.6634, 1.8528]], dtype=torch.float64, requires_grad=True))]"
      ]
     },
     "execution_count": 9,
     "metadata": {},
     "output_type": "execute_result"
    }
   ],
   "source": [
    "# examine lengthscale of the first objective\n",
    "list(model.models[0].named_parameters())"
   ]
  },
  {
   "cell_type": "code",
   "execution_count": 10,
   "metadata": {
    "collapsed": false,
    "execution": {
     "iopub.execute_input": "2023-06-30T19:55:54.753130Z",
     "iopub.status.busy": "2023-06-30T19:55:54.752856Z",
     "iopub.status.idle": "2023-06-30T19:55:54.795378Z",
     "shell.execute_reply": "2023-06-30T19:55:54.794463Z"
    }
   },
   "outputs": [],
   "source": [
    "# dump results to file\n",
    "X.options.dump_file = \"results.yaml\"\n",
    "X.dump_state()"
   ]
  },
  {
   "cell_type": "code",
   "execution_count": 10,
   "metadata": {
    "collapsed": false
   },
   "outputs": [],
   "source": []
  }
 ],
 "metadata": {
  "interpreter": {
   "hash": "72034539424920dfb606fe3b820b3f27dca0cbf1c69938110810ec4641e275b1"
  },
  "kernelspec": {
   "display_name": "Python 3 (ipykernel)",
   "language": "python",
   "name": "python3"
  },
  "language_info": {
   "codemirror_mode": {
    "name": "ipython",
    "version": 3
   },
   "file_extension": ".py",
   "mimetype": "text/x-python",
   "name": "python",
   "nbconvert_exporter": "python",
   "pygments_lexer": "ipython3",
   "version": "3.9.16"
  }
 },
 "nbformat": 4,
 "nbformat_minor": 4
}
