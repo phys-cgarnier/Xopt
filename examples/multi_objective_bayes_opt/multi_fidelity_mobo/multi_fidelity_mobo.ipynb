{
 "cells": [
  {
   "cell_type": "markdown",
   "metadata": {},
   "source": [
    "# Multi-fidelity Multi-objective Bayesian Optimization\n",
    "\n",
    "Here we attempt to solve for the constrained Pareto front of the TNK multi-objective\n",
    "optimization problem using Multi-Fidelity Multi-Objective Bayesian optimization. For\n",
    "simplicity we assume that the objective and constraint functions at lower fidelities is\n",
    "exactly equal to the functions at higher fidelities (this is obviously not a\n",
    "requirement, although for the best results lower fidelity calculations should\n",
    "correlate with higher fidelity ones). The algorithm should learn this relationship\n",
    "and use information gathered at lower fidelities to gather samples to improve the\n",
    "hypervolume of the Pareto front at the maximum fidelity.\n",
    "\n",
    "TNK function\n",
    "$n=2$ variables:\n",
    "$x_i \\in [0, \\pi], i=1,2$\n",
    "\n",
    "Objectives:\n",
    "- $f_i(x) = x_i$\n",
    "\n",
    "Constraints:\n",
    "- $g_1(x) = -x_1^2 -x_2^2 + 1 + 0.1 \\cos\\left(16 \\arctan \\frac{x_1}{x_2}\\right) \\le 0$\n",
    "- $g_2(x) = (x_1 - 1/2)^2 + (x_2-1/2)^2 \\le 0.5$"
   ]
  },
  {
   "cell_type": "code",
   "execution_count": 1,
   "metadata": {
    "collapsed": false,
    "execution": {
     "iopub.execute_input": "2023-07-13T19:14:02.587477Z",
     "iopub.status.busy": "2023-07-13T19:14:02.587026Z",
     "iopub.status.idle": "2023-07-13T19:14:04.931292Z",
     "shell.execute_reply": "2023-07-13T19:14:04.930002Z"
    }
   },
   "outputs": [
    {
     "name": "stdout",
     "output_type": "stream",
     "text": [
      "{'variables': {'x1': [0.0, 3.14159], 'x2': [0.0, 3.14159]}, 'constraints': {'c1': ['GREATER_THAN', 0.0], 'c2': ['LESS_THAN', 0.5]}, 'objectives': {'y1': 'MINIMIZE', 'y2': 'MINIMIZE'}, 'constants': {'a': 'dummy_constant'}, 'observables': []}\n"
     ]
    }
   ],
   "source": [
    "# set values if testing\n",
    "import os\n",
    "SMOKE_TEST = os.environ.get(\"SMOKE_TEST\")\n",
    "N_MC_SAMPLES = 1 if SMOKE_TEST else 128\n",
    "NUM_RESTARTS = 1 if SMOKE_TEST else 20\n",
    "BUDGET = 0.02 if SMOKE_TEST else 10\n",
    "\n",
    "# Ignore all warnings\n",
    "import warnings\n",
    "warnings.filterwarnings(\"ignore\")\n",
    "\n",
    "import pandas as pd\n",
    "import numpy as np\n",
    "import torch\n",
    "\n",
    "from xopt import Xopt, Evaluator\n",
    "from xopt.generators.bayesian import MultiFidelityGenerator\n",
    "from xopt.resources.test_functions.tnk import evaluate_TNK, tnk_vocs\n",
    "\n",
    "evaluator = Evaluator(function=evaluate_TNK)\n",
    "print(tnk_vocs.dict())"
   ]
  },
  {
   "cell_type": "markdown",
   "metadata": {
    "collapsed": false
   },
   "source": [
    "## Set up the Multi-Fidelity Multi-objective optimization algorithm\n",
    "Here we create the Multi-Fidelity generator object which can solve both single and\n",
    "multi-objective optimization problems depending on the number of objectives in VOCS.\n",
    "We specify a cost function as a function of fidelity parameter $s=[0,1]$ as $C(s) =\n",
    "s^{3.5}$ as an example from a real life multi-fidelity simulation problem."
   ]
  },
  {
   "cell_type": "code",
   "execution_count": 2,
   "metadata": {
    "collapsed": false,
    "execution": {
     "iopub.execute_input": "2023-07-13T19:14:04.977106Z",
     "iopub.status.busy": "2023-07-13T19:14:04.975780Z",
     "iopub.status.idle": "2023-07-13T19:14:05.003660Z",
     "shell.execute_reply": "2023-07-13T19:14:05.002751Z"
    }
   },
   "outputs": [
    {
     "data": {
      "text/plain": [
       "\n",
       "            Xopt\n",
       "________________________________\n",
       "Version: 0+untagged.1.ga416c11\n",
       "Data size: 2\n",
       "Config as YAML:\n",
       "xopt: {asynch: false, strict: true, dump_file: null, max_evaluations: null}\n",
       "generator:\n",
       "  name: multi_fidelity\n",
       "  model: null\n",
       "  turbo_controller: null\n",
       "  use_cuda: false\n",
       "  model_constructor:\n",
       "    name: standard\n",
       "    use_low_noise_prior: true\n",
       "    covar_modules: {}\n",
       "    mean_modules: {}\n",
       "    trainable_mean_keys: []\n",
       "  numerical_optimizer: {name: LBFGS, n_raw_samples: 20, n_restarts: 20, max_iter: 2000}\n",
       "  max_travel_distances: null\n",
       "  n_monte_carlo_samples: 128\n",
       "  reference_point: {y1: 1.5, y2: 1.5, s: 0.0}\n",
       "  fidelity_parameter: s\n",
       "  cost_function: __main__.<lambda>\n",
       "evaluator:\n",
       "  function: xopt.resources.test_functions.tnk.evaluate_TNK\n",
       "  max_workers: 1\n",
       "  function_kwargs: {sleep: 0, random_sleep: 0, raise_probability: 0}\n",
       "  vectorized: false\n",
       "vocs:\n",
       "  variables:\n",
       "    x1: [0.0, 3.14159]\n",
       "    x2: [0.0, 3.14159]\n",
       "    s: [0, 1]\n",
       "  constraints: {}\n",
       "  objectives: {y1: MINIMIZE, y2: MINIMIZE, s: MAXIMIZE}\n",
       "  constants: {a: dummy_constant}\n",
       "  observables: []\n"
      ]
     },
     "execution_count": 2,
     "metadata": {},
     "output_type": "execute_result"
    }
   ],
   "source": [
    "from copy import deepcopy\n",
    "my_vocs = deepcopy(tnk_vocs)\n",
    "my_vocs.constraints = {}\n",
    "generator = MultiFidelityGenerator(vocs=my_vocs, reference_point = {\"y1\":1.5,\"y2\":1.5})\n",
    "\n",
    "# set cost function according to approximate scaling of laser plasma accelerator\n",
    "# problem, see https://journals.aps.org/prresearch/abstract/10.1103/PhysRevResearch.5.013063\n",
    "generator.cost_function = lambda s: s**3.5\n",
    "generator.numerical_optimizer.n_restarts = NUM_RESTARTS\n",
    "generator.n_monte_carlo_samples = N_MC_SAMPLES\n",
    "\n",
    "X = Xopt(generator=generator, evaluator=evaluator, vocs=my_vocs)\n",
    "\n",
    "# evaluate at some explicit initial points\n",
    "X.evaluate_data(pd.DataFrame({\"x1\":[1.0, 0.75],\"x2\":[0.75, 1.0],\"s\":[0.0,0.1]}))\n",
    "\n",
    "X"
   ]
  },
  {
   "cell_type": "markdown",
   "metadata": {
    "collapsed": false
   },
   "source": [
    "## Run optimization routine\n",
    "Instead of ending the optimization routine after an explict number of samples we end\n",
    "optimization once a given optimization budget has been exceeded. WARNING: This will\n",
    "slightly exceed the given budget"
   ]
  },
  {
   "cell_type": "code",
   "execution_count": 3,
   "metadata": {
    "collapsed": false,
    "execution": {
     "iopub.execute_input": "2023-07-13T19:14:05.008525Z",
     "iopub.status.busy": "2023-07-13T19:14:05.007960Z",
     "iopub.status.idle": "2023-07-13T19:15:51.293593Z",
     "shell.execute_reply": "2023-07-13T19:15:51.292987Z"
    }
   },
   "outputs": [
    {
     "name": "stdout",
     "output_type": "stream",
     "text": [
      "n_samples: 3 budget used: 0.01032 hypervolume: 0.0375\n",
      "n_samples: 4 budget used: 0.01922 hypervolume: 0.0375\n",
      "n_samples: 5 budget used: 0.02922 hypervolume: 0.2656\n",
      "n_samples: 6 budget used: 0.03922 hypervolume: 0.5582\n",
      "n_samples: 7 budget used: 0.06519 hypervolume: 0.7907\n",
      "n_samples: 8 budget used: 0.1108 hypervolume: 0.899\n",
      "n_samples: 9 budget used: 0.1994 hypervolume: 1.126\n",
      "n_samples: 10 budget used: 0.3768 hypervolume: 1.373\n",
      "n_samples: 11 budget used: 0.7377 hypervolume: 1.682\n",
      "n_samples: 12 budget used: 1.463 hypervolume: 2.053\n",
      "n_samples: 13 budget used: 2.463 hypervolume: 2.25\n",
      "n_samples: 14 budget used: 3.463 hypervolume: 2.25\n",
      "n_samples: 15 budget used: 4.463 hypervolume: 2.25\n",
      "n_samples: 16 budget used: 4.478 hypervolume: 2.25\n",
      "n_samples: 17 budget used: 5.478 hypervolume: 2.25\n",
      "n_samples: 18 budget used: 6.478 hypervolume: 2.25\n",
      "n_samples: 19 budget used: 6.495 hypervolume: 2.25\n",
      "n_samples: 20 budget used: 7.495 hypervolume: 2.25\n",
      "n_samples: 21 budget used: 7.602 hypervolume: 2.25\n",
      "n_samples: 22 budget used: 7.893 hypervolume: 2.25\n",
      "n_samples: 23 budget used: 7.893 hypervolume: 2.25\n",
      "n_samples: 24 budget used: 8.07 hypervolume: 2.25\n",
      "n_samples: 25 budget used: 8.84 hypervolume: 2.25\n",
      "n_samples: 26 budget used: 9.84 hypervolume: 2.25\n",
      "n_samples: 27 budget used: 9.84 hypervolume: 2.25\n",
      "n_samples: 28 budget used: 9.974 hypervolume: 2.25\n",
      "n_samples: 29 budget used: 10.07 hypervolume: 2.25\n"
     ]
    }
   ],
   "source": [
    "budget = BUDGET\n",
    "while X.generator.calculate_total_cost() < budget:\n",
    "    X.step()\n",
    "    print(f\"n_samples: {len(X.data)} \"\n",
    "          f\"budget used: {X.generator.calculate_total_cost():.4} \"\n",
    "          f\"hypervolume: {X.generator.calculate_hypervolume():.4}\")"
   ]
  },
  {
   "cell_type": "markdown",
   "metadata": {
    "collapsed": false
   },
   "source": [
    "## Show results"
   ]
  },
  {
   "cell_type": "code",
   "execution_count": 4,
   "metadata": {
    "collapsed": false,
    "execution": {
     "iopub.execute_input": "2023-07-13T19:15:51.296527Z",
     "iopub.status.busy": "2023-07-13T19:15:51.296069Z",
     "iopub.status.idle": "2023-07-13T19:15:51.321167Z",
     "shell.execute_reply": "2023-07-13T19:15:51.320669Z"
    }
   },
   "outputs": [
    {
     "data": {
      "text/html": [
       "<div>\n",
       "<style scoped>\n",
       "    .dataframe tbody tr th:only-of-type {\n",
       "        vertical-align: middle;\n",
       "    }\n",
       "\n",
       "    .dataframe tbody tr th {\n",
       "        vertical-align: top;\n",
       "    }\n",
       "\n",
       "    .dataframe thead th {\n",
       "        text-align: right;\n",
       "    }\n",
       "</style>\n",
       "<table border=\"1\" class=\"dataframe\">\n",
       "  <thead>\n",
       "    <tr style=\"text-align: right;\">\n",
       "      <th></th>\n",
       "      <th>x1</th>\n",
       "      <th>x2</th>\n",
       "      <th>s</th>\n",
       "      <th>y1</th>\n",
       "      <th>y2</th>\n",
       "      <th>c1</th>\n",
       "      <th>c2</th>\n",
       "      <th>some_array</th>\n",
       "      <th>xopt_runtime</th>\n",
       "      <th>xopt_error</th>\n",
       "      <th>a</th>\n",
       "    </tr>\n",
       "  </thead>\n",
       "  <tbody>\n",
       "    <tr>\n",
       "      <th>1</th>\n",
       "      <td>1.000000</td>\n",
       "      <td>0.750000</td>\n",
       "      <td>0.000000</td>\n",
       "      <td>1.000000</td>\n",
       "      <td>0.750000</td>\n",
       "      <td>0.626888</td>\n",
       "      <td>0.312500</td>\n",
       "      <td>[1, 2, 3]</td>\n",
       "      <td>0.000051</td>\n",
       "      <td>False</td>\n",
       "      <td>NaN</td>\n",
       "    </tr>\n",
       "    <tr>\n",
       "      <th>2</th>\n",
       "      <td>0.750000</td>\n",
       "      <td>1.000000</td>\n",
       "      <td>0.100000</td>\n",
       "      <td>0.750000</td>\n",
       "      <td>1.000000</td>\n",
       "      <td>0.626888</td>\n",
       "      <td>0.312500</td>\n",
       "      <td>[1, 2, 3]</td>\n",
       "      <td>0.000012</td>\n",
       "      <td>False</td>\n",
       "      <td>NaN</td>\n",
       "    </tr>\n",
       "    <tr>\n",
       "      <th>3</th>\n",
       "      <td>0.171240</td>\n",
       "      <td>1.547797</td>\n",
       "      <td>0.268302</td>\n",
       "      <td>0.171240</td>\n",
       "      <td>1.547797</td>\n",
       "      <td>1.444100</td>\n",
       "      <td>1.205961</td>\n",
       "      <td>[1, 2, 3]</td>\n",
       "      <td>0.000049</td>\n",
       "      <td>False</td>\n",
       "      <td>dummy_constant</td>\n",
       "    </tr>\n",
       "    <tr>\n",
       "      <th>4</th>\n",
       "      <td>1.203323</td>\n",
       "      <td>3.056622</td>\n",
       "      <td>0.259459</td>\n",
       "      <td>1.203323</td>\n",
       "      <td>3.056622</td>\n",
       "      <td>9.694886</td>\n",
       "      <td>7.030978</td>\n",
       "      <td>[1, 2, 3]</td>\n",
       "      <td>0.000036</td>\n",
       "      <td>False</td>\n",
       "      <td>dummy_constant</td>\n",
       "    </tr>\n",
       "    <tr>\n",
       "      <th>5</th>\n",
       "      <td>0.000000</td>\n",
       "      <td>0.840020</td>\n",
       "      <td>0.268308</td>\n",
       "      <td>0.000000</td>\n",
       "      <td>0.840020</td>\n",
       "      <td>-0.394367</td>\n",
       "      <td>0.365613</td>\n",
       "      <td>[1, 2, 3]</td>\n",
       "      <td>0.000033</td>\n",
       "      <td>False</td>\n",
       "      <td>dummy_constant</td>\n",
       "    </tr>\n",
       "    <tr>\n",
       "      <th>6</th>\n",
       "      <td>0.000000</td>\n",
       "      <td>0.113007</td>\n",
       "      <td>0.268270</td>\n",
       "      <td>0.000000</td>\n",
       "      <td>0.113007</td>\n",
       "      <td>-1.087229</td>\n",
       "      <td>0.399763</td>\n",
       "      <td>[1, 2, 3]</td>\n",
       "      <td>0.000036</td>\n",
       "      <td>False</td>\n",
       "      <td>dummy_constant</td>\n",
       "    </tr>\n",
       "    <tr>\n",
       "      <th>7</th>\n",
       "      <td>0.013042</td>\n",
       "      <td>0.000000</td>\n",
       "      <td>0.352347</td>\n",
       "      <td>0.013042</td>\n",
       "      <td>0.000000</td>\n",
       "      <td>-1.099830</td>\n",
       "      <td>0.487128</td>\n",
       "      <td>[1, 2, 3]</td>\n",
       "      <td>0.000036</td>\n",
       "      <td>False</td>\n",
       "      <td>dummy_constant</td>\n",
       "    </tr>\n",
       "    <tr>\n",
       "      <th>8</th>\n",
       "      <td>0.328886</td>\n",
       "      <td>0.000000</td>\n",
       "      <td>0.413992</td>\n",
       "      <td>0.328886</td>\n",
       "      <td>0.000000</td>\n",
       "      <td>-0.991834</td>\n",
       "      <td>0.279280</td>\n",
       "      <td>[1, 2, 3]</td>\n",
       "      <td>0.000039</td>\n",
       "      <td>False</td>\n",
       "      <td>dummy_constant</td>\n",
       "    </tr>\n",
       "    <tr>\n",
       "      <th>9</th>\n",
       "      <td>0.000000</td>\n",
       "      <td>0.000000</td>\n",
       "      <td>0.500241</td>\n",
       "      <td>0.000000</td>\n",
       "      <td>0.000000</td>\n",
       "      <td>-1.100000</td>\n",
       "      <td>0.500000</td>\n",
       "      <td>[1, 2, 3]</td>\n",
       "      <td>0.000035</td>\n",
       "      <td>False</td>\n",
       "      <td>dummy_constant</td>\n",
       "    </tr>\n",
       "    <tr>\n",
       "      <th>10</th>\n",
       "      <td>0.000000</td>\n",
       "      <td>0.000000</td>\n",
       "      <td>0.610186</td>\n",
       "      <td>0.000000</td>\n",
       "      <td>0.000000</td>\n",
       "      <td>-1.100000</td>\n",
       "      <td>0.500000</td>\n",
       "      <td>[1, 2, 3]</td>\n",
       "      <td>0.000033</td>\n",
       "      <td>False</td>\n",
       "      <td>dummy_constant</td>\n",
       "    </tr>\n",
       "    <tr>\n",
       "      <th>11</th>\n",
       "      <td>0.000000</td>\n",
       "      <td>0.000000</td>\n",
       "      <td>0.747340</td>\n",
       "      <td>0.000000</td>\n",
       "      <td>0.000000</td>\n",
       "      <td>-1.100000</td>\n",
       "      <td>0.500000</td>\n",
       "      <td>[1, 2, 3]</td>\n",
       "      <td>0.000038</td>\n",
       "      <td>False</td>\n",
       "      <td>dummy_constant</td>\n",
       "    </tr>\n",
       "    <tr>\n",
       "      <th>12</th>\n",
       "      <td>0.000000</td>\n",
       "      <td>0.000000</td>\n",
       "      <td>0.912261</td>\n",
       "      <td>0.000000</td>\n",
       "      <td>0.000000</td>\n",
       "      <td>-1.100000</td>\n",
       "      <td>0.500000</td>\n",
       "      <td>[1, 2, 3]</td>\n",
       "      <td>0.000049</td>\n",
       "      <td>False</td>\n",
       "      <td>dummy_constant</td>\n",
       "    </tr>\n",
       "    <tr>\n",
       "      <th>13</th>\n",
       "      <td>0.000000</td>\n",
       "      <td>0.000000</td>\n",
       "      <td>1.000000</td>\n",
       "      <td>0.000000</td>\n",
       "      <td>0.000000</td>\n",
       "      <td>-1.100000</td>\n",
       "      <td>0.500000</td>\n",
       "      <td>[1, 2, 3]</td>\n",
       "      <td>0.000037</td>\n",
       "      <td>False</td>\n",
       "      <td>dummy_constant</td>\n",
       "    </tr>\n",
       "    <tr>\n",
       "      <th>14</th>\n",
       "      <td>0.548062</td>\n",
       "      <td>0.000000</td>\n",
       "      <td>1.000000</td>\n",
       "      <td>0.548062</td>\n",
       "      <td>0.000000</td>\n",
       "      <td>-0.799628</td>\n",
       "      <td>0.252310</td>\n",
       "      <td>[1, 2, 3]</td>\n",
       "      <td>0.000035</td>\n",
       "      <td>False</td>\n",
       "      <td>dummy_constant</td>\n",
       "    </tr>\n",
       "    <tr>\n",
       "      <th>15</th>\n",
       "      <td>0.000000</td>\n",
       "      <td>0.567283</td>\n",
       "      <td>1.000000</td>\n",
       "      <td>0.000000</td>\n",
       "      <td>0.567283</td>\n",
       "      <td>-0.778190</td>\n",
       "      <td>0.254527</td>\n",
       "      <td>[1, 2, 3]</td>\n",
       "      <td>0.000036</td>\n",
       "      <td>False</td>\n",
       "      <td>dummy_constant</td>\n",
       "    </tr>\n",
       "    <tr>\n",
       "      <th>16</th>\n",
       "      <td>3.141590</td>\n",
       "      <td>0.000000</td>\n",
       "      <td>0.304884</td>\n",
       "      <td>3.141590</td>\n",
       "      <td>0.000000</td>\n",
       "      <td>8.769588</td>\n",
       "      <td>7.227998</td>\n",
       "      <td>[1, 2, 3]</td>\n",
       "      <td>0.000039</td>\n",
       "      <td>False</td>\n",
       "      <td>dummy_constant</td>\n",
       "    </tr>\n",
       "    <tr>\n",
       "      <th>17</th>\n",
       "      <td>1.044157</td>\n",
       "      <td>0.000000</td>\n",
       "      <td>1.000000</td>\n",
       "      <td>1.044157</td>\n",
       "      <td>0.000000</td>\n",
       "      <td>-0.009737</td>\n",
       "      <td>0.546106</td>\n",
       "      <td>[1, 2, 3]</td>\n",
       "      <td>0.000031</td>\n",
       "      <td>False</td>\n",
       "      <td>dummy_constant</td>\n",
       "    </tr>\n",
       "    <tr>\n",
       "      <th>18</th>\n",
       "      <td>0.469916</td>\n",
       "      <td>0.380890</td>\n",
       "      <td>1.000000</td>\n",
       "      <td>0.469916</td>\n",
       "      <td>0.380890</td>\n",
       "      <td>-0.624385</td>\n",
       "      <td>0.015092</td>\n",
       "      <td>[1, 2, 3]</td>\n",
       "      <td>0.000035</td>\n",
       "      <td>False</td>\n",
       "      <td>dummy_constant</td>\n",
       "    </tr>\n",
       "    <tr>\n",
       "      <th>19</th>\n",
       "      <td>0.885888</td>\n",
       "      <td>0.113880</td>\n",
       "      <td>0.309929</td>\n",
       "      <td>0.885888</td>\n",
       "      <td>0.113880</td>\n",
       "      <td>-0.156522</td>\n",
       "      <td>0.297998</td>\n",
       "      <td>[1, 2, 3]</td>\n",
       "      <td>0.000034</td>\n",
       "      <td>False</td>\n",
       "      <td>dummy_constant</td>\n",
       "    </tr>\n",
       "    <tr>\n",
       "      <th>20</th>\n",
       "      <td>0.000000</td>\n",
       "      <td>1.112875</td>\n",
       "      <td>1.000000</td>\n",
       "      <td>0.000000</td>\n",
       "      <td>1.112875</td>\n",
       "      <td>0.138490</td>\n",
       "      <td>0.625615</td>\n",
       "      <td>[1, 2, 3]</td>\n",
       "      <td>0.000037</td>\n",
       "      <td>False</td>\n",
       "      <td>dummy_constant</td>\n",
       "    </tr>\n",
       "    <tr>\n",
       "      <th>21</th>\n",
       "      <td>1.637320</td>\n",
       "      <td>1.077857</td>\n",
       "      <td>0.528135</td>\n",
       "      <td>1.637320</td>\n",
       "      <td>1.077857</td>\n",
       "      <td>2.941991</td>\n",
       "      <td>1.627415</td>\n",
       "      <td>[1, 2, 3]</td>\n",
       "      <td>0.000035</td>\n",
       "      <td>False</td>\n",
       "      <td>dummy_constant</td>\n",
       "    </tr>\n",
       "    <tr>\n",
       "      <th>22</th>\n",
       "      <td>1.387977</td>\n",
       "      <td>2.444596</td>\n",
       "      <td>0.702637</td>\n",
       "      <td>1.387977</td>\n",
       "      <td>2.444596</td>\n",
       "      <td>6.942223</td>\n",
       "      <td>4.569954</td>\n",
       "      <td>[1, 2, 3]</td>\n",
       "      <td>0.000032</td>\n",
       "      <td>False</td>\n",
       "      <td>dummy_constant</td>\n",
       "    </tr>\n",
       "    <tr>\n",
       "      <th>23</th>\n",
       "      <td>0.000000</td>\n",
       "      <td>0.000000</td>\n",
       "      <td>0.115082</td>\n",
       "      <td>0.000000</td>\n",
       "      <td>0.000000</td>\n",
       "      <td>-1.100000</td>\n",
       "      <td>0.500000</td>\n",
       "      <td>[1, 2, 3]</td>\n",
       "      <td>0.000032</td>\n",
       "      <td>False</td>\n",
       "      <td>dummy_constant</td>\n",
       "    </tr>\n",
       "    <tr>\n",
       "      <th>24</th>\n",
       "      <td>0.000000</td>\n",
       "      <td>0.664035</td>\n",
       "      <td>0.608861</td>\n",
       "      <td>0.000000</td>\n",
       "      <td>0.664035</td>\n",
       "      <td>-0.659057</td>\n",
       "      <td>0.276908</td>\n",
       "      <td>[1, 2, 3]</td>\n",
       "      <td>0.000038</td>\n",
       "      <td>False</td>\n",
       "      <td>dummy_constant</td>\n",
       "    </tr>\n",
       "    <tr>\n",
       "      <th>25</th>\n",
       "      <td>0.636548</td>\n",
       "      <td>1.737515</td>\n",
       "      <td>0.928337</td>\n",
       "      <td>0.636548</td>\n",
       "      <td>1.737515</td>\n",
       "      <td>2.345427</td>\n",
       "      <td>1.550089</td>\n",
       "      <td>[1, 2, 3]</td>\n",
       "      <td>0.000039</td>\n",
       "      <td>False</td>\n",
       "      <td>dummy_constant</td>\n",
       "    </tr>\n",
       "    <tr>\n",
       "      <th>26</th>\n",
       "      <td>0.854125</td>\n",
       "      <td>0.677578</td>\n",
       "      <td>1.000000</td>\n",
       "      <td>0.854125</td>\n",
       "      <td>0.677578</td>\n",
       "      <td>0.214860</td>\n",
       "      <td>0.156938</td>\n",
       "      <td>[1, 2, 3]</td>\n",
       "      <td>0.000037</td>\n",
       "      <td>False</td>\n",
       "      <td>dummy_constant</td>\n",
       "    </tr>\n",
       "    <tr>\n",
       "      <th>27</th>\n",
       "      <td>0.019952</td>\n",
       "      <td>2.790911</td>\n",
       "      <td>0.007981</td>\n",
       "      <td>0.019952</td>\n",
       "      <td>2.790911</td>\n",
       "      <td>6.690236</td>\n",
       "      <td>5.478720</td>\n",
       "      <td>[1, 2, 3]</td>\n",
       "      <td>0.000035</td>\n",
       "      <td>False</td>\n",
       "      <td>dummy_constant</td>\n",
       "    </tr>\n",
       "    <tr>\n",
       "      <th>28</th>\n",
       "      <td>2.739690</td>\n",
       "      <td>1.165048</td>\n",
       "      <td>0.562413</td>\n",
       "      <td>2.739690</td>\n",
       "      <td>1.165048</td>\n",
       "      <td>7.764361</td>\n",
       "      <td>5.458499</td>\n",
       "      <td>[1, 2, 3]</td>\n",
       "      <td>0.000035</td>\n",
       "      <td>False</td>\n",
       "      <td>dummy_constant</td>\n",
       "    </tr>\n",
       "    <tr>\n",
       "      <th>29</th>\n",
       "      <td>0.315725</td>\n",
       "      <td>1.688491</td>\n",
       "      <td>0.516890</td>\n",
       "      <td>0.315725</td>\n",
       "      <td>1.688491</td>\n",
       "      <td>2.048998</td>\n",
       "      <td>1.446469</td>\n",
       "      <td>[1, 2, 3]</td>\n",
       "      <td>0.000047</td>\n",
       "      <td>False</td>\n",
       "      <td>dummy_constant</td>\n",
       "    </tr>\n",
       "  </tbody>\n",
       "</table>\n",
       "</div>"
      ],
      "text/plain": [
       "          x1        x2         s        y1        y2        c1        c2  \\\n",
       "1   1.000000  0.750000  0.000000  1.000000  0.750000  0.626888  0.312500   \n",
       "2   0.750000  1.000000  0.100000  0.750000  1.000000  0.626888  0.312500   \n",
       "3   0.171240  1.547797  0.268302  0.171240  1.547797  1.444100  1.205961   \n",
       "4   1.203323  3.056622  0.259459  1.203323  3.056622  9.694886  7.030978   \n",
       "5   0.000000  0.840020  0.268308  0.000000  0.840020 -0.394367  0.365613   \n",
       "6   0.000000  0.113007  0.268270  0.000000  0.113007 -1.087229  0.399763   \n",
       "7   0.013042  0.000000  0.352347  0.013042  0.000000 -1.099830  0.487128   \n",
       "8   0.328886  0.000000  0.413992  0.328886  0.000000 -0.991834  0.279280   \n",
       "9   0.000000  0.000000  0.500241  0.000000  0.000000 -1.100000  0.500000   \n",
       "10  0.000000  0.000000  0.610186  0.000000  0.000000 -1.100000  0.500000   \n",
       "11  0.000000  0.000000  0.747340  0.000000  0.000000 -1.100000  0.500000   \n",
       "12  0.000000  0.000000  0.912261  0.000000  0.000000 -1.100000  0.500000   \n",
       "13  0.000000  0.000000  1.000000  0.000000  0.000000 -1.100000  0.500000   \n",
       "14  0.548062  0.000000  1.000000  0.548062  0.000000 -0.799628  0.252310   \n",
       "15  0.000000  0.567283  1.000000  0.000000  0.567283 -0.778190  0.254527   \n",
       "16  3.141590  0.000000  0.304884  3.141590  0.000000  8.769588  7.227998   \n",
       "17  1.044157  0.000000  1.000000  1.044157  0.000000 -0.009737  0.546106   \n",
       "18  0.469916  0.380890  1.000000  0.469916  0.380890 -0.624385  0.015092   \n",
       "19  0.885888  0.113880  0.309929  0.885888  0.113880 -0.156522  0.297998   \n",
       "20  0.000000  1.112875  1.000000  0.000000  1.112875  0.138490  0.625615   \n",
       "21  1.637320  1.077857  0.528135  1.637320  1.077857  2.941991  1.627415   \n",
       "22  1.387977  2.444596  0.702637  1.387977  2.444596  6.942223  4.569954   \n",
       "23  0.000000  0.000000  0.115082  0.000000  0.000000 -1.100000  0.500000   \n",
       "24  0.000000  0.664035  0.608861  0.000000  0.664035 -0.659057  0.276908   \n",
       "25  0.636548  1.737515  0.928337  0.636548  1.737515  2.345427  1.550089   \n",
       "26  0.854125  0.677578  1.000000  0.854125  0.677578  0.214860  0.156938   \n",
       "27  0.019952  2.790911  0.007981  0.019952  2.790911  6.690236  5.478720   \n",
       "28  2.739690  1.165048  0.562413  2.739690  1.165048  7.764361  5.458499   \n",
       "29  0.315725  1.688491  0.516890  0.315725  1.688491  2.048998  1.446469   \n",
       "\n",
       "   some_array  xopt_runtime  xopt_error               a  \n",
       "1   [1, 2, 3]      0.000051       False             NaN  \n",
       "2   [1, 2, 3]      0.000012       False             NaN  \n",
       "3   [1, 2, 3]      0.000049       False  dummy_constant  \n",
       "4   [1, 2, 3]      0.000036       False  dummy_constant  \n",
       "5   [1, 2, 3]      0.000033       False  dummy_constant  \n",
       "6   [1, 2, 3]      0.000036       False  dummy_constant  \n",
       "7   [1, 2, 3]      0.000036       False  dummy_constant  \n",
       "8   [1, 2, 3]      0.000039       False  dummy_constant  \n",
       "9   [1, 2, 3]      0.000035       False  dummy_constant  \n",
       "10  [1, 2, 3]      0.000033       False  dummy_constant  \n",
       "11  [1, 2, 3]      0.000038       False  dummy_constant  \n",
       "12  [1, 2, 3]      0.000049       False  dummy_constant  \n",
       "13  [1, 2, 3]      0.000037       False  dummy_constant  \n",
       "14  [1, 2, 3]      0.000035       False  dummy_constant  \n",
       "15  [1, 2, 3]      0.000036       False  dummy_constant  \n",
       "16  [1, 2, 3]      0.000039       False  dummy_constant  \n",
       "17  [1, 2, 3]      0.000031       False  dummy_constant  \n",
       "18  [1, 2, 3]      0.000035       False  dummy_constant  \n",
       "19  [1, 2, 3]      0.000034       False  dummy_constant  \n",
       "20  [1, 2, 3]      0.000037       False  dummy_constant  \n",
       "21  [1, 2, 3]      0.000035       False  dummy_constant  \n",
       "22  [1, 2, 3]      0.000032       False  dummy_constant  \n",
       "23  [1, 2, 3]      0.000032       False  dummy_constant  \n",
       "24  [1, 2, 3]      0.000038       False  dummy_constant  \n",
       "25  [1, 2, 3]      0.000039       False  dummy_constant  \n",
       "26  [1, 2, 3]      0.000037       False  dummy_constant  \n",
       "27  [1, 2, 3]      0.000035       False  dummy_constant  \n",
       "28  [1, 2, 3]      0.000035       False  dummy_constant  \n",
       "29  [1, 2, 3]      0.000047       False  dummy_constant  "
      ]
     },
     "execution_count": 4,
     "metadata": {},
     "output_type": "execute_result"
    }
   ],
   "source": [
    "X.data"
   ]
  },
  {
   "cell_type": "markdown",
   "metadata": {
    "collapsed": false
   },
   "source": [
    "## Plot results\n",
    "Here we plot the resulting observations in input space, colored by feasibility\n",
    "(neglecting the fact that\n",
    "these data points are at varying fidelities).\n"
   ]
  },
  {
   "cell_type": "code",
   "execution_count": 5,
   "metadata": {
    "collapsed": false,
    "execution": {
     "iopub.execute_input": "2023-07-13T19:15:51.325551Z",
     "iopub.status.busy": "2023-07-13T19:15:51.324141Z",
     "iopub.status.idle": "2023-07-13T19:15:51.908758Z",
     "shell.execute_reply": "2023-07-13T19:15:51.908194Z"
    }
   },
   "outputs": [
    {
     "data": {
      "image/png": "[encoded data removed]",
      "text/plain": [
       "<Figure size 640x480 with 1 Axes>"
      ]
     },
     "metadata": {},
     "output_type": "display_data"
    }
   ],
   "source": [
    "import matplotlib.pyplot as plt\n",
    "\n",
    "fig, ax = plt.subplots()\n",
    "\n",
    "theta = np.linspace(0, np.pi / 2)\n",
    "r = np.sqrt(1 + 0.1 * np.cos(16 * theta))\n",
    "x_1 = r * np.sin(theta)\n",
    "x_2_lower = r * np.cos(theta)\n",
    "x_2_upper = (0.5 - (x_1 - 0.5) ** 2) ** 0.5 + 0.5\n",
    "\n",
    "z = np.zeros_like(x_1)\n",
    "\n",
    "# ax2.plot(x_1, x_2_lower,'r')\n",
    "ax.fill_between(x_1, z, x_2_lower, fc=\"white\")\n",
    "circle = plt.Circle(\n",
    "    (0.5, 0.5), 0.5 ** 0.5, color=\"r\", alpha=0.25, zorder=0, label=\"Valid Region\"\n",
    ")\n",
    "ax.add_patch(circle)\n",
    "history = pd.concat(\n",
    "    [X.data, tnk_vocs.feasibility_data(X.data)], axis=1, ignore_index=False\n",
    ")\n",
    "\n",
    "ax.plot(*history[[\"x1\", \"x2\"]][history[\"feasible\"]].to_numpy().T, \".C1\")\n",
    "ax.plot(*history[[\"x1\", \"x2\"]][~history[\"feasible\"]].to_numpy().T, \".C2\")\n",
    "\n",
    "ax.set_xlim(0, 3.14)\n",
    "ax.set_ylim(0, 3.14)\n",
    "ax.set_xlabel(\"x1\")\n",
    "ax.set_ylabel(\"x2\")\n",
    "ax.set_aspect(\"equal\")"
   ]
  },
  {
   "cell_type": "markdown",
   "metadata": {
    "collapsed": false
   },
   "source": [
    "### Plot path through input space"
   ]
  },
  {
   "cell_type": "code",
   "execution_count": 6,
   "metadata": {
    "collapsed": false,
    "execution": {
     "iopub.execute_input": "2023-07-13T19:15:51.912768Z",
     "iopub.status.busy": "2023-07-13T19:15:51.911713Z",
     "iopub.status.idle": "2023-07-13T19:15:52.381325Z",
     "shell.execute_reply": "2023-07-13T19:15:52.380669Z"
    }
   },
   "outputs": [
    {
     "data": {
      "image/png": "[encoded data removed]",
      "text/plain": [
       "<Figure size 640x480 with 4 Axes>"
      ]
     },
     "metadata": {},
     "output_type": "display_data"
    }
   ],
   "source": [
    "ax = history.hist([\"x1\", \"x2\", \"s\"],bins=20)"
   ]
  },
  {
   "cell_type": "code",
   "execution_count": 7,
   "metadata": {
    "collapsed": false,
    "execution": {
     "iopub.execute_input": "2023-07-13T19:15:52.385156Z",
     "iopub.status.busy": "2023-07-13T19:15:52.384441Z",
     "iopub.status.idle": "2023-07-13T19:15:52.600970Z",
     "shell.execute_reply": "2023-07-13T19:15:52.600343Z"
    }
   },
   "outputs": [
    {
     "data": {
      "text/plain": [
       "<Axes: >"
      ]
     },
     "execution_count": 7,
     "metadata": {},
     "output_type": "execute_result"
    },
    {
     "data": {
      "image/png": "[encoded data removed]",
      "text/plain": [
       "<Figure size 640x480 with 1 Axes>"
      ]
     },
     "metadata": {},
     "output_type": "display_data"
    }
   ],
   "source": [
    "history.plot(y=[\"x1\", \"x2\", \"s\"])"
   ]
  },
  {
   "cell_type": "markdown",
   "metadata": {
    "collapsed": false
   },
   "source": [
    "## Plot the acqusisition function\n",
    "Here we plot the acquisition function at a small set of fidelities $[0, 0.5, 1.0]$."
   ]
  },
  {
   "cell_type": "code",
   "execution_count": 8,
   "metadata": {
    "collapsed": false,
    "execution": {
     "iopub.execute_input": "2023-07-13T19:15:52.607032Z",
     "iopub.status.busy": "2023-07-13T19:15:52.606358Z",
     "iopub.status.idle": "2023-07-13T19:16:16.363683Z",
     "shell.execute_reply": "2023-07-13T19:16:16.362252Z"
    }
   },
   "outputs": [
    {
     "name": "stdout",
     "output_type": "stream",
     "text": [
      "[[1.43825408 2.85342094]]\n"
     ]
    },
    {
     "data": {
      "text/plain": [
       "[<matplotlib.lines.Line2D at 0x7fc9bff2e490>]"
      ]
     },
     "execution_count": 8,
     "metadata": {},
     "output_type": "execute_result"
    },
    {
     "data": {
      "image/png": "[encoded data removed]",
      "text/plain": [
       "<Figure size 640x480 with 2 Axes>"
      ]
     },
     "metadata": {},
     "output_type": "display_data"
    },
    {
     "data": {
      "image/png": "[encoded data removed]",
      "text/plain": [
       "<Figure size 640x480 with 2 Axes>"
      ]
     },
     "metadata": {},
     "output_type": "display_data"
    },
    {
     "data": {
      "image/png": "[encoded data removed]",
      "text/plain": [
       "<Figure size 640x480 with 2 Axes>"
      ]
     },
     "metadata": {},
     "output_type": "display_data"
    }
   ],
   "source": [
    "# plot the acquisition function\n",
    "from xopt.generators.bayesian.objectives import feasibility\n",
    "\n",
    "bounds = generator.vocs.bounds\n",
    "model = generator.model\n",
    "\n",
    "# create mesh over non-fidelity parameters\n",
    "n = 100\n",
    "x = torch.linspace(*bounds.T[1], n)\n",
    "y = torch.linspace(*bounds.T[2], n)\n",
    "xx, yy = torch.meshgrid(x, y)\n",
    "\n",
    "# plot function(s) at a single fidelity parameter\n",
    "fidelities = [0.0, 0.5, 1.0]\n",
    "for fidelity in fidelities:\n",
    "    pts = torch.hstack([ele.reshape(-1, 1) for ele in (xx, yy)]).double()\n",
    "    pts = torch.cat((torch.ones(pts.shape[0],1)*fidelity, pts), dim=-1)\n",
    "\n",
    "    acq_func = generator.get_acquisition(model)\n",
    "    with torch.no_grad():\n",
    "        acq_pts = pts.unsqueeze(1)\n",
    "        acq = acq_func(acq_pts)\n",
    "\n",
    "        fig, ax = plt.subplots()\n",
    "        c = ax.pcolor(xx, yy, acq.reshape(n, n), cmap=\"Blues\")\n",
    "        fig.colorbar(c)\n",
    "        ax.set_title(f\"Acquisition function - s: {fidelity}\")\n",
    "\n",
    "        ax.plot(*history[[\"x1\", \"x2\"]][history[\"feasible\"]].to_numpy().T, \".C1\")\n",
    "        ax.plot(*history[[\"x1\", \"x2\"]][~history[\"feasible\"]].to_numpy().T, \".C2\")\n",
    "\n",
    "        ax.plot(*history[[\"x1\", \"x2\"]].to_numpy()[-1].T, \"+\")\n",
    "\n",
    "\n",
    "candidate = generator.generate(1)\n",
    "print(candidate[[\"x1\", \"x2\"]].to_numpy())\n",
    "ax.plot(*candidate[[\"x1\", \"x2\"]].to_numpy()[0], \"o\")"
   ]
  },
  {
   "cell_type": "code",
   "execution_count": 9,
   "metadata": {
    "collapsed": false,
    "execution": {
     "iopub.execute_input": "2023-07-13T19:16:16.374140Z",
     "iopub.status.busy": "2023-07-13T19:16:16.373568Z",
     "iopub.status.idle": "2023-07-13T19:16:16.380982Z",
     "shell.execute_reply": "2023-07-13T19:16:16.379790Z"
    }
   },
   "outputs": [
    {
     "data": {
      "text/plain": [
       "[('likelihood.noise_covar.raw_noise',\n",
       "  Parameter containing:\n",
       "  tensor([-26.6010], dtype=torch.float64, requires_grad=True)),\n",
       " ('mean_module.raw_constant',\n",
       "  Parameter containing:\n",
       "  tensor(-0.2297, dtype=torch.float64, requires_grad=True)),\n",
       " ('covar_module.raw_outputscale',\n",
       "  Parameter containing:\n",
       "  tensor(-0.0549, dtype=torch.float64, requires_grad=True)),\n",
       " ('covar_module.base_kernel.raw_lengthscale',\n",
       "  Parameter containing:\n",
       "  tensor([[0.5977, 1.8389, 2.0074]], dtype=torch.float64, requires_grad=True))]"
      ]
     },
     "execution_count": 9,
     "metadata": {},
     "output_type": "execute_result"
    }
   ],
   "source": [
    "# examine lengthscale of the first objective\n",
    "list(model.models[0].named_parameters())"
   ]
  },
  {
   "cell_type": "code",
   "execution_count": 10,
   "metadata": {
    "collapsed": false,
    "execution": {
     "iopub.execute_input": "2023-07-13T19:16:16.384266Z",
     "iopub.status.busy": "2023-07-13T19:16:16.383888Z",
     "iopub.status.idle": "2023-07-13T19:16:16.421044Z",
     "shell.execute_reply": "2023-07-13T19:16:16.419822Z"
    }
   },
   "outputs": [],
   "source": [
    "# dump results to file\n",
    "X.options.dump_file = \"results.yaml\"\n",
    "X.dump_state()"
   ]
  },
  {
   "cell_type": "code",
   "execution_count": 10,
   "metadata": {
    "collapsed": false
   },
   "outputs": [],
   "source": []
  }
 ],
 "metadata": {
  "interpreter": {
   "hash": "72034539424920dfb606fe3b820b3f27dca0cbf1c69938110810ec4641e275b1"
  },
  "kernelspec": {
   "display_name": "Python 3 (ipykernel)",
   "language": "python",
   "name": "python3"
  },
  "language_info": {
   "codemirror_mode": {
    "name": "ipython",
    "version": 3
   },
   "file_extension": ".py",
   "mimetype": "text/x-python",
   "name": "python",
   "nbconvert_exporter": "python",
   "pygments_lexer": "ipython3",
   "version": "3.9.16"
  }
 },
 "nbformat": 4,
 "nbformat_minor": 4
}
