{
 "cells": [
  {
   "cell_type": "markdown",
   "metadata": {},
   "source": [
    "# Multi-fidelity Multi-objective Bayesian Optimization\n",
    "\n",
    "Here we attempt to solve for the constrained Pareto front of the TNK multi-objective\n",
    "optimization problem using Multi-Fidelity Multi-Objective Bayesian optimization. For\n",
    "simplicity we assume that the objective and constraint functions at lower fidelities is\n",
    "exactly equal to the functions at higher fidelities (this is obviously not a\n",
    "requirement, although for the best results lower fidelity calculations should\n",
    "correlate with higher fidelity ones). The algorithm should learn this relationship\n",
    "and use information gathered at lower fidelities to gather samples to improve the\n",
    "hypervolume of the Pareto front at the maximum fidelity.\n",
    "\n",
    "TNK function\n",
    "$n=2$ variables:\n",
    "$x_i \\in [0, \\pi], i=1,2$\n",
    "\n",
    "Objectives:\n",
    "- $f_i(x) = x_i$\n",
    "\n",
    "Constraints:\n",
    "- $g_1(x) = -x_1^2 -x_2^2 + 1 + 0.1 \\cos\\left(16 \\arctan \\frac{x_1}{x_2}\\right) \\le 0$\n",
    "- $g_2(x) = (x_1 - 1/2)^2 + (x_2-1/2)^2 \\le 0.5$"
   ]
  },
  {
   "cell_type": "code",
   "execution_count": 1,
   "metadata": {
    "collapsed": false,
    "execution": {
     "iopub.execute_input": "2023-06-29T20:58:52.073419Z",
     "iopub.status.busy": "2023-06-29T20:58:52.073173Z",
     "iopub.status.idle": "2023-06-29T20:58:55.052566Z",
     "shell.execute_reply": "2023-06-29T20:58:55.049330Z"
    }
   },
   "outputs": [
    {
     "name": "stdout",
     "output_type": "stream",
     "text": [
      "{'variables': {'x1': [0.0, 3.14159], 'x2': [0.0, 3.14159]}, 'constraints': {'c1': ['GREATER_THAN', 0.0], 'c2': ['LESS_THAN', 0.5]}, 'objectives': {'y1': 'MINIMIZE', 'y2': 'MINIMIZE'}, 'constants': {'a': 'dummy_constant'}, 'observables': []}\n"
     ]
    }
   ],
   "source": [
    "# set values if testing\n",
    "import os\n",
    "SMOKE_TEST = os.environ.get(\"SMOKE_TEST\")\n",
    "N_MC_SAMPLES = 1 if SMOKE_TEST else 128\n",
    "NUM_RESTARTS = 1 if SMOKE_TEST else 20\n",
    "BUDGET = 0.02 if SMOKE_TEST else 10\n",
    "\n",
    "# Ignore all warnings\n",
    "import warnings\n",
    "warnings.filterwarnings(\"ignore\")\n",
    "\n",
    "import pandas as pd\n",
    "import numpy as np\n",
    "import torch\n",
    "\n",
    "from xopt import Xopt, Evaluator\n",
    "from xopt.generators.bayesian import MultiFidelityGenerator\n",
    "from xopt.resources.test_functions.tnk import evaluate_TNK, tnk_vocs\n",
    "\n",
    "evaluator = Evaluator(function=evaluate_TNK)\n",
    "print(tnk_vocs.dict())"
   ]
  },
  {
   "cell_type": "markdown",
   "metadata": {
    "collapsed": false
   },
   "source": [
    "## Set up the Multi-Fidelity Multi-objective optimization algorithm\n",
    "Here we create the Multi-Fidelity generator object which can solve both single and\n",
    "multi-objective optimization problems depending on the number of objectives in VOCS.\n",
    "We specify a cost function as a function of fidelity parameter $s=[0,1]$ as $C(s) =\n",
    "s^{3.5}$ as an example from a real life multi-fidelity simulation problem."
   ]
  },
  {
   "cell_type": "code",
   "execution_count": 2,
   "metadata": {
    "collapsed": false,
    "execution": {
     "iopub.execute_input": "2023-06-29T20:58:55.092539Z",
     "iopub.status.busy": "2023-06-29T20:58:55.091372Z",
     "iopub.status.idle": "2023-06-29T20:58:55.115805Z",
     "shell.execute_reply": "2023-06-29T20:58:55.115073Z"
    }
   },
   "outputs": [
    {
     "data": {
      "text/plain": [
       "\n",
       "            Xopt\n",
       "________________________________\n",
       "Version: 0+untagged.1.g31da5da\n",
       "Data size: 2\n",
       "Config as YAML:\n",
       "xopt: {asynch: false, strict: false, dump_file: null, max_evaluations: null}\n",
       "generator:\n",
       "  name: multi_fidelity\n",
       "  model: null\n",
       "  turbo_controller: null\n",
       "  use_cuda: false\n",
       "  model_constructor:\n",
       "    name: standard\n",
       "    use_low_noise_prior: true\n",
       "    covar_modules: {}\n",
       "    mean_modules: {}\n",
       "    trainable_mean_keys: []\n",
       "  numerical_optimizer: {name: LBFGS, n_raw_samples: 20, n_restarts: 20, max_iter: 2000}\n",
       "  max_travel_distances: null\n",
       "  n_monte_carlo_samples: 128\n",
       "  reference_point: {y1: 1.5, y2: 1.5, s: 0.0}\n",
       "  fidelity_parameter: s\n",
       "  cost_function: __main__.<lambda>\n",
       "evaluator:\n",
       "  function: xopt.resources.test_functions.tnk.evaluate_TNK\n",
       "  max_workers: 1\n",
       "  function_kwargs: {sleep: 0, random_sleep: 0, raise_probability: 0}\n",
       "  vectorized: false\n",
       "vocs:\n",
       "  variables:\n",
       "    x1: [0.0, 3.14159]\n",
       "    x2: [0.0, 3.14159]\n",
       "    s: [0, 1]\n",
       "  constraints: {}\n",
       "  objectives: {y1: MINIMIZE, y2: MINIMIZE, s: MAXIMIZE}\n",
       "  constants: {a: dummy_constant}\n",
       "  observables: []\n"
      ]
     },
     "execution_count": 2,
     "metadata": {},
     "output_type": "execute_result"
    }
   ],
   "source": [
    "from copy import deepcopy\n",
    "my_vocs = deepcopy(tnk_vocs)\n",
    "my_vocs.constraints = {}\n",
    "generator = MultiFidelityGenerator(vocs=my_vocs, reference_point = {\"y1\":1.5,\"y2\":1.5})\n",
    "\n",
    "# set cost function according to approximate scaling of laser plasma accelerator\n",
    "# problem, see https://journals.aps.org/prresearch/abstract/10.1103/PhysRevResearch.5.013063\n",
    "generator.cost_function = lambda s: s**3.5\n",
    "generator.numerical_optimizer.n_restarts = NUM_RESTARTS\n",
    "generator.n_monte_carlo_samples = N_MC_SAMPLES\n",
    "\n",
    "X = Xopt(generator=generator, evaluator=evaluator, vocs=my_vocs)\n",
    "\n",
    "# evaluate at some explicit initial points\n",
    "X.evaluate_data(pd.DataFrame({\"x1\":[1.0, 0.75],\"x2\":[0.75, 1.0],\"s\":[0.0,0.1]}))\n",
    "\n",
    "X"
   ]
  },
  {
   "cell_type": "markdown",
   "metadata": {
    "collapsed": false
   },
   "source": [
    "## Run optimization routine\n",
    "Instead of ending the optimization routine after an explict number of samples we end\n",
    "optimization once a given optimization budget has been exceeded. WARNING: This will\n",
    "slightly exceed the given budget"
   ]
  },
  {
   "cell_type": "code",
   "execution_count": 3,
   "metadata": {
    "collapsed": false,
    "execution": {
     "iopub.execute_input": "2023-06-29T20:58:55.119729Z",
     "iopub.status.busy": "2023-06-29T20:58:55.119271Z",
     "iopub.status.idle": "2023-06-29T21:00:28.282331Z",
     "shell.execute_reply": "2023-06-29T21:00:28.281725Z"
    }
   },
   "outputs": [
    {
     "name": "stdout",
     "output_type": "stream",
     "text": [
      "n_samples: 3 budget used: 0.006678 hypervolume: 0.0375\n",
      "n_samples: 4 budget used: 0.01653 hypervolume: 0.0375\n",
      "n_samples: 5 budget used: 0.02653 hypervolume: 0.2832\n",
      "n_samples: 6 budget used: 0.03632 hypervolume: 0.563\n",
      "n_samples: 7 budget used: 0.0664 hypervolume: 0.8268\n",
      "n_samples: 8 budget used: 0.1253 hypervolume: 0.9671\n",
      "n_samples: 9 budget used: 0.2258 hypervolume: 1.167\n",
      "n_samples: 10 budget used: 0.4102 hypervolume: 1.388\n",
      "n_samples: 11 budget used: 0.7887 hypervolume: 1.705\n",
      "n_samples: 12 budget used: 1.538 hypervolume: 2.072\n",
      "n_samples: 13 budget used: 2.538 hypervolume: 2.25\n",
      "n_samples: 14 budget used: 3.538 hypervolume: 2.25\n",
      "n_samples: 15 budget used: 4.538 hypervolume: 2.25\n",
      "n_samples: 16 budget used: 4.572 hypervolume: 2.25\n",
      "n_samples: 17 budget used: 5.572 hypervolume: 2.25\n",
      "n_samples: 18 budget used: 6.572 hypervolume: 2.25\n",
      "n_samples: 19 budget used: 6.698 hypervolume: 2.25\n",
      "n_samples: 20 budget used: 7.698 hypervolume: 2.25\n",
      "n_samples: 21 budget used: 8.698 hypervolume: 2.25\n",
      "n_samples: 22 budget used: 9.5 hypervolume: 2.25\n",
      "n_samples: 23 budget used: 9.673 hypervolume: 2.25\n",
      "n_samples: 24 budget used: 10.09 hypervolume: 2.25\n"
     ]
    }
   ],
   "source": [
    "budget = BUDGET\n",
    "while X.generator.calculate_total_cost() < budget:\n",
    "    X.step()\n",
    "    print(f\"n_samples: {len(X.data)} \"\n",
    "          f\"budget used: {X.generator.calculate_total_cost():.4} \"\n",
    "          f\"hypervolume: {X.generator.calculate_hypervolume():.4}\")"
   ]
  },
  {
   "cell_type": "markdown",
   "metadata": {
    "collapsed": false
   },
   "source": [
    "## Show results"
   ]
  },
  {
   "cell_type": "code",
   "execution_count": 4,
   "metadata": {
    "collapsed": false,
    "execution": {
     "iopub.execute_input": "2023-06-29T21:00:28.286966Z",
     "iopub.status.busy": "2023-06-29T21:00:28.285860Z",
     "iopub.status.idle": "2023-06-29T21:00:28.311180Z",
     "shell.execute_reply": "2023-06-29T21:00:28.310618Z"
    }
   },
   "outputs": [
    {
     "data": {
      "text/html": [
       "<div>\n",
       "<style scoped>\n",
       "    .dataframe tbody tr th:only-of-type {\n",
       "        vertical-align: middle;\n",
       "    }\n",
       "\n",
       "    .dataframe tbody tr th {\n",
       "        vertical-align: top;\n",
       "    }\n",
       "\n",
       "    .dataframe thead th {\n",
       "        text-align: right;\n",
       "    }\n",
       "</style>\n",
       "<table border=\"1\" class=\"dataframe\">\n",
       "  <thead>\n",
       "    <tr style=\"text-align: right;\">\n",
       "      <th></th>\n",
       "      <th>x1</th>\n",
       "      <th>x2</th>\n",
       "      <th>s</th>\n",
       "      <th>y1</th>\n",
       "      <th>y2</th>\n",
       "      <th>c1</th>\n",
       "      <th>c2</th>\n",
       "      <th>some_array</th>\n",
       "      <th>xopt_runtime</th>\n",
       "      <th>xopt_error</th>\n",
       "      <th>a</th>\n",
       "    </tr>\n",
       "  </thead>\n",
       "  <tbody>\n",
       "    <tr>\n",
       "      <th>1</th>\n",
       "      <td>1.000000</td>\n",
       "      <td>0.750000</td>\n",
       "      <td>0.000000</td>\n",
       "      <td>1.000000</td>\n",
       "      <td>0.750000</td>\n",
       "      <td>0.626888</td>\n",
       "      <td>0.312500</td>\n",
       "      <td>[1, 2, 3]</td>\n",
       "      <td>0.000060</td>\n",
       "      <td>False</td>\n",
       "      <td>NaN</td>\n",
       "    </tr>\n",
       "    <tr>\n",
       "      <th>2</th>\n",
       "      <td>0.750000</td>\n",
       "      <td>1.000000</td>\n",
       "      <td>0.100000</td>\n",
       "      <td>0.750000</td>\n",
       "      <td>1.000000</td>\n",
       "      <td>0.626888</td>\n",
       "      <td>0.312500</td>\n",
       "      <td>[1, 2, 3]</td>\n",
       "      <td>0.000011</td>\n",
       "      <td>False</td>\n",
       "      <td>NaN</td>\n",
       "    </tr>\n",
       "    <tr>\n",
       "      <th>3</th>\n",
       "      <td>0.192231</td>\n",
       "      <td>1.599547</td>\n",
       "      <td>0.235746</td>\n",
       "      <td>0.192231</td>\n",
       "      <td>1.599547</td>\n",
       "      <td>1.629123</td>\n",
       "      <td>1.303725</td>\n",
       "      <td>[1, 2, 3]</td>\n",
       "      <td>0.000040</td>\n",
       "      <td>False</td>\n",
       "      <td>dummy_constant</td>\n",
       "    </tr>\n",
       "    <tr>\n",
       "      <th>4</th>\n",
       "      <td>1.095007</td>\n",
       "      <td>3.110424</td>\n",
       "      <td>0.267119</td>\n",
       "      <td>1.095007</td>\n",
       "      <td>3.110424</td>\n",
       "      <td>9.809084</td>\n",
       "      <td>7.168345</td>\n",
       "      <td>[1, 2, 3]</td>\n",
       "      <td>0.000042</td>\n",
       "      <td>False</td>\n",
       "      <td>dummy_constant</td>\n",
       "    </tr>\n",
       "    <tr>\n",
       "      <th>5</th>\n",
       "      <td>0.000000</td>\n",
       "      <td>0.796173</td>\n",
       "      <td>0.268270</td>\n",
       "      <td>0.000000</td>\n",
       "      <td>0.796173</td>\n",
       "      <td>-0.466109</td>\n",
       "      <td>0.337718</td>\n",
       "      <td>[1, 2, 3]</td>\n",
       "      <td>0.000040</td>\n",
       "      <td>False</td>\n",
       "      <td>dummy_constant</td>\n",
       "    </tr>\n",
       "    <tr>\n",
       "      <th>6</th>\n",
       "      <td>0.000000</td>\n",
       "      <td>0.096716</td>\n",
       "      <td>0.266661</td>\n",
       "      <td>0.000000</td>\n",
       "      <td>0.096716</td>\n",
       "      <td>-1.090646</td>\n",
       "      <td>0.412638</td>\n",
       "      <td>[1, 2, 3]</td>\n",
       "      <td>0.000039</td>\n",
       "      <td>False</td>\n",
       "      <td>dummy_constant</td>\n",
       "    </tr>\n",
       "    <tr>\n",
       "      <th>7</th>\n",
       "      <td>0.000000</td>\n",
       "      <td>0.000000</td>\n",
       "      <td>0.367481</td>\n",
       "      <td>0.000000</td>\n",
       "      <td>0.000000</td>\n",
       "      <td>-1.100000</td>\n",
       "      <td>0.500000</td>\n",
       "      <td>[1, 2, 3]</td>\n",
       "      <td>0.000039</td>\n",
       "      <td>False</td>\n",
       "      <td>dummy_constant</td>\n",
       "    </tr>\n",
       "    <tr>\n",
       "      <th>8</th>\n",
       "      <td>0.296016</td>\n",
       "      <td>0.000000</td>\n",
       "      <td>0.445176</td>\n",
       "      <td>0.296016</td>\n",
       "      <td>0.000000</td>\n",
       "      <td>-1.012375</td>\n",
       "      <td>0.291610</td>\n",
       "      <td>[1, 2, 3]</td>\n",
       "      <td>0.000047</td>\n",
       "      <td>False</td>\n",
       "      <td>dummy_constant</td>\n",
       "    </tr>\n",
       "    <tr>\n",
       "      <th>9</th>\n",
       "      <td>0.000000</td>\n",
       "      <td>0.000000</td>\n",
       "      <td>0.518701</td>\n",
       "      <td>0.000000</td>\n",
       "      <td>0.000000</td>\n",
       "      <td>-1.100000</td>\n",
       "      <td>0.500000</td>\n",
       "      <td>[1, 2, 3]</td>\n",
       "      <td>0.000040</td>\n",
       "      <td>False</td>\n",
       "      <td>dummy_constant</td>\n",
       "    </tr>\n",
       "    <tr>\n",
       "      <th>10</th>\n",
       "      <td>0.000000</td>\n",
       "      <td>0.000000</td>\n",
       "      <td>0.616943</td>\n",
       "      <td>0.000000</td>\n",
       "      <td>0.000000</td>\n",
       "      <td>-1.100000</td>\n",
       "      <td>0.500000</td>\n",
       "      <td>[1, 2, 3]</td>\n",
       "      <td>0.000048</td>\n",
       "      <td>False</td>\n",
       "      <td>dummy_constant</td>\n",
       "    </tr>\n",
       "    <tr>\n",
       "      <th>11</th>\n",
       "      <td>0.000000</td>\n",
       "      <td>0.000000</td>\n",
       "      <td>0.757578</td>\n",
       "      <td>0.000000</td>\n",
       "      <td>0.000000</td>\n",
       "      <td>-1.100000</td>\n",
       "      <td>0.500000</td>\n",
       "      <td>[1, 2, 3]</td>\n",
       "      <td>0.000042</td>\n",
       "      <td>False</td>\n",
       "      <td>dummy_constant</td>\n",
       "    </tr>\n",
       "    <tr>\n",
       "      <th>12</th>\n",
       "      <td>0.000000</td>\n",
       "      <td>0.000000</td>\n",
       "      <td>0.920839</td>\n",
       "      <td>0.000000</td>\n",
       "      <td>0.000000</td>\n",
       "      <td>-1.100000</td>\n",
       "      <td>0.500000</td>\n",
       "      <td>[1, 2, 3]</td>\n",
       "      <td>0.000040</td>\n",
       "      <td>False</td>\n",
       "      <td>dummy_constant</td>\n",
       "    </tr>\n",
       "    <tr>\n",
       "      <th>13</th>\n",
       "      <td>0.000000</td>\n",
       "      <td>0.000000</td>\n",
       "      <td>1.000000</td>\n",
       "      <td>0.000000</td>\n",
       "      <td>0.000000</td>\n",
       "      <td>-1.100000</td>\n",
       "      <td>0.500000</td>\n",
       "      <td>[1, 2, 3]</td>\n",
       "      <td>0.000041</td>\n",
       "      <td>False</td>\n",
       "      <td>dummy_constant</td>\n",
       "    </tr>\n",
       "    <tr>\n",
       "      <th>14</th>\n",
       "      <td>0.582837</td>\n",
       "      <td>0.000000</td>\n",
       "      <td>1.000000</td>\n",
       "      <td>0.582837</td>\n",
       "      <td>0.000000</td>\n",
       "      <td>-0.760301</td>\n",
       "      <td>0.256862</td>\n",
       "      <td>[1, 2, 3]</td>\n",
       "      <td>0.000039</td>\n",
       "      <td>False</td>\n",
       "      <td>dummy_constant</td>\n",
       "    </tr>\n",
       "    <tr>\n",
       "      <th>15</th>\n",
       "      <td>0.000000</td>\n",
       "      <td>0.573544</td>\n",
       "      <td>1.000000</td>\n",
       "      <td>0.000000</td>\n",
       "      <td>0.573544</td>\n",
       "      <td>-0.771047</td>\n",
       "      <td>0.255409</td>\n",
       "      <td>[1, 2, 3]</td>\n",
       "      <td>0.000041</td>\n",
       "      <td>False</td>\n",
       "      <td>dummy_constant</td>\n",
       "    </tr>\n",
       "    <tr>\n",
       "      <th>16</th>\n",
       "      <td>3.141590</td>\n",
       "      <td>0.000000</td>\n",
       "      <td>0.379307</td>\n",
       "      <td>3.141590</td>\n",
       "      <td>0.000000</td>\n",
       "      <td>8.769588</td>\n",
       "      <td>7.227998</td>\n",
       "      <td>[1, 2, 3]</td>\n",
       "      <td>0.000041</td>\n",
       "      <td>False</td>\n",
       "      <td>dummy_constant</td>\n",
       "    </tr>\n",
       "    <tr>\n",
       "      <th>17</th>\n",
       "      <td>0.270732</td>\n",
       "      <td>0.269181</td>\n",
       "      <td>1.000000</td>\n",
       "      <td>0.270732</td>\n",
       "      <td>0.269181</td>\n",
       "      <td>-0.954140</td>\n",
       "      <td>0.105841</td>\n",
       "      <td>[1, 2, 3]</td>\n",
       "      <td>0.000045</td>\n",
       "      <td>False</td>\n",
       "      <td>dummy_constant</td>\n",
       "    </tr>\n",
       "    <tr>\n",
       "      <th>18</th>\n",
       "      <td>1.101304</td>\n",
       "      <td>0.000000</td>\n",
       "      <td>1.000000</td>\n",
       "      <td>1.101304</td>\n",
       "      <td>0.000000</td>\n",
       "      <td>0.112871</td>\n",
       "      <td>0.611567</td>\n",
       "      <td>[1, 2, 3]</td>\n",
       "      <td>0.000039</td>\n",
       "      <td>False</td>\n",
       "      <td>dummy_constant</td>\n",
       "    </tr>\n",
       "    <tr>\n",
       "      <th>19</th>\n",
       "      <td>0.933148</td>\n",
       "      <td>0.000000</td>\n",
       "      <td>0.553813</td>\n",
       "      <td>0.933148</td>\n",
       "      <td>0.000000</td>\n",
       "      <td>-0.229235</td>\n",
       "      <td>0.437617</td>\n",
       "      <td>[1, 2, 3]</td>\n",
       "      <td>0.000040</td>\n",
       "      <td>False</td>\n",
       "      <td>dummy_constant</td>\n",
       "    </tr>\n",
       "    <tr>\n",
       "      <th>20</th>\n",
       "      <td>0.000000</td>\n",
       "      <td>1.115672</td>\n",
       "      <td>1.000000</td>\n",
       "      <td>0.000000</td>\n",
       "      <td>1.115672</td>\n",
       "      <td>0.144724</td>\n",
       "      <td>0.629052</td>\n",
       "      <td>[1, 2, 3]</td>\n",
       "      <td>0.000049</td>\n",
       "      <td>False</td>\n",
       "      <td>dummy_constant</td>\n",
       "    </tr>\n",
       "    <tr>\n",
       "      <th>21</th>\n",
       "      <td>0.706563</td>\n",
       "      <td>0.673839</td>\n",
       "      <td>1.000000</td>\n",
       "      <td>0.706563</td>\n",
       "      <td>0.673839</td>\n",
       "      <td>-0.139604</td>\n",
       "      <td>0.072889</td>\n",
       "      <td>[1, 2, 3]</td>\n",
       "      <td>0.000041</td>\n",
       "      <td>False</td>\n",
       "      <td>dummy_constant</td>\n",
       "    </tr>\n",
       "    <tr>\n",
       "      <th>22</th>\n",
       "      <td>1.499435</td>\n",
       "      <td>3.012739</td>\n",
       "      <td>0.939046</td>\n",
       "      <td>1.499435</td>\n",
       "      <td>3.012739</td>\n",
       "      <td>10.280054</td>\n",
       "      <td>7.312731</td>\n",
       "      <td>[1, 2, 3]</td>\n",
       "      <td>0.000042</td>\n",
       "      <td>False</td>\n",
       "      <td>dummy_constant</td>\n",
       "    </tr>\n",
       "    <tr>\n",
       "      <th>23</th>\n",
       "      <td>1.558965</td>\n",
       "      <td>2.396874</td>\n",
       "      <td>0.605640</td>\n",
       "      <td>1.558965</td>\n",
       "      <td>2.396874</td>\n",
       "      <td>7.273421</td>\n",
       "      <td>4.719538</td>\n",
       "      <td>[1, 2, 3]</td>\n",
       "      <td>0.000040</td>\n",
       "      <td>False</td>\n",
       "      <td>dummy_constant</td>\n",
       "    </tr>\n",
       "    <tr>\n",
       "      <th>24</th>\n",
       "      <td>0.021024</td>\n",
       "      <td>1.695445</td>\n",
       "      <td>0.779673</td>\n",
       "      <td>0.021024</td>\n",
       "      <td>1.695445</td>\n",
       "      <td>1.776938</td>\n",
       "      <td>1.658507</td>\n",
       "      <td>[1, 2, 3]</td>\n",
       "      <td>0.000041</td>\n",
       "      <td>False</td>\n",
       "      <td>dummy_constant</td>\n",
       "    </tr>\n",
       "  </tbody>\n",
       "</table>\n",
       "</div>"
      ],
      "text/plain": [
       "          x1        x2         s        y1        y2         c1        c2  \\\n",
       "1   1.000000  0.750000  0.000000  1.000000  0.750000   0.626888  0.312500   \n",
       "2   0.750000  1.000000  0.100000  0.750000  1.000000   0.626888  0.312500   \n",
       "3   0.192231  1.599547  0.235746  0.192231  1.599547   1.629123  1.303725   \n",
       "4   1.095007  3.110424  0.267119  1.095007  3.110424   9.809084  7.168345   \n",
       "5   0.000000  0.796173  0.268270  0.000000  0.796173  -0.466109  0.337718   \n",
       "6   0.000000  0.096716  0.266661  0.000000  0.096716  -1.090646  0.412638   \n",
       "7   0.000000  0.000000  0.367481  0.000000  0.000000  -1.100000  0.500000   \n",
       "8   0.296016  0.000000  0.445176  0.296016  0.000000  -1.012375  0.291610   \n",
       "9   0.000000  0.000000  0.518701  0.000000  0.000000  -1.100000  0.500000   \n",
       "10  0.000000  0.000000  0.616943  0.000000  0.000000  -1.100000  0.500000   \n",
       "11  0.000000  0.000000  0.757578  0.000000  0.000000  -1.100000  0.500000   \n",
       "12  0.000000  0.000000  0.920839  0.000000  0.000000  -1.100000  0.500000   \n",
       "13  0.000000  0.000000  1.000000  0.000000  0.000000  -1.100000  0.500000   \n",
       "14  0.582837  0.000000  1.000000  0.582837  0.000000  -0.760301  0.256862   \n",
       "15  0.000000  0.573544  1.000000  0.000000  0.573544  -0.771047  0.255409   \n",
       "16  3.141590  0.000000  0.379307  3.141590  0.000000   8.769588  7.227998   \n",
       "17  0.270732  0.269181  1.000000  0.270732  0.269181  -0.954140  0.105841   \n",
       "18  1.101304  0.000000  1.000000  1.101304  0.000000   0.112871  0.611567   \n",
       "19  0.933148  0.000000  0.553813  0.933148  0.000000  -0.229235  0.437617   \n",
       "20  0.000000  1.115672  1.000000  0.000000  1.115672   0.144724  0.629052   \n",
       "21  0.706563  0.673839  1.000000  0.706563  0.673839  -0.139604  0.072889   \n",
       "22  1.499435  3.012739  0.939046  1.499435  3.012739  10.280054  7.312731   \n",
       "23  1.558965  2.396874  0.605640  1.558965  2.396874   7.273421  4.719538   \n",
       "24  0.021024  1.695445  0.779673  0.021024  1.695445   1.776938  1.658507   \n",
       "\n",
       "   some_array  xopt_runtime  xopt_error               a  \n",
       "1   [1, 2, 3]      0.000060       False             NaN  \n",
       "2   [1, 2, 3]      0.000011       False             NaN  \n",
       "3   [1, 2, 3]      0.000040       False  dummy_constant  \n",
       "4   [1, 2, 3]      0.000042       False  dummy_constant  \n",
       "5   [1, 2, 3]      0.000040       False  dummy_constant  \n",
       "6   [1, 2, 3]      0.000039       False  dummy_constant  \n",
       "7   [1, 2, 3]      0.000039       False  dummy_constant  \n",
       "8   [1, 2, 3]      0.000047       False  dummy_constant  \n",
       "9   [1, 2, 3]      0.000040       False  dummy_constant  \n",
       "10  [1, 2, 3]      0.000048       False  dummy_constant  \n",
       "11  [1, 2, 3]      0.000042       False  dummy_constant  \n",
       "12  [1, 2, 3]      0.000040       False  dummy_constant  \n",
       "13  [1, 2, 3]      0.000041       False  dummy_constant  \n",
       "14  [1, 2, 3]      0.000039       False  dummy_constant  \n",
       "15  [1, 2, 3]      0.000041       False  dummy_constant  \n",
       "16  [1, 2, 3]      0.000041       False  dummy_constant  \n",
       "17  [1, 2, 3]      0.000045       False  dummy_constant  \n",
       "18  [1, 2, 3]      0.000039       False  dummy_constant  \n",
       "19  [1, 2, 3]      0.000040       False  dummy_constant  \n",
       "20  [1, 2, 3]      0.000049       False  dummy_constant  \n",
       "21  [1, 2, 3]      0.000041       False  dummy_constant  \n",
       "22  [1, 2, 3]      0.000042       False  dummy_constant  \n",
       "23  [1, 2, 3]      0.000040       False  dummy_constant  \n",
       "24  [1, 2, 3]      0.000041       False  dummy_constant  "
      ]
     },
     "execution_count": 4,
     "metadata": {},
     "output_type": "execute_result"
    }
   ],
   "source": [
    "X.data"
   ]
  },
  {
   "cell_type": "markdown",
   "metadata": {
    "collapsed": false
   },
   "source": [
    "## Plot results\n",
    "Here we plot the resulting observations in input space, colored by feasibility\n",
    "(neglecting the fact that\n",
    "these data points are at varying fidelities).\n"
   ]
  },
  {
   "cell_type": "code",
   "execution_count": 5,
   "metadata": {
    "collapsed": false,
    "execution": {
     "iopub.execute_input": "2023-06-29T21:00:28.315634Z",
     "iopub.status.busy": "2023-06-29T21:00:28.314534Z",
     "iopub.status.idle": "2023-06-29T21:00:29.065996Z",
     "shell.execute_reply": "2023-06-29T21:00:29.065234Z"
    }
   },
   "outputs": [
    {
     "data": {
      "image/png": "[encoded data removed]",
      "text/plain": [
       "<Figure size 640x480 with 1 Axes>"
      ]
     },
     "metadata": {},
     "output_type": "display_data"
    }
   ],
   "source": [
    "import matplotlib.pyplot as plt\n",
    "\n",
    "fig, ax = plt.subplots()\n",
    "\n",
    "theta = np.linspace(0, np.pi / 2)\n",
    "r = np.sqrt(1 + 0.1 * np.cos(16 * theta))\n",
    "x_1 = r * np.sin(theta)\n",
    "x_2_lower = r * np.cos(theta)\n",
    "x_2_upper = (0.5 - (x_1 - 0.5) ** 2) ** 0.5 + 0.5\n",
    "\n",
    "z = np.zeros_like(x_1)\n",
    "\n",
    "# ax2.plot(x_1, x_2_lower,'r')\n",
    "ax.fill_between(x_1, z, x_2_lower, fc=\"white\")\n",
    "circle = plt.Circle(\n",
    "    (0.5, 0.5), 0.5 ** 0.5, color=\"r\", alpha=0.25, zorder=0, label=\"Valid Region\"\n",
    ")\n",
    "ax.add_patch(circle)\n",
    "history = pd.concat(\n",
    "    [X.data, tnk_vocs.feasibility_data(X.data)], axis=1, ignore_index=False\n",
    ")\n",
    "\n",
    "ax.plot(*history[[\"x1\", \"x2\"]][history[\"feasible\"]].to_numpy().T, \".C1\")\n",
    "ax.plot(*history[[\"x1\", \"x2\"]][~history[\"feasible\"]].to_numpy().T, \".C2\")\n",
    "\n",
    "ax.set_xlim(0, 3.14)\n",
    "ax.set_ylim(0, 3.14)\n",
    "ax.set_xlabel(\"x1\")\n",
    "ax.set_ylabel(\"x2\")\n",
    "ax.set_aspect(\"equal\")"
   ]
  },
  {
   "cell_type": "markdown",
   "metadata": {
    "collapsed": false
   },
   "source": [
    "### Plot path through input space"
   ]
  },
  {
   "cell_type": "code",
   "execution_count": 6,
   "metadata": {
    "collapsed": false,
    "execution": {
     "iopub.execute_input": "2023-06-29T21:00:29.069649Z",
     "iopub.status.busy": "2023-06-29T21:00:29.069281Z",
     "iopub.status.idle": "2023-06-29T21:00:29.553322Z",
     "shell.execute_reply": "2023-06-29T21:00:29.552461Z"
    }
   },
   "outputs": [
    {
     "data": {
      "image/png": "[encoded data removed]",
      "text/plain": [
       "<Figure size 640x480 with 4 Axes>"
      ]
     },
     "metadata": {},
     "output_type": "display_data"
    }
   ],
   "source": [
    "ax = history.hist([\"x1\", \"x2\", \"s\"],bins=20)"
   ]
  },
  {
   "cell_type": "code",
   "execution_count": 7,
   "metadata": {
    "collapsed": false,
    "execution": {
     "iopub.execute_input": "2023-06-29T21:00:29.556630Z",
     "iopub.status.busy": "2023-06-29T21:00:29.556002Z",
     "iopub.status.idle": "2023-06-29T21:00:29.742020Z",
     "shell.execute_reply": "2023-06-29T21:00:29.741226Z"
    }
   },
   "outputs": [
    {
     "data": {
      "text/plain": [
       "<Axes: >"
      ]
     },
     "execution_count": 7,
     "metadata": {},
     "output_type": "execute_result"
    },
    {
     "data": {
      "image/png": "[encoded data removed]",
      "text/plain": [
       "<Figure size 640x480 with 1 Axes>"
      ]
     },
     "metadata": {},
     "output_type": "display_data"
    }
   ],
   "source": [
    "history.plot(y=[\"x1\", \"x2\", \"s\"])"
   ]
  },
  {
   "cell_type": "markdown",
   "metadata": {
    "collapsed": false
   },
   "source": [
    "## Plot the acqusisition function\n",
    "Here we plot the acquisition function at a small set of fidelities $[0, 0.5, 1.0]$."
   ]
  },
  {
   "cell_type": "code",
   "execution_count": 8,
   "metadata": {
    "collapsed": false,
    "execution": {
     "iopub.execute_input": "2023-06-29T21:00:29.745573Z",
     "iopub.status.busy": "2023-06-29T21:00:29.745296Z",
     "iopub.status.idle": "2023-06-29T21:00:53.808696Z",
     "shell.execute_reply": "2023-06-29T21:00:53.808005Z"
    }
   },
   "outputs": [
    {
     "name": "stdout",
     "output_type": "stream",
     "text": [
      "[[0.52595791 0.        ]]\n"
     ]
    },
    {
     "data": {
      "text/plain": [
       "[<matplotlib.lines.Line2D at 0x7f9ae0080fa0>]"
      ]
     },
     "execution_count": 8,
     "metadata": {},
     "output_type": "execute_result"
    },
    {
     "data": {
      "image/png": "[encoded data removed]",
      "text/plain": [
       "<Figure size 640x480 with 2 Axes>"
      ]
     },
     "metadata": {},
     "output_type": "display_data"
    },
    {
     "data": {
      "image/png": "[encoded data removed]",
      "text/plain": [
       "<Figure size 640x480 with 2 Axes>"
      ]
     },
     "metadata": {},
     "output_type": "display_data"
    },
    {
     "data": {
      "image/png": "[encoded data removed]",
      "text/plain": [
       "<Figure size 640x480 with 2 Axes>"
      ]
     },
     "metadata": {},
     "output_type": "display_data"
    }
   ],
   "source": [
    "# plot the acquisition function\n",
    "from xopt.generators.bayesian.objectives import feasibility\n",
    "\n",
    "bounds = generator.vocs.bounds\n",
    "model = generator.model\n",
    "\n",
    "# create mesh over non-fidelity parameters\n",
    "n = 100\n",
    "x = torch.linspace(*bounds.T[1], n)\n",
    "y = torch.linspace(*bounds.T[2], n)\n",
    "xx, yy = torch.meshgrid(x, y)\n",
    "\n",
    "# plot function(s) at a single fidelity parameter\n",
    "fidelities = [0.0, 0.5, 1.0]\n",
    "for fidelity in fidelities:\n",
    "    pts = torch.hstack([ele.reshape(-1, 1) for ele in (xx, yy)]).double()\n",
    "    pts = torch.cat((torch.ones(pts.shape[0],1)*fidelity, pts), dim=-1)\n",
    "\n",
    "    acq_func = generator.get_acquisition(model)\n",
    "    with torch.no_grad():\n",
    "        acq_pts = pts.unsqueeze(1)\n",
    "        acq = acq_func(acq_pts)\n",
    "\n",
    "        fig, ax = plt.subplots()\n",
    "        c = ax.pcolor(xx, yy, acq.reshape(n, n), cmap=\"Blues\")\n",
    "        fig.colorbar(c)\n",
    "        ax.set_title(f\"Acquisition function - s: {fidelity}\")\n",
    "\n",
    "        ax.plot(*history[[\"x1\", \"x2\"]][history[\"feasible\"]].to_numpy().T, \".C1\")\n",
    "        ax.plot(*history[[\"x1\", \"x2\"]][~history[\"feasible\"]].to_numpy().T, \".C2\")\n",
    "\n",
    "        ax.plot(*history[[\"x1\", \"x2\"]].to_numpy()[-1].T, \"+\")\n",
    "\n",
    "\n",
    "candidate = generator.generate(1)\n",
    "print(candidate[[\"x1\", \"x2\"]].to_numpy())\n",
    "ax.plot(*candidate[[\"x1\", \"x2\"]].to_numpy()[0], \"o\")"
   ]
  },
  {
   "cell_type": "code",
   "execution_count": 9,
   "metadata": {
    "collapsed": false,
    "execution": {
     "iopub.execute_input": "2023-06-29T21:00:53.812254Z",
     "iopub.status.busy": "2023-06-29T21:00:53.811819Z",
     "iopub.status.idle": "2023-06-29T21:00:53.819531Z",
     "shell.execute_reply": "2023-06-29T21:00:53.818979Z"
    }
   },
   "outputs": [
    {
     "data": {
      "text/plain": [
       "[('likelihood.noise_covar.raw_noise',\n",
       "  Parameter containing:\n",
       "  tensor([-25.0570], dtype=torch.float64, requires_grad=True)),\n",
       " ('mean_module.raw_constant',\n",
       "  Parameter containing:\n",
       "  tensor(-0.1747, dtype=torch.float64, requires_grad=True)),\n",
       " ('covar_module.raw_outputscale',\n",
       "  Parameter containing:\n",
       "  tensor(-0.0115, dtype=torch.float64, requires_grad=True)),\n",
       " ('covar_module.base_kernel.raw_lengthscale',\n",
       "  Parameter containing:\n",
       "  tensor([[0.4053, 1.4237, 1.6482]], dtype=torch.float64, requires_grad=True))]"
      ]
     },
     "execution_count": 9,
     "metadata": {},
     "output_type": "execute_result"
    }
   ],
   "source": [
    "# examine lengthscale of the first objective\n",
    "list(model.models[0].named_parameters())"
   ]
  },
  {
   "cell_type": "code",
   "execution_count": 10,
   "metadata": {
    "collapsed": false,
    "execution": {
     "iopub.execute_input": "2023-06-29T21:00:53.822355Z",
     "iopub.status.busy": "2023-06-29T21:00:53.821919Z",
     "iopub.status.idle": "2023-06-29T21:00:53.854750Z",
     "shell.execute_reply": "2023-06-29T21:00:53.854013Z"
    }
   },
   "outputs": [],
   "source": [
    "# dump results to file\n",
    "X.options.dump_file = \"results.yaml\"\n",
    "X.dump_state()"
   ]
  },
  {
   "cell_type": "code",
   "execution_count": 10,
   "metadata": {
    "collapsed": false
   },
   "outputs": [],
   "source": []
  }
 ],
 "metadata": {
  "interpreter": {
   "hash": "72034539424920dfb606fe3b820b3f27dca0cbf1c69938110810ec4641e275b1"
  },
  "kernelspec": {
   "display_name": "Python 3 (ipykernel)",
   "language": "python",
   "name": "python3"
  },
  "language_info": {
   "codemirror_mode": {
    "name": "ipython",
    "version": 3
   },
   "file_extension": ".py",
   "mimetype": "text/x-python",
   "name": "python",
   "nbconvert_exporter": "python",
   "pygments_lexer": "ipython3",
   "version": "3.9.16"
  }
 },
 "nbformat": 4,
 "nbformat_minor": 4
}
