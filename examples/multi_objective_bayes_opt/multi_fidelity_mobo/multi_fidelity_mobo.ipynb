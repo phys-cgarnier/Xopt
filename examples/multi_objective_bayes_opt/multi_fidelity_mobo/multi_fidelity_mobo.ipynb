{
 "cells": [
  {
   "cell_type": "markdown",
   "metadata": {},
   "source": [
    "# Multi-fidelity Multi-objective Bayesian Optimization\n",
    "\n",
    "Here we attempt to solve for the constrained Pareto front of the TNK multi-objective\n",
    "optimization problem using Multi-Fidelity Multi-Objective Bayesian optimization. For\n",
    "simplicity we assume that the objective and constraint functions at lower fidelities is\n",
    "exactly equal to the functions at higher fidelities (this is obviously not a\n",
    "requirement, although for the best results lower fidelity calculations should\n",
    "correlate with higher fidelity ones). The algorithm should learn this relationship\n",
    "and use information gathered at lower fidelities to gather samples to improve the\n",
    "hypervolume of the Pareto front at the maximum fidelity.\n",
    "\n",
    "TNK function\n",
    "$n=2$ variables:\n",
    "$x_i \\in [0, \\pi], i=1,2$\n",
    "\n",
    "Objectives:\n",
    "- $f_i(x) = x_i$\n",
    "\n",
    "Constraints:\n",
    "- $g_1(x) = -x_1^2 -x_2^2 + 1 + 0.1 \\cos\\left(16 \\arctan \\frac{x_1}{x_2}\\right) \\le 0$\n",
    "- $g_2(x) = (x_1 - 1/2)^2 + (x_2-1/2)^2 \\le 0.5$"
   ]
  },
  {
   "cell_type": "code",
   "execution_count": 1,
   "metadata": {
    "collapsed": false,
    "execution": {
     "iopub.execute_input": "2023-07-06T19:20:29.786625Z",
     "iopub.status.busy": "2023-07-06T19:20:29.786311Z",
     "iopub.status.idle": "2023-07-06T19:20:31.613826Z",
     "shell.execute_reply": "2023-07-06T19:20:31.612829Z"
    }
   },
   "outputs": [
    {
     "name": "stdout",
     "output_type": "stream",
     "text": [
      "{'variables': {'x1': [0.0, 3.14159], 'x2': [0.0, 3.14159]}, 'constraints': {'c1': ['GREATER_THAN', 0.0], 'c2': ['LESS_THAN', 0.5]}, 'objectives': {'y1': 'MINIMIZE', 'y2': 'MINIMIZE'}, 'constants': {'a': 'dummy_constant'}, 'observables': []}\n"
     ]
    }
   ],
   "source": [
    "# set values if testing\n",
    "import os\n",
    "SMOKE_TEST = os.environ.get(\"SMOKE_TEST\")\n",
    "N_MC_SAMPLES = 1 if SMOKE_TEST else 128\n",
    "NUM_RESTARTS = 1 if SMOKE_TEST else 20\n",
    "BUDGET = 0.02 if SMOKE_TEST else 10\n",
    "\n",
    "# Ignore all warnings\n",
    "import warnings\n",
    "warnings.filterwarnings(\"ignore\")\n",
    "\n",
    "import pandas as pd\n",
    "import numpy as np\n",
    "import torch\n",
    "\n",
    "from xopt import Xopt, Evaluator\n",
    "from xopt.generators.bayesian import MultiFidelityGenerator\n",
    "from xopt.resources.test_functions.tnk import evaluate_TNK, tnk_vocs\n",
    "\n",
    "evaluator = Evaluator(function=evaluate_TNK)\n",
    "print(tnk_vocs.dict())"
   ]
  },
  {
   "cell_type": "markdown",
   "metadata": {
    "collapsed": false
   },
   "source": [
    "## Set up the Multi-Fidelity Multi-objective optimization algorithm\n",
    "Here we create the Multi-Fidelity generator object which can solve both single and\n",
    "multi-objective optimization problems depending on the number of objectives in VOCS.\n",
    "We specify a cost function as a function of fidelity parameter $s=[0,1]$ as $C(s) =\n",
    "s^{3.5}$ as an example from a real life multi-fidelity simulation problem."
   ]
  },
  {
   "cell_type": "code",
   "execution_count": 2,
   "metadata": {
    "collapsed": false,
    "execution": {
     "iopub.execute_input": "2023-07-06T19:20:31.652498Z",
     "iopub.status.busy": "2023-07-06T19:20:31.651789Z",
     "iopub.status.idle": "2023-07-06T19:20:31.676475Z",
     "shell.execute_reply": "2023-07-06T19:20:31.675752Z"
    }
   },
   "outputs": [
    {
     "data": {
      "text/plain": [
       "\n",
       "            Xopt\n",
       "________________________________\n",
       "Version: 0+untagged.1.g8acd7be\n",
       "Data size: 2\n",
       "Config as YAML:\n",
       "xopt: {asynch: false, strict: true, dump_file: null, max_evaluations: null}\n",
       "generator:\n",
       "  name: multi_fidelity\n",
       "  model: null\n",
       "  turbo_controller: null\n",
       "  use_cuda: false\n",
       "  model_constructor:\n",
       "    name: standard\n",
       "    use_low_noise_prior: true\n",
       "    covar_modules: {}\n",
       "    mean_modules: {}\n",
       "    trainable_mean_keys: []\n",
       "  numerical_optimizer: {name: LBFGS, n_raw_samples: 20, n_restarts: 20, max_iter: 2000}\n",
       "  max_travel_distances: null\n",
       "  n_monte_carlo_samples: 128\n",
       "  reference_point: {y1: 1.5, y2: 1.5, s: 0.0}\n",
       "  fidelity_parameter: s\n",
       "  cost_function: __main__.<lambda>\n",
       "evaluator:\n",
       "  function: xopt.resources.test_functions.tnk.evaluate_TNK\n",
       "  max_workers: 1\n",
       "  function_kwargs: {sleep: 0, random_sleep: 0, raise_probability: 0}\n",
       "  vectorized: false\n",
       "vocs:\n",
       "  variables:\n",
       "    x1: [0.0, 3.14159]\n",
       "    x2: [0.0, 3.14159]\n",
       "    s: [0, 1]\n",
       "  constraints: {}\n",
       "  objectives: {y1: MINIMIZE, y2: MINIMIZE, s: MAXIMIZE}\n",
       "  constants: {a: dummy_constant}\n",
       "  observables: []\n"
      ]
     },
     "execution_count": 2,
     "metadata": {},
     "output_type": "execute_result"
    }
   ],
   "source": [
    "from copy import deepcopy\n",
    "my_vocs = deepcopy(tnk_vocs)\n",
    "my_vocs.constraints = {}\n",
    "generator = MultiFidelityGenerator(vocs=my_vocs, reference_point = {\"y1\":1.5,\"y2\":1.5})\n",
    "\n",
    "# set cost function according to approximate scaling of laser plasma accelerator\n",
    "# problem, see https://journals.aps.org/prresearch/abstract/10.1103/PhysRevResearch.5.013063\n",
    "generator.cost_function = lambda s: s**3.5\n",
    "generator.numerical_optimizer.n_restarts = NUM_RESTARTS\n",
    "generator.n_monte_carlo_samples = N_MC_SAMPLES\n",
    "\n",
    "X = Xopt(generator=generator, evaluator=evaluator, vocs=my_vocs)\n",
    "\n",
    "# evaluate at some explicit initial points\n",
    "X.evaluate_data(pd.DataFrame({\"x1\":[1.0, 0.75],\"x2\":[0.75, 1.0],\"s\":[0.0,0.1]}))\n",
    "\n",
    "X"
   ]
  },
  {
   "cell_type": "markdown",
   "metadata": {
    "collapsed": false
   },
   "source": [
    "## Run optimization routine\n",
    "Instead of ending the optimization routine after an explict number of samples we end\n",
    "optimization once a given optimization budget has been exceeded. WARNING: This will\n",
    "slightly exceed the given budget"
   ]
  },
  {
   "cell_type": "code",
   "execution_count": 3,
   "metadata": {
    "collapsed": false,
    "execution": {
     "iopub.execute_input": "2023-07-06T19:20:31.679879Z",
     "iopub.status.busy": "2023-07-06T19:20:31.679409Z",
     "iopub.status.idle": "2023-07-06T19:22:15.050941Z",
     "shell.execute_reply": "2023-07-06T19:22:15.050292Z"
    }
   },
   "outputs": [
    {
     "name": "stdout",
     "output_type": "stream",
     "text": [
      "n_samples: 3 budget used: 0.00835 hypervolume: 0.0375\n",
      "n_samples: 4 budget used: 0.01835 hypervolume: 0.4404\n",
      "n_samples: 5 budget used: 0.02889 hypervolume: 0.6128\n",
      "n_samples: 6 budget used: 0.06093 hypervolume: 0.8419\n",
      "n_samples: 7 budget used: 0.1299 hypervolume: 1.048\n",
      "n_samples: 8 budget used: 0.2822 hypervolume: 1.314\n",
      "n_samples: 9 budget used: 0.5504 hypervolume: 1.545\n",
      "n_samples: 10 budget used: 1.075 hypervolume: 1.871\n",
      "n_samples: 11 budget used: 2.075 hypervolume: 2.25\n",
      "n_samples: 12 budget used: 2.085 hypervolume: 2.25\n",
      "n_samples: 13 budget used: 3.085 hypervolume: 2.25\n",
      "n_samples: 14 budget used: 4.085 hypervolume: 2.25\n",
      "n_samples: 15 budget used: 4.114 hypervolume: 2.25\n",
      "n_samples: 16 budget used: 5.114 hypervolume: 2.25\n",
      "n_samples: 17 budget used: 6.114 hypervolume: 2.25\n",
      "n_samples: 18 budget used: 6.23 hypervolume: 2.25\n",
      "n_samples: 19 budget used: 6.492 hypervolume: 2.25\n",
      "n_samples: 20 budget used: 7.492 hypervolume: 2.25\n",
      "n_samples: 21 budget used: 7.514 hypervolume: 2.25\n",
      "n_samples: 22 budget used: 7.705 hypervolume: 2.25\n",
      "n_samples: 23 budget used: 8.175 hypervolume: 2.25\n",
      "n_samples: 24 budget used: 8.353 hypervolume: 2.25\n",
      "n_samples: 25 budget used: 8.454 hypervolume: 2.25\n",
      "n_samples: 26 budget used: 9.454 hypervolume: 2.25\n",
      "n_samples: 27 budget used: 9.979 hypervolume: 2.25\n",
      "n_samples: 28 budget used: 9.981 hypervolume: 2.25\n",
      "n_samples: 29 budget used: 10.72 hypervolume: 2.25\n"
     ]
    }
   ],
   "source": [
    "budget = BUDGET\n",
    "while X.generator.calculate_total_cost() < budget:\n",
    "    X.step()\n",
    "    print(f\"n_samples: {len(X.data)} \"\n",
    "          f\"budget used: {X.generator.calculate_total_cost():.4} \"\n",
    "          f\"hypervolume: {X.generator.calculate_hypervolume():.4}\")"
   ]
  },
  {
   "cell_type": "markdown",
   "metadata": {
    "collapsed": false
   },
   "source": [
    "## Show results"
   ]
  },
  {
   "cell_type": "code",
   "execution_count": 4,
   "metadata": {
    "collapsed": false,
    "execution": {
     "iopub.execute_input": "2023-07-06T19:22:15.055966Z",
     "iopub.status.busy": "2023-07-06T19:22:15.054731Z",
     "iopub.status.idle": "2023-07-06T19:22:15.083685Z",
     "shell.execute_reply": "2023-07-06T19:22:15.083029Z"
    }
   },
   "outputs": [
    {
     "data": {
      "text/html": [
       "<div>\n",
       "<style scoped>\n",
       "    .dataframe tbody tr th:only-of-type {\n",
       "        vertical-align: middle;\n",
       "    }\n",
       "\n",
       "    .dataframe tbody tr th {\n",
       "        vertical-align: top;\n",
       "    }\n",
       "\n",
       "    .dataframe thead th {\n",
       "        text-align: right;\n",
       "    }\n",
       "</style>\n",
       "<table border=\"1\" class=\"dataframe\">\n",
       "  <thead>\n",
       "    <tr style=\"text-align: right;\">\n",
       "      <th></th>\n",
       "      <th>x1</th>\n",
       "      <th>x2</th>\n",
       "      <th>s</th>\n",
       "      <th>y1</th>\n",
       "      <th>y2</th>\n",
       "      <th>c1</th>\n",
       "      <th>c2</th>\n",
       "      <th>some_array</th>\n",
       "      <th>xopt_runtime</th>\n",
       "      <th>xopt_error</th>\n",
       "      <th>a</th>\n",
       "    </tr>\n",
       "  </thead>\n",
       "  <tbody>\n",
       "    <tr>\n",
       "      <th>1</th>\n",
       "      <td>1.000000</td>\n",
       "      <td>0.750000</td>\n",
       "      <td>0.000000</td>\n",
       "      <td>1.000000</td>\n",
       "      <td>0.750000</td>\n",
       "      <td>0.626888</td>\n",
       "      <td>0.312500</td>\n",
       "      <td>[1, 2, 3]</td>\n",
       "      <td>0.000076</td>\n",
       "      <td>False</td>\n",
       "      <td>NaN</td>\n",
       "    </tr>\n",
       "    <tr>\n",
       "      <th>2</th>\n",
       "      <td>0.750000</td>\n",
       "      <td>1.000000</td>\n",
       "      <td>0.100000</td>\n",
       "      <td>0.750000</td>\n",
       "      <td>1.000000</td>\n",
       "      <td>0.626888</td>\n",
       "      <td>0.312500</td>\n",
       "      <td>[1, 2, 3]</td>\n",
       "      <td>0.000015</td>\n",
       "      <td>False</td>\n",
       "      <td>NaN</td>\n",
       "    </tr>\n",
       "    <tr>\n",
       "      <th>3</th>\n",
       "      <td>0.506673</td>\n",
       "      <td>2.072945</td>\n",
       "      <td>0.252006</td>\n",
       "      <td>0.506673</td>\n",
       "      <td>2.072945</td>\n",
       "      <td>3.630690</td>\n",
       "      <td>2.474200</td>\n",
       "      <td>[1, 2, 3]</td>\n",
       "      <td>0.000047</td>\n",
       "      <td>False</td>\n",
       "      <td>dummy_constant</td>\n",
       "    </tr>\n",
       "    <tr>\n",
       "      <th>4</th>\n",
       "      <td>0.184669</td>\n",
       "      <td>0.251900</td>\n",
       "      <td>0.268237</td>\n",
       "      <td>0.184669</td>\n",
       "      <td>0.251900</td>\n",
       "      <td>-0.825755</td>\n",
       "      <td>0.160988</td>\n",
       "      <td>[1, 2, 3]</td>\n",
       "      <td>0.000043</td>\n",
       "      <td>False</td>\n",
       "      <td>dummy_constant</td>\n",
       "    </tr>\n",
       "    <tr>\n",
       "      <th>5</th>\n",
       "      <td>0.000000</td>\n",
       "      <td>0.000000</td>\n",
       "      <td>0.272360</td>\n",
       "      <td>0.000000</td>\n",
       "      <td>0.000000</td>\n",
       "      <td>-1.100000</td>\n",
       "      <td>0.500000</td>\n",
       "      <td>[1, 2, 3]</td>\n",
       "      <td>0.000044</td>\n",
       "      <td>False</td>\n",
       "      <td>dummy_constant</td>\n",
       "    </tr>\n",
       "    <tr>\n",
       "      <th>6</th>\n",
       "      <td>0.000000</td>\n",
       "      <td>0.000000</td>\n",
       "      <td>0.374162</td>\n",
       "      <td>0.000000</td>\n",
       "      <td>0.000000</td>\n",
       "      <td>-1.100000</td>\n",
       "      <td>0.500000</td>\n",
       "      <td>[1, 2, 3]</td>\n",
       "      <td>0.000042</td>\n",
       "      <td>False</td>\n",
       "      <td>dummy_constant</td>\n",
       "    </tr>\n",
       "    <tr>\n",
       "      <th>7</th>\n",
       "      <td>0.000000</td>\n",
       "      <td>0.000000</td>\n",
       "      <td>0.465764</td>\n",
       "      <td>0.000000</td>\n",
       "      <td>0.000000</td>\n",
       "      <td>-1.100000</td>\n",
       "      <td>0.500000</td>\n",
       "      <td>[1, 2, 3]</td>\n",
       "      <td>0.000044</td>\n",
       "      <td>False</td>\n",
       "      <td>dummy_constant</td>\n",
       "    </tr>\n",
       "    <tr>\n",
       "      <th>8</th>\n",
       "      <td>0.000000</td>\n",
       "      <td>0.000000</td>\n",
       "      <td>0.584090</td>\n",
       "      <td>0.000000</td>\n",
       "      <td>0.000000</td>\n",
       "      <td>-1.100000</td>\n",
       "      <td>0.500000</td>\n",
       "      <td>[1, 2, 3]</td>\n",
       "      <td>0.000041</td>\n",
       "      <td>False</td>\n",
       "      <td>dummy_constant</td>\n",
       "    </tr>\n",
       "    <tr>\n",
       "      <th>9</th>\n",
       "      <td>0.000000</td>\n",
       "      <td>0.000000</td>\n",
       "      <td>0.686611</td>\n",
       "      <td>0.000000</td>\n",
       "      <td>0.000000</td>\n",
       "      <td>-1.100000</td>\n",
       "      <td>0.500000</td>\n",
       "      <td>[1, 2, 3]</td>\n",
       "      <td>0.000045</td>\n",
       "      <td>False</td>\n",
       "      <td>dummy_constant</td>\n",
       "    </tr>\n",
       "    <tr>\n",
       "      <th>10</th>\n",
       "      <td>0.000000</td>\n",
       "      <td>0.000000</td>\n",
       "      <td>0.831625</td>\n",
       "      <td>0.000000</td>\n",
       "      <td>0.000000</td>\n",
       "      <td>-1.100000</td>\n",
       "      <td>0.500000</td>\n",
       "      <td>[1, 2, 3]</td>\n",
       "      <td>0.000042</td>\n",
       "      <td>False</td>\n",
       "      <td>dummy_constant</td>\n",
       "    </tr>\n",
       "    <tr>\n",
       "      <th>11</th>\n",
       "      <td>0.000000</td>\n",
       "      <td>0.000000</td>\n",
       "      <td>1.000000</td>\n",
       "      <td>0.000000</td>\n",
       "      <td>0.000000</td>\n",
       "      <td>-1.100000</td>\n",
       "      <td>0.500000</td>\n",
       "      <td>[1, 2, 3]</td>\n",
       "      <td>0.000039</td>\n",
       "      <td>False</td>\n",
       "      <td>dummy_constant</td>\n",
       "    </tr>\n",
       "    <tr>\n",
       "      <th>12</th>\n",
       "      <td>3.141590</td>\n",
       "      <td>0.000000</td>\n",
       "      <td>0.267407</td>\n",
       "      <td>3.141590</td>\n",
       "      <td>0.000000</td>\n",
       "      <td>8.769588</td>\n",
       "      <td>7.227998</td>\n",
       "      <td>[1, 2, 3]</td>\n",
       "      <td>0.000047</td>\n",
       "      <td>False</td>\n",
       "      <td>dummy_constant</td>\n",
       "    </tr>\n",
       "    <tr>\n",
       "      <th>13</th>\n",
       "      <td>0.000000</td>\n",
       "      <td>0.573141</td>\n",
       "      <td>1.000000</td>\n",
       "      <td>0.000000</td>\n",
       "      <td>0.573141</td>\n",
       "      <td>-0.771509</td>\n",
       "      <td>0.255350</td>\n",
       "      <td>[1, 2, 3]</td>\n",
       "      <td>0.000042</td>\n",
       "      <td>False</td>\n",
       "      <td>dummy_constant</td>\n",
       "    </tr>\n",
       "    <tr>\n",
       "      <th>14</th>\n",
       "      <td>0.539375</td>\n",
       "      <td>0.000000</td>\n",
       "      <td>1.000000</td>\n",
       "      <td>0.539375</td>\n",
       "      <td>0.000000</td>\n",
       "      <td>-0.809075</td>\n",
       "      <td>0.251550</td>\n",
       "      <td>[1, 2, 3]</td>\n",
       "      <td>0.000042</td>\n",
       "      <td>False</td>\n",
       "      <td>dummy_constant</td>\n",
       "    </tr>\n",
       "    <tr>\n",
       "      <th>15</th>\n",
       "      <td>0.559402</td>\n",
       "      <td>0.000000</td>\n",
       "      <td>0.365704</td>\n",
       "      <td>0.559402</td>\n",
       "      <td>0.000000</td>\n",
       "      <td>-0.787069</td>\n",
       "      <td>0.253529</td>\n",
       "      <td>[1, 2, 3]</td>\n",
       "      <td>0.000040</td>\n",
       "      <td>False</td>\n",
       "      <td>dummy_constant</td>\n",
       "    </tr>\n",
       "    <tr>\n",
       "      <th>16</th>\n",
       "      <td>0.236347</td>\n",
       "      <td>0.252067</td>\n",
       "      <td>1.000000</td>\n",
       "      <td>0.236347</td>\n",
       "      <td>0.252067</td>\n",
       "      <td>-0.967642</td>\n",
       "      <td>0.130983</td>\n",
       "      <td>[1, 2, 3]</td>\n",
       "      <td>0.000045</td>\n",
       "      <td>False</td>\n",
       "      <td>dummy_constant</td>\n",
       "    </tr>\n",
       "    <tr>\n",
       "      <th>17</th>\n",
       "      <td>1.088620</td>\n",
       "      <td>0.000000</td>\n",
       "      <td>1.000000</td>\n",
       "      <td>1.088620</td>\n",
       "      <td>0.000000</td>\n",
       "      <td>0.085093</td>\n",
       "      <td>0.596473</td>\n",
       "      <td>[1, 2, 3]</td>\n",
       "      <td>0.000047</td>\n",
       "      <td>False</td>\n",
       "      <td>dummy_constant</td>\n",
       "    </tr>\n",
       "    <tr>\n",
       "      <th>18</th>\n",
       "      <td>0.000000</td>\n",
       "      <td>0.710992</td>\n",
       "      <td>0.539916</td>\n",
       "      <td>0.000000</td>\n",
       "      <td>0.710992</td>\n",
       "      <td>-0.594490</td>\n",
       "      <td>0.294518</td>\n",
       "      <td>[1, 2, 3]</td>\n",
       "      <td>0.000044</td>\n",
       "      <td>False</td>\n",
       "      <td>dummy_constant</td>\n",
       "    </tr>\n",
       "    <tr>\n",
       "      <th>19</th>\n",
       "      <td>0.000000</td>\n",
       "      <td>1.057986</td>\n",
       "      <td>0.682163</td>\n",
       "      <td>0.000000</td>\n",
       "      <td>1.057986</td>\n",
       "      <td>0.019334</td>\n",
       "      <td>0.561348</td>\n",
       "      <td>[1, 2, 3]</td>\n",
       "      <td>0.000043</td>\n",
       "      <td>False</td>\n",
       "      <td>dummy_constant</td>\n",
       "    </tr>\n",
       "    <tr>\n",
       "      <th>20</th>\n",
       "      <td>0.719033</td>\n",
       "      <td>0.647911</td>\n",
       "      <td>1.000000</td>\n",
       "      <td>0.719033</td>\n",
       "      <td>0.647911</td>\n",
       "      <td>-0.130562</td>\n",
       "      <td>0.069853</td>\n",
       "      <td>[1, 2, 3]</td>\n",
       "      <td>0.000045</td>\n",
       "      <td>False</td>\n",
       "      <td>dummy_constant</td>\n",
       "    </tr>\n",
       "    <tr>\n",
       "      <th>21</th>\n",
       "      <td>0.307044</td>\n",
       "      <td>2.950769</td>\n",
       "      <td>0.333582</td>\n",
       "      <td>0.307044</td>\n",
       "      <td>2.950769</td>\n",
       "      <td>7.810116</td>\n",
       "      <td>6.043502</td>\n",
       "      <td>[1, 2, 3]</td>\n",
       "      <td>0.000041</td>\n",
       "      <td>False</td>\n",
       "      <td>dummy_constant</td>\n",
       "    </tr>\n",
       "    <tr>\n",
       "      <th>22</th>\n",
       "      <td>1.721614</td>\n",
       "      <td>2.301547</td>\n",
       "      <td>0.623576</td>\n",
       "      <td>1.721614</td>\n",
       "      <td>2.301547</td>\n",
       "      <td>7.326998</td>\n",
       "      <td>4.737913</td>\n",
       "      <td>[1, 2, 3]</td>\n",
       "      <td>0.000042</td>\n",
       "      <td>False</td>\n",
       "      <td>dummy_constant</td>\n",
       "    </tr>\n",
       "    <tr>\n",
       "      <th>23</th>\n",
       "      <td>3.037527</td>\n",
       "      <td>2.002319</td>\n",
       "      <td>0.805773</td>\n",
       "      <td>3.037527</td>\n",
       "      <td>2.002319</td>\n",
       "      <td>12.335354</td>\n",
       "      <td>8.696006</td>\n",
       "      <td>[1, 2, 3]</td>\n",
       "      <td>0.000044</td>\n",
       "      <td>False</td>\n",
       "      <td>dummy_constant</td>\n",
       "    </tr>\n",
       "    <tr>\n",
       "      <th>24</th>\n",
       "      <td>0.942116</td>\n",
       "      <td>0.000000</td>\n",
       "      <td>0.610981</td>\n",
       "      <td>0.942116</td>\n",
       "      <td>0.000000</td>\n",
       "      <td>-0.212417</td>\n",
       "      <td>0.445467</td>\n",
       "      <td>[1, 2, 3]</td>\n",
       "      <td>0.000039</td>\n",
       "      <td>False</td>\n",
       "      <td>dummy_constant</td>\n",
       "    </tr>\n",
       "    <tr>\n",
       "      <th>25</th>\n",
       "      <td>1.099774</td>\n",
       "      <td>2.784975</td>\n",
       "      <td>0.518925</td>\n",
       "      <td>1.099774</td>\n",
       "      <td>2.784975</td>\n",
       "      <td>7.869095</td>\n",
       "      <td>5.580840</td>\n",
       "      <td>[1, 2, 3]</td>\n",
       "      <td>0.000042</td>\n",
       "      <td>False</td>\n",
       "      <td>dummy_constant</td>\n",
       "    </tr>\n",
       "    <tr>\n",
       "      <th>26</th>\n",
       "      <td>1.065619</td>\n",
       "      <td>0.420829</td>\n",
       "      <td>1.000000</td>\n",
       "      <td>1.065619</td>\n",
       "      <td>0.420829</td>\n",
       "      <td>0.216141</td>\n",
       "      <td>0.326193</td>\n",
       "      <td>[1, 2, 3]</td>\n",
       "      <td>0.000040</td>\n",
       "      <td>False</td>\n",
       "      <td>dummy_constant</td>\n",
       "    </tr>\n",
       "    <tr>\n",
       "      <th>27</th>\n",
       "      <td>0.076527</td>\n",
       "      <td>1.742541</td>\n",
       "      <td>0.831888</td>\n",
       "      <td>0.076527</td>\n",
       "      <td>1.742541</td>\n",
       "      <td>1.965965</td>\n",
       "      <td>1.723239</td>\n",
       "      <td>[1, 2, 3]</td>\n",
       "      <td>0.000048</td>\n",
       "      <td>False</td>\n",
       "      <td>dummy_constant</td>\n",
       "    </tr>\n",
       "    <tr>\n",
       "      <th>28</th>\n",
       "      <td>2.030904</td>\n",
       "      <td>2.608037</td>\n",
       "      <td>0.182184</td>\n",
       "      <td>2.030904</td>\n",
       "      <td>2.608037</td>\n",
       "      <td>9.966252</td>\n",
       "      <td>6.787487</td>\n",
       "      <td>[1, 2, 3]</td>\n",
       "      <td>0.000043</td>\n",
       "      <td>False</td>\n",
       "      <td>dummy_constant</td>\n",
       "    </tr>\n",
       "    <tr>\n",
       "      <th>29</th>\n",
       "      <td>2.116526</td>\n",
       "      <td>2.864423</td>\n",
       "      <td>0.917012</td>\n",
       "      <td>2.116526</td>\n",
       "      <td>2.864423</td>\n",
       "      <td>11.757292</td>\n",
       "      <td>8.203652</td>\n",
       "      <td>[1, 2, 3]</td>\n",
       "      <td>0.000096</td>\n",
       "      <td>False</td>\n",
       "      <td>dummy_constant</td>\n",
       "    </tr>\n",
       "  </tbody>\n",
       "</table>\n",
       "</div>"
      ],
      "text/plain": [
       "          x1        x2         s        y1        y2         c1        c2  \\\n",
       "1   1.000000  0.750000  0.000000  1.000000  0.750000   0.626888  0.312500   \n",
       "2   0.750000  1.000000  0.100000  0.750000  1.000000   0.626888  0.312500   \n",
       "3   0.506673  2.072945  0.252006  0.506673  2.072945   3.630690  2.474200   \n",
       "4   0.184669  0.251900  0.268237  0.184669  0.251900  -0.825755  0.160988   \n",
       "5   0.000000  0.000000  0.272360  0.000000  0.000000  -1.100000  0.500000   \n",
       "6   0.000000  0.000000  0.374162  0.000000  0.000000  -1.100000  0.500000   \n",
       "7   0.000000  0.000000  0.465764  0.000000  0.000000  -1.100000  0.500000   \n",
       "8   0.000000  0.000000  0.584090  0.000000  0.000000  -1.100000  0.500000   \n",
       "9   0.000000  0.000000  0.686611  0.000000  0.000000  -1.100000  0.500000   \n",
       "10  0.000000  0.000000  0.831625  0.000000  0.000000  -1.100000  0.500000   \n",
       "11  0.000000  0.000000  1.000000  0.000000  0.000000  -1.100000  0.500000   \n",
       "12  3.141590  0.000000  0.267407  3.141590  0.000000   8.769588  7.227998   \n",
       "13  0.000000  0.573141  1.000000  0.000000  0.573141  -0.771509  0.255350   \n",
       "14  0.539375  0.000000  1.000000  0.539375  0.000000  -0.809075  0.251550   \n",
       "15  0.559402  0.000000  0.365704  0.559402  0.000000  -0.787069  0.253529   \n",
       "16  0.236347  0.252067  1.000000  0.236347  0.252067  -0.967642  0.130983   \n",
       "17  1.088620  0.000000  1.000000  1.088620  0.000000   0.085093  0.596473   \n",
       "18  0.000000  0.710992  0.539916  0.000000  0.710992  -0.594490  0.294518   \n",
       "19  0.000000  1.057986  0.682163  0.000000  1.057986   0.019334  0.561348   \n",
       "20  0.719033  0.647911  1.000000  0.719033  0.647911  -0.130562  0.069853   \n",
       "21  0.307044  2.950769  0.333582  0.307044  2.950769   7.810116  6.043502   \n",
       "22  1.721614  2.301547  0.623576  1.721614  2.301547   7.326998  4.737913   \n",
       "23  3.037527  2.002319  0.805773  3.037527  2.002319  12.335354  8.696006   \n",
       "24  0.942116  0.000000  0.610981  0.942116  0.000000  -0.212417  0.445467   \n",
       "25  1.099774  2.784975  0.518925  1.099774  2.784975   7.869095  5.580840   \n",
       "26  1.065619  0.420829  1.000000  1.065619  0.420829   0.216141  0.326193   \n",
       "27  0.076527  1.742541  0.831888  0.076527  1.742541   1.965965  1.723239   \n",
       "28  2.030904  2.608037  0.182184  2.030904  2.608037   9.966252  6.787487   \n",
       "29  2.116526  2.864423  0.917012  2.116526  2.864423  11.757292  8.203652   \n",
       "\n",
       "   some_array  xopt_runtime  xopt_error               a  \n",
       "1   [1, 2, 3]      0.000076       False             NaN  \n",
       "2   [1, 2, 3]      0.000015       False             NaN  \n",
       "3   [1, 2, 3]      0.000047       False  dummy_constant  \n",
       "4   [1, 2, 3]      0.000043       False  dummy_constant  \n",
       "5   [1, 2, 3]      0.000044       False  dummy_constant  \n",
       "6   [1, 2, 3]      0.000042       False  dummy_constant  \n",
       "7   [1, 2, 3]      0.000044       False  dummy_constant  \n",
       "8   [1, 2, 3]      0.000041       False  dummy_constant  \n",
       "9   [1, 2, 3]      0.000045       False  dummy_constant  \n",
       "10  [1, 2, 3]      0.000042       False  dummy_constant  \n",
       "11  [1, 2, 3]      0.000039       False  dummy_constant  \n",
       "12  [1, 2, 3]      0.000047       False  dummy_constant  \n",
       "13  [1, 2, 3]      0.000042       False  dummy_constant  \n",
       "14  [1, 2, 3]      0.000042       False  dummy_constant  \n",
       "15  [1, 2, 3]      0.000040       False  dummy_constant  \n",
       "16  [1, 2, 3]      0.000045       False  dummy_constant  \n",
       "17  [1, 2, 3]      0.000047       False  dummy_constant  \n",
       "18  [1, 2, 3]      0.000044       False  dummy_constant  \n",
       "19  [1, 2, 3]      0.000043       False  dummy_constant  \n",
       "20  [1, 2, 3]      0.000045       False  dummy_constant  \n",
       "21  [1, 2, 3]      0.000041       False  dummy_constant  \n",
       "22  [1, 2, 3]      0.000042       False  dummy_constant  \n",
       "23  [1, 2, 3]      0.000044       False  dummy_constant  \n",
       "24  [1, 2, 3]      0.000039       False  dummy_constant  \n",
       "25  [1, 2, 3]      0.000042       False  dummy_constant  \n",
       "26  [1, 2, 3]      0.000040       False  dummy_constant  \n",
       "27  [1, 2, 3]      0.000048       False  dummy_constant  \n",
       "28  [1, 2, 3]      0.000043       False  dummy_constant  \n",
       "29  [1, 2, 3]      0.000096       False  dummy_constant  "
      ]
     },
     "execution_count": 4,
     "metadata": {},
     "output_type": "execute_result"
    }
   ],
   "source": [
    "X.data"
   ]
  },
  {
   "cell_type": "markdown",
   "metadata": {
    "collapsed": false
   },
   "source": [
    "## Plot results\n",
    "Here we plot the resulting observations in input space, colored by feasibility\n",
    "(neglecting the fact that\n",
    "these data points are at varying fidelities).\n"
   ]
  },
  {
   "cell_type": "code",
   "execution_count": 5,
   "metadata": {
    "collapsed": false,
    "execution": {
     "iopub.execute_input": "2023-07-06T19:22:15.088589Z",
     "iopub.status.busy": "2023-07-06T19:22:15.087370Z",
     "iopub.status.idle": "2023-07-06T19:22:15.745610Z",
     "shell.execute_reply": "2023-07-06T19:22:15.744786Z"
    }
   },
   "outputs": [
    {
     "data": {
      "image/png": "[encoded data removed]",
      "text/plain": [
       "<Figure size 640x480 with 1 Axes>"
      ]
     },
     "metadata": {},
     "output_type": "display_data"
    }
   ],
   "source": [
    "import matplotlib.pyplot as plt\n",
    "\n",
    "fig, ax = plt.subplots()\n",
    "\n",
    "theta = np.linspace(0, np.pi / 2)\n",
    "r = np.sqrt(1 + 0.1 * np.cos(16 * theta))\n",
    "x_1 = r * np.sin(theta)\n",
    "x_2_lower = r * np.cos(theta)\n",
    "x_2_upper = (0.5 - (x_1 - 0.5) ** 2) ** 0.5 + 0.5\n",
    "\n",
    "z = np.zeros_like(x_1)\n",
    "\n",
    "# ax2.plot(x_1, x_2_lower,'r')\n",
    "ax.fill_between(x_1, z, x_2_lower, fc=\"white\")\n",
    "circle = plt.Circle(\n",
    "    (0.5, 0.5), 0.5 ** 0.5, color=\"r\", alpha=0.25, zorder=0, label=\"Valid Region\"\n",
    ")\n",
    "ax.add_patch(circle)\n",
    "history = pd.concat(\n",
    "    [X.data, tnk_vocs.feasibility_data(X.data)], axis=1, ignore_index=False\n",
    ")\n",
    "\n",
    "ax.plot(*history[[\"x1\", \"x2\"]][history[\"feasible\"]].to_numpy().T, \".C1\")\n",
    "ax.plot(*history[[\"x1\", \"x2\"]][~history[\"feasible\"]].to_numpy().T, \".C2\")\n",
    "\n",
    "ax.set_xlim(0, 3.14)\n",
    "ax.set_ylim(0, 3.14)\n",
    "ax.set_xlabel(\"x1\")\n",
    "ax.set_ylabel(\"x2\")\n",
    "ax.set_aspect(\"equal\")"
   ]
  },
  {
   "cell_type": "markdown",
   "metadata": {
    "collapsed": false
   },
   "source": [
    "### Plot path through input space"
   ]
  },
  {
   "cell_type": "code",
   "execution_count": 6,
   "metadata": {
    "collapsed": false,
    "execution": {
     "iopub.execute_input": "2023-07-06T19:22:15.749432Z",
     "iopub.status.busy": "2023-07-06T19:22:15.748858Z",
     "iopub.status.idle": "2023-07-06T19:22:16.263621Z",
     "shell.execute_reply": "2023-07-06T19:22:16.262883Z"
    }
   },
   "outputs": [
    {
     "data": {
      "image/png": "[encoded data removed]",
      "text/plain": [
       "<Figure size 640x480 with 4 Axes>"
      ]
     },
     "metadata": {},
     "output_type": "display_data"
    }
   ],
   "source": [
    "ax = history.hist([\"x1\", \"x2\", \"s\"],bins=20)"
   ]
  },
  {
   "cell_type": "code",
   "execution_count": 7,
   "metadata": {
    "collapsed": false,
    "execution": {
     "iopub.execute_input": "2023-07-06T19:22:16.267549Z",
     "iopub.status.busy": "2023-07-06T19:22:16.266970Z",
     "iopub.status.idle": "2023-07-06T19:22:16.480662Z",
     "shell.execute_reply": "2023-07-06T19:22:16.479892Z"
    }
   },
   "outputs": [
    {
     "data": {
      "text/plain": [
       "<Axes: >"
      ]
     },
     "execution_count": 7,
     "metadata": {},
     "output_type": "execute_result"
    },
    {
     "data": {
      "image/png": "[encoded data removed]",
      "text/plain": [
       "<Figure size 640x480 with 1 Axes>"
      ]
     },
     "metadata": {},
     "output_type": "display_data"
    }
   ],
   "source": [
    "history.plot(y=[\"x1\", \"x2\", \"s\"])"
   ]
  },
  {
   "cell_type": "markdown",
   "metadata": {
    "collapsed": false
   },
   "source": [
    "## Plot the acqusisition function\n",
    "Here we plot the acquisition function at a small set of fidelities $[0, 0.5, 1.0]$."
   ]
  },
  {
   "cell_type": "code",
   "execution_count": 8,
   "metadata": {
    "collapsed": false,
    "execution": {
     "iopub.execute_input": "2023-07-06T19:22:16.484175Z",
     "iopub.status.busy": "2023-07-06T19:22:16.483832Z",
     "iopub.status.idle": "2023-07-06T19:22:39.007253Z",
     "shell.execute_reply": "2023-07-06T19:22:39.006299Z"
    }
   },
   "outputs": [
    {
     "name": "stdout",
     "output_type": "stream",
     "text": [
      "[[2.58521702 2.81774206]]\n"
     ]
    },
    {
     "data": {
      "text/plain": [
       "[<matplotlib.lines.Line2D at 0x7ff11aa90af0>]"
      ]
     },
     "execution_count": 8,
     "metadata": {},
     "output_type": "execute_result"
    },
    {
     "data": {
      "image/png": "[encoded data removed]",
      "text/plain": [
       "<Figure size 640x480 with 2 Axes>"
      ]
     },
     "metadata": {},
     "output_type": "display_data"
    },
    {
     "data": {
      "image/png": "[encoded data removed]",
      "text/plain": [
       "<Figure size 640x480 with 2 Axes>"
      ]
     },
     "metadata": {},
     "output_type": "display_data"
    },
    {
     "data": {
      "image/png": "[encoded data removed]",
      "text/plain": [
       "<Figure size 640x480 with 2 Axes>"
      ]
     },
     "metadata": {},
     "output_type": "display_data"
    }
   ],
   "source": [
    "# plot the acquisition function\n",
    "from xopt.generators.bayesian.objectives import feasibility\n",
    "\n",
    "bounds = generator.vocs.bounds\n",
    "model = generator.model\n",
    "\n",
    "# create mesh over non-fidelity parameters\n",
    "n = 100\n",
    "x = torch.linspace(*bounds.T[1], n)\n",
    "y = torch.linspace(*bounds.T[2], n)\n",
    "xx, yy = torch.meshgrid(x, y)\n",
    "\n",
    "# plot function(s) at a single fidelity parameter\n",
    "fidelities = [0.0, 0.5, 1.0]\n",
    "for fidelity in fidelities:\n",
    "    pts = torch.hstack([ele.reshape(-1, 1) for ele in (xx, yy)]).double()\n",
    "    pts = torch.cat((torch.ones(pts.shape[0],1)*fidelity, pts), dim=-1)\n",
    "\n",
    "    acq_func = generator.get_acquisition(model)\n",
    "    with torch.no_grad():\n",
    "        acq_pts = pts.unsqueeze(1)\n",
    "        acq = acq_func(acq_pts)\n",
    "\n",
    "        fig, ax = plt.subplots()\n",
    "        c = ax.pcolor(xx, yy, acq.reshape(n, n), cmap=\"Blues\")\n",
    "        fig.colorbar(c)\n",
    "        ax.set_title(f\"Acquisition function - s: {fidelity}\")\n",
    "\n",
    "        ax.plot(*history[[\"x1\", \"x2\"]][history[\"feasible\"]].to_numpy().T, \".C1\")\n",
    "        ax.plot(*history[[\"x1\", \"x2\"]][~history[\"feasible\"]].to_numpy().T, \".C2\")\n",
    "\n",
    "        ax.plot(*history[[\"x1\", \"x2\"]].to_numpy()[-1].T, \"+\")\n",
    "\n",
    "\n",
    "candidate = generator.generate(1)\n",
    "print(candidate[[\"x1\", \"x2\"]].to_numpy())\n",
    "ax.plot(*candidate[[\"x1\", \"x2\"]].to_numpy()[0], \"o\")"
   ]
  },
  {
   "cell_type": "code",
   "execution_count": 9,
   "metadata": {
    "collapsed": false,
    "execution": {
     "iopub.execute_input": "2023-07-06T19:22:39.013496Z",
     "iopub.status.busy": "2023-07-06T19:22:39.012948Z",
     "iopub.status.idle": "2023-07-06T19:22:39.022623Z",
     "shell.execute_reply": "2023-07-06T19:22:39.021995Z"
    }
   },
   "outputs": [
    {
     "data": {
      "text/plain": [
       "[('likelihood.noise_covar.raw_noise',\n",
       "  Parameter containing:\n",
       "  tensor([-25.6968], dtype=torch.float64, requires_grad=True)),\n",
       " ('mean_module.raw_constant',\n",
       "  Parameter containing:\n",
       "  tensor(-0.2026, dtype=torch.float64, requires_grad=True)),\n",
       " ('covar_module.raw_outputscale',\n",
       "  Parameter containing:\n",
       "  tensor(0.0693, dtype=torch.float64, requires_grad=True)),\n",
       " ('covar_module.base_kernel.raw_lengthscale',\n",
       "  Parameter containing:\n",
       "  tensor([[0.5531, 1.8459, 1.9547]], dtype=torch.float64, requires_grad=True))]"
      ]
     },
     "execution_count": 9,
     "metadata": {},
     "output_type": "execute_result"
    }
   ],
   "source": [
    "# examine lengthscale of the first objective\n",
    "list(model.models[0].named_parameters())"
   ]
  },
  {
   "cell_type": "code",
   "execution_count": 10,
   "metadata": {
    "collapsed": false,
    "execution": {
     "iopub.execute_input": "2023-07-06T19:22:39.025663Z",
     "iopub.status.busy": "2023-07-06T19:22:39.025194Z",
     "iopub.status.idle": "2023-07-06T19:22:39.061230Z",
     "shell.execute_reply": "2023-07-06T19:22:39.060463Z"
    }
   },
   "outputs": [],
   "source": [
    "# dump results to file\n",
    "X.options.dump_file = \"results.yaml\"\n",
    "X.dump_state()"
   ]
  },
  {
   "cell_type": "code",
   "execution_count": 10,
   "metadata": {
    "collapsed": false
   },
   "outputs": [],
   "source": []
  }
 ],
 "metadata": {
  "interpreter": {
   "hash": "72034539424920dfb606fe3b820b3f27dca0cbf1c69938110810ec4641e275b1"
  },
  "kernelspec": {
   "display_name": "Python 3 (ipykernel)",
   "language": "python",
   "name": "python3"
  },
  "language_info": {
   "codemirror_mode": {
    "name": "ipython",
    "version": 3
   },
   "file_extension": ".py",
   "mimetype": "text/x-python",
   "name": "python",
   "nbconvert_exporter": "python",
   "pygments_lexer": "ipython3",
   "version": "3.9.16"
  }
 },
 "nbformat": 4,
 "nbformat_minor": 4
}
