{
 "cells": [
  {
   "cell_type": "markdown",
   "metadata": {},
   "source": [
    "# Multi-fidelity Multi-objective Bayesian Optimization\n",
    "\n",
    "Here we attempt to solve for the constrained Pareto front of the TNK multi-objective\n",
    "optimization problem using Multi-Fidelity Multi-Objective Bayesian optimization. For\n",
    "simplicity we assume that the objective and constraint functions at lower fidelities is\n",
    "exactly equal to the functions at higher fidelities (this is obviously not a\n",
    "requirement, although for the best results lower fidelity calculations should\n",
    "correlate with higher fidelity ones). The algorithm should learn this relationship\n",
    "and use information gathered at lower fidelities to gather samples to improve the\n",
    "hypervolume of the Pareto front at the maximum fidelity.\n",
    "\n",
    "TNK function\n",
    "$n=2$ variables:\n",
    "$x_i \\in [0, \\pi], i=1,2$\n",
    "\n",
    "Objectives:\n",
    "- $f_i(x) = x_i$\n",
    "\n",
    "Constraints:\n",
    "- $g_1(x) = -x_1^2 -x_2^2 + 1 + 0.1 \\cos\\left(16 \\arctan \\frac{x_1}{x_2}\\right) \\le 0$\n",
    "- $g_2(x) = (x_1 - 1/2)^2 + (x_2-1/2)^2 \\le 0.5$"
   ]
  },
  {
   "cell_type": "code",
   "execution_count": 1,
   "metadata": {
    "ExecuteTime": {
     "end_time": "2023-09-20T14:37:08.616050600Z",
     "start_time": "2023-09-20T14:37:04.101720300Z"
    },
    "collapsed": false,
    "execution": {
     "iopub.execute_input": "2024-01-23T15:24:15.955569Z",
     "iopub.status.busy": "2024-01-23T15:24:15.955394Z",
     "iopub.status.idle": "2024-01-23T15:24:18.069142Z",
     "shell.execute_reply": "2024-01-23T15:24:18.068504Z"
    }
   },
   "outputs": [
    {
     "name": "stdout",
     "output_type": "stream",
     "text": [
      "{'variables': {'x1': [0.0, 3.14159], 'x2': [0.0, 3.14159]}, 'constraints': {'c1': ['GREATER_THAN', 0.0], 'c2': ['LESS_THAN', 0.5]}, 'objectives': {'y1': 'MINIMIZE', 'y2': 'MINIMIZE'}, 'constants': {'a': 'dummy_constant'}, 'observables': []}\n"
     ]
    }
   ],
   "source": [
    "# set values if testing\n",
    "import os\n",
    "SMOKE_TEST = os.environ.get(\"SMOKE_TEST\")\n",
    "N_MC_SAMPLES = 1 if SMOKE_TEST else 128\n",
    "NUM_RESTARTS = 1 if SMOKE_TEST else 20\n",
    "BUDGET = 0.02 if SMOKE_TEST else 10\n",
    "\n",
    "# Ignore all warnings\n",
    "import warnings\n",
    "warnings.filterwarnings(\"ignore\")\n",
    "\n",
    "import pandas as pd\n",
    "import numpy as np\n",
    "import torch\n",
    "\n",
    "from xopt import Xopt, Evaluator\n",
    "from xopt.generators.bayesian import MultiFidelityGenerator\n",
    "from xopt.resources.test_functions.tnk import evaluate_TNK, tnk_vocs\n",
    "\n",
    "evaluator = Evaluator(function=evaluate_TNK)\n",
    "print(tnk_vocs.dict())"
   ]
  },
  {
   "cell_type": "markdown",
   "metadata": {
    "collapsed": false
   },
   "source": [
    "## Set up the Multi-Fidelity Multi-objective optimization algorithm\n",
    "Here we create the Multi-Fidelity generator object which can solve both single and\n",
    "multi-objective optimization problems depending on the number of objectives in VOCS.\n",
    "We specify a cost function as a function of fidelity parameter $s=[0,1]$ as $C(s) =\n",
    "s^{3.5}$ as an example from a real life multi-fidelity simulation problem."
   ]
  },
  {
   "cell_type": "code",
   "execution_count": 2,
   "metadata": {
    "ExecuteTime": {
     "end_time": "2023-09-20T14:37:08.660042Z",
     "start_time": "2023-09-20T14:37:08.617041800Z"
    },
    "collapsed": false,
    "execution": {
     "iopub.execute_input": "2024-01-23T15:24:18.099057Z",
     "iopub.status.busy": "2024-01-23T15:24:18.098489Z",
     "iopub.status.idle": "2024-01-23T15:24:18.114300Z",
     "shell.execute_reply": "2024-01-23T15:24:18.113741Z"
    }
   },
   "outputs": [
    {
     "data": {
      "text/plain": [
       "\n",
       "            Xopt\n",
       "________________________________\n",
       "Version: 0+untagged.1.gf180cd8\n",
       "Data size: 2\n",
       "Config as YAML:\n",
       "dump_file: null\n",
       "evaluator:\n",
       "  function: xopt.resources.test_functions.tnk.evaluate_TNK\n",
       "  function_kwargs:\n",
       "    raise_probability: 0\n",
       "    random_sleep: 0\n",
       "    sleep: 0\n",
       "  max_workers: 1\n",
       "  vectorized: false\n",
       "generator:\n",
       "  computation_time: null\n",
       "  fixed_features: null\n",
       "  gp_constructor:\n",
       "    covar_modules: {}\n",
       "    mean_modules: {}\n",
       "    name: standard\n",
       "    trainable_mean_keys: []\n",
       "    use_low_noise_prior: true\n",
       "  log_transform_acquisition_function: false\n",
       "  max_travel_distances: null\n",
       "  model: null\n",
       "  n_candidates: 1\n",
       "  n_interpolate_points: null\n",
       "  n_monte_carlo_samples: 128\n",
       "  name: multi_fidelity\n",
       "  numerical_optimizer:\n",
       "    max_iter: 2000\n",
       "    max_time: null\n",
       "    n_restarts: 20\n",
       "    name: LBFGS\n",
       "  reference_point:\n",
       "    s: 0.0\n",
       "    y1: 1.5\n",
       "    y2: 1.5\n",
       "  supports_batch_generation: true\n",
       "  supports_multi_objective: true\n",
       "  turbo_controller: null\n",
       "  use_cuda: false\n",
       "max_evaluations: null\n",
       "serialize_inline: false\n",
       "serialize_torch: false\n",
       "strict: true\n",
       "vocs:\n",
       "  constants:\n",
       "    a: dummy_constant\n",
       "  constraints: {}\n",
       "  objectives:\n",
       "    s: MAXIMIZE\n",
       "    y1: MINIMIZE\n",
       "    y2: MINIMIZE\n",
       "  observables: []\n",
       "  variables:\n",
       "    s:\n",
       "    - 0\n",
       "    - 1\n",
       "    x1:\n",
       "    - 0.0\n",
       "    - 3.14159\n",
       "    x2:\n",
       "    - 0.0\n",
       "    - 3.14159\n"
      ]
     },
     "execution_count": 2,
     "metadata": {},
     "output_type": "execute_result"
    }
   ],
   "source": [
    "from copy import deepcopy\n",
    "my_vocs = deepcopy(tnk_vocs)\n",
    "my_vocs.constraints = {}\n",
    "generator = MultiFidelityGenerator(vocs=my_vocs, reference_point = {\"y1\":1.5,\"y2\":1.5})\n",
    "\n",
    "# set cost function according to approximate scaling of laser plasma accelerator\n",
    "# problem, see https://journals.aps.org/prresearch/abstract/10.1103/PhysRevResearch.5.013063\n",
    "generator.cost_function = lambda s: s**3.5\n",
    "generator.numerical_optimizer.n_restarts = NUM_RESTARTS\n",
    "generator.n_monte_carlo_samples = N_MC_SAMPLES\n",
    "\n",
    "X = Xopt(generator=generator, evaluator=evaluator, vocs=my_vocs)\n",
    "\n",
    "# evaluate at some explicit initial points\n",
    "X.evaluate_data(pd.DataFrame({\"x1\":[1.0, 0.75],\"x2\":[0.75, 1.0],\"s\":[0.0,0.1]}))\n",
    "\n",
    "X"
   ]
  },
  {
   "cell_type": "markdown",
   "metadata": {
    "collapsed": false
   },
   "source": [
    "## Run optimization routine\n",
    "Instead of ending the optimization routine after an explict number of samples we end\n",
    "optimization once a given optimization budget has been exceeded. WARNING: This will\n",
    "slightly exceed the given budget"
   ]
  },
  {
   "cell_type": "code",
   "execution_count": 3,
   "metadata": {
    "ExecuteTime": {
     "end_time": "2023-09-20T14:37:14.657062800Z",
     "start_time": "2023-09-20T14:37:08.648042200Z"
    },
    "collapsed": false,
    "execution": {
     "iopub.execute_input": "2024-01-23T15:24:18.116759Z",
     "iopub.status.busy": "2024-01-23T15:24:18.116304Z",
     "iopub.status.idle": "2024-01-23T15:25:26.576808Z",
     "shell.execute_reply": "2024-01-23T15:25:26.576199Z"
    }
   },
   "outputs": [
    {
     "name": "stdout",
     "output_type": "stream",
     "text": [
      "n_samples: 3 budget used: 0.00841 hypervolume: 0.05805\n"
     ]
    },
    {
     "name": "stdout",
     "output_type": "stream",
     "text": [
      "n_samples: 4 budget used: 0.01499 hypervolume: 0.05805\n"
     ]
    },
    {
     "name": "stdout",
     "output_type": "stream",
     "text": [
      "n_samples: 5 budget used: 0.02502 hypervolume: 0.3906\n"
     ]
    },
    {
     "name": "stdout",
     "output_type": "stream",
     "text": [
      "n_samples: 6 budget used: 0.03519 hypervolume: 0.6064\n"
     ]
    },
    {
     "name": "stdout",
     "output_type": "stream",
     "text": [
      "n_samples: 7 budget used: 0.06281 hypervolume: 0.8069\n"
     ]
    },
    {
     "name": "stdout",
     "output_type": "stream",
     "text": [
      "n_samples: 8 budget used: 0.1008 hypervolume: 0.8657\n"
     ]
    },
    {
     "name": "stdout",
     "output_type": "stream",
     "text": [
      "n_samples: 9 budget used: 0.1687 hypervolume: 1.043\n"
     ]
    },
    {
     "name": "stdout",
     "output_type": "stream",
     "text": [
      "n_samples: 10 budget used: 0.2951 hypervolume: 1.246\n"
     ]
    },
    {
     "name": "stdout",
     "output_type": "stream",
     "text": [
      "n_samples: 11 budget used: 0.3051 hypervolume: 1.246\n"
     ]
    },
    {
     "name": "stdout",
     "output_type": "stream",
     "text": [
      "n_samples: 12 budget used: 0.5873 hypervolume: 1.567\n"
     ]
    },
    {
     "name": "stdout",
     "output_type": "stream",
     "text": [
      "n_samples: 13 budget used: 1.168 hypervolume: 1.927\n"
     ]
    },
    {
     "name": "stdout",
     "output_type": "stream",
     "text": [
      "n_samples: 14 budget used: 2.168 hypervolume: 2.25\n"
     ]
    },
    {
     "name": "stdout",
     "output_type": "stream",
     "text": [
      "n_samples: 15 budget used: 3.168 hypervolume: 2.25\n"
     ]
    },
    {
     "name": "stdout",
     "output_type": "stream",
     "text": [
      "n_samples: 16 budget used: 4.168 hypervolume: 2.25\n"
     ]
    },
    {
     "name": "stdout",
     "output_type": "stream",
     "text": [
      "n_samples: 17 budget used: 5.168 hypervolume: 2.25\n"
     ]
    },
    {
     "name": "stdout",
     "output_type": "stream",
     "text": [
      "n_samples: 18 budget used: 6.168 hypervolume: 2.25\n"
     ]
    },
    {
     "name": "stdout",
     "output_type": "stream",
     "text": [
      "n_samples: 19 budget used: 7.168 hypervolume: 2.25\n"
     ]
    },
    {
     "name": "stdout",
     "output_type": "stream",
     "text": [
      "n_samples: 20 budget used: 8.168 hypervolume: 2.25\n"
     ]
    },
    {
     "name": "stdout",
     "output_type": "stream",
     "text": [
      "n_samples: 21 budget used: 8.307 hypervolume: 2.25\n"
     ]
    },
    {
     "name": "stdout",
     "output_type": "stream",
     "text": [
      "n_samples: 22 budget used: 8.316 hypervolume: 2.25\n"
     ]
    },
    {
     "name": "stdout",
     "output_type": "stream",
     "text": [
      "n_samples: 23 budget used: 9.109 hypervolume: 2.25\n"
     ]
    },
    {
     "name": "stdout",
     "output_type": "stream",
     "text": [
      "n_samples: 24 budget used: 9.304 hypervolume: 2.25\n"
     ]
    },
    {
     "name": "stdout",
     "output_type": "stream",
     "text": [
      "n_samples: 25 budget used: 10.3 hypervolume: 2.25\n"
     ]
    }
   ],
   "source": [
    "budget = BUDGET\n",
    "while X.generator.calculate_total_cost() < budget:\n",
    "    X.step()\n",
    "    print(f\"n_samples: {len(X.data)} \"\n",
    "          f\"budget used: {X.generator.calculate_total_cost():.4} \"\n",
    "          f\"hypervolume: {X.generator.calculate_hypervolume():.4}\")"
   ]
  },
  {
   "cell_type": "markdown",
   "metadata": {
    "collapsed": false
   },
   "source": [
    "## Show results"
   ]
  },
  {
   "cell_type": "code",
   "execution_count": 4,
   "metadata": {
    "ExecuteTime": {
     "end_time": "2023-09-20T14:37:14.684015600Z",
     "start_time": "2023-09-20T14:37:14.647063400Z"
    },
    "collapsed": false,
    "execution": {
     "iopub.execute_input": "2024-01-23T15:25:26.579438Z",
     "iopub.status.busy": "2024-01-23T15:25:26.579069Z",
     "iopub.status.idle": "2024-01-23T15:25:26.592340Z",
     "shell.execute_reply": "2024-01-23T15:25:26.591812Z"
    }
   },
   "outputs": [
    {
     "data": {
      "text/html": [
       "<div>\n",
       "<style scoped>\n",
       "    .dataframe tbody tr th:only-of-type {\n",
       "        vertical-align: middle;\n",
       "    }\n",
       "\n",
       "    .dataframe tbody tr th {\n",
       "        vertical-align: top;\n",
       "    }\n",
       "\n",
       "    .dataframe thead th {\n",
       "        text-align: right;\n",
       "    }\n",
       "</style>\n",
       "<table border=\"1\" class=\"dataframe\">\n",
       "  <thead>\n",
       "    <tr style=\"text-align: right;\">\n",
       "      <th></th>\n",
       "      <th>x1</th>\n",
       "      <th>x2</th>\n",
       "      <th>s</th>\n",
       "      <th>a</th>\n",
       "      <th>y1</th>\n",
       "      <th>y2</th>\n",
       "      <th>c1</th>\n",
       "      <th>c2</th>\n",
       "      <th>xopt_runtime</th>\n",
       "      <th>xopt_error</th>\n",
       "    </tr>\n",
       "  </thead>\n",
       "  <tbody>\n",
       "    <tr>\n",
       "      <th>0</th>\n",
       "      <td>1.000000</td>\n",
       "      <td>0.750000</td>\n",
       "      <td>0.000000</td>\n",
       "      <td>dummy_constant</td>\n",
       "      <td>1.000000</td>\n",
       "      <td>0.750000</td>\n",
       "      <td>0.626888</td>\n",
       "      <td>0.312500</td>\n",
       "      <td>0.000045</td>\n",
       "      <td>False</td>\n",
       "    </tr>\n",
       "    <tr>\n",
       "      <th>1</th>\n",
       "      <td>0.750000</td>\n",
       "      <td>1.000000</td>\n",
       "      <td>0.100000</td>\n",
       "      <td>dummy_constant</td>\n",
       "      <td>0.750000</td>\n",
       "      <td>1.000000</td>\n",
       "      <td>0.626888</td>\n",
       "      <td>0.312500</td>\n",
       "      <td>0.000012</td>\n",
       "      <td>False</td>\n",
       "    </tr>\n",
       "    <tr>\n",
       "      <th>2</th>\n",
       "      <td>0.035893</td>\n",
       "      <td>1.430264</td>\n",
       "      <td>0.252535</td>\n",
       "      <td>dummy_constant</td>\n",
       "      <td>0.035893</td>\n",
       "      <td>1.430264</td>\n",
       "      <td>0.954895</td>\n",
       "      <td>1.080787</td>\n",
       "      <td>0.000023</td>\n",
       "      <td>False</td>\n",
       "    </tr>\n",
       "    <tr>\n",
       "      <th>3</th>\n",
       "      <td>0.000000</td>\n",
       "      <td>3.139378</td>\n",
       "      <td>0.238070</td>\n",
       "      <td>dummy_constant</td>\n",
       "      <td>0.000000</td>\n",
       "      <td>3.139378</td>\n",
       "      <td>8.755692</td>\n",
       "      <td>7.216314</td>\n",
       "      <td>0.000024</td>\n",
       "      <td>False</td>\n",
       "    </tr>\n",
       "    <tr>\n",
       "      <th>4</th>\n",
       "      <td>0.000000</td>\n",
       "      <td>0.530143</td>\n",
       "      <td>0.268487</td>\n",
       "      <td>dummy_constant</td>\n",
       "      <td>0.000000</td>\n",
       "      <td>0.530143</td>\n",
       "      <td>-0.818948</td>\n",
       "      <td>0.250909</td>\n",
       "      <td>0.000024</td>\n",
       "      <td>False</td>\n",
       "    </tr>\n",
       "    <tr>\n",
       "      <th>5</th>\n",
       "      <td>0.000000</td>\n",
       "      <td>0.000000</td>\n",
       "      <td>0.269525</td>\n",
       "      <td>dummy_constant</td>\n",
       "      <td>0.000000</td>\n",
       "      <td>0.000000</td>\n",
       "      <td>-1.100000</td>\n",
       "      <td>0.500000</td>\n",
       "      <td>0.000022</td>\n",
       "      <td>False</td>\n",
       "    </tr>\n",
       "    <tr>\n",
       "      <th>6</th>\n",
       "      <td>0.000000</td>\n",
       "      <td>0.000000</td>\n",
       "      <td>0.358634</td>\n",
       "      <td>dummy_constant</td>\n",
       "      <td>0.000000</td>\n",
       "      <td>0.000000</td>\n",
       "      <td>-1.100000</td>\n",
       "      <td>0.500000</td>\n",
       "      <td>0.000024</td>\n",
       "      <td>False</td>\n",
       "    </tr>\n",
       "    <tr>\n",
       "      <th>7</th>\n",
       "      <td>0.352936</td>\n",
       "      <td>0.000000</td>\n",
       "      <td>0.392788</td>\n",
       "      <td>dummy_constant</td>\n",
       "      <td>0.352936</td>\n",
       "      <td>0.000000</td>\n",
       "      <td>-0.975436</td>\n",
       "      <td>0.271628</td>\n",
       "      <td>0.000025</td>\n",
       "      <td>False</td>\n",
       "    </tr>\n",
       "    <tr>\n",
       "      <th>8</th>\n",
       "      <td>0.000000</td>\n",
       "      <td>0.000000</td>\n",
       "      <td>0.463742</td>\n",
       "      <td>dummy_constant</td>\n",
       "      <td>0.000000</td>\n",
       "      <td>0.000000</td>\n",
       "      <td>-1.100000</td>\n",
       "      <td>0.500000</td>\n",
       "      <td>0.000026</td>\n",
       "      <td>False</td>\n",
       "    </tr>\n",
       "    <tr>\n",
       "      <th>9</th>\n",
       "      <td>0.000000</td>\n",
       "      <td>0.000000</td>\n",
       "      <td>0.553825</td>\n",
       "      <td>dummy_constant</td>\n",
       "      <td>0.000000</td>\n",
       "      <td>0.000000</td>\n",
       "      <td>-1.100000</td>\n",
       "      <td>0.500000</td>\n",
       "      <td>0.000025</td>\n",
       "      <td>False</td>\n",
       "    </tr>\n",
       "    <tr>\n",
       "      <th>10</th>\n",
       "      <td>3.141590</td>\n",
       "      <td>0.000000</td>\n",
       "      <td>0.268270</td>\n",
       "      <td>dummy_constant</td>\n",
       "      <td>3.141590</td>\n",
       "      <td>0.000000</td>\n",
       "      <td>8.769588</td>\n",
       "      <td>7.227998</td>\n",
       "      <td>0.000025</td>\n",
       "      <td>False</td>\n",
       "    </tr>\n",
       "    <tr>\n",
       "      <th>11</th>\n",
       "      <td>0.000000</td>\n",
       "      <td>0.000000</td>\n",
       "      <td>0.696621</td>\n",
       "      <td>dummy_constant</td>\n",
       "      <td>0.000000</td>\n",
       "      <td>0.000000</td>\n",
       "      <td>-1.100000</td>\n",
       "      <td>0.500000</td>\n",
       "      <td>0.000025</td>\n",
       "      <td>False</td>\n",
       "    </tr>\n",
       "    <tr>\n",
       "      <th>12</th>\n",
       "      <td>0.000000</td>\n",
       "      <td>0.000000</td>\n",
       "      <td>0.856263</td>\n",
       "      <td>dummy_constant</td>\n",
       "      <td>0.000000</td>\n",
       "      <td>0.000000</td>\n",
       "      <td>-1.100000</td>\n",
       "      <td>0.500000</td>\n",
       "      <td>0.000050</td>\n",
       "      <td>False</td>\n",
       "    </tr>\n",
       "    <tr>\n",
       "      <th>13</th>\n",
       "      <td>0.000000</td>\n",
       "      <td>0.000000</td>\n",
       "      <td>1.000000</td>\n",
       "      <td>dummy_constant</td>\n",
       "      <td>0.000000</td>\n",
       "      <td>0.000000</td>\n",
       "      <td>-1.100000</td>\n",
       "      <td>0.500000</td>\n",
       "      <td>0.000025</td>\n",
       "      <td>False</td>\n",
       "    </tr>\n",
       "    <tr>\n",
       "      <th>14</th>\n",
       "      <td>0.000000</td>\n",
       "      <td>0.648796</td>\n",
       "      <td>1.000000</td>\n",
       "      <td>dummy_constant</td>\n",
       "      <td>0.000000</td>\n",
       "      <td>0.648796</td>\n",
       "      <td>-0.679063</td>\n",
       "      <td>0.272140</td>\n",
       "      <td>0.000024</td>\n",
       "      <td>False</td>\n",
       "    </tr>\n",
       "    <tr>\n",
       "      <th>15</th>\n",
       "      <td>0.583338</td>\n",
       "      <td>0.000000</td>\n",
       "      <td>1.000000</td>\n",
       "      <td>dummy_constant</td>\n",
       "      <td>0.583338</td>\n",
       "      <td>0.000000</td>\n",
       "      <td>-0.759717</td>\n",
       "      <td>0.256945</td>\n",
       "      <td>0.000026</td>\n",
       "      <td>False</td>\n",
       "    </tr>\n",
       "    <tr>\n",
       "      <th>16</th>\n",
       "      <td>0.262695</td>\n",
       "      <td>0.000000</td>\n",
       "      <td>1.000000</td>\n",
       "      <td>dummy_constant</td>\n",
       "      <td>0.262695</td>\n",
       "      <td>0.000000</td>\n",
       "      <td>-1.030991</td>\n",
       "      <td>0.306314</td>\n",
       "      <td>0.000026</td>\n",
       "      <td>False</td>\n",
       "    </tr>\n",
       "    <tr>\n",
       "      <th>17</th>\n",
       "      <td>0.359301</td>\n",
       "      <td>0.372205</td>\n",
       "      <td>1.000000</td>\n",
       "      <td>dummy_constant</td>\n",
       "      <td>0.359301</td>\n",
       "      <td>0.372205</td>\n",
       "      <td>-0.828411</td>\n",
       "      <td>0.036128</td>\n",
       "      <td>0.000027</td>\n",
       "      <td>False</td>\n",
       "    </tr>\n",
       "    <tr>\n",
       "      <th>18</th>\n",
       "      <td>1.115429</td>\n",
       "      <td>0.000000</td>\n",
       "      <td>1.000000</td>\n",
       "      <td>dummy_constant</td>\n",
       "      <td>1.115429</td>\n",
       "      <td>0.000000</td>\n",
       "      <td>0.144181</td>\n",
       "      <td>0.628752</td>\n",
       "      <td>0.000026</td>\n",
       "      <td>False</td>\n",
       "    </tr>\n",
       "    <tr>\n",
       "      <th>19</th>\n",
       "      <td>0.810626</td>\n",
       "      <td>0.867787</td>\n",
       "      <td>1.000000</td>\n",
       "      <td>dummy_constant</td>\n",
       "      <td>0.810626</td>\n",
       "      <td>0.867787</td>\n",
       "      <td>0.324639</td>\n",
       "      <td>0.231756</td>\n",
       "      <td>0.000026</td>\n",
       "      <td>False</td>\n",
       "    </tr>\n",
       "    <tr>\n",
       "      <th>20</th>\n",
       "      <td>0.905237</td>\n",
       "      <td>0.000000</td>\n",
       "      <td>0.568364</td>\n",
       "      <td>dummy_constant</td>\n",
       "      <td>0.905237</td>\n",
       "      <td>0.000000</td>\n",
       "      <td>-0.280546</td>\n",
       "      <td>0.414217</td>\n",
       "      <td>0.000026</td>\n",
       "      <td>False</td>\n",
       "    </tr>\n",
       "    <tr>\n",
       "      <th>21</th>\n",
       "      <td>0.922772</td>\n",
       "      <td>0.000000</td>\n",
       "      <td>0.264521</td>\n",
       "      <td>dummy_constant</td>\n",
       "      <td>0.922772</td>\n",
       "      <td>0.000000</td>\n",
       "      <td>-0.248491</td>\n",
       "      <td>0.428736</td>\n",
       "      <td>0.000025</td>\n",
       "      <td>False</td>\n",
       "    </tr>\n",
       "    <tr>\n",
       "      <th>22</th>\n",
       "      <td>1.326468</td>\n",
       "      <td>0.401126</td>\n",
       "      <td>0.935921</td>\n",
       "      <td>dummy_constant</td>\n",
       "      <td>1.326468</td>\n",
       "      <td>0.401126</td>\n",
       "      <td>0.921804</td>\n",
       "      <td>0.692825</td>\n",
       "      <td>0.000026</td>\n",
       "      <td>False</td>\n",
       "    </tr>\n",
       "    <tr>\n",
       "      <th>23</th>\n",
       "      <td>2.408666</td>\n",
       "      <td>2.347453</td>\n",
       "      <td>0.626881</td>\n",
       "      <td>dummy_constant</td>\n",
       "      <td>2.408666</td>\n",
       "      <td>2.347453</td>\n",
       "      <td>10.214318</td>\n",
       "      <td>7.056087</td>\n",
       "      <td>0.000026</td>\n",
       "      <td>False</td>\n",
       "    </tr>\n",
       "    <tr>\n",
       "      <th>24</th>\n",
       "      <td>0.000000</td>\n",
       "      <td>1.157862</td>\n",
       "      <td>1.000000</td>\n",
       "      <td>dummy_constant</td>\n",
       "      <td>0.000000</td>\n",
       "      <td>1.157862</td>\n",
       "      <td>0.240645</td>\n",
       "      <td>0.682783</td>\n",
       "      <td>0.000025</td>\n",
       "      <td>False</td>\n",
       "    </tr>\n",
       "  </tbody>\n",
       "</table>\n",
       "</div>"
      ],
      "text/plain": [
       "          x1        x2         s               a        y1        y2  \\\n",
       "0   1.000000  0.750000  0.000000  dummy_constant  1.000000  0.750000   \n",
       "1   0.750000  1.000000  0.100000  dummy_constant  0.750000  1.000000   \n",
       "2   0.035893  1.430264  0.252535  dummy_constant  0.035893  1.430264   \n",
       "3   0.000000  3.139378  0.238070  dummy_constant  0.000000  3.139378   \n",
       "4   0.000000  0.530143  0.268487  dummy_constant  0.000000  0.530143   \n",
       "5   0.000000  0.000000  0.269525  dummy_constant  0.000000  0.000000   \n",
       "6   0.000000  0.000000  0.358634  dummy_constant  0.000000  0.000000   \n",
       "7   0.352936  0.000000  0.392788  dummy_constant  0.352936  0.000000   \n",
       "8   0.000000  0.000000  0.463742  dummy_constant  0.000000  0.000000   \n",
       "9   0.000000  0.000000  0.553825  dummy_constant  0.000000  0.000000   \n",
       "10  3.141590  0.000000  0.268270  dummy_constant  3.141590  0.000000   \n",
       "11  0.000000  0.000000  0.696621  dummy_constant  0.000000  0.000000   \n",
       "12  0.000000  0.000000  0.856263  dummy_constant  0.000000  0.000000   \n",
       "13  0.000000  0.000000  1.000000  dummy_constant  0.000000  0.000000   \n",
       "14  0.000000  0.648796  1.000000  dummy_constant  0.000000  0.648796   \n",
       "15  0.583338  0.000000  1.000000  dummy_constant  0.583338  0.000000   \n",
       "16  0.262695  0.000000  1.000000  dummy_constant  0.262695  0.000000   \n",
       "17  0.359301  0.372205  1.000000  dummy_constant  0.359301  0.372205   \n",
       "18  1.115429  0.000000  1.000000  dummy_constant  1.115429  0.000000   \n",
       "19  0.810626  0.867787  1.000000  dummy_constant  0.810626  0.867787   \n",
       "20  0.905237  0.000000  0.568364  dummy_constant  0.905237  0.000000   \n",
       "21  0.922772  0.000000  0.264521  dummy_constant  0.922772  0.000000   \n",
       "22  1.326468  0.401126  0.935921  dummy_constant  1.326468  0.401126   \n",
       "23  2.408666  2.347453  0.626881  dummy_constant  2.408666  2.347453   \n",
       "24  0.000000  1.157862  1.000000  dummy_constant  0.000000  1.157862   \n",
       "\n",
       "           c1        c2  xopt_runtime  xopt_error  \n",
       "0    0.626888  0.312500      0.000045       False  \n",
       "1    0.626888  0.312500      0.000012       False  \n",
       "2    0.954895  1.080787      0.000023       False  \n",
       "3    8.755692  7.216314      0.000024       False  \n",
       "4   -0.818948  0.250909      0.000024       False  \n",
       "5   -1.100000  0.500000      0.000022       False  \n",
       "6   -1.100000  0.500000      0.000024       False  \n",
       "7   -0.975436  0.271628      0.000025       False  \n",
       "8   -1.100000  0.500000      0.000026       False  \n",
       "9   -1.100000  0.500000      0.000025       False  \n",
       "10   8.769588  7.227998      0.000025       False  \n",
       "11  -1.100000  0.500000      0.000025       False  \n",
       "12  -1.100000  0.500000      0.000050       False  \n",
       "13  -1.100000  0.500000      0.000025       False  \n",
       "14  -0.679063  0.272140      0.000024       False  \n",
       "15  -0.759717  0.256945      0.000026       False  \n",
       "16  -1.030991  0.306314      0.000026       False  \n",
       "17  -0.828411  0.036128      0.000027       False  \n",
       "18   0.144181  0.628752      0.000026       False  \n",
       "19   0.324639  0.231756      0.000026       False  \n",
       "20  -0.280546  0.414217      0.000026       False  \n",
       "21  -0.248491  0.428736      0.000025       False  \n",
       "22   0.921804  0.692825      0.000026       False  \n",
       "23  10.214318  7.056087      0.000026       False  \n",
       "24   0.240645  0.682783      0.000025       False  "
      ]
     },
     "execution_count": 4,
     "metadata": {},
     "output_type": "execute_result"
    }
   ],
   "source": [
    "X.data"
   ]
  },
  {
   "cell_type": "markdown",
   "metadata": {
    "collapsed": false
   },
   "source": [
    "## Plot results\n",
    "Here we plot the resulting observations in input space, colored by feasibility\n",
    "(neglecting the fact that\n",
    "these data points are at varying fidelities).\n"
   ]
  },
  {
   "cell_type": "code",
   "execution_count": 5,
   "metadata": {
    "ExecuteTime": {
     "end_time": "2023-09-20T14:37:15.292777300Z",
     "start_time": "2023-09-20T14:37:14.679967200Z"
    },
    "collapsed": false,
    "execution": {
     "iopub.execute_input": "2024-01-23T15:25:26.594909Z",
     "iopub.status.busy": "2024-01-23T15:25:26.594464Z",
     "iopub.status.idle": "2024-01-23T15:25:27.057149Z",
     "shell.execute_reply": "2024-01-23T15:25:27.056473Z"
    }
   },
   "outputs": [
    {
     "data": {
      "image/png": "[encoded data removed]",
      "text/plain": [
       "<Figure size 640x480 with 1 Axes>"
      ]
     },
     "metadata": {},
     "output_type": "display_data"
    }
   ],
   "source": [
    "import matplotlib.pyplot as plt\n",
    "\n",
    "fig, ax = plt.subplots()\n",
    "\n",
    "theta = np.linspace(0, np.pi / 2)\n",
    "r = np.sqrt(1 + 0.1 * np.cos(16 * theta))\n",
    "x_1 = r * np.sin(theta)\n",
    "x_2_lower = r * np.cos(theta)\n",
    "x_2_upper = (0.5 - (x_1 - 0.5) ** 2) ** 0.5 + 0.5\n",
    "\n",
    "z = np.zeros_like(x_1)\n",
    "\n",
    "# ax2.plot(x_1, x_2_lower,'r')\n",
    "ax.fill_between(x_1, z, x_2_lower, fc=\"white\")\n",
    "circle = plt.Circle(\n",
    "    (0.5, 0.5), 0.5 ** 0.5, color=\"r\", alpha=0.25, zorder=0, label=\"Valid Region\"\n",
    ")\n",
    "ax.add_patch(circle)\n",
    "history = pd.concat(\n",
    "    [X.data, tnk_vocs.feasibility_data(X.data)], axis=1, ignore_index=False\n",
    ")\n",
    "\n",
    "ax.plot(*history[[\"x1\", \"x2\"]][history[\"feasible\"]].to_numpy().T, \".C1\")\n",
    "ax.plot(*history[[\"x1\", \"x2\"]][~history[\"feasible\"]].to_numpy().T, \".C2\")\n",
    "\n",
    "ax.set_xlim(0, 3.14)\n",
    "ax.set_ylim(0, 3.14)\n",
    "ax.set_xlabel(\"x1\")\n",
    "ax.set_ylabel(\"x2\")\n",
    "ax.set_aspect(\"equal\")"
   ]
  },
  {
   "cell_type": "markdown",
   "metadata": {
    "collapsed": false
   },
   "source": [
    "### Plot path through input space"
   ]
  },
  {
   "cell_type": "code",
   "execution_count": 6,
   "metadata": {
    "ExecuteTime": {
     "end_time": "2023-09-20T14:37:15.607777300Z",
     "start_time": "2023-09-20T14:37:15.288777300Z"
    },
    "collapsed": false,
    "execution": {
     "iopub.execute_input": "2024-01-23T15:25:27.059887Z",
     "iopub.status.busy": "2024-01-23T15:25:27.059389Z",
     "iopub.status.idle": "2024-01-23T15:25:27.392122Z",
     "shell.execute_reply": "2024-01-23T15:25:27.391535Z"
    }
   },
   "outputs": [
    {
     "data": {
      "image/png": "[encoded data removed]",
      "text/plain": [
       "<Figure size 640x480 with 4 Axes>"
      ]
     },
     "metadata": {},
     "output_type": "display_data"
    }
   ],
   "source": [
    "ax = history.hist([\"x1\", \"x2\", \"s\"],bins=20)"
   ]
  },
  {
   "cell_type": "code",
   "execution_count": 7,
   "metadata": {
    "ExecuteTime": {
     "end_time": "2023-09-20T14:37:15.768777Z",
     "start_time": "2023-09-20T14:37:15.606777300Z"
    },
    "collapsed": false,
    "execution": {
     "iopub.execute_input": "2024-01-23T15:25:27.394629Z",
     "iopub.status.busy": "2024-01-23T15:25:27.394262Z",
     "iopub.status.idle": "2024-01-23T15:25:27.527323Z",
     "shell.execute_reply": "2024-01-23T15:25:27.526706Z"
    }
   },
   "outputs": [
    {
     "data": {
      "text/plain": [
       "<Axes: >"
      ]
     },
     "execution_count": 7,
     "metadata": {},
     "output_type": "execute_result"
    },
    {
     "data": {
      "image/png": "[encoded data removed]",
      "text/plain": [
       "<Figure size 640x480 with 1 Axes>"
      ]
     },
     "metadata": {},
     "output_type": "display_data"
    }
   ],
   "source": [
    "history.plot(y=[\"x1\", \"x2\", \"s\"])"
   ]
  },
  {
   "cell_type": "markdown",
   "metadata": {
    "collapsed": false
   },
   "source": [
    "## Plot the acqusisition function\n",
    "Here we plot the acquisition function at a small set of fidelities $[0, 0.5, 1.0]$."
   ]
  },
  {
   "cell_type": "code",
   "execution_count": 8,
   "metadata": {
    "ExecuteTime": {
     "end_time": "2023-09-20T14:37:45.334189800Z",
     "start_time": "2023-09-20T14:37:41.203201700Z"
    },
    "collapsed": false,
    "execution": {
     "iopub.execute_input": "2024-01-23T15:25:27.529708Z",
     "iopub.status.busy": "2024-01-23T15:25:27.529490Z",
     "iopub.status.idle": "2024-01-23T15:25:37.641706Z",
     "shell.execute_reply": "2024-01-23T15:25:37.641050Z"
    }
   },
   "outputs": [
    {
     "name": "stdout",
     "output_type": "stream",
     "text": [
      "[[1.58195998 0.88921544]]\n"
     ]
    },
    {
     "data": {
      "text/plain": [
       "[<matplotlib.lines.Line2D at 0x7f4641117b50>]"
      ]
     },
     "execution_count": 8,
     "metadata": {},
     "output_type": "execute_result"
    },
    {
     "data": {
      "image/png": "[encoded data removed]",
      "text/plain": [
       "<Figure size 640x480 with 2 Axes>"
      ]
     },
     "metadata": {},
     "output_type": "display_data"
    },
    {
     "data": {
      "image/png": "[encoded data removed]",
      "text/plain": [
       "<Figure size 640x480 with 2 Axes>"
      ]
     },
     "metadata": {},
     "output_type": "display_data"
    },
    {
     "data": {
      "image/png": "[encoded data removed]",
      "text/plain": [
       "<Figure size 640x480 with 2 Axes>"
      ]
     },
     "metadata": {},
     "output_type": "display_data"
    }
   ],
   "source": [
    "# plot the acquisition function\n",
    "\n",
    "bounds = X.generator.vocs.bounds\n",
    "model = X.generator.model\n",
    "\n",
    "# create mesh over non-fidelity parameters\n",
    "n = 50\n",
    "x = torch.linspace(*bounds.T[1], n)\n",
    "y = torch.linspace(*bounds.T[2], n)\n",
    "xx, yy = torch.meshgrid(x, y)\n",
    "\n",
    "# plot function(s) at a single fidelity parameter\n",
    "fidelities = [0.0, 0.5, 1.0]\n",
    "for fidelity in fidelities:\n",
    "    pts = torch.hstack([ele.reshape(-1, 1) for ele in (xx, yy)]).double()\n",
    "    pts = torch.cat((torch.ones(pts.shape[0],1)*fidelity, pts), dim=-1)\n",
    "\n",
    "    acq_func = X.generator.get_acquisition(model)\n",
    "    with torch.no_grad():\n",
    "        acq_pts = pts.unsqueeze(1)\n",
    "        acq = acq_func(acq_pts)\n",
    "\n",
    "        fig, ax = plt.subplots()\n",
    "\n",
    "        xxn, yyn = xx.numpy(), yy.numpy()\n",
    "\n",
    "        c = ax.pcolor(xxn, yyn, acq.reshape(n, n), cmap=\"Blues\")\n",
    "        fig.colorbar(c)\n",
    "        ax.set_title(f\"Acquisition function - s: {fidelity}\")\n",
    "\n",
    "        ax.plot(*history[[\"x1\", \"x2\"]][history[\"feasible\"]].to_numpy().T, \".C1\")\n",
    "        ax.plot(*history[[\"x1\", \"x2\"]][~history[\"feasible\"]].to_numpy().T, \".C2\")\n",
    "\n",
    "        ax.plot(*history[[\"x1\", \"x2\"]].to_numpy()[-1].T, \"+\")\n",
    "\n",
    "\n",
    "candidate = pd.DataFrame(X.generator.generate(1), index=[0])\n",
    "print(candidate[[\"x1\", \"x2\"]].to_numpy())\n",
    "ax.plot(*candidate[[\"x1\", \"x2\"]].to_numpy()[0], \"o\")"
   ]
  },
  {
   "cell_type": "code",
   "execution_count": 9,
   "metadata": {
    "ExecuteTime": {
     "start_time": "2023-09-20T14:37:17.294215100Z"
    },
    "collapsed": false,
    "execution": {
     "iopub.execute_input": "2024-01-23T15:25:37.644287Z",
     "iopub.status.busy": "2024-01-23T15:25:37.643838Z",
     "iopub.status.idle": "2024-01-23T15:25:37.649381Z",
     "shell.execute_reply": "2024-01-23T15:25:37.648782Z"
    }
   },
   "outputs": [
    {
     "data": {
      "text/plain": [
       "[('likelihood.noise_covar.raw_noise',\n",
       "  Parameter containing:\n",
       "  tensor([-23.8279], dtype=torch.float64, requires_grad=True)),\n",
       " ('mean_module.raw_constant',\n",
       "  Parameter containing:\n",
       "  tensor(-0.2223, dtype=torch.float64, requires_grad=True)),\n",
       " ('covar_module.raw_outputscale',\n",
       "  Parameter containing:\n",
       "  tensor(-0.0444, dtype=torch.float64, requires_grad=True)),\n",
       " ('covar_module.base_kernel.raw_lengthscale',\n",
       "  Parameter containing:\n",
       "  tensor([[0.4352, 1.5948, 1.4912]], dtype=torch.float64, requires_grad=True))]"
      ]
     },
     "execution_count": 9,
     "metadata": {},
     "output_type": "execute_result"
    }
   ],
   "source": [
    "# examine lengthscale of the first objective\n",
    "list(model.models[0].named_parameters())"
   ]
  }
 ],
 "metadata": {
  "interpreter": {
   "hash": "72034539424920dfb606fe3b820b3f27dca0cbf1c69938110810ec4641e275b1"
  },
  "kernelspec": {
   "display_name": "Python 3 (ipykernel)",
   "language": "python",
   "name": "python3"
  },
  "language_info": {
   "codemirror_mode": {
    "name": "ipython",
    "version": 3
   },
   "file_extension": ".py",
   "mimetype": "text/x-python",
   "name": "python",
   "nbconvert_exporter": "python",
   "pygments_lexer": "ipython3",
   "version": "3.9.18"
  }
 },
 "nbformat": 4,
 "nbformat_minor": 4
}
