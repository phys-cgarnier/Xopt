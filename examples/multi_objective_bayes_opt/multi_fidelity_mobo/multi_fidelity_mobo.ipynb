{
 "cells": [
  {
   "cell_type": "markdown",
   "metadata": {},
   "source": [
    "# Multi-fidelity Multi-objective Bayesian Optimization\n",
    "\n",
    "Here we attempt to solve for the constrained Pareto front of the TNK multi-objective\n",
    "optimization problem using Multi-Fidelity Multi-Objective Bayesian optimization. For\n",
    "simplicity we assume that the objective and constraint functions at lower fidelities is\n",
    "exactly equal to the functions at higher fidelities (this is obviously not a\n",
    "requirement, although for the best results lower fidelity calculations should\n",
    "correlate with higher fidelity ones). The algorithm should learn this relationship\n",
    "and use information gathered at lower fidelities to gather samples to improve the\n",
    "hypervolume of the Pareto front at the maximum fidelity.\n",
    "\n",
    "TNK function\n",
    "$n=2$ variables:\n",
    "$x_i \\in [0, \\pi], i=1,2$\n",
    "\n",
    "Objectives:\n",
    "- $f_i(x) = x_i$\n",
    "\n",
    "Constraints:\n",
    "- $g_1(x) = -x_1^2 -x_2^2 + 1 + 0.1 \\cos\\left(16 \\arctan \\frac{x_1}{x_2}\\right) \\le 0$\n",
    "- $g_2(x) = (x_1 - 1/2)^2 + (x_2-1/2)^2 \\le 0.5$"
   ]
  },
  {
   "cell_type": "code",
   "execution_count": 1,
   "metadata": {
    "ExecuteTime": {
     "end_time": "2023-09-20T14:37:08.616050600Z",
     "start_time": "2023-09-20T14:37:04.101720300Z"
    },
    "collapsed": false,
    "execution": {
     "iopub.execute_input": "2024-08-20T19:32:06.982391Z",
     "iopub.status.busy": "2024-08-20T19:32:06.982206Z",
     "iopub.status.idle": "2024-08-20T19:32:09.027176Z",
     "shell.execute_reply": "2024-08-20T19:32:09.026498Z"
    }
   },
   "outputs": [
    {
     "name": "stdout",
     "output_type": "stream",
     "text": [
      "{'variables': {'x1': [0.0, 3.14159], 'x2': [0.0, 3.14159]}, 'constraints': {'c1': ['GREATER_THAN', 0.0], 'c2': ['LESS_THAN', 0.5]}, 'objectives': {'y1': 'MINIMIZE', 'y2': 'MINIMIZE'}, 'constants': {'a': 'dummy_constant'}, 'observables': []}\n"
     ]
    }
   ],
   "source": [
    "# set values if testing\n",
    "import os\n",
    "SMOKE_TEST = os.environ.get(\"SMOKE_TEST\")\n",
    "N_MC_SAMPLES = 1 if SMOKE_TEST else 128\n",
    "NUM_RESTARTS = 1 if SMOKE_TEST else 20\n",
    "BUDGET = 0.02 if SMOKE_TEST else 10\n",
    "\n",
    "# Ignore all warnings\n",
    "import warnings\n",
    "warnings.filterwarnings(\"ignore\")\n",
    "\n",
    "import pandas as pd\n",
    "import numpy as np\n",
    "import torch\n",
    "\n",
    "from xopt import Xopt, Evaluator\n",
    "from xopt.generators.bayesian import MultiFidelityGenerator\n",
    "from xopt.resources.test_functions.tnk import evaluate_TNK, tnk_vocs\n",
    "\n",
    "evaluator = Evaluator(function=evaluate_TNK)\n",
    "print(tnk_vocs.dict())"
   ]
  },
  {
   "cell_type": "markdown",
   "metadata": {
    "collapsed": false
   },
   "source": [
    "## Set up the Multi-Fidelity Multi-objective optimization algorithm\n",
    "Here we create the Multi-Fidelity generator object which can solve both single and\n",
    "multi-objective optimization problems depending on the number of objectives in VOCS.\n",
    "We specify a cost function as a function of fidelity parameter $s=[0,1]$ as $C(s) =\n",
    "s^{3.5}$ as an example from a real life multi-fidelity simulation problem."
   ]
  },
  {
   "cell_type": "code",
   "execution_count": 2,
   "metadata": {
    "ExecuteTime": {
     "end_time": "2023-09-20T14:37:08.660042Z",
     "start_time": "2023-09-20T14:37:08.617041800Z"
    },
    "collapsed": false,
    "execution": {
     "iopub.execute_input": "2024-08-20T19:32:09.056536Z",
     "iopub.status.busy": "2024-08-20T19:32:09.056018Z",
     "iopub.status.idle": "2024-08-20T19:32:09.072631Z",
     "shell.execute_reply": "2024-08-20T19:32:09.072122Z"
    }
   },
   "outputs": [
    {
     "data": {
      "text/plain": [
       "\n",
       "            Xopt\n",
       "________________________________\n",
       "Version: 0+untagged.1.gac5c9b5\n",
       "Data size: 2\n",
       "Config as YAML:\n",
       "dump_file: null\n",
       "evaluator:\n",
       "  function: xopt.resources.test_functions.tnk.evaluate_TNK\n",
       "  function_kwargs:\n",
       "    raise_probability: 0\n",
       "    random_sleep: 0\n",
       "    sleep: 0\n",
       "  max_workers: 1\n",
       "  vectorized: false\n",
       "generator:\n",
       "  computation_time: null\n",
       "  custom_objective: null\n",
       "  fixed_features: null\n",
       "  gp_constructor:\n",
       "    covar_modules: {}\n",
       "    custom_noise_prior: null\n",
       "    mean_modules: {}\n",
       "    name: standard\n",
       "    trainable_mean_keys: []\n",
       "    transform_inputs: true\n",
       "    use_low_noise_prior: true\n",
       "  log_transform_acquisition_function: false\n",
       "  max_travel_distances: null\n",
       "  model: null\n",
       "  n_candidates: 1\n",
       "  n_interpolate_points: null\n",
       "  n_monte_carlo_samples: 128\n",
       "  name: multi_fidelity\n",
       "  numerical_optimizer:\n",
       "    max_iter: 2000\n",
       "    max_time: null\n",
       "    n_restarts: 20\n",
       "    name: LBFGS\n",
       "  reference_point:\n",
       "    s: 0.0\n",
       "    y1: 1.5\n",
       "    y2: 1.5\n",
       "  supports_batch_generation: true\n",
       "  supports_multi_objective: true\n",
       "  turbo_controller: null\n",
       "  use_cuda: false\n",
       "max_evaluations: null\n",
       "serialize_inline: false\n",
       "serialize_torch: false\n",
       "strict: true\n",
       "vocs:\n",
       "  constants:\n",
       "    a: dummy_constant\n",
       "  constraints: {}\n",
       "  objectives:\n",
       "    s: MAXIMIZE\n",
       "    y1: MINIMIZE\n",
       "    y2: MINIMIZE\n",
       "  observables: []\n",
       "  variables:\n",
       "    s:\n",
       "    - 0\n",
       "    - 1\n",
       "    x1:\n",
       "    - 0.0\n",
       "    - 3.14159\n",
       "    x2:\n",
       "    - 0.0\n",
       "    - 3.14159\n"
      ]
     },
     "execution_count": 2,
     "metadata": {},
     "output_type": "execute_result"
    }
   ],
   "source": [
    "from copy import deepcopy\n",
    "my_vocs = deepcopy(tnk_vocs)\n",
    "my_vocs.constraints = {}\n",
    "generator = MultiFidelityGenerator(vocs=my_vocs, reference_point = {\"y1\":1.5,\"y2\":1.5})\n",
    "\n",
    "# set cost function according to approximate scaling of laser plasma accelerator\n",
    "# problem, see https://journals.aps.org/prresearch/abstract/10.1103/PhysRevResearch.5.013063\n",
    "generator.cost_function = lambda s: s**3.5\n",
    "generator.numerical_optimizer.n_restarts = NUM_RESTARTS\n",
    "generator.n_monte_carlo_samples = N_MC_SAMPLES\n",
    "\n",
    "X = Xopt(generator=generator, evaluator=evaluator, vocs=my_vocs)\n",
    "\n",
    "# evaluate at some explicit initial points\n",
    "X.evaluate_data(pd.DataFrame({\"x1\":[1.0, 0.75],\"x2\":[0.75, 1.0],\"s\":[0.0,0.1]}))\n",
    "\n",
    "X"
   ]
  },
  {
   "cell_type": "markdown",
   "metadata": {
    "collapsed": false
   },
   "source": [
    "## Run optimization routine\n",
    "Instead of ending the optimization routine after an explict number of samples we end\n",
    "optimization once a given optimization budget has been exceeded. WARNING: This will\n",
    "slightly exceed the given budget"
   ]
  },
  {
   "cell_type": "code",
   "execution_count": 3,
   "metadata": {
    "ExecuteTime": {
     "end_time": "2023-09-20T14:37:14.657062800Z",
     "start_time": "2023-09-20T14:37:08.648042200Z"
    },
    "collapsed": false,
    "execution": {
     "iopub.execute_input": "2024-08-20T19:32:09.074939Z",
     "iopub.status.busy": "2024-08-20T19:32:09.074561Z",
     "iopub.status.idle": "2024-08-20T19:32:51.111496Z",
     "shell.execute_reply": "2024-08-20T19:32:51.110827Z"
    }
   },
   "outputs": [
    {
     "name": "stdout",
     "output_type": "stream",
     "text": [
      "n_samples: 3 budget used: 0.01032 hypervolume: 0.0375\n"
     ]
    },
    {
     "name": "stdout",
     "output_type": "stream",
     "text": [
      "n_samples: 4 budget used: 0.01386 hypervolume: 0.0375\n"
     ]
    },
    {
     "name": "stdout",
     "output_type": "stream",
     "text": [
      "n_samples: 5 budget used: 0.01386 hypervolume: 0.0375\n"
     ]
    },
    {
     "name": "stdout",
     "output_type": "stream",
     "text": [
      "n_samples: 6 budget used: 0.01725 hypervolume: 0.4275\n"
     ]
    },
    {
     "name": "stdout",
     "output_type": "stream",
     "text": [
      "n_samples: 7 budget used: 0.02515 hypervolume: 0.5032\n"
     ]
    },
    {
     "name": "stdout",
     "output_type": "stream",
     "text": [
      "n_samples: 8 budget used: 0.02582 hypervolume: 0.5032\n"
     ]
    },
    {
     "name": "stdout",
     "output_type": "stream",
     "text": [
      "n_samples: 9 budget used: 0.09756 hypervolume: 1.06\n"
     ]
    },
    {
     "name": "stdout",
     "output_type": "stream",
     "text": [
      "n_samples: 10 budget used: 0.205 hypervolume: 1.139\n"
     ]
    },
    {
     "name": "stdout",
     "output_type": "stream",
     "text": [
      "n_samples: 11 budget used: 0.5407 hypervolume: 1.647\n"
     ]
    },
    {
     "name": "stdout",
     "output_type": "stream",
     "text": [
      "n_samples: 12 budget used: 0.5507 hypervolume: 1.647\n"
     ]
    },
    {
     "name": "stdout",
     "output_type": "stream",
     "text": [
      "n_samples: 13 budget used: 1.31 hypervolume: 1.934\n"
     ]
    },
    {
     "name": "stdout",
     "output_type": "stream",
     "text": [
      "n_samples: 14 budget used: 2.31 hypervolume: 2.25\n"
     ]
    },
    {
     "name": "stdout",
     "output_type": "stream",
     "text": [
      "n_samples: 15 budget used: 2.31 hypervolume: 2.25\n"
     ]
    },
    {
     "name": "stdout",
     "output_type": "stream",
     "text": [
      "n_samples: 16 budget used: 2.31 hypervolume: 2.25\n"
     ]
    },
    {
     "name": "stdout",
     "output_type": "stream",
     "text": [
      "n_samples: 17 budget used: 3.31 hypervolume: 2.25\n"
     ]
    },
    {
     "name": "stdout",
     "output_type": "stream",
     "text": [
      "n_samples: 18 budget used: 3.351 hypervolume: 2.25\n"
     ]
    },
    {
     "name": "stdout",
     "output_type": "stream",
     "text": [
      "n_samples: 19 budget used: 4.172 hypervolume: 2.25\n"
     ]
    },
    {
     "name": "stdout",
     "output_type": "stream",
     "text": [
      "n_samples: 20 budget used: 4.172 hypervolume: 2.25\n"
     ]
    },
    {
     "name": "stdout",
     "output_type": "stream",
     "text": [
      "n_samples: 21 budget used: 5.172 hypervolume: 2.25\n"
     ]
    },
    {
     "name": "stdout",
     "output_type": "stream",
     "text": [
      "n_samples: 22 budget used: 5.472 hypervolume: 2.25\n"
     ]
    },
    {
     "name": "stdout",
     "output_type": "stream",
     "text": [
      "n_samples: 23 budget used: 5.534 hypervolume: 2.25\n"
     ]
    },
    {
     "name": "stdout",
     "output_type": "stream",
     "text": [
      "n_samples: 24 budget used: 6.13 hypervolume: 2.25\n"
     ]
    },
    {
     "name": "stdout",
     "output_type": "stream",
     "text": [
      "n_samples: 25 budget used: 6.131 hypervolume: 2.25\n"
     ]
    },
    {
     "name": "stdout",
     "output_type": "stream",
     "text": [
      "n_samples: 26 budget used: 6.335 hypervolume: 2.25\n"
     ]
    },
    {
     "name": "stdout",
     "output_type": "stream",
     "text": [
      "n_samples: 27 budget used: 6.664 hypervolume: 2.25\n"
     ]
    },
    {
     "name": "stdout",
     "output_type": "stream",
     "text": [
      "n_samples: 28 budget used: 7.473 hypervolume: 2.25\n"
     ]
    },
    {
     "name": "stdout",
     "output_type": "stream",
     "text": [
      "n_samples: 29 budget used: 7.524 hypervolume: 2.25\n"
     ]
    },
    {
     "name": "stdout",
     "output_type": "stream",
     "text": [
      "n_samples: 30 budget used: 7.837 hypervolume: 2.25\n"
     ]
    },
    {
     "name": "stdout",
     "output_type": "stream",
     "text": [
      "n_samples: 31 budget used: 8.21 hypervolume: 2.25\n"
     ]
    },
    {
     "name": "stdout",
     "output_type": "stream",
     "text": [
      "n_samples: 32 budget used: 8.28 hypervolume: 2.25\n"
     ]
    },
    {
     "name": "stdout",
     "output_type": "stream",
     "text": [
      "n_samples: 33 budget used: 9.202 hypervolume: 2.25\n"
     ]
    },
    {
     "name": "stdout",
     "output_type": "stream",
     "text": [
      "n_samples: 34 budget used: 10.03 hypervolume: 2.25\n"
     ]
    }
   ],
   "source": [
    "budget = BUDGET\n",
    "while X.generator.calculate_total_cost() < budget:\n",
    "    X.step()\n",
    "    print(f\"n_samples: {len(X.data)} \"\n",
    "          f\"budget used: {X.generator.calculate_total_cost():.4} \"\n",
    "          f\"hypervolume: {X.generator.calculate_hypervolume():.4}\")"
   ]
  },
  {
   "cell_type": "markdown",
   "metadata": {
    "collapsed": false
   },
   "source": [
    "## Show results"
   ]
  },
  {
   "cell_type": "code",
   "execution_count": 4,
   "metadata": {
    "ExecuteTime": {
     "end_time": "2023-09-20T14:37:14.684015600Z",
     "start_time": "2023-09-20T14:37:14.647063400Z"
    },
    "collapsed": false,
    "execution": {
     "iopub.execute_input": "2024-08-20T19:32:51.114176Z",
     "iopub.status.busy": "2024-08-20T19:32:51.113687Z",
     "iopub.status.idle": "2024-08-20T19:32:51.132796Z",
     "shell.execute_reply": "2024-08-20T19:32:51.132222Z"
    }
   },
   "outputs": [
    {
     "data": {
      "text/html": [
       "<div>\n",
       "<style scoped>\n",
       "    .dataframe tbody tr th:only-of-type {\n",
       "        vertical-align: middle;\n",
       "    }\n",
       "\n",
       "    .dataframe tbody tr th {\n",
       "        vertical-align: top;\n",
       "    }\n",
       "\n",
       "    .dataframe thead th {\n",
       "        text-align: right;\n",
       "    }\n",
       "</style>\n",
       "<table border=\"1\" class=\"dataframe\">\n",
       "  <thead>\n",
       "    <tr style=\"text-align: right;\">\n",
       "      <th></th>\n",
       "      <th>x1</th>\n",
       "      <th>x2</th>\n",
       "      <th>s</th>\n",
       "      <th>a</th>\n",
       "      <th>y1</th>\n",
       "      <th>y2</th>\n",
       "      <th>c1</th>\n",
       "      <th>c2</th>\n",
       "      <th>xopt_runtime</th>\n",
       "      <th>xopt_error</th>\n",
       "    </tr>\n",
       "  </thead>\n",
       "  <tbody>\n",
       "    <tr>\n",
       "      <th>0</th>\n",
       "      <td>1.000000</td>\n",
       "      <td>0.750000</td>\n",
       "      <td>0.000000</td>\n",
       "      <td>dummy_constant</td>\n",
       "      <td>1.000000</td>\n",
       "      <td>0.750000</td>\n",
       "      <td>0.626888</td>\n",
       "      <td>0.312500</td>\n",
       "      <td>0.000042</td>\n",
       "      <td>False</td>\n",
       "    </tr>\n",
       "    <tr>\n",
       "      <th>1</th>\n",
       "      <td>0.750000</td>\n",
       "      <td>1.000000</td>\n",
       "      <td>0.100000</td>\n",
       "      <td>dummy_constant</td>\n",
       "      <td>0.750000</td>\n",
       "      <td>1.000000</td>\n",
       "      <td>0.626888</td>\n",
       "      <td>0.312500</td>\n",
       "      <td>0.000009</td>\n",
       "      <td>False</td>\n",
       "    </tr>\n",
       "    <tr>\n",
       "      <th>2</th>\n",
       "      <td>0.000215</td>\n",
       "      <td>2.465368</td>\n",
       "      <td>0.268270</td>\n",
       "      <td>dummy_constant</td>\n",
       "      <td>0.000215</td>\n",
       "      <td>2.465368</td>\n",
       "      <td>4.978041</td>\n",
       "      <td>4.112458</td>\n",
       "      <td>0.000024</td>\n",
       "      <td>False</td>\n",
       "    </tr>\n",
       "    <tr>\n",
       "      <th>3</th>\n",
       "      <td>3.121682</td>\n",
       "      <td>2.476548</td>\n",
       "      <td>0.199473</td>\n",
       "      <td>dummy_constant</td>\n",
       "      <td>3.121682</td>\n",
       "      <td>2.476548</td>\n",
       "      <td>14.904371</td>\n",
       "      <td>10.779957</td>\n",
       "      <td>0.000022</td>\n",
       "      <td>False</td>\n",
       "    </tr>\n",
       "    <tr>\n",
       "      <th>4</th>\n",
       "      <td>0.000000</td>\n",
       "      <td>0.341590</td>\n",
       "      <td>0.000000</td>\n",
       "      <td>dummy_constant</td>\n",
       "      <td>0.000000</td>\n",
       "      <td>0.341590</td>\n",
       "      <td>-0.983316</td>\n",
       "      <td>0.275094</td>\n",
       "      <td>0.000026</td>\n",
       "      <td>False</td>\n",
       "    </tr>\n",
       "    <tr>\n",
       "      <th>5</th>\n",
       "      <td>0.000000</td>\n",
       "      <td>0.053288</td>\n",
       "      <td>0.196984</td>\n",
       "      <td>dummy_constant</td>\n",
       "      <td>0.000000</td>\n",
       "      <td>0.053288</td>\n",
       "      <td>-1.097160</td>\n",
       "      <td>0.449552</td>\n",
       "      <td>0.000026</td>\n",
       "      <td>False</td>\n",
       "    </tr>\n",
       "    <tr>\n",
       "      <th>6</th>\n",
       "      <td>0.000000</td>\n",
       "      <td>0.560194</td>\n",
       "      <td>0.250728</td>\n",
       "      <td>dummy_constant</td>\n",
       "      <td>0.000000</td>\n",
       "      <td>0.560194</td>\n",
       "      <td>-0.786182</td>\n",
       "      <td>0.253623</td>\n",
       "      <td>0.000025</td>\n",
       "      <td>False</td>\n",
       "    </tr>\n",
       "    <tr>\n",
       "      <th>7</th>\n",
       "      <td>0.000000</td>\n",
       "      <td>0.443465</td>\n",
       "      <td>0.123882</td>\n",
       "      <td>dummy_constant</td>\n",
       "      <td>0.000000</td>\n",
       "      <td>0.443465</td>\n",
       "      <td>-0.903338</td>\n",
       "      <td>0.253196</td>\n",
       "      <td>0.000025</td>\n",
       "      <td>False</td>\n",
       "    </tr>\n",
       "    <tr>\n",
       "      <th>8</th>\n",
       "      <td>0.000000</td>\n",
       "      <td>0.000000</td>\n",
       "      <td>0.471069</td>\n",
       "      <td>dummy_constant</td>\n",
       "      <td>0.000000</td>\n",
       "      <td>0.000000</td>\n",
       "      <td>-1.100000</td>\n",
       "      <td>0.500000</td>\n",
       "      <td>0.000026</td>\n",
       "      <td>False</td>\n",
       "    </tr>\n",
       "    <tr>\n",
       "      <th>9</th>\n",
       "      <td>0.000000</td>\n",
       "      <td>0.579287</td>\n",
       "      <td>0.528630</td>\n",
       "      <td>dummy_constant</td>\n",
       "      <td>0.000000</td>\n",
       "      <td>0.579287</td>\n",
       "      <td>-0.764426</td>\n",
       "      <td>0.256286</td>\n",
       "      <td>0.000025</td>\n",
       "      <td>False</td>\n",
       "    </tr>\n",
       "    <tr>\n",
       "      <th>10</th>\n",
       "      <td>0.000000</td>\n",
       "      <td>0.000000</td>\n",
       "      <td>0.732075</td>\n",
       "      <td>dummy_constant</td>\n",
       "      <td>0.000000</td>\n",
       "      <td>0.000000</td>\n",
       "      <td>-1.100000</td>\n",
       "      <td>0.500000</td>\n",
       "      <td>0.000024</td>\n",
       "      <td>False</td>\n",
       "    </tr>\n",
       "    <tr>\n",
       "      <th>11</th>\n",
       "      <td>0.247215</td>\n",
       "      <td>0.000000</td>\n",
       "      <td>0.268862</td>\n",
       "      <td>dummy_constant</td>\n",
       "      <td>0.247215</td>\n",
       "      <td>0.000000</td>\n",
       "      <td>-1.038885</td>\n",
       "      <td>0.313900</td>\n",
       "      <td>0.000026</td>\n",
       "      <td>False</td>\n",
       "    </tr>\n",
       "    <tr>\n",
       "      <th>12</th>\n",
       "      <td>0.000000</td>\n",
       "      <td>0.505804</td>\n",
       "      <td>0.924242</td>\n",
       "      <td>dummy_constant</td>\n",
       "      <td>0.000000</td>\n",
       "      <td>0.505804</td>\n",
       "      <td>-0.844163</td>\n",
       "      <td>0.250034</td>\n",
       "      <td>0.000024</td>\n",
       "      <td>False</td>\n",
       "    </tr>\n",
       "    <tr>\n",
       "      <th>13</th>\n",
       "      <td>0.000000</td>\n",
       "      <td>0.000000</td>\n",
       "      <td>1.000000</td>\n",
       "      <td>dummy_constant</td>\n",
       "      <td>0.000000</td>\n",
       "      <td>0.000000</td>\n",
       "      <td>-1.100000</td>\n",
       "      <td>0.500000</td>\n",
       "      <td>0.000042</td>\n",
       "      <td>False</td>\n",
       "    </tr>\n",
       "    <tr>\n",
       "      <th>14</th>\n",
       "      <td>0.000000</td>\n",
       "      <td>0.000000</td>\n",
       "      <td>0.000000</td>\n",
       "      <td>dummy_constant</td>\n",
       "      <td>0.000000</td>\n",
       "      <td>0.000000</td>\n",
       "      <td>-1.100000</td>\n",
       "      <td>0.500000</td>\n",
       "      <td>0.000024</td>\n",
       "      <td>False</td>\n",
       "    </tr>\n",
       "    <tr>\n",
       "      <th>15</th>\n",
       "      <td>0.000000</td>\n",
       "      <td>1.029017</td>\n",
       "      <td>0.000000</td>\n",
       "      <td>dummy_constant</td>\n",
       "      <td>0.000000</td>\n",
       "      <td>1.029017</td>\n",
       "      <td>-0.041123</td>\n",
       "      <td>0.529859</td>\n",
       "      <td>0.000025</td>\n",
       "      <td>False</td>\n",
       "    </tr>\n",
       "    <tr>\n",
       "      <th>16</th>\n",
       "      <td>0.818979</td>\n",
       "      <td>0.000000</td>\n",
       "      <td>1.000000</td>\n",
       "      <td>dummy_constant</td>\n",
       "      <td>0.818979</td>\n",
       "      <td>0.000000</td>\n",
       "      <td>-0.429273</td>\n",
       "      <td>0.351748</td>\n",
       "      <td>0.000026</td>\n",
       "      <td>False</td>\n",
       "    </tr>\n",
       "    <tr>\n",
       "      <th>17</th>\n",
       "      <td>0.000000</td>\n",
       "      <td>1.117252</td>\n",
       "      <td>0.403190</td>\n",
       "      <td>dummy_constant</td>\n",
       "      <td>0.000000</td>\n",
       "      <td>1.117252</td>\n",
       "      <td>0.148252</td>\n",
       "      <td>0.631000</td>\n",
       "      <td>0.000026</td>\n",
       "      <td>False</td>\n",
       "    </tr>\n",
       "    <tr>\n",
       "      <th>18</th>\n",
       "      <td>0.036040</td>\n",
       "      <td>1.938586</td>\n",
       "      <td>0.944957</td>\n",
       "      <td>dummy_constant</td>\n",
       "      <td>0.036040</td>\n",
       "      <td>1.938586</td>\n",
       "      <td>2.663806</td>\n",
       "      <td>2.284789</td>\n",
       "      <td>0.000025</td>\n",
       "      <td>False</td>\n",
       "    </tr>\n",
       "    <tr>\n",
       "      <th>19</th>\n",
       "      <td>1.446468</td>\n",
       "      <td>0.805689</td>\n",
       "      <td>0.018592</td>\n",
       "      <td>dummy_constant</td>\n",
       "      <td>1.446468</td>\n",
       "      <td>0.805689</td>\n",
       "      <td>1.768781</td>\n",
       "      <td>0.989248</td>\n",
       "      <td>0.000025</td>\n",
       "      <td>False</td>\n",
       "    </tr>\n",
       "    <tr>\n",
       "      <th>20</th>\n",
       "      <td>0.000000</td>\n",
       "      <td>0.879316</td>\n",
       "      <td>1.000000</td>\n",
       "      <td>dummy_constant</td>\n",
       "      <td>0.000000</td>\n",
       "      <td>0.879316</td>\n",
       "      <td>-0.326803</td>\n",
       "      <td>0.393881</td>\n",
       "      <td>0.000025</td>\n",
       "      <td>False</td>\n",
       "    </tr>\n",
       "    <tr>\n",
       "      <th>21</th>\n",
       "      <td>1.625201</td>\n",
       "      <td>0.859997</td>\n",
       "      <td>0.708867</td>\n",
       "      <td>dummy_constant</td>\n",
       "      <td>1.625201</td>\n",
       "      <td>0.859997</td>\n",
       "      <td>2.374210</td>\n",
       "      <td>1.395676</td>\n",
       "      <td>0.000025</td>\n",
       "      <td>False</td>\n",
       "    </tr>\n",
       "    <tr>\n",
       "      <th>22</th>\n",
       "      <td>0.648447</td>\n",
       "      <td>2.069792</td>\n",
       "      <td>0.452491</td>\n",
       "      <td>dummy_constant</td>\n",
       "      <td>0.648447</td>\n",
       "      <td>2.069792</td>\n",
       "      <td>3.690044</td>\n",
       "      <td>2.486283</td>\n",
       "      <td>0.000025</td>\n",
       "      <td>False</td>\n",
       "    </tr>\n",
       "    <tr>\n",
       "      <th>23</th>\n",
       "      <td>2.190514</td>\n",
       "      <td>2.150532</td>\n",
       "      <td>0.862783</td>\n",
       "      <td>dummy_constant</td>\n",
       "      <td>2.190514</td>\n",
       "      <td>2.150532</td>\n",
       "      <td>8.324222</td>\n",
       "      <td>5.582092</td>\n",
       "      <td>0.000024</td>\n",
       "      <td>False</td>\n",
       "    </tr>\n",
       "    <tr>\n",
       "      <th>24</th>\n",
       "      <td>2.987996</td>\n",
       "      <td>2.362072</td>\n",
       "      <td>0.087448</td>\n",
       "      <td>dummy_constant</td>\n",
       "      <td>2.987996</td>\n",
       "      <td>2.362072</td>\n",
       "      <td>13.536353</td>\n",
       "      <td>9.657438</td>\n",
       "      <td>0.000025</td>\n",
       "      <td>False</td>\n",
       "    </tr>\n",
       "    <tr>\n",
       "      <th>25</th>\n",
       "      <td>0.830537</td>\n",
       "      <td>1.420948</td>\n",
       "      <td>0.635714</td>\n",
       "      <td>dummy_constant</td>\n",
       "      <td>0.830537</td>\n",
       "      <td>1.420948</td>\n",
       "      <td>1.766095</td>\n",
       "      <td>0.957400</td>\n",
       "      <td>0.000024</td>\n",
       "      <td>False</td>\n",
       "    </tr>\n",
       "    <tr>\n",
       "      <th>26</th>\n",
       "      <td>2.154653</td>\n",
       "      <td>0.046489</td>\n",
       "      <td>0.727650</td>\n",
       "      <td>dummy_constant</td>\n",
       "      <td>2.154653</td>\n",
       "      <td>0.046489</td>\n",
       "      <td>3.550588</td>\n",
       "      <td>2.943548</td>\n",
       "      <td>0.000026</td>\n",
       "      <td>False</td>\n",
       "    </tr>\n",
       "    <tr>\n",
       "      <th>27</th>\n",
       "      <td>3.038127</td>\n",
       "      <td>1.206539</td>\n",
       "      <td>0.941375</td>\n",
       "      <td>dummy_constant</td>\n",
       "      <td>3.038127</td>\n",
       "      <td>1.206539</td>\n",
       "      <td>9.588696</td>\n",
       "      <td>6.941289</td>\n",
       "      <td>0.000024</td>\n",
       "      <td>False</td>\n",
       "    </tr>\n",
       "    <tr>\n",
       "      <th>28</th>\n",
       "      <td>0.268542</td>\n",
       "      <td>1.427721</td>\n",
       "      <td>0.426925</td>\n",
       "      <td>dummy_constant</td>\n",
       "      <td>0.268542</td>\n",
       "      <td>1.427721</td>\n",
       "      <td>1.209114</td>\n",
       "      <td>0.914240</td>\n",
       "      <td>0.000025</td>\n",
       "      <td>False</td>\n",
       "    </tr>\n",
       "    <tr>\n",
       "      <th>29</th>\n",
       "      <td>0.352285</td>\n",
       "      <td>2.649885</td>\n",
       "      <td>0.717203</td>\n",
       "      <td>dummy_constant</td>\n",
       "      <td>0.352285</td>\n",
       "      <td>2.649885</td>\n",
       "      <td>6.197743</td>\n",
       "      <td>4.643826</td>\n",
       "      <td>0.000025</td>\n",
       "      <td>False</td>\n",
       "    </tr>\n",
       "    <tr>\n",
       "      <th>30</th>\n",
       "      <td>2.816671</td>\n",
       "      <td>2.093232</td>\n",
       "      <td>0.754829</td>\n",
       "      <td>dummy_constant</td>\n",
       "      <td>2.816671</td>\n",
       "      <td>2.093232</td>\n",
       "      <td>11.384859</td>\n",
       "      <td>7.905353</td>\n",
       "      <td>0.000025</td>\n",
       "      <td>False</td>\n",
       "    </tr>\n",
       "    <tr>\n",
       "      <th>31</th>\n",
       "      <td>1.647870</td>\n",
       "      <td>1.245895</td>\n",
       "      <td>0.466661</td>\n",
       "      <td>dummy_constant</td>\n",
       "      <td>1.647870</td>\n",
       "      <td>1.245895</td>\n",
       "      <td>3.327261</td>\n",
       "      <td>1.873965</td>\n",
       "      <td>0.000027</td>\n",
       "      <td>False</td>\n",
       "    </tr>\n",
       "    <tr>\n",
       "      <th>32</th>\n",
       "      <td>1.930214</td>\n",
       "      <td>0.528822</td>\n",
       "      <td>0.977085</td>\n",
       "      <td>dummy_constant</td>\n",
       "      <td>1.930214</td>\n",
       "      <td>0.528822</td>\n",
       "      <td>3.047416</td>\n",
       "      <td>2.046343</td>\n",
       "      <td>0.000026</td>\n",
       "      <td>False</td>\n",
       "    </tr>\n",
       "    <tr>\n",
       "      <th>33</th>\n",
       "      <td>2.895577</td>\n",
       "      <td>2.660743</td>\n",
       "      <td>0.947579</td>\n",
       "      <td>dummy_constant</td>\n",
       "      <td>2.895577</td>\n",
       "      <td>2.660743</td>\n",
       "      <td>14.385900</td>\n",
       "      <td>10.407599</td>\n",
       "      <td>0.000025</td>\n",
       "      <td>False</td>\n",
       "    </tr>\n",
       "  </tbody>\n",
       "</table>\n",
       "</div>"
      ],
      "text/plain": [
       "          x1        x2         s               a        y1        y2  \\\n",
       "0   1.000000  0.750000  0.000000  dummy_constant  1.000000  0.750000   \n",
       "1   0.750000  1.000000  0.100000  dummy_constant  0.750000  1.000000   \n",
       "2   0.000215  2.465368  0.268270  dummy_constant  0.000215  2.465368   \n",
       "3   3.121682  2.476548  0.199473  dummy_constant  3.121682  2.476548   \n",
       "4   0.000000  0.341590  0.000000  dummy_constant  0.000000  0.341590   \n",
       "5   0.000000  0.053288  0.196984  dummy_constant  0.000000  0.053288   \n",
       "6   0.000000  0.560194  0.250728  dummy_constant  0.000000  0.560194   \n",
       "7   0.000000  0.443465  0.123882  dummy_constant  0.000000  0.443465   \n",
       "8   0.000000  0.000000  0.471069  dummy_constant  0.000000  0.000000   \n",
       "9   0.000000  0.579287  0.528630  dummy_constant  0.000000  0.579287   \n",
       "10  0.000000  0.000000  0.732075  dummy_constant  0.000000  0.000000   \n",
       "11  0.247215  0.000000  0.268862  dummy_constant  0.247215  0.000000   \n",
       "12  0.000000  0.505804  0.924242  dummy_constant  0.000000  0.505804   \n",
       "13  0.000000  0.000000  1.000000  dummy_constant  0.000000  0.000000   \n",
       "14  0.000000  0.000000  0.000000  dummy_constant  0.000000  0.000000   \n",
       "15  0.000000  1.029017  0.000000  dummy_constant  0.000000  1.029017   \n",
       "16  0.818979  0.000000  1.000000  dummy_constant  0.818979  0.000000   \n",
       "17  0.000000  1.117252  0.403190  dummy_constant  0.000000  1.117252   \n",
       "18  0.036040  1.938586  0.944957  dummy_constant  0.036040  1.938586   \n",
       "19  1.446468  0.805689  0.018592  dummy_constant  1.446468  0.805689   \n",
       "20  0.000000  0.879316  1.000000  dummy_constant  0.000000  0.879316   \n",
       "21  1.625201  0.859997  0.708867  dummy_constant  1.625201  0.859997   \n",
       "22  0.648447  2.069792  0.452491  dummy_constant  0.648447  2.069792   \n",
       "23  2.190514  2.150532  0.862783  dummy_constant  2.190514  2.150532   \n",
       "24  2.987996  2.362072  0.087448  dummy_constant  2.987996  2.362072   \n",
       "25  0.830537  1.420948  0.635714  dummy_constant  0.830537  1.420948   \n",
       "26  2.154653  0.046489  0.727650  dummy_constant  2.154653  0.046489   \n",
       "27  3.038127  1.206539  0.941375  dummy_constant  3.038127  1.206539   \n",
       "28  0.268542  1.427721  0.426925  dummy_constant  0.268542  1.427721   \n",
       "29  0.352285  2.649885  0.717203  dummy_constant  0.352285  2.649885   \n",
       "30  2.816671  2.093232  0.754829  dummy_constant  2.816671  2.093232   \n",
       "31  1.647870  1.245895  0.466661  dummy_constant  1.647870  1.245895   \n",
       "32  1.930214  0.528822  0.977085  dummy_constant  1.930214  0.528822   \n",
       "33  2.895577  2.660743  0.947579  dummy_constant  2.895577  2.660743   \n",
       "\n",
       "           c1         c2  xopt_runtime  xopt_error  \n",
       "0    0.626888   0.312500      0.000042       False  \n",
       "1    0.626888   0.312500      0.000009       False  \n",
       "2    4.978041   4.112458      0.000024       False  \n",
       "3   14.904371  10.779957      0.000022       False  \n",
       "4   -0.983316   0.275094      0.000026       False  \n",
       "5   -1.097160   0.449552      0.000026       False  \n",
       "6   -0.786182   0.253623      0.000025       False  \n",
       "7   -0.903338   0.253196      0.000025       False  \n",
       "8   -1.100000   0.500000      0.000026       False  \n",
       "9   -0.764426   0.256286      0.000025       False  \n",
       "10  -1.100000   0.500000      0.000024       False  \n",
       "11  -1.038885   0.313900      0.000026       False  \n",
       "12  -0.844163   0.250034      0.000024       False  \n",
       "13  -1.100000   0.500000      0.000042       False  \n",
       "14  -1.100000   0.500000      0.000024       False  \n",
       "15  -0.041123   0.529859      0.000025       False  \n",
       "16  -0.429273   0.351748      0.000026       False  \n",
       "17   0.148252   0.631000      0.000026       False  \n",
       "18   2.663806   2.284789      0.000025       False  \n",
       "19   1.768781   0.989248      0.000025       False  \n",
       "20  -0.326803   0.393881      0.000025       False  \n",
       "21   2.374210   1.395676      0.000025       False  \n",
       "22   3.690044   2.486283      0.000025       False  \n",
       "23   8.324222   5.582092      0.000024       False  \n",
       "24  13.536353   9.657438      0.000025       False  \n",
       "25   1.766095   0.957400      0.000024       False  \n",
       "26   3.550588   2.943548      0.000026       False  \n",
       "27   9.588696   6.941289      0.000024       False  \n",
       "28   1.209114   0.914240      0.000025       False  \n",
       "29   6.197743   4.643826      0.000025       False  \n",
       "30  11.384859   7.905353      0.000025       False  \n",
       "31   3.327261   1.873965      0.000027       False  \n",
       "32   3.047416   2.046343      0.000026       False  \n",
       "33  14.385900  10.407599      0.000025       False  "
      ]
     },
     "execution_count": 4,
     "metadata": {},
     "output_type": "execute_result"
    }
   ],
   "source": [
    "X.data"
   ]
  },
  {
   "cell_type": "markdown",
   "metadata": {
    "collapsed": false
   },
   "source": [
    "## Plot results\n",
    "Here we plot the resulting observations in input space, colored by feasibility\n",
    "(neglecting the fact that\n",
    "these data points are at varying fidelities).\n"
   ]
  },
  {
   "cell_type": "code",
   "execution_count": 5,
   "metadata": {
    "ExecuteTime": {
     "end_time": "2023-09-20T14:37:15.292777300Z",
     "start_time": "2023-09-20T14:37:14.679967200Z"
    },
    "collapsed": false,
    "execution": {
     "iopub.execute_input": "2024-08-20T19:32:51.135291Z",
     "iopub.status.busy": "2024-08-20T19:32:51.134873Z",
     "iopub.status.idle": "2024-08-20T19:32:51.533014Z",
     "shell.execute_reply": "2024-08-20T19:32:51.532417Z"
    }
   },
   "outputs": [
    {
     "data": {
      "image/png": "[encoded data removed]",
      "text/plain": [
       "<Figure size 640x480 with 1 Axes>"
      ]
     },
     "metadata": {},
     "output_type": "display_data"
    }
   ],
   "source": [
    "import matplotlib.pyplot as plt\n",
    "\n",
    "fig, ax = plt.subplots()\n",
    "\n",
    "theta = np.linspace(0, np.pi / 2)\n",
    "r = np.sqrt(1 + 0.1 * np.cos(16 * theta))\n",
    "x_1 = r * np.sin(theta)\n",
    "x_2_lower = r * np.cos(theta)\n",
    "x_2_upper = (0.5 - (x_1 - 0.5) ** 2) ** 0.5 + 0.5\n",
    "\n",
    "z = np.zeros_like(x_1)\n",
    "\n",
    "# ax2.plot(x_1, x_2_lower,'r')\n",
    "ax.fill_between(x_1, z, x_2_lower, fc=\"white\")\n",
    "circle = plt.Circle(\n",
    "    (0.5, 0.5), 0.5 ** 0.5, color=\"r\", alpha=0.25, zorder=0, label=\"Valid Region\"\n",
    ")\n",
    "ax.add_patch(circle)\n",
    "history = pd.concat(\n",
    "    [X.data, tnk_vocs.feasibility_data(X.data)], axis=1, ignore_index=False\n",
    ")\n",
    "\n",
    "ax.plot(*history[[\"x1\", \"x2\"]][history[\"feasible\"]].to_numpy().T, \".C1\")\n",
    "ax.plot(*history[[\"x1\", \"x2\"]][~history[\"feasible\"]].to_numpy().T, \".C2\")\n",
    "\n",
    "ax.set_xlim(0, 3.14)\n",
    "ax.set_ylim(0, 3.14)\n",
    "ax.set_xlabel(\"x1\")\n",
    "ax.set_ylabel(\"x2\")\n",
    "ax.set_aspect(\"equal\")"
   ]
  },
  {
   "cell_type": "markdown",
   "metadata": {
    "collapsed": false
   },
   "source": [
    "### Plot path through input space"
   ]
  },
  {
   "cell_type": "code",
   "execution_count": 6,
   "metadata": {
    "ExecuteTime": {
     "end_time": "2023-09-20T14:37:15.607777300Z",
     "start_time": "2023-09-20T14:37:15.288777300Z"
    },
    "collapsed": false,
    "execution": {
     "iopub.execute_input": "2024-08-20T19:32:51.535539Z",
     "iopub.status.busy": "2024-08-20T19:32:51.535254Z",
     "iopub.status.idle": "2024-08-20T19:32:51.821045Z",
     "shell.execute_reply": "2024-08-20T19:32:51.820402Z"
    }
   },
   "outputs": [
    {
     "data": {
      "image/png": "[encoded data removed]",
      "text/plain": [
       "<Figure size 640x480 with 4 Axes>"
      ]
     },
     "metadata": {},
     "output_type": "display_data"
    }
   ],
   "source": [
    "ax = history.hist([\"x1\", \"x2\", \"s\"],bins=20)"
   ]
  },
  {
   "cell_type": "code",
   "execution_count": 7,
   "metadata": {
    "ExecuteTime": {
     "end_time": "2023-09-20T14:37:15.768777Z",
     "start_time": "2023-09-20T14:37:15.606777300Z"
    },
    "collapsed": false,
    "execution": {
     "iopub.execute_input": "2024-08-20T19:32:51.823345Z",
     "iopub.status.busy": "2024-08-20T19:32:51.823151Z",
     "iopub.status.idle": "2024-08-20T19:32:51.954197Z",
     "shell.execute_reply": "2024-08-20T19:32:51.953565Z"
    }
   },
   "outputs": [
    {
     "data": {
      "text/plain": [
       "<Axes: >"
      ]
     },
     "execution_count": 7,
     "metadata": {},
     "output_type": "execute_result"
    },
    {
     "data": {
      "image/png": "[encoded data removed]",
      "text/plain": [
       "<Figure size 640x480 with 1 Axes>"
      ]
     },
     "metadata": {},
     "output_type": "display_data"
    }
   ],
   "source": [
    "history.plot(y=[\"x1\", \"x2\", \"s\"])"
   ]
  },
  {
   "cell_type": "markdown",
   "metadata": {
    "collapsed": false
   },
   "source": [
    "## Plot the acqusisition function\n",
    "Here we plot the acquisition function at a small set of fidelities $[0, 0.5, 1.0]$."
   ]
  },
  {
   "cell_type": "code",
   "execution_count": 8,
   "metadata": {
    "ExecuteTime": {
     "end_time": "2023-09-20T14:37:45.334189800Z",
     "start_time": "2023-09-20T14:37:41.203201700Z"
    },
    "collapsed": false,
    "execution": {
     "iopub.execute_input": "2024-08-20T19:32:51.956756Z",
     "iopub.status.busy": "2024-08-20T19:32:51.956383Z",
     "iopub.status.idle": "2024-08-20T19:32:57.398530Z",
     "shell.execute_reply": "2024-08-20T19:32:57.398014Z"
    }
   },
   "outputs": [
    {
     "name": "stdout",
     "output_type": "stream",
     "text": [
      "[[1.48121505 2.42809086]]\n"
     ]
    },
    {
     "data": {
      "text/plain": [
       "[<matplotlib.lines.Line2D at 0x7f9c1aab57c0>]"
      ]
     },
     "execution_count": 8,
     "metadata": {},
     "output_type": "execute_result"
    },
    {
     "data": {
      "image/png": "[encoded data removed]",
      "text/plain": [
       "<Figure size 640x480 with 2 Axes>"
      ]
     },
     "metadata": {},
     "output_type": "display_data"
    },
    {
     "data": {
      "image/png": "[encoded data removed]",
      "text/plain": [
       "<Figure size 640x480 with 2 Axes>"
      ]
     },
     "metadata": {},
     "output_type": "display_data"
    },
    {
     "data": {
      "image/png": "[encoded data removed]",
      "text/plain": [
       "<Figure size 640x480 with 2 Axes>"
      ]
     },
     "metadata": {},
     "output_type": "display_data"
    }
   ],
   "source": [
    "# plot the acquisition function\n",
    "\n",
    "bounds = X.generator.vocs.bounds\n",
    "model = X.generator.model\n",
    "\n",
    "# create mesh over non-fidelity parameters\n",
    "n = 50\n",
    "x = torch.linspace(*bounds.T[1], n)\n",
    "y = torch.linspace(*bounds.T[2], n)\n",
    "xx, yy = torch.meshgrid(x, y)\n",
    "\n",
    "# plot function(s) at a single fidelity parameter\n",
    "fidelities = [0.0, 0.5, 1.0]\n",
    "for fidelity in fidelities:\n",
    "    pts = torch.hstack([ele.reshape(-1, 1) for ele in (xx, yy)]).double()\n",
    "    pts = torch.cat((torch.ones(pts.shape[0],1)*fidelity, pts), dim=-1)\n",
    "\n",
    "    acq_func = X.generator.get_acquisition(model)\n",
    "    with torch.no_grad():\n",
    "        acq_pts = pts.unsqueeze(1)\n",
    "        acq = acq_func(acq_pts)\n",
    "\n",
    "        fig, ax = plt.subplots()\n",
    "\n",
    "        xxn, yyn = xx.numpy(), yy.numpy()\n",
    "\n",
    "        c = ax.pcolor(xxn, yyn, acq.reshape(n, n), cmap=\"Blues\")\n",
    "        fig.colorbar(c)\n",
    "        ax.set_title(f\"Acquisition function - s: {fidelity}\")\n",
    "\n",
    "        ax.plot(*history[[\"x1\", \"x2\"]][history[\"feasible\"]].to_numpy().T, \".C1\")\n",
    "        ax.plot(*history[[\"x1\", \"x2\"]][~history[\"feasible\"]].to_numpy().T, \".C2\")\n",
    "\n",
    "        ax.plot(*history[[\"x1\", \"x2\"]].to_numpy()[-1].T, \"+\")\n",
    "\n",
    "\n",
    "candidate = pd.DataFrame(X.generator.generate(1), index=[0])\n",
    "print(candidate[[\"x1\", \"x2\"]].to_numpy())\n",
    "ax.plot(*candidate[[\"x1\", \"x2\"]].to_numpy()[0], \"o\")"
   ]
  },
  {
   "cell_type": "code",
   "execution_count": 9,
   "metadata": {
    "ExecuteTime": {
     "start_time": "2023-09-20T14:37:17.294215100Z"
    },
    "collapsed": false,
    "execution": {
     "iopub.execute_input": "2024-08-20T19:32:57.400763Z",
     "iopub.status.busy": "2024-08-20T19:32:57.400586Z",
     "iopub.status.idle": "2024-08-20T19:32:57.406536Z",
     "shell.execute_reply": "2024-08-20T19:32:57.406003Z"
    }
   },
   "outputs": [
    {
     "data": {
      "text/plain": [
       "[('likelihood.noise_covar.raw_noise',\n",
       "  Parameter containing:\n",
       "  tensor([-24.5522], dtype=torch.float64, requires_grad=True)),\n",
       " ('mean_module.raw_constant',\n",
       "  Parameter containing:\n",
       "  tensor(0.0192, dtype=torch.float64, requires_grad=True)),\n",
       " ('covar_module.raw_outputscale',\n",
       "  Parameter containing:\n",
       "  tensor(-0.1062, dtype=torch.float64, requires_grad=True)),\n",
       " ('covar_module.base_kernel.raw_lengthscale',\n",
       "  Parameter containing:\n",
       "  tensor([[0.7532, 2.3809, 2.3590]], dtype=torch.float64, requires_grad=True))]"
      ]
     },
     "execution_count": 9,
     "metadata": {},
     "output_type": "execute_result"
    }
   ],
   "source": [
    "# examine lengthscale of the first objective\n",
    "list(model.models[0].named_parameters())"
   ]
  }
 ],
 "metadata": {
  "interpreter": {
   "hash": "72034539424920dfb606fe3b820b3f27dca0cbf1c69938110810ec4641e275b1"
  },
  "kernelspec": {
   "display_name": "Python 3 (ipykernel)",
   "language": "python",
   "name": "python3"
  },
  "language_info": {
   "codemirror_mode": {
    "name": "ipython",
    "version": 3
   },
   "file_extension": ".py",
   "mimetype": "text/x-python",
   "name": "python",
   "nbconvert_exporter": "python",
   "pygments_lexer": "ipython3",
   "version": "3.9.19"
  }
 },
 "nbformat": 4,
 "nbformat_minor": 4
}
