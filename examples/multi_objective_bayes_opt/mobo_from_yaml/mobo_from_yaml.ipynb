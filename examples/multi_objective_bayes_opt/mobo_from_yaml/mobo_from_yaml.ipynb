{
 "cells": [
  {
   "cell_type": "markdown",
   "metadata": {},
   "source": [
    "\n",
    "# Multi-objective Bayesian Optimization\n",
    "\n",
    "\n",
    "TNK function\n",
    "$n=2$ variables:\n",
    "$x_i \\in [0, \\pi], i=1,2$\n",
    "\n",
    "Objectives:\n",
    "- $f_i(x) = x_i$\n",
    "\n",
    "Constraints:\n",
    "- $g_1(x) = -x_1^2 -x_2^2 + 1 + 0.1 \\cos\\left(16 \\arctan \\frac{x_1}{x_2}\\right) \\le 0$\n",
    "- $g_2(x) = (x_1 - 1/2)^2 + (x_2-1/2)^2 \\le 0.5$"
   ]
  },
  {
   "cell_type": "code",
   "execution_count": 1,
   "metadata": {
    "collapsed": false,
    "execution": {
     "iopub.execute_input": "2024-02-08T23:53:04.895438Z",
     "iopub.status.busy": "2024-02-08T23:53:04.894952Z",
     "iopub.status.idle": "2024-02-08T23:53:06.325322Z",
     "shell.execute_reply": "2024-02-08T23:53:06.324763Z"
    }
   },
   "outputs": [],
   "source": [
    "import os\n",
    "SMOKE_TEST = os.environ.get(\"SMOKE_TEST\")\n",
    "NUM_STEPS = 2 if SMOKE_TEST else 50\n",
    "\n",
    "# Ignore all warnings\n",
    "import warnings\n",
    "warnings.filterwarnings(\"ignore\")\n",
    "\n",
    "import torch\n",
    "from xopt import Xopt\n",
    "\n",
    "\n",
    "YAML = \"\"\"\n",
    "generator:\n",
    "    name: mobo\n",
    "    reference_point: {y1: 1.5, y2: 1.5}\n",
    "\n",
    "evaluator:\n",
    "    function: xopt.resources.test_functions.tnk.evaluate_TNK\n",
    "\n",
    "vocs:\n",
    "    variables:\n",
    "        x1: [0, 3.14159]\n",
    "        x2: [0, 3.14159]\n",
    "    objectives: {y1: MINIMIZE, y2: MINIMIZE}\n",
    "    constraints:\n",
    "        c1: [GREATER_THAN, 0]\n",
    "        c2: [LESS_THAN, 0.5]\n",
    "    constants: {a: dummy_constant}\n",
    "\n",
    "\"\"\""
   ]
  },
  {
   "cell_type": "code",
   "execution_count": 2,
   "metadata": {
    "collapsed": false,
    "execution": {
     "iopub.execute_input": "2024-02-08T23:53:06.327957Z",
     "iopub.status.busy": "2024-02-08T23:53:06.327741Z",
     "iopub.status.idle": "2024-02-08T23:53:52.892570Z",
     "shell.execute_reply": "2024-02-08T23:53:52.891940Z"
    }
   },
   "outputs": [
    {
     "name": "stdout",
     "output_type": "stream",
     "text": [
      "0\n"
     ]
    },
    {
     "name": "stdout",
     "output_type": "stream",
     "text": [
      "1\n"
     ]
    },
    {
     "name": "stdout",
     "output_type": "stream",
     "text": [
      "2\n"
     ]
    },
    {
     "name": "stdout",
     "output_type": "stream",
     "text": [
      "3\n"
     ]
    },
    {
     "name": "stdout",
     "output_type": "stream",
     "text": [
      "4\n"
     ]
    },
    {
     "name": "stdout",
     "output_type": "stream",
     "text": [
      "5\n"
     ]
    },
    {
     "name": "stdout",
     "output_type": "stream",
     "text": [
      "6\n"
     ]
    },
    {
     "name": "stdout",
     "output_type": "stream",
     "text": [
      "7\n"
     ]
    },
    {
     "name": "stdout",
     "output_type": "stream",
     "text": [
      "8\n"
     ]
    },
    {
     "name": "stdout",
     "output_type": "stream",
     "text": [
      "9\n"
     ]
    },
    {
     "name": "stdout",
     "output_type": "stream",
     "text": [
      "10\n"
     ]
    },
    {
     "name": "stdout",
     "output_type": "stream",
     "text": [
      "11\n"
     ]
    },
    {
     "name": "stdout",
     "output_type": "stream",
     "text": [
      "12\n"
     ]
    },
    {
     "name": "stdout",
     "output_type": "stream",
     "text": [
      "13\n"
     ]
    },
    {
     "name": "stdout",
     "output_type": "stream",
     "text": [
      "14\n"
     ]
    },
    {
     "name": "stdout",
     "output_type": "stream",
     "text": [
      "15\n"
     ]
    },
    {
     "name": "stdout",
     "output_type": "stream",
     "text": [
      "16\n"
     ]
    },
    {
     "name": "stdout",
     "output_type": "stream",
     "text": [
      "17\n"
     ]
    },
    {
     "name": "stdout",
     "output_type": "stream",
     "text": [
      "18\n"
     ]
    },
    {
     "name": "stdout",
     "output_type": "stream",
     "text": [
      "19\n"
     ]
    },
    {
     "name": "stdout",
     "output_type": "stream",
     "text": [
      "20\n"
     ]
    },
    {
     "name": "stdout",
     "output_type": "stream",
     "text": [
      "21\n"
     ]
    },
    {
     "name": "stdout",
     "output_type": "stream",
     "text": [
      "22\n"
     ]
    },
    {
     "name": "stdout",
     "output_type": "stream",
     "text": [
      "23\n"
     ]
    },
    {
     "name": "stdout",
     "output_type": "stream",
     "text": [
      "24\n"
     ]
    },
    {
     "name": "stdout",
     "output_type": "stream",
     "text": [
      "25\n"
     ]
    },
    {
     "name": "stdout",
     "output_type": "stream",
     "text": [
      "26\n"
     ]
    },
    {
     "name": "stdout",
     "output_type": "stream",
     "text": [
      "27\n"
     ]
    },
    {
     "name": "stdout",
     "output_type": "stream",
     "text": [
      "28\n"
     ]
    },
    {
     "name": "stdout",
     "output_type": "stream",
     "text": [
      "29\n"
     ]
    },
    {
     "name": "stdout",
     "output_type": "stream",
     "text": [
      "30\n"
     ]
    },
    {
     "name": "stdout",
     "output_type": "stream",
     "text": [
      "31\n"
     ]
    },
    {
     "name": "stdout",
     "output_type": "stream",
     "text": [
      "32\n"
     ]
    },
    {
     "name": "stdout",
     "output_type": "stream",
     "text": [
      "33\n"
     ]
    },
    {
     "name": "stdout",
     "output_type": "stream",
     "text": [
      "34\n"
     ]
    },
    {
     "name": "stdout",
     "output_type": "stream",
     "text": [
      "35\n"
     ]
    },
    {
     "name": "stdout",
     "output_type": "stream",
     "text": [
      "36\n"
     ]
    },
    {
     "name": "stdout",
     "output_type": "stream",
     "text": [
      "37\n"
     ]
    },
    {
     "name": "stdout",
     "output_type": "stream",
     "text": [
      "38\n"
     ]
    },
    {
     "name": "stdout",
     "output_type": "stream",
     "text": [
      "39\n"
     ]
    },
    {
     "name": "stdout",
     "output_type": "stream",
     "text": [
      "40\n"
     ]
    },
    {
     "name": "stdout",
     "output_type": "stream",
     "text": [
      "41\n"
     ]
    },
    {
     "name": "stdout",
     "output_type": "stream",
     "text": [
      "42\n"
     ]
    },
    {
     "name": "stdout",
     "output_type": "stream",
     "text": [
      "43\n"
     ]
    },
    {
     "name": "stdout",
     "output_type": "stream",
     "text": [
      "44\n"
     ]
    },
    {
     "name": "stdout",
     "output_type": "stream",
     "text": [
      "45\n"
     ]
    },
    {
     "name": "stdout",
     "output_type": "stream",
     "text": [
      "46\n"
     ]
    },
    {
     "name": "stdout",
     "output_type": "stream",
     "text": [
      "47\n"
     ]
    },
    {
     "name": "stdout",
     "output_type": "stream",
     "text": [
      "48\n"
     ]
    },
    {
     "name": "stdout",
     "output_type": "stream",
     "text": [
      "49\n"
     ]
    }
   ],
   "source": [
    "X = Xopt.from_yaml(YAML)\n",
    "\n",
    "# for testing purposes only\n",
    "if SMOKE_TEST:\n",
    "    X.generator.numerical_optimizer.n_restarts = 1\n",
    "    X.generator.n_monte_carlo_samples = 1\n",
    "\n",
    "X.random_evaluate(5)\n",
    "for i in range(NUM_STEPS):\n",
    "    print(i)\n",
    "    X.step()"
   ]
  },
  {
   "cell_type": "code",
   "execution_count": 3,
   "metadata": {
    "collapsed": false,
    "execution": {
     "iopub.execute_input": "2024-02-08T23:53:52.895768Z",
     "iopub.status.busy": "2024-02-08T23:53:52.895234Z",
     "iopub.status.idle": "2024-02-08T23:53:52.919534Z",
     "shell.execute_reply": "2024-02-08T23:53:52.918962Z"
    }
   },
   "outputs": [
    {
     "data": {
      "text/html": [
       "<div>\n",
       "<style scoped>\n",
       "    .dataframe tbody tr th:only-of-type {\n",
       "        vertical-align: middle;\n",
       "    }\n",
       "\n",
       "    .dataframe tbody tr th {\n",
       "        vertical-align: top;\n",
       "    }\n",
       "\n",
       "    .dataframe thead th {\n",
       "        text-align: right;\n",
       "    }\n",
       "</style>\n",
       "<table border=\"1\" class=\"dataframe\">\n",
       "  <thead>\n",
       "    <tr style=\"text-align: right;\">\n",
       "      <th></th>\n",
       "      <th>x1</th>\n",
       "      <th>x2</th>\n",
       "      <th>a</th>\n",
       "      <th>y1</th>\n",
       "      <th>y2</th>\n",
       "      <th>c1</th>\n",
       "      <th>c2</th>\n",
       "      <th>xopt_runtime</th>\n",
       "      <th>xopt_error</th>\n",
       "    </tr>\n",
       "  </thead>\n",
       "  <tbody>\n",
       "    <tr>\n",
       "      <th>0</th>\n",
       "      <td>1.190325</td>\n",
       "      <td>2.585645</td>\n",
       "      <td>dummy_constant</td>\n",
       "      <td>1.190325</td>\n",
       "      <td>2.585645</td>\n",
       "      <td>7.021036</td>\n",
       "      <td>4.826466</td>\n",
       "      <td>0.000046</td>\n",
       "      <td>False</td>\n",
       "    </tr>\n",
       "    <tr>\n",
       "      <th>1</th>\n",
       "      <td>1.192106</td>\n",
       "      <td>0.241897</td>\n",
       "      <td>dummy_constant</td>\n",
       "      <td>1.192106</td>\n",
       "      <td>0.241897</td>\n",
       "      <td>0.579442</td>\n",
       "      <td>0.545628</td>\n",
       "      <td>0.000010</td>\n",
       "      <td>False</td>\n",
       "    </tr>\n",
       "    <tr>\n",
       "      <th>2</th>\n",
       "      <td>1.899276</td>\n",
       "      <td>2.921233</td>\n",
       "      <td>dummy_constant</td>\n",
       "      <td>1.899276</td>\n",
       "      <td>2.921233</td>\n",
       "      <td>11.238842</td>\n",
       "      <td>7.820345</td>\n",
       "      <td>0.000006</td>\n",
       "      <td>False</td>\n",
       "    </tr>\n",
       "    <tr>\n",
       "      <th>3</th>\n",
       "      <td>1.167124</td>\n",
       "      <td>0.302294</td>\n",
       "      <td>dummy_constant</td>\n",
       "      <td>1.167124</td>\n",
       "      <td>0.302294</td>\n",
       "      <td>0.514663</td>\n",
       "      <td>0.484141</td>\n",
       "      <td>0.000006</td>\n",
       "      <td>False</td>\n",
       "    </tr>\n",
       "    <tr>\n",
       "      <th>4</th>\n",
       "      <td>1.431397</td>\n",
       "      <td>0.442331</td>\n",
       "      <td>dummy_constant</td>\n",
       "      <td>1.431397</td>\n",
       "      <td>0.442331</td>\n",
       "      <td>1.236264</td>\n",
       "      <td>0.870827</td>\n",
       "      <td>0.000006</td>\n",
       "      <td>False</td>\n",
       "    </tr>\n",
       "    <tr>\n",
       "      <th>5</th>\n",
       "      <td>1.017481</td>\n",
       "      <td>0.268468</td>\n",
       "      <td>dummy_constant</td>\n",
       "      <td>1.017481</td>\n",
       "      <td>0.268468</td>\n",
       "      <td>0.162544</td>\n",
       "      <td>0.321394</td>\n",
       "      <td>0.000024</td>\n",
       "      <td>False</td>\n",
       "    </tr>\n",
       "    <tr>\n",
       "      <th>6</th>\n",
       "      <td>0.535292</td>\n",
       "      <td>0.033767</td>\n",
       "      <td>dummy_constant</td>\n",
       "      <td>0.535292</td>\n",
       "      <td>0.033767</td>\n",
       "      <td>-0.765680</td>\n",
       "      <td>0.218619</td>\n",
       "      <td>0.000023</td>\n",
       "      <td>False</td>\n",
       "    </tr>\n",
       "    <tr>\n",
       "      <th>7</th>\n",
       "      <td>0.008467</td>\n",
       "      <td>0.313686</td>\n",
       "      <td>dummy_constant</td>\n",
       "      <td>0.008467</td>\n",
       "      <td>0.313686</td>\n",
       "      <td>-0.992352</td>\n",
       "      <td>0.276317</td>\n",
       "      <td>0.000022</td>\n",
       "      <td>False</td>\n",
       "    </tr>\n",
       "    <tr>\n",
       "      <th>8</th>\n",
       "      <td>0.025866</td>\n",
       "      <td>0.935056</td>\n",
       "      <td>dummy_constant</td>\n",
       "      <td>0.025866</td>\n",
       "      <td>0.935056</td>\n",
       "      <td>-0.215370</td>\n",
       "      <td>0.414077</td>\n",
       "      <td>0.000023</td>\n",
       "      <td>False</td>\n",
       "    </tr>\n",
       "    <tr>\n",
       "      <th>9</th>\n",
       "      <td>0.118754</td>\n",
       "      <td>1.072656</td>\n",
       "      <td>dummy_constant</td>\n",
       "      <td>0.118754</td>\n",
       "      <td>1.072656</td>\n",
       "      <td>0.183912</td>\n",
       "      <td>0.473283</td>\n",
       "      <td>0.000021</td>\n",
       "      <td>False</td>\n",
       "    </tr>\n",
       "    <tr>\n",
       "      <th>10</th>\n",
       "      <td>0.148590</td>\n",
       "      <td>0.997453</td>\n",
       "      <td>dummy_constant</td>\n",
       "      <td>0.148590</td>\n",
       "      <td>0.997453</td>\n",
       "      <td>0.088400</td>\n",
       "      <td>0.370948</td>\n",
       "      <td>0.000022</td>\n",
       "      <td>False</td>\n",
       "    </tr>\n",
       "    <tr>\n",
       "      <th>11</th>\n",
       "      <td>0.540440</td>\n",
       "      <td>0.752061</td>\n",
       "      <td>dummy_constant</td>\n",
       "      <td>0.540440</td>\n",
       "      <td>0.752061</td>\n",
       "      <td>-0.056814</td>\n",
       "      <td>0.065170</td>\n",
       "      <td>0.000024</td>\n",
       "      <td>False</td>\n",
       "    </tr>\n",
       "    <tr>\n",
       "      <th>12</th>\n",
       "      <td>0.981453</td>\n",
       "      <td>0.092539</td>\n",
       "      <td>dummy_constant</td>\n",
       "      <td>0.981453</td>\n",
       "      <td>0.092539</td>\n",
       "      <td>-0.034846</td>\n",
       "      <td>0.397822</td>\n",
       "      <td>0.000020</td>\n",
       "      <td>False</td>\n",
       "    </tr>\n",
       "    <tr>\n",
       "      <th>13</th>\n",
       "      <td>0.551634</td>\n",
       "      <td>0.802531</td>\n",
       "      <td>dummy_constant</td>\n",
       "      <td>0.551634</td>\n",
       "      <td>0.802531</td>\n",
       "      <td>0.046151</td>\n",
       "      <td>0.094191</td>\n",
       "      <td>0.000024</td>\n",
       "      <td>False</td>\n",
       "    </tr>\n",
       "    <tr>\n",
       "      <th>14</th>\n",
       "      <td>0.901560</td>\n",
       "      <td>0.461669</td>\n",
       "      <td>dummy_constant</td>\n",
       "      <td>0.901560</td>\n",
       "      <td>0.461669</td>\n",
       "      <td>-0.001857</td>\n",
       "      <td>0.162720</td>\n",
       "      <td>0.000022</td>\n",
       "      <td>False</td>\n",
       "    </tr>\n",
       "    <tr>\n",
       "      <th>15</th>\n",
       "      <td>0.355566</td>\n",
       "      <td>0.885448</td>\n",
       "      <td>dummy_constant</td>\n",
       "      <td>0.355566</td>\n",
       "      <td>0.885448</td>\n",
       "      <td>-0.188054</td>\n",
       "      <td>0.169431</td>\n",
       "      <td>0.000023</td>\n",
       "      <td>False</td>\n",
       "    </tr>\n",
       "    <tr>\n",
       "      <th>16</th>\n",
       "      <td>0.277469</td>\n",
       "      <td>1.339938</td>\n",
       "      <td>dummy_constant</td>\n",
       "      <td>0.277469</td>\n",
       "      <td>1.339938</td>\n",
       "      <td>0.971638</td>\n",
       "      <td>0.755016</td>\n",
       "      <td>0.000022</td>\n",
       "      <td>False</td>\n",
       "    </tr>\n",
       "    <tr>\n",
       "      <th>17</th>\n",
       "      <td>1.000997</td>\n",
       "      <td>0.021947</td>\n",
       "      <td>dummy_constant</td>\n",
       "      <td>1.000997</td>\n",
       "      <td>0.021947</td>\n",
       "      <td>-0.091435</td>\n",
       "      <td>0.479532</td>\n",
       "      <td>0.000025</td>\n",
       "      <td>False</td>\n",
       "    </tr>\n",
       "    <tr>\n",
       "      <th>18</th>\n",
       "      <td>0.715852</td>\n",
       "      <td>0.725893</td>\n",
       "      <td>dummy_constant</td>\n",
       "      <td>0.715852</td>\n",
       "      <td>0.725893</td>\n",
       "      <td>-0.060015</td>\n",
       "      <td>0.097620</td>\n",
       "      <td>0.000025</td>\n",
       "      <td>False</td>\n",
       "    </tr>\n",
       "    <tr>\n",
       "      <th>19</th>\n",
       "      <td>1.035163</td>\n",
       "      <td>0.070561</td>\n",
       "      <td>dummy_constant</td>\n",
       "      <td>1.035163</td>\n",
       "      <td>0.070561</td>\n",
       "      <td>0.030199</td>\n",
       "      <td>0.470817</td>\n",
       "      <td>0.000025</td>\n",
       "      <td>False</td>\n",
       "    </tr>\n",
       "    <tr>\n",
       "      <th>20</th>\n",
       "      <td>0.586641</td>\n",
       "      <td>0.847611</td>\n",
       "      <td>dummy_constant</td>\n",
       "      <td>0.586641</td>\n",
       "      <td>0.847611</td>\n",
       "      <td>0.159185</td>\n",
       "      <td>0.128340</td>\n",
       "      <td>0.000025</td>\n",
       "      <td>False</td>\n",
       "    </tr>\n",
       "    <tr>\n",
       "      <th>21</th>\n",
       "      <td>0.399413</td>\n",
       "      <td>0.925384</td>\n",
       "      <td>dummy_constant</td>\n",
       "      <td>0.399413</td>\n",
       "      <td>0.925384</td>\n",
       "      <td>-0.081357</td>\n",
       "      <td>0.191069</td>\n",
       "      <td>0.000026</td>\n",
       "      <td>False</td>\n",
       "    </tr>\n",
       "    <tr>\n",
       "      <th>22</th>\n",
       "      <td>0.304447</td>\n",
       "      <td>0.983051</td>\n",
       "      <td>dummy_constant</td>\n",
       "      <td>0.304447</td>\n",
       "      <td>0.983051</td>\n",
       "      <td>0.049803</td>\n",
       "      <td>0.271579</td>\n",
       "      <td>0.000025</td>\n",
       "      <td>False</td>\n",
       "    </tr>\n",
       "    <tr>\n",
       "      <th>23</th>\n",
       "      <td>0.831376</td>\n",
       "      <td>0.616761</td>\n",
       "      <td>dummy_constant</td>\n",
       "      <td>0.831376</td>\n",
       "      <td>0.616761</td>\n",
       "      <td>0.142142</td>\n",
       "      <td>0.123444</td>\n",
       "      <td>0.000026</td>\n",
       "      <td>False</td>\n",
       "    </tr>\n",
       "    <tr>\n",
       "      <th>24</th>\n",
       "      <td>0.832796</td>\n",
       "      <td>0.361803</td>\n",
       "      <td>dummy_constant</td>\n",
       "      <td>0.832796</td>\n",
       "      <td>0.361803</td>\n",
       "      <td>-0.271811</td>\n",
       "      <td>0.129851</td>\n",
       "      <td>0.000025</td>\n",
       "      <td>False</td>\n",
       "    </tr>\n",
       "    <tr>\n",
       "      <th>25</th>\n",
       "      <td>1.060365</td>\n",
       "      <td>0.079034</td>\n",
       "      <td>dummy_constant</td>\n",
       "      <td>1.060365</td>\n",
       "      <td>0.079034</td>\n",
       "      <td>0.093487</td>\n",
       "      <td>0.491221</td>\n",
       "      <td>0.000027</td>\n",
       "      <td>False</td>\n",
       "    </tr>\n",
       "    <tr>\n",
       "      <th>26</th>\n",
       "      <td>0.211930</td>\n",
       "      <td>0.912672</td>\n",
       "      <td>dummy_constant</td>\n",
       "      <td>0.211930</td>\n",
       "      <td>0.912672</td>\n",
       "      <td>-0.034794</td>\n",
       "      <td>0.253283</td>\n",
       "      <td>0.000024</td>\n",
       "      <td>False</td>\n",
       "    </tr>\n",
       "    <tr>\n",
       "      <th>27</th>\n",
       "      <td>0.494516</td>\n",
       "      <td>0.481048</td>\n",
       "      <td>dummy_constant</td>\n",
       "      <td>0.494516</td>\n",
       "      <td>0.481048</td>\n",
       "      <td>-0.621618</td>\n",
       "      <td>0.000389</td>\n",
       "      <td>0.000026</td>\n",
       "      <td>False</td>\n",
       "    </tr>\n",
       "    <tr>\n",
       "      <th>28</th>\n",
       "      <td>0.965914</td>\n",
       "      <td>0.333926</td>\n",
       "      <td>dummy_constant</td>\n",
       "      <td>0.965914</td>\n",
       "      <td>0.333926</td>\n",
       "      <td>-0.013050</td>\n",
       "      <td>0.244657</td>\n",
       "      <td>0.000026</td>\n",
       "      <td>False</td>\n",
       "    </tr>\n",
       "    <tr>\n",
       "      <th>29</th>\n",
       "      <td>0.498320</td>\n",
       "      <td>0.872774</td>\n",
       "      <td>dummy_constant</td>\n",
       "      <td>0.498320</td>\n",
       "      <td>0.872774</td>\n",
       "      <td>0.053258</td>\n",
       "      <td>0.138963</td>\n",
       "      <td>0.000026</td>\n",
       "      <td>False</td>\n",
       "    </tr>\n",
       "    <tr>\n",
       "      <th>30</th>\n",
       "      <td>0.631860</td>\n",
       "      <td>0.786490</td>\n",
       "      <td>dummy_constant</td>\n",
       "      <td>0.631860</td>\n",
       "      <td>0.786490</td>\n",
       "      <td>0.034404</td>\n",
       "      <td>0.099464</td>\n",
       "      <td>0.000027</td>\n",
       "      <td>False</td>\n",
       "    </tr>\n",
       "    <tr>\n",
       "      <th>31</th>\n",
       "      <td>0.245653</td>\n",
       "      <td>0.772100</td>\n",
       "      <td>dummy_constant</td>\n",
       "      <td>0.245653</td>\n",
       "      <td>0.772100</td>\n",
       "      <td>-0.364966</td>\n",
       "      <td>0.138731</td>\n",
       "      <td>0.000027</td>\n",
       "      <td>False</td>\n",
       "    </tr>\n",
       "    <tr>\n",
       "      <th>32</th>\n",
       "      <td>0.490002</td>\n",
       "      <td>0.447064</td>\n",
       "      <td>dummy_constant</td>\n",
       "      <td>0.490002</td>\n",
       "      <td>0.447064</td>\n",
       "      <td>-0.634374</td>\n",
       "      <td>0.002902</td>\n",
       "      <td>0.000027</td>\n",
       "      <td>False</td>\n",
       "    </tr>\n",
       "    <tr>\n",
       "      <th>33</th>\n",
       "      <td>0.870928</td>\n",
       "      <td>0.533161</td>\n",
       "      <td>dummy_constant</td>\n",
       "      <td>0.870928</td>\n",
       "      <td>0.533161</td>\n",
       "      <td>0.123249</td>\n",
       "      <td>0.138688</td>\n",
       "      <td>0.000025</td>\n",
       "      <td>False</td>\n",
       "    </tr>\n",
       "    <tr>\n",
       "      <th>34</th>\n",
       "      <td>0.564413</td>\n",
       "      <td>0.826854</td>\n",
       "      <td>dummy_constant</td>\n",
       "      <td>0.564413</td>\n",
       "      <td>0.826854</td>\n",
       "      <td>0.100996</td>\n",
       "      <td>0.110983</td>\n",
       "      <td>0.000027</td>\n",
       "      <td>False</td>\n",
       "    </tr>\n",
       "    <tr>\n",
       "      <th>35</th>\n",
       "      <td>0.341320</td>\n",
       "      <td>0.623099</td>\n",
       "      <td>dummy_constant</td>\n",
       "      <td>0.341320</td>\n",
       "      <td>0.623099</td>\n",
       "      <td>-0.478902</td>\n",
       "      <td>0.040333</td>\n",
       "      <td>0.000052</td>\n",
       "      <td>False</td>\n",
       "    </tr>\n",
       "    <tr>\n",
       "      <th>36</th>\n",
       "      <td>0.495174</td>\n",
       "      <td>0.285000</td>\n",
       "      <td>dummy_constant</td>\n",
       "      <td>0.495174</td>\n",
       "      <td>0.285000</td>\n",
       "      <td>-0.625456</td>\n",
       "      <td>0.046248</td>\n",
       "      <td>0.000026</td>\n",
       "      <td>False</td>\n",
       "    </tr>\n",
       "    <tr>\n",
       "      <th>37</th>\n",
       "      <td>0.160898</td>\n",
       "      <td>0.022909</td>\n",
       "      <td>dummy_constant</td>\n",
       "      <td>0.160898</td>\n",
       "      <td>0.022909</td>\n",
       "      <td>-0.909769</td>\n",
       "      <td>0.342606</td>\n",
       "      <td>0.000027</td>\n",
       "      <td>False</td>\n",
       "    </tr>\n",
       "    <tr>\n",
       "      <th>38</th>\n",
       "      <td>2.722209</td>\n",
       "      <td>2.036871</td>\n",
       "      <td>dummy_constant</td>\n",
       "      <td>2.722209</td>\n",
       "      <td>2.036871</td>\n",
       "      <td>10.625020</td>\n",
       "      <td>7.300185</td>\n",
       "      <td>0.000027</td>\n",
       "      <td>False</td>\n",
       "    </tr>\n",
       "    <tr>\n",
       "      <th>39</th>\n",
       "      <td>0.056289</td>\n",
       "      <td>1.031107</td>\n",
       "      <td>dummy_constant</td>\n",
       "      <td>0.056289</td>\n",
       "      <td>1.031107</td>\n",
       "      <td>0.002066</td>\n",
       "      <td>0.478955</td>\n",
       "      <td>0.000026</td>\n",
       "      <td>False</td>\n",
       "    </tr>\n",
       "    <tr>\n",
       "      <th>40</th>\n",
       "      <td>0.765374</td>\n",
       "      <td>0.651812</td>\n",
       "      <td>dummy_constant</td>\n",
       "      <td>0.765374</td>\n",
       "      <td>0.651812</td>\n",
       "      <td>-0.018076</td>\n",
       "      <td>0.093470</td>\n",
       "      <td>0.000027</td>\n",
       "      <td>False</td>\n",
       "    </tr>\n",
       "    <tr>\n",
       "      <th>41</th>\n",
       "      <td>2.113670</td>\n",
       "      <td>2.473852</td>\n",
       "      <td>dummy_constant</td>\n",
       "      <td>2.113670</td>\n",
       "      <td>2.473852</td>\n",
       "      <td>9.556360</td>\n",
       "      <td>6.500024</td>\n",
       "      <td>0.000027</td>\n",
       "      <td>False</td>\n",
       "    </tr>\n",
       "    <tr>\n",
       "      <th>42</th>\n",
       "      <td>0.516472</td>\n",
       "      <td>0.845084</td>\n",
       "      <td>dummy_constant</td>\n",
       "      <td>0.516472</td>\n",
       "      <td>0.845084</td>\n",
       "      <td>0.060667</td>\n",
       "      <td>0.119354</td>\n",
       "      <td>0.000026</td>\n",
       "      <td>False</td>\n",
       "    </tr>\n",
       "    <tr>\n",
       "      <th>43</th>\n",
       "      <td>0.933985</td>\n",
       "      <td>0.387396</td>\n",
       "      <td>dummy_constant</td>\n",
       "      <td>0.933985</td>\n",
       "      <td>0.387396</td>\n",
       "      <td>-0.077593</td>\n",
       "      <td>0.201023</td>\n",
       "      <td>0.000027</td>\n",
       "      <td>False</td>\n",
       "    </tr>\n",
       "    <tr>\n",
       "      <th>44</th>\n",
       "      <td>0.439567</td>\n",
       "      <td>0.892495</td>\n",
       "      <td>dummy_constant</td>\n",
       "      <td>0.439567</td>\n",
       "      <td>0.892495</td>\n",
       "      <td>-0.060935</td>\n",
       "      <td>0.157705</td>\n",
       "      <td>0.000027</td>\n",
       "      <td>False</td>\n",
       "    </tr>\n",
       "    <tr>\n",
       "      <th>45</th>\n",
       "      <td>1.011286</td>\n",
       "      <td>0.151388</td>\n",
       "      <td>dummy_constant</td>\n",
       "      <td>1.011286</td>\n",
       "      <td>0.151388</td>\n",
       "      <td>0.117821</td>\n",
       "      <td>0.382943</td>\n",
       "      <td>0.000027</td>\n",
       "      <td>False</td>\n",
       "    </tr>\n",
       "    <tr>\n",
       "      <th>46</th>\n",
       "      <td>0.524471</td>\n",
       "      <td>0.782555</td>\n",
       "      <td>dummy_constant</td>\n",
       "      <td>0.524471</td>\n",
       "      <td>0.782555</td>\n",
       "      <td>-0.012562</td>\n",
       "      <td>0.080436</td>\n",
       "      <td>0.000027</td>\n",
       "      <td>False</td>\n",
       "    </tr>\n",
       "    <tr>\n",
       "      <th>47</th>\n",
       "      <td>0.662029</td>\n",
       "      <td>0.743214</td>\n",
       "      <td>dummy_constant</td>\n",
       "      <td>0.662029</td>\n",
       "      <td>0.743214</td>\n",
       "      <td>-0.069668</td>\n",
       "      <td>0.085406</td>\n",
       "      <td>0.000026</td>\n",
       "      <td>False</td>\n",
       "    </tr>\n",
       "    <tr>\n",
       "      <th>48</th>\n",
       "      <td>0.215870</td>\n",
       "      <td>0.940303</td>\n",
       "      <td>dummy_constant</td>\n",
       "      <td>0.215870</td>\n",
       "      <td>0.940303</td>\n",
       "      <td>0.019970</td>\n",
       "      <td>0.274597</td>\n",
       "      <td>0.000026</td>\n",
       "      <td>False</td>\n",
       "    </tr>\n",
       "    <tr>\n",
       "      <th>49</th>\n",
       "      <td>1.095864</td>\n",
       "      <td>0.029817</td>\n",
       "      <td>dummy_constant</td>\n",
       "      <td>1.095864</td>\n",
       "      <td>0.029817</td>\n",
       "      <td>0.111130</td>\n",
       "      <td>0.576126</td>\n",
       "      <td>0.000026</td>\n",
       "      <td>False</td>\n",
       "    </tr>\n",
       "    <tr>\n",
       "      <th>50</th>\n",
       "      <td>0.126158</td>\n",
       "      <td>0.706578</td>\n",
       "      <td>dummy_constant</td>\n",
       "      <td>0.126158</td>\n",
       "      <td>0.706578</td>\n",
       "      <td>-0.389740</td>\n",
       "      <td>0.182432</td>\n",
       "      <td>0.000028</td>\n",
       "      <td>False</td>\n",
       "    </tr>\n",
       "    <tr>\n",
       "      <th>51</th>\n",
       "      <td>0.748233</td>\n",
       "      <td>0.689119</td>\n",
       "      <td>dummy_constant</td>\n",
       "      <td>0.748233</td>\n",
       "      <td>0.689119</td>\n",
       "      <td>-0.044405</td>\n",
       "      <td>0.097386</td>\n",
       "      <td>0.000027</td>\n",
       "      <td>False</td>\n",
       "    </tr>\n",
       "    <tr>\n",
       "      <th>52</th>\n",
       "      <td>0.269161</td>\n",
       "      <td>0.959294</td>\n",
       "      <td>dummy_constant</td>\n",
       "      <td>0.269161</td>\n",
       "      <td>0.959294</td>\n",
       "      <td>0.025627</td>\n",
       "      <td>0.264237</td>\n",
       "      <td>0.000026</td>\n",
       "      <td>False</td>\n",
       "    </tr>\n",
       "    <tr>\n",
       "      <th>53</th>\n",
       "      <td>0.809262</td>\n",
       "      <td>0.227873</td>\n",
       "      <td>dummy_constant</td>\n",
       "      <td>0.809262</td>\n",
       "      <td>0.227873</td>\n",
       "      <td>-0.261636</td>\n",
       "      <td>0.169696</td>\n",
       "      <td>0.000026</td>\n",
       "      <td>False</td>\n",
       "    </tr>\n",
       "    <tr>\n",
       "      <th>54</th>\n",
       "      <td>0.204058</td>\n",
       "      <td>0.977954</td>\n",
       "      <td>dummy_constant</td>\n",
       "      <td>0.204058</td>\n",
       "      <td>0.977954</td>\n",
       "      <td>0.096914</td>\n",
       "      <td>0.316022</td>\n",
       "      <td>0.000027</td>\n",
       "      <td>False</td>\n",
       "    </tr>\n",
       "  </tbody>\n",
       "</table>\n",
       "</div>"
      ],
      "text/plain": [
       "          x1        x2               a        y1        y2         c1  \\\n",
       "0   1.190325  2.585645  dummy_constant  1.190325  2.585645   7.021036   \n",
       "1   1.192106  0.241897  dummy_constant  1.192106  0.241897   0.579442   \n",
       "2   1.899276  2.921233  dummy_constant  1.899276  2.921233  11.238842   \n",
       "3   1.167124  0.302294  dummy_constant  1.167124  0.302294   0.514663   \n",
       "4   1.431397  0.442331  dummy_constant  1.431397  0.442331   1.236264   \n",
       "5   1.017481  0.268468  dummy_constant  1.017481  0.268468   0.162544   \n",
       "6   0.535292  0.033767  dummy_constant  0.535292  0.033767  -0.765680   \n",
       "7   0.008467  0.313686  dummy_constant  0.008467  0.313686  -0.992352   \n",
       "8   0.025866  0.935056  dummy_constant  0.025866  0.935056  -0.215370   \n",
       "9   0.118754  1.072656  dummy_constant  0.118754  1.072656   0.183912   \n",
       "10  0.148590  0.997453  dummy_constant  0.148590  0.997453   0.088400   \n",
       "11  0.540440  0.752061  dummy_constant  0.540440  0.752061  -0.056814   \n",
       "12  0.981453  0.092539  dummy_constant  0.981453  0.092539  -0.034846   \n",
       "13  0.551634  0.802531  dummy_constant  0.551634  0.802531   0.046151   \n",
       "14  0.901560  0.461669  dummy_constant  0.901560  0.461669  -0.001857   \n",
       "15  0.355566  0.885448  dummy_constant  0.355566  0.885448  -0.188054   \n",
       "16  0.277469  1.339938  dummy_constant  0.277469  1.339938   0.971638   \n",
       "17  1.000997  0.021947  dummy_constant  1.000997  0.021947  -0.091435   \n",
       "18  0.715852  0.725893  dummy_constant  0.715852  0.725893  -0.060015   \n",
       "19  1.035163  0.070561  dummy_constant  1.035163  0.070561   0.030199   \n",
       "20  0.586641  0.847611  dummy_constant  0.586641  0.847611   0.159185   \n",
       "21  0.399413  0.925384  dummy_constant  0.399413  0.925384  -0.081357   \n",
       "22  0.304447  0.983051  dummy_constant  0.304447  0.983051   0.049803   \n",
       "23  0.831376  0.616761  dummy_constant  0.831376  0.616761   0.142142   \n",
       "24  0.832796  0.361803  dummy_constant  0.832796  0.361803  -0.271811   \n",
       "25  1.060365  0.079034  dummy_constant  1.060365  0.079034   0.093487   \n",
       "26  0.211930  0.912672  dummy_constant  0.211930  0.912672  -0.034794   \n",
       "27  0.494516  0.481048  dummy_constant  0.494516  0.481048  -0.621618   \n",
       "28  0.965914  0.333926  dummy_constant  0.965914  0.333926  -0.013050   \n",
       "29  0.498320  0.872774  dummy_constant  0.498320  0.872774   0.053258   \n",
       "30  0.631860  0.786490  dummy_constant  0.631860  0.786490   0.034404   \n",
       "31  0.245653  0.772100  dummy_constant  0.245653  0.772100  -0.364966   \n",
       "32  0.490002  0.447064  dummy_constant  0.490002  0.447064  -0.634374   \n",
       "33  0.870928  0.533161  dummy_constant  0.870928  0.533161   0.123249   \n",
       "34  0.564413  0.826854  dummy_constant  0.564413  0.826854   0.100996   \n",
       "35  0.341320  0.623099  dummy_constant  0.341320  0.623099  -0.478902   \n",
       "36  0.495174  0.285000  dummy_constant  0.495174  0.285000  -0.625456   \n",
       "37  0.160898  0.022909  dummy_constant  0.160898  0.022909  -0.909769   \n",
       "38  2.722209  2.036871  dummy_constant  2.722209  2.036871  10.625020   \n",
       "39  0.056289  1.031107  dummy_constant  0.056289  1.031107   0.002066   \n",
       "40  0.765374  0.651812  dummy_constant  0.765374  0.651812  -0.018076   \n",
       "41  2.113670  2.473852  dummy_constant  2.113670  2.473852   9.556360   \n",
       "42  0.516472  0.845084  dummy_constant  0.516472  0.845084   0.060667   \n",
       "43  0.933985  0.387396  dummy_constant  0.933985  0.387396  -0.077593   \n",
       "44  0.439567  0.892495  dummy_constant  0.439567  0.892495  -0.060935   \n",
       "45  1.011286  0.151388  dummy_constant  1.011286  0.151388   0.117821   \n",
       "46  0.524471  0.782555  dummy_constant  0.524471  0.782555  -0.012562   \n",
       "47  0.662029  0.743214  dummy_constant  0.662029  0.743214  -0.069668   \n",
       "48  0.215870  0.940303  dummy_constant  0.215870  0.940303   0.019970   \n",
       "49  1.095864  0.029817  dummy_constant  1.095864  0.029817   0.111130   \n",
       "50  0.126158  0.706578  dummy_constant  0.126158  0.706578  -0.389740   \n",
       "51  0.748233  0.689119  dummy_constant  0.748233  0.689119  -0.044405   \n",
       "52  0.269161  0.959294  dummy_constant  0.269161  0.959294   0.025627   \n",
       "53  0.809262  0.227873  dummy_constant  0.809262  0.227873  -0.261636   \n",
       "54  0.204058  0.977954  dummy_constant  0.204058  0.977954   0.096914   \n",
       "\n",
       "          c2  xopt_runtime  xopt_error  \n",
       "0   4.826466      0.000046       False  \n",
       "1   0.545628      0.000010       False  \n",
       "2   7.820345      0.000006       False  \n",
       "3   0.484141      0.000006       False  \n",
       "4   0.870827      0.000006       False  \n",
       "5   0.321394      0.000024       False  \n",
       "6   0.218619      0.000023       False  \n",
       "7   0.276317      0.000022       False  \n",
       "8   0.414077      0.000023       False  \n",
       "9   0.473283      0.000021       False  \n",
       "10  0.370948      0.000022       False  \n",
       "11  0.065170      0.000024       False  \n",
       "12  0.397822      0.000020       False  \n",
       "13  0.094191      0.000024       False  \n",
       "14  0.162720      0.000022       False  \n",
       "15  0.169431      0.000023       False  \n",
       "16  0.755016      0.000022       False  \n",
       "17  0.479532      0.000025       False  \n",
       "18  0.097620      0.000025       False  \n",
       "19  0.470817      0.000025       False  \n",
       "20  0.128340      0.000025       False  \n",
       "21  0.191069      0.000026       False  \n",
       "22  0.271579      0.000025       False  \n",
       "23  0.123444      0.000026       False  \n",
       "24  0.129851      0.000025       False  \n",
       "25  0.491221      0.000027       False  \n",
       "26  0.253283      0.000024       False  \n",
       "27  0.000389      0.000026       False  \n",
       "28  0.244657      0.000026       False  \n",
       "29  0.138963      0.000026       False  \n",
       "30  0.099464      0.000027       False  \n",
       "31  0.138731      0.000027       False  \n",
       "32  0.002902      0.000027       False  \n",
       "33  0.138688      0.000025       False  \n",
       "34  0.110983      0.000027       False  \n",
       "35  0.040333      0.000052       False  \n",
       "36  0.046248      0.000026       False  \n",
       "37  0.342606      0.000027       False  \n",
       "38  7.300185      0.000027       False  \n",
       "39  0.478955      0.000026       False  \n",
       "40  0.093470      0.000027       False  \n",
       "41  6.500024      0.000027       False  \n",
       "42  0.119354      0.000026       False  \n",
       "43  0.201023      0.000027       False  \n",
       "44  0.157705      0.000027       False  \n",
       "45  0.382943      0.000027       False  \n",
       "46  0.080436      0.000027       False  \n",
       "47  0.085406      0.000026       False  \n",
       "48  0.274597      0.000026       False  \n",
       "49  0.576126      0.000026       False  \n",
       "50  0.182432      0.000028       False  \n",
       "51  0.097386      0.000027       False  \n",
       "52  0.264237      0.000026       False  \n",
       "53  0.169696      0.000026       False  \n",
       "54  0.316022      0.000027       False  "
      ]
     },
     "execution_count": 3,
     "metadata": {},
     "output_type": "execute_result"
    }
   ],
   "source": [
    "X.generator.data"
   ]
  },
  {
   "cell_type": "markdown",
   "metadata": {
    "collapsed": false
   },
   "source": [
    "## plot results\n"
   ]
  },
  {
   "cell_type": "code",
   "execution_count": 4,
   "metadata": {
    "collapsed": false,
    "execution": {
     "iopub.execute_input": "2024-02-08T23:53:52.921764Z",
     "iopub.status.busy": "2024-02-08T23:53:52.921565Z",
     "iopub.status.idle": "2024-02-08T23:53:53.396108Z",
     "shell.execute_reply": "2024-02-08T23:53:53.395536Z"
    }
   },
   "outputs": [
    {
     "data": {
      "image/png": "[encoded data removed]",
      "text/plain": [
       "<Figure size 640x480 with 1 Axes>"
      ]
     },
     "metadata": {},
     "output_type": "display_data"
    }
   ],
   "source": [
    "import matplotlib.pyplot as plt\n",
    "import numpy as np\n",
    "import pandas as pd\n",
    "\n",
    "fig, ax = plt.subplots()\n",
    "\n",
    "theta = np.linspace(0, np.pi / 2)\n",
    "r = np.sqrt(1 + 0.1 * np.cos(16 * theta))\n",
    "x_1 = r * np.sin(theta)\n",
    "x_2_lower = r * np.cos(theta)\n",
    "x_2_upper = (0.5 - (x_1 - 0.5) ** 2) ** 0.5 + 0.5\n",
    "\n",
    "z = np.zeros_like(x_1)\n",
    "\n",
    "# ax2.plot(x_1, x_2_lower,'r')\n",
    "ax.fill_between(x_1, z, x_2_lower, fc=\"white\")\n",
    "circle = plt.Circle(\n",
    "    (0.5, 0.5), 0.5 ** 0.5, color=\"r\", alpha=0.25, zorder=0, label=\"Valid Region\"\n",
    ")\n",
    "ax.add_patch(circle)\n",
    "history = pd.concat(\n",
    "    [X.data, X.vocs.feasibility_data(X.data)], axis=1, ignore_index=False\n",
    ")\n",
    "\n",
    "\n",
    "ax.plot(*history[[\"x1\", \"x2\"]][history[\"feasible\"]].to_numpy().T, \".C1\")\n",
    "ax.plot(*history[[\"x1\", \"x2\"]][~history[\"feasible\"]].to_numpy().T, \".C2\")\n",
    "\n",
    "ax.set_xlim(0, 3.14)\n",
    "ax.set_ylim(0, 3.14)\n",
    "ax.set_xlabel(\"x1\")\n",
    "ax.set_ylabel(\"x2\")\n",
    "ax.set_aspect(\"equal\")"
   ]
  },
  {
   "cell_type": "markdown",
   "metadata": {
    "collapsed": false
   },
   "source": [
    "### Plot path through input space"
   ]
  },
  {
   "cell_type": "code",
   "execution_count": 5,
   "metadata": {
    "collapsed": false,
    "execution": {
     "iopub.execute_input": "2024-02-08T23:53:53.398372Z",
     "iopub.status.busy": "2024-02-08T23:53:53.398137Z",
     "iopub.status.idle": "2024-02-08T23:53:53.516695Z",
     "shell.execute_reply": "2024-02-08T23:53:53.516114Z"
    }
   },
   "outputs": [
    {
     "data": {
      "image/png": "[encoded data removed]",
      "text/plain": [
       "<Figure size 640x480 with 1 Axes>"
      ]
     },
     "metadata": {},
     "output_type": "display_data"
    }
   ],
   "source": [
    "ax = history.plot(\"x1\", \"x2\")\n",
    "ax.set_ylim(0, 3.14)\n",
    "ax.set_xlim(0, 3.14)\n",
    "ax.set_aspect(\"equal\")"
   ]
  },
  {
   "cell_type": "code",
   "execution_count": 6,
   "metadata": {
    "collapsed": false,
    "execution": {
     "iopub.execute_input": "2024-02-08T23:53:53.518809Z",
     "iopub.status.busy": "2024-02-08T23:53:53.518626Z",
     "iopub.status.idle": "2024-02-08T23:53:59.180380Z",
     "shell.execute_reply": "2024-02-08T23:53:59.179819Z"
    }
   },
   "outputs": [
    {
     "name": "stdout",
     "output_type": "stream",
     "text": [
      "[[0.61790795 0.16509246]]\n"
     ]
    },
    {
     "data": {
      "text/plain": [
       "[<matplotlib.lines.Line2D at 0x7f243ca912b0>]"
      ]
     },
     "execution_count": 6,
     "metadata": {},
     "output_type": "execute_result"
    },
    {
     "data": {
      "image/png": "[encoded data removed]",
      "text/plain": [
       "<Figure size 800x800 with 2 Axes>"
      ]
     },
     "metadata": {},
     "output_type": "display_data"
    },
    {
     "data": {
      "image/png": "[encoded data removed]",
      "text/plain": [
       "<Figure size 800x800 with 2 Axes>"
      ]
     },
     "metadata": {},
     "output_type": "display_data"
    }
   ],
   "source": [
    "# plot the acquisition function\n",
    "from xopt.generators.bayesian.objectives import feasibility\n",
    "\n",
    "bounds = X.generator.vocs.bounds\n",
    "model = X.generator.model\n",
    "\n",
    "# create mesh\n",
    "n = 100\n",
    "x = torch.linspace(*bounds.T[0], n)\n",
    "y = torch.linspace(*bounds.T[1], n)\n",
    "xx, yy = torch.meshgrid(x, y)\n",
    "pts = torch.hstack([ele.reshape(-1, 1) for ele in (xx, yy)]).double()\n",
    "\n",
    "xx, yy = xx.numpy(), yy.numpy()\n",
    "\n",
    "acq_func = X.generator.get_acquisition(model)\n",
    "with torch.no_grad():\n",
    "    acq_pts = pts.unsqueeze(1)\n",
    "    acq = acq_func(acq_pts)\n",
    "\n",
    "    fig, ax = plt.subplots(figsize=(8,8))\n",
    "    c = ax.pcolor(xx, yy, acq.reshape(n, n), cmap=\"Blues\")\n",
    "    fig.colorbar(c)\n",
    "    ax.set_title(\"Acquisition function\")\n",
    "\n",
    "    ax.plot(*history[[\"x1\", \"x2\"]][history[\"feasible\"]].to_numpy().T, \".C1\")\n",
    "    ax.plot(*history[[\"x1\", \"x2\"]][~history[\"feasible\"]].to_numpy().T, \".C2\")\n",
    "\n",
    "    ax.plot(*history[[\"x1\", \"x2\"]].to_numpy()[-1].T, \"+\")\n",
    "\n",
    "    feas = feasibility(pts.unsqueeze(1), model, X.vocs).flatten()\n",
    "\n",
    "    fig2, ax2 = plt.subplots(figsize=(8,8))\n",
    "    c = ax2.pcolor(xx, yy, feas.reshape(n, n))\n",
    "    fig2.colorbar(c)\n",
    "    ax2.set_title(\"Feasible Region\")\n",
    "\n",
    "candidate = pd.DataFrame(X.generator.generate(1), index=[0])\n",
    "print(candidate[[\"x1\", \"x2\"]].to_numpy())\n",
    "ax.plot(*candidate[[\"x1\", \"x2\"]].to_numpy()[0], \"o\")"
   ]
  }
 ],
 "metadata": {
  "interpreter": {
   "hash": "72034539424920dfb606fe3b820b3f27dca0cbf1c69938110810ec4641e275b1"
  },
  "kernelspec": {
   "display_name": "Python 3 (ipykernel)",
   "language": "python",
   "name": "python3"
  },
  "language_info": {
   "codemirror_mode": {
    "name": "ipython",
    "version": 3
   },
   "file_extension": ".py",
   "mimetype": "text/x-python",
   "name": "python",
   "nbconvert_exporter": "python",
   "pygments_lexer": "ipython3",
   "version": "3.9.18"
  }
 },
 "nbformat": 4,
 "nbformat_minor": 4
}
