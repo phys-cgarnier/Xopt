{
 "cells": [
  {
   "cell_type": "markdown",
   "metadata": {},
   "source": [
    "\n",
    "# Multi-objective Bayesian Optimization\n",
    "\n",
    "\n",
    "TNK function\n",
    "$n=2$ variables:\n",
    "$x_i \\in [0, \\pi], i=1,2$\n",
    "\n",
    "Objectives:\n",
    "- $f_i(x) = x_i$\n",
    "\n",
    "Constraints:\n",
    "- $g_1(x) = -x_1^2 -x_2^2 + 1 + 0.1 \\cos\\left(16 \\arctan \\frac{x_1}{x_2}\\right) \\le 0$\n",
    "- $g_2(x) = (x_1 - 1/2)^2 + (x_2-1/2)^2 \\le 0.5$"
   ]
  },
  {
   "cell_type": "code",
   "execution_count": 1,
   "metadata": {
    "collapsed": false,
    "execution": {
     "iopub.execute_input": "2024-04-15T18:53:44.406281Z",
     "iopub.status.busy": "2024-04-15T18:53:44.406100Z",
     "iopub.status.idle": "2024-04-15T18:53:45.860247Z",
     "shell.execute_reply": "2024-04-15T18:53:45.859663Z"
    }
   },
   "outputs": [],
   "source": [
    "import os\n",
    "SMOKE_TEST = os.environ.get(\"SMOKE_TEST\")\n",
    "NUM_STEPS = 2 if SMOKE_TEST else 50\n",
    "\n",
    "# Ignore all warnings\n",
    "import warnings\n",
    "warnings.filterwarnings(\"ignore\")\n",
    "\n",
    "import torch\n",
    "from xopt import Xopt\n",
    "\n",
    "\n",
    "YAML = \"\"\"\n",
    "generator:\n",
    "    name: mobo\n",
    "    reference_point: {y1: 1.5, y2: 1.5}\n",
    "\n",
    "evaluator:\n",
    "    function: xopt.resources.test_functions.tnk.evaluate_TNK\n",
    "\n",
    "vocs:\n",
    "    variables:\n",
    "        x1: [0, 3.14159]\n",
    "        x2: [0, 3.14159]\n",
    "    objectives: {y1: MINIMIZE, y2: MINIMIZE}\n",
    "    constraints:\n",
    "        c1: [GREATER_THAN, 0]\n",
    "        c2: [LESS_THAN, 0.5]\n",
    "    constants: {a: dummy_constant}\n",
    "\n",
    "\"\"\""
   ]
  },
  {
   "cell_type": "code",
   "execution_count": 2,
   "metadata": {
    "collapsed": false,
    "execution": {
     "iopub.execute_input": "2024-04-15T18:53:45.863064Z",
     "iopub.status.busy": "2024-04-15T18:53:45.862615Z",
     "iopub.status.idle": "2024-04-15T18:54:28.921944Z",
     "shell.execute_reply": "2024-04-15T18:54:28.921343Z"
    }
   },
   "outputs": [
    {
     "name": "stdout",
     "output_type": "stream",
     "text": [
      "0\n"
     ]
    },
    {
     "name": "stdout",
     "output_type": "stream",
     "text": [
      "1\n"
     ]
    },
    {
     "name": "stdout",
     "output_type": "stream",
     "text": [
      "2\n"
     ]
    },
    {
     "name": "stdout",
     "output_type": "stream",
     "text": [
      "3\n"
     ]
    },
    {
     "name": "stdout",
     "output_type": "stream",
     "text": [
      "4\n"
     ]
    },
    {
     "name": "stdout",
     "output_type": "stream",
     "text": [
      "5\n"
     ]
    },
    {
     "name": "stdout",
     "output_type": "stream",
     "text": [
      "6\n"
     ]
    },
    {
     "name": "stdout",
     "output_type": "stream",
     "text": [
      "7\n"
     ]
    },
    {
     "name": "stdout",
     "output_type": "stream",
     "text": [
      "8\n"
     ]
    },
    {
     "name": "stdout",
     "output_type": "stream",
     "text": [
      "9\n"
     ]
    },
    {
     "name": "stdout",
     "output_type": "stream",
     "text": [
      "10\n"
     ]
    },
    {
     "name": "stdout",
     "output_type": "stream",
     "text": [
      "11\n"
     ]
    },
    {
     "name": "stdout",
     "output_type": "stream",
     "text": [
      "12\n"
     ]
    },
    {
     "name": "stdout",
     "output_type": "stream",
     "text": [
      "13\n"
     ]
    },
    {
     "name": "stdout",
     "output_type": "stream",
     "text": [
      "14\n"
     ]
    },
    {
     "name": "stdout",
     "output_type": "stream",
     "text": [
      "15\n"
     ]
    },
    {
     "name": "stdout",
     "output_type": "stream",
     "text": [
      "16\n"
     ]
    },
    {
     "name": "stdout",
     "output_type": "stream",
     "text": [
      "17\n"
     ]
    },
    {
     "name": "stdout",
     "output_type": "stream",
     "text": [
      "18\n"
     ]
    },
    {
     "name": "stdout",
     "output_type": "stream",
     "text": [
      "19\n"
     ]
    },
    {
     "name": "stdout",
     "output_type": "stream",
     "text": [
      "20\n"
     ]
    },
    {
     "name": "stdout",
     "output_type": "stream",
     "text": [
      "21\n"
     ]
    },
    {
     "name": "stdout",
     "output_type": "stream",
     "text": [
      "22\n"
     ]
    },
    {
     "name": "stdout",
     "output_type": "stream",
     "text": [
      "23\n"
     ]
    },
    {
     "name": "stdout",
     "output_type": "stream",
     "text": [
      "24\n"
     ]
    },
    {
     "name": "stdout",
     "output_type": "stream",
     "text": [
      "25\n"
     ]
    },
    {
     "name": "stdout",
     "output_type": "stream",
     "text": [
      "26\n"
     ]
    },
    {
     "name": "stdout",
     "output_type": "stream",
     "text": [
      "27\n"
     ]
    },
    {
     "name": "stdout",
     "output_type": "stream",
     "text": [
      "28\n"
     ]
    },
    {
     "name": "stdout",
     "output_type": "stream",
     "text": [
      "29\n"
     ]
    },
    {
     "name": "stdout",
     "output_type": "stream",
     "text": [
      "30\n"
     ]
    },
    {
     "name": "stdout",
     "output_type": "stream",
     "text": [
      "31\n"
     ]
    },
    {
     "name": "stdout",
     "output_type": "stream",
     "text": [
      "32\n"
     ]
    },
    {
     "name": "stdout",
     "output_type": "stream",
     "text": [
      "33\n"
     ]
    },
    {
     "name": "stdout",
     "output_type": "stream",
     "text": [
      "34\n"
     ]
    },
    {
     "name": "stdout",
     "output_type": "stream",
     "text": [
      "35\n"
     ]
    },
    {
     "name": "stdout",
     "output_type": "stream",
     "text": [
      "36\n"
     ]
    },
    {
     "name": "stdout",
     "output_type": "stream",
     "text": [
      "37\n"
     ]
    },
    {
     "name": "stdout",
     "output_type": "stream",
     "text": [
      "38\n"
     ]
    },
    {
     "name": "stdout",
     "output_type": "stream",
     "text": [
      "39\n"
     ]
    },
    {
     "name": "stdout",
     "output_type": "stream",
     "text": [
      "40\n"
     ]
    },
    {
     "name": "stdout",
     "output_type": "stream",
     "text": [
      "41\n"
     ]
    },
    {
     "name": "stdout",
     "output_type": "stream",
     "text": [
      "42\n"
     ]
    },
    {
     "name": "stdout",
     "output_type": "stream",
     "text": [
      "43\n"
     ]
    },
    {
     "name": "stdout",
     "output_type": "stream",
     "text": [
      "44\n"
     ]
    },
    {
     "name": "stdout",
     "output_type": "stream",
     "text": [
      "45\n"
     ]
    },
    {
     "name": "stdout",
     "output_type": "stream",
     "text": [
      "46\n"
     ]
    },
    {
     "name": "stdout",
     "output_type": "stream",
     "text": [
      "47\n"
     ]
    },
    {
     "name": "stdout",
     "output_type": "stream",
     "text": [
      "48\n"
     ]
    },
    {
     "name": "stdout",
     "output_type": "stream",
     "text": [
      "49\n"
     ]
    }
   ],
   "source": [
    "X = Xopt.from_yaml(YAML)\n",
    "\n",
    "# for testing purposes only\n",
    "if SMOKE_TEST:\n",
    "    X.generator.numerical_optimizer.n_restarts = 1\n",
    "    X.generator.n_monte_carlo_samples = 1\n",
    "\n",
    "X.random_evaluate(5)\n",
    "for i in range(NUM_STEPS):\n",
    "    print(i)\n",
    "    X.step()"
   ]
  },
  {
   "cell_type": "code",
   "execution_count": 3,
   "metadata": {
    "collapsed": false,
    "execution": {
     "iopub.execute_input": "2024-04-15T18:54:28.924767Z",
     "iopub.status.busy": "2024-04-15T18:54:28.924509Z",
     "iopub.status.idle": "2024-04-15T18:54:28.943130Z",
     "shell.execute_reply": "2024-04-15T18:54:28.942651Z"
    }
   },
   "outputs": [
    {
     "data": {
      "text/html": [
       "<div>\n",
       "<style scoped>\n",
       "    .dataframe tbody tr th:only-of-type {\n",
       "        vertical-align: middle;\n",
       "    }\n",
       "\n",
       "    .dataframe tbody tr th {\n",
       "        vertical-align: top;\n",
       "    }\n",
       "\n",
       "    .dataframe thead th {\n",
       "        text-align: right;\n",
       "    }\n",
       "</style>\n",
       "<table border=\"1\" class=\"dataframe\">\n",
       "  <thead>\n",
       "    <tr style=\"text-align: right;\">\n",
       "      <th></th>\n",
       "      <th>x1</th>\n",
       "      <th>x2</th>\n",
       "      <th>a</th>\n",
       "      <th>y1</th>\n",
       "      <th>y2</th>\n",
       "      <th>c1</th>\n",
       "      <th>c2</th>\n",
       "      <th>xopt_runtime</th>\n",
       "      <th>xopt_error</th>\n",
       "    </tr>\n",
       "  </thead>\n",
       "  <tbody>\n",
       "    <tr>\n",
       "      <th>0</th>\n",
       "      <td>0.673644</td>\n",
       "      <td>1.285513</td>\n",
       "      <td>dummy_constant</td>\n",
       "      <td>0.673644</td>\n",
       "      <td>1.285513</td>\n",
       "      <td>1.093274</td>\n",
       "      <td>0.647183</td>\n",
       "      <td>0.000034</td>\n",
       "      <td>False</td>\n",
       "    </tr>\n",
       "    <tr>\n",
       "      <th>1</th>\n",
       "      <td>1.882020</td>\n",
       "      <td>1.211519</td>\n",
       "      <td>dummy_constant</td>\n",
       "      <td>1.882020</td>\n",
       "      <td>1.211519</td>\n",
       "      <td>4.106062</td>\n",
       "      <td>2.416239</td>\n",
       "      <td>0.000008</td>\n",
       "      <td>False</td>\n",
       "    </tr>\n",
       "    <tr>\n",
       "      <th>2</th>\n",
       "      <td>1.301523</td>\n",
       "      <td>2.120325</td>\n",
       "      <td>dummy_constant</td>\n",
       "      <td>1.301523</td>\n",
       "      <td>2.120325</td>\n",
       "      <td>5.271340</td>\n",
       "      <td>3.267892</td>\n",
       "      <td>0.000006</td>\n",
       "      <td>False</td>\n",
       "    </tr>\n",
       "    <tr>\n",
       "      <th>3</th>\n",
       "      <td>2.148062</td>\n",
       "      <td>1.303938</td>\n",
       "      <td>dummy_constant</td>\n",
       "      <td>2.148062</td>\n",
       "      <td>1.303938</td>\n",
       "      <td>5.391193</td>\n",
       "      <td>3.362426</td>\n",
       "      <td>0.000006</td>\n",
       "      <td>False</td>\n",
       "    </tr>\n",
       "    <tr>\n",
       "      <th>4</th>\n",
       "      <td>2.499193</td>\n",
       "      <td>0.538829</td>\n",
       "      <td>dummy_constant</td>\n",
       "      <td>2.499193</td>\n",
       "      <td>0.538829</td>\n",
       "      <td>5.633041</td>\n",
       "      <td>3.998279</td>\n",
       "      <td>0.000005</td>\n",
       "      <td>False</td>\n",
       "    </tr>\n",
       "    <tr>\n",
       "      <th>5</th>\n",
       "      <td>0.593000</td>\n",
       "      <td>0.739372</td>\n",
       "      <td>dummy_constant</td>\n",
       "      <td>0.593000</td>\n",
       "      <td>0.739372</td>\n",
       "      <td>-0.083785</td>\n",
       "      <td>0.065948</td>\n",
       "      <td>0.000022</td>\n",
       "      <td>False</td>\n",
       "    </tr>\n",
       "    <tr>\n",
       "      <th>6</th>\n",
       "      <td>0.618506</td>\n",
       "      <td>0.944654</td>\n",
       "      <td>dummy_constant</td>\n",
       "      <td>0.618506</td>\n",
       "      <td>0.944654</td>\n",
       "      <td>0.373806</td>\n",
       "      <td>0.211761</td>\n",
       "      <td>0.000023</td>\n",
       "      <td>False</td>\n",
       "    </tr>\n",
       "    <tr>\n",
       "      <th>7</th>\n",
       "      <td>0.021753</td>\n",
       "      <td>0.000000</td>\n",
       "      <td>dummy_constant</td>\n",
       "      <td>0.021753</td>\n",
       "      <td>0.000000</td>\n",
       "      <td>-1.099527</td>\n",
       "      <td>0.478721</td>\n",
       "      <td>0.000022</td>\n",
       "      <td>False</td>\n",
       "    </tr>\n",
       "    <tr>\n",
       "      <th>8</th>\n",
       "      <td>0.000000</td>\n",
       "      <td>0.596987</td>\n",
       "      <td>dummy_constant</td>\n",
       "      <td>0.000000</td>\n",
       "      <td>0.596987</td>\n",
       "      <td>-0.743607</td>\n",
       "      <td>0.259406</td>\n",
       "      <td>0.000022</td>\n",
       "      <td>False</td>\n",
       "    </tr>\n",
       "    <tr>\n",
       "      <th>9</th>\n",
       "      <td>0.738154</td>\n",
       "      <td>0.747169</td>\n",
       "      <td>dummy_constant</td>\n",
       "      <td>0.738154</td>\n",
       "      <td>0.747169</td>\n",
       "      <td>0.003605</td>\n",
       "      <td>0.117810</td>\n",
       "      <td>0.000024</td>\n",
       "      <td>False</td>\n",
       "    </tr>\n",
       "    <tr>\n",
       "      <th>10</th>\n",
       "      <td>0.205007</td>\n",
       "      <td>1.002208</td>\n",
       "      <td>dummy_constant</td>\n",
       "      <td>0.205007</td>\n",
       "      <td>1.002208</td>\n",
       "      <td>0.146072</td>\n",
       "      <td>0.339234</td>\n",
       "      <td>0.000023</td>\n",
       "      <td>False</td>\n",
       "    </tr>\n",
       "    <tr>\n",
       "      <th>11</th>\n",
       "      <td>0.930965</td>\n",
       "      <td>0.000000</td>\n",
       "      <td>dummy_constant</td>\n",
       "      <td>0.930965</td>\n",
       "      <td>0.000000</td>\n",
       "      <td>-0.233304</td>\n",
       "      <td>0.435731</td>\n",
       "      <td>0.000024</td>\n",
       "      <td>False</td>\n",
       "    </tr>\n",
       "    <tr>\n",
       "      <th>12</th>\n",
       "      <td>1.106486</td>\n",
       "      <td>0.378009</td>\n",
       "      <td>dummy_constant</td>\n",
       "      <td>1.106486</td>\n",
       "      <td>0.378009</td>\n",
       "      <td>0.314526</td>\n",
       "      <td>0.382707</td>\n",
       "      <td>0.000023</td>\n",
       "      <td>False</td>\n",
       "    </tr>\n",
       "    <tr>\n",
       "      <th>13</th>\n",
       "      <td>0.995698</td>\n",
       "      <td>0.476998</td>\n",
       "      <td>dummy_constant</td>\n",
       "      <td>0.995698</td>\n",
       "      <td>0.476998</td>\n",
       "      <td>0.154070</td>\n",
       "      <td>0.246246</td>\n",
       "      <td>0.000022</td>\n",
       "      <td>False</td>\n",
       "    </tr>\n",
       "    <tr>\n",
       "      <th>14</th>\n",
       "      <td>1.064673</td>\n",
       "      <td>0.148211</td>\n",
       "      <td>dummy_constant</td>\n",
       "      <td>1.064673</td>\n",
       "      <td>0.148211</td>\n",
       "      <td>0.215399</td>\n",
       "      <td>0.442611</td>\n",
       "      <td>0.000024</td>\n",
       "      <td>False</td>\n",
       "    </tr>\n",
       "    <tr>\n",
       "      <th>15</th>\n",
       "      <td>0.398076</td>\n",
       "      <td>0.893820</td>\n",
       "      <td>dummy_constant</td>\n",
       "      <td>0.398076</td>\n",
       "      <td>0.893820</td>\n",
       "      <td>-0.133901</td>\n",
       "      <td>0.165483</td>\n",
       "      <td>0.000026</td>\n",
       "      <td>False</td>\n",
       "    </tr>\n",
       "    <tr>\n",
       "      <th>16</th>\n",
       "      <td>0.243009</td>\n",
       "      <td>0.097445</td>\n",
       "      <td>dummy_constant</td>\n",
       "      <td>0.243009</td>\n",
       "      <td>0.097445</td>\n",
       "      <td>-1.029811</td>\n",
       "      <td>0.228094</td>\n",
       "      <td>0.000022</td>\n",
       "      <td>False</td>\n",
       "    </tr>\n",
       "    <tr>\n",
       "      <th>17</th>\n",
       "      <td>0.074316</td>\n",
       "      <td>1.031151</td>\n",
       "      <td>dummy_constant</td>\n",
       "      <td>0.074316</td>\n",
       "      <td>1.031151</td>\n",
       "      <td>0.028051</td>\n",
       "      <td>0.463329</td>\n",
       "      <td>0.000025</td>\n",
       "      <td>False</td>\n",
       "    </tr>\n",
       "    <tr>\n",
       "      <th>18</th>\n",
       "      <td>0.083788</td>\n",
       "      <td>1.431202</td>\n",
       "      <td>dummy_constant</td>\n",
       "      <td>0.083788</td>\n",
       "      <td>1.431202</td>\n",
       "      <td>0.996030</td>\n",
       "      <td>1.040370</td>\n",
       "      <td>0.000023</td>\n",
       "      <td>False</td>\n",
       "    </tr>\n",
       "    <tr>\n",
       "      <th>19</th>\n",
       "      <td>0.885793</td>\n",
       "      <td>0.572117</td>\n",
       "      <td>dummy_constant</td>\n",
       "      <td>0.885793</td>\n",
       "      <td>0.572117</td>\n",
       "      <td>0.208858</td>\n",
       "      <td>0.154037</td>\n",
       "      <td>0.000025</td>\n",
       "      <td>False</td>\n",
       "    </tr>\n",
       "    <tr>\n",
       "      <th>20</th>\n",
       "      <td>0.850582</td>\n",
       "      <td>0.552573</td>\n",
       "      <td>dummy_constant</td>\n",
       "      <td>0.850582</td>\n",
       "      <td>0.552573</td>\n",
       "      <td>0.126696</td>\n",
       "      <td>0.125672</td>\n",
       "      <td>0.000024</td>\n",
       "      <td>False</td>\n",
       "    </tr>\n",
       "    <tr>\n",
       "      <th>21</th>\n",
       "      <td>0.976845</td>\n",
       "      <td>0.312079</td>\n",
       "      <td>dummy_constant</td>\n",
       "      <td>0.976845</td>\n",
       "      <td>0.312079</td>\n",
       "      <td>0.028310</td>\n",
       "      <td>0.262696</td>\n",
       "      <td>0.000026</td>\n",
       "      <td>False</td>\n",
       "    </tr>\n",
       "    <tr>\n",
       "      <th>22</th>\n",
       "      <td>0.831165</td>\n",
       "      <td>0.109025</td>\n",
       "      <td>dummy_constant</td>\n",
       "      <td>0.831165</td>\n",
       "      <td>0.109025</td>\n",
       "      <td>-0.247934</td>\n",
       "      <td>0.262531</td>\n",
       "      <td>0.000027</td>\n",
       "      <td>False</td>\n",
       "    </tr>\n",
       "    <tr>\n",
       "      <th>23</th>\n",
       "      <td>0.914323</td>\n",
       "      <td>0.437120</td>\n",
       "      <td>dummy_constant</td>\n",
       "      <td>0.914323</td>\n",
       "      <td>0.437120</td>\n",
       "      <td>-0.038775</td>\n",
       "      <td>0.175617</td>\n",
       "      <td>0.000025</td>\n",
       "      <td>False</td>\n",
       "    </tr>\n",
       "    <tr>\n",
       "      <th>24</th>\n",
       "      <td>1.031596</td>\n",
       "      <td>0.051864</td>\n",
       "      <td>dummy_constant</td>\n",
       "      <td>1.031596</td>\n",
       "      <td>0.051864</td>\n",
       "      <td>-0.002522</td>\n",
       "      <td>0.483421</td>\n",
       "      <td>0.000025</td>\n",
       "      <td>False</td>\n",
       "    </tr>\n",
       "    <tr>\n",
       "      <th>25</th>\n",
       "      <td>0.110229</td>\n",
       "      <td>1.071902</td>\n",
       "      <td>dummy_constant</td>\n",
       "      <td>0.110229</td>\n",
       "      <td>1.071902</td>\n",
       "      <td>0.167999</td>\n",
       "      <td>0.478994</td>\n",
       "      <td>0.000026</td>\n",
       "      <td>False</td>\n",
       "    </tr>\n",
       "    <tr>\n",
       "      <th>26</th>\n",
       "      <td>0.076997</td>\n",
       "      <td>0.614228</td>\n",
       "      <td>dummy_constant</td>\n",
       "      <td>0.076997</td>\n",
       "      <td>0.614228</td>\n",
       "      <td>-0.575610</td>\n",
       "      <td>0.191980</td>\n",
       "      <td>0.000025</td>\n",
       "      <td>False</td>\n",
       "    </tr>\n",
       "    <tr>\n",
       "      <th>27</th>\n",
       "      <td>0.556490</td>\n",
       "      <td>0.849602</td>\n",
       "      <td>dummy_constant</td>\n",
       "      <td>0.556490</td>\n",
       "      <td>0.849602</td>\n",
       "      <td>0.130431</td>\n",
       "      <td>0.125413</td>\n",
       "      <td>0.000025</td>\n",
       "      <td>False</td>\n",
       "    </tr>\n",
       "    <tr>\n",
       "      <th>28</th>\n",
       "      <td>0.405154</td>\n",
       "      <td>0.656901</td>\n",
       "      <td>dummy_constant</td>\n",
       "      <td>0.405154</td>\n",
       "      <td>0.656901</td>\n",
       "      <td>-0.320809</td>\n",
       "      <td>0.033614</td>\n",
       "      <td>0.000029</td>\n",
       "      <td>False</td>\n",
       "    </tr>\n",
       "    <tr>\n",
       "      <th>29</th>\n",
       "      <td>0.494488</td>\n",
       "      <td>0.574949</td>\n",
       "      <td>dummy_constant</td>\n",
       "      <td>0.494488</td>\n",
       "      <td>0.574949</td>\n",
       "      <td>-0.461008</td>\n",
       "      <td>0.005648</td>\n",
       "      <td>0.000025</td>\n",
       "      <td>False</td>\n",
       "    </tr>\n",
       "    <tr>\n",
       "      <th>30</th>\n",
       "      <td>0.582407</td>\n",
       "      <td>0.625955</td>\n",
       "      <td>dummy_constant</td>\n",
       "      <td>0.582407</td>\n",
       "      <td>0.625955</td>\n",
       "      <td>-0.352827</td>\n",
       "      <td>0.022655</td>\n",
       "      <td>0.000025</td>\n",
       "      <td>False</td>\n",
       "    </tr>\n",
       "    <tr>\n",
       "      <th>31</th>\n",
       "      <td>0.878856</td>\n",
       "      <td>0.382076</td>\n",
       "      <td>dummy_constant</td>\n",
       "      <td>0.878856</td>\n",
       "      <td>0.382076</td>\n",
       "      <td>-0.177782</td>\n",
       "      <td>0.157438</td>\n",
       "      <td>0.000030</td>\n",
       "      <td>False</td>\n",
       "    </tr>\n",
       "    <tr>\n",
       "      <th>32</th>\n",
       "      <td>0.365638</td>\n",
       "      <td>0.943823</td>\n",
       "      <td>dummy_constant</td>\n",
       "      <td>0.365638</td>\n",
       "      <td>0.943823</td>\n",
       "      <td>-0.068755</td>\n",
       "      <td>0.215032</td>\n",
       "      <td>0.000026</td>\n",
       "      <td>False</td>\n",
       "    </tr>\n",
       "    <tr>\n",
       "      <th>33</th>\n",
       "      <td>0.826499</td>\n",
       "      <td>0.110780</td>\n",
       "      <td>dummy_constant</td>\n",
       "      <td>0.826499</td>\n",
       "      <td>0.110780</td>\n",
       "      <td>-0.251418</td>\n",
       "      <td>0.258094</td>\n",
       "      <td>0.000026</td>\n",
       "      <td>False</td>\n",
       "    </tr>\n",
       "    <tr>\n",
       "      <th>34</th>\n",
       "      <td>0.902297</td>\n",
       "      <td>0.497163</td>\n",
       "      <td>dummy_constant</td>\n",
       "      <td>0.902297</td>\n",
       "      <td>0.497163</td>\n",
       "      <td>0.081546</td>\n",
       "      <td>0.161851</td>\n",
       "      <td>0.000026</td>\n",
       "      <td>False</td>\n",
       "    </tr>\n",
       "    <tr>\n",
       "      <th>35</th>\n",
       "      <td>0.089548</td>\n",
       "      <td>0.794964</td>\n",
       "      <td>dummy_constant</td>\n",
       "      <td>0.089548</td>\n",
       "      <td>0.794964</td>\n",
       "      <td>-0.337807</td>\n",
       "      <td>0.255475</td>\n",
       "      <td>0.000027</td>\n",
       "      <td>False</td>\n",
       "    </tr>\n",
       "    <tr>\n",
       "      <th>36</th>\n",
       "      <td>0.700306</td>\n",
       "      <td>0.721102</td>\n",
       "      <td>dummy_constant</td>\n",
       "      <td>0.700306</td>\n",
       "      <td>0.721102</td>\n",
       "      <td>-0.086858</td>\n",
       "      <td>0.089008</td>\n",
       "      <td>0.000025</td>\n",
       "      <td>False</td>\n",
       "    </tr>\n",
       "    <tr>\n",
       "      <th>37</th>\n",
       "      <td>0.637800</td>\n",
       "      <td>0.797433</td>\n",
       "      <td>dummy_constant</td>\n",
       "      <td>0.637800</td>\n",
       "      <td>0.797433</td>\n",
       "      <td>0.062704</td>\n",
       "      <td>0.107455</td>\n",
       "      <td>0.000026</td>\n",
       "      <td>False</td>\n",
       "    </tr>\n",
       "    <tr>\n",
       "      <th>38</th>\n",
       "      <td>0.613064</td>\n",
       "      <td>0.553036</td>\n",
       "      <td>dummy_constant</td>\n",
       "      <td>0.613064</td>\n",
       "      <td>0.553036</td>\n",
       "      <td>-0.386311</td>\n",
       "      <td>0.015596</td>\n",
       "      <td>0.000026</td>\n",
       "      <td>False</td>\n",
       "    </tr>\n",
       "    <tr>\n",
       "      <th>39</th>\n",
       "      <td>0.945297</td>\n",
       "      <td>0.372257</td>\n",
       "      <td>dummy_constant</td>\n",
       "      <td>0.945297</td>\n",
       "      <td>0.372257</td>\n",
       "      <td>-0.063922</td>\n",
       "      <td>0.214608</td>\n",
       "      <td>0.000026</td>\n",
       "      <td>False</td>\n",
       "    </tr>\n",
       "    <tr>\n",
       "      <th>40</th>\n",
       "      <td>0.599916</td>\n",
       "      <td>0.833184</td>\n",
       "      <td>dummy_constant</td>\n",
       "      <td>0.599916</td>\n",
       "      <td>0.833184</td>\n",
       "      <td>0.138826</td>\n",
       "      <td>0.120995</td>\n",
       "      <td>0.000026</td>\n",
       "      <td>False</td>\n",
       "    </tr>\n",
       "    <tr>\n",
       "      <th>41</th>\n",
       "      <td>0.165248</td>\n",
       "      <td>0.883252</td>\n",
       "      <td>dummy_constant</td>\n",
       "      <td>0.165248</td>\n",
       "      <td>0.883252</td>\n",
       "      <td>-0.094217</td>\n",
       "      <td>0.258941</td>\n",
       "      <td>0.000025</td>\n",
       "      <td>False</td>\n",
       "    </tr>\n",
       "    <tr>\n",
       "      <th>42</th>\n",
       "      <td>0.677119</td>\n",
       "      <td>0.533246</td>\n",
       "      <td>dummy_constant</td>\n",
       "      <td>0.677119</td>\n",
       "      <td>0.533246</td>\n",
       "      <td>-0.225494</td>\n",
       "      <td>0.032476</td>\n",
       "      <td>0.000025</td>\n",
       "      <td>False</td>\n",
       "    </tr>\n",
       "    <tr>\n",
       "      <th>43</th>\n",
       "      <td>2.481355</td>\n",
       "      <td>2.001584</td>\n",
       "      <td>dummy_constant</td>\n",
       "      <td>2.481355</td>\n",
       "      <td>2.001584</td>\n",
       "      <td>9.176926</td>\n",
       "      <td>6.180523</td>\n",
       "      <td>0.000027</td>\n",
       "      <td>False</td>\n",
       "    </tr>\n",
       "    <tr>\n",
       "      <th>44</th>\n",
       "      <td>0.316753</td>\n",
       "      <td>0.582412</td>\n",
       "      <td>dummy_constant</td>\n",
       "      <td>0.316753</td>\n",
       "      <td>0.582412</td>\n",
       "      <td>-0.548895</td>\n",
       "      <td>0.040371</td>\n",
       "      <td>0.000026</td>\n",
       "      <td>False</td>\n",
       "    </tr>\n",
       "    <tr>\n",
       "      <th>45</th>\n",
       "      <td>0.956846</td>\n",
       "      <td>0.181572</td>\n",
       "      <td>dummy_constant</td>\n",
       "      <td>0.956846</td>\n",
       "      <td>0.181572</td>\n",
       "      <td>0.047530</td>\n",
       "      <td>0.310105</td>\n",
       "      <td>0.000027</td>\n",
       "      <td>False</td>\n",
       "    </tr>\n",
       "    <tr>\n",
       "      <th>46</th>\n",
       "      <td>0.024556</td>\n",
       "      <td>1.006790</td>\n",
       "      <td>dummy_constant</td>\n",
       "      <td>0.024556</td>\n",
       "      <td>1.006790</td>\n",
       "      <td>-0.078255</td>\n",
       "      <td>0.482883</td>\n",
       "      <td>0.000025</td>\n",
       "      <td>False</td>\n",
       "    </tr>\n",
       "    <tr>\n",
       "      <th>47</th>\n",
       "      <td>0.479091</td>\n",
       "      <td>0.884803</td>\n",
       "      <td>dummy_constant</td>\n",
       "      <td>0.479091</td>\n",
       "      <td>0.884803</td>\n",
       "      <td>0.021025</td>\n",
       "      <td>0.148511</td>\n",
       "      <td>0.000030</td>\n",
       "      <td>False</td>\n",
       "    </tr>\n",
       "    <tr>\n",
       "      <th>48</th>\n",
       "      <td>0.409951</td>\n",
       "      <td>0.634421</td>\n",
       "      <td>dummy_constant</td>\n",
       "      <td>0.409951</td>\n",
       "      <td>0.634421</td>\n",
       "      <td>-0.332455</td>\n",
       "      <td>0.026178</td>\n",
       "      <td>0.000026</td>\n",
       "      <td>False</td>\n",
       "    </tr>\n",
       "    <tr>\n",
       "      <th>49</th>\n",
       "      <td>0.948140</td>\n",
       "      <td>0.000000</td>\n",
       "      <td>dummy_constant</td>\n",
       "      <td>0.948140</td>\n",
       "      <td>0.000000</td>\n",
       "      <td>-0.201030</td>\n",
       "      <td>0.450830</td>\n",
       "      <td>0.000025</td>\n",
       "      <td>False</td>\n",
       "    </tr>\n",
       "    <tr>\n",
       "      <th>50</th>\n",
       "      <td>0.425345</td>\n",
       "      <td>0.131486</td>\n",
       "      <td>dummy_constant</td>\n",
       "      <td>0.425345</td>\n",
       "      <td>0.131486</td>\n",
       "      <td>-0.810239</td>\n",
       "      <td>0.141376</td>\n",
       "      <td>0.000036</td>\n",
       "      <td>False</td>\n",
       "    </tr>\n",
       "    <tr>\n",
       "      <th>51</th>\n",
       "      <td>0.278497</td>\n",
       "      <td>0.493171</td>\n",
       "      <td>dummy_constant</td>\n",
       "      <td>0.278497</td>\n",
       "      <td>0.493171</td>\n",
       "      <td>-0.642963</td>\n",
       "      <td>0.049110</td>\n",
       "      <td>0.000026</td>\n",
       "      <td>False</td>\n",
       "    </tr>\n",
       "    <tr>\n",
       "      <th>52</th>\n",
       "      <td>0.638084</td>\n",
       "      <td>0.002263</td>\n",
       "      <td>dummy_constant</td>\n",
       "      <td>0.638084</td>\n",
       "      <td>0.002263</td>\n",
       "      <td>-0.692683</td>\n",
       "      <td>0.266810</td>\n",
       "      <td>0.000025</td>\n",
       "      <td>False</td>\n",
       "    </tr>\n",
       "    <tr>\n",
       "      <th>53</th>\n",
       "      <td>0.104024</td>\n",
       "      <td>1.203202</td>\n",
       "      <td>dummy_constant</td>\n",
       "      <td>0.104024</td>\n",
       "      <td>1.203202</td>\n",
       "      <td>0.439538</td>\n",
       "      <td>0.651290</td>\n",
       "      <td>0.000025</td>\n",
       "      <td>False</td>\n",
       "    </tr>\n",
       "    <tr>\n",
       "      <th>54</th>\n",
       "      <td>0.185899</td>\n",
       "      <td>0.624800</td>\n",
       "      <td>dummy_constant</td>\n",
       "      <td>0.185899</td>\n",
       "      <td>0.624800</td>\n",
       "      <td>-0.566545</td>\n",
       "      <td>0.114235</td>\n",
       "      <td>0.000024</td>\n",
       "      <td>False</td>\n",
       "    </tr>\n",
       "  </tbody>\n",
       "</table>\n",
       "</div>"
      ],
      "text/plain": [
       "          x1        x2               a        y1        y2        c1  \\\n",
       "0   0.673644  1.285513  dummy_constant  0.673644  1.285513  1.093274   \n",
       "1   1.882020  1.211519  dummy_constant  1.882020  1.211519  4.106062   \n",
       "2   1.301523  2.120325  dummy_constant  1.301523  2.120325  5.271340   \n",
       "3   2.148062  1.303938  dummy_constant  2.148062  1.303938  5.391193   \n",
       "4   2.499193  0.538829  dummy_constant  2.499193  0.538829  5.633041   \n",
       "5   0.593000  0.739372  dummy_constant  0.593000  0.739372 -0.083785   \n",
       "6   0.618506  0.944654  dummy_constant  0.618506  0.944654  0.373806   \n",
       "7   0.021753  0.000000  dummy_constant  0.021753  0.000000 -1.099527   \n",
       "8   0.000000  0.596987  dummy_constant  0.000000  0.596987 -0.743607   \n",
       "9   0.738154  0.747169  dummy_constant  0.738154  0.747169  0.003605   \n",
       "10  0.205007  1.002208  dummy_constant  0.205007  1.002208  0.146072   \n",
       "11  0.930965  0.000000  dummy_constant  0.930965  0.000000 -0.233304   \n",
       "12  1.106486  0.378009  dummy_constant  1.106486  0.378009  0.314526   \n",
       "13  0.995698  0.476998  dummy_constant  0.995698  0.476998  0.154070   \n",
       "14  1.064673  0.148211  dummy_constant  1.064673  0.148211  0.215399   \n",
       "15  0.398076  0.893820  dummy_constant  0.398076  0.893820 -0.133901   \n",
       "16  0.243009  0.097445  dummy_constant  0.243009  0.097445 -1.029811   \n",
       "17  0.074316  1.031151  dummy_constant  0.074316  1.031151  0.028051   \n",
       "18  0.083788  1.431202  dummy_constant  0.083788  1.431202  0.996030   \n",
       "19  0.885793  0.572117  dummy_constant  0.885793  0.572117  0.208858   \n",
       "20  0.850582  0.552573  dummy_constant  0.850582  0.552573  0.126696   \n",
       "21  0.976845  0.312079  dummy_constant  0.976845  0.312079  0.028310   \n",
       "22  0.831165  0.109025  dummy_constant  0.831165  0.109025 -0.247934   \n",
       "23  0.914323  0.437120  dummy_constant  0.914323  0.437120 -0.038775   \n",
       "24  1.031596  0.051864  dummy_constant  1.031596  0.051864 -0.002522   \n",
       "25  0.110229  1.071902  dummy_constant  0.110229  1.071902  0.167999   \n",
       "26  0.076997  0.614228  dummy_constant  0.076997  0.614228 -0.575610   \n",
       "27  0.556490  0.849602  dummy_constant  0.556490  0.849602  0.130431   \n",
       "28  0.405154  0.656901  dummy_constant  0.405154  0.656901 -0.320809   \n",
       "29  0.494488  0.574949  dummy_constant  0.494488  0.574949 -0.461008   \n",
       "30  0.582407  0.625955  dummy_constant  0.582407  0.625955 -0.352827   \n",
       "31  0.878856  0.382076  dummy_constant  0.878856  0.382076 -0.177782   \n",
       "32  0.365638  0.943823  dummy_constant  0.365638  0.943823 -0.068755   \n",
       "33  0.826499  0.110780  dummy_constant  0.826499  0.110780 -0.251418   \n",
       "34  0.902297  0.497163  dummy_constant  0.902297  0.497163  0.081546   \n",
       "35  0.089548  0.794964  dummy_constant  0.089548  0.794964 -0.337807   \n",
       "36  0.700306  0.721102  dummy_constant  0.700306  0.721102 -0.086858   \n",
       "37  0.637800  0.797433  dummy_constant  0.637800  0.797433  0.062704   \n",
       "38  0.613064  0.553036  dummy_constant  0.613064  0.553036 -0.386311   \n",
       "39  0.945297  0.372257  dummy_constant  0.945297  0.372257 -0.063922   \n",
       "40  0.599916  0.833184  dummy_constant  0.599916  0.833184  0.138826   \n",
       "41  0.165248  0.883252  dummy_constant  0.165248  0.883252 -0.094217   \n",
       "42  0.677119  0.533246  dummy_constant  0.677119  0.533246 -0.225494   \n",
       "43  2.481355  2.001584  dummy_constant  2.481355  2.001584  9.176926   \n",
       "44  0.316753  0.582412  dummy_constant  0.316753  0.582412 -0.548895   \n",
       "45  0.956846  0.181572  dummy_constant  0.956846  0.181572  0.047530   \n",
       "46  0.024556  1.006790  dummy_constant  0.024556  1.006790 -0.078255   \n",
       "47  0.479091  0.884803  dummy_constant  0.479091  0.884803  0.021025   \n",
       "48  0.409951  0.634421  dummy_constant  0.409951  0.634421 -0.332455   \n",
       "49  0.948140  0.000000  dummy_constant  0.948140  0.000000 -0.201030   \n",
       "50  0.425345  0.131486  dummy_constant  0.425345  0.131486 -0.810239   \n",
       "51  0.278497  0.493171  dummy_constant  0.278497  0.493171 -0.642963   \n",
       "52  0.638084  0.002263  dummy_constant  0.638084  0.002263 -0.692683   \n",
       "53  0.104024  1.203202  dummy_constant  0.104024  1.203202  0.439538   \n",
       "54  0.185899  0.624800  dummy_constant  0.185899  0.624800 -0.566545   \n",
       "\n",
       "          c2  xopt_runtime  xopt_error  \n",
       "0   0.647183      0.000034       False  \n",
       "1   2.416239      0.000008       False  \n",
       "2   3.267892      0.000006       False  \n",
       "3   3.362426      0.000006       False  \n",
       "4   3.998279      0.000005       False  \n",
       "5   0.065948      0.000022       False  \n",
       "6   0.211761      0.000023       False  \n",
       "7   0.478721      0.000022       False  \n",
       "8   0.259406      0.000022       False  \n",
       "9   0.117810      0.000024       False  \n",
       "10  0.339234      0.000023       False  \n",
       "11  0.435731      0.000024       False  \n",
       "12  0.382707      0.000023       False  \n",
       "13  0.246246      0.000022       False  \n",
       "14  0.442611      0.000024       False  \n",
       "15  0.165483      0.000026       False  \n",
       "16  0.228094      0.000022       False  \n",
       "17  0.463329      0.000025       False  \n",
       "18  1.040370      0.000023       False  \n",
       "19  0.154037      0.000025       False  \n",
       "20  0.125672      0.000024       False  \n",
       "21  0.262696      0.000026       False  \n",
       "22  0.262531      0.000027       False  \n",
       "23  0.175617      0.000025       False  \n",
       "24  0.483421      0.000025       False  \n",
       "25  0.478994      0.000026       False  \n",
       "26  0.191980      0.000025       False  \n",
       "27  0.125413      0.000025       False  \n",
       "28  0.033614      0.000029       False  \n",
       "29  0.005648      0.000025       False  \n",
       "30  0.022655      0.000025       False  \n",
       "31  0.157438      0.000030       False  \n",
       "32  0.215032      0.000026       False  \n",
       "33  0.258094      0.000026       False  \n",
       "34  0.161851      0.000026       False  \n",
       "35  0.255475      0.000027       False  \n",
       "36  0.089008      0.000025       False  \n",
       "37  0.107455      0.000026       False  \n",
       "38  0.015596      0.000026       False  \n",
       "39  0.214608      0.000026       False  \n",
       "40  0.120995      0.000026       False  \n",
       "41  0.258941      0.000025       False  \n",
       "42  0.032476      0.000025       False  \n",
       "43  6.180523      0.000027       False  \n",
       "44  0.040371      0.000026       False  \n",
       "45  0.310105      0.000027       False  \n",
       "46  0.482883      0.000025       False  \n",
       "47  0.148511      0.000030       False  \n",
       "48  0.026178      0.000026       False  \n",
       "49  0.450830      0.000025       False  \n",
       "50  0.141376      0.000036       False  \n",
       "51  0.049110      0.000026       False  \n",
       "52  0.266810      0.000025       False  \n",
       "53  0.651290      0.000025       False  \n",
       "54  0.114235      0.000024       False  "
      ]
     },
     "execution_count": 3,
     "metadata": {},
     "output_type": "execute_result"
    }
   ],
   "source": [
    "X.generator.data"
   ]
  },
  {
   "cell_type": "markdown",
   "metadata": {
    "collapsed": false
   },
   "source": [
    "## plot results\n"
   ]
  },
  {
   "cell_type": "code",
   "execution_count": 4,
   "metadata": {
    "collapsed": false,
    "execution": {
     "iopub.execute_input": "2024-04-15T18:54:28.945281Z",
     "iopub.status.busy": "2024-04-15T18:54:28.945093Z",
     "iopub.status.idle": "2024-04-15T18:54:29.723490Z",
     "shell.execute_reply": "2024-04-15T18:54:29.722819Z"
    }
   },
   "outputs": [
    {
     "data": {
      "image/png": "[encoded data removed]",
      "text/plain": [
       "<Figure size 640x480 with 1 Axes>"
      ]
     },
     "metadata": {},
     "output_type": "display_data"
    }
   ],
   "source": [
    "import matplotlib.pyplot as plt\n",
    "import numpy as np\n",
    "import pandas as pd\n",
    "\n",
    "fig, ax = plt.subplots()\n",
    "\n",
    "theta = np.linspace(0, np.pi / 2)\n",
    "r = np.sqrt(1 + 0.1 * np.cos(16 * theta))\n",
    "x_1 = r * np.sin(theta)\n",
    "x_2_lower = r * np.cos(theta)\n",
    "x_2_upper = (0.5 - (x_1 - 0.5) ** 2) ** 0.5 + 0.5\n",
    "\n",
    "z = np.zeros_like(x_1)\n",
    "\n",
    "# ax2.plot(x_1, x_2_lower,'r')\n",
    "ax.fill_between(x_1, z, x_2_lower, fc=\"white\")\n",
    "circle = plt.Circle(\n",
    "    (0.5, 0.5), 0.5 ** 0.5, color=\"r\", alpha=0.25, zorder=0, label=\"Valid Region\"\n",
    ")\n",
    "ax.add_patch(circle)\n",
    "history = pd.concat(\n",
    "    [X.data, X.vocs.feasibility_data(X.data)], axis=1, ignore_index=False\n",
    ")\n",
    "\n",
    "\n",
    "ax.plot(*history[[\"x1\", \"x2\"]][history[\"feasible\"]].to_numpy().T, \".C1\")\n",
    "ax.plot(*history[[\"x1\", \"x2\"]][~history[\"feasible\"]].to_numpy().T, \".C2\")\n",
    "\n",
    "ax.set_xlim(0, 3.14)\n",
    "ax.set_ylim(0, 3.14)\n",
    "ax.set_xlabel(\"x1\")\n",
    "ax.set_ylabel(\"x2\")\n",
    "ax.set_aspect(\"equal\")"
   ]
  },
  {
   "cell_type": "markdown",
   "metadata": {
    "collapsed": false
   },
   "source": [
    "### Plot path through input space"
   ]
  },
  {
   "cell_type": "code",
   "execution_count": 5,
   "metadata": {
    "collapsed": false,
    "execution": {
     "iopub.execute_input": "2024-04-15T18:54:29.726070Z",
     "iopub.status.busy": "2024-04-15T18:54:29.725568Z",
     "iopub.status.idle": "2024-04-15T18:54:29.843907Z",
     "shell.execute_reply": "2024-04-15T18:54:29.843356Z"
    }
   },
   "outputs": [
    {
     "data": {
      "image/png": "[encoded data removed]",
      "text/plain": [
       "<Figure size 640x480 with 1 Axes>"
      ]
     },
     "metadata": {},
     "output_type": "display_data"
    }
   ],
   "source": [
    "ax = history.plot(\"x1\", \"x2\")\n",
    "ax.set_ylim(0, 3.14)\n",
    "ax.set_xlim(0, 3.14)\n",
    "ax.set_aspect(\"equal\")"
   ]
  },
  {
   "cell_type": "code",
   "execution_count": 6,
   "metadata": {
    "collapsed": false,
    "execution": {
     "iopub.execute_input": "2024-04-15T18:54:29.846067Z",
     "iopub.status.busy": "2024-04-15T18:54:29.845891Z",
     "iopub.status.idle": "2024-04-15T18:54:34.378306Z",
     "shell.execute_reply": "2024-04-15T18:54:34.377767Z"
    }
   },
   "outputs": [
    {
     "name": "stdout",
     "output_type": "stream",
     "text": [
      "[[0.69230554 0.37495226]]\n"
     ]
    },
    {
     "data": {
      "text/plain": [
       "[<matplotlib.lines.Line2D at 0x7efd956e9b80>]"
      ]
     },
     "execution_count": 6,
     "metadata": {},
     "output_type": "execute_result"
    },
    {
     "data": {
      "image/png": "[encoded data removed]",
      "text/plain": [
       "<Figure size 800x800 with 2 Axes>"
      ]
     },
     "metadata": {},
     "output_type": "display_data"
    },
    {
     "data": {
      "image/png": "[encoded data removed]",
      "text/plain": [
       "<Figure size 800x800 with 2 Axes>"
      ]
     },
     "metadata": {},
     "output_type": "display_data"
    }
   ],
   "source": [
    "# plot the acquisition function\n",
    "from xopt.generators.bayesian.objectives import feasibility\n",
    "\n",
    "bounds = X.generator.vocs.bounds\n",
    "model = X.generator.model\n",
    "\n",
    "# create mesh\n",
    "n = 100\n",
    "x = torch.linspace(*bounds.T[0], n)\n",
    "y = torch.linspace(*bounds.T[1], n)\n",
    "xx, yy = torch.meshgrid(x, y)\n",
    "pts = torch.hstack([ele.reshape(-1, 1) for ele in (xx, yy)]).double()\n",
    "\n",
    "xx, yy = xx.numpy(), yy.numpy()\n",
    "\n",
    "acq_func = X.generator.get_acquisition(model)\n",
    "with torch.no_grad():\n",
    "    acq_pts = pts.unsqueeze(1)\n",
    "    acq = acq_func(acq_pts)\n",
    "\n",
    "    fig, ax = plt.subplots(figsize=(8,8))\n",
    "    c = ax.pcolor(xx, yy, acq.reshape(n, n), cmap=\"Blues\")\n",
    "    fig.colorbar(c)\n",
    "    ax.set_title(\"Acquisition function\")\n",
    "\n",
    "    ax.plot(*history[[\"x1\", \"x2\"]][history[\"feasible\"]].to_numpy().T, \".C1\")\n",
    "    ax.plot(*history[[\"x1\", \"x2\"]][~history[\"feasible\"]].to_numpy().T, \".C2\")\n",
    "\n",
    "    ax.plot(*history[[\"x1\", \"x2\"]].to_numpy()[-1].T, \"+\")\n",
    "\n",
    "    feas = feasibility(pts.unsqueeze(1), model, X.vocs).flatten()\n",
    "\n",
    "    fig2, ax2 = plt.subplots(figsize=(8,8))\n",
    "    c = ax2.pcolor(xx, yy, feas.reshape(n, n))\n",
    "    fig2.colorbar(c)\n",
    "    ax2.set_title(\"Feasible Region\")\n",
    "\n",
    "candidate = pd.DataFrame(X.generator.generate(1), index=[0])\n",
    "print(candidate[[\"x1\", \"x2\"]].to_numpy())\n",
    "ax.plot(*candidate[[\"x1\", \"x2\"]].to_numpy()[0], \"o\")"
   ]
  }
 ],
 "metadata": {
  "interpreter": {
   "hash": "72034539424920dfb606fe3b820b3f27dca0cbf1c69938110810ec4641e275b1"
  },
  "kernelspec": {
   "display_name": "Python 3 (ipykernel)",
   "language": "python",
   "name": "python3"
  },
  "language_info": {
   "codemirror_mode": {
    "name": "ipython",
    "version": 3
   },
   "file_extension": ".py",
   "mimetype": "text/x-python",
   "name": "python",
   "nbconvert_exporter": "python",
   "pygments_lexer": "ipython3",
   "version": "3.9.19"
  }
 },
 "nbformat": 4,
 "nbformat_minor": 4
}
