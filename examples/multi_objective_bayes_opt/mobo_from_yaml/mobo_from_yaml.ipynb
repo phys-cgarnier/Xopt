{
 "cells": [
  {
   "cell_type": "markdown",
   "metadata": {},
   "source": [
    "\n",
    "# Multi-objective Bayesian Optimization\n",
    "\n",
    "\n",
    "TNK function\n",
    "$n=2$ variables:\n",
    "$x_i \\in [0, \\pi], i=1,2$\n",
    "\n",
    "Objectives:\n",
    "- $f_i(x) = x_i$\n",
    "\n",
    "Constraints:\n",
    "- $g_1(x) = -x_1^2 -x_2^2 + 1 + 0.1 \\cos\\left(16 \\arctan \\frac{x_1}{x_2}\\right) \\le 0$\n",
    "- $g_2(x) = (x_1 - 1/2)^2 + (x_2-1/2)^2 \\le 0.5$"
   ]
  },
  {
   "cell_type": "code",
   "execution_count": 1,
   "metadata": {
    "collapsed": false,
    "execution": {
     "iopub.execute_input": "2024-02-01T03:59:38.733519Z",
     "iopub.status.busy": "2024-02-01T03:59:38.733336Z",
     "iopub.status.idle": "2024-02-01T03:59:40.181571Z",
     "shell.execute_reply": "2024-02-01T03:59:40.181014Z"
    }
   },
   "outputs": [],
   "source": [
    "import os\n",
    "SMOKE_TEST = os.environ.get(\"SMOKE_TEST\")\n",
    "NUM_STEPS = 2 if SMOKE_TEST else 50\n",
    "\n",
    "# Ignore all warnings\n",
    "import warnings\n",
    "warnings.filterwarnings(\"ignore\")\n",
    "\n",
    "import torch\n",
    "from xopt import Xopt\n",
    "\n",
    "\n",
    "YAML = \"\"\"\n",
    "generator:\n",
    "    name: mobo\n",
    "    reference_point: {y1: 1.5, y2: 1.5}\n",
    "\n",
    "evaluator:\n",
    "    function: xopt.resources.test_functions.tnk.evaluate_TNK\n",
    "\n",
    "vocs:\n",
    "    variables:\n",
    "        x1: [0, 3.14159]\n",
    "        x2: [0, 3.14159]\n",
    "    objectives: {y1: MINIMIZE, y2: MINIMIZE}\n",
    "    constraints:\n",
    "        c1: [GREATER_THAN, 0]\n",
    "        c2: [LESS_THAN, 0.5]\n",
    "    constants: {a: dummy_constant}\n",
    "\n",
    "\"\"\""
   ]
  },
  {
   "cell_type": "code",
   "execution_count": 2,
   "metadata": {
    "collapsed": false,
    "execution": {
     "iopub.execute_input": "2024-02-01T03:59:40.184533Z",
     "iopub.status.busy": "2024-02-01T03:59:40.183984Z",
     "iopub.status.idle": "2024-02-01T04:00:23.263160Z",
     "shell.execute_reply": "2024-02-01T04:00:23.262522Z"
    }
   },
   "outputs": [
    {
     "name": "stdout",
     "output_type": "stream",
     "text": [
      "0\n"
     ]
    },
    {
     "name": "stdout",
     "output_type": "stream",
     "text": [
      "1\n"
     ]
    },
    {
     "name": "stdout",
     "output_type": "stream",
     "text": [
      "2\n"
     ]
    },
    {
     "name": "stdout",
     "output_type": "stream",
     "text": [
      "3\n"
     ]
    },
    {
     "name": "stdout",
     "output_type": "stream",
     "text": [
      "4\n"
     ]
    },
    {
     "name": "stdout",
     "output_type": "stream",
     "text": [
      "5\n"
     ]
    },
    {
     "name": "stdout",
     "output_type": "stream",
     "text": [
      "6\n"
     ]
    },
    {
     "name": "stdout",
     "output_type": "stream",
     "text": [
      "7\n"
     ]
    },
    {
     "name": "stdout",
     "output_type": "stream",
     "text": [
      "8\n"
     ]
    },
    {
     "name": "stdout",
     "output_type": "stream",
     "text": [
      "9\n"
     ]
    },
    {
     "name": "stdout",
     "output_type": "stream",
     "text": [
      "10\n"
     ]
    },
    {
     "name": "stdout",
     "output_type": "stream",
     "text": [
      "11\n"
     ]
    },
    {
     "name": "stdout",
     "output_type": "stream",
     "text": [
      "12\n"
     ]
    },
    {
     "name": "stdout",
     "output_type": "stream",
     "text": [
      "13\n"
     ]
    },
    {
     "name": "stdout",
     "output_type": "stream",
     "text": [
      "14\n"
     ]
    },
    {
     "name": "stdout",
     "output_type": "stream",
     "text": [
      "15\n"
     ]
    },
    {
     "name": "stdout",
     "output_type": "stream",
     "text": [
      "16\n"
     ]
    },
    {
     "name": "stdout",
     "output_type": "stream",
     "text": [
      "17\n"
     ]
    },
    {
     "name": "stdout",
     "output_type": "stream",
     "text": [
      "18\n"
     ]
    },
    {
     "name": "stdout",
     "output_type": "stream",
     "text": [
      "19\n"
     ]
    },
    {
     "name": "stdout",
     "output_type": "stream",
     "text": [
      "20\n"
     ]
    },
    {
     "name": "stdout",
     "output_type": "stream",
     "text": [
      "21\n"
     ]
    },
    {
     "name": "stdout",
     "output_type": "stream",
     "text": [
      "22\n"
     ]
    },
    {
     "name": "stdout",
     "output_type": "stream",
     "text": [
      "23\n"
     ]
    },
    {
     "name": "stdout",
     "output_type": "stream",
     "text": [
      "24\n"
     ]
    },
    {
     "name": "stdout",
     "output_type": "stream",
     "text": [
      "25\n"
     ]
    },
    {
     "name": "stdout",
     "output_type": "stream",
     "text": [
      "26\n"
     ]
    },
    {
     "name": "stdout",
     "output_type": "stream",
     "text": [
      "27\n"
     ]
    },
    {
     "name": "stdout",
     "output_type": "stream",
     "text": [
      "28\n"
     ]
    },
    {
     "name": "stdout",
     "output_type": "stream",
     "text": [
      "29\n"
     ]
    },
    {
     "name": "stdout",
     "output_type": "stream",
     "text": [
      "30\n"
     ]
    },
    {
     "name": "stdout",
     "output_type": "stream",
     "text": [
      "31\n"
     ]
    },
    {
     "name": "stdout",
     "output_type": "stream",
     "text": [
      "32\n"
     ]
    },
    {
     "name": "stdout",
     "output_type": "stream",
     "text": [
      "33\n"
     ]
    },
    {
     "name": "stdout",
     "output_type": "stream",
     "text": [
      "34\n"
     ]
    },
    {
     "name": "stdout",
     "output_type": "stream",
     "text": [
      "35\n"
     ]
    },
    {
     "name": "stdout",
     "output_type": "stream",
     "text": [
      "36\n"
     ]
    },
    {
     "name": "stdout",
     "output_type": "stream",
     "text": [
      "37\n"
     ]
    },
    {
     "name": "stdout",
     "output_type": "stream",
     "text": [
      "38\n"
     ]
    },
    {
     "name": "stdout",
     "output_type": "stream",
     "text": [
      "39\n"
     ]
    },
    {
     "name": "stdout",
     "output_type": "stream",
     "text": [
      "40\n"
     ]
    },
    {
     "name": "stdout",
     "output_type": "stream",
     "text": [
      "41\n"
     ]
    },
    {
     "name": "stdout",
     "output_type": "stream",
     "text": [
      "42\n"
     ]
    },
    {
     "name": "stdout",
     "output_type": "stream",
     "text": [
      "43\n"
     ]
    },
    {
     "name": "stdout",
     "output_type": "stream",
     "text": [
      "44\n"
     ]
    },
    {
     "name": "stdout",
     "output_type": "stream",
     "text": [
      "45\n"
     ]
    },
    {
     "name": "stdout",
     "output_type": "stream",
     "text": [
      "46\n"
     ]
    },
    {
     "name": "stdout",
     "output_type": "stream",
     "text": [
      "47\n"
     ]
    },
    {
     "name": "stdout",
     "output_type": "stream",
     "text": [
      "48\n"
     ]
    },
    {
     "name": "stdout",
     "output_type": "stream",
     "text": [
      "49\n"
     ]
    }
   ],
   "source": [
    "X = Xopt.from_yaml(YAML)\n",
    "\n",
    "# for testing purposes only\n",
    "if SMOKE_TEST:\n",
    "    X.generator.numerical_optimizer.n_restarts = 1\n",
    "    X.generator.n_monte_carlo_samples = 1\n",
    "\n",
    "X.random_evaluate(5)\n",
    "for i in range(NUM_STEPS):\n",
    "    print(i)\n",
    "    X.step()"
   ]
  },
  {
   "cell_type": "code",
   "execution_count": 3,
   "metadata": {
    "collapsed": false,
    "execution": {
     "iopub.execute_input": "2024-02-01T04:00:23.266419Z",
     "iopub.status.busy": "2024-02-01T04:00:23.265866Z",
     "iopub.status.idle": "2024-02-01T04:00:23.284129Z",
     "shell.execute_reply": "2024-02-01T04:00:23.283549Z"
    }
   },
   "outputs": [
    {
     "data": {
      "text/html": [
       "<div>\n",
       "<style scoped>\n",
       "    .dataframe tbody tr th:only-of-type {\n",
       "        vertical-align: middle;\n",
       "    }\n",
       "\n",
       "    .dataframe tbody tr th {\n",
       "        vertical-align: top;\n",
       "    }\n",
       "\n",
       "    .dataframe thead th {\n",
       "        text-align: right;\n",
       "    }\n",
       "</style>\n",
       "<table border=\"1\" class=\"dataframe\">\n",
       "  <thead>\n",
       "    <tr style=\"text-align: right;\">\n",
       "      <th></th>\n",
       "      <th>x1</th>\n",
       "      <th>x2</th>\n",
       "      <th>a</th>\n",
       "      <th>y1</th>\n",
       "      <th>y2</th>\n",
       "      <th>c1</th>\n",
       "      <th>c2</th>\n",
       "      <th>xopt_runtime</th>\n",
       "      <th>xopt_error</th>\n",
       "    </tr>\n",
       "  </thead>\n",
       "  <tbody>\n",
       "    <tr>\n",
       "      <th>0</th>\n",
       "      <td>0.270889</td>\n",
       "      <td>2.252424</td>\n",
       "      <td>dummy_constant</td>\n",
       "      <td>0.270889</td>\n",
       "      <td>2.252424</td>\n",
       "      <td>4.180543</td>\n",
       "      <td>3.123481</td>\n",
       "      <td>0.000033</td>\n",
       "      <td>False</td>\n",
       "    </tr>\n",
       "    <tr>\n",
       "      <th>1</th>\n",
       "      <td>0.794188</td>\n",
       "      <td>0.587856</td>\n",
       "      <td>dummy_constant</td>\n",
       "      <td>0.794188</td>\n",
       "      <td>0.587856</td>\n",
       "      <td>0.048074</td>\n",
       "      <td>0.094266</td>\n",
       "      <td>0.000009</td>\n",
       "      <td>False</td>\n",
       "    </tr>\n",
       "    <tr>\n",
       "      <th>2</th>\n",
       "      <td>2.540666</td>\n",
       "      <td>0.376348</td>\n",
       "      <td>dummy_constant</td>\n",
       "      <td>2.540666</td>\n",
       "      <td>0.376348</td>\n",
       "      <td>5.667105</td>\n",
       "      <td>4.179609</td>\n",
       "      <td>0.000007</td>\n",
       "      <td>False</td>\n",
       "    </tr>\n",
       "    <tr>\n",
       "      <th>3</th>\n",
       "      <td>3.000547</td>\n",
       "      <td>1.636726</td>\n",
       "      <td>dummy_constant</td>\n",
       "      <td>3.000547</td>\n",
       "      <td>1.636726</td>\n",
       "      <td>10.695695</td>\n",
       "      <td>7.544881</td>\n",
       "      <td>0.000006</td>\n",
       "      <td>False</td>\n",
       "    </tr>\n",
       "    <tr>\n",
       "      <th>4</th>\n",
       "      <td>1.103187</td>\n",
       "      <td>1.876322</td>\n",
       "      <td>dummy_constant</td>\n",
       "      <td>1.103187</td>\n",
       "      <td>1.876322</td>\n",
       "      <td>3.798142</td>\n",
       "      <td>2.258096</td>\n",
       "      <td>0.000006</td>\n",
       "      <td>False</td>\n",
       "    </tr>\n",
       "    <tr>\n",
       "      <th>5</th>\n",
       "      <td>0.176917</td>\n",
       "      <td>0.396712</td>\n",
       "      <td>dummy_constant</td>\n",
       "      <td>0.176917</td>\n",
       "      <td>0.396712</td>\n",
       "      <td>-0.902274</td>\n",
       "      <td>0.115051</td>\n",
       "      <td>0.000023</td>\n",
       "      <td>False</td>\n",
       "    </tr>\n",
       "    <tr>\n",
       "      <th>6</th>\n",
       "      <td>0.000000</td>\n",
       "      <td>0.008443</td>\n",
       "      <td>dummy_constant</td>\n",
       "      <td>0.000000</td>\n",
       "      <td>0.008443</td>\n",
       "      <td>-1.099929</td>\n",
       "      <td>0.491628</td>\n",
       "      <td>0.000024</td>\n",
       "      <td>False</td>\n",
       "    </tr>\n",
       "    <tr>\n",
       "      <th>7</th>\n",
       "      <td>0.586965</td>\n",
       "      <td>0.000000</td>\n",
       "      <td>dummy_constant</td>\n",
       "      <td>0.586965</td>\n",
       "      <td>0.000000</td>\n",
       "      <td>-0.755472</td>\n",
       "      <td>0.257563</td>\n",
       "      <td>0.000023</td>\n",
       "      <td>False</td>\n",
       "    </tr>\n",
       "    <tr>\n",
       "      <th>8</th>\n",
       "      <td>0.319678</td>\n",
       "      <td>0.871432</td>\n",
       "      <td>dummy_constant</td>\n",
       "      <td>0.319678</td>\n",
       "      <td>0.871432</td>\n",
       "      <td>-0.217559</td>\n",
       "      <td>0.170478</td>\n",
       "      <td>0.000026</td>\n",
       "      <td>False</td>\n",
       "    </tr>\n",
       "    <tr>\n",
       "      <th>9</th>\n",
       "      <td>0.000000</td>\n",
       "      <td>0.892144</td>\n",
       "      <td>dummy_constant</td>\n",
       "      <td>0.000000</td>\n",
       "      <td>0.892144</td>\n",
       "      <td>-0.304079</td>\n",
       "      <td>0.403777</td>\n",
       "      <td>0.000025</td>\n",
       "      <td>False</td>\n",
       "    </tr>\n",
       "    <tr>\n",
       "      <th>10</th>\n",
       "      <td>0.328068</td>\n",
       "      <td>1.054464</td>\n",
       "      <td>dummy_constant</td>\n",
       "      <td>0.328068</td>\n",
       "      <td>1.054464</td>\n",
       "      <td>0.208178</td>\n",
       "      <td>0.336991</td>\n",
       "      <td>0.000024</td>\n",
       "      <td>False</td>\n",
       "    </tr>\n",
       "    <tr>\n",
       "      <th>11</th>\n",
       "      <td>1.014375</td>\n",
       "      <td>0.228310</td>\n",
       "      <td>dummy_constant</td>\n",
       "      <td>1.014375</td>\n",
       "      <td>0.228310</td>\n",
       "      <td>0.173166</td>\n",
       "      <td>0.338397</td>\n",
       "      <td>0.000025</td>\n",
       "      <td>False</td>\n",
       "    </tr>\n",
       "    <tr>\n",
       "      <th>12</th>\n",
       "      <td>0.908633</td>\n",
       "      <td>0.384484</td>\n",
       "      <td>dummy_constant</td>\n",
       "      <td>0.908633</td>\n",
       "      <td>0.384484</td>\n",
       "      <td>-0.125820</td>\n",
       "      <td>0.180325</td>\n",
       "      <td>0.000024</td>\n",
       "      <td>False</td>\n",
       "    </tr>\n",
       "    <tr>\n",
       "      <th>13</th>\n",
       "      <td>0.642976</td>\n",
       "      <td>0.826228</td>\n",
       "      <td>dummy_constant</td>\n",
       "      <td>0.642976</td>\n",
       "      <td>0.826228</td>\n",
       "      <td>0.136353</td>\n",
       "      <td>0.126867</td>\n",
       "      <td>0.000027</td>\n",
       "      <td>False</td>\n",
       "    </tr>\n",
       "    <tr>\n",
       "      <th>14</th>\n",
       "      <td>0.992757</td>\n",
       "      <td>0.049532</td>\n",
       "      <td>dummy_constant</td>\n",
       "      <td>0.992757</td>\n",
       "      <td>0.049532</td>\n",
       "      <td>-0.081819</td>\n",
       "      <td>0.445731</td>\n",
       "      <td>0.000025</td>\n",
       "      <td>False</td>\n",
       "    </tr>\n",
       "    <tr>\n",
       "      <th>15</th>\n",
       "      <td>0.950974</td>\n",
       "      <td>0.956211</td>\n",
       "      <td>dummy_constant</td>\n",
       "      <td>0.950974</td>\n",
       "      <td>0.956211</td>\n",
       "      <td>0.718789</td>\n",
       "      <td>0.411507</td>\n",
       "      <td>0.000024</td>\n",
       "      <td>False</td>\n",
       "    </tr>\n",
       "    <tr>\n",
       "      <th>16</th>\n",
       "      <td>0.926135</td>\n",
       "      <td>0.078995</td>\n",
       "      <td>dummy_constant</td>\n",
       "      <td>0.926135</td>\n",
       "      <td>0.078995</td>\n",
       "      <td>-0.156817</td>\n",
       "      <td>0.358837</td>\n",
       "      <td>0.000028</td>\n",
       "      <td>False</td>\n",
       "    </tr>\n",
       "    <tr>\n",
       "      <th>17</th>\n",
       "      <td>0.116101</td>\n",
       "      <td>1.043344</td>\n",
       "      <td>dummy_constant</td>\n",
       "      <td>0.116101</td>\n",
       "      <td>1.043344</td>\n",
       "      <td>0.122143</td>\n",
       "      <td>0.442601</td>\n",
       "      <td>0.000024</td>\n",
       "      <td>False</td>\n",
       "    </tr>\n",
       "    <tr>\n",
       "      <th>18</th>\n",
       "      <td>0.828642</td>\n",
       "      <td>0.613451</td>\n",
       "      <td>dummy_constant</td>\n",
       "      <td>0.828642</td>\n",
       "      <td>0.613451</td>\n",
       "      <td>0.134654</td>\n",
       "      <td>0.120877</td>\n",
       "      <td>0.000025</td>\n",
       "      <td>False</td>\n",
       "    </tr>\n",
       "    <tr>\n",
       "      <th>19</th>\n",
       "      <td>1.049408</td>\n",
       "      <td>0.082920</td>\n",
       "      <td>dummy_constant</td>\n",
       "      <td>1.049408</td>\n",
       "      <td>0.082920</td>\n",
       "      <td>0.077707</td>\n",
       "      <td>0.475806</td>\n",
       "      <td>0.000029</td>\n",
       "      <td>False</td>\n",
       "    </tr>\n",
       "    <tr>\n",
       "      <th>20</th>\n",
       "      <td>0.415762</td>\n",
       "      <td>0.950876</td>\n",
       "      <td>dummy_constant</td>\n",
       "      <td>0.415762</td>\n",
       "      <td>0.950876</td>\n",
       "      <td>-0.018152</td>\n",
       "      <td>0.210385</td>\n",
       "      <td>0.000025</td>\n",
       "      <td>False</td>\n",
       "    </tr>\n",
       "    <tr>\n",
       "      <th>21</th>\n",
       "      <td>0.057802</td>\n",
       "      <td>1.028215</td>\n",
       "      <td>dummy_constant</td>\n",
       "      <td>0.057802</td>\n",
       "      <td>1.028215</td>\n",
       "      <td>-0.001711</td>\n",
       "      <td>0.474550</td>\n",
       "      <td>0.000024</td>\n",
       "      <td>False</td>\n",
       "    </tr>\n",
       "    <tr>\n",
       "      <th>22</th>\n",
       "      <td>0.897065</td>\n",
       "      <td>0.167156</td>\n",
       "      <td>dummy_constant</td>\n",
       "      <td>0.897065</td>\n",
       "      <td>0.167156</td>\n",
       "      <td>-0.069209</td>\n",
       "      <td>0.268446</td>\n",
       "      <td>0.000024</td>\n",
       "      <td>False</td>\n",
       "    </tr>\n",
       "    <tr>\n",
       "      <th>23</th>\n",
       "      <td>0.537034</td>\n",
       "      <td>0.902300</td>\n",
       "      <td>dummy_constant</td>\n",
       "      <td>0.537034</td>\n",
       "      <td>0.902300</td>\n",
       "      <td>0.169679</td>\n",
       "      <td>0.163217</td>\n",
       "      <td>0.000026</td>\n",
       "      <td>False</td>\n",
       "    </tr>\n",
       "    <tr>\n",
       "      <th>24</th>\n",
       "      <td>0.239450</td>\n",
       "      <td>0.999045</td>\n",
       "      <td>dummy_constant</td>\n",
       "      <td>0.239450</td>\n",
       "      <td>0.999045</td>\n",
       "      <td>0.136682</td>\n",
       "      <td>0.316932</td>\n",
       "      <td>0.000025</td>\n",
       "      <td>False</td>\n",
       "    </tr>\n",
       "    <tr>\n",
       "      <th>25</th>\n",
       "      <td>1.214624</td>\n",
       "      <td>0.089153</td>\n",
       "      <td>dummy_constant</td>\n",
       "      <td>1.214624</td>\n",
       "      <td>0.089153</td>\n",
       "      <td>0.444457</td>\n",
       "      <td>0.679483</td>\n",
       "      <td>0.000024</td>\n",
       "      <td>False</td>\n",
       "    </tr>\n",
       "    <tr>\n",
       "      <th>26</th>\n",
       "      <td>0.033892</td>\n",
       "      <td>0.947534</td>\n",
       "      <td>dummy_constant</td>\n",
       "      <td>0.033892</td>\n",
       "      <td>0.947534</td>\n",
       "      <td>-0.185111</td>\n",
       "      <td>0.417544</td>\n",
       "      <td>0.000024</td>\n",
       "      <td>False</td>\n",
       "    </tr>\n",
       "    <tr>\n",
       "      <th>27</th>\n",
       "      <td>0.705672</td>\n",
       "      <td>0.723631</td>\n",
       "      <td>dummy_constant</td>\n",
       "      <td>0.705672</td>\n",
       "      <td>0.723631</td>\n",
       "      <td>-0.076372</td>\n",
       "      <td>0.092312</td>\n",
       "      <td>0.000026</td>\n",
       "      <td>False</td>\n",
       "    </tr>\n",
       "    <tr>\n",
       "      <th>28</th>\n",
       "      <td>0.113789</td>\n",
       "      <td>0.475114</td>\n",
       "      <td>dummy_constant</td>\n",
       "      <td>0.113789</td>\n",
       "      <td>0.475114</td>\n",
       "      <td>-0.679904</td>\n",
       "      <td>0.149778</td>\n",
       "      <td>0.000028</td>\n",
       "      <td>False</td>\n",
       "    </tr>\n",
       "    <tr>\n",
       "      <th>29</th>\n",
       "      <td>0.175524</td>\n",
       "      <td>1.196035</td>\n",
       "      <td>dummy_constant</td>\n",
       "      <td>0.175524</td>\n",
       "      <td>1.196035</td>\n",
       "      <td>0.530246</td>\n",
       "      <td>0.589749</td>\n",
       "      <td>0.000025</td>\n",
       "      <td>False</td>\n",
       "    </tr>\n",
       "    <tr>\n",
       "      <th>30</th>\n",
       "      <td>0.507845</td>\n",
       "      <td>0.877437</td>\n",
       "      <td>dummy_constant</td>\n",
       "      <td>0.507845</td>\n",
       "      <td>0.877437</td>\n",
       "      <td>0.079282</td>\n",
       "      <td>0.142520</td>\n",
       "      <td>0.000025</td>\n",
       "      <td>False</td>\n",
       "    </tr>\n",
       "    <tr>\n",
       "      <th>31</th>\n",
       "      <td>0.940385</td>\n",
       "      <td>0.412170</td>\n",
       "      <td>dummy_constant</td>\n",
       "      <td>0.940385</td>\n",
       "      <td>0.412170</td>\n",
       "      <td>-0.040522</td>\n",
       "      <td>0.201653</td>\n",
       "      <td>0.000026</td>\n",
       "      <td>False</td>\n",
       "    </tr>\n",
       "    <tr>\n",
       "      <th>32</th>\n",
       "      <td>0.975044</td>\n",
       "      <td>0.270158</td>\n",
       "      <td>dummy_constant</td>\n",
       "      <td>0.975044</td>\n",
       "      <td>0.270158</td>\n",
       "      <td>0.061505</td>\n",
       "      <td>0.278495</td>\n",
       "      <td>0.000026</td>\n",
       "      <td>False</td>\n",
       "    </tr>\n",
       "    <tr>\n",
       "      <th>33</th>\n",
       "      <td>0.229433</td>\n",
       "      <td>0.906772</td>\n",
       "      <td>dummy_constant</td>\n",
       "      <td>0.229433</td>\n",
       "      <td>0.906772</td>\n",
       "      <td>-0.057162</td>\n",
       "      <td>0.238670</td>\n",
       "      <td>0.000026</td>\n",
       "      <td>False</td>\n",
       "    </tr>\n",
       "    <tr>\n",
       "      <th>34</th>\n",
       "      <td>0.760971</td>\n",
       "      <td>0.684726</td>\n",
       "      <td>dummy_constant</td>\n",
       "      <td>0.760971</td>\n",
       "      <td>0.684726</td>\n",
       "      <td>-0.018594</td>\n",
       "      <td>0.102229</td>\n",
       "      <td>0.000025</td>\n",
       "      <td>False</td>\n",
       "    </tr>\n",
       "    <tr>\n",
       "      <th>35</th>\n",
       "      <td>1.332185</td>\n",
       "      <td>0.145845</td>\n",
       "      <td>dummy_constant</td>\n",
       "      <td>1.332185</td>\n",
       "      <td>0.145845</td>\n",
       "      <td>0.813290</td>\n",
       "      <td>0.817958</td>\n",
       "      <td>0.000025</td>\n",
       "      <td>False</td>\n",
       "    </tr>\n",
       "    <tr>\n",
       "      <th>36</th>\n",
       "      <td>0.724189</td>\n",
       "      <td>0.750207</td>\n",
       "      <td>dummy_constant</td>\n",
       "      <td>0.724189</td>\n",
       "      <td>0.750207</td>\n",
       "      <td>-0.008781</td>\n",
       "      <td>0.112864</td>\n",
       "      <td>0.000025</td>\n",
       "      <td>False</td>\n",
       "    </tr>\n",
       "    <tr>\n",
       "      <th>37</th>\n",
       "      <td>1.023214</td>\n",
       "      <td>0.040701</td>\n",
       "      <td>dummy_constant</td>\n",
       "      <td>1.023214</td>\n",
       "      <td>0.040701</td>\n",
       "      <td>-0.031818</td>\n",
       "      <td>0.484708</td>\n",
       "      <td>0.000026</td>\n",
       "      <td>False</td>\n",
       "    </tr>\n",
       "    <tr>\n",
       "      <th>38</th>\n",
       "      <td>0.887747</td>\n",
       "      <td>0.532412</td>\n",
       "      <td>dummy_constant</td>\n",
       "      <td>0.887747</td>\n",
       "      <td>0.532412</td>\n",
       "      <td>0.142564</td>\n",
       "      <td>0.151398</td>\n",
       "      <td>0.000027</td>\n",
       "      <td>False</td>\n",
       "    </tr>\n",
       "    <tr>\n",
       "      <th>39</th>\n",
       "      <td>0.875187</td>\n",
       "      <td>0.582468</td>\n",
       "      <td>dummy_constant</td>\n",
       "      <td>0.875187</td>\n",
       "      <td>0.582468</td>\n",
       "      <td>0.205179</td>\n",
       "      <td>0.147567</td>\n",
       "      <td>0.000027</td>\n",
       "      <td>False</td>\n",
       "    </tr>\n",
       "    <tr>\n",
       "      <th>40</th>\n",
       "      <td>0.290405</td>\n",
       "      <td>0.961531</td>\n",
       "      <td>dummy_constant</td>\n",
       "      <td>0.290405</td>\n",
       "      <td>0.961531</td>\n",
       "      <td>0.010816</td>\n",
       "      <td>0.256941</td>\n",
       "      <td>0.000025</td>\n",
       "      <td>False</td>\n",
       "    </tr>\n",
       "    <tr>\n",
       "      <th>41</th>\n",
       "      <td>0.746949</td>\n",
       "      <td>0.553156</td>\n",
       "      <td>dummy_constant</td>\n",
       "      <td>0.746949</td>\n",
       "      <td>0.553156</td>\n",
       "      <td>-0.064578</td>\n",
       "      <td>0.063809</td>\n",
       "      <td>0.000026</td>\n",
       "      <td>False</td>\n",
       "    </tr>\n",
       "    <tr>\n",
       "      <th>42</th>\n",
       "      <td>0.403476</td>\n",
       "      <td>0.922362</td>\n",
       "      <td>dummy_constant</td>\n",
       "      <td>0.403476</td>\n",
       "      <td>0.922362</td>\n",
       "      <td>-0.081549</td>\n",
       "      <td>0.187707</td>\n",
       "      <td>0.000024</td>\n",
       "      <td>False</td>\n",
       "    </tr>\n",
       "    <tr>\n",
       "      <th>43</th>\n",
       "      <td>0.298966</td>\n",
       "      <td>0.417682</td>\n",
       "      <td>dummy_constant</td>\n",
       "      <td>0.298966</td>\n",
       "      <td>0.417682</td>\n",
       "      <td>-0.649131</td>\n",
       "      <td>0.047191</td>\n",
       "      <td>0.000026</td>\n",
       "      <td>False</td>\n",
       "    </tr>\n",
       "    <tr>\n",
       "      <th>44</th>\n",
       "      <td>0.505584</td>\n",
       "      <td>1.801422</td>\n",
       "      <td>dummy_constant</td>\n",
       "      <td>0.505584</td>\n",
       "      <td>1.801422</td>\n",
       "      <td>2.533565</td>\n",
       "      <td>1.693731</td>\n",
       "      <td>0.000025</td>\n",
       "      <td>False</td>\n",
       "    </tr>\n",
       "    <tr>\n",
       "      <th>45</th>\n",
       "      <td>0.938407</td>\n",
       "      <td>0.331264</td>\n",
       "      <td>dummy_constant</td>\n",
       "      <td>0.938407</td>\n",
       "      <td>0.331264</td>\n",
       "      <td>-0.075387</td>\n",
       "      <td>0.220672</td>\n",
       "      <td>0.000025</td>\n",
       "      <td>False</td>\n",
       "    </tr>\n",
       "    <tr>\n",
       "      <th>46</th>\n",
       "      <td>0.102032</td>\n",
       "      <td>1.121729</td>\n",
       "      <td>dummy_constant</td>\n",
       "      <td>0.102032</td>\n",
       "      <td>1.121729</td>\n",
       "      <td>0.256771</td>\n",
       "      <td>0.544925</td>\n",
       "      <td>0.000026</td>\n",
       "      <td>False</td>\n",
       "    </tr>\n",
       "    <tr>\n",
       "      <th>47</th>\n",
       "      <td>0.179257</td>\n",
       "      <td>0.352910</td>\n",
       "      <td>dummy_constant</td>\n",
       "      <td>0.179257</td>\n",
       "      <td>0.352910</td>\n",
       "      <td>-0.876133</td>\n",
       "      <td>0.124511</td>\n",
       "      <td>0.000025</td>\n",
       "      <td>False</td>\n",
       "    </tr>\n",
       "    <tr>\n",
       "      <th>48</th>\n",
       "      <td>0.107878</td>\n",
       "      <td>0.948747</td>\n",
       "      <td>dummy_constant</td>\n",
       "      <td>0.107878</td>\n",
       "      <td>0.948747</td>\n",
       "      <td>-0.064402</td>\n",
       "      <td>0.355134</td>\n",
       "      <td>0.000025</td>\n",
       "      <td>False</td>\n",
       "    </tr>\n",
       "    <tr>\n",
       "      <th>49</th>\n",
       "      <td>0.073450</td>\n",
       "      <td>0.947272</td>\n",
       "      <td>dummy_constant</td>\n",
       "      <td>0.073450</td>\n",
       "      <td>0.947272</td>\n",
       "      <td>-0.129937</td>\n",
       "      <td>0.381998</td>\n",
       "      <td>0.000025</td>\n",
       "      <td>False</td>\n",
       "    </tr>\n",
       "    <tr>\n",
       "      <th>50</th>\n",
       "      <td>0.612062</td>\n",
       "      <td>0.808882</td>\n",
       "      <td>dummy_constant</td>\n",
       "      <td>0.612062</td>\n",
       "      <td>0.808882</td>\n",
       "      <td>0.087939</td>\n",
       "      <td>0.107966</td>\n",
       "      <td>0.000025</td>\n",
       "      <td>False</td>\n",
       "    </tr>\n",
       "    <tr>\n",
       "      <th>51</th>\n",
       "      <td>0.110920</td>\n",
       "      <td>1.004568</td>\n",
       "      <td>dummy_constant</td>\n",
       "      <td>0.110920</td>\n",
       "      <td>1.004568</td>\n",
       "      <td>0.040220</td>\n",
       "      <td>0.405972</td>\n",
       "      <td>0.000025</td>\n",
       "      <td>False</td>\n",
       "    </tr>\n",
       "    <tr>\n",
       "      <th>52</th>\n",
       "      <td>0.999443</td>\n",
       "      <td>0.153911</td>\n",
       "      <td>dummy_constant</td>\n",
       "      <td>0.999443</td>\n",
       "      <td>0.153911</td>\n",
       "      <td>0.099261</td>\n",
       "      <td>0.369221</td>\n",
       "      <td>0.000025</td>\n",
       "      <td>False</td>\n",
       "    </tr>\n",
       "    <tr>\n",
       "      <th>53</th>\n",
       "      <td>1.316449</td>\n",
       "      <td>0.076794</td>\n",
       "      <td>dummy_constant</td>\n",
       "      <td>1.316449</td>\n",
       "      <td>0.076794</td>\n",
       "      <td>0.679336</td>\n",
       "      <td>0.845693</td>\n",
       "      <td>0.000024</td>\n",
       "      <td>False</td>\n",
       "    </tr>\n",
       "    <tr>\n",
       "      <th>54</th>\n",
       "      <td>0.086116</td>\n",
       "      <td>1.132807</td>\n",
       "      <td>dummy_constant</td>\n",
       "      <td>0.086116</td>\n",
       "      <td>1.132807</td>\n",
       "      <td>0.255739</td>\n",
       "      <td>0.571744</td>\n",
       "      <td>0.000033</td>\n",
       "      <td>False</td>\n",
       "    </tr>\n",
       "  </tbody>\n",
       "</table>\n",
       "</div>"
      ],
      "text/plain": [
       "          x1        x2               a        y1        y2         c1  \\\n",
       "0   0.270889  2.252424  dummy_constant  0.270889  2.252424   4.180543   \n",
       "1   0.794188  0.587856  dummy_constant  0.794188  0.587856   0.048074   \n",
       "2   2.540666  0.376348  dummy_constant  2.540666  0.376348   5.667105   \n",
       "3   3.000547  1.636726  dummy_constant  3.000547  1.636726  10.695695   \n",
       "4   1.103187  1.876322  dummy_constant  1.103187  1.876322   3.798142   \n",
       "5   0.176917  0.396712  dummy_constant  0.176917  0.396712  -0.902274   \n",
       "6   0.000000  0.008443  dummy_constant  0.000000  0.008443  -1.099929   \n",
       "7   0.586965  0.000000  dummy_constant  0.586965  0.000000  -0.755472   \n",
       "8   0.319678  0.871432  dummy_constant  0.319678  0.871432  -0.217559   \n",
       "9   0.000000  0.892144  dummy_constant  0.000000  0.892144  -0.304079   \n",
       "10  0.328068  1.054464  dummy_constant  0.328068  1.054464   0.208178   \n",
       "11  1.014375  0.228310  dummy_constant  1.014375  0.228310   0.173166   \n",
       "12  0.908633  0.384484  dummy_constant  0.908633  0.384484  -0.125820   \n",
       "13  0.642976  0.826228  dummy_constant  0.642976  0.826228   0.136353   \n",
       "14  0.992757  0.049532  dummy_constant  0.992757  0.049532  -0.081819   \n",
       "15  0.950974  0.956211  dummy_constant  0.950974  0.956211   0.718789   \n",
       "16  0.926135  0.078995  dummy_constant  0.926135  0.078995  -0.156817   \n",
       "17  0.116101  1.043344  dummy_constant  0.116101  1.043344   0.122143   \n",
       "18  0.828642  0.613451  dummy_constant  0.828642  0.613451   0.134654   \n",
       "19  1.049408  0.082920  dummy_constant  1.049408  0.082920   0.077707   \n",
       "20  0.415762  0.950876  dummy_constant  0.415762  0.950876  -0.018152   \n",
       "21  0.057802  1.028215  dummy_constant  0.057802  1.028215  -0.001711   \n",
       "22  0.897065  0.167156  dummy_constant  0.897065  0.167156  -0.069209   \n",
       "23  0.537034  0.902300  dummy_constant  0.537034  0.902300   0.169679   \n",
       "24  0.239450  0.999045  dummy_constant  0.239450  0.999045   0.136682   \n",
       "25  1.214624  0.089153  dummy_constant  1.214624  0.089153   0.444457   \n",
       "26  0.033892  0.947534  dummy_constant  0.033892  0.947534  -0.185111   \n",
       "27  0.705672  0.723631  dummy_constant  0.705672  0.723631  -0.076372   \n",
       "28  0.113789  0.475114  dummy_constant  0.113789  0.475114  -0.679904   \n",
       "29  0.175524  1.196035  dummy_constant  0.175524  1.196035   0.530246   \n",
       "30  0.507845  0.877437  dummy_constant  0.507845  0.877437   0.079282   \n",
       "31  0.940385  0.412170  dummy_constant  0.940385  0.412170  -0.040522   \n",
       "32  0.975044  0.270158  dummy_constant  0.975044  0.270158   0.061505   \n",
       "33  0.229433  0.906772  dummy_constant  0.229433  0.906772  -0.057162   \n",
       "34  0.760971  0.684726  dummy_constant  0.760971  0.684726  -0.018594   \n",
       "35  1.332185  0.145845  dummy_constant  1.332185  0.145845   0.813290   \n",
       "36  0.724189  0.750207  dummy_constant  0.724189  0.750207  -0.008781   \n",
       "37  1.023214  0.040701  dummy_constant  1.023214  0.040701  -0.031818   \n",
       "38  0.887747  0.532412  dummy_constant  0.887747  0.532412   0.142564   \n",
       "39  0.875187  0.582468  dummy_constant  0.875187  0.582468   0.205179   \n",
       "40  0.290405  0.961531  dummy_constant  0.290405  0.961531   0.010816   \n",
       "41  0.746949  0.553156  dummy_constant  0.746949  0.553156  -0.064578   \n",
       "42  0.403476  0.922362  dummy_constant  0.403476  0.922362  -0.081549   \n",
       "43  0.298966  0.417682  dummy_constant  0.298966  0.417682  -0.649131   \n",
       "44  0.505584  1.801422  dummy_constant  0.505584  1.801422   2.533565   \n",
       "45  0.938407  0.331264  dummy_constant  0.938407  0.331264  -0.075387   \n",
       "46  0.102032  1.121729  dummy_constant  0.102032  1.121729   0.256771   \n",
       "47  0.179257  0.352910  dummy_constant  0.179257  0.352910  -0.876133   \n",
       "48  0.107878  0.948747  dummy_constant  0.107878  0.948747  -0.064402   \n",
       "49  0.073450  0.947272  dummy_constant  0.073450  0.947272  -0.129937   \n",
       "50  0.612062  0.808882  dummy_constant  0.612062  0.808882   0.087939   \n",
       "51  0.110920  1.004568  dummy_constant  0.110920  1.004568   0.040220   \n",
       "52  0.999443  0.153911  dummy_constant  0.999443  0.153911   0.099261   \n",
       "53  1.316449  0.076794  dummy_constant  1.316449  0.076794   0.679336   \n",
       "54  0.086116  1.132807  dummy_constant  0.086116  1.132807   0.255739   \n",
       "\n",
       "          c2  xopt_runtime  xopt_error  \n",
       "0   3.123481      0.000033       False  \n",
       "1   0.094266      0.000009       False  \n",
       "2   4.179609      0.000007       False  \n",
       "3   7.544881      0.000006       False  \n",
       "4   2.258096      0.000006       False  \n",
       "5   0.115051      0.000023       False  \n",
       "6   0.491628      0.000024       False  \n",
       "7   0.257563      0.000023       False  \n",
       "8   0.170478      0.000026       False  \n",
       "9   0.403777      0.000025       False  \n",
       "10  0.336991      0.000024       False  \n",
       "11  0.338397      0.000025       False  \n",
       "12  0.180325      0.000024       False  \n",
       "13  0.126867      0.000027       False  \n",
       "14  0.445731      0.000025       False  \n",
       "15  0.411507      0.000024       False  \n",
       "16  0.358837      0.000028       False  \n",
       "17  0.442601      0.000024       False  \n",
       "18  0.120877      0.000025       False  \n",
       "19  0.475806      0.000029       False  \n",
       "20  0.210385      0.000025       False  \n",
       "21  0.474550      0.000024       False  \n",
       "22  0.268446      0.000024       False  \n",
       "23  0.163217      0.000026       False  \n",
       "24  0.316932      0.000025       False  \n",
       "25  0.679483      0.000024       False  \n",
       "26  0.417544      0.000024       False  \n",
       "27  0.092312      0.000026       False  \n",
       "28  0.149778      0.000028       False  \n",
       "29  0.589749      0.000025       False  \n",
       "30  0.142520      0.000025       False  \n",
       "31  0.201653      0.000026       False  \n",
       "32  0.278495      0.000026       False  \n",
       "33  0.238670      0.000026       False  \n",
       "34  0.102229      0.000025       False  \n",
       "35  0.817958      0.000025       False  \n",
       "36  0.112864      0.000025       False  \n",
       "37  0.484708      0.000026       False  \n",
       "38  0.151398      0.000027       False  \n",
       "39  0.147567      0.000027       False  \n",
       "40  0.256941      0.000025       False  \n",
       "41  0.063809      0.000026       False  \n",
       "42  0.187707      0.000024       False  \n",
       "43  0.047191      0.000026       False  \n",
       "44  1.693731      0.000025       False  \n",
       "45  0.220672      0.000025       False  \n",
       "46  0.544925      0.000026       False  \n",
       "47  0.124511      0.000025       False  \n",
       "48  0.355134      0.000025       False  \n",
       "49  0.381998      0.000025       False  \n",
       "50  0.107966      0.000025       False  \n",
       "51  0.405972      0.000025       False  \n",
       "52  0.369221      0.000025       False  \n",
       "53  0.845693      0.000024       False  \n",
       "54  0.571744      0.000033       False  "
      ]
     },
     "execution_count": 3,
     "metadata": {},
     "output_type": "execute_result"
    }
   ],
   "source": [
    "X.generator.data"
   ]
  },
  {
   "cell_type": "markdown",
   "metadata": {
    "collapsed": false
   },
   "source": [
    "## plot results\n"
   ]
  },
  {
   "cell_type": "code",
   "execution_count": 4,
   "metadata": {
    "collapsed": false,
    "execution": {
     "iopub.execute_input": "2024-02-01T04:00:23.286514Z",
     "iopub.status.busy": "2024-02-01T04:00:23.286130Z",
     "iopub.status.idle": "2024-02-01T04:00:23.756191Z",
     "shell.execute_reply": "2024-02-01T04:00:23.755561Z"
    }
   },
   "outputs": [
    {
     "data": {
      "image/png": "[encoded data removed]",
      "text/plain": [
       "<Figure size 640x480 with 1 Axes>"
      ]
     },
     "metadata": {},
     "output_type": "display_data"
    }
   ],
   "source": [
    "import matplotlib.pyplot as plt\n",
    "import numpy as np\n",
    "import pandas as pd\n",
    "\n",
    "fig, ax = plt.subplots()\n",
    "\n",
    "theta = np.linspace(0, np.pi / 2)\n",
    "r = np.sqrt(1 + 0.1 * np.cos(16 * theta))\n",
    "x_1 = r * np.sin(theta)\n",
    "x_2_lower = r * np.cos(theta)\n",
    "x_2_upper = (0.5 - (x_1 - 0.5) ** 2) ** 0.5 + 0.5\n",
    "\n",
    "z = np.zeros_like(x_1)\n",
    "\n",
    "# ax2.plot(x_1, x_2_lower,'r')\n",
    "ax.fill_between(x_1, z, x_2_lower, fc=\"white\")\n",
    "circle = plt.Circle(\n",
    "    (0.5, 0.5), 0.5 ** 0.5, color=\"r\", alpha=0.25, zorder=0, label=\"Valid Region\"\n",
    ")\n",
    "ax.add_patch(circle)\n",
    "history = pd.concat(\n",
    "    [X.data, X.vocs.feasibility_data(X.data)], axis=1, ignore_index=False\n",
    ")\n",
    "\n",
    "\n",
    "ax.plot(*history[[\"x1\", \"x2\"]][history[\"feasible\"]].to_numpy().T, \".C1\")\n",
    "ax.plot(*history[[\"x1\", \"x2\"]][~history[\"feasible\"]].to_numpy().T, \".C2\")\n",
    "\n",
    "ax.set_xlim(0, 3.14)\n",
    "ax.set_ylim(0, 3.14)\n",
    "ax.set_xlabel(\"x1\")\n",
    "ax.set_ylabel(\"x2\")\n",
    "ax.set_aspect(\"equal\")"
   ]
  },
  {
   "cell_type": "markdown",
   "metadata": {
    "collapsed": false
   },
   "source": [
    "### Plot path through input space"
   ]
  },
  {
   "cell_type": "code",
   "execution_count": 5,
   "metadata": {
    "collapsed": false,
    "execution": {
     "iopub.execute_input": "2024-02-01T04:00:23.758739Z",
     "iopub.status.busy": "2024-02-01T04:00:23.758262Z",
     "iopub.status.idle": "2024-02-01T04:00:23.880804Z",
     "shell.execute_reply": "2024-02-01T04:00:23.880174Z"
    }
   },
   "outputs": [
    {
     "data": {
      "image/png": "[encoded data removed]",
      "text/plain": [
       "<Figure size 640x480 with 1 Axes>"
      ]
     },
     "metadata": {},
     "output_type": "display_data"
    }
   ],
   "source": [
    "ax = history.plot(\"x1\", \"x2\")\n",
    "ax.set_ylim(0, 3.14)\n",
    "ax.set_xlim(0, 3.14)\n",
    "ax.set_aspect(\"equal\")"
   ]
  },
  {
   "cell_type": "code",
   "execution_count": 6,
   "metadata": {
    "collapsed": false,
    "execution": {
     "iopub.execute_input": "2024-02-01T04:00:23.883397Z",
     "iopub.status.busy": "2024-02-01T04:00:23.882874Z",
     "iopub.status.idle": "2024-02-01T04:00:28.747578Z",
     "shell.execute_reply": "2024-02-01T04:00:28.746985Z"
    }
   },
   "outputs": [
    {
     "name": "stdout",
     "output_type": "stream",
     "text": [
      "[[1.39493323 0.09883811]]\n"
     ]
    },
    {
     "data": {
      "text/plain": [
       "[<matplotlib.lines.Line2D at 0x7f7c78266a60>]"
      ]
     },
     "execution_count": 6,
     "metadata": {},
     "output_type": "execute_result"
    },
    {
     "data": {
      "image/png": "[encoded data removed]",
      "text/plain": [
       "<Figure size 800x800 with 2 Axes>"
      ]
     },
     "metadata": {},
     "output_type": "display_data"
    },
    {
     "data": {
      "image/png": "[encoded data removed]",
      "text/plain": [
       "<Figure size 800x800 with 2 Axes>"
      ]
     },
     "metadata": {},
     "output_type": "display_data"
    }
   ],
   "source": [
    "# plot the acquisition function\n",
    "from xopt.generators.bayesian.objectives import feasibility\n",
    "\n",
    "bounds = X.generator.vocs.bounds\n",
    "model = X.generator.model\n",
    "\n",
    "# create mesh\n",
    "n = 100\n",
    "x = torch.linspace(*bounds.T[0], n)\n",
    "y = torch.linspace(*bounds.T[1], n)\n",
    "xx, yy = torch.meshgrid(x, y)\n",
    "pts = torch.hstack([ele.reshape(-1, 1) for ele in (xx, yy)]).double()\n",
    "\n",
    "xx, yy = xx.numpy(), yy.numpy()\n",
    "\n",
    "acq_func = X.generator.get_acquisition(model)\n",
    "with torch.no_grad():\n",
    "    acq_pts = pts.unsqueeze(1)\n",
    "    acq = acq_func(acq_pts)\n",
    "\n",
    "    fig, ax = plt.subplots(figsize=(8,8))\n",
    "    c = ax.pcolor(xx, yy, acq.reshape(n, n), cmap=\"Blues\")\n",
    "    fig.colorbar(c)\n",
    "    ax.set_title(\"Acquisition function\")\n",
    "\n",
    "    ax.plot(*history[[\"x1\", \"x2\"]][history[\"feasible\"]].to_numpy().T, \".C1\")\n",
    "    ax.plot(*history[[\"x1\", \"x2\"]][~history[\"feasible\"]].to_numpy().T, \".C2\")\n",
    "\n",
    "    ax.plot(*history[[\"x1\", \"x2\"]].to_numpy()[-1].T, \"+\")\n",
    "\n",
    "    feas = feasibility(pts.unsqueeze(1), model, X.vocs).flatten()\n",
    "\n",
    "    fig2, ax2 = plt.subplots(figsize=(8,8))\n",
    "    c = ax2.pcolor(xx, yy, feas.reshape(n, n))\n",
    "    fig2.colorbar(c)\n",
    "    ax2.set_title(\"Feasible Region\")\n",
    "\n",
    "candidate = pd.DataFrame(X.generator.generate(1), index=[0])\n",
    "print(candidate[[\"x1\", \"x2\"]].to_numpy())\n",
    "ax.plot(*candidate[[\"x1\", \"x2\"]].to_numpy()[0], \"o\")"
   ]
  }
 ],
 "metadata": {
  "interpreter": {
   "hash": "72034539424920dfb606fe3b820b3f27dca0cbf1c69938110810ec4641e275b1"
  },
  "kernelspec": {
   "display_name": "Python 3 (ipykernel)",
   "language": "python",
   "name": "python3"
  },
  "language_info": {
   "codemirror_mode": {
    "name": "ipython",
    "version": 3
   },
   "file_extension": ".py",
   "mimetype": "text/x-python",
   "name": "python",
   "nbconvert_exporter": "python",
   "pygments_lexer": "ipython3",
   "version": "3.9.18"
  }
 },
 "nbformat": 4,
 "nbformat_minor": 4
}
