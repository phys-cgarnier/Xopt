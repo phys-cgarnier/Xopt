{
 "cells": [
  {
   "cell_type": "markdown",
   "metadata": {},
   "source": [
    "\n",
    "# Multi-objective Bayesian Optimization\n",
    "\n",
    "\n",
    "TNK function\n",
    "$n=2$ variables:\n",
    "$x_i \\in [0, \\pi], i=1,2$\n",
    "\n",
    "Objectives:\n",
    "- $f_i(x) = x_i$\n",
    "\n",
    "Constraints:\n",
    "- $g_1(x) = -x_1^2 -x_2^2 + 1 + 0.1 \\cos\\left(16 \\arctan \\frac{x_1}{x_2}\\right) \\le 0$\n",
    "- $g_2(x) = (x_1 - 1/2)^2 + (x_2-1/2)^2 \\le 0.5$"
   ]
  },
  {
   "cell_type": "code",
   "execution_count": 1,
   "metadata": {
    "collapsed": false,
    "execution": {
     "iopub.execute_input": "2024-04-23T15:08:31.858092Z",
     "iopub.status.busy": "2024-04-23T15:08:31.857914Z",
     "iopub.status.idle": "2024-04-23T15:08:33.346924Z",
     "shell.execute_reply": "2024-04-23T15:08:33.346347Z"
    }
   },
   "outputs": [],
   "source": [
    "import os\n",
    "SMOKE_TEST = os.environ.get(\"SMOKE_TEST\")\n",
    "NUM_STEPS = 2 if SMOKE_TEST else 50\n",
    "\n",
    "# Ignore all warnings\n",
    "import warnings\n",
    "warnings.filterwarnings(\"ignore\")\n",
    "\n",
    "import torch\n",
    "from xopt import Xopt\n",
    "\n",
    "\n",
    "YAML = \"\"\"\n",
    "generator:\n",
    "    name: mobo\n",
    "    reference_point: {y1: 1.5, y2: 1.5}\n",
    "\n",
    "evaluator:\n",
    "    function: xopt.resources.test_functions.tnk.evaluate_TNK\n",
    "\n",
    "vocs:\n",
    "    variables:\n",
    "        x1: [0, 3.14159]\n",
    "        x2: [0, 3.14159]\n",
    "    objectives: {y1: MINIMIZE, y2: MINIMIZE}\n",
    "    constraints:\n",
    "        c1: [GREATER_THAN, 0]\n",
    "        c2: [LESS_THAN, 0.5]\n",
    "    constants: {a: dummy_constant}\n",
    "\n",
    "\"\"\""
   ]
  },
  {
   "cell_type": "code",
   "execution_count": 2,
   "metadata": {
    "collapsed": false,
    "execution": {
     "iopub.execute_input": "2024-04-23T15:08:33.349565Z",
     "iopub.status.busy": "2024-04-23T15:08:33.349345Z",
     "iopub.status.idle": "2024-04-23T15:09:20.046476Z",
     "shell.execute_reply": "2024-04-23T15:09:20.045828Z"
    }
   },
   "outputs": [
    {
     "name": "stdout",
     "output_type": "stream",
     "text": [
      "0\n"
     ]
    },
    {
     "name": "stdout",
     "output_type": "stream",
     "text": [
      "1\n"
     ]
    },
    {
     "name": "stdout",
     "output_type": "stream",
     "text": [
      "2\n"
     ]
    },
    {
     "name": "stdout",
     "output_type": "stream",
     "text": [
      "3\n"
     ]
    },
    {
     "name": "stdout",
     "output_type": "stream",
     "text": [
      "4\n"
     ]
    },
    {
     "name": "stdout",
     "output_type": "stream",
     "text": [
      "5\n"
     ]
    },
    {
     "name": "stdout",
     "output_type": "stream",
     "text": [
      "6\n"
     ]
    },
    {
     "name": "stdout",
     "output_type": "stream",
     "text": [
      "7\n"
     ]
    },
    {
     "name": "stdout",
     "output_type": "stream",
     "text": [
      "8\n"
     ]
    },
    {
     "name": "stdout",
     "output_type": "stream",
     "text": [
      "9\n"
     ]
    },
    {
     "name": "stdout",
     "output_type": "stream",
     "text": [
      "10\n"
     ]
    },
    {
     "name": "stdout",
     "output_type": "stream",
     "text": [
      "11\n"
     ]
    },
    {
     "name": "stdout",
     "output_type": "stream",
     "text": [
      "12\n"
     ]
    },
    {
     "name": "stdout",
     "output_type": "stream",
     "text": [
      "13\n"
     ]
    },
    {
     "name": "stdout",
     "output_type": "stream",
     "text": [
      "14\n"
     ]
    },
    {
     "name": "stdout",
     "output_type": "stream",
     "text": [
      "15\n"
     ]
    },
    {
     "name": "stdout",
     "output_type": "stream",
     "text": [
      "16\n"
     ]
    },
    {
     "name": "stdout",
     "output_type": "stream",
     "text": [
      "17\n"
     ]
    },
    {
     "name": "stdout",
     "output_type": "stream",
     "text": [
      "18\n"
     ]
    },
    {
     "name": "stdout",
     "output_type": "stream",
     "text": [
      "19\n"
     ]
    },
    {
     "name": "stdout",
     "output_type": "stream",
     "text": [
      "20\n"
     ]
    },
    {
     "name": "stdout",
     "output_type": "stream",
     "text": [
      "21\n"
     ]
    },
    {
     "name": "stdout",
     "output_type": "stream",
     "text": [
      "22\n"
     ]
    },
    {
     "name": "stdout",
     "output_type": "stream",
     "text": [
      "23\n"
     ]
    },
    {
     "name": "stdout",
     "output_type": "stream",
     "text": [
      "24\n"
     ]
    },
    {
     "name": "stdout",
     "output_type": "stream",
     "text": [
      "25\n"
     ]
    },
    {
     "name": "stdout",
     "output_type": "stream",
     "text": [
      "26\n"
     ]
    },
    {
     "name": "stdout",
     "output_type": "stream",
     "text": [
      "27\n"
     ]
    },
    {
     "name": "stdout",
     "output_type": "stream",
     "text": [
      "28\n"
     ]
    },
    {
     "name": "stdout",
     "output_type": "stream",
     "text": [
      "29\n"
     ]
    },
    {
     "name": "stdout",
     "output_type": "stream",
     "text": [
      "30\n"
     ]
    },
    {
     "name": "stdout",
     "output_type": "stream",
     "text": [
      "31\n"
     ]
    },
    {
     "name": "stdout",
     "output_type": "stream",
     "text": [
      "32\n"
     ]
    },
    {
     "name": "stdout",
     "output_type": "stream",
     "text": [
      "33\n"
     ]
    },
    {
     "name": "stdout",
     "output_type": "stream",
     "text": [
      "34\n"
     ]
    },
    {
     "name": "stdout",
     "output_type": "stream",
     "text": [
      "35\n"
     ]
    },
    {
     "name": "stdout",
     "output_type": "stream",
     "text": [
      "36\n"
     ]
    },
    {
     "name": "stdout",
     "output_type": "stream",
     "text": [
      "37\n"
     ]
    },
    {
     "name": "stdout",
     "output_type": "stream",
     "text": [
      "38\n"
     ]
    },
    {
     "name": "stdout",
     "output_type": "stream",
     "text": [
      "39\n"
     ]
    },
    {
     "name": "stdout",
     "output_type": "stream",
     "text": [
      "40\n"
     ]
    },
    {
     "name": "stdout",
     "output_type": "stream",
     "text": [
      "41\n"
     ]
    },
    {
     "name": "stdout",
     "output_type": "stream",
     "text": [
      "42\n"
     ]
    },
    {
     "name": "stdout",
     "output_type": "stream",
     "text": [
      "43\n"
     ]
    },
    {
     "name": "stdout",
     "output_type": "stream",
     "text": [
      "44\n"
     ]
    },
    {
     "name": "stdout",
     "output_type": "stream",
     "text": [
      "45\n"
     ]
    },
    {
     "name": "stdout",
     "output_type": "stream",
     "text": [
      "46\n"
     ]
    },
    {
     "name": "stdout",
     "output_type": "stream",
     "text": [
      "47\n"
     ]
    },
    {
     "name": "stdout",
     "output_type": "stream",
     "text": [
      "48\n"
     ]
    },
    {
     "name": "stdout",
     "output_type": "stream",
     "text": [
      "49\n"
     ]
    }
   ],
   "source": [
    "X = Xopt.from_yaml(YAML)\n",
    "\n",
    "# for testing purposes only\n",
    "if SMOKE_TEST:\n",
    "    X.generator.numerical_optimizer.n_restarts = 1\n",
    "    X.generator.n_monte_carlo_samples = 1\n",
    "\n",
    "X.random_evaluate(5)\n",
    "for i in range(NUM_STEPS):\n",
    "    print(i)\n",
    "    X.step()"
   ]
  },
  {
   "cell_type": "code",
   "execution_count": 3,
   "metadata": {
    "collapsed": false,
    "execution": {
     "iopub.execute_input": "2024-04-23T15:09:20.049482Z",
     "iopub.status.busy": "2024-04-23T15:09:20.049211Z",
     "iopub.status.idle": "2024-04-23T15:09:20.068237Z",
     "shell.execute_reply": "2024-04-23T15:09:20.067760Z"
    }
   },
   "outputs": [
    {
     "data": {
      "text/html": [
       "<div>\n",
       "<style scoped>\n",
       "    .dataframe tbody tr th:only-of-type {\n",
       "        vertical-align: middle;\n",
       "    }\n",
       "\n",
       "    .dataframe tbody tr th {\n",
       "        vertical-align: top;\n",
       "    }\n",
       "\n",
       "    .dataframe thead th {\n",
       "        text-align: right;\n",
       "    }\n",
       "</style>\n",
       "<table border=\"1\" class=\"dataframe\">\n",
       "  <thead>\n",
       "    <tr style=\"text-align: right;\">\n",
       "      <th></th>\n",
       "      <th>x1</th>\n",
       "      <th>x2</th>\n",
       "      <th>a</th>\n",
       "      <th>y1</th>\n",
       "      <th>y2</th>\n",
       "      <th>c1</th>\n",
       "      <th>c2</th>\n",
       "      <th>xopt_runtime</th>\n",
       "      <th>xopt_error</th>\n",
       "    </tr>\n",
       "  </thead>\n",
       "  <tbody>\n",
       "    <tr>\n",
       "      <th>0</th>\n",
       "      <td>1.476943</td>\n",
       "      <td>0.167003</td>\n",
       "      <td>dummy_constant</td>\n",
       "      <td>1.476943</td>\n",
       "      <td>0.167003</td>\n",
       "      <td>1.232119</td>\n",
       "      <td>1.065304</td>\n",
       "      <td>0.000035</td>\n",
       "      <td>False</td>\n",
       "    </tr>\n",
       "    <tr>\n",
       "      <th>1</th>\n",
       "      <td>1.926235</td>\n",
       "      <td>2.593854</td>\n",
       "      <td>dummy_constant</td>\n",
       "      <td>1.926235</td>\n",
       "      <td>2.593854</td>\n",
       "      <td>9.508464</td>\n",
       "      <td>6.418371</td>\n",
       "      <td>0.000008</td>\n",
       "      <td>False</td>\n",
       "    </tr>\n",
       "    <tr>\n",
       "      <th>2</th>\n",
       "      <td>2.115059</td>\n",
       "      <td>0.295046</td>\n",
       "      <td>dummy_constant</td>\n",
       "      <td>2.115059</td>\n",
       "      <td>0.295046</td>\n",
       "      <td>3.620794</td>\n",
       "      <td>2.650422</td>\n",
       "      <td>0.000007</td>\n",
       "      <td>False</td>\n",
       "    </tr>\n",
       "    <tr>\n",
       "      <th>3</th>\n",
       "      <td>0.734790</td>\n",
       "      <td>0.554958</td>\n",
       "      <td>dummy_constant</td>\n",
       "      <td>0.734790</td>\n",
       "      <td>0.554958</td>\n",
       "      <td>-0.091921</td>\n",
       "      <td>0.058146</td>\n",
       "      <td>0.000006</td>\n",
       "      <td>False</td>\n",
       "    </tr>\n",
       "    <tr>\n",
       "      <th>4</th>\n",
       "      <td>0.461339</td>\n",
       "      <td>2.993802</td>\n",
       "      <td>dummy_constant</td>\n",
       "      <td>0.461339</td>\n",
       "      <td>2.993802</td>\n",
       "      <td>8.252476</td>\n",
       "      <td>6.220545</td>\n",
       "      <td>0.000006</td>\n",
       "      <td>False</td>\n",
       "    </tr>\n",
       "    <tr>\n",
       "      <th>5</th>\n",
       "      <td>0.733769</td>\n",
       "      <td>0.621716</td>\n",
       "      <td>dummy_constant</td>\n",
       "      <td>0.733769</td>\n",
       "      <td>0.621716</td>\n",
       "      <td>-0.099903</td>\n",
       "      <td>0.069463</td>\n",
       "      <td>0.000025</td>\n",
       "      <td>False</td>\n",
       "    </tr>\n",
       "    <tr>\n",
       "      <th>6</th>\n",
       "      <td>0.634100</td>\n",
       "      <td>0.372244</td>\n",
       "      <td>dummy_constant</td>\n",
       "      <td>0.634100</td>\n",
       "      <td>0.372244</td>\n",
       "      <td>-0.399679</td>\n",
       "      <td>0.034305</td>\n",
       "      <td>0.000024</td>\n",
       "      <td>False</td>\n",
       "    </tr>\n",
       "    <tr>\n",
       "      <th>7</th>\n",
       "      <td>0.855251</td>\n",
       "      <td>0.597927</td>\n",
       "      <td>dummy_constant</td>\n",
       "      <td>0.855251</td>\n",
       "      <td>0.597927</td>\n",
       "      <td>0.183331</td>\n",
       "      <td>0.135793</td>\n",
       "      <td>0.000022</td>\n",
       "      <td>False</td>\n",
       "    </tr>\n",
       "    <tr>\n",
       "      <th>8</th>\n",
       "      <td>0.004439</td>\n",
       "      <td>0.000000</td>\n",
       "      <td>dummy_constant</td>\n",
       "      <td>0.004439</td>\n",
       "      <td>0.000000</td>\n",
       "      <td>-1.099980</td>\n",
       "      <td>0.495581</td>\n",
       "      <td>0.000026</td>\n",
       "      <td>False</td>\n",
       "    </tr>\n",
       "    <tr>\n",
       "      <th>9</th>\n",
       "      <td>0.000000</td>\n",
       "      <td>0.716890</td>\n",
       "      <td>dummy_constant</td>\n",
       "      <td>0.000000</td>\n",
       "      <td>0.716890</td>\n",
       "      <td>-0.586069</td>\n",
       "      <td>0.297041</td>\n",
       "      <td>0.000025</td>\n",
       "      <td>False</td>\n",
       "    </tr>\n",
       "    <tr>\n",
       "      <th>10</th>\n",
       "      <td>1.000420</td>\n",
       "      <td>0.232663</td>\n",
       "      <td>dummy_constant</td>\n",
       "      <td>1.000420</td>\n",
       "      <td>0.232663</td>\n",
       "      <td>0.142028</td>\n",
       "      <td>0.321889</td>\n",
       "      <td>0.000028</td>\n",
       "      <td>False</td>\n",
       "    </tr>\n",
       "    <tr>\n",
       "      <th>11</th>\n",
       "      <td>0.450924</td>\n",
       "      <td>0.943995</td>\n",
       "      <td>dummy_constant</td>\n",
       "      <td>0.450924</td>\n",
       "      <td>0.943995</td>\n",
       "      <td>0.028228</td>\n",
       "      <td>0.199540</td>\n",
       "      <td>0.000027</td>\n",
       "      <td>False</td>\n",
       "    </tr>\n",
       "    <tr>\n",
       "      <th>12</th>\n",
       "      <td>0.561730</td>\n",
       "      <td>0.921963</td>\n",
       "      <td>dummy_constant</td>\n",
       "      <td>0.561730</td>\n",
       "      <td>0.921963</td>\n",
       "      <td>0.243977</td>\n",
       "      <td>0.181863</td>\n",
       "      <td>0.000026</td>\n",
       "      <td>False</td>\n",
       "    </tr>\n",
       "    <tr>\n",
       "      <th>13</th>\n",
       "      <td>0.177532</td>\n",
       "      <td>1.054535</td>\n",
       "      <td>dummy_constant</td>\n",
       "      <td>0.177532</td>\n",
       "      <td>1.054535</td>\n",
       "      <td>0.232582</td>\n",
       "      <td>0.411495</td>\n",
       "      <td>0.000028</td>\n",
       "      <td>False</td>\n",
       "    </tr>\n",
       "    <tr>\n",
       "      <th>14</th>\n",
       "      <td>0.901278</td>\n",
       "      <td>0.369983</td>\n",
       "      <td>dummy_constant</td>\n",
       "      <td>0.901278</td>\n",
       "      <td>0.369983</td>\n",
       "      <td>-0.150682</td>\n",
       "      <td>0.177929</td>\n",
       "      <td>0.000026</td>\n",
       "      <td>False</td>\n",
       "    </tr>\n",
       "    <tr>\n",
       "      <th>15</th>\n",
       "      <td>0.691331</td>\n",
       "      <td>0.764328</td>\n",
       "      <td>dummy_constant</td>\n",
       "      <td>0.691331</td>\n",
       "      <td>0.764328</td>\n",
       "      <td>-0.007415</td>\n",
       "      <td>0.106477</td>\n",
       "      <td>0.000025</td>\n",
       "      <td>False</td>\n",
       "    </tr>\n",
       "    <tr>\n",
       "      <th>16</th>\n",
       "      <td>1.014070</td>\n",
       "      <td>0.059346</td>\n",
       "      <td>dummy_constant</td>\n",
       "      <td>1.014070</td>\n",
       "      <td>0.059346</td>\n",
       "      <td>-0.027498</td>\n",
       "      <td>0.458444</td>\n",
       "      <td>0.000024</td>\n",
       "      <td>False</td>\n",
       "    </tr>\n",
       "    <tr>\n",
       "      <th>17</th>\n",
       "      <td>0.594893</td>\n",
       "      <td>0.837018</td>\n",
       "      <td>dummy_constant</td>\n",
       "      <td>0.594893</td>\n",
       "      <td>0.837018</td>\n",
       "      <td>0.144037</td>\n",
       "      <td>0.122586</td>\n",
       "      <td>0.000026</td>\n",
       "      <td>False</td>\n",
       "    </tr>\n",
       "    <tr>\n",
       "      <th>18</th>\n",
       "      <td>0.174939</td>\n",
       "      <td>0.224981</td>\n",
       "      <td>dummy_constant</td>\n",
       "      <td>0.174939</td>\n",
       "      <td>0.224981</td>\n",
       "      <td>-0.877919</td>\n",
       "      <td>0.181300</td>\n",
       "      <td>0.000026</td>\n",
       "      <td>False</td>\n",
       "    </tr>\n",
       "    <tr>\n",
       "      <th>19</th>\n",
       "      <td>1.053267</td>\n",
       "      <td>0.083737</td>\n",
       "      <td>dummy_constant</td>\n",
       "      <td>1.053267</td>\n",
       "      <td>0.083737</td>\n",
       "      <td>0.086694</td>\n",
       "      <td>0.479379</td>\n",
       "      <td>0.000026</td>\n",
       "      <td>False</td>\n",
       "    </tr>\n",
       "    <tr>\n",
       "      <th>20</th>\n",
       "      <td>0.902709</td>\n",
       "      <td>0.138091</td>\n",
       "      <td>dummy_constant</td>\n",
       "      <td>0.902709</td>\n",
       "      <td>0.138091</td>\n",
       "      <td>-0.090395</td>\n",
       "      <td>0.293152</td>\n",
       "      <td>0.000028</td>\n",
       "      <td>False</td>\n",
       "    </tr>\n",
       "    <tr>\n",
       "      <th>21</th>\n",
       "      <td>0.623754</td>\n",
       "      <td>0.783436</td>\n",
       "      <td>dummy_constant</td>\n",
       "      <td>0.623754</td>\n",
       "      <td>0.783436</td>\n",
       "      <td>0.026327</td>\n",
       "      <td>0.095651</td>\n",
       "      <td>0.000026</td>\n",
       "      <td>False</td>\n",
       "    </tr>\n",
       "    <tr>\n",
       "      <th>22</th>\n",
       "      <td>1.018697</td>\n",
       "      <td>0.820099</td>\n",
       "      <td>dummy_constant</td>\n",
       "      <td>1.018697</td>\n",
       "      <td>0.820099</td>\n",
       "      <td>0.725309</td>\n",
       "      <td>0.371510</td>\n",
       "      <td>0.000026</td>\n",
       "      <td>False</td>\n",
       "    </tr>\n",
       "    <tr>\n",
       "      <th>23</th>\n",
       "      <td>0.772977</td>\n",
       "      <td>0.652954</td>\n",
       "      <td>dummy_constant</td>\n",
       "      <td>0.772977</td>\n",
       "      <td>0.652954</td>\n",
       "      <td>0.001315</td>\n",
       "      <td>0.097911</td>\n",
       "      <td>0.000025</td>\n",
       "      <td>False</td>\n",
       "    </tr>\n",
       "    <tr>\n",
       "      <th>24</th>\n",
       "      <td>0.049013</td>\n",
       "      <td>1.018277</td>\n",
       "      <td>dummy_constant</td>\n",
       "      <td>0.049013</td>\n",
       "      <td>1.018277</td>\n",
       "      <td>-0.032533</td>\n",
       "      <td>0.472000</td>\n",
       "      <td>0.000025</td>\n",
       "      <td>False</td>\n",
       "    </tr>\n",
       "    <tr>\n",
       "      <th>25</th>\n",
       "      <td>0.002065</td>\n",
       "      <td>1.222719</td>\n",
       "      <td>dummy_constant</td>\n",
       "      <td>0.002065</td>\n",
       "      <td>1.222719</td>\n",
       "      <td>0.395083</td>\n",
       "      <td>0.770262</td>\n",
       "      <td>0.000025</td>\n",
       "      <td>False</td>\n",
       "    </tr>\n",
       "    <tr>\n",
       "      <th>26</th>\n",
       "      <td>0.427702</td>\n",
       "      <td>0.284304</td>\n",
       "      <td>dummy_constant</td>\n",
       "      <td>0.427702</td>\n",
       "      <td>0.284304</td>\n",
       "      <td>-0.636316</td>\n",
       "      <td>0.051752</td>\n",
       "      <td>0.000025</td>\n",
       "      <td>False</td>\n",
       "    </tr>\n",
       "    <tr>\n",
       "      <th>27</th>\n",
       "      <td>1.253673</td>\n",
       "      <td>0.019063</td>\n",
       "      <td>dummy_constant</td>\n",
       "      <td>1.253673</td>\n",
       "      <td>0.019063</td>\n",
       "      <td>0.475004</td>\n",
       "      <td>0.799324</td>\n",
       "      <td>0.000025</td>\n",
       "      <td>False</td>\n",
       "    </tr>\n",
       "    <tr>\n",
       "      <th>28</th>\n",
       "      <td>0.919604</td>\n",
       "      <td>0.437366</td>\n",
       "      <td>dummy_constant</td>\n",
       "      <td>0.919604</td>\n",
       "      <td>0.437366</td>\n",
       "      <td>-0.031271</td>\n",
       "      <td>0.179991</td>\n",
       "      <td>0.000026</td>\n",
       "      <td>False</td>\n",
       "    </tr>\n",
       "    <tr>\n",
       "      <th>29</th>\n",
       "      <td>0.080659</td>\n",
       "      <td>1.048569</td>\n",
       "      <td>dummy_constant</td>\n",
       "      <td>0.080659</td>\n",
       "      <td>1.048569</td>\n",
       "      <td>0.072425</td>\n",
       "      <td>0.476775</td>\n",
       "      <td>0.000025</td>\n",
       "      <td>False</td>\n",
       "    </tr>\n",
       "    <tr>\n",
       "      <th>30</th>\n",
       "      <td>0.628639</td>\n",
       "      <td>0.534058</td>\n",
       "      <td>dummy_constant</td>\n",
       "      <td>0.628639</td>\n",
       "      <td>0.534058</td>\n",
       "      <td>-0.346471</td>\n",
       "      <td>0.017708</td>\n",
       "      <td>0.000024</td>\n",
       "      <td>False</td>\n",
       "    </tr>\n",
       "    <tr>\n",
       "      <th>31</th>\n",
       "      <td>0.714518</td>\n",
       "      <td>0.324651</td>\n",
       "      <td>dummy_constant</td>\n",
       "      <td>0.714518</td>\n",
       "      <td>0.324651</td>\n",
       "      <td>-0.469814</td>\n",
       "      <td>0.076765</td>\n",
       "      <td>0.000025</td>\n",
       "      <td>False</td>\n",
       "    </tr>\n",
       "    <tr>\n",
       "      <th>32</th>\n",
       "      <td>0.848590</td>\n",
       "      <td>0.405458</td>\n",
       "      <td>dummy_constant</td>\n",
       "      <td>0.848590</td>\n",
       "      <td>0.405458</td>\n",
       "      <td>-0.181608</td>\n",
       "      <td>0.130453</td>\n",
       "      <td>0.000025</td>\n",
       "      <td>False</td>\n",
       "    </tr>\n",
       "    <tr>\n",
       "      <th>33</th>\n",
       "      <td>0.138751</td>\n",
       "      <td>0.886049</td>\n",
       "      <td>dummy_constant</td>\n",
       "      <td>0.138751</td>\n",
       "      <td>0.886049</td>\n",
       "      <td>-0.116437</td>\n",
       "      <td>0.279535</td>\n",
       "      <td>0.000023</td>\n",
       "      <td>False</td>\n",
       "    </tr>\n",
       "    <tr>\n",
       "      <th>34</th>\n",
       "      <td>0.105449</td>\n",
       "      <td>0.900731</td>\n",
       "      <td>dummy_constant</td>\n",
       "      <td>0.105449</td>\n",
       "      <td>0.900731</td>\n",
       "      <td>-0.148600</td>\n",
       "      <td>0.316255</td>\n",
       "      <td>0.000026</td>\n",
       "      <td>False</td>\n",
       "    </tr>\n",
       "    <tr>\n",
       "      <th>35</th>\n",
       "      <td>0.890068</td>\n",
       "      <td>0.376128</td>\n",
       "      <td>dummy_constant</td>\n",
       "      <td>0.890068</td>\n",
       "      <td>0.376128</td>\n",
       "      <td>-0.165658</td>\n",
       "      <td>0.167497</td>\n",
       "      <td>0.000028</td>\n",
       "      <td>False</td>\n",
       "    </tr>\n",
       "    <tr>\n",
       "      <th>36</th>\n",
       "      <td>0.250585</td>\n",
       "      <td>0.965179</td>\n",
       "      <td>dummy_constant</td>\n",
       "      <td>0.250585</td>\n",
       "      <td>0.965179</td>\n",
       "      <td>0.054732</td>\n",
       "      <td>0.278599</td>\n",
       "      <td>0.000026</td>\n",
       "      <td>False</td>\n",
       "    </tr>\n",
       "    <tr>\n",
       "      <th>37</th>\n",
       "      <td>0.846824</td>\n",
       "      <td>0.068751</td>\n",
       "      <td>dummy_constant</td>\n",
       "      <td>0.846824</td>\n",
       "      <td>0.068751</td>\n",
       "      <td>-0.305283</td>\n",
       "      <td>0.306263</td>\n",
       "      <td>0.000027</td>\n",
       "      <td>False</td>\n",
       "    </tr>\n",
       "    <tr>\n",
       "      <th>38</th>\n",
       "      <td>0.062544</td>\n",
       "      <td>1.208121</td>\n",
       "      <td>dummy_constant</td>\n",
       "      <td>0.062544</td>\n",
       "      <td>1.208121</td>\n",
       "      <td>0.395802</td>\n",
       "      <td>0.692804</td>\n",
       "      <td>0.000026</td>\n",
       "      <td>False</td>\n",
       "    </tr>\n",
       "    <tr>\n",
       "      <th>39</th>\n",
       "      <td>0.701590</td>\n",
       "      <td>0.399892</td>\n",
       "      <td>dummy_constant</td>\n",
       "      <td>0.701590</td>\n",
       "      <td>0.399892</td>\n",
       "      <td>-0.305729</td>\n",
       "      <td>0.050660</td>\n",
       "      <td>0.000026</td>\n",
       "      <td>False</td>\n",
       "    </tr>\n",
       "    <tr>\n",
       "      <th>40</th>\n",
       "      <td>1.247228</td>\n",
       "      <td>0.075275</td>\n",
       "      <td>dummy_constant</td>\n",
       "      <td>1.247228</td>\n",
       "      <td>0.075275</td>\n",
       "      <td>0.504261</td>\n",
       "      <td>0.738741</td>\n",
       "      <td>0.000025</td>\n",
       "      <td>False</td>\n",
       "    </tr>\n",
       "    <tr>\n",
       "      <th>41</th>\n",
       "      <td>0.944577</td>\n",
       "      <td>0.000000</td>\n",
       "      <td>dummy_constant</td>\n",
       "      <td>0.944577</td>\n",
       "      <td>0.000000</td>\n",
       "      <td>-0.207775</td>\n",
       "      <td>0.447648</td>\n",
       "      <td>0.000026</td>\n",
       "      <td>False</td>\n",
       "    </tr>\n",
       "    <tr>\n",
       "      <th>42</th>\n",
       "      <td>0.818950</td>\n",
       "      <td>0.530581</td>\n",
       "      <td>dummy_constant</td>\n",
       "      <td>0.818950</td>\n",
       "      <td>0.530581</td>\n",
       "      <td>0.049637</td>\n",
       "      <td>0.102664</td>\n",
       "      <td>0.000027</td>\n",
       "      <td>False</td>\n",
       "    </tr>\n",
       "    <tr>\n",
       "      <th>43</th>\n",
       "      <td>1.116121</td>\n",
       "      <td>0.037151</td>\n",
       "      <td>dummy_constant</td>\n",
       "      <td>1.116121</td>\n",
       "      <td>0.037151</td>\n",
       "      <td>0.160947</td>\n",
       "      <td>0.593835</td>\n",
       "      <td>0.000027</td>\n",
       "      <td>False</td>\n",
       "    </tr>\n",
       "    <tr>\n",
       "      <th>44</th>\n",
       "      <td>0.416491</td>\n",
       "      <td>0.897253</td>\n",
       "      <td>dummy_constant</td>\n",
       "      <td>0.416491</td>\n",
       "      <td>0.897253</td>\n",
       "      <td>-0.099842</td>\n",
       "      <td>0.164784</td>\n",
       "      <td>0.000025</td>\n",
       "      <td>False</td>\n",
       "    </tr>\n",
       "    <tr>\n",
       "      <th>45</th>\n",
       "      <td>2.035199</td>\n",
       "      <td>3.021552</td>\n",
       "      <td>dummy_constant</td>\n",
       "      <td>2.035199</td>\n",
       "      <td>3.021552</td>\n",
       "      <td>12.371635</td>\n",
       "      <td>8.715060</td>\n",
       "      <td>0.000024</td>\n",
       "      <td>False</td>\n",
       "    </tr>\n",
       "    <tr>\n",
       "      <th>46</th>\n",
       "      <td>0.926893</td>\n",
       "      <td>0.273730</td>\n",
       "      <td>dummy_constant</td>\n",
       "      <td>0.926893</td>\n",
       "      <td>0.273730</td>\n",
       "      <td>-0.054182</td>\n",
       "      <td>0.233436</td>\n",
       "      <td>0.000030</td>\n",
       "      <td>False</td>\n",
       "    </tr>\n",
       "    <tr>\n",
       "      <th>47</th>\n",
       "      <td>0.923535</td>\n",
       "      <td>0.076143</td>\n",
       "      <td>dummy_constant</td>\n",
       "      <td>0.923535</td>\n",
       "      <td>0.076143</td>\n",
       "      <td>-0.166472</td>\n",
       "      <td>0.359037</td>\n",
       "      <td>0.000028</td>\n",
       "      <td>False</td>\n",
       "    </tr>\n",
       "    <tr>\n",
       "      <th>48</th>\n",
       "      <td>0.147973</td>\n",
       "      <td>0.997085</td>\n",
       "      <td>dummy_constant</td>\n",
       "      <td>0.147973</td>\n",
       "      <td>0.997085</td>\n",
       "      <td>0.086862</td>\n",
       "      <td>0.371017</td>\n",
       "      <td>0.000026</td>\n",
       "      <td>False</td>\n",
       "    </tr>\n",
       "    <tr>\n",
       "      <th>49</th>\n",
       "      <td>0.627532</td>\n",
       "      <td>0.794310</td>\n",
       "      <td>dummy_constant</td>\n",
       "      <td>0.627532</td>\n",
       "      <td>0.794310</td>\n",
       "      <td>0.054030</td>\n",
       "      <td>0.102883</td>\n",
       "      <td>0.000027</td>\n",
       "      <td>False</td>\n",
       "    </tr>\n",
       "    <tr>\n",
       "      <th>50</th>\n",
       "      <td>0.186464</td>\n",
       "      <td>0.977724</td>\n",
       "      <td>dummy_constant</td>\n",
       "      <td>0.186464</td>\n",
       "      <td>0.977724</td>\n",
       "      <td>0.089916</td>\n",
       "      <td>0.326526</td>\n",
       "      <td>0.000026</td>\n",
       "      <td>False</td>\n",
       "    </tr>\n",
       "    <tr>\n",
       "      <th>51</th>\n",
       "      <td>0.210456</td>\n",
       "      <td>0.586676</td>\n",
       "      <td>dummy_constant</td>\n",
       "      <td>0.210456</td>\n",
       "      <td>0.586676</td>\n",
       "      <td>-0.683148</td>\n",
       "      <td>0.091348</td>\n",
       "      <td>0.000025</td>\n",
       "      <td>False</td>\n",
       "    </tr>\n",
       "    <tr>\n",
       "      <th>52</th>\n",
       "      <td>0.757890</td>\n",
       "      <td>0.433629</td>\n",
       "      <td>dummy_constant</td>\n",
       "      <td>0.757890</td>\n",
       "      <td>0.433629</td>\n",
       "      <td>-0.193075</td>\n",
       "      <td>0.070912</td>\n",
       "      <td>0.000027</td>\n",
       "      <td>False</td>\n",
       "    </tr>\n",
       "    <tr>\n",
       "      <th>53</th>\n",
       "      <td>0.250581</td>\n",
       "      <td>0.770447</td>\n",
       "      <td>dummy_constant</td>\n",
       "      <td>0.250581</td>\n",
       "      <td>0.770447</td>\n",
       "      <td>-0.374963</td>\n",
       "      <td>0.135352</td>\n",
       "      <td>0.000026</td>\n",
       "      <td>False</td>\n",
       "    </tr>\n",
       "    <tr>\n",
       "      <th>54</th>\n",
       "      <td>0.640366</td>\n",
       "      <td>0.317097</td>\n",
       "      <td>dummy_constant</td>\n",
       "      <td>0.640366</td>\n",
       "      <td>0.317097</td>\n",
       "      <td>-0.537097</td>\n",
       "      <td>0.053156</td>\n",
       "      <td>0.000027</td>\n",
       "      <td>False</td>\n",
       "    </tr>\n",
       "  </tbody>\n",
       "</table>\n",
       "</div>"
      ],
      "text/plain": [
       "          x1        x2               a        y1        y2         c1  \\\n",
       "0   1.476943  0.167003  dummy_constant  1.476943  0.167003   1.232119   \n",
       "1   1.926235  2.593854  dummy_constant  1.926235  2.593854   9.508464   \n",
       "2   2.115059  0.295046  dummy_constant  2.115059  0.295046   3.620794   \n",
       "3   0.734790  0.554958  dummy_constant  0.734790  0.554958  -0.091921   \n",
       "4   0.461339  2.993802  dummy_constant  0.461339  2.993802   8.252476   \n",
       "5   0.733769  0.621716  dummy_constant  0.733769  0.621716  -0.099903   \n",
       "6   0.634100  0.372244  dummy_constant  0.634100  0.372244  -0.399679   \n",
       "7   0.855251  0.597927  dummy_constant  0.855251  0.597927   0.183331   \n",
       "8   0.004439  0.000000  dummy_constant  0.004439  0.000000  -1.099980   \n",
       "9   0.000000  0.716890  dummy_constant  0.000000  0.716890  -0.586069   \n",
       "10  1.000420  0.232663  dummy_constant  1.000420  0.232663   0.142028   \n",
       "11  0.450924  0.943995  dummy_constant  0.450924  0.943995   0.028228   \n",
       "12  0.561730  0.921963  dummy_constant  0.561730  0.921963   0.243977   \n",
       "13  0.177532  1.054535  dummy_constant  0.177532  1.054535   0.232582   \n",
       "14  0.901278  0.369983  dummy_constant  0.901278  0.369983  -0.150682   \n",
       "15  0.691331  0.764328  dummy_constant  0.691331  0.764328  -0.007415   \n",
       "16  1.014070  0.059346  dummy_constant  1.014070  0.059346  -0.027498   \n",
       "17  0.594893  0.837018  dummy_constant  0.594893  0.837018   0.144037   \n",
       "18  0.174939  0.224981  dummy_constant  0.174939  0.224981  -0.877919   \n",
       "19  1.053267  0.083737  dummy_constant  1.053267  0.083737   0.086694   \n",
       "20  0.902709  0.138091  dummy_constant  0.902709  0.138091  -0.090395   \n",
       "21  0.623754  0.783436  dummy_constant  0.623754  0.783436   0.026327   \n",
       "22  1.018697  0.820099  dummy_constant  1.018697  0.820099   0.725309   \n",
       "23  0.772977  0.652954  dummy_constant  0.772977  0.652954   0.001315   \n",
       "24  0.049013  1.018277  dummy_constant  0.049013  1.018277  -0.032533   \n",
       "25  0.002065  1.222719  dummy_constant  0.002065  1.222719   0.395083   \n",
       "26  0.427702  0.284304  dummy_constant  0.427702  0.284304  -0.636316   \n",
       "27  1.253673  0.019063  dummy_constant  1.253673  0.019063   0.475004   \n",
       "28  0.919604  0.437366  dummy_constant  0.919604  0.437366  -0.031271   \n",
       "29  0.080659  1.048569  dummy_constant  0.080659  1.048569   0.072425   \n",
       "30  0.628639  0.534058  dummy_constant  0.628639  0.534058  -0.346471   \n",
       "31  0.714518  0.324651  dummy_constant  0.714518  0.324651  -0.469814   \n",
       "32  0.848590  0.405458  dummy_constant  0.848590  0.405458  -0.181608   \n",
       "33  0.138751  0.886049  dummy_constant  0.138751  0.886049  -0.116437   \n",
       "34  0.105449  0.900731  dummy_constant  0.105449  0.900731  -0.148600   \n",
       "35  0.890068  0.376128  dummy_constant  0.890068  0.376128  -0.165658   \n",
       "36  0.250585  0.965179  dummy_constant  0.250585  0.965179   0.054732   \n",
       "37  0.846824  0.068751  dummy_constant  0.846824  0.068751  -0.305283   \n",
       "38  0.062544  1.208121  dummy_constant  0.062544  1.208121   0.395802   \n",
       "39  0.701590  0.399892  dummy_constant  0.701590  0.399892  -0.305729   \n",
       "40  1.247228  0.075275  dummy_constant  1.247228  0.075275   0.504261   \n",
       "41  0.944577  0.000000  dummy_constant  0.944577  0.000000  -0.207775   \n",
       "42  0.818950  0.530581  dummy_constant  0.818950  0.530581   0.049637   \n",
       "43  1.116121  0.037151  dummy_constant  1.116121  0.037151   0.160947   \n",
       "44  0.416491  0.897253  dummy_constant  0.416491  0.897253  -0.099842   \n",
       "45  2.035199  3.021552  dummy_constant  2.035199  3.021552  12.371635   \n",
       "46  0.926893  0.273730  dummy_constant  0.926893  0.273730  -0.054182   \n",
       "47  0.923535  0.076143  dummy_constant  0.923535  0.076143  -0.166472   \n",
       "48  0.147973  0.997085  dummy_constant  0.147973  0.997085   0.086862   \n",
       "49  0.627532  0.794310  dummy_constant  0.627532  0.794310   0.054030   \n",
       "50  0.186464  0.977724  dummy_constant  0.186464  0.977724   0.089916   \n",
       "51  0.210456  0.586676  dummy_constant  0.210456  0.586676  -0.683148   \n",
       "52  0.757890  0.433629  dummy_constant  0.757890  0.433629  -0.193075   \n",
       "53  0.250581  0.770447  dummy_constant  0.250581  0.770447  -0.374963   \n",
       "54  0.640366  0.317097  dummy_constant  0.640366  0.317097  -0.537097   \n",
       "\n",
       "          c2  xopt_runtime  xopt_error  \n",
       "0   1.065304      0.000035       False  \n",
       "1   6.418371      0.000008       False  \n",
       "2   2.650422      0.000007       False  \n",
       "3   0.058146      0.000006       False  \n",
       "4   6.220545      0.000006       False  \n",
       "5   0.069463      0.000025       False  \n",
       "6   0.034305      0.000024       False  \n",
       "7   0.135793      0.000022       False  \n",
       "8   0.495581      0.000026       False  \n",
       "9   0.297041      0.000025       False  \n",
       "10  0.321889      0.000028       False  \n",
       "11  0.199540      0.000027       False  \n",
       "12  0.181863      0.000026       False  \n",
       "13  0.411495      0.000028       False  \n",
       "14  0.177929      0.000026       False  \n",
       "15  0.106477      0.000025       False  \n",
       "16  0.458444      0.000024       False  \n",
       "17  0.122586      0.000026       False  \n",
       "18  0.181300      0.000026       False  \n",
       "19  0.479379      0.000026       False  \n",
       "20  0.293152      0.000028       False  \n",
       "21  0.095651      0.000026       False  \n",
       "22  0.371510      0.000026       False  \n",
       "23  0.097911      0.000025       False  \n",
       "24  0.472000      0.000025       False  \n",
       "25  0.770262      0.000025       False  \n",
       "26  0.051752      0.000025       False  \n",
       "27  0.799324      0.000025       False  \n",
       "28  0.179991      0.000026       False  \n",
       "29  0.476775      0.000025       False  \n",
       "30  0.017708      0.000024       False  \n",
       "31  0.076765      0.000025       False  \n",
       "32  0.130453      0.000025       False  \n",
       "33  0.279535      0.000023       False  \n",
       "34  0.316255      0.000026       False  \n",
       "35  0.167497      0.000028       False  \n",
       "36  0.278599      0.000026       False  \n",
       "37  0.306263      0.000027       False  \n",
       "38  0.692804      0.000026       False  \n",
       "39  0.050660      0.000026       False  \n",
       "40  0.738741      0.000025       False  \n",
       "41  0.447648      0.000026       False  \n",
       "42  0.102664      0.000027       False  \n",
       "43  0.593835      0.000027       False  \n",
       "44  0.164784      0.000025       False  \n",
       "45  8.715060      0.000024       False  \n",
       "46  0.233436      0.000030       False  \n",
       "47  0.359037      0.000028       False  \n",
       "48  0.371017      0.000026       False  \n",
       "49  0.102883      0.000027       False  \n",
       "50  0.326526      0.000026       False  \n",
       "51  0.091348      0.000025       False  \n",
       "52  0.070912      0.000027       False  \n",
       "53  0.135352      0.000026       False  \n",
       "54  0.053156      0.000027       False  "
      ]
     },
     "execution_count": 3,
     "metadata": {},
     "output_type": "execute_result"
    }
   ],
   "source": [
    "X.generator.data"
   ]
  },
  {
   "cell_type": "markdown",
   "metadata": {
    "collapsed": false
   },
   "source": [
    "## plot results\n"
   ]
  },
  {
   "cell_type": "code",
   "execution_count": 4,
   "metadata": {
    "collapsed": false,
    "execution": {
     "iopub.execute_input": "2024-04-23T15:09:20.070659Z",
     "iopub.status.busy": "2024-04-23T15:09:20.070269Z",
     "iopub.status.idle": "2024-04-23T15:09:20.581285Z",
     "shell.execute_reply": "2024-04-23T15:09:20.580624Z"
    }
   },
   "outputs": [
    {
     "data": {
      "image/png": "[encoded data removed]",
      "text/plain": [
       "<Figure size 640x480 with 1 Axes>"
      ]
     },
     "metadata": {},
     "output_type": "display_data"
    }
   ],
   "source": [
    "import matplotlib.pyplot as plt\n",
    "import numpy as np\n",
    "import pandas as pd\n",
    "\n",
    "fig, ax = plt.subplots()\n",
    "\n",
    "theta = np.linspace(0, np.pi / 2)\n",
    "r = np.sqrt(1 + 0.1 * np.cos(16 * theta))\n",
    "x_1 = r * np.sin(theta)\n",
    "x_2_lower = r * np.cos(theta)\n",
    "x_2_upper = (0.5 - (x_1 - 0.5) ** 2) ** 0.5 + 0.5\n",
    "\n",
    "z = np.zeros_like(x_1)\n",
    "\n",
    "# ax2.plot(x_1, x_2_lower,'r')\n",
    "ax.fill_between(x_1, z, x_2_lower, fc=\"white\")\n",
    "circle = plt.Circle(\n",
    "    (0.5, 0.5), 0.5 ** 0.5, color=\"r\", alpha=0.25, zorder=0, label=\"Valid Region\"\n",
    ")\n",
    "ax.add_patch(circle)\n",
    "history = pd.concat(\n",
    "    [X.data, X.vocs.feasibility_data(X.data)], axis=1, ignore_index=False\n",
    ")\n",
    "\n",
    "\n",
    "ax.plot(*history[[\"x1\", \"x2\"]][history[\"feasible\"]].to_numpy().T, \".C1\")\n",
    "ax.plot(*history[[\"x1\", \"x2\"]][~history[\"feasible\"]].to_numpy().T, \".C2\")\n",
    "\n",
    "ax.set_xlim(0, 3.14)\n",
    "ax.set_ylim(0, 3.14)\n",
    "ax.set_xlabel(\"x1\")\n",
    "ax.set_ylabel(\"x2\")\n",
    "ax.set_aspect(\"equal\")"
   ]
  },
  {
   "cell_type": "markdown",
   "metadata": {
    "collapsed": false
   },
   "source": [
    "### Plot path through input space"
   ]
  },
  {
   "cell_type": "code",
   "execution_count": 5,
   "metadata": {
    "collapsed": false,
    "execution": {
     "iopub.execute_input": "2024-04-23T15:09:20.583799Z",
     "iopub.status.busy": "2024-04-23T15:09:20.583351Z",
     "iopub.status.idle": "2024-04-23T15:09:20.701643Z",
     "shell.execute_reply": "2024-04-23T15:09:20.701051Z"
    }
   },
   "outputs": [
    {
     "data": {
      "image/png": "[encoded data removed]",
      "text/plain": [
       "<Figure size 640x480 with 1 Axes>"
      ]
     },
     "metadata": {},
     "output_type": "display_data"
    }
   ],
   "source": [
    "ax = history.plot(\"x1\", \"x2\")\n",
    "ax.set_ylim(0, 3.14)\n",
    "ax.set_xlim(0, 3.14)\n",
    "ax.set_aspect(\"equal\")"
   ]
  },
  {
   "cell_type": "code",
   "execution_count": 6,
   "metadata": {
    "collapsed": false,
    "execution": {
     "iopub.execute_input": "2024-04-23T15:09:20.704190Z",
     "iopub.status.busy": "2024-04-23T15:09:20.703814Z",
     "iopub.status.idle": "2024-04-23T15:09:25.186855Z",
     "shell.execute_reply": "2024-04-23T15:09:25.186241Z"
    }
   },
   "outputs": [
    {
     "name": "stdout",
     "output_type": "stream",
     "text": [
      "[[0.28093639 0.28508234]]\n"
     ]
    },
    {
     "data": {
      "text/plain": [
       "[<matplotlib.lines.Line2D at 0x7ff457985d30>]"
      ]
     },
     "execution_count": 6,
     "metadata": {},
     "output_type": "execute_result"
    },
    {
     "data": {
      "image/png": "[encoded data removed]",
      "text/plain": [
       "<Figure size 800x800 with 2 Axes>"
      ]
     },
     "metadata": {},
     "output_type": "display_data"
    },
    {
     "data": {
      "image/png": "[encoded data removed]",
      "text/plain": [
       "<Figure size 800x800 with 2 Axes>"
      ]
     },
     "metadata": {},
     "output_type": "display_data"
    }
   ],
   "source": [
    "# plot the acquisition function\n",
    "from xopt.generators.bayesian.objectives import feasibility\n",
    "\n",
    "bounds = X.generator.vocs.bounds\n",
    "model = X.generator.model\n",
    "\n",
    "# create mesh\n",
    "n = 100\n",
    "x = torch.linspace(*bounds.T[0], n)\n",
    "y = torch.linspace(*bounds.T[1], n)\n",
    "xx, yy = torch.meshgrid(x, y)\n",
    "pts = torch.hstack([ele.reshape(-1, 1) for ele in (xx, yy)]).double()\n",
    "\n",
    "xx, yy = xx.numpy(), yy.numpy()\n",
    "\n",
    "acq_func = X.generator.get_acquisition(model)\n",
    "with torch.no_grad():\n",
    "    acq_pts = pts.unsqueeze(1)\n",
    "    acq = acq_func(acq_pts)\n",
    "\n",
    "    fig, ax = plt.subplots(figsize=(8,8))\n",
    "    c = ax.pcolor(xx, yy, acq.reshape(n, n), cmap=\"Blues\")\n",
    "    fig.colorbar(c)\n",
    "    ax.set_title(\"Acquisition function\")\n",
    "\n",
    "    ax.plot(*history[[\"x1\", \"x2\"]][history[\"feasible\"]].to_numpy().T, \".C1\")\n",
    "    ax.plot(*history[[\"x1\", \"x2\"]][~history[\"feasible\"]].to_numpy().T, \".C2\")\n",
    "\n",
    "    ax.plot(*history[[\"x1\", \"x2\"]].to_numpy()[-1].T, \"+\")\n",
    "\n",
    "    feas = feasibility(pts.unsqueeze(1), model, X.vocs).flatten()\n",
    "\n",
    "    fig2, ax2 = plt.subplots(figsize=(8,8))\n",
    "    c = ax2.pcolor(xx, yy, feas.reshape(n, n))\n",
    "    fig2.colorbar(c)\n",
    "    ax2.set_title(\"Feasible Region\")\n",
    "\n",
    "candidate = pd.DataFrame(X.generator.generate(1), index=[0])\n",
    "print(candidate[[\"x1\", \"x2\"]].to_numpy())\n",
    "ax.plot(*candidate[[\"x1\", \"x2\"]].to_numpy()[0], \"o\")"
   ]
  }
 ],
 "metadata": {
  "interpreter": {
   "hash": "72034539424920dfb606fe3b820b3f27dca0cbf1c69938110810ec4641e275b1"
  },
  "kernelspec": {
   "display_name": "Python 3 (ipykernel)",
   "language": "python",
   "name": "python3"
  },
  "language_info": {
   "codemirror_mode": {
    "name": "ipython",
    "version": 3
   },
   "file_extension": ".py",
   "mimetype": "text/x-python",
   "name": "python",
   "nbconvert_exporter": "python",
   "pygments_lexer": "ipython3",
   "version": "3.9.19"
  }
 },
 "nbformat": 4,
 "nbformat_minor": 4
}
