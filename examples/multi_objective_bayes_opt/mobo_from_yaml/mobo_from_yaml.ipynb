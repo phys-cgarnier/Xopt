{
 "cells": [
  {
   "cell_type": "markdown",
   "metadata": {},
   "source": [
    "\n",
    "# Multi-objective Bayesian Optimization\n",
    "\n",
    "\n",
    "TNK function\n",
    "$n=2$ variables:\n",
    "$x_i \\in [0, \\pi], i=1,2$\n",
    "\n",
    "Objectives:\n",
    "- $f_i(x) = x_i$\n",
    "\n",
    "Constraints:\n",
    "- $g_1(x) = -x_1^2 -x_2^2 + 1 + 0.1 \\cos\\left(16 \\arctan \\frac{x_1}{x_2}\\right) \\le 0$\n",
    "- $g_2(x) = (x_1 - 1/2)^2 + (x_2-1/2)^2 \\le 0.5$"
   ]
  },
  {
   "cell_type": "code",
   "execution_count": 1,
   "metadata": {
    "collapsed": false,
    "execution": {
     "iopub.execute_input": "2024-02-23T22:00:45.253137Z",
     "iopub.status.busy": "2024-02-23T22:00:45.252708Z",
     "iopub.status.idle": "2024-02-23T22:00:46.711173Z",
     "shell.execute_reply": "2024-02-23T22:00:46.710554Z"
    }
   },
   "outputs": [],
   "source": [
    "import os\n",
    "SMOKE_TEST = os.environ.get(\"SMOKE_TEST\")\n",
    "NUM_STEPS = 2 if SMOKE_TEST else 50\n",
    "\n",
    "# Ignore all warnings\n",
    "import warnings\n",
    "warnings.filterwarnings(\"ignore\")\n",
    "\n",
    "import torch\n",
    "from xopt import Xopt\n",
    "\n",
    "\n",
    "YAML = \"\"\"\n",
    "generator:\n",
    "    name: mobo\n",
    "    reference_point: {y1: 1.5, y2: 1.5}\n",
    "\n",
    "evaluator:\n",
    "    function: xopt.resources.test_functions.tnk.evaluate_TNK\n",
    "\n",
    "vocs:\n",
    "    variables:\n",
    "        x1: [0, 3.14159]\n",
    "        x2: [0, 3.14159]\n",
    "    objectives: {y1: MINIMIZE, y2: MINIMIZE}\n",
    "    constraints:\n",
    "        c1: [GREATER_THAN, 0]\n",
    "        c2: [LESS_THAN, 0.5]\n",
    "    constants: {a: dummy_constant}\n",
    "\n",
    "\"\"\""
   ]
  },
  {
   "cell_type": "code",
   "execution_count": 2,
   "metadata": {
    "collapsed": false,
    "execution": {
     "iopub.execute_input": "2024-02-23T22:00:46.714319Z",
     "iopub.status.busy": "2024-02-23T22:00:46.713853Z",
     "iopub.status.idle": "2024-02-23T22:01:44.242342Z",
     "shell.execute_reply": "2024-02-23T22:01:44.241748Z"
    }
   },
   "outputs": [
    {
     "name": "stdout",
     "output_type": "stream",
     "text": [
      "0\n"
     ]
    },
    {
     "name": "stdout",
     "output_type": "stream",
     "text": [
      "1\n"
     ]
    },
    {
     "name": "stdout",
     "output_type": "stream",
     "text": [
      "2\n"
     ]
    },
    {
     "name": "stdout",
     "output_type": "stream",
     "text": [
      "3\n"
     ]
    },
    {
     "name": "stdout",
     "output_type": "stream",
     "text": [
      "4\n"
     ]
    },
    {
     "name": "stdout",
     "output_type": "stream",
     "text": [
      "5\n"
     ]
    },
    {
     "name": "stdout",
     "output_type": "stream",
     "text": [
      "6\n"
     ]
    },
    {
     "name": "stdout",
     "output_type": "stream",
     "text": [
      "7\n"
     ]
    },
    {
     "name": "stdout",
     "output_type": "stream",
     "text": [
      "8\n"
     ]
    },
    {
     "name": "stdout",
     "output_type": "stream",
     "text": [
      "9\n"
     ]
    },
    {
     "name": "stdout",
     "output_type": "stream",
     "text": [
      "10\n"
     ]
    },
    {
     "name": "stdout",
     "output_type": "stream",
     "text": [
      "11\n"
     ]
    },
    {
     "name": "stdout",
     "output_type": "stream",
     "text": [
      "12\n"
     ]
    },
    {
     "name": "stdout",
     "output_type": "stream",
     "text": [
      "13\n"
     ]
    },
    {
     "name": "stdout",
     "output_type": "stream",
     "text": [
      "14\n"
     ]
    },
    {
     "name": "stdout",
     "output_type": "stream",
     "text": [
      "15\n"
     ]
    },
    {
     "name": "stdout",
     "output_type": "stream",
     "text": [
      "16\n"
     ]
    },
    {
     "name": "stdout",
     "output_type": "stream",
     "text": [
      "17\n"
     ]
    },
    {
     "name": "stdout",
     "output_type": "stream",
     "text": [
      "18\n"
     ]
    },
    {
     "name": "stdout",
     "output_type": "stream",
     "text": [
      "19\n"
     ]
    },
    {
     "name": "stdout",
     "output_type": "stream",
     "text": [
      "20\n"
     ]
    },
    {
     "name": "stdout",
     "output_type": "stream",
     "text": [
      "21\n"
     ]
    },
    {
     "name": "stdout",
     "output_type": "stream",
     "text": [
      "22\n"
     ]
    },
    {
     "name": "stdout",
     "output_type": "stream",
     "text": [
      "23\n"
     ]
    },
    {
     "name": "stdout",
     "output_type": "stream",
     "text": [
      "24\n"
     ]
    },
    {
     "name": "stdout",
     "output_type": "stream",
     "text": [
      "25\n"
     ]
    },
    {
     "name": "stdout",
     "output_type": "stream",
     "text": [
      "26\n"
     ]
    },
    {
     "name": "stdout",
     "output_type": "stream",
     "text": [
      "27\n"
     ]
    },
    {
     "name": "stdout",
     "output_type": "stream",
     "text": [
      "28\n"
     ]
    },
    {
     "name": "stdout",
     "output_type": "stream",
     "text": [
      "29\n"
     ]
    },
    {
     "name": "stdout",
     "output_type": "stream",
     "text": [
      "30\n"
     ]
    },
    {
     "name": "stdout",
     "output_type": "stream",
     "text": [
      "31\n"
     ]
    },
    {
     "name": "stdout",
     "output_type": "stream",
     "text": [
      "32\n"
     ]
    },
    {
     "name": "stdout",
     "output_type": "stream",
     "text": [
      "33\n"
     ]
    },
    {
     "name": "stdout",
     "output_type": "stream",
     "text": [
      "34\n"
     ]
    },
    {
     "name": "stdout",
     "output_type": "stream",
     "text": [
      "35\n"
     ]
    },
    {
     "name": "stdout",
     "output_type": "stream",
     "text": [
      "36\n"
     ]
    },
    {
     "name": "stdout",
     "output_type": "stream",
     "text": [
      "37\n"
     ]
    },
    {
     "name": "stdout",
     "output_type": "stream",
     "text": [
      "38\n"
     ]
    },
    {
     "name": "stdout",
     "output_type": "stream",
     "text": [
      "39\n"
     ]
    },
    {
     "name": "stdout",
     "output_type": "stream",
     "text": [
      "40\n"
     ]
    },
    {
     "name": "stdout",
     "output_type": "stream",
     "text": [
      "41\n"
     ]
    },
    {
     "name": "stdout",
     "output_type": "stream",
     "text": [
      "42\n"
     ]
    },
    {
     "name": "stdout",
     "output_type": "stream",
     "text": [
      "43\n"
     ]
    },
    {
     "name": "stdout",
     "output_type": "stream",
     "text": [
      "44\n"
     ]
    },
    {
     "name": "stdout",
     "output_type": "stream",
     "text": [
      "45\n"
     ]
    },
    {
     "name": "stdout",
     "output_type": "stream",
     "text": [
      "46\n"
     ]
    },
    {
     "name": "stdout",
     "output_type": "stream",
     "text": [
      "47\n"
     ]
    },
    {
     "name": "stdout",
     "output_type": "stream",
     "text": [
      "48\n"
     ]
    },
    {
     "name": "stdout",
     "output_type": "stream",
     "text": [
      "49\n"
     ]
    }
   ],
   "source": [
    "X = Xopt.from_yaml(YAML)\n",
    "\n",
    "# for testing purposes only\n",
    "if SMOKE_TEST:\n",
    "    X.generator.numerical_optimizer.n_restarts = 1\n",
    "    X.generator.n_monte_carlo_samples = 1\n",
    "\n",
    "X.random_evaluate(5)\n",
    "for i in range(NUM_STEPS):\n",
    "    print(i)\n",
    "    X.step()"
   ]
  },
  {
   "cell_type": "code",
   "execution_count": 3,
   "metadata": {
    "collapsed": false,
    "execution": {
     "iopub.execute_input": "2024-02-23T22:01:44.245436Z",
     "iopub.status.busy": "2024-02-23T22:01:44.244935Z",
     "iopub.status.idle": "2024-02-23T22:01:44.269068Z",
     "shell.execute_reply": "2024-02-23T22:01:44.268459Z"
    }
   },
   "outputs": [
    {
     "data": {
      "text/html": [
       "<div>\n",
       "<style scoped>\n",
       "    .dataframe tbody tr th:only-of-type {\n",
       "        vertical-align: middle;\n",
       "    }\n",
       "\n",
       "    .dataframe tbody tr th {\n",
       "        vertical-align: top;\n",
       "    }\n",
       "\n",
       "    .dataframe thead th {\n",
       "        text-align: right;\n",
       "    }\n",
       "</style>\n",
       "<table border=\"1\" class=\"dataframe\">\n",
       "  <thead>\n",
       "    <tr style=\"text-align: right;\">\n",
       "      <th></th>\n",
       "      <th>x1</th>\n",
       "      <th>x2</th>\n",
       "      <th>a</th>\n",
       "      <th>y1</th>\n",
       "      <th>y2</th>\n",
       "      <th>c1</th>\n",
       "      <th>c2</th>\n",
       "      <th>xopt_runtime</th>\n",
       "      <th>xopt_error</th>\n",
       "    </tr>\n",
       "  </thead>\n",
       "  <tbody>\n",
       "    <tr>\n",
       "      <th>0</th>\n",
       "      <td>2.104539</td>\n",
       "      <td>3.034119</td>\n",
       "      <td>dummy_constant</td>\n",
       "      <td>2.104539</td>\n",
       "      <td>3.034119</td>\n",
       "      <td>12.731120</td>\n",
       "      <td>8.996306</td>\n",
       "      <td>0.000034</td>\n",
       "      <td>False</td>\n",
       "    </tr>\n",
       "    <tr>\n",
       "      <th>1</th>\n",
       "      <td>1.238668</td>\n",
       "      <td>0.205253</td>\n",
       "      <td>dummy_constant</td>\n",
       "      <td>1.238668</td>\n",
       "      <td>0.205253</td>\n",
       "      <td>0.663495</td>\n",
       "      <td>0.632505</td>\n",
       "      <td>0.000009</td>\n",
       "      <td>False</td>\n",
       "    </tr>\n",
       "    <tr>\n",
       "      <th>2</th>\n",
       "      <td>0.310844</td>\n",
       "      <td>0.435250</td>\n",
       "      <td>dummy_constant</td>\n",
       "      <td>0.310844</td>\n",
       "      <td>0.435250</td>\n",
       "      <td>-0.626080</td>\n",
       "      <td>0.039973</td>\n",
       "      <td>0.000007</td>\n",
       "      <td>False</td>\n",
       "    </tr>\n",
       "    <tr>\n",
       "      <th>3</th>\n",
       "      <td>1.202555</td>\n",
       "      <td>1.347195</td>\n",
       "      <td>dummy_constant</td>\n",
       "      <td>1.202555</td>\n",
       "      <td>1.347195</td>\n",
       "      <td>2.199435</td>\n",
       "      <td>1.211323</td>\n",
       "      <td>0.000006</td>\n",
       "      <td>False</td>\n",
       "    </tr>\n",
       "    <tr>\n",
       "      <th>4</th>\n",
       "      <td>3.057288</td>\n",
       "      <td>0.748026</td>\n",
       "      <td>dummy_constant</td>\n",
       "      <td>3.057288</td>\n",
       "      <td>0.748026</td>\n",
       "      <td>8.983186</td>\n",
       "      <td>6.601240</td>\n",
       "      <td>0.000006</td>\n",
       "      <td>False</td>\n",
       "    </tr>\n",
       "    <tr>\n",
       "      <th>5</th>\n",
       "      <td>0.313944</td>\n",
       "      <td>0.106545</td>\n",
       "      <td>dummy_constant</td>\n",
       "      <td>0.313944</td>\n",
       "      <td>0.106545</td>\n",
       "      <td>-0.939989</td>\n",
       "      <td>0.189424</td>\n",
       "      <td>0.000026</td>\n",
       "      <td>False</td>\n",
       "    </tr>\n",
       "    <tr>\n",
       "      <th>6</th>\n",
       "      <td>0.271397</td>\n",
       "      <td>0.863938</td>\n",
       "      <td>dummy_constant</td>\n",
       "      <td>0.271397</td>\n",
       "      <td>0.863938</td>\n",
       "      <td>-0.195655</td>\n",
       "      <td>0.184710</td>\n",
       "      <td>0.000024</td>\n",
       "      <td>False</td>\n",
       "    </tr>\n",
       "    <tr>\n",
       "      <th>7</th>\n",
       "      <td>1.135652</td>\n",
       "      <td>0.267033</td>\n",
       "      <td>dummy_constant</td>\n",
       "      <td>1.135652</td>\n",
       "      <td>0.267033</td>\n",
       "      <td>0.446083</td>\n",
       "      <td>0.458327</td>\n",
       "      <td>0.000024</td>\n",
       "      <td>False</td>\n",
       "    </tr>\n",
       "    <tr>\n",
       "      <th>8</th>\n",
       "      <td>0.287086</td>\n",
       "      <td>1.035270</td>\n",
       "      <td>dummy_constant</td>\n",
       "      <td>0.287086</td>\n",
       "      <td>1.035270</td>\n",
       "      <td>0.191689</td>\n",
       "      <td>0.331846</td>\n",
       "      <td>0.000024</td>\n",
       "      <td>False</td>\n",
       "    </tr>\n",
       "    <tr>\n",
       "      <th>9</th>\n",
       "      <td>0.970193</td>\n",
       "      <td>0.326842</td>\n",
       "      <td>dummy_constant</td>\n",
       "      <td>0.970193</td>\n",
       "      <td>0.326842</td>\n",
       "      <td>0.001330</td>\n",
       "      <td>0.251065</td>\n",
       "      <td>0.000024</td>\n",
       "      <td>False</td>\n",
       "    </tr>\n",
       "    <tr>\n",
       "      <th>10</th>\n",
       "      <td>0.865866</td>\n",
       "      <td>0.009187</td>\n",
       "      <td>dummy_constant</td>\n",
       "      <td>0.865866</td>\n",
       "      <td>0.009187</td>\n",
       "      <td>-0.348754</td>\n",
       "      <td>0.374756</td>\n",
       "      <td>0.000026</td>\n",
       "      <td>False</td>\n",
       "    </tr>\n",
       "    <tr>\n",
       "      <th>11</th>\n",
       "      <td>0.888363</td>\n",
       "      <td>0.776701</td>\n",
       "      <td>dummy_constant</td>\n",
       "      <td>0.888363</td>\n",
       "      <td>0.776701</td>\n",
       "      <td>0.344562</td>\n",
       "      <td>0.227389</td>\n",
       "      <td>0.000026</td>\n",
       "      <td>False</td>\n",
       "    </tr>\n",
       "    <tr>\n",
       "      <th>12</th>\n",
       "      <td>0.795926</td>\n",
       "      <td>0.704645</td>\n",
       "      <td>dummy_constant</td>\n",
       "      <td>0.795926</td>\n",
       "      <td>0.704645</td>\n",
       "      <td>0.073666</td>\n",
       "      <td>0.129452</td>\n",
       "      <td>0.000025</td>\n",
       "      <td>False</td>\n",
       "    </tr>\n",
       "    <tr>\n",
       "      <th>13</th>\n",
       "      <td>0.548570</td>\n",
       "      <td>0.877508</td>\n",
       "      <td>dummy_constant</td>\n",
       "      <td>0.548570</td>\n",
       "      <td>0.877508</td>\n",
       "      <td>0.159394</td>\n",
       "      <td>0.144872</td>\n",
       "      <td>0.000026</td>\n",
       "      <td>False</td>\n",
       "    </tr>\n",
       "    <tr>\n",
       "      <th>14</th>\n",
       "      <td>0.165110</td>\n",
       "      <td>1.051962</td>\n",
       "      <td>dummy_constant</td>\n",
       "      <td>0.165110</td>\n",
       "      <td>1.051962</td>\n",
       "      <td>0.213454</td>\n",
       "      <td>0.416813</td>\n",
       "      <td>0.000024</td>\n",
       "      <td>False</td>\n",
       "    </tr>\n",
       "    <tr>\n",
       "      <th>15</th>\n",
       "      <td>0.800300</td>\n",
       "      <td>0.262495</td>\n",
       "      <td>dummy_constant</td>\n",
       "      <td>0.800300</td>\n",
       "      <td>0.262495</td>\n",
       "      <td>-0.325716</td>\n",
       "      <td>0.146589</td>\n",
       "      <td>0.000025</td>\n",
       "      <td>False</td>\n",
       "    </tr>\n",
       "    <tr>\n",
       "      <th>16</th>\n",
       "      <td>0.905493</td>\n",
       "      <td>0.134918</td>\n",
       "      <td>dummy_constant</td>\n",
       "      <td>0.905493</td>\n",
       "      <td>0.134918</td>\n",
       "      <td>-0.090439</td>\n",
       "      <td>0.297709</td>\n",
       "      <td>0.000026</td>\n",
       "      <td>False</td>\n",
       "    </tr>\n",
       "    <tr>\n",
       "      <th>17</th>\n",
       "      <td>0.252166</td>\n",
       "      <td>0.967968</td>\n",
       "      <td>dummy_constant</td>\n",
       "      <td>0.252166</td>\n",
       "      <td>0.967968</td>\n",
       "      <td>0.059856</td>\n",
       "      <td>0.280416</td>\n",
       "      <td>0.000025</td>\n",
       "      <td>False</td>\n",
       "    </tr>\n",
       "    <tr>\n",
       "      <th>18</th>\n",
       "      <td>0.891693</td>\n",
       "      <td>0.545392</td>\n",
       "      <td>dummy_constant</td>\n",
       "      <td>0.891693</td>\n",
       "      <td>0.545392</td>\n",
       "      <td>0.172666</td>\n",
       "      <td>0.155484</td>\n",
       "      <td>0.000027</td>\n",
       "      <td>False</td>\n",
       "    </tr>\n",
       "    <tr>\n",
       "      <th>19</th>\n",
       "      <td>0.660603</td>\n",
       "      <td>0.777662</td>\n",
       "      <td>dummy_constant</td>\n",
       "      <td>0.660603</td>\n",
       "      <td>0.777662</td>\n",
       "      <td>0.014343</td>\n",
       "      <td>0.102890</td>\n",
       "      <td>0.000027</td>\n",
       "      <td>False</td>\n",
       "    </tr>\n",
       "    <tr>\n",
       "      <th>20</th>\n",
       "      <td>0.575094</td>\n",
       "      <td>0.823419</td>\n",
       "      <td>dummy_constant</td>\n",
       "      <td>0.575094</td>\n",
       "      <td>0.823419</td>\n",
       "      <td>0.103360</td>\n",
       "      <td>0.110239</td>\n",
       "      <td>0.000026</td>\n",
       "      <td>False</td>\n",
       "    </tr>\n",
       "    <tr>\n",
       "      <th>21</th>\n",
       "      <td>0.000000</td>\n",
       "      <td>0.968828</td>\n",
       "      <td>dummy_constant</td>\n",
       "      <td>0.000000</td>\n",
       "      <td>0.968828</td>\n",
       "      <td>-0.161372</td>\n",
       "      <td>0.469800</td>\n",
       "      <td>0.000025</td>\n",
       "      <td>False</td>\n",
       "    </tr>\n",
       "    <tr>\n",
       "      <th>22</th>\n",
       "      <td>0.446832</td>\n",
       "      <td>0.771188</td>\n",
       "      <td>dummy_constant</td>\n",
       "      <td>0.446832</td>\n",
       "      <td>0.771188</td>\n",
       "      <td>-0.153490</td>\n",
       "      <td>0.076370</td>\n",
       "      <td>0.000025</td>\n",
       "      <td>False</td>\n",
       "    </tr>\n",
       "    <tr>\n",
       "      <th>23</th>\n",
       "      <td>1.032317</td>\n",
       "      <td>0.071095</td>\n",
       "      <td>dummy_constant</td>\n",
       "      <td>1.032317</td>\n",
       "      <td>0.071095</td>\n",
       "      <td>0.025389</td>\n",
       "      <td>0.467320</td>\n",
       "      <td>0.000025</td>\n",
       "      <td>False</td>\n",
       "    </tr>\n",
       "    <tr>\n",
       "      <th>24</th>\n",
       "      <td>0.402650</td>\n",
       "      <td>0.467148</td>\n",
       "      <td>dummy_constant</td>\n",
       "      <td>0.402650</td>\n",
       "      <td>0.467148</td>\n",
       "      <td>-0.657341</td>\n",
       "      <td>0.010556</td>\n",
       "      <td>0.000025</td>\n",
       "      <td>False</td>\n",
       "    </tr>\n",
       "    <tr>\n",
       "      <th>25</th>\n",
       "      <td>0.405516</td>\n",
       "      <td>0.904644</td>\n",
       "      <td>dummy_constant</td>\n",
       "      <td>0.405516</td>\n",
       "      <td>0.904644</td>\n",
       "      <td>-0.106811</td>\n",
       "      <td>0.172664</td>\n",
       "      <td>0.000027</td>\n",
       "      <td>False</td>\n",
       "    </tr>\n",
       "    <tr>\n",
       "      <th>26</th>\n",
       "      <td>1.049709</td>\n",
       "      <td>0.100195</td>\n",
       "      <td>dummy_constant</td>\n",
       "      <td>1.049709</td>\n",
       "      <td>0.100195</td>\n",
       "      <td>0.107109</td>\n",
       "      <td>0.462024</td>\n",
       "      <td>0.000026</td>\n",
       "      <td>False</td>\n",
       "    </tr>\n",
       "    <tr>\n",
       "      <th>27</th>\n",
       "      <td>0.100721</td>\n",
       "      <td>0.387660</td>\n",
       "      <td>dummy_constant</td>\n",
       "      <td>0.100721</td>\n",
       "      <td>0.387660</td>\n",
       "      <td>-0.779437</td>\n",
       "      <td>0.172044</td>\n",
       "      <td>0.000027</td>\n",
       "      <td>False</td>\n",
       "    </tr>\n",
       "    <tr>\n",
       "      <th>28</th>\n",
       "      <td>0.394181</td>\n",
       "      <td>0.766093</td>\n",
       "      <td>dummy_constant</td>\n",
       "      <td>0.394181</td>\n",
       "      <td>0.766093</td>\n",
       "      <td>-0.282527</td>\n",
       "      <td>0.082003</td>\n",
       "      <td>0.000025</td>\n",
       "      <td>False</td>\n",
       "    </tr>\n",
       "    <tr>\n",
       "      <th>29</th>\n",
       "      <td>0.062739</td>\n",
       "      <td>1.028362</td>\n",
       "      <td>dummy_constant</td>\n",
       "      <td>0.062739</td>\n",
       "      <td>1.028362</td>\n",
       "      <td>0.005342</td>\n",
       "      <td>0.470363</td>\n",
       "      <td>0.000026</td>\n",
       "      <td>False</td>\n",
       "    </tr>\n",
       "    <tr>\n",
       "      <th>30</th>\n",
       "      <td>0.913796</td>\n",
       "      <td>0.421049</td>\n",
       "      <td>dummy_constant</td>\n",
       "      <td>0.913796</td>\n",
       "      <td>0.421049</td>\n",
       "      <td>-0.068781</td>\n",
       "      <td>0.177460</td>\n",
       "      <td>0.000025</td>\n",
       "      <td>False</td>\n",
       "    </tr>\n",
       "    <tr>\n",
       "      <th>31</th>\n",
       "      <td>0.057361</td>\n",
       "      <td>1.049362</td>\n",
       "      <td>dummy_constant</td>\n",
       "      <td>0.057361</td>\n",
       "      <td>1.049362</td>\n",
       "      <td>0.040254</td>\n",
       "      <td>0.497728</td>\n",
       "      <td>0.000025</td>\n",
       "      <td>False</td>\n",
       "    </tr>\n",
       "    <tr>\n",
       "      <th>32</th>\n",
       "      <td>0.404055</td>\n",
       "      <td>0.530439</td>\n",
       "      <td>dummy_constant</td>\n",
       "      <td>0.404055</td>\n",
       "      <td>0.530439</td>\n",
       "      <td>-0.500568</td>\n",
       "      <td>0.010132</td>\n",
       "      <td>0.000025</td>\n",
       "      <td>False</td>\n",
       "    </tr>\n",
       "    <tr>\n",
       "      <th>33</th>\n",
       "      <td>0.087295</td>\n",
       "      <td>1.049741</td>\n",
       "      <td>dummy_constant</td>\n",
       "      <td>0.087295</td>\n",
       "      <td>1.049741</td>\n",
       "      <td>0.085484</td>\n",
       "      <td>0.472540</td>\n",
       "      <td>0.000026</td>\n",
       "      <td>False</td>\n",
       "    </tr>\n",
       "    <tr>\n",
       "      <th>34</th>\n",
       "      <td>0.831686</td>\n",
       "      <td>0.207140</td>\n",
       "      <td>dummy_constant</td>\n",
       "      <td>0.831686</td>\n",
       "      <td>0.207140</td>\n",
       "      <td>-0.193178</td>\n",
       "      <td>0.195783</td>\n",
       "      <td>0.000027</td>\n",
       "      <td>False</td>\n",
       "    </tr>\n",
       "    <tr>\n",
       "      <th>35</th>\n",
       "      <td>0.800699</td>\n",
       "      <td>0.382057</td>\n",
       "      <td>dummy_constant</td>\n",
       "      <td>0.800699</td>\n",
       "      <td>0.382057</td>\n",
       "      <td>-0.279653</td>\n",
       "      <td>0.104330</td>\n",
       "      <td>0.000027</td>\n",
       "      <td>False</td>\n",
       "    </tr>\n",
       "    <tr>\n",
       "      <th>36</th>\n",
       "      <td>0.818331</td>\n",
       "      <td>0.446601</td>\n",
       "      <td>dummy_constant</td>\n",
       "      <td>0.818331</td>\n",
       "      <td>0.446601</td>\n",
       "      <td>-0.117011</td>\n",
       "      <td>0.104186</td>\n",
       "      <td>0.000026</td>\n",
       "      <td>False</td>\n",
       "    </tr>\n",
       "    <tr>\n",
       "      <th>37</th>\n",
       "      <td>0.821382</td>\n",
       "      <td>0.605651</td>\n",
       "      <td>dummy_constant</td>\n",
       "      <td>0.821382</td>\n",
       "      <td>0.605651</td>\n",
       "      <td>0.115262</td>\n",
       "      <td>0.114448</td>\n",
       "      <td>0.000025</td>\n",
       "      <td>False</td>\n",
       "    </tr>\n",
       "    <tr>\n",
       "      <th>38</th>\n",
       "      <td>0.331490</td>\n",
       "      <td>0.251863</td>\n",
       "      <td>dummy_constant</td>\n",
       "      <td>0.331490</td>\n",
       "      <td>0.251863</td>\n",
       "      <td>-0.770233</td>\n",
       "      <td>0.089967</td>\n",
       "      <td>0.000027</td>\n",
       "      <td>False</td>\n",
       "    </tr>\n",
       "    <tr>\n",
       "      <th>39</th>\n",
       "      <td>0.737897</td>\n",
       "      <td>0.692585</td>\n",
       "      <td>dummy_constant</td>\n",
       "      <td>0.737897</td>\n",
       "      <td>0.692585</td>\n",
       "      <td>-0.063272</td>\n",
       "      <td>0.093684</td>\n",
       "      <td>0.000026</td>\n",
       "      <td>False</td>\n",
       "    </tr>\n",
       "    <tr>\n",
       "      <th>40</th>\n",
       "      <td>0.941389</td>\n",
       "      <td>0.367462</td>\n",
       "      <td>dummy_constant</td>\n",
       "      <td>0.941389</td>\n",
       "      <td>0.367462</td>\n",
       "      <td>-0.073402</td>\n",
       "      <td>0.212391</td>\n",
       "      <td>0.000027</td>\n",
       "      <td>False</td>\n",
       "    </tr>\n",
       "    <tr>\n",
       "      <th>41</th>\n",
       "      <td>0.204411</td>\n",
       "      <td>0.993595</td>\n",
       "      <td>dummy_constant</td>\n",
       "      <td>0.204411</td>\n",
       "      <td>0.993595</td>\n",
       "      <td>0.128466</td>\n",
       "      <td>0.331009</td>\n",
       "      <td>0.000026</td>\n",
       "      <td>False</td>\n",
       "    </tr>\n",
       "    <tr>\n",
       "      <th>42</th>\n",
       "      <td>0.259371</td>\n",
       "      <td>0.451273</td>\n",
       "      <td>dummy_constant</td>\n",
       "      <td>0.259371</td>\n",
       "      <td>0.451273</td>\n",
       "      <td>-0.681805</td>\n",
       "      <td>0.060277</td>\n",
       "      <td>0.000027</td>\n",
       "      <td>False</td>\n",
       "    </tr>\n",
       "    <tr>\n",
       "      <th>43</th>\n",
       "      <td>0.780466</td>\n",
       "      <td>0.668468</td>\n",
       "      <td>dummy_constant</td>\n",
       "      <td>0.780466</td>\n",
       "      <td>0.668468</td>\n",
       "      <td>0.022957</td>\n",
       "      <td>0.107042</td>\n",
       "      <td>0.000025</td>\n",
       "      <td>False</td>\n",
       "    </tr>\n",
       "    <tr>\n",
       "      <th>44</th>\n",
       "      <td>0.659264</td>\n",
       "      <td>0.287325</td>\n",
       "      <td>dummy_constant</td>\n",
       "      <td>0.659264</td>\n",
       "      <td>0.287325</td>\n",
       "      <td>-0.578557</td>\n",
       "      <td>0.070596</td>\n",
       "      <td>0.000025</td>\n",
       "      <td>False</td>\n",
       "    </tr>\n",
       "    <tr>\n",
       "      <th>45</th>\n",
       "      <td>0.881720</td>\n",
       "      <td>0.105644</td>\n",
       "      <td>dummy_constant</td>\n",
       "      <td>0.881720</td>\n",
       "      <td>0.105644</td>\n",
       "      <td>-0.178329</td>\n",
       "      <td>0.301227</td>\n",
       "      <td>0.000026</td>\n",
       "      <td>False</td>\n",
       "    </tr>\n",
       "    <tr>\n",
       "      <th>46</th>\n",
       "      <td>0.047437</td>\n",
       "      <td>0.658769</td>\n",
       "      <td>dummy_constant</td>\n",
       "      <td>0.047437</td>\n",
       "      <td>0.658769</td>\n",
       "      <td>-0.604608</td>\n",
       "      <td>0.230021</td>\n",
       "      <td>0.000026</td>\n",
       "      <td>False</td>\n",
       "    </tr>\n",
       "    <tr>\n",
       "      <th>47</th>\n",
       "      <td>0.411271</td>\n",
       "      <td>0.801312</td>\n",
       "      <td>dummy_constant</td>\n",
       "      <td>0.411271</td>\n",
       "      <td>0.801312</td>\n",
       "      <td>-0.215135</td>\n",
       "      <td>0.098662</td>\n",
       "      <td>0.000028</td>\n",
       "      <td>False</td>\n",
       "    </tr>\n",
       "    <tr>\n",
       "      <th>48</th>\n",
       "      <td>0.445466</td>\n",
       "      <td>0.486760</td>\n",
       "      <td>dummy_constant</td>\n",
       "      <td>0.445466</td>\n",
       "      <td>0.486760</td>\n",
       "      <td>-0.640574</td>\n",
       "      <td>0.003149</td>\n",
       "      <td>0.000026</td>\n",
       "      <td>False</td>\n",
       "    </tr>\n",
       "    <tr>\n",
       "      <th>49</th>\n",
       "      <td>0.664210</td>\n",
       "      <td>0.415287</td>\n",
       "      <td>dummy_constant</td>\n",
       "      <td>0.664210</td>\n",
       "      <td>0.415287</td>\n",
       "      <td>-0.297870</td>\n",
       "      <td>0.034141</td>\n",
       "      <td>0.000027</td>\n",
       "      <td>False</td>\n",
       "    </tr>\n",
       "    <tr>\n",
       "      <th>50</th>\n",
       "      <td>0.954424</td>\n",
       "      <td>0.343676</td>\n",
       "      <td>dummy_constant</td>\n",
       "      <td>0.954424</td>\n",
       "      <td>0.343676</td>\n",
       "      <td>-0.043921</td>\n",
       "      <td>0.230939</td>\n",
       "      <td>0.000026</td>\n",
       "      <td>False</td>\n",
       "    </tr>\n",
       "    <tr>\n",
       "      <th>51</th>\n",
       "      <td>0.157334</td>\n",
       "      <td>0.933578</td>\n",
       "      <td>dummy_constant</td>\n",
       "      <td>0.157334</td>\n",
       "      <td>0.933578</td>\n",
       "      <td>-0.014532</td>\n",
       "      <td>0.305410</td>\n",
       "      <td>0.000028</td>\n",
       "      <td>False</td>\n",
       "    </tr>\n",
       "    <tr>\n",
       "      <th>52</th>\n",
       "      <td>0.997371</td>\n",
       "      <td>0.165628</td>\n",
       "      <td>dummy_constant</td>\n",
       "      <td>0.997371</td>\n",
       "      <td>0.165628</td>\n",
       "      <td>0.109525</td>\n",
       "      <td>0.359183</td>\n",
       "      <td>0.000026</td>\n",
       "      <td>False</td>\n",
       "    </tr>\n",
       "    <tr>\n",
       "      <th>53</th>\n",
       "      <td>0.012663</td>\n",
       "      <td>1.250670</td>\n",
       "      <td>dummy_constant</td>\n",
       "      <td>0.012663</td>\n",
       "      <td>1.250670</td>\n",
       "      <td>0.465645</td>\n",
       "      <td>0.801002</td>\n",
       "      <td>0.000028</td>\n",
       "      <td>False</td>\n",
       "    </tr>\n",
       "    <tr>\n",
       "      <th>54</th>\n",
       "      <td>0.668418</td>\n",
       "      <td>0.325972</td>\n",
       "      <td>dummy_constant</td>\n",
       "      <td>0.668418</td>\n",
       "      <td>0.325972</td>\n",
       "      <td>-0.502938</td>\n",
       "      <td>0.058650</td>\n",
       "      <td>0.000026</td>\n",
       "      <td>False</td>\n",
       "    </tr>\n",
       "  </tbody>\n",
       "</table>\n",
       "</div>"
      ],
      "text/plain": [
       "          x1        x2               a        y1        y2         c1  \\\n",
       "0   2.104539  3.034119  dummy_constant  2.104539  3.034119  12.731120   \n",
       "1   1.238668  0.205253  dummy_constant  1.238668  0.205253   0.663495   \n",
       "2   0.310844  0.435250  dummy_constant  0.310844  0.435250  -0.626080   \n",
       "3   1.202555  1.347195  dummy_constant  1.202555  1.347195   2.199435   \n",
       "4   3.057288  0.748026  dummy_constant  3.057288  0.748026   8.983186   \n",
       "5   0.313944  0.106545  dummy_constant  0.313944  0.106545  -0.939989   \n",
       "6   0.271397  0.863938  dummy_constant  0.271397  0.863938  -0.195655   \n",
       "7   1.135652  0.267033  dummy_constant  1.135652  0.267033   0.446083   \n",
       "8   0.287086  1.035270  dummy_constant  0.287086  1.035270   0.191689   \n",
       "9   0.970193  0.326842  dummy_constant  0.970193  0.326842   0.001330   \n",
       "10  0.865866  0.009187  dummy_constant  0.865866  0.009187  -0.348754   \n",
       "11  0.888363  0.776701  dummy_constant  0.888363  0.776701   0.344562   \n",
       "12  0.795926  0.704645  dummy_constant  0.795926  0.704645   0.073666   \n",
       "13  0.548570  0.877508  dummy_constant  0.548570  0.877508   0.159394   \n",
       "14  0.165110  1.051962  dummy_constant  0.165110  1.051962   0.213454   \n",
       "15  0.800300  0.262495  dummy_constant  0.800300  0.262495  -0.325716   \n",
       "16  0.905493  0.134918  dummy_constant  0.905493  0.134918  -0.090439   \n",
       "17  0.252166  0.967968  dummy_constant  0.252166  0.967968   0.059856   \n",
       "18  0.891693  0.545392  dummy_constant  0.891693  0.545392   0.172666   \n",
       "19  0.660603  0.777662  dummy_constant  0.660603  0.777662   0.014343   \n",
       "20  0.575094  0.823419  dummy_constant  0.575094  0.823419   0.103360   \n",
       "21  0.000000  0.968828  dummy_constant  0.000000  0.968828  -0.161372   \n",
       "22  0.446832  0.771188  dummy_constant  0.446832  0.771188  -0.153490   \n",
       "23  1.032317  0.071095  dummy_constant  1.032317  0.071095   0.025389   \n",
       "24  0.402650  0.467148  dummy_constant  0.402650  0.467148  -0.657341   \n",
       "25  0.405516  0.904644  dummy_constant  0.405516  0.904644  -0.106811   \n",
       "26  1.049709  0.100195  dummy_constant  1.049709  0.100195   0.107109   \n",
       "27  0.100721  0.387660  dummy_constant  0.100721  0.387660  -0.779437   \n",
       "28  0.394181  0.766093  dummy_constant  0.394181  0.766093  -0.282527   \n",
       "29  0.062739  1.028362  dummy_constant  0.062739  1.028362   0.005342   \n",
       "30  0.913796  0.421049  dummy_constant  0.913796  0.421049  -0.068781   \n",
       "31  0.057361  1.049362  dummy_constant  0.057361  1.049362   0.040254   \n",
       "32  0.404055  0.530439  dummy_constant  0.404055  0.530439  -0.500568   \n",
       "33  0.087295  1.049741  dummy_constant  0.087295  1.049741   0.085484   \n",
       "34  0.831686  0.207140  dummy_constant  0.831686  0.207140  -0.193178   \n",
       "35  0.800699  0.382057  dummy_constant  0.800699  0.382057  -0.279653   \n",
       "36  0.818331  0.446601  dummy_constant  0.818331  0.446601  -0.117011   \n",
       "37  0.821382  0.605651  dummy_constant  0.821382  0.605651   0.115262   \n",
       "38  0.331490  0.251863  dummy_constant  0.331490  0.251863  -0.770233   \n",
       "39  0.737897  0.692585  dummy_constant  0.737897  0.692585  -0.063272   \n",
       "40  0.941389  0.367462  dummy_constant  0.941389  0.367462  -0.073402   \n",
       "41  0.204411  0.993595  dummy_constant  0.204411  0.993595   0.128466   \n",
       "42  0.259371  0.451273  dummy_constant  0.259371  0.451273  -0.681805   \n",
       "43  0.780466  0.668468  dummy_constant  0.780466  0.668468   0.022957   \n",
       "44  0.659264  0.287325  dummy_constant  0.659264  0.287325  -0.578557   \n",
       "45  0.881720  0.105644  dummy_constant  0.881720  0.105644  -0.178329   \n",
       "46  0.047437  0.658769  dummy_constant  0.047437  0.658769  -0.604608   \n",
       "47  0.411271  0.801312  dummy_constant  0.411271  0.801312  -0.215135   \n",
       "48  0.445466  0.486760  dummy_constant  0.445466  0.486760  -0.640574   \n",
       "49  0.664210  0.415287  dummy_constant  0.664210  0.415287  -0.297870   \n",
       "50  0.954424  0.343676  dummy_constant  0.954424  0.343676  -0.043921   \n",
       "51  0.157334  0.933578  dummy_constant  0.157334  0.933578  -0.014532   \n",
       "52  0.997371  0.165628  dummy_constant  0.997371  0.165628   0.109525   \n",
       "53  0.012663  1.250670  dummy_constant  0.012663  1.250670   0.465645   \n",
       "54  0.668418  0.325972  dummy_constant  0.668418  0.325972  -0.502938   \n",
       "\n",
       "          c2  xopt_runtime  xopt_error  \n",
       "0   8.996306      0.000034       False  \n",
       "1   0.632505      0.000009       False  \n",
       "2   0.039973      0.000007       False  \n",
       "3   1.211323      0.000006       False  \n",
       "4   6.601240      0.000006       False  \n",
       "5   0.189424      0.000026       False  \n",
       "6   0.184710      0.000024       False  \n",
       "7   0.458327      0.000024       False  \n",
       "8   0.331846      0.000024       False  \n",
       "9   0.251065      0.000024       False  \n",
       "10  0.374756      0.000026       False  \n",
       "11  0.227389      0.000026       False  \n",
       "12  0.129452      0.000025       False  \n",
       "13  0.144872      0.000026       False  \n",
       "14  0.416813      0.000024       False  \n",
       "15  0.146589      0.000025       False  \n",
       "16  0.297709      0.000026       False  \n",
       "17  0.280416      0.000025       False  \n",
       "18  0.155484      0.000027       False  \n",
       "19  0.102890      0.000027       False  \n",
       "20  0.110239      0.000026       False  \n",
       "21  0.469800      0.000025       False  \n",
       "22  0.076370      0.000025       False  \n",
       "23  0.467320      0.000025       False  \n",
       "24  0.010556      0.000025       False  \n",
       "25  0.172664      0.000027       False  \n",
       "26  0.462024      0.000026       False  \n",
       "27  0.172044      0.000027       False  \n",
       "28  0.082003      0.000025       False  \n",
       "29  0.470363      0.000026       False  \n",
       "30  0.177460      0.000025       False  \n",
       "31  0.497728      0.000025       False  \n",
       "32  0.010132      0.000025       False  \n",
       "33  0.472540      0.000026       False  \n",
       "34  0.195783      0.000027       False  \n",
       "35  0.104330      0.000027       False  \n",
       "36  0.104186      0.000026       False  \n",
       "37  0.114448      0.000025       False  \n",
       "38  0.089967      0.000027       False  \n",
       "39  0.093684      0.000026       False  \n",
       "40  0.212391      0.000027       False  \n",
       "41  0.331009      0.000026       False  \n",
       "42  0.060277      0.000027       False  \n",
       "43  0.107042      0.000025       False  \n",
       "44  0.070596      0.000025       False  \n",
       "45  0.301227      0.000026       False  \n",
       "46  0.230021      0.000026       False  \n",
       "47  0.098662      0.000028       False  \n",
       "48  0.003149      0.000026       False  \n",
       "49  0.034141      0.000027       False  \n",
       "50  0.230939      0.000026       False  \n",
       "51  0.305410      0.000028       False  \n",
       "52  0.359183      0.000026       False  \n",
       "53  0.801002      0.000028       False  \n",
       "54  0.058650      0.000026       False  "
      ]
     },
     "execution_count": 3,
     "metadata": {},
     "output_type": "execute_result"
    }
   ],
   "source": [
    "X.generator.data"
   ]
  },
  {
   "cell_type": "markdown",
   "metadata": {
    "collapsed": false
   },
   "source": [
    "## plot results\n"
   ]
  },
  {
   "cell_type": "code",
   "execution_count": 4,
   "metadata": {
    "collapsed": false,
    "execution": {
     "iopub.execute_input": "2024-02-23T22:01:44.271378Z",
     "iopub.status.busy": "2024-02-23T22:01:44.271187Z",
     "iopub.status.idle": "2024-02-23T22:01:44.745437Z",
     "shell.execute_reply": "2024-02-23T22:01:44.744822Z"
    }
   },
   "outputs": [
    {
     "data": {
      "image/png": "[encoded data removed]",
      "text/plain": [
       "<Figure size 640x480 with 1 Axes>"
      ]
     },
     "metadata": {},
     "output_type": "display_data"
    }
   ],
   "source": [
    "import matplotlib.pyplot as plt\n",
    "import numpy as np\n",
    "import pandas as pd\n",
    "\n",
    "fig, ax = plt.subplots()\n",
    "\n",
    "theta = np.linspace(0, np.pi / 2)\n",
    "r = np.sqrt(1 + 0.1 * np.cos(16 * theta))\n",
    "x_1 = r * np.sin(theta)\n",
    "x_2_lower = r * np.cos(theta)\n",
    "x_2_upper = (0.5 - (x_1 - 0.5) ** 2) ** 0.5 + 0.5\n",
    "\n",
    "z = np.zeros_like(x_1)\n",
    "\n",
    "# ax2.plot(x_1, x_2_lower,'r')\n",
    "ax.fill_between(x_1, z, x_2_lower, fc=\"white\")\n",
    "circle = plt.Circle(\n",
    "    (0.5, 0.5), 0.5 ** 0.5, color=\"r\", alpha=0.25, zorder=0, label=\"Valid Region\"\n",
    ")\n",
    "ax.add_patch(circle)\n",
    "history = pd.concat(\n",
    "    [X.data, X.vocs.feasibility_data(X.data)], axis=1, ignore_index=False\n",
    ")\n",
    "\n",
    "\n",
    "ax.plot(*history[[\"x1\", \"x2\"]][history[\"feasible\"]].to_numpy().T, \".C1\")\n",
    "ax.plot(*history[[\"x1\", \"x2\"]][~history[\"feasible\"]].to_numpy().T, \".C2\")\n",
    "\n",
    "ax.set_xlim(0, 3.14)\n",
    "ax.set_ylim(0, 3.14)\n",
    "ax.set_xlabel(\"x1\")\n",
    "ax.set_ylabel(\"x2\")\n",
    "ax.set_aspect(\"equal\")"
   ]
  },
  {
   "cell_type": "markdown",
   "metadata": {
    "collapsed": false
   },
   "source": [
    "### Plot path through input space"
   ]
  },
  {
   "cell_type": "code",
   "execution_count": 5,
   "metadata": {
    "collapsed": false,
    "execution": {
     "iopub.execute_input": "2024-02-23T22:01:44.748020Z",
     "iopub.status.busy": "2024-02-23T22:01:44.747613Z",
     "iopub.status.idle": "2024-02-23T22:01:44.866832Z",
     "shell.execute_reply": "2024-02-23T22:01:44.866216Z"
    }
   },
   "outputs": [
    {
     "data": {
      "image/png": "[encoded data removed]",
      "text/plain": [
       "<Figure size 640x480 with 1 Axes>"
      ]
     },
     "metadata": {},
     "output_type": "display_data"
    }
   ],
   "source": [
    "ax = history.plot(\"x1\", \"x2\")\n",
    "ax.set_ylim(0, 3.14)\n",
    "ax.set_xlim(0, 3.14)\n",
    "ax.set_aspect(\"equal\")"
   ]
  },
  {
   "cell_type": "code",
   "execution_count": 6,
   "metadata": {
    "collapsed": false,
    "execution": {
     "iopub.execute_input": "2024-02-23T22:01:44.869264Z",
     "iopub.status.busy": "2024-02-23T22:01:44.868908Z",
     "iopub.status.idle": "2024-02-23T22:01:49.356398Z",
     "shell.execute_reply": "2024-02-23T22:01:49.355805Z"
    }
   },
   "outputs": [
    {
     "name": "stdout",
     "output_type": "stream",
     "text": [
      "[[0.85617608 0.56022887]]\n"
     ]
    },
    {
     "data": {
      "text/plain": [
       "[<matplotlib.lines.Line2D at 0x7f11bd1a5f10>]"
      ]
     },
     "execution_count": 6,
     "metadata": {},
     "output_type": "execute_result"
    },
    {
     "data": {
      "image/png": "[encoded data removed]",
      "text/plain": [
       "<Figure size 800x800 with 2 Axes>"
      ]
     },
     "metadata": {},
     "output_type": "display_data"
    },
    {
     "data": {
      "image/png": "[encoded data removed]",
      "text/plain": [
       "<Figure size 800x800 with 2 Axes>"
      ]
     },
     "metadata": {},
     "output_type": "display_data"
    }
   ],
   "source": [
    "# plot the acquisition function\n",
    "from xopt.generators.bayesian.objectives import feasibility\n",
    "\n",
    "bounds = X.generator.vocs.bounds\n",
    "model = X.generator.model\n",
    "\n",
    "# create mesh\n",
    "n = 100\n",
    "x = torch.linspace(*bounds.T[0], n)\n",
    "y = torch.linspace(*bounds.T[1], n)\n",
    "xx, yy = torch.meshgrid(x, y)\n",
    "pts = torch.hstack([ele.reshape(-1, 1) for ele in (xx, yy)]).double()\n",
    "\n",
    "xx, yy = xx.numpy(), yy.numpy()\n",
    "\n",
    "acq_func = X.generator.get_acquisition(model)\n",
    "with torch.no_grad():\n",
    "    acq_pts = pts.unsqueeze(1)\n",
    "    acq = acq_func(acq_pts)\n",
    "\n",
    "    fig, ax = plt.subplots(figsize=(8,8))\n",
    "    c = ax.pcolor(xx, yy, acq.reshape(n, n), cmap=\"Blues\")\n",
    "    fig.colorbar(c)\n",
    "    ax.set_title(\"Acquisition function\")\n",
    "\n",
    "    ax.plot(*history[[\"x1\", \"x2\"]][history[\"feasible\"]].to_numpy().T, \".C1\")\n",
    "    ax.plot(*history[[\"x1\", \"x2\"]][~history[\"feasible\"]].to_numpy().T, \".C2\")\n",
    "\n",
    "    ax.plot(*history[[\"x1\", \"x2\"]].to_numpy()[-1].T, \"+\")\n",
    "\n",
    "    feas = feasibility(pts.unsqueeze(1), model, X.vocs).flatten()\n",
    "\n",
    "    fig2, ax2 = plt.subplots(figsize=(8,8))\n",
    "    c = ax2.pcolor(xx, yy, feas.reshape(n, n))\n",
    "    fig2.colorbar(c)\n",
    "    ax2.set_title(\"Feasible Region\")\n",
    "\n",
    "candidate = pd.DataFrame(X.generator.generate(1), index=[0])\n",
    "print(candidate[[\"x1\", \"x2\"]].to_numpy())\n",
    "ax.plot(*candidate[[\"x1\", \"x2\"]].to_numpy()[0], \"o\")"
   ]
  }
 ],
 "metadata": {
  "interpreter": {
   "hash": "72034539424920dfb606fe3b820b3f27dca0cbf1c69938110810ec4641e275b1"
  },
  "kernelspec": {
   "display_name": "Python 3 (ipykernel)",
   "language": "python",
   "name": "python3"
  },
  "language_info": {
   "codemirror_mode": {
    "name": "ipython",
    "version": 3
   },
   "file_extension": ".py",
   "mimetype": "text/x-python",
   "name": "python",
   "nbconvert_exporter": "python",
   "pygments_lexer": "ipython3",
   "version": "3.9.18"
  }
 },
 "nbformat": 4,
 "nbformat_minor": 4
}
