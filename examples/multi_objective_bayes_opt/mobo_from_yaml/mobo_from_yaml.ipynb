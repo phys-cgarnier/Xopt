{
 "cells": [
  {
   "cell_type": "markdown",
   "metadata": {},
   "source": [
    "\n",
    "# Multi-objective Bayesian Optimization\n",
    "\n",
    "\n",
    "TNK function\n",
    "$n=2$ variables:\n",
    "$x_i \\in [0, \\pi], i=1,2$\n",
    "\n",
    "Objectives:\n",
    "- $f_i(x) = x_i$\n",
    "\n",
    "Constraints:\n",
    "- $g_1(x) = -x_1^2 -x_2^2 + 1 + 0.1 \\cos\\left(16 \\arctan \\frac{x_1}{x_2}\\right) \\le 0$\n",
    "- $g_2(x) = (x_1 - 1/2)^2 + (x_2-1/2)^2 \\le 0.5$"
   ]
  },
  {
   "cell_type": "code",
   "execution_count": 1,
   "metadata": {
    "collapsed": false,
    "execution": {
     "iopub.execute_input": "2024-02-01T03:58:41.211234Z",
     "iopub.status.busy": "2024-02-01T03:58:41.211062Z",
     "iopub.status.idle": "2024-02-01T03:58:42.653873Z",
     "shell.execute_reply": "2024-02-01T03:58:42.653301Z"
    }
   },
   "outputs": [],
   "source": [
    "import os\n",
    "SMOKE_TEST = os.environ.get(\"SMOKE_TEST\")\n",
    "NUM_STEPS = 2 if SMOKE_TEST else 50\n",
    "\n",
    "# Ignore all warnings\n",
    "import warnings\n",
    "warnings.filterwarnings(\"ignore\")\n",
    "\n",
    "import torch\n",
    "from xopt import Xopt\n",
    "\n",
    "\n",
    "YAML = \"\"\"\n",
    "generator:\n",
    "    name: mobo\n",
    "    reference_point: {y1: 1.5, y2: 1.5}\n",
    "\n",
    "evaluator:\n",
    "    function: xopt.resources.test_functions.tnk.evaluate_TNK\n",
    "\n",
    "vocs:\n",
    "    variables:\n",
    "        x1: [0, 3.14159]\n",
    "        x2: [0, 3.14159]\n",
    "    objectives: {y1: MINIMIZE, y2: MINIMIZE}\n",
    "    constraints:\n",
    "        c1: [GREATER_THAN, 0]\n",
    "        c2: [LESS_THAN, 0.5]\n",
    "    constants: {a: dummy_constant}\n",
    "\n",
    "\"\"\""
   ]
  },
  {
   "cell_type": "code",
   "execution_count": 2,
   "metadata": {
    "collapsed": false,
    "execution": {
     "iopub.execute_input": "2024-02-01T03:58:42.656756Z",
     "iopub.status.busy": "2024-02-01T03:58:42.656306Z",
     "iopub.status.idle": "2024-02-01T03:59:28.292556Z",
     "shell.execute_reply": "2024-02-01T03:59:28.291902Z"
    }
   },
   "outputs": [
    {
     "name": "stdout",
     "output_type": "stream",
     "text": [
      "0\n"
     ]
    },
    {
     "name": "stdout",
     "output_type": "stream",
     "text": [
      "1\n"
     ]
    },
    {
     "name": "stdout",
     "output_type": "stream",
     "text": [
      "2\n"
     ]
    },
    {
     "name": "stdout",
     "output_type": "stream",
     "text": [
      "3\n"
     ]
    },
    {
     "name": "stdout",
     "output_type": "stream",
     "text": [
      "4\n"
     ]
    },
    {
     "name": "stdout",
     "output_type": "stream",
     "text": [
      "5\n"
     ]
    },
    {
     "name": "stdout",
     "output_type": "stream",
     "text": [
      "6\n"
     ]
    },
    {
     "name": "stdout",
     "output_type": "stream",
     "text": [
      "7\n"
     ]
    },
    {
     "name": "stdout",
     "output_type": "stream",
     "text": [
      "8\n"
     ]
    },
    {
     "name": "stdout",
     "output_type": "stream",
     "text": [
      "9\n"
     ]
    },
    {
     "name": "stdout",
     "output_type": "stream",
     "text": [
      "10\n"
     ]
    },
    {
     "name": "stdout",
     "output_type": "stream",
     "text": [
      "11\n"
     ]
    },
    {
     "name": "stdout",
     "output_type": "stream",
     "text": [
      "12\n"
     ]
    },
    {
     "name": "stdout",
     "output_type": "stream",
     "text": [
      "13\n"
     ]
    },
    {
     "name": "stdout",
     "output_type": "stream",
     "text": [
      "14\n"
     ]
    },
    {
     "name": "stdout",
     "output_type": "stream",
     "text": [
      "15\n"
     ]
    },
    {
     "name": "stdout",
     "output_type": "stream",
     "text": [
      "16\n"
     ]
    },
    {
     "name": "stdout",
     "output_type": "stream",
     "text": [
      "17\n"
     ]
    },
    {
     "name": "stdout",
     "output_type": "stream",
     "text": [
      "18\n"
     ]
    },
    {
     "name": "stdout",
     "output_type": "stream",
     "text": [
      "19\n"
     ]
    },
    {
     "name": "stdout",
     "output_type": "stream",
     "text": [
      "20\n"
     ]
    },
    {
     "name": "stdout",
     "output_type": "stream",
     "text": [
      "21\n"
     ]
    },
    {
     "name": "stdout",
     "output_type": "stream",
     "text": [
      "22\n"
     ]
    },
    {
     "name": "stdout",
     "output_type": "stream",
     "text": [
      "23\n"
     ]
    },
    {
     "name": "stdout",
     "output_type": "stream",
     "text": [
      "24\n"
     ]
    },
    {
     "name": "stdout",
     "output_type": "stream",
     "text": [
      "25\n"
     ]
    },
    {
     "name": "stdout",
     "output_type": "stream",
     "text": [
      "26\n"
     ]
    },
    {
     "name": "stdout",
     "output_type": "stream",
     "text": [
      "27\n"
     ]
    },
    {
     "name": "stdout",
     "output_type": "stream",
     "text": [
      "28\n"
     ]
    },
    {
     "name": "stdout",
     "output_type": "stream",
     "text": [
      "29\n"
     ]
    },
    {
     "name": "stdout",
     "output_type": "stream",
     "text": [
      "30\n"
     ]
    },
    {
     "name": "stdout",
     "output_type": "stream",
     "text": [
      "31\n"
     ]
    },
    {
     "name": "stdout",
     "output_type": "stream",
     "text": [
      "32\n"
     ]
    },
    {
     "name": "stdout",
     "output_type": "stream",
     "text": [
      "33\n"
     ]
    },
    {
     "name": "stdout",
     "output_type": "stream",
     "text": [
      "34\n"
     ]
    },
    {
     "name": "stdout",
     "output_type": "stream",
     "text": [
      "35\n"
     ]
    },
    {
     "name": "stdout",
     "output_type": "stream",
     "text": [
      "36\n"
     ]
    },
    {
     "name": "stdout",
     "output_type": "stream",
     "text": [
      "37\n"
     ]
    },
    {
     "name": "stdout",
     "output_type": "stream",
     "text": [
      "38\n"
     ]
    },
    {
     "name": "stdout",
     "output_type": "stream",
     "text": [
      "39\n"
     ]
    },
    {
     "name": "stdout",
     "output_type": "stream",
     "text": [
      "40\n"
     ]
    },
    {
     "name": "stdout",
     "output_type": "stream",
     "text": [
      "41\n"
     ]
    },
    {
     "name": "stdout",
     "output_type": "stream",
     "text": [
      "42\n"
     ]
    },
    {
     "name": "stdout",
     "output_type": "stream",
     "text": [
      "43\n"
     ]
    },
    {
     "name": "stdout",
     "output_type": "stream",
     "text": [
      "44\n"
     ]
    },
    {
     "name": "stdout",
     "output_type": "stream",
     "text": [
      "45\n"
     ]
    },
    {
     "name": "stdout",
     "output_type": "stream",
     "text": [
      "46\n"
     ]
    },
    {
     "name": "stdout",
     "output_type": "stream",
     "text": [
      "47\n"
     ]
    },
    {
     "name": "stdout",
     "output_type": "stream",
     "text": [
      "48\n"
     ]
    },
    {
     "name": "stdout",
     "output_type": "stream",
     "text": [
      "49\n"
     ]
    }
   ],
   "source": [
    "X = Xopt.from_yaml(YAML)\n",
    "\n",
    "# for testing purposes only\n",
    "if SMOKE_TEST:\n",
    "    X.generator.numerical_optimizer.n_restarts = 1\n",
    "    X.generator.n_monte_carlo_samples = 1\n",
    "\n",
    "X.random_evaluate(5)\n",
    "for i in range(NUM_STEPS):\n",
    "    print(i)\n",
    "    X.step()"
   ]
  },
  {
   "cell_type": "code",
   "execution_count": 3,
   "metadata": {
    "collapsed": false,
    "execution": {
     "iopub.execute_input": "2024-02-01T03:59:28.295613Z",
     "iopub.status.busy": "2024-02-01T03:59:28.295116Z",
     "iopub.status.idle": "2024-02-01T03:59:28.319105Z",
     "shell.execute_reply": "2024-02-01T03:59:28.318549Z"
    }
   },
   "outputs": [
    {
     "data": {
      "text/html": [
       "<div>\n",
       "<style scoped>\n",
       "    .dataframe tbody tr th:only-of-type {\n",
       "        vertical-align: middle;\n",
       "    }\n",
       "\n",
       "    .dataframe tbody tr th {\n",
       "        vertical-align: top;\n",
       "    }\n",
       "\n",
       "    .dataframe thead th {\n",
       "        text-align: right;\n",
       "    }\n",
       "</style>\n",
       "<table border=\"1\" class=\"dataframe\">\n",
       "  <thead>\n",
       "    <tr style=\"text-align: right;\">\n",
       "      <th></th>\n",
       "      <th>x1</th>\n",
       "      <th>x2</th>\n",
       "      <th>a</th>\n",
       "      <th>y1</th>\n",
       "      <th>y2</th>\n",
       "      <th>c1</th>\n",
       "      <th>c2</th>\n",
       "      <th>xopt_runtime</th>\n",
       "      <th>xopt_error</th>\n",
       "    </tr>\n",
       "  </thead>\n",
       "  <tbody>\n",
       "    <tr>\n",
       "      <th>0</th>\n",
       "      <td>0.411052</td>\n",
       "      <td>0.470781</td>\n",
       "      <td>dummy_constant</td>\n",
       "      <td>0.411052</td>\n",
       "      <td>0.470781</td>\n",
       "      <td>-0.656353</td>\n",
       "      <td>0.008765</td>\n",
       "      <td>0.000034</td>\n",
       "      <td>False</td>\n",
       "    </tr>\n",
       "    <tr>\n",
       "      <th>1</th>\n",
       "      <td>0.997266</td>\n",
       "      <td>1.879072</td>\n",
       "      <td>dummy_constant</td>\n",
       "      <td>0.997266</td>\n",
       "      <td>1.879072</td>\n",
       "      <td>3.520731</td>\n",
       "      <td>2.149114</td>\n",
       "      <td>0.000008</td>\n",
       "      <td>False</td>\n",
       "    </tr>\n",
       "    <tr>\n",
       "      <th>2</th>\n",
       "      <td>0.135530</td>\n",
       "      <td>1.689287</td>\n",
       "      <td>dummy_constant</td>\n",
       "      <td>0.135530</td>\n",
       "      <td>1.689287</td>\n",
       "      <td>1.843475</td>\n",
       "      <td>1.547242</td>\n",
       "      <td>0.000006</td>\n",
       "      <td>False</td>\n",
       "    </tr>\n",
       "    <tr>\n",
       "      <th>3</th>\n",
       "      <td>0.637154</td>\n",
       "      <td>0.138051</td>\n",
       "      <td>dummy_constant</td>\n",
       "      <td>0.637154</td>\n",
       "      <td>0.138051</td>\n",
       "      <td>-0.478662</td>\n",
       "      <td>0.149818</td>\n",
       "      <td>0.000006</td>\n",
       "      <td>False</td>\n",
       "    </tr>\n",
       "    <tr>\n",
       "      <th>4</th>\n",
       "      <td>2.195512</td>\n",
       "      <td>0.931090</td>\n",
       "      <td>dummy_constant</td>\n",
       "      <td>2.195512</td>\n",
       "      <td>0.931090</td>\n",
       "      <td>4.588102</td>\n",
       "      <td>3.060599</td>\n",
       "      <td>0.000005</td>\n",
       "      <td>False</td>\n",
       "    </tr>\n",
       "    <tr>\n",
       "      <th>5</th>\n",
       "      <td>0.792037</td>\n",
       "      <td>0.243311</td>\n",
       "      <td>dummy_constant</td>\n",
       "      <td>0.792037</td>\n",
       "      <td>0.243311</td>\n",
       "      <td>-0.319110</td>\n",
       "      <td>0.151174</td>\n",
       "      <td>0.000023</td>\n",
       "      <td>False</td>\n",
       "    </tr>\n",
       "    <tr>\n",
       "      <th>6</th>\n",
       "      <td>0.987769</td>\n",
       "      <td>0.318358</td>\n",
       "      <td>dummy_constant</td>\n",
       "      <td>0.987769</td>\n",
       "      <td>0.318358</td>\n",
       "      <td>0.049768</td>\n",
       "      <td>0.270913</td>\n",
       "      <td>0.000023</td>\n",
       "      <td>False</td>\n",
       "    </tr>\n",
       "    <tr>\n",
       "      <th>7</th>\n",
       "      <td>0.515069</td>\n",
       "      <td>0.835303</td>\n",
       "      <td>dummy_constant</td>\n",
       "      <td>0.515069</td>\n",
       "      <td>0.835303</td>\n",
       "      <td>0.046458</td>\n",
       "      <td>0.112655</td>\n",
       "      <td>0.000022</td>\n",
       "      <td>False</td>\n",
       "    </tr>\n",
       "    <tr>\n",
       "      <th>8</th>\n",
       "      <td>0.083709</td>\n",
       "      <td>1.083502</td>\n",
       "      <td>dummy_constant</td>\n",
       "      <td>0.083709</td>\n",
       "      <td>1.083502</td>\n",
       "      <td>0.147907</td>\n",
       "      <td>0.513773</td>\n",
       "      <td>0.000023</td>\n",
       "      <td>False</td>\n",
       "    </tr>\n",
       "    <tr>\n",
       "      <th>9</th>\n",
       "      <td>0.957173</td>\n",
       "      <td>0.000000</td>\n",
       "      <td>dummy_constant</td>\n",
       "      <td>0.957173</td>\n",
       "      <td>0.000000</td>\n",
       "      <td>-0.183819</td>\n",
       "      <td>0.459008</td>\n",
       "      <td>0.000023</td>\n",
       "      <td>False</td>\n",
       "    </tr>\n",
       "    <tr>\n",
       "      <th>10</th>\n",
       "      <td>1.070417</td>\n",
       "      <td>0.167086</td>\n",
       "      <td>dummy_constant</td>\n",
       "      <td>1.070417</td>\n",
       "      <td>0.167086</td>\n",
       "      <td>0.252460</td>\n",
       "      <td>0.436208</td>\n",
       "      <td>0.000023</td>\n",
       "      <td>False</td>\n",
       "    </tr>\n",
       "    <tr>\n",
       "      <th>11</th>\n",
       "      <td>0.112201</td>\n",
       "      <td>1.058700</td>\n",
       "      <td>dummy_constant</td>\n",
       "      <td>0.112201</td>\n",
       "      <td>1.058700</td>\n",
       "      <td>0.145264</td>\n",
       "      <td>0.462534</td>\n",
       "      <td>0.000023</td>\n",
       "      <td>False</td>\n",
       "    </tr>\n",
       "    <tr>\n",
       "      <th>12</th>\n",
       "      <td>0.777968</td>\n",
       "      <td>0.662576</td>\n",
       "      <td>dummy_constant</td>\n",
       "      <td>0.777968</td>\n",
       "      <td>0.662576</td>\n",
       "      <td>0.015466</td>\n",
       "      <td>0.103697</td>\n",
       "      <td>0.000024</td>\n",
       "      <td>False</td>\n",
       "    </tr>\n",
       "    <tr>\n",
       "      <th>13</th>\n",
       "      <td>0.351673</td>\n",
       "      <td>0.944541</td>\n",
       "      <td>dummy_constant</td>\n",
       "      <td>0.351673</td>\n",
       "      <td>0.944541</td>\n",
       "      <td>-0.067790</td>\n",
       "      <td>0.219617</td>\n",
       "      <td>0.000025</td>\n",
       "      <td>False</td>\n",
       "    </tr>\n",
       "    <tr>\n",
       "      <th>14</th>\n",
       "      <td>0.883299</td>\n",
       "      <td>0.534589</td>\n",
       "      <td>dummy_constant</td>\n",
       "      <td>0.883299</td>\n",
       "      <td>0.534589</td>\n",
       "      <td>0.141393</td>\n",
       "      <td>0.148114</td>\n",
       "      <td>0.000026</td>\n",
       "      <td>False</td>\n",
       "    </tr>\n",
       "    <tr>\n",
       "      <th>15</th>\n",
       "      <td>0.590481</td>\n",
       "      <td>0.856145</td>\n",
       "      <td>dummy_constant</td>\n",
       "      <td>0.590481</td>\n",
       "      <td>0.856145</td>\n",
       "      <td>0.178887</td>\n",
       "      <td>0.135026</td>\n",
       "      <td>0.000025</td>\n",
       "      <td>False</td>\n",
       "    </tr>\n",
       "    <tr>\n",
       "      <th>16</th>\n",
       "      <td>0.665935</td>\n",
       "      <td>0.755242</td>\n",
       "      <td>dummy_constant</td>\n",
       "      <td>0.665935</td>\n",
       "      <td>0.755242</td>\n",
       "      <td>-0.039824</td>\n",
       "      <td>0.092683</td>\n",
       "      <td>0.000026</td>\n",
       "      <td>False</td>\n",
       "    </tr>\n",
       "    <tr>\n",
       "      <th>17</th>\n",
       "      <td>0.000000</td>\n",
       "      <td>0.000000</td>\n",
       "      <td>dummy_constant</td>\n",
       "      <td>0.000000</td>\n",
       "      <td>0.000000</td>\n",
       "      <td>-1.100000</td>\n",
       "      <td>0.500000</td>\n",
       "      <td>0.000025</td>\n",
       "      <td>False</td>\n",
       "    </tr>\n",
       "    <tr>\n",
       "      <th>18</th>\n",
       "      <td>0.354563</td>\n",
       "      <td>0.587583</td>\n",
       "      <td>dummy_constant</td>\n",
       "      <td>0.354563</td>\n",
       "      <td>0.587583</td>\n",
       "      <td>-0.455036</td>\n",
       "      <td>0.028823</td>\n",
       "      <td>0.000025</td>\n",
       "      <td>False</td>\n",
       "    </tr>\n",
       "    <tr>\n",
       "      <th>19</th>\n",
       "      <td>0.228643</td>\n",
       "      <td>0.813576</td>\n",
       "      <td>dummy_constant</td>\n",
       "      <td>0.228643</td>\n",
       "      <td>0.813576</td>\n",
       "      <td>-0.253516</td>\n",
       "      <td>0.171965</td>\n",
       "      <td>0.000024</td>\n",
       "      <td>False</td>\n",
       "    </tr>\n",
       "    <tr>\n",
       "      <th>20</th>\n",
       "      <td>0.927627</td>\n",
       "      <td>0.379197</td>\n",
       "      <td>dummy_constant</td>\n",
       "      <td>0.927627</td>\n",
       "      <td>0.379197</td>\n",
       "      <td>-0.095441</td>\n",
       "      <td>0.197459</td>\n",
       "      <td>0.000025</td>\n",
       "      <td>False</td>\n",
       "    </tr>\n",
       "    <tr>\n",
       "      <th>21</th>\n",
       "      <td>0.823161</td>\n",
       "      <td>0.585260</td>\n",
       "      <td>dummy_constant</td>\n",
       "      <td>0.823161</td>\n",
       "      <td>0.585260</td>\n",
       "      <td>0.109539</td>\n",
       "      <td>0.111702</td>\n",
       "      <td>0.000034</td>\n",
       "      <td>False</td>\n",
       "    </tr>\n",
       "    <tr>\n",
       "      <th>22</th>\n",
       "      <td>0.467957</td>\n",
       "      <td>0.906722</td>\n",
       "      <td>dummy_constant</td>\n",
       "      <td>0.467957</td>\n",
       "      <td>0.906722</td>\n",
       "      <td>0.018244</td>\n",
       "      <td>0.166450</td>\n",
       "      <td>0.000026</td>\n",
       "      <td>False</td>\n",
       "    </tr>\n",
       "    <tr>\n",
       "      <th>23</th>\n",
       "      <td>1.027484</td>\n",
       "      <td>0.043569</td>\n",
       "      <td>dummy_constant</td>\n",
       "      <td>1.027484</td>\n",
       "      <td>0.043569</td>\n",
       "      <td>-0.020258</td>\n",
       "      <td>0.486570</td>\n",
       "      <td>0.000024</td>\n",
       "      <td>False</td>\n",
       "    </tr>\n",
       "    <tr>\n",
       "      <th>24</th>\n",
       "      <td>0.731053</td>\n",
       "      <td>0.521927</td>\n",
       "      <td>dummy_constant</td>\n",
       "      <td>0.731053</td>\n",
       "      <td>0.521927</td>\n",
       "      <td>-0.105183</td>\n",
       "      <td>0.053866</td>\n",
       "      <td>0.000028</td>\n",
       "      <td>False</td>\n",
       "    </tr>\n",
       "    <tr>\n",
       "      <th>25</th>\n",
       "      <td>0.132983</td>\n",
       "      <td>1.014208</td>\n",
       "      <td>dummy_constant</td>\n",
       "      <td>0.132983</td>\n",
       "      <td>1.014208</td>\n",
       "      <td>0.095575</td>\n",
       "      <td>0.399111</td>\n",
       "      <td>0.000026</td>\n",
       "      <td>False</td>\n",
       "    </tr>\n",
       "    <tr>\n",
       "      <th>26</th>\n",
       "      <td>0.720037</td>\n",
       "      <td>0.696091</td>\n",
       "      <td>dummy_constant</td>\n",
       "      <td>0.720037</td>\n",
       "      <td>0.696091</td>\n",
       "      <td>-0.093366</td>\n",
       "      <td>0.086868</td>\n",
       "      <td>0.000025</td>\n",
       "      <td>False</td>\n",
       "    </tr>\n",
       "    <tr>\n",
       "      <th>27</th>\n",
       "      <td>0.664537</td>\n",
       "      <td>0.445141</td>\n",
       "      <td>dummy_constant</td>\n",
       "      <td>0.664537</td>\n",
       "      <td>0.445141</td>\n",
       "      <td>-0.260257</td>\n",
       "      <td>0.030082</td>\n",
       "      <td>0.000025</td>\n",
       "      <td>False</td>\n",
       "    </tr>\n",
       "    <tr>\n",
       "      <th>28</th>\n",
       "      <td>0.798753</td>\n",
       "      <td>0.025526</td>\n",
       "      <td>dummy_constant</td>\n",
       "      <td>0.798753</td>\n",
       "      <td>0.025526</td>\n",
       "      <td>-0.448560</td>\n",
       "      <td>0.314379</td>\n",
       "      <td>0.000023</td>\n",
       "      <td>False</td>\n",
       "    </tr>\n",
       "    <tr>\n",
       "      <th>29</th>\n",
       "      <td>0.147738</td>\n",
       "      <td>0.928737</td>\n",
       "      <td>dummy_constant</td>\n",
       "      <td>0.147738</td>\n",
       "      <td>0.928737</td>\n",
       "      <td>-0.034091</td>\n",
       "      <td>0.307904</td>\n",
       "      <td>0.000025</td>\n",
       "      <td>False</td>\n",
       "    </tr>\n",
       "    <tr>\n",
       "      <th>30</th>\n",
       "      <td>0.897083</td>\n",
       "      <td>0.459052</td>\n",
       "      <td>dummy_constant</td>\n",
       "      <td>0.897083</td>\n",
       "      <td>0.459052</td>\n",
       "      <td>-0.012760</td>\n",
       "      <td>0.159352</td>\n",
       "      <td>0.000025</td>\n",
       "      <td>False</td>\n",
       "    </tr>\n",
       "    <tr>\n",
       "      <th>31</th>\n",
       "      <td>1.006848</td>\n",
       "      <td>0.197355</td>\n",
       "      <td>dummy_constant</td>\n",
       "      <td>1.006848</td>\n",
       "      <td>0.197355</td>\n",
       "      <td>0.152592</td>\n",
       "      <td>0.348489</td>\n",
       "      <td>0.000025</td>\n",
       "      <td>False</td>\n",
       "    </tr>\n",
       "    <tr>\n",
       "      <th>32</th>\n",
       "      <td>2.641350</td>\n",
       "      <td>0.653682</td>\n",
       "      <td>dummy_constant</td>\n",
       "      <td>2.641350</td>\n",
       "      <td>0.653682</td>\n",
       "      <td>6.477869</td>\n",
       "      <td>4.608997</td>\n",
       "      <td>0.000033</td>\n",
       "      <td>False</td>\n",
       "    </tr>\n",
       "    <tr>\n",
       "      <th>33</th>\n",
       "      <td>0.853651</td>\n",
       "      <td>0.540789</td>\n",
       "      <td>dummy_constant</td>\n",
       "      <td>0.853651</td>\n",
       "      <td>0.540789</td>\n",
       "      <td>0.113675</td>\n",
       "      <td>0.126733</td>\n",
       "      <td>0.000026</td>\n",
       "      <td>False</td>\n",
       "    </tr>\n",
       "    <tr>\n",
       "      <th>34</th>\n",
       "      <td>1.049478</td>\n",
       "      <td>0.075135</td>\n",
       "      <td>dummy_constant</td>\n",
       "      <td>1.049478</td>\n",
       "      <td>0.075135</td>\n",
       "      <td>0.065610</td>\n",
       "      <td>0.482436</td>\n",
       "      <td>0.000025</td>\n",
       "      <td>False</td>\n",
       "    </tr>\n",
       "    <tr>\n",
       "      <th>35</th>\n",
       "      <td>0.878264</td>\n",
       "      <td>0.449115</td>\n",
       "      <td>dummy_constant</td>\n",
       "      <td>0.878264</td>\n",
       "      <td>0.449115</td>\n",
       "      <td>-0.055618</td>\n",
       "      <td>0.145673</td>\n",
       "      <td>0.000025</td>\n",
       "      <td>False</td>\n",
       "    </tr>\n",
       "    <tr>\n",
       "      <th>36</th>\n",
       "      <td>0.800206</td>\n",
       "      <td>0.125188</td>\n",
       "      <td>dummy_constant</td>\n",
       "      <td>0.800206</td>\n",
       "      <td>0.125188</td>\n",
       "      <td>-0.264913</td>\n",
       "      <td>0.230608</td>\n",
       "      <td>0.000026</td>\n",
       "      <td>False</td>\n",
       "    </tr>\n",
       "    <tr>\n",
       "      <th>37</th>\n",
       "      <td>0.031098</td>\n",
       "      <td>1.009346</td>\n",
       "      <td>dummy_constant</td>\n",
       "      <td>0.031098</td>\n",
       "      <td>1.009346</td>\n",
       "      <td>-0.068355</td>\n",
       "      <td>0.479302</td>\n",
       "      <td>0.000026</td>\n",
       "      <td>False</td>\n",
       "    </tr>\n",
       "    <tr>\n",
       "      <th>38</th>\n",
       "      <td>0.227201</td>\n",
       "      <td>0.981717</td>\n",
       "      <td>dummy_constant</td>\n",
       "      <td>0.227201</td>\n",
       "      <td>0.981717</td>\n",
       "      <td>0.103277</td>\n",
       "      <td>0.306470</td>\n",
       "      <td>0.000027</td>\n",
       "      <td>False</td>\n",
       "    </tr>\n",
       "    <tr>\n",
       "      <th>39</th>\n",
       "      <td>0.964265</td>\n",
       "      <td>0.239755</td>\n",
       "      <td>dummy_constant</td>\n",
       "      <td>0.964265</td>\n",
       "      <td>0.239755</td>\n",
       "      <td>0.059940</td>\n",
       "      <td>0.283270</td>\n",
       "      <td>0.000027</td>\n",
       "      <td>False</td>\n",
       "    </tr>\n",
       "    <tr>\n",
       "      <th>40</th>\n",
       "      <td>0.676771</td>\n",
       "      <td>0.271830</td>\n",
       "      <td>dummy_constant</td>\n",
       "      <td>0.676771</td>\n",
       "      <td>0.271830</td>\n",
       "      <td>-0.566610</td>\n",
       "      <td>0.083310</td>\n",
       "      <td>0.000026</td>\n",
       "      <td>False</td>\n",
       "    </tr>\n",
       "    <tr>\n",
       "      <th>41</th>\n",
       "      <td>0.442038</td>\n",
       "      <td>0.500823</td>\n",
       "      <td>dummy_constant</td>\n",
       "      <td>0.442038</td>\n",
       "      <td>0.500823</td>\n",
       "      <td>-0.608123</td>\n",
       "      <td>0.003360</td>\n",
       "      <td>0.000026</td>\n",
       "      <td>False</td>\n",
       "    </tr>\n",
       "    <tr>\n",
       "      <th>42</th>\n",
       "      <td>0.740697</td>\n",
       "      <td>0.309150</td>\n",
       "      <td>dummy_constant</td>\n",
       "      <td>0.740697</td>\n",
       "      <td>0.309150</td>\n",
       "      <td>-0.455701</td>\n",
       "      <td>0.094359</td>\n",
       "      <td>0.000026</td>\n",
       "      <td>False</td>\n",
       "    </tr>\n",
       "    <tr>\n",
       "      <th>43</th>\n",
       "      <td>0.261762</td>\n",
       "      <td>0.955408</td>\n",
       "      <td>dummy_constant</td>\n",
       "      <td>0.261762</td>\n",
       "      <td>0.955408</td>\n",
       "      <td>0.023348</td>\n",
       "      <td>0.264154</td>\n",
       "      <td>0.000026</td>\n",
       "      <td>False</td>\n",
       "    </tr>\n",
       "    <tr>\n",
       "      <th>44</th>\n",
       "      <td>0.062660</td>\n",
       "      <td>1.181938</td>\n",
       "      <td>dummy_constant</td>\n",
       "      <td>0.062660</td>\n",
       "      <td>1.181938</td>\n",
       "      <td>0.334713</td>\n",
       "      <td>0.656306</td>\n",
       "      <td>0.000027</td>\n",
       "      <td>False</td>\n",
       "    </tr>\n",
       "    <tr>\n",
       "      <th>45</th>\n",
       "      <td>0.390315</td>\n",
       "      <td>0.166001</td>\n",
       "      <td>dummy_constant</td>\n",
       "      <td>0.390315</td>\n",
       "      <td>0.166001</td>\n",
       "      <td>-0.918963</td>\n",
       "      <td>0.123586</td>\n",
       "      <td>0.000026</td>\n",
       "      <td>False</td>\n",
       "    </tr>\n",
       "    <tr>\n",
       "      <th>46</th>\n",
       "      <td>0.148267</td>\n",
       "      <td>0.879334</td>\n",
       "      <td>dummy_constant</td>\n",
       "      <td>0.148267</td>\n",
       "      <td>0.879334</td>\n",
       "      <td>-0.115583</td>\n",
       "      <td>0.267610</td>\n",
       "      <td>0.000026</td>\n",
       "      <td>False</td>\n",
       "    </tr>\n",
       "    <tr>\n",
       "      <th>47</th>\n",
       "      <td>0.059816</td>\n",
       "      <td>0.493742</td>\n",
       "      <td>dummy_constant</td>\n",
       "      <td>0.059816</td>\n",
       "      <td>0.493742</td>\n",
       "      <td>-0.717584</td>\n",
       "      <td>0.193801</td>\n",
       "      <td>0.000026</td>\n",
       "      <td>False</td>\n",
       "    </tr>\n",
       "    <tr>\n",
       "      <th>48</th>\n",
       "      <td>0.884652</td>\n",
       "      <td>0.133432</td>\n",
       "      <td>dummy_constant</td>\n",
       "      <td>0.884652</td>\n",
       "      <td>0.133432</td>\n",
       "      <td>-0.126171</td>\n",
       "      <td>0.282329</td>\n",
       "      <td>0.000024</td>\n",
       "      <td>False</td>\n",
       "    </tr>\n",
       "    <tr>\n",
       "      <th>49</th>\n",
       "      <td>0.833442</td>\n",
       "      <td>0.013901</td>\n",
       "      <td>dummy_constant</td>\n",
       "      <td>0.833442</td>\n",
       "      <td>0.013901</td>\n",
       "      <td>-0.401642</td>\n",
       "      <td>0.347475</td>\n",
       "      <td>0.000026</td>\n",
       "      <td>False</td>\n",
       "    </tr>\n",
       "    <tr>\n",
       "      <th>50</th>\n",
       "      <td>0.427051</td>\n",
       "      <td>0.579799</td>\n",
       "      <td>dummy_constant</td>\n",
       "      <td>0.427051</td>\n",
       "      <td>0.579799</td>\n",
       "      <td>-0.407117</td>\n",
       "      <td>0.011689</td>\n",
       "      <td>0.000026</td>\n",
       "      <td>False</td>\n",
       "    </tr>\n",
       "    <tr>\n",
       "      <th>51</th>\n",
       "      <td>0.876647</td>\n",
       "      <td>0.306602</td>\n",
       "      <td>dummy_constant</td>\n",
       "      <td>0.876647</td>\n",
       "      <td>0.306602</td>\n",
       "      <td>-0.199643</td>\n",
       "      <td>0.179266</td>\n",
       "      <td>0.000026</td>\n",
       "      <td>False</td>\n",
       "    </tr>\n",
       "    <tr>\n",
       "      <th>52</th>\n",
       "      <td>0.465328</td>\n",
       "      <td>0.195947</td>\n",
       "      <td>dummy_constant</td>\n",
       "      <td>0.465328</td>\n",
       "      <td>0.195947</td>\n",
       "      <td>-0.844635</td>\n",
       "      <td>0.093650</td>\n",
       "      <td>0.000024</td>\n",
       "      <td>False</td>\n",
       "    </tr>\n",
       "    <tr>\n",
       "      <th>53</th>\n",
       "      <td>0.361944</td>\n",
       "      <td>0.651514</td>\n",
       "      <td>dummy_constant</td>\n",
       "      <td>0.361944</td>\n",
       "      <td>0.651514</td>\n",
       "      <td>-0.418871</td>\n",
       "      <td>0.042016</td>\n",
       "      <td>0.000025</td>\n",
       "      <td>False</td>\n",
       "    </tr>\n",
       "    <tr>\n",
       "      <th>54</th>\n",
       "      <td>0.909342</td>\n",
       "      <td>0.413532</td>\n",
       "      <td>dummy_constant</td>\n",
       "      <td>0.909342</td>\n",
       "      <td>0.413532</td>\n",
       "      <td>-0.087565</td>\n",
       "      <td>0.175038</td>\n",
       "      <td>0.000026</td>\n",
       "      <td>False</td>\n",
       "    </tr>\n",
       "  </tbody>\n",
       "</table>\n",
       "</div>"
      ],
      "text/plain": [
       "          x1        x2               a        y1        y2        c1  \\\n",
       "0   0.411052  0.470781  dummy_constant  0.411052  0.470781 -0.656353   \n",
       "1   0.997266  1.879072  dummy_constant  0.997266  1.879072  3.520731   \n",
       "2   0.135530  1.689287  dummy_constant  0.135530  1.689287  1.843475   \n",
       "3   0.637154  0.138051  dummy_constant  0.637154  0.138051 -0.478662   \n",
       "4   2.195512  0.931090  dummy_constant  2.195512  0.931090  4.588102   \n",
       "5   0.792037  0.243311  dummy_constant  0.792037  0.243311 -0.319110   \n",
       "6   0.987769  0.318358  dummy_constant  0.987769  0.318358  0.049768   \n",
       "7   0.515069  0.835303  dummy_constant  0.515069  0.835303  0.046458   \n",
       "8   0.083709  1.083502  dummy_constant  0.083709  1.083502  0.147907   \n",
       "9   0.957173  0.000000  dummy_constant  0.957173  0.000000 -0.183819   \n",
       "10  1.070417  0.167086  dummy_constant  1.070417  0.167086  0.252460   \n",
       "11  0.112201  1.058700  dummy_constant  0.112201  1.058700  0.145264   \n",
       "12  0.777968  0.662576  dummy_constant  0.777968  0.662576  0.015466   \n",
       "13  0.351673  0.944541  dummy_constant  0.351673  0.944541 -0.067790   \n",
       "14  0.883299  0.534589  dummy_constant  0.883299  0.534589  0.141393   \n",
       "15  0.590481  0.856145  dummy_constant  0.590481  0.856145  0.178887   \n",
       "16  0.665935  0.755242  dummy_constant  0.665935  0.755242 -0.039824   \n",
       "17  0.000000  0.000000  dummy_constant  0.000000  0.000000 -1.100000   \n",
       "18  0.354563  0.587583  dummy_constant  0.354563  0.587583 -0.455036   \n",
       "19  0.228643  0.813576  dummy_constant  0.228643  0.813576 -0.253516   \n",
       "20  0.927627  0.379197  dummy_constant  0.927627  0.379197 -0.095441   \n",
       "21  0.823161  0.585260  dummy_constant  0.823161  0.585260  0.109539   \n",
       "22  0.467957  0.906722  dummy_constant  0.467957  0.906722  0.018244   \n",
       "23  1.027484  0.043569  dummy_constant  1.027484  0.043569 -0.020258   \n",
       "24  0.731053  0.521927  dummy_constant  0.731053  0.521927 -0.105183   \n",
       "25  0.132983  1.014208  dummy_constant  0.132983  1.014208  0.095575   \n",
       "26  0.720037  0.696091  dummy_constant  0.720037  0.696091 -0.093366   \n",
       "27  0.664537  0.445141  dummy_constant  0.664537  0.445141 -0.260257   \n",
       "28  0.798753  0.025526  dummy_constant  0.798753  0.025526 -0.448560   \n",
       "29  0.147738  0.928737  dummy_constant  0.147738  0.928737 -0.034091   \n",
       "30  0.897083  0.459052  dummy_constant  0.897083  0.459052 -0.012760   \n",
       "31  1.006848  0.197355  dummy_constant  1.006848  0.197355  0.152592   \n",
       "32  2.641350  0.653682  dummy_constant  2.641350  0.653682  6.477869   \n",
       "33  0.853651  0.540789  dummy_constant  0.853651  0.540789  0.113675   \n",
       "34  1.049478  0.075135  dummy_constant  1.049478  0.075135  0.065610   \n",
       "35  0.878264  0.449115  dummy_constant  0.878264  0.449115 -0.055618   \n",
       "36  0.800206  0.125188  dummy_constant  0.800206  0.125188 -0.264913   \n",
       "37  0.031098  1.009346  dummy_constant  0.031098  1.009346 -0.068355   \n",
       "38  0.227201  0.981717  dummy_constant  0.227201  0.981717  0.103277   \n",
       "39  0.964265  0.239755  dummy_constant  0.964265  0.239755  0.059940   \n",
       "40  0.676771  0.271830  dummy_constant  0.676771  0.271830 -0.566610   \n",
       "41  0.442038  0.500823  dummy_constant  0.442038  0.500823 -0.608123   \n",
       "42  0.740697  0.309150  dummy_constant  0.740697  0.309150 -0.455701   \n",
       "43  0.261762  0.955408  dummy_constant  0.261762  0.955408  0.023348   \n",
       "44  0.062660  1.181938  dummy_constant  0.062660  1.181938  0.334713   \n",
       "45  0.390315  0.166001  dummy_constant  0.390315  0.166001 -0.918963   \n",
       "46  0.148267  0.879334  dummy_constant  0.148267  0.879334 -0.115583   \n",
       "47  0.059816  0.493742  dummy_constant  0.059816  0.493742 -0.717584   \n",
       "48  0.884652  0.133432  dummy_constant  0.884652  0.133432 -0.126171   \n",
       "49  0.833442  0.013901  dummy_constant  0.833442  0.013901 -0.401642   \n",
       "50  0.427051  0.579799  dummy_constant  0.427051  0.579799 -0.407117   \n",
       "51  0.876647  0.306602  dummy_constant  0.876647  0.306602 -0.199643   \n",
       "52  0.465328  0.195947  dummy_constant  0.465328  0.195947 -0.844635   \n",
       "53  0.361944  0.651514  dummy_constant  0.361944  0.651514 -0.418871   \n",
       "54  0.909342  0.413532  dummy_constant  0.909342  0.413532 -0.087565   \n",
       "\n",
       "          c2  xopt_runtime  xopt_error  \n",
       "0   0.008765      0.000034       False  \n",
       "1   2.149114      0.000008       False  \n",
       "2   1.547242      0.000006       False  \n",
       "3   0.149818      0.000006       False  \n",
       "4   3.060599      0.000005       False  \n",
       "5   0.151174      0.000023       False  \n",
       "6   0.270913      0.000023       False  \n",
       "7   0.112655      0.000022       False  \n",
       "8   0.513773      0.000023       False  \n",
       "9   0.459008      0.000023       False  \n",
       "10  0.436208      0.000023       False  \n",
       "11  0.462534      0.000023       False  \n",
       "12  0.103697      0.000024       False  \n",
       "13  0.219617      0.000025       False  \n",
       "14  0.148114      0.000026       False  \n",
       "15  0.135026      0.000025       False  \n",
       "16  0.092683      0.000026       False  \n",
       "17  0.500000      0.000025       False  \n",
       "18  0.028823      0.000025       False  \n",
       "19  0.171965      0.000024       False  \n",
       "20  0.197459      0.000025       False  \n",
       "21  0.111702      0.000034       False  \n",
       "22  0.166450      0.000026       False  \n",
       "23  0.486570      0.000024       False  \n",
       "24  0.053866      0.000028       False  \n",
       "25  0.399111      0.000026       False  \n",
       "26  0.086868      0.000025       False  \n",
       "27  0.030082      0.000025       False  \n",
       "28  0.314379      0.000023       False  \n",
       "29  0.307904      0.000025       False  \n",
       "30  0.159352      0.000025       False  \n",
       "31  0.348489      0.000025       False  \n",
       "32  4.608997      0.000033       False  \n",
       "33  0.126733      0.000026       False  \n",
       "34  0.482436      0.000025       False  \n",
       "35  0.145673      0.000025       False  \n",
       "36  0.230608      0.000026       False  \n",
       "37  0.479302      0.000026       False  \n",
       "38  0.306470      0.000027       False  \n",
       "39  0.283270      0.000027       False  \n",
       "40  0.083310      0.000026       False  \n",
       "41  0.003360      0.000026       False  \n",
       "42  0.094359      0.000026       False  \n",
       "43  0.264154      0.000026       False  \n",
       "44  0.656306      0.000027       False  \n",
       "45  0.123586      0.000026       False  \n",
       "46  0.267610      0.000026       False  \n",
       "47  0.193801      0.000026       False  \n",
       "48  0.282329      0.000024       False  \n",
       "49  0.347475      0.000026       False  \n",
       "50  0.011689      0.000026       False  \n",
       "51  0.179266      0.000026       False  \n",
       "52  0.093650      0.000024       False  \n",
       "53  0.042016      0.000025       False  \n",
       "54  0.175038      0.000026       False  "
      ]
     },
     "execution_count": 3,
     "metadata": {},
     "output_type": "execute_result"
    }
   ],
   "source": [
    "X.generator.data"
   ]
  },
  {
   "cell_type": "markdown",
   "metadata": {
    "collapsed": false
   },
   "source": [
    "## plot results\n"
   ]
  },
  {
   "cell_type": "code",
   "execution_count": 4,
   "metadata": {
    "collapsed": false,
    "execution": {
     "iopub.execute_input": "2024-02-01T03:59:28.321556Z",
     "iopub.status.busy": "2024-02-01T03:59:28.321168Z",
     "iopub.status.idle": "2024-02-01T03:59:28.827257Z",
     "shell.execute_reply": "2024-02-01T03:59:28.826609Z"
    }
   },
   "outputs": [
    {
     "data": {
      "image/png": "[encoded data removed]",
      "text/plain": [
       "<Figure size 640x480 with 1 Axes>"
      ]
     },
     "metadata": {},
     "output_type": "display_data"
    }
   ],
   "source": [
    "import matplotlib.pyplot as plt\n",
    "import numpy as np\n",
    "import pandas as pd\n",
    "\n",
    "fig, ax = plt.subplots()\n",
    "\n",
    "theta = np.linspace(0, np.pi / 2)\n",
    "r = np.sqrt(1 + 0.1 * np.cos(16 * theta))\n",
    "x_1 = r * np.sin(theta)\n",
    "x_2_lower = r * np.cos(theta)\n",
    "x_2_upper = (0.5 - (x_1 - 0.5) ** 2) ** 0.5 + 0.5\n",
    "\n",
    "z = np.zeros_like(x_1)\n",
    "\n",
    "# ax2.plot(x_1, x_2_lower,'r')\n",
    "ax.fill_between(x_1, z, x_2_lower, fc=\"white\")\n",
    "circle = plt.Circle(\n",
    "    (0.5, 0.5), 0.5 ** 0.5, color=\"r\", alpha=0.25, zorder=0, label=\"Valid Region\"\n",
    ")\n",
    "ax.add_patch(circle)\n",
    "history = pd.concat(\n",
    "    [X.data, X.vocs.feasibility_data(X.data)], axis=1, ignore_index=False\n",
    ")\n",
    "\n",
    "\n",
    "ax.plot(*history[[\"x1\", \"x2\"]][history[\"feasible\"]].to_numpy().T, \".C1\")\n",
    "ax.plot(*history[[\"x1\", \"x2\"]][~history[\"feasible\"]].to_numpy().T, \".C2\")\n",
    "\n",
    "ax.set_xlim(0, 3.14)\n",
    "ax.set_ylim(0, 3.14)\n",
    "ax.set_xlabel(\"x1\")\n",
    "ax.set_ylabel(\"x2\")\n",
    "ax.set_aspect(\"equal\")"
   ]
  },
  {
   "cell_type": "markdown",
   "metadata": {
    "collapsed": false
   },
   "source": [
    "### Plot path through input space"
   ]
  },
  {
   "cell_type": "code",
   "execution_count": 5,
   "metadata": {
    "collapsed": false,
    "execution": {
     "iopub.execute_input": "2024-02-01T03:59:28.829854Z",
     "iopub.status.busy": "2024-02-01T03:59:28.829442Z",
     "iopub.status.idle": "2024-02-01T03:59:28.944807Z",
     "shell.execute_reply": "2024-02-01T03:59:28.944091Z"
    }
   },
   "outputs": [
    {
     "data": {
      "image/png": "[encoded data removed]",
      "text/plain": [
       "<Figure size 640x480 with 1 Axes>"
      ]
     },
     "metadata": {},
     "output_type": "display_data"
    }
   ],
   "source": [
    "ax = history.plot(\"x1\", \"x2\")\n",
    "ax.set_ylim(0, 3.14)\n",
    "ax.set_xlim(0, 3.14)\n",
    "ax.set_aspect(\"equal\")"
   ]
  },
  {
   "cell_type": "code",
   "execution_count": 6,
   "metadata": {
    "collapsed": false,
    "execution": {
     "iopub.execute_input": "2024-02-01T03:59:28.947250Z",
     "iopub.status.busy": "2024-02-01T03:59:28.946879Z",
     "iopub.status.idle": "2024-02-01T03:59:34.209776Z",
     "shell.execute_reply": "2024-02-01T03:59:34.209186Z"
    }
   },
   "outputs": [
    {
     "name": "stdout",
     "output_type": "stream",
     "text": [
      "[[0.87107718 0.48745431]]\n"
     ]
    },
    {
     "data": {
      "text/plain": [
       "[<matplotlib.lines.Line2D at 0x7fbc7a6d85b0>]"
      ]
     },
     "execution_count": 6,
     "metadata": {},
     "output_type": "execute_result"
    },
    {
     "data": {
      "image/png": "[encoded data removed]",
      "text/plain": [
       "<Figure size 800x800 with 2 Axes>"
      ]
     },
     "metadata": {},
     "output_type": "display_data"
    },
    {
     "data": {
      "image/png": "[encoded data removed]",
      "text/plain": [
       "<Figure size 800x800 with 2 Axes>"
      ]
     },
     "metadata": {},
     "output_type": "display_data"
    }
   ],
   "source": [
    "# plot the acquisition function\n",
    "from xopt.generators.bayesian.objectives import feasibility\n",
    "\n",
    "bounds = X.generator.vocs.bounds\n",
    "model = X.generator.model\n",
    "\n",
    "# create mesh\n",
    "n = 100\n",
    "x = torch.linspace(*bounds.T[0], n)\n",
    "y = torch.linspace(*bounds.T[1], n)\n",
    "xx, yy = torch.meshgrid(x, y)\n",
    "pts = torch.hstack([ele.reshape(-1, 1) for ele in (xx, yy)]).double()\n",
    "\n",
    "xx, yy = xx.numpy(), yy.numpy()\n",
    "\n",
    "acq_func = X.generator.get_acquisition(model)\n",
    "with torch.no_grad():\n",
    "    acq_pts = pts.unsqueeze(1)\n",
    "    acq = acq_func(acq_pts)\n",
    "\n",
    "    fig, ax = plt.subplots(figsize=(8,8))\n",
    "    c = ax.pcolor(xx, yy, acq.reshape(n, n), cmap=\"Blues\")\n",
    "    fig.colorbar(c)\n",
    "    ax.set_title(\"Acquisition function\")\n",
    "\n",
    "    ax.plot(*history[[\"x1\", \"x2\"]][history[\"feasible\"]].to_numpy().T, \".C1\")\n",
    "    ax.plot(*history[[\"x1\", \"x2\"]][~history[\"feasible\"]].to_numpy().T, \".C2\")\n",
    "\n",
    "    ax.plot(*history[[\"x1\", \"x2\"]].to_numpy()[-1].T, \"+\")\n",
    "\n",
    "    feas = feasibility(pts.unsqueeze(1), model, X.vocs).flatten()\n",
    "\n",
    "    fig2, ax2 = plt.subplots(figsize=(8,8))\n",
    "    c = ax2.pcolor(xx, yy, feas.reshape(n, n))\n",
    "    fig2.colorbar(c)\n",
    "    ax2.set_title(\"Feasible Region\")\n",
    "\n",
    "candidate = pd.DataFrame(X.generator.generate(1), index=[0])\n",
    "print(candidate[[\"x1\", \"x2\"]].to_numpy())\n",
    "ax.plot(*candidate[[\"x1\", \"x2\"]].to_numpy()[0], \"o\")"
   ]
  }
 ],
 "metadata": {
  "interpreter": {
   "hash": "72034539424920dfb606fe3b820b3f27dca0cbf1c69938110810ec4641e275b1"
  },
  "kernelspec": {
   "display_name": "Python 3 (ipykernel)",
   "language": "python",
   "name": "python3"
  },
  "language_info": {
   "codemirror_mode": {
    "name": "ipython",
    "version": 3
   },
   "file_extension": ".py",
   "mimetype": "text/x-python",
   "name": "python",
   "nbconvert_exporter": "python",
   "pygments_lexer": "ipython3",
   "version": "3.9.18"
  }
 },
 "nbformat": 4,
 "nbformat_minor": 4
}
