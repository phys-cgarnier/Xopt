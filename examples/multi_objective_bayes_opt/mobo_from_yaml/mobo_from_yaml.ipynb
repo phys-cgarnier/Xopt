{
 "cells": [
  {
   "cell_type": "markdown",
   "metadata": {},
   "source": [
    "\n",
    "# Multi-objective Bayesian Optimization\n",
    "\n",
    "\n",
    "TNK function\n",
    "$n=2$ variables:\n",
    "$x_i \\in [0, \\pi], i=1,2$\n",
    "\n",
    "Objectives:\n",
    "- $f_i(x) = x_i$\n",
    "\n",
    "Constraints:\n",
    "- $g_1(x) = -x_1^2 -x_2^2 + 1 + 0.1 \\cos\\left(16 \\arctan \\frac{x_1}{x_2}\\right) \\le 0$\n",
    "- $g_2(x) = (x_1 - 1/2)^2 + (x_2-1/2)^2 \\le 0.5$"
   ]
  },
  {
   "cell_type": "code",
   "execution_count": 1,
   "metadata": {
    "collapsed": false,
    "execution": {
     "iopub.execute_input": "2024-01-23T15:27:54.340995Z",
     "iopub.status.busy": "2024-01-23T15:27:54.340817Z",
     "iopub.status.idle": "2024-01-23T15:27:55.815320Z",
     "shell.execute_reply": "2024-01-23T15:27:55.814745Z"
    }
   },
   "outputs": [],
   "source": [
    "import os\n",
    "SMOKE_TEST = os.environ.get(\"SMOKE_TEST\")\n",
    "NUM_STEPS = 2 if SMOKE_TEST else 50\n",
    "\n",
    "# Ignore all warnings\n",
    "import warnings\n",
    "warnings.filterwarnings(\"ignore\")\n",
    "\n",
    "import torch\n",
    "from xopt import Xopt\n",
    "\n",
    "\n",
    "YAML = \"\"\"\n",
    "generator:\n",
    "    name: mobo\n",
    "    reference_point: {y1: 1.5, y2: 1.5}\n",
    "\n",
    "evaluator:\n",
    "    function: xopt.resources.test_functions.tnk.evaluate_TNK\n",
    "\n",
    "vocs:\n",
    "    variables:\n",
    "        x1: [0, 3.14159]\n",
    "        x2: [0, 3.14159]\n",
    "    objectives: {y1: MINIMIZE, y2: MINIMIZE}\n",
    "    constraints:\n",
    "        c1: [GREATER_THAN, 0]\n",
    "        c2: [LESS_THAN, 0.5]\n",
    "    constants: {a: dummy_constant}\n",
    "\n",
    "\"\"\""
   ]
  },
  {
   "cell_type": "code",
   "execution_count": 2,
   "metadata": {
    "collapsed": false,
    "execution": {
     "iopub.execute_input": "2024-01-23T15:27:55.818126Z",
     "iopub.status.busy": "2024-01-23T15:27:55.817723Z",
     "iopub.status.idle": "2024-01-23T15:28:54.688819Z",
     "shell.execute_reply": "2024-01-23T15:28:54.688201Z"
    }
   },
   "outputs": [
    {
     "name": "stdout",
     "output_type": "stream",
     "text": [
      "0\n"
     ]
    },
    {
     "name": "stdout",
     "output_type": "stream",
     "text": [
      "1\n"
     ]
    },
    {
     "name": "stdout",
     "output_type": "stream",
     "text": [
      "2\n"
     ]
    },
    {
     "name": "stdout",
     "output_type": "stream",
     "text": [
      "3\n"
     ]
    },
    {
     "name": "stdout",
     "output_type": "stream",
     "text": [
      "4\n"
     ]
    },
    {
     "name": "stdout",
     "output_type": "stream",
     "text": [
      "5\n"
     ]
    },
    {
     "name": "stdout",
     "output_type": "stream",
     "text": [
      "6\n"
     ]
    },
    {
     "name": "stdout",
     "output_type": "stream",
     "text": [
      "7\n"
     ]
    },
    {
     "name": "stdout",
     "output_type": "stream",
     "text": [
      "8\n"
     ]
    },
    {
     "name": "stdout",
     "output_type": "stream",
     "text": [
      "9\n"
     ]
    },
    {
     "name": "stdout",
     "output_type": "stream",
     "text": [
      "10\n"
     ]
    },
    {
     "name": "stdout",
     "output_type": "stream",
     "text": [
      "11\n"
     ]
    },
    {
     "name": "stdout",
     "output_type": "stream",
     "text": [
      "12\n"
     ]
    },
    {
     "name": "stdout",
     "output_type": "stream",
     "text": [
      "13\n"
     ]
    },
    {
     "name": "stdout",
     "output_type": "stream",
     "text": [
      "14\n"
     ]
    },
    {
     "name": "stdout",
     "output_type": "stream",
     "text": [
      "15\n"
     ]
    },
    {
     "name": "stdout",
     "output_type": "stream",
     "text": [
      "16\n"
     ]
    },
    {
     "name": "stdout",
     "output_type": "stream",
     "text": [
      "17\n"
     ]
    },
    {
     "name": "stdout",
     "output_type": "stream",
     "text": [
      "18\n"
     ]
    },
    {
     "name": "stdout",
     "output_type": "stream",
     "text": [
      "19\n"
     ]
    },
    {
     "name": "stdout",
     "output_type": "stream",
     "text": [
      "20\n"
     ]
    },
    {
     "name": "stdout",
     "output_type": "stream",
     "text": [
      "21\n"
     ]
    },
    {
     "name": "stdout",
     "output_type": "stream",
     "text": [
      "22\n"
     ]
    },
    {
     "name": "stdout",
     "output_type": "stream",
     "text": [
      "23\n"
     ]
    },
    {
     "name": "stdout",
     "output_type": "stream",
     "text": [
      "24\n"
     ]
    },
    {
     "name": "stdout",
     "output_type": "stream",
     "text": [
      "25\n"
     ]
    },
    {
     "name": "stdout",
     "output_type": "stream",
     "text": [
      "26\n"
     ]
    },
    {
     "name": "stdout",
     "output_type": "stream",
     "text": [
      "27\n"
     ]
    },
    {
     "name": "stdout",
     "output_type": "stream",
     "text": [
      "28\n"
     ]
    },
    {
     "name": "stdout",
     "output_type": "stream",
     "text": [
      "29\n"
     ]
    },
    {
     "name": "stdout",
     "output_type": "stream",
     "text": [
      "30\n"
     ]
    },
    {
     "name": "stdout",
     "output_type": "stream",
     "text": [
      "31\n"
     ]
    },
    {
     "name": "stdout",
     "output_type": "stream",
     "text": [
      "32\n"
     ]
    },
    {
     "name": "stdout",
     "output_type": "stream",
     "text": [
      "33\n"
     ]
    },
    {
     "name": "stdout",
     "output_type": "stream",
     "text": [
      "34\n"
     ]
    },
    {
     "name": "stdout",
     "output_type": "stream",
     "text": [
      "35\n"
     ]
    },
    {
     "name": "stdout",
     "output_type": "stream",
     "text": [
      "36\n"
     ]
    },
    {
     "name": "stdout",
     "output_type": "stream",
     "text": [
      "37\n"
     ]
    },
    {
     "name": "stdout",
     "output_type": "stream",
     "text": [
      "38\n"
     ]
    },
    {
     "name": "stdout",
     "output_type": "stream",
     "text": [
      "39\n"
     ]
    },
    {
     "name": "stdout",
     "output_type": "stream",
     "text": [
      "40\n"
     ]
    },
    {
     "name": "stdout",
     "output_type": "stream",
     "text": [
      "41\n"
     ]
    },
    {
     "name": "stdout",
     "output_type": "stream",
     "text": [
      "42\n"
     ]
    },
    {
     "name": "stdout",
     "output_type": "stream",
     "text": [
      "43\n"
     ]
    },
    {
     "name": "stdout",
     "output_type": "stream",
     "text": [
      "44\n"
     ]
    },
    {
     "name": "stdout",
     "output_type": "stream",
     "text": [
      "45\n"
     ]
    },
    {
     "name": "stdout",
     "output_type": "stream",
     "text": [
      "46\n"
     ]
    },
    {
     "name": "stdout",
     "output_type": "stream",
     "text": [
      "47\n"
     ]
    },
    {
     "name": "stdout",
     "output_type": "stream",
     "text": [
      "48\n"
     ]
    },
    {
     "name": "stdout",
     "output_type": "stream",
     "text": [
      "49\n"
     ]
    }
   ],
   "source": [
    "X = Xopt.from_yaml(YAML)\n",
    "\n",
    "# for testing purposes only\n",
    "if SMOKE_TEST:\n",
    "    X.generator.numerical_optimizer.n_restarts = 1\n",
    "    X.generator.n_monte_carlo_samples = 1\n",
    "\n",
    "X.random_evaluate(5)\n",
    "for i in range(NUM_STEPS):\n",
    "    print(i)\n",
    "    X.step()"
   ]
  },
  {
   "cell_type": "code",
   "execution_count": 3,
   "metadata": {
    "collapsed": false,
    "execution": {
     "iopub.execute_input": "2024-01-23T15:28:54.692078Z",
     "iopub.status.busy": "2024-01-23T15:28:54.691536Z",
     "iopub.status.idle": "2024-01-23T15:28:54.709917Z",
     "shell.execute_reply": "2024-01-23T15:28:54.709392Z"
    }
   },
   "outputs": [
    {
     "data": {
      "text/html": [
       "<div>\n",
       "<style scoped>\n",
       "    .dataframe tbody tr th:only-of-type {\n",
       "        vertical-align: middle;\n",
       "    }\n",
       "\n",
       "    .dataframe tbody tr th {\n",
       "        vertical-align: top;\n",
       "    }\n",
       "\n",
       "    .dataframe thead th {\n",
       "        text-align: right;\n",
       "    }\n",
       "</style>\n",
       "<table border=\"1\" class=\"dataframe\">\n",
       "  <thead>\n",
       "    <tr style=\"text-align: right;\">\n",
       "      <th></th>\n",
       "      <th>x1</th>\n",
       "      <th>x2</th>\n",
       "      <th>a</th>\n",
       "      <th>y1</th>\n",
       "      <th>y2</th>\n",
       "      <th>c1</th>\n",
       "      <th>c2</th>\n",
       "      <th>xopt_runtime</th>\n",
       "      <th>xopt_error</th>\n",
       "    </tr>\n",
       "  </thead>\n",
       "  <tbody>\n",
       "    <tr>\n",
       "      <th>0</th>\n",
       "      <td>2.865223</td>\n",
       "      <td>1.895121</td>\n",
       "      <td>dummy_constant</td>\n",
       "      <td>2.865223</td>\n",
       "      <td>1.895121</td>\n",
       "      <td>10.900702</td>\n",
       "      <td>7.540639</td>\n",
       "      <td>0.000034</td>\n",
       "      <td>False</td>\n",
       "    </tr>\n",
       "    <tr>\n",
       "      <th>1</th>\n",
       "      <td>2.671787</td>\n",
       "      <td>2.349430</td>\n",
       "      <td>dummy_constant</td>\n",
       "      <td>2.671787</td>\n",
       "      <td>2.349430</td>\n",
       "      <td>11.606421</td>\n",
       "      <td>8.137048</td>\n",
       "      <td>0.000009</td>\n",
       "      <td>False</td>\n",
       "    </tr>\n",
       "    <tr>\n",
       "      <th>2</th>\n",
       "      <td>0.279484</td>\n",
       "      <td>0.470337</td>\n",
       "      <td>dummy_constant</td>\n",
       "      <td>0.279484</td>\n",
       "      <td>0.470337</td>\n",
       "      <td>-0.634391</td>\n",
       "      <td>0.049507</td>\n",
       "      <td>0.000007</td>\n",
       "      <td>False</td>\n",
       "    </tr>\n",
       "    <tr>\n",
       "      <th>3</th>\n",
       "      <td>2.170609</td>\n",
       "      <td>3.137243</td>\n",
       "      <td>dummy_constant</td>\n",
       "      <td>2.170609</td>\n",
       "      <td>3.137243</td>\n",
       "      <td>13.650497</td>\n",
       "      <td>9.745989</td>\n",
       "      <td>0.000006</td>\n",
       "      <td>False</td>\n",
       "    </tr>\n",
       "    <tr>\n",
       "      <th>4</th>\n",
       "      <td>2.323181</td>\n",
       "      <td>2.211292</td>\n",
       "      <td>dummy_constant</td>\n",
       "      <td>2.323181</td>\n",
       "      <td>2.211292</td>\n",
       "      <td>9.194674</td>\n",
       "      <td>6.252511</td>\n",
       "      <td>0.000006</td>\n",
       "      <td>False</td>\n",
       "    </tr>\n",
       "    <tr>\n",
       "      <th>5</th>\n",
       "      <td>0.059904</td>\n",
       "      <td>0.239681</td>\n",
       "      <td>dummy_constant</td>\n",
       "      <td>0.059904</td>\n",
       "      <td>0.239681</td>\n",
       "      <td>-0.867665</td>\n",
       "      <td>0.261451</td>\n",
       "      <td>0.000023</td>\n",
       "      <td>False</td>\n",
       "    </tr>\n",
       "    <tr>\n",
       "      <th>6</th>\n",
       "      <td>0.310884</td>\n",
       "      <td>0.002684</td>\n",
       "      <td>dummy_constant</td>\n",
       "      <td>0.310884</td>\n",
       "      <td>0.002684</td>\n",
       "      <td>-1.002391</td>\n",
       "      <td>0.283088</td>\n",
       "      <td>0.000024</td>\n",
       "      <td>False</td>\n",
       "    </tr>\n",
       "    <tr>\n",
       "      <th>7</th>\n",
       "      <td>0.251476</td>\n",
       "      <td>0.757974</td>\n",
       "      <td>dummy_constant</td>\n",
       "      <td>0.251476</td>\n",
       "      <td>0.757974</td>\n",
       "      <td>-0.402384</td>\n",
       "      <td>0.128315</td>\n",
       "      <td>0.000025</td>\n",
       "      <td>False</td>\n",
       "    </tr>\n",
       "    <tr>\n",
       "      <th>8</th>\n",
       "      <td>0.545923</td>\n",
       "      <td>0.797577</td>\n",
       "      <td>dummy_constant</td>\n",
       "      <td>0.545923</td>\n",
       "      <td>0.797577</td>\n",
       "      <td>0.032564</td>\n",
       "      <td>0.090661</td>\n",
       "      <td>0.000025</td>\n",
       "      <td>False</td>\n",
       "    </tr>\n",
       "    <tr>\n",
       "      <th>9</th>\n",
       "      <td>0.788770</td>\n",
       "      <td>0.415817</td>\n",
       "      <td>dummy_constant</td>\n",
       "      <td>0.788770</td>\n",
       "      <td>0.415817</td>\n",
       "      <td>-0.214088</td>\n",
       "      <td>0.090475</td>\n",
       "      <td>0.000026</td>\n",
       "      <td>False</td>\n",
       "    </tr>\n",
       "    <tr>\n",
       "      <th>10</th>\n",
       "      <td>0.931594</td>\n",
       "      <td>0.534436</td>\n",
       "      <td>dummy_constant</td>\n",
       "      <td>0.931594</td>\n",
       "      <td>0.534436</td>\n",
       "      <td>0.199622</td>\n",
       "      <td>0.187460</td>\n",
       "      <td>0.000025</td>\n",
       "      <td>False</td>\n",
       "    </tr>\n",
       "    <tr>\n",
       "      <th>11</th>\n",
       "      <td>0.393296</td>\n",
       "      <td>1.026262</td>\n",
       "      <td>dummy_constant</td>\n",
       "      <td>0.393296</td>\n",
       "      <td>1.026262</td>\n",
       "      <td>0.116903</td>\n",
       "      <td>0.288337</td>\n",
       "      <td>0.000025</td>\n",
       "      <td>False</td>\n",
       "    </tr>\n",
       "    <tr>\n",
       "      <th>12</th>\n",
       "      <td>1.015054</td>\n",
       "      <td>0.066837</td>\n",
       "      <td>dummy_constant</td>\n",
       "      <td>1.015054</td>\n",
       "      <td>0.066837</td>\n",
       "      <td>-0.014781</td>\n",
       "      <td>0.452911</td>\n",
       "      <td>0.000026</td>\n",
       "      <td>False</td>\n",
       "    </tr>\n",
       "    <tr>\n",
       "      <th>13</th>\n",
       "      <td>1.052896</td>\n",
       "      <td>0.167061</td>\n",
       "      <td>dummy_constant</td>\n",
       "      <td>1.052896</td>\n",
       "      <td>0.167061</td>\n",
       "      <td>0.217661</td>\n",
       "      <td>0.416543</td>\n",
       "      <td>0.000023</td>\n",
       "      <td>False</td>\n",
       "    </tr>\n",
       "    <tr>\n",
       "      <th>14</th>\n",
       "      <td>0.716779</td>\n",
       "      <td>0.701654</td>\n",
       "      <td>dummy_constant</td>\n",
       "      <td>0.716779</td>\n",
       "      <td>0.701654</td>\n",
       "      <td>-0.092458</td>\n",
       "      <td>0.087657</td>\n",
       "      <td>0.000026</td>\n",
       "      <td>False</td>\n",
       "    </tr>\n",
       "    <tr>\n",
       "      <th>15</th>\n",
       "      <td>0.564965</td>\n",
       "      <td>0.889674</td>\n",
       "      <td>dummy_constant</td>\n",
       "      <td>0.564965</td>\n",
       "      <td>0.889674</td>\n",
       "      <td>0.203852</td>\n",
       "      <td>0.156066</td>\n",
       "      <td>0.000025</td>\n",
       "      <td>False</td>\n",
       "    </tr>\n",
       "    <tr>\n",
       "      <th>16</th>\n",
       "      <td>0.000000</td>\n",
       "      <td>0.963952</td>\n",
       "      <td>dummy_constant</td>\n",
       "      <td>0.000000</td>\n",
       "      <td>0.963952</td>\n",
       "      <td>-0.170797</td>\n",
       "      <td>0.465251</td>\n",
       "      <td>0.000026</td>\n",
       "      <td>False</td>\n",
       "    </tr>\n",
       "    <tr>\n",
       "      <th>17</th>\n",
       "      <td>0.117630</td>\n",
       "      <td>0.615741</td>\n",
       "      <td>dummy_constant</td>\n",
       "      <td>0.117630</td>\n",
       "      <td>0.615741</td>\n",
       "      <td>-0.507762</td>\n",
       "      <td>0.159603</td>\n",
       "      <td>0.000025</td>\n",
       "      <td>False</td>\n",
       "    </tr>\n",
       "    <tr>\n",
       "      <th>18</th>\n",
       "      <td>0.188642</td>\n",
       "      <td>1.077019</td>\n",
       "      <td>dummy_constant</td>\n",
       "      <td>0.188642</td>\n",
       "      <td>1.077019</td>\n",
       "      <td>0.288885</td>\n",
       "      <td>0.429895</td>\n",
       "      <td>0.000026</td>\n",
       "      <td>False</td>\n",
       "    </tr>\n",
       "    <tr>\n",
       "      <th>19</th>\n",
       "      <td>0.090134</td>\n",
       "      <td>0.654723</td>\n",
       "      <td>dummy_constant</td>\n",
       "      <td>0.090134</td>\n",
       "      <td>0.654723</td>\n",
       "      <td>-0.505264</td>\n",
       "      <td>0.191929</td>\n",
       "      <td>0.000026</td>\n",
       "      <td>False</td>\n",
       "    </tr>\n",
       "    <tr>\n",
       "      <th>20</th>\n",
       "      <td>0.672647</td>\n",
       "      <td>0.784787</td>\n",
       "      <td>dummy_constant</td>\n",
       "      <td>0.672647</td>\n",
       "      <td>0.784787</td>\n",
       "      <td>0.034797</td>\n",
       "      <td>0.110911</td>\n",
       "      <td>0.000025</td>\n",
       "      <td>False</td>\n",
       "    </tr>\n",
       "    <tr>\n",
       "      <th>21</th>\n",
       "      <td>0.346916</td>\n",
       "      <td>0.771360</td>\n",
       "      <td>dummy_constant</td>\n",
       "      <td>0.346916</td>\n",
       "      <td>0.771360</td>\n",
       "      <td>-0.373394</td>\n",
       "      <td>0.097071</td>\n",
       "      <td>0.000026</td>\n",
       "      <td>False</td>\n",
       "    </tr>\n",
       "    <tr>\n",
       "      <th>22</th>\n",
       "      <td>1.027805</td>\n",
       "      <td>0.037699</td>\n",
       "      <td>dummy_constant</td>\n",
       "      <td>1.027805</td>\n",
       "      <td>0.037699</td>\n",
       "      <td>-0.025479</td>\n",
       "      <td>0.492300</td>\n",
       "      <td>0.000024</td>\n",
       "      <td>False</td>\n",
       "    </tr>\n",
       "    <tr>\n",
       "      <th>23</th>\n",
       "      <td>0.959633</td>\n",
       "      <td>0.296147</td>\n",
       "      <td>dummy_constant</td>\n",
       "      <td>0.959633</td>\n",
       "      <td>0.296147</td>\n",
       "      <td>0.000914</td>\n",
       "      <td>0.252819</td>\n",
       "      <td>0.000027</td>\n",
       "      <td>False</td>\n",
       "    </tr>\n",
       "    <tr>\n",
       "      <th>24</th>\n",
       "      <td>0.817343</td>\n",
       "      <td>0.454822</td>\n",
       "      <td>dummy_constant</td>\n",
       "      <td>0.817343</td>\n",
       "      <td>0.454822</td>\n",
       "      <td>-0.098348</td>\n",
       "      <td>0.102748</td>\n",
       "      <td>0.000026</td>\n",
       "      <td>False</td>\n",
       "    </tr>\n",
       "    <tr>\n",
       "      <th>25</th>\n",
       "      <td>0.580762</td>\n",
       "      <td>0.829300</td>\n",
       "      <td>dummy_constant</td>\n",
       "      <td>0.580762</td>\n",
       "      <td>0.829300</td>\n",
       "      <td>0.118957</td>\n",
       "      <td>0.114961</td>\n",
       "      <td>0.000025</td>\n",
       "      <td>False</td>\n",
       "    </tr>\n",
       "    <tr>\n",
       "      <th>26</th>\n",
       "      <td>0.075566</td>\n",
       "      <td>1.032566</td>\n",
       "      <td>dummy_constant</td>\n",
       "      <td>0.075566</td>\n",
       "      <td>1.032566</td>\n",
       "      <td>0.032779</td>\n",
       "      <td>0.463771</td>\n",
       "      <td>0.000026</td>\n",
       "      <td>False</td>\n",
       "    </tr>\n",
       "    <tr>\n",
       "      <th>27</th>\n",
       "      <td>0.508671</td>\n",
       "      <td>0.525268</td>\n",
       "      <td>dummy_constant</td>\n",
       "      <td>0.508671</td>\n",
       "      <td>0.525268</td>\n",
       "      <td>-0.562068</td>\n",
       "      <td>0.000714</td>\n",
       "      <td>0.000025</td>\n",
       "      <td>False</td>\n",
       "    </tr>\n",
       "    <tr>\n",
       "      <th>28</th>\n",
       "      <td>0.333995</td>\n",
       "      <td>0.354580</td>\n",
       "      <td>dummy_constant</td>\n",
       "      <td>0.333995</td>\n",
       "      <td>0.354580</td>\n",
       "      <td>-0.851503</td>\n",
       "      <td>0.048704</td>\n",
       "      <td>0.000026</td>\n",
       "      <td>False</td>\n",
       "    </tr>\n",
       "    <tr>\n",
       "      <th>29</th>\n",
       "      <td>0.839860</td>\n",
       "      <td>0.581202</td>\n",
       "      <td>dummy_constant</td>\n",
       "      <td>0.839860</td>\n",
       "      <td>0.581202</td>\n",
       "      <td>0.139777</td>\n",
       "      <td>0.122098</td>\n",
       "      <td>0.000025</td>\n",
       "      <td>False</td>\n",
       "    </tr>\n",
       "    <tr>\n",
       "      <th>30</th>\n",
       "      <td>1.041143</td>\n",
       "      <td>0.088253</td>\n",
       "      <td>dummy_constant</td>\n",
       "      <td>1.041143</td>\n",
       "      <td>0.088253</td>\n",
       "      <td>0.070160</td>\n",
       "      <td>0.462372</td>\n",
       "      <td>0.000027</td>\n",
       "      <td>False</td>\n",
       "    </tr>\n",
       "    <tr>\n",
       "      <th>31</th>\n",
       "      <td>0.288872</td>\n",
       "      <td>0.326871</td>\n",
       "      <td>dummy_constant</td>\n",
       "      <td>0.288872</td>\n",
       "      <td>0.326871</td>\n",
       "      <td>-0.864898</td>\n",
       "      <td>0.074549</td>\n",
       "      <td>0.000027</td>\n",
       "      <td>False</td>\n",
       "    </tr>\n",
       "    <tr>\n",
       "      <th>32</th>\n",
       "      <td>0.041010</td>\n",
       "      <td>0.050937</td>\n",
       "      <td>dummy_constant</td>\n",
       "      <td>0.041010</td>\n",
       "      <td>0.050937</td>\n",
       "      <td>-0.980787</td>\n",
       "      <td>0.412329</td>\n",
       "      <td>0.000026</td>\n",
       "      <td>False</td>\n",
       "    </tr>\n",
       "    <tr>\n",
       "      <th>33</th>\n",
       "      <td>0.351150</td>\n",
       "      <td>0.954570</td>\n",
       "      <td>dummy_constant</td>\n",
       "      <td>0.351150</td>\n",
       "      <td>0.954570</td>\n",
       "      <td>-0.045506</td>\n",
       "      <td>0.228791</td>\n",
       "      <td>0.000026</td>\n",
       "      <td>False</td>\n",
       "    </tr>\n",
       "    <tr>\n",
       "      <th>34</th>\n",
       "      <td>0.104976</td>\n",
       "      <td>0.909644</td>\n",
       "      <td>dummy_constant</td>\n",
       "      <td>0.104976</td>\n",
       "      <td>0.909644</td>\n",
       "      <td>-0.135093</td>\n",
       "      <td>0.323853</td>\n",
       "      <td>0.000025</td>\n",
       "      <td>False</td>\n",
       "    </tr>\n",
       "    <tr>\n",
       "      <th>35</th>\n",
       "      <td>0.082932</td>\n",
       "      <td>1.049931</td>\n",
       "      <td>dummy_constant</td>\n",
       "      <td>0.082932</td>\n",
       "      <td>1.049931</td>\n",
       "      <td>0.078764</td>\n",
       "      <td>0.476370</td>\n",
       "      <td>0.000025</td>\n",
       "      <td>False</td>\n",
       "    </tr>\n",
       "    <tr>\n",
       "      <th>36</th>\n",
       "      <td>0.526927</td>\n",
       "      <td>0.578114</td>\n",
       "      <td>dummy_constant</td>\n",
       "      <td>0.526927</td>\n",
       "      <td>0.578114</td>\n",
       "      <td>-0.461938</td>\n",
       "      <td>0.006827</td>\n",
       "      <td>0.000026</td>\n",
       "      <td>False</td>\n",
       "    </tr>\n",
       "    <tr>\n",
       "      <th>37</th>\n",
       "      <td>0.899490</td>\n",
       "      <td>0.446185</td>\n",
       "      <td>dummy_constant</td>\n",
       "      <td>0.899490</td>\n",
       "      <td>0.446185</td>\n",
       "      <td>-0.038579</td>\n",
       "      <td>0.162488</td>\n",
       "      <td>0.000027</td>\n",
       "      <td>False</td>\n",
       "    </tr>\n",
       "    <tr>\n",
       "      <th>38</th>\n",
       "      <td>0.238958</td>\n",
       "      <td>0.992968</td>\n",
       "      <td>dummy_constant</td>\n",
       "      <td>0.238958</td>\n",
       "      <td>0.992968</td>\n",
       "      <td>0.123477</td>\n",
       "      <td>0.311161</td>\n",
       "      <td>0.000027</td>\n",
       "      <td>False</td>\n",
       "    </tr>\n",
       "    <tr>\n",
       "      <th>39</th>\n",
       "      <td>1.518669</td>\n",
       "      <td>0.037627</td>\n",
       "      <td>dummy_constant</td>\n",
       "      <td>1.518669</td>\n",
       "      <td>0.037627</td>\n",
       "      <td>1.215523</td>\n",
       "      <td>1.251475</td>\n",
       "      <td>0.000027</td>\n",
       "      <td>False</td>\n",
       "    </tr>\n",
       "    <tr>\n",
       "      <th>40</th>\n",
       "      <td>1.011643</td>\n",
       "      <td>0.000000</td>\n",
       "      <td>dummy_constant</td>\n",
       "      <td>1.011643</td>\n",
       "      <td>0.000000</td>\n",
       "      <td>-0.076579</td>\n",
       "      <td>0.511778</td>\n",
       "      <td>0.000027</td>\n",
       "      <td>False</td>\n",
       "    </tr>\n",
       "    <tr>\n",
       "      <th>41</th>\n",
       "      <td>1.786839</td>\n",
       "      <td>0.931721</td>\n",
       "      <td>dummy_constant</td>\n",
       "      <td>1.786839</td>\n",
       "      <td>0.931721</td>\n",
       "      <td>3.044610</td>\n",
       "      <td>1.842337</td>\n",
       "      <td>0.000027</td>\n",
       "      <td>False</td>\n",
       "    </tr>\n",
       "    <tr>\n",
       "      <th>42</th>\n",
       "      <td>0.196695</td>\n",
       "      <td>0.932917</td>\n",
       "      <td>dummy_constant</td>\n",
       "      <td>0.196695</td>\n",
       "      <td>0.932917</td>\n",
       "      <td>0.007352</td>\n",
       "      <td>0.279412</td>\n",
       "      <td>0.000027</td>\n",
       "      <td>False</td>\n",
       "    </tr>\n",
       "    <tr>\n",
       "      <th>43</th>\n",
       "      <td>0.530690</td>\n",
       "      <td>0.320854</td>\n",
       "      <td>dummy_constant</td>\n",
       "      <td>0.530690</td>\n",
       "      <td>0.320854</td>\n",
       "      <td>-0.540510</td>\n",
       "      <td>0.033035</td>\n",
       "      <td>0.000027</td>\n",
       "      <td>False</td>\n",
       "    </tr>\n",
       "    <tr>\n",
       "      <th>44</th>\n",
       "      <td>0.939748</td>\n",
       "      <td>0.375504</td>\n",
       "      <td>dummy_constant</td>\n",
       "      <td>0.939748</td>\n",
       "      <td>0.375504</td>\n",
       "      <td>-0.073859</td>\n",
       "      <td>0.208878</td>\n",
       "      <td>0.000028</td>\n",
       "      <td>False</td>\n",
       "    </tr>\n",
       "    <tr>\n",
       "      <th>45</th>\n",
       "      <td>0.743253</td>\n",
       "      <td>0.552608</td>\n",
       "      <td>dummy_constant</td>\n",
       "      <td>0.743253</td>\n",
       "      <td>0.552608</td>\n",
       "      <td>-0.072850</td>\n",
       "      <td>0.061939</td>\n",
       "      <td>0.000027</td>\n",
       "      <td>False</td>\n",
       "    </tr>\n",
       "    <tr>\n",
       "      <th>46</th>\n",
       "      <td>0.577887</td>\n",
       "      <td>0.703776</td>\n",
       "      <td>dummy_constant</td>\n",
       "      <td>0.577887</td>\n",
       "      <td>0.703776</td>\n",
       "      <td>-0.171171</td>\n",
       "      <td>0.047591</td>\n",
       "      <td>0.000027</td>\n",
       "      <td>False</td>\n",
       "    </tr>\n",
       "    <tr>\n",
       "      <th>47</th>\n",
       "      <td>2.143312</td>\n",
       "      <td>1.995461</td>\n",
       "      <td>dummy_constant</td>\n",
       "      <td>2.143312</td>\n",
       "      <td>1.995461</td>\n",
       "      <td>7.491533</td>\n",
       "      <td>4.936878</td>\n",
       "      <td>0.000027</td>\n",
       "      <td>False</td>\n",
       "    </tr>\n",
       "    <tr>\n",
       "      <th>48</th>\n",
       "      <td>0.790755</td>\n",
       "      <td>0.485078</td>\n",
       "      <td>dummy_constant</td>\n",
       "      <td>0.790755</td>\n",
       "      <td>0.485078</td>\n",
       "      <td>-0.058072</td>\n",
       "      <td>0.084761</td>\n",
       "      <td>0.000026</td>\n",
       "      <td>False</td>\n",
       "    </tr>\n",
       "    <tr>\n",
       "      <th>49</th>\n",
       "      <td>0.926701</td>\n",
       "      <td>0.431078</td>\n",
       "      <td>dummy_constant</td>\n",
       "      <td>0.926701</td>\n",
       "      <td>0.431078</td>\n",
       "      <td>-0.032950</td>\n",
       "      <td>0.186824</td>\n",
       "      <td>0.000027</td>\n",
       "      <td>False</td>\n",
       "    </tr>\n",
       "    <tr>\n",
       "      <th>50</th>\n",
       "      <td>0.335153</td>\n",
       "      <td>0.781088</td>\n",
       "      <td>dummy_constant</td>\n",
       "      <td>0.335153</td>\n",
       "      <td>0.781088</td>\n",
       "      <td>-0.375541</td>\n",
       "      <td>0.106185</td>\n",
       "      <td>0.000027</td>\n",
       "      <td>False</td>\n",
       "    </tr>\n",
       "    <tr>\n",
       "      <th>51</th>\n",
       "      <td>0.070141</td>\n",
       "      <td>0.765980</td>\n",
       "      <td>dummy_constant</td>\n",
       "      <td>0.070141</td>\n",
       "      <td>0.765980</td>\n",
       "      <td>-0.419309</td>\n",
       "      <td>0.255524</td>\n",
       "      <td>0.000027</td>\n",
       "      <td>False</td>\n",
       "    </tr>\n",
       "    <tr>\n",
       "      <th>52</th>\n",
       "      <td>0.915279</td>\n",
       "      <td>0.396077</td>\n",
       "      <td>dummy_constant</td>\n",
       "      <td>0.915279</td>\n",
       "      <td>0.396077</td>\n",
       "      <td>-0.102246</td>\n",
       "      <td>0.183256</td>\n",
       "      <td>0.000027</td>\n",
       "      <td>False</td>\n",
       "    </tr>\n",
       "    <tr>\n",
       "      <th>53</th>\n",
       "      <td>0.148960</td>\n",
       "      <td>0.742107</td>\n",
       "      <td>dummy_constant</td>\n",
       "      <td>0.148960</td>\n",
       "      <td>0.742107</td>\n",
       "      <td>-0.327127</td>\n",
       "      <td>0.181845</td>\n",
       "      <td>0.000027</td>\n",
       "      <td>False</td>\n",
       "    </tr>\n",
       "    <tr>\n",
       "      <th>54</th>\n",
       "      <td>0.328735</td>\n",
       "      <td>0.685070</td>\n",
       "      <td>dummy_constant</td>\n",
       "      <td>0.328735</td>\n",
       "      <td>0.685070</td>\n",
       "      <td>-0.486692</td>\n",
       "      <td>0.063583</td>\n",
       "      <td>0.000028</td>\n",
       "      <td>False</td>\n",
       "    </tr>\n",
       "  </tbody>\n",
       "</table>\n",
       "</div>"
      ],
      "text/plain": [
       "          x1        x2               a        y1        y2         c1  \\\n",
       "0   2.865223  1.895121  dummy_constant  2.865223  1.895121  10.900702   \n",
       "1   2.671787  2.349430  dummy_constant  2.671787  2.349430  11.606421   \n",
       "2   0.279484  0.470337  dummy_constant  0.279484  0.470337  -0.634391   \n",
       "3   2.170609  3.137243  dummy_constant  2.170609  3.137243  13.650497   \n",
       "4   2.323181  2.211292  dummy_constant  2.323181  2.211292   9.194674   \n",
       "5   0.059904  0.239681  dummy_constant  0.059904  0.239681  -0.867665   \n",
       "6   0.310884  0.002684  dummy_constant  0.310884  0.002684  -1.002391   \n",
       "7   0.251476  0.757974  dummy_constant  0.251476  0.757974  -0.402384   \n",
       "8   0.545923  0.797577  dummy_constant  0.545923  0.797577   0.032564   \n",
       "9   0.788770  0.415817  dummy_constant  0.788770  0.415817  -0.214088   \n",
       "10  0.931594  0.534436  dummy_constant  0.931594  0.534436   0.199622   \n",
       "11  0.393296  1.026262  dummy_constant  0.393296  1.026262   0.116903   \n",
       "12  1.015054  0.066837  dummy_constant  1.015054  0.066837  -0.014781   \n",
       "13  1.052896  0.167061  dummy_constant  1.052896  0.167061   0.217661   \n",
       "14  0.716779  0.701654  dummy_constant  0.716779  0.701654  -0.092458   \n",
       "15  0.564965  0.889674  dummy_constant  0.564965  0.889674   0.203852   \n",
       "16  0.000000  0.963952  dummy_constant  0.000000  0.963952  -0.170797   \n",
       "17  0.117630  0.615741  dummy_constant  0.117630  0.615741  -0.507762   \n",
       "18  0.188642  1.077019  dummy_constant  0.188642  1.077019   0.288885   \n",
       "19  0.090134  0.654723  dummy_constant  0.090134  0.654723  -0.505264   \n",
       "20  0.672647  0.784787  dummy_constant  0.672647  0.784787   0.034797   \n",
       "21  0.346916  0.771360  dummy_constant  0.346916  0.771360  -0.373394   \n",
       "22  1.027805  0.037699  dummy_constant  1.027805  0.037699  -0.025479   \n",
       "23  0.959633  0.296147  dummy_constant  0.959633  0.296147   0.000914   \n",
       "24  0.817343  0.454822  dummy_constant  0.817343  0.454822  -0.098348   \n",
       "25  0.580762  0.829300  dummy_constant  0.580762  0.829300   0.118957   \n",
       "26  0.075566  1.032566  dummy_constant  0.075566  1.032566   0.032779   \n",
       "27  0.508671  0.525268  dummy_constant  0.508671  0.525268  -0.562068   \n",
       "28  0.333995  0.354580  dummy_constant  0.333995  0.354580  -0.851503   \n",
       "29  0.839860  0.581202  dummy_constant  0.839860  0.581202   0.139777   \n",
       "30  1.041143  0.088253  dummy_constant  1.041143  0.088253   0.070160   \n",
       "31  0.288872  0.326871  dummy_constant  0.288872  0.326871  -0.864898   \n",
       "32  0.041010  0.050937  dummy_constant  0.041010  0.050937  -0.980787   \n",
       "33  0.351150  0.954570  dummy_constant  0.351150  0.954570  -0.045506   \n",
       "34  0.104976  0.909644  dummy_constant  0.104976  0.909644  -0.135093   \n",
       "35  0.082932  1.049931  dummy_constant  0.082932  1.049931   0.078764   \n",
       "36  0.526927  0.578114  dummy_constant  0.526927  0.578114  -0.461938   \n",
       "37  0.899490  0.446185  dummy_constant  0.899490  0.446185  -0.038579   \n",
       "38  0.238958  0.992968  dummy_constant  0.238958  0.992968   0.123477   \n",
       "39  1.518669  0.037627  dummy_constant  1.518669  0.037627   1.215523   \n",
       "40  1.011643  0.000000  dummy_constant  1.011643  0.000000  -0.076579   \n",
       "41  1.786839  0.931721  dummy_constant  1.786839  0.931721   3.044610   \n",
       "42  0.196695  0.932917  dummy_constant  0.196695  0.932917   0.007352   \n",
       "43  0.530690  0.320854  dummy_constant  0.530690  0.320854  -0.540510   \n",
       "44  0.939748  0.375504  dummy_constant  0.939748  0.375504  -0.073859   \n",
       "45  0.743253  0.552608  dummy_constant  0.743253  0.552608  -0.072850   \n",
       "46  0.577887  0.703776  dummy_constant  0.577887  0.703776  -0.171171   \n",
       "47  2.143312  1.995461  dummy_constant  2.143312  1.995461   7.491533   \n",
       "48  0.790755  0.485078  dummy_constant  0.790755  0.485078  -0.058072   \n",
       "49  0.926701  0.431078  dummy_constant  0.926701  0.431078  -0.032950   \n",
       "50  0.335153  0.781088  dummy_constant  0.335153  0.781088  -0.375541   \n",
       "51  0.070141  0.765980  dummy_constant  0.070141  0.765980  -0.419309   \n",
       "52  0.915279  0.396077  dummy_constant  0.915279  0.396077  -0.102246   \n",
       "53  0.148960  0.742107  dummy_constant  0.148960  0.742107  -0.327127   \n",
       "54  0.328735  0.685070  dummy_constant  0.328735  0.685070  -0.486692   \n",
       "\n",
       "          c2  xopt_runtime  xopt_error  \n",
       "0   7.540639      0.000034       False  \n",
       "1   8.137048      0.000009       False  \n",
       "2   0.049507      0.000007       False  \n",
       "3   9.745989      0.000006       False  \n",
       "4   6.252511      0.000006       False  \n",
       "5   0.261451      0.000023       False  \n",
       "6   0.283088      0.000024       False  \n",
       "7   0.128315      0.000025       False  \n",
       "8   0.090661      0.000025       False  \n",
       "9   0.090475      0.000026       False  \n",
       "10  0.187460      0.000025       False  \n",
       "11  0.288337      0.000025       False  \n",
       "12  0.452911      0.000026       False  \n",
       "13  0.416543      0.000023       False  \n",
       "14  0.087657      0.000026       False  \n",
       "15  0.156066      0.000025       False  \n",
       "16  0.465251      0.000026       False  \n",
       "17  0.159603      0.000025       False  \n",
       "18  0.429895      0.000026       False  \n",
       "19  0.191929      0.000026       False  \n",
       "20  0.110911      0.000025       False  \n",
       "21  0.097071      0.000026       False  \n",
       "22  0.492300      0.000024       False  \n",
       "23  0.252819      0.000027       False  \n",
       "24  0.102748      0.000026       False  \n",
       "25  0.114961      0.000025       False  \n",
       "26  0.463771      0.000026       False  \n",
       "27  0.000714      0.000025       False  \n",
       "28  0.048704      0.000026       False  \n",
       "29  0.122098      0.000025       False  \n",
       "30  0.462372      0.000027       False  \n",
       "31  0.074549      0.000027       False  \n",
       "32  0.412329      0.000026       False  \n",
       "33  0.228791      0.000026       False  \n",
       "34  0.323853      0.000025       False  \n",
       "35  0.476370      0.000025       False  \n",
       "36  0.006827      0.000026       False  \n",
       "37  0.162488      0.000027       False  \n",
       "38  0.311161      0.000027       False  \n",
       "39  1.251475      0.000027       False  \n",
       "40  0.511778      0.000027       False  \n",
       "41  1.842337      0.000027       False  \n",
       "42  0.279412      0.000027       False  \n",
       "43  0.033035      0.000027       False  \n",
       "44  0.208878      0.000028       False  \n",
       "45  0.061939      0.000027       False  \n",
       "46  0.047591      0.000027       False  \n",
       "47  4.936878      0.000027       False  \n",
       "48  0.084761      0.000026       False  \n",
       "49  0.186824      0.000027       False  \n",
       "50  0.106185      0.000027       False  \n",
       "51  0.255524      0.000027       False  \n",
       "52  0.183256      0.000027       False  \n",
       "53  0.181845      0.000027       False  \n",
       "54  0.063583      0.000028       False  "
      ]
     },
     "execution_count": 3,
     "metadata": {},
     "output_type": "execute_result"
    }
   ],
   "source": [
    "X.generator.data"
   ]
  },
  {
   "cell_type": "markdown",
   "metadata": {
    "collapsed": false
   },
   "source": [
    "## plot results\n"
   ]
  },
  {
   "cell_type": "code",
   "execution_count": 4,
   "metadata": {
    "collapsed": false,
    "execution": {
     "iopub.execute_input": "2024-01-23T15:28:54.712224Z",
     "iopub.status.busy": "2024-01-23T15:28:54.712045Z",
     "iopub.status.idle": "2024-01-23T15:28:55.185580Z",
     "shell.execute_reply": "2024-01-23T15:28:55.184963Z"
    }
   },
   "outputs": [
    {
     "data": {
      "image/png": "[encoded data removed]",
      "text/plain": [
       "<Figure size 640x480 with 1 Axes>"
      ]
     },
     "metadata": {},
     "output_type": "display_data"
    }
   ],
   "source": [
    "import matplotlib.pyplot as plt\n",
    "import numpy as np\n",
    "import pandas as pd\n",
    "\n",
    "fig, ax = plt.subplots()\n",
    "\n",
    "theta = np.linspace(0, np.pi / 2)\n",
    "r = np.sqrt(1 + 0.1 * np.cos(16 * theta))\n",
    "x_1 = r * np.sin(theta)\n",
    "x_2_lower = r * np.cos(theta)\n",
    "x_2_upper = (0.5 - (x_1 - 0.5) ** 2) ** 0.5 + 0.5\n",
    "\n",
    "z = np.zeros_like(x_1)\n",
    "\n",
    "# ax2.plot(x_1, x_2_lower,'r')\n",
    "ax.fill_between(x_1, z, x_2_lower, fc=\"white\")\n",
    "circle = plt.Circle(\n",
    "    (0.5, 0.5), 0.5 ** 0.5, color=\"r\", alpha=0.25, zorder=0, label=\"Valid Region\"\n",
    ")\n",
    "ax.add_patch(circle)\n",
    "history = pd.concat(\n",
    "    [X.data, X.vocs.feasibility_data(X.data)], axis=1, ignore_index=False\n",
    ")\n",
    "\n",
    "\n",
    "ax.plot(*history[[\"x1\", \"x2\"]][history[\"feasible\"]].to_numpy().T, \".C1\")\n",
    "ax.plot(*history[[\"x1\", \"x2\"]][~history[\"feasible\"]].to_numpy().T, \".C2\")\n",
    "\n",
    "ax.set_xlim(0, 3.14)\n",
    "ax.set_ylim(0, 3.14)\n",
    "ax.set_xlabel(\"x1\")\n",
    "ax.set_ylabel(\"x2\")\n",
    "ax.set_aspect(\"equal\")"
   ]
  },
  {
   "cell_type": "markdown",
   "metadata": {
    "collapsed": false
   },
   "source": [
    "### Plot path through input space"
   ]
  },
  {
   "cell_type": "code",
   "execution_count": 5,
   "metadata": {
    "collapsed": false,
    "execution": {
     "iopub.execute_input": "2024-01-23T15:28:55.187888Z",
     "iopub.status.busy": "2024-01-23T15:28:55.187657Z",
     "iopub.status.idle": "2024-01-23T15:28:55.313496Z",
     "shell.execute_reply": "2024-01-23T15:28:55.312845Z"
    }
   },
   "outputs": [
    {
     "data": {
      "image/png": "[encoded data removed]",
      "text/plain": [
       "<Figure size 640x480 with 1 Axes>"
      ]
     },
     "metadata": {},
     "output_type": "display_data"
    }
   ],
   "source": [
    "ax = history.plot(\"x1\", \"x2\")\n",
    "ax.set_ylim(0, 3.14)\n",
    "ax.set_xlim(0, 3.14)\n",
    "ax.set_aspect(\"equal\")"
   ]
  },
  {
   "cell_type": "code",
   "execution_count": 6,
   "metadata": {
    "collapsed": false,
    "execution": {
     "iopub.execute_input": "2024-01-23T15:28:55.316014Z",
     "iopub.status.busy": "2024-01-23T15:28:55.315537Z",
     "iopub.status.idle": "2024-01-23T15:29:00.716870Z",
     "shell.execute_reply": "2024-01-23T15:29:00.716305Z"
    }
   },
   "outputs": [
    {
     "name": "stdout",
     "output_type": "stream",
     "text": [
      "[[0.99383207 0.24883198]]\n"
     ]
    },
    {
     "data": {
      "text/plain": [
       "[<matplotlib.lines.Line2D at 0x7f444d793af0>]"
      ]
     },
     "execution_count": 6,
     "metadata": {},
     "output_type": "execute_result"
    },
    {
     "data": {
      "image/png": "[encoded data removed]",
      "text/plain": [
       "<Figure size 800x800 with 2 Axes>"
      ]
     },
     "metadata": {},
     "output_type": "display_data"
    },
    {
     "data": {
      "image/png": "[encoded data removed]",
      "text/plain": [
       "<Figure size 800x800 with 2 Axes>"
      ]
     },
     "metadata": {},
     "output_type": "display_data"
    }
   ],
   "source": [
    "# plot the acquisition function\n",
    "from xopt.generators.bayesian.objectives import feasibility\n",
    "\n",
    "bounds = X.generator.vocs.bounds\n",
    "model = X.generator.model\n",
    "\n",
    "# create mesh\n",
    "n = 100\n",
    "x = torch.linspace(*bounds.T[0], n)\n",
    "y = torch.linspace(*bounds.T[1], n)\n",
    "xx, yy = torch.meshgrid(x, y)\n",
    "pts = torch.hstack([ele.reshape(-1, 1) for ele in (xx, yy)]).double()\n",
    "\n",
    "xx, yy = xx.numpy(), yy.numpy()\n",
    "\n",
    "acq_func = X.generator.get_acquisition(model)\n",
    "with torch.no_grad():\n",
    "    acq_pts = pts.unsqueeze(1)\n",
    "    acq = acq_func(acq_pts)\n",
    "\n",
    "    fig, ax = plt.subplots(figsize=(8,8))\n",
    "    c = ax.pcolor(xx, yy, acq.reshape(n, n), cmap=\"Blues\")\n",
    "    fig.colorbar(c)\n",
    "    ax.set_title(\"Acquisition function\")\n",
    "\n",
    "    ax.plot(*history[[\"x1\", \"x2\"]][history[\"feasible\"]].to_numpy().T, \".C1\")\n",
    "    ax.plot(*history[[\"x1\", \"x2\"]][~history[\"feasible\"]].to_numpy().T, \".C2\")\n",
    "\n",
    "    ax.plot(*history[[\"x1\", \"x2\"]].to_numpy()[-1].T, \"+\")\n",
    "\n",
    "    feas = feasibility(pts.unsqueeze(1), model, X.vocs).flatten()\n",
    "\n",
    "    fig2, ax2 = plt.subplots(figsize=(8,8))\n",
    "    c = ax2.pcolor(xx, yy, feas.reshape(n, n))\n",
    "    fig2.colorbar(c)\n",
    "    ax2.set_title(\"Feasible Region\")\n",
    "\n",
    "candidate = pd.DataFrame(X.generator.generate(1), index=[0])\n",
    "print(candidate[[\"x1\", \"x2\"]].to_numpy())\n",
    "ax.plot(*candidate[[\"x1\", \"x2\"]].to_numpy()[0], \"o\")"
   ]
  }
 ],
 "metadata": {
  "interpreter": {
   "hash": "72034539424920dfb606fe3b820b3f27dca0cbf1c69938110810ec4641e275b1"
  },
  "kernelspec": {
   "display_name": "Python 3 (ipykernel)",
   "language": "python",
   "name": "python3"
  },
  "language_info": {
   "codemirror_mode": {
    "name": "ipython",
    "version": 3
   },
   "file_extension": ".py",
   "mimetype": "text/x-python",
   "name": "python",
   "nbconvert_exporter": "python",
   "pygments_lexer": "ipython3",
   "version": "3.9.18"
  }
 },
 "nbformat": 4,
 "nbformat_minor": 4
}
