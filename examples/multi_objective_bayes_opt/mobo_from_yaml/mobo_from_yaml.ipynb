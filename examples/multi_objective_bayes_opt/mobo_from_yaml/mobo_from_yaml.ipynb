{
 "cells": [
  {
   "cell_type": "markdown",
   "metadata": {},
   "source": [
    "\n",
    "# Multi-objective Bayesian Optimization\n",
    "\n",
    "\n",
    "TNK function\n",
    "$n=2$ variables:\n",
    "$x_i \\in [0, \\pi], i=1,2$\n",
    "\n",
    "Objectives:\n",
    "- $f_i(x) = x_i$\n",
    "\n",
    "Constraints:\n",
    "- $g_1(x) = -x_1^2 -x_2^2 + 1 + 0.1 \\cos\\left(16 \\arctan \\frac{x_1}{x_2}\\right) \\le 0$\n",
    "- $g_2(x) = (x_1 - 1/2)^2 + (x_2-1/2)^2 \\le 0.5$"
   ]
  },
  {
   "cell_type": "code",
   "execution_count": 1,
   "metadata": {
    "collapsed": false,
    "execution": {
     "iopub.execute_input": "2024-04-15T17:38:11.235639Z",
     "iopub.status.busy": "2024-04-15T17:38:11.235456Z",
     "iopub.status.idle": "2024-04-15T17:38:12.771849Z",
     "shell.execute_reply": "2024-04-15T17:38:12.771314Z"
    }
   },
   "outputs": [],
   "source": [
    "import os\n",
    "SMOKE_TEST = os.environ.get(\"SMOKE_TEST\")\n",
    "NUM_STEPS = 2 if SMOKE_TEST else 50\n",
    "\n",
    "# Ignore all warnings\n",
    "import warnings\n",
    "warnings.filterwarnings(\"ignore\")\n",
    "\n",
    "import torch\n",
    "from xopt import Xopt\n",
    "\n",
    "\n",
    "YAML = \"\"\"\n",
    "generator:\n",
    "    name: mobo\n",
    "    reference_point: {y1: 1.5, y2: 1.5}\n",
    "\n",
    "evaluator:\n",
    "    function: xopt.resources.test_functions.tnk.evaluate_TNK\n",
    "\n",
    "vocs:\n",
    "    variables:\n",
    "        x1: [0, 3.14159]\n",
    "        x2: [0, 3.14159]\n",
    "    objectives: {y1: MINIMIZE, y2: MINIMIZE}\n",
    "    constraints:\n",
    "        c1: [GREATER_THAN, 0]\n",
    "        c2: [LESS_THAN, 0.5]\n",
    "    constants: {a: dummy_constant}\n",
    "\n",
    "\"\"\""
   ]
  },
  {
   "cell_type": "code",
   "execution_count": 2,
   "metadata": {
    "collapsed": false,
    "execution": {
     "iopub.execute_input": "2024-04-15T17:38:12.774874Z",
     "iopub.status.busy": "2024-04-15T17:38:12.774251Z",
     "iopub.status.idle": "2024-04-15T17:38:52.321120Z",
     "shell.execute_reply": "2024-04-15T17:38:52.320529Z"
    }
   },
   "outputs": [
    {
     "name": "stdout",
     "output_type": "stream",
     "text": [
      "0\n"
     ]
    },
    {
     "name": "stdout",
     "output_type": "stream",
     "text": [
      "1\n"
     ]
    },
    {
     "name": "stdout",
     "output_type": "stream",
     "text": [
      "2\n"
     ]
    },
    {
     "name": "stdout",
     "output_type": "stream",
     "text": [
      "3\n"
     ]
    },
    {
     "name": "stdout",
     "output_type": "stream",
     "text": [
      "4\n"
     ]
    },
    {
     "name": "stdout",
     "output_type": "stream",
     "text": [
      "5\n"
     ]
    },
    {
     "name": "stdout",
     "output_type": "stream",
     "text": [
      "6\n"
     ]
    },
    {
     "name": "stdout",
     "output_type": "stream",
     "text": [
      "7\n"
     ]
    },
    {
     "name": "stdout",
     "output_type": "stream",
     "text": [
      "8\n"
     ]
    },
    {
     "name": "stdout",
     "output_type": "stream",
     "text": [
      "9\n"
     ]
    },
    {
     "name": "stdout",
     "output_type": "stream",
     "text": [
      "10\n"
     ]
    },
    {
     "name": "stdout",
     "output_type": "stream",
     "text": [
      "11\n"
     ]
    },
    {
     "name": "stdout",
     "output_type": "stream",
     "text": [
      "12\n"
     ]
    },
    {
     "name": "stdout",
     "output_type": "stream",
     "text": [
      "13\n"
     ]
    },
    {
     "name": "stdout",
     "output_type": "stream",
     "text": [
      "14\n"
     ]
    },
    {
     "name": "stdout",
     "output_type": "stream",
     "text": [
      "15\n"
     ]
    },
    {
     "name": "stdout",
     "output_type": "stream",
     "text": [
      "16\n"
     ]
    },
    {
     "name": "stdout",
     "output_type": "stream",
     "text": [
      "17\n"
     ]
    },
    {
     "name": "stdout",
     "output_type": "stream",
     "text": [
      "18\n"
     ]
    },
    {
     "name": "stdout",
     "output_type": "stream",
     "text": [
      "19\n"
     ]
    },
    {
     "name": "stdout",
     "output_type": "stream",
     "text": [
      "20\n"
     ]
    },
    {
     "name": "stdout",
     "output_type": "stream",
     "text": [
      "21\n"
     ]
    },
    {
     "name": "stdout",
     "output_type": "stream",
     "text": [
      "22\n"
     ]
    },
    {
     "name": "stdout",
     "output_type": "stream",
     "text": [
      "23\n"
     ]
    },
    {
     "name": "stdout",
     "output_type": "stream",
     "text": [
      "24\n"
     ]
    },
    {
     "name": "stdout",
     "output_type": "stream",
     "text": [
      "25\n"
     ]
    },
    {
     "name": "stdout",
     "output_type": "stream",
     "text": [
      "26\n"
     ]
    },
    {
     "name": "stdout",
     "output_type": "stream",
     "text": [
      "27\n"
     ]
    },
    {
     "name": "stdout",
     "output_type": "stream",
     "text": [
      "28\n"
     ]
    },
    {
     "name": "stdout",
     "output_type": "stream",
     "text": [
      "29\n"
     ]
    },
    {
     "name": "stdout",
     "output_type": "stream",
     "text": [
      "30\n"
     ]
    },
    {
     "name": "stdout",
     "output_type": "stream",
     "text": [
      "31\n"
     ]
    },
    {
     "name": "stdout",
     "output_type": "stream",
     "text": [
      "32\n"
     ]
    },
    {
     "name": "stdout",
     "output_type": "stream",
     "text": [
      "33\n"
     ]
    },
    {
     "name": "stdout",
     "output_type": "stream",
     "text": [
      "34\n"
     ]
    },
    {
     "name": "stdout",
     "output_type": "stream",
     "text": [
      "35\n"
     ]
    },
    {
     "name": "stdout",
     "output_type": "stream",
     "text": [
      "36\n"
     ]
    },
    {
     "name": "stdout",
     "output_type": "stream",
     "text": [
      "37\n"
     ]
    },
    {
     "name": "stdout",
     "output_type": "stream",
     "text": [
      "38\n"
     ]
    },
    {
     "name": "stdout",
     "output_type": "stream",
     "text": [
      "39\n"
     ]
    },
    {
     "name": "stdout",
     "output_type": "stream",
     "text": [
      "40\n"
     ]
    },
    {
     "name": "stdout",
     "output_type": "stream",
     "text": [
      "41\n"
     ]
    },
    {
     "name": "stdout",
     "output_type": "stream",
     "text": [
      "42\n"
     ]
    },
    {
     "name": "stdout",
     "output_type": "stream",
     "text": [
      "43\n"
     ]
    },
    {
     "name": "stdout",
     "output_type": "stream",
     "text": [
      "44\n"
     ]
    },
    {
     "name": "stdout",
     "output_type": "stream",
     "text": [
      "45\n"
     ]
    },
    {
     "name": "stdout",
     "output_type": "stream",
     "text": [
      "46\n"
     ]
    },
    {
     "name": "stdout",
     "output_type": "stream",
     "text": [
      "47\n"
     ]
    },
    {
     "name": "stdout",
     "output_type": "stream",
     "text": [
      "48\n"
     ]
    },
    {
     "name": "stdout",
     "output_type": "stream",
     "text": [
      "49\n"
     ]
    }
   ],
   "source": [
    "X = Xopt.from_yaml(YAML)\n",
    "\n",
    "# for testing purposes only\n",
    "if SMOKE_TEST:\n",
    "    X.generator.numerical_optimizer.n_restarts = 1\n",
    "    X.generator.n_monte_carlo_samples = 1\n",
    "\n",
    "X.random_evaluate(5)\n",
    "for i in range(NUM_STEPS):\n",
    "    print(i)\n",
    "    X.step()"
   ]
  },
  {
   "cell_type": "code",
   "execution_count": 3,
   "metadata": {
    "collapsed": false,
    "execution": {
     "iopub.execute_input": "2024-04-15T17:38:52.324158Z",
     "iopub.status.busy": "2024-04-15T17:38:52.323654Z",
     "iopub.status.idle": "2024-04-15T17:38:52.347540Z",
     "shell.execute_reply": "2024-04-15T17:38:52.346988Z"
    }
   },
   "outputs": [
    {
     "data": {
      "text/html": [
       "<div>\n",
       "<style scoped>\n",
       "    .dataframe tbody tr th:only-of-type {\n",
       "        vertical-align: middle;\n",
       "    }\n",
       "\n",
       "    .dataframe tbody tr th {\n",
       "        vertical-align: top;\n",
       "    }\n",
       "\n",
       "    .dataframe thead th {\n",
       "        text-align: right;\n",
       "    }\n",
       "</style>\n",
       "<table border=\"1\" class=\"dataframe\">\n",
       "  <thead>\n",
       "    <tr style=\"text-align: right;\">\n",
       "      <th></th>\n",
       "      <th>x1</th>\n",
       "      <th>x2</th>\n",
       "      <th>a</th>\n",
       "      <th>y1</th>\n",
       "      <th>y2</th>\n",
       "      <th>c1</th>\n",
       "      <th>c2</th>\n",
       "      <th>xopt_runtime</th>\n",
       "      <th>xopt_error</th>\n",
       "    </tr>\n",
       "  </thead>\n",
       "  <tbody>\n",
       "    <tr>\n",
       "      <th>0</th>\n",
       "      <td>1.478215</td>\n",
       "      <td>2.610461</td>\n",
       "      <td>dummy_constant</td>\n",
       "      <td>1.478215</td>\n",
       "      <td>2.610461</td>\n",
       "      <td>8.037640</td>\n",
       "      <td>5.410950</td>\n",
       "      <td>0.000034</td>\n",
       "      <td>False</td>\n",
       "    </tr>\n",
       "    <tr>\n",
       "      <th>1</th>\n",
       "      <td>2.360215</td>\n",
       "      <td>0.201359</td>\n",
       "      <td>dummy_constant</td>\n",
       "      <td>2.360215</td>\n",
       "      <td>0.201359</td>\n",
       "      <td>4.590406</td>\n",
       "      <td>3.549586</td>\n",
       "      <td>0.000012</td>\n",
       "      <td>False</td>\n",
       "    </tr>\n",
       "    <tr>\n",
       "      <th>2</th>\n",
       "      <td>2.006926</td>\n",
       "      <td>2.463747</td>\n",
       "      <td>dummy_constant</td>\n",
       "      <td>2.006926</td>\n",
       "      <td>2.463747</td>\n",
       "      <td>9.103646</td>\n",
       "      <td>6.127130</td>\n",
       "      <td>0.000007</td>\n",
       "      <td>False</td>\n",
       "    </tr>\n",
       "    <tr>\n",
       "      <th>3</th>\n",
       "      <td>3.018171</td>\n",
       "      <td>0.653570</td>\n",
       "      <td>dummy_constant</td>\n",
       "      <td>3.018171</td>\n",
       "      <td>0.653570</td>\n",
       "      <td>8.632872</td>\n",
       "      <td>6.364767</td>\n",
       "      <td>0.000006</td>\n",
       "      <td>False</td>\n",
       "    </tr>\n",
       "    <tr>\n",
       "      <th>4</th>\n",
       "      <td>1.045554</td>\n",
       "      <td>0.787613</td>\n",
       "      <td>dummy_constant</td>\n",
       "      <td>1.045554</td>\n",
       "      <td>0.787613</td>\n",
       "      <td>0.775292</td>\n",
       "      <td>0.380351</td>\n",
       "      <td>0.000006</td>\n",
       "      <td>False</td>\n",
       "    </tr>\n",
       "    <tr>\n",
       "      <th>5</th>\n",
       "      <td>0.822337</td>\n",
       "      <td>0.057849</td>\n",
       "      <td>dummy_constant</td>\n",
       "      <td>0.822337</td>\n",
       "      <td>0.057849</td>\n",
       "      <td>-0.363650</td>\n",
       "      <td>0.299398</td>\n",
       "      <td>0.000027</td>\n",
       "      <td>False</td>\n",
       "    </tr>\n",
       "    <tr>\n",
       "      <th>6</th>\n",
       "      <td>0.461457</td>\n",
       "      <td>0.000000</td>\n",
       "      <td>dummy_constant</td>\n",
       "      <td>0.461457</td>\n",
       "      <td>0.000000</td>\n",
       "      <td>-0.887057</td>\n",
       "      <td>0.251486</td>\n",
       "      <td>0.000029</td>\n",
       "      <td>False</td>\n",
       "    </tr>\n",
       "    <tr>\n",
       "      <th>7</th>\n",
       "      <td>0.084249</td>\n",
       "      <td>0.453893</td>\n",
       "      <td>dummy_constant</td>\n",
       "      <td>0.084249</td>\n",
       "      <td>0.453893</td>\n",
       "      <td>-0.688981</td>\n",
       "      <td>0.174975</td>\n",
       "      <td>0.000026</td>\n",
       "      <td>False</td>\n",
       "    </tr>\n",
       "    <tr>\n",
       "      <th>8</th>\n",
       "      <td>0.044708</td>\n",
       "      <td>0.833644</td>\n",
       "      <td>dummy_constant</td>\n",
       "      <td>0.044708</td>\n",
       "      <td>0.833644</td>\n",
       "      <td>-0.368491</td>\n",
       "      <td>0.318610</td>\n",
       "      <td>0.000025</td>\n",
       "      <td>False</td>\n",
       "    </tr>\n",
       "    <tr>\n",
       "      <th>9</th>\n",
       "      <td>0.981493</td>\n",
       "      <td>0.448183</td>\n",
       "      <td>dummy_constant</td>\n",
       "      <td>0.981493</td>\n",
       "      <td>0.448183</td>\n",
       "      <td>0.080034</td>\n",
       "      <td>0.234520</td>\n",
       "      <td>0.000029</td>\n",
       "      <td>False</td>\n",
       "    </tr>\n",
       "    <tr>\n",
       "      <th>10</th>\n",
       "      <td>0.535026</td>\n",
       "      <td>0.967587</td>\n",
       "      <td>dummy_constant</td>\n",
       "      <td>0.535026</td>\n",
       "      <td>0.967587</td>\n",
       "      <td>0.245050</td>\n",
       "      <td>0.219865</td>\n",
       "      <td>0.000028</td>\n",
       "      <td>False</td>\n",
       "    </tr>\n",
       "    <tr>\n",
       "      <th>11</th>\n",
       "      <td>0.267275</td>\n",
       "      <td>1.040288</td>\n",
       "      <td>dummy_constant</td>\n",
       "      <td>0.267275</td>\n",
       "      <td>1.040288</td>\n",
       "      <td>0.217184</td>\n",
       "      <td>0.346073</td>\n",
       "      <td>0.000027</td>\n",
       "      <td>False</td>\n",
       "    </tr>\n",
       "    <tr>\n",
       "      <th>12</th>\n",
       "      <td>0.767734</td>\n",
       "      <td>0.745850</td>\n",
       "      <td>dummy_constant</td>\n",
       "      <td>0.767734</td>\n",
       "      <td>0.745850</td>\n",
       "      <td>0.048371</td>\n",
       "      <td>0.132124</td>\n",
       "      <td>0.000029</td>\n",
       "      <td>False</td>\n",
       "    </tr>\n",
       "    <tr>\n",
       "      <th>13</th>\n",
       "      <td>0.955848</td>\n",
       "      <td>0.000000</td>\n",
       "      <td>dummy_constant</td>\n",
       "      <td>0.955848</td>\n",
       "      <td>0.000000</td>\n",
       "      <td>-0.186354</td>\n",
       "      <td>0.457798</td>\n",
       "      <td>0.000027</td>\n",
       "      <td>False</td>\n",
       "    </tr>\n",
       "    <tr>\n",
       "      <th>14</th>\n",
       "      <td>1.545384</td>\n",
       "      <td>0.109008</td>\n",
       "      <td>dummy_constant</td>\n",
       "      <td>1.545384</td>\n",
       "      <td>0.109008</td>\n",
       "      <td>1.357133</td>\n",
       "      <td>1.245702</td>\n",
       "      <td>0.000026</td>\n",
       "      <td>False</td>\n",
       "    </tr>\n",
       "    <tr>\n",
       "      <th>15</th>\n",
       "      <td>0.042279</td>\n",
       "      <td>0.250703</td>\n",
       "      <td>dummy_constant</td>\n",
       "      <td>0.042279</td>\n",
       "      <td>0.250703</td>\n",
       "      <td>-0.846135</td>\n",
       "      <td>0.271658</td>\n",
       "      <td>0.000027</td>\n",
       "      <td>False</td>\n",
       "    </tr>\n",
       "    <tr>\n",
       "      <th>16</th>\n",
       "      <td>0.491964</td>\n",
       "      <td>0.765563</td>\n",
       "      <td>dummy_constant</td>\n",
       "      <td>0.491964</td>\n",
       "      <td>0.765563</td>\n",
       "      <td>-0.075950</td>\n",
       "      <td>0.070588</td>\n",
       "      <td>0.000030</td>\n",
       "      <td>False</td>\n",
       "    </tr>\n",
       "    <tr>\n",
       "      <th>17</th>\n",
       "      <td>0.873848</td>\n",
       "      <td>0.611175</td>\n",
       "      <td>dummy_constant</td>\n",
       "      <td>0.873848</td>\n",
       "      <td>0.611175</td>\n",
       "      <td>0.231405</td>\n",
       "      <td>0.152122</td>\n",
       "      <td>0.000027</td>\n",
       "      <td>False</td>\n",
       "    </tr>\n",
       "    <tr>\n",
       "      <th>18</th>\n",
       "      <td>0.816608</td>\n",
       "      <td>0.366073</td>\n",
       "      <td>dummy_constant</td>\n",
       "      <td>0.816608</td>\n",
       "      <td>0.366073</td>\n",
       "      <td>-0.288762</td>\n",
       "      <td>0.118177</td>\n",
       "      <td>0.000029</td>\n",
       "      <td>False</td>\n",
       "    </tr>\n",
       "    <tr>\n",
       "      <th>19</th>\n",
       "      <td>1.067199</td>\n",
       "      <td>0.129921</td>\n",
       "      <td>dummy_constant</td>\n",
       "      <td>1.067199</td>\n",
       "      <td>0.129921</td>\n",
       "      <td>0.191722</td>\n",
       "      <td>0.458673</td>\n",
       "      <td>0.000027</td>\n",
       "      <td>False</td>\n",
       "    </tr>\n",
       "    <tr>\n",
       "      <th>20</th>\n",
       "      <td>0.184782</td>\n",
       "      <td>0.749810</td>\n",
       "      <td>dummy_constant</td>\n",
       "      <td>0.184782</td>\n",
       "      <td>0.749810</td>\n",
       "      <td>-0.328750</td>\n",
       "      <td>0.161768</td>\n",
       "      <td>0.000027</td>\n",
       "      <td>False</td>\n",
       "    </tr>\n",
       "    <tr>\n",
       "      <th>21</th>\n",
       "      <td>0.238605</td>\n",
       "      <td>0.742955</td>\n",
       "      <td>dummy_constant</td>\n",
       "      <td>0.238605</td>\n",
       "      <td>0.742955</td>\n",
       "      <td>-0.416758</td>\n",
       "      <td>0.127355</td>\n",
       "      <td>0.000028</td>\n",
       "      <td>False</td>\n",
       "    </tr>\n",
       "    <tr>\n",
       "      <th>22</th>\n",
       "      <td>1.264092</td>\n",
       "      <td>0.295383</td>\n",
       "      <td>dummy_constant</td>\n",
       "      <td>1.264092</td>\n",
       "      <td>0.295383</td>\n",
       "      <td>0.771397</td>\n",
       "      <td>0.625705</td>\n",
       "      <td>0.000026</td>\n",
       "      <td>False</td>\n",
       "    </tr>\n",
       "    <tr>\n",
       "      <th>23</th>\n",
       "      <td>0.099646</td>\n",
       "      <td>1.034081</td>\n",
       "      <td>dummy_constant</td>\n",
       "      <td>0.099646</td>\n",
       "      <td>1.034081</td>\n",
       "      <td>0.075877</td>\n",
       "      <td>0.445526</td>\n",
       "      <td>0.000028</td>\n",
       "      <td>False</td>\n",
       "    </tr>\n",
       "    <tr>\n",
       "      <th>24</th>\n",
       "      <td>0.049465</td>\n",
       "      <td>0.838855</td>\n",
       "      <td>dummy_constant</td>\n",
       "      <td>0.049465</td>\n",
       "      <td>0.838855</td>\n",
       "      <td>-0.352662</td>\n",
       "      <td>0.317804</td>\n",
       "      <td>0.000026</td>\n",
       "      <td>False</td>\n",
       "    </tr>\n",
       "    <tr>\n",
       "      <th>25</th>\n",
       "      <td>0.438260</td>\n",
       "      <td>0.902738</td>\n",
       "      <td>dummy_constant</td>\n",
       "      <td>0.438260</td>\n",
       "      <td>0.902738</td>\n",
       "      <td>-0.051305</td>\n",
       "      <td>0.166010</td>\n",
       "      <td>0.000029</td>\n",
       "      <td>False</td>\n",
       "    </tr>\n",
       "    <tr>\n",
       "      <th>26</th>\n",
       "      <td>0.265330</td>\n",
       "      <td>0.025841</td>\n",
       "      <td>dummy_constant</td>\n",
       "      <td>0.265330</td>\n",
       "      <td>0.025841</td>\n",
       "      <td>-0.930677</td>\n",
       "      <td>0.279897</td>\n",
       "      <td>0.000026</td>\n",
       "      <td>False</td>\n",
       "    </tr>\n",
       "    <tr>\n",
       "      <th>27</th>\n",
       "      <td>1.003227</td>\n",
       "      <td>0.229458</td>\n",
       "      <td>dummy_constant</td>\n",
       "      <td>1.003227</td>\n",
       "      <td>0.229458</td>\n",
       "      <td>0.148896</td>\n",
       "      <td>0.326431</td>\n",
       "      <td>0.000026</td>\n",
       "      <td>False</td>\n",
       "    </tr>\n",
       "    <tr>\n",
       "      <th>28</th>\n",
       "      <td>0.923006</td>\n",
       "      <td>0.422888</td>\n",
       "      <td>dummy_constant</td>\n",
       "      <td>0.923006</td>\n",
       "      <td>0.422888</td>\n",
       "      <td>-0.052277</td>\n",
       "      <td>0.184880</td>\n",
       "      <td>0.000028</td>\n",
       "      <td>False</td>\n",
       "    </tr>\n",
       "    <tr>\n",
       "      <th>29</th>\n",
       "      <td>0.043923</td>\n",
       "      <td>1.020844</td>\n",
       "      <td>dummy_constant</td>\n",
       "      <td>0.043923</td>\n",
       "      <td>1.020844</td>\n",
       "      <td>-0.033201</td>\n",
       "      <td>0.479284</td>\n",
       "      <td>0.000029</td>\n",
       "      <td>False</td>\n",
       "    </tr>\n",
       "    <tr>\n",
       "      <th>30</th>\n",
       "      <td>0.318229</td>\n",
       "      <td>0.963079</td>\n",
       "      <td>dummy_constant</td>\n",
       "      <td>0.318229</td>\n",
       "      <td>0.963079</td>\n",
       "      <td>-0.009576</td>\n",
       "      <td>0.247483</td>\n",
       "      <td>0.000026</td>\n",
       "      <td>False</td>\n",
       "    </tr>\n",
       "    <tr>\n",
       "      <th>31</th>\n",
       "      <td>1.033497</td>\n",
       "      <td>0.056593</td>\n",
       "      <td>dummy_constant</td>\n",
       "      <td>1.033497</td>\n",
       "      <td>0.056593</td>\n",
       "      <td>0.007240</td>\n",
       "      <td>0.481229</td>\n",
       "      <td>0.000027</td>\n",
       "      <td>False</td>\n",
       "    </tr>\n",
       "    <tr>\n",
       "      <th>32</th>\n",
       "      <td>0.324788</td>\n",
       "      <td>0.633435</td>\n",
       "      <td>dummy_constant</td>\n",
       "      <td>0.324788</td>\n",
       "      <td>0.633435</td>\n",
       "      <td>-0.520271</td>\n",
       "      <td>0.048504</td>\n",
       "      <td>0.000028</td>\n",
       "      <td>False</td>\n",
       "    </tr>\n",
       "    <tr>\n",
       "      <th>33</th>\n",
       "      <td>0.111044</td>\n",
       "      <td>0.898620</td>\n",
       "      <td>dummy_constant</td>\n",
       "      <td>0.111044</td>\n",
       "      <td>0.898620</td>\n",
       "      <td>-0.141544</td>\n",
       "      <td>0.310184</td>\n",
       "      <td>0.000027</td>\n",
       "      <td>False</td>\n",
       "    </tr>\n",
       "    <tr>\n",
       "      <th>34</th>\n",
       "      <td>0.200086</td>\n",
       "      <td>1.001075</td>\n",
       "      <td>dummy_constant</td>\n",
       "      <td>0.200086</td>\n",
       "      <td>1.001075</td>\n",
       "      <td>0.142175</td>\n",
       "      <td>0.341025</td>\n",
       "      <td>0.000028</td>\n",
       "      <td>False</td>\n",
       "    </tr>\n",
       "    <tr>\n",
       "      <th>35</th>\n",
       "      <td>0.011878</td>\n",
       "      <td>0.892844</td>\n",
       "      <td>dummy_constant</td>\n",
       "      <td>0.011878</td>\n",
       "      <td>0.892844</td>\n",
       "      <td>-0.300432</td>\n",
       "      <td>0.392589</td>\n",
       "      <td>0.000028</td>\n",
       "      <td>False</td>\n",
       "    </tr>\n",
       "    <tr>\n",
       "      <th>36</th>\n",
       "      <td>0.865613</td>\n",
       "      <td>0.132862</td>\n",
       "      <td>dummy_constant</td>\n",
       "      <td>0.865613</td>\n",
       "      <td>0.132862</td>\n",
       "      <td>-0.156888</td>\n",
       "      <td>0.268463</td>\n",
       "      <td>0.000026</td>\n",
       "      <td>False</td>\n",
       "    </tr>\n",
       "    <tr>\n",
       "      <th>37</th>\n",
       "      <td>1.329132</td>\n",
       "      <td>0.127425</td>\n",
       "      <td>dummy_constant</td>\n",
       "      <td>1.329132</td>\n",
       "      <td>0.127425</td>\n",
       "      <td>0.778676</td>\n",
       "      <td>0.826272</td>\n",
       "      <td>0.000027</td>\n",
       "      <td>False</td>\n",
       "    </tr>\n",
       "    <tr>\n",
       "      <th>38</th>\n",
       "      <td>0.623909</td>\n",
       "      <td>0.818158</td>\n",
       "      <td>dummy_constant</td>\n",
       "      <td>0.623909</td>\n",
       "      <td>0.818158</td>\n",
       "      <td>0.112736</td>\n",
       "      <td>0.116578</td>\n",
       "      <td>0.000028</td>\n",
       "      <td>False</td>\n",
       "    </tr>\n",
       "    <tr>\n",
       "      <th>39</th>\n",
       "      <td>0.044572</td>\n",
       "      <td>1.420368</td>\n",
       "      <td>dummy_constant</td>\n",
       "      <td>0.044572</td>\n",
       "      <td>1.420368</td>\n",
       "      <td>0.931765</td>\n",
       "      <td>1.054492</td>\n",
       "      <td>0.000029</td>\n",
       "      <td>False</td>\n",
       "    </tr>\n",
       "    <tr>\n",
       "      <th>40</th>\n",
       "      <td>0.394465</td>\n",
       "      <td>0.163567</td>\n",
       "      <td>dummy_constant</td>\n",
       "      <td>0.394465</td>\n",
       "      <td>0.163567</td>\n",
       "      <td>-0.917642</td>\n",
       "      <td>0.124325</td>\n",
       "      <td>0.000027</td>\n",
       "      <td>False</td>\n",
       "    </tr>\n",
       "    <tr>\n",
       "      <th>41</th>\n",
       "      <td>0.799042</td>\n",
       "      <td>0.653247</td>\n",
       "      <td>dummy_constant</td>\n",
       "      <td>0.799042</td>\n",
       "      <td>0.653247</td>\n",
       "      <td>0.068206</td>\n",
       "      <td>0.112911</td>\n",
       "      <td>0.000026</td>\n",
       "      <td>False</td>\n",
       "    </tr>\n",
       "    <tr>\n",
       "      <th>42</th>\n",
       "      <td>0.984802</td>\n",
       "      <td>0.205358</td>\n",
       "      <td>dummy_constant</td>\n",
       "      <td>0.984802</td>\n",
       "      <td>0.205358</td>\n",
       "      <td>0.110918</td>\n",
       "      <td>0.321847</td>\n",
       "      <td>0.000027</td>\n",
       "      <td>False</td>\n",
       "    </tr>\n",
       "    <tr>\n",
       "      <th>43</th>\n",
       "      <td>0.158677</td>\n",
       "      <td>0.922094</td>\n",
       "      <td>dummy_constant</td>\n",
       "      <td>0.158677</td>\n",
       "      <td>0.922094</td>\n",
       "      <td>-0.033052</td>\n",
       "      <td>0.294664</td>\n",
       "      <td>0.000028</td>\n",
       "      <td>False</td>\n",
       "    </tr>\n",
       "    <tr>\n",
       "      <th>44</th>\n",
       "      <td>0.688751</td>\n",
       "      <td>0.750990</td>\n",
       "      <td>dummy_constant</td>\n",
       "      <td>0.688751</td>\n",
       "      <td>0.750990</td>\n",
       "      <td>-0.038682</td>\n",
       "      <td>0.098623</td>\n",
       "      <td>0.000028</td>\n",
       "      <td>False</td>\n",
       "    </tr>\n",
       "    <tr>\n",
       "      <th>45</th>\n",
       "      <td>0.536931</td>\n",
       "      <td>0.868296</td>\n",
       "      <td>dummy_constant</td>\n",
       "      <td>0.536931</td>\n",
       "      <td>0.868296</td>\n",
       "      <td>0.126764</td>\n",
       "      <td>0.137006</td>\n",
       "      <td>0.000028</td>\n",
       "      <td>False</td>\n",
       "    </tr>\n",
       "    <tr>\n",
       "      <th>46</th>\n",
       "      <td>0.293146</td>\n",
       "      <td>0.946763</td>\n",
       "      <td>dummy_constant</td>\n",
       "      <td>0.293146</td>\n",
       "      <td>0.946763</td>\n",
       "      <td>-0.026881</td>\n",
       "      <td>0.242386</td>\n",
       "      <td>0.000029</td>\n",
       "      <td>False</td>\n",
       "    </tr>\n",
       "    <tr>\n",
       "      <th>47</th>\n",
       "      <td>0.859397</td>\n",
       "      <td>0.225534</td>\n",
       "      <td>dummy_constant</td>\n",
       "      <td>0.859397</td>\n",
       "      <td>0.225534</td>\n",
       "      <td>-0.153609</td>\n",
       "      <td>0.204497</td>\n",
       "      <td>0.000028</td>\n",
       "      <td>False</td>\n",
       "    </tr>\n",
       "    <tr>\n",
       "      <th>48</th>\n",
       "      <td>0.295751</td>\n",
       "      <td>0.475166</td>\n",
       "      <td>dummy_constant</td>\n",
       "      <td>0.295751</td>\n",
       "      <td>0.475166</td>\n",
       "      <td>-0.599815</td>\n",
       "      <td>0.042334</td>\n",
       "      <td>0.000028</td>\n",
       "      <td>False</td>\n",
       "    </tr>\n",
       "    <tr>\n",
       "      <th>49</th>\n",
       "      <td>0.316603</td>\n",
       "      <td>0.776499</td>\n",
       "      <td>dummy_constant</td>\n",
       "      <td>0.316603</td>\n",
       "      <td>0.776499</td>\n",
       "      <td>-0.396419</td>\n",
       "      <td>0.110086</td>\n",
       "      <td>0.000027</td>\n",
       "      <td>False</td>\n",
       "    </tr>\n",
       "    <tr>\n",
       "      <th>50</th>\n",
       "      <td>0.228622</td>\n",
       "      <td>0.718337</td>\n",
       "      <td>dummy_constant</td>\n",
       "      <td>0.228622</td>\n",
       "      <td>0.718337</td>\n",
       "      <td>-0.453319</td>\n",
       "      <td>0.121317</td>\n",
       "      <td>0.000029</td>\n",
       "      <td>False</td>\n",
       "    </tr>\n",
       "    <tr>\n",
       "      <th>51</th>\n",
       "      <td>0.059625</td>\n",
       "      <td>1.041815</td>\n",
       "      <td>dummy_constant</td>\n",
       "      <td>0.059625</td>\n",
       "      <td>1.041815</td>\n",
       "      <td>0.027932</td>\n",
       "      <td>0.487494</td>\n",
       "      <td>0.000027</td>\n",
       "      <td>False</td>\n",
       "    </tr>\n",
       "    <tr>\n",
       "      <th>52</th>\n",
       "      <td>0.374505</td>\n",
       "      <td>0.259116</td>\n",
       "      <td>dummy_constant</td>\n",
       "      <td>0.374505</td>\n",
       "      <td>0.259116</td>\n",
       "      <td>-0.695951</td>\n",
       "      <td>0.073774</td>\n",
       "      <td>0.000029</td>\n",
       "      <td>False</td>\n",
       "    </tr>\n",
       "    <tr>\n",
       "      <th>53</th>\n",
       "      <td>0.868100</td>\n",
       "      <td>0.091020</td>\n",
       "      <td>dummy_constant</td>\n",
       "      <td>0.868100</td>\n",
       "      <td>0.091020</td>\n",
       "      <td>-0.228066</td>\n",
       "      <td>0.302762</td>\n",
       "      <td>0.000027</td>\n",
       "      <td>False</td>\n",
       "    </tr>\n",
       "    <tr>\n",
       "      <th>54</th>\n",
       "      <td>1.329607</td>\n",
       "      <td>0.000790</td>\n",
       "      <td>dummy_constant</td>\n",
       "      <td>1.329607</td>\n",
       "      <td>0.000790</td>\n",
       "      <td>0.667861</td>\n",
       "      <td>0.937459</td>\n",
       "      <td>0.000029</td>\n",
       "      <td>False</td>\n",
       "    </tr>\n",
       "  </tbody>\n",
       "</table>\n",
       "</div>"
      ],
      "text/plain": [
       "          x1        x2               a        y1        y2        c1  \\\n",
       "0   1.478215  2.610461  dummy_constant  1.478215  2.610461  8.037640   \n",
       "1   2.360215  0.201359  dummy_constant  2.360215  0.201359  4.590406   \n",
       "2   2.006926  2.463747  dummy_constant  2.006926  2.463747  9.103646   \n",
       "3   3.018171  0.653570  dummy_constant  3.018171  0.653570  8.632872   \n",
       "4   1.045554  0.787613  dummy_constant  1.045554  0.787613  0.775292   \n",
       "5   0.822337  0.057849  dummy_constant  0.822337  0.057849 -0.363650   \n",
       "6   0.461457  0.000000  dummy_constant  0.461457  0.000000 -0.887057   \n",
       "7   0.084249  0.453893  dummy_constant  0.084249  0.453893 -0.688981   \n",
       "8   0.044708  0.833644  dummy_constant  0.044708  0.833644 -0.368491   \n",
       "9   0.981493  0.448183  dummy_constant  0.981493  0.448183  0.080034   \n",
       "10  0.535026  0.967587  dummy_constant  0.535026  0.967587  0.245050   \n",
       "11  0.267275  1.040288  dummy_constant  0.267275  1.040288  0.217184   \n",
       "12  0.767734  0.745850  dummy_constant  0.767734  0.745850  0.048371   \n",
       "13  0.955848  0.000000  dummy_constant  0.955848  0.000000 -0.186354   \n",
       "14  1.545384  0.109008  dummy_constant  1.545384  0.109008  1.357133   \n",
       "15  0.042279  0.250703  dummy_constant  0.042279  0.250703 -0.846135   \n",
       "16  0.491964  0.765563  dummy_constant  0.491964  0.765563 -0.075950   \n",
       "17  0.873848  0.611175  dummy_constant  0.873848  0.611175  0.231405   \n",
       "18  0.816608  0.366073  dummy_constant  0.816608  0.366073 -0.288762   \n",
       "19  1.067199  0.129921  dummy_constant  1.067199  0.129921  0.191722   \n",
       "20  0.184782  0.749810  dummy_constant  0.184782  0.749810 -0.328750   \n",
       "21  0.238605  0.742955  dummy_constant  0.238605  0.742955 -0.416758   \n",
       "22  1.264092  0.295383  dummy_constant  1.264092  0.295383  0.771397   \n",
       "23  0.099646  1.034081  dummy_constant  0.099646  1.034081  0.075877   \n",
       "24  0.049465  0.838855  dummy_constant  0.049465  0.838855 -0.352662   \n",
       "25  0.438260  0.902738  dummy_constant  0.438260  0.902738 -0.051305   \n",
       "26  0.265330  0.025841  dummy_constant  0.265330  0.025841 -0.930677   \n",
       "27  1.003227  0.229458  dummy_constant  1.003227  0.229458  0.148896   \n",
       "28  0.923006  0.422888  dummy_constant  0.923006  0.422888 -0.052277   \n",
       "29  0.043923  1.020844  dummy_constant  0.043923  1.020844 -0.033201   \n",
       "30  0.318229  0.963079  dummy_constant  0.318229  0.963079 -0.009576   \n",
       "31  1.033497  0.056593  dummy_constant  1.033497  0.056593  0.007240   \n",
       "32  0.324788  0.633435  dummy_constant  0.324788  0.633435 -0.520271   \n",
       "33  0.111044  0.898620  dummy_constant  0.111044  0.898620 -0.141544   \n",
       "34  0.200086  1.001075  dummy_constant  0.200086  1.001075  0.142175   \n",
       "35  0.011878  0.892844  dummy_constant  0.011878  0.892844 -0.300432   \n",
       "36  0.865613  0.132862  dummy_constant  0.865613  0.132862 -0.156888   \n",
       "37  1.329132  0.127425  dummy_constant  1.329132  0.127425  0.778676   \n",
       "38  0.623909  0.818158  dummy_constant  0.623909  0.818158  0.112736   \n",
       "39  0.044572  1.420368  dummy_constant  0.044572  1.420368  0.931765   \n",
       "40  0.394465  0.163567  dummy_constant  0.394465  0.163567 -0.917642   \n",
       "41  0.799042  0.653247  dummy_constant  0.799042  0.653247  0.068206   \n",
       "42  0.984802  0.205358  dummy_constant  0.984802  0.205358  0.110918   \n",
       "43  0.158677  0.922094  dummy_constant  0.158677  0.922094 -0.033052   \n",
       "44  0.688751  0.750990  dummy_constant  0.688751  0.750990 -0.038682   \n",
       "45  0.536931  0.868296  dummy_constant  0.536931  0.868296  0.126764   \n",
       "46  0.293146  0.946763  dummy_constant  0.293146  0.946763 -0.026881   \n",
       "47  0.859397  0.225534  dummy_constant  0.859397  0.225534 -0.153609   \n",
       "48  0.295751  0.475166  dummy_constant  0.295751  0.475166 -0.599815   \n",
       "49  0.316603  0.776499  dummy_constant  0.316603  0.776499 -0.396419   \n",
       "50  0.228622  0.718337  dummy_constant  0.228622  0.718337 -0.453319   \n",
       "51  0.059625  1.041815  dummy_constant  0.059625  1.041815  0.027932   \n",
       "52  0.374505  0.259116  dummy_constant  0.374505  0.259116 -0.695951   \n",
       "53  0.868100  0.091020  dummy_constant  0.868100  0.091020 -0.228066   \n",
       "54  1.329607  0.000790  dummy_constant  1.329607  0.000790  0.667861   \n",
       "\n",
       "          c2  xopt_runtime  xopt_error  \n",
       "0   5.410950      0.000034       False  \n",
       "1   3.549586      0.000012       False  \n",
       "2   6.127130      0.000007       False  \n",
       "3   6.364767      0.000006       False  \n",
       "4   0.380351      0.000006       False  \n",
       "5   0.299398      0.000027       False  \n",
       "6   0.251486      0.000029       False  \n",
       "7   0.174975      0.000026       False  \n",
       "8   0.318610      0.000025       False  \n",
       "9   0.234520      0.000029       False  \n",
       "10  0.219865      0.000028       False  \n",
       "11  0.346073      0.000027       False  \n",
       "12  0.132124      0.000029       False  \n",
       "13  0.457798      0.000027       False  \n",
       "14  1.245702      0.000026       False  \n",
       "15  0.271658      0.000027       False  \n",
       "16  0.070588      0.000030       False  \n",
       "17  0.152122      0.000027       False  \n",
       "18  0.118177      0.000029       False  \n",
       "19  0.458673      0.000027       False  \n",
       "20  0.161768      0.000027       False  \n",
       "21  0.127355      0.000028       False  \n",
       "22  0.625705      0.000026       False  \n",
       "23  0.445526      0.000028       False  \n",
       "24  0.317804      0.000026       False  \n",
       "25  0.166010      0.000029       False  \n",
       "26  0.279897      0.000026       False  \n",
       "27  0.326431      0.000026       False  \n",
       "28  0.184880      0.000028       False  \n",
       "29  0.479284      0.000029       False  \n",
       "30  0.247483      0.000026       False  \n",
       "31  0.481229      0.000027       False  \n",
       "32  0.048504      0.000028       False  \n",
       "33  0.310184      0.000027       False  \n",
       "34  0.341025      0.000028       False  \n",
       "35  0.392589      0.000028       False  \n",
       "36  0.268463      0.000026       False  \n",
       "37  0.826272      0.000027       False  \n",
       "38  0.116578      0.000028       False  \n",
       "39  1.054492      0.000029       False  \n",
       "40  0.124325      0.000027       False  \n",
       "41  0.112911      0.000026       False  \n",
       "42  0.321847      0.000027       False  \n",
       "43  0.294664      0.000028       False  \n",
       "44  0.098623      0.000028       False  \n",
       "45  0.137006      0.000028       False  \n",
       "46  0.242386      0.000029       False  \n",
       "47  0.204497      0.000028       False  \n",
       "48  0.042334      0.000028       False  \n",
       "49  0.110086      0.000027       False  \n",
       "50  0.121317      0.000029       False  \n",
       "51  0.487494      0.000027       False  \n",
       "52  0.073774      0.000029       False  \n",
       "53  0.302762      0.000027       False  \n",
       "54  0.937459      0.000029       False  "
      ]
     },
     "execution_count": 3,
     "metadata": {},
     "output_type": "execute_result"
    }
   ],
   "source": [
    "X.generator.data"
   ]
  },
  {
   "cell_type": "markdown",
   "metadata": {
    "collapsed": false
   },
   "source": [
    "## plot results\n"
   ]
  },
  {
   "cell_type": "code",
   "execution_count": 4,
   "metadata": {
    "collapsed": false,
    "execution": {
     "iopub.execute_input": "2024-04-15T17:38:52.350024Z",
     "iopub.status.busy": "2024-04-15T17:38:52.349625Z",
     "iopub.status.idle": "2024-04-15T17:38:53.114112Z",
     "shell.execute_reply": "2024-04-15T17:38:53.113466Z"
    }
   },
   "outputs": [
    {
     "data": {
      "image/png": "[encoded data removed]",
      "text/plain": [
       "<Figure size 640x480 with 1 Axes>"
      ]
     },
     "metadata": {},
     "output_type": "display_data"
    }
   ],
   "source": [
    "import matplotlib.pyplot as plt\n",
    "import numpy as np\n",
    "import pandas as pd\n",
    "\n",
    "fig, ax = plt.subplots()\n",
    "\n",
    "theta = np.linspace(0, np.pi / 2)\n",
    "r = np.sqrt(1 + 0.1 * np.cos(16 * theta))\n",
    "x_1 = r * np.sin(theta)\n",
    "x_2_lower = r * np.cos(theta)\n",
    "x_2_upper = (0.5 - (x_1 - 0.5) ** 2) ** 0.5 + 0.5\n",
    "\n",
    "z = np.zeros_like(x_1)\n",
    "\n",
    "# ax2.plot(x_1, x_2_lower,'r')\n",
    "ax.fill_between(x_1, z, x_2_lower, fc=\"white\")\n",
    "circle = plt.Circle(\n",
    "    (0.5, 0.5), 0.5 ** 0.5, color=\"r\", alpha=0.25, zorder=0, label=\"Valid Region\"\n",
    ")\n",
    "ax.add_patch(circle)\n",
    "history = pd.concat(\n",
    "    [X.data, X.vocs.feasibility_data(X.data)], axis=1, ignore_index=False\n",
    ")\n",
    "\n",
    "\n",
    "ax.plot(*history[[\"x1\", \"x2\"]][history[\"feasible\"]].to_numpy().T, \".C1\")\n",
    "ax.plot(*history[[\"x1\", \"x2\"]][~history[\"feasible\"]].to_numpy().T, \".C2\")\n",
    "\n",
    "ax.set_xlim(0, 3.14)\n",
    "ax.set_ylim(0, 3.14)\n",
    "ax.set_xlabel(\"x1\")\n",
    "ax.set_ylabel(\"x2\")\n",
    "ax.set_aspect(\"equal\")"
   ]
  },
  {
   "cell_type": "markdown",
   "metadata": {
    "collapsed": false
   },
   "source": [
    "### Plot path through input space"
   ]
  },
  {
   "cell_type": "code",
   "execution_count": 5,
   "metadata": {
    "collapsed": false,
    "execution": {
     "iopub.execute_input": "2024-04-15T17:38:53.117071Z",
     "iopub.status.busy": "2024-04-15T17:38:53.116780Z",
     "iopub.status.idle": "2024-04-15T17:38:53.242052Z",
     "shell.execute_reply": "2024-04-15T17:38:53.241426Z"
    }
   },
   "outputs": [
    {
     "data": {
      "image/png": "[encoded data removed]",
      "text/plain": [
       "<Figure size 640x480 with 1 Axes>"
      ]
     },
     "metadata": {},
     "output_type": "display_data"
    }
   ],
   "source": [
    "ax = history.plot(\"x1\", \"x2\")\n",
    "ax.set_ylim(0, 3.14)\n",
    "ax.set_xlim(0, 3.14)\n",
    "ax.set_aspect(\"equal\")"
   ]
  },
  {
   "cell_type": "code",
   "execution_count": 6,
   "metadata": {
    "collapsed": false,
    "execution": {
     "iopub.execute_input": "2024-04-15T17:38:53.244534Z",
     "iopub.status.busy": "2024-04-15T17:38:53.244156Z",
     "iopub.status.idle": "2024-04-15T17:38:58.492471Z",
     "shell.execute_reply": "2024-04-15T17:38:58.491869Z"
    }
   },
   "outputs": [
    {
     "name": "stdout",
     "output_type": "stream",
     "text": [
      "[[0.87622947 0.52366034]]\n"
     ]
    },
    {
     "data": {
      "text/plain": [
       "[<matplotlib.lines.Line2D at 0x7f1dc86a3ca0>]"
      ]
     },
     "execution_count": 6,
     "metadata": {},
     "output_type": "execute_result"
    },
    {
     "data": {
      "image/png": "[encoded data removed]",
      "text/plain": [
       "<Figure size 800x800 with 2 Axes>"
      ]
     },
     "metadata": {},
     "output_type": "display_data"
    },
    {
     "data": {
      "image/png": "[encoded data removed]",
      "text/plain": [
       "<Figure size 800x800 with 2 Axes>"
      ]
     },
     "metadata": {},
     "output_type": "display_data"
    }
   ],
   "source": [
    "# plot the acquisition function\n",
    "from xopt.generators.bayesian.objectives import feasibility\n",
    "\n",
    "bounds = X.generator.vocs.bounds\n",
    "model = X.generator.model\n",
    "\n",
    "# create mesh\n",
    "n = 100\n",
    "x = torch.linspace(*bounds.T[0], n)\n",
    "y = torch.linspace(*bounds.T[1], n)\n",
    "xx, yy = torch.meshgrid(x, y)\n",
    "pts = torch.hstack([ele.reshape(-1, 1) for ele in (xx, yy)]).double()\n",
    "\n",
    "xx, yy = xx.numpy(), yy.numpy()\n",
    "\n",
    "acq_func = X.generator.get_acquisition(model)\n",
    "with torch.no_grad():\n",
    "    acq_pts = pts.unsqueeze(1)\n",
    "    acq = acq_func(acq_pts)\n",
    "\n",
    "    fig, ax = plt.subplots(figsize=(8,8))\n",
    "    c = ax.pcolor(xx, yy, acq.reshape(n, n), cmap=\"Blues\")\n",
    "    fig.colorbar(c)\n",
    "    ax.set_title(\"Acquisition function\")\n",
    "\n",
    "    ax.plot(*history[[\"x1\", \"x2\"]][history[\"feasible\"]].to_numpy().T, \".C1\")\n",
    "    ax.plot(*history[[\"x1\", \"x2\"]][~history[\"feasible\"]].to_numpy().T, \".C2\")\n",
    "\n",
    "    ax.plot(*history[[\"x1\", \"x2\"]].to_numpy()[-1].T, \"+\")\n",
    "\n",
    "    feas = feasibility(pts.unsqueeze(1), model, X.vocs).flatten()\n",
    "\n",
    "    fig2, ax2 = plt.subplots(figsize=(8,8))\n",
    "    c = ax2.pcolor(xx, yy, feas.reshape(n, n))\n",
    "    fig2.colorbar(c)\n",
    "    ax2.set_title(\"Feasible Region\")\n",
    "\n",
    "candidate = pd.DataFrame(X.generator.generate(1), index=[0])\n",
    "print(candidate[[\"x1\", \"x2\"]].to_numpy())\n",
    "ax.plot(*candidate[[\"x1\", \"x2\"]].to_numpy()[0], \"o\")"
   ]
  }
 ],
 "metadata": {
  "interpreter": {
   "hash": "72034539424920dfb606fe3b820b3f27dca0cbf1c69938110810ec4641e275b1"
  },
  "kernelspec": {
   "display_name": "Python 3 (ipykernel)",
   "language": "python",
   "name": "python3"
  },
  "language_info": {
   "codemirror_mode": {
    "name": "ipython",
    "version": 3
   },
   "file_extension": ".py",
   "mimetype": "text/x-python",
   "name": "python",
   "nbconvert_exporter": "python",
   "pygments_lexer": "ipython3",
   "version": "3.9.19"
  }
 },
 "nbformat": 4,
 "nbformat_minor": 4
}
