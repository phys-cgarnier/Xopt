{
 "cells": [
  {
   "cell_type": "markdown",
   "metadata": {},
   "source": [
    "\n",
    "# Multi-objective Bayesian Optimization\n",
    "\n",
    "\n",
    "TNK function\n",
    "$n=2$ variables:\n",
    "$x_i \\in [0, \\pi], i=1,2$\n",
    "\n",
    "Objectives:\n",
    "- $f_i(x) = x_i$\n",
    "\n",
    "Constraints:\n",
    "- $g_1(x) = -x_1^2 -x_2^2 + 1 + 0.1 \\cos\\left(16 \\arctan \\frac{x_1}{x_2}\\right) \\le 0$\n",
    "- $g_2(x) = (x_1 - 1/2)^2 + (x_2-1/2)^2 \\le 0.5$"
   ]
  },
  {
   "cell_type": "code",
   "execution_count": 1,
   "metadata": {
    "collapsed": false,
    "execution": {
     "iopub.execute_input": "2024-07-31T03:30:50.765278Z",
     "iopub.status.busy": "2024-07-31T03:30:50.765100Z",
     "iopub.status.idle": "2024-07-31T03:30:52.035871Z",
     "shell.execute_reply": "2024-07-31T03:30:52.035234Z"
    }
   },
   "outputs": [],
   "source": [
    "import os\n",
    "SMOKE_TEST = os.environ.get(\"SMOKE_TEST\")\n",
    "NUM_STEPS = 2 if SMOKE_TEST else 50\n",
    "\n",
    "# Ignore all warnings\n",
    "import warnings\n",
    "warnings.filterwarnings(\"ignore\")\n",
    "\n",
    "import torch\n",
    "from xopt import Xopt\n",
    "\n",
    "\n",
    "YAML = \"\"\"\n",
    "generator:\n",
    "    name: mobo\n",
    "    reference_point: {y1: 1.5, y2: 1.5}\n",
    "\n",
    "evaluator:\n",
    "    function: xopt.resources.test_functions.tnk.evaluate_TNK\n",
    "\n",
    "vocs:\n",
    "    variables:\n",
    "        x1: [0, 3.14159]\n",
    "        x2: [0, 3.14159]\n",
    "    objectives: {y1: MINIMIZE, y2: MINIMIZE}\n",
    "    constraints:\n",
    "        c1: [GREATER_THAN, 0]\n",
    "        c2: [LESS_THAN, 0.5]\n",
    "    constants: {a: dummy_constant}\n",
    "\n",
    "\"\"\""
   ]
  },
  {
   "cell_type": "code",
   "execution_count": 2,
   "metadata": {
    "collapsed": false,
    "execution": {
     "iopub.execute_input": "2024-07-31T03:30:52.039136Z",
     "iopub.status.busy": "2024-07-31T03:30:52.038434Z",
     "iopub.status.idle": "2024-07-31T03:31:35.217181Z",
     "shell.execute_reply": "2024-07-31T03:31:35.216571Z"
    }
   },
   "outputs": [
    {
     "name": "stdout",
     "output_type": "stream",
     "text": [
      "0\n"
     ]
    },
    {
     "name": "stdout",
     "output_type": "stream",
     "text": [
      "1\n"
     ]
    },
    {
     "name": "stdout",
     "output_type": "stream",
     "text": [
      "2\n"
     ]
    },
    {
     "name": "stdout",
     "output_type": "stream",
     "text": [
      "3\n"
     ]
    },
    {
     "name": "stdout",
     "output_type": "stream",
     "text": [
      "4\n"
     ]
    },
    {
     "name": "stdout",
     "output_type": "stream",
     "text": [
      "5\n"
     ]
    },
    {
     "name": "stdout",
     "output_type": "stream",
     "text": [
      "6\n"
     ]
    },
    {
     "name": "stdout",
     "output_type": "stream",
     "text": [
      "7\n"
     ]
    },
    {
     "name": "stdout",
     "output_type": "stream",
     "text": [
      "8\n"
     ]
    },
    {
     "name": "stdout",
     "output_type": "stream",
     "text": [
      "9\n"
     ]
    },
    {
     "name": "stdout",
     "output_type": "stream",
     "text": [
      "10\n"
     ]
    },
    {
     "name": "stdout",
     "output_type": "stream",
     "text": [
      "11\n"
     ]
    },
    {
     "name": "stdout",
     "output_type": "stream",
     "text": [
      "12\n"
     ]
    },
    {
     "name": "stdout",
     "output_type": "stream",
     "text": [
      "13\n"
     ]
    },
    {
     "name": "stdout",
     "output_type": "stream",
     "text": [
      "14\n"
     ]
    },
    {
     "name": "stdout",
     "output_type": "stream",
     "text": [
      "15\n"
     ]
    },
    {
     "name": "stdout",
     "output_type": "stream",
     "text": [
      "16\n"
     ]
    },
    {
     "name": "stdout",
     "output_type": "stream",
     "text": [
      "17\n"
     ]
    },
    {
     "name": "stdout",
     "output_type": "stream",
     "text": [
      "18\n"
     ]
    },
    {
     "name": "stdout",
     "output_type": "stream",
     "text": [
      "19\n"
     ]
    },
    {
     "name": "stdout",
     "output_type": "stream",
     "text": [
      "20\n"
     ]
    },
    {
     "name": "stdout",
     "output_type": "stream",
     "text": [
      "21\n"
     ]
    },
    {
     "name": "stdout",
     "output_type": "stream",
     "text": [
      "22\n"
     ]
    },
    {
     "name": "stdout",
     "output_type": "stream",
     "text": [
      "23\n"
     ]
    },
    {
     "name": "stdout",
     "output_type": "stream",
     "text": [
      "24\n"
     ]
    },
    {
     "name": "stdout",
     "output_type": "stream",
     "text": [
      "25\n"
     ]
    },
    {
     "name": "stdout",
     "output_type": "stream",
     "text": [
      "26\n"
     ]
    },
    {
     "name": "stdout",
     "output_type": "stream",
     "text": [
      "27\n"
     ]
    },
    {
     "name": "stdout",
     "output_type": "stream",
     "text": [
      "28\n"
     ]
    },
    {
     "name": "stdout",
     "output_type": "stream",
     "text": [
      "29\n"
     ]
    },
    {
     "name": "stdout",
     "output_type": "stream",
     "text": [
      "30\n"
     ]
    },
    {
     "name": "stdout",
     "output_type": "stream",
     "text": [
      "31\n"
     ]
    },
    {
     "name": "stdout",
     "output_type": "stream",
     "text": [
      "32\n"
     ]
    },
    {
     "name": "stdout",
     "output_type": "stream",
     "text": [
      "33\n"
     ]
    },
    {
     "name": "stdout",
     "output_type": "stream",
     "text": [
      "34\n"
     ]
    },
    {
     "name": "stdout",
     "output_type": "stream",
     "text": [
      "35\n"
     ]
    },
    {
     "name": "stdout",
     "output_type": "stream",
     "text": [
      "36\n"
     ]
    },
    {
     "name": "stdout",
     "output_type": "stream",
     "text": [
      "37\n"
     ]
    },
    {
     "name": "stdout",
     "output_type": "stream",
     "text": [
      "38\n"
     ]
    },
    {
     "name": "stdout",
     "output_type": "stream",
     "text": [
      "39\n"
     ]
    },
    {
     "name": "stdout",
     "output_type": "stream",
     "text": [
      "40\n"
     ]
    },
    {
     "name": "stdout",
     "output_type": "stream",
     "text": [
      "41\n"
     ]
    },
    {
     "name": "stdout",
     "output_type": "stream",
     "text": [
      "42\n"
     ]
    },
    {
     "name": "stdout",
     "output_type": "stream",
     "text": [
      "43\n"
     ]
    },
    {
     "name": "stdout",
     "output_type": "stream",
     "text": [
      "44\n"
     ]
    },
    {
     "name": "stdout",
     "output_type": "stream",
     "text": [
      "45\n"
     ]
    },
    {
     "name": "stdout",
     "output_type": "stream",
     "text": [
      "46\n"
     ]
    },
    {
     "name": "stdout",
     "output_type": "stream",
     "text": [
      "47\n"
     ]
    },
    {
     "name": "stdout",
     "output_type": "stream",
     "text": [
      "48\n"
     ]
    },
    {
     "name": "stdout",
     "output_type": "stream",
     "text": [
      "49\n"
     ]
    }
   ],
   "source": [
    "X = Xopt.from_yaml(YAML)\n",
    "\n",
    "# for testing purposes only\n",
    "if SMOKE_TEST:\n",
    "    X.generator.numerical_optimizer.n_restarts = 1\n",
    "    X.generator.n_monte_carlo_samples = 1\n",
    "\n",
    "X.random_evaluate(5)\n",
    "for i in range(NUM_STEPS):\n",
    "    print(i)\n",
    "    X.step()"
   ]
  },
  {
   "cell_type": "code",
   "execution_count": 3,
   "metadata": {
    "collapsed": false,
    "execution": {
     "iopub.execute_input": "2024-07-31T03:31:35.220282Z",
     "iopub.status.busy": "2024-07-31T03:31:35.219958Z",
     "iopub.status.idle": "2024-07-31T03:31:35.239359Z",
     "shell.execute_reply": "2024-07-31T03:31:35.238872Z"
    }
   },
   "outputs": [
    {
     "data": {
      "text/html": [
       "<div>\n",
       "<style scoped>\n",
       "    .dataframe tbody tr th:only-of-type {\n",
       "        vertical-align: middle;\n",
       "    }\n",
       "\n",
       "    .dataframe tbody tr th {\n",
       "        vertical-align: top;\n",
       "    }\n",
       "\n",
       "    .dataframe thead th {\n",
       "        text-align: right;\n",
       "    }\n",
       "</style>\n",
       "<table border=\"1\" class=\"dataframe\">\n",
       "  <thead>\n",
       "    <tr style=\"text-align: right;\">\n",
       "      <th></th>\n",
       "      <th>x1</th>\n",
       "      <th>x2</th>\n",
       "      <th>a</th>\n",
       "      <th>y1</th>\n",
       "      <th>y2</th>\n",
       "      <th>c1</th>\n",
       "      <th>c2</th>\n",
       "      <th>xopt_runtime</th>\n",
       "      <th>xopt_error</th>\n",
       "    </tr>\n",
       "  </thead>\n",
       "  <tbody>\n",
       "    <tr>\n",
       "      <th>0</th>\n",
       "      <td>0.336613</td>\n",
       "      <td>2.630328</td>\n",
       "      <td>dummy_constant</td>\n",
       "      <td>0.336613</td>\n",
       "      <td>2.630328</td>\n",
       "      <td>6.076839</td>\n",
       "      <td>4.564991</td>\n",
       "      <td>0.000031</td>\n",
       "      <td>False</td>\n",
       "    </tr>\n",
       "    <tr>\n",
       "      <th>1</th>\n",
       "      <td>0.106895</td>\n",
       "      <td>2.092116</td>\n",
       "      <td>dummy_constant</td>\n",
       "      <td>0.106895</td>\n",
       "      <td>2.092116</td>\n",
       "      <td>3.319922</td>\n",
       "      <td>2.689366</td>\n",
       "      <td>0.000010</td>\n",
       "      <td>False</td>\n",
       "    </tr>\n",
       "    <tr>\n",
       "      <th>2</th>\n",
       "      <td>1.200762</td>\n",
       "      <td>1.874417</td>\n",
       "      <td>dummy_constant</td>\n",
       "      <td>1.200762</td>\n",
       "      <td>1.874417</td>\n",
       "      <td>4.050533</td>\n",
       "      <td>2.380088</td>\n",
       "      <td>0.000007</td>\n",
       "      <td>False</td>\n",
       "    </tr>\n",
       "    <tr>\n",
       "      <th>3</th>\n",
       "      <td>1.343674</td>\n",
       "      <td>0.478797</td>\n",
       "      <td>dummy_constant</td>\n",
       "      <td>1.343674</td>\n",
       "      <td>0.478797</td>\n",
       "      <td>0.965489</td>\n",
       "      <td>0.712236</td>\n",
       "      <td>0.000006</td>\n",
       "      <td>False</td>\n",
       "    </tr>\n",
       "    <tr>\n",
       "      <th>4</th>\n",
       "      <td>0.798794</td>\n",
       "      <td>1.037409</td>\n",
       "      <td>dummy_constant</td>\n",
       "      <td>0.798794</td>\n",
       "      <td>1.037409</td>\n",
       "      <td>0.761952</td>\n",
       "      <td>0.378086</td>\n",
       "      <td>0.000006</td>\n",
       "      <td>False</td>\n",
       "    </tr>\n",
       "    <tr>\n",
       "      <th>5</th>\n",
       "      <td>0.133192</td>\n",
       "      <td>0.331413</td>\n",
       "      <td>dummy_constant</td>\n",
       "      <td>0.133192</td>\n",
       "      <td>0.331413</td>\n",
       "      <td>-0.971000</td>\n",
       "      <td>0.162970</td>\n",
       "      <td>0.000027</td>\n",
       "      <td>False</td>\n",
       "    </tr>\n",
       "    <tr>\n",
       "      <th>6</th>\n",
       "      <td>0.680858</td>\n",
       "      <td>0.898911</td>\n",
       "      <td>dummy_constant</td>\n",
       "      <td>0.680858</td>\n",
       "      <td>0.898911</td>\n",
       "      <td>0.330019</td>\n",
       "      <td>0.191839</td>\n",
       "      <td>0.000024</td>\n",
       "      <td>False</td>\n",
       "    </tr>\n",
       "    <tr>\n",
       "      <th>7</th>\n",
       "      <td>0.748816</td>\n",
       "      <td>0.339878</td>\n",
       "      <td>dummy_constant</td>\n",
       "      <td>0.748816</td>\n",
       "      <td>0.339878</td>\n",
       "      <td>-0.409829</td>\n",
       "      <td>0.087548</td>\n",
       "      <td>0.000023</td>\n",
       "      <td>False</td>\n",
       "    </tr>\n",
       "    <tr>\n",
       "      <th>8</th>\n",
       "      <td>1.020260</td>\n",
       "      <td>0.376211</td>\n",
       "      <td>dummy_constant</td>\n",
       "      <td>1.020260</td>\n",
       "      <td>0.376211</td>\n",
       "      <td>0.101713</td>\n",
       "      <td>0.285995</td>\n",
       "      <td>0.000025</td>\n",
       "      <td>False</td>\n",
       "    </tr>\n",
       "    <tr>\n",
       "      <th>9</th>\n",
       "      <td>0.071844</td>\n",
       "      <td>1.111315</td>\n",
       "      <td>dummy_constant</td>\n",
       "      <td>0.071844</td>\n",
       "      <td>1.111315</td>\n",
       "      <td>0.188952</td>\n",
       "      <td>0.557024</td>\n",
       "      <td>0.000024</td>\n",
       "      <td>False</td>\n",
       "    </tr>\n",
       "    <tr>\n",
       "      <th>10</th>\n",
       "      <td>1.433563</td>\n",
       "      <td>0.298991</td>\n",
       "      <td>dummy_constant</td>\n",
       "      <td>1.433563</td>\n",
       "      <td>0.298991</td>\n",
       "      <td>1.243400</td>\n",
       "      <td>0.911944</td>\n",
       "      <td>0.000024</td>\n",
       "      <td>False</td>\n",
       "    </tr>\n",
       "    <tr>\n",
       "      <th>11</th>\n",
       "      <td>0.135030</td>\n",
       "      <td>1.035988</td>\n",
       "      <td>dummy_constant</td>\n",
       "      <td>0.135030</td>\n",
       "      <td>1.035988</td>\n",
       "      <td>0.139704</td>\n",
       "      <td>0.420486</td>\n",
       "      <td>0.000025</td>\n",
       "      <td>False</td>\n",
       "    </tr>\n",
       "    <tr>\n",
       "      <th>12</th>\n",
       "      <td>0.461612</td>\n",
       "      <td>0.576105</td>\n",
       "      <td>dummy_constant</td>\n",
       "      <td>0.461612</td>\n",
       "      <td>0.576105</td>\n",
       "      <td>-0.436386</td>\n",
       "      <td>0.007266</td>\n",
       "      <td>0.000023</td>\n",
       "      <td>False</td>\n",
       "    </tr>\n",
       "    <tr>\n",
       "      <th>13</th>\n",
       "      <td>0.510816</td>\n",
       "      <td>0.000000</td>\n",
       "      <td>dummy_constant</td>\n",
       "      <td>0.510816</td>\n",
       "      <td>0.000000</td>\n",
       "      <td>-0.839067</td>\n",
       "      <td>0.250117</td>\n",
       "      <td>0.000024</td>\n",
       "      <td>False</td>\n",
       "    </tr>\n",
       "    <tr>\n",
       "      <th>14</th>\n",
       "      <td>1.033240</td>\n",
       "      <td>0.115634</td>\n",
       "      <td>dummy_constant</td>\n",
       "      <td>1.033240</td>\n",
       "      <td>0.115634</td>\n",
       "      <td>0.102038</td>\n",
       "      <td>0.432082</td>\n",
       "      <td>0.000026</td>\n",
       "      <td>False</td>\n",
       "    </tr>\n",
       "    <tr>\n",
       "      <th>15</th>\n",
       "      <td>0.552568</td>\n",
       "      <td>0.810231</td>\n",
       "      <td>dummy_constant</td>\n",
       "      <td>0.552568</td>\n",
       "      <td>0.810231</td>\n",
       "      <td>0.060657</td>\n",
       "      <td>0.099007</td>\n",
       "      <td>0.000025</td>\n",
       "      <td>False</td>\n",
       "    </tr>\n",
       "    <tr>\n",
       "      <th>16</th>\n",
       "      <td>0.847578</td>\n",
       "      <td>0.649422</td>\n",
       "      <td>dummy_constant</td>\n",
       "      <td>0.847578</td>\n",
       "      <td>0.649422</td>\n",
       "      <td>0.191109</td>\n",
       "      <td>0.143137</td>\n",
       "      <td>0.000025</td>\n",
       "      <td>False</td>\n",
       "    </tr>\n",
       "    <tr>\n",
       "      <th>17</th>\n",
       "      <td>0.121287</td>\n",
       "      <td>1.191440</td>\n",
       "      <td>dummy_constant</td>\n",
       "      <td>0.121287</td>\n",
       "      <td>1.191440</td>\n",
       "      <td>0.439476</td>\n",
       "      <td>0.621512</td>\n",
       "      <td>0.000024</td>\n",
       "      <td>False</td>\n",
       "    </tr>\n",
       "    <tr>\n",
       "      <th>18</th>\n",
       "      <td>0.637292</td>\n",
       "      <td>0.048294</td>\n",
       "      <td>dummy_constant</td>\n",
       "      <td>0.637292</td>\n",
       "      <td>0.048294</td>\n",
       "      <td>-0.626812</td>\n",
       "      <td>0.222887</td>\n",
       "      <td>0.000024</td>\n",
       "      <td>False</td>\n",
       "    </tr>\n",
       "    <tr>\n",
       "      <th>19</th>\n",
       "      <td>0.444921</td>\n",
       "      <td>0.588868</td>\n",
       "      <td>dummy_constant</td>\n",
       "      <td>0.444921</td>\n",
       "      <td>0.588868</td>\n",
       "      <td>-0.395332</td>\n",
       "      <td>0.010931</td>\n",
       "      <td>0.000025</td>\n",
       "      <td>False</td>\n",
       "    </tr>\n",
       "    <tr>\n",
       "      <th>20</th>\n",
       "      <td>0.702153</td>\n",
       "      <td>0.453840</td>\n",
       "      <td>dummy_constant</td>\n",
       "      <td>0.702153</td>\n",
       "      <td>0.453840</td>\n",
       "      <td>-0.203969</td>\n",
       "      <td>0.042997</td>\n",
       "      <td>0.000027</td>\n",
       "      <td>False</td>\n",
       "    </tr>\n",
       "    <tr>\n",
       "      <th>21</th>\n",
       "      <td>0.703410</td>\n",
       "      <td>0.701557</td>\n",
       "      <td>dummy_constant</td>\n",
       "      <td>0.703410</td>\n",
       "      <td>0.701557</td>\n",
       "      <td>-0.113009</td>\n",
       "      <td>0.082001</td>\n",
       "      <td>0.000026</td>\n",
       "      <td>False</td>\n",
       "    </tr>\n",
       "    <tr>\n",
       "      <th>22</th>\n",
       "      <td>0.056481</td>\n",
       "      <td>1.032413</td>\n",
       "      <td>dummy_constant</td>\n",
       "      <td>0.056481</td>\n",
       "      <td>1.032413</td>\n",
       "      <td>0.004926</td>\n",
       "      <td>0.480172</td>\n",
       "      <td>0.000027</td>\n",
       "      <td>False</td>\n",
       "    </tr>\n",
       "    <tr>\n",
       "      <th>23</th>\n",
       "      <td>0.928112</td>\n",
       "      <td>0.474734</td>\n",
       "      <td>dummy_constant</td>\n",
       "      <td>0.928112</td>\n",
       "      <td>0.474734</td>\n",
       "      <td>0.058262</td>\n",
       "      <td>0.183918</td>\n",
       "      <td>0.000026</td>\n",
       "      <td>False</td>\n",
       "    </tr>\n",
       "    <tr>\n",
       "      <th>24</th>\n",
       "      <td>0.811356</td>\n",
       "      <td>0.617782</td>\n",
       "      <td>dummy_constant</td>\n",
       "      <td>0.811356</td>\n",
       "      <td>0.617782</td>\n",
       "      <td>0.095028</td>\n",
       "      <td>0.110815</td>\n",
       "      <td>0.000025</td>\n",
       "      <td>False</td>\n",
       "    </tr>\n",
       "    <tr>\n",
       "      <th>25</th>\n",
       "      <td>2.198112</td>\n",
       "      <td>3.006028</td>\n",
       "      <td>dummy_constant</td>\n",
       "      <td>2.198112</td>\n",
       "      <td>3.006028</td>\n",
       "      <td>12.945825</td>\n",
       "      <td>9.163761</td>\n",
       "      <td>0.000025</td>\n",
       "      <td>False</td>\n",
       "    </tr>\n",
       "    <tr>\n",
       "      <th>26</th>\n",
       "      <td>0.307163</td>\n",
       "      <td>0.700556</td>\n",
       "      <td>dummy_constant</td>\n",
       "      <td>0.307163</td>\n",
       "      <td>0.700556</td>\n",
       "      <td>-0.509534</td>\n",
       "      <td>0.077409</td>\n",
       "      <td>0.000025</td>\n",
       "      <td>False</td>\n",
       "    </tr>\n",
       "    <tr>\n",
       "      <th>27</th>\n",
       "      <td>0.369898</td>\n",
       "      <td>0.938148</td>\n",
       "      <td>dummy_constant</td>\n",
       "      <td>0.369898</td>\n",
       "      <td>0.938148</td>\n",
       "      <td>-0.079322</td>\n",
       "      <td>0.208900</td>\n",
       "      <td>0.000027</td>\n",
       "      <td>False</td>\n",
       "    </tr>\n",
       "    <tr>\n",
       "      <th>28</th>\n",
       "      <td>0.031648</td>\n",
       "      <td>1.013387</td>\n",
       "      <td>dummy_constant</td>\n",
       "      <td>0.031648</td>\n",
       "      <td>1.013387</td>\n",
       "      <td>-0.059827</td>\n",
       "      <td>0.482920</td>\n",
       "      <td>0.000026</td>\n",
       "      <td>False</td>\n",
       "    </tr>\n",
       "    <tr>\n",
       "      <th>29</th>\n",
       "      <td>0.666178</td>\n",
       "      <td>1.248482</td>\n",
       "      <td>dummy_constant</td>\n",
       "      <td>0.666178</td>\n",
       "      <td>1.248482</td>\n",
       "      <td>1.001355</td>\n",
       "      <td>0.587841</td>\n",
       "      <td>0.000026</td>\n",
       "      <td>False</td>\n",
       "    </tr>\n",
       "    <tr>\n",
       "      <th>30</th>\n",
       "      <td>0.989027</td>\n",
       "      <td>0.138545</td>\n",
       "      <td>dummy_constant</td>\n",
       "      <td>0.989027</td>\n",
       "      <td>0.138545</td>\n",
       "      <td>0.058366</td>\n",
       "      <td>0.369797</td>\n",
       "      <td>0.000025</td>\n",
       "      <td>False</td>\n",
       "    </tr>\n",
       "    <tr>\n",
       "      <th>31</th>\n",
       "      <td>0.528041</td>\n",
       "      <td>0.866016</td>\n",
       "      <td>dummy_constant</td>\n",
       "      <td>0.528041</td>\n",
       "      <td>0.866016</td>\n",
       "      <td>0.107564</td>\n",
       "      <td>0.134754</td>\n",
       "      <td>0.000028</td>\n",
       "      <td>False</td>\n",
       "    </tr>\n",
       "    <tr>\n",
       "      <th>32</th>\n",
       "      <td>0.639903</td>\n",
       "      <td>0.772438</td>\n",
       "      <td>dummy_constant</td>\n",
       "      <td>0.639903</td>\n",
       "      <td>0.772438</td>\n",
       "      <td>-0.001230</td>\n",
       "      <td>0.093795</td>\n",
       "      <td>0.000027</td>\n",
       "      <td>False</td>\n",
       "    </tr>\n",
       "    <tr>\n",
       "      <th>33</th>\n",
       "      <td>1.188410</td>\n",
       "      <td>0.058274</td>\n",
       "      <td>dummy_constant</td>\n",
       "      <td>1.188410</td>\n",
       "      <td>0.058274</td>\n",
       "      <td>0.344900</td>\n",
       "      <td>0.669030</td>\n",
       "      <td>0.000025</td>\n",
       "      <td>False</td>\n",
       "    </tr>\n",
       "    <tr>\n",
       "      <th>34</th>\n",
       "      <td>0.030780</td>\n",
       "      <td>1.088171</td>\n",
       "      <td>dummy_constant</td>\n",
       "      <td>0.030780</td>\n",
       "      <td>1.088171</td>\n",
       "      <td>0.095125</td>\n",
       "      <td>0.566112</td>\n",
       "      <td>0.000028</td>\n",
       "      <td>False</td>\n",
       "    </tr>\n",
       "    <tr>\n",
       "      <th>35</th>\n",
       "      <td>0.355498</td>\n",
       "      <td>0.885827</td>\n",
       "      <td>dummy_constant</td>\n",
       "      <td>0.355498</td>\n",
       "      <td>0.885827</td>\n",
       "      <td>-0.187371</td>\n",
       "      <td>0.169743</td>\n",
       "      <td>0.000026</td>\n",
       "      <td>False</td>\n",
       "    </tr>\n",
       "    <tr>\n",
       "      <th>36</th>\n",
       "      <td>0.725367</td>\n",
       "      <td>0.712239</td>\n",
       "      <td>dummy_constant</td>\n",
       "      <td>0.725367</td>\n",
       "      <td>0.712239</td>\n",
       "      <td>-0.065493</td>\n",
       "      <td>0.095836</td>\n",
       "      <td>0.000026</td>\n",
       "      <td>False</td>\n",
       "    </tr>\n",
       "    <tr>\n",
       "      <th>37</th>\n",
       "      <td>0.269513</td>\n",
       "      <td>0.891204</td>\n",
       "      <td>dummy_constant</td>\n",
       "      <td>0.269513</td>\n",
       "      <td>0.891204</td>\n",
       "      <td>-0.131752</td>\n",
       "      <td>0.206165</td>\n",
       "      <td>0.000027</td>\n",
       "      <td>False</td>\n",
       "    </tr>\n",
       "    <tr>\n",
       "      <th>38</th>\n",
       "      <td>0.029677</td>\n",
       "      <td>1.277026</td>\n",
       "      <td>dummy_constant</td>\n",
       "      <td>0.029677</td>\n",
       "      <td>1.277026</td>\n",
       "      <td>0.538508</td>\n",
       "      <td>0.824973</td>\n",
       "      <td>0.000026</td>\n",
       "      <td>False</td>\n",
       "    </tr>\n",
       "    <tr>\n",
       "      <th>39</th>\n",
       "      <td>0.430728</td>\n",
       "      <td>0.924844</td>\n",
       "      <td>dummy_constant</td>\n",
       "      <td>0.430728</td>\n",
       "      <td>0.924844</td>\n",
       "      <td>-0.036228</td>\n",
       "      <td>0.185291</td>\n",
       "      <td>0.000028</td>\n",
       "      <td>False</td>\n",
       "    </tr>\n",
       "    <tr>\n",
       "      <th>40</th>\n",
       "      <td>1.138131</td>\n",
       "      <td>0.048058</td>\n",
       "      <td>dummy_constant</td>\n",
       "      <td>1.138131</td>\n",
       "      <td>0.048058</td>\n",
       "      <td>0.219593</td>\n",
       "      <td>0.611463</td>\n",
       "      <td>0.000028</td>\n",
       "      <td>False</td>\n",
       "    </tr>\n",
       "    <tr>\n",
       "      <th>41</th>\n",
       "      <td>0.280990</td>\n",
       "      <td>1.005571</td>\n",
       "      <td>dummy_constant</td>\n",
       "      <td>0.280990</td>\n",
       "      <td>1.005571</td>\n",
       "      <td>0.124668</td>\n",
       "      <td>0.303568</td>\n",
       "      <td>0.000028</td>\n",
       "      <td>False</td>\n",
       "    </tr>\n",
       "    <tr>\n",
       "      <th>42</th>\n",
       "      <td>0.290130</td>\n",
       "      <td>0.751417</td>\n",
       "      <td>dummy_constant</td>\n",
       "      <td>0.290130</td>\n",
       "      <td>0.751417</td>\n",
       "      <td>-0.443780</td>\n",
       "      <td>0.107256</td>\n",
       "      <td>0.000028</td>\n",
       "      <td>False</td>\n",
       "    </tr>\n",
       "    <tr>\n",
       "      <th>43</th>\n",
       "      <td>0.604713</td>\n",
       "      <td>0.820475</td>\n",
       "      <td>dummy_constant</td>\n",
       "      <td>0.604713</td>\n",
       "      <td>0.820475</td>\n",
       "      <td>0.112866</td>\n",
       "      <td>0.113669</td>\n",
       "      <td>0.000026</td>\n",
       "      <td>False</td>\n",
       "    </tr>\n",
       "    <tr>\n",
       "      <th>44</th>\n",
       "      <td>0.297500</td>\n",
       "      <td>0.822423</td>\n",
       "      <td>dummy_constant</td>\n",
       "      <td>0.297500</td>\n",
       "      <td>0.822423</td>\n",
       "      <td>-0.309651</td>\n",
       "      <td>0.144963</td>\n",
       "      <td>0.000028</td>\n",
       "      <td>False</td>\n",
       "    </tr>\n",
       "    <tr>\n",
       "      <th>45</th>\n",
       "      <td>0.340149</td>\n",
       "      <td>0.360838</td>\n",
       "      <td>dummy_constant</td>\n",
       "      <td>0.340149</td>\n",
       "      <td>0.360838</td>\n",
       "      <td>-0.843157</td>\n",
       "      <td>0.044919</td>\n",
       "      <td>0.000027</td>\n",
       "      <td>False</td>\n",
       "    </tr>\n",
       "    <tr>\n",
       "      <th>46</th>\n",
       "      <td>0.966723</td>\n",
       "      <td>0.336180</td>\n",
       "      <td>dummy_constant</td>\n",
       "      <td>0.966723</td>\n",
       "      <td>0.336180</td>\n",
       "      <td>-0.012337</td>\n",
       "      <td>0.244667</td>\n",
       "      <td>0.000026</td>\n",
       "      <td>False</td>\n",
       "    </tr>\n",
       "    <tr>\n",
       "      <th>47</th>\n",
       "      <td>0.557240</td>\n",
       "      <td>0.833432</td>\n",
       "      <td>dummy_constant</td>\n",
       "      <td>0.557240</td>\n",
       "      <td>0.833432</td>\n",
       "      <td>0.105124</td>\n",
       "      <td>0.114453</td>\n",
       "      <td>0.000026</td>\n",
       "      <td>False</td>\n",
       "    </tr>\n",
       "    <tr>\n",
       "      <th>48</th>\n",
       "      <td>0.558186</td>\n",
       "      <td>0.852243</td>\n",
       "      <td>dummy_constant</td>\n",
       "      <td>0.558186</td>\n",
       "      <td>0.852243</td>\n",
       "      <td>0.136810</td>\n",
       "      <td>0.127461</td>\n",
       "      <td>0.000027</td>\n",
       "      <td>False</td>\n",
       "    </tr>\n",
       "    <tr>\n",
       "      <th>49</th>\n",
       "      <td>0.466597</td>\n",
       "      <td>2.899627</td>\n",
       "      <td>dummy_constant</td>\n",
       "      <td>0.466597</td>\n",
       "      <td>2.899627</td>\n",
       "      <td>7.708711</td>\n",
       "      <td>5.759326</td>\n",
       "      <td>0.000027</td>\n",
       "      <td>False</td>\n",
       "    </tr>\n",
       "    <tr>\n",
       "      <th>50</th>\n",
       "      <td>0.958168</td>\n",
       "      <td>0.034998</td>\n",
       "      <td>dummy_constant</td>\n",
       "      <td>0.958168</td>\n",
       "      <td>0.034998</td>\n",
       "      <td>-0.164106</td>\n",
       "      <td>0.426145</td>\n",
       "      <td>0.000027</td>\n",
       "      <td>False</td>\n",
       "    </tr>\n",
       "    <tr>\n",
       "      <th>51</th>\n",
       "      <td>0.103785</td>\n",
       "      <td>1.260939</td>\n",
       "      <td>dummy_constant</td>\n",
       "      <td>0.103785</td>\n",
       "      <td>1.260939</td>\n",
       "      <td>0.575337</td>\n",
       "      <td>0.736014</td>\n",
       "      <td>0.000027</td>\n",
       "      <td>False</td>\n",
       "    </tr>\n",
       "    <tr>\n",
       "      <th>52</th>\n",
       "      <td>1.190688</td>\n",
       "      <td>0.253418</td>\n",
       "      <td>dummy_constant</td>\n",
       "      <td>1.190688</td>\n",
       "      <td>0.253418</td>\n",
       "      <td>0.579685</td>\n",
       "      <td>0.537853</td>\n",
       "      <td>0.000027</td>\n",
       "      <td>False</td>\n",
       "    </tr>\n",
       "    <tr>\n",
       "      <th>53</th>\n",
       "      <td>0.464423</td>\n",
       "      <td>0.885148</td>\n",
       "      <td>dummy_constant</td>\n",
       "      <td>0.464423</td>\n",
       "      <td>0.885148</td>\n",
       "      <td>-0.013072</td>\n",
       "      <td>0.149604</td>\n",
       "      <td>0.000027</td>\n",
       "      <td>False</td>\n",
       "    </tr>\n",
       "    <tr>\n",
       "      <th>54</th>\n",
       "      <td>0.764441</td>\n",
       "      <td>0.655381</td>\n",
       "      <td>dummy_constant</td>\n",
       "      <td>0.764441</td>\n",
       "      <td>0.655381</td>\n",
       "      <td>-0.019851</td>\n",
       "      <td>0.094072</td>\n",
       "      <td>0.000027</td>\n",
       "      <td>False</td>\n",
       "    </tr>\n",
       "  </tbody>\n",
       "</table>\n",
       "</div>"
      ],
      "text/plain": [
       "          x1        x2               a        y1        y2         c1  \\\n",
       "0   0.336613  2.630328  dummy_constant  0.336613  2.630328   6.076839   \n",
       "1   0.106895  2.092116  dummy_constant  0.106895  2.092116   3.319922   \n",
       "2   1.200762  1.874417  dummy_constant  1.200762  1.874417   4.050533   \n",
       "3   1.343674  0.478797  dummy_constant  1.343674  0.478797   0.965489   \n",
       "4   0.798794  1.037409  dummy_constant  0.798794  1.037409   0.761952   \n",
       "5   0.133192  0.331413  dummy_constant  0.133192  0.331413  -0.971000   \n",
       "6   0.680858  0.898911  dummy_constant  0.680858  0.898911   0.330019   \n",
       "7   0.748816  0.339878  dummy_constant  0.748816  0.339878  -0.409829   \n",
       "8   1.020260  0.376211  dummy_constant  1.020260  0.376211   0.101713   \n",
       "9   0.071844  1.111315  dummy_constant  0.071844  1.111315   0.188952   \n",
       "10  1.433563  0.298991  dummy_constant  1.433563  0.298991   1.243400   \n",
       "11  0.135030  1.035988  dummy_constant  0.135030  1.035988   0.139704   \n",
       "12  0.461612  0.576105  dummy_constant  0.461612  0.576105  -0.436386   \n",
       "13  0.510816  0.000000  dummy_constant  0.510816  0.000000  -0.839067   \n",
       "14  1.033240  0.115634  dummy_constant  1.033240  0.115634   0.102038   \n",
       "15  0.552568  0.810231  dummy_constant  0.552568  0.810231   0.060657   \n",
       "16  0.847578  0.649422  dummy_constant  0.847578  0.649422   0.191109   \n",
       "17  0.121287  1.191440  dummy_constant  0.121287  1.191440   0.439476   \n",
       "18  0.637292  0.048294  dummy_constant  0.637292  0.048294  -0.626812   \n",
       "19  0.444921  0.588868  dummy_constant  0.444921  0.588868  -0.395332   \n",
       "20  0.702153  0.453840  dummy_constant  0.702153  0.453840  -0.203969   \n",
       "21  0.703410  0.701557  dummy_constant  0.703410  0.701557  -0.113009   \n",
       "22  0.056481  1.032413  dummy_constant  0.056481  1.032413   0.004926   \n",
       "23  0.928112  0.474734  dummy_constant  0.928112  0.474734   0.058262   \n",
       "24  0.811356  0.617782  dummy_constant  0.811356  0.617782   0.095028   \n",
       "25  2.198112  3.006028  dummy_constant  2.198112  3.006028  12.945825   \n",
       "26  0.307163  0.700556  dummy_constant  0.307163  0.700556  -0.509534   \n",
       "27  0.369898  0.938148  dummy_constant  0.369898  0.938148  -0.079322   \n",
       "28  0.031648  1.013387  dummy_constant  0.031648  1.013387  -0.059827   \n",
       "29  0.666178  1.248482  dummy_constant  0.666178  1.248482   1.001355   \n",
       "30  0.989027  0.138545  dummy_constant  0.989027  0.138545   0.058366   \n",
       "31  0.528041  0.866016  dummy_constant  0.528041  0.866016   0.107564   \n",
       "32  0.639903  0.772438  dummy_constant  0.639903  0.772438  -0.001230   \n",
       "33  1.188410  0.058274  dummy_constant  1.188410  0.058274   0.344900   \n",
       "34  0.030780  1.088171  dummy_constant  0.030780  1.088171   0.095125   \n",
       "35  0.355498  0.885827  dummy_constant  0.355498  0.885827  -0.187371   \n",
       "36  0.725367  0.712239  dummy_constant  0.725367  0.712239  -0.065493   \n",
       "37  0.269513  0.891204  dummy_constant  0.269513  0.891204  -0.131752   \n",
       "38  0.029677  1.277026  dummy_constant  0.029677  1.277026   0.538508   \n",
       "39  0.430728  0.924844  dummy_constant  0.430728  0.924844  -0.036228   \n",
       "40  1.138131  0.048058  dummy_constant  1.138131  0.048058   0.219593   \n",
       "41  0.280990  1.005571  dummy_constant  0.280990  1.005571   0.124668   \n",
       "42  0.290130  0.751417  dummy_constant  0.290130  0.751417  -0.443780   \n",
       "43  0.604713  0.820475  dummy_constant  0.604713  0.820475   0.112866   \n",
       "44  0.297500  0.822423  dummy_constant  0.297500  0.822423  -0.309651   \n",
       "45  0.340149  0.360838  dummy_constant  0.340149  0.360838  -0.843157   \n",
       "46  0.966723  0.336180  dummy_constant  0.966723  0.336180  -0.012337   \n",
       "47  0.557240  0.833432  dummy_constant  0.557240  0.833432   0.105124   \n",
       "48  0.558186  0.852243  dummy_constant  0.558186  0.852243   0.136810   \n",
       "49  0.466597  2.899627  dummy_constant  0.466597  2.899627   7.708711   \n",
       "50  0.958168  0.034998  dummy_constant  0.958168  0.034998  -0.164106   \n",
       "51  0.103785  1.260939  dummy_constant  0.103785  1.260939   0.575337   \n",
       "52  1.190688  0.253418  dummy_constant  1.190688  0.253418   0.579685   \n",
       "53  0.464423  0.885148  dummy_constant  0.464423  0.885148  -0.013072   \n",
       "54  0.764441  0.655381  dummy_constant  0.764441  0.655381  -0.019851   \n",
       "\n",
       "          c2  xopt_runtime  xopt_error  \n",
       "0   4.564991      0.000031       False  \n",
       "1   2.689366      0.000010       False  \n",
       "2   2.380088      0.000007       False  \n",
       "3   0.712236      0.000006       False  \n",
       "4   0.378086      0.000006       False  \n",
       "5   0.162970      0.000027       False  \n",
       "6   0.191839      0.000024       False  \n",
       "7   0.087548      0.000023       False  \n",
       "8   0.285995      0.000025       False  \n",
       "9   0.557024      0.000024       False  \n",
       "10  0.911944      0.000024       False  \n",
       "11  0.420486      0.000025       False  \n",
       "12  0.007266      0.000023       False  \n",
       "13  0.250117      0.000024       False  \n",
       "14  0.432082      0.000026       False  \n",
       "15  0.099007      0.000025       False  \n",
       "16  0.143137      0.000025       False  \n",
       "17  0.621512      0.000024       False  \n",
       "18  0.222887      0.000024       False  \n",
       "19  0.010931      0.000025       False  \n",
       "20  0.042997      0.000027       False  \n",
       "21  0.082001      0.000026       False  \n",
       "22  0.480172      0.000027       False  \n",
       "23  0.183918      0.000026       False  \n",
       "24  0.110815      0.000025       False  \n",
       "25  9.163761      0.000025       False  \n",
       "26  0.077409      0.000025       False  \n",
       "27  0.208900      0.000027       False  \n",
       "28  0.482920      0.000026       False  \n",
       "29  0.587841      0.000026       False  \n",
       "30  0.369797      0.000025       False  \n",
       "31  0.134754      0.000028       False  \n",
       "32  0.093795      0.000027       False  \n",
       "33  0.669030      0.000025       False  \n",
       "34  0.566112      0.000028       False  \n",
       "35  0.169743      0.000026       False  \n",
       "36  0.095836      0.000026       False  \n",
       "37  0.206165      0.000027       False  \n",
       "38  0.824973      0.000026       False  \n",
       "39  0.185291      0.000028       False  \n",
       "40  0.611463      0.000028       False  \n",
       "41  0.303568      0.000028       False  \n",
       "42  0.107256      0.000028       False  \n",
       "43  0.113669      0.000026       False  \n",
       "44  0.144963      0.000028       False  \n",
       "45  0.044919      0.000027       False  \n",
       "46  0.244667      0.000026       False  \n",
       "47  0.114453      0.000026       False  \n",
       "48  0.127461      0.000027       False  \n",
       "49  5.759326      0.000027       False  \n",
       "50  0.426145      0.000027       False  \n",
       "51  0.736014      0.000027       False  \n",
       "52  0.537853      0.000027       False  \n",
       "53  0.149604      0.000027       False  \n",
       "54  0.094072      0.000027       False  "
      ]
     },
     "execution_count": 3,
     "metadata": {},
     "output_type": "execute_result"
    }
   ],
   "source": [
    "X.generator.data"
   ]
  },
  {
   "cell_type": "markdown",
   "metadata": {
    "collapsed": false
   },
   "source": [
    "## plot results\n"
   ]
  },
  {
   "cell_type": "code",
   "execution_count": 4,
   "metadata": {
    "collapsed": false,
    "execution": {
     "iopub.execute_input": "2024-07-31T03:31:35.241784Z",
     "iopub.status.busy": "2024-07-31T03:31:35.241398Z",
     "iopub.status.idle": "2024-07-31T03:31:35.713059Z",
     "shell.execute_reply": "2024-07-31T03:31:35.712475Z"
    }
   },
   "outputs": [
    {
     "data": {
      "image/png": "[encoded data removed]",
      "text/plain": [
       "<Figure size 640x480 with 1 Axes>"
      ]
     },
     "metadata": {},
     "output_type": "display_data"
    }
   ],
   "source": [
    "import matplotlib.pyplot as plt\n",
    "import numpy as np\n",
    "import pandas as pd\n",
    "\n",
    "fig, ax = plt.subplots()\n",
    "\n",
    "theta = np.linspace(0, np.pi / 2)\n",
    "r = np.sqrt(1 + 0.1 * np.cos(16 * theta))\n",
    "x_1 = r * np.sin(theta)\n",
    "x_2_lower = r * np.cos(theta)\n",
    "x_2_upper = (0.5 - (x_1 - 0.5) ** 2) ** 0.5 + 0.5\n",
    "\n",
    "z = np.zeros_like(x_1)\n",
    "\n",
    "# ax2.plot(x_1, x_2_lower,'r')\n",
    "ax.fill_between(x_1, z, x_2_lower, fc=\"white\")\n",
    "circle = plt.Circle(\n",
    "    (0.5, 0.5), 0.5 ** 0.5, color=\"r\", alpha=0.25, zorder=0, label=\"Valid Region\"\n",
    ")\n",
    "ax.add_patch(circle)\n",
    "history = pd.concat(\n",
    "    [X.data, X.vocs.feasibility_data(X.data)], axis=1, ignore_index=False\n",
    ")\n",
    "\n",
    "\n",
    "ax.plot(*history[[\"x1\", \"x2\"]][history[\"feasible\"]].to_numpy().T, \".C1\")\n",
    "ax.plot(*history[[\"x1\", \"x2\"]][~history[\"feasible\"]].to_numpy().T, \".C2\")\n",
    "\n",
    "ax.set_xlim(0, 3.14)\n",
    "ax.set_ylim(0, 3.14)\n",
    "ax.set_xlabel(\"x1\")\n",
    "ax.set_ylabel(\"x2\")\n",
    "ax.set_aspect(\"equal\")"
   ]
  },
  {
   "cell_type": "markdown",
   "metadata": {
    "collapsed": false
   },
   "source": [
    "### Plot path through input space"
   ]
  },
  {
   "cell_type": "code",
   "execution_count": 5,
   "metadata": {
    "collapsed": false,
    "execution": {
     "iopub.execute_input": "2024-07-31T03:31:35.715401Z",
     "iopub.status.busy": "2024-07-31T03:31:35.715181Z",
     "iopub.status.idle": "2024-07-31T03:31:35.820271Z",
     "shell.execute_reply": "2024-07-31T03:31:35.819729Z"
    }
   },
   "outputs": [
    {
     "data": {
      "image/png": "[encoded data removed]",
      "text/plain": [
       "<Figure size 640x480 with 1 Axes>"
      ]
     },
     "metadata": {},
     "output_type": "display_data"
    }
   ],
   "source": [
    "ax = history.plot(\"x1\", \"x2\")\n",
    "ax.set_ylim(0, 3.14)\n",
    "ax.set_xlim(0, 3.14)\n",
    "ax.set_aspect(\"equal\")"
   ]
  },
  {
   "cell_type": "code",
   "execution_count": 6,
   "metadata": {
    "collapsed": false,
    "execution": {
     "iopub.execute_input": "2024-07-31T03:31:35.822558Z",
     "iopub.status.busy": "2024-07-31T03:31:35.822133Z",
     "iopub.status.idle": "2024-07-31T03:31:40.418574Z",
     "shell.execute_reply": "2024-07-31T03:31:40.418005Z"
    }
   },
   "outputs": [
    {
     "name": "stdout",
     "output_type": "stream",
     "text": [
      "[[1.52459319 0.00516519]]\n"
     ]
    },
    {
     "data": {
      "text/plain": [
       "[<matplotlib.lines.Line2D at 0x7ff077b342b0>]"
      ]
     },
     "execution_count": 6,
     "metadata": {},
     "output_type": "execute_result"
    },
    {
     "data": {
      "image/png": "[encoded data removed]",
      "text/plain": [
       "<Figure size 800x800 with 2 Axes>"
      ]
     },
     "metadata": {},
     "output_type": "display_data"
    },
    {
     "data": {
      "image/png": "[encoded data removed]",
      "text/plain": [
       "<Figure size 800x800 with 2 Axes>"
      ]
     },
     "metadata": {},
     "output_type": "display_data"
    }
   ],
   "source": [
    "# plot the acquisition function\n",
    "from xopt.generators.bayesian.objectives import feasibility\n",
    "\n",
    "bounds = X.generator.vocs.bounds\n",
    "model = X.generator.model\n",
    "\n",
    "# create mesh\n",
    "n = 100\n",
    "x = torch.linspace(*bounds.T[0], n)\n",
    "y = torch.linspace(*bounds.T[1], n)\n",
    "xx, yy = torch.meshgrid(x, y)\n",
    "pts = torch.hstack([ele.reshape(-1, 1) for ele in (xx, yy)]).double()\n",
    "\n",
    "xx, yy = xx.numpy(), yy.numpy()\n",
    "\n",
    "acq_func = X.generator.get_acquisition(model)\n",
    "with torch.no_grad():\n",
    "    acq_pts = pts.unsqueeze(1)\n",
    "    acq = acq_func(acq_pts)\n",
    "\n",
    "    fig, ax = plt.subplots(figsize=(8,8))\n",
    "    c = ax.pcolor(xx, yy, acq.reshape(n, n), cmap=\"Blues\")\n",
    "    fig.colorbar(c)\n",
    "    ax.set_title(\"Acquisition function\")\n",
    "\n",
    "    ax.plot(*history[[\"x1\", \"x2\"]][history[\"feasible\"]].to_numpy().T, \".C1\")\n",
    "    ax.plot(*history[[\"x1\", \"x2\"]][~history[\"feasible\"]].to_numpy().T, \".C2\")\n",
    "\n",
    "    ax.plot(*history[[\"x1\", \"x2\"]].to_numpy()[-1].T, \"+\")\n",
    "\n",
    "    feas = feasibility(pts.unsqueeze(1), model, X.vocs).flatten()\n",
    "\n",
    "    fig2, ax2 = plt.subplots(figsize=(8,8))\n",
    "    c = ax2.pcolor(xx, yy, feas.reshape(n, n))\n",
    "    fig2.colorbar(c)\n",
    "    ax2.set_title(\"Feasible Region\")\n",
    "\n",
    "candidate = pd.DataFrame(X.generator.generate(1), index=[0])\n",
    "print(candidate[[\"x1\", \"x2\"]].to_numpy())\n",
    "ax.plot(*candidate[[\"x1\", \"x2\"]].to_numpy()[0], \"o\")"
   ]
  }
 ],
 "metadata": {
  "interpreter": {
   "hash": "72034539424920dfb606fe3b820b3f27dca0cbf1c69938110810ec4641e275b1"
  },
  "kernelspec": {
   "display_name": "Python 3 (ipykernel)",
   "language": "python",
   "name": "python3"
  },
  "language_info": {
   "codemirror_mode": {
    "name": "ipython",
    "version": 3
   },
   "file_extension": ".py",
   "mimetype": "text/x-python",
   "name": "python",
   "nbconvert_exporter": "python",
   "pygments_lexer": "ipython3",
   "version": "3.9.19"
  }
 },
 "nbformat": 4,
 "nbformat_minor": 4
}
