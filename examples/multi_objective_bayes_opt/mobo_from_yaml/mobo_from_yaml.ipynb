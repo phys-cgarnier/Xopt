{
 "cells": [
  {
   "cell_type": "markdown",
   "metadata": {},
   "source": [
    "\n",
    "# Multi-objective Bayesian Optimization\n",
    "\n",
    "\n",
    "TNK function\n",
    "$n=2$ variables:\n",
    "$x_i \\in [0, \\pi], i=1,2$\n",
    "\n",
    "Objectives:\n",
    "- $f_i(x) = x_i$\n",
    "\n",
    "Constraints:\n",
    "- $g_1(x) = -x_1^2 -x_2^2 + 1 + 0.1 \\cos\\left(16 \\arctan \\frac{x_1}{x_2}\\right) \\le 0$\n",
    "- $g_2(x) = (x_1 - 1/2)^2 + (x_2-1/2)^2 \\le 0.5$"
   ]
  },
  {
   "cell_type": "code",
   "execution_count": 1,
   "metadata": {
    "collapsed": false,
    "execution": {
     "iopub.execute_input": "2024-04-24T15:43:46.494003Z",
     "iopub.status.busy": "2024-04-24T15:43:46.493416Z",
     "iopub.status.idle": "2024-04-24T15:43:48.040109Z",
     "shell.execute_reply": "2024-04-24T15:43:48.039489Z"
    }
   },
   "outputs": [],
   "source": [
    "import os\n",
    "SMOKE_TEST = os.environ.get(\"SMOKE_TEST\")\n",
    "NUM_STEPS = 2 if SMOKE_TEST else 50\n",
    "\n",
    "# Ignore all warnings\n",
    "import warnings\n",
    "warnings.filterwarnings(\"ignore\")\n",
    "\n",
    "import torch\n",
    "from xopt import Xopt\n",
    "\n",
    "\n",
    "YAML = \"\"\"\n",
    "generator:\n",
    "    name: mobo\n",
    "    reference_point: {y1: 1.5, y2: 1.5}\n",
    "\n",
    "evaluator:\n",
    "    function: xopt.resources.test_functions.tnk.evaluate_TNK\n",
    "\n",
    "vocs:\n",
    "    variables:\n",
    "        x1: [0, 3.14159]\n",
    "        x2: [0, 3.14159]\n",
    "    objectives: {y1: MINIMIZE, y2: MINIMIZE}\n",
    "    constraints:\n",
    "        c1: [GREATER_THAN, 0]\n",
    "        c2: [LESS_THAN, 0.5]\n",
    "    constants: {a: dummy_constant}\n",
    "\n",
    "\"\"\""
   ]
  },
  {
   "cell_type": "code",
   "execution_count": 2,
   "metadata": {
    "collapsed": false,
    "execution": {
     "iopub.execute_input": "2024-04-24T15:43:48.042938Z",
     "iopub.status.busy": "2024-04-24T15:43:48.042649Z",
     "iopub.status.idle": "2024-04-24T15:44:28.684038Z",
     "shell.execute_reply": "2024-04-24T15:44:28.683462Z"
    }
   },
   "outputs": [
    {
     "name": "stdout",
     "output_type": "stream",
     "text": [
      "0\n"
     ]
    },
    {
     "name": "stdout",
     "output_type": "stream",
     "text": [
      "1\n"
     ]
    },
    {
     "name": "stdout",
     "output_type": "stream",
     "text": [
      "2\n"
     ]
    },
    {
     "name": "stdout",
     "output_type": "stream",
     "text": [
      "3\n"
     ]
    },
    {
     "name": "stdout",
     "output_type": "stream",
     "text": [
      "4\n"
     ]
    },
    {
     "name": "stdout",
     "output_type": "stream",
     "text": [
      "5\n"
     ]
    },
    {
     "name": "stdout",
     "output_type": "stream",
     "text": [
      "6\n"
     ]
    },
    {
     "name": "stdout",
     "output_type": "stream",
     "text": [
      "7\n"
     ]
    },
    {
     "name": "stdout",
     "output_type": "stream",
     "text": [
      "8\n"
     ]
    },
    {
     "name": "stdout",
     "output_type": "stream",
     "text": [
      "9\n"
     ]
    },
    {
     "name": "stdout",
     "output_type": "stream",
     "text": [
      "10\n"
     ]
    },
    {
     "name": "stdout",
     "output_type": "stream",
     "text": [
      "11\n"
     ]
    },
    {
     "name": "stdout",
     "output_type": "stream",
     "text": [
      "12\n"
     ]
    },
    {
     "name": "stdout",
     "output_type": "stream",
     "text": [
      "13\n"
     ]
    },
    {
     "name": "stdout",
     "output_type": "stream",
     "text": [
      "14\n"
     ]
    },
    {
     "name": "stdout",
     "output_type": "stream",
     "text": [
      "15\n"
     ]
    },
    {
     "name": "stdout",
     "output_type": "stream",
     "text": [
      "16\n"
     ]
    },
    {
     "name": "stdout",
     "output_type": "stream",
     "text": [
      "17\n"
     ]
    },
    {
     "name": "stdout",
     "output_type": "stream",
     "text": [
      "18\n"
     ]
    },
    {
     "name": "stdout",
     "output_type": "stream",
     "text": [
      "19\n"
     ]
    },
    {
     "name": "stdout",
     "output_type": "stream",
     "text": [
      "20\n"
     ]
    },
    {
     "name": "stdout",
     "output_type": "stream",
     "text": [
      "21\n"
     ]
    },
    {
     "name": "stdout",
     "output_type": "stream",
     "text": [
      "22\n"
     ]
    },
    {
     "name": "stdout",
     "output_type": "stream",
     "text": [
      "23\n"
     ]
    },
    {
     "name": "stdout",
     "output_type": "stream",
     "text": [
      "24\n"
     ]
    },
    {
     "name": "stdout",
     "output_type": "stream",
     "text": [
      "25\n"
     ]
    },
    {
     "name": "stdout",
     "output_type": "stream",
     "text": [
      "26\n"
     ]
    },
    {
     "name": "stdout",
     "output_type": "stream",
     "text": [
      "27\n"
     ]
    },
    {
     "name": "stdout",
     "output_type": "stream",
     "text": [
      "28\n"
     ]
    },
    {
     "name": "stdout",
     "output_type": "stream",
     "text": [
      "29\n"
     ]
    },
    {
     "name": "stdout",
     "output_type": "stream",
     "text": [
      "30\n"
     ]
    },
    {
     "name": "stdout",
     "output_type": "stream",
     "text": [
      "31\n"
     ]
    },
    {
     "name": "stdout",
     "output_type": "stream",
     "text": [
      "32\n"
     ]
    },
    {
     "name": "stdout",
     "output_type": "stream",
     "text": [
      "33\n"
     ]
    },
    {
     "name": "stdout",
     "output_type": "stream",
     "text": [
      "34\n"
     ]
    },
    {
     "name": "stdout",
     "output_type": "stream",
     "text": [
      "35\n"
     ]
    },
    {
     "name": "stdout",
     "output_type": "stream",
     "text": [
      "36\n"
     ]
    },
    {
     "name": "stdout",
     "output_type": "stream",
     "text": [
      "37\n"
     ]
    },
    {
     "name": "stdout",
     "output_type": "stream",
     "text": [
      "38\n"
     ]
    },
    {
     "name": "stdout",
     "output_type": "stream",
     "text": [
      "39\n"
     ]
    },
    {
     "name": "stdout",
     "output_type": "stream",
     "text": [
      "40\n"
     ]
    },
    {
     "name": "stdout",
     "output_type": "stream",
     "text": [
      "41\n"
     ]
    },
    {
     "name": "stdout",
     "output_type": "stream",
     "text": [
      "42\n"
     ]
    },
    {
     "name": "stdout",
     "output_type": "stream",
     "text": [
      "43\n"
     ]
    },
    {
     "name": "stdout",
     "output_type": "stream",
     "text": [
      "44\n"
     ]
    },
    {
     "name": "stdout",
     "output_type": "stream",
     "text": [
      "45\n"
     ]
    },
    {
     "name": "stdout",
     "output_type": "stream",
     "text": [
      "46\n"
     ]
    },
    {
     "name": "stdout",
     "output_type": "stream",
     "text": [
      "47\n"
     ]
    },
    {
     "name": "stdout",
     "output_type": "stream",
     "text": [
      "48\n"
     ]
    },
    {
     "name": "stdout",
     "output_type": "stream",
     "text": [
      "49\n"
     ]
    }
   ],
   "source": [
    "X = Xopt.from_yaml(YAML)\n",
    "\n",
    "# for testing purposes only\n",
    "if SMOKE_TEST:\n",
    "    X.generator.numerical_optimizer.n_restarts = 1\n",
    "    X.generator.n_monte_carlo_samples = 1\n",
    "\n",
    "X.random_evaluate(5)\n",
    "for i in range(NUM_STEPS):\n",
    "    print(i)\n",
    "    X.step()"
   ]
  },
  {
   "cell_type": "code",
   "execution_count": 3,
   "metadata": {
    "collapsed": false,
    "execution": {
     "iopub.execute_input": "2024-04-24T15:44:28.687002Z",
     "iopub.status.busy": "2024-04-24T15:44:28.686509Z",
     "iopub.status.idle": "2024-04-24T15:44:28.710556Z",
     "shell.execute_reply": "2024-04-24T15:44:28.709917Z"
    }
   },
   "outputs": [
    {
     "data": {
      "text/html": [
       "<div>\n",
       "<style scoped>\n",
       "    .dataframe tbody tr th:only-of-type {\n",
       "        vertical-align: middle;\n",
       "    }\n",
       "\n",
       "    .dataframe tbody tr th {\n",
       "        vertical-align: top;\n",
       "    }\n",
       "\n",
       "    .dataframe thead th {\n",
       "        text-align: right;\n",
       "    }\n",
       "</style>\n",
       "<table border=\"1\" class=\"dataframe\">\n",
       "  <thead>\n",
       "    <tr style=\"text-align: right;\">\n",
       "      <th></th>\n",
       "      <th>x1</th>\n",
       "      <th>x2</th>\n",
       "      <th>a</th>\n",
       "      <th>y1</th>\n",
       "      <th>y2</th>\n",
       "      <th>c1</th>\n",
       "      <th>c2</th>\n",
       "      <th>xopt_runtime</th>\n",
       "      <th>xopt_error</th>\n",
       "    </tr>\n",
       "  </thead>\n",
       "  <tbody>\n",
       "    <tr>\n",
       "      <th>0</th>\n",
       "      <td>0.434056</td>\n",
       "      <td>2.167219</td>\n",
       "      <td>dummy_constant</td>\n",
       "      <td>0.434056</td>\n",
       "      <td>2.167219</td>\n",
       "      <td>3.985223</td>\n",
       "      <td>2.783969</td>\n",
       "      <td>0.000042</td>\n",
       "      <td>False</td>\n",
       "    </tr>\n",
       "    <tr>\n",
       "      <th>1</th>\n",
       "      <td>1.886345</td>\n",
       "      <td>0.652313</td>\n",
       "      <td>dummy_constant</td>\n",
       "      <td>1.886345</td>\n",
       "      <td>0.652313</td>\n",
       "      <td>2.926149</td>\n",
       "      <td>1.945152</td>\n",
       "      <td>0.000009</td>\n",
       "      <td>False</td>\n",
       "    </tr>\n",
       "    <tr>\n",
       "      <th>2</th>\n",
       "      <td>0.421175</td>\n",
       "      <td>0.480833</td>\n",
       "      <td>dummy_constant</td>\n",
       "      <td>0.421175</td>\n",
       "      <td>0.480833</td>\n",
       "      <td>-0.640588</td>\n",
       "      <td>0.006581</td>\n",
       "      <td>0.000007</td>\n",
       "      <td>False</td>\n",
       "    </tr>\n",
       "    <tr>\n",
       "      <th>3</th>\n",
       "      <td>1.942308</td>\n",
       "      <td>2.693057</td>\n",
       "      <td>dummy_constant</td>\n",
       "      <td>1.942308</td>\n",
       "      <td>2.693057</td>\n",
       "      <td>10.109169</td>\n",
       "      <td>6.889750</td>\n",
       "      <td>0.000006</td>\n",
       "      <td>False</td>\n",
       "    </tr>\n",
       "    <tr>\n",
       "      <th>4</th>\n",
       "      <td>2.771714</td>\n",
       "      <td>0.011646</td>\n",
       "      <td>dummy_constant</td>\n",
       "      <td>2.771714</td>\n",
       "      <td>0.011646</td>\n",
       "      <td>6.582759</td>\n",
       "      <td>5.399174</td>\n",
       "      <td>0.000006</td>\n",
       "      <td>False</td>\n",
       "    </tr>\n",
       "    <tr>\n",
       "      <th>5</th>\n",
       "      <td>0.364139</td>\n",
       "      <td>0.199305</td>\n",
       "      <td>dummy_constant</td>\n",
       "      <td>0.364139</td>\n",
       "      <td>0.199305</td>\n",
       "      <td>-0.811879</td>\n",
       "      <td>0.108876</td>\n",
       "      <td>0.000024</td>\n",
       "      <td>False</td>\n",
       "    </tr>\n",
       "    <tr>\n",
       "      <th>6</th>\n",
       "      <td>0.059471</td>\n",
       "      <td>0.121612</td>\n",
       "      <td>dummy_constant</td>\n",
       "      <td>0.059471</td>\n",
       "      <td>0.121612</td>\n",
       "      <td>-1.036203</td>\n",
       "      <td>0.337243</td>\n",
       "      <td>0.000027</td>\n",
       "      <td>False</td>\n",
       "    </tr>\n",
       "    <tr>\n",
       "      <th>7</th>\n",
       "      <td>0.734102</td>\n",
       "      <td>0.000000</td>\n",
       "      <td>dummy_constant</td>\n",
       "      <td>0.734102</td>\n",
       "      <td>0.000000</td>\n",
       "      <td>-0.561094</td>\n",
       "      <td>0.304804</td>\n",
       "      <td>0.000027</td>\n",
       "      <td>False</td>\n",
       "    </tr>\n",
       "    <tr>\n",
       "      <th>8</th>\n",
       "      <td>0.609322</td>\n",
       "      <td>0.842473</td>\n",
       "      <td>dummy_constant</td>\n",
       "      <td>0.609322</td>\n",
       "      <td>0.842473</td>\n",
       "      <td>0.163914</td>\n",
       "      <td>0.129239</td>\n",
       "      <td>0.000027</td>\n",
       "      <td>False</td>\n",
       "    </tr>\n",
       "    <tr>\n",
       "      <th>9</th>\n",
       "      <td>1.092742</td>\n",
       "      <td>0.333497</td>\n",
       "      <td>dummy_constant</td>\n",
       "      <td>1.092742</td>\n",
       "      <td>0.333497</td>\n",
       "      <td>0.302602</td>\n",
       "      <td>0.379066</td>\n",
       "      <td>0.000027</td>\n",
       "      <td>False</td>\n",
       "    </tr>\n",
       "    <tr>\n",
       "      <th>10</th>\n",
       "      <td>0.000000</td>\n",
       "      <td>0.929415</td>\n",
       "      <td>dummy_constant</td>\n",
       "      <td>0.000000</td>\n",
       "      <td>0.929415</td>\n",
       "      <td>-0.236187</td>\n",
       "      <td>0.434398</td>\n",
       "      <td>0.000025</td>\n",
       "      <td>False</td>\n",
       "    </tr>\n",
       "    <tr>\n",
       "      <th>11</th>\n",
       "      <td>0.231824</td>\n",
       "      <td>1.038074</td>\n",
       "      <td>dummy_constant</td>\n",
       "      <td>0.231824</td>\n",
       "      <td>1.038074</td>\n",
       "      <td>0.224433</td>\n",
       "      <td>0.361442</td>\n",
       "      <td>0.000025</td>\n",
       "      <td>False</td>\n",
       "    </tr>\n",
       "    <tr>\n",
       "      <th>12</th>\n",
       "      <td>0.901942</td>\n",
       "      <td>0.518123</td>\n",
       "      <td>dummy_constant</td>\n",
       "      <td>0.901942</td>\n",
       "      <td>0.518123</td>\n",
       "      <td>0.128906</td>\n",
       "      <td>0.161886</td>\n",
       "      <td>0.000029</td>\n",
       "      <td>False</td>\n",
       "    </tr>\n",
       "    <tr>\n",
       "      <th>13</th>\n",
       "      <td>0.084064</td>\n",
       "      <td>1.029170</td>\n",
       "      <td>dummy_constant</td>\n",
       "      <td>0.084064</td>\n",
       "      <td>1.029170</td>\n",
       "      <td>0.039893</td>\n",
       "      <td>0.453024</td>\n",
       "      <td>0.000026</td>\n",
       "      <td>False</td>\n",
       "    </tr>\n",
       "    <tr>\n",
       "      <th>14</th>\n",
       "      <td>0.613570</td>\n",
       "      <td>0.280530</td>\n",
       "      <td>dummy_constant</td>\n",
       "      <td>0.613570</td>\n",
       "      <td>0.280530</td>\n",
       "      <td>-0.628583</td>\n",
       "      <td>0.061065</td>\n",
       "      <td>0.000028</td>\n",
       "      <td>False</td>\n",
       "    </tr>\n",
       "    <tr>\n",
       "      <th>15</th>\n",
       "      <td>0.906985</td>\n",
       "      <td>0.064701</td>\n",
       "      <td>dummy_constant</td>\n",
       "      <td>0.906985</td>\n",
       "      <td>0.064701</td>\n",
       "      <td>-0.215001</td>\n",
       "      <td>0.355122</td>\n",
       "      <td>0.000027</td>\n",
       "      <td>False</td>\n",
       "    </tr>\n",
       "    <tr>\n",
       "      <th>16</th>\n",
       "      <td>0.044692</td>\n",
       "      <td>1.030026</td>\n",
       "      <td>dummy_constant</td>\n",
       "      <td>0.044692</td>\n",
       "      <td>1.030026</td>\n",
       "      <td>-0.013931</td>\n",
       "      <td>0.488233</td>\n",
       "      <td>0.000027</td>\n",
       "      <td>False</td>\n",
       "    </tr>\n",
       "    <tr>\n",
       "      <th>17</th>\n",
       "      <td>0.598763</td>\n",
       "      <td>0.282342</td>\n",
       "      <td>dummy_constant</td>\n",
       "      <td>0.598763</td>\n",
       "      <td>0.282342</td>\n",
       "      <td>-0.633780</td>\n",
       "      <td>0.057129</td>\n",
       "      <td>0.000027</td>\n",
       "      <td>False</td>\n",
       "    </tr>\n",
       "    <tr>\n",
       "      <th>18</th>\n",
       "      <td>0.043394</td>\n",
       "      <td>1.235778</td>\n",
       "      <td>dummy_constant</td>\n",
       "      <td>0.043394</td>\n",
       "      <td>1.235778</td>\n",
       "      <td>0.444389</td>\n",
       "      <td>0.749857</td>\n",
       "      <td>0.000029</td>\n",
       "      <td>False</td>\n",
       "    </tr>\n",
       "    <tr>\n",
       "      <th>19</th>\n",
       "      <td>0.397553</td>\n",
       "      <td>0.420966</td>\n",
       "      <td>dummy_constant</td>\n",
       "      <td>0.397553</td>\n",
       "      <td>0.420966</td>\n",
       "      <td>-0.754454</td>\n",
       "      <td>0.016742</td>\n",
       "      <td>0.000029</td>\n",
       "      <td>False</td>\n",
       "    </tr>\n",
       "    <tr>\n",
       "      <th>20</th>\n",
       "      <td>0.751209</td>\n",
       "      <td>0.079729</td>\n",
       "      <td>dummy_constant</td>\n",
       "      <td>0.751209</td>\n",
       "      <td>0.079729</td>\n",
       "      <td>-0.417256</td>\n",
       "      <td>0.239734</td>\n",
       "      <td>0.000030</td>\n",
       "      <td>False</td>\n",
       "    </tr>\n",
       "    <tr>\n",
       "      <th>21</th>\n",
       "      <td>0.729399</td>\n",
       "      <td>0.686889</td>\n",
       "      <td>dummy_constant</td>\n",
       "      <td>0.729399</td>\n",
       "      <td>0.686889</td>\n",
       "      <td>-0.084856</td>\n",
       "      <td>0.087551</td>\n",
       "      <td>0.000026</td>\n",
       "      <td>False</td>\n",
       "    </tr>\n",
       "    <tr>\n",
       "      <th>22</th>\n",
       "      <td>1.409640</td>\n",
       "      <td>0.031091</td>\n",
       "      <td>dummy_constant</td>\n",
       "      <td>1.409640</td>\n",
       "      <td>0.031091</td>\n",
       "      <td>0.894211</td>\n",
       "      <td>1.047320</td>\n",
       "      <td>0.000032</td>\n",
       "      <td>False</td>\n",
       "    </tr>\n",
       "    <tr>\n",
       "      <th>23</th>\n",
       "      <td>1.097064</td>\n",
       "      <td>0.032757</td>\n",
       "      <td>dummy_constant</td>\n",
       "      <td>1.097064</td>\n",
       "      <td>0.032757</td>\n",
       "      <td>0.115812</td>\n",
       "      <td>0.574801</td>\n",
       "      <td>0.000026</td>\n",
       "      <td>False</td>\n",
       "    </tr>\n",
       "    <tr>\n",
       "      <th>24</th>\n",
       "      <td>0.356530</td>\n",
       "      <td>0.923738</td>\n",
       "      <td>dummy_constant</td>\n",
       "      <td>0.356530</td>\n",
       "      <td>0.923738</td>\n",
       "      <td>-0.112100</td>\n",
       "      <td>0.200138</td>\n",
       "      <td>0.000029</td>\n",
       "      <td>False</td>\n",
       "    </tr>\n",
       "    <tr>\n",
       "      <th>25</th>\n",
       "      <td>0.459501</td>\n",
       "      <td>0.123071</td>\n",
       "      <td>dummy_constant</td>\n",
       "      <td>0.459501</td>\n",
       "      <td>0.123071</td>\n",
       "      <td>-0.723568</td>\n",
       "      <td>0.143715</td>\n",
       "      <td>0.000029</td>\n",
       "      <td>False</td>\n",
       "    </tr>\n",
       "    <tr>\n",
       "      <th>26</th>\n",
       "      <td>0.798026</td>\n",
       "      <td>0.651079</td>\n",
       "      <td>dummy_constant</td>\n",
       "      <td>0.798026</td>\n",
       "      <td>0.651079</td>\n",
       "      <td>0.065364</td>\n",
       "      <td>0.111644</td>\n",
       "      <td>0.000027</td>\n",
       "      <td>False</td>\n",
       "    </tr>\n",
       "    <tr>\n",
       "      <th>27</th>\n",
       "      <td>0.115257</td>\n",
       "      <td>0.745915</td>\n",
       "      <td>dummy_constant</td>\n",
       "      <td>0.115257</td>\n",
       "      <td>0.745915</td>\n",
       "      <td>-0.353120</td>\n",
       "      <td>0.208501</td>\n",
       "      <td>0.000027</td>\n",
       "      <td>False</td>\n",
       "    </tr>\n",
       "    <tr>\n",
       "      <th>28</th>\n",
       "      <td>0.257093</td>\n",
       "      <td>0.888000</td>\n",
       "      <td>dummy_constant</td>\n",
       "      <td>0.257093</td>\n",
       "      <td>0.888000</td>\n",
       "      <td>-0.125162</td>\n",
       "      <td>0.209548</td>\n",
       "      <td>0.000029</td>\n",
       "      <td>False</td>\n",
       "    </tr>\n",
       "    <tr>\n",
       "      <th>29</th>\n",
       "      <td>0.276732</td>\n",
       "      <td>0.976184</td>\n",
       "      <td>dummy_constant</td>\n",
       "      <td>0.276732</td>\n",
       "      <td>0.976184</td>\n",
       "      <td>0.058361</td>\n",
       "      <td>0.276600</td>\n",
       "      <td>0.000028</td>\n",
       "      <td>False</td>\n",
       "    </tr>\n",
       "    <tr>\n",
       "      <th>30</th>\n",
       "      <td>0.137746</td>\n",
       "      <td>1.018404</td>\n",
       "      <td>dummy_constant</td>\n",
       "      <td>0.137746</td>\n",
       "      <td>1.018404</td>\n",
       "      <td>0.110944</td>\n",
       "      <td>0.399971</td>\n",
       "      <td>0.000024</td>\n",
       "      <td>False</td>\n",
       "    </tr>\n",
       "    <tr>\n",
       "      <th>31</th>\n",
       "      <td>0.684193</td>\n",
       "      <td>0.769717</td>\n",
       "      <td>dummy_constant</td>\n",
       "      <td>0.684193</td>\n",
       "      <td>0.769717</td>\n",
       "      <td>0.001612</td>\n",
       "      <td>0.106674</td>\n",
       "      <td>0.000027</td>\n",
       "      <td>False</td>\n",
       "    </tr>\n",
       "    <tr>\n",
       "      <th>32</th>\n",
       "      <td>0.848452</td>\n",
       "      <td>0.564722</td>\n",
       "      <td>dummy_constant</td>\n",
       "      <td>0.848452</td>\n",
       "      <td>0.564722</td>\n",
       "      <td>0.138741</td>\n",
       "      <td>0.125608</td>\n",
       "      <td>0.000029</td>\n",
       "      <td>False</td>\n",
       "    </tr>\n",
       "    <tr>\n",
       "      <th>33</th>\n",
       "      <td>0.212087</td>\n",
       "      <td>0.915208</td>\n",
       "      <td>dummy_constant</td>\n",
       "      <td>0.212087</td>\n",
       "      <td>0.915208</td>\n",
       "      <td>-0.029746</td>\n",
       "      <td>0.255292</td>\n",
       "      <td>0.000029</td>\n",
       "      <td>False</td>\n",
       "    </tr>\n",
       "    <tr>\n",
       "      <th>34</th>\n",
       "      <td>0.598398</td>\n",
       "      <td>0.397652</td>\n",
       "      <td>dummy_constant</td>\n",
       "      <td>0.598398</td>\n",
       "      <td>0.397652</td>\n",
       "      <td>-0.383875</td>\n",
       "      <td>0.020157</td>\n",
       "      <td>0.000028</td>\n",
       "      <td>False</td>\n",
       "    </tr>\n",
       "    <tr>\n",
       "      <th>35</th>\n",
       "      <td>0.638927</td>\n",
       "      <td>0.463041</td>\n",
       "      <td>dummy_constant</td>\n",
       "      <td>0.638927</td>\n",
       "      <td>0.463041</td>\n",
       "      <td>-0.295353</td>\n",
       "      <td>0.020667</td>\n",
       "      <td>0.000029</td>\n",
       "      <td>False</td>\n",
       "    </tr>\n",
       "    <tr>\n",
       "      <th>36</th>\n",
       "      <td>1.053462</td>\n",
       "      <td>0.087794</td>\n",
       "      <td>dummy_constant</td>\n",
       "      <td>1.053462</td>\n",
       "      <td>0.087794</td>\n",
       "      <td>0.093676</td>\n",
       "      <td>0.476234</td>\n",
       "      <td>0.000027</td>\n",
       "      <td>False</td>\n",
       "    </tr>\n",
       "    <tr>\n",
       "      <th>37</th>\n",
       "      <td>0.972958</td>\n",
       "      <td>0.281116</td>\n",
       "      <td>dummy_constant</td>\n",
       "      <td>0.972958</td>\n",
       "      <td>0.281116</td>\n",
       "      <td>0.046722</td>\n",
       "      <td>0.271599</td>\n",
       "      <td>0.000027</td>\n",
       "      <td>False</td>\n",
       "    </tr>\n",
       "    <tr>\n",
       "      <th>38</th>\n",
       "      <td>0.620000</td>\n",
       "      <td>0.792879</td>\n",
       "      <td>dummy_constant</td>\n",
       "      <td>0.620000</td>\n",
       "      <td>0.792879</td>\n",
       "      <td>0.049894</td>\n",
       "      <td>0.100178</td>\n",
       "      <td>0.000031</td>\n",
       "      <td>False</td>\n",
       "    </tr>\n",
       "    <tr>\n",
       "      <th>39</th>\n",
       "      <td>0.111102</td>\n",
       "      <td>1.140722</td>\n",
       "      <td>dummy_constant</td>\n",
       "      <td>0.111102</td>\n",
       "      <td>1.140722</td>\n",
       "      <td>0.311855</td>\n",
       "      <td>0.561766</td>\n",
       "      <td>0.000026</td>\n",
       "      <td>False</td>\n",
       "    </tr>\n",
       "    <tr>\n",
       "      <th>40</th>\n",
       "      <td>0.121238</td>\n",
       "      <td>0.689651</td>\n",
       "      <td>dummy_constant</td>\n",
       "      <td>0.121238</td>\n",
       "      <td>0.689651</td>\n",
       "      <td>-0.415999</td>\n",
       "      <td>0.179428</td>\n",
       "      <td>0.000027</td>\n",
       "      <td>False</td>\n",
       "    </tr>\n",
       "    <tr>\n",
       "      <th>41</th>\n",
       "      <td>0.639126</td>\n",
       "      <td>0.567164</td>\n",
       "      <td>dummy_constant</td>\n",
       "      <td>0.639126</td>\n",
       "      <td>0.567164</td>\n",
       "      <td>-0.327738</td>\n",
       "      <td>0.023867</td>\n",
       "      <td>0.000024</td>\n",
       "      <td>False</td>\n",
       "    </tr>\n",
       "    <tr>\n",
       "      <th>42</th>\n",
       "      <td>0.645328</td>\n",
       "      <td>0.559008</td>\n",
       "      <td>dummy_constant</td>\n",
       "      <td>0.645328</td>\n",
       "      <td>0.559008</td>\n",
       "      <td>-0.312381</td>\n",
       "      <td>0.024602</td>\n",
       "      <td>0.000028</td>\n",
       "      <td>False</td>\n",
       "    </tr>\n",
       "    <tr>\n",
       "      <th>43</th>\n",
       "      <td>0.926100</td>\n",
       "      <td>0.407661</td>\n",
       "      <td>dummy_constant</td>\n",
       "      <td>0.926100</td>\n",
       "      <td>0.407661</td>\n",
       "      <td>-0.070038</td>\n",
       "      <td>0.190088</td>\n",
       "      <td>0.000029</td>\n",
       "      <td>False</td>\n",
       "    </tr>\n",
       "    <tr>\n",
       "      <th>44</th>\n",
       "      <td>0.233815</td>\n",
       "      <td>0.674244</td>\n",
       "      <td>dummy_constant</td>\n",
       "      <td>0.233815</td>\n",
       "      <td>0.674244</td>\n",
       "      <td>-0.549517</td>\n",
       "      <td>0.101216</td>\n",
       "      <td>0.000028</td>\n",
       "      <td>False</td>\n",
       "    </tr>\n",
       "    <tr>\n",
       "      <th>45</th>\n",
       "      <td>0.657177</td>\n",
       "      <td>0.603510</td>\n",
       "      <td>dummy_constant</td>\n",
       "      <td>0.657177</td>\n",
       "      <td>0.603510</td>\n",
       "      <td>-0.281607</td>\n",
       "      <td>0.035419</td>\n",
       "      <td>0.000029</td>\n",
       "      <td>False</td>\n",
       "    </tr>\n",
       "    <tr>\n",
       "      <th>46</th>\n",
       "      <td>0.100396</td>\n",
       "      <td>1.273772</td>\n",
       "      <td>dummy_constant</td>\n",
       "      <td>0.100396</td>\n",
       "      <td>1.273772</td>\n",
       "      <td>0.601849</td>\n",
       "      <td>0.758407</td>\n",
       "      <td>0.000027</td>\n",
       "      <td>False</td>\n",
       "    </tr>\n",
       "    <tr>\n",
       "      <th>47</th>\n",
       "      <td>0.491911</td>\n",
       "      <td>0.696116</td>\n",
       "      <td>dummy_constant</td>\n",
       "      <td>0.491911</td>\n",
       "      <td>0.696116</td>\n",
       "      <td>-0.182057</td>\n",
       "      <td>0.038527</td>\n",
       "      <td>0.000028</td>\n",
       "      <td>False</td>\n",
       "    </tr>\n",
       "    <tr>\n",
       "      <th>48</th>\n",
       "      <td>0.709710</td>\n",
       "      <td>0.727944</td>\n",
       "      <td>dummy_constant</td>\n",
       "      <td>0.709710</td>\n",
       "      <td>0.727944</td>\n",
       "      <td>-0.064357</td>\n",
       "      <td>0.095937</td>\n",
       "      <td>0.000027</td>\n",
       "      <td>False</td>\n",
       "    </tr>\n",
       "    <tr>\n",
       "      <th>49</th>\n",
       "      <td>0.260972</td>\n",
       "      <td>0.808375</td>\n",
       "      <td>dummy_constant</td>\n",
       "      <td>0.260972</td>\n",
       "      <td>0.808375</td>\n",
       "      <td>-0.306441</td>\n",
       "      <td>0.152230</td>\n",
       "      <td>0.000026</td>\n",
       "      <td>False</td>\n",
       "    </tr>\n",
       "    <tr>\n",
       "      <th>50</th>\n",
       "      <td>0.985661</td>\n",
       "      <td>0.000000</td>\n",
       "      <td>dummy_constant</td>\n",
       "      <td>0.985661</td>\n",
       "      <td>0.000000</td>\n",
       "      <td>-0.128473</td>\n",
       "      <td>0.485866</td>\n",
       "      <td>0.000027</td>\n",
       "      <td>False</td>\n",
       "    </tr>\n",
       "    <tr>\n",
       "      <th>51</th>\n",
       "      <td>1.267726</td>\n",
       "      <td>0.079479</td>\n",
       "      <td>dummy_constant</td>\n",
       "      <td>1.267726</td>\n",
       "      <td>0.079479</td>\n",
       "      <td>0.559568</td>\n",
       "      <td>0.766241</td>\n",
       "      <td>0.000026</td>\n",
       "      <td>False</td>\n",
       "    </tr>\n",
       "    <tr>\n",
       "      <th>52</th>\n",
       "      <td>1.069419</td>\n",
       "      <td>0.096898</td>\n",
       "      <td>dummy_constant</td>\n",
       "      <td>1.069419</td>\n",
       "      <td>0.096898</td>\n",
       "      <td>0.140577</td>\n",
       "      <td>0.486729</td>\n",
       "      <td>0.000029</td>\n",
       "      <td>False</td>\n",
       "    </tr>\n",
       "    <tr>\n",
       "      <th>53</th>\n",
       "      <td>0.987674</td>\n",
       "      <td>0.303370</td>\n",
       "      <td>dummy_constant</td>\n",
       "      <td>0.987674</td>\n",
       "      <td>0.303370</td>\n",
       "      <td>0.061961</td>\n",
       "      <td>0.276489</td>\n",
       "      <td>0.000030</td>\n",
       "      <td>False</td>\n",
       "    </tr>\n",
       "    <tr>\n",
       "      <th>54</th>\n",
       "      <td>0.757547</td>\n",
       "      <td>0.698175</td>\n",
       "      <td>dummy_constant</td>\n",
       "      <td>0.757547</td>\n",
       "      <td>0.698175</td>\n",
       "      <td>-0.018149</td>\n",
       "      <td>0.105604</td>\n",
       "      <td>0.000026</td>\n",
       "      <td>False</td>\n",
       "    </tr>\n",
       "  </tbody>\n",
       "</table>\n",
       "</div>"
      ],
      "text/plain": [
       "          x1        x2               a        y1        y2         c1  \\\n",
       "0   0.434056  2.167219  dummy_constant  0.434056  2.167219   3.985223   \n",
       "1   1.886345  0.652313  dummy_constant  1.886345  0.652313   2.926149   \n",
       "2   0.421175  0.480833  dummy_constant  0.421175  0.480833  -0.640588   \n",
       "3   1.942308  2.693057  dummy_constant  1.942308  2.693057  10.109169   \n",
       "4   2.771714  0.011646  dummy_constant  2.771714  0.011646   6.582759   \n",
       "5   0.364139  0.199305  dummy_constant  0.364139  0.199305  -0.811879   \n",
       "6   0.059471  0.121612  dummy_constant  0.059471  0.121612  -1.036203   \n",
       "7   0.734102  0.000000  dummy_constant  0.734102  0.000000  -0.561094   \n",
       "8   0.609322  0.842473  dummy_constant  0.609322  0.842473   0.163914   \n",
       "9   1.092742  0.333497  dummy_constant  1.092742  0.333497   0.302602   \n",
       "10  0.000000  0.929415  dummy_constant  0.000000  0.929415  -0.236187   \n",
       "11  0.231824  1.038074  dummy_constant  0.231824  1.038074   0.224433   \n",
       "12  0.901942  0.518123  dummy_constant  0.901942  0.518123   0.128906   \n",
       "13  0.084064  1.029170  dummy_constant  0.084064  1.029170   0.039893   \n",
       "14  0.613570  0.280530  dummy_constant  0.613570  0.280530  -0.628583   \n",
       "15  0.906985  0.064701  dummy_constant  0.906985  0.064701  -0.215001   \n",
       "16  0.044692  1.030026  dummy_constant  0.044692  1.030026  -0.013931   \n",
       "17  0.598763  0.282342  dummy_constant  0.598763  0.282342  -0.633780   \n",
       "18  0.043394  1.235778  dummy_constant  0.043394  1.235778   0.444389   \n",
       "19  0.397553  0.420966  dummy_constant  0.397553  0.420966  -0.754454   \n",
       "20  0.751209  0.079729  dummy_constant  0.751209  0.079729  -0.417256   \n",
       "21  0.729399  0.686889  dummy_constant  0.729399  0.686889  -0.084856   \n",
       "22  1.409640  0.031091  dummy_constant  1.409640  0.031091   0.894211   \n",
       "23  1.097064  0.032757  dummy_constant  1.097064  0.032757   0.115812   \n",
       "24  0.356530  0.923738  dummy_constant  0.356530  0.923738  -0.112100   \n",
       "25  0.459501  0.123071  dummy_constant  0.459501  0.123071  -0.723568   \n",
       "26  0.798026  0.651079  dummy_constant  0.798026  0.651079   0.065364   \n",
       "27  0.115257  0.745915  dummy_constant  0.115257  0.745915  -0.353120   \n",
       "28  0.257093  0.888000  dummy_constant  0.257093  0.888000  -0.125162   \n",
       "29  0.276732  0.976184  dummy_constant  0.276732  0.976184   0.058361   \n",
       "30  0.137746  1.018404  dummy_constant  0.137746  1.018404   0.110944   \n",
       "31  0.684193  0.769717  dummy_constant  0.684193  0.769717   0.001612   \n",
       "32  0.848452  0.564722  dummy_constant  0.848452  0.564722   0.138741   \n",
       "33  0.212087  0.915208  dummy_constant  0.212087  0.915208  -0.029746   \n",
       "34  0.598398  0.397652  dummy_constant  0.598398  0.397652  -0.383875   \n",
       "35  0.638927  0.463041  dummy_constant  0.638927  0.463041  -0.295353   \n",
       "36  1.053462  0.087794  dummy_constant  1.053462  0.087794   0.093676   \n",
       "37  0.972958  0.281116  dummy_constant  0.972958  0.281116   0.046722   \n",
       "38  0.620000  0.792879  dummy_constant  0.620000  0.792879   0.049894   \n",
       "39  0.111102  1.140722  dummy_constant  0.111102  1.140722   0.311855   \n",
       "40  0.121238  0.689651  dummy_constant  0.121238  0.689651  -0.415999   \n",
       "41  0.639126  0.567164  dummy_constant  0.639126  0.567164  -0.327738   \n",
       "42  0.645328  0.559008  dummy_constant  0.645328  0.559008  -0.312381   \n",
       "43  0.926100  0.407661  dummy_constant  0.926100  0.407661  -0.070038   \n",
       "44  0.233815  0.674244  dummy_constant  0.233815  0.674244  -0.549517   \n",
       "45  0.657177  0.603510  dummy_constant  0.657177  0.603510  -0.281607   \n",
       "46  0.100396  1.273772  dummy_constant  0.100396  1.273772   0.601849   \n",
       "47  0.491911  0.696116  dummy_constant  0.491911  0.696116  -0.182057   \n",
       "48  0.709710  0.727944  dummy_constant  0.709710  0.727944  -0.064357   \n",
       "49  0.260972  0.808375  dummy_constant  0.260972  0.808375  -0.306441   \n",
       "50  0.985661  0.000000  dummy_constant  0.985661  0.000000  -0.128473   \n",
       "51  1.267726  0.079479  dummy_constant  1.267726  0.079479   0.559568   \n",
       "52  1.069419  0.096898  dummy_constant  1.069419  0.096898   0.140577   \n",
       "53  0.987674  0.303370  dummy_constant  0.987674  0.303370   0.061961   \n",
       "54  0.757547  0.698175  dummy_constant  0.757547  0.698175  -0.018149   \n",
       "\n",
       "          c2  xopt_runtime  xopt_error  \n",
       "0   2.783969      0.000042       False  \n",
       "1   1.945152      0.000009       False  \n",
       "2   0.006581      0.000007       False  \n",
       "3   6.889750      0.000006       False  \n",
       "4   5.399174      0.000006       False  \n",
       "5   0.108876      0.000024       False  \n",
       "6   0.337243      0.000027       False  \n",
       "7   0.304804      0.000027       False  \n",
       "8   0.129239      0.000027       False  \n",
       "9   0.379066      0.000027       False  \n",
       "10  0.434398      0.000025       False  \n",
       "11  0.361442      0.000025       False  \n",
       "12  0.161886      0.000029       False  \n",
       "13  0.453024      0.000026       False  \n",
       "14  0.061065      0.000028       False  \n",
       "15  0.355122      0.000027       False  \n",
       "16  0.488233      0.000027       False  \n",
       "17  0.057129      0.000027       False  \n",
       "18  0.749857      0.000029       False  \n",
       "19  0.016742      0.000029       False  \n",
       "20  0.239734      0.000030       False  \n",
       "21  0.087551      0.000026       False  \n",
       "22  1.047320      0.000032       False  \n",
       "23  0.574801      0.000026       False  \n",
       "24  0.200138      0.000029       False  \n",
       "25  0.143715      0.000029       False  \n",
       "26  0.111644      0.000027       False  \n",
       "27  0.208501      0.000027       False  \n",
       "28  0.209548      0.000029       False  \n",
       "29  0.276600      0.000028       False  \n",
       "30  0.399971      0.000024       False  \n",
       "31  0.106674      0.000027       False  \n",
       "32  0.125608      0.000029       False  \n",
       "33  0.255292      0.000029       False  \n",
       "34  0.020157      0.000028       False  \n",
       "35  0.020667      0.000029       False  \n",
       "36  0.476234      0.000027       False  \n",
       "37  0.271599      0.000027       False  \n",
       "38  0.100178      0.000031       False  \n",
       "39  0.561766      0.000026       False  \n",
       "40  0.179428      0.000027       False  \n",
       "41  0.023867      0.000024       False  \n",
       "42  0.024602      0.000028       False  \n",
       "43  0.190088      0.000029       False  \n",
       "44  0.101216      0.000028       False  \n",
       "45  0.035419      0.000029       False  \n",
       "46  0.758407      0.000027       False  \n",
       "47  0.038527      0.000028       False  \n",
       "48  0.095937      0.000027       False  \n",
       "49  0.152230      0.000026       False  \n",
       "50  0.485866      0.000027       False  \n",
       "51  0.766241      0.000026       False  \n",
       "52  0.486729      0.000029       False  \n",
       "53  0.276489      0.000030       False  \n",
       "54  0.105604      0.000026       False  "
      ]
     },
     "execution_count": 3,
     "metadata": {},
     "output_type": "execute_result"
    }
   ],
   "source": [
    "X.generator.data"
   ]
  },
  {
   "cell_type": "markdown",
   "metadata": {
    "collapsed": false
   },
   "source": [
    "## plot results\n"
   ]
  },
  {
   "cell_type": "code",
   "execution_count": 4,
   "metadata": {
    "collapsed": false,
    "execution": {
     "iopub.execute_input": "2024-04-24T15:44:28.713119Z",
     "iopub.status.busy": "2024-04-24T15:44:28.712672Z",
     "iopub.status.idle": "2024-04-24T15:44:29.196090Z",
     "shell.execute_reply": "2024-04-24T15:44:29.195495Z"
    }
   },
   "outputs": [
    {
     "data": {
      "image/png": "[encoded data removed]",
      "text/plain": [
       "<Figure size 640x480 with 1 Axes>"
      ]
     },
     "metadata": {},
     "output_type": "display_data"
    }
   ],
   "source": [
    "import matplotlib.pyplot as plt\n",
    "import numpy as np\n",
    "import pandas as pd\n",
    "\n",
    "fig, ax = plt.subplots()\n",
    "\n",
    "theta = np.linspace(0, np.pi / 2)\n",
    "r = np.sqrt(1 + 0.1 * np.cos(16 * theta))\n",
    "x_1 = r * np.sin(theta)\n",
    "x_2_lower = r * np.cos(theta)\n",
    "x_2_upper = (0.5 - (x_1 - 0.5) ** 2) ** 0.5 + 0.5\n",
    "\n",
    "z = np.zeros_like(x_1)\n",
    "\n",
    "# ax2.plot(x_1, x_2_lower,'r')\n",
    "ax.fill_between(x_1, z, x_2_lower, fc=\"white\")\n",
    "circle = plt.Circle(\n",
    "    (0.5, 0.5), 0.5 ** 0.5, color=\"r\", alpha=0.25, zorder=0, label=\"Valid Region\"\n",
    ")\n",
    "ax.add_patch(circle)\n",
    "history = pd.concat(\n",
    "    [X.data, X.vocs.feasibility_data(X.data)], axis=1, ignore_index=False\n",
    ")\n",
    "\n",
    "\n",
    "ax.plot(*history[[\"x1\", \"x2\"]][history[\"feasible\"]].to_numpy().T, \".C1\")\n",
    "ax.plot(*history[[\"x1\", \"x2\"]][~history[\"feasible\"]].to_numpy().T, \".C2\")\n",
    "\n",
    "ax.set_xlim(0, 3.14)\n",
    "ax.set_ylim(0, 3.14)\n",
    "ax.set_xlabel(\"x1\")\n",
    "ax.set_ylabel(\"x2\")\n",
    "ax.set_aspect(\"equal\")"
   ]
  },
  {
   "cell_type": "markdown",
   "metadata": {
    "collapsed": false
   },
   "source": [
    "### Plot path through input space"
   ]
  },
  {
   "cell_type": "code",
   "execution_count": 5,
   "metadata": {
    "collapsed": false,
    "execution": {
     "iopub.execute_input": "2024-04-24T15:44:29.198655Z",
     "iopub.status.busy": "2024-04-24T15:44:29.198374Z",
     "iopub.status.idle": "2024-04-24T15:44:29.319376Z",
     "shell.execute_reply": "2024-04-24T15:44:29.318700Z"
    }
   },
   "outputs": [
    {
     "data": {
      "image/png": "[encoded data removed]",
      "text/plain": [
       "<Figure size 640x480 with 1 Axes>"
      ]
     },
     "metadata": {},
     "output_type": "display_data"
    }
   ],
   "source": [
    "ax = history.plot(\"x1\", \"x2\")\n",
    "ax.set_ylim(0, 3.14)\n",
    "ax.set_xlim(0, 3.14)\n",
    "ax.set_aspect(\"equal\")"
   ]
  },
  {
   "cell_type": "code",
   "execution_count": 6,
   "metadata": {
    "collapsed": false,
    "execution": {
     "iopub.execute_input": "2024-04-24T15:44:29.321701Z",
     "iopub.status.busy": "2024-04-24T15:44:29.321503Z",
     "iopub.status.idle": "2024-04-24T15:44:33.728436Z",
     "shell.execute_reply": "2024-04-24T15:44:33.727809Z"
    }
   },
   "outputs": [
    {
     "name": "stdout",
     "output_type": "stream",
     "text": [
      "[[0.24024278 0.85230119]]\n"
     ]
    },
    {
     "data": {
      "text/plain": [
       "[<matplotlib.lines.Line2D at 0x7fdf532104c0>]"
      ]
     },
     "execution_count": 6,
     "metadata": {},
     "output_type": "execute_result"
    },
    {
     "data": {
      "image/png": "[encoded data removed]",
      "text/plain": [
       "<Figure size 800x800 with 2 Axes>"
      ]
     },
     "metadata": {},
     "output_type": "display_data"
    },
    {
     "data": {
      "image/png": "[encoded data removed]",
      "text/plain": [
       "<Figure size 800x800 with 2 Axes>"
      ]
     },
     "metadata": {},
     "output_type": "display_data"
    }
   ],
   "source": [
    "# plot the acquisition function\n",
    "from xopt.generators.bayesian.objectives import feasibility\n",
    "\n",
    "bounds = X.generator.vocs.bounds\n",
    "model = X.generator.model\n",
    "\n",
    "# create mesh\n",
    "n = 100\n",
    "x = torch.linspace(*bounds.T[0], n)\n",
    "y = torch.linspace(*bounds.T[1], n)\n",
    "xx, yy = torch.meshgrid(x, y)\n",
    "pts = torch.hstack([ele.reshape(-1, 1) for ele in (xx, yy)]).double()\n",
    "\n",
    "xx, yy = xx.numpy(), yy.numpy()\n",
    "\n",
    "acq_func = X.generator.get_acquisition(model)\n",
    "with torch.no_grad():\n",
    "    acq_pts = pts.unsqueeze(1)\n",
    "    acq = acq_func(acq_pts)\n",
    "\n",
    "    fig, ax = plt.subplots(figsize=(8,8))\n",
    "    c = ax.pcolor(xx, yy, acq.reshape(n, n), cmap=\"Blues\")\n",
    "    fig.colorbar(c)\n",
    "    ax.set_title(\"Acquisition function\")\n",
    "\n",
    "    ax.plot(*history[[\"x1\", \"x2\"]][history[\"feasible\"]].to_numpy().T, \".C1\")\n",
    "    ax.plot(*history[[\"x1\", \"x2\"]][~history[\"feasible\"]].to_numpy().T, \".C2\")\n",
    "\n",
    "    ax.plot(*history[[\"x1\", \"x2\"]].to_numpy()[-1].T, \"+\")\n",
    "\n",
    "    feas = feasibility(pts.unsqueeze(1), model, X.vocs).flatten()\n",
    "\n",
    "    fig2, ax2 = plt.subplots(figsize=(8,8))\n",
    "    c = ax2.pcolor(xx, yy, feas.reshape(n, n))\n",
    "    fig2.colorbar(c)\n",
    "    ax2.set_title(\"Feasible Region\")\n",
    "\n",
    "candidate = pd.DataFrame(X.generator.generate(1), index=[0])\n",
    "print(candidate[[\"x1\", \"x2\"]].to_numpy())\n",
    "ax.plot(*candidate[[\"x1\", \"x2\"]].to_numpy()[0], \"o\")"
   ]
  }
 ],
 "metadata": {
  "interpreter": {
   "hash": "72034539424920dfb606fe3b820b3f27dca0cbf1c69938110810ec4641e275b1"
  },
  "kernelspec": {
   "display_name": "Python 3 (ipykernel)",
   "language": "python",
   "name": "python3"
  },
  "language_info": {
   "codemirror_mode": {
    "name": "ipython",
    "version": 3
   },
   "file_extension": ".py",
   "mimetype": "text/x-python",
   "name": "python",
   "nbconvert_exporter": "python",
   "pygments_lexer": "ipython3",
   "version": "3.9.19"
  }
 },
 "nbformat": 4,
 "nbformat_minor": 4
}
