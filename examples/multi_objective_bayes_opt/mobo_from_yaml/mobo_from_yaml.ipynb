{
 "cells": [
  {
   "cell_type": "markdown",
   "metadata": {},
   "source": [
    "\n",
    "# Multi-objective Bayesian Optimization\n",
    "\n",
    "\n",
    "TNK function\n",
    "$n=2$ variables:\n",
    "$x_i \\in [0, \\pi], i=1,2$\n",
    "\n",
    "Objectives:\n",
    "- $f_i(x) = x_i$\n",
    "\n",
    "Constraints:\n",
    "- $g_1(x) = -x_1^2 -x_2^2 + 1 + 0.1 \\cos\\left(16 \\arctan \\frac{x_1}{x_2}\\right) \\le 0$\n",
    "- $g_2(x) = (x_1 - 1/2)^2 + (x_2-1/2)^2 \\le 0.5$"
   ]
  },
  {
   "cell_type": "code",
   "execution_count": 1,
   "metadata": {
    "collapsed": false,
    "execution": {
     "iopub.execute_input": "2024-01-31T17:08:06.823734Z",
     "iopub.status.busy": "2024-01-31T17:08:06.823551Z",
     "iopub.status.idle": "2024-01-31T17:08:08.287559Z",
     "shell.execute_reply": "2024-01-31T17:08:08.286900Z"
    }
   },
   "outputs": [],
   "source": [
    "import os\n",
    "SMOKE_TEST = os.environ.get(\"SMOKE_TEST\")\n",
    "NUM_STEPS = 2 if SMOKE_TEST else 50\n",
    "\n",
    "# Ignore all warnings\n",
    "import warnings\n",
    "warnings.filterwarnings(\"ignore\")\n",
    "\n",
    "import torch\n",
    "from xopt import Xopt\n",
    "\n",
    "\n",
    "YAML = \"\"\"\n",
    "generator:\n",
    "    name: mobo\n",
    "    reference_point: {y1: 1.5, y2: 1.5}\n",
    "\n",
    "evaluator:\n",
    "    function: xopt.resources.test_functions.tnk.evaluate_TNK\n",
    "\n",
    "vocs:\n",
    "    variables:\n",
    "        x1: [0, 3.14159]\n",
    "        x2: [0, 3.14159]\n",
    "    objectives: {y1: MINIMIZE, y2: MINIMIZE}\n",
    "    constraints:\n",
    "        c1: [GREATER_THAN, 0]\n",
    "        c2: [LESS_THAN, 0.5]\n",
    "    constants: {a: dummy_constant}\n",
    "\n",
    "\"\"\""
   ]
  },
  {
   "cell_type": "code",
   "execution_count": 2,
   "metadata": {
    "collapsed": false,
    "execution": {
     "iopub.execute_input": "2024-01-31T17:08:08.290452Z",
     "iopub.status.busy": "2024-01-31T17:08:08.290172Z",
     "iopub.status.idle": "2024-01-31T17:08:53.724734Z",
     "shell.execute_reply": "2024-01-31T17:08:53.724131Z"
    }
   },
   "outputs": [
    {
     "name": "stdout",
     "output_type": "stream",
     "text": [
      "0\n"
     ]
    },
    {
     "name": "stdout",
     "output_type": "stream",
     "text": [
      "1\n"
     ]
    },
    {
     "name": "stdout",
     "output_type": "stream",
     "text": [
      "2\n"
     ]
    },
    {
     "name": "stdout",
     "output_type": "stream",
     "text": [
      "3\n"
     ]
    },
    {
     "name": "stdout",
     "output_type": "stream",
     "text": [
      "4\n"
     ]
    },
    {
     "name": "stdout",
     "output_type": "stream",
     "text": [
      "5\n"
     ]
    },
    {
     "name": "stdout",
     "output_type": "stream",
     "text": [
      "6\n"
     ]
    },
    {
     "name": "stdout",
     "output_type": "stream",
     "text": [
      "7\n"
     ]
    },
    {
     "name": "stdout",
     "output_type": "stream",
     "text": [
      "8\n"
     ]
    },
    {
     "name": "stdout",
     "output_type": "stream",
     "text": [
      "9\n"
     ]
    },
    {
     "name": "stdout",
     "output_type": "stream",
     "text": [
      "10\n"
     ]
    },
    {
     "name": "stdout",
     "output_type": "stream",
     "text": [
      "11\n"
     ]
    },
    {
     "name": "stdout",
     "output_type": "stream",
     "text": [
      "12\n"
     ]
    },
    {
     "name": "stdout",
     "output_type": "stream",
     "text": [
      "13\n"
     ]
    },
    {
     "name": "stdout",
     "output_type": "stream",
     "text": [
      "14\n"
     ]
    },
    {
     "name": "stdout",
     "output_type": "stream",
     "text": [
      "15\n"
     ]
    },
    {
     "name": "stdout",
     "output_type": "stream",
     "text": [
      "16\n"
     ]
    },
    {
     "name": "stdout",
     "output_type": "stream",
     "text": [
      "17\n"
     ]
    },
    {
     "name": "stdout",
     "output_type": "stream",
     "text": [
      "18\n"
     ]
    },
    {
     "name": "stdout",
     "output_type": "stream",
     "text": [
      "19\n"
     ]
    },
    {
     "name": "stdout",
     "output_type": "stream",
     "text": [
      "20\n"
     ]
    },
    {
     "name": "stdout",
     "output_type": "stream",
     "text": [
      "21\n"
     ]
    },
    {
     "name": "stdout",
     "output_type": "stream",
     "text": [
      "22\n"
     ]
    },
    {
     "name": "stdout",
     "output_type": "stream",
     "text": [
      "23\n"
     ]
    },
    {
     "name": "stdout",
     "output_type": "stream",
     "text": [
      "24\n"
     ]
    },
    {
     "name": "stdout",
     "output_type": "stream",
     "text": [
      "25\n"
     ]
    },
    {
     "name": "stdout",
     "output_type": "stream",
     "text": [
      "26\n"
     ]
    },
    {
     "name": "stdout",
     "output_type": "stream",
     "text": [
      "27\n"
     ]
    },
    {
     "name": "stdout",
     "output_type": "stream",
     "text": [
      "28\n"
     ]
    },
    {
     "name": "stdout",
     "output_type": "stream",
     "text": [
      "29\n"
     ]
    },
    {
     "name": "stdout",
     "output_type": "stream",
     "text": [
      "30\n"
     ]
    },
    {
     "name": "stdout",
     "output_type": "stream",
     "text": [
      "31\n"
     ]
    },
    {
     "name": "stdout",
     "output_type": "stream",
     "text": [
      "32\n"
     ]
    },
    {
     "name": "stdout",
     "output_type": "stream",
     "text": [
      "33\n"
     ]
    },
    {
     "name": "stdout",
     "output_type": "stream",
     "text": [
      "34\n"
     ]
    },
    {
     "name": "stdout",
     "output_type": "stream",
     "text": [
      "35\n"
     ]
    },
    {
     "name": "stdout",
     "output_type": "stream",
     "text": [
      "36\n"
     ]
    },
    {
     "name": "stdout",
     "output_type": "stream",
     "text": [
      "37\n"
     ]
    },
    {
     "name": "stdout",
     "output_type": "stream",
     "text": [
      "38\n"
     ]
    },
    {
     "name": "stdout",
     "output_type": "stream",
     "text": [
      "39\n"
     ]
    },
    {
     "name": "stdout",
     "output_type": "stream",
     "text": [
      "40\n"
     ]
    },
    {
     "name": "stdout",
     "output_type": "stream",
     "text": [
      "41\n"
     ]
    },
    {
     "name": "stdout",
     "output_type": "stream",
     "text": [
      "42\n"
     ]
    },
    {
     "name": "stdout",
     "output_type": "stream",
     "text": [
      "43\n"
     ]
    },
    {
     "name": "stdout",
     "output_type": "stream",
     "text": [
      "44\n"
     ]
    },
    {
     "name": "stdout",
     "output_type": "stream",
     "text": [
      "45\n"
     ]
    },
    {
     "name": "stdout",
     "output_type": "stream",
     "text": [
      "46\n"
     ]
    },
    {
     "name": "stdout",
     "output_type": "stream",
     "text": [
      "47\n"
     ]
    },
    {
     "name": "stdout",
     "output_type": "stream",
     "text": [
      "48\n"
     ]
    },
    {
     "name": "stdout",
     "output_type": "stream",
     "text": [
      "49\n"
     ]
    }
   ],
   "source": [
    "X = Xopt.from_yaml(YAML)\n",
    "\n",
    "# for testing purposes only\n",
    "if SMOKE_TEST:\n",
    "    X.generator.numerical_optimizer.n_restarts = 1\n",
    "    X.generator.n_monte_carlo_samples = 1\n",
    "\n",
    "X.random_evaluate(5)\n",
    "for i in range(NUM_STEPS):\n",
    "    print(i)\n",
    "    X.step()"
   ]
  },
  {
   "cell_type": "code",
   "execution_count": 3,
   "metadata": {
    "collapsed": false,
    "execution": {
     "iopub.execute_input": "2024-01-31T17:08:53.727813Z",
     "iopub.status.busy": "2024-01-31T17:08:53.727314Z",
     "iopub.status.idle": "2024-01-31T17:08:53.746601Z",
     "shell.execute_reply": "2024-01-31T17:08:53.746013Z"
    }
   },
   "outputs": [
    {
     "data": {
      "text/html": [
       "<div>\n",
       "<style scoped>\n",
       "    .dataframe tbody tr th:only-of-type {\n",
       "        vertical-align: middle;\n",
       "    }\n",
       "\n",
       "    .dataframe tbody tr th {\n",
       "        vertical-align: top;\n",
       "    }\n",
       "\n",
       "    .dataframe thead th {\n",
       "        text-align: right;\n",
       "    }\n",
       "</style>\n",
       "<table border=\"1\" class=\"dataframe\">\n",
       "  <thead>\n",
       "    <tr style=\"text-align: right;\">\n",
       "      <th></th>\n",
       "      <th>x1</th>\n",
       "      <th>x2</th>\n",
       "      <th>a</th>\n",
       "      <th>y1</th>\n",
       "      <th>y2</th>\n",
       "      <th>c1</th>\n",
       "      <th>c2</th>\n",
       "      <th>xopt_runtime</th>\n",
       "      <th>xopt_error</th>\n",
       "    </tr>\n",
       "  </thead>\n",
       "  <tbody>\n",
       "    <tr>\n",
       "      <th>0</th>\n",
       "      <td>2.103228</td>\n",
       "      <td>1.811935</td>\n",
       "      <td>dummy_constant</td>\n",
       "      <td>2.103228</td>\n",
       "      <td>1.811935</td>\n",
       "      <td>6.669347</td>\n",
       "      <td>4.291514</td>\n",
       "      <td>0.000034</td>\n",
       "      <td>False</td>\n",
       "    </tr>\n",
       "    <tr>\n",
       "      <th>1</th>\n",
       "      <td>0.960158</td>\n",
       "      <td>1.498897</td>\n",
       "      <td>dummy_constant</td>\n",
       "      <td>0.960158</td>\n",
       "      <td>1.498897</td>\n",
       "      <td>2.263854</td>\n",
       "      <td>1.209541</td>\n",
       "      <td>0.000009</td>\n",
       "      <td>False</td>\n",
       "    </tr>\n",
       "    <tr>\n",
       "      <th>2</th>\n",
       "      <td>0.309240</td>\n",
       "      <td>2.690804</td>\n",
       "      <td>dummy_constant</td>\n",
       "      <td>0.309240</td>\n",
       "      <td>2.690804</td>\n",
       "      <td>6.361762</td>\n",
       "      <td>4.836012</td>\n",
       "      <td>0.000007</td>\n",
       "      <td>False</td>\n",
       "    </tr>\n",
       "    <tr>\n",
       "      <th>3</th>\n",
       "      <td>2.343137</td>\n",
       "      <td>1.759951</td>\n",
       "      <td>dummy_constant</td>\n",
       "      <td>2.343137</td>\n",
       "      <td>1.759951</td>\n",
       "      <td>7.651233</td>\n",
       "      <td>4.984629</td>\n",
       "      <td>0.000006</td>\n",
       "      <td>False</td>\n",
       "    </tr>\n",
       "    <tr>\n",
       "      <th>4</th>\n",
       "      <td>0.900567</td>\n",
       "      <td>2.740190</td>\n",
       "      <td>dummy_constant</td>\n",
       "      <td>0.900567</td>\n",
       "      <td>2.740190</td>\n",
       "      <td>7.283677</td>\n",
       "      <td>5.178905</td>\n",
       "      <td>0.000006</td>\n",
       "      <td>False</td>\n",
       "    </tr>\n",
       "    <tr>\n",
       "      <th>5</th>\n",
       "      <td>0.211018</td>\n",
       "      <td>1.078210</td>\n",
       "      <td>dummy_constant</td>\n",
       "      <td>0.211018</td>\n",
       "      <td>1.078210</td>\n",
       "      <td>0.306945</td>\n",
       "      <td>0.417837</td>\n",
       "      <td>0.000025</td>\n",
       "      <td>False</td>\n",
       "    </tr>\n",
       "    <tr>\n",
       "      <th>6</th>\n",
       "      <td>0.000000</td>\n",
       "      <td>0.753575</td>\n",
       "      <td>dummy_constant</td>\n",
       "      <td>0.000000</td>\n",
       "      <td>0.753575</td>\n",
       "      <td>-0.532125</td>\n",
       "      <td>0.314300</td>\n",
       "      <td>0.000024</td>\n",
       "      <td>False</td>\n",
       "    </tr>\n",
       "    <tr>\n",
       "      <th>7</th>\n",
       "      <td>0.000000</td>\n",
       "      <td>0.006516</td>\n",
       "      <td>dummy_constant</td>\n",
       "      <td>0.000000</td>\n",
       "      <td>0.006516</td>\n",
       "      <td>-1.099958</td>\n",
       "      <td>0.493527</td>\n",
       "      <td>0.000025</td>\n",
       "      <td>False</td>\n",
       "    </tr>\n",
       "    <tr>\n",
       "      <th>8</th>\n",
       "      <td>0.699900</td>\n",
       "      <td>0.000610</td>\n",
       "      <td>dummy_constant</td>\n",
       "      <td>0.699900</td>\n",
       "      <td>0.000610</td>\n",
       "      <td>-0.610130</td>\n",
       "      <td>0.289351</td>\n",
       "      <td>0.000025</td>\n",
       "      <td>False</td>\n",
       "    </tr>\n",
       "    <tr>\n",
       "      <th>9</th>\n",
       "      <td>0.998693</td>\n",
       "      <td>0.219446</td>\n",
       "      <td>dummy_constant</td>\n",
       "      <td>0.998693</td>\n",
       "      <td>0.219446</td>\n",
       "      <td>0.140494</td>\n",
       "      <td>0.327405</td>\n",
       "      <td>0.000025</td>\n",
       "      <td>False</td>\n",
       "    </tr>\n",
       "    <tr>\n",
       "      <th>10</th>\n",
       "      <td>0.110794</td>\n",
       "      <td>1.003850</td>\n",
       "      <td>dummy_constant</td>\n",
       "      <td>0.110794</td>\n",
       "      <td>1.003850</td>\n",
       "      <td>0.038679</td>\n",
       "      <td>0.405346</td>\n",
       "      <td>0.000026</td>\n",
       "      <td>False</td>\n",
       "    </tr>\n",
       "    <tr>\n",
       "      <th>11</th>\n",
       "      <td>0.645537</td>\n",
       "      <td>0.781149</td>\n",
       "      <td>dummy_constant</td>\n",
       "      <td>0.645537</td>\n",
       "      <td>0.781149</td>\n",
       "      <td>0.021466</td>\n",
       "      <td>0.100226</td>\n",
       "      <td>0.000026</td>\n",
       "      <td>False</td>\n",
       "    </tr>\n",
       "    <tr>\n",
       "      <th>12</th>\n",
       "      <td>0.553579</td>\n",
       "      <td>0.882169</td>\n",
       "      <td>dummy_constant</td>\n",
       "      <td>0.553579</td>\n",
       "      <td>0.882169</td>\n",
       "      <td>0.174357</td>\n",
       "      <td>0.148924</td>\n",
       "      <td>0.000025</td>\n",
       "      <td>False</td>\n",
       "    </tr>\n",
       "    <tr>\n",
       "      <th>13</th>\n",
       "      <td>0.875085</td>\n",
       "      <td>0.586964</td>\n",
       "      <td>dummy_constant</td>\n",
       "      <td>0.875085</td>\n",
       "      <td>0.586964</td>\n",
       "      <td>0.210261</td>\n",
       "      <td>0.148252</td>\n",
       "      <td>0.000024</td>\n",
       "      <td>False</td>\n",
       "    </tr>\n",
       "    <tr>\n",
       "      <th>14</th>\n",
       "      <td>0.920715</td>\n",
       "      <td>0.355947</td>\n",
       "      <td>dummy_constant</td>\n",
       "      <td>0.920715</td>\n",
       "      <td>0.355947</td>\n",
       "      <td>-0.118423</td>\n",
       "      <td>0.197752</td>\n",
       "      <td>0.000026</td>\n",
       "      <td>False</td>\n",
       "    </tr>\n",
       "    <tr>\n",
       "      <th>15</th>\n",
       "      <td>0.341093</td>\n",
       "      <td>0.932146</td>\n",
       "      <td>dummy_constant</td>\n",
       "      <td>0.341093</td>\n",
       "      <td>0.932146</td>\n",
       "      <td>-0.093106</td>\n",
       "      <td>0.212002</td>\n",
       "      <td>0.000026</td>\n",
       "      <td>False</td>\n",
       "    </tr>\n",
       "    <tr>\n",
       "      <th>16</th>\n",
       "      <td>0.987936</td>\n",
       "      <td>0.000000</td>\n",
       "      <td>dummy_constant</td>\n",
       "      <td>0.987936</td>\n",
       "      <td>0.000000</td>\n",
       "      <td>-0.123982</td>\n",
       "      <td>0.488082</td>\n",
       "      <td>0.000026</td>\n",
       "      <td>False</td>\n",
       "    </tr>\n",
       "    <tr>\n",
       "      <th>17</th>\n",
       "      <td>0.774171</td>\n",
       "      <td>0.666059</td>\n",
       "      <td>dummy_constant</td>\n",
       "      <td>0.774171</td>\n",
       "      <td>0.666059</td>\n",
       "      <td>0.006629</td>\n",
       "      <td>0.102746</td>\n",
       "      <td>0.000025</td>\n",
       "      <td>False</td>\n",
       "    </tr>\n",
       "    <tr>\n",
       "      <th>18</th>\n",
       "      <td>1.048829</td>\n",
       "      <td>0.098570</td>\n",
       "      <td>dummy_constant</td>\n",
       "      <td>1.048829</td>\n",
       "      <td>0.098570</td>\n",
       "      <td>0.102614</td>\n",
       "      <td>0.462359</td>\n",
       "      <td>0.000025</td>\n",
       "      <td>False</td>\n",
       "    </tr>\n",
       "    <tr>\n",
       "      <th>19</th>\n",
       "      <td>0.903274</td>\n",
       "      <td>0.039857</td>\n",
       "      <td>dummy_constant</td>\n",
       "      <td>0.903274</td>\n",
       "      <td>0.039857</td>\n",
       "      <td>-0.258633</td>\n",
       "      <td>0.374362</td>\n",
       "      <td>0.000026</td>\n",
       "      <td>False</td>\n",
       "    </tr>\n",
       "    <tr>\n",
       "      <th>20</th>\n",
       "      <td>0.714151</td>\n",
       "      <td>0.757996</td>\n",
       "      <td>dummy_constant</td>\n",
       "      <td>0.714151</td>\n",
       "      <td>0.757996</td>\n",
       "      <td>-0.004296</td>\n",
       "      <td>0.112423</td>\n",
       "      <td>0.000026</td>\n",
       "      <td>False</td>\n",
       "    </tr>\n",
       "    <tr>\n",
       "      <th>21</th>\n",
       "      <td>0.374315</td>\n",
       "      <td>0.941395</td>\n",
       "      <td>dummy_constant</td>\n",
       "      <td>0.374315</td>\n",
       "      <td>0.941395</td>\n",
       "      <td>-0.071076</td>\n",
       "      <td>0.210626</td>\n",
       "      <td>0.000026</td>\n",
       "      <td>False</td>\n",
       "    </tr>\n",
       "    <tr>\n",
       "      <th>22</th>\n",
       "      <td>1.028347</td>\n",
       "      <td>0.047213</td>\n",
       "      <td>dummy_constant</td>\n",
       "      <td>1.028347</td>\n",
       "      <td>0.047213</td>\n",
       "      <td>-0.014519</td>\n",
       "      <td>0.484166</td>\n",
       "      <td>0.000027</td>\n",
       "      <td>False</td>\n",
       "    </tr>\n",
       "    <tr>\n",
       "      <th>23</th>\n",
       "      <td>0.931411</td>\n",
       "      <td>0.418740</td>\n",
       "      <td>dummy_constant</td>\n",
       "      <td>0.931411</td>\n",
       "      <td>0.418740</td>\n",
       "      <td>-0.045976</td>\n",
       "      <td>0.192719</td>\n",
       "      <td>0.000025</td>\n",
       "      <td>False</td>\n",
       "    </tr>\n",
       "    <tr>\n",
       "      <th>24</th>\n",
       "      <td>0.818264</td>\n",
       "      <td>0.351639</td>\n",
       "      <td>dummy_constant</td>\n",
       "      <td>0.818264</td>\n",
       "      <td>0.351639</td>\n",
       "      <td>-0.304579</td>\n",
       "      <td>0.123303</td>\n",
       "      <td>0.000026</td>\n",
       "      <td>False</td>\n",
       "    </tr>\n",
       "    <tr>\n",
       "      <th>25</th>\n",
       "      <td>0.390279</td>\n",
       "      <td>0.782384</td>\n",
       "      <td>dummy_constant</td>\n",
       "      <td>0.390279</td>\n",
       "      <td>0.782384</td>\n",
       "      <td>-0.279105</td>\n",
       "      <td>0.091779</td>\n",
       "      <td>0.000026</td>\n",
       "      <td>False</td>\n",
       "    </tr>\n",
       "    <tr>\n",
       "      <th>26</th>\n",
       "      <td>0.854533</td>\n",
       "      <td>0.547751</td>\n",
       "      <td>dummy_constant</td>\n",
       "      <td>0.854533</td>\n",
       "      <td>0.547751</td>\n",
       "      <td>0.125659</td>\n",
       "      <td>0.127974</td>\n",
       "      <td>0.000025</td>\n",
       "      <td>False</td>\n",
       "    </tr>\n",
       "    <tr>\n",
       "      <th>27</th>\n",
       "      <td>0.046743</td>\n",
       "      <td>1.204836</td>\n",
       "      <td>dummy_constant</td>\n",
       "      <td>0.046743</td>\n",
       "      <td>1.204836</td>\n",
       "      <td>0.372451</td>\n",
       "      <td>0.702235</td>\n",
       "      <td>0.000026</td>\n",
       "      <td>False</td>\n",
       "    </tr>\n",
       "    <tr>\n",
       "      <th>28</th>\n",
       "      <td>0.797843</td>\n",
       "      <td>0.669320</td>\n",
       "      <td>dummy_constant</td>\n",
       "      <td>0.797843</td>\n",
       "      <td>0.669320</td>\n",
       "      <td>0.067352</td>\n",
       "      <td>0.117380</td>\n",
       "      <td>0.000026</td>\n",
       "      <td>False</td>\n",
       "    </tr>\n",
       "    <tr>\n",
       "      <th>29</th>\n",
       "      <td>1.013203</td>\n",
       "      <td>0.137575</td>\n",
       "      <td>dummy_constant</td>\n",
       "      <td>1.013203</td>\n",
       "      <td>0.137575</td>\n",
       "      <td>0.101021</td>\n",
       "      <td>0.394729</td>\n",
       "      <td>0.000026</td>\n",
       "      <td>False</td>\n",
       "    </tr>\n",
       "    <tr>\n",
       "      <th>30</th>\n",
       "      <td>0.510372</td>\n",
       "      <td>0.408636</td>\n",
       "      <td>dummy_constant</td>\n",
       "      <td>0.510372</td>\n",
       "      <td>0.408636</td>\n",
       "      <td>-0.553333</td>\n",
       "      <td>0.008455</td>\n",
       "      <td>0.000026</td>\n",
       "      <td>False</td>\n",
       "    </tr>\n",
       "    <tr>\n",
       "      <th>31</th>\n",
       "      <td>0.810375</td>\n",
       "      <td>0.606810</td>\n",
       "      <td>dummy_constant</td>\n",
       "      <td>0.810375</td>\n",
       "      <td>0.606810</td>\n",
       "      <td>0.090248</td>\n",
       "      <td>0.107741</td>\n",
       "      <td>0.000026</td>\n",
       "      <td>False</td>\n",
       "    </tr>\n",
       "    <tr>\n",
       "      <th>32</th>\n",
       "      <td>0.630346</td>\n",
       "      <td>0.585434</td>\n",
       "      <td>dummy_constant</td>\n",
       "      <td>0.630346</td>\n",
       "      <td>0.585434</td>\n",
       "      <td>-0.342981</td>\n",
       "      <td>0.024289</td>\n",
       "      <td>0.000027</td>\n",
       "      <td>False</td>\n",
       "    </tr>\n",
       "    <tr>\n",
       "      <th>33</th>\n",
       "      <td>0.070269</td>\n",
       "      <td>1.045591</td>\n",
       "      <td>dummy_constant</td>\n",
       "      <td>0.070269</td>\n",
       "      <td>1.045591</td>\n",
       "      <td>0.050508</td>\n",
       "      <td>0.482338</td>\n",
       "      <td>0.000025</td>\n",
       "      <td>False</td>\n",
       "    </tr>\n",
       "    <tr>\n",
       "      <th>34</th>\n",
       "      <td>0.520414</td>\n",
       "      <td>0.870838</td>\n",
       "      <td>dummy_constant</td>\n",
       "      <td>0.520414</td>\n",
       "      <td>0.870838</td>\n",
       "      <td>0.098406</td>\n",
       "      <td>0.137937</td>\n",
       "      <td>0.000026</td>\n",
       "      <td>False</td>\n",
       "    </tr>\n",
       "    <tr>\n",
       "      <th>35</th>\n",
       "      <td>1.621013</td>\n",
       "      <td>2.541491</td>\n",
       "      <td>dummy_constant</td>\n",
       "      <td>1.621013</td>\n",
       "      <td>2.541491</td>\n",
       "      <td>8.181115</td>\n",
       "      <td>5.424354</td>\n",
       "      <td>0.000027</td>\n",
       "      <td>False</td>\n",
       "    </tr>\n",
       "    <tr>\n",
       "      <th>36</th>\n",
       "      <td>1.115173</td>\n",
       "      <td>0.072866</td>\n",
       "      <td>dummy_constant</td>\n",
       "      <td>1.115173</td>\n",
       "      <td>0.072866</td>\n",
       "      <td>0.198641</td>\n",
       "      <td>0.560882</td>\n",
       "      <td>0.000027</td>\n",
       "      <td>False</td>\n",
       "    </tr>\n",
       "    <tr>\n",
       "      <th>37</th>\n",
       "      <td>0.289005</td>\n",
       "      <td>0.990389</td>\n",
       "      <td>dummy_constant</td>\n",
       "      <td>0.289005</td>\n",
       "      <td>0.990389</td>\n",
       "      <td>0.081269</td>\n",
       "      <td>0.285000</td>\n",
       "      <td>0.000026</td>\n",
       "      <td>False</td>\n",
       "    </tr>\n",
       "    <tr>\n",
       "      <th>38</th>\n",
       "      <td>0.199927</td>\n",
       "      <td>1.210901</td>\n",
       "      <td>dummy_constant</td>\n",
       "      <td>0.199927</td>\n",
       "      <td>1.210901</td>\n",
       "      <td>0.592860</td>\n",
       "      <td>0.595424</td>\n",
       "      <td>0.000027</td>\n",
       "      <td>False</td>\n",
       "    </tr>\n",
       "    <tr>\n",
       "      <th>39</th>\n",
       "      <td>0.098728</td>\n",
       "      <td>0.430812</td>\n",
       "      <td>dummy_constant</td>\n",
       "      <td>0.098728</td>\n",
       "      <td>0.430812</td>\n",
       "      <td>-0.715175</td>\n",
       "      <td>0.165807</td>\n",
       "      <td>0.000025</td>\n",
       "      <td>False</td>\n",
       "    </tr>\n",
       "    <tr>\n",
       "      <th>40</th>\n",
       "      <td>0.179941</td>\n",
       "      <td>1.000571</td>\n",
       "      <td>dummy_constant</td>\n",
       "      <td>0.179941</td>\n",
       "      <td>1.000571</td>\n",
       "      <td>0.129212</td>\n",
       "      <td>0.353009</td>\n",
       "      <td>0.000026</td>\n",
       "      <td>False</td>\n",
       "    </tr>\n",
       "    <tr>\n",
       "      <th>41</th>\n",
       "      <td>0.517601</td>\n",
       "      <td>0.567136</td>\n",
       "      <td>dummy_constant</td>\n",
       "      <td>0.517601</td>\n",
       "      <td>0.567136</td>\n",
       "      <td>-0.484954</td>\n",
       "      <td>0.004817</td>\n",
       "      <td>0.000025</td>\n",
       "      <td>False</td>\n",
       "    </tr>\n",
       "    <tr>\n",
       "      <th>42</th>\n",
       "      <td>0.963864</td>\n",
       "      <td>0.311316</td>\n",
       "      <td>dummy_constant</td>\n",
       "      <td>0.963864</td>\n",
       "      <td>0.311316</td>\n",
       "      <td>-0.002278</td>\n",
       "      <td>0.250771</td>\n",
       "      <td>0.000028</td>\n",
       "      <td>False</td>\n",
       "    </tr>\n",
       "    <tr>\n",
       "      <th>43</th>\n",
       "      <td>0.737721</td>\n",
       "      <td>0.404747</td>\n",
       "      <td>dummy_constant</td>\n",
       "      <td>0.737721</td>\n",
       "      <td>0.404747</td>\n",
       "      <td>-0.274551</td>\n",
       "      <td>0.065584</td>\n",
       "      <td>0.000026</td>\n",
       "      <td>False</td>\n",
       "    </tr>\n",
       "    <tr>\n",
       "      <th>44</th>\n",
       "      <td>0.716956</td>\n",
       "      <td>0.613973</td>\n",
       "      <td>dummy_constant</td>\n",
       "      <td>0.716956</td>\n",
       "      <td>0.613973</td>\n",
       "      <td>-0.141911</td>\n",
       "      <td>0.060060</td>\n",
       "      <td>0.000028</td>\n",
       "      <td>False</td>\n",
       "    </tr>\n",
       "    <tr>\n",
       "      <th>45</th>\n",
       "      <td>0.823766</td>\n",
       "      <td>0.609213</td>\n",
       "      <td>dummy_constant</td>\n",
       "      <td>0.823766</td>\n",
       "      <td>0.609213</td>\n",
       "      <td>0.121963</td>\n",
       "      <td>0.116752</td>\n",
       "      <td>0.000027</td>\n",
       "      <td>False</td>\n",
       "    </tr>\n",
       "    <tr>\n",
       "      <th>46</th>\n",
       "      <td>0.607699</td>\n",
       "      <td>0.077578</td>\n",
       "      <td>dummy_constant</td>\n",
       "      <td>0.607699</td>\n",
       "      <td>0.077578</td>\n",
       "      <td>-0.580221</td>\n",
       "      <td>0.190039</td>\n",
       "      <td>0.000028</td>\n",
       "      <td>False</td>\n",
       "    </tr>\n",
       "    <tr>\n",
       "      <th>47</th>\n",
       "      <td>0.029850</td>\n",
       "      <td>0.668392</td>\n",
       "      <td>dummy_constant</td>\n",
       "      <td>0.029850</td>\n",
       "      <td>0.668392</td>\n",
       "      <td>-0.627930</td>\n",
       "      <td>0.249397</td>\n",
       "      <td>0.000026</td>\n",
       "      <td>False</td>\n",
       "    </tr>\n",
       "    <tr>\n",
       "      <th>48</th>\n",
       "      <td>0.125223</td>\n",
       "      <td>1.360440</td>\n",
       "      <td>dummy_constant</td>\n",
       "      <td>0.125223</td>\n",
       "      <td>1.360440</td>\n",
       "      <td>0.856277</td>\n",
       "      <td>0.880815</td>\n",
       "      <td>0.000026</td>\n",
       "      <td>False</td>\n",
       "    </tr>\n",
       "    <tr>\n",
       "      <th>49</th>\n",
       "      <td>0.460941</td>\n",
       "      <td>0.000701</td>\n",
       "      <td>dummy_constant</td>\n",
       "      <td>0.460941</td>\n",
       "      <td>0.000701</td>\n",
       "      <td>-0.887503</td>\n",
       "      <td>0.250826</td>\n",
       "      <td>0.000026</td>\n",
       "      <td>False</td>\n",
       "    </tr>\n",
       "    <tr>\n",
       "      <th>50</th>\n",
       "      <td>1.279360</td>\n",
       "      <td>0.601749</td>\n",
       "      <td>dummy_constant</td>\n",
       "      <td>1.279360</td>\n",
       "      <td>0.601749</td>\n",
       "      <td>0.925776</td>\n",
       "      <td>0.617755</td>\n",
       "      <td>0.000026</td>\n",
       "      <td>False</td>\n",
       "    </tr>\n",
       "    <tr>\n",
       "      <th>51</th>\n",
       "      <td>0.896909</td>\n",
       "      <td>0.259825</td>\n",
       "      <td>dummy_constant</td>\n",
       "      <td>0.896909</td>\n",
       "      <td>0.259825</td>\n",
       "      <td>-0.108096</td>\n",
       "      <td>0.215220</td>\n",
       "      <td>0.000026</td>\n",
       "      <td>False</td>\n",
       "    </tr>\n",
       "    <tr>\n",
       "      <th>52</th>\n",
       "      <td>0.446774</td>\n",
       "      <td>0.905433</td>\n",
       "      <td>dummy_constant</td>\n",
       "      <td>0.446774</td>\n",
       "      <td>0.905433</td>\n",
       "      <td>-0.030260</td>\n",
       "      <td>0.167209</td>\n",
       "      <td>0.000026</td>\n",
       "      <td>False</td>\n",
       "    </tr>\n",
       "    <tr>\n",
       "      <th>53</th>\n",
       "      <td>0.362833</td>\n",
       "      <td>0.570716</td>\n",
       "      <td>dummy_constant</td>\n",
       "      <td>0.362833</td>\n",
       "      <td>0.570716</td>\n",
       "      <td>-0.449191</td>\n",
       "      <td>0.023816</td>\n",
       "      <td>0.000026</td>\n",
       "      <td>False</td>\n",
       "    </tr>\n",
       "    <tr>\n",
       "      <th>54</th>\n",
       "      <td>0.996515</td>\n",
       "      <td>0.299679</td>\n",
       "      <td>dummy_constant</td>\n",
       "      <td>0.996515</td>\n",
       "      <td>0.299679</td>\n",
       "      <td>0.086689</td>\n",
       "      <td>0.286655</td>\n",
       "      <td>0.000028</td>\n",
       "      <td>False</td>\n",
       "    </tr>\n",
       "  </tbody>\n",
       "</table>\n",
       "</div>"
      ],
      "text/plain": [
       "          x1        x2               a        y1        y2        c1  \\\n",
       "0   2.103228  1.811935  dummy_constant  2.103228  1.811935  6.669347   \n",
       "1   0.960158  1.498897  dummy_constant  0.960158  1.498897  2.263854   \n",
       "2   0.309240  2.690804  dummy_constant  0.309240  2.690804  6.361762   \n",
       "3   2.343137  1.759951  dummy_constant  2.343137  1.759951  7.651233   \n",
       "4   0.900567  2.740190  dummy_constant  0.900567  2.740190  7.283677   \n",
       "5   0.211018  1.078210  dummy_constant  0.211018  1.078210  0.306945   \n",
       "6   0.000000  0.753575  dummy_constant  0.000000  0.753575 -0.532125   \n",
       "7   0.000000  0.006516  dummy_constant  0.000000  0.006516 -1.099958   \n",
       "8   0.699900  0.000610  dummy_constant  0.699900  0.000610 -0.610130   \n",
       "9   0.998693  0.219446  dummy_constant  0.998693  0.219446  0.140494   \n",
       "10  0.110794  1.003850  dummy_constant  0.110794  1.003850  0.038679   \n",
       "11  0.645537  0.781149  dummy_constant  0.645537  0.781149  0.021466   \n",
       "12  0.553579  0.882169  dummy_constant  0.553579  0.882169  0.174357   \n",
       "13  0.875085  0.586964  dummy_constant  0.875085  0.586964  0.210261   \n",
       "14  0.920715  0.355947  dummy_constant  0.920715  0.355947 -0.118423   \n",
       "15  0.341093  0.932146  dummy_constant  0.341093  0.932146 -0.093106   \n",
       "16  0.987936  0.000000  dummy_constant  0.987936  0.000000 -0.123982   \n",
       "17  0.774171  0.666059  dummy_constant  0.774171  0.666059  0.006629   \n",
       "18  1.048829  0.098570  dummy_constant  1.048829  0.098570  0.102614   \n",
       "19  0.903274  0.039857  dummy_constant  0.903274  0.039857 -0.258633   \n",
       "20  0.714151  0.757996  dummy_constant  0.714151  0.757996 -0.004296   \n",
       "21  0.374315  0.941395  dummy_constant  0.374315  0.941395 -0.071076   \n",
       "22  1.028347  0.047213  dummy_constant  1.028347  0.047213 -0.014519   \n",
       "23  0.931411  0.418740  dummy_constant  0.931411  0.418740 -0.045976   \n",
       "24  0.818264  0.351639  dummy_constant  0.818264  0.351639 -0.304579   \n",
       "25  0.390279  0.782384  dummy_constant  0.390279  0.782384 -0.279105   \n",
       "26  0.854533  0.547751  dummy_constant  0.854533  0.547751  0.125659   \n",
       "27  0.046743  1.204836  dummy_constant  0.046743  1.204836  0.372451   \n",
       "28  0.797843  0.669320  dummy_constant  0.797843  0.669320  0.067352   \n",
       "29  1.013203  0.137575  dummy_constant  1.013203  0.137575  0.101021   \n",
       "30  0.510372  0.408636  dummy_constant  0.510372  0.408636 -0.553333   \n",
       "31  0.810375  0.606810  dummy_constant  0.810375  0.606810  0.090248   \n",
       "32  0.630346  0.585434  dummy_constant  0.630346  0.585434 -0.342981   \n",
       "33  0.070269  1.045591  dummy_constant  0.070269  1.045591  0.050508   \n",
       "34  0.520414  0.870838  dummy_constant  0.520414  0.870838  0.098406   \n",
       "35  1.621013  2.541491  dummy_constant  1.621013  2.541491  8.181115   \n",
       "36  1.115173  0.072866  dummy_constant  1.115173  0.072866  0.198641   \n",
       "37  0.289005  0.990389  dummy_constant  0.289005  0.990389  0.081269   \n",
       "38  0.199927  1.210901  dummy_constant  0.199927  1.210901  0.592860   \n",
       "39  0.098728  0.430812  dummy_constant  0.098728  0.430812 -0.715175   \n",
       "40  0.179941  1.000571  dummy_constant  0.179941  1.000571  0.129212   \n",
       "41  0.517601  0.567136  dummy_constant  0.517601  0.567136 -0.484954   \n",
       "42  0.963864  0.311316  dummy_constant  0.963864  0.311316 -0.002278   \n",
       "43  0.737721  0.404747  dummy_constant  0.737721  0.404747 -0.274551   \n",
       "44  0.716956  0.613973  dummy_constant  0.716956  0.613973 -0.141911   \n",
       "45  0.823766  0.609213  dummy_constant  0.823766  0.609213  0.121963   \n",
       "46  0.607699  0.077578  dummy_constant  0.607699  0.077578 -0.580221   \n",
       "47  0.029850  0.668392  dummy_constant  0.029850  0.668392 -0.627930   \n",
       "48  0.125223  1.360440  dummy_constant  0.125223  1.360440  0.856277   \n",
       "49  0.460941  0.000701  dummy_constant  0.460941  0.000701 -0.887503   \n",
       "50  1.279360  0.601749  dummy_constant  1.279360  0.601749  0.925776   \n",
       "51  0.896909  0.259825  dummy_constant  0.896909  0.259825 -0.108096   \n",
       "52  0.446774  0.905433  dummy_constant  0.446774  0.905433 -0.030260   \n",
       "53  0.362833  0.570716  dummy_constant  0.362833  0.570716 -0.449191   \n",
       "54  0.996515  0.299679  dummy_constant  0.996515  0.299679  0.086689   \n",
       "\n",
       "          c2  xopt_runtime  xopt_error  \n",
       "0   4.291514      0.000034       False  \n",
       "1   1.209541      0.000009       False  \n",
       "2   4.836012      0.000007       False  \n",
       "3   4.984629      0.000006       False  \n",
       "4   5.178905      0.000006       False  \n",
       "5   0.417837      0.000025       False  \n",
       "6   0.314300      0.000024       False  \n",
       "7   0.493527      0.000025       False  \n",
       "8   0.289351      0.000025       False  \n",
       "9   0.327405      0.000025       False  \n",
       "10  0.405346      0.000026       False  \n",
       "11  0.100226      0.000026       False  \n",
       "12  0.148924      0.000025       False  \n",
       "13  0.148252      0.000024       False  \n",
       "14  0.197752      0.000026       False  \n",
       "15  0.212002      0.000026       False  \n",
       "16  0.488082      0.000026       False  \n",
       "17  0.102746      0.000025       False  \n",
       "18  0.462359      0.000025       False  \n",
       "19  0.374362      0.000026       False  \n",
       "20  0.112423      0.000026       False  \n",
       "21  0.210626      0.000026       False  \n",
       "22  0.484166      0.000027       False  \n",
       "23  0.192719      0.000025       False  \n",
       "24  0.123303      0.000026       False  \n",
       "25  0.091779      0.000026       False  \n",
       "26  0.127974      0.000025       False  \n",
       "27  0.702235      0.000026       False  \n",
       "28  0.117380      0.000026       False  \n",
       "29  0.394729      0.000026       False  \n",
       "30  0.008455      0.000026       False  \n",
       "31  0.107741      0.000026       False  \n",
       "32  0.024289      0.000027       False  \n",
       "33  0.482338      0.000025       False  \n",
       "34  0.137937      0.000026       False  \n",
       "35  5.424354      0.000027       False  \n",
       "36  0.560882      0.000027       False  \n",
       "37  0.285000      0.000026       False  \n",
       "38  0.595424      0.000027       False  \n",
       "39  0.165807      0.000025       False  \n",
       "40  0.353009      0.000026       False  \n",
       "41  0.004817      0.000025       False  \n",
       "42  0.250771      0.000028       False  \n",
       "43  0.065584      0.000026       False  \n",
       "44  0.060060      0.000028       False  \n",
       "45  0.116752      0.000027       False  \n",
       "46  0.190039      0.000028       False  \n",
       "47  0.249397      0.000026       False  \n",
       "48  0.880815      0.000026       False  \n",
       "49  0.250826      0.000026       False  \n",
       "50  0.617755      0.000026       False  \n",
       "51  0.215220      0.000026       False  \n",
       "52  0.167209      0.000026       False  \n",
       "53  0.023816      0.000026       False  \n",
       "54  0.286655      0.000028       False  "
      ]
     },
     "execution_count": 3,
     "metadata": {},
     "output_type": "execute_result"
    }
   ],
   "source": [
    "X.generator.data"
   ]
  },
  {
   "cell_type": "markdown",
   "metadata": {
    "collapsed": false
   },
   "source": [
    "## plot results\n"
   ]
  },
  {
   "cell_type": "code",
   "execution_count": 4,
   "metadata": {
    "collapsed": false,
    "execution": {
     "iopub.execute_input": "2024-01-31T17:08:53.749014Z",
     "iopub.status.busy": "2024-01-31T17:08:53.748624Z",
     "iopub.status.idle": "2024-01-31T17:08:54.238773Z",
     "shell.execute_reply": "2024-01-31T17:08:54.238138Z"
    }
   },
   "outputs": [
    {
     "data": {
      "image/png": "[encoded data removed]",
      "text/plain": [
       "<Figure size 640x480 with 1 Axes>"
      ]
     },
     "metadata": {},
     "output_type": "display_data"
    }
   ],
   "source": [
    "import matplotlib.pyplot as plt\n",
    "import numpy as np\n",
    "import pandas as pd\n",
    "\n",
    "fig, ax = plt.subplots()\n",
    "\n",
    "theta = np.linspace(0, np.pi / 2)\n",
    "r = np.sqrt(1 + 0.1 * np.cos(16 * theta))\n",
    "x_1 = r * np.sin(theta)\n",
    "x_2_lower = r * np.cos(theta)\n",
    "x_2_upper = (0.5 - (x_1 - 0.5) ** 2) ** 0.5 + 0.5\n",
    "\n",
    "z = np.zeros_like(x_1)\n",
    "\n",
    "# ax2.plot(x_1, x_2_lower,'r')\n",
    "ax.fill_between(x_1, z, x_2_lower, fc=\"white\")\n",
    "circle = plt.Circle(\n",
    "    (0.5, 0.5), 0.5 ** 0.5, color=\"r\", alpha=0.25, zorder=0, label=\"Valid Region\"\n",
    ")\n",
    "ax.add_patch(circle)\n",
    "history = pd.concat(\n",
    "    [X.data, X.vocs.feasibility_data(X.data)], axis=1, ignore_index=False\n",
    ")\n",
    "\n",
    "\n",
    "ax.plot(*history[[\"x1\", \"x2\"]][history[\"feasible\"]].to_numpy().T, \".C1\")\n",
    "ax.plot(*history[[\"x1\", \"x2\"]][~history[\"feasible\"]].to_numpy().T, \".C2\")\n",
    "\n",
    "ax.set_xlim(0, 3.14)\n",
    "ax.set_ylim(0, 3.14)\n",
    "ax.set_xlabel(\"x1\")\n",
    "ax.set_ylabel(\"x2\")\n",
    "ax.set_aspect(\"equal\")"
   ]
  },
  {
   "cell_type": "markdown",
   "metadata": {
    "collapsed": false
   },
   "source": [
    "### Plot path through input space"
   ]
  },
  {
   "cell_type": "code",
   "execution_count": 5,
   "metadata": {
    "collapsed": false,
    "execution": {
     "iopub.execute_input": "2024-01-31T17:08:54.241277Z",
     "iopub.status.busy": "2024-01-31T17:08:54.241001Z",
     "iopub.status.idle": "2024-01-31T17:08:54.360551Z",
     "shell.execute_reply": "2024-01-31T17:08:54.359940Z"
    }
   },
   "outputs": [
    {
     "data": {
      "image/png": "[encoded data removed]",
      "text/plain": [
       "<Figure size 640x480 with 1 Axes>"
      ]
     },
     "metadata": {},
     "output_type": "display_data"
    }
   ],
   "source": [
    "ax = history.plot(\"x1\", \"x2\")\n",
    "ax.set_ylim(0, 3.14)\n",
    "ax.set_xlim(0, 3.14)\n",
    "ax.set_aspect(\"equal\")"
   ]
  },
  {
   "cell_type": "code",
   "execution_count": 6,
   "metadata": {
    "collapsed": false,
    "execution": {
     "iopub.execute_input": "2024-01-31T17:08:54.363080Z",
     "iopub.status.busy": "2024-01-31T17:08:54.362749Z",
     "iopub.status.idle": "2024-01-31T17:08:59.950833Z",
     "shell.execute_reply": "2024-01-31T17:08:59.950248Z"
    }
   },
   "outputs": [
    {
     "name": "stdout",
     "output_type": "stream",
     "text": [
      "[[0.0406658  1.02714494]]\n"
     ]
    },
    {
     "data": {
      "text/plain": [
       "[<matplotlib.lines.Line2D at 0x7fa42253c2b0>]"
      ]
     },
     "execution_count": 6,
     "metadata": {},
     "output_type": "execute_result"
    },
    {
     "data": {
      "image/png": "[encoded data removed]",
      "text/plain": [
       "<Figure size 800x800 with 2 Axes>"
      ]
     },
     "metadata": {},
     "output_type": "display_data"
    },
    {
     "data": {
      "image/png": "[encoded data removed]",
      "text/plain": [
       "<Figure size 800x800 with 2 Axes>"
      ]
     },
     "metadata": {},
     "output_type": "display_data"
    }
   ],
   "source": [
    "# plot the acquisition function\n",
    "from xopt.generators.bayesian.objectives import feasibility\n",
    "\n",
    "bounds = X.generator.vocs.bounds\n",
    "model = X.generator.model\n",
    "\n",
    "# create mesh\n",
    "n = 100\n",
    "x = torch.linspace(*bounds.T[0], n)\n",
    "y = torch.linspace(*bounds.T[1], n)\n",
    "xx, yy = torch.meshgrid(x, y)\n",
    "pts = torch.hstack([ele.reshape(-1, 1) for ele in (xx, yy)]).double()\n",
    "\n",
    "xx, yy = xx.numpy(), yy.numpy()\n",
    "\n",
    "acq_func = X.generator.get_acquisition(model)\n",
    "with torch.no_grad():\n",
    "    acq_pts = pts.unsqueeze(1)\n",
    "    acq = acq_func(acq_pts)\n",
    "\n",
    "    fig, ax = plt.subplots(figsize=(8,8))\n",
    "    c = ax.pcolor(xx, yy, acq.reshape(n, n), cmap=\"Blues\")\n",
    "    fig.colorbar(c)\n",
    "    ax.set_title(\"Acquisition function\")\n",
    "\n",
    "    ax.plot(*history[[\"x1\", \"x2\"]][history[\"feasible\"]].to_numpy().T, \".C1\")\n",
    "    ax.plot(*history[[\"x1\", \"x2\"]][~history[\"feasible\"]].to_numpy().T, \".C2\")\n",
    "\n",
    "    ax.plot(*history[[\"x1\", \"x2\"]].to_numpy()[-1].T, \"+\")\n",
    "\n",
    "    feas = feasibility(pts.unsqueeze(1), model, X.vocs).flatten()\n",
    "\n",
    "    fig2, ax2 = plt.subplots(figsize=(8,8))\n",
    "    c = ax2.pcolor(xx, yy, feas.reshape(n, n))\n",
    "    fig2.colorbar(c)\n",
    "    ax2.set_title(\"Feasible Region\")\n",
    "\n",
    "candidate = pd.DataFrame(X.generator.generate(1), index=[0])\n",
    "print(candidate[[\"x1\", \"x2\"]].to_numpy())\n",
    "ax.plot(*candidate[[\"x1\", \"x2\"]].to_numpy()[0], \"o\")"
   ]
  }
 ],
 "metadata": {
  "interpreter": {
   "hash": "72034539424920dfb606fe3b820b3f27dca0cbf1c69938110810ec4641e275b1"
  },
  "kernelspec": {
   "display_name": "Python 3 (ipykernel)",
   "language": "python",
   "name": "python3"
  },
  "language_info": {
   "codemirror_mode": {
    "name": "ipython",
    "version": 3
   },
   "file_extension": ".py",
   "mimetype": "text/x-python",
   "name": "python",
   "nbconvert_exporter": "python",
   "pygments_lexer": "ipython3",
   "version": "3.9.18"
  }
 },
 "nbformat": 4,
 "nbformat_minor": 4
}
