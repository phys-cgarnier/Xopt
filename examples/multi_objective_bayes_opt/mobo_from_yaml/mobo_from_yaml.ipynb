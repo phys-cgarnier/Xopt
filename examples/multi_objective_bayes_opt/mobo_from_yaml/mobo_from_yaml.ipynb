{
 "cells": [
  {
   "cell_type": "markdown",
   "metadata": {},
   "source": [
    "\n",
    "# Multi-objective Bayesian Optimization\n",
    "\n",
    "\n",
    "TNK function\n",
    "$n=2$ variables:\n",
    "$x_i \\in [0, \\pi], i=1,2$\n",
    "\n",
    "Objectives:\n",
    "- $f_i(x) = x_i$\n",
    "\n",
    "Constraints:\n",
    "- $g_1(x) = -x_1^2 -x_2^2 + 1 + 0.1 \\cos\\left(16 \\arctan \\frac{x_1}{x_2}\\right) \\le 0$\n",
    "- $g_2(x) = (x_1 - 1/2)^2 + (x_2-1/2)^2 \\le 0.5$"
   ]
  },
  {
   "cell_type": "code",
   "execution_count": 1,
   "metadata": {
    "collapsed": false,
    "execution": {
     "iopub.execute_input": "2024-01-29T20:57:01.299480Z",
     "iopub.status.busy": "2024-01-29T20:57:01.299309Z",
     "iopub.status.idle": "2024-01-29T20:57:02.744922Z",
     "shell.execute_reply": "2024-01-29T20:57:02.744356Z"
    }
   },
   "outputs": [],
   "source": [
    "import os\n",
    "SMOKE_TEST = os.environ.get(\"SMOKE_TEST\")\n",
    "NUM_STEPS = 2 if SMOKE_TEST else 50\n",
    "\n",
    "# Ignore all warnings\n",
    "import warnings\n",
    "warnings.filterwarnings(\"ignore\")\n",
    "\n",
    "import torch\n",
    "from xopt import Xopt\n",
    "\n",
    "\n",
    "YAML = \"\"\"\n",
    "generator:\n",
    "    name: mobo\n",
    "    reference_point: {y1: 1.5, y2: 1.5}\n",
    "\n",
    "evaluator:\n",
    "    function: xopt.resources.test_functions.tnk.evaluate_TNK\n",
    "\n",
    "vocs:\n",
    "    variables:\n",
    "        x1: [0, 3.14159]\n",
    "        x2: [0, 3.14159]\n",
    "    objectives: {y1: MINIMIZE, y2: MINIMIZE}\n",
    "    constraints:\n",
    "        c1: [GREATER_THAN, 0]\n",
    "        c2: [LESS_THAN, 0.5]\n",
    "    constants: {a: dummy_constant}\n",
    "\n",
    "\"\"\""
   ]
  },
  {
   "cell_type": "code",
   "execution_count": 2,
   "metadata": {
    "collapsed": false,
    "execution": {
     "iopub.execute_input": "2024-01-29T20:57:02.747494Z",
     "iopub.status.busy": "2024-01-29T20:57:02.747276Z",
     "iopub.status.idle": "2024-01-29T20:57:44.158926Z",
     "shell.execute_reply": "2024-01-29T20:57:44.158215Z"
    }
   },
   "outputs": [
    {
     "name": "stdout",
     "output_type": "stream",
     "text": [
      "0\n"
     ]
    },
    {
     "name": "stdout",
     "output_type": "stream",
     "text": [
      "1\n"
     ]
    },
    {
     "name": "stdout",
     "output_type": "stream",
     "text": [
      "2\n"
     ]
    },
    {
     "name": "stdout",
     "output_type": "stream",
     "text": [
      "3\n"
     ]
    },
    {
     "name": "stdout",
     "output_type": "stream",
     "text": [
      "4\n"
     ]
    },
    {
     "name": "stdout",
     "output_type": "stream",
     "text": [
      "5\n"
     ]
    },
    {
     "name": "stdout",
     "output_type": "stream",
     "text": [
      "6\n"
     ]
    },
    {
     "name": "stdout",
     "output_type": "stream",
     "text": [
      "7\n"
     ]
    },
    {
     "name": "stdout",
     "output_type": "stream",
     "text": [
      "8\n"
     ]
    },
    {
     "name": "stdout",
     "output_type": "stream",
     "text": [
      "9\n"
     ]
    },
    {
     "name": "stdout",
     "output_type": "stream",
     "text": [
      "10\n"
     ]
    },
    {
     "name": "stdout",
     "output_type": "stream",
     "text": [
      "11\n"
     ]
    },
    {
     "name": "stdout",
     "output_type": "stream",
     "text": [
      "12\n"
     ]
    },
    {
     "name": "stdout",
     "output_type": "stream",
     "text": [
      "13\n"
     ]
    },
    {
     "name": "stdout",
     "output_type": "stream",
     "text": [
      "14\n"
     ]
    },
    {
     "name": "stdout",
     "output_type": "stream",
     "text": [
      "15\n"
     ]
    },
    {
     "name": "stdout",
     "output_type": "stream",
     "text": [
      "16\n"
     ]
    },
    {
     "name": "stdout",
     "output_type": "stream",
     "text": [
      "17\n"
     ]
    },
    {
     "name": "stdout",
     "output_type": "stream",
     "text": [
      "18\n"
     ]
    },
    {
     "name": "stdout",
     "output_type": "stream",
     "text": [
      "19\n"
     ]
    },
    {
     "name": "stdout",
     "output_type": "stream",
     "text": [
      "20\n"
     ]
    },
    {
     "name": "stdout",
     "output_type": "stream",
     "text": [
      "21\n"
     ]
    },
    {
     "name": "stdout",
     "output_type": "stream",
     "text": [
      "22\n"
     ]
    },
    {
     "name": "stdout",
     "output_type": "stream",
     "text": [
      "23\n"
     ]
    },
    {
     "name": "stdout",
     "output_type": "stream",
     "text": [
      "24\n"
     ]
    },
    {
     "name": "stdout",
     "output_type": "stream",
     "text": [
      "25\n"
     ]
    },
    {
     "name": "stdout",
     "output_type": "stream",
     "text": [
      "26\n"
     ]
    },
    {
     "name": "stdout",
     "output_type": "stream",
     "text": [
      "27\n"
     ]
    },
    {
     "name": "stdout",
     "output_type": "stream",
     "text": [
      "28\n"
     ]
    },
    {
     "name": "stdout",
     "output_type": "stream",
     "text": [
      "29\n"
     ]
    },
    {
     "name": "stdout",
     "output_type": "stream",
     "text": [
      "30\n"
     ]
    },
    {
     "name": "stdout",
     "output_type": "stream",
     "text": [
      "31\n"
     ]
    },
    {
     "name": "stdout",
     "output_type": "stream",
     "text": [
      "32\n"
     ]
    },
    {
     "name": "stdout",
     "output_type": "stream",
     "text": [
      "33\n"
     ]
    },
    {
     "name": "stdout",
     "output_type": "stream",
     "text": [
      "34\n"
     ]
    },
    {
     "name": "stdout",
     "output_type": "stream",
     "text": [
      "35\n"
     ]
    },
    {
     "name": "stdout",
     "output_type": "stream",
     "text": [
      "36\n"
     ]
    },
    {
     "name": "stdout",
     "output_type": "stream",
     "text": [
      "37\n"
     ]
    },
    {
     "name": "stdout",
     "output_type": "stream",
     "text": [
      "38\n"
     ]
    },
    {
     "name": "stdout",
     "output_type": "stream",
     "text": [
      "39\n"
     ]
    },
    {
     "name": "stdout",
     "output_type": "stream",
     "text": [
      "40\n"
     ]
    },
    {
     "name": "stdout",
     "output_type": "stream",
     "text": [
      "41\n"
     ]
    },
    {
     "name": "stdout",
     "output_type": "stream",
     "text": [
      "42\n"
     ]
    },
    {
     "name": "stdout",
     "output_type": "stream",
     "text": [
      "43\n"
     ]
    },
    {
     "name": "stdout",
     "output_type": "stream",
     "text": [
      "44\n"
     ]
    },
    {
     "name": "stdout",
     "output_type": "stream",
     "text": [
      "45\n"
     ]
    },
    {
     "name": "stdout",
     "output_type": "stream",
     "text": [
      "46\n"
     ]
    },
    {
     "name": "stdout",
     "output_type": "stream",
     "text": [
      "47\n"
     ]
    },
    {
     "name": "stdout",
     "output_type": "stream",
     "text": [
      "48\n"
     ]
    },
    {
     "name": "stdout",
     "output_type": "stream",
     "text": [
      "49\n"
     ]
    }
   ],
   "source": [
    "X = Xopt.from_yaml(YAML)\n",
    "\n",
    "# for testing purposes only\n",
    "if SMOKE_TEST:\n",
    "    X.generator.numerical_optimizer.n_restarts = 1\n",
    "    X.generator.n_monte_carlo_samples = 1\n",
    "\n",
    "X.random_evaluate(5)\n",
    "for i in range(NUM_STEPS):\n",
    "    print(i)\n",
    "    X.step()"
   ]
  },
  {
   "cell_type": "code",
   "execution_count": 3,
   "metadata": {
    "collapsed": false,
    "execution": {
     "iopub.execute_input": "2024-01-29T20:57:44.161699Z",
     "iopub.status.busy": "2024-01-29T20:57:44.161439Z",
     "iopub.status.idle": "2024-01-29T20:57:44.179757Z",
     "shell.execute_reply": "2024-01-29T20:57:44.179176Z"
    }
   },
   "outputs": [
    {
     "data": {
      "text/html": [
       "<div>\n",
       "<style scoped>\n",
       "    .dataframe tbody tr th:only-of-type {\n",
       "        vertical-align: middle;\n",
       "    }\n",
       "\n",
       "    .dataframe tbody tr th {\n",
       "        vertical-align: top;\n",
       "    }\n",
       "\n",
       "    .dataframe thead th {\n",
       "        text-align: right;\n",
       "    }\n",
       "</style>\n",
       "<table border=\"1\" class=\"dataframe\">\n",
       "  <thead>\n",
       "    <tr style=\"text-align: right;\">\n",
       "      <th></th>\n",
       "      <th>x1</th>\n",
       "      <th>x2</th>\n",
       "      <th>a</th>\n",
       "      <th>y1</th>\n",
       "      <th>y2</th>\n",
       "      <th>c1</th>\n",
       "      <th>c2</th>\n",
       "      <th>xopt_runtime</th>\n",
       "      <th>xopt_error</th>\n",
       "    </tr>\n",
       "  </thead>\n",
       "  <tbody>\n",
       "    <tr>\n",
       "      <th>0</th>\n",
       "      <td>2.315092</td>\n",
       "      <td>0.490663</td>\n",
       "      <td>dummy_constant</td>\n",
       "      <td>2.315092</td>\n",
       "      <td>0.490663</td>\n",
       "      <td>4.698409</td>\n",
       "      <td>3.294647</td>\n",
       "      <td>0.000036</td>\n",
       "      <td>False</td>\n",
       "    </tr>\n",
       "    <tr>\n",
       "      <th>1</th>\n",
       "      <td>2.028991</td>\n",
       "      <td>0.744066</td>\n",
       "      <td>dummy_constant</td>\n",
       "      <td>2.028991</td>\n",
       "      <td>0.744066</td>\n",
       "      <td>3.591401</td>\n",
       "      <td>2.397382</td>\n",
       "      <td>0.000009</td>\n",
       "      <td>False</td>\n",
       "    </tr>\n",
       "    <tr>\n",
       "      <th>2</th>\n",
       "      <td>3.109645</td>\n",
       "      <td>1.535291</td>\n",
       "      <td>dummy_constant</td>\n",
       "      <td>3.109645</td>\n",
       "      <td>1.535291</td>\n",
       "      <td>10.977649</td>\n",
       "      <td>7.882073</td>\n",
       "      <td>0.000007</td>\n",
       "      <td>False</td>\n",
       "    </tr>\n",
       "    <tr>\n",
       "      <th>3</th>\n",
       "      <td>1.748395</td>\n",
       "      <td>2.715525</td>\n",
       "      <td>dummy_constant</td>\n",
       "      <td>1.748395</td>\n",
       "      <td>2.715525</td>\n",
       "      <td>9.527280</td>\n",
       "      <td>6.467040</td>\n",
       "      <td>0.000006</td>\n",
       "      <td>False</td>\n",
       "    </tr>\n",
       "    <tr>\n",
       "      <th>4</th>\n",
       "      <td>0.528972</td>\n",
       "      <td>1.593755</td>\n",
       "      <td>dummy_constant</td>\n",
       "      <td>0.528972</td>\n",
       "      <td>1.593755</td>\n",
       "      <td>1.779547</td>\n",
       "      <td>1.197140</td>\n",
       "      <td>0.000006</td>\n",
       "      <td>False</td>\n",
       "    </tr>\n",
       "    <tr>\n",
       "      <th>5</th>\n",
       "      <td>0.577850</td>\n",
       "      <td>0.460752</td>\n",
       "      <td>dummy_constant</td>\n",
       "      <td>0.577850</td>\n",
       "      <td>0.460752</td>\n",
       "      <td>-0.431432</td>\n",
       "      <td>0.007601</td>\n",
       "      <td>0.000022</td>\n",
       "      <td>False</td>\n",
       "    </tr>\n",
       "    <tr>\n",
       "      <th>6</th>\n",
       "      <td>0.431279</td>\n",
       "      <td>0.290205</td>\n",
       "      <td>dummy_constant</td>\n",
       "      <td>0.431279</td>\n",
       "      <td>0.290205</td>\n",
       "      <td>-0.629915</td>\n",
       "      <td>0.048736</td>\n",
       "      <td>0.000022</td>\n",
       "      <td>False</td>\n",
       "    </tr>\n",
       "    <tr>\n",
       "      <th>7</th>\n",
       "      <td>0.000000</td>\n",
       "      <td>0.544368</td>\n",
       "      <td>dummy_constant</td>\n",
       "      <td>0.000000</td>\n",
       "      <td>0.544368</td>\n",
       "      <td>-0.803663</td>\n",
       "      <td>0.251969</td>\n",
       "      <td>0.000024</td>\n",
       "      <td>False</td>\n",
       "    </tr>\n",
       "    <tr>\n",
       "      <th>8</th>\n",
       "      <td>0.832887</td>\n",
       "      <td>0.738064</td>\n",
       "      <td>dummy_constant</td>\n",
       "      <td>0.832887</td>\n",
       "      <td>0.738064</td>\n",
       "      <td>0.181464</td>\n",
       "      <td>0.167488</td>\n",
       "      <td>0.000023</td>\n",
       "      <td>False</td>\n",
       "    </tr>\n",
       "    <tr>\n",
       "      <th>9</th>\n",
       "      <td>0.718928</td>\n",
       "      <td>0.000000</td>\n",
       "      <td>dummy_constant</td>\n",
       "      <td>0.718928</td>\n",
       "      <td>0.000000</td>\n",
       "      <td>-0.583143</td>\n",
       "      <td>0.297929</td>\n",
       "      <td>0.000022</td>\n",
       "      <td>False</td>\n",
       "    </tr>\n",
       "    <tr>\n",
       "      <th>10</th>\n",
       "      <td>0.498840</td>\n",
       "      <td>0.942184</td>\n",
       "      <td>dummy_constant</td>\n",
       "      <td>0.498840</td>\n",
       "      <td>0.942184</td>\n",
       "      <td>0.130245</td>\n",
       "      <td>0.195528</td>\n",
       "      <td>0.000021</td>\n",
       "      <td>False</td>\n",
       "    </tr>\n",
       "    <tr>\n",
       "      <th>11</th>\n",
       "      <td>1.031167</td>\n",
       "      <td>0.480365</td>\n",
       "      <td>dummy_constant</td>\n",
       "      <td>1.031167</td>\n",
       "      <td>0.480365</td>\n",
       "      <td>0.217063</td>\n",
       "      <td>0.282524</td>\n",
       "      <td>0.000024</td>\n",
       "      <td>False</td>\n",
       "    </tr>\n",
       "    <tr>\n",
       "      <th>12</th>\n",
       "      <td>0.278428</td>\n",
       "      <td>1.063872</td>\n",
       "      <td>dummy_constant</td>\n",
       "      <td>0.278428</td>\n",
       "      <td>1.063872</td>\n",
       "      <td>0.267192</td>\n",
       "      <td>0.367045</td>\n",
       "      <td>0.000023</td>\n",
       "      <td>False</td>\n",
       "    </tr>\n",
       "    <tr>\n",
       "      <th>13</th>\n",
       "      <td>1.065034</td>\n",
       "      <td>0.247224</td>\n",
       "      <td>dummy_constant</td>\n",
       "      <td>1.065034</td>\n",
       "      <td>0.247224</td>\n",
       "      <td>0.282798</td>\n",
       "      <td>0.383159</td>\n",
       "      <td>0.000024</td>\n",
       "      <td>False</td>\n",
       "    </tr>\n",
       "    <tr>\n",
       "      <th>14</th>\n",
       "      <td>1.016232</td>\n",
       "      <td>0.067140</td>\n",
       "      <td>dummy_constant</td>\n",
       "      <td>1.016232</td>\n",
       "      <td>0.067140</td>\n",
       "      <td>-0.012039</td>\n",
       "      <td>0.453864</td>\n",
       "      <td>0.000024</td>\n",
       "      <td>False</td>\n",
       "    </tr>\n",
       "    <tr>\n",
       "      <th>15</th>\n",
       "      <td>1.041034</td>\n",
       "      <td>0.095732</td>\n",
       "      <td>dummy_constant</td>\n",
       "      <td>1.041034</td>\n",
       "      <td>0.095732</td>\n",
       "      <td>0.082575</td>\n",
       "      <td>0.456150</td>\n",
       "      <td>0.000024</td>\n",
       "      <td>False</td>\n",
       "    </tr>\n",
       "    <tr>\n",
       "      <th>16</th>\n",
       "      <td>0.114968</td>\n",
       "      <td>1.024453</td>\n",
       "      <td>dummy_constant</td>\n",
       "      <td>0.114968</td>\n",
       "      <td>1.024453</td>\n",
       "      <td>0.084282</td>\n",
       "      <td>0.423301</td>\n",
       "      <td>0.000024</td>\n",
       "      <td>False</td>\n",
       "    </tr>\n",
       "    <tr>\n",
       "      <th>17</th>\n",
       "      <td>0.268461</td>\n",
       "      <td>0.221648</td>\n",
       "      <td>dummy_constant</td>\n",
       "      <td>0.268461</td>\n",
       "      <td>0.221648</td>\n",
       "      <td>-0.883516</td>\n",
       "      <td>0.131091</td>\n",
       "      <td>0.000026</td>\n",
       "      <td>False</td>\n",
       "    </tr>\n",
       "    <tr>\n",
       "      <th>18</th>\n",
       "      <td>0.913539</td>\n",
       "      <td>0.472223</td>\n",
       "      <td>dummy_constant</td>\n",
       "      <td>0.913539</td>\n",
       "      <td>0.472223</td>\n",
       "      <td>0.035669</td>\n",
       "      <td>0.171786</td>\n",
       "      <td>0.000026</td>\n",
       "      <td>False</td>\n",
       "    </tr>\n",
       "    <tr>\n",
       "      <th>19</th>\n",
       "      <td>1.461865</td>\n",
       "      <td>0.005408</td>\n",
       "      <td>dummy_constant</td>\n",
       "      <td>1.461865</td>\n",
       "      <td>0.005408</td>\n",
       "      <td>1.037253</td>\n",
       "      <td>1.169805</td>\n",
       "      <td>0.000023</td>\n",
       "      <td>False</td>\n",
       "    </tr>\n",
       "    <tr>\n",
       "      <th>20</th>\n",
       "      <td>0.168823</td>\n",
       "      <td>0.880372</td>\n",
       "      <td>dummy_constant</td>\n",
       "      <td>0.168823</td>\n",
       "      <td>0.880372</td>\n",
       "      <td>-0.097051</td>\n",
       "      <td>0.254361</td>\n",
       "      <td>0.000024</td>\n",
       "      <td>False</td>\n",
       "    </tr>\n",
       "    <tr>\n",
       "      <th>21</th>\n",
       "      <td>0.669163</td>\n",
       "      <td>0.513002</td>\n",
       "      <td>dummy_constant</td>\n",
       "      <td>0.669163</td>\n",
       "      <td>0.513002</td>\n",
       "      <td>-0.238445</td>\n",
       "      <td>0.028785</td>\n",
       "      <td>0.000025</td>\n",
       "      <td>False</td>\n",
       "    </tr>\n",
       "    <tr>\n",
       "      <th>22</th>\n",
       "      <td>0.628412</td>\n",
       "      <td>0.808677</td>\n",
       "      <td>dummy_constant</td>\n",
       "      <td>0.628412</td>\n",
       "      <td>0.808677</td>\n",
       "      <td>0.090163</td>\n",
       "      <td>0.111771</td>\n",
       "      <td>0.000024</td>\n",
       "      <td>False</td>\n",
       "    </tr>\n",
       "    <tr>\n",
       "      <th>23</th>\n",
       "      <td>0.870402</td>\n",
       "      <td>0.276583</td>\n",
       "      <td>dummy_constant</td>\n",
       "      <td>0.870402</td>\n",
       "      <td>0.276583</td>\n",
       "      <td>-0.186787</td>\n",
       "      <td>0.187113</td>\n",
       "      <td>0.000025</td>\n",
       "      <td>False</td>\n",
       "    </tr>\n",
       "    <tr>\n",
       "      <th>24</th>\n",
       "      <td>0.046496</td>\n",
       "      <td>1.010749</td>\n",
       "      <td>dummy_constant</td>\n",
       "      <td>0.046496</td>\n",
       "      <td>1.010749</td>\n",
       "      <td>-0.050372</td>\n",
       "      <td>0.466531</td>\n",
       "      <td>0.000025</td>\n",
       "      <td>False</td>\n",
       "    </tr>\n",
       "    <tr>\n",
       "      <th>25</th>\n",
       "      <td>0.531593</td>\n",
       "      <td>0.704007</td>\n",
       "      <td>dummy_constant</td>\n",
       "      <td>0.531593</td>\n",
       "      <td>0.704007</td>\n",
       "      <td>-0.161463</td>\n",
       "      <td>0.042617</td>\n",
       "      <td>0.000024</td>\n",
       "      <td>False</td>\n",
       "    </tr>\n",
       "    <tr>\n",
       "      <th>26</th>\n",
       "      <td>2.012041</td>\n",
       "      <td>2.264660</td>\n",
       "      <td>dummy_constant</td>\n",
       "      <td>2.012041</td>\n",
       "      <td>2.264660</td>\n",
       "      <td>8.118339</td>\n",
       "      <td>5.400293</td>\n",
       "      <td>0.000025</td>\n",
       "      <td>False</td>\n",
       "    </tr>\n",
       "    <tr>\n",
       "      <th>27</th>\n",
       "      <td>0.060583</td>\n",
       "      <td>1.034376</td>\n",
       "      <td>dummy_constant</td>\n",
       "      <td>0.060583</td>\n",
       "      <td>1.034376</td>\n",
       "      <td>0.014307</td>\n",
       "      <td>0.478645</td>\n",
       "      <td>0.000025</td>\n",
       "      <td>False</td>\n",
       "    </tr>\n",
       "    <tr>\n",
       "      <th>28</th>\n",
       "      <td>0.337242</td>\n",
       "      <td>0.911862</td>\n",
       "      <td>dummy_constant</td>\n",
       "      <td>0.337242</td>\n",
       "      <td>0.911862</td>\n",
       "      <td>-0.136431</td>\n",
       "      <td>0.196121</td>\n",
       "      <td>0.000026</td>\n",
       "      <td>False</td>\n",
       "    </tr>\n",
       "    <tr>\n",
       "      <th>29</th>\n",
       "      <td>0.241789</td>\n",
       "      <td>0.971175</td>\n",
       "      <td>dummy_constant</td>\n",
       "      <td>0.241789</td>\n",
       "      <td>0.971175</td>\n",
       "      <td>0.073955</td>\n",
       "      <td>0.288679</td>\n",
       "      <td>0.000027</td>\n",
       "      <td>False</td>\n",
       "    </tr>\n",
       "    <tr>\n",
       "      <th>30</th>\n",
       "      <td>0.002362</td>\n",
       "      <td>1.359065</td>\n",
       "      <td>dummy_constant</td>\n",
       "      <td>0.002362</td>\n",
       "      <td>1.359065</td>\n",
       "      <td>0.747102</td>\n",
       "      <td>0.985637</td>\n",
       "      <td>0.000025</td>\n",
       "      <td>False</td>\n",
       "    </tr>\n",
       "    <tr>\n",
       "      <th>31</th>\n",
       "      <td>0.687206</td>\n",
       "      <td>0.362888</td>\n",
       "      <td>dummy_constant</td>\n",
       "      <td>0.687206</td>\n",
       "      <td>0.362888</td>\n",
       "      <td>-0.404097</td>\n",
       "      <td>0.053846</td>\n",
       "      <td>0.000025</td>\n",
       "      <td>False</td>\n",
       "    </tr>\n",
       "    <tr>\n",
       "      <th>32</th>\n",
       "      <td>0.058607</td>\n",
       "      <td>2.822821</td>\n",
       "      <td>dummy_constant</td>\n",
       "      <td>0.058607</td>\n",
       "      <td>2.822821</td>\n",
       "      <td>6.877221</td>\n",
       "      <td>5.590327</td>\n",
       "      <td>0.000025</td>\n",
       "      <td>False</td>\n",
       "    </tr>\n",
       "    <tr>\n",
       "      <th>33</th>\n",
       "      <td>0.675910</td>\n",
       "      <td>0.617290</td>\n",
       "      <td>dummy_constant</td>\n",
       "      <td>0.675910</td>\n",
       "      <td>0.617290</td>\n",
       "      <td>-0.236965</td>\n",
       "      <td>0.044701</td>\n",
       "      <td>0.000026</td>\n",
       "      <td>False</td>\n",
       "    </tr>\n",
       "    <tr>\n",
       "      <th>34</th>\n",
       "      <td>0.563018</td>\n",
       "      <td>2.516680</td>\n",
       "      <td>dummy_constant</td>\n",
       "      <td>0.563018</td>\n",
       "      <td>2.516680</td>\n",
       "      <td>5.743540</td>\n",
       "      <td>4.070970</td>\n",
       "      <td>0.000025</td>\n",
       "      <td>False</td>\n",
       "    </tr>\n",
       "    <tr>\n",
       "      <th>35</th>\n",
       "      <td>0.648113</td>\n",
       "      <td>0.587681</td>\n",
       "      <td>dummy_constant</td>\n",
       "      <td>0.648113</td>\n",
       "      <td>0.587681</td>\n",
       "      <td>-0.305545</td>\n",
       "      <td>0.029625</td>\n",
       "      <td>0.000024</td>\n",
       "      <td>False</td>\n",
       "    </tr>\n",
       "    <tr>\n",
       "      <th>36</th>\n",
       "      <td>0.108017</td>\n",
       "      <td>0.468027</td>\n",
       "      <td>dummy_constant</td>\n",
       "      <td>0.108017</td>\n",
       "      <td>0.468027</td>\n",
       "      <td>-0.680935</td>\n",
       "      <td>0.154673</td>\n",
       "      <td>0.000025</td>\n",
       "      <td>False</td>\n",
       "    </tr>\n",
       "    <tr>\n",
       "      <th>37</th>\n",
       "      <td>0.795538</td>\n",
       "      <td>0.670631</td>\n",
       "      <td>dummy_constant</td>\n",
       "      <td>0.795538</td>\n",
       "      <td>0.670631</td>\n",
       "      <td>0.061684</td>\n",
       "      <td>0.116458</td>\n",
       "      <td>0.000025</td>\n",
       "      <td>False</td>\n",
       "    </tr>\n",
       "    <tr>\n",
       "      <th>38</th>\n",
       "      <td>0.159996</td>\n",
       "      <td>0.990419</td>\n",
       "      <td>dummy_constant</td>\n",
       "      <td>0.159996</td>\n",
       "      <td>0.990419</td>\n",
       "      <td>0.090227</td>\n",
       "      <td>0.356114</td>\n",
       "      <td>0.000025</td>\n",
       "      <td>False</td>\n",
       "    </tr>\n",
       "    <tr>\n",
       "      <th>39</th>\n",
       "      <td>0.864140</td>\n",
       "      <td>0.580760</td>\n",
       "      <td>dummy_constant</td>\n",
       "      <td>0.864140</td>\n",
       "      <td>0.580760</td>\n",
       "      <td>0.183927</td>\n",
       "      <td>0.139120</td>\n",
       "      <td>0.000025</td>\n",
       "      <td>False</td>\n",
       "    </tr>\n",
       "    <tr>\n",
       "      <th>40</th>\n",
       "      <td>0.963337</td>\n",
       "      <td>0.304007</td>\n",
       "      <td>dummy_constant</td>\n",
       "      <td>0.963337</td>\n",
       "      <td>0.304007</td>\n",
       "      <td>0.002675</td>\n",
       "      <td>0.253095</td>\n",
       "      <td>0.000025</td>\n",
       "      <td>False</td>\n",
       "    </tr>\n",
       "    <tr>\n",
       "      <th>41</th>\n",
       "      <td>0.251431</td>\n",
       "      <td>1.456858</td>\n",
       "      <td>dummy_constant</td>\n",
       "      <td>0.251431</td>\n",
       "      <td>1.456858</td>\n",
       "      <td>1.277476</td>\n",
       "      <td>0.977363</td>\n",
       "      <td>0.000033</td>\n",
       "      <td>False</td>\n",
       "    </tr>\n",
       "    <tr>\n",
       "      <th>42</th>\n",
       "      <td>0.279391</td>\n",
       "      <td>0.474122</td>\n",
       "      <td>dummy_constant</td>\n",
       "      <td>0.279391</td>\n",
       "      <td>0.474122</td>\n",
       "      <td>-0.635363</td>\n",
       "      <td>0.049338</td>\n",
       "      <td>0.000025</td>\n",
       "      <td>False</td>\n",
       "    </tr>\n",
       "    <tr>\n",
       "      <th>43</th>\n",
       "      <td>0.696616</td>\n",
       "      <td>0.180812</td>\n",
       "      <td>dummy_constant</td>\n",
       "      <td>0.696616</td>\n",
       "      <td>0.180812</td>\n",
       "      <td>-0.421583</td>\n",
       "      <td>0.140539</td>\n",
       "      <td>0.000026</td>\n",
       "      <td>False</td>\n",
       "    </tr>\n",
       "    <tr>\n",
       "      <th>44</th>\n",
       "      <td>0.821706</td>\n",
       "      <td>0.609034</td>\n",
       "      <td>dummy_constant</td>\n",
       "      <td>0.821706</td>\n",
       "      <td>0.609034</td>\n",
       "      <td>0.117174</td>\n",
       "      <td>0.115383</td>\n",
       "      <td>0.000025</td>\n",
       "      <td>False</td>\n",
       "    </tr>\n",
       "    <tr>\n",
       "      <th>45</th>\n",
       "      <td>0.861158</td>\n",
       "      <td>0.521479</td>\n",
       "      <td>dummy_constant</td>\n",
       "      <td>0.861158</td>\n",
       "      <td>0.521479</td>\n",
       "      <td>0.089181</td>\n",
       "      <td>0.130896</td>\n",
       "      <td>0.000027</td>\n",
       "      <td>False</td>\n",
       "    </tr>\n",
       "    <tr>\n",
       "      <th>46</th>\n",
       "      <td>0.015214</td>\n",
       "      <td>0.822140</td>\n",
       "      <td>dummy_constant</td>\n",
       "      <td>0.015214</td>\n",
       "      <td>0.822140</td>\n",
       "      <td>-0.419504</td>\n",
       "      <td>0.338792</td>\n",
       "      <td>0.000024</td>\n",
       "      <td>False</td>\n",
       "    </tr>\n",
       "    <tr>\n",
       "      <th>47</th>\n",
       "      <td>0.483194</td>\n",
       "      <td>0.881633</td>\n",
       "      <td>dummy_constant</td>\n",
       "      <td>0.483194</td>\n",
       "      <td>0.881633</td>\n",
       "      <td>0.027449</td>\n",
       "      <td>0.145926</td>\n",
       "      <td>0.000026</td>\n",
       "      <td>False</td>\n",
       "    </tr>\n",
       "    <tr>\n",
       "      <th>48</th>\n",
       "      <td>1.053975</td>\n",
       "      <td>0.073445</td>\n",
       "      <td>dummy_constant</td>\n",
       "      <td>1.053975</td>\n",
       "      <td>0.073445</td>\n",
       "      <td>0.072073</td>\n",
       "      <td>0.488837</td>\n",
       "      <td>0.000026</td>\n",
       "      <td>False</td>\n",
       "    </tr>\n",
       "    <tr>\n",
       "      <th>49</th>\n",
       "      <td>0.996448</td>\n",
       "      <td>0.198759</td>\n",
       "      <td>dummy_constant</td>\n",
       "      <td>0.996448</td>\n",
       "      <td>0.198759</td>\n",
       "      <td>0.132410</td>\n",
       "      <td>0.337207</td>\n",
       "      <td>0.000026</td>\n",
       "      <td>False</td>\n",
       "    </tr>\n",
       "    <tr>\n",
       "      <th>50</th>\n",
       "      <td>0.036309</td>\n",
       "      <td>1.028433</td>\n",
       "      <td>dummy_constant</td>\n",
       "      <td>0.036309</td>\n",
       "      <td>1.028433</td>\n",
       "      <td>-0.025484</td>\n",
       "      <td>0.494251</td>\n",
       "      <td>0.000027</td>\n",
       "      <td>False</td>\n",
       "    </tr>\n",
       "    <tr>\n",
       "      <th>51</th>\n",
       "      <td>0.722749</td>\n",
       "      <td>0.721081</td>\n",
       "      <td>dummy_constant</td>\n",
       "      <td>0.722749</td>\n",
       "      <td>0.721081</td>\n",
       "      <td>-0.057658</td>\n",
       "      <td>0.098494</td>\n",
       "      <td>0.000025</td>\n",
       "      <td>False</td>\n",
       "    </tr>\n",
       "    <tr>\n",
       "      <th>52</th>\n",
       "      <td>0.761064</td>\n",
       "      <td>0.688007</td>\n",
       "      <td>dummy_constant</td>\n",
       "      <td>0.761064</td>\n",
       "      <td>0.688007</td>\n",
       "      <td>-0.016667</td>\n",
       "      <td>0.103501</td>\n",
       "      <td>0.000027</td>\n",
       "      <td>False</td>\n",
       "    </tr>\n",
       "    <tr>\n",
       "      <th>53</th>\n",
       "      <td>0.862385</td>\n",
       "      <td>0.097500</td>\n",
       "      <td>dummy_constant</td>\n",
       "      <td>0.862385</td>\n",
       "      <td>0.097500</td>\n",
       "      <td>-0.223941</td>\n",
       "      <td>0.293329</td>\n",
       "      <td>0.000025</td>\n",
       "      <td>False</td>\n",
       "    </tr>\n",
       "    <tr>\n",
       "      <th>54</th>\n",
       "      <td>0.925985</td>\n",
       "      <td>0.250890</td>\n",
       "      <td>dummy_constant</td>\n",
       "      <td>0.925985</td>\n",
       "      <td>0.250890</td>\n",
       "      <td>-0.033523</td>\n",
       "      <td>0.243519</td>\n",
       "      <td>0.000026</td>\n",
       "      <td>False</td>\n",
       "    </tr>\n",
       "  </tbody>\n",
       "</table>\n",
       "</div>"
      ],
      "text/plain": [
       "          x1        x2               a        y1        y2         c1  \\\n",
       "0   2.315092  0.490663  dummy_constant  2.315092  0.490663   4.698409   \n",
       "1   2.028991  0.744066  dummy_constant  2.028991  0.744066   3.591401   \n",
       "2   3.109645  1.535291  dummy_constant  3.109645  1.535291  10.977649   \n",
       "3   1.748395  2.715525  dummy_constant  1.748395  2.715525   9.527280   \n",
       "4   0.528972  1.593755  dummy_constant  0.528972  1.593755   1.779547   \n",
       "5   0.577850  0.460752  dummy_constant  0.577850  0.460752  -0.431432   \n",
       "6   0.431279  0.290205  dummy_constant  0.431279  0.290205  -0.629915   \n",
       "7   0.000000  0.544368  dummy_constant  0.000000  0.544368  -0.803663   \n",
       "8   0.832887  0.738064  dummy_constant  0.832887  0.738064   0.181464   \n",
       "9   0.718928  0.000000  dummy_constant  0.718928  0.000000  -0.583143   \n",
       "10  0.498840  0.942184  dummy_constant  0.498840  0.942184   0.130245   \n",
       "11  1.031167  0.480365  dummy_constant  1.031167  0.480365   0.217063   \n",
       "12  0.278428  1.063872  dummy_constant  0.278428  1.063872   0.267192   \n",
       "13  1.065034  0.247224  dummy_constant  1.065034  0.247224   0.282798   \n",
       "14  1.016232  0.067140  dummy_constant  1.016232  0.067140  -0.012039   \n",
       "15  1.041034  0.095732  dummy_constant  1.041034  0.095732   0.082575   \n",
       "16  0.114968  1.024453  dummy_constant  0.114968  1.024453   0.084282   \n",
       "17  0.268461  0.221648  dummy_constant  0.268461  0.221648  -0.883516   \n",
       "18  0.913539  0.472223  dummy_constant  0.913539  0.472223   0.035669   \n",
       "19  1.461865  0.005408  dummy_constant  1.461865  0.005408   1.037253   \n",
       "20  0.168823  0.880372  dummy_constant  0.168823  0.880372  -0.097051   \n",
       "21  0.669163  0.513002  dummy_constant  0.669163  0.513002  -0.238445   \n",
       "22  0.628412  0.808677  dummy_constant  0.628412  0.808677   0.090163   \n",
       "23  0.870402  0.276583  dummy_constant  0.870402  0.276583  -0.186787   \n",
       "24  0.046496  1.010749  dummy_constant  0.046496  1.010749  -0.050372   \n",
       "25  0.531593  0.704007  dummy_constant  0.531593  0.704007  -0.161463   \n",
       "26  2.012041  2.264660  dummy_constant  2.012041  2.264660   8.118339   \n",
       "27  0.060583  1.034376  dummy_constant  0.060583  1.034376   0.014307   \n",
       "28  0.337242  0.911862  dummy_constant  0.337242  0.911862  -0.136431   \n",
       "29  0.241789  0.971175  dummy_constant  0.241789  0.971175   0.073955   \n",
       "30  0.002362  1.359065  dummy_constant  0.002362  1.359065   0.747102   \n",
       "31  0.687206  0.362888  dummy_constant  0.687206  0.362888  -0.404097   \n",
       "32  0.058607  2.822821  dummy_constant  0.058607  2.822821   6.877221   \n",
       "33  0.675910  0.617290  dummy_constant  0.675910  0.617290  -0.236965   \n",
       "34  0.563018  2.516680  dummy_constant  0.563018  2.516680   5.743540   \n",
       "35  0.648113  0.587681  dummy_constant  0.648113  0.587681  -0.305545   \n",
       "36  0.108017  0.468027  dummy_constant  0.108017  0.468027  -0.680935   \n",
       "37  0.795538  0.670631  dummy_constant  0.795538  0.670631   0.061684   \n",
       "38  0.159996  0.990419  dummy_constant  0.159996  0.990419   0.090227   \n",
       "39  0.864140  0.580760  dummy_constant  0.864140  0.580760   0.183927   \n",
       "40  0.963337  0.304007  dummy_constant  0.963337  0.304007   0.002675   \n",
       "41  0.251431  1.456858  dummy_constant  0.251431  1.456858   1.277476   \n",
       "42  0.279391  0.474122  dummy_constant  0.279391  0.474122  -0.635363   \n",
       "43  0.696616  0.180812  dummy_constant  0.696616  0.180812  -0.421583   \n",
       "44  0.821706  0.609034  dummy_constant  0.821706  0.609034   0.117174   \n",
       "45  0.861158  0.521479  dummy_constant  0.861158  0.521479   0.089181   \n",
       "46  0.015214  0.822140  dummy_constant  0.015214  0.822140  -0.419504   \n",
       "47  0.483194  0.881633  dummy_constant  0.483194  0.881633   0.027449   \n",
       "48  1.053975  0.073445  dummy_constant  1.053975  0.073445   0.072073   \n",
       "49  0.996448  0.198759  dummy_constant  0.996448  0.198759   0.132410   \n",
       "50  0.036309  1.028433  dummy_constant  0.036309  1.028433  -0.025484   \n",
       "51  0.722749  0.721081  dummy_constant  0.722749  0.721081  -0.057658   \n",
       "52  0.761064  0.688007  dummy_constant  0.761064  0.688007  -0.016667   \n",
       "53  0.862385  0.097500  dummy_constant  0.862385  0.097500  -0.223941   \n",
       "54  0.925985  0.250890  dummy_constant  0.925985  0.250890  -0.033523   \n",
       "\n",
       "          c2  xopt_runtime  xopt_error  \n",
       "0   3.294647      0.000036       False  \n",
       "1   2.397382      0.000009       False  \n",
       "2   7.882073      0.000007       False  \n",
       "3   6.467040      0.000006       False  \n",
       "4   1.197140      0.000006       False  \n",
       "5   0.007601      0.000022       False  \n",
       "6   0.048736      0.000022       False  \n",
       "7   0.251969      0.000024       False  \n",
       "8   0.167488      0.000023       False  \n",
       "9   0.297929      0.000022       False  \n",
       "10  0.195528      0.000021       False  \n",
       "11  0.282524      0.000024       False  \n",
       "12  0.367045      0.000023       False  \n",
       "13  0.383159      0.000024       False  \n",
       "14  0.453864      0.000024       False  \n",
       "15  0.456150      0.000024       False  \n",
       "16  0.423301      0.000024       False  \n",
       "17  0.131091      0.000026       False  \n",
       "18  0.171786      0.000026       False  \n",
       "19  1.169805      0.000023       False  \n",
       "20  0.254361      0.000024       False  \n",
       "21  0.028785      0.000025       False  \n",
       "22  0.111771      0.000024       False  \n",
       "23  0.187113      0.000025       False  \n",
       "24  0.466531      0.000025       False  \n",
       "25  0.042617      0.000024       False  \n",
       "26  5.400293      0.000025       False  \n",
       "27  0.478645      0.000025       False  \n",
       "28  0.196121      0.000026       False  \n",
       "29  0.288679      0.000027       False  \n",
       "30  0.985637      0.000025       False  \n",
       "31  0.053846      0.000025       False  \n",
       "32  5.590327      0.000025       False  \n",
       "33  0.044701      0.000026       False  \n",
       "34  4.070970      0.000025       False  \n",
       "35  0.029625      0.000024       False  \n",
       "36  0.154673      0.000025       False  \n",
       "37  0.116458      0.000025       False  \n",
       "38  0.356114      0.000025       False  \n",
       "39  0.139120      0.000025       False  \n",
       "40  0.253095      0.000025       False  \n",
       "41  0.977363      0.000033       False  \n",
       "42  0.049338      0.000025       False  \n",
       "43  0.140539      0.000026       False  \n",
       "44  0.115383      0.000025       False  \n",
       "45  0.130896      0.000027       False  \n",
       "46  0.338792      0.000024       False  \n",
       "47  0.145926      0.000026       False  \n",
       "48  0.488837      0.000026       False  \n",
       "49  0.337207      0.000026       False  \n",
       "50  0.494251      0.000027       False  \n",
       "51  0.098494      0.000025       False  \n",
       "52  0.103501      0.000027       False  \n",
       "53  0.293329      0.000025       False  \n",
       "54  0.243519      0.000026       False  "
      ]
     },
     "execution_count": 3,
     "metadata": {},
     "output_type": "execute_result"
    }
   ],
   "source": [
    "X.generator.data"
   ]
  },
  {
   "cell_type": "markdown",
   "metadata": {
    "collapsed": false
   },
   "source": [
    "## plot results\n"
   ]
  },
  {
   "cell_type": "code",
   "execution_count": 4,
   "metadata": {
    "collapsed": false,
    "execution": {
     "iopub.execute_input": "2024-01-29T20:57:44.181896Z",
     "iopub.status.busy": "2024-01-29T20:57:44.181713Z",
     "iopub.status.idle": "2024-01-29T20:57:44.648257Z",
     "shell.execute_reply": "2024-01-29T20:57:44.647640Z"
    }
   },
   "outputs": [
    {
     "data": {
      "image/png": "[encoded data removed]",
      "text/plain": [
       "<Figure size 640x480 with 1 Axes>"
      ]
     },
     "metadata": {},
     "output_type": "display_data"
    }
   ],
   "source": [
    "import matplotlib.pyplot as plt\n",
    "import numpy as np\n",
    "import pandas as pd\n",
    "\n",
    "fig, ax = plt.subplots()\n",
    "\n",
    "theta = np.linspace(0, np.pi / 2)\n",
    "r = np.sqrt(1 + 0.1 * np.cos(16 * theta))\n",
    "x_1 = r * np.sin(theta)\n",
    "x_2_lower = r * np.cos(theta)\n",
    "x_2_upper = (0.5 - (x_1 - 0.5) ** 2) ** 0.5 + 0.5\n",
    "\n",
    "z = np.zeros_like(x_1)\n",
    "\n",
    "# ax2.plot(x_1, x_2_lower,'r')\n",
    "ax.fill_between(x_1, z, x_2_lower, fc=\"white\")\n",
    "circle = plt.Circle(\n",
    "    (0.5, 0.5), 0.5 ** 0.5, color=\"r\", alpha=0.25, zorder=0, label=\"Valid Region\"\n",
    ")\n",
    "ax.add_patch(circle)\n",
    "history = pd.concat(\n",
    "    [X.data, X.vocs.feasibility_data(X.data)], axis=1, ignore_index=False\n",
    ")\n",
    "\n",
    "\n",
    "ax.plot(*history[[\"x1\", \"x2\"]][history[\"feasible\"]].to_numpy().T, \".C1\")\n",
    "ax.plot(*history[[\"x1\", \"x2\"]][~history[\"feasible\"]].to_numpy().T, \".C2\")\n",
    "\n",
    "ax.set_xlim(0, 3.14)\n",
    "ax.set_ylim(0, 3.14)\n",
    "ax.set_xlabel(\"x1\")\n",
    "ax.set_ylabel(\"x2\")\n",
    "ax.set_aspect(\"equal\")"
   ]
  },
  {
   "cell_type": "markdown",
   "metadata": {
    "collapsed": false
   },
   "source": [
    "### Plot path through input space"
   ]
  },
  {
   "cell_type": "code",
   "execution_count": 5,
   "metadata": {
    "collapsed": false,
    "execution": {
     "iopub.execute_input": "2024-01-29T20:57:44.650885Z",
     "iopub.status.busy": "2024-01-29T20:57:44.650443Z",
     "iopub.status.idle": "2024-01-29T20:57:44.769635Z",
     "shell.execute_reply": "2024-01-29T20:57:44.769140Z"
    }
   },
   "outputs": [
    {
     "data": {
      "image/png": "[encoded data removed]",
      "text/plain": [
       "<Figure size 640x480 with 1 Axes>"
      ]
     },
     "metadata": {},
     "output_type": "display_data"
    }
   ],
   "source": [
    "ax = history.plot(\"x1\", \"x2\")\n",
    "ax.set_ylim(0, 3.14)\n",
    "ax.set_xlim(0, 3.14)\n",
    "ax.set_aspect(\"equal\")"
   ]
  },
  {
   "cell_type": "code",
   "execution_count": 6,
   "metadata": {
    "collapsed": false,
    "execution": {
     "iopub.execute_input": "2024-01-29T20:57:44.771718Z",
     "iopub.status.busy": "2024-01-29T20:57:44.771531Z",
     "iopub.status.idle": "2024-01-29T20:57:50.452903Z",
     "shell.execute_reply": "2024-01-29T20:57:50.452365Z"
    }
   },
   "outputs": [
    {
     "name": "stdout",
     "output_type": "stream",
     "text": [
      "[[0.34739986 0.93212384]]\n"
     ]
    },
    {
     "data": {
      "text/plain": [
       "[<matplotlib.lines.Line2D at 0x7f6cc7ab0af0>]"
      ]
     },
     "execution_count": 6,
     "metadata": {},
     "output_type": "execute_result"
    },
    {
     "data": {
      "image/png": "[encoded data removed]",
      "text/plain": [
       "<Figure size 800x800 with 2 Axes>"
      ]
     },
     "metadata": {},
     "output_type": "display_data"
    },
    {
     "data": {
      "image/png": "[encoded data removed]",
      "text/plain": [
       "<Figure size 800x800 with 2 Axes>"
      ]
     },
     "metadata": {},
     "output_type": "display_data"
    }
   ],
   "source": [
    "# plot the acquisition function\n",
    "from xopt.generators.bayesian.objectives import feasibility\n",
    "\n",
    "bounds = X.generator.vocs.bounds\n",
    "model = X.generator.model\n",
    "\n",
    "# create mesh\n",
    "n = 100\n",
    "x = torch.linspace(*bounds.T[0], n)\n",
    "y = torch.linspace(*bounds.T[1], n)\n",
    "xx, yy = torch.meshgrid(x, y)\n",
    "pts = torch.hstack([ele.reshape(-1, 1) for ele in (xx, yy)]).double()\n",
    "\n",
    "xx, yy = xx.numpy(), yy.numpy()\n",
    "\n",
    "acq_func = X.generator.get_acquisition(model)\n",
    "with torch.no_grad():\n",
    "    acq_pts = pts.unsqueeze(1)\n",
    "    acq = acq_func(acq_pts)\n",
    "\n",
    "    fig, ax = plt.subplots(figsize=(8,8))\n",
    "    c = ax.pcolor(xx, yy, acq.reshape(n, n), cmap=\"Blues\")\n",
    "    fig.colorbar(c)\n",
    "    ax.set_title(\"Acquisition function\")\n",
    "\n",
    "    ax.plot(*history[[\"x1\", \"x2\"]][history[\"feasible\"]].to_numpy().T, \".C1\")\n",
    "    ax.plot(*history[[\"x1\", \"x2\"]][~history[\"feasible\"]].to_numpy().T, \".C2\")\n",
    "\n",
    "    ax.plot(*history[[\"x1\", \"x2\"]].to_numpy()[-1].T, \"+\")\n",
    "\n",
    "    feas = feasibility(pts.unsqueeze(1), model, X.vocs).flatten()\n",
    "\n",
    "    fig2, ax2 = plt.subplots(figsize=(8,8))\n",
    "    c = ax2.pcolor(xx, yy, feas.reshape(n, n))\n",
    "    fig2.colorbar(c)\n",
    "    ax2.set_title(\"Feasible Region\")\n",
    "\n",
    "candidate = pd.DataFrame(X.generator.generate(1), index=[0])\n",
    "print(candidate[[\"x1\", \"x2\"]].to_numpy())\n",
    "ax.plot(*candidate[[\"x1\", \"x2\"]].to_numpy()[0], \"o\")"
   ]
  }
 ],
 "metadata": {
  "interpreter": {
   "hash": "72034539424920dfb606fe3b820b3f27dca0cbf1c69938110810ec4641e275b1"
  },
  "kernelspec": {
   "display_name": "Python 3 (ipykernel)",
   "language": "python",
   "name": "python3"
  },
  "language_info": {
   "codemirror_mode": {
    "name": "ipython",
    "version": 3
   },
   "file_extension": ".py",
   "mimetype": "text/x-python",
   "name": "python",
   "nbconvert_exporter": "python",
   "pygments_lexer": "ipython3",
   "version": "3.9.18"
  }
 },
 "nbformat": 4,
 "nbformat_minor": 4
}
