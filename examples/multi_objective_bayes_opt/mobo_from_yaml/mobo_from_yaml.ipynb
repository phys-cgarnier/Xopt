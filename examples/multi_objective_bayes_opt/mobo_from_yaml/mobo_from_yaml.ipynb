{
 "cells": [
  {
   "cell_type": "markdown",
   "metadata": {},
   "source": [
    "\n",
    "# Multi-objective Bayesian Optimization\n",
    "\n",
    "\n",
    "TNK function\n",
    "$n=2$ variables:\n",
    "$x_i \\in [0, \\pi], i=1,2$\n",
    "\n",
    "Objectives:\n",
    "- $f_i(x) = x_i$\n",
    "\n",
    "Constraints:\n",
    "- $g_1(x) = -x_1^2 -x_2^2 + 1 + 0.1 \\cos\\left(16 \\arctan \\frac{x_1}{x_2}\\right) \\le 0$\n",
    "- $g_2(x) = (x_1 - 1/2)^2 + (x_2-1/2)^2 \\le 0.5$"
   ]
  },
  {
   "cell_type": "code",
   "execution_count": 1,
   "metadata": {
    "collapsed": false,
    "execution": {
     "iopub.execute_input": "2024-01-30T19:10:50.644516Z",
     "iopub.status.busy": "2024-01-30T19:10:50.644323Z",
     "iopub.status.idle": "2024-01-30T19:10:52.242297Z",
     "shell.execute_reply": "2024-01-30T19:10:52.241689Z"
    }
   },
   "outputs": [],
   "source": [
    "import os\n",
    "SMOKE_TEST = os.environ.get(\"SMOKE_TEST\")\n",
    "NUM_STEPS = 2 if SMOKE_TEST else 50\n",
    "\n",
    "# Ignore all warnings\n",
    "import warnings\n",
    "warnings.filterwarnings(\"ignore\")\n",
    "\n",
    "import torch\n",
    "from xopt import Xopt\n",
    "\n",
    "\n",
    "YAML = \"\"\"\n",
    "generator:\n",
    "    name: mobo\n",
    "    reference_point: {y1: 1.5, y2: 1.5}\n",
    "\n",
    "evaluator:\n",
    "    function: xopt.resources.test_functions.tnk.evaluate_TNK\n",
    "\n",
    "vocs:\n",
    "    variables:\n",
    "        x1: [0, 3.14159]\n",
    "        x2: [0, 3.14159]\n",
    "    objectives: {y1: MINIMIZE, y2: MINIMIZE}\n",
    "    constraints:\n",
    "        c1: [GREATER_THAN, 0]\n",
    "        c2: [LESS_THAN, 0.5]\n",
    "    constants: {a: dummy_constant}\n",
    "\n",
    "\"\"\""
   ]
  },
  {
   "cell_type": "code",
   "execution_count": 2,
   "metadata": {
    "collapsed": false,
    "execution": {
     "iopub.execute_input": "2024-01-30T19:10:52.245413Z",
     "iopub.status.busy": "2024-01-30T19:10:52.245119Z",
     "iopub.status.idle": "2024-01-30T19:11:42.139831Z",
     "shell.execute_reply": "2024-01-30T19:11:42.139200Z"
    }
   },
   "outputs": [
    {
     "name": "stdout",
     "output_type": "stream",
     "text": [
      "0\n"
     ]
    },
    {
     "name": "stdout",
     "output_type": "stream",
     "text": [
      "1\n"
     ]
    },
    {
     "name": "stdout",
     "output_type": "stream",
     "text": [
      "2\n"
     ]
    },
    {
     "name": "stdout",
     "output_type": "stream",
     "text": [
      "3\n"
     ]
    },
    {
     "name": "stdout",
     "output_type": "stream",
     "text": [
      "4\n"
     ]
    },
    {
     "name": "stdout",
     "output_type": "stream",
     "text": [
      "5\n"
     ]
    },
    {
     "name": "stdout",
     "output_type": "stream",
     "text": [
      "6\n"
     ]
    },
    {
     "name": "stdout",
     "output_type": "stream",
     "text": [
      "7\n"
     ]
    },
    {
     "name": "stdout",
     "output_type": "stream",
     "text": [
      "8\n"
     ]
    },
    {
     "name": "stdout",
     "output_type": "stream",
     "text": [
      "9\n"
     ]
    },
    {
     "name": "stdout",
     "output_type": "stream",
     "text": [
      "10\n"
     ]
    },
    {
     "name": "stdout",
     "output_type": "stream",
     "text": [
      "11\n"
     ]
    },
    {
     "name": "stdout",
     "output_type": "stream",
     "text": [
      "12\n"
     ]
    },
    {
     "name": "stdout",
     "output_type": "stream",
     "text": [
      "13\n"
     ]
    },
    {
     "name": "stdout",
     "output_type": "stream",
     "text": [
      "14\n"
     ]
    },
    {
     "name": "stdout",
     "output_type": "stream",
     "text": [
      "15\n"
     ]
    },
    {
     "name": "stdout",
     "output_type": "stream",
     "text": [
      "16\n"
     ]
    },
    {
     "name": "stdout",
     "output_type": "stream",
     "text": [
      "17\n"
     ]
    },
    {
     "name": "stdout",
     "output_type": "stream",
     "text": [
      "18\n"
     ]
    },
    {
     "name": "stdout",
     "output_type": "stream",
     "text": [
      "19\n"
     ]
    },
    {
     "name": "stdout",
     "output_type": "stream",
     "text": [
      "20\n"
     ]
    },
    {
     "name": "stdout",
     "output_type": "stream",
     "text": [
      "21\n"
     ]
    },
    {
     "name": "stdout",
     "output_type": "stream",
     "text": [
      "22\n"
     ]
    },
    {
     "name": "stdout",
     "output_type": "stream",
     "text": [
      "23\n"
     ]
    },
    {
     "name": "stdout",
     "output_type": "stream",
     "text": [
      "24\n"
     ]
    },
    {
     "name": "stdout",
     "output_type": "stream",
     "text": [
      "25\n"
     ]
    },
    {
     "name": "stdout",
     "output_type": "stream",
     "text": [
      "26\n"
     ]
    },
    {
     "name": "stdout",
     "output_type": "stream",
     "text": [
      "27\n"
     ]
    },
    {
     "name": "stdout",
     "output_type": "stream",
     "text": [
      "28\n"
     ]
    },
    {
     "name": "stdout",
     "output_type": "stream",
     "text": [
      "29\n"
     ]
    },
    {
     "name": "stdout",
     "output_type": "stream",
     "text": [
      "30\n"
     ]
    },
    {
     "name": "stdout",
     "output_type": "stream",
     "text": [
      "31\n"
     ]
    },
    {
     "name": "stdout",
     "output_type": "stream",
     "text": [
      "32\n"
     ]
    },
    {
     "name": "stdout",
     "output_type": "stream",
     "text": [
      "33\n"
     ]
    },
    {
     "name": "stdout",
     "output_type": "stream",
     "text": [
      "34\n"
     ]
    },
    {
     "name": "stdout",
     "output_type": "stream",
     "text": [
      "35\n"
     ]
    },
    {
     "name": "stdout",
     "output_type": "stream",
     "text": [
      "36\n"
     ]
    },
    {
     "name": "stdout",
     "output_type": "stream",
     "text": [
      "37\n"
     ]
    },
    {
     "name": "stdout",
     "output_type": "stream",
     "text": [
      "38\n"
     ]
    },
    {
     "name": "stdout",
     "output_type": "stream",
     "text": [
      "39\n"
     ]
    },
    {
     "name": "stdout",
     "output_type": "stream",
     "text": [
      "40\n"
     ]
    },
    {
     "name": "stdout",
     "output_type": "stream",
     "text": [
      "41\n"
     ]
    },
    {
     "name": "stdout",
     "output_type": "stream",
     "text": [
      "42\n"
     ]
    },
    {
     "name": "stdout",
     "output_type": "stream",
     "text": [
      "43\n"
     ]
    },
    {
     "name": "stdout",
     "output_type": "stream",
     "text": [
      "44\n"
     ]
    },
    {
     "name": "stdout",
     "output_type": "stream",
     "text": [
      "45\n"
     ]
    },
    {
     "name": "stdout",
     "output_type": "stream",
     "text": [
      "46\n"
     ]
    },
    {
     "name": "stdout",
     "output_type": "stream",
     "text": [
      "47\n"
     ]
    },
    {
     "name": "stdout",
     "output_type": "stream",
     "text": [
      "48\n"
     ]
    },
    {
     "name": "stdout",
     "output_type": "stream",
     "text": [
      "49\n"
     ]
    }
   ],
   "source": [
    "X = Xopt.from_yaml(YAML)\n",
    "\n",
    "# for testing purposes only\n",
    "if SMOKE_TEST:\n",
    "    X.generator.numerical_optimizer.n_restarts = 1\n",
    "    X.generator.n_monte_carlo_samples = 1\n",
    "\n",
    "X.random_evaluate(5)\n",
    "for i in range(NUM_STEPS):\n",
    "    print(i)\n",
    "    X.step()"
   ]
  },
  {
   "cell_type": "code",
   "execution_count": 3,
   "metadata": {
    "collapsed": false,
    "execution": {
     "iopub.execute_input": "2024-01-30T19:11:42.143280Z",
     "iopub.status.busy": "2024-01-30T19:11:42.142658Z",
     "iopub.status.idle": "2024-01-30T19:11:42.162182Z",
     "shell.execute_reply": "2024-01-30T19:11:42.161589Z"
    }
   },
   "outputs": [
    {
     "data": {
      "text/html": [
       "<div>\n",
       "<style scoped>\n",
       "    .dataframe tbody tr th:only-of-type {\n",
       "        vertical-align: middle;\n",
       "    }\n",
       "\n",
       "    .dataframe tbody tr th {\n",
       "        vertical-align: top;\n",
       "    }\n",
       "\n",
       "    .dataframe thead th {\n",
       "        text-align: right;\n",
       "    }\n",
       "</style>\n",
       "<table border=\"1\" class=\"dataframe\">\n",
       "  <thead>\n",
       "    <tr style=\"text-align: right;\">\n",
       "      <th></th>\n",
       "      <th>x1</th>\n",
       "      <th>x2</th>\n",
       "      <th>a</th>\n",
       "      <th>y1</th>\n",
       "      <th>y2</th>\n",
       "      <th>c1</th>\n",
       "      <th>c2</th>\n",
       "      <th>xopt_runtime</th>\n",
       "      <th>xopt_error</th>\n",
       "    </tr>\n",
       "  </thead>\n",
       "  <tbody>\n",
       "    <tr>\n",
       "      <th>0</th>\n",
       "      <td>1.897438</td>\n",
       "      <td>0.080270</td>\n",
       "      <td>dummy_constant</td>\n",
       "      <td>1.897438</td>\n",
       "      <td>0.080270</td>\n",
       "      <td>2.528736</td>\n",
       "      <td>2.129007</td>\n",
       "      <td>0.000040</td>\n",
       "      <td>False</td>\n",
       "    </tr>\n",
       "    <tr>\n",
       "      <th>1</th>\n",
       "      <td>1.101087</td>\n",
       "      <td>0.052823</td>\n",
       "      <td>dummy_constant</td>\n",
       "      <td>1.101087</td>\n",
       "      <td>0.052823</td>\n",
       "      <td>0.143182</td>\n",
       "      <td>0.561272</td>\n",
       "      <td>0.000009</td>\n",
       "      <td>False</td>\n",
       "    </tr>\n",
       "    <tr>\n",
       "      <th>2</th>\n",
       "      <td>0.552097</td>\n",
       "      <td>1.289032</td>\n",
       "      <td>dummy_constant</td>\n",
       "      <td>0.552097</td>\n",
       "      <td>1.289032</td>\n",
       "      <td>0.868242</td>\n",
       "      <td>0.625286</td>\n",
       "      <td>0.000007</td>\n",
       "      <td>False</td>\n",
       "    </tr>\n",
       "    <tr>\n",
       "      <th>3</th>\n",
       "      <td>3.121383</td>\n",
       "      <td>0.528534</td>\n",
       "      <td>dummy_constant</td>\n",
       "      <td>3.121383</td>\n",
       "      <td>0.528534</td>\n",
       "      <td>9.112084</td>\n",
       "      <td>6.872464</td>\n",
       "      <td>0.000006</td>\n",
       "      <td>False</td>\n",
       "    </tr>\n",
       "    <tr>\n",
       "      <th>4</th>\n",
       "      <td>2.792282</td>\n",
       "      <td>2.712713</td>\n",
       "      <td>dummy_constant</td>\n",
       "      <td>2.792282</td>\n",
       "      <td>2.712713</td>\n",
       "      <td>14.058315</td>\n",
       "      <td>10.150658</td>\n",
       "      <td>0.000005</td>\n",
       "      <td>False</td>\n",
       "    </tr>\n",
       "    <tr>\n",
       "      <th>5</th>\n",
       "      <td>0.757037</td>\n",
       "      <td>0.439872</td>\n",
       "      <td>dummy_constant</td>\n",
       "      <td>0.757037</td>\n",
       "      <td>0.439872</td>\n",
       "      <td>-0.179625</td>\n",
       "      <td>0.069684</td>\n",
       "      <td>0.000026</td>\n",
       "      <td>False</td>\n",
       "    </tr>\n",
       "    <tr>\n",
       "      <th>6</th>\n",
       "      <td>0.613084</td>\n",
       "      <td>0.390040</td>\n",
       "      <td>dummy_constant</td>\n",
       "      <td>0.613084</td>\n",
       "      <td>0.390040</td>\n",
       "      <td>-0.378373</td>\n",
       "      <td>0.024879</td>\n",
       "      <td>0.000026</td>\n",
       "      <td>False</td>\n",
       "    </tr>\n",
       "    <tr>\n",
       "      <th>7</th>\n",
       "      <td>0.935446</td>\n",
       "      <td>0.487369</td>\n",
       "      <td>dummy_constant</td>\n",
       "      <td>0.935446</td>\n",
       "      <td>0.487369</td>\n",
       "      <td>0.095763</td>\n",
       "      <td>0.189773</td>\n",
       "      <td>0.000027</td>\n",
       "      <td>False</td>\n",
       "    </tr>\n",
       "    <tr>\n",
       "      <th>8</th>\n",
       "      <td>0.000291</td>\n",
       "      <td>0.079907</td>\n",
       "      <td>dummy_constant</td>\n",
       "      <td>0.000291</td>\n",
       "      <td>0.079907</td>\n",
       "      <td>-1.093445</td>\n",
       "      <td>0.426187</td>\n",
       "      <td>0.000028</td>\n",
       "      <td>False</td>\n",
       "    </tr>\n",
       "    <tr>\n",
       "      <th>9</th>\n",
       "      <td>0.000000</td>\n",
       "      <td>0.882646</td>\n",
       "      <td>dummy_constant</td>\n",
       "      <td>0.000000</td>\n",
       "      <td>0.882646</td>\n",
       "      <td>-0.320936</td>\n",
       "      <td>0.396418</td>\n",
       "      <td>0.000026</td>\n",
       "      <td>False</td>\n",
       "    </tr>\n",
       "    <tr>\n",
       "      <th>10</th>\n",
       "      <td>0.314865</td>\n",
       "      <td>1.058960</td>\n",
       "      <td>dummy_constant</td>\n",
       "      <td>0.314865</td>\n",
       "      <td>1.058960</td>\n",
       "      <td>0.229348</td>\n",
       "      <td>0.346711</td>\n",
       "      <td>0.000030</td>\n",
       "      <td>False</td>\n",
       "    </tr>\n",
       "    <tr>\n",
       "      <th>11</th>\n",
       "      <td>0.175264</td>\n",
       "      <td>1.015095</td>\n",
       "      <td>dummy_constant</td>\n",
       "      <td>0.175264</td>\n",
       "      <td>1.015095</td>\n",
       "      <td>0.153004</td>\n",
       "      <td>0.370776</td>\n",
       "      <td>0.000026</td>\n",
       "      <td>False</td>\n",
       "    </tr>\n",
       "    <tr>\n",
       "      <th>12</th>\n",
       "      <td>0.687423</td>\n",
       "      <td>0.785139</td>\n",
       "      <td>dummy_constant</td>\n",
       "      <td>0.687423</td>\n",
       "      <td>0.785139</td>\n",
       "      <td>0.040121</td>\n",
       "      <td>0.116431</td>\n",
       "      <td>0.000028</td>\n",
       "      <td>False</td>\n",
       "    </tr>\n",
       "    <tr>\n",
       "      <th>13</th>\n",
       "      <td>0.839661</td>\n",
       "      <td>0.611227</td>\n",
       "      <td>dummy_constant</td>\n",
       "      <td>0.839661</td>\n",
       "      <td>0.611227</td>\n",
       "      <td>0.158660</td>\n",
       "      <td>0.127741</td>\n",
       "      <td>0.000030</td>\n",
       "      <td>False</td>\n",
       "    </tr>\n",
       "    <tr>\n",
       "      <th>14</th>\n",
       "      <td>1.038270</td>\n",
       "      <td>0.124041</td>\n",
       "      <td>dummy_constant</td>\n",
       "      <td>1.038270</td>\n",
       "      <td>0.124041</td>\n",
       "      <td>0.125953</td>\n",
       "      <td>0.431080</td>\n",
       "      <td>0.000027</td>\n",
       "      <td>False</td>\n",
       "    </tr>\n",
       "    <tr>\n",
       "      <th>15</th>\n",
       "      <td>0.332434</td>\n",
       "      <td>0.155000</td>\n",
       "      <td>dummy_constant</td>\n",
       "      <td>0.332434</td>\n",
       "      <td>0.155000</td>\n",
       "      <td>-0.942110</td>\n",
       "      <td>0.147103</td>\n",
       "      <td>0.000030</td>\n",
       "      <td>False</td>\n",
       "    </tr>\n",
       "    <tr>\n",
       "      <th>16</th>\n",
       "      <td>0.074192</td>\n",
       "      <td>1.029877</td>\n",
       "      <td>dummy_constant</td>\n",
       "      <td>0.074192</td>\n",
       "      <td>1.029877</td>\n",
       "      <td>0.025362</td>\n",
       "      <td>0.462082</td>\n",
       "      <td>0.000027</td>\n",
       "      <td>False</td>\n",
       "    </tr>\n",
       "    <tr>\n",
       "      <th>17</th>\n",
       "      <td>0.434381</td>\n",
       "      <td>0.909549</td>\n",
       "      <td>dummy_constant</td>\n",
       "      <td>0.434381</td>\n",
       "      <td>0.909549</td>\n",
       "      <td>-0.050361</td>\n",
       "      <td>0.172036</td>\n",
       "      <td>0.000027</td>\n",
       "      <td>False</td>\n",
       "    </tr>\n",
       "    <tr>\n",
       "      <th>18</th>\n",
       "      <td>1.005994</td>\n",
       "      <td>0.000000</td>\n",
       "      <td>dummy_constant</td>\n",
       "      <td>1.005994</td>\n",
       "      <td>0.000000</td>\n",
       "      <td>-0.087975</td>\n",
       "      <td>0.506030</td>\n",
       "      <td>0.000030</td>\n",
       "      <td>False</td>\n",
       "    </tr>\n",
       "    <tr>\n",
       "      <th>19</th>\n",
       "      <td>0.553399</td>\n",
       "      <td>0.892493</td>\n",
       "      <td>dummy_constant</td>\n",
       "      <td>0.553399</td>\n",
       "      <td>0.892493</td>\n",
       "      <td>0.188351</td>\n",
       "      <td>0.156903</td>\n",
       "      <td>0.000026</td>\n",
       "      <td>False</td>\n",
       "    </tr>\n",
       "    <tr>\n",
       "      <th>20</th>\n",
       "      <td>0.965202</td>\n",
       "      <td>0.308187</td>\n",
       "      <td>dummy_constant</td>\n",
       "      <td>0.965202</td>\n",
       "      <td>0.308187</td>\n",
       "      <td>0.003537</td>\n",
       "      <td>0.253205</td>\n",
       "      <td>0.000027</td>\n",
       "      <td>False</td>\n",
       "    </tr>\n",
       "    <tr>\n",
       "      <th>21</th>\n",
       "      <td>0.753303</td>\n",
       "      <td>0.668413</td>\n",
       "      <td>dummy_constant</td>\n",
       "      <td>0.753303</td>\n",
       "      <td>0.668413</td>\n",
       "      <td>-0.043583</td>\n",
       "      <td>0.092525</td>\n",
       "      <td>0.000027</td>\n",
       "      <td>False</td>\n",
       "    </tr>\n",
       "    <tr>\n",
       "      <th>22</th>\n",
       "      <td>0.792304</td>\n",
       "      <td>0.431028</td>\n",
       "      <td>dummy_constant</td>\n",
       "      <td>0.792304</td>\n",
       "      <td>0.431028</td>\n",
       "      <td>-0.174713</td>\n",
       "      <td>0.090199</td>\n",
       "      <td>0.000027</td>\n",
       "      <td>False</td>\n",
       "    </tr>\n",
       "    <tr>\n",
       "      <th>23</th>\n",
       "      <td>0.336310</td>\n",
       "      <td>0.441844</td>\n",
       "      <td>dummy_constant</td>\n",
       "      <td>0.336310</td>\n",
       "      <td>0.441844</td>\n",
       "      <td>-0.636368</td>\n",
       "      <td>0.030177</td>\n",
       "      <td>0.000027</td>\n",
       "      <td>False</td>\n",
       "    </tr>\n",
       "    <tr>\n",
       "      <th>24</th>\n",
       "      <td>0.590751</td>\n",
       "      <td>0.826395</td>\n",
       "      <td>dummy_constant</td>\n",
       "      <td>0.590751</td>\n",
       "      <td>0.826395</td>\n",
       "      <td>0.119421</td>\n",
       "      <td>0.114769</td>\n",
       "      <td>0.000027</td>\n",
       "      <td>False</td>\n",
       "    </tr>\n",
       "    <tr>\n",
       "      <th>25</th>\n",
       "      <td>0.797246</td>\n",
       "      <td>0.209681</td>\n",
       "      <td>dummy_constant</td>\n",
       "      <td>0.797246</td>\n",
       "      <td>0.209681</td>\n",
       "      <td>-0.264176</td>\n",
       "      <td>0.172641</td>\n",
       "      <td>0.000029</td>\n",
       "      <td>False</td>\n",
       "    </tr>\n",
       "    <tr>\n",
       "      <th>26</th>\n",
       "      <td>0.337430</td>\n",
       "      <td>1.383482</td>\n",
       "      <td>dummy_constant</td>\n",
       "      <td>0.337430</td>\n",
       "      <td>1.383482</td>\n",
       "      <td>1.105257</td>\n",
       "      <td>0.806970</td>\n",
       "      <td>0.000028</td>\n",
       "      <td>False</td>\n",
       "    </tr>\n",
       "    <tr>\n",
       "      <th>27</th>\n",
       "      <td>0.867900</td>\n",
       "      <td>0.094573</td>\n",
       "      <td>dummy_constant</td>\n",
       "      <td>0.867900</td>\n",
       "      <td>0.094573</td>\n",
       "      <td>-0.221297</td>\n",
       "      <td>0.299721</td>\n",
       "      <td>0.000027</td>\n",
       "      <td>False</td>\n",
       "    </tr>\n",
       "    <tr>\n",
       "      <th>28</th>\n",
       "      <td>0.797631</td>\n",
       "      <td>0.625361</td>\n",
       "      <td>dummy_constant</td>\n",
       "      <td>0.797631</td>\n",
       "      <td>0.625361</td>\n",
       "      <td>0.062220</td>\n",
       "      <td>0.104300</td>\n",
       "      <td>0.000027</td>\n",
       "      <td>False</td>\n",
       "    </tr>\n",
       "    <tr>\n",
       "      <th>29</th>\n",
       "      <td>0.155388</td>\n",
       "      <td>3.098448</td>\n",
       "      <td>dummy_constant</td>\n",
       "      <td>0.155388</td>\n",
       "      <td>3.098448</td>\n",
       "      <td>8.554977</td>\n",
       "      <td>6.870687</td>\n",
       "      <td>0.000029</td>\n",
       "      <td>False</td>\n",
       "    </tr>\n",
       "    <tr>\n",
       "      <th>30</th>\n",
       "      <td>0.861287</td>\n",
       "      <td>0.139184</td>\n",
       "      <td>dummy_constant</td>\n",
       "      <td>0.861287</td>\n",
       "      <td>0.139184</td>\n",
       "      <td>-0.155065</td>\n",
       "      <td>0.260717</td>\n",
       "      <td>0.000027</td>\n",
       "      <td>False</td>\n",
       "    </tr>\n",
       "    <tr>\n",
       "      <th>31</th>\n",
       "      <td>0.693414</td>\n",
       "      <td>0.729834</td>\n",
       "      <td>dummy_constant</td>\n",
       "      <td>0.693414</td>\n",
       "      <td>0.729834</td>\n",
       "      <td>-0.078258</td>\n",
       "      <td>0.090233</td>\n",
       "      <td>0.000027</td>\n",
       "      <td>False</td>\n",
       "    </tr>\n",
       "    <tr>\n",
       "      <th>32</th>\n",
       "      <td>0.525639</td>\n",
       "      <td>0.670984</td>\n",
       "      <td>dummy_constant</td>\n",
       "      <td>0.525639</td>\n",
       "      <td>0.670984</td>\n",
       "      <td>-0.237964</td>\n",
       "      <td>0.029893</td>\n",
       "      <td>0.000027</td>\n",
       "      <td>False</td>\n",
       "    </tr>\n",
       "    <tr>\n",
       "      <th>33</th>\n",
       "      <td>1.368912</td>\n",
       "      <td>0.299816</td>\n",
       "      <td>dummy_constant</td>\n",
       "      <td>1.368912</td>\n",
       "      <td>0.299816</td>\n",
       "      <td>1.059096</td>\n",
       "      <td>0.795081</td>\n",
       "      <td>0.000028</td>\n",
       "      <td>False</td>\n",
       "    </tr>\n",
       "    <tr>\n",
       "      <th>34</th>\n",
       "      <td>0.674092</td>\n",
       "      <td>0.680147</td>\n",
       "      <td>dummy_constant</td>\n",
       "      <td>0.674092</td>\n",
       "      <td>0.680147</td>\n",
       "      <td>-0.182745</td>\n",
       "      <td>0.062761</td>\n",
       "      <td>0.000028</td>\n",
       "      <td>False</td>\n",
       "    </tr>\n",
       "    <tr>\n",
       "      <th>35</th>\n",
       "      <td>0.571862</td>\n",
       "      <td>0.225611</td>\n",
       "      <td>dummy_constant</td>\n",
       "      <td>0.571862</td>\n",
       "      <td>0.225611</td>\n",
       "      <td>-0.718429</td>\n",
       "      <td>0.080454</td>\n",
       "      <td>0.000028</td>\n",
       "      <td>False</td>\n",
       "    </tr>\n",
       "    <tr>\n",
       "      <th>36</th>\n",
       "      <td>0.319387</td>\n",
       "      <td>0.558362</td>\n",
       "      <td>dummy_constant</td>\n",
       "      <td>0.319387</td>\n",
       "      <td>0.558362</td>\n",
       "      <td>-0.541890</td>\n",
       "      <td>0.036027</td>\n",
       "      <td>0.000027</td>\n",
       "      <td>False</td>\n",
       "    </tr>\n",
       "    <tr>\n",
       "      <th>37</th>\n",
       "      <td>1.786952</td>\n",
       "      <td>1.000477</td>\n",
       "      <td>dummy_constant</td>\n",
       "      <td>1.786952</td>\n",
       "      <td>1.000477</td>\n",
       "      <td>3.224883</td>\n",
       "      <td>1.906724</td>\n",
       "      <td>0.000030</td>\n",
       "      <td>False</td>\n",
       "    </tr>\n",
       "    <tr>\n",
       "      <th>38</th>\n",
       "      <td>0.965323</td>\n",
       "      <td>0.018252</td>\n",
       "      <td>dummy_constant</td>\n",
       "      <td>0.965323</td>\n",
       "      <td>0.018252</td>\n",
       "      <td>-0.163277</td>\n",
       "      <td>0.448607</td>\n",
       "      <td>0.000028</td>\n",
       "      <td>False</td>\n",
       "    </tr>\n",
       "    <tr>\n",
       "      <th>39</th>\n",
       "      <td>0.855978</td>\n",
       "      <td>0.349933</td>\n",
       "      <td>dummy_constant</td>\n",
       "      <td>0.855978</td>\n",
       "      <td>0.349933</td>\n",
       "      <td>-0.244575</td>\n",
       "      <td>0.149241</td>\n",
       "      <td>0.000027</td>\n",
       "      <td>False</td>\n",
       "    </tr>\n",
       "    <tr>\n",
       "      <th>40</th>\n",
       "      <td>0.237779</td>\n",
       "      <td>0.692664</td>\n",
       "      <td>dummy_constant</td>\n",
       "      <td>0.237779</td>\n",
       "      <td>0.692664</td>\n",
       "      <td>-0.518350</td>\n",
       "      <td>0.105879</td>\n",
       "      <td>0.000027</td>\n",
       "      <td>False</td>\n",
       "    </tr>\n",
       "    <tr>\n",
       "      <th>41</th>\n",
       "      <td>0.277752</td>\n",
       "      <td>0.728620</td>\n",
       "      <td>dummy_constant</td>\n",
       "      <td>0.277752</td>\n",
       "      <td>0.728620</td>\n",
       "      <td>-0.481747</td>\n",
       "      <td>0.101661</td>\n",
       "      <td>0.000028</td>\n",
       "      <td>False</td>\n",
       "    </tr>\n",
       "    <tr>\n",
       "      <th>42</th>\n",
       "      <td>0.648817</td>\n",
       "      <td>0.367224</td>\n",
       "      <td>dummy_constant</td>\n",
       "      <td>0.648817</td>\n",
       "      <td>0.367224</td>\n",
       "      <td>-0.406478</td>\n",
       "      <td>0.039776</td>\n",
       "      <td>0.000027</td>\n",
       "      <td>False</td>\n",
       "    </tr>\n",
       "    <tr>\n",
       "      <th>43</th>\n",
       "      <td>0.076868</td>\n",
       "      <td>1.474554</td>\n",
       "      <td>dummy_constant</td>\n",
       "      <td>0.076868</td>\n",
       "      <td>1.474554</td>\n",
       "      <td>1.112977</td>\n",
       "      <td>1.128796</td>\n",
       "      <td>0.000028</td>\n",
       "      <td>False</td>\n",
       "    </tr>\n",
       "    <tr>\n",
       "      <th>44</th>\n",
       "      <td>0.083686</td>\n",
       "      <td>1.204990</td>\n",
       "      <td>dummy_constant</td>\n",
       "      <td>0.083686</td>\n",
       "      <td>1.204990</td>\n",
       "      <td>0.414485</td>\n",
       "      <td>0.670329</td>\n",
       "      <td>0.000028</td>\n",
       "      <td>False</td>\n",
       "    </tr>\n",
       "    <tr>\n",
       "      <th>45</th>\n",
       "      <td>0.885370</td>\n",
       "      <td>1.143128</td>\n",
       "      <td>dummy_constant</td>\n",
       "      <td>0.885370</td>\n",
       "      <td>1.143128</td>\n",
       "      <td>1.134249</td>\n",
       "      <td>0.562124</td>\n",
       "      <td>0.000026</td>\n",
       "      <td>False</td>\n",
       "    </tr>\n",
       "    <tr>\n",
       "      <th>46</th>\n",
       "      <td>0.205144</td>\n",
       "      <td>0.436554</td>\n",
       "      <td>dummy_constant</td>\n",
       "      <td>0.205144</td>\n",
       "      <td>0.436554</td>\n",
       "      <td>-0.840812</td>\n",
       "      <td>0.090966</td>\n",
       "      <td>0.000028</td>\n",
       "      <td>False</td>\n",
       "    </tr>\n",
       "    <tr>\n",
       "      <th>47</th>\n",
       "      <td>0.145934</td>\n",
       "      <td>1.224331</td>\n",
       "      <td>dummy_constant</td>\n",
       "      <td>0.145934</td>\n",
       "      <td>1.224331</td>\n",
       "      <td>0.552439</td>\n",
       "      <td>0.650019</td>\n",
       "      <td>0.000027</td>\n",
       "      <td>False</td>\n",
       "    </tr>\n",
       "    <tr>\n",
       "      <th>48</th>\n",
       "      <td>0.049363</td>\n",
       "      <td>0.594932</td>\n",
       "      <td>dummy_constant</td>\n",
       "      <td>0.049363</td>\n",
       "      <td>0.594932</td>\n",
       "      <td>-0.667999</td>\n",
       "      <td>0.212086</td>\n",
       "      <td>0.000029</td>\n",
       "      <td>False</td>\n",
       "    </tr>\n",
       "    <tr>\n",
       "      <th>49</th>\n",
       "      <td>0.035180</td>\n",
       "      <td>1.022961</td>\n",
       "      <td>dummy_constant</td>\n",
       "      <td>0.035180</td>\n",
       "      <td>1.022961</td>\n",
       "      <td>-0.037563</td>\n",
       "      <td>0.489547</td>\n",
       "      <td>0.000029</td>\n",
       "      <td>False</td>\n",
       "    </tr>\n",
       "    <tr>\n",
       "      <th>50</th>\n",
       "      <td>0.214971</td>\n",
       "      <td>1.220393</td>\n",
       "      <td>dummy_constant</td>\n",
       "      <td>0.214971</td>\n",
       "      <td>1.220393</td>\n",
       "      <td>0.629446</td>\n",
       "      <td>0.600208</td>\n",
       "      <td>0.000029</td>\n",
       "      <td>False</td>\n",
       "    </tr>\n",
       "    <tr>\n",
       "      <th>51</th>\n",
       "      <td>1.431091</td>\n",
       "      <td>0.309440</td>\n",
       "      <td>dummy_constant</td>\n",
       "      <td>1.431091</td>\n",
       "      <td>0.309440</td>\n",
       "      <td>1.240270</td>\n",
       "      <td>0.903244</td>\n",
       "      <td>0.000029</td>\n",
       "      <td>False</td>\n",
       "    </tr>\n",
       "    <tr>\n",
       "      <th>52</th>\n",
       "      <td>0.959538</td>\n",
       "      <td>0.260747</td>\n",
       "      <td>dummy_constant</td>\n",
       "      <td>0.959538</td>\n",
       "      <td>0.260747</td>\n",
       "      <td>0.033725</td>\n",
       "      <td>0.268417</td>\n",
       "      <td>0.000027</td>\n",
       "      <td>False</td>\n",
       "    </tr>\n",
       "    <tr>\n",
       "      <th>53</th>\n",
       "      <td>0.802950</td>\n",
       "      <td>0.257006</td>\n",
       "      <td>dummy_constant</td>\n",
       "      <td>0.802950</td>\n",
       "      <td>0.257006</td>\n",
       "      <td>-0.313375</td>\n",
       "      <td>0.150825</td>\n",
       "      <td>0.000027</td>\n",
       "      <td>False</td>\n",
       "    </tr>\n",
       "    <tr>\n",
       "      <th>54</th>\n",
       "      <td>0.949495</td>\n",
       "      <td>0.039209</td>\n",
       "      <td>dummy_constant</td>\n",
       "      <td>0.949495</td>\n",
       "      <td>0.039209</td>\n",
       "      <td>-0.175900</td>\n",
       "      <td>0.414374</td>\n",
       "      <td>0.000030</td>\n",
       "      <td>False</td>\n",
       "    </tr>\n",
       "  </tbody>\n",
       "</table>\n",
       "</div>"
      ],
      "text/plain": [
       "          x1        x2               a        y1        y2         c1  \\\n",
       "0   1.897438  0.080270  dummy_constant  1.897438  0.080270   2.528736   \n",
       "1   1.101087  0.052823  dummy_constant  1.101087  0.052823   0.143182   \n",
       "2   0.552097  1.289032  dummy_constant  0.552097  1.289032   0.868242   \n",
       "3   3.121383  0.528534  dummy_constant  3.121383  0.528534   9.112084   \n",
       "4   2.792282  2.712713  dummy_constant  2.792282  2.712713  14.058315   \n",
       "5   0.757037  0.439872  dummy_constant  0.757037  0.439872  -0.179625   \n",
       "6   0.613084  0.390040  dummy_constant  0.613084  0.390040  -0.378373   \n",
       "7   0.935446  0.487369  dummy_constant  0.935446  0.487369   0.095763   \n",
       "8   0.000291  0.079907  dummy_constant  0.000291  0.079907  -1.093445   \n",
       "9   0.000000  0.882646  dummy_constant  0.000000  0.882646  -0.320936   \n",
       "10  0.314865  1.058960  dummy_constant  0.314865  1.058960   0.229348   \n",
       "11  0.175264  1.015095  dummy_constant  0.175264  1.015095   0.153004   \n",
       "12  0.687423  0.785139  dummy_constant  0.687423  0.785139   0.040121   \n",
       "13  0.839661  0.611227  dummy_constant  0.839661  0.611227   0.158660   \n",
       "14  1.038270  0.124041  dummy_constant  1.038270  0.124041   0.125953   \n",
       "15  0.332434  0.155000  dummy_constant  0.332434  0.155000  -0.942110   \n",
       "16  0.074192  1.029877  dummy_constant  0.074192  1.029877   0.025362   \n",
       "17  0.434381  0.909549  dummy_constant  0.434381  0.909549  -0.050361   \n",
       "18  1.005994  0.000000  dummy_constant  1.005994  0.000000  -0.087975   \n",
       "19  0.553399  0.892493  dummy_constant  0.553399  0.892493   0.188351   \n",
       "20  0.965202  0.308187  dummy_constant  0.965202  0.308187   0.003537   \n",
       "21  0.753303  0.668413  dummy_constant  0.753303  0.668413  -0.043583   \n",
       "22  0.792304  0.431028  dummy_constant  0.792304  0.431028  -0.174713   \n",
       "23  0.336310  0.441844  dummy_constant  0.336310  0.441844  -0.636368   \n",
       "24  0.590751  0.826395  dummy_constant  0.590751  0.826395   0.119421   \n",
       "25  0.797246  0.209681  dummy_constant  0.797246  0.209681  -0.264176   \n",
       "26  0.337430  1.383482  dummy_constant  0.337430  1.383482   1.105257   \n",
       "27  0.867900  0.094573  dummy_constant  0.867900  0.094573  -0.221297   \n",
       "28  0.797631  0.625361  dummy_constant  0.797631  0.625361   0.062220   \n",
       "29  0.155388  3.098448  dummy_constant  0.155388  3.098448   8.554977   \n",
       "30  0.861287  0.139184  dummy_constant  0.861287  0.139184  -0.155065   \n",
       "31  0.693414  0.729834  dummy_constant  0.693414  0.729834  -0.078258   \n",
       "32  0.525639  0.670984  dummy_constant  0.525639  0.670984  -0.237964   \n",
       "33  1.368912  0.299816  dummy_constant  1.368912  0.299816   1.059096   \n",
       "34  0.674092  0.680147  dummy_constant  0.674092  0.680147  -0.182745   \n",
       "35  0.571862  0.225611  dummy_constant  0.571862  0.225611  -0.718429   \n",
       "36  0.319387  0.558362  dummy_constant  0.319387  0.558362  -0.541890   \n",
       "37  1.786952  1.000477  dummy_constant  1.786952  1.000477   3.224883   \n",
       "38  0.965323  0.018252  dummy_constant  0.965323  0.018252  -0.163277   \n",
       "39  0.855978  0.349933  dummy_constant  0.855978  0.349933  -0.244575   \n",
       "40  0.237779  0.692664  dummy_constant  0.237779  0.692664  -0.518350   \n",
       "41  0.277752  0.728620  dummy_constant  0.277752  0.728620  -0.481747   \n",
       "42  0.648817  0.367224  dummy_constant  0.648817  0.367224  -0.406478   \n",
       "43  0.076868  1.474554  dummy_constant  0.076868  1.474554   1.112977   \n",
       "44  0.083686  1.204990  dummy_constant  0.083686  1.204990   0.414485   \n",
       "45  0.885370  1.143128  dummy_constant  0.885370  1.143128   1.134249   \n",
       "46  0.205144  0.436554  dummy_constant  0.205144  0.436554  -0.840812   \n",
       "47  0.145934  1.224331  dummy_constant  0.145934  1.224331   0.552439   \n",
       "48  0.049363  0.594932  dummy_constant  0.049363  0.594932  -0.667999   \n",
       "49  0.035180  1.022961  dummy_constant  0.035180  1.022961  -0.037563   \n",
       "50  0.214971  1.220393  dummy_constant  0.214971  1.220393   0.629446   \n",
       "51  1.431091  0.309440  dummy_constant  1.431091  0.309440   1.240270   \n",
       "52  0.959538  0.260747  dummy_constant  0.959538  0.260747   0.033725   \n",
       "53  0.802950  0.257006  dummy_constant  0.802950  0.257006  -0.313375   \n",
       "54  0.949495  0.039209  dummy_constant  0.949495  0.039209  -0.175900   \n",
       "\n",
       "           c2  xopt_runtime  xopt_error  \n",
       "0    2.129007      0.000040       False  \n",
       "1    0.561272      0.000009       False  \n",
       "2    0.625286      0.000007       False  \n",
       "3    6.872464      0.000006       False  \n",
       "4   10.150658      0.000005       False  \n",
       "5    0.069684      0.000026       False  \n",
       "6    0.024879      0.000026       False  \n",
       "7    0.189773      0.000027       False  \n",
       "8    0.426187      0.000028       False  \n",
       "9    0.396418      0.000026       False  \n",
       "10   0.346711      0.000030       False  \n",
       "11   0.370776      0.000026       False  \n",
       "12   0.116431      0.000028       False  \n",
       "13   0.127741      0.000030       False  \n",
       "14   0.431080      0.000027       False  \n",
       "15   0.147103      0.000030       False  \n",
       "16   0.462082      0.000027       False  \n",
       "17   0.172036      0.000027       False  \n",
       "18   0.506030      0.000030       False  \n",
       "19   0.156903      0.000026       False  \n",
       "20   0.253205      0.000027       False  \n",
       "21   0.092525      0.000027       False  \n",
       "22   0.090199      0.000027       False  \n",
       "23   0.030177      0.000027       False  \n",
       "24   0.114769      0.000027       False  \n",
       "25   0.172641      0.000029       False  \n",
       "26   0.806970      0.000028       False  \n",
       "27   0.299721      0.000027       False  \n",
       "28   0.104300      0.000027       False  \n",
       "29   6.870687      0.000029       False  \n",
       "30   0.260717      0.000027       False  \n",
       "31   0.090233      0.000027       False  \n",
       "32   0.029893      0.000027       False  \n",
       "33   0.795081      0.000028       False  \n",
       "34   0.062761      0.000028       False  \n",
       "35   0.080454      0.000028       False  \n",
       "36   0.036027      0.000027       False  \n",
       "37   1.906724      0.000030       False  \n",
       "38   0.448607      0.000028       False  \n",
       "39   0.149241      0.000027       False  \n",
       "40   0.105879      0.000027       False  \n",
       "41   0.101661      0.000028       False  \n",
       "42   0.039776      0.000027       False  \n",
       "43   1.128796      0.000028       False  \n",
       "44   0.670329      0.000028       False  \n",
       "45   0.562124      0.000026       False  \n",
       "46   0.090966      0.000028       False  \n",
       "47   0.650019      0.000027       False  \n",
       "48   0.212086      0.000029       False  \n",
       "49   0.489547      0.000029       False  \n",
       "50   0.600208      0.000029       False  \n",
       "51   0.903244      0.000029       False  \n",
       "52   0.268417      0.000027       False  \n",
       "53   0.150825      0.000027       False  \n",
       "54   0.414374      0.000030       False  "
      ]
     },
     "execution_count": 3,
     "metadata": {},
     "output_type": "execute_result"
    }
   ],
   "source": [
    "X.generator.data"
   ]
  },
  {
   "cell_type": "markdown",
   "metadata": {
    "collapsed": false
   },
   "source": [
    "## plot results\n"
   ]
  },
  {
   "cell_type": "code",
   "execution_count": 4,
   "metadata": {
    "collapsed": false,
    "execution": {
     "iopub.execute_input": "2024-01-30T19:11:42.164781Z",
     "iopub.status.busy": "2024-01-30T19:11:42.164571Z",
     "iopub.status.idle": "2024-01-30T19:11:42.691137Z",
     "shell.execute_reply": "2024-01-30T19:11:42.690511Z"
    }
   },
   "outputs": [
    {
     "data": {
      "image/png": "[encoded data removed]",
      "text/plain": [
       "<Figure size 640x480 with 1 Axes>"
      ]
     },
     "metadata": {},
     "output_type": "display_data"
    }
   ],
   "source": [
    "import matplotlib.pyplot as plt\n",
    "import numpy as np\n",
    "import pandas as pd\n",
    "\n",
    "fig, ax = plt.subplots()\n",
    "\n",
    "theta = np.linspace(0, np.pi / 2)\n",
    "r = np.sqrt(1 + 0.1 * np.cos(16 * theta))\n",
    "x_1 = r * np.sin(theta)\n",
    "x_2_lower = r * np.cos(theta)\n",
    "x_2_upper = (0.5 - (x_1 - 0.5) ** 2) ** 0.5 + 0.5\n",
    "\n",
    "z = np.zeros_like(x_1)\n",
    "\n",
    "# ax2.plot(x_1, x_2_lower,'r')\n",
    "ax.fill_between(x_1, z, x_2_lower, fc=\"white\")\n",
    "circle = plt.Circle(\n",
    "    (0.5, 0.5), 0.5 ** 0.5, color=\"r\", alpha=0.25, zorder=0, label=\"Valid Region\"\n",
    ")\n",
    "ax.add_patch(circle)\n",
    "history = pd.concat(\n",
    "    [X.data, X.vocs.feasibility_data(X.data)], axis=1, ignore_index=False\n",
    ")\n",
    "\n",
    "\n",
    "ax.plot(*history[[\"x1\", \"x2\"]][history[\"feasible\"]].to_numpy().T, \".C1\")\n",
    "ax.plot(*history[[\"x1\", \"x2\"]][~history[\"feasible\"]].to_numpy().T, \".C2\")\n",
    "\n",
    "ax.set_xlim(0, 3.14)\n",
    "ax.set_ylim(0, 3.14)\n",
    "ax.set_xlabel(\"x1\")\n",
    "ax.set_ylabel(\"x2\")\n",
    "ax.set_aspect(\"equal\")"
   ]
  },
  {
   "cell_type": "markdown",
   "metadata": {
    "collapsed": false
   },
   "source": [
    "### Plot path through input space"
   ]
  },
  {
   "cell_type": "code",
   "execution_count": 5,
   "metadata": {
    "collapsed": false,
    "execution": {
     "iopub.execute_input": "2024-01-30T19:11:42.693977Z",
     "iopub.status.busy": "2024-01-30T19:11:42.693460Z",
     "iopub.status.idle": "2024-01-30T19:11:42.817492Z",
     "shell.execute_reply": "2024-01-30T19:11:42.816887Z"
    }
   },
   "outputs": [
    {
     "data": {
      "image/png": "[encoded data removed]",
      "text/plain": [
       "<Figure size 640x480 with 1 Axes>"
      ]
     },
     "metadata": {},
     "output_type": "display_data"
    }
   ],
   "source": [
    "ax = history.plot(\"x1\", \"x2\")\n",
    "ax.set_ylim(0, 3.14)\n",
    "ax.set_xlim(0, 3.14)\n",
    "ax.set_aspect(\"equal\")"
   ]
  },
  {
   "cell_type": "code",
   "execution_count": 6,
   "metadata": {
    "collapsed": false,
    "execution": {
     "iopub.execute_input": "2024-01-30T19:11:42.819988Z",
     "iopub.status.busy": "2024-01-30T19:11:42.819527Z",
     "iopub.status.idle": "2024-01-30T19:11:46.938195Z",
     "shell.execute_reply": "2024-01-30T19:11:46.937596Z"
    }
   },
   "outputs": [
    {
     "name": "stdout",
     "output_type": "stream",
     "text": [
      "[[1.00057771 0.15278313]]\n"
     ]
    },
    {
     "data": {
      "text/plain": [
       "[<matplotlib.lines.Line2D at 0x7f0154afb520>]"
      ]
     },
     "execution_count": 6,
     "metadata": {},
     "output_type": "execute_result"
    },
    {
     "data": {
      "image/png": "[encoded data removed]",
      "text/plain": [
       "<Figure size 800x800 with 2 Axes>"
      ]
     },
     "metadata": {},
     "output_type": "display_data"
    },
    {
     "data": {
      "image/png": "[encoded data removed]",
      "text/plain": [
       "<Figure size 800x800 with 2 Axes>"
      ]
     },
     "metadata": {},
     "output_type": "display_data"
    }
   ],
   "source": [
    "# plot the acquisition function\n",
    "from xopt.generators.bayesian.objectives import feasibility\n",
    "\n",
    "bounds = X.generator.vocs.bounds\n",
    "model = X.generator.model\n",
    "\n",
    "# create mesh\n",
    "n = 100\n",
    "x = torch.linspace(*bounds.T[0], n)\n",
    "y = torch.linspace(*bounds.T[1], n)\n",
    "xx, yy = torch.meshgrid(x, y)\n",
    "pts = torch.hstack([ele.reshape(-1, 1) for ele in (xx, yy)]).double()\n",
    "\n",
    "xx, yy = xx.numpy(), yy.numpy()\n",
    "\n",
    "acq_func = X.generator.get_acquisition(model)\n",
    "with torch.no_grad():\n",
    "    acq_pts = pts.unsqueeze(1)\n",
    "    acq = acq_func(acq_pts)\n",
    "\n",
    "    fig, ax = plt.subplots(figsize=(8,8))\n",
    "    c = ax.pcolor(xx, yy, acq.reshape(n, n), cmap=\"Blues\")\n",
    "    fig.colorbar(c)\n",
    "    ax.set_title(\"Acquisition function\")\n",
    "\n",
    "    ax.plot(*history[[\"x1\", \"x2\"]][history[\"feasible\"]].to_numpy().T, \".C1\")\n",
    "    ax.plot(*history[[\"x1\", \"x2\"]][~history[\"feasible\"]].to_numpy().T, \".C2\")\n",
    "\n",
    "    ax.plot(*history[[\"x1\", \"x2\"]].to_numpy()[-1].T, \"+\")\n",
    "\n",
    "    feas = feasibility(pts.unsqueeze(1), model, X.vocs).flatten()\n",
    "\n",
    "    fig2, ax2 = plt.subplots(figsize=(8,8))\n",
    "    c = ax2.pcolor(xx, yy, feas.reshape(n, n))\n",
    "    fig2.colorbar(c)\n",
    "    ax2.set_title(\"Feasible Region\")\n",
    "\n",
    "candidate = pd.DataFrame(X.generator.generate(1), index=[0])\n",
    "print(candidate[[\"x1\", \"x2\"]].to_numpy())\n",
    "ax.plot(*candidate[[\"x1\", \"x2\"]].to_numpy()[0], \"o\")"
   ]
  }
 ],
 "metadata": {
  "interpreter": {
   "hash": "72034539424920dfb606fe3b820b3f27dca0cbf1c69938110810ec4641e275b1"
  },
  "kernelspec": {
   "display_name": "Python 3 (ipykernel)",
   "language": "python",
   "name": "python3"
  },
  "language_info": {
   "codemirror_mode": {
    "name": "ipython",
    "version": 3
   },
   "file_extension": ".py",
   "mimetype": "text/x-python",
   "name": "python",
   "nbconvert_exporter": "python",
   "pygments_lexer": "ipython3",
   "version": "3.9.18"
  }
 },
 "nbformat": 4,
 "nbformat_minor": 4
}
