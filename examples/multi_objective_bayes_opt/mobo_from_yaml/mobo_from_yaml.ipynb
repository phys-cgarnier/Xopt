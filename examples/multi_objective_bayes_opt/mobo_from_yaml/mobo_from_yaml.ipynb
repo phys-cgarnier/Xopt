{
 "cells": [
  {
   "cell_type": "markdown",
   "metadata": {},
   "source": [
    "\n",
    "# Multi-objective Bayesian Optimization\n",
    "\n",
    "\n",
    "TNK function\n",
    "$n=2$ variables:\n",
    "$x_i \\in [0, \\pi], i=1,2$\n",
    "\n",
    "Objectives:\n",
    "- $f_i(x) = x_i$\n",
    "\n",
    "Constraints:\n",
    "- $g_1(x) = -x_1^2 -x_2^2 + 1 + 0.1 \\cos\\left(16 \\arctan \\frac{x_1}{x_2}\\right) \\le 0$\n",
    "- $g_2(x) = (x_1 - 1/2)^2 + (x_2-1/2)^2 \\le 0.5$"
   ]
  },
  {
   "cell_type": "code",
   "execution_count": 1,
   "metadata": {
    "collapsed": false,
    "execution": {
     "iopub.execute_input": "2024-03-20T15:35:39.951720Z",
     "iopub.status.busy": "2024-03-20T15:35:39.951228Z",
     "iopub.status.idle": "2024-03-20T15:35:41.483068Z",
     "shell.execute_reply": "2024-03-20T15:35:41.482479Z"
    }
   },
   "outputs": [],
   "source": [
    "import os\n",
    "SMOKE_TEST = os.environ.get(\"SMOKE_TEST\")\n",
    "NUM_STEPS = 2 if SMOKE_TEST else 50\n",
    "\n",
    "# Ignore all warnings\n",
    "import warnings\n",
    "warnings.filterwarnings(\"ignore\")\n",
    "\n",
    "import torch\n",
    "from xopt import Xopt\n",
    "\n",
    "\n",
    "YAML = \"\"\"\n",
    "generator:\n",
    "    name: mobo\n",
    "    reference_point: {y1: 1.5, y2: 1.5}\n",
    "\n",
    "evaluator:\n",
    "    function: xopt.resources.test_functions.tnk.evaluate_TNK\n",
    "\n",
    "vocs:\n",
    "    variables:\n",
    "        x1: [0, 3.14159]\n",
    "        x2: [0, 3.14159]\n",
    "    objectives: {y1: MINIMIZE, y2: MINIMIZE}\n",
    "    constraints:\n",
    "        c1: [GREATER_THAN, 0]\n",
    "        c2: [LESS_THAN, 0.5]\n",
    "    constants: {a: dummy_constant}\n",
    "\n",
    "\"\"\""
   ]
  },
  {
   "cell_type": "code",
   "execution_count": 2,
   "metadata": {
    "collapsed": false,
    "execution": {
     "iopub.execute_input": "2024-03-20T15:35:41.485922Z",
     "iopub.status.busy": "2024-03-20T15:35:41.485457Z",
     "iopub.status.idle": "2024-03-20T15:36:46.671518Z",
     "shell.execute_reply": "2024-03-20T15:36:46.670832Z"
    }
   },
   "outputs": [
    {
     "name": "stdout",
     "output_type": "stream",
     "text": [
      "0\n"
     ]
    },
    {
     "name": "stdout",
     "output_type": "stream",
     "text": [
      "1\n"
     ]
    },
    {
     "name": "stdout",
     "output_type": "stream",
     "text": [
      "2\n"
     ]
    },
    {
     "name": "stdout",
     "output_type": "stream",
     "text": [
      "3\n"
     ]
    },
    {
     "name": "stdout",
     "output_type": "stream",
     "text": [
      "4\n"
     ]
    },
    {
     "name": "stdout",
     "output_type": "stream",
     "text": [
      "5\n"
     ]
    },
    {
     "name": "stdout",
     "output_type": "stream",
     "text": [
      "6\n"
     ]
    },
    {
     "name": "stdout",
     "output_type": "stream",
     "text": [
      "7\n"
     ]
    },
    {
     "name": "stdout",
     "output_type": "stream",
     "text": [
      "8\n"
     ]
    },
    {
     "name": "stdout",
     "output_type": "stream",
     "text": [
      "9\n"
     ]
    },
    {
     "name": "stdout",
     "output_type": "stream",
     "text": [
      "10\n"
     ]
    },
    {
     "name": "stdout",
     "output_type": "stream",
     "text": [
      "11\n"
     ]
    },
    {
     "name": "stdout",
     "output_type": "stream",
     "text": [
      "12\n"
     ]
    },
    {
     "name": "stdout",
     "output_type": "stream",
     "text": [
      "13\n"
     ]
    },
    {
     "name": "stdout",
     "output_type": "stream",
     "text": [
      "14\n"
     ]
    },
    {
     "name": "stdout",
     "output_type": "stream",
     "text": [
      "15\n"
     ]
    },
    {
     "name": "stdout",
     "output_type": "stream",
     "text": [
      "16\n"
     ]
    },
    {
     "name": "stdout",
     "output_type": "stream",
     "text": [
      "17\n"
     ]
    },
    {
     "name": "stdout",
     "output_type": "stream",
     "text": [
      "18\n"
     ]
    },
    {
     "name": "stdout",
     "output_type": "stream",
     "text": [
      "19\n"
     ]
    },
    {
     "name": "stdout",
     "output_type": "stream",
     "text": [
      "20\n"
     ]
    },
    {
     "name": "stdout",
     "output_type": "stream",
     "text": [
      "21\n"
     ]
    },
    {
     "name": "stdout",
     "output_type": "stream",
     "text": [
      "22\n"
     ]
    },
    {
     "name": "stdout",
     "output_type": "stream",
     "text": [
      "23\n"
     ]
    },
    {
     "name": "stdout",
     "output_type": "stream",
     "text": [
      "24\n"
     ]
    },
    {
     "name": "stdout",
     "output_type": "stream",
     "text": [
      "25\n"
     ]
    },
    {
     "name": "stdout",
     "output_type": "stream",
     "text": [
      "26\n"
     ]
    },
    {
     "name": "stdout",
     "output_type": "stream",
     "text": [
      "27\n"
     ]
    },
    {
     "name": "stdout",
     "output_type": "stream",
     "text": [
      "28\n"
     ]
    },
    {
     "name": "stdout",
     "output_type": "stream",
     "text": [
      "29\n"
     ]
    },
    {
     "name": "stdout",
     "output_type": "stream",
     "text": [
      "30\n"
     ]
    },
    {
     "name": "stdout",
     "output_type": "stream",
     "text": [
      "31\n"
     ]
    },
    {
     "name": "stdout",
     "output_type": "stream",
     "text": [
      "32\n"
     ]
    },
    {
     "name": "stdout",
     "output_type": "stream",
     "text": [
      "33\n"
     ]
    },
    {
     "name": "stdout",
     "output_type": "stream",
     "text": [
      "34\n"
     ]
    },
    {
     "name": "stdout",
     "output_type": "stream",
     "text": [
      "35\n"
     ]
    },
    {
     "name": "stdout",
     "output_type": "stream",
     "text": [
      "36\n"
     ]
    },
    {
     "name": "stdout",
     "output_type": "stream",
     "text": [
      "37\n"
     ]
    },
    {
     "name": "stdout",
     "output_type": "stream",
     "text": [
      "38\n"
     ]
    },
    {
     "name": "stdout",
     "output_type": "stream",
     "text": [
      "39\n"
     ]
    },
    {
     "name": "stdout",
     "output_type": "stream",
     "text": [
      "40\n"
     ]
    },
    {
     "name": "stdout",
     "output_type": "stream",
     "text": [
      "41\n"
     ]
    },
    {
     "name": "stdout",
     "output_type": "stream",
     "text": [
      "42\n"
     ]
    },
    {
     "name": "stdout",
     "output_type": "stream",
     "text": [
      "43\n"
     ]
    },
    {
     "name": "stdout",
     "output_type": "stream",
     "text": [
      "44\n"
     ]
    },
    {
     "name": "stdout",
     "output_type": "stream",
     "text": [
      "45\n"
     ]
    },
    {
     "name": "stdout",
     "output_type": "stream",
     "text": [
      "46\n"
     ]
    },
    {
     "name": "stdout",
     "output_type": "stream",
     "text": [
      "47\n"
     ]
    },
    {
     "name": "stdout",
     "output_type": "stream",
     "text": [
      "48\n"
     ]
    },
    {
     "name": "stdout",
     "output_type": "stream",
     "text": [
      "49\n"
     ]
    }
   ],
   "source": [
    "X = Xopt.from_yaml(YAML)\n",
    "\n",
    "# for testing purposes only\n",
    "if SMOKE_TEST:\n",
    "    X.generator.numerical_optimizer.n_restarts = 1\n",
    "    X.generator.n_monte_carlo_samples = 1\n",
    "\n",
    "X.random_evaluate(5)\n",
    "for i in range(NUM_STEPS):\n",
    "    print(i)\n",
    "    X.step()"
   ]
  },
  {
   "cell_type": "code",
   "execution_count": 3,
   "metadata": {
    "collapsed": false,
    "execution": {
     "iopub.execute_input": "2024-03-20T15:36:46.674728Z",
     "iopub.status.busy": "2024-03-20T15:36:46.674248Z",
     "iopub.status.idle": "2024-03-20T15:36:46.692610Z",
     "shell.execute_reply": "2024-03-20T15:36:46.692014Z"
    }
   },
   "outputs": [
    {
     "data": {
      "text/html": [
       "<div>\n",
       "<style scoped>\n",
       "    .dataframe tbody tr th:only-of-type {\n",
       "        vertical-align: middle;\n",
       "    }\n",
       "\n",
       "    .dataframe tbody tr th {\n",
       "        vertical-align: top;\n",
       "    }\n",
       "\n",
       "    .dataframe thead th {\n",
       "        text-align: right;\n",
       "    }\n",
       "</style>\n",
       "<table border=\"1\" class=\"dataframe\">\n",
       "  <thead>\n",
       "    <tr style=\"text-align: right;\">\n",
       "      <th></th>\n",
       "      <th>x1</th>\n",
       "      <th>x2</th>\n",
       "      <th>a</th>\n",
       "      <th>y1</th>\n",
       "      <th>y2</th>\n",
       "      <th>c1</th>\n",
       "      <th>c2</th>\n",
       "      <th>xopt_runtime</th>\n",
       "      <th>xopt_error</th>\n",
       "    </tr>\n",
       "  </thead>\n",
       "  <tbody>\n",
       "    <tr>\n",
       "      <th>0</th>\n",
       "      <td>2.441679</td>\n",
       "      <td>2.820130</td>\n",
       "      <td>dummy_constant</td>\n",
       "      <td>2.441679</td>\n",
       "      <td>2.820130</td>\n",
       "      <td>12.873970</td>\n",
       "      <td>9.153119</td>\n",
       "      <td>0.000034</td>\n",
       "      <td>False</td>\n",
       "    </tr>\n",
       "    <tr>\n",
       "      <th>1</th>\n",
       "      <td>0.463762</td>\n",
       "      <td>0.687329</td>\n",
       "      <td>dummy_constant</td>\n",
       "      <td>0.463762</td>\n",
       "      <td>0.687329</td>\n",
       "      <td>-0.212764</td>\n",
       "      <td>0.036406</td>\n",
       "      <td>0.000009</td>\n",
       "      <td>False</td>\n",
       "    </tr>\n",
       "    <tr>\n",
       "      <th>2</th>\n",
       "      <td>2.705690</td>\n",
       "      <td>2.691542</td>\n",
       "      <td>dummy_constant</td>\n",
       "      <td>2.705690</td>\n",
       "      <td>2.691542</td>\n",
       "      <td>13.465245</td>\n",
       "      <td>9.667925</td>\n",
       "      <td>0.000007</td>\n",
       "      <td>False</td>\n",
       "    </tr>\n",
       "    <tr>\n",
       "      <th>3</th>\n",
       "      <td>2.675778</td>\n",
       "      <td>2.701462</td>\n",
       "      <td>dummy_constant</td>\n",
       "      <td>2.675778</td>\n",
       "      <td>2.701462</td>\n",
       "      <td>13.357978</td>\n",
       "      <td>9.580446</td>\n",
       "      <td>0.000006</td>\n",
       "      <td>False</td>\n",
       "    </tr>\n",
       "    <tr>\n",
       "      <th>4</th>\n",
       "      <td>0.664027</td>\n",
       "      <td>0.524404</td>\n",
       "      <td>dummy_constant</td>\n",
       "      <td>0.664027</td>\n",
       "      <td>0.524404</td>\n",
       "      <td>-0.254479</td>\n",
       "      <td>0.027500</td>\n",
       "      <td>0.000006</td>\n",
       "      <td>False</td>\n",
       "    </tr>\n",
       "    <tr>\n",
       "      <th>5</th>\n",
       "      <td>0.452053</td>\n",
       "      <td>0.794137</td>\n",
       "      <td>dummy_constant</td>\n",
       "      <td>0.452053</td>\n",
       "      <td>0.794137</td>\n",
       "      <td>-0.123681</td>\n",
       "      <td>0.088815</td>\n",
       "      <td>0.000026</td>\n",
       "      <td>False</td>\n",
       "    </tr>\n",
       "    <tr>\n",
       "      <th>6</th>\n",
       "      <td>0.394663</td>\n",
       "      <td>0.887438</td>\n",
       "      <td>dummy_constant</td>\n",
       "      <td>0.394663</td>\n",
       "      <td>0.887438</td>\n",
       "      <td>-0.148324</td>\n",
       "      <td>0.161204</td>\n",
       "      <td>0.000025</td>\n",
       "      <td>False</td>\n",
       "    </tr>\n",
       "    <tr>\n",
       "      <th>7</th>\n",
       "      <td>0.113733</td>\n",
       "      <td>0.263974</td>\n",
       "      <td>dummy_constant</td>\n",
       "      <td>0.113733</td>\n",
       "      <td>0.263974</td>\n",
       "      <td>-1.014844</td>\n",
       "      <td>0.204911</td>\n",
       "      <td>0.000025</td>\n",
       "      <td>False</td>\n",
       "    </tr>\n",
       "    <tr>\n",
       "      <th>8</th>\n",
       "      <td>0.653065</td>\n",
       "      <td>0.772563</td>\n",
       "      <td>dummy_constant</td>\n",
       "      <td>0.653065</td>\n",
       "      <td>0.772563</td>\n",
       "      <td>0.000278</td>\n",
       "      <td>0.097719</td>\n",
       "      <td>0.000025</td>\n",
       "      <td>False</td>\n",
       "    </tr>\n",
       "    <tr>\n",
       "      <th>9</th>\n",
       "      <td>0.834675</td>\n",
       "      <td>0.708880</td>\n",
       "      <td>dummy_constant</td>\n",
       "      <td>0.834675</td>\n",
       "      <td>0.708880</td>\n",
       "      <td>0.172547</td>\n",
       "      <td>0.155638</td>\n",
       "      <td>0.000025</td>\n",
       "      <td>False</td>\n",
       "    </tr>\n",
       "    <tr>\n",
       "      <th>10</th>\n",
       "      <td>0.999755</td>\n",
       "      <td>0.435672</td>\n",
       "      <td>dummy_constant</td>\n",
       "      <td>0.999755</td>\n",
       "      <td>0.435672</td>\n",
       "      <td>0.093560</td>\n",
       "      <td>0.253893</td>\n",
       "      <td>0.000042</td>\n",
       "      <td>False</td>\n",
       "    </tr>\n",
       "    <tr>\n",
       "      <th>11</th>\n",
       "      <td>0.243025</td>\n",
       "      <td>1.032430</td>\n",
       "      <td>dummy_constant</td>\n",
       "      <td>0.243025</td>\n",
       "      <td>1.032430</td>\n",
       "      <td>0.209839</td>\n",
       "      <td>0.349518</td>\n",
       "      <td>0.000026</td>\n",
       "      <td>False</td>\n",
       "    </tr>\n",
       "    <tr>\n",
       "      <th>12</th>\n",
       "      <td>0.000000</td>\n",
       "      <td>0.894963</td>\n",
       "      <td>dummy_constant</td>\n",
       "      <td>0.000000</td>\n",
       "      <td>0.894963</td>\n",
       "      <td>-0.299041</td>\n",
       "      <td>0.405996</td>\n",
       "      <td>0.000027</td>\n",
       "      <td>False</td>\n",
       "    </tr>\n",
       "    <tr>\n",
       "      <th>13</th>\n",
       "      <td>0.070637</td>\n",
       "      <td>1.014770</td>\n",
       "      <td>dummy_constant</td>\n",
       "      <td>0.070637</td>\n",
       "      <td>1.014770</td>\n",
       "      <td>-0.009543</td>\n",
       "      <td>0.449341</td>\n",
       "      <td>0.000025</td>\n",
       "      <td>False</td>\n",
       "    </tr>\n",
       "    <tr>\n",
       "      <th>14</th>\n",
       "      <td>0.927239</td>\n",
       "      <td>0.009216</td>\n",
       "      <td>dummy_constant</td>\n",
       "      <td>0.927239</td>\n",
       "      <td>0.009216</td>\n",
       "      <td>-0.238881</td>\n",
       "      <td>0.423403</td>\n",
       "      <td>0.000025</td>\n",
       "      <td>False</td>\n",
       "    </tr>\n",
       "    <tr>\n",
       "      <th>15</th>\n",
       "      <td>0.934930</td>\n",
       "      <td>0.020710</td>\n",
       "      <td>dummy_constant</td>\n",
       "      <td>0.934930</td>\n",
       "      <td>0.020710</td>\n",
       "      <td>-0.219263</td>\n",
       "      <td>0.418883</td>\n",
       "      <td>0.000024</td>\n",
       "      <td>False</td>\n",
       "    </tr>\n",
       "    <tr>\n",
       "      <th>16</th>\n",
       "      <td>1.258153</td>\n",
       "      <td>0.576039</td>\n",
       "      <td>dummy_constant</td>\n",
       "      <td>1.258153</td>\n",
       "      <td>0.576039</td>\n",
       "      <td>0.831484</td>\n",
       "      <td>0.580577</td>\n",
       "      <td>0.000027</td>\n",
       "      <td>False</td>\n",
       "    </tr>\n",
       "    <tr>\n",
       "      <th>17</th>\n",
       "      <td>1.082322</td>\n",
       "      <td>0.143978</td>\n",
       "      <td>dummy_constant</td>\n",
       "      <td>1.082322</td>\n",
       "      <td>0.143978</td>\n",
       "      <td>0.244011</td>\n",
       "      <td>0.465850</td>\n",
       "      <td>0.000025</td>\n",
       "      <td>False</td>\n",
       "    </tr>\n",
       "    <tr>\n",
       "      <th>18</th>\n",
       "      <td>0.813501</td>\n",
       "      <td>0.632599</td>\n",
       "      <td>dummy_constant</td>\n",
       "      <td>0.813501</td>\n",
       "      <td>0.632599</td>\n",
       "      <td>0.102777</td>\n",
       "      <td>0.115865</td>\n",
       "      <td>0.000025</td>\n",
       "      <td>False</td>\n",
       "    </tr>\n",
       "    <tr>\n",
       "      <th>19</th>\n",
       "      <td>1.022149</td>\n",
       "      <td>0.074870</td>\n",
       "      <td>dummy_constant</td>\n",
       "      <td>1.022149</td>\n",
       "      <td>0.074870</td>\n",
       "      <td>0.011368</td>\n",
       "      <td>0.453376</td>\n",
       "      <td>0.000026</td>\n",
       "      <td>False</td>\n",
       "    </tr>\n",
       "    <tr>\n",
       "      <th>20</th>\n",
       "      <td>0.795290</td>\n",
       "      <td>0.250952</td>\n",
       "      <td>dummy_constant</td>\n",
       "      <td>0.795290</td>\n",
       "      <td>0.250952</td>\n",
       "      <td>-0.322259</td>\n",
       "      <td>0.149221</td>\n",
       "      <td>0.000025</td>\n",
       "      <td>False</td>\n",
       "    </tr>\n",
       "    <tr>\n",
       "      <th>21</th>\n",
       "      <td>0.430288</td>\n",
       "      <td>0.930026</td>\n",
       "      <td>dummy_constant</td>\n",
       "      <td>0.430288</td>\n",
       "      <td>0.930026</td>\n",
       "      <td>-0.029503</td>\n",
       "      <td>0.189782</td>\n",
       "      <td>0.000025</td>\n",
       "      <td>False</td>\n",
       "    </tr>\n",
       "    <tr>\n",
       "      <th>22</th>\n",
       "      <td>0.560777</td>\n",
       "      <td>0.878936</td>\n",
       "      <td>dummy_constant</td>\n",
       "      <td>0.560777</td>\n",
       "      <td>0.878936</td>\n",
       "      <td>0.181333</td>\n",
       "      <td>0.147287</td>\n",
       "      <td>0.000026</td>\n",
       "      <td>False</td>\n",
       "    </tr>\n",
       "    <tr>\n",
       "      <th>23</th>\n",
       "      <td>0.916087</td>\n",
       "      <td>0.474591</td>\n",
       "      <td>dummy_constant</td>\n",
       "      <td>0.916087</td>\n",
       "      <td>0.474591</td>\n",
       "      <td>0.043989</td>\n",
       "      <td>0.173774</td>\n",
       "      <td>0.000025</td>\n",
       "      <td>False</td>\n",
       "    </tr>\n",
       "    <tr>\n",
       "      <th>24</th>\n",
       "      <td>0.529786</td>\n",
       "      <td>0.429995</td>\n",
       "      <td>dummy_constant</td>\n",
       "      <td>0.529786</td>\n",
       "      <td>0.429995</td>\n",
       "      <td>-0.525761</td>\n",
       "      <td>0.005788</td>\n",
       "      <td>0.000024</td>\n",
       "      <td>False</td>\n",
       "    </tr>\n",
       "    <tr>\n",
       "      <th>25</th>\n",
       "      <td>0.768642</td>\n",
       "      <td>0.040482</td>\n",
       "      <td>dummy_constant</td>\n",
       "      <td>0.768642</td>\n",
       "      <td>0.040482</td>\n",
       "      <td>-0.474156</td>\n",
       "      <td>0.283326</td>\n",
       "      <td>0.000026</td>\n",
       "      <td>False</td>\n",
       "    </tr>\n",
       "    <tr>\n",
       "      <th>26</th>\n",
       "      <td>0.295811</td>\n",
       "      <td>0.972613</td>\n",
       "      <td>dummy_constant</td>\n",
       "      <td>0.295811</td>\n",
       "      <td>0.972613</td>\n",
       "      <td>0.032318</td>\n",
       "      <td>0.265056</td>\n",
       "      <td>0.000026</td>\n",
       "      <td>False</td>\n",
       "    </tr>\n",
       "    <tr>\n",
       "      <th>27</th>\n",
       "      <td>0.270289</td>\n",
       "      <td>0.403582</td>\n",
       "      <td>dummy_constant</td>\n",
       "      <td>0.270289</td>\n",
       "      <td>0.403582</td>\n",
       "      <td>-0.664080</td>\n",
       "      <td>0.062064</td>\n",
       "      <td>0.000025</td>\n",
       "      <td>False</td>\n",
       "    </tr>\n",
       "    <tr>\n",
       "      <th>28</th>\n",
       "      <td>0.616402</td>\n",
       "      <td>0.218337</td>\n",
       "      <td>dummy_constant</td>\n",
       "      <td>0.616402</td>\n",
       "      <td>0.218337</td>\n",
       "      <td>-0.639389</td>\n",
       "      <td>0.092883</td>\n",
       "      <td>0.000026</td>\n",
       "      <td>False</td>\n",
       "    </tr>\n",
       "    <tr>\n",
       "      <th>29</th>\n",
       "      <td>0.853931</td>\n",
       "      <td>0.559331</td>\n",
       "      <td>dummy_constant</td>\n",
       "      <td>0.853931</td>\n",
       "      <td>0.559331</td>\n",
       "      <td>0.140977</td>\n",
       "      <td>0.128787</td>\n",
       "      <td>0.000025</td>\n",
       "      <td>False</td>\n",
       "    </tr>\n",
       "    <tr>\n",
       "      <th>30</th>\n",
       "      <td>0.091999</td>\n",
       "      <td>1.048359</td>\n",
       "      <td>dummy_constant</td>\n",
       "      <td>0.091999</td>\n",
       "      <td>1.048359</td>\n",
       "      <td>0.090572</td>\n",
       "      <td>0.467162</td>\n",
       "      <td>0.000031</td>\n",
       "      <td>False</td>\n",
       "    </tr>\n",
       "    <tr>\n",
       "      <th>31</th>\n",
       "      <td>0.115731</td>\n",
       "      <td>0.949448</td>\n",
       "      <td>dummy_constant</td>\n",
       "      <td>0.115731</td>\n",
       "      <td>0.949448</td>\n",
       "      <td>-0.049001</td>\n",
       "      <td>0.349666</td>\n",
       "      <td>0.000025</td>\n",
       "      <td>False</td>\n",
       "    </tr>\n",
       "    <tr>\n",
       "      <th>32</th>\n",
       "      <td>0.932915</td>\n",
       "      <td>0.182400</td>\n",
       "      <td>dummy_constant</td>\n",
       "      <td>0.932915</td>\n",
       "      <td>0.182400</td>\n",
       "      <td>0.003463</td>\n",
       "      <td>0.288285</td>\n",
       "      <td>0.000026</td>\n",
       "      <td>False</td>\n",
       "    </tr>\n",
       "    <tr>\n",
       "      <th>33</th>\n",
       "      <td>0.373877</td>\n",
       "      <td>0.827289</td>\n",
       "      <td>dummy_constant</td>\n",
       "      <td>0.373877</td>\n",
       "      <td>0.827289</td>\n",
       "      <td>-0.263175</td>\n",
       "      <td>0.123025</td>\n",
       "      <td>0.000025</td>\n",
       "      <td>False</td>\n",
       "    </tr>\n",
       "    <tr>\n",
       "      <th>34</th>\n",
       "      <td>0.976361</td>\n",
       "      <td>0.260536</td>\n",
       "      <td>dummy_constant</td>\n",
       "      <td>0.976361</td>\n",
       "      <td>0.260536</td>\n",
       "      <td>0.072582</td>\n",
       "      <td>0.284263</td>\n",
       "      <td>0.000023</td>\n",
       "      <td>False</td>\n",
       "    </tr>\n",
       "    <tr>\n",
       "      <th>35</th>\n",
       "      <td>1.037086</td>\n",
       "      <td>0.050654</td>\n",
       "      <td>dummy_constant</td>\n",
       "      <td>1.037086</td>\n",
       "      <td>0.050654</td>\n",
       "      <td>0.007083</td>\n",
       "      <td>0.490374</td>\n",
       "      <td>0.000026</td>\n",
       "      <td>False</td>\n",
       "    </tr>\n",
       "    <tr>\n",
       "      <th>36</th>\n",
       "      <td>0.994592</td>\n",
       "      <td>0.170522</td>\n",
       "      <td>dummy_constant</td>\n",
       "      <td>0.994592</td>\n",
       "      <td>0.170522</td>\n",
       "      <td>0.109402</td>\n",
       "      <td>0.353177</td>\n",
       "      <td>0.000026</td>\n",
       "      <td>False</td>\n",
       "    </tr>\n",
       "    <tr>\n",
       "      <th>37</th>\n",
       "      <td>0.527663</td>\n",
       "      <td>0.527827</td>\n",
       "      <td>dummy_constant</td>\n",
       "      <td>0.527663</td>\n",
       "      <td>0.527827</td>\n",
       "      <td>-0.542971</td>\n",
       "      <td>0.001540</td>\n",
       "      <td>0.000025</td>\n",
       "      <td>False</td>\n",
       "    </tr>\n",
       "    <tr>\n",
       "      <th>38</th>\n",
       "      <td>1.047539</td>\n",
       "      <td>0.069352</td>\n",
       "      <td>dummy_constant</td>\n",
       "      <td>1.047539</td>\n",
       "      <td>0.069352</td>\n",
       "      <td>0.053062</td>\n",
       "      <td>0.485257</td>\n",
       "      <td>0.000026</td>\n",
       "      <td>False</td>\n",
       "    </tr>\n",
       "    <tr>\n",
       "      <th>39</th>\n",
       "      <td>0.091174</td>\n",
       "      <td>0.391077</td>\n",
       "      <td>dummy_constant</td>\n",
       "      <td>0.091174</td>\n",
       "      <td>0.391077</td>\n",
       "      <td>-0.752120</td>\n",
       "      <td>0.179003</td>\n",
       "      <td>0.000026</td>\n",
       "      <td>False</td>\n",
       "    </tr>\n",
       "    <tr>\n",
       "      <th>40</th>\n",
       "      <td>0.114786</td>\n",
       "      <td>1.439725</td>\n",
       "      <td>dummy_constant</td>\n",
       "      <td>0.114786</td>\n",
       "      <td>1.439725</td>\n",
       "      <td>1.056639</td>\n",
       "      <td>1.031474</td>\n",
       "      <td>0.000025</td>\n",
       "      <td>False</td>\n",
       "    </tr>\n",
       "    <tr>\n",
       "      <th>41</th>\n",
       "      <td>0.050769</td>\n",
       "      <td>1.032299</td>\n",
       "      <td>dummy_constant</td>\n",
       "      <td>0.050769</td>\n",
       "      <td>1.032299</td>\n",
       "      <td>-0.002432</td>\n",
       "      <td>0.485151</td>\n",
       "      <td>0.000026</td>\n",
       "      <td>False</td>\n",
       "    </tr>\n",
       "    <tr>\n",
       "      <th>42</th>\n",
       "      <td>0.738962</td>\n",
       "      <td>0.701353</td>\n",
       "      <td>dummy_constant</td>\n",
       "      <td>0.738962</td>\n",
       "      <td>0.701353</td>\n",
       "      <td>-0.053441</td>\n",
       "      <td>0.097646</td>\n",
       "      <td>0.000026</td>\n",
       "      <td>False</td>\n",
       "    </tr>\n",
       "    <tr>\n",
       "      <th>43</th>\n",
       "      <td>0.034817</td>\n",
       "      <td>0.670873</td>\n",
       "      <td>dummy_constant</td>\n",
       "      <td>0.034817</td>\n",
       "      <td>0.670873</td>\n",
       "      <td>-0.616233</td>\n",
       "      <td>0.245593</td>\n",
       "      <td>0.000026</td>\n",
       "      <td>False</td>\n",
       "    </tr>\n",
       "    <tr>\n",
       "      <th>44</th>\n",
       "      <td>0.795983</td>\n",
       "      <td>0.613521</td>\n",
       "      <td>dummy_constant</td>\n",
       "      <td>0.795983</td>\n",
       "      <td>0.613521</td>\n",
       "      <td>0.056968</td>\n",
       "      <td>0.100493</td>\n",
       "      <td>0.000025</td>\n",
       "      <td>False</td>\n",
       "    </tr>\n",
       "    <tr>\n",
       "      <th>45</th>\n",
       "      <td>0.932758</td>\n",
       "      <td>0.349916</td>\n",
       "      <td>dummy_constant</td>\n",
       "      <td>0.932758</td>\n",
       "      <td>0.349916</td>\n",
       "      <td>-0.093248</td>\n",
       "      <td>0.209804</td>\n",
       "      <td>0.000026</td>\n",
       "      <td>False</td>\n",
       "    </tr>\n",
       "    <tr>\n",
       "      <th>46</th>\n",
       "      <td>0.242212</td>\n",
       "      <td>0.803244</td>\n",
       "      <td>dummy_constant</td>\n",
       "      <td>0.242212</td>\n",
       "      <td>0.803244</td>\n",
       "      <td>-0.293488</td>\n",
       "      <td>0.158411</td>\n",
       "      <td>0.000027</td>\n",
       "      <td>False</td>\n",
       "    </tr>\n",
       "    <tr>\n",
       "      <th>47</th>\n",
       "      <td>1.008185</td>\n",
       "      <td>0.122513</td>\n",
       "      <td>dummy_constant</td>\n",
       "      <td>1.008185</td>\n",
       "      <td>0.122513</td>\n",
       "      <td>0.067048</td>\n",
       "      <td>0.400748</td>\n",
       "      <td>0.000025</td>\n",
       "      <td>False</td>\n",
       "    </tr>\n",
       "    <tr>\n",
       "      <th>48</th>\n",
       "      <td>0.882249</td>\n",
       "      <td>0.493760</td>\n",
       "      <td>dummy_constant</td>\n",
       "      <td>0.882249</td>\n",
       "      <td>0.493760</td>\n",
       "      <td>0.052640</td>\n",
       "      <td>0.146153</td>\n",
       "      <td>0.000026</td>\n",
       "      <td>False</td>\n",
       "    </tr>\n",
       "    <tr>\n",
       "      <th>49</th>\n",
       "      <td>1.141768</td>\n",
       "      <td>0.129054</td>\n",
       "      <td>dummy_constant</td>\n",
       "      <td>1.141768</td>\n",
       "      <td>0.129054</td>\n",
       "      <td>0.343091</td>\n",
       "      <td>0.549466</td>\n",
       "      <td>0.000028</td>\n",
       "      <td>False</td>\n",
       "    </tr>\n",
       "    <tr>\n",
       "      <th>50</th>\n",
       "      <td>0.485669</td>\n",
       "      <td>0.011782</td>\n",
       "      <td>dummy_constant</td>\n",
       "      <td>0.485669</td>\n",
       "      <td>0.011782</td>\n",
       "      <td>-0.856551</td>\n",
       "      <td>0.238562</td>\n",
       "      <td>0.000026</td>\n",
       "      <td>False</td>\n",
       "    </tr>\n",
       "    <tr>\n",
       "      <th>51</th>\n",
       "      <td>0.070760</td>\n",
       "      <td>1.142022</td>\n",
       "      <td>dummy_constant</td>\n",
       "      <td>0.070760</td>\n",
       "      <td>1.142022</td>\n",
       "      <td>0.254360</td>\n",
       "      <td>0.596438</td>\n",
       "      <td>0.000035</td>\n",
       "      <td>False</td>\n",
       "    </tr>\n",
       "    <tr>\n",
       "      <th>52</th>\n",
       "      <td>0.878055</td>\n",
       "      <td>0.091528</td>\n",
       "      <td>dummy_constant</td>\n",
       "      <td>0.878055</td>\n",
       "      <td>0.091528</td>\n",
       "      <td>-0.211551</td>\n",
       "      <td>0.309775</td>\n",
       "      <td>0.000026</td>\n",
       "      <td>False</td>\n",
       "    </tr>\n",
       "    <tr>\n",
       "      <th>53</th>\n",
       "      <td>0.533792</td>\n",
       "      <td>0.854217</td>\n",
       "      <td>dummy_constant</td>\n",
       "      <td>0.533792</td>\n",
       "      <td>0.854217</td>\n",
       "      <td>0.102927</td>\n",
       "      <td>0.126612</td>\n",
       "      <td>0.000026</td>\n",
       "      <td>False</td>\n",
       "    </tr>\n",
       "    <tr>\n",
       "      <th>54</th>\n",
       "      <td>0.699060</td>\n",
       "      <td>0.303208</td>\n",
       "      <td>dummy_constant</td>\n",
       "      <td>0.699060</td>\n",
       "      <td>0.303208</td>\n",
       "      <td>-0.515895</td>\n",
       "      <td>0.078352</td>\n",
       "      <td>0.000026</td>\n",
       "      <td>False</td>\n",
       "    </tr>\n",
       "  </tbody>\n",
       "</table>\n",
       "</div>"
      ],
      "text/plain": [
       "          x1        x2               a        y1        y2         c1  \\\n",
       "0   2.441679  2.820130  dummy_constant  2.441679  2.820130  12.873970   \n",
       "1   0.463762  0.687329  dummy_constant  0.463762  0.687329  -0.212764   \n",
       "2   2.705690  2.691542  dummy_constant  2.705690  2.691542  13.465245   \n",
       "3   2.675778  2.701462  dummy_constant  2.675778  2.701462  13.357978   \n",
       "4   0.664027  0.524404  dummy_constant  0.664027  0.524404  -0.254479   \n",
       "5   0.452053  0.794137  dummy_constant  0.452053  0.794137  -0.123681   \n",
       "6   0.394663  0.887438  dummy_constant  0.394663  0.887438  -0.148324   \n",
       "7   0.113733  0.263974  dummy_constant  0.113733  0.263974  -1.014844   \n",
       "8   0.653065  0.772563  dummy_constant  0.653065  0.772563   0.000278   \n",
       "9   0.834675  0.708880  dummy_constant  0.834675  0.708880   0.172547   \n",
       "10  0.999755  0.435672  dummy_constant  0.999755  0.435672   0.093560   \n",
       "11  0.243025  1.032430  dummy_constant  0.243025  1.032430   0.209839   \n",
       "12  0.000000  0.894963  dummy_constant  0.000000  0.894963  -0.299041   \n",
       "13  0.070637  1.014770  dummy_constant  0.070637  1.014770  -0.009543   \n",
       "14  0.927239  0.009216  dummy_constant  0.927239  0.009216  -0.238881   \n",
       "15  0.934930  0.020710  dummy_constant  0.934930  0.020710  -0.219263   \n",
       "16  1.258153  0.576039  dummy_constant  1.258153  0.576039   0.831484   \n",
       "17  1.082322  0.143978  dummy_constant  1.082322  0.143978   0.244011   \n",
       "18  0.813501  0.632599  dummy_constant  0.813501  0.632599   0.102777   \n",
       "19  1.022149  0.074870  dummy_constant  1.022149  0.074870   0.011368   \n",
       "20  0.795290  0.250952  dummy_constant  0.795290  0.250952  -0.322259   \n",
       "21  0.430288  0.930026  dummy_constant  0.430288  0.930026  -0.029503   \n",
       "22  0.560777  0.878936  dummy_constant  0.560777  0.878936   0.181333   \n",
       "23  0.916087  0.474591  dummy_constant  0.916087  0.474591   0.043989   \n",
       "24  0.529786  0.429995  dummy_constant  0.529786  0.429995  -0.525761   \n",
       "25  0.768642  0.040482  dummy_constant  0.768642  0.040482  -0.474156   \n",
       "26  0.295811  0.972613  dummy_constant  0.295811  0.972613   0.032318   \n",
       "27  0.270289  0.403582  dummy_constant  0.270289  0.403582  -0.664080   \n",
       "28  0.616402  0.218337  dummy_constant  0.616402  0.218337  -0.639389   \n",
       "29  0.853931  0.559331  dummy_constant  0.853931  0.559331   0.140977   \n",
       "30  0.091999  1.048359  dummy_constant  0.091999  1.048359   0.090572   \n",
       "31  0.115731  0.949448  dummy_constant  0.115731  0.949448  -0.049001   \n",
       "32  0.932915  0.182400  dummy_constant  0.932915  0.182400   0.003463   \n",
       "33  0.373877  0.827289  dummy_constant  0.373877  0.827289  -0.263175   \n",
       "34  0.976361  0.260536  dummy_constant  0.976361  0.260536   0.072582   \n",
       "35  1.037086  0.050654  dummy_constant  1.037086  0.050654   0.007083   \n",
       "36  0.994592  0.170522  dummy_constant  0.994592  0.170522   0.109402   \n",
       "37  0.527663  0.527827  dummy_constant  0.527663  0.527827  -0.542971   \n",
       "38  1.047539  0.069352  dummy_constant  1.047539  0.069352   0.053062   \n",
       "39  0.091174  0.391077  dummy_constant  0.091174  0.391077  -0.752120   \n",
       "40  0.114786  1.439725  dummy_constant  0.114786  1.439725   1.056639   \n",
       "41  0.050769  1.032299  dummy_constant  0.050769  1.032299  -0.002432   \n",
       "42  0.738962  0.701353  dummy_constant  0.738962  0.701353  -0.053441   \n",
       "43  0.034817  0.670873  dummy_constant  0.034817  0.670873  -0.616233   \n",
       "44  0.795983  0.613521  dummy_constant  0.795983  0.613521   0.056968   \n",
       "45  0.932758  0.349916  dummy_constant  0.932758  0.349916  -0.093248   \n",
       "46  0.242212  0.803244  dummy_constant  0.242212  0.803244  -0.293488   \n",
       "47  1.008185  0.122513  dummy_constant  1.008185  0.122513   0.067048   \n",
       "48  0.882249  0.493760  dummy_constant  0.882249  0.493760   0.052640   \n",
       "49  1.141768  0.129054  dummy_constant  1.141768  0.129054   0.343091   \n",
       "50  0.485669  0.011782  dummy_constant  0.485669  0.011782  -0.856551   \n",
       "51  0.070760  1.142022  dummy_constant  0.070760  1.142022   0.254360   \n",
       "52  0.878055  0.091528  dummy_constant  0.878055  0.091528  -0.211551   \n",
       "53  0.533792  0.854217  dummy_constant  0.533792  0.854217   0.102927   \n",
       "54  0.699060  0.303208  dummy_constant  0.699060  0.303208  -0.515895   \n",
       "\n",
       "          c2  xopt_runtime  xopt_error  \n",
       "0   9.153119      0.000034       False  \n",
       "1   0.036406      0.000009       False  \n",
       "2   9.667925      0.000007       False  \n",
       "3   9.580446      0.000006       False  \n",
       "4   0.027500      0.000006       False  \n",
       "5   0.088815      0.000026       False  \n",
       "6   0.161204      0.000025       False  \n",
       "7   0.204911      0.000025       False  \n",
       "8   0.097719      0.000025       False  \n",
       "9   0.155638      0.000025       False  \n",
       "10  0.253893      0.000042       False  \n",
       "11  0.349518      0.000026       False  \n",
       "12  0.405996      0.000027       False  \n",
       "13  0.449341      0.000025       False  \n",
       "14  0.423403      0.000025       False  \n",
       "15  0.418883      0.000024       False  \n",
       "16  0.580577      0.000027       False  \n",
       "17  0.465850      0.000025       False  \n",
       "18  0.115865      0.000025       False  \n",
       "19  0.453376      0.000026       False  \n",
       "20  0.149221      0.000025       False  \n",
       "21  0.189782      0.000025       False  \n",
       "22  0.147287      0.000026       False  \n",
       "23  0.173774      0.000025       False  \n",
       "24  0.005788      0.000024       False  \n",
       "25  0.283326      0.000026       False  \n",
       "26  0.265056      0.000026       False  \n",
       "27  0.062064      0.000025       False  \n",
       "28  0.092883      0.000026       False  \n",
       "29  0.128787      0.000025       False  \n",
       "30  0.467162      0.000031       False  \n",
       "31  0.349666      0.000025       False  \n",
       "32  0.288285      0.000026       False  \n",
       "33  0.123025      0.000025       False  \n",
       "34  0.284263      0.000023       False  \n",
       "35  0.490374      0.000026       False  \n",
       "36  0.353177      0.000026       False  \n",
       "37  0.001540      0.000025       False  \n",
       "38  0.485257      0.000026       False  \n",
       "39  0.179003      0.000026       False  \n",
       "40  1.031474      0.000025       False  \n",
       "41  0.485151      0.000026       False  \n",
       "42  0.097646      0.000026       False  \n",
       "43  0.245593      0.000026       False  \n",
       "44  0.100493      0.000025       False  \n",
       "45  0.209804      0.000026       False  \n",
       "46  0.158411      0.000027       False  \n",
       "47  0.400748      0.000025       False  \n",
       "48  0.146153      0.000026       False  \n",
       "49  0.549466      0.000028       False  \n",
       "50  0.238562      0.000026       False  \n",
       "51  0.596438      0.000035       False  \n",
       "52  0.309775      0.000026       False  \n",
       "53  0.126612      0.000026       False  \n",
       "54  0.078352      0.000026       False  "
      ]
     },
     "execution_count": 3,
     "metadata": {},
     "output_type": "execute_result"
    }
   ],
   "source": [
    "X.generator.data"
   ]
  },
  {
   "cell_type": "markdown",
   "metadata": {
    "collapsed": false
   },
   "source": [
    "## plot results\n"
   ]
  },
  {
   "cell_type": "code",
   "execution_count": 4,
   "metadata": {
    "collapsed": false,
    "execution": {
     "iopub.execute_input": "2024-03-20T15:36:46.695167Z",
     "iopub.status.busy": "2024-03-20T15:36:46.694736Z",
     "iopub.status.idle": "2024-03-20T15:36:47.208479Z",
     "shell.execute_reply": "2024-03-20T15:36:47.207931Z"
    }
   },
   "outputs": [
    {
     "data": {
      "image/png": "[encoded data removed]",
      "text/plain": [
       "<Figure size 640x480 with 1 Axes>"
      ]
     },
     "metadata": {},
     "output_type": "display_data"
    }
   ],
   "source": [
    "import matplotlib.pyplot as plt\n",
    "import numpy as np\n",
    "import pandas as pd\n",
    "\n",
    "fig, ax = plt.subplots()\n",
    "\n",
    "theta = np.linspace(0, np.pi / 2)\n",
    "r = np.sqrt(1 + 0.1 * np.cos(16 * theta))\n",
    "x_1 = r * np.sin(theta)\n",
    "x_2_lower = r * np.cos(theta)\n",
    "x_2_upper = (0.5 - (x_1 - 0.5) ** 2) ** 0.5 + 0.5\n",
    "\n",
    "z = np.zeros_like(x_1)\n",
    "\n",
    "# ax2.plot(x_1, x_2_lower,'r')\n",
    "ax.fill_between(x_1, z, x_2_lower, fc=\"white\")\n",
    "circle = plt.Circle(\n",
    "    (0.5, 0.5), 0.5 ** 0.5, color=\"r\", alpha=0.25, zorder=0, label=\"Valid Region\"\n",
    ")\n",
    "ax.add_patch(circle)\n",
    "history = pd.concat(\n",
    "    [X.data, X.vocs.feasibility_data(X.data)], axis=1, ignore_index=False\n",
    ")\n",
    "\n",
    "\n",
    "ax.plot(*history[[\"x1\", \"x2\"]][history[\"feasible\"]].to_numpy().T, \".C1\")\n",
    "ax.plot(*history[[\"x1\", \"x2\"]][~history[\"feasible\"]].to_numpy().T, \".C2\")\n",
    "\n",
    "ax.set_xlim(0, 3.14)\n",
    "ax.set_ylim(0, 3.14)\n",
    "ax.set_xlabel(\"x1\")\n",
    "ax.set_ylabel(\"x2\")\n",
    "ax.set_aspect(\"equal\")"
   ]
  },
  {
   "cell_type": "markdown",
   "metadata": {
    "collapsed": false
   },
   "source": [
    "### Plot path through input space"
   ]
  },
  {
   "cell_type": "code",
   "execution_count": 5,
   "metadata": {
    "collapsed": false,
    "execution": {
     "iopub.execute_input": "2024-03-20T15:36:47.211052Z",
     "iopub.status.busy": "2024-03-20T15:36:47.210776Z",
     "iopub.status.idle": "2024-03-20T15:36:47.332005Z",
     "shell.execute_reply": "2024-03-20T15:36:47.331360Z"
    }
   },
   "outputs": [
    {
     "data": {
      "image/png": "[encoded data removed]",
      "text/plain": [
       "<Figure size 640x480 with 1 Axes>"
      ]
     },
     "metadata": {},
     "output_type": "display_data"
    }
   ],
   "source": [
    "ax = history.plot(\"x1\", \"x2\")\n",
    "ax.set_ylim(0, 3.14)\n",
    "ax.set_xlim(0, 3.14)\n",
    "ax.set_aspect(\"equal\")"
   ]
  },
  {
   "cell_type": "code",
   "execution_count": 6,
   "metadata": {
    "collapsed": false,
    "execution": {
     "iopub.execute_input": "2024-03-20T15:36:47.334833Z",
     "iopub.status.busy": "2024-03-20T15:36:47.334370Z",
     "iopub.status.idle": "2024-03-20T15:36:53.390967Z",
     "shell.execute_reply": "2024-03-20T15:36:53.390314Z"
    }
   },
   "outputs": [
    {
     "name": "stdout",
     "output_type": "stream",
     "text": [
      "[[0.83271999 0.57537536]]\n"
     ]
    },
    {
     "data": {
      "text/plain": [
       "[<matplotlib.lines.Line2D at 0x7f5916a2ae20>]"
      ]
     },
     "execution_count": 6,
     "metadata": {},
     "output_type": "execute_result"
    },
    {
     "data": {
      "image/png": "[encoded data removed]",
      "text/plain": [
       "<Figure size 800x800 with 2 Axes>"
      ]
     },
     "metadata": {},
     "output_type": "display_data"
    },
    {
     "data": {
      "image/png": "[encoded data removed]",
      "text/plain": [
       "<Figure size 800x800 with 2 Axes>"
      ]
     },
     "metadata": {},
     "output_type": "display_data"
    }
   ],
   "source": [
    "# plot the acquisition function\n",
    "from xopt.generators.bayesian.objectives import feasibility\n",
    "\n",
    "bounds = X.generator.vocs.bounds\n",
    "model = X.generator.model\n",
    "\n",
    "# create mesh\n",
    "n = 100\n",
    "x = torch.linspace(*bounds.T[0], n)\n",
    "y = torch.linspace(*bounds.T[1], n)\n",
    "xx, yy = torch.meshgrid(x, y)\n",
    "pts = torch.hstack([ele.reshape(-1, 1) for ele in (xx, yy)]).double()\n",
    "\n",
    "xx, yy = xx.numpy(), yy.numpy()\n",
    "\n",
    "acq_func = X.generator.get_acquisition(model)\n",
    "with torch.no_grad():\n",
    "    acq_pts = pts.unsqueeze(1)\n",
    "    acq = acq_func(acq_pts)\n",
    "\n",
    "    fig, ax = plt.subplots(figsize=(8,8))\n",
    "    c = ax.pcolor(xx, yy, acq.reshape(n, n), cmap=\"Blues\")\n",
    "    fig.colorbar(c)\n",
    "    ax.set_title(\"Acquisition function\")\n",
    "\n",
    "    ax.plot(*history[[\"x1\", \"x2\"]][history[\"feasible\"]].to_numpy().T, \".C1\")\n",
    "    ax.plot(*history[[\"x1\", \"x2\"]][~history[\"feasible\"]].to_numpy().T, \".C2\")\n",
    "\n",
    "    ax.plot(*history[[\"x1\", \"x2\"]].to_numpy()[-1].T, \"+\")\n",
    "\n",
    "    feas = feasibility(pts.unsqueeze(1), model, X.vocs).flatten()\n",
    "\n",
    "    fig2, ax2 = plt.subplots(figsize=(8,8))\n",
    "    c = ax2.pcolor(xx, yy, feas.reshape(n, n))\n",
    "    fig2.colorbar(c)\n",
    "    ax2.set_title(\"Feasible Region\")\n",
    "\n",
    "candidate = pd.DataFrame(X.generator.generate(1), index=[0])\n",
    "print(candidate[[\"x1\", \"x2\"]].to_numpy())\n",
    "ax.plot(*candidate[[\"x1\", \"x2\"]].to_numpy()[0], \"o\")"
   ]
  }
 ],
 "metadata": {
  "interpreter": {
   "hash": "72034539424920dfb606fe3b820b3f27dca0cbf1c69938110810ec4641e275b1"
  },
  "kernelspec": {
   "display_name": "Python 3 (ipykernel)",
   "language": "python",
   "name": "python3"
  },
  "language_info": {
   "codemirror_mode": {
    "name": "ipython",
    "version": 3
   },
   "file_extension": ".py",
   "mimetype": "text/x-python",
   "name": "python",
   "nbconvert_exporter": "python",
   "pygments_lexer": "ipython3",
   "version": "3.9.19"
  }
 },
 "nbformat": 4,
 "nbformat_minor": 4
}
