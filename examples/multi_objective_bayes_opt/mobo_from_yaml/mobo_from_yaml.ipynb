{
 "cells": [
  {
   "cell_type": "markdown",
   "metadata": {},
   "source": [
    "\n",
    "# Multi-objective Bayesian Optimization\n",
    "\n",
    "\n",
    "TNK function\n",
    "$n=2$ variables:\n",
    "$x_i \\in [0, \\pi], i=1,2$\n",
    "\n",
    "Objectives:\n",
    "- $f_i(x) = x_i$\n",
    "\n",
    "Constraints:\n",
    "- $g_1(x) = -x_1^2 -x_2^2 + 1 + 0.1 \\cos\\left(16 \\arctan \\frac{x_1}{x_2}\\right) \\le 0$\n",
    "- $g_2(x) = (x_1 - 1/2)^2 + (x_2-1/2)^2 \\le 0.5$"
   ]
  },
  {
   "cell_type": "code",
   "execution_count": 1,
   "metadata": {
    "collapsed": false,
    "execution": {
     "iopub.execute_input": "2024-01-25T21:41:19.080086Z",
     "iopub.status.busy": "2024-01-25T21:41:19.079908Z",
     "iopub.status.idle": "2024-01-25T21:41:20.549951Z",
     "shell.execute_reply": "2024-01-25T21:41:20.549379Z"
    }
   },
   "outputs": [],
   "source": [
    "import os\n",
    "SMOKE_TEST = os.environ.get(\"SMOKE_TEST\")\n",
    "NUM_STEPS = 2 if SMOKE_TEST else 50\n",
    "\n",
    "# Ignore all warnings\n",
    "import warnings\n",
    "warnings.filterwarnings(\"ignore\")\n",
    "\n",
    "import torch\n",
    "from xopt import Xopt\n",
    "\n",
    "\n",
    "YAML = \"\"\"\n",
    "generator:\n",
    "    name: mobo\n",
    "    reference_point: {y1: 1.5, y2: 1.5}\n",
    "\n",
    "evaluator:\n",
    "    function: xopt.resources.test_functions.tnk.evaluate_TNK\n",
    "\n",
    "vocs:\n",
    "    variables:\n",
    "        x1: [0, 3.14159]\n",
    "        x2: [0, 3.14159]\n",
    "    objectives: {y1: MINIMIZE, y2: MINIMIZE}\n",
    "    constraints:\n",
    "        c1: [GREATER_THAN, 0]\n",
    "        c2: [LESS_THAN, 0.5]\n",
    "    constants: {a: dummy_constant}\n",
    "\n",
    "\"\"\""
   ]
  },
  {
   "cell_type": "code",
   "execution_count": 2,
   "metadata": {
    "collapsed": false,
    "execution": {
     "iopub.execute_input": "2024-01-25T21:41:20.552796Z",
     "iopub.status.busy": "2024-01-25T21:41:20.552289Z",
     "iopub.status.idle": "2024-01-25T21:42:02.421418Z",
     "shell.execute_reply": "2024-01-25T21:42:02.420727Z"
    }
   },
   "outputs": [
    {
     "name": "stdout",
     "output_type": "stream",
     "text": [
      "0\n"
     ]
    },
    {
     "name": "stdout",
     "output_type": "stream",
     "text": [
      "1\n"
     ]
    },
    {
     "name": "stdout",
     "output_type": "stream",
     "text": [
      "2\n"
     ]
    },
    {
     "name": "stdout",
     "output_type": "stream",
     "text": [
      "3\n"
     ]
    },
    {
     "name": "stdout",
     "output_type": "stream",
     "text": [
      "4\n"
     ]
    },
    {
     "name": "stdout",
     "output_type": "stream",
     "text": [
      "5\n"
     ]
    },
    {
     "name": "stdout",
     "output_type": "stream",
     "text": [
      "6\n"
     ]
    },
    {
     "name": "stdout",
     "output_type": "stream",
     "text": [
      "7\n"
     ]
    },
    {
     "name": "stdout",
     "output_type": "stream",
     "text": [
      "8\n"
     ]
    },
    {
     "name": "stdout",
     "output_type": "stream",
     "text": [
      "9\n"
     ]
    },
    {
     "name": "stdout",
     "output_type": "stream",
     "text": [
      "10\n"
     ]
    },
    {
     "name": "stdout",
     "output_type": "stream",
     "text": [
      "11\n"
     ]
    },
    {
     "name": "stdout",
     "output_type": "stream",
     "text": [
      "12\n"
     ]
    },
    {
     "name": "stdout",
     "output_type": "stream",
     "text": [
      "13\n"
     ]
    },
    {
     "name": "stdout",
     "output_type": "stream",
     "text": [
      "14\n"
     ]
    },
    {
     "name": "stdout",
     "output_type": "stream",
     "text": [
      "15\n"
     ]
    },
    {
     "name": "stdout",
     "output_type": "stream",
     "text": [
      "16\n"
     ]
    },
    {
     "name": "stdout",
     "output_type": "stream",
     "text": [
      "17\n"
     ]
    },
    {
     "name": "stdout",
     "output_type": "stream",
     "text": [
      "18\n"
     ]
    },
    {
     "name": "stdout",
     "output_type": "stream",
     "text": [
      "19\n"
     ]
    },
    {
     "name": "stdout",
     "output_type": "stream",
     "text": [
      "20\n"
     ]
    },
    {
     "name": "stdout",
     "output_type": "stream",
     "text": [
      "21\n"
     ]
    },
    {
     "name": "stdout",
     "output_type": "stream",
     "text": [
      "22\n"
     ]
    },
    {
     "name": "stdout",
     "output_type": "stream",
     "text": [
      "23\n"
     ]
    },
    {
     "name": "stdout",
     "output_type": "stream",
     "text": [
      "24\n"
     ]
    },
    {
     "name": "stdout",
     "output_type": "stream",
     "text": [
      "25\n"
     ]
    },
    {
     "name": "stdout",
     "output_type": "stream",
     "text": [
      "26\n"
     ]
    },
    {
     "name": "stdout",
     "output_type": "stream",
     "text": [
      "27\n"
     ]
    },
    {
     "name": "stdout",
     "output_type": "stream",
     "text": [
      "28\n"
     ]
    },
    {
     "name": "stdout",
     "output_type": "stream",
     "text": [
      "29\n"
     ]
    },
    {
     "name": "stdout",
     "output_type": "stream",
     "text": [
      "30\n"
     ]
    },
    {
     "name": "stdout",
     "output_type": "stream",
     "text": [
      "31\n"
     ]
    },
    {
     "name": "stdout",
     "output_type": "stream",
     "text": [
      "32\n"
     ]
    },
    {
     "name": "stdout",
     "output_type": "stream",
     "text": [
      "33\n"
     ]
    },
    {
     "name": "stdout",
     "output_type": "stream",
     "text": [
      "34\n"
     ]
    },
    {
     "name": "stdout",
     "output_type": "stream",
     "text": [
      "35\n"
     ]
    },
    {
     "name": "stdout",
     "output_type": "stream",
     "text": [
      "36\n"
     ]
    },
    {
     "name": "stdout",
     "output_type": "stream",
     "text": [
      "37\n"
     ]
    },
    {
     "name": "stdout",
     "output_type": "stream",
     "text": [
      "38\n"
     ]
    },
    {
     "name": "stdout",
     "output_type": "stream",
     "text": [
      "39\n"
     ]
    },
    {
     "name": "stdout",
     "output_type": "stream",
     "text": [
      "40\n"
     ]
    },
    {
     "name": "stdout",
     "output_type": "stream",
     "text": [
      "41\n"
     ]
    },
    {
     "name": "stdout",
     "output_type": "stream",
     "text": [
      "42\n"
     ]
    },
    {
     "name": "stdout",
     "output_type": "stream",
     "text": [
      "43\n"
     ]
    },
    {
     "name": "stdout",
     "output_type": "stream",
     "text": [
      "44\n"
     ]
    },
    {
     "name": "stdout",
     "output_type": "stream",
     "text": [
      "45\n"
     ]
    },
    {
     "name": "stdout",
     "output_type": "stream",
     "text": [
      "46\n"
     ]
    },
    {
     "name": "stdout",
     "output_type": "stream",
     "text": [
      "47\n"
     ]
    },
    {
     "name": "stdout",
     "output_type": "stream",
     "text": [
      "48\n"
     ]
    },
    {
     "name": "stdout",
     "output_type": "stream",
     "text": [
      "49\n"
     ]
    }
   ],
   "source": [
    "X = Xopt.from_yaml(YAML)\n",
    "\n",
    "# for testing purposes only\n",
    "if SMOKE_TEST:\n",
    "    X.generator.numerical_optimizer.n_restarts = 1\n",
    "    X.generator.n_monte_carlo_samples = 1\n",
    "\n",
    "X.random_evaluate(5)\n",
    "for i in range(NUM_STEPS):\n",
    "    print(i)\n",
    "    X.step()"
   ]
  },
  {
   "cell_type": "code",
   "execution_count": 3,
   "metadata": {
    "collapsed": false,
    "execution": {
     "iopub.execute_input": "2024-01-25T21:42:02.424574Z",
     "iopub.status.busy": "2024-01-25T21:42:02.424261Z",
     "iopub.status.idle": "2024-01-25T21:42:02.443299Z",
     "shell.execute_reply": "2024-01-25T21:42:02.442727Z"
    }
   },
   "outputs": [
    {
     "data": {
      "text/html": [
       "<div>\n",
       "<style scoped>\n",
       "    .dataframe tbody tr th:only-of-type {\n",
       "        vertical-align: middle;\n",
       "    }\n",
       "\n",
       "    .dataframe tbody tr th {\n",
       "        vertical-align: top;\n",
       "    }\n",
       "\n",
       "    .dataframe thead th {\n",
       "        text-align: right;\n",
       "    }\n",
       "</style>\n",
       "<table border=\"1\" class=\"dataframe\">\n",
       "  <thead>\n",
       "    <tr style=\"text-align: right;\">\n",
       "      <th></th>\n",
       "      <th>x1</th>\n",
       "      <th>x2</th>\n",
       "      <th>a</th>\n",
       "      <th>y1</th>\n",
       "      <th>y2</th>\n",
       "      <th>c1</th>\n",
       "      <th>c2</th>\n",
       "      <th>xopt_runtime</th>\n",
       "      <th>xopt_error</th>\n",
       "    </tr>\n",
       "  </thead>\n",
       "  <tbody>\n",
       "    <tr>\n",
       "      <th>0</th>\n",
       "      <td>1.677832</td>\n",
       "      <td>0.228273</td>\n",
       "      <td>dummy_constant</td>\n",
       "      <td>1.677832</td>\n",
       "      <td>0.228273</td>\n",
       "      <td>1.923092</td>\n",
       "      <td>1.461123</td>\n",
       "      <td>0.000033</td>\n",
       "      <td>False</td>\n",
       "    </tr>\n",
       "    <tr>\n",
       "      <th>1</th>\n",
       "      <td>2.919254</td>\n",
       "      <td>0.944151</td>\n",
       "      <td>dummy_constant</td>\n",
       "      <td>2.919254</td>\n",
       "      <td>0.944151</td>\n",
       "      <td>8.384634</td>\n",
       "      <td>6.050061</td>\n",
       "      <td>0.000008</td>\n",
       "      <td>False</td>\n",
       "    </tr>\n",
       "    <tr>\n",
       "      <th>2</th>\n",
       "      <td>1.549714</td>\n",
       "      <td>2.132815</td>\n",
       "      <td>dummy_constant</td>\n",
       "      <td>1.549714</td>\n",
       "      <td>2.132815</td>\n",
       "      <td>6.031379</td>\n",
       "      <td>3.767986</td>\n",
       "      <td>0.000007</td>\n",
       "      <td>False</td>\n",
       "    </tr>\n",
       "    <tr>\n",
       "      <th>3</th>\n",
       "      <td>2.820358</td>\n",
       "      <td>2.742707</td>\n",
       "      <td>dummy_constant</td>\n",
       "      <td>2.820358</td>\n",
       "      <td>2.742707</td>\n",
       "      <td>14.379347</td>\n",
       "      <td>10.413798</td>\n",
       "      <td>0.000006</td>\n",
       "      <td>False</td>\n",
       "    </tr>\n",
       "    <tr>\n",
       "      <th>4</th>\n",
       "      <td>2.085256</td>\n",
       "      <td>0.832596</td>\n",
       "      <td>dummy_constant</td>\n",
       "      <td>2.085256</td>\n",
       "      <td>0.832596</td>\n",
       "      <td>3.943603</td>\n",
       "      <td>2.623656</td>\n",
       "      <td>0.000005</td>\n",
       "      <td>False</td>\n",
       "    </tr>\n",
       "    <tr>\n",
       "      <th>5</th>\n",
       "      <td>0.992124</td>\n",
       "      <td>0.211612</td>\n",
       "      <td>dummy_constant</td>\n",
       "      <td>0.992124</td>\n",
       "      <td>0.211612</td>\n",
       "      <td>0.126664</td>\n",
       "      <td>0.325354</td>\n",
       "      <td>0.000022</td>\n",
       "      <td>False</td>\n",
       "    </tr>\n",
       "    <tr>\n",
       "      <th>6</th>\n",
       "      <td>0.431963</td>\n",
       "      <td>0.021904</td>\n",
       "      <td>dummy_constant</td>\n",
       "      <td>0.431963</td>\n",
       "      <td>0.021904</td>\n",
       "      <td>-0.881833</td>\n",
       "      <td>0.233205</td>\n",
       "      <td>0.000024</td>\n",
       "      <td>False</td>\n",
       "    </tr>\n",
       "    <tr>\n",
       "      <th>7</th>\n",
       "      <td>0.000000</td>\n",
       "      <td>0.394261</td>\n",
       "      <td>dummy_constant</td>\n",
       "      <td>0.000000</td>\n",
       "      <td>0.394261</td>\n",
       "      <td>-0.944558</td>\n",
       "      <td>0.261181</td>\n",
       "      <td>0.000025</td>\n",
       "      <td>False</td>\n",
       "    </tr>\n",
       "    <tr>\n",
       "      <th>8</th>\n",
       "      <td>0.000000</td>\n",
       "      <td>0.921724</td>\n",
       "      <td>dummy_constant</td>\n",
       "      <td>0.000000</td>\n",
       "      <td>0.921724</td>\n",
       "      <td>-0.250425</td>\n",
       "      <td>0.427851</td>\n",
       "      <td>0.000023</td>\n",
       "      <td>False</td>\n",
       "    </tr>\n",
       "    <tr>\n",
       "      <th>9</th>\n",
       "      <td>0.234282</td>\n",
       "      <td>1.059013</td>\n",
       "      <td>dummy_constant</td>\n",
       "      <td>0.234282</td>\n",
       "      <td>1.059013</td>\n",
       "      <td>0.270607</td>\n",
       "      <td>0.383101</td>\n",
       "      <td>0.000023</td>\n",
       "      <td>False</td>\n",
       "    </tr>\n",
       "    <tr>\n",
       "      <th>10</th>\n",
       "      <td>0.599071</td>\n",
       "      <td>0.715938</td>\n",
       "      <td>dummy_constant</td>\n",
       "      <td>0.599071</td>\n",
       "      <td>0.715938</td>\n",
       "      <td>-0.143746</td>\n",
       "      <td>0.056444</td>\n",
       "      <td>0.000023</td>\n",
       "      <td>False</td>\n",
       "    </tr>\n",
       "    <tr>\n",
       "      <th>11</th>\n",
       "      <td>0.260366</td>\n",
       "      <td>0.712317</td>\n",
       "      <td>dummy_constant</td>\n",
       "      <td>0.260366</td>\n",
       "      <td>0.712317</td>\n",
       "      <td>-0.502807</td>\n",
       "      <td>0.102503</td>\n",
       "      <td>0.000022</td>\n",
       "      <td>False</td>\n",
       "    </tr>\n",
       "    <tr>\n",
       "      <th>12</th>\n",
       "      <td>0.614432</td>\n",
       "      <td>0.823663</td>\n",
       "      <td>dummy_constant</td>\n",
       "      <td>0.614432</td>\n",
       "      <td>0.823663</td>\n",
       "      <td>0.123439</td>\n",
       "      <td>0.117852</td>\n",
       "      <td>0.000022</td>\n",
       "      <td>False</td>\n",
       "    </tr>\n",
       "    <tr>\n",
       "      <th>13</th>\n",
       "      <td>0.085078</td>\n",
       "      <td>1.032585</td>\n",
       "      <td>dummy_constant</td>\n",
       "      <td>0.085078</td>\n",
       "      <td>1.032585</td>\n",
       "      <td>0.048200</td>\n",
       "      <td>0.455808</td>\n",
       "      <td>0.000022</td>\n",
       "      <td>False</td>\n",
       "    </tr>\n",
       "    <tr>\n",
       "      <th>14</th>\n",
       "      <td>0.803011</td>\n",
       "      <td>0.641476</td>\n",
       "      <td>dummy_constant</td>\n",
       "      <td>0.803011</td>\n",
       "      <td>0.641476</td>\n",
       "      <td>0.077267</td>\n",
       "      <td>0.111831</td>\n",
       "      <td>0.000026</td>\n",
       "      <td>False</td>\n",
       "    </tr>\n",
       "    <tr>\n",
       "      <th>15</th>\n",
       "      <td>0.977875</td>\n",
       "      <td>0.045691</td>\n",
       "      <td>dummy_constant</td>\n",
       "      <td>0.977875</td>\n",
       "      <td>0.045691</td>\n",
       "      <td>-0.115042</td>\n",
       "      <td>0.434762</td>\n",
       "      <td>0.000027</td>\n",
       "      <td>False</td>\n",
       "    </tr>\n",
       "    <tr>\n",
       "      <th>16</th>\n",
       "      <td>0.906451</td>\n",
       "      <td>0.403110</td>\n",
       "      <td>dummy_constant</td>\n",
       "      <td>0.906451</td>\n",
       "      <td>0.403110</td>\n",
       "      <td>-0.107483</td>\n",
       "      <td>0.174590</td>\n",
       "      <td>0.000023</td>\n",
       "      <td>False</td>\n",
       "    </tr>\n",
       "    <tr>\n",
       "      <th>17</th>\n",
       "      <td>1.037192</td>\n",
       "      <td>0.093283</td>\n",
       "      <td>dummy_constant</td>\n",
       "      <td>1.037192</td>\n",
       "      <td>0.093283</td>\n",
       "      <td>0.070947</td>\n",
       "      <td>0.453994</td>\n",
       "      <td>0.000026</td>\n",
       "      <td>False</td>\n",
       "    </tr>\n",
       "    <tr>\n",
       "      <th>18</th>\n",
       "      <td>0.383173</td>\n",
       "      <td>0.921556</td>\n",
       "      <td>dummy_constant</td>\n",
       "      <td>0.383173</td>\n",
       "      <td>0.921556</td>\n",
       "      <td>-0.103889</td>\n",
       "      <td>0.191358</td>\n",
       "      <td>0.000026</td>\n",
       "      <td>False</td>\n",
       "    </tr>\n",
       "    <tr>\n",
       "      <th>19</th>\n",
       "      <td>0.949761</td>\n",
       "      <td>0.425690</td>\n",
       "      <td>dummy_constant</td>\n",
       "      <td>0.949761</td>\n",
       "      <td>0.425690</td>\n",
       "      <td>-0.006409</td>\n",
       "      <td>0.207807</td>\n",
       "      <td>0.000025</td>\n",
       "      <td>False</td>\n",
       "    </tr>\n",
       "    <tr>\n",
       "      <th>20</th>\n",
       "      <td>0.721169</td>\n",
       "      <td>0.735654</td>\n",
       "      <td>dummy_constant</td>\n",
       "      <td>0.721169</td>\n",
       "      <td>0.735654</td>\n",
       "      <td>-0.037466</td>\n",
       "      <td>0.104449</td>\n",
       "      <td>0.000041</td>\n",
       "      <td>False</td>\n",
       "    </tr>\n",
       "    <tr>\n",
       "      <th>21</th>\n",
       "      <td>0.953658</td>\n",
       "      <td>0.000000</td>\n",
       "      <td>dummy_constant</td>\n",
       "      <td>0.953658</td>\n",
       "      <td>0.000000</td>\n",
       "      <td>-0.190536</td>\n",
       "      <td>0.455806</td>\n",
       "      <td>0.000024</td>\n",
       "      <td>False</td>\n",
       "    </tr>\n",
       "    <tr>\n",
       "      <th>22</th>\n",
       "      <td>0.828781</td>\n",
       "      <td>0.663761</td>\n",
       "      <td>dummy_constant</td>\n",
       "      <td>0.828781</td>\n",
       "      <td>0.663761</td>\n",
       "      <td>0.146445</td>\n",
       "      <td>0.134914</td>\n",
       "      <td>0.000025</td>\n",
       "      <td>False</td>\n",
       "    </tr>\n",
       "    <tr>\n",
       "      <th>23</th>\n",
       "      <td>1.026062</td>\n",
       "      <td>0.043203</td>\n",
       "      <td>dummy_constant</td>\n",
       "      <td>1.026062</td>\n",
       "      <td>0.043203</td>\n",
       "      <td>-0.023506</td>\n",
       "      <td>0.485405</td>\n",
       "      <td>0.000026</td>\n",
       "      <td>False</td>\n",
       "    </tr>\n",
       "    <tr>\n",
       "      <th>24</th>\n",
       "      <td>1.465356</td>\n",
       "      <td>0.171553</td>\n",
       "      <td>dummy_constant</td>\n",
       "      <td>1.465356</td>\n",
       "      <td>0.171553</td>\n",
       "      <td>1.205665</td>\n",
       "      <td>1.039790</td>\n",
       "      <td>0.000024</td>\n",
       "      <td>False</td>\n",
       "    </tr>\n",
       "    <tr>\n",
       "      <th>25</th>\n",
       "      <td>0.102319</td>\n",
       "      <td>1.231476</td>\n",
       "      <td>dummy_constant</td>\n",
       "      <td>0.102319</td>\n",
       "      <td>1.231476</td>\n",
       "      <td>0.502800</td>\n",
       "      <td>0.693207</td>\n",
       "      <td>0.000026</td>\n",
       "      <td>False</td>\n",
       "    </tr>\n",
       "    <tr>\n",
       "      <th>26</th>\n",
       "      <td>0.406171</td>\n",
       "      <td>0.952280</td>\n",
       "      <td>dummy_constant</td>\n",
       "      <td>0.406171</td>\n",
       "      <td>0.952280</td>\n",
       "      <td>-0.026790</td>\n",
       "      <td>0.213361</td>\n",
       "      <td>0.000025</td>\n",
       "      <td>False</td>\n",
       "    </tr>\n",
       "    <tr>\n",
       "      <th>27</th>\n",
       "      <td>0.068500</td>\n",
       "      <td>1.044885</td>\n",
       "      <td>dummy_constant</td>\n",
       "      <td>0.068500</td>\n",
       "      <td>1.044885</td>\n",
       "      <td>0.046496</td>\n",
       "      <td>0.483092</td>\n",
       "      <td>0.000025</td>\n",
       "      <td>False</td>\n",
       "    </tr>\n",
       "    <tr>\n",
       "      <th>28</th>\n",
       "      <td>0.927215</td>\n",
       "      <td>0.057908</td>\n",
       "      <td>dummy_constant</td>\n",
       "      <td>0.927215</td>\n",
       "      <td>0.057908</td>\n",
       "      <td>-0.191120</td>\n",
       "      <td>0.377958</td>\n",
       "      <td>0.000026</td>\n",
       "      <td>False</td>\n",
       "    </tr>\n",
       "    <tr>\n",
       "      <th>29</th>\n",
       "      <td>0.982456</td>\n",
       "      <td>0.160495</td>\n",
       "      <td>dummy_constant</td>\n",
       "      <td>0.982456</td>\n",
       "      <td>0.160495</td>\n",
       "      <td>0.076194</td>\n",
       "      <td>0.348027</td>\n",
       "      <td>0.000026</td>\n",
       "      <td>False</td>\n",
       "    </tr>\n",
       "    <tr>\n",
       "      <th>30</th>\n",
       "      <td>0.167215</td>\n",
       "      <td>0.744272</td>\n",
       "      <td>dummy_constant</td>\n",
       "      <td>0.167215</td>\n",
       "      <td>0.744272</td>\n",
       "      <td>-0.325776</td>\n",
       "      <td>0.170415</td>\n",
       "      <td>0.000026</td>\n",
       "      <td>False</td>\n",
       "    </tr>\n",
       "    <tr>\n",
       "      <th>31</th>\n",
       "      <td>0.532148</td>\n",
       "      <td>0.879300</td>\n",
       "      <td>dummy_constant</td>\n",
       "      <td>0.532148</td>\n",
       "      <td>0.879300</td>\n",
       "      <td>0.131722</td>\n",
       "      <td>0.144902</td>\n",
       "      <td>0.000025</td>\n",
       "      <td>False</td>\n",
       "    </tr>\n",
       "    <tr>\n",
       "      <th>32</th>\n",
       "      <td>1.461123</td>\n",
       "      <td>0.336057</td>\n",
       "      <td>dummy_constant</td>\n",
       "      <td>1.461123</td>\n",
       "      <td>0.336057</td>\n",
       "      <td>1.336723</td>\n",
       "      <td>0.950635</td>\n",
       "      <td>0.000027</td>\n",
       "      <td>False</td>\n",
       "    </tr>\n",
       "    <tr>\n",
       "      <th>33</th>\n",
       "      <td>0.924701</td>\n",
       "      <td>0.012507</td>\n",
       "      <td>dummy_constant</td>\n",
       "      <td>0.924701</td>\n",
       "      <td>0.012507</td>\n",
       "      <td>-0.242439</td>\n",
       "      <td>0.418021</td>\n",
       "      <td>0.000026</td>\n",
       "      <td>False</td>\n",
       "    </tr>\n",
       "    <tr>\n",
       "      <th>34</th>\n",
       "      <td>0.685265</td>\n",
       "      <td>0.318501</td>\n",
       "      <td>dummy_constant</td>\n",
       "      <td>0.685265</td>\n",
       "      <td>0.318501</td>\n",
       "      <td>-0.506845</td>\n",
       "      <td>0.067265</td>\n",
       "      <td>0.000026</td>\n",
       "      <td>False</td>\n",
       "    </tr>\n",
       "    <tr>\n",
       "      <th>35</th>\n",
       "      <td>0.608842</td>\n",
       "      <td>0.634832</td>\n",
       "      <td>dummy_constant</td>\n",
       "      <td>0.608842</td>\n",
       "      <td>0.634832</td>\n",
       "      <td>-0.320763</td>\n",
       "      <td>0.030026</td>\n",
       "      <td>0.000025</td>\n",
       "      <td>False</td>\n",
       "    </tr>\n",
       "    <tr>\n",
       "      <th>36</th>\n",
       "      <td>0.678368</td>\n",
       "      <td>0.699789</td>\n",
       "      <td>dummy_constant</td>\n",
       "      <td>0.678368</td>\n",
       "      <td>0.699789</td>\n",
       "      <td>-0.147037</td>\n",
       "      <td>0.071731</td>\n",
       "      <td>0.000026</td>\n",
       "      <td>False</td>\n",
       "    </tr>\n",
       "    <tr>\n",
       "      <th>37</th>\n",
       "      <td>0.684628</td>\n",
       "      <td>0.794525</td>\n",
       "      <td>dummy_constant</td>\n",
       "      <td>0.684628</td>\n",
       "      <td>0.794525</td>\n",
       "      <td>0.062503</td>\n",
       "      <td>0.120833</td>\n",
       "      <td>0.000024</td>\n",
       "      <td>False</td>\n",
       "    </tr>\n",
       "    <tr>\n",
       "      <th>38</th>\n",
       "      <td>0.880943</td>\n",
       "      <td>0.537130</td>\n",
       "      <td>dummy_constant</td>\n",
       "      <td>0.880943</td>\n",
       "      <td>0.537130</td>\n",
       "      <td>0.143311</td>\n",
       "      <td>0.146496</td>\n",
       "      <td>0.000026</td>\n",
       "      <td>False</td>\n",
       "    </tr>\n",
       "    <tr>\n",
       "      <th>39</th>\n",
       "      <td>0.960841</td>\n",
       "      <td>0.320980</td>\n",
       "      <td>dummy_constant</td>\n",
       "      <td>0.960841</td>\n",
       "      <td>0.320980</td>\n",
       "      <td>-0.016902</td>\n",
       "      <td>0.244422</td>\n",
       "      <td>0.000025</td>\n",
       "      <td>False</td>\n",
       "    </tr>\n",
       "    <tr>\n",
       "      <th>40</th>\n",
       "      <td>0.841478</td>\n",
       "      <td>0.062499</td>\n",
       "      <td>dummy_constant</td>\n",
       "      <td>0.841478</td>\n",
       "      <td>0.062499</td>\n",
       "      <td>-0.325529</td>\n",
       "      <td>0.308014</td>\n",
       "      <td>0.000025</td>\n",
       "      <td>False</td>\n",
       "    </tr>\n",
       "    <tr>\n",
       "      <th>41</th>\n",
       "      <td>0.143656</td>\n",
       "      <td>2.898671</td>\n",
       "      <td>dummy_constant</td>\n",
       "      <td>0.143656</td>\n",
       "      <td>2.898671</td>\n",
       "      <td>7.352710</td>\n",
       "      <td>5.880604</td>\n",
       "      <td>0.000026</td>\n",
       "      <td>False</td>\n",
       "    </tr>\n",
       "    <tr>\n",
       "      <th>42</th>\n",
       "      <td>0.461345</td>\n",
       "      <td>0.512628</td>\n",
       "      <td>dummy_constant</td>\n",
       "      <td>0.461345</td>\n",
       "      <td>0.512628</td>\n",
       "      <td>-0.590995</td>\n",
       "      <td>0.001654</td>\n",
       "      <td>0.000028</td>\n",
       "      <td>False</td>\n",
       "    </tr>\n",
       "    <tr>\n",
       "      <th>43</th>\n",
       "      <td>1.032440</td>\n",
       "      <td>0.039970</td>\n",
       "      <td>dummy_constant</td>\n",
       "      <td>1.032440</td>\n",
       "      <td>0.039970</td>\n",
       "      <td>-0.013909</td>\n",
       "      <td>0.495120</td>\n",
       "      <td>0.000025</td>\n",
       "      <td>False</td>\n",
       "    </tr>\n",
       "    <tr>\n",
       "      <th>44</th>\n",
       "      <td>1.015884</td>\n",
       "      <td>0.184663</td>\n",
       "      <td>dummy_constant</td>\n",
       "      <td>1.015884</td>\n",
       "      <td>0.184663</td>\n",
       "      <td>0.162641</td>\n",
       "      <td>0.365574</td>\n",
       "      <td>0.000027</td>\n",
       "      <td>False</td>\n",
       "    </tr>\n",
       "    <tr>\n",
       "      <th>45</th>\n",
       "      <td>0.209777</td>\n",
       "      <td>0.996217</td>\n",
       "      <td>dummy_constant</td>\n",
       "      <td>0.209777</td>\n",
       "      <td>0.996217</td>\n",
       "      <td>0.134856</td>\n",
       "      <td>0.330461</td>\n",
       "      <td>0.000027</td>\n",
       "      <td>False</td>\n",
       "    </tr>\n",
       "    <tr>\n",
       "      <th>46</th>\n",
       "      <td>0.578378</td>\n",
       "      <td>0.857945</td>\n",
       "      <td>dummy_constant</td>\n",
       "      <td>0.578378</td>\n",
       "      <td>0.857945</td>\n",
       "      <td>0.170374</td>\n",
       "      <td>0.134268</td>\n",
       "      <td>0.000025</td>\n",
       "      <td>False</td>\n",
       "    </tr>\n",
       "    <tr>\n",
       "      <th>47</th>\n",
       "      <td>0.207698</td>\n",
       "      <td>0.556896</td>\n",
       "      <td>dummy_constant</td>\n",
       "      <td>0.207698</td>\n",
       "      <td>0.556896</td>\n",
       "      <td>-0.730836</td>\n",
       "      <td>0.088678</td>\n",
       "      <td>0.000026</td>\n",
       "      <td>False</td>\n",
       "    </tr>\n",
       "    <tr>\n",
       "      <th>48</th>\n",
       "      <td>0.292765</td>\n",
       "      <td>0.962998</td>\n",
       "      <td>dummy_constant</td>\n",
       "      <td>0.292765</td>\n",
       "      <td>0.962998</td>\n",
       "      <td>0.012100</td>\n",
       "      <td>0.257314</td>\n",
       "      <td>0.000025</td>\n",
       "      <td>False</td>\n",
       "    </tr>\n",
       "    <tr>\n",
       "      <th>49</th>\n",
       "      <td>0.251038</td>\n",
       "      <td>0.714277</td>\n",
       "      <td>dummy_constant</td>\n",
       "      <td>0.251038</td>\n",
       "      <td>0.714277</td>\n",
       "      <td>-0.490839</td>\n",
       "      <td>0.107897</td>\n",
       "      <td>0.000026</td>\n",
       "      <td>False</td>\n",
       "    </tr>\n",
       "    <tr>\n",
       "      <th>50</th>\n",
       "      <td>0.292495</td>\n",
       "      <td>0.855744</td>\n",
       "      <td>dummy_constant</td>\n",
       "      <td>0.292495</td>\n",
       "      <td>0.855744</td>\n",
       "      <td>-0.235036</td>\n",
       "      <td>0.169612</td>\n",
       "      <td>0.000027</td>\n",
       "      <td>False</td>\n",
       "    </tr>\n",
       "    <tr>\n",
       "      <th>51</th>\n",
       "      <td>1.224119</td>\n",
       "      <td>0.279904</td>\n",
       "      <td>dummy_constant</td>\n",
       "      <td>1.224119</td>\n",
       "      <td>0.279904</td>\n",
       "      <td>0.666636</td>\n",
       "      <td>0.572791</td>\n",
       "      <td>0.000027</td>\n",
       "      <td>False</td>\n",
       "    </tr>\n",
       "    <tr>\n",
       "      <th>52</th>\n",
       "      <td>1.085653</td>\n",
       "      <td>0.038651</td>\n",
       "      <td>dummy_constant</td>\n",
       "      <td>1.085653</td>\n",
       "      <td>0.038651</td>\n",
       "      <td>0.095914</td>\n",
       "      <td>0.555833</td>\n",
       "      <td>0.000027</td>\n",
       "      <td>False</td>\n",
       "    </tr>\n",
       "    <tr>\n",
       "      <th>53</th>\n",
       "      <td>0.837367</td>\n",
       "      <td>0.573261</td>\n",
       "      <td>dummy_constant</td>\n",
       "      <td>0.837367</td>\n",
       "      <td>0.573261</td>\n",
       "      <td>0.128192</td>\n",
       "      <td>0.119184</td>\n",
       "      <td>0.000026</td>\n",
       "      <td>False</td>\n",
       "    </tr>\n",
       "    <tr>\n",
       "      <th>54</th>\n",
       "      <td>0.752275</td>\n",
       "      <td>0.680589</td>\n",
       "      <td>dummy_constant</td>\n",
       "      <td>0.752275</td>\n",
       "      <td>0.680589</td>\n",
       "      <td>-0.040565</td>\n",
       "      <td>0.096255</td>\n",
       "      <td>0.000027</td>\n",
       "      <td>False</td>\n",
       "    </tr>\n",
       "  </tbody>\n",
       "</table>\n",
       "</div>"
      ],
      "text/plain": [
       "          x1        x2               a        y1        y2         c1  \\\n",
       "0   1.677832  0.228273  dummy_constant  1.677832  0.228273   1.923092   \n",
       "1   2.919254  0.944151  dummy_constant  2.919254  0.944151   8.384634   \n",
       "2   1.549714  2.132815  dummy_constant  1.549714  2.132815   6.031379   \n",
       "3   2.820358  2.742707  dummy_constant  2.820358  2.742707  14.379347   \n",
       "4   2.085256  0.832596  dummy_constant  2.085256  0.832596   3.943603   \n",
       "5   0.992124  0.211612  dummy_constant  0.992124  0.211612   0.126664   \n",
       "6   0.431963  0.021904  dummy_constant  0.431963  0.021904  -0.881833   \n",
       "7   0.000000  0.394261  dummy_constant  0.000000  0.394261  -0.944558   \n",
       "8   0.000000  0.921724  dummy_constant  0.000000  0.921724  -0.250425   \n",
       "9   0.234282  1.059013  dummy_constant  0.234282  1.059013   0.270607   \n",
       "10  0.599071  0.715938  dummy_constant  0.599071  0.715938  -0.143746   \n",
       "11  0.260366  0.712317  dummy_constant  0.260366  0.712317  -0.502807   \n",
       "12  0.614432  0.823663  dummy_constant  0.614432  0.823663   0.123439   \n",
       "13  0.085078  1.032585  dummy_constant  0.085078  1.032585   0.048200   \n",
       "14  0.803011  0.641476  dummy_constant  0.803011  0.641476   0.077267   \n",
       "15  0.977875  0.045691  dummy_constant  0.977875  0.045691  -0.115042   \n",
       "16  0.906451  0.403110  dummy_constant  0.906451  0.403110  -0.107483   \n",
       "17  1.037192  0.093283  dummy_constant  1.037192  0.093283   0.070947   \n",
       "18  0.383173  0.921556  dummy_constant  0.383173  0.921556  -0.103889   \n",
       "19  0.949761  0.425690  dummy_constant  0.949761  0.425690  -0.006409   \n",
       "20  0.721169  0.735654  dummy_constant  0.721169  0.735654  -0.037466   \n",
       "21  0.953658  0.000000  dummy_constant  0.953658  0.000000  -0.190536   \n",
       "22  0.828781  0.663761  dummy_constant  0.828781  0.663761   0.146445   \n",
       "23  1.026062  0.043203  dummy_constant  1.026062  0.043203  -0.023506   \n",
       "24  1.465356  0.171553  dummy_constant  1.465356  0.171553   1.205665   \n",
       "25  0.102319  1.231476  dummy_constant  0.102319  1.231476   0.502800   \n",
       "26  0.406171  0.952280  dummy_constant  0.406171  0.952280  -0.026790   \n",
       "27  0.068500  1.044885  dummy_constant  0.068500  1.044885   0.046496   \n",
       "28  0.927215  0.057908  dummy_constant  0.927215  0.057908  -0.191120   \n",
       "29  0.982456  0.160495  dummy_constant  0.982456  0.160495   0.076194   \n",
       "30  0.167215  0.744272  dummy_constant  0.167215  0.744272  -0.325776   \n",
       "31  0.532148  0.879300  dummy_constant  0.532148  0.879300   0.131722   \n",
       "32  1.461123  0.336057  dummy_constant  1.461123  0.336057   1.336723   \n",
       "33  0.924701  0.012507  dummy_constant  0.924701  0.012507  -0.242439   \n",
       "34  0.685265  0.318501  dummy_constant  0.685265  0.318501  -0.506845   \n",
       "35  0.608842  0.634832  dummy_constant  0.608842  0.634832  -0.320763   \n",
       "36  0.678368  0.699789  dummy_constant  0.678368  0.699789  -0.147037   \n",
       "37  0.684628  0.794525  dummy_constant  0.684628  0.794525   0.062503   \n",
       "38  0.880943  0.537130  dummy_constant  0.880943  0.537130   0.143311   \n",
       "39  0.960841  0.320980  dummy_constant  0.960841  0.320980  -0.016902   \n",
       "40  0.841478  0.062499  dummy_constant  0.841478  0.062499  -0.325529   \n",
       "41  0.143656  2.898671  dummy_constant  0.143656  2.898671   7.352710   \n",
       "42  0.461345  0.512628  dummy_constant  0.461345  0.512628  -0.590995   \n",
       "43  1.032440  0.039970  dummy_constant  1.032440  0.039970  -0.013909   \n",
       "44  1.015884  0.184663  dummy_constant  1.015884  0.184663   0.162641   \n",
       "45  0.209777  0.996217  dummy_constant  0.209777  0.996217   0.134856   \n",
       "46  0.578378  0.857945  dummy_constant  0.578378  0.857945   0.170374   \n",
       "47  0.207698  0.556896  dummy_constant  0.207698  0.556896  -0.730836   \n",
       "48  0.292765  0.962998  dummy_constant  0.292765  0.962998   0.012100   \n",
       "49  0.251038  0.714277  dummy_constant  0.251038  0.714277  -0.490839   \n",
       "50  0.292495  0.855744  dummy_constant  0.292495  0.855744  -0.235036   \n",
       "51  1.224119  0.279904  dummy_constant  1.224119  0.279904   0.666636   \n",
       "52  1.085653  0.038651  dummy_constant  1.085653  0.038651   0.095914   \n",
       "53  0.837367  0.573261  dummy_constant  0.837367  0.573261   0.128192   \n",
       "54  0.752275  0.680589  dummy_constant  0.752275  0.680589  -0.040565   \n",
       "\n",
       "           c2  xopt_runtime  xopt_error  \n",
       "0    1.461123      0.000033       False  \n",
       "1    6.050061      0.000008       False  \n",
       "2    3.767986      0.000007       False  \n",
       "3   10.413798      0.000006       False  \n",
       "4    2.623656      0.000005       False  \n",
       "5    0.325354      0.000022       False  \n",
       "6    0.233205      0.000024       False  \n",
       "7    0.261181      0.000025       False  \n",
       "8    0.427851      0.000023       False  \n",
       "9    0.383101      0.000023       False  \n",
       "10   0.056444      0.000023       False  \n",
       "11   0.102503      0.000022       False  \n",
       "12   0.117852      0.000022       False  \n",
       "13   0.455808      0.000022       False  \n",
       "14   0.111831      0.000026       False  \n",
       "15   0.434762      0.000027       False  \n",
       "16   0.174590      0.000023       False  \n",
       "17   0.453994      0.000026       False  \n",
       "18   0.191358      0.000026       False  \n",
       "19   0.207807      0.000025       False  \n",
       "20   0.104449      0.000041       False  \n",
       "21   0.455806      0.000024       False  \n",
       "22   0.134914      0.000025       False  \n",
       "23   0.485405      0.000026       False  \n",
       "24   1.039790      0.000024       False  \n",
       "25   0.693207      0.000026       False  \n",
       "26   0.213361      0.000025       False  \n",
       "27   0.483092      0.000025       False  \n",
       "28   0.377958      0.000026       False  \n",
       "29   0.348027      0.000026       False  \n",
       "30   0.170415      0.000026       False  \n",
       "31   0.144902      0.000025       False  \n",
       "32   0.950635      0.000027       False  \n",
       "33   0.418021      0.000026       False  \n",
       "34   0.067265      0.000026       False  \n",
       "35   0.030026      0.000025       False  \n",
       "36   0.071731      0.000026       False  \n",
       "37   0.120833      0.000024       False  \n",
       "38   0.146496      0.000026       False  \n",
       "39   0.244422      0.000025       False  \n",
       "40   0.308014      0.000025       False  \n",
       "41   5.880604      0.000026       False  \n",
       "42   0.001654      0.000028       False  \n",
       "43   0.495120      0.000025       False  \n",
       "44   0.365574      0.000027       False  \n",
       "45   0.330461      0.000027       False  \n",
       "46   0.134268      0.000025       False  \n",
       "47   0.088678      0.000026       False  \n",
       "48   0.257314      0.000025       False  \n",
       "49   0.107897      0.000026       False  \n",
       "50   0.169612      0.000027       False  \n",
       "51   0.572791      0.000027       False  \n",
       "52   0.555833      0.000027       False  \n",
       "53   0.119184      0.000026       False  \n",
       "54   0.096255      0.000027       False  "
      ]
     },
     "execution_count": 3,
     "metadata": {},
     "output_type": "execute_result"
    }
   ],
   "source": [
    "X.generator.data"
   ]
  },
  {
   "cell_type": "markdown",
   "metadata": {
    "collapsed": false
   },
   "source": [
    "## plot results\n"
   ]
  },
  {
   "cell_type": "code",
   "execution_count": 4,
   "metadata": {
    "collapsed": false,
    "execution": {
     "iopub.execute_input": "2024-01-25T21:42:02.445798Z",
     "iopub.status.busy": "2024-01-25T21:42:02.445403Z",
     "iopub.status.idle": "2024-01-25T21:42:02.953365Z",
     "shell.execute_reply": "2024-01-25T21:42:02.952769Z"
    }
   },
   "outputs": [
    {
     "data": {
      "image/png": "[encoded data removed]",
      "text/plain": [
       "<Figure size 640x480 with 1 Axes>"
      ]
     },
     "metadata": {},
     "output_type": "display_data"
    }
   ],
   "source": [
    "import matplotlib.pyplot as plt\n",
    "import numpy as np\n",
    "import pandas as pd\n",
    "\n",
    "fig, ax = plt.subplots()\n",
    "\n",
    "theta = np.linspace(0, np.pi / 2)\n",
    "r = np.sqrt(1 + 0.1 * np.cos(16 * theta))\n",
    "x_1 = r * np.sin(theta)\n",
    "x_2_lower = r * np.cos(theta)\n",
    "x_2_upper = (0.5 - (x_1 - 0.5) ** 2) ** 0.5 + 0.5\n",
    "\n",
    "z = np.zeros_like(x_1)\n",
    "\n",
    "# ax2.plot(x_1, x_2_lower,'r')\n",
    "ax.fill_between(x_1, z, x_2_lower, fc=\"white\")\n",
    "circle = plt.Circle(\n",
    "    (0.5, 0.5), 0.5 ** 0.5, color=\"r\", alpha=0.25, zorder=0, label=\"Valid Region\"\n",
    ")\n",
    "ax.add_patch(circle)\n",
    "history = pd.concat(\n",
    "    [X.data, X.vocs.feasibility_data(X.data)], axis=1, ignore_index=False\n",
    ")\n",
    "\n",
    "\n",
    "ax.plot(*history[[\"x1\", \"x2\"]][history[\"feasible\"]].to_numpy().T, \".C1\")\n",
    "ax.plot(*history[[\"x1\", \"x2\"]][~history[\"feasible\"]].to_numpy().T, \".C2\")\n",
    "\n",
    "ax.set_xlim(0, 3.14)\n",
    "ax.set_ylim(0, 3.14)\n",
    "ax.set_xlabel(\"x1\")\n",
    "ax.set_ylabel(\"x2\")\n",
    "ax.set_aspect(\"equal\")"
   ]
  },
  {
   "cell_type": "markdown",
   "metadata": {
    "collapsed": false
   },
   "source": [
    "### Plot path through input space"
   ]
  },
  {
   "cell_type": "code",
   "execution_count": 5,
   "metadata": {
    "collapsed": false,
    "execution": {
     "iopub.execute_input": "2024-01-25T21:42:02.955787Z",
     "iopub.status.busy": "2024-01-25T21:42:02.955529Z",
     "iopub.status.idle": "2024-01-25T21:42:03.074524Z",
     "shell.execute_reply": "2024-01-25T21:42:03.073937Z"
    }
   },
   "outputs": [
    {
     "data": {
      "image/png": "[encoded data removed]",
      "text/plain": [
       "<Figure size 640x480 with 1 Axes>"
      ]
     },
     "metadata": {},
     "output_type": "display_data"
    }
   ],
   "source": [
    "ax = history.plot(\"x1\", \"x2\")\n",
    "ax.set_ylim(0, 3.14)\n",
    "ax.set_xlim(0, 3.14)\n",
    "ax.set_aspect(\"equal\")"
   ]
  },
  {
   "cell_type": "code",
   "execution_count": 6,
   "metadata": {
    "collapsed": false,
    "execution": {
     "iopub.execute_input": "2024-01-25T21:42:03.076879Z",
     "iopub.status.busy": "2024-01-25T21:42:03.076506Z",
     "iopub.status.idle": "2024-01-25T21:42:08.491050Z",
     "shell.execute_reply": "2024-01-25T21:42:08.490398Z"
    }
   },
   "outputs": [
    {
     "name": "stdout",
     "output_type": "stream",
     "text": [
      "[[0.77823921 0.66177893]]\n"
     ]
    },
    {
     "data": {
      "text/plain": [
       "[<matplotlib.lines.Line2D at 0x7f298c985f70>]"
      ]
     },
     "execution_count": 6,
     "metadata": {},
     "output_type": "execute_result"
    },
    {
     "data": {
      "image/png": "[encoded data removed]",
      "text/plain": [
       "<Figure size 800x800 with 2 Axes>"
      ]
     },
     "metadata": {},
     "output_type": "display_data"
    },
    {
     "data": {
      "image/png": "[encoded data removed]",
      "text/plain": [
       "<Figure size 800x800 with 2 Axes>"
      ]
     },
     "metadata": {},
     "output_type": "display_data"
    }
   ],
   "source": [
    "# plot the acquisition function\n",
    "from xopt.generators.bayesian.objectives import feasibility\n",
    "\n",
    "bounds = X.generator.vocs.bounds\n",
    "model = X.generator.model\n",
    "\n",
    "# create mesh\n",
    "n = 100\n",
    "x = torch.linspace(*bounds.T[0], n)\n",
    "y = torch.linspace(*bounds.T[1], n)\n",
    "xx, yy = torch.meshgrid(x, y)\n",
    "pts = torch.hstack([ele.reshape(-1, 1) for ele in (xx, yy)]).double()\n",
    "\n",
    "xx, yy = xx.numpy(), yy.numpy()\n",
    "\n",
    "acq_func = X.generator.get_acquisition(model)\n",
    "with torch.no_grad():\n",
    "    acq_pts = pts.unsqueeze(1)\n",
    "    acq = acq_func(acq_pts)\n",
    "\n",
    "    fig, ax = plt.subplots(figsize=(8,8))\n",
    "    c = ax.pcolor(xx, yy, acq.reshape(n, n), cmap=\"Blues\")\n",
    "    fig.colorbar(c)\n",
    "    ax.set_title(\"Acquisition function\")\n",
    "\n",
    "    ax.plot(*history[[\"x1\", \"x2\"]][history[\"feasible\"]].to_numpy().T, \".C1\")\n",
    "    ax.plot(*history[[\"x1\", \"x2\"]][~history[\"feasible\"]].to_numpy().T, \".C2\")\n",
    "\n",
    "    ax.plot(*history[[\"x1\", \"x2\"]].to_numpy()[-1].T, \"+\")\n",
    "\n",
    "    feas = feasibility(pts.unsqueeze(1), model, X.vocs).flatten()\n",
    "\n",
    "    fig2, ax2 = plt.subplots(figsize=(8,8))\n",
    "    c = ax2.pcolor(xx, yy, feas.reshape(n, n))\n",
    "    fig2.colorbar(c)\n",
    "    ax2.set_title(\"Feasible Region\")\n",
    "\n",
    "candidate = pd.DataFrame(X.generator.generate(1), index=[0])\n",
    "print(candidate[[\"x1\", \"x2\"]].to_numpy())\n",
    "ax.plot(*candidate[[\"x1\", \"x2\"]].to_numpy()[0], \"o\")"
   ]
  }
 ],
 "metadata": {
  "interpreter": {
   "hash": "72034539424920dfb606fe3b820b3f27dca0cbf1c69938110810ec4641e275b1"
  },
  "kernelspec": {
   "display_name": "Python 3 (ipykernel)",
   "language": "python",
   "name": "python3"
  },
  "language_info": {
   "codemirror_mode": {
    "name": "ipython",
    "version": 3
   },
   "file_extension": ".py",
   "mimetype": "text/x-python",
   "name": "python",
   "nbconvert_exporter": "python",
   "pygments_lexer": "ipython3",
   "version": "3.9.18"
  }
 },
 "nbformat": 4,
 "nbformat_minor": 4
}
