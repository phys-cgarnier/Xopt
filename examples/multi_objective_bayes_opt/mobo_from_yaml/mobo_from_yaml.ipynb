{
 "cells": [
  {
   "cell_type": "markdown",
   "metadata": {},
   "source": [
    "\n",
    "# Multi-objective Bayesian Optimization\n",
    "\n",
    "\n",
    "TNK function\n",
    "$n=2$ variables:\n",
    "$x_i \\in [0, \\pi], i=1,2$\n",
    "\n",
    "Objectives:\n",
    "- $f_i(x) = x_i$\n",
    "\n",
    "Constraints:\n",
    "- $g_1(x) = -x_1^2 -x_2^2 + 1 + 0.1 \\cos\\left(16 \\arctan \\frac{x_1}{x_2}\\right) \\le 0$\n",
    "- $g_2(x) = (x_1 - 1/2)^2 + (x_2-1/2)^2 \\le 0.5$"
   ]
  },
  {
   "cell_type": "code",
   "execution_count": 1,
   "metadata": {
    "collapsed": false,
    "execution": {
     "iopub.execute_input": "2024-04-03T04:01:30.114845Z",
     "iopub.status.busy": "2024-04-03T04:01:30.114346Z",
     "iopub.status.idle": "2024-04-03T04:01:31.571463Z",
     "shell.execute_reply": "2024-04-03T04:01:31.570844Z"
    }
   },
   "outputs": [],
   "source": [
    "import os\n",
    "SMOKE_TEST = os.environ.get(\"SMOKE_TEST\")\n",
    "NUM_STEPS = 2 if SMOKE_TEST else 50\n",
    "\n",
    "# Ignore all warnings\n",
    "import warnings\n",
    "warnings.filterwarnings(\"ignore\")\n",
    "\n",
    "import torch\n",
    "from xopt import Xopt\n",
    "\n",
    "\n",
    "YAML = \"\"\"\n",
    "generator:\n",
    "    name: mobo\n",
    "    reference_point: {y1: 1.5, y2: 1.5}\n",
    "\n",
    "evaluator:\n",
    "    function: xopt.resources.test_functions.tnk.evaluate_TNK\n",
    "\n",
    "vocs:\n",
    "    variables:\n",
    "        x1: [0, 3.14159]\n",
    "        x2: [0, 3.14159]\n",
    "    objectives: {y1: MINIMIZE, y2: MINIMIZE}\n",
    "    constraints:\n",
    "        c1: [GREATER_THAN, 0]\n",
    "        c2: [LESS_THAN, 0.5]\n",
    "    constants: {a: dummy_constant}\n",
    "\n",
    "\"\"\""
   ]
  },
  {
   "cell_type": "code",
   "execution_count": 2,
   "metadata": {
    "collapsed": false,
    "execution": {
     "iopub.execute_input": "2024-04-03T04:01:31.574281Z",
     "iopub.status.busy": "2024-04-03T04:01:31.573868Z",
     "iopub.status.idle": "2024-04-03T04:02:32.214282Z",
     "shell.execute_reply": "2024-04-03T04:02:32.213613Z"
    }
   },
   "outputs": [
    {
     "name": "stdout",
     "output_type": "stream",
     "text": [
      "0\n"
     ]
    },
    {
     "name": "stdout",
     "output_type": "stream",
     "text": [
      "1\n"
     ]
    },
    {
     "name": "stdout",
     "output_type": "stream",
     "text": [
      "2\n"
     ]
    },
    {
     "name": "stdout",
     "output_type": "stream",
     "text": [
      "3\n"
     ]
    },
    {
     "name": "stdout",
     "output_type": "stream",
     "text": [
      "4\n"
     ]
    },
    {
     "name": "stdout",
     "output_type": "stream",
     "text": [
      "5\n"
     ]
    },
    {
     "name": "stdout",
     "output_type": "stream",
     "text": [
      "6\n"
     ]
    },
    {
     "name": "stdout",
     "output_type": "stream",
     "text": [
      "7\n"
     ]
    },
    {
     "name": "stdout",
     "output_type": "stream",
     "text": [
      "8\n"
     ]
    },
    {
     "name": "stdout",
     "output_type": "stream",
     "text": [
      "9\n"
     ]
    },
    {
     "name": "stdout",
     "output_type": "stream",
     "text": [
      "10\n"
     ]
    },
    {
     "name": "stdout",
     "output_type": "stream",
     "text": [
      "11\n"
     ]
    },
    {
     "name": "stdout",
     "output_type": "stream",
     "text": [
      "12\n"
     ]
    },
    {
     "name": "stdout",
     "output_type": "stream",
     "text": [
      "13\n"
     ]
    },
    {
     "name": "stdout",
     "output_type": "stream",
     "text": [
      "14\n"
     ]
    },
    {
     "name": "stdout",
     "output_type": "stream",
     "text": [
      "15\n"
     ]
    },
    {
     "name": "stdout",
     "output_type": "stream",
     "text": [
      "16\n"
     ]
    },
    {
     "name": "stdout",
     "output_type": "stream",
     "text": [
      "17\n"
     ]
    },
    {
     "name": "stdout",
     "output_type": "stream",
     "text": [
      "18\n"
     ]
    },
    {
     "name": "stdout",
     "output_type": "stream",
     "text": [
      "19\n"
     ]
    },
    {
     "name": "stdout",
     "output_type": "stream",
     "text": [
      "20\n"
     ]
    },
    {
     "name": "stdout",
     "output_type": "stream",
     "text": [
      "21\n"
     ]
    },
    {
     "name": "stdout",
     "output_type": "stream",
     "text": [
      "22\n"
     ]
    },
    {
     "name": "stdout",
     "output_type": "stream",
     "text": [
      "23\n"
     ]
    },
    {
     "name": "stdout",
     "output_type": "stream",
     "text": [
      "24\n"
     ]
    },
    {
     "name": "stdout",
     "output_type": "stream",
     "text": [
      "25\n"
     ]
    },
    {
     "name": "stdout",
     "output_type": "stream",
     "text": [
      "26\n"
     ]
    },
    {
     "name": "stdout",
     "output_type": "stream",
     "text": [
      "27\n"
     ]
    },
    {
     "name": "stdout",
     "output_type": "stream",
     "text": [
      "28\n"
     ]
    },
    {
     "name": "stdout",
     "output_type": "stream",
     "text": [
      "29\n"
     ]
    },
    {
     "name": "stdout",
     "output_type": "stream",
     "text": [
      "30\n"
     ]
    },
    {
     "name": "stdout",
     "output_type": "stream",
     "text": [
      "31\n"
     ]
    },
    {
     "name": "stdout",
     "output_type": "stream",
     "text": [
      "32\n"
     ]
    },
    {
     "name": "stdout",
     "output_type": "stream",
     "text": [
      "33\n"
     ]
    },
    {
     "name": "stdout",
     "output_type": "stream",
     "text": [
      "34\n"
     ]
    },
    {
     "name": "stdout",
     "output_type": "stream",
     "text": [
      "35\n"
     ]
    },
    {
     "name": "stdout",
     "output_type": "stream",
     "text": [
      "36\n"
     ]
    },
    {
     "name": "stdout",
     "output_type": "stream",
     "text": [
      "37\n"
     ]
    },
    {
     "name": "stdout",
     "output_type": "stream",
     "text": [
      "38\n"
     ]
    },
    {
     "name": "stdout",
     "output_type": "stream",
     "text": [
      "39\n"
     ]
    },
    {
     "name": "stdout",
     "output_type": "stream",
     "text": [
      "40\n"
     ]
    },
    {
     "name": "stdout",
     "output_type": "stream",
     "text": [
      "41\n"
     ]
    },
    {
     "name": "stdout",
     "output_type": "stream",
     "text": [
      "42\n"
     ]
    },
    {
     "name": "stdout",
     "output_type": "stream",
     "text": [
      "43\n"
     ]
    },
    {
     "name": "stdout",
     "output_type": "stream",
     "text": [
      "44\n"
     ]
    },
    {
     "name": "stdout",
     "output_type": "stream",
     "text": [
      "45\n"
     ]
    },
    {
     "name": "stdout",
     "output_type": "stream",
     "text": [
      "46\n"
     ]
    },
    {
     "name": "stdout",
     "output_type": "stream",
     "text": [
      "47\n"
     ]
    },
    {
     "name": "stdout",
     "output_type": "stream",
     "text": [
      "48\n"
     ]
    },
    {
     "name": "stdout",
     "output_type": "stream",
     "text": [
      "49\n"
     ]
    }
   ],
   "source": [
    "X = Xopt.from_yaml(YAML)\n",
    "\n",
    "# for testing purposes only\n",
    "if SMOKE_TEST:\n",
    "    X.generator.numerical_optimizer.n_restarts = 1\n",
    "    X.generator.n_monte_carlo_samples = 1\n",
    "\n",
    "X.random_evaluate(5)\n",
    "for i in range(NUM_STEPS):\n",
    "    print(i)\n",
    "    X.step()"
   ]
  },
  {
   "cell_type": "code",
   "execution_count": 3,
   "metadata": {
    "collapsed": false,
    "execution": {
     "iopub.execute_input": "2024-04-03T04:02:32.217348Z",
     "iopub.status.busy": "2024-04-03T04:02:32.216836Z",
     "iopub.status.idle": "2024-04-03T04:02:32.241597Z",
     "shell.execute_reply": "2024-04-03T04:02:32.241031Z"
    }
   },
   "outputs": [
    {
     "data": {
      "text/html": [
       "<div>\n",
       "<style scoped>\n",
       "    .dataframe tbody tr th:only-of-type {\n",
       "        vertical-align: middle;\n",
       "    }\n",
       "\n",
       "    .dataframe tbody tr th {\n",
       "        vertical-align: top;\n",
       "    }\n",
       "\n",
       "    .dataframe thead th {\n",
       "        text-align: right;\n",
       "    }\n",
       "</style>\n",
       "<table border=\"1\" class=\"dataframe\">\n",
       "  <thead>\n",
       "    <tr style=\"text-align: right;\">\n",
       "      <th></th>\n",
       "      <th>x1</th>\n",
       "      <th>x2</th>\n",
       "      <th>a</th>\n",
       "      <th>y1</th>\n",
       "      <th>y2</th>\n",
       "      <th>c1</th>\n",
       "      <th>c2</th>\n",
       "      <th>xopt_runtime</th>\n",
       "      <th>xopt_error</th>\n",
       "    </tr>\n",
       "  </thead>\n",
       "  <tbody>\n",
       "    <tr>\n",
       "      <th>0</th>\n",
       "      <td>0.973126</td>\n",
       "      <td>0.441907</td>\n",
       "      <td>dummy_constant</td>\n",
       "      <td>0.973126</td>\n",
       "      <td>0.441907</td>\n",
       "      <td>0.056337</td>\n",
       "      <td>0.227223</td>\n",
       "      <td>0.000034</td>\n",
       "      <td>False</td>\n",
       "    </tr>\n",
       "    <tr>\n",
       "      <th>1</th>\n",
       "      <td>1.942713</td>\n",
       "      <td>2.676246</td>\n",
       "      <td>dummy_constant</td>\n",
       "      <td>1.942713</td>\n",
       "      <td>2.676246</td>\n",
       "      <td>10.017713</td>\n",
       "      <td>6.817465</td>\n",
       "      <td>0.000009</td>\n",
       "      <td>False</td>\n",
       "    </tr>\n",
       "    <tr>\n",
       "      <th>2</th>\n",
       "      <td>0.153483</td>\n",
       "      <td>0.692796</td>\n",
       "      <td>dummy_constant</td>\n",
       "      <td>0.153483</td>\n",
       "      <td>0.692796</td>\n",
       "      <td>-0.402428</td>\n",
       "      <td>0.157244</td>\n",
       "      <td>0.000006</td>\n",
       "      <td>False</td>\n",
       "    </tr>\n",
       "    <tr>\n",
       "      <th>3</th>\n",
       "      <td>3.037194</td>\n",
       "      <td>0.317518</td>\n",
       "      <td>dummy_constant</td>\n",
       "      <td>3.037194</td>\n",
       "      <td>0.317518</td>\n",
       "      <td>8.334933</td>\n",
       "      <td>6.470652</td>\n",
       "      <td>0.000006</td>\n",
       "      <td>False</td>\n",
       "    </tr>\n",
       "    <tr>\n",
       "      <th>4</th>\n",
       "      <td>2.275164</td>\n",
       "      <td>2.240720</td>\n",
       "      <td>dummy_constant</td>\n",
       "      <td>2.275164</td>\n",
       "      <td>2.240720</td>\n",
       "      <td>9.097943</td>\n",
       "      <td>6.181315</td>\n",
       "      <td>0.000006</td>\n",
       "      <td>False</td>\n",
       "    </tr>\n",
       "    <tr>\n",
       "      <th>5</th>\n",
       "      <td>0.110129</td>\n",
       "      <td>0.400938</td>\n",
       "      <td>dummy_constant</td>\n",
       "      <td>0.110129</td>\n",
       "      <td>0.400938</td>\n",
       "      <td>-0.786042</td>\n",
       "      <td>0.161813</td>\n",
       "      <td>0.000023</td>\n",
       "      <td>False</td>\n",
       "    </tr>\n",
       "    <tr>\n",
       "      <th>6</th>\n",
       "      <td>0.174484</td>\n",
       "      <td>0.868165</td>\n",
       "      <td>dummy_constant</td>\n",
       "      <td>0.174484</td>\n",
       "      <td>0.868165</td>\n",
       "      <td>-0.115895</td>\n",
       "      <td>0.241506</td>\n",
       "      <td>0.000040</td>\n",
       "      <td>False</td>\n",
       "    </tr>\n",
       "    <tr>\n",
       "      <th>7</th>\n",
       "      <td>0.183261</td>\n",
       "      <td>0.973881</td>\n",
       "      <td>dummy_constant</td>\n",
       "      <td>0.183261</td>\n",
       "      <td>0.973881</td>\n",
       "      <td>0.080661</td>\n",
       "      <td>0.324887</td>\n",
       "      <td>0.000025</td>\n",
       "      <td>False</td>\n",
       "    </tr>\n",
       "    <tr>\n",
       "      <th>8</th>\n",
       "      <td>0.604903</td>\n",
       "      <td>0.000000</td>\n",
       "      <td>dummy_constant</td>\n",
       "      <td>0.604903</td>\n",
       "      <td>0.000000</td>\n",
       "      <td>-0.734093</td>\n",
       "      <td>0.261005</td>\n",
       "      <td>0.000026</td>\n",
       "      <td>False</td>\n",
       "    </tr>\n",
       "    <tr>\n",
       "      <th>9</th>\n",
       "      <td>0.860026</td>\n",
       "      <td>0.000000</td>\n",
       "      <td>dummy_constant</td>\n",
       "      <td>0.860026</td>\n",
       "      <td>0.000000</td>\n",
       "      <td>-0.360355</td>\n",
       "      <td>0.379619</td>\n",
       "      <td>0.000026</td>\n",
       "      <td>False</td>\n",
       "    </tr>\n",
       "    <tr>\n",
       "      <th>10</th>\n",
       "      <td>1.043617</td>\n",
       "      <td>0.217836</td>\n",
       "      <td>dummy_constant</td>\n",
       "      <td>1.043617</td>\n",
       "      <td>0.217836</td>\n",
       "      <td>0.235454</td>\n",
       "      <td>0.375136</td>\n",
       "      <td>0.000026</td>\n",
       "      <td>False</td>\n",
       "    </tr>\n",
       "    <tr>\n",
       "      <th>11</th>\n",
       "      <td>0.032292</td>\n",
       "      <td>0.977119</td>\n",
       "      <td>dummy_constant</td>\n",
       "      <td>0.032292</td>\n",
       "      <td>0.977119</td>\n",
       "      <td>-0.130547</td>\n",
       "      <td>0.446394</td>\n",
       "      <td>0.000025</td>\n",
       "      <td>False</td>\n",
       "    </tr>\n",
       "    <tr>\n",
       "      <th>12</th>\n",
       "      <td>0.357000</td>\n",
       "      <td>0.883158</td>\n",
       "      <td>dummy_constant</td>\n",
       "      <td>0.357000</td>\n",
       "      <td>0.883158</td>\n",
       "      <td>-0.191649</td>\n",
       "      <td>0.167259</td>\n",
       "      <td>0.000024</td>\n",
       "      <td>False</td>\n",
       "    </tr>\n",
       "    <tr>\n",
       "      <th>13</th>\n",
       "      <td>1.006156</td>\n",
       "      <td>0.057990</td>\n",
       "      <td>dummy_constant</td>\n",
       "      <td>1.006156</td>\n",
       "      <td>0.057990</td>\n",
       "      <td>-0.044778</td>\n",
       "      <td>0.451567</td>\n",
       "      <td>0.000025</td>\n",
       "      <td>False</td>\n",
       "    </tr>\n",
       "    <tr>\n",
       "      <th>14</th>\n",
       "      <td>0.122888</td>\n",
       "      <td>1.047008</td>\n",
       "      <td>dummy_constant</td>\n",
       "      <td>0.122888</td>\n",
       "      <td>1.047008</td>\n",
       "      <td>0.140744</td>\n",
       "      <td>0.441432</td>\n",
       "      <td>0.000026</td>\n",
       "      <td>False</td>\n",
       "    </tr>\n",
       "    <tr>\n",
       "      <th>15</th>\n",
       "      <td>0.132033</td>\n",
       "      <td>0.680857</td>\n",
       "      <td>dummy_constant</td>\n",
       "      <td>0.132033</td>\n",
       "      <td>0.680857</td>\n",
       "      <td>-0.419297</td>\n",
       "      <td>0.168109</td>\n",
       "      <td>0.000026</td>\n",
       "      <td>False</td>\n",
       "    </tr>\n",
       "    <tr>\n",
       "      <th>16</th>\n",
       "      <td>0.686313</td>\n",
       "      <td>0.489651</td>\n",
       "      <td>dummy_constant</td>\n",
       "      <td>0.686313</td>\n",
       "      <td>0.489651</td>\n",
       "      <td>-0.201000</td>\n",
       "      <td>0.034820</td>\n",
       "      <td>0.000027</td>\n",
       "      <td>False</td>\n",
       "    </tr>\n",
       "    <tr>\n",
       "      <th>17</th>\n",
       "      <td>0.748073</td>\n",
       "      <td>0.771971</td>\n",
       "      <td>dummy_constant</td>\n",
       "      <td>0.748073</td>\n",
       "      <td>0.771971</td>\n",
       "      <td>0.058700</td>\n",
       "      <td>0.135509</td>\n",
       "      <td>0.000026</td>\n",
       "      <td>False</td>\n",
       "    </tr>\n",
       "    <tr>\n",
       "      <th>18</th>\n",
       "      <td>0.779015</td>\n",
       "      <td>0.805520</td>\n",
       "      <td>dummy_constant</td>\n",
       "      <td>0.779015</td>\n",
       "      <td>0.805520</td>\n",
       "      <td>0.159285</td>\n",
       "      <td>0.171191</td>\n",
       "      <td>0.000026</td>\n",
       "      <td>False</td>\n",
       "    </tr>\n",
       "    <tr>\n",
       "      <th>19</th>\n",
       "      <td>0.573798</td>\n",
       "      <td>0.894900</td>\n",
       "      <td>dummy_constant</td>\n",
       "      <td>0.573798</td>\n",
       "      <td>0.894900</td>\n",
       "      <td>0.225555</td>\n",
       "      <td>0.161392</td>\n",
       "      <td>0.000025</td>\n",
       "      <td>False</td>\n",
       "    </tr>\n",
       "    <tr>\n",
       "      <th>20</th>\n",
       "      <td>0.154911</td>\n",
       "      <td>0.133823</td>\n",
       "      <td>dummy_constant</td>\n",
       "      <td>0.154911</td>\n",
       "      <td>0.133823</td>\n",
       "      <td>-0.997431</td>\n",
       "      <td>0.253172</td>\n",
       "      <td>0.000026</td>\n",
       "      <td>False</td>\n",
       "    </tr>\n",
       "    <tr>\n",
       "      <th>21</th>\n",
       "      <td>0.362376</td>\n",
       "      <td>1.236445</td>\n",
       "      <td>dummy_constant</td>\n",
       "      <td>0.362376</td>\n",
       "      <td>1.236445</td>\n",
       "      <td>0.675143</td>\n",
       "      <td>0.561292</td>\n",
       "      <td>0.000027</td>\n",
       "      <td>False</td>\n",
       "    </tr>\n",
       "    <tr>\n",
       "      <th>22</th>\n",
       "      <td>0.619091</td>\n",
       "      <td>0.810045</td>\n",
       "      <td>dummy_constant</td>\n",
       "      <td>0.619091</td>\n",
       "      <td>0.810045</td>\n",
       "      <td>0.092094</td>\n",
       "      <td>0.110311</td>\n",
       "      <td>0.000025</td>\n",
       "      <td>False</td>\n",
       "    </tr>\n",
       "    <tr>\n",
       "      <th>23</th>\n",
       "      <td>0.851258</td>\n",
       "      <td>0.607554</td>\n",
       "      <td>dummy_constant</td>\n",
       "      <td>0.851258</td>\n",
       "      <td>0.607554</td>\n",
       "      <td>0.181846</td>\n",
       "      <td>0.134950</td>\n",
       "      <td>0.000025</td>\n",
       "      <td>False</td>\n",
       "    </tr>\n",
       "    <tr>\n",
       "      <th>24</th>\n",
       "      <td>1.272932</td>\n",
       "      <td>1.877068</td>\n",
       "      <td>dummy_constant</td>\n",
       "      <td>1.272932</td>\n",
       "      <td>1.877068</td>\n",
       "      <td>4.243138</td>\n",
       "      <td>2.493740</td>\n",
       "      <td>0.000027</td>\n",
       "      <td>False</td>\n",
       "    </tr>\n",
       "    <tr>\n",
       "      <th>25</th>\n",
       "      <td>0.924334</td>\n",
       "      <td>0.383165</td>\n",
       "      <td>dummy_constant</td>\n",
       "      <td>0.924334</td>\n",
       "      <td>0.383165</td>\n",
       "      <td>-0.098790</td>\n",
       "      <td>0.193710</td>\n",
       "      <td>0.000025</td>\n",
       "      <td>False</td>\n",
       "    </tr>\n",
       "    <tr>\n",
       "      <th>26</th>\n",
       "      <td>0.040610</td>\n",
       "      <td>1.015654</td>\n",
       "      <td>dummy_constant</td>\n",
       "      <td>0.040610</td>\n",
       "      <td>1.015654</td>\n",
       "      <td>-0.047042</td>\n",
       "      <td>0.476938</td>\n",
       "      <td>0.000026</td>\n",
       "      <td>False</td>\n",
       "    </tr>\n",
       "    <tr>\n",
       "      <th>27</th>\n",
       "      <td>0.378822</td>\n",
       "      <td>0.927638</td>\n",
       "      <td>dummy_constant</td>\n",
       "      <td>0.378822</td>\n",
       "      <td>0.927638</td>\n",
       "      <td>-0.095664</td>\n",
       "      <td>0.197558</td>\n",
       "      <td>0.000025</td>\n",
       "      <td>False</td>\n",
       "    </tr>\n",
       "    <tr>\n",
       "      <th>28</th>\n",
       "      <td>0.059892</td>\n",
       "      <td>1.034552</td>\n",
       "      <td>dummy_constant</td>\n",
       "      <td>0.059892</td>\n",
       "      <td>1.034552</td>\n",
       "      <td>0.013722</td>\n",
       "      <td>0.479441</td>\n",
       "      <td>0.000025</td>\n",
       "      <td>False</td>\n",
       "    </tr>\n",
       "    <tr>\n",
       "      <th>29</th>\n",
       "      <td>0.504388</td>\n",
       "      <td>0.868792</td>\n",
       "      <td>dummy_constant</td>\n",
       "      <td>0.504388</td>\n",
       "      <td>0.868792</td>\n",
       "      <td>0.062503</td>\n",
       "      <td>0.136027</td>\n",
       "      <td>0.000025</td>\n",
       "      <td>False</td>\n",
       "    </tr>\n",
       "    <tr>\n",
       "      <th>30</th>\n",
       "      <td>0.069497</td>\n",
       "      <td>1.051550</td>\n",
       "      <td>dummy_constant</td>\n",
       "      <td>0.069497</td>\n",
       "      <td>1.051550</td>\n",
       "      <td>0.061342</td>\n",
       "      <td>0.489540</td>\n",
       "      <td>0.000026</td>\n",
       "      <td>False</td>\n",
       "    </tr>\n",
       "    <tr>\n",
       "      <th>31</th>\n",
       "      <td>0.295081</td>\n",
       "      <td>0.373129</td>\n",
       "      <td>dummy_constant</td>\n",
       "      <td>0.295081</td>\n",
       "      <td>0.373129</td>\n",
       "      <td>-0.745145</td>\n",
       "      <td>0.058088</td>\n",
       "      <td>0.000027</td>\n",
       "      <td>False</td>\n",
       "    </tr>\n",
       "    <tr>\n",
       "      <th>32</th>\n",
       "      <td>0.156486</td>\n",
       "      <td>1.004681</td>\n",
       "      <td>dummy_constant</td>\n",
       "      <td>0.156486</td>\n",
       "      <td>1.004681</td>\n",
       "      <td>0.112295</td>\n",
       "      <td>0.372705</td>\n",
       "      <td>0.000025</td>\n",
       "      <td>False</td>\n",
       "    </tr>\n",
       "    <tr>\n",
       "      <th>33</th>\n",
       "      <td>0.063481</td>\n",
       "      <td>0.908049</td>\n",
       "      <td>dummy_constant</td>\n",
       "      <td>0.063481</td>\n",
       "      <td>0.908049</td>\n",
       "      <td>-0.215280</td>\n",
       "      <td>0.357053</td>\n",
       "      <td>0.000026</td>\n",
       "      <td>False</td>\n",
       "    </tr>\n",
       "    <tr>\n",
       "      <th>34</th>\n",
       "      <td>0.351174</td>\n",
       "      <td>0.782434</td>\n",
       "      <td>dummy_constant</td>\n",
       "      <td>0.351174</td>\n",
       "      <td>0.782434</td>\n",
       "      <td>-0.353775</td>\n",
       "      <td>0.101918</td>\n",
       "      <td>0.000026</td>\n",
       "      <td>False</td>\n",
       "    </tr>\n",
       "    <tr>\n",
       "      <th>35</th>\n",
       "      <td>1.048724</td>\n",
       "      <td>0.088555</td>\n",
       "      <td>dummy_constant</td>\n",
       "      <td>1.048724</td>\n",
       "      <td>0.088555</td>\n",
       "      <td>0.085553</td>\n",
       "      <td>0.470385</td>\n",
       "      <td>0.000027</td>\n",
       "      <td>False</td>\n",
       "    </tr>\n",
       "    <tr>\n",
       "      <th>36</th>\n",
       "      <td>0.086393</td>\n",
       "      <td>1.029336</td>\n",
       "      <td>dummy_constant</td>\n",
       "      <td>0.086393</td>\n",
       "      <td>1.029336</td>\n",
       "      <td>0.044096</td>\n",
       "      <td>0.451267</td>\n",
       "      <td>0.000027</td>\n",
       "      <td>False</td>\n",
       "    </tr>\n",
       "    <tr>\n",
       "      <th>37</th>\n",
       "      <td>1.446867</td>\n",
       "      <td>0.126603</td>\n",
       "      <td>dummy_constant</td>\n",
       "      <td>1.446867</td>\n",
       "      <td>0.126603</td>\n",
       "      <td>1.092107</td>\n",
       "      <td>1.035981</td>\n",
       "      <td>0.000028</td>\n",
       "      <td>False</td>\n",
       "    </tr>\n",
       "    <tr>\n",
       "      <th>38</th>\n",
       "      <td>0.113991</td>\n",
       "      <td>0.251786</td>\n",
       "      <td>dummy_constant</td>\n",
       "      <td>0.113991</td>\n",
       "      <td>0.251786</td>\n",
       "      <td>-1.010454</td>\n",
       "      <td>0.210614</td>\n",
       "      <td>0.000026</td>\n",
       "      <td>False</td>\n",
       "    </tr>\n",
       "    <tr>\n",
       "      <th>39</th>\n",
       "      <td>0.441192</td>\n",
       "      <td>0.734449</td>\n",
       "      <td>dummy_constant</td>\n",
       "      <td>0.441192</td>\n",
       "      <td>0.734449</td>\n",
       "      <td>-0.194122</td>\n",
       "      <td>0.058425</td>\n",
       "      <td>0.000026</td>\n",
       "      <td>False</td>\n",
       "    </tr>\n",
       "    <tr>\n",
       "      <th>40</th>\n",
       "      <td>0.890757</td>\n",
       "      <td>0.503785</td>\n",
       "      <td>dummy_constant</td>\n",
       "      <td>0.890757</td>\n",
       "      <td>0.503785</td>\n",
       "      <td>0.084480</td>\n",
       "      <td>0.152705</td>\n",
       "      <td>0.000025</td>\n",
       "      <td>False</td>\n",
       "    </tr>\n",
       "    <tr>\n",
       "      <th>41</th>\n",
       "      <td>0.889702</td>\n",
       "      <td>0.307153</td>\n",
       "      <td>dummy_constant</td>\n",
       "      <td>0.889702</td>\n",
       "      <td>0.307153</td>\n",
       "      <td>-0.171073</td>\n",
       "      <td>0.189058</td>\n",
       "      <td>0.000026</td>\n",
       "      <td>False</td>\n",
       "    </tr>\n",
       "    <tr>\n",
       "      <th>42</th>\n",
       "      <td>0.325723</td>\n",
       "      <td>0.293617</td>\n",
       "      <td>dummy_constant</td>\n",
       "      <td>0.325723</td>\n",
       "      <td>0.293617</td>\n",
       "      <td>-0.875278</td>\n",
       "      <td>0.072966</td>\n",
       "      <td>0.000026</td>\n",
       "      <td>False</td>\n",
       "    </tr>\n",
       "    <tr>\n",
       "      <th>43</th>\n",
       "      <td>0.734482</td>\n",
       "      <td>0.692677</td>\n",
       "      <td>dummy_constant</td>\n",
       "      <td>0.734482</td>\n",
       "      <td>0.692677</td>\n",
       "      <td>-0.069957</td>\n",
       "      <td>0.092106</td>\n",
       "      <td>0.000030</td>\n",
       "      <td>False</td>\n",
       "    </tr>\n",
       "    <tr>\n",
       "      <th>44</th>\n",
       "      <td>0.793199</td>\n",
       "      <td>0.659079</td>\n",
       "      <td>dummy_constant</td>\n",
       "      <td>0.793199</td>\n",
       "      <td>0.659079</td>\n",
       "      <td>0.053830</td>\n",
       "      <td>0.111272</td>\n",
       "      <td>0.000026</td>\n",
       "      <td>False</td>\n",
       "    </tr>\n",
       "    <tr>\n",
       "      <th>45</th>\n",
       "      <td>0.103020</td>\n",
       "      <td>0.923209</td>\n",
       "      <td>dummy_constant</td>\n",
       "      <td>0.103020</td>\n",
       "      <td>0.923209</td>\n",
       "      <td>-0.116494</td>\n",
       "      <td>0.336699</td>\n",
       "      <td>0.000026</td>\n",
       "      <td>False</td>\n",
       "    </tr>\n",
       "    <tr>\n",
       "      <th>46</th>\n",
       "      <td>1.262884</td>\n",
       "      <td>0.083044</td>\n",
       "      <td>dummy_constant</td>\n",
       "      <td>1.262884</td>\n",
       "      <td>0.083044</td>\n",
       "      <td>0.552067</td>\n",
       "      <td>0.755844</td>\n",
       "      <td>0.000027</td>\n",
       "      <td>False</td>\n",
       "    </tr>\n",
       "    <tr>\n",
       "      <th>47</th>\n",
       "      <td>0.997066</td>\n",
       "      <td>0.252232</td>\n",
       "      <td>dummy_constant</td>\n",
       "      <td>0.997066</td>\n",
       "      <td>0.252232</td>\n",
       "      <td>0.125777</td>\n",
       "      <td>0.308464</td>\n",
       "      <td>0.000028</td>\n",
       "      <td>False</td>\n",
       "    </tr>\n",
       "    <tr>\n",
       "      <th>48</th>\n",
       "      <td>0.959122</td>\n",
       "      <td>0.326865</td>\n",
       "      <td>dummy_constant</td>\n",
       "      <td>0.959122</td>\n",
       "      <td>0.326865</td>\n",
       "      <td>-0.024901</td>\n",
       "      <td>0.240769</td>\n",
       "      <td>0.000026</td>\n",
       "      <td>False</td>\n",
       "    </tr>\n",
       "    <tr>\n",
       "      <th>49</th>\n",
       "      <td>0.459083</td>\n",
       "      <td>0.753459</td>\n",
       "      <td>dummy_constant</td>\n",
       "      <td>0.459083</td>\n",
       "      <td>0.753459</td>\n",
       "      <td>-0.143104</td>\n",
       "      <td>0.065916</td>\n",
       "      <td>0.000026</td>\n",
       "      <td>False</td>\n",
       "    </tr>\n",
       "    <tr>\n",
       "      <th>50</th>\n",
       "      <td>0.680843</td>\n",
       "      <td>0.757724</td>\n",
       "      <td>dummy_constant</td>\n",
       "      <td>0.680843</td>\n",
       "      <td>0.757724</td>\n",
       "      <td>-0.027985</td>\n",
       "      <td>0.099126</td>\n",
       "      <td>0.000027</td>\n",
       "      <td>False</td>\n",
       "    </tr>\n",
       "    <tr>\n",
       "      <th>51</th>\n",
       "      <td>0.007283</td>\n",
       "      <td>0.893816</td>\n",
       "      <td>dummy_constant</td>\n",
       "      <td>0.007283</td>\n",
       "      <td>0.893816</td>\n",
       "      <td>-0.300191</td>\n",
       "      <td>0.397862</td>\n",
       "      <td>0.000026</td>\n",
       "      <td>False</td>\n",
       "    </tr>\n",
       "    <tr>\n",
       "      <th>52</th>\n",
       "      <td>1.033661</td>\n",
       "      <td>0.051827</td>\n",
       "      <td>dummy_constant</td>\n",
       "      <td>1.033661</td>\n",
       "      <td>0.051827</td>\n",
       "      <td>0.001582</td>\n",
       "      <td>0.485653</td>\n",
       "      <td>0.000026</td>\n",
       "      <td>False</td>\n",
       "    </tr>\n",
       "    <tr>\n",
       "      <th>53</th>\n",
       "      <td>0.793144</td>\n",
       "      <td>0.341119</td>\n",
       "      <td>dummy_constant</td>\n",
       "      <td>0.793144</td>\n",
       "      <td>0.341119</td>\n",
       "      <td>-0.352248</td>\n",
       "      <td>0.111176</td>\n",
       "      <td>0.000026</td>\n",
       "      <td>False</td>\n",
       "    </tr>\n",
       "    <tr>\n",
       "      <th>54</th>\n",
       "      <td>0.894459</td>\n",
       "      <td>0.063209</td>\n",
       "      <td>dummy_constant</td>\n",
       "      <td>0.894459</td>\n",
       "      <td>0.063209</td>\n",
       "      <td>-0.238723</td>\n",
       "      <td>0.346385</td>\n",
       "      <td>0.000027</td>\n",
       "      <td>False</td>\n",
       "    </tr>\n",
       "  </tbody>\n",
       "</table>\n",
       "</div>"
      ],
      "text/plain": [
       "          x1        x2               a        y1        y2         c1  \\\n",
       "0   0.973126  0.441907  dummy_constant  0.973126  0.441907   0.056337   \n",
       "1   1.942713  2.676246  dummy_constant  1.942713  2.676246  10.017713   \n",
       "2   0.153483  0.692796  dummy_constant  0.153483  0.692796  -0.402428   \n",
       "3   3.037194  0.317518  dummy_constant  3.037194  0.317518   8.334933   \n",
       "4   2.275164  2.240720  dummy_constant  2.275164  2.240720   9.097943   \n",
       "5   0.110129  0.400938  dummy_constant  0.110129  0.400938  -0.786042   \n",
       "6   0.174484  0.868165  dummy_constant  0.174484  0.868165  -0.115895   \n",
       "7   0.183261  0.973881  dummy_constant  0.183261  0.973881   0.080661   \n",
       "8   0.604903  0.000000  dummy_constant  0.604903  0.000000  -0.734093   \n",
       "9   0.860026  0.000000  dummy_constant  0.860026  0.000000  -0.360355   \n",
       "10  1.043617  0.217836  dummy_constant  1.043617  0.217836   0.235454   \n",
       "11  0.032292  0.977119  dummy_constant  0.032292  0.977119  -0.130547   \n",
       "12  0.357000  0.883158  dummy_constant  0.357000  0.883158  -0.191649   \n",
       "13  1.006156  0.057990  dummy_constant  1.006156  0.057990  -0.044778   \n",
       "14  0.122888  1.047008  dummy_constant  0.122888  1.047008   0.140744   \n",
       "15  0.132033  0.680857  dummy_constant  0.132033  0.680857  -0.419297   \n",
       "16  0.686313  0.489651  dummy_constant  0.686313  0.489651  -0.201000   \n",
       "17  0.748073  0.771971  dummy_constant  0.748073  0.771971   0.058700   \n",
       "18  0.779015  0.805520  dummy_constant  0.779015  0.805520   0.159285   \n",
       "19  0.573798  0.894900  dummy_constant  0.573798  0.894900   0.225555   \n",
       "20  0.154911  0.133823  dummy_constant  0.154911  0.133823  -0.997431   \n",
       "21  0.362376  1.236445  dummy_constant  0.362376  1.236445   0.675143   \n",
       "22  0.619091  0.810045  dummy_constant  0.619091  0.810045   0.092094   \n",
       "23  0.851258  0.607554  dummy_constant  0.851258  0.607554   0.181846   \n",
       "24  1.272932  1.877068  dummy_constant  1.272932  1.877068   4.243138   \n",
       "25  0.924334  0.383165  dummy_constant  0.924334  0.383165  -0.098790   \n",
       "26  0.040610  1.015654  dummy_constant  0.040610  1.015654  -0.047042   \n",
       "27  0.378822  0.927638  dummy_constant  0.378822  0.927638  -0.095664   \n",
       "28  0.059892  1.034552  dummy_constant  0.059892  1.034552   0.013722   \n",
       "29  0.504388  0.868792  dummy_constant  0.504388  0.868792   0.062503   \n",
       "30  0.069497  1.051550  dummy_constant  0.069497  1.051550   0.061342   \n",
       "31  0.295081  0.373129  dummy_constant  0.295081  0.373129  -0.745145   \n",
       "32  0.156486  1.004681  dummy_constant  0.156486  1.004681   0.112295   \n",
       "33  0.063481  0.908049  dummy_constant  0.063481  0.908049  -0.215280   \n",
       "34  0.351174  0.782434  dummy_constant  0.351174  0.782434  -0.353775   \n",
       "35  1.048724  0.088555  dummy_constant  1.048724  0.088555   0.085553   \n",
       "36  0.086393  1.029336  dummy_constant  0.086393  1.029336   0.044096   \n",
       "37  1.446867  0.126603  dummy_constant  1.446867  0.126603   1.092107   \n",
       "38  0.113991  0.251786  dummy_constant  0.113991  0.251786  -1.010454   \n",
       "39  0.441192  0.734449  dummy_constant  0.441192  0.734449  -0.194122   \n",
       "40  0.890757  0.503785  dummy_constant  0.890757  0.503785   0.084480   \n",
       "41  0.889702  0.307153  dummy_constant  0.889702  0.307153  -0.171073   \n",
       "42  0.325723  0.293617  dummy_constant  0.325723  0.293617  -0.875278   \n",
       "43  0.734482  0.692677  dummy_constant  0.734482  0.692677  -0.069957   \n",
       "44  0.793199  0.659079  dummy_constant  0.793199  0.659079   0.053830   \n",
       "45  0.103020  0.923209  dummy_constant  0.103020  0.923209  -0.116494   \n",
       "46  1.262884  0.083044  dummy_constant  1.262884  0.083044   0.552067   \n",
       "47  0.997066  0.252232  dummy_constant  0.997066  0.252232   0.125777   \n",
       "48  0.959122  0.326865  dummy_constant  0.959122  0.326865  -0.024901   \n",
       "49  0.459083  0.753459  dummy_constant  0.459083  0.753459  -0.143104   \n",
       "50  0.680843  0.757724  dummy_constant  0.680843  0.757724  -0.027985   \n",
       "51  0.007283  0.893816  dummy_constant  0.007283  0.893816  -0.300191   \n",
       "52  1.033661  0.051827  dummy_constant  1.033661  0.051827   0.001582   \n",
       "53  0.793144  0.341119  dummy_constant  0.793144  0.341119  -0.352248   \n",
       "54  0.894459  0.063209  dummy_constant  0.894459  0.063209  -0.238723   \n",
       "\n",
       "          c2  xopt_runtime  xopt_error  \n",
       "0   0.227223      0.000034       False  \n",
       "1   6.817465      0.000009       False  \n",
       "2   0.157244      0.000006       False  \n",
       "3   6.470652      0.000006       False  \n",
       "4   6.181315      0.000006       False  \n",
       "5   0.161813      0.000023       False  \n",
       "6   0.241506      0.000040       False  \n",
       "7   0.324887      0.000025       False  \n",
       "8   0.261005      0.000026       False  \n",
       "9   0.379619      0.000026       False  \n",
       "10  0.375136      0.000026       False  \n",
       "11  0.446394      0.000025       False  \n",
       "12  0.167259      0.000024       False  \n",
       "13  0.451567      0.000025       False  \n",
       "14  0.441432      0.000026       False  \n",
       "15  0.168109      0.000026       False  \n",
       "16  0.034820      0.000027       False  \n",
       "17  0.135509      0.000026       False  \n",
       "18  0.171191      0.000026       False  \n",
       "19  0.161392      0.000025       False  \n",
       "20  0.253172      0.000026       False  \n",
       "21  0.561292      0.000027       False  \n",
       "22  0.110311      0.000025       False  \n",
       "23  0.134950      0.000025       False  \n",
       "24  2.493740      0.000027       False  \n",
       "25  0.193710      0.000025       False  \n",
       "26  0.476938      0.000026       False  \n",
       "27  0.197558      0.000025       False  \n",
       "28  0.479441      0.000025       False  \n",
       "29  0.136027      0.000025       False  \n",
       "30  0.489540      0.000026       False  \n",
       "31  0.058088      0.000027       False  \n",
       "32  0.372705      0.000025       False  \n",
       "33  0.357053      0.000026       False  \n",
       "34  0.101918      0.000026       False  \n",
       "35  0.470385      0.000027       False  \n",
       "36  0.451267      0.000027       False  \n",
       "37  1.035981      0.000028       False  \n",
       "38  0.210614      0.000026       False  \n",
       "39  0.058425      0.000026       False  \n",
       "40  0.152705      0.000025       False  \n",
       "41  0.189058      0.000026       False  \n",
       "42  0.072966      0.000026       False  \n",
       "43  0.092106      0.000030       False  \n",
       "44  0.111272      0.000026       False  \n",
       "45  0.336699      0.000026       False  \n",
       "46  0.755844      0.000027       False  \n",
       "47  0.308464      0.000028       False  \n",
       "48  0.240769      0.000026       False  \n",
       "49  0.065916      0.000026       False  \n",
       "50  0.099126      0.000027       False  \n",
       "51  0.397862      0.000026       False  \n",
       "52  0.485653      0.000026       False  \n",
       "53  0.111176      0.000026       False  \n",
       "54  0.346385      0.000027       False  "
      ]
     },
     "execution_count": 3,
     "metadata": {},
     "output_type": "execute_result"
    }
   ],
   "source": [
    "X.generator.data"
   ]
  },
  {
   "cell_type": "markdown",
   "metadata": {
    "collapsed": false
   },
   "source": [
    "## plot results\n"
   ]
  },
  {
   "cell_type": "code",
   "execution_count": 4,
   "metadata": {
    "collapsed": false,
    "execution": {
     "iopub.execute_input": "2024-04-03T04:02:32.244342Z",
     "iopub.status.busy": "2024-04-03T04:02:32.243892Z",
     "iopub.status.idle": "2024-04-03T04:02:32.715843Z",
     "shell.execute_reply": "2024-04-03T04:02:32.715267Z"
    }
   },
   "outputs": [
    {
     "data": {
      "image/png": "[encoded data removed]",
      "text/plain": [
       "<Figure size 640x480 with 1 Axes>"
      ]
     },
     "metadata": {},
     "output_type": "display_data"
    }
   ],
   "source": [
    "import matplotlib.pyplot as plt\n",
    "import numpy as np\n",
    "import pandas as pd\n",
    "\n",
    "fig, ax = plt.subplots()\n",
    "\n",
    "theta = np.linspace(0, np.pi / 2)\n",
    "r = np.sqrt(1 + 0.1 * np.cos(16 * theta))\n",
    "x_1 = r * np.sin(theta)\n",
    "x_2_lower = r * np.cos(theta)\n",
    "x_2_upper = (0.5 - (x_1 - 0.5) ** 2) ** 0.5 + 0.5\n",
    "\n",
    "z = np.zeros_like(x_1)\n",
    "\n",
    "# ax2.plot(x_1, x_2_lower,'r')\n",
    "ax.fill_between(x_1, z, x_2_lower, fc=\"white\")\n",
    "circle = plt.Circle(\n",
    "    (0.5, 0.5), 0.5 ** 0.5, color=\"r\", alpha=0.25, zorder=0, label=\"Valid Region\"\n",
    ")\n",
    "ax.add_patch(circle)\n",
    "history = pd.concat(\n",
    "    [X.data, X.vocs.feasibility_data(X.data)], axis=1, ignore_index=False\n",
    ")\n",
    "\n",
    "\n",
    "ax.plot(*history[[\"x1\", \"x2\"]][history[\"feasible\"]].to_numpy().T, \".C1\")\n",
    "ax.plot(*history[[\"x1\", \"x2\"]][~history[\"feasible\"]].to_numpy().T, \".C2\")\n",
    "\n",
    "ax.set_xlim(0, 3.14)\n",
    "ax.set_ylim(0, 3.14)\n",
    "ax.set_xlabel(\"x1\")\n",
    "ax.set_ylabel(\"x2\")\n",
    "ax.set_aspect(\"equal\")"
   ]
  },
  {
   "cell_type": "markdown",
   "metadata": {
    "collapsed": false
   },
   "source": [
    "### Plot path through input space"
   ]
  },
  {
   "cell_type": "code",
   "execution_count": 5,
   "metadata": {
    "collapsed": false,
    "execution": {
     "iopub.execute_input": "2024-04-03T04:02:32.718330Z",
     "iopub.status.busy": "2024-04-03T04:02:32.717966Z",
     "iopub.status.idle": "2024-04-03T04:02:32.839707Z",
     "shell.execute_reply": "2024-04-03T04:02:32.839129Z"
    }
   },
   "outputs": [
    {
     "data": {
      "image/png": "[encoded data removed]",
      "text/plain": [
       "<Figure size 640x480 with 1 Axes>"
      ]
     },
     "metadata": {},
     "output_type": "display_data"
    }
   ],
   "source": [
    "ax = history.plot(\"x1\", \"x2\")\n",
    "ax.set_ylim(0, 3.14)\n",
    "ax.set_xlim(0, 3.14)\n",
    "ax.set_aspect(\"equal\")"
   ]
  },
  {
   "cell_type": "code",
   "execution_count": 6,
   "metadata": {
    "collapsed": false,
    "execution": {
     "iopub.execute_input": "2024-04-03T04:02:32.842021Z",
     "iopub.status.busy": "2024-04-03T04:02:32.841843Z",
     "iopub.status.idle": "2024-04-03T04:02:37.775998Z",
     "shell.execute_reply": "2024-04-03T04:02:37.775418Z"
    }
   },
   "outputs": [
    {
     "name": "stdout",
     "output_type": "stream",
     "text": [
      "[[0.6448013  0.13341353]]\n"
     ]
    },
    {
     "data": {
      "text/plain": [
       "[<matplotlib.lines.Line2D at 0x7f2142b10580>]"
      ]
     },
     "execution_count": 6,
     "metadata": {},
     "output_type": "execute_result"
    },
    {
     "data": {
      "image/png": "[encoded data removed]",
      "text/plain": [
       "<Figure size 800x800 with 2 Axes>"
      ]
     },
     "metadata": {},
     "output_type": "display_data"
    },
    {
     "data": {
      "image/png": "[encoded data removed]",
      "text/plain": [
       "<Figure size 800x800 with 2 Axes>"
      ]
     },
     "metadata": {},
     "output_type": "display_data"
    }
   ],
   "source": [
    "# plot the acquisition function\n",
    "from xopt.generators.bayesian.objectives import feasibility\n",
    "\n",
    "bounds = X.generator.vocs.bounds\n",
    "model = X.generator.model\n",
    "\n",
    "# create mesh\n",
    "n = 100\n",
    "x = torch.linspace(*bounds.T[0], n)\n",
    "y = torch.linspace(*bounds.T[1], n)\n",
    "xx, yy = torch.meshgrid(x, y)\n",
    "pts = torch.hstack([ele.reshape(-1, 1) for ele in (xx, yy)]).double()\n",
    "\n",
    "xx, yy = xx.numpy(), yy.numpy()\n",
    "\n",
    "acq_func = X.generator.get_acquisition(model)\n",
    "with torch.no_grad():\n",
    "    acq_pts = pts.unsqueeze(1)\n",
    "    acq = acq_func(acq_pts)\n",
    "\n",
    "    fig, ax = plt.subplots(figsize=(8,8))\n",
    "    c = ax.pcolor(xx, yy, acq.reshape(n, n), cmap=\"Blues\")\n",
    "    fig.colorbar(c)\n",
    "    ax.set_title(\"Acquisition function\")\n",
    "\n",
    "    ax.plot(*history[[\"x1\", \"x2\"]][history[\"feasible\"]].to_numpy().T, \".C1\")\n",
    "    ax.plot(*history[[\"x1\", \"x2\"]][~history[\"feasible\"]].to_numpy().T, \".C2\")\n",
    "\n",
    "    ax.plot(*history[[\"x1\", \"x2\"]].to_numpy()[-1].T, \"+\")\n",
    "\n",
    "    feas = feasibility(pts.unsqueeze(1), model, X.vocs).flatten()\n",
    "\n",
    "    fig2, ax2 = plt.subplots(figsize=(8,8))\n",
    "    c = ax2.pcolor(xx, yy, feas.reshape(n, n))\n",
    "    fig2.colorbar(c)\n",
    "    ax2.set_title(\"Feasible Region\")\n",
    "\n",
    "candidate = pd.DataFrame(X.generator.generate(1), index=[0])\n",
    "print(candidate[[\"x1\", \"x2\"]].to_numpy())\n",
    "ax.plot(*candidate[[\"x1\", \"x2\"]].to_numpy()[0], \"o\")"
   ]
  }
 ],
 "metadata": {
  "interpreter": {
   "hash": "72034539424920dfb606fe3b820b3f27dca0cbf1c69938110810ec4641e275b1"
  },
  "kernelspec": {
   "display_name": "Python 3 (ipykernel)",
   "language": "python",
   "name": "python3"
  },
  "language_info": {
   "codemirror_mode": {
    "name": "ipython",
    "version": 3
   },
   "file_extension": ".py",
   "mimetype": "text/x-python",
   "name": "python",
   "nbconvert_exporter": "python",
   "pygments_lexer": "ipython3",
   "version": "3.9.19"
  }
 },
 "nbformat": 4,
 "nbformat_minor": 4
}
