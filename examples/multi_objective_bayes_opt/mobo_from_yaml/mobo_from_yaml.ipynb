{
 "cells": [
  {
   "cell_type": "markdown",
   "metadata": {},
   "source": [
    "\n",
    "# Multi-objective Bayesian Optimization\n",
    "\n",
    "\n",
    "TNK function\n",
    "$n=2$ variables:\n",
    "$x_i \\in [0, \\pi], i=1,2$\n",
    "\n",
    "Objectives:\n",
    "- $f_i(x) = x_i$\n",
    "\n",
    "Constraints:\n",
    "- $g_1(x) = -x_1^2 -x_2^2 + 1 + 0.1 \\cos\\left(16 \\arctan \\frac{x_1}{x_2}\\right) \\le 0$\n",
    "- $g_2(x) = (x_1 - 1/2)^2 + (x_2-1/2)^2 \\le 0.5$"
   ]
  },
  {
   "cell_type": "code",
   "execution_count": 1,
   "metadata": {
    "collapsed": false,
    "execution": {
     "iopub.execute_input": "2024-08-20T19:31:06.435639Z",
     "iopub.status.busy": "2024-08-20T19:31:06.435459Z",
     "iopub.status.idle": "2024-08-20T19:31:07.713378Z",
     "shell.execute_reply": "2024-08-20T19:31:07.712809Z"
    }
   },
   "outputs": [],
   "source": [
    "import os\n",
    "SMOKE_TEST = os.environ.get(\"SMOKE_TEST\")\n",
    "NUM_STEPS = 2 if SMOKE_TEST else 50\n",
    "\n",
    "# Ignore all warnings\n",
    "import warnings\n",
    "warnings.filterwarnings(\"ignore\")\n",
    "\n",
    "import torch\n",
    "from xopt import Xopt\n",
    "\n",
    "\n",
    "YAML = \"\"\"\n",
    "generator:\n",
    "    name: mobo\n",
    "    reference_point: {y1: 1.5, y2: 1.5}\n",
    "\n",
    "evaluator:\n",
    "    function: xopt.resources.test_functions.tnk.evaluate_TNK\n",
    "\n",
    "vocs:\n",
    "    variables:\n",
    "        x1: [0, 3.14159]\n",
    "        x2: [0, 3.14159]\n",
    "    objectives: {y1: MINIMIZE, y2: MINIMIZE}\n",
    "    constraints:\n",
    "        c1: [GREATER_THAN, 0]\n",
    "        c2: [LESS_THAN, 0.5]\n",
    "    constants: {a: dummy_constant}\n",
    "\n",
    "\"\"\""
   ]
  },
  {
   "cell_type": "code",
   "execution_count": 2,
   "metadata": {
    "collapsed": false,
    "execution": {
     "iopub.execute_input": "2024-08-20T19:31:07.716130Z",
     "iopub.status.busy": "2024-08-20T19:31:07.715669Z",
     "iopub.status.idle": "2024-08-20T19:31:57.378148Z",
     "shell.execute_reply": "2024-08-20T19:31:57.377544Z"
    }
   },
   "outputs": [
    {
     "name": "stdout",
     "output_type": "stream",
     "text": [
      "0\n"
     ]
    },
    {
     "name": "stdout",
     "output_type": "stream",
     "text": [
      "1\n"
     ]
    },
    {
     "name": "stdout",
     "output_type": "stream",
     "text": [
      "2\n"
     ]
    },
    {
     "name": "stdout",
     "output_type": "stream",
     "text": [
      "3\n"
     ]
    },
    {
     "name": "stdout",
     "output_type": "stream",
     "text": [
      "4\n"
     ]
    },
    {
     "name": "stdout",
     "output_type": "stream",
     "text": [
      "5\n"
     ]
    },
    {
     "name": "stdout",
     "output_type": "stream",
     "text": [
      "6\n"
     ]
    },
    {
     "name": "stdout",
     "output_type": "stream",
     "text": [
      "7\n"
     ]
    },
    {
     "name": "stdout",
     "output_type": "stream",
     "text": [
      "8\n"
     ]
    },
    {
     "name": "stdout",
     "output_type": "stream",
     "text": [
      "9\n"
     ]
    },
    {
     "name": "stdout",
     "output_type": "stream",
     "text": [
      "10\n"
     ]
    },
    {
     "name": "stdout",
     "output_type": "stream",
     "text": [
      "11\n"
     ]
    },
    {
     "name": "stdout",
     "output_type": "stream",
     "text": [
      "12\n"
     ]
    },
    {
     "name": "stdout",
     "output_type": "stream",
     "text": [
      "13\n"
     ]
    },
    {
     "name": "stdout",
     "output_type": "stream",
     "text": [
      "14\n"
     ]
    },
    {
     "name": "stdout",
     "output_type": "stream",
     "text": [
      "15\n"
     ]
    },
    {
     "name": "stdout",
     "output_type": "stream",
     "text": [
      "16\n"
     ]
    },
    {
     "name": "stdout",
     "output_type": "stream",
     "text": [
      "17\n"
     ]
    },
    {
     "name": "stdout",
     "output_type": "stream",
     "text": [
      "18\n"
     ]
    },
    {
     "name": "stdout",
     "output_type": "stream",
     "text": [
      "19\n"
     ]
    },
    {
     "name": "stdout",
     "output_type": "stream",
     "text": [
      "20\n"
     ]
    },
    {
     "name": "stdout",
     "output_type": "stream",
     "text": [
      "21\n"
     ]
    },
    {
     "name": "stdout",
     "output_type": "stream",
     "text": [
      "22\n"
     ]
    },
    {
     "name": "stdout",
     "output_type": "stream",
     "text": [
      "23\n"
     ]
    },
    {
     "name": "stdout",
     "output_type": "stream",
     "text": [
      "24\n"
     ]
    },
    {
     "name": "stdout",
     "output_type": "stream",
     "text": [
      "25\n"
     ]
    },
    {
     "name": "stdout",
     "output_type": "stream",
     "text": [
      "26\n"
     ]
    },
    {
     "name": "stdout",
     "output_type": "stream",
     "text": [
      "27\n"
     ]
    },
    {
     "name": "stdout",
     "output_type": "stream",
     "text": [
      "28\n"
     ]
    },
    {
     "name": "stdout",
     "output_type": "stream",
     "text": [
      "29\n"
     ]
    },
    {
     "name": "stdout",
     "output_type": "stream",
     "text": [
      "30\n"
     ]
    },
    {
     "name": "stdout",
     "output_type": "stream",
     "text": [
      "31\n"
     ]
    },
    {
     "name": "stdout",
     "output_type": "stream",
     "text": [
      "32\n"
     ]
    },
    {
     "name": "stdout",
     "output_type": "stream",
     "text": [
      "33\n"
     ]
    },
    {
     "name": "stdout",
     "output_type": "stream",
     "text": [
      "34\n"
     ]
    },
    {
     "name": "stdout",
     "output_type": "stream",
     "text": [
      "35\n"
     ]
    },
    {
     "name": "stdout",
     "output_type": "stream",
     "text": [
      "36\n"
     ]
    },
    {
     "name": "stdout",
     "output_type": "stream",
     "text": [
      "37\n"
     ]
    },
    {
     "name": "stdout",
     "output_type": "stream",
     "text": [
      "38\n"
     ]
    },
    {
     "name": "stdout",
     "output_type": "stream",
     "text": [
      "39\n"
     ]
    },
    {
     "name": "stdout",
     "output_type": "stream",
     "text": [
      "40\n"
     ]
    },
    {
     "name": "stdout",
     "output_type": "stream",
     "text": [
      "41\n"
     ]
    },
    {
     "name": "stdout",
     "output_type": "stream",
     "text": [
      "42\n"
     ]
    },
    {
     "name": "stdout",
     "output_type": "stream",
     "text": [
      "43\n"
     ]
    },
    {
     "name": "stdout",
     "output_type": "stream",
     "text": [
      "44\n"
     ]
    },
    {
     "name": "stdout",
     "output_type": "stream",
     "text": [
      "45\n"
     ]
    },
    {
     "name": "stdout",
     "output_type": "stream",
     "text": [
      "46\n"
     ]
    },
    {
     "name": "stdout",
     "output_type": "stream",
     "text": [
      "47\n"
     ]
    },
    {
     "name": "stdout",
     "output_type": "stream",
     "text": [
      "48\n"
     ]
    },
    {
     "name": "stdout",
     "output_type": "stream",
     "text": [
      "49\n"
     ]
    }
   ],
   "source": [
    "X = Xopt.from_yaml(YAML)\n",
    "\n",
    "# for testing purposes only\n",
    "if SMOKE_TEST:\n",
    "    X.generator.numerical_optimizer.n_restarts = 1\n",
    "    X.generator.n_monte_carlo_samples = 1\n",
    "\n",
    "X.random_evaluate(5)\n",
    "for i in range(NUM_STEPS):\n",
    "    print(i)\n",
    "    X.step()"
   ]
  },
  {
   "cell_type": "code",
   "execution_count": 3,
   "metadata": {
    "collapsed": false,
    "execution": {
     "iopub.execute_input": "2024-08-20T19:31:57.381267Z",
     "iopub.status.busy": "2024-08-20T19:31:57.380745Z",
     "iopub.status.idle": "2024-08-20T19:31:57.405792Z",
     "shell.execute_reply": "2024-08-20T19:31:57.405203Z"
    }
   },
   "outputs": [
    {
     "data": {
      "text/html": [
       "<div>\n",
       "<style scoped>\n",
       "    .dataframe tbody tr th:only-of-type {\n",
       "        vertical-align: middle;\n",
       "    }\n",
       "\n",
       "    .dataframe tbody tr th {\n",
       "        vertical-align: top;\n",
       "    }\n",
       "\n",
       "    .dataframe thead th {\n",
       "        text-align: right;\n",
       "    }\n",
       "</style>\n",
       "<table border=\"1\" class=\"dataframe\">\n",
       "  <thead>\n",
       "    <tr style=\"text-align: right;\">\n",
       "      <th></th>\n",
       "      <th>x1</th>\n",
       "      <th>x2</th>\n",
       "      <th>a</th>\n",
       "      <th>y1</th>\n",
       "      <th>y2</th>\n",
       "      <th>c1</th>\n",
       "      <th>c2</th>\n",
       "      <th>xopt_runtime</th>\n",
       "      <th>xopt_error</th>\n",
       "    </tr>\n",
       "  </thead>\n",
       "  <tbody>\n",
       "    <tr>\n",
       "      <th>0</th>\n",
       "      <td>0.999211</td>\n",
       "      <td>0.463893</td>\n",
       "      <td>dummy_constant</td>\n",
       "      <td>0.999211</td>\n",
       "      <td>0.463893</td>\n",
       "      <td>0.135311</td>\n",
       "      <td>0.250515</td>\n",
       "      <td>0.000036</td>\n",
       "      <td>False</td>\n",
       "    </tr>\n",
       "    <tr>\n",
       "      <th>1</th>\n",
       "      <td>3.136671</td>\n",
       "      <td>1.708046</td>\n",
       "      <td>dummy_constant</td>\n",
       "      <td>3.136671</td>\n",
       "      <td>1.708046</td>\n",
       "      <td>11.768523</td>\n",
       "      <td>8.411409</td>\n",
       "      <td>0.000009</td>\n",
       "      <td>False</td>\n",
       "    </tr>\n",
       "    <tr>\n",
       "      <th>2</th>\n",
       "      <td>1.875789</td>\n",
       "      <td>1.770415</td>\n",
       "      <td>dummy_constant</td>\n",
       "      <td>1.875789</td>\n",
       "      <td>1.770415</td>\n",
       "      <td>5.563450</td>\n",
       "      <td>3.506750</td>\n",
       "      <td>0.000007</td>\n",
       "      <td>False</td>\n",
       "    </tr>\n",
       "    <tr>\n",
       "      <th>3</th>\n",
       "      <td>1.057707</td>\n",
       "      <td>1.513646</td>\n",
       "      <td>dummy_constant</td>\n",
       "      <td>1.057707</td>\n",
       "      <td>1.513646</td>\n",
       "      <td>2.504349</td>\n",
       "      <td>1.338514</td>\n",
       "      <td>0.000006</td>\n",
       "      <td>False</td>\n",
       "    </tr>\n",
       "    <tr>\n",
       "      <th>4</th>\n",
       "      <td>0.467924</td>\n",
       "      <td>0.888382</td>\n",
       "      <td>dummy_constant</td>\n",
       "      <td>0.467924</td>\n",
       "      <td>0.888382</td>\n",
       "      <td>-0.001542</td>\n",
       "      <td>0.151870</td>\n",
       "      <td>0.000006</td>\n",
       "      <td>False</td>\n",
       "    </tr>\n",
       "    <tr>\n",
       "      <th>5</th>\n",
       "      <td>0.146860</td>\n",
       "      <td>0.422871</td>\n",
       "      <td>dummy_constant</td>\n",
       "      <td>0.146860</td>\n",
       "      <td>0.422871</td>\n",
       "      <td>-0.858993</td>\n",
       "      <td>0.130657</td>\n",
       "      <td>0.000028</td>\n",
       "      <td>False</td>\n",
       "    </tr>\n",
       "    <tr>\n",
       "      <th>6</th>\n",
       "      <td>0.000000</td>\n",
       "      <td>0.036182</td>\n",
       "      <td>dummy_constant</td>\n",
       "      <td>0.000000</td>\n",
       "      <td>0.036182</td>\n",
       "      <td>-1.098691</td>\n",
       "      <td>0.465127</td>\n",
       "      <td>0.000024</td>\n",
       "      <td>False</td>\n",
       "    </tr>\n",
       "    <tr>\n",
       "      <th>7</th>\n",
       "      <td>0.484029</td>\n",
       "      <td>0.933799</td>\n",
       "      <td>dummy_constant</td>\n",
       "      <td>0.484029</td>\n",
       "      <td>0.933799</td>\n",
       "      <td>0.086148</td>\n",
       "      <td>0.188437</td>\n",
       "      <td>0.000027</td>\n",
       "      <td>False</td>\n",
       "    </tr>\n",
       "    <tr>\n",
       "      <th>8</th>\n",
       "      <td>0.000000</td>\n",
       "      <td>0.884689</td>\n",
       "      <td>dummy_constant</td>\n",
       "      <td>0.000000</td>\n",
       "      <td>0.884689</td>\n",
       "      <td>-0.317325</td>\n",
       "      <td>0.397986</td>\n",
       "      <td>0.000027</td>\n",
       "      <td>False</td>\n",
       "    </tr>\n",
       "    <tr>\n",
       "      <th>9</th>\n",
       "      <td>0.181709</td>\n",
       "      <td>1.111412</td>\n",
       "      <td>dummy_constant</td>\n",
       "      <td>0.181709</td>\n",
       "      <td>1.111412</td>\n",
       "      <td>0.353579</td>\n",
       "      <td>0.475134</td>\n",
       "      <td>0.000026</td>\n",
       "      <td>False</td>\n",
       "    </tr>\n",
       "    <tr>\n",
       "      <th>10</th>\n",
       "      <td>0.817828</td>\n",
       "      <td>0.705872</td>\n",
       "      <td>dummy_constant</td>\n",
       "      <td>0.817828</td>\n",
       "      <td>0.705872</td>\n",
       "      <td>0.128407</td>\n",
       "      <td>0.143398</td>\n",
       "      <td>0.000050</td>\n",
       "      <td>False</td>\n",
       "    </tr>\n",
       "    <tr>\n",
       "      <th>11</th>\n",
       "      <td>0.086766</td>\n",
       "      <td>1.026845</td>\n",
       "      <td>dummy_constant</td>\n",
       "      <td>0.086766</td>\n",
       "      <td>1.026845</td>\n",
       "      <td>0.039918</td>\n",
       "      <td>0.448328</td>\n",
       "      <td>0.000032</td>\n",
       "      <td>False</td>\n",
       "    </tr>\n",
       "    <tr>\n",
       "      <th>12</th>\n",
       "      <td>1.042705</td>\n",
       "      <td>0.073102</td>\n",
       "      <td>dummy_constant</td>\n",
       "      <td>1.042705</td>\n",
       "      <td>0.073102</td>\n",
       "      <td>0.049001</td>\n",
       "      <td>0.476770</td>\n",
       "      <td>0.000027</td>\n",
       "      <td>False</td>\n",
       "    </tr>\n",
       "    <tr>\n",
       "      <th>13</th>\n",
       "      <td>0.667726</td>\n",
       "      <td>0.249528</td>\n",
       "      <td>dummy_constant</td>\n",
       "      <td>0.667726</td>\n",
       "      <td>0.249528</td>\n",
       "      <td>-0.576543</td>\n",
       "      <td>0.090868</td>\n",
       "      <td>0.000028</td>\n",
       "      <td>False</td>\n",
       "    </tr>\n",
       "    <tr>\n",
       "      <th>14</th>\n",
       "      <td>0.184345</td>\n",
       "      <td>0.854738</td>\n",
       "      <td>dummy_constant</td>\n",
       "      <td>0.184345</td>\n",
       "      <td>0.854738</td>\n",
       "      <td>-0.138727</td>\n",
       "      <td>0.225477</td>\n",
       "      <td>0.000024</td>\n",
       "      <td>False</td>\n",
       "    </tr>\n",
       "    <tr>\n",
       "      <th>15</th>\n",
       "      <td>0.216696</td>\n",
       "      <td>0.947847</td>\n",
       "      <td>dummy_constant</td>\n",
       "      <td>0.216696</td>\n",
       "      <td>0.947847</td>\n",
       "      <td>0.035219</td>\n",
       "      <td>0.280828</td>\n",
       "      <td>0.000028</td>\n",
       "      <td>False</td>\n",
       "    </tr>\n",
       "    <tr>\n",
       "      <th>16</th>\n",
       "      <td>0.818464</td>\n",
       "      <td>0.250300</td>\n",
       "      <td>dummy_constant</td>\n",
       "      <td>0.818464</td>\n",
       "      <td>0.250300</td>\n",
       "      <td>-0.271083</td>\n",
       "      <td>0.163769</td>\n",
       "      <td>0.000027</td>\n",
       "      <td>False</td>\n",
       "    </tr>\n",
       "    <tr>\n",
       "      <th>17</th>\n",
       "      <td>0.054789</td>\n",
       "      <td>1.032422</td>\n",
       "      <td>dummy_constant</td>\n",
       "      <td>0.054789</td>\n",
       "      <td>1.032422</td>\n",
       "      <td>0.002770</td>\n",
       "      <td>0.481686</td>\n",
       "      <td>0.000033</td>\n",
       "      <td>False</td>\n",
       "    </tr>\n",
       "    <tr>\n",
       "      <th>18</th>\n",
       "      <td>0.101237</td>\n",
       "      <td>0.534530</td>\n",
       "      <td>dummy_constant</td>\n",
       "      <td>0.101237</td>\n",
       "      <td>0.534530</td>\n",
       "      <td>-0.605104</td>\n",
       "      <td>0.160204</td>\n",
       "      <td>0.000027</td>\n",
       "      <td>False</td>\n",
       "    </tr>\n",
       "    <tr>\n",
       "      <th>19</th>\n",
       "      <td>1.051003</td>\n",
       "      <td>0.113120</td>\n",
       "      <td>dummy_constant</td>\n",
       "      <td>1.051003</td>\n",
       "      <td>0.113120</td>\n",
       "      <td>0.131822</td>\n",
       "      <td>0.453280</td>\n",
       "      <td>0.000027</td>\n",
       "      <td>False</td>\n",
       "    </tr>\n",
       "    <tr>\n",
       "      <th>20</th>\n",
       "      <td>0.063561</td>\n",
       "      <td>1.043427</td>\n",
       "      <td>dummy_constant</td>\n",
       "      <td>0.063561</td>\n",
       "      <td>1.043427</td>\n",
       "      <td>0.036534</td>\n",
       "      <td>0.485791</td>\n",
       "      <td>0.000028</td>\n",
       "      <td>False</td>\n",
       "    </tr>\n",
       "    <tr>\n",
       "      <th>21</th>\n",
       "      <td>0.923104</td>\n",
       "      <td>0.345175</td>\n",
       "      <td>dummy_constant</td>\n",
       "      <td>0.923104</td>\n",
       "      <td>0.345175</td>\n",
       "      <td>-0.113571</td>\n",
       "      <td>0.202988</td>\n",
       "      <td>0.000026</td>\n",
       "      <td>False</td>\n",
       "    </tr>\n",
       "    <tr>\n",
       "      <th>22</th>\n",
       "      <td>0.136409</td>\n",
       "      <td>0.571391</td>\n",
       "      <td>dummy_constant</td>\n",
       "      <td>0.136409</td>\n",
       "      <td>0.571391</td>\n",
       "      <td>-0.572821</td>\n",
       "      <td>0.137295</td>\n",
       "      <td>0.000023</td>\n",
       "      <td>False</td>\n",
       "    </tr>\n",
       "    <tr>\n",
       "      <th>23</th>\n",
       "      <td>0.918644</td>\n",
       "      <td>0.127005</td>\n",
       "      <td>dummy_constant</td>\n",
       "      <td>0.918644</td>\n",
       "      <td>0.127005</td>\n",
       "      <td>-0.081266</td>\n",
       "      <td>0.314388</td>\n",
       "      <td>0.000027</td>\n",
       "      <td>False</td>\n",
       "    </tr>\n",
       "    <tr>\n",
       "      <th>24</th>\n",
       "      <td>0.054550</td>\n",
       "      <td>2.412322</td>\n",
       "      <td>dummy_constant</td>\n",
       "      <td>0.054550</td>\n",
       "      <td>2.412322</td>\n",
       "      <td>4.728747</td>\n",
       "      <td>3.855402</td>\n",
       "      <td>0.000027</td>\n",
       "      <td>False</td>\n",
       "    </tr>\n",
       "    <tr>\n",
       "      <th>25</th>\n",
       "      <td>1.131828</td>\n",
       "      <td>0.083515</td>\n",
       "      <td>dummy_constant</td>\n",
       "      <td>1.131828</td>\n",
       "      <td>0.083515</td>\n",
       "      <td>0.249776</td>\n",
       "      <td>0.572667</td>\n",
       "      <td>0.000026</td>\n",
       "      <td>False</td>\n",
       "    </tr>\n",
       "    <tr>\n",
       "      <th>26</th>\n",
       "      <td>0.324850</td>\n",
       "      <td>0.919270</td>\n",
       "      <td>dummy_constant</td>\n",
       "      <td>0.324850</td>\n",
       "      <td>0.919270</td>\n",
       "      <td>-0.115543</td>\n",
       "      <td>0.206465</td>\n",
       "      <td>0.000024</td>\n",
       "      <td>False</td>\n",
       "    </tr>\n",
       "    <tr>\n",
       "      <th>27</th>\n",
       "      <td>0.999565</td>\n",
       "      <td>0.019513</td>\n",
       "      <td>dummy_constant</td>\n",
       "      <td>0.999565</td>\n",
       "      <td>0.019513</td>\n",
       "      <td>-0.095652</td>\n",
       "      <td>0.480433</td>\n",
       "      <td>0.000025</td>\n",
       "      <td>False</td>\n",
       "    </tr>\n",
       "    <tr>\n",
       "      <th>28</th>\n",
       "      <td>0.663113</td>\n",
       "      <td>0.815082</td>\n",
       "      <td>dummy_constant</td>\n",
       "      <td>0.663113</td>\n",
       "      <td>0.815082</td>\n",
       "      <td>0.110909</td>\n",
       "      <td>0.125883</td>\n",
       "      <td>0.000025</td>\n",
       "      <td>False</td>\n",
       "    </tr>\n",
       "    <tr>\n",
       "      <th>29</th>\n",
       "      <td>0.003668</td>\n",
       "      <td>1.073219</td>\n",
       "      <td>dummy_constant</td>\n",
       "      <td>0.003668</td>\n",
       "      <td>1.073219</td>\n",
       "      <td>0.051963</td>\n",
       "      <td>0.574926</td>\n",
       "      <td>0.000026</td>\n",
       "      <td>False</td>\n",
       "    </tr>\n",
       "    <tr>\n",
       "      <th>30</th>\n",
       "      <td>0.903868</td>\n",
       "      <td>0.535606</td>\n",
       "      <td>dummy_constant</td>\n",
       "      <td>0.903868</td>\n",
       "      <td>0.535606</td>\n",
       "      <td>0.168658</td>\n",
       "      <td>0.164377</td>\n",
       "      <td>0.000025</td>\n",
       "      <td>False</td>\n",
       "    </tr>\n",
       "    <tr>\n",
       "      <th>31</th>\n",
       "      <td>0.319543</td>\n",
       "      <td>0.813508</td>\n",
       "      <td>dummy_constant</td>\n",
       "      <td>0.319543</td>\n",
       "      <td>0.813508</td>\n",
       "      <td>-0.331786</td>\n",
       "      <td>0.130852</td>\n",
       "      <td>0.000026</td>\n",
       "      <td>False</td>\n",
       "    </tr>\n",
       "    <tr>\n",
       "      <th>32</th>\n",
       "      <td>0.701253</td>\n",
       "      <td>0.355988</td>\n",
       "      <td>dummy_constant</td>\n",
       "      <td>0.701253</td>\n",
       "      <td>0.355988</td>\n",
       "      <td>-0.414682</td>\n",
       "      <td>0.061242</td>\n",
       "      <td>0.000026</td>\n",
       "      <td>False</td>\n",
       "    </tr>\n",
       "    <tr>\n",
       "      <th>33</th>\n",
       "      <td>0.270586</td>\n",
       "      <td>0.148132</td>\n",
       "      <td>dummy_constant</td>\n",
       "      <td>0.270586</td>\n",
       "      <td>0.148132</td>\n",
       "      <td>-0.888893</td>\n",
       "      <td>0.176442</td>\n",
       "      <td>0.000026</td>\n",
       "      <td>False</td>\n",
       "    </tr>\n",
       "    <tr>\n",
       "      <th>34</th>\n",
       "      <td>0.285109</td>\n",
       "      <td>0.781309</td>\n",
       "      <td>dummy_constant</td>\n",
       "      <td>0.285109</td>\n",
       "      <td>0.781309</td>\n",
       "      <td>-0.385721</td>\n",
       "      <td>0.125313</td>\n",
       "      <td>0.000025</td>\n",
       "      <td>False</td>\n",
       "    </tr>\n",
       "    <tr>\n",
       "      <th>35</th>\n",
       "      <td>0.418099</td>\n",
       "      <td>0.510089</td>\n",
       "      <td>dummy_constant</td>\n",
       "      <td>0.418099</td>\n",
       "      <td>0.510089</td>\n",
       "      <td>-0.564028</td>\n",
       "      <td>0.006809</td>\n",
       "      <td>0.000028</td>\n",
       "      <td>False</td>\n",
       "    </tr>\n",
       "    <tr>\n",
       "      <th>36</th>\n",
       "      <td>0.727066</td>\n",
       "      <td>0.725625</td>\n",
       "      <td>dummy_constant</td>\n",
       "      <td>0.727066</td>\n",
       "      <td>0.725625</td>\n",
       "      <td>-0.044832</td>\n",
       "      <td>0.102465</td>\n",
       "      <td>0.000026</td>\n",
       "      <td>False</td>\n",
       "    </tr>\n",
       "    <tr>\n",
       "      <th>37</th>\n",
       "      <td>0.495972</td>\n",
       "      <td>0.157149</td>\n",
       "      <td>dummy_constant</td>\n",
       "      <td>0.495972</td>\n",
       "      <td>0.157149</td>\n",
       "      <td>-0.748899</td>\n",
       "      <td>0.117563</td>\n",
       "      <td>0.000027</td>\n",
       "      <td>False</td>\n",
       "    </tr>\n",
       "    <tr>\n",
       "      <th>38</th>\n",
       "      <td>0.431394</td>\n",
       "      <td>0.422851</td>\n",
       "      <td>dummy_constant</td>\n",
       "      <td>0.431394</td>\n",
       "      <td>0.422851</td>\n",
       "      <td>-0.733818</td>\n",
       "      <td>0.010659</td>\n",
       "      <td>0.000026</td>\n",
       "      <td>False</td>\n",
       "    </tr>\n",
       "    <tr>\n",
       "      <th>39</th>\n",
       "      <td>0.141923</td>\n",
       "      <td>0.810068</td>\n",
       "      <td>dummy_constant</td>\n",
       "      <td>0.141923</td>\n",
       "      <td>0.810068</td>\n",
       "      <td>-0.230291</td>\n",
       "      <td>0.224361</td>\n",
       "      <td>0.000027</td>\n",
       "      <td>False</td>\n",
       "    </tr>\n",
       "    <tr>\n",
       "      <th>40</th>\n",
       "      <td>0.569124</td>\n",
       "      <td>0.787168</td>\n",
       "      <td>dummy_constant</td>\n",
       "      <td>0.569124</td>\n",
       "      <td>0.787168</td>\n",
       "      <td>0.026563</td>\n",
       "      <td>0.087243</td>\n",
       "      <td>0.000025</td>\n",
       "      <td>False</td>\n",
       "    </tr>\n",
       "    <tr>\n",
       "      <th>41</th>\n",
       "      <td>0.526462</td>\n",
       "      <td>0.811782</td>\n",
       "      <td>dummy_constant</td>\n",
       "      <td>0.526462</td>\n",
       "      <td>0.811782</td>\n",
       "      <td>0.033756</td>\n",
       "      <td>0.097908</td>\n",
       "      <td>0.000026</td>\n",
       "      <td>False</td>\n",
       "    </tr>\n",
       "    <tr>\n",
       "      <th>42</th>\n",
       "      <td>0.039302</td>\n",
       "      <td>1.121918</td>\n",
       "      <td>dummy_constant</td>\n",
       "      <td>0.039302</td>\n",
       "      <td>1.121918</td>\n",
       "      <td>0.175534</td>\n",
       "      <td>0.599024</td>\n",
       "      <td>0.000027</td>\n",
       "      <td>False</td>\n",
       "    </tr>\n",
       "    <tr>\n",
       "      <th>43</th>\n",
       "      <td>0.692943</td>\n",
       "      <td>0.670985</td>\n",
       "      <td>dummy_constant</td>\n",
       "      <td>0.692943</td>\n",
       "      <td>0.670985</td>\n",
       "      <td>-0.166309</td>\n",
       "      <td>0.066463</td>\n",
       "      <td>0.000026</td>\n",
       "      <td>False</td>\n",
       "    </tr>\n",
       "    <tr>\n",
       "      <th>44</th>\n",
       "      <td>1.207196</td>\n",
       "      <td>0.092783</td>\n",
       "      <td>dummy_constant</td>\n",
       "      <td>1.207196</td>\n",
       "      <td>0.092783</td>\n",
       "      <td>0.432254</td>\n",
       "      <td>0.665951</td>\n",
       "      <td>0.000027</td>\n",
       "      <td>False</td>\n",
       "    </tr>\n",
       "    <tr>\n",
       "      <th>45</th>\n",
       "      <td>0.325251</td>\n",
       "      <td>0.859690</td>\n",
       "      <td>dummy_constant</td>\n",
       "      <td>0.325251</td>\n",
       "      <td>0.859690</td>\n",
       "      <td>-0.243089</td>\n",
       "      <td>0.159914</td>\n",
       "      <td>0.000026</td>\n",
       "      <td>False</td>\n",
       "    </tr>\n",
       "    <tr>\n",
       "      <th>46</th>\n",
       "      <td>0.293082</td>\n",
       "      <td>0.967307</td>\n",
       "      <td>dummy_constant</td>\n",
       "      <td>0.293082</td>\n",
       "      <td>0.967307</td>\n",
       "      <td>0.022106</td>\n",
       "      <td>0.261191</td>\n",
       "      <td>0.000027</td>\n",
       "      <td>False</td>\n",
       "    </tr>\n",
       "    <tr>\n",
       "      <th>47</th>\n",
       "      <td>0.537948</td>\n",
       "      <td>0.607266</td>\n",
       "      <td>dummy_constant</td>\n",
       "      <td>0.537948</td>\n",
       "      <td>0.607266</td>\n",
       "      <td>-0.398594</td>\n",
       "      <td>0.012946</td>\n",
       "      <td>0.000026</td>\n",
       "      <td>False</td>\n",
       "    </tr>\n",
       "    <tr>\n",
       "      <th>48</th>\n",
       "      <td>0.137788</td>\n",
       "      <td>0.640379</td>\n",
       "      <td>dummy_constant</td>\n",
       "      <td>0.137788</td>\n",
       "      <td>0.640379</td>\n",
       "      <td>-0.474023</td>\n",
       "      <td>0.150903</td>\n",
       "      <td>0.000027</td>\n",
       "      <td>False</td>\n",
       "    </tr>\n",
       "    <tr>\n",
       "      <th>49</th>\n",
       "      <td>0.912500</td>\n",
       "      <td>0.149457</td>\n",
       "      <td>dummy_constant</td>\n",
       "      <td>0.912500</td>\n",
       "      <td>0.149457</td>\n",
       "      <td>-0.059445</td>\n",
       "      <td>0.293036</td>\n",
       "      <td>0.000026</td>\n",
       "      <td>False</td>\n",
       "    </tr>\n",
       "    <tr>\n",
       "      <th>50</th>\n",
       "      <td>0.833214</td>\n",
       "      <td>0.611954</td>\n",
       "      <td>dummy_constant</td>\n",
       "      <td>0.833214</td>\n",
       "      <td>0.611954</td>\n",
       "      <td>0.144516</td>\n",
       "      <td>0.123565</td>\n",
       "      <td>0.000027</td>\n",
       "      <td>False</td>\n",
       "    </tr>\n",
       "    <tr>\n",
       "      <th>51</th>\n",
       "      <td>0.971694</td>\n",
       "      <td>0.299529</td>\n",
       "      <td>dummy_constant</td>\n",
       "      <td>0.971694</td>\n",
       "      <td>0.299529</td>\n",
       "      <td>0.026732</td>\n",
       "      <td>0.262684</td>\n",
       "      <td>0.000027</td>\n",
       "      <td>False</td>\n",
       "    </tr>\n",
       "    <tr>\n",
       "      <th>52</th>\n",
       "      <td>0.863071</td>\n",
       "      <td>0.127942</td>\n",
       "      <td>dummy_constant</td>\n",
       "      <td>0.863071</td>\n",
       "      <td>0.127942</td>\n",
       "      <td>-0.168134</td>\n",
       "      <td>0.270247</td>\n",
       "      <td>0.000025</td>\n",
       "      <td>False</td>\n",
       "    </tr>\n",
       "    <tr>\n",
       "      <th>53</th>\n",
       "      <td>0.171316</td>\n",
       "      <td>0.995491</td>\n",
       "      <td>dummy_constant</td>\n",
       "      <td>0.171316</td>\n",
       "      <td>0.995491</td>\n",
       "      <td>0.111870</td>\n",
       "      <td>0.353544</td>\n",
       "      <td>0.000026</td>\n",
       "      <td>False</td>\n",
       "    </tr>\n",
       "    <tr>\n",
       "      <th>54</th>\n",
       "      <td>0.003667</td>\n",
       "      <td>0.765864</td>\n",
       "      <td>dummy_constant</td>\n",
       "      <td>0.003667</td>\n",
       "      <td>0.765864</td>\n",
       "      <td>-0.513146</td>\n",
       "      <td>0.317030</td>\n",
       "      <td>0.000028</td>\n",
       "      <td>False</td>\n",
       "    </tr>\n",
       "  </tbody>\n",
       "</table>\n",
       "</div>"
      ],
      "text/plain": [
       "          x1        x2               a        y1        y2         c1  \\\n",
       "0   0.999211  0.463893  dummy_constant  0.999211  0.463893   0.135311   \n",
       "1   3.136671  1.708046  dummy_constant  3.136671  1.708046  11.768523   \n",
       "2   1.875789  1.770415  dummy_constant  1.875789  1.770415   5.563450   \n",
       "3   1.057707  1.513646  dummy_constant  1.057707  1.513646   2.504349   \n",
       "4   0.467924  0.888382  dummy_constant  0.467924  0.888382  -0.001542   \n",
       "5   0.146860  0.422871  dummy_constant  0.146860  0.422871  -0.858993   \n",
       "6   0.000000  0.036182  dummy_constant  0.000000  0.036182  -1.098691   \n",
       "7   0.484029  0.933799  dummy_constant  0.484029  0.933799   0.086148   \n",
       "8   0.000000  0.884689  dummy_constant  0.000000  0.884689  -0.317325   \n",
       "9   0.181709  1.111412  dummy_constant  0.181709  1.111412   0.353579   \n",
       "10  0.817828  0.705872  dummy_constant  0.817828  0.705872   0.128407   \n",
       "11  0.086766  1.026845  dummy_constant  0.086766  1.026845   0.039918   \n",
       "12  1.042705  0.073102  dummy_constant  1.042705  0.073102   0.049001   \n",
       "13  0.667726  0.249528  dummy_constant  0.667726  0.249528  -0.576543   \n",
       "14  0.184345  0.854738  dummy_constant  0.184345  0.854738  -0.138727   \n",
       "15  0.216696  0.947847  dummy_constant  0.216696  0.947847   0.035219   \n",
       "16  0.818464  0.250300  dummy_constant  0.818464  0.250300  -0.271083   \n",
       "17  0.054789  1.032422  dummy_constant  0.054789  1.032422   0.002770   \n",
       "18  0.101237  0.534530  dummy_constant  0.101237  0.534530  -0.605104   \n",
       "19  1.051003  0.113120  dummy_constant  1.051003  0.113120   0.131822   \n",
       "20  0.063561  1.043427  dummy_constant  0.063561  1.043427   0.036534   \n",
       "21  0.923104  0.345175  dummy_constant  0.923104  0.345175  -0.113571   \n",
       "22  0.136409  0.571391  dummy_constant  0.136409  0.571391  -0.572821   \n",
       "23  0.918644  0.127005  dummy_constant  0.918644  0.127005  -0.081266   \n",
       "24  0.054550  2.412322  dummy_constant  0.054550  2.412322   4.728747   \n",
       "25  1.131828  0.083515  dummy_constant  1.131828  0.083515   0.249776   \n",
       "26  0.324850  0.919270  dummy_constant  0.324850  0.919270  -0.115543   \n",
       "27  0.999565  0.019513  dummy_constant  0.999565  0.019513  -0.095652   \n",
       "28  0.663113  0.815082  dummy_constant  0.663113  0.815082   0.110909   \n",
       "29  0.003668  1.073219  dummy_constant  0.003668  1.073219   0.051963   \n",
       "30  0.903868  0.535606  dummy_constant  0.903868  0.535606   0.168658   \n",
       "31  0.319543  0.813508  dummy_constant  0.319543  0.813508  -0.331786   \n",
       "32  0.701253  0.355988  dummy_constant  0.701253  0.355988  -0.414682   \n",
       "33  0.270586  0.148132  dummy_constant  0.270586  0.148132  -0.888893   \n",
       "34  0.285109  0.781309  dummy_constant  0.285109  0.781309  -0.385721   \n",
       "35  0.418099  0.510089  dummy_constant  0.418099  0.510089  -0.564028   \n",
       "36  0.727066  0.725625  dummy_constant  0.727066  0.725625  -0.044832   \n",
       "37  0.495972  0.157149  dummy_constant  0.495972  0.157149  -0.748899   \n",
       "38  0.431394  0.422851  dummy_constant  0.431394  0.422851  -0.733818   \n",
       "39  0.141923  0.810068  dummy_constant  0.141923  0.810068  -0.230291   \n",
       "40  0.569124  0.787168  dummy_constant  0.569124  0.787168   0.026563   \n",
       "41  0.526462  0.811782  dummy_constant  0.526462  0.811782   0.033756   \n",
       "42  0.039302  1.121918  dummy_constant  0.039302  1.121918   0.175534   \n",
       "43  0.692943  0.670985  dummy_constant  0.692943  0.670985  -0.166309   \n",
       "44  1.207196  0.092783  dummy_constant  1.207196  0.092783   0.432254   \n",
       "45  0.325251  0.859690  dummy_constant  0.325251  0.859690  -0.243089   \n",
       "46  0.293082  0.967307  dummy_constant  0.293082  0.967307   0.022106   \n",
       "47  0.537948  0.607266  dummy_constant  0.537948  0.607266  -0.398594   \n",
       "48  0.137788  0.640379  dummy_constant  0.137788  0.640379  -0.474023   \n",
       "49  0.912500  0.149457  dummy_constant  0.912500  0.149457  -0.059445   \n",
       "50  0.833214  0.611954  dummy_constant  0.833214  0.611954   0.144516   \n",
       "51  0.971694  0.299529  dummy_constant  0.971694  0.299529   0.026732   \n",
       "52  0.863071  0.127942  dummy_constant  0.863071  0.127942  -0.168134   \n",
       "53  0.171316  0.995491  dummy_constant  0.171316  0.995491   0.111870   \n",
       "54  0.003667  0.765864  dummy_constant  0.003667  0.765864  -0.513146   \n",
       "\n",
       "          c2  xopt_runtime  xopt_error  \n",
       "0   0.250515      0.000036       False  \n",
       "1   8.411409      0.000009       False  \n",
       "2   3.506750      0.000007       False  \n",
       "3   1.338514      0.000006       False  \n",
       "4   0.151870      0.000006       False  \n",
       "5   0.130657      0.000028       False  \n",
       "6   0.465127      0.000024       False  \n",
       "7   0.188437      0.000027       False  \n",
       "8   0.397986      0.000027       False  \n",
       "9   0.475134      0.000026       False  \n",
       "10  0.143398      0.000050       False  \n",
       "11  0.448328      0.000032       False  \n",
       "12  0.476770      0.000027       False  \n",
       "13  0.090868      0.000028       False  \n",
       "14  0.225477      0.000024       False  \n",
       "15  0.280828      0.000028       False  \n",
       "16  0.163769      0.000027       False  \n",
       "17  0.481686      0.000033       False  \n",
       "18  0.160204      0.000027       False  \n",
       "19  0.453280      0.000027       False  \n",
       "20  0.485791      0.000028       False  \n",
       "21  0.202988      0.000026       False  \n",
       "22  0.137295      0.000023       False  \n",
       "23  0.314388      0.000027       False  \n",
       "24  3.855402      0.000027       False  \n",
       "25  0.572667      0.000026       False  \n",
       "26  0.206465      0.000024       False  \n",
       "27  0.480433      0.000025       False  \n",
       "28  0.125883      0.000025       False  \n",
       "29  0.574926      0.000026       False  \n",
       "30  0.164377      0.000025       False  \n",
       "31  0.130852      0.000026       False  \n",
       "32  0.061242      0.000026       False  \n",
       "33  0.176442      0.000026       False  \n",
       "34  0.125313      0.000025       False  \n",
       "35  0.006809      0.000028       False  \n",
       "36  0.102465      0.000026       False  \n",
       "37  0.117563      0.000027       False  \n",
       "38  0.010659      0.000026       False  \n",
       "39  0.224361      0.000027       False  \n",
       "40  0.087243      0.000025       False  \n",
       "41  0.097908      0.000026       False  \n",
       "42  0.599024      0.000027       False  \n",
       "43  0.066463      0.000026       False  \n",
       "44  0.665951      0.000027       False  \n",
       "45  0.159914      0.000026       False  \n",
       "46  0.261191      0.000027       False  \n",
       "47  0.012946      0.000026       False  \n",
       "48  0.150903      0.000027       False  \n",
       "49  0.293036      0.000026       False  \n",
       "50  0.123565      0.000027       False  \n",
       "51  0.262684      0.000027       False  \n",
       "52  0.270247      0.000025       False  \n",
       "53  0.353544      0.000026       False  \n",
       "54  0.317030      0.000028       False  "
      ]
     },
     "execution_count": 3,
     "metadata": {},
     "output_type": "execute_result"
    }
   ],
   "source": [
    "X.generator.data"
   ]
  },
  {
   "cell_type": "markdown",
   "metadata": {
    "collapsed": false
   },
   "source": [
    "## plot results\n"
   ]
  },
  {
   "cell_type": "code",
   "execution_count": 4,
   "metadata": {
    "collapsed": false,
    "execution": {
     "iopub.execute_input": "2024-08-20T19:31:57.408017Z",
     "iopub.status.busy": "2024-08-20T19:31:57.407831Z",
     "iopub.status.idle": "2024-08-20T19:31:57.894702Z",
     "shell.execute_reply": "2024-08-20T19:31:57.894063Z"
    }
   },
   "outputs": [
    {
     "data": {
      "image/png": "[encoded data removed]",
      "text/plain": [
       "<Figure size 640x480 with 1 Axes>"
      ]
     },
     "metadata": {},
     "output_type": "display_data"
    }
   ],
   "source": [
    "import matplotlib.pyplot as plt\n",
    "import numpy as np\n",
    "import pandas as pd\n",
    "\n",
    "fig, ax = plt.subplots()\n",
    "\n",
    "theta = np.linspace(0, np.pi / 2)\n",
    "r = np.sqrt(1 + 0.1 * np.cos(16 * theta))\n",
    "x_1 = r * np.sin(theta)\n",
    "x_2_lower = r * np.cos(theta)\n",
    "x_2_upper = (0.5 - (x_1 - 0.5) ** 2) ** 0.5 + 0.5\n",
    "\n",
    "z = np.zeros_like(x_1)\n",
    "\n",
    "# ax2.plot(x_1, x_2_lower,'r')\n",
    "ax.fill_between(x_1, z, x_2_lower, fc=\"white\")\n",
    "circle = plt.Circle(\n",
    "    (0.5, 0.5), 0.5 ** 0.5, color=\"r\", alpha=0.25, zorder=0, label=\"Valid Region\"\n",
    ")\n",
    "ax.add_patch(circle)\n",
    "history = pd.concat(\n",
    "    [X.data, X.vocs.feasibility_data(X.data)], axis=1, ignore_index=False\n",
    ")\n",
    "\n",
    "\n",
    "ax.plot(*history[[\"x1\", \"x2\"]][history[\"feasible\"]].to_numpy().T, \".C1\")\n",
    "ax.plot(*history[[\"x1\", \"x2\"]][~history[\"feasible\"]].to_numpy().T, \".C2\")\n",
    "\n",
    "ax.set_xlim(0, 3.14)\n",
    "ax.set_ylim(0, 3.14)\n",
    "ax.set_xlabel(\"x1\")\n",
    "ax.set_ylabel(\"x2\")\n",
    "ax.set_aspect(\"equal\")"
   ]
  },
  {
   "cell_type": "markdown",
   "metadata": {
    "collapsed": false
   },
   "source": [
    "### Plot path through input space"
   ]
  },
  {
   "cell_type": "code",
   "execution_count": 5,
   "metadata": {
    "collapsed": false,
    "execution": {
     "iopub.execute_input": "2024-08-20T19:31:57.897147Z",
     "iopub.status.busy": "2024-08-20T19:31:57.896722Z",
     "iopub.status.idle": "2024-08-20T19:31:58.006842Z",
     "shell.execute_reply": "2024-08-20T19:31:58.006266Z"
    }
   },
   "outputs": [
    {
     "data": {
      "image/png": "[encoded data removed]",
      "text/plain": [
       "<Figure size 640x480 with 1 Axes>"
      ]
     },
     "metadata": {},
     "output_type": "display_data"
    }
   ],
   "source": [
    "ax = history.plot(\"x1\", \"x2\")\n",
    "ax.set_ylim(0, 3.14)\n",
    "ax.set_xlim(0, 3.14)\n",
    "ax.set_aspect(\"equal\")"
   ]
  },
  {
   "cell_type": "code",
   "execution_count": 6,
   "metadata": {
    "collapsed": false,
    "execution": {
     "iopub.execute_input": "2024-08-20T19:31:58.009297Z",
     "iopub.status.busy": "2024-08-20T19:31:58.008949Z",
     "iopub.status.idle": "2024-08-20T19:32:04.181853Z",
     "shell.execute_reply": "2024-08-20T19:32:04.181214Z"
    }
   },
   "outputs": [
    {
     "name": "stdout",
     "output_type": "stream",
     "text": [
      "[[1.02414211 0.03621812]]\n"
     ]
    },
    {
     "data": {
      "text/plain": [
       "[<matplotlib.lines.Line2D at 0x7f9d6576cac0>]"
      ]
     },
     "execution_count": 6,
     "metadata": {},
     "output_type": "execute_result"
    },
    {
     "data": {
      "image/png": "[encoded data removed]",
      "text/plain": [
       "<Figure size 800x800 with 2 Axes>"
      ]
     },
     "metadata": {},
     "output_type": "display_data"
    },
    {
     "data": {
      "image/png": "[encoded data removed]",
      "text/plain": [
       "<Figure size 800x800 with 2 Axes>"
      ]
     },
     "metadata": {},
     "output_type": "display_data"
    }
   ],
   "source": [
    "# plot the acquisition function\n",
    "from xopt.generators.bayesian.objectives import feasibility\n",
    "\n",
    "bounds = X.generator.vocs.bounds\n",
    "model = X.generator.model\n",
    "\n",
    "# create mesh\n",
    "n = 100\n",
    "x = torch.linspace(*bounds.T[0], n)\n",
    "y = torch.linspace(*bounds.T[1], n)\n",
    "xx, yy = torch.meshgrid(x, y)\n",
    "pts = torch.hstack([ele.reshape(-1, 1) for ele in (xx, yy)]).double()\n",
    "\n",
    "xx, yy = xx.numpy(), yy.numpy()\n",
    "\n",
    "acq_func = X.generator.get_acquisition(model)\n",
    "with torch.no_grad():\n",
    "    acq_pts = pts.unsqueeze(1)\n",
    "    acq = acq_func(acq_pts)\n",
    "\n",
    "    fig, ax = plt.subplots(figsize=(8,8))\n",
    "    c = ax.pcolor(xx, yy, acq.reshape(n, n), cmap=\"Blues\")\n",
    "    fig.colorbar(c)\n",
    "    ax.set_title(\"Acquisition function\")\n",
    "\n",
    "    ax.plot(*history[[\"x1\", \"x2\"]][history[\"feasible\"]].to_numpy().T, \".C1\")\n",
    "    ax.plot(*history[[\"x1\", \"x2\"]][~history[\"feasible\"]].to_numpy().T, \".C2\")\n",
    "\n",
    "    ax.plot(*history[[\"x1\", \"x2\"]].to_numpy()[-1].T, \"+\")\n",
    "\n",
    "    feas = feasibility(pts.unsqueeze(1), model, X.vocs).flatten()\n",
    "\n",
    "    fig2, ax2 = plt.subplots(figsize=(8,8))\n",
    "    c = ax2.pcolor(xx, yy, feas.reshape(n, n))\n",
    "    fig2.colorbar(c)\n",
    "    ax2.set_title(\"Feasible Region\")\n",
    "\n",
    "candidate = pd.DataFrame(X.generator.generate(1), index=[0])\n",
    "print(candidate[[\"x1\", \"x2\"]].to_numpy())\n",
    "ax.plot(*candidate[[\"x1\", \"x2\"]].to_numpy()[0], \"o\")"
   ]
  }
 ],
 "metadata": {
  "interpreter": {
   "hash": "72034539424920dfb606fe3b820b3f27dca0cbf1c69938110810ec4641e275b1"
  },
  "kernelspec": {
   "display_name": "Python 3 (ipykernel)",
   "language": "python",
   "name": "python3"
  },
  "language_info": {
   "codemirror_mode": {
    "name": "ipython",
    "version": 3
   },
   "file_extension": ".py",
   "mimetype": "text/x-python",
   "name": "python",
   "nbconvert_exporter": "python",
   "pygments_lexer": "ipython3",
   "version": "3.9.19"
  }
 },
 "nbformat": 4,
 "nbformat_minor": 4
}
