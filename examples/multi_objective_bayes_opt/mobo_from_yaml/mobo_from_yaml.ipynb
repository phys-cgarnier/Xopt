{
 "cells": [
  {
   "cell_type": "markdown",
   "metadata": {},
   "source": [
    "\n",
    "# Multi-objective Bayesian Optimization\n",
    "\n",
    "\n",
    "TNK function\n",
    "$n=2$ variables:\n",
    "$x_i \\in [0, \\pi], i=1,2$\n",
    "\n",
    "Objectives:\n",
    "- $f_i(x) = x_i$\n",
    "\n",
    "Constraints:\n",
    "- $g_1(x) = -x_1^2 -x_2^2 + 1 + 0.1 \\cos\\left(16 \\arctan \\frac{x_1}{x_2}\\right) \\le 0$\n",
    "- $g_2(x) = (x_1 - 1/2)^2 + (x_2-1/2)^2 \\le 0.5$"
   ]
  },
  {
   "cell_type": "code",
   "execution_count": 1,
   "metadata": {
    "collapsed": false,
    "execution": {
     "iopub.execute_input": "2024-01-25T21:39:07.918488Z",
     "iopub.status.busy": "2024-01-25T21:39:07.918313Z",
     "iopub.status.idle": "2024-01-25T21:39:09.362663Z",
     "shell.execute_reply": "2024-01-25T21:39:09.362102Z"
    }
   },
   "outputs": [],
   "source": [
    "import os\n",
    "SMOKE_TEST = os.environ.get(\"SMOKE_TEST\")\n",
    "NUM_STEPS = 2 if SMOKE_TEST else 50\n",
    "\n",
    "# Ignore all warnings\n",
    "import warnings\n",
    "warnings.filterwarnings(\"ignore\")\n",
    "\n",
    "import torch\n",
    "from xopt import Xopt\n",
    "\n",
    "\n",
    "YAML = \"\"\"\n",
    "generator:\n",
    "    name: mobo\n",
    "    reference_point: {y1: 1.5, y2: 1.5}\n",
    "\n",
    "evaluator:\n",
    "    function: xopt.resources.test_functions.tnk.evaluate_TNK\n",
    "\n",
    "vocs:\n",
    "    variables:\n",
    "        x1: [0, 3.14159]\n",
    "        x2: [0, 3.14159]\n",
    "    objectives: {y1: MINIMIZE, y2: MINIMIZE}\n",
    "    constraints:\n",
    "        c1: [GREATER_THAN, 0]\n",
    "        c2: [LESS_THAN, 0.5]\n",
    "    constants: {a: dummy_constant}\n",
    "\n",
    "\"\"\""
   ]
  },
  {
   "cell_type": "code",
   "execution_count": 2,
   "metadata": {
    "collapsed": false,
    "execution": {
     "iopub.execute_input": "2024-01-25T21:39:09.365217Z",
     "iopub.status.busy": "2024-01-25T21:39:09.364981Z",
     "iopub.status.idle": "2024-01-25T21:39:57.953957Z",
     "shell.execute_reply": "2024-01-25T21:39:57.953276Z"
    }
   },
   "outputs": [
    {
     "name": "stdout",
     "output_type": "stream",
     "text": [
      "0\n"
     ]
    },
    {
     "name": "stdout",
     "output_type": "stream",
     "text": [
      "1\n"
     ]
    },
    {
     "name": "stdout",
     "output_type": "stream",
     "text": [
      "2\n"
     ]
    },
    {
     "name": "stdout",
     "output_type": "stream",
     "text": [
      "3\n"
     ]
    },
    {
     "name": "stdout",
     "output_type": "stream",
     "text": [
      "4\n"
     ]
    },
    {
     "name": "stdout",
     "output_type": "stream",
     "text": [
      "5\n"
     ]
    },
    {
     "name": "stdout",
     "output_type": "stream",
     "text": [
      "6\n"
     ]
    },
    {
     "name": "stdout",
     "output_type": "stream",
     "text": [
      "7\n"
     ]
    },
    {
     "name": "stdout",
     "output_type": "stream",
     "text": [
      "8\n"
     ]
    },
    {
     "name": "stdout",
     "output_type": "stream",
     "text": [
      "9\n"
     ]
    },
    {
     "name": "stdout",
     "output_type": "stream",
     "text": [
      "10\n"
     ]
    },
    {
     "name": "stdout",
     "output_type": "stream",
     "text": [
      "11\n"
     ]
    },
    {
     "name": "stdout",
     "output_type": "stream",
     "text": [
      "12\n"
     ]
    },
    {
     "name": "stdout",
     "output_type": "stream",
     "text": [
      "13\n"
     ]
    },
    {
     "name": "stdout",
     "output_type": "stream",
     "text": [
      "14\n"
     ]
    },
    {
     "name": "stdout",
     "output_type": "stream",
     "text": [
      "15\n"
     ]
    },
    {
     "name": "stdout",
     "output_type": "stream",
     "text": [
      "16\n"
     ]
    },
    {
     "name": "stdout",
     "output_type": "stream",
     "text": [
      "17\n"
     ]
    },
    {
     "name": "stdout",
     "output_type": "stream",
     "text": [
      "18\n"
     ]
    },
    {
     "name": "stdout",
     "output_type": "stream",
     "text": [
      "19\n"
     ]
    },
    {
     "name": "stdout",
     "output_type": "stream",
     "text": [
      "20\n"
     ]
    },
    {
     "name": "stdout",
     "output_type": "stream",
     "text": [
      "21\n"
     ]
    },
    {
     "name": "stdout",
     "output_type": "stream",
     "text": [
      "22\n"
     ]
    },
    {
     "name": "stdout",
     "output_type": "stream",
     "text": [
      "23\n"
     ]
    },
    {
     "name": "stdout",
     "output_type": "stream",
     "text": [
      "24\n"
     ]
    },
    {
     "name": "stdout",
     "output_type": "stream",
     "text": [
      "25\n"
     ]
    },
    {
     "name": "stdout",
     "output_type": "stream",
     "text": [
      "26\n"
     ]
    },
    {
     "name": "stdout",
     "output_type": "stream",
     "text": [
      "27\n"
     ]
    },
    {
     "name": "stdout",
     "output_type": "stream",
     "text": [
      "28\n"
     ]
    },
    {
     "name": "stdout",
     "output_type": "stream",
     "text": [
      "29\n"
     ]
    },
    {
     "name": "stdout",
     "output_type": "stream",
     "text": [
      "30\n"
     ]
    },
    {
     "name": "stdout",
     "output_type": "stream",
     "text": [
      "31\n"
     ]
    },
    {
     "name": "stdout",
     "output_type": "stream",
     "text": [
      "32\n"
     ]
    },
    {
     "name": "stdout",
     "output_type": "stream",
     "text": [
      "33\n"
     ]
    },
    {
     "name": "stdout",
     "output_type": "stream",
     "text": [
      "34\n"
     ]
    },
    {
     "name": "stdout",
     "output_type": "stream",
     "text": [
      "35\n"
     ]
    },
    {
     "name": "stdout",
     "output_type": "stream",
     "text": [
      "36\n"
     ]
    },
    {
     "name": "stdout",
     "output_type": "stream",
     "text": [
      "37\n"
     ]
    },
    {
     "name": "stdout",
     "output_type": "stream",
     "text": [
      "38\n"
     ]
    },
    {
     "name": "stdout",
     "output_type": "stream",
     "text": [
      "39\n"
     ]
    },
    {
     "name": "stdout",
     "output_type": "stream",
     "text": [
      "40\n"
     ]
    },
    {
     "name": "stdout",
     "output_type": "stream",
     "text": [
      "41\n"
     ]
    },
    {
     "name": "stdout",
     "output_type": "stream",
     "text": [
      "42\n"
     ]
    },
    {
     "name": "stdout",
     "output_type": "stream",
     "text": [
      "43\n"
     ]
    },
    {
     "name": "stdout",
     "output_type": "stream",
     "text": [
      "44\n"
     ]
    },
    {
     "name": "stdout",
     "output_type": "stream",
     "text": [
      "45\n"
     ]
    },
    {
     "name": "stdout",
     "output_type": "stream",
     "text": [
      "46\n"
     ]
    },
    {
     "name": "stdout",
     "output_type": "stream",
     "text": [
      "47\n"
     ]
    },
    {
     "name": "stdout",
     "output_type": "stream",
     "text": [
      "48\n"
     ]
    },
    {
     "name": "stdout",
     "output_type": "stream",
     "text": [
      "49\n"
     ]
    }
   ],
   "source": [
    "X = Xopt.from_yaml(YAML)\n",
    "\n",
    "# for testing purposes only\n",
    "if SMOKE_TEST:\n",
    "    X.generator.numerical_optimizer.n_restarts = 1\n",
    "    X.generator.n_monte_carlo_samples = 1\n",
    "\n",
    "X.random_evaluate(5)\n",
    "for i in range(NUM_STEPS):\n",
    "    print(i)\n",
    "    X.step()"
   ]
  },
  {
   "cell_type": "code",
   "execution_count": 3,
   "metadata": {
    "collapsed": false,
    "execution": {
     "iopub.execute_input": "2024-01-25T21:39:57.956937Z",
     "iopub.status.busy": "2024-01-25T21:39:57.956656Z",
     "iopub.status.idle": "2024-01-25T21:39:57.975218Z",
     "shell.execute_reply": "2024-01-25T21:39:57.974653Z"
    }
   },
   "outputs": [
    {
     "data": {
      "text/html": [
       "<div>\n",
       "<style scoped>\n",
       "    .dataframe tbody tr th:only-of-type {\n",
       "        vertical-align: middle;\n",
       "    }\n",
       "\n",
       "    .dataframe tbody tr th {\n",
       "        vertical-align: top;\n",
       "    }\n",
       "\n",
       "    .dataframe thead th {\n",
       "        text-align: right;\n",
       "    }\n",
       "</style>\n",
       "<table border=\"1\" class=\"dataframe\">\n",
       "  <thead>\n",
       "    <tr style=\"text-align: right;\">\n",
       "      <th></th>\n",
       "      <th>x1</th>\n",
       "      <th>x2</th>\n",
       "      <th>a</th>\n",
       "      <th>y1</th>\n",
       "      <th>y2</th>\n",
       "      <th>c1</th>\n",
       "      <th>c2</th>\n",
       "      <th>xopt_runtime</th>\n",
       "      <th>xopt_error</th>\n",
       "    </tr>\n",
       "  </thead>\n",
       "  <tbody>\n",
       "    <tr>\n",
       "      <th>0</th>\n",
       "      <td>0.684413</td>\n",
       "      <td>0.067785</td>\n",
       "      <td>dummy_constant</td>\n",
       "      <td>0.684413</td>\n",
       "      <td>0.067785</td>\n",
       "      <td>-0.526113</td>\n",
       "      <td>0.220818</td>\n",
       "      <td>0.000032</td>\n",
       "      <td>False</td>\n",
       "    </tr>\n",
       "    <tr>\n",
       "      <th>1</th>\n",
       "      <td>3.083257</td>\n",
       "      <td>1.751310</td>\n",
       "      <td>dummy_constant</td>\n",
       "      <td>3.083257</td>\n",
       "      <td>1.751310</td>\n",
       "      <td>11.613515</td>\n",
       "      <td>8.238994</td>\n",
       "      <td>0.000009</td>\n",
       "      <td>False</td>\n",
       "    </tr>\n",
       "    <tr>\n",
       "      <th>2</th>\n",
       "      <td>2.892731</td>\n",
       "      <td>1.766265</td>\n",
       "      <td>dummy_constant</td>\n",
       "      <td>2.892731</td>\n",
       "      <td>1.766265</td>\n",
       "      <td>10.566945</td>\n",
       "      <td>7.328589</td>\n",
       "      <td>0.000006</td>\n",
       "      <td>False</td>\n",
       "    </tr>\n",
       "    <tr>\n",
       "      <th>3</th>\n",
       "      <td>1.840502</td>\n",
       "      <td>1.859275</td>\n",
       "      <td>dummy_constant</td>\n",
       "      <td>1.840502</td>\n",
       "      <td>1.859275</td>\n",
       "      <td>5.744682</td>\n",
       "      <td>3.644575</td>\n",
       "      <td>0.000006</td>\n",
       "      <td>False</td>\n",
       "    </tr>\n",
       "    <tr>\n",
       "      <th>4</th>\n",
       "      <td>0.605364</td>\n",
       "      <td>2.800569</td>\n",
       "      <td>dummy_constant</td>\n",
       "      <td>0.605364</td>\n",
       "      <td>2.800569</td>\n",
       "      <td>7.306174</td>\n",
       "      <td>5.303719</td>\n",
       "      <td>0.000006</td>\n",
       "      <td>False</td>\n",
       "    </tr>\n",
       "    <tr>\n",
       "      <th>5</th>\n",
       "      <td>0.378170</td>\n",
       "      <td>0.091974</td>\n",
       "      <td>dummy_constant</td>\n",
       "      <td>0.378170</td>\n",
       "      <td>0.091974</td>\n",
       "      <td>-0.770495</td>\n",
       "      <td>0.181328</td>\n",
       "      <td>0.000025</td>\n",
       "      <td>False</td>\n",
       "    </tr>\n",
       "    <tr>\n",
       "      <th>6</th>\n",
       "      <td>0.025581</td>\n",
       "      <td>0.335341</td>\n",
       "      <td>dummy_constant</td>\n",
       "      <td>0.025581</td>\n",
       "      <td>0.335341</td>\n",
       "      <td>-0.921426</td>\n",
       "      <td>0.252186</td>\n",
       "      <td>0.000024</td>\n",
       "      <td>False</td>\n",
       "    </tr>\n",
       "    <tr>\n",
       "      <th>7</th>\n",
       "      <td>0.909796</td>\n",
       "      <td>0.000000</td>\n",
       "      <td>dummy_constant</td>\n",
       "      <td>0.909796</td>\n",
       "      <td>0.000000</td>\n",
       "      <td>-0.272271</td>\n",
       "      <td>0.417933</td>\n",
       "      <td>0.000023</td>\n",
       "      <td>False</td>\n",
       "    </tr>\n",
       "    <tr>\n",
       "      <th>8</th>\n",
       "      <td>0.313124</td>\n",
       "      <td>0.696669</td>\n",
       "      <td>dummy_constant</td>\n",
       "      <td>0.313124</td>\n",
       "      <td>0.696669</td>\n",
       "      <td>-0.505522</td>\n",
       "      <td>0.073601</td>\n",
       "      <td>0.000023</td>\n",
       "      <td>False</td>\n",
       "    </tr>\n",
       "    <tr>\n",
       "      <th>9</th>\n",
       "      <td>0.475430</td>\n",
       "      <td>0.947814</td>\n",
       "      <td>dummy_constant</td>\n",
       "      <td>0.475430</td>\n",
       "      <td>0.947814</td>\n",
       "      <td>0.084062</td>\n",
       "      <td>0.201141</td>\n",
       "      <td>0.000023</td>\n",
       "      <td>False</td>\n",
       "    </tr>\n",
       "    <tr>\n",
       "      <th>10</th>\n",
       "      <td>0.923893</td>\n",
       "      <td>0.562789</td>\n",
       "      <td>dummy_constant</td>\n",
       "      <td>0.923893</td>\n",
       "      <td>0.562789</td>\n",
       "      <td>0.248640</td>\n",
       "      <td>0.183628</td>\n",
       "      <td>0.000023</td>\n",
       "      <td>False</td>\n",
       "    </tr>\n",
       "    <tr>\n",
       "      <th>11</th>\n",
       "      <td>0.260370</td>\n",
       "      <td>1.010417</td>\n",
       "      <td>dummy_constant</td>\n",
       "      <td>0.260370</td>\n",
       "      <td>1.010417</td>\n",
       "      <td>0.151397</td>\n",
       "      <td>0.317948</td>\n",
       "      <td>0.000024</td>\n",
       "      <td>False</td>\n",
       "    </tr>\n",
       "    <tr>\n",
       "      <th>12</th>\n",
       "      <td>0.124509</td>\n",
       "      <td>1.524441</td>\n",
       "      <td>dummy_constant</td>\n",
       "      <td>0.124509</td>\n",
       "      <td>1.524441</td>\n",
       "      <td>1.313050</td>\n",
       "      <td>1.190473</td>\n",
       "      <td>0.000029</td>\n",
       "      <td>False</td>\n",
       "    </tr>\n",
       "    <tr>\n",
       "      <th>13</th>\n",
       "      <td>1.034162</td>\n",
       "      <td>0.235020</td>\n",
       "      <td>dummy_constant</td>\n",
       "      <td>1.034162</td>\n",
       "      <td>0.235020</td>\n",
       "      <td>0.215463</td>\n",
       "      <td>0.355543</td>\n",
       "      <td>0.000025</td>\n",
       "      <td>False</td>\n",
       "    </tr>\n",
       "    <tr>\n",
       "      <th>14</th>\n",
       "      <td>0.057414</td>\n",
       "      <td>0.999614</td>\n",
       "      <td>dummy_constant</td>\n",
       "      <td>0.057414</td>\n",
       "      <td>0.999614</td>\n",
       "      <td>-0.058219</td>\n",
       "      <td>0.445496</td>\n",
       "      <td>0.000023</td>\n",
       "      <td>False</td>\n",
       "    </tr>\n",
       "    <tr>\n",
       "      <th>15</th>\n",
       "      <td>0.761561</td>\n",
       "      <td>0.706885</td>\n",
       "      <td>dummy_constant</td>\n",
       "      <td>0.761561</td>\n",
       "      <td>0.706885</td>\n",
       "      <td>-0.003126</td>\n",
       "      <td>0.111216</td>\n",
       "      <td>0.000025</td>\n",
       "      <td>False</td>\n",
       "    </tr>\n",
       "    <tr>\n",
       "      <th>16</th>\n",
       "      <td>0.781076</td>\n",
       "      <td>0.290090</td>\n",
       "      <td>dummy_constant</td>\n",
       "      <td>0.781076</td>\n",
       "      <td>0.290090</td>\n",
       "      <td>-0.388670</td>\n",
       "      <td>0.123066</td>\n",
       "      <td>0.000024</td>\n",
       "      <td>False</td>\n",
       "    </tr>\n",
       "    <tr>\n",
       "      <th>17</th>\n",
       "      <td>0.085720</td>\n",
       "      <td>1.041770</td>\n",
       "      <td>dummy_constant</td>\n",
       "      <td>0.085720</td>\n",
       "      <td>1.041770</td>\n",
       "      <td>0.067192</td>\n",
       "      <td>0.465143</td>\n",
       "      <td>0.000025</td>\n",
       "      <td>False</td>\n",
       "    </tr>\n",
       "    <tr>\n",
       "      <th>18</th>\n",
       "      <td>1.026162</td>\n",
       "      <td>0.086314</td>\n",
       "      <td>dummy_constant</td>\n",
       "      <td>1.026162</td>\n",
       "      <td>0.086314</td>\n",
       "      <td>0.037841</td>\n",
       "      <td>0.447982</td>\n",
       "      <td>0.000024</td>\n",
       "      <td>False</td>\n",
       "    </tr>\n",
       "    <tr>\n",
       "      <th>19</th>\n",
       "      <td>1.186573</td>\n",
       "      <td>0.084877</td>\n",
       "      <td>dummy_constant</td>\n",
       "      <td>1.186573</td>\n",
       "      <td>0.084877</td>\n",
       "      <td>0.373632</td>\n",
       "      <td>0.643709</td>\n",
       "      <td>0.000025</td>\n",
       "      <td>False</td>\n",
       "    </tr>\n",
       "    <tr>\n",
       "      <th>20</th>\n",
       "      <td>0.943371</td>\n",
       "      <td>0.328569</td>\n",
       "      <td>dummy_constant</td>\n",
       "      <td>0.943371</td>\n",
       "      <td>0.328569</td>\n",
       "      <td>-0.062617</td>\n",
       "      <td>0.225966</td>\n",
       "      <td>0.000025</td>\n",
       "      <td>False</td>\n",
       "    </tr>\n",
       "    <tr>\n",
       "      <th>21</th>\n",
       "      <td>0.310896</td>\n",
       "      <td>0.963035</td>\n",
       "      <td>dummy_constant</td>\n",
       "      <td>0.310896</td>\n",
       "      <td>0.963035</td>\n",
       "      <td>-0.003916</td>\n",
       "      <td>0.250162</td>\n",
       "      <td>0.000025</td>\n",
       "      <td>False</td>\n",
       "    </tr>\n",
       "    <tr>\n",
       "      <th>22</th>\n",
       "      <td>0.327130</td>\n",
       "      <td>0.974243</td>\n",
       "      <td>dummy_constant</td>\n",
       "      <td>0.327130</td>\n",
       "      <td>0.974243</td>\n",
       "      <td>0.010803</td>\n",
       "      <td>0.254791</td>\n",
       "      <td>0.000027</td>\n",
       "      <td>False</td>\n",
       "    </tr>\n",
       "    <tr>\n",
       "      <th>23</th>\n",
       "      <td>0.657829</td>\n",
       "      <td>0.852562</td>\n",
       "      <td>dummy_constant</td>\n",
       "      <td>0.657829</td>\n",
       "      <td>0.852562</td>\n",
       "      <td>0.205846</td>\n",
       "      <td>0.149210</td>\n",
       "      <td>0.000024</td>\n",
       "      <td>False</td>\n",
       "    </tr>\n",
       "    <tr>\n",
       "      <th>24</th>\n",
       "      <td>0.379529</td>\n",
       "      <td>0.265950</td>\n",
       "      <td>dummy_constant</td>\n",
       "      <td>0.379529</td>\n",
       "      <td>0.265950</td>\n",
       "      <td>-0.691455</td>\n",
       "      <td>0.069292</td>\n",
       "      <td>0.000025</td>\n",
       "      <td>False</td>\n",
       "    </tr>\n",
       "    <tr>\n",
       "      <th>25</th>\n",
       "      <td>0.533460</td>\n",
       "      <td>0.871714</td>\n",
       "      <td>dummy_constant</td>\n",
       "      <td>0.533460</td>\n",
       "      <td>0.871714</td>\n",
       "      <td>0.124793</td>\n",
       "      <td>0.139291</td>\n",
       "      <td>0.000025</td>\n",
       "      <td>False</td>\n",
       "    </tr>\n",
       "    <tr>\n",
       "      <th>26</th>\n",
       "      <td>0.440393</td>\n",
       "      <td>0.915608</td>\n",
       "      <td>dummy_constant</td>\n",
       "      <td>0.440393</td>\n",
       "      <td>0.915608</td>\n",
       "      <td>-0.030662</td>\n",
       "      <td>0.176283</td>\n",
       "      <td>0.000026</td>\n",
       "      <td>False</td>\n",
       "    </tr>\n",
       "    <tr>\n",
       "      <th>27</th>\n",
       "      <td>0.885687</td>\n",
       "      <td>0.503323</td>\n",
       "      <td>dummy_constant</td>\n",
       "      <td>0.885687</td>\n",
       "      <td>0.503323</td>\n",
       "      <td>0.078038</td>\n",
       "      <td>0.148765</td>\n",
       "      <td>0.000025</td>\n",
       "      <td>False</td>\n",
       "    </tr>\n",
       "    <tr>\n",
       "      <th>28</th>\n",
       "      <td>0.358505</td>\n",
       "      <td>1.364551</td>\n",
       "      <td>dummy_constant</td>\n",
       "      <td>0.358505</td>\n",
       "      <td>1.364551</td>\n",
       "      <td>1.047125</td>\n",
       "      <td>0.767469</td>\n",
       "      <td>0.000025</td>\n",
       "      <td>False</td>\n",
       "    </tr>\n",
       "    <tr>\n",
       "      <th>29</th>\n",
       "      <td>0.275700</td>\n",
       "      <td>0.695504</td>\n",
       "      <td>dummy_constant</td>\n",
       "      <td>0.275700</td>\n",
       "      <td>0.695504</td>\n",
       "      <td>-0.537283</td>\n",
       "      <td>0.088532</td>\n",
       "      <td>0.000026</td>\n",
       "      <td>False</td>\n",
       "    </tr>\n",
       "    <tr>\n",
       "      <th>30</th>\n",
       "      <td>0.310500</td>\n",
       "      <td>0.629873</td>\n",
       "      <td>dummy_constant</td>\n",
       "      <td>0.310500</td>\n",
       "      <td>0.629873</td>\n",
       "      <td>-0.557059</td>\n",
       "      <td>0.052777</td>\n",
       "      <td>0.000026</td>\n",
       "      <td>False</td>\n",
       "    </tr>\n",
       "    <tr>\n",
       "      <th>31</th>\n",
       "      <td>0.960596</td>\n",
       "      <td>0.337303</td>\n",
       "      <td>dummy_constant</td>\n",
       "      <td>0.960596</td>\n",
       "      <td>0.337303</td>\n",
       "      <td>-0.027185</td>\n",
       "      <td>0.238619</td>\n",
       "      <td>0.000025</td>\n",
       "      <td>False</td>\n",
       "    </tr>\n",
       "    <tr>\n",
       "      <th>32</th>\n",
       "      <td>0.672273</td>\n",
       "      <td>0.665898</td>\n",
       "      <td>dummy_constant</td>\n",
       "      <td>0.672273</td>\n",
       "      <td>0.665898</td>\n",
       "      <td>-0.204339</td>\n",
       "      <td>0.057200</td>\n",
       "      <td>0.000024</td>\n",
       "      <td>False</td>\n",
       "    </tr>\n",
       "    <tr>\n",
       "      <th>33</th>\n",
       "      <td>0.632958</td>\n",
       "      <td>0.653394</td>\n",
       "      <td>dummy_constant</td>\n",
       "      <td>0.632958</td>\n",
       "      <td>0.653394</td>\n",
       "      <td>-0.269228</td>\n",
       "      <td>0.041208</td>\n",
       "      <td>0.000026</td>\n",
       "      <td>False</td>\n",
       "    </tr>\n",
       "    <tr>\n",
       "      <th>34</th>\n",
       "      <td>0.672152</td>\n",
       "      <td>0.778058</td>\n",
       "      <td>dummy_constant</td>\n",
       "      <td>0.672152</td>\n",
       "      <td>0.778058</td>\n",
       "      <td>0.017813</td>\n",
       "      <td>0.106952</td>\n",
       "      <td>0.000025</td>\n",
       "      <td>False</td>\n",
       "    </tr>\n",
       "    <tr>\n",
       "      <th>35</th>\n",
       "      <td>0.744765</td>\n",
       "      <td>0.589671</td>\n",
       "      <td>dummy_constant</td>\n",
       "      <td>0.744765</td>\n",
       "      <td>0.589671</td>\n",
       "      <td>-0.069931</td>\n",
       "      <td>0.067951</td>\n",
       "      <td>0.000025</td>\n",
       "      <td>False</td>\n",
       "    </tr>\n",
       "    <tr>\n",
       "      <th>36</th>\n",
       "      <td>0.314109</td>\n",
       "      <td>0.328837</td>\n",
       "      <td>dummy_constant</td>\n",
       "      <td>0.314109</td>\n",
       "      <td>0.328837</td>\n",
       "      <td>-0.886563</td>\n",
       "      <td>0.063852</td>\n",
       "      <td>0.000024</td>\n",
       "      <td>False</td>\n",
       "    </tr>\n",
       "    <tr>\n",
       "      <th>37</th>\n",
       "      <td>0.019525</td>\n",
       "      <td>1.016563</td>\n",
       "      <td>dummy_constant</td>\n",
       "      <td>0.019525</td>\n",
       "      <td>1.016563</td>\n",
       "      <td>-0.061534</td>\n",
       "      <td>0.497694</td>\n",
       "      <td>0.000027</td>\n",
       "      <td>False</td>\n",
       "    </tr>\n",
       "    <tr>\n",
       "      <th>38</th>\n",
       "      <td>0.443671</td>\n",
       "      <td>0.835416</td>\n",
       "      <td>dummy_constant</td>\n",
       "      <td>0.443671</td>\n",
       "      <td>0.835416</td>\n",
       "      <td>-0.109514</td>\n",
       "      <td>0.115677</td>\n",
       "      <td>0.000026</td>\n",
       "      <td>False</td>\n",
       "    </tr>\n",
       "    <tr>\n",
       "      <th>39</th>\n",
       "      <td>0.339248</td>\n",
       "      <td>0.423136</td>\n",
       "      <td>dummy_constant</td>\n",
       "      <td>0.339248</td>\n",
       "      <td>0.423136</td>\n",
       "      <td>-0.687698</td>\n",
       "      <td>0.031749</td>\n",
       "      <td>0.000025</td>\n",
       "      <td>False</td>\n",
       "    </tr>\n",
       "    <tr>\n",
       "      <th>40</th>\n",
       "      <td>0.123160</td>\n",
       "      <td>0.949739</td>\n",
       "      <td>dummy_constant</td>\n",
       "      <td>0.123160</td>\n",
       "      <td>0.949739</td>\n",
       "      <td>-0.035541</td>\n",
       "      <td>0.344273</td>\n",
       "      <td>0.000025</td>\n",
       "      <td>False</td>\n",
       "    </tr>\n",
       "    <tr>\n",
       "      <th>41</th>\n",
       "      <td>0.920395</td>\n",
       "      <td>0.435428</td>\n",
       "      <td>dummy_constant</td>\n",
       "      <td>0.920395</td>\n",
       "      <td>0.435428</td>\n",
       "      <td>-0.033873</td>\n",
       "      <td>0.180901</td>\n",
       "      <td>0.000026</td>\n",
       "      <td>False</td>\n",
       "    </tr>\n",
       "    <tr>\n",
       "      <th>42</th>\n",
       "      <td>1.043248</td>\n",
       "      <td>0.072495</td>\n",
       "      <td>dummy_constant</td>\n",
       "      <td>1.043248</td>\n",
       "      <td>0.072495</td>\n",
       "      <td>0.049161</td>\n",
       "      <td>0.477879</td>\n",
       "      <td>0.000025</td>\n",
       "      <td>False</td>\n",
       "    </tr>\n",
       "    <tr>\n",
       "      <th>43</th>\n",
       "      <td>0.501610</td>\n",
       "      <td>0.895264</td>\n",
       "      <td>dummy_constant</td>\n",
       "      <td>0.501610</td>\n",
       "      <td>0.895264</td>\n",
       "      <td>0.084320</td>\n",
       "      <td>0.156236</td>\n",
       "      <td>0.000025</td>\n",
       "      <td>False</td>\n",
       "    </tr>\n",
       "    <tr>\n",
       "      <th>44</th>\n",
       "      <td>0.051741</td>\n",
       "      <td>1.034721</td>\n",
       "      <td>dummy_constant</td>\n",
       "      <td>0.051741</td>\n",
       "      <td>1.034721</td>\n",
       "      <td>0.003613</td>\n",
       "      <td>0.486862</td>\n",
       "      <td>0.000026</td>\n",
       "      <td>False</td>\n",
       "    </tr>\n",
       "    <tr>\n",
       "      <th>45</th>\n",
       "      <td>0.185306</td>\n",
       "      <td>0.896826</td>\n",
       "      <td>dummy_constant</td>\n",
       "      <td>0.185306</td>\n",
       "      <td>0.896826</td>\n",
       "      <td>-0.062066</td>\n",
       "      <td>0.256503</td>\n",
       "      <td>0.000026</td>\n",
       "      <td>False</td>\n",
       "    </tr>\n",
       "    <tr>\n",
       "      <th>46</th>\n",
       "      <td>0.742599</td>\n",
       "      <td>0.213276</td>\n",
       "      <td>dummy_constant</td>\n",
       "      <td>0.742599</td>\n",
       "      <td>0.213276</td>\n",
       "      <td>-0.379523</td>\n",
       "      <td>0.141065</td>\n",
       "      <td>0.000025</td>\n",
       "      <td>False</td>\n",
       "    </tr>\n",
       "    <tr>\n",
       "      <th>47</th>\n",
       "      <td>0.183627</td>\n",
       "      <td>0.718496</td>\n",
       "      <td>dummy_constant</td>\n",
       "      <td>0.183627</td>\n",
       "      <td>0.718496</td>\n",
       "      <td>-0.384942</td>\n",
       "      <td>0.147832</td>\n",
       "      <td>0.000026</td>\n",
       "      <td>False</td>\n",
       "    </tr>\n",
       "    <tr>\n",
       "      <th>48</th>\n",
       "      <td>1.117775</td>\n",
       "      <td>0.034368</td>\n",
       "      <td>dummy_constant</td>\n",
       "      <td>1.117775</td>\n",
       "      <td>0.034368</td>\n",
       "      <td>0.162453</td>\n",
       "      <td>0.598459</td>\n",
       "      <td>0.000026</td>\n",
       "      <td>False</td>\n",
       "    </tr>\n",
       "    <tr>\n",
       "      <th>49</th>\n",
       "      <td>1.005198</td>\n",
       "      <td>0.205523</td>\n",
       "      <td>dummy_constant</td>\n",
       "      <td>1.005198</td>\n",
       "      <td>0.205523</td>\n",
       "      <td>0.152299</td>\n",
       "      <td>0.341942</td>\n",
       "      <td>0.000026</td>\n",
       "      <td>False</td>\n",
       "    </tr>\n",
       "    <tr>\n",
       "      <th>50</th>\n",
       "      <td>0.472079</td>\n",
       "      <td>0.886252</td>\n",
       "      <td>dummy_constant</td>\n",
       "      <td>0.472079</td>\n",
       "      <td>0.886252</td>\n",
       "      <td>0.006008</td>\n",
       "      <td>0.149970</td>\n",
       "      <td>0.000025</td>\n",
       "      <td>False</td>\n",
       "    </tr>\n",
       "    <tr>\n",
       "      <th>51</th>\n",
       "      <td>0.979566</td>\n",
       "      <td>0.240697</td>\n",
       "      <td>dummy_constant</td>\n",
       "      <td>0.979566</td>\n",
       "      <td>0.240697</td>\n",
       "      <td>0.093091</td>\n",
       "      <td>0.297222</td>\n",
       "      <td>0.000024</td>\n",
       "      <td>False</td>\n",
       "    </tr>\n",
       "    <tr>\n",
       "      <th>52</th>\n",
       "      <td>2.141386</td>\n",
       "      <td>0.188222</td>\n",
       "      <td>dummy_constant</td>\n",
       "      <td>2.141386</td>\n",
       "      <td>0.188222</td>\n",
       "      <td>3.604235</td>\n",
       "      <td>2.791352</td>\n",
       "      <td>0.000025</td>\n",
       "      <td>False</td>\n",
       "    </tr>\n",
       "    <tr>\n",
       "      <th>53</th>\n",
       "      <td>0.065350</td>\n",
       "      <td>0.072751</td>\n",
       "      <td>dummy_constant</td>\n",
       "      <td>0.065350</td>\n",
       "      <td>0.072751</td>\n",
       "      <td>-1.055931</td>\n",
       "      <td>0.371462</td>\n",
       "      <td>0.000025</td>\n",
       "      <td>False</td>\n",
       "    </tr>\n",
       "    <tr>\n",
       "      <th>54</th>\n",
       "      <td>0.856690</td>\n",
       "      <td>0.153538</td>\n",
       "      <td>dummy_constant</td>\n",
       "      <td>0.856690</td>\n",
       "      <td>0.153538</td>\n",
       "      <td>-0.147098</td>\n",
       "      <td>0.247264</td>\n",
       "      <td>0.000026</td>\n",
       "      <td>False</td>\n",
       "    </tr>\n",
       "  </tbody>\n",
       "</table>\n",
       "</div>"
      ],
      "text/plain": [
       "          x1        x2               a        y1        y2         c1  \\\n",
       "0   0.684413  0.067785  dummy_constant  0.684413  0.067785  -0.526113   \n",
       "1   3.083257  1.751310  dummy_constant  3.083257  1.751310  11.613515   \n",
       "2   2.892731  1.766265  dummy_constant  2.892731  1.766265  10.566945   \n",
       "3   1.840502  1.859275  dummy_constant  1.840502  1.859275   5.744682   \n",
       "4   0.605364  2.800569  dummy_constant  0.605364  2.800569   7.306174   \n",
       "5   0.378170  0.091974  dummy_constant  0.378170  0.091974  -0.770495   \n",
       "6   0.025581  0.335341  dummy_constant  0.025581  0.335341  -0.921426   \n",
       "7   0.909796  0.000000  dummy_constant  0.909796  0.000000  -0.272271   \n",
       "8   0.313124  0.696669  dummy_constant  0.313124  0.696669  -0.505522   \n",
       "9   0.475430  0.947814  dummy_constant  0.475430  0.947814   0.084062   \n",
       "10  0.923893  0.562789  dummy_constant  0.923893  0.562789   0.248640   \n",
       "11  0.260370  1.010417  dummy_constant  0.260370  1.010417   0.151397   \n",
       "12  0.124509  1.524441  dummy_constant  0.124509  1.524441   1.313050   \n",
       "13  1.034162  0.235020  dummy_constant  1.034162  0.235020   0.215463   \n",
       "14  0.057414  0.999614  dummy_constant  0.057414  0.999614  -0.058219   \n",
       "15  0.761561  0.706885  dummy_constant  0.761561  0.706885  -0.003126   \n",
       "16  0.781076  0.290090  dummy_constant  0.781076  0.290090  -0.388670   \n",
       "17  0.085720  1.041770  dummy_constant  0.085720  1.041770   0.067192   \n",
       "18  1.026162  0.086314  dummy_constant  1.026162  0.086314   0.037841   \n",
       "19  1.186573  0.084877  dummy_constant  1.186573  0.084877   0.373632   \n",
       "20  0.943371  0.328569  dummy_constant  0.943371  0.328569  -0.062617   \n",
       "21  0.310896  0.963035  dummy_constant  0.310896  0.963035  -0.003916   \n",
       "22  0.327130  0.974243  dummy_constant  0.327130  0.974243   0.010803   \n",
       "23  0.657829  0.852562  dummy_constant  0.657829  0.852562   0.205846   \n",
       "24  0.379529  0.265950  dummy_constant  0.379529  0.265950  -0.691455   \n",
       "25  0.533460  0.871714  dummy_constant  0.533460  0.871714   0.124793   \n",
       "26  0.440393  0.915608  dummy_constant  0.440393  0.915608  -0.030662   \n",
       "27  0.885687  0.503323  dummy_constant  0.885687  0.503323   0.078038   \n",
       "28  0.358505  1.364551  dummy_constant  0.358505  1.364551   1.047125   \n",
       "29  0.275700  0.695504  dummy_constant  0.275700  0.695504  -0.537283   \n",
       "30  0.310500  0.629873  dummy_constant  0.310500  0.629873  -0.557059   \n",
       "31  0.960596  0.337303  dummy_constant  0.960596  0.337303  -0.027185   \n",
       "32  0.672273  0.665898  dummy_constant  0.672273  0.665898  -0.204339   \n",
       "33  0.632958  0.653394  dummy_constant  0.632958  0.653394  -0.269228   \n",
       "34  0.672152  0.778058  dummy_constant  0.672152  0.778058   0.017813   \n",
       "35  0.744765  0.589671  dummy_constant  0.744765  0.589671  -0.069931   \n",
       "36  0.314109  0.328837  dummy_constant  0.314109  0.328837  -0.886563   \n",
       "37  0.019525  1.016563  dummy_constant  0.019525  1.016563  -0.061534   \n",
       "38  0.443671  0.835416  dummy_constant  0.443671  0.835416  -0.109514   \n",
       "39  0.339248  0.423136  dummy_constant  0.339248  0.423136  -0.687698   \n",
       "40  0.123160  0.949739  dummy_constant  0.123160  0.949739  -0.035541   \n",
       "41  0.920395  0.435428  dummy_constant  0.920395  0.435428  -0.033873   \n",
       "42  1.043248  0.072495  dummy_constant  1.043248  0.072495   0.049161   \n",
       "43  0.501610  0.895264  dummy_constant  0.501610  0.895264   0.084320   \n",
       "44  0.051741  1.034721  dummy_constant  0.051741  1.034721   0.003613   \n",
       "45  0.185306  0.896826  dummy_constant  0.185306  0.896826  -0.062066   \n",
       "46  0.742599  0.213276  dummy_constant  0.742599  0.213276  -0.379523   \n",
       "47  0.183627  0.718496  dummy_constant  0.183627  0.718496  -0.384942   \n",
       "48  1.117775  0.034368  dummy_constant  1.117775  0.034368   0.162453   \n",
       "49  1.005198  0.205523  dummy_constant  1.005198  0.205523   0.152299   \n",
       "50  0.472079  0.886252  dummy_constant  0.472079  0.886252   0.006008   \n",
       "51  0.979566  0.240697  dummy_constant  0.979566  0.240697   0.093091   \n",
       "52  2.141386  0.188222  dummy_constant  2.141386  0.188222   3.604235   \n",
       "53  0.065350  0.072751  dummy_constant  0.065350  0.072751  -1.055931   \n",
       "54  0.856690  0.153538  dummy_constant  0.856690  0.153538  -0.147098   \n",
       "\n",
       "          c2  xopt_runtime  xopt_error  \n",
       "0   0.220818      0.000032       False  \n",
       "1   8.238994      0.000009       False  \n",
       "2   7.328589      0.000006       False  \n",
       "3   3.644575      0.000006       False  \n",
       "4   5.303719      0.000006       False  \n",
       "5   0.181328      0.000025       False  \n",
       "6   0.252186      0.000024       False  \n",
       "7   0.417933      0.000023       False  \n",
       "8   0.073601      0.000023       False  \n",
       "9   0.201141      0.000023       False  \n",
       "10  0.183628      0.000023       False  \n",
       "11  0.317948      0.000024       False  \n",
       "12  1.190473      0.000029       False  \n",
       "13  0.355543      0.000025       False  \n",
       "14  0.445496      0.000023       False  \n",
       "15  0.111216      0.000025       False  \n",
       "16  0.123066      0.000024       False  \n",
       "17  0.465143      0.000025       False  \n",
       "18  0.447982      0.000024       False  \n",
       "19  0.643709      0.000025       False  \n",
       "20  0.225966      0.000025       False  \n",
       "21  0.250162      0.000025       False  \n",
       "22  0.254791      0.000027       False  \n",
       "23  0.149210      0.000024       False  \n",
       "24  0.069292      0.000025       False  \n",
       "25  0.139291      0.000025       False  \n",
       "26  0.176283      0.000026       False  \n",
       "27  0.148765      0.000025       False  \n",
       "28  0.767469      0.000025       False  \n",
       "29  0.088532      0.000026       False  \n",
       "30  0.052777      0.000026       False  \n",
       "31  0.238619      0.000025       False  \n",
       "32  0.057200      0.000024       False  \n",
       "33  0.041208      0.000026       False  \n",
       "34  0.106952      0.000025       False  \n",
       "35  0.067951      0.000025       False  \n",
       "36  0.063852      0.000024       False  \n",
       "37  0.497694      0.000027       False  \n",
       "38  0.115677      0.000026       False  \n",
       "39  0.031749      0.000025       False  \n",
       "40  0.344273      0.000025       False  \n",
       "41  0.180901      0.000026       False  \n",
       "42  0.477879      0.000025       False  \n",
       "43  0.156236      0.000025       False  \n",
       "44  0.486862      0.000026       False  \n",
       "45  0.256503      0.000026       False  \n",
       "46  0.141065      0.000025       False  \n",
       "47  0.147832      0.000026       False  \n",
       "48  0.598459      0.000026       False  \n",
       "49  0.341942      0.000026       False  \n",
       "50  0.149970      0.000025       False  \n",
       "51  0.297222      0.000024       False  \n",
       "52  2.791352      0.000025       False  \n",
       "53  0.371462      0.000025       False  \n",
       "54  0.247264      0.000026       False  "
      ]
     },
     "execution_count": 3,
     "metadata": {},
     "output_type": "execute_result"
    }
   ],
   "source": [
    "X.generator.data"
   ]
  },
  {
   "cell_type": "markdown",
   "metadata": {
    "collapsed": false
   },
   "source": [
    "## plot results\n"
   ]
  },
  {
   "cell_type": "code",
   "execution_count": 4,
   "metadata": {
    "collapsed": false,
    "execution": {
     "iopub.execute_input": "2024-01-25T21:39:57.977353Z",
     "iopub.status.busy": "2024-01-25T21:39:57.977172Z",
     "iopub.status.idle": "2024-01-25T21:39:58.443609Z",
     "shell.execute_reply": "2024-01-25T21:39:58.443038Z"
    }
   },
   "outputs": [
    {
     "data": {
      "image/png": "[encoded data removed]",
      "text/plain": [
       "<Figure size 640x480 with 1 Axes>"
      ]
     },
     "metadata": {},
     "output_type": "display_data"
    }
   ],
   "source": [
    "import matplotlib.pyplot as plt\n",
    "import numpy as np\n",
    "import pandas as pd\n",
    "\n",
    "fig, ax = plt.subplots()\n",
    "\n",
    "theta = np.linspace(0, np.pi / 2)\n",
    "r = np.sqrt(1 + 0.1 * np.cos(16 * theta))\n",
    "x_1 = r * np.sin(theta)\n",
    "x_2_lower = r * np.cos(theta)\n",
    "x_2_upper = (0.5 - (x_1 - 0.5) ** 2) ** 0.5 + 0.5\n",
    "\n",
    "z = np.zeros_like(x_1)\n",
    "\n",
    "# ax2.plot(x_1, x_2_lower,'r')\n",
    "ax.fill_between(x_1, z, x_2_lower, fc=\"white\")\n",
    "circle = plt.Circle(\n",
    "    (0.5, 0.5), 0.5 ** 0.5, color=\"r\", alpha=0.25, zorder=0, label=\"Valid Region\"\n",
    ")\n",
    "ax.add_patch(circle)\n",
    "history = pd.concat(\n",
    "    [X.data, X.vocs.feasibility_data(X.data)], axis=1, ignore_index=False\n",
    ")\n",
    "\n",
    "\n",
    "ax.plot(*history[[\"x1\", \"x2\"]][history[\"feasible\"]].to_numpy().T, \".C1\")\n",
    "ax.plot(*history[[\"x1\", \"x2\"]][~history[\"feasible\"]].to_numpy().T, \".C2\")\n",
    "\n",
    "ax.set_xlim(0, 3.14)\n",
    "ax.set_ylim(0, 3.14)\n",
    "ax.set_xlabel(\"x1\")\n",
    "ax.set_ylabel(\"x2\")\n",
    "ax.set_aspect(\"equal\")"
   ]
  },
  {
   "cell_type": "markdown",
   "metadata": {
    "collapsed": false
   },
   "source": [
    "### Plot path through input space"
   ]
  },
  {
   "cell_type": "code",
   "execution_count": 5,
   "metadata": {
    "collapsed": false,
    "execution": {
     "iopub.execute_input": "2024-01-25T21:39:58.446464Z",
     "iopub.status.busy": "2024-01-25T21:39:58.445823Z",
     "iopub.status.idle": "2024-01-25T21:39:58.564929Z",
     "shell.execute_reply": "2024-01-25T21:39:58.564377Z"
    }
   },
   "outputs": [
    {
     "data": {
      "image/png": "[encoded data removed]",
      "text/plain": [
       "<Figure size 640x480 with 1 Axes>"
      ]
     },
     "metadata": {},
     "output_type": "display_data"
    }
   ],
   "source": [
    "ax = history.plot(\"x1\", \"x2\")\n",
    "ax.set_ylim(0, 3.14)\n",
    "ax.set_xlim(0, 3.14)\n",
    "ax.set_aspect(\"equal\")"
   ]
  },
  {
   "cell_type": "code",
   "execution_count": 6,
   "metadata": {
    "collapsed": false,
    "execution": {
     "iopub.execute_input": "2024-01-25T21:39:58.567318Z",
     "iopub.status.busy": "2024-01-25T21:39:58.566866Z",
     "iopub.status.idle": "2024-01-25T21:40:03.488311Z",
     "shell.execute_reply": "2024-01-25T21:40:03.487701Z"
    }
   },
   "outputs": [
    {
     "name": "stdout",
     "output_type": "stream",
     "text": [
      "[[0.81951274 0.61674698]]\n"
     ]
    },
    {
     "data": {
      "text/plain": [
       "[<matplotlib.lines.Line2D at 0x7fcb641bc4f0>]"
      ]
     },
     "execution_count": 6,
     "metadata": {},
     "output_type": "execute_result"
    },
    {
     "data": {
      "image/png": "[encoded data removed]",
      "text/plain": [
       "<Figure size 800x800 with 2 Axes>"
      ]
     },
     "metadata": {},
     "output_type": "display_data"
    },
    {
     "data": {
      "image/png": "[encoded data removed]",
      "text/plain": [
       "<Figure size 800x800 with 2 Axes>"
      ]
     },
     "metadata": {},
     "output_type": "display_data"
    }
   ],
   "source": [
    "# plot the acquisition function\n",
    "from xopt.generators.bayesian.objectives import feasibility\n",
    "\n",
    "bounds = X.generator.vocs.bounds\n",
    "model = X.generator.model\n",
    "\n",
    "# create mesh\n",
    "n = 100\n",
    "x = torch.linspace(*bounds.T[0], n)\n",
    "y = torch.linspace(*bounds.T[1], n)\n",
    "xx, yy = torch.meshgrid(x, y)\n",
    "pts = torch.hstack([ele.reshape(-1, 1) for ele in (xx, yy)]).double()\n",
    "\n",
    "xx, yy = xx.numpy(), yy.numpy()\n",
    "\n",
    "acq_func = X.generator.get_acquisition(model)\n",
    "with torch.no_grad():\n",
    "    acq_pts = pts.unsqueeze(1)\n",
    "    acq = acq_func(acq_pts)\n",
    "\n",
    "    fig, ax = plt.subplots(figsize=(8,8))\n",
    "    c = ax.pcolor(xx, yy, acq.reshape(n, n), cmap=\"Blues\")\n",
    "    fig.colorbar(c)\n",
    "    ax.set_title(\"Acquisition function\")\n",
    "\n",
    "    ax.plot(*history[[\"x1\", \"x2\"]][history[\"feasible\"]].to_numpy().T, \".C1\")\n",
    "    ax.plot(*history[[\"x1\", \"x2\"]][~history[\"feasible\"]].to_numpy().T, \".C2\")\n",
    "\n",
    "    ax.plot(*history[[\"x1\", \"x2\"]].to_numpy()[-1].T, \"+\")\n",
    "\n",
    "    feas = feasibility(pts.unsqueeze(1), model, X.vocs).flatten()\n",
    "\n",
    "    fig2, ax2 = plt.subplots(figsize=(8,8))\n",
    "    c = ax2.pcolor(xx, yy, feas.reshape(n, n))\n",
    "    fig2.colorbar(c)\n",
    "    ax2.set_title(\"Feasible Region\")\n",
    "\n",
    "candidate = pd.DataFrame(X.generator.generate(1), index=[0])\n",
    "print(candidate[[\"x1\", \"x2\"]].to_numpy())\n",
    "ax.plot(*candidate[[\"x1\", \"x2\"]].to_numpy()[0], \"o\")"
   ]
  }
 ],
 "metadata": {
  "interpreter": {
   "hash": "72034539424920dfb606fe3b820b3f27dca0cbf1c69938110810ec4641e275b1"
  },
  "kernelspec": {
   "display_name": "Python 3 (ipykernel)",
   "language": "python",
   "name": "python3"
  },
  "language_info": {
   "codemirror_mode": {
    "name": "ipython",
    "version": 3
   },
   "file_extension": ".py",
   "mimetype": "text/x-python",
   "name": "python",
   "nbconvert_exporter": "python",
   "pygments_lexer": "ipython3",
   "version": "3.9.18"
  }
 },
 "nbformat": 4,
 "nbformat_minor": 4
}
