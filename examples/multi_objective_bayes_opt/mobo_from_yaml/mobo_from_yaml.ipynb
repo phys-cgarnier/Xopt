{
 "cells": [
  {
   "cell_type": "markdown",
   "metadata": {},
   "source": [
    "\n",
    "# Multi-objective Bayesian Optimization\n",
    "\n",
    "\n",
    "TNK function\n",
    "$n=2$ variables:\n",
    "$x_i \\in [0, \\pi], i=1,2$\n",
    "\n",
    "Objectives:\n",
    "- $f_i(x) = x_i$\n",
    "\n",
    "Constraints:\n",
    "- $g_1(x) = -x_1^2 -x_2^2 + 1 + 0.1 \\cos\\left(16 \\arctan \\frac{x_1}{x_2}\\right) \\le 0$\n",
    "- $g_2(x) = (x_1 - 1/2)^2 + (x_2-1/2)^2 \\le 0.5$"
   ]
  },
  {
   "cell_type": "code",
   "execution_count": 1,
   "metadata": {
    "collapsed": false,
    "execution": {
     "iopub.execute_input": "2024-02-20T22:07:54.655852Z",
     "iopub.status.busy": "2024-02-20T22:07:54.655426Z",
     "iopub.status.idle": "2024-02-20T22:07:56.130436Z",
     "shell.execute_reply": "2024-02-20T22:07:56.129873Z"
    }
   },
   "outputs": [],
   "source": [
    "import os\n",
    "SMOKE_TEST = os.environ.get(\"SMOKE_TEST\")\n",
    "NUM_STEPS = 2 if SMOKE_TEST else 50\n",
    "\n",
    "# Ignore all warnings\n",
    "import warnings\n",
    "warnings.filterwarnings(\"ignore\")\n",
    "\n",
    "import torch\n",
    "from xopt import Xopt\n",
    "\n",
    "\n",
    "YAML = \"\"\"\n",
    "generator:\n",
    "    name: mobo\n",
    "    reference_point: {y1: 1.5, y2: 1.5}\n",
    "\n",
    "evaluator:\n",
    "    function: xopt.resources.test_functions.tnk.evaluate_TNK\n",
    "\n",
    "vocs:\n",
    "    variables:\n",
    "        x1: [0, 3.14159]\n",
    "        x2: [0, 3.14159]\n",
    "    objectives: {y1: MINIMIZE, y2: MINIMIZE}\n",
    "    constraints:\n",
    "        c1: [GREATER_THAN, 0]\n",
    "        c2: [LESS_THAN, 0.5]\n",
    "    constants: {a: dummy_constant}\n",
    "\n",
    "\"\"\""
   ]
  },
  {
   "cell_type": "code",
   "execution_count": 2,
   "metadata": {
    "collapsed": false,
    "execution": {
     "iopub.execute_input": "2024-02-20T22:07:56.133060Z",
     "iopub.status.busy": "2024-02-20T22:07:56.132833Z",
     "iopub.status.idle": "2024-02-20T22:08:54.948711Z",
     "shell.execute_reply": "2024-02-20T22:08:54.948094Z"
    }
   },
   "outputs": [
    {
     "name": "stdout",
     "output_type": "stream",
     "text": [
      "0\n"
     ]
    },
    {
     "name": "stdout",
     "output_type": "stream",
     "text": [
      "1\n"
     ]
    },
    {
     "name": "stdout",
     "output_type": "stream",
     "text": [
      "2\n"
     ]
    },
    {
     "name": "stdout",
     "output_type": "stream",
     "text": [
      "3\n"
     ]
    },
    {
     "name": "stdout",
     "output_type": "stream",
     "text": [
      "4\n"
     ]
    },
    {
     "name": "stdout",
     "output_type": "stream",
     "text": [
      "5\n"
     ]
    },
    {
     "name": "stdout",
     "output_type": "stream",
     "text": [
      "6\n"
     ]
    },
    {
     "name": "stdout",
     "output_type": "stream",
     "text": [
      "7\n"
     ]
    },
    {
     "name": "stdout",
     "output_type": "stream",
     "text": [
      "8\n"
     ]
    },
    {
     "name": "stdout",
     "output_type": "stream",
     "text": [
      "9\n"
     ]
    },
    {
     "name": "stdout",
     "output_type": "stream",
     "text": [
      "10\n"
     ]
    },
    {
     "name": "stdout",
     "output_type": "stream",
     "text": [
      "11\n"
     ]
    },
    {
     "name": "stdout",
     "output_type": "stream",
     "text": [
      "12\n"
     ]
    },
    {
     "name": "stdout",
     "output_type": "stream",
     "text": [
      "13\n"
     ]
    },
    {
     "name": "stdout",
     "output_type": "stream",
     "text": [
      "14\n"
     ]
    },
    {
     "name": "stdout",
     "output_type": "stream",
     "text": [
      "15\n"
     ]
    },
    {
     "name": "stdout",
     "output_type": "stream",
     "text": [
      "16\n"
     ]
    },
    {
     "name": "stdout",
     "output_type": "stream",
     "text": [
      "17\n"
     ]
    },
    {
     "name": "stdout",
     "output_type": "stream",
     "text": [
      "18\n"
     ]
    },
    {
     "name": "stdout",
     "output_type": "stream",
     "text": [
      "19\n"
     ]
    },
    {
     "name": "stdout",
     "output_type": "stream",
     "text": [
      "20\n"
     ]
    },
    {
     "name": "stdout",
     "output_type": "stream",
     "text": [
      "21\n"
     ]
    },
    {
     "name": "stdout",
     "output_type": "stream",
     "text": [
      "22\n"
     ]
    },
    {
     "name": "stdout",
     "output_type": "stream",
     "text": [
      "23\n"
     ]
    },
    {
     "name": "stdout",
     "output_type": "stream",
     "text": [
      "24\n"
     ]
    },
    {
     "name": "stdout",
     "output_type": "stream",
     "text": [
      "25\n"
     ]
    },
    {
     "name": "stdout",
     "output_type": "stream",
     "text": [
      "26\n"
     ]
    },
    {
     "name": "stdout",
     "output_type": "stream",
     "text": [
      "27\n"
     ]
    },
    {
     "name": "stdout",
     "output_type": "stream",
     "text": [
      "28\n"
     ]
    },
    {
     "name": "stdout",
     "output_type": "stream",
     "text": [
      "29\n"
     ]
    },
    {
     "name": "stdout",
     "output_type": "stream",
     "text": [
      "30\n"
     ]
    },
    {
     "name": "stdout",
     "output_type": "stream",
     "text": [
      "31\n"
     ]
    },
    {
     "name": "stdout",
     "output_type": "stream",
     "text": [
      "32\n"
     ]
    },
    {
     "name": "stdout",
     "output_type": "stream",
     "text": [
      "33\n"
     ]
    },
    {
     "name": "stdout",
     "output_type": "stream",
     "text": [
      "34\n"
     ]
    },
    {
     "name": "stdout",
     "output_type": "stream",
     "text": [
      "35\n"
     ]
    },
    {
     "name": "stdout",
     "output_type": "stream",
     "text": [
      "36\n"
     ]
    },
    {
     "name": "stdout",
     "output_type": "stream",
     "text": [
      "37\n"
     ]
    },
    {
     "name": "stdout",
     "output_type": "stream",
     "text": [
      "38\n"
     ]
    },
    {
     "name": "stdout",
     "output_type": "stream",
     "text": [
      "39\n"
     ]
    },
    {
     "name": "stdout",
     "output_type": "stream",
     "text": [
      "40\n"
     ]
    },
    {
     "name": "stdout",
     "output_type": "stream",
     "text": [
      "41\n"
     ]
    },
    {
     "name": "stdout",
     "output_type": "stream",
     "text": [
      "42\n"
     ]
    },
    {
     "name": "stdout",
     "output_type": "stream",
     "text": [
      "43\n"
     ]
    },
    {
     "name": "stdout",
     "output_type": "stream",
     "text": [
      "44\n"
     ]
    },
    {
     "name": "stdout",
     "output_type": "stream",
     "text": [
      "45\n"
     ]
    },
    {
     "name": "stdout",
     "output_type": "stream",
     "text": [
      "46\n"
     ]
    },
    {
     "name": "stdout",
     "output_type": "stream",
     "text": [
      "47\n"
     ]
    },
    {
     "name": "stdout",
     "output_type": "stream",
     "text": [
      "48\n"
     ]
    },
    {
     "name": "stdout",
     "output_type": "stream",
     "text": [
      "49\n"
     ]
    }
   ],
   "source": [
    "X = Xopt.from_yaml(YAML)\n",
    "\n",
    "# for testing purposes only\n",
    "if SMOKE_TEST:\n",
    "    X.generator.numerical_optimizer.n_restarts = 1\n",
    "    X.generator.n_monte_carlo_samples = 1\n",
    "\n",
    "X.random_evaluate(5)\n",
    "for i in range(NUM_STEPS):\n",
    "    print(i)\n",
    "    X.step()"
   ]
  },
  {
   "cell_type": "code",
   "execution_count": 3,
   "metadata": {
    "collapsed": false,
    "execution": {
     "iopub.execute_input": "2024-02-20T22:08:54.951901Z",
     "iopub.status.busy": "2024-02-20T22:08:54.951295Z",
     "iopub.status.idle": "2024-02-20T22:08:54.969800Z",
     "shell.execute_reply": "2024-02-20T22:08:54.969206Z"
    }
   },
   "outputs": [
    {
     "data": {
      "text/html": [
       "<div>\n",
       "<style scoped>\n",
       "    .dataframe tbody tr th:only-of-type {\n",
       "        vertical-align: middle;\n",
       "    }\n",
       "\n",
       "    .dataframe tbody tr th {\n",
       "        vertical-align: top;\n",
       "    }\n",
       "\n",
       "    .dataframe thead th {\n",
       "        text-align: right;\n",
       "    }\n",
       "</style>\n",
       "<table border=\"1\" class=\"dataframe\">\n",
       "  <thead>\n",
       "    <tr style=\"text-align: right;\">\n",
       "      <th></th>\n",
       "      <th>x1</th>\n",
       "      <th>x2</th>\n",
       "      <th>a</th>\n",
       "      <th>y1</th>\n",
       "      <th>y2</th>\n",
       "      <th>c1</th>\n",
       "      <th>c2</th>\n",
       "      <th>xopt_runtime</th>\n",
       "      <th>xopt_error</th>\n",
       "    </tr>\n",
       "  </thead>\n",
       "  <tbody>\n",
       "    <tr>\n",
       "      <th>0</th>\n",
       "      <td>0.049598</td>\n",
       "      <td>0.660459</td>\n",
       "      <td>dummy_constant</td>\n",
       "      <td>0.049598</td>\n",
       "      <td>0.660459</td>\n",
       "      <td>-0.597637</td>\n",
       "      <td>0.228609</td>\n",
       "      <td>0.000037</td>\n",
       "      <td>False</td>\n",
       "    </tr>\n",
       "    <tr>\n",
       "      <th>1</th>\n",
       "      <td>3.139625</td>\n",
       "      <td>2.740618</td>\n",
       "      <td>dummy_constant</td>\n",
       "      <td>3.139625</td>\n",
       "      <td>2.740618</td>\n",
       "      <td>16.321453</td>\n",
       "      <td>11.987988</td>\n",
       "      <td>0.000009</td>\n",
       "      <td>False</td>\n",
       "    </tr>\n",
       "    <tr>\n",
       "      <th>2</th>\n",
       "      <td>2.369056</td>\n",
       "      <td>2.048430</td>\n",
       "      <td>dummy_constant</td>\n",
       "      <td>2.369056</td>\n",
       "      <td>2.048430</td>\n",
       "      <td>8.768488</td>\n",
       "      <td>5.891004</td>\n",
       "      <td>0.000007</td>\n",
       "      <td>False</td>\n",
       "    </tr>\n",
       "    <tr>\n",
       "      <th>3</th>\n",
       "      <td>3.096286</td>\n",
       "      <td>1.068824</td>\n",
       "      <td>dummy_constant</td>\n",
       "      <td>3.096286</td>\n",
       "      <td>1.068824</td>\n",
       "      <td>9.672431</td>\n",
       "      <td>7.064264</td>\n",
       "      <td>0.000007</td>\n",
       "      <td>False</td>\n",
       "    </tr>\n",
       "    <tr>\n",
       "      <th>4</th>\n",
       "      <td>0.870739</td>\n",
       "      <td>0.565245</td>\n",
       "      <td>dummy_constant</td>\n",
       "      <td>0.870739</td>\n",
       "      <td>0.565245</td>\n",
       "      <td>0.175442</td>\n",
       "      <td>0.141704</td>\n",
       "      <td>0.000006</td>\n",
       "      <td>False</td>\n",
       "    </tr>\n",
       "    <tr>\n",
       "      <th>5</th>\n",
       "      <td>0.183395</td>\n",
       "      <td>0.391851</td>\n",
       "      <td>dummy_constant</td>\n",
       "      <td>0.183395</td>\n",
       "      <td>0.391851</td>\n",
       "      <td>-0.887957</td>\n",
       "      <td>0.111935</td>\n",
       "      <td>0.000025</td>\n",
       "      <td>False</td>\n",
       "    </tr>\n",
       "    <tr>\n",
       "      <th>6</th>\n",
       "      <td>0.000000</td>\n",
       "      <td>0.000000</td>\n",
       "      <td>dummy_constant</td>\n",
       "      <td>0.000000</td>\n",
       "      <td>0.000000</td>\n",
       "      <td>-1.100000</td>\n",
       "      <td>0.500000</td>\n",
       "      <td>0.000025</td>\n",
       "      <td>False</td>\n",
       "    </tr>\n",
       "    <tr>\n",
       "      <th>7</th>\n",
       "      <td>0.000000</td>\n",
       "      <td>0.958889</td>\n",
       "      <td>dummy_constant</td>\n",
       "      <td>0.000000</td>\n",
       "      <td>0.958889</td>\n",
       "      <td>-0.180531</td>\n",
       "      <td>0.460579</td>\n",
       "      <td>0.000025</td>\n",
       "      <td>False</td>\n",
       "    </tr>\n",
       "    <tr>\n",
       "      <th>8</th>\n",
       "      <td>0.662052</td>\n",
       "      <td>0.000000</td>\n",
       "      <td>dummy_constant</td>\n",
       "      <td>0.662052</td>\n",
       "      <td>0.000000</td>\n",
       "      <td>-0.661687</td>\n",
       "      <td>0.276261</td>\n",
       "      <td>0.000025</td>\n",
       "      <td>False</td>\n",
       "    </tr>\n",
       "    <tr>\n",
       "      <th>9</th>\n",
       "      <td>0.358572</td>\n",
       "      <td>0.897846</td>\n",
       "      <td>dummy_constant</td>\n",
       "      <td>0.358572</td>\n",
       "      <td>0.897846</td>\n",
       "      <td>-0.163230</td>\n",
       "      <td>0.178283</td>\n",
       "      <td>0.000026</td>\n",
       "      <td>False</td>\n",
       "    </tr>\n",
       "    <tr>\n",
       "      <th>10</th>\n",
       "      <td>0.300410</td>\n",
       "      <td>1.058080</td>\n",
       "      <td>dummy_constant</td>\n",
       "      <td>0.300410</td>\n",
       "      <td>1.058080</td>\n",
       "      <td>0.238006</td>\n",
       "      <td>0.351290</td>\n",
       "      <td>0.000026</td>\n",
       "      <td>False</td>\n",
       "    </tr>\n",
       "    <tr>\n",
       "      <th>11</th>\n",
       "      <td>0.954462</td>\n",
       "      <td>0.264916</td>\n",
       "      <td>dummy_constant</td>\n",
       "      <td>0.954462</td>\n",
       "      <td>0.264916</td>\n",
       "      <td>0.018320</td>\n",
       "      <td>0.261800</td>\n",
       "      <td>0.000026</td>\n",
       "      <td>False</td>\n",
       "    </tr>\n",
       "    <tr>\n",
       "      <th>12</th>\n",
       "      <td>0.114681</td>\n",
       "      <td>1.055246</td>\n",
       "      <td>dummy_constant</td>\n",
       "      <td>0.114681</td>\n",
       "      <td>1.055246</td>\n",
       "      <td>0.142752</td>\n",
       "      <td>0.456769</td>\n",
       "      <td>0.000024</td>\n",
       "      <td>False</td>\n",
       "    </tr>\n",
       "    <tr>\n",
       "      <th>13</th>\n",
       "      <td>1.026732</td>\n",
       "      <td>0.125738</td>\n",
       "      <td>dummy_constant</td>\n",
       "      <td>1.026732</td>\n",
       "      <td>0.125738</td>\n",
       "      <td>0.106981</td>\n",
       "      <td>0.417519</td>\n",
       "      <td>0.000027</td>\n",
       "      <td>False</td>\n",
       "    </tr>\n",
       "    <tr>\n",
       "      <th>14</th>\n",
       "      <td>0.630782</td>\n",
       "      <td>0.847876</td>\n",
       "      <td>dummy_constant</td>\n",
       "      <td>0.630782</td>\n",
       "      <td>0.847876</td>\n",
       "      <td>0.185789</td>\n",
       "      <td>0.138121</td>\n",
       "      <td>0.000026</td>\n",
       "      <td>False</td>\n",
       "    </tr>\n",
       "    <tr>\n",
       "      <th>15</th>\n",
       "      <td>1.011285</td>\n",
       "      <td>0.051135</td>\n",
       "      <td>dummy_constant</td>\n",
       "      <td>1.011285</td>\n",
       "      <td>0.051135</td>\n",
       "      <td>-0.043758</td>\n",
       "      <td>0.462892</td>\n",
       "      <td>0.000026</td>\n",
       "      <td>False</td>\n",
       "    </tr>\n",
       "    <tr>\n",
       "      <th>16</th>\n",
       "      <td>0.421980</td>\n",
       "      <td>0.944450</td>\n",
       "      <td>dummy_constant</td>\n",
       "      <td>0.421980</td>\n",
       "      <td>0.944450</td>\n",
       "      <td>-0.020429</td>\n",
       "      <td>0.203623</td>\n",
       "      <td>0.000026</td>\n",
       "      <td>False</td>\n",
       "    </tr>\n",
       "    <tr>\n",
       "      <th>17</th>\n",
       "      <td>0.739797</td>\n",
       "      <td>0.667145</td>\n",
       "      <td>dummy_constant</td>\n",
       "      <td>0.739797</td>\n",
       "      <td>0.667145</td>\n",
       "      <td>-0.075439</td>\n",
       "      <td>0.085440</td>\n",
       "      <td>0.000026</td>\n",
       "      <td>False</td>\n",
       "    </tr>\n",
       "    <tr>\n",
       "      <th>18</th>\n",
       "      <td>0.859782</td>\n",
       "      <td>0.494610</td>\n",
       "      <td>dummy_constant</td>\n",
       "      <td>0.859782</td>\n",
       "      <td>0.494610</td>\n",
       "      <td>0.031690</td>\n",
       "      <td>0.129472</td>\n",
       "      <td>0.000025</td>\n",
       "      <td>False</td>\n",
       "    </tr>\n",
       "    <tr>\n",
       "      <th>19</th>\n",
       "      <td>0.052480</td>\n",
       "      <td>1.029955</td>\n",
       "      <td>dummy_constant</td>\n",
       "      <td>0.052480</td>\n",
       "      <td>1.029955</td>\n",
       "      <td>-0.005058</td>\n",
       "      <td>0.481126</td>\n",
       "      <td>0.000026</td>\n",
       "      <td>False</td>\n",
       "    </tr>\n",
       "    <tr>\n",
       "      <th>20</th>\n",
       "      <td>0.921481</td>\n",
       "      <td>0.378500</td>\n",
       "      <td>dummy_constant</td>\n",
       "      <td>0.921481</td>\n",
       "      <td>0.378500</td>\n",
       "      <td>-0.107498</td>\n",
       "      <td>0.192409</td>\n",
       "      <td>0.000026</td>\n",
       "      <td>False</td>\n",
       "    </tr>\n",
       "    <tr>\n",
       "      <th>21</th>\n",
       "      <td>0.140200</td>\n",
       "      <td>1.278888</td>\n",
       "      <td>dummy_constant</td>\n",
       "      <td>0.140200</td>\n",
       "      <td>1.278888</td>\n",
       "      <td>0.672746</td>\n",
       "      <td>0.736123</td>\n",
       "      <td>0.000026</td>\n",
       "      <td>False</td>\n",
       "    </tr>\n",
       "    <tr>\n",
       "      <th>22</th>\n",
       "      <td>0.275697</td>\n",
       "      <td>0.989704</td>\n",
       "      <td>dummy_constant</td>\n",
       "      <td>0.275697</td>\n",
       "      <td>0.989704</td>\n",
       "      <td>0.091270</td>\n",
       "      <td>0.290122</td>\n",
       "      <td>0.000026</td>\n",
       "      <td>False</td>\n",
       "    </tr>\n",
       "    <tr>\n",
       "      <th>23</th>\n",
       "      <td>0.143414</td>\n",
       "      <td>1.010727</td>\n",
       "      <td>dummy_constant</td>\n",
       "      <td>0.143414</td>\n",
       "      <td>1.010727</td>\n",
       "      <td>0.105360</td>\n",
       "      <td>0.387996</td>\n",
       "      <td>0.000026</td>\n",
       "      <td>False</td>\n",
       "    </tr>\n",
       "    <tr>\n",
       "      <th>24</th>\n",
       "      <td>1.078268</td>\n",
       "      <td>0.108803</td>\n",
       "      <td>dummy_constant</td>\n",
       "      <td>1.078268</td>\n",
       "      <td>0.108803</td>\n",
       "      <td>0.178324</td>\n",
       "      <td>0.487429</td>\n",
       "      <td>0.000027</td>\n",
       "      <td>False</td>\n",
       "    </tr>\n",
       "    <tr>\n",
       "      <th>25</th>\n",
       "      <td>0.914624</td>\n",
       "      <td>0.447142</td>\n",
       "      <td>dummy_constant</td>\n",
       "      <td>0.914624</td>\n",
       "      <td>0.447142</td>\n",
       "      <td>-0.018210</td>\n",
       "      <td>0.174707</td>\n",
       "      <td>0.000027</td>\n",
       "      <td>False</td>\n",
       "    </tr>\n",
       "    <tr>\n",
       "      <th>26</th>\n",
       "      <td>1.295830</td>\n",
       "      <td>0.498651</td>\n",
       "      <td>dummy_constant</td>\n",
       "      <td>1.295830</td>\n",
       "      <td>0.498651</td>\n",
       "      <td>0.835945</td>\n",
       "      <td>0.633348</td>\n",
       "      <td>0.000026</td>\n",
       "      <td>False</td>\n",
       "    </tr>\n",
       "    <tr>\n",
       "      <th>27</th>\n",
       "      <td>0.644425</td>\n",
       "      <td>0.482590</td>\n",
       "      <td>dummy_constant</td>\n",
       "      <td>0.644425</td>\n",
       "      <td>0.482590</td>\n",
       "      <td>-0.286553</td>\n",
       "      <td>0.021162</td>\n",
       "      <td>0.000026</td>\n",
       "      <td>False</td>\n",
       "    </tr>\n",
       "    <tr>\n",
       "      <th>28</th>\n",
       "      <td>0.978984</td>\n",
       "      <td>0.309926</td>\n",
       "      <td>dummy_constant</td>\n",
       "      <td>0.978984</td>\n",
       "      <td>0.309926</td>\n",
       "      <td>0.035267</td>\n",
       "      <td>0.265553</td>\n",
       "      <td>0.000027</td>\n",
       "      <td>False</td>\n",
       "    </tr>\n",
       "    <tr>\n",
       "      <th>29</th>\n",
       "      <td>0.856177</td>\n",
       "      <td>0.293045</td>\n",
       "      <td>dummy_constant</td>\n",
       "      <td>0.856177</td>\n",
       "      <td>0.293045</td>\n",
       "      <td>-0.234542</td>\n",
       "      <td>0.169692</td>\n",
       "      <td>0.000025</td>\n",
       "      <td>False</td>\n",
       "    </tr>\n",
       "    <tr>\n",
       "      <th>30</th>\n",
       "      <td>0.839936</td>\n",
       "      <td>0.200919</td>\n",
       "      <td>dummy_constant</td>\n",
       "      <td>0.839936</td>\n",
       "      <td>0.200919</td>\n",
       "      <td>-0.172470</td>\n",
       "      <td>0.205006</td>\n",
       "      <td>0.000027</td>\n",
       "      <td>False</td>\n",
       "    </tr>\n",
       "    <tr>\n",
       "      <th>31</th>\n",
       "      <td>0.992365</td>\n",
       "      <td>0.193186</td>\n",
       "      <td>dummy_constant</td>\n",
       "      <td>0.992365</td>\n",
       "      <td>0.193186</td>\n",
       "      <td>0.121895</td>\n",
       "      <td>0.336558</td>\n",
       "      <td>0.000026</td>\n",
       "      <td>False</td>\n",
       "    </tr>\n",
       "    <tr>\n",
       "      <th>32</th>\n",
       "      <td>0.602019</td>\n",
       "      <td>0.401050</td>\n",
       "      <td>dummy_constant</td>\n",
       "      <td>0.602019</td>\n",
       "      <td>0.401050</td>\n",
       "      <td>-0.376757</td>\n",
       "      <td>0.020199</td>\n",
       "      <td>0.000025</td>\n",
       "      <td>False</td>\n",
       "    </tr>\n",
       "    <tr>\n",
       "      <th>33</th>\n",
       "      <td>0.105620</td>\n",
       "      <td>1.407454</td>\n",
       "      <td>dummy_constant</td>\n",
       "      <td>0.105620</td>\n",
       "      <td>1.407454</td>\n",
       "      <td>0.955702</td>\n",
       "      <td>0.979008</td>\n",
       "      <td>0.000026</td>\n",
       "      <td>False</td>\n",
       "    </tr>\n",
       "    <tr>\n",
       "      <th>34</th>\n",
       "      <td>0.725620</td>\n",
       "      <td>0.004992</td>\n",
       "      <td>dummy_constant</td>\n",
       "      <td>0.725620</td>\n",
       "      <td>0.004992</td>\n",
       "      <td>-0.572846</td>\n",
       "      <td>0.295937</td>\n",
       "      <td>0.000026</td>\n",
       "      <td>False</td>\n",
       "    </tr>\n",
       "    <tr>\n",
       "      <th>35</th>\n",
       "      <td>0.863202</td>\n",
       "      <td>0.025929</td>\n",
       "      <td>dummy_constant</td>\n",
       "      <td>0.863202</td>\n",
       "      <td>0.025929</td>\n",
       "      <td>-0.342888</td>\n",
       "      <td>0.356659</td>\n",
       "      <td>0.000026</td>\n",
       "      <td>False</td>\n",
       "    </tr>\n",
       "    <tr>\n",
       "      <th>36</th>\n",
       "      <td>0.555641</td>\n",
       "      <td>0.558788</td>\n",
       "      <td>dummy_constant</td>\n",
       "      <td>0.555641</td>\n",
       "      <td>0.558788</td>\n",
       "      <td>-0.478917</td>\n",
       "      <td>0.006552</td>\n",
       "      <td>0.000027</td>\n",
       "      <td>False</td>\n",
       "    </tr>\n",
       "    <tr>\n",
       "      <th>37</th>\n",
       "      <td>0.033691</td>\n",
       "      <td>0.802142</td>\n",
       "      <td>dummy_constant</td>\n",
       "      <td>0.033691</td>\n",
       "      <td>0.802142</td>\n",
       "      <td>-0.433714</td>\n",
       "      <td>0.308733</td>\n",
       "      <td>0.000025</td>\n",
       "      <td>False</td>\n",
       "    </tr>\n",
       "    <tr>\n",
       "      <th>38</th>\n",
       "      <td>1.358465</td>\n",
       "      <td>0.072940</td>\n",
       "      <td>dummy_constant</td>\n",
       "      <td>1.358465</td>\n",
       "      <td>0.072940</td>\n",
       "      <td>0.785372</td>\n",
       "      <td>0.919342</td>\n",
       "      <td>0.000025</td>\n",
       "      <td>False</td>\n",
       "    </tr>\n",
       "    <tr>\n",
       "      <th>39</th>\n",
       "      <td>1.028224</td>\n",
       "      <td>0.036606</td>\n",
       "      <td>dummy_constant</td>\n",
       "      <td>1.028224</td>\n",
       "      <td>0.036606</td>\n",
       "      <td>-0.025639</td>\n",
       "      <td>0.493754</td>\n",
       "      <td>0.000026</td>\n",
       "      <td>False</td>\n",
       "    </tr>\n",
       "    <tr>\n",
       "      <th>40</th>\n",
       "      <td>0.525589</td>\n",
       "      <td>0.879899</td>\n",
       "      <td>dummy_constant</td>\n",
       "      <td>0.525589</td>\n",
       "      <td>0.879899</td>\n",
       "      <td>0.119450</td>\n",
       "      <td>0.144978</td>\n",
       "      <td>0.000026</td>\n",
       "      <td>False</td>\n",
       "    </tr>\n",
       "    <tr>\n",
       "      <th>41</th>\n",
       "      <td>0.785290</td>\n",
       "      <td>0.648609</td>\n",
       "      <td>dummy_constant</td>\n",
       "      <td>0.785290</td>\n",
       "      <td>0.648609</td>\n",
       "      <td>0.032350</td>\n",
       "      <td>0.103475</td>\n",
       "      <td>0.000026</td>\n",
       "      <td>False</td>\n",
       "    </tr>\n",
       "    <tr>\n",
       "      <th>42</th>\n",
       "      <td>0.825573</td>\n",
       "      <td>0.583234</td>\n",
       "      <td>dummy_constant</td>\n",
       "      <td>0.825573</td>\n",
       "      <td>0.583234</td>\n",
       "      <td>0.113205</td>\n",
       "      <td>0.112926</td>\n",
       "      <td>0.000028</td>\n",
       "      <td>False</td>\n",
       "    </tr>\n",
       "    <tr>\n",
       "      <th>43</th>\n",
       "      <td>0.575327</td>\n",
       "      <td>0.158806</td>\n",
       "      <td>dummy_constant</td>\n",
       "      <td>0.575327</td>\n",
       "      <td>0.158806</td>\n",
       "      <td>-0.604538</td>\n",
       "      <td>0.122088</td>\n",
       "      <td>0.000026</td>\n",
       "      <td>False</td>\n",
       "    </tr>\n",
       "    <tr>\n",
       "      <th>44</th>\n",
       "      <td>0.956942</td>\n",
       "      <td>0.291637</td>\n",
       "      <td>dummy_constant</td>\n",
       "      <td>0.956942</td>\n",
       "      <td>0.291637</td>\n",
       "      <td>-0.001279</td>\n",
       "      <td>0.252211</td>\n",
       "      <td>0.000026</td>\n",
       "      <td>False</td>\n",
       "    </tr>\n",
       "    <tr>\n",
       "      <th>45</th>\n",
       "      <td>0.828491</td>\n",
       "      <td>0.273197</td>\n",
       "      <td>dummy_constant</td>\n",
       "      <td>0.828491</td>\n",
       "      <td>0.273197</td>\n",
       "      <td>-0.276429</td>\n",
       "      <td>0.159346</td>\n",
       "      <td>0.000027</td>\n",
       "      <td>False</td>\n",
       "    </tr>\n",
       "    <tr>\n",
       "      <th>46</th>\n",
       "      <td>0.450991</td>\n",
       "      <td>0.906299</td>\n",
       "      <td>dummy_constant</td>\n",
       "      <td>0.450991</td>\n",
       "      <td>0.906299</td>\n",
       "      <td>-0.020172</td>\n",
       "      <td>0.167480</td>\n",
       "      <td>0.000026</td>\n",
       "      <td>False</td>\n",
       "    </tr>\n",
       "    <tr>\n",
       "      <th>47</th>\n",
       "      <td>0.379958</td>\n",
       "      <td>0.871773</td>\n",
       "      <td>dummy_constant</td>\n",
       "      <td>0.379958</td>\n",
       "      <td>0.871773</td>\n",
       "      <td>-0.191378</td>\n",
       "      <td>0.152625</td>\n",
       "      <td>0.000027</td>\n",
       "      <td>False</td>\n",
       "    </tr>\n",
       "    <tr>\n",
       "      <th>48</th>\n",
       "      <td>0.170016</td>\n",
       "      <td>0.531628</td>\n",
       "      <td>dummy_constant</td>\n",
       "      <td>0.170016</td>\n",
       "      <td>0.531628</td>\n",
       "      <td>-0.712236</td>\n",
       "      <td>0.109890</td>\n",
       "      <td>0.000026</td>\n",
       "      <td>False</td>\n",
       "    </tr>\n",
       "    <tr>\n",
       "      <th>49</th>\n",
       "      <td>0.917424</td>\n",
       "      <td>0.225578</td>\n",
       "      <td>dummy_constant</td>\n",
       "      <td>0.917424</td>\n",
       "      <td>0.225578</td>\n",
       "      <td>-0.032004</td>\n",
       "      <td>0.249550</td>\n",
       "      <td>0.000026</td>\n",
       "      <td>False</td>\n",
       "    </tr>\n",
       "    <tr>\n",
       "      <th>50</th>\n",
       "      <td>0.114209</td>\n",
       "      <td>0.827516</td>\n",
       "      <td>dummy_constant</td>\n",
       "      <td>0.114209</td>\n",
       "      <td>0.827516</td>\n",
       "      <td>-0.243780</td>\n",
       "      <td>0.256102</td>\n",
       "      <td>0.000027</td>\n",
       "      <td>False</td>\n",
       "    </tr>\n",
       "    <tr>\n",
       "      <th>51</th>\n",
       "      <td>0.327606</td>\n",
       "      <td>0.963709</td>\n",
       "      <td>dummy_constant</td>\n",
       "      <td>0.327606</td>\n",
       "      <td>0.963709</td>\n",
       "      <td>-0.014544</td>\n",
       "      <td>0.244746</td>\n",
       "      <td>0.000032</td>\n",
       "      <td>False</td>\n",
       "    </tr>\n",
       "    <tr>\n",
       "      <th>52</th>\n",
       "      <td>0.674039</td>\n",
       "      <td>0.762193</td>\n",
       "      <td>dummy_constant</td>\n",
       "      <td>0.674039</td>\n",
       "      <td>0.762193</td>\n",
       "      <td>-0.020366</td>\n",
       "      <td>0.099035</td>\n",
       "      <td>0.000027</td>\n",
       "      <td>False</td>\n",
       "    </tr>\n",
       "    <tr>\n",
       "      <th>53</th>\n",
       "      <td>0.796469</td>\n",
       "      <td>0.607665</td>\n",
       "      <td>dummy_constant</td>\n",
       "      <td>0.796469</td>\n",
       "      <td>0.607665</td>\n",
       "      <td>0.057395</td>\n",
       "      <td>0.099485</td>\n",
       "      <td>0.000026</td>\n",
       "      <td>False</td>\n",
       "    </tr>\n",
       "    <tr>\n",
       "      <th>54</th>\n",
       "      <td>0.522600</td>\n",
       "      <td>0.761057</td>\n",
       "      <td>dummy_constant</td>\n",
       "      <td>0.522600</td>\n",
       "      <td>0.761057</td>\n",
       "      <td>-0.049731</td>\n",
       "      <td>0.068662</td>\n",
       "      <td>0.000027</td>\n",
       "      <td>False</td>\n",
       "    </tr>\n",
       "  </tbody>\n",
       "</table>\n",
       "</div>"
      ],
      "text/plain": [
       "          x1        x2               a        y1        y2         c1  \\\n",
       "0   0.049598  0.660459  dummy_constant  0.049598  0.660459  -0.597637   \n",
       "1   3.139625  2.740618  dummy_constant  3.139625  2.740618  16.321453   \n",
       "2   2.369056  2.048430  dummy_constant  2.369056  2.048430   8.768488   \n",
       "3   3.096286  1.068824  dummy_constant  3.096286  1.068824   9.672431   \n",
       "4   0.870739  0.565245  dummy_constant  0.870739  0.565245   0.175442   \n",
       "5   0.183395  0.391851  dummy_constant  0.183395  0.391851  -0.887957   \n",
       "6   0.000000  0.000000  dummy_constant  0.000000  0.000000  -1.100000   \n",
       "7   0.000000  0.958889  dummy_constant  0.000000  0.958889  -0.180531   \n",
       "8   0.662052  0.000000  dummy_constant  0.662052  0.000000  -0.661687   \n",
       "9   0.358572  0.897846  dummy_constant  0.358572  0.897846  -0.163230   \n",
       "10  0.300410  1.058080  dummy_constant  0.300410  1.058080   0.238006   \n",
       "11  0.954462  0.264916  dummy_constant  0.954462  0.264916   0.018320   \n",
       "12  0.114681  1.055246  dummy_constant  0.114681  1.055246   0.142752   \n",
       "13  1.026732  0.125738  dummy_constant  1.026732  0.125738   0.106981   \n",
       "14  0.630782  0.847876  dummy_constant  0.630782  0.847876   0.185789   \n",
       "15  1.011285  0.051135  dummy_constant  1.011285  0.051135  -0.043758   \n",
       "16  0.421980  0.944450  dummy_constant  0.421980  0.944450  -0.020429   \n",
       "17  0.739797  0.667145  dummy_constant  0.739797  0.667145  -0.075439   \n",
       "18  0.859782  0.494610  dummy_constant  0.859782  0.494610   0.031690   \n",
       "19  0.052480  1.029955  dummy_constant  0.052480  1.029955  -0.005058   \n",
       "20  0.921481  0.378500  dummy_constant  0.921481  0.378500  -0.107498   \n",
       "21  0.140200  1.278888  dummy_constant  0.140200  1.278888   0.672746   \n",
       "22  0.275697  0.989704  dummy_constant  0.275697  0.989704   0.091270   \n",
       "23  0.143414  1.010727  dummy_constant  0.143414  1.010727   0.105360   \n",
       "24  1.078268  0.108803  dummy_constant  1.078268  0.108803   0.178324   \n",
       "25  0.914624  0.447142  dummy_constant  0.914624  0.447142  -0.018210   \n",
       "26  1.295830  0.498651  dummy_constant  1.295830  0.498651   0.835945   \n",
       "27  0.644425  0.482590  dummy_constant  0.644425  0.482590  -0.286553   \n",
       "28  0.978984  0.309926  dummy_constant  0.978984  0.309926   0.035267   \n",
       "29  0.856177  0.293045  dummy_constant  0.856177  0.293045  -0.234542   \n",
       "30  0.839936  0.200919  dummy_constant  0.839936  0.200919  -0.172470   \n",
       "31  0.992365  0.193186  dummy_constant  0.992365  0.193186   0.121895   \n",
       "32  0.602019  0.401050  dummy_constant  0.602019  0.401050  -0.376757   \n",
       "33  0.105620  1.407454  dummy_constant  0.105620  1.407454   0.955702   \n",
       "34  0.725620  0.004992  dummy_constant  0.725620  0.004992  -0.572846   \n",
       "35  0.863202  0.025929  dummy_constant  0.863202  0.025929  -0.342888   \n",
       "36  0.555641  0.558788  dummy_constant  0.555641  0.558788  -0.478917   \n",
       "37  0.033691  0.802142  dummy_constant  0.033691  0.802142  -0.433714   \n",
       "38  1.358465  0.072940  dummy_constant  1.358465  0.072940   0.785372   \n",
       "39  1.028224  0.036606  dummy_constant  1.028224  0.036606  -0.025639   \n",
       "40  0.525589  0.879899  dummy_constant  0.525589  0.879899   0.119450   \n",
       "41  0.785290  0.648609  dummy_constant  0.785290  0.648609   0.032350   \n",
       "42  0.825573  0.583234  dummy_constant  0.825573  0.583234   0.113205   \n",
       "43  0.575327  0.158806  dummy_constant  0.575327  0.158806  -0.604538   \n",
       "44  0.956942  0.291637  dummy_constant  0.956942  0.291637  -0.001279   \n",
       "45  0.828491  0.273197  dummy_constant  0.828491  0.273197  -0.276429   \n",
       "46  0.450991  0.906299  dummy_constant  0.450991  0.906299  -0.020172   \n",
       "47  0.379958  0.871773  dummy_constant  0.379958  0.871773  -0.191378   \n",
       "48  0.170016  0.531628  dummy_constant  0.170016  0.531628  -0.712236   \n",
       "49  0.917424  0.225578  dummy_constant  0.917424  0.225578  -0.032004   \n",
       "50  0.114209  0.827516  dummy_constant  0.114209  0.827516  -0.243780   \n",
       "51  0.327606  0.963709  dummy_constant  0.327606  0.963709  -0.014544   \n",
       "52  0.674039  0.762193  dummy_constant  0.674039  0.762193  -0.020366   \n",
       "53  0.796469  0.607665  dummy_constant  0.796469  0.607665   0.057395   \n",
       "54  0.522600  0.761057  dummy_constant  0.522600  0.761057  -0.049731   \n",
       "\n",
       "           c2  xopt_runtime  xopt_error  \n",
       "0    0.228609      0.000037       False  \n",
       "1   11.987988      0.000009       False  \n",
       "2    5.891004      0.000007       False  \n",
       "3    7.064264      0.000007       False  \n",
       "4    0.141704      0.000006       False  \n",
       "5    0.111935      0.000025       False  \n",
       "6    0.500000      0.000025       False  \n",
       "7    0.460579      0.000025       False  \n",
       "8    0.276261      0.000025       False  \n",
       "9    0.178283      0.000026       False  \n",
       "10   0.351290      0.000026       False  \n",
       "11   0.261800      0.000026       False  \n",
       "12   0.456769      0.000024       False  \n",
       "13   0.417519      0.000027       False  \n",
       "14   0.138121      0.000026       False  \n",
       "15   0.462892      0.000026       False  \n",
       "16   0.203623      0.000026       False  \n",
       "17   0.085440      0.000026       False  \n",
       "18   0.129472      0.000025       False  \n",
       "19   0.481126      0.000026       False  \n",
       "20   0.192409      0.000026       False  \n",
       "21   0.736123      0.000026       False  \n",
       "22   0.290122      0.000026       False  \n",
       "23   0.387996      0.000026       False  \n",
       "24   0.487429      0.000027       False  \n",
       "25   0.174707      0.000027       False  \n",
       "26   0.633348      0.000026       False  \n",
       "27   0.021162      0.000026       False  \n",
       "28   0.265553      0.000027       False  \n",
       "29   0.169692      0.000025       False  \n",
       "30   0.205006      0.000027       False  \n",
       "31   0.336558      0.000026       False  \n",
       "32   0.020199      0.000025       False  \n",
       "33   0.979008      0.000026       False  \n",
       "34   0.295937      0.000026       False  \n",
       "35   0.356659      0.000026       False  \n",
       "36   0.006552      0.000027       False  \n",
       "37   0.308733      0.000025       False  \n",
       "38   0.919342      0.000025       False  \n",
       "39   0.493754      0.000026       False  \n",
       "40   0.144978      0.000026       False  \n",
       "41   0.103475      0.000026       False  \n",
       "42   0.112926      0.000028       False  \n",
       "43   0.122088      0.000026       False  \n",
       "44   0.252211      0.000026       False  \n",
       "45   0.159346      0.000027       False  \n",
       "46   0.167480      0.000026       False  \n",
       "47   0.152625      0.000027       False  \n",
       "48   0.109890      0.000026       False  \n",
       "49   0.249550      0.000026       False  \n",
       "50   0.256102      0.000027       False  \n",
       "51   0.244746      0.000032       False  \n",
       "52   0.099035      0.000027       False  \n",
       "53   0.099485      0.000026       False  \n",
       "54   0.068662      0.000027       False  "
      ]
     },
     "execution_count": 3,
     "metadata": {},
     "output_type": "execute_result"
    }
   ],
   "source": [
    "X.generator.data"
   ]
  },
  {
   "cell_type": "markdown",
   "metadata": {
    "collapsed": false
   },
   "source": [
    "## plot results\n"
   ]
  },
  {
   "cell_type": "code",
   "execution_count": 4,
   "metadata": {
    "collapsed": false,
    "execution": {
     "iopub.execute_input": "2024-02-20T22:08:54.972218Z",
     "iopub.status.busy": "2024-02-20T22:08:54.971832Z",
     "iopub.status.idle": "2024-02-20T22:08:55.457595Z",
     "shell.execute_reply": "2024-02-20T22:08:55.456957Z"
    }
   },
   "outputs": [
    {
     "data": {
      "image/png": "[encoded data removed]",
      "text/plain": [
       "<Figure size 640x480 with 1 Axes>"
      ]
     },
     "metadata": {},
     "output_type": "display_data"
    }
   ],
   "source": [
    "import matplotlib.pyplot as plt\n",
    "import numpy as np\n",
    "import pandas as pd\n",
    "\n",
    "fig, ax = plt.subplots()\n",
    "\n",
    "theta = np.linspace(0, np.pi / 2)\n",
    "r = np.sqrt(1 + 0.1 * np.cos(16 * theta))\n",
    "x_1 = r * np.sin(theta)\n",
    "x_2_lower = r * np.cos(theta)\n",
    "x_2_upper = (0.5 - (x_1 - 0.5) ** 2) ** 0.5 + 0.5\n",
    "\n",
    "z = np.zeros_like(x_1)\n",
    "\n",
    "# ax2.plot(x_1, x_2_lower,'r')\n",
    "ax.fill_between(x_1, z, x_2_lower, fc=\"white\")\n",
    "circle = plt.Circle(\n",
    "    (0.5, 0.5), 0.5 ** 0.5, color=\"r\", alpha=0.25, zorder=0, label=\"Valid Region\"\n",
    ")\n",
    "ax.add_patch(circle)\n",
    "history = pd.concat(\n",
    "    [X.data, X.vocs.feasibility_data(X.data)], axis=1, ignore_index=False\n",
    ")\n",
    "\n",
    "\n",
    "ax.plot(*history[[\"x1\", \"x2\"]][history[\"feasible\"]].to_numpy().T, \".C1\")\n",
    "ax.plot(*history[[\"x1\", \"x2\"]][~history[\"feasible\"]].to_numpy().T, \".C2\")\n",
    "\n",
    "ax.set_xlim(0, 3.14)\n",
    "ax.set_ylim(0, 3.14)\n",
    "ax.set_xlabel(\"x1\")\n",
    "ax.set_ylabel(\"x2\")\n",
    "ax.set_aspect(\"equal\")"
   ]
  },
  {
   "cell_type": "markdown",
   "metadata": {
    "collapsed": false
   },
   "source": [
    "### Plot path through input space"
   ]
  },
  {
   "cell_type": "code",
   "execution_count": 5,
   "metadata": {
    "collapsed": false,
    "execution": {
     "iopub.execute_input": "2024-02-20T22:08:55.460213Z",
     "iopub.status.busy": "2024-02-20T22:08:55.459773Z",
     "iopub.status.idle": "2024-02-20T22:08:55.580007Z",
     "shell.execute_reply": "2024-02-20T22:08:55.579350Z"
    }
   },
   "outputs": [
    {
     "data": {
      "image/png": "[encoded data removed]",
      "text/plain": [
       "<Figure size 640x480 with 1 Axes>"
      ]
     },
     "metadata": {},
     "output_type": "display_data"
    }
   ],
   "source": [
    "ax = history.plot(\"x1\", \"x2\")\n",
    "ax.set_ylim(0, 3.14)\n",
    "ax.set_xlim(0, 3.14)\n",
    "ax.set_aspect(\"equal\")"
   ]
  },
  {
   "cell_type": "code",
   "execution_count": 6,
   "metadata": {
    "collapsed": false,
    "execution": {
     "iopub.execute_input": "2024-02-20T22:08:55.582410Z",
     "iopub.status.busy": "2024-02-20T22:08:55.582042Z",
     "iopub.status.idle": "2024-02-20T22:09:00.734529Z",
     "shell.execute_reply": "2024-02-20T22:09:00.733850Z"
    }
   },
   "outputs": [
    {
     "name": "stdout",
     "output_type": "stream",
     "text": [
      "[[0.09152694 0.67869999]]\n"
     ]
    },
    {
     "data": {
      "text/plain": [
       "[<matplotlib.lines.Line2D at 0x7ff848b920d0>]"
      ]
     },
     "execution_count": 6,
     "metadata": {},
     "output_type": "execute_result"
    },
    {
     "data": {
      "image/png": "[encoded data removed]",
      "text/plain": [
       "<Figure size 800x800 with 2 Axes>"
      ]
     },
     "metadata": {},
     "output_type": "display_data"
    },
    {
     "data": {
      "image/png": "[encoded data removed]",
      "text/plain": [
       "<Figure size 800x800 with 2 Axes>"
      ]
     },
     "metadata": {},
     "output_type": "display_data"
    }
   ],
   "source": [
    "# plot the acquisition function\n",
    "from xopt.generators.bayesian.objectives import feasibility\n",
    "\n",
    "bounds = X.generator.vocs.bounds\n",
    "model = X.generator.model\n",
    "\n",
    "# create mesh\n",
    "n = 100\n",
    "x = torch.linspace(*bounds.T[0], n)\n",
    "y = torch.linspace(*bounds.T[1], n)\n",
    "xx, yy = torch.meshgrid(x, y)\n",
    "pts = torch.hstack([ele.reshape(-1, 1) for ele in (xx, yy)]).double()\n",
    "\n",
    "xx, yy = xx.numpy(), yy.numpy()\n",
    "\n",
    "acq_func = X.generator.get_acquisition(model)\n",
    "with torch.no_grad():\n",
    "    acq_pts = pts.unsqueeze(1)\n",
    "    acq = acq_func(acq_pts)\n",
    "\n",
    "    fig, ax = plt.subplots(figsize=(8,8))\n",
    "    c = ax.pcolor(xx, yy, acq.reshape(n, n), cmap=\"Blues\")\n",
    "    fig.colorbar(c)\n",
    "    ax.set_title(\"Acquisition function\")\n",
    "\n",
    "    ax.plot(*history[[\"x1\", \"x2\"]][history[\"feasible\"]].to_numpy().T, \".C1\")\n",
    "    ax.plot(*history[[\"x1\", \"x2\"]][~history[\"feasible\"]].to_numpy().T, \".C2\")\n",
    "\n",
    "    ax.plot(*history[[\"x1\", \"x2\"]].to_numpy()[-1].T, \"+\")\n",
    "\n",
    "    feas = feasibility(pts.unsqueeze(1), model, X.vocs).flatten()\n",
    "\n",
    "    fig2, ax2 = plt.subplots(figsize=(8,8))\n",
    "    c = ax2.pcolor(xx, yy, feas.reshape(n, n))\n",
    "    fig2.colorbar(c)\n",
    "    ax2.set_title(\"Feasible Region\")\n",
    "\n",
    "candidate = pd.DataFrame(X.generator.generate(1), index=[0])\n",
    "print(candidate[[\"x1\", \"x2\"]].to_numpy())\n",
    "ax.plot(*candidate[[\"x1\", \"x2\"]].to_numpy()[0], \"o\")"
   ]
  }
 ],
 "metadata": {
  "interpreter": {
   "hash": "72034539424920dfb606fe3b820b3f27dca0cbf1c69938110810ec4641e275b1"
  },
  "kernelspec": {
   "display_name": "Python 3 (ipykernel)",
   "language": "python",
   "name": "python3"
  },
  "language_info": {
   "codemirror_mode": {
    "name": "ipython",
    "version": 3
   },
   "file_extension": ".py",
   "mimetype": "text/x-python",
   "name": "python",
   "nbconvert_exporter": "python",
   "pygments_lexer": "ipython3",
   "version": "3.9.18"
  }
 },
 "nbformat": 4,
 "nbformat_minor": 4
}
