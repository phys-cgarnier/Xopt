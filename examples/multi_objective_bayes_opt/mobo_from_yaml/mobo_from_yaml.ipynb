{
 "cells": [
  {
   "cell_type": "markdown",
   "metadata": {},
   "source": [
    "\n",
    "# Multi-objective Bayesian Optimization\n",
    "\n",
    "\n",
    "TNK function\n",
    "$n=2$ variables:\n",
    "$x_i \\in [0, \\pi], i=1,2$\n",
    "\n",
    "Objectives:\n",
    "- $f_i(x) = x_i$\n",
    "\n",
    "Constraints:\n",
    "- $g_1(x) = -x_1^2 -x_2^2 + 1 + 0.1 \\cos\\left(16 \\arctan \\frac{x_1}{x_2}\\right) \\le 0$\n",
    "- $g_2(x) = (x_1 - 1/2)^2 + (x_2-1/2)^2 \\le 0.5$"
   ]
  },
  {
   "cell_type": "code",
   "execution_count": 1,
   "metadata": {
    "collapsed": false,
    "execution": {
     "iopub.execute_input": "2024-08-20T19:37:26.363494Z",
     "iopub.status.busy": "2024-08-20T19:37:26.363030Z",
     "iopub.status.idle": "2024-08-20T19:37:27.658708Z",
     "shell.execute_reply": "2024-08-20T19:37:27.658079Z"
    }
   },
   "outputs": [],
   "source": [
    "import os\n",
    "SMOKE_TEST = os.environ.get(\"SMOKE_TEST\")\n",
    "NUM_STEPS = 2 if SMOKE_TEST else 50\n",
    "\n",
    "# Ignore all warnings\n",
    "import warnings\n",
    "warnings.filterwarnings(\"ignore\")\n",
    "\n",
    "import torch\n",
    "from xopt import Xopt\n",
    "\n",
    "\n",
    "YAML = \"\"\"\n",
    "generator:\n",
    "    name: mobo\n",
    "    reference_point: {y1: 1.5, y2: 1.5}\n",
    "\n",
    "evaluator:\n",
    "    function: xopt.resources.test_functions.tnk.evaluate_TNK\n",
    "\n",
    "vocs:\n",
    "    variables:\n",
    "        x1: [0, 3.14159]\n",
    "        x2: [0, 3.14159]\n",
    "    objectives: {y1: MINIMIZE, y2: MINIMIZE}\n",
    "    constraints:\n",
    "        c1: [GREATER_THAN, 0]\n",
    "        c2: [LESS_THAN, 0.5]\n",
    "    constants: {a: dummy_constant}\n",
    "\n",
    "\"\"\""
   ]
  },
  {
   "cell_type": "code",
   "execution_count": 2,
   "metadata": {
    "collapsed": false,
    "execution": {
     "iopub.execute_input": "2024-08-20T19:37:27.661601Z",
     "iopub.status.busy": "2024-08-20T19:37:27.661327Z",
     "iopub.status.idle": "2024-08-20T19:38:21.375594Z",
     "shell.execute_reply": "2024-08-20T19:38:21.374900Z"
    }
   },
   "outputs": [
    {
     "name": "stdout",
     "output_type": "stream",
     "text": [
      "0\n"
     ]
    },
    {
     "name": "stdout",
     "output_type": "stream",
     "text": [
      "1\n"
     ]
    },
    {
     "name": "stdout",
     "output_type": "stream",
     "text": [
      "2\n"
     ]
    },
    {
     "name": "stdout",
     "output_type": "stream",
     "text": [
      "3\n"
     ]
    },
    {
     "name": "stdout",
     "output_type": "stream",
     "text": [
      "4\n"
     ]
    },
    {
     "name": "stdout",
     "output_type": "stream",
     "text": [
      "5\n"
     ]
    },
    {
     "name": "stdout",
     "output_type": "stream",
     "text": [
      "6\n"
     ]
    },
    {
     "name": "stdout",
     "output_type": "stream",
     "text": [
      "7\n"
     ]
    },
    {
     "name": "stdout",
     "output_type": "stream",
     "text": [
      "8\n"
     ]
    },
    {
     "name": "stdout",
     "output_type": "stream",
     "text": [
      "9\n"
     ]
    },
    {
     "name": "stdout",
     "output_type": "stream",
     "text": [
      "10\n"
     ]
    },
    {
     "name": "stdout",
     "output_type": "stream",
     "text": [
      "11\n"
     ]
    },
    {
     "name": "stdout",
     "output_type": "stream",
     "text": [
      "12\n"
     ]
    },
    {
     "name": "stdout",
     "output_type": "stream",
     "text": [
      "13\n"
     ]
    },
    {
     "name": "stdout",
     "output_type": "stream",
     "text": [
      "14\n"
     ]
    },
    {
     "name": "stdout",
     "output_type": "stream",
     "text": [
      "15\n"
     ]
    },
    {
     "name": "stdout",
     "output_type": "stream",
     "text": [
      "16\n"
     ]
    },
    {
     "name": "stdout",
     "output_type": "stream",
     "text": [
      "17\n"
     ]
    },
    {
     "name": "stdout",
     "output_type": "stream",
     "text": [
      "18\n"
     ]
    },
    {
     "name": "stdout",
     "output_type": "stream",
     "text": [
      "19\n"
     ]
    },
    {
     "name": "stdout",
     "output_type": "stream",
     "text": [
      "20\n"
     ]
    },
    {
     "name": "stdout",
     "output_type": "stream",
     "text": [
      "21\n"
     ]
    },
    {
     "name": "stdout",
     "output_type": "stream",
     "text": [
      "22\n"
     ]
    },
    {
     "name": "stdout",
     "output_type": "stream",
     "text": [
      "23\n"
     ]
    },
    {
     "name": "stdout",
     "output_type": "stream",
     "text": [
      "24\n"
     ]
    },
    {
     "name": "stdout",
     "output_type": "stream",
     "text": [
      "25\n"
     ]
    },
    {
     "name": "stdout",
     "output_type": "stream",
     "text": [
      "26\n"
     ]
    },
    {
     "name": "stdout",
     "output_type": "stream",
     "text": [
      "27\n"
     ]
    },
    {
     "name": "stdout",
     "output_type": "stream",
     "text": [
      "28\n"
     ]
    },
    {
     "name": "stdout",
     "output_type": "stream",
     "text": [
      "29\n"
     ]
    },
    {
     "name": "stdout",
     "output_type": "stream",
     "text": [
      "30\n"
     ]
    },
    {
     "name": "stdout",
     "output_type": "stream",
     "text": [
      "31\n"
     ]
    },
    {
     "name": "stdout",
     "output_type": "stream",
     "text": [
      "32\n"
     ]
    },
    {
     "name": "stdout",
     "output_type": "stream",
     "text": [
      "33\n"
     ]
    },
    {
     "name": "stdout",
     "output_type": "stream",
     "text": [
      "34\n"
     ]
    },
    {
     "name": "stdout",
     "output_type": "stream",
     "text": [
      "35\n"
     ]
    },
    {
     "name": "stdout",
     "output_type": "stream",
     "text": [
      "36\n"
     ]
    },
    {
     "name": "stdout",
     "output_type": "stream",
     "text": [
      "37\n"
     ]
    },
    {
     "name": "stdout",
     "output_type": "stream",
     "text": [
      "38\n"
     ]
    },
    {
     "name": "stdout",
     "output_type": "stream",
     "text": [
      "39\n"
     ]
    },
    {
     "name": "stdout",
     "output_type": "stream",
     "text": [
      "40\n"
     ]
    },
    {
     "name": "stdout",
     "output_type": "stream",
     "text": [
      "41\n"
     ]
    },
    {
     "name": "stdout",
     "output_type": "stream",
     "text": [
      "42\n"
     ]
    },
    {
     "name": "stdout",
     "output_type": "stream",
     "text": [
      "43\n"
     ]
    },
    {
     "name": "stdout",
     "output_type": "stream",
     "text": [
      "44\n"
     ]
    },
    {
     "name": "stdout",
     "output_type": "stream",
     "text": [
      "45\n"
     ]
    },
    {
     "name": "stdout",
     "output_type": "stream",
     "text": [
      "46\n"
     ]
    },
    {
     "name": "stdout",
     "output_type": "stream",
     "text": [
      "47\n"
     ]
    },
    {
     "name": "stdout",
     "output_type": "stream",
     "text": [
      "48\n"
     ]
    },
    {
     "name": "stdout",
     "output_type": "stream",
     "text": [
      "49\n"
     ]
    }
   ],
   "source": [
    "X = Xopt.from_yaml(YAML)\n",
    "\n",
    "# for testing purposes only\n",
    "if SMOKE_TEST:\n",
    "    X.generator.numerical_optimizer.n_restarts = 1\n",
    "    X.generator.n_monte_carlo_samples = 1\n",
    "\n",
    "X.random_evaluate(5)\n",
    "for i in range(NUM_STEPS):\n",
    "    print(i)\n",
    "    X.step()"
   ]
  },
  {
   "cell_type": "code",
   "execution_count": 3,
   "metadata": {
    "collapsed": false,
    "execution": {
     "iopub.execute_input": "2024-08-20T19:38:21.378824Z",
     "iopub.status.busy": "2024-08-20T19:38:21.378257Z",
     "iopub.status.idle": "2024-08-20T19:38:21.397996Z",
     "shell.execute_reply": "2024-08-20T19:38:21.397489Z"
    }
   },
   "outputs": [
    {
     "data": {
      "text/html": [
       "<div>\n",
       "<style scoped>\n",
       "    .dataframe tbody tr th:only-of-type {\n",
       "        vertical-align: middle;\n",
       "    }\n",
       "\n",
       "    .dataframe tbody tr th {\n",
       "        vertical-align: top;\n",
       "    }\n",
       "\n",
       "    .dataframe thead th {\n",
       "        text-align: right;\n",
       "    }\n",
       "</style>\n",
       "<table border=\"1\" class=\"dataframe\">\n",
       "  <thead>\n",
       "    <tr style=\"text-align: right;\">\n",
       "      <th></th>\n",
       "      <th>x1</th>\n",
       "      <th>x2</th>\n",
       "      <th>a</th>\n",
       "      <th>y1</th>\n",
       "      <th>y2</th>\n",
       "      <th>c1</th>\n",
       "      <th>c2</th>\n",
       "      <th>xopt_runtime</th>\n",
       "      <th>xopt_error</th>\n",
       "    </tr>\n",
       "  </thead>\n",
       "  <tbody>\n",
       "    <tr>\n",
       "      <th>0</th>\n",
       "      <td>2.084782</td>\n",
       "      <td>2.955438</td>\n",
       "      <td>dummy_constant</td>\n",
       "      <td>2.084782</td>\n",
       "      <td>2.955438</td>\n",
       "      <td>12.172848</td>\n",
       "      <td>8.540708</td>\n",
       "      <td>0.000036</td>\n",
       "      <td>False</td>\n",
       "    </tr>\n",
       "    <tr>\n",
       "      <th>1</th>\n",
       "      <td>0.429786</td>\n",
       "      <td>2.387726</td>\n",
       "      <td>dummy_constant</td>\n",
       "      <td>0.429786</td>\n",
       "      <td>2.387726</td>\n",
       "      <td>4.981713</td>\n",
       "      <td>3.568439</td>\n",
       "      <td>0.000010</td>\n",
       "      <td>False</td>\n",
       "    </tr>\n",
       "    <tr>\n",
       "      <th>2</th>\n",
       "      <td>1.418254</td>\n",
       "      <td>1.339610</td>\n",
       "      <td>dummy_constant</td>\n",
       "      <td>1.418254</td>\n",
       "      <td>1.339610</td>\n",
       "      <td>2.716222</td>\n",
       "      <td>1.548134</td>\n",
       "      <td>0.000007</td>\n",
       "      <td>False</td>\n",
       "    </tr>\n",
       "    <tr>\n",
       "      <th>3</th>\n",
       "      <td>2.822131</td>\n",
       "      <td>2.637860</td>\n",
       "      <td>dummy_constant</td>\n",
       "      <td>2.822131</td>\n",
       "      <td>2.637860</td>\n",
       "      <td>13.836945</td>\n",
       "      <td>9.962736</td>\n",
       "      <td>0.000006</td>\n",
       "      <td>False</td>\n",
       "    </tr>\n",
       "    <tr>\n",
       "      <th>4</th>\n",
       "      <td>0.078169</td>\n",
       "      <td>2.790757</td>\n",
       "      <td>dummy_constant</td>\n",
       "      <td>0.078169</td>\n",
       "      <td>2.790757</td>\n",
       "      <td>6.704305</td>\n",
       "      <td>5.425509</td>\n",
       "      <td>0.000006</td>\n",
       "      <td>False</td>\n",
       "    </tr>\n",
       "    <tr>\n",
       "      <th>5</th>\n",
       "      <td>0.564380</td>\n",
       "      <td>1.133282</td>\n",
       "      <td>dummy_constant</td>\n",
       "      <td>0.564380</td>\n",
       "      <td>1.133282</td>\n",
       "      <td>0.558352</td>\n",
       "      <td>0.405191</td>\n",
       "      <td>0.000025</td>\n",
       "      <td>False</td>\n",
       "    </tr>\n",
       "    <tr>\n",
       "      <th>6</th>\n",
       "      <td>0.016517</td>\n",
       "      <td>0.807715</td>\n",
       "      <td>dummy_constant</td>\n",
       "      <td>0.016517</td>\n",
       "      <td>0.807715</td>\n",
       "      <td>-0.442019</td>\n",
       "      <td>0.328444</td>\n",
       "      <td>0.000025</td>\n",
       "      <td>False</td>\n",
       "    </tr>\n",
       "    <tr>\n",
       "      <th>7</th>\n",
       "      <td>0.000000</td>\n",
       "      <td>0.030014</td>\n",
       "      <td>dummy_constant</td>\n",
       "      <td>0.000000</td>\n",
       "      <td>0.030014</td>\n",
       "      <td>-1.099099</td>\n",
       "      <td>0.470887</td>\n",
       "      <td>0.000026</td>\n",
       "      <td>False</td>\n",
       "    </tr>\n",
       "    <tr>\n",
       "      <th>8</th>\n",
       "      <td>0.692176</td>\n",
       "      <td>0.000000</td>\n",
       "      <td>dummy_constant</td>\n",
       "      <td>0.692176</td>\n",
       "      <td>0.000000</td>\n",
       "      <td>-0.620892</td>\n",
       "      <td>0.286932</td>\n",
       "      <td>0.000026</td>\n",
       "      <td>False</td>\n",
       "    </tr>\n",
       "    <tr>\n",
       "      <th>9</th>\n",
       "      <td>0.345355</td>\n",
       "      <td>1.006964</td>\n",
       "      <td>dummy_constant</td>\n",
       "      <td>0.345355</td>\n",
       "      <td>1.006964</td>\n",
       "      <td>0.078952</td>\n",
       "      <td>0.280927</td>\n",
       "      <td>0.000024</td>\n",
       "      <td>False</td>\n",
       "    </tr>\n",
       "    <tr>\n",
       "      <th>10</th>\n",
       "      <td>0.981270</td>\n",
       "      <td>0.398066</td>\n",
       "      <td>dummy_constant</td>\n",
       "      <td>0.981270</td>\n",
       "      <td>0.398066</td>\n",
       "      <td>0.022032</td>\n",
       "      <td>0.242011</td>\n",
       "      <td>0.000026</td>\n",
       "      <td>False</td>\n",
       "    </tr>\n",
       "    <tr>\n",
       "      <th>11</th>\n",
       "      <td>1.062099</td>\n",
       "      <td>0.367524</td>\n",
       "      <td>dummy_constant</td>\n",
       "      <td>1.062099</td>\n",
       "      <td>0.367524</td>\n",
       "      <td>0.205202</td>\n",
       "      <td>0.333505</td>\n",
       "      <td>0.000028</td>\n",
       "      <td>False</td>\n",
       "    </tr>\n",
       "    <tr>\n",
       "      <th>12</th>\n",
       "      <td>0.150545</td>\n",
       "      <td>1.049299</td>\n",
       "      <td>dummy_constant</td>\n",
       "      <td>0.150545</td>\n",
       "      <td>1.049299</td>\n",
       "      <td>0.188814</td>\n",
       "      <td>0.423848</td>\n",
       "      <td>0.000027</td>\n",
       "      <td>False</td>\n",
       "    </tr>\n",
       "    <tr>\n",
       "      <th>13</th>\n",
       "      <td>1.017943</td>\n",
       "      <td>0.030533</td>\n",
       "      <td>dummy_constant</td>\n",
       "      <td>1.017943</td>\n",
       "      <td>0.030533</td>\n",
       "      <td>-0.051569</td>\n",
       "      <td>0.488664</td>\n",
       "      <td>0.000026</td>\n",
       "      <td>False</td>\n",
       "    </tr>\n",
       "    <tr>\n",
       "      <th>14</th>\n",
       "      <td>1.046598</td>\n",
       "      <td>0.116106</td>\n",
       "      <td>dummy_constant</td>\n",
       "      <td>1.046598</td>\n",
       "      <td>0.116106</td>\n",
       "      <td>0.128416</td>\n",
       "      <td>0.446144</td>\n",
       "      <td>0.000026</td>\n",
       "      <td>False</td>\n",
       "    </tr>\n",
       "    <tr>\n",
       "      <th>15</th>\n",
       "      <td>0.030838</td>\n",
       "      <td>1.000372</td>\n",
       "      <td>dummy_constant</td>\n",
       "      <td>0.030838</td>\n",
       "      <td>1.000372</td>\n",
       "      <td>-0.086394</td>\n",
       "      <td>0.470485</td>\n",
       "      <td>0.000027</td>\n",
       "      <td>False</td>\n",
       "    </tr>\n",
       "    <tr>\n",
       "      <th>16</th>\n",
       "      <td>0.740126</td>\n",
       "      <td>0.826690</td>\n",
       "      <td>dummy_constant</td>\n",
       "      <td>0.740126</td>\n",
       "      <td>0.826690</td>\n",
       "      <td>0.167725</td>\n",
       "      <td>0.164387</td>\n",
       "      <td>0.000026</td>\n",
       "      <td>False</td>\n",
       "    </tr>\n",
       "    <tr>\n",
       "      <th>17</th>\n",
       "      <td>0.542463</td>\n",
       "      <td>0.908249</td>\n",
       "      <td>dummy_constant</td>\n",
       "      <td>0.542463</td>\n",
       "      <td>0.908249</td>\n",
       "      <td>0.188110</td>\n",
       "      <td>0.168470</td>\n",
       "      <td>0.000030</td>\n",
       "      <td>False</td>\n",
       "    </tr>\n",
       "    <tr>\n",
       "      <th>18</th>\n",
       "      <td>0.077614</td>\n",
       "      <td>1.029227</td>\n",
       "      <td>dummy_constant</td>\n",
       "      <td>0.077614</td>\n",
       "      <td>1.029227</td>\n",
       "      <td>0.029494</td>\n",
       "      <td>0.458491</td>\n",
       "      <td>0.000026</td>\n",
       "      <td>False</td>\n",
       "    </tr>\n",
       "    <tr>\n",
       "      <th>19</th>\n",
       "      <td>0.816598</td>\n",
       "      <td>0.663587</td>\n",
       "      <td>dummy_constant</td>\n",
       "      <td>0.816598</td>\n",
       "      <td>0.663587</td>\n",
       "      <td>0.114905</td>\n",
       "      <td>0.126995</td>\n",
       "      <td>0.000027</td>\n",
       "      <td>False</td>\n",
       "    </tr>\n",
       "    <tr>\n",
       "      <th>20</th>\n",
       "      <td>0.328377</td>\n",
       "      <td>0.831875</td>\n",
       "      <td>dummy_constant</td>\n",
       "      <td>0.328377</td>\n",
       "      <td>0.831875</td>\n",
       "      <td>-0.296590</td>\n",
       "      <td>0.139596</td>\n",
       "      <td>0.000026</td>\n",
       "      <td>False</td>\n",
       "    </tr>\n",
       "    <tr>\n",
       "      <th>21</th>\n",
       "      <td>0.672930</td>\n",
       "      <td>0.778408</td>\n",
       "      <td>dummy_constant</td>\n",
       "      <td>0.672930</td>\n",
       "      <td>0.778408</td>\n",
       "      <td>0.018891</td>\n",
       "      <td>0.107416</td>\n",
       "      <td>0.000027</td>\n",
       "      <td>False</td>\n",
       "    </tr>\n",
       "    <tr>\n",
       "      <th>22</th>\n",
       "      <td>0.408588</td>\n",
       "      <td>0.946545</td>\n",
       "      <td>dummy_constant</td>\n",
       "      <td>0.408588</td>\n",
       "      <td>0.946545</td>\n",
       "      <td>-0.034318</td>\n",
       "      <td>0.207758</td>\n",
       "      <td>0.000028</td>\n",
       "      <td>False</td>\n",
       "    </tr>\n",
       "    <tr>\n",
       "      <th>23</th>\n",
       "      <td>0.645863</td>\n",
       "      <td>0.683350</td>\n",
       "      <td>dummy_constant</td>\n",
       "      <td>0.645863</td>\n",
       "      <td>0.683350</td>\n",
       "      <td>-0.205889</td>\n",
       "      <td>0.054893</td>\n",
       "      <td>0.000025</td>\n",
       "      <td>False</td>\n",
       "    </tr>\n",
       "    <tr>\n",
       "      <th>24</th>\n",
       "      <td>0.884636</td>\n",
       "      <td>0.142510</td>\n",
       "      <td>dummy_constant</td>\n",
       "      <td>0.884636</td>\n",
       "      <td>0.142510</td>\n",
       "      <td>-0.113797</td>\n",
       "      <td>0.275744</td>\n",
       "      <td>0.000026</td>\n",
       "      <td>False</td>\n",
       "    </tr>\n",
       "    <tr>\n",
       "      <th>25</th>\n",
       "      <td>1.059181</td>\n",
       "      <td>0.082778</td>\n",
       "      <td>dummy_constant</td>\n",
       "      <td>1.059181</td>\n",
       "      <td>0.082778</td>\n",
       "      <td>0.096986</td>\n",
       "      <td>0.486758</td>\n",
       "      <td>0.000026</td>\n",
       "      <td>False</td>\n",
       "    </tr>\n",
       "    <tr>\n",
       "      <th>26</th>\n",
       "      <td>0.084301</td>\n",
       "      <td>1.046754</td>\n",
       "      <td>dummy_constant</td>\n",
       "      <td>0.084301</td>\n",
       "      <td>1.046754</td>\n",
       "      <td>0.074685</td>\n",
       "      <td>0.471746</td>\n",
       "      <td>0.000027</td>\n",
       "      <td>False</td>\n",
       "    </tr>\n",
       "    <tr>\n",
       "      <th>27</th>\n",
       "      <td>0.599613</td>\n",
       "      <td>0.848062</td>\n",
       "      <td>dummy_constant</td>\n",
       "      <td>0.599613</td>\n",
       "      <td>0.848062</td>\n",
       "      <td>0.169965</td>\n",
       "      <td>0.131070</td>\n",
       "      <td>0.000027</td>\n",
       "      <td>False</td>\n",
       "    </tr>\n",
       "    <tr>\n",
       "      <th>28</th>\n",
       "      <td>1.461771</td>\n",
       "      <td>0.052115</td>\n",
       "      <td>dummy_constant</td>\n",
       "      <td>1.461771</td>\n",
       "      <td>0.052115</td>\n",
       "      <td>1.055310</td>\n",
       "      <td>1.125604</td>\n",
       "      <td>0.000027</td>\n",
       "      <td>False</td>\n",
       "    </tr>\n",
       "    <tr>\n",
       "      <th>29</th>\n",
       "      <td>0.878135</td>\n",
       "      <td>0.016445</td>\n",
       "      <td>dummy_constant</td>\n",
       "      <td>0.878135</td>\n",
       "      <td>0.016445</td>\n",
       "      <td>-0.324154</td>\n",
       "      <td>0.376811</td>\n",
       "      <td>0.000026</td>\n",
       "      <td>False</td>\n",
       "    </tr>\n",
       "    <tr>\n",
       "      <th>30</th>\n",
       "      <td>0.899434</td>\n",
       "      <td>0.522472</td>\n",
       "      <td>dummy_constant</td>\n",
       "      <td>0.899434</td>\n",
       "      <td>0.522472</td>\n",
       "      <td>0.135585</td>\n",
       "      <td>0.160052</td>\n",
       "      <td>0.000026</td>\n",
       "      <td>False</td>\n",
       "    </tr>\n",
       "    <tr>\n",
       "      <th>31</th>\n",
       "      <td>0.506124</td>\n",
       "      <td>0.889018</td>\n",
       "      <td>dummy_constant</td>\n",
       "      <td>0.506124</td>\n",
       "      <td>0.889018</td>\n",
       "      <td>0.087906</td>\n",
       "      <td>0.151373</td>\n",
       "      <td>0.000027</td>\n",
       "      <td>False</td>\n",
       "    </tr>\n",
       "    <tr>\n",
       "      <th>32</th>\n",
       "      <td>0.937560</td>\n",
       "      <td>0.410796</td>\n",
       "      <td>dummy_constant</td>\n",
       "      <td>0.937560</td>\n",
       "      <td>0.410796</td>\n",
       "      <td>-0.047020</td>\n",
       "      <td>0.199416</td>\n",
       "      <td>0.000027</td>\n",
       "      <td>False</td>\n",
       "    </tr>\n",
       "    <tr>\n",
       "      <th>33</th>\n",
       "      <td>0.364703</td>\n",
       "      <td>0.775646</td>\n",
       "      <td>dummy_constant</td>\n",
       "      <td>0.364703</td>\n",
       "      <td>0.775646</td>\n",
       "      <td>-0.338594</td>\n",
       "      <td>0.094286</td>\n",
       "      <td>0.000027</td>\n",
       "      <td>False</td>\n",
       "    </tr>\n",
       "    <tr>\n",
       "      <th>34</th>\n",
       "      <td>0.059194</td>\n",
       "      <td>1.251736</td>\n",
       "      <td>dummy_constant</td>\n",
       "      <td>0.059194</td>\n",
       "      <td>1.251736</td>\n",
       "      <td>0.497594</td>\n",
       "      <td>0.759417</td>\n",
       "      <td>0.000027</td>\n",
       "      <td>False</td>\n",
       "    </tr>\n",
       "    <tr>\n",
       "      <th>35</th>\n",
       "      <td>0.298626</td>\n",
       "      <td>0.864634</td>\n",
       "      <td>dummy_constant</td>\n",
       "      <td>0.298626</td>\n",
       "      <td>0.864634</td>\n",
       "      <td>-0.220389</td>\n",
       "      <td>0.173509</td>\n",
       "      <td>0.000028</td>\n",
       "      <td>False</td>\n",
       "    </tr>\n",
       "    <tr>\n",
       "      <th>36</th>\n",
       "      <td>0.843288</td>\n",
       "      <td>0.589588</td>\n",
       "      <td>dummy_constant</td>\n",
       "      <td>0.843288</td>\n",
       "      <td>0.589588</td>\n",
       "      <td>0.153099</td>\n",
       "      <td>0.125873</td>\n",
       "      <td>0.000027</td>\n",
       "      <td>False</td>\n",
       "    </tr>\n",
       "    <tr>\n",
       "      <th>37</th>\n",
       "      <td>1.462112</td>\n",
       "      <td>0.070379</td>\n",
       "      <td>dummy_constant</td>\n",
       "      <td>1.462112</td>\n",
       "      <td>0.070379</td>\n",
       "      <td>1.070903</td>\n",
       "      <td>1.110233</td>\n",
       "      <td>0.000030</td>\n",
       "      <td>False</td>\n",
       "    </tr>\n",
       "    <tr>\n",
       "      <th>38</th>\n",
       "      <td>0.279970</td>\n",
       "      <td>0.988779</td>\n",
       "      <td>dummy_constant</td>\n",
       "      <td>0.279970</td>\n",
       "      <td>0.988779</td>\n",
       "      <td>0.085388</td>\n",
       "      <td>0.287318</td>\n",
       "      <td>0.000027</td>\n",
       "      <td>False</td>\n",
       "    </tr>\n",
       "    <tr>\n",
       "      <th>39</th>\n",
       "      <td>0.186916</td>\n",
       "      <td>1.009995</td>\n",
       "      <td>dummy_constant</td>\n",
       "      <td>0.186916</td>\n",
       "      <td>1.009995</td>\n",
       "      <td>0.152752</td>\n",
       "      <td>0.358116</td>\n",
       "      <td>0.000026</td>\n",
       "      <td>False</td>\n",
       "    </tr>\n",
       "    <tr>\n",
       "      <th>40</th>\n",
       "      <td>0.582109</td>\n",
       "      <td>0.445630</td>\n",
       "      <td>dummy_constant</td>\n",
       "      <td>0.582109</td>\n",
       "      <td>0.445630</td>\n",
       "      <td>-0.411015</td>\n",
       "      <td>0.009698</td>\n",
       "      <td>0.000027</td>\n",
       "      <td>False</td>\n",
       "    </tr>\n",
       "    <tr>\n",
       "      <th>41</th>\n",
       "      <td>0.052252</td>\n",
       "      <td>1.096594</td>\n",
       "      <td>dummy_constant</td>\n",
       "      <td>0.052252</td>\n",
       "      <td>1.096594</td>\n",
       "      <td>0.132890</td>\n",
       "      <td>0.556403</td>\n",
       "      <td>0.000026</td>\n",
       "      <td>False</td>\n",
       "    </tr>\n",
       "    <tr>\n",
       "      <th>42</th>\n",
       "      <td>0.502518</td>\n",
       "      <td>0.785798</td>\n",
       "      <td>dummy_constant</td>\n",
       "      <td>0.502518</td>\n",
       "      <td>0.785798</td>\n",
       "      <td>-0.035119</td>\n",
       "      <td>0.081687</td>\n",
       "      <td>0.000026</td>\n",
       "      <td>False</td>\n",
       "    </tr>\n",
       "    <tr>\n",
       "      <th>43</th>\n",
       "      <td>0.115583</td>\n",
       "      <td>0.872167</td>\n",
       "      <td>dummy_constant</td>\n",
       "      <td>0.115583</td>\n",
       "      <td>0.872167</td>\n",
       "      <td>-0.174785</td>\n",
       "      <td>0.286285</td>\n",
       "      <td>0.000025</td>\n",
       "      <td>False</td>\n",
       "    </tr>\n",
       "    <tr>\n",
       "      <th>44</th>\n",
       "      <td>0.860749</td>\n",
       "      <td>0.265939</td>\n",
       "      <td>dummy_constant</td>\n",
       "      <td>0.860749</td>\n",
       "      <td>0.265939</td>\n",
       "      <td>-0.196594</td>\n",
       "      <td>0.184924</td>\n",
       "      <td>0.000025</td>\n",
       "      <td>False</td>\n",
       "    </tr>\n",
       "    <tr>\n",
       "      <th>45</th>\n",
       "      <td>0.193472</td>\n",
       "      <td>0.732663</td>\n",
       "      <td>dummy_constant</td>\n",
       "      <td>0.193472</td>\n",
       "      <td>0.732663</td>\n",
       "      <td>-0.370835</td>\n",
       "      <td>0.148092</td>\n",
       "      <td>0.000026</td>\n",
       "      <td>False</td>\n",
       "    </tr>\n",
       "    <tr>\n",
       "      <th>46</th>\n",
       "      <td>0.992845</td>\n",
       "      <td>0.257861</td>\n",
       "      <td>dummy_constant</td>\n",
       "      <td>0.992845</td>\n",
       "      <td>0.257861</td>\n",
       "      <td>0.112490</td>\n",
       "      <td>0.301528</td>\n",
       "      <td>0.000027</td>\n",
       "      <td>False</td>\n",
       "    </tr>\n",
       "    <tr>\n",
       "      <th>47</th>\n",
       "      <td>1.030755</td>\n",
       "      <td>0.054928</td>\n",
       "      <td>dummy_constant</td>\n",
       "      <td>1.030755</td>\n",
       "      <td>0.054928</td>\n",
       "      <td>-0.000389</td>\n",
       "      <td>0.479790</td>\n",
       "      <td>0.000027</td>\n",
       "      <td>False</td>\n",
       "    </tr>\n",
       "    <tr>\n",
       "      <th>48</th>\n",
       "      <td>0.212232</td>\n",
       "      <td>0.549946</td>\n",
       "      <td>dummy_constant</td>\n",
       "      <td>0.212232</td>\n",
       "      <td>0.549946</td>\n",
       "      <td>-0.744996</td>\n",
       "      <td>0.085305</td>\n",
       "      <td>0.000026</td>\n",
       "      <td>False</td>\n",
       "    </tr>\n",
       "    <tr>\n",
       "      <th>49</th>\n",
       "      <td>0.318650</td>\n",
       "      <td>0.957677</td>\n",
       "      <td>dummy_constant</td>\n",
       "      <td>0.318650</td>\n",
       "      <td>0.957677</td>\n",
       "      <td>-0.022728</td>\n",
       "      <td>0.242356</td>\n",
       "      <td>0.000026</td>\n",
       "      <td>False</td>\n",
       "    </tr>\n",
       "    <tr>\n",
       "      <th>50</th>\n",
       "      <td>0.263351</td>\n",
       "      <td>0.849895</td>\n",
       "      <td>dummy_constant</td>\n",
       "      <td>0.263351</td>\n",
       "      <td>0.849895</td>\n",
       "      <td>-0.217842</td>\n",
       "      <td>0.178429</td>\n",
       "      <td>0.000027</td>\n",
       "      <td>False</td>\n",
       "    </tr>\n",
       "    <tr>\n",
       "      <th>51</th>\n",
       "      <td>0.900260</td>\n",
       "      <td>0.038751</td>\n",
       "      <td>dummy_constant</td>\n",
       "      <td>0.900260</td>\n",
       "      <td>0.038751</td>\n",
       "      <td>-0.265264</td>\n",
       "      <td>0.372959</td>\n",
       "      <td>0.000027</td>\n",
       "      <td>False</td>\n",
       "    </tr>\n",
       "    <tr>\n",
       "      <th>52</th>\n",
       "      <td>0.157271</td>\n",
       "      <td>0.729068</td>\n",
       "      <td>dummy_constant</td>\n",
       "      <td>0.157271</td>\n",
       "      <td>0.729068</td>\n",
       "      <td>-0.347029</td>\n",
       "      <td>0.169935</td>\n",
       "      <td>0.000027</td>\n",
       "      <td>False</td>\n",
       "    </tr>\n",
       "    <tr>\n",
       "      <th>53</th>\n",
       "      <td>0.109215</td>\n",
       "      <td>0.968004</td>\n",
       "      <td>dummy_constant</td>\n",
       "      <td>0.109215</td>\n",
       "      <td>0.968004</td>\n",
       "      <td>-0.028553</td>\n",
       "      <td>0.371740</td>\n",
       "      <td>0.000027</td>\n",
       "      <td>False</td>\n",
       "    </tr>\n",
       "    <tr>\n",
       "      <th>54</th>\n",
       "      <td>0.737177</td>\n",
       "      <td>0.700102</td>\n",
       "      <td>dummy_constant</td>\n",
       "      <td>0.737177</td>\n",
       "      <td>0.700102</td>\n",
       "      <td>-0.058035</td>\n",
       "      <td>0.096294</td>\n",
       "      <td>0.000027</td>\n",
       "      <td>False</td>\n",
       "    </tr>\n",
       "  </tbody>\n",
       "</table>\n",
       "</div>"
      ],
      "text/plain": [
       "          x1        x2               a        y1        y2         c1  \\\n",
       "0   2.084782  2.955438  dummy_constant  2.084782  2.955438  12.172848   \n",
       "1   0.429786  2.387726  dummy_constant  0.429786  2.387726   4.981713   \n",
       "2   1.418254  1.339610  dummy_constant  1.418254  1.339610   2.716222   \n",
       "3   2.822131  2.637860  dummy_constant  2.822131  2.637860  13.836945   \n",
       "4   0.078169  2.790757  dummy_constant  0.078169  2.790757   6.704305   \n",
       "5   0.564380  1.133282  dummy_constant  0.564380  1.133282   0.558352   \n",
       "6   0.016517  0.807715  dummy_constant  0.016517  0.807715  -0.442019   \n",
       "7   0.000000  0.030014  dummy_constant  0.000000  0.030014  -1.099099   \n",
       "8   0.692176  0.000000  dummy_constant  0.692176  0.000000  -0.620892   \n",
       "9   0.345355  1.006964  dummy_constant  0.345355  1.006964   0.078952   \n",
       "10  0.981270  0.398066  dummy_constant  0.981270  0.398066   0.022032   \n",
       "11  1.062099  0.367524  dummy_constant  1.062099  0.367524   0.205202   \n",
       "12  0.150545  1.049299  dummy_constant  0.150545  1.049299   0.188814   \n",
       "13  1.017943  0.030533  dummy_constant  1.017943  0.030533  -0.051569   \n",
       "14  1.046598  0.116106  dummy_constant  1.046598  0.116106   0.128416   \n",
       "15  0.030838  1.000372  dummy_constant  0.030838  1.000372  -0.086394   \n",
       "16  0.740126  0.826690  dummy_constant  0.740126  0.826690   0.167725   \n",
       "17  0.542463  0.908249  dummy_constant  0.542463  0.908249   0.188110   \n",
       "18  0.077614  1.029227  dummy_constant  0.077614  1.029227   0.029494   \n",
       "19  0.816598  0.663587  dummy_constant  0.816598  0.663587   0.114905   \n",
       "20  0.328377  0.831875  dummy_constant  0.328377  0.831875  -0.296590   \n",
       "21  0.672930  0.778408  dummy_constant  0.672930  0.778408   0.018891   \n",
       "22  0.408588  0.946545  dummy_constant  0.408588  0.946545  -0.034318   \n",
       "23  0.645863  0.683350  dummy_constant  0.645863  0.683350  -0.205889   \n",
       "24  0.884636  0.142510  dummy_constant  0.884636  0.142510  -0.113797   \n",
       "25  1.059181  0.082778  dummy_constant  1.059181  0.082778   0.096986   \n",
       "26  0.084301  1.046754  dummy_constant  0.084301  1.046754   0.074685   \n",
       "27  0.599613  0.848062  dummy_constant  0.599613  0.848062   0.169965   \n",
       "28  1.461771  0.052115  dummy_constant  1.461771  0.052115   1.055310   \n",
       "29  0.878135  0.016445  dummy_constant  0.878135  0.016445  -0.324154   \n",
       "30  0.899434  0.522472  dummy_constant  0.899434  0.522472   0.135585   \n",
       "31  0.506124  0.889018  dummy_constant  0.506124  0.889018   0.087906   \n",
       "32  0.937560  0.410796  dummy_constant  0.937560  0.410796  -0.047020   \n",
       "33  0.364703  0.775646  dummy_constant  0.364703  0.775646  -0.338594   \n",
       "34  0.059194  1.251736  dummy_constant  0.059194  1.251736   0.497594   \n",
       "35  0.298626  0.864634  dummy_constant  0.298626  0.864634  -0.220389   \n",
       "36  0.843288  0.589588  dummy_constant  0.843288  0.589588   0.153099   \n",
       "37  1.462112  0.070379  dummy_constant  1.462112  0.070379   1.070903   \n",
       "38  0.279970  0.988779  dummy_constant  0.279970  0.988779   0.085388   \n",
       "39  0.186916  1.009995  dummy_constant  0.186916  1.009995   0.152752   \n",
       "40  0.582109  0.445630  dummy_constant  0.582109  0.445630  -0.411015   \n",
       "41  0.052252  1.096594  dummy_constant  0.052252  1.096594   0.132890   \n",
       "42  0.502518  0.785798  dummy_constant  0.502518  0.785798  -0.035119   \n",
       "43  0.115583  0.872167  dummy_constant  0.115583  0.872167  -0.174785   \n",
       "44  0.860749  0.265939  dummy_constant  0.860749  0.265939  -0.196594   \n",
       "45  0.193472  0.732663  dummy_constant  0.193472  0.732663  -0.370835   \n",
       "46  0.992845  0.257861  dummy_constant  0.992845  0.257861   0.112490   \n",
       "47  1.030755  0.054928  dummy_constant  1.030755  0.054928  -0.000389   \n",
       "48  0.212232  0.549946  dummy_constant  0.212232  0.549946  -0.744996   \n",
       "49  0.318650  0.957677  dummy_constant  0.318650  0.957677  -0.022728   \n",
       "50  0.263351  0.849895  dummy_constant  0.263351  0.849895  -0.217842   \n",
       "51  0.900260  0.038751  dummy_constant  0.900260  0.038751  -0.265264   \n",
       "52  0.157271  0.729068  dummy_constant  0.157271  0.729068  -0.347029   \n",
       "53  0.109215  0.968004  dummy_constant  0.109215  0.968004  -0.028553   \n",
       "54  0.737177  0.700102  dummy_constant  0.737177  0.700102  -0.058035   \n",
       "\n",
       "          c2  xopt_runtime  xopt_error  \n",
       "0   8.540708      0.000036       False  \n",
       "1   3.568439      0.000010       False  \n",
       "2   1.548134      0.000007       False  \n",
       "3   9.962736      0.000006       False  \n",
       "4   5.425509      0.000006       False  \n",
       "5   0.405191      0.000025       False  \n",
       "6   0.328444      0.000025       False  \n",
       "7   0.470887      0.000026       False  \n",
       "8   0.286932      0.000026       False  \n",
       "9   0.280927      0.000024       False  \n",
       "10  0.242011      0.000026       False  \n",
       "11  0.333505      0.000028       False  \n",
       "12  0.423848      0.000027       False  \n",
       "13  0.488664      0.000026       False  \n",
       "14  0.446144      0.000026       False  \n",
       "15  0.470485      0.000027       False  \n",
       "16  0.164387      0.000026       False  \n",
       "17  0.168470      0.000030       False  \n",
       "18  0.458491      0.000026       False  \n",
       "19  0.126995      0.000027       False  \n",
       "20  0.139596      0.000026       False  \n",
       "21  0.107416      0.000027       False  \n",
       "22  0.207758      0.000028       False  \n",
       "23  0.054893      0.000025       False  \n",
       "24  0.275744      0.000026       False  \n",
       "25  0.486758      0.000026       False  \n",
       "26  0.471746      0.000027       False  \n",
       "27  0.131070      0.000027       False  \n",
       "28  1.125604      0.000027       False  \n",
       "29  0.376811      0.000026       False  \n",
       "30  0.160052      0.000026       False  \n",
       "31  0.151373      0.000027       False  \n",
       "32  0.199416      0.000027       False  \n",
       "33  0.094286      0.000027       False  \n",
       "34  0.759417      0.000027       False  \n",
       "35  0.173509      0.000028       False  \n",
       "36  0.125873      0.000027       False  \n",
       "37  1.110233      0.000030       False  \n",
       "38  0.287318      0.000027       False  \n",
       "39  0.358116      0.000026       False  \n",
       "40  0.009698      0.000027       False  \n",
       "41  0.556403      0.000026       False  \n",
       "42  0.081687      0.000026       False  \n",
       "43  0.286285      0.000025       False  \n",
       "44  0.184924      0.000025       False  \n",
       "45  0.148092      0.000026       False  \n",
       "46  0.301528      0.000027       False  \n",
       "47  0.479790      0.000027       False  \n",
       "48  0.085305      0.000026       False  \n",
       "49  0.242356      0.000026       False  \n",
       "50  0.178429      0.000027       False  \n",
       "51  0.372959      0.000027       False  \n",
       "52  0.169935      0.000027       False  \n",
       "53  0.371740      0.000027       False  \n",
       "54  0.096294      0.000027       False  "
      ]
     },
     "execution_count": 3,
     "metadata": {},
     "output_type": "execute_result"
    }
   ],
   "source": [
    "X.generator.data"
   ]
  },
  {
   "cell_type": "markdown",
   "metadata": {
    "collapsed": false
   },
   "source": [
    "## plot results\n"
   ]
  },
  {
   "cell_type": "code",
   "execution_count": 4,
   "metadata": {
    "collapsed": false,
    "execution": {
     "iopub.execute_input": "2024-08-20T19:38:21.400503Z",
     "iopub.status.busy": "2024-08-20T19:38:21.400164Z",
     "iopub.status.idle": "2024-08-20T19:38:21.904211Z",
     "shell.execute_reply": "2024-08-20T19:38:21.903558Z"
    }
   },
   "outputs": [
    {
     "data": {
      "image/png": "[encoded data removed]",
      "text/plain": [
       "<Figure size 640x480 with 1 Axes>"
      ]
     },
     "metadata": {},
     "output_type": "display_data"
    }
   ],
   "source": [
    "import matplotlib.pyplot as plt\n",
    "import numpy as np\n",
    "import pandas as pd\n",
    "\n",
    "fig, ax = plt.subplots()\n",
    "\n",
    "theta = np.linspace(0, np.pi / 2)\n",
    "r = np.sqrt(1 + 0.1 * np.cos(16 * theta))\n",
    "x_1 = r * np.sin(theta)\n",
    "x_2_lower = r * np.cos(theta)\n",
    "x_2_upper = (0.5 - (x_1 - 0.5) ** 2) ** 0.5 + 0.5\n",
    "\n",
    "z = np.zeros_like(x_1)\n",
    "\n",
    "# ax2.plot(x_1, x_2_lower,'r')\n",
    "ax.fill_between(x_1, z, x_2_lower, fc=\"white\")\n",
    "circle = plt.Circle(\n",
    "    (0.5, 0.5), 0.5 ** 0.5, color=\"r\", alpha=0.25, zorder=0, label=\"Valid Region\"\n",
    ")\n",
    "ax.add_patch(circle)\n",
    "history = pd.concat(\n",
    "    [X.data, X.vocs.feasibility_data(X.data)], axis=1, ignore_index=False\n",
    ")\n",
    "\n",
    "\n",
    "ax.plot(*history[[\"x1\", \"x2\"]][history[\"feasible\"]].to_numpy().T, \".C1\")\n",
    "ax.plot(*history[[\"x1\", \"x2\"]][~history[\"feasible\"]].to_numpy().T, \".C2\")\n",
    "\n",
    "ax.set_xlim(0, 3.14)\n",
    "ax.set_ylim(0, 3.14)\n",
    "ax.set_xlabel(\"x1\")\n",
    "ax.set_ylabel(\"x2\")\n",
    "ax.set_aspect(\"equal\")"
   ]
  },
  {
   "cell_type": "markdown",
   "metadata": {
    "collapsed": false
   },
   "source": [
    "### Plot path through input space"
   ]
  },
  {
   "cell_type": "code",
   "execution_count": 5,
   "metadata": {
    "collapsed": false,
    "execution": {
     "iopub.execute_input": "2024-08-20T19:38:21.906657Z",
     "iopub.status.busy": "2024-08-20T19:38:21.906225Z",
     "iopub.status.idle": "2024-08-20T19:38:22.012392Z",
     "shell.execute_reply": "2024-08-20T19:38:22.011759Z"
    }
   },
   "outputs": [
    {
     "data": {
      "image/png": "[encoded data removed]",
      "text/plain": [
       "<Figure size 640x480 with 1 Axes>"
      ]
     },
     "metadata": {},
     "output_type": "display_data"
    }
   ],
   "source": [
    "ax = history.plot(\"x1\", \"x2\")\n",
    "ax.set_ylim(0, 3.14)\n",
    "ax.set_xlim(0, 3.14)\n",
    "ax.set_aspect(\"equal\")"
   ]
  },
  {
   "cell_type": "code",
   "execution_count": 6,
   "metadata": {
    "collapsed": false,
    "execution": {
     "iopub.execute_input": "2024-08-20T19:38:22.014800Z",
     "iopub.status.busy": "2024-08-20T19:38:22.014459Z",
     "iopub.status.idle": "2024-08-20T19:38:27.467227Z",
     "shell.execute_reply": "2024-08-20T19:38:27.466613Z"
    }
   },
   "outputs": [
    {
     "name": "stdout",
     "output_type": "stream",
     "text": [
      "[[0.43745541 0.914015  ]]\n"
     ]
    },
    {
     "data": {
      "text/plain": [
       "[<matplotlib.lines.Line2D at 0x7f181334a700>]"
      ]
     },
     "execution_count": 6,
     "metadata": {},
     "output_type": "execute_result"
    },
    {
     "data": {
      "image/png": "[encoded data removed]",
      "text/plain": [
       "<Figure size 800x800 with 2 Axes>"
      ]
     },
     "metadata": {},
     "output_type": "display_data"
    },
    {
     "data": {
      "image/png": "[encoded data removed]",
      "text/plain": [
       "<Figure size 800x800 with 2 Axes>"
      ]
     },
     "metadata": {},
     "output_type": "display_data"
    }
   ],
   "source": [
    "# plot the acquisition function\n",
    "from xopt.generators.bayesian.objectives import feasibility\n",
    "\n",
    "bounds = X.generator.vocs.bounds\n",
    "model = X.generator.model\n",
    "\n",
    "# create mesh\n",
    "n = 100\n",
    "x = torch.linspace(*bounds.T[0], n)\n",
    "y = torch.linspace(*bounds.T[1], n)\n",
    "xx, yy = torch.meshgrid(x, y)\n",
    "pts = torch.hstack([ele.reshape(-1, 1) for ele in (xx, yy)]).double()\n",
    "\n",
    "xx, yy = xx.numpy(), yy.numpy()\n",
    "\n",
    "acq_func = X.generator.get_acquisition(model)\n",
    "with torch.no_grad():\n",
    "    acq_pts = pts.unsqueeze(1)\n",
    "    acq = acq_func(acq_pts)\n",
    "\n",
    "    fig, ax = plt.subplots(figsize=(8,8))\n",
    "    c = ax.pcolor(xx, yy, acq.reshape(n, n), cmap=\"Blues\")\n",
    "    fig.colorbar(c)\n",
    "    ax.set_title(\"Acquisition function\")\n",
    "\n",
    "    ax.plot(*history[[\"x1\", \"x2\"]][history[\"feasible\"]].to_numpy().T, \".C1\")\n",
    "    ax.plot(*history[[\"x1\", \"x2\"]][~history[\"feasible\"]].to_numpy().T, \".C2\")\n",
    "\n",
    "    ax.plot(*history[[\"x1\", \"x2\"]].to_numpy()[-1].T, \"+\")\n",
    "\n",
    "    feas = feasibility(pts.unsqueeze(1), model, X.vocs).flatten()\n",
    "\n",
    "    fig2, ax2 = plt.subplots(figsize=(8,8))\n",
    "    c = ax2.pcolor(xx, yy, feas.reshape(n, n))\n",
    "    fig2.colorbar(c)\n",
    "    ax2.set_title(\"Feasible Region\")\n",
    "\n",
    "candidate = pd.DataFrame(X.generator.generate(1), index=[0])\n",
    "print(candidate[[\"x1\", \"x2\"]].to_numpy())\n",
    "ax.plot(*candidate[[\"x1\", \"x2\"]].to_numpy()[0], \"o\")"
   ]
  }
 ],
 "metadata": {
  "interpreter": {
   "hash": "72034539424920dfb606fe3b820b3f27dca0cbf1c69938110810ec4641e275b1"
  },
  "kernelspec": {
   "display_name": "Python 3 (ipykernel)",
   "language": "python",
   "name": "python3"
  },
  "language_info": {
   "codemirror_mode": {
    "name": "ipython",
    "version": 3
   },
   "file_extension": ".py",
   "mimetype": "text/x-python",
   "name": "python",
   "nbconvert_exporter": "python",
   "pygments_lexer": "ipython3",
   "version": "3.9.19"
  }
 },
 "nbformat": 4,
 "nbformat_minor": 4
}
