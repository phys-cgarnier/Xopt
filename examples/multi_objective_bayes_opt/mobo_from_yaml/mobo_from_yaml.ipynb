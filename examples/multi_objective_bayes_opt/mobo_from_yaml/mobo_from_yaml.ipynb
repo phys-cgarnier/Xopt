{
 "cells": [
  {
   "cell_type": "markdown",
   "metadata": {},
   "source": [
    "\n",
    "# Multi-objective Bayesian Optimization\n",
    "\n",
    "\n",
    "TNK function\n",
    "$n=2$ variables:\n",
    "$x_i \\in [0, \\pi], i=1,2$\n",
    "\n",
    "Objectives:\n",
    "- $f_i(x) = x_i$\n",
    "\n",
    "Constraints:\n",
    "- $g_1(x) = -x_1^2 -x_2^2 + 1 + 0.1 \\cos\\left(16 \\arctan \\frac{x_1}{x_2}\\right) \\le 0$\n",
    "- $g_2(x) = (x_1 - 1/2)^2 + (x_2-1/2)^2 \\le 0.5$"
   ]
  },
  {
   "cell_type": "code",
   "execution_count": 1,
   "metadata": {
    "collapsed": false,
    "execution": {
     "iopub.execute_input": "2024-01-11T17:37:18.480969Z",
     "iopub.status.busy": "2024-01-11T17:37:18.480789Z",
     "iopub.status.idle": "2024-01-11T17:37:20.015157Z",
     "shell.execute_reply": "2024-01-11T17:37:20.014553Z"
    }
   },
   "outputs": [],
   "source": [
    "import os\n",
    "SMOKE_TEST = os.environ.get(\"SMOKE_TEST\")\n",
    "NUM_STEPS = 2 if SMOKE_TEST else 50\n",
    "\n",
    "# Ignore all warnings\n",
    "import warnings\n",
    "warnings.filterwarnings(\"ignore\")\n",
    "\n",
    "import torch\n",
    "from xopt import Xopt\n",
    "\n",
    "\n",
    "YAML = \"\"\"\n",
    "generator:\n",
    "    name: mobo\n",
    "    reference_point: {y1: 1.5, y2: 1.5}\n",
    "\n",
    "evaluator:\n",
    "    function: xopt.resources.test_functions.tnk.evaluate_TNK\n",
    "\n",
    "vocs:\n",
    "    variables:\n",
    "        x1: [0, 3.14159]\n",
    "        x2: [0, 3.14159]\n",
    "    objectives: {y1: MINIMIZE, y2: MINIMIZE}\n",
    "    constraints:\n",
    "        c1: [GREATER_THAN, 0]\n",
    "        c2: [LESS_THAN, 0.5]\n",
    "    constants: {a: dummy_constant}\n",
    "\n",
    "\"\"\""
   ]
  },
  {
   "cell_type": "code",
   "execution_count": 2,
   "metadata": {
    "collapsed": false,
    "execution": {
     "iopub.execute_input": "2024-01-11T17:37:20.018233Z",
     "iopub.status.busy": "2024-01-11T17:37:20.017734Z",
     "iopub.status.idle": "2024-01-11T17:38:04.147128Z",
     "shell.execute_reply": "2024-01-11T17:38:04.146528Z"
    }
   },
   "outputs": [
    {
     "name": "stdout",
     "output_type": "stream",
     "text": [
      "0\n"
     ]
    },
    {
     "name": "stdout",
     "output_type": "stream",
     "text": [
      "1\n"
     ]
    },
    {
     "name": "stdout",
     "output_type": "stream",
     "text": [
      "2\n"
     ]
    },
    {
     "name": "stdout",
     "output_type": "stream",
     "text": [
      "3\n"
     ]
    },
    {
     "name": "stdout",
     "output_type": "stream",
     "text": [
      "4\n"
     ]
    },
    {
     "name": "stdout",
     "output_type": "stream",
     "text": [
      "5\n"
     ]
    },
    {
     "name": "stdout",
     "output_type": "stream",
     "text": [
      "6\n"
     ]
    },
    {
     "name": "stdout",
     "output_type": "stream",
     "text": [
      "7\n"
     ]
    },
    {
     "name": "stdout",
     "output_type": "stream",
     "text": [
      "8\n"
     ]
    },
    {
     "name": "stdout",
     "output_type": "stream",
     "text": [
      "9\n"
     ]
    },
    {
     "name": "stdout",
     "output_type": "stream",
     "text": [
      "10\n"
     ]
    },
    {
     "name": "stdout",
     "output_type": "stream",
     "text": [
      "11\n"
     ]
    },
    {
     "name": "stdout",
     "output_type": "stream",
     "text": [
      "12\n"
     ]
    },
    {
     "name": "stdout",
     "output_type": "stream",
     "text": [
      "13\n"
     ]
    },
    {
     "name": "stdout",
     "output_type": "stream",
     "text": [
      "14\n"
     ]
    },
    {
     "name": "stdout",
     "output_type": "stream",
     "text": [
      "15\n"
     ]
    },
    {
     "name": "stdout",
     "output_type": "stream",
     "text": [
      "16\n"
     ]
    },
    {
     "name": "stdout",
     "output_type": "stream",
     "text": [
      "17\n"
     ]
    },
    {
     "name": "stdout",
     "output_type": "stream",
     "text": [
      "18\n"
     ]
    },
    {
     "name": "stdout",
     "output_type": "stream",
     "text": [
      "19\n"
     ]
    },
    {
     "name": "stdout",
     "output_type": "stream",
     "text": [
      "20\n"
     ]
    },
    {
     "name": "stdout",
     "output_type": "stream",
     "text": [
      "21\n"
     ]
    },
    {
     "name": "stdout",
     "output_type": "stream",
     "text": [
      "22\n"
     ]
    },
    {
     "name": "stdout",
     "output_type": "stream",
     "text": [
      "23\n"
     ]
    },
    {
     "name": "stdout",
     "output_type": "stream",
     "text": [
      "24\n"
     ]
    },
    {
     "name": "stdout",
     "output_type": "stream",
     "text": [
      "25\n"
     ]
    },
    {
     "name": "stdout",
     "output_type": "stream",
     "text": [
      "26\n"
     ]
    },
    {
     "name": "stdout",
     "output_type": "stream",
     "text": [
      "27\n"
     ]
    },
    {
     "name": "stdout",
     "output_type": "stream",
     "text": [
      "28\n"
     ]
    },
    {
     "name": "stdout",
     "output_type": "stream",
     "text": [
      "29\n"
     ]
    },
    {
     "name": "stdout",
     "output_type": "stream",
     "text": [
      "30\n"
     ]
    },
    {
     "name": "stdout",
     "output_type": "stream",
     "text": [
      "31\n"
     ]
    },
    {
     "name": "stdout",
     "output_type": "stream",
     "text": [
      "32\n"
     ]
    },
    {
     "name": "stdout",
     "output_type": "stream",
     "text": [
      "33\n"
     ]
    },
    {
     "name": "stdout",
     "output_type": "stream",
     "text": [
      "34\n"
     ]
    },
    {
     "name": "stdout",
     "output_type": "stream",
     "text": [
      "35\n"
     ]
    },
    {
     "name": "stdout",
     "output_type": "stream",
     "text": [
      "36\n"
     ]
    },
    {
     "name": "stdout",
     "output_type": "stream",
     "text": [
      "37\n"
     ]
    },
    {
     "name": "stdout",
     "output_type": "stream",
     "text": [
      "38\n"
     ]
    },
    {
     "name": "stdout",
     "output_type": "stream",
     "text": [
      "39\n"
     ]
    },
    {
     "name": "stdout",
     "output_type": "stream",
     "text": [
      "40\n"
     ]
    },
    {
     "name": "stdout",
     "output_type": "stream",
     "text": [
      "41\n"
     ]
    },
    {
     "name": "stdout",
     "output_type": "stream",
     "text": [
      "42\n"
     ]
    },
    {
     "name": "stdout",
     "output_type": "stream",
     "text": [
      "43\n"
     ]
    },
    {
     "name": "stdout",
     "output_type": "stream",
     "text": [
      "44\n"
     ]
    },
    {
     "name": "stdout",
     "output_type": "stream",
     "text": [
      "45\n"
     ]
    },
    {
     "name": "stdout",
     "output_type": "stream",
     "text": [
      "46\n"
     ]
    },
    {
     "name": "stdout",
     "output_type": "stream",
     "text": [
      "47\n"
     ]
    },
    {
     "name": "stdout",
     "output_type": "stream",
     "text": [
      "48\n"
     ]
    },
    {
     "name": "stdout",
     "output_type": "stream",
     "text": [
      "49\n"
     ]
    }
   ],
   "source": [
    "X = Xopt.from_yaml(YAML)\n",
    "\n",
    "# for testing purposes only\n",
    "if SMOKE_TEST:\n",
    "    X.generator.numerical_optimizer.n_restarts = 1\n",
    "    X.generator.n_monte_carlo_samples = 1\n",
    "\n",
    "X.random_evaluate(5)\n",
    "for i in range(NUM_STEPS):\n",
    "    print(i)\n",
    "    X.step()"
   ]
  },
  {
   "cell_type": "code",
   "execution_count": 3,
   "metadata": {
    "collapsed": false,
    "execution": {
     "iopub.execute_input": "2024-01-11T17:38:04.150402Z",
     "iopub.status.busy": "2024-01-11T17:38:04.149901Z",
     "iopub.status.idle": "2024-01-11T17:38:04.172756Z",
     "shell.execute_reply": "2024-01-11T17:38:04.172151Z"
    }
   },
   "outputs": [
    {
     "data": {
      "text/html": [
       "<div>\n",
       "<style scoped>\n",
       "    .dataframe tbody tr th:only-of-type {\n",
       "        vertical-align: middle;\n",
       "    }\n",
       "\n",
       "    .dataframe tbody tr th {\n",
       "        vertical-align: top;\n",
       "    }\n",
       "\n",
       "    .dataframe thead th {\n",
       "        text-align: right;\n",
       "    }\n",
       "</style>\n",
       "<table border=\"1\" class=\"dataframe\">\n",
       "  <thead>\n",
       "    <tr style=\"text-align: right;\">\n",
       "      <th></th>\n",
       "      <th>x1</th>\n",
       "      <th>x2</th>\n",
       "      <th>a</th>\n",
       "      <th>y1</th>\n",
       "      <th>y2</th>\n",
       "      <th>c1</th>\n",
       "      <th>c2</th>\n",
       "      <th>xopt_runtime</th>\n",
       "      <th>xopt_error</th>\n",
       "    </tr>\n",
       "  </thead>\n",
       "  <tbody>\n",
       "    <tr>\n",
       "      <th>0</th>\n",
       "      <td>0.885129</td>\n",
       "      <td>3.087220</td>\n",
       "      <td>dummy_constant</td>\n",
       "      <td>0.885129</td>\n",
       "      <td>3.087220</td>\n",
       "      <td>9.338629</td>\n",
       "      <td>6.842033</td>\n",
       "      <td>0.000038</td>\n",
       "      <td>False</td>\n",
       "    </tr>\n",
       "    <tr>\n",
       "      <th>1</th>\n",
       "      <td>1.438932</td>\n",
       "      <td>2.932716</td>\n",
       "      <td>dummy_constant</td>\n",
       "      <td>1.438932</td>\n",
       "      <td>2.932716</td>\n",
       "      <td>9.618587</td>\n",
       "      <td>6.799699</td>\n",
       "      <td>0.000008</td>\n",
       "      <td>False</td>\n",
       "    </tr>\n",
       "    <tr>\n",
       "      <th>2</th>\n",
       "      <td>1.858243</td>\n",
       "      <td>1.180029</td>\n",
       "      <td>dummy_constant</td>\n",
       "      <td>1.858243</td>\n",
       "      <td>1.180029</td>\n",
       "      <td>3.938683</td>\n",
       "      <td>2.307265</td>\n",
       "      <td>0.000007</td>\n",
       "      <td>False</td>\n",
       "    </tr>\n",
       "    <tr>\n",
       "      <th>3</th>\n",
       "      <td>3.071071</td>\n",
       "      <td>2.734211</td>\n",
       "      <td>dummy_constant</td>\n",
       "      <td>3.071071</td>\n",
       "      <td>2.734211</td>\n",
       "      <td>15.847396</td>\n",
       "      <td>11.602107</td>\n",
       "      <td>0.000009</td>\n",
       "      <td>False</td>\n",
       "    </tr>\n",
       "    <tr>\n",
       "      <th>4</th>\n",
       "      <td>0.551859</td>\n",
       "      <td>2.220837</td>\n",
       "      <td>dummy_constant</td>\n",
       "      <td>0.551859</td>\n",
       "      <td>2.220837</td>\n",
       "      <td>4.309470</td>\n",
       "      <td>2.963970</td>\n",
       "      <td>0.000006</td>\n",
       "      <td>False</td>\n",
       "    </tr>\n",
       "    <tr>\n",
       "      <th>5</th>\n",
       "      <td>0.632396</td>\n",
       "      <td>1.108460</td>\n",
       "      <td>dummy_constant</td>\n",
       "      <td>0.632396</td>\n",
       "      <td>1.108460</td>\n",
       "      <td>0.671324</td>\n",
       "      <td>0.387752</td>\n",
       "      <td>0.000027</td>\n",
       "      <td>False</td>\n",
       "    </tr>\n",
       "    <tr>\n",
       "      <th>6</th>\n",
       "      <td>0.293121</td>\n",
       "      <td>0.589907</td>\n",
       "      <td>dummy_constant</td>\n",
       "      <td>0.293121</td>\n",
       "      <td>0.589907</td>\n",
       "      <td>-0.611863</td>\n",
       "      <td>0.050882</td>\n",
       "      <td>0.000025</td>\n",
       "      <td>False</td>\n",
       "    </tr>\n",
       "    <tr>\n",
       "      <th>7</th>\n",
       "      <td>0.000000</td>\n",
       "      <td>0.007109</td>\n",
       "      <td>dummy_constant</td>\n",
       "      <td>0.000000</td>\n",
       "      <td>0.007109</td>\n",
       "      <td>-1.099949</td>\n",
       "      <td>0.492941</td>\n",
       "      <td>0.000026</td>\n",
       "      <td>False</td>\n",
       "    </tr>\n",
       "    <tr>\n",
       "      <th>8</th>\n",
       "      <td>0.552139</td>\n",
       "      <td>0.013214</td>\n",
       "      <td>dummy_constant</td>\n",
       "      <td>0.552139</td>\n",
       "      <td>0.013214</td>\n",
       "      <td>-0.787729</td>\n",
       "      <td>0.239679</td>\n",
       "      <td>0.000025</td>\n",
       "      <td>False</td>\n",
       "    </tr>\n",
       "    <tr>\n",
       "      <th>9</th>\n",
       "      <td>0.933538</td>\n",
       "      <td>0.553557</td>\n",
       "      <td>dummy_constant</td>\n",
       "      <td>0.933538</td>\n",
       "      <td>0.553557</td>\n",
       "      <td>0.243080</td>\n",
       "      <td>0.190823</td>\n",
       "      <td>0.000025</td>\n",
       "      <td>False</td>\n",
       "    </tr>\n",
       "    <tr>\n",
       "      <th>10</th>\n",
       "      <td>0.448950</td>\n",
       "      <td>0.958553</td>\n",
       "      <td>dummy_constant</td>\n",
       "      <td>0.448950</td>\n",
       "      <td>0.958553</td>\n",
       "      <td>0.045537</td>\n",
       "      <td>0.212877</td>\n",
       "      <td>0.000027</td>\n",
       "      <td>False</td>\n",
       "    </tr>\n",
       "    <tr>\n",
       "      <th>11</th>\n",
       "      <td>1.105408</td>\n",
       "      <td>0.228132</td>\n",
       "      <td>dummy_constant</td>\n",
       "      <td>1.105408</td>\n",
       "      <td>0.228132</td>\n",
       "      <td>0.373314</td>\n",
       "      <td>0.440431</td>\n",
       "      <td>0.000024</td>\n",
       "      <td>False</td>\n",
       "    </tr>\n",
       "    <tr>\n",
       "      <th>12</th>\n",
       "      <td>0.192408</td>\n",
       "      <td>1.065512</td>\n",
       "      <td>dummy_constant</td>\n",
       "      <td>0.192408</td>\n",
       "      <td>1.065512</td>\n",
       "      <td>0.268356</td>\n",
       "      <td>0.414417</td>\n",
       "      <td>0.000027</td>\n",
       "      <td>False</td>\n",
       "    </tr>\n",
       "    <tr>\n",
       "      <th>13</th>\n",
       "      <td>0.004471</td>\n",
       "      <td>0.961428</td>\n",
       "      <td>dummy_constant</td>\n",
       "      <td>0.004471</td>\n",
       "      <td>0.961428</td>\n",
       "      <td>-0.175359</td>\n",
       "      <td>0.458465</td>\n",
       "      <td>0.000025</td>\n",
       "      <td>False</td>\n",
       "    </tr>\n",
       "    <tr>\n",
       "      <th>14</th>\n",
       "      <td>1.004540</td>\n",
       "      <td>0.097291</td>\n",
       "      <td>dummy_constant</td>\n",
       "      <td>1.004540</td>\n",
       "      <td>0.097291</td>\n",
       "      <td>0.015967</td>\n",
       "      <td>0.416734</td>\n",
       "      <td>0.000026</td>\n",
       "      <td>False</td>\n",
       "    </tr>\n",
       "    <tr>\n",
       "      <th>15</th>\n",
       "      <td>0.724498</td>\n",
       "      <td>0.725710</td>\n",
       "      <td>dummy_constant</td>\n",
       "      <td>0.724498</td>\n",
       "      <td>0.725710</td>\n",
       "      <td>-0.048439</td>\n",
       "      <td>0.101344</td>\n",
       "      <td>0.000025</td>\n",
       "      <td>False</td>\n",
       "    </tr>\n",
       "    <tr>\n",
       "      <th>16</th>\n",
       "      <td>0.521342</td>\n",
       "      <td>0.431475</td>\n",
       "      <td>dummy_constant</td>\n",
       "      <td>0.521342</td>\n",
       "      <td>0.431475</td>\n",
       "      <td>-0.548645</td>\n",
       "      <td>0.005151</td>\n",
       "      <td>0.000027</td>\n",
       "      <td>False</td>\n",
       "    </tr>\n",
       "    <tr>\n",
       "      <th>17</th>\n",
       "      <td>0.458744</td>\n",
       "      <td>0.262346</td>\n",
       "      <td>dummy_constant</td>\n",
       "      <td>0.458744</td>\n",
       "      <td>0.262346</td>\n",
       "      <td>-0.676532</td>\n",
       "      <td>0.058181</td>\n",
       "      <td>0.000026</td>\n",
       "      <td>False</td>\n",
       "    </tr>\n",
       "    <tr>\n",
       "      <th>18</th>\n",
       "      <td>0.068643</td>\n",
       "      <td>1.030343</td>\n",
       "      <td>dummy_constant</td>\n",
       "      <td>0.068643</td>\n",
       "      <td>1.030343</td>\n",
       "      <td>0.017813</td>\n",
       "      <td>0.467333</td>\n",
       "      <td>0.000025</td>\n",
       "      <td>False</td>\n",
       "    </tr>\n",
       "    <tr>\n",
       "      <th>19</th>\n",
       "      <td>0.619351</td>\n",
       "      <td>0.223312</td>\n",
       "      <td>dummy_constant</td>\n",
       "      <td>0.619351</td>\n",
       "      <td>0.223312</td>\n",
       "      <td>-0.639950</td>\n",
       "      <td>0.090801</td>\n",
       "      <td>0.000026</td>\n",
       "      <td>False</td>\n",
       "    </tr>\n",
       "    <tr>\n",
       "      <th>20</th>\n",
       "      <td>1.428172</td>\n",
       "      <td>0.119048</td>\n",
       "      <td>dummy_constant</td>\n",
       "      <td>1.428172</td>\n",
       "      <td>0.119048</td>\n",
       "      <td>1.030062</td>\n",
       "      <td>1.006628</td>\n",
       "      <td>0.000026</td>\n",
       "      <td>False</td>\n",
       "    </tr>\n",
       "    <tr>\n",
       "      <th>21</th>\n",
       "      <td>0.196013</td>\n",
       "      <td>1.266823</td>\n",
       "      <td>dummy_constant</td>\n",
       "      <td>0.196013</td>\n",
       "      <td>1.266823</td>\n",
       "      <td>0.720677</td>\n",
       "      <td>0.680426</td>\n",
       "      <td>0.000027</td>\n",
       "      <td>False</td>\n",
       "    </tr>\n",
       "    <tr>\n",
       "      <th>22</th>\n",
       "      <td>0.819534</td>\n",
       "      <td>0.628271</td>\n",
       "      <td>dummy_constant</td>\n",
       "      <td>0.819534</td>\n",
       "      <td>0.628271</td>\n",
       "      <td>0.116977</td>\n",
       "      <td>0.118556</td>\n",
       "      <td>0.000029</td>\n",
       "      <td>False</td>\n",
       "    </tr>\n",
       "    <tr>\n",
       "      <th>23</th>\n",
       "      <td>0.071858</td>\n",
       "      <td>0.961010</td>\n",
       "      <td>dummy_constant</td>\n",
       "      <td>0.071858</td>\n",
       "      <td>0.961010</td>\n",
       "      <td>-0.108076</td>\n",
       "      <td>0.395836</td>\n",
       "      <td>0.000025</td>\n",
       "      <td>False</td>\n",
       "    </tr>\n",
       "    <tr>\n",
       "      <th>24</th>\n",
       "      <td>0.597626</td>\n",
       "      <td>0.856949</td>\n",
       "      <td>dummy_constant</td>\n",
       "      <td>0.597626</td>\n",
       "      <td>0.856949</td>\n",
       "      <td>0.186481</td>\n",
       "      <td>0.136943</td>\n",
       "      <td>0.000027</td>\n",
       "      <td>False</td>\n",
       "    </tr>\n",
       "    <tr>\n",
       "      <th>25</th>\n",
       "      <td>0.948162</td>\n",
       "      <td>0.309887</td>\n",
       "      <td>dummy_constant</td>\n",
       "      <td>0.948162</td>\n",
       "      <td>0.309887</td>\n",
       "      <td>-0.038475</td>\n",
       "      <td>0.236992</td>\n",
       "      <td>0.000026</td>\n",
       "      <td>False</td>\n",
       "    </tr>\n",
       "    <tr>\n",
       "      <th>26</th>\n",
       "      <td>0.413751</td>\n",
       "      <td>0.476607</td>\n",
       "      <td>dummy_constant</td>\n",
       "      <td>0.413751</td>\n",
       "      <td>0.476607</td>\n",
       "      <td>-0.644531</td>\n",
       "      <td>0.007986</td>\n",
       "      <td>0.000024</td>\n",
       "      <td>False</td>\n",
       "    </tr>\n",
       "    <tr>\n",
       "      <th>27</th>\n",
       "      <td>1.133256</td>\n",
       "      <td>0.065385</td>\n",
       "      <td>dummy_constant</td>\n",
       "      <td>1.133256</td>\n",
       "      <td>0.065385</td>\n",
       "      <td>0.228131</td>\n",
       "      <td>0.589903</td>\n",
       "      <td>0.000025</td>\n",
       "      <td>False</td>\n",
       "    </tr>\n",
       "    <tr>\n",
       "      <th>28</th>\n",
       "      <td>0.466550</td>\n",
       "      <td>0.899507</td>\n",
       "      <td>dummy_constant</td>\n",
       "      <td>0.466550</td>\n",
       "      <td>0.899507</td>\n",
       "      <td>0.007073</td>\n",
       "      <td>0.160725</td>\n",
       "      <td>0.000026</td>\n",
       "      <td>False</td>\n",
       "    </tr>\n",
       "    <tr>\n",
       "      <th>29</th>\n",
       "      <td>2.885338</td>\n",
       "      <td>2.029658</td>\n",
       "      <td>dummy_constant</td>\n",
       "      <td>2.885338</td>\n",
       "      <td>2.029658</td>\n",
       "      <td>11.537419</td>\n",
       "      <td>8.029694</td>\n",
       "      <td>0.000025</td>\n",
       "      <td>False</td>\n",
       "    </tr>\n",
       "    <tr>\n",
       "      <th>30</th>\n",
       "      <td>1.379627</td>\n",
       "      <td>0.197225</td>\n",
       "      <td>dummy_constant</td>\n",
       "      <td>1.379627</td>\n",
       "      <td>0.197225</td>\n",
       "      <td>1.006772</td>\n",
       "      <td>0.865416</td>\n",
       "      <td>0.000026</td>\n",
       "      <td>False</td>\n",
       "    </tr>\n",
       "    <tr>\n",
       "      <th>31</th>\n",
       "      <td>0.622573</td>\n",
       "      <td>0.310802</td>\n",
       "      <td>dummy_constant</td>\n",
       "      <td>0.622573</td>\n",
       "      <td>0.310802</td>\n",
       "      <td>-0.558905</td>\n",
       "      <td>0.050820</td>\n",
       "      <td>0.000025</td>\n",
       "      <td>False</td>\n",
       "    </tr>\n",
       "    <tr>\n",
       "      <th>32</th>\n",
       "      <td>1.038014</td>\n",
       "      <td>0.081071</td>\n",
       "      <td>dummy_constant</td>\n",
       "      <td>1.038014</td>\n",
       "      <td>0.081071</td>\n",
       "      <td>0.052237</td>\n",
       "      <td>0.464961</td>\n",
       "      <td>0.000025</td>\n",
       "      <td>False</td>\n",
       "    </tr>\n",
       "    <tr>\n",
       "      <th>33</th>\n",
       "      <td>0.885209</td>\n",
       "      <td>0.161728</td>\n",
       "      <td>dummy_constant</td>\n",
       "      <td>0.885209</td>\n",
       "      <td>0.161728</td>\n",
       "      <td>-0.093364</td>\n",
       "      <td>0.262814</td>\n",
       "      <td>0.000025</td>\n",
       "      <td>False</td>\n",
       "    </tr>\n",
       "    <tr>\n",
       "      <th>34</th>\n",
       "      <td>0.212550</td>\n",
       "      <td>0.676836</td>\n",
       "      <td>dummy_constant</td>\n",
       "      <td>0.212550</td>\n",
       "      <td>0.676836</td>\n",
       "      <td>-0.512266</td>\n",
       "      <td>0.113898</td>\n",
       "      <td>0.000025</td>\n",
       "      <td>False</td>\n",
       "    </tr>\n",
       "    <tr>\n",
       "      <th>35</th>\n",
       "      <td>0.041767</td>\n",
       "      <td>0.067592</td>\n",
       "      <td>dummy_constant</td>\n",
       "      <td>0.041767</td>\n",
       "      <td>0.067592</td>\n",
       "      <td>-0.909428</td>\n",
       "      <td>0.396954</td>\n",
       "      <td>0.000025</td>\n",
       "      <td>False</td>\n",
       "    </tr>\n",
       "    <tr>\n",
       "      <th>36</th>\n",
       "      <td>0.876839</td>\n",
       "      <td>0.478347</td>\n",
       "      <td>dummy_constant</td>\n",
       "      <td>0.876839</td>\n",
       "      <td>0.478347</td>\n",
       "      <td>0.011276</td>\n",
       "      <td>0.142477</td>\n",
       "      <td>0.000027</td>\n",
       "      <td>False</td>\n",
       "    </tr>\n",
       "    <tr>\n",
       "      <th>37</th>\n",
       "      <td>0.259918</td>\n",
       "      <td>0.982347</td>\n",
       "      <td>dummy_constant</td>\n",
       "      <td>0.259918</td>\n",
       "      <td>0.982347</td>\n",
       "      <td>0.086847</td>\n",
       "      <td>0.290298</td>\n",
       "      <td>0.000026</td>\n",
       "      <td>False</td>\n",
       "    </tr>\n",
       "    <tr>\n",
       "      <th>38</th>\n",
       "      <td>0.984318</td>\n",
       "      <td>0.190554</td>\n",
       "      <td>dummy_constant</td>\n",
       "      <td>0.984318</td>\n",
       "      <td>0.190554</td>\n",
       "      <td>0.104857</td>\n",
       "      <td>0.330321</td>\n",
       "      <td>0.000027</td>\n",
       "      <td>False</td>\n",
       "    </tr>\n",
       "    <tr>\n",
       "      <th>39</th>\n",
       "      <td>0.349118</td>\n",
       "      <td>0.940598</td>\n",
       "      <td>dummy_constant</td>\n",
       "      <td>0.349118</td>\n",
       "      <td>0.940598</td>\n",
       "      <td>-0.076111</td>\n",
       "      <td>0.216892</td>\n",
       "      <td>0.000027</td>\n",
       "      <td>False</td>\n",
       "    </tr>\n",
       "    <tr>\n",
       "      <th>40</th>\n",
       "      <td>0.849107</td>\n",
       "      <td>0.176348</td>\n",
       "      <td>dummy_constant</td>\n",
       "      <td>0.849107</td>\n",
       "      <td>0.176348</td>\n",
       "      <td>-0.148826</td>\n",
       "      <td>0.226627</td>\n",
       "      <td>0.000027</td>\n",
       "      <td>False</td>\n",
       "    </tr>\n",
       "    <tr>\n",
       "      <th>41</th>\n",
       "      <td>1.313332</td>\n",
       "      <td>0.057640</td>\n",
       "      <td>dummy_constant</td>\n",
       "      <td>1.313332</td>\n",
       "      <td>0.057640</td>\n",
       "      <td>0.651794</td>\n",
       "      <td>0.857192</td>\n",
       "      <td>0.000025</td>\n",
       "      <td>False</td>\n",
       "    </tr>\n",
       "    <tr>\n",
       "      <th>42</th>\n",
       "      <td>0.776821</td>\n",
       "      <td>0.458967</td>\n",
       "      <td>dummy_constant</td>\n",
       "      <td>0.776821</td>\n",
       "      <td>0.458967</td>\n",
       "      <td>-0.122679</td>\n",
       "      <td>0.078313</td>\n",
       "      <td>0.000026</td>\n",
       "      <td>False</td>\n",
       "    </tr>\n",
       "    <tr>\n",
       "      <th>43</th>\n",
       "      <td>0.089806</td>\n",
       "      <td>1.005606</td>\n",
       "      <td>dummy_constant</td>\n",
       "      <td>0.089806</td>\n",
       "      <td>1.005606</td>\n",
       "      <td>0.004791</td>\n",
       "      <td>0.423897</td>\n",
       "      <td>0.000040</td>\n",
       "      <td>False</td>\n",
       "    </tr>\n",
       "    <tr>\n",
       "      <th>44</th>\n",
       "      <td>0.649050</td>\n",
       "      <td>0.790157</td>\n",
       "      <td>dummy_constant</td>\n",
       "      <td>0.649050</td>\n",
       "      <td>0.790157</td>\n",
       "      <td>0.044907</td>\n",
       "      <td>0.106407</td>\n",
       "      <td>0.000026</td>\n",
       "      <td>False</td>\n",
       "    </tr>\n",
       "    <tr>\n",
       "      <th>45</th>\n",
       "      <td>0.691866</td>\n",
       "      <td>0.156715</td>\n",
       "      <td>dummy_constant</td>\n",
       "      <td>0.691866</td>\n",
       "      <td>0.156715</td>\n",
       "      <td>-0.405553</td>\n",
       "      <td>0.154657</td>\n",
       "      <td>0.000027</td>\n",
       "      <td>False</td>\n",
       "    </tr>\n",
       "    <tr>\n",
       "      <th>46</th>\n",
       "      <td>0.651672</td>\n",
       "      <td>0.582257</td>\n",
       "      <td>dummy_constant</td>\n",
       "      <td>0.651672</td>\n",
       "      <td>0.582257</td>\n",
       "      <td>-0.298528</td>\n",
       "      <td>0.029771</td>\n",
       "      <td>0.000026</td>\n",
       "      <td>False</td>\n",
       "    </tr>\n",
       "    <tr>\n",
       "      <th>47</th>\n",
       "      <td>0.419236</td>\n",
       "      <td>0.931054</td>\n",
       "      <td>dummy_constant</td>\n",
       "      <td>0.419236</td>\n",
       "      <td>0.931054</td>\n",
       "      <td>-0.045790</td>\n",
       "      <td>0.192331</td>\n",
       "      <td>0.000027</td>\n",
       "      <td>False</td>\n",
       "    </tr>\n",
       "    <tr>\n",
       "      <th>48</th>\n",
       "      <td>0.836937</td>\n",
       "      <td>0.552919</td>\n",
       "      <td>dummy_constant</td>\n",
       "      <td>0.836937</td>\n",
       "      <td>0.552919</td>\n",
       "      <td>0.105835</td>\n",
       "      <td>0.116327</td>\n",
       "      <td>0.000026</td>\n",
       "      <td>False</td>\n",
       "    </tr>\n",
       "    <tr>\n",
       "      <th>49</th>\n",
       "      <td>0.141192</td>\n",
       "      <td>0.963571</td>\n",
       "      <td>dummy_constant</td>\n",
       "      <td>0.141192</td>\n",
       "      <td>0.963571</td>\n",
       "      <td>0.017087</td>\n",
       "      <td>0.343641</td>\n",
       "      <td>0.000027</td>\n",
       "      <td>False</td>\n",
       "    </tr>\n",
       "    <tr>\n",
       "      <th>50</th>\n",
       "      <td>0.572342</td>\n",
       "      <td>0.543694</td>\n",
       "      <td>dummy_constant</td>\n",
       "      <td>0.572342</td>\n",
       "      <td>0.543694</td>\n",
       "      <td>-0.468510</td>\n",
       "      <td>0.007142</td>\n",
       "      <td>0.000027</td>\n",
       "      <td>False</td>\n",
       "    </tr>\n",
       "    <tr>\n",
       "      <th>51</th>\n",
       "      <td>0.533836</td>\n",
       "      <td>0.264188</td>\n",
       "      <td>dummy_constant</td>\n",
       "      <td>0.533836</td>\n",
       "      <td>0.264188</td>\n",
       "      <td>-0.693272</td>\n",
       "      <td>0.056752</td>\n",
       "      <td>0.000025</td>\n",
       "      <td>False</td>\n",
       "    </tr>\n",
       "    <tr>\n",
       "      <th>52</th>\n",
       "      <td>0.863436</td>\n",
       "      <td>0.155030</td>\n",
       "      <td>dummy_constant</td>\n",
       "      <td>0.863436</td>\n",
       "      <td>0.155030</td>\n",
       "      <td>-0.134883</td>\n",
       "      <td>0.251090</td>\n",
       "      <td>0.000025</td>\n",
       "      <td>False</td>\n",
       "    </tr>\n",
       "    <tr>\n",
       "      <th>53</th>\n",
       "      <td>0.955056</td>\n",
       "      <td>0.213354</td>\n",
       "      <td>dummy_constant</td>\n",
       "      <td>0.955056</td>\n",
       "      <td>0.213354</td>\n",
       "      <td>0.050705</td>\n",
       "      <td>0.289243</td>\n",
       "      <td>0.000027</td>\n",
       "      <td>False</td>\n",
       "    </tr>\n",
       "    <tr>\n",
       "      <th>54</th>\n",
       "      <td>0.138969</td>\n",
       "      <td>0.661406</td>\n",
       "      <td>dummy_constant</td>\n",
       "      <td>0.138969</td>\n",
       "      <td>0.661406</td>\n",
       "      <td>-0.444704</td>\n",
       "      <td>0.156395</td>\n",
       "      <td>0.000027</td>\n",
       "      <td>False</td>\n",
       "    </tr>\n",
       "  </tbody>\n",
       "</table>\n",
       "</div>"
      ],
      "text/plain": [
       "          x1        x2               a        y1        y2         c1  \\\n",
       "0   0.885129  3.087220  dummy_constant  0.885129  3.087220   9.338629   \n",
       "1   1.438932  2.932716  dummy_constant  1.438932  2.932716   9.618587   \n",
       "2   1.858243  1.180029  dummy_constant  1.858243  1.180029   3.938683   \n",
       "3   3.071071  2.734211  dummy_constant  3.071071  2.734211  15.847396   \n",
       "4   0.551859  2.220837  dummy_constant  0.551859  2.220837   4.309470   \n",
       "5   0.632396  1.108460  dummy_constant  0.632396  1.108460   0.671324   \n",
       "6   0.293121  0.589907  dummy_constant  0.293121  0.589907  -0.611863   \n",
       "7   0.000000  0.007109  dummy_constant  0.000000  0.007109  -1.099949   \n",
       "8   0.552139  0.013214  dummy_constant  0.552139  0.013214  -0.787729   \n",
       "9   0.933538  0.553557  dummy_constant  0.933538  0.553557   0.243080   \n",
       "10  0.448950  0.958553  dummy_constant  0.448950  0.958553   0.045537   \n",
       "11  1.105408  0.228132  dummy_constant  1.105408  0.228132   0.373314   \n",
       "12  0.192408  1.065512  dummy_constant  0.192408  1.065512   0.268356   \n",
       "13  0.004471  0.961428  dummy_constant  0.004471  0.961428  -0.175359   \n",
       "14  1.004540  0.097291  dummy_constant  1.004540  0.097291   0.015967   \n",
       "15  0.724498  0.725710  dummy_constant  0.724498  0.725710  -0.048439   \n",
       "16  0.521342  0.431475  dummy_constant  0.521342  0.431475  -0.548645   \n",
       "17  0.458744  0.262346  dummy_constant  0.458744  0.262346  -0.676532   \n",
       "18  0.068643  1.030343  dummy_constant  0.068643  1.030343   0.017813   \n",
       "19  0.619351  0.223312  dummy_constant  0.619351  0.223312  -0.639950   \n",
       "20  1.428172  0.119048  dummy_constant  1.428172  0.119048   1.030062   \n",
       "21  0.196013  1.266823  dummy_constant  0.196013  1.266823   0.720677   \n",
       "22  0.819534  0.628271  dummy_constant  0.819534  0.628271   0.116977   \n",
       "23  0.071858  0.961010  dummy_constant  0.071858  0.961010  -0.108076   \n",
       "24  0.597626  0.856949  dummy_constant  0.597626  0.856949   0.186481   \n",
       "25  0.948162  0.309887  dummy_constant  0.948162  0.309887  -0.038475   \n",
       "26  0.413751  0.476607  dummy_constant  0.413751  0.476607  -0.644531   \n",
       "27  1.133256  0.065385  dummy_constant  1.133256  0.065385   0.228131   \n",
       "28  0.466550  0.899507  dummy_constant  0.466550  0.899507   0.007073   \n",
       "29  2.885338  2.029658  dummy_constant  2.885338  2.029658  11.537419   \n",
       "30  1.379627  0.197225  dummy_constant  1.379627  0.197225   1.006772   \n",
       "31  0.622573  0.310802  dummy_constant  0.622573  0.310802  -0.558905   \n",
       "32  1.038014  0.081071  dummy_constant  1.038014  0.081071   0.052237   \n",
       "33  0.885209  0.161728  dummy_constant  0.885209  0.161728  -0.093364   \n",
       "34  0.212550  0.676836  dummy_constant  0.212550  0.676836  -0.512266   \n",
       "35  0.041767  0.067592  dummy_constant  0.041767  0.067592  -0.909428   \n",
       "36  0.876839  0.478347  dummy_constant  0.876839  0.478347   0.011276   \n",
       "37  0.259918  0.982347  dummy_constant  0.259918  0.982347   0.086847   \n",
       "38  0.984318  0.190554  dummy_constant  0.984318  0.190554   0.104857   \n",
       "39  0.349118  0.940598  dummy_constant  0.349118  0.940598  -0.076111   \n",
       "40  0.849107  0.176348  dummy_constant  0.849107  0.176348  -0.148826   \n",
       "41  1.313332  0.057640  dummy_constant  1.313332  0.057640   0.651794   \n",
       "42  0.776821  0.458967  dummy_constant  0.776821  0.458967  -0.122679   \n",
       "43  0.089806  1.005606  dummy_constant  0.089806  1.005606   0.004791   \n",
       "44  0.649050  0.790157  dummy_constant  0.649050  0.790157   0.044907   \n",
       "45  0.691866  0.156715  dummy_constant  0.691866  0.156715  -0.405553   \n",
       "46  0.651672  0.582257  dummy_constant  0.651672  0.582257  -0.298528   \n",
       "47  0.419236  0.931054  dummy_constant  0.419236  0.931054  -0.045790   \n",
       "48  0.836937  0.552919  dummy_constant  0.836937  0.552919   0.105835   \n",
       "49  0.141192  0.963571  dummy_constant  0.141192  0.963571   0.017087   \n",
       "50  0.572342  0.543694  dummy_constant  0.572342  0.543694  -0.468510   \n",
       "51  0.533836  0.264188  dummy_constant  0.533836  0.264188  -0.693272   \n",
       "52  0.863436  0.155030  dummy_constant  0.863436  0.155030  -0.134883   \n",
       "53  0.955056  0.213354  dummy_constant  0.955056  0.213354   0.050705   \n",
       "54  0.138969  0.661406  dummy_constant  0.138969  0.661406  -0.444704   \n",
       "\n",
       "           c2  xopt_runtime  xopt_error  \n",
       "0    6.842033      0.000038       False  \n",
       "1    6.799699      0.000008       False  \n",
       "2    2.307265      0.000007       False  \n",
       "3   11.602107      0.000009       False  \n",
       "4    2.963970      0.000006       False  \n",
       "5    0.387752      0.000027       False  \n",
       "6    0.050882      0.000025       False  \n",
       "7    0.492941      0.000026       False  \n",
       "8    0.239679      0.000025       False  \n",
       "9    0.190823      0.000025       False  \n",
       "10   0.212877      0.000027       False  \n",
       "11   0.440431      0.000024       False  \n",
       "12   0.414417      0.000027       False  \n",
       "13   0.458465      0.000025       False  \n",
       "14   0.416734      0.000026       False  \n",
       "15   0.101344      0.000025       False  \n",
       "16   0.005151      0.000027       False  \n",
       "17   0.058181      0.000026       False  \n",
       "18   0.467333      0.000025       False  \n",
       "19   0.090801      0.000026       False  \n",
       "20   1.006628      0.000026       False  \n",
       "21   0.680426      0.000027       False  \n",
       "22   0.118556      0.000029       False  \n",
       "23   0.395836      0.000025       False  \n",
       "24   0.136943      0.000027       False  \n",
       "25   0.236992      0.000026       False  \n",
       "26   0.007986      0.000024       False  \n",
       "27   0.589903      0.000025       False  \n",
       "28   0.160725      0.000026       False  \n",
       "29   8.029694      0.000025       False  \n",
       "30   0.865416      0.000026       False  \n",
       "31   0.050820      0.000025       False  \n",
       "32   0.464961      0.000025       False  \n",
       "33   0.262814      0.000025       False  \n",
       "34   0.113898      0.000025       False  \n",
       "35   0.396954      0.000025       False  \n",
       "36   0.142477      0.000027       False  \n",
       "37   0.290298      0.000026       False  \n",
       "38   0.330321      0.000027       False  \n",
       "39   0.216892      0.000027       False  \n",
       "40   0.226627      0.000027       False  \n",
       "41   0.857192      0.000025       False  \n",
       "42   0.078313      0.000026       False  \n",
       "43   0.423897      0.000040       False  \n",
       "44   0.106407      0.000026       False  \n",
       "45   0.154657      0.000027       False  \n",
       "46   0.029771      0.000026       False  \n",
       "47   0.192331      0.000027       False  \n",
       "48   0.116327      0.000026       False  \n",
       "49   0.343641      0.000027       False  \n",
       "50   0.007142      0.000027       False  \n",
       "51   0.056752      0.000025       False  \n",
       "52   0.251090      0.000025       False  \n",
       "53   0.289243      0.000027       False  \n",
       "54   0.156395      0.000027       False  "
      ]
     },
     "execution_count": 3,
     "metadata": {},
     "output_type": "execute_result"
    }
   ],
   "source": [
    "X.generator.data"
   ]
  },
  {
   "cell_type": "markdown",
   "metadata": {
    "collapsed": false
   },
   "source": [
    "## plot results\n"
   ]
  },
  {
   "cell_type": "code",
   "execution_count": 4,
   "metadata": {
    "collapsed": false,
    "execution": {
     "iopub.execute_input": "2024-01-11T17:38:04.175238Z",
     "iopub.status.busy": "2024-01-11T17:38:04.174854Z",
     "iopub.status.idle": "2024-01-11T17:38:04.683975Z",
     "shell.execute_reply": "2024-01-11T17:38:04.683314Z"
    }
   },
   "outputs": [
    {
     "data": {
      "image/png": "[encoded data removed]",
      "text/plain": [
       "<Figure size 640x480 with 1 Axes>"
      ]
     },
     "metadata": {},
     "output_type": "display_data"
    }
   ],
   "source": [
    "import matplotlib.pyplot as plt\n",
    "import numpy as np\n",
    "import pandas as pd\n",
    "\n",
    "fig, ax = plt.subplots()\n",
    "\n",
    "theta = np.linspace(0, np.pi / 2)\n",
    "r = np.sqrt(1 + 0.1 * np.cos(16 * theta))\n",
    "x_1 = r * np.sin(theta)\n",
    "x_2_lower = r * np.cos(theta)\n",
    "x_2_upper = (0.5 - (x_1 - 0.5) ** 2) ** 0.5 + 0.5\n",
    "\n",
    "z = np.zeros_like(x_1)\n",
    "\n",
    "# ax2.plot(x_1, x_2_lower,'r')\n",
    "ax.fill_between(x_1, z, x_2_lower, fc=\"white\")\n",
    "circle = plt.Circle(\n",
    "    (0.5, 0.5), 0.5 ** 0.5, color=\"r\", alpha=0.25, zorder=0, label=\"Valid Region\"\n",
    ")\n",
    "ax.add_patch(circle)\n",
    "history = pd.concat(\n",
    "    [X.data, X.vocs.feasibility_data(X.data)], axis=1, ignore_index=False\n",
    ")\n",
    "\n",
    "\n",
    "ax.plot(*history[[\"x1\", \"x2\"]][history[\"feasible\"]].to_numpy().T, \".C1\")\n",
    "ax.plot(*history[[\"x1\", \"x2\"]][~history[\"feasible\"]].to_numpy().T, \".C2\")\n",
    "\n",
    "ax.set_xlim(0, 3.14)\n",
    "ax.set_ylim(0, 3.14)\n",
    "ax.set_xlabel(\"x1\")\n",
    "ax.set_ylabel(\"x2\")\n",
    "ax.set_aspect(\"equal\")"
   ]
  },
  {
   "cell_type": "markdown",
   "metadata": {
    "collapsed": false
   },
   "source": [
    "### Plot path through input space"
   ]
  },
  {
   "cell_type": "code",
   "execution_count": 5,
   "metadata": {
    "collapsed": false,
    "execution": {
     "iopub.execute_input": "2024-01-11T17:38:04.686746Z",
     "iopub.status.busy": "2024-01-11T17:38:04.686283Z",
     "iopub.status.idle": "2024-01-11T17:38:04.805449Z",
     "shell.execute_reply": "2024-01-11T17:38:04.804840Z"
    }
   },
   "outputs": [
    {
     "data": {
      "image/png": "[encoded data removed]",
      "text/plain": [
       "<Figure size 640x480 with 1 Axes>"
      ]
     },
     "metadata": {},
     "output_type": "display_data"
    }
   ],
   "source": [
    "ax = history.plot(\"x1\", \"x2\")\n",
    "ax.set_ylim(0, 3.14)\n",
    "ax.set_xlim(0, 3.14)\n",
    "ax.set_aspect(\"equal\")"
   ]
  },
  {
   "cell_type": "code",
   "execution_count": 6,
   "metadata": {
    "collapsed": false,
    "execution": {
     "iopub.execute_input": "2024-01-11T17:38:04.807613Z",
     "iopub.status.busy": "2024-01-11T17:38:04.807429Z",
     "iopub.status.idle": "2024-01-11T17:38:09.775204Z",
     "shell.execute_reply": "2024-01-11T17:38:09.774595Z"
    }
   },
   "outputs": [
    {
     "name": "stdout",
     "output_type": "stream",
     "text": [
      "[[0.90601207 0.35892984]]\n"
     ]
    },
    {
     "data": {
      "text/plain": [
       "[<matplotlib.lines.Line2D at 0x7fbb56bb6e50>]"
      ]
     },
     "execution_count": 6,
     "metadata": {},
     "output_type": "execute_result"
    },
    {
     "data": {
      "image/png": "[encoded data removed]",
      "text/plain": [
       "<Figure size 800x800 with 2 Axes>"
      ]
     },
     "metadata": {},
     "output_type": "display_data"
    },
    {
     "data": {
      "image/png": "[encoded data removed]",
      "text/plain": [
       "<Figure size 800x800 with 2 Axes>"
      ]
     },
     "metadata": {},
     "output_type": "display_data"
    }
   ],
   "source": [
    "# plot the acquisition function\n",
    "from xopt.generators.bayesian.objectives import feasibility\n",
    "\n",
    "bounds = X.generator.vocs.bounds\n",
    "model = X.generator.model\n",
    "\n",
    "# create mesh\n",
    "n = 100\n",
    "x = torch.linspace(*bounds.T[0], n)\n",
    "y = torch.linspace(*bounds.T[1], n)\n",
    "xx, yy = torch.meshgrid(x, y)\n",
    "pts = torch.hstack([ele.reshape(-1, 1) for ele in (xx, yy)]).double()\n",
    "\n",
    "xx, yy = xx.numpy(), yy.numpy()\n",
    "\n",
    "acq_func = X.generator.get_acquisition(model)\n",
    "with torch.no_grad():\n",
    "    acq_pts = pts.unsqueeze(1)\n",
    "    acq = acq_func(acq_pts)\n",
    "\n",
    "    fig, ax = plt.subplots(figsize=(8,8))\n",
    "    c = ax.pcolor(xx, yy, acq.reshape(n, n), cmap=\"Blues\")\n",
    "    fig.colorbar(c)\n",
    "    ax.set_title(\"Acquisition function\")\n",
    "\n",
    "    ax.plot(*history[[\"x1\", \"x2\"]][history[\"feasible\"]].to_numpy().T, \".C1\")\n",
    "    ax.plot(*history[[\"x1\", \"x2\"]][~history[\"feasible\"]].to_numpy().T, \".C2\")\n",
    "\n",
    "    ax.plot(*history[[\"x1\", \"x2\"]].to_numpy()[-1].T, \"+\")\n",
    "\n",
    "    feas = feasibility(pts.unsqueeze(1), model, X.vocs).flatten()\n",
    "\n",
    "    fig2, ax2 = plt.subplots(figsize=(8,8))\n",
    "    c = ax2.pcolor(xx, yy, feas.reshape(n, n))\n",
    "    fig2.colorbar(c)\n",
    "    ax2.set_title(\"Feasible Region\")\n",
    "\n",
    "candidate = pd.DataFrame(X.generator.generate(1), index=[0])\n",
    "print(candidate[[\"x1\", \"x2\"]].to_numpy())\n",
    "ax.plot(*candidate[[\"x1\", \"x2\"]].to_numpy()[0], \"o\")"
   ]
  }
 ],
 "metadata": {
  "interpreter": {
   "hash": "72034539424920dfb606fe3b820b3f27dca0cbf1c69938110810ec4641e275b1"
  },
  "kernelspec": {
   "display_name": "Python 3 (ipykernel)",
   "language": "python",
   "name": "python3"
  },
  "language_info": {
   "codemirror_mode": {
    "name": "ipython",
    "version": 3
   },
   "file_extension": ".py",
   "mimetype": "text/x-python",
   "name": "python",
   "nbconvert_exporter": "python",
   "pygments_lexer": "ipython3",
   "version": "3.9.18"
  }
 },
 "nbformat": 4,
 "nbformat_minor": 4
}
