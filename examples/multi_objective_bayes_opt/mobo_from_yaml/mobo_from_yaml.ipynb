{
 "cells": [
  {
   "cell_type": "markdown",
   "metadata": {},
   "source": [
    "\n",
    "# Multi-objective Bayesian Optimization\n",
    "\n",
    "\n",
    "TNK function\n",
    "$n=2$ variables:\n",
    "$x_i \\in [0, \\pi], i=1,2$\n",
    "\n",
    "Objectives:\n",
    "- $f_i(x) = x_i$\n",
    "\n",
    "Constraints:\n",
    "- $g_1(x) = -x_1^2 -x_2^2 + 1 + 0.1 \\cos\\left(16 \\arctan \\frac{x_1}{x_2}\\right) \\le 0$\n",
    "- $g_2(x) = (x_1 - 1/2)^2 + (x_2-1/2)^2 \\le 0.5$"
   ]
  },
  {
   "cell_type": "code",
   "execution_count": 1,
   "metadata": {
    "collapsed": false,
    "execution": {
     "iopub.execute_input": "2024-04-24T14:45:19.747673Z",
     "iopub.status.busy": "2024-04-24T14:45:19.747497Z",
     "iopub.status.idle": "2024-04-24T14:45:21.221813Z",
     "shell.execute_reply": "2024-04-24T14:45:21.221205Z"
    }
   },
   "outputs": [],
   "source": [
    "import os\n",
    "SMOKE_TEST = os.environ.get(\"SMOKE_TEST\")\n",
    "NUM_STEPS = 2 if SMOKE_TEST else 50\n",
    "\n",
    "# Ignore all warnings\n",
    "import warnings\n",
    "warnings.filterwarnings(\"ignore\")\n",
    "\n",
    "import torch\n",
    "from xopt import Xopt\n",
    "\n",
    "\n",
    "YAML = \"\"\"\n",
    "generator:\n",
    "    name: mobo\n",
    "    reference_point: {y1: 1.5, y2: 1.5}\n",
    "\n",
    "evaluator:\n",
    "    function: xopt.resources.test_functions.tnk.evaluate_TNK\n",
    "\n",
    "vocs:\n",
    "    variables:\n",
    "        x1: [0, 3.14159]\n",
    "        x2: [0, 3.14159]\n",
    "    objectives: {y1: MINIMIZE, y2: MINIMIZE}\n",
    "    constraints:\n",
    "        c1: [GREATER_THAN, 0]\n",
    "        c2: [LESS_THAN, 0.5]\n",
    "    constants: {a: dummy_constant}\n",
    "\n",
    "\"\"\""
   ]
  },
  {
   "cell_type": "code",
   "execution_count": 2,
   "metadata": {
    "collapsed": false,
    "execution": {
     "iopub.execute_input": "2024-04-24T14:45:21.224634Z",
     "iopub.status.busy": "2024-04-24T14:45:21.224346Z",
     "iopub.status.idle": "2024-04-24T14:46:04.791910Z",
     "shell.execute_reply": "2024-04-24T14:46:04.791319Z"
    }
   },
   "outputs": [
    {
     "name": "stdout",
     "output_type": "stream",
     "text": [
      "0\n"
     ]
    },
    {
     "name": "stdout",
     "output_type": "stream",
     "text": [
      "1\n"
     ]
    },
    {
     "name": "stdout",
     "output_type": "stream",
     "text": [
      "2\n"
     ]
    },
    {
     "name": "stdout",
     "output_type": "stream",
     "text": [
      "3\n"
     ]
    },
    {
     "name": "stdout",
     "output_type": "stream",
     "text": [
      "4\n"
     ]
    },
    {
     "name": "stdout",
     "output_type": "stream",
     "text": [
      "5\n"
     ]
    },
    {
     "name": "stdout",
     "output_type": "stream",
     "text": [
      "6\n"
     ]
    },
    {
     "name": "stdout",
     "output_type": "stream",
     "text": [
      "7\n"
     ]
    },
    {
     "name": "stdout",
     "output_type": "stream",
     "text": [
      "8\n"
     ]
    },
    {
     "name": "stdout",
     "output_type": "stream",
     "text": [
      "9\n"
     ]
    },
    {
     "name": "stdout",
     "output_type": "stream",
     "text": [
      "10\n"
     ]
    },
    {
     "name": "stdout",
     "output_type": "stream",
     "text": [
      "11\n"
     ]
    },
    {
     "name": "stdout",
     "output_type": "stream",
     "text": [
      "12\n"
     ]
    },
    {
     "name": "stdout",
     "output_type": "stream",
     "text": [
      "13\n"
     ]
    },
    {
     "name": "stdout",
     "output_type": "stream",
     "text": [
      "14\n"
     ]
    },
    {
     "name": "stdout",
     "output_type": "stream",
     "text": [
      "15\n"
     ]
    },
    {
     "name": "stdout",
     "output_type": "stream",
     "text": [
      "16\n"
     ]
    },
    {
     "name": "stdout",
     "output_type": "stream",
     "text": [
      "17\n"
     ]
    },
    {
     "name": "stdout",
     "output_type": "stream",
     "text": [
      "18\n"
     ]
    },
    {
     "name": "stdout",
     "output_type": "stream",
     "text": [
      "19\n"
     ]
    },
    {
     "name": "stdout",
     "output_type": "stream",
     "text": [
      "20\n"
     ]
    },
    {
     "name": "stdout",
     "output_type": "stream",
     "text": [
      "21\n"
     ]
    },
    {
     "name": "stdout",
     "output_type": "stream",
     "text": [
      "22\n"
     ]
    },
    {
     "name": "stdout",
     "output_type": "stream",
     "text": [
      "23\n"
     ]
    },
    {
     "name": "stdout",
     "output_type": "stream",
     "text": [
      "24\n"
     ]
    },
    {
     "name": "stdout",
     "output_type": "stream",
     "text": [
      "25\n"
     ]
    },
    {
     "name": "stdout",
     "output_type": "stream",
     "text": [
      "26\n"
     ]
    },
    {
     "name": "stdout",
     "output_type": "stream",
     "text": [
      "27\n"
     ]
    },
    {
     "name": "stdout",
     "output_type": "stream",
     "text": [
      "28\n"
     ]
    },
    {
     "name": "stdout",
     "output_type": "stream",
     "text": [
      "29\n"
     ]
    },
    {
     "name": "stdout",
     "output_type": "stream",
     "text": [
      "30\n"
     ]
    },
    {
     "name": "stdout",
     "output_type": "stream",
     "text": [
      "31\n"
     ]
    },
    {
     "name": "stdout",
     "output_type": "stream",
     "text": [
      "32\n"
     ]
    },
    {
     "name": "stdout",
     "output_type": "stream",
     "text": [
      "33\n"
     ]
    },
    {
     "name": "stdout",
     "output_type": "stream",
     "text": [
      "34\n"
     ]
    },
    {
     "name": "stdout",
     "output_type": "stream",
     "text": [
      "35\n"
     ]
    },
    {
     "name": "stdout",
     "output_type": "stream",
     "text": [
      "36\n"
     ]
    },
    {
     "name": "stdout",
     "output_type": "stream",
     "text": [
      "37\n"
     ]
    },
    {
     "name": "stdout",
     "output_type": "stream",
     "text": [
      "38\n"
     ]
    },
    {
     "name": "stdout",
     "output_type": "stream",
     "text": [
      "39\n"
     ]
    },
    {
     "name": "stdout",
     "output_type": "stream",
     "text": [
      "40\n"
     ]
    },
    {
     "name": "stdout",
     "output_type": "stream",
     "text": [
      "41\n"
     ]
    },
    {
     "name": "stdout",
     "output_type": "stream",
     "text": [
      "42\n"
     ]
    },
    {
     "name": "stdout",
     "output_type": "stream",
     "text": [
      "43\n"
     ]
    },
    {
     "name": "stdout",
     "output_type": "stream",
     "text": [
      "44\n"
     ]
    },
    {
     "name": "stdout",
     "output_type": "stream",
     "text": [
      "45\n"
     ]
    },
    {
     "name": "stdout",
     "output_type": "stream",
     "text": [
      "46\n"
     ]
    },
    {
     "name": "stdout",
     "output_type": "stream",
     "text": [
      "47\n"
     ]
    },
    {
     "name": "stdout",
     "output_type": "stream",
     "text": [
      "48\n"
     ]
    },
    {
     "name": "stdout",
     "output_type": "stream",
     "text": [
      "49\n"
     ]
    }
   ],
   "source": [
    "X = Xopt.from_yaml(YAML)\n",
    "\n",
    "# for testing purposes only\n",
    "if SMOKE_TEST:\n",
    "    X.generator.numerical_optimizer.n_restarts = 1\n",
    "    X.generator.n_monte_carlo_samples = 1\n",
    "\n",
    "X.random_evaluate(5)\n",
    "for i in range(NUM_STEPS):\n",
    "    print(i)\n",
    "    X.step()"
   ]
  },
  {
   "cell_type": "code",
   "execution_count": 3,
   "metadata": {
    "collapsed": false,
    "execution": {
     "iopub.execute_input": "2024-04-24T14:46:04.794624Z",
     "iopub.status.busy": "2024-04-24T14:46:04.794355Z",
     "iopub.status.idle": "2024-04-24T14:46:04.812446Z",
     "shell.execute_reply": "2024-04-24T14:46:04.811860Z"
    }
   },
   "outputs": [
    {
     "data": {
      "text/html": [
       "<div>\n",
       "<style scoped>\n",
       "    .dataframe tbody tr th:only-of-type {\n",
       "        vertical-align: middle;\n",
       "    }\n",
       "\n",
       "    .dataframe tbody tr th {\n",
       "        vertical-align: top;\n",
       "    }\n",
       "\n",
       "    .dataframe thead th {\n",
       "        text-align: right;\n",
       "    }\n",
       "</style>\n",
       "<table border=\"1\" class=\"dataframe\">\n",
       "  <thead>\n",
       "    <tr style=\"text-align: right;\">\n",
       "      <th></th>\n",
       "      <th>x1</th>\n",
       "      <th>x2</th>\n",
       "      <th>a</th>\n",
       "      <th>y1</th>\n",
       "      <th>y2</th>\n",
       "      <th>c1</th>\n",
       "      <th>c2</th>\n",
       "      <th>xopt_runtime</th>\n",
       "      <th>xopt_error</th>\n",
       "    </tr>\n",
       "  </thead>\n",
       "  <tbody>\n",
       "    <tr>\n",
       "      <th>0</th>\n",
       "      <td>1.321983</td>\n",
       "      <td>1.579754</td>\n",
       "      <td>dummy_constant</td>\n",
       "      <td>1.321983</td>\n",
       "      <td>1.579754</td>\n",
       "      <td>3.228003</td>\n",
       "      <td>1.841525</td>\n",
       "      <td>0.000038</td>\n",
       "      <td>False</td>\n",
       "    </tr>\n",
       "    <tr>\n",
       "      <th>1</th>\n",
       "      <td>0.316974</td>\n",
       "      <td>2.589775</td>\n",
       "      <td>dummy_constant</td>\n",
       "      <td>0.316974</td>\n",
       "      <td>2.589775</td>\n",
       "      <td>5.844295</td>\n",
       "      <td>4.400656</td>\n",
       "      <td>0.000009</td>\n",
       "      <td>False</td>\n",
       "    </tr>\n",
       "    <tr>\n",
       "      <th>2</th>\n",
       "      <td>1.964690</td>\n",
       "      <td>1.254020</td>\n",
       "      <td>dummy_constant</td>\n",
       "      <td>1.964690</td>\n",
       "      <td>1.254020</td>\n",
       "      <td>4.527004</td>\n",
       "      <td>2.713863</td>\n",
       "      <td>0.000007</td>\n",
       "      <td>False</td>\n",
       "    </tr>\n",
       "    <tr>\n",
       "      <th>3</th>\n",
       "      <td>2.109977</td>\n",
       "      <td>1.926856</td>\n",
       "      <td>dummy_constant</td>\n",
       "      <td>2.109977</td>\n",
       "      <td>1.926856</td>\n",
       "      <td>7.089947</td>\n",
       "      <td>4.627944</td>\n",
       "      <td>0.000006</td>\n",
       "      <td>False</td>\n",
       "    </tr>\n",
       "    <tr>\n",
       "      <th>4</th>\n",
       "      <td>0.146277</td>\n",
       "      <td>0.669869</td>\n",
       "      <td>dummy_constant</td>\n",
       "      <td>0.146277</td>\n",
       "      <td>0.669869</td>\n",
       "      <td>-0.434294</td>\n",
       "      <td>0.153975</td>\n",
       "      <td>0.000008</td>\n",
       "      <td>False</td>\n",
       "    </tr>\n",
       "    <tr>\n",
       "      <th>5</th>\n",
       "      <td>0.000000</td>\n",
       "      <td>0.384700</td>\n",
       "      <td>dummy_constant</td>\n",
       "      <td>0.000000</td>\n",
       "      <td>0.384700</td>\n",
       "      <td>-0.952006</td>\n",
       "      <td>0.263294</td>\n",
       "      <td>0.000041</td>\n",
       "      <td>False</td>\n",
       "    </tr>\n",
       "    <tr>\n",
       "      <th>6</th>\n",
       "      <td>0.216704</td>\n",
       "      <td>0.876106</td>\n",
       "      <td>dummy_constant</td>\n",
       "      <td>0.216704</td>\n",
       "      <td>0.876106</td>\n",
       "      <td>-0.111504</td>\n",
       "      <td>0.221712</td>\n",
       "      <td>0.000025</td>\n",
       "      <td>False</td>\n",
       "    </tr>\n",
       "    <tr>\n",
       "      <th>7</th>\n",
       "      <td>0.261142</td>\n",
       "      <td>1.024898</td>\n",
       "      <td>dummy_constant</td>\n",
       "      <td>0.261142</td>\n",
       "      <td>1.024898</td>\n",
       "      <td>0.184592</td>\n",
       "      <td>0.332571</td>\n",
       "      <td>0.000024</td>\n",
       "      <td>False</td>\n",
       "    </tr>\n",
       "    <tr>\n",
       "      <th>8</th>\n",
       "      <td>0.520700</td>\n",
       "      <td>0.182300</td>\n",
       "      <td>dummy_constant</td>\n",
       "      <td>0.520700</td>\n",
       "      <td>0.182300</td>\n",
       "      <td>-0.758199</td>\n",
       "      <td>0.101362</td>\n",
       "      <td>0.000028</td>\n",
       "      <td>False</td>\n",
       "    </tr>\n",
       "    <tr>\n",
       "      <th>9</th>\n",
       "      <td>0.953930</td>\n",
       "      <td>0.502789</td>\n",
       "      <td>dummy_constant</td>\n",
       "      <td>0.953930</td>\n",
       "      <td>0.502789</td>\n",
       "      <td>0.153506</td>\n",
       "      <td>0.206060</td>\n",
       "      <td>0.000025</td>\n",
       "      <td>False</td>\n",
       "    </tr>\n",
       "    <tr>\n",
       "      <th>10</th>\n",
       "      <td>0.968635</td>\n",
       "      <td>0.000602</td>\n",
       "      <td>dummy_constant</td>\n",
       "      <td>0.968635</td>\n",
       "      <td>0.000602</td>\n",
       "      <td>-0.161741</td>\n",
       "      <td>0.469017</td>\n",
       "      <td>0.000025</td>\n",
       "      <td>False</td>\n",
       "    </tr>\n",
       "    <tr>\n",
       "      <th>11</th>\n",
       "      <td>1.058063</td>\n",
       "      <td>0.204165</td>\n",
       "      <td>dummy_constant</td>\n",
       "      <td>1.058063</td>\n",
       "      <td>0.204165</td>\n",
       "      <td>0.260759</td>\n",
       "      <td>0.398952</td>\n",
       "      <td>0.000026</td>\n",
       "      <td>False</td>\n",
       "    </tr>\n",
       "    <tr>\n",
       "      <th>12</th>\n",
       "      <td>0.105640</td>\n",
       "      <td>0.948900</td>\n",
       "      <td>dummy_constant</td>\n",
       "      <td>0.105640</td>\n",
       "      <td>0.948900</td>\n",
       "      <td>-0.068251</td>\n",
       "      <td>0.357031</td>\n",
       "      <td>0.000027</td>\n",
       "      <td>False</td>\n",
       "    </tr>\n",
       "    <tr>\n",
       "      <th>13</th>\n",
       "      <td>0.819172</td>\n",
       "      <td>0.268051</td>\n",
       "      <td>dummy_constant</td>\n",
       "      <td>0.819172</td>\n",
       "      <td>0.268051</td>\n",
       "      <td>-0.291155</td>\n",
       "      <td>0.155672</td>\n",
       "      <td>0.000026</td>\n",
       "      <td>False</td>\n",
       "    </tr>\n",
       "    <tr>\n",
       "      <th>14</th>\n",
       "      <td>0.100217</td>\n",
       "      <td>1.010195</td>\n",
       "      <td>dummy_constant</td>\n",
       "      <td>0.100217</td>\n",
       "      <td>1.010195</td>\n",
       "      <td>0.031669</td>\n",
       "      <td>0.420126</td>\n",
       "      <td>0.000025</td>\n",
       "      <td>False</td>\n",
       "    </tr>\n",
       "    <tr>\n",
       "      <th>15</th>\n",
       "      <td>0.424547</td>\n",
       "      <td>0.900008</td>\n",
       "      <td>dummy_constant</td>\n",
       "      <td>0.424547</td>\n",
       "      <td>0.900008</td>\n",
       "      <td>-0.081603</td>\n",
       "      <td>0.165700</td>\n",
       "      <td>0.000025</td>\n",
       "      <td>False</td>\n",
       "    </tr>\n",
       "    <tr>\n",
       "      <th>16</th>\n",
       "      <td>0.067730</td>\n",
       "      <td>0.034291</td>\n",
       "      <td>dummy_constant</td>\n",
       "      <td>0.067730</td>\n",
       "      <td>0.034291</td>\n",
       "      <td>-1.029020</td>\n",
       "      <td>0.403742</td>\n",
       "      <td>0.000026</td>\n",
       "      <td>False</td>\n",
       "    </tr>\n",
       "    <tr>\n",
       "      <th>17</th>\n",
       "      <td>0.000000</td>\n",
       "      <td>0.931304</td>\n",
       "      <td>dummy_constant</td>\n",
       "      <td>0.000000</td>\n",
       "      <td>0.931304</td>\n",
       "      <td>-0.232673</td>\n",
       "      <td>0.436023</td>\n",
       "      <td>0.000025</td>\n",
       "      <td>False</td>\n",
       "    </tr>\n",
       "    <tr>\n",
       "      <th>18</th>\n",
       "      <td>0.857825</td>\n",
       "      <td>0.721182</td>\n",
       "      <td>dummy_constant</td>\n",
       "      <td>0.857825</td>\n",
       "      <td>0.721182</td>\n",
       "      <td>0.237117</td>\n",
       "      <td>0.176960</td>\n",
       "      <td>0.000026</td>\n",
       "      <td>False</td>\n",
       "    </tr>\n",
       "    <tr>\n",
       "      <th>19</th>\n",
       "      <td>0.932366</td>\n",
       "      <td>0.162803</td>\n",
       "      <td>dummy_constant</td>\n",
       "      <td>0.932366</td>\n",
       "      <td>0.162803</td>\n",
       "      <td>-0.011163</td>\n",
       "      <td>0.300642</td>\n",
       "      <td>0.000027</td>\n",
       "      <td>False</td>\n",
       "    </tr>\n",
       "    <tr>\n",
       "      <th>20</th>\n",
       "      <td>0.225404</td>\n",
       "      <td>0.970174</td>\n",
       "      <td>dummy_constant</td>\n",
       "      <td>0.225404</td>\n",
       "      <td>0.970174</td>\n",
       "      <td>0.079274</td>\n",
       "      <td>0.296467</td>\n",
       "      <td>0.000025</td>\n",
       "      <td>False</td>\n",
       "    </tr>\n",
       "    <tr>\n",
       "      <th>21</th>\n",
       "      <td>0.720139</td>\n",
       "      <td>0.796547</td>\n",
       "      <td>dummy_constant</td>\n",
       "      <td>0.720139</td>\n",
       "      <td>0.796547</td>\n",
       "      <td>0.083803</td>\n",
       "      <td>0.136401</td>\n",
       "      <td>0.000026</td>\n",
       "      <td>False</td>\n",
       "    </tr>\n",
       "    <tr>\n",
       "      <th>22</th>\n",
       "      <td>0.027882</td>\n",
       "      <td>0.812450</td>\n",
       "      <td>dummy_constant</td>\n",
       "      <td>0.027882</td>\n",
       "      <td>0.812450</td>\n",
       "      <td>-0.424458</td>\n",
       "      <td>0.320520</td>\n",
       "      <td>0.000027</td>\n",
       "      <td>False</td>\n",
       "    </tr>\n",
       "    <tr>\n",
       "      <th>23</th>\n",
       "      <td>0.837641</td>\n",
       "      <td>0.607192</td>\n",
       "      <td>dummy_constant</td>\n",
       "      <td>0.837641</td>\n",
       "      <td>0.607192</td>\n",
       "      <td>0.152236</td>\n",
       "      <td>0.125492</td>\n",
       "      <td>0.000026</td>\n",
       "      <td>False</td>\n",
       "    </tr>\n",
       "    <tr>\n",
       "      <th>24</th>\n",
       "      <td>1.249794</td>\n",
       "      <td>0.015544</td>\n",
       "      <td>dummy_constant</td>\n",
       "      <td>1.249794</td>\n",
       "      <td>0.015544</td>\n",
       "      <td>0.464200</td>\n",
       "      <td>0.796889</td>\n",
       "      <td>0.000026</td>\n",
       "      <td>False</td>\n",
       "    </tr>\n",
       "    <tr>\n",
       "      <th>25</th>\n",
       "      <td>0.610759</td>\n",
       "      <td>0.856740</td>\n",
       "      <td>dummy_constant</td>\n",
       "      <td>0.610759</td>\n",
       "      <td>0.856740</td>\n",
       "      <td>0.195526</td>\n",
       "      <td>0.139531</td>\n",
       "      <td>0.000026</td>\n",
       "      <td>False</td>\n",
       "    </tr>\n",
       "    <tr>\n",
       "      <th>26</th>\n",
       "      <td>1.039865</td>\n",
       "      <td>0.067194</td>\n",
       "      <td>dummy_constant</td>\n",
       "      <td>1.039865</td>\n",
       "      <td>0.067194</td>\n",
       "      <td>0.034563</td>\n",
       "      <td>0.478775</td>\n",
       "      <td>0.000026</td>\n",
       "      <td>False</td>\n",
       "    </tr>\n",
       "    <tr>\n",
       "      <th>27</th>\n",
       "      <td>0.034115</td>\n",
       "      <td>1.172364</td>\n",
       "      <td>dummy_constant</td>\n",
       "      <td>0.034115</td>\n",
       "      <td>1.172364</td>\n",
       "      <td>0.286241</td>\n",
       "      <td>0.669123</td>\n",
       "      <td>0.000026</td>\n",
       "      <td>False</td>\n",
       "    </tr>\n",
       "    <tr>\n",
       "      <th>28</th>\n",
       "      <td>0.332255</td>\n",
       "      <td>0.761484</td>\n",
       "      <td>dummy_constant</td>\n",
       "      <td>0.332255</td>\n",
       "      <td>0.761484</td>\n",
       "      <td>-0.405294</td>\n",
       "      <td>0.096512</td>\n",
       "      <td>0.000027</td>\n",
       "      <td>False</td>\n",
       "    </tr>\n",
       "    <tr>\n",
       "      <th>29</th>\n",
       "      <td>0.971486</td>\n",
       "      <td>0.250430</td>\n",
       "      <td>dummy_constant</td>\n",
       "      <td>0.971486</td>\n",
       "      <td>0.250430</td>\n",
       "      <td>0.069051</td>\n",
       "      <td>0.284584</td>\n",
       "      <td>0.000026</td>\n",
       "      <td>False</td>\n",
       "    </tr>\n",
       "    <tr>\n",
       "      <th>30</th>\n",
       "      <td>0.708278</td>\n",
       "      <td>0.466115</td>\n",
       "      <td>dummy_constant</td>\n",
       "      <td>0.708278</td>\n",
       "      <td>0.466115</td>\n",
       "      <td>-0.181705</td>\n",
       "      <td>0.044528</td>\n",
       "      <td>0.000028</td>\n",
       "      <td>False</td>\n",
       "    </tr>\n",
       "    <tr>\n",
       "      <th>31</th>\n",
       "      <td>0.609827</td>\n",
       "      <td>0.703942</td>\n",
       "      <td>dummy_constant</td>\n",
       "      <td>0.609827</td>\n",
       "      <td>0.703942</td>\n",
       "      <td>-0.173951</td>\n",
       "      <td>0.053654</td>\n",
       "      <td>0.000027</td>\n",
       "      <td>False</td>\n",
       "    </tr>\n",
       "    <tr>\n",
       "      <th>32</th>\n",
       "      <td>0.676374</td>\n",
       "      <td>0.260419</td>\n",
       "      <td>dummy_constant</td>\n",
       "      <td>0.676374</td>\n",
       "      <td>0.260419</td>\n",
       "      <td>-0.566700</td>\n",
       "      <td>0.088507</td>\n",
       "      <td>0.000026</td>\n",
       "      <td>False</td>\n",
       "    </tr>\n",
       "    <tr>\n",
       "      <th>33</th>\n",
       "      <td>0.575341</td>\n",
       "      <td>0.827917</td>\n",
       "      <td>dummy_constant</td>\n",
       "      <td>0.575341</td>\n",
       "      <td>0.827917</td>\n",
       "      <td>0.112223</td>\n",
       "      <td>0.113205</td>\n",
       "      <td>0.000027</td>\n",
       "      <td>False</td>\n",
       "    </tr>\n",
       "    <tr>\n",
       "      <th>34</th>\n",
       "      <td>0.749460</td>\n",
       "      <td>0.685564</td>\n",
       "      <td>dummy_constant</td>\n",
       "      <td>0.749460</td>\n",
       "      <td>0.685564</td>\n",
       "      <td>-0.044020</td>\n",
       "      <td>0.096664</td>\n",
       "      <td>0.000028</td>\n",
       "      <td>False</td>\n",
       "    </tr>\n",
       "    <tr>\n",
       "      <th>35</th>\n",
       "      <td>0.375734</td>\n",
       "      <td>0.867476</td>\n",
       "      <td>dummy_constant</td>\n",
       "      <td>0.375734</td>\n",
       "      <td>0.867476</td>\n",
       "      <td>-0.203034</td>\n",
       "      <td>0.150481</td>\n",
       "      <td>0.000026</td>\n",
       "      <td>False</td>\n",
       "    </tr>\n",
       "    <tr>\n",
       "      <th>36</th>\n",
       "      <td>0.760375</td>\n",
       "      <td>0.703869</td>\n",
       "      <td>dummy_constant</td>\n",
       "      <td>0.760375</td>\n",
       "      <td>0.703869</td>\n",
       "      <td>-0.007952</td>\n",
       "      <td>0.109358</td>\n",
       "      <td>0.000026</td>\n",
       "      <td>False</td>\n",
       "    </tr>\n",
       "    <tr>\n",
       "      <th>37</th>\n",
       "      <td>0.905404</td>\n",
       "      <td>0.430265</td>\n",
       "      <td>dummy_constant</td>\n",
       "      <td>0.905404</td>\n",
       "      <td>0.430265</td>\n",
       "      <td>-0.063713</td>\n",
       "      <td>0.169216</td>\n",
       "      <td>0.000027</td>\n",
       "      <td>False</td>\n",
       "    </tr>\n",
       "    <tr>\n",
       "      <th>38</th>\n",
       "      <td>0.057483</td>\n",
       "      <td>1.040084</td>\n",
       "      <td>dummy_constant</td>\n",
       "      <td>0.057483</td>\n",
       "      <td>1.040084</td>\n",
       "      <td>0.021624</td>\n",
       "      <td>0.487512</td>\n",
       "      <td>0.000027</td>\n",
       "      <td>False</td>\n",
       "    </tr>\n",
       "    <tr>\n",
       "      <th>39</th>\n",
       "      <td>0.443818</td>\n",
       "      <td>0.575360</td>\n",
       "      <td>dummy_constant</td>\n",
       "      <td>0.443818</td>\n",
       "      <td>0.575360</td>\n",
       "      <td>-0.425549</td>\n",
       "      <td>0.008836</td>\n",
       "      <td>0.000027</td>\n",
       "      <td>False</td>\n",
       "    </tr>\n",
       "    <tr>\n",
       "      <th>40</th>\n",
       "      <td>0.010622</td>\n",
       "      <td>1.104073</td>\n",
       "      <td>dummy_constant</td>\n",
       "      <td>0.010622</td>\n",
       "      <td>1.104073</td>\n",
       "      <td>0.120271</td>\n",
       "      <td>0.604394</td>\n",
       "      <td>0.000026</td>\n",
       "      <td>False</td>\n",
       "    </tr>\n",
       "    <tr>\n",
       "      <th>41</th>\n",
       "      <td>1.170575</td>\n",
       "      <td>0.034470</td>\n",
       "      <td>dummy_constant</td>\n",
       "      <td>1.170575</td>\n",
       "      <td>0.034470</td>\n",
       "      <td>0.282324</td>\n",
       "      <td>0.666389</td>\n",
       "      <td>0.000027</td>\n",
       "      <td>False</td>\n",
       "    </tr>\n",
       "    <tr>\n",
       "      <th>42</th>\n",
       "      <td>0.498816</td>\n",
       "      <td>0.135495</td>\n",
       "      <td>dummy_constant</td>\n",
       "      <td>0.498816</td>\n",
       "      <td>0.135495</td>\n",
       "      <td>-0.687657</td>\n",
       "      <td>0.132865</td>\n",
       "      <td>0.000026</td>\n",
       "      <td>False</td>\n",
       "    </tr>\n",
       "    <tr>\n",
       "      <th>43</th>\n",
       "      <td>0.763403</td>\n",
       "      <td>0.028556</td>\n",
       "      <td>dummy_constant</td>\n",
       "      <td>0.763403</td>\n",
       "      <td>0.028556</td>\n",
       "      <td>-0.499035</td>\n",
       "      <td>0.291640</td>\n",
       "      <td>0.000026</td>\n",
       "      <td>False</td>\n",
       "    </tr>\n",
       "    <tr>\n",
       "      <th>44</th>\n",
       "      <td>0.830741</td>\n",
       "      <td>0.569553</td>\n",
       "      <td>dummy_constant</td>\n",
       "      <td>0.830741</td>\n",
       "      <td>0.569553</td>\n",
       "      <td>0.112700</td>\n",
       "      <td>0.114227</td>\n",
       "      <td>0.000027</td>\n",
       "      <td>False</td>\n",
       "    </tr>\n",
       "    <tr>\n",
       "      <th>45</th>\n",
       "      <td>0.803876</td>\n",
       "      <td>0.254521</td>\n",
       "      <td>dummy_constant</td>\n",
       "      <td>0.803876</td>\n",
       "      <td>0.254521</td>\n",
       "      <td>-0.308253</td>\n",
       "      <td>0.152600</td>\n",
       "      <td>0.000026</td>\n",
       "      <td>False</td>\n",
       "    </tr>\n",
       "    <tr>\n",
       "      <th>46</th>\n",
       "      <td>0.762561</td>\n",
       "      <td>0.462009</td>\n",
       "      <td>dummy_constant</td>\n",
       "      <td>0.762561</td>\n",
       "      <td>0.462009</td>\n",
       "      <td>-0.129164</td>\n",
       "      <td>0.070382</td>\n",
       "      <td>0.000028</td>\n",
       "      <td>False</td>\n",
       "    </tr>\n",
       "    <tr>\n",
       "      <th>47</th>\n",
       "      <td>0.363175</td>\n",
       "      <td>0.947487</td>\n",
       "      <td>dummy_constant</td>\n",
       "      <td>0.363175</td>\n",
       "      <td>0.947487</td>\n",
       "      <td>-0.061407</td>\n",
       "      <td>0.218965</td>\n",
       "      <td>0.000028</td>\n",
       "      <td>False</td>\n",
       "    </tr>\n",
       "    <tr>\n",
       "      <th>48</th>\n",
       "      <td>0.677943</td>\n",
       "      <td>0.269847</td>\n",
       "      <td>dummy_constant</td>\n",
       "      <td>0.677943</td>\n",
       "      <td>0.269847</td>\n",
       "      <td>-0.565118</td>\n",
       "      <td>0.084634</td>\n",
       "      <td>0.000028</td>\n",
       "      <td>False</td>\n",
       "    </tr>\n",
       "    <tr>\n",
       "      <th>49</th>\n",
       "      <td>0.355014</td>\n",
       "      <td>0.822232</td>\n",
       "      <td>dummy_constant</td>\n",
       "      <td>0.355014</td>\n",
       "      <td>0.822232</td>\n",
       "      <td>-0.295075</td>\n",
       "      <td>0.124854</td>\n",
       "      <td>0.000027</td>\n",
       "      <td>False</td>\n",
       "    </tr>\n",
       "    <tr>\n",
       "      <th>50</th>\n",
       "      <td>0.807602</td>\n",
       "      <td>0.143848</td>\n",
       "      <td>dummy_constant</td>\n",
       "      <td>0.807602</td>\n",
       "      <td>0.143848</td>\n",
       "      <td>-0.232203</td>\n",
       "      <td>0.221464</td>\n",
       "      <td>0.000027</td>\n",
       "      <td>False</td>\n",
       "    </tr>\n",
       "    <tr>\n",
       "      <th>51</th>\n",
       "      <td>0.963759</td>\n",
       "      <td>0.213271</td>\n",
       "      <td>dummy_constant</td>\n",
       "      <td>0.963759</td>\n",
       "      <td>0.213271</td>\n",
       "      <td>0.068495</td>\n",
       "      <td>0.297286</td>\n",
       "      <td>0.000027</td>\n",
       "      <td>False</td>\n",
       "    </tr>\n",
       "    <tr>\n",
       "      <th>52</th>\n",
       "      <td>0.240231</td>\n",
       "      <td>1.238990</td>\n",
       "      <td>dummy_constant</td>\n",
       "      <td>0.240231</td>\n",
       "      <td>1.238990</td>\n",
       "      <td>0.692508</td>\n",
       "      <td>0.613586</td>\n",
       "      <td>0.000030</td>\n",
       "      <td>False</td>\n",
       "    </tr>\n",
       "    <tr>\n",
       "      <th>53</th>\n",
       "      <td>0.765071</td>\n",
       "      <td>0.580532</td>\n",
       "      <td>dummy_constant</td>\n",
       "      <td>0.765071</td>\n",
       "      <td>0.580532</td>\n",
       "      <td>-0.020373</td>\n",
       "      <td>0.076748</td>\n",
       "      <td>0.000027</td>\n",
       "      <td>False</td>\n",
       "    </tr>\n",
       "    <tr>\n",
       "      <th>54</th>\n",
       "      <td>1.307576</td>\n",
       "      <td>0.121235</td>\n",
       "      <td>dummy_constant</td>\n",
       "      <td>1.307576</td>\n",
       "      <td>0.121235</td>\n",
       "      <td>0.715310</td>\n",
       "      <td>0.795641</td>\n",
       "      <td>0.000028</td>\n",
       "      <td>False</td>\n",
       "    </tr>\n",
       "  </tbody>\n",
       "</table>\n",
       "</div>"
      ],
      "text/plain": [
       "          x1        x2               a        y1        y2        c1  \\\n",
       "0   1.321983  1.579754  dummy_constant  1.321983  1.579754  3.228003   \n",
       "1   0.316974  2.589775  dummy_constant  0.316974  2.589775  5.844295   \n",
       "2   1.964690  1.254020  dummy_constant  1.964690  1.254020  4.527004   \n",
       "3   2.109977  1.926856  dummy_constant  2.109977  1.926856  7.089947   \n",
       "4   0.146277  0.669869  dummy_constant  0.146277  0.669869 -0.434294   \n",
       "5   0.000000  0.384700  dummy_constant  0.000000  0.384700 -0.952006   \n",
       "6   0.216704  0.876106  dummy_constant  0.216704  0.876106 -0.111504   \n",
       "7   0.261142  1.024898  dummy_constant  0.261142  1.024898  0.184592   \n",
       "8   0.520700  0.182300  dummy_constant  0.520700  0.182300 -0.758199   \n",
       "9   0.953930  0.502789  dummy_constant  0.953930  0.502789  0.153506   \n",
       "10  0.968635  0.000602  dummy_constant  0.968635  0.000602 -0.161741   \n",
       "11  1.058063  0.204165  dummy_constant  1.058063  0.204165  0.260759   \n",
       "12  0.105640  0.948900  dummy_constant  0.105640  0.948900 -0.068251   \n",
       "13  0.819172  0.268051  dummy_constant  0.819172  0.268051 -0.291155   \n",
       "14  0.100217  1.010195  dummy_constant  0.100217  1.010195  0.031669   \n",
       "15  0.424547  0.900008  dummy_constant  0.424547  0.900008 -0.081603   \n",
       "16  0.067730  0.034291  dummy_constant  0.067730  0.034291 -1.029020   \n",
       "17  0.000000  0.931304  dummy_constant  0.000000  0.931304 -0.232673   \n",
       "18  0.857825  0.721182  dummy_constant  0.857825  0.721182  0.237117   \n",
       "19  0.932366  0.162803  dummy_constant  0.932366  0.162803 -0.011163   \n",
       "20  0.225404  0.970174  dummy_constant  0.225404  0.970174  0.079274   \n",
       "21  0.720139  0.796547  dummy_constant  0.720139  0.796547  0.083803   \n",
       "22  0.027882  0.812450  dummy_constant  0.027882  0.812450 -0.424458   \n",
       "23  0.837641  0.607192  dummy_constant  0.837641  0.607192  0.152236   \n",
       "24  1.249794  0.015544  dummy_constant  1.249794  0.015544  0.464200   \n",
       "25  0.610759  0.856740  dummy_constant  0.610759  0.856740  0.195526   \n",
       "26  1.039865  0.067194  dummy_constant  1.039865  0.067194  0.034563   \n",
       "27  0.034115  1.172364  dummy_constant  0.034115  1.172364  0.286241   \n",
       "28  0.332255  0.761484  dummy_constant  0.332255  0.761484 -0.405294   \n",
       "29  0.971486  0.250430  dummy_constant  0.971486  0.250430  0.069051   \n",
       "30  0.708278  0.466115  dummy_constant  0.708278  0.466115 -0.181705   \n",
       "31  0.609827  0.703942  dummy_constant  0.609827  0.703942 -0.173951   \n",
       "32  0.676374  0.260419  dummy_constant  0.676374  0.260419 -0.566700   \n",
       "33  0.575341  0.827917  dummy_constant  0.575341  0.827917  0.112223   \n",
       "34  0.749460  0.685564  dummy_constant  0.749460  0.685564 -0.044020   \n",
       "35  0.375734  0.867476  dummy_constant  0.375734  0.867476 -0.203034   \n",
       "36  0.760375  0.703869  dummy_constant  0.760375  0.703869 -0.007952   \n",
       "37  0.905404  0.430265  dummy_constant  0.905404  0.430265 -0.063713   \n",
       "38  0.057483  1.040084  dummy_constant  0.057483  1.040084  0.021624   \n",
       "39  0.443818  0.575360  dummy_constant  0.443818  0.575360 -0.425549   \n",
       "40  0.010622  1.104073  dummy_constant  0.010622  1.104073  0.120271   \n",
       "41  1.170575  0.034470  dummy_constant  1.170575  0.034470  0.282324   \n",
       "42  0.498816  0.135495  dummy_constant  0.498816  0.135495 -0.687657   \n",
       "43  0.763403  0.028556  dummy_constant  0.763403  0.028556 -0.499035   \n",
       "44  0.830741  0.569553  dummy_constant  0.830741  0.569553  0.112700   \n",
       "45  0.803876  0.254521  dummy_constant  0.803876  0.254521 -0.308253   \n",
       "46  0.762561  0.462009  dummy_constant  0.762561  0.462009 -0.129164   \n",
       "47  0.363175  0.947487  dummy_constant  0.363175  0.947487 -0.061407   \n",
       "48  0.677943  0.269847  dummy_constant  0.677943  0.269847 -0.565118   \n",
       "49  0.355014  0.822232  dummy_constant  0.355014  0.822232 -0.295075   \n",
       "50  0.807602  0.143848  dummy_constant  0.807602  0.143848 -0.232203   \n",
       "51  0.963759  0.213271  dummy_constant  0.963759  0.213271  0.068495   \n",
       "52  0.240231  1.238990  dummy_constant  0.240231  1.238990  0.692508   \n",
       "53  0.765071  0.580532  dummy_constant  0.765071  0.580532 -0.020373   \n",
       "54  1.307576  0.121235  dummy_constant  1.307576  0.121235  0.715310   \n",
       "\n",
       "          c2  xopt_runtime  xopt_error  \n",
       "0   1.841525      0.000038       False  \n",
       "1   4.400656      0.000009       False  \n",
       "2   2.713863      0.000007       False  \n",
       "3   4.627944      0.000006       False  \n",
       "4   0.153975      0.000008       False  \n",
       "5   0.263294      0.000041       False  \n",
       "6   0.221712      0.000025       False  \n",
       "7   0.332571      0.000024       False  \n",
       "8   0.101362      0.000028       False  \n",
       "9   0.206060      0.000025       False  \n",
       "10  0.469017      0.000025       False  \n",
       "11  0.398952      0.000026       False  \n",
       "12  0.357031      0.000027       False  \n",
       "13  0.155672      0.000026       False  \n",
       "14  0.420126      0.000025       False  \n",
       "15  0.165700      0.000025       False  \n",
       "16  0.403742      0.000026       False  \n",
       "17  0.436023      0.000025       False  \n",
       "18  0.176960      0.000026       False  \n",
       "19  0.300642      0.000027       False  \n",
       "20  0.296467      0.000025       False  \n",
       "21  0.136401      0.000026       False  \n",
       "22  0.320520      0.000027       False  \n",
       "23  0.125492      0.000026       False  \n",
       "24  0.796889      0.000026       False  \n",
       "25  0.139531      0.000026       False  \n",
       "26  0.478775      0.000026       False  \n",
       "27  0.669123      0.000026       False  \n",
       "28  0.096512      0.000027       False  \n",
       "29  0.284584      0.000026       False  \n",
       "30  0.044528      0.000028       False  \n",
       "31  0.053654      0.000027       False  \n",
       "32  0.088507      0.000026       False  \n",
       "33  0.113205      0.000027       False  \n",
       "34  0.096664      0.000028       False  \n",
       "35  0.150481      0.000026       False  \n",
       "36  0.109358      0.000026       False  \n",
       "37  0.169216      0.000027       False  \n",
       "38  0.487512      0.000027       False  \n",
       "39  0.008836      0.000027       False  \n",
       "40  0.604394      0.000026       False  \n",
       "41  0.666389      0.000027       False  \n",
       "42  0.132865      0.000026       False  \n",
       "43  0.291640      0.000026       False  \n",
       "44  0.114227      0.000027       False  \n",
       "45  0.152600      0.000026       False  \n",
       "46  0.070382      0.000028       False  \n",
       "47  0.218965      0.000028       False  \n",
       "48  0.084634      0.000028       False  \n",
       "49  0.124854      0.000027       False  \n",
       "50  0.221464      0.000027       False  \n",
       "51  0.297286      0.000027       False  \n",
       "52  0.613586      0.000030       False  \n",
       "53  0.076748      0.000027       False  \n",
       "54  0.795641      0.000028       False  "
      ]
     },
     "execution_count": 3,
     "metadata": {},
     "output_type": "execute_result"
    }
   ],
   "source": [
    "X.generator.data"
   ]
  },
  {
   "cell_type": "markdown",
   "metadata": {
    "collapsed": false
   },
   "source": [
    "## plot results\n"
   ]
  },
  {
   "cell_type": "code",
   "execution_count": 4,
   "metadata": {
    "collapsed": false,
    "execution": {
     "iopub.execute_input": "2024-04-24T14:46:04.814770Z",
     "iopub.status.busy": "2024-04-24T14:46:04.814583Z",
     "iopub.status.idle": "2024-04-24T14:46:05.303834Z",
     "shell.execute_reply": "2024-04-24T14:46:05.303201Z"
    }
   },
   "outputs": [
    {
     "data": {
      "image/png": "[encoded data removed]",
      "text/plain": [
       "<Figure size 640x480 with 1 Axes>"
      ]
     },
     "metadata": {},
     "output_type": "display_data"
    }
   ],
   "source": [
    "import matplotlib.pyplot as plt\n",
    "import numpy as np\n",
    "import pandas as pd\n",
    "\n",
    "fig, ax = plt.subplots()\n",
    "\n",
    "theta = np.linspace(0, np.pi / 2)\n",
    "r = np.sqrt(1 + 0.1 * np.cos(16 * theta))\n",
    "x_1 = r * np.sin(theta)\n",
    "x_2_lower = r * np.cos(theta)\n",
    "x_2_upper = (0.5 - (x_1 - 0.5) ** 2) ** 0.5 + 0.5\n",
    "\n",
    "z = np.zeros_like(x_1)\n",
    "\n",
    "# ax2.plot(x_1, x_2_lower,'r')\n",
    "ax.fill_between(x_1, z, x_2_lower, fc=\"white\")\n",
    "circle = plt.Circle(\n",
    "    (0.5, 0.5), 0.5 ** 0.5, color=\"r\", alpha=0.25, zorder=0, label=\"Valid Region\"\n",
    ")\n",
    "ax.add_patch(circle)\n",
    "history = pd.concat(\n",
    "    [X.data, X.vocs.feasibility_data(X.data)], axis=1, ignore_index=False\n",
    ")\n",
    "\n",
    "\n",
    "ax.plot(*history[[\"x1\", \"x2\"]][history[\"feasible\"]].to_numpy().T, \".C1\")\n",
    "ax.plot(*history[[\"x1\", \"x2\"]][~history[\"feasible\"]].to_numpy().T, \".C2\")\n",
    "\n",
    "ax.set_xlim(0, 3.14)\n",
    "ax.set_ylim(0, 3.14)\n",
    "ax.set_xlabel(\"x1\")\n",
    "ax.set_ylabel(\"x2\")\n",
    "ax.set_aspect(\"equal\")"
   ]
  },
  {
   "cell_type": "markdown",
   "metadata": {
    "collapsed": false
   },
   "source": [
    "### Plot path through input space"
   ]
  },
  {
   "cell_type": "code",
   "execution_count": 5,
   "metadata": {
    "collapsed": false,
    "execution": {
     "iopub.execute_input": "2024-04-24T14:46:05.306205Z",
     "iopub.status.busy": "2024-04-24T14:46:05.305932Z",
     "iopub.status.idle": "2024-04-24T14:46:05.426019Z",
     "shell.execute_reply": "2024-04-24T14:46:05.425380Z"
    }
   },
   "outputs": [
    {
     "data": {
      "image/png": "[encoded data removed]",
      "text/plain": [
       "<Figure size 640x480 with 1 Axes>"
      ]
     },
     "metadata": {},
     "output_type": "display_data"
    }
   ],
   "source": [
    "ax = history.plot(\"x1\", \"x2\")\n",
    "ax.set_ylim(0, 3.14)\n",
    "ax.set_xlim(0, 3.14)\n",
    "ax.set_aspect(\"equal\")"
   ]
  },
  {
   "cell_type": "code",
   "execution_count": 6,
   "metadata": {
    "collapsed": false,
    "execution": {
     "iopub.execute_input": "2024-04-24T14:46:05.428567Z",
     "iopub.status.busy": "2024-04-24T14:46:05.428148Z",
     "iopub.status.idle": "2024-04-24T14:46:09.906591Z",
     "shell.execute_reply": "2024-04-24T14:46:09.905927Z"
    }
   },
   "outputs": [
    {
     "name": "stdout",
     "output_type": "stream",
     "text": [
      "[[0.06038684 0.89401111]]\n"
     ]
    },
    {
     "data": {
      "text/plain": [
       "[<matplotlib.lines.Line2D at 0x7f4a0aec7d60>]"
      ]
     },
     "execution_count": 6,
     "metadata": {},
     "output_type": "execute_result"
    },
    {
     "data": {
      "image/png": "[encoded data removed]",
      "text/plain": [
       "<Figure size 800x800 with 2 Axes>"
      ]
     },
     "metadata": {},
     "output_type": "display_data"
    },
    {
     "data": {
      "image/png": "[encoded data removed]",
      "text/plain": [
       "<Figure size 800x800 with 2 Axes>"
      ]
     },
     "metadata": {},
     "output_type": "display_data"
    }
   ],
   "source": [
    "# plot the acquisition function\n",
    "from xopt.generators.bayesian.objectives import feasibility\n",
    "\n",
    "bounds = X.generator.vocs.bounds\n",
    "model = X.generator.model\n",
    "\n",
    "# create mesh\n",
    "n = 100\n",
    "x = torch.linspace(*bounds.T[0], n)\n",
    "y = torch.linspace(*bounds.T[1], n)\n",
    "xx, yy = torch.meshgrid(x, y)\n",
    "pts = torch.hstack([ele.reshape(-1, 1) for ele in (xx, yy)]).double()\n",
    "\n",
    "xx, yy = xx.numpy(), yy.numpy()\n",
    "\n",
    "acq_func = X.generator.get_acquisition(model)\n",
    "with torch.no_grad():\n",
    "    acq_pts = pts.unsqueeze(1)\n",
    "    acq = acq_func(acq_pts)\n",
    "\n",
    "    fig, ax = plt.subplots(figsize=(8,8))\n",
    "    c = ax.pcolor(xx, yy, acq.reshape(n, n), cmap=\"Blues\")\n",
    "    fig.colorbar(c)\n",
    "    ax.set_title(\"Acquisition function\")\n",
    "\n",
    "    ax.plot(*history[[\"x1\", \"x2\"]][history[\"feasible\"]].to_numpy().T, \".C1\")\n",
    "    ax.plot(*history[[\"x1\", \"x2\"]][~history[\"feasible\"]].to_numpy().T, \".C2\")\n",
    "\n",
    "    ax.plot(*history[[\"x1\", \"x2\"]].to_numpy()[-1].T, \"+\")\n",
    "\n",
    "    feas = feasibility(pts.unsqueeze(1), model, X.vocs).flatten()\n",
    "\n",
    "    fig2, ax2 = plt.subplots(figsize=(8,8))\n",
    "    c = ax2.pcolor(xx, yy, feas.reshape(n, n))\n",
    "    fig2.colorbar(c)\n",
    "    ax2.set_title(\"Feasible Region\")\n",
    "\n",
    "candidate = pd.DataFrame(X.generator.generate(1), index=[0])\n",
    "print(candidate[[\"x1\", \"x2\"]].to_numpy())\n",
    "ax.plot(*candidate[[\"x1\", \"x2\"]].to_numpy()[0], \"o\")"
   ]
  }
 ],
 "metadata": {
  "interpreter": {
   "hash": "72034539424920dfb606fe3b820b3f27dca0cbf1c69938110810ec4641e275b1"
  },
  "kernelspec": {
   "display_name": "Python 3 (ipykernel)",
   "language": "python",
   "name": "python3"
  },
  "language_info": {
   "codemirror_mode": {
    "name": "ipython",
    "version": 3
   },
   "file_extension": ".py",
   "mimetype": "text/x-python",
   "name": "python",
   "nbconvert_exporter": "python",
   "pygments_lexer": "ipython3",
   "version": "3.9.19"
  }
 },
 "nbformat": 4,
 "nbformat_minor": 4
}
