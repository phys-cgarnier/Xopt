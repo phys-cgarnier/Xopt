{
 "cells": [
  {
   "cell_type": "markdown",
   "metadata": {},
   "source": [
    "\n",
    "# Multi-objective Bayesian Optimization\n",
    "\n",
    "\n",
    "TNK function\n",
    "$n=2$ variables:\n",
    "$x_i \\in [0, \\pi], i=1,2$\n",
    "\n",
    "Objectives:\n",
    "- $f_i(x) = x_i$\n",
    "\n",
    "Constraints:\n",
    "- $g_1(x) = -x_1^2 -x_2^2 + 1 + 0.1 \\cos\\left(16 \\arctan \\frac{x_1}{x_2}\\right) \\le 0$\n",
    "- $g_2(x) = (x_1 - 1/2)^2 + (x_2-1/2)^2 \\le 0.5$"
   ]
  },
  {
   "cell_type": "code",
   "execution_count": 1,
   "metadata": {
    "collapsed": false,
    "execution": {
     "iopub.execute_input": "2024-08-08T16:18:20.107549Z",
     "iopub.status.busy": "2024-08-08T16:18:20.107363Z",
     "iopub.status.idle": "2024-08-08T16:18:21.428694Z",
     "shell.execute_reply": "2024-08-08T16:18:21.428084Z"
    }
   },
   "outputs": [],
   "source": [
    "import os\n",
    "SMOKE_TEST = os.environ.get(\"SMOKE_TEST\")\n",
    "NUM_STEPS = 2 if SMOKE_TEST else 50\n",
    "\n",
    "# Ignore all warnings\n",
    "import warnings\n",
    "warnings.filterwarnings(\"ignore\")\n",
    "\n",
    "import torch\n",
    "from xopt import Xopt\n",
    "\n",
    "\n",
    "YAML = \"\"\"\n",
    "generator:\n",
    "    name: mobo\n",
    "    reference_point: {y1: 1.5, y2: 1.5}\n",
    "\n",
    "evaluator:\n",
    "    function: xopt.resources.test_functions.tnk.evaluate_TNK\n",
    "\n",
    "vocs:\n",
    "    variables:\n",
    "        x1: [0, 3.14159]\n",
    "        x2: [0, 3.14159]\n",
    "    objectives: {y1: MINIMIZE, y2: MINIMIZE}\n",
    "    constraints:\n",
    "        c1: [GREATER_THAN, 0]\n",
    "        c2: [LESS_THAN, 0.5]\n",
    "    constants: {a: dummy_constant}\n",
    "\n",
    "\"\"\""
   ]
  },
  {
   "cell_type": "code",
   "execution_count": 2,
   "metadata": {
    "collapsed": false,
    "execution": {
     "iopub.execute_input": "2024-08-08T16:18:21.431627Z",
     "iopub.status.busy": "2024-08-08T16:18:21.431374Z",
     "iopub.status.idle": "2024-08-08T16:19:04.916599Z",
     "shell.execute_reply": "2024-08-08T16:19:04.915982Z"
    }
   },
   "outputs": [
    {
     "name": "stdout",
     "output_type": "stream",
     "text": [
      "0\n"
     ]
    },
    {
     "name": "stdout",
     "output_type": "stream",
     "text": [
      "1\n"
     ]
    },
    {
     "name": "stdout",
     "output_type": "stream",
     "text": [
      "2\n"
     ]
    },
    {
     "name": "stdout",
     "output_type": "stream",
     "text": [
      "3\n"
     ]
    },
    {
     "name": "stdout",
     "output_type": "stream",
     "text": [
      "4\n"
     ]
    },
    {
     "name": "stdout",
     "output_type": "stream",
     "text": [
      "5\n"
     ]
    },
    {
     "name": "stdout",
     "output_type": "stream",
     "text": [
      "6\n"
     ]
    },
    {
     "name": "stdout",
     "output_type": "stream",
     "text": [
      "7\n"
     ]
    },
    {
     "name": "stdout",
     "output_type": "stream",
     "text": [
      "8\n"
     ]
    },
    {
     "name": "stdout",
     "output_type": "stream",
     "text": [
      "9\n"
     ]
    },
    {
     "name": "stdout",
     "output_type": "stream",
     "text": [
      "10\n"
     ]
    },
    {
     "name": "stdout",
     "output_type": "stream",
     "text": [
      "11\n"
     ]
    },
    {
     "name": "stdout",
     "output_type": "stream",
     "text": [
      "12\n"
     ]
    },
    {
     "name": "stdout",
     "output_type": "stream",
     "text": [
      "13\n"
     ]
    },
    {
     "name": "stdout",
     "output_type": "stream",
     "text": [
      "14\n"
     ]
    },
    {
     "name": "stdout",
     "output_type": "stream",
     "text": [
      "15\n"
     ]
    },
    {
     "name": "stdout",
     "output_type": "stream",
     "text": [
      "16\n"
     ]
    },
    {
     "name": "stdout",
     "output_type": "stream",
     "text": [
      "17\n"
     ]
    },
    {
     "name": "stdout",
     "output_type": "stream",
     "text": [
      "18\n"
     ]
    },
    {
     "name": "stdout",
     "output_type": "stream",
     "text": [
      "19\n"
     ]
    },
    {
     "name": "stdout",
     "output_type": "stream",
     "text": [
      "20\n"
     ]
    },
    {
     "name": "stdout",
     "output_type": "stream",
     "text": [
      "21\n"
     ]
    },
    {
     "name": "stdout",
     "output_type": "stream",
     "text": [
      "22\n"
     ]
    },
    {
     "name": "stdout",
     "output_type": "stream",
     "text": [
      "23\n"
     ]
    },
    {
     "name": "stdout",
     "output_type": "stream",
     "text": [
      "24\n"
     ]
    },
    {
     "name": "stdout",
     "output_type": "stream",
     "text": [
      "25\n"
     ]
    },
    {
     "name": "stdout",
     "output_type": "stream",
     "text": [
      "26\n"
     ]
    },
    {
     "name": "stdout",
     "output_type": "stream",
     "text": [
      "27\n"
     ]
    },
    {
     "name": "stdout",
     "output_type": "stream",
     "text": [
      "28\n"
     ]
    },
    {
     "name": "stdout",
     "output_type": "stream",
     "text": [
      "29\n"
     ]
    },
    {
     "name": "stdout",
     "output_type": "stream",
     "text": [
      "30\n"
     ]
    },
    {
     "name": "stdout",
     "output_type": "stream",
     "text": [
      "31\n"
     ]
    },
    {
     "name": "stdout",
     "output_type": "stream",
     "text": [
      "32\n"
     ]
    },
    {
     "name": "stdout",
     "output_type": "stream",
     "text": [
      "33\n"
     ]
    },
    {
     "name": "stdout",
     "output_type": "stream",
     "text": [
      "34\n"
     ]
    },
    {
     "name": "stdout",
     "output_type": "stream",
     "text": [
      "35\n"
     ]
    },
    {
     "name": "stdout",
     "output_type": "stream",
     "text": [
      "36\n"
     ]
    },
    {
     "name": "stdout",
     "output_type": "stream",
     "text": [
      "37\n"
     ]
    },
    {
     "name": "stdout",
     "output_type": "stream",
     "text": [
      "38\n"
     ]
    },
    {
     "name": "stdout",
     "output_type": "stream",
     "text": [
      "39\n"
     ]
    },
    {
     "name": "stdout",
     "output_type": "stream",
     "text": [
      "40\n"
     ]
    },
    {
     "name": "stdout",
     "output_type": "stream",
     "text": [
      "41\n"
     ]
    },
    {
     "name": "stdout",
     "output_type": "stream",
     "text": [
      "42\n"
     ]
    },
    {
     "name": "stdout",
     "output_type": "stream",
     "text": [
      "43\n"
     ]
    },
    {
     "name": "stdout",
     "output_type": "stream",
     "text": [
      "44\n"
     ]
    },
    {
     "name": "stdout",
     "output_type": "stream",
     "text": [
      "45\n"
     ]
    },
    {
     "name": "stdout",
     "output_type": "stream",
     "text": [
      "46\n"
     ]
    },
    {
     "name": "stdout",
     "output_type": "stream",
     "text": [
      "47\n"
     ]
    },
    {
     "name": "stdout",
     "output_type": "stream",
     "text": [
      "48\n"
     ]
    },
    {
     "name": "stdout",
     "output_type": "stream",
     "text": [
      "49\n"
     ]
    }
   ],
   "source": [
    "X = Xopt.from_yaml(YAML)\n",
    "\n",
    "# for testing purposes only\n",
    "if SMOKE_TEST:\n",
    "    X.generator.numerical_optimizer.n_restarts = 1\n",
    "    X.generator.n_monte_carlo_samples = 1\n",
    "\n",
    "X.random_evaluate(5)\n",
    "for i in range(NUM_STEPS):\n",
    "    print(i)\n",
    "    X.step()"
   ]
  },
  {
   "cell_type": "code",
   "execution_count": 3,
   "metadata": {
    "collapsed": false,
    "execution": {
     "iopub.execute_input": "2024-08-08T16:19:04.919736Z",
     "iopub.status.busy": "2024-08-08T16:19:04.919195Z",
     "iopub.status.idle": "2024-08-08T16:19:04.943226Z",
     "shell.execute_reply": "2024-08-08T16:19:04.942625Z"
    }
   },
   "outputs": [
    {
     "data": {
      "text/html": [
       "<div>\n",
       "<style scoped>\n",
       "    .dataframe tbody tr th:only-of-type {\n",
       "        vertical-align: middle;\n",
       "    }\n",
       "\n",
       "    .dataframe tbody tr th {\n",
       "        vertical-align: top;\n",
       "    }\n",
       "\n",
       "    .dataframe thead th {\n",
       "        text-align: right;\n",
       "    }\n",
       "</style>\n",
       "<table border=\"1\" class=\"dataframe\">\n",
       "  <thead>\n",
       "    <tr style=\"text-align: right;\">\n",
       "      <th></th>\n",
       "      <th>x1</th>\n",
       "      <th>x2</th>\n",
       "      <th>a</th>\n",
       "      <th>y1</th>\n",
       "      <th>y2</th>\n",
       "      <th>c1</th>\n",
       "      <th>c2</th>\n",
       "      <th>xopt_runtime</th>\n",
       "      <th>xopt_error</th>\n",
       "    </tr>\n",
       "  </thead>\n",
       "  <tbody>\n",
       "    <tr>\n",
       "      <th>0</th>\n",
       "      <td>1.226027</td>\n",
       "      <td>1.177138</td>\n",
       "      <td>dummy_constant</td>\n",
       "      <td>1.226027</td>\n",
       "      <td>1.177138</td>\n",
       "      <td>1.794047</td>\n",
       "      <td>0.985632</td>\n",
       "      <td>0.000037</td>\n",
       "      <td>False</td>\n",
       "    </tr>\n",
       "    <tr>\n",
       "      <th>1</th>\n",
       "      <td>2.353214</td>\n",
       "      <td>0.251122</td>\n",
       "      <td>dummy_constant</td>\n",
       "      <td>2.353214</td>\n",
       "      <td>0.251122</td>\n",
       "      <td>4.613662</td>\n",
       "      <td>3.496344</td>\n",
       "      <td>0.000009</td>\n",
       "      <td>False</td>\n",
       "    </tr>\n",
       "    <tr>\n",
       "      <th>2</th>\n",
       "      <td>0.174498</td>\n",
       "      <td>0.615726</td>\n",
       "      <td>dummy_constant</td>\n",
       "      <td>0.174498</td>\n",
       "      <td>0.615726</td>\n",
       "      <td>-0.561472</td>\n",
       "      <td>0.119344</td>\n",
       "      <td>0.000007</td>\n",
       "      <td>False</td>\n",
       "    </tr>\n",
       "    <tr>\n",
       "      <th>3</th>\n",
       "      <td>1.161962</td>\n",
       "      <td>2.161172</td>\n",
       "      <td>dummy_constant</td>\n",
       "      <td>1.161962</td>\n",
       "      <td>2.161172</td>\n",
       "      <td>5.024722</td>\n",
       "      <td>3.197684</td>\n",
       "      <td>0.000006</td>\n",
       "      <td>False</td>\n",
       "    </tr>\n",
       "    <tr>\n",
       "      <th>4</th>\n",
       "      <td>1.890390</td>\n",
       "      <td>1.346494</td>\n",
       "      <td>dummy_constant</td>\n",
       "      <td>1.890390</td>\n",
       "      <td>1.346494</td>\n",
       "      <td>4.475415</td>\n",
       "      <td>2.649738</td>\n",
       "      <td>0.000005</td>\n",
       "      <td>False</td>\n",
       "    </tr>\n",
       "    <tr>\n",
       "      <th>5</th>\n",
       "      <td>0.064636</td>\n",
       "      <td>0.233836</td>\n",
       "      <td>dummy_constant</td>\n",
       "      <td>0.064636</td>\n",
       "      <td>0.233836</td>\n",
       "      <td>-0.902435</td>\n",
       "      <td>0.260385</td>\n",
       "      <td>0.000027</td>\n",
       "      <td>False</td>\n",
       "    </tr>\n",
       "    <tr>\n",
       "      <th>6</th>\n",
       "      <td>0.216450</td>\n",
       "      <td>0.908860</td>\n",
       "      <td>dummy_constant</td>\n",
       "      <td>0.216450</td>\n",
       "      <td>0.908860</td>\n",
       "      <td>-0.044546</td>\n",
       "      <td>0.247567</td>\n",
       "      <td>0.000025</td>\n",
       "      <td>False</td>\n",
       "    </tr>\n",
       "    <tr>\n",
       "      <th>7</th>\n",
       "      <td>0.221365</td>\n",
       "      <td>0.974235</td>\n",
       "      <td>dummy_constant</td>\n",
       "      <td>0.221365</td>\n",
       "      <td>0.974235</td>\n",
       "      <td>0.088899</td>\n",
       "      <td>0.302537</td>\n",
       "      <td>0.000025</td>\n",
       "      <td>False</td>\n",
       "    </tr>\n",
       "    <tr>\n",
       "      <th>8</th>\n",
       "      <td>0.772418</td>\n",
       "      <td>0.250755</td>\n",
       "      <td>dummy_constant</td>\n",
       "      <td>0.772418</td>\n",
       "      <td>0.250755</td>\n",
       "      <td>-0.371003</td>\n",
       "      <td>0.136335</td>\n",
       "      <td>0.000027</td>\n",
       "      <td>False</td>\n",
       "    </tr>\n",
       "    <tr>\n",
       "      <th>9</th>\n",
       "      <td>1.003401</td>\n",
       "      <td>0.366239</td>\n",
       "      <td>dummy_constant</td>\n",
       "      <td>1.003401</td>\n",
       "      <td>0.366239</td>\n",
       "      <td>0.063415</td>\n",
       "      <td>0.271304</td>\n",
       "      <td>0.000026</td>\n",
       "      <td>False</td>\n",
       "    </tr>\n",
       "    <tr>\n",
       "      <th>10</th>\n",
       "      <td>1.406101</td>\n",
       "      <td>0.041845</td>\n",
       "      <td>dummy_constant</td>\n",
       "      <td>1.406101</td>\n",
       "      <td>0.041845</td>\n",
       "      <td>0.889988</td>\n",
       "      <td>1.030925</td>\n",
       "      <td>0.000027</td>\n",
       "      <td>False</td>\n",
       "    </tr>\n",
       "    <tr>\n",
       "      <th>11</th>\n",
       "      <td>0.419499</td>\n",
       "      <td>0.159175</td>\n",
       "      <td>dummy_constant</td>\n",
       "      <td>0.419499</td>\n",
       "      <td>0.159175</td>\n",
       "      <td>-0.887353</td>\n",
       "      <td>0.122642</td>\n",
       "      <td>0.000026</td>\n",
       "      <td>False</td>\n",
       "    </tr>\n",
       "    <tr>\n",
       "      <th>12</th>\n",
       "      <td>0.000000</td>\n",
       "      <td>0.924268</td>\n",
       "      <td>dummy_constant</td>\n",
       "      <td>0.000000</td>\n",
       "      <td>0.924268</td>\n",
       "      <td>-0.245729</td>\n",
       "      <td>0.430003</td>\n",
       "      <td>0.000027</td>\n",
       "      <td>False</td>\n",
       "    </tr>\n",
       "    <tr>\n",
       "      <th>13</th>\n",
       "      <td>0.571482</td>\n",
       "      <td>0.796627</td>\n",
       "      <td>dummy_constant</td>\n",
       "      <td>0.571482</td>\n",
       "      <td>0.796627</td>\n",
       "      <td>0.047391</td>\n",
       "      <td>0.093098</td>\n",
       "      <td>0.000026</td>\n",
       "      <td>False</td>\n",
       "    </tr>\n",
       "    <tr>\n",
       "      <th>14</th>\n",
       "      <td>1.451831</td>\n",
       "      <td>0.453488</td>\n",
       "      <td>dummy_constant</td>\n",
       "      <td>1.451831</td>\n",
       "      <td>0.453488</td>\n",
       "      <td>1.300335</td>\n",
       "      <td>0.908145</td>\n",
       "      <td>0.000026</td>\n",
       "      <td>False</td>\n",
       "    </tr>\n",
       "    <tr>\n",
       "      <th>15</th>\n",
       "      <td>0.352896</td>\n",
       "      <td>0.885308</td>\n",
       "      <td>dummy_constant</td>\n",
       "      <td>0.352896</td>\n",
       "      <td>0.885308</td>\n",
       "      <td>-0.189409</td>\n",
       "      <td>0.170102</td>\n",
       "      <td>0.000027</td>\n",
       "      <td>False</td>\n",
       "    </tr>\n",
       "    <tr>\n",
       "      <th>16</th>\n",
       "      <td>0.120618</td>\n",
       "      <td>1.046232</td>\n",
       "      <td>dummy_constant</td>\n",
       "      <td>0.120618</td>\n",
       "      <td>1.046232</td>\n",
       "      <td>0.135408</td>\n",
       "      <td>0.442300</td>\n",
       "      <td>0.000029</td>\n",
       "      <td>False</td>\n",
       "    </tr>\n",
       "    <tr>\n",
       "      <th>17</th>\n",
       "      <td>1.077799</td>\n",
       "      <td>0.146057</td>\n",
       "      <td>dummy_constant</td>\n",
       "      <td>1.077799</td>\n",
       "      <td>0.146057</td>\n",
       "      <td>0.238145</td>\n",
       "      <td>0.459127</td>\n",
       "      <td>0.000028</td>\n",
       "      <td>False</td>\n",
       "    </tr>\n",
       "    <tr>\n",
       "      <th>18</th>\n",
       "      <td>0.759828</td>\n",
       "      <td>0.747830</td>\n",
       "      <td>dummy_constant</td>\n",
       "      <td>0.759828</td>\n",
       "      <td>0.747830</td>\n",
       "      <td>0.037398</td>\n",
       "      <td>0.128930</td>\n",
       "      <td>0.000028</td>\n",
       "      <td>False</td>\n",
       "    </tr>\n",
       "    <tr>\n",
       "      <th>19</th>\n",
       "      <td>0.169042</td>\n",
       "      <td>1.001812</td>\n",
       "      <td>dummy_constant</td>\n",
       "      <td>0.169042</td>\n",
       "      <td>1.001812</td>\n",
       "      <td>0.121494</td>\n",
       "      <td>0.361349</td>\n",
       "      <td>0.000028</td>\n",
       "      <td>False</td>\n",
       "    </tr>\n",
       "    <tr>\n",
       "      <th>20</th>\n",
       "      <td>0.508523</td>\n",
       "      <td>0.896572</td>\n",
       "      <td>dummy_constant</td>\n",
       "      <td>0.508523</td>\n",
       "      <td>0.896572</td>\n",
       "      <td>0.101480</td>\n",
       "      <td>0.157342</td>\n",
       "      <td>0.000028</td>\n",
       "      <td>False</td>\n",
       "    </tr>\n",
       "    <tr>\n",
       "      <th>21</th>\n",
       "      <td>0.901009</td>\n",
       "      <td>0.585496</td>\n",
       "      <td>dummy_constant</td>\n",
       "      <td>0.901009</td>\n",
       "      <td>0.585496</td>\n",
       "      <td>0.252533</td>\n",
       "      <td>0.168118</td>\n",
       "      <td>0.000026</td>\n",
       "      <td>False</td>\n",
       "    </tr>\n",
       "    <tr>\n",
       "      <th>22</th>\n",
       "      <td>0.302074</td>\n",
       "      <td>0.180857</td>\n",
       "      <td>dummy_constant</td>\n",
       "      <td>0.302074</td>\n",
       "      <td>0.180857</td>\n",
       "      <td>-0.805883</td>\n",
       "      <td>0.141027</td>\n",
       "      <td>0.000027</td>\n",
       "      <td>False</td>\n",
       "    </tr>\n",
       "    <tr>\n",
       "      <th>23</th>\n",
       "      <td>1.033957</td>\n",
       "      <td>0.060140</td>\n",
       "      <td>dummy_constant</td>\n",
       "      <td>1.033957</td>\n",
       "      <td>0.060140</td>\n",
       "      <td>0.012868</td>\n",
       "      <td>0.478586</td>\n",
       "      <td>0.000027</td>\n",
       "      <td>False</td>\n",
       "    </tr>\n",
       "    <tr>\n",
       "      <th>24</th>\n",
       "      <td>0.753010</td>\n",
       "      <td>0.359881</td>\n",
       "      <td>dummy_constant</td>\n",
       "      <td>0.753010</td>\n",
       "      <td>0.359881</td>\n",
       "      <td>-0.369452</td>\n",
       "      <td>0.083647</td>\n",
       "      <td>0.000028</td>\n",
       "      <td>False</td>\n",
       "    </tr>\n",
       "    <tr>\n",
       "      <th>25</th>\n",
       "      <td>0.812577</td>\n",
       "      <td>0.637093</td>\n",
       "      <td>dummy_constant</td>\n",
       "      <td>0.812577</td>\n",
       "      <td>0.637093</td>\n",
       "      <td>0.101083</td>\n",
       "      <td>0.116499</td>\n",
       "      <td>0.000027</td>\n",
       "      <td>False</td>\n",
       "    </tr>\n",
       "    <tr>\n",
       "      <th>26</th>\n",
       "      <td>0.932704</td>\n",
       "      <td>0.426377</td>\n",
       "      <td>dummy_constant</td>\n",
       "      <td>0.932704</td>\n",
       "      <td>0.426377</td>\n",
       "      <td>-0.032063</td>\n",
       "      <td>0.192653</td>\n",
       "      <td>0.000026</td>\n",
       "      <td>False</td>\n",
       "    </tr>\n",
       "    <tr>\n",
       "      <th>27</th>\n",
       "      <td>0.817363</td>\n",
       "      <td>0.198275</td>\n",
       "      <td>dummy_constant</td>\n",
       "      <td>0.817363</td>\n",
       "      <td>0.198275</td>\n",
       "      <td>-0.213983</td>\n",
       "      <td>0.191757</td>\n",
       "      <td>0.000028</td>\n",
       "      <td>False</td>\n",
       "    </tr>\n",
       "    <tr>\n",
       "      <th>28</th>\n",
       "      <td>0.653707</td>\n",
       "      <td>0.784283</td>\n",
       "      <td>dummy_constant</td>\n",
       "      <td>0.653707</td>\n",
       "      <td>0.784283</td>\n",
       "      <td>0.030274</td>\n",
       "      <td>0.104443</td>\n",
       "      <td>0.000028</td>\n",
       "      <td>False</td>\n",
       "    </tr>\n",
       "    <tr>\n",
       "      <th>29</th>\n",
       "      <td>0.075681</td>\n",
       "      <td>1.522976</td>\n",
       "      <td>dummy_constant</td>\n",
       "      <td>0.075681</td>\n",
       "      <td>1.522976</td>\n",
       "      <td>1.255113</td>\n",
       "      <td>1.226525</td>\n",
       "      <td>0.000026</td>\n",
       "      <td>False</td>\n",
       "    </tr>\n",
       "    <tr>\n",
       "      <th>30</th>\n",
       "      <td>0.080858</td>\n",
       "      <td>0.521906</td>\n",
       "      <td>dummy_constant</td>\n",
       "      <td>0.080858</td>\n",
       "      <td>0.521906</td>\n",
       "      <td>-0.643463</td>\n",
       "      <td>0.176160</td>\n",
       "      <td>0.000030</td>\n",
       "      <td>False</td>\n",
       "    </tr>\n",
       "    <tr>\n",
       "      <th>31</th>\n",
       "      <td>0.247747</td>\n",
       "      <td>0.541177</td>\n",
       "      <td>dummy_constant</td>\n",
       "      <td>0.247747</td>\n",
       "      <td>0.541177</td>\n",
       "      <td>-0.729072</td>\n",
       "      <td>0.065327</td>\n",
       "      <td>0.000027</td>\n",
       "      <td>False</td>\n",
       "    </tr>\n",
       "    <tr>\n",
       "      <th>32</th>\n",
       "      <td>0.861550</td>\n",
       "      <td>0.010118</td>\n",
       "      <td>dummy_constant</td>\n",
       "      <td>0.861550</td>\n",
       "      <td>0.010118</td>\n",
       "      <td>-0.355869</td>\n",
       "      <td>0.370703</td>\n",
       "      <td>0.000026</td>\n",
       "      <td>False</td>\n",
       "    </tr>\n",
       "    <tr>\n",
       "      <th>33</th>\n",
       "      <td>0.036874</td>\n",
       "      <td>1.022281</td>\n",
       "      <td>dummy_constant</td>\n",
       "      <td>0.036874</td>\n",
       "      <td>1.022281</td>\n",
       "      <td>-0.037399</td>\n",
       "      <td>0.487263</td>\n",
       "      <td>0.000027</td>\n",
       "      <td>False</td>\n",
       "    </tr>\n",
       "    <tr>\n",
       "      <th>34</th>\n",
       "      <td>2.262310</td>\n",
       "      <td>3.061677</td>\n",
       "      <td>dummy_constant</td>\n",
       "      <td>2.262310</td>\n",
       "      <td>3.061677</td>\n",
       "      <td>13.564597</td>\n",
       "      <td>9.667926</td>\n",
       "      <td>0.000028</td>\n",
       "      <td>False</td>\n",
       "    </tr>\n",
       "    <tr>\n",
       "      <th>35</th>\n",
       "      <td>0.372119</td>\n",
       "      <td>0.926580</td>\n",
       "      <td>dummy_constant</td>\n",
       "      <td>0.372119</td>\n",
       "      <td>0.926580</td>\n",
       "      <td>-0.101485</td>\n",
       "      <td>0.198324</td>\n",
       "      <td>0.000029</td>\n",
       "      <td>False</td>\n",
       "    </tr>\n",
       "    <tr>\n",
       "      <th>36</th>\n",
       "      <td>0.808396</td>\n",
       "      <td>0.084335</td>\n",
       "      <td>dummy_constant</td>\n",
       "      <td>0.808396</td>\n",
       "      <td>0.084335</td>\n",
       "      <td>-0.330160</td>\n",
       "      <td>0.267885</td>\n",
       "      <td>0.000028</td>\n",
       "      <td>False</td>\n",
       "    </tr>\n",
       "    <tr>\n",
       "      <th>37</th>\n",
       "      <td>0.085894</td>\n",
       "      <td>1.056906</td>\n",
       "      <td>dummy_constant</td>\n",
       "      <td>0.085894</td>\n",
       "      <td>1.056906</td>\n",
       "      <td>0.097434</td>\n",
       "      <td>0.481628</td>\n",
       "      <td>0.000028</td>\n",
       "      <td>False</td>\n",
       "    </tr>\n",
       "    <tr>\n",
       "      <th>38</th>\n",
       "      <td>0.818906</td>\n",
       "      <td>0.377871</td>\n",
       "      <td>dummy_constant</td>\n",
       "      <td>0.818906</td>\n",
       "      <td>0.377871</td>\n",
       "      <td>-0.267176</td>\n",
       "      <td>0.116617</td>\n",
       "      <td>0.000029</td>\n",
       "      <td>False</td>\n",
       "    </tr>\n",
       "    <tr>\n",
       "      <th>39</th>\n",
       "      <td>0.280639</td>\n",
       "      <td>0.619076</td>\n",
       "      <td>dummy_constant</td>\n",
       "      <td>0.280639</td>\n",
       "      <td>0.619076</td>\n",
       "      <td>-0.624440</td>\n",
       "      <td>0.062299</td>\n",
       "      <td>0.000029</td>\n",
       "      <td>False</td>\n",
       "    </tr>\n",
       "    <tr>\n",
       "      <th>40</th>\n",
       "      <td>0.462973</td>\n",
       "      <td>0.357044</td>\n",
       "      <td>dummy_constant</td>\n",
       "      <td>0.462973</td>\n",
       "      <td>0.357044</td>\n",
       "      <td>-0.611582</td>\n",
       "      <td>0.021807</td>\n",
       "      <td>0.000029</td>\n",
       "      <td>False</td>\n",
       "    </tr>\n",
       "    <tr>\n",
       "      <th>41</th>\n",
       "      <td>0.452678</td>\n",
       "      <td>0.061977</td>\n",
       "      <td>dummy_constant</td>\n",
       "      <td>0.452678</td>\n",
       "      <td>0.061977</td>\n",
       "      <td>-0.734262</td>\n",
       "      <td>0.194104</td>\n",
       "      <td>0.000028</td>\n",
       "      <td>False</td>\n",
       "    </tr>\n",
       "    <tr>\n",
       "      <th>42</th>\n",
       "      <td>0.581901</td>\n",
       "      <td>0.845795</td>\n",
       "      <td>dummy_constant</td>\n",
       "      <td>0.581901</td>\n",
       "      <td>0.845795</td>\n",
       "      <td>0.151629</td>\n",
       "      <td>0.126282</td>\n",
       "      <td>0.000028</td>\n",
       "      <td>False</td>\n",
       "    </tr>\n",
       "    <tr>\n",
       "      <th>43</th>\n",
       "      <td>0.439069</td>\n",
       "      <td>0.075624</td>\n",
       "      <td>dummy_constant</td>\n",
       "      <td>0.439069</td>\n",
       "      <td>0.075624</td>\n",
       "      <td>-0.709890</td>\n",
       "      <td>0.183808</td>\n",
       "      <td>0.000028</td>\n",
       "      <td>False</td>\n",
       "    </tr>\n",
       "    <tr>\n",
       "      <th>44</th>\n",
       "      <td>0.571083</td>\n",
       "      <td>0.418913</td>\n",
       "      <td>dummy_constant</td>\n",
       "      <td>0.571083</td>\n",
       "      <td>0.418913</td>\n",
       "      <td>-0.421980</td>\n",
       "      <td>0.011628</td>\n",
       "      <td>0.000029</td>\n",
       "      <td>False</td>\n",
       "    </tr>\n",
       "    <tr>\n",
       "      <th>45</th>\n",
       "      <td>0.035198</td>\n",
       "      <td>1.135914</td>\n",
       "      <td>dummy_constant</td>\n",
       "      <td>0.035198</td>\n",
       "      <td>1.135914</td>\n",
       "      <td>0.203572</td>\n",
       "      <td>0.620428</td>\n",
       "      <td>0.000027</td>\n",
       "      <td>False</td>\n",
       "    </tr>\n",
       "    <tr>\n",
       "      <th>46</th>\n",
       "      <td>0.320256</td>\n",
       "      <td>0.811932</td>\n",
       "      <td>dummy_constant</td>\n",
       "      <td>0.320256</td>\n",
       "      <td>0.811932</td>\n",
       "      <td>-0.334527</td>\n",
       "      <td>0.129609</td>\n",
       "      <td>0.000028</td>\n",
       "      <td>False</td>\n",
       "    </tr>\n",
       "    <tr>\n",
       "      <th>47</th>\n",
       "      <td>0.800721</td>\n",
       "      <td>0.614267</td>\n",
       "      <td>dummy_constant</td>\n",
       "      <td>0.800721</td>\n",
       "      <td>0.614267</td>\n",
       "      <td>0.068638</td>\n",
       "      <td>0.103490</td>\n",
       "      <td>0.000029</td>\n",
       "      <td>False</td>\n",
       "    </tr>\n",
       "    <tr>\n",
       "      <th>48</th>\n",
       "      <td>0.388154</td>\n",
       "      <td>0.795337</td>\n",
       "      <td>dummy_constant</td>\n",
       "      <td>0.388154</td>\n",
       "      <td>0.795337</td>\n",
       "      <td>-0.272368</td>\n",
       "      <td>0.099734</td>\n",
       "      <td>0.000028</td>\n",
       "      <td>False</td>\n",
       "    </tr>\n",
       "    <tr>\n",
       "      <th>49</th>\n",
       "      <td>1.247083</td>\n",
       "      <td>0.099961</td>\n",
       "      <td>dummy_constant</td>\n",
       "      <td>1.247083</td>\n",
       "      <td>0.099961</td>\n",
       "      <td>0.536514</td>\n",
       "      <td>0.718165</td>\n",
       "      <td>0.000028</td>\n",
       "      <td>False</td>\n",
       "    </tr>\n",
       "    <tr>\n",
       "      <th>50</th>\n",
       "      <td>0.044077</td>\n",
       "      <td>1.376215</td>\n",
       "      <td>dummy_constant</td>\n",
       "      <td>0.044077</td>\n",
       "      <td>1.376215</td>\n",
       "      <td>0.808746</td>\n",
       "      <td>0.975618</td>\n",
       "      <td>0.000027</td>\n",
       "      <td>False</td>\n",
       "    </tr>\n",
       "    <tr>\n",
       "      <th>51</th>\n",
       "      <td>0.324816</td>\n",
       "      <td>0.608471</td>\n",
       "      <td>dummy_constant</td>\n",
       "      <td>0.324816</td>\n",
       "      <td>0.608471</td>\n",
       "      <td>-0.525114</td>\n",
       "      <td>0.042455</td>\n",
       "      <td>0.000027</td>\n",
       "      <td>False</td>\n",
       "    </tr>\n",
       "    <tr>\n",
       "      <th>52</th>\n",
       "      <td>0.871688</td>\n",
       "      <td>0.522137</td>\n",
       "      <td>dummy_constant</td>\n",
       "      <td>0.871688</td>\n",
       "      <td>0.522137</td>\n",
       "      <td>0.102859</td>\n",
       "      <td>0.138642</td>\n",
       "      <td>0.000026</td>\n",
       "      <td>False</td>\n",
       "    </tr>\n",
       "    <tr>\n",
       "      <th>53</th>\n",
       "      <td>0.761970</td>\n",
       "      <td>0.445767</td>\n",
       "      <td>dummy_constant</td>\n",
       "      <td>0.761970</td>\n",
       "      <td>0.445767</td>\n",
       "      <td>-0.162972</td>\n",
       "      <td>0.071569</td>\n",
       "      <td>0.000028</td>\n",
       "      <td>False</td>\n",
       "    </tr>\n",
       "    <tr>\n",
       "      <th>54</th>\n",
       "      <td>0.237966</td>\n",
       "      <td>0.398513</td>\n",
       "      <td>dummy_constant</td>\n",
       "      <td>0.237966</td>\n",
       "      <td>0.398513</td>\n",
       "      <td>-0.715741</td>\n",
       "      <td>0.078961</td>\n",
       "      <td>0.000028</td>\n",
       "      <td>False</td>\n",
       "    </tr>\n",
       "  </tbody>\n",
       "</table>\n",
       "</div>"
      ],
      "text/plain": [
       "          x1        x2               a        y1        y2         c1  \\\n",
       "0   1.226027  1.177138  dummy_constant  1.226027  1.177138   1.794047   \n",
       "1   2.353214  0.251122  dummy_constant  2.353214  0.251122   4.613662   \n",
       "2   0.174498  0.615726  dummy_constant  0.174498  0.615726  -0.561472   \n",
       "3   1.161962  2.161172  dummy_constant  1.161962  2.161172   5.024722   \n",
       "4   1.890390  1.346494  dummy_constant  1.890390  1.346494   4.475415   \n",
       "5   0.064636  0.233836  dummy_constant  0.064636  0.233836  -0.902435   \n",
       "6   0.216450  0.908860  dummy_constant  0.216450  0.908860  -0.044546   \n",
       "7   0.221365  0.974235  dummy_constant  0.221365  0.974235   0.088899   \n",
       "8   0.772418  0.250755  dummy_constant  0.772418  0.250755  -0.371003   \n",
       "9   1.003401  0.366239  dummy_constant  1.003401  0.366239   0.063415   \n",
       "10  1.406101  0.041845  dummy_constant  1.406101  0.041845   0.889988   \n",
       "11  0.419499  0.159175  dummy_constant  0.419499  0.159175  -0.887353   \n",
       "12  0.000000  0.924268  dummy_constant  0.000000  0.924268  -0.245729   \n",
       "13  0.571482  0.796627  dummy_constant  0.571482  0.796627   0.047391   \n",
       "14  1.451831  0.453488  dummy_constant  1.451831  0.453488   1.300335   \n",
       "15  0.352896  0.885308  dummy_constant  0.352896  0.885308  -0.189409   \n",
       "16  0.120618  1.046232  dummy_constant  0.120618  1.046232   0.135408   \n",
       "17  1.077799  0.146057  dummy_constant  1.077799  0.146057   0.238145   \n",
       "18  0.759828  0.747830  dummy_constant  0.759828  0.747830   0.037398   \n",
       "19  0.169042  1.001812  dummy_constant  0.169042  1.001812   0.121494   \n",
       "20  0.508523  0.896572  dummy_constant  0.508523  0.896572   0.101480   \n",
       "21  0.901009  0.585496  dummy_constant  0.901009  0.585496   0.252533   \n",
       "22  0.302074  0.180857  dummy_constant  0.302074  0.180857  -0.805883   \n",
       "23  1.033957  0.060140  dummy_constant  1.033957  0.060140   0.012868   \n",
       "24  0.753010  0.359881  dummy_constant  0.753010  0.359881  -0.369452   \n",
       "25  0.812577  0.637093  dummy_constant  0.812577  0.637093   0.101083   \n",
       "26  0.932704  0.426377  dummy_constant  0.932704  0.426377  -0.032063   \n",
       "27  0.817363  0.198275  dummy_constant  0.817363  0.198275  -0.213983   \n",
       "28  0.653707  0.784283  dummy_constant  0.653707  0.784283   0.030274   \n",
       "29  0.075681  1.522976  dummy_constant  0.075681  1.522976   1.255113   \n",
       "30  0.080858  0.521906  dummy_constant  0.080858  0.521906  -0.643463   \n",
       "31  0.247747  0.541177  dummy_constant  0.247747  0.541177  -0.729072   \n",
       "32  0.861550  0.010118  dummy_constant  0.861550  0.010118  -0.355869   \n",
       "33  0.036874  1.022281  dummy_constant  0.036874  1.022281  -0.037399   \n",
       "34  2.262310  3.061677  dummy_constant  2.262310  3.061677  13.564597   \n",
       "35  0.372119  0.926580  dummy_constant  0.372119  0.926580  -0.101485   \n",
       "36  0.808396  0.084335  dummy_constant  0.808396  0.084335  -0.330160   \n",
       "37  0.085894  1.056906  dummy_constant  0.085894  1.056906   0.097434   \n",
       "38  0.818906  0.377871  dummy_constant  0.818906  0.377871  -0.267176   \n",
       "39  0.280639  0.619076  dummy_constant  0.280639  0.619076  -0.624440   \n",
       "40  0.462973  0.357044  dummy_constant  0.462973  0.357044  -0.611582   \n",
       "41  0.452678  0.061977  dummy_constant  0.452678  0.061977  -0.734262   \n",
       "42  0.581901  0.845795  dummy_constant  0.581901  0.845795   0.151629   \n",
       "43  0.439069  0.075624  dummy_constant  0.439069  0.075624  -0.709890   \n",
       "44  0.571083  0.418913  dummy_constant  0.571083  0.418913  -0.421980   \n",
       "45  0.035198  1.135914  dummy_constant  0.035198  1.135914   0.203572   \n",
       "46  0.320256  0.811932  dummy_constant  0.320256  0.811932  -0.334527   \n",
       "47  0.800721  0.614267  dummy_constant  0.800721  0.614267   0.068638   \n",
       "48  0.388154  0.795337  dummy_constant  0.388154  0.795337  -0.272368   \n",
       "49  1.247083  0.099961  dummy_constant  1.247083  0.099961   0.536514   \n",
       "50  0.044077  1.376215  dummy_constant  0.044077  1.376215   0.808746   \n",
       "51  0.324816  0.608471  dummy_constant  0.324816  0.608471  -0.525114   \n",
       "52  0.871688  0.522137  dummy_constant  0.871688  0.522137   0.102859   \n",
       "53  0.761970  0.445767  dummy_constant  0.761970  0.445767  -0.162972   \n",
       "54  0.237966  0.398513  dummy_constant  0.237966  0.398513  -0.715741   \n",
       "\n",
       "          c2  xopt_runtime  xopt_error  \n",
       "0   0.985632      0.000037       False  \n",
       "1   3.496344      0.000009       False  \n",
       "2   0.119344      0.000007       False  \n",
       "3   3.197684      0.000006       False  \n",
       "4   2.649738      0.000005       False  \n",
       "5   0.260385      0.000027       False  \n",
       "6   0.247567      0.000025       False  \n",
       "7   0.302537      0.000025       False  \n",
       "8   0.136335      0.000027       False  \n",
       "9   0.271304      0.000026       False  \n",
       "10  1.030925      0.000027       False  \n",
       "11  0.122642      0.000026       False  \n",
       "12  0.430003      0.000027       False  \n",
       "13  0.093098      0.000026       False  \n",
       "14  0.908145      0.000026       False  \n",
       "15  0.170102      0.000027       False  \n",
       "16  0.442300      0.000029       False  \n",
       "17  0.459127      0.000028       False  \n",
       "18  0.128930      0.000028       False  \n",
       "19  0.361349      0.000028       False  \n",
       "20  0.157342      0.000028       False  \n",
       "21  0.168118      0.000026       False  \n",
       "22  0.141027      0.000027       False  \n",
       "23  0.478586      0.000027       False  \n",
       "24  0.083647      0.000028       False  \n",
       "25  0.116499      0.000027       False  \n",
       "26  0.192653      0.000026       False  \n",
       "27  0.191757      0.000028       False  \n",
       "28  0.104443      0.000028       False  \n",
       "29  1.226525      0.000026       False  \n",
       "30  0.176160      0.000030       False  \n",
       "31  0.065327      0.000027       False  \n",
       "32  0.370703      0.000026       False  \n",
       "33  0.487263      0.000027       False  \n",
       "34  9.667926      0.000028       False  \n",
       "35  0.198324      0.000029       False  \n",
       "36  0.267885      0.000028       False  \n",
       "37  0.481628      0.000028       False  \n",
       "38  0.116617      0.000029       False  \n",
       "39  0.062299      0.000029       False  \n",
       "40  0.021807      0.000029       False  \n",
       "41  0.194104      0.000028       False  \n",
       "42  0.126282      0.000028       False  \n",
       "43  0.183808      0.000028       False  \n",
       "44  0.011628      0.000029       False  \n",
       "45  0.620428      0.000027       False  \n",
       "46  0.129609      0.000028       False  \n",
       "47  0.103490      0.000029       False  \n",
       "48  0.099734      0.000028       False  \n",
       "49  0.718165      0.000028       False  \n",
       "50  0.975618      0.000027       False  \n",
       "51  0.042455      0.000027       False  \n",
       "52  0.138642      0.000026       False  \n",
       "53  0.071569      0.000028       False  \n",
       "54  0.078961      0.000028       False  "
      ]
     },
     "execution_count": 3,
     "metadata": {},
     "output_type": "execute_result"
    }
   ],
   "source": [
    "X.generator.data"
   ]
  },
  {
   "cell_type": "markdown",
   "metadata": {
    "collapsed": false
   },
   "source": [
    "## plot results\n"
   ]
  },
  {
   "cell_type": "code",
   "execution_count": 4,
   "metadata": {
    "collapsed": false,
    "execution": {
     "iopub.execute_input": "2024-08-08T16:19:04.945460Z",
     "iopub.status.busy": "2024-08-08T16:19:04.945272Z",
     "iopub.status.idle": "2024-08-08T16:19:05.469731Z",
     "shell.execute_reply": "2024-08-08T16:19:05.469076Z"
    }
   },
   "outputs": [
    {
     "data": {
      "image/png": "[encoded data removed]",
      "text/plain": [
       "<Figure size 640x480 with 1 Axes>"
      ]
     },
     "metadata": {},
     "output_type": "display_data"
    }
   ],
   "source": [
    "import matplotlib.pyplot as plt\n",
    "import numpy as np\n",
    "import pandas as pd\n",
    "\n",
    "fig, ax = plt.subplots()\n",
    "\n",
    "theta = np.linspace(0, np.pi / 2)\n",
    "r = np.sqrt(1 + 0.1 * np.cos(16 * theta))\n",
    "x_1 = r * np.sin(theta)\n",
    "x_2_lower = r * np.cos(theta)\n",
    "x_2_upper = (0.5 - (x_1 - 0.5) ** 2) ** 0.5 + 0.5\n",
    "\n",
    "z = np.zeros_like(x_1)\n",
    "\n",
    "# ax2.plot(x_1, x_2_lower,'r')\n",
    "ax.fill_between(x_1, z, x_2_lower, fc=\"white\")\n",
    "circle = plt.Circle(\n",
    "    (0.5, 0.5), 0.5 ** 0.5, color=\"r\", alpha=0.25, zorder=0, label=\"Valid Region\"\n",
    ")\n",
    "ax.add_patch(circle)\n",
    "history = pd.concat(\n",
    "    [X.data, X.vocs.feasibility_data(X.data)], axis=1, ignore_index=False\n",
    ")\n",
    "\n",
    "\n",
    "ax.plot(*history[[\"x1\", \"x2\"]][history[\"feasible\"]].to_numpy().T, \".C1\")\n",
    "ax.plot(*history[[\"x1\", \"x2\"]][~history[\"feasible\"]].to_numpy().T, \".C2\")\n",
    "\n",
    "ax.set_xlim(0, 3.14)\n",
    "ax.set_ylim(0, 3.14)\n",
    "ax.set_xlabel(\"x1\")\n",
    "ax.set_ylabel(\"x2\")\n",
    "ax.set_aspect(\"equal\")"
   ]
  },
  {
   "cell_type": "markdown",
   "metadata": {
    "collapsed": false
   },
   "source": [
    "### Plot path through input space"
   ]
  },
  {
   "cell_type": "code",
   "execution_count": 5,
   "metadata": {
    "collapsed": false,
    "execution": {
     "iopub.execute_input": "2024-08-08T16:19:05.472445Z",
     "iopub.status.busy": "2024-08-08T16:19:05.472018Z",
     "iopub.status.idle": "2024-08-08T16:19:05.579607Z",
     "shell.execute_reply": "2024-08-08T16:19:05.579018Z"
    }
   },
   "outputs": [
    {
     "data": {
      "image/png": "[encoded data removed]",
      "text/plain": [
       "<Figure size 640x480 with 1 Axes>"
      ]
     },
     "metadata": {},
     "output_type": "display_data"
    }
   ],
   "source": [
    "ax = history.plot(\"x1\", \"x2\")\n",
    "ax.set_ylim(0, 3.14)\n",
    "ax.set_xlim(0, 3.14)\n",
    "ax.set_aspect(\"equal\")"
   ]
  },
  {
   "cell_type": "code",
   "execution_count": 6,
   "metadata": {
    "collapsed": false,
    "execution": {
     "iopub.execute_input": "2024-08-08T16:19:05.582226Z",
     "iopub.status.busy": "2024-08-08T16:19:05.581749Z",
     "iopub.status.idle": "2024-08-08T16:19:09.588975Z",
     "shell.execute_reply": "2024-08-08T16:19:09.588430Z"
    }
   },
   "outputs": [
    {
     "name": "stdout",
     "output_type": "stream",
     "text": [
      "[[0.58103738 0.27840441]]\n"
     ]
    },
    {
     "data": {
      "text/plain": [
       "[<matplotlib.lines.Line2D at 0x7f174e131310>]"
      ]
     },
     "execution_count": 6,
     "metadata": {},
     "output_type": "execute_result"
    },
    {
     "data": {
      "image/png": "[encoded data removed]",
      "text/plain": [
       "<Figure size 800x800 with 2 Axes>"
      ]
     },
     "metadata": {},
     "output_type": "display_data"
    },
    {
     "data": {
      "image/png": "[encoded data removed]",
      "text/plain": [
       "<Figure size 800x800 with 2 Axes>"
      ]
     },
     "metadata": {},
     "output_type": "display_data"
    }
   ],
   "source": [
    "# plot the acquisition function\n",
    "from xopt.generators.bayesian.objectives import feasibility\n",
    "\n",
    "bounds = X.generator.vocs.bounds\n",
    "model = X.generator.model\n",
    "\n",
    "# create mesh\n",
    "n = 100\n",
    "x = torch.linspace(*bounds.T[0], n)\n",
    "y = torch.linspace(*bounds.T[1], n)\n",
    "xx, yy = torch.meshgrid(x, y)\n",
    "pts = torch.hstack([ele.reshape(-1, 1) for ele in (xx, yy)]).double()\n",
    "\n",
    "xx, yy = xx.numpy(), yy.numpy()\n",
    "\n",
    "acq_func = X.generator.get_acquisition(model)\n",
    "with torch.no_grad():\n",
    "    acq_pts = pts.unsqueeze(1)\n",
    "    acq = acq_func(acq_pts)\n",
    "\n",
    "    fig, ax = plt.subplots(figsize=(8,8))\n",
    "    c = ax.pcolor(xx, yy, acq.reshape(n, n), cmap=\"Blues\")\n",
    "    fig.colorbar(c)\n",
    "    ax.set_title(\"Acquisition function\")\n",
    "\n",
    "    ax.plot(*history[[\"x1\", \"x2\"]][history[\"feasible\"]].to_numpy().T, \".C1\")\n",
    "    ax.plot(*history[[\"x1\", \"x2\"]][~history[\"feasible\"]].to_numpy().T, \".C2\")\n",
    "\n",
    "    ax.plot(*history[[\"x1\", \"x2\"]].to_numpy()[-1].T, \"+\")\n",
    "\n",
    "    feas = feasibility(pts.unsqueeze(1), model, X.vocs).flatten()\n",
    "\n",
    "    fig2, ax2 = plt.subplots(figsize=(8,8))\n",
    "    c = ax2.pcolor(xx, yy, feas.reshape(n, n))\n",
    "    fig2.colorbar(c)\n",
    "    ax2.set_title(\"Feasible Region\")\n",
    "\n",
    "candidate = pd.DataFrame(X.generator.generate(1), index=[0])\n",
    "print(candidate[[\"x1\", \"x2\"]].to_numpy())\n",
    "ax.plot(*candidate[[\"x1\", \"x2\"]].to_numpy()[0], \"o\")"
   ]
  }
 ],
 "metadata": {
  "interpreter": {
   "hash": "72034539424920dfb606fe3b820b3f27dca0cbf1c69938110810ec4641e275b1"
  },
  "kernelspec": {
   "display_name": "Python 3 (ipykernel)",
   "language": "python",
   "name": "python3"
  },
  "language_info": {
   "codemirror_mode": {
    "name": "ipython",
    "version": 3
   },
   "file_extension": ".py",
   "mimetype": "text/x-python",
   "name": "python",
   "nbconvert_exporter": "python",
   "pygments_lexer": "ipython3",
   "version": "3.9.19"
  }
 },
 "nbformat": 4,
 "nbformat_minor": 4
}
