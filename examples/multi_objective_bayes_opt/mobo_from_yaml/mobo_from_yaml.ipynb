{
 "cells": [
  {
   "cell_type": "markdown",
   "metadata": {},
   "source": [
    "\n",
    "# Multi-objective Bayesian Optimization\n",
    "\n",
    "\n",
    "TNK function\n",
    "$n=2$ variables:\n",
    "$x_i \\in [0, \\pi], i=1,2$\n",
    "\n",
    "Objectives:\n",
    "- $f_i(x) = x_i$\n",
    "\n",
    "Constraints:\n",
    "- $g_1(x) = -x_1^2 -x_2^2 + 1 + 0.1 \\cos\\left(16 \\arctan \\frac{x_1}{x_2}\\right) \\le 0$\n",
    "- $g_2(x) = (x_1 - 1/2)^2 + (x_2-1/2)^2 \\le 0.5$"
   ]
  },
  {
   "cell_type": "code",
   "execution_count": 1,
   "metadata": {
    "collapsed": false,
    "execution": {
     "iopub.execute_input": "2024-01-30T21:45:07.888880Z",
     "iopub.status.busy": "2024-01-30T21:45:07.888695Z",
     "iopub.status.idle": "2024-01-30T21:45:09.336794Z",
     "shell.execute_reply": "2024-01-30T21:45:09.336229Z"
    }
   },
   "outputs": [],
   "source": [
    "import os\n",
    "SMOKE_TEST = os.environ.get(\"SMOKE_TEST\")\n",
    "NUM_STEPS = 2 if SMOKE_TEST else 50\n",
    "\n",
    "# Ignore all warnings\n",
    "import warnings\n",
    "warnings.filterwarnings(\"ignore\")\n",
    "\n",
    "import torch\n",
    "from xopt import Xopt\n",
    "\n",
    "\n",
    "YAML = \"\"\"\n",
    "generator:\n",
    "    name: mobo\n",
    "    reference_point: {y1: 1.5, y2: 1.5}\n",
    "\n",
    "evaluator:\n",
    "    function: xopt.resources.test_functions.tnk.evaluate_TNK\n",
    "\n",
    "vocs:\n",
    "    variables:\n",
    "        x1: [0, 3.14159]\n",
    "        x2: [0, 3.14159]\n",
    "    objectives: {y1: MINIMIZE, y2: MINIMIZE}\n",
    "    constraints:\n",
    "        c1: [GREATER_THAN, 0]\n",
    "        c2: [LESS_THAN, 0.5]\n",
    "    constants: {a: dummy_constant}\n",
    "\n",
    "\"\"\""
   ]
  },
  {
   "cell_type": "code",
   "execution_count": 2,
   "metadata": {
    "collapsed": false,
    "execution": {
     "iopub.execute_input": "2024-01-30T21:45:09.339541Z",
     "iopub.status.busy": "2024-01-30T21:45:09.339178Z",
     "iopub.status.idle": "2024-01-30T21:45:48.232944Z",
     "shell.execute_reply": "2024-01-30T21:45:48.232354Z"
    }
   },
   "outputs": [
    {
     "name": "stdout",
     "output_type": "stream",
     "text": [
      "0\n"
     ]
    },
    {
     "name": "stdout",
     "output_type": "stream",
     "text": [
      "1\n"
     ]
    },
    {
     "name": "stdout",
     "output_type": "stream",
     "text": [
      "2\n"
     ]
    },
    {
     "name": "stdout",
     "output_type": "stream",
     "text": [
      "3\n"
     ]
    },
    {
     "name": "stdout",
     "output_type": "stream",
     "text": [
      "4\n"
     ]
    },
    {
     "name": "stdout",
     "output_type": "stream",
     "text": [
      "5\n"
     ]
    },
    {
     "name": "stdout",
     "output_type": "stream",
     "text": [
      "6\n"
     ]
    },
    {
     "name": "stdout",
     "output_type": "stream",
     "text": [
      "7\n"
     ]
    },
    {
     "name": "stdout",
     "output_type": "stream",
     "text": [
      "8\n"
     ]
    },
    {
     "name": "stdout",
     "output_type": "stream",
     "text": [
      "9\n"
     ]
    },
    {
     "name": "stdout",
     "output_type": "stream",
     "text": [
      "10\n"
     ]
    },
    {
     "name": "stdout",
     "output_type": "stream",
     "text": [
      "11\n"
     ]
    },
    {
     "name": "stdout",
     "output_type": "stream",
     "text": [
      "12\n"
     ]
    },
    {
     "name": "stdout",
     "output_type": "stream",
     "text": [
      "13\n"
     ]
    },
    {
     "name": "stdout",
     "output_type": "stream",
     "text": [
      "14\n"
     ]
    },
    {
     "name": "stdout",
     "output_type": "stream",
     "text": [
      "15\n"
     ]
    },
    {
     "name": "stdout",
     "output_type": "stream",
     "text": [
      "16\n"
     ]
    },
    {
     "name": "stdout",
     "output_type": "stream",
     "text": [
      "17\n"
     ]
    },
    {
     "name": "stdout",
     "output_type": "stream",
     "text": [
      "18\n"
     ]
    },
    {
     "name": "stdout",
     "output_type": "stream",
     "text": [
      "19\n"
     ]
    },
    {
     "name": "stdout",
     "output_type": "stream",
     "text": [
      "20\n"
     ]
    },
    {
     "name": "stdout",
     "output_type": "stream",
     "text": [
      "21\n"
     ]
    },
    {
     "name": "stdout",
     "output_type": "stream",
     "text": [
      "22\n"
     ]
    },
    {
     "name": "stdout",
     "output_type": "stream",
     "text": [
      "23\n"
     ]
    },
    {
     "name": "stdout",
     "output_type": "stream",
     "text": [
      "24\n"
     ]
    },
    {
     "name": "stdout",
     "output_type": "stream",
     "text": [
      "25\n"
     ]
    },
    {
     "name": "stdout",
     "output_type": "stream",
     "text": [
      "26\n"
     ]
    },
    {
     "name": "stdout",
     "output_type": "stream",
     "text": [
      "27\n"
     ]
    },
    {
     "name": "stdout",
     "output_type": "stream",
     "text": [
      "28\n"
     ]
    },
    {
     "name": "stdout",
     "output_type": "stream",
     "text": [
      "29\n"
     ]
    },
    {
     "name": "stdout",
     "output_type": "stream",
     "text": [
      "30\n"
     ]
    },
    {
     "name": "stdout",
     "output_type": "stream",
     "text": [
      "31\n"
     ]
    },
    {
     "name": "stdout",
     "output_type": "stream",
     "text": [
      "32\n"
     ]
    },
    {
     "name": "stdout",
     "output_type": "stream",
     "text": [
      "33\n"
     ]
    },
    {
     "name": "stdout",
     "output_type": "stream",
     "text": [
      "34\n"
     ]
    },
    {
     "name": "stdout",
     "output_type": "stream",
     "text": [
      "35\n"
     ]
    },
    {
     "name": "stdout",
     "output_type": "stream",
     "text": [
      "36\n"
     ]
    },
    {
     "name": "stdout",
     "output_type": "stream",
     "text": [
      "37\n"
     ]
    },
    {
     "name": "stdout",
     "output_type": "stream",
     "text": [
      "38\n"
     ]
    },
    {
     "name": "stdout",
     "output_type": "stream",
     "text": [
      "39\n"
     ]
    },
    {
     "name": "stdout",
     "output_type": "stream",
     "text": [
      "40\n"
     ]
    },
    {
     "name": "stdout",
     "output_type": "stream",
     "text": [
      "41\n"
     ]
    },
    {
     "name": "stdout",
     "output_type": "stream",
     "text": [
      "42\n"
     ]
    },
    {
     "name": "stdout",
     "output_type": "stream",
     "text": [
      "43\n"
     ]
    },
    {
     "name": "stdout",
     "output_type": "stream",
     "text": [
      "44\n"
     ]
    },
    {
     "name": "stdout",
     "output_type": "stream",
     "text": [
      "45\n"
     ]
    },
    {
     "name": "stdout",
     "output_type": "stream",
     "text": [
      "46\n"
     ]
    },
    {
     "name": "stdout",
     "output_type": "stream",
     "text": [
      "47\n"
     ]
    },
    {
     "name": "stdout",
     "output_type": "stream",
     "text": [
      "48\n"
     ]
    },
    {
     "name": "stdout",
     "output_type": "stream",
     "text": [
      "49\n"
     ]
    }
   ],
   "source": [
    "X = Xopt.from_yaml(YAML)\n",
    "\n",
    "# for testing purposes only\n",
    "if SMOKE_TEST:\n",
    "    X.generator.numerical_optimizer.n_restarts = 1\n",
    "    X.generator.n_monte_carlo_samples = 1\n",
    "\n",
    "X.random_evaluate(5)\n",
    "for i in range(NUM_STEPS):\n",
    "    print(i)\n",
    "    X.step()"
   ]
  },
  {
   "cell_type": "code",
   "execution_count": 3,
   "metadata": {
    "collapsed": false,
    "execution": {
     "iopub.execute_input": "2024-01-30T21:45:48.236333Z",
     "iopub.status.busy": "2024-01-30T21:45:48.235644Z",
     "iopub.status.idle": "2024-01-30T21:45:48.253936Z",
     "shell.execute_reply": "2024-01-30T21:45:48.253391Z"
    }
   },
   "outputs": [
    {
     "data": {
      "text/html": [
       "<div>\n",
       "<style scoped>\n",
       "    .dataframe tbody tr th:only-of-type {\n",
       "        vertical-align: middle;\n",
       "    }\n",
       "\n",
       "    .dataframe tbody tr th {\n",
       "        vertical-align: top;\n",
       "    }\n",
       "\n",
       "    .dataframe thead th {\n",
       "        text-align: right;\n",
       "    }\n",
       "</style>\n",
       "<table border=\"1\" class=\"dataframe\">\n",
       "  <thead>\n",
       "    <tr style=\"text-align: right;\">\n",
       "      <th></th>\n",
       "      <th>x1</th>\n",
       "      <th>x2</th>\n",
       "      <th>a</th>\n",
       "      <th>y1</th>\n",
       "      <th>y2</th>\n",
       "      <th>c1</th>\n",
       "      <th>c2</th>\n",
       "      <th>xopt_runtime</th>\n",
       "      <th>xopt_error</th>\n",
       "    </tr>\n",
       "  </thead>\n",
       "  <tbody>\n",
       "    <tr>\n",
       "      <th>0</th>\n",
       "      <td>0.576475</td>\n",
       "      <td>0.972244</td>\n",
       "      <td>dummy_constant</td>\n",
       "      <td>0.576475</td>\n",
       "      <td>0.972244</td>\n",
       "      <td>0.342714</td>\n",
       "      <td>0.228863</td>\n",
       "      <td>0.000034</td>\n",
       "      <td>False</td>\n",
       "    </tr>\n",
       "    <tr>\n",
       "      <th>1</th>\n",
       "      <td>2.787076</td>\n",
       "      <td>1.033786</td>\n",
       "      <td>dummy_constant</td>\n",
       "      <td>2.787076</td>\n",
       "      <td>1.033786</td>\n",
       "      <td>7.753982</td>\n",
       "      <td>5.515645</td>\n",
       "      <td>0.000009</td>\n",
       "      <td>False</td>\n",
       "    </tr>\n",
       "    <tr>\n",
       "      <th>2</th>\n",
       "      <td>2.953338</td>\n",
       "      <td>1.326107</td>\n",
       "      <td>dummy_constant</td>\n",
       "      <td>2.953338</td>\n",
       "      <td>1.326107</td>\n",
       "      <td>9.391582</td>\n",
       "      <td>6.701320</td>\n",
       "      <td>0.000007</td>\n",
       "      <td>False</td>\n",
       "    </tr>\n",
       "    <tr>\n",
       "      <th>3</th>\n",
       "      <td>0.496926</td>\n",
       "      <td>2.192096</td>\n",
       "      <td>dummy_constant</td>\n",
       "      <td>0.496926</td>\n",
       "      <td>2.192096</td>\n",
       "      <td>4.143316</td>\n",
       "      <td>2.863197</td>\n",
       "      <td>0.000007</td>\n",
       "      <td>False</td>\n",
       "    </tr>\n",
       "    <tr>\n",
       "      <th>4</th>\n",
       "      <td>1.048681</td>\n",
       "      <td>0.606467</td>\n",
       "      <td>dummy_constant</td>\n",
       "      <td>1.048681</td>\n",
       "      <td>0.606467</td>\n",
       "      <td>0.518532</td>\n",
       "      <td>0.312386</td>\n",
       "      <td>0.000006</td>\n",
       "      <td>False</td>\n",
       "    </tr>\n",
       "    <tr>\n",
       "      <th>5</th>\n",
       "      <td>0.000000</td>\n",
       "      <td>0.160975</td>\n",
       "      <td>dummy_constant</td>\n",
       "      <td>0.000000</td>\n",
       "      <td>0.160975</td>\n",
       "      <td>-1.074087</td>\n",
       "      <td>0.364938</td>\n",
       "      <td>0.000024</td>\n",
       "      <td>False</td>\n",
       "    </tr>\n",
       "    <tr>\n",
       "      <th>6</th>\n",
       "      <td>0.678573</td>\n",
       "      <td>0.000000</td>\n",
       "      <td>dummy_constant</td>\n",
       "      <td>0.678573</td>\n",
       "      <td>0.000000</td>\n",
       "      <td>-0.639539</td>\n",
       "      <td>0.281888</td>\n",
       "      <td>0.000023</td>\n",
       "      <td>False</td>\n",
       "    </tr>\n",
       "    <tr>\n",
       "      <th>7</th>\n",
       "      <td>0.000000</td>\n",
       "      <td>0.786433</td>\n",
       "      <td>dummy_constant</td>\n",
       "      <td>0.000000</td>\n",
       "      <td>0.786433</td>\n",
       "      <td>-0.481523</td>\n",
       "      <td>0.332044</td>\n",
       "      <td>0.000022</td>\n",
       "      <td>False</td>\n",
       "    </tr>\n",
       "    <tr>\n",
       "      <th>8</th>\n",
       "      <td>0.783398</td>\n",
       "      <td>0.020734</td>\n",
       "      <td>dummy_constant</td>\n",
       "      <td>0.783398</td>\n",
       "      <td>0.020734</td>\n",
       "      <td>-0.477028</td>\n",
       "      <td>0.310011</td>\n",
       "      <td>0.000022</td>\n",
       "      <td>False</td>\n",
       "    </tr>\n",
       "    <tr>\n",
       "      <th>9</th>\n",
       "      <td>1.062719</td>\n",
       "      <td>0.258522</td>\n",
       "      <td>dummy_constant</td>\n",
       "      <td>1.062719</td>\n",
       "      <td>0.258522</td>\n",
       "      <td>0.274184</td>\n",
       "      <td>0.374965</td>\n",
       "      <td>0.000024</td>\n",
       "      <td>False</td>\n",
       "    </tr>\n",
       "    <tr>\n",
       "      <th>10</th>\n",
       "      <td>0.230951</td>\n",
       "      <td>1.009515</td>\n",
       "      <td>dummy_constant</td>\n",
       "      <td>0.230951</td>\n",
       "      <td>1.009515</td>\n",
       "      <td>0.162203</td>\n",
       "      <td>0.331993</td>\n",
       "      <td>0.000023</td>\n",
       "      <td>False</td>\n",
       "    </tr>\n",
       "    <tr>\n",
       "      <th>11</th>\n",
       "      <td>0.798578</td>\n",
       "      <td>0.708028</td>\n",
       "      <td>dummy_constant</td>\n",
       "      <td>0.798578</td>\n",
       "      <td>0.708028</td>\n",
       "      <td>0.081717</td>\n",
       "      <td>0.132424</td>\n",
       "      <td>0.000023</td>\n",
       "      <td>False</td>\n",
       "    </tr>\n",
       "    <tr>\n",
       "      <th>12</th>\n",
       "      <td>1.015200</td>\n",
       "      <td>0.091446</td>\n",
       "      <td>dummy_constant</td>\n",
       "      <td>1.015200</td>\n",
       "      <td>0.091446</td>\n",
       "      <td>0.025689</td>\n",
       "      <td>0.432347</td>\n",
       "      <td>0.000022</td>\n",
       "      <td>False</td>\n",
       "    </tr>\n",
       "    <tr>\n",
       "      <th>13</th>\n",
       "      <td>0.965074</td>\n",
       "      <td>0.110897</td>\n",
       "      <td>dummy_constant</td>\n",
       "      <td>0.965074</td>\n",
       "      <td>0.110897</td>\n",
       "      <td>-0.030651</td>\n",
       "      <td>0.367696</td>\n",
       "      <td>0.000023</td>\n",
       "      <td>False</td>\n",
       "    </tr>\n",
       "    <tr>\n",
       "      <th>14</th>\n",
       "      <td>0.047566</td>\n",
       "      <td>1.000421</td>\n",
       "      <td>dummy_constant</td>\n",
       "      <td>0.047566</td>\n",
       "      <td>1.000421</td>\n",
       "      <td>-0.069368</td>\n",
       "      <td>0.455117</td>\n",
       "      <td>0.000023</td>\n",
       "      <td>False</td>\n",
       "    </tr>\n",
       "    <tr>\n",
       "      <th>15</th>\n",
       "      <td>0.935608</td>\n",
       "      <td>0.403506</td>\n",
       "      <td>dummy_constant</td>\n",
       "      <td>0.935608</td>\n",
       "      <td>0.403506</td>\n",
       "      <td>-0.059150</td>\n",
       "      <td>0.199065</td>\n",
       "      <td>0.000024</td>\n",
       "      <td>False</td>\n",
       "    </tr>\n",
       "    <tr>\n",
       "      <th>16</th>\n",
       "      <td>0.878439</td>\n",
       "      <td>0.262036</td>\n",
       "      <td>dummy_constant</td>\n",
       "      <td>0.878439</td>\n",
       "      <td>0.262036</td>\n",
       "      <td>-0.152279</td>\n",
       "      <td>0.199843</td>\n",
       "      <td>0.000024</td>\n",
       "      <td>False</td>\n",
       "    </tr>\n",
       "    <tr>\n",
       "      <th>17</th>\n",
       "      <td>0.204065</td>\n",
       "      <td>0.874633</td>\n",
       "      <td>dummy_constant</td>\n",
       "      <td>0.204065</td>\n",
       "      <td>0.874633</td>\n",
       "      <td>-0.106883</td>\n",
       "      <td>0.227928</td>\n",
       "      <td>0.000023</td>\n",
       "      <td>False</td>\n",
       "    </tr>\n",
       "    <tr>\n",
       "      <th>18</th>\n",
       "      <td>0.734169</td>\n",
       "      <td>0.255983</td>\n",
       "      <td>dummy_constant</td>\n",
       "      <td>0.734169</td>\n",
       "      <td>0.255983</td>\n",
       "      <td>-0.456420</td>\n",
       "      <td>0.114380</td>\n",
       "      <td>0.000023</td>\n",
       "      <td>False</td>\n",
       "    </tr>\n",
       "    <tr>\n",
       "      <th>19</th>\n",
       "      <td>0.086103</td>\n",
       "      <td>1.042913</td>\n",
       "      <td>dummy_constant</td>\n",
       "      <td>0.086103</td>\n",
       "      <td>1.042913</td>\n",
       "      <td>0.070067</td>\n",
       "      <td>0.466065</td>\n",
       "      <td>0.000025</td>\n",
       "      <td>False</td>\n",
       "    </tr>\n",
       "    <tr>\n",
       "      <th>20</th>\n",
       "      <td>0.537302</td>\n",
       "      <td>0.399530</td>\n",
       "      <td>dummy_constant</td>\n",
       "      <td>0.537302</td>\n",
       "      <td>0.399530</td>\n",
       "      <td>-0.482397</td>\n",
       "      <td>0.011486</td>\n",
       "      <td>0.000025</td>\n",
       "      <td>False</td>\n",
       "    </tr>\n",
       "    <tr>\n",
       "      <th>21</th>\n",
       "      <td>0.889520</td>\n",
       "      <td>0.565534</td>\n",
       "      <td>dummy_constant</td>\n",
       "      <td>0.889520</td>\n",
       "      <td>0.565534</td>\n",
       "      <td>0.204528</td>\n",
       "      <td>0.156021</td>\n",
       "      <td>0.000024</td>\n",
       "      <td>False</td>\n",
       "    </tr>\n",
       "    <tr>\n",
       "      <th>22</th>\n",
       "      <td>1.611886</td>\n",
       "      <td>0.465510</td>\n",
       "      <td>dummy_constant</td>\n",
       "      <td>1.611886</td>\n",
       "      <td>0.465510</td>\n",
       "      <td>1.836114</td>\n",
       "      <td>1.237480</td>\n",
       "      <td>0.000024</td>\n",
       "      <td>False</td>\n",
       "    </tr>\n",
       "    <tr>\n",
       "      <th>23</th>\n",
       "      <td>0.491072</td>\n",
       "      <td>0.859279</td>\n",
       "      <td>dummy_constant</td>\n",
       "      <td>0.491072</td>\n",
       "      <td>0.859279</td>\n",
       "      <td>0.023291</td>\n",
       "      <td>0.129161</td>\n",
       "      <td>0.000025</td>\n",
       "      <td>False</td>\n",
       "    </tr>\n",
       "    <tr>\n",
       "      <th>24</th>\n",
       "      <td>0.662398</td>\n",
       "      <td>0.775850</td>\n",
       "      <td>dummy_constant</td>\n",
       "      <td>0.662398</td>\n",
       "      <td>0.775850</td>\n",
       "      <td>0.010084</td>\n",
       "      <td>0.102466</td>\n",
       "      <td>0.000026</td>\n",
       "      <td>False</td>\n",
       "    </tr>\n",
       "    <tr>\n",
       "      <th>25</th>\n",
       "      <td>1.049735</td>\n",
       "      <td>0.062880</td>\n",
       "      <td>dummy_constant</td>\n",
       "      <td>1.049735</td>\n",
       "      <td>0.062880</td>\n",
       "      <td>0.048322</td>\n",
       "      <td>0.493283</td>\n",
       "      <td>0.000024</td>\n",
       "      <td>False</td>\n",
       "    </tr>\n",
       "    <tr>\n",
       "      <th>26</th>\n",
       "      <td>0.914972</td>\n",
       "      <td>0.124106</td>\n",
       "      <td>dummy_constant</td>\n",
       "      <td>0.914972</td>\n",
       "      <td>0.124106</td>\n",
       "      <td>-0.092098</td>\n",
       "      <td>0.313499</td>\n",
       "      <td>0.000026</td>\n",
       "      <td>False</td>\n",
       "    </tr>\n",
       "    <tr>\n",
       "      <th>27</th>\n",
       "      <td>0.784318</td>\n",
       "      <td>0.544925</td>\n",
       "      <td>dummy_constant</td>\n",
       "      <td>0.784318</td>\n",
       "      <td>0.544925</td>\n",
       "      <td>0.007905</td>\n",
       "      <td>0.082855</td>\n",
       "      <td>0.000024</td>\n",
       "      <td>False</td>\n",
       "    </tr>\n",
       "    <tr>\n",
       "      <th>28</th>\n",
       "      <td>0.771476</td>\n",
       "      <td>0.640372</td>\n",
       "      <td>dummy_constant</td>\n",
       "      <td>0.771476</td>\n",
       "      <td>0.640372</td>\n",
       "      <td>-0.003665</td>\n",
       "      <td>0.093403</td>\n",
       "      <td>0.000025</td>\n",
       "      <td>False</td>\n",
       "    </tr>\n",
       "    <tr>\n",
       "      <th>29</th>\n",
       "      <td>0.580909</td>\n",
       "      <td>0.832575</td>\n",
       "      <td>dummy_constant</td>\n",
       "      <td>0.580909</td>\n",
       "      <td>0.832575</td>\n",
       "      <td>0.125486</td>\n",
       "      <td>0.117153</td>\n",
       "      <td>0.000025</td>\n",
       "      <td>False</td>\n",
       "    </tr>\n",
       "    <tr>\n",
       "      <th>30</th>\n",
       "      <td>0.864141</td>\n",
       "      <td>0.520223</td>\n",
       "      <td>dummy_constant</td>\n",
       "      <td>0.864141</td>\n",
       "      <td>0.520223</td>\n",
       "      <td>0.090238</td>\n",
       "      <td>0.133008</td>\n",
       "      <td>0.000025</td>\n",
       "      <td>False</td>\n",
       "    </tr>\n",
       "    <tr>\n",
       "      <th>31</th>\n",
       "      <td>0.664497</td>\n",
       "      <td>0.358566</td>\n",
       "      <td>dummy_constant</td>\n",
       "      <td>0.664497</td>\n",
       "      <td>0.358566</td>\n",
       "      <td>-0.423553</td>\n",
       "      <td>0.047063</td>\n",
       "      <td>0.000025</td>\n",
       "      <td>False</td>\n",
       "    </tr>\n",
       "    <tr>\n",
       "      <th>32</th>\n",
       "      <td>0.538255</td>\n",
       "      <td>0.840870</td>\n",
       "      <td>dummy_constant</td>\n",
       "      <td>0.538255</td>\n",
       "      <td>0.840870</td>\n",
       "      <td>0.091877</td>\n",
       "      <td>0.117656</td>\n",
       "      <td>0.000026</td>\n",
       "      <td>False</td>\n",
       "    </tr>\n",
       "    <tr>\n",
       "      <th>33</th>\n",
       "      <td>1.153947</td>\n",
       "      <td>0.030264</td>\n",
       "      <td>dummy_constant</td>\n",
       "      <td>1.153947</td>\n",
       "      <td>0.030264</td>\n",
       "      <td>0.241183</td>\n",
       "      <td>0.648299</td>\n",
       "      <td>0.000030</td>\n",
       "      <td>False</td>\n",
       "    </tr>\n",
       "    <tr>\n",
       "      <th>34</th>\n",
       "      <td>0.485396</td>\n",
       "      <td>0.639288</td>\n",
       "      <td>dummy_constant</td>\n",
       "      <td>0.485396</td>\n",
       "      <td>0.639288</td>\n",
       "      <td>-0.298826</td>\n",
       "      <td>0.019614</td>\n",
       "      <td>0.000025</td>\n",
       "      <td>False</td>\n",
       "    </tr>\n",
       "    <tr>\n",
       "      <th>35</th>\n",
       "      <td>1.030101</td>\n",
       "      <td>0.044058</td>\n",
       "      <td>dummy_constant</td>\n",
       "      <td>1.030101</td>\n",
       "      <td>0.044058</td>\n",
       "      <td>-0.014462</td>\n",
       "      <td>0.488890</td>\n",
       "      <td>0.000026</td>\n",
       "      <td>False</td>\n",
       "    </tr>\n",
       "    <tr>\n",
       "      <th>36</th>\n",
       "      <td>1.482805</td>\n",
       "      <td>0.038168</td>\n",
       "      <td>dummy_constant</td>\n",
       "      <td>1.482805</td>\n",
       "      <td>0.038168</td>\n",
       "      <td>1.108527</td>\n",
       "      <td>1.179195</td>\n",
       "      <td>0.000026</td>\n",
       "      <td>False</td>\n",
       "    </tr>\n",
       "    <tr>\n",
       "      <th>37</th>\n",
       "      <td>0.694361</td>\n",
       "      <td>0.616008</td>\n",
       "      <td>dummy_constant</td>\n",
       "      <td>0.694361</td>\n",
       "      <td>0.616008</td>\n",
       "      <td>-0.196111</td>\n",
       "      <td>0.051234</td>\n",
       "      <td>0.000025</td>\n",
       "      <td>False</td>\n",
       "    </tr>\n",
       "    <tr>\n",
       "      <th>38</th>\n",
       "      <td>0.980461</td>\n",
       "      <td>0.228786</td>\n",
       "      <td>dummy_constant</td>\n",
       "      <td>0.980461</td>\n",
       "      <td>0.228786</td>\n",
       "      <td>0.100114</td>\n",
       "      <td>0.304400</td>\n",
       "      <td>0.000026</td>\n",
       "      <td>False</td>\n",
       "    </tr>\n",
       "    <tr>\n",
       "      <th>39</th>\n",
       "      <td>0.590937</td>\n",
       "      <td>0.792718</td>\n",
       "      <td>dummy_constant</td>\n",
       "      <td>0.590937</td>\n",
       "      <td>0.792718</td>\n",
       "      <td>0.045492</td>\n",
       "      <td>0.093953</td>\n",
       "      <td>0.000025</td>\n",
       "      <td>False</td>\n",
       "    </tr>\n",
       "    <tr>\n",
       "      <th>40</th>\n",
       "      <td>0.126736</td>\n",
       "      <td>1.123083</td>\n",
       "      <td>dummy_constant</td>\n",
       "      <td>0.126736</td>\n",
       "      <td>1.123083</td>\n",
       "      <td>0.299897</td>\n",
       "      <td>0.527559</td>\n",
       "      <td>0.000026</td>\n",
       "      <td>False</td>\n",
       "    </tr>\n",
       "    <tr>\n",
       "      <th>41</th>\n",
       "      <td>0.865483</td>\n",
       "      <td>0.037652</td>\n",
       "      <td>dummy_constant</td>\n",
       "      <td>0.865483</td>\n",
       "      <td>0.037652</td>\n",
       "      <td>-0.326287</td>\n",
       "      <td>0.347343</td>\n",
       "      <td>0.000024</td>\n",
       "      <td>False</td>\n",
       "    </tr>\n",
       "    <tr>\n",
       "      <th>42</th>\n",
       "      <td>1.038728</td>\n",
       "      <td>0.045484</td>\n",
       "      <td>dummy_constant</td>\n",
       "      <td>1.038728</td>\n",
       "      <td>0.045484</td>\n",
       "      <td>0.004552</td>\n",
       "      <td>0.496813</td>\n",
       "      <td>0.000025</td>\n",
       "      <td>False</td>\n",
       "    </tr>\n",
       "    <tr>\n",
       "      <th>43</th>\n",
       "      <td>0.946189</td>\n",
       "      <td>0.303946</td>\n",
       "      <td>dummy_constant</td>\n",
       "      <td>0.946189</td>\n",
       "      <td>0.303946</td>\n",
       "      <td>-0.038123</td>\n",
       "      <td>0.237521</td>\n",
       "      <td>0.000025</td>\n",
       "      <td>False</td>\n",
       "    </tr>\n",
       "    <tr>\n",
       "      <th>44</th>\n",
       "      <td>0.293219</td>\n",
       "      <td>0.930330</td>\n",
       "      <td>dummy_constant</td>\n",
       "      <td>0.293219</td>\n",
       "      <td>0.930330</td>\n",
       "      <td>-0.065700</td>\n",
       "      <td>0.227942</td>\n",
       "      <td>0.000025</td>\n",
       "      <td>False</td>\n",
       "    </tr>\n",
       "    <tr>\n",
       "      <th>45</th>\n",
       "      <td>0.276790</td>\n",
       "      <td>0.041027</td>\n",
       "      <td>dummy_constant</td>\n",
       "      <td>0.276790</td>\n",
       "      <td>0.041027</td>\n",
       "      <td>-0.851115</td>\n",
       "      <td>0.260479</td>\n",
       "      <td>0.000026</td>\n",
       "      <td>False</td>\n",
       "    </tr>\n",
       "    <tr>\n",
       "      <th>46</th>\n",
       "      <td>0.467589</td>\n",
       "      <td>0.690400</td>\n",
       "      <td>dummy_constant</td>\n",
       "      <td>0.467589</td>\n",
       "      <td>0.690400</td>\n",
       "      <td>-0.205210</td>\n",
       "      <td>0.037303</td>\n",
       "      <td>0.000025</td>\n",
       "      <td>False</td>\n",
       "    </tr>\n",
       "    <tr>\n",
       "      <th>47</th>\n",
       "      <td>0.803424</td>\n",
       "      <td>0.395075</td>\n",
       "      <td>dummy_constant</td>\n",
       "      <td>0.803424</td>\n",
       "      <td>0.395075</td>\n",
       "      <td>-0.249987</td>\n",
       "      <td>0.103075</td>\n",
       "      <td>0.000024</td>\n",
       "      <td>False</td>\n",
       "    </tr>\n",
       "    <tr>\n",
       "      <th>48</th>\n",
       "      <td>0.703621</td>\n",
       "      <td>0.714796</td>\n",
       "      <td>dummy_constant</td>\n",
       "      <td>0.703621</td>\n",
       "      <td>0.714796</td>\n",
       "      <td>-0.093191</td>\n",
       "      <td>0.087599</td>\n",
       "      <td>0.000026</td>\n",
       "      <td>False</td>\n",
       "    </tr>\n",
       "    <tr>\n",
       "      <th>49</th>\n",
       "      <td>0.032138</td>\n",
       "      <td>1.113022</td>\n",
       "      <td>dummy_constant</td>\n",
       "      <td>0.032138</td>\n",
       "      <td>1.113022</td>\n",
       "      <td>0.150328</td>\n",
       "      <td>0.594690</td>\n",
       "      <td>0.000025</td>\n",
       "      <td>False</td>\n",
       "    </tr>\n",
       "    <tr>\n",
       "      <th>50</th>\n",
       "      <td>0.384881</td>\n",
       "      <td>0.793326</td>\n",
       "      <td>dummy_constant</td>\n",
       "      <td>0.384881</td>\n",
       "      <td>0.793326</td>\n",
       "      <td>-0.281159</td>\n",
       "      <td>0.099293</td>\n",
       "      <td>0.000026</td>\n",
       "      <td>False</td>\n",
       "    </tr>\n",
       "    <tr>\n",
       "      <th>51</th>\n",
       "      <td>0.375908</td>\n",
       "      <td>0.692279</td>\n",
       "      <td>dummy_constant</td>\n",
       "      <td>0.375908</td>\n",
       "      <td>0.692279</td>\n",
       "      <td>-0.368933</td>\n",
       "      <td>0.052370</td>\n",
       "      <td>0.000026</td>\n",
       "      <td>False</td>\n",
       "    </tr>\n",
       "    <tr>\n",
       "      <th>52</th>\n",
       "      <td>0.899376</td>\n",
       "      <td>0.439800</td>\n",
       "      <td>dummy_constant</td>\n",
       "      <td>0.899376</td>\n",
       "      <td>0.439800</td>\n",
       "      <td>-0.052247</td>\n",
       "      <td>0.163125</td>\n",
       "      <td>0.000026</td>\n",
       "      <td>False</td>\n",
       "    </tr>\n",
       "    <tr>\n",
       "      <th>53</th>\n",
       "      <td>0.561693</td>\n",
       "      <td>0.816269</td>\n",
       "      <td>dummy_constant</td>\n",
       "      <td>0.561693</td>\n",
       "      <td>0.816269</td>\n",
       "      <td>0.079414</td>\n",
       "      <td>0.103832</td>\n",
       "      <td>0.000027</td>\n",
       "      <td>False</td>\n",
       "    </tr>\n",
       "    <tr>\n",
       "      <th>54</th>\n",
       "      <td>0.144178</td>\n",
       "      <td>0.899797</td>\n",
       "      <td>dummy_constant</td>\n",
       "      <td>0.144178</td>\n",
       "      <td>0.899797</td>\n",
       "      <td>-0.087013</td>\n",
       "      <td>0.286447</td>\n",
       "      <td>0.000027</td>\n",
       "      <td>False</td>\n",
       "    </tr>\n",
       "  </tbody>\n",
       "</table>\n",
       "</div>"
      ],
      "text/plain": [
       "          x1        x2               a        y1        y2        c1  \\\n",
       "0   0.576475  0.972244  dummy_constant  0.576475  0.972244  0.342714   \n",
       "1   2.787076  1.033786  dummy_constant  2.787076  1.033786  7.753982   \n",
       "2   2.953338  1.326107  dummy_constant  2.953338  1.326107  9.391582   \n",
       "3   0.496926  2.192096  dummy_constant  0.496926  2.192096  4.143316   \n",
       "4   1.048681  0.606467  dummy_constant  1.048681  0.606467  0.518532   \n",
       "5   0.000000  0.160975  dummy_constant  0.000000  0.160975 -1.074087   \n",
       "6   0.678573  0.000000  dummy_constant  0.678573  0.000000 -0.639539   \n",
       "7   0.000000  0.786433  dummy_constant  0.000000  0.786433 -0.481523   \n",
       "8   0.783398  0.020734  dummy_constant  0.783398  0.020734 -0.477028   \n",
       "9   1.062719  0.258522  dummy_constant  1.062719  0.258522  0.274184   \n",
       "10  0.230951  1.009515  dummy_constant  0.230951  1.009515  0.162203   \n",
       "11  0.798578  0.708028  dummy_constant  0.798578  0.708028  0.081717   \n",
       "12  1.015200  0.091446  dummy_constant  1.015200  0.091446  0.025689   \n",
       "13  0.965074  0.110897  dummy_constant  0.965074  0.110897 -0.030651   \n",
       "14  0.047566  1.000421  dummy_constant  0.047566  1.000421 -0.069368   \n",
       "15  0.935608  0.403506  dummy_constant  0.935608  0.403506 -0.059150   \n",
       "16  0.878439  0.262036  dummy_constant  0.878439  0.262036 -0.152279   \n",
       "17  0.204065  0.874633  dummy_constant  0.204065  0.874633 -0.106883   \n",
       "18  0.734169  0.255983  dummy_constant  0.734169  0.255983 -0.456420   \n",
       "19  0.086103  1.042913  dummy_constant  0.086103  1.042913  0.070067   \n",
       "20  0.537302  0.399530  dummy_constant  0.537302  0.399530 -0.482397   \n",
       "21  0.889520  0.565534  dummy_constant  0.889520  0.565534  0.204528   \n",
       "22  1.611886  0.465510  dummy_constant  1.611886  0.465510  1.836114   \n",
       "23  0.491072  0.859279  dummy_constant  0.491072  0.859279  0.023291   \n",
       "24  0.662398  0.775850  dummy_constant  0.662398  0.775850  0.010084   \n",
       "25  1.049735  0.062880  dummy_constant  1.049735  0.062880  0.048322   \n",
       "26  0.914972  0.124106  dummy_constant  0.914972  0.124106 -0.092098   \n",
       "27  0.784318  0.544925  dummy_constant  0.784318  0.544925  0.007905   \n",
       "28  0.771476  0.640372  dummy_constant  0.771476  0.640372 -0.003665   \n",
       "29  0.580909  0.832575  dummy_constant  0.580909  0.832575  0.125486   \n",
       "30  0.864141  0.520223  dummy_constant  0.864141  0.520223  0.090238   \n",
       "31  0.664497  0.358566  dummy_constant  0.664497  0.358566 -0.423553   \n",
       "32  0.538255  0.840870  dummy_constant  0.538255  0.840870  0.091877   \n",
       "33  1.153947  0.030264  dummy_constant  1.153947  0.030264  0.241183   \n",
       "34  0.485396  0.639288  dummy_constant  0.485396  0.639288 -0.298826   \n",
       "35  1.030101  0.044058  dummy_constant  1.030101  0.044058 -0.014462   \n",
       "36  1.482805  0.038168  dummy_constant  1.482805  0.038168  1.108527   \n",
       "37  0.694361  0.616008  dummy_constant  0.694361  0.616008 -0.196111   \n",
       "38  0.980461  0.228786  dummy_constant  0.980461  0.228786  0.100114   \n",
       "39  0.590937  0.792718  dummy_constant  0.590937  0.792718  0.045492   \n",
       "40  0.126736  1.123083  dummy_constant  0.126736  1.123083  0.299897   \n",
       "41  0.865483  0.037652  dummy_constant  0.865483  0.037652 -0.326287   \n",
       "42  1.038728  0.045484  dummy_constant  1.038728  0.045484  0.004552   \n",
       "43  0.946189  0.303946  dummy_constant  0.946189  0.303946 -0.038123   \n",
       "44  0.293219  0.930330  dummy_constant  0.293219  0.930330 -0.065700   \n",
       "45  0.276790  0.041027  dummy_constant  0.276790  0.041027 -0.851115   \n",
       "46  0.467589  0.690400  dummy_constant  0.467589  0.690400 -0.205210   \n",
       "47  0.803424  0.395075  dummy_constant  0.803424  0.395075 -0.249987   \n",
       "48  0.703621  0.714796  dummy_constant  0.703621  0.714796 -0.093191   \n",
       "49  0.032138  1.113022  dummy_constant  0.032138  1.113022  0.150328   \n",
       "50  0.384881  0.793326  dummy_constant  0.384881  0.793326 -0.281159   \n",
       "51  0.375908  0.692279  dummy_constant  0.375908  0.692279 -0.368933   \n",
       "52  0.899376  0.439800  dummy_constant  0.899376  0.439800 -0.052247   \n",
       "53  0.561693  0.816269  dummy_constant  0.561693  0.816269  0.079414   \n",
       "54  0.144178  0.899797  dummy_constant  0.144178  0.899797 -0.087013   \n",
       "\n",
       "          c2  xopt_runtime  xopt_error  \n",
       "0   0.228863      0.000034       False  \n",
       "1   5.515645      0.000009       False  \n",
       "2   6.701320      0.000007       False  \n",
       "3   2.863197      0.000007       False  \n",
       "4   0.312386      0.000006       False  \n",
       "5   0.364938      0.000024       False  \n",
       "6   0.281888      0.000023       False  \n",
       "7   0.332044      0.000022       False  \n",
       "8   0.310011      0.000022       False  \n",
       "9   0.374965      0.000024       False  \n",
       "10  0.331993      0.000023       False  \n",
       "11  0.132424      0.000023       False  \n",
       "12  0.432347      0.000022       False  \n",
       "13  0.367696      0.000023       False  \n",
       "14  0.455117      0.000023       False  \n",
       "15  0.199065      0.000024       False  \n",
       "16  0.199843      0.000024       False  \n",
       "17  0.227928      0.000023       False  \n",
       "18  0.114380      0.000023       False  \n",
       "19  0.466065      0.000025       False  \n",
       "20  0.011486      0.000025       False  \n",
       "21  0.156021      0.000024       False  \n",
       "22  1.237480      0.000024       False  \n",
       "23  0.129161      0.000025       False  \n",
       "24  0.102466      0.000026       False  \n",
       "25  0.493283      0.000024       False  \n",
       "26  0.313499      0.000026       False  \n",
       "27  0.082855      0.000024       False  \n",
       "28  0.093403      0.000025       False  \n",
       "29  0.117153      0.000025       False  \n",
       "30  0.133008      0.000025       False  \n",
       "31  0.047063      0.000025       False  \n",
       "32  0.117656      0.000026       False  \n",
       "33  0.648299      0.000030       False  \n",
       "34  0.019614      0.000025       False  \n",
       "35  0.488890      0.000026       False  \n",
       "36  1.179195      0.000026       False  \n",
       "37  0.051234      0.000025       False  \n",
       "38  0.304400      0.000026       False  \n",
       "39  0.093953      0.000025       False  \n",
       "40  0.527559      0.000026       False  \n",
       "41  0.347343      0.000024       False  \n",
       "42  0.496813      0.000025       False  \n",
       "43  0.237521      0.000025       False  \n",
       "44  0.227942      0.000025       False  \n",
       "45  0.260479      0.000026       False  \n",
       "46  0.037303      0.000025       False  \n",
       "47  0.103075      0.000024       False  \n",
       "48  0.087599      0.000026       False  \n",
       "49  0.594690      0.000025       False  \n",
       "50  0.099293      0.000026       False  \n",
       "51  0.052370      0.000026       False  \n",
       "52  0.163125      0.000026       False  \n",
       "53  0.103832      0.000027       False  \n",
       "54  0.286447      0.000027       False  "
      ]
     },
     "execution_count": 3,
     "metadata": {},
     "output_type": "execute_result"
    }
   ],
   "source": [
    "X.generator.data"
   ]
  },
  {
   "cell_type": "markdown",
   "metadata": {
    "collapsed": false
   },
   "source": [
    "## plot results\n"
   ]
  },
  {
   "cell_type": "code",
   "execution_count": 4,
   "metadata": {
    "collapsed": false,
    "execution": {
     "iopub.execute_input": "2024-01-30T21:45:48.256226Z",
     "iopub.status.busy": "2024-01-30T21:45:48.256045Z",
     "iopub.status.idle": "2024-01-30T21:45:48.722927Z",
     "shell.execute_reply": "2024-01-30T21:45:48.722363Z"
    }
   },
   "outputs": [
    {
     "data": {
      "image/png": "[encoded data removed]",
      "text/plain": [
       "<Figure size 640x480 with 1 Axes>"
      ]
     },
     "metadata": {},
     "output_type": "display_data"
    }
   ],
   "source": [
    "import matplotlib.pyplot as plt\n",
    "import numpy as np\n",
    "import pandas as pd\n",
    "\n",
    "fig, ax = plt.subplots()\n",
    "\n",
    "theta = np.linspace(0, np.pi / 2)\n",
    "r = np.sqrt(1 + 0.1 * np.cos(16 * theta))\n",
    "x_1 = r * np.sin(theta)\n",
    "x_2_lower = r * np.cos(theta)\n",
    "x_2_upper = (0.5 - (x_1 - 0.5) ** 2) ** 0.5 + 0.5\n",
    "\n",
    "z = np.zeros_like(x_1)\n",
    "\n",
    "# ax2.plot(x_1, x_2_lower,'r')\n",
    "ax.fill_between(x_1, z, x_2_lower, fc=\"white\")\n",
    "circle = plt.Circle(\n",
    "    (0.5, 0.5), 0.5 ** 0.5, color=\"r\", alpha=0.25, zorder=0, label=\"Valid Region\"\n",
    ")\n",
    "ax.add_patch(circle)\n",
    "history = pd.concat(\n",
    "    [X.data, X.vocs.feasibility_data(X.data)], axis=1, ignore_index=False\n",
    ")\n",
    "\n",
    "\n",
    "ax.plot(*history[[\"x1\", \"x2\"]][history[\"feasible\"]].to_numpy().T, \".C1\")\n",
    "ax.plot(*history[[\"x1\", \"x2\"]][~history[\"feasible\"]].to_numpy().T, \".C2\")\n",
    "\n",
    "ax.set_xlim(0, 3.14)\n",
    "ax.set_ylim(0, 3.14)\n",
    "ax.set_xlabel(\"x1\")\n",
    "ax.set_ylabel(\"x2\")\n",
    "ax.set_aspect(\"equal\")"
   ]
  },
  {
   "cell_type": "markdown",
   "metadata": {
    "collapsed": false
   },
   "source": [
    "### Plot path through input space"
   ]
  },
  {
   "cell_type": "code",
   "execution_count": 5,
   "metadata": {
    "collapsed": false,
    "execution": {
     "iopub.execute_input": "2024-01-30T21:45:48.725339Z",
     "iopub.status.busy": "2024-01-30T21:45:48.725075Z",
     "iopub.status.idle": "2024-01-30T21:45:48.843788Z",
     "shell.execute_reply": "2024-01-30T21:45:48.843301Z"
    }
   },
   "outputs": [
    {
     "data": {
      "image/png": "[encoded data removed]",
      "text/plain": [
       "<Figure size 640x480 with 1 Axes>"
      ]
     },
     "metadata": {},
     "output_type": "display_data"
    }
   ],
   "source": [
    "ax = history.plot(\"x1\", \"x2\")\n",
    "ax.set_ylim(0, 3.14)\n",
    "ax.set_xlim(0, 3.14)\n",
    "ax.set_aspect(\"equal\")"
   ]
  },
  {
   "cell_type": "code",
   "execution_count": 6,
   "metadata": {
    "collapsed": false,
    "execution": {
     "iopub.execute_input": "2024-01-30T21:45:48.846072Z",
     "iopub.status.busy": "2024-01-30T21:45:48.845726Z",
     "iopub.status.idle": "2024-01-30T21:45:53.561437Z",
     "shell.execute_reply": "2024-01-30T21:45:53.560815Z"
    }
   },
   "outputs": [
    {
     "name": "stdout",
     "output_type": "stream",
     "text": [
      "[[0.52591542 0.56721673]]\n"
     ]
    },
    {
     "data": {
      "text/plain": [
       "[<matplotlib.lines.Line2D at 0x7f3439481430>]"
      ]
     },
     "execution_count": 6,
     "metadata": {},
     "output_type": "execute_result"
    },
    {
     "data": {
      "image/png": "[encoded data removed]",
      "text/plain": [
       "<Figure size 800x800 with 2 Axes>"
      ]
     },
     "metadata": {},
     "output_type": "display_data"
    },
    {
     "data": {
      "image/png": "[encoded data removed]",
      "text/plain": [
       "<Figure size 800x800 with 2 Axes>"
      ]
     },
     "metadata": {},
     "output_type": "display_data"
    }
   ],
   "source": [
    "# plot the acquisition function\n",
    "from xopt.generators.bayesian.objectives import feasibility\n",
    "\n",
    "bounds = X.generator.vocs.bounds\n",
    "model = X.generator.model\n",
    "\n",
    "# create mesh\n",
    "n = 100\n",
    "x = torch.linspace(*bounds.T[0], n)\n",
    "y = torch.linspace(*bounds.T[1], n)\n",
    "xx, yy = torch.meshgrid(x, y)\n",
    "pts = torch.hstack([ele.reshape(-1, 1) for ele in (xx, yy)]).double()\n",
    "\n",
    "xx, yy = xx.numpy(), yy.numpy()\n",
    "\n",
    "acq_func = X.generator.get_acquisition(model)\n",
    "with torch.no_grad():\n",
    "    acq_pts = pts.unsqueeze(1)\n",
    "    acq = acq_func(acq_pts)\n",
    "\n",
    "    fig, ax = plt.subplots(figsize=(8,8))\n",
    "    c = ax.pcolor(xx, yy, acq.reshape(n, n), cmap=\"Blues\")\n",
    "    fig.colorbar(c)\n",
    "    ax.set_title(\"Acquisition function\")\n",
    "\n",
    "    ax.plot(*history[[\"x1\", \"x2\"]][history[\"feasible\"]].to_numpy().T, \".C1\")\n",
    "    ax.plot(*history[[\"x1\", \"x2\"]][~history[\"feasible\"]].to_numpy().T, \".C2\")\n",
    "\n",
    "    ax.plot(*history[[\"x1\", \"x2\"]].to_numpy()[-1].T, \"+\")\n",
    "\n",
    "    feas = feasibility(pts.unsqueeze(1), model, X.vocs).flatten()\n",
    "\n",
    "    fig2, ax2 = plt.subplots(figsize=(8,8))\n",
    "    c = ax2.pcolor(xx, yy, feas.reshape(n, n))\n",
    "    fig2.colorbar(c)\n",
    "    ax2.set_title(\"Feasible Region\")\n",
    "\n",
    "candidate = pd.DataFrame(X.generator.generate(1), index=[0])\n",
    "print(candidate[[\"x1\", \"x2\"]].to_numpy())\n",
    "ax.plot(*candidate[[\"x1\", \"x2\"]].to_numpy()[0], \"o\")"
   ]
  }
 ],
 "metadata": {
  "interpreter": {
   "hash": "72034539424920dfb606fe3b820b3f27dca0cbf1c69938110810ec4641e275b1"
  },
  "kernelspec": {
   "display_name": "Python 3 (ipykernel)",
   "language": "python",
   "name": "python3"
  },
  "language_info": {
   "codemirror_mode": {
    "name": "ipython",
    "version": 3
   },
   "file_extension": ".py",
   "mimetype": "text/x-python",
   "name": "python",
   "nbconvert_exporter": "python",
   "pygments_lexer": "ipython3",
   "version": "3.9.18"
  }
 },
 "nbformat": 4,
 "nbformat_minor": 4
}
