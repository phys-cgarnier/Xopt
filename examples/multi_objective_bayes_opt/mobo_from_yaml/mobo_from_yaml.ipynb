{
 "cells": [
  {
   "cell_type": "markdown",
   "metadata": {},
   "source": [
    "\n",
    "# Multi-objective Bayesian Optimization\n",
    "\n",
    "\n",
    "TNK function\n",
    "$n=2$ variables:\n",
    "$x_i \\in [0, \\pi], i=1,2$\n",
    "\n",
    "Objectives:\n",
    "- $f_i(x) = x_i$\n",
    "\n",
    "Constraints:\n",
    "- $g_1(x) = -x_1^2 -x_2^2 + 1 + 0.1 \\cos\\left(16 \\arctan \\frac{x_1}{x_2}\\right) \\le 0$\n",
    "- $g_2(x) = (x_1 - 1/2)^2 + (x_2-1/2)^2 \\le 0.5$"
   ]
  },
  {
   "cell_type": "code",
   "execution_count": 1,
   "metadata": {
    "collapsed": false,
    "execution": {
     "iopub.execute_input": "2024-03-12T21:04:10.291821Z",
     "iopub.status.busy": "2024-03-12T21:04:10.291321Z",
     "iopub.status.idle": "2024-03-12T21:04:11.726453Z",
     "shell.execute_reply": "2024-03-12T21:04:11.725854Z"
    }
   },
   "outputs": [],
   "source": [
    "import os\n",
    "SMOKE_TEST = os.environ.get(\"SMOKE_TEST\")\n",
    "NUM_STEPS = 2 if SMOKE_TEST else 50\n",
    "\n",
    "# Ignore all warnings\n",
    "import warnings\n",
    "warnings.filterwarnings(\"ignore\")\n",
    "\n",
    "import torch\n",
    "from xopt import Xopt\n",
    "\n",
    "\n",
    "YAML = \"\"\"\n",
    "generator:\n",
    "    name: mobo\n",
    "    reference_point: {y1: 1.5, y2: 1.5}\n",
    "\n",
    "evaluator:\n",
    "    function: xopt.resources.test_functions.tnk.evaluate_TNK\n",
    "\n",
    "vocs:\n",
    "    variables:\n",
    "        x1: [0, 3.14159]\n",
    "        x2: [0, 3.14159]\n",
    "    objectives: {y1: MINIMIZE, y2: MINIMIZE}\n",
    "    constraints:\n",
    "        c1: [GREATER_THAN, 0]\n",
    "        c2: [LESS_THAN, 0.5]\n",
    "    constants: {a: dummy_constant}\n",
    "\n",
    "\"\"\""
   ]
  },
  {
   "cell_type": "code",
   "execution_count": 2,
   "metadata": {
    "collapsed": false,
    "execution": {
     "iopub.execute_input": "2024-03-12T21:04:11.729275Z",
     "iopub.status.busy": "2024-03-12T21:04:11.728945Z",
     "iopub.status.idle": "2024-03-12T21:04:59.036726Z",
     "shell.execute_reply": "2024-03-12T21:04:59.036121Z"
    }
   },
   "outputs": [
    {
     "name": "stdout",
     "output_type": "stream",
     "text": [
      "0\n"
     ]
    },
    {
     "name": "stdout",
     "output_type": "stream",
     "text": [
      "1\n"
     ]
    },
    {
     "name": "stdout",
     "output_type": "stream",
     "text": [
      "2\n"
     ]
    },
    {
     "name": "stdout",
     "output_type": "stream",
     "text": [
      "3\n"
     ]
    },
    {
     "name": "stdout",
     "output_type": "stream",
     "text": [
      "4\n"
     ]
    },
    {
     "name": "stdout",
     "output_type": "stream",
     "text": [
      "5\n"
     ]
    },
    {
     "name": "stdout",
     "output_type": "stream",
     "text": [
      "6\n"
     ]
    },
    {
     "name": "stdout",
     "output_type": "stream",
     "text": [
      "7\n"
     ]
    },
    {
     "name": "stdout",
     "output_type": "stream",
     "text": [
      "8\n"
     ]
    },
    {
     "name": "stdout",
     "output_type": "stream",
     "text": [
      "9\n"
     ]
    },
    {
     "name": "stdout",
     "output_type": "stream",
     "text": [
      "10\n"
     ]
    },
    {
     "name": "stdout",
     "output_type": "stream",
     "text": [
      "11\n"
     ]
    },
    {
     "name": "stdout",
     "output_type": "stream",
     "text": [
      "12\n"
     ]
    },
    {
     "name": "stdout",
     "output_type": "stream",
     "text": [
      "13\n"
     ]
    },
    {
     "name": "stdout",
     "output_type": "stream",
     "text": [
      "14\n"
     ]
    },
    {
     "name": "stdout",
     "output_type": "stream",
     "text": [
      "15\n"
     ]
    },
    {
     "name": "stdout",
     "output_type": "stream",
     "text": [
      "16\n"
     ]
    },
    {
     "name": "stdout",
     "output_type": "stream",
     "text": [
      "17\n"
     ]
    },
    {
     "name": "stdout",
     "output_type": "stream",
     "text": [
      "18\n"
     ]
    },
    {
     "name": "stdout",
     "output_type": "stream",
     "text": [
      "19\n"
     ]
    },
    {
     "name": "stdout",
     "output_type": "stream",
     "text": [
      "20\n"
     ]
    },
    {
     "name": "stdout",
     "output_type": "stream",
     "text": [
      "21\n"
     ]
    },
    {
     "name": "stdout",
     "output_type": "stream",
     "text": [
      "22\n"
     ]
    },
    {
     "name": "stdout",
     "output_type": "stream",
     "text": [
      "23\n"
     ]
    },
    {
     "name": "stdout",
     "output_type": "stream",
     "text": [
      "24\n"
     ]
    },
    {
     "name": "stdout",
     "output_type": "stream",
     "text": [
      "25\n"
     ]
    },
    {
     "name": "stdout",
     "output_type": "stream",
     "text": [
      "26\n"
     ]
    },
    {
     "name": "stdout",
     "output_type": "stream",
     "text": [
      "27\n"
     ]
    },
    {
     "name": "stdout",
     "output_type": "stream",
     "text": [
      "28\n"
     ]
    },
    {
     "name": "stdout",
     "output_type": "stream",
     "text": [
      "29\n"
     ]
    },
    {
     "name": "stdout",
     "output_type": "stream",
     "text": [
      "30\n"
     ]
    },
    {
     "name": "stdout",
     "output_type": "stream",
     "text": [
      "31\n"
     ]
    },
    {
     "name": "stdout",
     "output_type": "stream",
     "text": [
      "32\n"
     ]
    },
    {
     "name": "stdout",
     "output_type": "stream",
     "text": [
      "33\n"
     ]
    },
    {
     "name": "stdout",
     "output_type": "stream",
     "text": [
      "34\n"
     ]
    },
    {
     "name": "stdout",
     "output_type": "stream",
     "text": [
      "35\n"
     ]
    },
    {
     "name": "stdout",
     "output_type": "stream",
     "text": [
      "36\n"
     ]
    },
    {
     "name": "stdout",
     "output_type": "stream",
     "text": [
      "37\n"
     ]
    },
    {
     "name": "stdout",
     "output_type": "stream",
     "text": [
      "38\n"
     ]
    },
    {
     "name": "stdout",
     "output_type": "stream",
     "text": [
      "39\n"
     ]
    },
    {
     "name": "stdout",
     "output_type": "stream",
     "text": [
      "40\n"
     ]
    },
    {
     "name": "stdout",
     "output_type": "stream",
     "text": [
      "41\n"
     ]
    },
    {
     "name": "stdout",
     "output_type": "stream",
     "text": [
      "42\n"
     ]
    },
    {
     "name": "stdout",
     "output_type": "stream",
     "text": [
      "43\n"
     ]
    },
    {
     "name": "stdout",
     "output_type": "stream",
     "text": [
      "44\n"
     ]
    },
    {
     "name": "stdout",
     "output_type": "stream",
     "text": [
      "45\n"
     ]
    },
    {
     "name": "stdout",
     "output_type": "stream",
     "text": [
      "46\n"
     ]
    },
    {
     "name": "stdout",
     "output_type": "stream",
     "text": [
      "47\n"
     ]
    },
    {
     "name": "stdout",
     "output_type": "stream",
     "text": [
      "48\n"
     ]
    },
    {
     "name": "stdout",
     "output_type": "stream",
     "text": [
      "49\n"
     ]
    }
   ],
   "source": [
    "X = Xopt.from_yaml(YAML)\n",
    "\n",
    "# for testing purposes only\n",
    "if SMOKE_TEST:\n",
    "    X.generator.numerical_optimizer.n_restarts = 1\n",
    "    X.generator.n_monte_carlo_samples = 1\n",
    "\n",
    "X.random_evaluate(5)\n",
    "for i in range(NUM_STEPS):\n",
    "    print(i)\n",
    "    X.step()"
   ]
  },
  {
   "cell_type": "code",
   "execution_count": 3,
   "metadata": {
    "collapsed": false,
    "execution": {
     "iopub.execute_input": "2024-03-12T21:04:59.039674Z",
     "iopub.status.busy": "2024-03-12T21:04:59.039227Z",
     "iopub.status.idle": "2024-03-12T21:04:59.057858Z",
     "shell.execute_reply": "2024-03-12T21:04:59.057329Z"
    }
   },
   "outputs": [
    {
     "data": {
      "text/html": [
       "<div>\n",
       "<style scoped>\n",
       "    .dataframe tbody tr th:only-of-type {\n",
       "        vertical-align: middle;\n",
       "    }\n",
       "\n",
       "    .dataframe tbody tr th {\n",
       "        vertical-align: top;\n",
       "    }\n",
       "\n",
       "    .dataframe thead th {\n",
       "        text-align: right;\n",
       "    }\n",
       "</style>\n",
       "<table border=\"1\" class=\"dataframe\">\n",
       "  <thead>\n",
       "    <tr style=\"text-align: right;\">\n",
       "      <th></th>\n",
       "      <th>x1</th>\n",
       "      <th>x2</th>\n",
       "      <th>a</th>\n",
       "      <th>y1</th>\n",
       "      <th>y2</th>\n",
       "      <th>c1</th>\n",
       "      <th>c2</th>\n",
       "      <th>xopt_runtime</th>\n",
       "      <th>xopt_error</th>\n",
       "    </tr>\n",
       "  </thead>\n",
       "  <tbody>\n",
       "    <tr>\n",
       "      <th>0</th>\n",
       "      <td>0.880448</td>\n",
       "      <td>2.590029</td>\n",
       "      <td>dummy_constant</td>\n",
       "      <td>0.880448</td>\n",
       "      <td>2.590029</td>\n",
       "      <td>6.432842</td>\n",
       "      <td>4.512964</td>\n",
       "      <td>0.000033</td>\n",
       "      <td>False</td>\n",
       "    </tr>\n",
       "    <tr>\n",
       "      <th>1</th>\n",
       "      <td>1.687941</td>\n",
       "      <td>1.392590</td>\n",
       "      <td>dummy_constant</td>\n",
       "      <td>1.687941</td>\n",
       "      <td>1.392590</td>\n",
       "      <td>3.784307</td>\n",
       "      <td>2.207920</td>\n",
       "      <td>0.000008</td>\n",
       "      <td>False</td>\n",
       "    </tr>\n",
       "    <tr>\n",
       "      <th>2</th>\n",
       "      <td>0.871833</td>\n",
       "      <td>0.087554</td>\n",
       "      <td>dummy_constant</td>\n",
       "      <td>0.871833</td>\n",
       "      <td>0.087554</td>\n",
       "      <td>-0.229178</td>\n",
       "      <td>0.308372</td>\n",
       "      <td>0.000007</td>\n",
       "      <td>False</td>\n",
       "    </tr>\n",
       "    <tr>\n",
       "      <th>3</th>\n",
       "      <td>1.806769</td>\n",
       "      <td>0.321767</td>\n",
       "      <td>dummy_constant</td>\n",
       "      <td>1.806769</td>\n",
       "      <td>0.321767</td>\n",
       "      <td>2.462817</td>\n",
       "      <td>1.739412</td>\n",
       "      <td>0.000006</td>\n",
       "      <td>False</td>\n",
       "    </tr>\n",
       "    <tr>\n",
       "      <th>4</th>\n",
       "      <td>1.415659</td>\n",
       "      <td>2.853082</td>\n",
       "      <td>dummy_constant</td>\n",
       "      <td>1.415659</td>\n",
       "      <td>2.853082</td>\n",
       "      <td>9.097592</td>\n",
       "      <td>6.375429</td>\n",
       "      <td>0.000005</td>\n",
       "      <td>False</td>\n",
       "    </tr>\n",
       "    <tr>\n",
       "      <th>5</th>\n",
       "      <td>0.748583</td>\n",
       "      <td>0.353361</td>\n",
       "      <td>dummy_constant</td>\n",
       "      <td>0.748583</td>\n",
       "      <td>0.353361</td>\n",
       "      <td>-0.386321</td>\n",
       "      <td>0.083296</td>\n",
       "      <td>0.000023</td>\n",
       "      <td>False</td>\n",
       "    </tr>\n",
       "    <tr>\n",
       "      <th>6</th>\n",
       "      <td>0.517325</td>\n",
       "      <td>0.000000</td>\n",
       "      <td>dummy_constant</td>\n",
       "      <td>0.517325</td>\n",
       "      <td>0.000000</td>\n",
       "      <td>-0.832375</td>\n",
       "      <td>0.250300</td>\n",
       "      <td>0.000023</td>\n",
       "      <td>False</td>\n",
       "    </tr>\n",
       "    <tr>\n",
       "      <th>7</th>\n",
       "      <td>0.997841</td>\n",
       "      <td>0.137916</td>\n",
       "      <td>dummy_constant</td>\n",
       "      <td>0.997841</td>\n",
       "      <td>0.137916</td>\n",
       "      <td>0.073357</td>\n",
       "      <td>0.378950</td>\n",
       "      <td>0.000023</td>\n",
       "      <td>False</td>\n",
       "    </tr>\n",
       "    <tr>\n",
       "      <th>8</th>\n",
       "      <td>0.640603</td>\n",
       "      <td>0.833842</td>\n",
       "      <td>dummy_constant</td>\n",
       "      <td>0.640603</td>\n",
       "      <td>0.833842</td>\n",
       "      <td>0.154853</td>\n",
       "      <td>0.131220</td>\n",
       "      <td>0.000023</td>\n",
       "      <td>False</td>\n",
       "    </tr>\n",
       "    <tr>\n",
       "      <th>9</th>\n",
       "      <td>0.316261</td>\n",
       "      <td>0.936121</td>\n",
       "      <td>dummy_constant</td>\n",
       "      <td>0.316261</td>\n",
       "      <td>0.936121</td>\n",
       "      <td>-0.071638</td>\n",
       "      <td>0.223962</td>\n",
       "      <td>0.000024</td>\n",
       "      <td>False</td>\n",
       "    </tr>\n",
       "    <tr>\n",
       "      <th>10</th>\n",
       "      <td>0.286807</td>\n",
       "      <td>1.047107</td>\n",
       "      <td>dummy_constant</td>\n",
       "      <td>0.286807</td>\n",
       "      <td>1.047107</td>\n",
       "      <td>0.220818</td>\n",
       "      <td>0.344778</td>\n",
       "      <td>0.000024</td>\n",
       "      <td>False</td>\n",
       "    </tr>\n",
       "    <tr>\n",
       "      <th>11</th>\n",
       "      <td>0.090840</td>\n",
       "      <td>1.061155</td>\n",
       "      <td>dummy_constant</td>\n",
       "      <td>0.090840</td>\n",
       "      <td>1.061155</td>\n",
       "      <td>0.114000</td>\n",
       "      <td>0.482306</td>\n",
       "      <td>0.000023</td>\n",
       "      <td>False</td>\n",
       "    </tr>\n",
       "    <tr>\n",
       "      <th>12</th>\n",
       "      <td>0.151519</td>\n",
       "      <td>1.017529</td>\n",
       "      <td>dummy_constant</td>\n",
       "      <td>0.151519</td>\n",
       "      <td>1.017529</td>\n",
       "      <td>0.129665</td>\n",
       "      <td>0.389275</td>\n",
       "      <td>0.000024</td>\n",
       "      <td>False</td>\n",
       "    </tr>\n",
       "    <tr>\n",
       "      <th>13</th>\n",
       "      <td>0.988117</td>\n",
       "      <td>0.016450</td>\n",
       "      <td>dummy_constant</td>\n",
       "      <td>0.988117</td>\n",
       "      <td>0.016450</td>\n",
       "      <td>-0.119829</td>\n",
       "      <td>0.472078</td>\n",
       "      <td>0.000024</td>\n",
       "      <td>False</td>\n",
       "    </tr>\n",
       "    <tr>\n",
       "      <th>14</th>\n",
       "      <td>0.944294</td>\n",
       "      <td>0.436067</td>\n",
       "      <td>dummy_constant</td>\n",
       "      <td>0.944294</td>\n",
       "      <td>0.436067</td>\n",
       "      <td>0.001557</td>\n",
       "      <td>0.201485</td>\n",
       "      <td>0.000025</td>\n",
       "      <td>False</td>\n",
       "    </tr>\n",
       "    <tr>\n",
       "      <th>15</th>\n",
       "      <td>0.850739</td>\n",
       "      <td>0.665323</td>\n",
       "      <td>dummy_constant</td>\n",
       "      <td>0.850739</td>\n",
       "      <td>0.665323</td>\n",
       "      <td>0.203164</td>\n",
       "      <td>0.150349</td>\n",
       "      <td>0.000024</td>\n",
       "      <td>False</td>\n",
       "    </tr>\n",
       "    <tr>\n",
       "      <th>16</th>\n",
       "      <td>1.041773</td>\n",
       "      <td>0.082419</td>\n",
       "      <td>dummy_constant</td>\n",
       "      <td>1.041773</td>\n",
       "      <td>0.082419</td>\n",
       "      <td>0.061808</td>\n",
       "      <td>0.467892</td>\n",
       "      <td>0.000031</td>\n",
       "      <td>False</td>\n",
       "    </tr>\n",
       "    <tr>\n",
       "      <th>17</th>\n",
       "      <td>0.476146</td>\n",
       "      <td>0.906454</td>\n",
       "      <td>dummy_constant</td>\n",
       "      <td>0.476146</td>\n",
       "      <td>0.906454</td>\n",
       "      <td>0.036872</td>\n",
       "      <td>0.165774</td>\n",
       "      <td>0.000024</td>\n",
       "      <td>False</td>\n",
       "    </tr>\n",
       "    <tr>\n",
       "      <th>18</th>\n",
       "      <td>0.498562</td>\n",
       "      <td>0.087607</td>\n",
       "      <td>dummy_constant</td>\n",
       "      <td>0.498562</td>\n",
       "      <td>0.087607</td>\n",
       "      <td>-0.650119</td>\n",
       "      <td>0.170070</td>\n",
       "      <td>0.000024</td>\n",
       "      <td>False</td>\n",
       "    </tr>\n",
       "    <tr>\n",
       "      <th>19</th>\n",
       "      <td>0.284131</td>\n",
       "      <td>0.978228</td>\n",
       "      <td>dummy_constant</td>\n",
       "      <td>0.284131</td>\n",
       "      <td>0.978228</td>\n",
       "      <td>0.056502</td>\n",
       "      <td>0.275301</td>\n",
       "      <td>0.000024</td>\n",
       "      <td>False</td>\n",
       "    </tr>\n",
       "    <tr>\n",
       "      <th>20</th>\n",
       "      <td>0.351326</td>\n",
       "      <td>0.585415</td>\n",
       "      <td>dummy_constant</td>\n",
       "      <td>0.351326</td>\n",
       "      <td>0.585415</td>\n",
       "      <td>-0.462524</td>\n",
       "      <td>0.029400</td>\n",
       "      <td>0.000025</td>\n",
       "      <td>False</td>\n",
       "    </tr>\n",
       "    <tr>\n",
       "      <th>21</th>\n",
       "      <td>0.729477</td>\n",
       "      <td>0.711808</td>\n",
       "      <td>dummy_constant</td>\n",
       "      <td>0.729477</td>\n",
       "      <td>0.711808</td>\n",
       "      <td>-0.059275</td>\n",
       "      <td>0.097523</td>\n",
       "      <td>0.000024</td>\n",
       "      <td>False</td>\n",
       "    </tr>\n",
       "    <tr>\n",
       "      <th>22</th>\n",
       "      <td>0.125148</td>\n",
       "      <td>0.144202</td>\n",
       "      <td>dummy_constant</td>\n",
       "      <td>0.125148</td>\n",
       "      <td>0.144202</td>\n",
       "      <td>-1.006212</td>\n",
       "      <td>0.267107</td>\n",
       "      <td>0.000025</td>\n",
       "      <td>False</td>\n",
       "    </tr>\n",
       "    <tr>\n",
       "      <th>23</th>\n",
       "      <td>1.017013</td>\n",
       "      <td>0.207665</td>\n",
       "      <td>dummy_constant</td>\n",
       "      <td>1.017013</td>\n",
       "      <td>0.207665</td>\n",
       "      <td>0.177111</td>\n",
       "      <td>0.352762</td>\n",
       "      <td>0.000025</td>\n",
       "      <td>False</td>\n",
       "    </tr>\n",
       "    <tr>\n",
       "      <th>24</th>\n",
       "      <td>0.064983</td>\n",
       "      <td>1.442420</td>\n",
       "      <td>dummy_constant</td>\n",
       "      <td>0.064983</td>\n",
       "      <td>1.442420</td>\n",
       "      <td>1.009641</td>\n",
       "      <td>1.077395</td>\n",
       "      <td>0.000024</td>\n",
       "      <td>False</td>\n",
       "    </tr>\n",
       "    <tr>\n",
       "      <th>25</th>\n",
       "      <td>0.023217</td>\n",
       "      <td>0.990289</td>\n",
       "      <td>dummy_constant</td>\n",
       "      <td>0.023217</td>\n",
       "      <td>0.990289</td>\n",
       "      <td>-0.111838</td>\n",
       "      <td>0.467705</td>\n",
       "      <td>0.000024</td>\n",
       "      <td>False</td>\n",
       "    </tr>\n",
       "    <tr>\n",
       "      <th>26</th>\n",
       "      <td>0.620239</td>\n",
       "      <td>0.451956</td>\n",
       "      <td>dummy_constant</td>\n",
       "      <td>0.620239</td>\n",
       "      <td>0.451956</td>\n",
       "      <td>-0.331473</td>\n",
       "      <td>0.016766</td>\n",
       "      <td>0.000025</td>\n",
       "      <td>False</td>\n",
       "    </tr>\n",
       "    <tr>\n",
       "      <th>27</th>\n",
       "      <td>0.036381</td>\n",
       "      <td>0.336984</td>\n",
       "      <td>dummy_constant</td>\n",
       "      <td>0.036381</td>\n",
       "      <td>0.336984</td>\n",
       "      <td>-0.870183</td>\n",
       "      <td>0.241517</td>\n",
       "      <td>0.000024</td>\n",
       "      <td>False</td>\n",
       "    </tr>\n",
       "    <tr>\n",
       "      <th>28</th>\n",
       "      <td>0.744421</td>\n",
       "      <td>0.488224</td>\n",
       "      <td>dummy_constant</td>\n",
       "      <td>0.744421</td>\n",
       "      <td>0.488224</td>\n",
       "      <td>-0.108416</td>\n",
       "      <td>0.059880</td>\n",
       "      <td>0.000025</td>\n",
       "      <td>False</td>\n",
       "    </tr>\n",
       "    <tr>\n",
       "      <th>29</th>\n",
       "      <td>0.454313</td>\n",
       "      <td>0.814776</td>\n",
       "      <td>dummy_constant</td>\n",
       "      <td>0.454313</td>\n",
       "      <td>0.814776</td>\n",
       "      <td>-0.101673</td>\n",
       "      <td>0.101171</td>\n",
       "      <td>0.000026</td>\n",
       "      <td>False</td>\n",
       "    </tr>\n",
       "    <tr>\n",
       "      <th>30</th>\n",
       "      <td>0.242114</td>\n",
       "      <td>0.270725</td>\n",
       "      <td>dummy_constant</td>\n",
       "      <td>0.242114</td>\n",
       "      <td>0.270725</td>\n",
       "      <td>-0.930897</td>\n",
       "      <td>0.119072</td>\n",
       "      <td>0.000024</td>\n",
       "      <td>False</td>\n",
       "    </tr>\n",
       "    <tr>\n",
       "      <th>31</th>\n",
       "      <td>0.053266</td>\n",
       "      <td>1.033150</td>\n",
       "      <td>dummy_constant</td>\n",
       "      <td>0.053266</td>\n",
       "      <td>1.033150</td>\n",
       "      <td>0.002321</td>\n",
       "      <td>0.483820</td>\n",
       "      <td>0.000025</td>\n",
       "      <td>False</td>\n",
       "    </tr>\n",
       "    <tr>\n",
       "      <th>32</th>\n",
       "      <td>0.357188</td>\n",
       "      <td>0.101359</td>\n",
       "      <td>dummy_constant</td>\n",
       "      <td>0.357188</td>\n",
       "      <td>0.101359</td>\n",
       "      <td>-0.833704</td>\n",
       "      <td>0.179310</td>\n",
       "      <td>0.000025</td>\n",
       "      <td>False</td>\n",
       "    </tr>\n",
       "    <tr>\n",
       "      <th>33</th>\n",
       "      <td>0.508153</td>\n",
       "      <td>0.063504</td>\n",
       "      <td>dummy_constant</td>\n",
       "      <td>0.508153</td>\n",
       "      <td>0.063504</td>\n",
       "      <td>-0.697117</td>\n",
       "      <td>0.190595</td>\n",
       "      <td>0.000025</td>\n",
       "      <td>False</td>\n",
       "    </tr>\n",
       "    <tr>\n",
       "      <th>34</th>\n",
       "      <td>0.236158</td>\n",
       "      <td>0.972129</td>\n",
       "      <td>dummy_constant</td>\n",
       "      <td>0.236158</td>\n",
       "      <td>0.972129</td>\n",
       "      <td>0.079100</td>\n",
       "      <td>0.292518</td>\n",
       "      <td>0.000025</td>\n",
       "      <td>False</td>\n",
       "    </tr>\n",
       "    <tr>\n",
       "      <th>35</th>\n",
       "      <td>0.010971</td>\n",
       "      <td>0.689080</td>\n",
       "      <td>dummy_constant</td>\n",
       "      <td>0.010971</td>\n",
       "      <td>0.689080</td>\n",
       "      <td>-0.621822</td>\n",
       "      <td>0.274901</td>\n",
       "      <td>0.000024</td>\n",
       "      <td>False</td>\n",
       "    </tr>\n",
       "    <tr>\n",
       "      <th>36</th>\n",
       "      <td>0.255477</td>\n",
       "      <td>0.951863</td>\n",
       "      <td>dummy_constant</td>\n",
       "      <td>0.255477</td>\n",
       "      <td>0.951863</td>\n",
       "      <td>0.020732</td>\n",
       "      <td>0.263972</td>\n",
       "      <td>0.000025</td>\n",
       "      <td>False</td>\n",
       "    </tr>\n",
       "    <tr>\n",
       "      <th>37</th>\n",
       "      <td>0.120540</td>\n",
       "      <td>1.348299</td>\n",
       "      <td>dummy_constant</td>\n",
       "      <td>0.120540</td>\n",
       "      <td>1.348299</td>\n",
       "      <td>0.818073</td>\n",
       "      <td>0.863600</td>\n",
       "      <td>0.000024</td>\n",
       "      <td>False</td>\n",
       "    </tr>\n",
       "    <tr>\n",
       "      <th>38</th>\n",
       "      <td>0.597949</td>\n",
       "      <td>0.723895</td>\n",
       "      <td>dummy_constant</td>\n",
       "      <td>0.597949</td>\n",
       "      <td>0.723895</td>\n",
       "      <td>-0.123519</td>\n",
       "      <td>0.059723</td>\n",
       "      <td>0.000025</td>\n",
       "      <td>False</td>\n",
       "    </tr>\n",
       "    <tr>\n",
       "      <th>39</th>\n",
       "      <td>0.908538</td>\n",
       "      <td>0.426709</td>\n",
       "      <td>dummy_constant</td>\n",
       "      <td>0.908538</td>\n",
       "      <td>0.426709</td>\n",
       "      <td>-0.066176</td>\n",
       "      <td>0.172275</td>\n",
       "      <td>0.000025</td>\n",
       "      <td>False</td>\n",
       "    </tr>\n",
       "    <tr>\n",
       "      <th>40</th>\n",
       "      <td>0.019908</td>\n",
       "      <td>1.169578</td>\n",
       "      <td>dummy_constant</td>\n",
       "      <td>0.019908</td>\n",
       "      <td>1.169578</td>\n",
       "      <td>0.271995</td>\n",
       "      <td>0.678823</td>\n",
       "      <td>0.000024</td>\n",
       "      <td>False</td>\n",
       "    </tr>\n",
       "    <tr>\n",
       "      <th>41</th>\n",
       "      <td>0.856757</td>\n",
       "      <td>0.558518</td>\n",
       "      <td>dummy_constant</td>\n",
       "      <td>0.856757</td>\n",
       "      <td>0.558518</td>\n",
       "      <td>0.144332</td>\n",
       "      <td>0.130700</td>\n",
       "      <td>0.000025</td>\n",
       "      <td>False</td>\n",
       "    </tr>\n",
       "    <tr>\n",
       "      <th>42</th>\n",
       "      <td>0.693366</td>\n",
       "      <td>0.640024</td>\n",
       "      <td>dummy_constant</td>\n",
       "      <td>0.693366</td>\n",
       "      <td>0.640024</td>\n",
       "      <td>-0.189837</td>\n",
       "      <td>0.056997</td>\n",
       "      <td>0.000025</td>\n",
       "      <td>False</td>\n",
       "    </tr>\n",
       "    <tr>\n",
       "      <th>43</th>\n",
       "      <td>0.285802</td>\n",
       "      <td>0.785586</td>\n",
       "      <td>dummy_constant</td>\n",
       "      <td>0.285802</td>\n",
       "      <td>0.785586</td>\n",
       "      <td>-0.377628</td>\n",
       "      <td>0.127440</td>\n",
       "      <td>0.000025</td>\n",
       "      <td>False</td>\n",
       "    </tr>\n",
       "    <tr>\n",
       "      <th>44</th>\n",
       "      <td>1.022205</td>\n",
       "      <td>0.037895</td>\n",
       "      <td>dummy_constant</td>\n",
       "      <td>1.022205</td>\n",
       "      <td>0.037895</td>\n",
       "      <td>-0.036594</td>\n",
       "      <td>0.486239</td>\n",
       "      <td>0.000025</td>\n",
       "      <td>False</td>\n",
       "    </tr>\n",
       "    <tr>\n",
       "      <th>45</th>\n",
       "      <td>0.138411</td>\n",
       "      <td>0.999443</td>\n",
       "      <td>dummy_constant</td>\n",
       "      <td>0.138411</td>\n",
       "      <td>0.999443</td>\n",
       "      <td>0.077041</td>\n",
       "      <td>0.380190</td>\n",
       "      <td>0.000025</td>\n",
       "      <td>False</td>\n",
       "    </tr>\n",
       "    <tr>\n",
       "      <th>46</th>\n",
       "      <td>0.882801</td>\n",
       "      <td>0.497758</td>\n",
       "      <td>dummy_constant</td>\n",
       "      <td>0.882801</td>\n",
       "      <td>0.497758</td>\n",
       "      <td>0.062376</td>\n",
       "      <td>0.146542</td>\n",
       "      <td>0.000026</td>\n",
       "      <td>False</td>\n",
       "    </tr>\n",
       "    <tr>\n",
       "      <th>47</th>\n",
       "      <td>0.963315</td>\n",
       "      <td>0.291359</td>\n",
       "      <td>dummy_constant</td>\n",
       "      <td>0.963315</td>\n",
       "      <td>0.291359</td>\n",
       "      <td>0.014174</td>\n",
       "      <td>0.258192</td>\n",
       "      <td>0.000025</td>\n",
       "      <td>False</td>\n",
       "    </tr>\n",
       "    <tr>\n",
       "      <th>48</th>\n",
       "      <td>0.086163</td>\n",
       "      <td>0.801624</td>\n",
       "      <td>dummy_constant</td>\n",
       "      <td>0.086163</td>\n",
       "      <td>0.801624</td>\n",
       "      <td>-0.335783</td>\n",
       "      <td>0.262238</td>\n",
       "      <td>0.000026</td>\n",
       "      <td>False</td>\n",
       "    </tr>\n",
       "    <tr>\n",
       "      <th>49</th>\n",
       "      <td>0.712154</td>\n",
       "      <td>0.376038</td>\n",
       "      <td>dummy_constant</td>\n",
       "      <td>0.712154</td>\n",
       "      <td>0.376038</td>\n",
       "      <td>-0.359511</td>\n",
       "      <td>0.060376</td>\n",
       "      <td>0.000025</td>\n",
       "      <td>False</td>\n",
       "    </tr>\n",
       "    <tr>\n",
       "      <th>50</th>\n",
       "      <td>0.938445</td>\n",
       "      <td>0.366694</td>\n",
       "      <td>dummy_constant</td>\n",
       "      <td>0.938445</td>\n",
       "      <td>0.366694</td>\n",
       "      <td>-0.079682</td>\n",
       "      <td>0.210004</td>\n",
       "      <td>0.000026</td>\n",
       "      <td>False</td>\n",
       "    </tr>\n",
       "    <tr>\n",
       "      <th>51</th>\n",
       "      <td>0.797455</td>\n",
       "      <td>0.639591</td>\n",
       "      <td>dummy_constant</td>\n",
       "      <td>0.797455</td>\n",
       "      <td>0.639591</td>\n",
       "      <td>0.062897</td>\n",
       "      <td>0.107965</td>\n",
       "      <td>0.000026</td>\n",
       "      <td>False</td>\n",
       "    </tr>\n",
       "    <tr>\n",
       "      <th>52</th>\n",
       "      <td>0.213038</td>\n",
       "      <td>0.377974</td>\n",
       "      <td>dummy_constant</td>\n",
       "      <td>0.213038</td>\n",
       "      <td>0.377974</td>\n",
       "      <td>-0.776712</td>\n",
       "      <td>0.097238</td>\n",
       "      <td>0.000026</td>\n",
       "      <td>False</td>\n",
       "    </tr>\n",
       "    <tr>\n",
       "      <th>53</th>\n",
       "      <td>0.657388</td>\n",
       "      <td>0.769382</td>\n",
       "      <td>dummy_constant</td>\n",
       "      <td>0.657388</td>\n",
       "      <td>0.769382</td>\n",
       "      <td>-0.007106</td>\n",
       "      <td>0.097338</td>\n",
       "      <td>0.000024</td>\n",
       "      <td>False</td>\n",
       "    </tr>\n",
       "    <tr>\n",
       "      <th>54</th>\n",
       "      <td>0.401097</td>\n",
       "      <td>0.919538</td>\n",
       "      <td>dummy_constant</td>\n",
       "      <td>0.401097</td>\n",
       "      <td>0.919538</td>\n",
       "      <td>-0.089168</td>\n",
       "      <td>0.185794</td>\n",
       "      <td>0.000027</td>\n",
       "      <td>False</td>\n",
       "    </tr>\n",
       "  </tbody>\n",
       "</table>\n",
       "</div>"
      ],
      "text/plain": [
       "          x1        x2               a        y1        y2        c1  \\\n",
       "0   0.880448  2.590029  dummy_constant  0.880448  2.590029  6.432842   \n",
       "1   1.687941  1.392590  dummy_constant  1.687941  1.392590  3.784307   \n",
       "2   0.871833  0.087554  dummy_constant  0.871833  0.087554 -0.229178   \n",
       "3   1.806769  0.321767  dummy_constant  1.806769  0.321767  2.462817   \n",
       "4   1.415659  2.853082  dummy_constant  1.415659  2.853082  9.097592   \n",
       "5   0.748583  0.353361  dummy_constant  0.748583  0.353361 -0.386321   \n",
       "6   0.517325  0.000000  dummy_constant  0.517325  0.000000 -0.832375   \n",
       "7   0.997841  0.137916  dummy_constant  0.997841  0.137916  0.073357   \n",
       "8   0.640603  0.833842  dummy_constant  0.640603  0.833842  0.154853   \n",
       "9   0.316261  0.936121  dummy_constant  0.316261  0.936121 -0.071638   \n",
       "10  0.286807  1.047107  dummy_constant  0.286807  1.047107  0.220818   \n",
       "11  0.090840  1.061155  dummy_constant  0.090840  1.061155  0.114000   \n",
       "12  0.151519  1.017529  dummy_constant  0.151519  1.017529  0.129665   \n",
       "13  0.988117  0.016450  dummy_constant  0.988117  0.016450 -0.119829   \n",
       "14  0.944294  0.436067  dummy_constant  0.944294  0.436067  0.001557   \n",
       "15  0.850739  0.665323  dummy_constant  0.850739  0.665323  0.203164   \n",
       "16  1.041773  0.082419  dummy_constant  1.041773  0.082419  0.061808   \n",
       "17  0.476146  0.906454  dummy_constant  0.476146  0.906454  0.036872   \n",
       "18  0.498562  0.087607  dummy_constant  0.498562  0.087607 -0.650119   \n",
       "19  0.284131  0.978228  dummy_constant  0.284131  0.978228  0.056502   \n",
       "20  0.351326  0.585415  dummy_constant  0.351326  0.585415 -0.462524   \n",
       "21  0.729477  0.711808  dummy_constant  0.729477  0.711808 -0.059275   \n",
       "22  0.125148  0.144202  dummy_constant  0.125148  0.144202 -1.006212   \n",
       "23  1.017013  0.207665  dummy_constant  1.017013  0.207665  0.177111   \n",
       "24  0.064983  1.442420  dummy_constant  0.064983  1.442420  1.009641   \n",
       "25  0.023217  0.990289  dummy_constant  0.023217  0.990289 -0.111838   \n",
       "26  0.620239  0.451956  dummy_constant  0.620239  0.451956 -0.331473   \n",
       "27  0.036381  0.336984  dummy_constant  0.036381  0.336984 -0.870183   \n",
       "28  0.744421  0.488224  dummy_constant  0.744421  0.488224 -0.108416   \n",
       "29  0.454313  0.814776  dummy_constant  0.454313  0.814776 -0.101673   \n",
       "30  0.242114  0.270725  dummy_constant  0.242114  0.270725 -0.930897   \n",
       "31  0.053266  1.033150  dummy_constant  0.053266  1.033150  0.002321   \n",
       "32  0.357188  0.101359  dummy_constant  0.357188  0.101359 -0.833704   \n",
       "33  0.508153  0.063504  dummy_constant  0.508153  0.063504 -0.697117   \n",
       "34  0.236158  0.972129  dummy_constant  0.236158  0.972129  0.079100   \n",
       "35  0.010971  0.689080  dummy_constant  0.010971  0.689080 -0.621822   \n",
       "36  0.255477  0.951863  dummy_constant  0.255477  0.951863  0.020732   \n",
       "37  0.120540  1.348299  dummy_constant  0.120540  1.348299  0.818073   \n",
       "38  0.597949  0.723895  dummy_constant  0.597949  0.723895 -0.123519   \n",
       "39  0.908538  0.426709  dummy_constant  0.908538  0.426709 -0.066176   \n",
       "40  0.019908  1.169578  dummy_constant  0.019908  1.169578  0.271995   \n",
       "41  0.856757  0.558518  dummy_constant  0.856757  0.558518  0.144332   \n",
       "42  0.693366  0.640024  dummy_constant  0.693366  0.640024 -0.189837   \n",
       "43  0.285802  0.785586  dummy_constant  0.285802  0.785586 -0.377628   \n",
       "44  1.022205  0.037895  dummy_constant  1.022205  0.037895 -0.036594   \n",
       "45  0.138411  0.999443  dummy_constant  0.138411  0.999443  0.077041   \n",
       "46  0.882801  0.497758  dummy_constant  0.882801  0.497758  0.062376   \n",
       "47  0.963315  0.291359  dummy_constant  0.963315  0.291359  0.014174   \n",
       "48  0.086163  0.801624  dummy_constant  0.086163  0.801624 -0.335783   \n",
       "49  0.712154  0.376038  dummy_constant  0.712154  0.376038 -0.359511   \n",
       "50  0.938445  0.366694  dummy_constant  0.938445  0.366694 -0.079682   \n",
       "51  0.797455  0.639591  dummy_constant  0.797455  0.639591  0.062897   \n",
       "52  0.213038  0.377974  dummy_constant  0.213038  0.377974 -0.776712   \n",
       "53  0.657388  0.769382  dummy_constant  0.657388  0.769382 -0.007106   \n",
       "54  0.401097  0.919538  dummy_constant  0.401097  0.919538 -0.089168   \n",
       "\n",
       "          c2  xopt_runtime  xopt_error  \n",
       "0   4.512964      0.000033       False  \n",
       "1   2.207920      0.000008       False  \n",
       "2   0.308372      0.000007       False  \n",
       "3   1.739412      0.000006       False  \n",
       "4   6.375429      0.000005       False  \n",
       "5   0.083296      0.000023       False  \n",
       "6   0.250300      0.000023       False  \n",
       "7   0.378950      0.000023       False  \n",
       "8   0.131220      0.000023       False  \n",
       "9   0.223962      0.000024       False  \n",
       "10  0.344778      0.000024       False  \n",
       "11  0.482306      0.000023       False  \n",
       "12  0.389275      0.000024       False  \n",
       "13  0.472078      0.000024       False  \n",
       "14  0.201485      0.000025       False  \n",
       "15  0.150349      0.000024       False  \n",
       "16  0.467892      0.000031       False  \n",
       "17  0.165774      0.000024       False  \n",
       "18  0.170070      0.000024       False  \n",
       "19  0.275301      0.000024       False  \n",
       "20  0.029400      0.000025       False  \n",
       "21  0.097523      0.000024       False  \n",
       "22  0.267107      0.000025       False  \n",
       "23  0.352762      0.000025       False  \n",
       "24  1.077395      0.000024       False  \n",
       "25  0.467705      0.000024       False  \n",
       "26  0.016766      0.000025       False  \n",
       "27  0.241517      0.000024       False  \n",
       "28  0.059880      0.000025       False  \n",
       "29  0.101171      0.000026       False  \n",
       "30  0.119072      0.000024       False  \n",
       "31  0.483820      0.000025       False  \n",
       "32  0.179310      0.000025       False  \n",
       "33  0.190595      0.000025       False  \n",
       "34  0.292518      0.000025       False  \n",
       "35  0.274901      0.000024       False  \n",
       "36  0.263972      0.000025       False  \n",
       "37  0.863600      0.000024       False  \n",
       "38  0.059723      0.000025       False  \n",
       "39  0.172275      0.000025       False  \n",
       "40  0.678823      0.000024       False  \n",
       "41  0.130700      0.000025       False  \n",
       "42  0.056997      0.000025       False  \n",
       "43  0.127440      0.000025       False  \n",
       "44  0.486239      0.000025       False  \n",
       "45  0.380190      0.000025       False  \n",
       "46  0.146542      0.000026       False  \n",
       "47  0.258192      0.000025       False  \n",
       "48  0.262238      0.000026       False  \n",
       "49  0.060376      0.000025       False  \n",
       "50  0.210004      0.000026       False  \n",
       "51  0.107965      0.000026       False  \n",
       "52  0.097238      0.000026       False  \n",
       "53  0.097338      0.000024       False  \n",
       "54  0.185794      0.000027       False  "
      ]
     },
     "execution_count": 3,
     "metadata": {},
     "output_type": "execute_result"
    }
   ],
   "source": [
    "X.generator.data"
   ]
  },
  {
   "cell_type": "markdown",
   "metadata": {
    "collapsed": false
   },
   "source": [
    "## plot results\n"
   ]
  },
  {
   "cell_type": "code",
   "execution_count": 4,
   "metadata": {
    "collapsed": false,
    "execution": {
     "iopub.execute_input": "2024-03-12T21:04:59.060510Z",
     "iopub.status.busy": "2024-03-12T21:04:59.060065Z",
     "iopub.status.idle": "2024-03-12T21:04:59.535960Z",
     "shell.execute_reply": "2024-03-12T21:04:59.535380Z"
    }
   },
   "outputs": [
    {
     "data": {
      "image/png": "[encoded data removed]",
      "text/plain": [
       "<Figure size 640x480 with 1 Axes>"
      ]
     },
     "metadata": {},
     "output_type": "display_data"
    }
   ],
   "source": [
    "import matplotlib.pyplot as plt\n",
    "import numpy as np\n",
    "import pandas as pd\n",
    "\n",
    "fig, ax = plt.subplots()\n",
    "\n",
    "theta = np.linspace(0, np.pi / 2)\n",
    "r = np.sqrt(1 + 0.1 * np.cos(16 * theta))\n",
    "x_1 = r * np.sin(theta)\n",
    "x_2_lower = r * np.cos(theta)\n",
    "x_2_upper = (0.5 - (x_1 - 0.5) ** 2) ** 0.5 + 0.5\n",
    "\n",
    "z = np.zeros_like(x_1)\n",
    "\n",
    "# ax2.plot(x_1, x_2_lower,'r')\n",
    "ax.fill_between(x_1, z, x_2_lower, fc=\"white\")\n",
    "circle = plt.Circle(\n",
    "    (0.5, 0.5), 0.5 ** 0.5, color=\"r\", alpha=0.25, zorder=0, label=\"Valid Region\"\n",
    ")\n",
    "ax.add_patch(circle)\n",
    "history = pd.concat(\n",
    "    [X.data, X.vocs.feasibility_data(X.data)], axis=1, ignore_index=False\n",
    ")\n",
    "\n",
    "\n",
    "ax.plot(*history[[\"x1\", \"x2\"]][history[\"feasible\"]].to_numpy().T, \".C1\")\n",
    "ax.plot(*history[[\"x1\", \"x2\"]][~history[\"feasible\"]].to_numpy().T, \".C2\")\n",
    "\n",
    "ax.set_xlim(0, 3.14)\n",
    "ax.set_ylim(0, 3.14)\n",
    "ax.set_xlabel(\"x1\")\n",
    "ax.set_ylabel(\"x2\")\n",
    "ax.set_aspect(\"equal\")"
   ]
  },
  {
   "cell_type": "markdown",
   "metadata": {
    "collapsed": false
   },
   "source": [
    "### Plot path through input space"
   ]
  },
  {
   "cell_type": "code",
   "execution_count": 5,
   "metadata": {
    "collapsed": false,
    "execution": {
     "iopub.execute_input": "2024-03-12T21:04:59.538528Z",
     "iopub.status.busy": "2024-03-12T21:04:59.538117Z",
     "iopub.status.idle": "2024-03-12T21:04:59.656059Z",
     "shell.execute_reply": "2024-03-12T21:04:59.655478Z"
    }
   },
   "outputs": [
    {
     "data": {
      "image/png": "[encoded data removed]",
      "text/plain": [
       "<Figure size 640x480 with 1 Axes>"
      ]
     },
     "metadata": {},
     "output_type": "display_data"
    }
   ],
   "source": [
    "ax = history.plot(\"x1\", \"x2\")\n",
    "ax.set_ylim(0, 3.14)\n",
    "ax.set_xlim(0, 3.14)\n",
    "ax.set_aspect(\"equal\")"
   ]
  },
  {
   "cell_type": "code",
   "execution_count": 6,
   "metadata": {
    "collapsed": false,
    "execution": {
     "iopub.execute_input": "2024-03-12T21:04:59.658522Z",
     "iopub.status.busy": "2024-03-12T21:04:59.658068Z",
     "iopub.status.idle": "2024-03-12T21:05:04.630734Z",
     "shell.execute_reply": "2024-03-12T21:05:04.630131Z"
    }
   },
   "outputs": [
    {
     "name": "stdout",
     "output_type": "stream",
     "text": [
      "[[0.92860738 0.1417971 ]]\n"
     ]
    },
    {
     "data": {
      "text/plain": [
       "[<matplotlib.lines.Line2D at 0x744c5096ce80>]"
      ]
     },
     "execution_count": 6,
     "metadata": {},
     "output_type": "execute_result"
    },
    {
     "data": {
      "image/png": "[encoded data removed]",
      "text/plain": [
       "<Figure size 800x800 with 2 Axes>"
      ]
     },
     "metadata": {},
     "output_type": "display_data"
    },
    {
     "data": {
      "image/png": "[encoded data removed]",
      "text/plain": [
       "<Figure size 800x800 with 2 Axes>"
      ]
     },
     "metadata": {},
     "output_type": "display_data"
    }
   ],
   "source": [
    "# plot the acquisition function\n",
    "from xopt.generators.bayesian.objectives import feasibility\n",
    "\n",
    "bounds = X.generator.vocs.bounds\n",
    "model = X.generator.model\n",
    "\n",
    "# create mesh\n",
    "n = 100\n",
    "x = torch.linspace(*bounds.T[0], n)\n",
    "y = torch.linspace(*bounds.T[1], n)\n",
    "xx, yy = torch.meshgrid(x, y)\n",
    "pts = torch.hstack([ele.reshape(-1, 1) for ele in (xx, yy)]).double()\n",
    "\n",
    "xx, yy = xx.numpy(), yy.numpy()\n",
    "\n",
    "acq_func = X.generator.get_acquisition(model)\n",
    "with torch.no_grad():\n",
    "    acq_pts = pts.unsqueeze(1)\n",
    "    acq = acq_func(acq_pts)\n",
    "\n",
    "    fig, ax = plt.subplots(figsize=(8,8))\n",
    "    c = ax.pcolor(xx, yy, acq.reshape(n, n), cmap=\"Blues\")\n",
    "    fig.colorbar(c)\n",
    "    ax.set_title(\"Acquisition function\")\n",
    "\n",
    "    ax.plot(*history[[\"x1\", \"x2\"]][history[\"feasible\"]].to_numpy().T, \".C1\")\n",
    "    ax.plot(*history[[\"x1\", \"x2\"]][~history[\"feasible\"]].to_numpy().T, \".C2\")\n",
    "\n",
    "    ax.plot(*history[[\"x1\", \"x2\"]].to_numpy()[-1].T, \"+\")\n",
    "\n",
    "    feas = feasibility(pts.unsqueeze(1), model, X.vocs).flatten()\n",
    "\n",
    "    fig2, ax2 = plt.subplots(figsize=(8,8))\n",
    "    c = ax2.pcolor(xx, yy, feas.reshape(n, n))\n",
    "    fig2.colorbar(c)\n",
    "    ax2.set_title(\"Feasible Region\")\n",
    "\n",
    "candidate = pd.DataFrame(X.generator.generate(1), index=[0])\n",
    "print(candidate[[\"x1\", \"x2\"]].to_numpy())\n",
    "ax.plot(*candidate[[\"x1\", \"x2\"]].to_numpy()[0], \"o\")"
   ]
  }
 ],
 "metadata": {
  "interpreter": {
   "hash": "72034539424920dfb606fe3b820b3f27dca0cbf1c69938110810ec4641e275b1"
  },
  "kernelspec": {
   "display_name": "Python 3 (ipykernel)",
   "language": "python",
   "name": "python3"
  },
  "language_info": {
   "codemirror_mode": {
    "name": "ipython",
    "version": 3
   },
   "file_extension": ".py",
   "mimetype": "text/x-python",
   "name": "python",
   "nbconvert_exporter": "python",
   "pygments_lexer": "ipython3",
   "version": "3.9.18"
  }
 },
 "nbformat": 4,
 "nbformat_minor": 4
}
